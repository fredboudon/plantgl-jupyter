{
 "cells": [
  {
   "cell_type": "code",
   "execution_count": 1,
   "metadata": {},
   "outputs": [],
   "source": [
    "from pgljupyter import SceneWidget\n",
    "from openalea.plantgl.all import *\n",
    "import random"
   ]
  },
  {
   "cell_type": "code",
   "execution_count": 2,
   "metadata": {
    "scrolled": true
   },
   "outputs": [],
   "source": [
    "spheres = []\n",
    "\n",
    "for i in range(255):\n",
    "    x, y, z = [random.choice([-1, 1]) * random.randrange(0, int(255/2)) for i in range(3)]\n",
    "    m = Material(ambient=(x+int(255/2), y+int(255/2), z+int(255/2)), shininess=0.1, diffuse=1)\n",
    "    spheres.append(Shape(Translated(x, y, z, Sphere(random.randrange(1, 20), 20, 20)), m))\n"
   ]
  },
  {
   "cell_type": "code",
   "execution_count": 3,
   "metadata": {},
   "outputs": [
    {
     "data": {
      "application/vnd.jupyter.widget-view+json": {
       "model_id": "5df62ae074894527ae8081916e6322d4",
       "version_major": 2,
       "version_minor": 0
      },
      "text/plain": [
       "SceneWidget(scenes=[{'id': 'jwvhQjdcj7yLa2TuqArjlHDLq', 'data': b'x\\xda}\\x9c\\x0b\\xfc\\xd4S\\xde\\xc7G\\x92[\\x98\\x1…"
      ]
     },
     "metadata": {},
     "output_type": "display_data"
    }
   ],
   "source": [
    "SceneWidget(spheres, size_display=(600, 400), size_world=255)"
   ]
  },
  {
   "cell_type": "code",
   "execution_count": null,
   "metadata": {},
   "outputs": [],
   "source": []
  }
 ],
 "metadata": {
  "kernelspec": {
   "display_name": "Python 3",
   "language": "python",
   "name": "python3"
  },
  "language_info": {
   "codemirror_mode": {
    "name": "ipython",
    "version": 3
   },
   "file_extension": ".py",
   "mimetype": "text/x-python",
   "name": "python",
   "nbconvert_exporter": "python",
   "pygments_lexer": "ipython3",
   "version": "3.8.5"
  },
  "widgets": {
   "application/vnd.jupyter.widget-state+json": {
    "state": {
     "5df62ae074894527ae8081916e6322d4": {
      "buffers": [
       {
        "data": "eNp9nAv81FPex0eSW5gZsaQng5bQ2vO7n9+K5j/EH8lQVjzRP0SezRrJZYkGbZJiNiQ9aFxK5bIjJAoz4/K0CfPYJIkd103C3z3h5fl+Z4b/95zf+T55zb7y3933nP853/P5Xs73nH3OPHrwCcfHYqn0Tjuk9ttvn+6xWKzbNrFhY0fnxvwMf996u9jxoyeMGX/e6HH4r317xIblxo4Z3/jvUjvEho8f/eeLxsH/4Gz8wT74H932iQ1rb8sOPubIUZZle8KVvitGha4V2F4QhFIEjp9+d+cjfoY/qVjrT79MLPZlNRZ7ptr3lx/F8oN69dq6+dcBC3qk8Acvr1p1mMp3QyEcu4svHdu1/PqdPVX+EuCvg0+80sUvprv46zZdYuRbQWhZruf/whfSdTzPLn5/d0bhZ4G9HXy+peNv6+I/end3bvyOgDF3jd+3Q1vGd9tJHf80mJuV8Hk+08WPkfH/ofe7Zr4Hw4cl+IUvhetbrluu76LyJYy9o03l58j4H5rB8N3AETZZX9+3HcfPb7ODyt8D5wfGnyLzUybjn3f6KQxf2sILfp3/IPBsP7A7ztlR5T8M7D3gk24zz0//U28wr6/l+tK23Rbfd92GOZUXDFLXNw/jr1fwb2b+s2dN4sbvBLbomp/AD+3Qz96vjf9bGHsMPmeT+UkTfvdRR5n5li/DwPrVflzftqSQueJb6vjxz0r4HRbQ+SHrO+mDWzj7lJ5D5j+0AjewUxs1++wOYx8CnxXEfrKEf8aQ9zn7hOkO/S779F0rtNMHxKP28x7wc1Xz+OftfAQ7fknsPwhtAfZf+Fob/5HV5h7IEr4g/KEPHWe2HzBP3wt/nX/LcqQvZf7y+er8rwb2K/AdEwg/Rfgf4y9oth8RgOB02Y8T+q7MO5r9zIL/+8PwiWXM41+5Zi7Hl6DJbpf+gLFKUTpf08/HgD0fxv8RMz9vDujJrK/w7ICMH74L/sl+oen/pgyyY7GlVbP+fNNzP85+gEftRwpYjuy5mv3U07HYcviOctnsX6a8/ReWH1rCJXwLZqh0nsZfX21qxDhGPxPPPsXzyf5FPnzi4zT+RGC3w2cp8V95og/PPDKW43siDOj8OCKwYxdq/A2g/bPhd1iTMe+vO5yNLN/yJJ0fx5ei4yKNf1mmqQ9bqmb/+/SQbizftkI6P64tZflijT8F2APgO8ZmzPo5cNGTPF926TPyZeinLtP4+XIsdg98Rzxj9u9XHHIvy3dcQfyv9CAkyl+u8ctgn51tuM+6+LMJ/693vsnyXWHR9fXhp/WJGn8CzM0I1Dei/wXCX/74dJ7v23R9wf2K9CSNPw7YqQxqQhe/g/Cfun8ay/dsh65v4NiyeLXGj8HcfAD8F5n46rov+rD+JQyo/QSWlDI7WONj7IM+YBGZ/zjhzxi6mt2/wqX2E4DL8UtHa3zU5kUaP034aw7i+Zag9hM4IEfxYzV+J/DXtuGcmPfvd3Nu4vk+tZ/AATnKDdH4Y4H/Doy/D6P/T8ZHsHzbpvYTuODwa0M1vqg099cSRj8nHLKO50tqP4EL8bM4UeOjtuEa5DJm/+usWcbyHdel6+t5jl8YpvEHAH9qI0bp4teJ/gx/bmeWr8bnAcbnnSdr/LOBPR2+Y3PGHD8vDX/g+b5H19cHd5wdoesP2M60jMqn9nnb8zwfInK6vpDeidJphv2bgo8g8zOV7t/rh/F8GdD1DUJfxk/X+JhbYP64kYl/Tu/xNcuHeIqur4R0IzfKYP/vwcetmuPbJztPYvmQNNL1DS3p1kZr/Adh7IUq+kTz/j0wmMzzfRr/BCh34myNH6+gNqCmme3/kpumcnzIKYj+WMIPhJt9WeNvhLHfgSFsxWz/O7x8AcsHB+8TPgicXXpV97+Vpn+k8Q+d/wvuHMvzJdEf4MP0xF/T+F9mmhq0nNlfmye8zfJ9l+iPBQ7elrnVGn9zprm+XHz1Q8DGVwHMtyD80HL82hpDftQHPiOr5vhh3vx2nu+7dH3DABTpTX3/ArsE819m4pO5t/6L5Uub6I9lCcezC2/p+wvmpor5e9kcnwzuO5HnS6I/wA990fm2xi81ckf0kWb9OeCIOSw/dIn+QMrn+TJb1/jFDI4d8t828/y8OnE2x5eYcBG+DRZVek/jDwf+BrDP7hlzfPXYmUWe7xP9gR8F0o1/qPHvQvtEfWbyi1f+NoHlW3ZI19dxQjv3bz0+b/mvdqa+Vw2P5/mhoOsL0Zaofaz7R2A/VsU6mTn+P+q3f2D58KHri3InNml8zB3n4xq0mePPt1+7g+WDntH1RbkrfKbxXwN2Txh//4w5P9owciHPD2y6vih3nZ26/WNuijFQ1by+bxzZn+W7jkPXF+Uu+5XGX4q+q6LmL3T+9/vTmzw/dOn6otyVvolH63ub27BGZraf/neNYvkeqZ8gH+Quvtmgn7dgDY7xv/O8q1k+hM90fVHuclvi0foz1vhurJrzi3XdJc8PfLq+KHe1Hw36/FRV1Qcav83dl9eHgNT3gI9yJ37W46tGbQx+B8Z/3X3cFp5P6kuN6okUha0SKt+tNvOj/LNm/T/poKtYviT1N+SD3HVurfHvaekPja/o/NRCNr6SIanfAh/lLttD489s+fdOJv9aEdzJ8yWNr2yUu9J2iaj+1DJqfELt5+1/s/EJ4Gh8ZaPcxXdMRO0f87tSm3l/zYvfyvItQeMrG+Uut5PG/6xV37uG0Z9vex7O830aX9kod7VdEtH8DteA2g/VH2cFaz+hbdP4yka5E0mN3wn8GsbQzP7adsyzPF/S+MpGuSv00vhbsH6CNXRG/388ZTHLBzJdX98O7PKeGn8x1gcwx6iYx7921/N5fqDsX9heItVH4zdrDzhP5vhkzk3bsnzPUfZv4EqZ76vx8Q/Gt6uY/H3S/A9Zvi+U/SshQKynEtHzF4zf6PkOzV+6T5zE85X8yJbgwNL7afw5rfptqWLWt1WPnMfyAyU/skPYYMXfavw8jH9TVY1PqD4M2v4Onq/kR3YIehfrr/FfbMQmEB8y9tln4QMsXyr5kSMgP+o4SOOLRm4Xi/Vj6ifTxv6R5YdKfuRABOqXB2j81Zkmn+o/ze8+HjuZ5yv5kQMJsZv6vT7/bc356cPkjzctnM/wwbko+ZFjQ36UtzR+DthHZlCnzfnvstI8nq/kRw64L1F3NP5wPLuD3+FFZn2Pnf0ey7eU/MhxID9K+xq/vXW+nE+b/csjM65l+baSHzkod0Wp8e+C8a/D/Jqpz4hkL56v5EcOyl3s0EQ0f1yfwY9Zfw749FOW7yj5kYNy13GYxt9cacbo+bJ5/3a8cQVrn45L7cfGcLdzd42/Csb/WSPHNvvHPbfry45fqR/C5go8u5RJROtXS2F9pzPzc+CsF1i+Uj+0HKwfxgdr/C8baws+mIkfevT6Dc+Xin1i/TB3tMZ/rdqsYbUz/RW77/AIy1fqh5aD9cPaMRq/3taco+2Y+OG/D7yb5Sv1Q8vB+qEYovFReyZn1PyF+t+Flat5vq/YJ9YPC0P1+LbRmwPzz9QP/dTtLF86NH9vHJd0ZjV+qpEbgQZVzPWZU+Q5PD+k+XvjuCQ7LBGtb8+pok8x12dus6ew/NCj+XvjuKR0ssZH24xV1PyU+vdel3L5qW0Ji+bvjeOS+IhE9HwHfVhnxVzf/u7j0Tw/oPl747gkd5quP22YO6r9OTR/uat4CssHyaTri8cltZGJ6PkX1g9nMvq85laf54c0f28cl4hRenzb6K1AnTDr5/6ZHiwf3C9dX5S7wmiN/0pj7tXzEXo+9dHoH1i+Y9H8vXFc0nlWIlr/xPg8xdRPBu96P88PaPzfOC7JnqPxJ1ebNab7qmb9OWzD71i+69D4v3FcUhqrx+fp5v5ymfz0avtB3j8q9T0Hw/XyoES0Pj9Bz19ofT5zPjt+T8mv3QC+Lv1njf9Uq/7DnZ+u925i+b6j6IMEhUjnNP6P1eb5+FKm/2er+/fj+VIq/DDwc+P1/LdR+1f7u+j+eqn9FpaPCRfhh550axMM8VX8/6kPi6kTWL6k/V2WJyAjFpcmoueb11TV80Gqn0sPH8bzA2o/HkSLovAXjf9etalv/ZnzwZ2LC1k+JlyEDx5Mdl6h+5dKs39vKlMfO3fUczw/pPaDAbWfvUrjY26K/nE9E/9MlAmOjwGWpHzfdkt5jV9MN3ukZmXM+dfkKStZPiZchA8JjB2/NhGtz6/U+gOp/z2q9/s8P6D+xQM1Erm/GvJT1LcFGXP80GfDP1k+JlyE77qurF2n12ewPlBR42c6P90u6svzQ+pfPE+Av5lmqJ/g/p3F1LfntLssHxMuyvd9tzA9Ee3/SWfwHMZsn8v/XmX5an3Jw/pS5416/vss9kap/Yd0/q+6dy7PV+pLHspd9m8af1bLfmj/JI3P3d4Zlq/WlzyUu9LNhvptPo1rbPZfK669iOWr9SUP5S4+S99fbc3x38Lsr5t7/4PnK/UlD+UuN5upT3Zn4odtxxR5/x7S+Wm0K8T/pPGvaeReYKNMfeDw3yxhxy+V/N0XYE7iLo2PtQc8I6T6Q/V/dpXXH6mc3/kCpqs+NxE9X5uvxSeUv2EAG5/YoRK/+RbEb7l7DPHDHcAfwcRX661jeL4Sv/ngz+zafbo+VJv1E5of0f276ww2P3KEEr/52FIs7tfzL+z/1PIXmj9eP24Uz1fsx3fAfgoLNf6GTLM/pMTkF1+9fADLhyWl9uNAutr5gMavVn/RCHP809ftzfLBQ9L1dSFdzT6s8ec3et9isXcyZn0eMOIzni9p/dZ3IV0tlfT4AdgDtfifzv/eWTb+dxyX1m99DyKI+KP6+VrrfGcDU994MP4Vy3cFrd/6sAFk7nFDfL68qvaH0Phk8z7/4vk+rd/6PqSrtSc0/rjW+g5k+j+PdLMs37Np/RbwkEI+pe/fln/5mvFf+/b+nudLWh/zA0hXC8s1fke1WWOqMvN/9O51lu+7tD7mw7eJzmf0/KJ1v+YyZv5/Ov1plh8IWh/zUe6yFcP5II7/M8Y+5+3+Lc/3Ff1HuSs9Z6gvYY/gVKZ/xr+uwPKlTfOXAOUu/mIi2n+I9cnVXP/wrN14vqT5S4Byl1uRiN5/yQ9S82s6/jPybH7thB7NXwKUu9pKjY+1beyP/YjpP08e8iXHd4VF/WOAcideNtgPxj8TmfsXP12bZv2Xej7lYbpUm5OI3o/AHGkqY5+Jc5/j+cr5lIfpkrgzEe1v7N64Y2PO7y4p7sHOj63OjwvzE3s9Eb0fJDJYwzXn70MfOJDnBzS/g/DT8jveSETvv2B97xmmvvTNx++wfMeh+V3ggTsov6n7r0yzhjiTqT+/9t0Knh/S/A6CN8dOrdfPT1v1hyoz/1va2fzIdT2a3wWQvoj8O4b4BO9Y1pj+vesfZevPLl7xIPwA3EG9rvGXVJv9ddz9zX5nduf5Ac3vggAEOv1+Inp/pArjX8Hsryvqe7F8iHjo+kpwB8UPE9H+nAna/Vmqz3dnUjyf3g+yghDvB20wnE+hf6yXzevb0fsylh/Q+0EWHr+Ijo16faParD/Umfr2CVPOYvmS3g+ypMD7QZsM57+yqs4/9b8fn8jPv6T3g/B2VuinPtf4z+P90Izqv+j+evdz1n+5Ib0fZGEFy81/YYhPnm/0IJrHv++7r3F8T9D7QZZEuat/ZajvoT7MYurn4juX59P7QcDH+0Hf6v630sxRxzL576XbPsnyLXo/yJIod8XNhv4QjNHLTP/SpAG38XxJ40+Jchf7QeP3avUvTWHuL9/XcyDLB4Wj64ty1/GTxs9WmvcLaH8Cza/Hd05m+Y6g8adEuSv/nIj2Z0q9/kP7Mx+q8nyfxp94vClS3ZLR+gnW+JYw+d2Ko/qxfHSQhI9yl++ejN5Px/OjIrO+D916M89X6ucS5a7eQ+Pj2wBY44sx5++bul3J8j2lfi5R7tLbJ6Pnm1MxvmXy01MKh/Lxmxo/YDpZeFVb32btAevoZvuxjlnK8i01fsB0svN/E9H7s0MaMbp5/FOGXMfOT6Dk76CeoZ9PJKPx+Qatvk3n/7od2fq2J5X+2xDbaUq7JqP1sWwbnuOZ9++20z/i+Ur/bYjtNPHdNT7WhldU1PyI+q+LzmHzIwiYqf8NsZ0mt4fGx9rD/CpfnxkxYBTPV/pvQwz/a72T0f6QdJva30jnZ88buP5G2xdK/23YaBD8j2Q0Po+VVf9Fx3/Jlaz/8i2l/zbEdprC3vr8g32ubdQ4zPZ/zSdxnq+cD4Z4HNm5TzLaP4kxCpffrT2Bze98W+m/DSEetbP9NP6NeHaBEszo54sHD2L5jtJ/GwJelPZPRutj9SqO2Zy/9N1lJs9X+m9DDxQofmAyWv/s2ejxMs//+ntmsHxX6b8Nfcfxcwcno/3hU3EPM+e/Jx06nucr/bcgP65b+53G78D9q90PpfZ/4fvLWL6n9F+F+FyDEBp/dlvzjZstjP3PXPAjy/cF9b8hyl3B1vgrWvdPOfvc6znePn2f+t8Q5a7TTUb75zc3ekzN+Xtt6+1ZPtgLXV+Uu2yQjN6PwBrig8z8r9v8Os+X1P+GKHelUNeHtub7DGWmP+2GZ9n6pK+8LwFLC3IXH6jxh1Rbd0SZ/HHIkzuzfOV9CVug3OUOT0b7J7do99fo/nqk2xyeT9+XAD7IXS2djOa/eH79NXO+2W/UNhw/oO8vAR/lThyRjN7vXqytL+VPWPs6zw9JfGILlLvCYI2PtbcFWn5H7Sd/MJvfBZbn0PVFues8OhntX8Icvszk72uu2Jvl25ZL1xflLnusxn8Q6yf6+x4kvn19yVieT95XQT7IXWmIbp+ZZgz0FGP/i7ddz8YPvtK/IdHFF3fU+BOrTQ36kbGf9F5b8Xylf0Niuh3bWdfnTCuOYNb3iUn/yc6PK5X964ewf09ORs+v8Yx8DRM/X7V8I8tX9N9uPNeTPkXjr6423wioMfHtbsPZ/tVA0X+I3mB7FU/V+CNb75sNZ+LDJZuO5flU/4EP+h8bafDvi7X3o6j/Xb+W7S8KFP23Bep/xxkaH+8+PtO4w2au7418Z1+eT/Uf+KD/5Q5D/ogxYif3vtk137F8Vf8t1P/UWRofe28x/h/JzH/lnHaWr+q/hfqfH6PxMXcsoP9i9KHwP+fyfEX/LdT/+rnJaP0BfXwvZv+Or53G8aWq/xbqf/q/dH7rfR6u/+G4Rf/g+Yr+W6j/xXEav9bqXy0w/TO3FwOWr+q/hfofu8CQf2GP6UjGPkfsz66vVPXfQv3vuFDj98P++UYPojm//uNbHs9X9B8bEGX5omT0ftACrT5M7X/QwWx9WOJ9OMJHuUtdovFx72J8u5iZn3cW7M/zQ5+uL8pd/jKDPpe0++NU/6864HiW75L3A5EPcle/XOMXW/0VS5n4/Pcz3mL5WEAkfJS79JUaf02mmf/mmPOvjVcu4/n0/SIb3zuQxUkavxH7VNCnm+t7B59zPcv36ftFNt7H9mPXJKP9dWsr6vkpnf8+Z7PnpzKg7xfZeF/U7Zis8fFuzbSMWv+n/vHT58/i+fT9IuCD3JWnJKP9saWK+j4kzY9eOu8Gli/p+0U23ucRqes1PvYO5xpnAGb/6C37nOfT94uAD3KXv0HjT2/xBVN/C5dNY/khfb/ItlHu6jOS0fsF2GMqmPtB301k+29DQd8vsm2Uu3QhGb1fs0qLT2j/1e4fHsvz6f0j4IPcFWcmo/3VeAc+x7zvutXcHMu36P0jG58vFbFbk9H36+5ovCFlnp+nrTU8n94/Aj7IXcdtGn9Rpnn/awDTP7/6jUUs36b3j+zGeWT5dj0+rDbfyMsx8UP7QHZ+AlX/Bep//ATD/prZqDGZ84uX/F14vqL/AvU/d6Lu3yvNHJiej1D/NeaRyXz8r+i/QP2vDdP4X2ea97PqTP32+wPZ/Rsq/UVgno7rFu5LRvt78fyX1t/o+OfUZ/J8er6M7RCeX5ivny9Umj2UGxn7uXj21yzfp/XJZjtlaqFeP8k0348dwdQ3/v4B298YBkLRT9hvIv+AwT7j2v0mOj/t947m+b6inyE44PpDGn+P1vtvezD+69Q1p7J8SeuT2E7p+OmSoT6A96+nM/Htmu1f4Pm0PontlK5bXJyMvi+He4z2J9P4ZPhLbH9yGCr5qYMPLsYeT0bPl1EfUhXz+u478GKG7wih5KcORnAdTxjic6yRLWDy69uH/JPnK/mpAwmrLD+ZjN4fWam930v1Z+kHx7F8S8lPHQfy09Ryjf9BtWmj3Pru1P4Cz1fyU8eB/DT/TDLa/4w+ZhUz/tlP78nybSU/dVzIT+tljZ9ra9ZYNzH798Z127N8R8lPHaxup5/T9S3TrP+MYOq3n+z1OM9X8lMHr2sVX0hG338boL3vQef/gkVXsXxXyU8dlLvYCo3fv/V+SJY5Pzp5BW8/rpKfOih3HSsN83OPdr5A/e8ntWUs31PyUwflrrwqGe0/xB61dbr/2jvWls2yKBD/3EvJIwacMXTTL1//f28iTMk=",
        "encoding": "base64",
        "path": [
         "scenes",
         0,
         "data"
        ]
       }
      ],
      "model_module": "pgljupyter",
      "model_module_version": "^0.1.18",
      "model_name": "SceneWidgetModel",
      "state": {
       "_model_module_version": "^0.1.18",
       "_view_module_version": "^0.1.18",
       "axes_helper": false,
       "layout": "IPY_MODEL_acf1fb310a74408b883b92d93f7f61ea",
       "light_helper": false,
       "plane": true,
       "scenes": [
        {
         "id": "jwvhQjdcj7yLa2TuqArjlHDLq",
         "position": [
          0,
          0,
          0
         ],
         "scale": 1,
         "scene": "<openalea.plantgl.scenegraph._pglsg.Scene object at 0x7f58f78ba5b0>"
        }
       ],
       "size_display": [
        600,
        400
       ],
       "size_world": 255
      }
     },
     "606b5f0d7dab4911997ad508a55f3116": {
      "model_module": "@jupyter-widgets/base",
      "model_module_version": "1.2.0",
      "model_name": "LayoutModel",
      "state": {}
     },
     "acf1fb310a74408b883b92d93f7f61ea": {
      "model_module": "@jupyter-widgets/base",
      "model_module_version": "1.2.0",
      "model_name": "LayoutModel",
      "state": {}
     },
     "d03e52ce7a694fc19da1c4c3c97e30dd": {
      "model_module": "pgljupyter",
      "model_module_version": "^0.1.18",
      "model_name": "SceneWidgetModel",
      "state": {
       "_model_module_version": "^0.1.18",
       "_view_module_version": "^0.1.18",
       "axes_helper": false,
       "layout": "IPY_MODEL_606b5f0d7dab4911997ad508a55f3116",
       "light_helper": false,
       "plane": true,
       "size_display": [
        600,
        400
       ],
       "size_world": 255
      }
     }
    },
    "version_major": 2,
    "version_minor": 0
   }
  }
 },
 "nbformat": 4,
 "nbformat_minor": 4
}
