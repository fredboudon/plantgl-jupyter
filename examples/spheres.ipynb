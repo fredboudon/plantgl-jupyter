{
 "cells": [
  {
   "cell_type": "code",
   "execution_count": 6,
   "metadata": {},
   "outputs": [],
   "source": [
    "from pgljupyter import SceneWidget\n",
    "from openalea.plantgl.all import *"
   ]
  },
  {
   "cell_type": "code",
   "execution_count": 7,
   "metadata": {
    "scrolled": true
   },
   "outputs": [],
   "source": [
    "# no instances\n",
    "sw = SceneWidget(size_display=(600, 400), size_world=(255, 255, 255))\n",
    "import random\n",
    "for i in range(255):\n",
    "    x, y, z = [random.choice([-1, 1]) * random.randrange(0, int(255/2)) for i in range(3)]\n",
    "    m = Material(ambient=(x+int(255/2), y+int(255/2), z+int(255/2)))\n",
    "    sw.add(Shape(Sphere(random.randrange(1, 20), 20, 20), m), (x, y, z))"
   ]
  },
  {
   "cell_type": "code",
   "execution_count": 8,
   "metadata": {},
   "outputs": [
    {
     "data": {
      "application/vnd.jupyter.widget-view+json": {
       "model_id": "cd5a4c7bbdab4c1488220659df7721e2",
       "version_major": 2,
       "version_minor": 0
      },
      "text/plain": [
       "SceneWidget(scene={'drc': <memory at 0x7fef4ec5fb88>, 'offsets': [], 'scene': <openalea.plantgl.scenegraph._pg…"
      ]
     },
     "metadata": {},
     "output_type": "display_data"
    }
   ],
   "source": [
    "sw"
   ]
  },
  {
   "cell_type": "code",
   "execution_count": 4,
   "metadata": {},
   "outputs": [],
   "source": [
    "# with instances\n",
    "import random\n",
    "sphere = Sphere(1, 20, 20)\n",
    "spheres = [Shape(sphere, Material(Color3(200, 0, 0)))]\n",
    "for i in range(255):\n",
    "    x, y, z = [random.choice([-1, 1]) * random.randrange(0, int(255/2)) for i in range(3)]\n",
    "    scale = random.randrange(1, 20)\n",
    "    m = Material(ambient=(x+int(255/2), y+int(255/2), z+int(255/2)))\n",
    "    spheres.append(Shape(Translated(x, y, z, Scaled(scale, sphere)), m))\n",
    "sw_instances = SceneWidget(spheres, size_display=(600, 400), size_world=(255, 255, 255))"
   ]
  },
  {
   "cell_type": "code",
   "execution_count": 5,
   "metadata": {},
   "outputs": [
    {
     "data": {
      "application/vnd.jupyter.widget-view+json": {
       "model_id": "29a933f2ba004d9cb4a1d158ad29a2eb",
       "version_major": 2,
       "version_minor": 0
      },
      "text/plain": [
       "SceneWidget(scene={'drc': <memory at 0x7fef4ec5fac8>, 'offsets': [0], 'scene': <openalea.plantgl.scenegraph._p…"
      ]
     },
     "metadata": {},
     "output_type": "display_data"
    }
   ],
   "source": [
    "sw_instances"
   ]
  },
  {
   "cell_type": "code",
   "execution_count": null,
   "metadata": {},
   "outputs": [],
   "source": []
  }
 ],
 "metadata": {
  "kernelspec": {
   "display_name": "Python 3",
   "language": "python",
   "name": "python3"
  },
  "language_info": {
   "codemirror_mode": {
    "name": "ipython",
    "version": 3
   },
   "file_extension": ".py",
   "mimetype": "text/x-python",
   "name": "python",
   "nbconvert_exporter": "python",
   "pygments_lexer": "ipython3",
   "version": "3.7.3"
  },
  "widgets": {
   "application/vnd.jupyter.widget-state+json": {
    "state": {
     "0691989d9ec3421497a85f9a1e544dff": {
      "model_module": "pgljupyter",
      "model_module_version": "^0.1.0-alpha",
      "model_name": "SceneWidgetModel",
      "state": {
       "_model_module_version": "^0.1.0-alpha",
       "_view_module_version": "^0.1.0-alpha",
       "axes_helper": false,
       "layout": "IPY_MODEL_b4a25ac6a3b44b5f88fe79378e904906",
       "light_helper": false,
       "plane": true,
       "scene_02DDbb0PEzPwYP41U9N1TmLpK": {
        "drc": {},
        "offsets": [
         0
        ],
        "position": [
         -108,
         -18,
         5
        ],
        "scale": 1,
        "scene": "<openalea.plantgl.scenegraph._pglsg.Scene object at 0x7fccb1f77768>"
       },
       "scene_065unr41DOprZb8ETcytkxnEG": {
        "drc": {},
        "offsets": [
         0
        ],
        "position": [
         81,
         19,
         108
        ],
        "scale": 1,
        "scene": "<openalea.plantgl.scenegraph._pglsg.Scene object at 0x7fccb2328dc0>"
       },
       "scene_0943ueprrzz5i4X6Ul18lKEvi": {
        "drc": {},
        "offsets": [
         0
        ],
        "position": [
         -121,
         -49,
         104
        ],
        "scale": 1,
        "scene": "<openalea.plantgl.scenegraph._pglsg.Scene object at 0x7fccb1fd1068>"
       },
       "scene_0GJaVHzkAr2dnOsWeCfF4YNRw": {
        "drc": {},
        "offsets": [
         0
        ],
        "position": [
         -19,
         -18,
         47
        ],
        "scale": 1,
        "scene": "<openalea.plantgl.scenegraph._pglsg.Scene object at 0x7fccb2253500>"
       },
       "scene_0icpMDIC0NAZBiIZyjtcnlVbt": {
        "drc": {},
        "offsets": [
         0
        ],
        "position": [
         -21,
         114,
         -106
        ],
        "scale": 1,
        "scene": "<openalea.plantgl.scenegraph._pglsg.Scene object at 0x7fccb212bb90>"
       },
       "scene_0xqFkdEykFvDoburyOF7mxR2P": {
        "drc": {},
        "offsets": [
         0
        ],
        "position": [
         82,
         -12,
         11
        ],
        "scale": 1,
        "scene": "<openalea.plantgl.scenegraph._pglsg.Scene object at 0x7fccb2273928>"
       },
       "scene_1EnolyDTbFQiMrDY6yoigAcnO": {
        "drc": {},
        "offsets": [
         0
        ],
        "position": [
         66,
         20,
         25
        ],
        "scale": 1,
        "scene": "<openalea.plantgl.scenegraph._pglsg.Scene object at 0x7fccb1ea9030>"
       },
       "scene_1f005nzJNggrONpwcdOiMIopX": {
        "drc": {},
        "offsets": [
         0
        ],
        "position": [
         -1,
         112,
         51
        ],
        "scale": 1,
        "scene": "<openalea.plantgl.scenegraph._pglsg.Scene object at 0x7fccb1eb8260>"
       },
       "scene_1i5TG9WTqBjg2HRyVFkt5ZDkT": {
        "drc": {},
        "offsets": [
         0
        ],
        "position": [
         -54,
         73,
         -115
        ],
        "scale": 1,
        "scene": "<openalea.plantgl.scenegraph._pglsg.Scene object at 0x7fccb1f0d8b8>"
       },
       "scene_1jk76S75l6gJpHmMmimrKiRvp": {
        "drc": {},
        "offsets": [
         0
        ],
        "position": [
         -14,
         -64,
         -46
        ],
        "scale": 1,
        "scene": "<openalea.plantgl.scenegraph._pglsg.Scene object at 0x7fccb1f77df8>"
       },
       "scene_25XW1ui90H5EDHtmJlPddl1Td": {
        "drc": {},
        "offsets": [
         0
        ],
        "position": [
         16,
         59,
         103
        ],
        "scale": 1,
        "scene": "<openalea.plantgl.scenegraph._pglsg.Scene object at 0x7fccb1ee0ea0>"
       },
       "scene_2mWM8Mk4iWbHZBhEP9M9ErKf8": {
        "drc": {},
        "offsets": [
         0
        ],
        "position": [
         100,
         -71,
         40
        ],
        "scale": 1,
        "scene": "<openalea.plantgl.scenegraph._pglsg.Scene object at 0x7fccb1de65e0>"
       },
       "scene_2pC2u3cUHt2yIvCRq7cCl2EkV": {
        "drc": {},
        "offsets": [
         0
        ],
        "position": [
         -55,
         -90,
         44
        ],
        "scale": 1,
        "scene": "<openalea.plantgl.scenegraph._pglsg.Scene object at 0x7fccb1ed5ca8>"
       },
       "scene_346hTZ3KMzmm4S1MBQdDYrQoU": {
        "drc": {},
        "offsets": [
         0
        ],
        "position": [
         55,
         51,
         114
        ],
        "scale": 1,
        "scene": "<openalea.plantgl.scenegraph._pglsg.Scene object at 0x7fccb211b848>"
       },
       "scene_3IDNATlJJDWoJ459PIG9YS2xs": {
        "drc": {},
        "offsets": [
         0
        ],
        "position": [
         84,
         -20,
         48
        ],
        "scale": 1,
        "scene": "<openalea.plantgl.scenegraph._pglsg.Scene object at 0x7fccb1f54500>"
       },
       "scene_3LMOAblAbuebWOEg2MWgQkQZF": {
        "drc": {},
        "offsets": [
         0
        ],
        "position": [
         -53,
         38,
         -64
        ],
        "scale": 1,
        "scene": "<openalea.plantgl.scenegraph._pglsg.Scene object at 0x7fccb1efe308>"
       },
       "scene_3NR6PRjabZQncK29s6LIgJTzW": {
        "drc": {},
        "offsets": [
         0
        ],
        "position": [
         1,
         -54,
         126
        ],
        "scale": 1,
        "scene": "<openalea.plantgl.scenegraph._pglsg.Scene object at 0x7fccb1eb8ca8>"
       },
       "scene_45q5mFNwx4zrly9th26TLqNDv": {
        "drc": {},
        "offsets": [
         0
        ],
        "position": [
         72,
         -95,
         -118
        ],
        "scale": 1,
        "scene": "<openalea.plantgl.scenegraph._pglsg.Scene object at 0x7fccb1f65228>"
       },
       "scene_4AxSjqofLaYCxVNzVmZ4UWvTl": {
        "drc": {},
        "offsets": [
         0
        ],
        "position": [
         34,
         -56,
         116
        ],
        "scale": 1,
        "scene": "<openalea.plantgl.scenegraph._pglsg.Scene object at 0x7fccb1f0df48>"
       },
       "scene_4UHQ5mM91K0roAiE1QJGIXruf": {
        "drc": {},
        "offsets": [
         0
        ],
        "position": [
         -6,
         23,
         29
        ],
        "scale": 1,
        "scene": "<openalea.plantgl.scenegraph._pglsg.Scene object at 0x7fccb1f8d298>"
       },
       "scene_5CKHwxQDxiCeGh2n6AlViHF6u": {
        "drc": {},
        "offsets": [
         0
        ],
        "position": [
         -117,
         47,
         -21
        ],
        "scale": 1,
        "scene": "<openalea.plantgl.scenegraph._pglsg.Scene object at 0x7fccb1e8ace0>"
       },
       "scene_5Ou6RuCxqq939Mm2dzmhe2OTQ": {
        "drc": {},
        "offsets": [
         0
        ],
        "position": [
         63,
         -113,
         -111
        ],
        "scale": 1,
        "scene": "<openalea.plantgl.scenegraph._pglsg.Scene object at 0x7fccb22d8340>"
       },
       "scene_5gEIVjFKxLU2yEPuJHaqi2rrh": {
        "drc": {},
        "offsets": [
         0
        ],
        "position": [
         25,
         -5,
         16
        ],
        "scale": 1,
        "scene": "<openalea.plantgl.scenegraph._pglsg.Scene object at 0x7fccb1f8d928>"
       },
       "scene_5ri8bLTIvhm0rwEYeZ3ABlBPD": {
        "drc": {},
        "offsets": [
         0
        ],
        "position": [
         72,
         -58,
         105
        ],
        "scale": 1,
        "scene": "<openalea.plantgl.scenegraph._pglsg.Scene object at 0x7fccb1e15378>"
       },
       "scene_5xgpJqXUZnmEKCwpqFKvDTMg4": {
        "drc": {},
        "offsets": [
         0
        ],
        "position": [
         48,
         63,
         -77
        ],
        "scale": 1,
        "scene": "<openalea.plantgl.scenegraph._pglsg.Scene object at 0x7fccb200d458>"
       },
       "scene_62pMdt7EA5wxtBrCGQQP9ymjO": {
        "drc": {},
        "offsets": [
         0
        ],
        "position": [
         104,
         123,
         41
        ],
        "scale": 1,
        "scene": "<openalea.plantgl.scenegraph._pglsg.Scene object at 0x7fccb1e05fb8>"
       },
       "scene_6KM0WADXJDogjLrYNPQsnyDgZ": {
        "drc": {},
        "offsets": [
         0
        ],
        "position": [
         -125,
         27,
         94
        ],
        "scale": 1,
        "scene": "<openalea.plantgl.scenegraph._pglsg.Scene object at 0x7fccb1f8d148>"
       },
       "scene_6XV3NMmeJjDXXzAvUZ6IXmRb3": {
        "drc": {},
        "offsets": [
         0
        ],
        "position": [
         25,
         -115,
         -122
        ],
        "scale": 1,
        "scene": "<openalea.plantgl.scenegraph._pglsg.Scene object at 0x7fccb1f341b8>"
       },
       "scene_6hlb75UMqN1A7X9EbHdJONHSW": {
        "drc": {},
        "offsets": [
         0
        ],
        "position": [
         27,
         76,
         -54
        ],
        "scale": 1,
        "scene": "<openalea.plantgl.scenegraph._pglsg.Scene object at 0x7fccb207e1f0>"
       },
       "scene_6pY5hTpi2qnHkWErhFqHKzthA": {
        "drc": {},
        "offsets": [
         0
        ],
        "position": [
         -8,
         92,
         20
        ],
        "scale": 1,
        "scene": "<openalea.plantgl.scenegraph._pglsg.Scene object at 0x7fccb204b538>"
       },
       "scene_70kZhvs4dBCFWFiL33aRVnz7b": {
        "drc": {},
        "offsets": [
         0
        ],
        "position": [
         27,
         -78,
         58
        ],
        "scale": 1,
        "scene": "<openalea.plantgl.scenegraph._pglsg.Scene object at 0x7fccb1e7dea0>"
       },
       "scene_7P1yAblz3peggrwKrMdfsAgBi": {
        "drc": {},
        "offsets": [
         0
        ],
        "position": [
         -55,
         18,
         -83
        ],
        "scale": 1,
        "scene": "<openalea.plantgl.scenegraph._pglsg.Scene object at 0x7fccb204bfb8>"
       },
       "scene_7yz7PjEAuFjSy20BTARVytp4q": {
        "drc": {},
        "offsets": [
         0
        ],
        "position": [
         13,
         -123,
         31
        ],
        "scale": 1,
        "scene": "<openalea.plantgl.scenegraph._pglsg.Scene object at 0x7fccb1f65df8>"
       },
       "scene_8FSgWo52NeYmhc5Mk26FwRjtx": {
        "drc": {},
        "offsets": [
         0
        ],
        "position": [
         14,
         -16,
         -64
        ],
        "scale": 1,
        "scene": "<openalea.plantgl.scenegraph._pglsg.Scene object at 0x7fccb1e997a0>"
       },
       "scene_8U7QrOsRrzXvpCXdxWdhN7Xhc": {
        "drc": {},
        "offsets": [
         0
        ],
        "position": [
         36,
         78,
         15
        ],
        "scale": 1,
        "scene": "<openalea.plantgl.scenegraph._pglsg.Scene object at 0x7fccb1ec6768>"
       },
       "scene_8hBEteR5ZV17qTYEWiur1h8dR": {
        "drc": {},
        "offsets": [
         0
        ],
        "position": [
         -29,
         -9,
         -101
        ],
        "scale": 1,
        "scene": "<openalea.plantgl.scenegraph._pglsg.Scene object at 0x7fccb212b3b0>"
       },
       "scene_8lu0Hi2A6BOQ8kcPFxEdCDfrm": {
        "drc": {},
        "offsets": [
         0
        ],
        "position": [
         -103,
         120,
         -113
        ],
        "scale": 1,
        "scene": "<openalea.plantgl.scenegraph._pglsg.Scene object at 0x7fccb1e471b8>"
       },
       "scene_8uqmPERGqTbJeLKYTyBvY9vuq": {
        "drc": {},
        "offsets": [
         0
        ],
        "position": [
         37,
         46,
         -82
        ],
        "scale": 1,
        "scene": "<openalea.plantgl.scenegraph._pglsg.Scene object at 0x7fccb1e7d7a0>"
       },
       "scene_93aXQqn4hPjYDG47mGjeGDeN8": {
        "drc": {},
        "offsets": [
         0
        ],
        "position": [
         -44,
         -78,
         -29
        ],
        "scale": 1,
        "scene": "<openalea.plantgl.scenegraph._pglsg.Scene object at 0x7fccb1f65e68>"
       },
       "scene_9EhdIh7hOWjJVkpOSP9fGKYLz": {
        "drc": {},
        "offsets": [
         0
        ],
        "position": [
         -64,
         -125,
         45
        ],
        "scale": 1,
        "scene": "<openalea.plantgl.scenegraph._pglsg.Scene object at 0x7fccb200dd18>"
       },
       "scene_9Xc4wIBw9yyzLxWx6GYpADYYo": {
        "drc": {},
        "offsets": [
         0
        ],
        "position": [
         70,
         -77,
         -118
        ],
        "scale": 1,
        "scene": "<openalea.plantgl.scenegraph._pglsg.Scene object at 0x7fccb235b6c0>"
       },
       "scene_9iKJiRYvIQj1zlL7UMTHbboh1": {
        "drc": {},
        "offsets": [
         0
        ],
        "position": [
         25,
         -81,
         -124
        ],
        "scale": 1,
        "scene": "<openalea.plantgl.scenegraph._pglsg.Scene object at 0x7fccb1f54880>"
       },
       "scene_AFI2gm4wEjPFeEiOmKBxPtHdt": {
        "drc": {},
        "offsets": [
         0
        ],
        "position": [
         111,
         123,
         72
        ],
        "scale": 1,
        "scene": "<openalea.plantgl.scenegraph._pglsg.Scene object at 0x7fccb1f0dbc8>"
       },
       "scene_AJjcD6PAtsyPcP7floKGwzUXd": {
        "drc": {},
        "offsets": [
         0
        ],
        "position": [
         23,
         -56,
         96
        ],
        "scale": 1,
        "scene": "<openalea.plantgl.scenegraph._pglsg.Scene object at 0x7fccb1e6d960>"
       },
       "scene_APjk4UO0cdeJvhINNDW3hwKND": {
        "drc": {},
        "offsets": [
         0
        ],
        "position": [
         -80,
         -116,
         32
        ],
        "scale": 1,
        "scene": "<openalea.plantgl.scenegraph._pglsg.Scene object at 0x7fccb1fa01f0>"
       },
       "scene_AjWZcRmFTqXIUqDk4TntJNaoQ": {
        "drc": {},
        "offsets": [
         0
        ],
        "position": [
         -29,
         10,
         26
        ],
        "scale": 1,
        "scene": "<openalea.plantgl.scenegraph._pglsg.Scene object at 0x7fccb1fa0110>"
       },
       "scene_AlrwcKnLxgICFhZnk0Po9M1BB": {
        "drc": {},
        "offsets": [
         0
        ],
        "position": [
         40,
         -54,
         -31
        ],
        "scale": 1,
        "scene": "<openalea.plantgl.scenegraph._pglsg.Scene object at 0x7fccb1f65a08>"
       },
       "scene_BIps9GLrN2qRIQQuhuobezhpe": {
        "drc": {},
        "offsets": [
         0
        ],
        "position": [
         -92,
         -31,
         -60
        ],
        "scale": 1,
        "scene": "<openalea.plantgl.scenegraph._pglsg.Scene object at 0x7fccb1ee0b20>"
       },
       "scene_BZmirll7aBvn7dE5XEk26e4lg": {
        "drc": {},
        "offsets": [
         0
        ],
        "position": [
         121,
         -62,
         -90
        ],
        "scale": 1,
        "scene": "<openalea.plantgl.scenegraph._pglsg.Scene object at 0x7fccb1db7228>"
       },
       "scene_BqrJquIwb4QPsBOpTQ9GFJfgS": {
        "drc": {},
        "offsets": [
         0
        ],
        "position": [
         8,
         -60,
         6
        ],
        "scale": 1,
        "scene": "<openalea.plantgl.scenegraph._pglsg.Scene object at 0x7fccb1f65030>"
       },
       "scene_Bwbj23GRy0Vil0K3w0A0gmyMM": {
        "drc": {},
        "offsets": [
         0
        ],
        "position": [
         41,
         69,
         -58
        ],
        "scale": 1,
        "scene": "<openalea.plantgl.scenegraph._pglsg.Scene object at 0x7fccb1f77458>"
       },
       "scene_CSlOh08LyL3WmgmEXSTM2IZtT": {
        "drc": {},
        "offsets": [
         0
        ],
        "position": [
         92,
         92,
         85
        ],
        "scale": 1,
        "scene": "<openalea.plantgl.scenegraph._pglsg.Scene object at 0x7fccb1e7d420>"
       },
       "scene_D0KUXRisaOZORq5Q979iI7S68": {
        "drc": {},
        "offsets": [
         0
        ],
        "position": [
         82,
         102,
         -64
        ],
        "scale": 1,
        "scene": "<openalea.plantgl.scenegraph._pglsg.Scene object at 0x7fccb1fa0490>"
       },
       "scene_DByxssMkcBrnIRVDp19N30Pfl": {
        "drc": {},
        "offsets": [
         0
        ],
        "position": [
         15,
         -3,
         122
        ],
        "scale": 1,
        "scene": "<openalea.plantgl.scenegraph._pglsg.Scene object at 0x7fccb22a7928>"
       },
       "scene_DGpOglMEfYXD3YW5RD2OSg6LV": {
        "drc": {},
        "offsets": [
         0
        ],
        "position": [
         -98,
         -102,
         49
        ],
        "scale": 1,
        "scene": "<openalea.plantgl.scenegraph._pglsg.Scene object at 0x7fccb1ec6ae8>"
       },
       "scene_Dfp6NZhFuvchtbiZ2BQoVY7PC": {
        "drc": {},
        "offsets": [
         0
        ],
        "position": [
         0,
         110,
         44
        ],
        "scale": 1,
        "scene": "<openalea.plantgl.scenegraph._pglsg.Scene object at 0x7fccb204bd88>"
       },
       "scene_DlyVVCMBbmJTe0OkFXydtp42W": {
        "drc": {},
        "offsets": [
         0
        ],
        "position": [
         33,
         -39,
         -117
        ],
        "scale": 1,
        "scene": "<openalea.plantgl.scenegraph._pglsg.Scene object at 0x7fccb1dc1c38>"
       },
       "scene_E6oDWS5XaWok7sSB67QP0DHbY": {
        "drc": {},
        "offsets": [
         0
        ],
        "position": [
         -22,
         -93,
         -22
        ],
        "scale": 1,
        "scene": "<openalea.plantgl.scenegraph._pglsg.Scene object at 0x7fccb1e99420>"
       },
       "scene_EAottbItRoSISU5or9nmTVb2y": {
        "drc": {},
        "offsets": [
         0
        ],
        "position": [
         65,
         -101,
         -112
        ],
        "scale": 1,
        "scene": "<openalea.plantgl.scenegraph._pglsg.Scene object at 0x7fccb1f61a40>"
       },
       "scene_EEPxoeTTM9RLtB68pq8eQstJw": {
        "drc": {},
        "offsets": [
         0
        ],
        "position": [
         -115,
         49,
         120
        ],
        "scale": 1,
        "scene": "<openalea.plantgl.scenegraph._pglsg.Scene object at 0x7fccb1f54c00>"
       },
       "scene_EFh2ARGP9N8RFdXDwJlO96ZtK": {
        "drc": {},
        "offsets": [
         0
        ],
        "position": [
         -80,
         -2,
         -9
        ],
        "scale": 1,
        "scene": "<openalea.plantgl.scenegraph._pglsg.Scene object at 0x7fccb1e28260>"
       },
       "scene_ELPxmo8XNlz7P3dTwLINhdsPv": {
        "drc": {},
        "offsets": [
         0
        ],
        "position": [
         -83,
         95,
         50
        ],
        "scale": 1,
        "scene": "<openalea.plantgl.scenegraph._pglsg.Scene object at 0x7fccb207e110>"
       },
       "scene_F9qv4GDao2VTD2K0DZK5ZwJEx": {
        "drc": {},
        "offsets": [
         0
        ],
        "position": [
         96,
         35,
         29
        ],
        "scale": 1,
        "scene": "<openalea.plantgl.scenegraph._pglsg.Scene object at 0x7fccb212b9d0>"
       },
       "scene_FFjIemhVw3QbrqXfFSPHu4sIH": {
        "drc": {},
        "offsets": [
         0
        ],
        "position": [
         40,
         20,
         -117
        ],
        "scale": 1,
        "scene": "<openalea.plantgl.scenegraph._pglsg.Scene object at 0x7fccb1f0d148>"
       },
       "scene_FW4oVeSd800U6iIP2GLEKlyeV": {
        "drc": {},
        "offsets": [
         0
        ],
        "position": [
         48,
         -59,
         -31
        ],
        "scale": 1,
        "scene": "<openalea.plantgl.scenegraph._pglsg.Scene object at 0x7fccb1e28fb8>"
       },
       "scene_FXG9mHOVGTZ4tBzfYNPiRa3ae": {
        "drc": {},
        "offsets": [
         0
        ],
        "position": [
         9,
         -20,
         -32
        ],
        "scale": 1,
        "scene": "<openalea.plantgl.scenegraph._pglsg.Scene object at 0x7fccb1e055e0>"
       },
       "scene_FXPWejRQ1SlBE64qnVpeCGOS9": {
        "drc": {},
        "offsets": [
         0
        ],
        "position": [
         -10,
         97,
         62
        ],
        "scale": 1,
        "scene": "<openalea.plantgl.scenegraph._pglsg.Scene object at 0x7fccb1fd1c70>"
       },
       "scene_GZ6L24tyCjTwUBkSEeq9W8Ytg": {
        "drc": {},
        "offsets": [
         0
        ],
        "position": [
         -19,
         -118,
         -102
        ],
        "scale": 1,
        "scene": "<openalea.plantgl.scenegraph._pglsg.Scene object at 0x7fccb1ed5228>"
       },
       "scene_GfQzrj0bheTcmJk5DH6UhBDHq": {
        "drc": {},
        "offsets": [
         0
        ],
        "position": [
         -32,
         124,
         -82
        ],
        "scale": 1,
        "scene": "<openalea.plantgl.scenegraph._pglsg.Scene object at 0x7fccb235bd50>"
       },
       "scene_Gihr4TPSuxoExKuexPSl1O0kw": {
        "drc": {},
        "offsets": [
         0
        ],
        "position": [
         -61,
         86,
         -110
        ],
        "scale": 1,
        "scene": "<openalea.plantgl.scenegraph._pglsg.Scene object at 0x7fccb1fbb0d8>"
       },
       "scene_H2YXB1Ujdc3JB41kKfdDXOIkr": {
        "drc": {},
        "offsets": [
         0
        ],
        "position": [
         100,
         106,
         103
        ],
        "scale": 1,
        "scene": "<openalea.plantgl.scenegraph._pglsg.Scene object at 0x7fccb2273d88>"
       },
       "scene_HQDMfINbcQdq5p4AVGCDilEmO": {
        "drc": {},
        "offsets": [
         0
        ],
        "position": [
         -88,
         -78,
         18
        ],
        "scale": 1,
        "scene": "<openalea.plantgl.scenegraph._pglsg.Scene object at 0x7fccb22a7b58>"
       },
       "scene_HXS6NGI0N5oxKOXOb7x8DYDu4": {
        "drc": {},
        "offsets": [
         0
        ],
        "position": [
         71,
         -84,
         -94
        ],
        "scale": 1,
        "scene": "<openalea.plantgl.scenegraph._pglsg.Scene object at 0x7fccb1f653b0>"
       },
       "scene_HqnKLj53ecsYOeKZodfNDknUe": {
        "drc": {},
        "offsets": [
         0
        ],
        "position": [
         91,
         51,
         84
        ],
        "scale": 1,
        "scene": "<openalea.plantgl.scenegraph._pglsg.Scene object at 0x7fccb1e8a960>"
       },
       "scene_ISC6ynLKvwIX0CPbhumbeUysg": {
        "drc": {},
        "offsets": [
         0
        ],
        "position": [
         44,
         79,
         12
        ],
        "scale": 1,
        "scene": "<openalea.plantgl.scenegraph._pglsg.Scene object at 0x7fccb1e475e0>"
       },
       "scene_IUjuiPIq1yCnes7EHMlZoeVEB": {
        "drc": {},
        "offsets": [
         0
        ],
        "position": [
         58,
         94,
         -94
        ],
        "scale": 1,
        "scene": "<openalea.plantgl.scenegraph._pglsg.Scene object at 0x7fccb1e15ea0>"
       },
       "scene_IhZ5M8gFHAZfXFXEJn9yS6yA9": {
        "drc": {},
        "offsets": [
         0
        ],
        "position": [
         75,
         122,
         27
        ],
        "scale": 1,
        "scene": "<openalea.plantgl.scenegraph._pglsg.Scene object at 0x7fccb235b340>"
       },
       "scene_IvepKOrXwiDcyBlFMEAi7nDH3": {
        "drc": {},
        "offsets": [
         0
        ],
        "position": [
         117,
         -48,
         44
        ],
        "scale": 1,
        "scene": "<openalea.plantgl.scenegraph._pglsg.Scene object at 0x7fccb21650a0>"
       },
       "scene_JKOt0kf6XKPN9mrhVzdUseiN5": {
        "drc": {},
        "offsets": [
         0
        ],
        "position": [
         -77,
         -113,
         86
        ],
        "scale": 1,
        "scene": "<openalea.plantgl.scenegraph._pglsg.Scene object at 0x7fccb1f34c70>"
       },
       "scene_JLD4SZFGBeRm2SBCfALFv9WBu": {
        "drc": {},
        "offsets": [
         0
        ],
        "position": [
         67,
         120,
         50
        ],
        "scale": 1,
        "scene": "<openalea.plantgl.scenegraph._pglsg.Scene object at 0x7fccb1e23fb8>"
       },
       "scene_JM1vQA1RJQYMyg4rmRnDXVYSB": {
        "drc": {},
        "offsets": [
         0
        ],
        "position": [
         37,
         -68,
         84
        ],
        "scale": 1,
        "scene": "<openalea.plantgl.scenegraph._pglsg.Scene object at 0x7fccb1f19308>"
       },
       "scene_JX1sDcDcIR20gqH4kCc4JDOtJ": {
        "drc": {},
        "offsets": [
         0
        ],
        "position": [
         9,
         -58,
         66
        ],
        "scale": 1,
        "scene": "<openalea.plantgl.scenegraph._pglsg.Scene object at 0x7fccb1e6d538>"
       },
       "scene_JZC8G3PEUJMncJFTWdaJixCZc": {
        "drc": {},
        "offsets": [
         0
        ],
        "position": [
         112,
         117,
         122
        ],
        "scale": 1,
        "scene": "<openalea.plantgl.scenegraph._pglsg.Scene object at 0x7fccb204b768>"
       },
       "scene_Jy1wWOnjhZ8G1nfg7ieGur6zJ": {
        "drc": {},
        "offsets": [
         0
        ],
        "position": [
         66,
         -106,
         -37
        ],
        "scale": 1,
        "scene": "<openalea.plantgl.scenegraph._pglsg.Scene object at 0x7fccb1efea08>"
       },
       "scene_Ka31g0q7TxFRMBvEi7CJp1ZrY": {
        "drc": {},
        "offsets": [
         0
        ],
        "position": [
         -56,
         93,
         -35
        ],
        "scale": 1,
        "scene": "<openalea.plantgl.scenegraph._pglsg.Scene object at 0x7fccb1eb8928>"
       },
       "scene_KhGiTaSBs7D9nzSlp8NjZhtTW": {
        "drc": {},
        "offsets": [
         0
        ],
        "position": [
         93,
         65,
         102
        ],
        "scale": 1,
        "scene": "<openalea.plantgl.scenegraph._pglsg.Scene object at 0x7fccb1eb8f10>"
       },
       "scene_Kq07KS5VjmHJReL7WU3Ppk3Wd": {
        "drc": {},
        "offsets": [
         0
        ],
        "position": [
         -10,
         -55,
         124
        ],
        "scale": 1,
        "scene": "<openalea.plantgl.scenegraph._pglsg.Scene object at 0x7fccb1ea97d8>"
       },
       "scene_LBgOtHmVwba4oQ6RJeoIc96Oj": {
        "drc": {},
        "offsets": [
         0
        ],
        "position": [
         -15,
         59,
         -120
        ],
        "scale": 1,
        "scene": "<openalea.plantgl.scenegraph._pglsg.Scene object at 0x7fccb200d228>"
       },
       "scene_LEb58eyhV4Y8OR8VaXBdacE9L": {
        "drc": {},
        "offsets": [
         0
        ],
        "position": [
         104,
         114,
         38
        ],
        "scale": 1,
        "scene": "<openalea.plantgl.scenegraph._pglsg.Scene object at 0x7fccb200d0d8>"
       },
       "scene_LRtcyN35B94NoUJ5w5AYyeXG1": {
        "drc": {},
        "offsets": [
         0
        ],
        "position": [
         -119,
         -107,
         -61
        ],
        "scale": 1,
        "scene": "<openalea.plantgl.scenegraph._pglsg.Scene object at 0x7fccb1f65c38>"
       },
       "scene_M8ltK4g4TjhTauxk3juHeYXGk": {
        "drc": {},
        "offsets": [
         0
        ],
        "position": [
         53,
         -106,
         33
        ],
        "scale": 1,
        "scene": "<openalea.plantgl.scenegraph._pglsg.Scene object at 0x7fccb1e23960>"
       },
       "scene_MGYUpQMpbdzUQM3mSf6JGOkej": {
        "drc": {},
        "offsets": [
         0
        ],
        "position": [
         17,
         -37,
         82
        ],
        "scale": 1,
        "scene": "<openalea.plantgl.scenegraph._pglsg.Scene object at 0x7fccb1fbb8b8>"
       },
       "scene_Mfe0Hpy5e4bdUK4kN2VnJYUJd": {
        "drc": {},
        "offsets": [
         0
        ],
        "position": [
         -72,
         -5,
         -111
        ],
        "scale": 1,
        "scene": "<openalea.plantgl.scenegraph._pglsg.Scene object at 0x7fccb1f8d6f8>"
       },
       "scene_MpQC4JMtghjiuFkXzX15xQgLF": {
        "drc": {},
        "offsets": [
         0
        ],
        "position": [
         -88,
         91,
         -52
        ],
        "scale": 1,
        "scene": "<openalea.plantgl.scenegraph._pglsg.Scene object at 0x7fccb1e99df8>"
       },
       "scene_N3J0nbhsXry00zNpPk5jAyXeo": {
        "drc": {},
        "offsets": [
         0
        ],
        "position": [
         53,
         109,
         -121
        ],
        "scale": 1,
        "scene": "<openalea.plantgl.scenegraph._pglsg.Scene object at 0x7fccb1fa0260>"
       },
       "scene_NGSbbX6HDdwtDvFLfxwlcM74o": {
        "drc": {},
        "offsets": [
         0
        ],
        "position": [
         109,
         115,
         121
        ],
        "scale": 1,
        "scene": "<openalea.plantgl.scenegraph._pglsg.Scene object at 0x7fccb1fd13e8>"
       },
       "scene_NKN4GluvF2bva33cKaEwwjCEo": {
        "drc": {},
        "offsets": [
         0
        ],
        "position": [
         60,
         -24,
         -33
        ],
        "scale": 1,
        "scene": "<openalea.plantgl.scenegraph._pglsg.Scene object at 0x7fccb204bb58>"
       },
       "scene_NXnOWIjqsjydAQVd6gf8RzcMU": {
        "drc": {},
        "offsets": [
         0
        ],
        "position": [
         126,
         -15,
         -55
        ],
        "scale": 1,
        "scene": "<openalea.plantgl.scenegraph._pglsg.Scene object at 0x7fccb1f343b0>"
       },
       "scene_NdOdbk9v1d59Erf8RYAaDuCGD": {
        "drc": {},
        "offsets": [
         0
        ],
        "position": [
         47,
         -67,
         80
        ],
        "scale": 1,
        "scene": "<openalea.plantgl.scenegraph._pglsg.Scene object at 0x7fccb1de6fb8>"
       },
       "scene_O0tZsThue5rFUCdGHy2XS64vo": {
        "drc": {},
        "offsets": [
         0
        ],
        "position": [
         108,
         -69,
         -99
        ],
        "scale": 1,
        "scene": "<openalea.plantgl.scenegraph._pglsg.Scene object at 0x7fccb2253dc0>"
       },
       "scene_OG0n9ysLM12HZr8RlGCuaJyx2": {
        "drc": {},
        "offsets": [
         0
        ],
        "position": [
         -64,
         -18,
         -70
        ],
        "scale": 1,
        "scene": "<openalea.plantgl.scenegraph._pglsg.Scene object at 0x7fccb1df77a0>"
       },
       "scene_OhWE0nEHdfrO5Zc0jPb4nQWQI": {
        "drc": {},
        "offsets": [
         0
        ],
        "position": [
         0,
         89,
         -98
        ],
        "scale": 1,
        "scene": "<openalea.plantgl.scenegraph._pglsg.Scene object at 0x7fccb1e05260>"
       },
       "scene_OlwHgvogu6JPXfGtHn43gSrZM": {
        "drc": {},
        "offsets": [
         0
        ],
        "position": [
         -106,
         66,
         -88
        ],
        "scale": 1,
        "scene": "<openalea.plantgl.scenegraph._pglsg.Scene object at 0x7fccb1eeec70>"
       },
       "scene_P9Gfw777RgxPc7jUZBXX0fuU9": {
        "drc": {},
        "offsets": [
         0
        ],
        "position": [
         113,
         0,
         106
        ],
        "scale": 1,
        "scene": "<openalea.plantgl.scenegraph._pglsg.Scene object at 0x7fccb1e3ab20>"
       },
       "scene_PELAgZ9XvuoXdWrbZTo5kSvA7": {
        "drc": {},
        "offsets": [
         0
        ],
        "position": [
         -49,
         -79,
         90
        ],
        "scale": 1,
        "scene": "<openalea.plantgl.scenegraph._pglsg.Scene object at 0x7fccb212b180>"
       },
       "scene_PGkVwebD4W4ossKnCidtl4Ck2": {
        "drc": {},
        "offsets": [
         0
        ],
        "position": [
         112,
         -14,
         56
        ],
        "scale": 1,
        "scene": "<openalea.plantgl.scenegraph._pglsg.Scene object at 0x7fccb1dc11b8>"
       },
       "scene_PPdWKqSO9BrO6dgrbVYVouEse": {
        "drc": {},
        "offsets": [
         0
        ],
        "position": [
         75,
         50,
         43
        ],
        "scale": 1,
        "scene": "<openalea.plantgl.scenegraph._pglsg.Scene object at 0x7fccb1f77998>"
       },
       "scene_PU6ordMdPRgjyLiQUbB5CpXY1": {
        "drc": {},
        "offsets": [
         0
        ],
        "position": [
         37,
         74,
         72
        ],
        "scale": 1,
        "scene": "<openalea.plantgl.scenegraph._pglsg.Scene object at 0x7fccb1e56420>"
       },
       "scene_PWS8IWywwACVluWhsIJ6LqDD7": {
        "drc": {},
        "offsets": [
         0
        ],
        "position": [
         25,
         -79,
         47
        ],
        "scale": 1,
        "scene": "<openalea.plantgl.scenegraph._pglsg.Scene object at 0x7fccb211b1f0>"
       },
       "scene_PuFaQ7omQjTQVjSJFjvzqvGsB": {
        "drc": {},
        "offsets": [
         0
        ],
        "position": [
         -82,
         21,
         116
        ],
        "scale": 1,
        "scene": "<openalea.plantgl.scenegraph._pglsg.Scene object at 0x7fccb1fd1618>"
       },
       "scene_PxIbQIodObvxgDj2ZVt3kIrwN": {
        "drc": {},
        "offsets": [
         0
        ],
        "position": [
         -70,
         -80,
         -76
        ],
        "scale": 1,
        "scene": "<openalea.plantgl.scenegraph._pglsg.Scene object at 0x7fccb1e8a5e0>"
       },
       "scene_QYbGZJ2otautiem97CDzY0rrE": {
        "drc": {},
        "offsets": [
         0
        ],
        "position": [
         83,
         -64,
         46
        ],
        "scale": 1,
        "scene": "<openalea.plantgl.scenegraph._pglsg.Scene object at 0x7fccb211b420>"
       },
       "scene_QgKuXZ7HDkfe8wyFVoPXLPB5c": {
        "drc": {},
        "offsets": [
         0
        ],
        "position": [
         -122,
         -51,
         -9
        ],
        "scale": 1,
        "scene": "<openalea.plantgl.scenegraph._pglsg.Scene object at 0x7fccb1f77180>"
       },
       "scene_QnGXZ1y8GLeghONTEDIfGIzzc": {
        "drc": {},
        "offsets": [
         0
        ],
        "position": [
         25,
         -95,
         -21
        ],
        "scale": 1,
        "scene": "<openalea.plantgl.scenegraph._pglsg.Scene object at 0x7fccd93d8848>"
       },
       "scene_R7zIdp2wj02wsKhb6DjLy01xN": {
        "drc": {},
        "offsets": [
         0
        ],
        "position": [
         64,
         78,
         -118
        ],
        "scale": 1,
        "scene": "<openalea.plantgl.scenegraph._pglsg.Scene object at 0x7fccb2165a78>"
       },
       "scene_RPnyuK5DhXDWrt8YhPG9CjYsQ": {
        "drc": {},
        "offsets": [
         0
        ],
        "position": [
         -120,
         94,
         36
        ],
        "scale": 1,
        "scene": "<openalea.plantgl.scenegraph._pglsg.Scene object at 0x7fccb1fd1ca8>"
       },
       "scene_RgQtcChotOrN5KYEwNrZeCFNc": {
        "drc": {},
        "offsets": [
         0
        ],
        "position": [
         12,
         1,
         -125
        ],
        "scale": 1,
        "scene": "<openalea.plantgl.scenegraph._pglsg.Scene object at 0x7fccb22a74c8>"
       },
       "scene_Rve4zflY2UPpTCE20MxkSI1yt": {
        "drc": {},
        "offsets": [
         0
        ],
        "position": [
         -60,
         68,
         -95
        ],
        "scale": 1,
        "scene": "<openalea.plantgl.scenegraph._pglsg.Scene object at 0x7fccb1e567a0>"
       },
       "scene_ShGNXYmBleeWQWbZmbTHFB2jU": {
        "drc": {},
        "offsets": [
         0
        ],
        "position": [
         50,
         -10,
         100
        ],
        "scale": 1,
        "scene": "<openalea.plantgl.scenegraph._pglsg.Scene object at 0x7fccb1e6dce0>"
       },
       "scene_SlDh14drA6H3wSaXpT1t6wieL": {
        "drc": {},
        "offsets": [
         0
        ],
        "position": [
         -8,
         108,
         -52
        ],
        "scale": 1,
        "scene": "<openalea.plantgl.scenegraph._pglsg.Scene object at 0x7fccb1e3a7a0>"
       },
       "scene_SxXI6VHetSVzFtxdCrNjMrvQ5": {
        "drc": {},
        "offsets": [
         0
        ],
        "position": [
         -49,
         -79,
         1
        ],
        "scale": 1,
        "scene": "<openalea.plantgl.scenegraph._pglsg.Scene object at 0x7fccb1e8afb8>"
       },
       "scene_T7Xn7MiH3nl1JtnOrJPNcI4KF": {
        "drc": {},
        "offsets": [
         0
        ],
        "position": [
         -53,
         -60,
         -44
        ],
        "scale": 1,
        "scene": "<openalea.plantgl.scenegraph._pglsg.Scene object at 0x7fccb1eee500>"
       },
       "scene_TcFrVrqxbLaQqlDqhbUTJGBsg": {
        "drc": {},
        "offsets": [
         0
        ],
        "position": [
         -87,
         70,
         29
        ],
        "scale": 1,
        "scene": "<openalea.plantgl.scenegraph._pglsg.Scene object at 0x7fccb1f34ed8>"
       },
       "scene_UV9i1FyONLtmTfnkaFadTsggZ": {
        "drc": {},
        "offsets": [
         0
        ],
        "position": [
         -88,
         103,
         -17
        ],
        "scale": 1,
        "scene": "<openalea.plantgl.scenegraph._pglsg.Scene object at 0x7fccb1ea9ea0>"
       },
       "scene_UYU9uOEzCQxtcnUbTkHDFjI85": {
        "drc": {},
        "offsets": [
         0
        ],
        "position": [
         -81,
         -96,
         -11
        ],
        "scale": 1,
        "scene": "<openalea.plantgl.scenegraph._pglsg.Scene object at 0x7fccb1e47fb8>"
       },
       "scene_Ub5E6jJfOSZWlyn3uvB4zs7W0": {
        "drc": {},
        "offsets": [
         0
        ],
        "position": [
         -91,
         25,
         -76
        ],
        "scale": 1,
        "scene": "<openalea.plantgl.scenegraph._pglsg.Scene object at 0x7fccb1fa0f80>"
       },
       "scene_V4e4cUPDS9xlTXv9vJz2TzTPL": {
        "drc": {},
        "offsets": [
         0
        ],
        "position": [
         0,
         -57,
         83
        ],
        "scale": 1,
        "scene": "<openalea.plantgl.scenegraph._pglsg.Scene object at 0x7fccb1dd5688>"
       },
       "scene_VU8phvs3mYThILoQfA9ujjLor": {
        "drc": {},
        "offsets": [
         0
        ],
        "position": [
         55,
         -48,
         34
        ],
        "scale": 1,
        "scene": "<openalea.plantgl.scenegraph._pglsg.Scene object at 0x7fccb1db7730>"
       },
       "scene_VXpL19MxgcFh7mfZsXKX3jSLc": {
        "drc": {},
        "offsets": [
         0
        ],
        "position": [
         51,
         98,
         30
        ],
        "scale": 1,
        "scene": "<openalea.plantgl.scenegraph._pglsg.Scene object at 0x7fccb1e99b20>"
       },
       "scene_W1A2S2iX0PtRgmChZTjuAyA6W": {
        "drc": {},
        "offsets": [
         0
        ],
        "position": [
         103,
         63,
         -2
        ],
        "scale": 1,
        "scene": "<openalea.plantgl.scenegraph._pglsg.Scene object at 0x7fccb1dc1fb8>"
       },
       "scene_WDjt5XXhwClkH10XXkeXtPCY9": {
        "drc": {},
        "offsets": [
         0
        ],
        "position": [
         -84,
         74,
         -77
        ],
        "scale": 1,
        "scene": "<openalea.plantgl.scenegraph._pglsg.Scene object at 0x7fccb1eee880>"
       },
       "scene_WE6Wnm7oQu1LV7J2NBKtgjE3L": {
        "drc": {},
        "offsets": [
         0
        ],
        "position": [
         -67,
         -39,
         92
        ],
        "scale": 1,
        "scene": "<openalea.plantgl.scenegraph._pglsg.Scene object at 0x7fccb212be30>"
       },
       "scene_WGZ6Kyh1wTXsSIOMpVDRDnLt5": {
        "drc": {},
        "offsets": [
         0
        ],
        "position": [
         -103,
         -125,
         0
        ],
        "scale": 1,
        "scene": "<openalea.plantgl.scenegraph._pglsg.Scene object at 0x7fccb1e28960>"
       },
       "scene_WJPTp9HUUgl2aUNmeY9bAuC4Q": {
        "drc": {},
        "offsets": [
         0
        ],
        "position": [
         -53,
         -36,
         15
        ],
        "scale": 1,
        "scene": "<openalea.plantgl.scenegraph._pglsg.Scene object at 0x7fccb1f65340>"
       },
       "scene_WJh1rwN8h9qx5GF9eJv4vkv7c": {
        "drc": {},
        "offsets": [
         0
        ],
        "position": [
         40,
         59,
         -67
        ],
        "scale": 1,
        "scene": "<openalea.plantgl.scenegraph._pglsg.Scene object at 0x7fccb1ed55a8>"
       },
       "scene_WRr3rCwSMlLe0JyCcmYWYvLLK": {
        "drc": {},
        "offsets": [
         0
        ],
        "position": [
         -24,
         -6,
         -86
        ],
        "scale": 1,
        "scene": "<openalea.plantgl.scenegraph._pglsg.Scene object at 0x7fccb1e157a0>"
       },
       "scene_XHk6NKC4S2iKked9HgaUSMdhP": {
        "drc": {},
        "offsets": [
         0
        ],
        "position": [
         -104,
         56,
         78
        ],
        "scale": 1,
        "scene": "<openalea.plantgl.scenegraph._pglsg.Scene object at 0x7fccb235b768>"
       },
       "scene_XjoX18nknbB3AeDlBjrUqtkaK": {
        "drc": {},
        "offsets": [
         0
        ],
        "position": [
         -43,
         -74,
         70
        ],
        "scale": 1,
        "scene": "<openalea.plantgl.scenegraph._pglsg.Scene object at 0x7fccb204b308>"
       },
       "scene_XlLMWl9E6kEUI6mSDbi7DV5jE": {
        "drc": {},
        "offsets": [
         0
        ],
        "position": [
         -20,
         25,
         -55
        ],
        "scale": 1,
        "scene": "<openalea.plantgl.scenegraph._pglsg.Scene object at 0x7fccb1e28ce0>"
       },
       "scene_Xs5DsnC4M6hL8mqoLzzGWznsb": {
        "drc": {},
        "offsets": [
         0
        ],
        "position": [
         88,
         32,
         84
        ],
        "scale": 1,
        "scene": "<openalea.plantgl.scenegraph._pglsg.Scene object at 0x7fccb2165f80>"
       },
       "scene_Y2HpBYl7TJt3KrUpU6GQuMkHj": {
        "drc": {},
        "offsets": [
         0
        ],
        "position": [
         -46,
         111,
         -43
        ],
        "scale": 1,
        "scene": "<openalea.plantgl.scenegraph._pglsg.Scene object at 0x7fccb22d8a08>"
       },
       "scene_Y6BuMOnByKlwMxXrBFn4IeujN": {
        "drc": {},
        "offsets": [
         0
        ],
        "position": [
         7,
         -73,
         -11
        ],
        "scale": 1,
        "scene": "<openalea.plantgl.scenegraph._pglsg.Scene object at 0x7fccb1f19570>"
       },
       "scene_YZugMnzNujLZCcq1OlGvMqFoV": {
        "drc": {},
        "offsets": [
         0
        ],
        "position": [
         8,
         -92,
         -14
        ],
        "scale": 1,
        "scene": "<openalea.plantgl.scenegraph._pglsg.Scene object at 0x7fccb1e235e0>"
       },
       "scene_YbbAuvdM8cEG4XhOgygkX3t1Q": {
        "drc": {},
        "offsets": [
         0
        ],
        "position": [
         50,
         -42,
         -41
        ],
        "scale": 1,
        "scene": "<openalea.plantgl.scenegraph._pglsg.Scene object at 0x7fccb2273260>"
       },
       "scene_YliBglHSDbxN0TVA1BXl7Zn7k": {
        "drc": {},
        "offsets": [
         0
        ],
        "position": [
         -125,
         -20,
         74
        ],
        "scale": 1,
        "scene": "<openalea.plantgl.scenegraph._pglsg.Scene object at 0x7fccb211b180>"
       },
       "scene_ZABTc3znUMiorc48LZ8FmZyRy": {
        "drc": {},
        "offsets": [
         0
        ],
        "position": [
         -24,
         84,
         58
        ],
        "scale": 1,
        "scene": "<openalea.plantgl.scenegraph._pglsg.Scene object at 0x7fccb2273b58>"
       },
       "scene_ZkFo6neK56T2RgtaGkyW2d4Lv": {
        "drc": {},
        "offsets": [
         0
        ],
        "position": [
         -96,
         34,
         63
        ],
        "scale": 1,
        "scene": "<openalea.plantgl.scenegraph._pglsg.Scene object at 0x7fccb1eee180>"
       },
       "scene_aChGAWB6HlXBtlIl2lclrmlv3": {
        "drc": {},
        "offsets": [
         0
        ],
        "position": [
         69,
         31,
         -101
        ],
        "scale": 1,
        "scene": "<openalea.plantgl.scenegraph._pglsg.Scene object at 0x7fccb1de6ce0>"
       },
       "scene_aHKsntY7kG9ktYbhW6PrtnWqD": {
        "drc": {},
        "offsets": [
         0
        ],
        "position": [
         25,
         35,
         -113
        ],
        "scale": 1,
        "scene": "<openalea.plantgl.scenegraph._pglsg.Scene object at 0x7fccb2165688>"
       },
       "scene_aLJO97himFghkTk3fj8SKh8VH": {
        "drc": {},
        "offsets": [
         0
        ],
        "position": [
         -30,
         102,
         -86
        ],
        "scale": 1,
        "scene": "<openalea.plantgl.scenegraph._pglsg.Scene object at 0x7fccb1eeef48>"
       },
       "scene_azteezcLjVoOHAtwGYwPQlC3A": {
        "drc": {},
        "offsets": [
         0
        ],
        "position": [
         -6,
         -5,
         -81
        ],
        "scale": 1,
        "scene": "<openalea.plantgl.scenegraph._pglsg.Scene object at 0x7fccb1ed5fb8>"
       },
       "scene_betk3zXQ1w4NEgr1sB5pjXcEb": {
        "drc": {},
        "offsets": [
         0
        ],
        "position": [
         -45,
         35,
         -101
        ],
        "scale": 1,
        "scene": "<openalea.plantgl.scenegraph._pglsg.Scene object at 0x7fccb2253d50>"
       },
       "scene_bvS8ADNBuMKJRVj0rOgU2V6A2": {
        "drc": {},
        "offsets": [
         0
        ],
        "position": [
         91,
         78,
         79
        ],
        "scale": 1,
        "scene": "<openalea.plantgl.scenegraph._pglsg.Scene object at 0x7fccb1f61dc0>"
       },
       "scene_bxgdAjNsu9p5M8pAzqZ5pK2Qj": {
        "drc": {},
        "offsets": [
         0
        ],
        "position": [
         6,
         101,
         43
        ],
        "scale": 1,
        "scene": "<openalea.plantgl.scenegraph._pglsg.Scene object at 0x7fccb22d8bc8>"
       },
       "scene_c0rX0BXXJINbZ2V5wdEzbH1PX": {
        "drc": {},
        "offsets": [
         0
        ],
        "position": [
         -104,
         123,
         -110
        ],
        "scale": 1,
        "scene": "<openalea.plantgl.scenegraph._pglsg.Scene object at 0x7fccb1fa08f0>"
       },
       "scene_cFRNVzNuFIpeJXzNX8kAnUl1u": {
        "drc": {},
        "offsets": [
         0
        ],
        "position": [
         115,
         -52,
         93
        ],
        "scale": 1,
        "scene": "<openalea.plantgl.scenegraph._pglsg.Scene object at 0x7fccb21658b8>"
       },
       "scene_cWLWsaBSRcfkGiFDppzKqxPBP": {
        "drc": {},
        "offsets": [
         0
        ],
        "position": [
         -118,
         -74,
         -7
        ],
        "scale": 1,
        "scene": "<openalea.plantgl.scenegraph._pglsg.Scene object at 0x7fccb1f616c0>"
       },
       "scene_cY6dKCbaH3vu6mxH3mk3fdEE2": {
        "drc": {},
        "offsets": [
         0
        ],
        "position": [
         108,
         -75,
         83
        ],
        "scale": 1,
        "scene": "<openalea.plantgl.scenegraph._pglsg.Scene object at 0x7fccb1f0d4c8>"
       },
       "scene_cgLCXgPCac1A4wXO14VXmtLcf": {
        "drc": {},
        "offsets": [
         0
        ],
        "position": [
         -9,
         -26,
         -113
        ],
        "scale": 1,
        "scene": "<openalea.plantgl.scenegraph._pglsg.Scene object at 0x7fccb1e56b20>"
       },
       "scene_ciWaTPPLg1HLKyfr4DNNIjiW5": {
        "drc": {},
        "offsets": [
         0
        ],
        "position": [
         -37,
         9,
         -6
        ],
        "scale": 1,
        "scene": "<openalea.plantgl.scenegraph._pglsg.Scene object at 0x7fccb211be68>"
       },
       "scene_ckqSQII8RDrDnZ6q2TXAogGEt": {
        "drc": {},
        "offsets": [
         0
        ],
        "position": [
         107,
         -88,
         -119
        ],
        "scale": 1,
        "scene": "<openalea.plantgl.scenegraph._pglsg.Scene object at 0x7fccb22a76f8>"
       },
       "scene_d8qKChaic7GtQpZu4vHO2TVAc": {
        "drc": {},
        "offsets": [
         0
        ],
        "position": [
         -95,
         -40,
         62
        ],
        "scale": 1,
        "scene": "<openalea.plantgl.scenegraph._pglsg.Scene object at 0x7fccb204b228>"
       },
       "scene_dlVG8KcUNB1FluU0ePaWoIslu": {
        "drc": {},
        "offsets": [
         0
        ],
        "position": [
         -11,
         115,
         26
        ],
        "scale": 1,
        "scene": "<openalea.plantgl.scenegraph._pglsg.Scene object at 0x7fccb1db7b20>"
       },
       "scene_dzvVVpP48QO4j1QDDWfsTayU8": {
        "drc": {},
        "offsets": [
         0
        ],
        "position": [
         -110,
         -75,
         41
        ],
        "scale": 1,
        "scene": "<openalea.plantgl.scenegraph._pglsg.Scene object at 0x7fccb22a7298>"
       },
       "scene_e99UHueFsB6Evlt34NqnpmdNV": {
        "drc": {},
        "offsets": [
         0
        ],
        "position": [
         -56,
         -34,
         -29
        ],
        "scale": 1,
        "scene": "<openalea.plantgl.scenegraph._pglsg.Scene object at 0x7fccb22a7fb8>"
       },
       "scene_eKvFFr01ysMoklx40qoMh2I2I": {
        "drc": {},
        "offsets": [
         0
        ],
        "position": [
         -22,
         -79,
         -36
        ],
        "scale": 1,
        "scene": "<openalea.plantgl.scenegraph._pglsg.Scene object at 0x7fccb1f8d688>"
       },
       "scene_ePRSwxpQb1cFfhYxRECaVkmQi": {
        "drc": {},
        "offsets": [
         0
        ],
        "position": [
         -64,
         -75,
         -25
        ],
        "scale": 1,
        "scene": "<openalea.plantgl.scenegraph._pglsg.Scene object at 0x7fccb1df7420>"
       },
       "scene_eQQ4qEOx7rep80O9L5vdblA3s": {
        "drc": {},
        "offsets": [
         0
        ],
        "position": [
         92,
         -48,
         -109
        ],
        "scale": 1,
        "scene": "<openalea.plantgl.scenegraph._pglsg.Scene object at 0x7fccb207eab0>"
       },
       "scene_egAZyD39P2ScgERG0VIh8NsHD": {
        "drc": {},
        "offsets": [
         0
        ],
        "position": [
         -46,
         -111,
         5
        ],
        "scale": 1,
        "scene": "<openalea.plantgl.scenegraph._pglsg.Scene object at 0x7fccb2165618>"
       },
       "scene_emSg6AlHjibCA7vZho2GKScLO": {
        "drc": {},
        "offsets": [
         0
        ],
        "position": [
         -110,
         115,
         -106
        ],
        "scale": 1,
        "scene": "<openalea.plantgl.scenegraph._pglsg.Scene object at 0x7fccb1f45d88>"
       },
       "scene_fGxGDrRmcgjP58wFW2QInt3pT": {
        "drc": {},
        "offsets": [
         0
        ],
        "position": [
         56,
         52,
         19
        ],
        "scale": 1,
        "scene": "<openalea.plantgl.scenegraph._pglsg.Scene object at 0x7fccb1f54f80>"
       },
       "scene_fMvIbAldMnsvC5cUlwrfzj3E2": {
        "drc": {},
        "offsets": [
         0
        ],
        "position": [
         16,
         51,
         -92
        ],
        "scale": 1,
        "scene": "<openalea.plantgl.scenegraph._pglsg.Scene object at 0x7fccb1db7df8>"
       },
       "scene_fiCiHbMxB7fRQqv8qtoLMZwu9": {
        "drc": {},
        "offsets": [
         0
        ],
        "position": [
         51,
         22,
         -5
        ],
        "scale": 1,
        "scene": "<openalea.plantgl.scenegraph._pglsg.Scene object at 0x7fccb1f19d18>"
       },
       "scene_g4kI7eyOuhLNauiNaY7PfOjBW": {
        "drc": {},
        "offsets": [
         0
        ],
        "position": [
         -81,
         -1,
         77
        ],
        "scale": 1,
        "scene": "<openalea.plantgl.scenegraph._pglsg.Scene object at 0x7fccb22736f8>"
       },
       "scene_g7S5L6vDfKhLoq5XTlM6r37Z5": {
        "drc": {},
        "offsets": [
         0
        ],
        "position": [
         12,
         -69,
         -41
        ],
        "scale": 1,
        "scene": "<openalea.plantgl.scenegraph._pglsg.Scene object at 0x7fccb1f8df48>"
       },
       "scene_g93wUGBJvlNi1ujEhvg6gDg7S": {
        "drc": {},
        "offsets": [
         0
        ],
        "position": [
         49,
         105,
         80
        ],
        "scale": 1,
        "scene": "<openalea.plantgl.scenegraph._pglsg.Scene object at 0x7fccb235bdc0>"
       },
       "scene_gIcPSZxbE5LCJkLrHslWU29sF": {
        "drc": {},
        "offsets": [
         0
        ],
        "position": [
         79,
         83,
         104
        ],
        "scale": 1,
        "scene": "<openalea.plantgl.scenegraph._pglsg.Scene object at 0x7fccb211ba78>"
       },
       "scene_gYtYwj71skb7L7NKx4hFnCD2C": {
        "drc": {},
        "offsets": [
         0
        ],
        "position": [
         16,
         -65,
         63
        ],
        "scale": 1,
        "scene": "<openalea.plantgl.scenegraph._pglsg.Scene object at 0x7fccb1e47ce0>"
       },
       "scene_giYppO9INA2vSJVlrb82hxXmc": {
        "drc": {},
        "offsets": [
         0
        ],
        "position": [
         -20,
         -49,
         -101
        ],
        "scale": 1,
        "scene": "<openalea.plantgl.scenegraph._pglsg.Scene object at 0x7fccb1f77538>"
       },
       "scene_gwSVDr36JGi6JzfI6zdIBsHr4": {
        "drc": {},
        "offsets": [
         0
        ],
        "position": [
         33,
         -83,
         -39
        ],
        "scale": 1,
        "scene": "<openalea.plantgl.scenegraph._pglsg.Scene object at 0x7fccb1ec6e68>"
       },
       "scene_h3ikXUF4OXDICXTZ3nxBfo7YA": {
        "drc": {},
        "offsets": [
         0
        ],
        "position": [
         -98,
         13,
         -68
        ],
        "scale": 1,
        "scene": "<openalea.plantgl.scenegraph._pglsg.Scene object at 0x7fccb1fd1848>"
       },
       "scene_hESTOYHVAv5PdVzSRvTty08Ov": {
        "drc": {},
        "offsets": [
         0
        ],
        "position": [
         -59,
         -16,
         -2
        ],
        "scale": 1,
        "scene": "<openalea.plantgl.scenegraph._pglsg.Scene object at 0x7fccb1f45ab0>"
       },
       "scene_hRDW0zRGZXAbBXC95TDdyjUUQ": {
        "drc": {},
        "offsets": [
         0
        ],
        "position": [
         -65,
         101,
         109
        ],
        "scale": 1,
        "scene": "<openalea.plantgl.scenegraph._pglsg.Scene object at 0x7fccb1fbb228>"
       },
       "scene_iAGhuoSq2uwyZqFg1g9gW8iH7": {
        "drc": {},
        "offsets": [
         0
        ],
        "position": [
         113,
         10,
         60
        ],
        "scale": 1,
        "scene": "<openalea.plantgl.scenegraph._pglsg.Scene object at 0x7fccb1fd1a78>"
       },
       "scene_iFsr1dS3vLJRGcRUdS6jGRo81": {
        "drc": {},
        "offsets": [
         0
        ],
        "position": [
         83,
         -84,
         -60
        ],
        "scale": 1,
        "scene": "<openalea.plantgl.scenegraph._pglsg.Scene object at 0x7fccb1f343e8>"
       },
       "scene_ij6SyLM7tJIqGtMbyIhhxUu6I": {
        "drc": {},
        "offsets": [
         0
        ],
        "position": [
         21,
         0,
         28
        ],
        "scale": 1,
        "scene": "<openalea.plantgl.scenegraph._pglsg.Scene object at 0x7fccb1ee03e8>"
       },
       "scene_ijhhDeKRuSUCSGNBoTQCn3L0A": {
        "drc": {},
        "offsets": [
         0
        ],
        "position": [
         -33,
         16,
         116
        ],
        "scale": 1,
        "scene": "<openalea.plantgl.scenegraph._pglsg.Scene object at 0x7fccb1de6960>"
       },
       "scene_in4XySECQtQgddw2zXD7OlZAo": {
        "drc": {},
        "offsets": [
         0
        ],
        "position": [
         118,
         -26,
         88
        ],
        "scale": 1,
        "scene": "<openalea.plantgl.scenegraph._pglsg.Scene object at 0x7fccb1dc15a8>"
       },
       "scene_isW3AM1sVxKU1wSv0QjtV8ECo": {
        "drc": {},
        "offsets": [
         0
        ],
        "position": [
         45,
         7,
         85
        ],
        "scale": 1,
        "scene": "<openalea.plantgl.scenegraph._pglsg.Scene object at 0x7fccb1fbb458>"
       },
       "scene_j1VFwcm10DUIPsHA7OGhwq6xP": {
        "drc": {},
        "offsets": [
         0
        ],
        "position": [
         106,
         -90,
         46
        ],
        "scale": 1,
        "scene": "<openalea.plantgl.scenegraph._pglsg.Scene object at 0x7fccb1e47960>"
       },
       "scene_jkroKk71z1krMT5mBX9ocn5UY": {
        "drc": {},
        "offsets": [
         0
        ],
        "position": [
         60,
         30,
         -18
        ],
        "scale": 1,
        "scene": "<openalea.plantgl.scenegraph._pglsg.Scene object at 0x7fccb22532d0>"
       },
       "scene_jmDX3UCeXgkVTwQyN8wQZfPwJ": {
        "drc": {},
        "offsets": [
         0
        ],
        "position": [
         117,
         62,
         -89
        ],
        "scale": 1,
        "scene": "<openalea.plantgl.scenegraph._pglsg.Scene object at 0x7fccb211bc38>"
       },
       "scene_kFCphuOMwkKQACmJXcijquttJ": {
        "drc": {},
        "offsets": [
         0
        ],
        "position": [
         -46,
         -96,
         -46
        ],
        "scale": 1,
        "scene": "<openalea.plantgl.scenegraph._pglsg.Scene object at 0x7fccb1dc18b8>"
       },
       "scene_kR3RTOH43YzeUfJUEMNrFbTNk": {
        "drc": {},
        "offsets": [
         0
        ],
        "position": [
         35,
         118,
         -100
        ],
        "scale": 1,
        "scene": "<openalea.plantgl.scenegraph._pglsg.Scene object at 0x7fccb1efe688>"
       },
       "scene_ki92fkFwIk411e2TRTcuNM2Vi": {
        "drc": {},
        "offsets": [
         0
        ],
        "position": [
         -42,
         -22,
         15
        ],
        "scale": 1,
        "scene": "<openalea.plantgl.scenegraph._pglsg.Scene object at 0x7fccb212b110>"
       },
       "scene_kvheK44fkijGFR2pNaX6v8ZRS": {
        "drc": {},
        "offsets": [
         0
        ],
        "position": [
         33,
         -22,
         104
        ],
        "scale": 1,
        "scene": "<openalea.plantgl.scenegraph._pglsg.Scene object at 0x7fccb1e23260>"
       },
       "scene_l6KMZkmvLC8zFkJJGwOVA9Xhx": {
        "drc": {},
        "offsets": [
         0
        ],
        "position": [
         -112,
         46,
         -123
        ],
        "scale": 1,
        "scene": "<openalea.plantgl.scenegraph._pglsg.Scene object at 0x7fccb2253b90>"
       },
       "scene_lFcVFk6UG4YevDQDCjf9ZkEav": {
        "drc": {},
        "offsets": [
         0
        ],
        "position": [
         8,
         -80,
         123
        ],
        "scale": 1,
        "scene": "<openalea.plantgl.scenegraph._pglsg.Scene object at 0x7fccb1f457a0>"
       },
       "scene_lha6E2Hi7v5iNS5QSnFHYXSxA": {
        "drc": {},
        "offsets": [
         0
        ],
        "position": [
         -70,
         121,
         -113
        ],
        "scale": 1,
        "scene": "<openalea.plantgl.scenegraph._pglsg.Scene object at 0x7fccb2253960>"
       },
       "scene_liaizIayHDY5ew5KUr5fih485": {
        "drc": {},
        "offsets": [
         0
        ],
        "position": [
         -67,
         -55,
         63
        ],
        "scale": 1,
        "scene": "<openalea.plantgl.scenegraph._pglsg.Scene object at 0x7fccb235bae8>"
       },
       "scene_loPor3DcfaUQQ95wEwQ1XNm1W": {
        "drc": {},
        "offsets": [
         0
        ],
        "position": [
         -110,
         100,
         96
        ],
        "scale": 1,
        "scene": "<openalea.plantgl.scenegraph._pglsg.Scene object at 0x7fccb2253730>"
       },
       "scene_m0BNZD5lGNwU3RIdcnPi4Tx4o": {
        "drc": {},
        "offsets": [
         0
        ],
        "position": [
         114,
         -58,
         -106
        ],
        "scale": 1,
        "scene": "<openalea.plantgl.scenegraph._pglsg.Scene object at 0x7fccb1fa0d50>"
       },
       "scene_mAww1JlH2VZ7nCOaVzSSgEcAv": {
        "drc": {},
        "offsets": [
         0
        ],
        "position": [
         37,
         -23,
         74
        ],
        "scale": 1,
        "scene": "<openalea.plantgl.scenegraph._pglsg.Scene object at 0x7fccd93d8180>"
       },
       "scene_mGCQeAxDuRIbSaCsyn2qbfVKc": {
        "drc": {},
        "offsets": [
         0
        ],
        "position": [
         -83,
         -64,
         -47
        ],
        "scale": 1,
        "scene": "<openalea.plantgl.scenegraph._pglsg.Scene object at 0x7fccb1ea9458>"
       },
       "scene_mhzuISl4YtcgIt2uMV9O5bXfO": {
        "drc": {},
        "offsets": [
         0
        ],
        "position": [
         -15,
         37,
         -16
        ],
        "scale": 1,
        "scene": "<openalea.plantgl.scenegraph._pglsg.Scene object at 0x7fccb1e15b20>"
       },
       "scene_mlCqbCKEpgsx6s5i6fNx9zRz1": {
        "drc": {},
        "offsets": [
         0
        ],
        "position": [
         -96,
         -31,
         -103
        ],
        "scale": 1,
        "scene": "<openalea.plantgl.scenegraph._pglsg.Scene object at 0x7fccb207e650>"
       },
       "scene_mphXQYFMyPsCIoTJHbiJlk7zh": {
        "drc": {},
        "offsets": [
         0
        ],
        "position": [
         -55,
         -99,
         37
        ],
        "scale": 1,
        "scene": "<openalea.plantgl.scenegraph._pglsg.Scene object at 0x7fccb22d8fb8>"
       },
       "scene_muDzVZvfWOpTg6vc38eYDXIB7": {
        "drc": {},
        "offsets": [
         0
        ],
        "position": [
         65,
         -87,
         -78
        ],
        "scale": 1,
        "scene": "<openalea.plantgl.scenegraph._pglsg.Scene object at 0x7fccb1f19998>"
       },
       "scene_n1PHNixXwDPTcBc19uylZaU1P": {
        "drc": {},
        "offsets": [
         0
        ],
        "position": [
         -93,
         94,
         -54
        ],
        "scale": 1,
        "scene": "<openalea.plantgl.scenegraph._pglsg.Scene object at 0x7fccb1df7a78>"
       },
       "scene_nHScq8BGFAPwcvL7CXolRYsbZ": {
        "drc": {},
        "offsets": [
         0
        ],
        "position": [
         120,
         -112,
         -47
        ],
        "scale": 1,
        "scene": "<openalea.plantgl.scenegraph._pglsg.Scene object at 0x7fccb1e05ce0>"
       },
       "scene_oZqAJHtzQd4JUoqvv374nsqtB": {
        "drc": {},
        "offsets": [
         0
        ],
        "position": [
         83,
         -9,
         83
        ],
        "scale": 1,
        "scene": "<openalea.plantgl.scenegraph._pglsg.Scene object at 0x7fccb1e05960>"
       },
       "scene_oo11E85sf3GeYfwMqzXy7dVkW": {
        "drc": {},
        "offsets": [
         0
        ],
        "position": [
         42,
         -37,
         -100
        ],
        "scale": 1,
        "scene": "<openalea.plantgl.scenegraph._pglsg.Scene object at 0x7fccb1ec63e8>"
       },
       "scene_p7mm3m2Tlk7ALFUAWGAVWvMYb": {
        "drc": {},
        "offsets": [
         0
        ],
        "position": [
         102,
         -86,
         -125
        ],
        "scale": 1,
        "scene": "<openalea.plantgl.scenegraph._pglsg.Scene object at 0x7fccb1f77fb8>"
       },
       "scene_pTok0Grx86WNsH631SZdd2eQj": {
        "drc": {},
        "offsets": [
         0
        ],
        "position": [
         75,
         38,
         -76
        ],
        "scale": 1,
        "scene": "<openalea.plantgl.scenegraph._pglsg.Scene object at 0x7fccb1de6260>"
       },
       "scene_pXlFvA3gfBslWVPqcVxJNXnjz": {
        "drc": {},
        "offsets": [
         0
        ],
        "position": [
         124,
         110,
         55
        ],
        "scale": 1,
        "scene": "<openalea.plantgl.scenegraph._pglsg.Scene object at 0x7fccb22d87d8>"
       },
       "scene_pqKOOl9EmkutyM2wJizLU9waI": {
        "drc": {},
        "offsets": [
         0
        ],
        "position": [
         -44,
         -18,
         3
        ],
        "scale": 1,
        "scene": "<openalea.plantgl.scenegraph._pglsg.Scene object at 0x7fccb1e23ce0>"
       },
       "scene_ptp0CanYqmvhagLlEEw2l8lUH": {
        "drc": {},
        "offsets": [
         0
        ],
        "position": [
         -73,
         -36,
         123
        ],
        "scale": 1,
        "scene": "<openalea.plantgl.scenegraph._pglsg.Scene object at 0x7fccb207e880>"
       },
       "scene_pzzED6dyoWfxcgDQCOjcrxLZy": {
        "drc": {},
        "offsets": [
         0
        ],
        "position": [
         -123,
         -11,
         -76
        ],
        "scale": 1,
        "scene": "<openalea.plantgl.scenegraph._pglsg.Scene object at 0x7fccb1e285e0>"
       },
       "scene_qAbiCBOHsom0KXPdY6H53nXGg": {
        "drc": {},
        "offsets": [
         0
        ],
        "position": [
         73,
         18,
         73
        ],
        "scale": 1,
        "scene": "<openalea.plantgl.scenegraph._pglsg.Scene object at 0x7fccb22d8c38>"
       },
       "scene_qeUCSgdMexuDvZr65dc8E3y1y": {
        "drc": {},
        "offsets": [
         0
        ],
        "position": [
         57,
         -77,
         -29
        ],
        "scale": 1,
        "scene": "<openalea.plantgl.scenegraph._pglsg.Scene object at 0x7fccb200df80>"
       },
       "scene_ql0Rdi2ULIYgIKgpxGEv0QRKQ": {
        "drc": {},
        "offsets": [
         0
        ],
        "position": [
         -53,
         57,
         -94
        ],
        "scale": 1,
        "scene": "<openalea.plantgl.scenegraph._pglsg.Scene object at 0x7fccb1df7ea0>"
       },
       "scene_rK3ULVpUl8D0ty4f7yhADC6i5": {
        "drc": {},
        "offsets": [
         0
        ],
        "position": [
         44,
         95,
         -37
        ],
        "scale": 1,
        "scene": "<openalea.plantgl.scenegraph._pglsg.Scene object at 0x7fccb2273fb8>"
       },
       "scene_rkYq1o9nYmJLck2XVQT6mFppt": {
        "drc": {},
        "offsets": [
         0
        ],
        "position": [
         -60,
         99,
         -74
        ],
        "scale": 1,
        "scene": "<openalea.plantgl.scenegraph._pglsg.Scene object at 0x7fccb22d8308>"
       },
       "scene_rpVDd5bPJQRBEWOawhW8qpLp7": {
        "drc": {},
        "offsets": [
         0
        ],
        "position": [
         -91,
         40,
         19
        ],
        "scale": 1,
        "scene": "<openalea.plantgl.scenegraph._pglsg.Scene object at 0x7fccb1f453b0>"
       },
       "scene_rxmRnzZK7R7QwaENkO78kPQd4": {
        "drc": {},
        "offsets": [
         0
        ],
        "position": [
         89,
         115,
         -59
        ],
        "scale": 1,
        "scene": "<openalea.plantgl.scenegraph._pglsg.Scene object at 0x7fccb22a7d88>"
       },
       "scene_sfC5skn0dnmBFJOLXd5R2rB9f": {
        "drc": {},
        "offsets": [
         0
        ],
        "position": [
         95,
         -91,
         95
        ],
        "scale": 1,
        "scene": "<openalea.plantgl.scenegraph._pglsg.Scene object at 0x7fccb21650d8>"
       },
       "scene_sn3BXaubaalqo14g28Dl1UuYQ": {
        "drc": {},
        "offsets": [
         0
        ],
        "position": [
         -33,
         27,
         2
        ],
        "scale": 1,
        "scene": "<openalea.plantgl.scenegraph._pglsg.Scene object at 0x7fccb1f61340>"
       },
       "scene_sxx2zSMRbG8T742hYR0DKbiYE": {
        "drc": {},
        "offsets": [
         0
        ],
        "position": [
         65,
         -106,
         -52
        ],
        "scale": 1,
        "scene": "<openalea.plantgl.scenegraph._pglsg.Scene object at 0x7fccb1dd5260>"
       },
       "scene_tVW5EaqY0tbcOD2mrBJKy8IgR": {
        "drc": {},
        "offsets": [
         0
        ],
        "position": [
         110,
         -9,
         0
        ],
        "scale": 1,
        "scene": "<openalea.plantgl.scenegraph._pglsg.Scene object at 0x7fccb1eb85e0>"
       },
       "scene_tuepGYmmxkU9yKWR9q46aKxdL": {
        "drc": {},
        "offsets": [
         0
        ],
        "position": [
         78,
         91,
         6
        ],
        "scale": 1,
        "scene": "<openalea.plantgl.scenegraph._pglsg.Scene object at 0x7fccb212b730>"
       },
       "scene_u8MyVYMkfR0HhtK7a83BzqjqE": {
        "drc": {},
        "offsets": [
         0
        ],
        "position": [
         -63,
         42,
         -7
        ],
        "scale": 1,
        "scene": "<openalea.plantgl.scenegraph._pglsg.Scene object at 0x7fccb1ee07a0>"
       },
       "scene_uOiHdcf8qp70ZCnUqvVu3rZ9d": {
        "drc": {},
        "offsets": [
         0
        ],
        "position": [
         4,
         99,
         118
        ],
        "scale": 1,
        "scene": "<openalea.plantgl.scenegraph._pglsg.Scene object at 0x7fccb1e7db20>"
       },
       "scene_uyqYQ8gTIZURcS7e1pku0E9k0": {
        "drc": {},
        "offsets": [
         0
        ],
        "position": [
         5,
         -124,
         113
        ],
        "scale": 1,
        "scene": "<openalea.plantgl.scenegraph._pglsg.Scene object at 0x7fccb1f34928>"
       },
       "scene_v4eOG3oR9QIy3KHkvowQufhEr": {
        "drc": {},
        "offsets": [
         0
        ],
        "position": [
         112,
         16,
         113
        ],
        "scale": 1,
        "scene": "<openalea.plantgl.scenegraph._pglsg.Scene object at 0x7fccb1e6d260>"
       },
       "scene_vDJ3Lm8VY4dbewW31wh8IjB6C": {
        "drc": {},
        "offsets": [
         0
        ],
        "position": [
         93,
         -50,
         103
        ],
        "scale": 1,
        "scene": "<openalea.plantgl.scenegraph._pglsg.Scene object at 0x7fccb1f541f0>"
       },
       "scene_vKeBRej2CwBbnImGpUDiqEPCM": {
        "drc": {},
        "offsets": [
         0
        ],
        "position": [
         59,
         -1,
         13
        ],
        "scale": 1,
        "scene": "<openalea.plantgl.scenegraph._pglsg.Scene object at 0x7fccb1e6dfb8>"
       },
       "scene_vuoC1K1J77eY7SUgoIjtVSwbl": {
        "drc": {},
        "offsets": [
         0
        ],
        "position": [
         -113,
         15,
         119
        ],
        "scale": 1,
        "scene": "<openalea.plantgl.scenegraph._pglsg.Scene object at 0x7fccb1fbbae8>"
       },
       "scene_xZePkYn4ojv5vG4009m1iGFv9": {
        "drc": {},
        "offsets": [
         0
        ],
        "position": [
         -95,
         64,
         -81
        ],
        "scale": 1,
        "scene": "<openalea.plantgl.scenegraph._pglsg.Scene object at 0x7fccb1ea9bc8>"
       },
       "scene_xaoVuUpnwv5FhJvjHyg6ah8cM": {
        "drc": {},
        "offsets": [
         0
        ],
        "position": [
         4,
         -10,
         -38
        ],
        "scale": 1,
        "scene": "<openalea.plantgl.scenegraph._pglsg.Scene object at 0x7fccb1e8a260>"
       },
       "scene_xkRACQRdQSYGY6xvfE2xR1Wd5": {
        "drc": {},
        "offsets": [
         0
        ],
        "position": [
         84,
         5,
         47
        ],
        "scale": 1,
        "scene": "<openalea.plantgl.scenegraph._pglsg.Scene object at 0x7fccb200d688>"
       },
       "scene_xmYuKIvPU4GcSTRTiPXP0e7ro": {
        "drc": {},
        "offsets": [
         0
        ],
        "position": [
         -122,
         -115,
         -49
        ],
        "scale": 1,
        "scene": "<openalea.plantgl.scenegraph._pglsg.Scene object at 0x7fccb211bea0>"
       },
       "scene_y1e7iARAm2CQPNWANikvUhAcX": {
        "drc": {},
        "offsets": [
         0
        ],
        "position": [
         85,
         58,
         46
        ],
        "scale": 1,
        "scene": "<openalea.plantgl.scenegraph._pglsg.Scene object at 0x7fccb1fbbf48>"
       },
       "scene_y2hI8kdCHY86syorsYsz4jKXV": {
        "drc": {},
        "offsets": [
         0
        ],
        "position": [
         40,
         87,
         -86
        ],
        "scale": 1,
        "scene": "<openalea.plantgl.scenegraph._pglsg.Scene object at 0x7fccb1efed88>"
       },
       "scene_yHAB9oFK9PpFtLImmCMtJVeQc": {
        "drc": {},
        "offsets": [
         0
        ],
        "position": [
         115,
         -100,
         -37
        ],
        "scale": 1,
        "scene": "<openalea.plantgl.scenegraph._pglsg.Scene object at 0x7fccb1ed5928>"
       },
       "scene_yHdgN6rlOLKmyMo2vRCL6ONhq": {
        "drc": {},
        "offsets": [
         0
        ],
        "position": [
         39,
         38,
         -124
        ],
        "scale": 1,
        "scene": "<openalea.plantgl.scenegraph._pglsg.Scene object at 0x7fccb2273228>"
       },
       "scene_yavuSa9ut1t2wSqY5eu6c4rn9": {
        "drc": {},
        "offsets": [
         0
        ],
        "position": [
         73,
         44,
         -82
        ],
        "scale": 1,
        "scene": "<openalea.plantgl.scenegraph._pglsg.Scene object at 0x7fccb207ea78>"
       },
       "scene_zJFCPMsX9PWCo20fIzOO7vmRQ": {
        "drc": {},
        "offsets": [
         0
        ],
        "position": [
         5,
         125,
         107
        ],
        "scale": 1,
        "scene": "<openalea.plantgl.scenegraph._pglsg.Scene object at 0x7fccb1e3a420>"
       },
       "scene_zJsE2zP4Pp74YXPsDEHs6PZka": {
        "drc": {},
        "offsets": [
         0
        ],
        "position": [
         -50,
         -18,
         29
        ],
        "scale": 1,
        "scene": "<openalea.plantgl.scenegraph._pglsg.Scene object at 0x7fccb1e56ea0>"
       },
       "scene_zKDDqTplR0vl9AKScngl1vj1O": {
        "drc": {},
        "offsets": [
         0
        ],
        "position": [
         -24,
         2,
         -101
        ],
        "scale": 1,
        "scene": "<openalea.plantgl.scenegraph._pglsg.Scene object at 0x7fccb1fbb688>"
       },
       "scene_zO7rcd78e6IfmIRFAUzDQEC7U": {
        "drc": {},
        "offsets": [
         0
        ],
        "position": [
         -55,
         113,
         -20
        ],
        "scale": 1,
        "scene": "<openalea.plantgl.scenegraph._pglsg.Scene object at 0x7fccb1e3aea0>"
       },
       "scene_zTN7u13SZNGiVSLM1GOdEQSVH": {
        "drc": {},
        "offsets": [
         0
        ],
        "position": [
         -75,
         102,
         113
        ],
        "scale": 1,
        "scene": "<openalea.plantgl.scenegraph._pglsg.Scene object at 0x7fccb212b7a0>"
       },
       "scene_zUK6s15Gc6zXkGvYs9TDc4irQ": {
        "drc": {},
        "offsets": [
         0
        ],
        "position": [
         -57,
         -123,
         87
        ],
        "scale": 1,
        "scene": "<openalea.plantgl.scenegraph._pglsg.Scene object at 0x7fccb235b260>"
       },
       "scene_zZLmoTpzpRpJxkeeRGIYgsjMJ": {
        "drc": {},
        "offsets": [
         0
        ],
        "position": [
         126,
         77,
         31
        ],
        "scale": 1,
        "scene": "<openalea.plantgl.scenegraph._pglsg.Scene object at 0x7fccb1f8d4c8>"
       },
       "scene_zZUnuedbT1WefOrUFcVdOZPnB": {
        "drc": {},
        "offsets": [
         0
        ],
        "position": [
         -44,
         -64,
         -59
        ],
        "scale": 1,
        "scene": "<openalea.plantgl.scenegraph._pglsg.Scene object at 0x7fccb200d8b8>"
       },
       "scene_zs4mUQ6Fp1SZ6SessAL1QjZ8G": {
        "drc": {},
        "offsets": [
         0
        ],
        "position": [
         -111,
         74,
         7
        ],
        "scale": 1,
        "scene": "<openalea.plantgl.scenegraph._pglsg.Scene object at 0x7fccb207ef10>"
       },
       "size_display": [
        600,
        400
       ],
       "size_world": [
        255,
        255,
        255
       ]
      }
     },
     "1a8fddf3915c48708100fef4ac50e723": {
      "model_module": "@jupyter-widgets/base",
      "model_module_version": "1.2.0",
      "model_name": "LayoutModel",
      "state": {}
     },
     "29a933f2ba004d9cb4a1d158ad29a2eb": {
      "buffers": [
       {
        "data": "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",
        "encoding": "base64",
        "path": [
         "scene",
         "drc"
        ]
       }
      ],
      "model_module": "pgljupyter",
      "model_module_version": "^0.1.0-alpha",
      "model_name": "SceneWidgetModel",
      "state": {
       "_model_module_version": "^0.1.0-alpha",
       "_view_module_version": "^0.1.0-alpha",
       "axes_helper": false,
       "layout": "IPY_MODEL_744fad879c124561864dcf18095dd4e6",
       "light_helper": false,
       "plane": true,
       "scene": {
        "offsets": [
         0
        ],
        "position": [
         0,
         0,
         0
        ],
        "scale": 1,
        "scene": "<openalea.plantgl.scenegraph._pglsg.Scene object at 0x7fef4ed56ce0>"
       },
       "size_display": [
        600,
        400
       ],
       "size_world": [
        255,
        255,
        255
       ]
      }
     },
     "2fd343401b8c4033858b0ea3debd4341": {
      "model_module": "pgljupyter",
      "model_module_version": "^0.1.0-alpha",
      "model_name": "SceneWidgetModel",
      "state": {
       "_model_module_version": "^0.1.0-alpha",
       "_view_module_version": "^0.1.0-alpha",
       "axes_helper": false,
       "layout": "IPY_MODEL_9358b6e5ea324bff9dc794b702993722",
       "light_helper": false,
       "plane": true,
       "size_display": [
        600,
        400
       ],
       "size_world": [
        255,
        255,
        255
       ]
      }
     },
     "3430cc6855a9465ebe15b3f52ea2073f": {
      "model_module": "@jupyter-widgets/base",
      "model_module_version": "1.2.0",
      "model_name": "LayoutModel",
      "state": {}
     },
     "3eaa81f964a64f35a12ba0933f3672a7": {
      "model_module": "pgljupyter",
      "model_module_version": "^0.1.0-alpha",
      "model_name": "SceneWidgetModel",
      "state": {
       "_model_module_version": "^0.1.0-alpha",
       "_view_module_version": "^0.1.0-alpha",
       "axes_helper": false,
       "layout": "IPY_MODEL_6fcdde53564143cdb386849781d680ff",
       "light_helper": false,
       "plane": true,
       "scene_03BhCOmYYVWXVvrAlQGqLS8pD": {
        "drc": {},
        "offsets": [
         0
        ],
        "position": [
         41,
         47,
         -79
        ],
        "scale": 1,
        "scene": "<openalea.plantgl.scenegraph._pglsg.Scene object at 0x7fccb22e7ce0>"
       },
       "scene_0eVJJ2smazT5S2uvDlolLTRsa": {
        "drc": {},
        "offsets": [
         0
        ],
        "position": [
         -54,
         -4,
         95
        ],
        "scale": 1,
        "scene": "<openalea.plantgl.scenegraph._pglsg.Scene object at 0x7fccb20b7810>"
       },
       "scene_0fdspbrj10NWr12U5OiDL1hly": {
        "drc": {},
        "offsets": [
         0
        ],
        "position": [
         77,
         -108,
         125
        ],
        "scale": 1,
        "scene": "<openalea.plantgl.scenegraph._pglsg.Scene object at 0x7fccb21f8a40>"
       },
       "scene_0hAUEmBF47X8sN3PhFetqPQMY": {
        "drc": {},
        "offsets": [
         0
        ],
        "position": [
         47,
         20,
         -79
        ],
        "scale": 1,
        "scene": "<openalea.plantgl.scenegraph._pglsg.Scene object at 0x7fccb213ef10>"
       },
       "scene_0onDCKm6nW5royHO2ZNQSv4Ab": {
        "drc": {},
        "offsets": [
         0
        ],
        "position": [
         -57,
         -62,
         56
        ],
        "scale": 1,
        "scene": "<openalea.plantgl.scenegraph._pglsg.Scene object at 0x7fccb20679d0>"
       },
       "scene_0xe2dz4zm8FRR0q6AGFIomvtn": {
        "drc": {},
        "offsets": [
         0
        ],
        "position": [
         -34,
         99,
         7
        ],
        "scale": 1,
        "scene": "<openalea.plantgl.scenegraph._pglsg.Scene object at 0x7fccb229ced8>"
       },
       "scene_1LL0QLnMI5vcXXlngenJPsK1A": {
        "drc": {},
        "offsets": [
         0
        ],
        "position": [
         40,
         6,
         88
        ],
        "scale": 1,
        "scene": "<openalea.plantgl.scenegraph._pglsg.Scene object at 0x7fccb21def10>"
       },
       "scene_1W1fjwb6pqzpneHAdRUhFLnX2": {
        "drc": {},
        "offsets": [
         0
        ],
        "position": [
         111,
         -74,
         40
        ],
        "scale": 1,
        "scene": "<openalea.plantgl.scenegraph._pglsg.Scene object at 0x7fccb21e78b8>"
       },
       "scene_27RzfGog6rJLOZLSUK6JE4pCT": {
        "drc": {},
        "offsets": [
         0
        ],
        "position": [
         118,
         104,
         108
        ],
        "scale": 1,
        "scene": "<openalea.plantgl.scenegraph._pglsg.Scene object at 0x7fccb22cbb58>"
       },
       "scene_2PJlIx7DoKx5wAEz0CUbW0nbs": {
        "drc": {},
        "offsets": [
         0
        ],
        "position": [
         -42,
         77,
         -86
        ],
        "scale": 1,
        "scene": "<openalea.plantgl.scenegraph._pglsg.Scene object at 0x7fccb213e810>"
       },
       "scene_2svHcZEJL63k1Pt5K4sN2EDwY": {
        "drc": {},
        "offsets": [
         0
        ],
        "position": [
         54,
         -118,
         -31
        ],
        "scale": 1,
        "scene": "<openalea.plantgl.scenegraph._pglsg.Scene object at 0x7fccb20d7228>"
       },
       "scene_36eatNRvtKPgMlgvMkqcD2O6y": {
        "drc": {},
        "offsets": [
         0
        ],
        "position": [
         96,
         -118,
         119
        ],
        "scale": 1,
        "scene": "<openalea.plantgl.scenegraph._pglsg.Scene object at 0x7fccb213e110>"
       },
       "scene_390RhlG599mKWmjlQ8bPZSI6s": {
        "drc": {},
        "offsets": [
         0
        ],
        "position": [
         -9,
         -41,
         45
        ],
        "scale": 1,
        "scene": "<openalea.plantgl.scenegraph._pglsg.Scene object at 0x7fccb2316490>"
       },
       "scene_3J7KoBJzDdyd219mZPFciYOfX": {
        "drc": {},
        "offsets": [
         0
        ],
        "position": [
         95,
         82,
         -30
        ],
        "scale": 1,
        "scene": "<openalea.plantgl.scenegraph._pglsg.Scene object at 0x7fccb2305f80>"
       },
       "scene_3TbxYvkT7WkkoIOdZp4vEG01I": {
        "drc": {},
        "offsets": [
         0
        ],
        "position": [
         54,
         -55,
         -56
        ],
        "scale": 1,
        "scene": "<openalea.plantgl.scenegraph._pglsg.Scene object at 0x7fccb21de110>"
       },
       "scene_3YdNSxtshc5YKgW3ngVyAmAQh": {
        "drc": {},
        "offsets": [
         0
        ],
        "position": [
         87,
         -70,
         38
        ],
        "scale": 1,
        "scene": "<openalea.plantgl.scenegraph._pglsg.Scene object at 0x7fccb226abc8>"
       },
       "scene_3tqCfZ1T8lFOBNlwd9kUNKRFB": {
        "drc": {},
        "offsets": [
         0
        ],
        "position": [
         -38,
         -11,
         0
        ],
        "scale": 1,
        "scene": "<openalea.plantgl.scenegraph._pglsg.Scene object at 0x7fccb21d3d50>"
       },
       "scene_42Inx2qmUX8LbEF0V5G3wToFE": {
        "drc": {},
        "offsets": [
         0
        ],
        "position": [
         11,
         55,
         37
        ],
        "scale": 1,
        "scene": "<openalea.plantgl.scenegraph._pglsg.Scene object at 0x7fccb20a8d50>"
       },
       "scene_4C07KjIMwnCEDRhpxhqh0RlUh": {
        "drc": {},
        "offsets": [
         0
        ],
        "position": [
         -68,
         -16,
         -69
        ],
        "scale": 1,
        "scene": "<openalea.plantgl.scenegraph._pglsg.Scene object at 0x7fccb20f9b90>"
       },
       "scene_4dsJoEZdfNBQfgyCltbmKGfBl": {
        "drc": {},
        "offsets": [
         0
        ],
        "position": [
         95,
         43,
         -32
        ],
        "scale": 1,
        "scene": "<openalea.plantgl.scenegraph._pglsg.Scene object at 0x7fccb2011f10>"
       },
       "scene_4oXMPwMm5E5AqsZ9Negjm7XrP": {
        "drc": {},
        "offsets": [
         0
        ],
        "position": [
         110,
         -47,
         -73
        ],
        "scale": 1,
        "scene": "<openalea.plantgl.scenegraph._pglsg.Scene object at 0x7fccb2223110>"
       },
       "scene_51wLn1SyO9SYDqw6Mg7geKgwX": {
        "drc": {},
        "offsets": [
         0
        ],
        "position": [
         -44,
         118,
         -4
        ],
        "scale": 1,
        "scene": "<openalea.plantgl.scenegraph._pglsg.Scene object at 0x7fccb2305c70>"
       },
       "scene_5cEGcw0sGqnIM8yVmxnk4BPMa": {
        "drc": {},
        "offsets": [
         0
        ],
        "position": [
         29,
         -31,
         -73
        ],
        "scale": 1,
        "scene": "<openalea.plantgl.scenegraph._pglsg.Scene object at 0x7fccb2032f10>"
       },
       "scene_5vZz3xg5icSPTu9Zr7GhFtHt8": {
        "drc": {},
        "offsets": [
         0
        ],
        "position": [
         27,
         -35,
         -24
        ],
        "scale": 1,
        "scene": "<openalea.plantgl.scenegraph._pglsg.Scene object at 0x7fccb2044d50>"
       },
       "scene_6feScHZxgVSm0Ii32OmWW0PrX": {
        "drc": {},
        "offsets": [
         0
        ],
        "position": [
         126,
         -35,
         -10
        ],
        "scale": 1,
        "scene": "<openalea.plantgl.scenegraph._pglsg.Scene object at 0x7fccb2316d88>"
       },
       "scene_6gPbX5wsJweTa2fPxCE76vF6S": {
        "drc": {},
        "offsets": [
         0
        ],
        "position": [
         2,
         59,
         -19
        ],
        "scale": 1,
        "scene": "<openalea.plantgl.scenegraph._pglsg.Scene object at 0x7fccb2067650>"
       },
       "scene_6uqcFHEykWzcmKjgipTSVyAz4": {
        "drc": {},
        "offsets": [
         0
        ],
        "position": [
         39,
         -9,
         36
        ],
        "scale": 1,
        "scene": "<openalea.plantgl.scenegraph._pglsg.Scene object at 0x7fccb20012d0>"
       },
       "scene_719FrblOcWXKHlkjsnlwzaAT5": {
        "drc": {},
        "offsets": [
         0
        ],
        "position": [
         -74,
         -90,
         -31
        ],
        "scale": 1,
        "scene": "<openalea.plantgl.scenegraph._pglsg.Scene object at 0x7fccb226af10>"
       },
       "scene_75bsLFcD5mG2dJpwopj9AOS2f": {
        "drc": {},
        "offsets": [
         0
        ],
        "position": [
         124,
         116,
         35
        ],
        "scale": 1,
        "scene": "<openalea.plantgl.scenegraph._pglsg.Scene object at 0x7fccb2097810>"
       },
       "scene_7kDSjV03neLXyP1icg6T5OX8p": {
        "drc": {},
        "offsets": [
         0
        ],
        "position": [
         16,
         28,
         75
        ],
        "scale": 1,
        "scene": "<openalea.plantgl.scenegraph._pglsg.Scene object at 0x7fccb1ff1110>"
       },
       "scene_8Qovabx1FiefvLaxia1v34QCa": {
        "drc": {},
        "offsets": [
         0
        ],
        "position": [
         73,
         -17,
         4
        ],
        "scale": 1,
        "scene": "<openalea.plantgl.scenegraph._pglsg.Scene object at 0x7fccb2011b90>"
       },
       "scene_8U4xuB7jcSCbvbNYEmxXAVy3V": {
        "drc": {},
        "offsets": [
         0
        ],
        "position": [
         -95,
         -56,
         26
        ],
        "scale": 1,
        "scene": "<openalea.plantgl.scenegraph._pglsg.Scene object at 0x7fccb21e7c38>"
       },
       "scene_8Vtr9ebTdQnZdDyTSN4zjBeDY": {
        "drc": {},
        "offsets": [
         0
        ],
        "position": [
         -110,
         64,
         34
        ],
        "scale": 1,
        "scene": "<openalea.plantgl.scenegraph._pglsg.Scene object at 0x7fccb21e7f80>"
       },
       "scene_8a3Zt9d6ijnMtoeA1uaZRw6xm": {
        "drc": {},
        "offsets": [
         0
        ],
        "position": [
         -115,
         -38,
         -8
        ],
        "scale": 1,
        "scene": "<openalea.plantgl.scenegraph._pglsg.Scene object at 0x7fccb20862d0>"
       },
       "scene_8bwuTtN3HQvUVbzMLHfs11MjS": {
        "drc": {},
        "offsets": [
         0
        ],
        "position": [
         -55,
         -18,
         109
        ],
        "scale": 1,
        "scene": "<openalea.plantgl.scenegraph._pglsg.Scene object at 0x7fccb2229ce0>"
       },
       "scene_8ed5LZepsFsbJZRBTlZFzGKsm": {
        "drc": {},
        "offsets": [
         0
        ],
        "position": [
         39,
         34,
         108
        ],
        "scale": 1,
        "scene": "<openalea.plantgl.scenegraph._pglsg.Scene object at 0x7fccb22a5b20>"
       },
       "scene_8fnl7FX72zDSnxqYILWTbMFdt": {
        "drc": {},
        "offsets": [
         0
        ],
        "position": [
         -53,
         19,
         -50
        ],
        "scale": 1,
        "scene": "<openalea.plantgl.scenegraph._pglsg.Scene object at 0x7fccb22a5a78>"
       },
       "scene_8ivd8FXePo0Zxwk0u4N5DL1pK": {
        "drc": {},
        "offsets": [
         0
        ],
        "position": [
         -40,
         93,
         68
        ],
        "scale": 1,
        "scene": "<openalea.plantgl.scenegraph._pglsg.Scene object at 0x7fccb2086d50>"
       },
       "scene_8pYF0XoCfDKzqcgr4BF9Tv6mC": {
        "drc": {},
        "offsets": [
         0
        ],
        "position": [
         -69,
         -84,
         -40
        ],
        "scale": 1,
        "scene": "<openalea.plantgl.scenegraph._pglsg.Scene object at 0x7fccb219d810>"
       },
       "scene_8uVFFzerkD1tXdgVsPgoSt3GJ": {
        "drc": {},
        "offsets": [
         0
        ],
        "position": [
         -93,
         -27,
         -123
        ],
        "scale": 1,
        "scene": "<openalea.plantgl.scenegraph._pglsg.Scene object at 0x7fccb20c89d0>"
       },
       "scene_8wy5mheFaklRyMnB1RS98C6UU": {
        "drc": {},
        "offsets": [
         0
        ],
        "position": [
         40,
         126,
         -118
        ],
        "scale": 1,
        "scene": "<openalea.plantgl.scenegraph._pglsg.Scene object at 0x7fccb20a89d0>"
       },
       "scene_930BUg1kEucD1qmb693Id72WH": {
        "drc": {},
        "offsets": [
         0
        ],
        "position": [
         -18,
         -74,
         9
        ],
        "scale": 1,
        "scene": "<openalea.plantgl.scenegraph._pglsg.Scene object at 0x7fccb217d810>"
       },
       "scene_98THyGTWj8NGKxY0qe2nx8VjQ": {
        "drc": {},
        "offsets": [
         0
        ],
        "position": [
         -102,
         98,
         20
        ],
        "scale": 1,
        "scene": "<openalea.plantgl.scenegraph._pglsg.Scene object at 0x7fccb22295e0>"
       },
       "scene_9CbDvEyHd9ZMn57qCheKgxKxC": {
        "drc": {},
        "offsets": [
         0
        ],
        "position": [
         -92,
         -106,
         -91
        ],
        "scale": 1,
        "scene": "<openalea.plantgl.scenegraph._pglsg.Scene object at 0x7fccb22dab58>"
       },
       "scene_9G7fW5pCinTcM2GkWY4ZWazGs": {
        "drc": {},
        "offsets": [
         0
        ],
        "position": [
         -55,
         -93,
         -85
        ],
        "scale": 1,
        "scene": "<openalea.plantgl.scenegraph._pglsg.Scene object at 0x7fccb20a8650>"
       },
       "scene_9JjrKf8Vs0pgWrWdDe9X2hZyL": {
        "drc": {},
        "offsets": [
         0
        ],
        "position": [
         -6,
         -111,
         117
        ],
        "scale": 1,
        "scene": "<openalea.plantgl.scenegraph._pglsg.Scene object at 0x7fccb228cd50>"
       },
       "scene_9SRGz9ey1C9DM2HOCZ2ypzclm": {
        "drc": {},
        "offsets": [
         0
        ],
        "position": [
         5,
         -57,
         43
        ],
        "scale": 1,
        "scene": "<openalea.plantgl.scenegraph._pglsg.Scene object at 0x7fccb22b8650>"
       },
       "scene_9VaCC4sbj8lXfJBgXpBjldIGI": {
        "drc": {},
        "offsets": [
         0
        ],
        "position": [
         -56,
         -83,
         -25
        ],
        "scale": 1,
        "scene": "<openalea.plantgl.scenegraph._pglsg.Scene object at 0x7fccb226a228>"
       },
       "scene_9XNZcbPqoql2FkX6KbVOndm5Q": {
        "drc": {},
        "offsets": [
         0
        ],
        "position": [
         -22,
         72,
         -10
        ],
        "scale": 1,
        "scene": "<openalea.plantgl.scenegraph._pglsg.Scene object at 0x7fccb2119b90>"
       },
       "scene_9lSMRtqiVzMHmysLLBZuiQPPI": {
        "drc": {},
        "offsets": [
         0
        ],
        "position": [
         85,
         47,
         6
        ],
        "scale": 1,
        "scene": "<openalea.plantgl.scenegraph._pglsg.Scene object at 0x7fccb20ed9d0>"
       },
       "scene_9ymw2pSnsjjRF3pc5bnlpu61i": {
        "drc": {},
        "offsets": [
         0
        ],
        "position": [
         -10,
         -43,
         99
        ],
        "scale": 1,
        "scene": "<openalea.plantgl.scenegraph._pglsg.Scene object at 0x7fccb21b12d0>"
       },
       "scene_ADwJIQj80ZGDJIWA1qdo93cMa": {
        "drc": {},
        "offsets": [
         0
        ],
        "position": [
         37,
         -116,
         109
        ],
        "scale": 1,
        "scene": "<openalea.plantgl.scenegraph._pglsg.Scene object at 0x7fccb219df10>"
       },
       "scene_AYzDuuJYaVvstY6ydYVzbWrhN": {
        "drc": {},
        "offsets": [
         0
        ],
        "position": [
         -118,
         -63,
         -36
        ],
        "scale": 1,
        "scene": "<openalea.plantgl.scenegraph._pglsg.Scene object at 0x7fccb20b7110>"
       },
       "scene_Ae0S3TtHnHRbMnOXk4K9eKdTr": {
        "drc": {},
        "offsets": [
         0
        ],
        "position": [
         63,
         -61,
         -120
        ],
        "scale": 1,
        "scene": "<openalea.plantgl.scenegraph._pglsg.Scene object at 0x7fccb22f4110>"
       },
       "scene_BAeUjBRACDVOTj6Qy2x69LMxn": {
        "drc": {},
        "offsets": [
         0
        ],
        "position": [
         10,
         -121,
         110
        ],
        "scale": 1,
        "scene": "<openalea.plantgl.scenegraph._pglsg.Scene object at 0x7fccb215a228>"
       },
       "scene_BFWFJbtgEGfbLsbCHr8TZj5ag": {
        "drc": {},
        "offsets": [
         0
        ],
        "position": [
         18,
         108,
         -107
        ],
        "scale": 1,
        "scene": "<openalea.plantgl.scenegraph._pglsg.Scene object at 0x7fccb2119810>"
       },
       "scene_BNmn0Y2vOBljWDuGeB47Zz7qu": {
        "drc": {},
        "offsets": [
         0
        ],
        "position": [
         71,
         -104,
         44
        ],
        "scale": 1,
        "scene": "<openalea.plantgl.scenegraph._pglsg.Scene object at 0x7fccb2213d50>"
       },
       "scene_BYPTJ5ZDOowuz7Esdk73vQ0py": {
        "drc": {},
        "offsets": [
         0
        ],
        "position": [
         34,
         79,
         -90
        ],
        "scale": 1,
        "scene": "<openalea.plantgl.scenegraph._pglsg.Scene object at 0x7fccb21492d0>"
       },
       "scene_BYr6G5OBesKDvQUdT6RQpaWDV": {
        "drc": {},
        "offsets": [
         0
        ],
        "position": [
         -44,
         -29,
         0
        ],
        "scale": 1,
        "scene": "<openalea.plantgl.scenegraph._pglsg.Scene object at 0x7fccb228c9d0>"
       },
       "scene_BfkZAekTgumKuivJuv2SvdbiS": {
        "drc": {},
        "offsets": [
         0
        ],
        "position": [
         60,
         -45,
         123
        ],
        "scale": 1,
        "scene": "<openalea.plantgl.scenegraph._pglsg.Scene object at 0x7fccb22cb228>"
       },
       "scene_BmhqO84cQePxGHPwj1tnwRMgl": {
        "drc": {},
        "offsets": [
         0
        ],
        "position": [
         -77,
         81,
         -13
        ],
        "scale": 1,
        "scene": "<openalea.plantgl.scenegraph._pglsg.Scene object at 0x7fccb223b7a0>"
       },
       "scene_C4uYI3ue5XwLTLT9uViWMASnA": {
        "drc": {},
        "offsets": [
         0
        ],
        "position": [
         -42,
         45,
         15
        ],
        "scale": 1,
        "scene": "<openalea.plantgl.scenegraph._pglsg.Scene object at 0x7fccb22f4d88>"
       },
       "scene_CJmgeV7i59tJAb5IvpVJX9eGv": {
        "drc": {},
        "offsets": [
         0
        ],
        "position": [
         -4,
         -60,
         -43
        ],
        "scale": 1,
        "scene": "<openalea.plantgl.scenegraph._pglsg.Scene object at 0x7fccb219d490>"
       },
       "scene_CKtdXdZlGhPUHXwiOimCx90ZJ": {
        "drc": {},
        "offsets": [
         0
        ],
        "position": [
         107,
         -106,
         -56
        ],
        "scale": 1,
        "scene": "<openalea.plantgl.scenegraph._pglsg.Scene object at 0x7fccb2246ce0>"
       },
       "scene_CegnSDfriiHs7sI4rpVB0USbp": {
        "drc": {},
        "offsets": [
         0
        ],
        "position": [
         100,
         93,
         114
        ],
        "scale": 1,
        "scene": "<openalea.plantgl.scenegraph._pglsg.Scene object at 0x7fccb2077110>"
       },
       "scene_Cp7MPrIwUBh4mDv7DD5bsgIsq": {
        "drc": {},
        "offsets": [
         0
        ],
        "position": [
         -85,
         29,
         -7
        ],
        "scale": 1,
        "scene": "<openalea.plantgl.scenegraph._pglsg.Scene object at 0x7fccb2223ea0>"
       },
       "scene_Cqzo7l8OLPZ2ArwJAO4LdsDvE": {
        "drc": {},
        "offsets": [
         0
        ],
        "position": [
         -80,
         112,
         64
        ],
        "scale": 1,
        "scene": "<openalea.plantgl.scenegraph._pglsg.Scene object at 0x7fccb2223810>"
       },
       "scene_D7xXx4Ca7xh7wkZ0M6jibo3R8": {
        "drc": {},
        "offsets": [
         0
        ],
        "position": [
         -41,
         35,
         -112
        ],
        "scale": 1,
        "scene": "<openalea.plantgl.scenegraph._pglsg.Scene object at 0x7fccb22cb880>"
       },
       "scene_DDmt3pm6YuIZ4GIF5VJ55hOW5": {
        "drc": {},
        "offsets": [
         0
        ],
        "position": [
         12,
         -32,
         122
        ],
        "scale": 1,
        "scene": "<openalea.plantgl.scenegraph._pglsg.Scene object at 0x7fccb21deb90>"
       },
       "scene_DPt8bnYzFzJicoKgysen6m6B1": {
        "drc": {},
        "offsets": [
         0
        ],
        "position": [
         -72,
         6,
         -119
        ],
        "scale": 1,
        "scene": "<openalea.plantgl.scenegraph._pglsg.Scene object at 0x7fccb23050d8>"
       },
       "scene_DQLUdzGlIVipWp1ULFjerebob": {
        "drc": {},
        "offsets": [
         0
        ],
        "position": [
         73,
         -98,
         -26
        ],
        "scale": 1,
        "scene": "<openalea.plantgl.scenegraph._pglsg.Scene object at 0x7fccb22139d0>"
       },
       "scene_DUfntKY2cQOaGGW4SEFl64gZr": {
        "drc": {},
        "offsets": [
         0
        ],
        "position": [
         35,
         -81,
         -86
        ],
        "scale": 1,
        "scene": "<openalea.plantgl.scenegraph._pglsg.Scene object at 0x7fccb20222d0>"
       },
       "scene_Dv9HPa5zoKfhtjokgWwMKp364": {
        "drc": {},
        "offsets": [
         0
        ],
        "position": [
         -111,
         100,
         -112
        ],
        "scale": 1,
        "scene": "<openalea.plantgl.scenegraph._pglsg.Scene object at 0x7fccb218e768>"
       },
       "scene_DwZfsT8APwXpcq24kBmPVKe60": {
        "drc": {},
        "offsets": [
         0
        ],
        "position": [
         22,
         13,
         -14
        ],
        "scale": 1,
        "scene": "<openalea.plantgl.scenegraph._pglsg.Scene object at 0x7fccb2246960>"
       },
       "scene_ENWRQqbKqnEMJZgiXpN7qhcAE": {
        "drc": {},
        "offsets": [
         0
        ],
        "position": [
         85,
         -105,
         -74
        ],
        "scale": 1,
        "scene": "<openalea.plantgl.scenegraph._pglsg.Scene object at 0x7fccb20ed650>"
       },
       "scene_FM8JNssv2kuDfF7H9ItvSvId7": {
        "drc": {},
        "offsets": [
         0
        ],
        "position": [
         -98,
         -63,
         -30
        ],
        "scale": 1,
        "scene": "<openalea.plantgl.scenegraph._pglsg.Scene object at 0x7fccb2350768>"
       },
       "scene_FOgfyzvzXj4Rrw7tYp4zkjgBG": {
        "drc": {},
        "offsets": [
         0
        ],
        "position": [
         23,
         62,
         30
        ],
        "scale": 1,
        "scene": "<openalea.plantgl.scenegraph._pglsg.Scene object at 0x7fccb22a50d8>"
       },
       "scene_Fd4QbZUVuhF0HNYyPDYUXeYYK": {
        "drc": {},
        "offsets": [
         0
        ],
        "position": [
         108,
         -53,
         -111
        ],
        "scale": 1,
        "scene": "<openalea.plantgl.scenegraph._pglsg.Scene object at 0x7fccb212c9d0>"
       },
       "scene_GEinOaIzNW1zNuScNE6yTjI8V": {
        "drc": {},
        "offsets": [
         0
        ],
        "position": [
         -33,
         -117,
         -64
        ],
        "scale": 1,
        "scene": "<openalea.plantgl.scenegraph._pglsg.Scene object at 0x7fccb21712d0>"
       },
       "scene_Gb2PFGwoHGINtKttPubAblw0S": {
        "drc": {},
        "offsets": [
         0
        ],
        "position": [
         73,
         106,
         60
        ],
        "scale": 1,
        "scene": "<openalea.plantgl.scenegraph._pglsg.Scene object at 0x7fccb21b19d0>"
       },
       "scene_GcPqMBkoY78QgbcfOtLlQSMpC": {
        "drc": {},
        "offsets": [
         0
        ],
        "position": [
         79,
         -99,
         90
        ],
        "scale": 1,
        "scene": "<openalea.plantgl.scenegraph._pglsg.Scene object at 0x7fccb2350d18>"
       },
       "scene_Gx7HEaHu2DzJiwnWHhiuDB4kX": {
        "drc": {},
        "offsets": [
         0
        ],
        "position": [
         -95,
         103,
         -72
        ],
        "scale": 1,
        "scene": "<openalea.plantgl.scenegraph._pglsg.Scene object at 0x7fccb20619d0>"
       },
       "scene_HBWHnTyAGFfyfvaKp6lXiex0x": {
        "drc": {},
        "offsets": [
         0
        ],
        "position": [
         29,
         17,
         -11
        ],
        "scale": 1,
        "scene": "<openalea.plantgl.scenegraph._pglsg.Scene object at 0x7fccb20f9ea0>"
       },
       "scene_HZySdWgEUQnuQ26wRwP07E799": {
        "drc": {},
        "offsets": [
         0
        ],
        "position": [
         -111,
         -50,
         -15
        ],
        "scale": 1,
        "scene": "<openalea.plantgl.scenegraph._pglsg.Scene object at 0x7fccb219d110>"
       },
       "scene_ICxduMJPtHRwjrVLPJU3rDrh6": {
        "drc": {},
        "offsets": [
         0
        ],
        "position": [
         1,
         -25,
         126
        ],
        "scale": 1,
        "scene": "<openalea.plantgl.scenegraph._pglsg.Scene object at 0x7fccb2032b90>"
       },
       "scene_JowaR0hSlnjyZnyIAQCE4JeaK": {
        "drc": {},
        "offsets": [
         0
        ],
        "position": [
         -87,
         98,
         58
        ],
        "scale": 1,
        "scene": "<openalea.plantgl.scenegraph._pglsg.Scene object at 0x7fccb2223b90>"
       },
       "scene_Jpl8J6RttLn22CThGQa6o7XA9": {
        "drc": {},
        "offsets": [
         0
        ],
        "position": [
         62,
         111,
         44
        ],
        "scale": 1,
        "scene": "<openalea.plantgl.scenegraph._pglsg.Scene object at 0x7fccb2054490>"
       },
       "scene_KF590M5L8I5HhvOL3p3vNjU79": {
        "drc": {},
        "offsets": [
         0
        ],
        "position": [
         22,
         94,
         -35
        ],
        "scale": 1,
        "scene": "<openalea.plantgl.scenegraph._pglsg.Scene object at 0x7fccb210a3e8>"
       },
       "scene_Kb56NGaW4zvBguyLX318a0E2p": {
        "drc": {},
        "offsets": [
         0
        ],
        "position": [
         -109,
         70,
         -115
        ],
        "scale": 1,
        "scene": "<openalea.plantgl.scenegraph._pglsg.Scene object at 0x7fccb227e688>"
       },
       "scene_KcUvrh2HvT33scVyg4HmTRXOT": {
        "drc": {},
        "offsets": [
         0
        ],
        "position": [
         -9,
         -123,
         59
        ],
        "scale": 1,
        "scene": "<openalea.plantgl.scenegraph._pglsg.Scene object at 0x7fccb215a810>"
       },
       "scene_KkJv3gFs08vHiozax5U4uS1Uo": {
        "drc": {},
        "offsets": [
         0
        ],
        "position": [
         123,
         -80,
         101
        ],
        "scale": 1,
        "scene": "<openalea.plantgl.scenegraph._pglsg.Scene object at 0x7fccb20c8d50>"
       },
       "scene_KsYcH095nMbvIYh5ugD8EapCt": {
        "drc": {},
        "offsets": [
         0
        ],
        "position": [
         -86,
         -54,
         -90
        ],
        "scale": 1,
        "scene": "<openalea.plantgl.scenegraph._pglsg.Scene object at 0x7fccb2171650>"
       },
       "scene_LIJbDg7rPrj4CFdDHU3SwfQaZ": {
        "drc": {},
        "offsets": [
         0
        ],
        "position": [
         -108,
         33,
         54
        ],
        "scale": 1,
        "scene": "<openalea.plantgl.scenegraph._pglsg.Scene object at 0x7fccb22f46f8>"
       },
       "scene_LWP6QFDsoCXQ4kMZtTLsm3cXb": {
        "drc": {},
        "offsets": [
         0
        ],
        "position": [
         -52,
         -85,
         80
        ],
        "scale": 1,
        "scene": "<openalea.plantgl.scenegraph._pglsg.Scene object at 0x7fccb2316b90>"
       },
       "scene_LXaeu9F45fNQpYNpyjRSerpAb": {
        "drc": {},
        "offsets": [
         0
        ],
        "position": [
         6,
         -53,
         -39
        ],
        "scale": 1,
        "scene": "<openalea.plantgl.scenegraph._pglsg.Scene object at 0x7fccb2097490>"
       },
       "scene_LmG3gV66PwcDmXJt1HRXqq3hg": {
        "drc": {},
        "offsets": [
         0
        ],
        "position": [
         26,
         72,
         125
        ],
        "scale": 1,
        "scene": "<openalea.plantgl.scenegraph._pglsg.Scene object at 0x7fccb2bf29d0>"
       },
       "scene_M4jyilG22MvZW3yMwuiixfjWX": {
        "drc": {},
        "offsets": [
         0
        ],
        "position": [
         99,
         -57,
         43
        ],
        "scale": 1,
        "scene": "<openalea.plantgl.scenegraph._pglsg.Scene object at 0x7fccb212cd50>"
       },
       "scene_MDc0xMmpb2NeP810lRv1Zrfyl": {
        "drc": {},
        "offsets": [
         0
        ],
        "position": [
         50,
         -32,
         31
        ],
        "scale": 1,
        "scene": "<openalea.plantgl.scenegraph._pglsg.Scene object at 0x7fccb20f9810>"
       },
       "scene_MftF8XembSasoFTHfnaAhHD2i": {
        "drc": {},
        "offsets": [
         0
        ],
        "position": [
         74,
         78,
         57
        ],
        "scale": 1,
        "scene": "<openalea.plantgl.scenegraph._pglsg.Scene object at 0x7fccb212c2d0>"
       },
       "scene_MlS4x71eMvSWGre30d0Q46kvE": {
        "drc": {},
        "offsets": [
         0
        ],
        "position": [
         13,
         75,
         49
        ],
        "scale": 1,
        "scene": "<openalea.plantgl.scenegraph._pglsg.Scene object at 0x7fccb227e8b8>"
       },
       "scene_MvHVu18gUt86KFeZEJ9z6GhJC": {
        "drc": {},
        "offsets": [
         0
        ],
        "position": [
         28,
         107,
         33
        ],
        "scale": 1,
        "scene": "<openalea.plantgl.scenegraph._pglsg.Scene object at 0x7fccb2025ae8>"
       },
       "scene_N3kT7bdyj1JxWzCpa5OVMwC1A": {
        "drc": {},
        "offsets": [
         0
        ],
        "position": [
         107,
         -16,
         83
        ],
        "scale": 1,
        "scene": "<openalea.plantgl.scenegraph._pglsg.Scene object at 0x7fccb217d110>"
       },
       "scene_NUG8YlUGWDd7KBTiQtn5qxrQR": {
        "drc": {},
        "offsets": [
         0
        ],
        "position": [
         -17,
         -102,
         -89
        ],
        "scale": 1,
        "scene": "<openalea.plantgl.scenegraph._pglsg.Scene object at 0x7fccb2119490>"
       },
       "scene_NeClaoUiuJSxEJZwIyJ7d71Jo": {
        "drc": {},
        "offsets": [
         0
        ],
        "position": [
         39,
         77,
         -40
        ],
        "scale": 1,
        "scene": "<openalea.plantgl.scenegraph._pglsg.Scene object at 0x7fccb20612d0>"
       },
       "scene_Noj9qqOk0r15K8v4UA2wbIF3A": {
        "drc": {},
        "offsets": [
         0
        ],
        "position": [
         -44,
         98,
         25
        ],
        "scale": 1,
        "scene": "<openalea.plantgl.scenegraph._pglsg.Scene object at 0x7fccb22e7378>"
       },
       "scene_OHJ9TEcwkGjV74jGp2Y5gQnFd": {
        "drc": {},
        "offsets": [
         0
        ],
        "position": [
         109,
         -119,
         -95
        ],
        "scale": 1,
        "scene": "<openalea.plantgl.scenegraph._pglsg.Scene object at 0x7fccb22da1f0>"
       },
       "scene_OZQUVBlOsEVUpDi7A9WcGG38N": {
        "drc": {},
        "offsets": [
         0
        ],
        "position": [
         32,
         -108,
         34
        ],
        "scale": 1,
        "scene": "<openalea.plantgl.scenegraph._pglsg.Scene object at 0x7fccb2011490>"
       },
       "scene_OmvbvLbKcm5QS1FtWKUzH7fYQ": {
        "drc": {},
        "offsets": [
         0
        ],
        "position": [
         102,
         114,
         53
        ],
        "scale": 1,
        "scene": "<openalea.plantgl.scenegraph._pglsg.Scene object at 0x7fccb20449d0>"
       },
       "scene_OqAbXc3HVtEuxOX9ITAK7Cx4I": {
        "drc": {},
        "offsets": [
         0
        ],
        "position": [
         -35,
         -62,
         6
        ],
        "scale": 1,
        "scene": "<openalea.plantgl.scenegraph._pglsg.Scene object at 0x7fccb2205f10>"
       },
       "scene_OvWn7m3btCa3cVqljloTmS2nH": {
        "drc": {},
        "offsets": [
         0
        ],
        "position": [
         56,
         -85,
         96
        ],
        "scale": 1,
        "scene": "<openalea.plantgl.scenegraph._pglsg.Scene object at 0x7fccb217d490>"
       },
       "scene_P95P4clQLSnKsijvOX6VJ2yGL": {
        "drc": {},
        "offsets": [
         0
        ],
        "position": [
         27,
         50,
         66
        ],
        "scale": 1,
        "scene": "<openalea.plantgl.scenegraph._pglsg.Scene object at 0x7fccb20d7b90>"
       },
       "scene_PAyqZmToa0l00QBf7H3Ay3z3a": {
        "drc": {},
        "offsets": [
         0
        ],
        "position": [
         1,
         95,
         63
        ],
        "scale": 1,
        "scene": "<openalea.plantgl.scenegraph._pglsg.Scene object at 0x7fccb20672d0>"
       },
       "scene_PUDc1NHOrgFTrnBYRWWW1qTTc": {
        "drc": {},
        "offsets": [
         0
        ],
        "position": [
         36,
         -87,
         -110
        ],
        "scale": 1,
        "scene": "<openalea.plantgl.scenegraph._pglsg.Scene object at 0x7fccb2054b90>"
       },
       "scene_Pd1UDsabj7TED6sozmiFaVO8x": {
        "drc": {},
        "offsets": [
         0
        ],
        "position": [
         -42,
         -109,
         114
        ],
        "scale": 1,
        "scene": "<openalea.plantgl.scenegraph._pglsg.Scene object at 0x7fccb2bd3260>"
       },
       "scene_ProtyUKHleESs03wH9tJ4RqvB": {
        "drc": {},
        "offsets": [
         0
        ],
        "position": [
         -10,
         90,
         -22
        ],
        "scale": 1,
        "scene": "<openalea.plantgl.scenegraph._pglsg.Scene object at 0x7fccb1ff1f10>"
       },
       "scene_QCdYDSgzA0c8frxSQVKioZ8Vm": {
        "drc": {},
        "offsets": [
         0
        ],
        "position": [
         -72,
         -44,
         1
        ],
        "scale": 1,
        "scene": "<openalea.plantgl.scenegraph._pglsg.Scene object at 0x7fccb31c0688>"
       },
       "scene_QomOQwr6UVz4cYSnNctc5P9FS": {
        "drc": {},
        "offsets": [
         0
        ],
        "position": [
         -44,
         -6,
         -86
        ],
        "scale": 1,
        "scene": "<openalea.plantgl.scenegraph._pglsg.Scene object at 0x7fccb227e260>"
       },
       "scene_QvVeD1yJPtARsDN6dRnTg1o1P": {
        "drc": {},
        "offsets": [
         0
        ],
        "position": [
         63,
         -50,
         -6
        ],
        "scale": 1,
        "scene": "<openalea.plantgl.scenegraph._pglsg.Scene object at 0x7fccb225a420>"
       },
       "scene_QxHzZTAv92EqEtlzcvfol2WT7": {
        "drc": {},
        "offsets": [
         0
        ],
        "position": [
         -73,
         112,
         119
        ],
        "scale": 1,
        "scene": "<openalea.plantgl.scenegraph._pglsg.Scene object at 0x7fccb212c650>"
       },
       "scene_Rb1o6lW0Hm4zNGjOR2jpKoIN0": {
        "drc": {},
        "offsets": [
         0
        ],
        "position": [
         -108,
         53,
         -68
        ],
        "scale": 1,
        "scene": "<openalea.plantgl.scenegraph._pglsg.Scene object at 0x7fccb20f9110>"
       },
       "scene_SG3riHQMFsk4bfUS9CKphgQgK": {
        "drc": {},
        "offsets": [
         0
        ],
        "position": [
         -11,
         -23,
         87
        ],
        "scale": 1,
        "scene": "<openalea.plantgl.scenegraph._pglsg.Scene object at 0x7fccb2213650>"
       },
       "scene_SSGcpDtYIiQBxeGTc3tFfCOO0": {
        "drc": {},
        "offsets": [
         0
        ],
        "position": [
         92,
         96,
         71
        ],
        "scale": 1,
        "scene": "<openalea.plantgl.scenegraph._pglsg.Scene object at 0x7fccb21e7570>"
       },
       "scene_St8yLxxRaOLHPlxRGCEXxoKmv": {
        "drc": {},
        "offsets": [
         0
        ],
        "position": [
         -18,
         -89,
         -37
        ],
        "scale": 1,
        "scene": "<openalea.plantgl.scenegraph._pglsg.Scene object at 0x7fccb21f8d88>"
       },
       "scene_TDkdN4d0zbp2G4ttyuReqHROl": {
        "drc": {},
        "offsets": [
         0
        ],
        "position": [
         -9,
         -119,
         -50
        ],
        "scale": 1,
        "scene": "<openalea.plantgl.scenegraph._pglsg.Scene object at 0x7fccb2119f10>"
       },
       "scene_TN8Z75TRN3xPMArT3dM9Eii6o": {
        "drc": {},
        "offsets": [
         0
        ],
        "position": [
         106,
         75,
         -7
        ],
        "scale": 1,
        "scene": "<openalea.plantgl.scenegraph._pglsg.Scene object at 0x7fccb2119110>"
       },
       "scene_TabtIUHAMrPnGR333muob3uLQ": {
        "drc": {},
        "offsets": [
         0
        ],
        "position": [
         -14,
         84,
         5
        ],
        "scale": 1,
        "scene": "<openalea.plantgl.scenegraph._pglsg.Scene object at 0x7fccb22da500>"
       },
       "scene_TgTmmHOfXROK5XnZAIWX8al55": {
        "drc": {},
        "offsets": [
         0
        ],
        "position": [
         119,
         -11,
         -58
        ],
        "scale": 1,
        "scene": "<openalea.plantgl.scenegraph._pglsg.Scene object at 0x7fccb22e7688>"
       },
       "scene_Tql87HrpPRjWKQJY5z35kyAFN": {
        "drc": {},
        "offsets": [
         0
        ],
        "position": [
         -116,
         72,
         -125
        ],
        "scale": 1,
        "scene": "<openalea.plantgl.scenegraph._pglsg.Scene object at 0x7fccb225a848>"
       },
       "scene_U6oCwwFEJY7m79ldLKBKd6CwP": {
        "drc": {},
        "offsets": [
         0
        ],
        "position": [
         -44,
         58,
         118
        ],
        "scale": 1,
        "scene": "<openalea.plantgl.scenegraph._pglsg.Scene object at 0x7fccb21b1d50>"
       },
       "scene_U9PMWvQdq91N0eMo6IHj9cied": {
        "drc": {},
        "offsets": [
         0
        ],
        "position": [
         120,
         -3,
         82
        ],
        "scale": 1,
        "scene": "<openalea.plantgl.scenegraph._pglsg.Scene object at 0x7fccb21b1650>"
       },
       "scene_UTP3eloxIqyxj3XAzrkfzMnjH": {
        "drc": {},
        "offsets": [
         0
        ],
        "position": [
         116,
         -50,
         7
        ],
        "scale": 1,
        "scene": "<openalea.plantgl.scenegraph._pglsg.Scene object at 0x7fccb20d7ea0>"
       },
       "scene_UxY6O63Eovu1wyEDY9QzZyoSH": {
        "drc": {},
        "offsets": [
         0
        ],
        "position": [
         7,
         125,
         100
        ],
        "scale": 1,
        "scene": "<openalea.plantgl.scenegraph._pglsg.Scene object at 0x7fccb2316730>"
       },
       "scene_VIIoMPejYtjtyjrxnDAPXsu9x": {
        "drc": {},
        "offsets": [
         0
        ],
        "position": [
         -5,
         -10,
         27
        ],
        "scale": 1,
        "scene": "<openalea.plantgl.scenegraph._pglsg.Scene object at 0x7fccb2061d50>"
       },
       "scene_VdH8Fxu71cq9dBmyECJEDNyam": {
        "drc": {},
        "offsets": [
         0
        ],
        "position": [
         75,
         99,
         94
        ],
        "scale": 1,
        "scene": "<openalea.plantgl.scenegraph._pglsg.Scene object at 0x7fccb20c8650>"
       },
       "scene_W0kZDchYnFvIna4Sx38unLpHV": {
        "drc": {},
        "offsets": [
         0
        ],
        "position": [
         40,
         -61,
         -79
        ],
        "scale": 1,
        "scene": "<openalea.plantgl.scenegraph._pglsg.Scene object at 0x7fccb21de490>"
       },
       "scene_WHS4F2cMca4ISwCyUtcutVry8": {
        "drc": {},
        "offsets": [
         0
        ],
        "position": [
         118,
         21,
         58
        ],
        "scale": 1,
        "scene": "<openalea.plantgl.scenegraph._pglsg.Scene object at 0x7fccb20d7490>"
       },
       "scene_WdpU5ppKDAvjiHK0bT9n2lhLA": {
        "drc": {},
        "offsets": [
         0
        ],
        "position": [
         5,
         42,
         125
        ],
        "scale": 1,
        "scene": "<openalea.plantgl.scenegraph._pglsg.Scene object at 0x7fccb213eb90>"
       },
       "scene_X1HZrvltvZfOBYdUeQqk1L5Wr": {
        "drc": {},
        "offsets": [
         0
        ],
        "position": [
         67,
         10,
         62
        ],
        "scale": 1,
        "scene": "<openalea.plantgl.scenegraph._pglsg.Scene object at 0x7fccb223bb20>"
       },
       "scene_XD7J0XJNFHdUDyUNkzVDGVnG6": {
        "drc": {},
        "offsets": [
         0
        ],
        "position": [
         -2,
         -50,
         12
        ],
        "scale": 1,
        "scene": "<openalea.plantgl.scenegraph._pglsg.Scene object at 0x7fccb225ae30>"
       },
       "scene_XDbf3joMY1I5Q4nqAH2QM95RN": {
        "drc": {},
        "offsets": [
         0
        ],
        "position": [
         -24,
         113,
         -22
        ],
        "scale": 1,
        "scene": "<openalea.plantgl.scenegraph._pglsg.Scene object at 0x7fccb21719d0>"
       },
       "scene_XESjvzqoPmM5dqHwDSN4YmTh3": {
        "drc": {},
        "offsets": [
         0
        ],
        "position": [
         -23,
         124,
         52
        ],
        "scale": 1,
        "scene": "<openalea.plantgl.scenegraph._pglsg.Scene object at 0x7fccb225a068>"
       },
       "scene_XGHCX0wCZ54TIBuajKTxfzNBi": {
        "drc": {},
        "offsets": [
         0
        ],
        "position": [
         -39,
         -113,
         44
        ],
        "scale": 1,
        "scene": "<openalea.plantgl.scenegraph._pglsg.Scene object at 0x7fccb20f95a8>"
       },
       "scene_XKyRb7p9HyOPZJmdD6gZOxdtd": {
        "drc": {},
        "offsets": [
         0
        ],
        "position": [
         22,
         72,
         -47
        ],
        "scale": 1,
        "scene": "<openalea.plantgl.scenegraph._pglsg.Scene object at 0x7fccb20d7810>"
       },
       "scene_XgdYUwPnnbCmj7PjVY4gZp8j7": {
        "drc": {},
        "offsets": [
         0
        ],
        "position": [
         3,
         -94,
         -85
        ],
        "scale": 1,
        "scene": "<openalea.plantgl.scenegraph._pglsg.Scene object at 0x7fccb2011810>"
       },
       "scene_XzdgQOqnkpuDzuxd6QcT5g8va": {
        "drc": {},
        "offsets": [
         0
        ],
        "position": [
         -93,
         -72,
         110
        ],
        "scale": 1,
        "scene": "<openalea.plantgl.scenegraph._pglsg.Scene object at 0x7fccb215af10>"
       },
       "scene_YGfxqr4Mp96KYaqmIURieYkIw": {
        "drc": {},
        "offsets": [
         0
        ],
        "position": [
         26,
         -58,
         -63
        ],
        "scale": 1,
        "scene": "<openalea.plantgl.scenegraph._pglsg.Scene object at 0x7fccb226a880>"
       },
       "scene_YdEaIh7caGECZe3CYSXPOVtzY": {
        "drc": {},
        "offsets": [
         0
        ],
        "position": [
         84,
         15,
         64
        ],
        "scale": 1,
        "scene": "<openalea.plantgl.scenegraph._pglsg.Scene object at 0x7fccb22a5768>"
       },
       "scene_YryVCad1Xi7oq43E0yTXsGpLo": {
        "drc": {},
        "offsets": [
         0
        ],
        "position": [
         21,
         -67,
         -65
        ],
        "scale": 1,
        "scene": "<openalea.plantgl.scenegraph._pglsg.Scene object at 0x7fccb22f4a78>"
       },
       "scene_Yw5mGFQjuEe3Z67C8iFs1ubvV": {
        "drc": {},
        "offsets": [
         0
        ],
        "position": [
         -42,
         -17,
         61
        ],
        "scale": 1,
        "scene": "<openalea.plantgl.scenegraph._pglsg.Scene object at 0x7fccb217db90>"
       },
       "scene_ZF3M5nxel3qYODOCvaDkxBFP8": {
        "drc": {},
        "offsets": [
         0
        ],
        "position": [
         -93,
         25,
         43
        ],
        "scale": 1,
        "scene": "<openalea.plantgl.scenegraph._pglsg.Scene object at 0x7fccb2223490>"
       },
       "scene_Zhlm9DFXgq0OUr8cdijEwbymH": {
        "drc": {},
        "offsets": [
         0
        ],
        "position": [
         125,
         -52,
         -122
        ],
        "scale": 1,
        "scene": "<openalea.plantgl.scenegraph._pglsg.Scene object at 0x7fccb22054c8>"
       },
       "scene_Zj5MKgwQqTg4SV7Tp92ka2LBa": {
        "drc": {},
        "offsets": [
         0
        ],
        "position": [
         -2,
         -76,
         -74
        ],
        "scale": 1,
        "scene": "<openalea.plantgl.scenegraph._pglsg.Scene object at 0x7fccb2229960>"
       },
       "scene_a4DZPTas3whBX1tiHAKvC8NL0": {
        "drc": {},
        "offsets": [
         0
        ],
        "position": [
         -52,
         81,
         64
        ],
        "scale": 1,
        "scene": "<openalea.plantgl.scenegraph._pglsg.Scene object at 0x7fccb225a7a0>"
       },
       "scene_a9M3spoGFGxIqDVDXZBKQJ6PP": {
        "drc": {},
        "offsets": [
         0
        ],
        "position": [
         -99,
         -17,
         -49
        ],
        "scale": 1,
        "scene": "<openalea.plantgl.scenegraph._pglsg.Scene object at 0x7fccb20019d0>"
       },
       "scene_aAXtUXtZTUZdR2H7fgelR9vfg": {
        "drc": {},
        "offsets": [
         0
        ],
        "position": [
         -47,
         -77,
         -122
        ],
        "scale": 1,
        "scene": "<openalea.plantgl.scenegraph._pglsg.Scene object at 0x7fccb21d3650>"
       },
       "scene_aWdeqOPAYnMmZJh2f2RpwdWBW": {
        "drc": {},
        "offsets": [
         0
        ],
        "position": [
         -33,
         -6,
         38
        ],
        "scale": 1,
        "scene": "<openalea.plantgl.scenegraph._pglsg.Scene object at 0x7fccb213e490>"
       },
       "scene_amC18lHAbspC0YBeq5Tu31MnU": {
        "drc": {},
        "offsets": [
         0
        ],
        "position": [
         -103,
         -120,
         -113
        ],
        "scale": 1,
        "scene": "<openalea.plantgl.scenegraph._pglsg.Scene object at 0x7fccb2077b90>"
       },
       "scene_anTRwrhKqk0vgi9TYr21PF10b": {
        "drc": {},
        "offsets": [
         0
        ],
        "position": [
         109,
         12,
         25
        ],
        "scale": 1,
        "scene": "<openalea.plantgl.scenegraph._pglsg.Scene object at 0x7fccb2097f10>"
       },
       "scene_bHUuIDh6GwDrEK3kcdieqiCwO": {
        "drc": {},
        "offsets": [
         0
        ],
        "position": [
         -99,
         106,
         -57
        ],
        "scale": 1,
        "scene": "<openalea.plantgl.scenegraph._pglsg.Scene object at 0x7fccb2061650>"
       },
       "scene_bRgeEr1S6iX2k3Hmau91vUX2f": {
        "drc": {},
        "offsets": [
         0
        ],
        "position": [
         -7,
         39,
         126
        ],
        "scale": 1,
        "scene": "<openalea.plantgl.scenegraph._pglsg.Scene object at 0x7fccb2205bc8>"
       },
       "scene_c2UxYtQLLwdRSgYHyFhU0WFQ2": {
        "drc": {},
        "offsets": [
         0
        ],
        "position": [
         -89,
         87,
         101
        ],
        "scale": 1,
        "scene": "<openalea.plantgl.scenegraph._pglsg.Scene object at 0x7fccb2032810>"
       },
       "scene_cOWxx5uUcVFIl2RY656Q4RK76": {
        "drc": {},
        "offsets": [
         0
        ],
        "position": [
         0,
         121,
         78
        ],
        "scale": 1,
        "scene": "<openalea.plantgl.scenegraph._pglsg.Scene object at 0x7fccb22465e0>"
       },
       "scene_cZvPbicpimb89EpXp0Ivc2CpK": {
        "drc": {},
        "offsets": [
         0
        ],
        "position": [
         -126,
         6,
         98
        ],
        "scale": 1,
        "scene": "<openalea.plantgl.scenegraph._pglsg.Scene object at 0x7fccb215a490>"
       },
       "scene_cg6BIUgdMka3OpItAQ04ub0NL": {
        "drc": {},
        "offsets": [
         0
        ],
        "position": [
         -28,
         -1,
         -45
        ],
        "scale": 1,
        "scene": "<openalea.plantgl.scenegraph._pglsg.Scene object at 0x7fccb229c490>"
       },
       "scene_crnJidjWUShEbp7wNl4izybr4": {
        "drc": {},
        "offsets": [
         0
        ],
        "position": [
         -28,
         -79,
         54
        ],
        "scale": 1,
        "scene": "<openalea.plantgl.scenegraph._pglsg.Scene object at 0x7fccb218ed50>"
       },
       "scene_cxOvKvBx0KpKtDK5TO9dDNu5z": {
        "drc": {},
        "offsets": [
         0
        ],
        "position": [
         -72,
         -26,
         -47
        ],
        "scale": 1,
        "scene": "<openalea.plantgl.scenegraph._pglsg.Scene object at 0x7fccb22e7960>"
       },
       "scene_czl2gqRn0E95gVlE7Hff1DH4p": {
        "drc": {},
        "offsets": [
         0
        ],
        "position": [
         5,
         -87,
         18
        ],
        "scale": 1,
        "scene": "<openalea.plantgl.scenegraph._pglsg.Scene object at 0x7fccb223b068>"
       },
       "scene_eB9HcyBZryEkUOIFPkNKXG3kP": {
        "drc": {},
        "offsets": [
         0
        ],
        "position": [
         110,
         -88,
         87
        ],
        "scale": 1,
        "scene": "<openalea.plantgl.scenegraph._pglsg.Scene object at 0x7fccb227ebc8>"
       },
       "scene_eYDjsbdpORnAW7YYBwzAPqYU9": {
        "drc": {},
        "offsets": [
         0
        ],
        "position": [
         64,
         16,
         57
        ],
        "scale": 1,
        "scene": "<openalea.plantgl.scenegraph._pglsg.Scene object at 0x7fccb22b8068>"
       },
       "scene_eaD3oQBfVwdmTpioSr108xVRH": {
        "drc": {},
        "offsets": [
         0
        ],
        "position": [
         16,
         44,
         -86
        ],
        "scale": 1,
        "scene": "<openalea.plantgl.scenegraph._pglsg.Scene object at 0x7fccb2022650>"
       },
       "scene_fWrWc39ehSPn7CFb58HKhmU7F": {
        "drc": {},
        "offsets": [
         0
        ],
        "position": [
         3,
         119,
         -96
        ],
        "scale": 1,
        "scene": "<openalea.plantgl.scenegraph._pglsg.Scene object at 0x7fccb229c110>"
       },
       "scene_gBO3ucsvi7UmwlvZuBPBFDgpu": {
        "drc": {},
        "offsets": [
         0
        ],
        "position": [
         104,
         -6,
         -43
        ],
        "scale": 1,
        "scene": "<openalea.plantgl.scenegraph._pglsg.Scene object at 0x7fccb21d32d0>"
       },
       "scene_gDGBORPcxWu6O2qN90mPkFZUy": {
        "drc": {},
        "offsets": [
         0
        ],
        "position": [
         123,
         3,
         0
        ],
        "scale": 1,
        "scene": "<openalea.plantgl.scenegraph._pglsg.Scene object at 0x7fccb1ff1810>"
       },
       "scene_gHY3yHtvjoAQvfgiaxbIGbRhY": {
        "drc": {},
        "offsets": [
         0
        ],
        "position": [
         -113,
         119,
         -25
        ],
        "scale": 1,
        "scene": "<openalea.plantgl.scenegraph._pglsg.Scene object at 0x7fccb20a82d0>"
       },
       "scene_gNPhJ6Y0uHDCPVmwdybbJbvqR": {
        "drc": {},
        "offsets": [
         0
        ],
        "position": [
         62,
         -49,
         -100
        ],
        "scale": 1,
        "scene": "<openalea.plantgl.scenegraph._pglsg.Scene object at 0x7fccb2086650>"
       },
       "scene_gb6Q0imqOt77aFFarn0Klijq8": {
        "drc": {},
        "offsets": [
         0
        ],
        "position": [
         -64,
         -35,
         -113
        ],
        "scale": 1,
        "scene": "<openalea.plantgl.scenegraph._pglsg.Scene object at 0x7fccb22b8c38>"
       },
       "scene_gftOMIv8zJsIpoWq0u75k9jCZ": {
        "drc": {},
        "offsets": [
         0
        ],
        "position": [
         62,
         8,
         -49
        ],
        "scale": 1,
        "scene": "<openalea.plantgl.scenegraph._pglsg.Scene object at 0x7fccb2025d50>"
       },
       "scene_hRQDf7kWhCGWQnOmqvQhdjFJk": {
        "drc": {},
        "offsets": [
         0
        ],
        "position": [
         108,
         -41,
         -13
        ],
        "scale": 1,
        "scene": "<openalea.plantgl.scenegraph._pglsg.Scene object at 0x7fccb223bea0>"
       },
       "scene_hSWyQN5YKVpVELwDF4ui9mUCH": {
        "drc": {},
        "offsets": [
         0
        ],
        "position": [
         2,
         81,
         85
        ],
        "scale": 1,
        "scene": "<openalea.plantgl.scenegraph._pglsg.Scene object at 0x7fccb22f43b0>"
       },
       "scene_hV5c8G1VSQxIjRhm7c0fe9eJX": {
        "drc": {},
        "offsets": [
         0
        ],
        "position": [
         53,
         -76,
         18
        ],
        "scale": 1,
        "scene": "<openalea.plantgl.scenegraph._pglsg.Scene object at 0x7fccb223b420>"
       },
       "scene_hv0fDNGoUgmm34b1derjiEIzK": {
        "drc": {},
        "offsets": [
         0
        ],
        "position": [
         -87,
         -67,
         115
        ],
        "scale": 1,
        "scene": "<openalea.plantgl.scenegraph._pglsg.Scene object at 0x7fccb20b7b90>"
       },
       "scene_iBhlNnZUYTMpQyGNFSEo6AOJN": {
        "drc": {},
        "offsets": [
         0
        ],
        "position": [
         -65,
         -108,
         9
        ],
        "scale": 1,
        "scene": "<openalea.plantgl.scenegraph._pglsg.Scene object at 0x7fccb229c810>"
       },
       "scene_iBr6cMyn9oElRyUtwyvepZf16": {
        "drc": {},
        "offsets": [
         0
        ],
        "position": [
         -70,
         32,
         -93
        ],
        "scale": 1,
        "scene": "<openalea.plantgl.scenegraph._pglsg.Scene object at 0x7fccb20ed2d0>"
       },
       "scene_iCizyZvg4jsS2qjI1HzAWrR13": {
        "drc": {},
        "offsets": [
         0
        ],
        "position": [
         -25,
         119,
         104
        ],
        "scale": 1,
        "scene": "<openalea.plantgl.scenegraph._pglsg.Scene object at 0x7fccb22132d0>"
       },
       "scene_iijUwQv0HSZv8uLC5fVN3xHru": {
        "drc": {},
        "offsets": [
         0
        ],
        "position": [
         -7,
         68,
         -39
        ],
        "scale": 1,
        "scene": "<openalea.plantgl.scenegraph._pglsg.Scene object at 0x7fccb21c3f10>"
       },
       "scene_in1Ud5n91KKdsWLSmxJgXrF0o": {
        "drc": {},
        "offsets": [
         0
        ],
        "position": [
         89,
         120,
         14
        ],
        "scale": 1,
        "scene": "<openalea.plantgl.scenegraph._pglsg.Scene object at 0x7fccb21c3110>"
       },
       "scene_iwsCrjYrFb7HwYNyZgQUQaWDQ": {
        "drc": {},
        "offsets": [
         0
        ],
        "position": [
         -126,
         -57,
         -1
        ],
        "scale": 1,
        "scene": "<openalea.plantgl.scenegraph._pglsg.Scene object at 0x7fccb2054810>"
       },
       "scene_j8677eIn445C6Kl835xdPv6nQ": {
        "drc": {},
        "offsets": [
         0
        ],
        "position": [
         -6,
         -43,
         16
        ],
        "scale": 1,
        "scene": "<openalea.plantgl.scenegraph._pglsg.Scene object at 0x7fccb2229260>"
       },
       "scene_jV4ii56ApyzbNDZdK9DgqxEcj": {
        "drc": {},
        "offsets": [
         0
        ],
        "position": [
         28,
         95,
         -96
        ],
        "scale": 1,
        "scene": "<openalea.plantgl.scenegraph._pglsg.Scene object at 0x7fccb20252d0>"
       },
       "scene_jVIciLScJrX7zS1BSIVUZQ23o": {
        "drc": {},
        "offsets": [
         0
        ],
        "position": [
         113,
         -49,
         -84
        ],
        "scale": 1,
        "scene": "<openalea.plantgl.scenegraph._pglsg.Scene object at 0x7fccb2149650>"
       },
       "scene_jXYOrDGROQd7XEoNic35OrYTU": {
        "drc": {},
        "offsets": [
         0
        ],
        "position": [
         -67,
         28,
         -95
        ],
        "scale": 1,
        "scene": "<openalea.plantgl.scenegraph._pglsg.Scene object at 0x7fccb2171d50>"
       },
       "scene_k8kmsi7gGicFFpN8qtlA8qeat": {
        "drc": {},
        "offsets": [
         0
        ],
        "position": [
         110,
         63,
         40
        ],
        "scale": 1,
        "scene": "<openalea.plantgl.scenegraph._pglsg.Scene object at 0x7fccb215ab90>"
       },
       "scene_ksFjXCiX852x6nLBXiAbMRFdt": {
        "drc": {},
        "offsets": [
         0
        ],
        "position": [
         30,
         -100,
         13
        ],
        "scale": 1,
        "scene": "<openalea.plantgl.scenegraph._pglsg.Scene object at 0x7fccb228c2d0>"
       },
       "scene_kyD6VgqZZPgQFGxtz0uxodMWR": {
        "drc": {},
        "offsets": [
         0
        ],
        "position": [
         -30,
         -24,
         106
        ],
        "scale": 1,
        "scene": "<openalea.plantgl.scenegraph._pglsg.Scene object at 0x7fccb2097ca8>"
       },
       "scene_lNGMExQDDtQuA0t6PGTV6aYJs": {
        "drc": {},
        "offsets": [
         0
        ],
        "position": [
         -27,
         28,
         -1
        ],
        "scale": 1,
        "scene": "<openalea.plantgl.scenegraph._pglsg.Scene object at 0x7fccb22daea0>"
       },
       "scene_lXINcWYPbrI4Oogzb3G3YMYno": {
        "drc": {},
        "offsets": [
         0
        ],
        "position": [
         -45,
         -107,
         -51
        ],
        "scale": 1,
        "scene": "<openalea.plantgl.scenegraph._pglsg.Scene object at 0x7fccb22a5570>"
       },
       "scene_leiqwIdzmqaz9nm1rmv6mcN0Z": {
        "drc": {},
        "offsets": [
         0
        ],
        "position": [
         -71,
         40,
         -50
        ],
        "scale": 1,
        "scene": "<openalea.plantgl.scenegraph._pglsg.Scene object at 0x7fccb2032490>"
       },
       "scene_lkAbSfYRSTkj3NRVofSIAGqUj": {
        "drc": {},
        "offsets": [
         0
        ],
        "position": [
         124,
         69,
         6
        ],
        "scale": 1,
        "scene": "<openalea.plantgl.scenegraph._pglsg.Scene object at 0x7fccb22cb538>"
       },
       "scene_m59Cvn11O7wSFhkUTszw4H6Aw": {
        "drc": {},
        "offsets": [
         0
        ],
        "position": [
         85,
         57,
         -102
        ],
        "scale": 1,
        "scene": "<openalea.plantgl.scenegraph._pglsg.Scene object at 0x7fccb218e2d0>"
       },
       "scene_m8QXT4nEepf1NRjZnukIzEd2A": {
        "drc": {},
        "offsets": [
         0
        ],
        "position": [
         99,
         115,
         -40
        ],
        "scale": 1,
        "scene": "<openalea.plantgl.scenegraph._pglsg.Scene object at 0x7fccb2032110>"
       },
       "scene_mNBggcT6BphZF1WR7sRjI38nZ": {
        "drc": {},
        "offsets": [
         0
        ],
        "position": [
         -18,
         88,
         -74
        ],
        "scale": 1,
        "scene": "<openalea.plantgl.scenegraph._pglsg.Scene object at 0x7fccb2149d50>"
       },
       "scene_mPYz0Cuih3N6ZF7Nl8ePTL1y8": {
        "drc": {},
        "offsets": [
         0
        ],
        "position": [
         -15,
         48,
         87
        ],
        "scale": 1,
        "scene": "<openalea.plantgl.scenegraph._pglsg.Scene object at 0x7fccb21c3b90>"
       },
       "scene_mni0kOIQjnMpP3i0EZlYEbYT9": {
        "drc": {},
        "offsets": [
         0
        ],
        "position": [
         -102,
         124,
         -41
        ],
        "scale": 1,
        "scene": "<openalea.plantgl.scenegraph._pglsg.Scene object at 0x7fccb2205148>"
       },
       "scene_nHZa2zxZVcG5UnrAkeBLm3vuE": {
        "drc": {},
        "offsets": [
         0
        ],
        "position": [
         62,
         -110,
         -17
        ],
        "scale": 1,
        "scene": "<openalea.plantgl.scenegraph._pglsg.Scene object at 0x7fccb226a5a8>"
       },
       "scene_nMMRAtwFsGB2tTZxMN5b7kD48": {
        "drc": {},
        "offsets": [
         0
        ],
        "position": [
         61,
         53,
         -68
        ],
        "scale": 1,
        "scene": "<openalea.plantgl.scenegraph._pglsg.Scene object at 0x7fccb210a650>"
       },
       "scene_nPNqs89BCyiatepxqlmKDdxoD": {
        "drc": {},
        "offsets": [
         0
        ],
        "position": [
         -123,
         115,
         -65
        ],
        "scale": 1,
        "scene": "<openalea.plantgl.scenegraph._pglsg.Scene object at 0x7fccb1ff1b90>"
       },
       "scene_nUg6Ud3urf5UoSSbEA2CUmbxZ": {
        "drc": {},
        "offsets": [
         0
        ],
        "position": [
         19,
         67,
         -67
        ],
        "scale": 1,
        "scene": "<openalea.plantgl.scenegraph._pglsg.Scene object at 0x7fccb219db90>"
       },
       "scene_o9jh0GuQ8TxwLU3bqo0yXwc54": {
        "drc": {},
        "offsets": [
         0
        ],
        "position": [
         -114,
         -47,
         -111
        ],
        "scale": 1,
        "scene": "<openalea.plantgl.scenegraph._pglsg.Scene object at 0x7fccb20c82d0>"
       },
       "scene_oZpreIpp66O3Vns8QCXZyadmv": {
        "drc": {},
        "offsets": [
         0
        ],
        "position": [
         65,
         -48,
         68
        ],
        "scale": 1,
        "scene": "<openalea.plantgl.scenegraph._pglsg.Scene object at 0x7fccb21d39d0>"
       },
       "scene_osEKHxwh5klnstpGZzwW7M1a3": {
        "drc": {},
        "offsets": [
         0
        ],
        "position": [
         51,
         -83,
         -62
        ],
        "scale": 1,
        "scene": "<openalea.plantgl.scenegraph._pglsg.Scene object at 0x7fccb2025650>"
       },
       "scene_p1U44FlGoXdltxSaiDBpfXS4M": {
        "drc": {},
        "offsets": [
         0
        ],
        "position": [
         -114,
         -68,
         -19
        ],
        "scale": 1,
        "scene": "<openalea.plantgl.scenegraph._pglsg.Scene object at 0x7fccb21c3490>"
       },
       "scene_pBuDVBtKF5Ou3p09UOR3HSruo": {
        "drc": {},
        "offsets": [
         0
        ],
        "position": [
         -106,
         -49,
         117
        ],
        "scale": 1,
        "scene": "<openalea.plantgl.scenegraph._pglsg.Scene object at 0x7fccb3148688>"
       },
       "scene_pEc5ODxJOvV1pj46OVlTbzVLi": {
        "drc": {},
        "offsets": [
         0
        ],
        "position": [
         27,
         -9,
         -62
        ],
        "scale": 1,
        "scene": "<openalea.plantgl.scenegraph._pglsg.Scene object at 0x7fccb218e9d0>"
       },
       "scene_pZiZu0iPblZO7KkkQVFUVuUrI": {
        "drc": {},
        "offsets": [
         0
        ],
        "position": [
         -74,
         120,
         55
        ],
        "scale": 1,
        "scene": "<openalea.plantgl.scenegraph._pglsg.Scene object at 0x7fccb227ef80>"
       },
       "scene_qElzLv6H55FQ9edRA59cvZUkl": {
        "drc": {},
        "offsets": [
         0
        ],
        "position": [
         -4,
         0,
         32
        ],
        "scale": 1,
        "scene": "<openalea.plantgl.scenegraph._pglsg.Scene object at 0x7fccb2001650>"
       },
       "scene_r3g18BmU5Dh42l7G14i5Ebilu": {
        "drc": {},
        "offsets": [
         0
        ],
        "position": [
         115,
         88,
         58
        ],
        "scale": 1,
        "scene": "<openalea.plantgl.scenegraph._pglsg.Scene object at 0x7fccb22e70a0>"
       },
       "scene_rSmYWDUs8lFRbGhkKHczDBktd": {
        "drc": {},
        "offsets": [
         0
        ],
        "position": [
         81,
         72,
         56
        ],
        "scale": 1,
        "scene": "<openalea.plantgl.scenegraph._pglsg.Scene object at 0x7fccb21499d0>"
       },
       "scene_rVESXzniszvACtAsfD1WGKZwJ": {
        "drc": {},
        "offsets": [
         0
        ],
        "position": [
         -77,
         -46,
         -34
        ],
        "scale": 1,
        "scene": "<openalea.plantgl.scenegraph._pglsg.Scene object at 0x7fccb21f8378>"
       },
       "scene_s1lHGMApZyCwOgM0RZwuDch8y": {
        "drc": {},
        "offsets": [
         0
        ],
        "position": [
         8,
         106,
         10
        ],
        "scale": 1,
        "scene": "<openalea.plantgl.scenegraph._pglsg.Scene object at 0x7fccb2097110>"
       },
       "scene_sFFN3INX4tww2bG9LW2ctbeBJ": {
        "drc": {},
        "offsets": [
         0
        ],
        "position": [
         -36,
         29,
         80
        ],
        "scale": 1,
        "scene": "<openalea.plantgl.scenegraph._pglsg.Scene object at 0x7fccb2205848>"
       },
       "scene_sUY8grp6GvhscbnafgVjhj4ru": {
        "drc": {},
        "offsets": [
         0
        ],
        "position": [
         69,
         -84,
         13
        ],
        "scale": 1,
        "scene": "<openalea.plantgl.scenegraph._pglsg.Scene object at 0x7fccb22b8378>"
       },
       "scene_tPaaig2tyimnZi81CFjUcaDKE": {
        "drc": {},
        "offsets": [
         0
        ],
        "position": [
         -37,
         -50,
         -41
        ],
        "scale": 1,
        "scene": "<openalea.plantgl.scenegraph._pglsg.Scene object at 0x7fccb2054f10>"
       },
       "scene_tiUqMAlkrgdXyCWu4dC5pZsPx": {
        "drc": {},
        "offsets": [
         0
        ],
        "position": [
         -58,
         49,
         -103
        ],
        "scale": 1,
        "scene": "<openalea.plantgl.scenegraph._pglsg.Scene object at 0x7fccb2246260>"
       },
       "scene_trFxiII7OXbJNpwXpRxWehlth": {
        "drc": {},
        "offsets": [
         0
        ],
        "position": [
         -81,
         -96,
         96
        ],
        "scale": 1,
        "scene": "<openalea.plantgl.scenegraph._pglsg.Scene object at 0x7fccb23057a0>"
       },
       "scene_uOZt5xx20wjYZL9zWIffy5RZG": {
        "drc": {},
        "offsets": [
         0
        ],
        "position": [
         10,
         -117,
         41
        ],
        "scale": 1,
        "scene": "<openalea.plantgl.scenegraph._pglsg.Scene object at 0x7fccb23053b0>"
       },
       "scene_ujW1gb3czRtXvzlewUVWIgohT": {
        "drc": {},
        "offsets": [
         0
        ],
        "position": [
         -102,
         36,
         60
        ],
        "scale": 1,
        "scene": "<openalea.plantgl.scenegraph._pglsg.Scene object at 0x7fccb21e71f0>"
       },
       "scene_ukv2GpiBh8vEjPeMDR3WE3W7w": {
        "drc": {},
        "offsets": [
         0
        ],
        "position": [
         -64,
         84,
         -72
        ],
        "scale": 1,
        "scene": "<openalea.plantgl.scenegraph._pglsg.Scene object at 0x7fccb21de810>"
       },
       "scene_uwkE4282pHo7rCt5ihlrsiyhp": {
        "drc": {},
        "offsets": [
         0
        ],
        "position": [
         35,
         -67,
         -22
        ],
        "scale": 1,
        "scene": "<openalea.plantgl.scenegraph._pglsg.Scene object at 0x7fccb22b8d18>"
       },
       "scene_vQKHHVG3MszEb5FNB1rx5N3S3": {
        "drc": {},
        "offsets": [
         0
        ],
        "position": [
         5,
         -1,
         113
        ],
        "scale": 1,
        "scene": "<openalea.plantgl.scenegraph._pglsg.Scene object at 0x7fccb1ff1490>"
       },
       "scene_vSPMmRsBrX28MlN0tlkJVxcN1": {
        "drc": {},
        "offsets": [
         0
        ],
        "position": [
         121,
         -122,
         41
        ],
        "scale": 1,
        "scene": "<openalea.plantgl.scenegraph._pglsg.Scene object at 0x7fccb2077810>"
       },
       "scene_vWVs1URH6N1QTD5UOU178b2Vi": {
        "drc": {},
        "offsets": [
         0
        ],
        "position": [
         -23,
         -105,
         -28
        ],
        "scale": 1,
        "scene": "<openalea.plantgl.scenegraph._pglsg.Scene object at 0x7fccb20b7f10>"
       },
       "scene_van9QNoeckIcnsRHvHhxCc3GP": {
        "drc": {},
        "offsets": [
         0
        ],
        "position": [
         -124,
         119,
         42
        ],
        "scale": 1,
        "scene": "<openalea.plantgl.scenegraph._pglsg.Scene object at 0x7fccb21c3810>"
       },
       "scene_vhbVmdXvG4O9C8VYB3UxwGgoE": {
        "drc": {},
        "offsets": [
         0
        ],
        "position": [
         121,
         -55,
         69
        ],
        "scale": 1,
        "scene": "<openalea.plantgl.scenegraph._pglsg.Scene object at 0x7fccb2011110>"
       },
       "scene_vqkxUcI3ZEAbskqFoeDPBH9CH": {
        "drc": {},
        "offsets": [
         0
        ],
        "position": [
         -66,
         -91,
         74
        ],
        "scale": 1,
        "scene": "<openalea.plantgl.scenegraph._pglsg.Scene object at 0x7fccb229cb90>"
       },
       "scene_vzvPulWV47JNF0W1uGYGrhQUF": {
        "drc": {},
        "offsets": [
         0
        ],
        "position": [
         9,
         20,
         114
        ],
        "scale": 1,
        "scene": "<openalea.plantgl.scenegraph._pglsg.Scene object at 0x7fccb210ad50>"
       },
       "scene_wBUfsHN1C8oFH0niA8byP7YUf": {
        "drc": {},
        "offsets": [
         0
        ],
        "position": [
         76,
         12,
         -85
        ],
        "scale": 1,
        "scene": "<openalea.plantgl.scenegraph._pglsg.Scene object at 0x7fccb20edd50>"
       },
       "scene_wWo3MAVNMVa98gFerpzxid8F8": {
        "drc": {},
        "offsets": [
         0
        ],
        "position": [
         -49,
         -61,
         9
        ],
        "scale": 1,
        "scene": "<openalea.plantgl.scenegraph._pglsg.Scene object at 0x7fccb20443e8>"
       },
       "scene_wYocYkWX340B3dXCgj5pXFsp9": {
        "drc": {},
        "offsets": [
         0
        ],
        "position": [
         63,
         112,
         70
        ],
        "scale": 1,
        "scene": "<openalea.plantgl.scenegraph._pglsg.Scene object at 0x7fccb2054110>"
       },
       "scene_waQsAHLX3P7MZqsu8Qxajxdtz": {
        "drc": {},
        "offsets": [
         0
        ],
        "position": [
         14,
         24,
         -125
        ],
        "scale": 1,
        "scene": "<openalea.plantgl.scenegraph._pglsg.Scene object at 0x7fccb21f86c0>"
       },
       "scene_wjCyBSgG8P3ufvZ4W0N18U5OH": {
        "drc": {},
        "offsets": [
         0
        ],
        "position": [
         103,
         -64,
         52
        ],
        "scale": 1,
        "scene": "<openalea.plantgl.scenegraph._pglsg.Scene object at 0x7fccb22b8960>"
       },
       "scene_wlj9zD6aaML7kdtIVq3qcN2Ce": {
        "drc": {},
        "offsets": [
         0
        ],
        "position": [
         79,
         0,
         110
        ],
        "scale": 1,
        "scene": "<openalea.plantgl.scenegraph._pglsg.Scene object at 0x7fccb2350998>"
       },
       "scene_xD1VTTqvi2kueugyAXnOZ0NgM": {
        "drc": {},
        "offsets": [
         0
        ],
        "position": [
         47,
         -111,
         78
        ],
        "scale": 1,
        "scene": "<openalea.plantgl.scenegraph._pglsg.Scene object at 0x7fccb22da810>"
       },
       "scene_xNAcoHyZcJ9S0hHDMjlsAVn0c": {
        "drc": {},
        "offsets": [
         0
        ],
        "position": [
         87,
         -62,
         104
        ],
        "scale": 1,
        "scene": "<openalea.plantgl.scenegraph._pglsg.Scene object at 0x7fccb20b7490>"
       },
       "scene_xerJmvedjbZX57OrDNt25tV2m": {
        "drc": {},
        "offsets": [
         0
        ],
        "position": [
         -63,
         11,
         -81
        ],
        "scale": 1,
        "scene": "<openalea.plantgl.scenegraph._pglsg.Scene object at 0x7fccb2077f10>"
       },
       "scene_xmYEm8RDyqYTkEDRYvZYSF0ef": {
        "drc": {},
        "offsets": [
         0
        ],
        "position": [
         -45,
         111,
         -57
        ],
        "scale": 1,
        "scene": "<openalea.plantgl.scenegraph._pglsg.Scene object at 0x7fccb217df10>"
       },
       "scene_xp2yGh8sr54I7z6JGpIBDtbqN": {
        "drc": {},
        "offsets": [
         0
        ],
        "position": [
         115,
         -126,
         38
        ],
        "scale": 1,
        "scene": "<openalea.plantgl.scenegraph._pglsg.Scene object at 0x7fccb2067d50>"
       },
       "scene_yVlmr1LFFdJeHbrEqnxep76ep": {
        "drc": {},
        "offsets": [
         0
        ],
        "position": [
         -102,
         -47,
         -69
        ],
        "scale": 1,
        "scene": "<openalea.plantgl.scenegraph._pglsg.Scene object at 0x7fccb22cbe68>"
       },
       "scene_yd7YR7iRRPkNW1uCYwydFhT2p": {
        "drc": {},
        "offsets": [
         0
        ],
        "position": [
         -39,
         -75,
         25
        ],
        "scale": 1,
        "scene": "<openalea.plantgl.scenegraph._pglsg.Scene object at 0x7fccb210a9d0>"
       },
       "scene_z2NF7bbxq5acL2KunjcnVvGqF": {
        "drc": {},
        "offsets": [
         0
        ],
        "position": [
         15,
         44,
         1
        ],
        "scale": 1,
        "scene": "<openalea.plantgl.scenegraph._pglsg.Scene object at 0x7fccb2001d50>"
       },
       "scene_zQ6D0sQIISTZ6UnWz712JFUbw": {
        "drc": {},
        "offsets": [
         0
        ],
        "position": [
         -123,
         51,
         61
        ],
        "scale": 1,
        "scene": "<openalea.plantgl.scenegraph._pglsg.Scene object at 0x7fccb20869d0>"
       },
       "scene_zTDSmRT6T3Xgq7K2n66eQEoHZ": {
        "drc": {},
        "offsets": [
         0
        ],
        "position": [
         50,
         56,
         -104
        ],
        "scale": 1,
        "scene": "<openalea.plantgl.scenegraph._pglsg.Scene object at 0x7fccb2077490>"
       },
       "scene_zk6vBfLNlpO9kUmfbOBPl4S1G": {
        "drc": {},
        "offsets": [
         0
        ],
        "position": [
         -109,
         -9,
         83
        ],
        "scale": 1,
        "scene": "<openalea.plantgl.scenegraph._pglsg.Scene object at 0x7fccb2350490>"
       },
       "scene_zlOoFzJa4jgb5uegYvnO1FbqK": {
        "drc": {},
        "offsets": [
         0
        ],
        "position": [
         60,
         98,
         -34
        ],
        "scale": 1,
        "scene": "<openalea.plantgl.scenegraph._pglsg.Scene object at 0x7fccb228c650>"
       },
       "scene_zt0TuoYYGClusf9h809yzFnZs": {
        "drc": {},
        "offsets": [
         0
        ],
        "position": [
         -110,
         -102,
         -28
        ],
        "scale": 1,
        "scene": "<openalea.plantgl.scenegraph._pglsg.Scene object at 0x7fccb2044650>"
       },
       "scene_ztOElkFsJV3GVarOue0ZGuICk": {
        "drc": {},
        "offsets": [
         0
        ],
        "position": [
         -25,
         -63,
         11
        ],
        "scale": 1,
        "scene": "<openalea.plantgl.scenegraph._pglsg.Scene object at 0x7fccb23054c8>"
       },
       "size_display": [
        600,
        400
       ],
       "size_world": [
        255,
        255,
        255
       ]
      }
     },
     "4beeee0641ea46379732ac62f7eb7be4": {
      "model_module": "@jupyter-widgets/base",
      "model_module_version": "1.2.0",
      "model_name": "LayoutModel",
      "state": {}
     },
     "6fcdde53564143cdb386849781d680ff": {
      "model_module": "@jupyter-widgets/base",
      "model_module_version": "1.2.0",
      "model_name": "LayoutModel",
      "state": {}
     },
     "700b951772774df196b150b959289e05": {
      "model_module": "pgljupyter",
      "model_module_version": "^0.1.0",
      "model_name": "SceneWidgetModel",
      "state": {
       "_model_module_version": "^0.1.0",
       "_view_module_version": "^0.1.0",
       "axes_helper": false,
       "layout": "IPY_MODEL_3430cc6855a9465ebe15b3f52ea2073f",
       "light_helper": false,
       "plane": true,
       "scene_0CmGAAR10n4gYz3HxwLvma4fo": {
        "drc": {},
        "offsets": [
         0
        ],
        "position": [
         -52,
         -61,
         -15
        ],
        "scale": 1,
        "scene": "<openalea.plantgl.scenegraph._pglsg.Scene object at 0x7fc5153ecf10>"
       },
       "scene_0RTcRQdM2r1YgC7arZE60XHKv": {
        "drc": {},
        "offsets": [
         0
        ],
        "position": [
         82,
         16,
         92
        ],
        "scale": 1,
        "scene": "<openalea.plantgl.scenegraph._pglsg.Scene object at 0x7fc5153fc880>"
       },
       "scene_0hBIzsriawfu1JaiV6EKBHAKS": {
        "drc": {},
        "offsets": [
         0
        ],
        "position": [
         125,
         -13,
         -112
        ],
        "scale": 1,
        "scene": "<openalea.plantgl.scenegraph._pglsg.Scene object at 0x7fc51542ff80>"
       },
       "scene_0it9OWt1hA60mXITvJo2qlQBW": {
        "drc": {},
        "offsets": [
         0
        ],
        "position": [
         -16,
         52,
         -37
        ],
        "scale": 1,
        "scene": "<openalea.plantgl.scenegraph._pglsg.Scene object at 0x7fc51513e260>"
       },
       "scene_1KLq12is4AX7XvvsNqLmkXF1m": {
        "drc": {},
        "offsets": [
         0
        ],
        "position": [
         9,
         33,
         80
        ],
        "scale": 1,
        "scene": "<openalea.plantgl.scenegraph._pglsg.Scene object at 0x7fc515258490>"
       },
       "scene_1MBgF9zylfg5vymajvRMUPwIB": {
        "drc": {},
        "offsets": [
         0
        ],
        "position": [
         80,
         -116,
         -20
        ],
        "scale": 1,
        "scene": "<openalea.plantgl.scenegraph._pglsg.Scene object at 0x7fc51532e650>"
       },
       "scene_1OxOgqlgYOkXZv65FNt1ZpiV9": {
        "drc": {},
        "offsets": [
         0
        ],
        "position": [
         36,
         113,
         68
        ],
        "scale": 1,
        "scene": "<openalea.plantgl.scenegraph._pglsg.Scene object at 0x7fc515353650>"
       },
       "scene_1Z5KvkuV5EpxBRH4X1fm3XlHA": {
        "drc": {},
        "offsets": [
         0
        ],
        "position": [
         -74,
         -98,
         67
        ],
        "scale": 1,
        "scene": "<openalea.plantgl.scenegraph._pglsg.Scene object at 0x7fc5154bb490>"
       },
       "scene_217kXZ0j1rzPNTdK8aTP09XNX": {
        "drc": {},
        "offsets": [
         0
        ],
        "position": [
         -82,
         -9,
         -30
        ],
        "scale": 1,
        "scene": "<openalea.plantgl.scenegraph._pglsg.Scene object at 0x7fc51528b2d0>"
       },
       "scene_2wJvia7Rq8KilZgwTodzXMcbX": {
        "drc": {},
        "offsets": [
         0
        ],
        "position": [
         -25,
         102,
         -96
        ],
        "scale": 1,
        "scene": "<openalea.plantgl.scenegraph._pglsg.Scene object at 0x7fc5153972d0>"
       },
       "scene_3A0PxI06Qf77es5RkNmittFCY": {
        "drc": {},
        "offsets": [
         0
        ],
        "position": [
         -109,
         -41,
         55
        ],
        "scale": 1,
        "scene": "<openalea.plantgl.scenegraph._pglsg.Scene object at 0x7fc515363490>"
       },
       "scene_3KlkbZ33HrAceMwwhBm6J2ZTR": {
        "drc": {},
        "offsets": [
         0
        ],
        "position": [
         50,
         121,
         27
        ],
        "scale": 1,
        "scene": "<openalea.plantgl.scenegraph._pglsg.Scene object at 0x7fc51544d0a0>"
       },
       "scene_3N4hLJ4AEiyNgYcwdSUPiYVo7": {
        "drc": {},
        "offsets": [
         0
        ],
        "position": [
         0,
         -115,
         -76
        ],
        "scale": 1,
        "scene": "<openalea.plantgl.scenegraph._pglsg.Scene object at 0x7fc5154bb730>"
       },
       "scene_3ObGJGj3UMbsAjaBdi93oMn9j": {
        "drc": {},
        "offsets": [
         0
        ],
        "position": [
         -86,
         111,
         57
        ],
        "scale": 1,
        "scene": "<openalea.plantgl.scenegraph._pglsg.Scene object at 0x7fc51540fed8>"
       },
       "scene_3XSvQCzAaTOzsLEvpfZmXCIhW": {
        "drc": {},
        "offsets": [
         0
        ],
        "position": [
         -82,
         -52,
         80
        ],
        "scale": 1,
        "scene": "<openalea.plantgl.scenegraph._pglsg.Scene object at 0x7fc51527cf10>"
       },
       "scene_4ZwwSQjV1NlHAlaBRTWDNgJ8i": {
        "drc": {},
        "offsets": [
         0
        ],
        "position": [
         -61,
         -64,
         122
        ],
        "scale": 1,
        "scene": "<openalea.plantgl.scenegraph._pglsg.Scene object at 0x7fc515389068>"
       },
       "scene_4cLBthGgTvuKfjycxh6MNUCh9": {
        "drc": {},
        "offsets": [
         0
        ],
        "position": [
         -115,
         -6,
         -24
        ],
        "scale": 1,
        "scene": "<openalea.plantgl.scenegraph._pglsg.Scene object at 0x7fc515363810>"
       },
       "scene_5HhIDYSebNyK8AhFTv5uolV65": {
        "drc": {},
        "offsets": [
         0
        ],
        "position": [
         -75,
         38,
         -60
        ],
        "scale": 1,
        "scene": "<openalea.plantgl.scenegraph._pglsg.Scene object at 0x7fc5153732d0>"
       },
       "scene_5JpToLhtZ0NriinysasZLhwg4": {
        "drc": {},
        "offsets": [
         0
        ],
        "position": [
         -17,
         -111,
         20
        ],
        "scale": 1,
        "scene": "<openalea.plantgl.scenegraph._pglsg.Scene object at 0x7fc5152b9180>"
       },
       "scene_5Qql0nWbWwutTmEYg3lYYWxQk": {
        "drc": {},
        "offsets": [
         0
        ],
        "position": [
         -14,
         17,
         91
        ],
        "scale": 1,
        "scene": "<openalea.plantgl.scenegraph._pglsg.Scene object at 0x7fc5153539d0>"
       },
       "scene_5uwVgm8SDlCuQGRmn6i1f5RK9": {
        "drc": {},
        "offsets": [
         0
        ],
        "position": [
         -116,
         -31,
         -53
        ],
        "scale": 1,
        "scene": "<openalea.plantgl.scenegraph._pglsg.Scene object at 0x7fc515389f10>"
       },
       "scene_65z0qrP7yUQcj5gmkVGmJ16Ik": {
        "drc": {},
        "offsets": [
         0
        ],
        "position": [
         87,
         -110,
         -10
        ],
        "scale": 1,
        "scene": "<openalea.plantgl.scenegraph._pglsg.Scene object at 0x7fc5151d5b20>"
       },
       "scene_67YJbfDyr0u8EBodHgjPggf6g": {
        "drc": {},
        "offsets": [
         0
        ],
        "position": [
         48,
         -28,
         2
        ],
        "scale": 1,
        "scene": "<openalea.plantgl.scenegraph._pglsg.Scene object at 0x7fc51529a810>"
       },
       "scene_6AMX9Tj9K8bOnK6CYvU5A8QWL": {
        "drc": {},
        "offsets": [
         0
        ],
        "position": [
         -126,
         -118,
         68
        ],
        "scale": 1,
        "scene": "<openalea.plantgl.scenegraph._pglsg.Scene object at 0x7fc5153b3d50>"
       },
       "scene_6gAXBS6P51uaAu4CZAFIg0Uoy": {
        "drc": {},
        "offsets": [
         0
        ],
        "position": [
         -32,
         33,
         -45
        ],
        "scale": 1,
        "scene": "<openalea.plantgl.scenegraph._pglsg.Scene object at 0x7fc5154971b8>"
       },
       "scene_70b1F5Zij0qja8jnF3iAlRTmS": {
        "drc": {},
        "offsets": [
         0
        ],
        "position": [
         -56,
         63,
         -96
        ],
        "scale": 1,
        "scene": "<openalea.plantgl.scenegraph._pglsg.Scene object at 0x7fc51527c068>"
       },
       "scene_76c26xrgC0SNS5MoI1OE8A2yt": {
        "drc": {},
        "offsets": [
         0
        ],
        "position": [
         -47,
         -8,
         -12
        ],
        "scale": 1,
        "scene": "<openalea.plantgl.scenegraph._pglsg.Scene object at 0x7fc51546d810>"
       },
       "scene_7avLMOqoAzp4QkfZ2hqtSupvK": {
        "drc": {},
        "offsets": [
         0
        ],
        "position": [
         41,
         95,
         90
        ],
        "scale": 1,
        "scene": "<openalea.plantgl.scenegraph._pglsg.Scene object at 0x7fc5152ea2d0>"
       },
       "scene_7losDhd5PivCy7xBFEf5q1X58": {
        "drc": {},
        "offsets": [
         0
        ],
        "position": [
         55,
         -24,
         112
        ],
        "scale": 1,
        "scene": "<openalea.plantgl.scenegraph._pglsg.Scene object at 0x7fc5153fbd50>"
       },
       "scene_82BCXH9Eg8Qv3DLG8nJiGn1ys": {
        "drc": {},
        "offsets": [
         0
        ],
        "position": [
         30,
         -69,
         -100
        ],
        "scale": 1,
        "scene": "<openalea.plantgl.scenegraph._pglsg.Scene object at 0x7fc515248d50>"
       },
       "scene_99qIHC9LPogF25H7PzDB0E4xi": {
        "drc": {},
        "offsets": [
         0
        ],
        "position": [
         62,
         51,
         28
        ],
        "scale": 1,
        "scene": "<openalea.plantgl.scenegraph._pglsg.Scene object at 0x7fc5152482d0>"
       },
       "scene_9H55qDOgrpNpx7VBgcUUYH1K4": {
        "drc": {},
        "offsets": [
         0
        ],
        "position": [
         8,
         -2,
         4
        ],
        "scale": 1,
        "scene": "<openalea.plantgl.scenegraph._pglsg.Scene object at 0x7fc5153a6068>"
       },
       "scene_9HHFJyjoEIznDFTQY6fK7JiWb": {
        "drc": {},
        "offsets": [
         0
        ],
        "position": [
         119,
         38,
         123
        ],
        "scale": 1,
        "scene": "<openalea.plantgl.scenegraph._pglsg.Scene object at 0x7fc51530f2d0>"
       },
       "scene_9erUtSwg14aTxcWMjonTwDW0J": {
        "drc": {},
        "offsets": [
         0
        ],
        "position": [
         -21,
         42,
         -119
        ],
        "scale": 1,
        "scene": "<openalea.plantgl.scenegraph._pglsg.Scene object at 0x7fc5153dcd50>"
       },
       "scene_9heXvH10I56RQjGi6YdqKNGDy": {
        "drc": {},
        "offsets": [
         0
        ],
        "position": [
         -9,
         32,
         -40
        ],
        "scale": 1,
        "scene": "<openalea.plantgl.scenegraph._pglsg.Scene object at 0x7fc5153dc9d0>"
       },
       "scene_9jZro00blG7sxdIyhCpSmr2Tr": {
        "drc": {},
        "offsets": [
         0
        ],
        "position": [
         27,
         58,
         56
        ],
        "scale": 1,
        "scene": "<openalea.plantgl.scenegraph._pglsg.Scene object at 0x7fc515389490>"
       },
       "scene_9muWAIWunEv8xiYiyLyaDvjJ7": {
        "drc": {},
        "offsets": [
         0
        ],
        "position": [
         26,
         63,
         -126
        ],
        "scale": 1,
        "scene": "<openalea.plantgl.scenegraph._pglsg.Scene object at 0x7fc51545d7a0>"
       },
       "scene_A9iYZf2jWY7KgnMCRP4EWuFFr": {
        "drc": {},
        "offsets": [
         0
        ],
        "position": [
         -70,
         86,
         7
        ],
        "scale": 1,
        "scene": "<openalea.plantgl.scenegraph._pglsg.Scene object at 0x7fc5154bba78>"
       },
       "scene_ADWMylHoRTinlfU0GWuUkULvV": {
        "drc": {},
        "offsets": [
         0
        ],
        "position": [
         -116,
         74,
         14
        ],
        "scale": 1,
        "scene": "<openalea.plantgl.scenegraph._pglsg.Scene object at 0x7fc515346b90>"
       },
       "scene_AO1bUYRVtAvPAwmbWg6HhWEuP": {
        "drc": {},
        "offsets": [
         0
        ],
        "position": [
         19,
         -6,
         -126
        ],
        "scale": 1,
        "scene": "<openalea.plantgl.scenegraph._pglsg.Scene object at 0x7fc5152dbf10>"
       },
       "scene_AmBOmdtTEygHBBj7aJnHiTCiP": {
        "drc": {},
        "offsets": [
         0
        ],
        "position": [
         6,
         -121,
         -12
        ],
        "scale": 1,
        "scene": "<openalea.plantgl.scenegraph._pglsg.Scene object at 0x7fc515225260>"
       },
       "scene_As95647TRm468NMfnZk7noXOB": {
        "drc": {},
        "offsets": [
         0
        ],
        "position": [
         -87,
         82,
         -112
        ],
        "scale": 1,
        "scene": "<openalea.plantgl.scenegraph._pglsg.Scene object at 0x7fc5153ce848>"
       },
       "scene_B8cfVqYytCqefamztGcsp2x7D": {
        "drc": {},
        "offsets": [
         0
        ],
        "position": [
         -105,
         -94,
         84
        ],
        "scale": 1,
        "scene": "<openalea.plantgl.scenegraph._pglsg.Scene object at 0x7fc5153a6490>"
       },
       "scene_BBsyJevOfrojGlYM0xlBJLj9Q": {
        "drc": {},
        "offsets": [
         0
        ],
        "position": [
         69,
         121,
         8
        ],
        "scale": 1,
        "scene": "<openalea.plantgl.scenegraph._pglsg.Scene object at 0x7fc5154a7298>"
       },
       "scene_BbaeMJtodcO4sqFeMYLU5SRxU": {
        "drc": {},
        "offsets": [
         0
        ],
        "position": [
         20,
         27,
         -78
        ],
        "scale": 1,
        "scene": "<openalea.plantgl.scenegraph._pglsg.Scene object at 0x7fc5153fcbc8>"
       },
       "scene_CuCtlhzvV8NtENW0xqv72rXTU": {
        "drc": {},
        "offsets": [
         0
        ],
        "position": [
         -8,
         6,
         12
        ],
        "scale": 1,
        "scene": "<openalea.plantgl.scenegraph._pglsg.Scene object at 0x7fc51544d7a0>"
       },
       "scene_Cy32e6TYVCvPkYWwh9D0vgS5d": {
        "drc": {},
        "offsets": [
         0
        ],
        "position": [
         116,
         19,
         103
        ],
        "scale": 1,
        "scene": "<openalea.plantgl.scenegraph._pglsg.Scene object at 0x7fc5151f2b20>"
       },
       "scene_D9N8EmrNRVw29Sic3JqjPy42v": {
        "drc": {},
        "offsets": [
         0
        ],
        "position": [
         112,
         -32,
         122
        ],
        "scale": 1,
        "scene": "<openalea.plantgl.scenegraph._pglsg.Scene object at 0x7fc51529ab90>"
       },
       "scene_DMBPBOctFerkXt4zpzM7a26Cx": {
        "drc": {},
        "offsets": [
         0
        ],
        "position": [
         -23,
         -75,
         -65
        ],
        "scale": 1,
        "scene": "<openalea.plantgl.scenegraph._pglsg.Scene object at 0x7fc515276490>"
       },
       "scene_DRhp9kW38D0ilQGnxQyFpieso": {
        "drc": {},
        "offsets": [
         0
        ],
        "position": [
         12,
         60,
         32
        ],
        "scale": 1,
        "scene": "<openalea.plantgl.scenegraph._pglsg.Scene object at 0x7fc51542fc00>"
       },
       "scene_Dcak5uOMIKYIyBOoKAL5nlUBG": {
        "drc": {},
        "offsets": [
         0
        ],
        "position": [
         7,
         -66,
         -76
        ],
        "scale": 1,
        "scene": "<openalea.plantgl.scenegraph._pglsg.Scene object at 0x7fc51545de68>"
       },
       "scene_EX8f4RIQnvcIL1zqp1HiN59a6": {
        "drc": {},
        "offsets": [
         0
        ],
        "position": [
         -23,
         -90,
         -8
        ],
        "scale": 1,
        "scene": "<openalea.plantgl.scenegraph._pglsg.Scene object at 0x7fc5151e25e0>"
       },
       "scene_Eb00t9dgDqFijp4opn9tEp65S": {
        "drc": {},
        "offsets": [
         0
        ],
        "position": [
         98,
         -94,
         49
        ],
        "scale": 1,
        "scene": "<openalea.plantgl.scenegraph._pglsg.Scene object at 0x7fc5153dc2d0>"
       },
       "scene_EeP0Zrj2urg8mEmw7qbHWKuxT": {
        "drc": {},
        "offsets": [
         0
        ],
        "position": [
         20,
         -52,
         -95
        ],
        "scale": 1,
        "scene": "<openalea.plantgl.scenegraph._pglsg.Scene object at 0x7fc5152045e0>"
       },
       "scene_ErERzvxtdr7fecLUQWiADGGft": {
        "drc": {},
        "offsets": [
         0
        ],
        "position": [
         47,
         20,
         -20
        ],
        "scale": 1,
        "scene": "<openalea.plantgl.scenegraph._pglsg.Scene object at 0x7fc515421dc0>"
       },
       "scene_EvCM7QNhIigFzVWVmmi1qjka5": {
        "drc": {},
        "offsets": [
         0
        ],
        "position": [
         96,
         48,
         99
        ],
        "scale": 1,
        "scene": "<openalea.plantgl.scenegraph._pglsg.Scene object at 0x7fc5152ea650>"
       },
       "scene_EzfANjcCAWR0lotgd8G3BmbAF": {
        "drc": {},
        "offsets": [
         0
        ],
        "position": [
         117,
         -100,
         -98
        ],
        "scale": 1,
        "scene": "<openalea.plantgl.scenegraph._pglsg.Scene object at 0x7fc5153ec810>"
       },
       "scene_F8bcRC3NKuqVF8KKVg9tGG0wG": {
        "drc": {},
        "offsets": [
         0
        ],
        "position": [
         -87,
         -39,
         -1
        ],
        "scale": 1,
        "scene": "<openalea.plantgl.scenegraph._pglsg.Scene object at 0x7fc5151d57a0>"
       },
       "scene_FBtfEuzS1cJmVL2ox6ZoC1etG": {
        "drc": {},
        "offsets": [
         0
        ],
        "position": [
         -4,
         113,
         -107
        ],
        "scale": 1,
        "scene": "<openalea.plantgl.scenegraph._pglsg.Scene object at 0x7fc515353d50>"
       },
       "scene_FE10QiQYhSpJTpvj23Iy2zWTw": {
        "drc": {},
        "offsets": [
         0
        ],
        "position": [
         -32,
         -20,
         -90
        ],
        "scale": 1,
        "scene": "<openalea.plantgl.scenegraph._pglsg.Scene object at 0x7fc51528b9d0>"
       },
       "scene_FvIJvsckh5ItdD01FLM3wdEcr": {
        "drc": {},
        "offsets": [
         0
        ],
        "position": [
         40,
         -77,
         -56
        ],
        "scale": 1,
        "scene": "<openalea.plantgl.scenegraph._pglsg.Scene object at 0x7fc515225ce0>"
       },
       "scene_G6rzLcnocwwne3Ntwr8BCzDUC": {
        "drc": {},
        "offsets": [
         0
        ],
        "position": [
         85,
         2,
         -86
        ],
        "scale": 1,
        "scene": "<openalea.plantgl.scenegraph._pglsg.Scene object at 0x7fc5154bbd88>"
       },
       "scene_GPGWUeCTXt33eCP2MFJLCoFdx": {
        "drc": {},
        "offsets": [
         0
        ],
        "position": [
         119,
         -8,
         -69
        ],
        "scale": 1,
        "scene": "<openalea.plantgl.scenegraph._pglsg.Scene object at 0x7fc5152ead50>"
       },
       "scene_GRasvmbto19fWQuy0TxtGzZup": {
        "drc": {},
        "offsets": [
         0
        ],
        "position": [
         67,
         29,
         27
        ],
        "scale": 1,
        "scene": "<openalea.plantgl.scenegraph._pglsg.Scene object at 0x7fc51517ffb8>"
       },
       "scene_GhPQsRDTvhCgGhzDLyxfzHNGW": {
        "drc": {},
        "offsets": [
         0
        ],
        "position": [
         -50,
         -46,
         123
        ],
        "scale": 1,
        "scene": "<openalea.plantgl.scenegraph._pglsg.Scene object at 0x7fc51528bd50>"
       },
       "scene_GmeRPMd3hAGWHpjd8gtejgUmQ": {
        "drc": {},
        "offsets": [
         0
        ],
        "position": [
         -23,
         117,
         20
        ],
        "scale": 1,
        "scene": "<openalea.plantgl.scenegraph._pglsg.Scene object at 0x7fc515320f10>"
       },
       "scene_GrLGqA9zCtDDCtLjNH3pJjMlY": {
        "drc": {},
        "offsets": [
         0
        ],
        "position": [
         -124,
         38,
         -125
        ],
        "scale": 1,
        "scene": "<openalea.plantgl.scenegraph._pglsg.Scene object at 0x7fc5151f2420>"
       },
       "scene_H6uscfJ6iqWp9SnkivOicdiMr": {
        "drc": {},
        "offsets": [
         0
        ],
        "position": [
         -33,
         74,
         -59
        ],
        "scale": 1,
        "scene": "<openalea.plantgl.scenegraph._pglsg.Scene object at 0x7fc5153a6b90>"
       },
       "scene_H7LmUaCmFSMtg5wTaC0uOwu8M": {
        "drc": {},
        "offsets": [
         0
        ],
        "position": [
         -35,
         64,
         108
        ],
        "scale": 1,
        "scene": "<openalea.plantgl.scenegraph._pglsg.Scene object at 0x7fc51532e2d0>"
       },
       "scene_HWXmrxgd1Wx0ldsCz7pfXcwkz": {
        "drc": {},
        "offsets": [
         0
        ],
        "position": [
         11,
         -123,
         102
        ],
        "scale": 1,
        "scene": "<openalea.plantgl.scenegraph._pglsg.Scene object at 0x7fc5151e2960>"
       },
       "scene_HnMrArzevMBwuem6FmIswcJij": {
        "drc": {},
        "offsets": [
         0
        ],
        "position": [
         35,
         -52,
         -17
        ],
        "scale": 1,
        "scene": "<openalea.plantgl.scenegraph._pglsg.Scene object at 0x7fc5153bfab0>"
       },
       "scene_HysEjhRsab7c8AdBF1LYffz5D": {
        "drc": {},
        "offsets": [
         0
        ],
        "position": [
         16,
         29,
         42
        ],
        "scale": 1,
        "scene": "<openalea.plantgl.scenegraph._pglsg.Scene object at 0x7fc5154a7a78>"
       },
       "scene_I8ydKWYI4JzAAewqht0W5ZjpJ": {
        "drc": {},
        "offsets": [
         0
        ],
        "position": [
         63,
         43,
         -84
        ],
        "scale": 1,
        "scene": "<openalea.plantgl.scenegraph._pglsg.Scene object at 0x7fc51532ed50>"
       },
       "scene_ILMxVshsVd7xJ5wvgyjH1OCCG": {
        "drc": {},
        "offsets": [
         0
        ],
        "position": [
         -10,
         -36,
         10
        ],
        "scale": 1,
        "scene": "<openalea.plantgl.scenegraph._pglsg.Scene object at 0x7fc515300b90>"
       },
       "scene_INgftHJoZRl3ceXMQtdVcrc1y": {
        "drc": {},
        "offsets": [
         0
        ],
        "position": [
         -79,
         44,
         -49
        ],
        "scale": 1,
        "scene": "<openalea.plantgl.scenegraph._pglsg.Scene object at 0x7fc515258110>"
       },
       "scene_ISQe9WGpEMGFTtXYuAEdzXR7x": {
        "drc": {},
        "offsets": [
         0
        ],
        "position": [
         40,
         82,
         -116
        ],
        "scale": 1,
        "scene": "<openalea.plantgl.scenegraph._pglsg.Scene object at 0x7fc5152db490>"
       },
       "scene_IgdjnL9py791kUBxOKLMVl3c2": {
        "drc": {},
        "offsets": [
         0
        ],
        "position": [
         -125,
         -55,
         74
        ],
        "scale": 1,
        "scene": "<openalea.plantgl.scenegraph._pglsg.Scene object at 0x7fc515276068>"
       },
       "scene_IkeanrNGz7T0GhPAtKuccK2J6": {
        "drc": {},
        "offsets": [
         0
        ],
        "position": [
         24,
         84,
         -90
        ],
        "scale": 1,
        "scene": "<openalea.plantgl.scenegraph._pglsg.Scene object at 0x7fc5151a15e0>"
       },
       "scene_IobVVMxbBJauUQmqP66zDuTnS": {
        "drc": {},
        "offsets": [
         0
        ],
        "position": [
         -53,
         -122,
         -118
        ],
        "scale": 1,
        "scene": "<openalea.plantgl.scenegraph._pglsg.Scene object at 0x7fc515218ea0>"
       },
       "scene_Ip3PQ0RlpqpyxwSHaM1ZCdvCm": {
        "drc": {},
        "offsets": [
         0
        ],
        "position": [
         43,
         -7,
         -77
        ],
        "scale": 1,
        "scene": "<openalea.plantgl.scenegraph._pglsg.Scene object at 0x7fc515265d50>"
       },
       "scene_IqL7acvcJuPa3cN9ppPqXZqCG": {
        "drc": {},
        "offsets": [
         0
        ],
        "position": [
         9,
         -120,
         -14
        ],
        "scale": 1,
        "scene": "<openalea.plantgl.scenegraph._pglsg.Scene object at 0x7fc515204fb8>"
       },
       "scene_IqpnRpPsxUQ6QYHXg5i9gS3fZ": {
        "drc": {},
        "offsets": [
         0
        ],
        "position": [
         119,
         -48,
         116
        ],
        "scale": 1,
        "scene": "<openalea.plantgl.scenegraph._pglsg.Scene object at 0x7fc5152c0030>"
       },
       "scene_J0GSu2RgRU5TZdLCHW87HoD77": {
        "drc": {},
        "offsets": [
         0
        ],
        "position": [
         -23,
         116,
         -115
        ],
        "scale": 1,
        "scene": "<openalea.plantgl.scenegraph._pglsg.Scene object at 0x7fc5151f2ea0>"
       },
       "scene_J1Jp5t1lqhZtArB9WPtm9Jt2K": {
        "drc": {},
        "offsets": [
         0
        ],
        "position": [
         -72,
         -47,
         -71
        ],
        "scale": 1,
        "scene": "<openalea.plantgl.scenegraph._pglsg.Scene object at 0x7fc515363b90>"
       },
       "scene_JRcUx1wIP9PPiDAb2XBIE0qEl": {
        "drc": {},
        "offsets": [
         0
        ],
        "position": [
         12,
         54,
         43
        ],
        "scale": 1,
        "scene": "<openalea.plantgl.scenegraph._pglsg.Scene object at 0x7fc5153bf298>"
       },
       "scene_JvAMnK4svbNZB50sxhWUAh7IF": {
        "drc": {},
        "offsets": [
         0
        ],
        "position": [
         113,
         -56,
         94
        ],
        "scale": 1,
        "scene": "<openalea.plantgl.scenegraph._pglsg.Scene object at 0x7fc515421a78>"
       },
       "scene_K4uxv2u0NPCP8cjtbBEe9sJrD": {
        "drc": {},
        "offsets": [
         0
        ],
        "position": [
         -69,
         -3,
         78
        ],
        "scale": 1,
        "scene": "<openalea.plantgl.scenegraph._pglsg.Scene object at 0x7fc5152255e0>"
       },
       "scene_KBX6UkBARehdLE7vVbwWdCkC6": {
        "drc": {},
        "offsets": [
         0
        ],
        "position": [
         -38,
         -53,
         48
        ],
        "scale": 1,
        "scene": "<openalea.plantgl.scenegraph._pglsg.Scene object at 0x7fc5154a7570>"
       },
       "scene_KcCtYHozbzcpYDH7R1VGdJsXz": {
        "drc": {},
        "offsets": [
         0
        ],
        "position": [
         -42,
         -92,
         46
        ],
        "scale": 1,
        "scene": "<openalea.plantgl.scenegraph._pglsg.Scene object at 0x7fc5153b32d0>"
       },
       "scene_KiQ1xc5stUpC63UDvecVPwVGs": {
        "drc": {},
        "offsets": [
         0
        ],
        "position": [
         -33,
         -18,
         39
        ],
        "scale": 1,
        "scene": "<openalea.plantgl.scenegraph._pglsg.Scene object at 0x7fc5151a1fb8>"
       },
       "scene_L3fY3ukJjw0ejAkzlBXzXl1c7": {
        "drc": {},
        "offsets": [
         0
        ],
        "position": [
         109,
         -105,
         -109
        ],
        "scale": 1,
        "scene": "<openalea.plantgl.scenegraph._pglsg.Scene object at 0x7fc515194b20>"
       },
       "scene_LWMg2xE4K5unjAfcaj2DWaesb": {
        "drc": {},
        "offsets": [
         0
        ],
        "position": [
         -25,
         -18,
         -63
        ],
        "scale": 1,
        "scene": "<openalea.plantgl.scenegraph._pglsg.Scene object at 0x7fc5152a99d0>"
       },
       "scene_LdjbAewRuAXKAVdEiDP7u4tTI": {
        "drc": {},
        "offsets": [
         0
        ],
        "position": [
         34,
         -36,
         111
        ],
        "scale": 1,
        "scene": "<openalea.plantgl.scenegraph._pglsg.Scene object at 0x7fc515389810>"
       },
       "scene_MyIuluaBiBZLl5Z07YQWLsaKc": {
        "drc": {},
        "offsets": [
         0
        ],
        "position": [
         -90,
         56,
         -122
        ],
        "scale": 1,
        "scene": "<openalea.plantgl.scenegraph._pglsg.Scene object at 0x7fc5152c0b90>"
       },
       "scene_Nk0xQl26Ys7pL200VJSmpBsO1": {
        "drc": {},
        "offsets": [
         0
        ],
        "position": [
         22,
         -84,
         -69
        ],
        "scale": 1,
        "scene": "<openalea.plantgl.scenegraph._pglsg.Scene object at 0x7fc51513e960>"
       },
       "scene_Nsv2tySKTb3GNUDmqmf8tUylb": {
        "drc": {},
        "offsets": [
         0
        ],
        "position": [
         -18,
         26,
         52
        ],
        "scale": 1,
        "scene": "<openalea.plantgl.scenegraph._pglsg.Scene object at 0x7fc51545dae8>"
       },
       "scene_O3gPMmzjRWIxUzvrQztnWOolA": {
        "drc": {},
        "offsets": [
         0
        ],
        "position": [
         -119,
         -99,
         -18
        ],
        "scale": 1,
        "scene": "<openalea.plantgl.scenegraph._pglsg.Scene object at 0x7fc51527c810>"
       },
       "scene_OLYCXB272CrUORSVgqKjOUgjk": {
        "drc": {},
        "offsets": [
         0
        ],
        "position": [
         -53,
         77,
         -1
        ],
        "scale": 1,
        "scene": "<openalea.plantgl.scenegraph._pglsg.Scene object at 0x7fc5153b3650>"
       },
       "scene_Oq39GZ5QDjxOp8GXwkIlojlCH": {
        "drc": {},
        "offsets": [
         0
        ],
        "position": [
         64,
         66,
         -86
        ],
        "scale": 1,
        "scene": "<openalea.plantgl.scenegraph._pglsg.Scene object at 0x7fc51529af10>"
       },
       "scene_OsXNvEcZwboy9xDhn52IJlOaT": {
        "drc": {},
        "offsets": [
         0
        ],
        "position": [
         31,
         36,
         85
        ],
        "scale": 1,
        "scene": "<openalea.plantgl.scenegraph._pglsg.Scene object at 0x7fc515489308>"
       },
       "scene_PD4wHIA1uZHaTd1EmneH2S2zI": {
        "drc": {},
        "offsets": [
         0
        ],
        "position": [
         58,
         -92,
         96
        ],
        "scale": 1,
        "scene": "<openalea.plantgl.scenegraph._pglsg.Scene object at 0x7fc5153fb650>"
       },
       "scene_PqM261rUW1TbaQfmAGMcGWi8a": {
        "drc": {},
        "offsets": [
         0
        ],
        "position": [
         10,
         -18,
         54
        ],
        "scale": 1,
        "scene": "<openalea.plantgl.scenegraph._pglsg.Scene object at 0x7fc5154979d0>"
       },
       "scene_PvPB9Q6Glfy4hV9Z2NenKIccN": {
        "drc": {},
        "offsets": [
         0
        ],
        "position": [
         -105,
         -110,
         -67
        ],
        "scale": 1,
        "scene": "<openalea.plantgl.scenegraph._pglsg.Scene object at 0x7fc5153cef10>"
       },
       "scene_Pz6Sf5QM51t7iGwmNFoGkrExr": {
        "drc": {},
        "offsets": [
         0
        ],
        "position": [
         -59,
         -97,
         -29
        ],
        "scale": 1,
        "scene": "<openalea.plantgl.scenegraph._pglsg.Scene object at 0x7fc5154213b0>"
       },
       "scene_QWquypnfd5JiX6y26sTaTStPJ": {
        "drc": {},
        "offsets": [
         0
        ],
        "position": [
         -97,
         -106,
         -20
        ],
        "scale": 1,
        "scene": "<openalea.plantgl.scenegraph._pglsg.Scene object at 0x7fc51529a490>"
       },
       "scene_QXcajjydwPerzFIM7R0gdV8vK": {
        "drc": {},
        "offsets": [
         0
        ],
        "position": [
         -22,
         31,
         -96
        ],
        "scale": 1,
        "scene": "<openalea.plantgl.scenegraph._pglsg.Scene object at 0x7fc515346110>"
       },
       "scene_R1XMTksOkrmd2i8t5Ca5RFwUd": {
        "drc": {},
        "offsets": [
         0
        ],
        "position": [
         57,
         -124,
         -115
        ],
        "scale": 1,
        "scene": "<openalea.plantgl.scenegraph._pglsg.Scene object at 0x7fc51546d1f0>"
       },
       "scene_RKieIrGFBJxGKr2aoALa2talL": {
        "drc": {},
        "offsets": [
         0
        ],
        "position": [
         0,
         -18,
         31
        ],
        "scale": 1,
        "scene": "<openalea.plantgl.scenegraph._pglsg.Scene object at 0x7fc5153fcf10>"
       },
       "scene_RWxwdC1WlmcnPr7c701gsjfe4": {
        "drc": {},
        "offsets": [
         0
        ],
        "position": [
         -33,
         -53,
         113
        ],
        "scale": 1,
        "scene": "<openalea.plantgl.scenegraph._pglsg.Scene object at 0x7fc51546d4c8>"
       },
       "scene_RlIMhAWE0WbD1KnTGiUdiLJh7": {
        "drc": {},
        "offsets": [
         0
        ],
        "position": [
         -77,
         -115,
         -95
        ],
        "scale": 1,
        "scene": "<openalea.plantgl.scenegraph._pglsg.Scene object at 0x7fc515489e30>"
       },
       "scene_S8oGZNgXSA8mSSj8rAtyAREV3": {
        "drc": {},
        "offsets": [
         0
        ],
        "position": [
         -36,
         -24,
         -79
        ],
        "scale": 1,
        "scene": "<openalea.plantgl.scenegraph._pglsg.Scene object at 0x7fc515363f10>"
       },
       "scene_SEwUXlzTDCcJy40AYTXXFb1OD": {
        "drc": {},
        "offsets": [
         0
        ],
        "position": [
         85,
         -126,
         -104
        ],
        "scale": 1,
        "scene": "<openalea.plantgl.scenegraph._pglsg.Scene object at 0x7fc5153000d8>"
       },
       "scene_SHb9Oo8rAjIzLNPQSIKEemtBS": {
        "drc": {},
        "offsets": [
         0
        ],
        "position": [
         -75,
         -103,
         59
        ],
        "scale": 1,
        "scene": "<openalea.plantgl.scenegraph._pglsg.Scene object at 0x7fc5153bf6c0>"
       },
       "scene_SenW7zxpeIBbRpPZZCgXKmu9M": {
        "drc": {},
        "offsets": [
         0
        ],
        "position": [
         42,
         -71,
         -34
        ],
        "scale": 1,
        "scene": "<openalea.plantgl.scenegraph._pglsg.Scene object at 0x7fc51540f260>"
       },
       "scene_SsVnAvQ14OcAkBXYk6Sbd23dr": {
        "drc": {},
        "offsets": [
         0
        ],
        "position": [
         -23,
         -20,
         113
        ],
        "scale": 1,
        "scene": "<openalea.plantgl.scenegraph._pglsg.Scene object at 0x7fc51542f180>"
       },
       "scene_Sxrxv8YphxzKzSn4aoImlPMBE": {
        "drc": {},
        "offsets": [
         0
        ],
        "position": [
         120,
         -50,
         93
        ],
        "scale": 1,
        "scene": "<openalea.plantgl.scenegraph._pglsg.Scene object at 0x7fc515276810>"
       },
       "scene_TEKxs3FzWzgAbyBum30P7sT6K": {
        "drc": {},
        "offsets": [
         0
        ],
        "position": [
         50,
         -40,
         -11
        ],
        "scale": 1,
        "scene": "<openalea.plantgl.scenegraph._pglsg.Scene object at 0x7fc5151d5420>"
       },
       "scene_TUOWCvshwKnleBzZgY2Un4k94": {
        "drc": {},
        "offsets": [
         0
        ],
        "position": [
         -59,
         76,
         -25
        ],
        "scale": 1,
        "scene": "<openalea.plantgl.scenegraph._pglsg.Scene object at 0x7fc5151b0a78>"
       },
       "scene_Ta98z8fsEd1kwHh8PRtYPXSyf": {
        "drc": {},
        "offsets": [
         0
        ],
        "position": [
         4,
         21,
         -86
        ],
        "scale": 1,
        "scene": "<openalea.plantgl.scenegraph._pglsg.Scene object at 0x7fc5153ec068>"
       },
       "scene_UALLqeSrQ2V0HSKOLeeXGrs1t": {
        "drc": {},
        "offsets": [
         0
        ],
        "position": [
         -93,
         6,
         -37
        ],
        "scale": 1,
        "scene": "<openalea.plantgl.scenegraph._pglsg.Scene object at 0x7fc5151f27a0>"
       },
       "scene_UEN5rKqICTzj89I6B96dXxQbs": {
        "drc": {},
        "offsets": [
         0
        ],
        "position": [
         8,
         24,
         -65
        ],
        "scale": 1,
        "scene": "<openalea.plantgl.scenegraph._pglsg.Scene object at 0x7fc51544ddc0>"
       },
       "scene_UUD0twgytF3HeUYafYFtSvsvK": {
        "drc": {},
        "offsets": [
         0
        ],
        "position": [
         -87,
         -45,
         -92
        ],
        "scale": 1,
        "scene": "<openalea.plantgl.scenegraph._pglsg.Scene object at 0x7fc5152dbb90>"
       },
       "scene_UYGgKkVCEB86S4sXDnUOFSlQ0": {
        "drc": {},
        "offsets": [
         0
        ],
        "position": [
         -76,
         43,
         -3
        ],
        "scale": 1,
        "scene": "<openalea.plantgl.scenegraph._pglsg.Scene object at 0x7fc515225fb8>"
       },
       "scene_Va3FfxVnMmkqv0Enf0F7N3XBl": {
        "drc": {},
        "offsets": [
         0
        ],
        "position": [
         -30,
         114,
         20
        ],
        "scale": 1,
        "scene": "<openalea.plantgl.scenegraph._pglsg.Scene object at 0x7fc5152a92d0>"
       },
       "scene_Vg9AEpndptYkGRVdu3vIkxb4n": {
        "drc": {},
        "offsets": [
         0
        ],
        "position": [
         26,
         118,
         -73
        ],
        "scale": 1,
        "scene": "<openalea.plantgl.scenegraph._pglsg.Scene object at 0x7fc5154a77d8>"
       },
       "scene_Wsb4ClpQsLLEnScKm2exqqGWi": {
        "drc": {},
        "offsets": [
         0
        ],
        "position": [
         0,
         -76,
         -35
        ],
        "scale": 1,
        "scene": "<openalea.plantgl.scenegraph._pglsg.Scene object at 0x7fc515276f10>"
       },
       "scene_XDLgj7UzEYBfdtkmc0v3CcMLD": {
        "drc": {},
        "offsets": [
         0
        ],
        "position": [
         -87,
         84,
         85
        ],
        "scale": 1,
        "scene": "<openalea.plantgl.scenegraph._pglsg.Scene object at 0x7fc515363068>"
       },
       "scene_XG6N3IWFG9S7Lc9d33DXc327U": {
        "drc": {},
        "offsets": [
         0
        ],
        "position": [
         47,
         -50,
         -50
        ],
        "scale": 1,
        "scene": "<openalea.plantgl.scenegraph._pglsg.Scene object at 0x7fc51546db20>"
       },
       "scene_XhBm9f2CoiEhUdNMgABKOz6K2": {
        "drc": {},
        "offsets": [
         0
        ],
        "position": [
         -122,
         64,
         115
        ],
        "scale": 1,
        "scene": "<openalea.plantgl.scenegraph._pglsg.Scene object at 0x7fc51542f880>"
       },
       "scene_Xl5ikzmQzTFtxTLpQsPMJk1c1": {
        "drc": {},
        "offsets": [
         0
        ],
        "position": [
         1,
         -77,
         10
        ],
        "scale": 1,
        "scene": "<openalea.plantgl.scenegraph._pglsg.Scene object at 0x7fc5153532d0>"
       },
       "scene_Xq6ulHxkaBLbfEta59EAv6VME": {
        "drc": {},
        "offsets": [
         0
        ],
        "position": [
         9,
         91,
         -107
        ],
        "scale": 1,
        "scene": "<openalea.plantgl.scenegraph._pglsg.Scene object at 0x7fc515276b90>"
       },
       "scene_YIgZlDL2o4QOut1DugDtcc1VP": {
        "drc": {},
        "offsets": [
         0
        ],
        "position": [
         -27,
         -61,
         73
        ],
        "scale": 1,
        "scene": "<openalea.plantgl.scenegraph._pglsg.Scene object at 0x7fc5152b9f10>"
       },
       "scene_YSbkOFzrjxb7rkc1KuitEbxrA": {
        "drc": {},
        "offsets": [
         0
        ],
        "position": [
         -111,
         125,
         -121
        ],
        "scale": 1,
        "scene": "<openalea.plantgl.scenegraph._pglsg.Scene object at 0x7fc5153979d0>"
       },
       "scene_YTinEnjCV0xFhs21hGeUKJtrr": {
        "drc": {},
        "offsets": [
         0
        ],
        "position": [
         41,
         -117,
         94
        ],
        "scale": 1,
        "scene": "<openalea.plantgl.scenegraph._pglsg.Scene object at 0x7fc515237ea0>"
       },
       "scene_YWxhkZSxgWlnqFQ66zLglPMeZ": {
        "drc": {},
        "offsets": [
         0
        ],
        "position": [
         11,
         4,
         69
        ],
        "scale": 1,
        "scene": "<openalea.plantgl.scenegraph._pglsg.Scene object at 0x7fc515489a08>"
       },
       "scene_YaJbS4uLl10V65ALVH9CCbC7U": {
        "drc": {},
        "offsets": [
         0
        ],
        "position": [
         81,
         -28,
         -107
        ],
        "scale": 1,
        "scene": "<openalea.plantgl.scenegraph._pglsg.Scene object at 0x7fc51517f960>"
       },
       "scene_Yg81HhFFAiTLLjj06ohSko2Vd": {
        "drc": {},
        "offsets": [
         0
        ],
        "position": [
         -119,
         -108,
         56
        ],
        "scale": 1,
        "scene": "<openalea.plantgl.scenegraph._pglsg.Scene object at 0x7fc5152b9490>"
       },
       "scene_YlBvWlvW79T9OrkF69bNMBdqc": {
        "drc": {},
        "offsets": [
         0
        ],
        "position": [
         106,
         -81,
         -41
        ],
        "scale": 1,
        "scene": "<openalea.plantgl.scenegraph._pglsg.Scene object at 0x7fc515d6cf10>"
       },
       "scene_YoRPSnc9jLnAJK9bEOdN1AJ7V": {
        "drc": {},
        "offsets": [
         0
        ],
        "position": [
         -112,
         106,
         -95
        ],
        "scale": 1,
        "scene": "<openalea.plantgl.scenegraph._pglsg.Scene object at 0x7fc5153739d0>"
       },
       "scene_YyNmfpEWUPSMC2iXfcq9nv1KG": {
        "drc": {},
        "offsets": [
         0
        ],
        "position": [
         -86,
         40,
         83
        ],
        "scale": 1,
        "scene": "<openalea.plantgl.scenegraph._pglsg.Scene object at 0x7fc5153dc650>"
       },
       "scene_Z9ZP7VW5GMVGMMUg8E0lx9aoJ": {
        "drc": {},
        "offsets": [
         0
        ],
        "position": [
         -104,
         -97,
         -124
        ],
        "scale": 1,
        "scene": "<openalea.plantgl.scenegraph._pglsg.Scene object at 0x7fc515497618>"
       },
       "scene_ZDR1chdQDjn6DrQ414yWUzkaE": {
        "drc": {},
        "offsets": [
         0
        ],
        "position": [
         -83,
         107,
         119
        ],
        "scale": 1,
        "scene": "<openalea.plantgl.scenegraph._pglsg.Scene object at 0x7fc5152489d0>"
       },
       "scene_ZSaR1f5C9mDW4ebH6tu6Bpg4u": {
        "drc": {},
        "offsets": [
         0
        ],
        "position": [
         -84,
         -91,
         8
        ],
        "scale": 1,
        "scene": "<openalea.plantgl.scenegraph._pglsg.Scene object at 0x7fc515421730>"
       },
       "scene_ZbCQmuY0PPkvg5fXeJqMQgaMT": {
        "drc": {},
        "offsets": [
         0
        ],
        "position": [
         -92,
         44,
         -16
        ],
        "scale": 1,
        "scene": "<openalea.plantgl.scenegraph._pglsg.Scene object at 0x7fc51530f9d0>"
       },
       "scene_a5FF10g0I9XuELcvGnEBBBtyO": {
        "drc": {},
        "offsets": [
         0
        ],
        "position": [
         88,
         118,
         -15
        ],
        "scale": 1,
        "scene": "<openalea.plantgl.scenegraph._pglsg.Scene object at 0x7fc51546de68>"
       },
       "scene_aHZIP4IBVsQvvHTTbwQPuzS6W": {
        "drc": {},
        "offsets": [
         0
        ],
        "position": [
         91,
         13,
         115
        ],
        "scale": 1,
        "scene": "<openalea.plantgl.scenegraph._pglsg.Scene object at 0x7fc5151a1c38>"
       },
       "scene_aITJ9z53Pi5rPUAL200yIADca": {
        "drc": {},
        "offsets": [
         0
        ],
        "position": [
         7,
         -49,
         -52
        ],
        "scale": 1,
        "scene": "<openalea.plantgl.scenegraph._pglsg.Scene object at 0x7fc5153ec490>"
       },
       "scene_aoFOXiFjJK4qn906niL4kWDfX": {
        "drc": {},
        "offsets": [
         0
        ],
        "position": [
         126,
         -101,
         117
        ],
        "scale": 1,
        "scene": "<openalea.plantgl.scenegraph._pglsg.Scene object at 0x7fc5153fb228>"
       },
       "scene_aoRdLV3075GwRxZMInKg3AjOs": {
        "drc": {},
        "offsets": [
         0
        ],
        "position": [
         -62,
         119,
         -76
        ],
        "scale": 1,
        "scene": "<openalea.plantgl.scenegraph._pglsg.Scene object at 0x7fc5154a7df8>"
       },
       "scene_bo4XPo1Q3btbP7qV1dkV0nm6Q": {
        "drc": {},
        "offsets": [
         0
        ],
        "position": [
         -23,
         13,
         -98
        ],
        "scale": 1,
        "scene": "<openalea.plantgl.scenegraph._pglsg.Scene object at 0x7fc515194df8>"
       },
       "scene_c6CpLhW7nTjiVGes6DTFQn3xN": {
        "drc": {},
        "offsets": [
         0
        ],
        "position": [
         -6,
         -20,
         -32
        ],
        "scale": 1,
        "scene": "<openalea.plantgl.scenegraph._pglsg.Scene object at 0x7fc5151a1260>"
       },
       "scene_c7lqGpdNamThEhsIcdFX1StM1": {
        "drc": {},
        "offsets": [
         0
        ],
        "position": [
         -24,
         -22,
         -11
        ],
        "scale": 1,
        "scene": "<openalea.plantgl.scenegraph._pglsg.Scene object at 0x7fc51530fd50>"
       },
       "scene_cJ41talqOW90AF3tTzz3zCNW7": {
        "drc": {},
        "offsets": [
         0
        ],
        "position": [
         -20,
         104,
         -84
        ],
        "scale": 1,
        "scene": "<openalea.plantgl.scenegraph._pglsg.Scene object at 0x7fc51544d490>"
       },
       "scene_cWIlRd70agGoWR66emSv2485P": {
        "drc": {},
        "offsets": [
         0
        ],
        "position": [
         -69,
         -16,
         -22
        ],
        "scale": 1,
        "scene": "<openalea.plantgl.scenegraph._pglsg.Scene object at 0x7fc5151a1960>"
       },
       "scene_cahnQquQW1Z1Jm3wtZhu8Fqhv": {
        "drc": {},
        "offsets": [
         0
        ],
        "position": [
         -76,
         -106,
         -32
        ],
        "scale": 1,
        "scene": "<openalea.plantgl.scenegraph._pglsg.Scene object at 0x7fc5151b07a0>"
       },
       "scene_cfnOGKMuzQUa0mYMGaRt7xotc": {
        "drc": {},
        "offsets": [
         0
        ],
        "position": [
         0,
         58,
         -89
        ],
        "scale": 1,
        "scene": "<openalea.plantgl.scenegraph._pglsg.Scene object at 0x7fc515397650>"
       },
       "scene_dRlfYe40W6o9DCUA4HkoaCPtw": {
        "drc": {},
        "offsets": [
         0
        ],
        "position": [
         -38,
         0,
         82
        ],
        "scale": 1,
        "scene": "<openalea.plantgl.scenegraph._pglsg.Scene object at 0x7fc515373d50>"
       },
       "scene_dZ2SMAkkaBxm8dTQMLioIwGH0": {
        "drc": {},
        "offsets": [
         0
        ],
        "position": [
         34,
         8,
         -109
        ],
        "scale": 1,
        "scene": "<openalea.plantgl.scenegraph._pglsg.Scene object at 0x7fc5152cad50>"
       },
       "scene_dfgb1MkOEOnjT7hHpefnns1k3": {
        "drc": {},
        "offsets": [
         0
        ],
        "position": [
         -66,
         12,
         -75
        ],
        "scale": 1,
        "scene": "<openalea.plantgl.scenegraph._pglsg.Scene object at 0x7fc515389b90>"
       },
       "scene_eF9K5O7MLlmYk1YfaBsM7QM71": {
        "drc": {},
        "offsets": [
         0
        ],
        "position": [
         -108,
         28,
         105
        ],
        "scale": 1,
        "scene": "<openalea.plantgl.scenegraph._pglsg.Scene object at 0x7fc51540f8f0>"
       },
       "scene_eIEHvDhHIliIKN1GjWzJyoROF": {
        "drc": {},
        "offsets": [
         0
        ],
        "position": [
         82,
         -89,
         -125
        ],
        "scale": 1,
        "scene": "<openalea.plantgl.scenegraph._pglsg.Scene object at 0x7fc515204960>"
       },
       "scene_eLsH2rAAjUP1LibmCIyUSAoKL": {
        "drc": {},
        "offsets": [
         0
        ],
        "position": [
         68,
         109,
         78
        ],
        "scale": 1,
        "scene": "<openalea.plantgl.scenegraph._pglsg.Scene object at 0x7fc5152c0490>"
       },
       "scene_eTpPNqGLVSCsI55fLZSLMILIl": {
        "drc": {},
        "offsets": [
         0
        ],
        "position": [
         46,
         -83,
         13
        ],
        "scale": 1,
        "scene": "<openalea.plantgl.scenegraph._pglsg.Scene object at 0x7fc515320068>"
       },
       "scene_eUunHBNSWnP1N4RgdjL8VIwv2": {
        "drc": {},
        "offsets": [
         0
        ],
        "position": [
         64,
         -115,
         17
        ],
        "scale": 1,
        "scene": "<openalea.plantgl.scenegraph._pglsg.Scene object at 0x7fc51529a110>"
       },
       "scene_eexzyrPHm4vH2fcNTGudIQ2Sw": {
        "drc": {},
        "offsets": [
         0
        ],
        "position": [
         -79,
         -109,
         114
        ],
        "scale": 1,
        "scene": "<openalea.plantgl.scenegraph._pglsg.Scene object at 0x7fc5152ca9d0>"
       },
       "scene_fAfmOJKA3Ltp5KYOYArQFJKon": {
        "drc": {},
        "offsets": [
         0
        ],
        "position": [
         -105,
         -4,
         112
        ],
        "scale": 1,
        "scene": "<openalea.plantgl.scenegraph._pglsg.Scene object at 0x7fc515258f10>"
       },
       "scene_fMZAFlYWMc0sOKbhl7DVGjPg3": {
        "drc": {},
        "offsets": [
         0
        ],
        "position": [
         48,
         108,
         12
        ],
        "scale": 1,
        "scene": "<openalea.plantgl.scenegraph._pglsg.Scene object at 0x7fc515300490>"
       },
       "scene_fRnUMEJryvF29WHzQahrD1PQL": {
        "drc": {},
        "offsets": [
         0
        ],
        "position": [
         -59,
         -64,
         84
        ],
        "scale": 1,
        "scene": "<openalea.plantgl.scenegraph._pglsg.Scene object at 0x7fc5152ea9d0>"
       },
       "scene_fqJqFk1LCpbtTUv3SGSIwFVt4": {
        "drc": {},
        "offsets": [
         0
        ],
        "position": [
         104,
         24,
         -64
        ],
        "scale": 1,
        "scene": "<openalea.plantgl.scenegraph._pglsg.Scene object at 0x7fc515218b20>"
       },
       "scene_g9I36e3BS6hKazvG6TTMO2CHD": {
        "drc": {},
        "offsets": [
         0
        ],
        "position": [
         -4,
         -90,
         -114
        ],
        "scale": 1,
        "scene": "<openalea.plantgl.scenegraph._pglsg.Scene object at 0x7fc515d6dd50>"
       },
       "scene_gApGnuQoONvRd8OMagL66xLWN": {
        "drc": {},
        "offsets": [
         0
        ],
        "position": [
         -50,
         -60,
         86
        ],
        "scale": 1,
        "scene": "<openalea.plantgl.scenegraph._pglsg.Scene object at 0x7fc5154f4d88>"
       },
       "scene_gHOJQrFGtye1tej3BPlzDRBWc": {
        "drc": {},
        "offsets": [
         0
        ],
        "position": [
         111,
         -109,
         -9
        ],
        "scale": 1,
        "scene": "<openalea.plantgl.scenegraph._pglsg.Scene object at 0x7fc515237420>"
       },
       "scene_gsoOsN57fpugGYfZTBShvzGgx": {
        "drc": {},
        "offsets": [
         0
        ],
        "position": [
         -45,
         -12,
         -44
        ],
        "scale": 1,
        "scene": "<openalea.plantgl.scenegraph._pglsg.Scene object at 0x7fc5152659d0>"
       },
       "scene_hOUnWgaLgXBTjeTtRJw33MuLb": {
        "drc": {},
        "offsets": [
         0
        ],
        "position": [
         -66,
         3,
         -7
        ],
        "scale": 1,
        "scene": "<openalea.plantgl.scenegraph._pglsg.Scene object at 0x7fc5151c45e0>"
       },
       "scene_hUAdC6Iv4avonECOOH3Pppue1": {
        "drc": {},
        "offsets": [
         0
        ],
        "position": [
         65,
         -4,
         -61
        ],
        "scale": 1,
        "scene": "<openalea.plantgl.scenegraph._pglsg.Scene object at 0x7fc5153bfd88>"
       },
       "scene_hgNrMnevi1Ys2XxzrRMRGXASP": {
        "drc": {},
        "offsets": [
         0
        ],
        "position": [
         84,
         21,
         -56
        ],
        "scale": 1,
        "scene": "<openalea.plantgl.scenegraph._pglsg.Scene object at 0x7fc5153a6f10>"
       },
       "scene_iHn3wvZ3Bs3juIsXeUSBHIe1J": {
        "drc": {},
        "offsets": [
         0
        ],
        "position": [
         48,
         -49,
         -67
        ],
        "scale": 1,
        "scene": "<openalea.plantgl.scenegraph._pglsg.Scene object at 0x7fc5152040d8>"
       },
       "scene_iUyThG10zQc8saG05lgMqZ4f3": {
        "drc": {},
        "offsets": [
         0
        ],
        "position": [
         -55,
         19,
         71
        ],
        "scale": 1,
        "scene": "<openalea.plantgl.scenegraph._pglsg.Scene object at 0x7fc515489688>"
       },
       "scene_idTcZC6NeurX1aVKQwGcivKRR": {
        "drc": {},
        "offsets": [
         0
        ],
        "position": [
         -33,
         79,
         -29
        ],
        "scale": 1,
        "scene": "<openalea.plantgl.scenegraph._pglsg.Scene object at 0x7fc5151c4260>"
       },
       "scene_if6GUFKldRYWg3y9ZcGEt9SKL": {
        "drc": {},
        "offsets": [
         0
        ],
        "position": [
         -34,
         -117,
         86
        ],
        "scale": 1,
        "scene": "<openalea.plantgl.scenegraph._pglsg.Scene object at 0x7fc51513e5e0>"
       },
       "scene_ifVWzBuNj5KzwI85CgmxinM2n": {
        "drc": {},
        "offsets": [
         0
        ],
        "position": [
         96,
         -45,
         65
        ],
        "scale": 1,
        "scene": "<openalea.plantgl.scenegraph._pglsg.Scene object at 0x7fc515320b90>"
       },
       "scene_iso8f8WwdVszDussB1BJ9115e": {
        "drc": {},
        "offsets": [
         0
        ],
        "position": [
         -30,
         -107,
         27
        ],
        "scale": 1,
        "scene": "<openalea.plantgl.scenegraph._pglsg.Scene object at 0x7fc515248650>"
       },
       "scene_jB0RBKlhcPPRplf1QwhIzAdtL": {
        "drc": {},
        "offsets": [
         0
        ],
        "position": [
         10,
         -122,
         -117
        ],
        "scale": 1,
        "scene": "<openalea.plantgl.scenegraph._pglsg.Scene object at 0x7fc5151e2fb8>"
       },
       "scene_jMhtT3gBn5Ps8GLjelfVO6X4B": {
        "drc": {},
        "offsets": [
         0
        ],
        "position": [
         76,
         98,
         126
        ],
        "scale": 1,
        "scene": "<openalea.plantgl.scenegraph._pglsg.Scene object at 0x7fc5153ce458>"
       },
       "scene_jU9rIWHmaU5IlSbMEg3TWSTdV": {
        "drc": {},
        "offsets": [
         0
        ],
        "position": [
         -68,
         -99,
         79
        ],
        "scale": 1,
        "scene": "<openalea.plantgl.scenegraph._pglsg.Scene object at 0x7fc515258b90>"
       },
       "scene_jY1joN74YgiR90xO6bhDtAPT9": {
        "drc": {},
        "offsets": [
         0
        ],
        "position": [
         -117,
         2,
         59
        ],
        "scale": 1,
        "scene": "<openalea.plantgl.scenegraph._pglsg.Scene object at 0x7fc5151e2260>"
       },
       "scene_jZCA5PzIZmyTjvzrCYG4FAem4": {
        "drc": {},
        "offsets": [
         0
        ],
        "position": [
         5,
         10,
         90
        ],
        "scale": 1,
        "scene": "<openalea.plantgl.scenegraph._pglsg.Scene object at 0x7fc5152a9650>"
       },
       "scene_jfwQ1bYQg3SypPBQ7bgJgP8AL": {
        "drc": {},
        "offsets": [
         0
        ],
        "position": [
         -16,
         31,
         -94
        ],
        "scale": 1,
        "scene": "<openalea.plantgl.scenegraph._pglsg.Scene object at 0x7fc515397ca8>"
       },
       "scene_jj11Bil7PE1XJSnYGdSUnrHw5": {
        "drc": {},
        "offsets": [
         0
        ],
        "position": [
         100,
         -11,
         19
        ],
        "scale": 1,
        "scene": "<openalea.plantgl.scenegraph._pglsg.Scene object at 0x7fc5151d5ea0>"
       },
       "scene_kAcn7xNLp93oXoo2aBq2xDHPN": {
        "drc": {},
        "offsets": [
         0
        ],
        "position": [
         59,
         -21,
         20
        ],
        "scale": 1,
        "scene": "<openalea.plantgl.scenegraph._pglsg.Scene object at 0x7fc51540fc70>"
       },
       "scene_kEkSjZquvxcfsZLOb8I1lhQoR": {
        "drc": {},
        "offsets": [
         0
        ],
        "position": [
         27,
         59,
         -18
        ],
        "scale": 1,
        "scene": "<openalea.plantgl.scenegraph._pglsg.Scene object at 0x7fc515300768>"
       },
       "scene_kJHXbfu1hIcc5jQfjPJAnJPhy": {
        "drc": {},
        "offsets": [
         0
        ],
        "position": [
         25,
         -86,
         8
        ],
        "scale": 1,
        "scene": "<openalea.plantgl.scenegraph._pglsg.Scene object at 0x7fc515373650>"
       },
       "scene_kKaXQneOEO5vu9rWBd2nY0CkU": {
        "drc": {},
        "offsets": [
         0
        ],
        "position": [
         124,
         -72,
         -32
        ],
        "scale": 1,
        "scene": "<openalea.plantgl.scenegraph._pglsg.Scene object at 0x7fc5153b39d0>"
       },
       "scene_kOaf55tF31dQBELaNpaTKK3o7": {
        "drc": {},
        "offsets": [
         0
        ],
        "position": [
         83,
         -59,
         -86
        ],
        "scale": 1,
        "scene": "<openalea.plantgl.scenegraph._pglsg.Scene object at 0x7fc5152187a0>"
       },
       "scene_kTykCfYkh953CIpz7Bfcq3Ai8": {
        "drc": {},
        "offsets": [
         0
        ],
        "position": [
         79,
         -111,
         -62
        ],
        "scale": 1,
        "scene": "<openalea.plantgl.scenegraph._pglsg.Scene object at 0x7fc5151b0ea0>"
       },
       "scene_kmVdtDJyK3tUWonJr37TfVpbm": {
        "drc": {},
        "offsets": [
         0
        ],
        "position": [
         -83,
         119,
         13
        ],
        "scale": 1,
        "scene": "<openalea.plantgl.scenegraph._pglsg.Scene object at 0x7fc51517f5e0>"
       },
       "scene_lMcoVWOCyMBnrLxFUsdywjnwB": {
        "drc": {},
        "offsets": [
         0
        ],
        "position": [
         -41,
         -106,
         -43
        ],
        "scale": 1,
        "scene": "<openalea.plantgl.scenegraph._pglsg.Scene object at 0x7fc5152c0810>"
       },
       "scene_lQTvSw1PxNQnzmeoUFqrFbH6L": {
        "drc": {},
        "offsets": [
         0
        ],
        "position": [
         -58,
         -36,
         1
        ],
        "scale": 1,
        "scene": "<openalea.plantgl.scenegraph._pglsg.Scene object at 0x7fc515497fb8>"
       },
       "scene_lYbx2jLKKqYmzKknwS1hBfZgT": {
        "drc": {},
        "offsets": [
         0
        ],
        "position": [
         -48,
         -27,
         69
        ],
        "scale": 1,
        "scene": "<openalea.plantgl.scenegraph._pglsg.Scene object at 0x7fc5151e2ce0>"
       },
       "scene_llAJvEpVDm5Q7mRtjf5uBGXkY": {
        "drc": {},
        "offsets": [
         0
        ],
        "position": [
         53,
         -32,
         50
        ],
        "scale": 1,
        "scene": "<openalea.plantgl.scenegraph._pglsg.Scene object at 0x7fc5152c0f10>"
       },
       "scene_mAo8iojr1y7BxZDaPvcK81o8l": {
        "drc": {},
        "offsets": [
         0
        ],
        "position": [
         -118,
         102,
         -25
        ],
        "scale": 1,
        "scene": "<openalea.plantgl.scenegraph._pglsg.Scene object at 0x7fc5154bb0a0>"
       },
       "scene_mFREqTe7c0NKB7rujuTFY5oHs": {
        "drc": {},
        "offsets": [
         0
        ],
        "position": [
         55,
         112,
         57
        ],
        "scale": 1,
        "scene": "<openalea.plantgl.scenegraph._pglsg.Scene object at 0x7fc51544da78>"
       },
       "scene_mJYQgMlGVGXD0aYspbw1jIEGK": {
        "drc": {},
        "offsets": [
         0
        ],
        "position": [
         20,
         -67,
         -119
        ],
        "scale": 1,
        "scene": "<openalea.plantgl.scenegraph._pglsg.Scene object at 0x7fc5153fb9d0>"
       },
       "scene_n8gbh9XKBLCU5AD1oPCPvHPKf": {
        "drc": {},
        "offsets": [
         0
        ],
        "position": [
         -55,
         43,
         74
        ],
        "scale": 1,
        "scene": "<openalea.plantgl.scenegraph._pglsg.Scene object at 0x7fc51545d458>"
       },
       "scene_nAamJsJhN3esf1hjKVvTSkOD9": {
        "drc": {},
        "offsets": [
         0
        ],
        "position": [
         37,
         -61,
         37
        ],
        "scale": 1,
        "scene": "<openalea.plantgl.scenegraph._pglsg.Scene object at 0x7fc515218420>"
       },
       "scene_nE0h2jjmejX63tUbBC7hFPJL0": {
        "drc": {},
        "offsets": [
         0
        ],
        "position": [
         -84,
         123,
         -90
        ],
        "scale": 1,
        "scene": "<openalea.plantgl.scenegraph._pglsg.Scene object at 0x7fc5152db068>"
       },
       "scene_nVeg3u10xQkElPOqclAz2vRn4": {
        "drc": {},
        "offsets": [
         0
        ],
        "position": [
         55,
         -51,
         16
        ],
        "scale": 1,
        "scene": "<openalea.plantgl.scenegraph._pglsg.Scene object at 0x7fc515258810>"
       },
       "scene_nYo05GH5tfQJY2pyWnhyWMzjc": {
        "drc": {},
        "offsets": [
         0
        ],
        "position": [
         84,
         23,
         67
        ],
        "scale": 1,
        "scene": "<openalea.plantgl.scenegraph._pglsg.Scene object at 0x7fc5153fc570>"
       },
       "scene_ncMF1xYfssvC4EYCTnWaJWjMJ": {
        "drc": {},
        "offsets": [
         0
        ],
        "position": [
         114,
         51,
         -77
        ],
        "scale": 1,
        "scene": "<openalea.plantgl.scenegraph._pglsg.Scene object at 0x7fc5153ce0a0>"
       },
       "scene_nrZBq8Z8QcGhoSyk6kWHGspet": {
        "drc": {},
        "offsets": [
         0
        ],
        "position": [
         -74,
         -79,
         117
        ],
        "scale": 1,
        "scene": "<openalea.plantgl.scenegraph._pglsg.Scene object at 0x7fc515265650>"
       },
       "scene_p3pWWeVh0W6Ms3CC72wee4c7O": {
        "drc": {},
        "offsets": [
         0
        ],
        "position": [
         15,
         108,
         13
        ],
        "scale": 1,
        "scene": "<openalea.plantgl.scenegraph._pglsg.Scene object at 0x7fc515346490>"
       },
       "scene_pFjvbM6cmo9wzM9YOHUyudq18": {
        "drc": {},
        "offsets": [
         0
        ],
        "position": [
         9,
         -6,
         -17
        ],
        "scale": 1,
        "scene": "<openalea.plantgl.scenegraph._pglsg.Scene object at 0x7fc5153cebc8>"
       },
       "scene_pMMaaOKklwwiQUmPCS8D9JE83": {
        "drc": {},
        "offsets": [
         0
        ],
        "position": [
         88,
         -24,
         -17
        ],
        "scale": 1,
        "scene": "<openalea.plantgl.scenegraph._pglsg.Scene object at 0x7fc5154f4a78>"
       },
       "scene_pMhiW8XP6A0UqXbCHUAXMgDnN": {
        "drc": {},
        "offsets": [
         0
        ],
        "position": [
         -25,
         -53,
         -35
        ],
        "scale": 1,
        "scene": "<openalea.plantgl.scenegraph._pglsg.Scene object at 0x7fc5152b9b90>"
       },
       "scene_pP7FythNU5GIN7RJBStN1WnjE": {
        "drc": {},
        "offsets": [
         0
        ],
        "position": [
         -58,
         -82,
         84
        ],
        "scale": 1,
        "scene": "<openalea.plantgl.scenegraph._pglsg.Scene object at 0x7fc515497378>"
       },
       "scene_ppaLS3X8ftrUP8sSB8xvf4dz0": {
        "drc": {},
        "offsets": [
         0
        ],
        "position": [
         -45,
         67,
         -9
        ],
        "scale": 1,
        "scene": "<openalea.plantgl.scenegraph._pglsg.Scene object at 0x7fc51517f260>"
       },
       "scene_qWFQgBAgLwg2Sh7CX8W6cZr6x": {
        "drc": {},
        "offsets": [
         0
        ],
        "position": [
         14,
         96,
         37
        ],
        "scale": 1,
        "scene": "<openalea.plantgl.scenegraph._pglsg.Scene object at 0x7fc5153ecb90>"
       },
       "scene_qdsYStU2A1f9HFB75tgYj2hw3": {
        "drc": {},
        "offsets": [
         0
        ],
        "position": [
         -94,
         115,
         75
        ],
        "scale": 1,
        "scene": "<openalea.plantgl.scenegraph._pglsg.Scene object at 0x7fc5153a6810>"
       },
       "scene_qg8Cu1ajKBHR2UTZQGeHvUkG9": {
        "drc": {},
        "offsets": [
         0
        ],
        "position": [
         93,
         96,
         96
        ],
        "scale": 1,
        "scene": "<openalea.plantgl.scenegraph._pglsg.Scene object at 0x7fc515d6c500>"
       },
       "scene_qjbNdm0mUMNjsMwyBI9FyKK4j": {
        "drc": {},
        "offsets": [
         0
        ],
        "position": [
         1,
         91,
         48
        ],
        "scale": 1,
        "scene": "<openalea.plantgl.scenegraph._pglsg.Scene object at 0x7fc51542f500>"
       },
       "scene_rLfijzaICQapCqvzXxpeg3nlS": {
        "drc": {},
        "offsets": [
         0
        ],
        "position": [
         -126,
         -68,
         -23
        ],
        "scale": 1,
        "scene": "<openalea.plantgl.scenegraph._pglsg.Scene object at 0x7fc51528b650>"
       },
       "scene_rhbZJvw40w0Mg9EcOwAmKLeJ5": {
        "drc": {},
        "offsets": [
         0
        ],
        "position": [
         116,
         -102,
         -26
        ],
        "scale": 1,
        "scene": "<openalea.plantgl.scenegraph._pglsg.Scene object at 0x7fc5152377a0>"
       },
       "scene_rhlQ3tVf8haMlJ9Xfb3qolGjU": {
        "drc": {},
        "offsets": [
         0
        ],
        "position": [
         -77,
         21,
         -121
        ],
        "scale": 1,
        "scene": "<openalea.plantgl.scenegraph._pglsg.Scene object at 0x7fc515194420>"
       },
       "scene_rlBAIBssuU0XVelUul5ba9PEU": {
        "drc": {},
        "offsets": [
         0
        ],
        "position": [
         -36,
         -98,
         -108
        ],
        "scale": 1,
        "scene": "<openalea.plantgl.scenegraph._pglsg.Scene object at 0x7fc515346f10>"
       },
       "scene_sD60HhIY60KwhIqovi6G5D7Zq": {
        "drc": {},
        "offsets": [
         0
        ],
        "position": [
         90,
         -97,
         43
        ],
        "scale": 1,
        "scene": "<openalea.plantgl.scenegraph._pglsg.Scene object at 0x7fc51540f5a8>"
       },
       "scene_sIScZRAl3HaEW07vrdYzZwhNo": {
        "drc": {},
        "offsets": [
         0
        ],
        "position": [
         -9,
         -6,
         -81
        ],
        "scale": 1,
        "scene": "<openalea.plantgl.scenegraph._pglsg.Scene object at 0x7fc515d6d148>"
       },
       "scene_sPe5x87PmLsAgtjbwR1CcCqTX": {
        "drc": {},
        "offsets": [
         0
        ],
        "position": [
         69,
         -99,
         86
        ],
        "scale": 1,
        "scene": "<openalea.plantgl.scenegraph._pglsg.Scene object at 0x7fc515d6cc70>"
       },
       "scene_sooBTPCV3ElYEeSGIvFi4tAng": {
        "drc": {},
        "offsets": [
         0
        ],
        "position": [
         -35,
         -21,
         -86
        ],
        "scale": 1,
        "scene": "<openalea.plantgl.scenegraph._pglsg.Scene object at 0x7fc515320490>"
       },
       "scene_taYP6v7F22kvG777Mav4MZsW6": {
        "drc": {},
        "offsets": [
         0
        ],
        "position": [
         -48,
         82,
         -99
        ],
        "scale": 1,
        "scene": "<openalea.plantgl.scenegraph._pglsg.Scene object at 0x7fc515204ce0>"
       },
       "scene_tyRFNTpiyo9Rq6EWPp7lM0cRx": {
        "drc": {},
        "offsets": [
         0
        ],
        "position": [
         -23,
         38,
         76
        ],
        "scale": 1,
        "scene": "<openalea.plantgl.scenegraph._pglsg.Scene object at 0x7fc5151c4ce0>"
       },
       "scene_uKfiU69Sth8Lpo2wFMWNmaodn": {
        "drc": {},
        "offsets": [
         0
        ],
        "position": [
         -2,
         19,
         85
        ],
        "scale": 1,
        "scene": "<openalea.plantgl.scenegraph._pglsg.Scene object at 0x7fc5152a9ca8>"
       },
       "scene_uk8nUkCAqD8iHnYWqrfMxuBgs": {
        "drc": {},
        "offsets": [
         0
        ],
        "position": [
         26,
         64,
         72
        ],
        "scale": 1,
        "scene": "<openalea.plantgl.scenegraph._pglsg.Scene object at 0x7fc5154f4fb8>"
       },
       "scene_vBHH3ZbDZsXph93hDs2uZTHPh": {
        "drc": {},
        "offsets": [
         0
        ],
        "position": [
         119,
         -41,
         63
        ],
        "scale": 1,
        "scene": "<openalea.plantgl.scenegraph._pglsg.Scene object at 0x7fc51545d180>"
       },
       "scene_vFIWe2sgCG2kneMAWH5SKPLbu": {
        "drc": {},
        "offsets": [
         0
        ],
        "position": [
         -6,
         -87,
         125
        ],
        "scale": 1,
        "scene": "<openalea.plantgl.scenegraph._pglsg.Scene object at 0x7fc515497ce0>"
       },
       "scene_vMZ2X1A21n7CQwVZiGEl1WRKL": {
        "drc": {},
        "offsets": [
         0
        ],
        "position": [
         -47,
         -5,
         41
        ],
        "scale": 1,
        "scene": "<openalea.plantgl.scenegraph._pglsg.Scene object at 0x7fc51530f650>"
       },
       "scene_vpwmdjxnZhqqmToQxqCZ4C4QJ": {
        "drc": {},
        "offsets": [
         0
        ],
        "position": [
         84,
         -124,
         -59
        ],
        "scale": 1,
        "scene": "<openalea.plantgl.scenegraph._pglsg.Scene object at 0x7fc515320768>"
       },
       "scene_vyhxeoNRFh5FHO6jALvvtqV70": {
        "drc": {},
        "offsets": [
         0
        ],
        "position": [
         118,
         51,
         83
        ],
        "scale": 1,
        "scene": "<openalea.plantgl.scenegraph._pglsg.Scene object at 0x7fc515346810>"
       },
       "scene_w7nG9LPzPTlpjcsLZiFDSLY51": {
        "drc": {},
        "offsets": [
         0
        ],
        "position": [
         -102,
         -99,
         55
        ],
        "scale": 1,
        "scene": "<openalea.plantgl.scenegraph._pglsg.Scene object at 0x7fc5151947a0>"
       },
       "scene_wNB4Qe8sgoRc2EkV37E9DFAJ3": {
        "drc": {},
        "offsets": [
         0
        ],
        "position": [
         -13,
         105,
         -21
        ],
        "scale": 1,
        "scene": "<openalea.plantgl.scenegraph._pglsg.Scene object at 0x7fc5153fc228>"
       },
       "scene_waHlGKNYriX5IoUhQl9CQ1nsV": {
        "drc": {},
        "offsets": [
         0
        ],
        "position": [
         -61,
         -101,
         -110
        ],
        "scale": 1,
        "scene": "<openalea.plantgl.scenegraph._pglsg.Scene object at 0x7fc515237a78>"
       },
       "scene_wgNCDVBHg5b41OUUcXLE5wYpo": {
        "drc": {},
        "offsets": [
         0
        ],
        "position": [
         118,
         63,
         55
        ],
        "scale": 1,
        "scene": "<openalea.plantgl.scenegraph._pglsg.Scene object at 0x7fc5152db810>"
       },
       "scene_wlD14Qa9zgnP7hoPQwfeFtpzu": {
        "drc": {},
        "offsets": [
         0
        ],
        "position": [
         -60,
         86,
         -106
        ],
        "scale": 1,
        "scene": "<openalea.plantgl.scenegraph._pglsg.Scene object at 0x7fc51527cb90>"
       },
       "scene_wzywfhfk1inYSDLXD6k2lDRlt": {
        "drc": {},
        "offsets": [
         0
        ],
        "position": [
         6,
         101,
         22
        ],
        "scale": 1,
        "scene": "<openalea.plantgl.scenegraph._pglsg.Scene object at 0x7fc51527c3e8>"
       },
       "scene_x269osucVzq1TyfMWwUP2uFKN": {
        "drc": {},
        "offsets": [
         0
        ],
        "position": [
         110,
         -52,
         59
        ],
        "scale": 1,
        "scene": "<openalea.plantgl.scenegraph._pglsg.Scene object at 0x7fc5152ca650>"
       },
       "scene_xEtfUx7RTDWKpxQQpaR31qJem": {
        "drc": {},
        "offsets": [
         0
        ],
        "position": [
         16,
         -125,
         -107
        ],
        "scale": 1,
        "scene": "<openalea.plantgl.scenegraph._pglsg.Scene object at 0x7fc5152652d0>"
       },
       "scene_xNBHRLO6oGYEUodWqobIMIpc5": {
        "drc": {},
        "offsets": [
         0
        ],
        "position": [
         73,
         -31,
         -55
        ],
        "scale": 1,
        "scene": "<openalea.plantgl.scenegraph._pglsg.Scene object at 0x7fc515225960>"
       },
       "scene_xT6cYrCfa3QoyM3NmoyZQ1ke1": {
        "drc": {},
        "offsets": [
         0
        ],
        "position": [
         7,
         -63,
         -120
        ],
        "scale": 1,
        "scene": "<openalea.plantgl.scenegraph._pglsg.Scene object at 0x7fc5151b0420>"
       },
       "scene_xdmcD2P9FD9eRWTG9e5INBwF4": {
        "drc": {},
        "offsets": [
         0
        ],
        "position": [
         -70,
         68,
         -104
        ],
        "scale": 1,
        "scene": "<openalea.plantgl.scenegraph._pglsg.Scene object at 0x7fc515300f10>"
       },
       "scene_xzRqEQ8EyI141uA9ZHzC3acx0": {
        "drc": {},
        "offsets": [
         0
        ],
        "position": [
         49,
         92,
         -85
        ],
        "scale": 1,
        "scene": "<openalea.plantgl.scenegraph._pglsg.Scene object at 0x7fc51532e9d0>"
       },
       "scene_yOlOeIfJ46MQDiYAkw5JdL6Vn": {
        "drc": {},
        "offsets": [
         0
        ],
        "position": [
         21,
         -29,
         13
        ],
        "scale": 1,
        "scene": "<openalea.plantgl.scenegraph._pglsg.Scene object at 0x7fc5152b9810>"
       },
       "scene_ylcnuNydtqiNLWp5levgFPHCi": {
        "drc": {},
        "offsets": [
         0
        ],
        "position": [
         116,
         -115,
         0
        ],
        "scale": 1,
        "scene": "<openalea.plantgl.scenegraph._pglsg.Scene object at 0x7fc515d67768>"
       },
       "scene_yusdR0zbWpkSGkOHyQGCNN8DE": {
        "drc": {},
        "offsets": [
         0
        ],
        "position": [
         -15,
         -107,
         -49
        ],
        "scale": 1,
        "scene": "<openalea.plantgl.scenegraph._pglsg.Scene object at 0x7fc5152ca2d0>"
       },
       "scene_zOT3sQO16L7ocOu0hDEVojmNi": {
        "drc": {},
        "offsets": [
         0
        ],
        "position": [
         -37,
         -88,
         27
        ],
        "scale": 1,
        "scene": "<openalea.plantgl.scenegraph._pglsg.Scene object at 0x7fc5151c4f80>"
       },
       "scene_zj9bwSpvAB3t3XpkGTFGFhfkp": {
        "drc": {},
        "offsets": [
         0
        ],
        "position": [
         13,
         -27,
         -66
        ],
        "scale": 1,
        "scene": "<openalea.plantgl.scenegraph._pglsg.Scene object at 0x7fc5151c4960>"
       },
       "scene_zxCD73DC7rh11s1tXHbm1kqNr": {
        "drc": {},
        "offsets": [
         0
        ],
        "position": [
         53,
         19,
         -65
        ],
        "scale": 1,
        "scene": "<openalea.plantgl.scenegraph._pglsg.Scene object at 0x7fc51517fce0>"
       },
       "size_display": [
        600,
        400
       ],
       "size_world": [
        255,
        255,
        255
       ]
      }
     },
     "744fad879c124561864dcf18095dd4e6": {
      "model_module": "@jupyter-widgets/base",
      "model_module_version": "1.2.0",
      "model_name": "LayoutModel",
      "state": {}
     },
     "9358b6e5ea324bff9dc794b702993722": {
      "model_module": "@jupyter-widgets/base",
      "model_module_version": "1.2.0",
      "model_name": "LayoutModel",
      "state": {}
     },
     "a046798bde604267bc4fd37969561318": {
      "model_module": "@jupyter-widgets/base",
      "model_module_version": "1.2.0",
      "model_name": "LayoutModel",
      "state": {}
     },
     "b4a25ac6a3b44b5f88fe79378e904906": {
      "model_module": "@jupyter-widgets/base",
      "model_module_version": "1.2.0",
      "model_name": "LayoutModel",
      "state": {}
     },
     "b777d65610fc43fd97e1992bd2407e27": {
      "model_module": "pgljupyter",
      "model_module_version": "^0.1.0",
      "model_name": "SceneWidgetModel",
      "state": {
       "_model_module_version": "^0.1.0",
       "_view_module_version": "^0.1.0",
       "axes_helper": false,
       "layout": "IPY_MODEL_1a8fddf3915c48708100fef4ac50e723",
       "light_helper": false,
       "plane": true,
       "size_display": [
        600,
        400
       ],
       "size_world": [
        255,
        255,
        255
       ]
      }
     },
     "c984af64be1a424292bed192788aacaf": {
      "model_module": "pgljupyter",
      "model_module_version": "^0.1.0-alpha",
      "model_name": "SceneWidgetModel",
      "state": {
       "_model_module_version": "^0.1.0-alpha",
       "_view_module_version": "^0.1.0-alpha",
       "axes_helper": false,
       "layout": "IPY_MODEL_a046798bde604267bc4fd37969561318",
       "light_helper": false,
       "plane": true,
       "scene_01pykeI4wI0TRmPSnlmL9mkiD": {
        "drc": {},
        "offsets": [
         0
        ],
        "position": [
         -98,
         106,
         69
        ],
        "scale": 1,
        "scene": "<openalea.plantgl.scenegraph._pglsg.Scene object at 0x7fef4eead180>"
       },
       "scene_11qnFjrT1aS2mngGxLN1BU0yB": {
        "drc": {},
        "offsets": [
         0
        ],
        "position": [
         -50,
         25,
         -83
        ],
        "scale": 1,
        "scene": "<openalea.plantgl.scenegraph._pglsg.Scene object at 0x7fef4ecfab58>"
       },
       "scene_1C4sLiQ4Z5qTVJ8wQwANaMedF": {
        "drc": {},
        "offsets": [
         0
        ],
        "position": [
         -61,
         -124,
         -46
        ],
        "scale": 1,
        "scene": "<openalea.plantgl.scenegraph._pglsg.Scene object at 0x7fef4ef4f9d0>"
       },
       "scene_1NjxiCXvTAzLYpo4CR24toEGA": {
        "drc": {},
        "offsets": [
         0
        ],
        "position": [
         57,
         13,
         43
        ],
        "scale": 1,
        "scene": "<openalea.plantgl.scenegraph._pglsg.Scene object at 0x7fef4eed3810>"
       },
       "scene_1VUP8lfovZt3ujLqG507oeAh0": {
        "drc": {},
        "offsets": [
         0
        ],
        "position": [
         70,
         3,
         40
        ],
        "scale": 1,
        "scene": "<openalea.plantgl.scenegraph._pglsg.Scene object at 0x7fef4ee4fa78>"
       },
       "scene_1haSutKcTxabLGX7vojUvRjcy": {
        "drc": {},
        "offsets": [
         0
        ],
        "position": [
         46,
         -113,
         21
        ],
        "scale": 1,
        "scene": "<openalea.plantgl.scenegraph._pglsg.Scene object at 0x7fef4ee37810>"
       },
       "scene_1mYYLiCs6akMugDj7FAdZX287": {
        "drc": {},
        "offsets": [
         0
        ],
        "position": [
         76,
         -8,
         33
        ],
        "scale": 1,
        "scene": "<openalea.plantgl.scenegraph._pglsg.Scene object at 0x7fef4eec0ce0>"
       },
       "scene_2J4jQWwXMEYRHqLWYy8TVmQnb": {
        "drc": {},
        "offsets": [
         0
        ],
        "position": [
         81,
         -57,
         47
        ],
        "scale": 1,
        "scene": "<openalea.plantgl.scenegraph._pglsg.Scene object at 0x7fef4ed52068>"
       },
       "scene_2e1tzG4BNPYCF1DEZnTSgWnf6": {
        "drc": {},
        "offsets": [
         0
        ],
        "position": [
         115,
         122,
         113
        ],
        "scale": 1,
        "scene": "<openalea.plantgl.scenegraph._pglsg.Scene object at 0x7fef4ee8f8b8>"
       },
       "scene_39o6YeQ71Q33wz7mOKu8GQuxM": {
        "drc": {},
        "offsets": [
         0
        ],
        "position": [
         49,
         27,
         118
        ],
        "scale": 1,
        "scene": "<openalea.plantgl.scenegraph._pglsg.Scene object at 0x7fef4edd7490>"
       },
       "scene_3cSRtJSzjJvnRM42qubPRC4pS": {
        "drc": {},
        "offsets": [
         0
        ],
        "position": [
         -114,
         105,
         -119
        ],
        "scale": 1,
        "scene": "<openalea.plantgl.scenegraph._pglsg.Scene object at 0x7fef4edf4ea0>"
       },
       "scene_3dlbbo1KfVDqwyGEaAmmG9rUw": {
        "drc": {},
        "offsets": [
         0
        ],
        "position": [
         79,
         0,
         43
        ],
        "scale": 1,
        "scene": "<openalea.plantgl.scenegraph._pglsg.Scene object at 0x7fef4ec553b0>"
       },
       "scene_3fUxZyLU9xzIOmawDrUtZefGv": {
        "drc": {},
        "offsets": [
         0
        ],
        "position": [
         -7,
         16,
         -31
        ],
        "scale": 1,
        "scene": "<openalea.plantgl.scenegraph._pglsg.Scene object at 0x7fef4f833dc0>"
       },
       "scene_3xhLo6sWXXGADjDzzneSRoalQ": {
        "drc": {},
        "offsets": [
         0
        ],
        "position": [
         121,
         -99,
         -3
        ],
        "scale": 1,
        "scene": "<openalea.plantgl.scenegraph._pglsg.Scene object at 0x7fef4ec73d88>"
       },
       "scene_40jxPftwnAjwIDA33NRAJJPqS": {
        "drc": {},
        "offsets": [
         0
        ],
        "position": [
         27,
         -9,
         -72
        ],
        "scale": 1,
        "scene": "<openalea.plantgl.scenegraph._pglsg.Scene object at 0x7fef4ed3b110>"
       },
       "scene_4lGKNRXxcap7uHvOqD0AVltEv": {
        "drc": {},
        "offsets": [
         0
        ],
        "position": [
         -8,
         -30,
         -56
        ],
        "scale": 1,
        "scene": "<openalea.plantgl.scenegraph._pglsg.Scene object at 0x7fef4ec66570>"
       },
       "scene_4n8TcJLanS0qa8g6C6tJJiaDe": {
        "drc": {},
        "offsets": [
         0
        ],
        "position": [
         59,
         -84,
         -69
        ],
        "scale": 1,
        "scene": "<openalea.plantgl.scenegraph._pglsg.Scene object at 0x7fef4ecb7030>"
       },
       "scene_4qfj5xrwrxqqT2QPS2ZDGvOR9": {
        "drc": {},
        "offsets": [
         0
        ],
        "position": [
         -107,
         -111,
         25
        ],
        "scale": 1,
        "scene": "<openalea.plantgl.scenegraph._pglsg.Scene object at 0x7fef4edf4b20>"
       },
       "scene_5KD9H9QwEFCckHX9PBQCr6ONB": {
        "drc": {},
        "offsets": [
         0
        ],
        "position": [
         -87,
         59,
         113
        ],
        "scale": 1,
        "scene": "<openalea.plantgl.scenegraph._pglsg.Scene object at 0x7fef4edd7110>"
       },
       "scene_5PQpKvn7ZpHnZygOhReiWjOrM": {
        "drc": {},
        "offsets": [
         0
        ],
        "position": [
         -111,
         -110,
         73
        ],
        "scale": 1,
        "scene": "<openalea.plantgl.scenegraph._pglsg.Scene object at 0x7fef4ef7e8b8>"
       },
       "scene_5ULrFGSxWSpzYn1wXVaCxQo7L": {
        "drc": {},
        "offsets": [
         0
        ],
        "position": [
         -98,
         126,
         -120
        ],
        "scale": 1,
        "scene": "<openalea.plantgl.scenegraph._pglsg.Scene object at 0x7fef4edbf260>"
       },
       "scene_5klwrQdJ4gaEvQiVxVthyAMrf": {
        "drc": {},
        "offsets": [
         0
        ],
        "position": [
         -106,
         84,
         -101
        ],
        "scale": 1,
        "scene": "<openalea.plantgl.scenegraph._pglsg.Scene object at 0x7fef4ede42d0>"
       },
       "scene_6DNMyNsOAQpBt5q4gmbZ9QfDx": {
        "drc": {},
        "offsets": [
         0
        ],
        "position": [
         -77,
         -77,
         -2
        ],
        "scale": 1,
        "scene": "<openalea.plantgl.scenegraph._pglsg.Scene object at 0x7fef4ee5df80>"
       },
       "scene_6Ov4rbGFI4mDpGyZLGnIg7gWw": {
        "drc": {},
        "offsets": [
         0
        ],
        "position": [
         45,
         39,
         29
        ],
        "scale": 1,
        "scene": "<openalea.plantgl.scenegraph._pglsg.Scene object at 0x7fef4ee02960>"
       },
       "scene_7AoHR82mvevRNDV6Awq6kKvTZ": {
        "drc": {},
        "offsets": [
         0
        ],
        "position": [
         -23,
         -88,
         48
        ],
        "scale": 1,
        "scene": "<openalea.plantgl.scenegraph._pglsg.Scene object at 0x7fef4ef0d1b8>"
       },
       "scene_7cVDPFr50SDugpOyNgludYUrX": {
        "drc": {},
        "offsets": [
         0
        ],
        "position": [
         124,
         50,
         126
        ],
        "scale": 1,
        "scene": "<openalea.plantgl.scenegraph._pglsg.Scene object at 0x7fef4ee02ce0>"
       },
       "scene_8mKbCipXKc9mWfY3C6jjkYNNr": {
        "drc": {},
        "offsets": [
         0
        ],
        "position": [
         -39,
         56,
         -62
        ],
        "scale": 1,
        "scene": "<openalea.plantgl.scenegraph._pglsg.Scene object at 0x7fef4ee4fdf8>"
       },
       "scene_8o612VRyw4FcoPEtgmvr6oLLx": {
        "drc": {},
        "offsets": [
         0
        ],
        "position": [
         -56,
         7,
         91
        ],
        "scale": 1,
        "scene": "<openalea.plantgl.scenegraph._pglsg.Scene object at 0x7fef4ee8f538>"
       },
       "scene_9LfUplqRkVGID1MCYQGa7VVPw": {
        "drc": {},
        "offsets": [
         0
        ],
        "position": [
         -9,
         70,
         -85
        ],
        "scale": 1,
        "scene": "<openalea.plantgl.scenegraph._pglsg.Scene object at 0x7fef4ed7e880>"
       },
       "scene_9LhlLFj41RYh6BxIBQqSXq7Zp": {
        "drc": {},
        "offsets": [
         0
        ],
        "position": [
         -108,
         60,
         -66
        ],
        "scale": 1,
        "scene": "<openalea.plantgl.scenegraph._pglsg.Scene object at 0x7fef4ed07618>"
       },
       "scene_9rCOtE4WzIN9AfYwcCJ6oERNy": {
        "drc": {},
        "offsets": [
         0
        ],
        "position": [
         -72,
         90,
         -112
        ],
        "scale": 1,
        "scene": "<openalea.plantgl.scenegraph._pglsg.Scene object at 0x7fef4edf4420>"
       },
       "scene_A5dmEonvbAnsWK0v7CMSqa69t": {
        "drc": {},
        "offsets": [
         0
        ],
        "position": [
         12,
         -81,
         97
        ],
        "scale": 1,
        "scene": "<openalea.plantgl.scenegraph._pglsg.Scene object at 0x7fef4ef6f768>"
       },
       "scene_A5fQYl8JOGhRPCWhd7fWrKrMD": {
        "drc": {},
        "offsets": [
         0
        ],
        "position": [
         17,
         -48,
         88
        ],
        "scale": 1,
        "scene": "<openalea.plantgl.scenegraph._pglsg.Scene object at 0x7fef4edbfca8>"
       },
       "scene_A965iZqec2FhI5os9tAfs8eRk": {
        "drc": {},
        "offsets": [
         0
        ],
        "position": [
         -31,
         105,
         -94
        ],
        "scale": 1,
        "scene": "<openalea.plantgl.scenegraph._pglsg.Scene object at 0x7fef4ec55730>"
       },
       "scene_ABQgjGLQ6pDioAjnnUfTdUoZi": {
        "drc": {},
        "offsets": [
         0
        ],
        "position": [
         -38,
         -9,
         -25
        ],
        "scale": 1,
        "scene": "<openalea.plantgl.scenegraph._pglsg.Scene object at 0x7fef4ee26e68>"
       },
       "scene_AE9XG8ThNStvQlAkBhwG2nir2": {
        "drc": {},
        "offsets": [
         0
        ],
        "position": [
         -121,
         53,
         -90
        ],
        "scale": 1,
        "scene": "<openalea.plantgl.scenegraph._pglsg.Scene object at 0x7fef4ef230a0>"
       },
       "scene_AFcaSNiXNqp9i1HR0fab6Phf8": {
        "drc": {},
        "offsets": [
         0
        ],
        "position": [
         -117,
         -78,
         12
        ],
        "scale": 1,
        "scene": "<openalea.plantgl.scenegraph._pglsg.Scene object at 0x7fef4ef6f458>"
       },
       "scene_ANRz3ZZFlcTYzTBS6AkfHUJ3s": {
        "drc": {},
        "offsets": [
         0
        ],
        "position": [
         -79,
         -111,
         -32
        ],
        "scale": 1,
        "scene": "<openalea.plantgl.scenegraph._pglsg.Scene object at 0x7fef4ee37f10>"
       },
       "scene_ATfYFrfuCGDAlBnkmR2Mfamkx": {
        "drc": {},
        "offsets": [
         0
        ],
        "position": [
         119,
         91,
         -103
        ],
        "scale": 1,
        "scene": "<openalea.plantgl.scenegraph._pglsg.Scene object at 0x7fef4ed0ba40>"
       },
       "scene_AjX0zmj55ac8IChMorJDD10TQ": {
        "drc": {},
        "offsets": [
         0
        ],
        "position": [
         61,
         -31,
         -45
        ],
        "scale": 1,
        "scene": "<openalea.plantgl.scenegraph._pglsg.Scene object at 0x7fef4ef43110>"
       },
       "scene_AobETpIX55qKuXaR2WWSjCCZ5": {
        "drc": {},
        "offsets": [
         0
        ],
        "position": [
         -32,
         97,
         9
        ],
        "scale": 1,
        "scene": "<openalea.plantgl.scenegraph._pglsg.Scene object at 0x7fef4ef03810>"
       },
       "scene_B09yyElD3tyDFtH9L2Z27XzSr": {
        "drc": {},
        "offsets": [
         0
        ],
        "position": [
         -23,
         -14,
         64
        ],
        "scale": 1,
        "scene": "<openalea.plantgl.scenegraph._pglsg.Scene object at 0x7fef4ed52768>"
       },
       "scene_B14VCKCTsotbu5mbbsM9x5CmR": {
        "drc": {},
        "offsets": [
         0
        ],
        "position": [
         53,
         20,
         5
        ],
        "scale": 1,
        "scene": "<openalea.plantgl.scenegraph._pglsg.Scene object at 0x7fef4edb00a0>"
       },
       "scene_BA7rMhtDS2zBoxFqWnQANH07K": {
        "drc": {},
        "offsets": [
         0
        ],
        "position": [
         -66,
         48,
         -26
        ],
        "scale": 1,
        "scene": "<openalea.plantgl.scenegraph._pglsg.Scene object at 0x7fef4ee7b180>"
       },
       "scene_BCAnK5CdEVii3oW9ai90fgeek": {
        "drc": {},
        "offsets": [
         0
        ],
        "position": [
         123,
         108,
         61
        ],
        "scale": 1,
        "scene": "<openalea.plantgl.scenegraph._pglsg.Scene object at 0x7fef4ee16bc8>"
       },
       "scene_BORFTix4LeBT8Uh0xLFppslk3": {
        "drc": {},
        "offsets": [
         0
        ],
        "position": [
         -76,
         -106,
         -71
        ],
        "scale": 1,
        "scene": "<openalea.plantgl.scenegraph._pglsg.Scene object at 0x7fef4ede4ce0>"
       },
       "scene_C7oKkhwYc9cndrAb1p48iwJxC": {
        "drc": {},
        "offsets": [
         0
        ],
        "position": [
         10,
         61,
         -95
        ],
        "scale": 1,
        "scene": "<openalea.plantgl.scenegraph._pglsg.Scene object at 0x7fef4ed6da78>"
       },
       "scene_C9cuD2YOZsiVbWo7poA4cMM24": {
        "drc": {},
        "offsets": [
         0
        ],
        "position": [
         -38,
         121,
         -100
        ],
        "scale": 1,
        "scene": "<openalea.plantgl.scenegraph._pglsg.Scene object at 0x7fef4ed7ed18>"
       },
       "scene_CGSQhXeBd7XZDzEZrFiKvb8LO": {
        "drc": {},
        "offsets": [
         0
        ],
        "position": [
         -43,
         30,
         0
        ],
        "scale": 1,
        "scene": "<openalea.plantgl.scenegraph._pglsg.Scene object at 0x7fef4ee7b500>"
       },
       "scene_CGj9yj95ejPPTVnrdiR0PDyzT": {
        "drc": {},
        "offsets": [
         0
        ],
        "position": [
         40,
         1,
         35
        ],
        "scale": 1,
        "scene": "<openalea.plantgl.scenegraph._pglsg.Scene object at 0x7fef4eef1ca8>"
       },
       "scene_CLYOycdHZXEVMpgcoqn3zPYjj": {
        "drc": {},
        "offsets": [
         0
        ],
        "position": [
         -23,
         95,
         -53
        ],
        "scale": 1,
        "scene": "<openalea.plantgl.scenegraph._pglsg.Scene object at 0x7fef4ed3bf10>"
       },
       "scene_Cyew9k17fJOe9hshcIlsHqfwN": {
        "drc": {},
        "offsets": [
         0
        ],
        "position": [
         -73,
         80,
         -43
        ],
        "scale": 1,
        "scene": "<openalea.plantgl.scenegraph._pglsg.Scene object at 0x7fef4efb4c00>"
       },
       "scene_DENycxgAb0yUxguy14tIPwfYJ": {
        "drc": {},
        "offsets": [
         0
        ],
        "position": [
         41,
         52,
         36
        ],
        "scale": 1,
        "scene": "<openalea.plantgl.scenegraph._pglsg.Scene object at 0x7fef4edb0420>"
       },
       "scene_DFch9w48OpKRYcfcHuAodkmaj": {
        "drc": {},
        "offsets": [
         0
        ],
        "position": [
         110,
         -54,
         -56
        ],
        "scale": 1,
        "scene": "<openalea.plantgl.scenegraph._pglsg.Scene object at 0x7fef4ef237d8>"
       },
       "scene_DX7DSV2H1yBMcBIfptHilWVVN": {
        "drc": {},
        "offsets": [
         0
        ],
        "position": [
         113,
         -63,
         53
        ],
        "scale": 1,
        "scene": "<openalea.plantgl.scenegraph._pglsg.Scene object at 0x7fef4ed940a0>"
       },
       "scene_DhjiE7gUdGwu1zKAdI21PC8yD": {
        "drc": {},
        "offsets": [
         0
        ],
        "position": [
         -26,
         -14,
         -43
        ],
        "scale": 1,
        "scene": "<openalea.plantgl.scenegraph._pglsg.Scene object at 0x7fef4ecc9998>"
       },
       "scene_DjY2YByn6YsFVnB2iuwGLhRWI": {
        "drc": {},
        "offsets": [
         0
        ],
        "position": [
         46,
         -2,
         124
        ],
        "scale": 1,
        "scene": "<openalea.plantgl.scenegraph._pglsg.Scene object at 0x7fef4ee7b880>"
       },
       "scene_DoenK0yOyVSlMieoNzxu4gc9J": {
        "drc": {},
        "offsets": [
         0
        ],
        "position": [
         29,
         -11,
         -114
        ],
        "scale": 1,
        "scene": "<openalea.plantgl.scenegraph._pglsg.Scene object at 0x7fef4edf40a0>"
       },
       "scene_DzUydXUNrJebYkm1Qa3im6gp0": {
        "drc": {},
        "offsets": [
         0
        ],
        "position": [
         -102,
         -113,
         -6
        ],
        "scale": 1,
        "scene": "<openalea.plantgl.scenegraph._pglsg.Scene object at 0x7fef4eee2b90>"
       },
       "scene_E2Iu0bNKlJ3rbPSaHwGSzHwaP": {
        "drc": {},
        "offsets": [
         0
        ],
        "position": [
         30,
         100,
         73
        ],
        "scale": 1,
        "scene": "<openalea.plantgl.scenegraph._pglsg.Scene object at 0x7fef4ecc5570>"
       },
       "scene_E4uWrpzjtq2UupgcshhDdOcGd": {
        "drc": {},
        "offsets": [
         0
        ],
        "position": [
         -19,
         -112,
         31
        ],
        "scale": 1,
        "scene": "<openalea.plantgl.scenegraph._pglsg.Scene object at 0x7fef4edb07a0>"
       },
       "scene_EPePxfud6ARsu2ucHEytLdbaS": {
        "drc": {},
        "offsets": [
         0
        ],
        "position": [
         62,
         -62,
         -57
        ],
        "scale": 1,
        "scene": "<openalea.plantgl.scenegraph._pglsg.Scene object at 0x7fef4ecb73b0>"
       },
       "scene_EUxmhlVzy9WIwatIc2R2ClLSr": {
        "drc": {},
        "offsets": [
         0
        ],
        "position": [
         96,
         -43,
         -109
        ],
        "scale": 1,
        "scene": "<openalea.plantgl.scenegraph._pglsg.Scene object at 0x7fef4edd7b90>"
       },
       "scene_Ei05YqrJ7LiKX3eAmZvIbLFCl": {
        "drc": {},
        "offsets": [
         0
        ],
        "position": [
         64,
         -9,
         -101
        ],
        "scale": 1,
        "scene": "<openalea.plantgl.scenegraph._pglsg.Scene object at 0x7fef4ed3b810>"
       },
       "scene_EzoxLcffSUwHWgBQY8fhDqOG7": {
        "drc": {},
        "offsets": [
         0
        ],
        "position": [
         38,
         -25,
         15
        ],
        "scale": 1,
        "scene": "<openalea.plantgl.scenegraph._pglsg.Scene object at 0x7fef4ecb7e30>"
       },
       "scene_F5tJ78tvPxDL3526BftjKzcPP": {
        "drc": {},
        "offsets": [
         0
        ],
        "position": [
         69,
         -43,
         113
        ],
        "scale": 1,
        "scene": "<openalea.plantgl.scenegraph._pglsg.Scene object at 0x7fef4ece9998>"
       },
       "scene_F6xDDBKhDSGMT752GZAxrKDVQ": {
        "drc": {},
        "offsets": [
         0
        ],
        "position": [
         -14,
         -99,
         114
        ],
        "scale": 1,
        "scene": "<openalea.plantgl.scenegraph._pglsg.Scene object at 0x7fef4edbf6f8>"
       },
       "scene_FKDRs8OexEqp9X6SPnZyvLrS0": {
        "drc": {},
        "offsets": [
         0
        ],
        "position": [
         120,
         38,
         -107
        ],
        "scale": 1,
        "scene": "<openalea.plantgl.scenegraph._pglsg.Scene object at 0x7fef4ef7e538>"
       },
       "scene_G25ZuXrP0CRMubSkx5fPania6": {
        "drc": {},
        "offsets": [
         0
        ],
        "position": [
         -70,
         31,
         23
        ],
        "scale": 1,
        "scene": "<openalea.plantgl.scenegraph._pglsg.Scene object at 0x7fef4ef5f420>"
       },
       "scene_GKB8x06h7mxnjIKbJq1fRqH4c": {
        "drc": {},
        "offsets": [
         0
        ],
        "position": [
         1,
         -82,
         -43
        ],
        "scale": 1,
        "scene": "<openalea.plantgl.scenegraph._pglsg.Scene object at 0x7fef4ed5bca8>"
       },
       "scene_GQokG5eKG3087q6eVkzJqNvk4": {
        "drc": {},
        "offsets": [
         0
        ],
        "position": [
         -46,
         -33,
         -87
        ],
        "scale": 1,
        "scene": "<openalea.plantgl.scenegraph._pglsg.Scene object at 0x7fef4ee0a340>"
       },
       "scene_GSZ0uYxCaSrNFHPCd8m6qBho1": {
        "drc": {},
        "offsets": [
         0
        ],
        "position": [
         -39,
         -53,
         -37
        ],
        "scale": 1,
        "scene": "<openalea.plantgl.scenegraph._pglsg.Scene object at 0x7fef4ee37490>"
       },
       "scene_H1G5u6999oeeM5hkRDp7dbO0Y": {
        "drc": {},
        "offsets": [
         0
        ],
        "position": [
         -79,
         19,
         36
        ],
        "scale": 1,
        "scene": "<openalea.plantgl.scenegraph._pglsg.Scene object at 0x7fef4ed1cf10>"
       },
       "scene_H2J6kyWGvxXEhCrcEMdn8v4D4": {
        "drc": {},
        "offsets": [
         0
        ],
        "position": [
         -17,
         -2,
         -25
        ],
        "scale": 1,
        "scene": "<openalea.plantgl.scenegraph._pglsg.Scene object at 0x7fef4ef6f148>"
       },
       "scene_H2YeZO5daVq2p6ieScAUAAw3u": {
        "drc": {},
        "offsets": [
         0
        ],
        "position": [
         -105,
         25,
         -109
        ],
        "scale": 1,
        "scene": "<openalea.plantgl.scenegraph._pglsg.Scene object at 0x7fef4efbf810>"
       },
       "scene_HN6ociMLPEH7e75lvshZvta8M": {
        "drc": {},
        "offsets": [
         0
        ],
        "position": [
         19,
         -46,
         55
        ],
        "scale": 1,
        "scene": "<openalea.plantgl.scenegraph._pglsg.Scene object at 0x7fef4ef32a40>"
       },
       "scene_I2FStpWb2ORhiwhHj91o2Eelq": {
        "drc": {},
        "offsets": [
         0
        ],
        "position": [
         9,
         -82,
         118
        ],
        "scale": 1,
        "scene": "<openalea.plantgl.scenegraph._pglsg.Scene object at 0x7fef4ee7bfb8>"
       },
       "scene_IAzI6YVfethumt0GlokGbRNkW": {
        "drc": {},
        "offsets": [
         0
        ],
        "position": [
         95,
         83,
         58
        ],
        "scale": 1,
        "scene": "<openalea.plantgl.scenegraph._pglsg.Scene object at 0x7fef4ef323b0>"
       },
       "scene_IGsIOZXkcx4eQliAQ3A3WpsyK": {
        "drc": {},
        "offsets": [
         0
        ],
        "position": [
         -103,
         10,
         -67
        ],
        "scale": 1,
        "scene": "<openalea.plantgl.scenegraph._pglsg.Scene object at 0x7fef4eda15e0>"
       },
       "scene_IicpPs5DribSdhZed5SwfPybM": {
        "drc": {},
        "offsets": [
         0
        ],
        "position": [
         -97,
         109,
         121
        ],
        "scale": 1,
        "scene": "<openalea.plantgl.scenegraph._pglsg.Scene object at 0x7fef4ef4f650>"
       },
       "scene_InPhsaSQ9YlwAPjgbcqzaKSjA": {
        "drc": {},
        "offsets": [
         0
        ],
        "position": [
         -96,
         -7,
         -34
        ],
        "scale": 1,
        "scene": "<openalea.plantgl.scenegraph._pglsg.Scene object at 0x7fef4ee8ff80>"
       },
       "scene_IxMlqHfgkccYgJ1IKES5KjheG": {
        "drc": {},
        "offsets": [
         0
        ],
        "position": [
         116,
         57,
         61
        ],
        "scale": 1,
        "scene": "<openalea.plantgl.scenegraph._pglsg.Scene object at 0x7fef4eee2378>"
       },
       "scene_JDJeE6iORRaL7RR3MyFL7m0fa": {
        "drc": {},
        "offsets": [
         0
        ],
        "position": [
         80,
         -2,
         85
        ],
        "scale": 1,
        "scene": "<openalea.plantgl.scenegraph._pglsg.Scene object at 0x7fef4ef03a78>"
       },
       "scene_JEi3dMM7LKskd4qZi7jPu4uPv": {
        "drc": {},
        "offsets": [
         0
        ],
        "position": [
         -20,
         69,
         13
        ],
        "scale": 1,
        "scene": "<openalea.plantgl.scenegraph._pglsg.Scene object at 0x7fef4ee4f730>"
       },
       "scene_JI3dRUJV0TNLlLK4cGJRKRn62": {
        "drc": {},
        "offsets": [
         0
        ],
        "position": [
         59,
         -81,
         -124
        ],
        "scale": 1,
        "scene": "<openalea.plantgl.scenegraph._pglsg.Scene object at 0x7fef4eee2260>"
       },
       "scene_JSNABSjFXiBinLgSpFT8SXLYu": {
        "drc": {},
        "offsets": [
         0
        ],
        "position": [
         -126,
         -35,
         78
        ],
        "scale": 1,
        "scene": "<openalea.plantgl.scenegraph._pglsg.Scene object at 0x7fef4ed94ea0>"
       },
       "scene_JSbm53XEl8oXBixlXBWx2LQmh": {
        "drc": {},
        "offsets": [
         0
        ],
        "position": [
         62,
         79,
         85
        ],
        "scale": 1,
        "scene": "<openalea.plantgl.scenegraph._pglsg.Scene object at 0x7fef4ee5d538>"
       },
       "scene_JZ9w19NuAh2HKHOPQHnsAm2zO": {
        "drc": {},
        "offsets": [
         0
        ],
        "position": [
         73,
         -108,
         33
        ],
        "scale": 1,
        "scene": "<openalea.plantgl.scenegraph._pglsg.Scene object at 0x7fef4ecdaed8>"
       },
       "scene_K9l26S1oYv8C55V97TtxzqcUf": {
        "drc": {},
        "offsets": [
         0
        ],
        "position": [
         -18,
         -13,
         39
        ],
        "scale": 1,
        "scene": "<openalea.plantgl.scenegraph._pglsg.Scene object at 0x7fef4ef4f308>"
       },
       "scene_KIGoad0XhhLCe6623uDwKoue8": {
        "drc": {},
        "offsets": [
         0
        ],
        "position": [
         14,
         -120,
         -104
        ],
        "scale": 1,
        "scene": "<openalea.plantgl.scenegraph._pglsg.Scene object at 0x7fef4edd7f10>"
       },
       "scene_KVqRm1g31f8EcMYeCVug4MIvV": {
        "drc": {},
        "offsets": [
         0
        ],
        "position": [
         98,
         105,
         -20
        ],
        "scale": 1,
        "scene": "<openalea.plantgl.scenegraph._pglsg.Scene object at 0x7fef4eeadb58>"
       },
       "scene_Kg8CJi5irBggpyNVtM1S5d1zv": {
        "drc": {},
        "offsets": [
         0
        ],
        "position": [
         -119,
         -40,
         -45
        ],
        "scale": 1,
        "scene": "<openalea.plantgl.scenegraph._pglsg.Scene object at 0x7fef4eeaded8>"
       },
       "scene_Kme2OXiAJTLtHe78WEE1ZQp7E": {
        "drc": {},
        "offsets": [
         0
        ],
        "position": [
         -31,
         -84,
         -113
        ],
        "scale": 1,
        "scene": "<openalea.plantgl.scenegraph._pglsg.Scene object at 0x7fef4ee269d0>"
       },
       "scene_KoXCgvZokgowgury4QBDhDJWq": {
        "drc": {},
        "offsets": [
         0
        ],
        "position": [
         -9,
         30,
         -28
        ],
        "scale": 1,
        "scene": "<openalea.plantgl.scenegraph._pglsg.Scene object at 0x7fef4eca8c70>"
       },
       "scene_L9xGgqQFXMW1TP4Mz3uMhfysX": {
        "drc": {},
        "offsets": [
         0
        ],
        "position": [
         121,
         101,
         58
        ],
        "scale": 1,
        "scene": "<openalea.plantgl.scenegraph._pglsg.Scene object at 0x7fef4eead458>"
       },
       "scene_LDZnOqWtRScd2v5VBLkkNRzOv": {
        "drc": {},
        "offsets": [
         0
        ],
        "position": [
         -26,
         99,
         -2
        ],
        "scale": 1,
        "scene": "<openalea.plantgl.scenegraph._pglsg.Scene object at 0x7fef4ede45e0>"
       },
       "scene_LRgPTnvexMoKs6NS4cKqR1LaS": {
        "drc": {},
        "offsets": [
         0
        ],
        "position": [
         113,
         -114,
         92
        ],
        "scale": 1,
        "scene": "<openalea.plantgl.scenegraph._pglsg.Scene object at 0x7fef4ef5fab0>"
       },
       "scene_M9ZR7DhIsWGfmCnqHkP3sjVv4": {
        "drc": {},
        "offsets": [
         0
        ],
        "position": [
         -79,
         29,
         -55
        ],
        "scale": 1,
        "scene": "<openalea.plantgl.scenegraph._pglsg.Scene object at 0x7fef4ef23d50>"
       },
       "scene_MIN3dwZylSSiXbR5vLu0AJyEB": {
        "drc": {},
        "offsets": [
         0
        ],
        "position": [
         -41,
         116,
         -108
        ],
        "scale": 1,
        "scene": "<openalea.plantgl.scenegraph._pglsg.Scene object at 0x7fef4eef1618>"
       },
       "scene_MLF1BWgRK6uZbAQ0CS3ojDhYJ": {
        "drc": {},
        "offsets": [
         0
        ],
        "position": [
         39,
         74,
         94
        ],
        "scale": 1,
        "scene": "<openalea.plantgl.scenegraph._pglsg.Scene object at 0x7fef4ec99458>"
       },
       "scene_MY0p0l3Xif7hcWPrcJsx3xkAW": {
        "drc": {},
        "offsets": [
         0
        ],
        "position": [
         21,
         -121,
         -114
        ],
        "scale": 1,
        "scene": "<openalea.plantgl.scenegraph._pglsg.Scene object at 0x7fef4ef0d7d8>"
       },
       "scene_MnEmM3u1RIe98fMFX2IDQIBAW": {
        "drc": {},
        "offsets": [
         0
        ],
        "position": [
         -22,
         -14,
         89
        ],
        "scale": 1,
        "scene": "<openalea.plantgl.scenegraph._pglsg.Scene object at 0x7fef4ee37b90>"
       },
       "scene_N1NunluTt2zxAidKlGSpMXGWq": {
        "drc": {},
        "offsets": [
         0
        ],
        "position": [
         29,
         102,
         125
        ],
        "scale": 1,
        "scene": "<openalea.plantgl.scenegraph._pglsg.Scene object at 0x7fef4eca8228>"
       },
       "scene_N4sv3CZkwJASjlkOPeYu1FmAG": {
        "drc": {},
        "offsets": [
         0
        ],
        "position": [
         11,
         110,
         -108
        ],
        "scale": 1,
        "scene": "<openalea.plantgl.scenegraph._pglsg.Scene object at 0x7fef4ec73a40>"
       },
       "scene_NAMCB06lxwGSXsu5SL6rpy2BA": {
        "drc": {},
        "offsets": [
         0
        ],
        "position": [
         71,
         85,
         -67
        ],
        "scale": 1,
        "scene": "<openalea.plantgl.scenegraph._pglsg.Scene object at 0x7fef4edf47a0>"
       },
       "scene_NLTMaIixp6HI6VJthcAUTkwGS": {
        "drc": {},
        "offsets": [
         0
        ],
        "position": [
         63,
         -17,
         -42
        ],
        "scale": 1,
        "scene": "<openalea.plantgl.scenegraph._pglsg.Scene object at 0x7fef4ed1c810>"
       },
       "scene_NTzul5TnYhGN8EtqPwplNgev9": {
        "drc": {},
        "offsets": [
         0
        ],
        "position": [
         -6,
         -12,
         0
        ],
        "scale": 1,
        "scene": "<openalea.plantgl.scenegraph._pglsg.Scene object at 0x7fef4ecda0d8>"
       },
       "scene_O2IxWfsouZhajrA6zxgEDkvyx": {
        "drc": {},
        "offsets": [
         0
        ],
        "position": [
         -92,
         -34,
         82
        ],
        "scale": 1,
        "scene": "<openalea.plantgl.scenegraph._pglsg.Scene object at 0x7fef4ef03df8>"
       },
       "scene_O2o3G38um2fkipCWK2JAp5WvM": {
        "drc": {},
        "offsets": [
         0
        ],
        "position": [
         -49,
         -78,
         -119
        ],
        "scale": 1,
        "scene": "<openalea.plantgl.scenegraph._pglsg.Scene object at 0x7fef4eed3490>"
       },
       "scene_O2wssF3PgRwZ9gvA14wgFYiOx": {
        "drc": {},
        "offsets": [
         0
        ],
        "position": [
         -76,
         -101,
         -19
        ],
        "scale": 1,
        "scene": "<openalea.plantgl.scenegraph._pglsg.Scene object at 0x7fef4ed6ddf8>"
       },
       "scene_O5tM8wS8Owl6M4wzaE2GzIdBX": {
        "drc": {},
        "offsets": [
         0
        ],
        "position": [
         -98,
         -62,
         58
        ],
        "scale": 1,
        "scene": "<openalea.plantgl.scenegraph._pglsg.Scene object at 0x7fef4eca85a8>"
       },
       "scene_OEmm0l11ThaiUdGF3KmLiGm75": {
        "drc": {},
        "offsets": [
         0
        ],
        "position": [
         -81,
         -20,
         -28
        ],
        "scale": 1,
        "scene": "<openalea.plantgl.scenegraph._pglsg.Scene object at 0x7fef4eef1d50>"
       },
       "scene_OfgT93hfyN0XQAwjsSmfk4YFr": {
        "drc": {},
        "offsets": [
         0
        ],
        "position": [
         -101,
         23,
         38
        ],
        "scale": 1,
        "scene": "<openalea.plantgl.scenegraph._pglsg.Scene object at 0x7fef4eef1298>"
       },
       "scene_P6aISkDkeojYjdu8t5pH4p7k6": {
        "drc": {},
        "offsets": [
         0
        ],
        "position": [
         -97,
         49,
         -96
        ],
        "scale": 1,
        "scene": "<openalea.plantgl.scenegraph._pglsg.Scene object at 0x7fef4ed5b228>"
       },
       "scene_PC3YD5schroZk9w67AUz7Y5MC": {
        "drc": {},
        "offsets": [
         0
        ],
        "position": [
         -9,
         108,
         73
        ],
        "scale": 1,
        "scene": "<openalea.plantgl.scenegraph._pglsg.Scene object at 0x7fef4eed3148>"
       },
       "scene_PICq3dFlZfxgqP4NZkjA2BweU": {
        "drc": {},
        "offsets": [
         0
        ],
        "position": [
         93,
         -43,
         -30
        ],
        "scale": 1,
        "scene": "<openalea.plantgl.scenegraph._pglsg.Scene object at 0x7fef4ef0d490>"
       },
       "scene_PKc97tIyKlx6hjsb7nffIjQPH": {
        "drc": {},
        "offsets": [
         0
        ],
        "position": [
         -61,
         62,
         -21
        ],
        "scale": 1,
        "scene": "<openalea.plantgl.scenegraph._pglsg.Scene object at 0x7fef4ee479d0>"
       },
       "scene_PvygbzJwNyOQuJhH0M3lenqJE": {
        "drc": {},
        "offsets": [
         0
        ],
        "position": [
         0,
         -112,
         93
        ],
        "scale": 1,
        "scene": "<openalea.plantgl.scenegraph._pglsg.Scene object at 0x7fef4ecb7bc8>"
       },
       "scene_QD7lWnFXFuIT3X8JvTQ107T9p": {
        "drc": {},
        "offsets": [
         0
        ],
        "position": [
         -101,
         -83,
         72
        ],
        "scale": 1,
        "scene": "<openalea.plantgl.scenegraph._pglsg.Scene object at 0x7fef4efbfca8>"
       },
       "scene_QN3MkKb3h6crpdrFAZgS22oP6": {
        "drc": {},
        "offsets": [
         0
        ],
        "position": [
         30,
         -47,
         -64
        ],
        "scale": 1,
        "scene": "<openalea.plantgl.scenegraph._pglsg.Scene object at 0x7fef4eea1d88>"
       },
       "scene_QQ1g2IMmHRIanNb4emGCBlLuO": {
        "drc": {},
        "offsets": [
         0
        ],
        "position": [
         -70,
         -39,
         53
        ],
        "scale": 1,
        "scene": "<openalea.plantgl.scenegraph._pglsg.Scene object at 0x7fef4ee37110>"
       },
       "scene_QUks9PjdRFd1Ztxikgsk958Vr": {
        "drc": {},
        "offsets": [
         0
        ],
        "position": [
         -34,
         125,
         86
        ],
        "scale": 1,
        "scene": "<openalea.plantgl.scenegraph._pglsg.Scene object at 0x7fef4ec990d8>"
       },
       "scene_R7ObwkyAZoffbgRT3zq4jzlsw": {
        "drc": {},
        "offsets": [
         0
        ],
        "position": [
         -91,
         112,
         -96
        ],
        "scale": 1,
        "scene": "<openalea.plantgl.scenegraph._pglsg.Scene object at 0x7fef4ece9298>"
       },
       "scene_RX4dS8Tw3YOiQnloFWl4MGkzu": {
        "drc": {},
        "offsets": [
         0
        ],
        "position": [
         -40,
         -98,
         0
        ],
        "scale": 1,
        "scene": "<openalea.plantgl.scenegraph._pglsg.Scene object at 0x7fef4ef5fdf8>"
       },
       "scene_RnizTmoKnMMTUBHLas2kB0mfo": {
        "drc": {},
        "offsets": [
         0
        ],
        "position": [
         -106,
         68,
         78
        ],
        "scale": 1,
        "scene": "<openalea.plantgl.scenegraph._pglsg.Scene object at 0x7fef4ec733b0>"
       },
       "scene_STPrizE2Ay61iQ2xGYRC2MQDI": {
        "drc": {},
        "offsets": [
         0
        ],
        "position": [
         -31,
         6,
         123
        ],
        "scale": 1,
        "scene": "<openalea.plantgl.scenegraph._pglsg.Scene object at 0x7fef4ef6fdf8>"
       },
       "scene_TLPe23aLOI22lBbNtQJr06se6": {
        "drc": {},
        "offsets": [
         0
        ],
        "position": [
         -27,
         -49,
         49
        ],
        "scale": 1,
        "scene": "<openalea.plantgl.scenegraph._pglsg.Scene object at 0x7fef4ef5f0d8>"
       },
       "scene_TYQDuf4cyvbO1uTA2M48NPmAI": {
        "drc": {},
        "offsets": [
         0
        ],
        "position": [
         -62,
         -25,
         113
        ],
        "scale": 1,
        "scene": "<openalea.plantgl.scenegraph._pglsg.Scene object at 0x7fef4ec99b58>"
       },
       "scene_Ue12ViSYcoeUzx6UnT5gWCRk7": {
        "drc": {},
        "offsets": [
         0
        ],
        "position": [
         86,
         -125,
         11
        ],
        "scale": 1,
        "scene": "<openalea.plantgl.scenegraph._pglsg.Scene object at 0x7fef4ecfa0d8>"
       },
       "scene_V0nlyUuEBuWfiDEj6zPJ3xFGi": {
        "drc": {},
        "offsets": [
         0
        ],
        "position": [
         -23,
         27,
         8
        ],
        "scale": 1,
        "scene": "<openalea.plantgl.scenegraph._pglsg.Scene object at 0x7fef4ed523e8>"
       },
       "scene_VDnYJRC3GJPiIlkpvVvLFehJt": {
        "drc": {},
        "offsets": [
         0
        ],
        "position": [
         118,
         -54,
         4
        ],
        "scale": 1,
        "scene": "<openalea.plantgl.scenegraph._pglsg.Scene object at 0x7fef4ed947a0>"
       },
       "scene_VPMUerjuFO2kUvFnZTEmJKByz": {
        "drc": {},
        "offsets": [
         0
        ],
        "position": [
         118,
         125,
         -96
        ],
        "scale": 1,
        "scene": "<openalea.plantgl.scenegraph._pglsg.Scene object at 0x7fef4ee6c6c0>"
       },
       "scene_VQpaqEup9E8AVIaSBCuVRjuvZ": {
        "drc": {},
        "offsets": [
         0
        ],
        "position": [
         -16,
         26,
         -87
        ],
        "scale": 1,
        "scene": "<openalea.plantgl.scenegraph._pglsg.Scene object at 0x7fef4ecb7730>"
       },
       "scene_VmDyfxQFs22zDNDlq4OD7qtEc": {
        "drc": {},
        "offsets": [
         0
        ],
        "position": [
         -94,
         -6,
         -83
        ],
        "scale": 1,
        "scene": "<openalea.plantgl.scenegraph._pglsg.Scene object at 0x7fef4ef43d88>"
       },
       "scene_VnC1Bw0ivxlaqCllTlNc8YbCc": {
        "drc": {},
        "offsets": [
         0
        ],
        "position": [
         -87,
         99,
         -76
        ],
        "scale": 1,
        "scene": "<openalea.plantgl.scenegraph._pglsg.Scene object at 0x7fef4ee8fc38>"
       },
       "scene_VoYQNKwe3voW9h8EpG2M7NEq0": {
        "drc": {},
        "offsets": [
         0
        ],
        "position": [
         58,
         -10,
         43
        ],
        "scale": 1,
        "scene": "<openalea.plantgl.scenegraph._pglsg.Scene object at 0x7fef4ed07298>"
       },
       "scene_VpQkpEfBIVu9FioyUOZfxI6St": {
        "drc": {},
        "offsets": [
         0
        ],
        "position": [
         -76,
         -105,
         99
        ],
        "scale": 1,
        "scene": "<openalea.plantgl.scenegraph._pglsg.Scene object at 0x7fef4ee02260>"
       },
       "scene_VqVrsTiLDJGqgrfHc9C3vDDIe": {
        "drc": {},
        "offsets": [
         0
        ],
        "position": [
         -30,
         104,
         -112
        ],
        "scale": 1,
        "scene": "<openalea.plantgl.scenegraph._pglsg.Scene object at 0x7fef4eda1298>"
       },
       "scene_WHB87mj9aWbTbQc2sJ0cZacox": {
        "drc": {},
        "offsets": [
         0
        ],
        "position": [
         -83,
         -101,
         42
        ],
        "scale": 1,
        "scene": "<openalea.plantgl.scenegraph._pglsg.Scene object at 0x7fef4eda1ce0>"
       },
       "scene_WMx1faL9MmyMp8baSr1lC2iwc": {
        "drc": {},
        "offsets": [
         0
        ],
        "position": [
         99,
         -73,
         61
        ],
        "scale": 1,
        "scene": "<openalea.plantgl.scenegraph._pglsg.Scene object at 0x7fef4ee47650>"
       },
       "scene_WfQBL55uqNHKOv9hvX1bEKZdN": {
        "drc": {},
        "offsets": [
         0
        ],
        "position": [
         73,
         -8,
         -59
        ],
        "scale": 1,
        "scene": "<openalea.plantgl.scenegraph._pglsg.Scene object at 0x7fef4ec55030>"
       },
       "scene_WiYNLU3DkjAyycDK2qkBRraPM": {
        "drc": {},
        "offsets": [
         0
        ],
        "position": [
         -75,
         53,
         -66
        ],
        "scale": 1,
        "scene": "<openalea.plantgl.scenegraph._pglsg.Scene object at 0x7fef4ed94b20>"
       },
       "scene_Wkg612EDLaVBnzmDtXpq2nS7J": {
        "drc": {},
        "offsets": [
         0
        ],
        "position": [
         -88,
         -33,
         20
        ],
        "scale": 1,
        "scene": "<openalea.plantgl.scenegraph._pglsg.Scene object at 0x7fef4ecdab58>"
       },
       "scene_X9b7NVwuLH5jzEdMcr0wh7kU7": {
        "drc": {},
        "offsets": [
         0
        ],
        "position": [
         -62,
         -79,
         114
        ],
        "scale": 1,
        "scene": "<openalea.plantgl.scenegraph._pglsg.Scene object at 0x7fef4efbf538>"
       },
       "scene_XAQN6CPHVt8PIszQzKtSfL6N9": {
        "drc": {},
        "offsets": [
         0
        ],
        "position": [
         10,
         -121,
         -47
        ],
        "scale": 1,
        "scene": "<openalea.plantgl.scenegraph._pglsg.Scene object at 0x7fef4ed3b490>"
       },
       "scene_XJvsJMa6EihXCplq5rPqBjPT1": {
        "drc": {},
        "offsets": [
         0
        ],
        "position": [
         -111,
         -48,
         -80
        ],
        "scale": 1,
        "scene": "<openalea.plantgl.scenegraph._pglsg.Scene object at 0x7fef4ee8f1b8>"
       },
       "scene_XcsRr4ZZy63gEsFjgBjp53w45": {
        "drc": {},
        "offsets": [
         0
        ],
        "position": [
         -65,
         66,
         117
        ],
        "scale": 1,
        "scene": "<openalea.plantgl.scenegraph._pglsg.Scene object at 0x7fef4ee0a6c0>"
       },
       "scene_Xk1PbJ1Tpcwhlmx0wOmESSvN2": {
        "drc": {},
        "offsets": [
         0
        ],
        "position": [
         104,
         28,
         -109
        ],
        "scale": 1,
        "scene": "<openalea.plantgl.scenegraph._pglsg.Scene object at 0x7fef4ecc92d0>"
       },
       "scene_XpoMsqCK2FNjU4EqJvBf4xQdz": {
        "drc": {},
        "offsets": [
         0
        ],
        "position": [
         -89,
         111,
         94
        ],
        "scale": 1,
        "scene": "<openalea.plantgl.scenegraph._pglsg.Scene object at 0x7fef4efbf1f0>"
       },
       "scene_YNC6DAw0FQzPUPmzSeaprBA1O": {
        "drc": {},
        "offsets": [
         0
        ],
        "position": [
         -81,
         -11,
         59
        ],
        "scale": 1,
        "scene": "<openalea.plantgl.scenegraph._pglsg.Scene object at 0x7fef4ede4960>"
       },
       "scene_Yj8qs8Vmay9q7eoXjkONBOXwM": {
        "drc": {},
        "offsets": [
         0
        ],
        "position": [
         21,
         59,
         -6
        ],
        "scale": 1,
        "scene": "<openalea.plantgl.scenegraph._pglsg.Scene object at 0x7fef4ed7e500>"
       },
       "scene_YnqniKkDMZlWCNRIyO49GG0d4": {
        "drc": {},
        "offsets": [
         0
        ],
        "position": [
         35,
         91,
         -33
        ],
        "scale": 1,
        "scene": "<openalea.plantgl.scenegraph._pglsg.Scene object at 0x7fef4ed52ae8>"
       },
       "scene_YqMdkVZ7Mh9aYPw5MCPX13KwT": {
        "drc": {},
        "offsets": [
         0
        ],
        "position": [
         48,
         84,
         58
        ],
        "scale": 1,
        "scene": "<openalea.plantgl.scenegraph._pglsg.Scene object at 0x7fef4ef32d88>"
       },
       "scene_YzsFXkKGBIaS7WNxz7vTbJzjh": {
        "drc": {},
        "offsets": [
         0
        ],
        "position": [
         61,
         35,
         118
        ],
        "scale": 1,
        "scene": "<openalea.plantgl.scenegraph._pglsg.Scene object at 0x7fef4edb0ea0>"
       },
       "scene_ZbCLX2xPJU80fkuDKdEEUHaO4": {
        "drc": {},
        "offsets": [
         0
        ],
        "position": [
         60,
         -15,
         52
        ],
        "scale": 1,
        "scene": "<openalea.plantgl.scenegraph._pglsg.Scene object at 0x7fef4ed7efb8>"
       },
       "scene_a7XzYntcsKwb8X2DtizN9GNyL": {
        "drc": {},
        "offsets": [
         0
        ],
        "position": [
         -77,
         -113,
         46
        ],
        "scale": 1,
        "scene": "<openalea.plantgl.scenegraph._pglsg.Scene object at 0x7fef4edb0b20>"
       },
       "scene_aALSdHor3eMurKC8FwpsKEXuS": {
        "drc": {},
        "offsets": [
         0
        ],
        "position": [
         63,
         -116,
         -47
        ],
        "scale": 1,
        "scene": "<openalea.plantgl.scenegraph._pglsg.Scene object at 0x7fef4ef6fab0>"
       },
       "scene_aLhKTmJFdYMePAWz7vWRCEWvm": {
        "drc": {},
        "offsets": [
         0
        ],
        "position": [
         -61,
         -108,
         105
        ],
        "scale": 1,
        "scene": "<openalea.plantgl.scenegraph._pglsg.Scene object at 0x7fef4ec997d8>"
       },
       "scene_aYBA0EGOJJIOeb54iOK4NH5NP": {
        "drc": {},
        "offsets": [
         0
        ],
        "position": [
         -105,
         -66,
         -55
        ],
        "scale": 1,
        "scene": "<openalea.plantgl.scenegraph._pglsg.Scene object at 0x7fef4ed2d9d0>"
       },
       "scene_aYV4rSS7bX6o6TiliMVLLrKEd": {
        "drc": {},
        "offsets": [
         0
        ],
        "position": [
         -126,
         84,
         21
        ],
        "scale": 1,
        "scene": "<openalea.plantgl.scenegraph._pglsg.Scene object at 0x7fef4ecfa458>"
       },
       "scene_aqRtRyKpMmKHafJhZm6Esdxj3": {
        "drc": {},
        "offsets": [
         0
        ],
        "position": [
         107,
         80,
         31
        ],
        "scale": 1,
        "scene": "<openalea.plantgl.scenegraph._pglsg.Scene object at 0x7fef4ef320a0>"
       },
       "scene_arvdxQWyUrUR3hJ04oAYGBEei": {
        "drc": {},
        "offsets": [
         0
        ],
        "position": [
         -16,
         94,
         29
        ],
        "scale": 1,
        "scene": "<openalea.plantgl.scenegraph._pglsg.Scene object at 0x7fef4eec03b0>"
       },
       "scene_axkP0JfZYw6xYWHuwCfz1xWqV": {
        "drc": {},
        "offsets": [
         0
        ],
        "position": [
         -87,
         -51,
         96
        ],
        "scale": 1,
        "scene": "<openalea.plantgl.scenegraph._pglsg.Scene object at 0x7fef4ed2d650>"
       },
       "scene_b16QTaL4eSwVB1n8ucPWeOQrP": {
        "drc": {},
        "offsets": [
         0
        ],
        "position": [
         17,
         43,
         73
        ],
        "scale": 1,
        "scene": "<openalea.plantgl.scenegraph._pglsg.Scene object at 0x7fef4ef4fd50>"
       },
       "scene_bVPiotLgDtjCrJwwfXTBX9ksQ": {
        "drc": {},
        "offsets": [
         0
        ],
        "position": [
         33,
         3,
         21
        ],
        "scale": 1,
        "scene": "<openalea.plantgl.scenegraph._pglsg.Scene object at 0x7fef4ece9618>"
       },
       "scene_c3MK06YP1dBNpUPhZcI4HD0gV": {
        "drc": {},
        "offsets": [
         0
        ],
        "position": [
         35,
         -79,
         -97
        ],
        "scale": 1,
        "scene": "<openalea.plantgl.scenegraph._pglsg.Scene object at 0x7fef4eead7d8>"
       },
       "scene_c4ipQg1MBMbfjsLSOXPv5Rulm": {
        "drc": {},
        "offsets": [
         0
        ],
        "position": [
         24,
         -102,
         -65
        ],
        "scale": 1,
        "scene": "<openalea.plantgl.scenegraph._pglsg.Scene object at 0x7fef4ed6d068>"
       },
       "scene_c59Ak5jiuvOvnwVJMjhKyttYM": {
        "drc": {},
        "offsets": [
         0
        ],
        "position": [
         76,
         -51,
         15
        ],
        "scale": 1,
        "scene": "<openalea.plantgl.scenegraph._pglsg.Scene object at 0x7fef4ece9d18>"
       },
       "scene_cFAy5QfTk4cJwUGbIHvE99DoB": {
        "drc": {},
        "offsets": [
         0
        ],
        "position": [
         -48,
         -18,
         51
        ],
        "scale": 1,
        "scene": "<openalea.plantgl.scenegraph._pglsg.Scene object at 0x7fef4ee4f0a0>"
       },
       "scene_cfKBarOtCDVB52nrN78g4fzcO": {
        "drc": {},
        "offsets": [
         0
        ],
        "position": [
         56,
         70,
         -110
        ],
        "scale": 1,
        "scene": "<openalea.plantgl.scenegraph._pglsg.Scene object at 0x7fef4ecfaed8>"
       },
       "scene_cu8K2DwMcRRWb98Z8UG2dbVdy": {
        "drc": {},
        "offsets": [
         0
        ],
        "position": [
         55,
         -98,
         -24
        ],
        "scale": 1,
        "scene": "<openalea.plantgl.scenegraph._pglsg.Scene object at 0x7fef4edbf928>"
       },
       "scene_cxSCr9vWUqFxWXHjeaYKLqBEw": {
        "drc": {},
        "offsets": [
         0
        ],
        "position": [
         -81,
         36,
         -24
        ],
        "scale": 1,
        "scene": "<openalea.plantgl.scenegraph._pglsg.Scene object at 0x7fef4ed1c490>"
       },
       "scene_cxxuci8HPKfqLxJq6SU16tYBZ": {
        "drc": {},
        "offsets": [
         0
        ],
        "position": [
         -76,
         8,
         -25
        ],
        "scale": 1,
        "scene": "<openalea.plantgl.scenegraph._pglsg.Scene object at 0x7fef4ee5d1b8>"
       },
       "scene_eOnGjVIXudzVwJtlWIO1mfwoU": {
        "drc": {},
        "offsets": [
         0
        ],
        "position": [
         59,
         -32,
         52
        ],
        "scale": 1,
        "scene": "<openalea.plantgl.scenegraph._pglsg.Scene object at 0x7fef4eed3ed8>"
       },
       "scene_etqQ4m1IrZBY2ie03udT7gkqr": {
        "drc": {},
        "offsets": [
         0
        ],
        "position": [
         -92,
         123,
         63
        ],
        "scale": 1,
        "scene": "<openalea.plantgl.scenegraph._pglsg.Scene object at 0x7fef4ee5dc38>"
       },
       "scene_fCd2ebOfWOWREYG50i9YQdSVR": {
        "drc": {},
        "offsets": [
         0
        ],
        "position": [
         0,
         -43,
         -80
        ],
        "scale": 1,
        "scene": "<openalea.plantgl.scenegraph._pglsg.Scene object at 0x7fef4ec66c70>"
       },
       "scene_fwvv2HrJE9YA3g1eWIZ0DHh1k": {
        "drc": {},
        "offsets": [
         0
        ],
        "position": [
         69,
         -84,
         119
        ],
        "scale": 1,
        "scene": "<openalea.plantgl.scenegraph._pglsg.Scene object at 0x7fef4ef03378>"
       },
       "scene_gAGBprNrJzIWXgFsDLNvw23Yo": {
        "drc": {},
        "offsets": [
         0
        ],
        "position": [
         -44,
         87,
         -12
        ],
        "scale": 1,
        "scene": "<openalea.plantgl.scenegraph._pglsg.Scene object at 0x7fef4ee47d50>"
       },
       "scene_gThZJXyAV7jzsRG5MozdeSCfZ": {
        "drc": {},
        "offsets": [
         0
        ],
        "position": [
         -86,
         -111,
         107
        ],
        "scale": 1,
        "scene": "<openalea.plantgl.scenegraph._pglsg.Scene object at 0x7fef4ef43458>"
       },
       "scene_gYLrmhJEddC7KdtTYzHcSTEtU": {
        "drc": {},
        "offsets": [
         0
        ],
        "position": [
         93,
         29,
         -21
        ],
        "scale": 1,
        "scene": "<openalea.plantgl.scenegraph._pglsg.Scene object at 0x7fef4edd7810>"
       },
       "scene_grGNnWQOGRYovI9ZxPbPvIBW4": {
        "drc": {},
        "offsets": [
         0
        ],
        "position": [
         102,
         7,
         -59
        ],
        "scale": 1,
        "scene": "<openalea.plantgl.scenegraph._pglsg.Scene object at 0x7fef4ed3bb90>"
       },
       "scene_hnO8VuxtVDiixwxfGMUkxbuxB": {
        "drc": {},
        "offsets": [
         0
        ],
        "position": [
         37,
         105,
         91
        ],
        "scale": 1,
        "scene": "<openalea.plantgl.scenegraph._pglsg.Scene object at 0x7fef4ed5b6c0>"
       },
       "scene_hnkfyZ0chQc9rm0YHuAQ1tJLd": {
        "drc": {},
        "offsets": [
         0
        ],
        "position": [
         -93,
         -65,
         -120
        ],
        "scale": 1,
        "scene": "<openalea.plantgl.scenegraph._pglsg.Scene object at 0x7fef4ed6d810>"
       },
       "scene_hy17TkcJkDNTKZJG6cdM55JK0": {
        "drc": {},
        "offsets": [
         0
        ],
        "position": [
         -71,
         -8,
         -84
        ],
        "scale": 1,
        "scene": "<openalea.plantgl.scenegraph._pglsg.Scene object at 0x7fef4eed3b90>"
       },
       "scene_ibcFEBf7GExQgr3BIA6gnm1Zd": {
        "drc": {},
        "offsets": [
         0
        ],
        "position": [
         11,
         84,
         112
        ],
        "scale": 1,
        "scene": "<openalea.plantgl.scenegraph._pglsg.Scene object at 0x7fef4ecda570>"
       },
       "scene_jFOaoyc5u2nzsbenOcKKzLBjr": {
        "drc": {},
        "offsets": [
         0
        ],
        "position": [
         -85,
         47,
         -3
        ],
        "scale": 1,
        "scene": "<openalea.plantgl.scenegraph._pglsg.Scene object at 0x7fef4eea16c0>"
       },
       "scene_jQ4uujMDwfzaJnzItACwQIT2U": {
        "drc": {},
        "offsets": [
         0
        ],
        "position": [
         26,
         -18,
         -110
        ],
        "scale": 1,
        "scene": "<openalea.plantgl.scenegraph._pglsg.Scene object at 0x7fef4ed07998>"
       },
       "scene_kHsmGfUGPKJb4fu57Ib4SlmkK": {
        "drc": {},
        "offsets": [
         0
        ],
        "position": [
         16,
         14,
         125
        ],
        "scale": 1,
        "scene": "<openalea.plantgl.scenegraph._pglsg.Scene object at 0x7fef4ee4f3e8>"
       },
       "scene_kTFGiJKA9iLgqmDqqXQB3J0eE": {
        "drc": {},
        "offsets": [
         0
        ],
        "position": [
         -92,
         5,
         30
        ],
        "scale": 1,
        "scene": "<openalea.plantgl.scenegraph._pglsg.Scene object at 0x7fef4eee2f10>"
       },
       "scene_kc9yyyDATc8qLDId4JQ3o5L0k": {
        "drc": {},
        "offsets": [
         0
        ],
        "position": [
         101,
         -52,
         40
        ],
        "scale": 1,
        "scene": "<openalea.plantgl.scenegraph._pglsg.Scene object at 0x7fef4ec73730>"
       },
       "scene_koLK6FvvYmPiZ1vbaQ6mgoN0F": {
        "drc": {},
        "offsets": [
         0
        ],
        "position": [
         73,
         -126,
         -86
        ],
        "scale": 1,
        "scene": "<openalea.plantgl.scenegraph._pglsg.Scene object at 0x7fef4ef7e998>"
       },
       "scene_l1FDv1dVKVcR5cQl3devfR9if": {
        "drc": {},
        "offsets": [
         0
        ],
        "position": [
         10,
         1,
         26
        ],
        "scale": 1,
        "scene": "<openalea.plantgl.scenegraph._pglsg.Scene object at 0x7fef4ee025e0>"
       },
       "scene_lP3yClSrFgrJ1lE7uh8YrDSep": {
        "drc": {},
        "offsets": [
         0
        ],
        "position": [
         38,
         34,
         -95
        ],
        "scale": 1,
        "scene": "<openalea.plantgl.scenegraph._pglsg.Scene object at 0x7fef4efbff80>"
       },
       "scene_lPvufnHDit6s6aOEO8ZC2azbP": {
        "drc": {},
        "offsets": [
         0
        ],
        "position": [
         78,
         -23,
         -117
        ],
        "scale": 1,
        "scene": "<openalea.plantgl.scenegraph._pglsg.Scene object at 0x7fef4ec99e68>"
       },
       "scene_lcSBM8RK0xpAHsTK1JTRftdk8": {
        "drc": {},
        "offsets": [
         0
        ],
        "position": [
         111,
         -11,
         115
        ],
        "scale": 1,
        "scene": "<openalea.plantgl.scenegraph._pglsg.Scene object at 0x7fef4ef43a78>"
       },
       "scene_mC3zTDi20OsV6bYM0hoaqgv0R": {
        "drc": {},
        "offsets": [
         0
        ],
        "position": [
         70,
         -41,
         24
        ],
        "scale": 1,
        "scene": "<openalea.plantgl.scenegraph._pglsg.Scene object at 0x7fef4ef32730>"
       },
       "scene_mFxQChr39XHehB4uuRIyDm7fb": {
        "drc": {},
        "offsets": [
         0
        ],
        "position": [
         9,
         21,
         -22
        ],
        "scale": 1,
        "scene": "<openalea.plantgl.scenegraph._pglsg.Scene object at 0x7fef4ecc58f0>"
       },
       "scene_mNN6xEVG1uWaTrAHWiRK1HxEe": {
        "drc": {},
        "offsets": [
         0
        ],
        "position": [
         -68,
         -104,
         -62
        ],
        "scale": 1,
        "scene": "<openalea.plantgl.scenegraph._pglsg.Scene object at 0x7fef4ec661f0>"
       },
       "scene_mY5HJCyvn2hZEgwv8VGcPPTqF": {
        "drc": {},
        "offsets": [
         0
        ],
        "position": [
         39,
         43,
         13
        ],
        "scale": 1,
        "scene": "<openalea.plantgl.scenegraph._pglsg.Scene object at 0x7fef4efbf9d0>"
       },
       "scene_mcmCIe6z7qrYUIEC57qRp1Ejj": {
        "drc": {},
        "offsets": [
         0
        ],
        "position": [
         -31,
         -76,
         39
        ],
        "scale": 1,
        "scene": "<openalea.plantgl.scenegraph._pglsg.Scene object at 0x7fef4eea1340>"
       },
       "scene_mtsccmIw3aA0yU4xJGKXVVSqO": {
        "drc": {},
        "offsets": [
         0
        ],
        "position": [
         116,
         41,
         -83
        ],
        "scale": 1,
        "scene": "<openalea.plantgl.scenegraph._pglsg.Scene object at 0x7fef4ed5b928>"
       },
       "scene_nZIQSOjfAYb9GBnoT2E1H34R6": {
        "drc": {},
        "offsets": [
         0
        ],
        "position": [
         -102,
         63,
         15
        ],
        "scale": 1,
        "scene": "<openalea.plantgl.scenegraph._pglsg.Scene object at 0x7fef4ed2dd50>"
       },
       "scene_nz7ixotig4BtHVNVOO3Z9Dxdu": {
        "drc": {},
        "offsets": [
         0
        ],
        "position": [
         -86,
         7,
         -48
        ],
        "scale": 1,
        "scene": "<openalea.plantgl.scenegraph._pglsg.Scene object at 0x7fef4ef7e2d0>"
       },
       "scene_o3e7sJ2kqWsEUU4aTMxsK0Obo": {
        "drc": {},
        "offsets": [
         0
        ],
        "position": [
         -48,
         -59,
         47
        ],
        "scale": 1,
        "scene": "<openalea.plantgl.scenegraph._pglsg.Scene object at 0x7fef4ecfa7d8>"
       },
       "scene_oAsoQ4UhidBLTAJD4EDBAcDFt": {
        "drc": {},
        "offsets": [
         0
        ],
        "position": [
         93,
         -36,
         77
        ],
        "scale": 1,
        "scene": "<openalea.plantgl.scenegraph._pglsg.Scene object at 0x7fef4ed07d18>"
       },
       "scene_oIZwRpnPhzNi5brMhFj4TUoKc": {
        "drc": {},
        "offsets": [
         0
        ],
        "position": [
         -19,
         -59,
         -43
        ],
        "scale": 1,
        "scene": "<openalea.plantgl.scenegraph._pglsg.Scene object at 0x7fef4ee262d0>"
       },
       "scene_oM0f6scErlid6MgqrbGA4Eazb": {
        "drc": {},
        "offsets": [
         0
        ],
        "position": [
         92,
         58,
         83
        ],
        "scale": 1,
        "scene": "<openalea.plantgl.scenegraph._pglsg.Scene object at 0x7fef4ee16f10>"
       },
       "scene_on6CyL1OhuzITYz9APfkkbheI": {
        "drc": {},
        "offsets": [
         0
        ],
        "position": [
         -71,
         73,
         -102
        ],
        "scale": 1,
        "scene": "<openalea.plantgl.scenegraph._pglsg.Scene object at 0x7fef4ed52f80>"
       },
       "scene_p32eceYDyKHslb1YJZbd3nPrK": {
        "drc": {},
        "offsets": [
         0
        ],
        "position": [
         -82,
         78,
         0
        ],
        "scale": 1,
        "scene": "<openalea.plantgl.scenegraph._pglsg.Scene object at 0x7fef4ec73030>"
       },
       "scene_p5WuStcqkbPZhoTw7PxYOmQIb": {
        "drc": {},
        "offsets": [
         0
        ],
        "position": [
         -4,
         32,
         -113
        ],
        "scale": 1,
        "scene": "<openalea.plantgl.scenegraph._pglsg.Scene object at 0x7fef4ec844c8>"
       },
       "scene_pPaMLRpLN4mbOdvm4Hm98UNyo": {
        "drc": {},
        "offsets": [
         0
        ],
        "position": [
         18,
         -42,
         -45
        ],
        "scale": 1,
        "scene": "<openalea.plantgl.scenegraph._pglsg.Scene object at 0x7fef4ed0bd50>"
       },
       "scene_pQbGppS7JQ60jv1PvEzFWhLUG": {
        "drc": {},
        "offsets": [
         0
        ],
        "position": [
         -82,
         106,
         -11
        ],
        "scale": 1,
        "scene": "<openalea.plantgl.scenegraph._pglsg.Scene object at 0x7fef4ee26650>"
       },
       "scene_pfcKYO3FU5f0tHD1NqgNU03pV": {
        "drc": {},
        "offsets": [
         0
        ],
        "position": [
         -58,
         56,
         91
        ],
        "scale": 1,
        "scene": "<openalea.plantgl.scenegraph._pglsg.Scene object at 0x7fef4eec0960>"
       },
       "scene_pnX3lGfCXF5fL5je4vz2Ty42E": {
        "drc": {},
        "offsets": [
         0
        ],
        "position": [
         -25,
         64,
         88
        ],
        "scale": 1,
        "scene": "<openalea.plantgl.scenegraph._pglsg.Scene object at 0x7fef4eee2848>"
       },
       "scene_qS89byK252yCsgOtbkzFD7NXf": {
        "drc": {},
        "offsets": [
         0
        ],
        "position": [
         125,
         -96,
         9
        ],
        "scale": 1,
        "scene": "<openalea.plantgl.scenegraph._pglsg.Scene object at 0x7fef4eef1998>"
       },
       "scene_qTzEekpMjjQ2XbeqdTXsPLwnw": {
        "drc": {},
        "offsets": [
         0
        ],
        "position": [
         -124,
         24,
         -72
        ],
        "scale": 1,
        "scene": "<openalea.plantgl.scenegraph._pglsg.Scene object at 0x7fef4ee473e8>"
       },
       "scene_qY6strcOzz8SDQgyXccR1IqSP": {
        "drc": {},
        "offsets": [
         0
        ],
        "position": [
         9,
         103,
         83
        ],
        "scale": 1,
        "scene": "<openalea.plantgl.scenegraph._pglsg.Scene object at 0x7fef4ec55bc8>"
       },
       "scene_qbKkE1Ibtg7hetIuFlFgGSIpU": {
        "drc": {},
        "offsets": [
         0
        ],
        "position": [
         -60,
         -108,
         -57
        ],
        "scale": 1,
        "scene": "<openalea.plantgl.scenegraph._pglsg.Scene object at 0x7fef4ef5f768>"
       },
       "scene_quvUBsxcczNSOQMLXkNqlSmbS": {
        "drc": {},
        "offsets": [
         0
        ],
        "position": [
         -55,
         107,
         -96
        ],
        "scale": 1,
        "scene": "<openalea.plantgl.scenegraph._pglsg.Scene object at 0x7fef4eea1a40>"
       },
       "scene_qzHhBiOnEukzhkvD5mZ1NkrJ2": {
        "drc": {},
        "offsets": [
         0
        ],
        "position": [
         -113,
         79,
         73
        ],
        "scale": 1,
        "scene": "<openalea.plantgl.scenegraph._pglsg.Scene object at 0x7fef4ec668f0>"
       },
       "scene_rAC7ea3jRTwlTwrxFJGX9WqJ7": {
        "drc": {},
        "offsets": [
         0
        ],
        "position": [
         -52,
         -84,
         -51
        ],
        "scale": 1,
        "scene": "<openalea.plantgl.scenegraph._pglsg.Scene object at 0x7fef4ed0b6c0>"
       },
       "scene_rGrzUIMvfohnsmKbNBdGCOx3j": {
        "drc": {},
        "offsets": [
         0
        ],
        "position": [
         46,
         -30,
         -119
        ],
        "scale": 1,
        "scene": "<openalea.plantgl.scenegraph._pglsg.Scene object at 0x7fef4ed7e180>"
       },
       "scene_rIqSX7TpueYNTPw562T0vhRwD": {
        "drc": {},
        "offsets": [
         0
        ],
        "position": [
         -83,
         113,
         -29
        ],
        "scale": 1,
        "scene": "<openalea.plantgl.scenegraph._pglsg.Scene object at 0x7fef4ee16998>"
       },
       "scene_rO4c2Z4o3SRYv2RN98skVWd3c": {
        "drc": {},
        "offsets": [
         0
        ],
        "position": [
         -107,
         -93,
         -106
        ],
        "scale": 1,
        "scene": "<openalea.plantgl.scenegraph._pglsg.Scene object at 0x7fef4ee6c490>"
       },
       "scene_rPL0BRwTYkfWLZcML193awWqY": {
        "drc": {},
        "offsets": [
         0
        ],
        "position": [
         115,
         -42,
         -21
        ],
        "scale": 1,
        "scene": "<openalea.plantgl.scenegraph._pglsg.Scene object at 0x7fef4ef0dd88>"
       },
       "scene_rPViOnFurjH4pi2eYGGDGy1Z4": {
        "drc": {},
        "offsets": [
         0
        ],
        "position": [
         -75,
         -47,
         -95
        ],
        "scale": 1,
        "scene": "<openalea.plantgl.scenegraph._pglsg.Scene object at 0x7fef4ed6d298>"
       },
       "scene_reTJNJY5QS1hcMaCyqtfeohj1": {
        "drc": {},
        "offsets": [
         0
        ],
        "position": [
         -76,
         -100,
         53
        ],
        "scale": 1,
        "scene": "<openalea.plantgl.scenegraph._pglsg.Scene object at 0x7fef4ec55e30>"
       },
       "scene_rppiKLwLrXBx5n9O3XIAPskOQ": {
        "drc": {},
        "offsets": [
         0
        ],
        "position": [
         -79,
         -84,
         -59
        ],
        "scale": 1,
        "scene": "<openalea.plantgl.scenegraph._pglsg.Scene object at 0x7fef4ef0dab0>"
       },
       "scene_sKW1AiFJi2F8E981MUmxnuCNp": {
        "drc": {},
        "offsets": [
         0
        ],
        "position": [
         104,
         -106,
         -83
        ],
        "scale": 1,
        "scene": "<openalea.plantgl.scenegraph._pglsg.Scene object at 0x7fef4ef7e180>"
       },
       "scene_sOnKa0SmJhDSgyB6YbMiKxlmS": {
        "drc": {},
        "offsets": [
         0
        ],
        "position": [
         71,
         99,
         26
        ],
        "scale": 1,
        "scene": "<openalea.plantgl.scenegraph._pglsg.Scene object at 0x7fef4ecc51f0>"
       },
       "scene_sVl3e8EpvXSKe5wwvT2IJhedK": {
        "drc": {},
        "offsets": [
         0
        ],
        "position": [
         -111,
         16,
         -8
        ],
        "scale": 1,
        "scene": "<openalea.plantgl.scenegraph._pglsg.Scene object at 0x7fef4eec05e0>"
       },
       "scene_silWIEPHnxGKPQUYlUvPT9psE": {
        "drc": {},
        "offsets": [
         0
        ],
        "position": [
         -121,
         7,
         -80
        ],
        "scale": 1,
        "scene": "<openalea.plantgl.scenegraph._pglsg.Scene object at 0x7fef4ec84148>"
       },
       "scene_sl40aJ36759HpFNEDB9cLcwjf": {
        "drc": {},
        "offsets": [
         0
        ],
        "position": [
         59,
         77,
         -69
        ],
        "scale": 1,
        "scene": "<openalea.plantgl.scenegraph._pglsg.Scene object at 0x7fef4eda1960>"
       },
       "scene_tCNcc5kU9LDxzJTD7gIvabAnD": {
        "drc": {},
        "offsets": [
         0
        ],
        "position": [
         48,
         4,
         -39
        ],
        "scale": 1,
        "scene": "<openalea.plantgl.scenegraph._pglsg.Scene object at 0x7fef4ecc5c70>"
       },
       "scene_twjEleYMTPWMijbhecv6TgqDv": {
        "drc": {},
        "offsets": [
         0
        ],
        "position": [
         -73,
         71,
         -125
        ],
        "scale": 1,
        "scene": "<openalea.plantgl.scenegraph._pglsg.Scene object at 0x7fef4ecc9650>"
       },
       "scene_txOGGMcltW0SorclaWVOn39PH": {
        "drc": {},
        "offsets": [
         0
        ],
        "position": [
         117,
         -34,
         -33
        ],
        "scale": 1,
        "scene": "<openalea.plantgl.scenegraph._pglsg.Scene object at 0x7fef4ee16148>"
       },
       "scene_uMMCtSglHFyVlQt702Q9WCaq4": {
        "drc": {},
        "offsets": [
         0
        ],
        "position": [
         -67,
         55,
         -37
        ],
        "scale": 1,
        "scene": "<openalea.plantgl.scenegraph._pglsg.Scene object at 0x7fef4ee6ca40>"
       },
       "scene_v7tN3ZFvF5gMHC4urySiXo3oI": {
        "drc": {},
        "offsets": [
         0
        ],
        "position": [
         -9,
         23,
         61
        ],
        "scale": 1,
        "scene": "<openalea.plantgl.scenegraph._pglsg.Scene object at 0x7fef4ee0aa40>"
       },
       "scene_vVVCKVe7GSVeKpXj1ikwDwvty": {
        "drc": {},
        "offsets": [
         0
        ],
        "position": [
         -41,
         13,
         -26
        ],
        "scale": 1,
        "scene": "<openalea.plantgl.scenegraph._pglsg.Scene object at 0x7fef4ee0ad88>"
       },
       "scene_vZ7O28dQC6LsCWRtUIOREWWAy": {
        "drc": {},
        "offsets": [
         0
        ],
        "position": [
         -58,
         80,
         -38
        ],
        "scale": 1,
        "scene": "<openalea.plantgl.scenegraph._pglsg.Scene object at 0x7fef4ee5d8b8>"
       },
       "scene_vlv3nkyo19OqTB63xR4ufYqCG": {
        "drc": {},
        "offsets": [
         0
        ],
        "position": [
         24,
         -25,
         13
        ],
        "scale": 1,
        "scene": "<openalea.plantgl.scenegraph._pglsg.Scene object at 0x7fef4ef23a40>"
       },
       "scene_w18NyF5Yc34DbPBJIwqY4Bx4Q": {
        "drc": {},
        "offsets": [
         0
        ],
        "position": [
         87,
         15,
         107
        ],
        "scale": 1,
        "scene": "<openalea.plantgl.scenegraph._pglsg.Scene object at 0x7fef4ed2d2d0>"
       },
       "scene_wAi9NLfqX35FHCX86TOvaGDLI": {
        "drc": {},
        "offsets": [
         0
        ],
        "position": [
         -109,
         -53,
         86
        ],
        "scale": 1,
        "scene": "<openalea.plantgl.scenegraph._pglsg.Scene object at 0x7fef4ed0b340>"
       },
       "scene_wJn526Z4SVYtKfDAajL9z2m16": {
        "drc": {},
        "offsets": [
         0
        ],
        "position": [
         -73,
         85,
         -88
        ],
        "scale": 1,
        "scene": "<openalea.plantgl.scenegraph._pglsg.Scene object at 0x7fef4ef23500>"
       },
       "scene_wdNmsG1g1sExDZko6t7sNSy27": {
        "drc": {},
        "offsets": [
         0
        ],
        "position": [
         100,
         64,
         0
        ],
        "scale": 1,
        "scene": "<openalea.plantgl.scenegraph._pglsg.Scene object at 0x7fef4ecc9d18>"
       },
       "scene_xAyMLsNgqsuyjtdjkPb9MGY8v": {
        "drc": {},
        "offsets": [
         0
        ],
        "position": [
         114,
         44,
         68
        ],
        "scale": 1,
        "scene": "<openalea.plantgl.scenegraph._pglsg.Scene object at 0x7fef4ed94420>"
       },
       "scene_xf9zdqYIWl0no72l6Ob404x63": {
        "drc": {},
        "offsets": [
         0
        ],
        "position": [
         -125,
         67,
         55
        ],
        "scale": 1,
        "scene": "<openalea.plantgl.scenegraph._pglsg.Scene object at 0x7fef4eca8928>"
       },
       "scene_yAXQ6Fn49ktiFj7UmbPTjzpjT": {
        "drc": {},
        "offsets": [
         0
        ],
        "position": [
         84,
         -75,
         -1
        ],
        "scale": 1,
        "scene": "<openalea.plantgl.scenegraph._pglsg.Scene object at 0x7fef4ee165e0>"
       },
       "scene_yGvpXJXo6Di1kIixsWYngwUs6": {
        "drc": {},
        "offsets": [
         0
        ],
        "position": [
         79,
         -94,
         -2
        ],
        "scale": 1,
        "scene": "<openalea.plantgl.scenegraph._pglsg.Scene object at 0x7fef4f849bc8>"
       },
       "scene_yyJYl2D1LrM5CFH8iUihsOuRS": {
        "drc": {},
        "offsets": [
         0
        ],
        "position": [
         -55,
         -124,
         88
        ],
        "scale": 1,
        "scene": "<openalea.plantgl.scenegraph._pglsg.Scene object at 0x7fef4ef43768>"
       },
       "scene_zDY5E0dmXwHUaw5DIyJhSgnNp": {
        "drc": {},
        "offsets": [
         0
        ],
        "position": [
         113,
         -84,
         104
        ],
        "scale": 1,
        "scene": "<openalea.plantgl.scenegraph._pglsg.Scene object at 0x7fef4ecda8f0>"
       },
       "scene_zJ90qWkEpHbYpnCksTXdlkOuI": {
        "drc": {},
        "offsets": [
         0
        ],
        "position": [
         32,
         93,
         108
        ],
        "scale": 1,
        "scene": "<openalea.plantgl.scenegraph._pglsg.Scene object at 0x7fef4ee7bc00>"
       },
       "scene_zSa0U2hrF7SZFPp8MRO5mwbt0": {
        "drc": {},
        "offsets": [
         0
        ],
        "position": [
         -121,
         82,
         -3
        ],
        "scale": 1,
        "scene": "<openalea.plantgl.scenegraph._pglsg.Scene object at 0x7fef4ed1cb90>"
       },
       "scene_zhY8Cx7RIifAlojyguiSiZvoF": {
        "drc": {},
        "offsets": [
         0
        ],
        "position": [
         -8,
         36,
         23
        ],
        "scale": 1,
        "scene": "<openalea.plantgl.scenegraph._pglsg.Scene object at 0x7fef4ed1c110>"
       },
       "scene_zrMN6gawA0jv0fCN2SVO0T3RB": {
        "drc": {},
        "offsets": [
         0
        ],
        "position": [
         -53,
         -35,
         45
        ],
        "scale": 1,
        "scene": "<openalea.plantgl.scenegraph._pglsg.Scene object at 0x7fef4ee6cdc0>"
       },
       "size_display": [
        600,
        400
       ],
       "size_world": [
        255,
        255,
        255
       ]
      }
     },
     "cd5a4c7bbdab4c1488220659df7721e2": {
      "buffers": [
       {
        "data": "",
        "encoding": "base64",
        "path": [
         "scene",
         "drc"
        ]
       },
       {
        "data": "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",
        "encoding": "base64",
        "path": [
         "scene_txaUQHL75nCos65qwlPdmzrfm",
         "drc"
        ]
       },
       {
        "data": "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",
        "encoding": "base64",
        "path": [
         "scene_HxNpC5xZi7nFAv3cf8qDqRqMP",
         "drc"
        ]
       },
       {
        "data": "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",
        "encoding": "base64",
        "path": [
         "scene_sn8t4ESITW5pzpf8Ou0hULRDP",
         "drc"
        ]
       },
       {
        "data": "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",
        "encoding": "base64",
        "path": [
         "scene_wQPZbEybHCaP9O8S1js9tn29W",
         "drc"
        ]
       },
       {
        "data": "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",
        "encoding": "base64",
        "path": [
         "scene_JDa2Jb5Mij38v8NBiOriMdmpp",
         "drc"
        ]
       },
       {
        "data": "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",
        "encoding": "base64",
        "path": [
         "scene_Szn6iZM3zOV06YpBUUADq76M3",
         "drc"
        ]
       },
       {
        "data": "RFJBQ08CAgEBAIAAAgJpZAQAAAAABHR5cGUEbWVzaAAA/gL4BQH3BQAAvgFf27Zt27Ztq9pSVVVVVVVVVVWq1VJVVVVVVVVVpVrVUlVVVVVVVVWqVdVSVVVVVVVVpVpV1VJVVVVVVVWqVVXVUlVVVVVVpVpVVdVSVVVVVVWqVVVV1VJVVVVVpVpVVVXVUlVVVVWqVVVVVdVSVVVVpVpVVVVV1VJVVVWqVVVVVVXVUlVVpVpVVVVVVdVSVVWqVVVVVVVV1VJVpVpVVVVVVVXVUlWqVVVVVVVVVdVSpVpVVVVVVVVV1VKqAAAKAQEQ/wPnhIUC/wABAAEAAQAJAwAAAgECAgMAAQEEAQEADQ8BAS0BZQsdFaUaWQIsAyxeiXJvdjFMtM+NaBl5Cn8NGqozbqTMy7NAIPaF+cl+qzUwlsIl6Poa9gEWKZWHIG4/FYwZh9ZAp2TfBJ8F5GVLweO9ye94yuojRy86cweXYHMqlSY9hlfwH14dNPq/g/l96DOgNQvgmYiVaK0CTHICtAgDSJcao5cMIJPui3AQgKoUwCMYoAsYIGsWoCMYgOMWIAk1a18MYKEDAAOLAEhboFbAmgUwDAKQXBDTnQVwG5F1+hGFeQFgOATgbgOICgE4TgE2bgGyGoCJNMBsFgD0xFOlABunABiXAFmARUc9ABh6BECnQNFlS1GglwAyDQSAiQGAygFQPhD2AJjNAsicBOhLBvjaB8h6PtlwFEDxv/PKAGgIAP0AeGOADbqsC6D8AReXAE2ZAIODADckgJMSoBgEQKji0imA+x0wVAgw+QMgZ8CZ2aoHqOgLWvlS6/YYYHlune4tTlUB4DiARAK4XIDbDcDjAXADRUWArFmAm+EYiHYAIwMByHSfBHQWSTTumPItXLhjqYAoAqoFuAbgFoBaAWIIWCngWAIeZ8CuDmi3AVs44HYDoMAFUHMANDoCHFEMPO/pBkDhEMB2C4h1AY0lwGiBMuRxfjy2r8cx+WiB51F+QM4P2PahPD4ADgEEBKhDAA4mgPAGwN0CYGACcKACcOACeAgDgBQDPE1cSgVwygFweQFQ3wEA758hoGgBwH28hgEwcwGUTrMIZgKg/RfF5x162bJvaTA/HoOEAJlOAJcYAP8JoBsD3DdQpUA83PEA6KwTf7cIWLSDP7XsQRrQkEchEcCfAjg/AMMPIAyBa6jzAFDtAPAHWnBLhwt7aOmAZQOQVkAmLB0AMa6DVD7aAuiDD4DkAAaggoAsAWJIQH6AeABTQHoBSDjwxECXAsVi4I2AGQBiCEhBoGgMRDJQgArQ8kpcA3ALQK0AMQSsFDBaoGiBKgXCEEgroC2A1gBSCwhFoFKBwgUMF7BUQBSBMM5DBAGYDgCzASB+APgNgIYAxxLQWAI+Q8B9A8MPYNkALB2AIQhw48CHCGgwAQ4mAEQE9AMuJBLglQEcHgNpzBsDII8AWRfANxj9YbEu4HgEdGOAZse+GevKAPWFxbyA3cFmEPsXeTw7gMsF2HkAQAoAwAkA+w7A3QJ4dQDlD5j8Abs6YLsF1HeA/wRg/PPqPMCWC9jZAUc3AMj+jRiYAESGAG43wJAIABMDAPMCwHAIwN0GEBUCYFwCXFwCDBUCtNuAwiGAywuASwyAQiKAthswMBOAj1OpDVQADlQAJ00APB6g6QSAygGAugGg2QSAvwOcMgE4TgE2TgGaMgHud0BmE8DpBsApB0CmE8DgDIBJrdaUKcAGLgAHLgCVKQAhIYApFQAuBwDuBoDpFADhIABVKQDHLcDGLcBUKcDgIEDpFMDtBsAtB0B2CaDLlHFsBNCaBQAZBvgoBsiaBWhsBJjNAhj+ACgGAZjVAmh0BMiiBfgwBgAhBtCiBXB0BKDVAjAGASDrBRDrBAAjzQXLVH//VooFi1Nab3NVNnRvOl1ZC2+Ej7rNfYGBl4OBgTlE1r69x6mL3fOMoOlb1uVEXv/vy3LbpvGBkMFcK+0ZMyx3I92+7KmcIXHfvg3H6mrhU2T8fF5S0eIChTZyCapnmoLzjn2/ggT/AkRAAAAAAP8PAAAAAIC/AACAvwAAgL8AAABADAQBAQEECuE/EBsQBTAp/F+hMwECb0POBAEDjIyAWgECjkYMAQLAQEQAAADLAAAA",
        "encoding": "base64",
        "path": [
         "scene_7YNjpS8bQyLCS9MoqifKWN8pW",
         "drc"
        ]
       },
       {
        "data": "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",
        "encoding": "base64",
        "path": [
         "scene_y8QU5JuqyMNao245ejbYALUsp",
         "drc"
        ]
       },
       {
        "data": "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",
        "encoding": "base64",
        "path": [
         "scene_GaRJkEltQ08dRh1FWdrv0pqa5",
         "drc"
        ]
       },
       {
        "data": "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",
        "encoding": "base64",
        "path": [
         "scene_f7SAXpyQEWTfAXrvZcfdaRVMH",
         "drc"
        ]
       },
       {
        "data": "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",
        "encoding": "base64",
        "path": [
         "scene_AiNHiSDUEq9AUdGcZN4koQCto",
         "drc"
        ]
       },
       {
        "data": "RFJBQ08CAgEBAIAAAgJpZAQAAAAABHR5cGUEbWVzaAAA/gL4BQH3BQAAvgFf27Zt27Ztq9pSVVVVVVVVVVWq1VJVVVVVVVVVpVrVUlVVVVVVVVWqVdVSVVVVVVVVpVpV1VJVVVVVVVWqVVXVUlVVVVVVpVpVVdVSVVVVVVWqVVVV1VJVVVVVpVpVVVXVUlVVVVWqVVVVVdVSVVVVpVpVVVVV1VJVVVWqVVVVVVXVUlVVpVpVVVVVVdVSVVWqVVVVVVVV1VJVpVpVVVVVVVXVUlWqVVVVVVVVVdVSpVpVVVVVVVVV1VKqAAAKAQEQ/wPnhIUC/wABAAEAAQAJAwAAAgECAgMAAQEEAQEADQ8BAS0BZQsdFaUaWQIsAyxeiXJvdjFMtM+NaBl5Cn8NGqozbqTMy7NAIPaF+cl+qzUwlsIl6Poa9gEWKZWHIG4/FYwZh9ZAp2TfBJ8F5GVLweO9ye94yuojRy86cweXYHMqlSY9hlfwH14dNPq/g/l96DOgNQvgmYiVaK0CTHICtAgDSJcao5cMIJPui3AQgKoUwCMYoAsYIGsWoCMYgOMWIAk1a18MYKEDAAOLAEhboFbAmgUwDAKQXBDTnQVwG5F1+hGFeQFgOATgbgOICgE4TgE2bgGyGoCJNMBsFgD0xFOlABunABiXAFmARUc9ABh6BECnQNFlS1GglwAyDQSAiQGAygFQPhD2AJjNAsicBOhLBvjaB8h6PtlwFEDxv/PKAGgIAP0AeGOADbqsC6D8AReXAE2ZAIODADckgJMSoBgEQKji0imA+x0wVAgw+QMgZ8CZ2aoHqOgLWvlS6/YYYHlune4tTlUB4DiARAK4XIDbDcDjAXADRUWArFmAm+EYiHYAIwMByHSfBHQWSTTumPItXLhjqYAoAqoFuAbgFoBaAWIIWCngWAIeZ8CuDmi3AVs44HYDoMAFUHMANDoCHFEMPO/pBkDhEMB2C4h1AY0lwGiBMuRxfjy2r8cx+WiB51F+QM4P2PahPD4ADgEEBKhDAA4mgPAGwN0CYGACcKACcOACeAgDgBQDPE1cSgVwygFweQFQ3wEA758hoGgBwH28hgEwcwGUTrMIZgKg/RfF5x162bJvaTA/HoOEAJlOAJcYAP8JoBsD3DdQpUA83PEA6KwTf7cIWLSDP7XsQRrQkEchEcCfAjg/AMMPIAyBa6jzAFDtAPAHWnBLhwt7aOmAZQOQVkAmLB0AMa6DVD7aAuiDD4DkAAaggoAsAWJIQH6AeABTQHoBSDjwxECXAsVi4I2AGQBiCEhBoGgMRDJQgArQ8kpcA3ALQK0AMQSsFDBaoGiBKgXCEEgroC2A1gBSCwhFoFKBwgUMF7BUQBSBMM5DBAGYDgCzASB+APgNgIYAxxLQWAI+Q8B9A8MPYNkALB2AIQhw48CHCGgwAQ4mAEQE9AMuJBLglQEcHgNpzBsDII8AWRfANxj9YbEu4HgEdGOAZse+GevKAPWFxbyA3cFmEPsXeTw7gMsF2HkAQAoAwAkA+w7A3QJ4dQDlD5j8Abs6YLsF1HeA/wRg/PPqPMCWC9jZAUc3AMj+jRiYAESGAG43wJAIABMDAPMCwHAIwN0GEBUCYFwCXFwCDBUCtNuAwiGAywuASwyAQiKAthswMBOAj1OpDVQADlQAJ00APB6g6QSAygGAugGg2QSAvwOcMgE4TgE2TgGaMgHud0BmE8DpBsApB0CmE8DgDIBJrdaUKcAGLgAHLgCVKQAhIYApFQAuBwDuBoDpFADhIABVKQDHLcDGLcBUKcDgIEDpFMDtBsAtB0B2CaDLlHFsBNCaBQAZBvgoBsiaBWhsBJjNAhj+ACgGAZjVAmh0BMiiBfgwBgAhBtCiBXB0BKDVAjAGASDrBRDrBAAjzQXLVH//VooFi1Nab3NVNnRvOl1ZC2+Ej7rNfYGBl4OBgTlE1r69x6mL3fOMoOlb1uVEXv/vy3LbpvGBkMFcK+0ZMyx3I92+7KmcIXHfvg3H6mrhU2T8fF5S0eIChTZyCapnmoLzjn2/ggT/AkRAAAAAAP8PAAAAAEDBAABAwQAAQMEAAMBBDAQBAQEEBOE/EAMQBTj6/z+hMwECb0POBAEDjIyAWgECjkYMAQLAQDgAAACSAAAA",
        "encoding": "base64",
        "path": [
         "scene_p1lbpPSzhVVCRxR9rkSyGFsBe",
         "drc"
        ]
       },
       {
        "data": "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",
        "encoding": "base64",
        "path": [
         "scene_ObpHSvITY0RGmpk61h4t14uHG",
         "drc"
        ]
       },
       {
        "data": "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",
        "encoding": "base64",
        "path": [
         "scene_ZqaIKV6cCJ1LRemJtXMv2Utfk",
         "drc"
        ]
       },
       {
        "data": "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",
        "encoding": "base64",
        "path": [
         "scene_QOJALiBwSJp2NhuBLjA5M5URU",
         "drc"
        ]
       },
       {
        "data": "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",
        "encoding": "base64",
        "path": [
         "scene_lL1oWrNcGeh1iqZotAZCaY7FT",
         "drc"
        ]
       },
       {
        "data": "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",
        "encoding": "base64",
        "path": [
         "scene_0XYv1yD8LaWsAQOLt5csL16fD",
         "drc"
        ]
       },
       {
        "data": "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",
        "encoding": "base64",
        "path": [
         "scene_6UjABHHzZ1KG7mvay3sxbOaUH",
         "drc"
        ]
       },
       {
        "data": "RFJBQ08CAgEBAIAAAgJpZAQAAAAABHR5cGUEbWVzaAAA/gL4BQH3BQAAvgFf27Zt27Ztq9pSVVVVVVVVVVWq1VJVVVVVVVVVpVrVUlVVVVVVVVWqVdVSVVVVVVVVpVpV1VJVVVVVVVWqVVXVUlVVVVVVpVpVVdVSVVVVVVWqVVVV1VJVVVVVpVpVVVXVUlVVVVWqVVVVVdVSVVVVpVpVVVVV1VJVVVWqVVVVVVXVUlVVpVpVVVVVVdVSVVWqVVVVVVVV1VJVpVpVVVVVVVXVUlWqVVVVVVVVVdVSpVpVVVVVVVVV1VKqAAAKAQEQ/wPnhIUC/wABAAEAAQAJAwAAAgECAgMAAQEEAQEADQ8BAS0BZQsdFaUaWQIsAyxeiXJvdjFMtM+NaBl5Cn8NGqozbqTMy7NAIPaF+cl+qzUwlsIl6Poa9gEWKZWHIG4/FYwZh9ZAp2TfBJ8F5GVLweO9ye94yuojRy86cweXYHMqlSY9hlfwH14dNPq/g/l96DOgNQvgmYiVaK0CTHICtAgDSJcao5cMIJPui3AQgKoUwCMYoAsYIGsWoCMYgOMWIAk1a18MYKEDAAOLAEhboFbAmgUwDAKQXBDTnQVwG5F1+hGFeQFgOATgbgOICgE4TgE2bgGyGoCJNMBsFgD0xFOlABunABiXAFmARUc9ABh6BECnQNFlS1GglwAyDQSAiQGAygFQPhD2AJjNAsicBOhLBvjaB8h6PtlwFEDxv/PKAGgIAP0AeGOADbqsC6D8AReXAE2ZAIODADckgJMSoBgEQKji0imA+x0wVAgw+QMgZ8CZ2aoHqOgLWvlS6/YYYHlune4tTlUB4DiARAK4XIDbDcDjAXADRUWArFmAm+EYiHYAIwMByHSfBHQWSTTumPItXLhjqYAoAqoFuAbgFoBaAWIIWCngWAIeZ8CuDmi3AVs44HYDoMAFUHMANDoCHFEMPO/pBkDhEMB2C4h1AY0lwGiBMuRxfjy2r8cx+WiB51F+QM4P2PahPD4ADgEEBKhDAA4mgPAGwN0CYGACcKACcOACeAgDgBQDPE1cSgVwygFweQFQ3wEA758hoGgBwH28hgEwcwGUTrMIZgKg/RfF5x162bJvaTA/HoOEAJlOAJcYAP8JoBsD3DdQpUA83PEA6KwTf7cIWLSDP7XsQRrQkEchEcCfAjg/AMMPIAyBa6jzAFDtAPAHWnBLhwt7aOmAZQOQVkAmLB0AMa6DVD7aAuiDD4DkAAaggoAsAWJIQH6AeABTQHoBSDjwxECXAsVi4I2AGQBiCEhBoGgMRDJQgArQ8kpcA3ALQK0AMQSsFDBaoGiBKgXCEEgroC2A1gBSCwhFoFKBwgUMF7BUQBSBMM5DBAGYDgCzASB+APgNgIYAxxLQWAI+Q8B9A8MPYNkALB2AIQhw48CHCGgwAQ4mAEQE9AMuJBLglQEcHgNpzBsDII8AWRfANxj9YbEu4HgEdGOAZse+GevKAPWFxbyA3cFmEPsXeTw7gMsF2HkAQAoAwAkA+w7A3QJ4dQDlD5j8Abs6YLsF1HeA/wRg/PPqPMCWC9jZAUc3AMj+jRiYAESGAG43wJAIABMDAPMCwHAIwN0GEBUCYFwCXFwCDBUCtNuAwiGAywuASwyAQiKAthswMBOAj1OpDVQADlQAJ00APB6g6QSAygGAugGg2QSAvwOcMgE4TgE2TgGaMgHud0BmE8DpBsApB0CmE8DgDIBJrdaUKcAGLgAHLgCVKQAhIYApFQAuBwDuBoDpFADhIABVKQDHLcDGLcBUKcDgIEDpFMDtBsAtB0B2CaDLlHFsBNCaBQAZBvgoBsiaBWhsBJjNAhj+ACgGAZjVAmh0BMiiBfgwBgAhBtCiBXB0BKDVAjAGASDrBRDrBAAjzQXLVH//VooFi1Nab3NVNnRvOl1ZC2+Ej7rNfYGBl4OBgTlE1r69x6mL3fOMoOlb1uVEXv/vy3LbpvGBkMFcK+0ZMyx3I92+7KmcIXHfvg3H6mrhU2T8fF5S0eIChTZyCapnmoLzjn2/ggT/AkRAAAAAAP8PAAAAAHDBAABwwQAAcMEAAPBBDAQBAQEEKeE/EJcQBTAt+F+hMwECb0POBAEDjIyAWgECjkYMAQLAQJAAAADBAAAA",
        "encoding": "base64",
        "path": [
         "scene_eQWp7uVJoj433zxqlzwvVGF7w",
         "drc"
        ]
       },
       {
        "data": "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",
        "encoding": "base64",
        "path": [
         "scene_D6vcWyo9o7YqV2lJuOZAydZfR",
         "drc"
        ]
       },
       {
        "data": "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",
        "encoding": "base64",
        "path": [
         "scene_P70jj6HerjCB9xKrcb5m77mtw",
         "drc"
        ]
       },
       {
        "data": "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",
        "encoding": "base64",
        "path": [
         "scene_OPooCaeg3G0LhezQqLHqbWYM6",
         "drc"
        ]
       },
       {
        "data": "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",
        "encoding": "base64",
        "path": [
         "scene_zdWN9HOecnYbjbxCzJkB6TMl5",
         "drc"
        ]
       },
       {
        "data": "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",
        "encoding": "base64",
        "path": [
         "scene_naIY4W2sjNqvPgkuBeJgTGsk5",
         "drc"
        ]
       },
       {
        "data": "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",
        "encoding": "base64",
        "path": [
         "scene_AXwBm3376YFlmScLY1ww2QfRy",
         "drc"
        ]
       },
       {
        "data": "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",
        "encoding": "base64",
        "path": [
         "scene_mdekAXAmevZOL2f0Qjf7khN1j",
         "drc"
        ]
       },
       {
        "data": "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",
        "encoding": "base64",
        "path": [
         "scene_3t6i2kWOclOvN9b1rcROycrgV",
         "drc"
        ]
       },
       {
        "data": "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",
        "encoding": "base64",
        "path": [
         "scene_qNZOUsUiclpPjkpJnIJGDPceg",
         "drc"
        ]
       },
       {
        "data": "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",
        "encoding": "base64",
        "path": [
         "scene_cM5y9nq0cCMujHzrWzJMG3xvh",
         "drc"
        ]
       },
       {
        "data": "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",
        "encoding": "base64",
        "path": [
         "scene_wtJb4blZfU4ZhzH5yykjrYmsH",
         "drc"
        ]
       },
       {
        "data": "RFJBQ08CAgEBAIAAAgJpZAQAAAAABHR5cGUEbWVzaAAA/gL4BQH3BQAAvgFf27Zt27Ztq9pSVVVVVVVVVVWq1VJVVVVVVVVVpVrVUlVVVVVVVVWqVdVSVVVVVVVVpVpV1VJVVVVVVVWqVVXVUlVVVVVVpVpVVdVSVVVVVVWqVVVV1VJVVVVVpVpVVVXVUlVVVVWqVVVVVdVSVVVVpVpVVVVV1VJVVVWqVVVVVVXVUlVVpVpVVVVVVdVSVVWqVVVVVVVV1VJVpVpVVVVVVVXVUlWqVVVVVVVVVdVSpVpVVVVVVVVV1VKqAAAKAQEQ/wPnhIUC/wABAAEAAQAJAwAAAgECAgMAAQEEAQEADQ8BAS0BZQsdFaUaWQIsAyxeiXJvdjFMtM+NaBl5Cn8NGqozbqTMy7NAIPaF+cl+qzUwlsIl6Poa9gEWKZWHIG4/FYwZh9ZAp2TfBJ8F5GVLweO9ye94yuojRy86cweXYHMqlSY9hlfwH14dNPq/g/l96DOgNQvgmYiVaK0CTHICtAgDSJcao5cMIJPui3AQgKoUwCMYoAsYIGsWoCMYgOMWIAk1a18MYKEDAAOLAEhboFbAmgUwDAKQXBDTnQVwG5F1+hGFeQFgOATgbgOICgE4TgE2bgGyGoCJNMBsFgD0xFOlABunABiXAFmARUc9ABh6BECnQNFlS1GglwAyDQSAiQGAygFQPhD2AJjNAsicBOhLBvjaB8h6PtlwFEDxv/PKAGgIAP0AeGOADbqsC6D8AReXAE2ZAIODADckgJMSoBgEQKji0imA+x0wVAgw+QMgZ8CZ2aoHqOgLWvlS6/YYYHlune4tTlUB4DiARAK4XIDbDcDjAXADRUWArFmAm+EYiHYAIwMByHSfBHQWSTTumPItXLhjqYAoAqoFuAbgFoBaAWIIWCngWAIeZ8CuDmi3AVs44HYDoMAFUHMANDoCHFEMPO/pBkDhEMB2C4h1AY0lwGiBMuRxfjy2r8cx+WiB51F+QM4P2PahPD4ADgEEBKhDAA4mgPAGwN0CYGACcKACcOACeAgDgBQDPE1cSgVwygFweQFQ3wEA758hoGgBwH28hgEwcwGUTrMIZgKg/RfF5x162bJvaTA/HoOEAJlOAJcYAP8JoBsD3DdQpUA83PEA6KwTf7cIWLSDP7XsQRrQkEchEcCfAjg/AMMPIAyBa6jzAFDtAPAHWnBLhwt7aOmAZQOQVkAmLB0AMa6DVD7aAuiDD4DkAAaggoAsAWJIQH6AeABTQHoBSDjwxECXAsVi4I2AGQBiCEhBoGgMRDJQgArQ8kpcA3ALQK0AMQSsFDBaoGiBKgXCEEgroC2A1gBSCwhFoFKBwgUMF7BUQBSBMM5DBAGYDgCzASB+APgNgIYAxxLQWAI+Q8B9A8MPYNkALB2AIQhw48CHCGgwAQ4mAEQE9AMuJBLglQEcHgNpzBsDII8AWRfANxj9YbEu4HgEdGOAZse+GevKAPWFxbyA3cFmEPsXeTw7gMsF2HkAQAoAwAkA+w7A3QJ4dQDlD5j8Abs6YLsF1HeA/wRg/PPqPMCWC9jZAUc3AMj+jRiYAESGAG43wJAIABMDAPMCwHAIwN0GEBUCYFwCXFwCDBUCtNuAwiGAywuASwyAQiKAthswMBOAj1OpDVQADlQAJ00APB6g6QSAygGAugGg2QSAvwOcMgE4TgE2TgGaMgHud0BmE8DpBsApB0CmE8DgDIBJrdaUKcAGLgAHLgCVKQAhIYApFQAuBwDuBoDpFADhIABVKQDHLcDGLcBUKcDgIEDpFMDtBsAtB0B2CaDLlHFsBNCaBQAZBvgoBsiaBWhsBJjNAhj+ACgGAZjVAmh0BMiiBfgwBgAhBtCiBXB0BKDVAjAGASDrBRDrBAAjzQXLVH//VooFi1Nab3NVNnRvOl1ZC2+Ej7rNfYGBl4OBgTlE1r69x6mL3fOMoOlb1uVEXv/vy3LbpvGBkMFcK+0ZMyx3I92+7KmcIXHfvg3H6mrhU2T8fF5S0eIChTZyCapnmoLzjn2/ggT/AkRAAAAAAP8PAAAAAIC/AACAvwAAgL8AAABADAQBAQEEK+E/EJ8QBTj++z+hMwECb0POBAEDjIyAWgECjkYMAQLAQDsAAABnAAAA",
        "encoding": "base64",
        "path": [
         "scene_ZsT5h4goyjmIyGkkm0MPqMSpU",
         "drc"
        ]
       },
       {
        "data": "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",
        "encoding": "base64",
        "path": [
         "scene_OtrsoK6nWKQkJhZyolh88svda",
         "drc"
        ]
       },
       {
        "data": "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",
        "encoding": "base64",
        "path": [
         "scene_yL7YY4klUuP6r9f4HaeuxCQ7S",
         "drc"
        ]
       },
       {
        "data": "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",
        "encoding": "base64",
        "path": [
         "scene_EcxAuHHQrqaB8C1w55EzzMRQh",
         "drc"
        ]
       },
       {
        "data": "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",
        "encoding": "base64",
        "path": [
         "scene_bVQTXrNCruEq12l2itGskWdpl",
         "drc"
        ]
       },
       {
        "data": "RFJBQ08CAgEBAIAAAgJpZAQAAAAABHR5cGUEbWVzaAAA/gL4BQH3BQAAvgFf27Zt27Ztq9pSVVVVVVVVVVWq1VJVVVVVVVVVpVrVUlVVVVVVVVWqVdVSVVVVVVVVpVpV1VJVVVVVVVWqVVXVUlVVVVVVpVpVVdVSVVVVVVWqVVVV1VJVVVVVpVpVVVXVUlVVVVWqVVVVVdVSVVVVpVpVVVVV1VJVVVWqVVVVVVXVUlVVpVpVVVVVVdVSVVWqVVVVVVVV1VJVpVpVVVVVVVXVUlWqVVVVVVVVVdVSpVpVVVVVVVVV1VKqAAAKAQEQ/wPnhIUC/wABAAEAAQAJAwAAAgECAgMAAQEEAQEADQ8BAS0BZQsdFaUaWQIsAyxeiXJvdjFMtM+NaBl5Cn8NGqozbqTMy7NAIPaF+cl+qzUwlsIl6Poa9gEWKZWHIG4/FYwZh9ZAp2TfBJ8F5GVLweO9ye94yuojRy86cweXYHMqlSY9hlfwH14dNPq/g/l96DOgNQvgmYiVaK0CTHICtAgDSJcao5cMIJPui3AQgKoUwCMYoAsYIGsWoCMYgOMWIAk1a18MYKEDAAOLAEhboFbAmgUwDAKQXBDTnQVwG5F1+hGFeQFgOATgbgOICgE4TgE2bgGyGoCJNMBsFgD0xFOlABunABiXAFmARUc9ABh6BECnQNFlS1GglwAyDQSAiQGAygFQPhD2AJjNAsicBOhLBvjaB8h6PtlwFEDxv/PKAGgIAP0AeGOADbqsC6D8AReXAE2ZAIODADckgJMSoBgEQKji0imA+x0wVAgw+QMgZ8CZ2aoHqOgLWvlS6/YYYHlune4tTlUB4DiARAK4XIDbDcDjAXADRUWArFmAm+EYiHYAIwMByHSfBHQWSTTumPItXLhjqYAoAqoFuAbgFoBaAWIIWCngWAIeZ8CuDmi3AVs44HYDoMAFUHMANDoCHFEMPO/pBkDhEMB2C4h1AY0lwGiBMuRxfjy2r8cx+WiB51F+QM4P2PahPD4ADgEEBKhDAA4mgPAGwN0CYGACcKACcOACeAgDgBQDPE1cSgVwygFweQFQ3wEA758hoGgBwH28hgEwcwGUTrMIZgKg/RfF5x162bJvaTA/HoOEAJlOAJcYAP8JoBsD3DdQpUA83PEA6KwTf7cIWLSDP7XsQRrQkEchEcCfAjg/AMMPIAyBa6jzAFDtAPAHWnBLhwt7aOmAZQOQVkAmLB0AMa6DVD7aAuiDD4DkAAaggoAsAWJIQH6AeABTQHoBSDjwxECXAsVi4I2AGQBiCEhBoGgMRDJQgArQ8kpcA3ALQK0AMQSsFDBaoGiBKgXCEEgroC2A1gBSCwhFoFKBwgUMF7BUQBSBMM5DBAGYDgCzASB+APgNgIYAxxLQWAI+Q8B9A8MPYNkALB2AIQhw48CHCGgwAQ4mAEQE9AMuJBLglQEcHgNpzBsDII8AWRfANxj9YbEu4HgEdGOAZse+GevKAPWFxbyA3cFmEPsXeTw7gMsF2HkAQAoAwAkA+w7A3QJ4dQDlD5j8Abs6YLsF1HeA/wRg/PPqPMCWC9jZAUc3AMj+jRiYAESGAG43wJAIABMDAPMCwHAIwN0GEBUCYFwCXFwCDBUCtNuAwiGAywuASwyAQiKAthswMBOAj1OpDVQADlQAJ00APB6g6QSAygGAugGg2QSAvwOcMgE4TgE2TgGaMgHud0BmE8DpBsApB0CmE8DgDIBJrdaUKcAGLgAHLgCVKQAhIYApFQAuBwDuBoDpFADhIABVKQDHLcDGLcBUKcDgIEDpFMDtBsAtB0B2CaDLlHFsBNCaBQAZBvgoBsiaBWhsBJjNAhj+ACgGAZjVAmh0BMiiBfgwBgAhBtCiBXB0BKDVAjAGASDrBRDrBAAjzQXLVH//VooFi1Nab3NVNnRvOl1ZC2+Ej7rNfYGBl4OBgTlE1r69x6mL3fOMoOlb1uVEXv/vy3LbpvGBkMFcK+0ZMyx3I92+7KmcIXHfvg3H6mrhU2T8fF5S0eIChTZyCapnmoLzjn2/ggT/AkRAAAAAAP8PAAAAAFDBAABQwQAAUMEAANBBDAQBAQEEAuU/HAXelP4PiDMBAm9DzgQBA4yMgFoBAo5GDAECwEAHAAAARQAAAA==",
        "encoding": "base64",
        "path": [
         "scene_1LiTX9Jd6kEBQPqRYKgau6D3C",
         "drc"
        ]
       },
       {
        "data": "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",
        "encoding": "base64",
        "path": [
         "scene_KsVGNV0RdWx7dXsjMc6ZJX8zM",
         "drc"
        ]
       },
       {
        "data": "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",
        "encoding": "base64",
        "path": [
         "scene_NkbMDWw9nKAp8s3fv21QPCdzc",
         "drc"
        ]
       },
       {
        "data": "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",
        "encoding": "base64",
        "path": [
         "scene_QGInqHuopt87y4Q8H8sm9QdiY",
         "drc"
        ]
       },
       {
        "data": "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",
        "encoding": "base64",
        "path": [
         "scene_3dVQ1Wj5BKcG1GekkZPkw4F66",
         "drc"
        ]
       },
       {
        "data": "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",
        "encoding": "base64",
        "path": [
         "scene_qwJY9slMPN2ErYhTJWgVZmTSy",
         "drc"
        ]
       },
       {
        "data": "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",
        "encoding": "base64",
        "path": [
         "scene_Ukw78vacs6VXAtlpq7JqnwQrg",
         "drc"
        ]
       },
       {
        "data": "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",
        "encoding": "base64",
        "path": [
         "scene_etcHr4mLCbtu994QBMSn3N8GQ",
         "drc"
        ]
       },
       {
        "data": "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",
        "encoding": "base64",
        "path": [
         "scene_uhA8qbl1bxoLLDZKiBHzaMbG1",
         "drc"
        ]
       },
       {
        "data": "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",
        "encoding": "base64",
        "path": [
         "scene_x45AEXKn8WiIUvhwp7qOVN3T9",
         "drc"
        ]
       },
       {
        "data": "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",
        "encoding": "base64",
        "path": [
         "scene_3DICoik3ZwdCbjxSBcQFG1Sxb",
         "drc"
        ]
       },
       {
        "data": "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",
        "encoding": "base64",
        "path": [
         "scene_dIIUhW94A7urD0UEEkx3hXeHX",
         "drc"
        ]
       },
       {
        "data": "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",
        "encoding": "base64",
        "path": [
         "scene_0YiAEnjAaZunR24QhtxtXNDSX",
         "drc"
        ]
       },
       {
        "data": "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",
        "encoding": "base64",
        "path": [
         "scene_xvF1JTCallodTzrTHWQ4FGOnn",
         "drc"
        ]
       },
       {
        "data": "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",
        "encoding": "base64",
        "path": [
         "scene_V3FkNuHWWCCaVwti1szPRKnIB",
         "drc"
        ]
       },
       {
        "data": "RFJBQ08CAgEBAIAAAgJpZAQAAAAABHR5cGUEbWVzaAAA/gL4BQH3BQAAvgFf27Zt27Ztq9pSVVVVVVVVVVWq1VJVVVVVVVVVpVrVUlVVVVVVVVWqVdVSVVVVVVVVpVpV1VJVVVVVVVWqVVXVUlVVVVVVpVpVVdVSVVVVVVWqVVVV1VJVVVVVpVpVVVXVUlVVVVWqVVVVVdVSVVVVpVpVVVVV1VJVVVWqVVVVVVXVUlVVpVpVVVVVVdVSVVWqVVVVVVVV1VJVpVpVVVVVVVXVUlWqVVVVVVVVVdVSpVpVVVVVVVVV1VKqAAAKAQEQ/wPnhIUC/wABAAEAAQAJAwAAAgECAgMAAQEEAQEADQ8BAS0BZQsdFaUaWQIsAyxeiXJvdjFMtM+NaBl5Cn8NGqozbqTMy7NAIPaF+cl+qzUwlsIl6Poa9gEWKZWHIG4/FYwZh9ZAp2TfBJ8F5GVLweO9ye94yuojRy86cweXYHMqlSY9hlfwH14dNPq/g/l96DOgNQvgmYiVaK0CTHICtAgDSJcao5cMIJPui3AQgKoUwCMYoAsYIGsWoCMYgOMWIAk1a18MYKEDAAOLAEhboFbAmgUwDAKQXBDTnQVwG5F1+hGFeQFgOATgbgOICgE4TgE2bgGyGoCJNMBsFgD0xFOlABunABiXAFmARUc9ABh6BECnQNFlS1GglwAyDQSAiQGAygFQPhD2AJjNAsicBOhLBvjaB8h6PtlwFEDxv/PKAGgIAP0AeGOADbqsC6D8AReXAE2ZAIODADckgJMSoBgEQKji0imA+x0wVAgw+QMgZ8CZ2aoHqOgLWvlS6/YYYHlune4tTlUB4DiARAK4XIDbDcDjAXADRUWArFmAm+EYiHYAIwMByHSfBHQWSTTumPItXLhjqYAoAqoFuAbgFoBaAWIIWCngWAIeZ8CuDmi3AVs44HYDoMAFUHMANDoCHFEMPO/pBkDhEMB2C4h1AY0lwGiBMuRxfjy2r8cx+WiB51F+QM4P2PahPD4ADgEEBKhDAA4mgPAGwN0CYGACcKACcOACeAgDgBQDPE1cSgVwygFweQFQ3wEA758hoGgBwH28hgEwcwGUTrMIZgKg/RfF5x162bJvaTA/HoOEAJlOAJcYAP8JoBsD3DdQpUA83PEA6KwTf7cIWLSDP7XsQRrQkEchEcCfAjg/AMMPIAyBa6jzAFDtAPAHWnBLhwt7aOmAZQOQVkAmLB0AMa6DVD7aAuiDD4DkAAaggoAsAWJIQH6AeABTQHoBSDjwxECXAsVi4I2AGQBiCEhBoGgMRDJQgArQ8kpcA3ALQK0AMQSsFDBaoGiBKgXCEEgroC2A1gBSCwhFoFKBwgUMF7BUQBSBMM5DBAGYDgCzASB+APgNgIYAxxLQWAI+Q8B9A8MPYNkALB2AIQhw48CHCGgwAQ4mAEQE9AMuJBLglQEcHgNpzBsDII8AWRfANxj9YbEu4HgEdGOAZse+GevKAPWFxbyA3cFmEPsXeTw7gMsF2HkAQAoAwAkA+w7A3QJ4dQDlD5j8Abs6YLsF1HeA/wRg/PPqPMCWC9jZAUc3AMj+jRiYAESGAG43wJAIABMDAPMCwHAIwN0GEBUCYFwCXFwCDBUCtNuAwiGAywuASwyAQiKAthswMBOAj1OpDVQADlQAJ00APB6g6QSAygGAugGg2QSAvwOcMgE4TgE2TgGaMgHud0BmE8DpBsApB0CmE8DgDIBJrdaUKcAGLgAHLgCVKQAhIYApFQAuBwDuBoDpFADhIABVKQDHLcDGLcBUKcDgIEDpFMDtBsAtB0B2CaDLlHFsBNCaBQAZBvgoBsiaBWhsBJjNAhj+ACgGAZjVAmh0BMiiBfgwBgAhBtCiBXB0BKDVAjAGASDrBRDrBAAjzQXLVH//VooFi1Nab3NVNnRvOl1ZC2+Ej7rNfYGBl4OBgTlE1r69x6mL3fOMoOlb1uVEXv/vy3LbpvGBkMFcK+0ZMyx3I92+7KmcIXHfvg3H6mrhU2T8fF5S0eIChTZyCapnmoLzjn2/ggT/AkRAAAAAAP8PAAAAAJDBAACQwQAAkMEAABBCDAQBAQEEBeE/EAcQBTAp/F+hMwECb0POBAEDjIyAWgECjkYMAQLAQBUAAAB1AAAA",
        "encoding": "base64",
        "path": [
         "scene_PmXuUwZSV6k4Inqvb4Ox9urbT",
         "drc"
        ]
       },
       {
        "data": "RFJBQ08CAgEBAIAAAgJpZAQAAAAABHR5cGUEbWVzaAAA/gL4BQH3BQAAvgFf27Zt27Ztq9pSVVVVVVVVVVWq1VJVVVVVVVVVpVrVUlVVVVVVVVWqVdVSVVVVVVVVpVpV1VJVVVVVVVWqVVXVUlVVVVVVpVpVVdVSVVVVVVWqVVVV1VJVVVVVpVpVVVXVUlVVVVWqVVVVVdVSVVVVpVpVVVVV1VJVVVWqVVVVVVXVUlVVpVpVVVVVVdVSVVWqVVVVVVVV1VJVpVpVVVVVVVXVUlWqVVVVVVVVVdVSpVpVVVVVVVVV1VKqAAAKAQEQ/wPnhIUC/wABAAEAAQAJAwAAAgECAgMAAQEEAQEADQ8BAS0BZQsdFaUaWQIsAyxeiXJvdjFMtM+NaBl5Cn8NGqozbqTMy7NAIPaF+cl+qzUwlsIl6Poa9gEWKZWHIG4/FYwZh9ZAp2TfBJ8F5GVLweO9ye94yuojRy86cweXYHMqlSY9hlfwH14dNPq/g/l96DOgNQvgmYiVaK0CTHICtAgDSJcao5cMIJPui3AQgKoUwCMYoAsYIGsWoCMYgOMWIAk1a18MYKEDAAOLAEhboFbAmgUwDAKQXBDTnQVwG5F1+hGFeQFgOATgbgOICgE4TgE2bgGyGoCJNMBsFgD0xFOlABunABiXAFmARUc9ABh6BECnQNFlS1GglwAyDQSAiQGAygFQPhD2AJjNAsicBOhLBvjaB8h6PtlwFEDxv/PKAGgIAP0AeGOADbqsC6D8AReXAE2ZAIODADckgJMSoBgEQKji0imA+x0wVAgw+QMgZ8CZ2aoHqOgLWvlS6/YYYHlune4tTlUB4DiARAK4XIDbDcDjAXADRUWArFmAm+EYiHYAIwMByHSfBHQWSTTumPItXLhjqYAoAqoFuAbgFoBaAWIIWCngWAIeZ8CuDmi3AVs44HYDoMAFUHMANDoCHFEMPO/pBkDhEMB2C4h1AY0lwGiBMuRxfjy2r8cx+WiB51F+QM4P2PahPD4ADgEEBKhDAA4mgPAGwN0CYGACcKACcOACeAgDgBQDPE1cSgVwygFweQFQ3wEA758hoGgBwH28hgEwcwGUTrMIZgKg/RfF5x162bJvaTA/HoOEAJlOAJcYAP8JoBsD3DdQpUA83PEA6KwTf7cIWLSDP7XsQRrQkEchEcCfAjg/AMMPIAyBa6jzAFDtAPAHWnBLhwt7aOmAZQOQVkAmLB0AMa6DVD7aAuiDD4DkAAaggoAsAWJIQH6AeABTQHoBSDjwxECXAsVi4I2AGQBiCEhBoGgMRDJQgArQ8kpcA3ALQK0AMQSsFDBaoGiBKgXCEEgroC2A1gBSCwhFoFKBwgUMF7BUQBSBMM5DBAGYDgCzASB+APgNgIYAxxLQWAI+Q8B9A8MPYNkALB2AIQhw48CHCGgwAQ4mAEQE9AMuJBLglQEcHgNpzBsDII8AWRfANxj9YbEu4HgEdGOAZse+GevKAPWFxbyA3cFmEPsXeTw7gMsF2HkAQAoAwAkA+w7A3QJ4dQDlD5j8Abs6YLsF1HeA/wRg/PPqPMCWC9jZAUc3AMj+jRiYAESGAG43wJAIABMDAPMCwHAIwN0GEBUCYFwCXFwCDBUCtNuAwiGAywuASwyAQiKAthswMBOAj1OpDVQADlQAJ00APB6g6QSAygGAugGg2QSAvwOcMgE4TgE2TgGaMgHud0BmE8DpBsApB0CmE8DgDIBJrdaUKcAGLgAHLgCVKQAhIYApFQAuBwDuBoDpFADhIABVKQDHLcDGLcBUKcDgIEDpFMDtBsAtB0B2CaDLlHFsBNCaBQAZBvgoBsiaBWhsBJjNAhj+ACgGAZjVAmh0BMiiBfgwBgAhBtCiBXB0BKDVAjAGASDrBRDrBAAjzQXLVH//VooFi1Nab3NVNnRvOl1ZC2+Ej7rNfYGBl4OBgTlE1r69x6mL3fOMoOlb1uVEXv/vy3LbpvGBkMFcK+0ZMyx3I92+7KmcIXHfvg3H6mrhU2T8fF5S0eIChTZyCapnmoLzjn2/ggT/AkRAAAAAAP8PAAAAAIDAAACAwAAAgMAAAABBDAQBAQEEPeE/EOcQBTD5x1ChMwECb0POBAEDjIyAWgECjkYMAQLAQFIAAADkAAAA",
        "encoding": "base64",
        "path": [
         "scene_trJXAYMwjUPsroZypuCiW7CMc",
         "drc"
        ]
       },
       {
        "data": "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",
        "encoding": "base64",
        "path": [
         "scene_gzcbS3qocWMARmVtjL3DnhTI8",
         "drc"
        ]
       },
       {
        "data": "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",
        "encoding": "base64",
        "path": [
         "scene_sRkj5RgpeajAh61YGudtZ4bR0",
         "drc"
        ]
       },
       {
        "data": "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",
        "encoding": "base64",
        "path": [
         "scene_srghy9Q2v68y5YKC9dEAqObfM",
         "drc"
        ]
       },
       {
        "data": "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",
        "encoding": "base64",
        "path": [
         "scene_5D1SE6yaQjhzrEZ5S1VZUZ3Fk",
         "drc"
        ]
       },
       {
        "data": "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",
        "encoding": "base64",
        "path": [
         "scene_6M4UowdeJQ2R1A4e6mCBjerVc",
         "drc"
        ]
       },
       {
        "data": "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",
        "encoding": "base64",
        "path": [
         "scene_XXcFQLybIjjixOrgF9RYmKNn6",
         "drc"
        ]
       },
       {
        "data": "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",
        "encoding": "base64",
        "path": [
         "scene_IryxLhqYRtknAI74WckEDDkzX",
         "drc"
        ]
       },
       {
        "data": "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",
        "encoding": "base64",
        "path": [
         "scene_BGJQZe0q6N9BFp6wOS7NLnjXf",
         "drc"
        ]
       },
       {
        "data": "RFJBQ08CAgEBAIAAAgJpZAQAAAAABHR5cGUEbWVzaAAA/gL4BQH3BQAAvgFf27Zt27Ztq9pSVVVVVVVVVVWq1VJVVVVVVVVVpVrVUlVVVVVVVVWqVdVSVVVVVVVVpVpV1VJVVVVVVVWqVVXVUlVVVVVVpVpVVdVSVVVVVVWqVVVV1VJVVVVVpVpVVVXVUlVVVVWqVVVVVdVSVVVVpVpVVVVV1VJVVVWqVVVVVVXVUlVVpVpVVVVVVdVSVVWqVVVVVVVV1VJVpVpVVVVVVVXVUlWqVVVVVVVVVdVSpVpVVVVVVVVV1VKqAAAKAQEQ/wPnhIUC/wABAAEAAQAJAwAAAgECAgMAAQEEAQEADQ8BAS0BZQsdFaUaWQIsAyxeiXJvdjFMtM+NaBl5Cn8NGqozbqTMy7NAIPaF+cl+qzUwlsIl6Poa9gEWKZWHIG4/FYwZh9ZAp2TfBJ8F5GVLweO9ye94yuojRy86cweXYHMqlSY9hlfwH14dNPq/g/l96DOgNQvgmYiVaK0CTHICtAgDSJcao5cMIJPui3AQgKoUwCMYoAsYIGsWoCMYgOMWIAk1a18MYKEDAAOLAEhboFbAmgUwDAKQXBDTnQVwG5F1+hGFeQFgOATgbgOICgE4TgE2bgGyGoCJNMBsFgD0xFOlABunABiXAFmARUc9ABh6BECnQNFlS1GglwAyDQSAiQGAygFQPhD2AJjNAsicBOhLBvjaB8h6PtlwFEDxv/PKAGgIAP0AeGOADbqsC6D8AReXAE2ZAIODADckgJMSoBgEQKji0imA+x0wVAgw+QMgZ8CZ2aoHqOgLWvlS6/YYYHlune4tTlUB4DiARAK4XIDbDcDjAXADRUWArFmAm+EYiHYAIwMByHSfBHQWSTTumPItXLhjqYAoAqoFuAbgFoBaAWIIWCngWAIeZ8CuDmi3AVs44HYDoMAFUHMANDoCHFEMPO/pBkDhEMB2C4h1AY0lwGiBMuRxfjy2r8cx+WiB51F+QM4P2PahPD4ADgEEBKhDAA4mgPAGwN0CYGACcKACcOACeAgDgBQDPE1cSgVwygFweQFQ3wEA758hoGgBwH28hgEwcwGUTrMIZgKg/RfF5x162bJvaTA/HoOEAJlOAJcYAP8JoBsD3DdQpUA83PEA6KwTf7cIWLSDP7XsQRrQkEchEcCfAjg/AMMPIAyBa6jzAFDtAPAHWnBLhwt7aOmAZQOQVkAmLB0AMa6DVD7aAuiDD4DkAAaggoAsAWJIQH6AeABTQHoBSDjwxECXAsVi4I2AGQBiCEhBoGgMRDJQgArQ8kpcA3ALQK0AMQSsFDBaoGiBKgXCEEgroC2A1gBSCwhFoFKBwgUMF7BUQBSBMM5DBAGYDgCzASB+APgNgIYAxxLQWAI+Q8B9A8MPYNkALB2AIQhw48CHCGgwAQ4mAEQE9AMuJBLglQEcHgNpzBsDII8AWRfANxj9YbEu4HgEdGOAZse+GevKAPWFxbyA3cFmEPsXeTw7gMsF2HkAQAoAwAkA+w7A3QJ4dQDlD5j8Abs6YLsF1HeA/wRg/PPqPMCWC9jZAUc3AMj+jRiYAESGAG43wJAIABMDAPMCwHAIwN0GEBUCYFwCXFwCDBUCtNuAwiGAywuASwyAQiKAthswMBOAj1OpDVQADlQAJ00APB6g6QSAygGAugGg2QSAvwOcMgE4TgE2TgGaMgHud0BmE8DpBsApB0CmE8DgDIBJrdaUKcAGLgAHLgCVKQAhIYApFQAuBwDuBoDpFADhIABVKQDHLcDGLcBUKcDgIEDpFMDtBsAtB0B2CaDLlHFsBNCaBQAZBvgoBsiaBWhsBJjNAhj+ACgGAZjVAmh0BMiiBfgwBgAhBtCiBXB0BKDVAjAGASDrBRDrBAAjzQXLVH//VooFi1Nab3NVNnRvOl1ZC2+Ej7rNfYGBl4OBgTlE1r69x6mL3fOMoOlb1uVEXv/vy3LbpvGBkMFcK+0ZMyx3I92+7KmcIXHfvg3H6mrhU2T8fF5S0eIChTZyCapnmoLzjn2/ggT/AkRAAAAAAP8PAAAAAIjBAACIwQAAiMEAAAhCDAQBAQEEjgHhPxD//ysQBTAp/F+hMwECb0POBAEDjIyAWgECjkYMAQLAQC8AAADXAAAA",
        "encoding": "base64",
        "path": [
         "scene_NDVFFefoQKMUbcBzvrVfNZTYd",
         "drc"
        ]
       },
       {
        "data": "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",
        "encoding": "base64",
        "path": [
         "scene_EExwjhGOaqJfgW7GDv3pGHNS6",
         "drc"
        ]
       },
       {
        "data": "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",
        "encoding": "base64",
        "path": [
         "scene_ep7rA3md6k9niowLMG4yDyt70",
         "drc"
        ]
       },
       {
        "data": "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",
        "encoding": "base64",
        "path": [
         "scene_etUVHxENklIieqkSdQcialdny",
         "drc"
        ]
       },
       {
        "data": "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",
        "encoding": "base64",
        "path": [
         "scene_PWkWspTxzCNrDzD8JPAnG4AgR",
         "drc"
        ]
       },
       {
        "data": "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",
        "encoding": "base64",
        "path": [
         "scene_UfEe2KQeHICkopetN5pTRxtRS",
         "drc"
        ]
       },
       {
        "data": "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",
        "encoding": "base64",
        "path": [
         "scene_GHy2UWQD7A9zQmBSw5no9daqw",
         "drc"
        ]
       },
       {
        "data": "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",
        "encoding": "base64",
        "path": [
         "scene_j1tlv3yyTcTM56i8QZvr89JY4",
         "drc"
        ]
       },
       {
        "data": "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",
        "encoding": "base64",
        "path": [
         "scene_58Z1rPuvful3CCuycTgJhfNMq",
         "drc"
        ]
       },
       {
        "data": "RFJBQ08CAgEBAIAAAgJpZAQAAAAABHR5cGUEbWVzaAAA/gL4BQH3BQAAvgFf27Zt27Ztq9pSVVVVVVVVVVWq1VJVVVVVVVVVpVrVUlVVVVVVVVWqVdVSVVVVVVVVpVpV1VJVVVVVVVWqVVXVUlVVVVVVpVpVVdVSVVVVVVWqVVVV1VJVVVVVpVpVVVXVUlVVVVWqVVVVVdVSVVVVpVpVVVVV1VJVVVWqVVVVVVXVUlVVpVpVVVVVVdVSVVWqVVVVVVVV1VJVpVpVVVVVVVXVUlWqVVVVVVVVVdVSpVpVVVVVVVVV1VKqAAAKAQEQ/wPnhIUC/wABAAEAAQAJAwAAAgECAgMAAQEEAQEADQ8BAS0BZQsdFaUaWQIsAyxeiXJvdjFMtM+NaBl5Cn8NGqozbqTMy7NAIPaF+cl+qzUwlsIl6Poa9gEWKZWHIG4/FYwZh9ZAp2TfBJ8F5GVLweO9ye94yuojRy86cweXYHMqlSY9hlfwH14dNPq/g/l96DOgNQvgmYiVaK0CTHICtAgDSJcao5cMIJPui3AQgKoUwCMYoAsYIGsWoCMYgOMWIAk1a18MYKEDAAOLAEhboFbAmgUwDAKQXBDTnQVwG5F1+hGFeQFgOATgbgOICgE4TgE2bgGyGoCJNMBsFgD0xFOlABunABiXAFmARUc9ABh6BECnQNFlS1GglwAyDQSAiQGAygFQPhD2AJjNAsicBOhLBvjaB8h6PtlwFEDxv/PKAGgIAP0AeGOADbqsC6D8AReXAE2ZAIODADckgJMSoBgEQKji0imA+x0wVAgw+QMgZ8CZ2aoHqOgLWvlS6/YYYHlune4tTlUB4DiARAK4XIDbDcDjAXADRUWArFmAm+EYiHYAIwMByHSfBHQWSTTumPItXLhjqYAoAqoFuAbgFoBaAWIIWCngWAIeZ8CuDmi3AVs44HYDoMAFUHMANDoCHFEMPO/pBkDhEMB2C4h1AY0lwGiBMuRxfjy2r8cx+WiB51F+QM4P2PahPD4ADgEEBKhDAA4mgPAGwN0CYGACcKACcOACeAgDgBQDPE1cSgVwygFweQFQ3wEA758hoGgBwH28hgEwcwGUTrMIZgKg/RfF5x162bJvaTA/HoOEAJlOAJcYAP8JoBsD3DdQpUA83PEA6KwTf7cIWLSDP7XsQRrQkEchEcCfAjg/AMMPIAyBa6jzAFDtAPAHWnBLhwt7aOmAZQOQVkAmLB0AMa6DVD7aAuiDD4DkAAaggoAsAWJIQH6AeABTQHoBSDjwxECXAsVi4I2AGQBiCEhBoGgMRDJQgArQ8kpcA3ALQK0AMQSsFDBaoGiBKgXCEEgroC2A1gBSCwhFoFKBwgUMF7BUQBSBMM5DBAGYDgCzASB+APgNgIYAxxLQWAI+Q8B9A8MPYNkALB2AIQhw48CHCGgwAQ4mAEQE9AMuJBLglQEcHgNpzBsDII8AWRfANxj9YbEu4HgEdGOAZse+GevKAPWFxbyA3cFmEPsXeTw7gMsF2HkAQAoAwAkA+w7A3QJ4dQDlD5j8Abs6YLsF1HeA/wRg/PPqPMCWC9jZAUc3AMj+jRiYAESGAG43wJAIABMDAPMCwHAIwN0GEBUCYFwCXFwCDBUCtNuAwiGAywuASwyAQiKAthswMBOAj1OpDVQADlQAJ00APB6g6QSAygGAugGg2QSAvwOcMgE4TgE2TgGaMgHud0BmE8DpBsApB0CmE8DgDIBJrdaUKcAGLgAHLgCVKQAhIYApFQAuBwDuBoDpFADhIABVKQDHLcDGLcBUKcDgIEDpFMDtBsAtB0B2CaDLlHFsBNCaBQAZBvgoBsiaBWhsBJjNAhj+ACgGAZjVAmh0BMiiBfgwBgAhBtCiBXB0BKDVAjAGASDrBRDrBAAjzQXLVH//VooFi1Nab3NVNnRvOl1ZC2+Ej7rNfYGBl4OBgTlE1r69x6mL3fOMoOlb1uVEXv/vy3LbpvGBkMFcK+0ZMyx3I92+7KmcIXHfvg3H6mrhU2T8fF5S0eIChTZyCapnmoLzjn2/ggT/AkRAAAAAAP8PAAAAAODAAADgwAAA4MAAAGBBDAQBAQEEOOE/ENMQBTD9w1ChMwECb0POBAEDjIyAWgECjkYMAQLAQIQAAAD0AAAA",
        "encoding": "base64",
        "path": [
         "scene_7KpgfKWd5B5mNU1V4tXTnJtjA",
         "drc"
        ]
       },
       {
        "data": "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",
        "encoding": "base64",
        "path": [
         "scene_2cvppQlCiO5n7bnaSQ6fpdqcH",
         "drc"
        ]
       },
       {
        "data": "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",
        "encoding": "base64",
        "path": [
         "scene_CVBpHH5iGjVYPhIPwUPv2x593",
         "drc"
        ]
       },
       {
        "data": "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",
        "encoding": "base64",
        "path": [
         "scene_ZghE3b0dmnWKEL1q6ex8vjLnG",
         "drc"
        ]
       },
       {
        "data": "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",
        "encoding": "base64",
        "path": [
         "scene_wi5UOdEhSnEAGIHc4FW5zhhEo",
         "drc"
        ]
       },
       {
        "data": "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",
        "encoding": "base64",
        "path": [
         "scene_rAfDSKPQ7LRWIb9sPxfz1FxGO",
         "drc"
        ]
       },
       {
        "data": "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",
        "encoding": "base64",
        "path": [
         "scene_jEhnXtP3t0Y96uMm21mQdWFnT",
         "drc"
        ]
       },
       {
        "data": "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",
        "encoding": "base64",
        "path": [
         "scene_QqbhvcFQzpP0yiUVjCoe1GsnB",
         "drc"
        ]
       },
       {
        "data": "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",
        "encoding": "base64",
        "path": [
         "scene_BIeX4tyN6kC4sCyWGvlDhEvXG",
         "drc"
        ]
       },
       {
        "data": "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",
        "encoding": "base64",
        "path": [
         "scene_5t8BkFCRVKiyopm03TaAZ9vLK",
         "drc"
        ]
       },
       {
        "data": "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",
        "encoding": "base64",
        "path": [
         "scene_30Ya6ktrwtaMN5gj9wnR8a2th",
         "drc"
        ]
       },
       {
        "data": "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",
        "encoding": "base64",
        "path": [
         "scene_7GOfwD68OnYijagnEwxpZXfdL",
         "drc"
        ]
       },
       {
        "data": "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",
        "encoding": "base64",
        "path": [
         "scene_0hgnFJvueCWf4zeFYG8z8chPH",
         "drc"
        ]
       },
       {
        "data": "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",
        "encoding": "base64",
        "path": [
         "scene_ItZqcHsAZTrzF4D7wQ2sE7qis",
         "drc"
        ]
       },
       {
        "data": "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",
        "encoding": "base64",
        "path": [
         "scene_ofXiwOKd2Sh1WXlwqI7eAxEgH",
         "drc"
        ]
       },
       {
        "data": "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",
        "encoding": "base64",
        "path": [
         "scene_6oI3HtQwnl7YTevtP9e6P9iAG",
         "drc"
        ]
       },
       {
        "data": "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",
        "encoding": "base64",
        "path": [
         "scene_NLyGZqs37MM1rg9HdRoAH3FRc",
         "drc"
        ]
       },
       {
        "data": "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",
        "encoding": "base64",
        "path": [
         "scene_iBoyVkXF7WM34N2qcbMqri0Ja",
         "drc"
        ]
       },
       {
        "data": "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",
        "encoding": "base64",
        "path": [
         "scene_WQkJxcmQSgM8gkSNqgNiEXbA0",
         "drc"
        ]
       },
       {
        "data": "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",
        "encoding": "base64",
        "path": [
         "scene_DnINVJncDG1ZTwwEOjxZQFKiZ",
         "drc"
        ]
       },
       {
        "data": "RFJBQ08CAgEBAIAAAgJpZAQAAAAABHR5cGUEbWVzaAAA/gL4BQH3BQAAvgFf27Zt27Ztq9pSVVVVVVVVVVWq1VJVVVVVVVVVpVrVUlVVVVVVVVWqVdVSVVVVVVVVpVpV1VJVVVVVVVWqVVXVUlVVVVVVpVpVVdVSVVVVVVWqVVVV1VJVVVVVpVpVVVXVUlVVVVWqVVVVVdVSVVVVpVpVVVVV1VJVVVWqVVVVVVXVUlVVpVpVVVVVVdVSVVWqVVVVVVVV1VJVpVpVVVVVVVXVUlWqVVVVVVVVVdVSpVpVVVVVVVVV1VKqAAAKAQEQ/wPnhIUC/wABAAEAAQAJAwAAAgECAgMAAQEEAQEADQ8BAS0BZQsdFaUaWQIsAyxeiXJvdjFMtM+NaBl5Cn8NGqozbqTMy7NAIPaF+cl+qzUwlsIl6Poa9gEWKZWHIG4/FYwZh9ZAp2TfBJ8F5GVLweO9ye94yuojRy86cweXYHMqlSY9hlfwH14dNPq/g/l96DOgNQvgmYiVaK0CTHICtAgDSJcao5cMIJPui3AQgKoUwCMYoAsYIGsWoCMYgOMWIAk1a18MYKEDAAOLAEhboFbAmgUwDAKQXBDTnQVwG5F1+hGFeQFgOATgbgOICgE4TgE2bgGyGoCJNMBsFgD0xFOlABunABiXAFmARUc9ABh6BECnQNFlS1GglwAyDQSAiQGAygFQPhD2AJjNAsicBOhLBvjaB8h6PtlwFEDxv/PKAGgIAP0AeGOADbqsC6D8AReXAE2ZAIODADckgJMSoBgEQKji0imA+x0wVAgw+QMgZ8CZ2aoHqOgLWvlS6/YYYHlune4tTlUB4DiARAK4XIDbDcDjAXADRUWArFmAm+EYiHYAIwMByHSfBHQWSTTumPItXLhjqYAoAqoFuAbgFoBaAWIIWCngWAIeZ8CuDmi3AVs44HYDoMAFUHMANDoCHFEMPO/pBkDhEMB2C4h1AY0lwGiBMuRxfjy2r8cx+WiB51F+QM4P2PahPD4ADgEEBKhDAA4mgPAGwN0CYGACcKACcOACeAgDgBQDPE1cSgVwygFweQFQ3wEA758hoGgBwH28hgEwcwGUTrMIZgKg/RfF5x162bJvaTA/HoOEAJlOAJcYAP8JoBsD3DdQpUA83PEA6KwTf7cIWLSDP7XsQRrQkEchEcCfAjg/AMMPIAyBa6jzAFDtAPAHWnBLhwt7aOmAZQOQVkAmLB0AMa6DVD7aAuiDD4DkAAaggoAsAWJIQH6AeABTQHoBSDjwxECXAsVi4I2AGQBiCEhBoGgMRDJQgArQ8kpcA3ALQK0AMQSsFDBaoGiBKgXCEEgroC2A1gBSCwhFoFKBwgUMF7BUQBSBMM5DBAGYDgCzASB+APgNgIYAxxLQWAI+Q8B9A8MPYNkALB2AIQhw48CHCGgwAQ4mAEQE9AMuJBLglQEcHgNpzBsDII8AWRfANxj9YbEu4HgEdGOAZse+GevKAPWFxbyA3cFmEPsXeTw7gMsF2HkAQAoAwAkA+w7A3QJ4dQDlD5j8Abs6YLsF1HeA/wRg/PPqPMCWC9jZAUc3AMj+jRiYAESGAG43wJAIABMDAPMCwHAIwN0GEBUCYFwCXFwCDBUCtNuAwiGAywuASwyAQiKAthswMBOAj1OpDVQADlQAJ00APB6g6QSAygGAugGg2QSAvwOcMgE4TgE2TgGaMgHud0BmE8DpBsApB0CmE8DgDIBJrdaUKcAGLgAHLgCVKQAhIYApFQAuBwDuBoDpFADhIABVKQDHLcDGLcBUKcDgIEDpFMDtBsAtB0B2CaDLlHFsBNCaBQAZBvgoBsiaBWhsBJjNAhj+ACgGAZjVAmh0BMiiBfgwBgAhBtCiBXB0BKDVAjAGASDrBRDrBAAjzQXLVH//VooFi1Nab3NVNnRvOl1ZC2+Ej7rNfYGBl4OBgTlE1r69x6mL3fOMoOlb1uVEXv/vy3LbpvGBkMFcK+0ZMyx3I92+7KmcIXHfvg3H6mrhU2T8fF5S0eIChTZyCapnmoLzjn2/ggT/AkRAAAAAAP8PAAAAABDBAAAQwQAAEMEAAJBBDAQBAQEEE+E/ED8QBTAp/F+hMwECb0POBAEDjIyAWgECjkYMAQLAQBMAAAA/AAAA",
        "encoding": "base64",
        "path": [
         "scene_cN0VSVztQvKFbKXfx6BZuwUD7",
         "drc"
        ]
       },
       {
        "data": "RFJBQ08CAgEBAIAAAgJpZAQAAAAABHR5cGUEbWVzaAAA/gL4BQH3BQAAvgFf27Zt27Ztq9pSVVVVVVVVVVWq1VJVVVVVVVVVpVrVUlVVVVVVVVWqVdVSVVVVVVVVpVpV1VJVVVVVVVWqVVXVUlVVVVVVpVpVVdVSVVVVVVWqVVVV1VJVVVVVpVpVVVXVUlVVVVWqVVVVVdVSVVVVpVpVVVVV1VJVVVWqVVVVVVXVUlVVpVpVVVVVVdVSVVWqVVVVVVVV1VJVpVpVVVVVVVXVUlWqVVVVVVVVVdVSpVpVVVVVVVVV1VKqAAAKAQEQ/wPnhIUC/wABAAEAAQAJAwAAAgECAgMAAQEEAQEADQ8BAS0BZQsdFaUaWQIsAyxeiXJvdjFMtM+NaBl5Cn8NGqozbqTMy7NAIPaF+cl+qzUwlsIl6Poa9gEWKZWHIG4/FYwZh9ZAp2TfBJ8F5GVLweO9ye94yuojRy86cweXYHMqlSY9hlfwH14dNPq/g/l96DOgNQvgmYiVaK0CTHICtAgDSJcao5cMIJPui3AQgKoUwCMYoAsYIGsWoCMYgOMWIAk1a18MYKEDAAOLAEhboFbAmgUwDAKQXBDTnQVwG5F1+hGFeQFgOATgbgOICgE4TgE2bgGyGoCJNMBsFgD0xFOlABunABiXAFmARUc9ABh6BECnQNFlS1GglwAyDQSAiQGAygFQPhD2AJjNAsicBOhLBvjaB8h6PtlwFEDxv/PKAGgIAP0AeGOADbqsC6D8AReXAE2ZAIODADckgJMSoBgEQKji0imA+x0wVAgw+QMgZ8CZ2aoHqOgLWvlS6/YYYHlune4tTlUB4DiARAK4XIDbDcDjAXADRUWArFmAm+EYiHYAIwMByHSfBHQWSTTumPItXLhjqYAoAqoFuAbgFoBaAWIIWCngWAIeZ8CuDmi3AVs44HYDoMAFUHMANDoCHFEMPO/pBkDhEMB2C4h1AY0lwGiBMuRxfjy2r8cx+WiB51F+QM4P2PahPD4ADgEEBKhDAA4mgPAGwN0CYGACcKACcOACeAgDgBQDPE1cSgVwygFweQFQ3wEA758hoGgBwH28hgEwcwGUTrMIZgKg/RfF5x162bJvaTA/HoOEAJlOAJcYAP8JoBsD3DdQpUA83PEA6KwTf7cIWLSDP7XsQRrQkEchEcCfAjg/AMMPIAyBa6jzAFDtAPAHWnBLhwt7aOmAZQOQVkAmLB0AMa6DVD7aAuiDD4DkAAaggoAsAWJIQH6AeABTQHoBSDjwxECXAsVi4I2AGQBiCEhBoGgMRDJQgArQ8kpcA3ALQK0AMQSsFDBaoGiBKgXCEEgroC2A1gBSCwhFoFKBwgUMF7BUQBSBMM5DBAGYDgCzASB+APgNgIYAxxLQWAI+Q8B9A8MPYNkALB2AIQhw48CHCGgwAQ4mAEQE9AMuJBLglQEcHgNpzBsDII8AWRfANxj9YbEu4HgEdGOAZse+GevKAPWFxbyA3cFmEPsXeTw7gMsF2HkAQAoAwAkA+w7A3QJ4dQDlD5j8Abs6YLsF1HeA/wRg/PPqPMCWC9jZAUc3AMj+jRiYAESGAG43wJAIABMDAPMCwHAIwN0GEBUCYFwCXFwCDBUCtNuAwiGAywuASwyAQiKAthswMBOAj1OpDVQADlQAJ00APB6g6QSAygGAugGg2QSAvwOcMgE4TgE2TgGaMgHud0BmE8DpBsApB0CmE8DgDIBJrdaUKcAGLgAHLgCVKQAhIYApFQAuBwDuBoDpFADhIABVKQDHLcDGLcBUKcDgIEDpFMDtBsAtB0B2CaDLlHFsBNCaBQAZBvgoBsiaBWhsBJjNAhj+ACgGAZjVAmh0BMiiBfgwBgAhBtCiBXB0BKDVAjAGASDrBRDrBAAjzQXLVH//VooFi1Nab3NVNnRvOl1ZC2+Ej7rNfYGBl4OBgTlE1r69x6mL3fOMoOlb1uVEXv/vy3LbpvGBkMFcK+0ZMyx3I92+7KmcIXHfvg3H6mrhU2T8fF5S0eIChTZyCapnmoLzjn2/ggT/AkRAAAAAAP8PAAAAAJjBAACYwQAAmMEAABhCDAQBAQEEV+E/EP9PEAUw+cdQoTMBAm9DzgQBA4yMgFoBAo5GDAECwEAcAAAAlwAAAA==",
        "encoding": "base64",
        "path": [
         "scene_xxKvqd8TWih7uDbhspwnP0it1",
         "drc"
        ]
       },
       {
        "data": "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",
        "encoding": "base64",
        "path": [
         "scene_n3xvJshN3N6dC0C1LBpLOKpv0",
         "drc"
        ]
       },
       {
        "data": "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",
        "encoding": "base64",
        "path": [
         "scene_06DxtkGPKQhGoiEHtFnH62oKM",
         "drc"
        ]
       },
       {
        "data": "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",
        "encoding": "base64",
        "path": [
         "scene_TAQx8GqTjXkAlGbfIqUbJkdBp",
         "drc"
        ]
       },
       {
        "data": "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",
        "encoding": "base64",
        "path": [
         "scene_lSBskHWrsZlnwJnu5C3Dsylyf",
         "drc"
        ]
       },
       {
        "data": "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",
        "encoding": "base64",
        "path": [
         "scene_W2IMFmwZHlzQv9kEKReZgIiqQ",
         "drc"
        ]
       },
       {
        "data": "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",
        "encoding": "base64",
        "path": [
         "scene_nWEUKaYWYJCbiFADmmg3F3EYR",
         "drc"
        ]
       },
       {
        "data": "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",
        "encoding": "base64",
        "path": [
         "scene_Vo6e9XPrSdlZWuj2lDdwbHkv7",
         "drc"
        ]
       },
       {
        "data": "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",
        "encoding": "base64",
        "path": [
         "scene_d9YbIly7GcT9ioi6rhAI5DQB9",
         "drc"
        ]
       },
       {
        "data": "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",
        "encoding": "base64",
        "path": [
         "scene_PyCGsXo20bP1nIpUR22sRevc7",
         "drc"
        ]
       },
       {
        "data": "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",
        "encoding": "base64",
        "path": [
         "scene_htWppHCSlTF4O1SNklbylT2zy",
         "drc"
        ]
       },
       {
        "data": "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",
        "encoding": "base64",
        "path": [
         "scene_h3ARaizhNbHNSbOHPhCtQwgga",
         "drc"
        ]
       },
       {
        "data": "RFJBQ08CAgEBAIAAAgJpZAQAAAAABHR5cGUEbWVzaAAA/gL4BQH3BQAAvgFf27Zt27Ztq9pSVVVVVVVVVVWq1VJVVVVVVVVVpVrVUlVVVVVVVVWqVdVSVVVVVVVVpVpV1VJVVVVVVVWqVVXVUlVVVVVVpVpVVdVSVVVVVVWqVVVV1VJVVVVVpVpVVVXVUlVVVVWqVVVVVdVSVVVVpVpVVVVV1VJVVVWqVVVVVVXVUlVVpVpVVVVVVdVSVVWqVVVVVVVV1VJVpVpVVVVVVVXVUlWqVVVVVVVVVdVSpVpVVVVVVVVV1VKqAAAKAQEQ/wPnhIUC/wABAAEAAQAJAwAAAgECAgMAAQEEAQEADQ8BAS0BZQsdFaUaWQIsAyxeiXJvdjFMtM+NaBl5Cn8NGqozbqTMy7NAIPaF+cl+qzUwlsIl6Poa9gEWKZWHIG4/FYwZh9ZAp2TfBJ8F5GVLweO9ye94yuojRy86cweXYHMqlSY9hlfwH14dNPq/g/l96DOgNQvgmYiVaK0CTHICtAgDSJcao5cMIJPui3AQgKoUwCMYoAsYIGsWoCMYgOMWIAk1a18MYKEDAAOLAEhboFbAmgUwDAKQXBDTnQVwG5F1+hGFeQFgOATgbgOICgE4TgE2bgGyGoCJNMBsFgD0xFOlABunABiXAFmARUc9ABh6BECnQNFlS1GglwAyDQSAiQGAygFQPhD2AJjNAsicBOhLBvjaB8h6PtlwFEDxv/PKAGgIAP0AeGOADbqsC6D8AReXAE2ZAIODADckgJMSoBgEQKji0imA+x0wVAgw+QMgZ8CZ2aoHqOgLWvlS6/YYYHlune4tTlUB4DiARAK4XIDbDcDjAXADRUWArFmAm+EYiHYAIwMByHSfBHQWSTTumPItXLhjqYAoAqoFuAbgFoBaAWIIWCngWAIeZ8CuDmi3AVs44HYDoMAFUHMANDoCHFEMPO/pBkDhEMB2C4h1AY0lwGiBMuRxfjy2r8cx+WiB51F+QM4P2PahPD4ADgEEBKhDAA4mgPAGwN0CYGACcKACcOACeAgDgBQDPE1cSgVwygFweQFQ3wEA758hoGgBwH28hgEwcwGUTrMIZgKg/RfF5x162bJvaTA/HoOEAJlOAJcYAP8JoBsD3DdQpUA83PEA6KwTf7cIWLSDP7XsQRrQkEchEcCfAjg/AMMPIAyBa6jzAFDtAPAHWnBLhwt7aOmAZQOQVkAmLB0AMa6DVD7aAuiDD4DkAAaggoAsAWJIQH6AeABTQHoBSDjwxECXAsVi4I2AGQBiCEhBoGgMRDJQgArQ8kpcA3ALQK0AMQSsFDBaoGiBKgXCEEgroC2A1gBSCwhFoFKBwgUMF7BUQBSBMM5DBAGYDgCzASB+APgNgIYAxxLQWAI+Q8B9A8MPYNkALB2AIQhw48CHCGgwAQ4mAEQE9AMuJBLglQEcHgNpzBsDII8AWRfANxj9YbEu4HgEdGOAZse+GevKAPWFxbyA3cFmEPsXeTw7gMsF2HkAQAoAwAkA+w7A3QJ4dQDlD5j8Abs6YLsF1HeA/wRg/PPqPMCWC9jZAUc3AMj+jRiYAESGAG43wJAIABMDAPMCwHAIwN0GEBUCYFwCXFwCDBUCtNuAwiGAywuASwyAQiKAthswMBOAj1OpDVQADlQAJ00APB6g6QSAygGAugGg2QSAvwOcMgE4TgE2TgGaMgHud0BmE8DpBsApB0CmE8DgDIBJrdaUKcAGLgAHLgCVKQAhIYApFQAuBwDuBoDpFADhIABVKQDHLcDGLcBUKcDgIEDpFMDtBsAtB0B2CaDLlHFsBNCaBQAZBvgoBsiaBWhsBJjNAhj+ACgGAZjVAmh0BMiiBfgwBgAhBtCiBXB0BKDVAjAGASDrBRDrBAAjzQXLVH//VooFi1Nab3NVNnRvOl1ZC2+Ej7rNfYGBl4OBgTlE1r69x6mL3fOMoOlb1uVEXv/vy3LbpvGBkMFcK+0ZMyx3I92+7KmcIXHfvg3H6mrhU2T8fF5S0eIChTZyCapnmoLzjn2/ggT/AkRAAAAAAP8PAAAAAIjBAACIwQAAiMEAAAhCDAQBAQEENeE/EMcQBTAp/F+hMwECb0POBAEDjIyAWgECjkYMAQLAQFEAAADBAAAA",
        "encoding": "base64",
        "path": [
         "scene_ZNmKZNqZwSUMX1B2MJoZrNFsE",
         "drc"
        ]
       },
       {
        "data": "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",
        "encoding": "base64",
        "path": [
         "scene_3I4SijDm2IWaWlHDHBBys70PU",
         "drc"
        ]
       },
       {
        "data": "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",
        "encoding": "base64",
        "path": [
         "scene_h5JNLNt7Ue47JGLczS4KllPrG",
         "drc"
        ]
       },
       {
        "data": "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",
        "encoding": "base64",
        "path": [
         "scene_Q8hLVQ53iKYIfaeEoHZ9oGdJA",
         "drc"
        ]
       },
       {
        "data": "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",
        "encoding": "base64",
        "path": [
         "scene_pWpwPr05pHey4L1vJWCWYmovA",
         "drc"
        ]
       },
       {
        "data": "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",
        "encoding": "base64",
        "path": [
         "scene_1O6SqyaMi9X3HNyb8CDCvFbuS",
         "drc"
        ]
       },
       {
        "data": "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",
        "encoding": "base64",
        "path": [
         "scene_SuQarjzdExFwrhvhFjPYi3WLb",
         "drc"
        ]
       },
       {
        "data": "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",
        "encoding": "base64",
        "path": [
         "scene_dD7cx9Cn9xxBbyKeSXa2t1Omo",
         "drc"
        ]
       },
       {
        "data": "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",
        "encoding": "base64",
        "path": [
         "scene_lL1g1atUtbf7bs626hDEBiyfH",
         "drc"
        ]
       },
       {
        "data": "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",
        "encoding": "base64",
        "path": [
         "scene_5g85a8SPcoYymLwutq5ySfaQi",
         "drc"
        ]
       },
       {
        "data": "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",
        "encoding": "base64",
        "path": [
         "scene_YTo7EfvaQJ7ICPdr137loY09v",
         "drc"
        ]
       },
       {
        "data": "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",
        "encoding": "base64",
        "path": [
         "scene_D0tKI7SbVvK9VgllyZPOJ49yw",
         "drc"
        ]
       },
       {
        "data": "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",
        "encoding": "base64",
        "path": [
         "scene_byrWYBt4WTh7RCYQO5fg9eRDL",
         "drc"
        ]
       },
       {
        "data": "RFJBQ08CAgEBAIAAAgJpZAQAAAAABHR5cGUEbWVzaAAA/gL4BQH3BQAAvgFf27Zt27Ztq9pSVVVVVVVVVVWq1VJVVVVVVVVVpVrVUlVVVVVVVVWqVdVSVVVVVVVVpVpV1VJVVVVVVVWqVVXVUlVVVVVVpVpVVdVSVVVVVVWqVVVV1VJVVVVVpVpVVVXVUlVVVVWqVVVVVdVSVVVVpVpVVVVV1VJVVVWqVVVVVVXVUlVVpVpVVVVVVdVSVVWqVVVVVVVV1VJVpVpVVVVVVVXVUlWqVVVVVVVVVdVSpVpVVVVVVVVV1VKqAAAKAQEQ/wPnhIUC/wABAAEAAQAJAwAAAgECAgMAAQEEAQEADQ8BAS0BZQsdFaUaWQIsAyxeiXJvdjFMtM+NaBl5Cn8NGqozbqTMy7NAIPaF+cl+qzUwlsIl6Poa9gEWKZWHIG4/FYwZh9ZAp2TfBJ8F5GVLweO9ye94yuojRy86cweXYHMqlSY9hlfwH14dNPq/g/l96DOgNQvgmYiVaK0CTHICtAgDSJcao5cMIJPui3AQgKoUwCMYoAsYIGsWoCMYgOMWIAk1a18MYKEDAAOLAEhboFbAmgUwDAKQXBDTnQVwG5F1+hGFeQFgOATgbgOICgE4TgE2bgGyGoCJNMBsFgD0xFOlABunABiXAFmARUc9ABh6BECnQNFlS1GglwAyDQSAiQGAygFQPhD2AJjNAsicBOhLBvjaB8h6PtlwFEDxv/PKAGgIAP0AeGOADbqsC6D8AReXAE2ZAIODADckgJMSoBgEQKji0imA+x0wVAgw+QMgZ8CZ2aoHqOgLWvlS6/YYYHlune4tTlUB4DiARAK4XIDbDcDjAXADRUWArFmAm+EYiHYAIwMByHSfBHQWSTTumPItXLhjqYAoAqoFuAbgFoBaAWIIWCngWAIeZ8CuDmi3AVs44HYDoMAFUHMANDoCHFEMPO/pBkDhEMB2C4h1AY0lwGiBMuRxfjy2r8cx+WiB51F+QM4P2PahPD4ADgEEBKhDAA4mgPAGwN0CYGACcKACcOACeAgDgBQDPE1cSgVwygFweQFQ3wEA758hoGgBwH28hgEwcwGUTrMIZgKg/RfF5x162bJvaTA/HoOEAJlOAJcYAP8JoBsD3DdQpUA83PEA6KwTf7cIWLSDP7XsQRrQkEchEcCfAjg/AMMPIAyBa6jzAFDtAPAHWnBLhwt7aOmAZQOQVkAmLB0AMa6DVD7aAuiDD4DkAAaggoAsAWJIQH6AeABTQHoBSDjwxECXAsVi4I2AGQBiCEhBoGgMRDJQgArQ8kpcA3ALQK0AMQSsFDBaoGiBKgXCEEgroC2A1gBSCwhFoFKBwgUMF7BUQBSBMM5DBAGYDgCzASB+APgNgIYAxxLQWAI+Q8B9A8MPYNkALB2AIQhw48CHCGgwAQ4mAEQE9AMuJBLglQEcHgNpzBsDII8AWRfANxj9YbEu4HgEdGOAZse+GevKAPWFxbyA3cFmEPsXeTw7gMsF2HkAQAoAwAkA+w7A3QJ4dQDlD5j8Abs6YLsF1HeA/wRg/PPqPMCWC9jZAUc3AMj+jRiYAESGAG43wJAIABMDAPMCwHAIwN0GEBUCYFwCXFwCDBUCtNuAwiGAywuASwyAQiKAthswMBOAj1OpDVQADlQAJ00APB6g6QSAygGAugGg2QSAvwOcMgE4TgE2TgGaMgHud0BmE8DpBsApB0CmE8DgDIBJrdaUKcAGLgAHLgCVKQAhIYApFQAuBwDuBoDpFADhIABVKQDHLcDGLcBUKcDgIEDpFMDtBsAtB0B2CaDLlHFsBNCaBQAZBvgoBsiaBWhsBJjNAhj+ACgGAZjVAmh0BMiiBfgwBgAhBtCiBXB0BKDVAjAGASDrBRDrBAAjzQXLVH//VooFi1Nab3NVNnRvOl1ZC2+Ej7rNfYGBl4OBgTlE1r69x6mL3fOMoOlb1uVEXv/vy3LbpvGBkMFcK+0ZMyx3I92+7KmcIXHfvg3H6mrhU2T8fF5S0eIChTZyCapnmoLzjn2/ggT/AkRAAAAAAP8PAAAAAIDAAACAwAAAgMAAAABBDAQBAQEEcOE/EP+zEAU4/vs/oTMBAm9DzgQBA4yMgFoBAo5GDAECwEBgAAAA2gAAAA==",
        "encoding": "base64",
        "path": [
         "scene_KU6NzbL9CU3hsdo7ZzbZkjPYm",
         "drc"
        ]
       },
       {
        "data": "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",
        "encoding": "base64",
        "path": [
         "scene_XQsYuRCbJkNYjOatglxL2buZo",
         "drc"
        ]
       },
       {
        "data": "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",
        "encoding": "base64",
        "path": [
         "scene_J80hi7iizAF0uKQD55E6tnfGS",
         "drc"
        ]
       },
       {
        "data": "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",
        "encoding": "base64",
        "path": [
         "scene_2fY83KXsx1WJfJ09r2FPSymNn",
         "drc"
        ]
       },
       {
        "data": "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",
        "encoding": "base64",
        "path": [
         "scene_vUmnZKnG0n1qHreA2Xnv0gJiI",
         "drc"
        ]
       },
       {
        "data": "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",
        "encoding": "base64",
        "path": [
         "scene_BCa58Yth28MUEaqX7fV5Am9p9",
         "drc"
        ]
       },
       {
        "data": "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",
        "encoding": "base64",
        "path": [
         "scene_nXQWm9EzdO2afME1Y1PnYOxLZ",
         "drc"
        ]
       },
       {
        "data": "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",
        "encoding": "base64",
        "path": [
         "scene_BwSW0KP1bKJ1kJIltnHDL1B1V",
         "drc"
        ]
       },
       {
        "data": "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",
        "encoding": "base64",
        "path": [
         "scene_4o0sYT32SSKpBkEFX6T5Uj5aB",
         "drc"
        ]
       },
       {
        "data": "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",
        "encoding": "base64",
        "path": [
         "scene_QCXpgdRhm0ajPdAIMw0vc2gVz",
         "drc"
        ]
       },
       {
        "data": "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",
        "encoding": "base64",
        "path": [
         "scene_6WnEe5GtWFHfqslZtIEpGvGAS",
         "drc"
        ]
       },
       {
        "data": "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",
        "encoding": "base64",
        "path": [
         "scene_fhAOsEYYnDffX7JHPYxr1HNY4",
         "drc"
        ]
       },
       {
        "data": "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",
        "encoding": "base64",
        "path": [
         "scene_12ye07zInertveehVZwyEyNEq",
         "drc"
        ]
       },
       {
        "data": "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",
        "encoding": "base64",
        "path": [
         "scene_jJE4YNp1i7FcGuTZbYytFCngt",
         "drc"
        ]
       },
       {
        "data": "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",
        "encoding": "base64",
        "path": [
         "scene_9UnBApxw3ETMy1G5tj3lzQmy9",
         "drc"
        ]
       },
       {
        "data": "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",
        "encoding": "base64",
        "path": [
         "scene_5koBRXBBm5NbZNSj4SeesaDF2",
         "drc"
        ]
       },
       {
        "data": "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",
        "encoding": "base64",
        "path": [
         "scene_RnyLYmnOiaqOCxeVJrEtsyDgk",
         "drc"
        ]
       },
       {
        "data": "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",
        "encoding": "base64",
        "path": [
         "scene_NKInLKTTxkxMaX0XVpXx1Q3nM",
         "drc"
        ]
       },
       {
        "data": "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",
        "encoding": "base64",
        "path": [
         "scene_MUWoqelA2Cxvkfe0rqLf0TVw1",
         "drc"
        ]
       },
       {
        "data": "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",
        "encoding": "base64",
        "path": [
         "scene_t2nl9cXP0ffWYc0eyS7uPCCkF",
         "drc"
        ]
       },
       {
        "data": "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",
        "encoding": "base64",
        "path": [
         "scene_dD6nmBjuujVb00OEDGAZyM6Of",
         "drc"
        ]
       },
       {
        "data": "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",
        "encoding": "base64",
        "path": [
         "scene_B3PWpo5gHebjWNWscUb9jlsEy",
         "drc"
        ]
       },
       {
        "data": "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",
        "encoding": "base64",
        "path": [
         "scene_OAyfzzhFCKILRFl1nq0UXZWfQ",
         "drc"
        ]
       },
       {
        "data": "RFJBQ08CAgEBAIAAAgJpZAQAAAAABHR5cGUEbWVzaAAA/gL4BQH3BQAAvgFf27Zt27Ztq9pSVVVVVVVVVVWq1VJVVVVVVVVVpVrVUlVVVVVVVVWqVdVSVVVVVVVVpVpV1VJVVVVVVVWqVVXVUlVVVVVVpVpVVdVSVVVVVVWqVVVV1VJVVVVVpVpVVVXVUlVVVVWqVVVVVdVSVVVVpVpVVVVV1VJVVVWqVVVVVVXVUlVVpVpVVVVVVdVSVVWqVVVVVVVV1VJVpVpVVVVVVVXVUlWqVVVVVVVVVdVSpVpVVVVVVVVV1VKqAAAKAQEQ/wPnhIUC/wABAAEAAQAJAwAAAgECAgMAAQEEAQEADQ8BAS0BZQsdFaUaWQIsAyxeiXJvdjFMtM+NaBl5Cn8NGqozbqTMy7NAIPaF+cl+qzUwlsIl6Poa9gEWKZWHIG4/FYwZh9ZAp2TfBJ8F5GVLweO9ye94yuojRy86cweXYHMqlSY9hlfwH14dNPq/g/l96DOgNQvgmYiVaK0CTHICtAgDSJcao5cMIJPui3AQgKoUwCMYoAsYIGsWoCMYgOMWIAk1a18MYKEDAAOLAEhboFbAmgUwDAKQXBDTnQVwG5F1+hGFeQFgOATgbgOICgE4TgE2bgGyGoCJNMBsFgD0xFOlABunABiXAFmARUc9ABh6BECnQNFlS1GglwAyDQSAiQGAygFQPhD2AJjNAsicBOhLBvjaB8h6PtlwFEDxv/PKAGgIAP0AeGOADbqsC6D8AReXAE2ZAIODADckgJMSoBgEQKji0imA+x0wVAgw+QMgZ8CZ2aoHqOgLWvlS6/YYYHlune4tTlUB4DiARAK4XIDbDcDjAXADRUWArFmAm+EYiHYAIwMByHSfBHQWSTTumPItXLhjqYAoAqoFuAbgFoBaAWIIWCngWAIeZ8CuDmi3AVs44HYDoMAFUHMANDoCHFEMPO/pBkDhEMB2C4h1AY0lwGiBMuRxfjy2r8cx+WiB51F+QM4P2PahPD4ADgEEBKhDAA4mgPAGwN0CYGACcKACcOACeAgDgBQDPE1cSgVwygFweQFQ3wEA758hoGgBwH28hgEwcwGUTrMIZgKg/RfF5x162bJvaTA/HoOEAJlOAJcYAP8JoBsD3DdQpUA83PEA6KwTf7cIWLSDP7XsQRrQkEchEcCfAjg/AMMPIAyBa6jzAFDtAPAHWnBLhwt7aOmAZQOQVkAmLB0AMa6DVD7aAuiDD4DkAAaggoAsAWJIQH6AeABTQHoBSDjwxECXAsVi4I2AGQBiCEhBoGgMRDJQgArQ8kpcA3ALQK0AMQSsFDBaoGiBKgXCEEgroC2A1gBSCwhFoFKBwgUMF7BUQBSBMM5DBAGYDgCzASB+APgNgIYAxxLQWAI+Q8B9A8MPYNkALB2AIQhw48CHCGgwAQ4mAEQE9AMuJBLglQEcHgNpzBsDII8AWRfANxj9YbEu4HgEdGOAZse+GevKAPWFxbyA3cFmEPsXeTw7gMsF2HkAQAoAwAkA+w7A3QJ4dQDlD5j8Abs6YLsF1HeA/wRg/PPqPMCWC9jZAUc3AMj+jRiYAESGAG43wJAIABMDAPMCwHAIwN0GEBUCYFwCXFwCDBUCtNuAwiGAywuASwyAQiKAthswMBOAj1OpDVQADlQAJ00APB6g6QSAygGAugGg2QSAvwOcMgE4TgE2TgGaMgHud0BmE8DpBsApB0CmE8DgDIBJrdaUKcAGLgAHLgCVKQAhIYApFQAuBwDuBoDpFADhIABVKQDHLcDGLcBUKcDgIEDpFMDtBsAtB0B2CaDLlHFsBNCaBQAZBvgoBsiaBWhsBJjNAhj+ACgGAZjVAmh0BMiiBfgwBgAhBtCiBXB0BKDVAjAGASDrBRDrBAAjzQXLVH//VooFi1Nab3NVNnRvOl1ZC2+Ej7rNfYGBl4OBgTlE1r69x6mL3fOMoOlb1uVEXv/vy3LbpvGBkMFcK+0ZMyx3I92+7KmcIXHfvg3H6mrhU2T8fF5S0eIChTZyCapnmoLzjn2/ggT/AkRAAAAAAP8PAAAAAJDBAACQwQAAkMEAABBCDAQBAQEET+E/EP8vEAUw/cNQoTMBAm9DzgQBA4yMgFoBAo5GDAECwEBRAAAAwgAAAA==",
        "encoding": "base64",
        "path": [
         "scene_YHLU9wmlWvxmgMJwaZWYyg5En",
         "drc"
        ]
       },
       {
        "data": "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",
        "encoding": "base64",
        "path": [
         "scene_rPhVmNSconOolfDBIOjel10y3",
         "drc"
        ]
       },
       {
        "data": "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",
        "encoding": "base64",
        "path": [
         "scene_ktdQwxzupRy0k5XArtRPm0G42",
         "drc"
        ]
       },
       {
        "data": "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",
        "encoding": "base64",
        "path": [
         "scene_hnBL0a7Ft0Z0FP2FGs7rETpQ7",
         "drc"
        ]
       },
       {
        "data": "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",
        "encoding": "base64",
        "path": [
         "scene_7uPrZaeuVtiWyBjl4hdAwcnE0",
         "drc"
        ]
       },
       {
        "data": "RFJBQ08CAgEBAIAAAgJpZAQAAAAABHR5cGUEbWVzaAAA/gL4BQH3BQAAvgFf27Zt27Ztq9pSVVVVVVVVVVWq1VJVVVVVVVVVpVrVUlVVVVVVVVWqVdVSVVVVVVVVpVpV1VJVVVVVVVWqVVXVUlVVVVVVpVpVVdVSVVVVVVWqVVVV1VJVVVVVpVpVVVXVUlVVVVWqVVVVVdVSVVVVpVpVVVVV1VJVVVWqVVVVVVXVUlVVpVpVVVVVVdVSVVWqVVVVVVVV1VJVpVpVVVVVVVXVUlWqVVVVVVVVVdVSpVpVVVVVVVVV1VKqAAAKAQEQ/wPnhIUC/wABAAEAAQAJAwAAAgECAgMAAQEEAQEADQ8BAS0BZQsdFaUaWQIsAyxeiXJvdjFMtM+NaBl5Cn8NGqozbqTMy7NAIPaF+cl+qzUwlsIl6Poa9gEWKZWHIG4/FYwZh9ZAp2TfBJ8F5GVLweO9ye94yuojRy86cweXYHMqlSY9hlfwH14dNPq/g/l96DOgNQvgmYiVaK0CTHICtAgDSJcao5cMIJPui3AQgKoUwCMYoAsYIGsWoCMYgOMWIAk1a18MYKEDAAOLAEhboFbAmgUwDAKQXBDTnQVwG5F1+hGFeQFgOATgbgOICgE4TgE2bgGyGoCJNMBsFgD0xFOlABunABiXAFmARUc9ABh6BECnQNFlS1GglwAyDQSAiQGAygFQPhD2AJjNAsicBOhLBvjaB8h6PtlwFEDxv/PKAGgIAP0AeGOADbqsC6D8AReXAE2ZAIODADckgJMSoBgEQKji0imA+x0wVAgw+QMgZ8CZ2aoHqOgLWvlS6/YYYHlune4tTlUB4DiARAK4XIDbDcDjAXADRUWArFmAm+EYiHYAIwMByHSfBHQWSTTumPItXLhjqYAoAqoFuAbgFoBaAWIIWCngWAIeZ8CuDmi3AVs44HYDoMAFUHMANDoCHFEMPO/pBkDhEMB2C4h1AY0lwGiBMuRxfjy2r8cx+WiB51F+QM4P2PahPD4ADgEEBKhDAA4mgPAGwN0CYGACcKACcOACeAgDgBQDPE1cSgVwygFweQFQ3wEA758hoGgBwH28hgEwcwGUTrMIZgKg/RfF5x162bJvaTA/HoOEAJlOAJcYAP8JoBsD3DdQpUA83PEA6KwTf7cIWLSDP7XsQRrQkEchEcCfAjg/AMMPIAyBa6jzAFDtAPAHWnBLhwt7aOmAZQOQVkAmLB0AMa6DVD7aAuiDD4DkAAaggoAsAWJIQH6AeABTQHoBSDjwxECXAsVi4I2AGQBiCEhBoGgMRDJQgArQ8kpcA3ALQK0AMQSsFDBaoGiBKgXCEEgroC2A1gBSCwhFoFKBwgUMF7BUQBSBMM5DBAGYDgCzASB+APgNgIYAxxLQWAI+Q8B9A8MPYNkALB2AIQhw48CHCGgwAQ4mAEQE9AMuJBLglQEcHgNpzBsDII8AWRfANxj9YbEu4HgEdGOAZse+GevKAPWFxbyA3cFmEPsXeTw7gMsF2HkAQAoAwAkA+w7A3QJ4dQDlD5j8Abs6YLsF1HeA/wRg/PPqPMCWC9jZAUc3AMj+jRiYAESGAG43wJAIABMDAPMCwHAIwN0GEBUCYFwCXFwCDBUCtNuAwiGAywuASwyAQiKAthswMBOAj1OpDVQADlQAJ00APB6g6QSAygGAugGg2QSAvwOcMgE4TgE2TgGaMgHud0BmE8DpBsApB0CmE8DgDIBJrdaUKcAGLgAHLgCVKQAhIYApFQAuBwDuBoDpFADhIABVKQDHLcDGLcBUKcDgIEDpFMDtBsAtB0B2CaDLlHFsBNCaBQAZBvgoBsiaBWhsBJjNAhj+ACgGAZjVAmh0BMiiBfgwBgAhBtCiBXB0BKDVAjAGASDrBRDrBAAjzQXLVH//VooFi1Nab3NVNnRvOl1ZC2+Ej7rNfYGBl4OBgTlE1r69x6mL3fOMoOlb1uVEXv/vy3LbpvGBkMFcK+0ZMyx3I92+7KmcIXHfvg3H6mrhU2T8fF5S0eIChTZyCapnmoLzjn2/ggT/AkRAAAAAAP8PAAAAAGDBAABgwQAAYMEAAOBBDAQBAQEEFOE/EEMQBTD9w1ChMwECb0POBAEDjIyAWgECjkYMAQLAQDoAAAC1AAAA",
        "encoding": "base64",
        "path": [
         "scene_NjgIn6usLz7NzFIIbQb3b6qHU",
         "drc"
        ]
       },
       {
        "data": "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",
        "encoding": "base64",
        "path": [
         "scene_Tug4jd92LUsFY4WCvXeab4x2K",
         "drc"
        ]
       },
       {
        "data": "RFJBQ08CAgEBAIAAAgJpZAQAAAAABHR5cGUEbWVzaAAA/gL4BQH3BQAAvgFf27Zt27Ztq9pSVVVVVVVVVVWq1VJVVVVVVVVVpVrVUlVVVVVVVVWqVdVSVVVVVVVVpVpV1VJVVVVVVVWqVVXVUlVVVVVVpVpVVdVSVVVVVVWqVVVV1VJVVVVVpVpVVVXVUlVVVVWqVVVVVdVSVVVVpVpVVVVV1VJVVVWqVVVVVVXVUlVVpVpVVVVVVdVSVVWqVVVVVVVV1VJVpVpVVVVVVVXVUlWqVVVVVVVVVdVSpVpVVVVVVVVV1VKqAAAKAQEQ/wPnhIUC/wABAAEAAQAJAwAAAgECAgMAAQEEAQEADQ8BAS0BZQsdFaUaWQIsAyxeiXJvdjFMtM+NaBl5Cn8NGqozbqTMy7NAIPaF+cl+qzUwlsIl6Poa9gEWKZWHIG4/FYwZh9ZAp2TfBJ8F5GVLweO9ye94yuojRy86cweXYHMqlSY9hlfwH14dNPq/g/l96DOgNQvgmYiVaK0CTHICtAgDSJcao5cMIJPui3AQgKoUwCMYoAsYIGsWoCMYgOMWIAk1a18MYKEDAAOLAEhboFbAmgUwDAKQXBDTnQVwG5F1+hGFeQFgOATgbgOICgE4TgE2bgGyGoCJNMBsFgD0xFOlABunABiXAFmARUc9ABh6BECnQNFlS1GglwAyDQSAiQGAygFQPhD2AJjNAsicBOhLBvjaB8h6PtlwFEDxv/PKAGgIAP0AeGOADbqsC6D8AReXAE2ZAIODADckgJMSoBgEQKji0imA+x0wVAgw+QMgZ8CZ2aoHqOgLWvlS6/YYYHlune4tTlUB4DiARAK4XIDbDcDjAXADRUWArFmAm+EYiHYAIwMByHSfBHQWSTTumPItXLhjqYAoAqoFuAbgFoBaAWIIWCngWAIeZ8CuDmi3AVs44HYDoMAFUHMANDoCHFEMPO/pBkDhEMB2C4h1AY0lwGiBMuRxfjy2r8cx+WiB51F+QM4P2PahPD4ADgEEBKhDAA4mgPAGwN0CYGACcKACcOACeAgDgBQDPE1cSgVwygFweQFQ3wEA758hoGgBwH28hgEwcwGUTrMIZgKg/RfF5x162bJvaTA/HoOEAJlOAJcYAP8JoBsD3DdQpUA83PEA6KwTf7cIWLSDP7XsQRrQkEchEcCfAjg/AMMPIAyBa6jzAFDtAPAHWnBLhwt7aOmAZQOQVkAmLB0AMa6DVD7aAuiDD4DkAAaggoAsAWJIQH6AeABTQHoBSDjwxECXAsVi4I2AGQBiCEhBoGgMRDJQgArQ8kpcA3ALQK0AMQSsFDBaoGiBKgXCEEgroC2A1gBSCwhFoFKBwgUMF7BUQBSBMM5DBAGYDgCzASB+APgNgIYAxxLQWAI+Q8B9A8MPYNkALB2AIQhw48CHCGgwAQ4mAEQE9AMuJBLglQEcHgNpzBsDII8AWRfANxj9YbEu4HgEdGOAZse+GevKAPWFxbyA3cFmEPsXeTw7gMsF2HkAQAoAwAkA+w7A3QJ4dQDlD5j8Abs6YLsF1HeA/wRg/PPqPMCWC9jZAUc3AMj+jRiYAESGAG43wJAIABMDAPMCwHAIwN0GEBUCYFwCXFwCDBUCtNuAwiGAywuASwyAQiKAthswMBOAj1OpDVQADlQAJ00APB6g6QSAygGAugGg2QSAvwOcMgE4TgE2TgGaMgHud0BmE8DpBsApB0CmE8DgDIBJrdaUKcAGLgAHLgCVKQAhIYApFQAuBwDuBoDpFADhIABVKQDHLcDGLcBUKcDgIEDpFMDtBsAtB0B2CaDLlHFsBNCaBQAZBvgoBsiaBWhsBJjNAhj+ACgGAZjVAmh0BMiiBfgwBgAhBtCiBXB0BKDVAjAGASDrBRDrBAAjzQXLVH//VooFi1Nab3NVNnRvOl1ZC2+Ej7rNfYGBl4OBgTlE1r69x6mL3fOMoOlb1uVEXv/vy3LbpvGBkMFcK+0ZMyx3I92+7KmcIXHfvg3H6mrhU2T8fF5S0eIChTZyCapnmoLzjn2/ggT/AkRAAAAAAP8PAAAAAIDBAACAwQAAgMEAAABCDAQBAQEEYOE/EP9zEAUw+cdQoTMBAm9DzgQBA4yMgFoBAo5GDAECwEAJAAAAdQAAAA==",
        "encoding": "base64",
        "path": [
         "scene_D9HeQuuVcyAguf45INGuPTKoB",
         "drc"
        ]
       },
       {
        "data": "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",
        "encoding": "base64",
        "path": [
         "scene_3GaJ5SPGeVw7iLqSaGa5hjpB8",
         "drc"
        ]
       },
       {
        "data": "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",
        "encoding": "base64",
        "path": [
         "scene_KmemOMjOOoiHU43S509mto7sx",
         "drc"
        ]
       },
       {
        "data": "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",
        "encoding": "base64",
        "path": [
         "scene_z2yDDM6IuwNbdh4QfJGMY8P3Y",
         "drc"
        ]
       },
       {
        "data": "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",
        "encoding": "base64",
        "path": [
         "scene_ii17LmgI49lwByBKt8D5fmWyF",
         "drc"
        ]
       },
       {
        "data": "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",
        "encoding": "base64",
        "path": [
         "scene_UwbrdQDcY5UEYCNuZmecVyaiI",
         "drc"
        ]
       },
       {
        "data": "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",
        "encoding": "base64",
        "path": [
         "scene_BLNLJaW51vvplOiCWpJDxkDXW",
         "drc"
        ]
       },
       {
        "data": "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",
        "encoding": "base64",
        "path": [
         "scene_C0ldH6TsHAQN4BXXXYR14be9B",
         "drc"
        ]
       },
       {
        "data": "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",
        "encoding": "base64",
        "path": [
         "scene_sfYuOQWJ5KtC8tHRZd1csfxem",
         "drc"
        ]
       },
       {
        "data": "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",
        "encoding": "base64",
        "path": [
         "scene_2hGi4fASfw9cbBGJD59JEM3Td",
         "drc"
        ]
       },
       {
        "data": "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",
        "encoding": "base64",
        "path": [
         "scene_R5ZwQ80iGdtcSNhk8r69U1wM8",
         "drc"
        ]
       },
       {
        "data": "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",
        "encoding": "base64",
        "path": [
         "scene_Xg0Uexm0m3vbVNSW2u66E5wMa",
         "drc"
        ]
       },
       {
        "data": "RFJBQ08CAgEBAIAAAgJpZAQAAAAABHR5cGUEbWVzaAAA/gL4BQH3BQAAvgFf27Zt27Ztq9pSVVVVVVVVVVWq1VJVVVVVVVVVpVrVUlVVVVVVVVWqVdVSVVVVVVVVpVpV1VJVVVVVVVWqVVXVUlVVVVVVpVpVVdVSVVVVVVWqVVVV1VJVVVVVpVpVVVXVUlVVVVWqVVVVVdVSVVVVpVpVVVVV1VJVVVWqVVVVVVXVUlVVpVpVVVVVVdVSVVWqVVVVVVVV1VJVpVpVVVVVVVXVUlWqVVVVVVVVVdVSpVpVVVVVVVVV1VKqAAAKAQEQ/wPnhIUC/wABAAEAAQAJAwAAAgECAgMAAQEEAQEADQ8BAS0BZQsdFaUaWQIsAyxeiXJvdjFMtM+NaBl5Cn8NGqozbqTMy7NAIPaF+cl+qzUwlsIl6Poa9gEWKZWHIG4/FYwZh9ZAp2TfBJ8F5GVLweO9ye94yuojRy86cweXYHMqlSY9hlfwH14dNPq/g/l96DOgNQvgmYiVaK0CTHICtAgDSJcao5cMIJPui3AQgKoUwCMYoAsYIGsWoCMYgOMWIAk1a18MYKEDAAOLAEhboFbAmgUwDAKQXBDTnQVwG5F1+hGFeQFgOATgbgOICgE4TgE2bgGyGoCJNMBsFgD0xFOlABunABiXAFmARUc9ABh6BECnQNFlS1GglwAyDQSAiQGAygFQPhD2AJjNAsicBOhLBvjaB8h6PtlwFEDxv/PKAGgIAP0AeGOADbqsC6D8AReXAE2ZAIODADckgJMSoBgEQKji0imA+x0wVAgw+QMgZ8CZ2aoHqOgLWvlS6/YYYHlune4tTlUB4DiARAK4XIDbDcDjAXADRUWArFmAm+EYiHYAIwMByHSfBHQWSTTumPItXLhjqYAoAqoFuAbgFoBaAWIIWCngWAIeZ8CuDmi3AVs44HYDoMAFUHMANDoCHFEMPO/pBkDhEMB2C4h1AY0lwGiBMuRxfjy2r8cx+WiB51F+QM4P2PahPD4ADgEEBKhDAA4mgPAGwN0CYGACcKACcOACeAgDgBQDPE1cSgVwygFweQFQ3wEA758hoGgBwH28hgEwcwGUTrMIZgKg/RfF5x162bJvaTA/HoOEAJlOAJcYAP8JoBsD3DdQpUA83PEA6KwTf7cIWLSDP7XsQRrQkEchEcCfAjg/AMMPIAyBa6jzAFDtAPAHWnBLhwt7aOmAZQOQVkAmLB0AMa6DVD7aAuiDD4DkAAaggoAsAWJIQH6AeABTQHoBSDjwxECXAsVi4I2AGQBiCEhBoGgMRDJQgArQ8kpcA3ALQK0AMQSsFDBaoGiBKgXCEEgroC2A1gBSCwhFoFKBwgUMF7BUQBSBMM5DBAGYDgCzASB+APgNgIYAxxLQWAI+Q8B9A8MPYNkALB2AIQhw48CHCGgwAQ4mAEQE9AMuJBLglQEcHgNpzBsDII8AWRfANxj9YbEu4HgEdGOAZse+GevKAPWFxbyA3cFmEPsXeTw7gMsF2HkAQAoAwAkA+w7A3QJ4dQDlD5j8Abs6YLsF1HeA/wRg/PPqPMCWC9jZAUc3AMj+jRiYAESGAG43wJAIABMDAPMCwHAIwN0GEBUCYFwCXFwCDBUCtNuAwiGAywuASwyAQiKAthswMBOAj1OpDVQADlQAJ00APB6g6QSAygGAugGg2QSAvwOcMgE4TgE2TgGaMgHud0BmE8DpBsApB0CmE8DgDIBJrdaUKcAGLgAHLgCVKQAhIYApFQAuBwDuBoDpFADhIABVKQDHLcDGLcBUKcDgIEDpFMDtBsAtB0B2CaDLlHFsBNCaBQAZBvgoBsiaBWhsBJjNAhj+ACgGAZjVAmh0BMiiBfgwBgAhBtCiBXB0BKDVAjAGASDrBRDrBAAjzQXLVH//VooFi1Nab3NVNnRvOl1ZC2+Ej7rNfYGBl4OBgTlE1r69x6mL3fOMoOlb1uVEXv/vy3LbpvGBkMFcK+0ZMyx3I92+7KmcIXHfvg3H6mrhU2T8fF5S0eIChTZyCapnmoLzjn2/ggT/AkRAAAAAAP8PAAAAADDBAAAwwQAAMMEAALBBDAQBAQEEe+E/EP/fEAU4+v8/oTMBAm9DzgQBA4yMgFoBAo5GDAECwEAcAAAArwAAAA==",
        "encoding": "base64",
        "path": [
         "scene_uXRnZ7uWwuchlO9AvJfTi6DaA",
         "drc"
        ]
       },
       {
        "data": "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",
        "encoding": "base64",
        "path": [
         "scene_OdxSpg2TruhATx21FCokVveCI",
         "drc"
        ]
       },
       {
        "data": "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",
        "encoding": "base64",
        "path": [
         "scene_8XUP9JFbywYNipg4KyeobYIH3",
         "drc"
        ]
       },
       {
        "data": "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",
        "encoding": "base64",
        "path": [
         "scene_o3AlTtleO4sbUci7GDWjxrDmk",
         "drc"
        ]
       },
       {
        "data": "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",
        "encoding": "base64",
        "path": [
         "scene_v3eIjMECUEitwfB7PoCah2nvK",
         "drc"
        ]
       },
       {
        "data": "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",
        "encoding": "base64",
        "path": [
         "scene_APIzrC42uYn2tm3vssunFbRj0",
         "drc"
        ]
       },
       {
        "data": "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",
        "encoding": "base64",
        "path": [
         "scene_JEwsp0YHaxGWmd0vDzKvs5yKk",
         "drc"
        ]
       },
       {
        "data": "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",
        "encoding": "base64",
        "path": [
         "scene_JGHQH108vo4ZdH6Nk4WkhI6PD",
         "drc"
        ]
       },
       {
        "data": "RFJBQ08CAgEBAIAAAgJpZAQAAAAABHR5cGUEbWVzaAAA/gL4BQH3BQAAvgFf27Zt27Ztq9pSVVVVVVVVVVWq1VJVVVVVVVVVpVrVUlVVVVVVVVWqVdVSVVVVVVVVpVpV1VJVVVVVVVWqVVXVUlVVVVVVpVpVVdVSVVVVVVWqVVVV1VJVVVVVpVpVVVXVUlVVVVWqVVVVVdVSVVVVpVpVVVVV1VJVVVWqVVVVVVXVUlVVpVpVVVVVVdVSVVWqVVVVVVVV1VJVpVpVVVVVVVXVUlWqVVVVVVVVVdVSpVpVVVVVVVVV1VKqAAAKAQEQ/wPnhIUC/wABAAEAAQAJAwAAAgECAgMAAQEEAQEADQ8BAS0BZQsdFaUaWQIsAyxeiXJvdjFMtM+NaBl5Cn8NGqozbqTMy7NAIPaF+cl+qzUwlsIl6Poa9gEWKZWHIG4/FYwZh9ZAp2TfBJ8F5GVLweO9ye94yuojRy86cweXYHMqlSY9hlfwH14dNPq/g/l96DOgNQvgmYiVaK0CTHICtAgDSJcao5cMIJPui3AQgKoUwCMYoAsYIGsWoCMYgOMWIAk1a18MYKEDAAOLAEhboFbAmgUwDAKQXBDTnQVwG5F1+hGFeQFgOATgbgOICgE4TgE2bgGyGoCJNMBsFgD0xFOlABunABiXAFmARUc9ABh6BECnQNFlS1GglwAyDQSAiQGAygFQPhD2AJjNAsicBOhLBvjaB8h6PtlwFEDxv/PKAGgIAP0AeGOADbqsC6D8AReXAE2ZAIODADckgJMSoBgEQKji0imA+x0wVAgw+QMgZ8CZ2aoHqOgLWvlS6/YYYHlune4tTlUB4DiARAK4XIDbDcDjAXADRUWArFmAm+EYiHYAIwMByHSfBHQWSTTumPItXLhjqYAoAqoFuAbgFoBaAWIIWCngWAIeZ8CuDmi3AVs44HYDoMAFUHMANDoCHFEMPO/pBkDhEMB2C4h1AY0lwGiBMuRxfjy2r8cx+WiB51F+QM4P2PahPD4ADgEEBKhDAA4mgPAGwN0CYGACcKACcOACeAgDgBQDPE1cSgVwygFweQFQ3wEA758hoGgBwH28hgEwcwGUTrMIZgKg/RfF5x162bJvaTA/HoOEAJlOAJcYAP8JoBsD3DdQpUA83PEA6KwTf7cIWLSDP7XsQRrQkEchEcCfAjg/AMMPIAyBa6jzAFDtAPAHWnBLhwt7aOmAZQOQVkAmLB0AMa6DVD7aAuiDD4DkAAaggoAsAWJIQH6AeABTQHoBSDjwxECXAsVi4I2AGQBiCEhBoGgMRDJQgArQ8kpcA3ALQK0AMQSsFDBaoGiBKgXCEEgroC2A1gBSCwhFoFKBwgUMF7BUQBSBMM5DBAGYDgCzASB+APgNgIYAxxLQWAI+Q8B9A8MPYNkALB2AIQhw48CHCGgwAQ4mAEQE9AMuJBLglQEcHgNpzBsDII8AWRfANxj9YbEu4HgEdGOAZse+GevKAPWFxbyA3cFmEPsXeTw7gMsF2HkAQAoAwAkA+w7A3QJ4dQDlD5j8Abs6YLsF1HeA/wRg/PPqPMCWC9jZAUc3AMj+jRiYAESGAG43wJAIABMDAPMCwHAIwN0GEBUCYFwCXFwCDBUCtNuAwiGAywuASwyAQiKAthswMBOAj1OpDVQADlQAJ00APB6g6QSAygGAugGg2QSAvwOcMgE4TgE2TgGaMgHud0BmE8DpBsApB0CmE8DgDIBJrdaUKcAGLgAHLgCVKQAhIYApFQAuBwDuBoDpFADhIABVKQDHLcDGLcBUKcDgIEDpFMDtBsAtB0B2CaDLlHFsBNCaBQAZBvgoBsiaBWhsBJjNAhj+ACgGAZjVAmh0BMiiBfgwBgAhBtCiBXB0BKDVAjAGASDrBRDrBAAjzQXLVH//VooFi1Nab3NVNnRvOl1ZC2+Ej7rNfYGBl4OBgTlE1r69x6mL3fOMoOlb1uVEXv/vy3LbpvGBkMFcK+0ZMyx3I92+7KmcIXHfvg3H6mrhU2T8fF5S0eIChTZyCapnmoLzjn2/ggT/AkRAAAAAAP8PAAAAAKDAAACgwAAAoMAAACBBDAQBAQEEbuE/EP+rEAUwKfxfoTMBAm9DzgQBA4yMgFoBAo5GDAECwEAIAAAA9AAAAA==",
        "encoding": "base64",
        "path": [
         "scene_ToAuy7vnPArjUUaMnabAG4F9S",
         "drc"
        ]
       },
       {
        "data": "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",
        "encoding": "base64",
        "path": [
         "scene_KJ5TgjeOPHyuhQHtKLsUiALiC",
         "drc"
        ]
       },
       {
        "data": "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",
        "encoding": "base64",
        "path": [
         "scene_iNLHPmOfkp0VyimsqSvJn5Chk",
         "drc"
        ]
       },
       {
        "data": "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",
        "encoding": "base64",
        "path": [
         "scene_6Ht1qppIFdXig14AveY69o0UL",
         "drc"
        ]
       },
       {
        "data": "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",
        "encoding": "base64",
        "path": [
         "scene_OmM2ObCKt7xYiY0XysIULW0j1",
         "drc"
        ]
       },
       {
        "data": "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",
        "encoding": "base64",
        "path": [
         "scene_vWcTnkHuIkmbINuMOvOqV9L4p",
         "drc"
        ]
       },
       {
        "data": "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",
        "encoding": "base64",
        "path": [
         "scene_SVeXw60wYyonc53nrWQ6OnmXW",
         "drc"
        ]
       },
       {
        "data": "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",
        "encoding": "base64",
        "path": [
         "scene_l5W80Zzn2YO1PsLRRHtRSUtq4",
         "drc"
        ]
       },
       {
        "data": "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",
        "encoding": "base64",
        "path": [
         "scene_Nz1xOovm4p6W1W8L0SQEWvFzk",
         "drc"
        ]
       },
       {
        "data": "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",
        "encoding": "base64",
        "path": [
         "scene_N7hALJ9OvxuxGoImhxBNWYv6o",
         "drc"
        ]
       },
       {
        "data": "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",
        "encoding": "base64",
        "path": [
         "scene_7HWukjVg7DfNQqaybMfnBysi7",
         "drc"
        ]
       },
       {
        "data": "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",
        "encoding": "base64",
        "path": [
         "scene_nzcsy5pLnZdxQiCMiL0SeIvOK",
         "drc"
        ]
       },
       {
        "data": "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",
        "encoding": "base64",
        "path": [
         "scene_bd9NKe01v9ws8fVBDKd8hzLvo",
         "drc"
        ]
       },
       {
        "data": "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",
        "encoding": "base64",
        "path": [
         "scene_aLJvX6yPcyik7n3tGJgLmtfjP",
         "drc"
        ]
       },
       {
        "data": "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",
        "encoding": "base64",
        "path": [
         "scene_1CnMRgFheaQLd9srHIvWEETm9",
         "drc"
        ]
       },
       {
        "data": "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",
        "encoding": "base64",
        "path": [
         "scene_wRoYjI8GFIRd9beprnFWK0t5y",
         "drc"
        ]
       },
       {
        "data": "RFJBQ08CAgEBAIAAAgJpZAQAAAAABHR5cGUEbWVzaAAA/gL4BQH3BQAAvgFf27Zt27Ztq9pSVVVVVVVVVVWq1VJVVVVVVVVVpVrVUlVVVVVVVVWqVdVSVVVVVVVVpVpV1VJVVVVVVVWqVVXVUlVVVVVVpVpVVdVSVVVVVVWqVVVV1VJVVVVVpVpVVVXVUlVVVVWqVVVVVdVSVVVVpVpVVVVV1VJVVVWqVVVVVVXVUlVVpVpVVVVVVdVSVVWqVVVVVVVV1VJVpVpVVVVVVVXVUlWqVVVVVVVVVdVSpVpVVVVVVVVV1VKqAAAKAQEQ/wPnhIUC/wABAAEAAQAJAwAAAgECAgMAAQEEAQEADQ8BAS0BZQsdFaUaWQIsAyxeiXJvdjFMtM+NaBl5Cn8NGqozbqTMy7NAIPaF+cl+qzUwlsIl6Poa9gEWKZWHIG4/FYwZh9ZAp2TfBJ8F5GVLweO9ye94yuojRy86cweXYHMqlSY9hlfwH14dNPq/g/l96DOgNQvgmYiVaK0CTHICtAgDSJcao5cMIJPui3AQgKoUwCMYoAsYIGsWoCMYgOMWIAk1a18MYKEDAAOLAEhboFbAmgUwDAKQXBDTnQVwG5F1+hGFeQFgOATgbgOICgE4TgE2bgGyGoCJNMBsFgD0xFOlABunABiXAFmARUc9ABh6BECnQNFlS1GglwAyDQSAiQGAygFQPhD2AJjNAsicBOhLBvjaB8h6PtlwFEDxv/PKAGgIAP0AeGOADbqsC6D8AReXAE2ZAIODADckgJMSoBgEQKji0imA+x0wVAgw+QMgZ8CZ2aoHqOgLWvlS6/YYYHlune4tTlUB4DiARAK4XIDbDcDjAXADRUWArFmAm+EYiHYAIwMByHSfBHQWSTTumPItXLhjqYAoAqoFuAbgFoBaAWIIWCngWAIeZ8CuDmi3AVs44HYDoMAFUHMANDoCHFEMPO/pBkDhEMB2C4h1AY0lwGiBMuRxfjy2r8cx+WiB51F+QM4P2PahPD4ADgEEBKhDAA4mgPAGwN0CYGACcKACcOACeAgDgBQDPE1cSgVwygFweQFQ3wEA758hoGgBwH28hgEwcwGUTrMIZgKg/RfF5x162bJvaTA/HoOEAJlOAJcYAP8JoBsD3DdQpUA83PEA6KwTf7cIWLSDP7XsQRrQkEchEcCfAjg/AMMPIAyBa6jzAFDtAPAHWnBLhwt7aOmAZQOQVkAmLB0AMa6DVD7aAuiDD4DkAAaggoAsAWJIQH6AeABTQHoBSDjwxECXAsVi4I2AGQBiCEhBoGgMRDJQgArQ8kpcA3ALQK0AMQSsFDBaoGiBKgXCEEgroC2A1gBSCwhFoFKBwgUMF7BUQBSBMM5DBAGYDgCzASB+APgNgIYAxxLQWAI+Q8B9A8MPYNkALB2AIQhw48CHCGgwAQ4mAEQE9AMuJBLglQEcHgNpzBsDII8AWRfANxj9YbEu4HgEdGOAZse+GevKAPWFxbyA3cFmEPsXeTw7gMsF2HkAQAoAwAkA+w7A3QJ4dQDlD5j8Abs6YLsF1HeA/wRg/PPqPMCWC9jZAUc3AMj+jRiYAESGAG43wJAIABMDAPMCwHAIwN0GEBUCYFwCXFwCDBUCtNuAwiGAywuASwyAQiKAthswMBOAj1OpDVQADlQAJ00APB6g6QSAygGAugGg2QSAvwOcMgE4TgE2TgGaMgHud0BmE8DpBsApB0CmE8DgDIBJrdaUKcAGLgAHLgCVKQAhIYApFQAuBwDuBoDpFADhIABVKQDHLcDGLcBUKcDgIEDpFMDtBsAtB0B2CaDLlHFsBNCaBQAZBvgoBsiaBWhsBJjNAhj+ACgGAZjVAmh0BMiiBfgwBgAhBtCiBXB0BKDVAjAGASDrBRDrBAAjzQXLVH//VooFi1Nab3NVNnRvOl1ZC2+Ej7rNfYGBl4OBgTlE1r69x6mL3fOMoOlb1uVEXv/vy3LbpvGBkMFcK+0ZMyx3I92+7KmcIXHfvg3H6mrhU2T8fF5S0eIChTZyCapnmoLzjn2/ggT/AkRAAAAAAP8PAAAAAJDBAACQwQAAkMEAABBCDAQBAQEEJuE/EIsQBTD9w1ChMwECb0POBAEDjIyAWgECjkYMAQLAQDIAAACYAAAA",
        "encoding": "base64",
        "path": [
         "scene_BxPjbTR1OM0AUNBl182Fjtgxy",
         "drc"
        ]
       },
       {
        "data": "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",
        "encoding": "base64",
        "path": [
         "scene_3VnS1E1yfIaLrEAItrLOa5Uyq",
         "drc"
        ]
       },
       {
        "data": "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",
        "encoding": "base64",
        "path": [
         "scene_za2BEg99GRATBEqnMcsSTBnBJ",
         "drc"
        ]
       },
       {
        "data": "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",
        "encoding": "base64",
        "path": [
         "scene_YfKpSfwFOGOKwjutuMK3oN1XR",
         "drc"
        ]
       },
       {
        "data": "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",
        "encoding": "base64",
        "path": [
         "scene_FxXauZ4KRErrtUXGjtOMrGHai",
         "drc"
        ]
       },
       {
        "data": "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",
        "encoding": "base64",
        "path": [
         "scene_GWBLPW8RLIODjQprSF9qcHuyS",
         "drc"
        ]
       },
       {
        "data": "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",
        "encoding": "base64",
        "path": [
         "scene_LNh9Uex9Yc6W3PFfsjUTmaREW",
         "drc"
        ]
       },
       {
        "data": "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",
        "encoding": "base64",
        "path": [
         "scene_BvxME3Y7nJXt5dcT34lEM2K6R",
         "drc"
        ]
       },
       {
        "data": "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",
        "encoding": "base64",
        "path": [
         "scene_DfuyWhXXSlnfzbaG67YpYJ1Vw",
         "drc"
        ]
       },
       {
        "data": "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",
        "encoding": "base64",
        "path": [
         "scene_6r0es8aGtfEu5R8i6QWFZpKcl",
         "drc"
        ]
       },
       {
        "data": "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",
        "encoding": "base64",
        "path": [
         "scene_E6nQkEDUX1XMGfjW4EQP49SjE",
         "drc"
        ]
       },
       {
        "data": "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",
        "encoding": "base64",
        "path": [
         "scene_uKLSI62juHK7kpjlwcnkbwV9s",
         "drc"
        ]
       },
       {
        "data": "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",
        "encoding": "base64",
        "path": [
         "scene_xgvbm2tmYSbsDa0s8x8inkcDy",
         "drc"
        ]
       },
       {
        "data": "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",
        "encoding": "base64",
        "path": [
         "scene_rPpUuPt4a58tSgcc8pbadRk3y",
         "drc"
        ]
       },
       {
        "data": "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",
        "encoding": "base64",
        "path": [
         "scene_LbPQJG1QS41jpqgkiEHCTkm5B",
         "drc"
        ]
       },
       {
        "data": "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",
        "encoding": "base64",
        "path": [
         "scene_B1GSThcCd9LVwmyEBWfIParqY",
         "drc"
        ]
       },
       {
        "data": "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",
        "encoding": "base64",
        "path": [
         "scene_LZj7XB0pqPtlcdOBHZGyeNt94",
         "drc"
        ]
       },
       {
        "data": "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",
        "encoding": "base64",
        "path": [
         "scene_Ulk9Ce0SZ0jKCi2ZUOKkIQTGS",
         "drc"
        ]
       },
       {
        "data": "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",
        "encoding": "base64",
        "path": [
         "scene_qJ4mvlT8IaG0KKSYjSAFI4slk",
         "drc"
        ]
       },
       {
        "data": "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",
        "encoding": "base64",
        "path": [
         "scene_GhytkyzAGfBBz7wz8VWk4Cf3H",
         "drc"
        ]
       },
       {
        "data": "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",
        "encoding": "base64",
        "path": [
         "scene_YG1ww5bjnGGQHj4wcKs1OHOqs",
         "drc"
        ]
       },
       {
        "data": "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",
        "encoding": "base64",
        "path": [
         "scene_4bt6vDpAOiUbfoLhVgOwh2Kl7",
         "drc"
        ]
       },
       {
        "data": "RFJBQ08CAgEBAIAAAgJpZAQAAAAABHR5cGUEbWVzaAAA/gL4BQH3BQAAvgFf27Zt27Ztq9pSVVVVVVVVVVWq1VJVVVVVVVVVpVrVUlVVVVVVVVWqVdVSVVVVVVVVpVpV1VJVVVVVVVWqVVXVUlVVVVVVpVpVVdVSVVVVVVWqVVVV1VJVVVVVpVpVVVXVUlVVVVWqVVVVVdVSVVVVpVpVVVVV1VJVVVWqVVVVVVXVUlVVpVpVVVVVVdVSVVWqVVVVVVVV1VJVpVpVVVVVVVXVUlWqVVVVVVVVVdVSpVpVVVVVVVVV1VKqAAAKAQEQ/wPnhIUC/wABAAEAAQAJAwAAAgECAgMAAQEEAQEADQ8BAS0BZQsdFaUaWQIsAyxeiXJvdjFMtM+NaBl5Cn8NGqozbqTMy7NAIPaF+cl+qzUwlsIl6Poa9gEWKZWHIG4/FYwZh9ZAp2TfBJ8F5GVLweO9ye94yuojRy86cweXYHMqlSY9hlfwH14dNPq/g/l96DOgNQvgmYiVaK0CTHICtAgDSJcao5cMIJPui3AQgKoUwCMYoAsYIGsWoCMYgOMWIAk1a18MYKEDAAOLAEhboFbAmgUwDAKQXBDTnQVwG5F1+hGFeQFgOATgbgOICgE4TgE2bgGyGoCJNMBsFgD0xFOlABunABiXAFmARUc9ABh6BECnQNFlS1GglwAyDQSAiQGAygFQPhD2AJjNAsicBOhLBvjaB8h6PtlwFEDxv/PKAGgIAP0AeGOADbqsC6D8AReXAE2ZAIODADckgJMSoBgEQKji0imA+x0wVAgw+QMgZ8CZ2aoHqOgLWvlS6/YYYHlune4tTlUB4DiARAK4XIDbDcDjAXADRUWArFmAm+EYiHYAIwMByHSfBHQWSTTumPItXLhjqYAoAqoFuAbgFoBaAWIIWCngWAIeZ8CuDmi3AVs44HYDoMAFUHMANDoCHFEMPO/pBkDhEMB2C4h1AY0lwGiBMuRxfjy2r8cx+WiB51F+QM4P2PahPD4ADgEEBKhDAA4mgPAGwN0CYGACcKACcOACeAgDgBQDPE1cSgVwygFweQFQ3wEA758hoGgBwH28hgEwcwGUTrMIZgKg/RfF5x162bJvaTA/HoOEAJlOAJcYAP8JoBsD3DdQpUA83PEA6KwTf7cIWLSDP7XsQRrQkEchEcCfAjg/AMMPIAyBa6jzAFDtAPAHWnBLhwt7aOmAZQOQVkAmLB0AMa6DVD7aAuiDD4DkAAaggoAsAWJIQH6AeABTQHoBSDjwxECXAsVi4I2AGQBiCEhBoGgMRDJQgArQ8kpcA3ALQK0AMQSsFDBaoGiBKgXCEEgroC2A1gBSCwhFoFKBwgUMF7BUQBSBMM5DBAGYDgCzASB+APgNgIYAxxLQWAI+Q8B9A8MPYNkALB2AIQhw48CHCGgwAQ4mAEQE9AMuJBLglQEcHgNpzBsDII8AWRfANxj9YbEu4HgEdGOAZse+GevKAPWFxbyA3cFmEPsXeTw7gMsF2HkAQAoAwAkA+w7A3QJ4dQDlD5j8Abs6YLsF1HeA/wRg/PPqPMCWC9jZAUc3AMj+jRiYAESGAG43wJAIABMDAPMCwHAIwN0GEBUCYFwCXFwCDBUCtNuAwiGAywuASwyAQiKAthswMBOAj1OpDVQADlQAJ00APB6g6QSAygGAugGg2QSAvwOcMgE4TgE2TgGaMgHud0BmE8DpBsApB0CmE8DgDIBJrdaUKcAGLgAHLgCVKQAhIYApFQAuBwDuBoDpFADhIABVKQDHLcDGLcBUKcDgIEDpFMDtBsAtB0B2CaDLlHFsBNCaBQAZBvgoBsiaBWhsBJjNAhj+ACgGAZjVAmh0BMiiBfgwBgAhBtCiBXB0BKDVAjAGASDrBRDrBAAjzQXLVH//VooFi1Nab3NVNnRvOl1ZC2+Ej7rNfYGBl4OBgTlE1r69x6mL3fOMoOlb1uVEXv/vy3LbpvGBkMFcK+0ZMyx3I92+7KmcIXHfvg3H6mrhU2T8fF5S0eIChTZyCapnmoLzjn2/ggT/AkRAAAAAAP8PAAAAAHDBAABwwQAAcMEAAPBBDAQBAQEEI+E/EH8QBTD5x1ChMwECb0POBAEDjIyAWgECjkYMAQLAQA4AAABSAAAA",
        "encoding": "base64",
        "path": [
         "scene_EfT0oYEatXjZqvgqB90a4Vnlr",
         "drc"
        ]
       },
       {
        "data": "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",
        "encoding": "base64",
        "path": [
         "scene_oySKpGKKkgZLQsRxGECRDbB1O",
         "drc"
        ]
       },
       {
        "data": "RFJBQ08CAgEBAIAAAgJpZAQAAAAABHR5cGUEbWVzaAAA/gL4BQH3BQAAvgFf27Zt27Ztq9pSVVVVVVVVVVWq1VJVVVVVVVVVpVrVUlVVVVVVVVWqVdVSVVVVVVVVpVpV1VJVVVVVVVWqVVXVUlVVVVVVpVpVVdVSVVVVVVWqVVVV1VJVVVVVpVpVVVXVUlVVVVWqVVVVVdVSVVVVpVpVVVVV1VJVVVWqVVVVVVXVUlVVpVpVVVVVVdVSVVWqVVVVVVVV1VJVpVpVVVVVVVXVUlWqVVVVVVVVVdVSpVpVVVVVVVVV1VKqAAAKAQEQ/wPnhIUC/wABAAEAAQAJAwAAAgECAgMAAQEEAQEADQ8BAS0BZQsdFaUaWQIsAyxeiXJvdjFMtM+NaBl5Cn8NGqozbqTMy7NAIPaF+cl+qzUwlsIl6Poa9gEWKZWHIG4/FYwZh9ZAp2TfBJ8F5GVLweO9ye94yuojRy86cweXYHMqlSY9hlfwH14dNPq/g/l96DOgNQvgmYiVaK0CTHICtAgDSJcao5cMIJPui3AQgKoUwCMYoAsYIGsWoCMYgOMWIAk1a18MYKEDAAOLAEhboFbAmgUwDAKQXBDTnQVwG5F1+hGFeQFgOATgbgOICgE4TgE2bgGyGoCJNMBsFgD0xFOlABunABiXAFmARUc9ABh6BECnQNFlS1GglwAyDQSAiQGAygFQPhD2AJjNAsicBOhLBvjaB8h6PtlwFEDxv/PKAGgIAP0AeGOADbqsC6D8AReXAE2ZAIODADckgJMSoBgEQKji0imA+x0wVAgw+QMgZ8CZ2aoHqOgLWvlS6/YYYHlune4tTlUB4DiARAK4XIDbDcDjAXADRUWArFmAm+EYiHYAIwMByHSfBHQWSTTumPItXLhjqYAoAqoFuAbgFoBaAWIIWCngWAIeZ8CuDmi3AVs44HYDoMAFUHMANDoCHFEMPO/pBkDhEMB2C4h1AY0lwGiBMuRxfjy2r8cx+WiB51F+QM4P2PahPD4ADgEEBKhDAA4mgPAGwN0CYGACcKACcOACeAgDgBQDPE1cSgVwygFweQFQ3wEA758hoGgBwH28hgEwcwGUTrMIZgKg/RfF5x162bJvaTA/HoOEAJlOAJcYAP8JoBsD3DdQpUA83PEA6KwTf7cIWLSDP7XsQRrQkEchEcCfAjg/AMMPIAyBa6jzAFDtAPAHWnBLhwt7aOmAZQOQVkAmLB0AMa6DVD7aAuiDD4DkAAaggoAsAWJIQH6AeABTQHoBSDjwxECXAsVi4I2AGQBiCEhBoGgMRDJQgArQ8kpcA3ALQK0AMQSsFDBaoGiBKgXCEEgroC2A1gBSCwhFoFKBwgUMF7BUQBSBMM5DBAGYDgCzASB+APgNgIYAxxLQWAI+Q8B9A8MPYNkALB2AIQhw48CHCGgwAQ4mAEQE9AMuJBLglQEcHgNpzBsDII8AWRfANxj9YbEu4HgEdGOAZse+GevKAPWFxbyA3cFmEPsXeTw7gMsF2HkAQAoAwAkA+w7A3QJ4dQDlD5j8Abs6YLsF1HeA/wRg/PPqPMCWC9jZAUc3AMj+jRiYAESGAG43wJAIABMDAPMCwHAIwN0GEBUCYFwCXFwCDBUCtNuAwiGAywuASwyAQiKAthswMBOAj1OpDVQADlQAJ00APB6g6QSAygGAugGg2QSAvwOcMgE4TgE2TgGaMgHud0BmE8DpBsApB0CmE8DgDIBJrdaUKcAGLgAHLgCVKQAhIYApFQAuBwDuBoDpFADhIABVKQDHLcDGLcBUKcDgIEDpFMDtBsAtB0B2CaDLlHFsBNCaBQAZBvgoBsiaBWhsBJjNAhj+ACgGAZjVAmh0BMiiBfgwBgAhBtCiBXB0BKDVAjAGASDrBRDrBAAjzQXLVH//VooFi1Nab3NVNnRvOl1ZC2+Ej7rNfYGBl4OBgTlE1r69x6mL3fOMoOlb1uVEXv/vy3LbpvGBkMFcK+0ZMyx3I92+7KmcIXHfvg3H6mrhU2T8fF5S0eIChTZyCapnmoLzjn2/ggT/AkRAAAAAAP8PAAAAACDBAAAgwQAAIMEAAKBBDAQBAQEEEuE/EDsQBTD5x1ChMwECb0POBAEDjIyAWgECjkYMAQLAQBAAAABkAAAA",
        "encoding": "base64",
        "path": [
         "scene_usCOcAqvrNx1Syy9px5O8PaiK",
         "drc"
        ]
       },
       {
        "data": "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",
        "encoding": "base64",
        "path": [
         "scene_oVyixgHz9OlaQOuLVM1WfIBNv",
         "drc"
        ]
       },
       {
        "data": "RFJBQ08CAgEBAIAAAgJpZAQAAAAABHR5cGUEbWVzaAAA/gL4BQH3BQAAvgFf27Zt27Ztq9pSVVVVVVVVVVWq1VJVVVVVVVVVpVrVUlVVVVVVVVWqVdVSVVVVVVVVpVpV1VJVVVVVVVWqVVXVUlVVVVVVpVpVVdVSVVVVVVWqVVVV1VJVVVVVpVpVVVXVUlVVVVWqVVVVVdVSVVVVpVpVVVVV1VJVVVWqVVVVVVXVUlVVpVpVVVVVVdVSVVWqVVVVVVVV1VJVpVpVVVVVVVXVUlWqVVVVVVVVVdVSpVpVVVVVVVVV1VKqAAAKAQEQ/wPnhIUC/wABAAEAAQAJAwAAAgECAgMAAQEEAQEADQ8BAS0BZQsdFaUaWQIsAyxeiXJvdjFMtM+NaBl5Cn8NGqozbqTMy7NAIPaF+cl+qzUwlsIl6Poa9gEWKZWHIG4/FYwZh9ZAp2TfBJ8F5GVLweO9ye94yuojRy86cweXYHMqlSY9hlfwH14dNPq/g/l96DOgNQvgmYiVaK0CTHICtAgDSJcao5cMIJPui3AQgKoUwCMYoAsYIGsWoCMYgOMWIAk1a18MYKEDAAOLAEhboFbAmgUwDAKQXBDTnQVwG5F1+hGFeQFgOATgbgOICgE4TgE2bgGyGoCJNMBsFgD0xFOlABunABiXAFmARUc9ABh6BECnQNFlS1GglwAyDQSAiQGAygFQPhD2AJjNAsicBOhLBvjaB8h6PtlwFEDxv/PKAGgIAP0AeGOADbqsC6D8AReXAE2ZAIODADckgJMSoBgEQKji0imA+x0wVAgw+QMgZ8CZ2aoHqOgLWvlS6/YYYHlune4tTlUB4DiARAK4XIDbDcDjAXADRUWArFmAm+EYiHYAIwMByHSfBHQWSTTumPItXLhjqYAoAqoFuAbgFoBaAWIIWCngWAIeZ8CuDmi3AVs44HYDoMAFUHMANDoCHFEMPO/pBkDhEMB2C4h1AY0lwGiBMuRxfjy2r8cx+WiB51F+QM4P2PahPD4ADgEEBKhDAA4mgPAGwN0CYGACcKACcOACeAgDgBQDPE1cSgVwygFweQFQ3wEA758hoGgBwH28hgEwcwGUTrMIZgKg/RfF5x162bJvaTA/HoOEAJlOAJcYAP8JoBsD3DdQpUA83PEA6KwTf7cIWLSDP7XsQRrQkEchEcCfAjg/AMMPIAyBa6jzAFDtAPAHWnBLhwt7aOmAZQOQVkAmLB0AMa6DVD7aAuiDD4DkAAaggoAsAWJIQH6AeABTQHoBSDjwxECXAsVi4I2AGQBiCEhBoGgMRDJQgArQ8kpcA3ALQK0AMQSsFDBaoGiBKgXCEEgroC2A1gBSCwhFoFKBwgUMF7BUQBSBMM5DBAGYDgCzASB+APgNgIYAxxLQWAI+Q8B9A8MPYNkALB2AIQhw48CHCGgwAQ4mAEQE9AMuJBLglQEcHgNpzBsDII8AWRfANxj9YbEu4HgEdGOAZse+GevKAPWFxbyA3cFmEPsXeTw7gMsF2HkAQAoAwAkA+w7A3QJ4dQDlD5j8Abs6YLsF1HeA/wRg/PPqPMCWC9jZAUc3AMj+jRiYAESGAG43wJAIABMDAPMCwHAIwN0GEBUCYFwCXFwCDBUCtNuAwiGAywuASwyAQiKAthswMBOAj1OpDVQADlQAJ00APB6g6QSAygGAugGg2QSAvwOcMgE4TgE2TgGaMgHud0BmE8DpBsApB0CmE8DgDIBJrdaUKcAGLgAHLgCVKQAhIYApFQAuBwDuBoDpFADhIABVKQDHLcDGLcBUKcDgIEDpFMDtBsAtB0B2CaDLlHFsBNCaBQAZBvgoBsiaBWhsBJjNAhj+ACgGAZjVAmh0BMiiBfgwBgAhBtCiBXB0BKDVAjAGASDrBRDrBAAjzQXLVH//VooFi1Nab3NVNnRvOl1ZC2+Ej7rNfYGBl4OBgTlE1r69x6mL3fOMoOlb1uVEXv/vy3LbpvGBkMFcK+0ZMyx3I92+7KmcIXHfvg3H6mrhU2T8fF5S0eIChTZyCapnmoLzjn2/ggT/AkRAAAAAAP8PAAAAAMDAAADAwAAAwMAAAEBBDAQBAQEEFeE/EEcQBTD5x1ChMwECb0POBAEDjIyAWgECjkYMAQLAQFYAAADYAAAA",
        "encoding": "base64",
        "path": [
         "scene_gx32vO3BLJhavMeTDiHT4nVZU",
         "drc"
        ]
       },
       {
        "data": "RFJBQ08CAgEBAIAAAgJpZAQAAAAABHR5cGUEbWVzaAAA/gL4BQH3BQAAvgFf27Zt27Ztq9pSVVVVVVVVVVWq1VJVVVVVVVVVpVrVUlVVVVVVVVWqVdVSVVVVVVVVpVpV1VJVVVVVVVWqVVXVUlVVVVVVpVpVVdVSVVVVVVWqVVVV1VJVVVVVpVpVVVXVUlVVVVWqVVVVVdVSVVVVpVpVVVVV1VJVVVWqVVVVVVXVUlVVpVpVVVVVVdVSVVWqVVVVVVVV1VJVpVpVVVVVVVXVUlWqVVVVVVVVVdVSpVpVVVVVVVVV1VKqAAAKAQEQ/wPnhIUC/wABAAEAAQAJAwAAAgECAgMAAQEEAQEADQ8BAS0BZQsdFaUaWQIsAyxeiXJvdjFMtM+NaBl5Cn8NGqozbqTMy7NAIPaF+cl+qzUwlsIl6Poa9gEWKZWHIG4/FYwZh9ZAp2TfBJ8F5GVLweO9ye94yuojRy86cweXYHMqlSY9hlfwH14dNPq/g/l96DOgNQvgmYiVaK0CTHICtAgDSJcao5cMIJPui3AQgKoUwCMYoAsYIGsWoCMYgOMWIAk1a18MYKEDAAOLAEhboFbAmgUwDAKQXBDTnQVwG5F1+hGFeQFgOATgbgOICgE4TgE2bgGyGoCJNMBsFgD0xFOlABunABiXAFmARUc9ABh6BECnQNFlS1GglwAyDQSAiQGAygFQPhD2AJjNAsicBOhLBvjaB8h6PtlwFEDxv/PKAGgIAP0AeGOADbqsC6D8AReXAE2ZAIODADckgJMSoBgEQKji0imA+x0wVAgw+QMgZ8CZ2aoHqOgLWvlS6/YYYHlune4tTlUB4DiARAK4XIDbDcDjAXADRUWArFmAm+EYiHYAIwMByHSfBHQWSTTumPItXLhjqYAoAqoFuAbgFoBaAWIIWCngWAIeZ8CuDmi3AVs44HYDoMAFUHMANDoCHFEMPO/pBkDhEMB2C4h1AY0lwGiBMuRxfjy2r8cx+WiB51F+QM4P2PahPD4ADgEEBKhDAA4mgPAGwN0CYGACcKACcOACeAgDgBQDPE1cSgVwygFweQFQ3wEA758hoGgBwH28hgEwcwGUTrMIZgKg/RfF5x162bJvaTA/HoOEAJlOAJcYAP8JoBsD3DdQpUA83PEA6KwTf7cIWLSDP7XsQRrQkEchEcCfAjg/AMMPIAyBa6jzAFDtAPAHWnBLhwt7aOmAZQOQVkAmLB0AMa6DVD7aAuiDD4DkAAaggoAsAWJIQH6AeABTQHoBSDjwxECXAsVi4I2AGQBiCEhBoGgMRDJQgArQ8kpcA3ALQK0AMQSsFDBaoGiBKgXCEEgroC2A1gBSCwhFoFKBwgUMF7BUQBSBMM5DBAGYDgCzASB+APgNgIYAxxLQWAI+Q8B9A8MPYNkALB2AIQhw48CHCGgwAQ4mAEQE9AMuJBLglQEcHgNpzBsDII8AWRfANxj9YbEu4HgEdGOAZse+GevKAPWFxbyA3cFmEPsXeTw7gMsF2HkAQAoAwAkA+w7A3QJ4dQDlD5j8Abs6YLsF1HeA/wRg/PPqPMCWC9jZAUc3AMj+jRiYAESGAG43wJAIABMDAPMCwHAIwN0GEBUCYFwCXFwCDBUCtNuAwiGAywuASwyAQiKAthswMBOAj1OpDVQADlQAJ00APB6g6QSAygGAugGg2QSAvwOcMgE4TgE2TgGaMgHud0BmE8DpBsApB0CmE8DgDIBJrdaUKcAGLgAHLgCVKQAhIYApFQAuBwDuBoDpFADhIABVKQDHLcDGLcBUKcDgIEDpFMDtBsAtB0B2CaDLlHFsBNCaBQAZBvgoBsiaBWhsBJjNAhj+ACgGAZjVAmh0BMiiBfgwBgAhBtCiBXB0BKDVAjAGASDrBRDrBAAjzQXLVH//VooFi1Nab3NVNnRvOl1ZC2+Ej7rNfYGBl4OBgTlE1r69x6mL3fOMoOlb1uVEXv/vy3LbpvGBkMFcK+0ZMyx3I92+7KmcIXHfvg3H6mrhU2T8fF5S0eIChTZyCapnmoLzjn2/ggT/AkRAAAAAAP8PAAAAAJDBAACQwQAAkMEAABBCDAQBAQEEZOE/EP+DEAUw/cNQoTMBAm9DzgQBA4yMgFoBAo5GDAECwEA1AAAA9gAAAA==",
        "encoding": "base64",
        "path": [
         "scene_IohOZ0Sm7XBM81B5jr3pAiM4p",
         "drc"
        ]
       },
       {
        "data": "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",
        "encoding": "base64",
        "path": [
         "scene_tY233TYSgX1Oa0gcNedgRRl4x",
         "drc"
        ]
       },
       {
        "data": "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",
        "encoding": "base64",
        "path": [
         "scene_SSvOSpwTWTxUXR4C8HpD2j9fG",
         "drc"
        ]
       },
       {
        "data": "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",
        "encoding": "base64",
        "path": [
         "scene_6HR39lF8hQHVuwWDpjFxZc1PZ",
         "drc"
        ]
       },
       {
        "data": "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",
        "encoding": "base64",
        "path": [
         "scene_MKbcM4oA6RT25eAvwQy2s2E34",
         "drc"
        ]
       },
       {
        "data": "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",
        "encoding": "base64",
        "path": [
         "scene_Mpj1yYnTRqAWcdTaH1Wr1jNNo",
         "drc"
        ]
       },
       {
        "data": "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",
        "encoding": "base64",
        "path": [
         "scene_OauDxelGs7yCKhRKncddUje4K",
         "drc"
        ]
       },
       {
        "data": "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",
        "encoding": "base64",
        "path": [
         "scene_HcZuhvHfXyg5vzc9ATbcaqJFw",
         "drc"
        ]
       },
       {
        "data": "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",
        "encoding": "base64",
        "path": [
         "scene_7sz9qXRh5lrDgywpYxfJuknoU",
         "drc"
        ]
       },
       {
        "data": "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",
        "encoding": "base64",
        "path": [
         "scene_0uzCjxiSDLJHeGTvUnu8wApzE",
         "drc"
        ]
       },
       {
        "data": "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",
        "encoding": "base64",
        "path": [
         "scene_kuEzmkuDvm2wjeEbg6t8lXlUz",
         "drc"
        ]
       },
       {
        "data": "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",
        "encoding": "base64",
        "path": [
         "scene_YowuYqNduMIkHTw7WCQ0fmmmz",
         "drc"
        ]
       },
       {
        "data": "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",
        "encoding": "base64",
        "path": [
         "scene_Foy0Nc29EhrS8lMNe3AGLon8o",
         "drc"
        ]
       },
       {
        "data": "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",
        "encoding": "base64",
        "path": [
         "scene_6kQUlu47wCyF7wWD8F0ko0cJc",
         "drc"
        ]
       },
       {
        "data": "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",
        "encoding": "base64",
        "path": [
         "scene_LkhsGVixcIxyBn8VOKutfatKi",
         "drc"
        ]
       },
       {
        "data": "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",
        "encoding": "base64",
        "path": [
         "scene_iNGLwGSznLvUVYiDvrNZ1XA1g",
         "drc"
        ]
       },
       {
        "data": "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",
        "encoding": "base64",
        "path": [
         "scene_dL1IDFoA67mv4JVF0CCSTEM8o",
         "drc"
        ]
       },
       {
        "data": "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",
        "encoding": "base64",
        "path": [
         "scene_92vONA4XQzS5nXPPbQUM1f5mf",
         "drc"
        ]
       },
       {
        "data": "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",
        "encoding": "base64",
        "path": [
         "scene_xzQpPvyT7RqcNMW7vyhnJ5ZhY",
         "drc"
        ]
       },
       {
        "data": "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",
        "encoding": "base64",
        "path": [
         "scene_rtWVBcGITzgV3nX7NIAP8mBxD",
         "drc"
        ]
       },
       {
        "data": "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",
        "encoding": "base64",
        "path": [
         "scene_j1lBu7Pcp93aOCNLJkfqn9Xdp",
         "drc"
        ]
       },
       {
        "data": "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",
        "encoding": "base64",
        "path": [
         "scene_eRgYXzEShb5y4qdbhIk57CMib",
         "drc"
        ]
       },
       {
        "data": "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",
        "encoding": "base64",
        "path": [
         "scene_2V1D60UxPAyWVqlRJPbjUCGO2",
         "drc"
        ]
       },
       {
        "data": "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",
        "encoding": "base64",
        "path": [
         "scene_mdQxD4maY67rT240yZOkuyPqy",
         "drc"
        ]
       },
       {
        "data": "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",
        "encoding": "base64",
        "path": [
         "scene_frdqSVJthYF0ZS2hCXsqm33je",
         "drc"
        ]
       },
       {
        "data": "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",
        "encoding": "base64",
        "path": [
         "scene_ahgcBLqEScL4130leRsOYof3z",
         "drc"
        ]
       },
       {
        "data": "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",
        "encoding": "base64",
        "path": [
         "scene_g3BPOSevvAYrniwbBbUC2gfDz",
         "drc"
        ]
       },
       {
        "data": "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",
        "encoding": "base64",
        "path": [
         "scene_i8SnexaYVFf9eMh1ngTq63cp3",
         "drc"
        ]
       },
       {
        "data": "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",
        "encoding": "base64",
        "path": [
         "scene_yg5Pi1JVaSVl3C5gdlqrGcEjo",
         "drc"
        ]
       },
       {
        "data": "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",
        "encoding": "base64",
        "path": [
         "scene_P0oUdFoqY1HtedQ5uQrhe3Zji",
         "drc"
        ]
       },
       {
        "data": "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",
        "encoding": "base64",
        "path": [
         "scene_mVjjenN8q0X0USR1plEUEmAHj",
         "drc"
        ]
       },
       {
        "data": "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",
        "encoding": "base64",
        "path": [
         "scene_4n9sDaU8eX9gh0CQL2tHRE314",
         "drc"
        ]
       },
       {
        "data": "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",
        "encoding": "base64",
        "path": [
         "scene_fw248qXRbJg4eXwwZjRHu7KAR",
         "drc"
        ]
       },
       {
        "data": "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",
        "encoding": "base64",
        "path": [
         "scene_3z4lFDUS049hjopI5JihmCmrC",
         "drc"
        ]
       },
       {
        "data": "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",
        "encoding": "base64",
        "path": [
         "scene_SdBjMwFaTjh5JVQZ0av4WyPZA",
         "drc"
        ]
       },
       {
        "data": "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",
        "encoding": "base64",
        "path": [
         "scene_qSlSqGZHRsHTfP7lmsZL1qUcE",
         "drc"
        ]
       },
       {
        "data": "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",
        "encoding": "base64",
        "path": [
         "scene_rUhqjkWGSBfo8kXMPiePfGvoH",
         "drc"
        ]
       },
       {
        "data": "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",
        "encoding": "base64",
        "path": [
         "scene_LZYo1oPdBLAOR8ABLo2Anbq0R",
         "drc"
        ]
       },
       {
        "data": "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",
        "encoding": "base64",
        "path": [
         "scene_fZbcPEHbk8NP5xOsZULHkGDQi",
         "drc"
        ]
       },
       {
        "data": "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",
        "encoding": "base64",
        "path": [
         "scene_JQQnVecIXxx9XEwzQ8oUVVaMK",
         "drc"
        ]
       },
       {
        "data": "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",
        "encoding": "base64",
        "path": [
         "scene_ZFdhn1ZYMmWDHkeYwHSdKvghs",
         "drc"
        ]
       },
       {
        "data": "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",
        "encoding": "base64",
        "path": [
         "scene_bBj7b3pGu33bpVFGsamL5luCp",
         "drc"
        ]
       },
       {
        "data": "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",
        "encoding": "base64",
        "path": [
         "scene_WoJwD6HxQptcdXqH2GObJFMrS",
         "drc"
        ]
       },
       {
        "data": "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",
        "encoding": "base64",
        "path": [
         "scene_eRKwYD3O8uHHRvnp3cuAcxaul",
         "drc"
        ]
       },
       {
        "data": "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",
        "encoding": "base64",
        "path": [
         "scene_aNhVVRPIbK1Y4baWApjsl7oSY",
         "drc"
        ]
       },
       {
        "data": "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",
        "encoding": "base64",
        "path": [
         "scene_5kVOANEIGSNHO9UN9scw1fEMv",
         "drc"
        ]
       },
       {
        "data": "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",
        "encoding": "base64",
        "path": [
         "scene_fORvj1gAqjiXUIIsZaQIYFSrb",
         "drc"
        ]
       }
      ],
      "model_module": "pgljupyter",
      "model_module_version": "^0.1.0-alpha",
      "model_name": "SceneWidgetModel",
      "state": {
       "_model_module_version": "^0.1.0-alpha",
       "_view_module_version": "^0.1.0-alpha",
       "axes_helper": false,
       "layout": "IPY_MODEL_4beeee0641ea46379732ac62f7eb7be4",
       "light_helper": false,
       "plane": true,
       "scene": {
        "offsets": [],
        "position": [
         0,
         0,
         0
        ],
        "scale": 1,
        "scene": "<openalea.plantgl.scenegraph._pglsg.Scene object at 0x7fef4fe21068>"
       },
       "scene_06DxtkGPKQhGoiEHtFnH62oKM": {
        "offsets": [
         0
        ],
        "position": [
         3,
         -60,
         32
        ],
        "scale": 1,
        "scene": "<openalea.plantgl.scenegraph._pglsg.Scene object at 0x7fef4eed4420>"
       },
       "scene_0XYv1yD8LaWsAQOLt5csL16fD": {
        "offsets": [
         0
        ],
        "position": [
         125,
         24,
         -118
        ],
        "scale": 1,
        "scene": "<openalea.plantgl.scenegraph._pglsg.Scene object at 0x7fef4eddfae8>"
       },
       "scene_0YiAEnjAaZunR24QhtxtXNDSX": {
        "offsets": [
         0
        ],
        "position": [
         -41,
         -97,
         -27
        ],
        "scale": 1,
        "scene": "<openalea.plantgl.scenegraph._pglsg.Scene object at 0x7fef4ec78f48>"
       },
       "scene_0hgnFJvueCWf4zeFYG8z8chPH": {
        "offsets": [
         0
        ],
        "position": [
         -56,
         103,
         124
        ],
        "scale": 1,
        "scene": "<openalea.plantgl.scenegraph._pglsg.Scene object at 0x7fef4ee6eae8>"
       },
       "scene_0uzCjxiSDLJHeGTvUnu8wApzE": {
        "offsets": [
         0
        ],
        "position": [
         -42,
         -25,
         -75
        ],
        "scale": 1,
        "scene": "<openalea.plantgl.scenegraph._pglsg.Scene object at 0x7fef4eb7c5a8>"
       },
       "scene_12ye07zInertveehVZwyEyNEq": {
        "offsets": [
         0
        ],
        "position": [
         -52,
         -123,
         13
        ],
        "scale": 1,
        "scene": "<openalea.plantgl.scenegraph._pglsg.Scene object at 0x7fef4eef01f0>"
       },
       "scene_1CnMRgFheaQLd9srHIvWEETm9": {
        "offsets": [
         0
        ],
        "position": [
         107,
         -23,
         73
        ],
        "scale": 1,
        "scene": "<openalea.plantgl.scenegraph._pglsg.Scene object at 0x7fef4f833a08>"
       },
       "scene_1LiTX9Jd6kEBQPqRYKgau6D3C": {
        "offsets": [
         0
        ],
        "position": [
         -58,
         -120,
         -58
        ],
        "scale": 1,
        "scene": "<openalea.plantgl.scenegraph._pglsg.Scene object at 0x7fef4ef2d5e0>"
       },
       "scene_1O6SqyaMi9X3HNyb8CDCvFbuS": {
        "offsets": [
         0
        ],
        "position": [
         67,
         -108,
         -120
        ],
        "scale": 1,
        "scene": "<openalea.plantgl.scenegraph._pglsg.Scene object at 0x7fef4ec2f570>"
       },
       "scene_2V1D60UxPAyWVqlRJPbjUCGO2": {
        "offsets": [
         0
        ],
        "position": [
         86,
         83,
         38
        ],
        "scale": 1,
        "scene": "<openalea.plantgl.scenegraph._pglsg.Scene object at 0x7fef4eb293b0>"
       },
       "scene_2cvppQlCiO5n7bnaSQ6fpdqcH": {
        "offsets": [
         0
        ],
        "position": [
         56,
         79,
         72
        ],
        "scale": 1,
        "scene": "<openalea.plantgl.scenegraph._pglsg.Scene object at 0x7fef4ee35260>"
       },
       "scene_2fY83KXsx1WJfJ09r2FPSymNn": {
        "offsets": [
         0
        ],
        "position": [
         54,
         54,
         -122
        ],
        "scale": 1,
        "scene": "<openalea.plantgl.scenegraph._pglsg.Scene object at 0x7fef4ec43dc0>"
       },
       "scene_2hGi4fASfw9cbBGJD59JEM3Td": {
        "offsets": [
         0
        ],
        "position": [
         -37,
         84,
         10
        ],
        "scale": 1,
        "scene": "<openalea.plantgl.scenegraph._pglsg.Scene object at 0x7fef4ebfbdc0>"
       },
       "scene_30Ya6ktrwtaMN5gj9wnR8a2th": {
        "offsets": [
         0
        ],
        "position": [
         -5,
         -118,
         -2
        ],
        "scale": 1,
        "scene": "<openalea.plantgl.scenegraph._pglsg.Scene object at 0x7fef4ee6e730>"
       },
       "scene_3DICoik3ZwdCbjxSBcQFG1Sxb": {
        "offsets": [
         0
        ],
        "position": [
         56,
         63,
         -2
        ],
        "scale": 1,
        "scene": "<openalea.plantgl.scenegraph._pglsg.Scene object at 0x7fef4ec78b90>"
       },
       "scene_3GaJ5SPGeVw7iLqSaGa5hjpB8": {
        "offsets": [
         0
        ],
        "position": [
         -124,
         123,
         92
        ],
        "scale": 1,
        "scene": "<openalea.plantgl.scenegraph._pglsg.Scene object at 0x7fef4ebe8c00>"
       },
       "scene_3I4SijDm2IWaWlHDHBBys70PU": {
        "offsets": [
         0
        ],
        "position": [
         -80,
         55,
         47
        ],
        "scale": 1,
        "scene": "<openalea.plantgl.scenegraph._pglsg.Scene object at 0x7fef4ec1dc70>"
       },
       "scene_3VnS1E1yfIaLrEAItrLOa5Uyq": {
        "offsets": [
         0
        ],
        "position": [
         -105,
         74,
         -124
        ],
        "scale": 1,
        "scene": "<openalea.plantgl.scenegraph._pglsg.Scene object at 0x7fef4eed3768>"
       },
       "scene_3dVQ1Wj5BKcG1GekkZPkw4F66": {
        "offsets": [
         0
        ],
        "position": [
         68,
         95,
         60
        ],
        "scale": 1,
        "scene": "<openalea.plantgl.scenegraph._pglsg.Scene object at 0x7fef4ef2de68>"
       },
       "scene_3t6i2kWOclOvN9b1rcROycrgV": {
        "offsets": [
         0
        ],
        "position": [
         99,
         88,
         28
        ],
        "scale": 1,
        "scene": "<openalea.plantgl.scenegraph._pglsg.Scene object at 0x7fef4ed9a068>"
       },
       "scene_3z4lFDUS049hjopI5JihmCmrC": {
        "offsets": [
         0
        ],
        "position": [
         125,
         -59,
         78
        ],
        "scale": 1,
        "scene": "<openalea.plantgl.scenegraph._pglsg.Scene object at 0x7fef4eb45c00>"
       },
       "scene_4bt6vDpAOiUbfoLhVgOwh2Kl7": {
        "offsets": [
         0
        ],
        "position": [
         122,
         -53,
         94
        ],
        "scale": 1,
        "scene": "<openalea.plantgl.scenegraph._pglsg.Scene object at 0x7fef4eb56110>"
       },
       "scene_4n9sDaU8eX9gh0CQL2tHRE314": {
        "offsets": [
         0
        ],
        "position": [
         -34,
         25,
         5
        ],
        "scale": 1,
        "scene": "<openalea.plantgl.scenegraph._pglsg.Scene object at 0x7fef4eb45500>"
       },
       "scene_4o0sYT32SSKpBkEFX6T5Uj5aB": {
        "offsets": [
         0
        ],
        "position": [
         11,
         24,
         78
        ],
        "scale": 1,
        "scene": "<openalea.plantgl.scenegraph._pglsg.Scene object at 0x7fef4ebd88f0>"
       },
       "scene_58Z1rPuvful3CCuycTgJhfNMq": {
        "offsets": [
         0
        ],
        "position": [
         92,
         54,
         -38
        ],
        "scale": 1,
        "scene": "<openalea.plantgl.scenegraph._pglsg.Scene object at 0x7fef4ed20df8>"
       },
       "scene_5D1SE6yaQjhzrEZ5S1VZUZ3Fk": {
        "offsets": [
         0
        ],
        "position": [
         55,
         -110,
         -82
        ],
        "scale": 1,
        "scene": "<openalea.plantgl.scenegraph._pglsg.Scene object at 0x7fef4ed051f0>"
       },
       "scene_5g85a8SPcoYymLwutq5ySfaQi": {
        "offsets": [
         0
        ],
        "position": [
         29,
         22,
         -82
        ],
        "scale": 1,
        "scene": "<openalea.plantgl.scenegraph._pglsg.Scene object at 0x7fef4ec2fe30>"
       },
       "scene_5kVOANEIGSNHO9UN9scw1fEMv": {
        "offsets": [
         0
        ],
        "position": [
         95,
         65,
         -9
        ],
        "scale": 1,
        "scene": "<openalea.plantgl.scenegraph._pglsg.Scene object at 0x7fef4eaed5a8>"
       },
       "scene_5koBRXBBm5NbZNSj4SeesaDF2": {
        "offsets": [
         0
        ],
        "position": [
         -38,
         -80,
         93
        ],
        "scale": 1,
        "scene": "<openalea.plantgl.scenegraph._pglsg.Scene object at 0x7fef4eef0880>"
       },
       "scene_5t8BkFCRVKiyopm03TaAZ9vLK": {
        "offsets": [
         0
        ],
        "position": [
         13,
         81,
         126
        ],
        "scale": 1,
        "scene": "<openalea.plantgl.scenegraph._pglsg.Scene object at 0x7fef4ee6e500>"
       },
       "scene_6HR39lF8hQHVuwWDpjFxZc1PZ": {
        "offsets": [
         0
        ],
        "position": [
         70,
         71,
         46
        ],
        "scale": 1,
        "scene": "<openalea.plantgl.scenegraph._pglsg.Scene object at 0x7fef4eb6f148>"
       },
       "scene_6Ht1qppIFdXig14AveY69o0UL": {
        "offsets": [
         0
        ],
        "position": [
         -114,
         57,
         108
        ],
        "scale": 1,
        "scene": "<openalea.plantgl.scenegraph._pglsg.Scene object at 0x7fef4eb93a08>"
       },
       "scene_6M4UowdeJQ2R1A4e6mCBjerVc": {
        "offsets": [
         0
        ],
        "position": [
         0,
         -67,
         -1
        ],
        "scale": 1,
        "scene": "<openalea.plantgl.scenegraph._pglsg.Scene object at 0x7fef4ed05030>"
       },
       "scene_6UjABHHzZ1KG7mvay3sxbOaUH": {
        "offsets": [
         0
        ],
        "position": [
         14,
         78,
         86
        ],
        "scale": 1,
        "scene": "<openalea.plantgl.scenegraph._pglsg.Scene object at 0x7fef4eddfce0>"
       },
       "scene_6WnEe5GtWFHfqslZtIEpGvGAS": {
        "offsets": [
         0
        ],
        "position": [
         11,
         -33,
         62
        ],
        "scale": 1,
        "scene": "<openalea.plantgl.scenegraph._pglsg.Scene object at 0x7fef4ebd8d50>"
       },
       "scene_6kQUlu47wCyF7wWD8F0ko0cJc": {
        "offsets": [
         0
        ],
        "position": [
         56,
         -65,
         87
        ],
        "scale": 1,
        "scene": "<openalea.plantgl.scenegraph._pglsg.Scene object at 0x7fef4eb0b3b0>"
       },
       "scene_6oI3HtQwnl7YTevtP9e6P9iAG": {
        "offsets": [
         0
        ],
        "position": [
         0,
         115,
         -25
        ],
        "scale": 1,
        "scene": "<openalea.plantgl.scenegraph._pglsg.Scene object at 0x7fef4eec5260>"
       },
       "scene_6r0es8aGtfEu5R8i6QWFZpKcl": {
        "offsets": [
         0
        ],
        "position": [
         -1,
         -102,
         -112
        ],
        "scale": 1,
        "scene": "<openalea.plantgl.scenegraph._pglsg.Scene object at 0x7fef4eb9b298>"
       },
       "scene_7GOfwD68OnYijagnEwxpZXfdL": {
        "offsets": [
         0
        ],
        "position": [
         0,
         65,
         92
        ],
        "scale": 1,
        "scene": "<openalea.plantgl.scenegraph._pglsg.Scene object at 0x7fef4ee6e998>"
       },
       "scene_7HWukjVg7DfNQqaybMfnBysi7": {
        "offsets": [
         0
        ],
        "position": [
         -93,
         -113,
         -5
        ],
        "scale": 1,
        "scene": "<openalea.plantgl.scenegraph._pglsg.Scene object at 0x7fef4ef6f500>"
       },
       "scene_7KpgfKWd5B5mNU1V4tXTnJtjA": {
        "offsets": [
         0
        ],
        "position": [
         5,
         117,
         90
        ],
        "scale": 1,
        "scene": "<openalea.plantgl.scenegraph._pglsg.Scene object at 0x7fef4ed20c70>"
       },
       "scene_7YNjpS8bQyLCS9MoqifKWN8pW": {
        "offsets": [
         0
        ],
        "position": [
         72,
         -59,
         76
        ],
        "scale": 1,
        "scene": "<openalea.plantgl.scenegraph._pglsg.Scene object at 0x7fef4ef69fb8>"
       },
       "scene_7sz9qXRh5lrDgywpYxfJuknoU": {
        "offsets": [
         0
        ],
        "position": [
         94,
         -81,
         82
        ],
        "scale": 1,
        "scene": "<openalea.plantgl.scenegraph._pglsg.Scene object at 0x7fef4eb7c228>"
       },
       "scene_7uPrZaeuVtiWyBjl4hdAwcnE0": {
        "offsets": [
         0
        ],
        "position": [
         -120,
         -94,
         50
        ],
        "scale": 1,
        "scene": "<openalea.plantgl.scenegraph._pglsg.Scene object at 0x7fef4ebe8340>"
       },
       "scene_8XUP9JFbywYNipg4KyeobYIH3": {
        "offsets": [
         0
        ],
        "position": [
         1,
         -57,
         9
        ],
        "scale": 1,
        "scene": "<openalea.plantgl.scenegraph._pglsg.Scene object at 0x7fef4ec028f0>"
       },
       "scene_92vONA4XQzS5nXPPbQUM1f5mf": {
        "offsets": [
         0
        ],
        "position": [
         -7,
         -51,
         -89
        ],
        "scale": 1,
        "scene": "<openalea.plantgl.scenegraph._pglsg.Scene object at 0x7fef4eb181f0>"
       },
       "scene_9UnBApxw3ETMy1G5tj3lzQmy9": {
        "offsets": [
         0
        ],
        "position": [
         -8,
         -15,
         -120
        ],
        "scale": 1,
        "scene": "<openalea.plantgl.scenegraph._pglsg.Scene object at 0x7fef4eef0570>"
       },
       "scene_APIzrC42uYn2tm3vssunFbRj0": {
        "offsets": [
         0
        ],
        "position": [
         -1,
         -107,
         -122
        ],
        "scale": 1,
        "scene": "<openalea.plantgl.scenegraph._pglsg.Scene object at 0x7fef4ec02f80>"
       },
       "scene_AXwBm3376YFlmScLY1ww2QfRy": {
        "offsets": [
         0
        ],
        "position": [
         43,
         -12,
         -61
        ],
        "scale": 1,
        "scene": "<openalea.plantgl.scenegraph._pglsg.Scene object at 0x7fef4ee06d18>"
       },
       "scene_AiNHiSDUEq9AUdGcZN4koQCto": {
        "offsets": [
         0
        ],
        "position": [
         32,
         42,
         102
        ],
        "scale": 1,
        "scene": "<openalea.plantgl.scenegraph._pglsg.Scene object at 0x7fef4efb47a0>"
       },
       "scene_B1GSThcCd9LVwmyEBWfIParqY": {
        "offsets": [
         0
        ],
        "position": [
         66,
         63,
         65
        ],
        "scale": 1,
        "scene": "<openalea.plantgl.scenegraph._pglsg.Scene object at 0x7fef4ebbdab0>"
       },
       "scene_B3PWpo5gHebjWNWscUb9jlsEy": {
        "offsets": [
         0
        ],
        "position": [
         55,
         44,
         80
        ],
        "scale": 1,
        "scene": "<openalea.plantgl.scenegraph._pglsg.Scene object at 0x7fef4ec2c5e0>"
       },
       "scene_BCa58Yth28MUEaqX7fV5Am9p9": {
        "offsets": [
         0
        ],
        "position": [
         -46,
         -23,
         -11
        ],
        "scale": 1,
        "scene": "<openalea.plantgl.scenegraph._pglsg.Scene object at 0x7fef4ebd8260>"
       },
       "scene_BGJQZe0q6N9BFp6wOS7NLnjXf": {
        "offsets": [
         0
        ],
        "position": [
         22,
         -107,
         49
        ],
        "scale": 1,
        "scene": "<openalea.plantgl.scenegraph._pglsg.Scene object at 0x7fef4ed05ab0>"
       },
       "scene_BIeX4tyN6kC4sCyWGvlDhEvXG": {
        "offsets": [
         0
        ],
        "position": [
         119,
         103,
         18
        ],
        "scale": 1,
        "scene": "<openalea.plantgl.scenegraph._pglsg.Scene object at 0x7fef4ee6e030>"
       },
       "scene_BLNLJaW51vvplOiCWpJDxkDXW": {
        "offsets": [
         0
        ],
        "position": [
         -29,
         -58,
         8
        ],
        "scale": 1,
        "scene": "<openalea.plantgl.scenegraph._pglsg.Scene object at 0x7fef4ebfb6f8>"
       },
       "scene_BvxME3Y7nJXt5dcT34lEM2K6R": {
        "offsets": [
         0
        ],
        "position": [
         -44,
         40,
         108
        ],
        "scale": 1,
        "scene": "<openalea.plantgl.scenegraph._pglsg.Scene object at 0x7fef4eec0c00>"
       },
       "scene_BwSW0KP1bKJ1kJIltnHDL1B1V": {
        "offsets": [
         0
        ],
        "position": [
         -126,
         89,
         57
        ],
        "scale": 1,
        "scene": "<openalea.plantgl.scenegraph._pglsg.Scene object at 0x7fef4ebd83e8>"
       },
       "scene_BxPjbTR1OM0AUNBl182Fjtgxy": {
        "offsets": [
         0
        ],
        "position": [
         -77,
         25,
         7
        ],
        "scale": 1,
        "scene": "<openalea.plantgl.scenegraph._pglsg.Scene object at 0x7fef4eed3ab0>"
       },
       "scene_C0ldH6TsHAQN4BXXXYR14be9B": {
        "offsets": [
         0
        ],
        "position": [
         86,
         -60,
         -47
        ],
        "scale": 1,
        "scene": "<openalea.plantgl.scenegraph._pglsg.Scene object at 0x7fef4ebfb1b8>"
       },
       "scene_CVBpHH5iGjVYPhIPwUPv2x593": {
        "offsets": [
         0
        ],
        "position": [
         119,
         -66,
         -3
        ],
        "scale": 1,
        "scene": "<openalea.plantgl.scenegraph._pglsg.Scene object at 0x7fef4ee35490>"
       },
       "scene_D0tKI7SbVvK9VgllyZPOJ49yw": {
        "offsets": [
         0
        ],
        "position": [
         38,
         97,
         -18
        ],
        "scale": 1,
        "scene": "<openalea.plantgl.scenegraph._pglsg.Scene object at 0x7fef4ec432d0>"
       },
       "scene_D6vcWyo9o7YqV2lJuOZAydZfR": {
        "offsets": [
         0
        ],
        "position": [
         -122,
         46,
         -125
        ],
        "scale": 1,
        "scene": "<openalea.plantgl.scenegraph._pglsg.Scene object at 0x7fef4ee06030>"
       },
       "scene_D9HeQuuVcyAguf45INGuPTKoB": {
        "offsets": [
         0
        ],
        "position": [
         -118,
         -57,
         -10
        ],
        "scale": 1,
        "scene": "<openalea.plantgl.scenegraph._pglsg.Scene object at 0x7fef4ebe86f8>"
       },
       "scene_DfuyWhXXSlnfzbaG67YpYJ1Vw": {
        "offsets": [
         0
        ],
        "position": [
         101,
         -13,
         66
        ],
        "scale": 1,
        "scene": "<openalea.plantgl.scenegraph._pglsg.Scene object at 0x7fef4ede4a40>"
       },
       "scene_DnINVJncDG1ZTwwEOjxZQFKiZ": {
        "offsets": [
         0
        ],
        "position": [
         111,
         20,
         -15
        ],
        "scale": 1,
        "scene": "<openalea.plantgl.scenegraph._pglsg.Scene object at 0x7fef4eec5b20>"
       },
       "scene_E6nQkEDUX1XMGfjW4EQP49SjE": {
        "offsets": [
         0
        ],
        "position": [
         -125,
         27,
         -5
        ],
        "scale": 1,
        "scene": "<openalea.plantgl.scenegraph._pglsg.Scene object at 0x7fef4eb9b960>"
       },
       "scene_EExwjhGOaqJfgW7GDv3pGHNS6": {
        "offsets": [
         0
        ],
        "position": [
         -78,
         -71,
         15
        ],
        "scale": 1,
        "scene": "<openalea.plantgl.scenegraph._pglsg.Scene object at 0x7fef4ed05f48>"
       },
       "scene_EcxAuHHQrqaB8C1w55EzzMRQh": {
        "offsets": [
         0
        ],
        "position": [
         -112,
         112,
         -90
        ],
        "scale": 1,
        "scene": "<openalea.plantgl.scenegraph._pglsg.Scene object at 0x7fef4ed9ae68>"
       },
       "scene_EfT0oYEatXjZqvgqB90a4Vnlr": {
        "offsets": [
         0
        ],
        "position": [
         -113,
         -96,
         -45
        ],
        "scale": 1,
        "scene": "<openalea.plantgl.scenegraph._pglsg.Scene object at 0x7fef4eb56490>"
       },
       "scene_Foy0Nc29EhrS8lMNe3AGLon8o": {
        "offsets": [
         0
        ],
        "position": [
         -82,
         20,
         -38
        ],
        "scale": 1,
        "scene": "<openalea.plantgl.scenegraph._pglsg.Scene object at 0x7fef4eb0b110>"
       },
       "scene_FxXauZ4KRErrtUXGjtOMrGHai": {
        "offsets": [
         0
        ],
        "position": [
         88,
         49,
         -51
        ],
        "scale": 1,
        "scene": "<openalea.plantgl.scenegraph._pglsg.Scene object at 0x7fef4eef1d88>"
       },
       "scene_GHy2UWQD7A9zQmBSw5no9daqw": {
        "offsets": [
         0
        ],
        "position": [
         109,
         -13,
         -50
        ],
        "scale": 1,
        "scene": "<openalea.plantgl.scenegraph._pglsg.Scene object at 0x7fef4ed20a40>"
       },
       "scene_GWBLPW8RLIODjQprSF9qcHuyS": {
        "offsets": [
         0
        ],
        "position": [
         -60,
         -123,
         49
        ],
        "scale": 1,
        "scene": "<openalea.plantgl.scenegraph._pglsg.Scene object at 0x7fef4ee8f298>"
       },
       "scene_GaRJkEltQ08dRh1FWdrv0pqa5": {
        "offsets": [
         0
        ],
        "position": [
         76,
         34,
         -67
        ],
        "scale": 1,
        "scene": "<openalea.plantgl.scenegraph._pglsg.Scene object at 0x7fef7801eb20>"
       },
       "scene_GhytkyzAGfBBz7wz8VWk4Cf3H": {
        "offsets": [
         0
        ],
        "position": [
         39,
         -26,
         -124
        ],
        "scale": 1,
        "scene": "<openalea.plantgl.scenegraph._pglsg.Scene object at 0x7fef4ebc89d0>"
       },
       "scene_HcZuhvHfXyg5vzc9ATbcaqJFw": {
        "offsets": [
         0
        ],
        "position": [
         -16,
         -51,
         -97
        ],
        "scale": 1,
        "scene": "<openalea.plantgl.scenegraph._pglsg.Scene object at 0x7fef4eb6fe68>"
       },
       "scene_HxNpC5xZi7nFAv3cf8qDqRqMP": {
        "offsets": [
         0
        ],
        "position": [
         -41,
         -9,
         -73
        ],
        "scale": 1,
        "scene": "<openalea.plantgl.scenegraph._pglsg.Scene object at 0x7fef4ef69340>"
       },
       "scene_IohOZ0Sm7XBM81B5jr3pAiM4p": {
        "offsets": [
         0
        ],
        "position": [
         -74,
         119,
         70
        ],
        "scale": 1,
        "scene": "<openalea.plantgl.scenegraph._pglsg.Scene object at 0x7fef4eb62650>"
       },
       "scene_IryxLhqYRtknAI74WckEDDkzX": {
        "offsets": [
         0
        ],
        "position": [
         45,
         -107,
         -98
        ],
        "scale": 1,
        "scene": "<openalea.plantgl.scenegraph._pglsg.Scene object at 0x7fef4ed055a8>"
       },
       "scene_ItZqcHsAZTrzF4D7wQ2sE7qis": {
        "offsets": [
         0
        ],
        "position": [
         -55,
         108,
         -82
        ],
        "scale": 1,
        "scene": "<openalea.plantgl.scenegraph._pglsg.Scene object at 0x7fef4ee6edc0>"
       },
       "scene_J80hi7iizAF0uKQD55E6tnfGS": {
        "offsets": [
         0
        ],
        "position": [
         37,
         -124,
         35
        ],
        "scale": 1,
        "scene": "<openalea.plantgl.scenegraph._pglsg.Scene object at 0x7fef4ec43b90>"
       },
       "scene_JDa2Jb5Mij38v8NBiOriMdmpp": {
        "offsets": [
         0
        ],
        "position": [
         63,
         -52,
         55
        ],
        "scale": 1,
        "scene": "<openalea.plantgl.scenegraph._pglsg.Scene object at 0x7fef4ef69bc8>"
       },
       "scene_JEwsp0YHaxGWmd0vDzKvs5yKk": {
        "offsets": [
         0
        ],
        "position": [
         -22,
         78,
         19
        ],
        "scale": 1,
        "scene": "<openalea.plantgl.scenegraph._pglsg.Scene object at 0x7fef4eb931f0>"
       },
       "scene_JGHQH108vo4ZdH6Nk4WkhI6PD": {
        "offsets": [
         0
        ],
        "position": [
         50,
         -92,
         76
        ],
        "scale": 1,
        "scene": "<openalea.plantgl.scenegraph._pglsg.Scene object at 0x7fef4eb93420>"
       },
       "scene_JQQnVecIXxx9XEwzQ8oUVVaMK": {
        "offsets": [
         0
        ],
        "position": [
         -80,
         -77,
         -89
        ],
        "scale": 1,
        "scene": "<openalea.plantgl.scenegraph._pglsg.Scene object at 0x7fef4eadf068>"
       },
       "scene_KJ5TgjeOPHyuhQHtKLsUiALiC": {
        "offsets": [
         0
        ],
        "position": [
         121,
         -21,
         -109
        ],
        "scale": 1,
        "scene": "<openalea.plantgl.scenegraph._pglsg.Scene object at 0x7fef4eb93880>"
       },
       "scene_KU6NzbL9CU3hsdo7ZzbZkjPYm": {
        "offsets": [
         0
        ],
        "position": [
         91,
         36,
         -31
        ],
        "scale": 1,
        "scene": "<openalea.plantgl.scenegraph._pglsg.Scene object at 0x7fef4ec43730>"
       },
       "scene_KmemOMjOOoiHU43S509mto7sx": {
        "offsets": [
         0
        ],
        "position": [
         126,
         110,
         33
        ],
        "scale": 1,
        "scene": "<openalea.plantgl.scenegraph._pglsg.Scene object at 0x7fef4ebe8e68>"
       },
       "scene_KsVGNV0RdWx7dXsjMc6ZJX8zM": {
        "offsets": [
         0
        ],
        "position": [
         87,
         54,
         -105
        ],
        "scale": 1,
        "scene": "<openalea.plantgl.scenegraph._pglsg.Scene object at 0x7fef4ef2d7a0>"
       },
       "scene_LNh9Uex9Yc6W3PFfsjUTmaREW": {
        "offsets": [
         0
        ],
        "position": [
         58,
         64,
         -83
        ],
        "scale": 1,
        "scene": "<openalea.plantgl.scenegraph._pglsg.Scene object at 0x7fef4eea1228>"
       },
       "scene_LZYo1oPdBLAOR8ABLo2Anbq0R": {
        "offsets": [
         0
        ],
        "position": [
         -71,
         -20,
         22
        ],
        "scale": 1,
        "scene": "<openalea.plantgl.scenegraph._pglsg.Scene object at 0x7fef4ead2928>"
       },
       "scene_LZj7XB0pqPtlcdOBHZGyeNt94": {
        "offsets": [
         0
        ],
        "position": [
         70,
         85,
         -91
        ],
        "scale": 1,
        "scene": "<openalea.plantgl.scenegraph._pglsg.Scene object at 0x7fef4ebbdf80>"
       },
       "scene_LbPQJG1QS41jpqgkiEHCTkm5B": {
        "offsets": [
         0
        ],
        "position": [
         102,
         113,
         -74
        ],
        "scale": 1,
        "scene": "<openalea.plantgl.scenegraph._pglsg.Scene object at 0x7fef4ebbd768>"
       },
       "scene_LkhsGVixcIxyBn8VOKutfatKi": {
        "offsets": [
         0
        ],
        "position": [
         80,
         123,
         81
        ],
        "scale": 1,
        "scene": "<openalea.plantgl.scenegraph._pglsg.Scene object at 0x7fef4eb0b730>"
       },
       "scene_MKbcM4oA6RT25eAvwQy2s2E34": {
        "offsets": [
         0
        ],
        "position": [
         -99,
         -42,
         97
        ],
        "scale": 1,
        "scene": "<openalea.plantgl.scenegraph._pglsg.Scene object at 0x7fef4eb6f420>"
       },
       "scene_MUWoqelA2Cxvkfe0rqLf0TVw1": {
        "offsets": [
         0
        ],
        "position": [
         -80,
         -25,
         -8
        ],
        "scale": 1,
        "scene": "<openalea.plantgl.scenegraph._pglsg.Scene object at 0x7fef4eef0ed8>"
       },
       "scene_Mpj1yYnTRqAWcdTaH1Wr1jNNo": {
        "offsets": [
         0
        ],
        "position": [
         -25,
         115,
         -66
        ],
        "scale": 1,
        "scene": "<openalea.plantgl.scenegraph._pglsg.Scene object at 0x7fef4eb6f7a0>"
       },
       "scene_N7hALJ9OvxuxGoImhxBNWYv6o": {
        "offsets": [
         0
        ],
        "position": [
         70,
         28,
         7
        ],
        "scale": 1,
        "scene": "<openalea.plantgl.scenegraph._pglsg.Scene object at 0x7fef4ef5f500>"
       },
       "scene_NDVFFefoQKMUbcBzvrVfNZTYd": {
        "offsets": [
         0
        ],
        "position": [
         18,
         -80,
         88
        ],
        "scale": 1,
        "scene": "<openalea.plantgl.scenegraph._pglsg.Scene object at 0x7fef4ed05ce0>"
       },
       "scene_NKInLKTTxkxMaX0XVpXx1Q3nM": {
        "offsets": [
         0
        ],
        "position": [
         -57,
         -12,
         -52
        ],
        "scale": 1,
        "scene": "<openalea.plantgl.scenegraph._pglsg.Scene object at 0x7fef4eef05a8>"
       },
       "scene_NLyGZqs37MM1rg9HdRoAH3FRc": {
        "offsets": [
         0
        ],
        "position": [
         -2,
         58,
         -30
        ],
        "scale": 1,
        "scene": "<openalea.plantgl.scenegraph._pglsg.Scene object at 0x7fef4eec5490>"
       },
       "scene_NjgIn6usLz7NzFIIbQb3b6qHU": {
        "offsets": [
         0
        ],
        "position": [
         -69,
         54,
         45
        ],
        "scale": 1,
        "scene": "<openalea.plantgl.scenegraph._pglsg.Scene object at 0x7fef4ebe8570>"
       },
       "scene_NkbMDWw9nKAp8s3fv21QPCdzc": {
        "offsets": [
         0
        ],
        "position": [
         -42,
         71,
         37
        ],
        "scale": 1,
        "scene": "<openalea.plantgl.scenegraph._pglsg.Scene object at 0x7fef4ef2d9d0>"
       },
       "scene_Nz1xOovm4p6W1W8L0SQEWvFzk": {
        "offsets": [
         0
        ],
        "position": [
         -14,
         21,
         -62
        ],
        "scale": 1,
        "scene": "<openalea.plantgl.scenegraph._pglsg.Scene object at 0x7fef4ef4fca8>"
       },
       "scene_OAyfzzhFCKILRFl1nq0UXZWfQ": {
        "offsets": [
         0
        ],
        "position": [
         32,
         59,
         -125
        ],
        "scale": 1,
        "scene": "<openalea.plantgl.scenegraph._pglsg.Scene object at 0x7fef4ec2c810>"
       },
       "scene_OPooCaeg3G0LhezQqLHqbWYM6": {
        "offsets": [
         0
        ],
        "position": [
         110,
         -62,
         -1
        ],
        "scale": 1,
        "scene": "<openalea.plantgl.scenegraph._pglsg.Scene object at 0x7fef4ee06650>"
       },
       "scene_OauDxelGs7yCKhRKncddUje4K": {
        "offsets": [
         0
        ],
        "position": [
         117,
         -9,
         -90
        ],
        "scale": 1,
        "scene": "<openalea.plantgl.scenegraph._pglsg.Scene object at 0x7fef4eb6fc38>"
       },
       "scene_ObpHSvITY0RGmpk61h4t14uHG": {
        "offsets": [
         0
        ],
        "position": [
         99,
         -45,
         -13
        ],
        "scale": 1,
        "scene": "<openalea.plantgl.scenegraph._pglsg.Scene object at 0x7fef4eddf1b8>"
       },
       "scene_OdxSpg2TruhATx21FCokVveCI": {
        "offsets": [
         0
        ],
        "position": [
         48,
         102,
         -85
        ],
        "scale": 1,
        "scene": "<openalea.plantgl.scenegraph._pglsg.Scene object at 0x7fef4ec026c0>"
       },
       "scene_OmM2ObCKt7xYiY0XysIULW0j1": {
        "offsets": [
         0
        ],
        "position": [
         103,
         104,
         -11
        ],
        "scale": 1,
        "scene": "<openalea.plantgl.scenegraph._pglsg.Scene object at 0x7fef4eb93f10>"
       },
       "scene_OtrsoK6nWKQkJhZyolh88svda": {
        "offsets": [
         0
        ],
        "position": [
         -8,
         17,
         -58
        ],
        "scale": 1,
        "scene": "<openalea.plantgl.scenegraph._pglsg.Scene object at 0x7fef4ed9ace0>"
       },
       "scene_P0oUdFoqY1HtedQ5uQrhe3Zji": {
        "offsets": [
         0
        ],
        "position": [
         -105,
         37,
         81
        ],
        "scale": 1,
        "scene": "<openalea.plantgl.scenegraph._pglsg.Scene object at 0x7fef4eb35ca8>"
       },
       "scene_P70jj6HerjCB9xKrcb5m77mtw": {
        "offsets": [
         0
        ],
        "position": [
         35,
         109,
         89
        ],
        "scale": 1,
        "scene": "<openalea.plantgl.scenegraph._pglsg.Scene object at 0x7fef4ee06148>"
       },
       "scene_PWkWspTxzCNrDzD8JPAnG4AgR": {
        "offsets": [
         0
        ],
        "position": [
         49,
         115,
         -108
        ],
        "scale": 1,
        "scene": "<openalea.plantgl.scenegraph._pglsg.Scene object at 0x7fef4ed205e0>"
       },
       "scene_PmXuUwZSV6k4Inqvb4Ox9urbT": {
        "offsets": [
         0
        ],
        "position": [
         -104,
         -106,
         -10
        ],
        "scale": 1,
        "scene": "<openalea.plantgl.scenegraph._pglsg.Scene object at 0x7fef4ecbc0d8>"
       },
       "scene_PyCGsXo20bP1nIpUR22sRevc7": {
        "offsets": [
         0
        ],
        "position": [
         -71,
         -52,
         126
        ],
        "scale": 1,
        "scene": "<openalea.plantgl.scenegraph._pglsg.Scene object at 0x7fef4ec1d3b0>"
       },
       "scene_Q8hLVQ53iKYIfaeEoHZ9oGdJA": {
        "offsets": [
         0
        ],
        "position": [
         -50,
         -13,
         75
        ],
        "scale": 1,
        "scene": "<openalea.plantgl.scenegraph._pglsg.Scene object at 0x7fef4ec1de30>"
       },
       "scene_QCXpgdRhm0ajPdAIMw0vc2gVz": {
        "offsets": [
         0
        ],
        "position": [
         -121,
         -96,
         -45
        ],
        "scale": 1,
        "scene": "<openalea.plantgl.scenegraph._pglsg.Scene object at 0x7fef4ebd8ae8>"
       },
       "scene_QGInqHuopt87y4Q8H8sm9QdiY": {
        "offsets": [
         0
        ],
        "position": [
         -50,
         -2,
         -124
        ],
        "scale": 1,
        "scene": "<openalea.plantgl.scenegraph._pglsg.Scene object at 0x7fef4ef2db90>"
       },
       "scene_QOJALiBwSJp2NhuBLjA5M5URU": {
        "offsets": [
         0
        ],
        "position": [
         78,
         -103,
         -22
        ],
        "scale": 1,
        "scene": "<openalea.plantgl.scenegraph._pglsg.Scene object at 0x7fef4eddf3e8>"
       },
       "scene_QqbhvcFQzpP0yiUVjCoe1GsnB": {
        "offsets": [
         0
        ],
        "position": [
         44,
         -58,
         62
        ],
        "scale": 1,
        "scene": "<openalea.plantgl.scenegraph._pglsg.Scene object at 0x7fef4ee35b20>"
       },
       "scene_R5ZwQ80iGdtcSNhk8r69U1wM8": {
        "offsets": [
         0
        ],
        "position": [
         -115,
         -92,
         -9
        ],
        "scale": 1,
        "scene": "<openalea.plantgl.scenegraph._pglsg.Scene object at 0x7fef4ebfbf48>"
       },
       "scene_RnyLYmnOiaqOCxeVJrEtsyDgk": {
        "offsets": [
         0
        ],
        "position": [
         -24,
         114,
         -73
        ],
        "scale": 1,
        "scene": "<openalea.plantgl.scenegraph._pglsg.Scene object at 0x7fef4eef0378>"
       },
       "scene_SSvOSpwTWTxUXR4C8HpD2j9fG": {
        "offsets": [
         0
        ],
        "position": [
         39,
         -41,
         -43
        ],
        "scale": 1,
        "scene": "<openalea.plantgl.scenegraph._pglsg.Scene object at 0x7fef4eb62e68>"
       },
       "scene_SVeXw60wYyonc53nrWQ6OnmXW": {
        "offsets": [
         0
        ],
        "position": [
         -37,
         57,
         1
        ],
        "scale": 1,
        "scene": "<openalea.plantgl.scenegraph._pglsg.Scene object at 0x7fef4eb9b378>"
       },
       "scene_SdBjMwFaTjh5JVQZ0av4WyPZA": {
        "offsets": [
         0
        ],
        "position": [
         35,
         -54,
         65
        ],
        "scale": 1,
        "scene": "<openalea.plantgl.scenegraph._pglsg.Scene object at 0x7fef4eb45e68>"
       },
       "scene_SuQarjzdExFwrhvhFjPYi3WLb": {
        "offsets": [
         0
        ],
        "position": [
         65,
         -29,
         21
        ],
        "scale": 1,
        "scene": "<openalea.plantgl.scenegraph._pglsg.Scene object at 0x7fef4ec2f7a0>"
       },
       "scene_Szn6iZM3zOV06YpBUUADq76M3": {
        "offsets": [
         0
        ],
        "position": [
         119,
         -68,
         -80
        ],
        "scale": 1,
        "scene": "<openalea.plantgl.scenegraph._pglsg.Scene object at 0x7fef4ef69538>"
       },
       "scene_TAQx8GqTjXkAlGbfIqUbJkdBp": {
        "offsets": [
         0
        ],
        "position": [
         -29,
         66,
         -47
        ],
        "scale": 1,
        "scene": "<openalea.plantgl.scenegraph._pglsg.Scene object at 0x7fef4eed4650>"
       },
       "scene_ToAuy7vnPArjUUaMnabAG4F9S": {
        "offsets": [
         0
        ],
        "position": [
         63,
         -119,
         117
        ],
        "scale": 1,
        "scene": "<openalea.plantgl.scenegraph._pglsg.Scene object at 0x7fef4eb93688>"
       },
       "scene_Tug4jd92LUsFY4WCvXeab4x2K": {
        "offsets": [
         0
        ],
        "position": [
         -120,
         -123,
         -114
        ],
        "scale": 1,
        "scene": "<openalea.plantgl.scenegraph._pglsg.Scene object at 0x7fef4ebe87a0>"
       },
       "scene_UfEe2KQeHICkopetN5pTRxtRS": {
        "offsets": [
         0
        ],
        "position": [
         -41,
         -77,
         119
        ],
        "scale": 1,
        "scene": "<openalea.plantgl.scenegraph._pglsg.Scene object at 0x7fef4ed20810>"
       },
       "scene_Ukw78vacs6VXAtlpq7JqnwQrg": {
        "offsets": [
         0
        ],
        "position": [
         16,
         53,
         -32
        ],
        "scale": 1,
        "scene": "<openalea.plantgl.scenegraph._pglsg.Scene object at 0x7fef4ec78298>"
       },
       "scene_Ulk9Ce0SZ0jKCi2ZUOKkIQTGS": {
        "offsets": [
         0
        ],
        "position": [
         -93,
         63,
         -80
        ],
        "scale": 1,
        "scene": "<openalea.plantgl.scenegraph._pglsg.Scene object at 0x7fef4ebc83e8>"
       },
       "scene_UwbrdQDcY5UEYCNuZmecVyaiI": {
        "offsets": [
         0
        ],
        "position": [
         30,
         46,
         37
        ],
        "scale": 1,
        "scene": "<openalea.plantgl.scenegraph._pglsg.Scene object at 0x7fef4ebfb180>"
       },
       "scene_V3FkNuHWWCCaVwti1szPRKnIB": {
        "offsets": [
         0
        ],
        "position": [
         -103,
         42,
         -118
        ],
        "scale": 1,
        "scene": "<openalea.plantgl.scenegraph._pglsg.Scene object at 0x7fef4ecbc490>"
       },
       "scene_Vo6e9XPrSdlZWuj2lDdwbHkv7": {
        "offsets": [
         0
        ],
        "position": [
         117,
         48,
         -62
        ],
        "scale": 1,
        "scene": "<openalea.plantgl.scenegraph._pglsg.Scene object at 0x7fef4eed4f10>"
       },
       "scene_W2IMFmwZHlzQv9kEKReZgIiqQ": {
        "offsets": [
         0
        ],
        "position": [
         24,
         108,
         42
        ],
        "scale": 1,
        "scene": "<openalea.plantgl.scenegraph._pglsg.Scene object at 0x7fef4eed4ab0>"
       },
       "scene_WQkJxcmQSgM8gkSNqgNiEXbA0": {
        "offsets": [
         0
        ],
        "position": [
         121,
         122,
         117
        ],
        "scale": 1,
        "scene": "<openalea.plantgl.scenegraph._pglsg.Scene object at 0x7fef4eec58f0>"
       },
       "scene_WoJwD6HxQptcdXqH2GObJFMrS": {
        "offsets": [
         0
        ],
        "position": [
         22,
         -95,
         -56
        ],
        "scale": 1,
        "scene": "<openalea.plantgl.scenegraph._pglsg.Scene object at 0x7fef4eadfae8>"
       },
       "scene_XQsYuRCbJkNYjOatglxL2buZo": {
        "offsets": [
         0
        ],
        "position": [
         -63,
         -30,
         90
        ],
        "scale": 1,
        "scene": "<openalea.plantgl.scenegraph._pglsg.Scene object at 0x7fef4ec43960>"
       },
       "scene_XXcFQLybIjjixOrgF9RYmKNn6": {
        "offsets": [
         0
        ],
        "position": [
         -20,
         -62,
         5
        ],
        "scale": 1,
        "scene": "<openalea.plantgl.scenegraph._pglsg.Scene object at 0x7fef4ed05650>"
       },
       "scene_Xg0Uexm0m3vbVNSW2u66E5wMa": {
        "offsets": [
         0
        ],
        "position": [
         -50,
         65,
         86
        ],
        "scale": 1,
        "scene": "<openalea.plantgl.scenegraph._pglsg.Scene object at 0x7fef4ec02260>"
       },
       "scene_YG1ww5bjnGGQHj4wcKs1OHOqs": {
        "offsets": [
         0
        ],
        "position": [
         108,
         -53,
         -120
        ],
        "scale": 1,
        "scene": "<openalea.plantgl.scenegraph._pglsg.Scene object at 0x7fef4ebc8d50>"
       },
       "scene_YHLU9wmlWvxmgMJwaZWYyg5En": {
        "offsets": [
         0
        ],
        "position": [
         -46,
         67,
         -7
        ],
        "scale": 1,
        "scene": "<openalea.plantgl.scenegraph._pglsg.Scene object at 0x7fef4ec2ca40>"
       },
       "scene_YTo7EfvaQJ7ICPdr137loY09v": {
        "offsets": [
         0
        ],
        "position": [
         4,
         125,
         25
        ],
        "scale": 1,
        "scene": "<openalea.plantgl.scenegraph._pglsg.Scene object at 0x7fef4ec2fdc0>"
       },
       "scene_YfKpSfwFOGOKwjutuMK3oN1XR": {
        "offsets": [
         0
        ],
        "position": [
         -75,
         39,
         81
        ],
        "scale": 1,
        "scene": "<openalea.plantgl.scenegraph._pglsg.Scene object at 0x7fef4f849a40>"
       },
       "scene_YowuYqNduMIkHTw7WCQ0fmmmz": {
        "offsets": [
         0
        ],
        "position": [
         123,
         61,
         74
        ],
        "scale": 1,
        "scene": "<openalea.plantgl.scenegraph._pglsg.Scene object at 0x7fef4eb7cca8>"
       },
       "scene_ZFdhn1ZYMmWDHkeYwHSdKvghs": {
        "offsets": [
         0
        ],
        "position": [
         -101,
         27,
         24
        ],
        "scale": 1,
        "scene": "<openalea.plantgl.scenegraph._pglsg.Scene object at 0x7fef4eadf3e8>"
       },
       "scene_ZNmKZNqZwSUMX1B2MJoZrNFsE": {
        "offsets": [
         0
        ],
        "position": [
         -20,
         -46,
         66
        ],
        "scale": 1,
        "scene": "<openalea.plantgl.scenegraph._pglsg.Scene object at 0x7fef4ec1da40>"
       },
       "scene_ZghE3b0dmnWKEL1q6ex8vjLnG": {
        "offsets": [
         0
        ],
        "position": [
         113,
         -76,
         -97
        ],
        "scale": 1,
        "scene": "<openalea.plantgl.scenegraph._pglsg.Scene object at 0x7fef4ee354c8>"
       },
       "scene_ZqaIKV6cCJ1LRemJtXMv2Utfk": {
        "offsets": [
         0
        ],
        "position": [
         -18,
         126,
         76
        ],
        "scale": 1,
        "scene": "<openalea.plantgl.scenegraph._pglsg.Scene object at 0x7fef4eddf228>"
       },
       "scene_ZsT5h4goyjmIyGkkm0MPqMSpU": {
        "offsets": [
         0
        ],
        "position": [
         -24,
         -47,
         -68
        ],
        "scale": 1,
        "scene": "<openalea.plantgl.scenegraph._pglsg.Scene object at 0x7fef4ed9aa40>"
       },
       "scene_aLJvX6yPcyik7n3tGJgLmtfjP": {
        "offsets": [
         0
        ],
        "position": [
         4,
         35,
         -94
        ],
        "scale": 1,
        "scene": "<openalea.plantgl.scenegraph._pglsg.Scene object at 0x7fef4ef23998>"
       },
       "scene_aNhVVRPIbK1Y4baWApjsl7oSY": {
        "offsets": [
         0
        ],
        "position": [
         -122,
         -102,
         -51
        ],
        "scale": 1,
        "scene": "<openalea.plantgl.scenegraph._pglsg.Scene object at 0x7fef4eaed228>"
       },
       "scene_ahgcBLqEScL4130leRsOYof3z": {
        "offsets": [
         0
        ],
        "position": [
         116,
         -28,
         85
        ],
        "scale": 1,
        "scene": "<openalea.plantgl.scenegraph._pglsg.Scene object at 0x7fef4eb29e68>"
       },
       "scene_bBj7b3pGu33bpVFGsamL5luCp": {
        "offsets": [
         0
        ],
        "position": [
         -121,
         -91,
         120
        ],
        "scale": 1,
        "scene": "<openalea.plantgl.scenegraph._pglsg.Scene object at 0x7fef4eadf768>"
       },
       "scene_bVQTXrNCruEq12l2itGskWdpl": {
        "offsets": [
         0
        ],
        "position": [
         -14,
         -71,
         -80
        ],
        "scale": 1,
        "scene": "<openalea.plantgl.scenegraph._pglsg.Scene object at 0x7fef4ef2d340>"
       },
       "scene_bd9NKe01v9ws8fVBDKd8hzLvo": {
        "offsets": [
         0
        ],
        "position": [
         81,
         -109,
         43
        ],
        "scale": 1,
        "scene": "<openalea.plantgl.scenegraph._pglsg.Scene object at 0x7fef4ef0d570>"
       },
       "scene_byrWYBt4WTh7RCYQO5fg9eRDL": {
        "offsets": [
         0
        ],
        "position": [
         0,
         -25,
         44
        ],
        "scale": 1,
        "scene": "<openalea.plantgl.scenegraph._pglsg.Scene object at 0x7fef4ec43500>"
       },
       "scene_cM5y9nq0cCMujHzrWzJMG3xvh": {
        "offsets": [
         0
        ],
        "position": [
         -34,
         64,
         75
        ],
        "scale": 1,
        "scene": "<openalea.plantgl.scenegraph._pglsg.Scene object at 0x7fef4ed9a570>"
       },
       "scene_cN0VSVztQvKFbKXfx6BZuwUD7": {
        "offsets": [
         0
        ],
        "position": [
         -99,
         -108,
         -64
        ],
        "scale": 1,
        "scene": "<openalea.plantgl.scenegraph._pglsg.Scene object at 0x7fef4eec5d50>"
       },
       "scene_d9YbIly7GcT9ioi6rhAI5DQB9": {
        "offsets": [
         0
        ],
        "position": [
         -117,
         33,
         54
        ],
        "scale": 1,
        "scene": "<openalea.plantgl.scenegraph._pglsg.Scene object at 0x7fef4ec1d030>"
       },
       "scene_dD6nmBjuujVb00OEDGAZyM6Of": {
        "offsets": [
         0
        ],
        "position": [
         -38,
         68,
         54
        ],
        "scale": 1,
        "scene": "<openalea.plantgl.scenegraph._pglsg.Scene object at 0x7fef4ec2c3b0>"
       },
       "scene_dD7cx9Cn9xxBbyKeSXa2t1Omo": {
        "offsets": [
         0
        ],
        "position": [
         104,
         -52,
         -124
        ],
        "scale": 1,
        "scene": "<openalea.plantgl.scenegraph._pglsg.Scene object at 0x7fef4ec2f9d0>"
       },
       "scene_dIIUhW94A7urD0UEEkx3hXeHX": {
        "offsets": [
         0
        ],
        "position": [
         -73,
         8,
         97
        ],
        "scale": 1,
        "scene": "<openalea.plantgl.scenegraph._pglsg.Scene object at 0x7fef4ec78dc0>"
       },
       "scene_dL1IDFoA67mv4JVF0CCSTEM8o": {
        "offsets": [
         0
        ],
        "position": [
         121,
         -103,
         117
        ],
        "scale": 1,
        "scene": "<openalea.plantgl.scenegraph._pglsg.Scene object at 0x7fef4eb0be30>"
       },
       "scene_eQWp7uVJoj433zxqlzwvVGF7w": {
        "offsets": [
         0
        ],
        "position": [
         66,
         17,
         37
        ],
        "scale": 1,
        "scene": "<openalea.plantgl.scenegraph._pglsg.Scene object at 0x7fef4eddf880>"
       },
       "scene_eRKwYD3O8uHHRvnp3cuAcxaul": {
        "offsets": [
         0
        ],
        "position": [
         -102,
         -90,
         17
        ],
        "scale": 1,
        "scene": "<openalea.plantgl.scenegraph._pglsg.Scene object at 0x7fef4eadfe68>"
       },
       "scene_eRgYXzEShb5y4qdbhIk57CMib": {
        "offsets": [
         0
        ],
        "position": [
         49,
         -116,
         -96
        ],
        "scale": 1,
        "scene": "<openalea.plantgl.scenegraph._pglsg.Scene object at 0x7fef4eb29030>"
       },
       "scene_ep7rA3md6k9niowLMG4yDyt70": {
        "offsets": [
         0
        ],
        "position": [
         -44,
         113,
         -91
        ],
        "scale": 1,
        "scene": "<openalea.plantgl.scenegraph._pglsg.Scene object at 0x7fef4ed20030>"
       },
       "scene_etUVHxENklIieqkSdQcialdny": {
        "offsets": [
         0
        ],
        "position": [
         -125,
         95,
         55
        ],
        "scale": 1,
        "scene": "<openalea.plantgl.scenegraph._pglsg.Scene object at 0x7fef4ed203b0>"
       },
       "scene_etcHr4mLCbtu994QBMSn3N8GQ": {
        "offsets": [
         0
        ],
        "position": [
         -74,
         94,
         -117
        ],
        "scale": 1,
        "scene": "<openalea.plantgl.scenegraph._pglsg.Scene object at 0x7fef4ec78500>"
       },
       "scene_f7SAXpyQEWTfAXrvZcfdaRVMH": {
        "offsets": [
         0
        ],
        "position": [
         52,
         -60,
         -67
        ],
        "scale": 1,
        "scene": "<openalea.plantgl.scenegraph._pglsg.Scene object at 0x7fef4efb4148>"
       },
       "scene_fORvj1gAqjiXUIIsZaQIYFSrb": {
        "offsets": [
         0
        ],
        "position": [
         100,
         -118,
         28
        ],
        "scale": 1,
        "scene": "<openalea.plantgl.scenegraph._pglsg.Scene object at 0x7fef4eaed928>"
       },
       "scene_fZbcPEHbk8NP5xOsZULHkGDQi": {
        "offsets": [
         0
        ],
        "position": [
         -72,
         -62,
         -44
        ],
        "scale": 1,
        "scene": "<openalea.plantgl.scenegraph._pglsg.Scene object at 0x7fef4ead2ca8>"
       },
       "scene_fhAOsEYYnDffX7JHPYxr1HNY4": {
        "offsets": [
         0
        ],
        "position": [
         92,
         24,
         0
        ],
        "scale": 1,
        "scene": "<openalea.plantgl.scenegraph._pglsg.Scene object at 0x7fef4ebd8f80>"
       },
       "scene_frdqSVJthYF0ZS2hCXsqm33je": {
        "offsets": [
         0
        ],
        "position": [
         125,
         -24,
         47
        ],
        "scale": 1,
        "scene": "<openalea.plantgl.scenegraph._pglsg.Scene object at 0x7fef4eb29ab0>"
       },
       "scene_fw248qXRbJg4eXwwZjRHu7KAR": {
        "offsets": [
         0
        ],
        "position": [
         95,
         -84,
         -97
        ],
        "scale": 1,
        "scene": "<openalea.plantgl.scenegraph._pglsg.Scene object at 0x7fef4eb45768>"
       },
       "scene_g3BPOSevvAYrniwbBbUC2gfDz": {
        "offsets": [
         0
        ],
        "position": [
         109,
         -116,
         23
        ],
        "scale": 1,
        "scene": "<openalea.plantgl.scenegraph._pglsg.Scene object at 0x7fef4eb35228>"
       },
       "scene_gx32vO3BLJhavMeTDiHT4nVZU": {
        "offsets": [
         0
        ],
        "position": [
         -41,
         -31,
         89
        ],
        "scale": 1,
        "scene": "<openalea.plantgl.scenegraph._pglsg.Scene object at 0x7fef4eb622d0>"
       },
       "scene_gzcbS3qocWMARmVtjL3DnhTI8": {
        "offsets": [
         0
        ],
        "position": [
         77,
         68,
         70
        ],
        "scale": 1,
        "scene": "<openalea.plantgl.scenegraph._pglsg.Scene object at 0x7fef4ecbc618>"
       },
       "scene_h3ARaizhNbHNSbOHPhCtQwgga": {
        "offsets": [
         0
        ],
        "position": [
         77,
         70,
         117
        ],
        "scale": 1,
        "scene": "<openalea.plantgl.scenegraph._pglsg.Scene object at 0x7fef4ec1d810>"
       },
       "scene_h5JNLNt7Ue47JGLczS4KllPrG": {
        "offsets": [
         0
        ],
        "position": [
         -40,
         -31,
         -125
        ],
        "scale": 1,
        "scene": "<openalea.plantgl.scenegraph._pglsg.Scene object at 0x7fef4ec1dea0>"
       },
       "scene_hnBL0a7Ft0Z0FP2FGs7rETpQ7": {
        "offsets": [
         0
        ],
        "position": [
         34,
         54,
         -121
        ],
        "scale": 1,
        "scene": "<openalea.plantgl.scenegraph._pglsg.Scene object at 0x7fef4ec2ce30>"
       },
       "scene_htWppHCSlTF4O1SNklbylT2zy": {
        "offsets": [
         0
        ],
        "position": [
         45,
         -19,
         -122
        ],
        "scale": 1,
        "scene": "<openalea.plantgl.scenegraph._pglsg.Scene object at 0x7fef4ec1d5e0>"
       },
       "scene_i8SnexaYVFf9eMh1ngTq63cp3": {
        "offsets": [
         0
        ],
        "position": [
         65,
         0,
         57
        ],
        "scale": 1,
        "scene": "<openalea.plantgl.scenegraph._pglsg.Scene object at 0x7fef4eb355a8>"
       },
       "scene_iBoyVkXF7WM34N2qcbMqri0Ja": {
        "offsets": [
         0
        ],
        "position": [
         55,
         -87,
         -50
        ],
        "scale": 1,
        "scene": "<openalea.plantgl.scenegraph._pglsg.Scene object at 0x7fef4eec56c0>"
       },
       "scene_iNGLwGSznLvUVYiDvrNZ1XA1g": {
        "offsets": [
         0
        ],
        "position": [
         -88,
         35,
         -121
        ],
        "scale": 1,
        "scene": "<openalea.plantgl.scenegraph._pglsg.Scene object at 0x7fef4eb0bab0>"
       },
       "scene_iNLHPmOfkp0VyimsqSvJn5Chk": {
        "offsets": [
         0
        ],
        "position": [
         86,
         119,
         12
        ],
        "scale": 1,
        "scene": "<openalea.plantgl.scenegraph._pglsg.Scene object at 0x7fef4eb93570>"
       },
       "scene_ii17LmgI49lwByBKt8D5fmWyF": {
        "offsets": [
         0
        ],
        "position": [
         53,
         -42,
         -93
        ],
        "scale": 1,
        "scene": "<openalea.plantgl.scenegraph._pglsg.Scene object at 0x7fef4ebfb308>"
       },
       "scene_j1lBu7Pcp93aOCNLJkfqn9Xdp": {
        "offsets": [
         0
        ],
        "position": [
         35,
         -63,
         -54
        ],
        "scale": 1,
        "scene": "<openalea.plantgl.scenegraph._pglsg.Scene object at 0x7fef4eb18c70>"
       },
       "scene_j1tlv3yyTcTM56i8QZvr89JY4": {
        "offsets": [
         0
        ],
        "position": [
         -75,
         -125,
         -69
        ],
        "scale": 1,
        "scene": "<openalea.plantgl.scenegraph._pglsg.Scene object at 0x7fef4ed20260>"
       },
       "scene_jEhnXtP3t0Y96uMm21mQdWFnT": {
        "offsets": [
         0
        ],
        "position": [
         117,
         -101,
         -79
        ],
        "scale": 1,
        "scene": "<openalea.plantgl.scenegraph._pglsg.Scene object at 0x7fef4ee35928>"
       },
       "scene_jJE4YNp1i7FcGuTZbYytFCngt": {
        "offsets": [
         0
        ],
        "position": [
         -99,
         0,
         -107
        ],
        "scale": 1,
        "scene": "<openalea.plantgl.scenegraph._pglsg.Scene object at 0x7fef4eef03e8>"
       },
       "scene_ktdQwxzupRy0k5XArtRPm0G42": {
        "offsets": [
         0
        ],
        "position": [
         7,
         89,
         -71
        ],
        "scale": 1,
        "scene": "<openalea.plantgl.scenegraph._pglsg.Scene object at 0x7fef4ec2cea0>"
       },
       "scene_kuEzmkuDvm2wjeEbg6t8lXlUz": {
        "offsets": [
         0
        ],
        "position": [
         -123,
         -109,
         -61
        ],
        "scale": 1,
        "scene": "<openalea.plantgl.scenegraph._pglsg.Scene object at 0x7fef4eb7c928>"
       },
       "scene_l5W80Zzn2YO1PsLRRHtRSUtq4": {
        "offsets": [
         0
        ],
        "position": [
         68,
         -126,
         58
        ],
        "scale": 1,
        "scene": "<openalea.plantgl.scenegraph._pglsg.Scene object at 0x7fef4eb9b0d8>"
       },
       "scene_lL1g1atUtbf7bs626hDEBiyfH": {
        "offsets": [
         0
        ],
        "position": [
         -62,
         96,
         10
        ],
        "scale": 1,
        "scene": "<openalea.plantgl.scenegraph._pglsg.Scene object at 0x7fef4ec2fc00>"
       },
       "scene_lL1oWrNcGeh1iqZotAZCaY7FT": {
        "offsets": [
         0
        ],
        "position": [
         17,
         17,
         82
        ],
        "scale": 1,
        "scene": "<openalea.plantgl.scenegraph._pglsg.Scene object at 0x7fef4eddf8f0>"
       },
       "scene_lSBskHWrsZlnwJnu5C3Dsylyf": {
        "offsets": [
         0
        ],
        "position": [
         -20,
         -35,
         92
        ],
        "scale": 1,
        "scene": "<openalea.plantgl.scenegraph._pglsg.Scene object at 0x7fef4eed4880>"
       },
       "scene_mVjjenN8q0X0USR1plEUEmAHj": {
        "offsets": [
         0
        ],
        "position": [
         19,
         12,
         50
        ],
        "scale": 1,
        "scene": "<openalea.plantgl.scenegraph._pglsg.Scene object at 0x7fef4eb450a0>"
       },
       "scene_mdQxD4maY67rT240yZOkuyPqy": {
        "offsets": [
         0
        ],
        "position": [
         -44,
         -118,
         -34
        ],
        "scale": 1,
        "scene": "<openalea.plantgl.scenegraph._pglsg.Scene object at 0x7fef4eb29730>"
       },
       "scene_mdekAXAmevZOL2f0Qjf7khN1j": {
        "offsets": [
         0
        ],
        "position": [
         -76,
         72,
         -55
        ],
        "scale": 1,
        "scene": "<openalea.plantgl.scenegraph._pglsg.Scene object at 0x7fef4ee06f48>"
       },
       "scene_n3xvJshN3N6dC0C1LBpLOKpv0": {
        "offsets": [
         0
        ],
        "position": [
         76,
         -2,
         -48
        ],
        "scale": 1,
        "scene": "<openalea.plantgl.scenegraph._pglsg.Scene object at 0x7fef4eed41f0>"
       },
       "scene_nWEUKaYWYJCbiFADmmg3F3EYR": {
        "offsets": [
         0
        ],
        "position": [
         -119,
         -14,
         -110
        ],
        "scale": 1,
        "scene": "<openalea.plantgl.scenegraph._pglsg.Scene object at 0x7fef4eed4ce0>"
       },
       "scene_nXQWm9EzdO2afME1Y1PnYOxLZ": {
        "offsets": [
         0
        ],
        "position": [
         90,
         -83,
         37
        ],
        "scale": 1,
        "scene": "<openalea.plantgl.scenegraph._pglsg.Scene object at 0x7fef4ebd8490>"
       },
       "scene_naIY4W2sjNqvPgkuBeJgTGsk5": {
        "offsets": [
         0
        ],
        "position": [
         -66,
         112,
         26
        ],
        "scale": 1,
        "scene": "<openalea.plantgl.scenegraph._pglsg.Scene object at 0x7fef4ee06b20>"
       },
       "scene_nzcsy5pLnZdxQiCMiL0SeIvOK": {
        "offsets": [
         0
        ],
        "position": [
         -102,
         -29,
         80
        ],
        "scale": 1,
        "scene": "<openalea.plantgl.scenegraph._pglsg.Scene object at 0x7fef4ef7e260>"
       },
       "scene_o3AlTtleO4sbUci7GDWjxrDmk": {
        "offsets": [
         0
        ],
        "position": [
         -59,
         120,
         -70
        ],
        "scale": 1,
        "scene": "<openalea.plantgl.scenegraph._pglsg.Scene object at 0x7fef4ec02b20>"
       },
       "scene_oVyixgHz9OlaQOuLVM1WfIBNv": {
        "offsets": [
         0
        ],
        "position": [
         -79,
         -108,
         -72
        ],
        "scale": 1,
        "scene": "<openalea.plantgl.scenegraph._pglsg.Scene object at 0x7fef4eb56f10>"
       },
       "scene_ofXiwOKd2Sh1WXlwqI7eAxEgH": {
        "offsets": [
         0
        ],
        "position": [
         4,
         -50,
         -58
        ],
        "scale": 1,
        "scene": "<openalea.plantgl.scenegraph._pglsg.Scene object at 0x7fef4ee6ed18>"
       },
       "scene_oySKpGKKkgZLQsRxGECRDbB1O": {
        "offsets": [
         0
        ],
        "position": [
         -60,
         45,
         -90
        ],
        "scale": 1,
        "scene": "<openalea.plantgl.scenegraph._pglsg.Scene object at 0x7fef4eb56810>"
       },
       "scene_p1lbpPSzhVVCRxR9rkSyGFsBe": {
        "offsets": [
         0
        ],
        "position": [
         18,
         19,
         -71
        ],
        "scale": 1,
        "scene": "<openalea.plantgl.scenegraph._pglsg.Scene object at 0x7fef4efb4768>"
       },
       "scene_pWpwPr05pHey4L1vJWCWYmovA": {
        "offsets": [
         0
        ],
        "position": [
         20,
         -57,
         -28
        ],
        "scale": 1,
        "scene": "<openalea.plantgl.scenegraph._pglsg.Scene object at 0x7fef4ec2f340>"
       },
       "scene_qJ4mvlT8IaG0KKSYjSAFI4slk": {
        "offsets": [
         0
        ],
        "position": [
         27,
         -62,
         -82
        ],
        "scale": 1,
        "scene": "<openalea.plantgl.scenegraph._pglsg.Scene object at 0x7fef4ebc8650>"
       },
       "scene_qNZOUsUiclpPjkpJnIJGDPceg": {
        "offsets": [
         0
        ],
        "position": [
         115,
         -53,
         -25
        ],
        "scale": 1,
        "scene": "<openalea.plantgl.scenegraph._pglsg.Scene object at 0x7fef4ed9a260>"
       },
       "scene_qSlSqGZHRsHTfP7lmsZL1qUcE": {
        "offsets": [
         0
        ],
        "position": [
         107,
         -100,
         114
        ],
        "scale": 1,
        "scene": "<openalea.plantgl.scenegraph._pglsg.Scene object at 0x7fef4ead2228>"
       },
       "scene_qwJY9slMPN2ErYhTJWgVZmTSy": {
        "offsets": [
         0
        ],
        "position": [
         121,
         67,
         68
        ],
        "scale": 1,
        "scene": "<openalea.plantgl.scenegraph._pglsg.Scene object at 0x7fef4ef2ddc0>"
       },
       "scene_rAfDSKPQ7LRWIb9sPxfz1FxGO": {
        "offsets": [
         0
        ],
        "position": [
         -38,
         -117,
         81
        ],
        "scale": 1,
        "scene": "<openalea.plantgl.scenegraph._pglsg.Scene object at 0x7fef4ee35500>"
       },
       "scene_rPhVmNSconOolfDBIOjel10y3": {
        "offsets": [
         0
        ],
        "position": [
         24,
         36,
         42
        ],
        "scale": 1,
        "scene": "<openalea.plantgl.scenegraph._pglsg.Scene object at 0x7fef4ec2c998>"
       },
       "scene_rPpUuPt4a58tSgcc8pbadRk3y": {
        "offsets": [
         0
        ],
        "position": [
         -36,
         86,
         -37
        ],
        "scale": 1,
        "scene": "<openalea.plantgl.scenegraph._pglsg.Scene object at 0x7fef4ebbd3e8>"
       },
       "scene_rUhqjkWGSBfo8kXMPiePfGvoH": {
        "offsets": [
         0
        ],
        "position": [
         -63,
         41,
         -6
        ],
        "scale": 1,
        "scene": "<openalea.plantgl.scenegraph._pglsg.Scene object at 0x7fef4ead25a8>"
       },
       "scene_rtWVBcGITzgV3nX7NIAP8mBxD": {
        "offsets": [
         0
        ],
        "position": [
         -42,
         -17,
         75
        ],
        "scale": 1,
        "scene": "<openalea.plantgl.scenegraph._pglsg.Scene object at 0x7fef4eb188f0>"
       },
       "scene_sRkj5RgpeajAh61YGudtZ4bR0": {
        "offsets": [
         0
        ],
        "position": [
         -1,
         -58,
         103
        ],
        "scale": 1,
        "scene": "<openalea.plantgl.scenegraph._pglsg.Scene object at 0x7fef4ecbcd18>"
       },
       "scene_sfYuOQWJ5KtC8tHRZd1csfxem": {
        "offsets": [
         0
        ],
        "position": [
         75,
         -124,
         50
        ],
        "scale": 1,
        "scene": "<openalea.plantgl.scenegraph._pglsg.Scene object at 0x7fef4ebfb8b8>"
       },
       "scene_sn8t4ESITW5pzpf8Ou0hULRDP": {
        "offsets": [
         0
        ],
        "position": [
         -104,
         -9,
         -32
        ],
        "scale": 1,
        "scene": "<openalea.plantgl.scenegraph._pglsg.Scene object at 0x7fef4ef69500>"
       },
       "scene_srghy9Q2v68y5YKC9dEAqObfM": {
        "offsets": [
         0
        ],
        "position": [
         -85,
         34,
         -108
        ],
        "scale": 1,
        "scene": "<openalea.plantgl.scenegraph._pglsg.Scene object at 0x7fef4ecbcab0>"
       },
       "scene_t2nl9cXP0ffWYc0eyS7uPCCkF": {
        "offsets": [
         0
        ],
        "position": [
         87,
         -10,
         105
        ],
        "scale": 1,
        "scene": "<openalea.plantgl.scenegraph._pglsg.Scene object at 0x7fef4ec2c1b8>"
       },
       "scene_tY233TYSgX1Oa0gcNedgRRl4x": {
        "offsets": [
         0
        ],
        "position": [
         41,
         -36,
         80
        ],
        "scale": 1,
        "scene": "<openalea.plantgl.scenegraph._pglsg.Scene object at 0x7fef4eb629d0>"
       },
       "scene_trJXAYMwjUPsroZypuCiW7CMc": {
        "offsets": [
         0
        ],
        "position": [
         -45,
         -15,
         101
        ],
        "scale": 1,
        "scene": "<openalea.plantgl.scenegraph._pglsg.Scene object at 0x7fef4ecbc8f0>"
       },
       "scene_txaUQHL75nCos65qwlPdmzrfm": {
        "offsets": [
         0
        ],
        "position": [
         0,
         8,
         112
        ],
        "scale": 1,
        "scene": "<openalea.plantgl.scenegraph._pglsg.Scene object at 0x7fef4ef69378>"
       },
       "scene_uKLSI62juHK7kpjlwcnkbwV9s": {
        "offsets": [
         0
        ],
        "position": [
         -87,
         116,
         63
        ],
        "scale": 1,
        "scene": "<openalea.plantgl.scenegraph._pglsg.Scene object at 0x7fef4eb9bd50>"
       },
       "scene_uXRnZ7uWwuchlO9AvJfTi6DaA": {
        "offsets": [
         0
        ],
        "position": [
         -38,
         48,
         -99
        ],
        "scale": 1,
        "scene": "<openalea.plantgl.scenegraph._pglsg.Scene object at 0x7fef4ec021b8>"
       },
       "scene_uhA8qbl1bxoLLDZKiBHzaMbG1": {
        "offsets": [
         0
        ],
        "position": [
         46,
         66,
         102
        ],
        "scale": 1,
        "scene": "<openalea.plantgl.scenegraph._pglsg.Scene object at 0x7fef4ec78650>"
       },
       "scene_usCOcAqvrNx1Syy9px5O8PaiK": {
        "offsets": [
         0
        ],
        "position": [
         -111,
         -35,
         -27
        ],
        "scale": 1,
        "scene": "<openalea.plantgl.scenegraph._pglsg.Scene object at 0x7fef4eb56b90>"
       },
       "scene_v3eIjMECUEitwfB7PoCah2nvK": {
        "offsets": [
         0
        ],
        "position": [
         27,
         -64,
         -106
        ],
        "scale": 1,
        "scene": "<openalea.plantgl.scenegraph._pglsg.Scene object at 0x7fef4ec02d50>"
       },
       "scene_vUmnZKnG0n1qHreA2Xnv0gJiI": {
        "offsets": [
         0
        ],
        "position": [
         -92,
         70,
         126
        ],
        "scale": 1,
        "scene": "<openalea.plantgl.scenegraph._pglsg.Scene object at 0x7fef4ec43f48>"
       },
       "scene_vWcTnkHuIkmbINuMOvOqV9L4p": {
        "offsets": [
         0
        ],
        "position": [
         -98,
         62,
         103
        ],
        "scale": 1,
        "scene": "<openalea.plantgl.scenegraph._pglsg.Scene object at 0x7fef4eb9b030>"
       },
       "scene_wQPZbEybHCaP9O8S1js9tn29W": {
        "offsets": [
         0
        ],
        "position": [
         43,
         -101,
         -28
        ],
        "scale": 1,
        "scene": "<openalea.plantgl.scenegraph._pglsg.Scene object at 0x7fef4ef69998>"
       },
       "scene_wRoYjI8GFIRd9beprnFWK0t5y": {
        "offsets": [
         0
        ],
        "position": [
         41,
         26,
         3
        ],
        "scale": 1,
        "scene": "<openalea.plantgl.scenegraph._pglsg.Scene object at 0x7fef4ef43b20>"
       },
       "scene_wi5UOdEhSnEAGIHc4FW5zhhEo": {
        "offsets": [
         0
        ],
        "position": [
         -121,
         -40,
         107
        ],
        "scale": 1,
        "scene": "<openalea.plantgl.scenegraph._pglsg.Scene object at 0x7fef4ee35998>"
       },
       "scene_wtJb4blZfU4ZhzH5yykjrYmsH": {
        "offsets": [
         0
        ],
        "position": [
         88,
         78,
         -51
        ],
        "scale": 1,
        "scene": "<openalea.plantgl.scenegraph._pglsg.Scene object at 0x7fef4ed9a810>"
       },
       "scene_x45AEXKn8WiIUvhwp7qOVN3T9": {
        "offsets": [
         0
        ],
        "position": [
         -19,
         109,
         -26
        ],
        "scale": 1,
        "scene": "<openalea.plantgl.scenegraph._pglsg.Scene object at 0x7fef4ec78928>"
       },
       "scene_xgvbm2tmYSbsDa0s8x8inkcDy": {
        "offsets": [
         0
        ],
        "position": [
         -70,
         -91,
         -41
        ],
        "scale": 1,
        "scene": "<openalea.plantgl.scenegraph._pglsg.Scene object at 0x7fef4ebbd068>"
       },
       "scene_xvF1JTCallodTzrTHWQ4FGOnn": {
        "offsets": [
         0
        ],
        "position": [
         -111,
         -11,
         55
        ],
        "scale": 1,
        "scene": "<openalea.plantgl.scenegraph._pglsg.Scene object at 0x7fef4ecbc110>"
       },
       "scene_xxKvqd8TWih7uDbhspwnP0it1": {
        "offsets": [
         0
        ],
        "position": [
         -99,
         -56,
         24
        ],
        "scale": 1,
        "scene": "<openalea.plantgl.scenegraph._pglsg.Scene object at 0x7fef4eec5f80>"
       },
       "scene_xzQpPvyT7RqcNMW7vyhnJ5ZhY": {
        "offsets": [
         0
        ],
        "position": [
         -16,
         -126,
         56
        ],
        "scale": 1,
        "scene": "<openalea.plantgl.scenegraph._pglsg.Scene object at 0x7fef4eb18570>"
       },
       "scene_y8QU5JuqyMNao245ejbYALUsp": {
        "offsets": [
         0
        ],
        "position": [
         113,
         -102,
         -119
        ],
        "scale": 1,
        "scene": "<openalea.plantgl.scenegraph._pglsg.Scene object at 0x7fef4ef690a0>"
       },
       "scene_yL7YY4klUuP6r9f4HaeuxCQ7S": {
        "offsets": [
         0
        ],
        "position": [
         -101,
         -79,
         -36
        ],
        "scale": 1,
        "scene": "<openalea.plantgl.scenegraph._pglsg.Scene object at 0x7fef4ed9ae30>"
       },
       "scene_yg5Pi1JVaSVl3C5gdlqrGcEjo": {
        "offsets": [
         0
        ],
        "position": [
         29,
         45,
         25
        ],
        "scale": 1,
        "scene": "<openalea.plantgl.scenegraph._pglsg.Scene object at 0x7fef4eb35928>"
       },
       "scene_z2yDDM6IuwNbdh4QfJGMY8P3Y": {
        "offsets": [
         0
        ],
        "position": [
         85,
         77,
         -88
        ],
        "scale": 1,
        "scene": "<openalea.plantgl.scenegraph._pglsg.Scene object at 0x7fef4ebe8df8>"
       },
       "scene_za2BEg99GRATBEqnMcsSTBnBJ": {
        "offsets": [
         0
        ],
        "position": [
         -36,
         -76,
         66
        ],
        "scale": 1,
        "scene": "<openalea.plantgl.scenegraph._pglsg.Scene object at 0x7fef4f831810>"
       },
       "scene_zdWN9HOecnYbjbxCzJkB6TMl5": {
        "offsets": [
         0
        ],
        "position": [
         125,
         119,
         -92
        ],
        "scale": 1,
        "scene": "<openalea.plantgl.scenegraph._pglsg.Scene object at 0x7fef4ee06848>"
       },
       "size_display": [
        600,
        400
       ],
       "size_world": [
        255,
        255,
        255
       ]
      }
     }
    },
    "version_major": 2,
    "version_minor": 0
   }
  }
 },
 "nbformat": 4,
 "nbformat_minor": 4
}
