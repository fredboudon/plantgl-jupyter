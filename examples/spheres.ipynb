{
 "cells": [
  {
   "cell_type": "code",
   "execution_count": 1,
   "metadata": {},
   "outputs": [],
   "source": [
    "from pgljupyter import SceneWidget\n",
    "from openalea.plantgl.all import *"
   ]
  },
  {
   "cell_type": "code",
   "execution_count": 2,
   "metadata": {
    "scrolled": true
   },
   "outputs": [],
   "source": [
    "# no instances\n",
    "sw = SceneWidget(size_display=(600, 400), size_world=(255, 255, 255))\n",
    "import random\n",
    "for i in range(255):\n",
    "    x, y, z = [random.choice([-1, 1]) * random.randrange(0, int(255/2)) for i in range(3)]\n",
    "    m = Material(ambient=(x+int(255/2), y+int(255/2), z+int(255/2)))\n",
    "    sw.add(Shape(Sphere(random.randrange(1, 20), 20, 20), m), (x, y, z))"
   ]
  },
  {
   "cell_type": "code",
   "execution_count": 3,
   "metadata": {},
   "outputs": [
    {
     "data": {
      "application/vnd.jupyter.widget-view+json": {
       "model_id": "1fce2f95ad2a403d9dd63bcb299bb8a0",
       "version_major": 2,
       "version_minor": 0
      },
      "text/plain": [
       "SceneWidget(scene={'drc': <memory at 0x7fdfd2ae87c8>, 'offsets': [], 'scene': <openalea.plantgl.scenegraph._pg…"
      ]
     },
     "metadata": {},
     "output_type": "display_data"
    }
   ],
   "source": [
    "sw"
   ]
  },
  {
   "cell_type": "code",
   "execution_count": 4,
   "metadata": {},
   "outputs": [],
   "source": [
    "# with instances\n",
    "import random\n",
    "sphere = Sphere(1, 20, 20)\n",
    "spheres = [Shape(sphere, Material(Color3(200, 0, 0)))]\n",
    "for i in range(255):\n",
    "    x, y, z = [random.choice([-1, 1]) * random.randrange(0, int(255/2)) for i in range(3)]\n",
    "    scale = random.randrange(1, 20)\n",
    "    m = Material(ambient=(x+int(255/2), y+int(255/2), z+int(255/2)))\n",
    "    spheres.append(Shape(Translated(x, y, z, Scaled(scale, sphere)), m))\n",
    "sw_instances = SceneWidget(spheres, size_display=(600, 400), size_world=(255, 255, 255))"
   ]
  },
  {
   "cell_type": "code",
   "execution_count": 5,
   "metadata": {},
   "outputs": [
    {
     "data": {
      "application/vnd.jupyter.widget-view+json": {
       "model_id": "9cfd3b8c7b4341f79a2386c1d46ed5c9",
       "version_major": 2,
       "version_minor": 0
      },
      "text/plain": [
       "SceneWidget(scene={'drc': <memory at 0x7fdfd1963b88>, 'offsets': [0], 'scene': <openalea.plantgl.scenegraph._p…"
      ]
     },
     "metadata": {},
     "output_type": "display_data"
    }
   ],
   "source": [
    "sw_instances"
   ]
  },
  {
   "cell_type": "code",
   "execution_count": null,
   "metadata": {},
   "outputs": [],
   "source": []
  }
 ],
 "metadata": {
  "kernelspec": {
   "display_name": "Python 3",
   "language": "python",
   "name": "python3"
  },
  "language_info": {
   "codemirror_mode": {
    "name": "ipython",
    "version": 3
   },
   "file_extension": ".py",
   "mimetype": "text/x-python",
   "name": "python",
   "nbconvert_exporter": "python",
   "pygments_lexer": "ipython3",
   "version": "3.7.3"
  }
 },
 "nbformat": 4,
 "nbformat_minor": 4
}
