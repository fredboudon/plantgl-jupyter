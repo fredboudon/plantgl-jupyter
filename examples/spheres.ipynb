{
 "cells": [
  {
   "cell_type": "code",
   "execution_count": 1,
   "metadata": {},
   "outputs": [],
   "source": [
    "from pgljupyter import SceneWidget\n",
    "from openalea.plantgl.all import *\n",
    "import random"
   ]
  },
  {
   "cell_type": "code",
   "execution_count": 2,
   "metadata": {
    "scrolled": true
   },
   "outputs": [],
   "source": [
    "spheres = []\n",
    "\n",
    "for i in range(255):\n",
    "    x, y, z = [random.choice([-1, 1]) * random.randrange(0, int(255/2)) for i in range(3)]\n",
    "    m = Material(ambient=(x+int(255/2), y+int(255/2), z+int(255/2)), shininess=0.1, diffuse=1)\n",
    "    spheres.append(Shape(Translated(x, y, z, Sphere(random.randrange(1, 20), 20, 20)), m))\n"
   ]
  },
  {
   "cell_type": "code",
   "execution_count": 3,
   "metadata": {},
   "outputs": [
    {
     "data": {
      "application/vnd.jupyter.widget-view+json": {
       "model_id": "59924cf7a0964aca9fc2dc70f9a5ffd4",
       "version_major": 2,
       "version_minor": 0
      },
      "text/plain": [
       "SceneWidget(scenes=[{'id': 'i3cAtyMLvWMJ8xCcMbdQcuuUj', 'data': b'x\\xda}\\x9c\\x0b\\x98T\\xd5\\x91\\xc7\\xaf<\\xb2\\xac…"
      ]
     },
     "metadata": {},
     "output_type": "display_data"
    }
   ],
   "source": [
    "SceneWidget(spheres, size_display=(600, 400), size_world=255)"
   ]
  },
  {
   "cell_type": "code",
   "execution_count": null,
   "metadata": {},
   "outputs": [],
   "source": []
  }
 ],
 "metadata": {
  "kernelspec": {
   "display_name": "Python 3",
   "language": "python",
   "name": "python3"
  },
  "language_info": {
   "codemirror_mode": {
    "name": "ipython",
    "version": 3
   },
   "file_extension": ".py",
   "mimetype": "text/x-python",
   "name": "python",
   "nbconvert_exporter": "python",
   "pygments_lexer": "ipython3",
   "version": "3.9.1"
  },
  "widgets": {
   "application/vnd.jupyter.widget-state+json": {
    "state": {
     "59924cf7a0964aca9fc2dc70f9a5ffd4": {
      "buffers": [
       {
        "data": "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",
        "encoding": "base64",
        "path": [
         "scenes",
         0,
         "data"
        ]
       }
      ],
      "model_module": "pgljupyter",
      "model_module_version": "^1.0.1",
      "model_name": "SceneWidgetModel",
      "state": {
       "_model_module_version": "^1.0.1",
       "_view_module_version": "^1.0.1",
       "axes_helper": false,
       "layout": "IPY_MODEL_9c582f075cea4bee9e87991f3f6fbcc4",
       "light_helper": false,
       "plane": true,
       "scenes": [
        {
         "id": "i3cAtyMLvWMJ8xCcMbdQcuuUj",
         "position": [
          0,
          0,
          0
         ],
         "scale": 1,
         "scene": "<openalea.plantgl.scenegraph._pglsg.Scene object at 0x7fc10c428a90>"
        }
       ],
       "size_display": [
        600,
        400
       ],
       "size_world": 255
      }
     },
     "9c582f075cea4bee9e87991f3f6fbcc4": {
      "model_module": "@jupyter-widgets/base",
      "model_module_version": "1.2.0",
      "model_name": "LayoutModel",
      "state": {}
     }
    },
    "version_major": 2,
    "version_minor": 0
   }
  }
 },
 "nbformat": 4,
 "nbformat_minor": 4
}
