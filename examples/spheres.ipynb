{
 "cells": [
  {
   "cell_type": "code",
   "execution_count": 1,
   "metadata": {},
   "outputs": [],
   "source": [
    "from pgljupyter import SceneWidget\n",
    "from openalea.plantgl.all import *\n",
    "import random"
   ]
  },
  {
   "cell_type": "code",
   "execution_count": 2,
   "metadata": {
    "scrolled": true
   },
   "outputs": [],
   "source": [
    "spheres = []\n",
    "\n",
    "for i in range(255):\n",
    "    x, y, z = [random.choice([-1, 1]) * random.randrange(0, int(255/2)) for i in range(3)]\n",
    "    m = Material(ambient=(x+int(255/2), y+int(255/2), z+int(255/2)), shininess=0.1, diffuse=1)\n",
    "    spheres.append(Shape(Translated(x, y, z, Sphere(random.randrange(1, 20), 20, 20)), m))\n"
   ]
  },
  {
   "cell_type": "code",
   "execution_count": 3,
   "metadata": {},
   "outputs": [
    {
     "data": {
      "application/vnd.jupyter.widget-view+json": {
       "model_id": "a2bdf2da560c4f6286040442d1cdefa2",
       "version_major": 2,
       "version_minor": 0
      },
      "text/plain": [
       "SceneWidget(scenes=[{'id': 'p8aYeAKNbq41eYmNZICGDo8tw', 'data': b'x\\xda}\\x9c\\x0b\\xb8\\x94U\\xb9\\xc7\\xbf\\x105;\\xa…"
      ]
     },
     "metadata": {},
     "output_type": "display_data"
    }
   ],
   "source": [
    "SceneWidget(spheres, size_display=(600, 400), size_world=255)"
   ]
  },
  {
   "cell_type": "code",
   "execution_count": null,
   "metadata": {},
   "outputs": [],
   "source": []
  }
 ],
 "metadata": {
  "kernelspec": {
   "display_name": "Python 3",
   "language": "python",
   "name": "python3"
  },
  "language_info": {
   "codemirror_mode": {
    "name": "ipython",
    "version": 3
   },
   "file_extension": ".py",
   "mimetype": "text/x-python",
   "name": "python",
   "nbconvert_exporter": "python",
   "pygments_lexer": "ipython3",
   "version": "3.8.5"
  },
  "widgets": {
   "application/vnd.jupyter.widget-state+json": {
    "state": {
     "2fdf7187a6fb4462a13720bba8f2fff3": {
      "model_module": "@jupyter-widgets/base",
      "model_module_version": "1.2.0",
      "model_name": "LayoutModel",
      "state": {}
     },
     "5df62ae074894527ae8081916e6322d4": {
      "model_module": "pgljupyter",
      "model_module_version": "^0.1.18",
      "model_name": "SceneWidgetModel",
      "state": {
       "_model_module_version": "^0.1.18",
       "_view_module_version": "^0.1.18",
       "axes_helper": false,
       "layout": "IPY_MODEL_acf1fb310a74408b883b92d93f7f61ea",
       "light_helper": false,
       "plane": true,
       "size_display": [
        600,
        400
       ],
       "size_world": 255
      }
     },
     "606b5f0d7dab4911997ad508a55f3116": {
      "model_module": "@jupyter-widgets/base",
      "model_module_version": "1.2.0",
      "model_name": "LayoutModel",
      "state": {}
     },
     "a2bdf2da560c4f6286040442d1cdefa2": {
      "buffers": [
       {
        "data": "eNp9nAu4lFW5x78QNTukW+VRPF4alEJ9tL7rWuvL2+zREklyPIIhSWwEZlDQRtkcy7yMiIg+qKNtjY4mI2Eij9EGQXeEOjMBccTLSEpbU9wqeSHFyQuS4em878zW/a71rVeeKKOe316sy/+9f8MvOP07Z41xnFT6q19JHXXU8MGO4wza0zln+uTCtH/DP+/xZWfM5M5pl104eSb+1yP2cs4pTJ92WfN/S33FGXvZ5EtmzYT/w1T8g+H4b4OGO+eMas9+54zTJvm+73lBHIThpDhQkRfBv/zQD93S36bM/Tf8Sjn9vxZkHKe73XEK1SOcz3+1Dx26R+ufjlt/R8Fxiqc89eSTJ+l8N1YqdN3P+YEM/Fg0fjFZ54+tOc52+BkPZwb4KcIf/eGLVr4XysCLA9HPDyPPEyrwy6lBOn9tpvWfJcLvIPyXr/kTs37hBzL2P1+/6yqhVPfe5+v8K4GfrjjOLbUBfjk9wH/sSmXne54MBNmfKFJhLDpmTNX5S2Hv34A9eo6sv0L4XUPeZviu8nwxcL6hEJ5wuwcZ57sS1t+XdpzdZP1Zsj+9877ErV8EgRQD6w+VL/3Cqcb6pwJ/G6x/BOGnyfp7vnoud39cJaOB/ffhsENV7+jQ+fPxbsLPeJHwi2T9pT8cwPBV5PrRwPr9AN9A9spJOv84YO+C9Xcw57tsj9M5vhf7HuG7oef5bXsY/KHAPhp+l+n6CX/CuG9x++8Jqcj7deEBuIWbjfN9GNjvw99hcMbOH7GrzPFdX6mB+xkqKaVI/WBK8v124hln7Ps/eu0/GD78joj+CFeGoD/HTtP5WTjfUcB/iexPG+EvWLE/yw+p/gg3Bv2pewa/Dda/GH5X6PpPGeD/8JuvMOcrJfwM9Tnfi6Trh6nv/Ujn98D6h8D6tzD8Oxdv5+6/FB55X4HwXOm70w39nF/F9+Q479Ts+nDJnH248w2DyKX6j3Jd/8g43zthbxbiG6vZ9T+8/VROP2MFj2BAP1XguWHHsRN1fhnWvgr253zm/c59YRR3vrDccIAv/DAOw8Ylxvn2tbc0qN5uX/9dPb/k+cKl/Ai2K3WpwX+t+bZ0fSgQfqN8Osv3qD4IX4A+FGcZ/J9kWvpA73+J8B8dx95/sOfa/kgw99mfGPwFwH4L9qhM7HsfuT/x3TNYfuBGdP0yjvzuKwz+ibD+B2voR9j1Z/kx63m+IPZL+CoSbttVBt+F+z8X+L2Enyb703nS31l+CAaL8GMQ0MI1Bn8ZsNfB32Fj1a4/x76a4/lUP4EP+lm/1uDj3VmOPhZzf8pbRrJ8MLnkfAM3gBc81+TXWvu/mbk/PzrmIJYPkikoP4790jyD78D+vwb8pxn7fvm+w3i+JPojApBotzHf4M/NoB7A/Wy370/11p9z/MALPHK+cAKuqp9prr//DDh9u6Z8Ks9XUuNLoZyzpiX9zwLsT5bcn4XU/zz1Mpbvh/T+gL8oRcfZBr+eafmIIzL29/tm11KWH7j0/ngyVmHlHIO/FM53O6x/Y7vdfl30lYU8X9D746ko9lPnmvpcbd3PlzJ2/3PKMe+yfBAgcn/A3XLd4njTf0D9zOA52PfnoQde5vmxdn9i5aq+CQa/J/OZj2L3D/+6YAXLjyKf6gM4iCI90eB311r3szNjf78jy2tZvqD+iYCIwA/Lkwx+udLS0Leq9vjris4LeL4MqP7DE/adCwz+iAz6JuBjMf7h0n3qLF/S+FTAn4Vux1SDf2bTtjvO3fT9kv1f+UuP58cR1X9wgFQlZ/DvzmDsAnYgY9e3p859juWjwSL8IIxE6kKDvxv4K2u6/0P17dNvsP5PgAaL+j+uCIszTPsL7FQVfVD7+8rOXszxBTokA/xmCFx5zuKfo/5UGPu+oOsVni/p/W9KaOovBn8L7M/Omh7f0fe7ffABLF8G9P5HeIGKL5j6D/xaDeMw+/4sOmICz4/p/QcHOvD7/mrwFwO/UsGfY+fXf7qI5SstPorgNbjprab+w9ob7Tqf+j8H/4rnxx69/1EI7nS5z+CP7dfPVLv9/q964EaeL+n9j0IRCef1acn8AOoP9c+pvvV0sv65dAN6/0FNRdjxt2nJ+KgP9uhDJv66ZL9/8vxY0vONwNxX3jT4XTXMjaGPaI+/osKrLN+LFD1fAeY+td3gd8DZPllDHbLbl5sPeYrl+15Mz1eCuS++Y9qvamv/s4Q/n+z/9M6HeL6i8XUkwdz37TDtC+bH4PdWRj+f+d0Olh+ENP6KFJj79D8MPuY2vgz7c1zNvv5dE8ey/NCl8VekwNyXPzD4CnMDVV3f6PmenX+F54MmEz5YG9fZafAbtZYGLW235yf3XtTF8iNwEQf4wgVz37HL4K8CfreRf6D+59f/sp3nQzxB+WDuK5+Y5wv3c1hGf1/0fH9+H/++hBafCg8ELvWpwcfcBtqAArP/c7b/geVLLT4FBy7yi/82+Jhb/aR5h+zx3ZDdE3m+Fp8KH8x935dyOv8J4I+qYR7Ibt//c8ydLF9p8SkGSCo92OTD2j+pYZ7Grm/bBoU8X4tPRQB/ofJeBn8JsEtw/9fU7Pfn+IuPZPmxFp+KEOJTZ59cUp9LcId6ufzVbQdyfFAfGl+IEOLTjv8w+C9lWjWMXe12/+Hd9ffwfC0+BYF23cpXzfXj3mfQj7Pv/wlPfMry9fhUYHyaajP4C6utGKYvbefPfGgez4+pfyWE8kTxgFwy//Zl4Dcy9vs/996PWb4fUf9KyNAP+4Ya/Hq1laPvrdrt+7TSVJYPATw9X+UGfvpgg+9UWmfQzeQ3rjphJM+X1L8SSoRu+ZBcsv5Swf0n98cl/K5X7mL5kau93zgWqn6EwUfbhT5cG3P/Jx78Q54v6PsFtQN/a7jBR98fc3AbGP2cvfw1li98+n6l56mwdFQu6d86zTO235/65SWer+j7lZ6M/cbXDf5bmFtt5kDt5/vBI+NYvqT5bQg2QtfNHm3w5zZjC/SB7PbrpAM6Wb7S4iMZQHzUfazBH5pp+bjzanb7vqTnRJ6vxUdgfT3RdnwuGZ9ijeo4pj711DLW/1GxFh/B8/XDwrcMPtrGmbA/a5n17z5tOM/X4iMZQnxU93LJ+B3t10Yufh90KMePXS0+khHWe8Jcsr65FutrTP6nd/gzLN/T4iN4XKEqiVwyfvxNBv8edn1YtHklz9fiI4kWpqEMfqPaqr/fwvj/k+/YwPJ9LT6SEuKj7AmmfYS92VJDjbD7J/sPXc7ztfhISriv3ScZ/Pf77eM9zP3Z6wmX5QdafCQVxEdtaYNfBP0fj/ar3Z6/+tnqX7H8UIuPZAzxUSFjsb/n1/T10/zGzFHs+lUYRJr++6FyDjP4G6utO6SY+D236Lfs+qOI8pUL7nTldIP/MLDnNzXafr4v/vFylo8NA4TvgTudGp1L1pexB6KXyU+OeOzvPF/S+6nQhSueafDX1Vo5rFLVfn8Oz17M8iXtTxDKB3e67/u5ZH4b/fOdjP9z0ZhPeH5M76fCcnn6bIP/TqZlA3Yz+vzRki+xfEyYE34A7nT5HIt9xBziY8z9+eDTrSwfE+aEH4I77Zxr8U+Kp0CMx+THJhbP4/mKxu8qBHe6Y7wlflkGv69k4q9tz6UZPpjbkMbvKgJ3ujLBvD/Avr0Zg9nv/6tiDMvHhDnlw36lJhp8jH1Rf+5k9v++1U/wfEHjd4UZxOKkXDL/hns0neGv2vZ7lo8Jc8KX4E73TTb9w/762nimfnf/rWfwfEXjdyXBnU5PNfUZju+Npg9kz89c934Py8eEOeErkNNyzuDPbPo+ev6Q1hfWjP0ly8eEOeXHwnUuzCX733YY+0/ty/qd/P6Hgvr/KgZ/vWNGLpnfw/4QWr+g/sPNiz2WD/eFnG/sgj9RuTiXrG+i/e2o2v3/a564lLePWn5PxiIW9dMM/njMXxn1faoPZ0xaz65fr//GWP/NzjL3p9rKP9P8IfUPL31gB8uXWn9F7IO7np2dS9b30b4vY/Ibx446lucrqg8xmBe3+3JTP/vzkyXmft478TaWDw4EuT9xAO562xWW/Ekjo/dnUv/2ko8LLD92qT7EAbjrhSsN/j2ZVo5sFaM/Tw95gecLqg9xCA56/epcsr+lVNPzk1R/HpVcfjLwtP49EWMPk3utwf8Q88+wRwsZ/fnnrE08X1F9iDG8Ll1n8If01/c3M/WpxacexPK9kOpDLMBdb1xv8NE3Txv9FbQ/YehZw1i+72r6gPWY7HzTv+3vzxnB5K82HbOU5wuaH4gxX9x9k8E/OtPSn0rafr4PPHE9y8eGYcLHfFbbzZb4GuOjBxl9XnLH8zw/1vQH3De3cGsuWX/EHrKnmf7h7Xe9wfLDiOYH4jh0Vf02g/9gf3+X49jji+fHXcPysan0c750XXAo3C6L/mD962lGP+/dj19/JEl+APjCD0t3GnxkO7A/S5j80n43PMvyRUDyA9LFjpfGQpv/3+yxsN+fw5cv4PkxyQ8AHzzc7F0Gfxdow2Po4zL605F6nOVLGn9h92eoun+VS9YHsb7fx+Svom/sx9t3pb0vsDdhqmDwt2JvGuz/PCa/sWNhjV1/TP1b6Qbg3xZ+bfpvj6P2wD4x8d3Vw/7F82n+DWw95t/uyyX7B1CDUsx8wYJNszm+79L8m3QjzL/db/DX1Fo9yk7afv+PHH0tz5fa+4ow/7Ysl+zvQh+9zvS3vLzqTZbvBdr7Eph/e9DgPwbsOfh3YM5368mreH6svS+cj6gvN/039P+renxN9Wf1jy9m+Vr/tmz2b7srzPxerdX/U2fu/5n7HMzyA097Xwrzbw+Z+bFMqz+c5iep/n+8YjjPp/k34GP+bTWTPzyR8c97h2dZfkjzb9KNMf/WY7mflXb0Uez+1ZG/mMXzaf4N+Jh/W2Pw0bfFGqrTbs8/jJpzA8uPaP5Nei7m3x419aG9NT/yDmN/b533EcsXNP8mPQ/zb48b/Eq6lZ/5hLn/14/ZzfNp/AJ8jF+qBr+3hrGdnv+k9uvA3y9n+ZL2J0gwX+BPrzPzM+2tGY/XmP25e0KD5SvanyAxYeyXNljqj5ifV8z9POG0s3k+7U+QHoTXbmOjwcfeqz7MoTD7M/i9jSw/pv0J0gs9X2U3Wd5XuYp9HPb8TO+MXTyf9idInAgT3U9Z6r+ooacx+fN3t3Zz/MCl/QnSwwastrrBx9w/nm+a0f/NE37H8j3anwD8OPILmy3++U3NHJB9/ZvWbWPtr/I0fcN2/baywS/19w8PY+KjP3Xdx/Olpm/Yrl9YbPqHmdYZ0P4Hyn/v3TvZ/cGBEbI/8JrdwouW/OEGnHFi6qfbDtuL50vqP3hKgH/+Ui7ZXz2sptc3qT6/eV6J5UP4Tu8njoO5r5j1u/75mjXM+/Juf4nnx9R/8GIF/vmrlvga45fdDP/Ruz5l+VFE/Qffhb9P43WLfnY3a0j2/Tlw5FCWLzzqP/hw2m72DUt9BOcj0kz+PLflLJ5P5wcxGQT++VtmfinTmj+i+kb9z0deYPUtwAFOwgd/SLT93VJ/n2ncf+r/zF7D338Z0/flg16HhXcN/tRaq7+iXLH7b98tXcHyVUT9Bz8IpV9/z4yP+vVnV9XuP/9rXQfLjz3qP/hgLV33fUv+udnDx9j3+3fdy/PpfC7whVKlDy3+Lfa4LGfiu9Vzt3D80KXzg9KPcH55p6U/ahfsfydTvzgeE2gMHxuqKT92w+w/LfnnjRndP6Tvd/3rs3i+oP6DLyLP7/5XLtlfdwvWX5j+wDkbHmP52FBN+KCmbtv/Med7C9Ofef8uxfMV9R98KX1VcPKGf5tp1WCWMfWLh+9j87chNlQTvgLFqA/KJ/Mb5eYbZvIbM9aw/JDOJwI/hj/Z0+Df1D8/28vMB3177VSeL6j/gPVgv7S3wcfcoTL6x6h/ddZv57H8iM6PS6xXuY198sn5lGKzR9mu/yNvPYTn0/kp4IM7kR2ST85fY4/Ccib/vGx//v0KOj8lAw/ive5988n+81EZPf9G9b9nxTW8/0b7PyV2cLv15yz5AfwZPdz8V890lu/T/k+JP0G5f7H4hzjD2cHkJzfFj7D7o9WXZYD15cZB+WT+aklGzw/T+k70LJsfDrX5AuzmDlXqEIP/dKaV3xvB6Ocby8/l+Vr8HuBzKB5q8JdmWjVybr7szx9w82VBpM0XyACfQ9/hBh+1E2v8P2H0c8NHj/J8LX4P8DmkU/nkfD32AN3EzNeMnryO5WvzBRI/n+CWj8wn+zMxB3omE79M61jJ8rX5AhngfIHz9XzSv9pq7A/Vz0d28PujzRdgM0csOkaa96fWyt++w8RHw1Js/iHS5gtkgPMFlWPyyfzqcxgjMfHRjrf/zPK1+QLgQ/yeOs7gb6y1eoyKTH710JmP83wtfg9wvqD4TYOPswvon6xh6kf5e45k+dp8AU5L+KrPzSfnF1JfUH/Z+8bneb4Wv4c4X5AOLPYdvw/TyfSfPPwh619F2nyBDNFilqN8Mv5CHz3F9K96s29k+dp8AfDhAByVT/YX4RmMZ/rzL8qfwfM1+xLifEHHt019hr9+WzNHbLfv//vrk1m+Nl8gQ5wvqJyYT9bfscZWqdrf16VL8jyfzhcAH78fcorBz/bzXWb+9LIlnSxfmy+QIc4XFNsN/vRaK0ewlunP/M42bv4Xv84T0/PF+YK+U03/p9qy8SsZ/+TCl3t5Pu1/kCHOF6S/m0/2V2B+6TBG/8+Y8BuWr80X4DSSq8qjDD72dj1o1Gdp/FV8/nqeT+cLgK884XzP4GPtqwd+n8bkJ79x1PdZvjZfIEOcL+gYY/q3VYwt9P4Wev9nqUtZvjZfIEOcL6icZfDfqrb8zxTz/YcL9p/N8+l8AfBF6Kb+K5+sr3U1bZh9/VdHKdb/kXR+Hz+HpcK2/fPJ/MkoI/6i9ye3go+/JJ3flwEEqH7hQIOPtqX2Bf7hPX2sfyi0+qaMsL5ZnJBPfh8AawCvMfmfKdfvy/J1/Y9Q/7vPzyf9Z5x/LDL5k02dP2P5uv5HqP9tkyz290nDP6f+Q/6QR3i+pv8R6n9hcj75/QHsQXmRsb9/XfwOy9f1P0L9r0/JJ/vzmz0QzPtauX0Kz9f0P0L9d3MGf02m9Q2CBqPPL13xMcvX9T9C/S9Nzye//4D52waTH37ovL05vtT1P0L9b1yUT34fqWzkZ+j9D5+ZxfM1/Y9Q/7MXG/xRmZZG9zHx44oiu/9S1/8I9b/7x3nLfFOzh8/uf3Z9bRLP1/Q/Qv1vuyyf7F/CGYASM98xdC/J8nX9j1D/C50G/+j++HQsM18w7tnRLF/X/wj1v/7fpn62o95jjG2/nwvnxzxf0/8I9d/9aT75fQw8gx1M/nNp106Wr80XyAjnC0o/Y97vOib/tnL74Tw/pvF1FKtINK4y+PjthJuM/l66P0esY/t78caT8xVuKMJs0bJ+J63rJ32/K69l9VP/fppsfj+te07enl+l37+i/vn612fwfPr9PeAL5bZdn0/W124x4kd6P/+0gY0fJYR05HzxAyWqcIPBP6z57UD9+5lUn8d/60WWjwU1ylexqN9o8Dubvqcev9P7mfnNozyffj9NCvzcnLvA4G/+rL7M9E8e9J5g+dr3FaXA7yuWbskn59eGGPOD9P7vXjyO59P+XuBL322U8sn+/JpRn6L3f1UfW59SLu3vlSIKfJX9eT75/QScD1rC+G/PLDqe5Xu0vxf4cSC677DEp699wfcHLmp08Xza34vja2HYtjCfnP+aY3y/lK5/r5PfZvk+7e+F1+ZFfuF/8sn+gaVG/EX5vX/u5fm0vxf4IEH1uw3+h7WWPtzO1I/2fJ2tD6qA9vdKocAjchdZ7AvOMI9l/MOFV7H9XULX/xD1vzg2n5zPHWH4b3T99aW8/6brf4j633duPvn9VbRfdWb/S11v8v6/pv8R6n/6PIO/of/7nN3M+z3smyPZ/Rd0/kVKD36ks8yMv2qt/N4CJr90ytsxz9fqyxKfg/OgwX+yP/85mJkv+NuOH7F8vb9IYn9RablZH6m16l/ptN0+jr1vDsvX+4sk9hc1uvPJ+iD6n28w9mVO8X2er+UnMYHuZh8y86u15Pwsja/b2PnZQOn9RRL7i7pX55P9OSVjfpbyN9+2gedr+UmJ/UVtPfnkfBPWBzcw+dXrZhzG8WO9v0hif1FhjRn/plvx0S7G/5l3Bdt/G+v9RRL7i+prLf4z6lsxbbdf416/judr8alsfiDj8Xxyvr7Zv1Gx58dO2nIly9frX/jAVKlq8NG2LK3q/dV0/0++aD+er8Wn+Es0/mjRf+w/TDH5hz3H/IDlB1p8KhXEp9kNBh9jF5xvbWPqR89mf83yQy0+lQri0+6N+WR/VNGYr9fmK085lOdr8akEa+C2bcon+yswBzeYeV+rZ5VZfqTFp8qF+LTwVD7ZP4zfB+Ds15mDpvB8LT5VLjgs9WdM+5VpadxOxn/745zBLF9o8any8AP6m/PJ79NiDe9hk/81pz2bZVGuUn31/NzjOkeP+OzH/z9Cz+th",
        "encoding": "base64",
        "path": [
         "scenes",
         0,
         "data"
        ]
       }
      ],
      "model_module": "pgljupyter",
      "model_module_version": "^0.1.20",
      "model_name": "SceneWidgetModel",
      "state": {
       "_model_module_version": "^0.1.20",
       "_view_module_version": "^0.1.20",
       "axes_helper": false,
       "layout": "IPY_MODEL_2fdf7187a6fb4462a13720bba8f2fff3",
       "light_helper": false,
       "plane": true,
       "scenes": [
        {
         "id": "p8aYeAKNbq41eYmNZICGDo8tw",
         "position": [
          0,
          0,
          0
         ],
         "scale": 1,
         "scene": "<openalea.plantgl.scenegraph._pglsg.Scene object at 0x7fa14f5fa870>"
        }
       ],
       "size_display": [
        600,
        400
       ],
       "size_world": 255
      }
     },
     "acf1fb310a74408b883b92d93f7f61ea": {
      "model_module": "@jupyter-widgets/base",
      "model_module_version": "1.2.0",
      "model_name": "LayoutModel",
      "state": {}
     },
     "d03e52ce7a694fc19da1c4c3c97e30dd": {
      "model_module": "pgljupyter",
      "model_module_version": "^0.1.18",
      "model_name": "SceneWidgetModel",
      "state": {
       "_model_module_version": "^0.1.18",
       "_view_module_version": "^0.1.18",
       "axes_helper": false,
       "layout": "IPY_MODEL_606b5f0d7dab4911997ad508a55f3116",
       "light_helper": false,
       "plane": true,
       "size_display": [
        600,
        400
       ],
       "size_world": 255
      }
     }
    },
    "version_major": 2,
    "version_minor": 0
   }
  }
 },
 "nbformat": 4,
 "nbformat_minor": 4
}
