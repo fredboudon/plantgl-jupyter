{
 "cells": [
  {
   "cell_type": "code",
   "execution_count": 1,
   "metadata": {},
   "outputs": [],
   "source": [
    "from pgljupyter import SceneWidget\n",
    "from openalea.plantgl.all import *\n",
    "import random"
   ]
  },
  {
   "cell_type": "code",
   "execution_count": 2,
   "metadata": {
    "scrolled": true
   },
   "outputs": [],
   "source": [
    "spheres = []\n",
    "\n",
    "for i in range(255):\n",
    "    x, y, z = [random.choice([-1, 1]) * random.randrange(0, int(255/2)) for i in range(3)]\n",
    "    m = Material(ambient=(x+int(255/2), y+int(255/2), z+int(255/2)))\n",
    "    spheres.append(Shape(Translated(x, y, z, Sphere(random.randrange(1, 20), 20, 20)), m))\n"
   ]
  },
  {
   "cell_type": "code",
   "execution_count": 3,
   "metadata": {},
   "outputs": [
    {
     "data": {
      "application/vnd.jupyter.widget-view+json": {
       "model_id": "4c17c5346eca4c7fb9f3ab01b6626b30",
       "version_major": 2,
       "version_minor": 0
      },
      "text/plain": [
       "SceneWidget(scenes=[{'id': 'jjxUuLlOD9RoSaphCIdWfvecg', 'data': b'!bGEOM\\x00\\x00 @\\r\\n ##!\\x04\\x00\\x00\\x00\\x02…"
      ]
     },
     "metadata": {},
     "output_type": "display_data"
    }
   ],
   "source": [
    "SceneWidget(spheres, size_display=(600, 400), size_world=(255, 255, 255))"
   ]
  },
  {
   "cell_type": "code",
   "execution_count": null,
   "metadata": {},
   "outputs": [],
   "source": []
  }
 ],
 "metadata": {
  "kernelspec": {
   "display_name": "Python 3",
   "language": "python",
   "name": "python3"
  },
  "language_info": {
   "codemirror_mode": {
    "name": "ipython",
    "version": 3
   },
   "file_extension": ".py",
   "mimetype": "text/x-python",
   "name": "python",
   "nbconvert_exporter": "python",
   "pygments_lexer": "ipython3",
   "version": "3.8.3"
  }
 },
 "nbformat": 4,
 "nbformat_minor": 4
}
