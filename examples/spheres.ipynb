{
 "cells": [
  {
   "cell_type": "code",
   "execution_count": 1,
   "metadata": {},
   "outputs": [],
   "source": [
    "from pgljupyter import SceneWidget\n",
    "from openalea.plantgl.all import *"
   ]
  },
  {
   "cell_type": "code",
   "execution_count": 2,
   "metadata": {
    "scrolled": true
   },
   "outputs": [],
   "source": [
    "# no instances\n",
    "sw = SceneWidget(size_display=(600, 400), size_world=(255, 255, 255))\n",
    "import random\n",
    "for i in range(255):\n",
    "    x, y, z = [random.choice([-1, 1]) * random.randrange(0, int(255/2)) for i in range(3)]\n",
    "    m = Material(ambient=(x+int(255/2), y+int(255/2), z+int(255/2)))\n",
    "    sw.add(Shape(Sphere(random.randrange(1, 20), 20, 20), m), (x, y, z))"
   ]
  },
  {
   "cell_type": "code",
   "execution_count": 3,
   "metadata": {},
   "outputs": [
    {
     "data": {
      "application/vnd.jupyter.widget-view+json": {
       "model_id": "7ce2de1172c24b3daceaed608aa42ea2",
       "version_major": 2,
       "version_minor": 0
      },
      "text/plain": [
       "SceneWidget(scene={'drc': <memory at 0x7f2a0ddec050>, 'offsets': [], 'scene': <openalea.plantgl.scenegraph._pg…"
      ]
     },
     "metadata": {},
     "output_type": "display_data"
    }
   ],
   "source": [
    "sw"
   ]
  },
  {
   "cell_type": "code",
   "execution_count": 4,
   "metadata": {},
   "outputs": [],
   "source": [
    "# with instances\n",
    "import random\n",
    "sphere = Sphere(1, 20, 20)\n",
    "spheres = [Shape(sphere, Material(Color3(200, 0, 0)))]\n",
    "for i in range(255):\n",
    "    x, y, z = [random.choice([-1, 1]) * random.randrange(0, int(255/2)) for i in range(3)]\n",
    "    scale = random.randrange(1, 20)\n",
    "    m = Material(ambient=(x+int(255/2), y+int(255/2), z+int(255/2)))\n",
    "    spheres.append(Shape(Translated(x, y, z, Scaled(scale, sphere)), m))\n",
    "sw_instances = SceneWidget(spheres, size_display=(600, 400), size_world=(255, 255, 255))"
   ]
  },
  {
   "cell_type": "code",
   "execution_count": 5,
   "metadata": {},
   "outputs": [
    {
     "data": {
      "application/vnd.jupyter.widget-view+json": {
       "model_id": "88cf3c572b914ad4a9da238fc68087e2",
       "version_major": 2,
       "version_minor": 0
      },
      "text/plain": [
       "SceneWidget(scene={'drc': <memory at 0x7f2a0d085bb0>, 'offsets': [0], 'scene': <openalea.plantgl.scenegraph._p…"
      ]
     },
     "metadata": {},
     "output_type": "display_data"
    }
   ],
   "source": [
    "sw_instances"
   ]
  },
  {
   "cell_type": "code",
   "execution_count": null,
   "metadata": {},
   "outputs": [],
   "source": []
  }
 ],
 "metadata": {
  "kernelspec": {
   "display_name": "Python 3",
   "language": "python",
   "name": "python3"
  },
  "language_info": {
   "codemirror_mode": {
    "name": "ipython",
    "version": 3
   },
   "file_extension": ".py",
   "mimetype": "text/x-python",
   "name": "python",
   "nbconvert_exporter": "python",
   "pygments_lexer": "ipython3",
   "version": "3.7.6"
  },
  "widgets": {
   "application/vnd.jupyter.widget-state+json": {
    "state": {
     "1131ec9f9b8943c9bf1ed94c5c0f5b02": {
      "model_module": "@jupyter-widgets/base",
      "model_module_version": "1.2.0",
      "model_name": "LayoutModel",
      "state": {}
     },
     "209546c4878c4d4a96808cd09114ccdf": {
      "model_module": "@jupyter-widgets/base",
      "model_module_version": "1.2.0",
      "model_name": "LayoutModel",
      "state": {}
     },
     "4bf05ae1004d4bf7b11321c55aed6433": {
      "model_module": "pgljupyter",
      "model_module_version": "^0.1.0",
      "model_name": "SceneWidgetModel",
      "state": {
       "_model_module_version": "^0.1.0",
       "_view_module_version": "^0.1.0",
       "axes_helper": false,
       "layout": "IPY_MODEL_bfff3bd332174a9885b1fd6aa05f8c2b",
       "light_helper": false,
       "plane": true,
       "scene_0GarKhQQhNRnSy74ML6xuALSk": {
        "drc": {},
        "offsets": [
         0
        ],
        "position": [
         114,
         -90,
         102
        ],
        "scale": 1,
        "scene": "<openalea.plantgl.scenegraph._pglsg.Scene object at 0x7f15d6e27b30>"
       },
       "scene_0K6AuvJsItNU0GZsMkQTCvExT": {
        "drc": {},
        "offsets": [
         0
        ],
        "position": [
         75,
         -113,
         -121
        ],
        "scale": 1,
        "scene": "<openalea.plantgl.scenegraph._pglsg.Scene object at 0x7f15d6ea5f70>"
       },
       "scene_0KZy2UUtKF1pvvSqdyzCy4b3o": {
        "drc": {},
        "offsets": [
         0
        ],
        "position": [
         48,
         30,
         -46
        ],
        "scale": 1,
        "scene": "<openalea.plantgl.scenegraph._pglsg.Scene object at 0x7f15d6c929f0>"
       },
       "scene_0Kk7IBa8A34YR18mhixxIg9XK": {
        "drc": {},
        "offsets": [
         0
        ],
        "position": [
         88,
         -8,
         40
        ],
        "scale": 1,
        "scene": "<openalea.plantgl.scenegraph._pglsg.Scene object at 0x7f15d6eee470>"
       },
       "scene_0qsZ9tUqQWOceqDu3JyUyuRT7": {
        "drc": {},
        "offsets": [
         0
        ],
        "position": [
         35,
         -8,
         69
        ],
        "scale": 1,
        "scene": "<openalea.plantgl.scenegraph._pglsg.Scene object at 0x7f15d6dbac70>"
       },
       "scene_135OjdBqJR8k8VN8P5yH7DsOY": {
        "drc": {},
        "offsets": [
         0
        ],
        "position": [
         -29,
         -37,
         -124
        ],
        "scale": 1,
        "scene": "<openalea.plantgl.scenegraph._pglsg.Scene object at 0x7f15d6cf6070>"
       },
       "scene_135Q4NSZ5wFnS9TegyQr6GLga": {
        "drc": {},
        "offsets": [
         0
        ],
        "position": [
         120,
         60,
         -51
        ],
        "scale": 1,
        "scene": "<openalea.plantgl.scenegraph._pglsg.Scene object at 0x7f15d6dcb9b0>"
       },
       "scene_13pHvSzdhaqeEHwNiu1pYRIFT": {
        "drc": {},
        "offsets": [
         0
        ],
        "position": [
         -81,
         18,
         -100
        ],
        "scale": 1,
        "scene": "<openalea.plantgl.scenegraph._pglsg.Scene object at 0x7f15d6ef4730>"
       },
       "scene_1GRKJI2wieWf5qV7pnxk1GnzG": {
        "drc": {},
        "offsets": [
         0
        ],
        "position": [
         33,
         86,
         87
        ],
        "scale": 1,
        "scene": "<openalea.plantgl.scenegraph._pglsg.Scene object at 0x7f15d6e0afb0>"
       },
       "scene_1Lh0LZGu8X4LQu8AmxbggODi4": {
        "drc": {},
        "offsets": [
         0
        ],
        "position": [
         51,
         106,
         84
        ],
        "scale": 1,
        "scene": "<openalea.plantgl.scenegraph._pglsg.Scene object at 0x7f15d6d879f0>"
       },
       "scene_1NTkCWlFSMJOj1RPj1gM22zCt": {
        "drc": {},
        "offsets": [
         0
        ],
        "position": [
         109,
         54,
         -59
        ],
        "scale": 1,
        "scene": "<openalea.plantgl.scenegraph._pglsg.Scene object at 0x7f15d6e9bc70>"
       },
       "scene_1f6U7YGxzK79dlfxZzW3IikT8": {
        "drc": {},
        "offsets": [
         0
        ],
        "position": [
         -37,
         -24,
         20
        ],
        "scale": 1,
        "scene": "<openalea.plantgl.scenegraph._pglsg.Scene object at 0x7f15d6d48f70>"
       },
       "scene_1qrzKdVmgsyotqPTeiaszilfx": {
        "drc": {},
        "offsets": [
         0
        ],
        "position": [
         -95,
         32,
         65
        ],
        "scale": 1,
        "scene": "<openalea.plantgl.scenegraph._pglsg.Scene object at 0x7f15d6de6c30>"
       },
       "scene_1sUNErlQOgkZsez9lvtVgajLv": {
        "drc": {},
        "offsets": [
         0
        ],
        "position": [
         -119,
         102,
         -6
        ],
        "scale": 1,
        "scene": "<openalea.plantgl.scenegraph._pglsg.Scene object at 0x7f15d6f0c170>"
       },
       "scene_1v0IXeUlhpI083t4KDHINN01Q": {
        "drc": {},
        "offsets": [
         0
        ],
        "position": [
         40,
         -111,
         106
        ],
        "scale": 1,
        "scene": "<openalea.plantgl.scenegraph._pglsg.Scene object at 0x7f15d6d3eb70>"
       },
       "scene_21gRVIUDmcku8kUC11OIVrhoa": {
        "drc": {},
        "offsets": [
         0
        ],
        "position": [
         -4,
         -126,
         -30
        ],
        "scale": 1,
        "scene": "<openalea.plantgl.scenegraph._pglsg.Scene object at 0x7f15d7a30c30>"
       },
       "scene_2RR6DuPS8KzfUkUuoi7Hr51CI": {
        "drc": {},
        "offsets": [
         0
        ],
        "position": [
         75,
         -73,
         55
        ],
        "scale": 1,
        "scene": "<openalea.plantgl.scenegraph._pglsg.Scene object at 0x7f15d6d7c730>"
       },
       "scene_2Y80WWS6z0vEAmfwizQP9g7Jk": {
        "drc": {},
        "offsets": [
         0
        ],
        "position": [
         -38,
         73,
         -116
        ],
        "scale": 1,
        "scene": "<openalea.plantgl.scenegraph._pglsg.Scene object at 0x7f15d6d8cdf0>"
       },
       "scene_2pUQsmUA0kfmfVJoF8NtBpPOF": {
        "drc": {},
        "offsets": [
         0
        ],
        "position": [
         -2,
         -106,
         -107
        ],
        "scale": 1,
        "scene": "<openalea.plantgl.scenegraph._pglsg.Scene object at 0x7f15d6cffcb0>"
       },
       "scene_2vKzdYVmwFfgeIF7x4iEPVu4Q": {
        "drc": {},
        "offsets": [
         0
        ],
        "position": [
         -122,
         46,
         -5
        ],
        "scale": 1,
        "scene": "<openalea.plantgl.scenegraph._pglsg.Scene object at 0x7f15d6f454f0>"
       },
       "scene_3FOcPItalhuA4CAjMy6XYognu": {
        "drc": {},
        "offsets": [
         0
        ],
        "position": [
         -99,
         107,
         61
        ],
        "scale": 1,
        "scene": "<openalea.plantgl.scenegraph._pglsg.Scene object at 0x7f15d6c46af0>"
       },
       "scene_3GbJqvSJqUIO3sw3Dq1iVqeCX": {
        "drc": {},
        "offsets": [
         0
        ],
        "position": [
         101,
         -73,
         -14
        ],
        "scale": 1,
        "scene": "<openalea.plantgl.scenegraph._pglsg.Scene object at 0x7f15d6f16b30>"
       },
       "scene_3H9FuJMNqdDvl0zVpHsMuhKFO": {
        "drc": {},
        "offsets": [
         0
        ],
        "position": [
         -24,
         -32,
         92
        ],
        "scale": 1,
        "scene": "<openalea.plantgl.scenegraph._pglsg.Scene object at 0x7f15d7a0e730>"
       },
       "scene_3SIZDthOUnclUhjeoeGJl6lkv": {
        "drc": {},
        "offsets": [
         0
        ],
        "position": [
         50,
         -70,
         30
        ],
        "scale": 1,
        "scene": "<openalea.plantgl.scenegraph._pglsg.Scene object at 0x7f15d6c85df0>"
       },
       "scene_3bNLZjbNhtVMpeKlK5jiQy7H6": {
        "drc": {},
        "offsets": [
         0
        ],
        "position": [
         -62,
         -98,
         43
        ],
        "scale": 1,
        "scene": "<openalea.plantgl.scenegraph._pglsg.Scene object at 0x7f15d6f2a4b0>"
       },
       "scene_3zPRBXM6f1l22zpWPVM0Rn3P4": {
        "drc": {},
        "offsets": [
         0
        ],
        "position": [
         40,
         108,
         -115
        ],
        "scale": 1,
        "scene": "<openalea.plantgl.scenegraph._pglsg.Scene object at 0x7f15d6effeb0>"
       },
       "scene_46kWFMjqxFBP28EebJV3qUwgr": {
        "drc": {},
        "offsets": [
         0
        ],
        "position": [
         114,
         88,
         0
        ],
        "scale": 1,
        "scene": "<openalea.plantgl.scenegraph._pglsg.Scene object at 0x7f15d6dba630>"
       },
       "scene_47trN83AHUjcz0vKvlzQRRsQU": {
        "drc": {},
        "offsets": [
         0
        ],
        "position": [
         -28,
         -100,
         -56
        ],
        "scale": 1,
        "scene": "<openalea.plantgl.scenegraph._pglsg.Scene object at 0x7f15d6dee170>"
       },
       "scene_49Rax0nAdtKkmlNfOJk9zwN6B": {
        "drc": {},
        "offsets": [
         0
        ],
        "position": [
         113,
         113,
         -37
        ],
        "scale": 1,
        "scene": "<openalea.plantgl.scenegraph._pglsg.Scene object at 0x7f15d6e13630>"
       },
       "scene_4DUwIRJghvScaRUcQrSRMiBY9": {
        "drc": {},
        "offsets": [
         0
        ],
        "position": [
         -78,
         68,
         -75
        ],
        "scale": 1,
        "scene": "<openalea.plantgl.scenegraph._pglsg.Scene object at 0x7f15d6e27f70>"
       },
       "scene_4HJwPOaY0o66yZrW9rfqNDHAA": {
        "drc": {},
        "offsets": [
         0
        ],
        "position": [
         103,
         -46,
         81
        ],
        "scale": 1,
        "scene": "<openalea.plantgl.scenegraph._pglsg.Scene object at 0x7f15d6bd6bf0>"
       },
       "scene_4Vf6PcKLEh9BCvfYjkXDHjD3W": {
        "drc": {},
        "offsets": [
         0
        ],
        "position": [
         108,
         -115,
         -59
        ],
        "scale": 1,
        "scene": "<openalea.plantgl.scenegraph._pglsg.Scene object at 0x7f15d6e03ef0>"
       },
       "scene_4umC69wpLvK4lixu2PzBpwMK3": {
        "drc": {},
        "offsets": [
         0
        ],
        "position": [
         56,
         31,
         -109
        ],
        "scale": 1,
        "scene": "<openalea.plantgl.scenegraph._pglsg.Scene object at 0x7f15d6e53df0>"
       },
       "scene_5MznJ8CtDpVPfx0ccQSAz96KT": {
        "drc": {},
        "offsets": [
         0
        ],
        "position": [
         -1,
         -21,
         74
        ],
        "scale": 1,
        "scene": "<openalea.plantgl.scenegraph._pglsg.Scene object at 0x7f15d6c70bf0>"
       },
       "scene_5fS6uu0kQk7fOPljtSnQHQxCH": {
        "drc": {},
        "offsets": [
         0
        ],
        "position": [
         -8,
         -124,
         26
        ],
        "scale": 1,
        "scene": "<openalea.plantgl.scenegraph._pglsg.Scene object at 0x7f15d6d2bf30>"
       },
       "scene_5zDfEpxEA93OL7yrztc1mkuXh": {
        "drc": {},
        "offsets": [
         0
        ],
        "position": [
         83,
         111,
         75
        ],
        "scale": 1,
        "scene": "<openalea.plantgl.scenegraph._pglsg.Scene object at 0x7f15d6cffab0>"
       },
       "scene_6DTW1mEulXh0W8mDZhndXGnSY": {
        "drc": {},
        "offsets": [
         0
        ],
        "position": [
         69,
         37,
         -126
        ],
        "scale": 1,
        "scene": "<openalea.plantgl.scenegraph._pglsg.Scene object at 0x7f15d6c28f30>"
       },
       "scene_6cmTo1ZX9hL2SS1cp1rRuzI9o": {
        "drc": {},
        "offsets": [
         0
        ],
        "position": [
         -17,
         60,
         -64
        ],
        "scale": 1,
        "scene": "<openalea.plantgl.scenegraph._pglsg.Scene object at 0x7f15d6cb7b70>"
       },
       "scene_6suW1c5WMyyD95ektkziEuGr9": {
        "drc": {},
        "offsets": [
         0
        ],
        "position": [
         113,
         -90,
         66
        ],
        "scale": 1,
        "scene": "<openalea.plantgl.scenegraph._pglsg.Scene object at 0x7f15d6ca48b0>"
       },
       "scene_73GKgqdwrgJorflaZj90sp1eo": {
        "drc": {},
        "offsets": [
         0
        ],
        "position": [
         -39,
         20,
         17
        ],
        "scale": 1,
        "scene": "<openalea.plantgl.scenegraph._pglsg.Scene object at 0x7f15d6d16930>"
       },
       "scene_79de9v1Zfnq7UTeQbMGdG8bDo": {
        "drc": {},
        "offsets": [
         0
        ],
        "position": [
         26,
         108,
         -57
        ],
        "scale": 1,
        "scene": "<openalea.plantgl.scenegraph._pglsg.Scene object at 0x7f15d7a0ed70>"
       },
       "scene_7NW6l6isxRwYP7fZlgtbJxVOM": {
        "drc": {},
        "offsets": [
         0
        ],
        "position": [
         97,
         -121,
         -30
        ],
        "scale": 1,
        "scene": "<openalea.plantgl.scenegraph._pglsg.Scene object at 0x7f15d6ea52f0>"
       },
       "scene_7RWzQ6gXLaQTJs1Xo5hz2T3Mf": {
        "drc": {},
        "offsets": [
         0
        ],
        "position": [
         84,
         -67,
         -35
        ],
        "scale": 1,
        "scene": "<openalea.plantgl.scenegraph._pglsg.Scene object at 0x7f15d6e53a70>"
       },
       "scene_7ZhAl5xBKGrw7DCs61Gz4UZCf": {
        "drc": {},
        "offsets": [
         0
        ],
        "position": [
         -48,
         -110,
         -87
        ],
        "scale": 1,
        "scene": "<openalea.plantgl.scenegraph._pglsg.Scene object at 0x7f15d6c55af0>"
       },
       "scene_7loblSkjAEnsIFl6Ka7m1sOqO": {
        "drc": {},
        "offsets": [
         0
        ],
        "position": [
         26,
         -10,
         44
        ],
        "scale": 1,
        "scene": "<openalea.plantgl.scenegraph._pglsg.Scene object at 0x7f15d6cd0cf0>"
       },
       "scene_7wLRuoPbBR6ICnDDOp1IMRCTw": {
        "drc": {},
        "offsets": [
         0
        ],
        "position": [
         45,
         -83,
         120
        ],
        "scale": 1,
        "scene": "<openalea.plantgl.scenegraph._pglsg.Scene object at 0x7f15d6d2b170>"
       },
       "scene_8DLQUC957KYmWDIuxvVHXjuVM": {
        "drc": {},
        "offsets": [
         0
        ],
        "position": [
         -32,
         -94,
         86
        ],
        "scale": 1,
        "scene": "<openalea.plantgl.scenegraph._pglsg.Scene object at 0x7f15d6c4b3b0>"
       },
       "scene_8lZMMlDYLbL3QLGTpvzvCYYEl": {
        "drc": {},
        "offsets": [
         0
        ],
        "position": [
         41,
         -98,
         -38
        ],
        "scale": 1,
        "scene": "<openalea.plantgl.scenegraph._pglsg.Scene object at 0x7f15d6e41cf0>"
       },
       "scene_8s9yCIsIla5K0wCFM0CmCq1Hq": {
        "drc": {},
        "offsets": [
         0
        ],
        "position": [
         79,
         -35,
         -73
        ],
        "scale": 1,
        "scene": "<openalea.plantgl.scenegraph._pglsg.Scene object at 0x7f15d6e416f0>"
       },
       "scene_8xEWpuIbK0ypGHOamurCP3etj": {
        "drc": {},
        "offsets": [
         0
        ],
        "position": [
         19,
         36,
         -46
        ],
        "scale": 1,
        "scene": "<openalea.plantgl.scenegraph._pglsg.Scene object at 0x7f15d6c3ae30>"
       },
       "scene_9C2oMFbrnHuBqFm8RECBpvlGp": {
        "drc": {},
        "offsets": [
         0
        ],
        "position": [
         -57,
         -94,
         96
        ],
        "scale": 1,
        "scene": "<openalea.plantgl.scenegraph._pglsg.Scene object at 0x7f15d6d4fc30>"
       },
       "scene_9FzbLo2l8jT3eCPXyaKPH6jEt": {
        "drc": {},
        "offsets": [
         0
        ],
        "position": [
         -104,
         -43,
         8
        ],
        "scale": 1,
        "scene": "<openalea.plantgl.scenegraph._pglsg.Scene object at 0x7f15d6d58df0>"
       },
       "scene_9IlOGeszsLlErDuHTNqFkRY5h": {
        "drc": {},
        "offsets": [
         0
        ],
        "position": [
         55,
         63,
         118
        ],
        "scale": 1,
        "scene": "<openalea.plantgl.scenegraph._pglsg.Scene object at 0x7f15d6c9ac30>"
       },
       "scene_9LBCMFjwrhsnpFsOzonG7kA4O": {
        "drc": {},
        "offsets": [
         0
        ],
        "position": [
         -19,
         7,
         6
        ],
        "scale": 1,
        "scene": "<openalea.plantgl.scenegraph._pglsg.Scene object at 0x7f15d6dcb370>"
       },
       "scene_9Rc50Sz0zsY8qLIcsf2mSHraW": {
        "drc": {},
        "offsets": [
         0
        ],
        "position": [
         -83,
         -45,
         34
        ],
        "scale": 1,
        "scene": "<openalea.plantgl.scenegraph._pglsg.Scene object at 0x7f15d7a1e6b0>"
       },
       "scene_A2NBsMzfIxwaJ8jeuElnFOjQd": {
        "drc": {},
        "offsets": [
         0
        ],
        "position": [
         117,
         -15,
         46
        ],
        "scale": 1,
        "scene": "<openalea.plantgl.scenegraph._pglsg.Scene object at 0x7f15d6cf6830>"
       },
       "scene_ADtwfnPZv7EKBk6yfDejLrld4": {
        "drc": {},
        "offsets": [
         0
        ],
        "position": [
         -79,
         32,
         -117
        ],
        "scale": 1,
        "scene": "<openalea.plantgl.scenegraph._pglsg.Scene object at 0x7f15d6eae5f0>"
       },
       "scene_AJXaQZ1erw4ucSjxGxdJMsLQr": {
        "drc": {},
        "offsets": [
         0
        ],
        "position": [
         -4,
         40,
         -9
        ],
        "scale": 1,
        "scene": "<openalea.plantgl.scenegraph._pglsg.Scene object at 0x7f15d6d62ab0>"
       },
       "scene_Ab1KtI12SqUdW1DhAykRx6Ukx": {
        "drc": {},
        "offsets": [
         0
        ],
        "position": [
         -47,
         -83,
         -67
        ],
        "scale": 1,
        "scene": "<openalea.plantgl.scenegraph._pglsg.Scene object at 0x7f15d6c67d70>"
       },
       "scene_BRPEx6hispxgoyrsfM2LVElzM": {
        "drc": {},
        "offsets": [
         0
        ],
        "position": [
         83,
         88,
         -56
        ],
        "scale": 1,
        "scene": "<openalea.plantgl.scenegraph._pglsg.Scene object at 0x7f15d6edaaf0>"
       },
       "scene_BT8gJi0wKcXkjkiSmLs8gWaK4": {
        "drc": {},
        "offsets": [
         0
        ],
        "position": [
         52,
         -71,
         -104
        ],
        "scale": 1,
        "scene": "<openalea.plantgl.scenegraph._pglsg.Scene object at 0x7f15d6cb7f70>"
       },
       "scene_BbWA48ZBIDprvffGHYBwwBM2w": {
        "drc": {},
        "offsets": [
         0
        ],
        "position": [
         49,
         -45,
         -42
        ],
        "scale": 1,
        "scene": "<openalea.plantgl.scenegraph._pglsg.Scene object at 0x7f15d6d3e070>"
       },
       "scene_BlcVAL3tW7iCju1CiNqUftW4Q": {
        "drc": {},
        "offsets": [
         0
        ],
        "position": [
         -44,
         -57,
         -65
        ],
        "scale": 1,
        "scene": "<openalea.plantgl.scenegraph._pglsg.Scene object at 0x7f15d6e789b0>"
       },
       "scene_BoIn2CU5aXYLYei2TSNuQJl0U": {
        "drc": {},
        "offsets": [
         0
        ],
        "position": [
         102,
         -37,
         80
        ],
        "scale": 1,
        "scene": "<openalea.plantgl.scenegraph._pglsg.Scene object at 0x7f15d6d74a70>"
       },
       "scene_BsgMYHZAG9avAKFMWG78Cdnr2": {
        "drc": {},
        "offsets": [
         0
        ],
        "position": [
         -55,
         -82,
         -78
        ],
        "scale": 1,
        "scene": "<openalea.plantgl.scenegraph._pglsg.Scene object at 0x7f15d6ea5930>"
       },
       "scene_Bu6Iakme6piVuwqo6wBa4vN7N": {
        "drc": {},
        "offsets": [
         0
        ],
        "position": [
         -21,
         -106,
         107
        ],
        "scale": 1,
        "scene": "<openalea.plantgl.scenegraph._pglsg.Scene object at 0x7f15d6bd6430>"
       },
       "scene_CU6cuamrip2U06w84UJ9IQhXn": {
        "drc": {},
        "offsets": [
         0
        ],
        "position": [
         87,
         -61,
         107
        ],
        "scale": 1,
        "scene": "<openalea.plantgl.scenegraph._pglsg.Scene object at 0x7f15d6ef4d70>"
       },
       "scene_CYxfqOKha9tQAKcvRn0JRn2dO": {
        "drc": {},
        "offsets": [
         0
        ],
        "position": [
         -80,
         59,
         -63
        ],
        "scale": 1,
        "scene": "<openalea.plantgl.scenegraph._pglsg.Scene object at 0x7f15d6deef30>"
       },
       "scene_D6jCNNYqqZeqEBMNPwewDMU19": {
        "drc": {},
        "offsets": [
         0
        ],
        "position": [
         60,
         -36,
         -3
        ],
        "scale": 1,
        "scene": "<openalea.plantgl.scenegraph._pglsg.Scene object at 0x7f15d6c79db0>"
       },
       "scene_DWPvvZwcCDS9YNdxvOBvO1m2h": {
        "drc": {},
        "offsets": [
         0
        ],
        "position": [
         -5,
         -32,
         38
        ],
        "scale": 1,
        "scene": "<openalea.plantgl.scenegraph._pglsg.Scene object at 0x7f15d6eeea30>"
       },
       "scene_E8hcs4gjfIq1ifExUVYFK0Otw": {
        "drc": {},
        "offsets": [
         0
        ],
        "position": [
         -71,
         -89,
         77
        ],
        "scale": 1,
        "scene": "<openalea.plantgl.scenegraph._pglsg.Scene object at 0x7f15d6e0a330>"
       },
       "scene_EPZnxQvPrgaHt7I0t2CnXNxTn": {
        "drc": {},
        "offsets": [
         0
        ],
        "position": [
         31,
         -1,
         95
        ],
        "scale": 1,
        "scene": "<openalea.plantgl.scenegraph._pglsg.Scene object at 0x7f15d6cd06b0>"
       },
       "scene_Ekdp0uud0V6vzDDm1ptUOHWQW": {
        "drc": {},
        "offsets": [
         0
        ],
        "position": [
         102,
         -116,
         -71
        ],
        "scale": 1,
        "scene": "<openalea.plantgl.scenegraph._pglsg.Scene object at 0x7f15d7a2af70>"
       },
       "scene_EwLZw19ayW1LltUrUfUNvhqf0": {
        "drc": {},
        "offsets": [
         0
        ],
        "position": [
         16,
         108,
         79
        ],
        "scale": 1,
        "scene": "<openalea.plantgl.scenegraph._pglsg.Scene object at 0x7f15d6d62cb0>"
       },
       "scene_EyVmu3ZlcW0C9V2NXChYYsO6P": {
        "drc": {},
        "offsets": [
         0
        ],
        "position": [
         23,
         119,
         27
        ],
        "scale": 1,
        "scene": "<openalea.plantgl.scenegraph._pglsg.Scene object at 0x7f15d6bd6a30>"
       },
       "scene_FpwOB1adQdR5RquLNKdn2HudU": {
        "drc": {},
        "offsets": [
         0
        ],
        "position": [
         47,
         -10,
         -79
        ],
        "scale": 1,
        "scene": "<openalea.plantgl.scenegraph._pglsg.Scene object at 0x7f15d6cc1cf0>"
       },
       "scene_GFoMo1M38kDf19roDDzALOEGq": {
        "drc": {},
        "offsets": [
         0
        ],
        "position": [
         77,
         -48,
         2
        ],
        "scale": 1,
        "scene": "<openalea.plantgl.scenegraph._pglsg.Scene object at 0x7f15d6d74df0>"
       },
       "scene_GoKPYfItxRSlIQgnfTRT9jn3h": {
        "drc": {},
        "offsets": [
         0
        ],
        "position": [
         66,
         28,
         -4
        ],
        "scale": 1,
        "scene": "<openalea.plantgl.scenegraph._pglsg.Scene object at 0x7f15d6c92f70>"
       },
       "scene_GpnbpKTrJxjgHlvXkSu9YJDby": {
        "drc": {},
        "offsets": [
         0
        ],
        "position": [
         -123,
         108,
         4
        ],
        "scale": 1,
        "scene": "<openalea.plantgl.scenegraph._pglsg.Scene object at 0x7f15d6e6ecf0>"
       },
       "scene_Gt14y111hjQZ84Va2jJLGFdcz": {
        "drc": {},
        "offsets": [
         0
        ],
        "position": [
         -79,
         88,
         -44
        ],
        "scale": 1,
        "scene": "<openalea.plantgl.scenegraph._pglsg.Scene object at 0x7f15d6f164f0>"
       },
       "scene_HBY7EFoOY6KdW4sw6YXFwfYlh": {
        "drc": {},
        "offsets": [
         0
        ],
        "position": [
         -110,
         109,
         88
        ],
        "scale": 1,
        "scene": "<openalea.plantgl.scenegraph._pglsg.Scene object at 0x7f15d6e78370>"
       },
       "scene_HMf1GbW5PYJ6u6M7PNixc1Dpj": {
        "drc": {},
        "offsets": [
         0
        ],
        "position": [
         -67,
         60,
         99
        ],
        "scale": 1,
        "scene": "<openalea.plantgl.scenegraph._pglsg.Scene object at 0x7f15d6ddefb0>"
       },
       "scene_HpfHeTpx2T6VHE310SWh3trv5": {
        "drc": {},
        "offsets": [
         0
        ],
        "position": [
         8,
         73,
         75
        ],
        "scale": 1,
        "scene": "<openalea.plantgl.scenegraph._pglsg.Scene object at 0x7f15d6c92430>"
       },
       "scene_I43NFM5vqoU7MMwV4atFNhssN": {
        "drc": {},
        "offsets": [
         0
        ],
        "position": [
         -111,
         91,
         -46
        ],
        "scale": 1,
        "scene": "<openalea.plantgl.scenegraph._pglsg.Scene object at 0x7f15d6f2ad70>"
       },
       "scene_IY2fji4qNKZOxVz9BOcOF6VlU": {
        "drc": {},
        "offsets": [
         0
        ],
        "position": [
         57,
         -14,
         54
        ],
        "scale": 1,
        "scene": "<openalea.plantgl.scenegraph._pglsg.Scene object at 0x7f15d6effa30>"
       },
       "scene_IpZMMjRPlvcxNjT0fXJntBKSV": {
        "drc": {},
        "offsets": [
         0
        ],
        "position": [
         -116,
         -3,
         -33
        ],
        "scale": 1,
        "scene": "<openalea.plantgl.scenegraph._pglsg.Scene object at 0x7f15d6db29b0>"
       },
       "scene_JCk444FIM3pKAxLxZXsMP1Wsv": {
        "drc": {},
        "offsets": [
         0
        ],
        "position": [
         98,
         -90,
         -16
        ],
        "scale": 1,
        "scene": "<openalea.plantgl.scenegraph._pglsg.Scene object at 0x7f15d7a03df0>"
       },
       "scene_JWeKhQPvqvBvjal107EEX9ZhH": {
        "drc": {},
        "offsets": [
         0
        ],
        "position": [
         -59,
         -107,
         62
        ],
        "scale": 1,
        "scene": "<openalea.plantgl.scenegraph._pglsg.Scene object at 0x7f15d6c85a70>"
       },
       "scene_JcXyVLkjq2BpEwciekDCgXq4f": {
        "drc": {},
        "offsets": [
         0
        ],
        "position": [
         19,
         -108,
         -9
        ],
        "scale": 1,
        "scene": "<openalea.plantgl.scenegraph._pglsg.Scene object at 0x7f15d6d74430>"
       },
       "scene_JnjILcEVjPCGsEu3HyUtBYFYM": {
        "drc": {},
        "offsets": [
         0
        ],
        "position": [
         20,
         86,
         115
        ],
        "scale": 1,
        "scene": "<openalea.plantgl.scenegraph._pglsg.Scene object at 0x7f15d6dc5f70>"
       },
       "scene_KHeEoLN6aFdqNcACktb3GNL6F": {
        "drc": {},
        "offsets": [
         0
        ],
        "position": [
         -54,
         77,
         -52
        ],
        "scale": 1,
        "scene": "<openalea.plantgl.scenegraph._pglsg.Scene object at 0x7f15d6ec2470>"
       },
       "scene_Ka5XXken7DnehuqsEAbjpY4gU": {
        "drc": {},
        "offsets": [
         0
        ],
        "position": [
         6,
         -81,
         -89
        ],
        "scale": 1,
        "scene": "<openalea.plantgl.scenegraph._pglsg.Scene object at 0x7f15d6ca4eb0>"
       },
       "scene_Lh0HThUf8mj6VSxo7pvL8XSav": {
        "drc": {},
        "offsets": [
         0
        ],
        "position": [
         -41,
         -41,
         103
        ],
        "scale": 1,
        "scene": "<openalea.plantgl.scenegraph._pglsg.Scene object at 0x7f15d6c46f70>"
       },
       "scene_Ln3ArDOOHQ9pD3KAktpxnvvWe": {
        "drc": {},
        "offsets": [
         0
        ],
        "position": [
         0,
         102,
         17
        ],
        "scale": 1,
        "scene": "<openalea.plantgl.scenegraph._pglsg.Scene object at 0x7f15d6caca70>"
       },
       "scene_LrbKAoMXtDp0ncBC5m4GvMzqa": {
        "drc": {},
        "offsets": [
         0
        ],
        "position": [
         -57,
         87,
         -43
        ],
        "scale": 1,
        "scene": "<openalea.plantgl.scenegraph._pglsg.Scene object at 0x7f15d6cec7b0>"
       },
       "scene_M8hne5Pk5O2wbXIrt3wF1XXCu": {
        "drc": {},
        "offsets": [
         0
        ],
        "position": [
         71,
         -64,
         25
        ],
        "scale": 1,
        "scene": "<openalea.plantgl.scenegraph._pglsg.Scene object at 0x7f15d6e663f0>"
       },
       "scene_Md75Qe1kLTWadp6Oo69owQ0Cb": {
        "drc": {},
        "offsets": [
         0
        ],
        "position": [
         108,
         -120,
         10
        ],
        "scale": 1,
        "scene": "<openalea.plantgl.scenegraph._pglsg.Scene object at 0x7f15d7a2a8f0>"
       },
       "scene_Mdgdg9KnSNsnpWcRRg16PIy0R": {
        "drc": {},
        "offsets": [
         0
        ],
        "position": [
         97,
         31,
         96
        ],
        "scale": 1,
        "scene": "<openalea.plantgl.scenegraph._pglsg.Scene object at 0x7f15d7a305f0>"
       },
       "scene_MwSPJrFXFjxVjUk5YJQTvTdDb": {
        "drc": {},
        "offsets": [
         0
        ],
        "position": [
         -124,
         -58,
         124
        ],
        "scale": 1,
        "scene": "<openalea.plantgl.scenegraph._pglsg.Scene object at 0x7f15d6c4b330>"
       },
       "scene_NugO9x6PzWNgNSbpNCvCXcKIG": {
        "drc": {},
        "offsets": [
         0
        ],
        "position": [
         86,
         101,
         -65
        ],
        "scale": 1,
        "scene": "<openalea.plantgl.scenegraph._pglsg.Scene object at 0x7f15d6c85430>"
       },
       "scene_OBVKKUCSkD0tHqCdQ5ruJgFpV": {
        "drc": {},
        "offsets": [
         0
        ],
        "position": [
         -31,
         -109,
         -35
        ],
        "scale": 1,
        "scene": "<openalea.plantgl.scenegraph._pglsg.Scene object at 0x7f15d6d6adb0>"
       },
       "scene_OW0kK8IqrCj2b9chbFjFykmK4": {
        "drc": {},
        "offsets": [
         0
        ],
        "position": [
         61,
         -102,
         -113
        ],
        "scale": 1,
        "scene": "<openalea.plantgl.scenegraph._pglsg.Scene object at 0x7f15d6d08db0>"
       },
       "scene_OpDU1L65iaVI6EgnuLkTKuFwd": {
        "drc": {},
        "offsets": [
         0
        ],
        "position": [
         -7,
         10,
         107
        ],
        "scale": 1,
        "scene": "<openalea.plantgl.scenegraph._pglsg.Scene object at 0x7f15d6dcbdb0>"
       },
       "scene_OpNOWvSPxfF0PLnBHO5kRTlgT": {
        "drc": {},
        "offsets": [
         0
        ],
        "position": [
         -122,
         -11,
         -55
        ],
        "scale": 1,
        "scene": "<openalea.plantgl.scenegraph._pglsg.Scene object at 0x7f15d6f207f0>"
       },
       "scene_OtjVzJ2sw2AnFVAGGIhrdhDYC": {
        "drc": {},
        "offsets": [
         0
        ],
        "position": [
         -69,
         4,
         28
        ],
        "scale": 1,
        "scene": "<openalea.plantgl.scenegraph._pglsg.Scene object at 0x7f15d6d8c4f0>"
       },
       "scene_PN5SpLYZ1xyjd7RJQ5GCs1ltl": {
        "drc": {},
        "offsets": [
         0
        ],
        "position": [
         -2,
         -79,
         -124
        ],
        "scale": 1,
        "scene": "<openalea.plantgl.scenegraph._pglsg.Scene object at 0x7f15d6eb77f0>"
       },
       "scene_PWpjL7hppdUZlVN0etKUYcSYa": {
        "drc": {},
        "offsets": [
         0
        ],
        "position": [
         0,
         -49,
         -53
        ],
        "scale": 1,
        "scene": "<openalea.plantgl.scenegraph._pglsg.Scene object at 0x7f15d6e53430>"
       },
       "scene_PX851Vs51PQFriP2rUxvcW2Lu": {
        "drc": {},
        "offsets": [
         0
        ],
        "position": [
         -111,
         33,
         81
        ],
        "scale": 1,
        "scene": "<openalea.plantgl.scenegraph._pglsg.Scene object at 0x7f15d6c16630>"
       },
       "scene_Pb6aeHllioEwHyqNSpDKwke9u": {
        "drc": {},
        "offsets": [
         0
        ],
        "position": [
         -51,
         87,
         -82
        ],
        "scale": 1,
        "scene": "<openalea.plantgl.scenegraph._pglsg.Scene object at 0x7f15d6d1d5f0>"
       },
       "scene_Q5Q3TkB5sgoJpJasrPMUbEOrt": {
        "drc": {},
        "offsets": [
         0
        ],
        "position": [
         -37,
         -107,
         -126
        ],
        "scale": 1,
        "scene": "<openalea.plantgl.scenegraph._pglsg.Scene object at 0x7f15d6d0d670>"
       },
       "scene_QC3KYP3jOGeIUzwEtDWBMO0I4": {
        "drc": {},
        "offsets": [
         0
        ],
        "position": [
         15,
         60,
         75
        ],
        "scale": 1,
        "scene": "<openalea.plantgl.scenegraph._pglsg.Scene object at 0x7f15d7a16a30>"
       },
       "scene_QgFBgHs504cXxuPANLcijBiJp": {
        "drc": {},
        "offsets": [
         0
        ],
        "position": [
         -1,
         88,
         108
        ],
        "scale": 1,
        "scene": "<openalea.plantgl.scenegraph._pglsg.Scene object at 0x7f15d6f3b930>"
       },
       "scene_RBXHSr1ImvzHGLCsODblT5L9y": {
        "drc": {},
        "offsets": [
         0
        ],
        "position": [
         123,
         0,
         -30
        ],
        "scale": 1,
        "scene": "<openalea.plantgl.scenegraph._pglsg.Scene object at 0x7f15d6e9b630>"
       },
       "scene_RbYzyjwbAepTaT5oP8CNeHneW": {
        "drc": {},
        "offsets": [
         0
        ],
        "position": [
         113,
         -16,
         98
        ],
        "scale": 1,
        "scene": "<openalea.plantgl.scenegraph._pglsg.Scene object at 0x7f15d6d32bb0>"
       },
       "scene_S7f6xtb4LDYu74JPUXgSGnDUP": {
        "drc": {},
        "offsets": [
         0
        ],
        "position": [
         -60,
         96,
         -69
        ],
        "scale": 1,
        "scene": "<openalea.plantgl.scenegraph._pglsg.Scene object at 0x7f15d6c554b0>"
       },
       "scene_SToXbR78Kv2UJv30FBrsx7q3t": {
        "drc": {},
        "offsets": [
         0
        ],
        "position": [
         115,
         -117,
         -61
        ],
        "scale": 1,
        "scene": "<openalea.plantgl.scenegraph._pglsg.Scene object at 0x7f15d7a163f0>"
       },
       "scene_TI0Gnd3X0kuh9OW7DvUaiWWrm": {
        "drc": {},
        "offsets": [
         0
        ],
        "position": [
         15,
         47,
         -95
        ],
        "scale": 1,
        "scene": "<openalea.plantgl.scenegraph._pglsg.Scene object at 0x7f15d6eff3f0>"
       },
       "scene_TQzmtN6WS7ILClUOp82v33NU8": {
        "drc": {},
        "offsets": [
         0
        ],
        "position": [
         -28,
         40,
         80
        ],
        "scale": 1,
        "scene": "<openalea.plantgl.scenegraph._pglsg.Scene object at 0x7f15d6c9a3f0>"
       },
       "scene_TZvwvL7ZiPVbRCy7xI88rM8d8": {
        "drc": {},
        "offsets": [
         0
        ],
        "position": [
         122,
         -51,
         108
        ],
        "scale": 1,
        "scene": "<openalea.plantgl.scenegraph._pglsg.Scene object at 0x7f15d6f0ce70>"
       },
       "scene_Tm48BilMVXLYhILE59C1eXQ3I": {
        "drc": {},
        "offsets": [
         0
        ],
        "position": [
         -111,
         114,
         4
        ],
        "scale": 1,
        "scene": "<openalea.plantgl.scenegraph._pglsg.Scene object at 0x7f15d6da86b0>"
       },
       "scene_TtCxJsH4GCQI9rXZEELNiBfsI": {
        "drc": {},
        "offsets": [
         0
        ],
        "position": [
         -56,
         -33,
         -80
        ],
        "scale": 1,
        "scene": "<openalea.plantgl.scenegraph._pglsg.Scene object at 0x7f15d6cace70>"
       },
       "scene_Twmvemr6OJiNhNojjEr1kRfsv": {
        "drc": {},
        "offsets": [
         0
        ],
        "position": [
         27,
         121,
         -66
        ],
        "scale": 1,
        "scene": "<openalea.plantgl.scenegraph._pglsg.Scene object at 0x7f15d6d2b8f0>"
       },
       "scene_TyJB2ukoWUV2BTVNkmm9FMPCQ": {
        "drc": {},
        "offsets": [
         0
        ],
        "position": [
         -114,
         71,
         -102
        ],
        "scale": 1,
        "scene": "<openalea.plantgl.scenegraph._pglsg.Scene object at 0x7f15d6e669f0>"
       },
       "scene_TzQELVRYm3AIfhoMbfxxTPl6B": {
        "drc": {},
        "offsets": [
         0
        ],
        "position": [
         14,
         85,
         11
        ],
        "scale": 1,
        "scene": "<openalea.plantgl.scenegraph._pglsg.Scene object at 0x7f15d6e0a970>"
       },
       "scene_U8tmzdoPYNhDuOsYlxsrBPIch": {
        "drc": {},
        "offsets": [
         0
        ],
        "position": [
         -87,
         -13,
         -108
        ],
        "scale": 1,
        "scene": "<openalea.plantgl.scenegraph._pglsg.Scene object at 0x7f15d6f0c830>"
       },
       "scene_UVrCwjI1DHSxC4848WU4GyNBQ": {
        "drc": {},
        "offsets": [
         0
        ],
        "position": [
         124,
         -49,
         -93
        ],
        "scale": 1,
        "scene": "<openalea.plantgl.scenegraph._pglsg.Scene object at 0x7f15d6db2370>"
       },
       "scene_UrgpSgcJ3L4BCaKWzVYSyohNX": {
        "drc": {},
        "offsets": [
         0
        ],
        "position": [
         57,
         -90,
         77
        ],
        "scale": 1,
        "scene": "<openalea.plantgl.scenegraph._pglsg.Scene object at 0x7f15d6dde330>"
       },
       "scene_V4rVifyAXPUQ47MkpaQ8GWUlO": {
        "drc": {},
        "offsets": [
         0
        ],
        "position": [
         -108,
         -12,
         -31
        ],
        "scale": 1,
        "scene": "<openalea.plantgl.scenegraph._pglsg.Scene object at 0x7f15d79eedb0>"
       },
       "scene_V6a5zZQDYYhjR8QuMj5eqpXEG": {
        "drc": {},
        "offsets": [
         0
        ],
        "position": [
         -43,
         -91,
         33
        ],
        "scale": 1,
        "scene": "<openalea.plantgl.scenegraph._pglsg.Scene object at 0x7f15d6d9e9f0>"
       },
       "scene_V9FMJyHI4UG36WV3BYxrFRFpT": {
        "drc": {},
        "offsets": [
         0
        ],
        "position": [
         -95,
         117,
         54
        ],
        "scale": 1,
        "scene": "<openalea.plantgl.scenegraph._pglsg.Scene object at 0x7f15d6c163f0>"
       },
       "scene_VB6uz9ILbuGdK6dzcWtwbTb8n": {
        "drc": {},
        "offsets": [
         0
        ],
        "position": [
         -51,
         -70,
         -34
        ],
        "scale": 1,
        "scene": "<openalea.plantgl.scenegraph._pglsg.Scene object at 0x7f15d6da8cf0>"
       },
       "scene_VLwtdlEKJFVsW1zWbYfIbOsgA": {
        "drc": {},
        "offsets": [
         0
        ],
        "position": [
         -65,
         -54,
         10
        ],
        "scale": 1,
        "scene": "<openalea.plantgl.scenegraph._pglsg.Scene object at 0x7f15d6e038b0>"
       },
       "scene_VPpldsqUvjiA2NQQEcF25wNqe": {
        "drc": {},
        "offsets": [
         0
        ],
        "position": [
         -31,
         -25,
         8
        ],
        "scale": 1,
        "scene": "<openalea.plantgl.scenegraph._pglsg.Scene object at 0x7f15d6ca4130>"
       },
       "scene_W13bkIOJ5AURRJtj7tAdpK78C": {
        "drc": {},
        "offsets": [
         0
        ],
        "position": [
         39,
         55,
         65
        ],
        "scale": 1,
        "scene": "<openalea.plantgl.scenegraph._pglsg.Scene object at 0x7f15d6dfbbf0>"
       },
       "scene_WXT7m5bTFLsprHmFV0Jy9WF8M": {
        "drc": {},
        "offsets": [
         0
        ],
        "position": [
         125,
         95,
         -29
        ],
        "scale": 1,
        "scene": "<openalea.plantgl.scenegraph._pglsg.Scene object at 0x7f15d6c4be30>"
       },
       "scene_WlxVyG8R8asVOQI3uvtOETHQU": {
        "drc": {},
        "offsets": [
         0
        ],
        "position": [
         -45,
         -106,
         -89
        ],
        "scale": 1,
        "scene": "<openalea.plantgl.scenegraph._pglsg.Scene object at 0x7f15d6e80cb0>"
       },
       "scene_WmWRMhn4XVkjEr60bl3mCAAVL": {
        "drc": {},
        "offsets": [
         0
        ],
        "position": [
         -100,
         5,
         -120
        ],
        "scale": 1,
        "scene": "<openalea.plantgl.scenegraph._pglsg.Scene object at 0x7f15d6e3acb0>"
       },
       "scene_WudrkX7NYPJ2NTQtPCvPAE9wM": {
        "drc": {},
        "offsets": [
         0
        ],
        "position": [
         -19,
         -100,
         -58
        ],
        "scale": 1,
        "scene": "<openalea.plantgl.scenegraph._pglsg.Scene object at 0x7f15d6d58170>"
       },
       "scene_X44qD6JfNZWiEcRrrZK57Xvov": {
        "drc": {},
        "offsets": [
         0
        ],
        "position": [
         75,
         47,
         32
        ],
        "scale": 1,
        "scene": "<openalea.plantgl.scenegraph._pglsg.Scene object at 0x7f15d7a03170>"
       },
       "scene_XWm4WUu5hpO6Xn7pGegbnBwS2": {
        "drc": {},
        "offsets": [
         0
        ],
        "position": [
         7,
         107,
         -39
        ],
        "scale": 1,
        "scene": "<openalea.plantgl.scenegraph._pglsg.Scene object at 0x7f15d6ede7b0>"
       },
       "scene_YC1I9DFLE6zg4knIlZ0XhNl0i": {
        "drc": {},
        "offsets": [
         0
        ],
        "position": [
         -46,
         -108,
         -53
        ],
        "scale": 1,
        "scene": "<openalea.plantgl.scenegraph._pglsg.Scene object at 0x7f15d6c790b0>"
       },
       "scene_YL9Qs8aSleXEd2udMXJX1KVMD": {
        "drc": {},
        "offsets": [
         0
        ],
        "position": [
         -26,
         -90,
         -22
        ],
        "scale": 1,
        "scene": "<openalea.plantgl.scenegraph._pglsg.Scene object at 0x7f15d6c464b0>"
       },
       "scene_YWUs88cepq7RyX59s91rS2DAz": {
        "drc": {},
        "offsets": [
         0
        ],
        "position": [
         90,
         -83,
         3
        ],
        "scale": 1,
        "scene": "<openalea.plantgl.scenegraph._pglsg.Scene object at 0x7f15d6ec9db0>"
       },
       "scene_YaPoXMOo1qKwn40WSBHwesvpy": {
        "drc": {},
        "offsets": [
         0
        ],
        "position": [
         33,
         109,
         39
        ],
        "scale": 1,
        "scene": "<openalea.plantgl.scenegraph._pglsg.Scene object at 0x7f15d6e1d930>"
       },
       "scene_YiebsCt5DDL1aK9MHoRQKRMiM": {
        "drc": {},
        "offsets": [
         0
        ],
        "position": [
         55,
         5,
         -42
        ],
        "scale": 1,
        "scene": "<openalea.plantgl.scenegraph._pglsg.Scene object at 0x7f15d6cff470>"
       },
       "scene_YjIHZAThz92x65EgF14p3HlYj": {
        "drc": {},
        "offsets": [
         0
        ],
        "position": [
         64,
         -84,
         -4
        ],
        "scale": 1,
        "scene": "<openalea.plantgl.scenegraph._pglsg.Scene object at 0x7f15d79fa730>"
       },
       "scene_YoIg0gr0aFoVgpgob4dzFBRVb": {
        "drc": {},
        "offsets": [
         0
        ],
        "position": [
         88,
         -16,
         -65
        ],
        "scale": 1,
        "scene": "<openalea.plantgl.scenegraph._pglsg.Scene object at 0x7f15d6f2aaf0>"
       },
       "scene_Yrre7z2VvVv71gHa4lOnlNLn0": {
        "drc": {},
        "offsets": [
         0
        ],
        "position": [
         28,
         -117,
         -17
        ],
        "scale": 1,
        "scene": "<openalea.plantgl.scenegraph._pglsg.Scene object at 0x7f15d6eb70b0>"
       },
       "scene_ZQ8HVF7YxzIQKvF2GKyWkwHu6": {
        "drc": {},
        "offsets": [
         0
        ],
        "position": [
         64,
         16,
         -55
        ],
        "scale": 1,
        "scene": "<openalea.plantgl.scenegraph._pglsg.Scene object at 0x7f15d6d08770>"
       },
       "scene_ZSZrNMpkEX4XCfFQ2kJv4nnWm": {
        "drc": {},
        "offsets": [
         0
        ],
        "position": [
         20,
         -94,
         -54
        ],
        "scale": 1,
        "scene": "<openalea.plantgl.scenegraph._pglsg.Scene object at 0x7f15d6c1fc30>"
       },
       "scene_ZTtvF9PRBu5ENfGvAlkmUwhcH": {
        "drc": {},
        "offsets": [
         0
        ],
        "position": [
         -55,
         76,
         -85
        ],
        "scale": 1,
        "scene": "<openalea.plantgl.scenegraph._pglsg.Scene object at 0x7f15d79fa3b0>"
       },
       "scene_a7QvEDxXIHkJdLo3sG6lOqDE4": {
        "drc": {},
        "offsets": [
         0
        ],
        "position": [
         -7,
         -60,
         1
        ],
        "scale": 1,
        "scene": "<openalea.plantgl.scenegraph._pglsg.Scene object at 0x7f15d6c31b70>"
       },
       "scene_aXn1wwnqseugTg1T91la1RpVO": {
        "drc": {},
        "offsets": [
         0
        ],
        "position": [
         -86,
         -42,
         -64
        ],
        "scale": 1,
        "scene": "<openalea.plantgl.scenegraph._pglsg.Scene object at 0x7f15d6eeedf0>"
       },
       "scene_ag6sWBviYO3qgiUv9hXVH1aNF": {
        "drc": {},
        "offsets": [
         0
        ],
        "position": [
         64,
         70,
         -41
        ],
        "scale": 1,
        "scene": "<openalea.plantgl.scenegraph._pglsg.Scene object at 0x7f15d6d873b0>"
       },
       "scene_alpaIzxQwc6xD7B7b96NAaWU2": {
        "drc": {},
        "offsets": [
         0
        ],
        "position": [
         -42,
         -100,
         12
        ],
        "scale": 1,
        "scene": "<openalea.plantgl.scenegraph._pglsg.Scene object at 0x7f15d6eaebb0>"
       },
       "scene_b1MfsIiDK9ZDmQWbbxksjguUb": {
        "drc": {},
        "offsets": [
         0
        ],
        "position": [
         -42,
         11,
         67
        ],
        "scale": 1,
        "scene": "<openalea.plantgl.scenegraph._pglsg.Scene object at 0x7f15d6dc52f0>"
       },
       "scene_b2gAmU5MCRB06LeD8LYRosa4d": {
        "drc": {},
        "offsets": [
         0
        ],
        "position": [
         -85,
         6,
         -47
        ],
        "scale": 1,
        "scene": "<openalea.plantgl.scenegraph._pglsg.Scene object at 0x7f15d6dee8f0>"
       },
       "scene_bl34o3jl8iZVCwPisUtRKTPdy": {
        "drc": {},
        "offsets": [
         0
        ],
        "position": [
         7,
         -59,
         88
        ],
        "scale": 1,
        "scene": "<openalea.plantgl.scenegraph._pglsg.Scene object at 0x7f15d6c5d7b0>"
       },
       "scene_c3NgHWdW54DTFVJeALnHcxKvB": {
        "drc": {},
        "offsets": [
         0
        ],
        "position": [
         -43,
         20,
         -50
        ],
        "scale": 1,
        "scene": "<openalea.plantgl.scenegraph._pglsg.Scene object at 0x7f15d6ece7f0>"
       },
       "scene_cCm6lBI14RtjOIZgBCSLmXknq": {
        "drc": {},
        "offsets": [
         0
        ],
        "position": [
         77,
         124,
         -119
        ],
        "scale": 1,
        "scene": "<openalea.plantgl.scenegraph._pglsg.Scene object at 0x7f15d6f3be70>"
       },
       "scene_cFlvmIh1t55d4lufj6UIJgp62": {
        "drc": {},
        "offsets": [
         0
        ],
        "position": [
         -13,
         21,
         99
        ],
        "scale": 1,
        "scene": "<openalea.plantgl.scenegraph._pglsg.Scene object at 0x7f15d6c0dd70>"
       },
       "scene_cNFjK2qnbLItGbWFlr1iuHsUj": {
        "drc": {},
        "offsets": [
         0
        ],
        "position": [
         -42,
         -9,
         -51
        ],
        "scale": 1,
        "scene": "<openalea.plantgl.scenegraph._pglsg.Scene object at 0x7f15d6d325b0>"
       },
       "scene_clFuMObtLPM8CNgPr5gX276wV": {
        "drc": {},
        "offsets": [
         0
        ],
        "position": [
         -84,
         -38,
         -105
        ],
        "scale": 1,
        "scene": "<openalea.plantgl.scenegraph._pglsg.Scene object at 0x7f15d6e1d2f0>"
       },
       "scene_cmLfTvR4nerrkzgvHmVadxprn": {
        "drc": {},
        "offsets": [
         0
        ],
        "position": [
         -111,
         118,
         -21
        ],
        "scale": 1,
        "scene": "<openalea.plantgl.scenegraph._pglsg.Scene object at 0x7f15d6f33c70>"
       },
       "scene_cv7xredi5FM7NEoVVWIqrjGeI": {
        "drc": {},
        "offsets": [
         0
        ],
        "position": [
         -73,
         -3,
         -76
        ],
        "scale": 1,
        "scene": "<openalea.plantgl.scenegraph._pglsg.Scene object at 0x7f15d6e13c70>"
       },
       "scene_d6aA7nR79tUUcJDNg1ETilhaA": {
        "drc": {},
        "offsets": [
         0
        ],
        "position": [
         83,
         57,
         91
        ],
        "scale": 1,
        "scene": "<openalea.plantgl.scenegraph._pglsg.Scene object at 0x7f15d6db2fb0>"
       },
       "scene_dROBftzB20nfkrHYAFYPQG3Os": {
        "drc": {},
        "offsets": [
         0
        ],
        "position": [
         -9,
         94,
         -58
        ],
        "scale": 1,
        "scene": "<openalea.plantgl.scenegraph._pglsg.Scene object at 0x7f15d6de6630>"
       },
       "scene_dRhS2JsVrDsyrsVbyUfCLBI2J": {
        "drc": {},
        "offsets": [
         0
        ],
        "position": [
         -123,
         -100,
         42
        ],
        "scale": 1,
        "scene": "<openalea.plantgl.scenegraph._pglsg.Scene object at 0x7f15d7a2a330>"
       },
       "scene_dsAHp0MEaRrMNmlYrwuitleZc": {
        "drc": {},
        "offsets": [
         0
        ],
        "position": [
         -40,
         -64,
         11
        ],
        "scale": 1,
        "scene": "<openalea.plantgl.scenegraph._pglsg.Scene object at 0x7f15d6e78db0>"
       },
       "scene_dugufW6Fu0VZsPwg7ArKOAztj": {
        "drc": {},
        "offsets": [
         0
        ],
        "position": [
         118,
         106,
         -52
        ],
        "scale": 1,
        "scene": "<openalea.plantgl.scenegraph._pglsg.Scene object at 0x7f15d6c5ddf0>"
       },
       "scene_dvJoqgBuyxrIZuSXgQHATwNCr": {
        "drc": {},
        "offsets": [
         0
        ],
        "position": [
         22,
         -114,
         8
        ],
        "scale": 1,
        "scene": "<openalea.plantgl.scenegraph._pglsg.Scene object at 0x7f15d6dc5930>"
       },
       "scene_effpNBdY8EnrzbicIDmECKo3n": {
        "drc": {},
        "offsets": [
         0
        ],
        "position": [
         -124,
         -40,
         28
        ],
        "scale": 1,
        "scene": "<openalea.plantgl.scenegraph._pglsg.Scene object at 0x7f15d6cb7670>"
       },
       "scene_eqfX4nrHls8VHqPMr8MQULcKq": {
        "drc": {},
        "offsets": [
         0
        ],
        "position": [
         -39,
         -71,
         23
        ],
        "scale": 1,
        "scene": "<openalea.plantgl.scenegraph._pglsg.Scene object at 0x7f15d6e2edf0>"
       },
       "scene_fcReNaw1OohdmzZwb8XwDh2ln": {
        "drc": {},
        "offsets": [
         0
        ],
        "position": [
         52,
         78,
         -20
        ],
        "scale": 1,
        "scene": "<openalea.plantgl.scenegraph._pglsg.Scene object at 0x7f15d6e1def0>"
       },
       "scene_g6dhUvMu4SbG2UadSNYBC7MhT": {
        "drc": {},
        "offsets": [
         0
        ],
        "position": [
         -76,
         52,
         -125
        ],
        "scale": 1,
        "scene": "<openalea.plantgl.scenegraph._pglsg.Scene object at 0x7f15d79faa70>"
       },
       "scene_g6jJye5To9blkOo3g5FhmPgI0": {
        "drc": {},
        "offsets": [
         0
        ],
        "position": [
         98,
         -117,
         76
        ],
        "scale": 1,
        "scene": "<openalea.plantgl.scenegraph._pglsg.Scene object at 0x7f15d6ededf0>"
       },
       "scene_gCaDVe1uFdRI5fL7Y3R2lkLko": {
        "drc": {},
        "offsets": [
         0
        ],
        "position": [
         -99,
         -77,
         -69
        ],
        "scale": 1,
        "scene": "<openalea.plantgl.scenegraph._pglsg.Scene object at 0x7f15d6f45b30>"
       },
       "scene_gdTs6NGNUm7wgdohlvX9gkIaL": {
        "drc": {},
        "offsets": [
         0
        ],
        "position": [
         -81,
         -118,
         81
        ],
        "scale": 1,
        "scene": "<openalea.plantgl.scenegraph._pglsg.Scene object at 0x7f15d6c315b0>"
       },
       "scene_gkdJ7NQWSsxzRD35r4gdB7kxY": {
        "drc": {},
        "offsets": [
         0
        ],
        "position": [
         53,
         -41,
         -33
        ],
        "scale": 1,
        "scene": "<openalea.plantgl.scenegraph._pglsg.Scene object at 0x7f15d6dd5670>"
       },
       "scene_gyrligm007okNEBC1LepvgBAJ": {
        "drc": {},
        "offsets": [
         0
        ],
        "position": [
         -73,
         -45,
         89
        ],
        "scale": 1,
        "scene": "<openalea.plantgl.scenegraph._pglsg.Scene object at 0x7f15d6d162f0>"
       },
       "scene_i0I6n0er1V5gJwieUDqYW3YKe": {
        "drc": {},
        "offsets": [
         0
        ],
        "position": [
         53,
         6,
         68
        ],
        "scale": 1,
        "scene": "<openalea.plantgl.scenegraph._pglsg.Scene object at 0x7f15d6e2e7b0>"
       },
       "scene_j1DbwFL9h8WxYc8R6miMPlFDy": {
        "drc": {},
        "offsets": [
         0
        ],
        "position": [
         80,
         34,
         17
        ],
        "scale": 1,
        "scene": "<openalea.plantgl.scenegraph._pglsg.Scene object at 0x7f15d6ce0af0>"
       },
       "scene_jDCcJahVmNgkfGQE3Ueqeqjg9": {
        "drc": {},
        "offsets": [
         0
        ],
        "position": [
         18,
         68,
         90
        ],
        "scale": 1,
        "scene": "<openalea.plantgl.scenegraph._pglsg.Scene object at 0x7f15d6cec0b0>"
       },
       "scene_jEdrdJgPf7dhkogiXl8G5mYjy": {
        "drc": {},
        "offsets": [
         0
        ],
        "position": [
         -108,
         86,
         -70
        ],
        "scale": 1,
        "scene": "<openalea.plantgl.scenegraph._pglsg.Scene object at 0x7f15d6e3aab0>"
       },
       "scene_jHGvH2orHPN1AKaXyDow4J3m9": {
        "drc": {},
        "offsets": [
         0
        ],
        "position": [
         8,
         11,
         94
        ],
        "scale": 1,
        "scene": "<openalea.plantgl.scenegraph._pglsg.Scene object at 0x7f15d6dfb5b0>"
       },
       "scene_jnYGXBNPLaiqeEmeWRTeqNPZU": {
        "drc": {},
        "offsets": [
         0
        ],
        "position": [
         53,
         15,
         -51
        ],
        "scale": 1,
        "scene": "<openalea.plantgl.scenegraph._pglsg.Scene object at 0x7f15d6f33570>"
       },
       "scene_jrRSykMAbZrf5xt4iP5SMbtXN": {
        "drc": {},
        "offsets": [
         0
        ],
        "position": [
         121,
         -9,
         -43
        ],
        "scale": 1,
        "scene": "<openalea.plantgl.scenegraph._pglsg.Scene object at 0x7f15d6d9e3b0>"
       },
       "scene_k66AddavF5svnguSwnepc0i1y": {
        "drc": {},
        "offsets": [
         0
        ],
        "position": [
         93,
         -89,
         -26
        ],
        "scale": 1,
        "scene": "<openalea.plantgl.scenegraph._pglsg.Scene object at 0x7f15d6c288f0>"
       },
       "scene_kL3cgFHKJ39SMDEAHFr34oS5G": {
        "drc": {},
        "offsets": [
         0
        ],
        "position": [
         -27,
         -63,
         115
        ],
        "scale": 1,
        "scene": "<openalea.plantgl.scenegraph._pglsg.Scene object at 0x7f15d6c28170>"
       },
       "scene_kOa96CDzMmVpbsuln4gNKFwKL": {
        "drc": {},
        "offsets": [
         0
        ],
        "position": [
         -102,
         -90,
         -45
        ],
        "scale": 1,
        "scene": "<openalea.plantgl.scenegraph._pglsg.Scene object at 0x7f15d6ec9770>"
       },
       "scene_kPvOhB8eJLAOHlusmlVUn8WFh": {
        "drc": {},
        "offsets": [
         0
        ],
        "position": [
         -59,
         -47,
         107
        ],
        "scale": 1,
        "scene": "<openalea.plantgl.scenegraph._pglsg.Scene object at 0x7f15d6d93730>"
       },
       "scene_kwqYCLxb3qwRODowuIulUzzCC": {
        "drc": {},
        "offsets": [
         0
        ],
        "position": [
         -4,
         -13,
         86
        ],
        "scale": 1,
        "scene": "<openalea.plantgl.scenegraph._pglsg.Scene object at 0x7f15d6d483f0>"
       },
       "scene_l5IEsoOE28u4Y4Z4ovpt48H8M": {
        "drc": {},
        "offsets": [
         0
        ],
        "position": [
         102,
         9,
         37
        ],
        "scale": 1,
        "scene": "<openalea.plantgl.scenegraph._pglsg.Scene object at 0x7f15d6f45d30>"
       },
       "scene_lAp8cEsRe8dlJutZPCtxtvZoN": {
        "drc": {},
        "offsets": [
         0
        ],
        "position": [
         -46,
         -89,
         109
        ],
        "scale": 1,
        "scene": "<openalea.plantgl.scenegraph._pglsg.Scene object at 0x7f15d6d16f70>"
       },
       "scene_lYMkBrpofA6aM64KxUpYBxNS2": {
        "drc": {},
        "offsets": [
         0
        ],
        "position": [
         -18,
         104,
         3
        ],
        "scale": 1,
        "scene": "<openalea.plantgl.scenegraph._pglsg.Scene object at 0x7f15d6c705f0>"
       },
       "scene_mP1aTgwLDs2zH9i7yCGToDi8S": {
        "drc": {},
        "offsets": [
         0
        ],
        "position": [
         97,
         -116,
         -102
        ],
        "scale": 1,
        "scene": "<openalea.plantgl.scenegraph._pglsg.Scene object at 0x7f15d6e66f70>"
       },
       "scene_mT72y4ubtAAZ0CkBqfe40zSeB": {
        "drc": {},
        "offsets": [
         0
        ],
        "position": [
         -102,
         -112,
         -32
        ],
        "scale": 1,
        "scene": "<openalea.plantgl.scenegraph._pglsg.Scene object at 0x7f15d79fa430>"
       },
       "scene_mjwzvSfqNyywI5OfbjbeVtXw4": {
        "drc": {},
        "offsets": [
         0
        ],
        "position": [
         -20,
         -118,
         -77
        ],
        "scale": 1,
        "scene": "<openalea.plantgl.scenegraph._pglsg.Scene object at 0x7f15d6dde970>"
       },
       "scene_muYo4Wj0j8L29kgwyVqgr2bFa": {
        "drc": {},
        "offsets": [
         0
        ],
        "position": [
         -53,
         -72,
         -62
        ],
        "scale": 1,
        "scene": "<openalea.plantgl.scenegraph._pglsg.Scene object at 0x7f15d6d7cd70>"
       },
       "scene_myLo4cNzFQsmNyHqXyzle0L93": {
        "drc": {},
        "offsets": [
         0
        ],
        "position": [
         -54,
         -60,
         -24
        ],
        "scale": 1,
        "scene": "<openalea.plantgl.scenegraph._pglsg.Scene object at 0x7f15d6cc1730>"
       },
       "scene_n2xCf7dOB4KkZ7H66LE1RX8Kf": {
        "drc": {},
        "offsets": [
         0
        ],
        "position": [
         -45,
         32,
         -36
        ],
        "scale": 1,
        "scene": "<openalea.plantgl.scenegraph._pglsg.Scene object at 0x7f15d6e92330>"
       },
       "scene_n8RFfPadn35nW0bwqz5YOK3bE": {
        "drc": {},
        "offsets": [
         0
        ],
        "position": [
         -37,
         -55,
         59
        ],
        "scale": 1,
        "scene": "<openalea.plantgl.scenegraph._pglsg.Scene object at 0x7f15d6cf6df0>"
       },
       "scene_nG41YarueKHbQoELNncZnpRyq": {
        "drc": {},
        "offsets": [
         0
        ],
        "position": [
         4,
         -66,
         13
        ],
        "scale": 1,
        "scene": "<openalea.plantgl.scenegraph._pglsg.Scene object at 0x7f15d6bcedf0>"
       },
       "scene_nW9EksGmYl0B7omt3sxxrHHzj": {
        "drc": {},
        "offsets": [
         0
        ],
        "position": [
         125,
         -27,
         -38
        ],
        "scale": 1,
        "scene": "<openalea.plantgl.scenegraph._pglsg.Scene object at 0x7f15d6d0dc70>"
       },
       "scene_nXgCPkgkelRkRtJNxXlSHP7pP": {
        "drc": {},
        "offsets": [
         0
        ],
        "position": [
         -17,
         116,
         56
        ],
        "scale": 1,
        "scene": "<openalea.plantgl.scenegraph._pglsg.Scene object at 0x7f15d6f08cb0>"
       },
       "scene_nYpP8Iuo2M7rm37gH5892Gsv8": {
        "drc": {},
        "offsets": [
         0
        ],
        "position": [
         -61,
         118,
         -31
        ],
        "scale": 1,
        "scene": "<openalea.plantgl.scenegraph._pglsg.Scene object at 0x7f15d6edaf70>"
       },
       "scene_ncJDjAzqw4eTP9cQwDrYzxAaM": {
        "drc": {},
        "offsets": [
         0
        ],
        "position": [
         36,
         -38,
         -31
        ],
        "scale": 1,
        "scene": "<openalea.plantgl.scenegraph._pglsg.Scene object at 0x7f15d6eb7870>"
       },
       "scene_nlIkkriH4NgL7Lhnb8ucZVi4i": {
        "drc": {},
        "offsets": [
         0
        ],
        "position": [
         88,
         41,
         -115
        ],
        "scale": 1,
        "scene": "<openalea.plantgl.scenegraph._pglsg.Scene object at 0x7f15d6c79770>"
       },
       "scene_o2WK2y1kKISX1VGeFFKb7z8a5": {
        "drc": {},
        "offsets": [
         0
        ],
        "position": [
         -108,
         114,
         -81
        ],
        "scale": 1,
        "scene": "<openalea.plantgl.scenegraph._pglsg.Scene object at 0x7f15d6d62470>"
       },
       "scene_oRee7USzlNJ0mOlYZQkyZ3Xj6": {
        "drc": {},
        "offsets": [
         0
        ],
        "position": [
         65,
         11,
         -103
        ],
        "scale": 1,
        "scene": "<openalea.plantgl.scenegraph._pglsg.Scene object at 0x7f15d6ce0670>"
       },
       "scene_ok39RiQqd2JEAFmyHmBZwYol8": {
        "drc": {},
        "offsets": [
         0
        ],
        "position": [
         39,
         -85,
         30
        ],
        "scale": 1,
        "scene": "<openalea.plantgl.scenegraph._pglsg.Scene object at 0x7f15d6e5bd70>"
       },
       "scene_oxo4W0wBp3r8Pl7BLMRvg9qiH": {
        "drc": {},
        "offsets": [
         0
        ],
        "position": [
         -3,
         -55,
         -36
        ],
        "scale": 1,
        "scene": "<openalea.plantgl.scenegraph._pglsg.Scene object at 0x7f15d6d3e830>"
       },
       "scene_p6qECepMVy7aXAopbHykc9RWP": {
        "drc": {},
        "offsets": [
         0
        ],
        "position": [
         53,
         58,
         82
        ],
        "scale": 1,
        "scene": "<openalea.plantgl.scenegraph._pglsg.Scene object at 0x7f15d6c67ab0>"
       },
       "scene_p89s4Tz9CGs5kIv3q8FUS6de6": {
        "drc": {},
        "offsets": [
         0
        ],
        "position": [
         91,
         -35,
         67
        ],
        "scale": 1,
        "scene": "<openalea.plantgl.scenegraph._pglsg.Scene object at 0x7f15d6cdbdb0>"
       },
       "scene_pJffvosrQmhXBeCkRvOU2a3WG": {
        "drc": {},
        "offsets": [
         0
        ],
        "position": [
         -75,
         -15,
         -107
        ],
        "scale": 1,
        "scene": "<openalea.plantgl.scenegraph._pglsg.Scene object at 0x7f15d7a03d70>"
       },
       "scene_pRpNaRKohXOO0CUmkxvcQq2cB": {
        "drc": {},
        "offsets": [
         0
        ],
        "position": [
         81,
         0,
         27
        ],
        "scale": 1,
        "scene": "<openalea.plantgl.scenegraph._pglsg.Scene object at 0x7f15d6f20e30>"
       },
       "scene_pcQzvswa8SZkF4OK8lHHUuDmU": {
        "drc": {},
        "offsets": [
         0
        ],
        "position": [
         62,
         3,
         -21
        ],
        "scale": 1,
        "scene": "<openalea.plantgl.scenegraph._pglsg.Scene object at 0x7f15d6d8c570>"
       },
       "scene_plsPMbJ9bxgzJGtnb2KGACN7q": {
        "drc": {},
        "offsets": [
         0
        ],
        "position": [
         -123,
         -62,
         85
        ],
        "scale": 1,
        "scene": "<openalea.plantgl.scenegraph._pglsg.Scene object at 0x7f15d6e92970>"
       },
       "scene_pyoVVqCsstCd0jIxHF6n5FwtP": {
        "drc": {},
        "offsets": [
         0
        ],
        "position": [
         -4,
         -102,
         -13
        ],
        "scale": 1,
        "scene": "<openalea.plantgl.scenegraph._pglsg.Scene object at 0x7f15d6ec2ab0>"
       },
       "scene_qiGy0IWy0uElSMLFlLkliMNG9": {
        "drc": {},
        "offsets": [
         0
        ],
        "position": [
         29,
         62,
         0
        ],
        "scale": 1,
        "scene": "<openalea.plantgl.scenegraph._pglsg.Scene object at 0x7f15d6e03130>"
       },
       "scene_qmrRYaniGKLTHSGRDv2woDaou": {
        "drc": {},
        "offsets": [
         0
        ],
        "position": [
         -65,
         12,
         -63
        ],
        "scale": 1,
        "scene": "<openalea.plantgl.scenegraph._pglsg.Scene object at 0x7f15d6d93d70>"
       },
       "scene_qvgggydCUhRWHtm5brCijfqMB": {
        "drc": {},
        "offsets": [
         0
        ],
        "position": [
         53,
         103,
         59
        ],
        "scale": 1,
        "scene": "<openalea.plantgl.scenegraph._pglsg.Scene object at 0x7f15d6d1dc30>"
       },
       "scene_qzYvxvbDFuL4f0d10iU2wZgwZ": {
        "drc": {},
        "offsets": [
         0
        ],
        "position": [
         -107,
         39,
         124
        ],
        "scale": 1,
        "scene": "<openalea.plantgl.scenegraph._pglsg.Scene object at 0x7f15d6d4f5f0>"
       },
       "scene_rKgJOOw119fWl1bojyRUNXDBT": {
        "drc": {},
        "offsets": [
         0
        ],
        "position": [
         -98,
         34,
         -82
        ],
        "scale": 1,
        "scene": "<openalea.plantgl.scenegraph._pglsg.Scene object at 0x7f15d6e5b730>"
       },
       "scene_rSZvUvlrT7VyYVnxUmXkHub3D": {
        "drc": {},
        "offsets": [
         0
        ],
        "position": [
         72,
         43,
         69
        ],
        "scale": 1,
        "scene": "<openalea.plantgl.scenegraph._pglsg.Scene object at 0x7f15d6bce7b0>"
       },
       "scene_rgg2lntouLZtBl0Qioo5sRKB8": {
        "drc": {},
        "offsets": [
         0
        ],
        "position": [
         -5,
         35,
         85
        ],
        "scale": 1,
        "scene": "<openalea.plantgl.scenegraph._pglsg.Scene object at 0x7f15d6d6a770>"
       },
       "scene_ro7DOaT2Vfz6ETTWH8lZchB4c": {
        "drc": {},
        "offsets": [
         0
        ],
        "position": [
         53,
         -20,
         116
        ],
        "scale": 1,
        "scene": "<openalea.plantgl.scenegraph._pglsg.Scene object at 0x7f15d6be06f0>"
       },
       "scene_rs6S8peDDCYZDNZ5KG9LKzqKW": {
        "drc": {},
        "offsets": [
         0
        ],
        "position": [
         125,
         69,
         52
        ],
        "scale": 1,
        "scene": "<openalea.plantgl.scenegraph._pglsg.Scene object at 0x7f15d6cdb370>"
       },
       "scene_s3owwcTBowapdiIleUcT37Vex": {
        "drc": {},
        "offsets": [
         0
        ],
        "position": [
         -99,
         -95,
         -108
        ],
        "scale": 1,
        "scene": "<openalea.plantgl.scenegraph._pglsg.Scene object at 0x7f15d6eda4b0>"
       },
       "scene_s5tpWdhnxladw6eDPPVUPJF9w": {
        "drc": {},
        "offsets": [
         0
        ],
        "position": [
         51,
         -80,
         57
        ],
        "scale": 1,
        "scene": "<openalea.plantgl.scenegraph._pglsg.Scene object at 0x7f15d6dd5cb0>"
       },
       "scene_sPYUQJbleVu1gRZHzPDleSzWO": {
        "drc": {},
        "offsets": [
         0
        ],
        "position": [
         -16,
         34,
         -101
        ],
        "scale": 1,
        "scene": "<openalea.plantgl.scenegraph._pglsg.Scene object at 0x7f15d6d588b0>"
       },
       "scene_soVRmGuTu6cXscE7lyIjtKawH": {
        "drc": {},
        "offsets": [
         0
        ],
        "position": [
         119,
         63,
         69
        ],
        "scale": 1,
        "scene": "<openalea.plantgl.scenegraph._pglsg.Scene object at 0x7f15d6c67470>"
       },
       "scene_sqG29qg6C8sLJfwjgkIN8dsYW": {
        "drc": {},
        "offsets": [
         0
        ],
        "position": [
         117,
         122,
         -55
        ],
        "scale": 1,
        "scene": "<openalea.plantgl.scenegraph._pglsg.Scene object at 0x7f15d6f16d30>"
       },
       "scene_stakXjHVr7LJZIVVrIKLZl3l6": {
        "drc": {},
        "offsets": [
         0
        ],
        "position": [
         -122,
         123,
         -85
        ],
        "scale": 1,
        "scene": "<openalea.plantgl.scenegraph._pglsg.Scene object at 0x7f15d6e3a470>"
       },
       "scene_tkdDDYjILjlGTMKtevy4p0n7O": {
        "drc": {},
        "offsets": [
         0
        ],
        "position": [
         38,
         16,
         -70
        ],
        "scale": 1,
        "scene": "<openalea.plantgl.scenegraph._pglsg.Scene object at 0x7f15d7a16bf0>"
       },
       "scene_tqRCGlz7qWyuVUXH0ZejQajkY": {
        "drc": {},
        "offsets": [
         0
        ],
        "position": [
         63,
         -2,
         -24
        ],
        "scale": 1,
        "scene": "<openalea.plantgl.scenegraph._pglsg.Scene object at 0x7f15d6c55e70>"
       },
       "scene_u6y6fj8BwdixJoFrNtYFf5Lpd": {
        "drc": {},
        "offsets": [
         0
        ],
        "position": [
         -28,
         -91,
         -89
        ],
        "scale": 1,
        "scene": "<openalea.plantgl.scenegraph._pglsg.Scene object at 0x7f15d6d9ef70>"
       },
       "scene_u8HpKBdaDMfcGxYx7xqVjGe8b": {
        "drc": {},
        "offsets": [
         0
        ],
        "position": [
         -52,
         43,
         92
        ],
        "scale": 1,
        "scene": "<openalea.plantgl.scenegraph._pglsg.Scene object at 0x7f15d6ecee30>"
       },
       "scene_uIIPRNSFmDOpI3dlUXnHK3jbm": {
        "drc": {},
        "offsets": [
         0
        ],
        "position": [
         -89,
         23,
         55
        ],
        "scale": 1,
        "scene": "<openalea.plantgl.scenegraph._pglsg.Scene object at 0x7f15d6cdb9b0>"
       },
       "scene_ubtwH1UueOOFlzghAJzOXcA5O": {
        "drc": {},
        "offsets": [
         0
        ],
        "position": [
         89,
         -44,
         100
        ],
        "scale": 1,
        "scene": "<openalea.plantgl.scenegraph._pglsg.Scene object at 0x7f15d6c16f70>"
       },
       "scene_uePJ1aljz9v8Nc8dwnRg3xnAK": {
        "drc": {},
        "offsets": [
         0
        ],
        "position": [
         -90,
         26,
         53
        ],
        "scale": 1,
        "scene": "<openalea.plantgl.scenegraph._pglsg.Scene object at 0x7f15d7a1ecf0>"
       },
       "scene_ufRNll5X6gnHV78zNUqvv0ZtX": {
        "drc": {},
        "offsets": [
         0
        ],
        "position": [
         -15,
         36,
         14
        ],
        "scale": 1,
        "scene": "<openalea.plantgl.scenegraph._pglsg.Scene object at 0x7f15d6e6e6b0>"
       },
       "scene_uvBdP6hWiFJbfGrUklavAVpMH": {
        "drc": {},
        "offsets": [
         0
        ],
        "position": [
         -111,
         121,
         -79
        ],
        "scale": 1,
        "scene": "<openalea.plantgl.scenegraph._pglsg.Scene object at 0x7f15d6ec2cb0>"
       },
       "scene_uvMnu6yodO5nGVB7v1puZbRPj": {
        "drc": {},
        "offsets": [
         0
        ],
        "position": [
         49,
         23,
         -21
        ],
        "scale": 1,
        "scene": "<openalea.plantgl.scenegraph._pglsg.Scene object at 0x7f15d6cec870>"
       },
       "scene_wDDgKBo6QneOoJWLffB8Y5xD9": {
        "drc": {},
        "offsets": [
         0
        ],
        "position": [
         -21,
         48,
         -11
        ],
        "scale": 1,
        "scene": "<openalea.plantgl.scenegraph._pglsg.Scene object at 0x7f15d6c0d730>"
       },
       "scene_xaz16kimbI3Kh4sr2QlxV4tEz": {
        "drc": {},
        "offsets": [
         0
        ],
        "position": [
         -62,
         33,
         42
        ],
        "scale": 1,
        "scene": "<openalea.plantgl.scenegraph._pglsg.Scene object at 0x7f15d6d87f70>"
       },
       "scene_xl4TKMdpp8Uabnvmp1eQcHcGb": {
        "drc": {},
        "offsets": [
         0
        ],
        "position": [
         117,
         -73,
         46
        ],
        "scale": 1,
        "scene": "<openalea.plantgl.scenegraph._pglsg.Scene object at 0x7f15d6f08670>"
       },
       "scene_y6Ak8G83M4gN97jJKAEpazSs2": {
        "drc": {},
        "offsets": [
         0
        ],
        "position": [
         37,
         49,
         -121
        ],
        "scale": 1,
        "scene": "<openalea.plantgl.scenegraph._pglsg.Scene object at 0x7f15d6e92fb0>"
       },
       "scene_yJSDjGfMg5DFlvy6l1GHVr2WW": {
        "drc": {},
        "offsets": [
         0
        ],
        "position": [
         -45,
         66,
         96
        ],
        "scale": 1,
        "scene": "<openalea.plantgl.scenegraph._pglsg.Scene object at 0x7f15d6c3a7f0>"
       },
       "scene_ySNRondh7j9DONkWkZFLWiLd7": {
        "drc": {},
        "offsets": [
         0
        ],
        "position": [
         -33,
         1,
         97
        ],
        "scale": 1,
        "scene": "<openalea.plantgl.scenegraph._pglsg.Scene object at 0x7f15d6e80670>"
       },
       "scene_yalBCVWGzyjs2xKPEi2g0Z5h7": {
        "drc": {},
        "offsets": [
         0
        ],
        "position": [
         27,
         -30,
         51
        ],
        "scale": 1,
        "scene": "<openalea.plantgl.scenegraph._pglsg.Scene object at 0x7f15d6c1f5f0>"
       },
       "scene_zC8s3DF0sncE2RQA0yJiZxAol": {
        "drc": {},
        "offsets": [
         0
        ],
        "position": [
         114,
         -34,
         -38
        ],
        "scale": 1,
        "scene": "<openalea.plantgl.scenegraph._pglsg.Scene object at 0x7f15d7a03a70>"
       },
       "scene_zLp1Fc3QhLqZPu4yPYkz5w3Pt": {
        "drc": {},
        "offsets": [
         0
        ],
        "position": [
         -13,
         -23,
         -15
        ],
        "scale": 1,
        "scene": "<openalea.plantgl.scenegraph._pglsg.Scene object at 0x7f15d6d489f0>"
       },
       "scene_zLpJ4b9OjenqqZQTDzjYEpcHI": {
        "drc": {},
        "offsets": [
         0
        ],
        "position": [
         124,
         -106,
         24
        ],
        "scale": 1,
        "scene": "<openalea.plantgl.scenegraph._pglsg.Scene object at 0x7f15d6f3b2f0>"
       },
       "scene_zMEfcMjA1lZ6zIBL2iegW8Lfb": {
        "drc": {},
        "offsets": [
         0
        ],
        "position": [
         -22,
         28,
         35
        ],
        "scale": 1,
        "scene": "<openalea.plantgl.scenegraph._pglsg.Scene object at 0x7f15d6c317f0>"
       },
       "size_display": [
        600,
        400
       ],
       "size_world": [
        255,
        255,
        255
       ]
      }
     },
     "79fff6ea6e9c4f64a03ea4ee6909cc11": {
      "model_module": "pgljupyter",
      "model_module_version": "^0.1.0",
      "model_name": "SceneWidgetModel",
      "state": {
       "_model_module_version": "^0.1.0",
       "_view_module_version": "^0.1.0",
       "layout": "IPY_MODEL_209546c4878c4d4a96808cd09114ccdf",
       "size_display": [
        600,
        400
       ],
       "size_world": [
        255,
        255,
        255
       ]
      }
     },
     "7ce2de1172c24b3daceaed608aa42ea2": {
      "buffers": [
       {
        "data": "",
        "encoding": "base64",
        "path": [
         "scene",
         "drc"
        ]
       },
       {
        "data": "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",
        "encoding": "base64",
        "path": [
         "scene_FgPHXWXPWJ8EbNVdpPCL9FxLb",
         "drc"
        ]
       },
       {
        "data": "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",
        "encoding": "base64",
        "path": [
         "scene_yZqzYPVqdRDXOczEvNJ0WwkKz",
         "drc"
        ]
       },
       {
        "data": "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",
        "encoding": "base64",
        "path": [
         "scene_l4kq0neJ5JPzfEjx1LtKgwhLG",
         "drc"
        ]
       },
       {
        "data": "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",
        "encoding": "base64",
        "path": [
         "scene_I28hptEgXIJzeUgQCSjbxdCUJ",
         "drc"
        ]
       },
       {
        "data": "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",
        "encoding": "base64",
        "path": [
         "scene_kITRTu29uOzafIrCttkFz0xUJ",
         "drc"
        ]
       },
       {
        "data": "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",
        "encoding": "base64",
        "path": [
         "scene_96sfmxinXkfCYvDtgwq5sr6mK",
         "drc"
        ]
       },
       {
        "data": "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",
        "encoding": "base64",
        "path": [
         "scene_GWzBIX7ObCKjLg1DyJbAACaNX",
         "drc"
        ]
       },
       {
        "data": "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",
        "encoding": "base64",
        "path": [
         "scene_s59cMkrWQOKWmF3vToUg5vIcs",
         "drc"
        ]
       },
       {
        "data": "RFJBQ08CAgEBAIAAAgJpZAQAAAAABHR5cGUEbWVzaAAA/gL4BQH3BQAAvgFf27Zt27Ztq9pSVVVVVVVVVVWq1VJVVVVVVVVVpVrVUlVVVVVVVVWqVdVSVVVVVVVVpVpV1VJVVVVVVVWqVVXVUlVVVVVVpVpVVdVSVVVVVVWqVVVV1VJVVVVVpVpVVVXVUlVVVVWqVVVVVdVSVVVVpVpVVVVV1VJVVVWqVVVVVVXVUlVVpVpVVVVVVdVSVVWqVVVVVVVV1VJVpVpVVVVVVVXVUlWqVVVVVVVVVdVSpVpVVVVVVVVV1VKqAAAKAQEQ/wPnhIUC/wABAAEAAQAJAwAAAgECAgMAAQEEAQEADQ8BAS0BZQsdFaUaWQIsAyxeiXJvdjFMtM+NaBl5Cn8NGqozbqTMy7NAIPaF+cl+qzUwlsIl6Poa9gEWKZWHIG4/FYwZh9ZAp2TfBJ8F5GVLweO9ye94yuojRy86cweXYHMqlSY9hlfwH14dNPq/g/l96DOgNQvgmYiVaK0CTHICtAgDSJcao5cMIJPui3AQgKoUwCMYoAsYIGsWoCMYgOMWIAk1a18MYKEDAAOLAEhboFbAmgUwDAKQXBDTnQVwG5F1+hGFeQFgOATgbgOICgE4TgE2bgGyGoCJNMBsFgD0xFOlABunABiXAFmARUc9ABh6BECnQNFlS1GglwAyDQSAiQGAygFQPhD2AJjNAsicBOhLBvjaB8h6PtlwFEDxv/PKAGgIAP0AeGOADbqsC6D8AReXAE2ZAIODADckgJMSoBgEQKji0imA+x0wVAgw+QMgZ8CZ2aoHqOgLWvlS6/YYYHlune4tTlUB4DiARAK4XIDbDcDjAXADRUWArFmAm+EYiHYAIwMByHSfBHQWSTTumPItXLhjqYAoAqoFuAbgFoBaAWIIWCngWAIeZ8CuDmi3AVs44HYDoMAFUHMANDoCHFEMPO/pBkDhEMB2C4h1AY0lwGiBMuRxfjy2r8cx+WiB51F+QM4P2PahPD4ADgEEBKhDAA4mgPAGwN0CYGACcKACcOACeAgDgBQDPE1cSgVwygFweQFQ3wEA758hoGgBwH28hgEwcwGUTrMIZgKg/RfF5x162bJvaTA/HoOEAJlOAJcYAP8JoBsD3DdQpUA83PEA6KwTf7cIWLSDP7XsQRrQkEchEcCfAjg/AMMPIAyBa6jzAFDtAPAHWnBLhwt7aOmAZQOQVkAmLB0AMa6DVD7aAuiDD4DkAAaggoAsAWJIQH6AeABTQHoBSDjwxECXAsVi4I2AGQBiCEhBoGgMRDJQgArQ8kpcA3ALQK0AMQSsFDBaoGiBKgXCEEgroC2A1gBSCwhFoFKBwgUMF7BUQBSBMM5DBAGYDgCzASB+APgNgIYAxxLQWAI+Q8B9A8MPYNkALB2AIQhw48CHCGgwAQ4mAEQE9AMuJBLglQEcHgNpzBsDII8AWRfANxj9YbEu4HgEdGOAZse+GevKAPWFxbyA3cFmEPsXeTw7gMsF2HkAQAoAwAkA+w7A3QJ4dQDlD5j8Abs6YLsF1HeA/wRg/PPqPMCWC9jZAUc3AMj+jRiYAESGAG43wJAIABMDAPMCwHAIwN0GEBUCYFwCXFwCDBUCtNuAwiGAywuASwyAQiKAthswMBOAj1OpDVQADlQAJ00APB6g6QSAygGAugGg2QSAvwOcMgE4TgE2TgGaMgHud0BmE8DpBsApB0CmE8DgDIBJrdaUKcAGLgAHLgCVKQAhIYApFQAuBwDuBoDpFADhIABVKQDHLcDGLcBUKcDgIEDpFMDtBsAtB0B2CaDLlHFsBNCaBQAZBvgoBsiaBWhsBJjNAhj+ACgGAZjVAmh0BMiiBfgwBgAhBtCiBXB0BKDVAjAGASDrBRDrBAAjzQXLVH//VooFi1Nab3NVNnRvOl1ZC2+Ej7rNfYGBl4OBgTlE1r69x6mL3fOMoOlb1uVEXv/vy3LbpvGBkMFcK+0ZMyx3I92+7KmcIXHfvg3H6mrhU2T8fF5S0eIChTZyCapnmoLzjn2/ggT/AkRAAAAAAP8PAAAAAGDBAABgwQAAYMEAAOBBDAQBAQEEI+E/EH8QBTD5x1ChMwECb0POBAEDjIyAWgECjkYMAQLAQG4AAADuAAAA",
        "encoding": "base64",
        "path": [
         "scene_Ad4NKYZbVnegQN5xRD0vwwulI",
         "drc"
        ]
       },
       {
        "data": "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",
        "encoding": "base64",
        "path": [
         "scene_JRxNdmnVR86bsYtSfWL4E2UDW",
         "drc"
        ]
       },
       {
        "data": "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",
        "encoding": "base64",
        "path": [
         "scene_H47grByQpNDlABcNoabQeVL0g",
         "drc"
        ]
       },
       {
        "data": "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",
        "encoding": "base64",
        "path": [
         "scene_qEoFPGYf3xqypVKnYye4ZHwiD",
         "drc"
        ]
       },
       {
        "data": "RFJBQ08CAgEBAIAAAgJpZAQAAAAABHR5cGUEbWVzaAAA/gL4BQH3BQAAvgFf27Zt27Ztq9pSVVVVVVVVVVWq1VJVVVVVVVVVpVrVUlVVVVVVVVWqVdVSVVVVVVVVpVpV1VJVVVVVVVWqVVXVUlVVVVVVpVpVVdVSVVVVVVWqVVVV1VJVVVVVpVpVVVXVUlVVVVWqVVVVVdVSVVVVpVpVVVVV1VJVVVWqVVVVVVXVUlVVpVpVVVVVVdVSVVWqVVVVVVVV1VJVpVpVVVVVVVXVUlWqVVVVVVVVVdVSpVpVVVVVVVVV1VKqAAAKAQEQ/wPnhIUC/wABAAEAAQAJAwAAAgECAgMAAQEEAQEADQ8BAS0BZQsdFaUaWQIsAyxeiXJvdjFMtM+NaBl5Cn8NGqozbqTMy7NAIPaF+cl+qzUwlsIl6Poa9gEWKZWHIG4/FYwZh9ZAp2TfBJ8F5GVLweO9ye94yuojRy86cweXYHMqlSY9hlfwH14dNPq/g/l96DOgNQvgmYiVaK0CTHICtAgDSJcao5cMIJPui3AQgKoUwCMYoAsYIGsWoCMYgOMWIAk1a18MYKEDAAOLAEhboFbAmgUwDAKQXBDTnQVwG5F1+hGFeQFgOATgbgOICgE4TgE2bgGyGoCJNMBsFgD0xFOlABunABiXAFmARUc9ABh6BECnQNFlS1GglwAyDQSAiQGAygFQPhD2AJjNAsicBOhLBvjaB8h6PtlwFEDxv/PKAGgIAP0AeGOADbqsC6D8AReXAE2ZAIODADckgJMSoBgEQKji0imA+x0wVAgw+QMgZ8CZ2aoHqOgLWvlS6/YYYHlune4tTlUB4DiARAK4XIDbDcDjAXADRUWArFmAm+EYiHYAIwMByHSfBHQWSTTumPItXLhjqYAoAqoFuAbgFoBaAWIIWCngWAIeZ8CuDmi3AVs44HYDoMAFUHMANDoCHFEMPO/pBkDhEMB2C4h1AY0lwGiBMuRxfjy2r8cx+WiB51F+QM4P2PahPD4ADgEEBKhDAA4mgPAGwN0CYGACcKACcOACeAgDgBQDPE1cSgVwygFweQFQ3wEA758hoGgBwH28hgEwcwGUTrMIZgKg/RfF5x162bJvaTA/HoOEAJlOAJcYAP8JoBsD3DdQpUA83PEA6KwTf7cIWLSDP7XsQRrQkEchEcCfAjg/AMMPIAyBa6jzAFDtAPAHWnBLhwt7aOmAZQOQVkAmLB0AMa6DVD7aAuiDD4DkAAaggoAsAWJIQH6AeABTQHoBSDjwxECXAsVi4I2AGQBiCEhBoGgMRDJQgArQ8kpcA3ALQK0AMQSsFDBaoGiBKgXCEEgroC2A1gBSCwhFoFKBwgUMF7BUQBSBMM5DBAGYDgCzASB+APgNgIYAxxLQWAI+Q8B9A8MPYNkALB2AIQhw48CHCGgwAQ4mAEQE9AMuJBLglQEcHgNpzBsDII8AWRfANxj9YbEu4HgEdGOAZse+GevKAPWFxbyA3cFmEPsXeTw7gMsF2HkAQAoAwAkA+w7A3QJ4dQDlD5j8Abs6YLsF1HeA/wRg/PPqPMCWC9jZAUc3AMj+jRiYAESGAG43wJAIABMDAPMCwHAIwN0GEBUCYFwCXFwCDBUCtNuAwiGAywuASwyAQiKAthswMBOAj1OpDVQADlQAJ00APB6g6QSAygGAugGg2QSAvwOcMgE4TgE2TgGaMgHud0BmE8DpBsApB0CmE8DgDIBJrdaUKcAGLgAHLgCVKQAhIYApFQAuBwDuBoDpFADhIABVKQDHLcDGLcBUKcDgIEDpFMDtBsAtB0B2CaDLlHFsBNCaBQAZBvgoBsiaBWhsBJjNAhj+ACgGAZjVAmh0BMiiBfgwBgAhBtCiBXB0BKDVAjAGASDrBRDrBAAjzQXLVH//VooFi1Nab3NVNnRvOl1ZC2+Ej7rNfYGBl4OBgTlE1r69x6mL3fOMoOlb1uVEXv/vy3LbpvGBkMFcK+0ZMyx3I92+7KmcIXHfvg3H6mrhU2T8fF5S0eIChTZyCapnmoLzjn2/ggT/AkRAAAAAAP8PAAAAACDBAAAgwQAAIMEAAKBBDAQBAQEElwHhPxD//08QBTj6/z+hMwECb0POBAEDjIyAWgECjkYMAQLAQGIAAAD8AAAA",
        "encoding": "base64",
        "path": [
         "scene_2PGMK0MwWHKjg7QyWaMznK5lq",
         "drc"
        ]
       },
       {
        "data": "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",
        "encoding": "base64",
        "path": [
         "scene_NVjoWlzZnDbSXNarbjNRkWTlT",
         "drc"
        ]
       },
       {
        "data": "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",
        "encoding": "base64",
        "path": [
         "scene_mAbTReZKA0X18CX8EffS3E13f",
         "drc"
        ]
       },
       {
        "data": "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",
        "encoding": "base64",
        "path": [
         "scene_6uMoATb0ES2iuDK7GsSn6t9XB",
         "drc"
        ]
       },
       {
        "data": "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",
        "encoding": "base64",
        "path": [
         "scene_ZlT4lI1qD1PUQvykCmdHwGGDr",
         "drc"
        ]
       },
       {
        "data": "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",
        "encoding": "base64",
        "path": [
         "scene_tQ2OKqG5J0A9DOFNWTkDbxViw",
         "drc"
        ]
       },
       {
        "data": "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",
        "encoding": "base64",
        "path": [
         "scene_Al9uLH96zP7jO3KJxUJWmdTs0",
         "drc"
        ]
       },
       {
        "data": "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",
        "encoding": "base64",
        "path": [
         "scene_yUO39A2nnnqpSJgqTgRSBVnVl",
         "drc"
        ]
       },
       {
        "data": "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",
        "encoding": "base64",
        "path": [
         "scene_Elrfb9HjiDhQUfhQLMTCzEyjM",
         "drc"
        ]
       },
       {
        "data": "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",
        "encoding": "base64",
        "path": [
         "scene_7ucBPNAmTqzim6Ev7gdVyrqhV",
         "drc"
        ]
       },
       {
        "data": "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",
        "encoding": "base64",
        "path": [
         "scene_EiaZMcYcknmokD8OJVZiG4xrP",
         "drc"
        ]
       },
       {
        "data": "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",
        "encoding": "base64",
        "path": [
         "scene_rnokBCpUAfJvnr0vweIiIMQfc",
         "drc"
        ]
       },
       {
        "data": "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",
        "encoding": "base64",
        "path": [
         "scene_E3DmL1yYwWvpyobaQshbo4knK",
         "drc"
        ]
       },
       {
        "data": "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",
        "encoding": "base64",
        "path": [
         "scene_aj1mlHijJxwwt66moJLXincgw",
         "drc"
        ]
       },
       {
        "data": "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",
        "encoding": "base64",
        "path": [
         "scene_LOpYNnLOjqNweuGNyI77oItaO",
         "drc"
        ]
       },
       {
        "data": "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",
        "encoding": "base64",
        "path": [
         "scene_0WmEERaFvRgDQbqrEg0rp3XTD",
         "drc"
        ]
       },
       {
        "data": "RFJBQ08CAgEBAIAAAgJpZAQAAAAABHR5cGUEbWVzaAAA/gL4BQH3BQAAvgFf27Zt27Ztq9pSVVVVVVVVVVWq1VJVVVVVVVVVpVrVUlVVVVVVVVWqVdVSVVVVVVVVpVpV1VJVVVVVVVWqVVXVUlVVVVVVpVpVVdVSVVVVVVWqVVVV1VJVVVVVpVpVVVXVUlVVVVWqVVVVVdVSVVVVpVpVVVVV1VJVVVWqVVVVVVXVUlVVpVpVVVVVVdVSVVWqVVVVVVVV1VJVpVpVVVVVVVXVUlWqVVVVVVVVVdVSpVpVVVVVVVVV1VKqAAAKAQEQ/wPnhIUC/wABAAEAAQAJAwAAAgECAgMAAQEEAQEADQ8BAS0BZQsdFaUaWQIsAyxeiXJvdjFMtM+NaBl5Cn8NGqozbqTMy7NAIPaF+cl+qzUwlsIl6Poa9gEWKZWHIG4/FYwZh9ZAp2TfBJ8F5GVLweO9ye94yuojRy86cweXYHMqlSY9hlfwH14dNPq/g/l96DOgNQvgmYiVaK0CTHICtAgDSJcao5cMIJPui3AQgKoUwCMYoAsYIGsWoCMYgOMWIAk1a18MYKEDAAOLAEhboFbAmgUwDAKQXBDTnQVwG5F1+hGFeQFgOATgbgOICgE4TgE2bgGyGoCJNMBsFgD0xFOlABunABiXAFmARUc9ABh6BECnQNFlS1GglwAyDQSAiQGAygFQPhD2AJjNAsicBOhLBvjaB8h6PtlwFEDxv/PKAGgIAP0AeGOADbqsC6D8AReXAE2ZAIODADckgJMSoBgEQKji0imA+x0wVAgw+QMgZ8CZ2aoHqOgLWvlS6/YYYHlune4tTlUB4DiARAK4XIDbDcDjAXADRUWArFmAm+EYiHYAIwMByHSfBHQWSTTumPItXLhjqYAoAqoFuAbgFoBaAWIIWCngWAIeZ8CuDmi3AVs44HYDoMAFUHMANDoCHFEMPO/pBkDhEMB2C4h1AY0lwGiBMuRxfjy2r8cx+WiB51F+QM4P2PahPD4ADgEEBKhDAA4mgPAGwN0CYGACcKACcOACeAgDgBQDPE1cSgVwygFweQFQ3wEA758hoGgBwH28hgEwcwGUTrMIZgKg/RfF5x162bJvaTA/HoOEAJlOAJcYAP8JoBsD3DdQpUA83PEA6KwTf7cIWLSDP7XsQRrQkEchEcCfAjg/AMMPIAyBa6jzAFDtAPAHWnBLhwt7aOmAZQOQVkAmLB0AMa6DVD7aAuiDD4DkAAaggoAsAWJIQH6AeABTQHoBSDjwxECXAsVi4I2AGQBiCEhBoGgMRDJQgArQ8kpcA3ALQK0AMQSsFDBaoGiBKgXCEEgroC2A1gBSCwhFoFKBwgUMF7BUQBSBMM5DBAGYDgCzASB+APgNgIYAxxLQWAI+Q8B9A8MPYNkALB2AIQhw48CHCGgwAQ4mAEQE9AMuJBLglQEcHgNpzBsDII8AWRfANxj9YbEu4HgEdGOAZse+GevKAPWFxbyA3cFmEPsXeTw7gMsF2HkAQAoAwAkA+w7A3QJ4dQDlD5j8Abs6YLsF1HeA/wRg/PPqPMCWC9jZAUc3AMj+jRiYAESGAG43wJAIABMDAPMCwHAIwN0GEBUCYFwCXFwCDBUCtNuAwiGAywuASwyAQiKAthswMBOAj1OpDVQADlQAJ00APB6g6QSAygGAugGg2QSAvwOcMgE4TgE2TgGaMgHud0BmE8DpBsApB0CmE8DgDIBJrdaUKcAGLgAHLgCVKQAhIYApFQAuBwDuBoDpFADhIABVKQDHLcDGLcBUKcDgIEDpFMDtBsAtB0B2CaDLlHFsBNCaBQAZBvgoBsiaBWhsBJjNAhj+ACgGAZjVAmh0BMiiBfgwBgAhBtCiBXB0BKDVAjAGASDrBRDrBAAjzQXLVH//VooFi1Nab3NVNnRvOl1ZC2+Ej7rNfYGBl4OBgTlE1r69x6mL3fOMoOlb1uVEXv/vy3LbpvGBkMFcK+0ZMyx3I92+7KmcIXHfvg3H6mrhU2T8fF5S0eIChTZyCapnmoLzjn2/ggT/AkRAAAAAAP8PAAAAAEDBAABAwQAAQMEAAMBBDAQBAQEEngHhPxD//2sQBTj6/z+hMwECb0POBAEDjIyAWgECjkYMAQLAQCoAAADkAAAA",
        "encoding": "base64",
        "path": [
         "scene_kTs6c8Irn2XY88fTjogdkyifn",
         "drc"
        ]
       },
       {
        "data": "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",
        "encoding": "base64",
        "path": [
         "scene_83fZm9or8f1B8z5kst1TQEsFF",
         "drc"
        ]
       },
       {
        "data": "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",
        "encoding": "base64",
        "path": [
         "scene_CeR4wppYeJ1yEkIwuLaPZH9E8",
         "drc"
        ]
       },
       {
        "data": "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",
        "encoding": "base64",
        "path": [
         "scene_3Bt14aieYiQdzZbhmJchTKzU2",
         "drc"
        ]
       },
       {
        "data": "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",
        "encoding": "base64",
        "path": [
         "scene_Mqvit2NFp6huoCLAlLJVfHp2b",
         "drc"
        ]
       },
       {
        "data": "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",
        "encoding": "base64",
        "path": [
         "scene_vDPei3U7iF26xpyZw0BQkVlbd",
         "drc"
        ]
       },
       {
        "data": "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",
        "encoding": "base64",
        "path": [
         "scene_N1ef7Xh0IojJw0W7B8SzqwFw7",
         "drc"
        ]
       },
       {
        "data": "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",
        "encoding": "base64",
        "path": [
         "scene_AcRHn9eZplj5cMGuP7MrLxNiC",
         "drc"
        ]
       },
       {
        "data": "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",
        "encoding": "base64",
        "path": [
         "scene_WFvSRzsKZxfYDQzf91zgyt2Ww",
         "drc"
        ]
       },
       {
        "data": "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",
        "encoding": "base64",
        "path": [
         "scene_ei9DwIirzfwQaDUhnPne6pqr9",
         "drc"
        ]
       },
       {
        "data": "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",
        "encoding": "base64",
        "path": [
         "scene_ow4gLJ6NmVqgGrRh5gRMbWvGc",
         "drc"
        ]
       },
       {
        "data": "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",
        "encoding": "base64",
        "path": [
         "scene_WjnNrTHd1DQpdDrluKWJii9Ji",
         "drc"
        ]
       },
       {
        "data": "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",
        "encoding": "base64",
        "path": [
         "scene_yHiuS991vJuSH8e7YaK3Bs9Tz",
         "drc"
        ]
       },
       {
        "data": "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",
        "encoding": "base64",
        "path": [
         "scene_q9DFdiPPcDwKBp7Ok5kUPWHSp",
         "drc"
        ]
       },
       {
        "data": "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",
        "encoding": "base64",
        "path": [
         "scene_fTY5tSfW2GokcF9ErVGWnUuEc",
         "drc"
        ]
       },
       {
        "data": "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",
        "encoding": "base64",
        "path": [
         "scene_HQ3iy0m7H0EE2Tt6D8OGJl9nz",
         "drc"
        ]
       },
       {
        "data": "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",
        "encoding": "base64",
        "path": [
         "scene_hwSeDTMdSajm2r8GThrPBSwNM",
         "drc"
        ]
       },
       {
        "data": "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",
        "encoding": "base64",
        "path": [
         "scene_mKDmRx4MsttkQc3qK6yCPxNhs",
         "drc"
        ]
       },
       {
        "data": "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",
        "encoding": "base64",
        "path": [
         "scene_C2umxtK61DraM7yGh0w02u2LF",
         "drc"
        ]
       },
       {
        "data": "RFJBQ08CAgEBAIAAAgJpZAQAAAAABHR5cGUEbWVzaAAA/gL4BQH3BQAAvgFf27Zt27Ztq9pSVVVVVVVVVVWq1VJVVVVVVVVVpVrVUlVVVVVVVVWqVdVSVVVVVVVVpVpV1VJVVVVVVVWqVVXVUlVVVVVVpVpVVdVSVVVVVVWqVVVV1VJVVVVVpVpVVVXVUlVVVVWqVVVVVdVSVVVVpVpVVVVV1VJVVVWqVVVVVVXVUlVVpVpVVVVVVdVSVVWqVVVVVVVV1VJVpVpVVVVVVVXVUlWqVVVVVVVVVdVSpVpVVVVVVVVV1VKqAAAKAQEQ/wPnhIUC/wABAAEAAQAJAwAAAgECAgMAAQEEAQEADQ8BAS0BZQsdFaUaWQIsAyxeiXJvdjFMtM+NaBl5Cn8NGqozbqTMy7NAIPaF+cl+qzUwlsIl6Poa9gEWKZWHIG4/FYwZh9ZAp2TfBJ8F5GVLweO9ye94yuojRy86cweXYHMqlSY9hlfwH14dNPq/g/l96DOgNQvgmYiVaK0CTHICtAgDSJcao5cMIJPui3AQgKoUwCMYoAsYIGsWoCMYgOMWIAk1a18MYKEDAAOLAEhboFbAmgUwDAKQXBDTnQVwG5F1+hGFeQFgOATgbgOICgE4TgE2bgGyGoCJNMBsFgD0xFOlABunABiXAFmARUc9ABh6BECnQNFlS1GglwAyDQSAiQGAygFQPhD2AJjNAsicBOhLBvjaB8h6PtlwFEDxv/PKAGgIAP0AeGOADbqsC6D8AReXAE2ZAIODADckgJMSoBgEQKji0imA+x0wVAgw+QMgZ8CZ2aoHqOgLWvlS6/YYYHlune4tTlUB4DiARAK4XIDbDcDjAXADRUWArFmAm+EYiHYAIwMByHSfBHQWSTTumPItXLhjqYAoAqoFuAbgFoBaAWIIWCngWAIeZ8CuDmi3AVs44HYDoMAFUHMANDoCHFEMPO/pBkDhEMB2C4h1AY0lwGiBMuRxfjy2r8cx+WiB51F+QM4P2PahPD4ADgEEBKhDAA4mgPAGwN0CYGACcKACcOACeAgDgBQDPE1cSgVwygFweQFQ3wEA758hoGgBwH28hgEwcwGUTrMIZgKg/RfF5x162bJvaTA/HoOEAJlOAJcYAP8JoBsD3DdQpUA83PEA6KwTf7cIWLSDP7XsQRrQkEchEcCfAjg/AMMPIAyBa6jzAFDtAPAHWnBLhwt7aOmAZQOQVkAmLB0AMa6DVD7aAuiDD4DkAAaggoAsAWJIQH6AeABTQHoBSDjwxECXAsVi4I2AGQBiCEhBoGgMRDJQgArQ8kpcA3ALQK0AMQSsFDBaoGiBKgXCEEgroC2A1gBSCwhFoFKBwgUMF7BUQBSBMM5DBAGYDgCzASB+APgNgIYAxxLQWAI+Q8B9A8MPYNkALB2AIQhw48CHCGgwAQ4mAEQE9AMuJBLglQEcHgNpzBsDII8AWRfANxj9YbEu4HgEdGOAZse+GevKAPWFxbyA3cFmEPsXeTw7gMsF2HkAQAoAwAkA+w7A3QJ4dQDlD5j8Abs6YLsF1HeA/wRg/PPqPMCWC9jZAUc3AMj+jRiYAESGAG43wJAIABMDAPMCwHAIwN0GEBUCYFwCXFwCDBUCtNuAwiGAywuASwyAQiKAthswMBOAj1OpDVQADlQAJ00APB6g6QSAygGAugGg2QSAvwOcMgE4TgE2TgGaMgHud0BmE8DpBsApB0CmE8DgDIBJrdaUKcAGLgAHLgCVKQAhIYApFQAuBwDuBoDpFADhIABVKQDHLcDGLcBUKcDgIEDpFMDtBsAtB0B2CaDLlHFsBNCaBQAZBvgoBsiaBWhsBJjNAhj+ACgGAZjVAmh0BMiiBfgwBgAhBtCiBXB0BKDVAjAGASDrBRDrBAAjzQXLVH//VooFi1Nab3NVNnRvOl1ZC2+Ej7rNfYGBl4OBgTlE1r69x6mL3fOMoOlb1uVEXv/vy3LbpvGBkMFcK+0ZMyx3I92+7KmcIXHfvg3H6mrhU2T8fF5S0eIChTZyCapnmoLzjn2/ggT/AkRAAAAAAP8PAAAAACDBAAAgwQAAIMEAAKBBDAQBAQEEJeE/EIcQBTj6/z+hMwECb0POBAEDjIyAWgECjkYMAQLAQBMAAACgAAAA",
        "encoding": "base64",
        "path": [
         "scene_XUye8SDZOTXUm9118dFPWUZOP",
         "drc"
        ]
       },
       {
        "data": "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",
        "encoding": "base64",
        "path": [
         "scene_RuTwHWig4Dm5OF9pPi8IWZ5jW",
         "drc"
        ]
       },
       {
        "data": "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",
        "encoding": "base64",
        "path": [
         "scene_CF4Ls3MbDVmJGHdfGm8QIfdnf",
         "drc"
        ]
       },
       {
        "data": "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",
        "encoding": "base64",
        "path": [
         "scene_O2LvTaVYBZgOpThxsvsiP2ss1",
         "drc"
        ]
       },
       {
        "data": "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",
        "encoding": "base64",
        "path": [
         "scene_N9C36LJIQ9UYszj9Vjn6y7LNU",
         "drc"
        ]
       },
       {
        "data": "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",
        "encoding": "base64",
        "path": [
         "scene_BVXo8vowrOviRoujiqL7wydMO",
         "drc"
        ]
       },
       {
        "data": "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",
        "encoding": "base64",
        "path": [
         "scene_HvXiEetoL8SL6TmB2zc8kpMVo",
         "drc"
        ]
       },
       {
        "data": "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",
        "encoding": "base64",
        "path": [
         "scene_1jlmS46rYIoMUNMT7Q2wYbEBm",
         "drc"
        ]
       },
       {
        "data": "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",
        "encoding": "base64",
        "path": [
         "scene_SdxuRbEmzPy8Hxyct8MOe1dUw",
         "drc"
        ]
       },
       {
        "data": "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",
        "encoding": "base64",
        "path": [
         "scene_cJTE70BCXHLrqtjDYFxiZdWYD",
         "drc"
        ]
       },
       {
        "data": "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",
        "encoding": "base64",
        "path": [
         "scene_qOcgHqGuG1wvCizk7aDtzlaI8",
         "drc"
        ]
       },
       {
        "data": "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",
        "encoding": "base64",
        "path": [
         "scene_7LH8G5P84lAzXIjjt2CLW63CP",
         "drc"
        ]
       },
       {
        "data": "RFJBQ08CAgEBAIAAAgJpZAQAAAAABHR5cGUEbWVzaAAA/gL4BQH3BQAAvgFf27Zt27Ztq9pSVVVVVVVVVVWq1VJVVVVVVVVVpVrVUlVVVVVVVVWqVdVSVVVVVVVVpVpV1VJVVVVVVVWqVVXVUlVVVVVVpVpVVdVSVVVVVVWqVVVV1VJVVVVVpVpVVVXVUlVVVVWqVVVVVdVSVVVVpVpVVVVV1VJVVVWqVVVVVVXVUlVVpVpVVVVVVdVSVVWqVVVVVVVV1VJVpVpVVVVVVVXVUlWqVVVVVVVVVdVSpVpVVVVVVVVV1VKqAAAKAQEQ/wPnhIUC/wABAAEAAQAJAwAAAgECAgMAAQEEAQEADQ8BAS0BZQsdFaUaWQIsAyxeiXJvdjFMtM+NaBl5Cn8NGqozbqTMy7NAIPaF+cl+qzUwlsIl6Poa9gEWKZWHIG4/FYwZh9ZAp2TfBJ8F5GVLweO9ye94yuojRy86cweXYHMqlSY9hlfwH14dNPq/g/l96DOgNQvgmYiVaK0CTHICtAgDSJcao5cMIJPui3AQgKoUwCMYoAsYIGsWoCMYgOMWIAk1a18MYKEDAAOLAEhboFbAmgUwDAKQXBDTnQVwG5F1+hGFeQFgOATgbgOICgE4TgE2bgGyGoCJNMBsFgD0xFOlABunABiXAFmARUc9ABh6BECnQNFlS1GglwAyDQSAiQGAygFQPhD2AJjNAsicBOhLBvjaB8h6PtlwFEDxv/PKAGgIAP0AeGOADbqsC6D8AReXAE2ZAIODADckgJMSoBgEQKji0imA+x0wVAgw+QMgZ8CZ2aoHqOgLWvlS6/YYYHlune4tTlUB4DiARAK4XIDbDcDjAXADRUWArFmAm+EYiHYAIwMByHSfBHQWSTTumPItXLhjqYAoAqoFuAbgFoBaAWIIWCngWAIeZ8CuDmi3AVs44HYDoMAFUHMANDoCHFEMPO/pBkDhEMB2C4h1AY0lwGiBMuRxfjy2r8cx+WiB51F+QM4P2PahPD4ADgEEBKhDAA4mgPAGwN0CYGACcKACcOACeAgDgBQDPE1cSgVwygFweQFQ3wEA758hoGgBwH28hgEwcwGUTrMIZgKg/RfF5x162bJvaTA/HoOEAJlOAJcYAP8JoBsD3DdQpUA83PEA6KwTf7cIWLSDP7XsQRrQkEchEcCfAjg/AMMPIAyBa6jzAFDtAPAHWnBLhwt7aOmAZQOQVkAmLB0AMa6DVD7aAuiDD4DkAAaggoAsAWJIQH6AeABTQHoBSDjwxECXAsVi4I2AGQBiCEhBoGgMRDJQgArQ8kpcA3ALQK0AMQSsFDBaoGiBKgXCEEgroC2A1gBSCwhFoFKBwgUMF7BUQBSBMM5DBAGYDgCzASB+APgNgIYAxxLQWAI+Q8B9A8MPYNkALB2AIQhw48CHCGgwAQ4mAEQE9AMuJBLglQEcHgNpzBsDII8AWRfANxj9YbEu4HgEdGOAZse+GevKAPWFxbyA3cFmEPsXeTw7gMsF2HkAQAoAwAkA+w7A3QJ4dQDlD5j8Abs6YLsF1HeA/wRg/PPqPMCWC9jZAUc3AMj+jRiYAESGAG43wJAIABMDAPMCwHAIwN0GEBUCYFwCXFwCDBUCtNuAwiGAywuASwyAQiKAthswMBOAj1OpDVQADlQAJ00APB6g6QSAygGAugGg2QSAvwOcMgE4TgE2TgGaMgHud0BmE8DpBsApB0CmE8DgDIBJrdaUKcAGLgAHLgCVKQAhIYApFQAuBwDuBoDpFADhIABVKQDHLcDGLcBUKcDgIEDpFMDtBsAtB0B2CaDLlHFsBNCaBQAZBvgoBsiaBWhsBJjNAhj+ACgGAZjVAmh0BMiiBfgwBgAhBtCiBXB0BKDVAjAGASDrBRDrBAAjzQXLVH//VooFi1Nab3NVNnRvOl1ZC2+Ej7rNfYGBl4OBgTlE1r69x6mL3fOMoOlb1uVEXv/vy3LbpvGBkMFcK+0ZMyx3I92+7KmcIXHfvg3H6mrhU2T8fF5S0eIChTZyCapnmoLzjn2/ggT/AkRAAAAAAP8PAAAAAGDBAABgwQAAYMEAAOBBDAQBAQEEBOE/EAMQBTj++z+hMwECb0POBAEDjIyAWgECjkYMAQLAQG4AAACeAAAA",
        "encoding": "base64",
        "path": [
         "scene_HSH9IkGKmxzRMH7QkvE0EDL8W",
         "drc"
        ]
       },
       {
        "data": "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",
        "encoding": "base64",
        "path": [
         "scene_gVDRf3Ay5e2QMOOLis0HNgjCC",
         "drc"
        ]
       },
       {
        "data": "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",
        "encoding": "base64",
        "path": [
         "scene_KxoA2tVnlUvON6VJeSM4X4Q5R",
         "drc"
        ]
       },
       {
        "data": "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",
        "encoding": "base64",
        "path": [
         "scene_jLzTPJ3MabmydqUpwgk4Dv7DI",
         "drc"
        ]
       },
       {
        "data": "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",
        "encoding": "base64",
        "path": [
         "scene_PFxN1EvvGZ8hsiK4uiBPsZ5Eb",
         "drc"
        ]
       },
       {
        "data": "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",
        "encoding": "base64",
        "path": [
         "scene_jswO7w29mYOoZe3fXR5xtQG99",
         "drc"
        ]
       },
       {
        "data": "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",
        "encoding": "base64",
        "path": [
         "scene_gsKZQvCXiDj1ePltQfKpfNVIC",
         "drc"
        ]
       },
       {
        "data": "RFJBQ08CAgEBAIAAAgJpZAQAAAAABHR5cGUEbWVzaAAA/gL4BQH3BQAAvgFf27Zt27Ztq9pSVVVVVVVVVVWq1VJVVVVVVVVVpVrVUlVVVVVVVVWqVdVSVVVVVVVVpVpV1VJVVVVVVVWqVVXVUlVVVVVVpVpVVdVSVVVVVVWqVVVV1VJVVVVVpVpVVVXVUlVVVVWqVVVVVdVSVVVVpVpVVVVV1VJVVVWqVVVVVVXVUlVVpVpVVVVVVdVSVVWqVVVVVVVV1VJVpVpVVVVVVVXVUlWqVVVVVVVVVdVSpVpVVVVVVVVV1VKqAAAKAQEQ/wPnhIUC/wABAAEAAQAJAwAAAgECAgMAAQEEAQEADQ8BAS0BZQsdFaUaWQIsAyxeiXJvdjFMtM+NaBl5Cn8NGqozbqTMy7NAIPaF+cl+qzUwlsIl6Poa9gEWKZWHIG4/FYwZh9ZAp2TfBJ8F5GVLweO9ye94yuojRy86cweXYHMqlSY9hlfwH14dNPq/g/l96DOgNQvgmYiVaK0CTHICtAgDSJcao5cMIJPui3AQgKoUwCMYoAsYIGsWoCMYgOMWIAk1a18MYKEDAAOLAEhboFbAmgUwDAKQXBDTnQVwG5F1+hGFeQFgOATgbgOICgE4TgE2bgGyGoCJNMBsFgD0xFOlABunABiXAFmARUc9ABh6BECnQNFlS1GglwAyDQSAiQGAygFQPhD2AJjNAsicBOhLBvjaB8h6PtlwFEDxv/PKAGgIAP0AeGOADbqsC6D8AReXAE2ZAIODADckgJMSoBgEQKji0imA+x0wVAgw+QMgZ8CZ2aoHqOgLWvlS6/YYYHlune4tTlUB4DiARAK4XIDbDcDjAXADRUWArFmAm+EYiHYAIwMByHSfBHQWSTTumPItXLhjqYAoAqoFuAbgFoBaAWIIWCngWAIeZ8CuDmi3AVs44HYDoMAFUHMANDoCHFEMPO/pBkDhEMB2C4h1AY0lwGiBMuRxfjy2r8cx+WiB51F+QM4P2PahPD4ADgEEBKhDAA4mgPAGwN0CYGACcKACcOACeAgDgBQDPE1cSgVwygFweQFQ3wEA758hoGgBwH28hgEwcwGUTrMIZgKg/RfF5x162bJvaTA/HoOEAJlOAJcYAP8JoBsD3DdQpUA83PEA6KwTf7cIWLSDP7XsQRrQkEchEcCfAjg/AMMPIAyBa6jzAFDtAPAHWnBLhwt7aOmAZQOQVkAmLB0AMa6DVD7aAuiDD4DkAAaggoAsAWJIQH6AeABTQHoBSDjwxECXAsVi4I2AGQBiCEhBoGgMRDJQgArQ8kpcA3ALQK0AMQSsFDBaoGiBKgXCEEgroC2A1gBSCwhFoFKBwgUMF7BUQBSBMM5DBAGYDgCzASB+APgNgIYAxxLQWAI+Q8B9A8MPYNkALB2AIQhw48CHCGgwAQ4mAEQE9AMuJBLglQEcHgNpzBsDII8AWRfANxj9YbEu4HgEdGOAZse+GevKAPWFxbyA3cFmEPsXeTw7gMsF2HkAQAoAwAkA+w7A3QJ4dQDlD5j8Abs6YLsF1HeA/wRg/PPqPMCWC9jZAUc3AMj+jRiYAESGAG43wJAIABMDAPMCwHAIwN0GEBUCYFwCXFwCDBUCtNuAwiGAywuASwyAQiKAthswMBOAj1OpDVQADlQAJ00APB6g6QSAygGAugGg2QSAvwOcMgE4TgE2TgGaMgHud0BmE8DpBsApB0CmE8DgDIBJrdaUKcAGLgAHLgCVKQAhIYApFQAuBwDuBoDpFADhIABVKQDHLcDGLcBUKcDgIEDpFMDtBsAtB0B2CaDLlHFsBNCaBQAZBvgoBsiaBWhsBJjNAhj+ACgGAZjVAmh0BMiiBfgwBgAhBtCiBXB0BKDVAjAGASDrBRDrBAAjzQXLVH//VooFi1Nab3NVNnRvOl1ZC2+Ej7rNfYGBl4OBgTlE1r69x6mL3fOMoOlb1uVEXv/vy3LbpvGBkMFcK+0ZMyx3I92+7KmcIXHfvg3H6mrhU2T8fF5S0eIChTZyCapnmoLzjn2/ggT/AkRAAAAAAP8PAAAAAEDAAABAwAAAQMAAAMBADAQBAQEEKOE/EJMQBTj++z+hMwECb0POBAEDjIyAWgECjkYMAQLAQIkAAADLAAAA",
        "encoding": "base64",
        "path": [
         "scene_a4SJKBE0cjEtyMAHhPkFAxNLW",
         "drc"
        ]
       },
       {
        "data": "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",
        "encoding": "base64",
        "path": [
         "scene_k3cTJGqRwCOBvsxFHeZ3jNV4d",
         "drc"
        ]
       },
       {
        "data": "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",
        "encoding": "base64",
        "path": [
         "scene_oIQhV9dmvAkLVVrhssmkBgg4E",
         "drc"
        ]
       },
       {
        "data": "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",
        "encoding": "base64",
        "path": [
         "scene_g4969PZOXIxE3k41cCjtrLGDq",
         "drc"
        ]
       },
       {
        "data": "RFJBQ08CAgEBAIAAAgJpZAQAAAAABHR5cGUEbWVzaAAA/gL4BQH3BQAAvgFf27Zt27Ztq9pSVVVVVVVVVVWq1VJVVVVVVVVVpVrVUlVVVVVVVVWqVdVSVVVVVVVVpVpV1VJVVVVVVVWqVVXVUlVVVVVVpVpVVdVSVVVVVVWqVVVV1VJVVVVVpVpVVVXVUlVVVVWqVVVVVdVSVVVVpVpVVVVV1VJVVVWqVVVVVVXVUlVVpVpVVVVVVdVSVVWqVVVVVVVV1VJVpVpVVVVVVVXVUlWqVVVVVVVVVdVSpVpVVVVVVVVV1VKqAAAKAQEQ/wPnhIUC/wABAAEAAQAJAwAAAgECAgMAAQEEAQEADQ8BAS0BZQsdFaUaWQIsAyxeiXJvdjFMtM+NaBl5Cn8NGqozbqTMy7NAIPaF+cl+qzUwlsIl6Poa9gEWKZWHIG4/FYwZh9ZAp2TfBJ8F5GVLweO9ye94yuojRy86cweXYHMqlSY9hlfwH14dNPq/g/l96DOgNQvgmYiVaK0CTHICtAgDSJcao5cMIJPui3AQgKoUwCMYoAsYIGsWoCMYgOMWIAk1a18MYKEDAAOLAEhboFbAmgUwDAKQXBDTnQVwG5F1+hGFeQFgOATgbgOICgE4TgE2bgGyGoCJNMBsFgD0xFOlABunABiXAFmARUc9ABh6BECnQNFlS1GglwAyDQSAiQGAygFQPhD2AJjNAsicBOhLBvjaB8h6PtlwFEDxv/PKAGgIAP0AeGOADbqsC6D8AReXAE2ZAIODADckgJMSoBgEQKji0imA+x0wVAgw+QMgZ8CZ2aoHqOgLWvlS6/YYYHlune4tTlUB4DiARAK4XIDbDcDjAXADRUWArFmAm+EYiHYAIwMByHSfBHQWSTTumPItXLhjqYAoAqoFuAbgFoBaAWIIWCngWAIeZ8CuDmi3AVs44HYDoMAFUHMANDoCHFEMPO/pBkDhEMB2C4h1AY0lwGiBMuRxfjy2r8cx+WiB51F+QM4P2PahPD4ADgEEBKhDAA4mgPAGwN0CYGACcKACcOACeAgDgBQDPE1cSgVwygFweQFQ3wEA758hoGgBwH28hgEwcwGUTrMIZgKg/RfF5x162bJvaTA/HoOEAJlOAJcYAP8JoBsD3DdQpUA83PEA6KwTf7cIWLSDP7XsQRrQkEchEcCfAjg/AMMPIAyBa6jzAFDtAPAHWnBLhwt7aOmAZQOQVkAmLB0AMa6DVD7aAuiDD4DkAAaggoAsAWJIQH6AeABTQHoBSDjwxECXAsVi4I2AGQBiCEhBoGgMRDJQgArQ8kpcA3ALQK0AMQSsFDBaoGiBKgXCEEgroC2A1gBSCwhFoFKBwgUMF7BUQBSBMM5DBAGYDgCzASB+APgNgIYAxxLQWAI+Q8B9A8MPYNkALB2AIQhw48CHCGgwAQ4mAEQE9AMuJBLglQEcHgNpzBsDII8AWRfANxj9YbEu4HgEdGOAZse+GevKAPWFxbyA3cFmEPsXeTw7gMsF2HkAQAoAwAkA+w7A3QJ4dQDlD5j8Abs6YLsF1HeA/wRg/PPqPMCWC9jZAUc3AMj+jRiYAESGAG43wJAIABMDAPMCwHAIwN0GEBUCYFwCXFwCDBUCtNuAwiGAywuASwyAQiKAthswMBOAj1OpDVQADlQAJ00APB6g6QSAygGAugGg2QSAvwOcMgE4TgE2TgGaMgHud0BmE8DpBsApB0CmE8DgDIBJrdaUKcAGLgAHLgCVKQAhIYApFQAuBwDuBoDpFADhIABVKQDHLcDGLcBUKcDgIEDpFMDtBsAtB0B2CaDLlHFsBNCaBQAZBvgoBsiaBWhsBJjNAhj+ACgGAZjVAmh0BMiiBfgwBgAhBtCiBXB0BKDVAjAGASDrBRDrBAAjzQXLVH//VooFi1Nab3NVNnRvOl1ZC2+Ej7rNfYGBl4OBgTlE1r69x6mL3fOMoOlb1uVEXv/vy3LbpvGBkMFcK+0ZMyx3I92+7KmcIXHfvg3H6mrhU2T8fF5S0eIChTZyCapnmoLzjn2/ggT/AkRAAAAAAP8PAAAAAADBAAAAwQAAAMEAAIBBDAQBAQEEHOE/EGMQBTj++z+hMwECb0POBAEDjIyAWgECjkYMAQLAQIMAAADQAAAA",
        "encoding": "base64",
        "path": [
         "scene_vQQn4l7ZDl1hb6kg1tkxZEPbL",
         "drc"
        ]
       },
       {
        "data": "RFJBQ08CAgEBAIAAAgJpZAQAAAAABHR5cGUEbWVzaAAA/gL4BQH3BQAAvgFf27Zt27Ztq9pSVVVVVVVVVVWq1VJVVVVVVVVVpVrVUlVVVVVVVVWqVdVSVVVVVVVVpVpV1VJVVVVVVVWqVVXVUlVVVVVVpVpVVdVSVVVVVVWqVVVV1VJVVVVVpVpVVVXVUlVVVVWqVVVVVdVSVVVVpVpVVVVV1VJVVVWqVVVVVVXVUlVVpVpVVVVVVdVSVVWqVVVVVVVV1VJVpVpVVVVVVVXVUlWqVVVVVVVVVdVSpVpVVVVVVVVV1VKqAAAKAQEQ/wPnhIUC/wABAAEAAQAJAwAAAgECAgMAAQEEAQEADQ8BAS0BZQsdFaUaWQIsAyxeiXJvdjFMtM+NaBl5Cn8NGqozbqTMy7NAIPaF+cl+qzUwlsIl6Poa9gEWKZWHIG4/FYwZh9ZAp2TfBJ8F5GVLweO9ye94yuojRy86cweXYHMqlSY9hlfwH14dNPq/g/l96DOgNQvgmYiVaK0CTHICtAgDSJcao5cMIJPui3AQgKoUwCMYoAsYIGsWoCMYgOMWIAk1a18MYKEDAAOLAEhboFbAmgUwDAKQXBDTnQVwG5F1+hGFeQFgOATgbgOICgE4TgE2bgGyGoCJNMBsFgD0xFOlABunABiXAFmARUc9ABh6BECnQNFlS1GglwAyDQSAiQGAygFQPhD2AJjNAsicBOhLBvjaB8h6PtlwFEDxv/PKAGgIAP0AeGOADbqsC6D8AReXAE2ZAIODADckgJMSoBgEQKji0imA+x0wVAgw+QMgZ8CZ2aoHqOgLWvlS6/YYYHlune4tTlUB4DiARAK4XIDbDcDjAXADRUWArFmAm+EYiHYAIwMByHSfBHQWSTTumPItXLhjqYAoAqoFuAbgFoBaAWIIWCngWAIeZ8CuDmi3AVs44HYDoMAFUHMANDoCHFEMPO/pBkDhEMB2C4h1AY0lwGiBMuRxfjy2r8cx+WiB51F+QM4P2PahPD4ADgEEBKhDAA4mgPAGwN0CYGACcKACcOACeAgDgBQDPE1cSgVwygFweQFQ3wEA758hoGgBwH28hgEwcwGUTrMIZgKg/RfF5x162bJvaTA/HoOEAJlOAJcYAP8JoBsD3DdQpUA83PEA6KwTf7cIWLSDP7XsQRrQkEchEcCfAjg/AMMPIAyBa6jzAFDtAPAHWnBLhwt7aOmAZQOQVkAmLB0AMa6DVD7aAuiDD4DkAAaggoAsAWJIQH6AeABTQHoBSDjwxECXAsVi4I2AGQBiCEhBoGgMRDJQgArQ8kpcA3ALQK0AMQSsFDBaoGiBKgXCEEgroC2A1gBSCwhFoFKBwgUMF7BUQBSBMM5DBAGYDgCzASB+APgNgIYAxxLQWAI+Q8B9A8MPYNkALB2AIQhw48CHCGgwAQ4mAEQE9AMuJBLglQEcHgNpzBsDII8AWRfANxj9YbEu4HgEdGOAZse+GevKAPWFxbyA3cFmEPsXeTw7gMsF2HkAQAoAwAkA+w7A3QJ4dQDlD5j8Abs6YLsF1HeA/wRg/PPqPMCWC9jZAUc3AMj+jRiYAESGAG43wJAIABMDAPMCwHAIwN0GEBUCYFwCXFwCDBUCtNuAwiGAywuASwyAQiKAthswMBOAj1OpDVQADlQAJ00APB6g6QSAygGAugGg2QSAvwOcMgE4TgE2TgGaMgHud0BmE8DpBsApB0CmE8DgDIBJrdaUKcAGLgAHLgCVKQAhIYApFQAuBwDuBoDpFADhIABVKQDHLcDGLcBUKcDgIEDpFMDtBsAtB0B2CaDLlHFsBNCaBQAZBvgoBsiaBWhsBJjNAhj+ACgGAZjVAmh0BMiiBfgwBgAhBtCiBXB0BKDVAjAGASDrBRDrBAAjzQXLVH//VooFi1Nab3NVNnRvOl1ZC2+Ej7rNfYGBl4OBgTlE1r69x6mL3fOMoOlb1uVEXv/vy3LbpvGBkMFcK+0ZMyx3I92+7KmcIXHfvg3H6mrhU2T8fF5S0eIChTZyCapnmoLzjn2/ggT/AkRAAAAAAP8PAAAAACDBAAAgwQAAIMEAAKBBDAQBAQEEgQHhPxD/9xAFMC34X6EzAQJvQ84EAQOMjIBaAQKORgwBAsBACAAAAJIAAAA=",
        "encoding": "base64",
        "path": [
         "scene_FQtD0EEmL9Hsd9UDx4ziw9kY0",
         "drc"
        ]
       },
       {
        "data": "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",
        "encoding": "base64",
        "path": [
         "scene_xZ5iRAKAPPk6KQ0H7kUyI8n7X",
         "drc"
        ]
       },
       {
        "data": "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",
        "encoding": "base64",
        "path": [
         "scene_pVbXDIUlYsnA0fooqKDq8ruJd",
         "drc"
        ]
       },
       {
        "data": "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",
        "encoding": "base64",
        "path": [
         "scene_zFx0xcpJFaE5cOdDGqRuTDPWt",
         "drc"
        ]
       },
       {
        "data": "RFJBQ08CAgEBAIAAAgJpZAQAAAAABHR5cGUEbWVzaAAA/gL4BQH3BQAAvgFf27Zt27Ztq9pSVVVVVVVVVVWq1VJVVVVVVVVVpVrVUlVVVVVVVVWqVdVSVVVVVVVVpVpV1VJVVVVVVVWqVVXVUlVVVVVVpVpVVdVSVVVVVVWqVVVV1VJVVVVVpVpVVVXVUlVVVVWqVVVVVdVSVVVVpVpVVVVV1VJVVVWqVVVVVVXVUlVVpVpVVVVVVdVSVVWqVVVVVVVV1VJVpVpVVVVVVVXVUlWqVVVVVVVVVdVSpVpVVVVVVVVV1VKqAAAKAQEQ/wPnhIUC/wABAAEAAQAJAwAAAgECAgMAAQEEAQEADQ8BAS0BZQsdFaUaWQIsAyxeiXJvdjFMtM+NaBl5Cn8NGqozbqTMy7NAIPaF+cl+qzUwlsIl6Poa9gEWKZWHIG4/FYwZh9ZAp2TfBJ8F5GVLweO9ye94yuojRy86cweXYHMqlSY9hlfwH14dNPq/g/l96DOgNQvgmYiVaK0CTHICtAgDSJcao5cMIJPui3AQgKoUwCMYoAsYIGsWoCMYgOMWIAk1a18MYKEDAAOLAEhboFbAmgUwDAKQXBDTnQVwG5F1+hGFeQFgOATgbgOICgE4TgE2bgGyGoCJNMBsFgD0xFOlABunABiXAFmARUc9ABh6BECnQNFlS1GglwAyDQSAiQGAygFQPhD2AJjNAsicBOhLBvjaB8h6PtlwFEDxv/PKAGgIAP0AeGOADbqsC6D8AReXAE2ZAIODADckgJMSoBgEQKji0imA+x0wVAgw+QMgZ8CZ2aoHqOgLWvlS6/YYYHlune4tTlUB4DiARAK4XIDbDcDjAXADRUWArFmAm+EYiHYAIwMByHSfBHQWSTTumPItXLhjqYAoAqoFuAbgFoBaAWIIWCngWAIeZ8CuDmi3AVs44HYDoMAFUHMANDoCHFEMPO/pBkDhEMB2C4h1AY0lwGiBMuRxfjy2r8cx+WiB51F+QM4P2PahPD4ADgEEBKhDAA4mgPAGwN0CYGACcKACcOACeAgDgBQDPE1cSgVwygFweQFQ3wEA758hoGgBwH28hgEwcwGUTrMIZgKg/RfF5x162bJvaTA/HoOEAJlOAJcYAP8JoBsD3DdQpUA83PEA6KwTf7cIWLSDP7XsQRrQkEchEcCfAjg/AMMPIAyBa6jzAFDtAPAHWnBLhwt7aOmAZQOQVkAmLB0AMa6DVD7aAuiDD4DkAAaggoAsAWJIQH6AeABTQHoBSDjwxECXAsVi4I2AGQBiCEhBoGgMRDJQgArQ8kpcA3ALQK0AMQSsFDBaoGiBKgXCEEgroC2A1gBSCwhFoFKBwgUMF7BUQBSBMM5DBAGYDgCzASB+APgNgIYAxxLQWAI+Q8B9A8MPYNkALB2AIQhw48CHCGgwAQ4mAEQE9AMuJBLglQEcHgNpzBsDII8AWRfANxj9YbEu4HgEdGOAZse+GevKAPWFxbyA3cFmEPsXeTw7gMsF2HkAQAoAwAkA+w7A3QJ4dQDlD5j8Abs6YLsF1HeA/wRg/PPqPMCWC9jZAUc3AMj+jRiYAESGAG43wJAIABMDAPMCwHAIwN0GEBUCYFwCXFwCDBUCtNuAwiGAywuASwyAQiKAthswMBOAj1OpDVQADlQAJ00APB6g6QSAygGAugGg2QSAvwOcMgE4TgE2TgGaMgHud0BmE8DpBsApB0CmE8DgDIBJrdaUKcAGLgAHLgCVKQAhIYApFQAuBwDuBoDpFADhIABVKQDHLcDGLcBUKcDgIEDpFMDtBsAtB0B2CaDLlHFsBNCaBQAZBvgoBsiaBWhsBJjNAhj+ACgGAZjVAmh0BMiiBfgwBgAhBtCiBXB0BKDVAjAGASDrBRDrBAAjzQXLVH//VooFi1Nab3NVNnRvOl1ZC2+Ej7rNfYGBl4OBgTlE1r69x6mL3fOMoOlb1uVEXv/vy3LbpvGBkMFcK+0ZMyx3I92+7KmcIXHfvg3H6mrhU2T8fF5S0eIChTZyCapnmoLzjn2/ggT/AkRAAAAAAP8PAAAAAMDAAADAwAAAwMAAAEBBDAQBAQEEgwHhPxD//xAFMC34X6EzAQJvQ84EAQOMjIBaAQKORgwBAsBAKAAAAPIAAAA=",
        "encoding": "base64",
        "path": [
         "scene_ONVVfEt00bz9OUkq089zsK2Ry",
         "drc"
        ]
       },
       {
        "data": "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",
        "encoding": "base64",
        "path": [
         "scene_6v0VEPrmW7tTszU5rlOYvYQzZ",
         "drc"
        ]
       },
       {
        "data": "RFJBQ08CAgEBAIAAAgJpZAQAAAAABHR5cGUEbWVzaAAA/gL4BQH3BQAAvgFf27Zt27Ztq9pSVVVVVVVVVVWq1VJVVVVVVVVVpVrVUlVVVVVVVVWqVdVSVVVVVVVVpVpV1VJVVVVVVVWqVVXVUlVVVVVVpVpVVdVSVVVVVVWqVVVV1VJVVVVVpVpVVVXVUlVVVVWqVVVVVdVSVVVVpVpVVVVV1VJVVVWqVVVVVVXVUlVVpVpVVVVVVdVSVVWqVVVVVVVV1VJVpVpVVVVVVVXVUlWqVVVVVVVVVdVSpVpVVVVVVVVV1VKqAAAKAQEQ/wPnhIUC/wABAAEAAQAJAwAAAgECAgMAAQEEAQEADQ8BAS0BZQsdFaUaWQIsAyxeiXJvdjFMtM+NaBl5Cn8NGqozbqTMy7NAIPaF+cl+qzUwlsIl6Poa9gEWKZWHIG4/FYwZh9ZAp2TfBJ8F5GVLweO9ye94yuojRy86cweXYHMqlSY9hlfwH14dNPq/g/l96DOgNQvgmYiVaK0CTHICtAgDSJcao5cMIJPui3AQgKoUwCMYoAsYIGsWoCMYgOMWIAk1a18MYKEDAAOLAEhboFbAmgUwDAKQXBDTnQVwG5F1+hGFeQFgOATgbgOICgE4TgE2bgGyGoCJNMBsFgD0xFOlABunABiXAFmARUc9ABh6BECnQNFlS1GglwAyDQSAiQGAygFQPhD2AJjNAsicBOhLBvjaB8h6PtlwFEDxv/PKAGgIAP0AeGOADbqsC6D8AReXAE2ZAIODADckgJMSoBgEQKji0imA+x0wVAgw+QMgZ8CZ2aoHqOgLWvlS6/YYYHlune4tTlUB4DiARAK4XIDbDcDjAXADRUWArFmAm+EYiHYAIwMByHSfBHQWSTTumPItXLhjqYAoAqoFuAbgFoBaAWIIWCngWAIeZ8CuDmi3AVs44HYDoMAFUHMANDoCHFEMPO/pBkDhEMB2C4h1AY0lwGiBMuRxfjy2r8cx+WiB51F+QM4P2PahPD4ADgEEBKhDAA4mgPAGwN0CYGACcKACcOACeAgDgBQDPE1cSgVwygFweQFQ3wEA758hoGgBwH28hgEwcwGUTrMIZgKg/RfF5x162bJvaTA/HoOEAJlOAJcYAP8JoBsD3DdQpUA83PEA6KwTf7cIWLSDP7XsQRrQkEchEcCfAjg/AMMPIAyBa6jzAFDtAPAHWnBLhwt7aOmAZQOQVkAmLB0AMa6DVD7aAuiDD4DkAAaggoAsAWJIQH6AeABTQHoBSDjwxECXAsVi4I2AGQBiCEhBoGgMRDJQgArQ8kpcA3ALQK0AMQSsFDBaoGiBKgXCEEgroC2A1gBSCwhFoFKBwgUMF7BUQBSBMM5DBAGYDgCzASB+APgNgIYAxxLQWAI+Q8B9A8MPYNkALB2AIQhw48CHCGgwAQ4mAEQE9AMuJBLglQEcHgNpzBsDII8AWRfANxj9YbEu4HgEdGOAZse+GevKAPWFxbyA3cFmEPsXeTw7gMsF2HkAQAoAwAkA+w7A3QJ4dQDlD5j8Abs6YLsF1HeA/wRg/PPqPMCWC9jZAUc3AMj+jRiYAESGAG43wJAIABMDAPMCwHAIwN0GEBUCYFwCXFwCDBUCtNuAwiGAywuASwyAQiKAthswMBOAj1OpDVQADlQAJ00APB6g6QSAygGAugGg2QSAvwOcMgE4TgE2TgGaMgHud0BmE8DpBsApB0CmE8DgDIBJrdaUKcAGLgAHLgCVKQAhIYApFQAuBwDuBoDpFADhIABVKQDHLcDGLcBUKcDgIEDpFMDtBsAtB0B2CaDLlHFsBNCaBQAZBvgoBsiaBWhsBJjNAhj+ACgGAZjVAmh0BMiiBfgwBgAhBtCiBXB0BKDVAjAGASDrBRDrBAAjzQXLVH//VooFi1Nab3NVNnRvOl1ZC2+Ej7rNfYGBl4OBgTlE1r69x6mL3fOMoOlb1uVEXv/vy3LbpvGBkMFcK+0ZMyx3I92+7KmcIXHfvg3H6mrhU2T8fF5S0eIChTZyCapnmoLzjn2/ggT/AkRAAAAAAP8PAAAAAFDBAABQwQAAUMEAANBBDAQBAQEEDuE/ECsQBTj++z+hMwECb0POBAEDjIyAWgECjkYMAQLAQHIAAACjAAAA",
        "encoding": "base64",
        "path": [
         "scene_MUxMagilWKvhY0dRmnxqVZafH",
         "drc"
        ]
       },
       {
        "data": "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",
        "encoding": "base64",
        "path": [
         "scene_bEzSoulQJSGkeBu2TmE6exg3X",
         "drc"
        ]
       },
       {
        "data": "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",
        "encoding": "base64",
        "path": [
         "scene_QEoT6Oxe4LwPCJ0cq7FgvUQdM",
         "drc"
        ]
       },
       {
        "data": "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",
        "encoding": "base64",
        "path": [
         "scene_p5lxQjrVaGD8fjlayI4VLsbHa",
         "drc"
        ]
       },
       {
        "data": "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",
        "encoding": "base64",
        "path": [
         "scene_93U75VqRHx7TcE2MA7V1Wbfoc",
         "drc"
        ]
       },
       {
        "data": "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",
        "encoding": "base64",
        "path": [
         "scene_q14kyk6jlSN7Aic4ZMRTBvxiz",
         "drc"
        ]
       },
       {
        "data": "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",
        "encoding": "base64",
        "path": [
         "scene_GVebDSIdMG9k2qFJIgfOcRqAI",
         "drc"
        ]
       },
       {
        "data": "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",
        "encoding": "base64",
        "path": [
         "scene_19c4VuOmknj4X8c7tEOFfMqyG",
         "drc"
        ]
       },
       {
        "data": "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",
        "encoding": "base64",
        "path": [
         "scene_Tsc09VgYyLEg71BqEGInb6XVW",
         "drc"
        ]
       },
       {
        "data": "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",
        "encoding": "base64",
        "path": [
         "scene_af4m5eQeeH2oWG5lhBK4ysWga",
         "drc"
        ]
       },
       {
        "data": "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",
        "encoding": "base64",
        "path": [
         "scene_dIKWx5N0UEKPdxwvQ7VmN1X9h",
         "drc"
        ]
       },
       {
        "data": "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",
        "encoding": "base64",
        "path": [
         "scene_sI5PQlxMZeSfoVuwTIVgjHWk0",
         "drc"
        ]
       },
       {
        "data": "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",
        "encoding": "base64",
        "path": [
         "scene_KHp6EGMUq0RluSVRO6ttNmZHD",
         "drc"
        ]
       },
       {
        "data": "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",
        "encoding": "base64",
        "path": [
         "scene_lnGBh5wcKP9CYCc2h3JdXOrTa",
         "drc"
        ]
       },
       {
        "data": "RFJBQ08CAgEBAIAAAgJpZAQAAAAABHR5cGUEbWVzaAAA/gL4BQH3BQAAvgFf27Zt27Ztq9pSVVVVVVVVVVWq1VJVVVVVVVVVpVrVUlVVVVVVVVWqVdVSVVVVVVVVpVpV1VJVVVVVVVWqVVXVUlVVVVVVpVpVVdVSVVVVVVWqVVVV1VJVVVVVpVpVVVXVUlVVVVWqVVVVVdVSVVVVpVpVVVVV1VJVVVWqVVVVVVXVUlVVpVpVVVVVVdVSVVWqVVVVVVVV1VJVpVpVVVVVVVXVUlWqVVVVVVVVVdVSpVpVVVVVVVVV1VKqAAAKAQEQ/wPnhIUC/wABAAEAAQAJAwAAAgECAgMAAQEEAQEADQ8BAS0BZQsdFaUaWQIsAyxeiXJvdjFMtM+NaBl5Cn8NGqozbqTMy7NAIPaF+cl+qzUwlsIl6Poa9gEWKZWHIG4/FYwZh9ZAp2TfBJ8F5GVLweO9ye94yuojRy86cweXYHMqlSY9hlfwH14dNPq/g/l96DOgNQvgmYiVaK0CTHICtAgDSJcao5cMIJPui3AQgKoUwCMYoAsYIGsWoCMYgOMWIAk1a18MYKEDAAOLAEhboFbAmgUwDAKQXBDTnQVwG5F1+hGFeQFgOATgbgOICgE4TgE2bgGyGoCJNMBsFgD0xFOlABunABiXAFmARUc9ABh6BECnQNFlS1GglwAyDQSAiQGAygFQPhD2AJjNAsicBOhLBvjaB8h6PtlwFEDxv/PKAGgIAP0AeGOADbqsC6D8AReXAE2ZAIODADckgJMSoBgEQKji0imA+x0wVAgw+QMgZ8CZ2aoHqOgLWvlS6/YYYHlune4tTlUB4DiARAK4XIDbDcDjAXADRUWArFmAm+EYiHYAIwMByHSfBHQWSTTumPItXLhjqYAoAqoFuAbgFoBaAWIIWCngWAIeZ8CuDmi3AVs44HYDoMAFUHMANDoCHFEMPO/pBkDhEMB2C4h1AY0lwGiBMuRxfjy2r8cx+WiB51F+QM4P2PahPD4ADgEEBKhDAA4mgPAGwN0CYGACcKACcOACeAgDgBQDPE1cSgVwygFweQFQ3wEA758hoGgBwH28hgEwcwGUTrMIZgKg/RfF5x162bJvaTA/HoOEAJlOAJcYAP8JoBsD3DdQpUA83PEA6KwTf7cIWLSDP7XsQRrQkEchEcCfAjg/AMMPIAyBa6jzAFDtAPAHWnBLhwt7aOmAZQOQVkAmLB0AMa6DVD7aAuiDD4DkAAaggoAsAWJIQH6AeABTQHoBSDjwxECXAsVi4I2AGQBiCEhBoGgMRDJQgArQ8kpcA3ALQK0AMQSsFDBaoGiBKgXCEEgroC2A1gBSCwhFoFKBwgUMF7BUQBSBMM5DBAGYDgCzASB+APgNgIYAxxLQWAI+Q8B9A8MPYNkALB2AIQhw48CHCGgwAQ4mAEQE9AMuJBLglQEcHgNpzBsDII8AWRfANxj9YbEu4HgEdGOAZse+GevKAPWFxbyA3cFmEPsXeTw7gMsF2HkAQAoAwAkA+w7A3QJ4dQDlD5j8Abs6YLsF1HeA/wRg/PPqPMCWC9jZAUc3AMj+jRiYAESGAG43wJAIABMDAPMCwHAIwN0GEBUCYFwCXFwCDBUCtNuAwiGAywuASwyAQiKAthswMBOAj1OpDVQADlQAJ00APB6g6QSAygGAugGg2QSAvwOcMgE4TgE2TgGaMgHud0BmE8DpBsApB0CmE8DgDIBJrdaUKcAGLgAHLgCVKQAhIYApFQAuBwDuBoDpFADhIABVKQDHLcDGLcBUKcDgIEDpFMDtBsAtB0B2CaDLlHFsBNCaBQAZBvgoBsiaBWhsBJjNAhj+ACgGAZjVAmh0BMiiBfgwBgAhBtCiBXB0BKDVAjAGASDrBRDrBAAjzQXLVH//VooFi1Nab3NVNnRvOl1ZC2+Ej7rNfYGBl4OBgTlE1r69x6mL3fOMoOlb1uVEXv/vy3LbpvGBkMFcK+0ZMyx3I92+7KmcIXHfvg3H6mrhU2T8fF5S0eIChTZyCapnmoLzjn2/ggT/AkRAAAAAAP8PAAAAAIDAAACAwAAAgMAAAABBDAQBAQEEAvE/EAQU/J+CMwECb0POBAEDjIyAWgECjkYMAQLAQBoAAAChAAAA",
        "encoding": "base64",
        "path": [
         "scene_mIOeK87tipZfF43NdGziCiGdn",
         "drc"
        ]
       },
       {
        "data": "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",
        "encoding": "base64",
        "path": [
         "scene_kW76VNufhPKSLbzulLd92VnrR",
         "drc"
        ]
       },
       {
        "data": "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",
        "encoding": "base64",
        "path": [
         "scene_HWCJZOZxjQqz9Jrb51MgAzqnZ",
         "drc"
        ]
       },
       {
        "data": "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",
        "encoding": "base64",
        "path": [
         "scene_5P2mnowJ9ckf6PjfdM3ajITvx",
         "drc"
        ]
       },
       {
        "data": "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",
        "encoding": "base64",
        "path": [
         "scene_LAGMHw0rqaRjY03L9D3qQYlNe",
         "drc"
        ]
       },
       {
        "data": "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",
        "encoding": "base64",
        "path": [
         "scene_jz3XfH1A7ByteaLLZt3fXHaFg",
         "drc"
        ]
       },
       {
        "data": "RFJBQ08CAgEBAIAAAgJpZAQAAAAABHR5cGUEbWVzaAAA/gL4BQH3BQAAvgFf27Zt27Ztq9pSVVVVVVVVVVWq1VJVVVVVVVVVpVrVUlVVVVVVVVWqVdVSVVVVVVVVpVpV1VJVVVVVVVWqVVXVUlVVVVVVpVpVVdVSVVVVVVWqVVVV1VJVVVVVpVpVVVXVUlVVVVWqVVVVVdVSVVVVpVpVVVVV1VJVVVWqVVVVVVXVUlVVpVpVVVVVVdVSVVWqVVVVVVVV1VJVpVpVVVVVVVXVUlWqVVVVVVVVVdVSpVpVVVVVVVVV1VKqAAAKAQEQ/wPnhIUC/wABAAEAAQAJAwAAAgECAgMAAQEEAQEADQ8BAS0BZQsdFaUaWQIsAyxeiXJvdjFMtM+NaBl5Cn8NGqozbqTMy7NAIPaF+cl+qzUwlsIl6Poa9gEWKZWHIG4/FYwZh9ZAp2TfBJ8F5GVLweO9ye94yuojRy86cweXYHMqlSY9hlfwH14dNPq/g/l96DOgNQvgmYiVaK0CTHICtAgDSJcao5cMIJPui3AQgKoUwCMYoAsYIGsWoCMYgOMWIAk1a18MYKEDAAOLAEhboFbAmgUwDAKQXBDTnQVwG5F1+hGFeQFgOATgbgOICgE4TgE2bgGyGoCJNMBsFgD0xFOlABunABiXAFmARUc9ABh6BECnQNFlS1GglwAyDQSAiQGAygFQPhD2AJjNAsicBOhLBvjaB8h6PtlwFEDxv/PKAGgIAP0AeGOADbqsC6D8AReXAE2ZAIODADckgJMSoBgEQKji0imA+x0wVAgw+QMgZ8CZ2aoHqOgLWvlS6/YYYHlune4tTlUB4DiARAK4XIDbDcDjAXADRUWArFmAm+EYiHYAIwMByHSfBHQWSTTumPItXLhjqYAoAqoFuAbgFoBaAWIIWCngWAIeZ8CuDmi3AVs44HYDoMAFUHMANDoCHFEMPO/pBkDhEMB2C4h1AY0lwGiBMuRxfjy2r8cx+WiB51F+QM4P2PahPD4ADgEEBKhDAA4mgPAGwN0CYGACcKACcOACeAgDgBQDPE1cSgVwygFweQFQ3wEA758hoGgBwH28hgEwcwGUTrMIZgKg/RfF5x162bJvaTA/HoOEAJlOAJcYAP8JoBsD3DdQpUA83PEA6KwTf7cIWLSDP7XsQRrQkEchEcCfAjg/AMMPIAyBa6jzAFDtAPAHWnBLhwt7aOmAZQOQVkAmLB0AMa6DVD7aAuiDD4DkAAaggoAsAWJIQH6AeABTQHoBSDjwxECXAsVi4I2AGQBiCEhBoGgMRDJQgArQ8kpcA3ALQK0AMQSsFDBaoGiBKgXCEEgroC2A1gBSCwhFoFKBwgUMF7BUQBSBMM5DBAGYDgCzASB+APgNgIYAxxLQWAI+Q8B9A8MPYNkALB2AIQhw48CHCGgwAQ4mAEQE9AMuJBLglQEcHgNpzBsDII8AWRfANxj9YbEu4HgEdGOAZse+GevKAPWFxbyA3cFmEPsXeTw7gMsF2HkAQAoAwAkA+w7A3QJ4dQDlD5j8Abs6YLsF1HeA/wRg/PPqPMCWC9jZAUc3AMj+jRiYAESGAG43wJAIABMDAPMCwHAIwN0GEBUCYFwCXFwCDBUCtNuAwiGAywuASwyAQiKAthswMBOAj1OpDVQADlQAJ00APB6g6QSAygGAugGg2QSAvwOcMgE4TgE2TgGaMgHud0BmE8DpBsApB0CmE8DgDIBJrdaUKcAGLgAHLgCVKQAhIYApFQAuBwDuBoDpFADhIABVKQDHLcDGLcBUKcDgIEDpFMDtBsAtB0B2CaDLlHFsBNCaBQAZBvgoBsiaBWhsBJjNAhj+ACgGAZjVAmh0BMiiBfgwBgAhBtCiBXB0BKDVAjAGASDrBRDrBAAjzQXLVH//VooFi1Nab3NVNnRvOl1ZC2+Ej7rNfYGBl4OBgTlE1r69x6mL3fOMoOlb1uVEXv/vy3LbpvGBkMFcK+0ZMyx3I92+7KmcIXHfvg3H6mrhU2T8fF5S0eIChTZyCapnmoLzjn2/ggT/AkRAAAAAAP8PAAAAAIDAAACAwAAAgMAAAABBDAQBAQEEIeE/EHcQBTAp/F+hMwECb0POBAEDjIyAWgECjkYMAQLAQF4AAACNAAAA",
        "encoding": "base64",
        "path": [
         "scene_IWogyypXIeu9RuUOMWV8dDCzW",
         "drc"
        ]
       },
       {
        "data": "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",
        "encoding": "base64",
        "path": [
         "scene_WaBiol6Nt6I8VcQuHAiRTo8p3",
         "drc"
        ]
       },
       {
        "data": "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",
        "encoding": "base64",
        "path": [
         "scene_2ZYJ8GcvOI3XJagvESqK8ww1k",
         "drc"
        ]
       },
       {
        "data": "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",
        "encoding": "base64",
        "path": [
         "scene_6qtizfI5lKVQtHI0RFI0yKsd4",
         "drc"
        ]
       },
       {
        "data": "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",
        "encoding": "base64",
        "path": [
         "scene_213rouOPihFDerD4HlhD5ew8Q",
         "drc"
        ]
       },
       {
        "data": "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",
        "encoding": "base64",
        "path": [
         "scene_eKuS57BSEp1oejywSYdKsamaL",
         "drc"
        ]
       },
       {
        "data": "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",
        "encoding": "base64",
        "path": [
         "scene_BD61ZhhIYDMGlFRjGKwbpN8n2",
         "drc"
        ]
       },
       {
        "data": "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",
        "encoding": "base64",
        "path": [
         "scene_1TfrhmVFc2liOiwXLwSx5TGgI",
         "drc"
        ]
       },
       {
        "data": "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",
        "encoding": "base64",
        "path": [
         "scene_6pouySOWrkO6Xm1KCl4U2JFK8",
         "drc"
        ]
       },
       {
        "data": "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",
        "encoding": "base64",
        "path": [
         "scene_WPdy5WwPO413WnWtisftssuFk",
         "drc"
        ]
       },
       {
        "data": "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",
        "encoding": "base64",
        "path": [
         "scene_jKqL9cDHU8niCwQFVnru4NWyf",
         "drc"
        ]
       },
       {
        "data": "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",
        "encoding": "base64",
        "path": [
         "scene_jcRWH9AlSPtA83uZdu3S3McIl",
         "drc"
        ]
       },
       {
        "data": "RFJBQ08CAgEBAIAAAgJpZAQAAAAABHR5cGUEbWVzaAAA/gL4BQH3BQAAvgFf27Zt27Ztq9pSVVVVVVVVVVWq1VJVVVVVVVVVpVrVUlVVVVVVVVWqVdVSVVVVVVVVpVpV1VJVVVVVVVWqVVXVUlVVVVVVpVpVVdVSVVVVVVWqVVVV1VJVVVVVpVpVVVXVUlVVVVWqVVVVVdVSVVVVpVpVVVVV1VJVVVWqVVVVVVXVUlVVpVpVVVVVVdVSVVWqVVVVVVVV1VJVpVpVVVVVVVXVUlWqVVVVVVVVVdVSpVpVVVVVVVVV1VKqAAAKAQEQ/wPnhIUC/wABAAEAAQAJAwAAAgECAgMAAQEEAQEADQ8BAS0BZQsdFaUaWQIsAyxeiXJvdjFMtM+NaBl5Cn8NGqozbqTMy7NAIPaF+cl+qzUwlsIl6Poa9gEWKZWHIG4/FYwZh9ZAp2TfBJ8F5GVLweO9ye94yuojRy86cweXYHMqlSY9hlfwH14dNPq/g/l96DOgNQvgmYiVaK0CTHICtAgDSJcao5cMIJPui3AQgKoUwCMYoAsYIGsWoCMYgOMWIAk1a18MYKEDAAOLAEhboFbAmgUwDAKQXBDTnQVwG5F1+hGFeQFgOATgbgOICgE4TgE2bgGyGoCJNMBsFgD0xFOlABunABiXAFmARUc9ABh6BECnQNFlS1GglwAyDQSAiQGAygFQPhD2AJjNAsicBOhLBvjaB8h6PtlwFEDxv/PKAGgIAP0AeGOADbqsC6D8AReXAE2ZAIODADckgJMSoBgEQKji0imA+x0wVAgw+QMgZ8CZ2aoHqOgLWvlS6/YYYHlune4tTlUB4DiARAK4XIDbDcDjAXADRUWArFmAm+EYiHYAIwMByHSfBHQWSTTumPItXLhjqYAoAqoFuAbgFoBaAWIIWCngWAIeZ8CuDmi3AVs44HYDoMAFUHMANDoCHFEMPO/pBkDhEMB2C4h1AY0lwGiBMuRxfjy2r8cx+WiB51F+QM4P2PahPD4ADgEEBKhDAA4mgPAGwN0CYGACcKACcOACeAgDgBQDPE1cSgVwygFweQFQ3wEA758hoGgBwH28hgEwcwGUTrMIZgKg/RfF5x162bJvaTA/HoOEAJlOAJcYAP8JoBsD3DdQpUA83PEA6KwTf7cIWLSDP7XsQRrQkEchEcCfAjg/AMMPIAyBa6jzAFDtAPAHWnBLhwt7aOmAZQOQVkAmLB0AMa6DVD7aAuiDD4DkAAaggoAsAWJIQH6AeABTQHoBSDjwxECXAsVi4I2AGQBiCEhBoGgMRDJQgArQ8kpcA3ALQK0AMQSsFDBaoGiBKgXCEEgroC2A1gBSCwhFoFKBwgUMF7BUQBSBMM5DBAGYDgCzASB+APgNgIYAxxLQWAI+Q8B9A8MPYNkALB2AIQhw48CHCGgwAQ4mAEQE9AMuJBLglQEcHgNpzBsDII8AWRfANxj9YbEu4HgEdGOAZse+GevKAPWFxbyA3cFmEPsXeTw7gMsF2HkAQAoAwAkA+w7A3QJ4dQDlD5j8Abs6YLsF1HeA/wRg/PPqPMCWC9jZAUc3AMj+jRiYAESGAG43wJAIABMDAPMCwHAIwN0GEBUCYFwCXFwCDBUCtNuAwiGAywuASwyAQiKAthswMBOAj1OpDVQADlQAJ00APB6g6QSAygGAugGg2QSAvwOcMgE4TgE2TgGaMgHud0BmE8DpBsApB0CmE8DgDIBJrdaUKcAGLgAHLgCVKQAhIYApFQAuBwDuBoDpFADhIABVKQDHLcDGLcBUKcDgIEDpFMDtBsAtB0B2CaDLlHFsBNCaBQAZBvgoBsiaBWhsBJjNAhj+ACgGAZjVAmh0BMiiBfgwBgAhBtCiBXB0BKDVAjAGASDrBRDrBAAjzQXLVH//VooFi1Nab3NVNnRvOl1ZC2+Ej7rNfYGBl4OBgTlE1r69x6mL3fOMoOlb1uVEXv/vy3LbpvGBkMFcK+0ZMyx3I92+7KmcIXHfvg3H6mrhU2T8fF5S0eIChTZyCapnmoLzjn2/ggT/AkRAAAAAAP8PAAAAAADAAAAAwAAAAMAAAIBADAQBAQEEUuE/EP87EAU4+v8/oTMBAm9DzgQBA4yMgFoBAo5GDAECwEBVAAAA5gAAAA==",
        "encoding": "base64",
        "path": [
         "scene_CQkJBqb8TauszBfffd1ecJohl",
         "drc"
        ]
       },
       {
        "data": "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",
        "encoding": "base64",
        "path": [
         "scene_TWBiHtsrTmonRjOrnQcKlqZV1",
         "drc"
        ]
       },
       {
        "data": "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",
        "encoding": "base64",
        "path": [
         "scene_S1T4eIMBJy6uXdSe5RoisixUf",
         "drc"
        ]
       },
       {
        "data": "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",
        "encoding": "base64",
        "path": [
         "scene_jw6emEVEWox3YI8fE13KIbrfW",
         "drc"
        ]
       },
       {
        "data": "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",
        "encoding": "base64",
        "path": [
         "scene_smh1hfVzpZLGukQNUMQuD65is",
         "drc"
        ]
       },
       {
        "data": "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",
        "encoding": "base64",
        "path": [
         "scene_timggBkv5Gq3DBLRUtDls4DZ4",
         "drc"
        ]
       },
       {
        "data": "RFJBQ08CAgEBAIAAAgJpZAQAAAAABHR5cGUEbWVzaAAA/gL4BQH3BQAAvgFf27Zt27Ztq9pSVVVVVVVVVVWq1VJVVVVVVVVVpVrVUlVVVVVVVVWqVdVSVVVVVVVVpVpV1VJVVVVVVVWqVVXVUlVVVVVVpVpVVdVSVVVVVVWqVVVV1VJVVVVVpVpVVVXVUlVVVVWqVVVVVdVSVVVVpVpVVVVV1VJVVVWqVVVVVVXVUlVVpVpVVVVVVdVSVVWqVVVVVVVV1VJVpVpVVVVVVVXVUlWqVVVVVVVVVdVSpVpVVVVVVVVV1VKqAAAKAQEQ/wPnhIUC/wABAAEAAQAJAwAAAgECAgMAAQEEAQEADQ8BAS0BZQsdFaUaWQIsAyxeiXJvdjFMtM+NaBl5Cn8NGqozbqTMy7NAIPaF+cl+qzUwlsIl6Poa9gEWKZWHIG4/FYwZh9ZAp2TfBJ8F5GVLweO9ye94yuojRy86cweXYHMqlSY9hlfwH14dNPq/g/l96DOgNQvgmYiVaK0CTHICtAgDSJcao5cMIJPui3AQgKoUwCMYoAsYIGsWoCMYgOMWIAk1a18MYKEDAAOLAEhboFbAmgUwDAKQXBDTnQVwG5F1+hGFeQFgOATgbgOICgE4TgE2bgGyGoCJNMBsFgD0xFOlABunABiXAFmARUc9ABh6BECnQNFlS1GglwAyDQSAiQGAygFQPhD2AJjNAsicBOhLBvjaB8h6PtlwFEDxv/PKAGgIAP0AeGOADbqsC6D8AReXAE2ZAIODADckgJMSoBgEQKji0imA+x0wVAgw+QMgZ8CZ2aoHqOgLWvlS6/YYYHlune4tTlUB4DiARAK4XIDbDcDjAXADRUWArFmAm+EYiHYAIwMByHSfBHQWSTTumPItXLhjqYAoAqoFuAbgFoBaAWIIWCngWAIeZ8CuDmi3AVs44HYDoMAFUHMANDoCHFEMPO/pBkDhEMB2C4h1AY0lwGiBMuRxfjy2r8cx+WiB51F+QM4P2PahPD4ADgEEBKhDAA4mgPAGwN0CYGACcKACcOACeAgDgBQDPE1cSgVwygFweQFQ3wEA758hoGgBwH28hgEwcwGUTrMIZgKg/RfF5x162bJvaTA/HoOEAJlOAJcYAP8JoBsD3DdQpUA83PEA6KwTf7cIWLSDP7XsQRrQkEchEcCfAjg/AMMPIAyBa6jzAFDtAPAHWnBLhwt7aOmAZQOQVkAmLB0AMa6DVD7aAuiDD4DkAAaggoAsAWJIQH6AeABTQHoBSDjwxECXAsVi4I2AGQBiCEhBoGgMRDJQgArQ8kpcA3ALQK0AMQSsFDBaoGiBKgXCEEgroC2A1gBSCwhFoFKBwgUMF7BUQBSBMM5DBAGYDgCzASB+APgNgIYAxxLQWAI+Q8B9A8MPYNkALB2AIQhw48CHCGgwAQ4mAEQE9AMuJBLglQEcHgNpzBsDII8AWRfANxj9YbEu4HgEdGOAZse+GevKAPWFxbyA3cFmEPsXeTw7gMsF2HkAQAoAwAkA+w7A3QJ4dQDlD5j8Abs6YLsF1HeA/wRg/PPqPMCWC9jZAUc3AMj+jRiYAESGAG43wJAIABMDAPMCwHAIwN0GEBUCYFwCXFwCDBUCtNuAwiGAywuASwyAQiKAthswMBOAj1OpDVQADlQAJ00APB6g6QSAygGAugGg2QSAvwOcMgE4TgE2TgGaMgHud0BmE8DpBsApB0CmE8DgDIBJrdaUKcAGLgAHLgCVKQAhIYApFQAuBwDuBoDpFADhIABVKQDHLcDGLcBUKcDgIEDpFMDtBsAtB0B2CaDLlHFsBNCaBQAZBvgoBsiaBWhsBJjNAhj+ACgGAZjVAmh0BMiiBfgwBgAhBtCiBXB0BKDVAjAGASDrBRDrBAAjzQXLVH//VooFi1Nab3NVNnRvOl1ZC2+Ej7rNfYGBl4OBgTlE1r69x6mL3fOMoOlb1uVEXv/vy3LbpvGBkMFcK+0ZMyx3I92+7KmcIXHfvg3H6mrhU2T8fF5S0eIChTZyCapnmoLzjn2/ggT/AkRAAAAAAP8PAAAAAODAAADgwAAA4MAAAGBBDAQBAQEEXeE/EP9nEAUwKfxfoTMBAm9DzgQBA4yMgFoBAo5GDAECwEAwAAAA8AAAAA==",
        "encoding": "base64",
        "path": [
         "scene_kYQrXO8DDS0VeuaIMfQKyyyDC",
         "drc"
        ]
       },
       {
        "data": "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",
        "encoding": "base64",
        "path": [
         "scene_yUbSIxtmxsGcfDH62xpkXtGIn",
         "drc"
        ]
       },
       {
        "data": "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",
        "encoding": "base64",
        "path": [
         "scene_bpYBhNVR5nE2N4OhLAH5mph74",
         "drc"
        ]
       },
       {
        "data": "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",
        "encoding": "base64",
        "path": [
         "scene_wmTEgooH0Lf97OMmifXIbOVs2",
         "drc"
        ]
       },
       {
        "data": "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",
        "encoding": "base64",
        "path": [
         "scene_Ys6J6aE6aEpNRsTh0xeHQNPLG",
         "drc"
        ]
       },
       {
        "data": "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",
        "encoding": "base64",
        "path": [
         "scene_KQAQw07JFbtMw4bc1sGN6OYpX",
         "drc"
        ]
       },
       {
        "data": "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",
        "encoding": "base64",
        "path": [
         "scene_mz7LNtFVgm1dFL3vvfT4tLeQs",
         "drc"
        ]
       },
       {
        "data": "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",
        "encoding": "base64",
        "path": [
         "scene_nYCbQ8wgY3Vsqiu29c8U5DBEV",
         "drc"
        ]
       },
       {
        "data": "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",
        "encoding": "base64",
        "path": [
         "scene_QOb5w6S1I4gmnTAMWlAS20wxa",
         "drc"
        ]
       },
       {
        "data": "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",
        "encoding": "base64",
        "path": [
         "scene_K06hknnFNhGdJOFhAswPYxDiI",
         "drc"
        ]
       },
       {
        "data": "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",
        "encoding": "base64",
        "path": [
         "scene_4Bt2qUqz8xu429sx9zP8C40mQ",
         "drc"
        ]
       },
       {
        "data": "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",
        "encoding": "base64",
        "path": [
         "scene_xQtwSTulIkNeMZWTXrFUxfYeX",
         "drc"
        ]
       },
       {
        "data": "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",
        "encoding": "base64",
        "path": [
         "scene_19lVGho62XXnz2nDm13AlHK3i",
         "drc"
        ]
       },
       {
        "data": "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",
        "encoding": "base64",
        "path": [
         "scene_Lv0VdfCUZXUjjnZL8gp1f7ngn",
         "drc"
        ]
       },
       {
        "data": "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",
        "encoding": "base64",
        "path": [
         "scene_WxZKC1TxxTLfW23cJ26I3ahrw",
         "drc"
        ]
       },
       {
        "data": "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",
        "encoding": "base64",
        "path": [
         "scene_SMiZrSYpFYgWlTwCfxTfBf8lM",
         "drc"
        ]
       },
       {
        "data": "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",
        "encoding": "base64",
        "path": [
         "scene_Rc4ta2QJIspxiC3rdMfQPNZlx",
         "drc"
        ]
       },
       {
        "data": "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",
        "encoding": "base64",
        "path": [
         "scene_KmWvp3C27sDxsGKKwlIzzweqg",
         "drc"
        ]
       },
       {
        "data": "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",
        "encoding": "base64",
        "path": [
         "scene_lDPRUTjvzIyz5lZoq7NxAC6cQ",
         "drc"
        ]
       },
       {
        "data": "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",
        "encoding": "base64",
        "path": [
         "scene_7Vc1KMXeDOmy2gEgmKmpxiRpq",
         "drc"
        ]
       },
       {
        "data": "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",
        "encoding": "base64",
        "path": [
         "scene_lFprRlP5x7vNuWcAfbJi2yXVd",
         "drc"
        ]
       },
       {
        "data": "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",
        "encoding": "base64",
        "path": [
         "scene_MauN1Cd4oCkaVmZkbSssAJtkd",
         "drc"
        ]
       },
       {
        "data": "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",
        "encoding": "base64",
        "path": [
         "scene_pJRtQjO7hJg9U7zUTQDdgdZAH",
         "drc"
        ]
       },
       {
        "data": "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",
        "encoding": "base64",
        "path": [
         "scene_VhER3qREW3Dvyb84uyyO4dzRy",
         "drc"
        ]
       },
       {
        "data": "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",
        "encoding": "base64",
        "path": [
         "scene_yBN0nmRRntdIbO4hzPCrvn0Qt",
         "drc"
        ]
       },
       {
        "data": "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",
        "encoding": "base64",
        "path": [
         "scene_ZAsvmp3zoZI7roN5EdnK7iRoc",
         "drc"
        ]
       },
       {
        "data": "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",
        "encoding": "base64",
        "path": [
         "scene_9MEASAfsfD8sVHPq063ruDLxf",
         "drc"
        ]
       },
       {
        "data": "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",
        "encoding": "base64",
        "path": [
         "scene_onCpfnMurhkEhvSlaZ72dpNjP",
         "drc"
        ]
       },
       {
        "data": "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",
        "encoding": "base64",
        "path": [
         "scene_8UrePtGH484WU2N5fBWHACRL5",
         "drc"
        ]
       },
       {
        "data": "RFJBQ08CAgEBAIAAAgJpZAQAAAAABHR5cGUEbWVzaAAA/gL4BQH3BQAAvgFf27Zt27Ztq9pSVVVVVVVVVVWq1VJVVVVVVVVVpVrVUlVVVVVVVVWqVdVSVVVVVVVVpVpV1VJVVVVVVVWqVVXVUlVVVVVVpVpVVdVSVVVVVVWqVVVV1VJVVVVVpVpVVVXVUlVVVVWqVVVVVdVSVVVVpVpVVVVV1VJVVVWqVVVVVVXVUlVVpVpVVVVVVdVSVVWqVVVVVVVV1VJVpVpVVVVVVVXVUlWqVVVVVVVVVdVSpVpVVVVVVVVV1VKqAAAKAQEQ/wPnhIUC/wABAAEAAQAJAwAAAgECAgMAAQEEAQEADQ8BAS0BZQsdFaUaWQIsAyxeiXJvdjFMtM+NaBl5Cn8NGqozbqTMy7NAIPaF+cl+qzUwlsIl6Poa9gEWKZWHIG4/FYwZh9ZAp2TfBJ8F5GVLweO9ye94yuojRy86cweXYHMqlSY9hlfwH14dNPq/g/l96DOgNQvgmYiVaK0CTHICtAgDSJcao5cMIJPui3AQgKoUwCMYoAsYIGsWoCMYgOMWIAk1a18MYKEDAAOLAEhboFbAmgUwDAKQXBDTnQVwG5F1+hGFeQFgOATgbgOICgE4TgE2bgGyGoCJNMBsFgD0xFOlABunABiXAFmARUc9ABh6BECnQNFlS1GglwAyDQSAiQGAygFQPhD2AJjNAsicBOhLBvjaB8h6PtlwFEDxv/PKAGgIAP0AeGOADbqsC6D8AReXAE2ZAIODADckgJMSoBgEQKji0imA+x0wVAgw+QMgZ8CZ2aoHqOgLWvlS6/YYYHlune4tTlUB4DiARAK4XIDbDcDjAXADRUWArFmAm+EYiHYAIwMByHSfBHQWSTTumPItXLhjqYAoAqoFuAbgFoBaAWIIWCngWAIeZ8CuDmi3AVs44HYDoMAFUHMANDoCHFEMPO/pBkDhEMB2C4h1AY0lwGiBMuRxfjy2r8cx+WiB51F+QM4P2PahPD4ADgEEBKhDAA4mgPAGwN0CYGACcKACcOACeAgDgBQDPE1cSgVwygFweQFQ3wEA758hoGgBwH28hgEwcwGUTrMIZgKg/RfF5x162bJvaTA/HoOEAJlOAJcYAP8JoBsD3DdQpUA83PEA6KwTf7cIWLSDP7XsQRrQkEchEcCfAjg/AMMPIAyBa6jzAFDtAPAHWnBLhwt7aOmAZQOQVkAmLB0AMa6DVD7aAuiDD4DkAAaggoAsAWJIQH6AeABTQHoBSDjwxECXAsVi4I2AGQBiCEhBoGgMRDJQgArQ8kpcA3ALQK0AMQSsFDBaoGiBKgXCEEgroC2A1gBSCwhFoFKBwgUMF7BUQBSBMM5DBAGYDgCzASB+APgNgIYAxxLQWAI+Q8B9A8MPYNkALB2AIQhw48CHCGgwAQ4mAEQE9AMuJBLglQEcHgNpzBsDII8AWRfANxj9YbEu4HgEdGOAZse+GevKAPWFxbyA3cFmEPsXeTw7gMsF2HkAQAoAwAkA+w7A3QJ4dQDlD5j8Abs6YLsF1HeA/wRg/PPqPMCWC9jZAUc3AMj+jRiYAESGAG43wJAIABMDAPMCwHAIwN0GEBUCYFwCXFwCDBUCtNuAwiGAywuASwyAQiKAthswMBOAj1OpDVQADlQAJ00APB6g6QSAygGAugGg2QSAvwOcMgE4TgE2TgGaMgHud0BmE8DpBsApB0CmE8DgDIBJrdaUKcAGLgAHLgCVKQAhIYApFQAuBwDuBoDpFADhIABVKQDHLcDGLcBUKcDgIEDpFMDtBsAtB0B2CaDLlHFsBNCaBQAZBvgoBsiaBWhsBJjNAhj+ACgGAZjVAmh0BMiiBfgwBgAhBtCiBXB0BKDVAjAGASDrBRDrBAAjzQXLVH//VooFi1Nab3NVNnRvOl1ZC2+Ej7rNfYGBl4OBgTlE1r69x6mL3fOMoOlb1uVEXv/vy3LbpvGBkMFcK+0ZMyx3I92+7KmcIXHfvg3H6mrhU2T8fF5S0eIChTZyCapnmoLzjn2/ggT/AkRAAAAAAP8PAAAAAGDBAABgwQAAYMEAAOBBDAQBAQEEduE/EP/LEAU4/vs/oTMBAm9DzgQBA4yMgFoBAo5GDAECwEA0AAAA1wAAAA==",
        "encoding": "base64",
        "path": [
         "scene_Ik0fndH9tb2dfrzU2UVZDaZ1P",
         "drc"
        ]
       },
       {
        "data": "RFJBQ08CAgEBAIAAAgJpZAQAAAAABHR5cGUEbWVzaAAA/gL4BQH3BQAAvgFf27Zt27Ztq9pSVVVVVVVVVVWq1VJVVVVVVVVVpVrVUlVVVVVVVVWqVdVSVVVVVVVVpVpV1VJVVVVVVVWqVVXVUlVVVVVVpVpVVdVSVVVVVVWqVVVV1VJVVVVVpVpVVVXVUlVVVVWqVVVVVdVSVVVVpVpVVVVV1VJVVVWqVVVVVVXVUlVVpVpVVVVVVdVSVVWqVVVVVVVV1VJVpVpVVVVVVVXVUlWqVVVVVVVVVdVSpVpVVVVVVVVV1VKqAAAKAQEQ/wPnhIUC/wABAAEAAQAJAwAAAgECAgMAAQEEAQEADQ8BAS0BZQsdFaUaWQIsAyxeiXJvdjFMtM+NaBl5Cn8NGqozbqTMy7NAIPaF+cl+qzUwlsIl6Poa9gEWKZWHIG4/FYwZh9ZAp2TfBJ8F5GVLweO9ye94yuojRy86cweXYHMqlSY9hlfwH14dNPq/g/l96DOgNQvgmYiVaK0CTHICtAgDSJcao5cMIJPui3AQgKoUwCMYoAsYIGsWoCMYgOMWIAk1a18MYKEDAAOLAEhboFbAmgUwDAKQXBDTnQVwG5F1+hGFeQFgOATgbgOICgE4TgE2bgGyGoCJNMBsFgD0xFOlABunABiXAFmARUc9ABh6BECnQNFlS1GglwAyDQSAiQGAygFQPhD2AJjNAsicBOhLBvjaB8h6PtlwFEDxv/PKAGgIAP0AeGOADbqsC6D8AReXAE2ZAIODADckgJMSoBgEQKji0imA+x0wVAgw+QMgZ8CZ2aoHqOgLWvlS6/YYYHlune4tTlUB4DiARAK4XIDbDcDjAXADRUWArFmAm+EYiHYAIwMByHSfBHQWSTTumPItXLhjqYAoAqoFuAbgFoBaAWIIWCngWAIeZ8CuDmi3AVs44HYDoMAFUHMANDoCHFEMPO/pBkDhEMB2C4h1AY0lwGiBMuRxfjy2r8cx+WiB51F+QM4P2PahPD4ADgEEBKhDAA4mgPAGwN0CYGACcKACcOACeAgDgBQDPE1cSgVwygFweQFQ3wEA758hoGgBwH28hgEwcwGUTrMIZgKg/RfF5x162bJvaTA/HoOEAJlOAJcYAP8JoBsD3DdQpUA83PEA6KwTf7cIWLSDP7XsQRrQkEchEcCfAjg/AMMPIAyBa6jzAFDtAPAHWnBLhwt7aOmAZQOQVkAmLB0AMa6DVD7aAuiDD4DkAAaggoAsAWJIQH6AeABTQHoBSDjwxECXAsVi4I2AGQBiCEhBoGgMRDJQgArQ8kpcA3ALQK0AMQSsFDBaoGiBKgXCEEgroC2A1gBSCwhFoFKBwgUMF7BUQBSBMM5DBAGYDgCzASB+APgNgIYAxxLQWAI+Q8B9A8MPYNkALB2AIQhw48CHCGgwAQ4mAEQE9AMuJBLglQEcHgNpzBsDII8AWRfANxj9YbEu4HgEdGOAZse+GevKAPWFxbyA3cFmEPsXeTw7gMsF2HkAQAoAwAkA+w7A3QJ4dQDlD5j8Abs6YLsF1HeA/wRg/PPqPMCWC9jZAUc3AMj+jRiYAESGAG43wJAIABMDAPMCwHAIwN0GEBUCYFwCXFwCDBUCtNuAwiGAywuASwyAQiKAthswMBOAj1OpDVQADlQAJ00APB6g6QSAygGAugGg2QSAvwOcMgE4TgE2TgGaMgHud0BmE8DpBsApB0CmE8DgDIBJrdaUKcAGLgAHLgCVKQAhIYApFQAuBwDuBoDpFADhIABVKQDHLcDGLcBUKcDgIEDpFMDtBsAtB0B2CaDLlHFsBNCaBQAZBvgoBsiaBWhsBJjNAhj+ACgGAZjVAmh0BMiiBfgwBgAhBtCiBXB0BKDVAjAGASDrBRDrBAAjzQXLVH//VooFi1Nab3NVNnRvOl1ZC2+Ej7rNfYGBl4OBgTlE1r69x6mL3fOMoOlb1uVEXv/vy3LbpvGBkMFcK+0ZMyx3I92+7KmcIXHfvg3H6mrhU2T8fF5S0eIChTZyCapnmoLzjn2/ggT/AkRAAAAAAP8PAAAAADDBAAAwwQAAMMEAALBBDAQBAQEEd+E/EP/PEAUwKfxfoTMBAm9DzgQBA4yMgFoBAo5GDAECwEABAAAAeQAAAA==",
        "encoding": "base64",
        "path": [
         "scene_3AgU8dSCBssp5wEJ5dxMOoYjP",
         "drc"
        ]
       },
       {
        "data": "RFJBQ08CAgEBAIAAAgJpZAQAAAAABHR5cGUEbWVzaAAA/gL4BQH3BQAAvgFf27Zt27Ztq9pSVVVVVVVVVVWq1VJVVVVVVVVVpVrVUlVVVVVVVVWqVdVSVVVVVVVVpVpV1VJVVVVVVVWqVVXVUlVVVVVVpVpVVdVSVVVVVVWqVVVV1VJVVVVVpVpVVVXVUlVVVVWqVVVVVdVSVVVVpVpVVVVV1VJVVVWqVVVVVVXVUlVVpVpVVVVVVdVSVVWqVVVVVVVV1VJVpVpVVVVVVVXVUlWqVVVVVVVVVdVSpVpVVVVVVVVV1VKqAAAKAQEQ/wPnhIUC/wABAAEAAQAJAwAAAgECAgMAAQEEAQEADQ8BAS0BZQsdFaUaWQIsAyxeiXJvdjFMtM+NaBl5Cn8NGqozbqTMy7NAIPaF+cl+qzUwlsIl6Poa9gEWKZWHIG4/FYwZh9ZAp2TfBJ8F5GVLweO9ye94yuojRy86cweXYHMqlSY9hlfwH14dNPq/g/l96DOgNQvgmYiVaK0CTHICtAgDSJcao5cMIJPui3AQgKoUwCMYoAsYIGsWoCMYgOMWIAk1a18MYKEDAAOLAEhboFbAmgUwDAKQXBDTnQVwG5F1+hGFeQFgOATgbgOICgE4TgE2bgGyGoCJNMBsFgD0xFOlABunABiXAFmARUc9ABh6BECnQNFlS1GglwAyDQSAiQGAygFQPhD2AJjNAsicBOhLBvjaB8h6PtlwFEDxv/PKAGgIAP0AeGOADbqsC6D8AReXAE2ZAIODADckgJMSoBgEQKji0imA+x0wVAgw+QMgZ8CZ2aoHqOgLWvlS6/YYYHlune4tTlUB4DiARAK4XIDbDcDjAXADRUWArFmAm+EYiHYAIwMByHSfBHQWSTTumPItXLhjqYAoAqoFuAbgFoBaAWIIWCngWAIeZ8CuDmi3AVs44HYDoMAFUHMANDoCHFEMPO/pBkDhEMB2C4h1AY0lwGiBMuRxfjy2r8cx+WiB51F+QM4P2PahPD4ADgEEBKhDAA4mgPAGwN0CYGACcKACcOACeAgDgBQDPE1cSgVwygFweQFQ3wEA758hoGgBwH28hgEwcwGUTrMIZgKg/RfF5x162bJvaTA/HoOEAJlOAJcYAP8JoBsD3DdQpUA83PEA6KwTf7cIWLSDP7XsQRrQkEchEcCfAjg/AMMPIAyBa6jzAFDtAPAHWnBLhwt7aOmAZQOQVkAmLB0AMa6DVD7aAuiDD4DkAAaggoAsAWJIQH6AeABTQHoBSDjwxECXAsVi4I2AGQBiCEhBoGgMRDJQgArQ8kpcA3ALQK0AMQSsFDBaoGiBKgXCEEgroC2A1gBSCwhFoFKBwgUMF7BUQBSBMM5DBAGYDgCzASB+APgNgIYAxxLQWAI+Q8B9A8MPYNkALB2AIQhw48CHCGgwAQ4mAEQE9AMuJBLglQEcHgNpzBsDII8AWRfANxj9YbEu4HgEdGOAZse+GevKAPWFxbyA3cFmEPsXeTw7gMsF2HkAQAoAwAkA+w7A3QJ4dQDlD5j8Abs6YLsF1HeA/wRg/PPqPMCWC9jZAUc3AMj+jRiYAESGAG43wJAIABMDAPMCwHAIwN0GEBUCYFwCXFwCDBUCtNuAwiGAywuASwyAQiKAthswMBOAj1OpDVQADlQAJ00APB6g6QSAygGAugGg2QSAvwOcMgE4TgE2TgGaMgHud0BmE8DpBsApB0CmE8DgDIBJrdaUKcAGLgAHLgCVKQAhIYApFQAuBwDuBoDpFADhIABVKQDHLcDGLcBUKcDgIEDpFMDtBsAtB0B2CaDLlHFsBNCaBQAZBvgoBsiaBWhsBJjNAhj+ACgGAZjVAmh0BMiiBfgwBgAhBtCiBXB0BKDVAjAGASDrBRDrBAAjzQXLVH//VooFi1Nab3NVNnRvOl1ZC2+Ej7rNfYGBl4OBgTlE1r69x6mL3fOMoOlb1uVEXv/vy3LbpvGBkMFcK+0ZMyx3I92+7KmcIXHfvg3H6mrhU2T8fF5S0eIChTZyCapnmoLzjn2/ggT/AkRAAAAAAP8PAAAAAEDAAABAwAAAQMAAAMBADAQBAQEEaeE/EP+XEAUwKfxfoTMBAm9DzgQBA4yMgFoBAo5GDAECwEADAAAA9QAAAA==",
        "encoding": "base64",
        "path": [
         "scene_CrODKp6DNumX4f5pEdicwpLTT",
         "drc"
        ]
       },
       {
        "data": "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",
        "encoding": "base64",
        "path": [
         "scene_PxLgOxFnNqZNroCFopx5bntGi",
         "drc"
        ]
       },
       {
        "data": "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",
        "encoding": "base64",
        "path": [
         "scene_suWrMwWMVJdOEzsmMJGt5D0sO",
         "drc"
        ]
       },
       {
        "data": "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",
        "encoding": "base64",
        "path": [
         "scene_JE53lf0gCbWXtWzy855ZRBjRA",
         "drc"
        ]
       },
       {
        "data": "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",
        "encoding": "base64",
        "path": [
         "scene_MGFUWvDjq0nAfbQWri3xgAfur",
         "drc"
        ]
       },
       {
        "data": "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",
        "encoding": "base64",
        "path": [
         "scene_CtBhnlJj8s08ZpO40QcNpp7cW",
         "drc"
        ]
       },
       {
        "data": "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",
        "encoding": "base64",
        "path": [
         "scene_zLc8YjR6kUrol2DLGbGZLMChA",
         "drc"
        ]
       },
       {
        "data": "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",
        "encoding": "base64",
        "path": [
         "scene_NFnewj5rFd2PpZHOWM5AlXY9g",
         "drc"
        ]
       },
       {
        "data": "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",
        "encoding": "base64",
        "path": [
         "scene_QlF1Wys1ueDGJ1xOfO0S6JKAb",
         "drc"
        ]
       },
       {
        "data": "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",
        "encoding": "base64",
        "path": [
         "scene_LtlCze9DkWGa11BegK0siu46l",
         "drc"
        ]
       },
       {
        "data": "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",
        "encoding": "base64",
        "path": [
         "scene_m8eTxFEF112GfnZvkE2pfNLMc",
         "drc"
        ]
       },
       {
        "data": "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",
        "encoding": "base64",
        "path": [
         "scene_QHW6KVSpbwafvLjUqbHmb5yCr",
         "drc"
        ]
       },
       {
        "data": "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",
        "encoding": "base64",
        "path": [
         "scene_AFRSv1VUHyt51bRT10W75a3rY",
         "drc"
        ]
       },
       {
        "data": "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",
        "encoding": "base64",
        "path": [
         "scene_krQ8JcVlsBbbOwfNvvnZQnCvb",
         "drc"
        ]
       },
       {
        "data": "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",
        "encoding": "base64",
        "path": [
         "scene_ZQNjA2pdUpEE4Cl5focKO9Uiy",
         "drc"
        ]
       },
       {
        "data": "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",
        "encoding": "base64",
        "path": [
         "scene_dJofjmQh3V3aEKoDmrJNA7RFN",
         "drc"
        ]
       },
       {
        "data": "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",
        "encoding": "base64",
        "path": [
         "scene_0nOTRG3m8JyGFL1p5gllGH3ea",
         "drc"
        ]
       },
       {
        "data": "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",
        "encoding": "base64",
        "path": [
         "scene_Ivm60JrHhVMcjAO07ojXYcOC5",
         "drc"
        ]
       },
       {
        "data": "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",
        "encoding": "base64",
        "path": [
         "scene_yivek8RNSGA5KWx4ysoPzITij",
         "drc"
        ]
       },
       {
        "data": "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",
        "encoding": "base64",
        "path": [
         "scene_OvFqhUkGldXklx4tMY3cFTHsa",
         "drc"
        ]
       },
       {
        "data": "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",
        "encoding": "base64",
        "path": [
         "scene_nU0bb3yHKSuL3ONdKUjEoq0Z3",
         "drc"
        ]
       },
       {
        "data": "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",
        "encoding": "base64",
        "path": [
         "scene_qZjejenKzWduyE34rqlnrkunn",
         "drc"
        ]
       },
       {
        "data": "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",
        "encoding": "base64",
        "path": [
         "scene_0NEFl92m2YBIdZkEmO0hsKwHj",
         "drc"
        ]
       },
       {
        "data": "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",
        "encoding": "base64",
        "path": [
         "scene_p4fDknEyswT2vEpnhAtI0wgOF",
         "drc"
        ]
       },
       {
        "data": "RFJBQ08CAgEBAIAAAgJpZAQAAAAABHR5cGUEbWVzaAAA/gL4BQH3BQAAvgFf27Zt27Ztq9pSVVVVVVVVVVWq1VJVVVVVVVVVpVrVUlVVVVVVVVWqVdVSVVVVVVVVpVpV1VJVVVVVVVWqVVXVUlVVVVVVpVpVVdVSVVVVVVWqVVVV1VJVVVVVpVpVVVXVUlVVVVWqVVVVVdVSVVVVpVpVVVVV1VJVVVWqVVVVVVXVUlVVpVpVVVVVVdVSVVWqVVVVVVVV1VJVpVpVVVVVVVXVUlWqVVVVVVVVVdVSpVpVVVVVVVVV1VKqAAAKAQEQ/wPnhIUC/wABAAEAAQAJAwAAAgECAgMAAQEEAQEADQ8BAS0BZQsdFaUaWQIsAyxeiXJvdjFMtM+NaBl5Cn8NGqozbqTMy7NAIPaF+cl+qzUwlsIl6Poa9gEWKZWHIG4/FYwZh9ZAp2TfBJ8F5GVLweO9ye94yuojRy86cweXYHMqlSY9hlfwH14dNPq/g/l96DOgNQvgmYiVaK0CTHICtAgDSJcao5cMIJPui3AQgKoUwCMYoAsYIGsWoCMYgOMWIAk1a18MYKEDAAOLAEhboFbAmgUwDAKQXBDTnQVwG5F1+hGFeQFgOATgbgOICgE4TgE2bgGyGoCJNMBsFgD0xFOlABunABiXAFmARUc9ABh6BECnQNFlS1GglwAyDQSAiQGAygFQPhD2AJjNAsicBOhLBvjaB8h6PtlwFEDxv/PKAGgIAP0AeGOADbqsC6D8AReXAE2ZAIODADckgJMSoBgEQKji0imA+x0wVAgw+QMgZ8CZ2aoHqOgLWvlS6/YYYHlune4tTlUB4DiARAK4XIDbDcDjAXADRUWArFmAm+EYiHYAIwMByHSfBHQWSTTumPItXLhjqYAoAqoFuAbgFoBaAWIIWCngWAIeZ8CuDmi3AVs44HYDoMAFUHMANDoCHFEMPO/pBkDhEMB2C4h1AY0lwGiBMuRxfjy2r8cx+WiB51F+QM4P2PahPD4ADgEEBKhDAA4mgPAGwN0CYGACcKACcOACeAgDgBQDPE1cSgVwygFweQFQ3wEA758hoGgBwH28hgEwcwGUTrMIZgKg/RfF5x162bJvaTA/HoOEAJlOAJcYAP8JoBsD3DdQpUA83PEA6KwTf7cIWLSDP7XsQRrQkEchEcCfAjg/AMMPIAyBa6jzAFDtAPAHWnBLhwt7aOmAZQOQVkAmLB0AMa6DVD7aAuiDD4DkAAaggoAsAWJIQH6AeABTQHoBSDjwxECXAsVi4I2AGQBiCEhBoGgMRDJQgArQ8kpcA3ALQK0AMQSsFDBaoGiBKgXCEEgroC2A1gBSCwhFoFKBwgUMF7BUQBSBMM5DBAGYDgCzASB+APgNgIYAxxLQWAI+Q8B9A8MPYNkALB2AIQhw48CHCGgwAQ4mAEQE9AMuJBLglQEcHgNpzBsDII8AWRfANxj9YbEu4HgEdGOAZse+GevKAPWFxbyA3cFmEPsXeTw7gMsF2HkAQAoAwAkA+w7A3QJ4dQDlD5j8Abs6YLsF1HeA/wRg/PPqPMCWC9jZAUc3AMj+jRiYAESGAG43wJAIABMDAPMCwHAIwN0GEBUCYFwCXFwCDBUCtNuAwiGAywuASwyAQiKAthswMBOAj1OpDVQADlQAJ00APB6g6QSAygGAugGg2QSAvwOcMgE4TgE2TgGaMgHud0BmE8DpBsApB0CmE8DgDIBJrdaUKcAGLgAHLgCVKQAhIYApFQAuBwDuBoDpFADhIABVKQDHLcDGLcBUKcDgIEDpFMDtBsAtB0B2CaDLlHFsBNCaBQAZBvgoBsiaBWhsBJjNAhj+ACgGAZjVAmh0BMiiBfgwBgAhBtCiBXB0BKDVAjAGASDrBRDrBAAjzQXLVH//VooFi1Nab3NVNnRvOl1ZC2+Ej7rNfYGBl4OBgTlE1r69x6mL3fOMoOlb1uVEXv/vy3LbpvGBkMFcK+0ZMyx3I92+7KmcIXHfvg3H6mrhU2T8fF5S0eIChTZyCapnmoLzjn2/ggT/AkRAAAAAAP8PAAAAAIC/AACAvwAAgL8AAABADAQBAQEEH+E/EG8QBTAt+F+hMwECb0POBAEDjIyAWgECjkYMAQLAQDkAAADyAAAA",
        "encoding": "base64",
        "path": [
         "scene_YdviF5HruD5ldkd6U4b9ehHAc",
         "drc"
        ]
       },
       {
        "data": "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",
        "encoding": "base64",
        "path": [
         "scene_IfLAMLsEj0qf0q5kJRV28BHEA",
         "drc"
        ]
       },
       {
        "data": "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",
        "encoding": "base64",
        "path": [
         "scene_QomRZeCZJWAJ2ZhYCXkZ8qiaj",
         "drc"
        ]
       },
       {
        "data": "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",
        "encoding": "base64",
        "path": [
         "scene_QzPIe1TPWaMuVkCzfOnIHZAup",
         "drc"
        ]
       },
       {
        "data": "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",
        "encoding": "base64",
        "path": [
         "scene_xS1lQ6fKNLTMmjrMiRTzcWdtL",
         "drc"
        ]
       },
       {
        "data": "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",
        "encoding": "base64",
        "path": [
         "scene_JDtcs8YAjuJaXJBCC5HaUJRKj",
         "drc"
        ]
       },
       {
        "data": "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",
        "encoding": "base64",
        "path": [
         "scene_8bIJJY3eJZbtRgcjV5aloUVvr",
         "drc"
        ]
       },
       {
        "data": "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",
        "encoding": "base64",
        "path": [
         "scene_8xbQpHGVpP5Zhi5nNqd7zYGdC",
         "drc"
        ]
       },
       {
        "data": "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",
        "encoding": "base64",
        "path": [
         "scene_F93D3w9cZEZSrRtQbKSPA9E3H",
         "drc"
        ]
       },
       {
        "data": "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",
        "encoding": "base64",
        "path": [
         "scene_2RxkbT1A9yus1Asb4eYgbkcsB",
         "drc"
        ]
       },
       {
        "data": "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",
        "encoding": "base64",
        "path": [
         "scene_RK4c1llvZxzFIS8TXT3lYRKHZ",
         "drc"
        ]
       },
       {
        "data": "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",
        "encoding": "base64",
        "path": [
         "scene_dfH9MrXGizMyKPGjDD2TqwiFo",
         "drc"
        ]
       },
       {
        "data": "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",
        "encoding": "base64",
        "path": [
         "scene_yspTuuQL9QKfTAkYjzdjJFVAd",
         "drc"
        ]
       },
       {
        "data": "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",
        "encoding": "base64",
        "path": [
         "scene_VhhMXVo0zCd5Nn6DPDy5EZoIQ",
         "drc"
        ]
       },
       {
        "data": "RFJBQ08CAgEBAIAAAgJpZAQAAAAABHR5cGUEbWVzaAAA/gL4BQH3BQAAvgFf27Zt27Ztq9pSVVVVVVVVVVWq1VJVVVVVVVVVpVrVUlVVVVVVVVWqVdVSVVVVVVVVpVpV1VJVVVVVVVWqVVXVUlVVVVVVpVpVVdVSVVVVVVWqVVVV1VJVVVVVpVpVVVXVUlVVVVWqVVVVVdVSVVVVpVpVVVVV1VJVVVWqVVVVVVXVUlVVpVpVVVVVVdVSVVWqVVVVVVVV1VJVpVpVVVVVVVXVUlWqVVVVVVVVVdVSpVpVVVVVVVVV1VKqAAAKAQEQ/wPnhIUC/wABAAEAAQAJAwAAAgECAgMAAQEEAQEADQ8BAS0BZQsdFaUaWQIsAyxeiXJvdjFMtM+NaBl5Cn8NGqozbqTMy7NAIPaF+cl+qzUwlsIl6Poa9gEWKZWHIG4/FYwZh9ZAp2TfBJ8F5GVLweO9ye94yuojRy86cweXYHMqlSY9hlfwH14dNPq/g/l96DOgNQvgmYiVaK0CTHICtAgDSJcao5cMIJPui3AQgKoUwCMYoAsYIGsWoCMYgOMWIAk1a18MYKEDAAOLAEhboFbAmgUwDAKQXBDTnQVwG5F1+hGFeQFgOATgbgOICgE4TgE2bgGyGoCJNMBsFgD0xFOlABunABiXAFmARUc9ABh6BECnQNFlS1GglwAyDQSAiQGAygFQPhD2AJjNAsicBOhLBvjaB8h6PtlwFEDxv/PKAGgIAP0AeGOADbqsC6D8AReXAE2ZAIODADckgJMSoBgEQKji0imA+x0wVAgw+QMgZ8CZ2aoHqOgLWvlS6/YYYHlune4tTlUB4DiARAK4XIDbDcDjAXADRUWArFmAm+EYiHYAIwMByHSfBHQWSTTumPItXLhjqYAoAqoFuAbgFoBaAWIIWCngWAIeZ8CuDmi3AVs44HYDoMAFUHMANDoCHFEMPO/pBkDhEMB2C4h1AY0lwGiBMuRxfjy2r8cx+WiB51F+QM4P2PahPD4ADgEEBKhDAA4mgPAGwN0CYGACcKACcOACeAgDgBQDPE1cSgVwygFweQFQ3wEA758hoGgBwH28hgEwcwGUTrMIZgKg/RfF5x162bJvaTA/HoOEAJlOAJcYAP8JoBsD3DdQpUA83PEA6KwTf7cIWLSDP7XsQRrQkEchEcCfAjg/AMMPIAyBa6jzAFDtAPAHWnBLhwt7aOmAZQOQVkAmLB0AMa6DVD7aAuiDD4DkAAaggoAsAWJIQH6AeABTQHoBSDjwxECXAsVi4I2AGQBiCEhBoGgMRDJQgArQ8kpcA3ALQK0AMQSsFDBaoGiBKgXCEEgroC2A1gBSCwhFoFKBwgUMF7BUQBSBMM5DBAGYDgCzASB+APgNgIYAxxLQWAI+Q8B9A8MPYNkALB2AIQhw48CHCGgwAQ4mAEQE9AMuJBLglQEcHgNpzBsDII8AWRfANxj9YbEu4HgEdGOAZse+GevKAPWFxbyA3cFmEPsXeTw7gMsF2HkAQAoAwAkA+w7A3QJ4dQDlD5j8Abs6YLsF1HeA/wRg/PPqPMCWC9jZAUc3AMj+jRiYAESGAG43wJAIABMDAPMCwHAIwN0GEBUCYFwCXFwCDBUCtNuAwiGAywuASwyAQiKAthswMBOAj1OpDVQADlQAJ00APB6g6QSAygGAugGg2QSAvwOcMgE4TgE2TgGaMgHud0BmE8DpBsApB0CmE8DgDIBJrdaUKcAGLgAHLgCVKQAhIYApFQAuBwDuBoDpFADhIABVKQDHLcDGLcBUKcDgIEDpFMDtBsAtB0B2CaDLlHFsBNCaBQAZBvgoBsiaBWhsBJjNAhj+ACgGAZjVAmh0BMiiBfgwBgAhBtCiBXB0BKDVAjAGASDrBRDrBAAjzQXLVH//VooFi1Nab3NVNnRvOl1ZC2+Ej7rNfYGBl4OBgTlE1r69x6mL3fOMoOlb1uVEXv/vy3LbpvGBkMFcK+0ZMyx3I92+7KmcIXHfvg3H6mrhU2T8fF5S0eIChTZyCapnmoLzjn2/ggT/AkRAAAAAAP8PAAAAAGDBAABgwQAAYMEAAOBBDAQBAQEET+E/EP8vEAU4/vs/oTMBAm9DzgQBA4yMgFoBAo5GDAECwEBTAAAAzwAAAA==",
        "encoding": "base64",
        "path": [
         "scene_CXV9yZF5Ioy4imUi2mbjzusAH",
         "drc"
        ]
       },
       {
        "data": "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",
        "encoding": "base64",
        "path": [
         "scene_e1FcyAALUuhpriorKv4SCbspW",
         "drc"
        ]
       },
       {
        "data": "RFJBQ08CAgEBAIAAAgJpZAQAAAAABHR5cGUEbWVzaAAA/gL4BQH3BQAAvgFf27Zt27Ztq9pSVVVVVVVVVVWq1VJVVVVVVVVVpVrVUlVVVVVVVVWqVdVSVVVVVVVVpVpV1VJVVVVVVVWqVVXVUlVVVVVVpVpVVdVSVVVVVVWqVVVV1VJVVVVVpVpVVVXVUlVVVVWqVVVVVdVSVVVVpVpVVVVV1VJVVVWqVVVVVVXVUlVVpVpVVVVVVdVSVVWqVVVVVVVV1VJVpVpVVVVVVVXVUlWqVVVVVVVVVdVSpVpVVVVVVVVV1VKqAAAKAQEQ/wPnhIUC/wABAAEAAQAJAwAAAgECAgMAAQEEAQEADQ8BAS0BZQsdFaUaWQIsAyxeiXJvdjFMtM+NaBl5Cn8NGqozbqTMy7NAIPaF+cl+qzUwlsIl6Poa9gEWKZWHIG4/FYwZh9ZAp2TfBJ8F5GVLweO9ye94yuojRy86cweXYHMqlSY9hlfwH14dNPq/g/l96DOgNQvgmYiVaK0CTHICtAgDSJcao5cMIJPui3AQgKoUwCMYoAsYIGsWoCMYgOMWIAk1a18MYKEDAAOLAEhboFbAmgUwDAKQXBDTnQVwG5F1+hGFeQFgOATgbgOICgE4TgE2bgGyGoCJNMBsFgD0xFOlABunABiXAFmARUc9ABh6BECnQNFlS1GglwAyDQSAiQGAygFQPhD2AJjNAsicBOhLBvjaB8h6PtlwFEDxv/PKAGgIAP0AeGOADbqsC6D8AReXAE2ZAIODADckgJMSoBgEQKji0imA+x0wVAgw+QMgZ8CZ2aoHqOgLWvlS6/YYYHlune4tTlUB4DiARAK4XIDbDcDjAXADRUWArFmAm+EYiHYAIwMByHSfBHQWSTTumPItXLhjqYAoAqoFuAbgFoBaAWIIWCngWAIeZ8CuDmi3AVs44HYDoMAFUHMANDoCHFEMPO/pBkDhEMB2C4h1AY0lwGiBMuRxfjy2r8cx+WiB51F+QM4P2PahPD4ADgEEBKhDAA4mgPAGwN0CYGACcKACcOACeAgDgBQDPE1cSgVwygFweQFQ3wEA758hoGgBwH28hgEwcwGUTrMIZgKg/RfF5x162bJvaTA/HoOEAJlOAJcYAP8JoBsD3DdQpUA83PEA6KwTf7cIWLSDP7XsQRrQkEchEcCfAjg/AMMPIAyBa6jzAFDtAPAHWnBLhwt7aOmAZQOQVkAmLB0AMa6DVD7aAuiDD4DkAAaggoAsAWJIQH6AeABTQHoBSDjwxECXAsVi4I2AGQBiCEhBoGgMRDJQgArQ8kpcA3ALQK0AMQSsFDBaoGiBKgXCEEgroC2A1gBSCwhFoFKBwgUMF7BUQBSBMM5DBAGYDgCzASB+APgNgIYAxxLQWAI+Q8B9A8MPYNkALB2AIQhw48CHCGgwAQ4mAEQE9AMuJBLglQEcHgNpzBsDII8AWRfANxj9YbEu4HgEdGOAZse+GevKAPWFxbyA3cFmEPsXeTw7gMsF2HkAQAoAwAkA+w7A3QJ4dQDlD5j8Abs6YLsF1HeA/wRg/PPqPMCWC9jZAUc3AMj+jRiYAESGAG43wJAIABMDAPMCwHAIwN0GEBUCYFwCXFwCDBUCtNuAwiGAywuASwyAQiKAthswMBOAj1OpDVQADlQAJ00APB6g6QSAygGAugGg2QSAvwOcMgE4TgE2TgGaMgHud0BmE8DpBsApB0CmE8DgDIBJrdaUKcAGLgAHLgCVKQAhIYApFQAuBwDuBoDpFADhIABVKQDHLcDGLcBUKcDgIEDpFMDtBsAtB0B2CaDLlHFsBNCaBQAZBvgoBsiaBWhsBJjNAhj+ACgGAZjVAmh0BMiiBfgwBgAhBtCiBXB0BKDVAjAGASDrBRDrBAAjzQXLVH//VooFi1Nab3NVNnRvOl1ZC2+Ej7rNfYGBl4OBgTlE1r69x6mL3fOMoOlb1uVEXv/vy3LbpvGBkMFcK+0ZMyx3I92+7KmcIXHfvg3H6mrhU2T8fF5S0eIChTZyCapnmoLzjn2/ggT/AkRAAAAAAP8PAAAAADDBAAAwwQAAMMEAALBBDAQBAQEEngHhPxD//2sQBTj6/z+hMwECb0POBAEDjIyAWgECjkYMAQLAQD0AAADyAAAA",
        "encoding": "base64",
        "path": [
         "scene_QmpUxqPjdDraapssFkzrfPjYn",
         "drc"
        ]
       },
       {
        "data": "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",
        "encoding": "base64",
        "path": [
         "scene_RN2agPVQqd6ht2UA4gWJzk3eG",
         "drc"
        ]
       },
       {
        "data": "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",
        "encoding": "base64",
        "path": [
         "scene_Er9EXydtPsAk9wc0dYOga4kgS",
         "drc"
        ]
       },
       {
        "data": "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",
        "encoding": "base64",
        "path": [
         "scene_dwpjWtQGPYqcZ6V9BaffHCk5o",
         "drc"
        ]
       },
       {
        "data": "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",
        "encoding": "base64",
        "path": [
         "scene_HakfhOo2Z45EChrbIIcRgUgrh",
         "drc"
        ]
       },
       {
        "data": "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",
        "encoding": "base64",
        "path": [
         "scene_ajXk3je59NIBwPpNtIGam0lTo",
         "drc"
        ]
       },
       {
        "data": "RFJBQ08CAgEBAIAAAgJpZAQAAAAABHR5cGUEbWVzaAAA/gL4BQH3BQAAvgFf27Zt27Ztq9pSVVVVVVVVVVWq1VJVVVVVVVVVpVrVUlVVVVVVVVWqVdVSVVVVVVVVpVpV1VJVVVVVVVWqVVXVUlVVVVVVpVpVVdVSVVVVVVWqVVVV1VJVVVVVpVpVVVXVUlVVVVWqVVVVVdVSVVVVpVpVVVVV1VJVVVWqVVVVVVXVUlVVpVpVVVVVVdVSVVWqVVVVVVVV1VJVpVpVVVVVVVXVUlWqVVVVVVVVVdVSpVpVVVVVVVVV1VKqAAAKAQEQ/wPnhIUC/wABAAEAAQAJAwAAAgECAgMAAQEEAQEADQ8BAS0BZQsdFaUaWQIsAyxeiXJvdjFMtM+NaBl5Cn8NGqozbqTMy7NAIPaF+cl+qzUwlsIl6Poa9gEWKZWHIG4/FYwZh9ZAp2TfBJ8F5GVLweO9ye94yuojRy86cweXYHMqlSY9hlfwH14dNPq/g/l96DOgNQvgmYiVaK0CTHICtAgDSJcao5cMIJPui3AQgKoUwCMYoAsYIGsWoCMYgOMWIAk1a18MYKEDAAOLAEhboFbAmgUwDAKQXBDTnQVwG5F1+hGFeQFgOATgbgOICgE4TgE2bgGyGoCJNMBsFgD0xFOlABunABiXAFmARUc9ABh6BECnQNFlS1GglwAyDQSAiQGAygFQPhD2AJjNAsicBOhLBvjaB8h6PtlwFEDxv/PKAGgIAP0AeGOADbqsC6D8AReXAE2ZAIODADckgJMSoBgEQKji0imA+x0wVAgw+QMgZ8CZ2aoHqOgLWvlS6/YYYHlune4tTlUB4DiARAK4XIDbDcDjAXADRUWArFmAm+EYiHYAIwMByHSfBHQWSTTumPItXLhjqYAoAqoFuAbgFoBaAWIIWCngWAIeZ8CuDmi3AVs44HYDoMAFUHMANDoCHFEMPO/pBkDhEMB2C4h1AY0lwGiBMuRxfjy2r8cx+WiB51F+QM4P2PahPD4ADgEEBKhDAA4mgPAGwN0CYGACcKACcOACeAgDgBQDPE1cSgVwygFweQFQ3wEA758hoGgBwH28hgEwcwGUTrMIZgKg/RfF5x162bJvaTA/HoOEAJlOAJcYAP8JoBsD3DdQpUA83PEA6KwTf7cIWLSDP7XsQRrQkEchEcCfAjg/AMMPIAyBa6jzAFDtAPAHWnBLhwt7aOmAZQOQVkAmLB0AMa6DVD7aAuiDD4DkAAaggoAsAWJIQH6AeABTQHoBSDjwxECXAsVi4I2AGQBiCEhBoGgMRDJQgArQ8kpcA3ALQK0AMQSsFDBaoGiBKgXCEEgroC2A1gBSCwhFoFKBwgUMF7BUQBSBMM5DBAGYDgCzASB+APgNgIYAxxLQWAI+Q8B9A8MPYNkALB2AIQhw48CHCGgwAQ4mAEQE9AMuJBLglQEcHgNpzBsDII8AWRfANxj9YbEu4HgEdGOAZse+GevKAPWFxbyA3cFmEPsXeTw7gMsF2HkAQAoAwAkA+w7A3QJ4dQDlD5j8Abs6YLsF1HeA/wRg/PPqPMCWC9jZAUc3AMj+jRiYAESGAG43wJAIABMDAPMCwHAIwN0GEBUCYFwCXFwCDBUCtNuAwiGAywuASwyAQiKAthswMBOAj1OpDVQADlQAJ00APB6g6QSAygGAugGg2QSAvwOcMgE4TgE2TgGaMgHud0BmE8DpBsApB0CmE8DgDIBJrdaUKcAGLgAHLgCVKQAhIYApFQAuBwDuBoDpFADhIABVKQDHLcDGLcBUKcDgIEDpFMDtBsAtB0B2CaDLlHFsBNCaBQAZBvgoBsiaBWhsBJjNAhj+ACgGAZjVAmh0BMiiBfgwBgAhBtCiBXB0BKDVAjAGASDrBRDrBAAjzQXLVH//VooFi1Nab3NVNnRvOl1ZC2+Ej7rNfYGBl4OBgTlE1r69x6mL3fOMoOlb1uVEXv/vy3LbpvGBkMFcK+0ZMyx3I92+7KmcIXHfvg3H6mrhU2T8fF5S0eIChTZyCapnmoLzjn2/ggT/AkRAAAAAAP8PAAAAAADAAAAAwAAAAMAAAIBADAQBAQEEkQHhPxD//zcQBTAt+F+hMwECb0POBAEDjIyAWgECjkYMAQLAQDcAAADRAAAA",
        "encoding": "base64",
        "path": [
         "scene_9h3KMRaIV4xfLIcWIl2v18FRA",
         "drc"
        ]
       },
       {
        "data": "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",
        "encoding": "base64",
        "path": [
         "scene_GdglRMvaKsIjW5Ie9FFU6m0sU",
         "drc"
        ]
       },
       {
        "data": "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",
        "encoding": "base64",
        "path": [
         "scene_USnw7QUPhHx9mWofNYKuXcbUs",
         "drc"
        ]
       },
       {
        "data": "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",
        "encoding": "base64",
        "path": [
         "scene_jVLzRirox7VfarzXOBh7eixw4",
         "drc"
        ]
       },
       {
        "data": "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",
        "encoding": "base64",
        "path": [
         "scene_tAcng2zJZPaEswvqb6OlFFeHt",
         "drc"
        ]
       },
       {
        "data": "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",
        "encoding": "base64",
        "path": [
         "scene_2ku4zktBO3OgZtiB6Pzn0AL5t",
         "drc"
        ]
       },
       {
        "data": "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",
        "encoding": "base64",
        "path": [
         "scene_iZPROtd8WP15DfTpxK04IdpsS",
         "drc"
        ]
       },
       {
        "data": "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",
        "encoding": "base64",
        "path": [
         "scene_ekX9DIDWNywrdiZcUVSBMkHhr",
         "drc"
        ]
       },
       {
        "data": "RFJBQ08CAgEBAIAAAgJpZAQAAAAABHR5cGUEbWVzaAAA/gL4BQH3BQAAvgFf27Zt27Ztq9pSVVVVVVVVVVWq1VJVVVVVVVVVpVrVUlVVVVVVVVWqVdVSVVVVVVVVpVpV1VJVVVVVVVWqVVXVUlVVVVVVpVpVVdVSVVVVVVWqVVVV1VJVVVVVpVpVVVXVUlVVVVWqVVVVVdVSVVVVpVpVVVVV1VJVVVWqVVVVVVXVUlVVpVpVVVVVVdVSVVWqVVVVVVVV1VJVpVpVVVVVVVXVUlWqVVVVVVVVVdVSpVpVVVVVVVVV1VKqAAAKAQEQ/wPnhIUC/wABAAEAAQAJAwAAAgECAgMAAQEEAQEADQ8BAS0BZQsdFaUaWQIsAyxeiXJvdjFMtM+NaBl5Cn8NGqozbqTMy7NAIPaF+cl+qzUwlsIl6Poa9gEWKZWHIG4/FYwZh9ZAp2TfBJ8F5GVLweO9ye94yuojRy86cweXYHMqlSY9hlfwH14dNPq/g/l96DOgNQvgmYiVaK0CTHICtAgDSJcao5cMIJPui3AQgKoUwCMYoAsYIGsWoCMYgOMWIAk1a18MYKEDAAOLAEhboFbAmgUwDAKQXBDTnQVwG5F1+hGFeQFgOATgbgOICgE4TgE2bgGyGoCJNMBsFgD0xFOlABunABiXAFmARUc9ABh6BECnQNFlS1GglwAyDQSAiQGAygFQPhD2AJjNAsicBOhLBvjaB8h6PtlwFEDxv/PKAGgIAP0AeGOADbqsC6D8AReXAE2ZAIODADckgJMSoBgEQKji0imA+x0wVAgw+QMgZ8CZ2aoHqOgLWvlS6/YYYHlune4tTlUB4DiARAK4XIDbDcDjAXADRUWArFmAm+EYiHYAIwMByHSfBHQWSTTumPItXLhjqYAoAqoFuAbgFoBaAWIIWCngWAIeZ8CuDmi3AVs44HYDoMAFUHMANDoCHFEMPO/pBkDhEMB2C4h1AY0lwGiBMuRxfjy2r8cx+WiB51F+QM4P2PahPD4ADgEEBKhDAA4mgPAGwN0CYGACcKACcOACeAgDgBQDPE1cSgVwygFweQFQ3wEA758hoGgBwH28hgEwcwGUTrMIZgKg/RfF5x162bJvaTA/HoOEAJlOAJcYAP8JoBsD3DdQpUA83PEA6KwTf7cIWLSDP7XsQRrQkEchEcCfAjg/AMMPIAyBa6jzAFDtAPAHWnBLhwt7aOmAZQOQVkAmLB0AMa6DVD7aAuiDD4DkAAaggoAsAWJIQH6AeABTQHoBSDjwxECXAsVi4I2AGQBiCEhBoGgMRDJQgArQ8kpcA3ALQK0AMQSsFDBaoGiBKgXCEEgroC2A1gBSCwhFoFKBwgUMF7BUQBSBMM5DBAGYDgCzASB+APgNgIYAxxLQWAI+Q8B9A8MPYNkALB2AIQhw48CHCGgwAQ4mAEQE9AMuJBLglQEcHgNpzBsDII8AWRfANxj9YbEu4HgEdGOAZse+GevKAPWFxbyA3cFmEPsXeTw7gMsF2HkAQAoAwAkA+w7A3QJ4dQDlD5j8Abs6YLsF1HeA/wRg/PPqPMCWC9jZAUc3AMj+jRiYAESGAG43wJAIABMDAPMCwHAIwN0GEBUCYFwCXFwCDBUCtNuAwiGAywuASwyAQiKAthswMBOAj1OpDVQADlQAJ00APB6g6QSAygGAugGg2QSAvwOcMgE4TgE2TgGaMgHud0BmE8DpBsApB0CmE8DgDIBJrdaUKcAGLgAHLgCVKQAhIYApFQAuBwDuBoDpFADhIABVKQDHLcDGLcBUKcDgIEDpFMDtBsAtB0B2CaDLlHFsBNCaBQAZBvgoBsiaBWhsBJjNAhj+ACgGAZjVAmh0BMiiBfgwBgAhBtCiBXB0BKDVAjAGASDrBRDrBAAjzQXLVH//VooFi1Nab3NVNnRvOl1ZC2+Ej7rNfYGBl4OBgTlE1r69x6mL3fOMoOlb1uVEXv/vy3LbpvGBkMFcK+0ZMyx3I92+7KmcIXHfvg3H6mrhU2T8fF5S0eIChTZyCapnmoLzjn2/ggT/AkRAAAAAAP8PAAAAAADBAAAAwQAAAMEAAIBBDAQBAQEEaeE/EP+XEAUw+cdQoTMBAm9DzgQBA4yMgFoBAo5GDAECwEAcAAAAzQAAAA==",
        "encoding": "base64",
        "path": [
         "scene_9V9JZSikwaqRkjJivjhwjRKcY",
         "drc"
        ]
       },
       {
        "data": "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",
        "encoding": "base64",
        "path": [
         "scene_mljuYJ5ZrAJvrvCTpT55dWHlL",
         "drc"
        ]
       },
       {
        "data": "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",
        "encoding": "base64",
        "path": [
         "scene_K3XFeCzM7NKbubpFrXDwxtZdb",
         "drc"
        ]
       },
       {
        "data": "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",
        "encoding": "base64",
        "path": [
         "scene_XFhLLhcmySKJxkUzVkgxpQbN0",
         "drc"
        ]
       },
       {
        "data": "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",
        "encoding": "base64",
        "path": [
         "scene_zqsRCl0QBDet4Xi3swYwB1qNB",
         "drc"
        ]
       },
       {
        "data": "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",
        "encoding": "base64",
        "path": [
         "scene_2C85NbDuq23juYLCFNsHLgdiR",
         "drc"
        ]
       },
       {
        "data": "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",
        "encoding": "base64",
        "path": [
         "scene_Tx0Kg9z0T5WCoJx71fh9UAL7I",
         "drc"
        ]
       },
       {
        "data": "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",
        "encoding": "base64",
        "path": [
         "scene_fmLNjOHmE0p7UyYqnLzUrZXo9",
         "drc"
        ]
       },
       {
        "data": "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",
        "encoding": "base64",
        "path": [
         "scene_MqfImtGwSatdZaTKmWgiZIRtX",
         "drc"
        ]
       },
       {
        "data": "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",
        "encoding": "base64",
        "path": [
         "scene_PDvA9SAKbzLXVwLxiEZc6KcqX",
         "drc"
        ]
       },
       {
        "data": "RFJBQ08CAgEBAIAAAgJpZAQAAAAABHR5cGUEbWVzaAAA/gL4BQH3BQAAvgFf27Zt27Ztq9pSVVVVVVVVVVWq1VJVVVVVVVVVpVrVUlVVVVVVVVWqVdVSVVVVVVVVpVpV1VJVVVVVVVWqVVXVUlVVVVVVpVpVVdVSVVVVVVWqVVVV1VJVVVVVpVpVVVXVUlVVVVWqVVVVVdVSVVVVpVpVVVVV1VJVVVWqVVVVVVXVUlVVpVpVVVVVVdVSVVWqVVVVVVVV1VJVpVpVVVVVVVXVUlWqVVVVVVVVVdVSpVpVVVVVVVVV1VKqAAAKAQEQ/wPnhIUC/wABAAEAAQAJAwAAAgECAgMAAQEEAQEADQ8BAS0BZQsdFaUaWQIsAyxeiXJvdjFMtM+NaBl5Cn8NGqozbqTMy7NAIPaF+cl+qzUwlsIl6Poa9gEWKZWHIG4/FYwZh9ZAp2TfBJ8F5GVLweO9ye94yuojRy86cweXYHMqlSY9hlfwH14dNPq/g/l96DOgNQvgmYiVaK0CTHICtAgDSJcao5cMIJPui3AQgKoUwCMYoAsYIGsWoCMYgOMWIAk1a18MYKEDAAOLAEhboFbAmgUwDAKQXBDTnQVwG5F1+hGFeQFgOATgbgOICgE4TgE2bgGyGoCJNMBsFgD0xFOlABunABiXAFmARUc9ABh6BECnQNFlS1GglwAyDQSAiQGAygFQPhD2AJjNAsicBOhLBvjaB8h6PtlwFEDxv/PKAGgIAP0AeGOADbqsC6D8AReXAE2ZAIODADckgJMSoBgEQKji0imA+x0wVAgw+QMgZ8CZ2aoHqOgLWvlS6/YYYHlune4tTlUB4DiARAK4XIDbDcDjAXADRUWArFmAm+EYiHYAIwMByHSfBHQWSTTumPItXLhjqYAoAqoFuAbgFoBaAWIIWCngWAIeZ8CuDmi3AVs44HYDoMAFUHMANDoCHFEMPO/pBkDhEMB2C4h1AY0lwGiBMuRxfjy2r8cx+WiB51F+QM4P2PahPD4ADgEEBKhDAA4mgPAGwN0CYGACcKACcOACeAgDgBQDPE1cSgVwygFweQFQ3wEA758hoGgBwH28hgEwcwGUTrMIZgKg/RfF5x162bJvaTA/HoOEAJlOAJcYAP8JoBsD3DdQpUA83PEA6KwTf7cIWLSDP7XsQRrQkEchEcCfAjg/AMMPIAyBa6jzAFDtAPAHWnBLhwt7aOmAZQOQVkAmLB0AMa6DVD7aAuiDD4DkAAaggoAsAWJIQH6AeABTQHoBSDjwxECXAsVi4I2AGQBiCEhBoGgMRDJQgArQ8kpcA3ALQK0AMQSsFDBaoGiBKgXCEEgroC2A1gBSCwhFoFKBwgUMF7BUQBSBMM5DBAGYDgCzASB+APgNgIYAxxLQWAI+Q8B9A8MPYNkALB2AIQhw48CHCGgwAQ4mAEQE9AMuJBLglQEcHgNpzBsDII8AWRfANxj9YbEu4HgEdGOAZse+GevKAPWFxbyA3cFmEPsXeTw7gMsF2HkAQAoAwAkA+w7A3QJ4dQDlD5j8Abs6YLsF1HeA/wRg/PPqPMCWC9jZAUc3AMj+jRiYAESGAG43wJAIABMDAPMCwHAIwN0GEBUCYFwCXFwCDBUCtNuAwiGAywuASwyAQiKAthswMBOAj1OpDVQADlQAJ00APB6g6QSAygGAugGg2QSAvwOcMgE4TgE2TgGaMgHud0BmE8DpBsApB0CmE8DgDIBJrdaUKcAGLgAHLgCVKQAhIYApFQAuBwDuBoDpFADhIABVKQDHLcDGLcBUKcDgIEDpFMDtBsAtB0B2CaDLlHFsBNCaBQAZBvgoBsiaBWhsBJjNAhj+ACgGAZjVAmh0BMiiBfgwBgAhBtCiBXB0BKDVAjAGASDrBRDrBAAjzQXLVH//VooFi1Nab3NVNnRvOl1ZC2+Ej7rNfYGBl4OBgTlE1r69x6mL3fOMoOlb1uVEXv/vy3LbpvGBkMFcK+0ZMyx3I92+7KmcIXHfvg3H6mrhU2T8fF5S0eIChTZyCapnmoLzjn2/ggT/AkRAAAAAAP8PAAAAAJjBAACYwQAAmMEAABhCDAQBAQEEMOE/ELMQBTj6/z+hMwECb0POBAEDjIyAWgECjkYMAQLAQCUAAAB+AAAA",
        "encoding": "base64",
        "path": [
         "scene_ZhYq6MOq13oJljSKyN328P3aj",
         "drc"
        ]
       },
       {
        "data": "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",
        "encoding": "base64",
        "path": [
         "scene_NqqdrmLKoWg4VSNHflg3qzR5Z",
         "drc"
        ]
       },
       {
        "data": "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",
        "encoding": "base64",
        "path": [
         "scene_4PmwKstX9D1B4zV1mLG7TpBpq",
         "drc"
        ]
       },
       {
        "data": "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",
        "encoding": "base64",
        "path": [
         "scene_QiKM515gnDO2EWSzEu4VlwR8B",
         "drc"
        ]
       },
       {
        "data": "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",
        "encoding": "base64",
        "path": [
         "scene_tCRUp36v9ZCFrKaPaPBYhxinT",
         "drc"
        ]
       },
       {
        "data": "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",
        "encoding": "base64",
        "path": [
         "scene_VrcRTACoUD83KyvLWUBGzLl3y",
         "drc"
        ]
       },
       {
        "data": "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",
        "encoding": "base64",
        "path": [
         "scene_FdqWYojlCUszlC6n4sSQZH5W3",
         "drc"
        ]
       },
       {
        "data": "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",
        "encoding": "base64",
        "path": [
         "scene_WL4Szncb9TMiby0wN6taZX9um",
         "drc"
        ]
       },
       {
        "data": "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",
        "encoding": "base64",
        "path": [
         "scene_3GG8sf3iF539Zj74Qe9tVFdd5",
         "drc"
        ]
       },
       {
        "data": "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",
        "encoding": "base64",
        "path": [
         "scene_aT0RDGGup2Mc7kOBr3o7j1cMw",
         "drc"
        ]
       },
       {
        "data": "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",
        "encoding": "base64",
        "path": [
         "scene_aMMCiTqLF2nk7cOIiMaXUtZzj",
         "drc"
        ]
       },
       {
        "data": "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",
        "encoding": "base64",
        "path": [
         "scene_5I2HZkk1XDmy8OUjl2aSXAIFN",
         "drc"
        ]
       },
       {
        "data": "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",
        "encoding": "base64",
        "path": [
         "scene_cXISGgiQuNZPnUyt8s1kI7WRs",
         "drc"
        ]
       },
       {
        "data": "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",
        "encoding": "base64",
        "path": [
         "scene_H4dwFtDHnG2VuD1ssYhKfCO62",
         "drc"
        ]
       },
       {
        "data": "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",
        "encoding": "base64",
        "path": [
         "scene_GQyeqGRwp91RmVqWO456dWYK4",
         "drc"
        ]
       },
       {
        "data": "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",
        "encoding": "base64",
        "path": [
         "scene_j22G0AqA371v9sel9pnVwJrDS",
         "drc"
        ]
       },
       {
        "data": "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",
        "encoding": "base64",
        "path": [
         "scene_Eb2c0Jr8TfCnWjS7DUsZzywlk",
         "drc"
        ]
       },
       {
        "data": "RFJBQ08CAgEBAIAAAgJpZAQAAAAABHR5cGUEbWVzaAAA/gL4BQH3BQAAvgFf27Zt27Ztq9pSVVVVVVVVVVWq1VJVVVVVVVVVpVrVUlVVVVVVVVWqVdVSVVVVVVVVpVpV1VJVVVVVVVWqVVXVUlVVVVVVpVpVVdVSVVVVVVWqVVVV1VJVVVVVpVpVVVXVUlVVVVWqVVVVVdVSVVVVpVpVVVVV1VJVVVWqVVVVVVXVUlVVpVpVVVVVVdVSVVWqVVVVVVVV1VJVpVpVVVVVVVXVUlWqVVVVVVVVVdVSpVpVVVVVVVVV1VKqAAAKAQEQ/wPnhIUC/wABAAEAAQAJAwAAAgECAgMAAQEEAQEADQ8BAS0BZQsdFaUaWQIsAyxeiXJvdjFMtM+NaBl5Cn8NGqozbqTMy7NAIPaF+cl+qzUwlsIl6Poa9gEWKZWHIG4/FYwZh9ZAp2TfBJ8F5GVLweO9ye94yuojRy86cweXYHMqlSY9hlfwH14dNPq/g/l96DOgNQvgmYiVaK0CTHICtAgDSJcao5cMIJPui3AQgKoUwCMYoAsYIGsWoCMYgOMWIAk1a18MYKEDAAOLAEhboFbAmgUwDAKQXBDTnQVwG5F1+hGFeQFgOATgbgOICgE4TgE2bgGyGoCJNMBsFgD0xFOlABunABiXAFmARUc9ABh6BECnQNFlS1GglwAyDQSAiQGAygFQPhD2AJjNAsicBOhLBvjaB8h6PtlwFEDxv/PKAGgIAP0AeGOADbqsC6D8AReXAE2ZAIODADckgJMSoBgEQKji0imA+x0wVAgw+QMgZ8CZ2aoHqOgLWvlS6/YYYHlune4tTlUB4DiARAK4XIDbDcDjAXADRUWArFmAm+EYiHYAIwMByHSfBHQWSTTumPItXLhjqYAoAqoFuAbgFoBaAWIIWCngWAIeZ8CuDmi3AVs44HYDoMAFUHMANDoCHFEMPO/pBkDhEMB2C4h1AY0lwGiBMuRxfjy2r8cx+WiB51F+QM4P2PahPD4ADgEEBKhDAA4mgPAGwN0CYGACcKACcOACeAgDgBQDPE1cSgVwygFweQFQ3wEA758hoGgBwH28hgEwcwGUTrMIZgKg/RfF5x162bJvaTA/HoOEAJlOAJcYAP8JoBsD3DdQpUA83PEA6KwTf7cIWLSDP7XsQRrQkEchEcCfAjg/AMMPIAyBa6jzAFDtAPAHWnBLhwt7aOmAZQOQVkAmLB0AMa6DVD7aAuiDD4DkAAaggoAsAWJIQH6AeABTQHoBSDjwxECXAsVi4I2AGQBiCEhBoGgMRDJQgArQ8kpcA3ALQK0AMQSsFDBaoGiBKgXCEEgroC2A1gBSCwhFoFKBwgUMF7BUQBSBMM5DBAGYDgCzASB+APgNgIYAxxLQWAI+Q8B9A8MPYNkALB2AIQhw48CHCGgwAQ4mAEQE9AMuJBLglQEcHgNpzBsDII8AWRfANxj9YbEu4HgEdGOAZse+GevKAPWFxbyA3cFmEPsXeTw7gMsF2HkAQAoAwAkA+w7A3QJ4dQDlD5j8Abs6YLsF1HeA/wRg/PPqPMCWC9jZAUc3AMj+jRiYAESGAG43wJAIABMDAPMCwHAIwN0GEBUCYFwCXFwCDBUCtNuAwiGAywuASwyAQiKAthswMBOAj1OpDVQADlQAJ00APB6g6QSAygGAugGg2QSAvwOcMgE4TgE2TgGaMgHud0BmE8DpBsApB0CmE8DgDIBJrdaUKcAGLgAHLgCVKQAhIYApFQAuBwDuBoDpFADhIABVKQDHLcDGLcBUKcDgIEDpFMDtBsAtB0B2CaDLlHFsBNCaBQAZBvgoBsiaBWhsBJjNAhj+ACgGAZjVAmh0BMiiBfgwBgAhBtCiBXB0BKDVAjAGASDrBRDrBAAjzQXLVH//VooFi1Nab3NVNnRvOl1ZC2+Ej7rNfYGBl4OBgTlE1r69x6mL3fOMoOlb1uVEXv/vy3LbpvGBkMFcK+0ZMyx3I92+7KmcIXHfvg3H6mrhU2T8fF5S0eIChTZyCapnmoLzjn2/ggT/AkRAAAAAAP8PAAAAAIjBAACIwQAAiMEAAAhCDAQBAQEEB+E/EA8QBTAp/F+hMwECb0POBAEDjIyAWgECjkYMAQLAQDQAAABYAAAA",
        "encoding": "base64",
        "path": [
         "scene_3LXQxxITia1jU540bTUSNvWqo",
         "drc"
        ]
       },
       {
        "data": "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",
        "encoding": "base64",
        "path": [
         "scene_M8aHQSHcnhgYNNlsyqhXLPDVi",
         "drc"
        ]
       },
       {
        "data": "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",
        "encoding": "base64",
        "path": [
         "scene_ux1Aa0GhIPY1fSqiPBXl6c8aq",
         "drc"
        ]
       },
       {
        "data": "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",
        "encoding": "base64",
        "path": [
         "scene_9YiAPBY9lPyNR7Rtlq6KcByAu",
         "drc"
        ]
       },
       {
        "data": "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",
        "encoding": "base64",
        "path": [
         "scene_YY1KLux6AE9PegtxZmzjFs4fP",
         "drc"
        ]
       },
       {
        "data": "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",
        "encoding": "base64",
        "path": [
         "scene_NGzm1QV7irCx4jZFxnrGtR5Xc",
         "drc"
        ]
       },
       {
        "data": "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",
        "encoding": "base64",
        "path": [
         "scene_MpZM2FeutVDIJ7MAat4gxenme",
         "drc"
        ]
       },
       {
        "data": "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",
        "encoding": "base64",
        "path": [
         "scene_eQS3hTKs6KvPLFMJFMA8dwtT6",
         "drc"
        ]
       },
       {
        "data": "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",
        "encoding": "base64",
        "path": [
         "scene_nxA1THMCVR3BN5QOAhVt9RCtU",
         "drc"
        ]
       },
       {
        "data": "RFJBQ08CAgEBAIAAAgJpZAQAAAAABHR5cGUEbWVzaAAA/gL4BQH3BQAAvgFf27Zt27Ztq9pSVVVVVVVVVVWq1VJVVVVVVVVVpVrVUlVVVVVVVVWqVdVSVVVVVVVVpVpV1VJVVVVVVVWqVVXVUlVVVVVVpVpVVdVSVVVVVVWqVVVV1VJVVVVVpVpVVVXVUlVVVVWqVVVVVdVSVVVVpVpVVVVV1VJVVVWqVVVVVVXVUlVVpVpVVVVVVdVSVVWqVVVVVVVV1VJVpVpVVVVVVVXVUlWqVVVVVVVVVdVSpVpVVVVVVVVV1VKqAAAKAQEQ/wPnhIUC/wABAAEAAQAJAwAAAgECAgMAAQEEAQEADQ8BAS0BZQsdFaUaWQIsAyxeiXJvdjFMtM+NaBl5Cn8NGqozbqTMy7NAIPaF+cl+qzUwlsIl6Poa9gEWKZWHIG4/FYwZh9ZAp2TfBJ8F5GVLweO9ye94yuojRy86cweXYHMqlSY9hlfwH14dNPq/g/l96DOgNQvgmYiVaK0CTHICtAgDSJcao5cMIJPui3AQgKoUwCMYoAsYIGsWoCMYgOMWIAk1a18MYKEDAAOLAEhboFbAmgUwDAKQXBDTnQVwG5F1+hGFeQFgOATgbgOICgE4TgE2bgGyGoCJNMBsFgD0xFOlABunABiXAFmARUc9ABh6BECnQNFlS1GglwAyDQSAiQGAygFQPhD2AJjNAsicBOhLBvjaB8h6PtlwFEDxv/PKAGgIAP0AeGOADbqsC6D8AReXAE2ZAIODADckgJMSoBgEQKji0imA+x0wVAgw+QMgZ8CZ2aoHqOgLWvlS6/YYYHlune4tTlUB4DiARAK4XIDbDcDjAXADRUWArFmAm+EYiHYAIwMByHSfBHQWSTTumPItXLhjqYAoAqoFuAbgFoBaAWIIWCngWAIeZ8CuDmi3AVs44HYDoMAFUHMANDoCHFEMPO/pBkDhEMB2C4h1AY0lwGiBMuRxfjy2r8cx+WiB51F+QM4P2PahPD4ADgEEBKhDAA4mgPAGwN0CYGACcKACcOACeAgDgBQDPE1cSgVwygFweQFQ3wEA758hoGgBwH28hgEwcwGUTrMIZgKg/RfF5x162bJvaTA/HoOEAJlOAJcYAP8JoBsD3DdQpUA83PEA6KwTf7cIWLSDP7XsQRrQkEchEcCfAjg/AMMPIAyBa6jzAFDtAPAHWnBLhwt7aOmAZQOQVkAmLB0AMa6DVD7aAuiDD4DkAAaggoAsAWJIQH6AeABTQHoBSDjwxECXAsVi4I2AGQBiCEhBoGgMRDJQgArQ8kpcA3ALQK0AMQSsFDBaoGiBKgXCEEgroC2A1gBSCwhFoFKBwgUMF7BUQBSBMM5DBAGYDgCzASB+APgNgIYAxxLQWAI+Q8B9A8MPYNkALB2AIQhw48CHCGgwAQ4mAEQE9AMuJBLglQEcHgNpzBsDII8AWRfANxj9YbEu4HgEdGOAZse+GevKAPWFxbyA3cFmEPsXeTw7gMsF2HkAQAoAwAkA+w7A3QJ4dQDlD5j8Abs6YLsF1HeA/wRg/PPqPMCWC9jZAUc3AMj+jRiYAESGAG43wJAIABMDAPMCwHAIwN0GEBUCYFwCXFwCDBUCtNuAwiGAywuASwyAQiKAthswMBOAj1OpDVQADlQAJ00APB6g6QSAygGAugGg2QSAvwOcMgE4TgE2TgGaMgHud0BmE8DpBsApB0CmE8DgDIBJrdaUKcAGLgAHLgCVKQAhIYApFQAuBwDuBoDpFADhIABVKQDHLcDGLcBUKcDgIEDpFMDtBsAtB0B2CaDLlHFsBNCaBQAZBvgoBsiaBWhsBJjNAhj+ACgGAZjVAmh0BMiiBfgwBgAhBtCiBXB0BKDVAjAGASDrBRDrBAAjzQXLVH//VooFi1Nab3NVNnRvOl1ZC2+Ej7rNfYGBl4OBgTlE1r69x6mL3fOMoOlb1uVEXv/vy3LbpvGBkMFcK+0ZMyx3I92+7KmcIXHfvg3H6mrhU2T8fF5S0eIChTZyCapnmoLzjn2/ggT/AkRAAAAAAP8PAAAAADDBAAAwwQAAMMEAALBBDAQBAQEEjgHhPxD//ysQBTD9w1ChMwECb0POBAEDjIyAWgECjkYMAQLAQCMAAAD7AAAA",
        "encoding": "base64",
        "path": [
         "scene_Gtf4ShHglDSg4PR3u3H3F6O4e",
         "drc"
        ]
       },
       {
        "data": "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",
        "encoding": "base64",
        "path": [
         "scene_A0lXId26tOV6tI0rdQn11cLD5",
         "drc"
        ]
       },
       {
        "data": "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",
        "encoding": "base64",
        "path": [
         "scene_qNcxFG7utI14VsDbMYUCecpie",
         "drc"
        ]
       },
       {
        "data": "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",
        "encoding": "base64",
        "path": [
         "scene_ghFM7OmhbuAtcbJT91Xd4o8qb",
         "drc"
        ]
       },
       {
        "data": "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",
        "encoding": "base64",
        "path": [
         "scene_gwDg1k5tvbCHMXqkxy0eZYIMh",
         "drc"
        ]
       },
       {
        "data": "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",
        "encoding": "base64",
        "path": [
         "scene_oMQlWKLp29OGB4YqoR84Y5ZY6",
         "drc"
        ]
       },
       {
        "data": "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",
        "encoding": "base64",
        "path": [
         "scene_JcwlmdkWa50wPQq8LO7nBk0eO",
         "drc"
        ]
       },
       {
        "data": "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",
        "encoding": "base64",
        "path": [
         "scene_a2UvjQnaz1Ed20H2nY8MwDMwb",
         "drc"
        ]
       },
       {
        "data": "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",
        "encoding": "base64",
        "path": [
         "scene_4SDkUDJJPhBgdmFNr07JSRyh6",
         "drc"
        ]
       },
       {
        "data": "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",
        "encoding": "base64",
        "path": [
         "scene_AHGJkfelsNJTdOBEVhC50sSGQ",
         "drc"
        ]
       },
       {
        "data": "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",
        "encoding": "base64",
        "path": [
         "scene_KrF2vAHLLDmZr8iwgNYdnjhi9",
         "drc"
        ]
       },
       {
        "data": "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",
        "encoding": "base64",
        "path": [
         "scene_5gyovJZEweNHa1dQ9jsmV3Gta",
         "drc"
        ]
       },
       {
        "data": "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",
        "encoding": "base64",
        "path": [
         "scene_Op2pwaiYgTzm6rBDVh6BLVXVp",
         "drc"
        ]
       },
       {
        "data": "RFJBQ08CAgEBAIAAAgJpZAQAAAAABHR5cGUEbWVzaAAA/gL4BQH3BQAAvgFf27Zt27Ztq9pSVVVVVVVVVVWq1VJVVVVVVVVVpVrVUlVVVVVVVVWqVdVSVVVVVVVVpVpV1VJVVVVVVVWqVVXVUlVVVVVVpVpVVdVSVVVVVVWqVVVV1VJVVVVVpVpVVVXVUlVVVVWqVVVVVdVSVVVVpVpVVVVV1VJVVVWqVVVVVVXVUlVVpVpVVVVVVdVSVVWqVVVVVVVV1VJVpVpVVVVVVVXVUlWqVVVVVVVVVdVSpVpVVVVVVVVV1VKqAAAKAQEQ/wPnhIUC/wABAAEAAQAJAwAAAgECAgMAAQEEAQEADQ8BAS0BZQsdFaUaWQIsAyxeiXJvdjFMtM+NaBl5Cn8NGqozbqTMy7NAIPaF+cl+qzUwlsIl6Poa9gEWKZWHIG4/FYwZh9ZAp2TfBJ8F5GVLweO9ye94yuojRy86cweXYHMqlSY9hlfwH14dNPq/g/l96DOgNQvgmYiVaK0CTHICtAgDSJcao5cMIJPui3AQgKoUwCMYoAsYIGsWoCMYgOMWIAk1a18MYKEDAAOLAEhboFbAmgUwDAKQXBDTnQVwG5F1+hGFeQFgOATgbgOICgE4TgE2bgGyGoCJNMBsFgD0xFOlABunABiXAFmARUc9ABh6BECnQNFlS1GglwAyDQSAiQGAygFQPhD2AJjNAsicBOhLBvjaB8h6PtlwFEDxv/PKAGgIAP0AeGOADbqsC6D8AReXAE2ZAIODADckgJMSoBgEQKji0imA+x0wVAgw+QMgZ8CZ2aoHqOgLWvlS6/YYYHlune4tTlUB4DiARAK4XIDbDcDjAXADRUWArFmAm+EYiHYAIwMByHSfBHQWSTTumPItXLhjqYAoAqoFuAbgFoBaAWIIWCngWAIeZ8CuDmi3AVs44HYDoMAFUHMANDoCHFEMPO/pBkDhEMB2C4h1AY0lwGiBMuRxfjy2r8cx+WiB51F+QM4P2PahPD4ADgEEBKhDAA4mgPAGwN0CYGACcKACcOACeAgDgBQDPE1cSgVwygFweQFQ3wEA758hoGgBwH28hgEwcwGUTrMIZgKg/RfF5x162bJvaTA/HoOEAJlOAJcYAP8JoBsD3DdQpUA83PEA6KwTf7cIWLSDP7XsQRrQkEchEcCfAjg/AMMPIAyBa6jzAFDtAPAHWnBLhwt7aOmAZQOQVkAmLB0AMa6DVD7aAuiDD4DkAAaggoAsAWJIQH6AeABTQHoBSDjwxECXAsVi4I2AGQBiCEhBoGgMRDJQgArQ8kpcA3ALQK0AMQSsFDBaoGiBKgXCEEgroC2A1gBSCwhFoFKBwgUMF7BUQBSBMM5DBAGYDgCzASB+APgNgIYAxxLQWAI+Q8B9A8MPYNkALB2AIQhw48CHCGgwAQ4mAEQE9AMuJBLglQEcHgNpzBsDII8AWRfANxj9YbEu4HgEdGOAZse+GevKAPWFxbyA3cFmEPsXeTw7gMsF2HkAQAoAwAkA+w7A3QJ4dQDlD5j8Abs6YLsF1HeA/wRg/PPqPMCWC9jZAUc3AMj+jRiYAESGAG43wJAIABMDAPMCwHAIwN0GEBUCYFwCXFwCDBUCtNuAwiGAywuASwyAQiKAthswMBOAj1OpDVQADlQAJ00APB6g6QSAygGAugGg2QSAvwOcMgE4TgE2TgGaMgHud0BmE8DpBsApB0CmE8DgDIBJrdaUKcAGLgAHLgCVKQAhIYApFQAuBwDuBoDpFADhIABVKQDHLcDGLcBUKcDgIEDpFMDtBsAtB0B2CaDLlHFsBNCaBQAZBvgoBsiaBWhsBJjNAhj+ACgGAZjVAmh0BMiiBfgwBgAhBtCiBXB0BKDVAjAGASDrBRDrBAAjzQXLVH//VooFi1Nab3NVNnRvOl1ZC2+Ej7rNfYGBl4OBgTlE1r69x6mL3fOMoOlb1uVEXv/vy3LbpvGBkMFcK+0ZMyx3I92+7KmcIXHfvg3H6mrhU2T8fF5S0eIChTZyCapnmoLzjn2/ggT/AkRAAAAAAP8PAAAAAADAAAAAwAAAAMAAAIBADAQBAQEES+E/EP8fEAUwKfxfoTMBAm9DzgQBA4yMgFoBAo5GDAECwEBrAAAA5AAAAA==",
        "encoding": "base64",
        "path": [
         "scene_ejV8I1iG4GFRl0rYrHfgemWTo",
         "drc"
        ]
       },
       {
        "data": "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",
        "encoding": "base64",
        "path": [
         "scene_lnV3bnRWW7oK9g2dQHWnScprV",
         "drc"
        ]
       },
       {
        "data": "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",
        "encoding": "base64",
        "path": [
         "scene_laRQri5y22JEHPHr5Jcc0XvzQ",
         "drc"
        ]
       },
       {
        "data": "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",
        "encoding": "base64",
        "path": [
         "scene_GHrWCSe9NVW2aQQZ86xKRSzhf",
         "drc"
        ]
       },
       {
        "data": "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",
        "encoding": "base64",
        "path": [
         "scene_8MV1s15BFWNTttJwqKeT0Nt6X",
         "drc"
        ]
       },
       {
        "data": "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",
        "encoding": "base64",
        "path": [
         "scene_m1H0hmMq9prwSRbcGz8BeFH98",
         "drc"
        ]
       }
      ],
      "model_module": "pgljupyter",
      "model_module_version": "^0.1.0",
      "model_name": "SceneWidgetModel",
      "state": {
       "_model_module_version": "^0.1.0",
       "_view_module_version": "^0.1.0",
       "axes_helper": false,
       "layout": "IPY_MODEL_98462fb17c85438e86effe2d74565eaa",
       "light_helper": false,
       "plane": true,
       "scene": {
        "offsets": [],
        "position": [
         0,
         0,
         0
        ],
        "scale": 1,
        "scene": "<openalea.plantgl.scenegraph._pglsg.Scene object at 0x7f2a444cdd70>"
       },
       "scene_0NEFl92m2YBIdZkEmO0hsKwHj": {
        "offsets": [
         0
        ],
        "position": [
         -34,
         95,
         -58
        ],
        "scale": 1,
        "scene": "<openalea.plantgl.scenegraph._pglsg.Scene object at 0x7f2a0d16df70>"
       },
       "scene_0WmEERaFvRgDQbqrEg0rp3XTD": {
        "offsets": [
         0
        ],
        "position": [
         -108,
         -106,
         -126
        ],
        "scale": 1,
        "scene": "<openalea.plantgl.scenegraph._pglsg.Scene object at 0x7f2a0de22af0>"
       },
       "scene_0nOTRG3m8JyGFL1p5gllGH3ea": {
        "offsets": [
         0
        ],
        "position": [
         -51,
         37,
         41
        ],
        "scale": 1,
        "scene": "<openalea.plantgl.scenegraph._pglsg.Scene object at 0x7f2a0d15d970>"
       },
       "scene_19c4VuOmknj4X8c7tEOFfMqyG": {
        "offsets": [
         0
        ],
        "position": [
         -35,
         80,
         -92
        ],
        "scale": 1,
        "scene": "<openalea.plantgl.scenegraph._pglsg.Scene object at 0x7f2a0d2bff70>"
       },
       "scene_19lVGho62XXnz2nDm13AlHK3i": {
        "offsets": [
         0
        ],
        "position": [
         10,
         102,
         91
        ],
        "scale": 1,
        "scene": "<openalea.plantgl.scenegraph._pglsg.Scene object at 0x7f2a0d1d9ef0>"
       },
       "scene_1TfrhmVFc2liOiwXLwSx5TGgI": {
        "offsets": [
         0
        ],
        "position": [
         -66,
         116,
         -123
        ],
        "scale": 1,
        "scene": "<openalea.plantgl.scenegraph._pglsg.Scene object at 0x7f2a0d288e30>"
       },
       "scene_1jlmS46rYIoMUNMT7Q2wYbEBm": {
        "offsets": [
         0
        ],
        "position": [
         -33,
         57,
         -11
        ],
        "scale": 1,
        "scene": "<openalea.plantgl.scenegraph._pglsg.Scene object at 0x7f2a0d2d9330>"
       },
       "scene_213rouOPihFDerD4HlhD5ew8Q": {
        "offsets": [
         0
        ],
        "position": [
         48,
         46,
         100
        ],
        "scale": 1,
        "scene": "<openalea.plantgl.scenegraph._pglsg.Scene object at 0x7f2a0d27fb30>"
       },
       "scene_2C85NbDuq23juYLCFNsHLgdiR": {
        "offsets": [
         0
        ],
        "position": [
         -56,
         31,
         23
        ],
        "scale": 1,
        "scene": "<openalea.plantgl.scenegraph._pglsg.Scene object at 0x7f2a0d0fb870>"
       },
       "scene_2PGMK0MwWHKjg7QyWaMznK5lq": {
        "offsets": [
         0
        ],
        "position": [
         46,
         125,
         -29
        ],
        "scale": 1,
        "scene": "<openalea.plantgl.scenegraph._pglsg.Scene object at 0x7f2a0deabc30>"
       },
       "scene_2RxkbT1A9yus1Asb4eYgbkcsB": {
        "offsets": [
         0
        ],
        "position": [
         -52,
         -75,
         -4
        ],
        "scale": 1,
        "scene": "<openalea.plantgl.scenegraph._pglsg.Scene object at 0x7f2a0d1213f0>"
       },
       "scene_2ZYJ8GcvOI3XJagvESqK8ww1k": {
        "offsets": [
         0
        ],
        "position": [
         68,
         0,
         -66
        ],
        "scale": 1,
        "scene": "<openalea.plantgl.scenegraph._pglsg.Scene object at 0x7f2a0d276e70>"
       },
       "scene_2ku4zktBO3OgZtiB6Pzn0AL5t": {
        "offsets": [
         0
        ],
        "position": [
         60,
         -80,
         -100
        ],
        "scale": 1,
        "scene": "<openalea.plantgl.scenegraph._pglsg.Scene object at 0x7f2a0d0e05f0>"
       },
       "scene_3AgU8dSCBssp5wEJ5dxMOoYjP": {
        "offsets": [
         0
        ],
        "position": [
         -67,
         -126,
         -6
        ],
        "scale": 1,
        "scene": "<openalea.plantgl.scenegraph._pglsg.Scene object at 0x7f2a0d19ddf0>"
       },
       "scene_3Bt14aieYiQdzZbhmJchTKzU2": {
        "offsets": [
         0
        ],
        "position": [
         32,
         13,
         -29
        ],
        "scale": 1,
        "scene": "<openalea.plantgl.scenegraph._pglsg.Scene object at 0x7f2a0de363b0>"
       },
       "scene_3GG8sf3iF539Zj74Qe9tVFdd5": {
        "offsets": [
         0
        ],
        "position": [
         88,
         -122,
         -58
        ],
        "scale": 1,
        "scene": "<openalea.plantgl.scenegraph._pglsg.Scene object at 0x7f2a0d0aa9f0>"
       },
       "scene_3LXQxxITia1jU540bTUSNvWqo": {
        "offsets": [
         0
        ],
        "position": [
         -72,
         -75,
         -39
        ],
        "scale": 1,
        "scene": "<openalea.plantgl.scenegraph._pglsg.Scene object at 0x7f2a0d0cf330>"
       },
       "scene_4Bt2qUqz8xu429sx9zP8C40mQ": {
        "offsets": [
         0
        ],
        "position": [
         73,
         -97,
         83
        ],
        "scale": 1,
        "scene": "<openalea.plantgl.scenegraph._pglsg.Scene object at 0x7f2a0d1d9170>"
       },
       "scene_4PmwKstX9D1B4zV1mLG7TpBpq": {
        "offsets": [
         0
        ],
        "position": [
         -33,
         -28,
         122
        ],
        "scale": 1,
        "scene": "<openalea.plantgl.scenegraph._pglsg.Scene object at 0x7f2a0de8f670>"
       },
       "scene_4SDkUDJJPhBgdmFNr07JSRyh6": {
        "offsets": [
         0
        ],
        "position": [
         -62,
         42,
         112
        ],
        "scale": 1,
        "scene": "<openalea.plantgl.scenegraph._pglsg.Scene object at 0x7f2a0d088eb0>"
       },
       "scene_5I2HZkk1XDmy8OUjl2aSXAIFN": {
        "offsets": [
         0
        ],
        "position": [
         81,
         109,
         13
        ],
        "scale": 1,
        "scene": "<openalea.plantgl.scenegraph._pglsg.Scene object at 0x7f2a0d0b4cf0>"
       },
       "scene_5P2mnowJ9ckf6PjfdM3ajITvx": {
        "offsets": [
         0
        ],
        "position": [
         -10,
         -93,
         -41
        ],
        "scale": 1,
        "scene": "<openalea.plantgl.scenegraph._pglsg.Scene object at 0x7f2a0d263eb0>"
       },
       "scene_5gyovJZEweNHa1dQ9jsmV3Gta": {
        "offsets": [
         0
        ],
        "position": [
         42,
         60,
         5
        ],
        "scale": 1,
        "scene": "<openalea.plantgl.scenegraph._pglsg.Scene object at 0x7f2a0d019070>"
       },
       "scene_6pouySOWrkO6Xm1KCl4U2JFK8": {
        "offsets": [
         0
        ],
        "position": [
         -52,
         -126,
         20
        ],
        "scale": 1,
        "scene": "<openalea.plantgl.scenegraph._pglsg.Scene object at 0x7f2a0d2924b0>"
       },
       "scene_6qtizfI5lKVQtHI0RFI0yKsd4": {
        "offsets": [
         0
        ],
        "position": [
         -95,
         25,
         72
        ],
        "scale": 1,
        "scene": "<openalea.plantgl.scenegraph._pglsg.Scene object at 0x7f2a0d27f4f0>"
       },
       "scene_6uMoATb0ES2iuDK7GsSn6t9XB": {
        "offsets": [
         0
        ],
        "position": [
         108,
         -87,
         100
        ],
        "scale": 1,
        "scene": "<openalea.plantgl.scenegraph._pglsg.Scene object at 0x7f2a0deb3ef0>"
       },
       "scene_6v0VEPrmW7tTszU5rlOYvYQzZ": {
        "offsets": [
         0
        ],
        "position": [
         44,
         106,
         25
        ],
        "scale": 1,
        "scene": "<openalea.plantgl.scenegraph._pglsg.Scene object at 0x7f2a0d2a0df0>"
       },
       "scene_7LH8G5P84lAzXIjjt2CLW63CP": {
        "offsets": [
         0
        ],
        "position": [
         -72,
         4,
         44
        ],
        "scale": 1,
        "scene": "<openalea.plantgl.scenegraph._pglsg.Scene object at 0x7f2a0d2dcc70>"
       },
       "scene_7Vc1KMXeDOmy2gEgmKmpxiRpq": {
        "offsets": [
         0
        ],
        "position": [
         15,
         -10,
         62
        ],
        "scale": 1,
        "scene": "<openalea.plantgl.scenegraph._pglsg.Scene object at 0x7f2a0d1f9af0>"
       },
       "scene_7ucBPNAmTqzim6Ev7gdVyrqhV": {
        "offsets": [
         0
        ],
        "position": [
         -24,
         -45,
         81
        ],
        "scale": 1,
        "scene": "<openalea.plantgl.scenegraph._pglsg.Scene object at 0x7f2a0de15530>"
       },
       "scene_83fZm9or8f1B8z5kst1TQEsFF": {
        "offsets": [
         0
        ],
        "position": [
         86,
         -79,
         97
        ],
        "scale": 1,
        "scene": "<openalea.plantgl.scenegraph._pglsg.Scene object at 0x7f2a0de2e6f0>"
       },
       "scene_8MV1s15BFWNTttJwqKeT0Nt6X": {
        "offsets": [
         0
        ],
        "position": [
         -40,
         33,
         -75
        ],
        "scale": 1,
        "scene": "<openalea.plantgl.scenegraph._pglsg.Scene object at 0x7f2a0d02d7f0>"
       },
       "scene_8UrePtGH484WU2N5fBWHACRL5": {
        "offsets": [
         0
        ],
        "position": [
         -83,
         -72,
         41
        ],
        "scale": 1,
        "scene": "<openalea.plantgl.scenegraph._pglsg.Scene object at 0x7f2a0d19d430>"
       },
       "scene_8bIJJY3eJZbtRgcjV5aloUVvr": {
        "offsets": [
         0
        ],
        "position": [
         95,
         97,
         95
        ],
        "scale": 1,
        "scene": "<openalea.plantgl.scenegraph._pglsg.Scene object at 0x7f2a0d18dd30>"
       },
       "scene_8xbQpHGVpP5Zhi5nNqd7zYGdC": {
        "offsets": [
         0
        ],
        "position": [
         -33,
         12,
         -46
        ],
        "scale": 1,
        "scene": "<openalea.plantgl.scenegraph._pglsg.Scene object at 0x7f2a0d194730>"
       },
       "scene_93U75VqRHx7TcE2MA7V1Wbfoc": {
        "offsets": [
         0
        ],
        "position": [
         -7,
         126,
         115
        ],
        "scale": 1,
        "scene": "<openalea.plantgl.scenegraph._pglsg.Scene object at 0x7f2a0d2b2db0>"
       },
       "scene_96sfmxinXkfCYvDtgwq5sr6mK": {
        "offsets": [
         0
        ],
        "position": [
         -44,
         91,
         -70
        ],
        "scale": 1,
        "scene": "<openalea.plantgl.scenegraph._pglsg.Scene object at 0x7f2a0de8ffb0>"
       },
       "scene_9MEASAfsfD8sVHPq063ruDLxf": {
        "offsets": [
         0
        ],
        "position": [
         89,
         -124,
         -81
        ],
        "scale": 1,
        "scene": "<openalea.plantgl.scenegraph._pglsg.Scene object at 0x7f2a0d210770>"
       },
       "scene_9V9JZSikwaqRkjJivjhwjRKcY": {
        "offsets": [
         0
        ],
        "position": [
         -99,
         -47,
         78
        ],
        "scale": 1,
        "scene": "<openalea.plantgl.scenegraph._pglsg.Scene object at 0x7f2a0d0e98f0>"
       },
       "scene_9YiAPBY9lPyNR7Rtlq6KcByAu": {
        "offsets": [
         0
        ],
        "position": [
         47,
         -56,
         98
        ],
        "scale": 1,
        "scene": "<openalea.plantgl.scenegraph._pglsg.Scene object at 0x7f2a0d059630>"
       },
       "scene_9h3KMRaIV4xfLIcWIl2v18FRA": {
        "offsets": [
         0
        ],
        "position": [
         82,
         -72,
         0
        ],
        "scale": 1,
        "scene": "<openalea.plantgl.scenegraph._pglsg.Scene object at 0x7f2a0d14d630>"
       },
       "scene_A0lXId26tOV6tI0rdQn11cLD5": {
        "offsets": [
         0
        ],
        "position": [
         -113,
         59,
         0
        ],
        "scale": 1,
        "scene": "<openalea.plantgl.scenegraph._pglsg.Scene object at 0x7f2a0d074130>"
       },
       "scene_AFRSv1VUHyt51bRT10W75a3rY": {
        "offsets": [
         0
        ],
        "position": [
         -118,
         32,
         55
        ],
        "scale": 1,
        "scene": "<openalea.plantgl.scenegraph._pglsg.Scene object at 0x7f2a0d1cbf70>"
       },
       "scene_AHGJkfelsNJTdOBEVhC50sSGQ": {
        "offsets": [
         0
        ],
        "position": [
         109,
         29,
         113
        ],
        "scale": 1,
        "scene": "<openalea.plantgl.scenegraph._pglsg.Scene object at 0x7f2a0d091530>"
       },
       "scene_AcRHn9eZplj5cMGuP7MrLxNiC": {
        "offsets": [
         0
        ],
        "position": [
         -73,
         -26,
         95
        ],
        "scale": 1,
        "scene": "<openalea.plantgl.scenegraph._pglsg.Scene object at 0x7f2a0de3fcf0>"
       },
       "scene_Ad4NKYZbVnegQN5xRD0vwwulI": {
        "offsets": [
         0
        ],
        "position": [
         -17,
         0,
         111
        ],
        "scale": 1,
        "scene": "<openalea.plantgl.scenegraph._pglsg.Scene object at 0x7f2a0dea02f0>"
       },
       "scene_Al9uLH96zP7jO3KJxUJWmdTs0": {
        "offsets": [
         0
        ],
        "position": [
         95,
         -59,
         72
        ],
        "scale": 1,
        "scene": "<openalea.plantgl.scenegraph._pglsg.Scene object at 0x7f2a0deca0b0>"
       },
       "scene_BD61ZhhIYDMGlFRjGKwbpN8n2": {
        "offsets": [
         0
        ],
        "position": [
         0,
         4,
         -90
        ],
        "scale": 1,
        "scene": "<openalea.plantgl.scenegraph._pglsg.Scene object at 0x7f2a0d2887f0>"
       },
       "scene_BVXo8vowrOviRoujiqL7wydMO": {
        "offsets": [
         0
        ],
        "position": [
         -15,
         83,
         -95
        ],
        "scale": 1,
        "scene": "<openalea.plantgl.scenegraph._pglsg.Scene object at 0x7f2a0d34f670>"
       },
       "scene_C2umxtK61DraM7yGh0w02u2LF": {
        "offsets": [
         0
        ],
        "position": [
         -120,
         -114,
         -100
        ],
        "scale": 1,
        "scene": "<openalea.plantgl.scenegraph._pglsg.Scene object at 0x7f2a0d334cf0>"
       },
       "scene_CF4Ls3MbDVmJGHdfGm8QIfdnf": {
        "offsets": [
         0
        ],
        "position": [
         -59,
         85,
         -81
        ],
        "scale": 1,
        "scene": "<openalea.plantgl.scenegraph._pglsg.Scene object at 0x7f2a0d343430>"
       },
       "scene_CQkJBqb8TauszBfffd1ecJohl": {
        "offsets": [
         0
        ],
        "position": [
         63,
         103,
         -42
        ],
        "scale": 1,
        "scene": "<openalea.plantgl.scenegraph._pglsg.Scene object at 0x7f2a0d21bdf0>"
       },
       "scene_CXV9yZF5Ioy4imUi2mbjzusAH": {
        "offsets": [
         0
        ],
        "position": [
         80,
         -5,
         -44
        ],
        "scale": 1,
        "scene": "<openalea.plantgl.scenegraph._pglsg.Scene object at 0x7f2a0d12f370>"
       },
       "scene_CeR4wppYeJ1yEkIwuLaPZH9E8": {
        "offsets": [
         0
        ],
        "position": [
         -74,
         89,
         19
        ],
        "scale": 1,
        "scene": "<openalea.plantgl.scenegraph._pglsg.Scene object at 0x7f2a0de2ed30>"
       },
       "scene_CrODKp6DNumX4f5pEdicwpLTT": {
        "offsets": [
         0
        ],
        "position": [
         -72,
         -124,
         118
        ],
        "scale": 1,
        "scene": "<openalea.plantgl.scenegraph._pglsg.Scene object at 0x7f2a0d1a4730>"
       },
       "scene_CtBhnlJj8s08ZpO40QcNpp7cW": {
        "offsets": [
         0
        ],
        "position": [
         -116,
         98,
         95
        ],
        "scale": 1,
        "scene": "<openalea.plantgl.scenegraph._pglsg.Scene object at 0x7f2a0d1b72f0>"
       },
       "scene_E3DmL1yYwWvpyobaQshbo4knK": {
        "offsets": [
         0
        ],
        "position": [
         -109,
         -77,
         126
        ],
        "scale": 1,
        "scene": "<openalea.plantgl.scenegraph._pglsg.Scene object at 0x7f2a0de1b830>"
       },
       "scene_Eb2c0Jr8TfCnWjS7DUsZzywlk": {
        "offsets": [
         0
        ],
        "position": [
         -73,
         -125,
         37
        ],
        "scale": 1,
        "scene": "<openalea.plantgl.scenegraph._pglsg.Scene object at 0x7f2a0d0c6cb0>"
       },
       "scene_EiaZMcYcknmokD8OJVZiG4xrP": {
        "offsets": [
         0
        ],
        "position": [
         -35,
         123,
         65
        ],
        "scale": 1,
        "scene": "<openalea.plantgl.scenegraph._pglsg.Scene object at 0x7f2a0de15b70>"
       },
       "scene_Elrfb9HjiDhQUfhQLMTCzEyjM": {
        "offsets": [
         0
        ],
        "position": [
         65,
         50,
         81
        ],
        "scale": 1,
        "scene": "<openalea.plantgl.scenegraph._pglsg.Scene object at 0x7f2a0decaeb0>"
       },
       "scene_Er9EXydtPsAk9wc0dYOga4kgS": {
        "offsets": [
         0
        ],
        "position": [
         -68,
         126,
         95
        ],
        "scale": 1,
        "scene": "<openalea.plantgl.scenegraph._pglsg.Scene object at 0x7f2a0d139cb0>"
       },
       "scene_F93D3w9cZEZSrRtQbKSPA9E3H": {
        "offsets": [
         0
        ],
        "position": [
         -4,
         87,
         -65
        ],
        "scale": 1,
        "scene": "<openalea.plantgl.scenegraph._pglsg.Scene object at 0x7f2a0d194d70>"
       },
       "scene_FQtD0EEmL9Hsd9UDx4ziw9kY0": {
        "offsets": [
         0
        ],
        "position": [
         19,
         -119,
         -55
        ],
        "scale": 1,
        "scene": "<openalea.plantgl.scenegraph._pglsg.Scene object at 0x7f2a0d310e30>"
       },
       "scene_FdqWYojlCUszlC6n4sSQZH5W3": {
        "offsets": [
         0
        ],
        "position": [
         -23,
         0,
         42
        ],
        "scale": 1,
        "scene": "<openalea.plantgl.scenegraph._pglsg.Scene object at 0x7f2a0d0a0d30>"
       },
       "scene_FgPHXWXPWJ8EbNVdpPCL9FxLb": {
        "offsets": [
         0
        ],
        "position": [
         3,
         14,
         -57
        ],
        "scale": 1,
        "scene": "<openalea.plantgl.scenegraph._pglsg.Scene object at 0x7f2a0de021b0>"
       },
       "scene_GHrWCSe9NVW2aQQZ86xKRSzhf": {
        "offsets": [
         0
        ],
        "position": [
         94,
         107,
         -53
        ],
        "scale": 1,
        "scene": "<openalea.plantgl.scenegraph._pglsg.Scene object at 0x7f2a0d021d30>"
       },
       "scene_GQyeqGRwp91RmVqWO456dWYK4": {
        "offsets": [
         0
        ],
        "position": [
         53,
         75,
         -3
        ],
        "scale": 1,
        "scene": "<openalea.plantgl.scenegraph._pglsg.Scene object at 0x7f2a0d0bedb0>"
       },
       "scene_GVebDSIdMG9k2qFJIgfOcRqAI": {
        "offsets": [
         0
        ],
        "position": [
         -65,
         12,
         -55
        ],
        "scale": 1,
        "scene": "<openalea.plantgl.scenegraph._pglsg.Scene object at 0x7f2a0d2bfa30>"
       },
       "scene_GWzBIX7ObCKjLg1DyJbAACaNX": {
        "offsets": [
         0
        ],
        "position": [
         -15,
         -58,
         -109
        ],
        "scale": 1,
        "scene": "<openalea.plantgl.scenegraph._pglsg.Scene object at 0x7f2a0de97630>"
       },
       "scene_GdglRMvaKsIjW5Ie9FFU6m0sU": {
        "offsets": [
         0
        ],
        "position": [
         -96,
         67,
         101
        ],
        "scale": 1,
        "scene": "<openalea.plantgl.scenegraph._pglsg.Scene object at 0x7f2a0d14dc70>"
       },
       "scene_Gtf4ShHglDSg4PR3u3H3F6O4e": {
        "offsets": [
         0
        ],
        "position": [
         -92,
         124,
         54
        ],
        "scale": 1,
        "scene": "<openalea.plantgl.scenegraph._pglsg.Scene object at 0x7f2a0d069bf0>"
       },
       "scene_H47grByQpNDlABcNoabQeVL0g": {
        "offsets": [
         0
        ],
        "position": [
         39,
         82,
         74
        ],
        "scale": 1,
        "scene": "<openalea.plantgl.scenegraph._pglsg.Scene object at 0x7f2a0dea0f70>"
       },
       "scene_H4dwFtDHnG2VuD1ssYhKfCO62": {
        "offsets": [
         0
        ],
        "position": [
         31,
         86,
         -49
        ],
        "scale": 1,
        "scene": "<openalea.plantgl.scenegraph._pglsg.Scene object at 0x7f2a0d0be9b0>"
       },
       "scene_HQ3iy0m7H0EE2Tt6D8OGJl9nz": {
        "offsets": [
         0
        ],
        "position": [
         38,
         47,
         -52
        ],
        "scale": 1,
        "scene": "<openalea.plantgl.scenegraph._pglsg.Scene object at 0x7f2a0d326e30>"
       },
       "scene_HSH9IkGKmxzRMH7QkvE0EDL8W": {
        "offsets": [
         0
        ],
        "position": [
         31,
         30,
         -17
        ],
        "scale": 1,
        "scene": "<openalea.plantgl.scenegraph._pglsg.Scene object at 0x7f2a0d2ea2f0>"
       },
       "scene_HWCJZOZxjQqz9Jrb51MgAzqnZ": {
        "offsets": [
         0
        ],
        "position": [
         68,
         -79,
         -77
        ],
        "scale": 1,
        "scene": "<openalea.plantgl.scenegraph._pglsg.Scene object at 0x7f2a0d263870>"
       },
       "scene_HakfhOo2Z45EChrbIIcRgUgrh": {
        "offsets": [
         0
        ],
        "position": [
         -67,
         2,
         1
        ],
        "scale": 1,
        "scene": "<openalea.plantgl.scenegraph._pglsg.Scene object at 0x7f2a0d143970>"
       },
       "scene_HvXiEetoL8SL6TmB2zc8kpMVo": {
        "offsets": [
         0
        ],
        "position": [
         19,
         100,
         -8
        ],
        "scale": 1,
        "scene": "<openalea.plantgl.scenegraph._pglsg.Scene object at 0x7f2a0d34fcb0>"
       },
       "scene_I28hptEgXIJzeUgQCSjbxdCUJ": {
        "offsets": [
         0
        ],
        "position": [
         88,
         25,
         38
        ],
        "scale": 1,
        "scene": "<openalea.plantgl.scenegraph._pglsg.Scene object at 0x7f2a0de8f370>"
       },
       "scene_IWogyypXIeu9RuUOMWV8dDCzW": {
        "offsets": [
         0
        ],
        "position": [
         -17,
         -33,
         14
        ],
        "scale": 1,
        "scene": "<openalea.plantgl.scenegraph._pglsg.Scene object at 0x7f2a0d276070>"
       },
       "scene_IfLAMLsEj0qf0q5kJRV28BHEA": {
        "offsets": [
         0
        ],
        "position": [
         10,
         98,
         -58
        ],
        "scale": 1,
        "scene": "<openalea.plantgl.scenegraph._pglsg.Scene object at 0x7f2a0d182170>"
       },
       "scene_Ik0fndH9tb2dfrzU2UVZDaZ1P": {
        "offsets": [
         0
        ],
        "position": [
         88,
         30,
         -75
        ],
        "scale": 1,
        "scene": "<openalea.plantgl.scenegraph._pglsg.Scene object at 0x7f2a0d19da70>"
       },
       "scene_Ivm60JrHhVMcjAO07ojXYcOC5": {
        "offsets": [
         0
        ],
        "position": [
         -62,
         -69,
         109
        ],
        "scale": 1,
        "scene": "<openalea.plantgl.scenegraph._pglsg.Scene object at 0x7f2a0d15dfb0>"
       },
       "scene_JDtcs8YAjuJaXJBCC5HaUJRKj": {
        "offsets": [
         0
        ],
        "position": [
         109,
         -20,
         -60
        ],
        "scale": 1,
        "scene": "<openalea.plantgl.scenegraph._pglsg.Scene object at 0x7f2a0d18db30>"
       },
       "scene_JE53lf0gCbWXtWzy855ZRBjRA": {
        "offsets": [
         0
        ],
        "position": [
         -45,
         72,
         55
        ],
        "scale": 1,
        "scene": "<openalea.plantgl.scenegraph._pglsg.Scene object at 0x7f2a0d1ae8f0>"
       },
       "scene_JRxNdmnVR86bsYtSfWL4E2UDW": {
        "offsets": [
         0
        ],
        "position": [
         -2,
         111,
         126
        ],
        "scale": 1,
        "scene": "<openalea.plantgl.scenegraph._pglsg.Scene object at 0x7f2a0dea0930>"
       },
       "scene_JcwlmdkWa50wPQq8LO7nBk0eO": {
        "offsets": [
         0
        ],
        "position": [
         -98,
         69,
         68
        ],
        "scale": 1,
        "scene": "<openalea.plantgl.scenegraph._pglsg.Scene object at 0x7f2a0d0880b0>"
       },
       "scene_K06hknnFNhGdJOFhAswPYxDiI": {
        "offsets": [
         0
        ],
        "position": [
         119,
         81,
         -80
        ],
        "scale": 1,
        "scene": "<openalea.plantgl.scenegraph._pglsg.Scene object at 0x7f2a0d24fc30>"
       },
       "scene_K3XFeCzM7NKbubpFrXDwxtZdb": {
        "offsets": [
         0
        ],
        "position": [
         -72,
         -87,
         86
        ],
        "scale": 1,
        "scene": "<openalea.plantgl.scenegraph._pglsg.Scene object at 0x7f2a0d0ef5b0>"
       },
       "scene_KHp6EGMUq0RluSVRO6ttNmZHD": {
        "offsets": [
         0
        ],
        "position": [
         -55,
         -43,
         -17
        ],
        "scale": 1,
        "scene": "<openalea.plantgl.scenegraph._pglsg.Scene object at 0x7f2a0d2d0db0>"
       },
       "scene_KQAQw07JFbtMw4bc1sGN6OYpX": {
        "offsets": [
         0
        ],
        "position": [
         23,
         -121,
         38
        ],
        "scale": 1,
        "scene": "<openalea.plantgl.scenegraph._pglsg.Scene object at 0x7f2a0d2482f0>"
       },
       "scene_KmWvp3C27sDxsGKKwlIzzweqg": {
        "offsets": [
         0
        ],
        "position": [
         -42,
         105,
         73
        ],
        "scale": 1,
        "scene": "<openalea.plantgl.scenegraph._pglsg.Scene object at 0x7f2a0d1eee30>"
       },
       "scene_KrF2vAHLLDmZr8iwgNYdnjhi9": {
        "offsets": [
         0
        ],
        "position": [
         114,
         109,
         111
        ],
        "scale": 1,
        "scene": "<openalea.plantgl.scenegraph._pglsg.Scene object at 0x7f2a0d091b70>"
       },
       "scene_KxoA2tVnlUvON6VJeSM4X4Q5R": {
        "offsets": [
         0
        ],
        "position": [
         -72,
         91,
         -37
        ],
        "scale": 1,
        "scene": "<openalea.plantgl.scenegraph._pglsg.Scene object at 0x7f2a0d2eaf70>"
       },
       "scene_LAGMHw0rqaRjY03L9D3qQYlNe": {
        "offsets": [
         0
        ],
        "position": [
         5,
         101,
         41
        ],
        "scale": 1,
        "scene": "<openalea.plantgl.scenegraph._pglsg.Scene object at 0x7f2a0d26e530>"
       },
       "scene_LOpYNnLOjqNweuGNyI77oItaO": {
        "offsets": [
         0
        ],
        "position": [
         65,
         34,
         68
        ],
        "scale": 1,
        "scene": "<openalea.plantgl.scenegraph._pglsg.Scene object at 0x7f2a0de22470>"
       },
       "scene_LtlCze9DkWGa11BegK0siu46l": {
        "offsets": [
         0
        ],
        "position": [
         -101,
         -11,
         -97
        ],
        "scale": 1,
        "scene": "<openalea.plantgl.scenegraph._pglsg.Scene object at 0x7f2a0d1c0d30>"
       },
       "scene_Lv0VdfCUZXUjjnZL8gp1f7ngn": {
        "offsets": [
         0
        ],
        "position": [
         -13,
         35,
         -54
        ],
        "scale": 1,
        "scene": "<openalea.plantgl.scenegraph._pglsg.Scene object at 0x7f2a0d1e34f0>"
       },
       "scene_M8aHQSHcnhgYNNlsyqhXLPDVi": {
        "offsets": [
         0
        ],
        "position": [
         53,
         28,
         -24
        ],
        "scale": 1,
        "scene": "<openalea.plantgl.scenegraph._pglsg.Scene object at 0x7f2a0d0cf970>"
       },
       "scene_MGFUWvDjq0nAfbQWri3xgAfur": {
        "offsets": [
         0
        ],
        "position": [
         113,
         59,
         21
        ],
        "scale": 1,
        "scene": "<openalea.plantgl.scenegraph._pglsg.Scene object at 0x7f2a0d1aef30>"
       },
       "scene_MUxMagilWKvhY0dRmnxqVZafH": {
        "offsets": [
         0
        ],
        "position": [
         36,
         30,
         -13
        ],
        "scale": 1,
        "scene": "<openalea.plantgl.scenegraph._pglsg.Scene object at 0x7f2a0d2ab470>"
       },
       "scene_MauN1Cd4oCkaVmZkbSssAJtkd": {
        "offsets": [
         0
        ],
        "position": [
         66,
         111,
         -83
        ],
        "scale": 1,
        "scene": "<openalea.plantgl.scenegraph._pglsg.Scene object at 0x7f2a0d1ff7b0>"
       },
       "scene_MpZM2FeutVDIJ7MAat4gxenme": {
        "offsets": [
         0
        ],
        "position": [
         6,
         -22,
         -111
        ],
        "scale": 1,
        "scene": "<openalea.plantgl.scenegraph._pglsg.Scene object at 0x7f2a0d061930>"
       },
       "scene_MqfImtGwSatdZaTKmWgiZIRtX": {
        "offsets": [
         0
        ],
        "position": [
         72,
         32,
         104
        ],
        "scale": 1,
        "scene": "<openalea.plantgl.scenegraph._pglsg.Scene object at 0x7f2a0d105b70>"
       },
       "scene_Mqvit2NFp6huoCLAlLJVfHp2b": {
        "offsets": [
         0
        ],
        "position": [
         -47,
         8,
         -21
        ],
        "scale": 1,
        "scene": "<openalea.plantgl.scenegraph._pglsg.Scene object at 0x7f2a0de369f0>"
       },
       "scene_N1ef7Xh0IojJw0W7B8SzqwFw7": {
        "offsets": [
         0
        ],
        "position": [
         -2,
         106,
         -35
        ],
        "scale": 1,
        "scene": "<openalea.plantgl.scenegraph._pglsg.Scene object at 0x7f2a0de3f6b0>"
       },
       "scene_N9C36LJIQ9UYszj9Vjn6y7LNU": {
        "offsets": [
         0
        ],
        "position": [
         -31,
         86,
         -52
        ],
        "scale": 1,
        "scene": "<openalea.plantgl.scenegraph._pglsg.Scene object at 0x7f2a0d343c70>"
       },
       "scene_NFnewj5rFd2PpZHOWM5AlXY9g": {
        "offsets": [
         0
        ],
        "position": [
         -35,
         -77,
         -25
        ],
        "scale": 1,
        "scene": "<openalea.plantgl.scenegraph._pglsg.Scene object at 0x7f2a0d1b7bf0>"
       },
       "scene_NGzm1QV7irCx4jZFxnrGtR5Xc": {
        "offsets": [
         0
        ],
        "position": [
         -61,
         117,
         -83
        ],
        "scale": 1,
        "scene": "<openalea.plantgl.scenegraph._pglsg.Scene object at 0x7f2a0d0612f0>"
       },
       "scene_NVjoWlzZnDbSXNarbjNRkWTlT": {
        "offsets": [
         0
        ],
        "position": [
         -63,
         91,
         113
        ],
        "scale": 1,
        "scene": "<openalea.plantgl.scenegraph._pglsg.Scene object at 0x7f2a0deb3130>"
       },
       "scene_NqqdrmLKoWg4VSNHflg3qzR5Z": {
        "offsets": [
         0
        ],
        "position": [
         110,
         20,
         106
        ],
        "scale": 1,
        "scene": "<openalea.plantgl.scenegraph._pglsg.Scene object at 0x7f2a0d10fe70>"
       },
       "scene_O2LvTaVYBZgOpThxsvsiP2ss1": {
        "offsets": [
         0
        ],
        "position": [
         -74,
         106,
         46
        ],
        "scale": 1,
        "scene": "<openalea.plantgl.scenegraph._pglsg.Scene object at 0x7f2a0d343a70>"
       },
       "scene_ONVVfEt00bz9OUkq089zsK2Ry": {
        "offsets": [
         0
        ],
        "position": [
         115,
         -87,
         -22
        ],
        "scale": 1,
        "scene": "<openalea.plantgl.scenegraph._pglsg.Scene object at 0x7f2a0d2a07b0>"
       },
       "scene_Op2pwaiYgTzm6rBDVh6BLVXVp": {
        "offsets": [
         0
        ],
        "position": [
         17,
         -24,
         -21
        ],
        "scale": 1,
        "scene": "<openalea.plantgl.scenegraph._pglsg.Scene object at 0x7f2a0d019830>"
       },
       "scene_OvFqhUkGldXklx4tMY3cFTHsa": {
        "offsets": [
         0
        ],
        "position": [
         119,
         94,
         113
        ],
        "scale": 1,
        "scene": "<openalea.plantgl.scenegraph._pglsg.Scene object at 0x7f2a0d163c70>"
       },
       "scene_PDvA9SAKbzLXVwLxiEZc6KcqX": {
        "offsets": [
         0
        ],
        "position": [
         119,
         -114,
         50
        ],
        "scale": 1,
        "scene": "<openalea.plantgl.scenegraph._pglsg.Scene object at 0x7f2a0d10f070>"
       },
       "scene_PFxN1EvvGZ8hsiK4uiBPsZ5Eb": {
        "offsets": [
         0
        ],
        "position": [
         100,
         101,
         -82
        ],
        "scale": 1,
        "scene": "<openalea.plantgl.scenegraph._pglsg.Scene object at 0x7f2a0d2f4c30>"
       },
       "scene_PxLgOxFnNqZNroCFopx5bntGi": {
        "offsets": [
         0
        ],
        "position": [
         -112,
         63,
         122
        ],
        "scale": 1,
        "scene": "<openalea.plantgl.scenegraph._pglsg.Scene object at 0x7f2a0d1a4d70>"
       },
       "scene_QEoT6Oxe4LwPCJ0cq7FgvUQdM": {
        "offsets": [
         0
        ],
        "position": [
         -12,
         -107,
         -45
        ],
        "scale": 1,
        "scene": "<openalea.plantgl.scenegraph._pglsg.Scene object at 0x7f2a0d2abcb0>"
       },
       "scene_QHW6KVSpbwafvLjUqbHmb5yCr": {
        "offsets": [
         0
        ],
        "position": [
         -15,
         -46,
         -108
        ],
        "scale": 1,
        "scene": "<openalea.plantgl.scenegraph._pglsg.Scene object at 0x7f2a0d1cb9f0>"
       },
       "scene_QOb5w6S1I4gmnTAMWlAS20wxa": {
        "offsets": [
         0
        ],
        "position": [
         59,
         13,
         66
        ],
        "scale": 1,
        "scene": "<openalea.plantgl.scenegraph._pglsg.Scene object at 0x7f2a0d24f5f0>"
       },
       "scene_QiKM515gnDO2EWSzEu4VlwR8B": {
        "offsets": [
         0
        ],
        "position": [
         88,
         -95,
         -66
        ],
        "scale": 1,
        "scene": "<openalea.plantgl.scenegraph._pglsg.Scene object at 0x7f2a0d096a30>"
       },
       "scene_QlF1Wys1ueDGJ1xOfO0S6JKAb": {
        "offsets": [
         0
        ],
        "position": [
         -24,
         -68,
         -102
        ],
        "scale": 1,
        "scene": "<openalea.plantgl.scenegraph._pglsg.Scene object at 0x7f2a0d1c06f0>"
       },
       "scene_QmpUxqPjdDraapssFkzrfPjYn": {
        "offsets": [
         0
        ],
        "position": [
         37,
         115,
         -66
        ],
        "scale": 1,
        "scene": "<openalea.plantgl.scenegraph._pglsg.Scene object at 0x7f2a0d12fdb0>"
       },
       "scene_QomRZeCZJWAJ2ZhYCXkZ8qiaj": {
        "offsets": [
         0
        ],
        "position": [
         28,
         -1,
         106
        ],
        "scale": 1,
        "scene": "<openalea.plantgl.scenegraph._pglsg.Scene object at 0x7f2a0d1828b0>"
       },
       "scene_QzPIe1TPWaMuVkCzfOnIHZAup": {
        "offsets": [
         0
        ],
        "position": [
         -51,
         72,
         90
        ],
        "scale": 1,
        "scene": "<openalea.plantgl.scenegraph._pglsg.Scene object at 0x7f2a0d182e70>"
       },
       "scene_RK4c1llvZxzFIS8TXT3lYRKHZ": {
        "offsets": [
         0
        ],
        "position": [
         57,
         75,
         -32
        ],
        "scale": 1,
        "scene": "<openalea.plantgl.scenegraph._pglsg.Scene object at 0x7f2a0d121a30>"
       },
       "scene_RN2agPVQqd6ht2UA4gWJzk3eG": {
        "offsets": [
         0
        ],
        "position": [
         82,
         99,
         60
        ],
        "scale": 1,
        "scene": "<openalea.plantgl.scenegraph._pglsg.Scene object at 0x7f2a0d139670>"
       },
       "scene_Rc4ta2QJIspxiC3rdMfQPNZlx": {
        "offsets": [
         0
        ],
        "position": [
         -49,
         121,
         57
        ],
        "scale": 1,
        "scene": "<openalea.plantgl.scenegraph._pglsg.Scene object at 0x7f2a0d1ee7f0>"
       },
       "scene_RuTwHWig4Dm5OF9pPi8IWZ5jW": {
        "offsets": [
         0
        ],
        "position": [
         68,
         124,
         -85
        ],
        "scale": 1,
        "scene": "<openalea.plantgl.scenegraph._pglsg.Scene object at 0x7f2a0d33bdb0>"
       },
       "scene_S1T4eIMBJy6uXdSe5RoisixUf": {
        "offsets": [
         0
        ],
        "position": [
         38,
         66,
         46
        ],
        "scale": 1,
        "scene": "<openalea.plantgl.scenegraph._pglsg.Scene object at 0x7f2a0d224ab0>"
       },
       "scene_SMiZrSYpFYgWlTwCfxTfBf8lM": {
        "offsets": [
         0
        ],
        "position": [
         -101,
         54,
         -48
        ],
        "scale": 1,
        "scene": "<openalea.plantgl.scenegraph._pglsg.Scene object at 0x7f2a0d1e3d30>"
       },
       "scene_SdxuRbEmzPy8Hxyct8MOe1dUw": {
        "offsets": [
         0
        ],
        "position": [
         61,
         -72,
         49
        ],
        "scale": 1,
        "scene": "<openalea.plantgl.scenegraph._pglsg.Scene object at 0x7f2a0d2d9970>"
       },
       "scene_TWBiHtsrTmonRjOrnQcKlqZV1": {
        "offsets": [
         0
        ],
        "position": [
         -108,
         14,
         -44
        ],
        "scale": 1,
        "scene": "<openalea.plantgl.scenegraph._pglsg.Scene object at 0x7f2a0d224470>"
       },
       "scene_Tsc09VgYyLEg71BqEGInb6XVW": {
        "offsets": [
         0
        ],
        "position": [
         104,
         -86,
         18
        ],
        "scale": 1,
        "scene": "<openalea.plantgl.scenegraph._pglsg.Scene object at 0x7f2a0d2c86b0>"
       },
       "scene_Tx0Kg9z0T5WCoJx71fh9UAL7I": {
        "offsets": [
         0
        ],
        "position": [
         -31,
         -110,
         -94
        ],
        "scale": 1,
        "scene": "<openalea.plantgl.scenegraph._pglsg.Scene object at 0x7f2a0d0fbeb0>"
       },
       "scene_USnw7QUPhHx9mWofNYKuXcbUs": {
        "offsets": [
         0
        ],
        "position": [
         -13,
         -88,
         81
        ],
        "scale": 1,
        "scene": "<openalea.plantgl.scenegraph._pglsg.Scene object at 0x7f2a0d0d62f0>"
       },
       "scene_VhER3qREW3Dvyb84uyyO4dzRy": {
        "offsets": [
         0
        ],
        "position": [
         -86,
         33,
         -11
        ],
        "scale": 1,
        "scene": "<openalea.plantgl.scenegraph._pglsg.Scene object at 0x7f2a0d20c470>"
       },
       "scene_VhhMXVo0zCd5Nn6DPDy5EZoIQ": {
        "offsets": [
         0
        ],
        "position": [
         30,
         106,
         4
        ],
        "scale": 1,
        "scene": "<openalea.plantgl.scenegraph._pglsg.Scene object at 0x7f2a0d127d30>"
       },
       "scene_VrcRTACoUD83KyvLWUBGzLl3y": {
        "offsets": [
         0
        ],
        "position": [
         88,
         11,
         -75
        ],
        "scale": 1,
        "scene": "<openalea.plantgl.scenegraph._pglsg.Scene object at 0x7f2a0d0a06f0>"
       },
       "scene_WFvSRzsKZxfYDQzf91zgyt2Ww": {
        "offsets": [
         0
        ],
        "position": [
         91,
         112,
         -74
        ],
        "scale": 1,
        "scene": "<openalea.plantgl.scenegraph._pglsg.Scene object at 0x7f2a0d315330>"
       },
       "scene_WL4Szncb9TMiby0wN6taZX9um": {
        "offsets": [
         0
        ],
        "position": [
         -59,
         85,
         98
        ],
        "scale": 1,
        "scene": "<openalea.plantgl.scenegraph._pglsg.Scene object at 0x7f2a0d0aa3b0>"
       },
       "scene_WPdy5WwPO413WnWtisftssuFk": {
        "offsets": [
         0
        ],
        "position": [
         -52,
         48,
         -114
        ],
        "scale": 1,
        "scene": "<openalea.plantgl.scenegraph._pglsg.Scene object at 0x7f2a0d292af0>"
       },
       "scene_WaBiol6Nt6I8VcQuHAiRTo8p3": {
        "offsets": [
         0
        ],
        "position": [
         -34,
         35,
         86
        ],
        "scale": 1,
        "scene": "<openalea.plantgl.scenegraph._pglsg.Scene object at 0x7f2a0d276830>"
       },
       "scene_WjnNrTHd1DQpdDrluKWJii9Ji": {
        "offsets": [
         0
        ],
        "position": [
         -3,
         95,
         -83
        ],
        "scale": 1,
        "scene": "<openalea.plantgl.scenegraph._pglsg.Scene object at 0x7f2a0d31d4f0>"
       },
       "scene_WxZKC1TxxTLfW23cJ26I3ahrw": {
        "offsets": [
         0
        ],
        "position": [
         20,
         94,
         100
        ],
        "scale": 1,
        "scene": "<openalea.plantgl.scenegraph._pglsg.Scene object at 0x7f2a0d1e3b30>"
       },
       "scene_XFhLLhcmySKJxkUzVkgxpQbN0": {
        "offsets": [
         0
        ],
        "position": [
         22,
         104,
         95
        ],
        "scale": 1,
        "scene": "<openalea.plantgl.scenegraph._pglsg.Scene object at 0x7f2a0d0efbf0>"
       },
       "scene_XUye8SDZOTXUm9118dFPWUZOP": {
        "offsets": [
         0
        ],
        "position": [
         -90,
         33,
         -108
        ],
        "scale": 1,
        "scene": "<openalea.plantgl.scenegraph._pglsg.Scene object at 0x7f2a0d33b770>"
       },
       "scene_YY1KLux6AE9PegtxZmzjFs4fP": {
        "offsets": [
         0
        ],
        "position": [
         -105,
         4,
         60
        ],
        "scale": 1,
        "scene": "<openalea.plantgl.scenegraph._pglsg.Scene object at 0x7f2a0d059c70>"
       },
       "scene_YdviF5HruD5ldkd6U4b9ehHAc": {
        "offsets": [
         0
        ],
        "position": [
         115,
         -70,
         -55
        ],
        "scale": 1,
        "scene": "<openalea.plantgl.scenegraph._pglsg.Scene object at 0x7f2a0d178c30>"
       },
       "scene_Ys6J6aE6aEpNRsTh0xeHQNPLG": {
        "offsets": [
         0
        ],
        "position": [
         124,
         -57,
         111
        ],
        "scale": 1,
        "scene": "<openalea.plantgl.scenegraph._pglsg.Scene object at 0x7f2a0d2408b0>"
       },
       "scene_ZAsvmp3zoZI7roN5EdnK7iRoc": {
        "offsets": [
         0
        ],
        "position": [
         -24,
         -9,
         17
        ],
        "scale": 1,
        "scene": "<openalea.plantgl.scenegraph._pglsg.Scene object at 0x7f2a0d20ccb0>"
       },
       "scene_ZQNjA2pdUpEE4Cl5focKO9Uiy": {
        "offsets": [
         0
        ],
        "position": [
         -115,
         -35,
         65
        ],
        "scale": 1,
        "scene": "<openalea.plantgl.scenegraph._pglsg.Scene object at 0x7f2a0d1d2cb0>"
       },
       "scene_ZhYq6MOq13oJljSKyN328P3aj": {
        "offsets": [
         0
        ],
        "position": [
         -24,
         -1,
         -90
        ],
        "scale": 1,
        "scene": "<openalea.plantgl.scenegraph._pglsg.Scene object at 0x7f2a0d10f830>"
       },
       "scene_ZlT4lI1qD1PUQvykCmdHwGGDr": {
        "offsets": [
         0
        ],
        "position": [
         105,
         -58,
         18
        ],
        "scale": 1,
        "scene": "<openalea.plantgl.scenegraph._pglsg.Scene object at 0x7f2a0dec0570>"
       },
       "scene_a2UvjQnaz1Ed20H2nY8MwDMwb": {
        "offsets": [
         0
        ],
        "position": [
         -100,
         117,
         -126
        ],
        "scale": 1,
        "scene": "<openalea.plantgl.scenegraph._pglsg.Scene object at 0x7f2a0d088870>"
       },
       "scene_a4SJKBE0cjEtyMAHhPkFAxNLW": {
        "offsets": [
         0
        ],
        "position": [
         76,
         57,
         10
        ],
        "scale": 1,
        "scene": "<openalea.plantgl.scenegraph._pglsg.Scene object at 0x7f2a0d2fbef0>"
       },
       "scene_aMMCiTqLF2nk7cOIiMaXUtZzj": {
        "offsets": [
         0
        ],
        "position": [
         -113,
         77,
         5
        ],
        "scale": 1,
        "scene": "<openalea.plantgl.scenegraph._pglsg.Scene object at 0x7f2a0d0b46b0>"
       },
       "scene_aT0RDGGup2Mc7kOBr3o7j1cMw": {
        "offsets": [
         0
        ],
        "position": [
         -91,
         -79,
         110
        ],
        "scale": 1,
        "scene": "<openalea.plantgl.scenegraph._pglsg.Scene object at 0x7f2a0d0aaf70>"
       },
       "scene_af4m5eQeeH2oWG5lhBK4ysWga": {
        "offsets": [
         0
        ],
        "position": [
         -104,
         -2,
         -33
        ],
        "scale": 1,
        "scene": "<openalea.plantgl.scenegraph._pglsg.Scene object at 0x7f2a0d2c8cf0>"
       },
       "scene_aj1mlHijJxwwt66moJLXincgw": {
        "offsets": [
         0
        ],
        "position": [
         56,
         -116,
         16
        ],
        "scale": 1,
        "scene": "<openalea.plantgl.scenegraph._pglsg.Scene object at 0x7f2a0de1be70>"
       },
       "scene_ajXk3je59NIBwPpNtIGam0lTo": {
        "offsets": [
         0
        ],
        "position": [
         37,
         -3,
         107
        ],
        "scale": 1,
        "scene": "<openalea.plantgl.scenegraph._pglsg.Scene object at 0x7f2a0d143fb0>"
       },
       "scene_bEzSoulQJSGkeBu2TmE6exg3X": {
        "offsets": [
         0
        ],
        "position": [
         -1,
         -87,
         -30
        ],
        "scale": 1,
        "scene": "<openalea.plantgl.scenegraph._pglsg.Scene object at 0x7f2a0d2abab0>"
       },
       "scene_bpYBhNVR5nE2N4OhLAH5mph74": {
        "offsets": [
         0
        ],
        "position": [
         73,
         -64,
         -28
        ],
        "scale": 1,
        "scene": "<openalea.plantgl.scenegraph._pglsg.Scene object at 0x7f2a0d237df0>"
       },
       "scene_cJTE70BCXHLrqtjDYFxiZdWYD": {
        "offsets": [
         0
        ],
        "position": [
         -104,
         49,
         -67
        ],
        "scale": 1,
        "scene": "<openalea.plantgl.scenegraph._pglsg.Scene object at 0x7f2a0d2d9fb0>"
       },
       "scene_cXISGgiQuNZPnUyt8s1kI7WRs": {
        "offsets": [
         0
        ],
        "position": [
         -93,
         23,
         -90
        ],
        "scale": 1,
        "scene": "<openalea.plantgl.scenegraph._pglsg.Scene object at 0x7f2a0d0be370>"
       },
       "scene_dIKWx5N0UEKPdxwvQ7VmN1X9h": {
        "offsets": [
         0
        ],
        "position": [
         77,
         113,
         84
        ],
        "scale": 1,
        "scene": "<openalea.plantgl.scenegraph._pglsg.Scene object at 0x7f2a0d2d0370>"
       },
       "scene_dJofjmQh3V3aEKoDmrJNA7RFN": {
        "offsets": [
         0
        ],
        "position": [
         120,
         -74,
         43
        ],
        "scale": 1,
        "scene": "<openalea.plantgl.scenegraph._pglsg.Scene object at 0x7f2a0d15d330>"
       },
       "scene_dfH9MrXGizMyKPGjDD2TqwiFo": {
        "offsets": [
         0
        ],
        "position": [
         -80,
         -60,
         121
        ],
        "scale": 1,
        "scene": "<openalea.plantgl.scenegraph._pglsg.Scene object at 0x7f2a0d121bf0>"
       },
       "scene_dwpjWtQGPYqcZ6V9BaffHCk5o": {
        "offsets": [
         0
        ],
        "position": [
         22,
         87,
         60
        ],
        "scale": 1,
        "scene": "<openalea.plantgl.scenegraph._pglsg.Scene object at 0x7f2a0d143330>"
       },
       "scene_e1FcyAALUuhpriorKv4SCbspW": {
        "offsets": [
         0
        ],
        "position": [
         32,
         62,
         -53
        ],
        "scale": 1,
        "scene": "<openalea.plantgl.scenegraph._pglsg.Scene object at 0x7f2a0d12f9b0>"
       },
       "scene_eKuS57BSEp1oejywSYdKsamaL": {
        "offsets": [
         0
        ],
        "position": [
         51,
         38,
         65
        ],
        "scale": 1,
        "scene": "<openalea.plantgl.scenegraph._pglsg.Scene object at 0x7f2a0d27fd30>"
       },
       "scene_eQS3hTKs6KvPLFMJFMA8dwtT6": {
        "offsets": [
         0
        ],
        "position": [
         76,
         74,
         21
        ],
        "scale": 1,
        "scene": "<openalea.plantgl.scenegraph._pglsg.Scene object at 0x7f2a0d061f70>"
       },
       "scene_ei9DwIirzfwQaDUhnPne6pqr9": {
        "offsets": [
         0
        ],
        "position": [
         126,
         -91,
         74
        ],
        "scale": 1,
        "scene": "<openalea.plantgl.scenegraph._pglsg.Scene object at 0x7f2a0d315830>"
       },
       "scene_ejV8I1iG4GFRl0rYrHfgemWTo": {
        "offsets": [
         0
        ],
        "position": [
         17,
         -20,
         101
        ],
        "scale": 1,
        "scene": "<openalea.plantgl.scenegraph._pglsg.Scene object at 0x7f2a0d019e70>"
       },
       "scene_ekX9DIDWNywrdiZcUVSBMkHhr": {
        "offsets": [
         0
        ],
        "position": [
         -42,
         65,
         -9
        ],
        "scale": 1,
        "scene": "<openalea.plantgl.scenegraph._pglsg.Scene object at 0x7f2a0d0e9170>"
       },
       "scene_fTY5tSfW2GokcF9ErVGWnUuEc": {
        "offsets": [
         0
        ],
        "position": [
         -79,
         -44,
         109
        ],
        "scale": 1,
        "scene": "<openalea.plantgl.scenegraph._pglsg.Scene object at 0x7f2a0d3267f0>"
       },
       "scene_fmLNjOHmE0p7UyYqnLzUrZXo9": {
        "offsets": [
         0
        ],
        "position": [
         -91,
         -111,
         -52
        ],
        "scale": 1,
        "scene": "<openalea.plantgl.scenegraph._pglsg.Scene object at 0x7f2a0d105530>"
       },
       "scene_g4969PZOXIxE3k41cCjtrLGDq": {
        "offsets": [
         0
        ],
        "position": [
         -23,
         -79,
         -64
        ],
        "scale": 1,
        "scene": "<openalea.plantgl.scenegraph._pglsg.Scene object at 0x7f2a0d304fb0>"
       },
       "scene_gVDRf3Ay5e2QMOOLis0HNgjCC": {
        "offsets": [
         0
        ],
        "position": [
         -100,
         107,
         4
        ],
        "scale": 1,
        "scene": "<openalea.plantgl.scenegraph._pglsg.Scene object at 0x7f2a0d2ea930>"
       },
       "scene_ghFM7OmhbuAtcbJT91Xd4o8qb": {
        "offsets": [
         0
        ],
        "position": [
         113,
         73,
         -103
        ],
        "scale": 1,
        "scene": "<openalea.plantgl.scenegraph._pglsg.Scene object at 0x7f2a0d074ef0>"
       },
       "scene_gsKZQvCXiDj1ePltQfKpfNVIC": {
        "offsets": [
         0
        ],
        "position": [
         -111,
         -12,
         -20
        ],
        "scale": 1,
        "scene": "<openalea.plantgl.scenegraph._pglsg.Scene object at 0x7f2a0d2fb870>"
       },
       "scene_gwDg1k5tvbCHMXqkxy0eZYIMh": {
        "offsets": [
         0
        ],
        "position": [
         -72,
         91,
         -44
        ],
        "scale": 1,
        "scene": "<openalea.plantgl.scenegraph._pglsg.Scene object at 0x7f2a0d07d570>"
       },
       "scene_hwSeDTMdSajm2r8GThrPBSwNM": {
        "offsets": [
         0
        ],
        "position": [
         -35,
         -1,
         -101
        ],
        "scale": 1,
        "scene": "<openalea.plantgl.scenegraph._pglsg.Scene object at 0x7f2a0d3344b0>"
       },
       "scene_iZPROtd8WP15DfTpxK04IdpsS": {
        "offsets": [
         0
        ],
        "position": [
         69,
         53,
         -32
        ],
        "scale": 1,
        "scene": "<openalea.plantgl.scenegraph._pglsg.Scene object at 0x7f2a0d0e0c30>"
       },
       "scene_j22G0AqA371v9sel9pnVwJrDS": {
        "offsets": [
         0
        ],
        "position": [
         19,
         32,
         -68
        ],
        "scale": 1,
        "scene": "<openalea.plantgl.scenegraph._pglsg.Scene object at 0x7f2a0d0c6670>"
       },
       "scene_jKqL9cDHU8niCwQFVnru4NWyf": {
        "offsets": [
         0
        ],
        "position": [
         51,
         84,
         -102
        ],
        "scale": 1,
        "scene": "<openalea.plantgl.scenegraph._pglsg.Scene object at 0x7f2a0d292e70>"
       },
       "scene_jLzTPJ3MabmydqUpwgk4Dv7DI": {
        "offsets": [
         0
        ],
        "position": [
         29,
         -42,
         92
        ],
        "scale": 1,
        "scene": "<openalea.plantgl.scenegraph._pglsg.Scene object at 0x7f2a0d2f45f0>"
       },
       "scene_jVLzRirox7VfarzXOBh7eixw4": {
        "offsets": [
         0
        ],
        "position": [
         -97,
         -75,
         15
        ],
        "scale": 1,
        "scene": "<openalea.plantgl.scenegraph._pglsg.Scene object at 0x7f2a0d0d6930>"
       },
       "scene_jcRWH9AlSPtA83uZdu3S3McIl": {
        "offsets": [
         0
        ],
        "position": [
         32,
         -83,
         -54
        ],
        "scale": 1,
        "scene": "<openalea.plantgl.scenegraph._pglsg.Scene object at 0x7f2a0d21b7b0>"
       },
       "scene_jswO7w29mYOoZe3fXR5xtQG99": {
        "offsets": [
         0
        ],
        "position": [
         -69,
         -35,
         -24
        ],
        "scale": 1,
        "scene": "<openalea.plantgl.scenegraph._pglsg.Scene object at 0x7f2a0d2fb170>"
       },
       "scene_jw6emEVEWox3YI8fE13KIbrfW": {
        "offsets": [
         0
        ],
        "position": [
         -80,
         -74,
         81
        ],
        "scale": 1,
        "scene": "<openalea.plantgl.scenegraph._pglsg.Scene object at 0x7f2a0d224cb0>"
       },
       "scene_jz3XfH1A7ByteaLLZt3fXHaFg": {
        "offsets": [
         0
        ],
        "position": [
         90,
         90,
         45
        ],
        "scale": 1,
        "scene": "<openalea.plantgl.scenegraph._pglsg.Scene object at 0x7f2a0d26eb70>"
       },
       "scene_k3cTJGqRwCOBvsxFHeZ3jNV4d": {
        "offsets": [
         0
        ],
        "position": [
         61,
         -25,
         48
        ],
        "scale": 1,
        "scene": "<openalea.plantgl.scenegraph._pglsg.Scene object at 0x7f2a0d304570>"
       },
       "scene_kITRTu29uOzafIrCttkFz0xUJ": {
        "offsets": [
         0
        ],
        "position": [
         21,
         39,
         57
        ],
        "scale": 1,
        "scene": "<openalea.plantgl.scenegraph._pglsg.Scene object at 0x7f2a0de8f930>"
       },
       "scene_kTs6c8Irn2XY88fTjogdkyifn": {
        "offsets": [
         0
        ],
        "position": [
         23,
         101,
         -85
        ],
        "scale": 1,
        "scene": "<openalea.plantgl.scenegraph._pglsg.Scene object at 0x7f2a0de22f70>"
       },
       "scene_kW76VNufhPKSLbzulLd92VnrR": {
        "offsets": [
         0
        ],
        "position": [
         -101,
         -93,
         -40
        ],
        "scale": 1,
        "scene": "<openalea.plantgl.scenegraph._pglsg.Scene object at 0x7f2a0d2630b0>"
       },
       "scene_kYQrXO8DDS0VeuaIMfQKyyyDC": {
        "offsets": [
         0
        ],
        "position": [
         -33,
         -79,
         113
        ],
        "scale": 1,
        "scene": "<openalea.plantgl.scenegraph._pglsg.Scene object at 0x7f2a0d237430>"
       },
       "scene_krQ8JcVlsBbbOwfNvvnZQnCvb": {
        "offsets": [
         0
        ],
        "position": [
         -54,
         -66,
         -18
        ],
        "scale": 1,
        "scene": "<openalea.plantgl.scenegraph._pglsg.Scene object at 0x7f2a0d1d2670>"
       },
       "scene_l4kq0neJ5JPzfEjx1LtKgwhLG": {
        "offsets": [
         0
        ],
        "position": [
         -121,
         102,
         8
        ],
        "scale": 1,
        "scene": "<openalea.plantgl.scenegraph._pglsg.Scene object at 0x7f2a0de02cf0>"
       },
       "scene_lDPRUTjvzIyz5lZoq7NxAC6cQ": {
        "offsets": [
         0
        ],
        "position": [
         105,
         61,
         -6
        ],
        "scale": 1,
        "scene": "<openalea.plantgl.scenegraph._pglsg.Scene object at 0x7f2a0d1f94b0>"
       },
       "scene_lFprRlP5x7vNuWcAfbJi2yXVd": {
        "offsets": [
         0
        ],
        "position": [
         -6,
         2,
         40
        ],
        "scale": 1,
        "scene": "<openalea.plantgl.scenegraph._pglsg.Scene object at 0x7f2a0d1f9e70>"
       },
       "scene_laRQri5y22JEHPHr5Jcc0XvzQ": {
        "offsets": [
         0
        ],
        "position": [
         -120,
         98,
         -104
        ],
        "scale": 1,
        "scene": "<openalea.plantgl.scenegraph._pglsg.Scene object at 0x7f2a0d021b30>"
       },
       "scene_lnGBh5wcKP9CYCc2h3JdXOrTa": {
        "offsets": [
         0
        ],
        "position": [
         98,
         -20,
         -22
        ],
        "scale": 1,
        "scene": "<openalea.plantgl.scenegraph._pglsg.Scene object at 0x7f2a0d259670>"
       },
       "scene_lnV3bnRWW7oK9g2dQHWnScprV": {
        "offsets": [
         0
        ],
        "position": [
         -93,
         112,
         99
        ],
        "scale": 1,
        "scene": "<openalea.plantgl.scenegraph._pglsg.Scene object at 0x7f2a0d0214f0>"
       },
       "scene_m1H0hmMq9prwSRbcGz8BeFH98": {
        "offsets": [
         0
        ],
        "position": [
         120,
         11,
         0
        ],
        "scale": 1,
        "scene": "<openalea.plantgl.scenegraph._pglsg.Scene object at 0x7f2a0d02de30>"
       },
       "scene_m8eTxFEF112GfnZvkE2pfNLMc": {
        "offsets": [
         0
        ],
        "position": [
         68,
         -32,
         -56
        ],
        "scale": 1,
        "scene": "<openalea.plantgl.scenegraph._pglsg.Scene object at 0x7f2a0d1cb3b0>"
       },
       "scene_mAbTReZKA0X18CX8EffS3E13f": {
        "offsets": [
         0
        ],
        "position": [
         -101,
         79,
         -97
        ],
        "scale": 1,
        "scene": "<openalea.plantgl.scenegraph._pglsg.Scene object at 0x7f2a0deb38b0>"
       },
       "scene_mIOeK87tipZfF43NdGziCiGdn": {
        "offsets": [
         0
        ],
        "position": [
         34,
         -101,
         -101
        ],
        "scale": 1,
        "scene": "<openalea.plantgl.scenegraph._pglsg.Scene object at 0x7f2a0d259bf0>"
       },
       "scene_mKDmRx4MsttkQc3qK6yCPxNhs": {
        "offsets": [
         0
        ],
        "position": [
         -125,
         -112,
         -70
        ],
        "scale": 1,
        "scene": "<openalea.plantgl.scenegraph._pglsg.Scene object at 0x7f2a0d334af0>"
       },
       "scene_mljuYJ5ZrAJvrvCTpT55dWHlL": {
        "offsets": [
         0
        ],
        "position": [
         -69,
         82,
         -67
        ],
        "scale": 1,
        "scene": "<openalea.plantgl.scenegraph._pglsg.Scene object at 0x7f2a0d0e9f30>"
       },
       "scene_mz7LNtFVgm1dFL3vvfT4tLeQs": {
        "offsets": [
         0
        ],
        "position": [
         21,
         125,
         -58
        ],
        "scale": 1,
        "scene": "<openalea.plantgl.scenegraph._pglsg.Scene object at 0x7f2a0d248930>"
       },
       "scene_nU0bb3yHKSuL3ONdKUjEoq0Z3": {
        "offsets": [
         0
        ],
        "position": [
         -86,
         56,
         -61
        ],
        "scale": 1,
        "scene": "<openalea.plantgl.scenegraph._pglsg.Scene object at 0x7f2a0d16d2f0>"
       },
       "scene_nYCbQ8wgY3Vsqiu29c8U5DBEV": {
        "offsets": [
         0
        ],
        "position": [
         -34,
         -92,
         -45
        ],
        "scale": 1,
        "scene": "<openalea.plantgl.scenegraph._pglsg.Scene object at 0x7f2a0d248f70>"
       },
       "scene_nxA1THMCVR3BN5QOAhVt9RCtU": {
        "offsets": [
         0
        ],
        "position": [
         18,
         -108,
         -55
        ],
        "scale": 1,
        "scene": "<openalea.plantgl.scenegraph._pglsg.Scene object at 0x7f2a0d0695f0>"
       },
       "scene_oIQhV9dmvAkLVVrhssmkBgg4E": {
        "offsets": [
         0
        ],
        "position": [
         -71,
         4,
         66
        ],
        "scale": 1,
        "scene": "<openalea.plantgl.scenegraph._pglsg.Scene object at 0x7f2a0d304bb0>"
       },
       "scene_oMQlWKLp29OGB4YqoR84Y5ZY6": {
        "offsets": [
         0
        ],
        "position": [
         17,
         75,
         -63
        ],
        "scale": 1,
        "scene": "<openalea.plantgl.scenegraph._pglsg.Scene object at 0x7f2a0d07dbb0>"
       },
       "scene_onCpfnMurhkEhvSlaZ72dpNjP": {
        "offsets": [
         0
        ],
        "position": [
         73,
         -50,
         111
        ],
        "scale": 1,
        "scene": "<openalea.plantgl.scenegraph._pglsg.Scene object at 0x7f2a0d210db0>"
       },
       "scene_ow4gLJ6NmVqgGrRh5gRMbWvGc": {
        "offsets": [
         0
        ],
        "position": [
         -11,
         98,
         22
        ],
        "scale": 1,
        "scene": "<openalea.plantgl.scenegraph._pglsg.Scene object at 0x7f2a0d315e70>"
       },
       "scene_p4fDknEyswT2vEpnhAtI0wgOF": {
        "offsets": [
         0
        ],
        "position": [
         -98,
         -125,
         75
        ],
        "scale": 1,
        "scene": "<openalea.plantgl.scenegraph._pglsg.Scene object at 0x7f2a0d1785f0>"
       },
       "scene_p5lxQjrVaGD8fjlayI4VLsbHa": {
        "offsets": [
         0
        ],
        "position": [
         59,
         -9,
         -2
        ],
        "scale": 1,
        "scene": "<openalea.plantgl.scenegraph._pglsg.Scene object at 0x7f2a0d2b2770>"
       },
       "scene_pJRtQjO7hJg9U7zUTQDdgdZAH": {
        "offsets": [
         0
        ],
        "position": [
         104,
         54,
         -46
        ],
        "scale": 1,
        "scene": "<openalea.plantgl.scenegraph._pglsg.Scene object at 0x7f2a0d1ffdf0>"
       },
       "scene_pVbXDIUlYsnA0fooqKDq8ruJd": {
        "offsets": [
         0
        ],
        "position": [
         69,
         -6,
         -78
        ],
        "scale": 1,
        "scene": "<openalea.plantgl.scenegraph._pglsg.Scene object at 0x7f2a0d29aaf0>"
       },
       "scene_q14kyk6jlSN7Aic4ZMRTBvxiz": {
        "offsets": [
         0
        ],
        "position": [
         -79,
         100,
         -55
        ],
        "scale": 1,
        "scene": "<openalea.plantgl.scenegraph._pglsg.Scene object at 0x7f2a0d2bf430>"
       },
       "scene_q9DFdiPPcDwKBp7Ok5kUPWHSp": {
        "offsets": [
         0
        ],
        "position": [
         111,
         4,
         101
        ],
        "scale": 1,
        "scene": "<openalea.plantgl.scenegraph._pglsg.Scene object at 0x7f2a0d31dd30>"
       },
       "scene_qEoFPGYf3xqypVKnYye4ZHwiD": {
        "offsets": [
         0
        ],
        "position": [
         -43,
         115,
         97
        ],
        "scale": 1,
        "scene": "<openalea.plantgl.scenegraph._pglsg.Scene object at 0x7f2a0deab5f0>"
       },
       "scene_qNcxFG7utI14VsDbMYUCecpie": {
        "offsets": [
         0
        ],
        "position": [
         -71,
         -63,
         86
        ],
        "scale": 1,
        "scene": "<openalea.plantgl.scenegraph._pglsg.Scene object at 0x7f2a0d0748b0>"
       },
       "scene_qOcgHqGuG1wvCizk7aDtzlaI8": {
        "offsets": [
         0
        ],
        "position": [
         41,
         94,
         14
        ],
        "scale": 1,
        "scene": "<openalea.plantgl.scenegraph._pglsg.Scene object at 0x7f2a0d2dc630>"
       },
       "scene_qZjejenKzWduyE34rqlnrkunn": {
        "offsets": [
         0
        ],
        "position": [
         54,
         -62,
         89
        ],
        "scale": 1,
        "scene": "<openalea.plantgl.scenegraph._pglsg.Scene object at 0x7f2a0d16d930>"
       },
       "scene_rnokBCpUAfJvnr0vweIiIMQfc": {
        "offsets": [
         0
        ],
        "position": [
         113,
         -110,
         -40
        ],
        "scale": 1,
        "scene": "<openalea.plantgl.scenegraph._pglsg.Scene object at 0x7f2a0de1b070>"
       },
       "scene_s59cMkrWQOKWmF3vToUg5vIcs": {
        "offsets": [
         0
        ],
        "position": [
         57,
         97,
         -113
        ],
        "scale": 1,
        "scene": "<openalea.plantgl.scenegraph._pglsg.Scene object at 0x7f2a0de97c70>"
       },
       "scene_sI5PQlxMZeSfoVuwTIVgjHWk0": {
        "offsets": [
         0
        ],
        "position": [
         -35,
         14,
         -124
        ],
        "scale": 1,
        "scene": "<openalea.plantgl.scenegraph._pglsg.Scene object at 0x7f2a0d2d09b0>"
       },
       "scene_smh1hfVzpZLGukQNUMQuD65is": {
        "offsets": [
         0
        ],
        "position": [
         32,
         -41,
         -15
        ],
        "scale": 1,
        "scene": "<openalea.plantgl.scenegraph._pglsg.Scene object at 0x7f2a0d22d770>"
       },
       "scene_suWrMwWMVJdOEzsmMJGt5D0sO": {
        "offsets": [
         0
        ],
        "position": [
         5,
         -52,
         -74
        ],
        "scale": 1,
        "scene": "<openalea.plantgl.scenegraph._pglsg.Scene object at 0x7f2a0d1ae170>"
       },
       "scene_tAcng2zJZPaEswvqb6OlFFeHt": {
        "offsets": [
         0
        ],
        "position": [
         16,
         38,
         92
        ],
        "scale": 1,
        "scene": "<openalea.plantgl.scenegraph._pglsg.Scene object at 0x7f2a0d0d6f70>"
       },
       "scene_tCRUp36v9ZCFrKaPaPBYhxinT": {
        "offsets": [
         0
        ],
        "position": [
         107,
         112,
         64
        ],
        "scale": 1,
        "scene": "<openalea.plantgl.scenegraph._pglsg.Scene object at 0x7f2a0d096bf0>"
       },
       "scene_tQ2OKqG5J0A9DOFNWTkDbxViw": {
        "offsets": [
         0
        ],
        "position": [
         34,
         104,
         -20
        ],
        "scale": 1,
        "scene": "<openalea.plantgl.scenegraph._pglsg.Scene object at 0x7f2a0dec0bb0>"
       },
       "scene_timggBkv5Gq3DBLRUtDls4DZ4": {
        "offsets": [
         0
        ],
        "position": [
         26,
         20,
         63
        ],
        "scale": 1,
        "scene": "<openalea.plantgl.scenegraph._pglsg.Scene object at 0x7f2a0d22ddb0>"
       },
       "scene_ux1Aa0GhIPY1fSqiPBXl6c8aq": {
        "offsets": [
         0
        ],
        "position": [
         -57,
         10,
         100
        ],
        "scale": 1,
        "scene": "<openalea.plantgl.scenegraph._pglsg.Scene object at 0x7f2a0d0cffb0>"
       },
       "scene_vDPei3U7iF26xpyZw0BQkVlbd": {
        "offsets": [
         0
        ],
        "position": [
         80,
         -79,
         13
        ],
        "scale": 1,
        "scene": "<openalea.plantgl.scenegraph._pglsg.Scene object at 0x7f2a0de36f70>"
       },
       "scene_vQQn4l7ZDl1hb6kg1tkxZEPbL": {
        "offsets": [
         0
        ],
        "position": [
         81,
         68,
         4
        ],
        "scale": 1,
        "scene": "<openalea.plantgl.scenegraph._pglsg.Scene object at 0x7f2a0d3107f0>"
       },
       "scene_wmTEgooH0Lf97OMmifXIbOVs2": {
        "offsets": [
         0
        ],
        "position": [
         -9,
         -32,
         106
        ],
        "scale": 1,
        "scene": "<openalea.plantgl.scenegraph._pglsg.Scene object at 0x7f2a0d2406f0>"
       },
       "scene_xQtwSTulIkNeMZWTXrFUxfYeX": {
        "offsets": [
         0
        ],
        "position": [
         71,
         -18,
         -56
        ],
        "scale": 1,
        "scene": "<openalea.plantgl.scenegraph._pglsg.Scene object at 0x7f2a0d1d9870>"
       },
       "scene_xS1lQ6fKNLTMmjrMiRTzcWdtL": {
        "offsets": [
         0
        ],
        "position": [
         75,
         -32,
         -47
        ],
        "scale": 1,
        "scene": "<openalea.plantgl.scenegraph._pglsg.Scene object at 0x7f2a0d18d4f0>"
       },
       "scene_xZ5iRAKAPPk6KQ0H7kUyI8n7X": {
        "offsets": [
         0
        ],
        "position": [
         58,
         104,
         55
        ],
        "scale": 1,
        "scene": "<openalea.plantgl.scenegraph._pglsg.Scene object at 0x7f2a0d29a4b0>"
       },
       "scene_yBN0nmRRntdIbO4hzPCrvn0Qt": {
        "offsets": [
         0
        ],
        "position": [
         95,
         100,
         -2
        ],
        "scale": 1,
        "scene": "<openalea.plantgl.scenegraph._pglsg.Scene object at 0x7f2a0d20cab0>"
       },
       "scene_yHiuS991vJuSH8e7YaK3Bs9Tz": {
        "offsets": [
         0
        ],
        "position": [
         -16,
         -31,
         85
        ],
        "scale": 1,
        "scene": "<openalea.plantgl.scenegraph._pglsg.Scene object at 0x7f2a0d31db30>"
       },
       "scene_yUO39A2nnnqpSJgqTgRSBVnVl": {
        "offsets": [
         0
        ],
        "position": [
         -58,
         -36,
         -53
        ],
        "scale": 1,
        "scene": "<openalea.plantgl.scenegraph._pglsg.Scene object at 0x7f2a0deca870>"
       },
       "scene_yUbSIxtmxsGcfDH62xpkXtGIn": {
        "offsets": [
         0
        ],
        "position": [
         85,
         67,
         93
        ],
        "scale": 1,
        "scene": "<openalea.plantgl.scenegraph._pglsg.Scene object at 0x7f2a0d237a70>"
       },
       "scene_yZqzYPVqdRDXOczEvNJ0WwkKz": {
        "offsets": [
         0
        ],
        "position": [
         94,
         -89,
         -54
        ],
        "scale": 1,
        "scene": "<openalea.plantgl.scenegraph._pglsg.Scene object at 0x7f2a0de02530>"
       },
       "scene_yivek8RNSGA5KWx4ysoPzITij": {
        "offsets": [
         0
        ],
        "position": [
         -81,
         -62,
         -94
        ],
        "scale": 1,
        "scene": "<openalea.plantgl.scenegraph._pglsg.Scene object at 0x7f2a0d163630>"
       },
       "scene_yspTuuQL9QKfTAkYjzdjJFVAd": {
        "offsets": [
         0
        ],
        "position": [
         2,
         -95,
         -126
        ],
        "scale": 1,
        "scene": "<openalea.plantgl.scenegraph._pglsg.Scene object at 0x7f2a0d1276f0>"
       },
       "scene_zFx0xcpJFaE5cOdDGqRuTDPWt": {
        "offsets": [
         0
        ],
        "position": [
         28,
         -47,
         39
        ],
        "scale": 1,
        "scene": "<openalea.plantgl.scenegraph._pglsg.Scene object at 0x7f2a0d29af70>"
       },
       "scene_zLc8YjR6kUrol2DLGbGZLMChA": {
        "offsets": [
         0
        ],
        "position": [
         -43,
         -6,
         12
        ],
        "scale": 1,
        "scene": "<openalea.plantgl.scenegraph._pglsg.Scene object at 0x7f2a0d1b7a30>"
       },
       "scene_zqsRCl0QBDet4Xi3swYwB1qNB": {
        "offsets": [
         0
        ],
        "position": [
         32,
         -124,
         -106
        ],
        "scale": 1,
        "scene": "<openalea.plantgl.scenegraph._pglsg.Scene object at 0x7f2a0d0fb0f0>"
       },
       "size_display": [
        600,
        400
       ],
       "size_world": [
        255,
        255,
        255
       ]
      }
     },
     "8011c6b85fa5458e8939ffd5572d2119": {
      "model_module": "@jupyter-widgets/base",
      "model_module_version": "1.2.0",
      "model_name": "LayoutModel",
      "state": {}
     },
     "88cf3c572b914ad4a9da238fc68087e2": {
      "buffers": [
       {
        "data": "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",
        "encoding": "base64",
        "path": [
         "scene",
         "drc"
        ]
       }
      ],
      "model_module": "pgljupyter",
      "model_module_version": "^0.1.0",
      "model_name": "SceneWidgetModel",
      "state": {
       "_model_module_version": "^0.1.0",
       "_view_module_version": "^0.1.0",
       "axes_helper": false,
       "layout": "IPY_MODEL_8011c6b85fa5458e8939ffd5572d2119",
       "light_helper": false,
       "plane": true,
       "scene": {
        "offsets": [
         0
        ],
        "position": [
         0,
         0,
         0
        ],
        "scale": 1,
        "scene": "<openalea.plantgl.scenegraph._pglsg.Scene object at 0x7f2a0d0efab0>"
       },
       "size_display": [
        600,
        400
       ],
       "size_world": [
        255,
        255,
        255
       ]
      }
     },
     "94128d0b024940dbbefaa65ccdf83635": {
      "model_module": "pgljupyter",
      "model_module_version": "^0.1.0",
      "model_name": "SceneWidgetModel",
      "state": {
       "_model_module_version": "^0.1.0",
       "_view_module_version": "^0.1.0",
       "axes_helper": false,
       "layout": "IPY_MODEL_1131ec9f9b8943c9bf1ed94c5c0f5b02",
       "light_helper": false,
       "plane": true,
       "size_display": [
        600,
        400
       ],
       "size_world": [
        255,
        255,
        255
       ]
      }
     },
     "98462fb17c85438e86effe2d74565eaa": {
      "model_module": "@jupyter-widgets/base",
      "model_module_version": "1.2.0",
      "model_name": "LayoutModel",
      "state": {}
     },
     "bfff3bd332174a9885b1fd6aa05f8c2b": {
      "model_module": "@jupyter-widgets/base",
      "model_module_version": "1.2.0",
      "model_name": "LayoutModel",
      "state": {}
     },
     "c08171669a7144b693bc69d109bbdffc": {
      "model_module": "pgljupyter",
      "model_module_version": "^0.1.0",
      "model_name": "SceneWidgetModel",
      "state": {
       "_model_module_version": "^0.1.0",
       "_view_module_version": "^0.1.0",
       "layout": "IPY_MODEL_eda4c6e530084d9fa735bc685d6bb166",
       "scene_0lYTiZw3lgaThU3iDTnLVSALo": {
        "drc": {},
        "offsets": [
         0
        ],
        "position": [
         99,
         -52,
         88
        ],
        "scale": 1,
        "scene": "<openalea.plantgl.scenegraph._pglsg.Scene object at 0x7f48829bfc38>"
       },
       "scene_0v71Tp0hzlR7LkvYmqC9ydB1w": {
        "drc": {},
        "offsets": [
         0
        ],
        "position": [
         46,
         64,
         -96
        ],
        "scale": 1,
        "scene": "<openalea.plantgl.scenegraph._pglsg.Scene object at 0x7f48828db768>"
       },
       "scene_15SnGBnL6dQl4gzxIh2ctaS55": {
        "drc": {},
        "offsets": [
         0
        ],
        "position": [
         124,
         76,
         -107
        ],
        "scale": 1,
        "scene": "<openalea.plantgl.scenegraph._pglsg.Scene object at 0x7f48827b70a0>"
       },
       "scene_1PjQATwoIK8clHwMIOfETUM0N": {
        "drc": {},
        "offsets": [
         0
        ],
        "position": [
         -116,
         50,
         -93
        ],
        "scale": 1,
        "scene": "<openalea.plantgl.scenegraph._pglsg.Scene object at 0x7f4882a1c3e8>"
       },
       "scene_1Wc0MpGTpq7wNQgPgzTW3hNzW": {
        "drc": {},
        "offsets": [
         0
        ],
        "position": [
         -112,
         -61,
         123
        ],
        "scale": 1,
        "scene": "<openalea.plantgl.scenegraph._pglsg.Scene object at 0x7f4882715a08>"
       },
       "scene_1YYw85jXDb1JOilQdTE64Ochx": {
        "drc": {},
        "offsets": [
         0
        ],
        "position": [
         90,
         14,
         -34
        ],
        "scale": 1,
        "scene": "<openalea.plantgl.scenegraph._pglsg.Scene object at 0x7f48829d4458>"
       },
       "scene_1am4OvRoJliGyeBsa0F0UlKw4": {
        "drc": {},
        "offsets": [
         0
        ],
        "position": [
         117,
         -113,
         -69
        ],
        "scale": 1,
        "scene": "<openalea.plantgl.scenegraph._pglsg.Scene object at 0x7f4882a41500>"
       },
       "scene_1hG7CnqDKwnYPh2t8poL8cyB2": {
        "drc": {},
        "offsets": [
         0
        ],
        "position": [
         -50,
         -15,
         64
        ],
        "scale": 1,
        "scene": "<openalea.plantgl.scenegraph._pglsg.Scene object at 0x7f4882756a78>"
       },
       "scene_1rcuhBvkJrV2OSSYi5GWo6fkD": {
        "drc": {},
        "offsets": [
         0
        ],
        "position": [
         -114,
         57,
         -10
        ],
        "scale": 1,
        "scene": "<openalea.plantgl.scenegraph._pglsg.Scene object at 0x7f48827cf998>"
       },
       "scene_23NcMF9kNOVggyuJUULufg6If": {
        "drc": {},
        "offsets": [
         0
        ],
        "position": [
         37,
         21,
         -40
        ],
        "scale": 1,
        "scene": "<openalea.plantgl.scenegraph._pglsg.Scene object at 0x7f48828e9618>"
       },
       "scene_24Y7L2tpxb6GZCQuajqlIhF2J": {
        "drc": {},
        "offsets": [
         0
        ],
        "position": [
         -16,
         -57,
         -102
        ],
        "scale": 1,
        "scene": "<openalea.plantgl.scenegraph._pglsg.Scene object at 0x7f4882862bc8>"
       },
       "scene_2hjgSaKe7S5gGJqhuqPsqeRXy": {
        "drc": {},
        "offsets": [
         0
        ],
        "position": [
         44,
         -36,
         66
        ],
        "scale": 1,
        "scene": "<openalea.plantgl.scenegraph._pglsg.Scene object at 0x7f4882a41e68>"
       },
       "scene_32zHRl8RiJpaSQEpusM6PjxLq": {
        "drc": {},
        "offsets": [
         0
        ],
        "position": [
         -100,
         -99,
         30
        ],
        "scale": 1,
        "scene": "<openalea.plantgl.scenegraph._pglsg.Scene object at 0x7f4882a31458>"
       },
       "scene_3Y7DCrdnj34DmCincfAwHWVvx": {
        "drc": {},
        "offsets": [
         0
        ],
        "position": [
         110,
         19,
         -74
        ],
        "scale": 1,
        "scene": "<openalea.plantgl.scenegraph._pglsg.Scene object at 0x7f4882a1c030>"
       },
       "scene_3ezo5nhNqoY6LjJuOb0vUTLMp": {
        "drc": {},
        "offsets": [
         0
        ],
        "position": [
         7,
         16,
         -8
        ],
        "scale": 1,
        "scene": "<openalea.plantgl.scenegraph._pglsg.Scene object at 0x7f48827fa7a0>"
       },
       "scene_4bs291hy1x0ZhHDoNfFaVaZQd": {
        "drc": {},
        "offsets": [
         0
        ],
        "position": [
         -25,
         -8,
         -60
        ],
        "scale": 1,
        "scene": "<openalea.plantgl.scenegraph._pglsg.Scene object at 0x7f488280fd88>"
       },
       "scene_4cYbsH6XjcHgJRtoNMN91p5V2": {
        "drc": {},
        "offsets": [
         0
        ],
        "position": [
         -78,
         37,
         -10
        ],
        "scale": 1,
        "scene": "<openalea.plantgl.scenegraph._pglsg.Scene object at 0x7f488278b960>"
       },
       "scene_4wtPpL457cMmL6VIKbHbw7g3m": {
        "drc": {},
        "offsets": [
         0
        ],
        "position": [
         8,
         -37,
         25
        ],
        "scale": 1,
        "scene": "<openalea.plantgl.scenegraph._pglsg.Scene object at 0x7f4882970a08>"
       },
       "scene_5IUH3JbhbvLIIjHwF5nLMwlSr": {
        "drc": {},
        "offsets": [
         0
        ],
        "position": [
         -108,
         88,
         119
        ],
        "scale": 1,
        "scene": "<openalea.plantgl.scenegraph._pglsg.Scene object at 0x7f48829d4e68>"
       },
       "scene_5bg8nSWcSQEWfmzFSIQkXYqrc": {
        "drc": {},
        "offsets": [
         0
        ],
        "position": [
         -61,
         -50,
         73
        ],
        "scale": 1,
        "scene": "<openalea.plantgl.scenegraph._pglsg.Scene object at 0x7f48bc49db58>"
       },
       "scene_5s5HVqSy6eRYWbrbEzLMSYrGe": {
        "drc": {},
        "offsets": [
         0
        ],
        "position": [
         106,
         -76,
         -107
        ],
        "scale": 1,
        "scene": "<openalea.plantgl.scenegraph._pglsg.Scene object at 0x7f488282fd18>"
       },
       "scene_6FNmJM3m6D4Wlgulr1lKPX6rg": {
        "drc": {},
        "offsets": [
         0
        ],
        "position": [
         26,
         77,
         112
        ],
        "scale": 1,
        "scene": "<openalea.plantgl.scenegraph._pglsg.Scene object at 0x7f4882991148>"
       },
       "scene_6QftUwVk8Ttr2HlfHlUjjUbxW": {
        "drc": {},
        "offsets": [
         0
        ],
        "position": [
         -35,
         68,
         55
        ],
        "scale": 1,
        "scene": "<openalea.plantgl.scenegraph._pglsg.Scene object at 0x7f48827786f8>"
       },
       "scene_6gy1LBy8hxpJoP3aKrqAaBO8T": {
        "drc": {},
        "offsets": [
         0
        ],
        "position": [
         -6,
         -24,
         -106
        ],
        "scale": 1,
        "scene": "<openalea.plantgl.scenegraph._pglsg.Scene object at 0x7f48827da458>"
       },
       "scene_6kYzLgkoPAmrujrv0in1LvAq0": {
        "drc": {},
        "offsets": [
         0
        ],
        "position": [
         22,
         -1,
         101
        ],
        "scale": 1,
        "scene": "<openalea.plantgl.scenegraph._pglsg.Scene object at 0x7f48829bf5a8>"
       },
       "scene_74Btu7fRRaeYSa2Urzdy7XJky": {
        "drc": {},
        "offsets": [
         0
        ],
        "position": [
         56,
         -103,
         -91
        ],
        "scale": 1,
        "scene": "<openalea.plantgl.scenegraph._pglsg.Scene object at 0x7f4882991d88>"
       },
       "scene_74tXuwzpqrIBTBXizrjUGQU8m": {
        "drc": {},
        "offsets": [
         0
        ],
        "position": [
         -64,
         -97,
         53
        ],
        "scale": 1,
        "scene": "<openalea.plantgl.scenegraph._pglsg.Scene object at 0x7f48827349d0>"
       },
       "scene_7H2Cp7fQcZlhnr31dVqNcUW0a": {
        "drc": {},
        "offsets": [
         0
        ],
        "position": [
         98,
         -66,
         58
        ],
        "scale": 1,
        "scene": "<openalea.plantgl.scenegraph._pglsg.Scene object at 0x7f488295f8b8>"
       },
       "scene_7doQRDzJff6eAMhBOpIeAzTG3": {
        "drc": {},
        "offsets": [
         0
        ],
        "position": [
         22,
         96,
         60
        ],
        "scale": 1,
        "scene": "<openalea.plantgl.scenegraph._pglsg.Scene object at 0x7f48827fab20>"
       },
       "scene_7lhkzfcRZSt3kjj0gpXCxjVD0": {
        "drc": {},
        "offsets": [
         0
        ],
        "position": [
         21,
         -87,
         -110
        ],
        "scale": 1,
        "scene": "<openalea.plantgl.scenegraph._pglsg.Scene object at 0x7f48827aa5e0>"
       },
       "scene_7rQbPa33Zx20oHBMmbE9qv8VQ": {
        "drc": {},
        "offsets": [
         0
        ],
        "position": [
         7,
         -24,
         63
        ],
        "scale": 1,
        "scene": "<openalea.plantgl.scenegraph._pglsg.Scene object at 0x7f48828ce998>"
       },
       "scene_80a1IM1f9eIRWptbIS0YvPOcd": {
        "drc": {},
        "offsets": [
         0
        ],
        "position": [
         -32,
         41,
         75
        ],
        "scale": 1,
        "scene": "<openalea.plantgl.scenegraph._pglsg.Scene object at 0x7f4882a05960>"
       },
       "scene_8UDrOKwTHVCh79h1r3lfRnetu": {
        "drc": {},
        "offsets": [
         0
        ],
        "position": [
         -59,
         -108,
         -51
        ],
        "scale": 1,
        "scene": "<openalea.plantgl.scenegraph._pglsg.Scene object at 0x7f48827668b8>"
       },
       "scene_8bKFIc3ZS37NAhG6f8l34rdND": {
        "drc": {},
        "offsets": [
         0
        ],
        "position": [
         -57,
         10,
         70
        ],
        "scale": 1,
        "scene": "<openalea.plantgl.scenegraph._pglsg.Scene object at 0x7f488299f420>"
       },
       "scene_8wosVRjuw5z0ZhUXHpQnNZHwK": {
        "drc": {},
        "offsets": [
         0
        ],
        "position": [
         125,
         -70,
         -103
        ],
        "scale": 1,
        "scene": "<openalea.plantgl.scenegraph._pglsg.Scene object at 0x7f488279c420>"
       },
       "scene_8yCmlEwRQQW17tDLiqOKKsSCS": {
        "drc": {},
        "offsets": [
         0
        ],
        "position": [
         -93,
         -122,
         -119
        ],
        "scale": 1,
        "scene": "<openalea.plantgl.scenegraph._pglsg.Scene object at 0x7f48827b7e30>"
       },
       "scene_96S1jetKC0JamLnocxooVP56f": {
        "drc": {},
        "offsets": [
         0
        ],
        "position": [
         -107,
         83,
         54
        ],
        "scale": 1,
        "scene": "<openalea.plantgl.scenegraph._pglsg.Scene object at 0x7f4882747570>"
       },
       "scene_97Oop2FjZhnqCcVIRGzJpPPvg": {
        "drc": {},
        "offsets": [
         0
        ],
        "position": [
         66,
         -117,
         76
        ],
        "scale": 1,
        "scene": "<openalea.plantgl.scenegraph._pglsg.Scene object at 0x7f4882734650>"
       },
       "scene_9UQ7JCVavPz9az6r4hnbrcPfQ": {
        "drc": {},
        "offsets": [
         0
        ],
        "position": [
         -91,
         -112,
         86
        ],
        "scale": 1,
        "scene": "<openalea.plantgl.scenegraph._pglsg.Scene object at 0x7f4882784500>"
       },
       "scene_9VVRSUdsaSP1mDcBvu0XvxdKH": {
        "drc": {},
        "offsets": [
         0
        ],
        "position": [
         23,
         115,
         125
        ],
        "scale": 1,
        "scene": "<openalea.plantgl.scenegraph._pglsg.Scene object at 0x7f48828b5308>"
       },
       "scene_9drasYLdgtcZTRxh64eFPuNTv": {
        "drc": {},
        "offsets": [
         0
        ],
        "position": [
         -18,
         -12,
         -50
        ],
        "scale": 1,
        "scene": "<openalea.plantgl.scenegraph._pglsg.Scene object at 0x7f488281f4c8>"
       },
       "scene_9qcd8aorXblC1lfxstKJMqSHI": {
        "drc": {},
        "offsets": [
         0
        ],
        "position": [
         -68,
         -101,
         -73
        ],
        "scale": 1,
        "scene": "<openalea.plantgl.scenegraph._pglsg.Scene object at 0x7f488294f180>"
       },
       "scene_AJFJe8I4n8AB2xY3vcNHsKX61": {
        "drc": {},
        "offsets": [
         0
        ],
        "position": [
         -23,
         60,
         -94
        ],
        "scale": 1,
        "scene": "<openalea.plantgl.scenegraph._pglsg.Scene object at 0x7f4882871688>"
       },
       "scene_AM9osys68dvdIg2VhbbY2IGQ8": {
        "drc": {},
        "offsets": [
         0
        ],
        "position": [
         43,
         93,
         103
        ],
        "scale": 1,
        "scene": "<openalea.plantgl.scenegraph._pglsg.Scene object at 0x7f4882a1c3b0>"
       },
       "scene_AZDOis08XIWAj5RYzJ0WQV5X0": {
        "drc": {},
        "offsets": [
         0
        ],
        "position": [
         86,
         76,
         -36
        ],
        "scale": 1,
        "scene": "<openalea.plantgl.scenegraph._pglsg.Scene object at 0x7f48829bf928>"
       },
       "scene_AvvHmif7MWfX4yclSsxfjGshi": {
        "drc": {},
        "offsets": [
         0
        ],
        "position": [
         49,
         -120,
         117
        ],
        "scale": 1,
        "scene": "<openalea.plantgl.scenegraph._pglsg.Scene object at 0x7f488299f768>"
       },
       "scene_C5WeDlBvoNVUNMZ0ySfkWzcgT": {
        "drc": {},
        "offsets": [
         0
        ],
        "position": [
         35,
         19,
         -60
        ],
        "scale": 1,
        "scene": "<openalea.plantgl.scenegraph._pglsg.Scene object at 0x7f488281f848>"
       },
       "scene_CePaGIBpwPtSmoq7I4vyctjK3": {
        "drc": {},
        "offsets": [
         0
        ],
        "position": [
         -121,
         -104,
         -74
        ],
        "scale": 1,
        "scene": "<openalea.plantgl.scenegraph._pglsg.Scene object at 0x7f4882862848>"
       },
       "scene_DDjs3V1iI24WNgrANCFx2k0rU": {
        "drc": {},
        "offsets": [
         0
        ],
        "position": [
         40,
         120,
         -94
        ],
        "scale": 1,
        "scene": "<openalea.plantgl.scenegraph._pglsg.Scene object at 0x7f488293ec00>"
       },
       "scene_DE4Un2lh7bCwqa4F7s3IYL5TX": {
        "drc": {},
        "offsets": [
         0
        ],
        "position": [
         -25,
         55,
         -114
        ],
        "scale": 1,
        "scene": "<openalea.plantgl.scenegraph._pglsg.Scene object at 0x7f488293e500>"
       },
       "scene_DGe7J3ocav5ulTfvHBnhsjNio": {
        "drc": {},
        "offsets": [
         0
        ],
        "position": [
         -70,
         -6,
         -63
        ],
        "scale": 1,
        "scene": "<openalea.plantgl.scenegraph._pglsg.Scene object at 0x7f48829e58b8>"
       },
       "scene_Dc343mTJNPdT3bi8hofvWgsB4": {
        "drc": {},
        "offsets": [
         0
        ],
        "position": [
         -57,
         -1,
         18
        ],
        "scale": 1,
        "scene": "<openalea.plantgl.scenegraph._pglsg.Scene object at 0x7f488291e2d0>"
       },
       "scene_Dz5oEmPdLWXastsTn0eRUfUzM": {
        "drc": {},
        "offsets": [
         0
        ],
        "position": [
         -18,
         89,
         75
        ],
        "scale": 1,
        "scene": "<openalea.plantgl.scenegraph._pglsg.Scene object at 0x7f488278b5e0>"
       },
       "scene_E6BHnWE7vWdKS4nwb1h4A4pRs": {
        "drc": {},
        "offsets": [
         0
        ],
        "position": [
         20,
         -86,
         91
        ],
        "scale": 1,
        "scene": "<openalea.plantgl.scenegraph._pglsg.Scene object at 0x7f488292ee68>"
       },
       "scene_EOSGAdBDQlVuUUGGg55ewJOKc": {
        "drc": {},
        "offsets": [
         0
        ],
        "position": [
         6,
         -3,
         -16
        ],
        "scale": 1,
        "scene": "<openalea.plantgl.scenegraph._pglsg.Scene object at 0x7f488282f998>"
       },
       "scene_EjYBheZzJj88skYn9H8CEPuUv": {
        "drc": {},
        "offsets": [
         0
        ],
        "position": [
         -101,
         67,
         8
        ],
        "scale": 1,
        "scene": "<openalea.plantgl.scenegraph._pglsg.Scene object at 0x7f4882a05e30>"
       },
       "scene_F3wYBzuo2RXo0aCK8lpYBtjh8": {
        "drc": {},
        "offsets": [
         0
        ],
        "position": [
         -78,
         33,
         52
        ],
        "scale": 1,
        "scene": "<openalea.plantgl.scenegraph._pglsg.Scene object at 0x7f48828b5a08>"
       },
       "scene_FLcSvz7BGnoWHtdnV4mzpvj5U": {
        "drc": {},
        "offsets": [
         0
        ],
        "position": [
         -21,
         -9,
         -91
        ],
        "scale": 1,
        "scene": "<openalea.plantgl.scenegraph._pglsg.Scene object at 0x7f4882896ab0>"
       },
       "scene_FXUZsZrxto6BlUaWjZRhyr4sk": {
        "drc": {},
        "offsets": [
         0
        ],
        "position": [
         66,
         -62,
         -10
        ],
        "scale": 1,
        "scene": "<openalea.plantgl.scenegraph._pglsg.Scene object at 0x7f488299fd50>"
       },
       "scene_FgLSx0a0OzjSX16uR8MKNI4Ln": {
        "drc": {},
        "offsets": [
         0
        ],
        "position": [
         112,
         -79,
         -85
        ],
        "scale": 1,
        "scene": "<openalea.plantgl.scenegraph._pglsg.Scene object at 0x7f4882896df8>"
       },
       "scene_FgWl5JYbt1XjKwzOSQtcdpR97": {
        "drc": {},
        "offsets": [
         0
        ],
        "position": [
         80,
         97,
         68
        ],
        "scale": 1,
        "scene": "<openalea.plantgl.scenegraph._pglsg.Scene object at 0x7f488297f7d8>"
       },
       "scene_FsLduwbZyftQ22IU7MIt7dVHR": {
        "drc": {},
        "offsets": [
         0
        ],
        "position": [
         42,
         -89,
         108
        ],
        "scale": 1,
        "scene": "<openalea.plantgl.scenegraph._pglsg.Scene object at 0x7f4883105d18>"
       },
       "scene_G6ytM0DwgdUDgxLLKenEsa9eH": {
        "drc": {},
        "offsets": [
         0
        ],
        "position": [
         -37,
         -76,
         -44
        ],
        "scale": 1,
        "scene": "<openalea.plantgl.scenegraph._pglsg.Scene object at 0x7f4882a1cd88>"
       },
       "scene_GRzJI66sHfTK86NpSNT4uEVBY": {
        "drc": {},
        "offsets": [
         0
        ],
        "position": [
         92,
         13,
         -7
        ],
        "scale": 1,
        "scene": "<openalea.plantgl.scenegraph._pglsg.Scene object at 0x7f4882734d50>"
       },
       "scene_Gk7r9h2ffG1TP57zpseZqSYEw": {
        "drc": {},
        "offsets": [
         0
        ],
        "position": [
         -105,
         -108,
         35
        ],
        "scale": 1,
        "scene": "<openalea.plantgl.scenegraph._pglsg.Scene object at 0x7f4882a058b8>"
       },
       "scene_GmUNpRkTWVhauzbAYAQwYNURZ": {
        "drc": {},
        "offsets": [
         0
        ],
        "position": [
         88,
         -70,
         -45
        ],
        "scale": 1,
        "scene": "<openalea.plantgl.scenegraph._pglsg.Scene object at 0x7f48827dab58>"
       },
       "scene_H2MR7CYdHLb2GKyrIGAUwhKmO": {
        "drc": {},
        "offsets": [
         0
        ],
        "position": [
         90,
         63,
         123
        ],
        "scale": 1,
        "scene": "<openalea.plantgl.scenegraph._pglsg.Scene object at 0x7f48829d4148>"
       },
       "scene_HGggGsyX5OL7eALo4cVgzRzzu": {
        "drc": {},
        "offsets": [
         0
        ],
        "position": [
         -29,
         -32,
         45
        ],
        "scale": 1,
        "scene": "<openalea.plantgl.scenegraph._pglsg.Scene object at 0x7f48828963b0>"
       },
       "scene_Hi73Hj22P3HoegKJuV5ZDBW7Z": {
        "drc": {},
        "offsets": [
         0
        ],
        "position": [
         89,
         -107,
         -5
        ],
        "scale": 1,
        "scene": "<openalea.plantgl.scenegraph._pglsg.Scene object at 0x7f48829e5c00>"
       },
       "scene_IS3H9d8HIUXJem3HUJTK0kwmq": {
        "drc": {},
        "offsets": [
         0
        ],
        "position": [
         114,
         -28,
         10
        ],
        "scale": 1,
        "scene": "<openalea.plantgl.scenegraph._pglsg.Scene object at 0x7f4882a41b20>"
       },
       "scene_IoWrxikGBRUN1QIknHekVlJO4": {
        "drc": {},
        "offsets": [
         0
        ],
        "position": [
         -5,
         -33,
         -87
        ],
        "scale": 1,
        "scene": "<openalea.plantgl.scenegraph._pglsg.Scene object at 0x7f48828f83b0>"
       },
       "scene_J866oTfEWzedkVuG7K6HvkVl9": {
        "drc": {},
        "offsets": [
         0
        ],
        "position": [
         -15,
         5,
         23
        ],
        "scale": 1,
        "scene": "<openalea.plantgl.scenegraph._pglsg.Scene object at 0x7f4882747f80>"
       },
       "scene_JBW1uD1n6RlcUdLETJ2bhpI2p": {
        "drc": {},
        "offsets": [
         0
        ],
        "position": [
         -92,
         28,
         -28
        ],
        "scale": 1,
        "scene": "<openalea.plantgl.scenegraph._pglsg.Scene object at 0x7f488292ea78>"
       },
       "scene_JNRu9VjOrPQd7yV3eIZNN3gOo": {
        "drc": {},
        "offsets": [
         0
        ],
        "position": [
         90,
         112,
         95
        ],
        "scale": 1,
        "scene": "<openalea.plantgl.scenegraph._pglsg.Scene object at 0x7f4883105ab0>"
       },
       "scene_Jdrj4vVH0BhzyYtjqY32Aknt6": {
        "drc": {},
        "offsets": [
         0
        ],
        "position": [
         -102,
         -81,
         -49
        ],
        "scale": 1,
        "scene": "<openalea.plantgl.scenegraph._pglsg.Scene object at 0x7f488290d8b8>"
       },
       "scene_JgpULbRjEMQgDgXL0i6S52NR3": {
        "drc": {},
        "offsets": [
         0
        ],
        "position": [
         33,
         90,
         48
        ],
        "scale": 1,
        "scene": "<openalea.plantgl.scenegraph._pglsg.Scene object at 0x7f48828c3538>"
       },
       "scene_KDNi7rbZg2UuKixsP2z2ET615": {
        "drc": {},
        "offsets": [
         0
        ],
        "position": [
         -117,
         27,
         -86
        ],
        "scale": 1,
        "scene": "<openalea.plantgl.scenegraph._pglsg.Scene object at 0x7f48827342d0>"
       },
       "scene_KbEsbauPQOh6uZf38SAGOG6v6": {
        "drc": {},
        "offsets": [
         0
        ],
        "position": [
         -32,
         -4,
         74
        ],
        "scale": 1,
        "scene": "<openalea.plantgl.scenegraph._pglsg.Scene object at 0x7f4882715308>"
       },
       "scene_KeXIDRgY4XsLoReV9gUXSBJRR": {
        "drc": {},
        "offsets": [
         0
        ],
        "position": [
         46,
         -106,
         95
        ],
        "scale": 1,
        "scene": "<openalea.plantgl.scenegraph._pglsg.Scene object at 0x7f48827b7500>"
       },
       "scene_KtWE6M6OBy5nhILRH8Xeb1gBH": {
        "drc": {},
        "offsets": [
         0
        ],
        "position": [
         42,
         -36,
         31
        ],
        "scale": 1,
        "scene": "<openalea.plantgl.scenegraph._pglsg.Scene object at 0x7f4882743458>"
       },
       "scene_L7lJ86BpzhIk2a1cEzB0QsbuV": {
        "drc": {},
        "offsets": [
         0
        ],
        "position": [
         88,
         5,
         -12
        ],
        "scale": 1,
        "scene": "<openalea.plantgl.scenegraph._pglsg.Scene object at 0x7f48827566f8>"
       },
       "scene_LR3WoujCw6EDOu0J9Voi5GwrA": {
        "drc": {},
        "offsets": [
         0
        ],
        "position": [
         -50,
         -6,
         -117
        ],
        "scale": 1,
        "scene": "<openalea.plantgl.scenegraph._pglsg.Scene object at 0x7f48828dbe68>"
       },
       "scene_LeVvHZ7IV3J9L0xvrDRsbZxoR": {
        "drc": {},
        "offsets": [
         0
        ],
        "position": [
         106,
         29,
         -31
        ],
        "scale": 1,
        "scene": "<openalea.plantgl.scenegraph._pglsg.Scene object at 0x7f4882a311b8>"
       },
       "scene_MM65UWam38DCM0WDpUyRoHet8": {
        "drc": {},
        "offsets": [
         0
        ],
        "position": [
         -7,
         89,
         19
        ],
        "scale": 1,
        "scene": "<openalea.plantgl.scenegraph._pglsg.Scene object at 0x7f4882766c38>"
       },
       "scene_MRbjHSFChv3EE22aGV0K4O6tQ": {
        "drc": {},
        "offsets": [
         0
        ],
        "position": [
         -123,
         -84,
         -80
        ],
        "scale": 1,
        "scene": "<openalea.plantgl.scenegraph._pglsg.Scene object at 0x7f4883105570>"
       },
       "scene_MfEqd01LxhLc1OGFx4qdEeQgo": {
        "drc": {},
        "offsets": [
         0
        ],
        "position": [
         1,
         -68,
         94
        ],
        "scale": 1,
        "scene": "<openalea.plantgl.scenegraph._pglsg.Scene object at 0x7f48829706f8>"
       },
       "scene_MfGBn6FIBio7jtvMY2iDwxTsZ": {
        "drc": {},
        "offsets": [
         0
        ],
        "position": [
         102,
         31,
         -43
        ],
        "scale": 1,
        "scene": "<openalea.plantgl.scenegraph._pglsg.Scene object at 0x7f48828e9c70>"
       },
       "scene_N15R8rCOLTuY4NJRwRlpTwdPa": {
        "drc": {},
        "offsets": [
         0
        ],
        "position": [
         104,
         87,
         47
        ],
        "scale": 1,
        "scene": "<openalea.plantgl.scenegraph._pglsg.Scene object at 0x7f4882882148>"
       },
       "scene_NAZwNljXRnlPRbraQu0oaECnK": {
        "drc": {},
        "offsets": [
         0
        ],
        "position": [
         30,
         -30,
         -116
        ],
        "scale": 1,
        "scene": "<openalea.plantgl.scenegraph._pglsg.Scene object at 0x7f488292e6f8>"
       },
       "scene_NKnDitFtVsovTvUZIJA1kbQk3": {
        "drc": {},
        "offsets": [
         0
        ],
        "position": [
         51,
         -7,
         27
        ],
        "scale": 1,
        "scene": "<openalea.plantgl.scenegraph._pglsg.Scene object at 0x7f48829b3458>"
       },
       "scene_NVkIQ6LMDPT2gAMKvkAk5Cegz": {
        "drc": {},
        "offsets": [
         0
        ],
        "position": [
         68,
         14,
         -44
        ],
        "scale": 1,
        "scene": "<openalea.plantgl.scenegraph._pglsg.Scene object at 0x7f4882871308>"
       },
       "scene_NXo0raX51BHdVAdUzLzS9IMzs": {
        "drc": {},
        "offsets": [
         0
        ],
        "position": [
         -100,
         -104,
         87
        ],
        "scale": 1,
        "scene": "<openalea.plantgl.scenegraph._pglsg.Scene object at 0x7f48829b3ea0>"
       },
       "scene_NaIj4FYFJEW7P4RA0O46pIvSR": {
        "drc": {},
        "offsets": [
         0
        ],
        "position": [
         46,
         14,
         42
        ],
        "scale": 1,
        "scene": "<openalea.plantgl.scenegraph._pglsg.Scene object at 0x7f4882a05bc8>"
       },
       "scene_O9tl3XRDI62FqghNgrQk9vLud": {
        "drc": {},
        "offsets": [
         0
        ],
        "position": [
         92,
         12,
         -104
        ],
        "scale": 1,
        "scene": "<openalea.plantgl.scenegraph._pglsg.Scene object at 0x7f48827cf618>"
       },
       "scene_OW9Tj8YMpMeQC28FqEGpZp80N": {
        "drc": {},
        "offsets": [
         0
        ],
        "position": [
         53,
         -20,
         49
        ],
        "scale": 1,
        "scene": "<openalea.plantgl.scenegraph._pglsg.Scene object at 0x7f488283d7d8>"
       },
       "scene_Ojl7C6TlP3HIl5QW3KZgKFWfL": {
        "drc": {},
        "offsets": [
         0
        ],
        "position": [
         69,
         50,
         -28
        ],
        "scale": 1,
        "scene": "<openalea.plantgl.scenegraph._pglsg.Scene object at 0x7f488294fe30>"
       },
       "scene_Oy40VC5gUQs1gG0eEnoV5wJ4N": {
        "drc": {},
        "offsets": [
         0
        ],
        "position": [
         -125,
         -97,
         -101
        ],
        "scale": 1,
        "scene": "<openalea.plantgl.scenegraph._pglsg.Scene object at 0x7f48828a6c00>"
       },
       "scene_P1IhGF0ttt9GKLMdzXd2SNo3R": {
        "drc": {},
        "offsets": [
         0
        ],
        "position": [
         -110,
         20,
         -20
        ],
        "scale": 1,
        "scene": "<openalea.plantgl.scenegraph._pglsg.Scene object at 0x7f48829e5570>"
       },
       "scene_P6LOhogiBmyJjx0dS6GZX8DjR": {
        "drc": {},
        "offsets": [
         0
        ],
        "position": [
         34,
         -6,
         -32
        ],
        "scale": 1,
        "scene": "<openalea.plantgl.scenegraph._pglsg.Scene object at 0x7f48828db068>"
       },
       "scene_POfSlYACbPEdL7nY2rS3ew98J": {
        "drc": {},
        "offsets": [
         0
        ],
        "position": [
         -23,
         -28,
         56
        ],
        "scale": 1,
        "scene": "<openalea.plantgl.scenegraph._pglsg.Scene object at 0x7f488281fbc8>"
       },
       "scene_PlSloNk2Xfk2hQDA3zlSUYYwZ": {
        "drc": {},
        "offsets": [
         0
        ],
        "position": [
         -25,
         -36,
         -72
        ],
        "scale": 1,
        "scene": "<openalea.plantgl.scenegraph._pglsg.Scene object at 0x7f48827faea0>"
       },
       "scene_PpMLAL2a2Iln5ytOtqOXofWy9": {
        "drc": {},
        "offsets": [
         0
        ],
        "position": [
         122,
         -30,
         -32
        ],
        "scale": 1,
        "scene": "<openalea.plantgl.scenegraph._pglsg.Scene object at 0x7f4883105810>"
       },
       "scene_Q8nOgqrkKnYg16tsy8gv9rpfc": {
        "drc": {},
        "offsets": [
         0
        ],
        "position": [
         -59,
         117,
         28
        ],
        "scale": 1,
        "scene": "<openalea.plantgl.scenegraph._pglsg.Scene object at 0x7f4882743180>"
       },
       "scene_Qbdr5Cbr5a10PQu9yVvF4DwlH": {
        "drc": {},
        "offsets": [
         0
        ],
        "position": [
         67,
         -45,
         19
        ],
        "scale": 1,
        "scene": "<openalea.plantgl.scenegraph._pglsg.Scene object at 0x7f488293e180>"
       },
       "scene_R2Ys7xETN0MLfGG62hoWLVHeY": {
        "drc": {},
        "offsets": [
         0
        ],
        "position": [
         10,
         65,
         63
        ],
        "scale": 1,
        "scene": "<openalea.plantgl.scenegraph._pglsg.Scene object at 0x7f48827244c8>"
       },
       "scene_RGe2hZs8ge73PuPkdrtnak3vz": {
        "drc": {},
        "offsets": [
         0
        ],
        "position": [
         -98,
         34,
         79
        ],
        "scale": 1,
        "scene": "<openalea.plantgl.scenegraph._pglsg.Scene object at 0x7f48828b5d88>"
       },
       "scene_RIpzr4QeECgu0B0G3jsvFJN2P": {
        "drc": {},
        "offsets": [
         0
        ],
        "position": [
         -79,
         56,
         85
        ],
        "scale": 1,
        "scene": "<openalea.plantgl.scenegraph._pglsg.Scene object at 0x7f4882862f48>"
       },
       "scene_RVjOGeY8mkS0mUKTUxjBFtajD": {
        "drc": {},
        "offsets": [
         0
        ],
        "position": [
         123,
         -64,
         124
        ],
        "scale": 1,
        "scene": "<openalea.plantgl.scenegraph._pglsg.Scene object at 0x7f4882871a08>"
       },
       "scene_SDSlH3EZkv6PGV6RaDdHA69oC": {
        "drc": {},
        "offsets": [
         0
        ],
        "position": [
         -124,
         51,
         22
        ],
        "scale": 1,
        "scene": "<openalea.plantgl.scenegraph._pglsg.Scene object at 0x7f48828ce5e0>"
       },
       "scene_SQz2q05Fdxl5VRFBG3xTLXzQO": {
        "drc": {},
        "offsets": [
         0
        ],
        "position": [
         75,
         -33,
         -30
        ],
        "scale": 1,
        "scene": "<openalea.plantgl.scenegraph._pglsg.Scene object at 0x7f4882743f10>"
       },
       "scene_SSa7OiDq78c1Sv9oKanFN0x1k": {
        "drc": {},
        "offsets": [
         0
        ],
        "position": [
         -12,
         41,
         -63
        ],
        "scale": 1,
        "scene": "<openalea.plantgl.scenegraph._pglsg.Scene object at 0x7f4882852a08>"
       },
       "scene_SdAopXE19Vxx3lXifjGkP78rw": {
        "drc": {},
        "offsets": [
         0
        ],
        "position": [
         87,
         86,
         36
        ],
        "scale": 1,
        "scene": "<openalea.plantgl.scenegraph._pglsg.Scene object at 0x7f48829f5ce0>"
       },
       "scene_SjGZWgh0DsDNBmnmOQhVLNlss": {
        "drc": {},
        "offsets": [
         0
        ],
        "position": [
         26,
         102,
         14
        ],
        "scale": 1,
        "scene": "<openalea.plantgl.scenegraph._pglsg.Scene object at 0x7f48829f5308>"
       },
       "scene_Sk3RFUD0YXvhyKsmyQZcUH8HN": {
        "drc": {},
        "offsets": [
         0
        ],
        "position": [
         -69,
         -13,
         51
        ],
        "scale": 1,
        "scene": "<openalea.plantgl.scenegraph._pglsg.Scene object at 0x7f48827edd18>"
       },
       "scene_SqsfPpR38zkqzgwBJ8gXPin2n": {
        "drc": {},
        "offsets": [
         0
        ],
        "position": [
         -36,
         115,
         26
        ],
        "scale": 1,
        "scene": "<openalea.plantgl.scenegraph._pglsg.Scene object at 0x7f4882991a08>"
       },
       "scene_Suz8rv2dKvlBEVQntOrwtVd9D": {
        "drc": {},
        "offsets": [
         0
        ],
        "position": [
         0,
         64,
         27
        ],
        "scale": 1,
        "scene": "<openalea.plantgl.scenegraph._pglsg.Scene object at 0x7f48827b7ab0>"
       },
       "scene_SxxJqRGuriPPTJBhAk67hFYYk": {
        "drc": {},
        "offsets": [
         0
        ],
        "position": [
         121,
         -57,
         89
        ],
        "scale": 1,
        "scene": "<openalea.plantgl.scenegraph._pglsg.Scene object at 0x7f48827da7d8>"
       },
       "scene_T0YAQXK7kC2oq6lUcnf5Nt1Z4": {
        "drc": {},
        "offsets": [
         0
        ],
        "position": [
         -77,
         28,
         101
        ],
        "scale": 1,
        "scene": "<openalea.plantgl.scenegraph._pglsg.Scene object at 0x7f4882852308>"
       },
       "scene_T1rMCeTy16S16KK0suzn9CSLL": {
        "drc": {},
        "offsets": [
         0
        ],
        "position": [
         -66,
         25,
         68
        ],
        "scale": 1,
        "scene": "<openalea.plantgl.scenegraph._pglsg.Scene object at 0x7f488294f4c8>"
       },
       "scene_T2GcyDhMjX1hzmgj1R78nK7VM": {
        "drc": {},
        "offsets": [
         0
        ],
        "position": [
         47,
         -27,
         122
        ],
        "scale": 1,
        "scene": "<openalea.plantgl.scenegraph._pglsg.Scene object at 0x7f48828624c8>"
       },
       "scene_TE5fLwpgTY6Jmq8iCZq2mA67d": {
        "drc": {},
        "offsets": [
         0
        ],
        "position": [
         -44,
         -53,
         21
        ],
        "scale": 1,
        "scene": "<openalea.plantgl.scenegraph._pglsg.Scene object at 0x7f4882784bc8>"
       },
       "scene_Tmp3S0JbV0qc0m6asmATtRg8y": {
        "drc": {},
        "offsets": [
         0
        ],
        "position": [
         -12,
         117,
         122
        ],
        "scale": 1,
        "scene": "<openalea.plantgl.scenegraph._pglsg.Scene object at 0x7f4882a1cb20>"
       },
       "scene_UD2rumEdOFQVSQ8HMQmfO7YF8": {
        "drc": {},
        "offsets": [
         0
        ],
        "position": [
         -73,
         -125,
         8
        ],
        "scale": 1,
        "scene": "<openalea.plantgl.scenegraph._pglsg.Scene object at 0x7f4882896730>"
       },
       "scene_UWVPvVJA77GA12vcUJ7ZdCUC7": {
        "drc": {},
        "offsets": [
         0
        ],
        "position": [
         78,
         -79,
         33
        ],
        "scale": 1,
        "scene": "<openalea.plantgl.scenegraph._pglsg.Scene object at 0x7f48827247d8>"
       },
       "scene_Uho585GYcbi7fbAQN0odEwqgC": {
        "drc": {},
        "offsets": [
         0
        ],
        "position": [
         -34,
         68,
         -51
        ],
        "scale": 1,
        "scene": "<openalea.plantgl.scenegraph._pglsg.Scene object at 0x7f48828e9228>"
       },
       "scene_V2fX3GsWBaKu320KZgylX43B8": {
        "drc": {},
        "offsets": [
         0
        ],
        "position": [
         126,
         -45,
         94
        ],
        "scale": 1,
        "scene": "<openalea.plantgl.scenegraph._pglsg.Scene object at 0x7f48827471f0>"
       },
       "scene_VBNsDh17Vj41I5DDglOV3e9Ct": {
        "drc": {},
        "offsets": [
         0
        ],
        "position": [
         -90,
         -46,
         88
        ],
        "scale": 1,
        "scene": "<openalea.plantgl.scenegraph._pglsg.Scene object at 0x7f4882882848>"
       },
       "scene_VYTbkJtiWUIYvSFPZRuO3fDoP": {
        "drc": {},
        "offsets": [
         0
        ],
        "position": [
         -24,
         73,
         71
        ],
        "scale": 1,
        "scene": "<openalea.plantgl.scenegraph._pglsg.Scene object at 0x7f488299f0a0>"
       },
       "scene_VcdtG5MNQeVBIomg9t2btDj6E": {
        "drc": {},
        "offsets": [
         0
        ],
        "position": [
         -121,
         50,
         -56
        ],
        "scale": 1,
        "scene": "<openalea.plantgl.scenegraph._pglsg.Scene object at 0x7f488279c068>"
       },
       "scene_Vf9PUMjJgh1uuUxOBnNGe5bIl": {
        "drc": {},
        "offsets": [
         0
        ],
        "position": [
         -80,
         -27,
         -44
        ],
        "scale": 1,
        "scene": "<openalea.plantgl.scenegraph._pglsg.Scene object at 0x7f488297f490>"
       },
       "scene_WeAhN4YV9jArYAnIjWzIQNCDA": {
        "drc": {},
        "offsets": [
         0
        ],
        "position": [
         -55,
         30,
         81
        ],
        "scale": 1,
        "scene": "<openalea.plantgl.scenegraph._pglsg.Scene object at 0x7f48828f8730>"
       },
       "scene_Wnu6VBOPWTEwM6RqDNZHFmpo9": {
        "drc": {},
        "offsets": [
         0
        ],
        "position": [
         -73,
         49,
         7
        ],
        "scale": 1,
        "scene": "<openalea.plantgl.scenegraph._pglsg.Scene object at 0x7f48829b3110>"
       },
       "scene_X15azQhPkMLnJVgSnviAm7Rf3": {
        "drc": {},
        "offsets": [
         0
        ],
        "position": [
         -79,
         -126,
         -23
        ],
        "scale": 1,
        "scene": "<openalea.plantgl.scenegraph._pglsg.Scene object at 0x7f48828a6180>"
       },
       "scene_X44xoxXaLY3swKuPMh1o21x5S": {
        "drc": {},
        "offsets": [
         0
        ],
        "position": [
         22,
         -26,
         79
        ],
        "scale": 1,
        "scene": "<openalea.plantgl.scenegraph._pglsg.Scene object at 0x7f4882a31f10>"
       },
       "scene_X8yvgBjCo5qpnyhwHQY833ntZ": {
        "drc": {},
        "offsets": [
         0
        ],
        "position": [
         42,
         121,
         -20
        ],
        "scale": 1,
        "scene": "<openalea.plantgl.scenegraph._pglsg.Scene object at 0x7f4882743810>"
       },
       "scene_XPMZAPwX2lyCX16rDCReD75gn": {
        "drc": {},
        "offsets": [
         0
        ],
        "position": [
         -79,
         2,
         -92
        ],
        "scale": 1,
        "scene": "<openalea.plantgl.scenegraph._pglsg.Scene object at 0x7f488295ff80>"
       },
       "scene_XcLR2EgA2XFJYmxOyTt0Y0rJv": {
        "drc": {},
        "offsets": [
         0
        ],
        "position": [
         -47,
         -38,
         -19
        ],
        "scale": 1,
        "scene": "<openalea.plantgl.scenegraph._pglsg.Scene object at 0x7f488279cb20>"
       },
       "scene_XdcTwTZIrdMjZGHCRsLsbHjAB": {
        "drc": {},
        "offsets": [
         0
        ],
        "position": [
         -91,
         82,
         -64
        ],
        "scale": 1,
        "scene": "<openalea.plantgl.scenegraph._pglsg.Scene object at 0x7f4882778a78>"
       },
       "scene_YP11GyLhV1PIYjSSNkEvzC1Fr": {
        "drc": {},
        "offsets": [
         0
        ],
        "position": [
         -109,
         52,
         86
        ],
        "scale": 1,
        "scene": "<openalea.plantgl.scenegraph._pglsg.Scene object at 0x7f4882743b90>"
       },
       "scene_YVrB7yQqaJPjKMrkXpgH8BO0n": {
        "drc": {},
        "offsets": [
         0
        ],
        "position": [
         41,
         31,
         102
        ],
        "scale": 1,
        "scene": "<openalea.plantgl.scenegraph._pglsg.Scene object at 0x7f488278bce0>"
       },
       "scene_YjV47SnZnu4uznsOCsmign395": {
        "drc": {},
        "offsets": [
         0
        ],
        "position": [
         41,
         84,
         56
        ],
        "scale": 1,
        "scene": "<openalea.plantgl.scenegraph._pglsg.Scene object at 0x7f488299fa40>"
       },
       "scene_YtIeXp6mRWdK1U2ttA7sLicfo": {
        "drc": {},
        "offsets": [
         0
        ],
        "position": [
         121,
         89,
         -5
        ],
        "scale": 1,
        "scene": "<openalea.plantgl.scenegraph._pglsg.Scene object at 0x7f488283d0d8>"
       },
       "scene_Z8G2SoVRBD5B6scHpZEuOOpR1": {
        "drc": {},
        "offsets": [
         0
        ],
        "position": [
         -57,
         -120,
         0
        ],
        "scale": 1,
        "scene": "<openalea.plantgl.scenegraph._pglsg.Scene object at 0x7f4882a31a40>"
       },
       "scene_Z9PvVy0i5x8FcaNQjOJfttu0L": {
        "drc": {},
        "offsets": [
         0
        ],
        "position": [
         117,
         -115,
         -59
        ],
        "scale": 1,
        "scene": "<openalea.plantgl.scenegraph._pglsg.Scene object at 0x7f4882715d88>"
       },
       "scene_ZbxaT7dI5vWzvsHcA2hegciRq": {
        "drc": {},
        "offsets": [
         0
        ],
        "position": [
         23,
         102,
         -76
        ],
        "scale": 1,
        "scene": "<openalea.plantgl.scenegraph._pglsg.Scene object at 0x7f48828e98f0>"
       },
       "scene_aDZLIqnZUJ6835UDhlc4m4uPF": {
        "drc": {},
        "offsets": [
         0
        ],
        "position": [
         -116,
         74,
         97
        ],
        "scale": 1,
        "scene": "<openalea.plantgl.scenegraph._pglsg.Scene object at 0x7f4882a053b0>"
       },
       "scene_aHE6KiZfxSmVXE2rlHWYBSp2k": {
        "drc": {},
        "offsets": [
         0
        ],
        "position": [
         -71,
         115,
         -94
        ],
        "scale": 1,
        "scene": "<openalea.plantgl.scenegraph._pglsg.Scene object at 0x7f4882970d88>"
       },
       "scene_b8hUzxXrop7k9rNXnP2cRwGOV": {
        "drc": {},
        "offsets": [
         0
        ],
        "position": [
         18,
         -84,
         62
        ],
        "scale": 1,
        "scene": "<openalea.plantgl.scenegraph._pglsg.Scene object at 0x7f48828f8030>"
       },
       "scene_bML6eECGUwOu6xdDUc3snsrDu": {
        "drc": {},
        "offsets": [
         0
        ],
        "position": [
         -41,
         92,
         -74
        ],
        "scale": 1,
        "scene": "<openalea.plantgl.scenegraph._pglsg.Scene object at 0x7f4882871d88>"
       },
       "scene_bQTJ7svhk4qIFJ3N2rhzr655k": {
        "drc": {},
        "offsets": [
         0
        ],
        "position": [
         3,
         -115,
         -36
        ],
        "scale": 1,
        "scene": "<openalea.plantgl.scenegraph._pglsg.Scene object at 0x7f48828db3e8>"
       },
       "scene_bjSpL4Vj5akpqOglo6WUSydW5": {
        "drc": {},
        "offsets": [
         0
        ],
        "position": [
         -59,
         84,
         -6
        ],
        "scale": 1,
        "scene": "<openalea.plantgl.scenegraph._pglsg.Scene object at 0x7f488282f618>"
       },
       "scene_btqjeYIyzxKXGB9pZpfHUdAG7": {
        "drc": {},
        "offsets": [
         0
        ],
        "position": [
         125,
         15,
         12
        ],
        "scale": 1,
        "scene": "<openalea.plantgl.scenegraph._pglsg.Scene object at 0x7f488282f298>"
       },
       "scene_bw5rMeHDsj4a4qlQpBKbmKbTF": {
        "drc": {},
        "offsets": [
         0
        ],
        "position": [
         -64,
         66,
         -57
        ],
        "scale": 1,
        "scene": "<openalea.plantgl.scenegraph._pglsg.Scene object at 0x7f48829bf228>"
       },
       "scene_civqbXDVtdOoV0q6q17ChCzsZ": {
        "drc": {},
        "offsets": [
         0
        ],
        "position": [
         25,
         -126,
         85
        ],
        "scale": 1,
        "scene": "<openalea.plantgl.scenegraph._pglsg.Scene object at 0x7f488280f688>"
       },
       "scene_d2ic2Rbu6m9qObtDvdmTlob45": {
        "drc": {},
        "offsets": [
         0
        ],
        "position": [
         -99,
         -18,
         71
        ],
        "scale": 1,
        "scene": "<openalea.plantgl.scenegraph._pglsg.Scene object at 0x7f48828dbae8>"
       },
       "scene_dbgGFbZmdYQ0IxtZ8JmFz8mws": {
        "drc": {},
        "offsets": [
         0
        ],
        "position": [
         -121,
         61,
         -37
        ],
        "scale": 1,
        "scene": "<openalea.plantgl.scenegraph._pglsg.Scene object at 0x7f48829b3810>"
       },
       "scene_e2ZBObtvZCmzdTU75BNFxsKtr": {
        "drc": {},
        "offsets": [
         0
        ],
        "position": [
         -78,
         -102,
         89
        ],
        "scale": 1,
        "scene": "<openalea.plantgl.scenegraph._pglsg.Scene object at 0x7f4882a31998>"
       },
       "scene_eIc78KeZcfNZu7FZEall5y7vn": {
        "drc": {},
        "offsets": [
         0
        ],
        "position": [
         -99,
         91,
         52
        ],
        "scale": 1,
        "scene": "<openalea.plantgl.scenegraph._pglsg.Scene object at 0x7f488297f110>"
       },
       "scene_eJ0StklkJZPGYZlboj4zNgFSV": {
        "drc": {},
        "offsets": [
         0
        ],
        "position": [
         125,
         -123,
         1
        ],
        "scale": 1,
        "scene": "<openalea.plantgl.scenegraph._pglsg.Scene object at 0x7f488290d538>"
       },
       "scene_efyn2ZkvHVXszmqUfp88hn8MF": {
        "drc": {},
        "offsets": [
         0
        ],
        "position": [
         17,
         95,
         -97
        ],
        "scale": 1,
        "scene": "<openalea.plantgl.scenegraph._pglsg.Scene object at 0x7f4882862148>"
       },
       "scene_f3UfUsKuFWRkBwjQFv9EWwTUs": {
        "drc": {},
        "offsets": [
         0
        ],
        "position": [
         -89,
         21,
         -108
        ],
        "scale": 1,
        "scene": "<openalea.plantgl.scenegraph._pglsg.Scene object at 0x7f4882724148>"
       },
       "scene_f5u4WQTBl51YkLKwvzeHchnwi": {
        "drc": {},
        "offsets": [
         0
        ],
        "position": [
         -91,
         81,
         -53
        ],
        "scale": 1,
        "scene": "<openalea.plantgl.scenegraph._pglsg.Scene object at 0x7f48828a6880>"
       },
       "scene_f90IHWKbmyiQPkUBi8s0YvXqe": {
        "drc": {},
        "offsets": [
         0
        ],
        "position": [
         53,
         16,
         -19
        ],
        "scale": 1,
        "scene": "<openalea.plantgl.scenegraph._pglsg.Scene object at 0x7f488293e880>"
       },
       "scene_fKrDBQMm9zFPltjCPkxgmEtSo": {
        "drc": {},
        "offsets": [
         0
        ],
        "position": [
         97,
         108,
         -32
        ],
        "scale": 1,
        "scene": "<openalea.plantgl.scenegraph._pglsg.Scene object at 0x7f4882784f48>"
       },
       "scene_fPK3MwXnHPhp9BUHRhKlOQkNh": {
        "drc": {},
        "offsets": [
         0
        ],
        "position": [
         -13,
         -98,
         53
        ],
        "scale": 1,
        "scene": "<openalea.plantgl.scenegraph._pglsg.Scene object at 0x7f488290dc00>"
       },
       "scene_fgmkSNQ4jIKZMCUGT8b4xtyhl": {
        "drc": {},
        "offsets": [
         0
        ],
        "position": [
         -42,
         -53,
         6
        ],
        "scale": 1,
        "scene": "<openalea.plantgl.scenegraph._pglsg.Scene object at 0x7f48827aa960>"
       },
       "scene_h8obA85l3wwEGYPRIEVzEfe52": {
        "drc": {},
        "offsets": [
         0
        ],
        "position": [
         -103,
         -18,
         -111
        ],
        "scale": 1,
        "scene": "<openalea.plantgl.scenegraph._pglsg.Scene object at 0x7f488292e030>"
       },
       "scene_hEl303NqMOWtWbLNCeswTaxqK": {
        "drc": {},
        "offsets": [
         0
        ],
        "position": [
         76,
         92,
         -84
        ],
        "scale": 1,
        "scene": "<openalea.plantgl.scenegraph._pglsg.Scene object at 0x7f48829f5618>"
       },
       "scene_hHNhzlOFCbVe6Rp5PjNW5R9Gs": {
        "drc": {},
        "offsets": [
         0
        ],
        "position": [
         -39,
         60,
         38
        ],
        "scale": 1,
        "scene": "<openalea.plantgl.scenegraph._pglsg.Scene object at 0x7f48828b5688>"
       },
       "scene_hL9Q91qNjy6RiIwY9U5xnzkwL": {
        "drc": {},
        "offsets": [
         0
        ],
        "position": [
         -8,
         32,
         -8
        ],
        "scale": 1,
        "scene": "<openalea.plantgl.scenegraph._pglsg.Scene object at 0x7f48828f8e30>"
       },
       "scene_hYdrFXsH44GwlEnJyHLrbGbvu": {
        "drc": {},
        "offsets": [
         0
        ],
        "position": [
         -6,
         48,
         5
        ],
        "scale": 1,
        "scene": "<openalea.plantgl.scenegraph._pglsg.Scene object at 0x7f48828c3f48>"
       },
       "scene_iBxCqcTfabSMqzE9nSvLVcH2U": {
        "drc": {},
        "offsets": [
         0
        ],
        "position": [
         -125,
         118,
         122
        ],
        "scale": 1,
        "scene": "<openalea.plantgl.scenegraph._pglsg.Scene object at 0x7f48827da0d8>"
       },
       "scene_iF4vGc8JEHUh2g2txKjWyPFQP": {
        "drc": {},
        "offsets": [
         0
        ],
        "position": [
         -59,
         0,
         4
        ],
        "scale": 1,
        "scene": "<openalea.plantgl.scenegraph._pglsg.Scene object at 0x7f4882a316c0>"
       },
       "scene_iLp9hbtrJ8M5eMrAEBJg9llfF": {
        "drc": {},
        "offsets": [
         0
        ],
        "position": [
         -43,
         -93,
         37
        ],
        "scale": 1,
        "scene": "<openalea.plantgl.scenegraph._pglsg.Scene object at 0x7f4882766f80>"
       },
       "scene_iMlWl5WCyVynCkLMQId9IVnoO": {
        "drc": {},
        "offsets": [
         0
        ],
        "position": [
         66,
         -107,
         120
        ],
        "scale": 1,
        "scene": "<openalea.plantgl.scenegraph._pglsg.Scene object at 0x7f48827ed618>"
       },
       "scene_jDLOmG7GcoD0E3Vds9lcjSWWw": {
        "drc": {},
        "offsets": [
         0
        ],
        "position": [
         -61,
         -73,
         94
        ],
        "scale": 1,
        "scene": "<openalea.plantgl.scenegraph._pglsg.Scene object at 0x7f4882888c70>"
       },
       "scene_kKvhNU9iwsSFfJUj5ovnUDiUF": {
        "drc": {},
        "offsets": [
         0
        ],
        "position": [
         -83,
         -10,
         -66
        ],
        "scale": 1,
        "scene": "<openalea.plantgl.scenegraph._pglsg.Scene object at 0x7f48827841b8>"
       },
       "scene_kL1Ep4lQKNXTGF11cYEe2R7n4": {
        "drc": {},
        "offsets": [
         0
        ],
        "position": [
         -57,
         60,
         -46
        ],
        "scale": 1,
        "scene": "<openalea.plantgl.scenegraph._pglsg.Scene object at 0x7f4882784848>"
       },
       "scene_kQa59mkzwSJ8wZMmW84c0ytv1": {
        "drc": {},
        "offsets": [
         0
        ],
        "position": [
         -96,
         -34,
         89
        ],
        "scale": 1,
        "scene": "<openalea.plantgl.scenegraph._pglsg.Scene object at 0x7f4882991228>"
       },
       "scene_l3DtpaHxyOvJz5lgrkHeeG7MB": {
        "drc": {},
        "offsets": [
         0
        ],
        "position": [
         112,
         65,
         31
        ],
        "scale": 1,
        "scene": "<openalea.plantgl.scenegraph._pglsg.Scene object at 0x7f488294f810>"
       },
       "scene_lgWkxoVsZbIPAM6MnBUQf3vwQ": {
        "drc": {},
        "offsets": [
         0
        ],
        "position": [
         54,
         2,
         61
        ],
        "scale": 1,
        "scene": "<openalea.plantgl.scenegraph._pglsg.Scene object at 0x7f48828824c8>"
       },
       "scene_ljsmJd6AnUxDdEJxgiDm090qL": {
        "drc": {},
        "offsets": [
         0
        ],
        "position": [
         -54,
         -115,
         28
        ],
        "scale": 1,
        "scene": "<openalea.plantgl.scenegraph._pglsg.Scene object at 0x7f48828a6500>"
       },
       "scene_m2FB3al5EURTrthkZo2vMcWzH": {
        "drc": {},
        "offsets": [
         0
        ],
        "position": [
         -25,
         65,
         34
        ],
        "scale": 1,
        "scene": "<openalea.plantgl.scenegraph._pglsg.Scene object at 0x7f48829bf998>"
       },
       "scene_mAOjkSf4F7wsLYzxcsSSgV6w4": {
        "drc": {},
        "offsets": [
         0
        ],
        "position": [
         91,
         120,
         63
        ],
        "scale": 1,
        "scene": "<openalea.plantgl.scenegraph._pglsg.Scene object at 0x7f488281f148>"
       },
       "scene_mYjwxREEAxps60VBYxscFSKrB": {
        "drc": {},
        "offsets": [
         0
        ],
        "position": [
         -18,
         51,
         -85
        ],
        "scale": 1,
        "scene": "<openalea.plantgl.scenegraph._pglsg.Scene object at 0x7f488290dfb8>"
       },
       "scene_msOpaE07ry2Z2Ad97kFJFAZaU": {
        "drc": {},
        "offsets": [
         0
        ],
        "position": [
         -97,
         -67,
         7
        ],
        "scale": 1,
        "scene": "<openalea.plantgl.scenegraph._pglsg.Scene object at 0x7f488297fe30>"
       },
       "scene_ndV2gb91YPP0J7OoDUCRoTJ8d": {
        "drc": {},
        "offsets": [
         0
        ],
        "position": [
         14,
         -120,
         -112
        ],
        "scale": 1,
        "scene": "<openalea.plantgl.scenegraph._pglsg.Scene object at 0x7f4882756378>"
       },
       "scene_ntzDahcI1daISjWZJXBgDvkcC": {
        "drc": {},
        "offsets": [
         0
        ],
        "position": [
         -54,
         -50,
         33
        ],
        "scale": 1,
        "scene": "<openalea.plantgl.scenegraph._pglsg.Scene object at 0x7f48828c3b90>"
       },
       "scene_nxIP8DctQd5kgLyPvNpQiYCJ8": {
        "drc": {},
        "offsets": [
         0
        ],
        "position": [
         -96,
         -71,
         -100
        ],
        "scale": 1,
        "scene": "<openalea.plantgl.scenegraph._pglsg.Scene object at 0x7f48827aa1f0>"
       },
       "scene_o2jckCPOizlS35XtL0ygW9f8m": {
        "drc": {},
        "offsets": [
         0
        ],
        "position": [
         46,
         -39,
         -72
        ],
        "scale": 1,
        "scene": "<openalea.plantgl.scenegraph._pglsg.Scene object at 0x7f48829e5fb8>"
       },
       "scene_oBincJli7IYGpLjKGATqQdGfx": {
        "drc": {},
        "offsets": [
         0
        ],
        "position": [
         -42,
         -97,
         12
        ],
        "scale": 1,
        "scene": "<openalea.plantgl.scenegraph._pglsg.Scene object at 0x7f4882715688>"
       },
       "scene_oDezJfIiAkU63yV9HmkI1HkRW": {
        "drc": {},
        "offsets": [
         0
        ],
        "position": [
         -62,
         106,
         -26
        ],
        "scale": 1,
        "scene": "<openalea.plantgl.scenegraph._pglsg.Scene object at 0x7f4882724b90>"
       },
       "scene_oF7szOE3X5CKRwbpOG4HP0c3G": {
        "drc": {},
        "offsets": [
         0
        ],
        "position": [
         -20,
         43,
         34
        ],
        "scale": 1,
        "scene": "<openalea.plantgl.scenegraph._pglsg.Scene object at 0x7f48829e51f0>"
       },
       "scene_oUO7cIR8Ah6Ez4MP1JkWuxzCE": {
        "drc": {},
        "offsets": [
         0
        ],
        "position": [
         107,
         72,
         12
        ],
        "scale": 1,
        "scene": "<openalea.plantgl.scenegraph._pglsg.Scene object at 0x7f48827cf298>"
       },
       "scene_oedx6FWfJnQa5NeAwH3EvtyKI": {
        "drc": {},
        "offsets": [
         0
        ],
        "position": [
         -52,
         15,
         -122
        ],
        "scale": 1,
        "scene": "<openalea.plantgl.scenegraph._pglsg.Scene object at 0x7f4882778df8>"
       },
       "scene_oiQFyAzcZf6C2ujZFvsiAXZSr": {
        "drc": {},
        "offsets": [
         0
        ],
        "position": [
         10,
         -18,
         -15
        ],
        "scale": 1,
        "scene": "<openalea.plantgl.scenegraph._pglsg.Scene object at 0x7f4882747ce0>"
       },
       "scene_oluH9ChykTwZK2qnoUPailaE0": {
        "drc": {},
        "offsets": [
         0
        ],
        "position": [
         -34,
         -82,
         123
        ],
        "scale": 1,
        "scene": "<openalea.plantgl.scenegraph._pglsg.Scene object at 0x7f48827ed298>"
       },
       "scene_om0eR96vl2ejdfFZ8JX92Op42": {
        "drc": {},
        "offsets": [
         0
        ],
        "position": [
         -44,
         33,
         115
        ],
        "scale": 1,
        "scene": "<openalea.plantgl.scenegraph._pglsg.Scene object at 0x7f488283d458>"
       },
       "scene_onCOoNgEe8wLHIyuBn5ScLo6k": {
        "drc": {},
        "offsets": [
         0
        ],
        "position": [
         54,
         -37,
         -113
        ],
        "scale": 1,
        "scene": "<openalea.plantgl.scenegraph._pglsg.Scene object at 0x7f48827aace0>"
       },
       "scene_onOog5hJrXzHqLKUskpcIR2IG": {
        "drc": {},
        "offsets": [
         0
        ],
        "position": [
         -5,
         91,
         -87
        ],
        "scale": 1,
        "scene": "<openalea.plantgl.scenegraph._pglsg.Scene object at 0x7f4882a1c8b8>"
       },
       "scene_p6LDr4AH0GWvyhNnI6kmaLAvX": {
        "drc": {},
        "offsets": [
         0
        ],
        "position": [
         19,
         -90,
         -72
        ],
        "scale": 1,
        "scene": "<openalea.plantgl.scenegraph._pglsg.Scene object at 0x7f48827fa0a0>"
       },
       "scene_pBeJp9EgMyAVthpsHG4OUiOdI": {
        "drc": {},
        "offsets": [
         0
        ],
        "position": [
         13,
         25,
         -60
        ],
        "scale": 1,
        "scene": "<openalea.plantgl.scenegraph._pglsg.Scene object at 0x7f488295f1b8>"
       },
       "scene_pV8p6bmclhBS5znNQAnbse6Xf": {
        "drc": {},
        "offsets": [
         0
        ],
        "position": [
         -5,
         -40,
         -12
        ],
        "scale": 1,
        "scene": "<openalea.plantgl.scenegraph._pglsg.Scene object at 0x7f4882888260>"
       },
       "scene_pfBti69Y1NsVfYoCPhmLFNWzI": {
        "drc": {},
        "offsets": [
         0
        ],
        "position": [
         -3,
         0,
         -14
        ],
        "scale": 1,
        "scene": "<openalea.plantgl.scenegraph._pglsg.Scene object at 0x7f488283ded8>"
       },
       "scene_q2UN9v1q7VxX9o3486wSLWdig": {
        "drc": {},
        "offsets": [
         0
        ],
        "position": [
         46,
         -21,
         -81
        ],
        "scale": 1,
        "scene": "<openalea.plantgl.scenegraph._pglsg.Scene object at 0x7f488279c7a0>"
       },
       "scene_qDKHeH9oISn5lxwHUgLpTrTeR": {
        "drc": {},
        "offsets": [
         0
        ],
        "position": [
         21,
         46,
         92
        ],
        "scale": 1,
        "scene": "<openalea.plantgl.scenegraph._pglsg.Scene object at 0x7f4882a417d8>"
       },
       "scene_qInFu8Y8ZpNiFb5DOuNUkzoMw": {
        "drc": {},
        "offsets": [
         0
        ],
        "position": [
         120,
         72,
         62
        ],
        "scale": 1,
        "scene": "<openalea.plantgl.scenegraph._pglsg.Scene object at 0x7f48828f8ab0>"
       },
       "scene_qNttRSUJNAif72l2o3WPDgyHF": {
        "drc": {},
        "offsets": [
         0
        ],
        "position": [
         11,
         -1,
         123
        ],
        "scale": 1,
        "scene": "<openalea.plantgl.scenegraph._pglsg.Scene object at 0x7f4882766538>"
       },
       "scene_qPfOJi7OPHJusv2ORz61pAyW5": {
        "drc": {},
        "offsets": [
         0
        ],
        "position": [
         93,
         -36,
         93
        ],
        "scale": 1,
        "scene": "<openalea.plantgl.scenegraph._pglsg.Scene object at 0x7f488295fc38>"
       },
       "scene_qV8HGc9hCcrcMFBYCrmVdNZyP": {
        "drc": {},
        "offsets": [
         0
        ],
        "position": [
         43,
         35,
         -97
        ],
        "scale": 1,
        "scene": "<openalea.plantgl.scenegraph._pglsg.Scene object at 0x7f48828c3148>"
       },
       "scene_qzWuE1lGRBcwjB3o3XZCsLU8q": {
        "drc": {},
        "offsets": [
         0
        ],
        "position": [
         2,
         -38,
         -105
        ],
        "scale": 1,
        "scene": "<openalea.plantgl.scenegraph._pglsg.Scene object at 0x7f488290d1f0>"
       },
       "scene_rdGlIupFTEV4SYRmdYENbmAoo": {
        "drc": {},
        "offsets": [
         0
        ],
        "position": [
         -41,
         -116,
         -89
        ],
        "scale": 1,
        "scene": "<openalea.plantgl.scenegraph._pglsg.Scene object at 0x7f488295f538>"
       },
       "scene_rqGb4xdSfdjbuY32oynIwYt4V": {
        "drc": {},
        "offsets": [
         0
        ],
        "position": [
         76,
         -50,
         38
        ],
        "scale": 1,
        "scene": "<openalea.plantgl.scenegraph._pglsg.Scene object at 0x7f488294fb90>"
       },
       "scene_s4GXjcfYl2EiZtoFWzCxhznaN": {
        "drc": {},
        "offsets": [
         0
        ],
        "position": [
         33,
         22,
         -9
        ],
        "scale": 1,
        "scene": "<openalea.plantgl.scenegraph._pglsg.Scene object at 0x7f488280fa08>"
       },
       "scene_s5keuYJbzFihBox3XSVpwIjYT": {
        "drc": {},
        "offsets": [
         0
        ],
        "position": [
         46,
         -57,
         117
        ],
        "scale": 1,
        "scene": "<openalea.plantgl.scenegraph._pglsg.Scene object at 0x7f48827fa420>"
       },
       "scene_sI5Io3EFyZECPIVd31TZUtwoM": {
        "drc": {},
        "offsets": [
         0
        ],
        "position": [
         28,
         8,
         -36
        ],
        "scale": 1,
        "scene": "<openalea.plantgl.scenegraph._pglsg.Scene object at 0x7f4882882f48>"
       },
       "scene_sRnkMLdWZxarEWkreB6YzKedp": {
        "drc": {},
        "offsets": [
         0
        ],
        "position": [
         -113,
         -19,
         -29
        ],
        "scale": 1,
        "scene": "<openalea.plantgl.scenegraph._pglsg.Scene object at 0x7f48827478f0>"
       },
       "scene_sUyg3lzSvWhmCUs3H2pzFfjLR": {
        "drc": {},
        "offsets": [
         0
        ],
        "position": [
         3,
         106,
         -62
        ],
        "scale": 1,
        "scene": "<openalea.plantgl.scenegraph._pglsg.Scene object at 0x7f48828888f0>"
       },
       "scene_slzdFyRDIBXkZA9J2u0JTqsHb": {
        "drc": {},
        "offsets": [
         0
        ],
        "position": [
         4,
         -54,
         -68
        ],
        "scale": 1,
        "scene": "<openalea.plantgl.scenegraph._pglsg.Scene object at 0x7f488283db58>"
       },
       "scene_srPLuOeOP8VdnlL7H0uwiYRB6": {
        "drc": {},
        "offsets": [
         0
        ],
        "position": [
         -33,
         -44,
         -70
        ],
        "scale": 1,
        "scene": "<openalea.plantgl.scenegraph._pglsg.Scene object at 0x7f4882852688>"
       },
       "scene_sziQOQn0skAe6W6Nzn3CjGkIZ": {
        "drc": {},
        "offsets": [
         0
        ],
        "position": [
         27,
         56,
         -118
        ],
        "scale": 1,
        "scene": "<openalea.plantgl.scenegraph._pglsg.Scene object at 0x7f488297fae8>"
       },
       "scene_tFRVcHc6reZDL2AxfhvbnAHn4": {
        "drc": {},
        "offsets": [
         0
        ],
        "position": [
         -95,
         26,
         -92
        ],
        "scale": 1,
        "scene": "<openalea.plantgl.scenegraph._pglsg.Scene object at 0x7f488279cea0>"
       },
       "scene_toEMDjLPNEUErRC8iAvh9nz5W": {
        "drc": {},
        "offsets": [
         0
        ],
        "position": [
         114,
         -60,
         115
        ],
        "scale": 1,
        "scene": "<openalea.plantgl.scenegraph._pglsg.Scene object at 0x7f48829f5928>"
       },
       "scene_uE6diXJRMg2H8L5o8GMwcSp1J": {
        "drc": {},
        "offsets": [
         0
        ],
        "position": [
         119,
         -13,
         66
        ],
        "scale": 1,
        "scene": "<openalea.plantgl.scenegraph._pglsg.Scene object at 0x7f488281ff10>"
       },
       "scene_uUL2Lf7vKANTXqVCV4BKVNBaK": {
        "drc": {},
        "offsets": [
         0
        ],
        "position": [
         -104,
         -66,
         -59
        ],
        "scale": 1,
        "scene": "<openalea.plantgl.scenegraph._pglsg.Scene object at 0x7f48827661b8>"
       },
       "scene_uZkD7uFTcE7XEab7CiohQ2e8X": {
        "drc": {},
        "offsets": [
         0
        ],
        "position": [
         46,
         122,
         16
        ],
        "scale": 1,
        "scene": "<openalea.plantgl.scenegraph._pglsg.Scene object at 0x7f48827ed998>"
       },
       "scene_uiFDIqPPS21y2TQ8Ef6p5bpcJ": {
        "drc": {},
        "offsets": [
         0
        ],
        "position": [
         85,
         81,
         25
        ],
        "scale": 1,
        "scene": "<openalea.plantgl.scenegraph._pglsg.Scene object at 0x7f4882778378>"
       },
       "scene_vIkOfJQKDgvFVDvwSCcYyIbHT": {
        "drc": {},
        "offsets": [
         0
        ],
        "position": [
         55,
         65,
         52
        ],
        "scale": 1,
        "scene": "<openalea.plantgl.scenegraph._pglsg.Scene object at 0x7f4882a050a0>"
       },
       "scene_vKZKtItIN9TKWWzE3oqu2MSkJ": {
        "drc": {},
        "offsets": [
         0
        ],
        "position": [
         -3,
         -109,
         30
        ],
        "scale": 1,
        "scene": "<openalea.plantgl.scenegraph._pglsg.Scene object at 0x7f4882991650>"
       },
       "scene_vq7qE6DggV1duf56DYEpwEGGY": {
        "drc": {},
        "offsets": [
         0
        ],
        "position": [
         -124,
         103,
         120
        ],
        "scale": 1,
        "scene": "<openalea.plantgl.scenegraph._pglsg.Scene object at 0x7f4882888570>"
       },
       "scene_vz3PQcuc8U9kgZ3vrUaurLfRb": {
        "drc": {},
        "offsets": [
         0
        ],
        "position": [
         -96,
         55,
         -69
        ],
        "scale": 1,
        "scene": "<openalea.plantgl.scenegraph._pglsg.Scene object at 0x7f48829d47a0>"
       },
       "scene_w1UanwcDfXi6l0DhAie8Edpmx": {
        "drc": {},
        "offsets": [
         0
        ],
        "position": [
         121,
         94,
         31
        ],
        "scale": 1,
        "scene": "<openalea.plantgl.scenegraph._pglsg.Scene object at 0x7f4882852d88>"
       },
       "scene_wNmY6WVWvTSovDaRA4Bn7hJVV": {
        "drc": {},
        "offsets": [
         0
        ],
        "position": [
         3,
         124,
         -48
        ],
        "scale": 1,
        "scene": "<openalea.plantgl.scenegraph._pglsg.Scene object at 0x7f4882896030>"
       },
       "scene_wZmWGHp0DD1fwfGRljM3FXvaX": {
        "drc": {},
        "offsets": [
         0
        ],
        "position": [
         1,
         14,
         34
        ],
        "scale": 1,
        "scene": "<openalea.plantgl.scenegraph._pglsg.Scene object at 0x7f48828ceca8>"
       },
       "scene_wdtWICySZSsq4Nfg8sABB13pU": {
        "drc": {},
        "offsets": [
         0
        ],
        "position": [
         -94,
         -2,
         -66
        ],
        "scale": 1,
        "scene": "<openalea.plantgl.scenegraph._pglsg.Scene object at 0x7f4882724f10>"
       },
       "scene_wjLN2AY1LLQT5NpcAvkIBFGFZ": {
        "drc": {},
        "offsets": [
         0
        ],
        "position": [
         -43,
         -57,
         -110
        ],
        "scale": 1,
        "scene": "<openalea.plantgl.scenegraph._pglsg.Scene object at 0x7f48827daed8>"
       },
       "scene_wk3TqRtoPwxz8u4UaZKIFpd0s": {
        "drc": {},
        "offsets": [
         0
        ],
        "position": [
         55,
         -76,
         59
        ],
        "scale": 1,
        "scene": "<openalea.plantgl.scenegraph._pglsg.Scene object at 0x7f4882882bc8>"
       },
       "scene_x0I7S9OxxApXRp99DRuH1NMZM": {
        "drc": {},
        "offsets": [
         0
        ],
        "position": [
         15,
         35,
         -58
        ],
        "scale": 1,
        "scene": "<openalea.plantgl.scenegraph._pglsg.Scene object at 0x7f488280f308>"
       },
       "scene_x5kluWwgcSJ6iuE9GloII4swT": {
        "drc": {},
        "offsets": [
         0
        ],
        "position": [
         -111,
         6,
         -76
        ],
        "scale": 1,
        "scene": "<openalea.plantgl.scenegraph._pglsg.Scene object at 0x7f4882a411b8>"
       },
       "scene_x66jaEbCHO6yTyNrajPwdqwDK": {
        "drc": {},
        "offsets": [
         0
        ],
        "position": [
         -49,
         105,
         -36
        ],
        "scale": 1,
        "scene": "<openalea.plantgl.scenegraph._pglsg.Scene object at 0x7f4882970378>"
       },
       "scene_xCtyvgzyrQAeQmrs9mbVmxqjY": {
        "drc": {},
        "offsets": [
         0
        ],
        "position": [
         -38,
         -77,
         -20
        ],
        "scale": 1,
        "scene": "<openalea.plantgl.scenegraph._pglsg.Scene object at 0x7f48827cfd18>"
       },
       "scene_xOKkncI11gJiBegyw8cXWs4mO": {
        "drc": {},
        "offsets": [
         0
        ],
        "position": [
         -47,
         -87,
         111
        ],
        "scale": 1,
        "scene": "<openalea.plantgl.scenegraph._pglsg.Scene object at 0x7f488293efb8>"
       },
       "scene_yFqkcFJJlLSiYHaczezcW3R79": {
        "drc": {},
        "offsets": [
         0
        ],
        "position": [
         -59,
         60,
         -51
        ],
        "scale": 1,
        "scene": "<openalea.plantgl.scenegraph._pglsg.Scene object at 0x7f488292e378>"
       },
       "scene_yU81x0P8yilG65d6uRNX55o20": {
        "drc": {},
        "offsets": [
         0
        ],
        "position": [
         36,
         86,
         34
        ],
        "scale": 1,
        "scene": "<openalea.plantgl.scenegraph._pglsg.Scene object at 0x7f488291e998>"
       },
       "scene_yj3vJj7XIuEkgTyB7lB9DzZAk": {
        "drc": {},
        "offsets": [
         0
        ],
        "position": [
         -71,
         -96,
         -90
        ],
        "scale": 1,
        "scene": "<openalea.plantgl.scenegraph._pglsg.Scene object at 0x7f48829b3b20>"
       },
       "scene_ymSuJ5oKMTRAgyn5ZHy0AMT8e": {
        "drc": {},
        "offsets": [
         0
        ],
        "position": [
         -2,
         -43,
         -72
        ],
        "scale": 1,
        "scene": "<openalea.plantgl.scenegraph._pglsg.Scene object at 0x7f4882a1cab0>"
       },
       "scene_yuYNenUAhbbU0cTGEXg1OrFbC": {
        "drc": {},
        "offsets": [
         0
        ],
        "position": [
         82,
         -14,
         -36
        ],
        "scale": 1,
        "scene": "<openalea.plantgl.scenegraph._pglsg.Scene object at 0x7f48827b7730>"
       },
       "scene_z0VpvrFZPKAIcuXbCtJQuxM92": {
        "drc": {},
        "offsets": [
         0
        ],
        "position": [
         -64,
         -96,
         -29
        ],
        "scale": 1,
        "scene": "<openalea.plantgl.scenegraph._pglsg.Scene object at 0x7f4882756e68>"
       },
       "scene_zKCVe9Q8GSZImJEx9vwMS488s": {
        "drc": {},
        "offsets": [
         0
        ],
        "position": [
         93,
         -18,
         11
        ],
        "scale": 1,
        "scene": "<openalea.plantgl.scenegraph._pglsg.Scene object at 0x7f48828c3810>"
       },
       "scene_zQHpr7ChVChMYzn1bJRFeOlFd": {
        "drc": {},
        "offsets": [
         0
        ],
        "position": [
         -22,
         -113,
         114
        ],
        "scale": 1,
        "scene": "<openalea.plantgl.scenegraph._pglsg.Scene object at 0x7f488278b260>"
       },
       "scene_zSfny7lrNXEUCFhpokS9VQnpt": {
        "drc": {},
        "offsets": [
         0
        ],
        "position": [
         -78,
         66,
         -54
        ],
        "scale": 1,
        "scene": "<openalea.plantgl.scenegraph._pglsg.Scene object at 0x7f488291ece0>"
       },
       "scene_zbmRwJOShYpKo6DF06wiTJYcS": {
        "drc": {},
        "offsets": [
         0
        ],
        "position": [
         99,
         75,
         99
        ],
        "scale": 1,
        "scene": "<openalea.plantgl.scenegraph._pglsg.Scene object at 0x7f488291e618>"
       },
       "scene_zfq9rdRKjCc6WWpR6MzbpCg1i": {
        "drc": {},
        "offsets": [
         0
        ],
        "position": [
         -121,
         13,
         59
        ],
        "scale": 1,
        "scene": "<openalea.plantgl.scenegraph._pglsg.Scene object at 0x7f48828ce420>"
       },
       "scene_zxwUTkBZ2z4aqCEEiAOJ1UYCh": {
        "drc": {},
        "offsets": [
         0
        ],
        "position": [
         -104,
         124,
         -100
        ],
        "scale": 1,
        "scene": "<openalea.plantgl.scenegraph._pglsg.Scene object at 0x7f48828a6ed8>"
       },
       "scene_zzGwLEAQp7dVGIs0ir6sLZEcQ": {
        "drc": {},
        "offsets": [
         0
        ],
        "position": [
         -67,
         -29,
         33
        ],
        "scale": 1,
        "scene": "<openalea.plantgl.scenegraph._pglsg.Scene object at 0x7f48829d4ae8>"
       },
       "size_display": [
        600,
        400
       ],
       "size_world": [
        255,
        255,
        255
       ]
      }
     },
     "eda4c6e530084d9fa735bc685d6bb166": {
      "model_module": "@jupyter-widgets/base",
      "model_module_version": "1.2.0",
      "model_name": "LayoutModel",
      "state": {}
     }
    },
    "version_major": 2,
    "version_minor": 0
   }
  }
 },
 "nbformat": 4,
 "nbformat_minor": 4
}
