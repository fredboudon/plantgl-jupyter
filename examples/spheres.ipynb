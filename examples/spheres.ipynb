{
 "cells": [
  {
   "cell_type": "code",
   "execution_count": 4,
   "metadata": {},
   "outputs": [
    {
     "data": {
      "application/vnd.jupyter.widget-view+json": {
       "model_id": "23a6fd8a821744c68cec6049c4ba9992",
       "version_major": 2,
       "version_minor": 0
      },
      "text/plain": [
       "SceneWidget(scene={'drc': <memory at 0x7f7790a9c390>, 'scene': <openalea.plantgl.scenegraph._pglsg.Scene objec…"
      ]
     },
     "metadata": {},
     "output_type": "display_data"
    }
   ],
   "source": [
    "from pgljupyter import SceneWidget\n",
    "from openalea.plantgl.all import *\n",
    "sw = SceneWidget(size_display=(600, 400), size_world=(255, 255, 255))\n",
    "sw"
   ]
  },
  {
   "cell_type": "code",
   "execution_count": 5,
   "metadata": {
    "scrolled": true
   },
   "outputs": [],
   "source": [
    "import random\n",
    "for i in range(255):\n",
    "    x, y, z = [random.choice([-1, 1]) * random.randrange(0, int(255/2)) for i in range(3)]\n",
    "    sw.add(Scene([Shape(Sphere(random.randrange(1, 20), 10, 10), \n",
    "                        Material(ambient=(x+int(255/2), y+int(255/2), z+int(255/2))))]), (x, y, z))"
   ]
  }
 ],
 "metadata": {
  "kernelspec": {
   "display_name": "pgl-jupyter",
   "language": "python",
   "name": "pgl-jupyter"
  },
  "language_info": {
   "codemirror_mode": {
    "name": "ipython",
    "version": 3
   },
   "file_extension": ".py",
   "mimetype": "text/x-python",
   "name": "python",
   "nbconvert_exporter": "python",
   "pygments_lexer": "ipython3",
   "version": "3.7.6"
  },
  "widgets": {
   "application/vnd.jupyter.widget-state+json": {
    "state": {
     "1d6998ae42f24c9aa727764005d4b6a2": {
      "buffers": [
       {
        "data": "",
        "encoding": "base64",
        "path": [
         "scene",
         "drc"
        ]
       }
      ],
      "model_module": "pgljupyter",
      "model_module_version": "^0.1.0",
      "model_name": "SceneWidgetModel",
      "state": {
       "_model_module_version": "^0.1.0",
       "_view_module_version": "^0.1.0",
       "axes_helper": true,
       "layout": "IPY_MODEL_23607f43f09a40048b20e2561308092c",
       "light_helper": true,
       "mesh_compression": 10,
       "scene": {
        "position": [
         0,
         0,
         0
        ],
        "scale": 1,
        "scene": "<openalea.plantgl.scenegraph._pglsg.Scene object at 0x7f77915dc0f0>"
       },
       "scene_06JfdiiJHKEYCWniPAlsuPcP3": {
        "drc": {},
        "position": [
         -93,
         123,
         1
        ],
        "scale": 1,
        "scene": "<openalea.plantgl.scenegraph._pglsg.Scene object at 0x7f7790ad2d70>"
       },
       "scene_06P4z183ZOwaUnTjkmHUz3xVA": {
        "drc": {},
        "position": [
         34,
         46,
         -27
        ],
        "scale": 1,
        "scene": "<openalea.plantgl.scenegraph._pglsg.Scene object at 0x7f7790cad370>"
       },
       "scene_0CpQDt5SEz39wPCUeNMP4jw7Q": {
        "drc": {},
        "position": [
         46,
         70,
         -69
        ],
        "scale": 1,
        "scene": "<openalea.plantgl.scenegraph._pglsg.Scene object at 0x7f7790c56fb0>"
       },
       "scene_0FIdfnyzMhoVjXecKQSTV8fpu": {
        "drc": {},
        "position": [
         91,
         92,
         8
        ],
        "scale": 1,
        "scene": "<openalea.plantgl.scenegraph._pglsg.Scene object at 0x7f7790cadd30>"
       },
       "scene_0HTsndz5hJNGeLHJN2jlFhPKw": {
        "drc": {},
        "position": [
         -26,
         -20,
         -113
        ],
        "scale": 1,
        "scene": "<openalea.plantgl.scenegraph._pglsg.Scene object at 0x7f7790c897f0>"
       },
       "scene_0OdQ1br1fxktBu4V7YH30tylA": {
        "drc": {},
        "position": [
         -62,
         -120,
         76
        ],
        "scale": 1,
        "scene": "<openalea.plantgl.scenegraph._pglsg.Scene object at 0x7f7790a75cf0>"
       },
       "scene_0avMB7WsHoQB4dIdvV1QFxjEA": {
        "drc": {},
        "position": [
         -91,
         77,
         51
        ],
        "scale": 1,
        "scene": "<openalea.plantgl.scenegraph._pglsg.Scene object at 0x7f7790d25bf0>"
       },
       "scene_0foZWH2yrZrIKYfBUM7PRt5qH": {
        "drc": {},
        "position": [
         -73,
         0,
         -52
        ],
        "scale": 1,
        "scene": "<openalea.plantgl.scenegraph._pglsg.Scene object at 0x7f7790c7bc30>"
       },
       "scene_0iKVs3duLos5XEQPHEfnj8a9e": {
        "drc": {},
        "position": [
         -13,
         -64,
         112
        ],
        "scale": 1,
        "scene": "<openalea.plantgl.scenegraph._pglsg.Scene object at 0x7f7790b97f30>"
       },
       "scene_0nEPcWf9X7vn1OTUKDWXjdHET": {
        "drc": {},
        "position": [
         26,
         -27,
         79
        ],
        "scale": 1,
        "scene": "<openalea.plantgl.scenegraph._pglsg.Scene object at 0x7f7790aec630>"
       },
       "scene_14ynEHKZispcOHG8emHKc9aNO": {
        "drc": {},
        "position": [
         55,
         -50,
         85
        ],
        "scale": 1,
        "scene": "<openalea.plantgl.scenegraph._pglsg.Scene object at 0x7f7790b459b0>"
       },
       "scene_1T62AB2bPNNjm9dLXGirWgMwX": {
        "drc": {},
        "position": [
         -107,
         -68,
         -30
        ],
        "scale": 1,
        "scene": "<openalea.plantgl.scenegraph._pglsg.Scene object at 0x7f7790d47430>"
       },
       "scene_1kfIxQ0dt3QF3TXhWUyea8f0l": {
        "drc": {},
        "position": [
         40,
         11,
         65
        ],
        "scale": 1,
        "scene": "<openalea.plantgl.scenegraph._pglsg.Scene object at 0x7f7790cdef30>"
       },
       "scene_1mUqv2p8O6tNcXeINezJUDLd1": {
        "drc": {},
        "position": [
         -28,
         39,
         -70
        ],
        "scale": 1,
        "scene": "<openalea.plantgl.scenegraph._pglsg.Scene object at 0x7f7790d65470>"
       },
       "scene_2AuH6eEvi9IDNMDHSGtgikO10": {
        "drc": {},
        "position": [
         -77,
         97,
         50
        ],
        "scale": 1,
        "scene": "<openalea.plantgl.scenegraph._pglsg.Scene object at 0x7f7790cb60f0>"
       },
       "scene_2J1unDUhA750rTvqTle89TDaD": {
        "drc": {},
        "position": [
         52,
         -110,
         -89
        ],
        "scale": 1,
        "scene": "<openalea.plantgl.scenegraph._pglsg.Scene object at 0x7f7790d00f30>"
       },
       "scene_2p5GX20o4rkPhFA19nkDHLs10": {
        "drc": {},
        "position": [
         60,
         62,
         16
        ],
        "scale": 1,
        "scene": "<openalea.plantgl.scenegraph._pglsg.Scene object at 0x7f7790cbed30>"
       },
       "scene_2sajoCQH3k2Irm8HSdiwAEw7K": {
        "drc": {},
        "position": [
         84,
         14,
         -64
        ],
        "scale": 1,
        "scene": "<openalea.plantgl.scenegraph._pglsg.Scene object at 0x7f7790a97770>"
       },
       "scene_2tbLrLseCnmVLXWcXfuAhFh7p": {
        "drc": {},
        "position": [
         46,
         18,
         -7
        ],
        "scale": 1,
        "scene": "<openalea.plantgl.scenegraph._pglsg.Scene object at 0x7f7790c6abb0>"
       },
       "scene_2vh4Ld0Uv7CZjQG3ajEpaihar": {
        "drc": {},
        "position": [
         -5,
         102,
         -102
        ],
        "scale": 1,
        "scene": "<openalea.plantgl.scenegraph._pglsg.Scene object at 0x7f7790bf1f30>"
       },
       "scene_2yF9nlOKIOKHkhKaxDC6sSCoo": {
        "drc": {},
        "position": [
         91,
         96,
         -86
        ],
        "scale": 1,
        "scene": "<openalea.plantgl.scenegraph._pglsg.Scene object at 0x7f7790c95530>"
       },
       "scene_35evTvLKPmbAtEITTAxanJbTT": {
        "drc": {},
        "position": [
         -45,
         6,
         84
        ],
        "scale": 1,
        "scene": "<openalea.plantgl.scenegraph._pglsg.Scene object at 0x7f7790c74df0>"
       },
       "scene_3M9eHplzCoaUxEDBwwaJN0cos": {
        "drc": {},
        "position": [
         -49,
         -51,
         -24
        ],
        "scale": 1,
        "scene": "<openalea.plantgl.scenegraph._pglsg.Scene object at 0x7f7790b4e570>"
       },
       "scene_3ZtmsMNHGcLSCQiE79Dsw5lnX": {
        "drc": {},
        "position": [
         -69,
         -28,
         -28
        ],
        "scale": 1,
        "scene": "<openalea.plantgl.scenegraph._pglsg.Scene object at 0x7f7790d36cb0>"
       },
       "scene_3gPHWZIA014hXcUvCqX650Yf4": {
        "drc": {},
        "position": [
         106,
         116,
         30
        ],
        "scale": 1,
        "scene": "<openalea.plantgl.scenegraph._pglsg.Scene object at 0x7f7790ac8bf0>"
       },
       "scene_3w8iAvA9J1E1Vzw1axRbnD4ZL": {
        "drc": {},
        "position": [
         -60,
         -98,
         -15
        ],
        "scale": 1,
        "scene": "<openalea.plantgl.scenegraph._pglsg.Scene object at 0x7f7790cf8930>"
       },
       "scene_48nUCUI0fIFaPCS6lnDHdwjI5": {
        "drc": {},
        "position": [
         -29,
         104,
         74
        ],
        "scale": 1,
        "scene": "<openalea.plantgl.scenegraph._pglsg.Scene object at 0x7f7790b72d70>"
       },
       "scene_4LMBXiU8RDTPkiZXq7RPOzzXn": {
        "drc": {},
        "position": [
         -34,
         -74,
         -53
        ],
        "scale": 1,
        "scene": "<openalea.plantgl.scenegraph._pglsg.Scene object at 0x7f7790b84670>"
       },
       "scene_50mit3fPxnMypVwuCQcvXDfi8": {
        "drc": {},
        "position": [
         92,
         -10,
         23
        ],
        "scale": 1,
        "scene": "<openalea.plantgl.scenegraph._pglsg.Scene object at 0x7f7790b78af0>"
       },
       "scene_56CJPzL3W6308NZJU8WuTevlO": {
        "drc": {},
        "position": [
         -82,
         108,
         -51
        ],
        "scale": 1,
        "scene": "<openalea.plantgl.scenegraph._pglsg.Scene object at 0x7f7790d3ecf0>"
       },
       "scene_58u2qkanZNYEDvilfZ3OQ5jy1": {
        "drc": {},
        "position": [
         114,
         65,
         25
        ],
        "scale": 1,
        "scene": "<openalea.plantgl.scenegraph._pglsg.Scene object at 0x7f7790afc730>"
       },
       "scene_5D1tXOTQAFx06FZvxPyNlR8mX": {
        "drc": {},
        "position": [
         93,
         48,
         -124
        ],
        "scale": 1,
        "scene": "<openalea.plantgl.scenegraph._pglsg.Scene object at 0x7f7790cbeb70>"
       },
       "scene_5MvpM88XojHJwhGFmJkHQkwri": {
        "drc": {},
        "position": [
         -13,
         -117,
         36
        ],
        "scale": 1,
        "scene": "<openalea.plantgl.scenegraph._pglsg.Scene object at 0x7f77c440b0f0>"
       },
       "scene_5n7g84Zx9FYmoqQ9TzZssk0Ce": {
        "drc": {},
        "position": [
         92,
         -102,
         31
        ],
        "scale": 1,
        "scene": "<openalea.plantgl.scenegraph._pglsg.Scene object at 0x7f7790ce7530>"
       },
       "scene_5saSFGSWxqNwaYfTLeHJopWDG": {
        "drc": {},
        "position": [
         42,
         10,
         5
        ],
        "scale": 1,
        "scene": "<openalea.plantgl.scenegraph._pglsg.Scene object at 0x7f7790cd55f0>"
       },
       "scene_5zDKYEulsHVNJO1xy0BpTvdbi": {
        "drc": {},
        "position": [
         37,
         -67,
         -72
        ],
        "scale": 1,
        "scene": "<openalea.plantgl.scenegraph._pglsg.Scene object at 0x7f7790aecb70>"
       },
       "scene_66RUEaJOrs34hqKWPZkP1CspK": {
        "drc": {},
        "position": [
         115,
         34,
         79
        ],
        "scale": 1,
        "scene": "<openalea.plantgl.scenegraph._pglsg.Scene object at 0x7f7790d36e30>"
       },
       "scene_6FhS8XXiA8YfzKQkDwSon6EY5": {
        "drc": {},
        "position": [
         92,
         96,
         69
        ],
        "scale": 1,
        "scene": "<openalea.plantgl.scenegraph._pglsg.Scene object at 0x7f7790cb64b0>"
       },
       "scene_6WkLibaPN52tOQRIvNQeg7lIh": {
        "drc": {},
        "position": [
         46,
         29,
         21
        ],
        "scale": 1,
        "scene": "<openalea.plantgl.scenegraph._pglsg.Scene object at 0x7f7790cd5370>"
       },
       "scene_6a9NzNhRfBMa0r0S8MydjAT2l": {
        "drc": {},
        "position": [
         99,
         29,
         -123
        ],
        "scale": 1,
        "scene": "<openalea.plantgl.scenegraph._pglsg.Scene object at 0x7f7790cbed70>"
       },
       "scene_743oaihKeFct9MmmynozXXg6L": {
        "drc": {},
        "position": [
         -61,
         106,
         108
        ],
        "scale": 1,
        "scene": "<openalea.plantgl.scenegraph._pglsg.Scene object at 0x7f7790d6e7b0>"
       },
       "scene_76H8a1JXeVoDhClhaLYYZZcUy": {
        "drc": {},
        "position": [
         -36,
         -97,
         105
        ],
        "scale": 1,
        "scene": "<openalea.plantgl.scenegraph._pglsg.Scene object at 0x7f7790c4d9f0>"
       },
       "scene_7GjcNGdVMJlaWvCkEywtJsS0G": {
        "drc": {},
        "position": [
         -8,
         -81,
         -74
        ],
        "scale": 1,
        "scene": "<openalea.plantgl.scenegraph._pglsg.Scene object at 0x7f7790b4eb30>"
       },
       "scene_7JpPB5vWK3QkjWbmNqcHtKqey": {
        "drc": {},
        "position": [
         -105,
         -26,
         30
        ],
        "scale": 1,
        "scene": "<openalea.plantgl.scenegraph._pglsg.Scene object at 0x7f7790b8e1b0>"
       },
       "scene_7OpBrTbPxov1ztjPu9LZNdcx9": {
        "drc": {},
        "position": [
         -64,
         -85,
         -111
        ],
        "scale": 1,
        "scene": "<openalea.plantgl.scenegraph._pglsg.Scene object at 0x7f7790c89eb0>"
       },
       "scene_7ppq96usr1kbhUlH0J8ZyAIVi": {
        "drc": {},
        "position": [
         41,
         48,
         -85
        ],
        "scale": 1,
        "scene": "<openalea.plantgl.scenegraph._pglsg.Scene object at 0x7f7790cc95b0>"
       },
       "scene_7yYAqlo64hmF1RX9K1GVUL3xP": {
        "drc": {},
        "position": [
         -72,
         116,
         -13
        ],
        "scale": 1,
        "scene": "<openalea.plantgl.scenegraph._pglsg.Scene object at 0x7f7790ca4270>"
       },
       "scene_83VWLXUCOSeJ0ZTBndzCIS8QX": {
        "drc": {},
        "position": [
         -1,
         73,
         71
        ],
        "scale": 1,
        "scene": "<openalea.plantgl.scenegraph._pglsg.Scene object at 0x7f7790c740b0>"
       },
       "scene_84Hds90NrzyQI4yXxTPODVpxe": {
        "drc": {},
        "position": [
         39,
         -30,
         21
        ],
        "scale": 1,
        "scene": "<openalea.plantgl.scenegraph._pglsg.Scene object at 0x7f7790bf13b0>"
       },
       "scene_8ODFifjul5zLIbxpYIQnAcyk7": {
        "drc": {},
        "position": [
         -24,
         -2,
         93
        ],
        "scale": 1,
        "scene": "<openalea.plantgl.scenegraph._pglsg.Scene object at 0x7f7790aecd70>"
       },
       "scene_8VA18FMs9XmSqbqyXrTP5Kqb5": {
        "drc": {},
        "position": [
         -77,
         -19,
         -19
        ],
        "scale": 1,
        "scene": "<openalea.plantgl.scenegraph._pglsg.Scene object at 0x7f7790d6e170>"
       },
       "scene_8We14ykGDEmh8wMTf3KM5lyLy": {
        "drc": {},
        "position": [
         -10,
         62,
         -50
        ],
        "scale": 1,
        "scene": "<openalea.plantgl.scenegraph._pglsg.Scene object at 0x7f7790c7b670>"
       },
       "scene_8lPPzGjEu0VC2o9C4AlsPe09x": {
        "drc": {},
        "position": [
         116,
         -116,
         -11
        ],
        "scale": 1,
        "scene": "<openalea.plantgl.scenegraph._pglsg.Scene object at 0x7f7790d657f0>"
       },
       "scene_9gSttVzomqZqtSdJQm8qbdQ1t": {
        "drc": {},
        "position": [
         106,
         15,
         -106
        ],
        "scale": 1,
        "scene": "<openalea.plantgl.scenegraph._pglsg.Scene object at 0x7f7790a92fb0>"
       },
       "scene_A1Kh2Hb3OHdrGSKTz0WkVkbSI": {
        "drc": {},
        "position": [
         112,
         -13,
         61
        ],
        "scale": 1,
        "scene": "<openalea.plantgl.scenegraph._pglsg.Scene object at 0x7f7790c89030>"
       },
       "scene_A4F6v7iAMPFpZux7bviP308oD": {
        "drc": {},
        "position": [
         -91,
         24,
         -8
        ],
        "scale": 1,
        "scene": "<openalea.plantgl.scenegraph._pglsg.Scene object at 0x7f7790d32cf0>"
       },
       "scene_AHwpcHvamwb74P11QfQLSgp1D": {
        "drc": {},
        "position": [
         -126,
         -67,
         84
        ],
        "scale": 1,
        "scene": "<openalea.plantgl.scenegraph._pglsg.Scene object at 0x7f7790bb27f0>"
       },
       "scene_ATOsQADwyJurdwTFay8ccA6iJ": {
        "drc": {},
        "position": [
         -51,
         -122,
         12
        ],
        "scale": 1,
        "scene": "<openalea.plantgl.scenegraph._pglsg.Scene object at 0x7f7790b23670>"
       },
       "scene_AjKUMLMlDkfeKsiwy5CQeFmbo": {
        "drc": {},
        "position": [
         0,
         -65,
         41
        ],
        "scale": 1,
        "scene": "<openalea.plantgl.scenegraph._pglsg.Scene object at 0x7f7790d1c670>"
       },
       "scene_Am9setMmiw3edd1i8i1r0Jkoo": {
        "drc": {},
        "position": [
         104,
         -84,
         11
        ],
        "scale": 1,
        "scene": "<openalea.plantgl.scenegraph._pglsg.Scene object at 0x7f7790c95af0>"
       },
       "scene_AmT79UhUKVY2RdUno2jgDviUk": {
        "drc": {},
        "position": [
         -90,
         20,
         22
        ],
        "scale": 1,
        "scene": "<openalea.plantgl.scenegraph._pglsg.Scene object at 0x7f7790c4df70>"
       },
       "scene_B6hAuY9gd0M9o63SYtmXseknm": {
        "drc": {},
        "position": [
         -59,
         48,
         -113
        ],
        "scale": 1,
        "scene": "<openalea.plantgl.scenegraph._pglsg.Scene object at 0x7f7790d6e3b0>"
       },
       "scene_BaiPaTrwJ9XMN3CPchJFXvJZ9": {
        "drc": {},
        "position": [
         41,
         -96,
         74
        ],
        "scale": 1,
        "scene": "<openalea.plantgl.scenegraph._pglsg.Scene object at 0x7f7790c99c70>"
       },
       "scene_Bea1sIyOZnSFcNwI1QYn4p5rt": {
        "drc": {},
        "position": [
         38,
         61,
         76
        ],
        "scale": 1,
        "scene": "<openalea.plantgl.scenegraph._pglsg.Scene object at 0x7f7790b3adf0>"
       },
       "scene_DOMvzUkxUq7XBn2XodawkeQyY": {
        "drc": {},
        "position": [
         -16,
         92,
         41
        ],
        "scale": 1,
        "scene": "<openalea.plantgl.scenegraph._pglsg.Scene object at 0x7f7790c5feb0>"
       },
       "scene_DUoSJGqRNRh7zJ8nprc1tvQI5": {
        "drc": {},
        "position": [
         -86,
         -91,
         22
        ],
        "scale": 1,
        "scene": "<openalea.plantgl.scenegraph._pglsg.Scene object at 0x7f7790b2bd70>"
       },
       "scene_E8n3gV8ig2UZ3VyMWC8t9zwpO": {
        "drc": {},
        "position": [
         47,
         -100,
         41
        ],
        "scale": 1,
        "scene": "<openalea.plantgl.scenegraph._pglsg.Scene object at 0x7f7790bb6230>"
       },
       "scene_EoZqwIGm77FooiL7lwQGrkyA3": {
        "drc": {},
        "position": [
         -79,
         -67,
         -98
        ],
        "scale": 1,
        "scene": "<openalea.plantgl.scenegraph._pglsg.Scene object at 0x7f7790b576f0>"
       },
       "scene_F0B2FtMaDGlTPCXlbq3YC1pET": {
        "drc": {},
        "position": [
         14,
         -78,
         19
        ],
        "scale": 1,
        "scene": "<openalea.plantgl.scenegraph._pglsg.Scene object at 0x7f7790d471b0>"
       },
       "scene_FOcFW3Z50q5MSa0OLSPHwUrqr": {
        "drc": {},
        "position": [
         -9,
         4,
         -72
        ],
        "scale": 1,
        "scene": "<openalea.plantgl.scenegraph._pglsg.Scene object at 0x7f7790b57cb0>"
       },
       "scene_FP0rwzhE4umBKbkBs9KAJ7R20": {
        "drc": {},
        "position": [
         22,
         91,
         90
        ],
        "scale": 1,
        "scene": "<openalea.plantgl.scenegraph._pglsg.Scene object at 0x7f7790c74730>"
       },
       "scene_FtEgynQvM3Uo4awG1XB0CdtS5": {
        "drc": {},
        "position": [
         -16,
         20,
         111
        ],
        "scale": 1,
        "scene": "<openalea.plantgl.scenegraph._pglsg.Scene object at 0x7f7790ab6eb0>"
       },
       "scene_G9eH4Rj1EVmrPX4cwZ3bP7ymB": {
        "drc": {},
        "position": [
         -6,
         -35,
         -8
        ],
        "scale": 1,
        "scene": "<openalea.plantgl.scenegraph._pglsg.Scene object at 0x7f7790cbe5b0>"
       },
       "scene_GINt59FjMkLKpWneXySyV4rKk": {
        "drc": {},
        "position": [
         -83,
         26,
         15
        ],
        "scale": 1,
        "scene": "<openalea.plantgl.scenegraph._pglsg.Scene object at 0x7f7790be77f0>"
       },
       "scene_GNTn9Z064omYKYgWgzvANFGx7": {
        "drc": {},
        "position": [
         18,
         90,
         -60
        ],
        "scale": 1,
        "scene": "<openalea.plantgl.scenegraph._pglsg.Scene object at 0x7f7790ae34f0>"
       },
       "scene_H84CaqqbI6D16LcNSq7xLSLNN": {
        "drc": {},
        "position": [
         -15,
         -88,
         43
        ],
        "scale": 1,
        "scene": "<openalea.plantgl.scenegraph._pglsg.Scene object at 0x7f7790cb6fb0>"
       },
       "scene_HFmKpVsA5ZgCUfrN3ziVQGjzW": {
        "drc": {},
        "position": [
         -46,
         -50,
         89
        ],
        "scale": 1,
        "scene": "<openalea.plantgl.scenegraph._pglsg.Scene object at 0x7f7790d3e430>"
       },
       "scene_HHLySCCbwrCjYpWQhH6zjupCU": {
        "drc": {},
        "position": [
         21,
         101,
         -28
        ],
        "scale": 1,
        "scene": "<openalea.plantgl.scenegraph._pglsg.Scene object at 0x7f7790cd5f70>"
       },
       "scene_HHwXsbh9Y7BHiFwoYFBbE9d0H": {
        "drc": {},
        "position": [
         -29,
         -126,
         -103
        ],
        "scale": 1,
        "scene": "<openalea.plantgl.scenegraph._pglsg.Scene object at 0x7f7790c0fbf0>"
       },
       "scene_I5Dz8DrV9fQIoNCCTs9OvpCqD": {
        "drc": {},
        "position": [
         -65,
         109,
         116
        ],
        "scale": 1,
        "scene": "<openalea.plantgl.scenegraph._pglsg.Scene object at 0x7f7790b6bfb0>"
       },
       "scene_IUQwApnbMx7EVnc29PkfMUNTF": {
        "drc": {},
        "position": [
         33,
         -61,
         -64
        ],
        "scale": 1,
        "scene": "<openalea.plantgl.scenegraph._pglsg.Scene object at 0x7f7790d6e730>"
       },
       "scene_IlbFHpj5mCbve4cGuNQLACiwH": {
        "drc": {},
        "position": [
         48,
         91,
         19
        ],
        "scale": 1,
        "scene": "<openalea.plantgl.scenegraph._pglsg.Scene object at 0x7f7790c7bdf0>"
       },
       "scene_InYD6qQwf2XqPYOnRBjnl1MUW": {
        "drc": {},
        "position": [
         -14,
         -22,
         6
        ],
        "scale": 1,
        "scene": "<openalea.plantgl.scenegraph._pglsg.Scene object at 0x7f7790c46370>"
       },
       "scene_InlXIHski5UE5DOxRCKTr4IMN": {
        "drc": {},
        "position": [
         80,
         -70,
         -27
        ],
        "scale": 1,
        "scene": "<openalea.plantgl.scenegraph._pglsg.Scene object at 0x7f7790d25fb0>"
       },
       "scene_IoIzlUATYJBhUxB96CLZLE1aK": {
        "drc": {},
        "position": [
         43,
         98,
         104
        ],
        "scale": 1,
        "scene": "<openalea.plantgl.scenegraph._pglsg.Scene object at 0x7f7790b72b70>"
       },
       "scene_JEd6q71ywcFJxkPp2tcGUpiNU": {
        "drc": {},
        "position": [
         -98,
         23,
         116
        ],
        "scale": 1,
        "scene": "<openalea.plantgl.scenegraph._pglsg.Scene object at 0x7f7790d13eb0>"
       },
       "scene_JkDMpcLoTFVYHH3vK9wx9tSs3": {
        "drc": {},
        "position": [
         -108,
         -61,
         77
        ],
        "scale": 1,
        "scene": "<openalea.plantgl.scenegraph._pglsg.Scene object at 0x7f7790ada370>"
       },
       "scene_JpyHePxQ2ncS4PWgtsPpuDFnh": {
        "drc": {},
        "position": [
         -94,
         -123,
         46
        ],
        "scale": 1,
        "scene": "<openalea.plantgl.scenegraph._pglsg.Scene object at 0x7f7790cde930>"
       },
       "scene_JrIJbRweSkv7hi29DsinIBIlQ": {
        "drc": {},
        "position": [
         -2,
         -83,
         -70
        ],
        "scale": 1,
        "scene": "<openalea.plantgl.scenegraph._pglsg.Scene object at 0x7f7790c74eb0>"
       },
       "scene_Jtg2I7lxaZ3EoTsL9ZgzFb0yX": {
        "drc": {},
        "position": [
         -111,
         4,
         75
        ],
        "scale": 1,
        "scene": "<openalea.plantgl.scenegraph._pglsg.Scene object at 0x7f7790a7e2f0>"
       },
       "scene_Ju2116bQsZiTZH6WOIBn8EISg": {
        "drc": {},
        "position": [
         120,
         -22,
         33
        ],
        "scale": 1,
        "scene": "<openalea.plantgl.scenegraph._pglsg.Scene object at 0x7f7790b725b0>"
       },
       "scene_K19oGd8CmiaEGJtnNhNmWq80c": {
        "drc": {},
        "position": [
         15,
         -35,
         -100
        ],
        "scale": 1,
        "scene": "<openalea.plantgl.scenegraph._pglsg.Scene object at 0x7f7790ada930>"
       },
       "scene_KADq7p2VUtykzkKSfCaIyar4t": {
        "drc": {},
        "position": [
         55,
         105,
         -27
        ],
        "scale": 1,
        "scene": "<openalea.plantgl.scenegraph._pglsg.Scene object at 0x7f7790c7b5f0>"
       },
       "scene_KL4SHKPyi1i8ad7vQ5OLKw8nx": {
        "drc": {},
        "position": [
         108,
         -61,
         81
        ],
        "scale": 1,
        "scene": "<openalea.plantgl.scenegraph._pglsg.Scene object at 0x7f7790cb6bb0>"
       },
       "scene_L2IrbwyFopQuxUDOXUsAkloJI": {
        "drc": {},
        "position": [
         105,
         19,
         107
        ],
        "scale": 1,
        "scene": "<openalea.plantgl.scenegraph._pglsg.Scene object at 0x7f7790ca4df0>"
       },
       "scene_L7XjQMU4p2WxaCfSUSBKoiXmS": {
        "drc": {},
        "position": [
         -31,
         -103,
         -116
        ],
        "scale": 1,
        "scene": "<openalea.plantgl.scenegraph._pglsg.Scene object at 0x7f7790a86a30>"
       },
       "scene_LGuuYbX0JqqDhMm6slDfu9iSb": {
        "drc": {},
        "position": [
         84,
         -68,
         122
        ],
        "scale": 1,
        "scene": "<openalea.plantgl.scenegraph._pglsg.Scene object at 0x7f77c439a0f0>"
       },
       "scene_LQllqjnBkKUkL7DHOE1Pi2XW9": {
        "drc": {},
        "position": [
         19,
         -5,
         -90
        ],
        "scale": 1,
        "scene": "<openalea.plantgl.scenegraph._pglsg.Scene object at 0x7f7790d36870>"
       },
       "scene_LcNDrFsx4B78kDJ8Eneor6EQA": {
        "drc": {},
        "position": [
         -42,
         53,
         -104
        ],
        "scale": 1,
        "scene": "<openalea.plantgl.scenegraph._pglsg.Scene object at 0x7f7790c232b0>"
       },
       "scene_MKxE3LUJLBR3cau9kPleMtv98": {
        "drc": {},
        "position": [
         56,
         51,
         -81
        ],
        "scale": 1,
        "scene": "<openalea.plantgl.scenegraph._pglsg.Scene object at 0x7f7790abca70>"
       },
       "scene_MTwCWBXMRmX9c1THDVhVMOsLv": {
        "drc": {},
        "position": [
         48,
         115,
         112
        ],
        "scale": 1,
        "scene": "<openalea.plantgl.scenegraph._pglsg.Scene object at 0x7f7790bcb9f0>"
       },
       "scene_MhsaXX7YLbWvTaFiAjHYAgNVj": {
        "drc": {},
        "position": [
         64,
         31,
         -39
        ],
        "scale": 1,
        "scene": "<openalea.plantgl.scenegraph._pglsg.Scene object at 0x7f7790c894f0>"
       },
       "scene_N1uGek63fgZRCzDZqTZNBPn00": {
        "drc": {},
        "position": [
         -120,
         14,
         112
        ],
        "scale": 1,
        "scene": "<openalea.plantgl.scenegraph._pglsg.Scene object at 0x7f7790cdec70>"
       },
       "scene_NDOIwBFsHqVRBZRWuzjTOVyGU": {
        "drc": {},
        "position": [
         58,
         125,
         114
        ],
        "scale": 1,
        "scene": "<openalea.plantgl.scenegraph._pglsg.Scene object at 0x7f7790ba9c30>"
       },
       "scene_NEwe8G9VKPT7UVPZUKCPrfqUw": {
        "drc": {},
        "position": [
         -46,
         27,
         -56
        ],
        "scale": 1,
        "scene": "<openalea.plantgl.scenegraph._pglsg.Scene object at 0x7f7790cb64f0>"
       },
       "scene_NO0YQIssAWrghMmQHgFB37q4Y": {
        "drc": {},
        "position": [
         0,
         19,
         97
        ],
        "scale": 1,
        "scene": "<openalea.plantgl.scenegraph._pglsg.Scene object at 0x7f7790be7db0>"
       },
       "scene_NTJNGQM5DWULuL9JVe3Cg5OfH": {
        "drc": {},
        "position": [
         106,
         118,
         -31
        ],
        "scale": 1,
        "scene": "<openalea.plantgl.scenegraph._pglsg.Scene object at 0x7f7790b19e70>"
       },
       "scene_NalXhmZhHIev5NdS2tP02Cpps": {
        "drc": {},
        "position": [
         -86,
         126,
         -10
        ],
        "scale": 1,
        "scene": "<openalea.plantgl.scenegraph._pglsg.Scene object at 0x7f7790d09530>"
       },
       "scene_NbdOxnewlQWOKrVtN9Nmm7G5Y": {
        "drc": {},
        "position": [
         97,
         84,
         20
        ],
        "scale": 1,
        "scene": "<openalea.plantgl.scenegraph._pglsg.Scene object at 0x7f7790abce70>"
       },
       "scene_NmhOn2rhDjgW91u1wpFJfM3h2": {
        "drc": {},
        "position": [
         65,
         -20,
         29
        ],
        "scale": 1,
        "scene": "<openalea.plantgl.scenegraph._pglsg.Scene object at 0x7f7790d65270>"
       },
       "scene_NzummGGmrJIQtrXl2Bfijh9S8": {
        "drc": {},
        "position": [
         35,
         -77,
         -79
        ],
        "scale": 1,
        "scene": "<openalea.plantgl.scenegraph._pglsg.Scene object at 0x7f7790ae3a70>"
       },
       "scene_OCyJZVUjqwhaIpzyz5I1YPzGr": {
        "drc": {},
        "position": [
         -15,
         46,
         40
        ],
        "scale": 1,
        "scene": "<openalea.plantgl.scenegraph._pglsg.Scene object at 0x7f7790ca41f0>"
       },
       "scene_OEVqIp8llutZU09bGDCI6c0ej": {
        "drc": {},
        "position": [
         -79,
         -10,
         16
        ],
        "scale": 1,
        "scene": "<openalea.plantgl.scenegraph._pglsg.Scene object at 0x7f7790c7b5b0>"
       },
       "scene_ONVR8Ku8GcsNUII6UWeLUVCn6": {
        "drc": {},
        "position": [
         -22,
         -122,
         33
        ],
        "scale": 1,
        "scene": "<openalea.plantgl.scenegraph._pglsg.Scene object at 0x7f7790ca4b30>"
       },
       "scene_ORtoAHzrQEMZM5RbPGsb4y0pi": {
        "drc": {},
        "position": [
         -85,
         -125,
         -59
        ],
        "scale": 1,
        "scene": "<openalea.plantgl.scenegraph._pglsg.Scene object at 0x7f7790c72c70>"
       },
       "scene_OVHE6W4SHwSKj335OamM0wOVn": {
        "drc": {},
        "position": [
         12,
         84,
         120
        ],
        "scale": 1,
        "scene": "<openalea.plantgl.scenegraph._pglsg.Scene object at 0x7f7790cc9cb0>"
       },
       "scene_OYMk6lqeoQkuB2yfyiuQdECDt": {
        "drc": {},
        "position": [
         -59,
         43,
         89
        ],
        "scale": 1,
        "scene": "<openalea.plantgl.scenegraph._pglsg.Scene object at 0x7f7790c7b9b0>"
       },
       "scene_OZQ3Si0s4dElXK1yEOuT8E0lc": {
        "drc": {},
        "position": [
         74,
         0,
         11
        ],
        "scale": 1,
        "scene": "<openalea.plantgl.scenegraph._pglsg.Scene object at 0x7f7790ce71f0>"
       },
       "scene_PA9YUKO3KdBJvrDay6NdR89fR": {
        "drc": {},
        "position": [
         98,
         -19,
         -4
        ],
        "scale": 1,
        "scene": "<openalea.plantgl.scenegraph._pglsg.Scene object at 0x7f7790cf8370>"
       },
       "scene_QNvdp2VIQGWZAP7JdlZqBSwPx": {
        "drc": {},
        "position": [
         24,
         74,
         -54
        ],
        "scale": 1,
        "scene": "<openalea.plantgl.scenegraph._pglsg.Scene object at 0x7f7790c2ee70>"
       },
       "scene_QW3kTCVpc09k4uRGKrPce23B2": {
        "drc": {},
        "position": [
         -56,
         -13,
         30
        ],
        "scale": 1,
        "scene": "<openalea.plantgl.scenegraph._pglsg.Scene object at 0x7f7790cadef0>"
       },
       "scene_QjBDs8bE8suu9Us7fzhjfbi2H": {
        "drc": {},
        "position": [
         66,
         -44,
         52
        ],
        "scale": 1,
        "scene": "<openalea.plantgl.scenegraph._pglsg.Scene object at 0x7f7790d09d70>"
       },
       "scene_R3AMBe4lf63ZKlY8DItBqZRny": {
        "drc": {},
        "position": [
         -90,
         -105,
         -6
        ],
        "scale": 1,
        "scene": "<openalea.plantgl.scenegraph._pglsg.Scene object at 0x7f7790c956f0>"
       },
       "scene_R6ifZ2E9eLa3NXBU0idWvXHEo": {
        "drc": {},
        "position": [
         17,
         22,
         74
        ],
        "scale": 1,
        "scene": "<openalea.plantgl.scenegraph._pglsg.Scene object at 0x7f7790d658f0>"
       },
       "scene_R9jEqa4kHeJGVIUN2EvE3koAu": {
        "drc": {},
        "position": [
         -25,
         -31,
         -12
        ],
        "scale": 1,
        "scene": "<openalea.plantgl.scenegraph._pglsg.Scene object at 0x7f7790d251b0>"
       },
       "scene_RHVwk9d88AfpnZfuYPlxCaBPa": {
        "drc": {},
        "position": [
         -19,
         -60,
         38
        ],
        "scale": 1,
        "scene": "<openalea.plantgl.scenegraph._pglsg.Scene object at 0x7f7790bdfc30>"
       },
       "scene_RU4xlOvaYVnlV2Sx4ceCmyrhY": {
        "drc": {},
        "position": [
         84,
         -3,
         -13
        ],
        "scale": 1,
        "scene": "<openalea.plantgl.scenegraph._pglsg.Scene object at 0x7f7790bb2db0>"
       },
       "scene_SKxsVaOeCNGkibXVJiGsi1BHh": {
        "drc": {},
        "position": [
         80,
         -54,
         -50
        ],
        "scale": 1,
        "scene": "<openalea.plantgl.scenegraph._pglsg.Scene object at 0x7f7790c74470>"
       },
       "scene_SN4hCUOil9ZkgeZ0rAMELhXIP": {
        "drc": {},
        "position": [
         -74,
         62,
         97
        ],
        "scale": 1,
        "scene": "<openalea.plantgl.scenegraph._pglsg.Scene object at 0x7f7790d47ab0>"
       },
       "scene_SP2Xg6z7prIzhQBczghf2LV0e": {
        "drc": {},
        "position": [
         27,
         48,
         -59
        ],
        "scale": 1,
        "scene": "<openalea.plantgl.scenegraph._pglsg.Scene object at 0x7f7790ca4530>"
       },
       "scene_STKZGtcUahOP7yPVXzpwRxGKm": {
        "drc": {},
        "position": [
         9,
         -109,
         4
        ],
        "scale": 1,
        "scene": "<openalea.plantgl.scenegraph._pglsg.Scene object at 0x7f7790cb61b0>"
       },
       "scene_SU4Eh1yemo80GLI6L7qZnK7Eg": {
        "drc": {},
        "position": [
         -62,
         118,
         -72
        ],
        "scale": 1,
        "scene": "<openalea.plantgl.scenegraph._pglsg.Scene object at 0x7f7790bfcef0>"
       },
       "scene_SdCFoxRRRkNtTVg3BMZIxB3w4": {
        "drc": {},
        "position": [
         121,
         108,
         61
        ],
        "scale": 1,
        "scene": "<openalea.plantgl.scenegraph._pglsg.Scene object at 0x7f7790bd5e70>"
       },
       "scene_TMsJSUa9mKgEDJjwkaDApetMh": {
        "drc": {},
        "position": [
         -28,
         -64,
         6
        ],
        "scale": 1,
        "scene": "<openalea.plantgl.scenegraph._pglsg.Scene object at 0x7f7790bcbd70>"
       },
       "scene_TQhZXKXaesJ6ajR9p3K3EOM2A": {
        "drc": {},
        "position": [
         -103,
         41,
         -63
        ],
        "scale": 1,
        "scene": "<openalea.plantgl.scenegraph._pglsg.Scene object at 0x7f7790d3e2b0>"
       },
       "scene_TTZpKsvTjT8rGVhM0I9VRte3u": {
        "drc": {},
        "position": [
         25,
         -23,
         -41
        ],
        "scale": 1,
        "scene": "<openalea.plantgl.scenegraph._pglsg.Scene object at 0x7f7790b612b0>"
       },
       "scene_Tcn0UN7jjsVFUr7FDrH7FsTul": {
        "drc": {},
        "position": [
         30,
         58,
         -18
        ],
        "scale": 1,
        "scene": "<openalea.plantgl.scenegraph._pglsg.Scene object at 0x7f7790b97970>"
       },
       "scene_TmdR3Ydm4wXwKxVvNSbAVuBRF": {
        "drc": {},
        "position": [
         -33,
         -122,
         90
        ],
        "scale": 1,
        "scene": "<openalea.plantgl.scenegraph._pglsg.Scene object at 0x7f7790adaef0>"
       },
       "scene_Tzwpw2VQntRLjsAEYLPJl2nPn": {
        "drc": {},
        "position": [
         -87,
         68,
         -117
        ],
        "scale": 1,
        "scene": "<openalea.plantgl.scenegraph._pglsg.Scene object at 0x7f7790d362b0>"
       },
       "scene_U0PspFnpdO46GsPVYFkuwBM8G": {
        "drc": {},
        "position": [
         -20,
         -31,
         -23
        ],
        "scale": 1,
        "scene": "<openalea.plantgl.scenegraph._pglsg.Scene object at 0x7f7790b78d70>"
       },
       "scene_UFBvoM3OCkvJ6RyyutPLMQjgl": {
        "drc": {},
        "position": [
         40,
         -17,
         -106
        ],
        "scale": 1,
        "scene": "<openalea.plantgl.scenegraph._pglsg.Scene object at 0x7f7790cf8ef0>"
       },
       "scene_ULgrv8wIW3jhKLczKntDfW6Ye": {
        "drc": {},
        "position": [
         -23,
         -48,
         -60
        ],
        "scale": 1,
        "scene": "<openalea.plantgl.scenegraph._pglsg.Scene object at 0x7f7790b0ffb0>"
       },
       "scene_Uh57pN6nGjCqQOfQrxExEchGY": {
        "drc": {},
        "position": [
         -73,
         106,
         55
        ],
        "scale": 1,
        "scene": "<openalea.plantgl.scenegraph._pglsg.Scene object at 0x7f77c440bfb0>"
       },
       "scene_UoT4pIcgSXFgH24EM50mhoduL": {
        "drc": {},
        "position": [
         21,
         106,
         -14
        ],
        "scale": 1,
        "scene": "<openalea.plantgl.scenegraph._pglsg.Scene object at 0x7f7790c726b0>"
       },
       "scene_UpmTnC5HVRDUNwZT2e54Ycemd": {
        "drc": {},
        "position": [
         -28,
         100,
         -107
        ],
        "scale": 1,
        "scene": "<openalea.plantgl.scenegraph._pglsg.Scene object at 0x7f7790c891b0>"
       },
       "scene_Uy8UaGW5MC9PfdyXKfzsD0Vxd": {
        "drc": {},
        "position": [
         69,
         -87,
         19
        ],
        "scale": 1,
        "scene": "<openalea.plantgl.scenegraph._pglsg.Scene object at 0x7f7790c3b7b0>"
       },
       "scene_V08E0vB7xt3Phh2PUdp8XOZpg": {
        "drc": {},
        "position": [
         -98,
         -52,
         -91
        ],
        "scale": 1,
        "scene": "<openalea.plantgl.scenegraph._pglsg.Scene object at 0x7f77916ab070>"
       },
       "scene_VBkEvA4xeE7jHWEJan8WskmuK": {
        "drc": {},
        "position": [
         18,
         115,
         122
        ],
        "scale": 1,
        "scene": "<openalea.plantgl.scenegraph._pglsg.Scene object at 0x7f7790c2e2f0>"
       },
       "scene_VLuuy17xzCMgJx2zu2VTGtPfP": {
        "drc": {},
        "position": [
         -32,
         50,
         -42
        ],
        "scale": 1,
        "scene": "<openalea.plantgl.scenegraph._pglsg.Scene object at 0x7f7790b194f0>"
       },
       "scene_VYQahNUSWRftOn5PwLGFHqLNr": {
        "drc": {},
        "position": [
         1,
         36,
         80
        ],
        "scale": 1,
        "scene": "<openalea.plantgl.scenegraph._pglsg.Scene object at 0x7f7790b23c30>"
       },
       "scene_VYRMwMJGPOnrnZPsSuEUmIMma": {
        "drc": {},
        "position": [
         75,
         61,
         -87
        ],
        "scale": 1,
        "scene": "<openalea.plantgl.scenegraph._pglsg.Scene object at 0x7f7790d6e670>"
       },
       "scene_Ve9ZhCH6QpRsvy6sMg2qgS51G": {
        "drc": {},
        "position": [
         -85,
         45,
         50
        ],
        "scale": 1,
        "scene": "<openalea.plantgl.scenegraph._pglsg.Scene object at 0x7f7790ad27b0>"
       },
       "scene_W3NW8DlUuzgWXP0glnCcOWkkI": {
        "drc": {},
        "position": [
         -39,
         95,
         0
        ],
        "scale": 1,
        "scene": "<openalea.plantgl.scenegraph._pglsg.Scene object at 0x7f7790c89fb0>"
       },
       "scene_WTqVNI582poqZ5kZi2QwyvLBA": {
        "drc": {},
        "position": [
         -31,
         -98,
         15
        ],
        "scale": 1,
        "scene": "<openalea.plantgl.scenegraph._pglsg.Scene object at 0x7f7790b453f0>"
       },
       "scene_Wm07OA9u4k3n14zeZpSxCS1Iz": {
        "drc": {},
        "position": [
         -102,
         0,
         -12
        ],
        "scale": 1,
        "scene": "<openalea.plantgl.scenegraph._pglsg.Scene object at 0x7f7790ba04f0>"
       },
       "scene_XVDUhE50Sun3OKD8gCcaEp3S4": {
        "drc": {},
        "position": [
         33,
         -73,
         31
        ],
        "scale": 1,
        "scene": "<openalea.plantgl.scenegraph._pglsg.Scene object at 0x7f7790bb21b0>"
       },
       "scene_XhDZ5CEgXsKoH9q3oyDpmYTZW": {
        "drc": {},
        "position": [
         -97,
         -63,
         -21
        ],
        "scale": 1,
        "scene": "<openalea.plantgl.scenegraph._pglsg.Scene object at 0x7f7790c89db0>"
       },
       "scene_Ygv8XkQGELGcPSfzUlK1v6yIV": {
        "drc": {},
        "position": [
         64,
         84,
         -119
        ],
        "scale": 1,
        "scene": "<openalea.plantgl.scenegraph._pglsg.Scene object at 0x7f7790d6ed70>"
       },
       "scene_Yk4u3wSnaZ5qu8VmXfeEWdT8C": {
        "drc": {},
        "position": [
         -50,
         58,
         78
        ],
        "scale": 1,
        "scene": "<openalea.plantgl.scenegraph._pglsg.Scene object at 0x7f7790cde730>"
       },
       "scene_Yon7ZGafV7aWBzFYXQARuBtkz": {
        "drc": {},
        "position": [
         119,
         -2,
         34
        ],
        "scale": 1,
        "scene": "<openalea.plantgl.scenegraph._pglsg.Scene object at 0x7f7790a92bb0>"
       },
       "scene_Z7OV0kCRzrgYmDNatZ8N6TDb5": {
        "drc": {},
        "position": [
         -53,
         91,
         -11
        ],
        "scale": 1,
        "scene": "<openalea.plantgl.scenegraph._pglsg.Scene object at 0x7f77c440bc30>"
       },
       "scene_ZBfxI3SAk8DajcCAfrmZHlWvw": {
        "drc": {},
        "position": [
         -102,
         42,
         -93
        ],
        "scale": 1,
        "scene": "<openalea.plantgl.scenegraph._pglsg.Scene object at 0x7f7790a86e30>"
       },
       "scene_ZRN5yEtYy37UmheNqvWuYTVLa": {
        "drc": {},
        "position": [
         -118,
         109,
         9
        ],
        "scale": 1,
        "scene": "<openalea.plantgl.scenegraph._pglsg.Scene object at 0x7f7790b45f70>"
       },
       "scene_ZyhZGTXreolzB0GSFWJoZ9gMC": {
        "drc": {},
        "position": [
         74,
         63,
         15
        ],
        "scale": 1,
        "scene": "<openalea.plantgl.scenegraph._pglsg.Scene object at 0x7f7790d65d70>"
       },
       "scene_a4qypYOkCv4CYtBBBMpWfHQij": {
        "drc": {},
        "position": [
         -67,
         -86,
         -33
        ],
        "scale": 1,
        "scene": "<openalea.plantgl.scenegraph._pglsg.Scene object at 0x7f7790be71b0>"
       },
       "scene_a5YL94d9QRP4WmzOt52zt5jpP": {
        "drc": {},
        "position": [
         -98,
         -13,
         -109
        ],
        "scale": 1,
        "scene": "<openalea.plantgl.scenegraph._pglsg.Scene object at 0x7f7790c46930>"
       },
       "scene_aQQCruPKr1wvuA6CzwJrXfFNE": {
        "drc": {},
        "position": [
         -14,
         -95,
         92
        ],
        "scale": 1,
        "scene": "<openalea.plantgl.scenegraph._pglsg.Scene object at 0x7f7790ce7af0>"
       },
       "scene_bPH3auitco3txBgpjZ90s21SY": {
        "drc": {},
        "position": [
         104,
         84,
         67
        ],
        "scale": 1,
        "scene": "<openalea.plantgl.scenegraph._pglsg.Scene object at 0x7f7790c7bef0>"
       },
       "scene_brG3saTSSqwP6ryD8cyoTnv4B": {
        "drc": {},
        "position": [
         124,
         -40,
         -58
        ],
        "scale": 1,
        "scene": "<openalea.plantgl.scenegraph._pglsg.Scene object at 0x7f7790cc2ef0>"
       },
       "scene_brpSU9nYGnHc17yl1rKcjgihA": {
        "drc": {},
        "position": [
         51,
         6,
         112
        ],
        "scale": 1,
        "scene": "<openalea.plantgl.scenegraph._pglsg.Scene object at 0x7f7790cde770>"
       },
       "scene_cDfnV5SuLXSuEJJTpzrp2sr62": {
        "drc": {},
        "position": [
         -110,
         -126,
         116
        ],
        "scale": 1,
        "scene": "<openalea.plantgl.scenegraph._pglsg.Scene object at 0x7f7790d6e0f0>"
       },
       "scene_cSJavy6rWuOlR8qOI6Kw302Ex": {
        "drc": {},
        "position": [
         -111,
         -110,
         3
        ],
        "scale": 1,
        "scene": "<openalea.plantgl.scenegraph._pglsg.Scene object at 0x7f7790a86470>"
       },
       "scene_cZupCNGbuy8CLOtNKvp0xitf9": {
        "drc": {},
        "position": [
         -46,
         111,
         72
        ],
        "scale": 1,
        "scene": "<openalea.plantgl.scenegraph._pglsg.Scene object at 0x7f7790d3ef30>"
       },
       "scene_ca1PfH2U7uDVYCHc2TL7eemrA": {
        "drc": {},
        "position": [
         115,
         -73,
         -62
        ],
        "scale": 1,
        "scene": "<openalea.plantgl.scenegraph._pglsg.Scene object at 0x7f7790d3e9f0>"
       },
       "scene_cpe98d59sknDf7LYIbnKdUa5e": {
        "drc": {},
        "position": [
         119,
         119,
         94
        ],
        "scale": 1,
        "scene": "<openalea.plantgl.scenegraph._pglsg.Scene object at 0x7f7790ac8630>"
       },
       "scene_dKb2EKUb43XTYXcyljMZMr8s3": {
        "drc": {},
        "position": [
         90,
         -24,
         -93
        ],
        "scale": 1,
        "scene": "<openalea.plantgl.scenegraph._pglsg.Scene object at 0x7f7790a7ee70>"
       },
       "scene_dcalBk5lWqqly2idvTeq7aGyc": {
        "drc": {},
        "position": [
         39,
         17,
         26
        ],
        "scale": 1,
        "scene": "<openalea.plantgl.scenegraph._pglsg.Scene object at 0x7f7790c3bd70>"
       },
       "scene_df04QlJt1pdI4iqzTWagXLExV": {
        "drc": {},
        "position": [
         52,
         -44,
         -101
        ],
        "scale": 1,
        "scene": "<openalea.plantgl.scenegraph._pglsg.Scene object at 0x7f7790ae3e70>"
       },
       "scene_du9fdUuDGWsMAANcsF6O5nEns": {
        "drc": {},
        "position": [
         27,
         -40,
         96
        ],
        "scale": 1,
        "scene": "<openalea.plantgl.scenegraph._pglsg.Scene object at 0x7f7790c0f6f0>"
       },
       "scene_e4bgesNReXmlvnQyxKTocREpb": {
        "drc": {},
        "position": [
         112,
         39,
         -7
        ],
        "scale": 1,
        "scene": "<openalea.plantgl.scenegraph._pglsg.Scene object at 0x7f7790b4edb0>"
       },
       "scene_eBbyj38tSUWszzK0Xmf4yk8vY": {
        "drc": {},
        "position": [
         83,
         61,
         120
        ],
        "scale": 1,
        "scene": "<openalea.plantgl.scenegraph._pglsg.Scene object at 0x7f7790cadc30>"
       },
       "scene_eEpyPeaxW8Mnsqry8Wt0mVyUC": {
        "drc": {},
        "position": [
         77,
         84,
         58
        ],
        "scale": 1,
        "scene": "<openalea.plantgl.scenegraph._pglsg.Scene object at 0x7f7790b61870>"
       },
       "scene_eMITnpQWn8m0tgQt0jvL0tivE": {
        "drc": {},
        "position": [
         -115,
         90,
         -97
        ],
        "scale": 1,
        "scene": "<openalea.plantgl.scenegraph._pglsg.Scene object at 0x7f7790bb6770>"
       },
       "scene_epVqoXhXqH9sDvu5Xi7FaZLYr": {
        "drc": {},
        "position": [
         115,
         24,
         -114
        ],
        "scale": 1,
        "scene": "<openalea.plantgl.scenegraph._pglsg.Scene object at 0x7f7790bcb270>"
       },
       "scene_f3pmWJg5hYsPh3eiTlqS7L64d": {
        "drc": {},
        "position": [
         -25,
         -47,
         -22
        ],
        "scale": 1,
        "scene": "<openalea.plantgl.scenegraph._pglsg.Scene object at 0x7f7790b6b9f0>"
       },
       "scene_fY7mNQshlidqMqXfB65xKLn3G": {
        "drc": {},
        "position": [
         -92,
         62,
         112
        ],
        "scale": 1,
        "scene": "<openalea.plantgl.scenegraph._pglsg.Scene object at 0x7f77c44154b0>"
       },
       "scene_fdGuKddCgEdUcwAPkXmfJ4OiE": {
        "drc": {},
        "position": [
         -6,
         -35,
         -107
        ],
        "scale": 1,
        "scene": "<openalea.plantgl.scenegraph._pglsg.Scene object at 0x7f7790cb69f0>"
       },
       "scene_gDENPdxNvWoamqzZvLlxSnO2r": {
        "drc": {},
        "position": [
         -72,
         -97,
         -109
        ],
        "scale": 1,
        "scene": "<openalea.plantgl.scenegraph._pglsg.Scene object at 0x7f7790b058b0>"
       },
       "scene_gLs9ZCBG9H2mMAJ8pjJrcvD8G": {
        "drc": {},
        "position": [
         56,
         119,
         39
        ],
        "scale": 1,
        "scene": "<openalea.plantgl.scenegraph._pglsg.Scene object at 0x7f7790c7bf70>"
       },
       "scene_gwCPqbGDQa55ozbPf6FDp3WAs": {
        "drc": {},
        "position": [
         93,
         -7,
         -1
        ],
        "scale": 1,
        "scene": "<openalea.plantgl.scenegraph._pglsg.Scene object at 0x7f7790afccf0>"
       },
       "scene_hHlvNMzQDpI6AaYBwTcEVqAdX": {
        "drc": {},
        "position": [
         97,
         -86,
         1
        ],
        "scale": 1,
        "scene": "<openalea.plantgl.scenegraph._pglsg.Scene object at 0x7f7790bcb6b0>"
       },
       "scene_hSeT4xR18NZu8vZFATPRik6qJ": {
        "drc": {},
        "position": [
         -4,
         37,
         40
        ],
        "scale": 1,
        "scene": "<openalea.plantgl.scenegraph._pglsg.Scene object at 0x7f7790cdeef0>"
       },
       "scene_hUWds3dtjTBZss9jrB5amYdOA": {
        "drc": {},
        "position": [
         84,
         -10,
         -99
        ],
        "scale": 1,
        "scene": "<openalea.plantgl.scenegraph._pglsg.Scene object at 0x7f7790b0f9f0>"
       },
       "scene_hZDey5ZNS9yptF3YsOwmLWHkt": {
        "drc": {},
        "position": [
         -57,
         88,
         -63
        ],
        "scale": 1,
        "scene": "<openalea.plantgl.scenegraph._pglsg.Scene object at 0x7f7790c7b930>"
       },
       "scene_hnXdSkoHwfYXGueAi2QXehNNH": {
        "drc": {},
        "position": [
         77,
         -17,
         -75
        ],
        "scale": 1,
        "scene": "<openalea.plantgl.scenegraph._pglsg.Scene object at 0x7f7790c06d70>"
       },
       "scene_hxT3wv7RrooNwG9oNlxKcGzKF": {
        "drc": {},
        "position": [
         99,
         -92,
         71
        ],
        "scale": 1,
        "scene": "<openalea.plantgl.scenegraph._pglsg.Scene object at 0x7f7790c74e70>"
       },
       "scene_iKuU0a393PYdhI1PqKO7yKoVN": {
        "drc": {},
        "position": [
         98,
         39,
         -123
        ],
        "scale": 1,
        "scene": "<openalea.plantgl.scenegraph._pglsg.Scene object at 0x7f7790cc2f30>"
       },
       "scene_icJhL7yfB5INvUmnNf63ACMFR": {
        "drc": {},
        "position": [
         -39,
         40,
         -25
        ],
        "scale": 1,
        "scene": "<openalea.plantgl.scenegraph._pglsg.Scene object at 0x7f7790b8edb0>"
       },
       "scene_ixCTZeVQBPltyFljAgi81rP6O": {
        "drc": {},
        "position": [
         99,
         -86,
         115
        ],
        "scale": 1,
        "scene": "<openalea.plantgl.scenegraph._pglsg.Scene object at 0x7f7790b84c30>"
       },
       "scene_jUDesF1dpVXSO2BknKwSBGD2b": {
        "drc": {},
        "position": [
         -114,
         -94,
         71
        ],
        "scale": 1,
        "scene": "<openalea.plantgl.scenegraph._pglsg.Scene object at 0x7f7790b61e30>"
       },
       "scene_jYsTZwAffhwYNn31KjG5mvl4v": {
        "drc": {},
        "position": [
         5,
         -104,
         -11
        ],
        "scale": 1,
        "scene": "<openalea.plantgl.scenegraph._pglsg.Scene object at 0x7f7790b2b7f0>"
       },
       "scene_jdFRTbDUnTyOcKAZ8eMIDsB0r": {
        "drc": {},
        "position": [
         92,
         -46,
         89
        ],
        "scale": 1,
        "scene": "<openalea.plantgl.scenegraph._pglsg.Scene object at 0x7f7790d47fb0>"
       },
       "scene_jlWrFzDuF9zl8xmZzl14mB03W": {
        "drc": {},
        "position": [
         -6,
         32,
         120
        ],
        "scale": 1,
        "scene": "<openalea.plantgl.scenegraph._pglsg.Scene object at 0x7f7790a75730>"
       },
       "scene_jzNaekDThRM4kl6VqmTTw0dTZ": {
        "drc": {},
        "position": [
         116,
         -76,
         -46
        ],
        "scale": 1,
        "scene": "<openalea.plantgl.scenegraph._pglsg.Scene object at 0x7f7790cadb30>"
       },
       "scene_kcIk4V6ZAnShul52ZyYop1mba": {
        "drc": {},
        "position": [
         -103,
         -46,
         30
        ],
        "scale": 1,
        "scene": "<openalea.plantgl.scenegraph._pglsg.Scene object at 0x7f7790cc2d70>"
       },
       "scene_kcKtPg2IeIbbGAM0Hp0H7Xc1b": {
        "drc": {},
        "position": [
         -62,
         63,
         20
        ],
        "scale": 1,
        "scene": "<openalea.plantgl.scenegraph._pglsg.Scene object at 0x7f7790b78530>"
       },
       "scene_l7jYlCw6QgWltcB7JfP4i7X41": {
        "drc": {},
        "position": [
         -51,
         89,
         75
        ],
        "scale": 1,
        "scene": "<openalea.plantgl.scenegraph._pglsg.Scene object at 0x7f7790ce7d30>"
       },
       "scene_lBB7uNEdquLnwxDMYjlNtO7OW": {
        "drc": {},
        "position": [
         -66,
         97,
         51
        ],
        "scale": 1,
        "scene": "<openalea.plantgl.scenegraph._pglsg.Scene object at 0x7f7790b8e7f0>"
       },
       "scene_lX3wncILBmOCXLts7Wb3jnXpI": {
        "drc": {},
        "position": [
         -28,
         -71,
         -110
        ],
        "scale": 1,
        "scene": "<openalea.plantgl.scenegraph._pglsg.Scene object at 0x7f7790c1b170>"
       },
       "scene_lsovbEJmnxnyDPVaTfxvVN1yX": {
        "drc": {},
        "position": [
         7,
         -12,
         -90
        ],
        "scale": 1,
        "scene": "<openalea.plantgl.scenegraph._pglsg.Scene object at 0x7f7790ba9670>"
       },
       "scene_lxMY1KDmaaS1lZm6OXE1CAVkr": {
        "drc": {},
        "position": [
         -120,
         42,
         0
        ],
        "scale": 1,
        "scene": "<openalea.plantgl.scenegraph._pglsg.Scene object at 0x7f7790d659f0>"
       },
       "scene_lzKE8oxEXJoFIG8j9BTBr7Bs9": {
        "drc": {},
        "position": [
         -35,
         95,
         -124
        ],
        "scale": 1,
        "scene": "<openalea.plantgl.scenegraph._pglsg.Scene object at 0x7f7790b19ab0>"
       },
       "scene_mW8Ycc2TMeBSBhtgZcg4IziJL": {
        "drc": {},
        "position": [
         102,
         52,
         115
        ],
        "scale": 1,
        "scene": "<openalea.plantgl.scenegraph._pglsg.Scene object at 0x7f7790d09af0>"
       },
       "scene_mi4FdedLrU9JllE9tJvh8DYkC": {
        "drc": {},
        "position": [
         56,
         31,
         28
        ],
        "scale": 1,
        "scene": "<openalea.plantgl.scenegraph._pglsg.Scene object at 0x7f7790c996b0>"
       },
       "scene_nCx53scD3K94spkIpudaNrYEg": {
        "drc": {},
        "position": [
         119,
         116,
         32
        ],
        "scale": 1,
        "scene": "<openalea.plantgl.scenegraph._pglsg.Scene object at 0x7f7790abc4b0>"
       },
       "scene_nE8tjHIJ95yO2kkLC8QOmeTzg": {
        "drc": {},
        "position": [
         -43,
         -75,
         89
        ],
        "scale": 1,
        "scene": "<openalea.plantgl.scenegraph._pglsg.Scene object at 0x7f7790b3a830>"
       },
       "scene_nJyhgUtCdohnVAuWPINDwVkja": {
        "drc": {},
        "position": [
         -73,
         -90,
         -29
        ],
        "scale": 1,
        "scene": "<openalea.plantgl.scenegraph._pglsg.Scene object at 0x7f7790ad2170>"
       },
       "scene_nQIToInTZZ97GrSgMoSYIGBqW": {
        "drc": {},
        "position": [
         34,
         -35,
         28
        ],
        "scale": 1,
        "scene": "<openalea.plantgl.scenegraph._pglsg.Scene object at 0x7f7790c4d430>"
       },
       "scene_nizNkxOzAsHwN3ZSpCPOKBQDy": {
        "drc": {},
        "position": [
         -45,
         64,
         -73
        ],
        "scale": 1,
        "scene": "<openalea.plantgl.scenegraph._pglsg.Scene object at 0x7f7790ab6330>"
       },
       "scene_o7dzrUcfTnZMttdWyxvJQ7vgm": {
        "drc": {},
        "position": [
         -124,
         -121,
         -125
        ],
        "scale": 1,
        "scene": "<openalea.plantgl.scenegraph._pglsg.Scene object at 0x7f7790d136b0>"
       },
       "scene_oBHvmYnh0FYkTk2SYgi3M06MP": {
        "drc": {},
        "position": [
         44,
         -70,
         59
        ],
        "scale": 1,
        "scene": "<openalea.plantgl.scenegraph._pglsg.Scene object at 0x7f7790b2b1b0>"
       },
       "scene_oL5e9eFHvmJ7ypllSAGAQ4xfX": {
        "drc": {},
        "position": [
         11,
         79,
         -59
        ],
        "scale": 1,
        "scene": "<openalea.plantgl.scenegraph._pglsg.Scene object at 0x7f7790d3e870>"
       },
       "scene_oO24N5RJU3pHsgL5xs3h73KBg": {
        "drc": {},
        "position": [
         -109,
         89,
         -76
        ],
        "scale": 1,
        "scene": "<openalea.plantgl.scenegraph._pglsg.Scene object at 0x7f7790b973b0>"
       },
       "scene_ocNMsPPZhHoCd4kF9YWGNT9Rs": {
        "drc": {},
        "position": [
         -10,
         90,
         4
        ],
        "scale": 1,
        "scene": "<openalea.plantgl.scenegraph._pglsg.Scene object at 0x7f7790a925f0>"
       },
       "scene_p1Rite2ldgkyskHm5GCYUWV0k": {
        "drc": {},
        "position": [
         34,
         -9,
         38
        ],
        "scale": 1,
        "scene": "<openalea.plantgl.scenegraph._pglsg.Scene object at 0x7f7790c06630>"
       },
       "scene_p9Ldwue8ElZqjLfMT6g1XYLke": {
        "drc": {},
        "position": [
         68,
         -100,
         56
        ],
        "scale": 1,
        "scene": "<openalea.plantgl.scenegraph._pglsg.Scene object at 0x7f7790ba0e70>"
       },
       "scene_pBvszL5HvsKlWJPL0V74kT4f9": {
        "drc": {},
        "position": [
         -37,
         -121,
         -101
        ],
        "scale": 1,
        "scene": "<openalea.plantgl.scenegraph._pglsg.Scene object at 0x7f7790c95270>"
       },
       "scene_pL7NryI2s2CtVbFH817u6Ea9j": {
        "drc": {},
        "position": [
         -18,
         121,
         -126
        ],
        "scale": 1,
        "scene": "<openalea.plantgl.scenegraph._pglsg.Scene object at 0x7f7790d1cc30>"
       },
       "scene_pQEbBH1I2tspfNWbgPW6gmFQJ": {
        "drc": {},
        "position": [
         110,
         -119,
         93
        ],
        "scale": 1,
        "scene": "<openalea.plantgl.scenegraph._pglsg.Scene object at 0x7f7790bb6970>"
       },
       "scene_qlRT6CZYl8i1bRx608IPjLnEu": {
        "drc": {},
        "position": [
         -50,
         2,
         114
        ],
        "scale": 1,
        "scene": "<openalea.plantgl.scenegraph._pglsg.Scene object at 0x7f7790ba0ab0>"
       },
       "scene_rRWykwM6ncziUpV4yoAvE6GZr": {
        "drc": {},
        "position": [
         99,
         -119,
         -64
        ],
        "scale": 1,
        "scene": "<openalea.plantgl.scenegraph._pglsg.Scene object at 0x7f7790c95db0>"
       },
       "scene_rzG6WP0BJo91cOD9tqbEOrPsp": {
        "drc": {},
        "position": [
         80,
         -92,
         -64
        ],
        "scale": 1,
        "scene": "<openalea.plantgl.scenegraph._pglsg.Scene object at 0x7f7790cb65f0>"
       },
       "scene_sAzRRf3CZDIZIkHZXkFGCPLdC": {
        "drc": {},
        "position": [
         -96,
         -48,
         38
        ],
        "scale": 1,
        "scene": "<openalea.plantgl.scenegraph._pglsg.Scene object at 0x7f7790c1b7b0>"
       },
       "scene_sgbb9NNAsHdniQk81nzPWoCvm": {
        "drc": {},
        "position": [
         13,
         14,
         18
        ],
        "scale": 1,
        "scene": "<openalea.plantgl.scenegraph._pglsg.Scene object at 0x7f7790cd59f0>"
       },
       "scene_syMbu0kyxRcKyPtrdo7RXDvwu": {
        "drc": {},
        "position": [
         34,
         124,
         66
        ],
        "scale": 1,
        "scene": "<openalea.plantgl.scenegraph._pglsg.Scene object at 0x7f7790c95d70>"
       },
       "scene_t2FQbcTHxVXI8ixy7AdI0DO3U": {
        "drc": {},
        "position": [
         36,
         35,
         -76
        ],
        "scale": 1,
        "scene": "<openalea.plantgl.scenegraph._pglsg.Scene object at 0x7f7790c6a5f0>"
       },
       "scene_th16NQvHne8feeE88FqL3rdn1": {
        "drc": {},
        "position": [
         -124,
         -126,
         52
        ],
        "scale": 1,
        "scene": "<openalea.plantgl.scenegraph._pglsg.Scene object at 0x7f7790bdf670>"
       },
       "scene_to8e1U2xxbpgRKfWJcBKbyT3X": {
        "drc": {},
        "position": [
         32,
         -83,
         15
        ],
        "scale": 1,
        "scene": "<openalea.plantgl.scenegraph._pglsg.Scene object at 0x7f7790a7e8b0>"
       },
       "scene_uGXUf0uEPR7uqwfKxY7ELxyd0": {
        "drc": {},
        "position": [
         117,
         -57,
         41
        ],
        "scale": 1,
        "scene": "<openalea.plantgl.scenegraph._pglsg.Scene object at 0x7f7790d32730>"
       },
       "scene_vH5rAidnBabx874tcqTPAUwGG": {
        "drc": {},
        "position": [
         -39,
         -32,
         18
        ],
        "scale": 1,
        "scene": "<openalea.plantgl.scenegraph._pglsg.Scene object at 0x7f7790c749b0>"
       },
       "scene_vdFupypoRgQdzsOTMWuKICd8L": {
        "drc": {},
        "position": [
         10,
         -29,
         82
        ],
        "scale": 1,
        "scene": "<openalea.plantgl.scenegraph._pglsg.Scene object at 0x7f7790ca4830>"
       },
       "scene_vfqn6zqxjDOwPEmkGLxokk0ed": {
        "drc": {},
        "position": [
         108,
         -55,
         47
        ],
        "scale": 1,
        "scene": "<openalea.plantgl.scenegraph._pglsg.Scene object at 0x7f7790d36a70>"
       },
       "scene_vgSVgVb4I60b7y6sQbwon7tVB": {
        "drc": {},
        "position": [
         -68,
         -36,
         15
        ],
        "scale": 1,
        "scene": "<openalea.plantgl.scenegraph._pglsg.Scene object at 0x7f7790cad3f0>"
       },
       "scene_w30maHYKwmYmEKjUHtPhdbOsw": {
        "drc": {},
        "position": [
         -5,
         -103,
         -123
        ],
        "scale": 1,
        "scene": "<openalea.plantgl.scenegraph._pglsg.Scene object at 0x7f7790ab68f0>"
       },
       "scene_wah9QUGKa0d4QfBuj6vu0gDDF": {
        "drc": {},
        "position": [
         36,
         -113,
         -103
        ],
        "scale": 1,
        "scene": "<openalea.plantgl.scenegraph._pglsg.Scene object at 0x7f7790b05e70>"
       },
       "scene_wwHMmLWTX6QzvXS6hQz1Y7jke": {
        "drc": {},
        "position": [
         -7,
         -17,
         -29
        ],
        "scale": 1,
        "scene": "<openalea.plantgl.scenegraph._pglsg.Scene object at 0x7f7790bf1970>"
       },
       "scene_xpvCl6oRx7Xqd8BfLZnSi7yI5": {
        "drc": {},
        "position": [
         -18,
         -2,
         30
        ],
        "scale": 1,
        "scene": "<openalea.plantgl.scenegraph._pglsg.Scene object at 0x7f7790c5f5b0>"
       },
       "scene_y27JdTJurLuT7GHpWW7zN8rMf": {
        "drc": {},
        "position": [
         -100,
         -20,
         90
        ],
        "scale": 1,
        "scene": "<openalea.plantgl.scenegraph._pglsg.Scene object at 0x7f7790bc1530>"
       },
       "scene_yFHD9ArbcBjU2JKFYOzzhROiV": {
        "drc": {},
        "position": [
         -45,
         41,
         -76
        ],
        "scale": 1,
        "scene": "<openalea.plantgl.scenegraph._pglsg.Scene object at 0x7f7791168570>"
       },
       "scene_yX6VqmSskqEo67C6089Cr5wVE": {
        "drc": {},
        "position": [
         -28,
         9,
         91
        ],
        "scale": 1,
        "scene": "<openalea.plantgl.scenegraph._pglsg.Scene object at 0x7f7790c06b70>"
       },
       "scene_yYYu8tMMA8Gc97LPmQfinph9g": {
        "drc": {},
        "position": [
         82,
         -120,
         -46
        ],
        "scale": 1,
        "scene": "<openalea.plantgl.scenegraph._pglsg.Scene object at 0x7f7790d364b0>"
       },
       "scene_yZtysER0To3o4gmubUqchuvRG": {
        "drc": {},
        "position": [
         64,
         26,
         58
        ],
        "scale": 1,
        "scene": "<openalea.plantgl.scenegraph._pglsg.Scene object at 0x7f7790b6b430>"
       },
       "scene_zCoEwQ4ct6ww9MGdmPaQUSQ2o": {
        "drc": {},
        "position": [
         -3,
         88,
         -67
        ],
        "scale": 1,
        "scene": "<openalea.plantgl.scenegraph._pglsg.Scene object at 0x7f7790b052f0>"
       },
       "scene_znhKPZM5U3vGx3XfQHga1cYd5": {
        "drc": {},
        "position": [
         25,
         -108,
         -84
        ],
        "scale": 1,
        "scene": "<openalea.plantgl.scenegraph._pglsg.Scene object at 0x7f7790c99630>"
       },
       "scene_zzbocrJLT3UnLx8stvljU9lPj": {
        "drc": {},
        "position": [
         -10,
         -52,
         39
        ],
        "scale": 1,
        "scene": "<openalea.plantgl.scenegraph._pglsg.Scene object at 0x7f7790cc9470>"
       },
       "size_display": [
        700,
        300
       ],
       "size_world": [
        255,
        255,
        255
       ]
      }
     },
     "23607f43f09a40048b20e2561308092c": {
      "model_module": "@jupyter-widgets/base",
      "model_module_version": "1.2.0",
      "model_name": "LayoutModel",
      "state": {}
     },
     "23a6fd8a821744c68cec6049c4ba9992": {
      "buffers": [
       {
        "data": "",
        "encoding": "base64",
        "path": [
         "scene",
         "drc"
        ]
       },
       {
        "data": "RFJBQ08CAgEBAAAAXLQBAbMBAAAtX9u2rWpLVVVVqVZLVVWValVLVVWpVlVLVZVqVVVLValWVVVLlWpVVVVLqQIKAQEQ/wL2XgL/AAEAAQABAAkDAAACAQICAwABAQQBAQAMF70JGQIZEkkfGQK0F5BpXg4ZDy4i6U1F6DUqASfbu9LJXuhPPV9wGXiWA7CIwSF5fAbguxAAqaACwEN3TOpyAHbGGYURAADxUQA2TwF8lQpgZzkAa54CwJIQQDbr3KMLAVD3JAAYggVAEg1AnBTAIzQAeeYCyDG3V3EAxZkknAOw2iPpgGwCQABALgGbVYArCQFsJAWAmm0AO80BYPW0F7OEo4ynygGd0/MVAIDwUYCaVQApBy4CACAdTA5mgJ7IM4AoB+ISAIADQABALgEpB6IciEvgB4DYBCIdkHRgmQlIEg2AFgBA8gzAZhWgZhUg8gxgFgAgEg2ghhWgOIDiWBQCECcFwAgAgPgoAJaEAK4kBBA+CnARAIBwUoADT8ksS0gmaBcyO+WQ6WWRDAKoZJgpJCPUCxmeccj4qkjmYxsAD80E+JVhgIIBghKAi7WWlZWVlT/nxIZww04Nt20YVQV+xqAKhASAA4D0gAAAAAD/BwAAAABAwFSaNsAAAEDAAADAQAsEAQEBBBaJPzxLPAVk+u+vgRUBAlZBbgECWUgeAQLvQQwBAsBACAAAAGMAAAA=",
        "encoding": "base64",
        "path": [
         "scene_qRADV4RRYgTPzjHPD1e70qQvE",
         "drc"
        ]
       },
       {
        "data": "RFJBQ08CAgEBAAAAXLQBAbMBAAAtX9u2rWpLVVVVqVZLVVWValVLVVWpVlVLVZVqVVVLValWVVVLlWpVVVVLqQIKAQEQ/wL2XgL/AAEAAQABAAkDAAACAQICAwABAQQBAQAMF70JGQIZEkkfGQK0F5BpXg4ZDy4i6U1F6DUqASfbu9LJXuhPPV9wGXiWA7CIwSF5fAbguxAAqaACwEN3TOpyAHbGGYURAADxUQA2TwF8lQpgZzkAa54CwJIQQDbr3KMLAVD3JAAYggVAEg1AnBTAIzQAeeYCyDG3V3EAxZkknAOw2iPpgGwCQABALgGbVYArCQFsJAWAmm0AO80BYPW0F7OEo4ynygGd0/MVAIDwUYCaVQApBy4CACAdTA5mgJ7IM4AoB+ISAIADQABALgEpB6IciEvgB4DYBCIdkHRgmQlIEg2AFgBA8gzAZhWgZhUg8gxgFgAgEg2ghhWgOIDiWBQCECcFwAgAgPgoAJaEAK4kBBA+CnARAIBwUoADT8ksS0gmaBcyO+WQ6WWRDAKoZJgpJCPUCxmeccj4qkjmYxsAD80E+JVhgIIBghKAi7WWlZWVlT/nxIZww04Nt20YVQV+xqAKhASAA4D0gAAAAAD/BwAAAACAwHF4c8AAAIDAAAAAQQsEAQEBBDaJPzzLPAVk6/6vgRUBAlZBbgECWUgeAQLvQQwBAsBAhwAAAMQAAAA=",
        "encoding": "base64",
        "path": [
         "scene_es7fLmUk87zoTPJstJ0DuBM2K",
         "drc"
        ]
       },
       {
        "data": "RFJBQ08CAgEBAAAAXLQBAbMBAAAtX9u2rWpLVVVVqVZLVVWValVLVVWpVlVLVZVqVVVLValWVVVLlWpVVVVLqQIKAQEQ/wL2XgL/AAEAAQABAAkDAAACAQICAwABAQQBAQAMF70JGQIZEkkfGQK0F5BpXg4ZDy4i6U1F6DUqASfbu9LJXuhPPV9wGXiWA7CIwSF5fAbguxAAqaACwEN3TOpyAHbGGYURAADxUQA2TwF8lQpgZzkAa54CwJIQQDbr3KMLAVD3JAAYggVAEg1AnBTAIzQAeeYCyDG3V3EAxZkknAOw2iPpgGwCQABALgGbVYArCQFsJAWAmm0AO80BYPW0F7OEo4ynygGd0/MVAIDwUYCaVQApBy4CACAdTA5mgJ7IM4AoB+ISAIADQABALgEpB6IciEvgB4DYBCIdkHRgmQlIEg2AFgBA8gzAZhWgZhUg8gxgFgAgEg2ghhWgOIDiWBQCECcFwAgAgPgoAJaEAK4kBBA+CnARAIBwUoADT8ksS0gmaBcyO+WQ6WWRDAKoZJgpJCPUCxmeccj4qkjmYxsAD80E+JVhgIIBghKAi7WWlZWVlT/nxIZww04Nt20YVQV+xqAKhASAA4D0gAAAAAD/BwAAAAAgwUYrGMEAACDBAACgQQsEAQEBBCiJPzyTPAVY6KCzgRUBAlZBbgECWUgeAQLvQQwBAsBAAQAAAF4AAAA=",
        "encoding": "base64",
        "path": [
         "scene_I2vA1apMWlP7ZmxnA0tvBOnd0",
         "drc"
        ]
       },
       {
        "data": "RFJBQ08CAgEBAAAAXLQBAbMBAAAtX9u2rWpLVVVVqVZLVVWValVLVVWpVlVLVZVqVVVLValWVVVLlWpVVVVLqQIKAQEQ/wL2XgL/AAEAAQABAAkDAAACAQICAwABAQQBAQAMF70JGQIZEkkfGQK0F5BpXg4ZDy4i6U1F6DUqASfbu9LJXuhPPV9wGXiWA7CIwSF5fAbguxAAqaACwEN3TOpyAHbGGYURAADxUQA2TwF8lQpgZzkAa54CwJIQQDbr3KMLAVD3JAAYggVAEg1AnBTAIzQAeeYCyDG3V3EAxZkknAOw2iPpgGwCQABALgGbVYArCQFsJAWAmm0AO80BYPW0F7OEo4ynygGd0/MVAIDwUYCaVQApBy4CACAdTA5mgJ7IM4AoB+ISAIADQABALgEpB6IciEvgB4DYBCIdkHRgmQlIEg2AFgBA8gzAZhWgZhUg8gxgFgAgEg2ghhWgOIDiWBQCECcFwAgAgPgoAJaEAK4kBBA+CnARAIBwUoADT8ksS0gmaBcyO+WQ6WWRDAKoZJgpJCPUCxmeccj4qkjmYxsAD80E+JVhgIIBghKAi7WWlZWVlT/nxIZww04Nt20YVQV+xqAKhASAA4D0gAAAAAD/BwAAAACAwXF4c8EAAIDBAAAAQgsEAQEBBBWJPzxHPAVYXeS/gRUBAlZBbgECWUgeAQLvQQwBAsBAZgAAAIAAAAA=",
        "encoding": "base64",
        "path": [
         "scene_3IAerHI1BX9b71Y3mwzCCAi8k",
         "drc"
        ]
       },
       {
        "data": "RFJBQ08CAgEBAAAAXLQBAbMBAAAtX9u2rWpLVVVVqVZLVVWValVLVVWpVlVLVZVqVVVLValWVVVLlWpVVVVLqQIKAQEQ/wL2XgL/AAEAAQABAAkDAAACAQICAwABAQQBAQAMF70JGQIZEkkfGQK0F5BpXg4ZDy4i6U1F6DUqASfbu9LJXuhPPV9wGXiWA7CIwSF5fAbguxAAT1kB0EN3TOpyAHbGGYURAADxUQA2TwF8lQpgZzkAa54CwJIQQDbr3KMLAVD3JAAYggVAEg1AnBTAIzQAO82NsdIdQHEAxclMzgGw+iPpgGwCQABALgGbVYArCQFsJAWAmm0AO80BUPW0F7OEo4ynygGd8/MVAIDwUYCaVQApBy4CACAdTA5mgJ/IM4AoB+ISAIAFQABALgEpB6IciEvgB4DYBCIdkHRgmclHEg2AFgBA8gzAZhWgZhUg8gxgFgAgEg2ghhWgOIDiWBQCECcFwAgAgPgoAJaEAK4kBBA+CnARAIBwUoADT8ksS0gmaBcyO+WQ6WWRDAKoZJgpJCPUCxmeccj4qkimvx8AD94DmOJGggGEEtR8RV4iJCQkCNeA4WSDIwVCaxhVBX7GoAqEBIADAPaAAAAAAP8HAAAAAHDB6kBkwQAAcMEAAPBBCwQBAQEEwgGJPzz///s8BVhd5L+BFQECVkFuAQJZSB4BAu9BDAECwEAvAAAA9wAAAA==",
        "encoding": "base64",
        "path": [
         "scene_CCJxQWo7cmwLwSK68KCVQp00R",
         "drc"
        ]
       },
       {
        "data": "RFJBQ08CAgEBAAAAXLQBAbMBAAAtX9u2rWpLVVVVqVZLVVWValVLVVWpVlVLVZVqVVVLValWVVVLlWpVVVVLqQIKAQEQ/wL2XgL/AAEAAQABAAkDAAACAQICAwABAQQBAQAMF70JGQIZEkkfGQK0F5BpXg4ZDy4i6U1F6DUqASfbu9LJXuhPPV9wGXiWA7CIwSF5fAbguxAAqaACwEN3TOpyAHbGGYURAADxUQA2TwF8lQpgZzkAa54CwJIQQDbr3KMLAVD3JAAYggVAEg1AnBTAIzQAeeYCyDG3V3EAxZkknAOw2iPpgGwCQABALgGbVYArCQFsJAWAmm0AO80BYPW0F7OEo4ynygGd0/MVAIDwUYCaVQApBy4CACAdTA5mgJ7IM4AoB+ISAIADQABALgEpB6IciEvgB4DYBCIdkHRgmQlIEg2AFgBA8gzAZhWgZhUg8gxgFgAgEg2ghhWgOIDiWBQCECcFwAgAgPgoAJaEAK4kBBA+CnARAIBwUoADT8ksS0gmaBcyO+WQ6WWRDAKoZJgpJCPUCxmeccj4qkjmYxsAD80E+JVhgIIBghKAi7WWlZWVlT/nxIZww04Nt20YVQV+xqAKhASAA4D0gAAAAAD/BwAAAAAAwXF488AAAADBAACAQQsEAQEBBH6JPzz/6zwFZOv+r4EVAQJWQW4BAllIHgEC70EMAQLAQDoAAADkAAAA",
        "encoding": "base64",
        "path": [
         "scene_K2XtVKpewT615QMkhMdg1yCAZ",
         "drc"
        ]
       },
       {
        "data": "RFJBQ08CAgEBAAAAXLQBAbMBAAAtX9u2rWpLVVVVqVZLVVWValVLVVWpVlVLVZVqVVVLValWVVVLlWpVVVVLqQIKAQEQ/wL2XgL/AAEAAQABAAkDAAACAQICAwABAQQBAQAMF70JGQIZEkkfGQK0F5BpXg4ZDy4i6U1F6DUqASfbu9LJXuhPPV9wGXiWA7CIwSF5fAbguxAAT1kB0EN3TOpyAHbGGYURAADxUQA2TwF8lQpgZzkAa54CwJIQQDbr3KMLAVD3JAAYggVAEg1AnBTAIzQAO82NsdIdQHEAxclMzgGw+iPpgGwCQABALgGbVYArCQFsJAWAmm0AO80BUPW0F7OEo4ynygGd8/MVAIDwUYCaVQApBy4CACAdTA5mgJ/IM4AoB+ISAIAFQABALgEpB6IciEvgB4DYBCIdkHRgmclHEg2AFgBA8gzAZhWgZhUg8gxgFgAgEg2ghhWgOIDiWBQCECcFwAgAgPgoAJaEAK4kBBA+CnARAIBwUoADT8ksS0gmaBcyO+WQ6WWRDAKoZJgpJCPUCxmeccj4qkimvx8AD94DmOJGggGEEtR8RV4iJCQkCNeA4WSDIwVCaxhVBX7GoAqEBIADAPaAAAAAAP8HAAAAAHDB6kBkwQAAcMEAAPBBCwQBAQEElgGJPzz//0s8BVhO87+BFQECVkFuAQJZSB4BAu9BDAECwEAbAAAA5AAAAA==",
        "encoding": "base64",
        "path": [
         "scene_u5vHHL71shP1yBmdTq7iQFpvi",
         "drc"
        ]
       },
       {
        "data": "RFJBQ08CAgEBAAAAXLQBAbMBAAAtX9u2rWpLVVVVqVZLVVWValVLVVWpVlVLVZVqVVVLValWVVVLlWpVVVVLqQIKAQEQ/wL2XgL/AAEAAQABAAkDAAACAQICAwABAQQBAQAMF70JGQIZEkkfGQK0F5BpXg4ZDy4i6U1F6DUqASfbu9LJXuhPPV9wGXiWA7CIwSF5fAbguxAAqaACwEN3TOpyAHbGGYURAADxUQA2TwF8lQpgZzkAa54CwJIQQDbr3KMLAVD3JAAYggVAEg1AnBTAIzQAeeYCyDG3V3EAxZkknAOw2iPpgGwCQABALgGbVYArCQFsJAWAmm0AO80BYPW0F7OEo4ynygGd0/MVAIDwUYCaVQApBy4CACAdTA5mgJ7IM4AoB+ISAIADQABALgEpB6IciEvgB4DYBCIdkHRgmQlIEg2AFgBA8gzAZhWgZhUg8gxgFgAgEg2ghhWgOIDiWBQCECcFwAgAgPgoAJaEAK4kBBA+CnARAIBwUoADT8ksS0gmaBcyO+WQ6WWRDAKoZJgpJCPUCxmeccj4qkjmYxsAD80E+JVhgIIBghKAi7WWlZWVlT/nxIZww04Nt20YVQV+xqAKhASAA4D0gAAAAAD/BwAAAAAAwHF4878AAADAAACAQAsEAQEBBIEBiT88//c8BVjooLOBFQECVkFuAQJZSB4BAu9BDAECwEAcAAAAswAAAA==",
        "encoding": "base64",
        "path": [
         "scene_Mb9hqnPFQ5XrB1ruQ5eW0kjZ9",
         "drc"
        ]
       },
       {
        "data": "RFJBQ08CAgEBAAAAXLQBAbMBAAAtX9u2rWpLVVVVqVZLVVWValVLVVWpVlVLVZVqVVVLValWVVVLlWpVVVVLqQIKAQEQ/wL2XgL/AAEAAQABAAkDAAACAQICAwABAQQBAQAMF70JGQIZEkkfGQK0F5BpXg4ZDy4i6U1F6DUqASfbu9LJXuhPPV9wGXiWA7CIwSF5fAbguxAAqaACwEN3TOpyAHbGGYURAADxUQA2TwF8lQpgZzkAa54CwJIQQDbr3KMLAVD3JAAYggVAEg1AnBTAIzQAeeYCyDG3V3EAxZkknAOw2iPpgGwCQABALgGbVYArCQFsJAWAmm0AO80BYPW0F7OEo4ynygGd0/MVAIDwUYCaVQApBy4CACAdTA5mgJ7IM4AoB+ISAIADQABALgEpB6IciEvgB4DYBCIdkHRgmQlIEg2AFgBA8gzAZhWgZhUg8gxgFgAgEg2ghhWgOIDiWBQCECcFwAgAgPgoAJaEAK4kBBA+CnARAIBwUoADT8ksS0gmaBcyO+WQ6WWRDAKoZJgpJCPUCxmeccj4qkjmYxsAD80E+JVhgIIBghKAi7WWlZWVlT/nxIZww04Nt20YVQV+xqAKhASAA4D0gAAAAAD/BwAAAAAwwc1iJ8EAADDBAACwQQsEAQEBBByJPzxjPAVYXeS/gRUBAlZBbgECWUgeAQLvQQwBAsBAIwAAALkAAAA=",
        "encoding": "base64",
        "path": [
         "scene_6r5IalDxrJ12bXg9CnHO82wZ4",
         "drc"
        ]
       },
       {
        "data": "RFJBQ08CAgEBAAAAXLQBAbMBAAAtX9u2rWpLVVVVqVZLVVWValVLVVWpVlVLVZVqVVVLValWVVVLlWpVVVVLqQIKAQEQ/wL2XgL/AAEAAQABAAkDAAACAQICAwABAQQBAQAMF70JGQIZEkkfGQK0F5BpXg4ZDy4i6U1F6DUqASfbu9LJXuhPPV9wGXiWA7CIwSF5fAbguxAAqaACwEN3TOpyAHbGGYURAADxUQA2TwF8lQpgZzkAa54CwJIQQDbr3KMLAVD3JAAYggVAEg1AnBTAIzQAeeYCyDG3V3EAxZkknAOw2iPpgGwCQABALgGbVYArCQFsJAWAmm0AO80BYPW0F7OEo4ynygGd0/MVAIDwUYCaVQApBy4CACAdTA5mgJ7IM4AoB+ISAIADQABALgEpB6IciEvgB4DYBCIdkHRgmQlIEg2AFgBA8gzAZhWgZhUg8gxgFgAgEg2ghhWgOIDiWBQCECcFwAgAgPgoAJaEAK4kBBA+CnARAIBwUoADT8ksS0gmaBcyO+WQ6WWRDAKoZJgpJCPUCxmeccj4qkjmYxsAD80E+JVhgIIBghKAi7WWlZWVlT/nxIZww04Nt20YVQV+xqAKhASAA4D0gAAAAAD/BwAAAACAv3F4c78AAIC/AAAAQAsEAQEBBG6JPzz/qzwFWPeRs4EVAQJWQW4BAllIHgEC70EMAQLAQCcAAADHAAAA",
        "encoding": "base64",
        "path": [
         "scene_st5gReqfOnioMV67HY1mvsN58",
         "drc"
        ]
       },
       {
        "data": "RFJBQ08CAgEBAAAAXLQBAbMBAAAtX9u2rWpLVVVVqVZLVVWValVLVVWpVlVLVZVqVVVLValWVVVLlWpVVVVLqQIKAQEQ/wL2XgL/AAEAAQABAAkDAAACAQICAwABAQQBAQAMF70JGQIZEkkfGQK0F5BpXg4ZDy4i6U1F6DUqASfbu9LJXuhPPV9wGXiWA7CIwSF5fAbguxAAqaACwEN3TOpyAHbGGYURAADxUQA2TwF8lQpgZzkAa54CwJIQQDbr3KMLAVD3JAAYggVAEg1AnBTAIzQAeeYCyDG3V3EAxZkknAOw2iPpgGwCQABALgGbVYArCQFsJAWAmm0AO80BYPW0F7OEo4ynygGd0/MVAIDwUYCaVQApBy4CACAdTA5mgJ7IM4AoB+ISAIADQABALgEpB6IciEvgB4DYBCIdkHRgmQlIEg2AFgBA8gzAZhWgZhUg8gxgFgAgEg2ghhWgOIDiWBQCECcFwAgAgPgoAJaEAK4kBBA+CnARAIBwUoADT8ksS0gmaBcyO+WQ6WWRDAKoZJgpJCPUCxmeccj4qkjmYxsAD80E+JVhgIIBghKAi7WWlZWVlT/nxIZww04Nt20YVQV+xqAKhASAA4D0gAAAAAD/BwAAAADAwFSatsAAAMDAAABAQQsEAQEBBBeJPzxPPAVk+u+vgRUBAlZBbgECWUgeAQLvQQwBAsBALwAAAMsAAAA=",
        "encoding": "base64",
        "path": [
         "scene_uusnw6Xpkgh8QkMLgWj0LJx1H",
         "drc"
        ]
       },
       {
        "data": "RFJBQ08CAgEBAAAAXLQBAbMBAAAtX9u2rWpLVVVVqVZLVVWValVLVVWpVlVLVZVqVVVLValWVVVLlWpVVVVLqQIKAQEQ/wL2XgL/AAEAAQABAAkDAAACAQICAwABAQQBAQAMF70JGQIZEkkfGQK0F5BpXg4ZDy4i6U1F6DUqASfbu9LJXuhPPV9wGXiWA7CIwSF5fAbguxAAqaACwEN3TOpyAHbGGYURAADxUQA2TwF8lQpgZzkAa54CwJIQQDbr3KMLAVD3JAAYggVAEg1AnBTAIzQAeeYCyDG3V3EAxZkknAOw2iPpgGwCQABALgGbVYArCQFsJAWAmm0AO80BYPW0F7OEo4ynygGd0/MVAIDwUYCaVQApBy4CACAdTA5mgJ7IM4AoB+ISAIADQABALgEpB6IciEvgB4DYBCIdkHRgmQlIEg2AFgBA8gzAZhWgZhUg8gxgFgAgEg2ghhWgOIDiWBQCECcFwAgAgPgoAJaEAK4kBBA+CnARAIBwUoADT8ksS0gmaBcyO+WQ6WWRDAKoZJgpJCPUCxmeccj4qkjmYxsAD80E+JVhgIIBghKAi7WWlZWVlT/nxIZww04Nt20YVQV+xqAKhASAA4D0gAAAAAD/BwAAAACYwYOPkMEAAJjBAAAYQgsEAQEBBD2JPzznPAVY95GzgRUBAlZBbgECWUgeAQLvQQwBAsBASgAAALYAAAA=",
        "encoding": "base64",
        "path": [
         "scene_0Y7655UkEzo5EjiChlmVazYvA",
         "drc"
        ]
       },
       {
        "data": "RFJBQ08CAgEBAAAAXLQBAbMBAAAtX9u2rWpLVVVVqVZLVVWValVLVVWpVlVLVZVqVVVLValWVVVLlWpVVVVLqQIKAQEQ/wL2XgL/AAEAAQABAAkDAAACAQICAwABAQQBAQAMF70JGQIZEkkfGQK0F5BpXg4ZDy4i6U1F6DUqASfbu9LJXuhPPV9wGXiWA7CIwSF5fAbguxAAqaACwEN3TOpyAHbGGYURAADxUQA2TwF8lQpgZzkAa54CwJIQQDbr3KMLAVD3JAAYggVAEg1AnBTAIzQAeeYCyDG3V3EAxZkknAOw2iPpgGwCQABALgGbVYArCQFsJAWAmm0AO80BYPW0F7OEo4ynygGd0/MVAIDwUYCaVQApBy4CACAdTA5mgJ7IM4AoB+ISAIADQABALgEpB6IciEvgB4DYBCIdkHRgmQlIEg2AFgBA8gzAZhWgZhUg8gxgFgAgEg2ghhWgOIDiWBQCECcFwAgAgPgoAJaEAK4kBBA+CnARAIBwUoADT8ksS0gmaBcyO+WQ6WWRDAKoZJgpJCPUCxmeccj4qkjmYxsAD80E+JVhgIIBghKAi7WWlZWVlT/nxIZww04Nt20YVQV+xqAKhASAA4D0gAAAAAD/BwAAAADAwFSatsAAAMDAAABAQQsEAQEBBHuJPzz/3zwFZOv+r4EVAQJWQW4BAllIHgEC70EMAQLAQAkAAADnAAAA",
        "encoding": "base64",
        "path": [
         "scene_eYDnM8rEPpfyV6btGgzpD6Jnv",
         "drc"
        ]
       },
       {
        "data": "RFJBQ08CAgEBAAAAXLQBAbMBAAAtX9u2rWpLVVVVqVZLVVWValVLVVWpVlVLVZVqVVVLValWVVVLlWpVVVVLqQIKAQEQ/wL2XgL/AAEAAQABAAkDAAACAQICAwABAQQBAQAMF70JGQIZEkkfGQK0F5BpXg4ZDy4i6U1F6DUqASfbu9LJXuhPPV9wGXiWA7CIwSF5fAbguxAAqaACwEN3TOpyAHbGGYURAADxUQA2TwF8lQpgZzkAa54CwJIQQDbr3KMLAVD3JAAYggVAEg1AnBTAIzQAeeYCyDG3V3EAxZkknAOw2iPpgGwCQABALgGbVYArCQFsJAWAmm0AO80BYPW0F7OEo4ynygGd0/MVAIDwUYCaVQApBy4CACAdTA5mgJ7IM4AoB+ISAIADQABALgEpB6IciEvgB4DYBCIdkHRgmQlIEg2AFgBA8gzAZhWgZhUg8gxgFgAgEg2ghhWgOIDiWBQCECcFwAgAgPgoAJaEAK4kBBA+CnARAIBwUoADT8ksS0gmaBcyO+WQ6WWRDAKoZJgpJCPUCxmeccj4qkjmYxsAD80E+JVhgIIBghKAi7WWlZWVlT/nxIZww04Nt20YVQV+xqAKhASAA4D0gAAAAAD/BwAAAAAgwUYrGMEAACDBAACgQQsEAQEBBC6JPzyrPAVY95GzgRUBAlZBbgECWUgeAQLvQQwBAsBAUQAAAI8AAAA=",
        "encoding": "base64",
        "path": [
         "scene_8bJQVlEOuTqdnK4ZYMjqPp0Yo",
         "drc"
        ]
       },
       {
        "data": "RFJBQ08CAgEBAAAAXLQBAbMBAAAtX9u2rWpLVVVVqVZLVVWValVLVVWpVlVLVZVqVVVLValWVVVLlWpVVVVLqQIKAQEQ/wL2XgL/AAEAAQABAAkDAAACAQICAwABAQQBAQAMF70JGQIZEkkfGQK0F5BpXg4ZDy4i6U1F6DUqASfbu9LJXuhPPV9wGXiWA7CIwSF5fAbguxAAT1kB0EN3TOpyAHbGGYURAADxUQA2TwF8lQpgZzkAa54CwJIQQDbr3KMLAVD3JAAYggVAEg1AnBTAIzQAO82NsdIdQHEAxclMzgGw+iPpgGwCQABALgGbVYArCQFsJAWAmm0AO80BUPW0F7OEo4ynygGd8/MVAIDwUYCaVQApBy4CACAdTA5mgJ/IM4AoB+ISAIAFQABALgEpB6IciEvgB4DYBCIdkHRgmclHEg2AFgBA8gzAZhWgZhUg8gxgFgAgEg2ghhWgOIDiWBQCECcFwAgAgPgoAJaEAK4kBBA+CnARAIBwUoADT8ksS0gmaBcyO+WQ6WWRDAKoZJgpJCPUCxmeccj4qkimvx8AD94DmOJGggGEEtR8RV4iJCQkCNeA4WSDIwVCaxhVBX7GoAqEBIADAPaAAAAAAP8HAAAAAODAYwnVwAAA4MAAAGBBCwQBAQEEGok/PFs8BWT676+BFQECVkFuAQJZSB4BAu9BDAECwECEAAAA+gAAAA==",
        "encoding": "base64",
        "path": [
         "scene_IWdTvC7Mw5KTjtp4XbR9kGqoE",
         "drc"
        ]
       },
       {
        "data": "RFJBQ08CAgEBAAAAXLQBAbMBAAAtX9u2rWpLVVVVqVZLVVWValVLVVWpVlVLVZVqVVVLValWVVVLlWpVVVVLqQIKAQEQ/wL2XgL/AAEAAQABAAkDAAACAQICAwABAQQBAQAMF70JGQIZEkkfGQK0F5BpXg4ZDy4i6U1F6DUqASfbu9LJXuhPPV9wGXiWA7CIwSF5fAbguxAAqaACwEN3TOpyAHbGGYURAADxUQA2TwF8lQpgZzkAa54CwJIQQDbr3KMLAVD3JAAYggVAEg1AnBTAIzQAeeYCyDG3V3EAxZkknAOw2iPpgGwCQABALgGbVYArCQFsJAWAmm0AO80BYPW0F7OEo4ynygGd0/MVAIDwUYCaVQApBy4CACAdTA5mgJ7IM4AoB+ISAIADQABALgEpB6IciEvgB4DYBCIdkHRgmQlIEg2AFgBA8gzAZhWgZhUg8gxgFgAgEg2ghhWgOIDiWBQCECcFwAgAgPgoAJaEAK4kBBA+CnARAIBwUoADT8ksS0gmaBcyO+WQ6WWRDAKoZJgpJCPUCxmeccj4qkjmYxsAD80E+JVhgIIBghKAi7WWlZWVlT/nxIZww04Nt20YVQV+xqAKhASAA4D0gAAAAAD/BwAAAAAwwc1iJ8EAADDBAACwQQsEAQEBBAiJPzwTPAVY95GzgRUBAlZBbgECWUgeAQLvQQwBAsBAyAAAAPAAAAA=",
        "encoding": "base64",
        "path": [
         "scene_7aC1rkSy4qwnzcKjqt2CfrFuC",
         "drc"
        ]
       },
       {
        "data": "RFJBQ08CAgEBAAAAXLQBAbMBAAAtX9u2rWpLVVVVqVZLVVWValVLVVWpVlVLVZVqVVVLValWVVVLlWpVVVVLqQIKAQEQ/wL2XgL/AAEAAQABAAkDAAACAQICAwABAQQBAQAMF70JGQIZEkkfGQK0F5BpXg4ZDy4i6U1F6DUqASfbu9LJXuhPPV9wGXiWA7CIwSF5fAbguxAAT1kB0EN3TOpyAHbGGYURAADxUQA2TwF8lQpgZzkAa54CwJIQQDbr3KMLAVD3JAAYggVAEg1AnBTAIzQAO82NsdIdQHEAxclMzgGw+iPpgGwCQABALgGbVYArCQFsJAWAmm0AO80BUPW0F7OEo4ynygGd8/MVAIDwUYCaVQApBy4CACAdTA5mgJ/IM4AoB+ISAIAFQABALgEpB6IciEvgB4DYBCIdkHRgmclHEg2AFgBA8gzAZhWgZhUg8gxgFgAgEg2ghhWgOIDiWBQCECcFwAgAgPgoAJaEAK4kBBA+CnARAIBwUoADT8ksS0gmaBcyO+WQ6WWRDAKoZJgpJCPUCxmeccj4qkimvx8AD94DmOJGggGEEtR8RV4iJCQkCNeA4WSDIwVCaxhVBX7GoAqEBIADAPaAAAAAAP8HAAAAAODAYwnVwAAA4MAAAGBBCwQBAQEEaIk/PP+TPAVk+u+vgRUBAlZBbgECWUgeAQLvQQwBAsBAdAAAAOgAAAA=",
        "encoding": "base64",
        "path": [
         "scene_a1Wyq9Rlm1ijq9sgpSYZxsBzf",
         "drc"
        ]
       },
       {
        "data": "RFJBQ08CAgEBAAAAXLQBAbMBAAAtX9u2rWpLVVVVqVZLVVWValVLVVWpVlVLVZVqVVVLValWVVVLlWpVVVVLqQIKAQEQ/wL2XgL/AAEAAQABAAkDAAACAQICAwABAQQBAQAMF70JGQIZEkkfGQK0F5BpXg4ZDy4i6U1F6DUqASfbu9LJXuhPPV9wGXiWA7CIwSF5fAbguxAAT1kB0EN3TOpyAHbGGYURAADxUQA2TwF8lQpgZzkAa54CwJIQQDbr3KMLAVD3JAAYggVAEg1AnBTAIzQAO82NsdIdQHEAxclMzgGw+iPpgGwCQABALgGbVYArCQFsJAWAmm0AO80BUPW0F7OEo4ynygGd8/MVAIDwUYCaVQApBy4CACAdTA5mgJ/IM4AoB+ISAIAFQABALgEpB6IciEvgB4DYBCIdkHRgmclHEg2AFgBA8gzAZhWgZhUg8gxgFgAgEg2ghhWgOIDiWBQCECcFwAgAgPgoAJaEAK4kBBA+CnARAIBwUoADT8ksS0gmaBcyO+WQ6WWRDAKoZJgpJCPUCxmeccj4qkimvx8AD94DmOJGggGEEtR8RV4iJCQkCNeA4WSDIwVCaxhVBX7GoAqEBIADAPaAAAAAAP8HAAAAAODAYwnVwAAA4MAAAGBBCwQBAQEEMok/PLs8BVhd5L+BFQECVkFuAQJZSB4BAu9BDAECwEBgAAAA6gAAAA==",
        "encoding": "base64",
        "path": [
         "scene_78RELBD2nXTj3HA3qZr0Xwiy4",
         "drc"
        ]
       },
       {
        "data": "RFJBQ08CAgEBAAAAXLQBAbMBAAAtX9u2rWpLVVVVqVZLVVWValVLVVWpVlVLVZVqVVVLValWVVVLlWpVVVVLqQIKAQEQ/wL2XgL/AAEAAQABAAkDAAACAQICAwABAQQBAQAMF70JGQIZEkkfGQK0F5BpXg4ZDy4i6U1F6DUqASfbu9LJXuhPPV9wGXiWA7CIwSF5fAbguxAAqaACwEN3TOpyAHbGGYURAADxUQA2TwF8lQpgZzkAa54CwJIQQDbr3KMLAVD3JAAYggVAEg1AnBTAIzQAeeYCyDG3V3EAxZkknAOw2iPpgGwCQABALgGbVYArCQFsJAWAmm0AO80BYPW0F7OEo4ynygGd0/MVAIDwUYCaVQApBy4CACAdTA5mgJ7IM4AoB+ISAIADQABALgEpB6IciEvgB4DYBCIdkHRgmQlIEg2AFgBA8gzAZhWgZhUg8gxgFgAgEg2ghhWgOIDiWBQCECcFwAgAgPgoAJaEAK4kBBA+CnARAIBwUoADT8ksS0gmaBcyO+WQ6WWRDAKoZJgpJCPUCxmeccj4qkjmYxsAD80E+JVhgIIBghKAi7WWlZWVlT/nxIZww04Nt20YVQV+xqAKhASAA4D0gAAAAAD/BwAAAACgwEYrmMAAAKDAAAAgQQsEAQEBBByJPzxjPAVYTvO/gRUBAlZBbgECWUgeAQLvQQwBAsBAWgAAANwAAAA=",
        "encoding": "base64",
        "path": [
         "scene_NWbiAugznPbpGfeFANqq4vqpW",
         "drc"
        ]
       },
       {
        "data": "RFJBQ08CAgEBAAAAXLQBAbMBAAAtX9u2rWpLVVVVqVZLVVWValVLVVWpVlVLVZVqVVVLValWVVVLlWpVVVVLqQIKAQEQ/wL2XgL/AAEAAQABAAkDAAACAQICAwABAQQBAQAMF70JGQIZEkkfGQK0F5BpXg4ZDy4i6U1F6DUqASfbu9LJXuhPPV9wGXiWA7CIwSF5fAbguxAAT1kB0EN3TOpyAHbGGYURAADxUQA2TwF8lQpgZzkAa54CwJIQQDbr3KMLAVD3JAAYggVAEg1AnBTAIzQAO82NsdIdQHEAxclMzgGw+iPpgGwCQABALgGbVYArCQFsJAWAmm0AO80BUPW0F7OEo4ynygGd8/MVAIDwUYCaVQApBy4CACAdTA5mgJ/IM4AoB+ISAIAFQABALgEpB6IciEvgB4DYBCIdkHRgmclHEg2AFgBA8gzAZhWgZhUg8gxgFgAgEg2ghhWgOIDiWBQCECcFwAgAgPgoAJaEAK4kBBA+CnARAIBwUoADT8ksS0gmaBcyO+WQ6WWRDAKoZJgpJCPUCxmeccj4qkimvx8AD94DmOJGggGEEtR8RV4iJCQkCNeA4WSDIwVCaxhVBX7GoAqEBIADAPaAAAAAAP8HAAAAAODAYwnVwAAA4MAAAGBBCwQBAQEEkQGJPzz//zc8BWT676+BFQECVkFuAQJZSB4BAu9BDAECwEAFAAAApQAAAA==",
        "encoding": "base64",
        "path": [
         "scene_s3eifaMLuHRZHzDeqTBiwxbCa",
         "drc"
        ]
       },
       {
        "data": "RFJBQ08CAgEBAAAAXLQBAbMBAAAtX9u2rWpLVVVVqVZLVVWValVLVVWpVlVLVZVqVVVLValWVVVLlWpVVVVLqQIKAQEQ/wL2XgL/AAEAAQABAAkDAAACAQICAwABAQQBAQAMF70JGQIZEkkfGQK0F5BpXg4ZDy4i6U1F6DUqASfbu9LJXuhPPV9wGXiWA7CIwSF5fAbguxAAqaACwEN3TOpyAHbGGYURAADxUQA2TwF8lQpgZzkAa54CwJIQQDbr3KMLAVD3JAAYggVAEg1AnBTAIzQAeeYCyDG3V3EAxZkknAOw2iPpgGwCQABALgGbVYArCQFsJAWAmm0AO80BYPW0F7OEo4ynygGd0/MVAIDwUYCaVQApBy4CACAdTA5mgJ7IM4AoB+ISAIADQABALgEpB6IciEvgB4DYBCIdkHRgmQlIEg2AFgBA8gzAZhWgZhUg8gxgFgAgEg2ghhWgOIDiWBQCECcFwAgAgPgoAJaEAK4kBBA+CnARAIBwUoADT8ksS0gmaBcyO+WQ6WWRDAKoZJgpJCPUCxmeccj4qkjmYxsAD80E+JVhgIIBghKAi7WWlZWVlT/nxIZww04Nt20YVQV+xqAKhASAA4D0gAAAAAD/BwAAAACAwXF4c8EAAIDBAAAAQgsEAQEBBC6JPzyrPAVYXeS/gRUBAlZBbgECWUgeAQLvQQwBAsBAPAAAAIAAAAA=",
        "encoding": "base64",
        "path": [
         "scene_37wl4ntAWfxUcmFFXJDFtnhiT",
         "drc"
        ]
       },
       {
        "data": "RFJBQ08CAgEBAAAAXLQBAbMBAAAtX9u2rWpLVVVVqVZLVVWValVLVVWpVlVLVZVqVVVLValWVVVLlWpVVVVLqQIKAQEQ/wL2XgL/AAEAAQABAAkDAAACAQICAwABAQQBAQAMF70JGQIZEkkfGQK0F5BpXg4ZDy4i6U1F6DUqASfbu9LJXuhPPV9wGXiWA7CIwSF5fAbguxAAqaACwEN3TOpyAHbGGYURAADxUQA2TwF8lQpgZzkAa54CwJIQQDbr3KMLAVD3JAAYggVAEg1AnBTAIzQAeeYCyDG3V3EAxZkknAOw2iPpgGwCQABALgGbVYArCQFsJAWAmm0AO80BYPW0F7OEo4ynygGd0/MVAIDwUYCaVQApBy4CACAdTA5mgJ7IM4AoB+ISAIADQABALgEpB6IciEvgB4DYBCIdkHRgmQlIEg2AFgBA8gzAZhWgZhUg8gxgFgAgEg2ghhWgOIDiWBQCECcFwAgAgPgoAJaEAK4kBBA+CnARAIBwUoADT8ksS0gmaBcyO+WQ6WWRDAKoZJgpJCPUCxmeccj4qkjmYxsAD80E+JVhgIIBghKAi7WWlZWVlT/nxIZww04Nt20YVQV+xqAKhASAA4D0gAAAAAD/BwAAAABAwVSaNsEAAEDBAADAQQsEAQEBBDKJPzy7PAVk+u+vgRUBAlZBbgECWUgeAQLvQQwBAsBALAAAALkAAAA=",
        "encoding": "base64",
        "path": [
         "scene_KeCXjCuS1w5ol9LXA9rrPpV6q",
         "drc"
        ]
       },
       {
        "data": "RFJBQ08CAgEBAAAAXLQBAbMBAAAtX9u2rWpLVVVVqVZLVVWValVLVVWpVlVLVZVqVVVLValWVVVLlWpVVVVLqQIKAQEQ/wL2XgL/AAEAAQABAAkDAAACAQICAwABAQQBAQAMF70JGQIZEkkfGQK0F5BpXg4ZDy4i6U1F6DUqASfbu9LJXuhPPV9wGXiWA7CIwSF5fAbguxAAqaACwEN3TOpyAHbGGYURAADxUQA2TwF8lQpgZzkAa54CwJIQQDbr3KMLAVD3JAAYggVAEg1AnBTAIzQAeeYCyDG3V3EAxZkknAOw2iPpgGwCQABALgGbVYArCQFsJAWAmm0AO80BYPW0F7OEo4ynygGd0/MVAIDwUYCaVQApBy4CACAdTA5mgJ7IM4AoB+ISAIADQABALgEpB6IciEvgB4DYBCIdkHRgmQlIEg2AFgBA8gzAZhWgZhUg8gxgFgAgEg2ghhWgOIDiWBQCECcFwAgAgPgoAJaEAK4kBBA+CnARAIBwUoADT8ksS0gmaBcyO+WQ6WWRDAKoZJgpJCPUCxmeccj4qkjmYxsAD80E+JVhgIIBghKAi7WWlZWVlT/nxIZww04Nt20YVQV+xqAKhASAA4D0gAAAAAD/BwAAAACAwHF4c8AAAIDAAAAAQQsEAQEBBGKJPzz/ezwFWPeRs4EVAQJWQW4BAllIHgEC70EMAQLAQEwAAADCAAAA",
        "encoding": "base64",
        "path": [
         "scene_qPKgP9GRhsKbZ73xSWBRmVJbb",
         "drc"
        ]
       },
       {
        "data": "RFJBQ08CAgEBAAAAXLQBAbMBAAAtX9u2rWpLVVVVqVZLVVWValVLVVWpVlVLVZVqVVVLValWVVVLlWpVVVVLqQIKAQEQ/wL2XgL/AAEAAQABAAkDAAACAQICAwABAQQBAQAMF70JGQIZEkkfGQK0F5BpXg4ZDy4i6U1F6DUqASfbu9LJXuhPPV9wGXiWA7CIwSF5fAbguxAAqaACwEN3TOpyAHbGGYURAADxUQA2TwF8lQpgZzkAa54CwJIQQDbr3KMLAVD3JAAYggVAEg1AnBTAIzQAeeYCyDG3V3EAxZkknAOw2iPpgGwCQABALgGbVYArCQFsJAWAmm0AO80BYPW0F7OEo4ynygGd0/MVAIDwUYCaVQApBy4CACAdTA5mgJ7IM4AoB+ISAIADQABALgEpB6IciEvgB4DYBCIdkHRgmQlIEg2AFgBA8gzAZhWgZhUg8gxgFgAgEg2ghhWgOIDiWBQCECcFwAgAgPgoAJaEAK4kBBA+CnARAIBwUoADT8ksS0gmaBcyO+WQ6WWRDAKoZJgpJCPUCxmeccj4qkjmYxsAD80E+JVhgIIBghKAi7WWlZWVlT/nxIZww04Nt20YVQV+xqAKhASAA4D0gAAAAAD/BwAAAACgwEYrmMAAAKDAAAAgQQsEAQEBBDKJPzy7PAVY95GzgRUBAlZBbgECWUgeAQLvQQwBAsBANQAAAPwAAAA=",
        "encoding": "base64",
        "path": [
         "scene_ygP7sDz1Q3u6jHnLV34hz1Psy",
         "drc"
        ]
       },
       {
        "data": "RFJBQ08CAgEBAAAAXLQBAbMBAAAtX9u2rWpLVVVVqVZLVVWValVLVVWpVlVLVZVqVVVLValWVVVLlWpVVVVLqQIKAQEQ/wL2XgL/AAEAAQABAAkDAAACAQICAwABAQQBAQAMF70JGQIZEkkfGQK0F5BpXg4ZDy4i6U1F6DUqASfbu9LJXuhPPV9wGXiWA7CIwSF5fAbguxAAqaACwEN3TOpyAHbGGYURAADxUQA2TwF8lQpgZzkAa54CwJIQQDbr3KMLAVD3JAAYggVAEg1AnBTAIzQAeeYCyDG3V3EAxZkknAOw2iPpgGwCQABALgGbVYArCQFsJAWAmm0AO80BYPW0F7OEo4ynygGd0/MVAIDwUYCaVQApBy4CACAdTA5mgJ7IM4AoB+ISAIADQABALgEpB6IciEvgB4DYBCIdkHRgmQlIEg2AFgBA8gzAZhWgZhUg8gxgFgAgEg2ghhWgOIDiWBQCECcFwAgAgPgoAJaEAK4kBBA+CnARAIBwUoADT8ksS0gmaBcyO+WQ6WWRDAKoZJgpJCPUCxmeccj4qkjmYxsAD80E+JVhgIIBghKAi7WWlZWVlT/nxIZww04Nt20YVQV+xqAKhASAA4D0gAAAAAD/BwAAAACAwXF4c8EAAIDBAAAAQgsEAQEBBA+JPzwvPAVk6/6vgRUBAlZBbgECWUgeAQLvQQwBAsBAQQAAAKYAAAA=",
        "encoding": "base64",
        "path": [
         "scene_1O8tzxBBJEH2IRCeRyXJz2JIE",
         "drc"
        ]
       },
       {
        "data": "RFJBQ08CAgEBAAAAXLQBAbMBAAAtX9u2rWpLVVVVqVZLVVWValVLVVWpVlVLVZVqVVVLValWVVVLlWpVVVVLqQIKAQEQ/wL2XgL/AAEAAQABAAkDAAACAQICAwABAQQBAQAMF70JGQIZEkkfGQK0F5BpXg4ZDy4i6U1F6DUqASfbu9LJXuhPPV9wGXiWA7CIwSF5fAbguxAAT1kB0EN3TOpyAHbGGYURAADxUQA2TwF8lQpgZzkAa54CwJIQQDbr3KMLAVD3JAAYggVAEg1AnBTAIzQAO82NsdIdQHEAxclMzgGw+iPpgGwCQABALgGbVYArCQFsJAWAmm0AO80BUPW0F7OEo4ynygGd8/MVAIDwUYCaVQApBy4CACAdTA5mgJ/IM4AoB+ISAIAFQABALgEpB6IciEvgB4DYBCIdkHRgmclHEg2AFgBA8gzAZhWgZhUg8gxgFgAgEg2ghhWgOIDiWBQCECcFwAgAgPgoAJaEAK4kBBA+CnARAIBwUoADT8ksS0gmaBcyO+WQ6WWRDAKoZJgpJCPUCxmeccj4qkimvx8AD94DmOJGggGEEtR8RV4iJCQkCNeA4WSDIwVCaxhVBX7GoAqEBIADAPaAAAAAAP8HAAAAAODAYwnVwAAA4MAAAGBBCwQBAQEELIk/PKM8BVjooLOBFQECVkFuAQJZSB4BAu9BDAECwEAKAAAAlQAAAA==",
        "encoding": "base64",
        "path": [
         "scene_xwI5m7XdlqLv0MegPPkvO8G1q",
         "drc"
        ]
       },
       {
        "data": "RFJBQ08CAgEBAAAAXLQBAbMBAAAtX9u2rWpLVVVVqVZLVVWValVLVVWpVlVLVZVqVVVLValWVVVLlWpVVVVLqQIKAQEQ/wL2XgL/AAEAAQABAAkDAAACAQICAwABAQQBAQAMF70JGQIZEkkfGQK0F5BpXg4ZDy4i6U1F6DUqASfbu9LJXuhPPV9wGXiWA7CIwSF5fAbguxAAqaACwEN3TOpyAHbGGYURAADxUQA2TwF8lQpgZzkAa54CwJIQQDbr3KMLAVD3JAAYggVAEg1AnBTAIzQAeeYCyDG3V3EAxZkknAOw2iPpgGwCQABALgGbVYArCQFsJAWAmm0AO80BYPW0F7OEo4ynygGd0/MVAIDwUYCaVQApBy4CACAdTA5mgJ7IM4AoB+ISAIADQABALgEpB6IciEvgB4DYBCIdkHRgmQlIEg2AFgBA8gzAZhWgZhUg8gxgFgAgEg2ghhWgOIDiWBQCECcFwAgAgPgoAJaEAK4kBBA+CnARAIBwUoADT8ksS0gmaBcyO+WQ6WWRDAKoZJgpJCPUCxmeccj4qkjmYxsAD80E+JVhgIIBghKAi7WWlZWVlT/nxIZww04Nt20YVQV+xqAKhASAA4D0gAAAAAD/BwAAAAAgwUYrGMEAACDBAACgQQsEAQEBBA6JPzwrPAVYXeS/gRUBAlZBbgECWUgeAQLvQQwBAsBAewAAAMEAAAA=",
        "encoding": "base64",
        "path": [
         "scene_Yk5weNG3UIZfscjyu5boUxv27",
         "drc"
        ]
       },
       {
        "data": "RFJBQ08CAgEBAAAAXLQBAbMBAAAtX9u2rWpLVVVVqVZLVVWValVLVVWpVlVLVZVqVVVLValWVVVLlWpVVVVLqQIKAQEQ/wL2XgL/AAEAAQABAAkDAAACAQICAwABAQQBAQAMF70JGQIZEkkfGQK0F5BpXg4ZDy4i6U1F6DUqASfbu9LJXuhPPV9wGXiWA7CIwSF5fAbguxAAqaACwEN3TOpyAHbGGYURAADxUQA2TwF8lQpgZzkAa54CwJIQQDbr3KMLAVD3JAAYggVAEg1AnBTAIzQAeeYCyDG3V3EAxZkknAOw2iPpgGwCQABALgGbVYArCQFsJAWAmm0AO80BYPW0F7OEo4ynygGd0/MVAIDwUYCaVQApBy4CACAdTA5mgJ7IM4AoB+ISAIADQABALgEpB6IciEvgB4DYBCIdkHRgmQlIEg2AFgBA8gzAZhWgZhUg8gxgFgAgEg2ghhWgOIDiWBQCECcFwAgAgPgoAJaEAK4kBBA+CnARAIBwUoADT8ksS0gmaBcyO+WQ6WWRDAKoZJgpJCPUCxmeccj4qkjmYxsAD80E+JVhgIIBghKAi7WWlZWVlT/nxIZww04Nt20YVQV+xqAKhASAA4D0gAAAAAD/BwAAAACAv3F4c78AAIC/AAAAQAsEAQEBBEKJPzz7PAVY6KCzgRUBAlZBbgECWUgeAQLvQQwBAsBAFwAAAOoAAAA=",
        "encoding": "base64",
        "path": [
         "scene_YJCjTbbxIm5pnT26fLRY4geNi",
         "drc"
        ]
       },
       {
        "data": "RFJBQ08CAgEBAAAAXLQBAbMBAAAtX9u2rWpLVVVVqVZLVVWValVLVVWpVlVLVZVqVVVLValWVVVLlWpVVVVLqQIKAQEQ/wL2XgL/AAEAAQABAAkDAAACAQICAwABAQQBAQAMF70JGQIZEkkfGQK0F5BpXg4ZDy4i6U1F6DUqASfbu9LJXuhPPV9wGXiWA7CIwSF5fAbguxAAqaACwEN3TOpyAHbGGYURAADxUQA2TwF8lQpgZzkAa54CwJIQQDbr3KMLAVD3JAAYggVAEg1AnBTAIzQAeeYCyDG3V3EAxZkknAOw2iPpgGwCQABALgGbVYArCQFsJAWAmm0AO80BYPW0F7OEo4ynygGd0/MVAIDwUYCaVQApBy4CACAdTA5mgJ7IM4AoB+ISAIADQABALgEpB6IciEvgB4DYBCIdkHRgmQlIEg2AFgBA8gzAZhWgZhUg8gxgFgAgEg2ghhWgOIDiWBQCECcFwAgAgPgoAJaEAK4kBBA+CnARAIBwUoADT8ksS0gmaBcyO+WQ6WWRDAKoZJgpJCPUCxmeccj4qkjmYxsAD80E+JVhgIIBghKAi7WWlZWVlT/nxIZww04Nt20YVQV+xqAKhASAA4D0gAAAAAD/BwAAAACYwYOPkMEAAJjBAAAYQgsEAQEBBDqJPzzbPAVY95GzgRUBAlZBbgECWUgeAQLvQQwBAsBAJQAAAHoAAAA=",
        "encoding": "base64",
        "path": [
         "scene_bdwLx0IaSkEqxrdtjkIKu6ZXa",
         "drc"
        ]
       },
       {
        "data": "RFJBQ08CAgEBAAAAXLQBAbMBAAAtX9u2rWpLVVVVqVZLVVWValVLVVWpVlVLVZVqVVVLValWVVVLlWpVVVVLqQIKAQEQ/wL2XgL/AAEAAQABAAkDAAACAQICAwABAQQBAQAMF70JGQIZEkkfGQK0F5BpXg4ZDy4i6U1F6DUqASfbu9LJXuhPPV9wGXiWA7CIwSF5fAbguxAAqaACwEN3TOpyAHbGGYURAADxUQA2TwF8lQpgZzkAa54CwJIQQDbr3KMLAVD3JAAYggVAEg1AnBTAIzQAeeYCyDG3V3EAxZkknAOw2iPpgGwCQABALgGbVYArCQFsJAWAmm0AO80BYPW0F7OEo4ynygGd0/MVAIDwUYCaVQApBy4CACAdTA5mgJ7IM4AoB+ISAIADQABALgEpB6IciEvgB4DYBCIdkHRgmQlIEg2AFgBA8gzAZhWgZhUg8gxgFgAgEg2ghhWgOIDiWBQCECcFwAgAgPgoAJaEAK4kBBA+CnARAIBwUoADT8ksS0gmaBcyO+WQ6WWRDAKoZJgpJCPUCxmeccj4qkjmYxsAD80E+JVhgIIBghKAi7WWlZWVlT/nxIZww04Nt20YVQV+xqAKhASAA4D0gAAAAAD/BwAAAADAwFSatsAAAMDAAABAQQsEAQEBBH2JPzz/5zwFWPeRs4EVAQJWQW4BAllIHgEC70EMAQLAQBAAAADTAAAA",
        "encoding": "base64",
        "path": [
         "scene_ccMJKmo2ZesqFGlqzuhwfePUu",
         "drc"
        ]
       },
       {
        "data": "RFJBQ08CAgEBAAAAXLQBAbMBAAAtX9u2rWpLVVVVqVZLVVWValVLVVWpVlVLVZVqVVVLValWVVVLlWpVVVVLqQIKAQEQ/wL2XgL/AAEAAQABAAkDAAACAQICAwABAQQBAQAMF70JGQIZEkkfGQK0F5BpXg4ZDy4i6U1F6DUqASfbu9LJXuhPPV9wGXiWA7CIwSF5fAbguxAAqaACwEN3TOpyAHbGGYURAADxUQA2TwF8lQpgZzkAa54CwJIQQDbr3KMLAVD3JAAYggVAEg1AnBTAIzQAeeYCyDG3V3EAxZkknAOw2iPpgGwCQABALgGbVYArCQFsJAWAmm0AO80BYPW0F7OEo4ynygGd0/MVAIDwUYCaVQApBy4CACAdTA5mgJ7IM4AoB+ISAIADQABALgEpB6IciEvgB4DYBCIdkHRgmQlIEg2AFgBA8gzAZhWgZhUg8gxgFgAgEg2ghhWgOIDiWBQCECcFwAgAgPgoAJaEAK4kBBA+CnARAIBwUoADT8ksS0gmaBcyO+WQ6WWRDAKoZJgpJCPUCxmeccj4qkjmYxsAD80E+JVhgIIBghKAi7WWlZWVlT/nxIZww04Nt20YVQV+xqAKhASAA4D0gAAAAAD/BwAAAACYwYOPkMEAAJjBAAAYQgsEAQEBBAuJPzwfPAVYXeS/gRUBAlZBbgECWUgeAQLvQQwBAsBAxQAAAPsAAAA=",
        "encoding": "base64",
        "path": [
         "scene_5NSR96ER2bUx5Iuqh22pN5urL",
         "drc"
        ]
       },
       {
        "data": "RFJBQ08CAgEBAAAAXLQBAbMBAAAtX9u2rWpLVVVVqVZLVVWValVLVVWpVlVLVZVqVVVLValWVVVLlWpVVVVLqQIKAQEQ/wL2XgL/AAEAAQABAAkDAAACAQICAwABAQQBAQAMF70JGQIZEkkfGQK0F5BpXg4ZDy4i6U1F6DUqASfbu9LJXuhPPV9wGXiWA7CIwSF5fAbguxAAqaACwEN3TOpyAHbGGYURAADxUQA2TwF8lQpgZzkAa54CwJIQQDbr3KMLAVD3JAAYggVAEg1AnBTAIzQAeeYCyDG3V3EAxZkknAOw2iPpgGwCQABALgGbVYArCQFsJAWAmm0AO80BYPW0F7OEo4ynygGd0/MVAIDwUYCaVQApBy4CACAdTA5mgJ7IM4AoB+ISAIADQABALgEpB6IciEvgB4DYBCIdkHRgmQlIEg2AFgBA8gzAZhWgZhUg8gxgFgAgEg2ghhWgOIDiWBQCECcFwAgAgPgoAJaEAK4kBBA+CnARAIBwUoADT8ksS0gmaBcyO+WQ6WWRDAKoZJgpJCPUCxmeccj4qkjmYxsAD80E+JVhgIIBghKAi7WWlZWVlT/nxIZww04Nt20YVQV+xqAKhASAA4D0gAAAAAD/BwAAAABAwVSaNsEAAEDBAADAQQsEAQEBBA2JPzwnPAVk6/6vgRUBAlZBbgECWUgeAQLvQQwBAsBAuwAAAO8AAAA=",
        "encoding": "base64",
        "path": [
         "scene_mc3gKuTggyZbyMl0CbFU9FvRw",
         "drc"
        ]
       },
       {
        "data": "RFJBQ08CAgEBAAAAXLQBAbMBAAAtX9u2rWpLVVVVqVZLVVWValVLVVWpVlVLVZVqVVVLValWVVVLlWpVVVVLqQIKAQEQ/wL2XgL/AAEAAQABAAkDAAACAQICAwABAQQBAQAMF70JGQIZEkkfGQK0F5BpXg4ZDy4i6U1F6DUqASfbu9LJXuhPPV9wGXiWA7CIwSF5fAbguxAAT1kB0EN3TOpyAHbGGYURAADxUQA2TwF8lQpgZzkAa54CwJIQQDbr3KMLAVD3JAAYggVAEg1AnBTAIzQAO82NsdIdQHEAxclMzgGw+iPpgGwCQABALgGbVYArCQFsJAWAmm0AO80BUPW0F7OEo4ynygGd8/MVAIDwUYCaVQApBy4CACAdTA5mgJ/IM4AoB+ISAIAFQABALgEpB6IciEvgB4DYBCIdkHRgmclHEg2AFgBA8gzAZhWgZhUg8gxgFgAgEg2ghhWgOIDiWBQCECcFwAgAgPgoAJaEAK4kBBA+CnARAIBwUoADT8ksS0gmaBcyO+WQ6WWRDAKoZJgpJCPUCxmeccj4qkimvx8AD94DmOJGggGEEtR8RV4iJCQkCNeA4WSDIwVCaxhVBX7GoAqEBIADAPaAAAAAAP8HAAAAAFDB29FFwQAAUMEAANBBCwQBAQEEQok/PPs8BVj3kbOBFQECVkFuAQJZSB4BAu9BDAECwEAkAAAArwAAAA==",
        "encoding": "base64",
        "path": [
         "scene_PY7gIsXkVdo8Ut1quzPgrMgE5",
         "drc"
        ]
       },
       {
        "data": "RFJBQ08CAgEBAAAAXLQBAbMBAAAtX9u2rWpLVVVVqVZLVVWValVLVVWpVlVLVZVqVVVLValWVVVLlWpVVVVLqQIKAQEQ/wL2XgL/AAEAAQABAAkDAAACAQICAwABAQQBAQAMF70JGQIZEkkfGQK0F5BpXg4ZDy4i6U1F6DUqASfbu9LJXuhPPV9wGXiWA7CIwSF5fAbguxAAqaACwEN3TOpyAHbGGYURAADxUQA2TwF8lQpgZzkAa54CwJIQQDbr3KMLAVD3JAAYggVAEg1AnBTAIzQAeeYCyDG3V3EAxZkknAOw2iPpgGwCQABALgGbVYArCQFsJAWAmm0AO80BYPW0F7OEo4ynygGd0/MVAIDwUYCaVQApBy4CACAdTA5mgJ7IM4AoB+ISAIADQABALgEpB6IciEvgB4DYBCIdkHRgmQlIEg2AFgBA8gzAZhWgZhUg8gxgFgAgEg2ghhWgOIDiWBQCECcFwAgAgPgoAJaEAK4kBBA+CnARAIBwUoADT8ksS0gmaBcyO+WQ6WWRDAKoZJgpJCPUCxmeccj4qkjmYxsAD80E+JVhgIIBghKAi7WWlZWVlT/nxIZww04Nt20YVQV+xqAKhASAA4D0gAAAAAD/BwAAAAAAwXF488AAAADBAACAQQsEAQEBBI4BiT88//8rPAVY95GzgRUBAlZBbgECWUgeAQLvQQwBAsBAJQAAAPAAAAA=",
        "encoding": "base64",
        "path": [
         "scene_AqOIN7TnHy6PXa7paZOqmr10O",
         "drc"
        ]
       },
       {
        "data": "RFJBQ08CAgEBAAAAXLQBAbMBAAAtX9u2rWpLVVVVqVZLVVWValVLVVWpVlVLVZVqVVVLValWVVVLlWpVVVVLqQIKAQEQ/wL2XgL/AAEAAQABAAkDAAACAQICAwABAQQBAQAMF70JGQIZEkkfGQK0F5BpXg4ZDy4i6U1F6DUqASfbu9LJXuhPPV9wGXiWA7CIwSF5fAbguxAAqaACwEN3TOpyAHbGGYURAADxUQA2TwF8lQpgZzkAa54CwJIQQDbr3KMLAVD3JAAYggVAEg1AnBTAIzQAeeYCyDG3V3EAxZkknAOw2iPpgGwCQABALgGbVYArCQFsJAWAmm0AO80BYPW0F7OEo4ynygGd0/MVAIDwUYCaVQApBy4CACAdTA5mgJ7IM4AoB+ISAIADQABALgEpB6IciEvgB4DYBCIdkHRgmQlIEg2AFgBA8gzAZhWgZhUg8gxgFgAgEg2ghhWgOIDiWBQCECcFwAgAgPgoAJaEAK4kBBA+CnARAIBwUoADT8ksS0gmaBcyO+WQ6WWRDAKoZJgpJCPUCxmeccj4qkjmYxsAD80E+JVhgIIBghKAi7WWlZWVlT/nxIZww04Nt20YVQV+xqAKhASAA4D0gAAAAAD/BwAAAACAwHF4c8AAAIDAAAAAQQsEAQEBBAuJPzwfPAVk6/6vgRUBAlZBbgECWUgeAQLvQQwBAsBArAAAAOkAAAA=",
        "encoding": "base64",
        "path": [
         "scene_chiOaCh3rjd5Lm4VHCl9xd1Mt",
         "drc"
        ]
       },
       {
        "data": "RFJBQ08CAgEBAAAAXLQBAbMBAAAtX9u2rWpLVVVVqVZLVVWValVLVVWpVlVLVZVqVVVLValWVVVLlWpVVVVLqQIKAQEQ/wL2XgL/AAEAAQABAAkDAAACAQICAwABAQQBAQAMF70JGQIZEkkfGQK0F5BpXg4ZDy4i6U1F6DUqASfbu9LJXuhPPV9wGXiWA7CIwSF5fAbguxAAqaACwEN3TOpyAHbGGYURAADxUQA2TwF8lQpgZzkAa54CwJIQQDbr3KMLAVD3JAAYggVAEg1AnBTAIzQAeeYCyDG3V3EAxZkknAOw2iPpgGwCQABALgGbVYArCQFsJAWAmm0AO80BYPW0F7OEo4ynygGd0/MVAIDwUYCaVQApBy4CACAdTA5mgJ7IM4AoB+ISAIADQABALgEpB6IciEvgB4DYBCIdkHRgmQlIEg2AFgBA8gzAZhWgZhUg8gxgFgAgEg2ghhWgOIDiWBQCECcFwAgAgPgoAJaEAK4kBBA+CnARAIBwUoADT8ksS0gmaBcyO+WQ6WWRDAKoZJgpJCPUCxmeccj4qkjmYxsAD80E+JVhgIIBghKAi7WWlZWVlT/nxIZww04Nt20YVQV+xqAKhASAA4D0gAAAAAD/BwAAAABAwVSaNsEAAEDBAADAQQsEAQEBBCOJPzx/PAVY95GzgRUBAlZBbgECWUgeAQLvQQwBAsBAZwAAAN4AAAA=",
        "encoding": "base64",
        "path": [
         "scene_BwfLmeefwO6IoqRNlO1IuJ5um",
         "drc"
        ]
       },
       {
        "data": "RFJBQ08CAgEBAAAAXLQBAbMBAAAtX9u2rWpLVVVVqVZLVVWValVLVVWpVlVLVZVqVVVLValWVVVLlWpVVVVLqQIKAQEQ/wL2XgL/AAEAAQABAAkDAAACAQICAwABAQQBAQAMF70JGQIZEkkfGQK0F5BpXg4ZDy4i6U1F6DUqASfbu9LJXuhPPV9wGXiWA7CIwSF5fAbguxAAqaACwEN3TOpyAHbGGYURAADxUQA2TwF8lQpgZzkAa54CwJIQQDbr3KMLAVD3JAAYggVAEg1AnBTAIzQAeeYCyDG3V3EAxZkknAOw2iPpgGwCQABALgGbVYArCQFsJAWAmm0AO80BYPW0F7OEo4ynygGd0/MVAIDwUYCaVQApBy4CACAdTA5mgJ7IM4AoB+ISAIADQABALgEpB6IciEvgB4DYBCIdkHRgmQlIEg2AFgBA8gzAZhWgZhUg8gxgFgAgEg2ghhWgOIDiWBQCECcFwAgAgPgoAJaEAK4kBBA+CnARAIBwUoADT8ksS0gmaBcyO+WQ6WWRDAKoZJgpJCPUCxmeccj4qkjmYxsAD80E+JVhgIIBghKAi7WWlZWVlT/nxIZww04Nt20YVQV+xqAKhASAA4D0gAAAAAD/BwAAAADAwFSatsAAAMDAAABAQQsEAQEBBFiJPzz/UzwFZOv+r4EVAQJWQW4BAllIHgEC70EMAQLAQBAAAAB/AAAA",
        "encoding": "base64",
        "path": [
         "scene_Zhgz5OhoNmXDUzHEwRq5lVLyB",
         "drc"
        ]
       },
       {
        "data": "RFJBQ08CAgEBAAAAXLQBAbMBAAAtX9u2rWpLVVVVqVZLVVWValVLVVWpVlVLVZVqVVVLValWVVVLlWpVVVVLqQIKAQEQ/wL2XgL/AAEAAQABAAkDAAACAQICAwABAQQBAQAMF70JGQIZEkkfGQK0F5BpXg4ZDy4i6U1F6DUqASfbu9LJXuhPPV9wGXiWA7CIwSF5fAbguxAAT1kB0EN3TOpyAHbGGYURAADxUQA2TwF8lQpgZzkAa54CwJIQQDbr3KMLAVD3JAAYggVAEg1AnBTAIzQAO82NsdIdQHEAxclMzgGw+iPpgGwCQABALgGbVYArCQFsJAWAmm0AO80BUPW0F7OEo4ynygGd8/MVAIDwUYCaVQApBy4CACAdTA5mgJ/IM4AoB+ISAIAFQABALgEpB6IciEvgB4DYBCIdkHRgmclHEg2AFgBA8gzAZhWgZhUg8gxgFgAgEg2ghhWgOIDiWBQCECcFwAgAgPgoAJaEAK4kBBA+CnARAIBwUoADT8ksS0gmaBcyO+WQ6WWRDAKoZJgpJCPUCxmeccj4qkimvx8AD94DmOJGggGEEtR8RV4iJCQkCNeA4WSDIwVCaxhVBX7GoAqEBIADAPaAAAAAAP8HAAAAAHDB6kBkwQAAcMEAAPBBCwQBAQEEX4k/PP9vPAVk+u+vgRUBAlZBbgECWUgeAQLvQQwBAsBADgAAAN0AAAA=",
        "encoding": "base64",
        "path": [
         "scene_ePqBuLR0oXm7R9ZPwziZACA0z",
         "drc"
        ]
       },
       {
        "data": "RFJBQ08CAgEBAAAAXLQBAbMBAAAtX9u2rWpLVVVVqVZLVVWValVLVVWpVlVLVZVqVVVLValWVVVLlWpVVVVLqQIKAQEQ/wL2XgL/AAEAAQABAAkDAAACAQICAwABAQQBAQAMF70JGQIZEkkfGQK0F5BpXg4ZDy4i6U1F6DUqASfbu9LJXuhPPV9wGXiWA7CIwSF5fAbguxAAqaACwEN3TOpyAHbGGYURAADxUQA2TwF8lQpgZzkAa54CwJIQQDbr3KMLAVD3JAAYggVAEg1AnBTAIzQAeeYCyDG3V3EAxZkknAOw2iPpgGwCQABALgGbVYArCQFsJAWAmm0AO80BYPW0F7OEo4ynygGd0/MVAIDwUYCaVQApBy4CACAdTA5mgJ7IM4AoB+ISAIADQABALgEpB6IciEvgB4DYBCIdkHRgmQlIEg2AFgBA8gzAZhWgZhUg8gxgFgAgEg2ghhWgOIDiWBQCECcFwAgAgPgoAJaEAK4kBBA+CnARAIBwUoADT8ksS0gmaBcyO+WQ6WWRDAKoZJgpJCPUCxmeccj4qkjmYxsAD80E+JVhgIIBghKAi7WWlZWVlT/nxIZww04Nt20YVQV+xqAKhASAA4D0gAAAAAD/BwAAAACYwYOPkMEAAJjBAAAYQgsEAQEBBDqJPzzbPAVY6KCzgRUBAlZBbgECWUgeAQLvQQwBAsBAIAAAANgAAAA=",
        "encoding": "base64",
        "path": [
         "scene_vcjPxhX2deGWV07gfJZKcdm88",
         "drc"
        ]
       },
       {
        "data": "RFJBQ08CAgEBAAAAXLQBAbMBAAAtX9u2rWpLVVVVqVZLVVWValVLVVWpVlVLVZVqVVVLValWVVVLlWpVVVVLqQIKAQEQ/wL2XgL/AAEAAQABAAkDAAACAQICAwABAQQBAQAMF70JGQIZEkkfGQK0F5BpXg4ZDy4i6U1F6DUqASfbu9LJXuhPPV9wGXiWA7CIwSF5fAbguxAAqaACwEN3TOpyAHbGGYURAADxUQA2TwF8lQpgZzkAa54CwJIQQDbr3KMLAVD3JAAYggVAEg1AnBTAIzQAeeYCyDG3V3EAxZkknAOw2iPpgGwCQABALgGbVYArCQFsJAWAmm0AO80BYPW0F7OEo4ynygGd0/MVAIDwUYCaVQApBy4CACAdTA5mgJ7IM4AoB+ISAIADQABALgEpB6IciEvgB4DYBCIdkHRgmQlIEg2AFgBA8gzAZhWgZhUg8gxgFgAgEg2ghhWgOIDiWBQCECcFwAgAgPgoAJaEAK4kBBA+CnARAIBwUoADT8ksS0gmaBcyO+WQ6WWRDAKoZJgpJCPUCxmeccj4qkjmYxsAD80E+JVhgIIBghKAi7WWlZWVlT/nxIZww04Nt20YVQV+xqAKhASAA4D0gAAAAAD/BwAAAACAv3F4c78AAIC/AAAAQAsEAQEBBBWJPzxHPAVYTvO/gRUBAlZBbgECWUgeAQLvQQwBAsBACQAAAHgAAAA=",
        "encoding": "base64",
        "path": [
         "scene_4iUFtAmlH13TwlN1EnsIXcDAo",
         "drc"
        ]
       },
       {
        "data": "RFJBQ08CAgEBAAAAXLQBAbMBAAAtX9u2rWpLVVVVqVZLVVWValVLVVWpVlVLVZVqVVVLValWVVVLlWpVVVVLqQIKAQEQ/wL2XgL/AAEAAQABAAkDAAACAQICAwABAQQBAQAMF70JGQIZEkkfGQK0F5BpXg4ZDy4i6U1F6DUqASfbu9LJXuhPPV9wGXiWA7CIwSF5fAbguxAAqaACwEN3TOpyAHbGGYURAADxUQA2TwF8lQpgZzkAa54CwJIQQDbr3KMLAVD3JAAYggVAEg1AnBTAIzQAeeYCyDG3V3EAxZkknAOw2iPpgGwCQABALgGbVYArCQFsJAWAmm0AO80BYPW0F7OEo4ynygGd0/MVAIDwUYCaVQApBy4CACAdTA5mgJ7IM4AoB+ISAIADQABALgEpB6IciEvgB4DYBCIdkHRgmQlIEg2AFgBA8gzAZhWgZhUg8gxgFgAgEg2ghhWgOIDiWBQCECcFwAgAgPgoAJaEAK4kBBA+CnARAIBwUoADT8ksS0gmaBcyO+WQ6WWRDAKoZJgpJCPUCxmeccj4qkjmYxsAD80E+JVhgIIBghKAi7WWlZWVlT/nxIZww04Nt20YVQV+xqAKhASAA4D0gAAAAAD/BwAAAACAwHF4c8AAAIDAAAAAQQsEAQEBBFOJPzz/PzwFWPeRs4EVAQJWQW4BAllIHgEC70EMAQLAQFYAAADIAAAA",
        "encoding": "base64",
        "path": [
         "scene_XX7480Ih9thlB86EvtIPPZnuQ",
         "drc"
        ]
       },
       {
        "data": "RFJBQ08CAgEBAAAAXLQBAbMBAAAtX9u2rWpLVVVVqVZLVVWValVLVVWpVlVLVZVqVVVLValWVVVLlWpVVVVLqQIKAQEQ/wL2XgL/AAEAAQABAAkDAAACAQICAwABAQQBAQAMF70JGQIZEkkfGQK0F5BpXg4ZDy4i6U1F6DUqASfbu9LJXuhPPV9wGXiWA7CIwSF5fAbguxAAT1kB0EN3TOpyAHbGGYURAADxUQA2TwF8lQpgZzkAa54CwJIQQDbr3KMLAVD3JAAYggVAEg1AnBTAIzQAO82NsdIdQHEAxclMzgGw+iPpgGwCQABALgGbVYArCQFsJAWAmm0AO80BUPW0F7OEo4ynygGd8/MVAIDwUYCaVQApBy4CACAdTA5mgJ/IM4AoB+ISAIAFQABALgEpB6IciEvgB4DYBCIdkHRgmclHEg2AFgBA8gzAZhWgZhUg8gxgFgAgEg2ghhWgOIDiWBQCECcFwAgAgPgoAJaEAK4kBBA+CnARAIBwUoADT8ksS0gmaBcyO+WQ6WWRDAKoZJgpJCPUCxmeccj4qkimvx8AD94DmOJGggGEEtR8RV4iJCQkCNeA4WSDIwVCaxhVBX7GoAqEBIADAPaAAAAAAP8HAAAAAHDB6kBkwQAAcMEAAPBBCwQBAQEERok/PP8LPAVk6/6vgRUBAlZBbgECWUgeAQLvQQwBAsBAAwAAANwAAAA=",
        "encoding": "base64",
        "path": [
         "scene_wPGjEm0mxlA0iIFC0YMusxutt",
         "drc"
        ]
       },
       {
        "data": "RFJBQ08CAgEBAAAAXLQBAbMBAAAtX9u2rWpLVVVVqVZLVVWValVLVVWpVlVLVZVqVVVLValWVVVLlWpVVVVLqQIKAQEQ/wL2XgL/AAEAAQABAAkDAAACAQICAwABAQQBAQAMF70JGQIZEkkfGQK0F5BpXg4ZDy4i6U1F6DUqASfbu9LJXuhPPV9wGXiWA7CIwSF5fAbguxAAqaACwEN3TOpyAHbGGYURAADxUQA2TwF8lQpgZzkAa54CwJIQQDbr3KMLAVD3JAAYggVAEg1AnBTAIzQAeeYCyDG3V3EAxZkknAOw2iPpgGwCQABALgGbVYArCQFsJAWAmm0AO80BYPW0F7OEo4ynygGd0/MVAIDwUYCaVQApBy4CACAdTA5mgJ7IM4AoB+ISAIADQABALgEpB6IciEvgB4DYBCIdkHRgmQlIEg2AFgBA8gzAZhWgZhUg8gxgFgAgEg2ghhWgOIDiWBQCECcFwAgAgPgoAJaEAK4kBBA+CnARAIBwUoADT8ksS0gmaBcyO+WQ6WWRDAKoZJgpJCPUCxmeccj4qkjmYxsAD80E+JVhgIIBghKAi7WWlZWVlT/nxIZww04Nt20YVQV+xqAKhASAA4D0gAAAAAD/BwAAAAAwwc1iJ8EAADDBAACwQQsEAQEBBKUBiT88//+HPAVk+u+vgRUBAlZBbgECWUgeAQLvQQwBAsBAEgAAAOoAAAA=",
        "encoding": "base64",
        "path": [
         "scene_WwFWFXNZoiJquSwZXI4DcJtHK",
         "drc"
        ]
       },
       {
        "data": "RFJBQ08CAgEBAAAAXLQBAbMBAAAtX9u2rWpLVVVVqVZLVVWValVLVVWpVlVLVZVqVVVLValWVVVLlWpVVVVLqQIKAQEQ/wL2XgL/AAEAAQABAAkDAAACAQICAwABAQQBAQAMF70JGQIZEkkfGQK0F5BpXg4ZDy4i6U1F6DUqASfbu9LJXuhPPV9wGXiWA7CIwSF5fAbguxAAqaACwEN3TOpyAHbGGYURAADxUQA2TwF8lQpgZzkAa54CwJIQQDbr3KMLAVD3JAAYggVAEg1AnBTAIzQAeeYCyDG3V3EAxZkknAOw2iPpgGwCQABALgGbVYArCQFsJAWAmm0AO80BYPW0F7OEo4ynygGd0/MVAIDwUYCaVQApBy4CACAdTA5mgJ7IM4AoB+ISAIADQABALgEpB6IciEvgB4DYBCIdkHRgmQlIEg2AFgBA8gzAZhWgZhUg8gxgFgAgEg2ghhWgOIDiWBQCECcFwAgAgPgoAJaEAK4kBBA+CnARAIBwUoADT8ksS0gmaBcyO+WQ6WWRDAKoZJgpJCPUCxmeccj4qkjmYxsAD80E+JVhgIIBghKAi7WWlZWVlT/nxIZww04Nt20YVQV+xqAKhASAA4D0gAAAAAD/BwAAAAAAwHF4878AAADAAACAQAsEAQEBBCyJPzyjPAVY95GzgRUBAlZBbgECWUgeAQLvQQwBAsBAIwAAAHAAAAA=",
        "encoding": "base64",
        "path": [
         "scene_LkWlAgUYChZQ88o7bZQR3Y8ER",
         "drc"
        ]
       },
       {
        "data": "RFJBQ08CAgEBAAAAXLQBAbMBAAAtX9u2rWpLVVVVqVZLVVWValVLVVWpVlVLVZVqVVVLValWVVVLlWpVVVVLqQIKAQEQ/wL2XgL/AAEAAQABAAkDAAACAQICAwABAQQBAQAMF70JGQIZEkkfGQK0F5BpXg4ZDy4i6U1F6DUqASfbu9LJXuhPPV9wGXiWA7CIwSF5fAbguxAAqaACwEN3TOpyAHbGGYURAADxUQA2TwF8lQpgZzkAa54CwJIQQDbr3KMLAVD3JAAYggVAEg1AnBTAIzQAeeYCyDG3V3EAxZkknAOw2iPpgGwCQABALgGbVYArCQFsJAWAmm0AO80BYPW0F7OEo4ynygGd0/MVAIDwUYCaVQApBy4CACAdTA5mgJ7IM4AoB+ISAIADQABALgEpB6IciEvgB4DYBCIdkHRgmQlIEg2AFgBA8gzAZhWgZhUg8gxgFgAgEg2ghhWgOIDiWBQCECcFwAgAgPgoAJaEAK4kBBA+CnARAIBwUoADT8ksS0gmaBcyO+WQ6WWRDAKoZJgpJCPUCxmeccj4qkjmYxsAD80E+JVhgIIBghKAi7WWlZWVlT/nxIZww04Nt20YVQV+xqAKhASAA4D0gAAAAAD/BwAAAAAAwXF488AAAADBAACAQQsEAQEBBCmJPzyXPAVY6KCzgRUBAlZBbgECWUgeAQLvQQwBAsBAkwAAAPkAAAA=",
        "encoding": "base64",
        "path": [
         "scene_FDHh7nv591NRxV8AXBPOr4UlI",
         "drc"
        ]
       },
       {
        "data": "RFJBQ08CAgEBAAAAXLQBAbMBAAAtX9u2rWpLVVVVqVZLVVWValVLVVWpVlVLVZVqVVVLValWVVVLlWpVVVVLqQIKAQEQ/wL2XgL/AAEAAQABAAkDAAACAQICAwABAQQBAQAMF70JGQIZEkkfGQK0F5BpXg4ZDy4i6U1F6DUqASfbu9LJXuhPPV9wGXiWA7CIwSF5fAbguxAAT1kB0EN3TOpyAHbGGYURAADxUQA2TwF8lQpgZzkAa54CwJIQQDbr3KMLAVD3JAAYggVAEg1AnBTAIzQAO82NsdIdQHEAxclMzgGw+iPpgGwCQABALgGbVYArCQFsJAWAmm0AO80BUPW0F7OEo4ynygGd8/MVAIDwUYCaVQApBy4CACAdTA5mgJ/IM4AoB+ISAIAFQABALgEpB6IciEvgB4DYBCIdkHRgmclHEg2AFgBA8gzAZhWgZhUg8gxgFgAgEg2ghhWgOIDiWBQCECcFwAgAgPgoAJaEAK4kBBA+CnARAIBwUoADT8ksS0gmaBcyO+WQ6WWRDAKoZJgpJCPUCxmeccj4qkimvx8AD94DmOJGggGEEtR8RV4iJCQkCNeA4WSDIwVCaxhVBX7GoAqEBIADAPaAAAAAAP8HAAAAAFDB29FFwQAAUMEAANBBCwQBAQEEVIk/PP9DPAVY95GzgRUBAlZBbgECWUgeAQLvQQwBAsBAGAAAAMYAAAA=",
        "encoding": "base64",
        "path": [
         "scene_uQJMP00fedvsh91ZZKasTHbUS",
         "drc"
        ]
       },
       {
        "data": "RFJBQ08CAgEBAAAAXLQBAbMBAAAtX9u2rWpLVVVVqVZLVVWValVLVVWpVlVLVZVqVVVLValWVVVLlWpVVVVLqQIKAQEQ/wL2XgL/AAEAAQABAAkDAAACAQICAwABAQQBAQAMF70JGQIZEkkfGQK0F5BpXg4ZDy4i6U1F6DUqASfbu9LJXuhPPV9wGXiWA7CIwSF5fAbguxAAqaACwEN3TOpyAHbGGYURAADxUQA2TwF8lQpgZzkAa54CwJIQQDbr3KMLAVD3JAAYggVAEg1AnBTAIzQAeeYCyDG3V3EAxZkknAOw2iPpgGwCQABALgGbVYArCQFsJAWAmm0AO80BYPW0F7OEo4ynygGd0/MVAIDwUYCaVQApBy4CACAdTA5mgJ7IM4AoB+ISAIADQABALgEpB6IciEvgB4DYBCIdkHRgmQlIEg2AFgBA8gzAZhWgZhUg8gxgFgAgEg2ghhWgOIDiWBQCECcFwAgAgPgoAJaEAK4kBBA+CnARAIBwUoADT8ksS0gmaBcyO+WQ6WWRDAKoZJgpJCPUCxmeccj4qkjmYxsAD80E+JVhgIIBghKAi7WWlZWVlT/nxIZww04Nt20YVQV+xqAKhASAA4D0gAAAAAD/BwAAAAAQwb/zCMEAABDBAACQQQsEAQEBBBWJPzxHPAVYXeS/gRUBAlZBbgECWUgeAQLvQQwBAsBAjAAAALkAAAA=",
        "encoding": "base64",
        "path": [
         "scene_Ob0LSUoq1XVYdmXgdLhhJDSjr",
         "drc"
        ]
       },
       {
        "data": "RFJBQ08CAgEBAAAAXLQBAbMBAAAtX9u2rWpLVVVVqVZLVVWValVLVVWpVlVLVZVqVVVLValWVVVLlWpVVVVLqQIKAQEQ/wL2XgL/AAEAAQABAAkDAAACAQICAwABAQQBAQAMF70JGQIZEkkfGQK0F5BpXg4ZDy4i6U1F6DUqASfbu9LJXuhPPV9wGXiWA7CIwSF5fAbguxAAT1kB0EN3TOpyAHbGGYURAADxUQA2TwF8lQpgZzkAa54CwJIQQDbr3KMLAVD3JAAYggVAEg1AnBTAIzQAO82NsdIdQHEAxclMzgGw+iPpgGwCQABALgGbVYArCQFsJAWAmm0AO80BUPW0F7OEo4ynygGd8/MVAIDwUYCaVQApBy4CACAdTA5mgJ/IM4AoB+ISAIAFQABALgEpB6IciEvgB4DYBCIdkHRgmclHEg2AFgBA8gzAZhWgZhUg8gxgFgAgEg2ghhWgOIDiWBQCECcFwAgAgPgoAJaEAK4kBBA+CnARAIBwUoADT8ksS0gmaBcyO+WQ6WWRDAKoZJgpJCPUCxmeccj4qkimvx8AD94DmOJGggGEEtR8RV4iJCQkCNeA4WSDIwVCaxhVBX7GoAqEBIADAPaAAAAAAP8HAAAAAHDB6kBkwQAAcMEAAPBBCwQBAQEESok/PP8bPAVYTvO/gRUBAlZBbgECWUgeAQLvQQwBAsBATQAAANkAAAA=",
        "encoding": "base64",
        "path": [
         "scene_K0bmC1Rgegkz5lZFbootRLVpd",
         "drc"
        ]
       },
       {
        "data": "RFJBQ08CAgEBAAAAXLQBAbMBAAAtX9u2rWpLVVVVqVZLVVWValVLVVWpVlVLVZVqVVVLValWVVVLlWpVVVVLqQIKAQEQ/wL2XgL/AAEAAQABAAkDAAACAQICAwABAQQBAQAMF70JGQIZEkkfGQK0F5BpXg4ZDy4i6U1F6DUqASfbu9LJXuhPPV9wGXiWA7CIwSF5fAbguxAAT1kB0EN3TOpyAHbGGYURAADxUQA2TwF8lQpgZzkAa54CwJIQQDbr3KMLAVD3JAAYggVAEg1AnBTAIzQAO82NsdIdQHEAxclMzgGw+iPpgGwCQABALgGbVYArCQFsJAWAmm0AO80BUPW0F7OEo4ynygGd8/MVAIDwUYCaVQApBy4CACAdTA5mgJ/IM4AoB+ISAIAFQABALgEpB6IciEvgB4DYBCIdkHRgmclHEg2AFgBA8gzAZhWgZhUg8gxgFgAgEg2ghhWgOIDiWBQCECcFwAgAgPgoAJaEAK4kBBA+CnARAIBwUoADT8ksS0gmaBcyO+WQ6WWRDAKoZJgpJCPUCxmeccj4qkimvx8AD94DmOJGggGEEtR8RV4iJCQkCNeA4WSDIwVCaxhVBX7GoAqEBIADAPaAAAAAAP8HAAAAAHDB6kBkwQAAcMEAAPBBCwQBAQEEVok/PP9LPAVYTvO/gRUBAlZBbgECWUgeAQLvQQwBAsBAFQAAAI8AAAA=",
        "encoding": "base64",
        "path": [
         "scene_sUDwUbWAUSKFoLlv1udcdpCrs",
         "drc"
        ]
       },
       {
        "data": "RFJBQ08CAgEBAAAAXLQBAbMBAAAtX9u2rWpLVVVVqVZLVVWValVLVVWpVlVLVZVqVVVLValWVVVLlWpVVVVLqQIKAQEQ/wL2XgL/AAEAAQABAAkDAAACAQICAwABAQQBAQAMF70JGQIZEkkfGQK0F5BpXg4ZDy4i6U1F6DUqASfbu9LJXuhPPV9wGXiWA7CIwSF5fAbguxAAqaACwEN3TOpyAHbGGYURAADxUQA2TwF8lQpgZzkAa54CwJIQQDbr3KMLAVD3JAAYggVAEg1AnBTAIzQAeeYCyDG3V3EAxZkknAOw2iPpgGwCQABALgGbVYArCQFsJAWAmm0AO80BYPW0F7OEo4ynygGd0/MVAIDwUYCaVQApBy4CACAdTA5mgJ7IM4AoB+ISAIADQABALgEpB6IciEvgB4DYBCIdkHRgmQlIEg2AFgBA8gzAZhWgZhUg8gxgFgAgEg2ghhWgOIDiWBQCECcFwAgAgPgoAJaEAK4kBBA+CnARAIBwUoADT8ksS0gmaBcyO+WQ6WWRDAKoZJgpJCPUCxmeccj4qkjmYxsAD80E+JVhgIIBghKAi7WWlZWVlT/nxIZww04Nt20YVQV+xqAKhASAA4D0gAAAAAD/BwAAAAAQwb/zCMEAABDBAACQQQsEAQEBBGqJPzz/mzwFZOv+r4EVAQJWQW4BAllIHgEC70EMAQLAQG0AAAD8AAAA",
        "encoding": "base64",
        "path": [
         "scene_ifmN87RyCLrshlOJFMYy8RV2j",
         "drc"
        ]
       },
       {
        "data": "RFJBQ08CAgEBAAAAXLQBAbMBAAAtX9u2rWpLVVVVqVZLVVWValVLVVWpVlVLVZVqVVVLValWVVVLlWpVVVVLqQIKAQEQ/wL2XgL/AAEAAQABAAkDAAACAQICAwABAQQBAQAMF70JGQIZEkkfGQK0F5BpXg4ZDy4i6U1F6DUqASfbu9LJXuhPPV9wGXiWA7CIwSF5fAbguxAAT1kB0EN3TOpyAHbGGYURAADxUQA2TwF8lQpgZzkAa54CwJIQQDbr3KMLAVD3JAAYggVAEg1AnBTAIzQAO82NsdIdQHEAxclMzgGw+iPpgGwCQABALgGbVYArCQFsJAWAmm0AO80BUPW0F7OEo4ynygGd8/MVAIDwUYCaVQApBy4CACAdTA5mgJ/IM4AoB+ISAIAFQABALgEpB6IciEvgB4DYBCIdkHRgmclHEg2AFgBA8gzAZhWgZhUg8gxgFgAgEg2ghhWgOIDiWBQCECcFwAgAgPgoAJaEAK4kBBA+CnARAIBwUoADT8ksS0gmaBcyO+WQ6WWRDAKoZJgpJCPUCxmeccj4qkimvx8AD94DmOJGggGEEtR8RV4iJCQkCNeA4WSDIwVCaxhVBX7GoAqEBIADAPaAAAAAAP8HAAAAAFDB29FFwQAAUMEAANBBCwQBAQEEVIk/PP9DPAVYTvO/gRUBAlZBbgECWUgeAQLvQQwBAsBABgAAAFwAAAA=",
        "encoding": "base64",
        "path": [
         "scene_4dMZyf9ilGYJdNb5GfhW2UGyo",
         "drc"
        ]
       },
       {
        "data": "RFJBQ08CAgEBAAAAXLQBAbMBAAAtX9u2rWpLVVVVqVZLVVWValVLVVWpVlVLVZVqVVVLValWVVVLlWpVVVVLqQIKAQEQ/wL2XgL/AAEAAQABAAkDAAACAQICAwABAQQBAQAMF70JGQIZEkkfGQK0F5BpXg4ZDy4i6U1F6DUqASfbu9LJXuhPPV9wGXiWA7CIwSF5fAbguxAAqaACwEN3TOpyAHbGGYURAADxUQA2TwF8lQpgZzkAa54CwJIQQDbr3KMLAVD3JAAYggVAEg1AnBTAIzQAeeYCyDG3V3EAxZkknAOw2iPpgGwCQABALgGbVYArCQFsJAWAmm0AO80BYPW0F7OEo4ynygGd0/MVAIDwUYCaVQApBy4CACAdTA5mgJ7IM4AoB+ISAIADQABALgEpB6IciEvgB4DYBCIdkHRgmQlIEg2AFgBA8gzAZhWgZhUg8gxgFgAgEg2ghhWgOIDiWBQCECcFwAgAgPgoAJaEAK4kBBA+CnARAIBwUoADT8ksS0gmaBcyO+WQ6WWRDAKoZJgpJCPUCxmeccj4qkjmYxsAD80E+JVhgIIBghKAi7WWlZWVlT/nxIZww04Nt20YVQV+xqAKhASAA4D0gAAAAAD/BwAAAAAgwUYrGMEAACDBAACgQQsEAQEBBAmJPzwXPAVY6KCzgRUBAlZBbgECWUgeAQLvQQwBAsBAbAAAALsAAAA=",
        "encoding": "base64",
        "path": [
         "scene_1Pio9BNkVRSOCOIlDKUJDDk9N",
         "drc"
        ]
       },
       {
        "data": "RFJBQ08CAgEBAAAAXLQBAbMBAAAtX9u2rWpLVVVVqVZLVVWValVLVVWpVlVLVZVqVVVLValWVVVLlWpVVVVLqQIKAQEQ/wL2XgL/AAEAAQABAAkDAAACAQICAwABAQQBAQAMF70JGQIZEkkfGQK0F5BpXg4ZDy4i6U1F6DUqASfbu9LJXuhPPV9wGXiWA7CIwSF5fAbguxAAqaACwEN3TOpyAHbGGYURAADxUQA2TwF8lQpgZzkAa54CwJIQQDbr3KMLAVD3JAAYggVAEg1AnBTAIzQAeeYCyDG3V3EAxZkknAOw2iPpgGwCQABALgGbVYArCQFsJAWAmm0AO80BYPW0F7OEo4ynygGd0/MVAIDwUYCaVQApBy4CACAdTA5mgJ7IM4AoB+ISAIADQABALgEpB6IciEvgB4DYBCIdkHRgmQlIEg2AFgBA8gzAZhWgZhUg8gxgFgAgEg2ghhWgOIDiWBQCECcFwAgAgPgoAJaEAK4kBBA+CnARAIBwUoADT8ksS0gmaBcyO+WQ6WWRDAKoZJgpJCPUCxmeccj4qkjmYxsAD80E+JVhgIIBghKAi7WWlZWVlT/nxIZww04Nt20YVQV+xqAKhASAA4D0gAAAAAD/BwAAAACAwXF4c8EAAIDBAAAAQgsEAQEBBBqJPzxbPAVYTvO/gRUBAlZBbgECWUgeAQLvQQwBAsBAxgAAAOoAAAA=",
        "encoding": "base64",
        "path": [
         "scene_pVGYni880MrBuBOnumUjaZygu",
         "drc"
        ]
       },
       {
        "data": "RFJBQ08CAgEBAAAAXLQBAbMBAAAtX9u2rWpLVVVVqVZLVVWValVLVVWpVlVLVZVqVVVLValWVVVLlWpVVVVLqQIKAQEQ/wL2XgL/AAEAAQABAAkDAAACAQICAwABAQQBAQAMF70JGQIZEkkfGQK0F5BpXg4ZDy4i6U1F6DUqASfbu9LJXuhPPV9wGXiWA7CIwSF5fAbguxAAqaACwEN3TOpyAHbGGYURAADxUQA2TwF8lQpgZzkAa54CwJIQQDbr3KMLAVD3JAAYggVAEg1AnBTAIzQAeeYCyDG3V3EAxZkknAOw2iPpgGwCQABALgGbVYArCQFsJAWAmm0AO80BYPW0F7OEo4ynygGd0/MVAIDwUYCaVQApBy4CACAdTA5mgJ7IM4AoB+ISAIADQABALgEpB6IciEvgB4DYBCIdkHRgmQlIEg2AFgBA8gzAZhWgZhUg8gxgFgAgEg2ghhWgOIDiWBQCECcFwAgAgPgoAJaEAK4kBBA+CnARAIBwUoADT8ksS0gmaBcyO+WQ6WWRDAKoZJgpJCPUCxmeccj4qkjmYxsAD80E+JVhgIIBghKAi7WWlZWVlT/nxIZww04Nt20YVQV+xqAKhASAA4D0gAAAAAD/BwAAAABAwFSaNsAAAEDAAADAQAsEAQEBBDCJPzyzPAVY6KCzgRUBAlZBbgECWUgeAQLvQQwBAsBATwAAAL8AAAA=",
        "encoding": "base64",
        "path": [
         "scene_KlJnYaAmxKeQQjB4kh6JIfDUm",
         "drc"
        ]
       },
       {
        "data": "RFJBQ08CAgEBAAAAXLQBAbMBAAAtX9u2rWpLVVVVqVZLVVWValVLVVWpVlVLVZVqVVVLValWVVVLlWpVVVVLqQIKAQEQ/wL2XgL/AAEAAQABAAkDAAACAQICAwABAQQBAQAMF70JGQIZEkkfGQK0F5BpXg4ZDy4i6U1F6DUqASfbu9LJXuhPPV9wGXiWA7CIwSF5fAbguxAAT1kB0EN3TOpyAHbGGYURAADxUQA2TwF8lQpgZzkAa54CwJIQQDbr3KMLAVD3JAAYggVAEg1AnBTAIzQAO82NsdIdQHEAxclMzgGw+iPpgGwCQABALgGbVYArCQFsJAWAmm0AO80BUPW0F7OEo4ynygGd8/MVAIDwUYCaVQApBy4CACAdTA5mgJ/IM4AoB+ISAIAFQABALgEpB6IciEvgB4DYBCIdkHRgmclHEg2AFgBA8gzAZhWgZhUg8gxgFgAgEg2ghhWgOIDiWBQCECcFwAgAgPgoAJaEAK4kBBA+CnARAIBwUoADT8ksS0gmaBcyO+WQ6WWRDAKoZJgpJCPUCxmeccj4qkimvx8AD94DmOJGggGEEtR8RV4iJCQkCNeA4WSDIwVCaxhVBX7GoAqEBIADAPaAAAAAAP8HAAAAAFDB29FFwQAAUMEAANBBCwQBAQEEdIk/PP/DPAVY95GzgRUBAlZBbgECWUgeAQLvQQwBAsBAQwAAAOEAAAA=",
        "encoding": "base64",
        "path": [
         "scene_3XqiedydlnIAIUY1VJRzg3LBu",
         "drc"
        ]
       },
       {
        "data": "RFJBQ08CAgEBAAAAXLQBAbMBAAAtX9u2rWpLVVVVqVZLVVWValVLVVWpVlVLVZVqVVVLValWVVVLlWpVVVVLqQIKAQEQ/wL2XgL/AAEAAQABAAkDAAACAQICAwABAQQBAQAMF70JGQIZEkkfGQK0F5BpXg4ZDy4i6U1F6DUqASfbu9LJXuhPPV9wGXiWA7CIwSF5fAbguxAAqaACwEN3TOpyAHbGGYURAADxUQA2TwF8lQpgZzkAa54CwJIQQDbr3KMLAVD3JAAYggVAEg1AnBTAIzQAeeYCyDG3V3EAxZkknAOw2iPpgGwCQABALgGbVYArCQFsJAWAmm0AO80BYPW0F7OEo4ynygGd0/MVAIDwUYCaVQApBy4CACAdTA5mgJ7IM4AoB+ISAIADQABALgEpB6IciEvgB4DYBCIdkHRgmQlIEg2AFgBA8gzAZhWgZhUg8gxgFgAgEg2ghhWgOIDiWBQCECcFwAgAgPgoAJaEAK4kBBA+CnARAIBwUoADT8ksS0gmaBcyO+WQ6WWRDAKoZJgpJCPUCxmeccj4qkjmYxsAD80E+JVhgIIBghKAi7WWlZWVlT/nxIZww04Nt20YVQV+xqAKhASAA4D0gAAAAAD/BwAAAAAgwUYrGMEAACDBAACgQQsEAQEBBDiJPzzTPAVYTvO/gRUBAlZBbgECWUgeAQLvQQwBAsBAfAAAAOcAAAA=",
        "encoding": "base64",
        "path": [
         "scene_nLI2WRXn938tr7T0YYtBT9iKV",
         "drc"
        ]
       },
       {
        "data": "RFJBQ08CAgEBAAAAXLQBAbMBAAAtX9u2rWpLVVVVqVZLVVWValVLVVWpVlVLVZVqVVVLValWVVVLlWpVVVVLqQIKAQEQ/wL2XgL/AAEAAQABAAkDAAACAQICAwABAQQBAQAMF70JGQIZEkkfGQK0F5BpXg4ZDy4i6U1F6DUqASfbu9LJXuhPPV9wGXiWA7CIwSF5fAbguxAAqaACwEN3TOpyAHbGGYURAADxUQA2TwF8lQpgZzkAa54CwJIQQDbr3KMLAVD3JAAYggVAEg1AnBTAIzQAeeYCyDG3V3EAxZkknAOw2iPpgGwCQABALgGbVYArCQFsJAWAmm0AO80BYPW0F7OEo4ynygGd0/MVAIDwUYCaVQApBy4CACAdTA5mgJ7IM4AoB+ISAIADQABALgEpB6IciEvgB4DYBCIdkHRgmQlIEg2AFgBA8gzAZhWgZhUg8gxgFgAgEg2ghhWgOIDiWBQCECcFwAgAgPgoAJaEAK4kBBA+CnARAIBwUoADT8ksS0gmaBcyO+WQ6WWRDAKoZJgpJCPUCxmeccj4qkjmYxsAD80E+JVhgIIBghKAi7WWlZWVlT/nxIZww04Nt20YVQV+xqAKhASAA4D0gAAAAAD/BwAAAACYwYOPkMEAAJjBAAAYQgsEAQEBBAKJP3gFWOjvQIAVAQJWQW4BAllIHgEC70EMAQLAQBgAAACyAAAA",
        "encoding": "base64",
        "path": [
         "scene_9u4fLKtS9PAODHFMJqXR9bClj",
         "drc"
        ]
       },
       {
        "data": "RFJBQ08CAgEBAAAAXLQBAbMBAAAtX9u2rWpLVVVVqVZLVVWValVLVVWpVlVLVZVqVVVLValWVVVLlWpVVVVLqQIKAQEQ/wL2XgL/AAEAAQABAAkDAAACAQICAwABAQQBAQAMF70JGQIZEkkfGQK0F5BpXg4ZDy4i6U1F6DUqASfbu9LJXuhPPV9wGXiWA7CIwSF5fAbguxAAqaACwEN3TOpyAHbGGYURAADxUQA2TwF8lQpgZzkAa54CwJIQQDbr3KMLAVD3JAAYggVAEg1AnBTAIzQAeeYCyDG3V3EAxZkknAOw2iPpgGwCQABALgGbVYArCQFsJAWAmm0AO80BYPW0F7OEo4ynygGd0/MVAIDwUYCaVQApBy4CACAdTA5mgJ7IM4AoB+ISAIADQABALgEpB6IciEvgB4DYBCIdkHRgmQlIEg2AFgBA8gzAZhWgZhUg8gxgFgAgEg2ghhWgOIDiWBQCECcFwAgAgPgoAJaEAK4kBBA+CnARAIBwUoADT8ksS0gmaBcyO+WQ6WWRDAKoZJgpJCPUCxmeccj4qkjmYxsAD80E+JVhgIIBghKAi7WWlZWVlT/nxIZww04Nt20YVQV+xqAKhASAA4D0gAAAAAD/BwAAAACAv3F4c78AAIC/AAAAQAsEAQEBBAyJPzwjPAVY6KCzgRUBAlZBbgECWUgeAQLvQQwBAsBAbwAAAKsAAAA=",
        "encoding": "base64",
        "path": [
         "scene_gdwl9c36RgYDVxMkgOU2vK4e5",
         "drc"
        ]
       },
       {
        "data": "RFJBQ08CAgEBAAAAXLQBAbMBAAAtX9u2rWpLVVVVqVZLVVWValVLVVWpVlVLVZVqVVVLValWVVVLlWpVVVVLqQIKAQEQ/wL2XgL/AAEAAQABAAkDAAACAQICAwABAQQBAQAMF70JGQIZEkkfGQK0F5BpXg4ZDy4i6U1F6DUqASfbu9LJXuhPPV9wGXiWA7CIwSF5fAbguxAAqaACwEN3TOpyAHbGGYURAADxUQA2TwF8lQpgZzkAa54CwJIQQDbr3KMLAVD3JAAYggVAEg1AnBTAIzQAeeYCyDG3V3EAxZkknAOw2iPpgGwCQABALgGbVYArCQFsJAWAmm0AO80BYPW0F7OEo4ynygGd0/MVAIDwUYCaVQApBy4CACAdTA5mgJ7IM4AoB+ISAIADQABALgEpB6IciEvgB4DYBCIdkHRgmQlIEg2AFgBA8gzAZhWgZhUg8gxgFgAgEg2ghhWgOIDiWBQCECcFwAgAgPgoAJaEAK4kBBA+CnARAIBwUoADT8ksS0gmaBcyO+WQ6WWRDAKoZJgpJCPUCxmeccj4qkjmYxsAD80E+JVhgIIBghKAi7WWlZWVlT/nxIZww04Nt20YVQV+xqAKhASAA4D0gAAAAAD/BwAAAAAwwc1iJ8EAADDBAACwQQsEAQEBBFWJPzz/RzwFWOigs4EVAQJWQW4BAllIHgEC70EMAQLAQE8AAACkAAAA",
        "encoding": "base64",
        "path": [
         "scene_kFVX8tG048z3qVRJ2olXKbJ1N",
         "drc"
        ]
       },
       {
        "data": "RFJBQ08CAgEBAAAAXLQBAbMBAAAtX9u2rWpLVVVVqVZLVVWValVLVVWpVlVLVZVqVVVLValWVVVLlWpVVVVLqQIKAQEQ/wL2XgL/AAEAAQABAAkDAAACAQICAwABAQQBAQAMF70JGQIZEkkfGQK0F5BpXg4ZDy4i6U1F6DUqASfbu9LJXuhPPV9wGXiWA7CIwSF5fAbguxAAT1kB0EN3TOpyAHbGGYURAADxUQA2TwF8lQpgZzkAa54CwJIQQDbr3KMLAVD3JAAYggVAEg1AnBTAIzQAO82NsdIdQHEAxclMzgGw+iPpgGwCQABALgGbVYArCQFsJAWAmm0AO80BUPW0F7OEo4ynygGd8/MVAIDwUYCaVQApBy4CACAdTA5mgJ/IM4AoB+ISAIAFQABALgEpB6IciEvgB4DYBCIdkHRgmclHEg2AFgBA8gzAZhWgZhUg8gxgFgAgEg2ghhWgOIDiWBQCECcFwAgAgPgoAJaEAK4kBBA+CnARAIBwUoADT8ksS0gmaBcyO+WQ6WWRDAKoZJgpJCPUCxmeccj4qkimvx8AD94DmOJGggGEEtR8RV4iJCQkCNeA4WSDIwVCaxhVBX7GoAqEBIADAPaAAAAAAP8HAAAAAODAYwnVwAAA4MAAAGBBCwQBAQEEZIk/PP+DPAVk6/6vgRUBAlZBbgECWUgeAQLvQQwBAsBABgAAANgAAAA=",
        "encoding": "base64",
        "path": [
         "scene_epghALO0EMVpGzUJ8oz2HKoir",
         "drc"
        ]
       },
       {
        "data": "RFJBQ08CAgEBAAAAXLQBAbMBAAAtX9u2rWpLVVVVqVZLVVWValVLVVWpVlVLVZVqVVVLValWVVVLlWpVVVVLqQIKAQEQ/wL2XgL/AAEAAQABAAkDAAACAQICAwABAQQBAQAMF70JGQIZEkkfGQK0F5BpXg4ZDy4i6U1F6DUqASfbu9LJXuhPPV9wGXiWA7CIwSF5fAbguxAAqaACwEN3TOpyAHbGGYURAADxUQA2TwF8lQpgZzkAa54CwJIQQDbr3KMLAVD3JAAYggVAEg1AnBTAIzQAeeYCyDG3V3EAxZkknAOw2iPpgGwCQABALgGbVYArCQFsJAWAmm0AO80BYPW0F7OEo4ynygGd0/MVAIDwUYCaVQApBy4CACAdTA5mgJ7IM4AoB+ISAIADQABALgEpB6IciEvgB4DYBCIdkHRgmQlIEg2AFgBA8gzAZhWgZhUg8gxgFgAgEg2ghhWgOIDiWBQCECcFwAgAgPgoAJaEAK4kBBA+CnARAIBwUoADT8ksS0gmaBcyO+WQ6WWRDAKoZJgpJCPUCxmeccj4qkjmYxsAD80E+JVhgIIBghKAi7WWlZWVlT/nxIZww04Nt20YVQV+xqAKhASAA4D0gAAAAAD/BwAAAAAAwXF488AAAADBAACAQQsEAQEBBAOJPzw8BVhO87+BFQECVkFuAQJZSB4BAu9BDAECwEBTAAAAZQAAAA==",
        "encoding": "base64",
        "path": [
         "scene_zUq4m000vmSaLpcyeyDe5MiPX",
         "drc"
        ]
       },
       {
        "data": "RFJBQ08CAgEBAAAAXLQBAbMBAAAtX9u2rWpLVVVVqVZLVVWValVLVVWpVlVLVZVqVVVLValWVVVLlWpVVVVLqQIKAQEQ/wL2XgL/AAEAAQABAAkDAAACAQICAwABAQQBAQAMF70JGQIZEkkfGQK0F5BpXg4ZDy4i6U1F6DUqASfbu9LJXuhPPV9wGXiWA7CIwSF5fAbguxAAqaACwEN3TOpyAHbGGYURAADxUQA2TwF8lQpgZzkAa54CwJIQQDbr3KMLAVD3JAAYggVAEg1AnBTAIzQAeeYCyDG3V3EAxZkknAOw2iPpgGwCQABALgGbVYArCQFsJAWAmm0AO80BYPW0F7OEo4ynygGd0/MVAIDwUYCaVQApBy4CACAdTA5mgJ7IM4AoB+ISAIADQABALgEpB6IciEvgB4DYBCIdkHRgmQlIEg2AFgBA8gzAZhWgZhUg8gxgFgAgEg2ghhWgOIDiWBQCECcFwAgAgPgoAJaEAK4kBBA+CnARAIBwUoADT8ksS0gmaBcyO+WQ6WWRDAKoZJgpJCPUCxmeccj4qkjmYxsAD80E+JVhgIIBghKAi7WWlZWVlT/nxIZww04Nt20YVQV+xqAKhASAA4D0gAAAAAD/BwAAAACIwfxXgcEAAIjBAAAIQgsEAQEBBB2JPzxnPAVk6/6vgRUBAlZBbgECWUgeAQLvQQwBAsBADwAAAH4AAAA=",
        "encoding": "base64",
        "path": [
         "scene_gg2hp27pAbn2xVftQ4JnYxtTI",
         "drc"
        ]
       },
       {
        "data": "RFJBQ08CAgEBAAAAXLQBAbMBAAAtX9u2rWpLVVVVqVZLVVWValVLVVWpVlVLVZVqVVVLValWVVVLlWpVVVVLqQIKAQEQ/wL2XgL/AAEAAQABAAkDAAACAQICAwABAQQBAQAMF70JGQIZEkkfGQK0F5BpXg4ZDy4i6U1F6DUqASfbu9LJXuhPPV9wGXiWA7CIwSF5fAbguxAAT1kB0EN3TOpyAHbGGYURAADxUQA2TwF8lQpgZzkAa54CwJIQQDbr3KMLAVD3JAAYggVAEg1AnBTAIzQAO82NsdIdQHEAxclMzgGw+iPpgGwCQABALgGbVYArCQFsJAWAmm0AO80BUPW0F7OEo4ynygGd8/MVAIDwUYCaVQApBy4CACAdTA5mgJ/IM4AoB+ISAIAFQABALgEpB6IciEvgB4DYBCIdkHRgmclHEg2AFgBA8gzAZhWgZhUg8gxgFgAgEg2ghhWgOIDiWBQCECcFwAgAgPgoAJaEAK4kBBA+CnARAIBwUoADT8ksS0gmaBcyO+WQ6WWRDAKoZJgpJCPUCxmeccj4qkimvx8AD94DmOJGggGEEtR8RV4iJCQkCNeA4WSDIwVCaxhVBX7GoAqEBIADAPaAAAAAAP8HAAAAAODAYwnVwAAA4MAAAGBBCwQBAQEE5gGJPzz///+LPAVk+u+vgRUBAlZBbgECWUgeAQLvQQwBAsBABwAAAPwAAAA=",
        "encoding": "base64",
        "path": [
         "scene_scHuyDIDPZTxAqiKjEMYg78O0",
         "drc"
        ]
       },
       {
        "data": "RFJBQ08CAgEBAAAAXLQBAbMBAAAtX9u2rWpLVVVVqVZLVVWValVLVVWpVlVLVZVqVVVLValWVVVLlWpVVVVLqQIKAQEQ/wL2XgL/AAEAAQABAAkDAAACAQICAwABAQQBAQAMF70JGQIZEkkfGQK0F5BpXg4ZDy4i6U1F6DUqASfbu9LJXuhPPV9wGXiWA7CIwSF5fAbguxAAqaACwEN3TOpyAHbGGYURAADxUQA2TwF8lQpgZzkAa54CwJIQQDbr3KMLAVD3JAAYggVAEg1AnBTAIzQAeeYCyDG3V3EAxZkknAOw2iPpgGwCQABALgGbVYArCQFsJAWAmm0AO80BYPW0F7OEo4ynygGd0/MVAIDwUYCaVQApBy4CACAdTA5mgJ7IM4AoB+ISAIADQABALgEpB6IciEvgB4DYBCIdkHRgmQlIEg2AFgBA8gzAZhWgZhUg8gxgFgAgEg2ghhWgOIDiWBQCECcFwAgAgPgoAJaEAK4kBBA+CnARAIBwUoADT8ksS0gmaBcyO+WQ6WWRDAKoZJgpJCPUCxmeccj4qkjmYxsAD80E+JVhgIIBghKAi7WWlZWVlT/nxIZww04Nt20YVQV+xqAKhASAA4D0gAAAAAD/BwAAAACIwfxXgcEAAIjBAAAIQgsEAQEBBDmJPzzXPAVk6/6vgRUBAlZBbgECWUgeAQLvQQwBAsBAEQAAAMYAAAA=",
        "encoding": "base64",
        "path": [
         "scene_gKd4LUnfbQmuEKxv3XFCJ8cn0",
         "drc"
        ]
       },
       {
        "data": "RFJBQ08CAgEBAAAAXLQBAbMBAAAtX9u2rWpLVVVVqVZLVVWValVLVVWpVlVLVZVqVVVLValWVVVLlWpVVVVLqQIKAQEQ/wL2XgL/AAEAAQABAAkDAAACAQICAwABAQQBAQAMF70JGQIZEkkfGQK0F5BpXg4ZDy4i6U1F6DUqASfbu9LJXuhPPV9wGXiWA7CIwSF5fAbguxAAqaACwEN3TOpyAHbGGYURAADxUQA2TwF8lQpgZzkAa54CwJIQQDbr3KMLAVD3JAAYggVAEg1AnBTAIzQAeeYCyDG3V3EAxZkknAOw2iPpgGwCQABALgGbVYArCQFsJAWAmm0AO80BYPW0F7OEo4ynygGd0/MVAIDwUYCaVQApBy4CACAdTA5mgJ7IM4AoB+ISAIADQABALgEpB6IciEvgB4DYBCIdkHRgmQlIEg2AFgBA8gzAZhWgZhUg8gxgFgAgEg2ghhWgOIDiWBQCECcFwAgAgPgoAJaEAK4kBBA+CnARAIBwUoADT8ksS0gmaBcyO+WQ6WWRDAKoZJgpJCPUCxmeccj4qkjmYxsAD80E+JVhgIIBghKAi7WWlZWVlT/nxIZww04Nt20YVQV+xqAKhASAA4D0gAAAAAD/BwAAAACAv3F4c78AAIC/AAAAQAsEAQEBBFaJPzz/SzwFZPrvr4EVAQJWQW4BAllIHgEC70EMAQLAQCUAAADsAAAA",
        "encoding": "base64",
        "path": [
         "scene_JAukgTuh4OLYgRfrE0Bdazgr8",
         "drc"
        ]
       },
       {
        "data": "RFJBQ08CAgEBAAAAXLQBAbMBAAAtX9u2rWpLVVVVqVZLVVWValVLVVWpVlVLVZVqVVVLValWVVVLlWpVVVVLqQIKAQEQ/wL2XgL/AAEAAQABAAkDAAACAQICAwABAQQBAQAMF70JGQIZEkkfGQK0F5BpXg4ZDy4i6U1F6DUqASfbu9LJXuhPPV9wGXiWA7CIwSF5fAbguxAAqaACwEN3TOpyAHbGGYURAADxUQA2TwF8lQpgZzkAa54CwJIQQDbr3KMLAVD3JAAYggVAEg1AnBTAIzQAeeYCyDG3V3EAxZkknAOw2iPpgGwCQABALgGbVYArCQFsJAWAmm0AO80BYPW0F7OEo4ynygGd0/MVAIDwUYCaVQApBy4CACAdTA5mgJ7IM4AoB+ISAIADQABALgEpB6IciEvgB4DYBCIdkHRgmQlIEg2AFgBA8gzAZhWgZhUg8gxgFgAgEg2ghhWgOIDiWBQCECcFwAgAgPgoAJaEAK4kBBA+CnARAIBwUoADT8ksS0gmaBcyO+WQ6WWRDAKoZJgpJCPUCxmeccj4qkjmYxsAD80E+JVhgIIBghKAi7WWlZWVlT/nxIZww04Nt20YVQV+xqAKhASAA4D0gAAAAAD/BwAAAACYwYOPkMEAAJjBAAAYQgsEAQEBBDeJPzzPPAVYXeS/gRUBAlZBbgECWUgeAQLvQQwBAsBALAAAAIoAAAA=",
        "encoding": "base64",
        "path": [
         "scene_vSSztp09yIXyBrQTNYNkGmH4H",
         "drc"
        ]
       },
       {
        "data": "RFJBQ08CAgEBAAAAXLQBAbMBAAAtX9u2rWpLVVVVqVZLVVWValVLVVWpVlVLVZVqVVVLValWVVVLlWpVVVVLqQIKAQEQ/wL2XgL/AAEAAQABAAkDAAACAQICAwABAQQBAQAMF70JGQIZEkkfGQK0F5BpXg4ZDy4i6U1F6DUqASfbu9LJXuhPPV9wGXiWA7CIwSF5fAbguxAAqaACwEN3TOpyAHbGGYURAADxUQA2TwF8lQpgZzkAa54CwJIQQDbr3KMLAVD3JAAYggVAEg1AnBTAIzQAeeYCyDG3V3EAxZkknAOw2iPpgGwCQABALgGbVYArCQFsJAWAmm0AO80BYPW0F7OEo4ynygGd0/MVAIDwUYCaVQApBy4CACAdTA5mgJ7IM4AoB+ISAIADQABALgEpB6IciEvgB4DYBCIdkHRgmQlIEg2AFgBA8gzAZhWgZhUg8gxgFgAgEg2ghhWgOIDiWBQCECcFwAgAgPgoAJaEAK4kBBA+CnARAIBwUoADT8ksS0gmaBcyO+WQ6WWRDAKoZJgpJCPUCxmeccj4qkjmYxsAD80E+JVhgIIBghKAi7WWlZWVlT/nxIZww04Nt20YVQV+xqAKhASAA4D0gAAAAAD/BwAAAABAwFSaNsAAAEDAAADAQAsEAQEBBGWJPzz/hzwFZPrvr4EVAQJWQW4BAllIHgEC70EMAQLAQAwAAAC7AAAA",
        "encoding": "base64",
        "path": [
         "scene_SciU2qcRmyC7AFRHUqbMb7zBE",
         "drc"
        ]
       },
       {
        "data": "RFJBQ08CAgEBAAAAXLQBAbMBAAAtX9u2rWpLVVVVqVZLVVWValVLVVWpVlVLVZVqVVVLValWVVVLlWpVVVVLqQIKAQEQ/wL2XgL/AAEAAQABAAkDAAACAQICAwABAQQBAQAMF70JGQIZEkkfGQK0F5BpXg4ZDy4i6U1F6DUqASfbu9LJXuhPPV9wGXiWA7CIwSF5fAbguxAAqaACwEN3TOpyAHbGGYURAADxUQA2TwF8lQpgZzkAa54CwJIQQDbr3KMLAVD3JAAYggVAEg1AnBTAIzQAeeYCyDG3V3EAxZkknAOw2iPpgGwCQABALgGbVYArCQFsJAWAmm0AO80BYPW0F7OEo4ynygGd0/MVAIDwUYCaVQApBy4CACAdTA5mgJ7IM4AoB+ISAIADQABALgEpB6IciEvgB4DYBCIdkHRgmQlIEg2AFgBA8gzAZhWgZhUg8gxgFgAgEg2ghhWgOIDiWBQCECcFwAgAgPgoAJaEAK4kBBA+CnARAIBwUoADT8ksS0gmaBcyO+WQ6WWRDAKoZJgpJCPUCxmeccj4qkjmYxsAD80E+JVhgIIBghKAi7WWlZWVlT/nxIZww04Nt20YVQV+xqAKhASAA4D0gAAAAAD/BwAAAAAAwXF488AAAADBAACAQQsEAQEBBBGJPzw3PAVYTvO/gRUBAlZBbgECWUgeAQLvQQwBAsBAJAAAAOIAAAA=",
        "encoding": "base64",
        "path": [
         "scene_GvItGm008eDytiPkueU9JFax3",
         "drc"
        ]
       },
       {
        "data": "RFJBQ08CAgEBAAAAXLQBAbMBAAAtX9u2rWpLVVVVqVZLVVWValVLVVWpVlVLVZVqVVVLValWVVVLlWpVVVVLqQIKAQEQ/wL2XgL/AAEAAQABAAkDAAACAQICAwABAQQBAQAMF70JGQIZEkkfGQK0F5BpXg4ZDy4i6U1F6DUqASfbu9LJXuhPPV9wGXiWA7CIwSF5fAbguxAAqaACwEN3TOpyAHbGGYURAADxUQA2TwF8lQpgZzkAa54CwJIQQDbr3KMLAVD3JAAYggVAEg1AnBTAIzQAeeYCyDG3V3EAxZkknAOw2iPpgGwCQABALgGbVYArCQFsJAWAmm0AO80BYPW0F7OEo4ynygGd0/MVAIDwUYCaVQApBy4CACAdTA5mgJ7IM4AoB+ISAIADQABALgEpB6IciEvgB4DYBCIdkHRgmQlIEg2AFgBA8gzAZhWgZhUg8gxgFgAgEg2ghhWgOIDiWBQCECcFwAgAgPgoAJaEAK4kBBA+CnARAIBwUoADT8ksS0gmaBcyO+WQ6WWRDAKoZJgpJCPUCxmeccj4qkjmYxsAD80E+JVhgIIBghKAi7WWlZWVlT/nxIZww04Nt20YVQV+xqAKhASAA4D0gAAAAAD/BwAAAADAwFSatsAAAMDAAABAQQsEAQEBBBWJPzxHPAVk6/6vgRUBAlZBbgECWUgeAQLvQQwBAsBAoAAAAOoAAAA=",
        "encoding": "base64",
        "path": [
         "scene_DqtayQUGp05sO2gp0fZqaBbe5",
         "drc"
        ]
       },
       {
        "data": "RFJBQ08CAgEBAAAAXLQBAbMBAAAtX9u2rWpLVVVVqVZLVVWValVLVVWpVlVLVZVqVVVLValWVVVLlWpVVVVLqQIKAQEQ/wL2XgL/AAEAAQABAAkDAAACAQICAwABAQQBAQAMF70JGQIZEkkfGQK0F5BpXg4ZDy4i6U1F6DUqASfbu9LJXuhPPV9wGXiWA7CIwSF5fAbguxAAqaACwEN3TOpyAHbGGYURAADxUQA2TwF8lQpgZzkAa54CwJIQQDbr3KMLAVD3JAAYggVAEg1AnBTAIzQAeeYCyDG3V3EAxZkknAOw2iPpgGwCQABALgGbVYArCQFsJAWAmm0AO80BYPW0F7OEo4ynygGd0/MVAIDwUYCaVQApBy4CACAdTA5mgJ7IM4AoB+ISAIADQABALgEpB6IciEvgB4DYBCIdkHRgmQlIEg2AFgBA8gzAZhWgZhUg8gxgFgAgEg2ghhWgOIDiWBQCECcFwAgAgPgoAJaEAK4kBBA+CnARAIBwUoADT8ksS0gmaBcyO+WQ6WWRDAKoZJgpJCPUCxmeccj4qkjmYxsAD80E+JVhgIIBghKAi7WWlZWVlT/nxIZww04Nt20YVQV+xqAKhASAA4D0gAAAAAD/BwAAAACIwfxXgcEAAIjBAAAIQgsEAQEBBByJPzxjPAVYXeS/gRUBAlZBbgECWUgeAQLvQQwBAsBALQAAAGEAAAA=",
        "encoding": "base64",
        "path": [
         "scene_XFsT9Ts4OXJKEyOCBpoz1YTuO",
         "drc"
        ]
       },
       {
        "data": "RFJBQ08CAgEBAAAAXLQBAbMBAAAtX9u2rWpLVVVVqVZLVVWValVLVVWpVlVLVZVqVVVLValWVVVLlWpVVVVLqQIKAQEQ/wL2XgL/AAEAAQABAAkDAAACAQICAwABAQQBAQAMF70JGQIZEkkfGQK0F5BpXg4ZDy4i6U1F6DUqASfbu9LJXuhPPV9wGXiWA7CIwSF5fAbguxAAqaACwEN3TOpyAHbGGYURAADxUQA2TwF8lQpgZzkAa54CwJIQQDbr3KMLAVD3JAAYggVAEg1AnBTAIzQAeeYCyDG3V3EAxZkknAOw2iPpgGwCQABALgGbVYArCQFsJAWAmm0AO80BYPW0F7OEo4ynygGd0/MVAIDwUYCaVQApBy4CACAdTA5mgJ7IM4AoB+ISAIADQABALgEpB6IciEvgB4DYBCIdkHRgmQlIEg2AFgBA8gzAZhWgZhUg8gxgFgAgEg2ghhWgOIDiWBQCECcFwAgAgPgoAJaEAK4kBBA+CnARAIBwUoADT8ksS0gmaBcyO+WQ6WWRDAKoZJgpJCPUCxmeccj4qkjmYxsAD80E+JVhgIIBghKAi7WWlZWVlT/nxIZww04Nt20YVQV+xqAKhASAA4D0gAAAAAD/BwAAAAAQwb/zCMEAABDBAACQQQsEAQEBBIUBiT88//8HPAVk+u+vgRUBAlZBbgECWUgeAQLvQQwBAsBAMQAAAPgAAAA=",
        "encoding": "base64",
        "path": [
         "scene_b232Sd9ni1pzlMbhmBUJkqSw8",
         "drc"
        ]
       },
       {
        "data": "RFJBQ08CAgEBAAAAXLQBAbMBAAAtX9u2rWpLVVVVqVZLVVWValVLVVWpVlVLVZVqVVVLValWVVVLlWpVVVVLqQIKAQEQ/wL2XgL/AAEAAQABAAkDAAACAQICAwABAQQBAQAMF70JGQIZEkkfGQK0F5BpXg4ZDy4i6U1F6DUqASfbu9LJXuhPPV9wGXiWA7CIwSF5fAbguxAAqaACwEN3TOpyAHbGGYURAADxUQA2TwF8lQpgZzkAa54CwJIQQDbr3KMLAVD3JAAYggVAEg1AnBTAIzQAeeYCyDG3V3EAxZkknAOw2iPpgGwCQABALgGbVYArCQFsJAWAmm0AO80BYPW0F7OEo4ynygGd0/MVAIDwUYCaVQApBy4CACAdTA5mgJ7IM4AoB+ISAIADQABALgEpB6IciEvgB4DYBCIdkHRgmQlIEg2AFgBA8gzAZhWgZhUg8gxgFgAgEg2ghhWgOIDiWBQCECcFwAgAgPgoAJaEAK4kBBA+CnARAIBwUoADT8ksS0gmaBcyO+WQ6WWRDAKoZJgpJCPUCxmeccj4qkjmYxsAD80E+JVhgIIBghKAi7WWlZWVlT/nxIZww04Nt20YVQV+xqAKhASAA4D0gAAAAAD/BwAAAABAwFSaNsAAAEDAAADAQAsEAQEBBCiJPzyTPAVk6/6vgRUBAlZBbgECWUgeAQLvQQwBAsBAUgAAAMAAAAA=",
        "encoding": "base64",
        "path": [
         "scene_mRP8jERO73VpvSba4r6JJdJoI",
         "drc"
        ]
       },
       {
        "data": "RFJBQ08CAgEBAAAAXLQBAbMBAAAtX9u2rWpLVVVVqVZLVVWValVLVVWpVlVLVZVqVVVLValWVVVLlWpVVVVLqQIKAQEQ/wL2XgL/AAEAAQABAAkDAAACAQICAwABAQQBAQAMF70JGQIZEkkfGQK0F5BpXg4ZDy4i6U1F6DUqASfbu9LJXuhPPV9wGXiWA7CIwSF5fAbguxAAqaACwEN3TOpyAHbGGYURAADxUQA2TwF8lQpgZzkAa54CwJIQQDbr3KMLAVD3JAAYggVAEg1AnBTAIzQAeeYCyDG3V3EAxZkknAOw2iPpgGwCQABALgGbVYArCQFsJAWAmm0AO80BYPW0F7OEo4ynygGd0/MVAIDwUYCaVQApBy4CACAdTA5mgJ7IM4AoB+ISAIADQABALgEpB6IciEvgB4DYBCIdkHRgmQlIEg2AFgBA8gzAZhWgZhUg8gxgFgAgEg2ghhWgOIDiWBQCECcFwAgAgPgoAJaEAK4kBBA+CnARAIBwUoADT8ksS0gmaBcyO+WQ6WWRDAKoZJgpJCPUCxmeccj4qkjmYxsAD80E+JVhgIIBghKAi7WWlZWVlT/nxIZww04Nt20YVQV+xqAKhASAA4D0gAAAAAD/BwAAAACAwXF4c8EAAIDBAAAAQgsEAQEBBDaJPzzLPAVY6KCzgRUBAlZBbgECWUgeAQLvQQwBAsBALQAAAPsAAAA=",
        "encoding": "base64",
        "path": [
         "scene_nKQVITNmK5dq66VTdbBJer5bo",
         "drc"
        ]
       },
       {
        "data": "RFJBQ08CAgEBAAAAXLQBAbMBAAAtX9u2rWpLVVVVqVZLVVWValVLVVWpVlVLVZVqVVVLValWVVVLlWpVVVVLqQIKAQEQ/wL2XgL/AAEAAQABAAkDAAACAQICAwABAQQBAQAMF70JGQIZEkkfGQK0F5BpXg4ZDy4i6U1F6DUqASfbu9LJXuhPPV9wGXiWA7CIwSF5fAbguxAAqaACwEN3TOpyAHbGGYURAADxUQA2TwF8lQpgZzkAa54CwJIQQDbr3KMLAVD3JAAYggVAEg1AnBTAIzQAeeYCyDG3V3EAxZkknAOw2iPpgGwCQABALgGbVYArCQFsJAWAmm0AO80BYPW0F7OEo4ynygGd0/MVAIDwUYCaVQApBy4CACAdTA5mgJ7IM4AoB+ISAIADQABALgEpB6IciEvgB4DYBCIdkHRgmQlIEg2AFgBA8gzAZhWgZhUg8gxgFgAgEg2ghhWgOIDiWBQCECcFwAgAgPgoAJaEAK4kBBA+CnARAIBwUoADT8ksS0gmaBcyO+WQ6WWRDAKoZJgpJCPUCxmeccj4qkjmYxsAD80E+JVhgIIBghKAi7WWlZWVlT/nxIZww04Nt20YVQV+xqAKhASAA4D0gAAAAAD/BwAAAACAwHF4c8AAAIDAAAAAQQsEAQEBBBGJPzw3PAVYXeS/gRUBAlZBbgECWUgeAQLvQQwBAsBARAAAAFwAAAA=",
        "encoding": "base64",
        "path": [
         "scene_ifCif4XhuBEe7RzZOD6vzRkFM",
         "drc"
        ]
       },
       {
        "data": "RFJBQ08CAgEBAAAAXLQBAbMBAAAtX9u2rWpLVVVVqVZLVVWValVLVVWpVlVLVZVqVVVLValWVVVLlWpVVVVLqQIKAQEQ/wL2XgL/AAEAAQABAAkDAAACAQICAwABAQQBAQAMF70JGQIZEkkfGQK0F5BpXg4ZDy4i6U1F6DUqASfbu9LJXuhPPV9wGXiWA7CIwSF5fAbguxAAqaACwEN3TOpyAHbGGYURAADxUQA2TwF8lQpgZzkAa54CwJIQQDbr3KMLAVD3JAAYggVAEg1AnBTAIzQAeeYCyDG3V3EAxZkknAOw2iPpgGwCQABALgGbVYArCQFsJAWAmm0AO80BYPW0F7OEo4ynygGd0/MVAIDwUYCaVQApBy4CACAdTA5mgJ7IM4AoB+ISAIADQABALgEpB6IciEvgB4DYBCIdkHRgmQlIEg2AFgBA8gzAZhWgZhUg8gxgFgAgEg2ghhWgOIDiWBQCECcFwAgAgPgoAJaEAK4kBBA+CnARAIBwUoADT8ksS0gmaBcyO+WQ6WWRDAKoZJgpJCPUCxmeccj4qkjmYxsAD80E+JVhgIIBghKAi7WWlZWVlT/nxIZww04Nt20YVQV+xqAKhASAA4D0gAAAAAD/BwAAAACgwEYrmMAAAKDAAAAgQQsEAQEBBB2JPzxnPAVk+u+vgRUBAlZBbgECWUgeAQLvQQwBAsBAwwAAAPkAAAA=",
        "encoding": "base64",
        "path": [
         "scene_o6jPw37WpzZZG8RwcV6zUo4V2",
         "drc"
        ]
       },
       {
        "data": "RFJBQ08CAgEBAAAAXLQBAbMBAAAtX9u2rWpLVVVVqVZLVVWValVLVVWpVlVLVZVqVVVLValWVVVLlWpVVVVLqQIKAQEQ/wL2XgL/AAEAAQABAAkDAAACAQICAwABAQQBAQAMF70JGQIZEkkfGQK0F5BpXg4ZDy4i6U1F6DUqASfbu9LJXuhPPV9wGXiWA7CIwSF5fAbguxAAqaACwEN3TOpyAHbGGYURAADxUQA2TwF8lQpgZzkAa54CwJIQQDbr3KMLAVD3JAAYggVAEg1AnBTAIzQAeeYCyDG3V3EAxZkknAOw2iPpgGwCQABALgGbVYArCQFsJAWAmm0AO80BYPW0F7OEo4ynygGd0/MVAIDwUYCaVQApBy4CACAdTA5mgJ7IM4AoB+ISAIADQABALgEpB6IciEvgB4DYBCIdkHRgmQlIEg2AFgBA8gzAZhWgZhUg8gxgFgAgEg2ghhWgOIDiWBQCECcFwAgAgPgoAJaEAK4kBBA+CnARAIBwUoADT8ksS0gmaBcyO+WQ6WWRDAKoZJgpJCPUCxmeccj4qkjmYxsAD80E+JVhgIIBghKAi7WWlZWVlT/nxIZww04Nt20YVQV+xqAKhASAA4D0gAAAAAD/BwAAAABAwFSaNsAAAEDAAADAQAsEAQEBBBOJPzw/PAVk6/6vgRUBAlZBbgECWUgeAQLvQQwBAsBAfwAAAOsAAAA=",
        "encoding": "base64",
        "path": [
         "scene_hRvhbwGa1tbDkftsDm0rq5LAW",
         "drc"
        ]
       },
       {
        "data": "RFJBQ08CAgEBAAAAXLQBAbMBAAAtX9u2rWpLVVVVqVZLVVWValVLVVWpVlVLVZVqVVVLValWVVVLlWpVVVVLqQIKAQEQ/wL2XgL/AAEAAQABAAkDAAACAQICAwABAQQBAQAMF70JGQIZEkkfGQK0F5BpXg4ZDy4i6U1F6DUqASfbu9LJXuhPPV9wGXiWA7CIwSF5fAbguxAAqaACwEN3TOpyAHbGGYURAADxUQA2TwF8lQpgZzkAa54CwJIQQDbr3KMLAVD3JAAYggVAEg1AnBTAIzQAeeYCyDG3V3EAxZkknAOw2iPpgGwCQABALgGbVYArCQFsJAWAmm0AO80BYPW0F7OEo4ynygGd0/MVAIDwUYCaVQApBy4CACAdTA5mgJ7IM4AoB+ISAIADQABALgEpB6IciEvgB4DYBCIdkHRgmQlIEg2AFgBA8gzAZhWgZhUg8gxgFgAgEg2ghhWgOIDiWBQCECcFwAgAgPgoAJaEAK4kBBA+CnARAIBwUoADT8ksS0gmaBcyO+WQ6WWRDAKoZJgpJCPUCxmeccj4qkjmYxsAD80E+JVhgIIBghKAi7WWlZWVlT/nxIZww04Nt20YVQV+xqAKhASAA4D0gAAAAAD/BwAAAACYwYOPkMEAAJjBAAAYQgsEAQEBBCiJPzyTPAVk6/6vgRUBAlZBbgECWUgeAQLvQQwBAsBAHgAAAFoAAAA=",
        "encoding": "base64",
        "path": [
         "scene_9SGP0bOUIZdhjAQoAGHBDLUzx",
         "drc"
        ]
       },
       {
        "data": "RFJBQ08CAgEBAAAAXLQBAbMBAAAtX9u2rWpLVVVVqVZLVVWValVLVVWpVlVLVZVqVVVLValWVVVLlWpVVVVLqQIKAQEQ/wL2XgL/AAEAAQABAAkDAAACAQICAwABAQQBAQAMF70JGQIZEkkfGQK0F5BpXg4ZDy4i6U1F6DUqASfbu9LJXuhPPV9wGXiWA7CIwSF5fAbguxAAT1kB0EN3TOpyAHbGGYURAADxUQA2TwF8lQpgZzkAa54CwJIQQDbr3KMLAVD3JAAYggVAEg1AnBTAIzQAO82NsdIdQHEAxclMzgGw+iPpgGwCQABALgGbVYArCQFsJAWAmm0AO80BUPW0F7OEo4ynygGd8/MVAIDwUYCaVQApBy4CACAdTA5mgJ/IM4AoB+ISAIAFQABALgEpB6IciEvgB4DYBCIdkHRgmclHEg2AFgBA8gzAZhWgZhUg8gxgFgAgEg2ghhWgOIDiWBQCECcFwAgAgPgoAJaEAK4kBBA+CnARAIBwUoADT8ksS0gmaBcyO+WQ6WWRDAKoZJgpJCPUCxmeccj4qkimvx8AD94DmOJGggGEEtR8RV4iJCQkCNeA4WSDIwVCaxhVBX7GoAqEBIADAPaAAAAAAP8HAAAAAGDBYwlVwQAAYMEAAOBBCwQBAQEEGYk/PFc8BVhd5L+BFQECVkFuAQJZSB4BAu9BDAECwEBuAAAA6gAAAA==",
        "encoding": "base64",
        "path": [
         "scene_eDPRxGAKUflgwue4xqpv85xtG",
         "drc"
        ]
       },
       {
        "data": "RFJBQ08CAgEBAAAAXLQBAbMBAAAtX9u2rWpLVVVVqVZLVVWValVLVVWpVlVLVZVqVVVLValWVVVLlWpVVVVLqQIKAQEQ/wL2XgL/AAEAAQABAAkDAAACAQICAwABAQQBAQAMF70JGQIZEkkfGQK0F5BpXg4ZDy4i6U1F6DUqASfbu9LJXuhPPV9wGXiWA7CIwSF5fAbguxAAT1kB0EN3TOpyAHbGGYURAADxUQA2TwF8lQpgZzkAa54CwJIQQDbr3KMLAVD3JAAYggVAEg1AnBTAIzQAO82NsdIdQHEAxclMzgGw+iPpgGwCQABALgGbVYArCQFsJAWAmm0AO80BUPW0F7OEo4ynygGd8/MVAIDwUYCaVQApBy4CACAdTA5mgJ/IM4AoB+ISAIAFQABALgEpB6IciEvgB4DYBCIdkHRgmclHEg2AFgBA8gzAZhWgZhUg8gxgFgAgEg2ghhWgOIDiWBQCECcFwAgAgPgoAJaEAK4kBBA+CnARAIBwUoADT8ksS0gmaBcyO+WQ6WWRDAKoZJgpJCPUCxmeccj4qkimvx8AD94DmOJGggGEEtR8RV4iJCQkCNeA4WSDIwVCaxhVBX7GoAqEBIADAPaAAAAAAP8HAAAAAHDB6kBkwQAAcMEAAPBBCwQBAQEEbYk/PP+nPAVY95GzgRUBAlZBbgECWUgeAQLvQQwBAsBAPQAAAOAAAAA=",
        "encoding": "base64",
        "path": [
         "scene_4DqB5VyHf6wQnrKOqj2aFmGbC",
         "drc"
        ]
       },
       {
        "data": "RFJBQ08CAgEBAAAAXLQBAbMBAAAtX9u2rWpLVVVVqVZLVVWValVLVVWpVlVLVZVqVVVLValWVVVLlWpVVVVLqQIKAQEQ/wL2XgL/AAEAAQABAAkDAAACAQICAwABAQQBAQAMF70JGQIZEkkfGQK0F5BpXg4ZDy4i6U1F6DUqASfbu9LJXuhPPV9wGXiWA7CIwSF5fAbguxAAqaACwEN3TOpyAHbGGYURAADxUQA2TwF8lQpgZzkAa54CwJIQQDbr3KMLAVD3JAAYggVAEg1AnBTAIzQAeeYCyDG3V3EAxZkknAOw2iPpgGwCQABALgGbVYArCQFsJAWAmm0AO80BYPW0F7OEo4ynygGd0/MVAIDwUYCaVQApBy4CACAdTA5mgJ7IM4AoB+ISAIADQABALgEpB6IciEvgB4DYBCIdkHRgmQlIEg2AFgBA8gzAZhWgZhUg8gxgFgAgEg2ghhWgOIDiWBQCECcFwAgAgPgoAJaEAK4kBBA+CnARAIBwUoADT8ksS0gmaBcyO+WQ6WWRDAKoZJgpJCPUCxmeccj4qkjmYxsAD80E+JVhgIIBghKAi7WWlZWVlT/nxIZww04Nt20YVQV+xqAKhASAA4D0gAAAAAD/BwAAAAAQwb/zCMEAABDBAACQQQsEAQEBBBWJPzxHPAVk+u+vgRUBAlZBbgECWUgeAQLvQQwBAsBAdQAAAJIAAAA=",
        "encoding": "base64",
        "path": [
         "scene_pNDkltymAV2ZGFdnbObWfWicx",
         "drc"
        ]
       },
       {
        "data": "RFJBQ08CAgEBAAAAXLQBAbMBAAAtX9u2rWpLVVVVqVZLVVWValVLVVWpVlVLVZVqVVVLValWVVVLlWpVVVVLqQIKAQEQ/wL2XgL/AAEAAQABAAkDAAACAQICAwABAQQBAQAMF70JGQIZEkkfGQK0F5BpXg4ZDy4i6U1F6DUqASfbu9LJXuhPPV9wGXiWA7CIwSF5fAbguxAAqaACwEN3TOpyAHbGGYURAADxUQA2TwF8lQpgZzkAa54CwJIQQDbr3KMLAVD3JAAYggVAEg1AnBTAIzQAeeYCyDG3V3EAxZkknAOw2iPpgGwCQABALgGbVYArCQFsJAWAmm0AO80BYPW0F7OEo4ynygGd0/MVAIDwUYCaVQApBy4CACAdTA5mgJ7IM4AoB+ISAIADQABALgEpB6IciEvgB4DYBCIdkHRgmQlIEg2AFgBA8gzAZhWgZhUg8gxgFgAgEg2ghhWgOIDiWBQCECcFwAgAgPgoAJaEAK4kBBA+CnARAIBwUoADT8ksS0gmaBcyO+WQ6WWRDAKoZJgpJCPUCxmeccj4qkjmYxsAD80E+JVhgIIBghKAi7WWlZWVlT/nxIZww04Nt20YVQV+xqAKhASAA4D0gAAAAAD/BwAAAABAwFSaNsAAAEDAAADAQAsEAQEBBFiJPzz/UzwFZOv+r4EVAQJWQW4BAllIHgEC70EMAQLAQE4AAACwAAAA",
        "encoding": "base64",
        "path": [
         "scene_PiAuQ5w9UnwdDeNgSl6Okz09p",
         "drc"
        ]
       },
       {
        "data": "RFJBQ08CAgEBAAAAXLQBAbMBAAAtX9u2rWpLVVVVqVZLVVWValVLVVWpVlVLVZVqVVVLValWVVVLlWpVVVVLqQIKAQEQ/wL2XgL/AAEAAQABAAkDAAACAQICAwABAQQBAQAMF70JGQIZEkkfGQK0F5BpXg4ZDy4i6U1F6DUqASfbu9LJXuhPPV9wGXiWA7CIwSF5fAbguxAAqaACwEN3TOpyAHbGGYURAADxUQA2TwF8lQpgZzkAa54CwJIQQDbr3KMLAVD3JAAYggVAEg1AnBTAIzQAeeYCyDG3V3EAxZkknAOw2iPpgGwCQABALgGbVYArCQFsJAWAmm0AO80BYPW0F7OEo4ynygGd0/MVAIDwUYCaVQApBy4CACAdTA5mgJ7IM4AoB+ISAIADQABALgEpB6IciEvgB4DYBCIdkHRgmQlIEg2AFgBA8gzAZhWgZhUg8gxgFgAgEg2ghhWgOIDiWBQCECcFwAgAgPgoAJaEAK4kBBA+CnARAIBwUoADT8ksS0gmaBcyO+WQ6WWRDAKoZJgpJCPUCxmeccj4qkjmYxsAD80E+JVhgIIBghKAi7WWlZWVlT/nxIZww04Nt20YVQV+xqAKhASAA4D0gAAAAAD/BwAAAABAwFSaNsAAAEDAAADAQAsEAQEBBFSJPzz/QzwFZOv+r4EVAQJWQW4BAllIHgEC70EMAQLAQAUAAACoAAAA",
        "encoding": "base64",
        "path": [
         "scene_LvovHjq50Nuq17pp7jeD71MKi",
         "drc"
        ]
       },
       {
        "data": "RFJBQ08CAgEBAAAAXLQBAbMBAAAtX9u2rWpLVVVVqVZLVVWValVLVVWpVlVLVZVqVVVLValWVVVLlWpVVVVLqQIKAQEQ/wL2XgL/AAEAAQABAAkDAAACAQICAwABAQQBAQAMF70JGQIZEkkfGQK0F5BpXg4ZDy4i6U1F6DUqASfbu9LJXuhPPV9wGXiWA7CIwSF5fAbguxAAqaACwEN3TOpyAHbGGYURAADxUQA2TwF8lQpgZzkAa54CwJIQQDbr3KMLAVD3JAAYggVAEg1AnBTAIzQAeeYCyDG3V3EAxZkknAOw2iPpgGwCQABALgGbVYArCQFsJAWAmm0AO80BYPW0F7OEo4ynygGd0/MVAIDwUYCaVQApBy4CACAdTA5mgJ7IM4AoB+ISAIADQABALgEpB6IciEvgB4DYBCIdkHRgmQlIEg2AFgBA8gzAZhWgZhUg8gxgFgAgEg2ghhWgOIDiWBQCECcFwAgAgPgoAJaEAK4kBBA+CnARAIBwUoADT8ksS0gmaBcyO+WQ6WWRDAKoZJgpJCPUCxmeccj4qkjmYxsAD80E+JVhgIIBghKAi7WWlZWVlT/nxIZww04Nt20YVQV+xqAKhASAA4D0gAAAAAD/BwAAAABAwFSaNsAAAEDAAADAQAsEAQEBBCiJPzyTPAVYXeS/gRUBAlZBbgECWUgeAQLvQQwBAsBAgQAAALcAAAA=",
        "encoding": "base64",
        "path": [
         "scene_A9ruk8DdVTcbKKbQIXBKHCBsA",
         "drc"
        ]
       },
       {
        "data": "RFJBQ08CAgEBAAAAXLQBAbMBAAAtX9u2rWpLVVVVqVZLVVWValVLVVWpVlVLVZVqVVVLValWVVVLlWpVVVVLqQIKAQEQ/wL2XgL/AAEAAQABAAkDAAACAQICAwABAQQBAQAMF70JGQIZEkkfGQK0F5BpXg4ZDy4i6U1F6DUqASfbu9LJXuhPPV9wGXiWA7CIwSF5fAbguxAAqaACwEN3TOpyAHbGGYURAADxUQA2TwF8lQpgZzkAa54CwJIQQDbr3KMLAVD3JAAYggVAEg1AnBTAIzQAeeYCyDG3V3EAxZkknAOw2iPpgGwCQABALgGbVYArCQFsJAWAmm0AO80BYPW0F7OEo4ynygGd0/MVAIDwUYCaVQApBy4CACAdTA5mgJ7IM4AoB+ISAIADQABALgEpB6IciEvgB4DYBCIdkHRgmQlIEg2AFgBA8gzAZhWgZhUg8gxgFgAgEg2ghhWgOIDiWBQCECcFwAgAgPgoAJaEAK4kBBA+CnARAIBwUoADT8ksS0gmaBcyO+WQ6WWRDAKoZJgpJCPUCxmeccj4qkjmYxsAD80E+JVhgIIBghKAi7WWlZWVlT/nxIZww04Nt20YVQV+xqAKhASAA4D0gAAAAAD/BwAAAABAwVSaNsEAAEDBAADAQQsEAQEBBH6JPzz/6zwFWOigs4EVAQJWQW4BAllIHgEC70EMAQLAQDQAAADZAAAA",
        "encoding": "base64",
        "path": [
         "scene_EYvkYoFDMBoBSB6CasAUclvqu",
         "drc"
        ]
       },
       {
        "data": "RFJBQ08CAgEBAAAAXLQBAbMBAAAtX9u2rWpLVVVVqVZLVVWValVLVVWpVlVLVZVqVVVLValWVVVLlWpVVVVLqQIKAQEQ/wL2XgL/AAEAAQABAAkDAAACAQICAwABAQQBAQAMF70JGQIZEkkfGQK0F5BpXg4ZDy4i6U1F6DUqASfbu9LJXuhPPV9wGXiWA7CIwSF5fAbguxAAqaACwEN3TOpyAHbGGYURAADxUQA2TwF8lQpgZzkAa54CwJIQQDbr3KMLAVD3JAAYggVAEg1AnBTAIzQAeeYCyDG3V3EAxZkknAOw2iPpgGwCQABALgGbVYArCQFsJAWAmm0AO80BYPW0F7OEo4ynygGd0/MVAIDwUYCaVQApBy4CACAdTA5mgJ7IM4AoB+ISAIADQABALgEpB6IciEvgB4DYBCIdkHRgmQlIEg2AFgBA8gzAZhWgZhUg8gxgFgAgEg2ghhWgOIDiWBQCECcFwAgAgPgoAJaEAK4kBBA+CnARAIBwUoADT8ksS0gmaBcyO+WQ6WWRDAKoZJgpJCPUCxmeccj4qkjmYxsAD80E+JVhgIIBghKAi7WWlZWVlT/nxIZww04Nt20YVQV+xqAKhASAA4D0gAAAAAD/BwAAAACQwb/ziMEAAJDBAAAQQgsEAQEBBMoBiT88////GzwFZPrvr4EVAQJWQW4BAllIHgEC70EMAQLAQAYAAADaAAAA",
        "encoding": "base64",
        "path": [
         "scene_n0M9Fw9sLbtS2cTyYJLO0JdGl",
         "drc"
        ]
       },
       {
        "data": "RFJBQ08CAgEBAAAAXLQBAbMBAAAtX9u2rWpLVVVVqVZLVVWValVLVVWpVlVLVZVqVVVLValWVVVLlWpVVVVLqQIKAQEQ/wL2XgL/AAEAAQABAAkDAAACAQICAwABAQQBAQAMF70JGQIZEkkfGQK0F5BpXg4ZDy4i6U1F6DUqASfbu9LJXuhPPV9wGXiWA7CIwSF5fAbguxAAqaACwEN3TOpyAHbGGYURAADxUQA2TwF8lQpgZzkAa54CwJIQQDbr3KMLAVD3JAAYggVAEg1AnBTAIzQAeeYCyDG3V3EAxZkknAOw2iPpgGwCQABALgGbVYArCQFsJAWAmm0AO80BYPW0F7OEo4ynygGd0/MVAIDwUYCaVQApBy4CACAdTA5mgJ7IM4AoB+ISAIADQABALgEpB6IciEvgB4DYBCIdkHRgmQlIEg2AFgBA8gzAZhWgZhUg8gxgFgAgEg2ghhWgOIDiWBQCECcFwAgAgPgoAJaEAK4kBBA+CnARAIBwUoADT8ksS0gmaBcyO+WQ6WWRDAKoZJgpJCPUCxmeccj4qkjmYxsAD80E+JVhgIIBghKAi7WWlZWVlT/nxIZww04Nt20YVQV+xqAKhASAA4D0gAAAAAD/BwAAAACgwEYrmMAAAKDAAAAgQQsEAQEBBGuJPzz/nzwFWF3kv4EVAQJWQW4BAllIHgEC70EMAQLAQBwAAADWAAAA",
        "encoding": "base64",
        "path": [
         "scene_e2Xl42AY6lmLFFs1FSGUBg0qB",
         "drc"
        ]
       },
       {
        "data": "RFJBQ08CAgEBAAAAXLQBAbMBAAAtX9u2rWpLVVVVqVZLVVWValVLVVWpVlVLVZVqVVVLValWVVVLlWpVVVVLqQIKAQEQ/wL2XgL/AAEAAQABAAkDAAACAQICAwABAQQBAQAMF70JGQIZEkkfGQK0F5BpXg4ZDy4i6U1F6DUqASfbu9LJXuhPPV9wGXiWA7CIwSF5fAbguxAAqaACwEN3TOpyAHbGGYURAADxUQA2TwF8lQpgZzkAa54CwJIQQDbr3KMLAVD3JAAYggVAEg1AnBTAIzQAeeYCyDG3V3EAxZkknAOw2iPpgGwCQABALgGbVYArCQFsJAWAmm0AO80BYPW0F7OEo4ynygGd0/MVAIDwUYCaVQApBy4CACAdTA5mgJ7IM4AoB+ISAIADQABALgEpB6IciEvgB4DYBCIdkHRgmQlIEg2AFgBA8gzAZhWgZhUg8gxgFgAgEg2ghhWgOIDiWBQCECcFwAgAgPgoAJaEAK4kBBA+CnARAIBwUoADT8ksS0gmaBcyO+WQ6WWRDAKoZJgpJCPUCxmeccj4qkjmYxsAD80E+JVhgIIBghKAi7WWlZWVlT/nxIZww04Nt20YVQV+xqAKhASAA4D0gAAAAAD/BwAAAABAwVSaNsEAAEDBAADAQQsEAQEBBDWJPzzHPAVYXeS/gRUBAlZBbgECWUgeAQLvQQwBAsBAQAAAAMMAAAA=",
        "encoding": "base64",
        "path": [
         "scene_Uuc85052lmwWR2G7Bl8uvjIWV",
         "drc"
        ]
       },
       {
        "data": "RFJBQ08CAgEBAAAAXLQBAbMBAAAtX9u2rWpLVVVVqVZLVVWValVLVVWpVlVLVZVqVVVLValWVVVLlWpVVVVLqQIKAQEQ/wL2XgL/AAEAAQABAAkDAAACAQICAwABAQQBAQAMF70JGQIZEkkfGQK0F5BpXg4ZDy4i6U1F6DUqASfbu9LJXuhPPV9wGXiWA7CIwSF5fAbguxAAqaACwEN3TOpyAHbGGYURAADxUQA2TwF8lQpgZzkAa54CwJIQQDbr3KMLAVD3JAAYggVAEg1AnBTAIzQAeeYCyDG3V3EAxZkknAOw2iPpgGwCQABALgGbVYArCQFsJAWAmm0AO80BYPW0F7OEo4ynygGd0/MVAIDwUYCaVQApBy4CACAdTA5mgJ7IM4AoB+ISAIADQABALgEpB6IciEvgB4DYBCIdkHRgmQlIEg2AFgBA8gzAZhWgZhUg8gxgFgAgEg2ghhWgOIDiWBQCECcFwAgAgPgoAJaEAK4kBBA+CnARAIBwUoADT8ksS0gmaBcyO+WQ6WWRDAKoZJgpJCPUCxmeccj4qkjmYxsAD80E+JVhgIIBghKAi7WWlZWVlT/nxIZww04Nt20YVQV+xqAKhASAA4D0gAAAAAD/BwAAAAAgwUYrGMEAACDBAACgQQsEAQEBBGCJPzz/czwFWPeRs4EVAQJWQW4BAllIHgEC70EMAQLAQCoAAADyAAAA",
        "encoding": "base64",
        "path": [
         "scene_f7c80bz4XZXmKAadYXMVgaJwL",
         "drc"
        ]
       },
       {
        "data": "RFJBQ08CAgEBAAAAXLQBAbMBAAAtX9u2rWpLVVVVqVZLVVWValVLVVWpVlVLVZVqVVVLValWVVVLlWpVVVVLqQIKAQEQ/wL2XgL/AAEAAQABAAkDAAACAQICAwABAQQBAQAMF70JGQIZEkkfGQK0F5BpXg4ZDy4i6U1F6DUqASfbu9LJXuhPPV9wGXiWA7CIwSF5fAbguxAAqaACwEN3TOpyAHbGGYURAADxUQA2TwF8lQpgZzkAa54CwJIQQDbr3KMLAVD3JAAYggVAEg1AnBTAIzQAeeYCyDG3V3EAxZkknAOw2iPpgGwCQABALgGbVYArCQFsJAWAmm0AO80BYPW0F7OEo4ynygGd0/MVAIDwUYCaVQApBy4CACAdTA5mgJ7IM4AoB+ISAIADQABALgEpB6IciEvgB4DYBCIdkHRgmQlIEg2AFgBA8gzAZhWgZhUg8gxgFgAgEg2ghhWgOIDiWBQCECcFwAgAgPgoAJaEAK4kBBA+CnARAIBwUoADT8ksS0gmaBcyO+WQ6WWRDAKoZJgpJCPUCxmeccj4qkjmYxsAD80E+JVhgIIBghKAi7WWlZWVlT/nxIZww04Nt20YVQV+xqAKhASAA4D0gAAAAAD/BwAAAAAgwUYrGMEAACDBAACgQQsEAQEBBB6JPzxrPAVk6/6vgRUBAlZBbgECWUgeAQLvQQwBAsBAZwAAAK8AAAA=",
        "encoding": "base64",
        "path": [
         "scene_592LncBMD4iycTfaz3yIRHlJk",
         "drc"
        ]
       },
       {
        "data": "RFJBQ08CAgEBAAAAXLQBAbMBAAAtX9u2rWpLVVVVqVZLVVWValVLVVWpVlVLVZVqVVVLValWVVVLlWpVVVVLqQIKAQEQ/wL2XgL/AAEAAQABAAkDAAACAQICAwABAQQBAQAMF70JGQIZEkkfGQK0F5BpXg4ZDy4i6U1F6DUqASfbu9LJXuhPPV9wGXiWA7CIwSF5fAbguxAAqaACwEN3TOpyAHbGGYURAADxUQA2TwF8lQpgZzkAa54CwJIQQDbr3KMLAVD3JAAYggVAEg1AnBTAIzQAeeYCyDG3V3EAxZkknAOw2iPpgGwCQABALgGbVYArCQFsJAWAmm0AO80BYPW0F7OEo4ynygGd0/MVAIDwUYCaVQApBy4CACAdTA5mgJ7IM4AoB+ISAIADQABALgEpB6IciEvgB4DYBCIdkHRgmQlIEg2AFgBA8gzAZhWgZhUg8gxgFgAgEg2ghhWgOIDiWBQCECcFwAgAgPgoAJaEAK4kBBA+CnARAIBwUoADT8ksS0gmaBcyO+WQ6WWRDAKoZJgpJCPUCxmeccj4qkjmYxsAD80E+JVhgIIBghKAi7WWlZWVlT/nxIZww04Nt20YVQV+xqAKhASAA4D0gAAAAAD/BwAAAACAwHF4c8AAAIDAAAAAQQsEAQEBBBqJPzxbPAVk+u+vgRUBAlZBbgECWUgeAQLvQQwBAsBARAAAAIcAAAA=",
        "encoding": "base64",
        "path": [
         "scene_DnwEmFhfO2Xjy6PiYlPlQiRsO",
         "drc"
        ]
       },
       {
        "data": "RFJBQ08CAgEBAAAAXLQBAbMBAAAtX9u2rWpLVVVVqVZLVVWValVLVVWpVlVLVZVqVVVLValWVVVLlWpVVVVLqQIKAQEQ/wL2XgL/AAEAAQABAAkDAAACAQICAwABAQQBAQAMF70JGQIZEkkfGQK0F5BpXg4ZDy4i6U1F6DUqASfbu9LJXuhPPV9wGXiWA7CIwSF5fAbguxAAqaACwEN3TOpyAHbGGYURAADxUQA2TwF8lQpgZzkAa54CwJIQQDbr3KMLAVD3JAAYggVAEg1AnBTAIzQAeeYCyDG3V3EAxZkknAOw2iPpgGwCQABALgGbVYArCQFsJAWAmm0AO80BYPW0F7OEo4ynygGd0/MVAIDwUYCaVQApBy4CACAdTA5mgJ7IM4AoB+ISAIADQABALgEpB6IciEvgB4DYBCIdkHRgmQlIEg2AFgBA8gzAZhWgZhUg8gxgFgAgEg2ghhWgOIDiWBQCECcFwAgAgPgoAJaEAK4kBBA+CnARAIBwUoADT8ksS0gmaBcyO+WQ6WWRDAKoZJgpJCPUCxmeccj4qkjmYxsAD80E+JVhgIIBghKAi7WWlZWVlT/nxIZww04Nt20YVQV+xqAKhASAA4D0gAAAAAD/BwAAAADAwFSatsAAAMDAAABAQQsEAQEBBEuJPzz/HzwFZPrvr4EVAQJWQW4BAllIHgEC70EMAQLAQFEAAADjAAAA",
        "encoding": "base64",
        "path": [
         "scene_WwNZgCLwjeWFfuQoroLTMyWZU",
         "drc"
        ]
       },
       {
        "data": "RFJBQ08CAgEBAAAAXLQBAbMBAAAtX9u2rWpLVVVVqVZLVVWValVLVVWpVlVLVZVqVVVLValWVVVLlWpVVVVLqQIKAQEQ/wL2XgL/AAEAAQABAAkDAAACAQICAwABAQQBAQAMF70JGQIZEkkfGQK0F5BpXg4ZDy4i6U1F6DUqASfbu9LJXuhPPV9wGXiWA7CIwSF5fAbguxAAT1kB0EN3TOpyAHbGGYURAADxUQA2TwF8lQpgZzkAa54CwJIQQDbr3KMLAVD3JAAYggVAEg1AnBTAIzQAO82NsdIdQHEAxclMzgGw+iPpgGwCQABALgGbVYArCQFsJAWAmm0AO80BUPW0F7OEo4ynygGd8/MVAIDwUYCaVQApBy4CACAdTA5mgJ/IM4AoB+ISAIAFQABALgEpB6IciEvgB4DYBCIdkHRgmclHEg2AFgBA8gzAZhWgZhUg8gxgFgAgEg2ghhWgOIDiWBQCECcFwAgAgPgoAJaEAK4kBBA+CnARAIBwUoADT8ksS0gmaBcyO+WQ6WWRDAKoZJgpJCPUCxmeccj4qkimvx8AD94DmOJGggGEEtR8RV4iJCQkCNeA4WSDIwVCaxhVBX7GoAqEBIADAPaAAAAAAP8HAAAAAODAYwnVwAAA4MAAAGBBCwQBAQEEfYk/PP/nPAVYTvO/gRUBAlZBbgECWUgeAQLvQQwBAsBALAAAAK4AAAA=",
        "encoding": "base64",
        "path": [
         "scene_9rzZBKPEmpp4Ri9fvbpJ5CJO5",
         "drc"
        ]
       },
       {
        "data": "RFJBQ08CAgEBAAAAXLQBAbMBAAAtX9u2rWpLVVVVqVZLVVWValVLVVWpVlVLVZVqVVVLValWVVVLlWpVVVVLqQIKAQEQ/wL2XgL/AAEAAQABAAkDAAACAQICAwABAQQBAQAMF70JGQIZEkkfGQK0F5BpXg4ZDy4i6U1F6DUqASfbu9LJXuhPPV9wGXiWA7CIwSF5fAbguxAAqaACwEN3TOpyAHbGGYURAADxUQA2TwF8lQpgZzkAa54CwJIQQDbr3KMLAVD3JAAYggVAEg1AnBTAIzQAeeYCyDG3V3EAxZkknAOw2iPpgGwCQABALgGbVYArCQFsJAWAmm0AO80BYPW0F7OEo4ynygGd0/MVAIDwUYCaVQApBy4CACAdTA5mgJ7IM4AoB+ISAIADQABALgEpB6IciEvgB4DYBCIdkHRgmQlIEg2AFgBA8gzAZhWgZhUg8gxgFgAgEg2ghhWgOIDiWBQCECcFwAgAgPgoAJaEAK4kBBA+CnARAIBwUoADT8ksS0gmaBcyO+WQ6WWRDAKoZJgpJCPUCxmeccj4qkjmYxsAD80E+JVhgIIBghKAi7WWlZWVlT/nxIZww04Nt20YVQV+xqAKhASAA4D0gAAAAAD/BwAAAACQwb/ziMEAAJDBAAAQQgsEAQEBBB2JPzxnPAVk+u+vgRUBAlZBbgECWUgeAQLvQQwBAsBAswAAANkAAAA=",
        "encoding": "base64",
        "path": [
         "scene_QcLRRggEAV2RQCpiscdazjtrp",
         "drc"
        ]
       },
       {
        "data": "RFJBQ08CAgEBAAAAXLQBAbMBAAAtX9u2rWpLVVVVqVZLVVWValVLVVWpVlVLVZVqVVVLValWVVVLlWpVVVVLqQIKAQEQ/wL2XgL/AAEAAQABAAkDAAACAQICAwABAQQBAQAMF70JGQIZEkkfGQK0F5BpXg4ZDy4i6U1F6DUqASfbu9LJXuhPPV9wGXiWA7CIwSF5fAbguxAAqaACwEN3TOpyAHbGGYURAADxUQA2TwF8lQpgZzkAa54CwJIQQDbr3KMLAVD3JAAYggVAEg1AnBTAIzQAeeYCyDG3V3EAxZkknAOw2iPpgGwCQABALgGbVYArCQFsJAWAmm0AO80BYPW0F7OEo4ynygGd0/MVAIDwUYCaVQApBy4CACAdTA5mgJ7IM4AoB+ISAIADQABALgEpB6IciEvgB4DYBCIdkHRgmQlIEg2AFgBA8gzAZhWgZhUg8gxgFgAgEg2ghhWgOIDiWBQCECcFwAgAgPgoAJaEAK4kBBA+CnARAIBwUoADT8ksS0gmaBcyO+WQ6WWRDAKoZJgpJCPUCxmeccj4qkjmYxsAD80E+JVhgIIBghKAi7WWlZWVlT/nxIZww04Nt20YVQV+xqAKhASAA4D0gAAAAAD/BwAAAACAwXF4c8EAAIDBAAAAQgsEAQEBBF6JPzz/azwFZOv+r4EVAQJWQW4BAllIHgEC70EMAQLAQCAAAACOAAAA",
        "encoding": "base64",
        "path": [
         "scene_RZV3yokHIkqtEwqNxy4ql0kTr",
         "drc"
        ]
       },
       {
        "data": "RFJBQ08CAgEBAAAAXLQBAbMBAAAtX9u2rWpLVVVVqVZLVVWValVLVVWpVlVLVZVqVVVLValWVVVLlWpVVVVLqQIKAQEQ/wL2XgL/AAEAAQABAAkDAAACAQICAwABAQQBAQAMF70JGQIZEkkfGQK0F5BpXg4ZDy4i6U1F6DUqASfbu9LJXuhPPV9wGXiWA7CIwSF5fAbguxAAqaACwEN3TOpyAHbGGYURAADxUQA2TwF8lQpgZzkAa54CwJIQQDbr3KMLAVD3JAAYggVAEg1AnBTAIzQAeeYCyDG3V3EAxZkknAOw2iPpgGwCQABALgGbVYArCQFsJAWAmm0AO80BYPW0F7OEo4ynygGd0/MVAIDwUYCaVQApBy4CACAdTA5mgJ7IM4AoB+ISAIADQABALgEpB6IciEvgB4DYBCIdkHRgmQlIEg2AFgBA8gzAZhWgZhUg8gxgFgAgEg2ghhWgOIDiWBQCECcFwAgAgPgoAJaEAK4kBBA+CnARAIBwUoADT8ksS0gmaBcyO+WQ6WWRDAKoZJgpJCPUCxmeccj4qkjmYxsAD80E+JVhgIIBghKAi7WWlZWVlT/nxIZww04Nt20YVQV+xqAKhASAA4D0gAAAAAD/BwAAAADAwFSatsAAAMDAAABAQQsEAQEBBBaJPzxLPAVYXeS/gRUBAlZBbgECWUgeAQLvQQwBAsBARQAAAIkAAAA=",
        "encoding": "base64",
        "path": [
         "scene_fTkgmZm11y88sw9KEaJMyTMXQ",
         "drc"
        ]
       },
       {
        "data": "RFJBQ08CAgEBAAAAXLQBAbMBAAAtX9u2rWpLVVVVqVZLVVWValVLVVWpVlVLVZVqVVVLValWVVVLlWpVVVVLqQIKAQEQ/wL2XgL/AAEAAQABAAkDAAACAQICAwABAQQBAQAMF70JGQIZEkkfGQK0F5BpXg4ZDy4i6U1F6DUqASfbu9LJXuhPPV9wGXiWA7CIwSF5fAbguxAAqaACwEN3TOpyAHbGGYURAADxUQA2TwF8lQpgZzkAa54CwJIQQDbr3KMLAVD3JAAYggVAEg1AnBTAIzQAeeYCyDG3V3EAxZkknAOw2iPpgGwCQABALgGbVYArCQFsJAWAmm0AO80BYPW0F7OEo4ynygGd0/MVAIDwUYCaVQApBy4CACAdTA5mgJ7IM4AoB+ISAIADQABALgEpB6IciEvgB4DYBCIdkHRgmQlIEg2AFgBA8gzAZhWgZhUg8gxgFgAgEg2ghhWgOIDiWBQCECcFwAgAgPgoAJaEAK4kBBA+CnARAIBwUoADT8ksS0gmaBcyO+WQ6WWRDAKoZJgpJCPUCxmeccj4qkjmYxsAD80E+JVhgIIBghKAi7WWlZWVlT/nxIZww04Nt20YVQV+xqAKhASAA4D0gAAAAAD/BwAAAACAwHF4c8AAAIDAAAAAQQsEAQEBBCKJPzx7PAVYTvO/gRUBAlZBbgECWUgeAQLvQQwBAsBAegAAANYAAAA=",
        "encoding": "base64",
        "path": [
         "scene_eRAj1PVisr0ldR3YYQNhWb14T",
         "drc"
        ]
       },
       {
        "data": "RFJBQ08CAgEBAAAAXLQBAbMBAAAtX9u2rWpLVVVVqVZLVVWValVLVVWpVlVLVZVqVVVLValWVVVLlWpVVVVLqQIKAQEQ/wL2XgL/AAEAAQABAAkDAAACAQICAwABAQQBAQAMF70JGQIZEkkfGQK0F5BpXg4ZDy4i6U1F6DUqASfbu9LJXuhPPV9wGXiWA7CIwSF5fAbguxAAT1kB0EN3TOpyAHbGGYURAADxUQA2TwF8lQpgZzkAa54CwJIQQDbr3KMLAVD3JAAYggVAEg1AnBTAIzQAO82NsdIdQHEAxclMzgGw+iPpgGwCQABALgGbVYArCQFsJAWAmm0AO80BUPW0F7OEo4ynygGd8/MVAIDwUYCaVQApBy4CACAdTA5mgJ/IM4AoB+ISAIAFQABALgEpB6IciEvgB4DYBCIdkHRgmclHEg2AFgBA8gzAZhWgZhUg8gxgFgAgEg2ghhWgOIDiWBQCECcFwAgAgPgoAJaEAK4kBBA+CnARAIBwUoADT8ksS0gmaBcyO+WQ6WWRDAKoZJgpJCPUCxmeccj4qkimvx8AD94DmOJGggGEEtR8RV4iJCQkCNeA4WSDIwVCaxhVBX7GoAqEBIADAPaAAAAAAP8HAAAAAHDB6kBkwQAAcMEAAPBBCwQBAQEEqQGJPzz//5c8BVj3kbOBFQECVkFuAQJZSB4BAu9BDAECwEAmAAAA9AAAAA==",
        "encoding": "base64",
        "path": [
         "scene_KRKxZPxt5vAShhMWO74fwP9DT",
         "drc"
        ]
       },
       {
        "data": "RFJBQ08CAgEBAAAAXLQBAbMBAAAtX9u2rWpLVVVVqVZLVVWValVLVVWpVlVLVZVqVVVLValWVVVLlWpVVVVLqQIKAQEQ/wL2XgL/AAEAAQABAAkDAAACAQICAwABAQQBAQAMF70JGQIZEkkfGQK0F5BpXg4ZDy4i6U1F6DUqASfbu9LJXuhPPV9wGXiWA7CIwSF5fAbguxAAqaACwEN3TOpyAHbGGYURAADxUQA2TwF8lQpgZzkAa54CwJIQQDbr3KMLAVD3JAAYggVAEg1AnBTAIzQAeeYCyDG3V3EAxZkknAOw2iPpgGwCQABALgGbVYArCQFsJAWAmm0AO80BYPW0F7OEo4ynygGd0/MVAIDwUYCaVQApBy4CACAdTA5mgJ7IM4AoB+ISAIADQABALgEpB6IciEvgB4DYBCIdkHRgmQlIEg2AFgBA8gzAZhWgZhUg8gxgFgAgEg2ghhWgOIDiWBQCECcFwAgAgPgoAJaEAK4kBBA+CnARAIBwUoADT8ksS0gmaBcyO+WQ6WWRDAKoZJgpJCPUCxmeccj4qkjmYxsAD80E+JVhgIIBghKAi7WWlZWVlT/nxIZww04Nt20YVQV+xqAKhASAA4D0gAAAAAD/BwAAAAAAwHF4878AAADAAACAQAsEAQEBBBCJPzwzPAVYXeS/gRUBAlZBbgECWUgeAQLvQQwBAsBAggAAAJ8AAAA=",
        "encoding": "base64",
        "path": [
         "scene_MNYQIIt5JmUWHhR4MwldJZuhD",
         "drc"
        ]
       },
       {
        "data": "RFJBQ08CAgEBAAAAXLQBAbMBAAAtX9u2rWpLVVVVqVZLVVWValVLVVWpVlVLVZVqVVVLValWVVVLlWpVVVVLqQIKAQEQ/wL2XgL/AAEAAQABAAkDAAACAQICAwABAQQBAQAMF70JGQIZEkkfGQK0F5BpXg4ZDy4i6U1F6DUqASfbu9LJXuhPPV9wGXiWA7CIwSF5fAbguxAAqaACwEN3TOpyAHbGGYURAADxUQA2TwF8lQpgZzkAa54CwJIQQDbr3KMLAVD3JAAYggVAEg1AnBTAIzQAeeYCyDG3V3EAxZkknAOw2iPpgGwCQABALgGbVYArCQFsJAWAmm0AO80BYPW0F7OEo4ynygGd0/MVAIDwUYCaVQApBy4CACAdTA5mgJ7IM4AoB+ISAIADQABALgEpB6IciEvgB4DYBCIdkHRgmQlIEg2AFgBA8gzAZhWgZhUg8gxgFgAgEg2ghhWgOIDiWBQCECcFwAgAgPgoAJaEAK4kBBA+CnARAIBwUoADT8ksS0gmaBcyO+WQ6WWRDAKoZJgpJCPUCxmeccj4qkjmYxsAD80E+JVhgIIBghKAi7WWlZWVlT/nxIZww04Nt20YVQV+xqAKhASAA4D0gAAAAAD/BwAAAACIwfxXgcEAAIjBAAAIQgsEAQEBBDGJPzy3PAVYXeS/gRUBAlZBbgECWUgeAQLvQQwBAsBALAAAAHoAAAA=",
        "encoding": "base64",
        "path": [
         "scene_8FyWg6bxZuKNeZ0D03XUuOWBT",
         "drc"
        ]
       },
       {
        "data": "RFJBQ08CAgEBAAAAXLQBAbMBAAAtX9u2rWpLVVVVqVZLVVWValVLVVWpVlVLVZVqVVVLValWVVVLlWpVVVVLqQIKAQEQ/wL2XgL/AAEAAQABAAkDAAACAQICAwABAQQBAQAMF70JGQIZEkkfGQK0F5BpXg4ZDy4i6U1F6DUqASfbu9LJXuhPPV9wGXiWA7CIwSF5fAbguxAAqaACwEN3TOpyAHbGGYURAADxUQA2TwF8lQpgZzkAa54CwJIQQDbr3KMLAVD3JAAYggVAEg1AnBTAIzQAeeYCyDG3V3EAxZkknAOw2iPpgGwCQABALgGbVYArCQFsJAWAmm0AO80BYPW0F7OEo4ynygGd0/MVAIDwUYCaVQApBy4CACAdTA5mgJ7IM4AoB+ISAIADQABALgEpB6IciEvgB4DYBCIdkHRgmQlIEg2AFgBA8gzAZhWgZhUg8gxgFgAgEg2ghhWgOIDiWBQCECcFwAgAgPgoAJaEAK4kBBA+CnARAIBwUoADT8ksS0gmaBcyO+WQ6WWRDAKoZJgpJCPUCxmeccj4qkjmYxsAD80E+JVhgIIBghKAi7WWlZWVlT/nxIZww04Nt20YVQV+xqAKhASAA4D0gAAAAAD/BwAAAAAQwb/zCMEAABDBAACQQQsEAQEBBA2JPzwnPAVY95GzgRUBAlZBbgECWUgeAQLvQQwBAsBAbwAAALEAAAA=",
        "encoding": "base64",
        "path": [
         "scene_pqH2uS6uvJWE98skjZInLFdOa",
         "drc"
        ]
       },
       {
        "data": "RFJBQ08CAgEBAAAAXLQBAbMBAAAtX9u2rWpLVVVVqVZLVVWValVLVVWpVlVLVZVqVVVLValWVVVLlWpVVVVLqQIKAQEQ/wL2XgL/AAEAAQABAAkDAAACAQICAwABAQQBAQAMF70JGQIZEkkfGQK0F5BpXg4ZDy4i6U1F6DUqASfbu9LJXuhPPV9wGXiWA7CIwSF5fAbguxAAqaACwEN3TOpyAHbGGYURAADxUQA2TwF8lQpgZzkAa54CwJIQQDbr3KMLAVD3JAAYggVAEg1AnBTAIzQAeeYCyDG3V3EAxZkknAOw2iPpgGwCQABALgGbVYArCQFsJAWAmm0AO80BYPW0F7OEo4ynygGd0/MVAIDwUYCaVQApBy4CACAdTA5mgJ7IM4AoB+ISAIADQABALgEpB6IciEvgB4DYBCIdkHRgmQlIEg2AFgBA8gzAZhWgZhUg8gxgFgAgEg2ghhWgOIDiWBQCECcFwAgAgPgoAJaEAK4kBBA+CnARAIBwUoADT8ksS0gmaBcyO+WQ6WWRDAKoZJgpJCPUCxmeccj4qkjmYxsAD80E+JVhgIIBghKAi7WWlZWVlT/nxIZww04Nt20YVQV+xqAKhASAA4D0gAAAAAD/BwAAAAAAwHF4878AAADAAACAQAsEAQEBBBuJPzxfPAVY6KCzgRUBAlZBbgECWUgeAQLvQQwBAsBAdAAAAOYAAAA=",
        "encoding": "base64",
        "path": [
         "scene_nLY4vOiGMgd6LiKshw1APdqyB",
         "drc"
        ]
       },
       {
        "data": "RFJBQ08CAgEBAAAAXLQBAbMBAAAtX9u2rWpLVVVVqVZLVVWValVLVVWpVlVLVZVqVVVLValWVVVLlWpVVVVLqQIKAQEQ/wL2XgL/AAEAAQABAAkDAAACAQICAwABAQQBAQAMF70JGQIZEkkfGQK0F5BpXg4ZDy4i6U1F6DUqASfbu9LJXuhPPV9wGXiWA7CIwSF5fAbguxAAqaACwEN3TOpyAHbGGYURAADxUQA2TwF8lQpgZzkAa54CwJIQQDbr3KMLAVD3JAAYggVAEg1AnBTAIzQAeeYCyDG3V3EAxZkknAOw2iPpgGwCQABALgGbVYArCQFsJAWAmm0AO80BYPW0F7OEo4ynygGd0/MVAIDwUYCaVQApBy4CACAdTA5mgJ7IM4AoB+ISAIADQABALgEpB6IciEvgB4DYBCIdkHRgmQlIEg2AFgBA8gzAZhWgZhUg8gxgFgAgEg2ghhWgOIDiWBQCECcFwAgAgPgoAJaEAK4kBBA+CnARAIBwUoADT8ksS0gmaBcyO+WQ6WWRDAKoZJgpJCPUCxmeccj4qkjmYxsAD80E+JVhgIIBghKAi7WWlZWVlT/nxIZww04Nt20YVQV+xqAKhASAA4D0gAAAAAD/BwAAAACgwEYrmMAAAKDAAAAgQQsEAQEBBHWJPzz/xzwFWOigs4EVAQJWQW4BAllIHgEC70EMAQLAQG4AAAD8AAAA",
        "encoding": "base64",
        "path": [
         "scene_DU6sXsJdlJjm6TSeSMACcNcS3",
         "drc"
        ]
       },
       {
        "data": "RFJBQ08CAgEBAAAAXLQBAbMBAAAtX9u2rWpLVVVVqVZLVVWValVLVVWpVlVLVZVqVVVLValWVVVLlWpVVVVLqQIKAQEQ/wL2XgL/AAEAAQABAAkDAAACAQICAwABAQQBAQAMF70JGQIZEkkfGQK0F5BpXg4ZDy4i6U1F6DUqASfbu9LJXuhPPV9wGXiWA7CIwSF5fAbguxAAqaACwEN3TOpyAHbGGYURAADxUQA2TwF8lQpgZzkAa54CwJIQQDbr3KMLAVD3JAAYggVAEg1AnBTAIzQAeeYCyDG3V3EAxZkknAOw2iPpgGwCQABALgGbVYArCQFsJAWAmm0AO80BYPW0F7OEo4ynygGd0/MVAIDwUYCaVQApBy4CACAdTA5mgJ7IM4AoB+ISAIADQABALgEpB6IciEvgB4DYBCIdkHRgmQlIEg2AFgBA8gzAZhWgZhUg8gxgFgAgEg2ghhWgOIDiWBQCECcFwAgAgPgoAJaEAK4kBBA+CnARAIBwUoADT8ksS0gmaBcyO+WQ6WWRDAKoZJgpJCPUCxmeccj4qkjmYxsAD80E+JVhgIIBghKAi7WWlZWVlT/nxIZww04Nt20YVQV+xqAKhASAA4D0gAAAAAD/BwAAAAAAwHF4878AAADAAACAQAsEAQEBBCeJPzyPPAVYXeS/gRUBAlZBbgECWUgeAQLvQQwBAsBALwAAAOcAAAA=",
        "encoding": "base64",
        "path": [
         "scene_d97bRqb60JJZA5PdfRxWvhmyP",
         "drc"
        ]
       },
       {
        "data": "RFJBQ08CAgEBAAAAXLQBAbMBAAAtX9u2rWpLVVVVqVZLVVWValVLVVWpVlVLVZVqVVVLValWVVVLlWpVVVVLqQIKAQEQ/wL2XgL/AAEAAQABAAkDAAACAQICAwABAQQBAQAMF70JGQIZEkkfGQK0F5BpXg4ZDy4i6U1F6DUqASfbu9LJXuhPPV9wGXiWA7CIwSF5fAbguxAAqaACwEN3TOpyAHbGGYURAADxUQA2TwF8lQpgZzkAa54CwJIQQDbr3KMLAVD3JAAYggVAEg1AnBTAIzQAeeYCyDG3V3EAxZkknAOw2iPpgGwCQABALgGbVYArCQFsJAWAmm0AO80BYPW0F7OEo4ynygGd0/MVAIDwUYCaVQApBy4CACAdTA5mgJ7IM4AoB+ISAIADQABALgEpB6IciEvgB4DYBCIdkHRgmQlIEg2AFgBA8gzAZhWgZhUg8gxgFgAgEg2ghhWgOIDiWBQCECcFwAgAgPgoAJaEAK4kBBA+CnARAIBwUoADT8ksS0gmaBcyO+WQ6WWRDAKoZJgpJCPUCxmeccj4qkjmYxsAD80E+JVhgIIBghKAi7WWlZWVlT/nxIZww04Nt20YVQV+xqAKhASAA4D0gAAAAAD/BwAAAAAQwb/zCMEAABDBAACQQQsEAQEBBCaJPzyLPAVk6/6vgRUBAlZBbgECWUgeAQLvQQwBAsBAfAAAAKoAAAA=",
        "encoding": "base64",
        "path": [
         "scene_gxun1b1KAQVKnCrbZPjzDl1cI",
         "drc"
        ]
       },
       {
        "data": "RFJBQ08CAgEBAAAAXLQBAbMBAAAtX9u2rWpLVVVVqVZLVVWValVLVVWpVlVLVZVqVVVLValWVVVLlWpVVVVLqQIKAQEQ/wL2XgL/AAEAAQABAAkDAAACAQICAwABAQQBAQAMF70JGQIZEkkfGQK0F5BpXg4ZDy4i6U1F6DUqASfbu9LJXuhPPV9wGXiWA7CIwSF5fAbguxAAqaACwEN3TOpyAHbGGYURAADxUQA2TwF8lQpgZzkAa54CwJIQQDbr3KMLAVD3JAAYggVAEg1AnBTAIzQAeeYCyDG3V3EAxZkknAOw2iPpgGwCQABALgGbVYArCQFsJAWAmm0AO80BYPW0F7OEo4ynygGd0/MVAIDwUYCaVQApBy4CACAdTA5mgJ7IM4AoB+ISAIADQABALgEpB6IciEvgB4DYBCIdkHRgmQlIEg2AFgBA8gzAZhWgZhUg8gxgFgAgEg2ghhWgOIDiWBQCECcFwAgAgPgoAJaEAK4kBBA+CnARAIBwUoADT8ksS0gmaBcyO+WQ6WWRDAKoZJgpJCPUCxmeccj4qkjmYxsAD80E+JVhgIIBghKAi7WWlZWVlT/nxIZww04Nt20YVQV+xqAKhASAA4D0gAAAAAD/BwAAAACgwEYrmMAAAKDAAAAgQQsEAQEBBCaJPzyLPAVY95GzgRUBAlZBbgECWUgeAQLvQQwBAsBAdAAAAPQAAAA=",
        "encoding": "base64",
        "path": [
         "scene_s78xkP8WAywCU0y3IlXL2iWNY",
         "drc"
        ]
       },
       {
        "data": "RFJBQ08CAgEBAAAAXLQBAbMBAAAtX9u2rWpLVVVVqVZLVVWValVLVVWpVlVLVZVqVVVLValWVVVLlWpVVVVLqQIKAQEQ/wL2XgL/AAEAAQABAAkDAAACAQICAwABAQQBAQAMF70JGQIZEkkfGQK0F5BpXg4ZDy4i6U1F6DUqASfbu9LJXuhPPV9wGXiWA7CIwSF5fAbguxAAqaACwEN3TOpyAHbGGYURAADxUQA2TwF8lQpgZzkAa54CwJIQQDbr3KMLAVD3JAAYggVAEg1AnBTAIzQAeeYCyDG3V3EAxZkknAOw2iPpgGwCQABALgGbVYArCQFsJAWAmm0AO80BYPW0F7OEo4ynygGd0/MVAIDwUYCaVQApBy4CACAdTA5mgJ7IM4AoB+ISAIADQABALgEpB6IciEvgB4DYBCIdkHRgmQlIEg2AFgBA8gzAZhWgZhUg8gxgFgAgEg2ghhWgOIDiWBQCECcFwAgAgPgoAJaEAK4kBBA+CnARAIBwUoADT8ksS0gmaBcyO+WQ6WWRDAKoZJgpJCPUCxmeccj4qkjmYxsAD80E+JVhgIIBghKAi7WWlZWVlT/nxIZww04Nt20YVQV+xqAKhASAA4D0gAAAAAD/BwAAAAAQwb/zCMEAABDBAACQQQsEAQEBBGWJPzz/hzwFZPrvr4EVAQJWQW4BAllIHgEC70EMAQLAQBsAAADrAAAA",
        "encoding": "base64",
        "path": [
         "scene_DVtvGrKyYY98SKbpfSxWRdnhs",
         "drc"
        ]
       },
       {
        "data": "RFJBQ08CAgEBAAAAXLQBAbMBAAAtX9u2rWpLVVVVqVZLVVWValVLVVWpVlVLVZVqVVVLValWVVVLlWpVVVVLqQIKAQEQ/wL2XgL/AAEAAQABAAkDAAACAQICAwABAQQBAQAMF70JGQIZEkkfGQK0F5BpXg4ZDy4i6U1F6DUqASfbu9LJXuhPPV9wGXiWA7CIwSF5fAbguxAAqaACwEN3TOpyAHbGGYURAADxUQA2TwF8lQpgZzkAa54CwJIQQDbr3KMLAVD3JAAYggVAEg1AnBTAIzQAeeYCyDG3V3EAxZkknAOw2iPpgGwCQABALgGbVYArCQFsJAWAmm0AO80BYPW0F7OEo4ynygGd0/MVAIDwUYCaVQApBy4CACAdTA5mgJ7IM4AoB+ISAIADQABALgEpB6IciEvgB4DYBCIdkHRgmQlIEg2AFgBA8gzAZhWgZhUg8gxgFgAgEg2ghhWgOIDiWBQCECcFwAgAgPgoAJaEAK4kBBA+CnARAIBwUoADT8ksS0gmaBcyO+WQ6WWRDAKoZJgpJCPUCxmeccj4qkjmYxsAD80E+JVhgIIBghKAi7WWlZWVlT/nxIZww04Nt20YVQV+xqAKhASAA4D0gAAAAAD/BwAAAACQwb/ziMEAAJDBAAAQQgsEAQEBBCGJPzx3PAVY95GzgRUBAlZBbgECWUgeAQLvQQwBAsBAlgAAAO0AAAA=",
        "encoding": "base64",
        "path": [
         "scene_U0976uxGQyE3Ib4no3HpBnLwc",
         "drc"
        ]
       },
       {
        "data": "RFJBQ08CAgEBAAAAXLQBAbMBAAAtX9u2rWpLVVVVqVZLVVWValVLVVWpVlVLVZVqVVVLValWVVVLlWpVVVVLqQIKAQEQ/wL2XgL/AAEAAQABAAkDAAACAQICAwABAQQBAQAMF70JGQIZEkkfGQK0F5BpXg4ZDy4i6U1F6DUqASfbu9LJXuhPPV9wGXiWA7CIwSF5fAbguxAAqaACwEN3TOpyAHbGGYURAADxUQA2TwF8lQpgZzkAa54CwJIQQDbr3KMLAVD3JAAYggVAEg1AnBTAIzQAeeYCyDG3V3EAxZkknAOw2iPpgGwCQABALgGbVYArCQFsJAWAmm0AO80BYPW0F7OEo4ynygGd0/MVAIDwUYCaVQApBy4CACAdTA5mgJ7IM4AoB+ISAIADQABALgEpB6IciEvgB4DYBCIdkHRgmQlIEg2AFgBA8gzAZhWgZhUg8gxgFgAgEg2ghhWgOIDiWBQCECcFwAgAgPgoAJaEAK4kBBA+CnARAIBwUoADT8ksS0gmaBcyO+WQ6WWRDAKoZJgpJCPUCxmeccj4qkjmYxsAD80E+JVhgIIBghKAi7WWlZWVlT/nxIZww04Nt20YVQV+xqAKhASAA4D0gAAAAAD/BwAAAACQwb/ziMEAAJDBAAAQQgsEAQEBBJEBiT88//83PAVYXeS/gRUBAlZBbgECWUgeAQLvQQwBAsBACwAAAKkAAAA=",
        "encoding": "base64",
        "path": [
         "scene_T83tECn36kMkM2FtqZsGRjJJO",
         "drc"
        ]
       },
       {
        "data": "RFJBQ08CAgEBAAAAXLQBAbMBAAAtX9u2rWpLVVVVqVZLVVWValVLVVWpVlVLVZVqVVVLValWVVVLlWpVVVVLqQIKAQEQ/wL2XgL/AAEAAQABAAkDAAACAQICAwABAQQBAQAMF70JGQIZEkkfGQK0F5BpXg4ZDy4i6U1F6DUqASfbu9LJXuhPPV9wGXiWA7CIwSF5fAbguxAAqaACwEN3TOpyAHbGGYURAADxUQA2TwF8lQpgZzkAa54CwJIQQDbr3KMLAVD3JAAYggVAEg1AnBTAIzQAeeYCyDG3V3EAxZkknAOw2iPpgGwCQABALgGbVYArCQFsJAWAmm0AO80BYPW0F7OEo4ynygGd0/MVAIDwUYCaVQApBy4CACAdTA5mgJ7IM4AoB+ISAIADQABALgEpB6IciEvgB4DYBCIdkHRgmQlIEg2AFgBA8gzAZhWgZhUg8gxgFgAgEg2ghhWgOIDiWBQCECcFwAgAgPgoAJaEAK4kBBA+CnARAIBwUoADT8ksS0gmaBcyO+WQ6WWRDAKoZJgpJCPUCxmeccj4qkjmYxsAD80E+JVhgIIBghKAi7WWlZWVlT/nxIZww04Nt20YVQV+xqAKhASAA4D0gAAAAAD/BwAAAADAwFSatsAAAMDAAABAQQsEAQEBBFmJPzz/VzwFZPrvr4EVAQJWQW4BAllIHgEC70EMAQLAQGAAAADtAAAA",
        "encoding": "base64",
        "path": [
         "scene_p86VnCxCsrSb8Y97fJJzHke7D",
         "drc"
        ]
       },
       {
        "data": "RFJBQ08CAgEBAAAAXLQBAbMBAAAtX9u2rWpLVVVVqVZLVVWValVLVVWpVlVLVZVqVVVLValWVVVLlWpVVVVLqQIKAQEQ/wL2XgL/AAEAAQABAAkDAAACAQICAwABAQQBAQAMF70JGQIZEkkfGQK0F5BpXg4ZDy4i6U1F6DUqASfbu9LJXuhPPV9wGXiWA7CIwSF5fAbguxAAqaACwEN3TOpyAHbGGYURAADxUQA2TwF8lQpgZzkAa54CwJIQQDbr3KMLAVD3JAAYggVAEg1AnBTAIzQAeeYCyDG3V3EAxZkknAOw2iPpgGwCQABALgGbVYArCQFsJAWAmm0AO80BYPW0F7OEo4ynygGd0/MVAIDwUYCaVQApBy4CACAdTA5mgJ7IM4AoB+ISAIADQABALgEpB6IciEvgB4DYBCIdkHRgmQlIEg2AFgBA8gzAZhWgZhUg8gxgFgAgEg2ghhWgOIDiWBQCECcFwAgAgPgoAJaEAK4kBBA+CnARAIBwUoADT8ksS0gmaBcyO+WQ6WWRDAKoZJgpJCPUCxmeccj4qkjmYxsAD80E+JVhgIIBghKAi7WWlZWVlT/nxIZww04Nt20YVQV+xqAKhASAA4D0gAAAAAD/BwAAAAAwwc1iJ8EAADDBAACwQQsEAQEBBGiJPzz/kzwFWOigs4EVAQJWQW4BAllIHgEC70EMAQLAQBkAAADLAAAA",
        "encoding": "base64",
        "path": [
         "scene_LOpKNyP7xe7rTdFIzimtFJPSK",
         "drc"
        ]
       },
       {
        "data": "RFJBQ08CAgEBAAAAXLQBAbMBAAAtX9u2rWpLVVVVqVZLVVWValVLVVWpVlVLVZVqVVVLValWVVVLlWpVVVVLqQIKAQEQ/wL2XgL/AAEAAQABAAkDAAACAQICAwABAQQBAQAMF70JGQIZEkkfGQK0F5BpXg4ZDy4i6U1F6DUqASfbu9LJXuhPPV9wGXiWA7CIwSF5fAbguxAAqaACwEN3TOpyAHbGGYURAADxUQA2TwF8lQpgZzkAa54CwJIQQDbr3KMLAVD3JAAYggVAEg1AnBTAIzQAeeYCyDG3V3EAxZkknAOw2iPpgGwCQABALgGbVYArCQFsJAWAmm0AO80BYPW0F7OEo4ynygGd0/MVAIDwUYCaVQApBy4CACAdTA5mgJ7IM4AoB+ISAIADQABALgEpB6IciEvgB4DYBCIdkHRgmQlIEg2AFgBA8gzAZhWgZhUg8gxgFgAgEg2ghhWgOIDiWBQCECcFwAgAgPgoAJaEAK4kBBA+CnARAIBwUoADT8ksS0gmaBcyO+WQ6WWRDAKoZJgpJCPUCxmeccj4qkjmYxsAD80E+JVhgIIBghKAi7WWlZWVlT/nxIZww04Nt20YVQV+xqAKhASAA4D0gAAAAAD/BwAAAACIwfxXgcEAAIjBAAAIQgsEAQEBBAmJPzwXPAVY95GzgRUBAlZBbgECWUgeAQLvQQwBAsBATwAAAMgAAAA=",
        "encoding": "base64",
        "path": [
         "scene_MHJRhthSazGxNI59rUNa2gSfo",
         "drc"
        ]
       },
       {
        "data": "RFJBQ08CAgEBAAAAXLQBAbMBAAAtX9u2rWpLVVVVqVZLVVWValVLVVWpVlVLVZVqVVVLValWVVVLlWpVVVVLqQIKAQEQ/wL2XgL/AAEAAQABAAkDAAACAQICAwABAQQBAQAMF70JGQIZEkkfGQK0F5BpXg4ZDy4i6U1F6DUqASfbu9LJXuhPPV9wGXiWA7CIwSF5fAbguxAAT1kB0EN3TOpyAHbGGYURAADxUQA2TwF8lQpgZzkAa54CwJIQQDbr3KMLAVD3JAAYggVAEg1AnBTAIzQAO82NsdIdQHEAxclMzgGw+iPpgGwCQABALgGbVYArCQFsJAWAmm0AO80BUPW0F7OEo4ynygGd8/MVAIDwUYCaVQApBy4CACAdTA5mgJ/IM4AoB+ISAIAFQABALgEpB6IciEvgB4DYBCIdkHRgmclHEg2AFgBA8gzAZhWgZhUg8gxgFgAgEg2ghhWgOIDiWBQCECcFwAgAgPgoAJaEAK4kBBA+CnARAIBwUoADT8ksS0gmaBcyO+WQ6WWRDAKoZJgpJCPUCxmeccj4qkimvx8AD94DmOJGggGEEtR8RV4iJCQkCNeA4WSDIwVCaxhVBX7GoAqEBIADAPaAAAAAAP8HAAAAAODAYwnVwAAA4MAAAGBBCwQBAQEEVYk/PP9HPAVY6KCzgRUBAlZBbgECWUgeAQLvQQwBAsBAYgAAAO4AAAA=",
        "encoding": "base64",
        "path": [
         "scene_R6JTZv0v1l72HJqhjaStLg9Jw",
         "drc"
        ]
       },
       {
        "data": "RFJBQ08CAgEBAAAAXLQBAbMBAAAtX9u2rWpLVVVVqVZLVVWValVLVVWpVlVLVZVqVVVLValWVVVLlWpVVVVLqQIKAQEQ/wL2XgL/AAEAAQABAAkDAAACAQICAwABAQQBAQAMF70JGQIZEkkfGQK0F5BpXg4ZDy4i6U1F6DUqASfbu9LJXuhPPV9wGXiWA7CIwSF5fAbguxAAqaACwEN3TOpyAHbGGYURAADxUQA2TwF8lQpgZzkAa54CwJIQQDbr3KMLAVD3JAAYggVAEg1AnBTAIzQAeeYCyDG3V3EAxZkknAOw2iPpgGwCQABALgGbVYArCQFsJAWAmm0AO80BYPW0F7OEo4ynygGd0/MVAIDwUYCaVQApBy4CACAdTA5mgJ7IM4AoB+ISAIADQABALgEpB6IciEvgB4DYBCIdkHRgmQlIEg2AFgBA8gzAZhWgZhUg8gxgFgAgEg2ghhWgOIDiWBQCECcFwAgAgPgoAJaEAK4kBBA+CnARAIBwUoADT8ksS0gmaBcyO+WQ6WWRDAKoZJgpJCPUCxmeccj4qkjmYxsAD80E+JVhgIIBghKAi7WWlZWVlT/nxIZww04Nt20YVQV+xqAKhASAA4D0gAAAAAD/BwAAAAAQwb/zCMEAABDBAACQQQsEAQEBBAWJPzwHPAVYXeS/gRUBAlZBbgECWUgeAQLvQQwBAsBAfwAAAPsAAAA=",
        "encoding": "base64",
        "path": [
         "scene_qlDTOc6GRDfziRGDDy3Vgmchr",
         "drc"
        ]
       },
       {
        "data": "RFJBQ08CAgEBAAAAXLQBAbMBAAAtX9u2rWpLVVVVqVZLVVWValVLVVWpVlVLVZVqVVVLValWVVVLlWpVVVVLqQIKAQEQ/wL2XgL/AAEAAQABAAkDAAACAQICAwABAQQBAQAMF70JGQIZEkkfGQK0F5BpXg4ZDy4i6U1F6DUqASfbu9LJXuhPPV9wGXiWA7CIwSF5fAbguxAAqaACwEN3TOpyAHbGGYURAADxUQA2TwF8lQpgZzkAa54CwJIQQDbr3KMLAVD3JAAYggVAEg1AnBTAIzQAeeYCyDG3V3EAxZkknAOw2iPpgGwCQABALgGbVYArCQFsJAWAmm0AO80BYPW0F7OEo4ynygGd0/MVAIDwUYCaVQApBy4CACAdTA5mgJ7IM4AoB+ISAIADQABALgEpB6IciEvgB4DYBCIdkHRgmQlIEg2AFgBA8gzAZhWgZhUg8gxgFgAgEg2ghhWgOIDiWBQCECcFwAgAgPgoAJaEAK4kBBA+CnARAIBwUoADT8ksS0gmaBcyO+WQ6WWRDAKoZJgpJCPUCxmeccj4qkjmYxsAD80E+JVhgIIBghKAi7WWlZWVlT/nxIZww04Nt20YVQV+xqAKhASAA4D0gAAAAAD/BwAAAACAwXF4c8EAAIDBAAAAQgsEAQEBBAuJPzwfPAVk+u+vgRUBAlZBbgECWUgeAQLvQQwBAsBAJQAAAKEAAAA=",
        "encoding": "base64",
        "path": [
         "scene_d0gLJYv46mY6bFBOBEXCYGNZZ",
         "drc"
        ]
       },
       {
        "data": "RFJBQ08CAgEBAAAAXLQBAbMBAAAtX9u2rWpLVVVVqVZLVVWValVLVVWpVlVLVZVqVVVLValWVVVLlWpVVVVLqQIKAQEQ/wL2XgL/AAEAAQABAAkDAAACAQICAwABAQQBAQAMF70JGQIZEkkfGQK0F5BpXg4ZDy4i6U1F6DUqASfbu9LJXuhPPV9wGXiWA7CIwSF5fAbguxAAqaACwEN3TOpyAHbGGYURAADxUQA2TwF8lQpgZzkAa54CwJIQQDbr3KMLAVD3JAAYggVAEg1AnBTAIzQAeeYCyDG3V3EAxZkknAOw2iPpgGwCQABALgGbVYArCQFsJAWAmm0AO80BYPW0F7OEo4ynygGd0/MVAIDwUYCaVQApBy4CACAdTA5mgJ7IM4AoB+ISAIADQABALgEpB6IciEvgB4DYBCIdkHRgmQlIEg2AFgBA8gzAZhWgZhUg8gxgFgAgEg2ghhWgOIDiWBQCECcFwAgAgPgoAJaEAK4kBBA+CnARAIBwUoADT8ksS0gmaBcyO+WQ6WWRDAKoZJgpJCPUCxmeccj4qkjmYxsAD80E+JVhgIIBghKAi7WWlZWVlT/nxIZww04Nt20YVQV+xqAKhASAA4D0gAAAAAD/BwAAAAAAwHF4878AAADAAACAQAsEAQEBBByJPzxjPAVk6/6vgRUBAlZBbgECWUgeAQLvQQwBAsBAPAAAAO0AAAA=",
        "encoding": "base64",
        "path": [
         "scene_i0UQsCpO9iikqjeDXcoQwRJ5E",
         "drc"
        ]
       },
       {
        "data": "RFJBQ08CAgEBAAAAXLQBAbMBAAAtX9u2rWpLVVVVqVZLVVWValVLVVWpVlVLVZVqVVVLValWVVVLlWpVVVVLqQIKAQEQ/wL2XgL/AAEAAQABAAkDAAACAQICAwABAQQBAQAMF70JGQIZEkkfGQK0F5BpXg4ZDy4i6U1F6DUqASfbu9LJXuhPPV9wGXiWA7CIwSF5fAbguxAAT1kB0EN3TOpyAHbGGYURAADxUQA2TwF8lQpgZzkAa54CwJIQQDbr3KMLAVD3JAAYggVAEg1AnBTAIzQAO82NsdIdQHEAxclMzgGw+iPpgGwCQABALgGbVYArCQFsJAWAmm0AO80BUPW0F7OEo4ynygGd8/MVAIDwUYCaVQApBy4CACAdTA5mgJ/IM4AoB+ISAIAFQABALgEpB6IciEvgB4DYBCIdkHRgmclHEg2AFgBA8gzAZhWgZhUg8gxgFgAgEg2ghhWgOIDiWBQCECcFwAgAgPgoAJaEAK4kBBA+CnARAIBwUoADT8ksS0gmaBcyO+WQ6WWRDAKoZJgpJCPUCxmeccj4qkimvx8AD94DmOJGggGEEtR8RV4iJCQkCNeA4WSDIwVCaxhVBX7GoAqEBIADAPaAAAAAAP8HAAAAAGDBYwlVwQAAYMEAAOBBCwQBAQEEoQGJPzz//3c8BWTr/q+BFQECVkFuAQJZSB4BAu9BDAECwEAMAAAAuAAAAA==",
        "encoding": "base64",
        "path": [
         "scene_LLMTjTwjvcNlnCCHlBNCIRLbe",
         "drc"
        ]
       },
       {
        "data": "RFJBQ08CAgEBAAAAXLQBAbMBAAAtX9u2rWpLVVVVqVZLVVWValVLVVWpVlVLVZVqVVVLValWVVVLlWpVVVVLqQIKAQEQ/wL2XgL/AAEAAQABAAkDAAACAQICAwABAQQBAQAMF70JGQIZEkkfGQK0F5BpXg4ZDy4i6U1F6DUqASfbu9LJXuhPPV9wGXiWA7CIwSF5fAbguxAAqaACwEN3TOpyAHbGGYURAADxUQA2TwF8lQpgZzkAa54CwJIQQDbr3KMLAVD3JAAYggVAEg1AnBTAIzQAeeYCyDG3V3EAxZkknAOw2iPpgGwCQABALgGbVYArCQFsJAWAmm0AO80BYPW0F7OEo4ynygGd0/MVAIDwUYCaVQApBy4CACAdTA5mgJ7IM4AoB+ISAIADQABALgEpB6IciEvgB4DYBCIdkHRgmQlIEg2AFgBA8gzAZhWgZhUg8gxgFgAgEg2ghhWgOIDiWBQCECcFwAgAgPgoAJaEAK4kBBA+CnARAIBwUoADT8ksS0gmaBcyO+WQ6WWRDAKoZJgpJCPUCxmeccj4qkjmYxsAD80E+JVhgIIBghKAi7WWlZWVlT/nxIZww04Nt20YVQV+xqAKhASAA4D0gAAAAAD/BwAAAAAwwc1iJ8EAADDBAACwQQsEAQEBBEeJPzz/DzwFZOv+r4EVAQJWQW4BAllIHgEC70EMAQLAQAMAAABdAAAA",
        "encoding": "base64",
        "path": [
         "scene_JFQPqF3Ar1Y7OCWw0k6UVsO3E",
         "drc"
        ]
       },
       {
        "data": "RFJBQ08CAgEBAAAAXLQBAbMBAAAtX9u2rWpLVVVVqVZLVVWValVLVVWpVlVLVZVqVVVLValWVVVLlWpVVVVLqQIKAQEQ/wL2XgL/AAEAAQABAAkDAAACAQICAwABAQQBAQAMF70JGQIZEkkfGQK0F5BpXg4ZDy4i6U1F6DUqASfbu9LJXuhPPV9wGXiWA7CIwSF5fAbguxAAqaACwEN3TOpyAHbGGYURAADxUQA2TwF8lQpgZzkAa54CwJIQQDbr3KMLAVD3JAAYggVAEg1AnBTAIzQAeeYCyDG3V3EAxZkknAOw2iPpgGwCQABALgGbVYArCQFsJAWAmm0AO80BYPW0F7OEo4ynygGd0/MVAIDwUYCaVQApBy4CACAdTA5mgJ7IM4AoB+ISAIADQABALgEpB6IciEvgB4DYBCIdkHRgmQlIEg2AFgBA8gzAZhWgZhUg8gxgFgAgEg2ghhWgOIDiWBQCECcFwAgAgPgoAJaEAK4kBBA+CnARAIBwUoADT8ksS0gmaBcyO+WQ6WWRDAKoZJgpJCPUCxmeccj4qkjmYxsAD80E+JVhgIIBghKAi7WWlZWVlT/nxIZww04Nt20YVQV+xqAKhASAA4D0gAAAAAD/BwAAAACIwfxXgcEAAIjBAAAIQgsEAQEBBBCJPzwzPAVYTvO/gRUBAlZBbgECWUgeAQLvQQwBAsBAIQAAAHgAAAA=",
        "encoding": "base64",
        "path": [
         "scene_XyhtuoaBIs7dXzj2hlgm7CtM5",
         "drc"
        ]
       },
       {
        "data": "RFJBQ08CAgEBAAAAXLQBAbMBAAAtX9u2rWpLVVVVqVZLVVWValVLVVWpVlVLVZVqVVVLValWVVVLlWpVVVVLqQIKAQEQ/wL2XgL/AAEAAQABAAkDAAACAQICAwABAQQBAQAMF70JGQIZEkkfGQK0F5BpXg4ZDy4i6U1F6DUqASfbu9LJXuhPPV9wGXiWA7CIwSF5fAbguxAAqaACwEN3TOpyAHbGGYURAADxUQA2TwF8lQpgZzkAa54CwJIQQDbr3KMLAVD3JAAYggVAEg1AnBTAIzQAeeYCyDG3V3EAxZkknAOw2iPpgGwCQABALgGbVYArCQFsJAWAmm0AO80BYPW0F7OEo4ynygGd0/MVAIDwUYCaVQApBy4CACAdTA5mgJ7IM4AoB+ISAIADQABALgEpB6IciEvgB4DYBCIdkHRgmQlIEg2AFgBA8gzAZhWgZhUg8gxgFgAgEg2ghhWgOIDiWBQCECcFwAgAgPgoAJaEAK4kBBA+CnARAIBwUoADT8ksS0gmaBcyO+WQ6WWRDAKoZJgpJCPUCxmeccj4qkjmYxsAD80E+JVhgIIBghKAi7WWlZWVlT/nxIZww04Nt20YVQV+xqAKhASAA4D0gAAAAAD/BwAAAAAwwc1iJ8EAADDBAACwQQsEAQEBBASJPzwDPAVY95GzgRUBAlZBbgECWUgeAQLvQQwBAsBAagAAAPkAAAA=",
        "encoding": "base64",
        "path": [
         "scene_gTSGK28dFAeVRDKDH9dt6HsPe",
         "drc"
        ]
       },
       {
        "data": "RFJBQ08CAgEBAAAAXLQBAbMBAAAtX9u2rWpLVVVVqVZLVVWValVLVVWpVlVLVZVqVVVLValWVVVLlWpVVVVLqQIKAQEQ/wL2XgL/AAEAAQABAAkDAAACAQICAwABAQQBAQAMF70JGQIZEkkfGQK0F5BpXg4ZDy4i6U1F6DUqASfbu9LJXuhPPV9wGXiWA7CIwSF5fAbguxAAqaACwEN3TOpyAHbGGYURAADxUQA2TwF8lQpgZzkAa54CwJIQQDbr3KMLAVD3JAAYggVAEg1AnBTAIzQAeeYCyDG3V3EAxZkknAOw2iPpgGwCQABALgGbVYArCQFsJAWAmm0AO80BYPW0F7OEo4ynygGd0/MVAIDwUYCaVQApBy4CACAdTA5mgJ7IM4AoB+ISAIADQABALgEpB6IciEvgB4DYBCIdkHRgmQlIEg2AFgBA8gzAZhWgZhUg8gxgFgAgEg2ghhWgOIDiWBQCECcFwAgAgPgoAJaEAK4kBBA+CnARAIBwUoADT8ksS0gmaBcyO+WQ6WWRDAKoZJgpJCPUCxmeccj4qkjmYxsAD80E+JVhgIIBghKAi7WWlZWVlT/nxIZww04Nt20YVQV+xqAKhASAA4D0gAAAAAD/BwAAAAAgwUYrGMEAACDBAACgQQsEAQEBBGiJPzz/kzwFWOigs4EVAQJWQW4BAllIHgEC70EMAQLAQBAAAADKAAAA",
        "encoding": "base64",
        "path": [
         "scene_bk3FkpvmjVKktZRFPpTkNALUr",
         "drc"
        ]
       },
       {
        "data": "RFJBQ08CAgEBAAAAXLQBAbMBAAAtX9u2rWpLVVVVqVZLVVWValVLVVWpVlVLVZVqVVVLValWVVVLlWpVVVVLqQIKAQEQ/wL2XgL/AAEAAQABAAkDAAACAQICAwABAQQBAQAMF70JGQIZEkkfGQK0F5BpXg4ZDy4i6U1F6DUqASfbu9LJXuhPPV9wGXiWA7CIwSF5fAbguxAAqaACwEN3TOpyAHbGGYURAADxUQA2TwF8lQpgZzkAa54CwJIQQDbr3KMLAVD3JAAYggVAEg1AnBTAIzQAeeYCyDG3V3EAxZkknAOw2iPpgGwCQABALgGbVYArCQFsJAWAmm0AO80BYPW0F7OEo4ynygGd0/MVAIDwUYCaVQApBy4CACAdTA5mgJ7IM4AoB+ISAIADQABALgEpB6IciEvgB4DYBCIdkHRgmQlIEg2AFgBA8gzAZhWgZhUg8gxgFgAgEg2ghhWgOIDiWBQCECcFwAgAgPgoAJaEAK4kBBA+CnARAIBwUoADT8ksS0gmaBcyO+WQ6WWRDAKoZJgpJCPUCxmeccj4qkjmYxsAD80E+JVhgIIBghKAi7WWlZWVlT/nxIZww04Nt20YVQV+xqAKhASAA4D0gAAAAAD/BwAAAAAwwc1iJ8EAADDBAACwQQsEAQEBBBSJPzxDPAVYXeS/gRUBAlZBbgECWUgeAQLvQQwBAsBAAwAAAFkAAAA=",
        "encoding": "base64",
        "path": [
         "scene_ntKiLKWrG7J6SaXEkkluXTTzY",
         "drc"
        ]
       },
       {
        "data": "RFJBQ08CAgEBAAAAXLQBAbMBAAAtX9u2rWpLVVVVqVZLVVWValVLVVWpVlVLVZVqVVVLValWVVVLlWpVVVVLqQIKAQEQ/wL2XgL/AAEAAQABAAkDAAACAQICAwABAQQBAQAMF70JGQIZEkkfGQK0F5BpXg4ZDy4i6U1F6DUqASfbu9LJXuhPPV9wGXiWA7CIwSF5fAbguxAAqaACwEN3TOpyAHbGGYURAADxUQA2TwF8lQpgZzkAa54CwJIQQDbr3KMLAVD3JAAYggVAEg1AnBTAIzQAeeYCyDG3V3EAxZkknAOw2iPpgGwCQABALgGbVYArCQFsJAWAmm0AO80BYPW0F7OEo4ynygGd0/MVAIDwUYCaVQApBy4CACAdTA5mgJ7IM4AoB+ISAIADQABALgEpB6IciEvgB4DYBCIdkHRgmQlIEg2AFgBA8gzAZhWgZhUg8gxgFgAgEg2ghhWgOIDiWBQCECcFwAgAgPgoAJaEAK4kBBA+CnARAIBwUoADT8ksS0gmaBcyO+WQ6WWRDAKoZJgpJCPUCxmeccj4qkjmYxsAD80E+JVhgIIBghKAi7WWlZWVlT/nxIZww04Nt20YVQV+xqAKhASAA4D0gAAAAAD/BwAAAAAAwHF4878AAADAAACAQAsEAQEBBDuJPzzfPAVYXeS/gRUBAlZBbgECWUgeAQLvQQwBAsBAhQAAAM4AAAA=",
        "encoding": "base64",
        "path": [
         "scene_qlFObKfZ3eST32kFqGbmYG2zC",
         "drc"
        ]
       },
       {
        "data": "RFJBQ08CAgEBAAAAXLQBAbMBAAAtX9u2rWpLVVVVqVZLVVWValVLVVWpVlVLVZVqVVVLValWVVVLlWpVVVVLqQIKAQEQ/wL2XgL/AAEAAQABAAkDAAACAQICAwABAQQBAQAMF70JGQIZEkkfGQK0F5BpXg4ZDy4i6U1F6DUqASfbu9LJXuhPPV9wGXiWA7CIwSF5fAbguxAAT1kB0EN3TOpyAHbGGYURAADxUQA2TwF8lQpgZzkAa54CwJIQQDbr3KMLAVD3JAAYggVAEg1AnBTAIzQAO82NsdIdQHEAxclMzgGw+iPpgGwCQABALgGbVYArCQFsJAWAmm0AO80BUPW0F7OEo4ynygGd8/MVAIDwUYCaVQApBy4CACAdTA5mgJ/IM4AoB+ISAIAFQABALgEpB6IciEvgB4DYBCIdkHRgmclHEg2AFgBA8gzAZhWgZhUg8gxgFgAgEg2ghhWgOIDiWBQCECcFwAgAgPgoAJaEAK4kBBA+CnARAIBwUoADT8ksS0gmaBcyO+WQ6WWRDAKoZJgpJCPUCxmeccj4qkimvx8AD94DmOJGggGEEtR8RV4iJCQkCNeA4WSDIwVCaxhVBX7GoAqEBIADAPaAAAAAAP8HAAAAAODAYwnVwAAA4MAAAGBBCwQBAQEEBYk/PAc8BVj3kbOBFQECVkFuAQJZSB4BAu9BDAECwEBhAAAAtwAAAA==",
        "encoding": "base64",
        "path": [
         "scene_dEiviIOp08wv8I0Rrsn5MhCbx",
         "drc"
        ]
       },
       {
        "data": "RFJBQ08CAgEBAAAAXLQBAbMBAAAtX9u2rWpLVVVVqVZLVVWValVLVVWpVlVLVZVqVVVLValWVVVLlWpVVVVLqQIKAQEQ/wL2XgL/AAEAAQABAAkDAAACAQICAwABAQQBAQAMF70JGQIZEkkfGQK0F5BpXg4ZDy4i6U1F6DUqASfbu9LJXuhPPV9wGXiWA7CIwSF5fAbguxAAqaACwEN3TOpyAHbGGYURAADxUQA2TwF8lQpgZzkAa54CwJIQQDbr3KMLAVD3JAAYggVAEg1AnBTAIzQAeeYCyDG3V3EAxZkknAOw2iPpgGwCQABALgGbVYArCQFsJAWAmm0AO80BYPW0F7OEo4ynygGd0/MVAIDwUYCaVQApBy4CACAdTA5mgJ7IM4AoB+ISAIADQABALgEpB6IciEvgB4DYBCIdkHRgmQlIEg2AFgBA8gzAZhWgZhUg8gxgFgAgEg2ghhWgOIDiWBQCECcFwAgAgPgoAJaEAK4kBBA+CnARAIBwUoADT8ksS0gmaBcyO+WQ6WWRDAKoZJgpJCPUCxmeccj4qkjmYxsAD80E+JVhgIIBghKAi7WWlZWVlT/nxIZww04Nt20YVQV+xqAKhASAA4D0gAAAAAD/BwAAAAAAwHF4878AAADAAACAQAsEAQEBBEWJPzz/BzwFWOigs4EVAQJWQW4BAllIHgEC70EMAQLAQBsAAADUAAAA",
        "encoding": "base64",
        "path": [
         "scene_9k2LbkdJWZNRD82fQoKxYUzaA",
         "drc"
        ]
       },
       {
        "data": "RFJBQ08CAgEBAAAAXLQBAbMBAAAtX9u2rWpLVVVVqVZLVVWValVLVVWpVlVLVZVqVVVLValWVVVLlWpVVVVLqQIKAQEQ/wL2XgL/AAEAAQABAAkDAAACAQICAwABAQQBAQAMF70JGQIZEkkfGQK0F5BpXg4ZDy4i6U1F6DUqASfbu9LJXuhPPV9wGXiWA7CIwSF5fAbguxAAT1kB0EN3TOpyAHbGGYURAADxUQA2TwF8lQpgZzkAa54CwJIQQDbr3KMLAVD3JAAYggVAEg1AnBTAIzQAO82NsdIdQHEAxclMzgGw+iPpgGwCQABALgGbVYArCQFsJAWAmm0AO80BUPW0F7OEo4ynygGd8/MVAIDwUYCaVQApBy4CACAdTA5mgJ/IM4AoB+ISAIAFQABALgEpB6IciEvgB4DYBCIdkHRgmclHEg2AFgBA8gzAZhWgZhUg8gxgFgAgEg2ghhWgOIDiWBQCECcFwAgAgPgoAJaEAK4kBBA+CnARAIBwUoADT8ksS0gmaBcyO+WQ6WWRDAKoZJgpJCPUCxmeccj4qkimvx8AD94DmOJGggGEEtR8RV4iJCQkCNeA4WSDIwVCaxhVBX7GoAqEBIADAPaAAAAAAP8HAAAAAODAYwnVwAAA4MAAAGBBCwQBAQEEaIk/PP+TPAVYTvO/gRUBAlZBbgECWUgeAQLvQQwBAsBAJwAAAKcAAAA=",
        "encoding": "base64",
        "path": [
         "scene_ULquBVZy98pz1dtH0YY8uoh2r",
         "drc"
        ]
       },
       {
        "data": "RFJBQ08CAgEBAAAAXLQBAbMBAAAtX9u2rWpLVVVVqVZLVVWValVLVVWpVlVLVZVqVVVLValWVVVLlWpVVVVLqQIKAQEQ/wL2XgL/AAEAAQABAAkDAAACAQICAwABAQQBAQAMF70JGQIZEkkfGQK0F5BpXg4ZDy4i6U1F6DUqASfbu9LJXuhPPV9wGXiWA7CIwSF5fAbguxAAqaACwEN3TOpyAHbGGYURAADxUQA2TwF8lQpgZzkAa54CwJIQQDbr3KMLAVD3JAAYggVAEg1AnBTAIzQAeeYCyDG3V3EAxZkknAOw2iPpgGwCQABALgGbVYArCQFsJAWAmm0AO80BYPW0F7OEo4ynygGd0/MVAIDwUYCaVQApBy4CACAdTA5mgJ7IM4AoB+ISAIADQABALgEpB6IciEvgB4DYBCIdkHRgmQlIEg2AFgBA8gzAZhWgZhUg8gxgFgAgEg2ghhWgOIDiWBQCECcFwAgAgPgoAJaEAK4kBBA+CnARAIBwUoADT8ksS0gmaBcyO+WQ6WWRDAKoZJgpJCPUCxmeccj4qkjmYxsAD80E+JVhgIIBghKAi7WWlZWVlT/nxIZww04Nt20YVQV+xqAKhASAA4D0gAAAAAD/BwAAAACQwb/ziMEAAJDBAAAQQgsEAQEBBCSJPzyDPAVY6KCzgRUBAlZBbgECWUgeAQLvQQwBAsBAOwAAAKUAAAA=",
        "encoding": "base64",
        "path": [
         "scene_QMM5mqIJKw73tWQouke4sznqq",
         "drc"
        ]
       },
       {
        "data": "RFJBQ08CAgEBAAAAXLQBAbMBAAAtX9u2rWpLVVVVqVZLVVWValVLVVWpVlVLVZVqVVVLValWVVVLlWpVVVVLqQIKAQEQ/wL2XgL/AAEAAQABAAkDAAACAQICAwABAQQBAQAMF70JGQIZEkkfGQK0F5BpXg4ZDy4i6U1F6DUqASfbu9LJXuhPPV9wGXiWA7CIwSF5fAbguxAAqaACwEN3TOpyAHbGGYURAADxUQA2TwF8lQpgZzkAa54CwJIQQDbr3KMLAVD3JAAYggVAEg1AnBTAIzQAeeYCyDG3V3EAxZkknAOw2iPpgGwCQABALgGbVYArCQFsJAWAmm0AO80BYPW0F7OEo4ynygGd0/MVAIDwUYCaVQApBy4CACAdTA5mgJ7IM4AoB+ISAIADQABALgEpB6IciEvgB4DYBCIdkHRgmQlIEg2AFgBA8gzAZhWgZhUg8gxgFgAgEg2ghhWgOIDiWBQCECcFwAgAgPgoAJaEAK4kBBA+CnARAIBwUoADT8ksS0gmaBcyO+WQ6WWRDAKoZJgpJCPUCxmeccj4qkjmYxsAD80E+JVhgIIBghKAi7WWlZWVlT/nxIZww04Nt20YVQV+xqAKhASAA4D0gAAAAAD/BwAAAAAQwb/zCMEAABDBAACQQQsEAQEBBASJPzwDPAVY95GzgRUBAlZBbgECWUgeAQLvQQwBAsBAGgAAAF4AAAA=",
        "encoding": "base64",
        "path": [
         "scene_kMWSlNrncwMN9KVITQB6hw5mM",
         "drc"
        ]
       },
       {
        "data": "RFJBQ08CAgEBAAAAXLQBAbMBAAAtX9u2rWpLVVVVqVZLVVWValVLVVWpVlVLVZVqVVVLValWVVVLlWpVVVVLqQIKAQEQ/wL2XgL/AAEAAQABAAkDAAACAQICAwABAQQBAQAMF70JGQIZEkkfGQK0F5BpXg4ZDy4i6U1F6DUqASfbu9LJXuhPPV9wGXiWA7CIwSF5fAbguxAAqaACwEN3TOpyAHbGGYURAADxUQA2TwF8lQpgZzkAa54CwJIQQDbr3KMLAVD3JAAYggVAEg1AnBTAIzQAeeYCyDG3V3EAxZkknAOw2iPpgGwCQABALgGbVYArCQFsJAWAmm0AO80BYPW0F7OEo4ynygGd0/MVAIDwUYCaVQApBy4CACAdTA5mgJ7IM4AoB+ISAIADQABALgEpB6IciEvgB4DYBCIdkHRgmQlIEg2AFgBA8gzAZhWgZhUg8gxgFgAgEg2ghhWgOIDiWBQCECcFwAgAgPgoAJaEAK4kBBA+CnARAIBwUoADT8ksS0gmaBcyO+WQ6WWRDAKoZJgpJCPUCxmeccj4qkjmYxsAD80E+JVhgIIBghKAi7WWlZWVlT/nxIZww04Nt20YVQV+xqAKhASAA4D0gAAAAAD/BwAAAACgwEYrmMAAAKDAAAAgQQsEAQEBBGSJPzz/gzwFWE7zv4EVAQJWQW4BAllIHgEC70EMAQLAQCgAAACVAAAA",
        "encoding": "base64",
        "path": [
         "scene_q8UzOoxl13nGaP2oeEdgc1DkB",
         "drc"
        ]
       },
       {
        "data": "RFJBQ08CAgEBAAAAXLQBAbMBAAAtX9u2rWpLVVVVqVZLVVWValVLVVWpVlVLVZVqVVVLValWVVVLlWpVVVVLqQIKAQEQ/wL2XgL/AAEAAQABAAkDAAACAQICAwABAQQBAQAMF70JGQIZEkkfGQK0F5BpXg4ZDy4i6U1F6DUqASfbu9LJXuhPPV9wGXiWA7CIwSF5fAbguxAAqaACwEN3TOpyAHbGGYURAADxUQA2TwF8lQpgZzkAa54CwJIQQDbr3KMLAVD3JAAYggVAEg1AnBTAIzQAeeYCyDG3V3EAxZkknAOw2iPpgGwCQABALgGbVYArCQFsJAWAmm0AO80BYPW0F7OEo4ynygGd0/MVAIDwUYCaVQApBy4CACAdTA5mgJ7IM4AoB+ISAIADQABALgEpB6IciEvgB4DYBCIdkHRgmQlIEg2AFgBA8gzAZhWgZhUg8gxgFgAgEg2ghhWgOIDiWBQCECcFwAgAgPgoAJaEAK4kBBA+CnARAIBwUoADT8ksS0gmaBcyO+WQ6WWRDAKoZJgpJCPUCxmeccj4qkjmYxsAD80E+JVhgIIBghKAi7WWlZWVlT/nxIZww04Nt20YVQV+xqAKhASAA4D0gAAAAAD/BwAAAABAwFSaNsAAAEDAAADAQAsEAQEBBHiJPzz/0zwFWPeRs4EVAQJWQW4BAllIHgEC70EMAQLAQE8AAAD8AAAA",
        "encoding": "base64",
        "path": [
         "scene_QdwRq88mT8wKFBHDvOp9DdI4C",
         "drc"
        ]
       },
       {
        "data": "RFJBQ08CAgEBAAAAXLQBAbMBAAAtX9u2rWpLVVVVqVZLVVWValVLVVWpVlVLVZVqVVVLValWVVVLlWpVVVVLqQIKAQEQ/wL2XgL/AAEAAQABAAkDAAACAQICAwABAQQBAQAMF70JGQIZEkkfGQK0F5BpXg4ZDy4i6U1F6DUqASfbu9LJXuhPPV9wGXiWA7CIwSF5fAbguxAAqaACwEN3TOpyAHbGGYURAADxUQA2TwF8lQpgZzkAa54CwJIQQDbr3KMLAVD3JAAYggVAEg1AnBTAIzQAeeYCyDG3V3EAxZkknAOw2iPpgGwCQABALgGbVYArCQFsJAWAmm0AO80BYPW0F7OEo4ynygGd0/MVAIDwUYCaVQApBy4CACAdTA5mgJ7IM4AoB+ISAIADQABALgEpB6IciEvgB4DYBCIdkHRgmQlIEg2AFgBA8gzAZhWgZhUg8gxgFgAgEg2ghhWgOIDiWBQCECcFwAgAgPgoAJaEAK4kBBA+CnARAIBwUoADT8ksS0gmaBcyO+WQ6WWRDAKoZJgpJCPUCxmeccj4qkjmYxsAD80E+JVhgIIBghKAi7WWlZWVlT/nxIZww04Nt20YVQV+xqAKhASAA4D0gAAAAAD/BwAAAAAAwXF488AAAADBAACAQQsEAQEBBCeJPzyPPAVYXeS/gRUBAlZBbgECWUgeAQLvQQwBAsBAYQAAAOoAAAA=",
        "encoding": "base64",
        "path": [
         "scene_gbsqrwUYG3edgnkBzEZ9vEpdS",
         "drc"
        ]
       },
       {
        "data": "RFJBQ08CAgEBAAAAXLQBAbMBAAAtX9u2rWpLVVVVqVZLVVWValVLVVWpVlVLVZVqVVVLValWVVVLlWpVVVVLqQIKAQEQ/wL2XgL/AAEAAQABAAkDAAACAQICAwABAQQBAQAMF70JGQIZEkkfGQK0F5BpXg4ZDy4i6U1F6DUqASfbu9LJXuhPPV9wGXiWA7CIwSF5fAbguxAAT1kB0EN3TOpyAHbGGYURAADxUQA2TwF8lQpgZzkAa54CwJIQQDbr3KMLAVD3JAAYggVAEg1AnBTAIzQAO82NsdIdQHEAxclMzgGw+iPpgGwCQABALgGbVYArCQFsJAWAmm0AO80BUPW0F7OEo4ynygGd8/MVAIDwUYCaVQApBy4CACAdTA5mgJ/IM4AoB+ISAIAFQABALgEpB6IciEvgB4DYBCIdkHRgmclHEg2AFgBA8gzAZhWgZhUg8gxgFgAgEg2ghhWgOIDiWBQCECcFwAgAgPgoAJaEAK4kBBA+CnARAIBwUoADT8ksS0gmaBcyO+WQ6WWRDAKoZJgpJCPUCxmeccj4qkimvx8AD94DmOJGggGEEtR8RV4iJCQkCNeA4WSDIwVCaxhVBX7GoAqEBIADAPaAAAAAAP8HAAAAAODAYwnVwAAA4MAAAGBBCwQBAQEEO4k/PN88BVhO87+BFQECVkFuAQJZSB4BAu9BDAECwEAJAAAA+QAAAA==",
        "encoding": "base64",
        "path": [
         "scene_k0wSwKawAr6HnIbzI87exhVnk",
         "drc"
        ]
       },
       {
        "data": "RFJBQ08CAgEBAAAAXLQBAbMBAAAtX9u2rWpLVVVVqVZLVVWValVLVVWpVlVLVZVqVVVLValWVVVLlWpVVVVLqQIKAQEQ/wL2XgL/AAEAAQABAAkDAAACAQICAwABAQQBAQAMF70JGQIZEkkfGQK0F5BpXg4ZDy4i6U1F6DUqASfbu9LJXuhPPV9wGXiWA7CIwSF5fAbguxAAT1kB0EN3TOpyAHbGGYURAADxUQA2TwF8lQpgZzkAa54CwJIQQDbr3KMLAVD3JAAYggVAEg1AnBTAIzQAO82NsdIdQHEAxclMzgGw+iPpgGwCQABALgGbVYArCQFsJAWAmm0AO80BUPW0F7OEo4ynygGd8/MVAIDwUYCaVQApBy4CACAdTA5mgJ/IM4AoB+ISAIAFQABALgEpB6IciEvgB4DYBCIdkHRgmclHEg2AFgBA8gzAZhWgZhUg8gxgFgAgEg2ghhWgOIDiWBQCECcFwAgAgPgoAJaEAK4kBBA+CnARAIBwUoADT8ksS0gmaBcyO+WQ6WWRDAKoZJgpJCPUCxmeccj4qkimvx8AD94DmOJGggGEEtR8RV4iJCQkCNeA4WSDIwVCaxhVBX7GoAqEBIADAPaAAAAAAP8HAAAAAFDB29FFwQAAUMEAANBBCwQBAQEEBok/PAs8BVhO87+BFQECVkFuAQJZSB4BAu9BDAECwEBNAAAAiAAAAA==",
        "encoding": "base64",
        "path": [
         "scene_4Y2YutK2PZE4aZAoonI8QYELK",
         "drc"
        ]
       },
       {
        "data": "RFJBQ08CAgEBAAAAXLQBAbMBAAAtX9u2rWpLVVVVqVZLVVWValVLVVWpVlVLVZVqVVVLValWVVVLlWpVVVVLqQIKAQEQ/wL2XgL/AAEAAQABAAkDAAACAQICAwABAQQBAQAMF70JGQIZEkkfGQK0F5BpXg4ZDy4i6U1F6DUqASfbu9LJXuhPPV9wGXiWA7CIwSF5fAbguxAAqaACwEN3TOpyAHbGGYURAADxUQA2TwF8lQpgZzkAa54CwJIQQDbr3KMLAVD3JAAYggVAEg1AnBTAIzQAeeYCyDG3V3EAxZkknAOw2iPpgGwCQABALgGbVYArCQFsJAWAmm0AO80BYPW0F7OEo4ynygGd0/MVAIDwUYCaVQApBy4CACAdTA5mgJ7IM4AoB+ISAIADQABALgEpB6IciEvgB4DYBCIdkHRgmQlIEg2AFgBA8gzAZhWgZhUg8gxgFgAgEg2ghhWgOIDiWBQCECcFwAgAgPgoAJaEAK4kBBA+CnARAIBwUoADT8ksS0gmaBcyO+WQ6WWRDAKoZJgpJCPUCxmeccj4qkjmYxsAD80E+JVhgIIBghKAi7WWlZWVlT/nxIZww04Nt20YVQV+xqAKhASAA4D0gAAAAAD/BwAAAAAgwUYrGMEAACDBAACgQQsEAQEBBDKJPzy7PAVY6KCzgRUBAlZBbgECWUgeAQLvQQwBAsBALgAAAJQAAAA=",
        "encoding": "base64",
        "path": [
         "scene_mU8lOUirKraYYziy2Jn0dCfXI",
         "drc"
        ]
       },
       {
        "data": "RFJBQ08CAgEBAAAAXLQBAbMBAAAtX9u2rWpLVVVVqVZLVVWValVLVVWpVlVLVZVqVVVLValWVVVLlWpVVVVLqQIKAQEQ/wL2XgL/AAEAAQABAAkDAAACAQICAwABAQQBAQAMF70JGQIZEkkfGQK0F5BpXg4ZDy4i6U1F6DUqASfbu9LJXuhPPV9wGXiWA7CIwSF5fAbguxAAqaACwEN3TOpyAHbGGYURAADxUQA2TwF8lQpgZzkAa54CwJIQQDbr3KMLAVD3JAAYggVAEg1AnBTAIzQAeeYCyDG3V3EAxZkknAOw2iPpgGwCQABALgGbVYArCQFsJAWAmm0AO80BYPW0F7OEo4ynygGd0/MVAIDwUYCaVQApBy4CACAdTA5mgJ7IM4AoB+ISAIADQABALgEpB6IciEvgB4DYBCIdkHRgmQlIEg2AFgBA8gzAZhWgZhUg8gxgFgAgEg2ghhWgOIDiWBQCECcFwAgAgPgoAJaEAK4kBBA+CnARAIBwUoADT8ksS0gmaBcyO+WQ6WWRDAKoZJgpJCPUCxmeccj4qkjmYxsAD80E+JVhgIIBghKAi7WWlZWVlT/nxIZww04Nt20YVQV+xqAKhASAA4D0gAAAAAD/BwAAAACIwfxXgcEAAIjBAAAIQgsEAQEBBBKJPzw7PAVk6/6vgRUBAlZBbgECWUgeAQLvQQwBAsBAOQAAANEAAAA=",
        "encoding": "base64",
        "path": [
         "scene_wjCe1CUYriXga6XSjWwQxwlKv",
         "drc"
        ]
       },
       {
        "data": "RFJBQ08CAgEBAAAAXLQBAbMBAAAtX9u2rWpLVVVVqVZLVVWValVLVVWpVlVLVZVqVVVLValWVVVLlWpVVVVLqQIKAQEQ/wL2XgL/AAEAAQABAAkDAAACAQICAwABAQQBAQAMF70JGQIZEkkfGQK0F5BpXg4ZDy4i6U1F6DUqASfbu9LJXuhPPV9wGXiWA7CIwSF5fAbguxAAT1kB0EN3TOpyAHbGGYURAADxUQA2TwF8lQpgZzkAa54CwJIQQDbr3KMLAVD3JAAYggVAEg1AnBTAIzQAO82NsdIdQHEAxclMzgGw+iPpgGwCQABALgGbVYArCQFsJAWAmm0AO80BUPW0F7OEo4ynygGd8/MVAIDwUYCaVQApBy4CACAdTA5mgJ/IM4AoB+ISAIAFQABALgEpB6IciEvgB4DYBCIdkHRgmclHEg2AFgBA8gzAZhWgZhUg8gxgFgAgEg2ghhWgOIDiWBQCECcFwAgAgPgoAJaEAK4kBBA+CnARAIBwUoADT8ksS0gmaBcyO+WQ6WWRDAKoZJgpJCPUCxmeccj4qkimvx8AD94DmOJGggGEEtR8RV4iJCQkCNeA4WSDIwVCaxhVBX7GoAqEBIADAPaAAAAAAP8HAAAAAFDB29FFwQAAUMEAANBBCwQBAQEEBok/PAs8BWTr/q+BFQECVkFuAQJZSB4BAu9BDAECwEDuAAAA9QAAAA==",
        "encoding": "base64",
        "path": [
         "scene_vNQIv2EzPLM7jtTd48NFKwfai",
         "drc"
        ]
       },
       {
        "data": "RFJBQ08CAgEBAAAAXLQBAbMBAAAtX9u2rWpLVVVVqVZLVVWValVLVVWpVlVLVZVqVVVLValWVVVLlWpVVVVLqQIKAQEQ/wL2XgL/AAEAAQABAAkDAAACAQICAwABAQQBAQAMF70JGQIZEkkfGQK0F5BpXg4ZDy4i6U1F6DUqASfbu9LJXuhPPV9wGXiWA7CIwSF5fAbguxAAqaACwEN3TOpyAHbGGYURAADxUQA2TwF8lQpgZzkAa54CwJIQQDbr3KMLAVD3JAAYggVAEg1AnBTAIzQAeeYCyDG3V3EAxZkknAOw2iPpgGwCQABALgGbVYArCQFsJAWAmm0AO80BYPW0F7OEo4ynygGd0/MVAIDwUYCaVQApBy4CACAdTA5mgJ7IM4AoB+ISAIADQABALgEpB6IciEvgB4DYBCIdkHRgmQlIEg2AFgBA8gzAZhWgZhUg8gxgFgAgEg2ghhWgOIDiWBQCECcFwAgAgPgoAJaEAK4kBBA+CnARAIBwUoADT8ksS0gmaBcyO+WQ6WWRDAKoZJgpJCPUCxmeccj4qkjmYxsAD80E+JVhgIIBghKAi7WWlZWVlT/nxIZww04Nt20YVQV+xqAKhASAA4D0gAAAAAD/BwAAAABAwVSaNsEAAEDBAADAQQsEAQEBBBCJPzwzPAVY95GzgRUBAlZBbgECWUgeAQLvQQwBAsBAOAAAAFsAAAA=",
        "encoding": "base64",
        "path": [
         "scene_d1gOCgMZ60liSJICnGbo37sNG",
         "drc"
        ]
       },
       {
        "data": "RFJBQ08CAgEBAAAAXLQBAbMBAAAtX9u2rWpLVVVVqVZLVVWValVLVVWpVlVLVZVqVVVLValWVVVLlWpVVVVLqQIKAQEQ/wL2XgL/AAEAAQABAAkDAAACAQICAwABAQQBAQAMF70JGQIZEkkfGQK0F5BpXg4ZDy4i6U1F6DUqASfbu9LJXuhPPV9wGXiWA7CIwSF5fAbguxAAqaACwEN3TOpyAHbGGYURAADxUQA2TwF8lQpgZzkAa54CwJIQQDbr3KMLAVD3JAAYggVAEg1AnBTAIzQAeeYCyDG3V3EAxZkknAOw2iPpgGwCQABALgGbVYArCQFsJAWAmm0AO80BYPW0F7OEo4ynygGd0/MVAIDwUYCaVQApBy4CACAdTA5mgJ7IM4AoB+ISAIADQABALgEpB6IciEvgB4DYBCIdkHRgmQlIEg2AFgBA8gzAZhWgZhUg8gxgFgAgEg2ghhWgOIDiWBQCECcFwAgAgPgoAJaEAK4kBBA+CnARAIBwUoADT8ksS0gmaBcyO+WQ6WWRDAKoZJgpJCPUCxmeccj4qkjmYxsAD80E+JVhgIIBghKAi7WWlZWVlT/nxIZww04Nt20YVQV+xqAKhASAA4D0gAAAAAD/BwAAAACQwb/ziMEAAJDBAAAQQgsEAQEBBBqJPzxbPAVY6KCzgRUBAlZBbgECWUgeAQLvQQwBAsBAFQAAALQAAAA=",
        "encoding": "base64",
        "path": [
         "scene_uiKlJJ7LyZjxGVSBXztJeHKHQ",
         "drc"
        ]
       },
       {
        "data": "RFJBQ08CAgEBAAAAXLQBAbMBAAAtX9u2rWpLVVVVqVZLVVWValVLVVWpVlVLVZVqVVVLValWVVVLlWpVVVVLqQIKAQEQ/wL2XgL/AAEAAQABAAkDAAACAQICAwABAQQBAQAMF70JGQIZEkkfGQK0F5BpXg4ZDy4i6U1F6DUqASfbu9LJXuhPPV9wGXiWA7CIwSF5fAbguxAAT1kB0EN3TOpyAHbGGYURAADxUQA2TwF8lQpgZzkAa54CwJIQQDbr3KMLAVD3JAAYggVAEg1AnBTAIzQAO82NsdIdQHEAxclMzgGw+iPpgGwCQABALgGbVYArCQFsJAWAmm0AO80BUPW0F7OEo4ynygGd8/MVAIDwUYCaVQApBy4CACAdTA5mgJ/IM4AoB+ISAIAFQABALgEpB6IciEvgB4DYBCIdkHRgmclHEg2AFgBA8gzAZhWgZhUg8gxgFgAgEg2ghhWgOIDiWBQCECcFwAgAgPgoAJaEAK4kBBA+CnARAIBwUoADT8ksS0gmaBcyO+WQ6WWRDAKoZJgpJCPUCxmeccj4qkimvx8AD94DmOJGggGEEtR8RV4iJCQkCNeA4WSDIwVCaxhVBX7GoAqEBIADAPaAAAAAAP8HAAAAAHDB6kBkwQAAcMEAAPBBCwQBAQEEKIk/PJM8BVhO87+BFQECVkFuAQJZSB4BAu9BDAECwEAPAAAAPQAAAA==",
        "encoding": "base64",
        "path": [
         "scene_gW6vQUZ1Ye9ackarn8FVyaIcK",
         "drc"
        ]
       },
       {
        "data": "RFJBQ08CAgEBAAAAXLQBAbMBAAAtX9u2rWpLVVVVqVZLVVWValVLVVWpVlVLVZVqVVVLValWVVVLlWpVVVVLqQIKAQEQ/wL2XgL/AAEAAQABAAkDAAACAQICAwABAQQBAQAMF70JGQIZEkkfGQK0F5BpXg4ZDy4i6U1F6DUqASfbu9LJXuhPPV9wGXiWA7CIwSF5fAbguxAAqaACwEN3TOpyAHbGGYURAADxUQA2TwF8lQpgZzkAa54CwJIQQDbr3KMLAVD3JAAYggVAEg1AnBTAIzQAeeYCyDG3V3EAxZkknAOw2iPpgGwCQABALgGbVYArCQFsJAWAmm0AO80BYPW0F7OEo4ynygGd0/MVAIDwUYCaVQApBy4CACAdTA5mgJ7IM4AoB+ISAIADQABALgEpB6IciEvgB4DYBCIdkHRgmQlIEg2AFgBA8gzAZhWgZhUg8gxgFgAgEg2ghhWgOIDiWBQCECcFwAgAgPgoAJaEAK4kBBA+CnARAIBwUoADT8ksS0gmaBcyO+WQ6WWRDAKoZJgpJCPUCxmeccj4qkjmYxsAD80E+JVhgIIBghKAi7WWlZWVlT/nxIZww04Nt20YVQV+xqAKhASAA4D0gAAAAAD/BwAAAABAwVSaNsEAAEDBAADAQQsEAQEBBG6JPzz/qzwFWF3kv4EVAQJWQW4BAllIHgEC70EMAQLAQHEAAADzAAAA",
        "encoding": "base64",
        "path": [
         "scene_a98MmwnybVt7rnAL26nxPrM3R",
         "drc"
        ]
       },
       {
        "data": "RFJBQ08CAgEBAAAAXLQBAbMBAAAtX9u2rWpLVVVVqVZLVVWValVLVVWpVlVLVZVqVVVLValWVVVLlWpVVVVLqQIKAQEQ/wL2XgL/AAEAAQABAAkDAAACAQICAwABAQQBAQAMF70JGQIZEkkfGQK0F5BpXg4ZDy4i6U1F6DUqASfbu9LJXuhPPV9wGXiWA7CIwSF5fAbguxAAqaACwEN3TOpyAHbGGYURAADxUQA2TwF8lQpgZzkAa54CwJIQQDbr3KMLAVD3JAAYggVAEg1AnBTAIzQAeeYCyDG3V3EAxZkknAOw2iPpgGwCQABALgGbVYArCQFsJAWAmm0AO80BYPW0F7OEo4ynygGd0/MVAIDwUYCaVQApBy4CACAdTA5mgJ7IM4AoB+ISAIADQABALgEpB6IciEvgB4DYBCIdkHRgmQlIEg2AFgBA8gzAZhWgZhUg8gxgFgAgEg2ghhWgOIDiWBQCECcFwAgAgPgoAJaEAK4kBBA+CnARAIBwUoADT8ksS0gmaBcyO+WQ6WWRDAKoZJgpJCPUCxmeccj4qkjmYxsAD80E+JVhgIIBghKAi7WWlZWVlT/nxIZww04Nt20YVQV+xqAKhASAA4D0gAAAAAD/BwAAAACgwEYrmMAAAKDAAAAgQQsEAQEBBDSJPzzDPAVY6KCzgRUBAlZBbgECWUgeAQLvQQwBAsBAFAAAAFgAAAA=",
        "encoding": "base64",
        "path": [
         "scene_uCJlTSvcoJcIIaVuI7V5kYudA",
         "drc"
        ]
       },
       {
        "data": "RFJBQ08CAgEBAAAAXLQBAbMBAAAtX9u2rWpLVVVVqVZLVVWValVLVVWpVlVLVZVqVVVLValWVVVLlWpVVVVLqQIKAQEQ/wL2XgL/AAEAAQABAAkDAAACAQICAwABAQQBAQAMF70JGQIZEkkfGQK0F5BpXg4ZDy4i6U1F6DUqASfbu9LJXuhPPV9wGXiWA7CIwSF5fAbguxAAqaACwEN3TOpyAHbGGYURAADxUQA2TwF8lQpgZzkAa54CwJIQQDbr3KMLAVD3JAAYggVAEg1AnBTAIzQAeeYCyDG3V3EAxZkknAOw2iPpgGwCQABALgGbVYArCQFsJAWAmm0AO80BYPW0F7OEo4ynygGd0/MVAIDwUYCaVQApBy4CACAdTA5mgJ7IM4AoB+ISAIADQABALgEpB6IciEvgB4DYBCIdkHRgmQlIEg2AFgBA8gzAZhWgZhUg8gxgFgAgEg2ghhWgOIDiWBQCECcFwAgAgPgoAJaEAK4kBBA+CnARAIBwUoADT8ksS0gmaBcyO+WQ6WWRDAKoZJgpJCPUCxmeccj4qkjmYxsAD80E+JVhgIIBghKAi7WWlZWVlT/nxIZww04Nt20YVQV+xqAKhASAA4D0gAAAAAD/BwAAAABAwVSaNsEAAEDBAADAQQsEAQEBBBuJPzxfPAVYTvO/gRUBAlZBbgECWUgeAQLvQQwBAsBATAAAAPUAAAA=",
        "encoding": "base64",
        "path": [
         "scene_QTtH0YMVau1w3NiP7lWneqKKR",
         "drc"
        ]
       },
       {
        "data": "RFJBQ08CAgEBAAAAXLQBAbMBAAAtX9u2rWpLVVVVqVZLVVWValVLVVWpVlVLVZVqVVVLValWVVVLlWpVVVVLqQIKAQEQ/wL2XgL/AAEAAQABAAkDAAACAQICAwABAQQBAQAMF70JGQIZEkkfGQK0F5BpXg4ZDy4i6U1F6DUqASfbu9LJXuhPPV9wGXiWA7CIwSF5fAbguxAAqaACwEN3TOpyAHbGGYURAADxUQA2TwF8lQpgZzkAa54CwJIQQDbr3KMLAVD3JAAYggVAEg1AnBTAIzQAeeYCyDG3V3EAxZkknAOw2iPpgGwCQABALgGbVYArCQFsJAWAmm0AO80BYPW0F7OEo4ynygGd0/MVAIDwUYCaVQApBy4CACAdTA5mgJ7IM4AoB+ISAIADQABALgEpB6IciEvgB4DYBCIdkHRgmQlIEg2AFgBA8gzAZhWgZhUg8gxgFgAgEg2ghhWgOIDiWBQCECcFwAgAgPgoAJaEAK4kBBA+CnARAIBwUoADT8ksS0gmaBcyO+WQ6WWRDAKoZJgpJCPUCxmeccj4qkjmYxsAD80E+JVhgIIBghKAi7WWlZWVlT/nxIZww04Nt20YVQV+xqAKhASAA4D0gAAAAAD/BwAAAAAQwb/zCMEAABDBAACQQQsEAQEBBALFPzwEB/1vgBUBAlZBbgECWUgeAQLvQQwBAsBAbQAAAPMAAAA=",
        "encoding": "base64",
        "path": [
         "scene_HDXAZRWmk6YmMqoKh51Xq3udG",
         "drc"
        ]
       },
       {
        "data": "RFJBQ08CAgEBAAAAXLQBAbMBAAAtX9u2rWpLVVVVqVZLVVWValVLVVWpVlVLVZVqVVVLValWVVVLlWpVVVVLqQIKAQEQ/wL2XgL/AAEAAQABAAkDAAACAQICAwABAQQBAQAMF70JGQIZEkkfGQK0F5BpXg4ZDy4i6U1F6DUqASfbu9LJXuhPPV9wGXiWA7CIwSF5fAbguxAAqaACwEN3TOpyAHbGGYURAADxUQA2TwF8lQpgZzkAa54CwJIQQDbr3KMLAVD3JAAYggVAEg1AnBTAIzQAeeYCyDG3V3EAxZkknAOw2iPpgGwCQABALgGbVYArCQFsJAWAmm0AO80BYPW0F7OEo4ynygGd0/MVAIDwUYCaVQApBy4CACAdTA5mgJ7IM4AoB+ISAIADQABALgEpB6IciEvgB4DYBCIdkHRgmQlIEg2AFgBA8gzAZhWgZhUg8gxgFgAgEg2ghhWgOIDiWBQCECcFwAgAgPgoAJaEAK4kBBA+CnARAIBwUoADT8ksS0gmaBcyO+WQ6WWRDAKoZJgpJCPUCxmeccj4qkjmYxsAD80E+JVhgIIBghKAi7WWlZWVlT/nxIZww04Nt20YVQV+xqAKhASAA4D0gAAAAAD/BwAAAACgwEYrmMAAAKDAAAAgQQsEAQEBBBOJPzw/PAVYTvO/gRUBAlZBbgECWUgeAQLvQQwBAsBAQgAAAOYAAAA=",
        "encoding": "base64",
        "path": [
         "scene_Bj6ANOzFZfrgJOeJ79YYZHPsU",
         "drc"
        ]
       },
       {
        "data": "RFJBQ08CAgEBAAAAXLQBAbMBAAAtX9u2rWpLVVVVqVZLVVWValVLVVWpVlVLVZVqVVVLValWVVVLlWpVVVVLqQIKAQEQ/wL2XgL/AAEAAQABAAkDAAACAQICAwABAQQBAQAMF70JGQIZEkkfGQK0F5BpXg4ZDy4i6U1F6DUqASfbu9LJXuhPPV9wGXiWA7CIwSF5fAbguxAAqaACwEN3TOpyAHbGGYURAADxUQA2TwF8lQpgZzkAa54CwJIQQDbr3KMLAVD3JAAYggVAEg1AnBTAIzQAeeYCyDG3V3EAxZkknAOw2iPpgGwCQABALgGbVYArCQFsJAWAmm0AO80BYPW0F7OEo4ynygGd0/MVAIDwUYCaVQApBy4CACAdTA5mgJ7IM4AoB+ISAIADQABALgEpB6IciEvgB4DYBCIdkHRgmQlIEg2AFgBA8gzAZhWgZhUg8gxgFgAgEg2ghhWgOIDiWBQCECcFwAgAgPgoAJaEAK4kBBA+CnARAIBwUoADT8ksS0gmaBcyO+WQ6WWRDAKoZJgpJCPUCxmeccj4qkjmYxsAD80E+JVhgIIBghKAi7WWlZWVlT/nxIZww04Nt20YVQV+xqAKhASAA4D0gAAAAAD/BwAAAAAAwXF488AAAADBAACAQQsEAQEBBGaJPzz/izwFWPeRs4EVAQJWQW4BAllIHgEC70EMAQLAQAMAAADNAAAA",
        "encoding": "base64",
        "path": [
         "scene_bL3w0WaCbIF5NBJTZyu5aqViY",
         "drc"
        ]
       },
       {
        "data": "RFJBQ08CAgEBAAAAXLQBAbMBAAAtX9u2rWpLVVVVqVZLVVWValVLVVWpVlVLVZVqVVVLValWVVVLlWpVVVVLqQIKAQEQ/wL2XgL/AAEAAQABAAkDAAACAQICAwABAQQBAQAMF70JGQIZEkkfGQK0F5BpXg4ZDy4i6U1F6DUqASfbu9LJXuhPPV9wGXiWA7CIwSF5fAbguxAAqaACwEN3TOpyAHbGGYURAADxUQA2TwF8lQpgZzkAa54CwJIQQDbr3KMLAVD3JAAYggVAEg1AnBTAIzQAeeYCyDG3V3EAxZkknAOw2iPpgGwCQABALgGbVYArCQFsJAWAmm0AO80BYPW0F7OEo4ynygGd0/MVAIDwUYCaVQApBy4CACAdTA5mgJ7IM4AoB+ISAIADQABALgEpB6IciEvgB4DYBCIdkHRgmQlIEg2AFgBA8gzAZhWgZhUg8gxgFgAgEg2ghhWgOIDiWBQCECcFwAgAgPgoAJaEAK4kBBA+CnARAIBwUoADT8ksS0gmaBcyO+WQ6WWRDAKoZJgpJCPUCxmeccj4qkjmYxsAD80E+JVhgIIBghKAi7WWlZWVlT/nxIZww04Nt20YVQV+xqAKhASAA4D0gAAAAAD/BwAAAACgwEYrmMAAAKDAAAAgQQsEAQEBBDuJPzzfPAVk6/6vgRUBAlZBbgECWUgeAQLvQQwBAsBApgAAAPgAAAA=",
        "encoding": "base64",
        "path": [
         "scene_9gQ4cOAy3Hjhvoh5wYebY6HgO",
         "drc"
        ]
       },
       {
        "data": "RFJBQ08CAgEBAAAAXLQBAbMBAAAtX9u2rWpLVVVVqVZLVVWValVLVVWpVlVLVZVqVVVLValWVVVLlWpVVVVLqQIKAQEQ/wL2XgL/AAEAAQABAAkDAAACAQICAwABAQQBAQAMF70JGQIZEkkfGQK0F5BpXg4ZDy4i6U1F6DUqASfbu9LJXuhPPV9wGXiWA7CIwSF5fAbguxAAT1kB0EN3TOpyAHbGGYURAADxUQA2TwF8lQpgZzkAa54CwJIQQDbr3KMLAVD3JAAYggVAEg1AnBTAIzQAO82NsdIdQHEAxclMzgGw+iPpgGwCQABALgGbVYArCQFsJAWAmm0AO80BUPW0F7OEo4ynygGd8/MVAIDwUYCaVQApBy4CACAdTA5mgJ/IM4AoB+ISAIAFQABALgEpB6IciEvgB4DYBCIdkHRgmclHEg2AFgBA8gzAZhWgZhUg8gxgFgAgEg2ghhWgOIDiWBQCECcFwAgAgPgoAJaEAK4kBBA+CnARAIBwUoADT8ksS0gmaBcyO+WQ6WWRDAKoZJgpJCPUCxmeccj4qkimvx8AD94DmOJGggGEEtR8RV4iJCQkCNeA4WSDIwVCaxhVBX7GoAqEBIADAPaAAAAAAP8HAAAAAGDBYwlVwQAAYMEAAOBBCwQBAQEEmwGJPzz//188BVhO87+BFQECVkFuAQJZSB4BAu9BDAECwEAFAAAA/AAAAA==",
        "encoding": "base64",
        "path": [
         "scene_8oRWJ9kAkJqjCLBkj0xbYjrLs",
         "drc"
        ]
       },
       {
        "data": "RFJBQ08CAgEBAAAAXLQBAbMBAAAtX9u2rWpLVVVVqVZLVVWValVLVVWpVlVLVZVqVVVLValWVVVLlWpVVVVLqQIKAQEQ/wL2XgL/AAEAAQABAAkDAAACAQICAwABAQQBAQAMF70JGQIZEkkfGQK0F5BpXg4ZDy4i6U1F6DUqASfbu9LJXuhPPV9wGXiWA7CIwSF5fAbguxAAqaACwEN3TOpyAHbGGYURAADxUQA2TwF8lQpgZzkAa54CwJIQQDbr3KMLAVD3JAAYggVAEg1AnBTAIzQAeeYCyDG3V3EAxZkknAOw2iPpgGwCQABALgGbVYArCQFsJAWAmm0AO80BYPW0F7OEo4ynygGd0/MVAIDwUYCaVQApBy4CACAdTA5mgJ7IM4AoB+ISAIADQABALgEpB6IciEvgB4DYBCIdkHRgmQlIEg2AFgBA8gzAZhWgZhUg8gxgFgAgEg2ghhWgOIDiWBQCECcFwAgAgPgoAJaEAK4kBBA+CnARAIBwUoADT8ksS0gmaBcyO+WQ6WWRDAKoZJgpJCPUCxmeccj4qkjmYxsAD80E+JVhgIIBghKAi7WWlZWVlT/nxIZww04Nt20YVQV+xqAKhASAA4D0gAAAAAD/BwAAAAAgwUYrGMEAACDBAACgQQsEAQEBBJABiT88//8zPAVY6KCzgRUBAlZBbgECWUgeAQLvQQwBAsBAUwAAAOsAAAA=",
        "encoding": "base64",
        "path": [
         "scene_3WuSxSp9n04jjVwrvnGNXDP8W",
         "drc"
        ]
       },
       {
        "data": "RFJBQ08CAgEBAAAAXLQBAbMBAAAtX9u2rWpLVVVVqVZLVVWValVLVVWpVlVLVZVqVVVLValWVVVLlWpVVVVLqQIKAQEQ/wL2XgL/AAEAAQABAAkDAAACAQICAwABAQQBAQAMF70JGQIZEkkfGQK0F5BpXg4ZDy4i6U1F6DUqASfbu9LJXuhPPV9wGXiWA7CIwSF5fAbguxAAT1kB0EN3TOpyAHbGGYURAADxUQA2TwF8lQpgZzkAa54CwJIQQDbr3KMLAVD3JAAYggVAEg1AnBTAIzQAO82NsdIdQHEAxclMzgGw+iPpgGwCQABALgGbVYArCQFsJAWAmm0AO80BUPW0F7OEo4ynygGd8/MVAIDwUYCaVQApBy4CACAdTA5mgJ/IM4AoB+ISAIAFQABALgEpB6IciEvgB4DYBCIdkHRgmclHEg2AFgBA8gzAZhWgZhUg8gxgFgAgEg2ghhWgOIDiWBQCECcFwAgAgPgoAJaEAK4kBBA+CnARAIBwUoADT8ksS0gmaBcyO+WQ6WWRDAKoZJgpJCPUCxmeccj4qkimvx8AD94DmOJGggGEEtR8RV4iJCQkCNeA4WSDIwVCaxhVBX7GoAqEBIADAPaAAAAAAP8HAAAAAODAYwnVwAAA4MAAAGBBCwQBAQEEaIk/PP+TPAVY95GzgRUBAlZBbgECWUgeAQLvQQwBAsBAIAAAAM4AAAA=",
        "encoding": "base64",
        "path": [
         "scene_eSFn5RUrwtjEAwWenyTj5wPYx",
         "drc"
        ]
       },
       {
        "data": "RFJBQ08CAgEBAAAAXLQBAbMBAAAtX9u2rWpLVVVVqVZLVVWValVLVVWpVlVLVZVqVVVLValWVVVLlWpVVVVLqQIKAQEQ/wL2XgL/AAEAAQABAAkDAAACAQICAwABAQQBAQAMF70JGQIZEkkfGQK0F5BpXg4ZDy4i6U1F6DUqASfbu9LJXuhPPV9wGXiWA7CIwSF5fAbguxAAqaACwEN3TOpyAHbGGYURAADxUQA2TwF8lQpgZzkAa54CwJIQQDbr3KMLAVD3JAAYggVAEg1AnBTAIzQAeeYCyDG3V3EAxZkknAOw2iPpgGwCQABALgGbVYArCQFsJAWAmm0AO80BYPW0F7OEo4ynygGd0/MVAIDwUYCaVQApBy4CACAdTA5mgJ7IM4AoB+ISAIADQABALgEpB6IciEvgB4DYBCIdkHRgmQlIEg2AFgBA8gzAZhWgZhUg8gxgFgAgEg2ghhWgOIDiWBQCECcFwAgAgPgoAJaEAK4kBBA+CnARAIBwUoADT8ksS0gmaBcyO+WQ6WWRDAKoZJgpJCPUCxmeccj4qkjmYxsAD80E+JVhgIIBghKAi7WWlZWVlT/nxIZww04Nt20YVQV+xqAKhASAA4D0gAAAAAD/BwAAAACIwfxXgcEAAIjBAAAIQgsEAQEBBAyJPzwjPAVY95GzgRUBAlZBbgECWUgeAQLvQQwBAsBAwAAAANgAAAA=",
        "encoding": "base64",
        "path": [
         "scene_DvTZFEyJuNpCU2w2qbD7zrdjP",
         "drc"
        ]
       },
       {
        "data": "RFJBQ08CAgEBAAAAXLQBAbMBAAAtX9u2rWpLVVVVqVZLVVWValVLVVWpVlVLVZVqVVVLValWVVVLlWpVVVVLqQIKAQEQ/wL2XgL/AAEAAQABAAkDAAACAQICAwABAQQBAQAMF70JGQIZEkkfGQK0F5BpXg4ZDy4i6U1F6DUqASfbu9LJXuhPPV9wGXiWA7CIwSF5fAbguxAAqaACwEN3TOpyAHbGGYURAADxUQA2TwF8lQpgZzkAa54CwJIQQDbr3KMLAVD3JAAYggVAEg1AnBTAIzQAeeYCyDG3V3EAxZkknAOw2iPpgGwCQABALgGbVYArCQFsJAWAmm0AO80BYPW0F7OEo4ynygGd0/MVAIDwUYCaVQApBy4CACAdTA5mgJ7IM4AoB+ISAIADQABALgEpB6IciEvgB4DYBCIdkHRgmQlIEg2AFgBA8gzAZhWgZhUg8gxgFgAgEg2ghhWgOIDiWBQCECcFwAgAgPgoAJaEAK4kBBA+CnARAIBwUoADT8ksS0gmaBcyO+WQ6WWRDAKoZJgpJCPUCxmeccj4qkjmYxsAD80E+JVhgIIBghKAi7WWlZWVlT/nxIZww04Nt20YVQV+xqAKhASAA4D0gAAAAAD/BwAAAACAwXF4c8EAAIDBAAAAQgsEAQEBBA+JPzwvPAVYTvO/gRUBAlZBbgECWUgeAQLvQQwBAsBAEwAAAF8AAAA=",
        "encoding": "base64",
        "path": [
         "scene_ng8gaqjyuklnhxjqtgR2PLGLx",
         "drc"
        ]
       },
       {
        "data": "RFJBQ08CAgEBAAAAXLQBAbMBAAAtX9u2rWpLVVVVqVZLVVWValVLVVWpVlVLVZVqVVVLValWVVVLlWpVVVVLqQIKAQEQ/wL2XgL/AAEAAQABAAkDAAACAQICAwABAQQBAQAMF70JGQIZEkkfGQK0F5BpXg4ZDy4i6U1F6DUqASfbu9LJXuhPPV9wGXiWA7CIwSF5fAbguxAAqaACwEN3TOpyAHbGGYURAADxUQA2TwF8lQpgZzkAa54CwJIQQDbr3KMLAVD3JAAYggVAEg1AnBTAIzQAeeYCyDG3V3EAxZkknAOw2iPpgGwCQABALgGbVYArCQFsJAWAmm0AO80BYPW0F7OEo4ynygGd0/MVAIDwUYCaVQApBy4CACAdTA5mgJ7IM4AoB+ISAIADQABALgEpB6IciEvgB4DYBCIdkHRgmQlIEg2AFgBA8gzAZhWgZhUg8gxgFgAgEg2ghhWgOIDiWBQCECcFwAgAgPgoAJaEAK4kBBA+CnARAIBwUoADT8ksS0gmaBcyO+WQ6WWRDAKoZJgpJCPUCxmeccj4qkjmYxsAD80E+JVhgIIBghKAi7WWlZWVlT/nxIZww04Nt20YVQV+xqAKhASAA4D0gAAAAAD/BwAAAAAAwHF4878AAADAAACAQAsEAQEBBC2JPzynPAVY6KCzgRUBAlZBbgECWUgeAQLvQQwBAsBAHAAAAFAAAAA=",
        "encoding": "base64",
        "path": [
         "scene_J4kdQfbDYgvkzAxXxvKEw5FbS",
         "drc"
        ]
       },
       {
        "data": "RFJBQ08CAgEBAAAAXLQBAbMBAAAtX9u2rWpLVVVVqVZLVVWValVLVVWpVlVLVZVqVVVLValWVVVLlWpVVVVLqQIKAQEQ/wL2XgL/AAEAAQABAAkDAAACAQICAwABAQQBAQAMF70JGQIZEkkfGQK0F5BpXg4ZDy4i6U1F6DUqASfbu9LJXuhPPV9wGXiWA7CIwSF5fAbguxAAT1kB0EN3TOpyAHbGGYURAADxUQA2TwF8lQpgZzkAa54CwJIQQDbr3KMLAVD3JAAYggVAEg1AnBTAIzQAO82NsdIdQHEAxclMzgGw+iPpgGwCQABALgGbVYArCQFsJAWAmm0AO80BUPW0F7OEo4ynygGd8/MVAIDwUYCaVQApBy4CACAdTA5mgJ/IM4AoB+ISAIAFQABALgEpB6IciEvgB4DYBCIdkHRgmclHEg2AFgBA8gzAZhWgZhUg8gxgFgAgEg2ghhWgOIDiWBQCECcFwAgAgPgoAJaEAK4kBBA+CnARAIBwUoADT8ksS0gmaBcyO+WQ6WWRDAKoZJgpJCPUCxmeccj4qkimvx8AD94DmOJGggGEEtR8RV4iJCQkCNeA4WSDIwVCaxhVBX7GoAqEBIADAPaAAAAAAP8HAAAAAGDBYwlVwQAAYMEAAOBBCwQBAQEEKok/PJs8BVhO87+BFQECVkFuAQJZSB4BAu9BDAECwEARAAAAvwAAAA==",
        "encoding": "base64",
        "path": [
         "scene_s0CRmUV5ZmlHPIZhMdE68Qblz",
         "drc"
        ]
       },
       {
        "data": "RFJBQ08CAgEBAAAAXLQBAbMBAAAtX9u2rWpLVVVVqVZLVVWValVLVVWpVlVLVZVqVVVLValWVVVLlWpVVVVLqQIKAQEQ/wL2XgL/AAEAAQABAAkDAAACAQICAwABAQQBAQAMF70JGQIZEkkfGQK0F5BpXg4ZDy4i6U1F6DUqASfbu9LJXuhPPV9wGXiWA7CIwSF5fAbguxAAqaACwEN3TOpyAHbGGYURAADxUQA2TwF8lQpgZzkAa54CwJIQQDbr3KMLAVD3JAAYggVAEg1AnBTAIzQAeeYCyDG3V3EAxZkknAOw2iPpgGwCQABALgGbVYArCQFsJAWAmm0AO80BYPW0F7OEo4ynygGd0/MVAIDwUYCaVQApBy4CACAdTA5mgJ7IM4AoB+ISAIADQABALgEpB6IciEvgB4DYBCIdkHRgmQlIEg2AFgBA8gzAZhWgZhUg8gxgFgAgEg2ghhWgOIDiWBQCECcFwAgAgPgoAJaEAK4kBBA+CnARAIBwUoADT8ksS0gmaBcyO+WQ6WWRDAKoZJgpJCPUCxmeccj4qkjmYxsAD80E+JVhgIIBghKAi7WWlZWVlT/nxIZww04Nt20YVQV+xqAKhASAA4D0gAAAAAD/BwAAAAAAwHF4878AAADAAACAQAsEAQEBBHeJPzz/zzwFWOigs4EVAQJWQW4BAllIHgEC70EMAQLAQBsAAAD7AAAA",
        "encoding": "base64",
        "path": [
         "scene_kmUAl9J5Gkvab0oW1U2Tfilwg",
         "drc"
        ]
       },
       {
        "data": "RFJBQ08CAgEBAAAAXLQBAbMBAAAtX9u2rWpLVVVVqVZLVVWValVLVVWpVlVLVZVqVVVLValWVVVLlWpVVVVLqQIKAQEQ/wL2XgL/AAEAAQABAAkDAAACAQICAwABAQQBAQAMF70JGQIZEkkfGQK0F5BpXg4ZDy4i6U1F6DUqASfbu9LJXuhPPV9wGXiWA7CIwSF5fAbguxAAqaACwEN3TOpyAHbGGYURAADxUQA2TwF8lQpgZzkAa54CwJIQQDbr3KMLAVD3JAAYggVAEg1AnBTAIzQAeeYCyDG3V3EAxZkknAOw2iPpgGwCQABALgGbVYArCQFsJAWAmm0AO80BYPW0F7OEo4ynygGd0/MVAIDwUYCaVQApBy4CACAdTA5mgJ7IM4AoB+ISAIADQABALgEpB6IciEvgB4DYBCIdkHRgmQlIEg2AFgBA8gzAZhWgZhUg8gxgFgAgEg2ghhWgOIDiWBQCECcFwAgAgPgoAJaEAK4kBBA+CnARAIBwUoADT8ksS0gmaBcyO+WQ6WWRDAKoZJgpJCPUCxmeccj4qkjmYxsAD80E+JVhgIIBghKAi7WWlZWVlT/nxIZww04Nt20YVQV+xqAKhASAA4D0gAAAAAD/BwAAAAAAwHF4878AAADAAACAQAsEAQEBBKUBiT88//+HPAVk6/6vgRUBAlZBbgECWUgeAQLvQQwBAsBATwAAAPcAAAA=",
        "encoding": "base64",
        "path": [
         "scene_vwK1QpoMTa3ERmVeIDk9TzezZ",
         "drc"
        ]
       },
       {
        "data": "RFJBQ08CAgEBAAAAXLQBAbMBAAAtX9u2rWpLVVVVqVZLVVWValVLVVWpVlVLVZVqVVVLValWVVVLlWpVVVVLqQIKAQEQ/wL2XgL/AAEAAQABAAkDAAACAQICAwABAQQBAQAMF70JGQIZEkkfGQK0F5BpXg4ZDy4i6U1F6DUqASfbu9LJXuhPPV9wGXiWA7CIwSF5fAbguxAAqaACwEN3TOpyAHbGGYURAADxUQA2TwF8lQpgZzkAa54CwJIQQDbr3KMLAVD3JAAYggVAEg1AnBTAIzQAeeYCyDG3V3EAxZkknAOw2iPpgGwCQABALgGbVYArCQFsJAWAmm0AO80BYPW0F7OEo4ynygGd0/MVAIDwUYCaVQApBy4CACAdTA5mgJ7IM4AoB+ISAIADQABALgEpB6IciEvgB4DYBCIdkHRgmQlIEg2AFgBA8gzAZhWgZhUg8gxgFgAgEg2ghhWgOIDiWBQCECcFwAgAgPgoAJaEAK4kBBA+CnARAIBwUoADT8ksS0gmaBcyO+WQ6WWRDAKoZJgpJCPUCxmeccj4qkjmYxsAD80E+JVhgIIBghKAi7WWlZWVlT/nxIZww04Nt20YVQV+xqAKhASAA4D0gAAAAAD/BwAAAACAwHF4c8AAAIDAAAAAQQsEAQEBBFWJPzz/RzwFWE7zv4EVAQJWQW4BAllIHgEC70EMAQLAQI4AAADyAAAA",
        "encoding": "base64",
        "path": [
         "scene_DOf8PLwOkDwaSnxuGPBEcpYSA",
         "drc"
        ]
       },
       {
        "data": "RFJBQ08CAgEBAAAAXLQBAbMBAAAtX9u2rWpLVVVVqVZLVVWValVLVVWpVlVLVZVqVVVLValWVVVLlWpVVVVLqQIKAQEQ/wL2XgL/AAEAAQABAAkDAAACAQICAwABAQQBAQAMF70JGQIZEkkfGQK0F5BpXg4ZDy4i6U1F6DUqASfbu9LJXuhPPV9wGXiWA7CIwSF5fAbguxAAqaACwEN3TOpyAHbGGYURAADxUQA2TwF8lQpgZzkAa54CwJIQQDbr3KMLAVD3JAAYggVAEg1AnBTAIzQAeeYCyDG3V3EAxZkknAOw2iPpgGwCQABALgGbVYArCQFsJAWAmm0AO80BYPW0F7OEo4ynygGd0/MVAIDwUYCaVQApBy4CACAdTA5mgJ7IM4AoB+ISAIADQABALgEpB6IciEvgB4DYBCIdkHRgmQlIEg2AFgBA8gzAZhWgZhUg8gxgFgAgEg2ghhWgOIDiWBQCECcFwAgAgPgoAJaEAK4kBBA+CnARAIBwUoADT8ksS0gmaBcyO+WQ6WWRDAKoZJgpJCPUCxmeccj4qkjmYxsAD80E+JVhgIIBghKAi7WWlZWVlT/nxIZww04Nt20YVQV+xqAKhASAA4D0gAAAAAD/BwAAAAAgwUYrGMEAACDBAACgQQsEAQEBBCiJPzyTPAVY95GzgRUBAlZBbgECWUgeAQLvQQwBAsBAhgAAANwAAAA=",
        "encoding": "base64",
        "path": [
         "scene_0lToIv8pKkAyXFPgw0ta75Tdf",
         "drc"
        ]
       },
       {
        "data": "RFJBQ08CAgEBAAAAXLQBAbMBAAAtX9u2rWpLVVVVqVZLVVWValVLVVWpVlVLVZVqVVVLValWVVVLlWpVVVVLqQIKAQEQ/wL2XgL/AAEAAQABAAkDAAACAQICAwABAQQBAQAMF70JGQIZEkkfGQK0F5BpXg4ZDy4i6U1F6DUqASfbu9LJXuhPPV9wGXiWA7CIwSF5fAbguxAAqaACwEN3TOpyAHbGGYURAADxUQA2TwF8lQpgZzkAa54CwJIQQDbr3KMLAVD3JAAYggVAEg1AnBTAIzQAeeYCyDG3V3EAxZkknAOw2iPpgGwCQABALgGbVYArCQFsJAWAmm0AO80BYPW0F7OEo4ynygGd0/MVAIDwUYCaVQApBy4CACAdTA5mgJ7IM4AoB+ISAIADQABALgEpB6IciEvgB4DYBCIdkHRgmQlIEg2AFgBA8gzAZhWgZhUg8gxgFgAgEg2ghhWgOIDiWBQCECcFwAgAgPgoAJaEAK4kBBA+CnARAIBwUoADT8ksS0gmaBcyO+WQ6WWRDAKoZJgpJCPUCxmeccj4qkjmYxsAD80E+JVhgIIBghKAi7WWlZWVlT/nxIZww04Nt20YVQV+xqAKhASAA4D0gAAAAAD/BwAAAAAAwXF488AAAADBAACAQQsEAQEBBEmJPzz/FzwFWOigs4EVAQJWQW4BAllIHgEC70EMAQLAQGYAAACxAAAA",
        "encoding": "base64",
        "path": [
         "scene_lwax9dNCrIqhYXgYDOJyG0P4g",
         "drc"
        ]
       },
       {
        "data": "RFJBQ08CAgEBAAAAXLQBAbMBAAAtX9u2rWpLVVVVqVZLVVWValVLVVWpVlVLVZVqVVVLValWVVVLlWpVVVVLqQIKAQEQ/wL2XgL/AAEAAQABAAkDAAACAQICAwABAQQBAQAMF70JGQIZEkkfGQK0F5BpXg4ZDy4i6U1F6DUqASfbu9LJXuhPPV9wGXiWA7CIwSF5fAbguxAAqaACwEN3TOpyAHbGGYURAADxUQA2TwF8lQpgZzkAa54CwJIQQDbr3KMLAVD3JAAYggVAEg1AnBTAIzQAeeYCyDG3V3EAxZkknAOw2iPpgGwCQABALgGbVYArCQFsJAWAmm0AO80BYPW0F7OEo4ynygGd0/MVAIDwUYCaVQApBy4CACAdTA5mgJ7IM4AoB+ISAIADQABALgEpB6IciEvgB4DYBCIdkHRgmQlIEg2AFgBA8gzAZhWgZhUg8gxgFgAgEg2ghhWgOIDiWBQCECcFwAgAgPgoAJaEAK4kBBA+CnARAIBwUoADT8ksS0gmaBcyO+WQ6WWRDAKoZJgpJCPUCxmeccj4qkjmYxsAD80E+JVhgIIBghKAi7WWlZWVlT/nxIZww04Nt20YVQV+xqAKhASAA4D0gAAAAAD/BwAAAACYwYOPkMEAAJjBAAAYQgsEAQEBBDCJPzyzPAVYXeS/gRUBAlZBbgECWUgeAQLvQQwBAsBAUAAAAMoAAAA=",
        "encoding": "base64",
        "path": [
         "scene_G03qtRdpOSwLOYeN7b41GngqY",
         "drc"
        ]
       },
       {
        "data": "RFJBQ08CAgEBAAAAXLQBAbMBAAAtX9u2rWpLVVVVqVZLVVWValVLVVWpVlVLVZVqVVVLValWVVVLlWpVVVVLqQIKAQEQ/wL2XgL/AAEAAQABAAkDAAACAQICAwABAQQBAQAMF70JGQIZEkkfGQK0F5BpXg4ZDy4i6U1F6DUqASfbu9LJXuhPPV9wGXiWA7CIwSF5fAbguxAAqaACwEN3TOpyAHbGGYURAADxUQA2TwF8lQpgZzkAa54CwJIQQDbr3KMLAVD3JAAYggVAEg1AnBTAIzQAeeYCyDG3V3EAxZkknAOw2iPpgGwCQABALgGbVYArCQFsJAWAmm0AO80BYPW0F7OEo4ynygGd0/MVAIDwUYCaVQApBy4CACAdTA5mgJ7IM4AoB+ISAIADQABALgEpB6IciEvgB4DYBCIdkHRgmQlIEg2AFgBA8gzAZhWgZhUg8gxgFgAgEg2ghhWgOIDiWBQCECcFwAgAgPgoAJaEAK4kBBA+CnARAIBwUoADT8ksS0gmaBcyO+WQ6WWRDAKoZJgpJCPUCxmeccj4qkjmYxsAD80E+JVhgIIBghKAi7WWlZWVlT/nxIZww04Nt20YVQV+xqAKhASAA4D0gAAAAAD/BwAAAABAwVSaNsEAAEDBAADAQQsEAQEBBBaJPzxLPAVY6KCzgRUBAlZBbgECWUgeAQLvQQwBAsBAqwAAANAAAAA=",
        "encoding": "base64",
        "path": [
         "scene_57r3o9WNtJti1peJl0FXBknbu",
         "drc"
        ]
       },
       {
        "data": "RFJBQ08CAgEBAAAAXLQBAbMBAAAtX9u2rWpLVVVVqVZLVVWValVLVVWpVlVLVZVqVVVLValWVVVLlWpVVVVLqQIKAQEQ/wL2XgL/AAEAAQABAAkDAAACAQICAwABAQQBAQAMF70JGQIZEkkfGQK0F5BpXg4ZDy4i6U1F6DUqASfbu9LJXuhPPV9wGXiWA7CIwSF5fAbguxAAqaACwEN3TOpyAHbGGYURAADxUQA2TwF8lQpgZzkAa54CwJIQQDbr3KMLAVD3JAAYggVAEg1AnBTAIzQAeeYCyDG3V3EAxZkknAOw2iPpgGwCQABALgGbVYArCQFsJAWAmm0AO80BYPW0F7OEo4ynygGd0/MVAIDwUYCaVQApBy4CACAdTA5mgJ7IM4AoB+ISAIADQABALgEpB6IciEvgB4DYBCIdkHRgmQlIEg2AFgBA8gzAZhWgZhUg8gxgFgAgEg2ghhWgOIDiWBQCECcFwAgAgPgoAJaEAK4kBBA+CnARAIBwUoADT8ksS0gmaBcyO+WQ6WWRDAKoZJgpJCPUCxmeccj4qkjmYxsAD80E+JVhgIIBghKAi7WWlZWVlT/nxIZww04Nt20YVQV+xqAKhASAA4D0gAAAAAD/BwAAAACAwXF4c8EAAIDBAAAAQgsEAQEBBH6JPzz/6zwFWPeRs4EVAQJWQW4BAllIHgEC70EMAQLAQBgAAAC7AAAA",
        "encoding": "base64",
        "path": [
         "scene_Y0e8eTu8y9ygPMg2EyYLX5VE0",
         "drc"
        ]
       },
       {
        "data": "RFJBQ08CAgEBAAAAXLQBAbMBAAAtX9u2rWpLVVVVqVZLVVWValVLVVWpVlVLVZVqVVVLValWVVVLlWpVVVVLqQIKAQEQ/wL2XgL/AAEAAQABAAkDAAACAQICAwABAQQBAQAMF70JGQIZEkkfGQK0F5BpXg4ZDy4i6U1F6DUqASfbu9LJXuhPPV9wGXiWA7CIwSF5fAbguxAAT1kB0EN3TOpyAHbGGYURAADxUQA2TwF8lQpgZzkAa54CwJIQQDbr3KMLAVD3JAAYggVAEg1AnBTAIzQAO82NsdIdQHEAxclMzgGw+iPpgGwCQABALgGbVYArCQFsJAWAmm0AO80BUPW0F7OEo4ynygGd8/MVAIDwUYCaVQApBy4CACAdTA5mgJ/IM4AoB+ISAIAFQABALgEpB6IciEvgB4DYBCIdkHRgmclHEg2AFgBA8gzAZhWgZhUg8gxgFgAgEg2ghhWgOIDiWBQCECcFwAgAgPgoAJaEAK4kBBA+CnARAIBwUoADT8ksS0gmaBcyO+WQ6WWRDAKoZJgpJCPUCxmeccj4qkimvx8AD94DmOJGggGEEtR8RV4iJCQkCNeA4WSDIwVCaxhVBX7GoAqEBIADAPaAAAAAAP8HAAAAAODAYwnVwAAA4MAAAGBBCwQBAQEEPok/POs8BWT676+BFQECVkFuAQJZSB4BAu9BDAECwEA1AAAA7QAAAA==",
        "encoding": "base64",
        "path": [
         "scene_8JGHerUbgZ8Q3YVGBJhSSF2iJ",
         "drc"
        ]
       },
       {
        "data": "RFJBQ08CAgEBAAAAXLQBAbMBAAAtX9u2rWpLVVVVqVZLVVWValVLVVWpVlVLVZVqVVVLValWVVVLlWpVVVVLqQIKAQEQ/wL2XgL/AAEAAQABAAkDAAACAQICAwABAQQBAQAMF70JGQIZEkkfGQK0F5BpXg4ZDy4i6U1F6DUqASfbu9LJXuhPPV9wGXiWA7CIwSF5fAbguxAAT1kB0EN3TOpyAHbGGYURAADxUQA2TwF8lQpgZzkAa54CwJIQQDbr3KMLAVD3JAAYggVAEg1AnBTAIzQAO82NsdIdQHEAxclMzgGw+iPpgGwCQABALgGbVYArCQFsJAWAmm0AO80BUPW0F7OEo4ynygGd8/MVAIDwUYCaVQApBy4CACAdTA5mgJ/IM4AoB+ISAIAFQABALgEpB6IciEvgB4DYBCIdkHRgmclHEg2AFgBA8gzAZhWgZhUg8gxgFgAgEg2ghhWgOIDiWBQCECcFwAgAgPgoAJaEAK4kBBA+CnARAIBwUoADT8ksS0gmaBcyO+WQ6WWRDAKoZJgpJCPUCxmeccj4qkimvx8AD94DmOJGggGEEtR8RV4iJCQkCNeA4WSDIwVCaxhVBX7GoAqEBIADAPaAAAAAAP8HAAAAAHDB6kBkwQAAcMEAAPBBCwQBAQEEOYk/PNc8BWTr/q+BFQECVkFuAQJZSB4BAu9BDAECwEAgAAAAcQAAAA==",
        "encoding": "base64",
        "path": [
         "scene_NpiWKJvIXgI5tvCjxb1UyJGAg",
         "drc"
        ]
       },
       {
        "data": "RFJBQ08CAgEBAAAAXLQBAbMBAAAtX9u2rWpLVVVVqVZLVVWValVLVVWpVlVLVZVqVVVLValWVVVLlWpVVVVLqQIKAQEQ/wL2XgL/AAEAAQABAAkDAAACAQICAwABAQQBAQAMF70JGQIZEkkfGQK0F5BpXg4ZDy4i6U1F6DUqASfbu9LJXuhPPV9wGXiWA7CIwSF5fAbguxAAqaACwEN3TOpyAHbGGYURAADxUQA2TwF8lQpgZzkAa54CwJIQQDbr3KMLAVD3JAAYggVAEg1AnBTAIzQAeeYCyDG3V3EAxZkknAOw2iPpgGwCQABALgGbVYArCQFsJAWAmm0AO80BYPW0F7OEo4ynygGd0/MVAIDwUYCaVQApBy4CACAdTA5mgJ7IM4AoB+ISAIADQABALgEpB6IciEvgB4DYBCIdkHRgmQlIEg2AFgBA8gzAZhWgZhUg8gxgFgAgEg2ghhWgOIDiWBQCECcFwAgAgPgoAJaEAK4kBBA+CnARAIBwUoADT8ksS0gmaBcyO+WQ6WWRDAKoZJgpJCPUCxmeccj4qkjmYxsAD80E+JVhgIIBghKAi7WWlZWVlT/nxIZww04Nt20YVQV+xqAKhASAA4D0gAAAAAD/BwAAAABAwFSaNsAAAEDAAADAQAsEAQEBBC6JPzyrPAVYTvO/gRUBAlZBbgECWUgeAQLvQQwBAsBAGwAAAPEAAAA=",
        "encoding": "base64",
        "path": [
         "scene_ZqexpTaqQ8p4eHSDNSxTfIPR3",
         "drc"
        ]
       },
       {
        "data": "RFJBQ08CAgEBAAAAXLQBAbMBAAAtX9u2rWpLVVVVqVZLVVWValVLVVWpVlVLVZVqVVVLValWVVVLlWpVVVVLqQIKAQEQ/wL2XgL/AAEAAQABAAkDAAACAQICAwABAQQBAQAMF70JGQIZEkkfGQK0F5BpXg4ZDy4i6U1F6DUqASfbu9LJXuhPPV9wGXiWA7CIwSF5fAbguxAAT1kB0EN3TOpyAHbGGYURAADxUQA2TwF8lQpgZzkAa54CwJIQQDbr3KMLAVD3JAAYggVAEg1AnBTAIzQAO82NsdIdQHEAxclMzgGw+iPpgGwCQABALgGbVYArCQFsJAWAmm0AO80BUPW0F7OEo4ynygGd8/MVAIDwUYCaVQApBy4CACAdTA5mgJ/IM4AoB+ISAIAFQABALgEpB6IciEvgB4DYBCIdkHRgmclHEg2AFgBA8gzAZhWgZhUg8gxgFgAgEg2ghhWgOIDiWBQCECcFwAgAgPgoAJaEAK4kBBA+CnARAIBwUoADT8ksS0gmaBcyO+WQ6WWRDAKoZJgpJCPUCxmeccj4qkimvx8AD94DmOJGggGEEtR8RV4iJCQkCNeA4WSDIwVCaxhVBX7GoAqEBIADAPaAAAAAAP8HAAAAAHDB6kBkwQAAcMEAAPBBCwQBAQEEBok/PAs8BVj3kbOBFQECVkFuAQJZSB4BAu9BDAECwEDcAAAA4gAAAA==",
        "encoding": "base64",
        "path": [
         "scene_TgWeeJHf26nWTuu8wxo6AveWy",
         "drc"
        ]
       },
       {
        "data": "RFJBQ08CAgEBAAAAXLQBAbMBAAAtX9u2rWpLVVVVqVZLVVWValVLVVWpVlVLVZVqVVVLValWVVVLlWpVVVVLqQIKAQEQ/wL2XgL/AAEAAQABAAkDAAACAQICAwABAQQBAQAMF70JGQIZEkkfGQK0F5BpXg4ZDy4i6U1F6DUqASfbu9LJXuhPPV9wGXiWA7CIwSF5fAbguxAAT1kB0EN3TOpyAHbGGYURAADxUQA2TwF8lQpgZzkAa54CwJIQQDbr3KMLAVD3JAAYggVAEg1AnBTAIzQAO82NsdIdQHEAxclMzgGw+iPpgGwCQABALgGbVYArCQFsJAWAmm0AO80BUPW0F7OEo4ynygGd8/MVAIDwUYCaVQApBy4CACAdTA5mgJ/IM4AoB+ISAIAFQABALgEpB6IciEvgB4DYBCIdkHRgmclHEg2AFgBA8gzAZhWgZhUg8gxgFgAgEg2ghhWgOIDiWBQCECcFwAgAgPgoAJaEAK4kBBA+CnARAIBwUoADT8ksS0gmaBcyO+WQ6WWRDAKoZJgpJCPUCxmeccj4qkimvx8AD94DmOJGggGEEtR8RV4iJCQkCNeA4WSDIwVCaxhVBX7GoAqEBIADAPaAAAAAAP8HAAAAAGDBYwlVwQAAYMEAAOBBCwQBAQEEK4k/PJ88BWTr/q+BFQECVkFuAQJZSB4BAu9BDAECwEB/AAAAvQAAAA==",
        "encoding": "base64",
        "path": [
         "scene_VxmbyrqqvanQWwtwXLHiWO4Lm",
         "drc"
        ]
       },
       {
        "data": "RFJBQ08CAgEBAAAAXLQBAbMBAAAtX9u2rWpLVVVVqVZLVVWValVLVVWpVlVLVZVqVVVLValWVVVLlWpVVVVLqQIKAQEQ/wL2XgL/AAEAAQABAAkDAAACAQICAwABAQQBAQAMF70JGQIZEkkfGQK0F5BpXg4ZDy4i6U1F6DUqASfbu9LJXuhPPV9wGXiWA7CIwSF5fAbguxAAqaACwEN3TOpyAHbGGYURAADxUQA2TwF8lQpgZzkAa54CwJIQQDbr3KMLAVD3JAAYggVAEg1AnBTAIzQAeeYCyDG3V3EAxZkknAOw2iPpgGwCQABALgGbVYArCQFsJAWAmm0AO80BYPW0F7OEo4ynygGd0/MVAIDwUYCaVQApBy4CACAdTA5mgJ7IM4AoB+ISAIADQABALgEpB6IciEvgB4DYBCIdkHRgmQlIEg2AFgBA8gzAZhWgZhUg8gxgFgAgEg2ghhWgOIDiWBQCECcFwAgAgPgoAJaEAK4kBBA+CnARAIBwUoADT8ksS0gmaBcyO+WQ6WWRDAKoZJgpJCPUCxmeccj4qkjmYxsAD80E+JVhgIIBghKAi7WWlZWVlT/nxIZww04Nt20YVQV+xqAKhASAA4D0gAAAAAD/BwAAAACIwfxXgcEAAIjBAAAIQgsEAQEBBL4BiT88///rPAVYXeS/gRUBAlZBbgECWUgeAQLvQQwBAsBACQAAAM8AAAA=",
        "encoding": "base64",
        "path": [
         "scene_YKNiOMoYqTQvFX7HBqBeoNg5C",
         "drc"
        ]
       },
       {
        "data": "RFJBQ08CAgEBAAAAXLQBAbMBAAAtX9u2rWpLVVVVqVZLVVWValVLVVWpVlVLVZVqVVVLValWVVVLlWpVVVVLqQIKAQEQ/wL2XgL/AAEAAQABAAkDAAACAQICAwABAQQBAQAMF70JGQIZEkkfGQK0F5BpXg4ZDy4i6U1F6DUqASfbu9LJXuhPPV9wGXiWA7CIwSF5fAbguxAAqaACwEN3TOpyAHbGGYURAADxUQA2TwF8lQpgZzkAa54CwJIQQDbr3KMLAVD3JAAYggVAEg1AnBTAIzQAeeYCyDG3V3EAxZkknAOw2iPpgGwCQABALgGbVYArCQFsJAWAmm0AO80BYPW0F7OEo4ynygGd0/MVAIDwUYCaVQApBy4CACAdTA5mgJ7IM4AoB+ISAIADQABALgEpB6IciEvgB4DYBCIdkHRgmQlIEg2AFgBA8gzAZhWgZhUg8gxgFgAgEg2ghhWgOIDiWBQCECcFwAgAgPgoAJaEAK4kBBA+CnARAIBwUoADT8ksS0gmaBcyO+WQ6WWRDAKoZJgpJCPUCxmeccj4qkjmYxsAD80E+JVhgIIBghKAi7WWlZWVlT/nxIZww04Nt20YVQV+xqAKhASAA4D0gAAAAAD/BwAAAACQwb/ziMEAAJDBAAAQQgsEAQEBBB2JPzxnPAVk+u+vgRUBAlZBbgECWUgeAQLvQQwBAsBAFgAAAOkAAAA=",
        "encoding": "base64",
        "path": [
         "scene_ovrr9LW2V0JSbovwImzPXLTdI",
         "drc"
        ]
       },
       {
        "data": "RFJBQ08CAgEBAAAAXLQBAbMBAAAtX9u2rWpLVVVVqVZLVVWValVLVVWpVlVLVZVqVVVLValWVVVLlWpVVVVLqQIKAQEQ/wL2XgL/AAEAAQABAAkDAAACAQICAwABAQQBAQAMF70JGQIZEkkfGQK0F5BpXg4ZDy4i6U1F6DUqASfbu9LJXuhPPV9wGXiWA7CIwSF5fAbguxAAqaACwEN3TOpyAHbGGYURAADxUQA2TwF8lQpgZzkAa54CwJIQQDbr3KMLAVD3JAAYggVAEg1AnBTAIzQAeeYCyDG3V3EAxZkknAOw2iPpgGwCQABALgGbVYArCQFsJAWAmm0AO80BYPW0F7OEo4ynygGd0/MVAIDwUYCaVQApBy4CACAdTA5mgJ7IM4AoB+ISAIADQABALgEpB6IciEvgB4DYBCIdkHRgmQlIEg2AFgBA8gzAZhWgZhUg8gxgFgAgEg2ghhWgOIDiWBQCECcFwAgAgPgoAJaEAK4kBBA+CnARAIBwUoADT8ksS0gmaBcyO+WQ6WWRDAKoZJgpJCPUCxmeccj4qkjmYxsAD80E+JVhgIIBghKAi7WWlZWVlT/nxIZww04Nt20YVQV+xqAKhASAA4D0gAAAAAD/BwAAAAAAwHF4878AAADAAACAQAsEAQEBBB2JPzxnPAVY95GzgRUBAlZBbgECWUgeAQLvQQwBAsBAbwAAAM0AAAA=",
        "encoding": "base64",
        "path": [
         "scene_aYhob2JWeijKum2Hdyu322Tyf",
         "drc"
        ]
       },
       {
        "data": "RFJBQ08CAgEBAAAAXLQBAbMBAAAtX9u2rWpLVVVVqVZLVVWValVLVVWpVlVLVZVqVVVLValWVVVLlWpVVVVLqQIKAQEQ/wL2XgL/AAEAAQABAAkDAAACAQICAwABAQQBAQAMF70JGQIZEkkfGQK0F5BpXg4ZDy4i6U1F6DUqASfbu9LJXuhPPV9wGXiWA7CIwSF5fAbguxAAqaACwEN3TOpyAHbGGYURAADxUQA2TwF8lQpgZzkAa54CwJIQQDbr3KMLAVD3JAAYggVAEg1AnBTAIzQAeeYCyDG3V3EAxZkknAOw2iPpgGwCQABALgGbVYArCQFsJAWAmm0AO80BYPW0F7OEo4ynygGd0/MVAIDwUYCaVQApBy4CACAdTA5mgJ7IM4AoB+ISAIADQABALgEpB6IciEvgB4DYBCIdkHRgmQlIEg2AFgBA8gzAZhWgZhUg8gxgFgAgEg2ghhWgOIDiWBQCECcFwAgAgPgoAJaEAK4kBBA+CnARAIBwUoADT8ksS0gmaBcyO+WQ6WWRDAKoZJgpJCPUCxmeccj4qkjmYxsAD80E+JVhgIIBghKAi7WWlZWVlT/nxIZww04Nt20YVQV+xqAKhASAA4D0gAAAAAD/BwAAAAAQwb/zCMEAABDBAACQQQsEAQEBBDWJPzzHPAVk6/6vgRUBAlZBbgECWUgeAQLvQQwBAsBATwAAANEAAAA=",
        "encoding": "base64",
        "path": [
         "scene_ldTC9QX4t617rCZmFdUp3n90L",
         "drc"
        ]
       },
       {
        "data": "RFJBQ08CAgEBAAAAXLQBAbMBAAAtX9u2rWpLVVVVqVZLVVWValVLVVWpVlVLVZVqVVVLValWVVVLlWpVVVVLqQIKAQEQ/wL2XgL/AAEAAQABAAkDAAACAQICAwABAQQBAQAMF70JGQIZEkkfGQK0F5BpXg4ZDy4i6U1F6DUqASfbu9LJXuhPPV9wGXiWA7CIwSF5fAbguxAAqaACwEN3TOpyAHbGGYURAADxUQA2TwF8lQpgZzkAa54CwJIQQDbr3KMLAVD3JAAYggVAEg1AnBTAIzQAeeYCyDG3V3EAxZkknAOw2iPpgGwCQABALgGbVYArCQFsJAWAmm0AO80BYPW0F7OEo4ynygGd0/MVAIDwUYCaVQApBy4CACAdTA5mgJ7IM4AoB+ISAIADQABALgEpB6IciEvgB4DYBCIdkHRgmQlIEg2AFgBA8gzAZhWgZhUg8gxgFgAgEg2ghhWgOIDiWBQCECcFwAgAgPgoAJaEAK4kBBA+CnARAIBwUoADT8ksS0gmaBcyO+WQ6WWRDAKoZJgpJCPUCxmeccj4qkjmYxsAD80E+JVhgIIBghKAi7WWlZWVlT/nxIZww04Nt20YVQV+xqAKhASAA4D0gAAAAAD/BwAAAAAAwHF4878AAADAAACAQAsEAQEBBBeJPzxPPAVY6KCzgRUBAlZBbgECWUgeAQLvQQwBAsBAhgAAANkAAAA=",
        "encoding": "base64",
        "path": [
         "scene_v9pMkxINa66eTfK5ikqzyJB9W",
         "drc"
        ]
       },
       {
        "data": "RFJBQ08CAgEBAAAAXLQBAbMBAAAtX9u2rWpLVVVVqVZLVVWValVLVVWpVlVLVZVqVVVLValWVVVLlWpVVVVLqQIKAQEQ/wL2XgL/AAEAAQABAAkDAAACAQICAwABAQQBAQAMF70JGQIZEkkfGQK0F5BpXg4ZDy4i6U1F6DUqASfbu9LJXuhPPV9wGXiWA7CIwSF5fAbguxAAqaACwEN3TOpyAHbGGYURAADxUQA2TwF8lQpgZzkAa54CwJIQQDbr3KMLAVD3JAAYggVAEg1AnBTAIzQAeeYCyDG3V3EAxZkknAOw2iPpgGwCQABALgGbVYArCQFsJAWAmm0AO80BYPW0F7OEo4ynygGd0/MVAIDwUYCaVQApBy4CACAdTA5mgJ7IM4AoB+ISAIADQABALgEpB6IciEvgB4DYBCIdkHRgmQlIEg2AFgBA8gzAZhWgZhUg8gxgFgAgEg2ghhWgOIDiWBQCECcFwAgAgPgoAJaEAK4kBBA+CnARAIBwUoADT8ksS0gmaBcyO+WQ6WWRDAKoZJgpJCPUCxmeccj4qkjmYxsAD80E+JVhgIIBghKAi7WWlZWVlT/nxIZww04Nt20YVQV+xqAKhASAA4D0gAAAAAD/BwAAAACQwb/ziMEAAJDBAAAQQgsEAQEBBASJPzwDPAVk6/6vgRUBAlZBbgECWUgeAQLvQQwBAsBAJwAAAEIAAAA=",
        "encoding": "base64",
        "path": [
         "scene_n5uiLF0GGoIWVY8tNZwuM0Fxc",
         "drc"
        ]
       },
       {
        "data": "RFJBQ08CAgEBAAAAXLQBAbMBAAAtX9u2rWpLVVVVqVZLVVWValVLVVWpVlVLVZVqVVVLValWVVVLlWpVVVVLqQIKAQEQ/wL2XgL/AAEAAQABAAkDAAACAQICAwABAQQBAQAMF70JGQIZEkkfGQK0F5BpXg4ZDy4i6U1F6DUqASfbu9LJXuhPPV9wGXiWA7CIwSF5fAbguxAAqaACwEN3TOpyAHbGGYURAADxUQA2TwF8lQpgZzkAa54CwJIQQDbr3KMLAVD3JAAYggVAEg1AnBTAIzQAeeYCyDG3V3EAxZkknAOw2iPpgGwCQABALgGbVYArCQFsJAWAmm0AO80BYPW0F7OEo4ynygGd0/MVAIDwUYCaVQApBy4CACAdTA5mgJ7IM4AoB+ISAIADQABALgEpB6IciEvgB4DYBCIdkHRgmQlIEg2AFgBA8gzAZhWgZhUg8gxgFgAgEg2ghhWgOIDiWBQCECcFwAgAgPgoAJaEAK4kBBA+CnARAIBwUoADT8ksS0gmaBcyO+WQ6WWRDAKoZJgpJCPUCxmeccj4qkjmYxsAD80E+JVhgIIBghKAi7WWlZWVlT/nxIZww04Nt20YVQV+xqAKhASAA4D0gAAAAAD/BwAAAACAv3F4c78AAIC/AAAAQAsEAQEBBCKJPzx7PAVY6KCzgRUBAlZBbgECWUgeAQLvQQwBAsBAGQAAAJ4AAAA=",
        "encoding": "base64",
        "path": [
         "scene_Sg3h7e832QAPIigb05OhTVWJo",
         "drc"
        ]
       },
       {
        "data": "RFJBQ08CAgEBAAAAXLQBAbMBAAAtX9u2rWpLVVVVqVZLVVWValVLVVWpVlVLVZVqVVVLValWVVVLlWpVVVVLqQIKAQEQ/wL2XgL/AAEAAQABAAkDAAACAQICAwABAQQBAQAMF70JGQIZEkkfGQK0F5BpXg4ZDy4i6U1F6DUqASfbu9LJXuhPPV9wGXiWA7CIwSF5fAbguxAAqaACwEN3TOpyAHbGGYURAADxUQA2TwF8lQpgZzkAa54CwJIQQDbr3KMLAVD3JAAYggVAEg1AnBTAIzQAeeYCyDG3V3EAxZkknAOw2iPpgGwCQABALgGbVYArCQFsJAWAmm0AO80BYPW0F7OEo4ynygGd0/MVAIDwUYCaVQApBy4CACAdTA5mgJ7IM4AoB+ISAIADQABALgEpB6IciEvgB4DYBCIdkHRgmQlIEg2AFgBA8gzAZhWgZhUg8gxgFgAgEg2ghhWgOIDiWBQCECcFwAgAgPgoAJaEAK4kBBA+CnARAIBwUoADT8ksS0gmaBcyO+WQ6WWRDAKoZJgpJCPUCxmeccj4qkjmYxsAD80E+JVhgIIBghKAi7WWlZWVlT/nxIZww04Nt20YVQV+xqAKhASAA4D0gAAAAAD/BwAAAAAgwUYrGMEAACDBAACgQQsEAQEBBFCJPzz/MzwFWF3kv4EVAQJWQW4BAllIHgEC70EMAQLAQIQAAADUAAAA",
        "encoding": "base64",
        "path": [
         "scene_2SMAurDUY0vua0ei6zHbxu2h0",
         "drc"
        ]
       },
       {
        "data": "RFJBQ08CAgEBAAAAXLQBAbMBAAAtX9u2rWpLVVVVqVZLVVWValVLVVWpVlVLVZVqVVVLValWVVVLlWpVVVVLqQIKAQEQ/wL2XgL/AAEAAQABAAkDAAACAQICAwABAQQBAQAMF70JGQIZEkkfGQK0F5BpXg4ZDy4i6U1F6DUqASfbu9LJXuhPPV9wGXiWA7CIwSF5fAbguxAAqaACwEN3TOpyAHbGGYURAADxUQA2TwF8lQpgZzkAa54CwJIQQDbr3KMLAVD3JAAYggVAEg1AnBTAIzQAeeYCyDG3V3EAxZkknAOw2iPpgGwCQABALgGbVYArCQFsJAWAmm0AO80BYPW0F7OEo4ynygGd0/MVAIDwUYCaVQApBy4CACAdTA5mgJ7IM4AoB+ISAIADQABALgEpB6IciEvgB4DYBCIdkHRgmQlIEg2AFgBA8gzAZhWgZhUg8gxgFgAgEg2ghhWgOIDiWBQCECcFwAgAgPgoAJaEAK4kBBA+CnARAIBwUoADT8ksS0gmaBcyO+WQ6WWRDAKoZJgpJCPUCxmeccj4qkjmYxsAD80E+JVhgIIBghKAi7WWlZWVlT/nxIZww04Nt20YVQV+xqAKhASAA4D0gAAAAAD/BwAAAACAwHF4c8AAAIDAAAAAQQsEAQEBBDiJPzzTPAVY95GzgRUBAlZBbgECWUgeAQLvQQwBAsBAEgAAAFMAAAA=",
        "encoding": "base64",
        "path": [
         "scene_vdSghNnmcmZxhf6MpbXKEdJaV",
         "drc"
        ]
       },
       {
        "data": "RFJBQ08CAgEBAAAAXLQBAbMBAAAtX9u2rWpLVVVVqVZLVVWValVLVVWpVlVLVZVqVVVLValWVVVLlWpVVVVLqQIKAQEQ/wL2XgL/AAEAAQABAAkDAAACAQICAwABAQQBAQAMF70JGQIZEkkfGQK0F5BpXg4ZDy4i6U1F6DUqASfbu9LJXuhPPV9wGXiWA7CIwSF5fAbguxAAqaACwEN3TOpyAHbGGYURAADxUQA2TwF8lQpgZzkAa54CwJIQQDbr3KMLAVD3JAAYggVAEg1AnBTAIzQAeeYCyDG3V3EAxZkknAOw2iPpgGwCQABALgGbVYArCQFsJAWAmm0AO80BYPW0F7OEo4ynygGd0/MVAIDwUYCaVQApBy4CACAdTA5mgJ7IM4AoB+ISAIADQABALgEpB6IciEvgB4DYBCIdkHRgmQlIEg2AFgBA8gzAZhWgZhUg8gxgFgAgEg2ghhWgOIDiWBQCECcFwAgAgPgoAJaEAK4kBBA+CnARAIBwUoADT8ksS0gmaBcyO+WQ6WWRDAKoZJgpJCPUCxmeccj4qkjmYxsAD80E+JVhgIIBghKAi7WWlZWVlT/nxIZww04Nt20YVQV+xqAKhASAA4D0gAAAAAD/BwAAAACAwXF4c8EAAIDBAAAAQgsEAQEBBBeJPzxPPAVk+u+vgRUBAlZBbgECWUgeAQLvQQwBAsBAZgAAANsAAAA=",
        "encoding": "base64",
        "path": [
         "scene_Xy0VDJZugonNkaIsiQVZbhZ7P",
         "drc"
        ]
       },
       {
        "data": "RFJBQ08CAgEBAAAAXLQBAbMBAAAtX9u2rWpLVVVVqVZLVVWValVLVVWpVlVLVZVqVVVLValWVVVLlWpVVVVLqQIKAQEQ/wL2XgL/AAEAAQABAAkDAAACAQICAwABAQQBAQAMF70JGQIZEkkfGQK0F5BpXg4ZDy4i6U1F6DUqASfbu9LJXuhPPV9wGXiWA7CIwSF5fAbguxAAqaACwEN3TOpyAHbGGYURAADxUQA2TwF8lQpgZzkAa54CwJIQQDbr3KMLAVD3JAAYggVAEg1AnBTAIzQAeeYCyDG3V3EAxZkknAOw2iPpgGwCQABALgGbVYArCQFsJAWAmm0AO80BYPW0F7OEo4ynygGd0/MVAIDwUYCaVQApBy4CACAdTA5mgJ7IM4AoB+ISAIADQABALgEpB6IciEvgB4DYBCIdkHRgmQlIEg2AFgBA8gzAZhWgZhUg8gxgFgAgEg2ghhWgOIDiWBQCECcFwAgAgPgoAJaEAK4kBBA+CnARAIBwUoADT8ksS0gmaBcyO+WQ6WWRDAKoZJgpJCPUCxmeccj4qkjmYxsAD80E+JVhgIIBghKAi7WWlZWVlT/nxIZww04Nt20YVQV+xqAKhASAA4D0gAAAAAD/BwAAAACgwEYrmMAAAKDAAAAgQQsEAQEBBEWJPzz/BzwFWOigs4EVAQJWQW4BAllIHgEC70EMAQLAQBAAAADFAAAA",
        "encoding": "base64",
        "path": [
         "scene_6lOACZ9D9TNWZKOe6n2rHWQq3",
         "drc"
        ]
       },
       {
        "data": "RFJBQ08CAgEBAAAAXLQBAbMBAAAtX9u2rWpLVVVVqVZLVVWValVLVVWpVlVLVZVqVVVLValWVVVLlWpVVVVLqQIKAQEQ/wL2XgL/AAEAAQABAAkDAAACAQICAwABAQQBAQAMF70JGQIZEkkfGQK0F5BpXg4ZDy4i6U1F6DUqASfbu9LJXuhPPV9wGXiWA7CIwSF5fAbguxAAqaACwEN3TOpyAHbGGYURAADxUQA2TwF8lQpgZzkAa54CwJIQQDbr3KMLAVD3JAAYggVAEg1AnBTAIzQAeeYCyDG3V3EAxZkknAOw2iPpgGwCQABALgGbVYArCQFsJAWAmm0AO80BYPW0F7OEo4ynygGd0/MVAIDwUYCaVQApBy4CACAdTA5mgJ7IM4AoB+ISAIADQABALgEpB6IciEvgB4DYBCIdkHRgmQlIEg2AFgBA8gzAZhWgZhUg8gxgFgAgEg2ghhWgOIDiWBQCECcFwAgAgPgoAJaEAK4kBBA+CnARAIBwUoADT8ksS0gmaBcyO+WQ6WWRDAKoZJgpJCPUCxmeccj4qkjmYxsAD80E+JVhgIIBghKAi7WWlZWVlT/nxIZww04Nt20YVQV+xqAKhASAA4D0gAAAAAD/BwAAAAAgwUYrGMEAACDBAACgQQsEAQEBBCWJPzyHPAVk+u+vgRUBAlZBbgECWUgeAQLvQQwBAsBAOQAAALcAAAA=",
        "encoding": "base64",
        "path": [
         "scene_UcXajGeAbOrFO9Ohni0ycmK3t",
         "drc"
        ]
       },
       {
        "data": "RFJBQ08CAgEBAAAAXLQBAbMBAAAtX9u2rWpLVVVVqVZLVVWValVLVVWpVlVLVZVqVVVLValWVVVLlWpVVVVLqQIKAQEQ/wL2XgL/AAEAAQABAAkDAAACAQICAwABAQQBAQAMF70JGQIZEkkfGQK0F5BpXg4ZDy4i6U1F6DUqASfbu9LJXuhPPV9wGXiWA7CIwSF5fAbguxAAqaACwEN3TOpyAHbGGYURAADxUQA2TwF8lQpgZzkAa54CwJIQQDbr3KMLAVD3JAAYggVAEg1AnBTAIzQAeeYCyDG3V3EAxZkknAOw2iPpgGwCQABALgGbVYArCQFsJAWAmm0AO80BYPW0F7OEo4ynygGd0/MVAIDwUYCaVQApBy4CACAdTA5mgJ7IM4AoB+ISAIADQABALgEpB6IciEvgB4DYBCIdkHRgmQlIEg2AFgBA8gzAZhWgZhUg8gxgFgAgEg2ghhWgOIDiWBQCECcFwAgAgPgoAJaEAK4kBBA+CnARAIBwUoADT8ksS0gmaBcyO+WQ6WWRDAKoZJgpJCPUCxmeccj4qkjmYxsAD80E+JVhgIIBghKAi7WWlZWVlT/nxIZww04Nt20YVQV+xqAKhASAA4D0gAAAAAD/BwAAAAAQwb/zCMEAABDBAACQQQsEAQEBBD6JPzzrPAVk6/6vgRUBAlZBbgECWUgeAQLvQQwBAsBAMQAAALUAAAA=",
        "encoding": "base64",
        "path": [
         "scene_2MWRtCGOD1JZTXEyLn8Rhq2LW",
         "drc"
        ]
       },
       {
        "data": "RFJBQ08CAgEBAAAAXLQBAbMBAAAtX9u2rWpLVVVVqVZLVVWValVLVVWpVlVLVZVqVVVLValWVVVLlWpVVVVLqQIKAQEQ/wL2XgL/AAEAAQABAAkDAAACAQICAwABAQQBAQAMF70JGQIZEkkfGQK0F5BpXg4ZDy4i6U1F6DUqASfbu9LJXuhPPV9wGXiWA7CIwSF5fAbguxAAqaACwEN3TOpyAHbGGYURAADxUQA2TwF8lQpgZzkAa54CwJIQQDbr3KMLAVD3JAAYggVAEg1AnBTAIzQAeeYCyDG3V3EAxZkknAOw2iPpgGwCQABALgGbVYArCQFsJAWAmm0AO80BYPW0F7OEo4ynygGd0/MVAIDwUYCaVQApBy4CACAdTA5mgJ7IM4AoB+ISAIADQABALgEpB6IciEvgB4DYBCIdkHRgmQlIEg2AFgBA8gzAZhWgZhUg8gxgFgAgEg2ghhWgOIDiWBQCECcFwAgAgPgoAJaEAK4kBBA+CnARAIBwUoADT8ksS0gmaBcyO+WQ6WWRDAKoZJgpJCPUCxmeccj4qkjmYxsAD80E+JVhgIIBghKAi7WWlZWVlT/nxIZww04Nt20YVQV+xqAKhASAA4D0gAAAAAD/BwAAAAAAwHF4878AAADAAACAQAsEAQEBBFaJPzz/SzwFWF3kv4EVAQJWQW4BAllIHgEC70EMAQLAQFUAAADeAAAA",
        "encoding": "base64",
        "path": [
         "scene_wr8xd1kz7dUa4VN3hVuIG7Jlk",
         "drc"
        ]
       },
       {
        "data": "RFJBQ08CAgEBAAAAXLQBAbMBAAAtX9u2rWpLVVVVqVZLVVWValVLVVWpVlVLVZVqVVVLValWVVVLlWpVVVVLqQIKAQEQ/wL2XgL/AAEAAQABAAkDAAACAQICAwABAQQBAQAMF70JGQIZEkkfGQK0F5BpXg4ZDy4i6U1F6DUqASfbu9LJXuhPPV9wGXiWA7CIwSF5fAbguxAAqaACwEN3TOpyAHbGGYURAADxUQA2TwF8lQpgZzkAa54CwJIQQDbr3KMLAVD3JAAYggVAEg1AnBTAIzQAeeYCyDG3V3EAxZkknAOw2iPpgGwCQABALgGbVYArCQFsJAWAmm0AO80BYPW0F7OEo4ynygGd0/MVAIDwUYCaVQApBy4CACAdTA5mgJ7IM4AoB+ISAIADQABALgEpB6IciEvgB4DYBCIdkHRgmQlIEg2AFgBA8gzAZhWgZhUg8gxgFgAgEg2ghhWgOIDiWBQCECcFwAgAgPgoAJaEAK4kBBA+CnARAIBwUoADT8ksS0gmaBcyO+WQ6WWRDAKoZJgpJCPUCxmeccj4qkjmYxsAD80E+JVhgIIBghKAi7WWlZWVlT/nxIZww04Nt20YVQV+xqAKhASAA4D0gAAAAAD/BwAAAADAwFSatsAAAMDAAABAQQsEAQEBBFSJPzz/QzwFWF3kv4EVAQJWQW4BAllIHgEC70EMAQLAQG4AAADPAAAA",
        "encoding": "base64",
        "path": [
         "scene_eX9FKzlpprELgXLkwRbKuMeKT",
         "drc"
        ]
       },
       {
        "data": "RFJBQ08CAgEBAAAAXLQBAbMBAAAtX9u2rWpLVVVVqVZLVVWValVLVVWpVlVLVZVqVVVLValWVVVLlWpVVVVLqQIKAQEQ/wL2XgL/AAEAAQABAAkDAAACAQICAwABAQQBAQAMF70JGQIZEkkfGQK0F5BpXg4ZDy4i6U1F6DUqASfbu9LJXuhPPV9wGXiWA7CIwSF5fAbguxAAT1kB0EN3TOpyAHbGGYURAADxUQA2TwF8lQpgZzkAa54CwJIQQDbr3KMLAVD3JAAYggVAEg1AnBTAIzQAO82NsdIdQHEAxclMzgGw+iPpgGwCQABALgGbVYArCQFsJAWAmm0AO80BUPW0F7OEo4ynygGd8/MVAIDwUYCaVQApBy4CACAdTA5mgJ/IM4AoB+ISAIAFQABALgEpB6IciEvgB4DYBCIdkHRgmclHEg2AFgBA8gzAZhWgZhUg8gxgFgAgEg2ghhWgOIDiWBQCECcFwAgAgPgoAJaEAK4kBBA+CnARAIBwUoADT8ksS0gmaBcyO+WQ6WWRDAKoZJgpJCPUCxmeccj4qkimvx8AD94DmOJGggGEEtR8RV4iJCQkCNeA4WSDIwVCaxhVBX7GoAqEBIADAPaAAAAAAP8HAAAAAHDB6kBkwQAAcMEAAPBBCwQBAQEEVIk/PP9DPAVk+u+vgRUBAlZBbgECWUgeAQLvQQwBAsBARgAAAJ0AAAA=",
        "encoding": "base64",
        "path": [
         "scene_WxfUSOC6anEYAtbSUDCmrh1oi",
         "drc"
        ]
       },
       {
        "data": "RFJBQ08CAgEBAAAAXLQBAbMBAAAtX9u2rWpLVVVVqVZLVVWValVLVVWpVlVLVZVqVVVLValWVVVLlWpVVVVLqQIKAQEQ/wL2XgL/AAEAAQABAAkDAAACAQICAwABAQQBAQAMF70JGQIZEkkfGQK0F5BpXg4ZDy4i6U1F6DUqASfbu9LJXuhPPV9wGXiWA7CIwSF5fAbguxAAqaACwEN3TOpyAHbGGYURAADxUQA2TwF8lQpgZzkAa54CwJIQQDbr3KMLAVD3JAAYggVAEg1AnBTAIzQAeeYCyDG3V3EAxZkknAOw2iPpgGwCQABALgGbVYArCQFsJAWAmm0AO80BYPW0F7OEo4ynygGd0/MVAIDwUYCaVQApBy4CACAdTA5mgJ7IM4AoB+ISAIADQABALgEpB6IciEvgB4DYBCIdkHRgmQlIEg2AFgBA8gzAZhWgZhUg8gxgFgAgEg2ghhWgOIDiWBQCECcFwAgAgPgoAJaEAK4kBBA+CnARAIBwUoADT8ksS0gmaBcyO+WQ6WWRDAKoZJgpJCPUCxmeccj4qkjmYxsAD80E+JVhgIIBghKAi7WWlZWVlT/nxIZww04Nt20YVQV+xqAKhASAA4D0gAAAAAD/BwAAAACAwXF4c8EAAIDBAAAAQgsEAQEBBEyJPzz/IzwFZOv+r4EVAQJWQW4BAllIHgEC70EMAQLAQBEAAABuAAAA",
        "encoding": "base64",
        "path": [
         "scene_4t7oBmB5W7a6EsUhRiqbu95kc",
         "drc"
        ]
       },
       {
        "data": "RFJBQ08CAgEBAAAAXLQBAbMBAAAtX9u2rWpLVVVVqVZLVVWValVLVVWpVlVLVZVqVVVLValWVVVLlWpVVVVLqQIKAQEQ/wL2XgL/AAEAAQABAAkDAAACAQICAwABAQQBAQAMF70JGQIZEkkfGQK0F5BpXg4ZDy4i6U1F6DUqASfbu9LJXuhPPV9wGXiWA7CIwSF5fAbguxAAT1kB0EN3TOpyAHbGGYURAADxUQA2TwF8lQpgZzkAa54CwJIQQDbr3KMLAVD3JAAYggVAEg1AnBTAIzQAO82NsdIdQHEAxclMzgGw+iPpgGwCQABALgGbVYArCQFsJAWAmm0AO80BUPW0F7OEo4ynygGd8/MVAIDwUYCaVQApBy4CACAdTA5mgJ/IM4AoB+ISAIAFQABALgEpB6IciEvgB4DYBCIdkHRgmclHEg2AFgBA8gzAZhWgZhUg8gxgFgAgEg2ghhWgOIDiWBQCECcFwAgAgPgoAJaEAK4kBBA+CnARAIBwUoADT8ksS0gmaBcyO+WQ6WWRDAKoZJgpJCPUCxmeccj4qkimvx8AD94DmOJGggGEEtR8RV4iJCQkCNeA4WSDIwVCaxhVBX7GoAqEBIADAPaAAAAAAP8HAAAAAHDB6kBkwQAAcMEAAPBBCwQBAQEEOIk/PNM8BVj3kbOBFQECVkFuAQJZSB4BAu9BDAECwEA6AAAAtQAAAA==",
        "encoding": "base64",
        "path": [
         "scene_paBAs2Ae8huEyWM2buxmavjYn",
         "drc"
        ]
       },
       {
        "data": "RFJBQ08CAgEBAAAAXLQBAbMBAAAtX9u2rWpLVVVVqVZLVVWValVLVVWpVlVLVZVqVVVLValWVVVLlWpVVVVLqQIKAQEQ/wL2XgL/AAEAAQABAAkDAAACAQICAwABAQQBAQAMF70JGQIZEkkfGQK0F5BpXg4ZDy4i6U1F6DUqASfbu9LJXuhPPV9wGXiWA7CIwSF5fAbguxAAqaACwEN3TOpyAHbGGYURAADxUQA2TwF8lQpgZzkAa54CwJIQQDbr3KMLAVD3JAAYggVAEg1AnBTAIzQAeeYCyDG3V3EAxZkknAOw2iPpgGwCQABALgGbVYArCQFsJAWAmm0AO80BYPW0F7OEo4ynygGd0/MVAIDwUYCaVQApBy4CACAdTA5mgJ7IM4AoB+ISAIADQABALgEpB6IciEvgB4DYBCIdkHRgmQlIEg2AFgBA8gzAZhWgZhUg8gxgFgAgEg2ghhWgOIDiWBQCECcFwAgAgPgoAJaEAK4kBBA+CnARAIBwUoADT8ksS0gmaBcyO+WQ6WWRDAKoZJgpJCPUCxmeccj4qkjmYxsAD80E+JVhgIIBghKAi7WWlZWVlT/nxIZww04Nt20YVQV+xqAKhASAA4D0gAAAAAD/BwAAAACgwEYrmMAAAKDAAAAgQQsEAQEBBI4BiT88//8rPAVk6/6vgRUBAlZBbgECWUgeAQLvQQwBAsBARQAAAPkAAAA=",
        "encoding": "base64",
        "path": [
         "scene_Gmg4PCkPuagXgNIaZfVSxFXAw",
         "drc"
        ]
       },
       {
        "data": "RFJBQ08CAgEBAAAAXLQBAbMBAAAtX9u2rWpLVVVVqVZLVVWValVLVVWpVlVLVZVqVVVLValWVVVLlWpVVVVLqQIKAQEQ/wL2XgL/AAEAAQABAAkDAAACAQICAwABAQQBAQAMF70JGQIZEkkfGQK0F5BpXg4ZDy4i6U1F6DUqASfbu9LJXuhPPV9wGXiWA7CIwSF5fAbguxAAqaACwEN3TOpyAHbGGYURAADxUQA2TwF8lQpgZzkAa54CwJIQQDbr3KMLAVD3JAAYggVAEg1AnBTAIzQAeeYCyDG3V3EAxZkknAOw2iPpgGwCQABALgGbVYArCQFsJAWAmm0AO80BYPW0F7OEo4ynygGd0/MVAIDwUYCaVQApBy4CACAdTA5mgJ7IM4AoB+ISAIADQABALgEpB6IciEvgB4DYBCIdkHRgmQlIEg2AFgBA8gzAZhWgZhUg8gxgFgAgEg2ghhWgOIDiWBQCECcFwAgAgPgoAJaEAK4kBBA+CnARAIBwUoADT8ksS0gmaBcyO+WQ6WWRDAKoZJgpJCPUCxmeccj4qkjmYxsAD80E+JVhgIIBghKAi7WWlZWVlT/nxIZww04Nt20YVQV+xqAKhASAA4D0gAAAAAD/BwAAAACQwb/ziMEAAJDBAAAQQgsEAQEBBA2JPzwnPAVYTvO/gRUBAlZBbgECWUgeAQLvQQwBAsBAmQAAAMAAAAA=",
        "encoding": "base64",
        "path": [
         "scene_EJBI5QC7Q8LAZFUWbKeUnVdFA",
         "drc"
        ]
       },
       {
        "data": "RFJBQ08CAgEBAAAAXLQBAbMBAAAtX9u2rWpLVVVVqVZLVVWValVLVVWpVlVLVZVqVVVLValWVVVLlWpVVVVLqQIKAQEQ/wL2XgL/AAEAAQABAAkDAAACAQICAwABAQQBAQAMF70JGQIZEkkfGQK0F5BpXg4ZDy4i6U1F6DUqASfbu9LJXuhPPV9wGXiWA7CIwSF5fAbguxAAqaACwEN3TOpyAHbGGYURAADxUQA2TwF8lQpgZzkAa54CwJIQQDbr3KMLAVD3JAAYggVAEg1AnBTAIzQAeeYCyDG3V3EAxZkknAOw2iPpgGwCQABALgGbVYArCQFsJAWAmm0AO80BYPW0F7OEo4ynygGd0/MVAIDwUYCaVQApBy4CACAdTA5mgJ7IM4AoB+ISAIADQABALgEpB6IciEvgB4DYBCIdkHRgmQlIEg2AFgBA8gzAZhWgZhUg8gxgFgAgEg2ghhWgOIDiWBQCECcFwAgAgPgoAJaEAK4kBBA+CnARAIBwUoADT8ksS0gmaBcyO+WQ6WWRDAKoZJgpJCPUCxmeccj4qkjmYxsAD80E+JVhgIIBghKAi7WWlZWVlT/nxIZww04Nt20YVQV+xqAKhASAA4D0gAAAAAD/BwAAAACgwEYrmMAAAKDAAAAgQQsEAQEBBIkBiT88//8XPAVY6KCzgRUBAlZBbgECWUgeAQLvQQwBAsBANQAAAPIAAAA=",
        "encoding": "base64",
        "path": [
         "scene_4Za96FY2540TmaCFbf1JeoK1H",
         "drc"
        ]
       },
       {
        "data": "RFJBQ08CAgEBAAAAXLQBAbMBAAAtX9u2rWpLVVVVqVZLVVWValVLVVWpVlVLVZVqVVVLValWVVVLlWpVVVVLqQIKAQEQ/wL2XgL/AAEAAQABAAkDAAACAQICAwABAQQBAQAMF70JGQIZEkkfGQK0F5BpXg4ZDy4i6U1F6DUqASfbu9LJXuhPPV9wGXiWA7CIwSF5fAbguxAAqaACwEN3TOpyAHbGGYURAADxUQA2TwF8lQpgZzkAa54CwJIQQDbr3KMLAVD3JAAYggVAEg1AnBTAIzQAeeYCyDG3V3EAxZkknAOw2iPpgGwCQABALgGbVYArCQFsJAWAmm0AO80BYPW0F7OEo4ynygGd0/MVAIDwUYCaVQApBy4CACAdTA5mgJ7IM4AoB+ISAIADQABALgEpB6IciEvgB4DYBCIdkHRgmQlIEg2AFgBA8gzAZhWgZhUg8gxgFgAgEg2ghhWgOIDiWBQCECcFwAgAgPgoAJaEAK4kBBA+CnARAIBwUoADT8ksS0gmaBcyO+WQ6WWRDAKoZJgpJCPUCxmeccj4qkjmYxsAD80E+JVhgIIBghKAi7WWlZWVlT/nxIZww04Nt20YVQV+xqAKhASAA4D0gAAAAAD/BwAAAADAwFSatsAAAMDAAABAQQsEAQEBBCqJPzybPAVY95GzgRUBAlZBbgECWUgeAQLvQQwBAsBACAAAAG8AAAA=",
        "encoding": "base64",
        "path": [
         "scene_qzMoRrNiCSAQ38zMLqvXld0db",
         "drc"
        ]
       },
       {
        "data": "RFJBQ08CAgEBAAAAXLQBAbMBAAAtX9u2rWpLVVVVqVZLVVWValVLVVWpVlVLVZVqVVVLValWVVVLlWpVVVVLqQIKAQEQ/wL2XgL/AAEAAQABAAkDAAACAQICAwABAQQBAQAMF70JGQIZEkkfGQK0F5BpXg4ZDy4i6U1F6DUqASfbu9LJXuhPPV9wGXiWA7CIwSF5fAbguxAAqaACwEN3TOpyAHbGGYURAADxUQA2TwF8lQpgZzkAa54CwJIQQDbr3KMLAVD3JAAYggVAEg1AnBTAIzQAeeYCyDG3V3EAxZkknAOw2iPpgGwCQABALgGbVYArCQFsJAWAmm0AO80BYPW0F7OEo4ynygGd0/MVAIDwUYCaVQApBy4CACAdTA5mgJ7IM4AoB+ISAIADQABALgEpB6IciEvgB4DYBCIdkHRgmQlIEg2AFgBA8gzAZhWgZhUg8gxgFgAgEg2ghhWgOIDiWBQCECcFwAgAgPgoAJaEAK4kBBA+CnARAIBwUoADT8ksS0gmaBcyO+WQ6WWRDAKoZJgpJCPUCxmeccj4qkjmYxsAD80E+JVhgIIBghKAi7WWlZWVlT/nxIZww04Nt20YVQV+xqAKhASAA4D0gAAAAAD/BwAAAACIwfxXgcEAAIjBAAAIQgsEAQEBBAuJPzwfPAVY6KCzgRUBAlZBbgECWUgeAQLvQQwBAsBATAAAAM0AAAA=",
        "encoding": "base64",
        "path": [
         "scene_oTpMwByT8lnQrWjc2Y0k0RmrT",
         "drc"
        ]
       },
       {
        "data": "RFJBQ08CAgEBAAAAXLQBAbMBAAAtX9u2rWpLVVVVqVZLVVWValVLVVWpVlVLVZVqVVVLValWVVVLlWpVVVVLqQIKAQEQ/wL2XgL/AAEAAQABAAkDAAACAQICAwABAQQBAQAMF70JGQIZEkkfGQK0F5BpXg4ZDy4i6U1F6DUqASfbu9LJXuhPPV9wGXiWA7CIwSF5fAbguxAAqaACwEN3TOpyAHbGGYURAADxUQA2TwF8lQpgZzkAa54CwJIQQDbr3KMLAVD3JAAYggVAEg1AnBTAIzQAeeYCyDG3V3EAxZkknAOw2iPpgGwCQABALgGbVYArCQFsJAWAmm0AO80BYPW0F7OEo4ynygGd0/MVAIDwUYCaVQApBy4CACAdTA5mgJ7IM4AoB+ISAIADQABALgEpB6IciEvgB4DYBCIdkHRgmQlIEg2AFgBA8gzAZhWgZhUg8gxgFgAgEg2ghhWgOIDiWBQCECcFwAgAgPgoAJaEAK4kBBA+CnARAIBwUoADT8ksS0gmaBcyO+WQ6WWRDAKoZJgpJCPUCxmeccj4qkjmYxsAD80E+JVhgIIBghKAi7WWlZWVlT/nxIZww04Nt20YVQV+xqAKhASAA4D0gAAAAAD/BwAAAAAAwXF488AAAADBAACAQQsEAQEBBDqJPzzbPAVYXeS/gRUBAlZBbgECWUgeAQLvQQwBAsBAcAAAAPkAAAA=",
        "encoding": "base64",
        "path": [
         "scene_a6wOqPK72FZ7ONib6dS3ilHkj",
         "drc"
        ]
       },
       {
        "data": "RFJBQ08CAgEBAAAAXLQBAbMBAAAtX9u2rWpLVVVVqVZLVVWValVLVVWpVlVLVZVqVVVLValWVVVLlWpVVVVLqQIKAQEQ/wL2XgL/AAEAAQABAAkDAAACAQICAwABAQQBAQAMF70JGQIZEkkfGQK0F5BpXg4ZDy4i6U1F6DUqASfbu9LJXuhPPV9wGXiWA7CIwSF5fAbguxAAqaACwEN3TOpyAHbGGYURAADxUQA2TwF8lQpgZzkAa54CwJIQQDbr3KMLAVD3JAAYggVAEg1AnBTAIzQAeeYCyDG3V3EAxZkknAOw2iPpgGwCQABALgGbVYArCQFsJAWAmm0AO80BYPW0F7OEo4ynygGd0/MVAIDwUYCaVQApBy4CACAdTA5mgJ7IM4AoB+ISAIADQABALgEpB6IciEvgB4DYBCIdkHRgmQlIEg2AFgBA8gzAZhWgZhUg8gxgFgAgEg2ghhWgOIDiWBQCECcFwAgAgPgoAJaEAK4kBBA+CnARAIBwUoADT8ksS0gmaBcyO+WQ6WWRDAKoZJgpJCPUCxmeccj4qkjmYxsAD80E+JVhgIIBghKAi7WWlZWVlT/nxIZww04Nt20YVQV+xqAKhASAA4D0gAAAAAD/BwAAAAAAwXF488AAAADBAACAQQsEAQEBBLYBiT88///LPAVYTvO/gRUBAlZBbgECWUgeAQLvQQwBAsBAGAAAAOEAAAA=",
        "encoding": "base64",
        "path": [
         "scene_NGp410BJv3ZD2BGdy7fUvx4w3",
         "drc"
        ]
       },
       {
        "data": "RFJBQ08CAgEBAAAAXLQBAbMBAAAtX9u2rWpLVVVVqVZLVVWValVLVVWpVlVLVZVqVVVLValWVVVLlWpVVVVLqQIKAQEQ/wL2XgL/AAEAAQABAAkDAAACAQICAwABAQQBAQAMF70JGQIZEkkfGQK0F5BpXg4ZDy4i6U1F6DUqASfbu9LJXuhPPV9wGXiWA7CIwSF5fAbguxAAqaACwEN3TOpyAHbGGYURAADxUQA2TwF8lQpgZzkAa54CwJIQQDbr3KMLAVD3JAAYggVAEg1AnBTAIzQAeeYCyDG3V3EAxZkknAOw2iPpgGwCQABALgGbVYArCQFsJAWAmm0AO80BYPW0F7OEo4ynygGd0/MVAIDwUYCaVQApBy4CACAdTA5mgJ7IM4AoB+ISAIADQABALgEpB6IciEvgB4DYBCIdkHRgmQlIEg2AFgBA8gzAZhWgZhUg8gxgFgAgEg2ghhWgOIDiWBQCECcFwAgAgPgoAJaEAK4kBBA+CnARAIBwUoADT8ksS0gmaBcyO+WQ6WWRDAKoZJgpJCPUCxmeccj4qkjmYxsAD80E+JVhgIIBghKAi7WWlZWVlT/nxIZww04Nt20YVQV+xqAKhASAA4D0gAAAAAD/BwAAAABAwFSaNsAAAEDAAADAQAsEAQEBBIEBiT88//c8BWTr/q+BFQECVkFuAQJZSB4BAu9BDAECwEANAAAAkgAAAA==",
        "encoding": "base64",
        "path": [
         "scene_YKPXNxHaQNUsBvtchjq7IAKEh",
         "drc"
        ]
       },
       {
        "data": "RFJBQ08CAgEBAAAAXLQBAbMBAAAtX9u2rWpLVVVVqVZLVVWValVLVVWpVlVLVZVqVVVLValWVVVLlWpVVVVLqQIKAQEQ/wL2XgL/AAEAAQABAAkDAAACAQICAwABAQQBAQAMF70JGQIZEkkfGQK0F5BpXg4ZDy4i6U1F6DUqASfbu9LJXuhPPV9wGXiWA7CIwSF5fAbguxAAqaACwEN3TOpyAHbGGYURAADxUQA2TwF8lQpgZzkAa54CwJIQQDbr3KMLAVD3JAAYggVAEg1AnBTAIzQAeeYCyDG3V3EAxZkknAOw2iPpgGwCQABALgGbVYArCQFsJAWAmm0AO80BYPW0F7OEo4ynygGd0/MVAIDwUYCaVQApBy4CACAdTA5mgJ7IM4AoB+ISAIADQABALgEpB6IciEvgB4DYBCIdkHRgmQlIEg2AFgBA8gzAZhWgZhUg8gxgFgAgEg2ghhWgOIDiWBQCECcFwAgAgPgoAJaEAK4kBBA+CnARAIBwUoADT8ksS0gmaBcyO+WQ6WWRDAKoZJgpJCPUCxmeccj4qkjmYxsAD80E+JVhgIIBghKAi7WWlZWVlT/nxIZww04Nt20YVQV+xqAKhASAA4D0gAAAAAD/BwAAAABAwFSaNsAAAEDAAADAQAsEAQEBBCmJPzyXPAVYXeS/gRUBAlZBbgECWUgeAQLvQQwBAsBAAQAAANEAAAA=",
        "encoding": "base64",
        "path": [
         "scene_SvTPuuX4TOR6mICeQBrpXF7Qi",
         "drc"
        ]
       },
       {
        "data": "RFJBQ08CAgEBAAAAXLQBAbMBAAAtX9u2rWpLVVVVqVZLVVWValVLVVWpVlVLVZVqVVVLValWVVVLlWpVVVVLqQIKAQEQ/wL2XgL/AAEAAQABAAkDAAACAQICAwABAQQBAQAMF70JGQIZEkkfGQK0F5BpXg4ZDy4i6U1F6DUqASfbu9LJXuhPPV9wGXiWA7CIwSF5fAbguxAAqaACwEN3TOpyAHbGGYURAADxUQA2TwF8lQpgZzkAa54CwJIQQDbr3KMLAVD3JAAYggVAEg1AnBTAIzQAeeYCyDG3V3EAxZkknAOw2iPpgGwCQABALgGbVYArCQFsJAWAmm0AO80BYPW0F7OEo4ynygGd0/MVAIDwUYCaVQApBy4CACAdTA5mgJ7IM4AoB+ISAIADQABALgEpB6IciEvgB4DYBCIdkHRgmQlIEg2AFgBA8gzAZhWgZhUg8gxgFgAgEg2ghhWgOIDiWBQCECcFwAgAgPgoAJaEAK4kBBA+CnARAIBwUoADT8ksS0gmaBcyO+WQ6WWRDAKoZJgpJCPUCxmeccj4qkjmYxsAD80E+JVhgIIBghKAi7WWlZWVlT/nxIZww04Nt20YVQV+xqAKhASAA4D0gAAAAAD/BwAAAABAwFSaNsAAAEDAAADAQAsEAQEBBFKJPzz/OzwFWPeRs4EVAQJWQW4BAllIHgEC70EMAQLAQFIAAADbAAAA",
        "encoding": "base64",
        "path": [
         "scene_JlNG6qDxU4yRwQNWuhhX7c0BA",
         "drc"
        ]
       },
       {
        "data": "RFJBQ08CAgEBAAAAXLQBAbMBAAAtX9u2rWpLVVVVqVZLVVWValVLVVWpVlVLVZVqVVVLValWVVVLlWpVVVVLqQIKAQEQ/wL2XgL/AAEAAQABAAkDAAACAQICAwABAQQBAQAMF70JGQIZEkkfGQK0F5BpXg4ZDy4i6U1F6DUqASfbu9LJXuhPPV9wGXiWA7CIwSF5fAbguxAAqaACwEN3TOpyAHbGGYURAADxUQA2TwF8lQpgZzkAa54CwJIQQDbr3KMLAVD3JAAYggVAEg1AnBTAIzQAeeYCyDG3V3EAxZkknAOw2iPpgGwCQABALgGbVYArCQFsJAWAmm0AO80BYPW0F7OEo4ynygGd0/MVAIDwUYCaVQApBy4CACAdTA5mgJ7IM4AoB+ISAIADQABALgEpB6IciEvgB4DYBCIdkHRgmQlIEg2AFgBA8gzAZhWgZhUg8gxgFgAgEg2ghhWgOIDiWBQCECcFwAgAgPgoAJaEAK4kBBA+CnARAIBwUoADT8ksS0gmaBcyO+WQ6WWRDAKoZJgpJCPUCxmeccj4qkjmYxsAD80E+JVhgIIBghKAi7WWlZWVlT/nxIZww04Nt20YVQV+xqAKhASAA4D0gAAAAAD/BwAAAACAwHF4c8AAAIDAAAAAQQsEAQEBBBiJPzxTPAVYXeS/gRUBAlZBbgECWUgeAQLvQQwBAsBASwAAAHwAAAA=",
        "encoding": "base64",
        "path": [
         "scene_8TXbiTLhKusRkvcXBPXSoKWTz",
         "drc"
        ]
       },
       {
        "data": "RFJBQ08CAgEBAAAAXLQBAbMBAAAtX9u2rWpLVVVVqVZLVVWValVLVVWpVlVLVZVqVVVLValWVVVLlWpVVVVLqQIKAQEQ/wL2XgL/AAEAAQABAAkDAAACAQICAwABAQQBAQAMF70JGQIZEkkfGQK0F5BpXg4ZDy4i6U1F6DUqASfbu9LJXuhPPV9wGXiWA7CIwSF5fAbguxAAqaACwEN3TOpyAHbGGYURAADxUQA2TwF8lQpgZzkAa54CwJIQQDbr3KMLAVD3JAAYggVAEg1AnBTAIzQAeeYCyDG3V3EAxZkknAOw2iPpgGwCQABALgGbVYArCQFsJAWAmm0AO80BYPW0F7OEo4ynygGd0/MVAIDwUYCaVQApBy4CACAdTA5mgJ7IM4AoB+ISAIADQABALgEpB6IciEvgB4DYBCIdkHRgmQlIEg2AFgBA8gzAZhWgZhUg8gxgFgAgEg2ghhWgOIDiWBQCECcFwAgAgPgoAJaEAK4kBBA+CnARAIBwUoADT8ksS0gmaBcyO+WQ6WWRDAKoZJgpJCPUCxmeccj4qkjmYxsAD80E+JVhgIIBghKAi7WWlZWVlT/nxIZww04Nt20YVQV+xqAKhASAA4D0gAAAAAD/BwAAAAAgwUYrGMEAACDBAACgQQsEAQEBBCCJPzxzPAVk6/6vgRUBAlZBbgECWUgeAQLvQQwBAsBAnwAAAPkAAAA=",
        "encoding": "base64",
        "path": [
         "scene_ol8RAOabvPUUSVbm42ZcPvoWf",
         "drc"
        ]
       },
       {
        "data": "RFJBQ08CAgEBAAAAXLQBAbMBAAAtX9u2rWpLVVVVqVZLVVWValVLVVWpVlVLVZVqVVVLValWVVVLlWpVVVVLqQIKAQEQ/wL2XgL/AAEAAQABAAkDAAACAQICAwABAQQBAQAMF70JGQIZEkkfGQK0F5BpXg4ZDy4i6U1F6DUqASfbu9LJXuhPPV9wGXiWA7CIwSF5fAbguxAAqaACwEN3TOpyAHbGGYURAADxUQA2TwF8lQpgZzkAa54CwJIQQDbr3KMLAVD3JAAYggVAEg1AnBTAIzQAeeYCyDG3V3EAxZkknAOw2iPpgGwCQABALgGbVYArCQFsJAWAmm0AO80BYPW0F7OEo4ynygGd0/MVAIDwUYCaVQApBy4CACAdTA5mgJ7IM4AoB+ISAIADQABALgEpB6IciEvgB4DYBCIdkHRgmQlIEg2AFgBA8gzAZhWgZhUg8gxgFgAgEg2ghhWgOIDiWBQCECcFwAgAgPgoAJaEAK4kBBA+CnARAIBwUoADT8ksS0gmaBcyO+WQ6WWRDAKoZJgpJCPUCxmeccj4qkjmYxsAD80E+JVhgIIBghKAi7WWlZWVlT/nxIZww04Nt20YVQV+xqAKhASAA4D0gAAAAAD/BwAAAACAwHF4c8AAAIDAAAAAQQsEAQEBBD+JPzzvPAVk+u+vgRUBAlZBbgECWUgeAQLvQQwBAsBAPAAAANkAAAA=",
        "encoding": "base64",
        "path": [
         "scene_gkVZt0aJcOt9mA8yGdMyFYX9B",
         "drc"
        ]
       },
       {
        "data": "RFJBQ08CAgEBAAAAXLQBAbMBAAAtX9u2rWpLVVVVqVZLVVWValVLVVWpVlVLVZVqVVVLValWVVVLlWpVVVVLqQIKAQEQ/wL2XgL/AAEAAQABAAkDAAACAQICAwABAQQBAQAMF70JGQIZEkkfGQK0F5BpXg4ZDy4i6U1F6DUqASfbu9LJXuhPPV9wGXiWA7CIwSF5fAbguxAAqaACwEN3TOpyAHbGGYURAADxUQA2TwF8lQpgZzkAa54CwJIQQDbr3KMLAVD3JAAYggVAEg1AnBTAIzQAeeYCyDG3V3EAxZkknAOw2iPpgGwCQABALgGbVYArCQFsJAWAmm0AO80BYPW0F7OEo4ynygGd0/MVAIDwUYCaVQApBy4CACAdTA5mgJ7IM4AoB+ISAIADQABALgEpB6IciEvgB4DYBCIdkHRgmQlIEg2AFgBA8gzAZhWgZhUg8gxgFgAgEg2ghhWgOIDiWBQCECcFwAgAgPgoAJaEAK4kBBA+CnARAIBwUoADT8ksS0gmaBcyO+WQ6WWRDAKoZJgpJCPUCxmeccj4qkjmYxsAD80E+JVhgIIBghKAi7WWlZWVlT/nxIZww04Nt20YVQV+xqAKhASAA4D0gAAAAAD/BwAAAACAwXF4c8EAAIDBAAAAQgsEAQEBBA+JPzwvPAVk+u+vgRUBAlZBbgECWUgeAQLvQQwBAsBAMwAAALYAAAA=",
        "encoding": "base64",
        "path": [
         "scene_MB8nnIfPg1OdNSYELJKS3cFye",
         "drc"
        ]
       },
       {
        "data": "RFJBQ08CAgEBAAAAXLQBAbMBAAAtX9u2rWpLVVVVqVZLVVWValVLVVWpVlVLVZVqVVVLValWVVVLlWpVVVVLqQIKAQEQ/wL2XgL/AAEAAQABAAkDAAACAQICAwABAQQBAQAMF70JGQIZEkkfGQK0F5BpXg4ZDy4i6U1F6DUqASfbu9LJXuhPPV9wGXiWA7CIwSF5fAbguxAAqaACwEN3TOpyAHbGGYURAADxUQA2TwF8lQpgZzkAa54CwJIQQDbr3KMLAVD3JAAYggVAEg1AnBTAIzQAeeYCyDG3V3EAxZkknAOw2iPpgGwCQABALgGbVYArCQFsJAWAmm0AO80BYPW0F7OEo4ynygGd0/MVAIDwUYCaVQApBy4CACAdTA5mgJ7IM4AoB+ISAIADQABALgEpB6IciEvgB4DYBCIdkHRgmQlIEg2AFgBA8gzAZhWgZhUg8gxgFgAgEg2ghhWgOIDiWBQCECcFwAgAgPgoAJaEAK4kBBA+CnARAIBwUoADT8ksS0gmaBcyO+WQ6WWRDAKoZJgpJCPUCxmeccj4qkjmYxsAD80E+JVhgIIBghKAi7WWlZWVlT/nxIZww04Nt20YVQV+xqAKhASAA4D0gAAAAAD/BwAAAACAwHF4c8AAAIDAAAAAQQsEAQEBBJgBiT88//9TPAVYXeS/gRUBAlZBbgECWUgeAQLvQQwBAsBAMAAAAMcAAAA=",
        "encoding": "base64",
        "path": [
         "scene_EjIcMUfEnWuHENii5dmD6X0A5",
         "drc"
        ]
       },
       {
        "data": "RFJBQ08CAgEBAAAAXLQBAbMBAAAtX9u2rWpLVVVVqVZLVVWValVLVVWpVlVLVZVqVVVLValWVVVLlWpVVVVLqQIKAQEQ/wL2XgL/AAEAAQABAAkDAAACAQICAwABAQQBAQAMF70JGQIZEkkfGQK0F5BpXg4ZDy4i6U1F6DUqASfbu9LJXuhPPV9wGXiWA7CIwSF5fAbguxAAqaACwEN3TOpyAHbGGYURAADxUQA2TwF8lQpgZzkAa54CwJIQQDbr3KMLAVD3JAAYggVAEg1AnBTAIzQAeeYCyDG3V3EAxZkknAOw2iPpgGwCQABALgGbVYArCQFsJAWAmm0AO80BYPW0F7OEo4ynygGd0/MVAIDwUYCaVQApBy4CACAdTA5mgJ7IM4AoB+ISAIADQABALgEpB6IciEvgB4DYBCIdkHRgmQlIEg2AFgBA8gzAZhWgZhUg8gxgFgAgEg2ghhWgOIDiWBQCECcFwAgAgPgoAJaEAK4kBBA+CnARAIBwUoADT8ksS0gmaBcyO+WQ6WWRDAKoZJgpJCPUCxmeccj4qkjmYxsAD80E+JVhgIIBghKAi7WWlZWVlT/nxIZww04Nt20YVQV+xqAKhASAA4D0gAAAAAD/BwAAAADAwFSatsAAAMDAAABAQQsEAQEBBAKJP3gFWOjvQIAVAQJWQW4BAllIHgEC70EMAQLAQEMAAAB/AAAA",
        "encoding": "base64",
        "path": [
         "scene_reSjfSDIpie1BW7xyYCKGG2iD",
         "drc"
        ]
       },
       {
        "data": "RFJBQ08CAgEBAAAAXLQBAbMBAAAtX9u2rWpLVVVVqVZLVVWValVLVVWpVlVLVZVqVVVLValWVVVLlWpVVVVLqQIKAQEQ/wL2XgL/AAEAAQABAAkDAAACAQICAwABAQQBAQAMF70JGQIZEkkfGQK0F5BpXg4ZDy4i6U1F6DUqASfbu9LJXuhPPV9wGXiWA7CIwSF5fAbguxAAT1kB0EN3TOpyAHbGGYURAADxUQA2TwF8lQpgZzkAa54CwJIQQDbr3KMLAVD3JAAYggVAEg1AnBTAIzQAO82NsdIdQHEAxclMzgGw+iPpgGwCQABALgGbVYArCQFsJAWAmm0AO80BUPW0F7OEo4ynygGd8/MVAIDwUYCaVQApBy4CACAdTA5mgJ/IM4AoB+ISAIAFQABALgEpB6IciEvgB4DYBCIdkHRgmclHEg2AFgBA8gzAZhWgZhUg8gxgFgAgEg2ghhWgOIDiWBQCECcFwAgAgPgoAJaEAK4kBBA+CnARAIBwUoADT8ksS0gmaBcyO+WQ6WWRDAKoZJgpJCPUCxmeccj4qkimvx8AD94DmOJGggGEEtR8RV4iJCQkCNeA4WSDIwVCaxhVBX7GoAqEBIADAPaAAAAAAP8HAAAAAFDB29FFwQAAUMEAANBBCwQBAQEEBYk/PAc8BVhd5L+BFQECVkFuAQJZSB4BAu9BDAECwEBiAAAAewAAAA==",
        "encoding": "base64",
        "path": [
         "scene_xOs0FBtbMVwfCMkvSEEs6mjoO",
         "drc"
        ]
       },
       {
        "data": "RFJBQ08CAgEBAAAAXLQBAbMBAAAtX9u2rWpLVVVVqVZLVVWValVLVVWpVlVLVZVqVVVLValWVVVLlWpVVVVLqQIKAQEQ/wL2XgL/AAEAAQABAAkDAAACAQICAwABAQQBAQAMF70JGQIZEkkfGQK0F5BpXg4ZDy4i6U1F6DUqASfbu9LJXuhPPV9wGXiWA7CIwSF5fAbguxAAqaACwEN3TOpyAHbGGYURAADxUQA2TwF8lQpgZzkAa54CwJIQQDbr3KMLAVD3JAAYggVAEg1AnBTAIzQAeeYCyDG3V3EAxZkknAOw2iPpgGwCQABALgGbVYArCQFsJAWAmm0AO80BYPW0F7OEo4ynygGd0/MVAIDwUYCaVQApBy4CACAdTA5mgJ7IM4AoB+ISAIADQABALgEpB6IciEvgB4DYBCIdkHRgmQlIEg2AFgBA8gzAZhWgZhUg8gxgFgAgEg2ghhWgOIDiWBQCECcFwAgAgPgoAJaEAK4kBBA+CnARAIBwUoADT8ksS0gmaBcyO+WQ6WWRDAKoZJgpJCPUCxmeccj4qkjmYxsAD80E+JVhgIIBghKAi7WWlZWVlT/nxIZww04Nt20YVQV+xqAKhASAA4D0gAAAAAD/BwAAAAAAwHF4878AAADAAACAQAsEAQEBBG2JPzz/pzwFWE7zv4EVAQJWQW4BAllIHgEC70EMAQLAQHYAAADpAAAA",
        "encoding": "base64",
        "path": [
         "scene_TkBNQz750xM8bvz8KLN3xiVVB",
         "drc"
        ]
       },
       {
        "data": "RFJBQ08CAgEBAAAAXLQBAbMBAAAtX9u2rWpLVVVVqVZLVVWValVLVVWpVlVLVZVqVVVLValWVVVLlWpVVVVLqQIKAQEQ/wL2XgL/AAEAAQABAAkDAAACAQICAwABAQQBAQAMF70JGQIZEkkfGQK0F5BpXg4ZDy4i6U1F6DUqASfbu9LJXuhPPV9wGXiWA7CIwSF5fAbguxAAqaACwEN3TOpyAHbGGYURAADxUQA2TwF8lQpgZzkAa54CwJIQQDbr3KMLAVD3JAAYggVAEg1AnBTAIzQAeeYCyDG3V3EAxZkknAOw2iPpgGwCQABALgGbVYArCQFsJAWAmm0AO80BYPW0F7OEo4ynygGd0/MVAIDwUYCaVQApBy4CACAdTA5mgJ7IM4AoB+ISAIADQABALgEpB6IciEvgB4DYBCIdkHRgmQlIEg2AFgBA8gzAZhWgZhUg8gxgFgAgEg2ghhWgOIDiWBQCECcFwAgAgPgoAJaEAK4kBBA+CnARAIBwUoADT8ksS0gmaBcyO+WQ6WWRDAKoZJgpJCPUCxmeccj4qkjmYxsAD80E+JVhgIIBghKAi7WWlZWVlT/nxIZww04Nt20YVQV+xqAKhASAA4D0gAAAAAD/BwAAAABAwVSaNsEAAEDBAADAQQsEAQEBBCGJPzx3PAVk+u+vgRUBAlZBbgECWUgeAQLvQQwBAsBAQwAAAJ4AAAA=",
        "encoding": "base64",
        "path": [
         "scene_oN3Kos458S0WQ0JFjQj6bODdz",
         "drc"
        ]
       },
       {
        "data": "RFJBQ08CAgEBAAAAXLQBAbMBAAAtX9u2rWpLVVVVqVZLVVWValVLVVWpVlVLVZVqVVVLValWVVVLlWpVVVVLqQIKAQEQ/wL2XgL/AAEAAQABAAkDAAACAQICAwABAQQBAQAMF70JGQIZEkkfGQK0F5BpXg4ZDy4i6U1F6DUqASfbu9LJXuhPPV9wGXiWA7CIwSF5fAbguxAAqaACwEN3TOpyAHbGGYURAADxUQA2TwF8lQpgZzkAa54CwJIQQDbr3KMLAVD3JAAYggVAEg1AnBTAIzQAeeYCyDG3V3EAxZkknAOw2iPpgGwCQABALgGbVYArCQFsJAWAmm0AO80BYPW0F7OEo4ynygGd0/MVAIDwUYCaVQApBy4CACAdTA5mgJ7IM4AoB+ISAIADQABALgEpB6IciEvgB4DYBCIdkHRgmQlIEg2AFgBA8gzAZhWgZhUg8gxgFgAgEg2ghhWgOIDiWBQCECcFwAgAgPgoAJaEAK4kBBA+CnARAIBwUoADT8ksS0gmaBcyO+WQ6WWRDAKoZJgpJCPUCxmeccj4qkjmYxsAD80E+JVhgIIBghKAi7WWlZWVlT/nxIZww04Nt20YVQV+xqAKhASAA4D0gAAAAAD/BwAAAACQwb/ziMEAAJDBAAAQQgsEAQEBBByJPzxjPAVYTvO/gRUBAlZBbgECWUgeAQLvQQwBAsBAtQAAAPQAAAA=",
        "encoding": "base64",
        "path": [
         "scene_vAiANMTWU2nBDeCRU0UY38z9B",
         "drc"
        ]
       },
       {
        "data": "RFJBQ08CAgEBAAAAXLQBAbMBAAAtX9u2rWpLVVVVqVZLVVWValVLVVWpVlVLVZVqVVVLValWVVVLlWpVVVVLqQIKAQEQ/wL2XgL/AAEAAQABAAkDAAACAQICAwABAQQBAQAMF70JGQIZEkkfGQK0F5BpXg4ZDy4i6U1F6DUqASfbu9LJXuhPPV9wGXiWA7CIwSF5fAbguxAAqaACwEN3TOpyAHbGGYURAADxUQA2TwF8lQpgZzkAa54CwJIQQDbr3KMLAVD3JAAYggVAEg1AnBTAIzQAeeYCyDG3V3EAxZkknAOw2iPpgGwCQABALgGbVYArCQFsJAWAmm0AO80BYPW0F7OEo4ynygGd0/MVAIDwUYCaVQApBy4CACAdTA5mgJ7IM4AoB+ISAIADQABALgEpB6IciEvgB4DYBCIdkHRgmQlIEg2AFgBA8gzAZhWgZhUg8gxgFgAgEg2ghhWgOIDiWBQCECcFwAgAgPgoAJaEAK4kBBA+CnARAIBwUoADT8ksS0gmaBcyO+WQ6WWRDAKoZJgpJCPUCxmeccj4qkjmYxsAD80E+JVhgIIBghKAi7WWlZWVlT/nxIZww04Nt20YVQV+xqAKhASAA4D0gAAAAAD/BwAAAACYwYOPkMEAAJjBAAAYQgsEAQEBBEOJPzz/PAVk+u+vgRUBAlZBbgECWUgeAQLvQQwBAsBAcgAAAOsAAAA=",
        "encoding": "base64",
        "path": [
         "scene_zuPd4HtOHWbxXeUGJYYWLFccm",
         "drc"
        ]
       },
       {
        "data": "RFJBQ08CAgEBAAAAXLQBAbMBAAAtX9u2rWpLVVVVqVZLVVWValVLVVWpVlVLVZVqVVVLValWVVVLlWpVVVVLqQIKAQEQ/wL2XgL/AAEAAQABAAkDAAACAQICAwABAQQBAQAMF70JGQIZEkkfGQK0F5BpXg4ZDy4i6U1F6DUqASfbu9LJXuhPPV9wGXiWA7CIwSF5fAbguxAAT1kB0EN3TOpyAHbGGYURAADxUQA2TwF8lQpgZzkAa54CwJIQQDbr3KMLAVD3JAAYggVAEg1AnBTAIzQAO82NsdIdQHEAxclMzgGw+iPpgGwCQABALgGbVYArCQFsJAWAmm0AO80BUPW0F7OEo4ynygGd8/MVAIDwUYCaVQApBy4CACAdTA5mgJ/IM4AoB+ISAIAFQABALgEpB6IciEvgB4DYBCIdkHRgmclHEg2AFgBA8gzAZhWgZhUg8gxgFgAgEg2ghhWgOIDiWBQCECcFwAgAgPgoAJaEAK4kBBA+CnARAIBwUoADT8ksS0gmaBcyO+WQ6WWRDAKoZJgpJCPUCxmeccj4qkimvx8AD94DmOJGggGEEtR8RV4iJCQkCNeA4WSDIwVCaxhVBX7GoAqEBIADAPaAAAAAAP8HAAAAAFDB29FFwQAAUMEAANBBCwQBAQEEF4k/PE88BVhd5L+BFQECVkFuAQJZSB4BAu9BDAECwECTAAAA7gAAAA==",
        "encoding": "base64",
        "path": [
         "scene_JRRfejwziOjOHAyU263gaY37p",
         "drc"
        ]
       },
       {
        "data": "RFJBQ08CAgEBAAAAXLQBAbMBAAAtX9u2rWpLVVVVqVZLVVWValVLVVWpVlVLVZVqVVVLValWVVVLlWpVVVVLqQIKAQEQ/wL2XgL/AAEAAQABAAkDAAACAQICAwABAQQBAQAMF70JGQIZEkkfGQK0F5BpXg4ZDy4i6U1F6DUqASfbu9LJXuhPPV9wGXiWA7CIwSF5fAbguxAAqaACwEN3TOpyAHbGGYURAADxUQA2TwF8lQpgZzkAa54CwJIQQDbr3KMLAVD3JAAYggVAEg1AnBTAIzQAeeYCyDG3V3EAxZkknAOw2iPpgGwCQABALgGbVYArCQFsJAWAmm0AO80BYPW0F7OEo4ynygGd0/MVAIDwUYCaVQApBy4CACAdTA5mgJ7IM4AoB+ISAIADQABALgEpB6IciEvgB4DYBCIdkHRgmQlIEg2AFgBA8gzAZhWgZhUg8gxgFgAgEg2ghhWgOIDiWBQCECcFwAgAgPgoAJaEAK4kBBA+CnARAIBwUoADT8ksS0gmaBcyO+WQ6WWRDAKoZJgpJCPUCxmeccj4qkjmYxsAD80E+JVhgIIBghKAi7WWlZWVlT/nxIZww04Nt20YVQV+xqAKhASAA4D0gAAAAAD/BwAAAACAv3F4c78AAIC/AAAAQAsEAQEBBBCJPzwzPAVk6/6vgRUBAlZBbgECWUgeAQLvQQwBAsBAhwAAAL0AAAA=",
        "encoding": "base64",
        "path": [
         "scene_K9tEmlpXhqOt4JYIt3YtYfdsG",
         "drc"
        ]
       },
       {
        "data": "RFJBQ08CAgEBAAAAXLQBAbMBAAAtX9u2rWpLVVVVqVZLVVWValVLVVWpVlVLVZVqVVVLValWVVVLlWpVVVVLqQIKAQEQ/wL2XgL/AAEAAQABAAkDAAACAQICAwABAQQBAQAMF70JGQIZEkkfGQK0F5BpXg4ZDy4i6U1F6DUqASfbu9LJXuhPPV9wGXiWA7CIwSF5fAbguxAAqaACwEN3TOpyAHbGGYURAADxUQA2TwF8lQpgZzkAa54CwJIQQDbr3KMLAVD3JAAYggVAEg1AnBTAIzQAeeYCyDG3V3EAxZkknAOw2iPpgGwCQABALgGbVYArCQFsJAWAmm0AO80BYPW0F7OEo4ynygGd0/MVAIDwUYCaVQApBy4CACAdTA5mgJ7IM4AoB+ISAIADQABALgEpB6IciEvgB4DYBCIdkHRgmQlIEg2AFgBA8gzAZhWgZhUg8gxgFgAgEg2ghhWgOIDiWBQCECcFwAgAgPgoAJaEAK4kBBA+CnARAIBwUoADT8ksS0gmaBcyO+WQ6WWRDAKoZJgpJCPUCxmeccj4qkjmYxsAD80E+JVhgIIBghKAi7WWlZWVlT/nxIZww04Nt20YVQV+xqAKhASAA4D0gAAAAAD/BwAAAACYwYOPkMEAAJjBAAAYQgsEAQEBBCaJPzyLPAVY6KCzgRUBAlZBbgECWUgeAQLvQQwBAsBAuwAAAOAAAAA=",
        "encoding": "base64",
        "path": [
         "scene_KAVFEP4wuMyrJEw6PEsOC8gQP",
         "drc"
        ]
       },
       {
        "data": "RFJBQ08CAgEBAAAAXLQBAbMBAAAtX9u2rWpLVVVVqVZLVVWValVLVVWpVlVLVZVqVVVLValWVVVLlWpVVVVLqQIKAQEQ/wL2XgL/AAEAAQABAAkDAAACAQICAwABAQQBAQAMF70JGQIZEkkfGQK0F5BpXg4ZDy4i6U1F6DUqASfbu9LJXuhPPV9wGXiWA7CIwSF5fAbguxAAT1kB0EN3TOpyAHbGGYURAADxUQA2TwF8lQpgZzkAa54CwJIQQDbr3KMLAVD3JAAYggVAEg1AnBTAIzQAO82NsdIdQHEAxclMzgGw+iPpgGwCQABALgGbVYArCQFsJAWAmm0AO80BUPW0F7OEo4ynygGd8/MVAIDwUYCaVQApBy4CACAdTA5mgJ/IM4AoB+ISAIAFQABALgEpB6IciEvgB4DYBCIdkHRgmclHEg2AFgBA8gzAZhWgZhUg8gxgFgAgEg2ghhWgOIDiWBQCECcFwAgAgPgoAJaEAK4kBBA+CnARAIBwUoADT8ksS0gmaBcyO+WQ6WWRDAKoZJgpJCPUCxmeccj4qkimvx8AD94DmOJGggGEEtR8RV4iJCQkCNeA4WSDIwVCaxhVBX7GoAqEBIADAPaAAAAAAP8HAAAAAFDB29FFwQAAUMEAANBBCwQBAQEEXYk/PP9nPAVk6/6vgRUBAlZBbgECWUgeAQLvQQwBAsBAAwAAAG8AAAA=",
        "encoding": "base64",
        "path": [
         "scene_0KG2bC3er6Nr76b05KOxJenFu",
         "drc"
        ]
       },
       {
        "data": "RFJBQ08CAgEBAAAAXLQBAbMBAAAtX9u2rWpLVVVVqVZLVVWValVLVVWpVlVLVZVqVVVLValWVVVLlWpVVVVLqQIKAQEQ/wL2XgL/AAEAAQABAAkDAAACAQICAwABAQQBAQAMF70JGQIZEkkfGQK0F5BpXg4ZDy4i6U1F6DUqASfbu9LJXuhPPV9wGXiWA7CIwSF5fAbguxAAqaACwEN3TOpyAHbGGYURAADxUQA2TwF8lQpgZzkAa54CwJIQQDbr3KMLAVD3JAAYggVAEg1AnBTAIzQAeeYCyDG3V3EAxZkknAOw2iPpgGwCQABALgGbVYArCQFsJAWAmm0AO80BYPW0F7OEo4ynygGd0/MVAIDwUYCaVQApBy4CACAdTA5mgJ7IM4AoB+ISAIADQABALgEpB6IciEvgB4DYBCIdkHRgmQlIEg2AFgBA8gzAZhWgZhUg8gxgFgAgEg2ghhWgOIDiWBQCECcFwAgAgPgoAJaEAK4kBBA+CnARAIBwUoADT8ksS0gmaBcyO+WQ6WWRDAKoZJgpJCPUCxmeccj4qkjmYxsAD80E+JVhgIIBghKAi7WWlZWVlT/nxIZww04Nt20YVQV+xqAKhASAA4D0gAAAAAD/BwAAAACYwYOPkMEAAJjBAAAYQgsEAQEBBDSJPzzDPAVY6KCzgRUBAlZBbgECWUgeAQLvQQwBAsBANwAAANoAAAA=",
        "encoding": "base64",
        "path": [
         "scene_kCCG7LTvox6DzeAeA49nsVcIq",
         "drc"
        ]
       },
       {
        "data": "RFJBQ08CAgEBAAAAXLQBAbMBAAAtX9u2rWpLVVVVqVZLVVWValVLVVWpVlVLVZVqVVVLValWVVVLlWpVVVVLqQIKAQEQ/wL2XgL/AAEAAQABAAkDAAACAQICAwABAQQBAQAMF70JGQIZEkkfGQK0F5BpXg4ZDy4i6U1F6DUqASfbu9LJXuhPPV9wGXiWA7CIwSF5fAbguxAAT1kB0EN3TOpyAHbGGYURAADxUQA2TwF8lQpgZzkAa54CwJIQQDbr3KMLAVD3JAAYggVAEg1AnBTAIzQAO82NsdIdQHEAxclMzgGw+iPpgGwCQABALgGbVYArCQFsJAWAmm0AO80BUPW0F7OEo4ynygGd8/MVAIDwUYCaVQApBy4CACAdTA5mgJ/IM4AoB+ISAIAFQABALgEpB6IciEvgB4DYBCIdkHRgmclHEg2AFgBA8gzAZhWgZhUg8gxgFgAgEg2ghhWgOIDiWBQCECcFwAgAgPgoAJaEAK4kBBA+CnARAIBwUoADT8ksS0gmaBcyO+WQ6WWRDAKoZJgpJCPUCxmeccj4qkimvx8AD94DmOJGggGEEtR8RV4iJCQkCNeA4WSDIwVCaxhVBX7GoAqEBIADAPaAAAAAAP8HAAAAAFDB29FFwQAAUMEAANBBCwQBAQEEBIk/PAM8BWT676+BFQECVkFuAQJZSB4BAu9BDAECwEALAAAAWQAAAA==",
        "encoding": "base64",
        "path": [
         "scene_R1Q50EbxDs0Hu0UiDnEAbHfDh",
         "drc"
        ]
       },
       {
        "data": "RFJBQ08CAgEBAAAAXLQBAbMBAAAtX9u2rWpLVVVVqVZLVVWValVLVVWpVlVLVZVqVVVLValWVVVLlWpVVVVLqQIKAQEQ/wL2XgL/AAEAAQABAAkDAAACAQICAwABAQQBAQAMF70JGQIZEkkfGQK0F5BpXg4ZDy4i6U1F6DUqASfbu9LJXuhPPV9wGXiWA7CIwSF5fAbguxAAT1kB0EN3TOpyAHbGGYURAADxUQA2TwF8lQpgZzkAa54CwJIQQDbr3KMLAVD3JAAYggVAEg1AnBTAIzQAO82NsdIdQHEAxclMzgGw+iPpgGwCQABALgGbVYArCQFsJAWAmm0AO80BUPW0F7OEo4ynygGd8/MVAIDwUYCaVQApBy4CACAdTA5mgJ/IM4AoB+ISAIAFQABALgEpB6IciEvgB4DYBCIdkHRgmclHEg2AFgBA8gzAZhWgZhUg8gxgFgAgEg2ghhWgOIDiWBQCECcFwAgAgPgoAJaEAK4kBBA+CnARAIBwUoADT8ksS0gmaBcyO+WQ6WWRDAKoZJgpJCPUCxmeccj4qkimvx8AD94DmOJGggGEEtR8RV4iJCQkCNeA4WSDIwVCaxhVBX7GoAqEBIADAPaAAAAAAP8HAAAAAODAYwnVwAAA4MAAAGBBCwQBAQEEZYk/PP+HPAVYXeS/gRUBAlZBbgECWUgeAQLvQQwBAsBAQAAAALgAAAA=",
        "encoding": "base64",
        "path": [
         "scene_nolw5fyimYTmFGBTCbsNzuX7b",
         "drc"
        ]
       },
       {
        "data": "RFJBQ08CAgEBAAAAXLQBAbMBAAAtX9u2rWpLVVVVqVZLVVWValVLVVWpVlVLVZVqVVVLValWVVVLlWpVVVVLqQIKAQEQ/wL2XgL/AAEAAQABAAkDAAACAQICAwABAQQBAQAMF70JGQIZEkkfGQK0F5BpXg4ZDy4i6U1F6DUqASfbu9LJXuhPPV9wGXiWA7CIwSF5fAbguxAAqaACwEN3TOpyAHbGGYURAADxUQA2TwF8lQpgZzkAa54CwJIQQDbr3KMLAVD3JAAYggVAEg1AnBTAIzQAeeYCyDG3V3EAxZkknAOw2iPpgGwCQABALgGbVYArCQFsJAWAmm0AO80BYPW0F7OEo4ynygGd0/MVAIDwUYCaVQApBy4CACAdTA5mgJ7IM4AoB+ISAIADQABALgEpB6IciEvgB4DYBCIdkHRgmQlIEg2AFgBA8gzAZhWgZhUg8gxgFgAgEg2ghhWgOIDiWBQCECcFwAgAgPgoAJaEAK4kBBA+CnARAIBwUoADT8ksS0gmaBcyO+WQ6WWRDAKoZJgpJCPUCxmeccj4qkjmYxsAD80E+JVhgIIBghKAi7WWlZWVlT/nxIZww04Nt20YVQV+xqAKhASAA4D0gAAAAAD/BwAAAAAAwHF4878AAADAAACAQAsEAQEBBBmJPzxXPAVYTvO/gRUBAlZBbgECWUgeAQLvQQwBAsBATgAAANkAAAA=",
        "encoding": "base64",
        "path": [
         "scene_lSeEm193Gj208xbriOL9nDZ0v",
         "drc"
        ]
       },
       {
        "data": "RFJBQ08CAgEBAAAAXLQBAbMBAAAtX9u2rWpLVVVVqVZLVVWValVLVVWpVlVLVZVqVVVLValWVVVLlWpVVVVLqQIKAQEQ/wL2XgL/AAEAAQABAAkDAAACAQICAwABAQQBAQAMF70JGQIZEkkfGQK0F5BpXg4ZDy4i6U1F6DUqASfbu9LJXuhPPV9wGXiWA7CIwSF5fAbguxAAqaACwEN3TOpyAHbGGYURAADxUQA2TwF8lQpgZzkAa54CwJIQQDbr3KMLAVD3JAAYggVAEg1AnBTAIzQAeeYCyDG3V3EAxZkknAOw2iPpgGwCQABALgGbVYArCQFsJAWAmm0AO80BYPW0F7OEo4ynygGd0/MVAIDwUYCaVQApBy4CACAdTA5mgJ7IM4AoB+ISAIADQABALgEpB6IciEvgB4DYBCIdkHRgmQlIEg2AFgBA8gzAZhWgZhUg8gxgFgAgEg2ghhWgOIDiWBQCECcFwAgAgPgoAJaEAK4kBBA+CnARAIBwUoADT8ksS0gmaBcyO+WQ6WWRDAKoZJgpJCPUCxmeccj4qkjmYxsAD80E+JVhgIIBghKAi7WWlZWVlT/nxIZww04Nt20YVQV+xqAKhASAA4D0gAAAAAD/BwAAAAAwwc1iJ8EAADDBAACwQQsEAQEBBFqJPzz/WzwFZPrvr4EVAQJWQW4BAllIHgEC70EMAQLAQJUAAADxAAAA",
        "encoding": "base64",
        "path": [
         "scene_ljtX5TCfK2zW4ckz7hfNFoUwY",
         "drc"
        ]
       },
       {
        "data": "RFJBQ08CAgEBAAAAXLQBAbMBAAAtX9u2rWpLVVVVqVZLVVWValVLVVWpVlVLVZVqVVVLValWVVVLlWpVVVVLqQIKAQEQ/wL2XgL/AAEAAQABAAkDAAACAQICAwABAQQBAQAMF70JGQIZEkkfGQK0F5BpXg4ZDy4i6U1F6DUqASfbu9LJXuhPPV9wGXiWA7CIwSF5fAbguxAAqaACwEN3TOpyAHbGGYURAADxUQA2TwF8lQpgZzkAa54CwJIQQDbr3KMLAVD3JAAYggVAEg1AnBTAIzQAeeYCyDG3V3EAxZkknAOw2iPpgGwCQABALgGbVYArCQFsJAWAmm0AO80BYPW0F7OEo4ynygGd0/MVAIDwUYCaVQApBy4CACAdTA5mgJ7IM4AoB+ISAIADQABALgEpB6IciEvgB4DYBCIdkHRgmQlIEg2AFgBA8gzAZhWgZhUg8gxgFgAgEg2ghhWgOIDiWBQCECcFwAgAgPgoAJaEAK4kBBA+CnARAIBwUoADT8ksS0gmaBcyO+WQ6WWRDAKoZJgpJCPUCxmeccj4qkjmYxsAD80E+JVhgIIBghKAi7WWlZWVlT/nxIZww04Nt20YVQV+xqAKhASAA4D0gAAAAAD/BwAAAABAwFSaNsAAAEDAAADAQAsEAQEBBF+JPzz/bzwFWPeRs4EVAQJWQW4BAllIHgEC70EMAQLAQCAAAAD0AAAA",
        "encoding": "base64",
        "path": [
         "scene_yZhnEcO4Z3h4dlBERra4QiT4y",
         "drc"
        ]
       },
       {
        "data": "RFJBQ08CAgEBAAAAXLQBAbMBAAAtX9u2rWpLVVVVqVZLVVWValVLVVWpVlVLVZVqVVVLValWVVVLlWpVVVVLqQIKAQEQ/wL2XgL/AAEAAQABAAkDAAACAQICAwABAQQBAQAMF70JGQIZEkkfGQK0F5BpXg4ZDy4i6U1F6DUqASfbu9LJXuhPPV9wGXiWA7CIwSF5fAbguxAAqaACwEN3TOpyAHbGGYURAADxUQA2TwF8lQpgZzkAa54CwJIQQDbr3KMLAVD3JAAYggVAEg1AnBTAIzQAeeYCyDG3V3EAxZkknAOw2iPpgGwCQABALgGbVYArCQFsJAWAmm0AO80BYPW0F7OEo4ynygGd0/MVAIDwUYCaVQApBy4CACAdTA5mgJ7IM4AoB+ISAIADQABALgEpB6IciEvgB4DYBCIdkHRgmQlIEg2AFgBA8gzAZhWgZhUg8gxgFgAgEg2ghhWgOIDiWBQCECcFwAgAgPgoAJaEAK4kBBA+CnARAIBwUoADT8ksS0gmaBcyO+WQ6WWRDAKoZJgpJCPUCxmeccj4qkjmYxsAD80E+JVhgIIBghKAi7WWlZWVlT/nxIZww04Nt20YVQV+xqAKhASAA4D0gAAAAAD/BwAAAAAQwb/zCMEAABDBAACQQQsEAQEBBBmJPzxXPAVY6KCzgRUBAlZBbgECWUgeAQLvQQwBAsBASAAAAKgAAAA=",
        "encoding": "base64",
        "path": [
         "scene_WOfJ1VGd7g1MTDf3VRABEwqeN",
         "drc"
        ]
       },
       {
        "data": "RFJBQ08CAgEBAAAAXLQBAbMBAAAtX9u2rWpLVVVVqVZLVVWValVLVVWpVlVLVZVqVVVLValWVVVLlWpVVVVLqQIKAQEQ/wL2XgL/AAEAAQABAAkDAAACAQICAwABAQQBAQAMF70JGQIZEkkfGQK0F5BpXg4ZDy4i6U1F6DUqASfbu9LJXuhPPV9wGXiWA7CIwSF5fAbguxAAqaACwEN3TOpyAHbGGYURAADxUQA2TwF8lQpgZzkAa54CwJIQQDbr3KMLAVD3JAAYggVAEg1AnBTAIzQAeeYCyDG3V3EAxZkknAOw2iPpgGwCQABALgGbVYArCQFsJAWAmm0AO80BYPW0F7OEo4ynygGd0/MVAIDwUYCaVQApBy4CACAdTA5mgJ7IM4AoB+ISAIADQABALgEpB6IciEvgB4DYBCIdkHRgmQlIEg2AFgBA8gzAZhWgZhUg8gxgFgAgEg2ghhWgOIDiWBQCECcFwAgAgPgoAJaEAK4kBBA+CnARAIBwUoADT8ksS0gmaBcyO+WQ6WWRDAKoZJgpJCPUCxmeccj4qkjmYxsAD80E+JVhgIIBghKAi7WWlZWVlT/nxIZww04Nt20YVQV+xqAKhASAA4D0gAAAAAD/BwAAAACIwfxXgcEAAIjBAAAIQgsEAQEBBCyJPzyjPAVk6/6vgRUBAlZBbgECWUgeAQLvQQwBAsBAPQAAAH4AAAA=",
        "encoding": "base64",
        "path": [
         "scene_Jp0P8pXii3wImgeL5MZk5rHFt",
         "drc"
        ]
       },
       {
        "data": "RFJBQ08CAgEBAAAAXLQBAbMBAAAtX9u2rWpLVVVVqVZLVVWValVLVVWpVlVLVZVqVVVLValWVVVLlWpVVVVLqQIKAQEQ/wL2XgL/AAEAAQABAAkDAAACAQICAwABAQQBAQAMF70JGQIZEkkfGQK0F5BpXg4ZDy4i6U1F6DUqASfbu9LJXuhPPV9wGXiWA7CIwSF5fAbguxAAqaACwEN3TOpyAHbGGYURAADxUQA2TwF8lQpgZzkAa54CwJIQQDbr3KMLAVD3JAAYggVAEg1AnBTAIzQAeeYCyDG3V3EAxZkknAOw2iPpgGwCQABALgGbVYArCQFsJAWAmm0AO80BYPW0F7OEo4ynygGd0/MVAIDwUYCaVQApBy4CACAdTA5mgJ7IM4AoB+ISAIADQABALgEpB6IciEvgB4DYBCIdkHRgmQlIEg2AFgBA8gzAZhWgZhUg8gxgFgAgEg2ghhWgOIDiWBQCECcFwAgAgPgoAJaEAK4kBBA+CnARAIBwUoADT8ksS0gmaBcyO+WQ6WWRDAKoZJgpJCPUCxmeccj4qkjmYxsAD80E+JVhgIIBghKAi7WWlZWVlT/nxIZww04Nt20YVQV+xqAKhASAA4D0gAAAAAD/BwAAAABAwVSaNsEAAEDBAADAQQsEAQEBBDaJPzzLPAVYXeS/gRUBAlZBbgECWUgeAQLvQQwBAsBAHwAAAMIAAAA=",
        "encoding": "base64",
        "path": [
         "scene_zEvAk0268v84E0g6dBNLozA65",
         "drc"
        ]
       },
       {
        "data": "RFJBQ08CAgEBAAAAXLQBAbMBAAAtX9u2rWpLVVVVqVZLVVWValVLVVWpVlVLVZVqVVVLValWVVVLlWpVVVVLqQIKAQEQ/wL2XgL/AAEAAQABAAkDAAACAQICAwABAQQBAQAMF70JGQIZEkkfGQK0F5BpXg4ZDy4i6U1F6DUqASfbu9LJXuhPPV9wGXiWA7CIwSF5fAbguxAAqaACwEN3TOpyAHbGGYURAADxUQA2TwF8lQpgZzkAa54CwJIQQDbr3KMLAVD3JAAYggVAEg1AnBTAIzQAeeYCyDG3V3EAxZkknAOw2iPpgGwCQABALgGbVYArCQFsJAWAmm0AO80BYPW0F7OEo4ynygGd0/MVAIDwUYCaVQApBy4CACAdTA5mgJ7IM4AoB+ISAIADQABALgEpB6IciEvgB4DYBCIdkHRgmQlIEg2AFgBA8gzAZhWgZhUg8gxgFgAgEg2ghhWgOIDiWBQCECcFwAgAgPgoAJaEAK4kBBA+CnARAIBwUoADT8ksS0gmaBcyO+WQ6WWRDAKoZJgpJCPUCxmeccj4qkjmYxsAD80E+JVhgIIBghKAi7WWlZWVlT/nxIZww04Nt20YVQV+xqAKhASAA4D0gAAAAAD/BwAAAACIwfxXgcEAAIjBAAAIQgsEAQEBBGuJPzz/nzwFWOigs4EVAQJWQW4BAllIHgEC70EMAQLAQEEAAADMAAAA",
        "encoding": "base64",
        "path": [
         "scene_5W3zoZiZ0HxxsFM35zxB5CAzt",
         "drc"
        ]
       },
       {
        "data": "RFJBQ08CAgEBAAAAXLQBAbMBAAAtX9u2rWpLVVVVqVZLVVWValVLVVWpVlVLVZVqVVVLValWVVVLlWpVVVVLqQIKAQEQ/wL2XgL/AAEAAQABAAkDAAACAQICAwABAQQBAQAMF70JGQIZEkkfGQK0F5BpXg4ZDy4i6U1F6DUqASfbu9LJXuhPPV9wGXiWA7CIwSF5fAbguxAAT1kB0EN3TOpyAHbGGYURAADxUQA2TwF8lQpgZzkAa54CwJIQQDbr3KMLAVD3JAAYggVAEg1AnBTAIzQAO82NsdIdQHEAxclMzgGw+iPpgGwCQABALgGbVYArCQFsJAWAmm0AO80BUPW0F7OEo4ynygGd8/MVAIDwUYCaVQApBy4CACAdTA5mgJ/IM4AoB+ISAIAFQABALgEpB6IciEvgB4DYBCIdkHRgmclHEg2AFgBA8gzAZhWgZhUg8gxgFgAgEg2ghhWgOIDiWBQCECcFwAgAgPgoAJaEAK4kBBA+CnARAIBwUoADT8ksS0gmaBcyO+WQ6WWRDAKoZJgpJCPUCxmeccj4qkimvx8AD94DmOJGggGEEtR8RV4iJCQkCNeA4WSDIwVCaxhVBX7GoAqEBIADAPaAAAAAAP8HAAAAAHDB6kBkwQAAcMEAAPBBCwQBAQEEA4k/PDwFWF3kv4EVAQJWQW4BAllIHgEC70EMAQLAQJkAAACeAAAA",
        "encoding": "base64",
        "path": [
         "scene_7RF9nfyx6EtDX94DI8MiC4JIC",
         "drc"
        ]
       },
       {
        "data": "RFJBQ08CAgEBAAAAXLQBAbMBAAAtX9u2rWpLVVVVqVZLVVWValVLVVWpVlVLVZVqVVVLValWVVVLlWpVVVVLqQIKAQEQ/wL2XgL/AAEAAQABAAkDAAACAQICAwABAQQBAQAMF70JGQIZEkkfGQK0F5BpXg4ZDy4i6U1F6DUqASfbu9LJXuhPPV9wGXiWA7CIwSF5fAbguxAAqaACwEN3TOpyAHbGGYURAADxUQA2TwF8lQpgZzkAa54CwJIQQDbr3KMLAVD3JAAYggVAEg1AnBTAIzQAeeYCyDG3V3EAxZkknAOw2iPpgGwCQABALgGbVYArCQFsJAWAmm0AO80BYPW0F7OEo4ynygGd0/MVAIDwUYCaVQApBy4CACAdTA5mgJ7IM4AoB+ISAIADQABALgEpB6IciEvgB4DYBCIdkHRgmQlIEg2AFgBA8gzAZhWgZhUg8gxgFgAgEg2ghhWgOIDiWBQCECcFwAgAgPgoAJaEAK4kBBA+CnARAIBwUoADT8ksS0gmaBcyO+WQ6WWRDAKoZJgpJCPUCxmeccj4qkjmYxsAD80E+JVhgIIBghKAi7WWlZWVlT/nxIZww04Nt20YVQV+xqAKhASAA4D0gAAAAAD/BwAAAAAAwXF488AAAADBAACAQQsEAQEBBDqJPzzbPAVYXeS/gRUBAlZBbgECWUgeAQLvQQwBAsBABgAAAGAAAAA=",
        "encoding": "base64",
        "path": [
         "scene_ffdFBGlxaTNAFva0r7mnIMKkp",
         "drc"
        ]
       },
       {
        "data": "RFJBQ08CAgEBAAAAXLQBAbMBAAAtX9u2rWpLVVVVqVZLVVWValVLVVWpVlVLVZVqVVVLValWVVVLlWpVVVVLqQIKAQEQ/wL2XgL/AAEAAQABAAkDAAACAQICAwABAQQBAQAMF70JGQIZEkkfGQK0F5BpXg4ZDy4i6U1F6DUqASfbu9LJXuhPPV9wGXiWA7CIwSF5fAbguxAAqaACwEN3TOpyAHbGGYURAADxUQA2TwF8lQpgZzkAa54CwJIQQDbr3KMLAVD3JAAYggVAEg1AnBTAIzQAeeYCyDG3V3EAxZkknAOw2iPpgGwCQABALgGbVYArCQFsJAWAmm0AO80BYPW0F7OEo4ynygGd0/MVAIDwUYCaVQApBy4CACAdTA5mgJ7IM4AoB+ISAIADQABALgEpB6IciEvgB4DYBCIdkHRgmQlIEg2AFgBA8gzAZhWgZhUg8gxgFgAgEg2ghhWgOIDiWBQCECcFwAgAgPgoAJaEAK4kBBA+CnARAIBwUoADT8ksS0gmaBcyO+WQ6WWRDAKoZJgpJCPUCxmeccj4qkjmYxsAD80E+JVhgIIBghKAi7WWlZWVlT/nxIZww04Nt20YVQV+xqAKhASAA4D0gAAAAAD/BwAAAACIwfxXgcEAAIjBAAAIQgsEAQEBBB2JPzxnPAVk+u+vgRUBAlZBbgECWUgeAQLvQQwBAsBAqwAAANIAAAA=",
        "encoding": "base64",
        "path": [
         "scene_rvuJ4Qr4Lftzqh7rBi7ZIXaVu",
         "drc"
        ]
       },
       {
        "data": "RFJBQ08CAgEBAAAAXLQBAbMBAAAtX9u2rWpLVVVVqVZLVVWValVLVVWpVlVLVZVqVVVLValWVVVLlWpVVVVLqQIKAQEQ/wL2XgL/AAEAAQABAAkDAAACAQICAwABAQQBAQAMF70JGQIZEkkfGQK0F5BpXg4ZDy4i6U1F6DUqASfbu9LJXuhPPV9wGXiWA7CIwSF5fAbguxAAqaACwEN3TOpyAHbGGYURAADxUQA2TwF8lQpgZzkAa54CwJIQQDbr3KMLAVD3JAAYggVAEg1AnBTAIzQAeeYCyDG3V3EAxZkknAOw2iPpgGwCQABALgGbVYArCQFsJAWAmm0AO80BYPW0F7OEo4ynygGd0/MVAIDwUYCaVQApBy4CACAdTA5mgJ7IM4AoB+ISAIADQABALgEpB6IciEvgB4DYBCIdkHRgmQlIEg2AFgBA8gzAZhWgZhUg8gxgFgAgEg2ghhWgOIDiWBQCECcFwAgAgPgoAJaEAK4kBBA+CnARAIBwUoADT8ksS0gmaBcyO+WQ6WWRDAKoZJgpJCPUCxmeccj4qkjmYxsAD80E+JVhgIIBghKAi7WWlZWVlT/nxIZww04Nt20YVQV+xqAKhASAA4D0gAAAAAD/BwAAAACAwHF4c8AAAIDAAAAAQQsEAQEBBA6JPzwrPAVYTvO/gRUBAlZBbgECWUgeAQLvQQwBAsBAegAAAKAAAAA=",
        "encoding": "base64",
        "path": [
         "scene_TMU1V9QvnfZGOh6gMKgPgOfYi",
         "drc"
        ]
       },
       {
        "data": "RFJBQ08CAgEBAAAAXLQBAbMBAAAtX9u2rWpLVVVVqVZLVVWValVLVVWpVlVLVZVqVVVLValWVVVLlWpVVVVLqQIKAQEQ/wL2XgL/AAEAAQABAAkDAAACAQICAwABAQQBAQAMF70JGQIZEkkfGQK0F5BpXg4ZDy4i6U1F6DUqASfbu9LJXuhPPV9wGXiWA7CIwSF5fAbguxAAqaACwEN3TOpyAHbGGYURAADxUQA2TwF8lQpgZzkAa54CwJIQQDbr3KMLAVD3JAAYggVAEg1AnBTAIzQAeeYCyDG3V3EAxZkknAOw2iPpgGwCQABALgGbVYArCQFsJAWAmm0AO80BYPW0F7OEo4ynygGd0/MVAIDwUYCaVQApBy4CACAdTA5mgJ7IM4AoB+ISAIADQABALgEpB6IciEvgB4DYBCIdkHRgmQlIEg2AFgBA8gzAZhWgZhUg8gxgFgAgEg2ghhWgOIDiWBQCECcFwAgAgPgoAJaEAK4kBBA+CnARAIBwUoADT8ksS0gmaBcyO+WQ6WWRDAKoZJgpJCPUCxmeccj4qkjmYxsAD80E+JVhgIIBghKAi7WWlZWVlT/nxIZww04Nt20YVQV+xqAKhASAA4D0gAAAAAD/BwAAAACAwHF4c8AAAIDAAAAAQQsEAQEBBCyJPzyjPAVY6KCzgRUBAlZBbgECWUgeAQLvQQwBAsBAYgAAAKgAAAA=",
        "encoding": "base64",
        "path": [
         "scene_VoQnGbP6pd0FwZNLX2FYmWT77",
         "drc"
        ]
       },
       {
        "data": "RFJBQ08CAgEBAAAAXLQBAbMBAAAtX9u2rWpLVVVVqVZLVVWValVLVVWpVlVLVZVqVVVLValWVVVLlWpVVVVLqQIKAQEQ/wL2XgL/AAEAAQABAAkDAAACAQICAwABAQQBAQAMF70JGQIZEkkfGQK0F5BpXg4ZDy4i6U1F6DUqASfbu9LJXuhPPV9wGXiWA7CIwSF5fAbguxAAqaACwEN3TOpyAHbGGYURAADxUQA2TwF8lQpgZzkAa54CwJIQQDbr3KMLAVD3JAAYggVAEg1AnBTAIzQAeeYCyDG3V3EAxZkknAOw2iPpgGwCQABALgGbVYArCQFsJAWAmm0AO80BYPW0F7OEo4ynygGd0/MVAIDwUYCaVQApBy4CACAdTA5mgJ7IM4AoB+ISAIADQABALgEpB6IciEvgB4DYBCIdkHRgmQlIEg2AFgBA8gzAZhWgZhUg8gxgFgAgEg2ghhWgOIDiWBQCECcFwAgAgPgoAJaEAK4kBBA+CnARAIBwUoADT8ksS0gmaBcyO+WQ6WWRDAKoZJgpJCPUCxmeccj4qkjmYxsAD80E+JVhgIIBghKAi7WWlZWVlT/nxIZww04Nt20YVQV+xqAKhASAA4D0gAAAAAD/BwAAAABAwVSaNsEAAEDBAADAQQsEAQEBBCuJPzyfPAVY95GzgRUBAlZBbgECWUgeAQLvQQwBAsBAXQAAANIAAAA=",
        "encoding": "base64",
        "path": [
         "scene_j1F4c6ovpnEHkGzUjLo3eWrRo",
         "drc"
        ]
       },
       {
        "data": "RFJBQ08CAgEBAAAAXLQBAbMBAAAtX9u2rWpLVVVVqVZLVVWValVLVVWpVlVLVZVqVVVLValWVVVLlWpVVVVLqQIKAQEQ/wL2XgL/AAEAAQABAAkDAAACAQICAwABAQQBAQAMF70JGQIZEkkfGQK0F5BpXg4ZDy4i6U1F6DUqASfbu9LJXuhPPV9wGXiWA7CIwSF5fAbguxAAqaACwEN3TOpyAHbGGYURAADxUQA2TwF8lQpgZzkAa54CwJIQQDbr3KMLAVD3JAAYggVAEg1AnBTAIzQAeeYCyDG3V3EAxZkknAOw2iPpgGwCQABALgGbVYArCQFsJAWAmm0AO80BYPW0F7OEo4ynygGd0/MVAIDwUYCaVQApBy4CACAdTA5mgJ7IM4AoB+ISAIADQABALgEpB6IciEvgB4DYBCIdkHRgmQlIEg2AFgBA8gzAZhWgZhUg8gxgFgAgEg2ghhWgOIDiWBQCECcFwAgAgPgoAJaEAK4kBBA+CnARAIBwUoADT8ksS0gmaBcyO+WQ6WWRDAKoZJgpJCPUCxmeccj4qkjmYxsAD80E+JVhgIIBghKAi7WWlZWVlT/nxIZww04Nt20YVQV+xqAKhASAA4D0gAAAAAD/BwAAAADAwFSatsAAAMDAAABAQQsEAQEBBC2JPzynPAVYXeS/gRUBAlZBbgECWUgeAQLvQQwBAsBAJAAAAGoAAAA=",
        "encoding": "base64",
        "path": [
         "scene_HUXzjL1FnMm6jKH2HFOMIhfqP",
         "drc"
        ]
       },
       {
        "data": "RFJBQ08CAgEBAAAAXLQBAbMBAAAtX9u2rWpLVVVVqVZLVVWValVLVVWpVlVLVZVqVVVLValWVVVLlWpVVVVLqQIKAQEQ/wL2XgL/AAEAAQABAAkDAAACAQICAwABAQQBAQAMF70JGQIZEkkfGQK0F5BpXg4ZDy4i6U1F6DUqASfbu9LJXuhPPV9wGXiWA7CIwSF5fAbguxAAT1kB0EN3TOpyAHbGGYURAADxUQA2TwF8lQpgZzkAa54CwJIQQDbr3KMLAVD3JAAYggVAEg1AnBTAIzQAO82NsdIdQHEAxclMzgGw+iPpgGwCQABALgGbVYArCQFsJAWAmm0AO80BUPW0F7OEo4ynygGd8/MVAIDwUYCaVQApBy4CACAdTA5mgJ/IM4AoB+ISAIAFQABALgEpB6IciEvgB4DYBCIdkHRgmclHEg2AFgBA8gzAZhWgZhUg8gxgFgAgEg2ghhWgOIDiWBQCECcFwAgAgPgoAJaEAK4kBBA+CnARAIBwUoADT8ksS0gmaBcyO+WQ6WWRDAKoZJgpJCPUCxmeccj4qkimvx8AD94DmOJGggGEEtR8RV4iJCQkCNeA4WSDIwVCaxhVBX7GoAqEBIADAPaAAAAAAP8HAAAAAGDBYwlVwQAAYMEAAOBBCwQBAQEEE4k/PD88BVhO87+BFQECVkFuAQJZSB4BAu9BDAECwEAvAAAA9wAAAA==",
        "encoding": "base64",
        "path": [
         "scene_JhTBDit0nWRzygyP9c6mMOllJ",
         "drc"
        ]
       },
       {
        "data": "RFJBQ08CAgEBAAAAXLQBAbMBAAAtX9u2rWpLVVVVqVZLVVWValVLVVWpVlVLVZVqVVVLValWVVVLlWpVVVVLqQIKAQEQ/wL2XgL/AAEAAQABAAkDAAACAQICAwABAQQBAQAMF70JGQIZEkkfGQK0F5BpXg4ZDy4i6U1F6DUqASfbu9LJXuhPPV9wGXiWA7CIwSF5fAbguxAAqaACwEN3TOpyAHbGGYURAADxUQA2TwF8lQpgZzkAa54CwJIQQDbr3KMLAVD3JAAYggVAEg1AnBTAIzQAeeYCyDG3V3EAxZkknAOw2iPpgGwCQABALgGbVYArCQFsJAWAmm0AO80BYPW0F7OEo4ynygGd0/MVAIDwUYCaVQApBy4CACAdTA5mgJ7IM4AoB+ISAIADQABALgEpB6IciEvgB4DYBCIdkHRgmQlIEg2AFgBA8gzAZhWgZhUg8gxgFgAgEg2ghhWgOIDiWBQCECcFwAgAgPgoAJaEAK4kBBA+CnARAIBwUoADT8ksS0gmaBcyO+WQ6WWRDAKoZJgpJCPUCxmeccj4qkjmYxsAD80E+JVhgIIBghKAi7WWlZWVlT/nxIZww04Nt20YVQV+xqAKhASAA4D0gAAAAAD/BwAAAAAQwb/zCMEAABDBAACQQQsEAQEBBCqJPzybPAVk6/6vgRUBAlZBbgECWUgeAQLvQQwBAsBAWgAAAJYAAAA=",
        "encoding": "base64",
        "path": [
         "scene_EB6XHnOVTkNDKGiSIlDqtJT2o",
         "drc"
        ]
       },
       {
        "data": "RFJBQ08CAgEBAAAAXLQBAbMBAAAtX9u2rWpLVVVVqVZLVVWValVLVVWpVlVLVZVqVVVLValWVVVLlWpVVVVLqQIKAQEQ/wL2XgL/AAEAAQABAAkDAAACAQICAwABAQQBAQAMF70JGQIZEkkfGQK0F5BpXg4ZDy4i6U1F6DUqASfbu9LJXuhPPV9wGXiWA7CIwSF5fAbguxAAqaACwEN3TOpyAHbGGYURAADxUQA2TwF8lQpgZzkAa54CwJIQQDbr3KMLAVD3JAAYggVAEg1AnBTAIzQAeeYCyDG3V3EAxZkknAOw2iPpgGwCQABALgGbVYArCQFsJAWAmm0AO80BYPW0F7OEo4ynygGd0/MVAIDwUYCaVQApBy4CACAdTA5mgJ7IM4AoB+ISAIADQABALgEpB6IciEvgB4DYBCIdkHRgmQlIEg2AFgBA8gzAZhWgZhUg8gxgFgAgEg2ghhWgOIDiWBQCECcFwAgAgPgoAJaEAK4kBBA+CnARAIBwUoADT8ksS0gmaBcyO+WQ6WWRDAKoZJgpJCPUCxmeccj4qkjmYxsAD80E+JVhgIIBghKAi7WWlZWVlT/nxIZww04Nt20YVQV+xqAKhASAA4D0gAAAAAD/BwAAAAAwwc1iJ8EAADDBAACwQQsEAQEBBIEBiT88//c8BWT676+BFQECVkFuAQJZSB4BAu9BDAECwEAcAAAA1AAAAA==",
        "encoding": "base64",
        "path": [
         "scene_jsUJtleU6REvrTniMygDVtLgM",
         "drc"
        ]
       },
       {
        "data": "RFJBQ08CAgEBAAAAXLQBAbMBAAAtX9u2rWpLVVVVqVZLVVWValVLVVWpVlVLVZVqVVVLValWVVVLlWpVVVVLqQIKAQEQ/wL2XgL/AAEAAQABAAkDAAACAQICAwABAQQBAQAMF70JGQIZEkkfGQK0F5BpXg4ZDy4i6U1F6DUqASfbu9LJXuhPPV9wGXiWA7CIwSF5fAbguxAAqaACwEN3TOpyAHbGGYURAADxUQA2TwF8lQpgZzkAa54CwJIQQDbr3KMLAVD3JAAYggVAEg1AnBTAIzQAeeYCyDG3V3EAxZkknAOw2iPpgGwCQABALgGbVYArCQFsJAWAmm0AO80BYPW0F7OEo4ynygGd0/MVAIDwUYCaVQApBy4CACAdTA5mgJ7IM4AoB+ISAIADQABALgEpB6IciEvgB4DYBCIdkHRgmQlIEg2AFgBA8gzAZhWgZhUg8gxgFgAgEg2ghhWgOIDiWBQCECcFwAgAgPgoAJaEAK4kBBA+CnARAIBwUoADT8ksS0gmaBcyO+WQ6WWRDAKoZJgpJCPUCxmeccj4qkjmYxsAD80E+JVhgIIBghKAi7WWlZWVlT/nxIZww04Nt20YVQV+xqAKhASAA4D0gAAAAAD/BwAAAACIwfxXgcEAAIjBAAAIQgsEAQEBBIIBiT88//s8BVj3kbOBFQECVkFuAQJZSB4BAu9BDAECwEAtAAAA5QAAAA==",
        "encoding": "base64",
        "path": [
         "scene_j8lUrGZSoNsNZjojU4L1nNzwp",
         "drc"
        ]
       },
       {
        "data": "RFJBQ08CAgEBAAAAXLQBAbMBAAAtX9u2rWpLVVVVqVZLVVWValVLVVWpVlVLVZVqVVVLValWVVVLlWpVVVVLqQIKAQEQ/wL2XgL/AAEAAQABAAkDAAACAQICAwABAQQBAQAMF70JGQIZEkkfGQK0F5BpXg4ZDy4i6U1F6DUqASfbu9LJXuhPPV9wGXiWA7CIwSF5fAbguxAAqaACwEN3TOpyAHbGGYURAADxUQA2TwF8lQpgZzkAa54CwJIQQDbr3KMLAVD3JAAYggVAEg1AnBTAIzQAeeYCyDG3V3EAxZkknAOw2iPpgGwCQABALgGbVYArCQFsJAWAmm0AO80BYPW0F7OEo4ynygGd0/MVAIDwUYCaVQApBy4CACAdTA5mgJ7IM4AoB+ISAIADQABALgEpB6IciEvgB4DYBCIdkHRgmQlIEg2AFgBA8gzAZhWgZhUg8gxgFgAgEg2ghhWgOIDiWBQCECcFwAgAgPgoAJaEAK4kBBA+CnARAIBwUoADT8ksS0gmaBcyO+WQ6WWRDAKoZJgpJCPUCxmeccj4qkjmYxsAD80E+JVhgIIBghKAi7WWlZWVlT/nxIZww04Nt20YVQV+xqAKhASAA4D0gAAAAAD/BwAAAADAwFSatsAAAMDAAABAQQsEAQEBBDeJPzzPPAVY95GzgRUBAlZBbgECWUgeAQLvQQwBAsBAQAAAAIwAAAA=",
        "encoding": "base64",
        "path": [
         "scene_F69x8CllKul70hkN4quN25FIk",
         "drc"
        ]
       },
       {
        "data": "RFJBQ08CAgEBAAAAXLQBAbMBAAAtX9u2rWpLVVVVqVZLVVWValVLVVWpVlVLVZVqVVVLValWVVVLlWpVVVVLqQIKAQEQ/wL2XgL/AAEAAQABAAkDAAACAQICAwABAQQBAQAMF70JGQIZEkkfGQK0F5BpXg4ZDy4i6U1F6DUqASfbu9LJXuhPPV9wGXiWA7CIwSF5fAbguxAAqaACwEN3TOpyAHbGGYURAADxUQA2TwF8lQpgZzkAa54CwJIQQDbr3KMLAVD3JAAYggVAEg1AnBTAIzQAeeYCyDG3V3EAxZkknAOw2iPpgGwCQABALgGbVYArCQFsJAWAmm0AO80BYPW0F7OEo4ynygGd0/MVAIDwUYCaVQApBy4CACAdTA5mgJ7IM4AoB+ISAIADQABALgEpB6IciEvgB4DYBCIdkHRgmQlIEg2AFgBA8gzAZhWgZhUg8gxgFgAgEg2ghhWgOIDiWBQCECcFwAgAgPgoAJaEAK4kBBA+CnARAIBwUoADT8ksS0gmaBcyO+WQ6WWRDAKoZJgpJCPUCxmeccj4qkjmYxsAD80E+JVhgIIBghKAi7WWlZWVlT/nxIZww04Nt20YVQV+xqAKhASAA4D0gAAAAAD/BwAAAACIwfxXgcEAAIjBAAAIQgsEAQEBBAWJPzwHPAVYTvO/gRUBAlZBbgECWUgeAQLvQQwBAsBACgAAALQAAAA=",
        "encoding": "base64",
        "path": [
         "scene_MM9H4Nzvl3BLcT9uETOQqH1K7",
         "drc"
        ]
       },
       {
        "data": "RFJBQ08CAgEBAAAAXLQBAbMBAAAtX9u2rWpLVVVVqVZLVVWValVLVVWpVlVLVZVqVVVLValWVVVLlWpVVVVLqQIKAQEQ/wL2XgL/AAEAAQABAAkDAAACAQICAwABAQQBAQAMF70JGQIZEkkfGQK0F5BpXg4ZDy4i6U1F6DUqASfbu9LJXuhPPV9wGXiWA7CIwSF5fAbguxAAqaACwEN3TOpyAHbGGYURAADxUQA2TwF8lQpgZzkAa54CwJIQQDbr3KMLAVD3JAAYggVAEg1AnBTAIzQAeeYCyDG3V3EAxZkknAOw2iPpgGwCQABALgGbVYArCQFsJAWAmm0AO80BYPW0F7OEo4ynygGd0/MVAIDwUYCaVQApBy4CACAdTA5mgJ7IM4AoB+ISAIADQABALgEpB6IciEvgB4DYBCIdkHRgmQlIEg2AFgBA8gzAZhWgZhUg8gxgFgAgEg2ghhWgOIDiWBQCECcFwAgAgPgoAJaEAK4kBBA+CnARAIBwUoADT8ksS0gmaBcyO+WQ6WWRDAKoZJgpJCPUCxmeccj4qkjmYxsAD80E+JVhgIIBghKAi7WWlZWVlT/nxIZww04Nt20YVQV+xqAKhASAA4D0gAAAAAD/BwAAAACYwYOPkMEAAJjBAAAYQgsEAQEBBAOJPzw8BVjooLOBFQECVkFuAQJZSB4BAu9BDAECwEBUAAAA4AAAAA==",
        "encoding": "base64",
        "path": [
         "scene_6zZixy2yVB8StkThl0gdiEW74",
         "drc"
        ]
       },
       {
        "data": "RFJBQ08CAgEBAAAAXLQBAbMBAAAtX9u2rWpLVVVVqVZLVVWValVLVVWpVlVLVZVqVVVLValWVVVLlWpVVVVLqQIKAQEQ/wL2XgL/AAEAAQABAAkDAAACAQICAwABAQQBAQAMF70JGQIZEkkfGQK0F5BpXg4ZDy4i6U1F6DUqASfbu9LJXuhPPV9wGXiWA7CIwSF5fAbguxAAqaACwEN3TOpyAHbGGYURAADxUQA2TwF8lQpgZzkAa54CwJIQQDbr3KMLAVD3JAAYggVAEg1AnBTAIzQAeeYCyDG3V3EAxZkknAOw2iPpgGwCQABALgGbVYArCQFsJAWAmm0AO80BYPW0F7OEo4ynygGd0/MVAIDwUYCaVQApBy4CACAdTA5mgJ7IM4AoB+ISAIADQABALgEpB6IciEvgB4DYBCIdkHRgmQlIEg2AFgBA8gzAZhWgZhUg8gxgFgAgEg2ghhWgOIDiWBQCECcFwAgAgPgoAJaEAK4kBBA+CnARAIBwUoADT8ksS0gmaBcyO+WQ6WWRDAKoZJgpJCPUCxmeccj4qkjmYxsAD80E+JVhgIIBghKAi7WWlZWVlT/nxIZww04Nt20YVQV+xqAKhASAA4D0gAAAAAD/BwAAAABAwFSaNsAAAEDAAADAQAsEAQEBBIUBiT88//8HPAVk+u+vgRUBAlZBbgECWUgeAQLvQQwBAsBADwAAAMcAAAA=",
        "encoding": "base64",
        "path": [
         "scene_ZINHZ36YNRqPzmm2zAZ7006xs",
         "drc"
        ]
       },
       {
        "data": "RFJBQ08CAgEBAAAAXLQBAbMBAAAtX9u2rWpLVVVVqVZLVVWValVLVVWpVlVLVZVqVVVLValWVVVLlWpVVVVLqQIKAQEQ/wL2XgL/AAEAAQABAAkDAAACAQICAwABAQQBAQAMF70JGQIZEkkfGQK0F5BpXg4ZDy4i6U1F6DUqASfbu9LJXuhPPV9wGXiWA7CIwSF5fAbguxAAqaACwEN3TOpyAHbGGYURAADxUQA2TwF8lQpgZzkAa54CwJIQQDbr3KMLAVD3JAAYggVAEg1AnBTAIzQAeeYCyDG3V3EAxZkknAOw2iPpgGwCQABALgGbVYArCQFsJAWAmm0AO80BYPW0F7OEo4ynygGd0/MVAIDwUYCaVQApBy4CACAdTA5mgJ7IM4AoB+ISAIADQABALgEpB6IciEvgB4DYBCIdkHRgmQlIEg2AFgBA8gzAZhWgZhUg8gxgFgAgEg2ghhWgOIDiWBQCECcFwAgAgPgoAJaEAK4kBBA+CnARAIBwUoADT8ksS0gmaBcyO+WQ6WWRDAKoZJgpJCPUCxmeccj4qkjmYxsAD80E+JVhgIIBghKAi7WWlZWVlT/nxIZww04Nt20YVQV+xqAKhASAA4D0gAAAAAD/BwAAAAAAwXF488AAAADBAACAQQsEAQEBBDKJPzy7PAVYXeS/gRUBAlZBbgECWUgeAQLvQQwBAsBAFgAAAMsAAAA=",
        "encoding": "base64",
        "path": [
         "scene_lDjNWic0lSX1wOHjGqZfmanRe",
         "drc"
        ]
       },
       {
        "data": "RFJBQ08CAgEBAAAAXLQBAbMBAAAtX9u2rWpLVVVVqVZLVVWValVLVVWpVlVLVZVqVVVLValWVVVLlWpVVVVLqQIKAQEQ/wL2XgL/AAEAAQABAAkDAAACAQICAwABAQQBAQAMF70JGQIZEkkfGQK0F5BpXg4ZDy4i6U1F6DUqASfbu9LJXuhPPV9wGXiWA7CIwSF5fAbguxAAqaACwEN3TOpyAHbGGYURAADxUQA2TwF8lQpgZzkAa54CwJIQQDbr3KMLAVD3JAAYggVAEg1AnBTAIzQAeeYCyDG3V3EAxZkknAOw2iPpgGwCQABALgGbVYArCQFsJAWAmm0AO80BYPW0F7OEo4ynygGd0/MVAIDwUYCaVQApBy4CACAdTA5mgJ7IM4AoB+ISAIADQABALgEpB6IciEvgB4DYBCIdkHRgmQlIEg2AFgBA8gzAZhWgZhUg8gxgFgAgEg2ghhWgOIDiWBQCECcFwAgAgPgoAJaEAK4kBBA+CnARAIBwUoADT8ksS0gmaBcyO+WQ6WWRDAKoZJgpJCPUCxmeccj4qkjmYxsAD80E+JVhgIIBghKAi7WWlZWVlT/nxIZww04Nt20YVQV+xqAKhASAA4D0gAAAAAD/BwAAAADAwFSatsAAAMDAAABAQQsEAQEBBCKJPzx7PAVk6/6vgRUBAlZBbgECWUgeAQLvQQwBAsBAdQAAAOYAAAA=",
        "encoding": "base64",
        "path": [
         "scene_9w1EjnAqQalh3Gcb856D6CVtm",
         "drc"
        ]
       },
       {
        "data": "RFJBQ08CAgEBAAAAXLQBAbMBAAAtX9u2rWpLVVVVqVZLVVWValVLVVWpVlVLVZVqVVVLValWVVVLlWpVVVVLqQIKAQEQ/wL2XgL/AAEAAQABAAkDAAACAQICAwABAQQBAQAMF70JGQIZEkkfGQK0F5BpXg4ZDy4i6U1F6DUqASfbu9LJXuhPPV9wGXiWA7CIwSF5fAbguxAAqaACwEN3TOpyAHbGGYURAADxUQA2TwF8lQpgZzkAa54CwJIQQDbr3KMLAVD3JAAYggVAEg1AnBTAIzQAeeYCyDG3V3EAxZkknAOw2iPpgGwCQABALgGbVYArCQFsJAWAmm0AO80BYPW0F7OEo4ynygGd0/MVAIDwUYCaVQApBy4CACAdTA5mgJ7IM4AoB+ISAIADQABALgEpB6IciEvgB4DYBCIdkHRgmQlIEg2AFgBA8gzAZhWgZhUg8gxgFgAgEg2ghhWgOIDiWBQCECcFwAgAgPgoAJaEAK4kBBA+CnARAIBwUoADT8ksS0gmaBcyO+WQ6WWRDAKoZJgpJCPUCxmeccj4qkjmYxsAD80E+JVhgIIBghKAi7WWlZWVlT/nxIZww04Nt20YVQV+xqAKhASAA4D0gAAAAAD/BwAAAACQwb/ziMEAAJDBAAAQQgsEAQEBBDKJPzy7PAVY95GzgRUBAlZBbgECWUgeAQLvQQwBAsBAOwAAALkAAAA=",
        "encoding": "base64",
        "path": [
         "scene_PNx6kSngZ2OJCFHdTCc2fZxAQ",
         "drc"
        ]
       },
       {
        "data": "RFJBQ08CAgEBAAAAXLQBAbMBAAAtX9u2rWpLVVVVqVZLVVWValVLVVWpVlVLVZVqVVVLValWVVVLlWpVVVVLqQIKAQEQ/wL2XgL/AAEAAQABAAkDAAACAQICAwABAQQBAQAMF70JGQIZEkkfGQK0F5BpXg4ZDy4i6U1F6DUqASfbu9LJXuhPPV9wGXiWA7CIwSF5fAbguxAAT1kB0EN3TOpyAHbGGYURAADxUQA2TwF8lQpgZzkAa54CwJIQQDbr3KMLAVD3JAAYggVAEg1AnBTAIzQAO82NsdIdQHEAxclMzgGw+iPpgGwCQABALgGbVYArCQFsJAWAmm0AO80BUPW0F7OEo4ynygGd8/MVAIDwUYCaVQApBy4CACAdTA5mgJ/IM4AoB+ISAIAFQABALgEpB6IciEvgB4DYBCIdkHRgmclHEg2AFgBA8gzAZhWgZhUg8gxgFgAgEg2ghhWgOIDiWBQCECcFwAgAgPgoAJaEAK4kBBA+CnARAIBwUoADT8ksS0gmaBcyO+WQ6WWRDAKoZJgpJCPUCxmeccj4qkimvx8AD94DmOJGggGEEtR8RV4iJCQkCNeA4WSDIwVCaxhVBX7GoAqEBIADAPaAAAAAAP8HAAAAAGDBYwlVwQAAYMEAAOBBCwQBAQEEfYk/PP/nPAVY95GzgRUBAlZBbgECWUgeAQLvQQwBAsBAHQAAALUAAAA=",
        "encoding": "base64",
        "path": [
         "scene_xNLI6R49YnwHFcgotAMSYVLh8",
         "drc"
        ]
       },
       {
        "data": "RFJBQ08CAgEBAAAAXLQBAbMBAAAtX9u2rWpLVVVVqVZLVVWValVLVVWpVlVLVZVqVVVLValWVVVLlWpVVVVLqQIKAQEQ/wL2XgL/AAEAAQABAAkDAAACAQICAwABAQQBAQAMF70JGQIZEkkfGQK0F5BpXg4ZDy4i6U1F6DUqASfbu9LJXuhPPV9wGXiWA7CIwSF5fAbguxAAqaACwEN3TOpyAHbGGYURAADxUQA2TwF8lQpgZzkAa54CwJIQQDbr3KMLAVD3JAAYggVAEg1AnBTAIzQAeeYCyDG3V3EAxZkknAOw2iPpgGwCQABALgGbVYArCQFsJAWAmm0AO80BYPW0F7OEo4ynygGd0/MVAIDwUYCaVQApBy4CACAdTA5mgJ7IM4AoB+ISAIADQABALgEpB6IciEvgB4DYBCIdkHRgmQlIEg2AFgBA8gzAZhWgZhUg8gxgFgAgEg2ghhWgOIDiWBQCECcFwAgAgPgoAJaEAK4kBBA+CnARAIBwUoADT8ksS0gmaBcyO+WQ6WWRDAKoZJgpJCPUCxmeccj4qkjmYxsAD80E+JVhgIIBghKAi7WWlZWVlT/nxIZww04Nt20YVQV+xqAKhASAA4D0gAAAAAD/BwAAAAAgwUYrGMEAACDBAACgQQsEAQEBBAuJPzwfPAVY6KCzgRUBAlZBbgECWUgeAQLvQQwBAsBAiQAAAJ8AAAA=",
        "encoding": "base64",
        "path": [
         "scene_unoggLxc8wzK5cKolKgY6DiIU",
         "drc"
        ]
       },
       {
        "data": "RFJBQ08CAgEBAAAAXLQBAbMBAAAtX9u2rWpLVVVVqVZLVVWValVLVVWpVlVLVZVqVVVLValWVVVLlWpVVVVLqQIKAQEQ/wL2XgL/AAEAAQABAAkDAAACAQICAwABAQQBAQAMF70JGQIZEkkfGQK0F5BpXg4ZDy4i6U1F6DUqASfbu9LJXuhPPV9wGXiWA7CIwSF5fAbguxAAqaACwEN3TOpyAHbGGYURAADxUQA2TwF8lQpgZzkAa54CwJIQQDbr3KMLAVD3JAAYggVAEg1AnBTAIzQAeeYCyDG3V3EAxZkknAOw2iPpgGwCQABALgGbVYArCQFsJAWAmm0AO80BYPW0F7OEo4ynygGd0/MVAIDwUYCaVQApBy4CACAdTA5mgJ7IM4AoB+ISAIADQABALgEpB6IciEvgB4DYBCIdkHRgmQlIEg2AFgBA8gzAZhWgZhUg8gxgFgAgEg2ghhWgOIDiWBQCECcFwAgAgPgoAJaEAK4kBBA+CnARAIBwUoADT8ksS0gmaBcyO+WQ6WWRDAKoZJgpJCPUCxmeccj4qkjmYxsAD80E+JVhgIIBghKAi7WWlZWVlT/nxIZww04Nt20YVQV+xqAKhASAA4D0gAAAAAD/BwAAAACAv3F4c78AAIC/AAAAQAsEAQEBBEmJPzz/FzwFWF3kv4EVAQJWQW4BAllIHgEC70EMAQLAQCkAAADvAAAA",
        "encoding": "base64",
        "path": [
         "scene_kT3KRf24CDqX0rW7iNFurMxt5",
         "drc"
        ]
       },
       {
        "data": "RFJBQ08CAgEBAAAAXLQBAbMBAAAtX9u2rWpLVVVVqVZLVVWValVLVVWpVlVLVZVqVVVLValWVVVLlWpVVVVLqQIKAQEQ/wL2XgL/AAEAAQABAAkDAAACAQICAwABAQQBAQAMF70JGQIZEkkfGQK0F5BpXg4ZDy4i6U1F6DUqASfbu9LJXuhPPV9wGXiWA7CIwSF5fAbguxAAqaACwEN3TOpyAHbGGYURAADxUQA2TwF8lQpgZzkAa54CwJIQQDbr3KMLAVD3JAAYggVAEg1AnBTAIzQAeeYCyDG3V3EAxZkknAOw2iPpgGwCQABALgGbVYArCQFsJAWAmm0AO80BYPW0F7OEo4ynygGd0/MVAIDwUYCaVQApBy4CACAdTA5mgJ7IM4AoB+ISAIADQABALgEpB6IciEvgB4DYBCIdkHRgmQlIEg2AFgBA8gzAZhWgZhUg8gxgFgAgEg2ghhWgOIDiWBQCECcFwAgAgPgoAJaEAK4kBBA+CnARAIBwUoADT8ksS0gmaBcyO+WQ6WWRDAKoZJgpJCPUCxmeccj4qkjmYxsAD80E+JVhgIIBghKAi7WWlZWVlT/nxIZww04Nt20YVQV+xqAKhASAA4D0gAAAAAD/BwAAAACIwfxXgcEAAIjBAAAIQgsEAQEBBHWJPzz/xzwFWF3kv4EVAQJWQW4BAllIHgEC70EMAQLAQHIAAAD5AAAA",
        "encoding": "base64",
        "path": [
         "scene_ucyMiZgIWu1Qz9qP1o2Qac3te",
         "drc"
        ]
       },
       {
        "data": "RFJBQ08CAgEBAAAAXLQBAbMBAAAtX9u2rWpLVVVVqVZLVVWValVLVVWpVlVLVZVqVVVLValWVVVLlWpVVVVLqQIKAQEQ/wL2XgL/AAEAAQABAAkDAAACAQICAwABAQQBAQAMF70JGQIZEkkfGQK0F5BpXg4ZDy4i6U1F6DUqASfbu9LJXuhPPV9wGXiWA7CIwSF5fAbguxAAT1kB0EN3TOpyAHbGGYURAADxUQA2TwF8lQpgZzkAa54CwJIQQDbr3KMLAVD3JAAYggVAEg1AnBTAIzQAO82NsdIdQHEAxclMzgGw+iPpgGwCQABALgGbVYArCQFsJAWAmm0AO80BUPW0F7OEo4ynygGd8/MVAIDwUYCaVQApBy4CACAdTA5mgJ/IM4AoB+ISAIAFQABALgEpB6IciEvgB4DYBCIdkHRgmclHEg2AFgBA8gzAZhWgZhUg8gxgFgAgEg2ghhWgOIDiWBQCECcFwAgAgPgoAJaEAK4kBBA+CnARAIBwUoADT8ksS0gmaBcyO+WQ6WWRDAKoZJgpJCPUCxmeccj4qkimvx8AD94DmOJGggGEEtR8RV4iJCQkCNeA4WSDIwVCaxhVBX7GoAqEBIADAPaAAAAAAP8HAAAAAHDB6kBkwQAAcMEAAPBBCwQBAQEEoQGJPzz//3c8BVhd5L+BFQECVkFuAQJZSB4BAu9BDAECwEA+AAAA4AAAAA==",
        "encoding": "base64",
        "path": [
         "scene_auVvH33d9uH3ELYUe4TtaB8f4",
         "drc"
        ]
       },
       {
        "data": "RFJBQ08CAgEBAAAAXLQBAbMBAAAtX9u2rWpLVVVVqVZLVVWValVLVVWpVlVLVZVqVVVLValWVVVLlWpVVVVLqQIKAQEQ/wL2XgL/AAEAAQABAAkDAAACAQICAwABAQQBAQAMF70JGQIZEkkfGQK0F5BpXg4ZDy4i6U1F6DUqASfbu9LJXuhPPV9wGXiWA7CIwSF5fAbguxAAqaACwEN3TOpyAHbGGYURAADxUQA2TwF8lQpgZzkAa54CwJIQQDbr3KMLAVD3JAAYggVAEg1AnBTAIzQAeeYCyDG3V3EAxZkknAOw2iPpgGwCQABALgGbVYArCQFsJAWAmm0AO80BYPW0F7OEo4ynygGd0/MVAIDwUYCaVQApBy4CACAdTA5mgJ7IM4AoB+ISAIADQABALgEpB6IciEvgB4DYBCIdkHRgmQlIEg2AFgBA8gzAZhWgZhUg8gxgFgAgEg2ghhWgOIDiWBQCECcFwAgAgPgoAJaEAK4kBBA+CnARAIBwUoADT8ksS0gmaBcyO+WQ6WWRDAKoZJgpJCPUCxmeccj4qkjmYxsAD80E+JVhgIIBghKAi7WWlZWVlT/nxIZww04Nt20YVQV+xqAKhASAA4D0gAAAAAD/BwAAAAAAwXF488AAAADBAACAQQsEAQEBBNsBiT88////XzwFWF3kv4EVAQJWQW4BAllIHgEC70EMAQLAQBIAAADvAAAA",
        "encoding": "base64",
        "path": [
         "scene_KaAAYyVPnBI1K1ybkuqfZwCUB",
         "drc"
        ]
       },
       {
        "data": "RFJBQ08CAgEBAAAAXLQBAbMBAAAtX9u2rWpLVVVVqVZLVVWValVLVVWpVlVLVZVqVVVLValWVVVLlWpVVVVLqQIKAQEQ/wL2XgL/AAEAAQABAAkDAAACAQICAwABAQQBAQAMF70JGQIZEkkfGQK0F5BpXg4ZDy4i6U1F6DUqASfbu9LJXuhPPV9wGXiWA7CIwSF5fAbguxAAqaACwEN3TOpyAHbGGYURAADxUQA2TwF8lQpgZzkAa54CwJIQQDbr3KMLAVD3JAAYggVAEg1AnBTAIzQAeeYCyDG3V3EAxZkknAOw2iPpgGwCQABALgGbVYArCQFsJAWAmm0AO80BYPW0F7OEo4ynygGd0/MVAIDwUYCaVQApBy4CACAdTA5mgJ7IM4AoB+ISAIADQABALgEpB6IciEvgB4DYBCIdkHRgmQlIEg2AFgBA8gzAZhWgZhUg8gxgFgAgEg2ghhWgOIDiWBQCECcFwAgAgPgoAJaEAK4kBBA+CnARAIBwUoADT8ksS0gmaBcyO+WQ6WWRDAKoZJgpJCPUCxmeccj4qkjmYxsAD80E+JVhgIIBghKAi7WWlZWVlT/nxIZww04Nt20YVQV+xqAKhASAA4D0gAAAAAD/BwAAAAAAwHF4878AAADAAACAQAsEAQEBBAeJPzwPPAVY6KCzgRUBAlZBbgECWUgeAQLvQQwBAsBAVwAAALQAAAA=",
        "encoding": "base64",
        "path": [
         "scene_WQY9Q0OnEvnIheeDoVr51h7NH",
         "drc"
        ]
       },
       {
        "data": "RFJBQ08CAgEBAAAAXLQBAbMBAAAtX9u2rWpLVVVVqVZLVVWValVLVVWpVlVLVZVqVVVLValWVVVLlWpVVVVLqQIKAQEQ/wL2XgL/AAEAAQABAAkDAAACAQICAwABAQQBAQAMF70JGQIZEkkfGQK0F5BpXg4ZDy4i6U1F6DUqASfbu9LJXuhPPV9wGXiWA7CIwSF5fAbguxAAqaACwEN3TOpyAHbGGYURAADxUQA2TwF8lQpgZzkAa54CwJIQQDbr3KMLAVD3JAAYggVAEg1AnBTAIzQAeeYCyDG3V3EAxZkknAOw2iPpgGwCQABALgGbVYArCQFsJAWAmm0AO80BYPW0F7OEo4ynygGd0/MVAIDwUYCaVQApBy4CACAdTA5mgJ7IM4AoB+ISAIADQABALgEpB6IciEvgB4DYBCIdkHRgmQlIEg2AFgBA8gzAZhWgZhUg8gxgFgAgEg2ghhWgOIDiWBQCECcFwAgAgPgoAJaEAK4kBBA+CnARAIBwUoADT8ksS0gmaBcyO+WQ6WWRDAKoZJgpJCPUCxmeccj4qkjmYxsAD80E+JVhgIIBghKAi7WWlZWVlT/nxIZww04Nt20YVQV+xqAKhASAA4D0gAAAAAD/BwAAAACQwb/ziMEAAJDBAAAQQgsEAQEBBDeJPzzPPAVk6/6vgRUBAlZBbgECWUgeAQLvQQwBAsBAgQAAAPwAAAA=",
        "encoding": "base64",
        "path": [
         "scene_YylzCqR0O1ezMdMKMB6K73Pho",
         "drc"
        ]
       },
       {
        "data": "RFJBQ08CAgEBAAAAXLQBAbMBAAAtX9u2rWpLVVVVqVZLVVWValVLVVWpVlVLVZVqVVVLValWVVVLlWpVVVVLqQIKAQEQ/wL2XgL/AAEAAQABAAkDAAACAQICAwABAQQBAQAMF70JGQIZEkkfGQK0F5BpXg4ZDy4i6U1F6DUqASfbu9LJXuhPPV9wGXiWA7CIwSF5fAbguxAAT1kB0EN3TOpyAHbGGYURAADxUQA2TwF8lQpgZzkAa54CwJIQQDbr3KMLAVD3JAAYggVAEg1AnBTAIzQAO82NsdIdQHEAxclMzgGw+iPpgGwCQABALgGbVYArCQFsJAWAmm0AO80BUPW0F7OEo4ynygGd8/MVAIDwUYCaVQApBy4CACAdTA5mgJ/IM4AoB+ISAIAFQABALgEpB6IciEvgB4DYBCIdkHRgmclHEg2AFgBA8gzAZhWgZhUg8gxgFgAgEg2ghhWgOIDiWBQCECcFwAgAgPgoAJaEAK4kBBA+CnARAIBwUoADT8ksS0gmaBcyO+WQ6WWRDAKoZJgpJCPUCxmeccj4qkimvx8AD94DmOJGggGEEtR8RV4iJCQkCNeA4WSDIwVCaxhVBX7GoAqEBIADAPaAAAAAAP8HAAAAAFDB29FFwQAAUMEAANBBCwQBAQEEZok/PP+LPAVY6KCzgRUBAlZBbgECWUgeAQLvQQwBAsBAEgAAAJgAAAA=",
        "encoding": "base64",
        "path": [
         "scene_pG1NbahjHXIgx4n8e7XjbmIzK",
         "drc"
        ]
       },
       {
        "data": "RFJBQ08CAgEBAAAAXLQBAbMBAAAtX9u2rWpLVVVVqVZLVVWValVLVVWpVlVLVZVqVVVLValWVVVLlWpVVVVLqQIKAQEQ/wL2XgL/AAEAAQABAAkDAAACAQICAwABAQQBAQAMF70JGQIZEkkfGQK0F5BpXg4ZDy4i6U1F6DUqASfbu9LJXuhPPV9wGXiWA7CIwSF5fAbguxAAqaACwEN3TOpyAHbGGYURAADxUQA2TwF8lQpgZzkAa54CwJIQQDbr3KMLAVD3JAAYggVAEg1AnBTAIzQAeeYCyDG3V3EAxZkknAOw2iPpgGwCQABALgGbVYArCQFsJAWAmm0AO80BYPW0F7OEo4ynygGd0/MVAIDwUYCaVQApBy4CACAdTA5mgJ7IM4AoB+ISAIADQABALgEpB6IciEvgB4DYBCIdkHRgmQlIEg2AFgBA8gzAZhWgZhUg8gxgFgAgEg2ghhWgOIDiWBQCECcFwAgAgPgoAJaEAK4kBBA+CnARAIBwUoADT8ksS0gmaBcyO+WQ6WWRDAKoZJgpJCPUCxmeccj4qkjmYxsAD80E+JVhgIIBghKAi7WWlZWVlT/nxIZww04Nt20YVQV+xqAKhASAA4D0gAAAAAD/BwAAAACQwb/ziMEAAJDBAAAQQgsEAQEBBAKJP3gFWOjvQIAVAQJWQW4BAllIHgEC70EMAQLAQFMAAADVAAAA",
        "encoding": "base64",
        "path": [
         "scene_DOh2PwAFmed8jqwAiBDXUl554",
         "drc"
        ]
       },
       {
        "data": "RFJBQ08CAgEBAAAAXLQBAbMBAAAtX9u2rWpLVVVVqVZLVVWValVLVVWpVlVLVZVqVVVLValWVVVLlWpVVVVLqQIKAQEQ/wL2XgL/AAEAAQABAAkDAAACAQICAwABAQQBAQAMF70JGQIZEkkfGQK0F5BpXg4ZDy4i6U1F6DUqASfbu9LJXuhPPV9wGXiWA7CIwSF5fAbguxAAqaACwEN3TOpyAHbGGYURAADxUQA2TwF8lQpgZzkAa54CwJIQQDbr3KMLAVD3JAAYggVAEg1AnBTAIzQAeeYCyDG3V3EAxZkknAOw2iPpgGwCQABALgGbVYArCQFsJAWAmm0AO80BYPW0F7OEo4ynygGd0/MVAIDwUYCaVQApBy4CACAdTA5mgJ7IM4AoB+ISAIADQABALgEpB6IciEvgB4DYBCIdkHRgmQlIEg2AFgBA8gzAZhWgZhUg8gxgFgAgEg2ghhWgOIDiWBQCECcFwAgAgPgoAJaEAK4kBBA+CnARAIBwUoADT8ksS0gmaBcyO+WQ6WWRDAKoZJgpJCPUCxmeccj4qkjmYxsAD80E+JVhgIIBghKAi7WWlZWVlT/nxIZww04Nt20YVQV+xqAKhASAA4D0gAAAAAD/BwAAAACAwHF4c8AAAIDAAAAAQQsEAQEBBJUBiT88//9HPAVk+u+vgRUBAlZBbgECWUgeAQLvQQwBAsBAMwAAAPIAAAA=",
        "encoding": "base64",
        "path": [
         "scene_wuth2SCv8LklXuwkPWC7gbKrq",
         "drc"
        ]
       },
       {
        "data": "RFJBQ08CAgEBAAAAXLQBAbMBAAAtX9u2rWpLVVVVqVZLVVWValVLVVWpVlVLVZVqVVVLValWVVVLlWpVVVVLqQIKAQEQ/wL2XgL/AAEAAQABAAkDAAACAQICAwABAQQBAQAMF70JGQIZEkkfGQK0F5BpXg4ZDy4i6U1F6DUqASfbu9LJXuhPPV9wGXiWA7CIwSF5fAbguxAAqaACwEN3TOpyAHbGGYURAADxUQA2TwF8lQpgZzkAa54CwJIQQDbr3KMLAVD3JAAYggVAEg1AnBTAIzQAeeYCyDG3V3EAxZkknAOw2iPpgGwCQABALgGbVYArCQFsJAWAmm0AO80BYPW0F7OEo4ynygGd0/MVAIDwUYCaVQApBy4CACAdTA5mgJ7IM4AoB+ISAIADQABALgEpB6IciEvgB4DYBCIdkHRgmQlIEg2AFgBA8gzAZhWgZhUg8gxgFgAgEg2ghhWgOIDiWBQCECcFwAgAgPgoAJaEAK4kBBA+CnARAIBwUoADT8ksS0gmaBcyO+WQ6WWRDAKoZJgpJCPUCxmeccj4qkjmYxsAD80E+JVhgIIBghKAi7WWlZWVlT/nxIZww04Nt20YVQV+xqAKhASAA4D0gAAAAAD/BwAAAAAgwUYrGMEAACDBAACgQQsEAQEBBE+JPzz/LzwFZOv+r4EVAQJWQW4BAllIHgEC70EMAQLAQBoAAABtAAAA",
        "encoding": "base64",
        "path": [
         "scene_1YcGShnUTRMlHoJEz6t1MfvCW",
         "drc"
        ]
       },
       {
        "data": "RFJBQ08CAgEBAAAAXLQBAbMBAAAtX9u2rWpLVVVVqVZLVVWValVLVVWpVlVLVZVqVVVLValWVVVLlWpVVVVLqQIKAQEQ/wL2XgL/AAEAAQABAAkDAAACAQICAwABAQQBAQAMF70JGQIZEkkfGQK0F5BpXg4ZDy4i6U1F6DUqASfbu9LJXuhPPV9wGXiWA7CIwSF5fAbguxAAqaACwEN3TOpyAHbGGYURAADxUQA2TwF8lQpgZzkAa54CwJIQQDbr3KMLAVD3JAAYggVAEg1AnBTAIzQAeeYCyDG3V3EAxZkknAOw2iPpgGwCQABALgGbVYArCQFsJAWAmm0AO80BYPW0F7OEo4ynygGd0/MVAIDwUYCaVQApBy4CACAdTA5mgJ7IM4AoB+ISAIADQABALgEpB6IciEvgB4DYBCIdkHRgmQlIEg2AFgBA8gzAZhWgZhUg8gxgFgAgEg2ghhWgOIDiWBQCECcFwAgAgPgoAJaEAK4kBBA+CnARAIBwUoADT8ksS0gmaBcyO+WQ6WWRDAKoZJgpJCPUCxmeccj4qkjmYxsAD80E+JVhgIIBghKAi7WWlZWVlT/nxIZww04Nt20YVQV+xqAKhASAA4D0gAAAAAD/BwAAAACAwXF4c8EAAIDBAAAAQgsEAQEBBA6JPzwrPAVY6KCzgRUBAlZBbgECWUgeAQLvQQwBAsBAkAAAAKYAAAA=",
        "encoding": "base64",
        "path": [
         "scene_2WDuSjNih6Th9GMWVAWNcycZA",
         "drc"
        ]
       },
       {
        "data": "RFJBQ08CAgEBAAAAXLQBAbMBAAAtX9u2rWpLVVVVqVZLVVWValVLVVWpVlVLVZVqVVVLValWVVVLlWpVVVVLqQIKAQEQ/wL2XgL/AAEAAQABAAkDAAACAQICAwABAQQBAQAMF70JGQIZEkkfGQK0F5BpXg4ZDy4i6U1F6DUqASfbu9LJXuhPPV9wGXiWA7CIwSF5fAbguxAAqaACwEN3TOpyAHbGGYURAADxUQA2TwF8lQpgZzkAa54CwJIQQDbr3KMLAVD3JAAYggVAEg1AnBTAIzQAeeYCyDG3V3EAxZkknAOw2iPpgGwCQABALgGbVYArCQFsJAWAmm0AO80BYPW0F7OEo4ynygGd0/MVAIDwUYCaVQApBy4CACAdTA5mgJ7IM4AoB+ISAIADQABALgEpB6IciEvgB4DYBCIdkHRgmQlIEg2AFgBA8gzAZhWgZhUg8gxgFgAgEg2ghhWgOIDiWBQCECcFwAgAgPgoAJaEAK4kBBA+CnARAIBwUoADT8ksS0gmaBcyO+WQ6WWRDAKoZJgpJCPUCxmeccj4qkjmYxsAD80E+JVhgIIBghKAi7WWlZWVlT/nxIZww04Nt20YVQV+xqAKhASAA4D0gAAAAAD/BwAAAAAgwUYrGMEAACDBAACgQQsEAQEBBBiJPzxTPAVk6/6vgRUBAlZBbgECWUgeAQLvQQwBAsBABgAAAG4AAAA=",
        "encoding": "base64",
        "path": [
         "scene_EJNDzucJk6yyVXvbeHNGtofAH",
         "drc"
        ]
       },
       {
        "data": "RFJBQ08CAgEBAAAAXLQBAbMBAAAtX9u2rWpLVVVVqVZLVVWValVLVVWpVlVLVZVqVVVLValWVVVLlWpVVVVLqQIKAQEQ/wL2XgL/AAEAAQABAAkDAAACAQICAwABAQQBAQAMF70JGQIZEkkfGQK0F5BpXg4ZDy4i6U1F6DUqASfbu9LJXuhPPV9wGXiWA7CIwSF5fAbguxAAqaACwEN3TOpyAHbGGYURAADxUQA2TwF8lQpgZzkAa54CwJIQQDbr3KMLAVD3JAAYggVAEg1AnBTAIzQAeeYCyDG3V3EAxZkknAOw2iPpgGwCQABALgGbVYArCQFsJAWAmm0AO80BYPW0F7OEo4ynygGd0/MVAIDwUYCaVQApBy4CACAdTA5mgJ7IM4AoB+ISAIADQABALgEpB6IciEvgB4DYBCIdkHRgmQlIEg2AFgBA8gzAZhWgZhUg8gxgFgAgEg2ghhWgOIDiWBQCECcFwAgAgPgoAJaEAK4kBBA+CnARAIBwUoADT8ksS0gmaBcyO+WQ6WWRDAKoZJgpJCPUCxmeccj4qkjmYxsAD80E+JVhgIIBghKAi7WWlZWVlT/nxIZww04Nt20YVQV+xqAKhASAA4D0gAAAAAD/BwAAAACAv3F4c78AAIC/AAAAQAsEAQEBBDiJPzzTPAVY6KCzgRUBAlZBbgECWUgeAQLvQQwBAsBAFgAAALgAAAA=",
        "encoding": "base64",
        "path": [
         "scene_0Sq9DKnNmtIxLZojFBAKcm9hV",
         "drc"
        ]
       },
       {
        "data": "RFJBQ08CAgEBAAAAXLQBAbMBAAAtX9u2rWpLVVVVqVZLVVWValVLVVWpVlVLVZVqVVVLValWVVVLlWpVVVVLqQIKAQEQ/wL2XgL/AAEAAQABAAkDAAACAQICAwABAQQBAQAMF70JGQIZEkkfGQK0F5BpXg4ZDy4i6U1F6DUqASfbu9LJXuhPPV9wGXiWA7CIwSF5fAbguxAAT1kB0EN3TOpyAHbGGYURAADxUQA2TwF8lQpgZzkAa54CwJIQQDbr3KMLAVD3JAAYggVAEg1AnBTAIzQAO82NsdIdQHEAxclMzgGw+iPpgGwCQABALgGbVYArCQFsJAWAmm0AO80BUPW0F7OEo4ynygGd8/MVAIDwUYCaVQApBy4CACAdTA5mgJ/IM4AoB+ISAIAFQABALgEpB6IciEvgB4DYBCIdkHRgmclHEg2AFgBA8gzAZhWgZhUg8gxgFgAgEg2ghhWgOIDiWBQCECcFwAgAgPgoAJaEAK4kBBA+CnARAIBwUoADT8ksS0gmaBcyO+WQ6WWRDAKoZJgpJCPUCxmeccj4qkimvx8AD94DmOJGggGEEtR8RV4iJCQkCNeA4WSDIwVCaxhVBX7GoAqEBIADAPaAAAAAAP8HAAAAAGDBYwlVwQAAYMEAAOBBCwQBAQEEJ4k/PI88BVjooLOBFQECVkFuAQJZSB4BAu9BDAECwEBGAAAAxwAAAA==",
        "encoding": "base64",
        "path": [
         "scene_HndTnma9W5I66l6z2sDqAc9Xn",
         "drc"
        ]
       },
       {
        "data": "RFJBQ08CAgEBAAAAXLQBAbMBAAAtX9u2rWpLVVVVqVZLVVWValVLVVWpVlVLVZVqVVVLValWVVVLlWpVVVVLqQIKAQEQ/wL2XgL/AAEAAQABAAkDAAACAQICAwABAQQBAQAMF70JGQIZEkkfGQK0F5BpXg4ZDy4i6U1F6DUqASfbu9LJXuhPPV9wGXiWA7CIwSF5fAbguxAAqaACwEN3TOpyAHbGGYURAADxUQA2TwF8lQpgZzkAa54CwJIQQDbr3KMLAVD3JAAYggVAEg1AnBTAIzQAeeYCyDG3V3EAxZkknAOw2iPpgGwCQABALgGbVYArCQFsJAWAmm0AO80BYPW0F7OEo4ynygGd0/MVAIDwUYCaVQApBy4CACAdTA5mgJ7IM4AoB+ISAIADQABALgEpB6IciEvgB4DYBCIdkHRgmQlIEg2AFgBA8gzAZhWgZhUg8gxgFgAgEg2ghhWgOIDiWBQCECcFwAgAgPgoAJaEAK4kBBA+CnARAIBwUoADT8ksS0gmaBcyO+WQ6WWRDAKoZJgpJCPUCxmeccj4qkjmYxsAD80E+JVhgIIBghKAi7WWlZWVlT/nxIZww04Nt20YVQV+xqAKhASAA4D0gAAAAAD/BwAAAACAwHF4c8AAAIDAAAAAQQsEAQEBBBSJPzxDPAVYTvO/gRUBAlZBbgECWUgeAQLvQQwBAsBAUQAAAJUAAAA=",
        "encoding": "base64",
        "path": [
         "scene_hsOHXmUEfGQeo6acYsNuQ3wv2",
         "drc"
        ]
       },
       {
        "data": "RFJBQ08CAgEBAAAAXLQBAbMBAAAtX9u2rWpLVVVVqVZLVVWValVLVVWpVlVLVZVqVVVLValWVVVLlWpVVVVLqQIKAQEQ/wL2XgL/AAEAAQABAAkDAAACAQICAwABAQQBAQAMF70JGQIZEkkfGQK0F5BpXg4ZDy4i6U1F6DUqASfbu9LJXuhPPV9wGXiWA7CIwSF5fAbguxAAqaACwEN3TOpyAHbGGYURAADxUQA2TwF8lQpgZzkAa54CwJIQQDbr3KMLAVD3JAAYggVAEg1AnBTAIzQAeeYCyDG3V3EAxZkknAOw2iPpgGwCQABALgGbVYArCQFsJAWAmm0AO80BYPW0F7OEo4ynygGd0/MVAIDwUYCaVQApBy4CACAdTA5mgJ7IM4AoB+ISAIADQABALgEpB6IciEvgB4DYBCIdkHRgmQlIEg2AFgBA8gzAZhWgZhUg8gxgFgAgEg2ghhWgOIDiWBQCECcFwAgAgPgoAJaEAK4kBBA+CnARAIBwUoADT8ksS0gmaBcyO+WQ6WWRDAKoZJgpJCPUCxmeccj4qkjmYxsAD80E+JVhgIIBghKAi7WWlZWVlT/nxIZww04Nt20YVQV+xqAKhASAA4D0gAAAAAD/BwAAAACQwb/ziMEAAJDBAAAQQgsEAQEBBEqJPzz/GzwFZOv+r4EVAQJWQW4BAllIHgEC70EMAQLAQCQAAACsAAAA",
        "encoding": "base64",
        "path": [
         "scene_tgTuUi56U039BVNTTDGh1YD0i",
         "drc"
        ]
       },
       {
        "data": "RFJBQ08CAgEBAAAAXLQBAbMBAAAtX9u2rWpLVVVVqVZLVVWValVLVVWpVlVLVZVqVVVLValWVVVLlWpVVVVLqQIKAQEQ/wL2XgL/AAEAAQABAAkDAAACAQICAwABAQQBAQAMF70JGQIZEkkfGQK0F5BpXg4ZDy4i6U1F6DUqASfbu9LJXuhPPV9wGXiWA7CIwSF5fAbguxAAqaACwEN3TOpyAHbGGYURAADxUQA2TwF8lQpgZzkAa54CwJIQQDbr3KMLAVD3JAAYggVAEg1AnBTAIzQAeeYCyDG3V3EAxZkknAOw2iPpgGwCQABALgGbVYArCQFsJAWAmm0AO80BYPW0F7OEo4ynygGd0/MVAIDwUYCaVQApBy4CACAdTA5mgJ7IM4AoB+ISAIADQABALgEpB6IciEvgB4DYBCIdkHRgmQlIEg2AFgBA8gzAZhWgZhUg8gxgFgAgEg2ghhWgOIDiWBQCECcFwAgAgPgoAJaEAK4kBBA+CnARAIBwUoADT8ksS0gmaBcyO+WQ6WWRDAKoZJgpJCPUCxmeccj4qkjmYxsAD80E+JVhgIIBghKAi7WWlZWVlT/nxIZww04Nt20YVQV+xqAKhASAA4D0gAAAAAD/BwAAAAAQwb/zCMEAABDBAACQQQsEAQEBBBSJPzxDPAVY95GzgRUBAlZBbgECWUgeAQLvQQwBAsBAgQAAAN4AAAA=",
        "encoding": "base64",
        "path": [
         "scene_iX580JKBfXQBZ30nssMwaqDeo",
         "drc"
        ]
       }
      ],
      "model_module": "pgljupyter",
      "model_module_version": "^0.1.0",
      "model_name": "SceneWidgetModel",
      "state": {
       "_model_module_version": "^0.1.0",
       "_view_module_version": "^0.1.0",
       "axes_helper": true,
       "layout": "IPY_MODEL_6552cb5ab0b34b94a65225a59ddd8a62",
       "mesh_compression": 10,
       "scene": {
        "position": [
         0,
         0,
         0
        ],
        "scale": 1,
        "scene": "<openalea.plantgl.scenegraph._pglsg.Scene object at 0x7f7790aece70>"
       },
       "scene_0KG2bC3er6Nr76b05KOxJenFu": {
        "position": [
         -78,
         -16,
         -124
        ],
        "scale": 1,
        "scene": "<openalea.plantgl.scenegraph._pglsg.Scene object at 0x7f7790a08670>"
       },
       "scene_0Sq9DKnNmtIxLZojFBAKcm9hV": {
        "position": [
         -105,
         30,
         57
        ],
        "scale": 1,
        "scene": "<openalea.plantgl.scenegraph._pglsg.Scene object at 0x7f77909067f0>"
       },
       "scene_0Y7655UkEzo5EjiChlmVazYvA": {
        "position": [
         -53,
         55,
         -23
        ],
        "scale": 1,
        "scene": "<openalea.plantgl.scenegraph._pglsg.Scene object at 0x7f7790a862f0>"
       },
       "scene_0lToIv8pKkAyXFPgw0ta75Tdf": {
        "position": [
         7,
         93,
         74
        ],
        "scale": 1,
        "scene": "<openalea.plantgl.scenegraph._pglsg.Scene object at 0x7f77916ab1f0>"
       },
       "scene_1O8tzxBBJEH2IRCeRyXJz2JIE": {
        "position": [
         -55,
         39,
         -62
        ],
        "scale": 1,
        "scene": "<openalea.plantgl.scenegraph._pglsg.Scene object at 0x7f7790b234f0>"
       },
       "scene_1Pio9BNkVRSOCOIlDKUJDDk9N": {
        "position": [
         -19,
         -15,
         60
        ],
        "scale": 1,
        "scene": "<openalea.plantgl.scenegraph._pglsg.Scene object at 0x7f7790a86130>"
       },
       "scene_1YcGShnUTRMlHoJEz6t1MfvCW": {
        "position": [
         -62,
         -18,
         -101
        ],
        "scale": 1,
        "scene": "<openalea.plantgl.scenegraph._pglsg.Scene object at 0x7f7790a083f0>"
       },
       "scene_2MWRtCGOD1JZTXEyLn8Rhq2LW": {
        "position": [
         24,
         54,
         -78
        ],
        "scale": 1,
        "scene": "<openalea.plantgl.scenegraph._pglsg.Scene object at 0x7f77909cdeb0>"
       },
       "scene_2SMAurDUY0vua0ei6zHbxu2h0": {
        "position": [
         85,
         5,
         46
        ],
        "scale": 1,
        "scene": "<openalea.plantgl.scenegraph._pglsg.Scene object at 0x7f7790a088f0>"
       },
       "scene_2WDuSjNih6Th9GMWVAWNcycZA": {
        "position": [
         17,
         33,
         39
        ],
        "scale": 1,
        "scene": "<openalea.plantgl.scenegraph._pglsg.Scene object at 0x7f77908fcc30>"
       },
       "scene_37wl4ntAWfxUcmFFXJDFtnhiT": {
        "position": [
         1,
         -67,
         -21
        ],
        "scale": 1,
        "scene": "<openalea.plantgl.scenegraph._pglsg.Scene object at 0x7f7790b615b0>"
       },
       "scene_3IAerHI1BX9b71Y3mwzCCAi8k": {
        "position": [
         1,
         -25,
         -15
        ],
        "scale": 1,
        "scene": "<openalea.plantgl.scenegraph._pglsg.Scene object at 0x7f7790ab65f0>"
       },
       "scene_3WuSxSp9n04jjVwrvnGNXDP8W": {
        "position": [
         -44,
         37,
         108
        ],
        "scale": 1,
        "scene": "<openalea.plantgl.scenegraph._pglsg.Scene object at 0x7f7790cbe430>"
       },
       "scene_3XqiedydlnIAIUY1VJRzg3LBu": {
        "position": [
         -60,
         98,
         41
        ],
        "scale": 1,
        "scene": "<openalea.plantgl.scenegraph._pglsg.Scene object at 0x7f7790c1b3f0>"
       },
       "scene_4DqB5VyHf6wQnrKOqj2aFmGbC": {
        "position": [
         -66,
         97,
         -12
        ],
        "scale": 1,
        "scene": "<openalea.plantgl.scenegraph._pglsg.Scene object at 0x7f7790d25030>"
       },
       "scene_4Y2YutK2PZE4aZAoonI8QYELK": {
        "position": [
         7,
         -50,
         9
        ],
        "scale": 1,
        "scene": "<openalea.plantgl.scenegraph._pglsg.Scene object at 0x7f7790bb2070>"
       },
       "scene_4Za96FY2540TmaCFbf1JeoK1H": {
        "position": [
         -74,
         -6,
         115
        ],
        "scale": 1,
        "scene": "<openalea.plantgl.scenegraph._pglsg.Scene object at 0x7f77909ec270>"
       },
       "scene_4dMZyf9ilGYJdNb5GfhW2UGyo": {
        "position": [
         -76,
         -121,
         -35
        ],
        "scale": 1,
        "scene": "<openalea.plantgl.scenegraph._pglsg.Scene object at 0x7f7790c89b30>"
       },
       "scene_4iUFtAmlH13TwlN1EnsIXcDAo": {
        "position": [
         -108,
         -118,
         -7
        ],
        "scale": 1,
        "scene": "<openalea.plantgl.scenegraph._pglsg.Scene object at 0x7f7790be79b0>"
       },
       "scene_4t7oBmB5W7a6EsUhRiqbu95kc": {
        "position": [
         -54,
         -17,
         -110
        ],
        "scale": 1,
        "scene": "<openalea.plantgl.scenegraph._pglsg.Scene object at 0x7f77909d8ab0>"
       },
       "scene_57r3o9WNtJti1peJl0FXBknbu": {
        "position": [
         44,
         71,
         81
        ],
        "scale": 1,
        "scene": "<openalea.plantgl.scenegraph._pglsg.Scene object at 0x7f7790b61570>"
       },
       "scene_592LncBMD4iycTfaz3yIRHlJk": {
        "position": [
         34,
         48,
         -24
        ],
        "scale": 1,
        "scene": "<openalea.plantgl.scenegraph._pglsg.Scene object at 0x7f77c43d65f0>"
       },
       "scene_5NSR96ER2bUx5Iuqh22pN5urL": {
        "position": [
         124,
         70,
         75
        ],
        "scale": 1,
        "scene": "<openalea.plantgl.scenegraph._pglsg.Scene object at 0x7f7790b197f0>"
       },
       "scene_5W3zoZiZ0HxxsFM35zxB5CAzt": {
        "position": [
         -62,
         -9,
         77
        ],
        "scale": 1,
        "scene": "<openalea.plantgl.scenegraph._pglsg.Scene object at 0x7f77909ec030>"
       },
       "scene_6lOACZ9D9TNWZKOe6n2rHWQq3": {
        "position": [
         -111,
         -77,
         70
        ],
        "scale": 1,
        "scene": "<openalea.plantgl.scenegraph._pglsg.Scene object at 0x7f7790b72470>"
       },
       "scene_6r5IalDxrJ12bXg9CnHO82wZ4": {
        "position": [
         58,
         -92,
         45
        ],
        "scale": 1,
        "scene": "<openalea.plantgl.scenegraph._pglsg.Scene object at 0x7f7790b19d70>"
       },
       "scene_6zZixy2yVB8StkThl0gdiEW74": {
        "position": [
         -43,
         -42,
         97
        ],
        "scale": 1,
        "scene": "<openalea.plantgl.scenegraph._pglsg.Scene object at 0x7f77909854b0>"
       },
       "scene_78RELBD2nXTj3HA3qZr0Xwiy4": {
        "position": [
         107,
         -31,
         83
        ],
        "scale": 1,
        "scene": "<openalea.plantgl.scenegraph._pglsg.Scene object at 0x7f7790b72430>"
       },
       "scene_7RF9nfyx6EtDX94DI8MiC4JIC": {
        "position": [
         31,
         26,
         27
        ],
        "scale": 1,
        "scene": "<openalea.plantgl.scenegraph._pglsg.Scene object at 0x7f77909a7c30>"
       },
       "scene_7aC1rkSy4qwnzcKjqt2CfrFuC": {
        "position": [
         73,
         113,
         110
        ],
        "scale": 1,
        "scene": "<openalea.plantgl.scenegraph._pglsg.Scene object at 0x7f7790afcf30>"
       },
       "scene_8FyWg6bxZuKNeZ0D03XUuOWBT": {
        "position": [
         -5,
         -83,
         -59
        ],
        "scale": 1,
        "scene": "<openalea.plantgl.scenegraph._pglsg.Scene object at 0x7f7790bb2af0>"
       },
       "scene_8JGHerUbgZ8Q3YVGBJhSSF2iJ": {
        "position": [
         110,
         80,
         -74
        ],
        "scale": 1,
        "scene": "<openalea.plantgl.scenegraph._pglsg.Scene object at 0x7f7790b05770>"
       },
       "scene_8TXbiTLhKusRkvcXBPXSoKWTz": {
        "position": [
         -3,
         -52,
         -14
        ],
        "scale": 1,
        "scene": "<openalea.plantgl.scenegraph._pglsg.Scene object at 0x7f7790c064f0>"
       },
       "scene_8bJQVlEOuTqdnK4ZYMjqPp0Yo": {
        "position": [
         -46,
         16,
         -6
        ],
        "scale": 1,
        "scene": "<openalea.plantgl.scenegraph._pglsg.Scene object at 0x7f7790b2bc30>"
       },
       "scene_8oRWJ9kAkJqjCLBkj0xbYjrLs": {
        "position": [
         -45,
         -122,
         125
        ],
        "scale": 1,
        "scene": "<openalea.plantgl.scenegraph._pglsg.Scene object at 0x7f7790d132b0>"
       },
       "scene_9SGP0bOUIZdhjAQoAGHBDLUzx": {
        "position": [
         -56,
         -37,
         -97
        ],
        "scale": 1,
        "scene": "<openalea.plantgl.scenegraph._pglsg.Scene object at 0x7f7790d36f30>"
       },
       "scene_9gQ4cOAy3Hjhvoh5wYebY6HgO": {
        "position": [
         68,
         121,
         39
        ],
        "scale": 1,
        "scene": "<openalea.plantgl.scenegraph._pglsg.Scene object at 0x7f7790d1cf70>"
       },
       "scene_9k2LbkdJWZNRD82fQoKxYUzaA": {
        "position": [
         -100,
         -66,
         85
        ],
        "scale": 1,
        "scene": "<openalea.plantgl.scenegraph._pglsg.Scene object at 0x7f7790be74f0>"
       },
       "scene_9rzZBKPEmpp4Ri9fvbpJ5CJO5": {
        "position": [
         -21,
         -83,
         47
        ],
        "scale": 1,
        "scene": "<openalea.plantgl.scenegraph._pglsg.Scene object at 0x7f77916a9f30>"
       },
       "scene_9u4fLKtS9PAODHFMJqXR9bClj": {
        "position": [
         -103,
         51,
         51
        ],
        "scale": 1,
        "scene": "<openalea.plantgl.scenegraph._pglsg.Scene object at 0x7f7790ae37f0>"
       },
       "scene_9w1EjnAqQalh3Gcb856D6CVtm": {
        "position": [
         87,
         103,
         -10
        ],
        "scale": 1,
        "scene": "<openalea.plantgl.scenegraph._pglsg.Scene object at 0x7f77909596b0>"
       },
       "scene_A9ruk8DdVTcbKKbQIXBKHCBsA": {
        "position": [
         56,
         2,
         37
        ],
        "scale": 1,
        "scene": "<openalea.plantgl.scenegraph._pglsg.Scene object at 0x7f7790d093b0>"
       },
       "scene_AqOIN7TnHy6PXa7paZOqmr10O": {
        "position": [
         -90,
         113,
         43
        ],
        "scale": 1,
        "scene": "<openalea.plantgl.scenegraph._pglsg.Scene object at 0x7f7790b0f6f0>"
       },
       "scene_Bj6ANOzFZfrgJOeJ79YYZHPsU": {
        "position": [
         -52,
         -61,
         103
        ],
        "scale": 1,
        "scene": "<openalea.plantgl.scenegraph._pglsg.Scene object at 0x7f7790b57c30>"
       },
       "scene_BwfLmeefwO6IoqRNlO1IuJ5um": {
        "position": [
         -24,
         95,
         -7
        ],
        "scale": 1,
        "scene": "<openalea.plantgl.scenegraph._pglsg.Scene object at 0x7f7790b842b0>"
       },
       "scene_CCJxQWo7cmwLwSK68KCVQp00R": {
        "position": [
         120,
         -80,
         24
        ],
        "scale": 1,
        "scene": "<openalea.plantgl.scenegraph._pglsg.Scene object at 0x7f7790b2b670>"
       },
       "scene_DOf8PLwOkDwaSnxuGPBEcpYSA": {
        "position": [
         57,
         15,
         115
        ],
        "scale": 1,
        "scene": "<openalea.plantgl.scenegraph._pglsg.Scene object at 0x7f7790c46fb0>"
       },
       "scene_DOh2PwAFmed8jqwAiBDXUl554": {
        "position": [
         -44,
         86,
         86
        ],
        "scale": 1,
        "scene": "<openalea.plantgl.scenegraph._pglsg.Scene object at 0x7f77908f4bf0>"
       },
       "scene_DU6sXsJdlJjm6TSeSMACcNcS3": {
        "position": [
         -17,
         41,
         125
        ],
        "scale": 1,
        "scene": "<openalea.plantgl.scenegraph._pglsg.Scene object at 0x7f7790a7e2b0>"
       },
       "scene_DVtvGrKyYY98SKbpfSxWRdnhs": {
        "position": [
         108,
         -50,
         -100
        ],
        "scale": 1,
        "scene": "<openalea.plantgl.scenegraph._pglsg.Scene object at 0x7f7790b976f0>"
       },
       "scene_DnwEmFhfO2Xjy6PiYlPlQiRsO": {
        "position": [
         8,
         -4,
         -59
        ],
        "scale": 1,
        "scene": "<openalea.plantgl.scenegraph._pglsg.Scene object at 0x7f7790b57ef0>"
       },
       "scene_DqtayQUGp05sO2gp0fZqaBbe5": {
        "position": [
         43,
         107,
         33
        ],
        "scale": 1,
        "scene": "<openalea.plantgl.scenegraph._pglsg.Scene object at 0x7f7790b72230>"
       },
       "scene_DvTZFEyJuNpCU2w2qbD7zrdjP": {
        "position": [
         65,
         89,
         84
        ],
        "scale": 1,
        "scene": "<openalea.plantgl.scenegraph._pglsg.Scene object at 0x7f7790d13d30>"
       },
       "scene_EB6XHnOVTkNDKGiSIlDqtJT2o": {
        "position": [
         3,
         23,
         -37
        ],
        "scale": 1,
        "scene": "<openalea.plantgl.scenegraph._pglsg.Scene object at 0x7f779093cbb0>"
       },
       "scene_EJBI5QC7Q8LAZFUWbKeUnVdFA": {
        "position": [
         32,
         26,
         65
        ],
        "scale": 1,
        "scene": "<openalea.plantgl.scenegraph._pglsg.Scene object at 0x7f77909e1db0>"
       },
       "scene_EJNDzucJk6yyVXvbeHNGtofAH": {
        "position": [
         -28,
         -17,
         -121
        ],
        "scale": 1,
        "scene": "<openalea.plantgl.scenegraph._pglsg.Scene object at 0x7f77909061b0>"
       },
       "scene_EYvkYoFDMBoBSB6CasAUclvqu": {
        "position": [
         -75,
         28,
         90
        ],
        "scale": 1,
        "scene": "<openalea.plantgl.scenegraph._pglsg.Scene object at 0x7f7790b61b30>"
       },
       "scene_EjIcMUfEnWuHENii5dmD6X0A5": {
        "position": [
         72,
         -79,
         -3
        ],
        "scale": 1,
        "scene": "<openalea.plantgl.scenegraph._pglsg.Scene object at 0x7f7790a86670>"
       },
       "scene_F69x8CllKul70hkN4quN25FIk": {
        "position": [
         -63,
         13,
         -36
        ],
        "scale": 1,
        "scene": "<openalea.plantgl.scenegraph._pglsg.Scene object at 0x7f7790946c70>"
       },
       "scene_FDHh7nv591NRxV8AXBPOr4UlI": {
        "position": [
         20,
         40,
         122
        ],
        "scale": 1,
        "scene": "<openalea.plantgl.scenegraph._pglsg.Scene object at 0x7f7790bcb570>"
       },
       "scene_G03qtRdpOSwLOYeN7b41GngqY": {
        "position": [
         75,
         -47,
         52
        ],
        "scale": 1,
        "scene": "<openalea.plantgl.scenegraph._pglsg.Scene object at 0x7f7790c5f8f0>"
       },
       "scene_Gmg4PCkPuagXgNIaZfVSxFXAw": {
        "position": [
         52,
         122,
         -58
        ],
        "scale": 1,
        "scene": "<openalea.plantgl.scenegraph._pglsg.Scene object at 0x7f77909e1930>"
       },
       "scene_GvItGm008eDytiPkueU9JFax3": {
        "position": [
         -83,
         -91,
         99
        ],
        "scale": 1,
        "scene": "<openalea.plantgl.scenegraph._pglsg.Scene object at 0x7f7790c56930>"
       },
       "scene_HDXAZRWmk6YmMqoKh51Xq3udG": {
        "position": [
         116,
         -18,
         -18
        ],
        "scale": 1,
        "scene": "<openalea.plantgl.scenegraph._pglsg.Scene object at 0x7f7790d00c30>"
       },
       "scene_HUXzjL1FnMm6jKH2HFOMIhfqP": {
        "position": [
         -21,
         -91,
         -69
        ],
        "scale": 1,
        "scene": "<openalea.plantgl.scenegraph._pglsg.Scene object at 0x7f779093c330>"
       },
       "scene_HndTnma9W5I66l6z2sDqAc9Xn": {
        "position": [
         -57,
         -38,
         72
        ],
        "scale": 1,
        "scene": "<openalea.plantgl.scenegraph._pglsg.Scene object at 0x7f7790906c70>"
       },
       "scene_I2vA1apMWlP7ZmxnA0tvBOnd0": {
        "position": [
         -126,
         -52,
         -33
        ],
        "scale": 1,
        "scene": "<openalea.plantgl.scenegraph._pglsg.Scene object at 0x7f7790ab6bb0>"
       },
       "scene_IWdTvC7Mw5KTjtp4XbR9kGqoE": {
        "position": [
         123,
         111,
         5
        ],
        "scale": 1,
        "scene": "<openalea.plantgl.scenegraph._pglsg.Scene object at 0x7f7790b2bbf0>"
       },
       "scene_J4kdQfbDYgvkzAxXxvKEw5FbS": {
        "position": [
         -99,
         -77,
         -47
        ],
        "scale": 1,
        "scene": "<openalea.plantgl.scenegraph._pglsg.Scene object at 0x7f7790cbe2b0>"
       },
       "scene_JAukgTuh4OLYgRfrE0Bdazgr8": {
        "position": [
         109,
         67,
         -90
        ],
        "scale": 1,
        "scene": "<openalea.plantgl.scenegraph._pglsg.Scene object at 0x7f7790c6a570>"
       },
       "scene_JFQPqF3Ar1Y7OCWw0k6UVsO3E": {
        "position": [
         -89,
         -34,
         -124
        ],
        "scale": 1,
        "scene": "<openalea.plantgl.scenegraph._pglsg.Scene object at 0x7f77c43b7cf0>"
       },
       "scene_JRRfejwziOjOHAyU263gaY37p": {
        "position": [
         111,
         20,
         31
        ],
        "scale": 1,
        "scene": "<openalea.plantgl.scenegraph._pglsg.Scene object at 0x7f77909cd570>"
       },
       "scene_JhTBDit0nWRzygyP9c6mMOllJ": {
        "position": [
         -71,
         -80,
         120
        ],
        "scale": 1,
        "scene": "<openalea.plantgl.scenegraph._pglsg.Scene object at 0x7f779093c730>"
       },
       "scene_JlNG6qDxU4yRwQNWuhhX7c0BA": {
        "position": [
         -45,
         92,
         52
        ],
        "scale": 1,
        "scene": "<openalea.plantgl.scenegraph._pglsg.Scene object at 0x7f77909d82b0>"
       },
       "scene_Jp0P8pXii3wImgeL5MZk5rHFt": {
        "position": [
         -22,
         -1,
         -66
        ],
        "scale": 1,
        "scene": "<openalea.plantgl.scenegraph._pglsg.Scene object at 0x7f779099cef0>"
       },
       "scene_K0bmC1Rgegkz5lZFbootRLVpd": {
        "position": [
         54,
         -50,
         90
        ],
        "scale": 1,
        "scene": "<openalea.plantgl.scenegraph._pglsg.Scene object at 0x7f7791155e30>"
       },
       "scene_K2XtVKpewT615QMkhMdg1yCAZ": {
        "position": [
         39,
         101,
         -69
        ],
        "scale": 1,
        "scene": "<openalea.plantgl.scenegraph._pglsg.Scene object at 0x7f7790aec830>"
       },
       "scene_K9tEmlpXhqOt4JYIt3YtYfdsG": {
        "position": [
         55,
         62,
         8
        ],
        "scale": 1,
        "scene": "<openalea.plantgl.scenegraph._pglsg.Scene object at 0x7f7790d65bb0>"
       },
       "scene_KAVFEP4wuMyrJEw6PEsOC8gQP": {
        "position": [
         60,
         79,
         97
        ],
        "scale": 1,
        "scene": "<openalea.plantgl.scenegraph._pglsg.Scene object at 0x7f7790985fb0>"
       },
       "scene_KRKxZPxt5vAShhMWO74fwP9DT": {
        "position": [
         -89,
         117,
         -5
        ],
        "scale": 1,
        "scene": "<openalea.plantgl.scenegraph._pglsg.Scene object at 0x7f7790b4eab0>"
       },
       "scene_KaAAYyVPnBI1K1ybkuqfZwCUB": {
        "position": [
         112,
         -109,
         0
        ],
        "scale": 1,
        "scene": "<openalea.plantgl.scenegraph._pglsg.Scene object at 0x7f7790985af0>"
       },
       "scene_KeCXjCuS1w5ol9LXA9rrPpV6q": {
        "position": [
         58,
         34,
         -83
        ],
        "scale": 1,
        "scene": "<openalea.plantgl.scenegraph._pglsg.Scene object at 0x7f7790b57570>"
       },
       "scene_KlJnYaAmxKeQQjB4kh6JIfDUm": {
        "position": [
         -48,
         41,
         64
        ],
        "scale": 1,
        "scene": "<openalea.plantgl.scenegraph._pglsg.Scene object at 0x7f7790c99570>"
       },
       "scene_LLMTjTwjvcNlnCCHlBNCIRLbe": {
        "position": [
         -35,
         57,
         -115
        ],
        "scale": 1,
        "scene": "<openalea.plantgl.scenegraph._pglsg.Scene object at 0x7f77911665b0>"
       },
       "scene_LOpKNyP7xe7rTdFIzimtFJPSK": {
        "position": [
         -102,
         25,
         76
        ],
        "scale": 1,
        "scene": "<openalea.plantgl.scenegraph._pglsg.Scene object at 0x7f7790bcbf30>"
       },
       "scene_LkWlAgUYChZQ88o7bZQR3Y8ER": {
        "position": [
         -92,
         -15,
         -36
        ],
        "scale": 1,
        "scene": "<openalea.plantgl.scenegraph._pglsg.Scene object at 0x7f7790bd52b0>"
       },
       "scene_LvovHjq50Nuq17pp7jeD71MKi": {
        "position": [
         0,
         41,
         -122
        ],
        "scale": 1,
        "scene": "<openalea.plantgl.scenegraph._pglsg.Scene object at 0x7f7790d138f0>"
       },
       "scene_MB8nnIfPg1OdNSYELJKS3cFye": {
        "position": [
         55,
         -69,
         -76
        ],
        "scale": 1,
        "scene": "<openalea.plantgl.scenegraph._pglsg.Scene object at 0x7f77909e18f0>"
       },
       "scene_MHJRhthSazGxNI59rUNa2gSfo": {
        "position": [
         -48,
         73,
         -44
        ],
        "scale": 1,
        "scene": "<openalea.plantgl.scenegraph._pglsg.Scene object at 0x7f7790bd5830>"
       },
       "scene_MM9H4Nzvl3BLcT9uETOQqH1K7": {
        "position": [
         -115,
         -117,
         53
        ],
        "scale": 1,
        "scene": "<openalea.plantgl.scenegraph._pglsg.Scene object at 0x7f77909852f0>"
       },
       "scene_MNYQIIt5JmUWHhR4MwldJZuhD": {
        "position": [
         32,
         3,
         25
        ],
        "scale": 1,
        "scene": "<openalea.plantgl.scenegraph._pglsg.Scene object at 0x7f7790bb2d70>"
       },
       "scene_Mb9hqnPFQ5XrB1ruQ5eW0kjZ9": {
        "position": [
         -99,
         -35,
         52
        ],
        "scale": 1,
        "scene": "<openalea.plantgl.scenegraph._pglsg.Scene object at 0x7f7790abca30>"
       },
       "scene_NGp410BJv3ZD2BGdy7fUvx4w3": {
        "position": [
         8,
         -103,
         98
        ],
        "scale": 1,
        "scene": "<openalea.plantgl.scenegraph._pglsg.Scene object at 0x7f7790ab6630>"
       },
       "scene_NWbiAugznPbpGfeFANqq4vqpW": {
        "position": [
         80,
         -37,
         93
        ],
        "scale": 1,
        "scene": "<openalea.plantgl.scenegraph._pglsg.Scene object at 0x7f7790b6b870>"
       },
       "scene_NpiWKJvIXgI5tvCjxb1UyJGAg": {
        "position": [
         -67,
         -14,
         -95
        ],
        "scale": 1,
        "scene": "<openalea.plantgl.scenegraph._pglsg.Scene object at 0x7f7790c6a330>"
       },
       "scene_Ob0LSUoq1XVYdmXgdLhhJDSjr": {
        "position": [
         58,
         13,
         23
        ],
        "scale": 1,
        "scene": "<openalea.plantgl.scenegraph._pglsg.Scene object at 0x7f7790d65b30>"
       },
       "scene_PNx6kSngZ2OJCFHdTCc2fZxAQ": {
        "position": [
         -68,
         58,
         34
        ],
        "scale": 1,
        "scene": "<openalea.plantgl.scenegraph._pglsg.Scene object at 0x7f7790959c70>"
       },
       "scene_PY7gIsXkVdo8Ut1quzPgrMgE5": {
        "position": [
         -91,
         48,
         16
        ],
        "scale": 1,
        "scene": "<openalea.plantgl.scenegraph._pglsg.Scene object at 0x7f7790b971f0>"
       },
       "scene_PiAuQ5w9UnwdDeNgSl6Okz09p": {
        "position": [
         6,
         49,
         -49
        ],
        "scale": 1,
        "scene": "<openalea.plantgl.scenegraph._pglsg.Scene object at 0x7f7790d13930>"
       },
       "scene_QMM5mqIJKw73tWQouke4sznqq": {
        "position": [
         -68,
         21,
         38
        ],
        "scale": 1,
        "scene": "<openalea.plantgl.scenegraph._pglsg.Scene object at 0x7f7790ba0ef0>"
       },
       "scene_QTtH0YMVau1w3NiP7lWneqKKR": {
        "position": [
         -38,
         -51,
         118
        ],
        "scale": 1,
        "scene": "<openalea.plantgl.scenegraph._pglsg.Scene object at 0x7f7790d00830>"
       },
       "scene_QcLRRggEAV2RQCpiscdazjtrp": {
        "position": [
         90,
         66,
         52
        ],
        "scale": 1,
        "scene": "<openalea.plantgl.scenegraph._pglsg.Scene object at 0x7f77c43b79b0>"
       },
       "scene_QdwRq88mT8wKFBHDvOp9DdI4C": {
        "position": [
         -48,
         125,
         66
        ],
        "scale": 1,
        "scene": "<openalea.plantgl.scenegraph._pglsg.Scene object at 0x7f7790b4e230>"
       },
       "scene_R1Q50EbxDs0Hu0UiDnEAbHfDh": {
        "position": [
         -38,
         -39,
         -116
        ],
        "scale": 1,
        "scene": "<openalea.plantgl.scenegraph._pglsg.Scene object at 0x7f77909e1b30>"
       },
       "scene_R6JTZv0v1l72HJqhjaStLg9Jw": {
        "position": [
         -29,
         13,
         111
        ],
        "scale": 1,
        "scene": "<openalea.plantgl.scenegraph._pglsg.Scene object at 0x7f7790abc770>"
       },
       "scene_RZV3yokHIkqtEwqNxy4ql0kTr": {
        "position": [
         -31,
         15,
         -95
        ],
        "scale": 1,
        "scene": "<openalea.plantgl.scenegraph._pglsg.Scene object at 0x7f7790cc2930>"
       },
       "scene_SciU2qcRmyC7AFRHUqbMb7zBE": {
        "position": [
         60,
         -65,
         -115
        ],
        "scale": 1,
        "scene": "<openalea.plantgl.scenegraph._pglsg.Scene object at 0x7f7790c5f430>"
       },
       "scene_Sg3h7e832QAPIigb05OhTVWJo": {
        "position": [
         -102,
         15,
         31
        ],
        "scale": 1,
        "scene": "<openalea.plantgl.scenegraph._pglsg.Scene object at 0x7f7790d65870>"
       },
       "scene_SvTPuuX4TOR6mICeQBrpXF7Qi": {
        "position": [
         82,
         -126,
         -106
        ],
        "scale": 1,
        "scene": "<openalea.plantgl.scenegraph._pglsg.Scene object at 0x7f77909e11b0>"
       },
       "scene_T83tECn36kMkM2FtqZsGRjJJO": {
        "position": [
         42,
         -116,
         -44
        ],
        "scale": 1,
        "scene": "<openalea.plantgl.scenegraph._pglsg.Scene object at 0x7f7790b784b0>"
       },
       "scene_TMU1V9QvnfZGOh6gMKgPgOfYi": {
        "position": [
         27,
         -5,
         33
        ],
        "scale": 1,
        "scene": "<openalea.plantgl.scenegraph._pglsg.Scene object at 0x7f77909af530>"
       },
       "scene_TgWeeJHf26nWTuu8wxo6AveWy": {
        "position": [
         93,
         99,
         97
        ],
        "scale": 1,
        "scene": "<openalea.plantgl.scenegraph._pglsg.Scene object at 0x7f7790bfcf30>"
       },
       "scene_TkBNQz750xM8bvz8KLN3xiVVB": {
        "position": [
         45,
         -9,
         106
        ],
        "scale": 1,
        "scene": "<openalea.plantgl.scenegraph._pglsg.Scene object at 0x7f7790b0f9b0>"
       },
       "scene_U0976uxGQyE3Ib4no3HpBnLwc": {
        "position": [
         23,
         110,
         39
        ],
        "scale": 1,
        "scene": "<openalea.plantgl.scenegraph._pglsg.Scene object at 0x7f7790be7530>"
       },
       "scene_ULquBVZy98pz1dtH0YY8uoh2r": {
        "position": [
         -11,
         -88,
         40
        ],
        "scale": 1,
        "scene": "<openalea.plantgl.scenegraph._pglsg.Scene object at 0x7f7790be7030>"
       },
       "scene_UcXajGeAbOrFO9Ohni0ycmK3t": {
        "position": [
         56,
         -52,
         -70
        ],
        "scale": 1,
        "scene": "<openalea.plantgl.scenegraph._pglsg.Scene object at 0x7f77909cdb30>"
       },
       "scene_Uuc85052lmwWR2G7Bl8uvjIWV": {
        "position": [
         68,
         -63,
         -37
        ],
        "scale": 1,
        "scene": "<openalea.plantgl.scenegraph._pglsg.Scene object at 0x7f7790d6e630>"
       },
       "scene_VoQnGbP6pd0FwZNLX2FYmWT77": {
        "position": [
         -29,
         20,
         41
        ],
        "scale": 1,
        "scene": "<openalea.plantgl.scenegraph._pglsg.Scene object at 0x7f77909afab0>"
       },
       "scene_VxmbyrqqvanQWwtwXLHiWO4Lm": {
        "position": [
         21,
         62,
         0
        ],
        "scale": 1,
        "scene": "<openalea.plantgl.scenegraph._pglsg.Scene object at 0x7f7790b727b0>"
       },
       "scene_WOfJ1VGd7g1MTDf3VRABEwqeN": {
        "position": [
         -55,
         -43,
         41
        ],
        "scale": 1,
        "scene": "<openalea.plantgl.scenegraph._pglsg.Scene object at 0x7f779099ca70>"
       },
       "scene_WQY9Q0OnEvnIheeDoVr51h7NH": {
        "position": [
         -40,
         -37,
         53
        ],
        "scale": 1,
        "scene": "<openalea.plantgl.scenegraph._pglsg.Scene object at 0x7f77909cd5f0>"
       },
       "scene_WwFWFXNZoiJquSwZXI4DcJtHK": {
        "position": [
         107,
         -27,
         -109
        ],
        "scale": 1,
        "scene": "<openalea.plantgl.scenegraph._pglsg.Scene object at 0x7f7790bd5630>"
       },
       "scene_WwNZgCLwjeWFfuQoroLTMyWZU": {
        "position": [
         100,
         -9,
         -46
        ],
        "scale": 1,
        "scene": "<openalea.plantgl.scenegraph._pglsg.Scene object at 0x7f77915cf570>"
       },
       "scene_WxfUSOC6anEYAtbSUDCmrh1oi": {
        "position": [
         30,
         -11,
         -57
        ],
        "scale": 1,
        "scene": "<openalea.plantgl.scenegraph._pglsg.Scene object at 0x7f77909d8c70>"
       },
       "scene_XFsT9Ts4OXJKEyOCBpoz1YTuO": {
        "position": [
         -30,
         -82,
         -43
        ],
        "scale": 1,
        "scene": "<openalea.plantgl.scenegraph._pglsg.Scene object at 0x7f7790c4d2f0>"
       },
       "scene_XX7480Ih9thlB86EvtIPPZnuQ": {
        "position": [
         -41,
         73,
         0
        ],
        "scale": 1,
        "scene": "<openalea.plantgl.scenegraph._pglsg.Scene object at 0x7f7790be7070>"
       },
       "scene_Xy0VDJZugonNkaIsiQVZbhZ7P": {
        "position": [
         92,
         -14,
         -25
        ],
        "scale": 1,
        "scene": "<openalea.plantgl.scenegraph._pglsg.Scene object at 0x7f77909cd0f0>"
       },
       "scene_XyhtuoaBIs7dXzj2hlgm7CtM5": {
        "position": [
         -14,
         -94,
         -7
        ],
        "scale": 1,
        "scene": "<openalea.plantgl.scenegraph._pglsg.Scene object at 0x7f7790bc1f30>"
       },
       "scene_Y0e8eTu8y9ygPMg2EyYLX5VE0": {
        "position": [
         -103,
         60,
         -2
        ],
        "scale": 1,
        "scene": "<openalea.plantgl.scenegraph._pglsg.Scene object at 0x7f7790c5fb30>"
       },
       "scene_YJCjTbbxIm5pnT26fLRY4geNi": {
        "position": [
         -104,
         75,
         107
        ],
        "scale": 1,
        "scene": "<openalea.plantgl.scenegraph._pglsg.Scene object at 0x7f7790abc0b0>"
       },
       "scene_YKNiOMoYqTQvFX7HBqBeoNg5C": {
        "position": [
         80,
         -118,
         -14
        ],
        "scale": 1,
        "scene": "<openalea.plantgl.scenegraph._pglsg.Scene object at 0x7f7790c72530>"
       },
       "scene_YKPXNxHaQNUsBvtchjq7IAKEh": {
        "position": [
         -50,
         19,
         -114
        ],
        "scale": 1,
        "scene": "<openalea.plantgl.scenegraph._pglsg.Scene object at 0x7f77909e1370>"
       },
       "scene_Yk5weNG3UIZfscjyu5boUxv27": {
        "position": [
         66,
         -4,
         60
        ],
        "scale": 1,
        "scene": "<openalea.plantgl.scenegraph._pglsg.Scene object at 0x7f7790b233f0>"
       },
       "scene_YylzCqR0O1ezMdMKMB6K73Pho": {
        "position": [
         29,
         125,
         2
        ],
        "scale": 1,
        "scene": "<openalea.plantgl.scenegraph._pglsg.Scene object at 0x7f7790985c70>"
       },
       "scene_ZINHZ36YNRqPzmm2zAZ7006xs": {
        "position": [
         72,
         -46,
         -112
        ],
        "scale": 1,
        "scene": "<openalea.plantgl.scenegraph._pglsg.Scene object at 0x7f779094eaf0>"
       },
       "scene_Zhgz5OhoNmXDUzHEwRq5lVLyB": {
        "position": [
         -43,
         0,
         -111
        ],
        "scale": 1,
        "scene": "<openalea.plantgl.scenegraph._pglsg.Scene object at 0x7f7790b78cb0>"
       },
       "scene_ZqexpTaqQ8p4eHSDNSxTfIPR3": {
        "position": [
         92,
         -100,
         114
        ],
        "scale": 1,
        "scene": "<openalea.plantgl.scenegraph._pglsg.Scene object at 0x7f7790b0f970>"
       },
       "scene_a1Wyq9Rlm1ijq9sgpSYZxsBzf": {
        "position": [
         105,
         54,
         -11
        ],
        "scale": 1,
        "scene": "<openalea.plantgl.scenegraph._pglsg.Scene object at 0x7f7790b23f30>"
       },
       "scene_a6wOqPK72FZ7ONib6dS3ilHkj": {
        "position": [
         122,
         -15,
         94
        ],
        "scale": 1,
        "scene": "<openalea.plantgl.scenegraph._pglsg.Scene object at 0x7f7790c23830>"
       },
       "scene_a98MmwnybVt7rnAL26nxPrM3R": {
        "position": [
         116,
         -14,
         62
        ],
        "scale": 1,
        "scene": "<openalea.plantgl.scenegraph._pglsg.Scene object at 0x7f7790cf88b0>"
       },
       "scene_aYhob2JWeijKum2Hdyu322Tyf": {
        "position": [
         -16,
         78,
         -2
        ],
        "scale": 1,
        "scene": "<openalea.plantgl.scenegraph._pglsg.Scene object at 0x7f7790b72df0>"
       },
       "scene_auVvH33d9uH3ELYUe4TtaB8f4": {
        "position": [
         97,
         -65,
         15
        ],
        "scale": 1,
        "scene": "<openalea.plantgl.scenegraph._pglsg.Scene object at 0x7f7790985570>"
       },
       "scene_b232Sd9ni1pzlMbhmBUJkqSw8": {
        "position": [
         121,
         -12,
         -78
        ],
        "scale": 1,
        "scene": "<openalea.plantgl.scenegraph._pglsg.Scene object at 0x7f7790b6b8b0>"
       },
       "scene_bL3w0WaCbIF5NBJTZyu5aqViY": {
        "position": [
         -124,
         78,
         28
        ],
        "scale": 1,
        "scene": "<openalea.plantgl.scenegraph._pglsg.Scene object at 0x7f7790d00c70>"
       },
       "scene_bdwLx0IaSkEqxrdtjkIKu6ZXa": {
        "position": [
         -90,
         -5,
         -33
        ],
        "scale": 1,
        "scene": "<openalea.plantgl.scenegraph._pglsg.Scene object at 0x7f7790bb2ab0>"
       },
       "scene_bk3FkpvmjVKktZRFPpTkNALUr": {
        "position": [
         -111,
         24,
         75
        ],
        "scale": 1,
        "scene": "<openalea.plantgl.scenegraph._pglsg.Scene object at 0x7f7790bdf930>"
       },
       "scene_ccMJKmo2ZesqFGlqzuhwfePUu": {
        "position": [
         -111,
         84,
         -49
        ],
        "scale": 1,
        "scene": "<openalea.plantgl.scenegraph._pglsg.Scene object at 0x7f7790ba93f0>"
       },
       "scene_chiOaCh3rjd5Lm4VHCl9xd1Mt": {
        "position": [
         50,
         106,
         45
        ],
        "scale": 1,
        "scene": "<openalea.plantgl.scenegraph._pglsg.Scene object at 0x7f7790ab6670>"
       },
       "scene_d0gLJYv46mY6bFBOBEXCYGNZZ": {
        "position": [
         34,
         -85,
         -90
        ],
        "scale": 1,
        "scene": "<openalea.plantgl.scenegraph._pglsg.Scene object at 0x7f7790a08b30>"
       },
       "scene_d1gOCgMZ60liSJICnGbo37sNG": {
        "position": [
         -71,
         -36,
         -43
        ],
        "scale": 1,
        "scene": "<openalea.plantgl.scenegraph._pglsg.Scene object at 0x7f77911700b0>"
       },
       "scene_d97bRqb60JJZA5PdfRxWvhmyP": {
        "position": [
         104,
         -80,
         -61
        ],
        "scale": 1,
        "scene": "<openalea.plantgl.scenegraph._pglsg.Scene object at 0x7f7790a7ea70>"
       },
       "scene_dEiviIOp08wv8I0Rrsn5MhCbx": {
        "position": [
         -30,
         56,
         -28
        ],
        "scale": 1,
        "scene": "<openalea.plantgl.scenegraph._pglsg.Scene object at 0x7f7790bd5cb0>"
       },
       "scene_e2Xl42AY6lmLFFs1FSGUBg0qB": {
        "position": [
         87,
         -99,
         -46
        ],
        "scale": 1,
        "scene": "<openalea.plantgl.scenegraph._pglsg.Scene object at 0x7f7790b57670>"
       },
       "scene_eDPRxGAKUflgwue4xqpv85xtG": {
        "position": [
         107,
         -17,
         -5
        ],
        "scale": 1,
        "scene": "<openalea.plantgl.scenegraph._pglsg.Scene object at 0x7f7790d25630>"
       },
       "scene_ePqBuLR0oXm7R9ZPwziZACA0z": {
        "position": [
         94,
         -66,
         -113
        ],
        "scale": 1,
        "scene": "<openalea.plantgl.scenegraph._pglsg.Scene object at 0x7f7790a922f0>"
       },
       "scene_eRAj1PVisr0ldR3YYQNhWb14T": {
        "position": [
         71,
         -5,
         87
        ],
        "scale": 1,
        "scene": "<openalea.plantgl.scenegraph._pglsg.Scene object at 0x7f7790a97af0>"
       },
       "scene_eSFn5RUrwtjEAwWenyTj5wPYx": {
        "position": [
         -95,
         79,
         28
        ],
        "scale": 1,
        "scene": "<openalea.plantgl.scenegraph._pglsg.Scene object at 0x7f7790cde3b0>"
       },
       "scene_eX9FKzlpprELgXLkwRbKuMeKT": {
        "position": [
         80,
         -17,
         39
        ],
        "scale": 1,
        "scene": "<openalea.plantgl.scenegraph._pglsg.Scene object at 0x7f77909d87f0>"
       },
       "scene_eYDnM8rEPpfyV6btGgzpD6Jnv": {
        "position": [
         -57,
         104,
         -118
        ],
        "scale": 1,
        "scene": "<openalea.plantgl.scenegraph._pglsg.Scene object at 0x7f7790b0f070>"
       },
       "scene_epghALO0EMVpGzUJ8oz2HKoir": {
        "position": [
         40,
         89,
         -121
        ],
        "scale": 1,
        "scene": "<openalea.plantgl.scenegraph._pglsg.Scene object at 0x7f7790afcbb0>"
       },
       "scene_es7fLmUk87zoTPJstJ0DuBM2K": {
        "position": [
         43,
         69,
         8
        ],
        "scale": 1,
        "scene": "<openalea.plantgl.scenegraph._pglsg.Scene object at 0x7f7790abc8f0>"
       },
       "scene_f7c80bz4XZXmKAadYXMVgaJwL": {
        "position": [
         -85,
         115,
         68
        ],
        "scale": 1,
        "scene": "<openalea.plantgl.scenegraph._pglsg.Scene object at 0x7f77915dccb0>"
       },
       "scene_fTkgmZm11y88sw9KEaJMyTMXQ": {
        "position": [
         10,
         -58,
         0
        ],
        "scale": 1,
        "scene": "<openalea.plantgl.scenegraph._pglsg.Scene object at 0x7f7790a975f0>"
       },
       "scene_ffdFBGlxaTNAFva0r7mnIMKkp": {
        "position": [
         -31,
         -121,
         -59
        ],
        "scale": 1,
        "scene": "<openalea.plantgl.scenegraph._pglsg.Scene object at 0x7f77909a7f30>"
       },
       "scene_gKd4LUnfbQmuEKxv3XFCJ8cn0": {
        "position": [
         -82,
         71,
         -110
        ],
        "scale": 1,
        "scene": "<openalea.plantgl.scenegraph._pglsg.Scene object at 0x7f7790c723f0>"
       },
       "scene_gTSGK28dFAeVRDKDH9dt6HsPe": {
        "position": [
         -21,
         122,
         121
        ],
        "scale": 1,
        "scene": "<openalea.plantgl.scenegraph._pglsg.Scene object at 0x7f77c43b7e30>"
       },
       "scene_gW6vQUZ1Ye9ackarn8FVyaIcK": {
        "position": [
         -85,
         -112,
         -66
        ],
        "scale": 1,
        "scene": "<openalea.plantgl.scenegraph._pglsg.Scene object at 0x7f7790d6eaf0>"
       },
       "scene_gbsqrwUYG3edgnkBzEZ9vEpdS": {
        "position": [
         107,
         -30,
         -11
        ],
        "scale": 1,
        "scene": "<openalea.plantgl.scenegraph._pglsg.Scene object at 0x7f77c4287af0>"
       },
       "scene_gdwl9c36RgYDVxMkgOU2vK4e5": {
        "position": [
         -16,
         39,
         44
        ],
        "scale": 1,
        "scene": "<openalea.plantgl.scenegraph._pglsg.Scene object at 0x7f7790c061f0>"
       },
       "scene_gg2hp27pAbn2xVftQ4JnYxtTI": {
        "position": [
         -98,
         -1,
         -112
        ],
        "scale": 1,
        "scene": "<openalea.plantgl.scenegraph._pglsg.Scene object at 0x7f7790bfce30>"
       },
       "scene_gkVZt0aJcOt9mA8yGdMyFYX9B": {
        "position": [
         90,
         -36,
         -67
        ],
        "scale": 1,
        "scene": "<openalea.plantgl.scenegraph._pglsg.Scene object at 0x7f77909cdfb0>"
       },
       "scene_gxun1b1KAQVKnCrbZPjzDl1cI": {
        "position": [
         25,
         43,
         -3
        ],
        "scale": 1,
        "scene": "<openalea.plantgl.scenegraph._pglsg.Scene object at 0x7f7790ba06f0>"
       },
       "scene_hRvhbwGa1tbDkftsDm0rq5LAW": {
        "position": [
         9,
         108,
         0
        ],
        "scale": 1,
        "scene": "<openalea.plantgl.scenegraph._pglsg.Scene object at 0x7f7790cbe7b0>"
       },
       "scene_hsOHXmUEfGQeo6acYsNuQ3wv2": {
        "position": [
         13,
         -46,
         22
        ],
        "scale": 1,
        "scene": "<openalea.plantgl.scenegraph._pglsg.Scene object at 0x7f779090d1b0>"
       },
       "scene_i0UQsCpO9iikqjeDXcoQwRJ5E": {
        "position": [
         97,
         110,
         -67
        ],
        "scale": 1,
        "scene": "<openalea.plantgl.scenegraph._pglsg.Scene object at 0x7f77c43b7770>"
       },
       "scene_iX580JKBfXQBZ30nssMwaqDeo": {
        "position": [
         2,
         95,
         86
        ],
        "scale": 1,
        "scene": "<openalea.plantgl.scenegraph._pglsg.Scene object at 0x7f779090dd70>"
       },
       "scene_ifCif4XhuBEe7RzZOD6vzRkFM": {
        "position": [
         -35,
         -59,
         -51
        ],
        "scale": 1,
        "scene": "<openalea.plantgl.scenegraph._pglsg.Scene object at 0x7f7790c3b1f0>"
       },
       "scene_ifmN87RyCLrshlOJFMYy8RV2j": {
        "position": [
         73,
         125,
         -18
        ],
        "scale": 1,
        "scene": "<openalea.plantgl.scenegraph._pglsg.Scene object at 0x7f7790d47b30>"
       },
       "scene_j1F4c6ovpnEHkGzUjLo3eWrRo": {
        "position": [
         -34,
         83,
         -13
        ],
        "scale": 1,
        "scene": "<openalea.plantgl.scenegraph._pglsg.Scene object at 0x7f77909ecfb0>"
       },
       "scene_j8lUrGZSoNsNZjojU4L1nNzwp": {
        "position": [
         -82,
         102,
         38
        ],
        "scale": 1,
        "scene": "<openalea.plantgl.scenegraph._pglsg.Scene object at 0x7f77909466b0>"
       },
       "scene_jsUJtleU6REvrTniMygDVtLgM": {
        "position": [
         85,
         -35,
         -99
        ],
        "scale": 1,
        "scene": "<openalea.plantgl.scenegraph._pglsg.Scene object at 0x7f77909ec230>"
       },
       "scene_k0wSwKawAr6HnIbzI87exhVnk": {
        "position": [
         -89,
         -118,
         122
        ],
        "scale": 1,
        "scene": "<openalea.plantgl.scenegraph._pglsg.Scene object at 0x7f7790bf1c30>"
       },
       "scene_kCCG7LTvox6DzeAeA49nsVcIq": {
        "position": [
         -72,
         66,
         91
        ],
        "scale": 1,
        "scene": "<openalea.plantgl.scenegraph._pglsg.Scene object at 0x7f77909e1af0>"
       },
       "scene_kFVX8tG048z3qVRJ2olXKbJ1N": {
        "position": [
         -48,
         -6,
         37
        ],
        "scale": 1,
        "scene": "<openalea.plantgl.scenegraph._pglsg.Scene object at 0x7f7790b72870>"
       },
       "scene_kMWSlNrncwMN9KVITQB6hw5mM": {
        "position": [
         -101,
         -33,
         -34
        ],
        "scale": 1,
        "scene": "<openalea.plantgl.scenegraph._pglsg.Scene object at 0x7f7790bb2670>"
       },
       "scene_kT3KRf24CDqX0rW7iNFurMxt5": {
        "position": [
         112,
         -86,
         -50
        ],
        "scale": 1,
        "scene": "<openalea.plantgl.scenegraph._pglsg.Scene object at 0x7f7790960cf0>"
       },
       "scene_kmUAl9J5Gkvab0oW1U2Tfilwg": {
        "position": [
         -100,
         -41,
         124
        ],
        "scale": 1,
        "scene": "<openalea.plantgl.scenegraph._pglsg.Scene object at 0x7f7790b617f0>"
       },
       "scene_lDjNWic0lSX1wOHjGqZfmanRe": {
        "position": [
         76,
         -105,
         52
        ],
        "scale": 1,
        "scene": "<openalea.plantgl.scenegraph._pglsg.Scene object at 0x7f779094ed70>"
       },
       "scene_lSeEm193Gj208xbriOL9nDZ0v": {
        "position": [
         -37,
         -49,
         90
        ],
        "scale": 1,
        "scene": "<openalea.plantgl.scenegraph._pglsg.Scene object at 0x7f779098fe70>"
       },
       "scene_ldTC9QX4t617rCZmFdUp3n90L": {
        "position": [
         -22,
         82,
         -48
        ],
        "scale": 1,
        "scene": "<openalea.plantgl.scenegraph._pglsg.Scene object at 0x7f7790bfc4b0>"
       },
       "scene_ljtX5TCfK2zW4ckz7hfNFoUwY": {
        "position": [
         114,
         70,
         22
        ],
        "scale": 1,
        "scene": "<openalea.plantgl.scenegraph._pglsg.Scene object at 0x7f7790c2e9f0>"
       },
       "scene_lwax9dNCrIqhYXgYDOJyG0P4g": {
        "position": [
         -25,
         11,
         50
        ],
        "scale": 1,
        "scene": "<openalea.plantgl.scenegraph._pglsg.Scene object at 0x7f7790b616f0>"
       },
       "scene_mRP8jERO73VpvSba4r6JJdJoI": {
        "position": [
         46,
         65,
         -45
        ],
        "scale": 1,
        "scene": "<openalea.plantgl.scenegraph._pglsg.Scene object at 0x7f7790c468b0>"
       },
       "scene_mU8lOUirKraYYziy2Jn0dCfXI": {
        "position": [
         -81,
         -3,
         21
        ],
        "scale": 1,
        "scene": "<openalea.plantgl.scenegraph._pglsg.Scene object at 0x7f7791168030>"
       },
       "scene_mc3gKuTggyZbyMl0CbFU9FvRw": {
        "position": [
         66,
         112,
         60
        ],
        "scale": 1,
        "scene": "<openalea.plantgl.scenegraph._pglsg.Scene object at 0x7f7790ba0930>"
       },
       "scene_n0M9Fw9sLbtS2cTyYJLO0JdGl": {
        "position": [
         91,
         -9,
         -121
        ],
        "scale": 1,
        "scene": "<openalea.plantgl.scenegraph._pglsg.Scene object at 0x7f7790b578f0>"
       },
       "scene_n5uiLF0GGoIWVY8tNZwuM0Fxc": {
        "position": [
         -62,
         -61,
         -88
        ],
        "scale": 1,
        "scene": "<openalea.plantgl.scenegraph._pglsg.Scene object at 0x7f7790a868f0>"
       },
       "scene_nKQVITNmK5dq66VTdbBJer5bo": {
        "position": [
         -82,
         98,
         124
        ],
        "scale": 1,
        "scene": "<openalea.plantgl.scenegraph._pglsg.Scene object at 0x7f7790c461f0>"
       },
       "scene_nLI2WRXn938tr7T0YYtBT9iKV": {
        "position": [
         77,
         -3,
         104
        ],
        "scale": 1,
        "scene": "<openalea.plantgl.scenegraph._pglsg.Scene object at 0x7f77c43a27f0>"
       },
       "scene_nLY4vOiGMgd6LiKshw1APdqyB": {
        "position": [
         -11,
         2,
         103
        ],
        "scale": 1,
        "scene": "<openalea.plantgl.scenegraph._pglsg.Scene object at 0x7f7790b45730>"
       },
       "scene_ng8gaqjyuklnhxjqtgR2PLGLx": {
        "position": [
         -101,
         -108,
         -32
        ],
        "scale": 1,
        "scene": "<openalea.plantgl.scenegraph._pglsg.Scene object at 0x7f7790ce7cf0>"
       },
       "scene_nolw5fyimYTmFGBTCbsNzuX7b": {
        "position": [
         57,
         -63,
         -13
        ],
        "scale": 1,
        "scene": "<openalea.plantgl.scenegraph._pglsg.Scene object at 0x7f7790a928b0>"
       },
       "scene_ntKiLKWrG7J6SaXEkkluXTTzY": {
        "position": [
         -38,
         -124,
         -47
        ],
        "scale": 1,
        "scene": "<openalea.plantgl.scenegraph._pglsg.Scene object at 0x7f7790bd5530>"
       },
       "scene_o6jPw37WpzZZG8RwcV6zUo4V2": {
        "position": [
         122,
         82,
         68
        ],
        "scale": 1,
        "scene": "<openalea.plantgl.scenegraph._pglsg.Scene object at 0x7f7790d32370>"
       },
       "scene_oN3Kos458S0WQ0JFjQj6bODdz": {
        "position": [
         31,
         -44,
         -60
        ],
        "scale": 1,
        "scene": "<openalea.plantgl.scenegraph._pglsg.Scene object at 0x7f77909ec4f0>"
       },
       "scene_oTpMwByT8lnQrWjc2Y0k0RmrT": {
        "position": [
         -51,
         -46,
         78
        ],
        "scale": 1,
        "scene": "<openalea.plantgl.scenegraph._pglsg.Scene object at 0x7f77909eca70>"
       },
       "scene_ol8RAOabvPUUSVbm42ZcPvoWf": {
        "position": [
         107,
         122,
         32
        ],
        "scale": 1,
        "scene": "<openalea.plantgl.scenegraph._pglsg.Scene object at 0x7f77909cd230>"
       },
       "scene_ovrr9LW2V0JSbovwImzPXLTdI": {
        "position": [
         106,
         -91,
         -105
        ],
        "scale": 1,
        "scene": "<openalea.plantgl.scenegraph._pglsg.Scene object at 0x7f7790ab6770>"
       },
       "scene_p86VnCxCsrSb8Y97fJJzHke7D": {
        "position": [
         110,
         13,
         -31
        ],
        "scale": 1,
        "scene": "<openalea.plantgl.scenegraph._pglsg.Scene object at 0x7f7790bdf2b0>"
       },
       "scene_pG1NbahjHXIgx4n8e7XjbmIzK": {
        "position": [
         -109,
         -25,
         25
        ],
        "scale": 1,
        "scene": "<openalea.plantgl.scenegraph._pglsg.Scene object at 0x7f77909cddf0>"
       },
       "scene_pNDkltymAV2ZGFdnbObWfWicx": {
        "position": [
         19,
         0,
         -10
        ],
        "scale": 1,
        "scene": "<openalea.plantgl.scenegraph._pglsg.Scene object at 0x7f7790cd5bf0>"
       },
       "scene_pVGYni880MrBuBOnumUjaZygu": {
        "position": [
         95,
         71,
         107
        ],
        "scale": 1,
        "scene": "<openalea.plantgl.scenegraph._pglsg.Scene object at 0x7f7790c23730>"
       },
       "scene_paBAs2Ae8huEyWM2buxmavjYn": {
        "position": [
         -69,
         54,
         27
        ],
        "scale": 1,
        "scene": "<openalea.plantgl.scenegraph._pglsg.Scene object at 0x7f7790ab64f0>"
       },
       "scene_pqH2uS6uvJWE98skjZInLFdOa": {
        "position": [
         -16,
         50,
         -10
        ],
        "scale": 1,
        "scene": "<openalea.plantgl.scenegraph._pglsg.Scene object at 0x7f7790b23970>"
       },
       "scene_q8UzOoxl13nGaP2oeEdgc1DkB": {
        "position": [
         -27,
         -87,
         22
        ],
        "scale": 1,
        "scene": "<openalea.plantgl.scenegraph._pglsg.Scene object at 0x7f7790b3a6b0>"
       },
       "scene_qPKgP9GRhsKbZ73xSWBRmVJbb": {
        "position": [
         -51,
         67,
         19
        ],
        "scale": 1,
        "scene": "<openalea.plantgl.scenegraph._pglsg.Scene object at 0x7f7790b23fb0>"
       },
       "scene_qRADV4RRYgTPzjHPD1e70qQvE": {
        "position": [
         -28,
         -38,
         -119
        ],
        "scale": 1,
        "scene": "<openalea.plantgl.scenegraph._pglsg.Scene object at 0x7f7790ac8230>"
       },
       "scene_qlDTOc6GRDfziRGDDy3Vgmchr": {
        "position": [
         124,
         0,
         2
        ],
        "scale": 1,
        "scene": "<openalea.plantgl.scenegraph._pglsg.Scene object at 0x7f7790d65cb0>"
       },
       "scene_qlFObKfZ3eST32kFqGbmYG2zC": {
        "position": [
         79,
         6,
         35
        ],
        "scale": 1,
        "scene": "<openalea.plantgl.scenegraph._pglsg.Scene object at 0x7f7790be7c30>"
       },
       "scene_qzMoRrNiCSAQ38zMLqvXld0db": {
        "position": [
         -119,
         -16,
         -36
        ],
        "scale": 1,
        "scene": "<openalea.plantgl.scenegraph._pglsg.Scene object at 0x7f77909ec6f0>"
       },
       "scene_reSjfSDIpie1BW7xyYCKGG2iD": {
        "position": [
         -60,
         0,
         0
        ],
        "scale": 1,
        "scene": "<openalea.plantgl.scenegraph._pglsg.Scene object at 0x7f77909e14b0>"
       },
       "scene_rvuJ4Qr4Lftzqh7rBi7ZIXaVu": {
        "position": [
         83,
         58,
         44
        ],
        "scale": 1,
        "scene": "<openalea.plantgl.scenegraph._pglsg.Scene object at 0x7f7790c0fb70>"
       },
       "scene_s0CRmUV5ZmlHPIZhMdE68Qblz": {
        "position": [
         44,
         -110,
         64
        ],
        "scale": 1,
        "scene": "<openalea.plantgl.scenegraph._pglsg.Scene object at 0x7f7790d329f0>"
       },
       "scene_s3eifaMLuHRZHzDeqTBiwxbCa": {
        "position": [
         38,
         -50,
         -122
        ],
        "scale": 1,
        "scene": "<openalea.plantgl.scenegraph._pglsg.Scene object at 0x7f7790b6b730>"
       },
       "scene_s78xkP8WAywCU0y3IlXL2iWNY": {
        "position": [
         -11,
         117,
         99
        ],
        "scale": 1,
        "scene": "<openalea.plantgl.scenegraph._pglsg.Scene object at 0x7f7790b97670>"
       },
       "scene_sUDwUbWAUSKFoLlv1udcdpCrs": {
        "position": [
         -26,
         -106,
         16
        ],
        "scale": 1,
        "scene": "<openalea.plantgl.scenegraph._pglsg.Scene object at 0x7f7790bb6730>"
       },
       "scene_scHuyDIDPZTxAqiKjEMYg78O0": {
        "position": [
         125,
         11,
         -120
        ],
        "scale": 1,
        "scene": "<openalea.plantgl.scenegraph._pglsg.Scene object at 0x7f7790b72530>"
       },
       "scene_st5gReqfOnioMV67HY1mvsN58": {
        "position": [
         -88,
         72,
         18
        ],
        "scale": 1,
        "scene": "<openalea.plantgl.scenegraph._pglsg.Scene object at 0x7f7790ab6d70>"
       },
       "scene_tgTuUi56U039BVNTTDGh1YD0i": {
        "position": [
         9,
         45,
         -91
        ],
        "scale": 1,
        "scene": "<openalea.plantgl.scenegraph._pglsg.Scene object at 0x7f779090d7b0>"
       },
       "scene_u5vHHL71shP1yBmdTq7iQFpvi": {
        "position": [
         27,
         -100,
         101
        ],
        "scale": 1,
        "scene": "<openalea.plantgl.scenegraph._pglsg.Scene object at 0x7f7790b231b0>"
       },
       "scene_uCJlTSvcoJcIIaVuI7V5kYudA": {
        "position": [
         -107,
         -64,
         -39
        ],
        "scale": 1,
        "scene": "<openalea.plantgl.scenegraph._pglsg.Scene object at 0x7f7790cf8db0>"
       },
       "scene_uQJMP00fedvsh91ZZKasTHbUS": {
        "position": [
         -103,
         71,
         30
        ],
        "scale": 1,
        "scene": "<openalea.plantgl.scenegraph._pglsg.Scene object at 0x7f7790bc13f0>"
       },
       "scene_ucyMiZgIWu1Qz9qP1o2Qac3te": {
        "position": [
         122,
         -13,
         45
        ],
        "scale": 1,
        "scene": "<openalea.plantgl.scenegraph._pglsg.Scene object at 0x7f779096b2f0>"
       },
       "scene_uiKlJJ7LyZjxGVSBXztJeHKHQ": {
        "position": [
         -106,
         41,
         53
        ],
        "scale": 1,
        "scene": "<openalea.plantgl.scenegraph._pglsg.Scene object at 0x7f77c43d6070>"
       },
       "scene_unoggLxc8wzK5cKolKgY6DiIU": {
        "position": [
         10,
         15,
         32
        ],
        "scale": 1,
        "scene": "<openalea.plantgl.scenegraph._pglsg.Scene object at 0x7f7790960730>"
       },
       "scene_uusnw6Xpkgh8QkMLgWj0LJx1H": {
        "position": [
         76,
         -69,
         -80
        ],
        "scale": 1,
        "scene": "<openalea.plantgl.scenegraph._pglsg.Scene object at 0x7f7790a86170>"
       },
       "scene_v9pMkxINa66eTfK5ikqzyJB9W": {
        "position": [
         7,
         18,
         90
        ],
        "scale": 1,
        "scene": "<openalea.plantgl.scenegraph._pglsg.Scene object at 0x7f7790b72b30>"
       },
       "scene_vAiANMTWU2nBDeCRU0UY38z9B": {
        "position": [
         104,
         54,
         117
        ],
        "scale": 1,
        "scene": "<openalea.plantgl.scenegraph._pglsg.Scene object at 0x7f77909ec0f0>"
       },
       "scene_vNQIv2EzPLM7jtTd48NFKwfai": {
        "position": [
         116,
         118,
         111
        ],
        "scale": 1,
        "scene": "<openalea.plantgl.scenegraph._pglsg.Scene object at 0x7f77911677f0>"
       },
       "scene_vSSztp09yIXyBrQTNYNkGmH4H": {
        "position": [
         11,
         -83,
         -56
        ],
        "scale": 1,
        "scene": "<openalea.plantgl.scenegraph._pglsg.Scene object at 0x7f7790c6aef0>"
       },
       "scene_vcjPxhX2deGWV07gfJZKcdm88": {
        "position": [
         -95,
         61,
         89
        ],
        "scale": 1,
        "scene": "<openalea.plantgl.scenegraph._pglsg.Scene object at 0x7f7790bf1570>"
       },
       "scene_vdSghNnmcmZxhf6MpbXKEdJaV": {
        "position": [
         -109,
         -44,
         -71
        ],
        "scale": 1,
        "scene": "<openalea.plantgl.scenegraph._pglsg.Scene object at 0x7f7790a08eb0>"
       },
       "scene_vwK1QpoMTa3ERmVeIDk9TzezZ": {
        "position": [
         34,
         120,
         -48
        ],
        "scale": 1,
        "scene": "<openalea.plantgl.scenegraph._pglsg.Scene object at 0x7f7790d32930>"
       },
       "scene_wPGjEm0mxlA0iIFC0YMusxutt": {
        "position": [
         59,
         93,
         -124
        ],
        "scale": 1,
        "scene": "<openalea.plantgl.scenegraph._pglsg.Scene object at 0x7f7790bdf270>"
       },
       "scene_wjCe1CUYriXga6XSjWwQxwlKv": {
        "position": [
         74,
         82,
         -70
        ],
        "scale": 1,
        "scene": "<openalea.plantgl.scenegraph._pglsg.Scene object at 0x7f779116fe70>"
       },
       "scene_wr8xd1kz7dUa4VN3hVuIG7Jlk": {
        "position": [
         95,
         -42,
         53
        ],
        "scale": 1,
        "scene": "<openalea.plantgl.scenegraph._pglsg.Scene object at 0x7f77909d8370>"
       },
       "scene_wuth2SCv8LklXuwkPWC7gbKrq": {
        "position": [
         115,
         -2,
         -76
        ],
        "scale": 1,
        "scene": "<openalea.plantgl.scenegraph._pglsg.Scene object at 0x7f77908f4fb0>"
       },
       "scene_xNLI6R49YnwHFcgotAMSYVLh8": {
        "position": [
         -98,
         54,
         -36
        ],
        "scale": 1,
        "scene": "<openalea.plantgl.scenegraph._pglsg.Scene object at 0x7f7790960270>"
       },
       "scene_xOs0FBtbMVwfCMkvSEEs6mjoO": {
        "position": [
         -4,
         -29,
         -27
        ],
        "scale": 1,
        "scene": "<openalea.plantgl.scenegraph._pglsg.Scene object at 0x7f7790c23e70>"
       },
       "scene_xwI5m7XdlqLv0MegPPkvO8G1q": {
        "position": [
         -117,
         1,
         22
        ],
        "scale": 1,
        "scene": "<openalea.plantgl.scenegraph._pglsg.Scene object at 0x7f7790b3acb0>"
       },
       "scene_yZhnEcO4Z3h4dlBERra4QiT4y": {
        "position": [
         -95,
         117,
         -48
        ],
        "scale": 1,
        "scene": "<openalea.plantgl.scenegraph._pglsg.Scene object at 0x7f7790c2e870>"
       },
       "scene_ygP7sDz1Q3u6jHnLV34hz1Psy": {
        "position": [
         -74,
         125,
         101
        ],
        "scale": 1,
        "scene": "<openalea.plantgl.scenegraph._pglsg.Scene object at 0x7f7790b4e3f0>"
       },
       "scene_zEvAk0268v84E0g6dBNLozA65": {
        "position": [
         67,
         -96,
         41
        ],
        "scale": 1,
        "scene": "<openalea.plantgl.scenegraph._pglsg.Scene object at 0x7f77909a73b0>"
       },
       "scene_zUq4m000vmSaLpcyeyDe5MiPX": {
        "position": [
         -43,
         -44,
         -26
        ],
        "scale": 1,
        "scene": "<openalea.plantgl.scenegraph._pglsg.Scene object at 0x7f7790ae36b0>"
       },
       "scene_zuPd4HtOHWbxXeUGJYYWLFccm": {
        "position": [
         108,
         20,
         -13
        ],
        "scale": 1,
        "scene": "<openalea.plantgl.scenegraph._pglsg.Scene object at 0x7f77909855b0>"
       },
       "size_display": [
        600,
        400
       ],
       "size_world": [
        255,
        255,
        255
       ]
      }
     },
     "6552cb5ab0b34b94a65225a59ddd8a62": {
      "model_module": "@jupyter-widgets/base",
      "model_module_version": "1.2.0",
      "model_name": "LayoutModel",
      "state": {}
     }
    },
    "version_major": 2,
    "version_minor": 0
   }
  }
 },
 "nbformat": 4,
 "nbformat_minor": 4
}
