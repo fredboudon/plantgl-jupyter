{
 "cells": [
  {
   "cell_type": "code",
   "execution_count": 3,
   "metadata": {},
   "outputs": [
    {
     "data": {
      "application/vnd.jupyter.widget-view+json": {
       "model_id": "69ecdf74fc324e8b82415c421f95a6ed",
       "version_major": 2,
       "version_minor": 0
      },
      "text/plain": [
       "SceneWidget(scene={'drc': <memory at 0x7f7d39d5f2c0>, 'scene': <openalea.plantgl.scenegraph._pglsg.Scene objec…"
      ]
     },
     "metadata": {},
     "output_type": "display_data"
    }
   ],
   "source": [
    "from pgljupyter import SceneWidget\n",
    "from openalea.plantgl.all import *\n",
    "sw = SceneWidget(size_display=(800, 400), size_world=(255, 255, 255))\n",
    "sw"
   ]
  },
  {
   "cell_type": "code",
   "execution_count": 4,
   "metadata": {
    "scrolled": true
   },
   "outputs": [],
   "source": [
    "import random\n",
    "for i in range(255):\n",
    "    x, y, z = [random.choice([-1, 1]) * random.randrange(0, int(255/2)) for i in range(3)]\n",
    "    sw.add(Scene([Shape(Sphere(random.randrange(1, 20), 10, 10), \n",
    "                        Material(ambient=(x+int(255/2), y+int(255/2), z+int(255/2))))]), (x, y, z))"
   ]
  },
  {
   "cell_type": "code",
   "execution_count": null,
   "metadata": {},
   "outputs": [],
   "source": []
  }
 ],
 "metadata": {
  "kernelspec": {
   "display_name": "pgl-jupyter",
   "language": "python",
   "name": "pgl-jupyter"
  },
  "language_info": {
   "codemirror_mode": {
    "name": "ipython",
    "version": 3
   },
   "file_extension": ".py",
   "mimetype": "text/x-python",
   "name": "python",
   "nbconvert_exporter": "python",
   "pygments_lexer": "ipython3",
   "version": "3.7.6"
  },
  "widgets": {
   "application/vnd.jupyter.widget-state+json": {
    "state": {
     "29aab0295ad24d58b677f36184087fde": {
      "model_module": "@jupyter-widgets/base",
      "model_module_version": "1.2.0",
      "model_name": "LayoutModel",
      "state": {}
     },
     "40be973992a54f9d8b756c1881970aae": {
      "buffers": [
       {
        "data": "",
        "encoding": "base64",
        "path": [
         "scene",
         "drc"
        ]
       }
      ],
      "model_module": "pgljupyter",
      "model_module_version": "^0.1.0",
      "model_name": "SceneWidgetModel",
      "state": {
       "_model_module_version": "^0.1.0",
       "_view_module_version": "^0.1.0",
       "axes_helper": true,
       "layout": "IPY_MODEL_8b7f3fbf9f2f41d1b253de348310c89e",
       "mesh_compression": 10,
       "plane": false,
       "scene": {
        "drc": {},
        "position": [
         0,
         0,
         0
        ],
        "scale": 1,
        "scene": "<openalea.plantgl.scenegraph._pglsg.Scene object at 0x7f7d3a466c30>"
       },
       "scene_0GSTMgEISGq2NzY0f20znpMfL": {
        "drc": {},
        "position": [
         -101,
         22,
         14
        ],
        "scale": 1,
        "scene": "<openalea.plantgl.scenegraph._pglsg.Scene object at 0x7f7d39dc9bf0>"
       },
       "scene_0TmNjRqPdKflgiL30yX9SWIIq": {
        "drc": {},
        "position": [
         -41,
         -37,
         -27
        ],
        "scale": 1,
        "scene": "<openalea.plantgl.scenegraph._pglsg.Scene object at 0x7f7d39f01fb0>"
       },
       "scene_0Xb2IfOdR24UjULRGylZFC8MD": {
        "drc": {},
        "position": [
         22,
         19,
         -17
        ],
        "scale": 1,
        "scene": "<openalea.plantgl.scenegraph._pglsg.Scene object at 0x7f7d39edffb0>"
       },
       "scene_0d8MKRkwhjepmJhD6v3WQ44JR": {
        "drc": {},
        "position": [
         -53,
         117,
         93
        ],
        "scale": 1,
        "scene": "<openalea.plantgl.scenegraph._pglsg.Scene object at 0x7f7d3a48f3f0>"
       },
       "scene_0fuh5qfp37SAw4WxTAIllDiz7": {
        "drc": {},
        "position": [
         64,
         -118,
         -115
        ],
        "scale": 1,
        "scene": "<openalea.plantgl.scenegraph._pglsg.Scene object at 0x7f7d39d397f0>"
       },
       "scene_0l4s7uVmC09vsjv91qaMGAkZk": {
        "drc": {},
        "position": [
         52,
         55,
         25
        ],
        "scale": 1,
        "scene": "<openalea.plantgl.scenegraph._pglsg.Scene object at 0x7f7d39ecfe30>"
       },
       "scene_13HygyYCPhabTJ5O5n0pjBcaI": {
        "drc": {},
        "position": [
         93,
         -58,
         -66
        ],
        "scale": 1,
        "scene": "<openalea.plantgl.scenegraph._pglsg.Scene object at 0x7f7d39eea7b0>"
       },
       "scene_171wwhojkVpE4J2vJ8E9M6bv5": {
        "drc": {},
        "position": [
         -70,
         109,
         -6
        ],
        "scale": 1,
        "scene": "<openalea.plantgl.scenegraph._pglsg.Scene object at 0x7f7d39feb5b0>"
       },
       "scene_1LiT9dbQCstcAd3GgxjNjDmYA": {
        "drc": {},
        "position": [
         18,
         -98,
         113
        ],
        "scale": 1,
        "scene": "<openalea.plantgl.scenegraph._pglsg.Scene object at 0x7f7d3a48f2f0>"
       },
       "scene_1WMkA4iuzAEolciyrEL2CGiXQ": {
        "drc": {},
        "position": [
         -87,
         -25,
         91
        ],
        "scale": 1,
        "scene": "<openalea.plantgl.scenegraph._pglsg.Scene object at 0x7f7d39d42f30>"
       },
       "scene_25G6AKqEcqvdJCfZhjueGAQi8": {
        "drc": {},
        "position": [
         -48,
         63,
         16
        ],
        "scale": 1,
        "scene": "<openalea.plantgl.scenegraph._pglsg.Scene object at 0x7f7d39f8bdf0>"
       },
       "scene_26zN7rEej0elIJxXKpnzAgIdS": {
        "drc": {},
        "position": [
         -55,
         88,
         -10
        ],
        "scale": 1,
        "scene": "<openalea.plantgl.scenegraph._pglsg.Scene object at 0x7f7d39f4be70>"
       },
       "scene_286CH7yDdyJXPe97IQwW7bU6I": {
        "drc": {},
        "position": [
         -23,
         44,
         -52
        ],
        "scale": 1,
        "scene": "<openalea.plantgl.scenegraph._pglsg.Scene object at 0x7f7d39f4b8f0>"
       },
       "scene_2ZaHl4KSQ0ScIkIN7tkGiScsd": {
        "drc": {},
        "position": [
         -70,
         -117,
         -8
        ],
        "scale": 1,
        "scene": "<openalea.plantgl.scenegraph._pglsg.Scene object at 0x7f7d39e72ef0>"
       },
       "scene_2f7zlk3toujCOckKmzcigwJPA": {
        "drc": {},
        "position": [
         -29,
         -52,
         -53
        ],
        "scale": 1,
        "scene": "<openalea.plantgl.scenegraph._pglsg.Scene object at 0x7f7d39df6fb0>"
       },
       "scene_3T6PzJXfhR7rhrI9ax32ISb1c": {
        "drc": {},
        "position": [
         -17,
         -9,
         30
        ],
        "scale": 1,
        "scene": "<openalea.plantgl.scenegraph._pglsg.Scene object at 0x7f7d3a062fb0>"
       },
       "scene_3ccWjrarNNb6wKwTopREK1QwI": {
        "drc": {},
        "position": [
         -99,
         84,
         -55
        ],
        "scale": 1,
        "scene": "<openalea.plantgl.scenegraph._pglsg.Scene object at 0x7f7d39dcfd70>"
       },
       "scene_3nsGlzHCf7KztayPTKVyzaFz6": {
        "drc": {},
        "position": [
         37,
         -122,
         -121
        ],
        "scale": 1,
        "scene": "<openalea.plantgl.scenegraph._pglsg.Scene object at 0x7f7d3a012970>"
       },
       "scene_4UPbV9euYtSRkj2tH9fv2MItL": {
        "drc": {},
        "position": [
         85,
         -29,
         -87
        ],
        "scale": 1,
        "scene": "<openalea.plantgl.scenegraph._pglsg.Scene object at 0x7f7d39f539b0>"
       },
       "scene_4k46lER9cM3RJJnhCAmfOPKPm": {
        "drc": {},
        "position": [
         -9,
         65,
         57
        ],
        "scale": 1,
        "scene": "<openalea.plantgl.scenegraph._pglsg.Scene object at 0x7f7d39fff770>"
       },
       "scene_4srw6nQIVqJWvW3WumRyG39I3": {
        "drc": {},
        "position": [
         16,
         -38,
         -70
        ],
        "scale": 1,
        "scene": "<openalea.plantgl.scenegraph._pglsg.Scene object at 0x7f7d39db7430>"
       },
       "scene_5XL8s1IOrYk46HlRteJV5IEDD": {
        "drc": {},
        "position": [
         117,
         -88,
         -61
        ],
        "scale": 1,
        "scene": "<openalea.plantgl.scenegraph._pglsg.Scene object at 0x7f7d3a48f3b0>"
       },
       "scene_5htqj1SHBLXVQsuBiCkVEcjNp": {
        "drc": {},
        "position": [
         -18,
         -37,
         -99
        ],
        "scale": 1,
        "scene": "<openalea.plantgl.scenegraph._pglsg.Scene object at 0x7f7d39d8bd30>"
       },
       "scene_5xERnTGtd55nF5w0hbZBdRJ4s": {
        "drc": {},
        "position": [
         119,
         54,
         -62
        ],
        "scale": 1,
        "scene": "<openalea.plantgl.scenegraph._pglsg.Scene object at 0x7f7d3a032e30>"
       },
       "scene_6JzmnwMsLtCN4cLTTcIQ4elFW": {
        "drc": {},
        "position": [
         115,
         37,
         52
        ],
        "scale": 1,
        "scene": "<openalea.plantgl.scenegraph._pglsg.Scene object at 0x7f7d39e1cf30>"
       },
       "scene_6QNWjoDyhFo2b1GLJpkfCWxjC": {
        "drc": {},
        "position": [
         -91,
         -52,
         125
        ],
        "scale": 1,
        "scene": "<openalea.plantgl.scenegraph._pglsg.Scene object at 0x7f7d39fcd4b0>"
       },
       "scene_6WyWFkPV8IRcM2FpevT3oxByJ": {
        "drc": {},
        "position": [
         -105,
         53,
         112
        ],
        "scale": 1,
        "scene": "<openalea.plantgl.scenegraph._pglsg.Scene object at 0x7f7d39f14eb0>"
       },
       "scene_6nXDMunGciCj65T2oHULVjsbS": {
        "drc": {},
        "position": [
         53,
         21,
         90
        ],
        "scale": 1,
        "scene": "<openalea.plantgl.scenegraph._pglsg.Scene object at 0x7f7d39d93e70>"
       },
       "scene_78FWhHRpJkRhLkgOexHWxbTmH": {
        "drc": {},
        "position": [
         37,
         -81,
         -80
        ],
        "scale": 1,
        "scene": "<openalea.plantgl.scenegraph._pglsg.Scene object at 0x7f7d3a0625f0>"
       },
       "scene_7X6QRwNae9Lnod5AkQ8IOn7v0": {
        "drc": {},
        "position": [
         41,
         50,
         -53
        ],
        "scale": 1,
        "scene": "<openalea.plantgl.scenegraph._pglsg.Scene object at 0x7f7d39dec3f0>"
       },
       "scene_87pyZImUSVGBlvQFF5QHbqnCJ": {
        "drc": {},
        "position": [
         14,
         107,
         34
        ],
        "scale": 1,
        "scene": "<openalea.plantgl.scenegraph._pglsg.Scene object at 0x7f7d39f81f30>"
       },
       "scene_8CstnQdsVU390YlIDxdgYwQUx": {
        "drc": {},
        "position": [
         -75,
         -36,
         -31
        ],
        "scale": 1,
        "scene": "<openalea.plantgl.scenegraph._pglsg.Scene object at 0x7f7d39fd6630>"
       },
       "scene_8G4IrsHO6PbRyvAFSmrQs2Vju": {
        "drc": {},
        "position": [
         -97,
         58,
         -37
        ],
        "scale": 1,
        "scene": "<openalea.plantgl.scenegraph._pglsg.Scene object at 0x7f7d39e3c870>"
       },
       "scene_8gnMMfo6Q9fhkJSSTNB3Gahx7": {
        "drc": {},
        "position": [
         -94,
         -15,
         19
        ],
        "scale": 1,
        "scene": "<openalea.plantgl.scenegraph._pglsg.Scene object at 0x7f7d39eead70>"
       },
       "scene_8j4nDHo7i19wUlIQmZlsCR9Eu": {
        "drc": {},
        "position": [
         96,
         -19,
         -110
        ],
        "scale": 1,
        "scene": "<openalea.plantgl.scenegraph._pglsg.Scene object at 0x7f7d39ea8570>"
       },
       "scene_8n46TfKcgAuQpNFef8KpMXVgY": {
        "drc": {},
        "position": [
         79,
         -40,
         13
        ],
        "scale": 1,
        "scene": "<openalea.plantgl.scenegraph._pglsg.Scene object at 0x7f7d39da0430>"
       },
       "scene_92SrbqARNMysdWGubpJ5IiDhd": {
        "drc": {},
        "position": [
         81,
         50,
         -84
        ],
        "scale": 1,
        "scene": "<openalea.plantgl.scenegraph._pglsg.Scene object at 0x7f7d39ff4730>"
       },
       "scene_9Ia8yjW305dTzwYJTFVKMFK88": {
        "drc": {},
        "position": [
         -89,
         125,
         -20
        ],
        "scale": 1,
        "scene": "<openalea.plantgl.scenegraph._pglsg.Scene object at 0x7f7d39e46fb0>"
       },
       "scene_9Zt8rdlBninP5Addr68w6COhR": {
        "drc": {},
        "position": [
         54,
         4,
         48
        ],
        "scale": 1,
        "scene": "<openalea.plantgl.scenegraph._pglsg.Scene object at 0x7f7d39f9d430>"
       },
       "scene_9eRbg4n7M0bwTMFOCMVmaeUqd": {
        "drc": {},
        "position": [
         88,
         -83,
         -72
        ],
        "scale": 1,
        "scene": "<openalea.plantgl.scenegraph._pglsg.Scene object at 0x7f7d39fe8d30>"
       },
       "scene_9tuYRA9f6xF8gOO448k1JAIUO": {
        "drc": {},
        "position": [
         -111,
         81,
         114
        ],
        "scale": 1,
        "scene": "<openalea.plantgl.scenegraph._pglsg.Scene object at 0x7f7d39da7c30>"
       },
       "scene_9udFcInolhi0CpLSWoNoJFzYJ": {
        "drc": {},
        "position": [
         97,
         -119,
         -96
        ],
        "scale": 1,
        "scene": "<openalea.plantgl.scenegraph._pglsg.Scene object at 0x7f7d39fc3eb0>"
       },
       "scene_A4NzvnSvchEDEsqEihYhCyifA": {
        "drc": {},
        "position": [
         2,
         -76,
         75
        ],
        "scale": 1,
        "scene": "<openalea.plantgl.scenegraph._pglsg.Scene object at 0x7f7d39de6a30>"
       },
       "scene_AKAYTs64QephZyTejXlflz3m7": {
        "drc": {},
        "position": [
         41,
         -108,
         4
        ],
        "scale": 1,
        "scene": "<openalea.plantgl.scenegraph._pglsg.Scene object at 0x7f7d39fc38f0>"
       },
       "scene_AOCcWLdiPyMpl8jOE919gSGzo": {
        "drc": {},
        "position": [
         -1,
         -101,
         38
        ],
        "scale": 1,
        "scene": "<openalea.plantgl.scenegraph._pglsg.Scene object at 0x7f7d39dbec30>"
       },
       "scene_AcLRuYNGXavj6CIA9A75mnXDC": {
        "drc": {},
        "position": [
         106,
         -39,
         90
        ],
        "scale": 1,
        "scene": "<openalea.plantgl.scenegraph._pglsg.Scene object at 0x7f7d39f8b370>"
       },
       "scene_AfNFePTCpzxoRLlnpuiDdqNkJ": {
        "drc": {},
        "position": [
         -21,
         -74,
         93
        ],
        "scale": 1,
        "scene": "<openalea.plantgl.scenegraph._pglsg.Scene object at 0x7f7d39d546b0>"
       },
       "scene_AiKVwQlSv6TIKbYYoqhnYjPhs": {
        "drc": {},
        "position": [
         -53,
         -32,
         -118
        ],
        "scale": 1,
        "scene": "<openalea.plantgl.scenegraph._pglsg.Scene object at 0x7f7d39e11df0>"
       },
       "scene_AnJJ79nerWmeZQ7GdhLdQw4Zy": {
        "drc": {},
        "position": [
         33,
         -31,
         -124
        ],
        "scale": 1,
        "scene": "<openalea.plantgl.scenegraph._pglsg.Scene object at 0x7f7d39f53f70>"
       },
       "scene_Av90jnRyt0ZHfWdy53VPUdWFB": {
        "drc": {},
        "position": [
         77,
         88,
         47
        ],
        "scale": 1,
        "scene": "<openalea.plantgl.scenegraph._pglsg.Scene object at 0x7f7d39f2ce70>"
       },
       "scene_B0anHm8kopl62yiBa3OjvLx5G": {
        "drc": {},
        "position": [
         61,
         -6,
         37
        ],
        "scale": 1,
        "scene": "<openalea.plantgl.scenegraph._pglsg.Scene object at 0x7f7d39fc3330>"
       },
       "scene_BTfCtGkbFgAciVmbrb6OCwiZq": {
        "drc": {},
        "position": [
         -14,
         124,
         -117
        ],
        "scale": 1,
        "scene": "<openalea.plantgl.scenegraph._pglsg.Scene object at 0x7f7d39f012b0>"
       },
       "scene_BsoPFei6k1vXf3SHHXiWnSpML": {
        "drc": {},
        "position": [
         79,
         -96,
         24
        ],
        "scale": 1,
        "scene": "<openalea.plantgl.scenegraph._pglsg.Scene object at 0x7f7d39e72930>"
       },
       "scene_BtkVrLO1aySJwBA63PUnR4gZS": {
        "drc": {},
        "position": [
         37,
         80,
         -37
        ],
        "scale": 1,
        "scene": "<openalea.plantgl.scenegraph._pglsg.Scene object at 0x7f7d39f27d70>"
       },
       "scene_C8yCEL2I2AD2eEIHE9MpUo3wx": {
        "drc": {},
        "position": [
         -79,
         4,
         63
        ],
        "scale": 1,
        "scene": "<openalea.plantgl.scenegraph._pglsg.Scene object at 0x7f7d39e97330>"
       },
       "scene_C96dqPLapQcYlVLP4iXhyES4c": {
        "drc": {},
        "position": [
         41,
         -41,
         -49
        ],
        "scale": 1,
        "scene": "<openalea.plantgl.scenegraph._pglsg.Scene object at 0x7f7d3a00a330>"
       },
       "scene_CIkWz3M0ttZxuN72NdhpDZm0D": {
        "drc": {},
        "position": [
         69,
         -7,
         79
        ],
        "scale": 1,
        "scene": "<openalea.plantgl.scenegraph._pglsg.Scene object at 0x7f7d39de6df0>"
       },
       "scene_CR6QrtAr0mW3WRgKkzJ0Bjt4t": {
        "drc": {},
        "position": [
         -37,
         -17,
         -7
        ],
        "scale": 1,
        "scene": "<openalea.plantgl.scenegraph._pglsg.Scene object at 0x7f7d39fe8170>"
       },
       "scene_CTxIJbeZpSvLOxABA1JRYv2Vm": {
        "drc": {},
        "position": [
         -17,
         -123,
         56
        ],
        "scale": 1,
        "scene": "<openalea.plantgl.scenegraph._pglsg.Scene object at 0x7f7d39fa3c70>"
       },
       "scene_CZGWyTz7QMV3y9T2EZPGfwXOO": {
        "drc": {},
        "position": [
         92,
         93,
         -61
        ],
        "scale": 1,
        "scene": "<openalea.plantgl.scenegraph._pglsg.Scene object at 0x7f7d39ea3a30>"
       },
       "scene_DFS0kyhzwOpxxA2hBmaEv08q7": {
        "drc": {},
        "position": [
         57,
         -18,
         -69
        ],
        "scale": 1,
        "scene": "<openalea.plantgl.scenegraph._pglsg.Scene object at 0x7f7d39d54c70>"
       },
       "scene_DJXYMUEfffIRvTuxkR0Swq9fE": {
        "drc": {},
        "position": [
         5,
         -70,
         77
        ],
        "scale": 1,
        "scene": "<openalea.plantgl.scenegraph._pglsg.Scene object at 0x7f7d3a0326f0>"
       },
       "scene_DlJYXxBDHtPO5k6aSzsww1x1W": {
        "drc": {},
        "position": [
         -14,
         89,
         50
        ],
        "scale": 1,
        "scene": "<openalea.plantgl.scenegraph._pglsg.Scene object at 0x7f7d39e72370>"
       },
       "scene_EDyssfLofKKzeA9oO4yOeH5tD": {
        "drc": {},
        "position": [
         -92,
         -84,
         110
        ],
        "scale": 1,
        "scene": "<openalea.plantgl.scenegraph._pglsg.Scene object at 0x7f7d3a48f1f0>"
       },
       "scene_EbaD3X8SyMTdiuHjnekiRfOzP": {
        "drc": {},
        "position": [
         99,
         -110,
         125
        ],
        "scale": 1,
        "scene": "<openalea.plantgl.scenegraph._pglsg.Scene object at 0x7f7d39fb6770>"
       },
       "scene_FBVouVbwTl0oYNiMblLUQU8K2": {
        "drc": {},
        "position": [
         -85,
         -94,
         -124
        ],
        "scale": 1,
        "scene": "<openalea.plantgl.scenegraph._pglsg.Scene object at 0x7f7d39eefbf0>"
       },
       "scene_FFoPK1V0V31ws7OY7hQWSCC4H": {
        "drc": {},
        "position": [
         -57,
         -48,
         61
        ],
        "scale": 1,
        "scene": "<openalea.plantgl.scenegraph._pglsg.Scene object at 0x7f7d39dad870>"
       },
       "scene_FcXpa3BpU4XWdUNbw47ttlX84": {
        "drc": {},
        "position": [
         50,
         16,
         124
        ],
        "scale": 1,
        "scene": "<openalea.plantgl.scenegraph._pglsg.Scene object at 0x7f7d39faed70>"
       },
       "scene_FkzrB6pQMM3VsxGmAlTZPuaEC": {
        "drc": {},
        "position": [
         56,
         8,
         -9
        ],
        "scale": 1,
        "scene": "<openalea.plantgl.scenegraph._pglsg.Scene object at 0x7f7d39d80bb0>"
       },
       "scene_FlSKkA5QZ8ytf1aRWKWr6ampW": {
        "drc": {},
        "position": [
         -98,
         -20,
         -85
        ],
        "scale": 1,
        "scene": "<openalea.plantgl.scenegraph._pglsg.Scene object at 0x7f7d39f73530>"
       },
       "scene_GADxoQA0QL8jKTUYJ0Llb6FS0": {
        "drc": {},
        "position": [
         -8,
         -41,
         30
        ],
        "scale": 1,
        "scene": "<openalea.plantgl.scenegraph._pglsg.Scene object at 0x7f7d39e7cab0>"
       },
       "scene_GwLSThl9gmL8B0DpZoHOyPMAZ": {
        "drc": {},
        "position": [
         -20,
         121,
         14
        ],
        "scale": 1,
        "scene": "<openalea.plantgl.scenegraph._pglsg.Scene object at 0x7f7d39eb96f0>"
       },
       "scene_H4eBQ29aHIHged3Ap1tKZjaRz": {
        "drc": {},
        "position": [
         53,
         -116,
         108
        ],
        "scale": 1,
        "scene": "<openalea.plantgl.scenegraph._pglsg.Scene object at 0x7f7d39e57730>"
       },
       "scene_HEjnheaZqBojmVfcgJjW4FZ0B": {
        "drc": {},
        "position": [
         -124,
         -78,
         -42
        ],
        "scale": 1,
        "scene": "<openalea.plantgl.scenegraph._pglsg.Scene object at 0x7f7d39f93ef0>"
       },
       "scene_HVt3mPumDj6ZzBm0aXsk6I8e2": {
        "drc": {},
        "position": [
         18,
         44,
         7
        ],
        "scale": 1,
        "scene": "<openalea.plantgl.scenegraph._pglsg.Scene object at 0x7f7d39da74f0>"
       },
       "scene_He3iXh9A8mbbisOl3Lo5ko7wa": {
        "drc": {},
        "position": [
         109,
         -14,
         47
        ],
        "scale": 1,
        "scene": "<openalea.plantgl.scenegraph._pglsg.Scene object at 0x7f7d3a04fa30>"
       },
       "scene_I0K2YGoA2nr4BwSjFiOKH1gUD": {
        "drc": {},
        "position": [
         -106,
         67,
         60
        ],
        "scale": 1,
        "scene": "<openalea.plantgl.scenegraph._pglsg.Scene object at 0x7f7d39f73af0>"
       },
       "scene_I207OG2RfQxP9uqnkqoxEh5lr": {
        "drc": {},
        "position": [
         108,
         -67,
         112
        ],
        "scale": 1,
        "scene": "<openalea.plantgl.scenegraph._pglsg.Scene object at 0x7f7d39f5b570>"
       },
       "scene_IUAe0L2arPDvYCTh2CIaSXNIi": {
        "drc": {},
        "position": [
         -19,
         -24,
         -10
        ],
        "scale": 1,
        "scene": "<openalea.plantgl.scenegraph._pglsg.Scene object at 0x7f7d39d423b0>"
       },
       "scene_IYDrxW7uY6TJbU7EWxSltSXrA": {
        "drc": {},
        "position": [
         -54,
         -46,
         125
        ],
        "scale": 1,
        "scene": "<openalea.plantgl.scenegraph._pglsg.Scene object at 0x7f7d39e46430>"
       },
       "scene_JS5I9OLizQoSM8Lp2AuVGt0Xe": {
        "drc": {},
        "position": [
         54,
         39,
         32
        ],
        "scale": 1,
        "scene": "<openalea.plantgl.scenegraph._pglsg.Scene object at 0x7f7d39fae5f0>"
       },
       "scene_Jcefji0CrVaaRxcYlSLVk9c13": {
        "drc": {},
        "position": [
         -108,
         1,
         -105
        ],
        "scale": 1,
        "scene": "<openalea.plantgl.scenegraph._pglsg.Scene object at 0x7f7d39f81130>"
       },
       "scene_JvraJ4tKE1EqJXFR8v4Phjd0K": {
        "drc": {},
        "position": [
         64,
         55,
         -82
        ],
        "scale": 1,
        "scene": "<openalea.plantgl.scenegraph._pglsg.Scene object at 0x7f7d39e097b0>"
       },
       "scene_K3nTa3UcnxEuviTpokwtGmuAe": {
        "drc": {},
        "position": [
         55,
         62,
         107
        ],
        "scale": 1,
        "scene": "<openalea.plantgl.scenegraph._pglsg.Scene object at 0x7f7d39e63830>"
       },
       "scene_KLpT0La1ujhy0mg02onC4OoLi": {
        "drc": {},
        "position": [
         -96,
         111,
         29
        ],
        "scale": 1,
        "scene": "<openalea.plantgl.scenegraph._pglsg.Scene object at 0x7f7d39ddcef0>"
       },
       "scene_L95LQ24MGCbltMurHlopFA018": {
        "drc": {},
        "position": [
         -88,
         108,
         -76
        ],
        "scale": 1,
        "scene": "<openalea.plantgl.scenegraph._pglsg.Scene object at 0x7f7d39d4de30>"
       },
       "scene_LA7AVBPQK0oHUKbD9MgCIYRFL": {
        "drc": {},
        "position": [
         121,
         58,
         36
        ],
        "scale": 1,
        "scene": "<openalea.plantgl.scenegraph._pglsg.Scene object at 0x7f7d39febb70>"
       },
       "scene_LGxO7SjOkjdZQrhSoVOxJKxIx": {
        "drc": {},
        "position": [
         -98,
         -79,
         19
        ],
        "scale": 1,
        "scene": "<openalea.plantgl.scenegraph._pglsg.Scene object at 0x7f7d3a01bab0>"
       },
       "scene_LJj4BFkY2nMoDJv7k0nXD5Pyw": {
        "drc": {},
        "position": [
         119,
         -19,
         -2
        ],
        "scale": 1,
        "scene": "<openalea.plantgl.scenegraph._pglsg.Scene object at 0x7f7d39dcf7b0>"
       },
       "scene_MBGNiqIYA6iNV4nTLMlZHjWDn": {
        "drc": {},
        "position": [
         5,
         -107,
         -81
        ],
        "scale": 1,
        "scene": "<openalea.plantgl.scenegraph._pglsg.Scene object at 0x7f7d39d705f0>"
       },
       "scene_MCysBl342xtH2yydnryGZTKkg": {
        "drc": {},
        "position": [
         65,
         -80,
         -63
        ],
        "scale": 1,
        "scene": "<openalea.plantgl.scenegraph._pglsg.Scene object at 0x7f7d39fa38b0>"
       },
       "scene_MMSBohtV0zQ1oKP6RdTk2CZpJ": {
        "drc": {},
        "position": [
         7,
         -13,
         -46
        ],
        "scale": 1,
        "scene": "<openalea.plantgl.scenegraph._pglsg.Scene object at 0x7f7d39f8b270>"
       },
       "scene_Mu4rM5QqlOO9BWS9PIRHFsvk7": {
        "drc": {},
        "position": [
         11,
         -13,
         70
        ],
        "scale": 1,
        "scene": "<openalea.plantgl.scenegraph._pglsg.Scene object at 0x7f7d39f738b0>"
       },
       "scene_NLWsr6iIm811X9cSriSGVninT": {
        "drc": {},
        "position": [
         -87,
         -3,
         52
        ],
        "scale": 1,
        "scene": "<openalea.plantgl.scenegraph._pglsg.Scene object at 0x7f7d39d796b0>"
       },
       "scene_NX9LppuhpPVaTwatiw1UwTE7w": {
        "drc": {},
        "position": [
         115,
         124,
         -74
        ],
        "scale": 1,
        "scene": "<openalea.plantgl.scenegraph._pglsg.Scene object at 0x7f7d39ec32b0>"
       },
       "scene_NbQhou28I2Yi1ns7KVI7NfHOD": {
        "drc": {},
        "position": [
         -5,
         -20,
         124
        ],
        "scale": 1,
        "scene": "<openalea.plantgl.scenegraph._pglsg.Scene object at 0x7f7d39f9da70>"
       },
       "scene_Od3XcOlBieaNmO46BeqIA8tHk": {
        "drc": {},
        "position": [
         63,
         63,
         -107
        ],
        "scale": 1,
        "scene": "<openalea.plantgl.scenegraph._pglsg.Scene object at 0x7f7d39e84630>"
       },
       "scene_OlcZpx1jm9m50Y462Q0vKsO7P": {
        "drc": {},
        "position": [
         35,
         98,
         -25
        ],
        "scale": 1,
        "scene": "<openalea.plantgl.scenegraph._pglsg.Scene object at 0x7f7d39e7cc30>"
       },
       "scene_PSiVgMH8eXRXe1sjbvNZnxmmM": {
        "drc": {},
        "position": [
         -97,
         -2,
         90
        ],
        "scale": 1,
        "scene": "<openalea.plantgl.scenegraph._pglsg.Scene object at 0x7f7d39e4fb70>"
       },
       "scene_PYL6wOpIUp7cHxIV2rrgAaDn1": {
        "drc": {},
        "position": [
         -60,
         -118,
         63
        ],
        "scale": 1,
        "scene": "<openalea.plantgl.scenegraph._pglsg.Scene object at 0x7f7d39e09d70>"
       },
       "scene_PdWJm1x6iMWu4CkXPVVqSsgZY": {
        "drc": {},
        "position": [
         -25,
         86,
         -70
        ],
        "scale": 1,
        "scene": "<openalea.plantgl.scenegraph._pglsg.Scene object at 0x7f7d39fb9b70>"
       },
       "scene_Pfl9f8viTuyY5ZPt4f3rPyZWb": {
        "drc": {},
        "position": [
         1,
         55,
         33
        ],
        "scale": 1,
        "scene": "<openalea.plantgl.scenegraph._pglsg.Scene object at 0x7f7d39f4b330>"
       },
       "scene_PmRIm6JkQrwGChzPinylgAR6s": {
        "drc": {},
        "position": [
         123,
         74,
         -67
        ],
        "scale": 1,
        "scene": "<openalea.plantgl.scenegraph._pglsg.Scene object at 0x7f7d3a48fdb0>"
       },
       "scene_PsUxhu3vj0ZZ5aBQT6E9alyIj": {
        "drc": {},
        "position": [
         -51,
         -9,
         69
        ],
        "scale": 1,
        "scene": "<openalea.plantgl.scenegraph._pglsg.Scene object at 0x7f7d39e84d70>"
       },
       "scene_PsYE3DQ5yemP9BByMKFuyB1TS": {
        "drc": {},
        "position": [
         -77,
         -55,
         86
        ],
        "scale": 1,
        "scene": "<openalea.plantgl.scenegraph._pglsg.Scene object at 0x7f7d39d70bb0>"
       },
       "scene_Q17sZHJxWAKmozGlY4R2WLgni": {
        "drc": {},
        "position": [
         9,
         114,
         102
        ],
        "scale": 1,
        "scene": "<openalea.plantgl.scenegraph._pglsg.Scene object at 0x7f7d39f0ca70>"
       },
       "scene_QIi1hdBdKaGVbOGF3ymJy0ol3": {
        "drc": {},
        "position": [
         17,
         -73,
         71
        ],
        "scale": 1,
        "scene": "<openalea.plantgl.scenegraph._pglsg.Scene object at 0x7f7d39ecf870>"
       },
       "scene_QJO61D71Vhxf2qjwEAnJX1Ig1": {
        "drc": {},
        "position": [
         -70,
         -92,
         16
        ],
        "scale": 1,
        "scene": "<openalea.plantgl.scenegraph._pglsg.Scene object at 0x7f7d3a012f30>"
       },
       "scene_QyGKtutquIgKgbYZYtNrI1S39": {
        "drc": {},
        "position": [
         97,
         -49,
         104
        ],
        "scale": 1,
        "scene": "<openalea.plantgl.scenegraph._pglsg.Scene object at 0x7f7d39d30670>"
       },
       "scene_RBGB6Ol4A23tckP8CXlC1d71I": {
        "drc": {},
        "position": [
         0,
         -101,
         104
        ],
        "scale": 1,
        "scene": "<openalea.plantgl.scenegraph._pglsg.Scene object at 0x7f7d39f1f8f0>"
       },
       "scene_RGimeWmqU0jALumHhw5PGOnXo": {
        "drc": {},
        "position": [
         45,
         -46,
         72
        ],
        "scale": 1,
        "scene": "<openalea.plantgl.scenegraph._pglsg.Scene object at 0x7f7d39d4d530>"
       },
       "scene_RJWNVyt7fVMwA5kYvlHYCywzJ": {
        "drc": {},
        "position": [
         44,
         84,
         100
        ],
        "scale": 1,
        "scene": "<openalea.plantgl.scenegraph._pglsg.Scene object at 0x7f7d39d938b0>"
       },
       "scene_RPAYU4Chn8IpN17wPsrFstt7j": {
        "drc": {},
        "position": [
         -118,
         -33,
         106
        ],
        "scale": 1,
        "scene": "<openalea.plantgl.scenegraph._pglsg.Scene object at 0x7f7d3a05a270>"
       },
       "scene_RUMHRUtXixiHxzdtzPYz4eb9j": {
        "drc": {},
        "position": [
         -57,
         4,
         -27
        ],
        "scale": 1,
        "scene": "<openalea.plantgl.scenegraph._pglsg.Scene object at 0x7f7d39e84bb0>"
       },
       "scene_RabYGHJduQlms4olLzMTOe73i": {
        "drc": {},
        "position": [
         51,
         -112,
         -13
        ],
        "scale": 1,
        "scene": "<openalea.plantgl.scenegraph._pglsg.Scene object at 0x7f7d39df6a70>"
       },
       "scene_Re5PMdPKYJKkuvIZBBzC8qYRD": {
        "drc": {},
        "position": [
         90,
         -22,
         -117
        ],
        "scale": 1,
        "scene": "<openalea.plantgl.scenegraph._pglsg.Scene object at 0x7f7d3a48f030>"
       },
       "scene_Ru2bhmRq8UUaPOBXNQaPGGQAS": {
        "drc": {},
        "position": [
         98,
         -79,
         -51
        ],
        "scale": 1,
        "scene": "<openalea.plantgl.scenegraph._pglsg.Scene object at 0x7f7d39e7c4f0>"
       },
       "scene_SAPPCO13ow4FqKsyhjLj4eSi1": {
        "drc": {},
        "position": [
         -60,
         58,
         -118
        ],
        "scale": 1,
        "scene": "<openalea.plantgl.scenegraph._pglsg.Scene object at 0x7f7d3a024b70>"
       },
       "scene_SNLe5EVrcR4Gc6IeO3zlbvMm0": {
        "drc": {},
        "position": [
         25,
         16,
         -62
        ],
        "scale": 1,
        "scene": "<openalea.plantgl.scenegraph._pglsg.Scene object at 0x7f7d3a9a6130>"
       },
       "scene_SrJpNGzzBe5Z9DjEehKgQaUD9": {
        "drc": {},
        "position": [
         -34,
         99,
         22
        ],
        "scale": 1,
        "scene": "<openalea.plantgl.scenegraph._pglsg.Scene object at 0x7f7d39e4feb0>"
       },
       "scene_Sw10Jl53pJOokGaeUUTVsI16n": {
        "drc": {},
        "position": [
         -46,
         99,
         126
        ],
        "scale": 1,
        "scene": "<openalea.plantgl.scenegraph._pglsg.Scene object at 0x7f7d39e57cf0>"
       },
       "scene_T8W1e9gjer9TxZbGPA5I0yCLF": {
        "drc": {},
        "position": [
         -80,
         -66,
         -3
        ],
        "scale": 1,
        "scene": "<openalea.plantgl.scenegraph._pglsg.Scene object at 0x7f7d39eef630>"
       },
       "scene_TPsgSDQKvk1wkVZQypsza7svR": {
        "drc": {},
        "position": [
         63,
         -63,
         -36
        ],
        "scale": 1,
        "scene": "<openalea.plantgl.scenegraph._pglsg.Scene object at 0x7f7d39f3f830>"
       },
       "scene_TenouJGXuQBY7UWc29b5wVGpG": {
        "drc": {},
        "position": [
         27,
         14,
         -60
        ],
        "scale": 1,
        "scene": "<openalea.plantgl.scenegraph._pglsg.Scene object at 0x7f7d39ea8d70>"
       },
       "scene_TjkC19e6hF1CYA0MnROHYBUts": {
        "drc": {},
        "position": [
         50,
         10,
         76
        ],
        "scale": 1,
        "scene": "<openalea.plantgl.scenegraph._pglsg.Scene object at 0x7f7d39edfbf0>"
       },
       "scene_TnwHZ2PAIBBxj850VhRJT8qWz": {
        "drc": {},
        "position": [
         -40,
         -42,
         1
        ],
        "scale": 1,
        "scene": "<openalea.plantgl.scenegraph._pglsg.Scene object at 0x7f7d3a4660f0>"
       },
       "scene_Tuiy38KBRUhAbrZqgRUG6SWMW": {
        "drc": {},
        "position": [
         -51,
         -5,
         28
        ],
        "scale": 1,
        "scene": "<openalea.plantgl.scenegraph._pglsg.Scene object at 0x7f7d39f81bb0>"
       },
       "scene_U2KIWjnBXV3ITt1kxVH3eAWRk": {
        "drc": {},
        "position": [
         -79,
         -22,
         84
        ],
        "scale": 1,
        "scene": "<openalea.plantgl.scenegraph._pglsg.Scene object at 0x7f7d39d42970>"
       },
       "scene_UwKokG9P7YNI90kuHpLVFu9C5": {
        "drc": {},
        "position": [
         -2,
         69,
         12
        ],
        "scale": 1,
        "scene": "<openalea.plantgl.scenegraph._pglsg.Scene object at 0x7f7d39de64b0>"
       },
       "scene_VKO6LtAXFUfwxb8PyHcZJljSs": {
        "drc": {},
        "position": [
         84,
         34,
         -81
        ],
        "scale": 1,
        "scene": "<openalea.plantgl.scenegraph._pglsg.Scene object at 0x7f7d39e8e770>"
       },
       "scene_VR3HtxZ9noGhnsS9lkiOCUbZb": {
        "drc": {},
        "position": [
         69,
         -48,
         -23
        ],
        "scale": 1,
        "scene": "<openalea.plantgl.scenegraph._pglsg.Scene object at 0x7f7d39dad330>"
       },
       "scene_VVvDFPTvNgSJwoPH8UXl56Kj5": {
        "drc": {},
        "position": [
         -14,
         44,
         -97
        ],
        "scale": 1,
        "scene": "<openalea.plantgl.scenegraph._pglsg.Scene object at 0x7f7d3a00aeb0>"
       },
       "scene_VYljaKoMf3U4C3HAAXD1RW83W": {
        "drc": {},
        "position": [
         -6,
         42,
         -87
        ],
        "scale": 1,
        "scene": "<openalea.plantgl.scenegraph._pglsg.Scene object at 0x7f7d3a032330>"
       },
       "scene_Vd03DWMWpm67O0uPaDYwZ9SkB": {
        "drc": {},
        "position": [
         -76,
         -69,
         -16
        ],
        "scale": 1,
        "scene": "<openalea.plantgl.scenegraph._pglsg.Scene object at 0x7f7d39e33cb0>"
       },
       "scene_WQmWE4SXVT1Sk7ZXdY0JN0wUk": {
        "drc": {},
        "position": [
         33,
         2,
         -126
        ],
        "scale": 1,
        "scene": "<openalea.plantgl.scenegraph._pglsg.Scene object at 0x7f7d39ea8b30>"
       },
       "scene_Wdx8GTm77nq4Ium10yK9re8Ty": {
        "drc": {},
        "position": [
         20,
         -44,
         -69
        ],
        "scale": 1,
        "scene": "<openalea.plantgl.scenegraph._pglsg.Scene object at 0x7f7d39f01870>"
       },
       "scene_XBErtMGoNyeN7GfLQOS119MMT": {
        "drc": {},
        "position": [
         -109,
         -44,
         -126
        ],
        "scale": 1,
        "scene": "<openalea.plantgl.scenegraph._pglsg.Scene object at 0x7f7d39ef8cb0>"
       },
       "scene_XC0JCLxaE9TQ93wMXy5yTsEI8": {
        "drc": {},
        "position": [
         49,
         -102,
         110
        ],
        "scale": 1,
        "scene": "<openalea.plantgl.scenegraph._pglsg.Scene object at 0x7f7d6c6c1170>"
       },
       "scene_XxRfJ34j70Vu3F5yjb8AQB4c0": {
        "drc": {},
        "position": [
         88,
         -72,
         -65
        ],
        "scale": 1,
        "scene": "<openalea.plantgl.scenegraph._pglsg.Scene object at 0x7f7d39eafd70>"
       },
       "scene_Xzq1l22dRHlwSNwDwxGCji7Lx": {
        "drc": {},
        "position": [
         51,
         37,
         108
        ],
        "scale": 1,
        "scene": "<openalea.plantgl.scenegraph._pglsg.Scene object at 0x7f7d39f38cb0>"
       },
       "scene_YIfCTY0NNDaV2uYXRbq2kDqhf": {
        "drc": {},
        "position": [
         -122,
         40,
         112
        ],
        "scale": 1,
        "scene": "<openalea.plantgl.scenegraph._pglsg.Scene object at 0x7f7d39fb9c30>"
       },
       "scene_YZC0lUONbEZuWUujJaN0LrWsU": {
        "drc": {},
        "position": [
         39,
         -44,
         103
        ],
        "scale": 1,
        "scene": "<openalea.plantgl.scenegraph._pglsg.Scene object at 0x7f7d39fd6bf0>"
       },
       "scene_Yb2OSJCWUFT9UYvzb81ZntHRh": {
        "drc": {},
        "position": [
         -7,
         74,
         -104
        ],
        "scale": 1,
        "scene": "<openalea.plantgl.scenegraph._pglsg.Scene object at 0x7f7d39db7930>"
       },
       "scene_YbR8ZjE2eFjoz73p1CIrKMkQp": {
        "drc": {},
        "position": [
         30,
         117,
         -52
        ],
        "scale": 1,
        "scene": "<openalea.plantgl.scenegraph._pglsg.Scene object at 0x7f7d39f1fa70>"
       },
       "scene_ZCXvf9LBUofL4JaRrNnAOFLJ8": {
        "drc": {},
        "position": [
         58,
         30,
         -80
        ],
        "scale": 1,
        "scene": "<openalea.plantgl.scenegraph._pglsg.Scene object at 0x7f7d3a024eb0>"
       },
       "scene_ZO2ZkySfa5XDLwx2pmiVJXgFK": {
        "drc": {},
        "position": [
         95,
         71,
         92
        ],
        "scale": 1,
        "scene": "<openalea.plantgl.scenegraph._pglsg.Scene object at 0x7f7d39ea3470>"
       },
       "scene_ZXF4n4qndOqG84LvyY4ISG3N0": {
        "drc": {},
        "position": [
         -110,
         12,
         -100
        ],
        "scale": 1,
        "scene": "<openalea.plantgl.scenegraph._pglsg.Scene object at 0x7f7d39d39db0>"
       },
       "scene_Zp3Qb0gXX59WBLZjMyigFVqIt": {
        "drc": {},
        "position": [
         9,
         38,
         -64
        ],
        "scale": 1,
        "scene": "<openalea.plantgl.scenegraph._pglsg.Scene object at 0x7f7d39f9d1b0>"
       },
       "scene_a72wqYSd8bRQA6qEa4AfxeFHX": {
        "drc": {},
        "position": [
         -56,
         -43,
         82
        ],
        "scale": 1,
        "scene": "<openalea.plantgl.scenegraph._pglsg.Scene object at 0x7f7d39f73e70>"
       },
       "scene_aN3jGOiDvuPlRaxvYRwydi2tk": {
        "drc": {},
        "position": [
         -65,
         -56,
         -26
        ],
        "scale": 1,
        "scene": "<openalea.plantgl.scenegraph._pglsg.Scene object at 0x7f7d3a48f8f0>"
       },
       "scene_afsyXEpeQSoJ2F2d07m6AUdqE": {
        "drc": {},
        "position": [
         -96,
         -110,
         -31
        ],
        "scale": 1,
        "scene": "<openalea.plantgl.scenegraph._pglsg.Scene object at 0x7f7d39e978f0>"
       },
       "scene_ahOnQD769BCJaMz2HftVVqpSU": {
        "drc": {},
        "position": [
         -51,
         -29,
         -121
        ],
        "scale": 1,
        "scene": "<openalea.plantgl.scenegraph._pglsg.Scene object at 0x7f7d39dade30>"
       },
       "scene_avd6wQN9zCrTRybWOmI2UeZ1r": {
        "drc": {},
        "position": [
         -87,
         10,
         -12
        ],
        "scale": 1,
        "scene": "<openalea.plantgl.scenegraph._pglsg.Scene object at 0x7f7d39da0f30>"
       },
       "scene_bYJWbWwTsB2D4yjSXyg93WVI4": {
        "drc": {},
        "position": [
         -64,
         -75,
         -125
        ],
        "scale": 1,
        "scene": "<openalea.plantgl.scenegraph._pglsg.Scene object at 0x7f7d39e24530>"
       },
       "scene_bsqpZGBYkYYhw2jfk5zFkZLEv": {
        "drc": {},
        "position": [
         94,
         -32,
         91
        ],
        "scale": 1,
        "scene": "<openalea.plantgl.scenegraph._pglsg.Scene object at 0x7f7d39db7ef0>"
       },
       "scene_c4ExlMWFmzHw3PQPKY6dtGMyB": {
        "drc": {},
        "position": [
         -74,
         -103,
         -33
        ],
        "scale": 1,
        "scene": "<openalea.plantgl.scenegraph._pglsg.Scene object at 0x7f7d39f9de70>"
       },
       "scene_cI6IcWzX3bBShUmLYG9wyMDij": {
        "drc": {},
        "position": [
         13,
         -103,
         -38
        ],
        "scale": 1,
        "scene": "<openalea.plantgl.scenegraph._pglsg.Scene object at 0x7f7d3a00a8f0>"
       },
       "scene_ckwdsFi85Mb4NjKWoBu3CxaI9": {
        "drc": {},
        "position": [
         -72,
         124,
         6
        ],
        "scale": 1,
        "scene": "<openalea.plantgl.scenegraph._pglsg.Scene object at 0x7f7d39da7ab0>"
       },
       "scene_coo86D0zzQERyo9HLunMyfdY9": {
        "drc": {},
        "position": [
         -82,
         -92,
         30
        ],
        "scale": 1,
        "scene": "<openalea.plantgl.scenegraph._pglsg.Scene object at 0x7f7d39da09f0>"
       },
       "scene_cpo4YRCrQjzqFP6hWFCBmME1R": {
        "drc": {},
        "position": [
         52,
         37,
         -66
        ],
        "scale": 1,
        "scene": "<openalea.plantgl.scenegraph._pglsg.Scene object at 0x7f7d39f9dfb0>"
       },
       "scene_cwjovuODfKmLkOcDsZXDGnzkB": {
        "drc": {},
        "position": [
         -103,
         62,
         -31
        ],
        "scale": 1,
        "scene": "<openalea.plantgl.scenegraph._pglsg.Scene object at 0x7f7d39df64b0>"
       },
       "scene_dD43krC7rL0ABsiPOE5UDZaVv": {
        "drc": {},
        "position": [
         -9,
         -115,
         -124
        ],
        "scale": 1,
        "scene": "<openalea.plantgl.scenegraph._pglsg.Scene object at 0x7f7d39fb9770>"
       },
       "scene_dLhaU2Plpncow1LRLiWWvNdno": {
        "drc": {},
        "position": [
         -104,
         -93,
         -18
        ],
        "scale": 1,
        "scene": "<openalea.plantgl.scenegraph._pglsg.Scene object at 0x7f7d39dfd630>"
       },
       "scene_dVwSVeAViQkFflPgyMxvt4x7k": {
        "drc": {},
        "position": [
         58,
         -101,
         46
        ],
        "scale": 1,
        "scene": "<openalea.plantgl.scenegraph._pglsg.Scene object at 0x7f7d39d30c30>"
       },
       "scene_dc3JtMA79T1gaI24RA3g2Lxcq": {
        "drc": {},
        "position": [
         -7,
         -53,
         106
        ],
        "scale": 1,
        "scene": "<openalea.plantgl.scenegraph._pglsg.Scene object at 0x7f7d39e1c3f0>"
       },
       "scene_e0DmJCJvvSyigJZmjWAlvK5L4": {
        "drc": {},
        "position": [
         -54,
         -95,
         -106
        ],
        "scale": 1,
        "scene": "<openalea.plantgl.scenegraph._pglsg.Scene object at 0x7f7d3a045370>"
       },
       "scene_eleyetR09J09McsoneKEQZIVA": {
        "drc": {},
        "position": [
         20,
         92,
         -111
        ],
        "scale": 1,
        "scene": "<openalea.plantgl.scenegraph._pglsg.Scene object at 0x7f7d39eb9cb0>"
       },
       "scene_epgwJEheHH4obnDffZ1h1VUK9": {
        "drc": {},
        "position": [
         42,
         -42,
         28
        ],
        "scale": 1,
        "scene": "<openalea.plantgl.scenegraph._pglsg.Scene object at 0x7f7d39e11370>"
       },
       "scene_eusJXPwbqujjSLsqRSIwomiSn": {
        "drc": {},
        "position": [
         -102,
         38,
         -53
        ],
        "scale": 1,
        "scene": "<openalea.plantgl.scenegraph._pglsg.Scene object at 0x7f7d39e3c2b0>"
       },
       "scene_evC4ttQrfHI8SzHwZ3j2UtueI": {
        "drc": {},
        "position": [
         47,
         -46,
         5
        ],
        "scale": 1,
        "scene": "<openalea.plantgl.scenegraph._pglsg.Scene object at 0x7f7d39fffd30>"
       },
       "scene_ex2MTpHoNFj8UjgoKX7AA69m9": {
        "drc": {},
        "position": [
         -70,
         -101,
         -73
        ],
        "scale": 1,
        "scene": "<openalea.plantgl.scenegraph._pglsg.Scene object at 0x7f7d39dec8f0>"
       },
       "scene_f1YP4hNWTIguGa2hauL5y2WbZ": {
        "drc": {},
        "position": [
         29,
         110,
         86
        ],
        "scale": 1,
        "scene": "<openalea.plantgl.scenegraph._pglsg.Scene object at 0x7f7d39e4f5b0>"
       },
       "scene_f8EocBn2066gaqyw6LvEMYr0y": {
        "drc": {},
        "position": [
         15,
         -93,
         -75
        ],
        "scale": 1,
        "scene": "<openalea.plantgl.scenegraph._pglsg.Scene object at 0x7f7d39ef86f0>"
       },
       "scene_fMDNtp8RIzza2fNnsLjOAGF4t": {
        "drc": {},
        "position": [
         10,
         46,
         -25
        ],
        "scale": 1,
        "scene": "<openalea.plantgl.scenegraph._pglsg.Scene object at 0x7f7d39d805f0>"
       },
       "scene_gbr6JQ5I1jbHb8FuQl0CLb14w": {
        "drc": {},
        "position": [
         -55,
         -3,
         85
        ],
        "scale": 1,
        "scene": "<openalea.plantgl.scenegraph._pglsg.Scene object at 0x7f7d39d601b0>"
       },
       "scene_geQVjy3GqV5jLEeG7bl19izHQ": {
        "drc": {},
        "position": [
         48,
         105,
         122
        ],
        "scale": 1,
        "scene": "<openalea.plantgl.scenegraph._pglsg.Scene object at 0x7f7d39febfb0>"
       },
       "scene_gyKEkAMIdeVrXt265SUupW8o6": {
        "drc": {},
        "position": [
         90,
         -45,
         11
        ],
        "scale": 1,
        "scene": "<openalea.plantgl.scenegraph._pglsg.Scene object at 0x7f7d6ef3b330>"
       },
       "scene_gyUKpjRcXpAoQlIOnRxT20Gwj": {
        "drc": {},
        "position": [
         -43,
         117,
         4
        ],
        "scale": 1,
        "scene": "<openalea.plantgl.scenegraph._pglsg.Scene object at 0x7f7d39d79c30>"
       },
       "scene_gzThPJJJRy16aLVT94pWk85IL": {
        "drc": {},
        "position": [
         -112,
         102,
         -24
        ],
        "scale": 1,
        "scene": "<openalea.plantgl.scenegraph._pglsg.Scene object at 0x7f7d39eafb30>"
       },
       "scene_hfFMBPIYjG1Gtuiwe8Xilr1Fd": {
        "drc": {},
        "position": [
         -115,
         79,
         75
        ],
        "scale": 1,
        "scene": "<openalea.plantgl.scenegraph._pglsg.Scene object at 0x7f7d39f655b0>"
       },
       "scene_huL5i5DCrJHyMGeZ8UqmT7cMn": {
        "drc": {},
        "position": [
         7,
         -51,
         90
        ],
        "scale": 1,
        "scene": "<openalea.plantgl.scenegraph._pglsg.Scene object at 0x7f7d39f65fb0>"
       },
       "scene_i3n3ctz7cxXQ8IuL5yoHXKY2D": {
        "drc": {},
        "position": [
         29,
         -62,
         75
        ],
        "scale": 1,
        "scene": "<openalea.plantgl.scenegraph._pglsg.Scene object at 0x7f7d39fdfc70>"
       },
       "scene_i4Q8zx3YuuewsM8KZREwuwoA3": {
        "drc": {},
        "position": [
         -41,
         107,
         -71
        ],
        "scale": 1,
        "scene": "<openalea.plantgl.scenegraph._pglsg.Scene object at 0x7f7d6c688870>"
       },
       "scene_iGFUiEd0AzfDa4xhBmkZ1uQbc": {
        "drc": {},
        "position": [
         103,
         88,
         -71
        ],
        "scale": 1,
        "scene": "<openalea.plantgl.scenegraph._pglsg.Scene object at 0x7f7d39fb99f0>"
       },
       "scene_ivMH8C5YXeQlOMgaR025CbBVx": {
        "drc": {},
        "position": [
         31,
         79,
         -25
        ],
        "scale": 1,
        "scene": "<openalea.plantgl.scenegraph._pglsg.Scene object at 0x7f7d39f3fd30>"
       },
       "scene_j2DOMx8a10HqJS1MJj2PWfBRl": {
        "drc": {},
        "position": [
         66,
         -104,
         90
        ],
        "scale": 1,
        "scene": "<openalea.plantgl.scenegraph._pglsg.Scene object at 0x7f7d39f93930>"
       },
       "scene_j65svPvvXiymyKrEgiMJEB0yw": {
        "drc": {},
        "position": [
         103,
         16,
         -22
        ],
        "scale": 1,
        "scene": "<openalea.plantgl.scenegraph._pglsg.Scene object at 0x7f7d39e336f0>"
       },
       "scene_jJuHKPTZDoEeyYW9XY3Iwfw6y": {
        "drc": {},
        "position": [
         -95,
         104,
         111
        ],
        "scale": 1,
        "scene": "<openalea.plantgl.scenegraph._pglsg.Scene object at 0x7f7d39e1c9b0>"
       },
       "scene_jSXW1Ud7XkHDIXpKX6I4g66p0": {
        "drc": {},
        "position": [
         -12,
         76,
         111
        ],
        "scale": 1,
        "scene": "<openalea.plantgl.scenegraph._pglsg.Scene object at 0x7f7d39f814f0>"
       },
       "scene_kBfNHkgr9jKniqlzRFw9u4SBd": {
        "drc": {},
        "position": [
         43,
         -104,
         19
        ],
        "scale": 1,
        "scene": "<openalea.plantgl.scenegraph._pglsg.Scene object at 0x7f7d39f9d4b0>"
       },
       "scene_kKkHTMszqLUWDW3pbs5xyzaGW": {
        "drc": {},
        "position": [
         50,
         -60,
         -33
        ],
        "scale": 1,
        "scene": "<openalea.plantgl.scenegraph._pglsg.Scene object at 0x7f7d39d4daf0>"
       },
       "scene_kpNvmK5LsWiqOLgMsS5uEIXEx": {
        "drc": {},
        "position": [
         61,
         -105,
         -80
        ],
        "scale": 1,
        "scene": "<openalea.plantgl.scenegraph._pglsg.Scene object at 0x7f7d39dbeab0>"
       },
       "scene_l8AREwLxXysuz4R2udG2mfHvL": {
        "drc": {},
        "position": [
         126,
         59,
         108
        ],
        "scale": 1,
        "scene": "<openalea.plantgl.scenegraph._pglsg.Scene object at 0x7f7d39d70d70>"
       },
       "scene_l9hpyoaLvjnn42qUf0UtZywcT": {
        "drc": {},
        "position": [
         94,
         37,
         11
        ],
        "scale": 1,
        "scene": "<openalea.plantgl.scenegraph._pglsg.Scene object at 0x7f7d39d39170>"
       },
       "scene_lFQUZGFn7zCypfnt4Q364gHbi": {
        "drc": {},
        "position": [
         18,
         -75,
         73
        ],
        "scale": 1,
        "scene": "<openalea.plantgl.scenegraph._pglsg.Scene object at 0x7f7d39f1f4b0>"
       },
       "scene_lOQZjwU8HKyAHhVhZNohae5Dq": {
        "drc": {},
        "position": [
         12,
         -93,
         3
        ],
        "scale": 1,
        "scene": "<openalea.plantgl.scenegraph._pglsg.Scene object at 0x7f7d39faebb0>"
       },
       "scene_lVWPl0wKySh95MMWuAb1upBUE": {
        "drc": {},
        "position": [
         67,
         96,
         -50
        ],
        "scale": 1,
        "scene": "<openalea.plantgl.scenegraph._pglsg.Scene object at 0x7f7d39f8be70>"
       },
       "scene_lXqycYOhuggdZZTPwEhZ82tiW": {
        "drc": {},
        "position": [
         118,
         111,
         -60
        ],
        "scale": 1,
        "scene": "<openalea.plantgl.scenegraph._pglsg.Scene object at 0x7f7d39f93270>"
       },
       "scene_ljuC592Zah5qpXi8qPGDG2Szs": {
        "drc": {},
        "position": [
         108,
         -88,
         38
        ],
        "scale": 1,
        "scene": "<openalea.plantgl.scenegraph._pglsg.Scene object at 0x7f7d39d8b770>"
       },
       "scene_mQwqazggTRkcjANecyGb43vB2": {
        "drc": {},
        "position": [
         -70,
         -8,
         47
        ],
        "scale": 1,
        "scene": "<openalea.plantgl.scenegraph._pglsg.Scene object at 0x7f7d39ea3f70>"
       },
       "scene_mqAphT5T6qozl8m0pDZHzfGzQ": {
        "drc": {},
        "position": [
         68,
         13,
         -74
        ],
        "scale": 1,
        "scene": "<openalea.plantgl.scenegraph._pglsg.Scene object at 0x7f7d39ddc370>"
       },
       "scene_n3qmas3NbJ4NcNqDCVsaYKcQ4": {
        "drc": {},
        "position": [
         97,
         15,
         24
        ],
        "scale": 1,
        "scene": "<openalea.plantgl.scenegraph._pglsg.Scene object at 0x7f7d39fcda70>"
       },
       "scene_nCHHG7eYN9jXDVe9hjHx7xx1o": {
        "drc": {},
        "position": [
         78,
         61,
         20
        ],
        "scale": 1,
        "scene": "<openalea.plantgl.scenegraph._pglsg.Scene object at 0x7f7d39d80d70>"
       },
       "scene_nP5ydkoqWFSLIio0VZR7l6Pjo": {
        "drc": {},
        "position": [
         -76,
         95,
         -83
        ],
        "scale": 1,
        "scene": "<openalea.plantgl.scenegraph._pglsg.Scene object at 0x7f7d39dc9670>"
       },
       "scene_nTaE0cbpBQAEpQ0kv7ZXeThOd": {
        "drc": {},
        "position": [
         17,
         65,
         80
        ],
        "scale": 1,
        "scene": "<openalea.plantgl.scenegraph._pglsg.Scene object at 0x7f7d39f2c730>"
       },
       "scene_neqTpB15gRoJ0gGcaAjMIhWrD": {
        "drc": {},
        "position": [
         72,
         35,
         -42
        ],
        "scale": 1,
        "scene": "<openalea.plantgl.scenegraph._pglsg.Scene object at 0x7f7d39f8b430>"
       },
       "scene_o7dyLVOpSzbfD34Wm8T5K0SU3": {
        "drc": {},
        "position": [
         -80,
         72,
         24
        ],
        "scale": 1,
        "scene": "<openalea.plantgl.scenegraph._pglsg.Scene object at 0x7f7d39fa3530>"
       },
       "scene_oVnRgYAvQDD9gp2tzGfU1QlDP": {
        "drc": {},
        "position": [
         -37,
         -30,
         108
        ],
        "scale": 1,
        "scene": "<openalea.plantgl.scenegraph._pglsg.Scene object at 0x7f7d39ddc930>"
       },
       "scene_ownDDvOkvoD0lIhJjG0t5gh93": {
        "drc": {},
        "position": [
         5,
         -4,
         -123
        ],
        "scale": 1,
        "scene": "<openalea.plantgl.scenegraph._pglsg.Scene object at 0x7f7d3a03c370>"
       },
       "scene_p8se8jmyy9M7IlIMX7qleDzmC": {
        "drc": {},
        "position": [
         -49,
         -24,
         -50
        ],
        "scale": 1,
        "scene": "<openalea.plantgl.scenegraph._pglsg.Scene object at 0x7f7d39f93430>"
       },
       "scene_p8tbxeoaEsEjGbrVBkIjdI2Lj": {
        "drc": {},
        "position": [
         121,
         68,
         -67
        ],
        "scale": 1,
        "scene": "<openalea.plantgl.scenegraph._pglsg.Scene object at 0x7f7d39fb6d30>"
       },
       "scene_pHqtOpQNs9sST2Ki7FNc4H0gO": {
        "drc": {},
        "position": [
         40,
         38,
         51
        ],
        "scale": 1,
        "scene": "<openalea.plantgl.scenegraph._pglsg.Scene object at 0x7f7d39dbe4f0>"
       },
       "scene_pJMJ1gopJZOc30re4KbtQSZSg": {
        "drc": {},
        "position": [
         77,
         -30,
         -121
        ],
        "scale": 1,
        "scene": "<openalea.plantgl.scenegraph._pglsg.Scene object at 0x7f7d39fe8770>"
       },
       "scene_pRBvOv3fpynmQdtkuwztkYhbv": {
        "drc": {},
        "position": [
         -46,
         -3,
         97
        ],
        "scale": 1,
        "scene": "<openalea.plantgl.scenegraph._pglsg.Scene object at 0x7f7d3a01b530>"
       },
       "scene_pcRcHOO6hOwnWnJxowY0LReuD": {
        "drc": {},
        "position": [
         85,
         113,
         12
        ],
        "scale": 1,
        "scene": "<openalea.plantgl.scenegraph._pglsg.Scene object at 0x7f7d39f149b0>"
       },
       "scene_po9R3UcVFfGIVO10FTjlPRCTh": {
        "drc": {},
        "position": [
         93,
         -120,
         80
        ],
        "scale": 1,
        "scene": "<openalea.plantgl.scenegraph._pglsg.Scene object at 0x7f7d39f93330>"
       },
       "scene_q32uGqyUAgpPN2tYiSvOyk3ei": {
        "drc": {},
        "position": [
         28,
         72,
         -23
        ],
        "scale": 1,
        "scene": "<openalea.plantgl.scenegraph._pglsg.Scene object at 0x7f7d39ec3d30>"
       },
       "scene_qN3B6NDWINlUH8FBMpJOhyIQr": {
        "drc": {},
        "position": [
         -124,
         35,
         22
        ],
        "scale": 1,
        "scene": "<openalea.plantgl.scenegraph._pglsg.Scene object at 0x7f7d39e97e70>"
       },
       "scene_qQ9UKMa03mGpkHGvgzAX3tucB": {
        "drc": {},
        "position": [
         -123,
         113,
         63
        ],
        "scale": 1,
        "scene": "<openalea.plantgl.scenegraph._pglsg.Scene object at 0x7f7d39f38730>"
       },
       "scene_qyHCM9qPJ6cIir5EEDKrcReht": {
        "drc": {},
        "position": [
         -120,
         -108,
         -10
        ],
        "scale": 1,
        "scene": "<openalea.plantgl.scenegraph._pglsg.Scene object at 0x7f7d39f81ab0>"
       },
       "scene_r4CaAZE9MxlnwfKZjOdhXVywf": {
        "drc": {},
        "position": [
         -29,
         -72,
         -110
        ],
        "scale": 1,
        "scene": "<openalea.plantgl.scenegraph._pglsg.Scene object at 0x7f7d39dc9fb0>"
       },
       "scene_rw6nT7IYoEMDPx2X30Ciag3Uj": {
        "drc": {},
        "position": [
         -103,
         -116,
         51
        ],
        "scale": 1,
        "scene": "<openalea.plantgl.scenegraph._pglsg.Scene object at 0x7f7d39deceb0>"
       },
       "scene_s7xJvGTTre1fcMyyhWh1b9nly": {
        "drc": {},
        "position": [
         -46,
         59,
         81
        ],
        "scale": 1,
        "scene": "<openalea.plantgl.scenegraph._pglsg.Scene object at 0x7f7d39f73a70>"
       },
       "scene_sBfziY33kR80G04efAReE4uNH": {
        "drc": {},
        "position": [
         -1,
         -38,
         -116
        ],
        "scale": 1,
        "scene": "<openalea.plantgl.scenegraph._pglsg.Scene object at 0x7f7d39fb9eb0>"
       },
       "scene_sSquCTbg1quMhO2tX5wus2wmB": {
        "drc": {},
        "position": [
         72,
         91,
         -69
        ],
        "scale": 1,
        "scene": "<openalea.plantgl.scenegraph._pglsg.Scene object at 0x7f7d39dfdbf0>"
       },
       "scene_t8OZsMQHXDUGaj0iJ7qUbDBdE": {
        "drc": {},
        "position": [
         -19,
         23,
         71
        ],
        "scale": 1,
        "scene": "<openalea.plantgl.scenegraph._pglsg.Scene object at 0x7f7d3a03cef0>"
       },
       "scene_tCI4WEB50kCNYOnwh7TUROHH0": {
        "drc": {},
        "position": [
         99,
         126,
         -112
        ],
        "scale": 1,
        "scene": "<openalea.plantgl.scenegraph._pglsg.Scene object at 0x7f7d39e631b0>"
       },
       "scene_tMqFaxOfcd6x1pFUDKiJw7DBv": {
        "drc": {},
        "position": [
         115,
         45,
         -23
        ],
        "scale": 1,
        "scene": "<openalea.plantgl.scenegraph._pglsg.Scene object at 0x7f7d39e3ce30>"
       },
       "scene_thhvB1wy6gRqFPWxU7HHKt2df": {
        "drc": {},
        "position": [
         77,
         42,
         68
        ],
        "scale": 1,
        "scene": "<openalea.plantgl.scenegraph._pglsg.Scene object at 0x7f7d39e63df0>"
       },
       "scene_tlBBdzXcABbDdSyiIy3csjxrY": {
        "drc": {},
        "position": [
         -93,
         -106,
         -50
        ],
        "scale": 1,
        "scene": "<openalea.plantgl.scenegraph._pglsg.Scene object at 0x7f7d39ecf2b0>"
       },
       "scene_uFO9cthwoZnoFIK9acOsXGtnt": {
        "drc": {},
        "position": [
         54,
         21,
         89
        ],
        "scale": 1,
        "scene": "<openalea.plantgl.scenegraph._pglsg.Scene object at 0x7f7d39f93c30>"
       },
       "scene_unrGUfwn6POCKrbERFAK1iefq": {
        "drc": {},
        "position": [
         -3,
         -107,
         -24
        ],
        "scale": 1,
        "scene": "<openalea.plantgl.scenegraph._pglsg.Scene object at 0x7f7d39ed7430>"
       },
       "scene_vCnNYJ88lQ3iUJGiwWfLW6Q5J": {
        "drc": {},
        "position": [
         -107,
         -10,
         7
        ],
        "scale": 1,
        "scene": "<openalea.plantgl.scenegraph._pglsg.Scene object at 0x7f7d3a0627f0>"
       },
       "scene_vKnzqh5qGynUdo3hgQq8gTOCk": {
        "drc": {},
        "position": [
         -123,
         -121,
         -10
        ],
        "scale": 1,
        "scene": "<openalea.plantgl.scenegraph._pglsg.Scene object at 0x7f7d39fa3af0>"
       },
       "scene_vgpOGve8c6ITvlLPHsufGHx6S": {
        "drc": {},
        "position": [
         43,
         -86,
         -123
        ],
        "scale": 1,
        "scene": "<openalea.plantgl.scenegraph._pglsg.Scene object at 0x7f7d39fcdfb0>"
       },
       "scene_w793eY4nJwAkx0YCTeWyo2rS9": {
        "drc": {},
        "position": [
         -29,
         -80,
         36
        ],
        "scale": 1,
        "scene": "<openalea.plantgl.scenegraph._pglsg.Scene object at 0x7f7d3a48f9b0>"
       },
       "scene_wKgC2UQCjebNGeWH6TidR1A98": {
        "drc": {},
        "position": [
         7,
         -120,
         -80
        ],
        "scale": 1,
        "scene": "<openalea.plantgl.scenegraph._pglsg.Scene object at 0x7f7d39f815f0>"
       },
       "scene_wWM8A5FvIYIcBvCkldvjtAzY9": {
        "drc": {},
        "position": [
         29,
         87,
         -120
        ],
        "scale": 1,
        "scene": "<openalea.plantgl.scenegraph._pglsg.Scene object at 0x7f7d39f27b30>"
       },
       "scene_whcnQ56vwDKCOEEUw1ZtKJ7R5": {
        "drc": {},
        "position": [
         8,
         64,
         8
        ],
        "scale": 1,
        "scene": "<openalea.plantgl.scenegraph._pglsg.Scene object at 0x7f7d39f93e30>"
       },
       "scene_wnN2K6jlyoOkTubIzkfGgKvA4": {
        "drc": {},
        "position": [
         -94,
         -121,
         -49
        ],
        "scale": 1,
        "scene": "<openalea.plantgl.scenegraph._pglsg.Scene object at 0x7f7d39d932f0>"
       },
       "scene_xODwPI0FettNO3xPDtEpWp1eV": {
        "drc": {},
        "position": [
         122,
         -10,
         124
        ],
        "scale": 1,
        "scene": "<openalea.plantgl.scenegraph._pglsg.Scene object at 0x7f7d39f533f0>"
       },
       "scene_xVkdCJW6C9nA0tf90lKk2TEVR": {
        "drc": {},
        "position": [
         -118,
         -60,
         111
        ],
        "scale": 1,
        "scene": "<openalea.plantgl.scenegraph._pglsg.Scene object at 0x7f7d3a024630>"
       },
       "scene_xwvUZlbX4nj5JStYF7UK9vy3C": {
        "drc": {},
        "position": [
         79,
         2,
         -58
        ],
        "scale": 1,
        "scene": "<openalea.plantgl.scenegraph._pglsg.Scene object at 0x7f7d39e8ed30>"
       },
       "scene_y0DoRb7d4YrSyKgwG1SJq42h9": {
        "drc": {},
        "position": [
         -10,
         46,
         84
        ],
        "scale": 1,
        "scene": "<openalea.plantgl.scenegraph._pglsg.Scene object at 0x7f7d39e24d30>"
       },
       "scene_y11S8r8UnQ5pXR3KFLCfTDTIE": {
        "drc": {},
        "position": [
         -17,
         2,
         56
        ],
        "scale": 1,
        "scene": "<openalea.plantgl.scenegraph._pglsg.Scene object at 0x7f7d39d60830>"
       },
       "scene_yaF4T60Ns2Ff37SttwYVqVCmH": {
        "drc": {},
        "position": [
         4,
         -37,
         51
        ],
        "scale": 1,
        "scene": "<openalea.plantgl.scenegraph._pglsg.Scene object at 0x7f7d39dfdfb0>"
       },
       "scene_yjTDu78sObGhfEKG2i4H6aAT5": {
        "drc": {},
        "position": [
         89,
         -109,
         91
        ],
        "scale": 1,
        "scene": "<openalea.plantgl.scenegraph._pglsg.Scene object at 0x7f7d39f8b730>"
       },
       "scene_yl9C6cvQIxe5ohWFHA7wXUGBy": {
        "drc": {},
        "position": [
         -33,
         10,
         77
        ],
        "scale": 1,
        "scene": "<openalea.plantgl.scenegraph._pglsg.Scene object at 0x7f7d39e469f0>"
       },
       "scene_ymDWEubFIPHYk783ubvZ7eJdq": {
        "drc": {},
        "position": [
         -65,
         126,
         -56
        ],
        "scale": 1,
        "scene": "<openalea.plantgl.scenegraph._pglsg.Scene object at 0x7f7d39ff4cf0>"
       },
       "scene_yosJtr6ekjyJYPpiRqHWSW3IU": {
        "drc": {},
        "position": [
         -73,
         67,
         75
        ],
        "scale": 1,
        "scene": "<openalea.plantgl.scenegraph._pglsg.Scene object at 0x7f7d39f5bfb0>"
       },
       "scene_yyOHIANojkRAqbQsWJBqVQVOm": {
        "drc": {},
        "position": [
         9,
         64,
         0
        ],
        "scale": 1,
        "scene": "<openalea.plantgl.scenegraph._pglsg.Scene object at 0x7f7d39f93770>"
       },
       "scene_z7qMnye0JDz7xPZfkRcdfIbJq": {
        "drc": {},
        "position": [
         -46,
         -112,
         125
        ],
        "scale": 1,
        "scene": "<openalea.plantgl.scenegraph._pglsg.Scene object at 0x7f7d39e11930>"
       },
       "scene_zNhiiaPz46CNyYe3aHh4WIjlG": {
        "drc": {},
        "position": [
         96,
         89,
         61
        ],
        "scale": 1,
        "scene": "<openalea.plantgl.scenegraph._pglsg.Scene object at 0x7f7d3a03c930>"
       },
       "scene_zUizhn9lKtKp0aXiPP4KdIQ6D": {
        "drc": {},
        "position": [
         13,
         80,
         -70
        ],
        "scale": 1,
        "scene": "<openalea.plantgl.scenegraph._pglsg.Scene object at 0x7f7d3a0454f0>"
       },
       "scene_zkixWG9qpXS1yJhVUh9c5U7Pv": {
        "drc": {},
        "position": [
         30,
         13,
         116
        ],
        "scale": 1,
        "scene": "<openalea.plantgl.scenegraph._pglsg.Scene object at 0x7f7d39f27570>"
       },
       "size_display": [
        400,
        300
       ],
       "size_world": [
        255,
        255,
        255
       ]
      }
     },
     "4331bfd6861c40baba41b0b1beb6d692": {
      "buffers": [
       {
        "data": "",
        "encoding": "base64",
        "path": [
         "scene",
         "drc"
        ]
       }
      ],
      "model_module": "pgljupyter",
      "model_module_version": "^0.1.0",
      "model_name": "SceneWidgetModel",
      "state": {
       "_model_module_version": "^0.1.0",
       "_view_module_version": "^0.1.0",
       "axes_helper": true,
       "layout": "IPY_MODEL_86c21a2dc8944105a164cfefc4e2daf3",
       "light_helper": true,
       "mesh_compression": 10,
       "scene": {
        "drc": {},
        "position": [
         0,
         0,
         0
        ],
        "scale": 1,
        "scene": "<openalea.plantgl.scenegraph._pglsg.Scene object at 0x7fb5597958f0>"
       },
       "scene_069xErFux3wfA5UhSJ4zAKTLT": {
        "drc": {},
        "position": [
         -60,
         -30,
         93
        ],
        "scale": 1,
        "scene": "<openalea.plantgl.scenegraph._pglsg.Scene object at 0x7fb559447e70>"
       },
       "scene_08gYiGMOQ570bkiHLGzjIrysF": {
        "drc": {},
        "position": [
         -119,
         29,
         -116
        ],
        "scale": 1,
        "scene": "<openalea.plantgl.scenegraph._pglsg.Scene object at 0x7fb559247c30>"
       },
       "scene_0LBpumyZAIMukKCx7r7MyOpuZ": {
        "drc": {},
        "position": [
         77,
         80,
         38
        ],
        "scale": 1,
        "scene": "<openalea.plantgl.scenegraph._pglsg.Scene object at 0x7fb55962f930>"
       },
       "scene_0ZbNkt2CtDT35CHhcwIxENYIs": {
        "drc": {},
        "position": [
         -30,
         57,
         52
        ],
        "scale": 1,
        "scene": "<openalea.plantgl.scenegraph._pglsg.Scene object at 0x7fb5591f2db0>"
       },
       "scene_0h1NHo73e7y6DcKzqoIRkpMJn": {
        "drc": {},
        "position": [
         54,
         101,
         -1
        ],
        "scale": 1,
        "scene": "<openalea.plantgl.scenegraph._pglsg.Scene object at 0x7fb558e77e30>"
       },
       "scene_0ixok4Ki64Ar71T2zTBMqoy83": {
        "drc": {},
        "position": [
         -124,
         -22,
         3
        ],
        "scale": 1,
        "scene": "<openalea.plantgl.scenegraph._pglsg.Scene object at 0x7fb55946abb0>"
       },
       "scene_11C1Chv3LgpXY08pRNysr3VlQ": {
        "drc": {},
        "position": [
         -52,
         120,
         -95
        ],
        "scale": 1,
        "scene": "<openalea.plantgl.scenegraph._pglsg.Scene object at 0x7fb559581770>"
       },
       "scene_13XA5gYgu1qMnm2kIupQ9KQ8m": {
        "drc": {},
        "position": [
         0,
         -53,
         -41
        ],
        "scale": 1,
        "scene": "<openalea.plantgl.scenegraph._pglsg.Scene object at 0x7fb558e3bf30>"
       },
       "scene_16QYAV24BhWMlebHbUM6kjoCI": {
        "drc": {},
        "position": [
         -10,
         -19,
         2
        ],
        "scale": 1,
        "scene": "<openalea.plantgl.scenegraph._pglsg.Scene object at 0x7fb559154d30>"
       },
       "scene_1Bd6uRZOToxNfCkvHSlyO3g3p": {
        "drc": {},
        "position": [
         -122,
         -99,
         -71
        ],
        "scale": 1,
        "scene": "<openalea.plantgl.scenegraph._pglsg.Scene object at 0x7fb55918eeb0>"
       },
       "scene_1b9BeIxaznIvS6Fk4w6HCJIf1": {
        "drc": {},
        "position": [
         -42,
         -107,
         5
        ],
        "scale": 1,
        "scene": "<openalea.plantgl.scenegraph._pglsg.Scene object at 0x7fb5590bc470>"
       },
       "scene_1eWhuPilq7JBYWN7IzsKkUHR9": {
        "drc": {},
        "position": [
         -3,
         -88,
         -46
        ],
        "scale": 1,
        "scene": "<openalea.plantgl.scenegraph._pglsg.Scene object at 0x7fb559839ef0>"
       },
       "scene_1fWOUGRRXVyjdX4XjNnqO96Ok": {
        "drc": {},
        "position": [
         -30,
         -7,
         -97
        ],
        "scale": 1,
        "scene": "<openalea.plantgl.scenegraph._pglsg.Scene object at 0x7fb559589330>"
       },
       "scene_1my42chur4z7FYzLHwjx4acjB": {
        "drc": {},
        "position": [
         29,
         -34,
         -113
        ],
        "scale": 1,
        "scene": "<openalea.plantgl.scenegraph._pglsg.Scene object at 0x7fb558f56bb0>"
       },
       "scene_1wyqj81U0HcOnA55QrjMVuuRY": {
        "drc": {},
        "position": [
         20,
         -116,
         89
        ],
        "scale": 1,
        "scene": "<openalea.plantgl.scenegraph._pglsg.Scene object at 0x7fb559594eb0>"
       },
       "scene_27hDEhiOoFld6ezqySj86TFz8": {
        "drc": {},
        "position": [
         -83,
         -4,
         97
        ],
        "scale": 1,
        "scene": "<openalea.plantgl.scenegraph._pglsg.Scene object at 0x7fb5591b59f0>"
       },
       "scene_2LvM8gcapxXUPz7ixRVVqYzWd": {
        "drc": {},
        "position": [
         -58,
         65,
         -5
        ],
        "scale": 1,
        "scene": "<openalea.plantgl.scenegraph._pglsg.Scene object at 0x7fb55973cbb0>"
       },
       "scene_2WRNamtqg2DEvtXI01EmS5HZO": {
        "drc": {},
        "position": [
         -15,
         99,
         2
        ],
        "scale": 1,
        "scene": "<openalea.plantgl.scenegraph._pglsg.Scene object at 0x7fb5593904f0>"
       },
       "scene_2v4O2qhpJyoRYg1QsoxC5wjO5": {
        "drc": {},
        "position": [
         -95,
         -52,
         112
        ],
        "scale": 1,
        "scene": "<openalea.plantgl.scenegraph._pglsg.Scene object at 0x7fb5595574f0>"
       },
       "scene_399YtwHVcS5ws20NTAg0YjdAO": {
        "drc": {},
        "position": [
         -107,
         -73,
         86
        ],
        "scale": 1,
        "scene": "<openalea.plantgl.scenegraph._pglsg.Scene object at 0x7fb55932f3b0>"
       },
       "scene_3CIu1oBlsJEtLCguxr6coEL4Y": {
        "drc": {},
        "position": [
         57,
         37,
         104
        ],
        "scale": 1,
        "scene": "<openalea.plantgl.scenegraph._pglsg.Scene object at 0x7fb55916a9b0>"
       },
       "scene_3PCAkZQ6Bw9Mzm3xGXLp64wJ0": {
        "drc": {},
        "position": [
         6,
         106,
         -92
        ],
        "scale": 1,
        "scene": "<openalea.plantgl.scenegraph._pglsg.Scene object at 0x7fb559417770>"
       },
       "scene_3Qw51du17p0GENymTdlzi7FuN": {
        "drc": {},
        "position": [
         -41,
         -62,
         33
        ],
        "scale": 1,
        "scene": "<openalea.plantgl.scenegraph._pglsg.Scene object at 0x7fb55919c630>"
       },
       "scene_3R3prlA7Jzp8jnAa8Y013zJpE": {
        "drc": {},
        "position": [
         84,
         -11,
         -28
        ],
        "scale": 1,
        "scene": "<openalea.plantgl.scenegraph._pglsg.Scene object at 0x7fb559813770>"
       },
       "scene_3SCNYO0stscHGxjjEdxfop3ur": {
        "drc": {},
        "position": [
         65,
         -92,
         -94
        ],
        "scale": 1,
        "scene": "<openalea.plantgl.scenegraph._pglsg.Scene object at 0x7fb5596821b0>"
       },
       "scene_3Uu1fKgnKLUTC4DYqX56KCTbX": {
        "drc": {},
        "position": [
         -77,
         -88,
         -19
        ],
        "scale": 1,
        "scene": "<openalea.plantgl.scenegraph._pglsg.Scene object at 0x7fb5594501b0>"
       },
       "scene_3cmV7Pu73cY5ZkK2crBYa4Sev": {
        "drc": {},
        "position": [
         74,
         20,
         -39
        ],
        "scale": 1,
        "scene": "<openalea.plantgl.scenegraph._pglsg.Scene object at 0x7fb559023af0>"
       },
       "scene_3iJd1jhI5IZcaPLXxcvQU9XRM": {
        "drc": {},
        "position": [
         -46,
         -122,
         -77
        ],
        "scale": 1,
        "scene": "<openalea.plantgl.scenegraph._pglsg.Scene object at 0x7fb5590e1870>"
       },
       "scene_3situcG4xSx708542d4lCzAzP": {
        "drc": {},
        "position": [
         -84,
         -126,
         -20
        ],
        "scale": 1,
        "scene": "<openalea.plantgl.scenegraph._pglsg.Scene object at 0x7fb55973c8b0>"
       },
       "scene_44MV0XQZ0t66A7A4FCkKlKbDS": {
        "drc": {},
        "position": [
         -18,
         -70,
         13
        ],
        "scale": 1,
        "scene": "<openalea.plantgl.scenegraph._pglsg.Scene object at 0x7fb55906b430>"
       },
       "scene_4Cy1rxMppzq22lMNJYGs2rDPz": {
        "drc": {},
        "position": [
         96,
         97,
         -91
        ],
        "scale": 1,
        "scene": "<openalea.plantgl.scenegraph._pglsg.Scene object at 0x7fb559ddfdf0>"
       },
       "scene_4DgABZc6DEIplJmI9b5nn0KnA": {
        "drc": {},
        "position": [
         -13,
         -103,
         -82
        ],
        "scale": 1,
        "scene": "<openalea.plantgl.scenegraph._pglsg.Scene object at 0x7fb55960e370>"
       },
       "scene_4J7cdOJ9USZ9qxM0eoR8fumZ8": {
        "drc": {},
        "position": [
         -63,
         -26,
         60
        ],
        "scale": 1,
        "scene": "<openalea.plantgl.scenegraph._pglsg.Scene object at 0x7fb55948f470>"
       },
       "scene_4J8PE3k4GIxKHZG5H3SZpULl8": {
        "drc": {},
        "position": [
         13,
         68,
         -125
        ],
        "scale": 1,
        "scene": "<openalea.plantgl.scenegraph._pglsg.Scene object at 0x7fb558e2f970>"
       },
       "scene_4ORAgqXGY5h4PocO9X14W9Dfc": {
        "drc": {},
        "position": [
         -31,
         -47,
         93
        ],
        "scale": 1,
        "scene": "<openalea.plantgl.scenegraph._pglsg.Scene object at 0x7fb55969e970>"
       },
       "scene_4UQorfhYx2whHmMR5avVJvRie": {
        "drc": {},
        "position": [
         -83,
         -59,
         87
        ],
        "scale": 1,
        "scene": "<openalea.plantgl.scenegraph._pglsg.Scene object at 0x7fb5594b4f70>"
       },
       "scene_4mOQtojlm9PgR2rXu6D9ayLYk": {
        "drc": {},
        "position": [
         -17,
         72,
         -99
        ],
        "scale": 1,
        "scene": "<openalea.plantgl.scenegraph._pglsg.Scene object at 0x7fb5595fc7f0>"
       },
       "scene_4p94SSHHKaVyWfd7jzZPqJ32r": {
        "drc": {},
        "position": [
         -66,
         96,
         60
        ],
        "scale": 1,
        "scene": "<openalea.plantgl.scenegraph._pglsg.Scene object at 0x7fb559018fb0>"
       },
       "scene_4uqaBwCQ5wVwVX3lzNfDzaigm": {
        "drc": {},
        "position": [
         -70,
         26,
         36
        ],
        "scale": 1,
        "scene": "<openalea.plantgl.scenegraph._pglsg.Scene object at 0x7fb5594b43f0>"
       },
       "scene_4yNyUsx4Zmwr4JQJMqfjcyE4i": {
        "drc": {},
        "position": [
         -33,
         -35,
         -124
        ],
        "scale": 1,
        "scene": "<openalea.plantgl.scenegraph._pglsg.Scene object at 0x7fb5593b8470>"
       },
       "scene_504VSoel5rNShXl8yhDpPuaAD": {
        "drc": {},
        "position": [
         -2,
         -27,
         -9
        ],
        "scale": 1,
        "scene": "<openalea.plantgl.scenegraph._pglsg.Scene object at 0x7fb55960ef30>"
       },
       "scene_50idD6Qp2lyk38JmnR0tUFbzY": {
        "drc": {},
        "position": [
         -75,
         2,
         38
        ],
        "scale": 1,
        "scene": "<openalea.plantgl.scenegraph._pglsg.Scene object at 0x7fb55914cd70>"
       },
       "scene_52LqX2zuXY2FpSZ5EK8BDvAu2": {
        "drc": {},
        "position": [
         0,
         -116,
         -49
        ],
        "scale": 1,
        "scene": "<openalea.plantgl.scenegraph._pglsg.Scene object at 0x7fb5591bc5b0>"
       },
       "scene_53LsGKRLkWW1LafCRZ13AuLny": {
        "drc": {},
        "position": [
         49,
         -117,
         29
        ],
        "scale": 1,
        "scene": "<openalea.plantgl.scenegraph._pglsg.Scene object at 0x7fb5593a4430>"
       },
       "scene_5CwUXyNgz5OtMx4cuwvzIGK3t": {
        "drc": {},
        "position": [
         16,
         -105,
         -36
        ],
        "scale": 1,
        "scene": "<openalea.plantgl.scenegraph._pglsg.Scene object at 0x7fb5594c33b0>"
       },
       "scene_5Hk9qqq996JE1w7AZUx3ONhDf": {
        "drc": {},
        "position": [
         -107,
         66,
         -91
        ],
        "scale": 1,
        "scene": "<openalea.plantgl.scenegraph._pglsg.Scene object at 0x7fb559581a70>"
       },
       "scene_5Lv42N79v1AsT5ogw3bmsw45G": {
        "drc": {},
        "position": [
         -122,
         25,
         37
        ],
        "scale": 1,
        "scene": "<openalea.plantgl.scenegraph._pglsg.Scene object at 0x7fb5598213b0>"
       },
       "scene_5TUuk8u7hF3xEJBKZUFfMEZMl": {
        "drc": {},
        "position": [
         67,
         -29,
         82
        ],
        "scale": 1,
        "scene": "<openalea.plantgl.scenegraph._pglsg.Scene object at 0x7fb558e77670>"
       },
       "scene_5kYQEGQz5B1z27qvTd5hfROJm": {
        "drc": {},
        "position": [
         -108,
         -45,
         109
        ],
        "scale": 1,
        "scene": "<openalea.plantgl.scenegraph._pglsg.Scene object at 0x7fb5598cc630>"
       },
       "scene_5lLGTZ35tF9w8twLqogBb8Y3x": {
        "drc": {},
        "position": [
         62,
         -67,
         -77
        ],
        "scale": 1,
        "scene": "<openalea.plantgl.scenegraph._pglsg.Scene object at 0x7fb5599c9bf0>"
       },
       "scene_5xebpYq5XJOLoRNJP1I9k2tBE": {
        "drc": {},
        "position": [
         89,
         4,
         -62
        ],
        "scale": 1,
        "scene": "<openalea.plantgl.scenegraph._pglsg.Scene object at 0x7fb559293370>"
       },
       "scene_5yvR8crcq3VdEgYfgMLbDc8H5": {
        "drc": {},
        "position": [
         -13,
         -1,
         -68
        ],
        "scale": 1,
        "scene": "<openalea.plantgl.scenegraph._pglsg.Scene object at 0x7fb558fca370>"
       },
       "scene_64thyV0uuJ4dk7BSighQb0KSF": {
        "drc": {},
        "position": [
         18,
         36,
         31
        ],
        "scale": 1,
        "scene": "<openalea.plantgl.scenegraph._pglsg.Scene object at 0x7fb558f4c530>"
       },
       "scene_6b2hM44zOzPZGirKuBzgfYvkm": {
        "drc": {},
        "position": [
         -53,
         28,
         71
        ],
        "scale": 1,
        "scene": "<openalea.plantgl.scenegraph._pglsg.Scene object at 0x7fb558dc8cf0>"
       },
       "scene_6bzICMvMEJVpzpRFOcxxq1Pxc": {
        "drc": {},
        "position": [
         -38,
         106,
         -28
        ],
        "scale": 1,
        "scene": "<openalea.plantgl.scenegraph._pglsg.Scene object at 0x7fb55950fbb0>"
       },
       "scene_6eJMHCHmNeqHHv4P8mv8t25wl": {
        "drc": {},
        "position": [
         12,
         81,
         81
        ],
        "scale": 1,
        "scene": "<openalea.plantgl.scenegraph._pglsg.Scene object at 0x7fb55963c670>"
       },
       "scene_6hDHSLFgElYCzshPrwGcbcYgo": {
        "drc": {},
        "position": [
         -24,
         -28,
         -31
        ],
        "scale": 1,
        "scene": "<openalea.plantgl.scenegraph._pglsg.Scene object at 0x7fb5598fc630>"
       },
       "scene_6uNGkMC4oCMtnSdWkmxPWLwFG": {
        "drc": {},
        "position": [
         -42,
         -66,
         -19
        ],
        "scale": 1,
        "scene": "<openalea.plantgl.scenegraph._pglsg.Scene object at 0x7fb559221c30>"
       },
       "scene_70UHofF82dYDgOesV9TFezihx": {
        "drc": {},
        "position": [
         -76,
         -64,
         23
        ],
        "scale": 1,
        "scene": "<openalea.plantgl.scenegraph._pglsg.Scene object at 0x7fb559408430>"
       },
       "scene_76xpunFrAUna58wDN2Yu7PmIR": {
        "drc": {},
        "position": [
         15,
         74,
         76
        ],
        "scale": 1,
        "scene": "<openalea.plantgl.scenegraph._pglsg.Scene object at 0x7fb559939370>"
       },
       "scene_7TaQubekVEpJWtWafoPYAW6zi": {
        "drc": {},
        "position": [
         -40,
         -95,
         7
        ],
        "scale": 1,
        "scene": "<openalea.plantgl.scenegraph._pglsg.Scene object at 0x7fb55955ec30>"
       },
       "scene_7VGHbmqP6zFbvJq0FBp2qHSCw": {
        "drc": {},
        "position": [
         118,
         89,
         -107
        ],
        "scale": 1,
        "scene": "<openalea.plantgl.scenegraph._pglsg.Scene object at 0x7fb558ea53f0>"
       },
       "scene_7bg8EdRYjCcqD8qNQ9s66hVWE": {
        "drc": {},
        "position": [
         35,
         123,
         72
        ],
        "scale": 1,
        "scene": "<openalea.plantgl.scenegraph._pglsg.Scene object at 0x7fb5595dddf0>"
       },
       "scene_7f69ACEkJuc9phcoo2NtSnaey": {
        "drc": {},
        "position": [
         5,
         -120,
         -113
        ],
        "scale": 1,
        "scene": "<openalea.plantgl.scenegraph._pglsg.Scene object at 0x7fb559589f70>"
       },
       "scene_7fWUDx98645uavuymmUrfObGl": {
        "drc": {},
        "position": [
         33,
         59,
         -125
        ],
        "scale": 1,
        "scene": "<openalea.plantgl.scenegraph._pglsg.Scene object at 0x7fb5595219f0>"
       },
       "scene_7tjr71mWlh0DAmNNUpHCZBR1p": {
        "drc": {},
        "position": [
         -83,
         -72,
         -67
        ],
        "scale": 1,
        "scene": "<openalea.plantgl.scenegraph._pglsg.Scene object at 0x7fb5592a4630>"
       },
       "scene_7y761m0iyFYvjXE3LkisiPCuH": {
        "drc": {},
        "position": [
         -107,
         99,
         101
        ],
        "scale": 1,
        "scene": "<openalea.plantgl.scenegraph._pglsg.Scene object at 0x7fb558e43a30>"
       },
       "scene_7zraUTpXJShJtjAYT5cmZQnMv": {
        "drc": {},
        "position": [
         118,
         -29,
         -76
        ],
        "scale": 1,
        "scene": "<openalea.plantgl.scenegraph._pglsg.Scene object at 0x7fb558ff5c30>"
       },
       "scene_812SeUdqRiARpX85xE9ZDiGRr": {
        "drc": {},
        "position": [
         111,
         36,
         -9
        ],
        "scale": 1,
        "scene": "<openalea.plantgl.scenegraph._pglsg.Scene object at 0x7fb5590cd670>"
       },
       "scene_81QdHXbL4UrwsfFFjW2U08n2b": {
        "drc": {},
        "position": [
         86,
         -72,
         18
        ],
        "scale": 1,
        "scene": "<openalea.plantgl.scenegraph._pglsg.Scene object at 0x7fb558ea97f0>"
       },
       "scene_82k1w7DXsNIUmNBHrKUkixvWC": {
        "drc": {},
        "position": [
         66,
         -77,
         40
        ],
        "scale": 1,
        "scene": "<openalea.plantgl.scenegraph._pglsg.Scene object at 0x7fb5595b3370>"
       },
       "scene_86VmXchMlb81hz6xOT3P8mADA": {
        "drc": {},
        "position": [
         22,
         -126,
         -112
        ],
        "scale": 1,
        "scene": "<openalea.plantgl.scenegraph._pglsg.Scene object at 0x7fb5594d88b0>"
       },
       "scene_8FWVb4U7LKDDaY4AssmDhoD3Z": {
        "drc": {},
        "position": [
         -47,
         4,
         -75
        ],
        "scale": 1,
        "scene": "<openalea.plantgl.scenegraph._pglsg.Scene object at 0x7fb558fb7bf0>"
       },
       "scene_8FvHum5pa4LOoe1StEtl5ARik": {
        "drc": {},
        "position": [
         57,
         -55,
         -78
        ],
        "scale": 1,
        "scene": "<openalea.plantgl.scenegraph._pglsg.Scene object at 0x7fb5591059f0>"
       },
       "scene_8KCoCY6gC9RdSalbpHlqrqdPx": {
        "drc": {},
        "position": [
         -25,
         -9,
         -98
        ],
        "scale": 1,
        "scene": "<openalea.plantgl.scenegraph._pglsg.Scene object at 0x7fb5594ba270>"
       },
       "scene_8YkukY1WUbmKDFUgE7IjbQmjy": {
        "drc": {},
        "position": [
         -55,
         86,
         64
        ],
        "scale": 1,
        "scene": "<openalea.plantgl.scenegraph._pglsg.Scene object at 0x7fb558dc06f0>"
       },
       "scene_8kWMpBFzzn66JE0y7QnYqSOv7": {
        "drc": {},
        "position": [
         0,
         -71,
         101
        ],
        "scale": 1,
        "scene": "<openalea.plantgl.scenegraph._pglsg.Scene object at 0x7fb558f42a70>"
       },
       "scene_8kgWzWPwywXeV6U0RGZJfU7B5": {
        "drc": {},
        "position": [
         -64,
         47,
         -89
        ],
        "scale": 1,
        "scene": "<openalea.plantgl.scenegraph._pglsg.Scene object at 0x7fb558ef0eb0>"
       },
       "scene_8l3k0NTjIzel7WLlOYODWdaWj": {
        "drc": {},
        "position": [
         53,
         61,
         -111
        ],
        "scale": 1,
        "scene": "<openalea.plantgl.scenegraph._pglsg.Scene object at 0x7fb5593ae4f0>"
       },
       "scene_8mgXJejuRQhowbKtBcIIrcmVL": {
        "drc": {},
        "position": [
         28,
         0,
         -111
        ],
        "scale": 1,
        "scene": "<openalea.plantgl.scenegraph._pglsg.Scene object at 0x7fb55956e530>"
       },
       "scene_8qajB2GLvKQQQqJ7ZTDg7AEOz": {
        "drc": {},
        "position": [
         -102,
         -106,
         -73
        ],
        "scale": 1,
        "scene": "<openalea.plantgl.scenegraph._pglsg.Scene object at 0x7fb559447230>"
       },
       "scene_8wYDRB3HZODnHmMx18UC4wSdL": {
        "drc": {},
        "position": [
         39,
         86,
         29
        ],
        "scale": 1,
        "scene": "<openalea.plantgl.scenegraph._pglsg.Scene object at 0x7fb55902b570>"
       },
       "scene_92ZDeYBkqvGgeoWpaYHY5uJKY": {
        "drc": {},
        "position": [
         -3,
         -47,
         104
        ],
        "scale": 1,
        "scene": "<openalea.plantgl.scenegraph._pglsg.Scene object at 0x7fb5595fc3b0>"
       },
       "scene_96L0iNn9555rUaEbMbWOMbrWq": {
        "drc": {},
        "position": [
         -39,
         -67,
         -78
        ],
        "scale": 1,
        "scene": "<openalea.plantgl.scenegraph._pglsg.Scene object at 0x7fb55978bcf0>"
       },
       "scene_9MU7VDr7QKekOczcSoTcPvQOE": {
        "drc": {},
        "position": [
         -69,
         78,
         -123
        ],
        "scale": 1,
        "scene": "<openalea.plantgl.scenegraph._pglsg.Scene object at 0x7fb5597f96b0>"
       },
       "scene_9NSeZdg8lTiObiqwPwuqC9wOV": {
        "drc": {},
        "position": [
         77,
         23,
         112
        ],
        "scale": 1,
        "scene": "<openalea.plantgl.scenegraph._pglsg.Scene object at 0x7fb5594e8b70>"
       },
       "scene_9XUQmt6XYrQHqlAaDfaDLv5dJ": {
        "drc": {},
        "position": [
         29,
         -3,
         -32
        ],
        "scale": 1,
        "scene": "<openalea.plantgl.scenegraph._pglsg.Scene object at 0x7fb5597afe70>"
       },
       "scene_9XyvJ3UK3WfXwVwXQQMtpgxnQ": {
        "drc": {},
        "position": [
         -5,
         33,
         -28
        ],
        "scale": 1,
        "scene": "<openalea.plantgl.scenegraph._pglsg.Scene object at 0x7fb55960ee30>"
       },
       "scene_9b47XuP5PlGUrVpNQxGM7Wgho": {
        "drc": {},
        "position": [
         -42,
         -100,
         -91
        ],
        "scale": 1,
        "scene": "<openalea.plantgl.scenegraph._pglsg.Scene object at 0x7fb5595fc5f0>"
       },
       "scene_9q495Q6yyqWsXsMJldO6doUKx": {
        "drc": {},
        "position": [
         -83,
         27,
         65
        ],
        "scale": 1,
        "scene": "<openalea.plantgl.scenegraph._pglsg.Scene object at 0x7fb559474930>"
       },
       "scene_9xHNminZhUb79wSNA4ZSyXnD9": {
        "drc": {},
        "position": [
         71,
         72,
         28
        ],
        "scale": 1,
        "scene": "<openalea.plantgl.scenegraph._pglsg.Scene object at 0x7fb558f4ce30>"
       },
       "scene_A09Dtbl2ujWKBlI4Xvx63mSaA": {
        "drc": {},
        "position": [
         -112,
         -23,
         -11
        ],
        "scale": 1,
        "scene": "<openalea.plantgl.scenegraph._pglsg.Scene object at 0x7fb559719170>"
       },
       "scene_A36mTnoBz6d7QUFzkmrlYnoO4": {
        "drc": {},
        "position": [
         -1,
         -54,
         38
        ],
        "scale": 1,
        "scene": "<openalea.plantgl.scenegraph._pglsg.Scene object at 0x7fb55923fc30>"
       },
       "scene_ABDT4Y6f6v2fmei6VQyuPd7yd": {
        "drc": {},
        "position": [
         44,
         97,
         -93
        ],
        "scale": 1,
        "scene": "<openalea.plantgl.scenegraph._pglsg.Scene object at 0x7fb558d6f2f0>"
       },
       "scene_AOgVfE2OaPlgCvdxxqi3QVZGO": {
        "drc": {},
        "position": [
         -85,
         122,
         106
        ],
        "scale": 1,
        "scene": "<openalea.plantgl.scenegraph._pglsg.Scene object at 0x7fb5595452b0>"
       },
       "scene_APMYIj3gIdQnMZHHm38CpoSeZ": {
        "drc": {},
        "position": [
         28,
         -26,
         -15
        ],
        "scale": 1,
        "scene": "<openalea.plantgl.scenegraph._pglsg.Scene object at 0x7fb559808330>"
       },
       "scene_ASAxtDiknyut0UD9EBe7eniBr": {
        "drc": {},
        "position": [
         76,
         27,
         55
        ],
        "scale": 1,
        "scene": "<openalea.plantgl.scenegraph._pglsg.Scene object at 0x7fb5596d69f0>"
       },
       "scene_ATyEYtuSVlrDdStVcK1BqNACd": {
        "drc": {},
        "position": [
         71,
         21,
         19
        ],
        "scale": 1,
        "scene": "<openalea.plantgl.scenegraph._pglsg.Scene object at 0x7fb5596295f0>"
       },
       "scene_Acy1kCg3DNKUIa0yOmoVdNQK5": {
        "drc": {},
        "position": [
         121,
         -35,
         -54
        ],
        "scale": 1,
        "scene": "<openalea.plantgl.scenegraph._pglsg.Scene object at 0x7fb55903d730>"
       },
       "scene_AnQy975apMCI2J5lItyvQLHv7": {
        "drc": {},
        "position": [
         -52,
         -101,
         51
        ],
        "scale": 1,
        "scene": "<openalea.plantgl.scenegraph._pglsg.Scene object at 0x7fb55907d5f0>"
       },
       "scene_AoYcwNKDK8JQ2TBeM2vAlowmG": {
        "drc": {},
        "position": [
         103,
         -114,
         -71
        ],
        "scale": 1,
        "scene": "<openalea.plantgl.scenegraph._pglsg.Scene object at 0x7fb559605af0>"
       },
       "scene_AwprxypUj1GWzXN60LsWHMGed": {
        "drc": {},
        "position": [
         -109,
         -57,
         -55
        ],
        "scale": 1,
        "scene": "<openalea.plantgl.scenegraph._pglsg.Scene object at 0x7fb559450a30>"
       },
       "scene_AyZyjyPy6i19Dpj1NG9yek9LZ": {
        "drc": {},
        "position": [
         -93,
         -121,
         64
        ],
        "scale": 1,
        "scene": "<openalea.plantgl.scenegraph._pglsg.Scene object at 0x7fb558eb5e70>"
       },
       "scene_B18Xgtl6kn7Gub4OOR5p3B4JV": {
        "drc": {},
        "position": [
         -102,
         -88,
         1
        ],
        "scale": 1,
        "scene": "<openalea.plantgl.scenegraph._pglsg.Scene object at 0x7fb558f9e630>"
       },
       "scene_B2QEV0waVGDRZIB0E7KUBxmug": {
        "drc": {},
        "position": [
         43,
         122,
         -22
        ],
        "scale": 1,
        "scene": "<openalea.plantgl.scenegraph._pglsg.Scene object at 0x7fb55922ed70>"
       },
       "scene_BFQWSdn6lHM1IwSQQ1W3iAXBH": {
        "drc": {},
        "position": [
         28,
         -103,
         -50
        ],
        "scale": 1,
        "scene": "<openalea.plantgl.scenegraph._pglsg.Scene object at 0x7fb558d905b0>"
       },
       "scene_BHlzQbGTjrQmIufG6RIi0Ix1u": {
        "drc": {},
        "position": [
         -23,
         28,
         -16
        ],
        "scale": 1,
        "scene": "<openalea.plantgl.scenegraph._pglsg.Scene object at 0x7fb558f5e5b0>"
       },
       "scene_BQp48RDnXEFlr4ftrkLlWuKIU": {
        "drc": {},
        "position": [
         101,
         81,
         -98
        ],
        "scale": 1,
        "scene": "<openalea.plantgl.scenegraph._pglsg.Scene object at 0x7fb559117bf0>"
       },
       "scene_BbwKrQYvHPOjnM4Bra44OuVvz": {
        "drc": {},
        "position": [
         29,
         118,
         -56
        ],
        "scale": 1,
        "scene": "<openalea.plantgl.scenegraph._pglsg.Scene object at 0x7fb559263af0>"
       },
       "scene_Bckpamt27S7RvW8FxkFqor2SF": {
        "drc": {},
        "position": [
         -123,
         -60,
         -90
        ],
        "scale": 1,
        "scene": "<openalea.plantgl.scenegraph._pglsg.Scene object at 0x7fb5594f0df0>"
       },
       "scene_BmAUmi52fptnRVr3qP5iZeUMH": {
        "drc": {},
        "position": [
         -88,
         27,
         82
        ],
        "scale": 1,
        "scene": "<openalea.plantgl.scenegraph._pglsg.Scene object at 0x7fb55907dd70>"
       },
       "scene_CCIckzD9uDGfDaEcBBwFGFfs5": {
        "drc": {},
        "position": [
         -122,
         83,
         60
        ],
        "scale": 1,
        "scene": "<openalea.plantgl.scenegraph._pglsg.Scene object at 0x7fb559460bf0>"
       },
       "scene_CEzep8Lt94swWZ64fp6M0Oy7Y": {
        "drc": {},
        "position": [
         54,
         -21,
         117
        ],
        "scale": 1,
        "scene": "<openalea.plantgl.scenegraph._pglsg.Scene object at 0x7fb5597f9670>"
       },
       "scene_CcQWf48GPVP1Kh8zDq2asx2xy": {
        "drc": {},
        "position": [
         -125,
         -21,
         84
        ],
        "scale": 1,
        "scene": "<openalea.plantgl.scenegraph._pglsg.Scene object at 0x7fb5593f7db0>"
       },
       "scene_CtoXbYD1wAayn6gdd3BCe6ZSD": {
        "drc": {},
        "position": [
         124,
         -2,
         33
        ],
        "scale": 1,
        "scene": "<openalea.plantgl.scenegraph._pglsg.Scene object at 0x7fb5594f01b0>"
       },
       "scene_D0ycE4D7yFPyPmQX1qaNWCqlc": {
        "drc": {},
        "position": [
         44,
         123,
         -120
        ],
        "scale": 1,
        "scene": "<openalea.plantgl.scenegraph._pglsg.Scene object at 0x7fb5596791b0>"
       },
       "scene_D3kYZ2Jyi2NjH3NnXC7bGAQrw": {
        "drc": {},
        "position": [
         -42,
         4,
         19
        ],
        "scale": 1,
        "scene": "<openalea.plantgl.scenegraph._pglsg.Scene object at 0x7fb558efba70>"
       },
       "scene_DEdjLBK5UHwMFTS5UQuQDmbKJ": {
        "drc": {},
        "position": [
         96,
         50,
         3
        ],
        "scale": 1,
        "scene": "<openalea.plantgl.scenegraph._pglsg.Scene object at 0x7fb558f39330>"
       },
       "scene_DFflrwIyAcVKRTOTPQfukY97s": {
        "drc": {},
        "position": [
         110,
         -51,
         -60
        ],
        "scale": 1,
        "scene": "<openalea.plantgl.scenegraph._pglsg.Scene object at 0x7fb558edb930>"
       },
       "scene_DMCKDrmoOjYqNzUaOzgJW8F3v": {
        "drc": {},
        "position": [
         -94,
         1,
         27
        ],
        "scale": 1,
        "scene": "<openalea.plantgl.scenegraph._pglsg.Scene object at 0x7fb559521970>"
       },
       "scene_DOpkv7EvbB0t7E9FJLa0WfBpv": {
        "drc": {},
        "position": [
         -62,
         108,
         -9
        ],
        "scale": 1,
        "scene": "<openalea.plantgl.scenegraph._pglsg.Scene object at 0x7fb55965f630>"
       },
       "scene_DfxaFTxutZgz66L570v85euWR": {
        "drc": {},
        "position": [
         117,
         24,
         -3
        ],
        "scale": 1,
        "scene": "<openalea.plantgl.scenegraph._pglsg.Scene object at 0x7fb5594e1df0>"
       },
       "scene_E8a5eDkNwhCcEDQj8UV73lDFk": {
        "drc": {},
        "position": [
         44,
         107,
         33
        ],
        "scale": 1,
        "scene": "<openalea.plantgl.scenegraph._pglsg.Scene object at 0x7fb559084cb0>"
       },
       "scene_EKeBXLf99D15xLfB4VpqEXqIx": {
        "drc": {},
        "position": [
         -82,
         79,
         -105
        ],
        "scale": 1,
        "scene": "<openalea.plantgl.scenegraph._pglsg.Scene object at 0x7fb558f155f0>"
       },
       "scene_EMxwqBkpKcyXyy2BOZS9FOnfp": {
        "drc": {},
        "position": [
         114,
         -94,
         0
        ],
        "scale": 1,
        "scene": "<openalea.plantgl.scenegraph._pglsg.Scene object at 0x7fb5596d6d30>"
       },
       "scene_EUvuTg3RErmm7pOiC5BmKXNzY": {
        "drc": {},
        "position": [
         88,
         -51,
         -119
        ],
        "scale": 1,
        "scene": "<openalea.plantgl.scenegraph._pglsg.Scene object at 0x7fb5596e08f0>"
       },
       "scene_EgCOwTScur0xwrKp5dHNHfS4R": {
        "drc": {},
        "position": [
         -82,
         80,
         -32
        ],
        "scale": 1,
        "scene": "<openalea.plantgl.scenegraph._pglsg.Scene object at 0x7fb558eb53b0>"
       },
       "scene_ElRfdFzirQqlKxDkEc1VcK07r": {
        "drc": {},
        "position": [
         -83,
         12,
         -95
        ],
        "scale": 1,
        "scene": "<openalea.plantgl.scenegraph._pglsg.Scene object at 0x7fb5593d91b0>"
       },
       "scene_F4yy3S79DRWKiYVrRm916han9": {
        "drc": {},
        "position": [
         16,
         41,
         -112
        ],
        "scale": 1,
        "scene": "<openalea.plantgl.scenegraph._pglsg.Scene object at 0x7fb5590184b0>"
       },
       "scene_FEZd2ss1PSS4G5bqYyHQtszJu": {
        "drc": {},
        "position": [
         97,
         -71,
         10
        ],
        "scale": 1,
        "scene": "<openalea.plantgl.scenegraph._pglsg.Scene object at 0x7fb5594baa30>"
       },
       "scene_FLTBKVF2b26tObec9h3PuLqU2": {
        "drc": {},
        "position": [
         -53,
         -119,
         -92
        ],
        "scale": 1,
        "scene": "<openalea.plantgl.scenegraph._pglsg.Scene object at 0x7fb5597d3af0>"
       },
       "scene_FMVAAX7HCiddHmw4A97Pub914": {
        "drc": {},
        "position": [
         -80,
         119,
         -53
        ],
        "scale": 1,
        "scene": "<openalea.plantgl.scenegraph._pglsg.Scene object at 0x7fb55913b430>"
       },
       "scene_FV6NwN3q6dBPMYCID501fxtua": {
        "drc": {},
        "position": [
         -79,
         -79,
         91
        ],
        "scale": 1,
        "scene": "<openalea.plantgl.scenegraph._pglsg.Scene object at 0x7fb559767cb0>"
       },
       "scene_Fb9OJUrMAaNEMmmTwqoIueqvR": {
        "drc": {},
        "position": [
         18,
         -15,
         -107
        ],
        "scale": 1,
        "scene": "<openalea.plantgl.scenegraph._pglsg.Scene object at 0x7fb559672db0>"
       },
       "scene_FjWTjUX6XgTgKWgDkXym00gLa": {
        "drc": {},
        "position": [
         84,
         -60,
         92
        ],
        "scale": 1,
        "scene": "<openalea.plantgl.scenegraph._pglsg.Scene object at 0x7fb5591e0730>"
       },
       "scene_Fk7lwSovRmfHLx7HhPn1Ca0Oo": {
        "drc": {},
        "position": [
         -13,
         -32,
         -117
        ],
        "scale": 1,
        "scene": "<openalea.plantgl.scenegraph._pglsg.Scene object at 0x7fb55966a970>"
       },
       "scene_FnPutie8MGDtu7vWRAu6QFM4u": {
        "drc": {},
        "position": [
         116,
         60,
         -100
        ],
        "scale": 1,
        "scene": "<openalea.plantgl.scenegraph._pglsg.Scene object at 0x7fb55970e3f0>"
       },
       "scene_FsaG1d7t3w3cqysBKUfTpI0uk": {
        "drc": {},
        "position": [
         114,
         53,
         82
        ],
        "scale": 1,
        "scene": "<openalea.plantgl.scenegraph._pglsg.Scene object at 0x7fb559381630>"
       },
       "scene_FwBTXiavfCQlm9S940poeAe2I": {
        "drc": {},
        "position": [
         -77,
         -91,
         -45
        ],
        "scale": 1,
        "scene": "<openalea.plantgl.scenegraph._pglsg.Scene object at 0x7fb5593e1870>"
       },
       "scene_G9uHVk1VABOiSWmdk6IyjLfoj": {
        "drc": {},
        "position": [
         -103,
         77,
         58
        ],
        "scale": 1,
        "scene": "<openalea.plantgl.scenegraph._pglsg.Scene object at 0x7fb558ebc9b0>"
       },
       "scene_GNLRN8kgiOd7swx9HaoBy4mu6": {
        "drc": {},
        "position": [
         89,
         97,
         42
        ],
        "scale": 1,
        "scene": "<openalea.plantgl.scenegraph._pglsg.Scene object at 0x7fb558fa6cf0>"
       },
       "scene_GSM0QU4bkttdwqkD6URS2sv4Z": {
        "drc": {},
        "position": [
         -30,
         53,
         18
        ],
        "scale": 1,
        "scene": "<openalea.plantgl.scenegraph._pglsg.Scene object at 0x7fb5593c8a70>"
       },
       "scene_GZiBeetYvz8zWFSq7YzFl5Z1W": {
        "drc": {},
        "position": [
         -108,
         -6,
         -61
        ],
        "scale": 1,
        "scene": "<openalea.plantgl.scenegraph._pglsg.Scene object at 0x7fb55936daf0>"
       },
       "scene_Gdwzdqg5J4UGU45qPnTVY0TKT": {
        "drc": {},
        "position": [
         -117,
         -110,
         22
        ],
        "scale": 1,
        "scene": "<openalea.plantgl.scenegraph._pglsg.Scene object at 0x7fb559578c70>"
       },
       "scene_Gn53Ps12nzpTLeuSe3d24iQgt": {
        "drc": {},
        "position": [
         -22,
         112,
         -99
        ],
        "scale": 1,
        "scene": "<openalea.plantgl.scenegraph._pglsg.Scene object at 0x7fb558d9bb30>"
       },
       "scene_GpS5HxY9dUgF45xmuggiLMrzC": {
        "drc": {},
        "position": [
         87,
         2,
         28
        ],
        "scale": 1,
        "scene": "<openalea.plantgl.scenegraph._pglsg.Scene object at 0x7fb559293ef0>"
       },
       "scene_Gxe1efdNMh0tcx7gMPMc6y2tI": {
        "drc": {},
        "position": [
         63,
         54,
         87
        ],
        "scale": 1,
        "scene": "<openalea.plantgl.scenegraph._pglsg.Scene object at 0x7fb559854930>"
       },
       "scene_HDnP9Y9LubMgDiRd7YxW92BWv": {
        "drc": {},
        "position": [
         -7,
         112,
         125
        ],
        "scale": 1,
        "scene": "<openalea.plantgl.scenegraph._pglsg.Scene object at 0x7fb5595c79b0>"
       },
       "scene_HMq2WQQJtqoCLB5JGsaKI1y06": {
        "drc": {},
        "position": [
         51,
         -39,
         -76
        ],
        "scale": 1,
        "scene": "<openalea.plantgl.scenegraph._pglsg.Scene object at 0x7fb55963cdf0>"
       },
       "scene_HUNYLy8jZCC36Tu6qFL0vG8y0": {
        "drc": {},
        "position": [
         -83,
         6,
         -120
        ],
        "scale": 1,
        "scene": "<openalea.plantgl.scenegraph._pglsg.Scene object at 0x7fb5591c6bb0>"
       },
       "scene_He8ZXrbInreB1H3negCP3lDGL": {
        "drc": {},
        "position": [
         60,
         72,
         -105
        ],
        "scale": 1,
        "scene": "<openalea.plantgl.scenegraph._pglsg.Scene object at 0x7fb558ddadb0>"
       },
       "scene_Hvld88fRm38afJA2ebp451t0k": {
        "drc": {},
        "position": [
         95,
         101,
         12
        ],
        "scale": 1,
        "scene": "<openalea.plantgl.scenegraph._pglsg.Scene object at 0x7fb55925bf30>"
       },
       "scene_HwyNNn08w95ujWRNRjWU9R9E4": {
        "drc": {},
        "position": [
         -122,
         89,
         -22
        ],
        "scale": 1,
        "scene": "<openalea.plantgl.scenegraph._pglsg.Scene object at 0x7fb5591e0c70>"
       },
       "scene_IKuPqnAInPtU18GWZ8wH3Psvb": {
        "drc": {},
        "position": [
         61,
         -42,
         25
        ],
        "scale": 1,
        "scene": "<openalea.plantgl.scenegraph._pglsg.Scene object at 0x7fb55982c4b0>"
       },
       "scene_INH98VcOoteJ3Of3W8BP4mHYG": {
        "drc": {},
        "position": [
         112,
         -23,
         121
        ],
        "scale": 1,
        "scene": "<openalea.plantgl.scenegraph._pglsg.Scene object at 0x7fb55919cfb0>"
       },
       "scene_IPpXevM4AJxYmqMmymRcE5xsk": {
        "drc": {},
        "position": [
         -53,
         -7,
         41
        ],
        "scale": 1,
        "scene": "<openalea.plantgl.scenegraph._pglsg.Scene object at 0x7fb559505570>"
       },
       "scene_ISAln6IlIzNep8iIwZJwMVUYG": {
        "drc": {},
        "position": [
         -104,
         6,
         -123
        ],
        "scale": 1,
        "scene": "<openalea.plantgl.scenegraph._pglsg.Scene object at 0x7fb559921bf0>"
       },
       "scene_IW5KGfttgbsLlHBLRtA7qbPK6": {
        "drc": {},
        "position": [
         -97,
         -37,
         -37
        ],
        "scale": 1,
        "scene": "<openalea.plantgl.scenegraph._pglsg.Scene object at 0x7fb55939c3b0>"
       },
       "scene_IhThSXhXdYEyiaVkSNj6rGAas": {
        "drc": {},
        "position": [
         65,
         88,
         -3
        ],
        "scale": 1,
        "scene": "<openalea.plantgl.scenegraph._pglsg.Scene object at 0x7fb55964d6f0>"
       },
       "scene_Io9jEycE15lGdSl9FT441k6en": {
        "drc": {},
        "position": [
         -51,
         -100,
         -112
        ],
        "scale": 1,
        "scene": "<openalea.plantgl.scenegraph._pglsg.Scene object at 0x7fb5595e43f0>"
       },
       "scene_IvRb9MBd3d6RLAP6C1eUh2wlP": {
        "drc": {},
        "position": [
         69,
         -69,
         -58
        ],
        "scale": 1,
        "scene": "<openalea.plantgl.scenegraph._pglsg.Scene object at 0x7fb55939c370>"
       },
       "scene_JLMvydRTG2A7VGqWJVJHOT8rB": {
        "drc": {},
        "position": [
         -92,
         -37,
         -66
        ],
        "scale": 1,
        "scene": "<openalea.plantgl.scenegraph._pglsg.Scene object at 0x7fb559694570>"
       },
       "scene_JO0XUAawMIdV35U8iSorJzLv8": {
        "drc": {},
        "position": [
         -67,
         -117,
         -72
        ],
        "scale": 1,
        "scene": "<openalea.plantgl.scenegraph._pglsg.Scene object at 0x7fb5593c86b0>"
       },
       "scene_JRVTW43DbbP6zlSkbbRQtX6cg": {
        "drc": {},
        "position": [
         -19,
         94,
         -29
        ],
        "scale": 1,
        "scene": "<openalea.plantgl.scenegraph._pglsg.Scene object at 0x7fb559433b70>"
       },
       "scene_K7pi2PTv3CWU8HivDNEiGm6r3": {
        "drc": {},
        "position": [
         125,
         88,
         -116
        ],
        "scale": 1,
        "scene": "<openalea.plantgl.scenegraph._pglsg.Scene object at 0x7fb5592a4fb0>"
       },
       "scene_KRY5Ykqufc0R5Na0EOq8uHW5m": {
        "drc": {},
        "position": [
         -14,
         -97,
         68
        ],
        "scale": 1,
        "scene": "<openalea.plantgl.scenegraph._pglsg.Scene object at 0x7fb5593eb8b0>"
       },
       "scene_KZ3grrG8nCnUg4z3otRm7Fi3P": {
        "drc": {},
        "position": [
         -108,
         10,
         -77
        ],
        "scale": 1,
        "scene": "<openalea.plantgl.scenegraph._pglsg.Scene object at 0x7fb5594175f0>"
       },
       "scene_KrS3fHmIyvkoRfGacQ3me9wwj": {
        "drc": {},
        "position": [
         -59,
         -98,
         -17
        ],
        "scale": 1,
        "scene": "<openalea.plantgl.scenegraph._pglsg.Scene object at 0x7fb5591ce770>"
       },
       "scene_Kt22oiEfpQBG7Kx8ltFYaa9V7": {
        "drc": {},
        "position": [
         -11,
         57,
         92
        ],
        "scale": 1,
        "scene": "<openalea.plantgl.scenegraph._pglsg.Scene object at 0x7fb55961b670>"
       },
       "scene_Kxq5eXPyjj0VNuPqdILkRIevH": {
        "drc": {},
        "position": [
         -15,
         97,
         59
        ],
        "scale": 1,
        "scene": "<openalea.plantgl.scenegraph._pglsg.Scene object at 0x7fb559417d70>"
       },
       "scene_KzFX9c2MTJRDXTHksoJrzmqtP": {
        "drc": {},
        "position": [
         126,
         -56,
         72
        ],
        "scale": 1,
        "scene": "<openalea.plantgl.scenegraph._pglsg.Scene object at 0x7fb5596bc4b0>"
       },
       "scene_LD94kSdlRZQAOd816cQEklaJx": {
        "drc": {},
        "position": [
         -120,
         -62,
         20
        ],
        "scale": 1,
        "scene": "<openalea.plantgl.scenegraph._pglsg.Scene object at 0x7fb58c0764f0>"
       },
       "scene_LIg9Hdewa47elofGVj7CrCy7c": {
        "drc": {},
        "position": [
         -90,
         -21,
         -29
        ],
        "scale": 1,
        "scene": "<openalea.plantgl.scenegraph._pglsg.Scene object at 0x7fb559408df0>"
       },
       "scene_LKDTVl38n2jxznt2EkaOwdT9c": {
        "drc": {},
        "position": [
         -101,
         -18,
         -13
        ],
        "scale": 1,
        "scene": "<openalea.plantgl.scenegraph._pglsg.Scene object at 0x7fb558dd27b0>"
       },
       "scene_LOIUSZWE83mlDaeNzx9aaUagJ": {
        "drc": {},
        "position": [
         102,
         -1,
         -89
        ],
        "scale": 1,
        "scene": "<openalea.plantgl.scenegraph._pglsg.Scene object at 0x7fb559051930>"
       },
       "scene_Lctxwli48ba43av31EIpjvRq5": {
        "drc": {},
        "position": [
         -68,
         -107,
         -106
        ],
        "scale": 1,
        "scene": "<openalea.plantgl.scenegraph._pglsg.Scene object at 0x7fb559129d70>"
       },
       "scene_M0K60ktvJeYqpVLyWxxNdaPCj": {
        "drc": {},
        "position": [
         -54,
         42,
         -30
        ],
        "scale": 1,
        "scene": "<openalea.plantgl.scenegraph._pglsg.Scene object at 0x7fb5598e81b0>"
       },
       "scene_MAl38lKVAWGL2GHsHT6Ou5YEa": {
        "drc": {},
        "position": [
         -46,
         74,
         119
        ],
        "scale": 1,
        "scene": "<openalea.plantgl.scenegraph._pglsg.Scene object at 0x7fb5596afdb0>"
       },
       "scene_MLUYMFAuG4lEF2E85PNmZwQSf": {
        "drc": {},
        "position": [
         61,
         -7,
         83
        ],
        "scale": 1,
        "scene": "<openalea.plantgl.scenegraph._pglsg.Scene object at 0x7fb55915ddf0>"
       },
       "scene_MNvybsPJrVQJOFEo5ixFoK5Kv": {
        "drc": {},
        "position": [
         -61,
         -117,
         -11
        ],
        "scale": 1,
        "scene": "<openalea.plantgl.scenegraph._pglsg.Scene object at 0x7fb558da9570>"
       },
       "scene_Mf5TlrLvb9EB6uB0Mw3OK0R40": {
        "drc": {},
        "position": [
         69,
         -41,
         -49
        ],
        "scale": 1,
        "scene": "<openalea.plantgl.scenegraph._pglsg.Scene object at 0x7fb55987aa30>"
       },
       "scene_MfbZqy6qYYjDARVJjQ5GSeZL9": {
        "drc": {},
        "position": [
         58,
         -110,
         73
        ],
        "scale": 1,
        "scene": "<openalea.plantgl.scenegraph._pglsg.Scene object at 0x7fb5593812f0>"
       },
       "scene_MpRIXS0KagZmBN6gXgdYbzUiT": {
        "drc": {},
        "position": [
         32,
         88,
         6
        ],
        "scale": 1,
        "scene": "<openalea.plantgl.scenegraph._pglsg.Scene object at 0x7fb5596bcfb0>"
       },
       "scene_MqAxzylBQhqL0ko7r8Y03ptkK": {
        "drc": {},
        "position": [
         59,
         27,
         -21
        ],
        "scale": 1,
        "scene": "<openalea.plantgl.scenegraph._pglsg.Scene object at 0x7fb55920ebb0>"
       },
       "scene_MuIeixNDCTkziVAjrW7SHmcW7": {
        "drc": {},
        "position": [
         102,
         4,
         -20
        ],
        "scale": 1,
        "scene": "<openalea.plantgl.scenegraph._pglsg.Scene object at 0x7fb558e05db0>"
       },
       "scene_MyQVuVyjPK5tMtxU9ngoGZyTj": {
        "drc": {},
        "position": [
         64,
         99,
         -74
        ],
        "scale": 1,
        "scene": "<openalea.plantgl.scenegraph._pglsg.Scene object at 0x7fb55942c630>"
       },
       "scene_N4nXZFMTAMFoNJrKkrLnhe3aM": {
        "drc": {},
        "position": [
         -43,
         6,
         -99
        ],
        "scale": 1,
        "scene": "<openalea.plantgl.scenegraph._pglsg.Scene object at 0x7fb55987abf0>"
       },
       "scene_N5UlTYdnztjfDJ6Erwl8wcLYA": {
        "drc": {},
        "position": [
         50,
         33,
         -73
        ],
        "scale": 1,
        "scene": "<openalea.plantgl.scenegraph._pglsg.Scene object at 0x7fb558ee4570>"
       },
       "scene_NAiEPSydqHDZl2zcytsSrxTzi": {
        "drc": {},
        "position": [
         -99,
         -113,
         4
        ],
        "scale": 1,
        "scene": "<openalea.plantgl.scenegraph._pglsg.Scene object at 0x7fb558de38b0>"
       },
       "scene_NGGY5VEeYOskKweMsSzMv3Kog": {
        "drc": {},
        "position": [
         108,
         29,
         -93
        ],
        "scale": 1,
        "scene": "<openalea.plantgl.scenegraph._pglsg.Scene object at 0x7fb559474770>"
       },
       "scene_NVpx7EitisvA6JUgBnxXz4nGL": {
        "drc": {},
        "position": [
         -32,
         -59,
         115
        ],
        "scale": 1,
        "scene": "<openalea.plantgl.scenegraph._pglsg.Scene object at 0x7fb559381b70>"
       },
       "scene_NaO1nE9G8A7EmquNYTMNXTg8Q": {
        "drc": {},
        "position": [
         34,
         -5,
         -121
        ],
        "scale": 1,
        "scene": "<openalea.plantgl.scenegraph._pglsg.Scene object at 0x7fb55913bfb0>"
       },
       "scene_Ng6D8qpioG7lf8pBULK9nINli": {
        "drc": {},
        "position": [
         -90,
         68,
         -48
        ],
        "scale": 1,
        "scene": "<openalea.plantgl.scenegraph._pglsg.Scene object at 0x7fb559694d70>"
       },
       "scene_NhQnhIptqToKE8GfwQX32nFlL": {
        "drc": {},
        "position": [
         12,
         24,
         28
        ],
        "scale": 1,
        "scene": "<openalea.plantgl.scenegraph._pglsg.Scene object at 0x7fb559629f70>"
       },
       "scene_NtUk2kcLiy9LpCJLDgl5c6xkP": {
        "drc": {},
        "position": [
         46,
         103,
         80
        ],
        "scale": 1,
        "scene": "<openalea.plantgl.scenegraph._pglsg.Scene object at 0x7fb558da9fb0>"
       },
       "scene_NyHySIBE5YyCpR4TifzvPxCwo": {
        "drc": {},
        "position": [
         64,
         70,
         116
        ],
        "scale": 1,
        "scene": "<openalea.plantgl.scenegraph._pglsg.Scene object at 0x7fb5594fb9b0>"
       },
       "scene_O669xXMzSX7owjPgDj56VZMvw": {
        "drc": {},
        "position": [
         -70,
         -59,
         -98
        ],
        "scale": 1,
        "scene": "<openalea.plantgl.scenegraph._pglsg.Scene object at 0x7fb5590d7d70>"
       },
       "scene_O6K6lrxnJ3FVkZn5TDI5AoN6e": {
        "drc": {},
        "position": [
         -111,
         -34,
         -53
        ],
        "scale": 1,
        "scene": "<openalea.plantgl.scenegraph._pglsg.Scene object at 0x7fb55959ebf0>"
       },
       "scene_OBr39e9Imw7deEljAZ4wCmKTp": {
        "drc": {},
        "position": [
         123,
         -111,
         21
        ],
        "scale": 1,
        "scene": "<openalea.plantgl.scenegraph._pglsg.Scene object at 0x7fb5594ab830>"
       },
       "scene_OBrVuD0gqKa8urRwiHtXQkFsH": {
        "drc": {},
        "position": [
         -22,
         -38,
         101
        ],
        "scale": 1,
        "scene": "<openalea.plantgl.scenegraph._pglsg.Scene object at 0x7fb5595fc770>"
       },
       "scene_OCIo0Mc2DR9aJZdsJq497PEE1": {
        "drc": {},
        "position": [
         12,
         72,
         2
        ],
        "scale": 1,
        "scene": "<openalea.plantgl.scenegraph._pglsg.Scene object at 0x7fb5592527f0>"
       },
       "scene_OLYMBY0CjCxcxtXTIy6zUXvq4": {
        "drc": {},
        "position": [
         20,
         93,
         107
        ],
        "scale": 1,
        "scene": "<openalea.plantgl.scenegraph._pglsg.Scene object at 0x7fb559625df0>"
       },
       "scene_ON6EK2npuK7Ac7ICljksk93LY": {
        "drc": {},
        "position": [
         89,
         -80,
         -14
        ],
        "scale": 1,
        "scene": "<openalea.plantgl.scenegraph._pglsg.Scene object at 0x7fb55940ca70>"
       },
       "scene_OjWqpPC4JX3UINNNCdvdkN4fq": {
        "drc": {},
        "position": [
         1,
         -43,
         -63
        ],
        "scale": 1,
        "scene": "<openalea.plantgl.scenegraph._pglsg.Scene object at 0x7fb558f9eeb0>"
       },
       "scene_OkWu7p1wjYIMGaMqjMxKuQTeV": {
        "drc": {},
        "position": [
         116,
         -94,
         -23
        ],
        "scale": 1,
        "scene": "<openalea.plantgl.scenegraph._pglsg.Scene object at 0x7fb559770370>"
       },
       "scene_OpWYdr3cVhTcWg549F6sJDeps": {
        "drc": {},
        "position": [
         -59,
         -95,
         126
        ],
        "scale": 1,
        "scene": "<openalea.plantgl.scenegraph._pglsg.Scene object at 0x7fb5598fca70>"
       },
       "scene_OrWNJoiMVvPDKCAb1JZScvtBs": {
        "drc": {},
        "position": [
         15,
         -86,
         -123
        ],
        "scale": 1,
        "scene": "<openalea.plantgl.scenegraph._pglsg.Scene object at 0x7fb5595940b0>"
       },
       "scene_OsN4YgjlymYtK3HuxJRtJTgrp": {
        "drc": {},
        "position": [
         119,
         118,
         26
        ],
        "scale": 1,
        "scene": "<openalea.plantgl.scenegraph._pglsg.Scene object at 0x7fb5597700b0>"
       },
       "scene_P4WsDAtZ70YhCKZama1VUFQja": {
        "drc": {},
        "position": [
         -88,
         101,
         118
        ],
        "scale": 1,
        "scene": "<openalea.plantgl.scenegraph._pglsg.Scene object at 0x7fb559658b70>"
       },
       "scene_P6GhyVevXcf1tiy19Qoj4zBSx": {
        "drc": {},
        "position": [
         -15,
         -16,
         -58
        ],
        "scale": 1,
        "scene": "<openalea.plantgl.scenegraph._pglsg.Scene object at 0x7fb559505270>"
       },
       "scene_P7QqeBIitsIe6ONptXtkklLtL": {
        "drc": {},
        "position": [
         -121,
         0,
         118
        ],
        "scale": 1,
        "scene": "<openalea.plantgl.scenegraph._pglsg.Scene object at 0x7fb558f04df0>"
       },
       "scene_PGRMcjZv8jdGoNghM7spbjJRa": {
        "drc": {},
        "position": [
         54,
         -101,
         -115
        ],
        "scale": 1,
        "scene": "<openalea.plantgl.scenegraph._pglsg.Scene object at 0x7fb558dc0b30>"
       },
       "scene_PVYULlcv0s7bfyJlj3GFNOvVJ": {
        "drc": {},
        "position": [
         -52,
         -32,
         118
        ],
        "scale": 1,
        "scene": "<openalea.plantgl.scenegraph._pglsg.Scene object at 0x7fb55990fa30>"
       },
       "scene_Pd6KpJK5Iq0UKg8PlAyHvDojV": {
        "drc": {},
        "position": [
         -57,
         -40,
         -87
        ],
        "scale": 1,
        "scene": "<openalea.plantgl.scenegraph._pglsg.Scene object at 0x7fb55948fd70>"
       },
       "scene_Pm4HdciT544r6TDsH4RJlulTs": {
        "drc": {},
        "position": [
         113,
         -9,
         -37
        ],
        "scale": 1,
        "scene": "<openalea.plantgl.scenegraph._pglsg.Scene object at 0x7fb559457d70>"
       },
       "scene_PmpSdzi5gWFkA7isp7rP0tZwP": {
        "drc": {},
        "position": [
         55,
         63,
         27
        ],
        "scale": 1,
        "scene": "<openalea.plantgl.scenegraph._pglsg.Scene object at 0x7fb5599736f0>"
       },
       "scene_Ppy1ewZGMUeeU10q6cFHKDRxC": {
        "drc": {},
        "position": [
         0,
         105,
         113
        ],
        "scale": 1,
        "scene": "<openalea.plantgl.scenegraph._pglsg.Scene object at 0x7fb5595ea2f0>"
       },
       "scene_PrsoOTRnDPRQtnZOX6EchsODH": {
        "drc": {},
        "position": [
         79,
         1,
         95
        ],
        "scale": 1,
        "scene": "<openalea.plantgl.scenegraph._pglsg.Scene object at 0x7fb5597decb0>"
       },
       "scene_Q7gKbpvoOHYss7qxQOwah8MCR": {
        "drc": {},
        "position": [
         83,
         52,
         -14
        ],
        "scale": 1,
        "scene": "<openalea.plantgl.scenegraph._pglsg.Scene object at 0x7fb5595ae0b0>"
       },
       "scene_Q8hmH5jPmgS4BSIChvFhOiqyv": {
        "drc": {},
        "position": [
         -46,
         -82,
         -2
        ],
        "scale": 1,
        "scene": "<openalea.plantgl.scenegraph._pglsg.Scene object at 0x7fb55950fe30>"
       },
       "scene_QFzuJYbPKSAHtKP4qN565usad": {
        "drc": {},
        "position": [
         -44,
         43,
         26
        ],
        "scale": 1,
        "scene": "<openalea.plantgl.scenegraph._pglsg.Scene object at 0x7fb558e18f70>"
       },
       "scene_QLIU9Qa5iqq9SXxP8KQl3Eh61": {
        "drc": {},
        "position": [
         -118,
         -47,
         -38
        ],
        "scale": 1,
        "scene": "<openalea.plantgl.scenegraph._pglsg.Scene object at 0x7fb559808970>"
       },
       "scene_QLZqv7itEpT01bjBM7YhVWHYu": {
        "drc": {},
        "position": [
         -117,
         -75,
         -28
        ],
        "scale": 1,
        "scene": "<openalea.plantgl.scenegraph._pglsg.Scene object at 0x7fb5595f4a30>"
       },
       "scene_QZsJTkzxnPIPCZ3ub8M7sqMeO": {
        "drc": {},
        "position": [
         -8,
         66,
         98
        ],
        "scale": 1,
        "scene": "<openalea.plantgl.scenegraph._pglsg.Scene object at 0x7fb5590a92b0>"
       },
       "scene_QdGvb6r8vaAvOFBA4AGxVhY1u": {
        "drc": {},
        "position": [
         55,
         -17,
         22
        ],
        "scale": 1,
        "scene": "<openalea.plantgl.scenegraph._pglsg.Scene object at 0x7fb5590bcdf0>"
       },
       "scene_QlqURYOnOaouAvh64xCWHmeSr": {
        "drc": {},
        "position": [
         -118,
         -15,
         101
        ],
        "scale": 1,
        "scene": "<openalea.plantgl.scenegraph._pglsg.Scene object at 0x7fb559496d70>"
       },
       "scene_QmhI3KLsNSRBji97OJTonurOx": {
        "drc": {},
        "position": [
         -38,
         2,
         -85
        ],
        "scale": 1,
        "scene": "<openalea.plantgl.scenegraph._pglsg.Scene object at 0x7fb5598feeb0>"
       },
       "scene_Qw5tvVzhrhVjFruhfbQ9HK61e": {
        "drc": {},
        "position": [
         111,
         0,
         -70
        ],
        "scale": 1,
        "scene": "<openalea.plantgl.scenegraph._pglsg.Scene object at 0x7fb558de9ef0>"
       },
       "scene_R5QME3vyjMQ7Trk7ig3LseBJT": {
        "drc": {},
        "position": [
         -17,
         56,
         49
        ],
        "scale": 1,
        "scene": "<openalea.plantgl.scenegraph._pglsg.Scene object at 0x7fb559672bb0>"
       },
       "scene_RAyNYZ2Ml4j3usDxM7s6DW4lE": {
        "drc": {},
        "position": [
         93,
         -91,
         -34
        ],
        "scale": 1,
        "scene": "<openalea.plantgl.scenegraph._pglsg.Scene object at 0x7fb559007e70>"
       },
       "scene_RDz6jFfsjhqE4MMi6zVo4HXxy": {
        "drc": {},
        "position": [
         70,
         -8,
         -29
        ],
        "scale": 1,
        "scene": "<openalea.plantgl.scenegraph._pglsg.Scene object at 0x7fb558f818f0>"
       },
       "scene_RErkIItjNnpc3U2VIzzfqjo0T": {
        "drc": {},
        "position": [
         103,
         39,
         44
        ],
        "scale": 1,
        "scene": "<openalea.plantgl.scenegraph._pglsg.Scene object at 0x7fb559460eb0>"
       },
       "scene_RFXUbGkefWD54VnR9cPe45SKP": {
        "drc": {},
        "position": [
         -80,
         38,
         -93
        ],
        "scale": 1,
        "scene": "<openalea.plantgl.scenegraph._pglsg.Scene object at 0x7fb558f2d8b0>"
       },
       "scene_RLFp1jMZzGXCMP8z0NMXpcdxS": {
        "drc": {},
        "position": [
         41,
         1,
         55
        ],
        "scale": 1,
        "scene": "<openalea.plantgl.scenegraph._pglsg.Scene object at 0x7fb559486a70>"
       },
       "scene_RO2ckPIlcAoNfis3yQkSL4sPb": {
        "drc": {},
        "position": [
         -70,
         119,
         -21
        ],
        "scale": 1,
        "scene": "<openalea.plantgl.scenegraph._pglsg.Scene object at 0x7fb558f6d7b0>"
       },
       "scene_RmUpgQPhywanr5hstwZiluGua": {
        "drc": {},
        "position": [
         -30,
         -125,
         -6
        ],
        "scale": 1,
        "scene": "<openalea.plantgl.scenegraph._pglsg.Scene object at 0x7fb5594a0930>"
       },
       "scene_RsFoOVs83bS5BgCXjGORmHhbI": {
        "drc": {},
        "position": [
         21,
         81,
         36
        ],
        "scale": 1,
        "scene": "<openalea.plantgl.scenegraph._pglsg.Scene object at 0x7fb5590a59b0>"
       },
       "scene_S2rDR3gUYKOqRWBBmTYnw0HXB": {
        "drc": {},
        "position": [
         -24,
         -121,
         5
        ],
        "scale": 1,
        "scene": "<openalea.plantgl.scenegraph._pglsg.Scene object at 0x7fb55902b870>"
       },
       "scene_S4sIaCKnj3rG03ryMOBZfL6AE": {
        "drc": {},
        "position": [
         107,
         -19,
         76
        ],
        "scale": 1,
        "scene": "<openalea.plantgl.scenegraph._pglsg.Scene object at 0x7fb5595d3770>"
       },
       "scene_SEBDcK1iAKJBLz9SvZAiiU69X": {
        "drc": {},
        "position": [
         -102,
         61,
         -9
        ],
        "scale": 1,
        "scene": "<openalea.plantgl.scenegraph._pglsg.Scene object at 0x7fb559821db0>"
       },
       "scene_SEGrVlLAq9BsDujSYYFtzKbAN": {
        "drc": {},
        "position": [
         -59,
         89,
         -101
        ],
        "scale": 1,
        "scene": "<openalea.plantgl.scenegraph._pglsg.Scene object at 0x7fb55956eef0>"
       },
       "scene_STQpZ1HsBkixdTugdYI6FDfpW": {
        "drc": {},
        "position": [
         67,
         -62,
         -31
        ],
        "scale": 1,
        "scene": "<openalea.plantgl.scenegraph._pglsg.Scene object at 0x7fb559781bf0>"
       },
       "scene_SfRFLQRfiwKIWlCr0ORzqoNIX": {
        "drc": {},
        "position": [
         110,
         76,
         44
        ],
        "scale": 1,
        "scene": "<openalea.plantgl.scenegraph._pglsg.Scene object at 0x7fb5596af6f0>"
       },
       "scene_SfgiDeFHzWtmlN1dJfEfv3QGc": {
        "drc": {},
        "position": [
         117,
         -70,
         -81
        ],
        "scale": 1,
        "scene": "<openalea.plantgl.scenegraph._pglsg.Scene object at 0x7fb55936d9f0>"
       },
       "scene_SkbZoQKz4Z0RRF0f097y1h9Nf": {
        "drc": {},
        "position": [
         -80,
         -44,
         37
        ],
        "scale": 1,
        "scene": "<openalea.plantgl.scenegraph._pglsg.Scene object at 0x7fb5597de4f0>"
       },
       "scene_T0xv4244kCcGO43TOIoxPpraY": {
        "drc": {},
        "position": [
         37,
         -86,
         -75
        ],
        "scale": 1,
        "scene": "<openalea.plantgl.scenegraph._pglsg.Scene object at 0x7fb5595219b0>"
       },
       "scene_T72dbZuMkTblKXYY7jIsoCF3k": {
        "drc": {},
        "position": [
         -110,
         60,
         -43
        ],
        "scale": 1,
        "scene": "<openalea.plantgl.scenegraph._pglsg.Scene object at 0x7fb5591d8df0>"
       },
       "scene_T7KJ9EJ7qEPcoMF8dCy6zRAfV": {
        "drc": {},
        "position": [
         -44,
         40,
         -90
        ],
        "scale": 1,
        "scene": "<openalea.plantgl.scenegraph._pglsg.Scene object at 0x7fb5596d60b0>"
       },
       "scene_T8MsIUxK4w9gQr4yiFKZOfy6e": {
        "drc": {},
        "position": [
         -117,
         -104,
         -82
        ],
        "scale": 1,
        "scene": "<openalea.plantgl.scenegraph._pglsg.Scene object at 0x7fb5594c3d70>"
       },
       "scene_TKLNsKbAlqdOQW6ALlzm9EzFY": {
        "drc": {},
        "position": [
         -96,
         70,
         108
        ],
        "scale": 1,
        "scene": "<openalea.plantgl.scenegraph._pglsg.Scene object at 0x7fb55968d9b0>"
       },
       "scene_TMFIlTbIrB5QyktEVWAQFa50d": {
        "drc": {},
        "position": [
         29,
         16,
         -118
        ],
        "scale": 1,
        "scene": "<openalea.plantgl.scenegraph._pglsg.Scene object at 0x7fb558e6eb30>"
       },
       "scene_TTgbC7dZPSoHfginX5CAp88WS": {
        "drc": {},
        "position": [
         8,
         111,
         50
        ],
        "scale": 1,
        "scene": "<openalea.plantgl.scenegraph._pglsg.Scene object at 0x7fb55970e930>"
       },
       "scene_ToINdI9eYfHRXH58eCAgKGtkZ": {
        "drc": {},
        "position": [
         -34,
         0,
         7
        ],
        "scale": 1,
        "scene": "<openalea.plantgl.scenegraph._pglsg.Scene object at 0x7fb558ee4df0>"
       },
       "scene_U8IVTjmHjkvIfYpW50ZpTJiyc": {
        "drc": {},
        "position": [
         51,
         -106,
         10
        ],
        "scale": 1,
        "scene": "<openalea.plantgl.scenegraph._pglsg.Scene object at 0x7fb55952fd70>"
       },
       "scene_UEjCk4meVkryJpqeAVjg450K5": {
        "drc": {},
        "position": [
         48,
         -15,
         -90
        ],
        "scale": 1,
        "scene": "<openalea.plantgl.scenegraph._pglsg.Scene object at 0x7fb55955edb0>"
       },
       "scene_UJUJXG5TXmTGKr9hKPzRJiUDf": {
        "drc": {},
        "position": [
         45,
         -44,
         8
        ],
        "scale": 1,
        "scene": "<openalea.plantgl.scenegraph._pglsg.Scene object at 0x7fb55948f630>"
       },
       "scene_UWRX2FUCIUZgUmSNtFQ8LStUx": {
        "drc": {},
        "position": [
         20,
         83,
         90
        ],
        "scale": 1,
        "scene": "<openalea.plantgl.scenegraph._pglsg.Scene object at 0x7fb559120770>"
       },
       "scene_Ub2VEqyHg1N2sV2vP6rLMcngE": {
        "drc": {},
        "position": [
         48,
         -12,
         -35
        ],
        "scale": 1,
        "scene": "<openalea.plantgl.scenegraph._pglsg.Scene object at 0x7fb5594ba130>"
       },
       "scene_UfJRnGETvqtF5eGs5ltCUU5Ba": {
        "drc": {},
        "position": [
         -107,
         57,
         -114
        ],
        "scale": 1,
        "scene": "<openalea.plantgl.scenegraph._pglsg.Scene object at 0x7fb5596cf530>"
       },
       "scene_UrCmbEgq3unoMROmJfeZDaaLh": {
        "drc": {},
        "position": [
         -65,
         88,
         19
        ],
        "scale": 1,
        "scene": "<openalea.plantgl.scenegraph._pglsg.Scene object at 0x7fb558dfcbb0>"
       },
       "scene_Uvzv1tkQuWAkOTMA7jD2TwqLq": {
        "drc": {},
        "position": [
         -68,
         -120,
         -104
        ],
        "scale": 1,
        "scene": "<openalea.plantgl.scenegraph._pglsg.Scene object at 0x7fb559203df0>"
       },
       "scene_V2rL1wgLubTanGYBCXl7ksP3M": {
        "drc": {},
        "position": [
         69,
         120,
         36
        ],
        "scale": 1,
        "scene": "<openalea.plantgl.scenegraph._pglsg.Scene object at 0x7fb558d81470>"
       },
       "scene_VIvt15jdhpGdLxKrWL8Sig6n8": {
        "drc": {},
        "position": [
         -23,
         53,
         -123
        ],
        "scale": 1,
        "scene": "<openalea.plantgl.scenegraph._pglsg.Scene object at 0x7fb5591fc970>"
       },
       "scene_VM9M1Isb2Mk0IBONytZvjN7lU": {
        "drc": {},
        "position": [
         -97,
         -123,
         -104
        ],
        "scale": 1,
        "scene": "<openalea.plantgl.scenegraph._pglsg.Scene object at 0x7fb5594084f0>"
       },
       "scene_VSQWverTeFlf7SzN2wOTIobZA": {
        "drc": {},
        "position": [
         116,
         -89,
         100
        ],
        "scale": 1,
        "scene": "<openalea.plantgl.scenegraph._pglsg.Scene object at 0x7fb558e5fc30>"
       },
       "scene_VcqjMVtgAG5NYReFqFPiF4Txf": {
        "drc": {},
        "position": [
         90,
         -49,
         116
        ],
        "scale": 1,
        "scene": "<openalea.plantgl.scenegraph._pglsg.Scene object at 0x7fb5593c8470>"
       },
       "scene_VisZgogDK9spB4fN4UcqHeDew": {
        "drc": {},
        "position": [
         30,
         67,
         85
        ],
        "scale": 1,
        "scene": "<openalea.plantgl.scenegraph._pglsg.Scene object at 0x7fb5595ae970>"
       },
       "scene_VmtxYbiltFVlQht1nwqlcuO7K": {
        "drc": {},
        "position": [
         27,
         17,
         11
        ],
        "scale": 1,
        "scene": "<openalea.plantgl.scenegraph._pglsg.Scene object at 0x7fb5594178f0>"
       },
       "scene_VsH5IlUDxKNf68CJL9v93nzHT": {
        "drc": {},
        "position": [
         84,
         -27,
         12
        ],
        "scale": 1,
        "scene": "<openalea.plantgl.scenegraph._pglsg.Scene object at 0x7fb55917bc70>"
       },
       "scene_VxmFdb0RRRZdumxYxCWlFUxSW": {
        "drc": {},
        "position": [
         -8,
         -19,
         49
        ],
        "scale": 1,
        "scene": "<openalea.plantgl.scenegraph._pglsg.Scene object at 0x7fb5593e1fb0>"
       },
       "scene_WluebX8RpVMh83zIeu9cvuS3F": {
        "drc": {},
        "position": [
         -38,
         0,
         -55
        ],
        "scale": 1,
        "scene": "<openalea.plantgl.scenegraph._pglsg.Scene object at 0x7fb5597ed230>"
       },
       "scene_WqEH9bld0LisgAcCWZTzp61IS": {
        "drc": {},
        "position": [
         19,
         -83,
         8
        ],
        "scale": 1,
        "scene": "<openalea.plantgl.scenegraph._pglsg.Scene object at 0x7fb5590128f0>"
       },
       "scene_XY1hgBUkjrie8OKURZvd8wkxa": {
        "drc": {},
        "position": [
         -88,
         100,
         -43
        ],
        "scale": 1,
        "scene": "<openalea.plantgl.scenegraph._pglsg.Scene object at 0x7fb5594c35f0>"
       },
       "scene_XkdgDM1cq3IaNkRsrhXaKVboi": {
        "drc": {},
        "position": [
         -22,
         8,
         -6
        ],
        "scale": 1,
        "scene": "<openalea.plantgl.scenegraph._pglsg.Scene object at 0x7fb559999170>"
       },
       "scene_XmfFBSCsZtmYuEAF8OvmO7RoN": {
        "drc": {},
        "position": [
         -9,
         -94,
         107
        ],
        "scale": 1,
        "scene": "<openalea.plantgl.scenegraph._pglsg.Scene object at 0x7fb559646bb0>"
       },
       "scene_YQPCjKCC2G5JGmgMs8oeDsW6B": {
        "drc": {},
        "position": [
         -53,
         -53,
         -74
        ],
        "scale": 1,
        "scene": "<openalea.plantgl.scenegraph._pglsg.Scene object at 0x7fb5595c1b70>"
       },
       "scene_YVvGBmhm37oEQVDjN3kNRmfkE": {
        "drc": {},
        "position": [
         89,
         -105,
         -63
        ],
        "scale": 1,
        "scene": "<openalea.plantgl.scenegraph._pglsg.Scene object at 0x7fb55959e070>"
       },
       "scene_YhfwuvOg2BeS5rDU1PmyGK2pI": {
        "drc": {},
        "position": [
         -39,
         -75,
         86
        ],
        "scale": 1,
        "scene": "<openalea.plantgl.scenegraph._pglsg.Scene object at 0x7fb58c0390f0>"
       },
       "scene_YnycBE9jU7zuWFkezGKt2a0Ww": {
        "drc": {},
        "position": [
         -119,
         -118,
         27
        ],
        "scale": 1,
        "scene": "<openalea.plantgl.scenegraph._pglsg.Scene object at 0x7fb558f8cef0>"
       },
       "scene_Z8rsmM0iXRAvdJ4iRqigGpZ1c": {
        "drc": {},
        "position": [
         -18,
         -112,
         17
        ],
        "scale": 1,
        "scene": "<openalea.plantgl.scenegraph._pglsg.Scene object at 0x7fb558f8c470>"
       },
       "scene_Z99CyHVAq8w4F9ojuSVFGaliT": {
        "drc": {},
        "position": [
         18,
         82,
         120
        ],
        "scale": 1,
        "scene": "<openalea.plantgl.scenegraph._pglsg.Scene object at 0x7fb558fec5f0>"
       },
       "scene_ZD7GOpFpd0ojarZuX9qpSF1Bw": {
        "drc": {},
        "position": [
         97,
         91,
         76
        ],
        "scale": 1,
        "scene": "<openalea.plantgl.scenegraph._pglsg.Scene object at 0x7fb55942cfb0>"
       },
       "scene_ZMhgC8tysy5LMsSAT6uH6rwz9": {
        "drc": {},
        "position": [
         9,
         -23,
         -101
        ],
        "scale": 1,
        "scene": "<openalea.plantgl.scenegraph._pglsg.Scene object at 0x7fb559973b70>"
       },
       "scene_ZPJl1p9uqTy5LUhTWgf0SIHsE": {
        "drc": {},
        "position": [
         99,
         115,
         51
        ],
        "scale": 1,
        "scene": "<openalea.plantgl.scenegraph._pglsg.Scene object at 0x7fb55918e330>"
       },
       "scene_ZXoBiqWgCiu0V86rFfbwRw4Fa": {
        "drc": {},
        "position": [
         6,
         126,
         -3
        ],
        "scale": 1,
        "scene": "<openalea.plantgl.scenegraph._pglsg.Scene object at 0x7fb558e8b730>"
       },
       "scene_ZZZZtPuvjK4e8BUhaiYrYtrAH": {
        "drc": {},
        "position": [
         -79,
         105,
         -93
        ],
        "scale": 1,
        "scene": "<openalea.plantgl.scenegraph._pglsg.Scene object at 0x7fb559047d70>"
       },
       "scene_ZcwosgYzRmsSfwYBeyOq45X7O": {
        "drc": {},
        "position": [
         -89,
         -80,
         -124
        ],
        "scale": 1,
        "scene": "<openalea.plantgl.scenegraph._pglsg.Scene object at 0x7fb559496330>"
       },
       "scene_ZnOIOkESLIyTjOlEN0w0cBq6U": {
        "drc": {},
        "position": [
         44,
         97,
         -99
        ],
        "scale": 1,
        "scene": "<openalea.plantgl.scenegraph._pglsg.Scene object at 0x7fb558fdd570>"
       },
       "scene_Zxg6tWVJPLuRMKu9DJ1N3tqR0": {
        "drc": {},
        "position": [
         -41,
         43,
         95
        ],
        "scale": 1,
        "scene": "<openalea.plantgl.scenegraph._pglsg.Scene object at 0x7fb5591bcd70>"
       },
       "scene_ZyBTd03QY303yTIvHv5rhF3aQ": {
        "drc": {},
        "position": [
         -60,
         104,
         94
        ],
        "scale": 1,
        "scene": "<openalea.plantgl.scenegraph._pglsg.Scene object at 0x7fb559131930>"
       },
       "scene_a88JLuUHvjRNNvB3AMLEGSCc0": {
        "drc": {},
        "position": [
         -22,
         -9,
         13
        ],
        "scale": 1,
        "scene": "<openalea.plantgl.scenegraph._pglsg.Scene object at 0x7fb5596af4f0>"
       },
       "scene_a8E9b2mi368Lzkrnn2Tlq9ktZ": {
        "drc": {},
        "position": [
         12,
         -18,
         104
        ],
        "scale": 1,
        "scene": "<openalea.plantgl.scenegraph._pglsg.Scene object at 0x7fb55955ee30>"
       },
       "scene_a8nUepPEnDMQAOwamVhQIuxe9": {
        "drc": {},
        "position": [
         -76,
         -20,
         34
        ],
        "scale": 1,
        "scene": "<openalea.plantgl.scenegraph._pglsg.Scene object at 0x7fb5593fd8f0>"
       },
       "scene_aBlmqhqLY020sZF62FEc6VbTQ": {
        "drc": {},
        "position": [
         -57,
         -1,
         -93
        ],
        "scale": 1,
        "scene": "<openalea.plantgl.scenegraph._pglsg.Scene object at 0x7fb5598083b0>"
       },
       "scene_aFPdLB5jQdLuvGf7xTa5UjDvL": {
        "drc": {},
        "position": [
         103,
         45,
         57
        ],
        "scale": 1,
        "scene": "<openalea.plantgl.scenegraph._pglsg.Scene object at 0x7fb559417ab0>"
       },
       "scene_aJ7xQntx1eNSWS9T4dCEFsIMa": {
        "drc": {},
        "position": [
         6,
         -65,
         123
        ],
        "scale": 1,
        "scene": "<openalea.plantgl.scenegraph._pglsg.Scene object at 0x7fb55939c2b0>"
       },
       "scene_aJY7cWLf0CXgxMyl5ecV1pNCU": {
        "drc": {},
        "position": [
         -66,
         -121,
         -73
        ],
        "scale": 1,
        "scene": "<openalea.plantgl.scenegraph._pglsg.Scene object at 0x7fb55953d930>"
       },
       "scene_ad7EGdmGeNtY9MyzNMgSIC5rF": {
        "drc": {},
        "position": [
         0,
         -87,
         -104
        ],
        "scale": 1,
        "scene": "<openalea.plantgl.scenegraph._pglsg.Scene object at 0x7fb558f15d70>"
       },
       "scene_ad8pjAWJGwwry3l27eYzwZ4XB": {
        "drc": {},
        "position": [
         -103,
         -91,
         51
        ],
        "scale": 1,
        "scene": "<openalea.plantgl.scenegraph._pglsg.Scene object at 0x7fb559682df0>"
       },
       "scene_ap4NfjmZ2ftlI0u44YcxzdSxI": {
        "drc": {},
        "position": [
         29,
         -46,
         62
        ],
        "scale": 1,
        "scene": "<openalea.plantgl.scenegraph._pglsg.Scene object at 0x7fb55947deb0>"
       },
       "scene_aql5OlmGdwk0AD0yjX88vHClG": {
        "drc": {},
        "position": [
         117,
         110,
         53
        ],
        "scale": 1,
        "scene": "<openalea.plantgl.scenegraph._pglsg.Scene object at 0x7fb5595c7470>"
       },
       "scene_b3p1CDdqQRCdvsW9Bd3IHT9PM": {
        "drc": {},
        "position": [
         122,
         102,
         -62
        ],
        "scale": 1,
        "scene": "<openalea.plantgl.scenegraph._pglsg.Scene object at 0x7fb558ee7c70>"
       },
       "scene_bEHZp6nPJOLUTevvnDpxvKtyy": {
        "drc": {},
        "position": [
         -114,
         -36,
         -126
        ],
        "scale": 1,
        "scene": "<openalea.plantgl.scenegraph._pglsg.Scene object at 0x7fb5594b4cb0>"
       },
       "scene_bMEdq6WcEgOnABTKUxzhMx120": {
        "drc": {},
        "position": [
         -20,
         -123,
         -38
        ],
        "scale": 1,
        "scene": "<openalea.plantgl.scenegraph._pglsg.Scene object at 0x7fb558e184b0>"
       },
       "scene_bNtKHHZpVHGemVtqtta4RNCqo": {
        "drc": {},
        "position": [
         -62,
         -6,
         45
        ],
        "scale": 1,
        "scene": "<openalea.plantgl.scenegraph._pglsg.Scene object at 0x7fb5593a4970>"
       },
       "scene_brUAcxQmXYlBQMoHIYIIjGpfI": {
        "drc": {},
        "position": [
         119,
         -14,
         94
        ],
        "scale": 1,
        "scene": "<openalea.plantgl.scenegraph._pglsg.Scene object at 0x7fb558df3e30>"
       },
       "scene_brwt3IDpGetjngqpeOSnKEUME": {
        "drc": {},
        "position": [
         3,
         115,
         35
        ],
        "scale": 1,
        "scene": "<openalea.plantgl.scenegraph._pglsg.Scene object at 0x7fb5596824f0>"
       },
       "scene_c09bHui8kBRZVYpGRyyYkByqT": {
        "drc": {},
        "position": [
         116,
         -121,
         22
        ],
        "scale": 1,
        "scene": "<openalea.plantgl.scenegraph._pglsg.Scene object at 0x7fb5594cdcf0>"
       },
       "scene_c8Uqar8EpVelVYkqH1ZD5Wo0Z": {
        "drc": {},
        "position": [
         23,
         -99,
         -60
        ],
        "scale": 1,
        "scene": "<openalea.plantgl.scenegraph._pglsg.Scene object at 0x7fb5594472f0>"
       },
       "scene_cChlxHLP32Ooqk1dphgLFz8oz": {
        "drc": {},
        "position": [
         28,
         20,
         36
        ],
        "scale": 1,
        "scene": "<openalea.plantgl.scenegraph._pglsg.Scene object at 0x7fb558faed70>"
       },
       "scene_cGsdn3O9zR5W4HTb4x8u8qeg4": {
        "drc": {},
        "position": [
         84,
         109,
         -8
        ],
        "scale": 1,
        "scene": "<openalea.plantgl.scenegraph._pglsg.Scene object at 0x7fb55977a2f0>"
       },
       "scene_cQRPSSF4TY14q9g6KS3WgU0Hf": {
        "drc": {},
        "position": [
         46,
         -81,
         88
        ],
        "scale": 1,
        "scene": "<openalea.plantgl.scenegraph._pglsg.Scene object at 0x7fb558e92db0>"
       },
       "scene_cTZ3XMVfU1pjRoUmkGpphlW5I": {
        "drc": {},
        "position": [
         -126,
         -52,
         -74
        ],
        "scale": 1,
        "scene": "<openalea.plantgl.scenegraph._pglsg.Scene object at 0x7fb5594a0bb0>"
       },
       "scene_cXPanqKilUczkqpcGYszTKtb6": {
        "drc": {},
        "position": [
         -102,
         26,
         20
        ],
        "scale": 1,
        "scene": "<openalea.plantgl.scenegraph._pglsg.Scene object at 0x7fb558e92170>"
       },
       "scene_cgRFbHVKLljtMEG7MeQqRg3Ar": {
        "drc": {},
        "position": [
         22,
         -7,
         65
        ],
        "scale": 1,
        "scene": "<openalea.plantgl.scenegraph._pglsg.Scene object at 0x7fb55968dc70>"
       },
       "scene_cl3lHf4RlrnEMIlAhIzh5QCEV": {
        "drc": {},
        "position": [
         -24,
         47,
         94
        ],
        "scale": 1,
        "scene": "<openalea.plantgl.scenegraph._pglsg.Scene object at 0x7fb559767330>"
       },
       "scene_cvAXdP4SXDS3Bm27ncUOBITBm": {
        "drc": {},
        "position": [
         -75,
         -75,
         97
        ],
        "scale": 1,
        "scene": "<openalea.plantgl.scenegraph._pglsg.Scene object at 0x7fb5590c3b70>"
       },
       "scene_cwqK3OF9VvOmxEtOYIZ0yrFhI": {
        "drc": {},
        "position": [
         36,
         65,
         118
        ],
        "scale": 1,
        "scene": "<openalea.plantgl.scenegraph._pglsg.Scene object at 0x7fb558e4a530>"
       },
       "scene_cza2Md0D5LrOi980EmZYc3NwR": {
        "drc": {},
        "position": [
         -102,
         96,
         60
        ],
        "scale": 1,
        "scene": "<openalea.plantgl.scenegraph._pglsg.Scene object at 0x7fb558fae5f0>"
       },
       "scene_d1Vwe569zVGuSadbKwmI1frXy": {
        "drc": {},
        "position": [
         29,
         115,
         17
        ],
        "scale": 1,
        "scene": "<openalea.plantgl.scenegraph._pglsg.Scene object at 0x7fb559450ef0>"
       },
       "scene_d48m1YiqgJ6u6aV2l5xSBIP0E": {
        "drc": {},
        "position": [
         -69,
         -20,
         121
        ],
        "scale": 1,
        "scene": "<openalea.plantgl.scenegraph._pglsg.Scene object at 0x7fb558e9d830>"
       },
       "scene_d88Fn6avfBjk18aKekK4ii5V9": {
        "drc": {},
        "position": [
         -27,
         -106,
         -44
        ],
        "scale": 1,
        "scene": "<openalea.plantgl.scenegraph._pglsg.Scene object at 0x7fb55952f1f0>"
       },
       "scene_dAkvUbQ5Jr6YjIqa6zDj2Xdyd": {
        "drc": {},
        "position": [
         -72,
         16,
         -57
        ],
        "scale": 1,
        "scene": "<openalea.plantgl.scenegraph._pglsg.Scene object at 0x7fb559679770>"
       },
       "scene_dCfs004Nd1X2l8Vi96o5whZ9i": {
        "drc": {},
        "position": [
         122,
         117,
         116
        ],
        "scale": 1,
        "scene": "<openalea.plantgl.scenegraph._pglsg.Scene object at 0x7fb5594e85f0>"
       },
       "scene_dEV2kaIRi7kmJZ6vf3SQs9wUu": {
        "drc": {},
        "position": [
         111,
         -16,
         62
        ],
        "scale": 1,
        "scene": "<openalea.plantgl.scenegraph._pglsg.Scene object at 0x7fb5597195f0>"
       },
       "scene_dIsYSKL4PqaxZnFDy8tMZ1DI6": {
        "drc": {},
        "position": [
         -73,
         91,
         45
        ],
        "scale": 1,
        "scene": "<openalea.plantgl.scenegraph._pglsg.Scene object at 0x7fb559957d30>"
       },
       "scene_dRkUAGcGov3Ao6f0drsElcN0H": {
        "drc": {},
        "position": [
         91,
         -8,
         -52
        ],
        "scale": 1,
        "scene": "<openalea.plantgl.scenegraph._pglsg.Scene object at 0x7fb55952fe30>"
       },
       "scene_dcKr07ye2Wk3D9efjKP47KwCm": {
        "drc": {},
        "position": [
         -103,
         -122,
         -5
        ],
        "scale": 1,
        "scene": "<openalea.plantgl.scenegraph._pglsg.Scene object at 0x7fb55964d470>"
       },
       "scene_e78LcRPO7Loqjoj2tgZ4zuLIS": {
        "drc": {},
        "position": [
         96,
         -90,
         -88
        ],
        "scale": 1,
        "scene": "<openalea.plantgl.scenegraph._pglsg.Scene object at 0x7fb55973cdf0>"
       },
       "scene_eClrkMFh9Z0L4bdS44euXxXFH": {
        "drc": {},
        "position": [
         -112,
         -118,
         51
        ],
        "scale": 1,
        "scene": "<openalea.plantgl.scenegraph._pglsg.Scene object at 0x7fb559557c30>"
       },
       "scene_eK99beele65ouqckaQ3r1tVRS": {
        "drc": {},
        "position": [
         61,
         43,
         -115
        ],
        "scale": 1,
        "scene": "<openalea.plantgl.scenegraph._pglsg.Scene object at 0x7fb559141b70>"
       },
       "scene_eVnxzA0QONJ04Un2Cllidw2Nz": {
        "drc": {},
        "position": [
         22,
         -76,
         -18
        ],
        "scale": 1,
        "scene": "<openalea.plantgl.scenegraph._pglsg.Scene object at 0x7fb558f21cf0>"
       },
       "scene_eXBsRTq2cWtsS1UvAyepQ2sqC": {
        "drc": {},
        "position": [
         -78,
         -55,
         56
        ],
        "scale": 1,
        "scene": "<openalea.plantgl.scenegraph._pglsg.Scene object at 0x7fb5597ca770>"
       },
       "scene_eXu5YrkYwkPnO1YRf9p0Qho8a": {
        "drc": {},
        "position": [
         97,
         -26,
         113
        ],
        "scale": 1,
        "scene": "<openalea.plantgl.scenegraph._pglsg.Scene object at 0x7fb55942c430>"
       },
       "scene_egRGi3pAPhmVOxD6MYPLZ06Zz": {
        "drc": {},
        "position": [
         96,
         79,
         7
        ],
        "scale": 1,
        "scene": "<openalea.plantgl.scenegraph._pglsg.Scene object at 0x7fb5597ca3f0>"
       },
       "scene_eqPysuQTSr3xmFFDyvui968Rq": {
        "drc": {},
        "position": [
         35,
         28,
         99
        ],
        "scale": 1,
        "scene": "<openalea.plantgl.scenegraph._pglsg.Scene object at 0x7fb5590d7170>"
       },
       "scene_esEUy5m6RDSlpVowyTLMEWZE1": {
        "drc": {},
        "position": [
         52,
         1,
         44
        ],
        "scale": 1,
        "scene": "<openalea.plantgl.scenegraph._pglsg.Scene object at 0x7fb55966a4b0>"
       },
       "scene_esY1g5dF695Q98lIK5HY7Qu2W": {
        "drc": {},
        "position": [
         88,
         30,
         -30
        ],
        "scale": 1,
        "scene": "<openalea.plantgl.scenegraph._pglsg.Scene object at 0x7fb55963c470>"
       },
       "scene_ezBDTaWYKnQf392oPfVl3D0Bd": {
        "drc": {},
        "position": [
         -91,
         -49,
         -9
        ],
        "scale": 1,
        "scene": "<openalea.plantgl.scenegraph._pglsg.Scene object at 0x7fb558fd49b0>"
       },
       "scene_ftm3TYZxnnt8kUpuBPURl7Ng0": {
        "drc": {},
        "position": [
         -85,
         83,
         -2
        ],
        "scale": 1,
        "scene": "<openalea.plantgl.scenegraph._pglsg.Scene object at 0x7fb55984b5b0>"
       },
       "scene_fwZfDRivAwea1WyZjPVkk5DZE": {
        "drc": {},
        "position": [
         82,
         -65,
         124
        ],
        "scale": 1,
        "scene": "<openalea.plantgl.scenegraph._pglsg.Scene object at 0x7fb559486e70>"
       },
       "scene_g80A8Q1CdkYxnNn7zovPTdPZq": {
        "drc": {},
        "position": [
         99,
         41,
         37
        ],
        "scale": 1,
        "scene": "<openalea.plantgl.scenegraph._pglsg.Scene object at 0x7fb559545bf0>"
       },
       "scene_gAKi74WKq9TJaatL6yx4B5qK1": {
        "drc": {},
        "position": [
         -45,
         -30,
         -116
        ],
        "scale": 1,
        "scene": "<openalea.plantgl.scenegraph._pglsg.Scene object at 0x7fb559460cf0>"
       },
       "scene_gDKby6uJ6FqDTymvO6uxVyCfL": {
        "drc": {},
        "position": [
         -80,
         -88,
         104
        ],
        "scale": 1,
        "scene": "<openalea.plantgl.scenegraph._pglsg.Scene object at 0x7fb55925b3b0>"
       },
       "scene_gNpD3fPIL0ytYxBm7CHJ6ZfGD": {
        "drc": {},
        "position": [
         21,
         -98,
         103
        ],
        "scale": 1,
        "scene": "<openalea.plantgl.scenegraph._pglsg.Scene object at 0x7fb5597af670>"
       },
       "scene_gSxAoc6EIaAXJBOS5SYuav7vK": {
        "drc": {},
        "position": [
         -37,
         -33,
         84
        ],
        "scale": 1,
        "scene": "<openalea.plantgl.scenegraph._pglsg.Scene object at 0x7fb5593b8df0>"
       },
       "scene_gZOkriaCgEzoSsHSJ0zisRDWp": {
        "drc": {},
        "position": [
         2,
         125,
         37
        ],
        "scale": 1,
        "scene": "<openalea.plantgl.scenegraph._pglsg.Scene object at 0x7fb55969e1f0>"
       },
       "scene_h0GZWpDVZRG9I0GfGDPPBGNkN": {
        "drc": {},
        "position": [
         85,
         -45,
         118
        ],
        "scale": 1,
        "scene": "<openalea.plantgl.scenegraph._pglsg.Scene object at 0x7fb5595d3330>"
       },
       "scene_h58yKsX2AnLvq0BSiRJVoBli0": {
        "drc": {},
        "position": [
         80,
         -20,
         31
        ],
        "scale": 1,
        "scene": "<openalea.plantgl.scenegraph._pglsg.Scene object at 0x7fb55946a2b0>"
       },
       "scene_h7OYb66C4FJS0JVOw51P50pfz": {
        "drc": {},
        "position": [
         24,
         32,
         117
        ],
        "scale": 1,
        "scene": "<openalea.plantgl.scenegraph._pglsg.Scene object at 0x7fb5595aed30>"
       },
       "scene_h7vYR5oRTC6cBfu3Dnassm9Na": {
        "drc": {},
        "position": [
         123,
         -104,
         -119
        ],
        "scale": 1,
        "scene": "<openalea.plantgl.scenegraph._pglsg.Scene object at 0x7fb55939c270>"
       },
       "scene_hVPYLsYcdqVFUH7qbWtzbLUzN": {
        "drc": {},
        "position": [
         121,
         -80,
         95
        ],
        "scale": 1,
        "scene": "<openalea.plantgl.scenegraph._pglsg.Scene object at 0x7fb5590fde30>"
       },
       "scene_hYq93BtukFBeIRlMwLRJXrPne": {
        "drc": {},
        "position": [
         44,
         58,
         -40
        ],
        "scale": 1,
        "scene": "<openalea.plantgl.scenegraph._pglsg.Scene object at 0x7fb558e56670>"
       },
       "scene_hZJlx2Jh92eAcmKzlieyaN1Pk": {
        "drc": {},
        "position": [
         -62,
         -97,
         -93
        ],
        "scale": 1,
        "scene": "<openalea.plantgl.scenegraph._pglsg.Scene object at 0x7fb559171570>"
       },
       "scene_haH23wsJr3KFH4NDnnL4qUTd2": {
        "drc": {},
        "position": [
         -72,
         107,
         -115
        ],
        "scale": 1,
        "scene": "<openalea.plantgl.scenegraph._pglsg.Scene object at 0x7fb55954f9f0>"
       },
       "scene_hg4VJNv92GHHqxN61bmtr4lCq": {
        "drc": {},
        "position": [
         4,
         -108,
         -51
        ],
        "scale": 1,
        "scene": "<openalea.plantgl.scenegraph._pglsg.Scene object at 0x7fb55964dd70>"
       },
       "scene_hjFxT9TdZrBX6PGHbNZgicNYM": {
        "drc": {},
        "position": [
         12,
         -61,
         34
        ],
        "scale": 1,
        "scene": "<openalea.plantgl.scenegraph._pglsg.Scene object at 0x7fb5594e86b0>"
       },
       "scene_hneuBhBBywliRs1JbtvbnThGR": {
        "drc": {},
        "position": [
         -59,
         5,
         113
        ],
        "scale": 1,
        "scene": "<openalea.plantgl.scenegraph._pglsg.Scene object at 0x7fb559578e30>"
       },
       "scene_hscPcgLgVBvNq9CVCwBt42v3b": {
        "drc": {},
        "position": [
         126,
         18,
         63
        ],
        "scale": 1,
        "scene": "<openalea.plantgl.scenegraph._pglsg.Scene object at 0x7fb559433eb0>"
       },
       "scene_hw5Vhfdg3kGmuICf8oJ26yIrK": {
        "drc": {},
        "position": [
         -12,
         77,
         -7
        ],
        "scale": 1,
        "scene": "<openalea.plantgl.scenegraph._pglsg.Scene object at 0x7fb5596a7bb0>"
       },
       "scene_hzf27vdJJWqB4VP7dkRSTNF3i": {
        "drc": {},
        "position": [
         8,
         -113,
         -106
        ],
        "scale": 1,
        "scene": "<openalea.plantgl.scenegraph._pglsg.Scene object at 0x7fb559864630>"
       },
       "scene_i7ZeAztCQD5rs5lTZcfjGWE2J": {
        "drc": {},
        "position": [
         0,
         -93,
         -106
        ],
        "scale": 1,
        "scene": "<openalea.plantgl.scenegraph._pglsg.Scene object at 0x7fb55978b830>"
       },
       "scene_i8gzr0CqBUigjyyHqL6BhZxnJ": {
        "drc": {},
        "position": [
         86,
         56,
         -99
        ],
        "scale": 1,
        "scene": "<openalea.plantgl.scenegraph._pglsg.Scene object at 0x7fb5595456b0>"
       },
       "scene_i8iBZY0DhIlzdAEyCpqxnLgzg": {
        "drc": {},
        "position": [
         90,
         -10,
         -51
        ],
        "scale": 1,
        "scene": "<openalea.plantgl.scenegraph._pglsg.Scene object at 0x7fb559377bf0>"
       },
       "scene_iEGYtUScuH5plOxsYIJ0w2vFY": {
        "drc": {},
        "position": [
         13,
         61,
         1
        ],
        "scale": 1,
        "scene": "<openalea.plantgl.scenegraph._pglsg.Scene object at 0x7fb5593a4770>"
       },
       "scene_iHGO0EvSPuId2maeZxgSGwk6Y": {
        "drc": {},
        "position": [
         -80,
         -38,
         -11
        ],
        "scale": 1,
        "scene": "<openalea.plantgl.scenegraph._pglsg.Scene object at 0x7fb559007370>"
       },
       "scene_iJSZpGbY8Bo2Kapi3IPfvG2FM": {
        "drc": {},
        "position": [
         98,
         -112,
         120
        ],
        "scale": 1,
        "scene": "<openalea.plantgl.scenegraph._pglsg.Scene object at 0x7fb5590472b0>"
       },
       "scene_iLVoH9Azyakjmc92QHYTLuQcE": {
        "drc": {},
        "position": [
         -98,
         31,
         -86
        ],
        "scale": 1,
        "scene": "<openalea.plantgl.scenegraph._pglsg.Scene object at 0x7fb559408cf0>"
       },
       "scene_iRwLoK46bO9tmTdiqVTRKpIwu": {
        "drc": {},
        "position": [
         50,
         106,
         29
        ],
        "scale": 1,
        "scene": "<openalea.plantgl.scenegraph._pglsg.Scene object at 0x7fb559389930>"
       },
       "scene_iXtH6SjpARYBsnTde3INUEBYS": {
        "drc": {},
        "position": [
         -37,
         85,
         103
        ],
        "scale": 1,
        "scene": "<openalea.plantgl.scenegraph._pglsg.Scene object at 0x7fb55994bc30>"
       },
       "scene_iZzaRg12tC9t95IRxcBfQCFyH": {
        "drc": {},
        "position": [
         -91,
         -91,
         -72
        ],
        "scale": 1,
        "scene": "<openalea.plantgl.scenegraph._pglsg.Scene object at 0x7fb5590f3830>"
       },
       "scene_iePsX2XhRE0QDHMjNXODUFl5B": {
        "drc": {},
        "position": [
         -2,
         69,
         -74
        ],
        "scale": 1,
        "scene": "<openalea.plantgl.scenegraph._pglsg.Scene object at 0x7fb55905ae70>"
       },
       "scene_iiSj8Z19dmaWgK87kOJ2YIUDX": {
        "drc": {},
        "position": [
         -66,
         -126,
         -51
        ],
        "scale": 1,
        "scene": "<openalea.plantgl.scenegraph._pglsg.Scene object at 0x7fb55954f7b0>"
       },
       "scene_ipLGTwjHmECnKGmvBXg1keMsu": {
        "drc": {},
        "position": [
         -18,
         88,
         -96
        ],
        "scale": 1,
        "scene": "<openalea.plantgl.scenegraph._pglsg.Scene object at 0x7fb558fbf7b0>"
       },
       "scene_iucjh1xJstKFDVSRQb3WMcZj6": {
        "drc": {},
        "position": [
         61,
         0,
         -101
        ],
        "scale": 1,
        "scene": "<openalea.plantgl.scenegraph._pglsg.Scene object at 0x7fb558d90fb0>"
       },
       "scene_iv7UxT1t6tyQ9LVESzHBqaDOU": {
        "drc": {},
        "position": [
         113,
         67,
         17
        ],
        "scale": 1,
        "scene": "<openalea.plantgl.scenegraph._pglsg.Scene object at 0x7fb558e055b0>"
       },
       "scene_j55WO2RGxf1YzEhMud22mgU6n": {
        "drc": {},
        "position": [
         -74,
         112,
         14
        ],
        "scale": 1,
        "scene": "<openalea.plantgl.scenegraph._pglsg.Scene object at 0x7fb5596e00b0>"
       },
       "scene_jOh8DxcfdanrMCggft25G2huO": {
        "drc": {},
        "position": [
         -28,
         -42,
         -110
        ],
        "scale": 1,
        "scene": "<openalea.plantgl.scenegraph._pglsg.Scene object at 0x7fb559629370>"
       },
       "scene_jQi50Pkgc7f8cGNCQdzLAyQPD": {
        "drc": {},
        "position": [
         -23,
         -24,
         -118
        ],
        "scale": 1,
        "scene": "<openalea.plantgl.scenegraph._pglsg.Scene object at 0x7fb559658930>"
       },
       "scene_jTdq0amO0hpWGGL6KMTNZZXRE": {
        "drc": {},
        "position": [
         -51,
         -8,
         5
        ],
        "scale": 1,
        "scene": "<openalea.plantgl.scenegraph._pglsg.Scene object at 0x7fb58f022c70>"
       },
       "scene_jTlbXQ7QHuVUZWqhWxIFgYVUP": {
        "drc": {},
        "position": [
         -125,
         -8,
         -54
        ],
        "scale": 1,
        "scene": "<openalea.plantgl.scenegraph._pglsg.Scene object at 0x7fb55939cc30>"
       },
       "scene_jeqTKFW5S9peMkTpj1kf0KW0r": {
        "drc": {},
        "position": [
         -1,
         48,
         48
        ],
        "scale": 1,
        "scene": "<openalea.plantgl.scenegraph._pglsg.Scene object at 0x7fb558e3b3f0>"
       },
       "scene_jpTLxlOpAWwajR68rD1UNtFUy": {
        "drc": {},
        "position": [
         119,
         -119,
         6
        ],
        "scale": 1,
        "scene": "<openalea.plantgl.scenegraph._pglsg.Scene object at 0x7fb55956efb0>"
       },
       "scene_jsRuf4WXw5fLNNAxeTahQ3Sa7": {
        "drc": {},
        "position": [
         85,
         104,
         91
        ],
        "scale": 1,
        "scene": "<openalea.plantgl.scenegraph._pglsg.Scene object at 0x7fb558db5b30>"
       },
       "scene_k01PePRqN91KEwYCm6XgdpFal": {
        "drc": {},
        "position": [
         45,
         34,
         -74
        ],
        "scale": 1,
        "scene": "<openalea.plantgl.scenegraph._pglsg.Scene object at 0x7fb5591eb6b0>"
       },
       "scene_kGkTw2QsSIMybhrQtpLonqQir": {
        "drc": {},
        "position": [
         -99,
         -76,
         39
        ],
        "scale": 1,
        "scene": "<openalea.plantgl.scenegraph._pglsg.Scene object at 0x7fb5593a47f0>"
       },
       "scene_kI7carah5nVUADwkxjYdZ7d4i": {
        "drc": {},
        "position": [
         -63,
         38,
         15
        ],
        "scale": 1,
        "scene": "<openalea.plantgl.scenegraph._pglsg.Scene object at 0x7fb5595dd470>"
       },
       "scene_kQyfMAq6edFcIh4swM7fVNNCV": {
        "drc": {},
        "position": [
         52,
         83,
         -60
        ],
        "scale": 1,
        "scene": "<openalea.plantgl.scenegraph._pglsg.Scene object at 0x7fb5599b5e30>"
       },
       "scene_kVO3f3nYnKWciGMI5aOSvUPXW": {
        "drc": {},
        "position": [
         -15,
         -14,
         57
        ],
        "scale": 1,
        "scene": "<openalea.plantgl.scenegraph._pglsg.Scene object at 0x7fb55906bfb0>"
       },
       "scene_kwL8KAwMIkitIfTQmG5kb2otK": {
        "drc": {},
        "position": [
         -44,
         -85,
         -86
        ],
        "scale": 1,
        "scene": "<openalea.plantgl.scenegraph._pglsg.Scene object at 0x7fb558d81ef0>"
       },
       "scene_kyMy7GikBwm8y1F45eG6HFeqz": {
        "drc": {},
        "position": [
         52,
         -7,
         -30
        ],
        "scale": 1,
        "scene": "<openalea.plantgl.scenegraph._pglsg.Scene object at 0x7fb5593e1070>"
       },
       "scene_l5T0DOHh2vnzbMMJgJNz6yBDz": {
        "drc": {},
        "position": [
         27,
         49,
         -66
        ],
        "scale": 1,
        "scene": "<openalea.plantgl.scenegraph._pglsg.Scene object at 0x7fb558d6fef0>"
       },
       "scene_lA3IDRNi4x30SnGbs9rfQcSQi": {
        "drc": {},
        "position": [
         -36,
         9,
         94
        ],
        "scale": 1,
        "scene": "<openalea.plantgl.scenegraph._pglsg.Scene object at 0x7fb559743df0>"
       },
       "scene_lIGVAqOeWrFdSbcvyEvsVMYX2": {
        "drc": {},
        "position": [
         -82,
         -50,
         101
        ],
        "scale": 1,
        "scene": "<openalea.plantgl.scenegraph._pglsg.Scene object at 0x7fb558f04530>"
       },
       "scene_lPO3jx0qeGBO6Mt5OHcbZsiKq": {
        "drc": {},
        "position": [
         -44,
         125,
         49
        ],
        "scale": 1,
        "scene": "<openalea.plantgl.scenegraph._pglsg.Scene object at 0x7fb559840bf0>"
       },
       "scene_lR6eIXiFriN0HLkXYiPwTRKub": {
        "drc": {},
        "position": [
         -111,
         -110,
         71
        ],
        "scale": 1,
        "scene": "<openalea.plantgl.scenegraph._pglsg.Scene object at 0x7fb5593ae8b0>"
       },
       "scene_lVH2eJ9K7KuxVWhDtZyzHByjr": {
        "drc": {},
        "position": [
         113,
         -32,
         -112
        ],
        "scale": 1,
        "scene": "<openalea.plantgl.scenegraph._pglsg.Scene object at 0x7fb55998ebf0>"
       },
       "scene_lX029a1pcXqd55E3diNDFRQAT": {
        "drc": {},
        "position": [
         -51,
         -51,
         120
        ],
        "scale": 1,
        "scene": "<openalea.plantgl.scenegraph._pglsg.Scene object at 0x7fb55943c730>"
       },
       "scene_liM4gaLGVjCjS7jQqEX79xItN": {
        "drc": {},
        "position": [
         104,
         89,
         39
        ],
        "scale": 1,
        "scene": "<openalea.plantgl.scenegraph._pglsg.Scene object at 0x7fb55910ffb0>"
       },
       "scene_lqQi5JxPt6qyOYotPqsYCxEy3": {
        "drc": {},
        "position": [
         -91,
         27,
         47
        ],
        "scale": 1,
        "scene": "<openalea.plantgl.scenegraph._pglsg.Scene object at 0x7fb558fcaeb0>"
       },
       "scene_m8t9MKDc9H3PggtidBtbZNXna": {
        "drc": {},
        "position": [
         -87,
         -23,
         -6
        ],
        "scale": 1,
        "scene": "<openalea.plantgl.scenegraph._pglsg.Scene object at 0x7fb558ec4f30>"
       },
       "scene_mIdYjxhx7cQu60LOinWHyoo0Q": {
        "drc": {},
        "position": [
         34,
         64,
         -5
        ],
        "scale": 1,
        "scene": "<openalea.plantgl.scenegraph._pglsg.Scene object at 0x7fb55987a270>"
       },
       "scene_mK6x27E4xzl979V18CnDRyZG6": {
        "drc": {},
        "position": [
         38,
         -63,
         -28
        ],
        "scale": 1,
        "scene": "<openalea.plantgl.scenegraph._pglsg.Scene object at 0x7fb5597b7d30>"
       },
       "scene_mcsd8DDMISvck0k4lxpLrbgri": {
        "drc": {},
        "position": [
         31,
         -19,
         -11
        ],
        "scale": 1,
        "scene": "<openalea.plantgl.scenegraph._pglsg.Scene object at 0x7fb559625330>"
       },
       "scene_mlQWVLfPhOhWLA6xYwzCzHkia": {
        "drc": {},
        "position": [
         61,
         23,
         -3
        ],
        "scale": 1,
        "scene": "<openalea.plantgl.scenegraph._pglsg.Scene object at 0x7fb559517d70>"
       },
       "scene_mz4T0Boc747VWEmYnVpshytKm": {
        "drc": {},
        "position": [
         87,
         54,
         44
        ],
        "scale": 1,
        "scene": "<openalea.plantgl.scenegraph._pglsg.Scene object at 0x7fb5599c9770>"
       },
       "scene_n5QhiVAgdyedjEtMAw5sxMnSp": {
        "drc": {},
        "position": [
         100,
         11,
         -18
        ],
        "scale": 1,
        "scene": "<openalea.plantgl.scenegraph._pglsg.Scene object at 0x7fb5594579b0>"
       },
       "scene_n6u3vI9oL9qHEqBEKvUmXl65M": {
        "drc": {},
        "position": [
         88,
         39,
         16
        ],
        "scale": 1,
        "scene": "<openalea.plantgl.scenegraph._pglsg.Scene object at 0x7fb5593d1df0>"
       },
       "scene_nPD0jhleQDDKQyLTkcu35g09c": {
        "drc": {},
        "position": [
         46,
         3,
         116
        ],
        "scale": 1,
        "scene": "<openalea.plantgl.scenegraph._pglsg.Scene object at 0x7fb5596a72b0>"
       },
       "scene_nTvDnzRB3wmVOD6wp7XsByCqD": {
        "drc": {},
        "position": [
         75,
         -113,
         77
        ],
        "scale": 1,
        "scene": "<openalea.plantgl.scenegraph._pglsg.Scene object at 0x7fb559605a70>"
       },
       "scene_nYJ57sMYxg54RAanMY6Qs4hvn": {
        "drc": {},
        "position": [
         -43,
         -98,
         -117
        ],
        "scale": 1,
        "scene": "<openalea.plantgl.scenegraph._pglsg.Scene object at 0x7fb5594744b0>"
       },
       "scene_nbc7I9YEiKNoYDUJjfjtVE8tP": {
        "drc": {},
        "position": [
         -116,
         -25,
         44
        ],
        "scale": 1,
        "scene": "<openalea.plantgl.scenegraph._pglsg.Scene object at 0x7fb5593c1bb0>"
       },
       "scene_nbhzXMyyEMFHavQxOKFO25PEb": {
        "drc": {},
        "position": [
         122,
         -76,
         26
        ],
        "scale": 1,
        "scene": "<openalea.plantgl.scenegraph._pglsg.Scene object at 0x7fb558dda2b0>"
       },
       "scene_nky72bW9qXfxLve9cKQOkkKJk": {
        "drc": {},
        "position": [
         85,
         -40,
         60
        ],
        "scale": 1,
        "scene": "<openalea.plantgl.scenegraph._pglsg.Scene object at 0x7fb558f77330>"
       },
       "scene_nqErpjIkFFPJ8LS2TgStVYiyF": {
        "drc": {},
        "position": [
         -84,
         -77,
         -106
        ],
        "scale": 1,
        "scene": "<openalea.plantgl.scenegraph._pglsg.Scene object at 0x7fb559377730>"
       },
       "scene_nv9KaCKFSMdxyRU9ncoXB81V1": {
        "drc": {},
        "position": [
         114,
         125,
         76
        ],
        "scale": 1,
        "scene": "<openalea.plantgl.scenegraph._pglsg.Scene object at 0x7fb558f95ab0>"
       },
       "scene_nxx6XiPvgCwVFz1AphrrDM6QG": {
        "drc": {},
        "position": [
         -42,
         -123,
         0
        ],
        "scale": 1,
        "scene": "<openalea.plantgl.scenegraph._pglsg.Scene object at 0x7fb5597ed830>"
       },
       "scene_nze7Ewor9GgZY9bbrF4VXi2Uk": {
        "drc": {},
        "position": [
         -22,
         35,
         -30
        ],
        "scale": 1,
        "scene": "<openalea.plantgl.scenegraph._pglsg.Scene object at 0x7fb5590b39f0>"
       },
       "scene_o9rzCwj27yTZWhh44Nl0laLUs": {
        "drc": {},
        "position": [
         -46,
         123,
         -108
        ],
        "scale": 1,
        "scene": "<openalea.plantgl.scenegraph._pglsg.Scene object at 0x7fb5595c1530>"
       },
       "scene_oIgAgwqKzHfSoJNDG2Twqk1Rc": {
        "drc": {},
        "position": [
         -53,
         65,
         9
        ],
        "scale": 1,
        "scene": "<openalea.plantgl.scenegraph._pglsg.Scene object at 0x7fb559390c30>"
       },
       "scene_oJMXeEg1OcVTGKX1sS7kJHTNg": {
        "drc": {},
        "position": [
         67,
         -120,
         -29
        ],
        "scale": 1,
        "scene": "<openalea.plantgl.scenegraph._pglsg.Scene object at 0x7fb558f77d70>"
       },
       "scene_oQwAjzZuIOvfcL6UF9Tra1nN8": {
        "drc": {},
        "position": [
         -35,
         -3,
         69
        ],
        "scale": 1,
        "scene": "<openalea.plantgl.scenegraph._pglsg.Scene object at 0x7fb5598543b0>"
       },
       "scene_oR7IE87589TGcxTi49BA0hKUG": {
        "drc": {},
        "position": [
         -118,
         40,
         -43
        ],
        "scale": 1,
        "scene": "<openalea.plantgl.scenegraph._pglsg.Scene object at 0x7fb55972f5f0>"
       },
       "scene_oejEzWJDJYtRbr9cGAWlcTiZZ": {
        "drc": {},
        "position": [
         42,
         64,
         39
        ],
        "scale": 1,
        "scene": "<openalea.plantgl.scenegraph._pglsg.Scene object at 0x7fb5598134b0>"
       },
       "scene_ogVnu9sx9QE1X9s0Gn5YNgJ1e": {
        "drc": {},
        "position": [
         67,
         21,
         -17
        ],
        "scale": 1,
        "scene": "<openalea.plantgl.scenegraph._pglsg.Scene object at 0x7fb558e4af30>"
       },
       "scene_oiZnWTqHM0WjBdFiZcuvEiTyO": {
        "drc": {},
        "position": [
         28,
         95,
         94
        ],
        "scale": 1,
        "scene": "<openalea.plantgl.scenegraph._pglsg.Scene object at 0x7fb5595451b0>"
       },
       "scene_pD9ygdq8fBqAAx6NKLZya98cF": {
        "drc": {},
        "position": [
         -111,
         70,
         -55
        ],
        "scale": 1,
        "scene": "<openalea.plantgl.scenegraph._pglsg.Scene object at 0x7fb558ec44b0>"
       },
       "scene_pIO13Rw5U78DfrxelfhLTiEFV": {
        "drc": {},
        "position": [
         -18,
         2,
         67
        ],
        "scale": 1,
        "scene": "<openalea.plantgl.scenegraph._pglsg.Scene object at 0x7fb5597b76f0>"
       },
       "scene_pW2jfgrhhPZ3w95QwWTdwpWL0": {
        "drc": {},
        "position": [
         56,
         84,
         -32
        ],
        "scale": 1,
        "scene": "<openalea.plantgl.scenegraph._pglsg.Scene object at 0x7fb55923f4f0>"
       },
       "scene_pYxfkeENqZ69uZr6RIQvrjH9A": {
        "drc": {},
        "position": [
         -123,
         12,
         -11
        ],
        "scale": 1,
        "scene": "<openalea.plantgl.scenegraph._pglsg.Scene object at 0x7fb559821f30>"
       },
       "scene_pfIrIwIbhhfIpLYHv7i3WQe8a": {
        "drc": {},
        "position": [
         -106,
         3,
         -63
        ],
        "scale": 1,
        "scene": "<openalea.plantgl.scenegraph._pglsg.Scene object at 0x7fb55982c730>"
       },
       "scene_pngCwYGzGSj3KtPvacwJQiI7X": {
        "drc": {},
        "position": [
         -111,
         86,
         76
        ],
        "scale": 1,
        "scene": "<openalea.plantgl.scenegraph._pglsg.Scene object at 0x7fb5598d5c30>"
       },
       "scene_pvxakRI7pk2FvwlGeOlx5EIjr": {
        "drc": {},
        "position": [
         100,
         -47,
         96
        ],
        "scale": 1,
        "scene": "<openalea.plantgl.scenegraph._pglsg.Scene object at 0x7fb559545e30>"
       },
       "scene_qsdxg1uwyPiuuSOiF5C2oGNAo": {
        "drc": {},
        "position": [
         -78,
         11,
         -48
        ],
        "scale": 1,
        "scene": "<openalea.plantgl.scenegraph._pglsg.Scene object at 0x7fb5594cde70>"
       },
       "scene_qwamgHFcu5HVilBFPIyIXePGo": {
        "drc": {},
        "position": [
         73,
         0,
         -47
        ],
        "scale": 1,
        "scene": "<openalea.plantgl.scenegraph._pglsg.Scene object at 0x7fb5597af330>"
       },
       "scene_qx8W7IKHWmksSeKCKdopFn7oB": {
        "drc": {},
        "position": [
         17,
         68,
         -13
        ],
        "scale": 1,
        "scene": "<openalea.plantgl.scenegraph._pglsg.Scene object at 0x7fb5595eae70>"
       },
       "scene_r8mHWS0KFHcyOrHJuNvMbPgqE": {
        "drc": {},
        "position": [
         78,
         65,
         16
        ],
        "scale": 1,
        "scene": "<openalea.plantgl.scenegraph._pglsg.Scene object at 0x7fb55994bd70>"
       },
       "scene_rGFrhirbyy237A2F3UCmJMfht": {
        "drc": {},
        "position": [
         37,
         -57,
         37
        ],
        "scale": 1,
        "scene": "<openalea.plantgl.scenegraph._pglsg.Scene object at 0x7fb558fe3bf0>"
       },
       "scene_rIqPc8vUqg2hoDwIBZkoNzk0w": {
        "drc": {},
        "position": [
         -115,
         82,
         64
        ],
        "scale": 1,
        "scene": "<openalea.plantgl.scenegraph._pglsg.Scene object at 0x7fb559433830>"
       },
       "scene_rPG3xtvgfuBU4iq3XCdxEibyP": {
        "drc": {},
        "position": [
         -91,
         41,
         0
        ],
        "scale": 1,
        "scene": "<openalea.plantgl.scenegraph._pglsg.Scene object at 0x7fb558feccb0>"
       },
       "scene_rSDb9jngIIORH4ow5yisadkem": {
        "drc": {},
        "position": [
         -13,
         -71,
         -93
        ],
        "scale": 1,
        "scene": "<openalea.plantgl.scenegraph._pglsg.Scene object at 0x7fb558e20b30>"
       },
       "scene_robt9WrLO6eVdVTiYCHctyWYb": {
        "drc": {},
        "position": [
         111,
         -66,
         101
        ],
        "scale": 1,
        "scene": "<openalea.plantgl.scenegraph._pglsg.Scene object at 0x7fb55956e5b0>"
       },
       "scene_rydZoBeDXwEY2hpmI352DM3C1": {
        "drc": {},
        "position": [
         -11,
         -98,
         89
        ],
        "scale": 1,
        "scene": "<openalea.plantgl.scenegraph._pglsg.Scene object at 0x7fb5595051f0>"
       },
       "scene_s5kdFCi98arZ3yPZc30cpUER5": {
        "drc": {},
        "position": [
         -126,
         -97,
         81
        ],
        "scale": 1,
        "scene": "<openalea.plantgl.scenegraph._pglsg.Scene object at 0x7fb559390e30>"
       },
       "scene_sFrdl59DIsypRBvV3pE9iBrNP": {
        "drc": {},
        "position": [
         38,
         -104,
         1
        ],
        "scale": 1,
        "scene": "<openalea.plantgl.scenegraph._pglsg.Scene object at 0x7fb55948ffb0>"
       },
       "scene_sM9Itjya3cI86TuofGs4sSKal": {
        "drc": {},
        "position": [
         94,
         -54,
         -91
        ],
        "scale": 1,
        "scene": "<openalea.plantgl.scenegraph._pglsg.Scene object at 0x7fb55962f170>"
       },
       "scene_sN17xo06L5JXCIDZ1uxcRUdNP": {
        "drc": {},
        "position": [
         -1,
         56,
         -69
        ],
        "scale": 1,
        "scene": "<openalea.plantgl.scenegraph._pglsg.Scene object at 0x7fb55910f570>"
       },
       "scene_sRnsI68LQuMTaDsMRiHPivSR6": {
        "drc": {},
        "position": [
         19,
         113,
         66
        ],
        "scale": 1,
        "scene": "<openalea.plantgl.scenegraph._pglsg.Scene object at 0x7fb558f39eb0>"
       },
       "scene_sg7zZsH1f9ZfM2kPuwJsy97js": {
        "drc": {},
        "position": [
         96,
         -32,
         -92
        ],
        "scale": 1,
        "scene": "<openalea.plantgl.scenegraph._pglsg.Scene object at 0x7fb5595f4ef0>"
       },
       "scene_sppi7VuTmnbFAmhbYDf2VwYC2": {
        "drc": {},
        "position": [
         67,
         -28,
         35
        ],
        "scale": 1,
        "scene": "<openalea.plantgl.scenegraph._pglsg.Scene object at 0x7fb55965f730>"
       },
       "scene_stN46Hi2WzDdaWuM5fhzlok7z": {
        "drc": {},
        "position": [
         25,
         -77,
         73
        ],
        "scale": 1,
        "scene": "<openalea.plantgl.scenegraph._pglsg.Scene object at 0x7fb5595c18b0>"
       },
       "scene_t7jRzQ4MJY1HdBA0jg5KF4PtK": {
        "drc": {},
        "position": [
         -68,
         39,
         67
        ],
        "scale": 1,
        "scene": "<openalea.plantgl.scenegraph._pglsg.Scene object at 0x7fb5594c3fb0>"
       },
       "scene_tENuYIwGRKJza9HuVm3esb9ff": {
        "drc": {},
        "position": [
         4,
         38,
         -64
        ],
        "scale": 1,
        "scene": "<openalea.plantgl.scenegraph._pglsg.Scene object at 0x7fb558de9530>"
       },
       "scene_tTYYPcBM74mYFTxbZA5YOMvN9": {
        "drc": {},
        "position": [
         -111,
         -75,
         -17
        ],
        "scale": 1,
        "scene": "<openalea.plantgl.scenegraph._pglsg.Scene object at 0x7fb559070a30>"
       },
       "scene_teQ5KlnTQTAxzCl4DrESWm7IW": {
        "drc": {},
        "position": [
         -38,
         34,
         -20
        ],
        "scale": 1,
        "scene": "<openalea.plantgl.scenegraph._pglsg.Scene object at 0x7fb5596bc6f0>"
       },
       "scene_ttDwSv6ImJXJfnJFh4LupB4xP": {
        "drc": {},
        "position": [
         58,
         -34,
         102
        ],
        "scale": 1,
        "scene": "<openalea.plantgl.scenegraph._pglsg.Scene object at 0x7fb559238930>"
       },
       "scene_ttUT6Nz5m8N7ctoTcfW27PrId": {
        "drc": {},
        "position": [
         -82,
         -42,
         10
        ],
        "scale": 1,
        "scene": "<openalea.plantgl.scenegraph._pglsg.Scene object at 0x7fb559185770>"
       },
       "scene_uIzdRgWqqIbctzw5Zp2vB2LWE": {
        "drc": {},
        "position": [
         -17,
         65,
         -43
        ],
        "scale": 1,
        "scene": "<openalea.plantgl.scenegraph._pglsg.Scene object at 0x7fb5594cda30>"
       },
       "scene_uaecLPuijIhOlmdqLDgwFIMu9": {
        "drc": {},
        "position": [
         -74,
         -41,
         -83
        ],
        "scale": 1,
        "scene": "<openalea.plantgl.scenegraph._pglsg.Scene object at 0x7fb55953d8b0>"
       },
       "scene_ufjKeBsq47lYnJwQ3iRopXnaX": {
        "drc": {},
        "position": [
         -36,
         -49,
         -18
        ],
        "scale": 1,
        "scene": "<openalea.plantgl.scenegraph._pglsg.Scene object at 0x7fb5591d8330>"
       },
       "scene_v5Kemc6hfIP8AvHTb0uBo9woF": {
        "drc": {},
        "position": [
         -124,
         6,
         -45
        ],
        "scale": 1,
        "scene": "<openalea.plantgl.scenegraph._pglsg.Scene object at 0x7fb5594575f0>"
       },
       "scene_vCp0P5z61KKnDy3Mfr8Iesz16": {
        "drc": {},
        "position": [
         -88,
         49,
         -123
        ],
        "scale": 1,
        "scene": "<openalea.plantgl.scenegraph._pglsg.Scene object at 0x7fb55929ea70>"
       },
       "scene_vESf71BKFYgLekUnBNidH1zDB": {
        "drc": {},
        "position": [
         -5,
         50,
         103
        ],
        "scale": 1,
        "scene": "<openalea.plantgl.scenegraph._pglsg.Scene object at 0x7fb5596a7630>"
       },
       "scene_vEoo9nt61aJOIEFNsOo4wL0W6": {
        "drc": {},
        "position": [
         -20,
         -116,
         83
        ],
        "scale": 1,
        "scene": "<openalea.plantgl.scenegraph._pglsg.Scene object at 0x7fb558f0eaf0>"
       },
       "scene_vFksSYvvRdkLhTQZLvxDrhQ7t": {
        "drc": {},
        "position": [
         0,
         -66,
         -87
        ],
        "scale": 1,
        "scene": "<openalea.plantgl.scenegraph._pglsg.Scene object at 0x7fb5593907f0>"
       },
       "scene_vTNfUEbnELhER1iCYiMJvNEy2": {
        "drc": {},
        "position": [
         55,
         -18,
         -7
        ],
        "scale": 1,
        "scene": "<openalea.plantgl.scenegraph._pglsg.Scene object at 0x7fb558e81af0>"
       },
       "scene_vZqdgv5W7Jm9r2Z3IF1154Kzi": {
        "drc": {},
        "position": [
         -56,
         -49,
         33
        ],
        "scale": 1,
        "scene": "<openalea.plantgl.scenegraph._pglsg.Scene object at 0x7fb5595c7e30>"
       },
       "scene_vZtFR0OkDXdGQQjxzvDr3hcUL": {
        "drc": {},
        "position": [
         120,
         2,
         96
        ],
        "scale": 1,
        "scene": "<openalea.plantgl.scenegraph._pglsg.Scene object at 0x7fb5594e1470>"
       },
       "scene_vdZJ8lZieSMoBmMS2jW7rlKez": {
        "drc": {},
        "position": [
         125,
         14,
         -95
        ],
        "scale": 1,
        "scene": "<openalea.plantgl.scenegraph._pglsg.Scene object at 0x7fb5595b3ef0>"
       },
       "scene_vigeqIjQFwbfrjvBz6rvBrxFu": {
        "drc": {},
        "position": [
         -31,
         -71,
         -59
        ],
        "scale": 1,
        "scene": "<openalea.plantgl.scenegraph._pglsg.Scene object at 0x7fb55914c530>"
       },
       "scene_vqU2VXjrMdCU0mx7JyW7XesaH": {
        "drc": {},
        "position": [
         105,
         67,
         -71
        ],
        "scale": 1,
        "scene": "<openalea.plantgl.scenegraph._pglsg.Scene object at 0x7fb559215fb0>"
       },
       "scene_vsOHMDWtch9ijKbX08WygHQBs": {
        "drc": {},
        "position": [
         -16,
         39,
         -31
        ],
        "scale": 1,
        "scene": "<openalea.plantgl.scenegraph._pglsg.Scene object at 0x7fb5593d99b0>"
       },
       "scene_vtSWVak2Jon2QsTSHyYBmK6Xh": {
        "drc": {},
        "position": [
         -85,
         -10,
         44
        ],
        "scale": 1,
        "scene": "<openalea.plantgl.scenegraph._pglsg.Scene object at 0x7fb558e56df0>"
       },
       "scene_w02nK6LBcSocKfSWbVODgGMni": {
        "drc": {},
        "position": [
         74,
         4,
         7
        ],
        "scale": 1,
        "scene": "<openalea.plantgl.scenegraph._pglsg.Scene object at 0x7fb558fff7f0>"
       },
       "scene_w426DKnyXV3MiQ0FRTmlWh7Qg": {
        "drc": {},
        "position": [
         98,
         -21,
         14
        ],
        "scale": 1,
        "scene": "<openalea.plantgl.scenegraph._pglsg.Scene object at 0x7fb55a25fcb0>"
       },
       "scene_wA2bK4NxOvPB8KknoV0dMlhQD": {
        "drc": {},
        "position": [
         49,
         -46,
         71
        ],
        "scale": 1,
        "scene": "<openalea.plantgl.scenegraph._pglsg.Scene object at 0x7fb5593fd970>"
       },
       "scene_wAsx0lSfS7kp8IhrPGGRHRdcv": {
        "drc": {},
        "position": [
         -64,
         -116,
         -25
        ],
        "scale": 1,
        "scene": "<openalea.plantgl.scenegraph._pglsg.Scene object at 0x7fb5593e1f70>"
       },
       "scene_wMAArP5Rt3NTVYWugsaNjFmLf": {
        "drc": {},
        "position": [
         10,
         97,
         -100
        ],
        "scale": 1,
        "scene": "<openalea.plantgl.scenegraph._pglsg.Scene object at 0x7fb55966afb0>"
       },
       "scene_wWD8HfrlHMtnOPgxlwFSSlEgP": {
        "drc": {},
        "position": [
         89,
         44,
         42
        ],
        "scale": 1,
        "scene": "<openalea.plantgl.scenegraph._pglsg.Scene object at 0x7fb5593f74f0>"
       },
       "scene_weQZiCcLfc7lpplpbYlUmcryh": {
        "drc": {},
        "position": [
         14,
         -64,
         22
        ],
        "scale": 1,
        "scene": "<openalea.plantgl.scenegraph._pglsg.Scene object at 0x7fb558f5ed70>"
       },
       "scene_xBR1LLfVsYo75Ah9hs2o6U8Ay": {
        "drc": {},
        "position": [
         89,
         -89,
         -99
        ],
        "scale": 1,
        "scene": "<openalea.plantgl.scenegraph._pglsg.Scene object at 0x7fb55940c770>"
       },
       "scene_xMEOyGKGqru6lhnd4nfjoHQHK": {
        "drc": {},
        "position": [
         95,
         120,
         -8
        ],
        "scale": 1,
        "scene": "<openalea.plantgl.scenegraph._pglsg.Scene object at 0x7fb5598cc730>"
       },
       "scene_xY1Tjm8tSdbR2lmnJmgMkJDj0": {
        "drc": {},
        "position": [
         110,
         -32,
         83
        ],
        "scale": 1,
        "scene": "<openalea.plantgl.scenegraph._pglsg.Scene object at 0x7fb559063a30>"
       },
       "scene_xpDSokvSPesSozbP6sC6QsIKP": {
        "drc": {},
        "position": [
         -93,
         -57,
         -77
        ],
        "scale": 1,
        "scene": "<openalea.plantgl.scenegraph._pglsg.Scene object at 0x7fb55908e7b0>"
       },
       "scene_xxSsnreEej3glM44ccOmRLiQ0": {
        "drc": {},
        "position": [
         -4,
         -80,
         -114
        ],
        "scale": 1,
        "scene": "<openalea.plantgl.scenegraph._pglsg.Scene object at 0x7fb5595eadb0>"
       },
       "scene_yBwIESRl4neBHg1l2ak5zGqGH": {
        "drc": {},
        "position": [
         -19,
         38,
         -91
        ],
        "scale": 1,
        "scene": "<openalea.plantgl.scenegraph._pglsg.Scene object at 0x7fb5590a9e30>"
       },
       "scene_yClAnboQv7pXKotOxgjkygDlz": {
        "drc": {},
        "position": [
         109,
         -68,
         -4
        ],
        "scale": 1,
        "scene": "<openalea.plantgl.scenegraph._pglsg.Scene object at 0x7fb558d899f0>"
       },
       "scene_yGySCfXSjNRDgYepLWmkGz84a": {
        "drc": {},
        "position": [
         -78,
         -84,
         -71
        ],
        "scale": 1,
        "scene": "<openalea.plantgl.scenegraph._pglsg.Scene object at 0x7fb559097370>"
       },
       "scene_yJt8gJf6ZaHleI2CBXhvMgGv7": {
        "drc": {},
        "position": [
         -86,
         -110,
         19
        ],
        "scale": 1,
        "scene": "<openalea.plantgl.scenegraph._pglsg.Scene object at 0x7fb5594d8c30>"
       },
       "scene_yLv0Ueac9nCl3In3LSQNnNWBi": {
        "drc": {},
        "position": [
         94,
         12,
         -9
        ],
        "scale": 1,
        "scene": "<openalea.plantgl.scenegraph._pglsg.Scene object at 0x7fb5596c6bb0>"
       },
       "scene_yMXEL4mNLPpx2T3FqMzPU08hs": {
        "drc": {},
        "position": [
         38,
         -93,
         75
        ],
        "scale": 1,
        "scene": "<openalea.plantgl.scenegraph._pglsg.Scene object at 0x7fb559195a70>"
       },
       "scene_yQiMOskDYFtBSQiRAhXiQNPUG": {
        "drc": {},
        "position": [
         119,
         0,
         -93
        ],
        "scale": 1,
        "scene": "<openalea.plantgl.scenegraph._pglsg.Scene object at 0x7fb55974c370>"
       },
       "scene_yRTf2EEhCCv2m5x7YMjvatNet": {
        "drc": {},
        "position": [
         -112,
         80,
         87
        ],
        "scale": 1,
        "scene": "<openalea.plantgl.scenegraph._pglsg.Scene object at 0x7fb55947d330>"
       },
       "scene_yYqtZ4CCPiMrZz7oZcXCDoyVG": {
        "drc": {},
        "position": [
         -74,
         -26,
         -18
        ],
        "scale": 1,
        "scene": "<openalea.plantgl.scenegraph._pglsg.Scene object at 0x7fb5593a45b0>"
       },
       "scene_yb0oKdzKZcexbQ0xXSZMy3V4b": {
        "drc": {},
        "position": [
         104,
         -1,
         -114
        ],
        "scale": 1,
        "scene": "<openalea.plantgl.scenegraph._pglsg.Scene object at 0x7fb5593e14b0>"
       },
       "scene_ycRVPRP6tR1C0nuIRt8oFv9DQ": {
        "drc": {},
        "position": [
         -62,
         54,
         -105
        ],
        "scale": 1,
        "scene": "<openalea.plantgl.scenegraph._pglsg.Scene object at 0x7fb559215630>"
       },
       "scene_ydeJPot1rJ9kAP8BNZVih1uO2": {
        "drc": {},
        "position": [
         -16,
         -53,
         44
        ],
        "scale": 1,
        "scene": "<openalea.plantgl.scenegraph._pglsg.Scene object at 0x7fb5594aba70>"
       },
       "scene_ye3yfr0kEB8T9OuPjGjjpUdcu": {
        "drc": {},
        "position": [
         -8,
         23,
         3
        ],
        "scale": 1,
        "scene": "<openalea.plantgl.scenegraph._pglsg.Scene object at 0x7fb559521d30>"
       },
       "scene_ykDIJlkYHwK7xKOntAgxIk08e": {
        "drc": {},
        "position": [
         97,
         -3,
         54
        ],
        "scale": 1,
        "scene": "<openalea.plantgl.scenegraph._pglsg.Scene object at 0x7fb558df3630>"
       },
       "scene_ynv6k2SH1Agl4WtqThz06417f": {
        "drc": {},
        "position": [
         65,
         -20,
         48
        ],
        "scale": 1,
        "scene": "<openalea.plantgl.scenegraph._pglsg.Scene object at 0x7fb5593f72f0>"
       },
       "scene_yrZZhsl3rBFawMUGP5XU4lprS": {
        "drc": {},
        "position": [
         22,
         86,
         -27
        ],
        "scale": 1,
        "scene": "<openalea.plantgl.scenegraph._pglsg.Scene object at 0x7fb55905a430>"
       },
       "scene_ysLgQwTUK2tw0ZydFSBvki03Y": {
        "drc": {},
        "position": [
         32,
         124,
         47
        ],
        "scale": 1,
        "scene": "<openalea.plantgl.scenegraph._pglsg.Scene object at 0x7fb55947d530>"
       },
       "scene_z82JVuEYKslTZMtQyTG8NZvFe": {
        "drc": {},
        "position": [
         78,
         -41,
         -37
        ],
        "scale": 1,
        "scene": "<openalea.plantgl.scenegraph._pglsg.Scene object at 0x7fb559813d30>"
       },
       "scene_zMXLNS9hPuh78M8KX83O273Sh": {
        "drc": {},
        "position": [
         25,
         66,
         67
        ],
        "scale": 1,
        "scene": "<openalea.plantgl.scenegraph._pglsg.Scene object at 0x7fb558d769f0>"
       },
       "scene_zQyV3YnlJV5KeS1Em8cN7PYKV": {
        "drc": {},
        "position": [
         -126,
         106,
         -63
        ],
        "scale": 1,
        "scene": "<openalea.plantgl.scenegraph._pglsg.Scene object at 0x7fb5593d11b0>"
       },
       "scene_zdDAstvHvKfHNK1k6EZuZ1Nao": {
        "drc": {},
        "position": [
         -89,
         -104,
         8
        ],
        "scale": 1,
        "scene": "<openalea.plantgl.scenegraph._pglsg.Scene object at 0x7fb559034b70>"
       },
       "scene_zg4WAAeGkVX2dTYSfCrzfHYDp": {
        "drc": {},
        "position": [
         -38,
         62,
         -18
        ],
        "scale": 1,
        "scene": "<openalea.plantgl.scenegraph._pglsg.Scene object at 0x7fb5592034b0>"
       },
       "scene_zoZqFUGkbLVvuEQsweuzfVxhY": {
        "drc": {},
        "position": [
         91,
         -4,
         119
        ],
        "scale": 1,
        "scene": "<openalea.plantgl.scenegraph._pglsg.Scene object at 0x7fb5595b3470>"
       },
       "scene_zsl79lHlap6ABrya657TwQo6m": {
        "drc": {},
        "position": [
         123,
         122,
         73
        ],
        "scale": 1,
        "scene": "<openalea.plantgl.scenegraph._pglsg.Scene object at 0x7fb55960ef70>"
       },
       "scene_zzwUfkL6eA5QMIsfNT8qHDioW": {
        "drc": {},
        "position": [
         -90,
         -84,
         37
        ],
        "scale": 1,
        "scene": "<openalea.plantgl.scenegraph._pglsg.Scene object at 0x7fb559097ef0>"
       },
       "size_display": [
        400,
        300
       ],
       "size_world": [
        255,
        255,
        255
       ]
      }
     },
     "5b674e378402466abe21d625e3aa19da": {
      "buffers": [
       {
        "data": "",
        "encoding": "base64",
        "path": [
         "scene",
         "drc"
        ]
       }
      ],
      "model_module": "pgljupyter",
      "model_module_version": "^0.1.0",
      "model_name": "SceneWidgetModel",
      "state": {
       "_model_module_version": "^0.1.0",
       "_view_module_version": "^0.1.0",
       "axes_helper": false,
       "layout": "IPY_MODEL_c92baf85f286478cafc4c2b3ac29b248",
       "mesh_compression": 10,
       "scene": {
        "drc": {},
        "position": [
         0,
         0,
         0
        ],
        "scale": 1,
        "scene": "<openalea.plantgl.scenegraph._pglsg.Scene object at 0x7fcc6b9962b0>"
       },
       "scene_0QktgSfV4iNCvHRlIhiVsQctl": {
        "drc": {},
        "position": [
         63,
         112,
         123
        ],
        "scale": 1,
        "scene": "<openalea.plantgl.scenegraph._pglsg.Scene object at 0x7fcc6af52af0>"
       },
       "scene_0kCbvniONVEAH3wiKYFeus1G7": {
        "drc": {},
        "position": [
         23,
         -33,
         69
        ],
        "scale": 1,
        "scene": "<openalea.plantgl.scenegraph._pglsg.Scene object at 0x7fcc6b020930>"
       },
       "scene_13Xg9rkWv8EE2yoDOJF15Odxc": {
        "drc": {},
        "position": [
         -52,
         -42,
         -101
        ],
        "scale": 1,
        "scene": "<openalea.plantgl.scenegraph._pglsg.Scene object at 0x7fcc6afbbcb0>"
       },
       "scene_140dLcJygD09eY4sq1MDmehNo": {
        "drc": {},
        "position": [
         76,
         75,
         -72
        ],
        "scale": 1,
        "scene": "<openalea.plantgl.scenegraph._pglsg.Scene object at 0x7fcc6afa5b30>"
       },
       "scene_16pzLwi5oGM1vT1rtaM4yGlCm": {
        "drc": {},
        "position": [
         74,
         -109,
         17
        ],
        "scale": 1,
        "scene": "<openalea.plantgl.scenegraph._pglsg.Scene object at 0x7fcc6aec10b0>"
       },
       "scene_1J5ZzFZupcyIIUXcDsZwF91xo": {
        "drc": {},
        "position": [
         -67,
         125,
         -19
        ],
        "scale": 1,
        "scene": "<openalea.plantgl.scenegraph._pglsg.Scene object at 0x7fcc6b08b830>"
       },
       "scene_1L70fgSPVmjZs5bCZUwPhwqgx": {
        "drc": {},
        "position": [
         -95,
         25,
         73
        ],
        "scale": 1,
        "scene": "<openalea.plantgl.scenegraph._pglsg.Scene object at 0x7fcc6ae96c30>"
       },
       "scene_1SZwndAtVC9qsIJP3BEHQU1pz": {
        "drc": {},
        "position": [
         68,
         -89,
         125
        ],
        "scale": 1,
        "scene": "<openalea.plantgl.scenegraph._pglsg.Scene object at 0x7fcc6b5525b0>"
       },
       "scene_1XgqZdKIz95d9vdjY76WwoKqB": {
        "drc": {},
        "position": [
         109,
         -109,
         126
        ],
        "scale": 1,
        "scene": "<openalea.plantgl.scenegraph._pglsg.Scene object at 0x7fcc6b0e9330>"
       },
       "scene_1t4xeN9kcHbbqa2THxrqvayBy": {
        "drc": {},
        "position": [
         -69,
         96,
         -47
        ],
        "scale": 1,
        "scene": "<openalea.plantgl.scenegraph._pglsg.Scene object at 0x7fcc6af35d30>"
       },
       "scene_2ne3UqXjobEZtGyErBgMbdQy5": {
        "drc": {},
        "position": [
         -98,
         68,
         102
        ],
        "scale": 1,
        "scene": "<openalea.plantgl.scenegraph._pglsg.Scene object at 0x7fcc6af3dcf0>"
       },
       "scene_2wKhLJSqIXa7WRCyYVffsNCNn": {
        "drc": {},
        "position": [
         -119,
         15,
         105
        ],
        "scale": 1,
        "scene": "<openalea.plantgl.scenegraph._pglsg.Scene object at 0x7fcc6b052570>"
       },
       "scene_3GT9iA9bh5M8nUWSG6ttoVRu9": {
        "drc": {},
        "position": [
         102,
         28,
         120
        ],
        "scale": 1,
        "scene": "<openalea.plantgl.scenegraph._pglsg.Scene object at 0x7fcc6af25330>"
       },
       "scene_3TDmepliCUu1RSHvSLsyhsujW": {
        "drc": {},
        "position": [
         41,
         -21,
         -9
        ],
        "scale": 1,
        "scene": "<openalea.plantgl.scenegraph._pglsg.Scene object at 0x7fcc6b10df70>"
       },
       "scene_3xAN65WtvkmMVPFAVhDkxnoIs": {
        "drc": {},
        "position": [
         -67,
         39,
         107
        ],
        "scale": 1,
        "scene": "<openalea.plantgl.scenegraph._pglsg.Scene object at 0x7fcc6af990b0>"
       },
       "scene_3yJ0lpiZqqMqzxo2d8jpI8xPf": {
        "drc": {},
        "position": [
         7,
         118,
         82
        ],
        "scale": 1,
        "scene": "<openalea.plantgl.scenegraph._pglsg.Scene object at 0x7fcc6afcffb0>"
       },
       "scene_4F7Hdm6aItyQ9OnHkGcLgNGer": {
        "drc": {},
        "position": [
         13,
         61,
         -109
        ],
        "scale": 1,
        "scene": "<openalea.plantgl.scenegraph._pglsg.Scene object at 0x7fcc6b033e70>"
       },
       "scene_4RQ4TqdIAwM8Ohdg8raAXGTEp": {
        "drc": {},
        "position": [
         22,
         -45,
         87
        ],
        "scale": 1,
        "scene": "<openalea.plantgl.scenegraph._pglsg.Scene object at 0x7fcc6af99d70>"
       },
       "scene_4vs4Sye40vTI9fJfDl9ANbe7O": {
        "drc": {},
        "position": [
         117,
         91,
         66
        ],
        "scale": 1,
        "scene": "<openalea.plantgl.scenegraph._pglsg.Scene object at 0x7fcc6aeef8b0>"
       },
       "scene_5HyOTx7iUQjXsH0TkKRxoIOca": {
        "drc": {},
        "position": [
         -65,
         -114,
         -20
        ],
        "scale": 1,
        "scene": "<openalea.plantgl.scenegraph._pglsg.Scene object at 0x7fcc6af87df0>"
       },
       "scene_5PKZ4NwDU481kljtJiU0w5MMk": {
        "drc": {},
        "position": [
         -57,
         0,
         42
        ],
        "scale": 1,
        "scene": "<openalea.plantgl.scenegraph._pglsg.Scene object at 0x7fcc6b02cfb0>"
       },
       "scene_5aR4wIAPZvxhsQn2nh3mo88tP": {
        "drc": {},
        "position": [
         17,
         -122,
         -99
        ],
        "scale": 1,
        "scene": "<openalea.plantgl.scenegraph._pglsg.Scene object at 0x7fcc6b03b070>"
       },
       "scene_5nWtAkiIoq5zb64VYHR92NSwU": {
        "drc": {},
        "position": [
         -25,
         115,
         111
        ],
        "scale": 1,
        "scene": "<openalea.plantgl.scenegraph._pglsg.Scene object at 0x7fcc6b018870>"
       },
       "scene_5sHXeesbCQgEdegiF3VajqLFj": {
        "drc": {},
        "position": [
         118,
         -10,
         21
        ],
        "scale": 1,
        "scene": "<openalea.plantgl.scenegraph._pglsg.Scene object at 0x7fcc6b03b7b0>"
       },
       "scene_64pPlR7ObisQ9qMIBRUZqG3V8": {
        "drc": {},
        "position": [
         -93,
         -72,
         50
        ],
        "scale": 1,
        "scene": "<openalea.plantgl.scenegraph._pglsg.Scene object at 0x7fcc6b033b30>"
       },
       "scene_6gRITxoUfc5ZYwfwtVXRbalnp": {
        "drc": {},
        "position": [
         -124,
         -90,
         116
        ],
        "scale": 1,
        "scene": "<openalea.plantgl.scenegraph._pglsg.Scene object at 0x7fcc6b07d6b0>"
       },
       "scene_6t2ArSD2CPmW1sSTNbFmGr2Uu": {
        "drc": {},
        "position": [
         -3,
         -27,
         62
        ],
        "scale": 1,
        "scene": "<openalea.plantgl.scenegraph._pglsg.Scene object at 0x7fcc6aff3570>"
       },
       "scene_6xovnlDhitEVjPTOWGsFvJVAM": {
        "drc": {},
        "position": [
         -86,
         2,
         -96
        ],
        "scale": 1,
        "scene": "<openalea.plantgl.scenegraph._pglsg.Scene object at 0x7fcc6b04bf70>"
       },
       "scene_7AiukQLkQw6v7Y2FgCci3c7rn": {
        "drc": {},
        "position": [
         -5,
         -64,
         -33
        ],
        "scale": 1,
        "scene": "<openalea.plantgl.scenegraph._pglsg.Scene object at 0x7fcc6af87ab0>"
       },
       "scene_7SRXo8WYBj4OAlSUZlBciP8RD": {
        "drc": {},
        "position": [
         6,
         -46,
         -52
        ],
        "scale": 1,
        "scene": "<openalea.plantgl.scenegraph._pglsg.Scene object at 0x7fcc6ae9d730>"
       },
       "scene_7VLfGBvp2w5kA00GR248JGO7F": {
        "drc": {},
        "position": [
         -86,
         -104,
         -81
        ],
        "scale": 1,
        "scene": "<openalea.plantgl.scenegraph._pglsg.Scene object at 0x7fcc6af482f0>"
       },
       "scene_7cxSnZSB6Stjy5WC2jqPsriH5": {
        "drc": {},
        "position": [
         69,
         105,
         28
        ],
        "scale": 1,
        "scene": "<openalea.plantgl.scenegraph._pglsg.Scene object at 0x7fcc6af35fb0>"
       },
       "scene_8MnrVYBqwxQPRpK5mCu34merw": {
        "drc": {},
        "position": [
         -60,
         35,
         5
        ],
        "scale": 1,
        "scene": "<openalea.plantgl.scenegraph._pglsg.Scene object at 0x7fcc6af5bc30>"
       },
       "scene_8VWDXnA0IRx9P2Cum4YlipeDw": {
        "drc": {},
        "position": [
         33,
         24,
         -23
        ],
        "scale": 1,
        "scene": "<openalea.plantgl.scenegraph._pglsg.Scene object at 0x7fcc6aeef2f0>"
       },
       "scene_8ddTwpuEUeyYlkKYWnRgIBgaU": {
        "drc": {},
        "position": [
         102,
         89,
         -15
        ],
        "scale": 1,
        "scene": "<openalea.plantgl.scenegraph._pglsg.Scene object at 0x7fcc6b0fac70>"
       },
       "scene_92c8UE3VVtFPidm3SG5tSUs1D": {
        "drc": {},
        "position": [
         116,
         19,
         -112
        ],
        "scale": 1,
        "scene": "<openalea.plantgl.scenegraph._pglsg.Scene object at 0x7fcc6b0e98f0>"
       },
       "scene_94l3GfYrc19FZR3yBzXuhva9C": {
        "drc": {},
        "position": [
         -71,
         -47,
         -95
        ],
        "scale": 1,
        "scene": "<openalea.plantgl.scenegraph._pglsg.Scene object at 0x7fcc6af25eb0>"
       },
       "scene_9RbqbVreFshcntpdflAS5fETV": {
        "drc": {},
        "position": [
         -55,
         -96,
         -57
        ],
        "scale": 1,
        "scene": "<openalea.plantgl.scenegraph._pglsg.Scene object at 0x7fcc6afdf730>"
       },
       "scene_9V8Pd1bmwEp15TqacZDRSM3aL": {
        "drc": {},
        "position": [
         -50,
         -29,
         77
        ],
        "scale": 1,
        "scene": "<openalea.plantgl.scenegraph._pglsg.Scene object at 0x7fcc6b0fa770>"
       },
       "scene_9eH4rmrwLudBAi4kDXZLBroRd": {
        "drc": {},
        "position": [
         39,
         58,
         69
        ],
        "scale": 1,
        "scene": "<openalea.plantgl.scenegraph._pglsg.Scene object at 0x7fcc6b06e970>"
       },
       "scene_A4ZYSmT6uqYgSUA52NBE3ujl1": {
        "drc": {},
        "position": [
         125,
         11,
         48
        ],
        "scale": 1,
        "scene": "<openalea.plantgl.scenegraph._pglsg.Scene object at 0x7fcc6b0e0d30>"
       },
       "scene_AZ0h8l6RTaKrWy4dLGgWrQTPC": {
        "drc": {},
        "position": [
         -2,
         -6,
         31
        ],
        "scale": 1,
        "scene": "<openalea.plantgl.scenegraph._pglsg.Scene object at 0x7fcc6afa5930>"
       },
       "scene_Ae34MfXInvjLvsTo3dpQyPqJT": {
        "drc": {},
        "position": [
         26,
         -78,
         85
        ],
        "scale": 1,
        "scene": "<openalea.plantgl.scenegraph._pglsg.Scene object at 0x7fcc6af5bef0>"
       },
       "scene_At37MvkiKlzAY2bxRMMSiz5AC": {
        "drc": {},
        "position": [
         -88,
         109,
         103
        ],
        "scale": 1,
        "scene": "<openalea.plantgl.scenegraph._pglsg.Scene object at 0x7fcc6afd82b0>"
       },
       "scene_BJulSJDNIEd8V1ZCPClvMQBIU": {
        "drc": {},
        "position": [
         -9,
         115,
         36
        ],
        "scale": 1,
        "scene": "<openalea.plantgl.scenegraph._pglsg.Scene object at 0x7fcc6af7e930>"
       },
       "scene_Bg9YHliAcKUvEFsS3MOeOW4MI": {
        "drc": {},
        "position": [
         9,
         -2,
         -99
        ],
        "scale": 1,
        "scene": "<openalea.plantgl.scenegraph._pglsg.Scene object at 0x7fcc6b101df0>"
       },
       "scene_BtirzeT47Nv002dNRBnMwJ6tP": {
        "drc": {},
        "position": [
         -113,
         -63,
         56
        ],
        "scale": 1,
        "scene": "<openalea.plantgl.scenegraph._pglsg.Scene object at 0x7fcc6b018db0>"
       },
       "scene_C7tO8JSA5ux3gak6umEMeRWQB": {
        "drc": {},
        "position": [
         -123,
         -81,
         89
        ],
        "scale": 1,
        "scene": "<openalea.plantgl.scenegraph._pglsg.Scene object at 0x7fcc6b083cb0>"
       },
       "scene_C8PxrIruaU5tkn57emkecqLRz": {
        "drc": {},
        "position": [
         21,
         -121,
         -46
        ],
        "scale": 1,
        "scene": "<openalea.plantgl.scenegraph._pglsg.Scene object at 0x7fcc6afd85b0>"
       },
       "scene_C8mOG0jbzuRBkHrmbIBD3Nf2J": {
        "drc": {},
        "position": [
         -122,
         20,
         3
        ],
        "scale": 1,
        "scene": "<openalea.plantgl.scenegraph._pglsg.Scene object at 0x7fcc6af2e4b0>"
       },
       "scene_CMBdqyyVToiwwrMycNTc1gFwU": {
        "drc": {},
        "position": [
         6,
         45,
         12
        ],
        "scale": 1,
        "scene": "<openalea.plantgl.scenegraph._pglsg.Scene object at 0x7fcc6af1ad30>"
       },
       "scene_CXCNfMxq45fFcGGnunJfic226": {
        "drc": {},
        "position": [
         71,
         66,
         24
        ],
        "scale": 1,
        "scene": "<openalea.plantgl.scenegraph._pglsg.Scene object at 0x7fcc6b0041f0>"
       },
       "scene_Ce43GCf3mzkHS4fvT3Ik5Y8K7": {
        "drc": {},
        "position": [
         -94,
         78,
         49
        ],
        "scale": 1,
        "scene": "<openalea.plantgl.scenegraph._pglsg.Scene object at 0x7fcc6b06e3b0>"
       },
       "scene_CsMaBu8EPdoLF1iywHoxdpeXw": {
        "drc": {},
        "position": [
         -116,
         81,
         114
        ],
        "scale": 1,
        "scene": "<openalea.plantgl.scenegraph._pglsg.Scene object at 0x7fcc6afa5370>"
       },
       "scene_D11sgI7Q4cjOhmwgpKV42lqMs": {
        "drc": {},
        "position": [
         -83,
         -91,
         -3
        ],
        "scale": 1,
        "scene": "<openalea.plantgl.scenegraph._pglsg.Scene object at 0x7fcc6b03b1b0>"
       },
       "scene_EZCI6RwgCpvEi55jffTiv7N8w": {
        "drc": {},
        "position": [
         17,
         69,
         -8
        ],
        "scale": 1,
        "scene": "<openalea.plantgl.scenegraph._pglsg.Scene object at 0x7fcc6b06ef30>"
       },
       "scene_FigalszbycoLZ9iIlJAFQ3X8O": {
        "drc": {},
        "position": [
         42,
         96,
         -30
        ],
        "scale": 1,
        "scene": "<openalea.plantgl.scenegraph._pglsg.Scene object at 0x7fcc6afaba70>"
       },
       "scene_FlBKJOP0eUpgIHvI2j7sRMaCO": {
        "drc": {},
        "position": [
         -55,
         -118,
         10
        ],
        "scale": 1,
        "scene": "<openalea.plantgl.scenegraph._pglsg.Scene object at 0x7fcc6aeddfb0>"
       },
       "scene_FtJi5xFQH3qgHmuTEeeEOeC1x": {
        "drc": {},
        "position": [
         58,
         87,
         -67
        ],
        "scale": 1,
        "scene": "<openalea.plantgl.scenegraph._pglsg.Scene object at 0x7fcc6b03b830>"
       },
       "scene_G79ygn6cO4CIy75Fe5oslFDJ7": {
        "drc": {},
        "position": [
         83,
         -56,
         50
        ],
        "scale": 1,
        "scene": "<openalea.plantgl.scenegraph._pglsg.Scene object at 0x7fcc6b0f19b0>"
       },
       "scene_GMzuvFXDa6AK1gkmU234Ve9NU": {
        "drc": {},
        "position": [
         -16,
         9,
         101
        ],
        "scale": 1,
        "scene": "<openalea.plantgl.scenegraph._pglsg.Scene object at 0x7fcc6b0cdc30>"
       },
       "scene_GRjU8z15VtF4jffhirqmHJ4j5": {
        "drc": {},
        "position": [
         80,
         32,
         101
        ],
        "scale": 1,
        "scene": "<openalea.plantgl.scenegraph._pglsg.Scene object at 0x7fcc6aff3e30>"
       },
       "scene_GdcBVFtNU6LcrFaZ8Vjp0Qpa4": {
        "drc": {},
        "position": [
         77,
         125,
         -7
        ],
        "scale": 1,
        "scene": "<openalea.plantgl.scenegraph._pglsg.Scene object at 0x7fcc6afa5630>"
       },
       "scene_GqCZCp2kHWbNFPkrzz983LJtF": {
        "drc": {},
        "position": [
         -73,
         -19,
         101
        ],
        "scale": 1,
        "scene": "<openalea.plantgl.scenegraph._pglsg.Scene object at 0x7fcc6b004930>"
       },
       "scene_Gr2oYx9yh0J4AhsEsHDqeRopU": {
        "drc": {},
        "position": [
         -52,
         -32,
         89
        ],
        "scale": 1,
        "scene": "<openalea.plantgl.scenegraph._pglsg.Scene object at 0x7fcc6b552bb0>"
       },
       "scene_GsBDEvsB5ku6KLoFyGMRjXKLH": {
        "drc": {},
        "position": [
         -48,
         17,
         20
        ],
        "scale": 1,
        "scene": "<openalea.plantgl.scenegraph._pglsg.Scene object at 0x7fcc6b131df0>"
       },
       "scene_H2lzuNr3hHwHsTXmxgHGAwgwm": {
        "drc": {},
        "position": [
         -62,
         -73,
         -18
        ],
        "scale": 1,
        "scene": "<openalea.plantgl.scenegraph._pglsg.Scene object at 0x7fcc6aedd5f0>"
       },
       "scene_HE2tCs1fjpcVyUGKy1PxBmOVT": {
        "drc": {},
        "position": [
         -80,
         94,
         103
        ],
        "scale": 1,
        "scene": "<openalea.plantgl.scenegraph._pglsg.Scene object at 0x7fcc6af7eef0>"
       },
       "scene_HIOvTiG5gVpLN2wHusRDZRcH2": {
        "drc": {},
        "position": [
         -120,
         36,
         115
        ],
        "scale": 1,
        "scene": "<openalea.plantgl.scenegraph._pglsg.Scene object at 0x7fcc6af5b7b0>"
       },
       "scene_HK23vKtt3xXJtc5Xkon21v9Cl": {
        "drc": {},
        "position": [
         22,
         122,
         -56
        ],
        "scale": 1,
        "scene": "<openalea.plantgl.scenegraph._pglsg.Scene object at 0x7fcc6b5523f0>"
       },
       "scene_HN0EO43sntdszLxKhjhOO7S6X": {
        "drc": {},
        "position": [
         100,
         101,
         -20
        ],
        "scale": 1,
        "scene": "<openalea.plantgl.scenegraph._pglsg.Scene object at 0x7fcc6b05cc30>"
       },
       "scene_HQoRMadh7zLYuObuIvVCGiFUI": {
        "drc": {},
        "position": [
         -62,
         -87,
         69
        ],
        "scale": 1,
        "scene": "<openalea.plantgl.scenegraph._pglsg.Scene object at 0x7fcc6af48d30>"
       },
       "scene_Hd8PobkSStXQQuTI8wdQ31roJ": {
        "drc": {},
        "position": [
         108,
         -125,
         117
        ],
        "scale": 1,
        "scene": "<openalea.plantgl.scenegraph._pglsg.Scene object at 0x7fcc6b052d30>"
       },
       "scene_HvzM52cQYvTEYkuVxMBGxxXg9": {
        "drc": {},
        "position": [
         -73,
         109,
         -77
        ],
        "scale": 1,
        "scene": "<openalea.plantgl.scenegraph._pglsg.Scene object at 0x7fcc6af355b0>"
       },
       "scene_INDpkj5xm9KscbCsUUvqM6H4v": {
        "drc": {},
        "position": [
         -119,
         -10,
         -71
        ],
        "scale": 1,
        "scene": "<openalea.plantgl.scenegraph._pglsg.Scene object at 0x7fcc6af13fb0>"
       },
       "scene_IXpiqlRBRAzjEgjsWOMC2zOdb": {
        "drc": {},
        "position": [
         -104,
         3,
         -5
        ],
        "scale": 1,
        "scene": "<openalea.plantgl.scenegraph._pglsg.Scene object at 0x7fcc6aeefe70>"
       },
       "scene_IYmcKdNUkM28vHJadXbdMS9h6": {
        "drc": {},
        "position": [
         -36,
         -47,
         5
        ],
        "scale": 1,
        "scene": "<openalea.plantgl.scenegraph._pglsg.Scene object at 0x7fcc6b0d7730>"
       },
       "scene_Ib2ZKjYEtz2LZzScpIGycWjIL": {
        "drc": {},
        "position": [
         1,
         -35,
         69
        ],
        "scale": 1,
        "scene": "<openalea.plantgl.scenegraph._pglsg.Scene object at 0x7fcc6aec17b0>"
       },
       "scene_IndOnqw3j8biG300lQiqct1Br": {
        "drc": {},
        "position": [
         -81,
         25,
         -10
        ],
        "scale": 1,
        "scene": "<openalea.plantgl.scenegraph._pglsg.Scene object at 0x7fcc6b0ba9b0>"
       },
       "scene_JBFB7eMvIeYTcCrXDjmQIoPL1": {
        "drc": {},
        "position": [
         -37,
         36,
         46
        ],
        "scale": 1,
        "scene": "<openalea.plantgl.scenegraph._pglsg.Scene object at 0x7fcc6af487b0>"
       },
       "scene_JWEMNTCjpWcfAvv5AMDBXN9jO": {
        "drc": {},
        "position": [
         59,
         94,
         -3
        ],
        "scale": 1,
        "scene": "<openalea.plantgl.scenegraph._pglsg.Scene object at 0x7fcc6b00aa30>"
       },
       "scene_JoSS3Eswgzr3amzpCCN8phZGf": {
        "drc": {},
        "position": [
         118,
         -31,
         54
        ],
        "scale": 1,
        "scene": "<openalea.plantgl.scenegraph._pglsg.Scene object at 0x7fcc6b09e970>"
       },
       "scene_K8uRTJcncD3ThyqkqbmG9Mb22": {
        "drc": {},
        "position": [
         -99,
         -98,
         102
        ],
        "scale": 1,
        "scene": "<openalea.plantgl.scenegraph._pglsg.Scene object at 0x7fcc6afbb4b0>"
       },
       "scene_KMjB34Vs32EzAgffopXW51toe": {
        "drc": {},
        "position": [
         100,
         0,
         30
        ],
        "scale": 1,
        "scene": "<openalea.plantgl.scenegraph._pglsg.Scene object at 0x7fcc6b0d7ab0>"
       },
       "scene_Kfuu0YVb9wXLKyQNzoDSJOqfL": {
        "drc": {},
        "position": [
         46,
         -98,
         -1
        ],
        "scale": 1,
        "scene": "<openalea.plantgl.scenegraph._pglsg.Scene object at 0x7fcc6b065170>"
       },
       "scene_Ku3yhGiltks0V1mp5bCyRoX30": {
        "drc": {},
        "position": [
         -115,
         98,
         57
        ],
        "scale": 1,
        "scene": "<openalea.plantgl.scenegraph._pglsg.Scene object at 0x7fcc6b0ba3f0>"
       },
       "scene_LGglXXjOnW4c4rBPqL084bBEE": {
        "drc": {},
        "position": [
         -53,
         -81,
         114
        ],
        "scale": 1,
        "scene": "<openalea.plantgl.scenegraph._pglsg.Scene object at 0x7fcc6af90bf0>"
       },
       "scene_LPUgOJyD7sZRIm3KalosusRSr": {
        "drc": {},
        "position": [
         8,
         13,
         11
        ],
        "scale": 1,
        "scene": "<openalea.plantgl.scenegraph._pglsg.Scene object at 0x7fcc6b131830>"
       },
       "scene_LWuAvoGFSEBEG44CCmB4rthxg": {
        "drc": {},
        "position": [
         29,
         119,
         91
        ],
        "scale": 1,
        "scene": "<openalea.plantgl.scenegraph._pglsg.Scene object at 0x7fcc6af997b0>"
       },
       "scene_MFOuxaSbAuAvcy7JENvQiEVOZ": {
        "drc": {},
        "position": [
         39,
         -113,
         52
        ],
        "scale": 1,
        "scene": "<openalea.plantgl.scenegraph._pglsg.Scene object at 0x7fcc6af63d70>"
       },
       "scene_MFabagQc0ENxaSyKJeB2LMyqD": {
        "drc": {},
        "position": [
         40,
         -63,
         -22
        ],
        "scale": 1,
        "scene": "<openalea.plantgl.scenegraph._pglsg.Scene object at 0x7fcc6b0e05f0>"
       },
       "scene_MVMRnWaF8kopvRLZxySKq5St0": {
        "drc": {},
        "position": [
         96,
         -35,
         -68
        ],
        "scale": 1,
        "scene": "<openalea.plantgl.scenegraph._pglsg.Scene object at 0x7fcc6aff32b0>"
       },
       "scene_MZxC8oKrHzEdGVSMwp4gE4q8D": {
        "drc": {},
        "position": [
         -78,
         94,
         -14
        ],
        "scale": 1,
        "scene": "<openalea.plantgl.scenegraph._pglsg.Scene object at 0x7fcc6afc6e30>"
       },
       "scene_N1FQD2kaOCtMieagRcAqyqOQ0": {
        "drc": {},
        "position": [
         109,
         -4,
         -114
        ],
        "scale": 1,
        "scene": "<openalea.plantgl.scenegraph._pglsg.Scene object at 0x7fcc6b552930>"
       },
       "scene_NAUXCYq4FLpTawwlsVzGHb8u5": {
        "drc": {},
        "position": [
         53,
         -27,
         78
        ],
        "scale": 1,
        "scene": "<openalea.plantgl.scenegraph._pglsg.Scene object at 0x7fcc6af52330>"
       },
       "scene_NDxfqLVgGGxZVkIK1rcjhJ0GG": {
        "drc": {},
        "position": [
         -63,
         50,
         45
        ],
        "scale": 1,
        "scene": "<openalea.plantgl.scenegraph._pglsg.Scene object at 0x7fcc6aff3870>"
       },
       "scene_NF1TAGYfVVf2qZLeHqXBSw5t1": {
        "drc": {},
        "position": [
         -39,
         101,
         41
        ],
        "scale": 1,
        "scene": "<openalea.plantgl.scenegraph._pglsg.Scene object at 0x7fcc6b552870>"
       },
       "scene_NJEaokRpxJMv4j2uBSZpGqF67": {
        "drc": {},
        "position": [
         -115,
         -82,
         52
        ],
        "scale": 1,
        "scene": "<openalea.plantgl.scenegraph._pglsg.Scene object at 0x7fcc6af3da30>"
       },
       "scene_NPR6TTtHidW9UdPCjUW0Z6ith": {
        "drc": {},
        "position": [
         -77,
         38,
         -53
        ],
        "scale": 1,
        "scene": "<openalea.plantgl.scenegraph._pglsg.Scene object at 0x7fcc6b065db0>"
       },
       "scene_NpSLcDgodleC3LNsQcNs1NchB": {
        "drc": {},
        "position": [
         -115,
         -26,
         4
        ],
        "scale": 1,
        "scene": "<openalea.plantgl.scenegraph._pglsg.Scene object at 0x7fcc6af5b7f0>"
       },
       "scene_P9MZsmtjOIlucbzKsqdFDcpGb": {
        "drc": {},
        "position": [
         21,
         16,
         25
        ],
        "scale": 1,
        "scene": "<openalea.plantgl.scenegraph._pglsg.Scene object at 0x7fcc6affa4f0>"
       },
       "scene_PAY8F7TYW1ZZwfNzrw3nOVmQz": {
        "drc": {},
        "position": [
         -87,
         81,
         -31
        ],
        "scale": 1,
        "scene": "<openalea.plantgl.scenegraph._pglsg.Scene object at 0x7fcc6af528b0>"
       },
       "scene_PEW1ElhRxmanJ5I3tlNlt1sjx": {
        "drc": {},
        "position": [
         -115,
         62,
         -83
        ],
        "scale": 1,
        "scene": "<openalea.plantgl.scenegraph._pglsg.Scene object at 0x7fcc6aeb8bf0>"
       },
       "scene_PHz4TXWjoVoOxvlIAMhuwqi0N": {
        "drc": {},
        "position": [
         -49,
         -67,
         30
        ],
        "scale": 1,
        "scene": "<openalea.plantgl.scenegraph._pglsg.Scene object at 0x7fcc6af48af0>"
       },
       "scene_PhLoTcDzcwd2G4IdrifoBU0yT": {
        "drc": {},
        "position": [
         -78,
         -89,
         -112
        ],
        "scale": 1,
        "scene": "<openalea.plantgl.scenegraph._pglsg.Scene object at 0x7fcc6b0d7030>"
       },
       "scene_QAkk2FoEvP1MpKomTSZnQ2DX3": {
        "drc": {},
        "position": [
         -72,
         -13,
         -6
        ],
        "scale": 1,
        "scene": "<openalea.plantgl.scenegraph._pglsg.Scene object at 0x7fcc6afc62b0>"
       },
       "scene_Qd2ylpjFlfFkOLvUqfRsiOxWk": {
        "drc": {},
        "position": [
         47,
         -11,
         48
        ],
        "scale": 1,
        "scene": "<openalea.plantgl.scenegraph._pglsg.Scene object at 0x7fcc6b083cf0>"
       },
       "scene_R9llVuZi6zxYHPfE1sYsvEZHK": {
        "drc": {},
        "position": [
         -1,
         126,
         99
        ],
        "scale": 1,
        "scene": "<openalea.plantgl.scenegraph._pglsg.Scene object at 0x7fcc6b0af5b0>"
       },
       "scene_Rig3NeZb5OI0GwcwZevEQvMti": {
        "drc": {},
        "position": [
         -54,
         -67,
         -68
        ],
        "scale": 1,
        "scene": "<openalea.plantgl.scenegraph._pglsg.Scene object at 0x7fcc6b552630>"
       },
       "scene_S2X62rrterN51uj9uBsn5NtqE": {
        "drc": {},
        "position": [
         -52,
         -59,
         59
        ],
        "scale": 1,
        "scene": "<openalea.plantgl.scenegraph._pglsg.Scene object at 0x7fcc6af003b0>"
       },
       "scene_ScfUXgKXRrJWJWY1USyw9lZiP": {
        "drc": {},
        "position": [
         -110,
         -52,
         49
        ],
        "scale": 1,
        "scene": "<openalea.plantgl.scenegraph._pglsg.Scene object at 0x7fcc6af1a770>"
       },
       "scene_Sfc3PkYgGNy9G0UrwPvPFmAqA": {
        "drc": {},
        "position": [
         38,
         -59,
         19
        ],
        "scale": 1,
        "scene": "<openalea.plantgl.scenegraph._pglsg.Scene object at 0x7fcc6af3d730>"
       },
       "scene_Tb64ehEvJ2CMy74w8zkLgYj41": {
        "drc": {},
        "position": [
         80,
         -27,
         14
        ],
        "scale": 1,
        "scene": "<openalea.plantgl.scenegraph._pglsg.Scene object at 0x7fcc6aecc370>"
       },
       "scene_U1pP4sdDl7Xh4yeoo3XMCKiVH": {
        "drc": {},
        "position": [
         71,
         -60,
         -40
        ],
        "scale": 1,
        "scene": "<openalea.plantgl.scenegraph._pglsg.Scene object at 0x7fcc6b128c70>"
       },
       "scene_U3zsMwyw8c1NdsOq8LwmnUnlX": {
        "drc": {},
        "position": [
         62,
         120,
         53
        ],
        "scale": 1,
        "scene": "<openalea.plantgl.scenegraph._pglsg.Scene object at 0x7fcc6af6dd30>"
       },
       "scene_UhgoMjKb3NDe7Fu6moEHefnJc": {
        "drc": {},
        "position": [
         -40,
         -123,
         -97
        ],
        "scale": 1,
        "scene": "<openalea.plantgl.scenegraph._pglsg.Scene object at 0x7fcc6b10d9b0>"
       },
       "scene_UoZv77EbCj030B8OiCqwlhxTg": {
        "drc": {},
        "position": [
         0,
         79,
         -46
        ],
        "scale": 1,
        "scene": "<openalea.plantgl.scenegraph._pglsg.Scene object at 0x7fcc6af52e70>"
       },
       "scene_UyboS2odVvI850QSBbqIF4F6i": {
        "drc": {},
        "position": [
         -99,
         107,
         -93
        ],
        "scale": 1,
        "scene": "<openalea.plantgl.scenegraph._pglsg.Scene object at 0x7fcc6ae80fb0>"
       },
       "scene_UzYb3B1A5nUwnL8mCFYJ1q4Jt": {
        "drc": {},
        "position": [
         -59,
         -10,
         51
        ],
        "scale": 1,
        "scene": "<openalea.plantgl.scenegraph._pglsg.Scene object at 0x7fcc9c76b730>"
       },
       "scene_V3L30HfagrRgDrjadFGEjWnBY": {
        "drc": {},
        "position": [
         -37,
         64,
         -28
        ],
        "scale": 1,
        "scene": "<openalea.plantgl.scenegraph._pglsg.Scene object at 0x7fcc6ae8bbf0>"
       },
       "scene_VKZgVLbKwOS8SusbvgjNanRdk": {
        "drc": {},
        "position": [
         6,
         -21,
         21
        ],
        "scale": 1,
        "scene": "<openalea.plantgl.scenegraph._pglsg.Scene object at 0x7fcc6b0fa0b0>"
       },
       "scene_VMSB5NoVmT3x3is5HUrEL3Xh1": {
        "drc": {},
        "position": [
         -14,
         -37,
         63
        ],
        "scale": 1,
        "scene": "<openalea.plantgl.scenegraph._pglsg.Scene object at 0x7fcc6b0c3e70>"
       },
       "scene_VkHwiYT2bUqRxXUihwBI7TjHl": {
        "drc": {},
        "position": [
         -47,
         -15,
         -16
        ],
        "scale": 1,
        "scene": "<openalea.plantgl.scenegraph._pglsg.Scene object at 0x7fcc6af5b970>"
       },
       "scene_VqnkvGBwuW1dveE91gzTENnAK": {
        "drc": {},
        "position": [
         -81,
         -73,
         -124
        ],
        "scale": 1,
        "scene": "<openalea.plantgl.scenegraph._pglsg.Scene object at 0x7fcc6af99f70>"
       },
       "scene_WAzUiMbIpcsS47bfpoXk6yrA3": {
        "drc": {},
        "position": [
         50,
         85,
         -62
        ],
        "scale": 1,
        "scene": "<openalea.plantgl.scenegraph._pglsg.Scene object at 0x7fcc6afec5b0>"
       },
       "scene_Wg6KrK4BPTJlOjqhGQ5I0d1IJ": {
        "drc": {},
        "position": [
         121,
         -52,
         8
        ],
        "scale": 1,
        "scene": "<openalea.plantgl.scenegraph._pglsg.Scene object at 0x7fcc6aec1d70>"
       },
       "scene_X3rZsIw6TRWdvkKlLv5wPoQFE": {
        "drc": {},
        "position": [
         -49,
         22,
         -46
        ],
        "scale": 1,
        "scene": "<openalea.plantgl.scenegraph._pglsg.Scene object at 0x7fcc6b552530>"
       },
       "scene_XEkOHvz3GGOQ2XYBlIRXFuPfl": {
        "drc": {},
        "position": [
         -51,
         101,
         -3
        ],
        "scale": 1,
        "scene": "<openalea.plantgl.scenegraph._pglsg.Scene object at 0x7fcc6b10d3f0>"
       },
       "scene_XJPrEzcUs05cuodKDZ9dCZDLR": {
        "drc": {},
        "position": [
         84,
         -21,
         -65
        ],
        "scale": 1,
        "scene": "<openalea.plantgl.scenegraph._pglsg.Scene object at 0x7fcc6af635f0>"
       },
       "scene_XYK31RoXJg7oGEPWzvYK0GOzM": {
        "drc": {},
        "position": [
         95,
         -93,
         -53
        ],
        "scale": 1,
        "scene": "<openalea.plantgl.scenegraph._pglsg.Scene object at 0x7fcc6b00acf0>"
       },
       "scene_XfnPujSrHuvPzqFzbRFMXTktF": {
        "drc": {},
        "position": [
         -108,
         87,
         -66
        ],
        "scale": 1,
        "scene": "<openalea.plantgl.scenegraph._pglsg.Scene object at 0x7fcc6b0c3570>"
       },
       "scene_Xp5xqLLsOxkhtIDHaZBNHrPOI": {
        "drc": {},
        "position": [
         77,
         -55,
         -98
        ],
        "scale": 1,
        "scene": "<openalea.plantgl.scenegraph._pglsg.Scene object at 0x7fcc6b11ed30>"
       },
       "scene_XsbysEQAaGFQeQ6Y56xx9hqBl": {
        "drc": {},
        "position": [
         57,
         -105,
         96
        ],
        "scale": 1,
        "scene": "<openalea.plantgl.scenegraph._pglsg.Scene object at 0x7fcc6b08bdf0>"
       },
       "scene_Y3ClIc4Y8VKQo3CpQUVQi2ZQU": {
        "drc": {},
        "position": [
         13,
         63,
         3
        ],
        "scale": 1,
        "scene": "<openalea.plantgl.scenegraph._pglsg.Scene object at 0x7fcc9c787130>"
       },
       "scene_Y4ZgItGHpkykr4H5eugMkKmhd": {
        "drc": {},
        "position": [
         76,
         -19,
         -102
        ],
        "scale": 1,
        "scene": "<openalea.plantgl.scenegraph._pglsg.Scene object at 0x7fcc6b020ef0>"
       },
       "scene_YIOqoKkGAgQBblhyrCcvZMhkY": {
        "drc": {},
        "position": [
         75,
         -32,
         72
        ],
        "scale": 1,
        "scene": "<openalea.plantgl.scenegraph._pglsg.Scene object at 0x7fcc6af07530>"
       },
       "scene_YRxuKZaFMJh5s4fhaUl8IXAha": {
        "drc": {},
        "position": [
         -56,
         106,
         126
        ],
        "scale": 1,
        "scene": "<openalea.plantgl.scenegraph._pglsg.Scene object at 0x7fcc6af874f0>"
       },
       "scene_YU0joWtTWMnyeeVY8i98Ocm5u": {
        "drc": {},
        "position": [
         -32,
         11,
         -35
        ],
        "scale": 1,
        "scene": "<openalea.plantgl.scenegraph._pglsg.Scene object at 0x7fcc6ae80b30>"
       },
       "scene_YXYizZQorhwWdZTJrDwqgeQ01": {
        "drc": {},
        "position": [
         -27,
         -28,
         -10
        ],
        "scale": 1,
        "scene": "<openalea.plantgl.scenegraph._pglsg.Scene object at 0x7fcc6afab4b0>"
       },
       "scene_YXjbxF4fKlgv0vW5GMYNCVPe1": {
        "drc": {},
        "position": [
         100,
         33,
         7
        ],
        "scale": 1,
        "scene": "<openalea.plantgl.scenegraph._pglsg.Scene object at 0x7fcc6b0c3b30>"
       },
       "scene_YvyVBobxjGITo1Fhg8WaX3ryo": {
        "drc": {},
        "position": [
         8,
         -70,
         71
        ],
        "scale": 1,
        "scene": "<openalea.plantgl.scenegraph._pglsg.Scene object at 0x7fcc6af5b470>"
       },
       "scene_ZULFRdcRRNxSzmxEgoh3HgPHP": {
        "drc": {},
        "position": [
         -107,
         -106,
         24
        ],
        "scale": 1,
        "scene": "<openalea.plantgl.scenegraph._pglsg.Scene object at 0x7fcc6af07d30>"
       },
       "scene_ZlY1WaCZ4d2T8Z5Q5C4qxjMnC": {
        "drc": {},
        "position": [
         78,
         29,
         45
        ],
        "scale": 1,
        "scene": "<openalea.plantgl.scenegraph._pglsg.Scene object at 0x7fcc6afbbe70>"
       },
       "scene_a8g0XStYgKMdfzftUmPyFfszs": {
        "drc": {},
        "position": [
         -29,
         104,
         -9
        ],
        "scale": 1,
        "scene": "<openalea.plantgl.scenegraph._pglsg.Scene object at 0x7fcc6af07af0>"
       },
       "scene_aAyVM6X6TVtR4sCaeZZswwvMV": {
        "drc": {},
        "position": [
         -101,
         -91,
         75
        ],
        "scale": 1,
        "scene": "<openalea.plantgl.scenegraph._pglsg.Scene object at 0x7fcc6b1169f0>"
       },
       "scene_bJ4Ijqp2ibnyi5cNIW9fhcesQ": {
        "drc": {},
        "position": [
         69,
         79,
         -102
        ],
        "scale": 1,
        "scene": "<openalea.plantgl.scenegraph._pglsg.Scene object at 0x7fcc6b074d30>"
       },
       "scene_bfilAVYcvETYOBmONfuhRo7qb": {
        "drc": {},
        "position": [
         27,
         74,
         -43
        ],
        "scale": 1,
        "scene": "<openalea.plantgl.scenegraph._pglsg.Scene object at 0x7fcc6af48f70>"
       },
       "scene_bgURv5N3ju7Se6atSzAsTjBKC": {
        "drc": {},
        "position": [
         -104,
         -65,
         31
        ],
        "scale": 1,
        "scene": "<openalea.plantgl.scenegraph._pglsg.Scene object at 0x7fcc6b101830>"
       },
       "scene_by2URCRmdakXnJB8BGsfllx8J": {
        "drc": {},
        "position": [
         34,
         63,
         -58
        ],
        "scale": 1,
        "scene": "<openalea.plantgl.scenegraph._pglsg.Scene object at 0x7fcc6affad70>"
       },
       "scene_cEkJba45HBxS1nwIUED1922Pb": {
        "drc": {},
        "position": [
         -91,
         -29,
         -95
        ],
        "scale": 1,
        "scene": "<openalea.plantgl.scenegraph._pglsg.Scene object at 0x7fcc6b1286b0>"
       },
       "scene_cYpocdKSCWdM9wLdZUjXGRdwy": {
        "drc": {},
        "position": [
         -84,
         -60,
         -96
        ],
        "scale": 1,
        "scene": "<openalea.plantgl.scenegraph._pglsg.Scene object at 0x7fcc6aecc930>"
       },
       "scene_cm8SO4tFJ2ZZunKCq0qwAKilx": {
        "drc": {},
        "position": [
         -11,
         -58,
         88
        ],
        "scale": 1,
        "scene": "<openalea.plantgl.scenegraph._pglsg.Scene object at 0x7fcc6af2ea70>"
       },
       "scene_cnukDTWSDWKQqVHhC4mwm5Xmc": {
        "drc": {},
        "position": [
         -81,
         69,
         46
        ],
        "scale": 1,
        "scene": "<openalea.plantgl.scenegraph._pglsg.Scene object at 0x7fcc6b101270>"
       },
       "scene_d0aZiVjbFKMmTpHXhLw5dLfaS": {
        "drc": {},
        "position": [
         -27,
         -19,
         22
        ],
        "scale": 1,
        "scene": "<openalea.plantgl.scenegraph._pglsg.Scene object at 0x7fcc6b0cd670>"
       },
       "scene_d1e0rXaUyTHJU5hxr0tFi6qak": {
        "drc": {},
        "position": [
         59,
         -81,
         -88
        ],
        "scale": 1,
        "scene": "<openalea.plantgl.scenegraph._pglsg.Scene object at 0x7fcc6b0a5d30>"
       },
       "scene_ddX2gP5xIp5LGSc3PdBfmPmxF": {
        "drc": {},
        "position": [
         -43,
         -69,
         -55
        ],
        "scale": 1,
        "scene": "<openalea.plantgl.scenegraph._pglsg.Scene object at 0x7fcc6aed4470>"
       },
       "scene_do5jXSJzBxLI9ghJJzN65ArMN": {
        "drc": {},
        "position": [
         -41,
         85,
         -56
        ],
        "scale": 1,
        "scene": "<openalea.plantgl.scenegraph._pglsg.Scene object at 0x7fcc6aed4a30>"
       },
       "scene_drUZDvrDdKOHTtFRW3i3JQcAb": {
        "drc": {},
        "position": [
         -26,
         73,
         -22
        ],
        "scale": 1,
        "scene": "<openalea.plantgl.scenegraph._pglsg.Scene object at 0x7fcc6af35330>"
       },
       "scene_dt3DikczUYJIvfwTDGU9PiBvq": {
        "drc": {},
        "position": [
         98,
         58,
         5
        ],
        "scale": 1,
        "scene": "<openalea.plantgl.scenegraph._pglsg.Scene object at 0x7fcc6b0657f0>"
       },
       "scene_duM7doNM4dgfKNnMDsDmuvcfH": {
        "drc": {},
        "position": [
         -19,
         -90,
         39
        ],
        "scale": 1,
        "scene": "<openalea.plantgl.scenegraph._pglsg.Scene object at 0x7fcc6b11eaf0>"
       },
       "scene_duhpVXvvJzX6qbJIK2pfiUi4q": {
        "drc": {},
        "position": [
         51,
         -18,
         116
        ],
        "scale": 1,
        "scene": "<openalea.plantgl.scenegraph._pglsg.Scene object at 0x7fcc6aef6330>"
       },
       "scene_dzDAN3uhWr1hgcDdAE1Bw3cel": {
        "drc": {},
        "position": [
         74,
         71,
         88
        ],
        "scale": 1,
        "scene": "<openalea.plantgl.scenegraph._pglsg.Scene object at 0x7fcc6ae96f70>"
       },
       "scene_eI7sUT5qMXCdS7e21P2bt43Sw": {
        "drc": {},
        "position": [
         -72,
         30,
         53
        ],
        "scale": 1,
        "scene": "<openalea.plantgl.scenegraph._pglsg.Scene object at 0x7fcc6afabbf0>"
       },
       "scene_fawgeEH2v9JcGBz8RsyV7Sa8Q": {
        "drc": {},
        "position": [
         109,
         -80,
         -120
        ],
        "scale": 1,
        "scene": "<openalea.plantgl.scenegraph._pglsg.Scene object at 0x7fcc6af3d970>"
       },
       "scene_ffqRENXPB4QZXbn8IwrwlNQHF": {
        "drc": {},
        "position": [
         -24,
         32,
         22
        ],
        "scale": 1,
        "scene": "<openalea.plantgl.scenegraph._pglsg.Scene object at 0x7fcc6afd8d30>"
       },
       "scene_ftAsRo0DRm8kJFZbDElwcwKn5": {
        "drc": {},
        "position": [
         -87,
         -110,
         -112
        ],
        "scale": 1,
        "scene": "<openalea.plantgl.scenegraph._pglsg.Scene object at 0x7fcc6aee5770>"
       },
       "scene_fyhSragSpONrKUiWgvZc5HmZK": {
        "drc": {},
        "position": [
         -26,
         -41,
         116
        ],
        "scale": 1,
        "scene": "<openalea.plantgl.scenegraph._pglsg.Scene object at 0x7fcc6aecceb0>"
       },
       "scene_getEnol7fiebEAGnOnMquSDOo": {
        "drc": {},
        "position": [
         -108,
         -93,
         -22
        ],
        "scale": 1,
        "scene": "<openalea.plantgl.scenegraph._pglsg.Scene object at 0x7fcc6af52db0>"
       },
       "scene_goRvOXlHpXk8XBgTxUmbbwM75": {
        "drc": {},
        "position": [
         105,
         -54,
         -6
        ],
        "scale": 1,
        "scene": "<openalea.plantgl.scenegraph._pglsg.Scene object at 0x7fcc6af13bb0>"
       },
       "scene_h1YrTJuQZch5ajKXp16o4rG9M": {
        "drc": {},
        "position": [
         -5,
         10,
         -92
        ],
        "scale": 1,
        "scene": "<openalea.plantgl.scenegraph._pglsg.Scene object at 0x7fcc6af876f0>"
       },
       "scene_h8johm7UEEbTRuTWxdJAK6Hmv": {
        "drc": {},
        "position": [
         32,
         -6,
         89
        ],
        "scale": 1,
        "scene": "<openalea.plantgl.scenegraph._pglsg.Scene object at 0x7fcc6af63fb0>"
       },
       "scene_h9ANwZY02T42Ki4fgioXIlEvy": {
        "drc": {},
        "position": [
         5,
         53,
         67
        ],
        "scale": 1,
        "scene": "<openalea.plantgl.scenegraph._pglsg.Scene object at 0x7fcc6b07dc70>"
       },
       "scene_hNnuHXpxf45hqHz7yEymOfKrQ": {
        "drc": {},
        "position": [
         -93,
         -57,
         126
        ],
        "scale": 1,
        "scene": "<openalea.plantgl.scenegraph._pglsg.Scene object at 0x7fcc6afcf430>"
       },
       "scene_hgQgc9hZqmYPrRrl1gTMtzGa2": {
        "drc": {},
        "position": [
         0,
         -27,
         -125
        ],
        "scale": 1,
        "scene": "<openalea.plantgl.scenegraph._pglsg.Scene object at 0x7fcc6b131470>"
       },
       "scene_hgmCIDFL22Dytk8D3iM3Fr9HZ": {
        "drc": {},
        "position": [
         116,
         58,
         76
        ],
        "scale": 1,
        "scene": "<openalea.plantgl.scenegraph._pglsg.Scene object at 0x7fcc6aeb8630>"
       },
       "scene_i2GGgv5zE8QCsa40o2R76ALcg": {
        "drc": {},
        "position": [
         0,
         -111,
         16
        ],
        "scale": 1,
        "scene": "<openalea.plantgl.scenegraph._pglsg.Scene object at 0x7fcc6b04b3f0>"
       },
       "scene_iBkOGBOqASa22yjA0TNlq0qAT": {
        "drc": {},
        "position": [
         2,
         54,
         -58
        ],
        "scale": 1,
        "scene": "<openalea.plantgl.scenegraph._pglsg.Scene object at 0x7fcc6af872b0>"
       },
       "scene_iDe2azbAuAi0IYURgSh9Jdlmn": {
        "drc": {},
        "position": [
         99,
         -14,
         94
        ],
        "scale": 1,
        "scene": "<openalea.plantgl.scenegraph._pglsg.Scene object at 0x7fcc6afd8b70>"
       },
       "scene_iIk5UJh58jQniWsDU4KxsJ2f6": {
        "drc": {},
        "position": [
         -102,
         -125,
         8
        ],
        "scale": 1,
        "scene": "<openalea.plantgl.scenegraph._pglsg.Scene object at 0x7fcc6afbb6f0>"
       },
       "scene_iY4yRHKJhHCMnLHenlXQ2PIuN": {
        "drc": {},
        "position": [
         27,
         -33,
         -81
        ],
        "scale": 1,
        "scene": "<openalea.plantgl.scenegraph._pglsg.Scene object at 0x7fcc6b116570>"
       },
       "scene_j4a9DfKODg1lEsgWRgIa4S5Hm": {
        "drc": {},
        "position": [
         4,
         -86,
         34
        ],
        "scale": 1,
        "scene": "<openalea.plantgl.scenegraph._pglsg.Scene object at 0x7fcc6ae77a30>"
       },
       "scene_jjnKB6e1nqNQJ9yRVGaWRcuhE": {
        "drc": {},
        "position": [
         69,
         115,
         99
        ],
        "scale": 1,
        "scene": "<openalea.plantgl.scenegraph._pglsg.Scene object at 0x7fcc6b0baf70>"
       },
       "scene_joMkwftIbT7zh1z0sR9FHKLnI": {
        "drc": {},
        "position": [
         71,
         13,
         -99
        ],
        "scale": 1,
        "scene": "<openalea.plantgl.scenegraph._pglsg.Scene object at 0x7fcc6b074530>"
       },
       "scene_jqvHNELOdK174cSMJ3Lf2GEOg": {
        "drc": {},
        "position": [
         -13,
         100,
         -53
        ],
        "scale": 1,
        "scene": "<openalea.plantgl.scenegraph._pglsg.Scene object at 0x7fcc6aeddbb0>"
       },
       "scene_k8Bi3dTBW0THhQCUQCJdJm4rP": {
        "drc": {},
        "position": [
         -53,
         20,
         51
        ],
        "scale": 1,
        "scene": "<openalea.plantgl.scenegraph._pglsg.Scene object at 0x7fcc6b0afbf0>"
       },
       "scene_k9rBOpkRR5xCd9r6vVRWKYo4H": {
        "drc": {},
        "position": [
         -109,
         -104,
         79
        ],
        "scale": 1,
        "scene": "<openalea.plantgl.scenegraph._pglsg.Scene object at 0x7fcc6b0948b0>"
       },
       "scene_kLZPAtOqfx224A8KcXo5lhsVZ": {
        "drc": {},
        "position": [
         -27,
         61,
         -30
        ],
        "scale": 1,
        "scene": "<openalea.plantgl.scenegraph._pglsg.Scene object at 0x7fcc6af63db0>"
       },
       "scene_kmvsSHqKx19vO4CuCXfP6KyAY": {
        "drc": {},
        "position": [
         -66,
         -9,
         9
        ],
        "scale": 1,
        "scene": "<openalea.plantgl.scenegraph._pglsg.Scene object at 0x7fcc6af00f30>"
       },
       "scene_kt5akqeTzqOYOdKyG37eJ8ll8": {
        "drc": {},
        "position": [
         5,
         117,
         -64
        ],
        "scale": 1,
        "scene": "<openalea.plantgl.scenegraph._pglsg.Scene object at 0x7fcc6b09e430>"
       },
       "scene_l1l0Iz9LliVncr8Ds9hlzRiaW": {
        "drc": {},
        "position": [
         29,
         9,
         -22
        ],
        "scale": 1,
        "scene": "<openalea.plantgl.scenegraph._pglsg.Scene object at 0x7fcc6b02c230>"
       },
       "scene_l8olM3HojJb5S7UwIDfXs4zUL": {
        "drc": {},
        "position": [
         -5,
         12,
         -77
        ],
        "scale": 1,
        "scene": "<openalea.plantgl.scenegraph._pglsg.Scene object at 0x7fcc6b11e530>"
       },
       "scene_lXUuxctzl0ABwxhzBG88YhczA": {
        "drc": {},
        "position": [
         108,
         110,
         1
        ],
        "scale": 1,
        "scene": "<openalea.plantgl.scenegraph._pglsg.Scene object at 0x7fcc6af7e770>"
       },
       "scene_lc08X5DcAi4Mqwl1pC5JqLcXR": {
        "drc": {},
        "position": [
         -46,
         64,
         94
        ],
        "scale": 1,
        "scene": "<openalea.plantgl.scenegraph._pglsg.Scene object at 0x7fcc6afa5ef0>"
       },
       "scene_m7JRjd7lPrisNg1msnPnuhkc1": {
        "drc": {},
        "position": [
         106,
         -101,
         -7
        ],
        "scale": 1,
        "scene": "<openalea.plantgl.scenegraph._pglsg.Scene object at 0x7fcc6afc67b0>"
       },
       "scene_mIdOH2qMTaQZyJaiXuinzdQn0": {
        "drc": {},
        "position": [
         1,
         -56,
         90
        ],
        "scale": 1,
        "scene": "<openalea.plantgl.scenegraph._pglsg.Scene object at 0x7fcc6b5529b0>"
       },
       "scene_mTrz7j4yIF8yTFFLcPRZyAn5h": {
        "drc": {},
        "position": [
         -42,
         113,
         77
        ],
        "scale": 1,
        "scene": "<openalea.plantgl.scenegraph._pglsg.Scene object at 0x7fcc6b0d7cf0>"
       },
       "scene_ma6fEz08yvTe5QNFOG6ydeLQi": {
        "drc": {},
        "position": [
         38,
         66,
         -58
        ],
        "scale": 1,
        "scene": "<openalea.plantgl.scenegraph._pglsg.Scene object at 0x7fcc6af90670>"
       },
       "scene_mcsJjRuvQxa294lvQBEnTo3Uk": {
        "drc": {},
        "position": [
         70,
         -124,
         -113
        ],
        "scale": 1,
        "scene": "<openalea.plantgl.scenegraph._pglsg.Scene object at 0x7fcc6aee5d30>"
       },
       "scene_n4KMfqICqiir35NyfNrhZqSk1": {
        "drc": {},
        "position": [
         -24,
         -2,
         64
        ],
        "scale": 1,
        "scene": "<openalea.plantgl.scenegraph._pglsg.Scene object at 0x7fcc6af258f0>"
       },
       "scene_nEoE4WOvsUpIiIynxu1zHkLpU": {
        "drc": {},
        "position": [
         -42,
         -3,
         85
        ],
        "scale": 1,
        "scene": "<openalea.plantgl.scenegraph._pglsg.Scene object at 0x7fcc6affaab0>"
       },
       "scene_nJdbsUozfcUnQ4FN3620yuU2w": {
        "drc": {},
        "position": [
         46,
         113,
         95
        ],
        "scale": 1,
        "scene": "<openalea.plantgl.scenegraph._pglsg.Scene object at 0x7fcc6b0c32f0>"
       },
       "scene_nkc7ezqvYruc9J4A2WdGA9ify": {
        "drc": {},
        "position": [
         86,
         103,
         -56
        ],
        "scale": 1,
        "scene": "<openalea.plantgl.scenegraph._pglsg.Scene object at 0x7fcc6afdfcf0>"
       },
       "scene_nvXJEdCDYL2mI9Ik4kDFhgVJv": {
        "drc": {},
        "position": [
         107,
         88,
         -71
        ],
        "scale": 1,
        "scene": "<openalea.plantgl.scenegraph._pglsg.Scene object at 0x7fcc6b074af0>"
       },
       "scene_nwqkE3gb2hb2FPVAvH2y29jwX": {
        "drc": {},
        "position": [
         -60,
         89,
         -106
        ],
        "scale": 1,
        "scene": "<openalea.plantgl.scenegraph._pglsg.Scene object at 0x7fcc6b0045b0>"
       },
       "scene_o0YpikRCgTtOja6bDdpISMj2c": {
        "drc": {},
        "position": [
         51,
         65,
         -104
        ],
        "scale": 1,
        "scene": "<openalea.plantgl.scenegraph._pglsg.Scene object at 0x7fcc6b08b270>"
       },
       "scene_o0xqCkjcSNUffg5zjVFZ7c2kd": {
        "drc": {},
        "position": [
         -107,
         125,
         26
        ],
        "scale": 1,
        "scene": "<openalea.plantgl.scenegraph._pglsg.Scene object at 0x7fcc6b052b30>"
       },
       "scene_oHTwyDQaLhRWCfL9txJRxcgo7": {
        "drc": {},
        "position": [
         -37,
         -18,
         17
        ],
        "scale": 1,
        "scene": "<openalea.plantgl.scenegraph._pglsg.Scene object at 0x7fcc6ae8bfb0>"
       },
       "scene_oLus5fhJgcdK68ER9T63VfrTL": {
        "drc": {},
        "position": [
         -28,
         120,
         -21
        ],
        "scale": 1,
        "scene": "<openalea.plantgl.scenegraph._pglsg.Scene object at 0x7fcc6afc6870>"
       },
       "scene_osLiuoHZzF7lUEygiP3TQvKTI": {
        "drc": {},
        "position": [
         -14,
         26,
         -82
        ],
        "scale": 1,
        "scene": "<openalea.plantgl.scenegraph._pglsg.Scene object at 0x7fcc6b0333f0>"
       },
       "scene_ow0DGCVXlLQFulrqz885cR8Vl": {
        "drc": {},
        "position": [
         23,
         33,
         -121
        ],
        "scale": 1,
        "scene": "<openalea.plantgl.scenegraph._pglsg.Scene object at 0x7fcc6af6d770>"
       },
       "scene_p3m3KDfQ9RMjYL7uGhdh1CeiJ": {
        "drc": {},
        "position": [
         51,
         -93,
         93
        ],
        "scale": 1,
        "scene": "<openalea.plantgl.scenegraph._pglsg.Scene object at 0x7fcc9cfbf8f0>"
       },
       "scene_pM4SXbHiQReNcwIfG7o89moEu": {
        "drc": {},
        "position": [
         -33,
         -101,
         -17
        ],
        "scale": 1,
        "scene": "<openalea.plantgl.scenegraph._pglsg.Scene object at 0x7fcc6afd88b0>"
       },
       "scene_pyIvzn8L9Qqpq4Z65u3z91ZNL": {
        "drc": {},
        "position": [
         88,
         -62,
         63
        ],
        "scale": 1,
        "scene": "<openalea.plantgl.scenegraph._pglsg.Scene object at 0x7fcc6ae80570>"
       },
       "scene_q3W7tfjbWKDvNMv2tzgVSBjH3": {
        "drc": {},
        "position": [
         96,
         25,
         32
        ],
        "scale": 1,
        "scene": "<openalea.plantgl.scenegraph._pglsg.Scene object at 0x7fcc6af6d6b0>"
       },
       "scene_qXLBkxb8jCCWyfh4oO8lsyBwA": {
        "drc": {},
        "position": [
         -108,
         -113,
         30
        ],
        "scale": 1,
        "scene": "<openalea.plantgl.scenegraph._pglsg.Scene object at 0x7fcc6b04b9b0>"
       },
       "scene_qawIuVt2v6M2MGlUIDyJEYV6V": {
        "drc": {},
        "position": [
         -33,
         -21,
         -90
        ],
        "scale": 1,
        "scene": "<openalea.plantgl.scenegraph._pglsg.Scene object at 0x7fcc6b552570>"
       },
       "scene_qevRfMcMbdQjZErGrxnV8EqLM": {
        "drc": {},
        "position": [
         -70,
         -85,
         -87
        ],
        "scale": 1,
        "scene": "<openalea.plantgl.scenegraph._pglsg.Scene object at 0x7fcc6b0335b0>"
       },
       "scene_qoCLclBik0IyQoCKommPoSdWm": {
        "drc": {},
        "position": [
         -15,
         88,
         76
        ],
        "scale": 1,
        "scene": "<openalea.plantgl.scenegraph._pglsg.Scene object at 0x7fcc6b0cd230>"
       },
       "scene_rG1QGULb3sTrnUTQcxipFNK1H": {
        "drc": {},
        "position": [
         14,
         126,
         -79
        ],
        "scale": 1,
        "scene": "<openalea.plantgl.scenegraph._pglsg.Scene object at 0x7fcc6afcf370>"
       },
       "scene_rPIcnJNpydAZkuPjZWWECcTcE": {
        "drc": {},
        "position": [
         -91,
         103,
         -120
        ],
        "scale": 1,
        "scene": "<openalea.plantgl.scenegraph._pglsg.Scene object at 0x7fcc6af48b70>"
       },
       "scene_rVN27YtaZp7g0IdIqz7KuM2Th": {
        "drc": {},
        "position": [
         -74,
         59,
         89
        ],
        "scale": 1,
        "scene": "<openalea.plantgl.scenegraph._pglsg.Scene object at 0x7fcc6affadf0>"
       },
       "scene_rVRY9FoJsLJBUforoqVNPcdDn": {
        "drc": {},
        "position": [
         -112,
         28,
         -113
        ],
        "scale": 1,
        "scene": "<openalea.plantgl.scenegraph._pglsg.Scene object at 0x7fcc6af00970>"
       },
       "scene_s5F08YcNBZIYq84ISZGnM9VTS": {
        "drc": {},
        "position": [
         -54,
         91,
         -60
        ],
        "scale": 1,
        "scene": "<openalea.plantgl.scenegraph._pglsg.Scene object at 0x7fcc6b004d30>"
       },
       "scene_s7jAWI576V9Qh8AiRymD00sXs": {
        "drc": {},
        "position": [
         -5,
         -115,
         -104
        ],
        "scale": 1,
        "scene": "<openalea.plantgl.scenegraph._pglsg.Scene object at 0x7fcc6b0a5af0>"
       },
       "scene_sLdtsKQYGRnvCHFH1qoVQqNTu": {
        "drc": {},
        "position": [
         -88,
         86,
         -28
        ],
        "scale": 1,
        "scene": "<openalea.plantgl.scenegraph._pglsg.Scene object at 0x7fcc6b9a61f0>"
       },
       "scene_tjy3IZIYFppGbn4iuTLD71WBC": {
        "drc": {},
        "position": [
         -65,
         -41,
         51
        ],
        "scale": 1,
        "scene": "<openalea.plantgl.scenegraph._pglsg.Scene object at 0x7fcc6af63bb0>"
       },
       "scene_uN8LOs8Us2FGkKzxy1pXUQVeI": {
        "drc": {},
        "position": [
         40,
         108,
         -67
        ],
        "scale": 1,
        "scene": "<openalea.plantgl.scenegraph._pglsg.Scene object at 0x7fcc6b020370>"
       },
       "scene_ui4VNLTPU3kZ5idN7anDcaEvN": {
        "drc": {},
        "position": [
         -46,
         -86,
         -60
        ],
        "scale": 1,
        "scene": "<openalea.plantgl.scenegraph._pglsg.Scene object at 0x7fcc6af35b70>"
       },
       "scene_ujoSCF2Wg0T54RW0hPLq83eNx": {
        "drc": {},
        "position": [
         81,
         -26,
         19
        ],
        "scale": 1,
        "scene": "<openalea.plantgl.scenegraph._pglsg.Scene object at 0x7fcc6aed4ef0>"
       },
       "scene_v3m8b7ZfapKivjp50qLZF3t3C": {
        "drc": {},
        "position": [
         22,
         38,
         28
        ],
        "scale": 1,
        "scene": "<openalea.plantgl.scenegraph._pglsg.Scene object at 0x7fcc6af7e370>"
       },
       "scene_vEM5hELyiTK68vtfBxEY1Mug1": {
        "drc": {},
        "position": [
         -82,
         105,
         48
        ],
        "scale": 1,
        "scene": "<openalea.plantgl.scenegraph._pglsg.Scene object at 0x7fcc6b0a5530>"
       },
       "scene_vOMUQpOCM8MsoCNJ5sX8vrAxe": {
        "drc": {},
        "position": [
         112,
         -73,
         -79
        ],
        "scale": 1,
        "scene": "<openalea.plantgl.scenegraph._pglsg.Scene object at 0x7fcc6b131270>"
       },
       "scene_vUqobjSIIroJ7DvLBDUC7PCbz": {
        "drc": {},
        "position": [
         9,
         -21,
         -93
        ],
        "scale": 1,
        "scene": "<openalea.plantgl.scenegraph._pglsg.Scene object at 0x7fcc6afdf030>"
       },
       "scene_vV5Wef6pRnPrw2x5SFCutUOrk": {
        "drc": {},
        "position": [
         -28,
         0,
         7
        ],
        "scale": 1,
        "scene": "<openalea.plantgl.scenegraph._pglsg.Scene object at 0x7fcc6afec730>"
       },
       "scene_vbMAgz64UgAaqNbzQ3UZywR4A": {
        "drc": {},
        "position": [
         -126,
         -47,
         -19
        ],
        "scale": 1,
        "scene": "<openalea.plantgl.scenegraph._pglsg.Scene object at 0x7fcc6aef68f0>"
       },
       "scene_vvIGjh2lchUFfZSBgSWNjiSpv": {
        "drc": {},
        "position": [
         77,
         -77,
         82
        ],
        "scale": 1,
        "scene": "<openalea.plantgl.scenegraph._pglsg.Scene object at 0x7fcc6b004b70>"
       },
       "scene_vwL1nrad1RN61OnFo9QdRtfFy": {
        "drc": {},
        "position": [
         67,
         65,
         -77
        ],
        "scale": 1,
        "scene": "<openalea.plantgl.scenegraph._pglsg.Scene object at 0x7fcc6b02c4b0>"
       },
       "scene_wJl6Lp8X16hFeW3h5QEk3cjDa": {
        "drc": {},
        "position": [
         -115,
         -71,
         91
        ],
        "scale": 1,
        "scene": "<openalea.plantgl.scenegraph._pglsg.Scene object at 0x7fcc9cfc9670>"
       },
       "scene_whWeEiv47JMP3tgTpdiAgv8Q5": {
        "drc": {},
        "position": [
         8,
         -55,
         7
        ],
        "scale": 1,
        "scene": "<openalea.plantgl.scenegraph._pglsg.Scene object at 0x7fcc6afcf9f0>"
       },
       "scene_wlPe9awLrl6JoZTHKpRIstoKC": {
        "drc": {},
        "position": [
         5,
         120,
         18
        ],
        "scale": 1,
        "scene": "<openalea.plantgl.scenegraph._pglsg.Scene object at 0x7fcc6b05c5f0>"
       },
       "scene_x18iOS7KpsExR3SbnnGE14VBM": {
        "drc": {},
        "position": [
         117,
         -23,
         -18
        ],
        "scale": 1,
        "scene": "<openalea.plantgl.scenegraph._pglsg.Scene object at 0x7fcc6b0182f0>"
       },
       "scene_xAszobj2Wz6SpiGeqkVbyfm8v": {
        "drc": {},
        "position": [
         102,
         106,
         72
        ],
        "scale": 1,
        "scene": "<openalea.plantgl.scenegraph._pglsg.Scene object at 0x7fcc6afeccb0>"
       },
       "scene_xUduLe3qVfyBMD9y7kR1jPCjt": {
        "drc": {},
        "position": [
         21,
         72,
         78
        ],
        "scale": 1,
        "scene": "<openalea.plantgl.scenegraph._pglsg.Scene object at 0x7fcc6af5bd30>"
       },
       "scene_xXQK8fwp2iAo1klifOosNhRwE": {
        "drc": {},
        "position": [
         -39,
         -77,
         62
        ],
        "scale": 1,
        "scene": "<openalea.plantgl.scenegraph._pglsg.Scene object at 0x7fcc6b03b470>"
       },
       "scene_xnKXqo1o2PLNsopLziSa47Um1": {
        "drc": {},
        "position": [
         20,
         -101,
         -18
        ],
        "scale": 1,
        "scene": "<openalea.plantgl.scenegraph._pglsg.Scene object at 0x7fcc6af2efb0>"
       },
       "scene_xskfSd8LJK3OZJPBZT3PXzMSh": {
        "drc": {},
        "position": [
         47,
         55,
         -19
        ],
        "scale": 1,
        "scene": "<openalea.plantgl.scenegraph._pglsg.Scene object at 0x7fcc6b0ba130>"
       },
       "scene_xypZCDowZE4l24rcOLMSCmXs3": {
        "drc": {},
        "position": [
         112,
         102,
         86
        ],
        "scale": 1,
        "scene": "<openalea.plantgl.scenegraph._pglsg.Scene object at 0x7fcc6b02ca70>"
       },
       "scene_y3rKc1TMMWVBLOtPYmHEznlZY": {
        "drc": {},
        "position": [
         6,
         -26,
         107
        ],
        "scale": 1,
        "scene": "<openalea.plantgl.scenegraph._pglsg.Scene object at 0x7fcc6b00a730>"
       },
       "scene_yLNbIWVZt4lrjeRtRqVSEZUUD": {
        "drc": {},
        "position": [
         78,
         124,
         -86
        ],
        "scale": 1,
        "scene": "<openalea.plantgl.scenegraph._pglsg.Scene object at 0x7fcc6ae8b630>"
       },
       "scene_yY9TjJyDGAZ7Ki1gh1AONHNEG": {
        "drc": {},
        "position": [
         124,
         -111,
         -44
        ],
        "scale": 1,
        "scene": "<openalea.plantgl.scenegraph._pglsg.Scene object at 0x7fcc6b03bdf0>"
       },
       "scene_yln2WciHGH4mPqMj3RqKLZxVF": {
        "drc": {},
        "position": [
         -77,
         31,
         -60
        ],
        "scale": 1,
        "scene": "<openalea.plantgl.scenegraph._pglsg.Scene object at 0x7fcc6ae77470>"
       },
       "scene_z0rZ4MJNLg2VQ7U4HG07YmL3g": {
        "drc": {},
        "position": [
         121,
         -72,
         67
        ],
        "scale": 1,
        "scene": "<openalea.plantgl.scenegraph._pglsg.Scene object at 0x7fcc6af13670>"
       },
       "scene_z6XCBkGaJlaI1O3ONDRhUrcoD": {
        "drc": {},
        "position": [
         -55,
         126,
         124
        ],
        "scale": 1,
        "scene": "<openalea.plantgl.scenegraph._pglsg.Scene object at 0x7fcc9c787430>"
       },
       "scene_zMznmwvNaQZenqaLM238CMQDt": {
        "drc": {},
        "position": [
         55,
         45,
         61
        ],
        "scale": 1,
        "scene": "<openalea.plantgl.scenegraph._pglsg.Scene object at 0x7fcc6af5ba30>"
       },
       "scene_zpebrq7Cm7d69wnH92Y38TaqO": {
        "drc": {},
        "position": [
         -6,
         96,
         -95
        ],
        "scale": 1,
        "scene": "<openalea.plantgl.scenegraph._pglsg.Scene object at 0x7fcc6b09ef30>"
       },
       "size_display": [
        400,
        300
       ],
       "size_world": [
        255,
        255,
        255
       ]
      }
     },
     "689e2746a0ec4b5b80e644b964fba946": {
      "buffers": [
       {
        "data": "",
        "encoding": "base64",
        "path": [
         "scene",
         "drc"
        ]
       }
      ],
      "model_module": "pgljupyter",
      "model_module_version": "^0.1.0",
      "model_name": "SceneWidgetModel",
      "state": {
       "_model_module_version": "^0.1.0",
       "_view_module_version": "^0.1.0",
       "axes_helper": false,
       "layout": "IPY_MODEL_b640e2054742441092e1b82c1e984fbe",
       "mesh_compression": 10,
       "scene": {
        "drc": {},
        "position": [
         0,
         0,
         0
        ],
        "scale": 1,
        "scene": "<openalea.plantgl.scenegraph._pglsg.Scene object at 0x7fd7313ab330>"
       },
       "scene_0gQeFmPRrPAfGqAjto4oAvSEE": {
        "drc": {},
        "position": [
         -79,
         -98,
         108
        ],
        "scale": 1,
        "scene": "<openalea.plantgl.scenegraph._pglsg.Scene object at 0x7fd730892df0>"
       },
       "scene_0x1F9CSiiep20XGkLrRzOAbyw": {
        "drc": {},
        "position": [
         -62,
         48,
         -37
        ],
        "scale": 1,
        "scene": "<openalea.plantgl.scenegraph._pglsg.Scene object at 0x7fd730ace9f0>"
       },
       "scene_124yL9guNIMp0NVn4ORXl1Obe": {
        "drc": {},
        "position": [
         41,
         73,
         -36
        ],
        "scale": 1,
        "scene": "<openalea.plantgl.scenegraph._pglsg.Scene object at 0x7fd730aad3f0>"
       },
       "scene_17ol9r8Ad9DNPfFWsUvuYWfbf": {
        "drc": {},
        "position": [
         -62,
         112,
         -84
        ],
        "scale": 1,
        "scene": "<openalea.plantgl.scenegraph._pglsg.Scene object at 0x7fd730988ef0>"
       },
       "scene_1IeBbdxY3jpmpx1mbHw6YhBrd": {
        "drc": {},
        "position": [
         -24,
         68,
         -43
        ],
        "scale": 1,
        "scene": "<openalea.plantgl.scenegraph._pglsg.Scene object at 0x7fd730925d70>"
       },
       "scene_1ORWBbWoMV9LwXyLN8PSMfJCi": {
        "drc": {},
        "position": [
         29,
         -61,
         126
        ],
        "scale": 1,
        "scene": "<openalea.plantgl.scenegraph._pglsg.Scene object at 0x7fd730a8dc70>"
       },
       "scene_1oxSmOrGMiA9QjWbyFT52wPQk": {
        "drc": {},
        "position": [
         -35,
         -92,
         86
        ],
        "scale": 1,
        "scene": "<openalea.plantgl.scenegraph._pglsg.Scene object at 0x7fd730a62470>"
       },
       "scene_1pGUBqbyKZK5cRwkDiSRaXXZc": {
        "drc": {},
        "position": [
         -102,
         69,
         -72
        ],
        "scale": 1,
        "scene": "<openalea.plantgl.scenegraph._pglsg.Scene object at 0x7fd730a57b30>"
       },
       "scene_2lDQ8eFZBQ5E5Hc2qLmCr07Nj": {
        "drc": {},
        "position": [
         11,
         101,
         65
        ],
        "scale": 1,
        "scene": "<openalea.plantgl.scenegraph._pglsg.Scene object at 0x7fd730a8da70>"
       },
       "scene_2r9IvnFrSd9iI5UjuamUFNaJw": {
        "drc": {},
        "position": [
         71,
         -61,
         0
        ],
        "scale": 1,
        "scene": "<openalea.plantgl.scenegraph._pglsg.Scene object at 0x7fd730ad89f0>"
       },
       "scene_2vDAsHaNfSjzjpzPj3igk1t8z": {
        "drc": {},
        "position": [
         -101,
         -51,
         109
        ],
        "scale": 1,
        "scene": "<openalea.plantgl.scenegraph._pglsg.Scene object at 0x7fd7309388f0>"
       },
       "scene_36bGVRqjrpInsZcgV69dOshdP": {
        "drc": {},
        "position": [
         17,
         -55,
         -97
        ],
        "scale": 1,
        "scene": "<openalea.plantgl.scenegraph._pglsg.Scene object at 0x7fd730b14bb0>"
       },
       "scene_387aHhljE5vCfNk8fOx5CpKJT": {
        "drc": {},
        "position": [
         110,
         123,
         7
        ],
        "scale": 1,
        "scene": "<openalea.plantgl.scenegraph._pglsg.Scene object at 0x7fd730a694b0>"
       },
       "scene_3cNq8wy7A8iQeNXHeDJZZBszu": {
        "drc": {},
        "position": [
         -51,
         80,
         -17
        ],
        "scale": 1,
        "scene": "<openalea.plantgl.scenegraph._pglsg.Scene object at 0x7fd730a1e6b0>"
       },
       "scene_3jMf3ftFBlSFJJxQ5GhuXdiHn": {
        "drc": {},
        "position": [
         24,
         106,
         -125
        ],
        "scale": 1,
        "scene": "<openalea.plantgl.scenegraph._pglsg.Scene object at 0x7fd730aa43b0>"
       },
       "scene_4b3eAkQNLNYaQ0nxZ1yxZR7kv": {
        "drc": {},
        "position": [
         21,
         -116,
         -13
        ],
        "scale": 1,
        "scene": "<openalea.plantgl.scenegraph._pglsg.Scene object at 0x7fd730aadb70>"
       },
       "scene_4i0sE9J1o2nmKj4COu2ciHCc3": {
        "drc": {},
        "position": [
         25,
         84,
         -78
        ],
        "scale": 1,
        "scene": "<openalea.plantgl.scenegraph._pglsg.Scene object at 0x7fd730a69230>"
       },
       "scene_50k32TvU71nabet84hUpjg6Em": {
        "drc": {},
        "position": [
         -33,
         88,
         -23
        ],
        "scale": 1,
        "scene": "<openalea.plantgl.scenegraph._pglsg.Scene object at 0x7fd76419a070>"
       },
       "scene_52TqUmYsy6fCcEazraMRyH1VF": {
        "drc": {},
        "position": [
         -83,
         -83,
         -20
        ],
        "scale": 1,
        "scene": "<openalea.plantgl.scenegraph._pglsg.Scene object at 0x7fd730a85bf0>"
       },
       "scene_5osP8yylydqkwr3x0K3NW6FDb": {
        "drc": {},
        "position": [
         32,
         -56,
         -100
        ],
        "scale": 1,
        "scene": "<openalea.plantgl.scenegraph._pglsg.Scene object at 0x7fd73091c6b0>"
       },
       "scene_5sXuAFl5ISQlitwlijo4iCdOf": {
        "drc": {},
        "position": [
         -44,
         -109,
         -34
        ],
        "scale": 1,
        "scene": "<openalea.plantgl.scenegraph._pglsg.Scene object at 0x7fd730a3ba30>"
       },
       "scene_67DiEy5oVOh0hokDKnnxvJPdv": {
        "drc": {},
        "position": [
         48,
         64,
         -79
        ],
        "scale": 1,
        "scene": "<openalea.plantgl.scenegraph._pglsg.Scene object at 0x7fd730af1570>"
       },
       "scene_6TE2vpohEsBLc7Z5dgueVDrZm": {
        "drc": {},
        "position": [
         -47,
         81,
         36
        ],
        "scale": 1,
        "scene": "<openalea.plantgl.scenegraph._pglsg.Scene object at 0x7fd730a7ab30>"
       },
       "scene_6tqA4gtjzNdQUFCByaeUw2Pso": {
        "drc": {},
        "position": [
         -114,
         61,
         1
        ],
        "scale": 1,
        "scene": "<openalea.plantgl.scenegraph._pglsg.Scene object at 0x7fd730a27470>"
       },
       "scene_6w9iijgfbbzs8U0SnarOasDnm": {
        "drc": {},
        "position": [
         -82,
         2,
         121
        ],
        "scale": 1,
        "scene": "<openalea.plantgl.scenegraph._pglsg.Scene object at 0x7fd730a7ad70>"
       },
       "scene_71BRIgDTOb5tzI2YMMbPtOQDY": {
        "drc": {},
        "position": [
         -126,
         -46,
         100
        ],
        "scale": 1,
        "scene": "<openalea.plantgl.scenegraph._pglsg.Scene object at 0x7fd73091cc70>"
       },
       "scene_7AzCLLhMh68R1Kloa4Iz0JJoA": {
        "drc": {},
        "position": [
         -42,
         -75,
         59
        ],
        "scale": 1,
        "scene": "<openalea.plantgl.scenegraph._pglsg.Scene object at 0x7fd7309b74b0>"
       },
       "scene_7RYRVRH5hipKpEmLfM6PGzipP": {
        "drc": {},
        "position": [
         81,
         51,
         -61
        ],
        "scale": 1,
        "scene": "<openalea.plantgl.scenegraph._pglsg.Scene object at 0x7fd730a08cf0>"
       },
       "scene_7V2BCDLlZBejjZg58xy4ffFUw": {
        "drc": {},
        "position": [
         122,
         -123,
         110
        ],
        "scale": 1,
        "scene": "<openalea.plantgl.scenegraph._pglsg.Scene object at 0x7fd730a49eb0>"
       },
       "scene_7pJFhr3G6ZjSgTbowYJWcHEof": {
        "drc": {},
        "position": [
         -56,
         120,
         106
        ],
        "scale": 1,
        "scene": "<openalea.plantgl.scenegraph._pglsg.Scene object at 0x7fd730976670>"
       },
       "scene_8CYhDrxWdpCvrgwFkClLVWAz0": {
        "drc": {},
        "position": [
         116,
         -16,
         120
        ],
        "scale": 1,
        "scene": "<openalea.plantgl.scenegraph._pglsg.Scene object at 0x7fd730a8db70>"
       },
       "scene_8I1TT8rSO25xOJ9xFeC2ImNys": {
        "drc": {},
        "position": [
         115,
         40,
         4
        ],
        "scale": 1,
        "scene": "<openalea.plantgl.scenegraph._pglsg.Scene object at 0x7fd730ab4730>"
       },
       "scene_8QIyQ7AkITtlWRwVnSm4YRu9J": {
        "drc": {},
        "position": [
         -7,
         21,
         -13
        ],
        "scale": 1,
        "scene": "<openalea.plantgl.scenegraph._pglsg.Scene object at 0x7fd730b279f0>"
       },
       "scene_8e4OIqTSWvYR7CVyeIruH4KlT": {
        "drc": {},
        "position": [
         -7,
         50,
         53
        ],
        "scale": 1,
        "scene": "<openalea.plantgl.scenegraph._pglsg.Scene object at 0x7fd7308c34b0>"
       },
       "scene_8so50mUz9W96217W8AdbiD5VY": {
        "drc": {},
        "position": [
         -36,
         -16,
         91
        ],
        "scale": 1,
        "scene": "<openalea.plantgl.scenegraph._pglsg.Scene object at 0x7fd7309a68f0>"
       },
       "scene_9HOD2ybF8BnXSDq00oLUDgpX2": {
        "drc": {},
        "position": [
         26,
         52,
         -1
        ],
        "scale": 1,
        "scene": "<openalea.plantgl.scenegraph._pglsg.Scene object at 0x7fd730abd4b0>"
       },
       "scene_9PQ0dHbIHPiHOLnJ0SKkWAJz9": {
        "drc": {},
        "position": [
         15,
         5,
         89
        ],
        "scale": 1,
        "scene": "<openalea.plantgl.scenegraph._pglsg.Scene object at 0x7fd7309fd470>"
       },
       "scene_9SOi2cg9sIl7HDdnf7CTZRPyD": {
        "drc": {},
        "position": [
         63,
         76,
         35
        ],
        "scale": 1,
        "scene": "<openalea.plantgl.scenegraph._pglsg.Scene object at 0x7fd730aa4fb0>"
       },
       "scene_9UkRHgKKUiK46xnUzB5b3rMa3": {
        "drc": {},
        "position": [
         -22,
         17,
         6
        ],
        "scale": 1,
        "scene": "<openalea.plantgl.scenegraph._pglsg.Scene object at 0x7fd730aea5f0>"
       },
       "scene_9jB5ejHQnYsxseKoN7KazVk4z": {
        "drc": {},
        "position": [
         -27,
         -105,
         76
        ],
        "scale": 1,
        "scene": "<openalea.plantgl.scenegraph._pglsg.Scene object at 0x7fd7308cc630>"
       },
       "scene_9wfpCViB7XZgTtaLqQQw1S4HA": {
        "drc": {},
        "position": [
         -126,
         -1,
         -32
        ],
        "scale": 1,
        "scene": "<openalea.plantgl.scenegraph._pglsg.Scene object at 0x7fd730a62d70>"
       },
       "scene_A2kqNpICW6HCfjBpquMAJzm5N": {
        "drc": {},
        "position": [
         -100,
         8,
         68
        ],
        "scale": 1,
        "scene": "<openalea.plantgl.scenegraph._pglsg.Scene object at 0x7fd730a7a830>"
       },
       "scene_A5R81F8zDizihFskdAjuudyfb": {
        "drc": {},
        "position": [
         0,
         106,
         107
        ],
        "scale": 1,
        "scene": "<openalea.plantgl.scenegraph._pglsg.Scene object at 0x7fd730aceeb0>"
       },
       "scene_AYEJsbmqjrNXXzdk5wmpSrRcN": {
        "drc": {},
        "position": [
         19,
         62,
         -55
        ],
        "scale": 1,
        "scene": "<openalea.plantgl.scenegraph._pglsg.Scene object at 0x7fd730aa4430>"
       },
       "scene_B3XWO6l6yX3NxKGbSCszdco6e": {
        "drc": {},
        "position": [
         94,
         -60,
         0
        ],
        "scale": 1,
        "scene": "<openalea.plantgl.scenegraph._pglsg.Scene object at 0x7fd73099d870>"
       },
       "scene_B9vDmqGTJUpO8Kc00Parl1Ulp": {
        "drc": {},
        "position": [
         126,
         -93,
         -1
        ],
        "scale": 1,
        "scene": "<openalea.plantgl.scenegraph._pglsg.Scene object at 0x7fd76419a0f0>"
       },
       "scene_BBmY6SvRJAAreaiTA9Y7UBBRZ": {
        "drc": {},
        "position": [
         52,
         116,
         -7
        ],
        "scale": 1,
        "scene": "<openalea.plantgl.scenegraph._pglsg.Scene object at 0x7fd7309c0fb0>"
       },
       "scene_BSYYFJnk8y5zGxuYLtkPszW9Q": {
        "drc": {},
        "position": [
         -64,
         -14,
         -46
        ],
        "scale": 1,
        "scene": "<openalea.plantgl.scenegraph._pglsg.Scene object at 0x7fd730aa49f0>"
       },
       "scene_BgcuuEEpjgwoFimeK1XvsSfvr": {
        "drc": {},
        "position": [
         -61,
         124,
         -77
        ],
        "scale": 1,
        "scene": "<openalea.plantgl.scenegraph._pglsg.Scene object at 0x7fd730a85fb0>"
       },
       "scene_BhOAuuWNXMMMEMblyx6UNS6H2": {
        "drc": {},
        "position": [
         -35,
         9,
         -114
        ],
        "scale": 1,
        "scene": "<openalea.plantgl.scenegraph._pglsg.Scene object at 0x7fd730af1870>"
       },
       "scene_Bn7SeGz7VBjkLvkqdNTMzkCok": {
        "drc": {},
        "position": [
         -57,
         -42,
         14
        ],
        "scale": 1,
        "scene": "<openalea.plantgl.scenegraph._pglsg.Scene object at 0x7fd730afde30>"
       },
       "scene_BoYayCy713EciGTahLO7tQOpq": {
        "drc": {},
        "position": [
         116,
         69,
         -67
        ],
        "scale": 1,
        "scene": "<openalea.plantgl.scenegraph._pglsg.Scene object at 0x7fd730a3b7b0>"
       },
       "scene_BpP78IZ8hzO8nfbnLf2KAWnCf": {
        "drc": {},
        "position": [
         70,
         99,
         -21
        ],
        "scale": 1,
        "scene": "<openalea.plantgl.scenegraph._pglsg.Scene object at 0x7fd730a8df70>"
       },
       "scene_ChzIeZEgvUA6E6SuTT5H53Tjd": {
        "drc": {},
        "position": [
         -119,
         -68,
         79
        ],
        "scale": 1,
        "scene": "<openalea.plantgl.scenegraph._pglsg.Scene object at 0x7fd730ace4f0>"
       },
       "scene_CmBLmH3LDgqFZ9eYNPN47z7HG": {
        "drc": {},
        "position": [
         110,
         0,
         -51
        ],
        "scale": 1,
        "scene": "<openalea.plantgl.scenegraph._pglsg.Scene object at 0x7fd730afd230>"
       },
       "scene_Cq84yPka3sVtezxrmQQQkdnZV": {
        "drc": {},
        "position": [
         106,
         -104,
         23
        ],
        "scale": 1,
        "scene": "<openalea.plantgl.scenegraph._pglsg.Scene object at 0x7fd730a3b2b0>"
       },
       "scene_CyATzXQ1Bul7jhyZS2D2HNrd0": {
        "drc": {},
        "position": [
         77,
         -113,
         81
        ],
        "scale": 1,
        "scene": "<openalea.plantgl.scenegraph._pglsg.Scene object at 0x7fd730a1eef0>"
       },
       "scene_DSjpnTA0et6HkVm3rFfEGDN3h": {
        "drc": {},
        "position": [
         -62,
         107,
         87
        ],
        "scale": 1,
        "scene": "<openalea.plantgl.scenegraph._pglsg.Scene object at 0x7fd730ac4f30>"
       },
       "scene_DjmQFoIGRvZSZvAO1ercthsKi": {
        "drc": {},
        "position": [
         53,
         -123,
         -119
        ],
        "scale": 1,
        "scene": "<openalea.plantgl.scenegraph._pglsg.Scene object at 0x7fd730ac4970>"
       },
       "scene_DtDOlw0xa0u2hK5WtbFXH9TrP": {
        "drc": {},
        "position": [
         82,
         -15,
         -102
        ],
        "scale": 1,
        "scene": "<openalea.plantgl.scenegraph._pglsg.Scene object at 0x7fd730a99c70>"
       },
       "scene_ECNHufiBU5irZMM7ePqRvMiGA": {
        "drc": {},
        "position": [
         -74,
         18,
         61
        ],
        "scale": 1,
        "scene": "<openalea.plantgl.scenegraph._pglsg.Scene object at 0x7fd730ace870>"
       },
       "scene_EUTRVaTUoxNDQKUm3C1j4GyFE": {
        "drc": {},
        "position": [
         47,
         -44,
         71
        ],
        "scale": 1,
        "scene": "<openalea.plantgl.scenegraph._pglsg.Scene object at 0x7fd730948670>"
       },
       "scene_EwPZMo0TOXFRPodn67HSmCvV6": {
        "drc": {},
        "position": [
         22,
         25,
         55
        ],
        "scale": 1,
        "scene": "<openalea.plantgl.scenegraph._pglsg.Scene object at 0x7fd7309af330>"
       },
       "scene_F9aQNATPytufGNrHl7pqduEW9": {
        "drc": {},
        "position": [
         -14,
         0,
         32
        ],
        "scale": 1,
        "scene": "<openalea.plantgl.scenegraph._pglsg.Scene object at 0x7fd730afdbf0>"
       },
       "scene_FZrd4U7scgS7SirlSKilxJDGr": {
        "drc": {},
        "position": [
         45,
         39,
         27
        ],
        "scale": 1,
        "scene": "<openalea.plantgl.scenegraph._pglsg.Scene object at 0x7fd730965ef0>"
       },
       "scene_Fcutsts5AtxZ00Hup53vRd6Qp": {
        "drc": {},
        "position": [
         -64,
         18,
         -16
        ],
        "scale": 1,
        "scene": "<openalea.plantgl.scenegraph._pglsg.Scene object at 0x7fd730a74cb0>"
       },
       "scene_G316WrWzrFSNfDB6sMayQ9R4G": {
        "drc": {},
        "position": [
         112,
         101,
         -118
        ],
        "scale": 1,
        "scene": "<openalea.plantgl.scenegraph._pglsg.Scene object at 0x7fd730a7a270>"
       },
       "scene_GNbnaFMx96yi7V23C9gknTSnI": {
        "drc": {},
        "position": [
         59,
         -42,
         48
        ],
        "scale": 1,
        "scene": "<openalea.plantgl.scenegraph._pglsg.Scene object at 0x7fd730ab4b70>"
       },
       "scene_GjqD52A7xXXylAj3YlNPyfGo6": {
        "drc": {},
        "position": [
         -16,
         -82,
         -117
        ],
        "scale": 1,
        "scene": "<openalea.plantgl.scenegraph._pglsg.Scene object at 0x7fd730b3c170>"
       },
       "scene_Gyb0cEYl6fQaGsCalt4eqk4Cr": {
        "drc": {},
        "position": [
         59,
         -10,
         -98
        ],
        "scale": 1,
        "scene": "<openalea.plantgl.scenegraph._pglsg.Scene object at 0x7fd7309fdcb0>"
       },
       "scene_HCWO7nybLCuCBV2KTpMXaekNc": {
        "drc": {},
        "position": [
         20,
         -83,
         -97
        ],
        "scale": 1,
        "scene": "<openalea.plantgl.scenegraph._pglsg.Scene object at 0x7fd730a90ab0>"
       },
       "scene_HWwBt7S6GRztDao8UcwpclkCz": {
        "drc": {},
        "position": [
         -18,
         -58,
         -67
        ],
        "scale": 1,
        "scene": "<openalea.plantgl.scenegraph._pglsg.Scene object at 0x7fd730b32b30>"
       },
       "scene_IIXgWnez5OrJRzJt589YnF2hv": {
        "drc": {},
        "position": [
         -45,
         -57,
         -54
        ],
        "scale": 1,
        "scene": "<openalea.plantgl.scenegraph._pglsg.Scene object at 0x7fd730a85630>"
       },
       "scene_IrHQSyJueKufYrNZi5HJNW0rQ": {
        "drc": {},
        "position": [
         -51,
         43,
         79
        ],
        "scale": 1,
        "scene": "<openalea.plantgl.scenegraph._pglsg.Scene object at 0x7fd7308d47b0>"
       },
       "scene_Iy0JQirm8SjfUH8I4GnF8ZUEs": {
        "drc": {},
        "position": [
         -64,
         31,
         -86
        ],
        "scale": 1,
        "scene": "<openalea.plantgl.scenegraph._pglsg.Scene object at 0x7fd730a1ee30>"
       },
       "scene_JYV3bdGXMgMMOERE2C5Ws3x0H": {
        "drc": {},
        "position": [
         -97,
         40,
         -65
        ],
        "scale": 1,
        "scene": "<openalea.plantgl.scenegraph._pglsg.Scene object at 0x7fd730a99170>"
       },
       "scene_Jbjug3ZWIhgivMh2k2MoC9wnf": {
        "drc": {},
        "position": [
         70,
         66,
         53
        ],
        "scale": 1,
        "scene": "<openalea.plantgl.scenegraph._pglsg.Scene object at 0x7fd730a62cf0>"
       },
       "scene_Jg7BvgSnF1LDZ37MkFRWMiyQi": {
        "drc": {},
        "position": [
         -115,
         -1,
         -39
        ],
        "scale": 1,
        "scene": "<openalea.plantgl.scenegraph._pglsg.Scene object at 0x7fd73095ce30>"
       },
       "scene_JlOvp1WxO0F6dyaj8Mlm6cNsp": {
        "drc": {},
        "position": [
         -108,
         -114,
         -38
        ],
        "scale": 1,
        "scene": "<openalea.plantgl.scenegraph._pglsg.Scene object at 0x7fd730ae1470>"
       },
       "scene_KLi8Bhv4lHfxysCRO3kTnsYsJ": {
        "drc": {},
        "position": [
         110,
         -97,
         -105
        ],
        "scale": 1,
        "scene": "<openalea.plantgl.scenegraph._pglsg.Scene object at 0x7fd730b3c830>"
       },
       "scene_KPrxQj3KHhPMtTW7j3RAPiSc2": {
        "drc": {},
        "position": [
         104,
         -27,
         4
        ],
        "scale": 1,
        "scene": "<openalea.plantgl.scenegraph._pglsg.Scene object at 0x7fd730a99d30>"
       },
       "scene_KmV3eCg1MWVdWGROSnXQp4mH8": {
        "drc": {},
        "position": [
         -72,
         69,
         31
        ],
        "scale": 1,
        "scene": "<openalea.plantgl.scenegraph._pglsg.Scene object at 0x7fd73090a970>"
       },
       "scene_Kv0qgZCwdMOXwyFYNsI3n1FMe": {
        "drc": {},
        "position": [
         -16,
         -4,
         78
        ],
        "scale": 1,
        "scene": "<openalea.plantgl.scenegraph._pglsg.Scene object at 0x7fd730a34370>"
       },
       "scene_Kwi9e2W96b8bC6kiPUpPQF5iu": {
        "drc": {},
        "position": [
         68,
         51,
         21
        ],
        "scale": 1,
        "scene": "<openalea.plantgl.scenegraph._pglsg.Scene object at 0x7fd730a465f0>"
       },
       "scene_LCrqV5IyMUvEyTJEiYpCstGE4": {
        "drc": {},
        "position": [
         106,
         99,
         26
        ],
        "scale": 1,
        "scene": "<openalea.plantgl.scenegraph._pglsg.Scene object at 0x7fd730b3cdf0>"
       },
       "scene_LaATwtfGXqey2nJtlkzSjjjAe": {
        "drc": {},
        "position": [
         2,
         -86,
         -2
        ],
        "scale": 1,
        "scene": "<openalea.plantgl.scenegraph._pglsg.Scene object at 0x7fd730a34ab0>"
       },
       "scene_M7IhQmt33Qv4ixYFrmDPJISDL": {
        "drc": {},
        "position": [
         -71,
         -91,
         -6
        ],
        "scale": 1,
        "scene": "<openalea.plantgl.scenegraph._pglsg.Scene object at 0x7fd7308f8cf0>"
       },
       "scene_MENcx80QEhromCSVW49OZKKdA": {
        "drc": {},
        "position": [
         -52,
         -104,
         49
        ],
        "scale": 1,
        "scene": "<openalea.plantgl.scenegraph._pglsg.Scene object at 0x7fd73088b9f0>"
       },
       "scene_MiE1tyk0uFVEmBAlLQvQO3LKx": {
        "drc": {},
        "position": [
         -126,
         88,
         61
        ],
        "scale": 1,
        "scene": "<openalea.plantgl.scenegraph._pglsg.Scene object at 0x7fd730a99070>"
       },
       "scene_MtSWoA5glADLxx2GDfxiQqj6U": {
        "drc": {},
        "position": [
         81,
         53,
         23
        ],
        "scale": 1,
        "scene": "<openalea.plantgl.scenegraph._pglsg.Scene object at 0x7fd730951cb0>"
       },
       "scene_NAQR8fpp6A8e2i3BMirCPrR41": {
        "drc": {},
        "position": [
         65,
         119,
         119
        ],
        "scale": 1,
        "scene": "<openalea.plantgl.scenegraph._pglsg.Scene object at 0x7fd730a46230>"
       },
       "scene_NAWuaII8SJRo1FGmHcbBgnJAB": {
        "drc": {},
        "position": [
         -103,
         65,
         102
        ],
        "scale": 1,
        "scene": "<openalea.plantgl.scenegraph._pglsg.Scene object at 0x7fd730b272b0>"
       },
       "scene_NTmK6ArzWHGUfONYbUeNTNNf4": {
        "drc": {},
        "position": [
         -66,
         -18,
         54
        ],
        "scale": 1,
        "scene": "<openalea.plantgl.scenegraph._pglsg.Scene object at 0x7fd73099dd30>"
       },
       "scene_O41En4qhtGJ5aC1DXotIGIs0D": {
        "drc": {},
        "position": [
         -71,
         16,
         -32
        ],
        "scale": 1,
        "scene": "<openalea.plantgl.scenegraph._pglsg.Scene object at 0x7fd730a8d770>"
       },
       "scene_OHuqduiImrb55YIoyd59dg19m": {
        "drc": {},
        "position": [
         54,
         0,
         -45
        ],
        "scale": 1,
        "scene": "<openalea.plantgl.scenegraph._pglsg.Scene object at 0x7fd7309a6330>"
       },
       "scene_OnxAqJ1mmgsIgGI08nBgtW7zD": {
        "drc": {},
        "position": [
         96,
         7,
         75
        ],
        "scale": 1,
        "scene": "<openalea.plantgl.scenegraph._pglsg.Scene object at 0x7fd730a625f0>"
       },
       "scene_Oz2BxwIwGqDPK7Xu2csdeycgV": {
        "drc": {},
        "position": [
         90,
         110,
         -61
        ],
        "scale": 1,
        "scene": "<openalea.plantgl.scenegraph._pglsg.Scene object at 0x7fd73139e430>"
       },
       "scene_P5P10lJBpV6kEg4Sr6vaYANUw": {
        "drc": {},
        "position": [
         65,
         24,
         -106
        ],
        "scale": 1,
        "scene": "<openalea.plantgl.scenegraph._pglsg.Scene object at 0x7fd730aeaf70>"
       },
       "scene_PUiznJxnC3U6aaHYwW9THK6Kv": {
        "drc": {},
        "position": [
         56,
         39,
         50
        ],
        "scale": 1,
        "scene": "<openalea.plantgl.scenegraph._pglsg.Scene object at 0x7fd7309885f0>"
       },
       "scene_Q14v9gYRRGQgHdgHBEtI57TF2": {
        "drc": {},
        "position": [
         -121,
         111,
         57
        ],
        "scale": 1,
        "scene": "<openalea.plantgl.scenegraph._pglsg.Scene object at 0x7fd730b14430>"
       },
       "scene_Q8KyP1k2FwzmuOm3bG4bqwAk3": {
        "drc": {},
        "position": [
         -67,
         -79,
         -38
        ],
        "scale": 1,
        "scene": "<openalea.plantgl.scenegraph._pglsg.Scene object at 0x7fd7308d4d70>"
       },
       "scene_QLEYH4reWdmIv82fPU9fae5wz": {
        "drc": {},
        "position": [
         123,
         90,
         -103
        ],
        "scale": 1,
        "scene": "<openalea.plantgl.scenegraph._pglsg.Scene object at 0x7fd730b0a630>"
       },
       "scene_QLprkS9tCSm4lvqAYg6mjVh7l": {
        "drc": {},
        "position": [
         88,
         -12,
         -119
        ],
        "scale": 1,
        "scene": "<openalea.plantgl.scenegraph._pglsg.Scene object at 0x7fd730a8d670>"
       },
       "scene_QT7BSTDEMIS3Uz0hnv39eB2CI": {
        "drc": {},
        "position": [
         -92,
         39,
         68
        ],
        "scale": 1,
        "scene": "<openalea.plantgl.scenegraph._pglsg.Scene object at 0x7fd7308deef0>"
       },
       "scene_QjGhC3fCOmUSFQR4QTnb4pIr1": {
        "drc": {},
        "position": [
         77,
         70,
         79
        ],
        "scale": 1,
        "scene": "<openalea.plantgl.scenegraph._pglsg.Scene object at 0x7fd730a341f0>"
       },
       "scene_R7Yk35Itep6sTqMJYNakvlBMD": {
        "drc": {},
        "position": [
         -46,
         -82,
         48
        ],
        "scale": 1,
        "scene": "<openalea.plantgl.scenegraph._pglsg.Scene object at 0x7fd730abdb30>"
       },
       "scene_RCU2rrimoJitG2AU5hteleJtn": {
        "drc": {},
        "position": [
         42,
         -82,
         3
        ],
        "scale": 1,
        "scene": "<openalea.plantgl.scenegraph._pglsg.Scene object at 0x7fd730b32ef0>"
       },
       "scene_RI3JEKcfLeOhr5VxXUAF0oMvS": {
        "drc": {},
        "position": [
         -114,
         -116,
         -69
        ],
        "scale": 1,
        "scene": "<openalea.plantgl.scenegraph._pglsg.Scene object at 0x7fd730b205f0>"
       },
       "scene_Rfbi9rRonivcLpeijfNhhbqU6": {
        "drc": {},
        "position": [
         -124,
         -105,
         111
        ],
        "scale": 1,
        "scene": "<openalea.plantgl.scenegraph._pglsg.Scene object at 0x7fd730a99330>"
       },
       "scene_RkrNfmQ4VX9i1LLKBLHAMnYVZ": {
        "drc": {},
        "position": [
         -121,
         -6,
         60
        ],
        "scale": 1,
        "scene": "<openalea.plantgl.scenegraph._pglsg.Scene object at 0x7fd730a1eab0>"
       },
       "scene_RtcqP8yhno2epkwg7ctLU5CK3": {
        "drc": {},
        "position": [
         -97,
         -11,
         -115
        ],
        "scale": 1,
        "scene": "<openalea.plantgl.scenegraph._pglsg.Scene object at 0x7fd7309943b0>"
       },
       "scene_RuSgFBTL3MOcJD3DyyKRglScq": {
        "drc": {},
        "position": [
         -4,
         48,
         -70
        ],
        "scale": 1,
        "scene": "<openalea.plantgl.scenegraph._pglsg.Scene object at 0x7fd730aeabb0>"
       },
       "scene_Rvalu0IV3J9MYNuyRL5qKZgAS": {
        "drc": {},
        "position": [
         107,
         -37,
         -62
        ],
        "scale": 1,
        "scene": "<openalea.plantgl.scenegraph._pglsg.Scene object at 0x7fd730a49530>"
       },
       "scene_TM6ZV9UxDeSf07i2gZMhPOACd": {
        "drc": {},
        "position": [
         -79,
         -98,
         2
        ],
        "scale": 1,
        "scene": "<openalea.plantgl.scenegraph._pglsg.Scene object at 0x7fd730a46d30>"
       },
       "scene_UIRmCeCotA9iWryiYn80ANYXY": {
        "drc": {},
        "position": [
         73,
         -31,
         15
        ],
        "scale": 1,
        "scene": "<openalea.plantgl.scenegraph._pglsg.Scene object at 0x7fd730a278f0>"
       },
       "scene_UWF0cgV1AnNrJ74SeXUXkJ7bW": {
        "drc": {},
        "position": [
         24,
         -102,
         -80
        ],
        "scale": 1,
        "scene": "<openalea.plantgl.scenegraph._pglsg.Scene object at 0x7fd730938eb0>"
       },
       "scene_UdkycnvoBdGipFB5IsWiODxQP": {
        "drc": {},
        "position": [
         89,
         123,
         -55
        ],
        "scale": 1,
        "scene": "<openalea.plantgl.scenegraph._pglsg.Scene object at 0x7fd730abde30>"
       },
       "scene_VKNwxR2t3yPITvCfnFNyoizXQ": {
        "drc": {},
        "position": [
         79,
         -47,
         -64
        ],
        "scale": 1,
        "scene": "<openalea.plantgl.scenegraph._pglsg.Scene object at 0x7fd730a749f0>"
       },
       "scene_VsGcGhpZqHh89Lsy20ciEoecS": {
        "drc": {},
        "position": [
         63,
         -79,
         8
        ],
        "scale": 1,
        "scene": "<openalea.plantgl.scenegraph._pglsg.Scene object at 0x7fd73088b430>"
       },
       "scene_W7XsAwrSUKylfHQAVlwunPZlH": {
        "drc": {},
        "position": [
         -78,
         40,
         -119
        ],
        "scale": 1,
        "scene": "<openalea.plantgl.scenegraph._pglsg.Scene object at 0x7fd730a08930>"
       },
       "scene_WIOZSxJofcJYavG8hNKxKCONa": {
        "drc": {},
        "position": [
         66,
         106,
         89
        ],
        "scale": 1,
        "scene": "<openalea.plantgl.scenegraph._pglsg.Scene object at 0x7fd7308efb70>"
       },
       "scene_WVi9pTMM9iR5hIVZY7FGskRBM": {
        "drc": {},
        "position": [
         23,
         -56,
         10
        ],
        "scale": 1,
        "scene": "<openalea.plantgl.scenegraph._pglsg.Scene object at 0x7fd7309c5ab0>"
       },
       "scene_Wp6YHpj3R6uvn4hPN7a4BMJLA": {
        "drc": {},
        "position": [
         -53,
         62,
         -8
        ],
        "scale": 1,
        "scene": "<openalea.plantgl.scenegraph._pglsg.Scene object at 0x7fd730914af0>"
       },
       "scene_WrEmLUcZ99cwJiLTcEj1DcFCP": {
        "drc": {},
        "position": [
         0,
         54,
         -8
        ],
        "scale": 1,
        "scene": "<openalea.plantgl.scenegraph._pglsg.Scene object at 0x7fd730882e30>"
       },
       "scene_WyR3EmTczYcmrywRmLpWs7xmC": {
        "drc": {},
        "position": [
         122,
         -43,
         92
        ],
        "scale": 1,
        "scene": "<openalea.plantgl.scenegraph._pglsg.Scene object at 0x7fd730ae1a30>"
       },
       "scene_XQG1Qb32Ma4k0Pvkz4cn36dbi": {
        "drc": {},
        "position": [
         20,
         27,
         100
        ],
        "scale": 1,
        "scene": "<openalea.plantgl.scenegraph._pglsg.Scene object at 0x7fd730a698b0>"
       },
       "scene_Xezf70gzY6RNVQqlMc94I7zij": {
        "drc": {},
        "position": [
         54,
         -10,
         9
        ],
        "scale": 1,
        "scene": "<openalea.plantgl.scenegraph._pglsg.Scene object at 0x7fd73088bfb0>"
       },
       "scene_XhmHyblnGNsmVtuQijTeIAiYC": {
        "drc": {},
        "position": [
         -62,
         53,
         -102
        ],
        "scale": 1,
        "scene": "<openalea.plantgl.scenegraph._pglsg.Scene object at 0x7fd730aadfb0>"
       },
       "scene_XowRHOVI2MrSFJ1HMGHSyuPg7": {
        "drc": {},
        "position": [
         22,
         -95,
         81
        ],
        "scale": 1,
        "scene": "<openalea.plantgl.scenegraph._pglsg.Scene object at 0x7fd730ad84f0>"
       },
       "scene_Xv3Tp3NDMlGpdstbBZjgsZ9Ib": {
        "drc": {},
        "position": [
         -56,
         -111,
         -98
        ],
        "scale": 1,
        "scene": "<openalea.plantgl.scenegraph._pglsg.Scene object at 0x7fd730a74fb0>"
       },
       "scene_Y9opzfIeM32VmTW7YHDGfOcWT": {
        "drc": {},
        "position": [
         51,
         -115,
         -81
        ],
        "scale": 1,
        "scene": "<openalea.plantgl.scenegraph._pglsg.Scene object at 0x7fd730ac43f0>"
       },
       "scene_YKyiVoFgoIz9snuqP4hpzGQHJ": {
        "drc": {},
        "position": [
         -18,
         -48,
         -109
        ],
        "scale": 1,
        "scene": "<openalea.plantgl.scenegraph._pglsg.Scene object at 0x7fd730aea270>"
       },
       "scene_YO4wPFfRBILDm1Zmp04dljvSt": {
        "drc": {},
        "position": [
         53,
         30,
         26
        ],
        "scale": 1,
        "scene": "<openalea.plantgl.scenegraph._pglsg.Scene object at 0x7fd7308928f0>"
       },
       "scene_YP9FSdbTAPqGZG0DcC4WIdlTY": {
        "drc": {},
        "position": [
         73,
         -22,
         -87
        ],
        "scale": 1,
        "scene": "<openalea.plantgl.scenegraph._pglsg.Scene object at 0x7fd730a741f0>"
       },
       "scene_YSQEDFvtJznoU6sDOFkLEs1Bu": {
        "drc": {},
        "position": [
         -48,
         34,
         -101
        ],
        "scale": 1,
        "scene": "<openalea.plantgl.scenegraph._pglsg.Scene object at 0x7fd7308ccbf0>"
       },
       "scene_YxtoQ6Ia5zVLXUNuD1o2jtfK8": {
        "drc": {},
        "position": [
         -39,
         -66,
         -83
        ],
        "scale": 1,
        "scene": "<openalea.plantgl.scenegraph._pglsg.Scene object at 0x7fd7308de930>"
       },
       "scene_Z5BPWicmN2riGucVLysFZqXvD": {
        "drc": {},
        "position": [
         40,
         -105,
         54
        ],
        "scale": 1,
        "scene": "<openalea.plantgl.scenegraph._pglsg.Scene object at 0x7fd7308c3a70>"
       },
       "scene_ZCJC8adWKR75r7i9fnNHbXUR8": {
        "drc": {},
        "position": [
         85,
         -16,
         31
        ],
        "scale": 1,
        "scene": "<openalea.plantgl.scenegraph._pglsg.Scene object at 0x7fd730980170>"
       },
       "scene_a0CWTnJr8U3RwdUgRztC9ywnt": {
        "drc": {},
        "position": [
         -25,
         -84,
         -46
        ],
        "scale": 1,
        "scene": "<openalea.plantgl.scenegraph._pglsg.Scene object at 0x7fd7309c5eb0>"
       },
       "scene_aRdympZuX2pXCOXhGFJQwfh61": {
        "drc": {},
        "position": [
         -88,
         95,
         4
        ],
        "scale": 1,
        "scene": "<openalea.plantgl.scenegraph._pglsg.Scene object at 0x7fd730aceab0>"
       },
       "scene_abifL9K9KHihBOxdI6tUr20P0": {
        "drc": {},
        "position": [
         25,
         -114,
         58
        ],
        "scale": 1,
        "scene": "<openalea.plantgl.scenegraph._pglsg.Scene object at 0x7fd730a57bb0>"
       },
       "scene_awZgd9ZsFUiIKbHbtY8K8w0Ck": {
        "drc": {},
        "position": [
         -120,
         81,
         -8
        ],
        "scale": 1,
        "scene": "<openalea.plantgl.scenegraph._pglsg.Scene object at 0x7fd7308822f0>"
       },
       "scene_b9U8rIIBvrpXs6ELMPaDi1J7X": {
        "drc": {},
        "position": [
         86,
         121,
         87
        ],
        "scale": 1,
        "scene": "<openalea.plantgl.scenegraph._pglsg.Scene object at 0x7fd7309fd8f0>"
       },
       "scene_bOETvYts4nTVSEsUbbICACMko": {
        "drc": {},
        "position": [
         -35,
         55,
         73
        ],
        "scale": 1,
        "scene": "<openalea.plantgl.scenegraph._pglsg.Scene object at 0x7fd7309807f0>"
       },
       "scene_bf2IjqDUn1ysDsfuECEHPcKBm": {
        "drc": {},
        "position": [
         -64,
         0,
         35
        ],
        "scale": 1,
        "scene": "<openalea.plantgl.scenegraph._pglsg.Scene object at 0x7fd730b20030>"
       },
       "scene_bnebYpm2aGAaHlUX4MQwg0x3U": {
        "drc": {},
        "position": [
         -50,
         -93,
         37
        ],
        "scale": 1,
        "scene": "<openalea.plantgl.scenegraph._pglsg.Scene object at 0x7fd730a7a5b0>"
       },
       "scene_bvv0ItS7VIrZeUhgir50MrDKI": {
        "drc": {},
        "position": [
         121,
         126,
         57
        ],
        "scale": 1,
        "scene": "<openalea.plantgl.scenegraph._pglsg.Scene object at 0x7fd730a08130>"
       },
       "scene_c06aZxDdJXjjL5ZnZfsoAWX8H": {
        "drc": {},
        "position": [
         36,
         63,
         -17
        ],
        "scale": 1,
        "scene": "<openalea.plantgl.scenegraph._pglsg.Scene object at 0x7fd7309c5330>"
       },
       "scene_c7w949M9Z6LnBD8pha6zYLcZt": {
        "drc": {},
        "position": [
         -73,
         -81,
         -112
        ],
        "scale": 1,
        "scene": "<openalea.plantgl.scenegraph._pglsg.Scene object at 0x7fd73092e870>"
       },
       "scene_cQV7WnNwPftxqdXjRMJH7IrMj": {
        "drc": {},
        "position": [
         -82,
         71,
         90
        ],
        "scale": 1,
        "scene": "<openalea.plantgl.scenegraph._pglsg.Scene object at 0x7fd73095c2b0>"
       },
       "scene_cwBph4Ou9umhshkWshkdcpHXK": {
        "drc": {},
        "position": [
         -27,
         2,
         -42
        ],
        "scale": 1,
        "scene": "<openalea.plantgl.scenegraph._pglsg.Scene object at 0x7fd730a903f0>"
       },
       "scene_d9L305gHMtNiRxx46nFPRHelL": {
        "drc": {},
        "position": [
         23,
         81,
         -75
        ],
        "scale": 1,
        "scene": "<openalea.plantgl.scenegraph._pglsg.Scene object at 0x7fd730af1630>"
       },
       "scene_dDcafRFSlq5IUuimlnVIHJIpq": {
        "drc": {},
        "position": [
         0,
         -69,
         89
        ],
        "scale": 1,
        "scene": "<openalea.plantgl.scenegraph._pglsg.Scene object at 0x7fd730948db0>"
       },
       "scene_dk2TX5X8koOankuax5An61J3T": {
        "drc": {},
        "position": [
         90,
         -106,
         67
        ],
        "scale": 1,
        "scene": "<openalea.plantgl.scenegraph._pglsg.Scene object at 0x7fd730afd730>"
       },
       "scene_drKeYN0yjwMhp9okPFDV9ROCC": {
        "drc": {},
        "position": [
         -10,
         113,
         -71
        ],
        "scale": 1,
        "scene": "<openalea.plantgl.scenegraph._pglsg.Scene object at 0x7fd730ad85f0>"
       },
       "scene_e3MhjWjGjVYWwVMImuHamReDH": {
        "drc": {},
        "position": [
         124,
         120,
         -119
        ],
        "scale": 1,
        "scene": "<openalea.plantgl.scenegraph._pglsg.Scene object at 0x7fd730ae1df0>"
       },
       "scene_fFEO4i2LfRmHVneKqvn8qqiMX": {
        "drc": {},
        "position": [
         -97,
         100,
         24
        ],
        "scale": 1,
        "scene": "<openalea.plantgl.scenegraph._pglsg.Scene object at 0x7fd730a57a30>"
       },
       "scene_fTULVpgys0uqrv5HlTIHJdxbI": {
        "drc": {},
        "position": [
         -6,
         110,
         99
        ],
        "scale": 1,
        "scene": "<openalea.plantgl.scenegraph._pglsg.Scene object at 0x7fd730a46f70>"
       },
       "scene_feJ8fRjzCorweS4ACYwa42dyW": {
        "drc": {},
        "position": [
         71,
         -105,
         16
        ],
        "scale": 1,
        "scene": "<openalea.plantgl.scenegraph._pglsg.Scene object at 0x7fd730aadef0>"
       },
       "scene_ffUoZ1cLmsuIZeudkbxpNQehs": {
        "drc": {},
        "position": [
         37,
         -118,
         -87
        ],
        "scale": 1,
        "scene": "<openalea.plantgl.scenegraph._pglsg.Scene object at 0x7fd730a57470>"
       },
       "scene_fsphA2PYRPdXpVURi7ZLJA6J2": {
        "drc": {},
        "position": [
         -7,
         64,
         126
        ],
        "scale": 1,
        "scene": "<openalea.plantgl.scenegraph._pglsg.Scene object at 0x7fd73099d330>"
       },
       "scene_fx420o1N2CefoVb7IWtZpZ88l": {
        "drc": {},
        "position": [
         102,
         105,
         61
        ],
        "scale": 1,
        "scene": "<openalea.plantgl.scenegraph._pglsg.Scene object at 0x7fd7309b7a70>"
       },
       "scene_gFmbhJ0vPBzIV782yzn8QROQt": {
        "drc": {},
        "position": [
         -82,
         54,
         -43
        ],
        "scale": 1,
        "scene": "<openalea.plantgl.scenegraph._pglsg.Scene object at 0x7fd7309c0630>"
       },
       "scene_gK6m2XusjQCFkCAx2ZEW87Ohb": {
        "drc": {},
        "position": [
         62,
         -60,
         -43
        ],
        "scale": 1,
        "scene": "<openalea.plantgl.scenegraph._pglsg.Scene object at 0x7fd730988a70>"
       },
       "scene_gV3xnxwMXyQp6KU1Ml8UFtI5W": {
        "drc": {},
        "position": [
         -33,
         31,
         6
        ],
        "scale": 1,
        "scene": "<openalea.plantgl.scenegraph._pglsg.Scene object at 0x7fd730b32d70>"
       },
       "scene_gkLzM9sZFUzJlVbtXeeIfQDqU": {
        "drc": {},
        "position": [
         2,
         126,
         -33
        ],
        "scale": 1,
        "scene": "<openalea.plantgl.scenegraph._pglsg.Scene object at 0x7fd730ab4ef0>"
       },
       "scene_gsJYxR00UbI7YPYQWbxzRYq7z": {
        "drc": {},
        "position": [
         -86,
         -53,
         28
        ],
        "scale": 1,
        "scene": "<openalea.plantgl.scenegraph._pglsg.Scene object at 0x7fd730a8dc30>"
       },
       "scene_h2pieoMCGYAuPYiuymRHvrGRE": {
        "drc": {},
        "position": [
         14,
         -111,
         16
        ],
        "scale": 1,
        "scene": "<openalea.plantgl.scenegraph._pglsg.Scene object at 0x7fd730a085f0>"
       },
       "scene_h71cOlefgpGggmZB7VpvwmGTo": {
        "drc": {},
        "position": [
         -23,
         -6,
         45
        ],
        "scale": 1,
        "scene": "<openalea.plantgl.scenegraph._pglsg.Scene object at 0x7fd730b327b0>"
       },
       "scene_hXnN8Fq5TiR89NqbW6zJD2gHC": {
        "drc": {},
        "position": [
         -52,
         -40,
         -52
        ],
        "scale": 1,
        "scene": "<openalea.plantgl.scenegraph._pglsg.Scene object at 0x7fd730a461f0>"
       },
       "scene_hd9lV60UDChkxaMFCLvj1TdEu": {
        "drc": {},
        "position": [
         112,
         53,
         -118
        ],
        "scale": 1,
        "scene": "<openalea.plantgl.scenegraph._pglsg.Scene object at 0x7fd730b0a570>"
       },
       "scene_hgK01HZEbFhi0xGjnINtsvkni": {
        "drc": {},
        "position": [
         76,
         0,
         38
        ],
        "scale": 1,
        "scene": "<openalea.plantgl.scenegraph._pglsg.Scene object at 0x7fd7308c3fb0>"
       },
       "scene_hhw2ZBBGmyFDGuUEu3XwUnAMs": {
        "drc": {},
        "position": [
         22,
         -24,
         -101
        ],
        "scale": 1,
        "scene": "<openalea.plantgl.scenegraph._pglsg.Scene object at 0x7fd730914e30>"
       },
       "scene_ihOEiChiUHFPmsxja3uzZN9jQ": {
        "drc": {},
        "position": [
         -113,
         -65,
         69
        ],
        "scale": 1,
        "scene": "<openalea.plantgl.scenegraph._pglsg.Scene object at 0x7fd730b0abf0>"
       },
       "scene_ixhS7Vj1zNv7g4xiu71eobvPm": {
        "drc": {},
        "position": [
         124,
         -74,
         69
        ],
        "scale": 1,
        "scene": "<openalea.plantgl.scenegraph._pglsg.Scene object at 0x7fd730a347b0>"
       },
       "scene_iyab8tmhdBeGq5KVYMvDWcUJ5": {
        "drc": {},
        "position": [
         23,
         55,
         -61
        ],
        "scale": 1,
        "scene": "<openalea.plantgl.scenegraph._pglsg.Scene object at 0x7fd730a8d570>"
       },
       "scene_j0LtoySNYm16suadcHeeU03EM": {
        "drc": {},
        "position": [
         113,
         -56,
         -11
        ],
        "scale": 1,
        "scene": "<openalea.plantgl.scenegraph._pglsg.Scene object at 0x7fd730a57730>"
       },
       "scene_jG1xqBKfc8PqH8AMBWWuj0lJY": {
        "drc": {},
        "position": [
         -25,
         -109,
         102
        ],
        "scale": 1,
        "scene": "<openalea.plantgl.scenegraph._pglsg.Scene object at 0x7fd730b27fb0>"
       },
       "scene_jKSg0YqWLtBajSFPcD4bFEwj0": {
        "drc": {},
        "position": [
         47,
         -121,
         75
        ],
        "scale": 1,
        "scene": "<openalea.plantgl.scenegraph._pglsg.Scene object at 0x7fd73095c870>"
       },
       "scene_jS07ZCtQeqPAlIabr4N7UKbF9": {
        "drc": {},
        "position": [
         19,
         -110,
         -90
        ],
        "scale": 1,
        "scene": "<openalea.plantgl.scenegraph._pglsg.Scene object at 0x7fd730aa4670>"
       },
       "scene_jhgKEIEQWZZP6lSpo3TmzWL2a": {
        "drc": {},
        "position": [
         32,
         -3,
         -95
        ],
        "scale": 1,
        "scene": "<openalea.plantgl.scenegraph._pglsg.Scene object at 0x7fd730a8dd30>"
       },
       "scene_k51R3e0eS7TKM3dN4aKbCoHXT": {
        "drc": {},
        "position": [
         -108,
         91,
         61
        ],
        "scale": 1,
        "scene": "<openalea.plantgl.scenegraph._pglsg.Scene object at 0x7fd7308effb0>"
       },
       "scene_kazrg8Qtue76visSma5OPpruS": {
        "drc": {},
        "position": [
         72,
         -44,
         107
        ],
        "scale": 1,
        "scene": "<openalea.plantgl.scenegraph._pglsg.Scene object at 0x7fd730a99b70>"
       },
       "scene_km6Gf0rosrj6KMlOLwp1Zeymb": {
        "drc": {},
        "position": [
         77,
         -97,
         -21
        ],
        "scale": 1,
        "scene": "<openalea.plantgl.scenegraph._pglsg.Scene object at 0x7fd730a49b70>"
       },
       "scene_ksFqNVdn16M9IgvgPvcq857Ri": {
        "drc": {},
        "position": [
         -29,
         -15,
         -55
        ],
        "scale": 1,
        "scene": "<openalea.plantgl.scenegraph._pglsg.Scene object at 0x7fd7308e64f0>"
       },
       "scene_kw3bWNOMZgvUL9CB8xmLgTU2T": {
        "drc": {},
        "position": [
         -21,
         92,
         33
        ],
        "scale": 1,
        "scene": "<openalea.plantgl.scenegraph._pglsg.Scene object at 0x7fd7309a6d30>"
       },
       "scene_lfRJ6dhbZKR40zdCsJerzJUJo": {
        "drc": {},
        "position": [
         -77,
         92,
         115
        ],
        "scale": 1,
        "scene": "<openalea.plantgl.scenegraph._pglsg.Scene object at 0x7fd730a3bf70>"
       },
       "scene_llNcS1Dkr5NhIFh9KvzMAI8YB": {
        "drc": {},
        "position": [
         -4,
         112,
         104
        ],
        "scale": 1,
        "scene": "<openalea.plantgl.scenegraph._pglsg.Scene object at 0x7fd730aad5b0>"
       },
       "scene_m66mzQY1CTShSaEPue1YIWTgD": {
        "drc": {},
        "position": [
         72,
         31,
         101
        ],
        "scale": 1,
        "scene": "<openalea.plantgl.scenegraph._pglsg.Scene object at 0x7fd730a27fb0>"
       },
       "scene_mTsHF8QHx9z0yPh4b1ZvOYI9Z": {
        "drc": {},
        "position": [
         -122,
         -92,
         -100
        ],
        "scale": 1,
        "scene": "<openalea.plantgl.scenegraph._pglsg.Scene object at 0x7fd730ae1730>"
       },
       "scene_mYfLo3Rs9n5Ss8tS17FVUqF3x": {
        "drc": {},
        "position": [
         73,
         56,
         57
        ],
        "scale": 1,
        "scene": "<openalea.plantgl.scenegraph._pglsg.Scene object at 0x7fd730a90cb0>"
       },
       "scene_mgg9x13HL3Qq2INjxuBaaXQrM": {
        "drc": {},
        "position": [
         -62,
         -12,
         104
        ],
        "scale": 1,
        "scene": "<openalea.plantgl.scenegraph._pglsg.Scene object at 0x7fd7308de370>"
       },
       "scene_miXU3TNuRnfdKHluScDnQf3Cx": {
        "drc": {},
        "position": [
         37,
         125,
         9
        ],
        "scale": 1,
        "scene": "<openalea.plantgl.scenegraph._pglsg.Scene object at 0x7fd730a62830>"
       },
       "scene_mrGUU0Zklg8F8uqxgbibQKHDB": {
        "drc": {},
        "position": [
         -85,
         67,
         70
        ],
        "scale": 1,
        "scene": "<openalea.plantgl.scenegraph._pglsg.Scene object at 0x7fd730a3b870>"
       },
       "scene_mz6S9TsRPuBAta9ZJb8yoza80": {
        "drc": {},
        "position": [
         72,
         -73,
         77
        ],
        "scale": 1,
        "scene": "<openalea.plantgl.scenegraph._pglsg.Scene object at 0x7fd7308f8730>"
       },
       "scene_n8kHBg1wdsxRgyGysHB59KBFy": {
        "drc": {},
        "position": [
         -50,
         50,
         -51
        ],
        "scale": 1,
        "scene": "<openalea.plantgl.scenegraph._pglsg.Scene object at 0x7fd730b206f0>"
       },
       "scene_nm8PQze4Y55EQwTh0iSSrq8AA": {
        "drc": {},
        "position": [
         -61,
         -28,
         -59
        ],
        "scale": 1,
        "scene": "<openalea.plantgl.scenegraph._pglsg.Scene object at 0x7fd7309af8f0>"
       },
       "scene_oGEm5O0TpPG8TDUCdju20WMYu": {
        "drc": {},
        "position": [
         52,
         -73,
         15
        ],
        "scale": 1,
        "scene": "<openalea.plantgl.scenegraph._pglsg.Scene object at 0x7fd73096dab0>"
       },
       "scene_oGodJYWOJOhAHbjtfc8vrD0U3": {
        "drc": {},
        "position": [
         -70,
         16,
         -25
        ],
        "scale": 1,
        "scene": "<openalea.plantgl.scenegraph._pglsg.Scene object at 0x7fd7308ef5b0>"
       },
       "scene_oUInS5ooO9hqkasBVrnCOqmap": {
        "drc": {},
        "position": [
         -3,
         49,
         -107
        ],
        "scale": 1,
        "scene": "<openalea.plantgl.scenegraph._pglsg.Scene object at 0x7fd730a462f0>"
       },
       "scene_oh1JfscYl4jiCzOi9x1SX0Xiz": {
        "drc": {},
        "position": [
         -19,
         -21,
         97
        ],
        "scale": 1,
        "scene": "<openalea.plantgl.scenegraph._pglsg.Scene object at 0x7fd730994830>"
       },
       "scene_oz6SrV0lQggdBi9rNfrp35xEp": {
        "drc": {},
        "position": [
         -57,
         -78,
         -38
        ],
        "scale": 1,
        "scene": "<openalea.plantgl.scenegraph._pglsg.Scene object at 0x7fd7309c0bf0>"
       },
       "scene_paiPhjjUwfJIsC2qPzGyXWcdn": {
        "drc": {},
        "position": [
         73,
         -92,
         48
        ],
        "scale": 1,
        "scene": "<openalea.plantgl.scenegraph._pglsg.Scene object at 0x7fd730948c30>"
       },
       "scene_pbXlYs9pklDb4BYyNKN9jmnDA": {
        "drc": {},
        "position": [
         -93,
         31,
         -67
        ],
        "scale": 1,
        "scene": "<openalea.plantgl.scenegraph._pglsg.Scene object at 0x7fd730a46830>"
       },
       "scene_pji42roFYO1RIoHqwE5p8JCUM": {
        "drc": {},
        "position": [
         -24,
         94,
         -124
        ],
        "scale": 1,
        "scene": "<openalea.plantgl.scenegraph._pglsg.Scene object at 0x7fd730882870>"
       },
       "scene_ppsdhmZmyplFXt0Ot3ZYQNtJT": {
        "drc": {},
        "position": [
         49,
         -23,
         92
        ],
        "scale": 1,
        "scene": "<openalea.plantgl.scenegraph._pglsg.Scene object at 0x7fd730a62070>"
       },
       "scene_pu9dNeORo4HHEMWqycFDeb4M6": {
        "drc": {},
        "position": [
         14,
         -82,
         -51
        ],
        "scale": 1,
        "scene": "<openalea.plantgl.scenegraph._pglsg.Scene object at 0x7fd730a99270>"
       },
       "scene_pue2qi4b96IPtB2QRYwt0td5c": {
        "drc": {},
        "position": [
         90,
         0,
         -35
        ],
        "scale": 1,
        "scene": "<openalea.plantgl.scenegraph._pglsg.Scene object at 0x7fd730a497b0>"
       },
       "scene_qKiFzyClURQOkUJMs91Bf9jN3": {
        "drc": {},
        "position": [
         114,
         118,
         71
        ],
        "scale": 1,
        "scene": "<openalea.plantgl.scenegraph._pglsg.Scene object at 0x7fd730b3c670>"
       },
       "scene_rNGhbpQHKNkGe4253caTULbPL": {
        "drc": {},
        "position": [
         30,
         115,
         61
        ],
        "scale": 1,
        "scene": "<openalea.plantgl.scenegraph._pglsg.Scene object at 0x7fd730a15930>"
       },
       "scene_rbngCIDAJ64H5QVGOcLyhQi64": {
        "drc": {},
        "position": [
         -40,
         62,
         -33
        ],
        "scale": 1,
        "scene": "<openalea.plantgl.scenegraph._pglsg.Scene object at 0x7fd730a99870>"
       },
       "scene_rxR6giar2DxoI2LR5HFCtLnX6": {
        "drc": {},
        "position": [
         0,
         -92,
         113
        ],
        "scale": 1,
        "scene": "<openalea.plantgl.scenegraph._pglsg.Scene object at 0x7fd730afd9b0>"
       },
       "scene_s2FMI69yVUXuqjAlUveKxQVKr": {
        "drc": {},
        "position": [
         -18,
         45,
         36
        ],
        "scale": 1,
        "scene": "<openalea.plantgl.scenegraph._pglsg.Scene object at 0x7fd73090af30>"
       },
       "scene_s6UjLV53vL8v9RILA2SO9Pjhx": {
        "drc": {},
        "position": [
         0,
         78,
         27
        ],
        "scale": 1,
        "scene": "<openalea.plantgl.scenegraph._pglsg.Scene object at 0x7fd7309257b0>"
       },
       "scene_s7sjHtOTW3LjSFTOsyBECNFG4": {
        "drc": {},
        "position": [
         -45,
         -57,
         31
        ],
        "scale": 1,
        "scene": "<openalea.plantgl.scenegraph._pglsg.Scene object at 0x7fd730a274b0>"
       },
       "scene_sFELdaFTEN8ouBSXB68GHQCob": {
        "drc": {},
        "position": [
         -12,
         28,
         -90
        ],
        "scale": 1,
        "scene": "<openalea.plantgl.scenegraph._pglsg.Scene object at 0x7fd730a99e30>"
       },
       "scene_sJGjze00bIFjRDMCrzK5kl5XO": {
        "drc": {},
        "position": [
         65,
         -9,
         -40
        ],
        "scale": 1,
        "scene": "<openalea.plantgl.scenegraph._pglsg.Scene object at 0x7fd730938330>"
       },
       "scene_sZl7luokukolqFwatmitzTezM": {
        "drc": {},
        "position": [
         -67,
         88,
         74
        ],
        "scale": 1,
        "scene": "<openalea.plantgl.scenegraph._pglsg.Scene object at 0x7fd73139e530>"
       },
       "scene_shnSjcxYYHpyyRIeYj2Ulwc9B": {
        "drc": {},
        "position": [
         10,
         -18,
         99
        ],
        "scale": 1,
        "scene": "<openalea.plantgl.scenegraph._pglsg.Scene object at 0x7fd73092edf0>"
       },
       "scene_sq91ptTsXjPaE8Zu8rnyxODlR": {
        "drc": {},
        "position": [
         -48,
         73,
         -37
        ],
        "scale": 1,
        "scene": "<openalea.plantgl.scenegraph._pglsg.Scene object at 0x7fd730ab4ab0>"
       },
       "scene_sytpiyTscF08MOUNwPMwfEUI4": {
        "drc": {},
        "position": [
         46,
         -31,
         22
        ],
        "scale": 1,
        "scene": "<openalea.plantgl.scenegraph._pglsg.Scene object at 0x7fd730af1b30>"
       },
       "scene_t5KpcfeGDHNNvuGKnWMW191LP": {
        "drc": {},
        "position": [
         2,
         -120,
         -72
        ],
        "scale": 1,
        "scene": "<openalea.plantgl.scenegraph._pglsg.Scene object at 0x7fd730b20fb0>"
       },
       "scene_tLPyDBpGt9wNYvV4f6e0O6GkM": {
        "drc": {},
        "position": [
         65,
         -119,
         -34
        ],
        "scale": 1,
        "scene": "<openalea.plantgl.scenegraph._pglsg.Scene object at 0x7fd7309afeb0>"
       },
       "scene_tseVXMIHrYa9fZ5SN2yWlcGYr": {
        "drc": {},
        "position": [
         -33,
         -23,
         99
        ],
        "scale": 1,
        "scene": "<openalea.plantgl.scenegraph._pglsg.Scene object at 0x7fd7308e6fb0>"
       },
       "scene_u49ELBGiTTyfBO3YPjyEziBw9": {
        "drc": {},
        "position": [
         -5,
         77,
         -102
        ],
        "scale": 1,
        "scene": "<openalea.plantgl.scenegraph._pglsg.Scene object at 0x7fd730994df0>"
       },
       "scene_u6XiiNqT7h21fKo2Riq4VJNH5": {
        "drc": {},
        "position": [
         121,
         32,
         -119
        ],
        "scale": 1,
        "scene": "<openalea.plantgl.scenegraph._pglsg.Scene object at 0x7fd730b14630>"
       },
       "scene_uJa3fkF4Nlia2ALYi3jy6LUTe": {
        "drc": {},
        "position": [
         -96,
         36,
         -124
        ],
        "scale": 1,
        "scene": "<openalea.plantgl.scenegraph._pglsg.Scene object at 0x7fd73096dc30>"
       },
       "scene_uRcrvNua1C1CocuUsG7rdQWMO": {
        "drc": {},
        "position": [
         41,
         -63,
         -27
        ],
        "scale": 1,
        "scene": "<openalea.plantgl.scenegraph._pglsg.Scene object at 0x7fd730a495f0>"
       },
       "scene_uTkGO1gD4KcBnVj0wWSDjnm19": {
        "drc": {},
        "position": [
         -27,
         46,
         -63
        ],
        "scale": 1,
        "scene": "<openalea.plantgl.scenegraph._pglsg.Scene object at 0x7fd7309fdfb0>"
       },
       "scene_ut5FbWsGRX0wK9TuVPfcXZaWP": {
        "drc": {},
        "position": [
         -23,
         119,
         8
        ],
        "scale": 1,
        "scene": "<openalea.plantgl.scenegraph._pglsg.Scene object at 0x7fd73096d4f0>"
       },
       "scene_uuwjrUT43EMatRsfIrEkdOWBm": {
        "drc": {},
        "position": [
         -72,
         -98,
         87
        ],
        "scale": 1,
        "scene": "<openalea.plantgl.scenegraph._pglsg.Scene object at 0x7fd7309516f0>"
       },
       "scene_v6uZxztCzEdYGXfp48r7NRT1l": {
        "drc": {},
        "position": [
         120,
         108,
         -97
        ],
        "scale": 1,
        "scene": "<openalea.plantgl.scenegraph._pglsg.Scene object at 0x7fd730a99a70>"
       },
       "scene_vKUF169xA2ueqty8fBXQGnqPi": {
        "drc": {},
        "position": [
         72,
         97,
         -60
        ],
        "scale": 1,
        "scene": "<openalea.plantgl.scenegraph._pglsg.Scene object at 0x7fd730a8d4f0>"
       },
       "scene_vf3S5AyMpii3OgTqMtwIqfB3A": {
        "drc": {},
        "position": [
         56,
         44,
         -110
        ],
        "scale": 1,
        "scene": "<openalea.plantgl.scenegraph._pglsg.Scene object at 0x7fd730965930>"
       },
       "scene_vlNKuvbyOW8Og5nkO0RKnM8DB": {
        "drc": {},
        "position": [
         -49,
         -15,
         91
        ],
        "scale": 1,
        "scene": "<openalea.plantgl.scenegraph._pglsg.Scene object at 0x7fd730a62030>"
       },
       "scene_vqHsYSSpQUFF9VX8TxlTEfFpR": {
        "drc": {},
        "position": [
         -76,
         87,
         -47
        ],
        "scale": 1,
        "scene": "<openalea.plantgl.scenegraph._pglsg.Scene object at 0x7fd73090a3b0>"
       },
       "scene_vsetyCacDaYP9tQcJXy5QRQ04": {
        "drc": {},
        "position": [
         47,
         -75,
         89
        ],
        "scale": 1,
        "scene": "<openalea.plantgl.scenegraph._pglsg.Scene object at 0x7fd730a7a8f0>"
       },
       "scene_wFLqX7vxM4IWRp932V3JXgMTx": {
        "drc": {},
        "position": [
         -118,
         -19,
         -78
        ],
        "scale": 1,
        "scene": "<openalea.plantgl.scenegraph._pglsg.Scene object at 0x7fd73091cdf0>"
       },
       "scene_wVgEQt5YNTRlwkmveM8y1CaCn": {
        "drc": {},
        "position": [
         108,
         23,
         71
        ],
        "scale": 1,
        "scene": "<openalea.plantgl.scenegraph._pglsg.Scene object at 0x7fd730a85b30>"
       },
       "scene_x9LwffWbysyKjYFfoWvGQWaGZ": {
        "drc": {},
        "position": [
         3,
         -119,
         -70
        ],
        "scale": 1,
        "scene": "<openalea.plantgl.scenegraph._pglsg.Scene object at 0x7fd7309b7fb0>"
       },
       "scene_xBbj4jDNTfIpxyZB9BuykCyIT": {
        "drc": {},
        "position": [
         116,
         -66,
         -8
        ],
        "scale": 1,
        "scene": "<openalea.plantgl.scenegraph._pglsg.Scene object at 0x7fd730a69e70>"
       },
       "scene_xW8RG8RfrbcjvWtbH6TtHPh2h": {
        "drc": {},
        "position": [
         -36,
         73,
         -63
        ],
        "scale": 1,
        "scene": "<openalea.plantgl.scenegraph._pglsg.Scene object at 0x7fd730a74430>"
       },
       "scene_xa25aqzPW2j319nEs1V7onxX6": {
        "drc": {},
        "position": [
         0,
         16,
         45
        ],
        "scale": 1,
        "scene": "<openalea.plantgl.scenegraph._pglsg.Scene object at 0x7fd730914530>"
       },
       "scene_xkpHIZHEnPclyhCIvRwO1571a": {
        "drc": {},
        "position": [
         -77,
         86,
         88
        ],
        "scale": 1,
        "scene": "<openalea.plantgl.scenegraph._pglsg.Scene object at 0x7fd730a346f0>"
       },
       "scene_yCZU9693qyYakhkeU03ZO5sYL": {
        "drc": {},
        "position": [
         116,
         37,
         2
        ],
        "scale": 1,
        "scene": "<openalea.plantgl.scenegraph._pglsg.Scene object at 0x7fd730a99d70>"
       },
       "scene_yEePvFoBttKH9LW1sdCeQ4ZwO": {
        "drc": {},
        "position": [
         -23,
         85,
         -34
        ],
        "scale": 1,
        "scene": "<openalea.plantgl.scenegraph._pglsg.Scene object at 0x7fd730a69ab0>"
       },
       "scene_yExuuLpYyIivNxKfwkK0fYdnE": {
        "drc": {},
        "position": [
         -54,
         88,
         71
        ],
        "scale": 1,
        "scene": "<openalea.plantgl.scenegraph._pglsg.Scene object at 0x7fd730a90db0>"
       },
       "scene_yFZJ3dyie6H8LQuGfG3UGV7lV": {
        "drc": {},
        "position": [
         114,
         69,
         -67
        ],
        "scale": 1,
        "scene": "<openalea.plantgl.scenegraph._pglsg.Scene object at 0x7fd730a692f0>"
       },
       "scene_yOylCsPmcqNN5K2u4EGa9tIMY": {
        "drc": {},
        "position": [
         -88,
         -96,
         115
        ],
        "scale": 1,
        "scene": "<openalea.plantgl.scenegraph._pglsg.Scene object at 0x7fd730a34cb0>"
       },
       "scene_yRWARQVVOY1oxavA2dwCAx15a": {
        "drc": {},
        "position": [
         -45,
         -123,
         7
        ],
        "scale": 1,
        "scene": "<openalea.plantgl.scenegraph._pglsg.Scene object at 0x7fd730976c30>"
       },
       "scene_yU9xnxLq2O0I1Sd2FuuWnzOY6": {
        "drc": {},
        "position": [
         8,
         -7,
         119
        ],
        "scale": 1,
        "scene": "<openalea.plantgl.scenegraph._pglsg.Scene object at 0x7fd7308ccfb0>"
       },
       "scene_yfFApVYiDhc1bjYUyklnb6gIy": {
        "drc": {},
        "position": [
         -55,
         -106,
         -7
        ],
        "scale": 1,
        "scene": "<openalea.plantgl.scenegraph._pglsg.Scene object at 0x7fd730ad82f0>"
       },
       "scene_yqLkFibQFs5S67GtIzMXbwoae": {
        "drc": {},
        "position": [
         7,
         36,
         114
        ],
        "scale": 1,
        "scene": "<openalea.plantgl.scenegraph._pglsg.Scene object at 0x7fd730a859b0>"
       },
       "scene_z89SnbKNoYCi8pj9JKLP8jZId": {
        "drc": {},
        "position": [
         120,
         48,
         -105
        ],
        "scale": 1,
        "scene": "<openalea.plantgl.scenegraph._pglsg.Scene object at 0x7fd730980db0>"
       },
       "scene_zkYj53zY78p3ZZt7azxF6Yssh": {
        "drc": {},
        "position": [
         111,
         60,
         -3
        ],
        "scale": 1,
        "scene": "<openalea.plantgl.scenegraph._pglsg.Scene object at 0x7fd7309c5830>"
       },
       "size_display": [
        400,
        300
       ],
       "size_world": [
        255,
        255,
        255
       ]
      }
     },
     "69ecdf74fc324e8b82415c421f95a6ed": {
      "buffers": [
       {
        "data": "",
        "encoding": "base64",
        "path": [
         "scene",
         "drc"
        ]
       },
       {
        "data": "RFJBQ08CAgEBAAAAXLQBAbMBAAAtX9u2rWpLVVVVqVZLVVWValVLVVWpVlVLVZVqVVVLValWVVVLlWpVVVVLqQIKAQEQ/wL2XgL/AAEAAQABAAkDAAACAQICAwABAQQBAQAMF70JGQIZEkkfGQK0F5BpXg4ZDy4i6U1F6DUqASfbu9LJXuhPPV9wGXiWA7CIwSF5fAbguxAAqaACwEN3TOpyAHbGGYURAADxUQA2TwF8lQpgZzkAa54CwJIQQDbr3KMLAVD3JAAYggVAEg1AnBTAIzQAeeYCyDG3V3EAxZkknAOw2iPpgGwCQABALgGbVYArCQFsJAWAmm0AO80BYPW0F7OEo4ynygGd0/MVAIDwUYCaVQApBy4CACAdTA5mgJ7IM4AoB+ISAIADQABALgEpB6IciEvgB4DYBCIdkHRgmQlIEg2AFgBA8gzAZhWgZhUg8gxgFgAgEg2ghhWgOIDiWBQCECcFwAgAgPgoAJaEAK4kBBA+CnARAIBwUoADT8ksS0gmaBcyO+WQ6WWRDAKoZJgpJCPUCxmeccj4qkjmYxsAD80E+JVhgIIBghKAi7WWlZWVlT/nxIZww04Nt20YVQV+xqAKhASAA4D0gAAAAAD/BwAAAAAQwb/zCMEAABDBAACQQQsEAQEBBHaJPzz/yzwFZOv+r4EVAQJWQW4BAllIHgEC70EMAQLAQAwAAACIAAAA",
        "encoding": "base64",
        "path": [
         "scene_0m7wPqbFIbubIMY9ersBossF5",
         "drc"
        ]
       },
       {
        "data": "RFJBQ08CAgEBAAAAXLQBAbMBAAAtX9u2rWpLVVVVqVZLVVWValVLVVWpVlVLVZVqVVVLValWVVVLlWpVVVVLqQIKAQEQ/wL2XgL/AAEAAQABAAkDAAACAQICAwABAQQBAQAMF70JGQIZEkkfGQK0F5BpXg4ZDy4i6U1F6DUqASfbu9LJXuhPPV9wGXiWA7CIwSF5fAbguxAAqaACwEN3TOpyAHbGGYURAADxUQA2TwF8lQpgZzkAa54CwJIQQDbr3KMLAVD3JAAYggVAEg1AnBTAIzQAeeYCyDG3V3EAxZkknAOw2iPpgGwCQABALgGbVYArCQFsJAWAmm0AO80BYPW0F7OEo4ynygGd0/MVAIDwUYCaVQApBy4CACAdTA5mgJ7IM4AoB+ISAIADQABALgEpB6IciEvgB4DYBCIdkHRgmQlIEg2AFgBA8gzAZhWgZhUg8gxgFgAgEg2ghhWgOIDiWBQCECcFwAgAgPgoAJaEAK4kBBA+CnARAIBwUoADT8ksS0gmaBcyO+WQ6WWRDAKoZJgpJCPUCxmeccj4qkjmYxsAD80E+JVhgIIBghKAi7WWlZWVlT/nxIZww04Nt20YVQV+xqAKhASAA4D0gAAAAAD/BwAAAACQwb/ziMEAAJDBAAAQQgsEAQEBBBiJPzxTPAVYXeS/gRUBAlZBbgECWUgeAQLvQQwBAsBAEAAAAC8AAAA=",
        "encoding": "base64",
        "path": [
         "scene_1cYDcuRmzqTS9Tl1uL6HkHEqz",
         "drc"
        ]
       },
       {
        "data": "RFJBQ08CAgEBAAAAXLQBAbMBAAAtX9u2rWpLVVVVqVZLVVWValVLVVWpVlVLVZVqVVVLValWVVVLlWpVVVVLqQIKAQEQ/wL2XgL/AAEAAQABAAkDAAACAQICAwABAQQBAQAMF70JGQIZEkkfGQK0F5BpXg4ZDy4i6U1F6DUqASfbu9LJXuhPPV9wGXiWA7CIwSF5fAbguxAAqaACwEN3TOpyAHbGGYURAADxUQA2TwF8lQpgZzkAa54CwJIQQDbr3KMLAVD3JAAYggVAEg1AnBTAIzQAeeYCyDG3V3EAxZkknAOw2iPpgGwCQABALgGbVYArCQFsJAWAmm0AO80BYPW0F7OEo4ynygGd0/MVAIDwUYCaVQApBy4CACAdTA5mgJ7IM4AoB+ISAIADQABALgEpB6IciEvgB4DYBCIdkHRgmQlIEg2AFgBA8gzAZhWgZhUg8gxgFgAgEg2ghhWgOIDiWBQCECcFwAgAgPgoAJaEAK4kBBA+CnARAIBwUoADT8ksS0gmaBcyO+WQ6WWRDAKoZJgpJCPUCxmeccj4qkjmYxsAD80E+JVhgIIBghKAi7WWlZWVlT/nxIZww04Nt20YVQV+xqAKhASAA4D0gAAAAAD/BwAAAACAwHF4c8AAAIDAAAAAQQsEAQEBBCuJPzyfPAVk6/6vgRUBAlZBbgECWUgeAQLvQQwBAsBAdAAAAKAAAAA=",
        "encoding": "base64",
        "path": [
         "scene_1cmrerqYezvxpRbIo5q7Gbsbb",
         "drc"
        ]
       },
       {
        "data": "RFJBQ08CAgEBAAAAXLQBAbMBAAAtX9u2rWpLVVVVqVZLVVWValVLVVWpVlVLVZVqVVVLValWVVVLlWpVVVVLqQIKAQEQ/wL2XgL/AAEAAQABAAkDAAACAQICAwABAQQBAQAMF70JGQIZEkkfGQK0F5BpXg4ZDy4i6U1F6DUqASfbu9LJXuhPPV9wGXiWA7CIwSF5fAbguxAAqaACwEN3TOpyAHbGGYURAADxUQA2TwF8lQpgZzkAa54CwJIQQDbr3KMLAVD3JAAYggVAEg1AnBTAIzQAeeYCyDG3V3EAxZkknAOw2iPpgGwCQABALgGbVYArCQFsJAWAmm0AO80BYPW0F7OEo4ynygGd0/MVAIDwUYCaVQApBy4CACAdTA5mgJ7IM4AoB+ISAIADQABALgEpB6IciEvgB4DYBCIdkHRgmQlIEg2AFgBA8gzAZhWgZhUg8gxgFgAgEg2ghhWgOIDiWBQCECcFwAgAgPgoAJaEAK4kBBA+CnARAIBwUoADT8ksS0gmaBcyO+WQ6WWRDAKoZJgpJCPUCxmeccj4qkjmYxsAD80E+JVhgIIBghKAi7WWlZWVlT/nxIZww04Nt20YVQV+xqAKhASAA4D0gAAAAAD/BwAAAAAAwHF4878AAADAAACAQAsEAQEBBIABiT88//M8BVhO87+BFQECVkFuAQJZSB4BAu9BDAECwEBEAAAAxQAAAA==",
        "encoding": "base64",
        "path": [
         "scene_1qN8fyO2Oi6eq4ZvjpAAoXxWV",
         "drc"
        ]
       },
       {
        "data": "RFJBQ08CAgEBAAAAXLQBAbMBAAAtX9u2rWpLVVVVqVZLVVWValVLVVWpVlVLVZVqVVVLValWVVVLlWpVVVVLqQIKAQEQ/wL2XgL/AAEAAQABAAkDAAACAQICAwABAQQBAQAMF70JGQIZEkkfGQK0F5BpXg4ZDy4i6U1F6DUqASfbu9LJXuhPPV9wGXiWA7CIwSF5fAbguxAAqaACwEN3TOpyAHbGGYURAADxUQA2TwF8lQpgZzkAa54CwJIQQDbr3KMLAVD3JAAYggVAEg1AnBTAIzQAeeYCyDG3V3EAxZkknAOw2iPpgGwCQABALgGbVYArCQFsJAWAmm0AO80BYPW0F7OEo4ynygGd0/MVAIDwUYCaVQApBy4CACAdTA5mgJ7IM4AoB+ISAIADQABALgEpB6IciEvgB4DYBCIdkHRgmQlIEg2AFgBA8gzAZhWgZhUg8gxgFgAgEg2ghhWgOIDiWBQCECcFwAgAgPgoAJaEAK4kBBA+CnARAIBwUoADT8ksS0gmaBcyO+WQ6WWRDAKoZJgpJCPUCxmeccj4qkjmYxsAD80E+JVhgIIBghKAi7WWlZWVlT/nxIZww04Nt20YVQV+xqAKhASAA4D0gAAAAAD/BwAAAACAwHF4c8AAAIDAAAAAQQsEAQEBBBSJPzxDPAVY95GzgRUBAlZBbgECWUgeAQLvQQwBAsBAYQAAAH8AAAA=",
        "encoding": "base64",
        "path": [
         "scene_1ri0CILLxYVtrFNasxVvygeED",
         "drc"
        ]
       },
       {
        "data": "RFJBQ08CAgEBAAAAXLQBAbMBAAAtX9u2rWpLVVVVqVZLVVWValVLVVWpVlVLVZVqVVVLValWVVVLlWpVVVVLqQIKAQEQ/wL2XgL/AAEAAQABAAkDAAACAQICAwABAQQBAQAMF70JGQIZEkkfGQK0F5BpXg4ZDy4i6U1F6DUqASfbu9LJXuhPPV9wGXiWA7CIwSF5fAbguxAAqaACwEN3TOpyAHbGGYURAADxUQA2TwF8lQpgZzkAa54CwJIQQDbr3KMLAVD3JAAYggVAEg1AnBTAIzQAeeYCyDG3V3EAxZkknAOw2iPpgGwCQABALgGbVYArCQFsJAWAmm0AO80BYPW0F7OEo4ynygGd0/MVAIDwUYCaVQApBy4CACAdTA5mgJ7IM4AoB+ISAIADQABALgEpB6IciEvgB4DYBCIdkHRgmQlIEg2AFgBA8gzAZhWgZhUg8gxgFgAgEg2ghhWgOIDiWBQCECcFwAgAgPgoAJaEAK4kBBA+CnARAIBwUoADT8ksS0gmaBcyO+WQ6WWRDAKoZJgpJCPUCxmeccj4qkjmYxsAD80E+JVhgIIBghKAi7WWlZWVlT/nxIZww04Nt20YVQV+xqAKhASAA4D0gAAAAAD/BwAAAAAwwc1iJ8EAADDBAACwQQsEAQEBAwEBQAEAFQECVkFuAQJZSB4BAu9BDAECwEA9AAAAPQAAAA==",
        "encoding": "base64",
        "path": [
         "scene_1tjerFplyDQOyIPvks0gpodNh",
         "drc"
        ]
       },
       {
        "data": "RFJBQ08CAgEBAAAAXLQBAbMBAAAtX9u2rWpLVVVVqVZLVVWValVLVVWpVlVLVZVqVVVLValWVVVLlWpVVVVLqQIKAQEQ/wL2XgL/AAEAAQABAAkDAAACAQICAwABAQQBAQAMF70JGQIZEkkfGQK0F5BpXg4ZDy4i6U1F6DUqASfbu9LJXuhPPV9wGXiWA7CIwSF5fAbguxAAqaACwEN3TOpyAHbGGYURAADxUQA2TwF8lQpgZzkAa54CwJIQQDbr3KMLAVD3JAAYggVAEg1AnBTAIzQAeeYCyDG3V3EAxZkknAOw2iPpgGwCQABALgGbVYArCQFsJAWAmm0AO80BYPW0F7OEo4ynygGd0/MVAIDwUYCaVQApBy4CACAdTA5mgJ7IM4AoB+ISAIADQABALgEpB6IciEvgB4DYBCIdkHRgmQlIEg2AFgBA8gzAZhWgZhUg8gxgFgAgEg2ghhWgOIDiWBQCECcFwAgAgPgoAJaEAK4kBBA+CnARAIBwUoADT8ksS0gmaBcyO+WQ6WWRDAKoZJgpJCPUCxmeccj4qkjmYxsAD80E+JVhgIIBghKAi7WWlZWVlT/nxIZww04Nt20YVQV+xqAKhASAA4D0gAAAAAD/BwAAAAAAwXF488AAAADBAACAQQsEAQEBBBmJPzxXPAVYXeS/gRUBAlZBbgECWUgeAQLvQQwBAsBAMwAAALsAAAA=",
        "encoding": "base64",
        "path": [
         "scene_2J7zuTuM9PzYcuowJL64U22KQ",
         "drc"
        ]
       },
       {
        "data": "RFJBQ08CAgEBAAAAXLQBAbMBAAAtX9u2rWpLVVVVqVZLVVWValVLVVWpVlVLVZVqVVVLValWVVVLlWpVVVVLqQIKAQEQ/wL2XgL/AAEAAQABAAkDAAACAQICAwABAQQBAQAMF70JGQIZEkkfGQK0F5BpXg4ZDy4i6U1F6DUqASfbu9LJXuhPPV9wGXiWA7CIwSF5fAbguxAAqaACwEN3TOpyAHbGGYURAADxUQA2TwF8lQpgZzkAa54CwJIQQDbr3KMLAVD3JAAYggVAEg1AnBTAIzQAeeYCyDG3V3EAxZkknAOw2iPpgGwCQABALgGbVYArCQFsJAWAmm0AO80BYPW0F7OEo4ynygGd0/MVAIDwUYCaVQApBy4CACAdTA5mgJ7IM4AoB+ISAIADQABALgEpB6IciEvgB4DYBCIdkHRgmQlIEg2AFgBA8gzAZhWgZhUg8gxgFgAgEg2ghhWgOIDiWBQCECcFwAgAgPgoAJaEAK4kBBA+CnARAIBwUoADT8ksS0gmaBcyO+WQ6WWRDAKoZJgpJCPUCxmeccj4qkjmYxsAD80E+JVhgIIBghKAi7WWlZWVlT/nxIZww04Nt20YVQV+xqAKhASAA4D0gAAAAAD/BwAAAACIwfxXgcEAAIjBAAAIQgsEAQEBBI0BiT88//8nPAVY95GzgRUBAlZBbgECWUgeAQLvQQwBAsBAZgAAAPkAAAA=",
        "encoding": "base64",
        "path": [
         "scene_2QndYAuY8Q1lSCRcLjxnyp9Ds",
         "drc"
        ]
       },
       {
        "data": "RFJBQ08CAgEBAAAAXLQBAbMBAAAtX9u2rWpLVVVVqVZLVVWValVLVVWpVlVLVZVqVVVLValWVVVLlWpVVVVLqQIKAQEQ/wL2XgL/AAEAAQABAAkDAAACAQICAwABAQQBAQAMF70JGQIZEkkfGQK0F5BpXg4ZDy4i6U1F6DUqASfbu9LJXuhPPV9wGXiWA7CIwSF5fAbguxAAqaACwEN3TOpyAHbGGYURAADxUQA2TwF8lQpgZzkAa54CwJIQQDbr3KMLAVD3JAAYggVAEg1AnBTAIzQAeeYCyDG3V3EAxZkknAOw2iPpgGwCQABALgGbVYArCQFsJAWAmm0AO80BYPW0F7OEo4ynygGd0/MVAIDwUYCaVQApBy4CACAdTA5mgJ7IM4AoB+ISAIADQABALgEpB6IciEvgB4DYBCIdkHRgmQlIEg2AFgBA8gzAZhWgZhUg8gxgFgAgEg2ghhWgOIDiWBQCECcFwAgAgPgoAJaEAK4kBBA+CnARAIBwUoADT8ksS0gmaBcyO+WQ6WWRDAKoZJgpJCPUCxmeccj4qkjmYxsAD80E+JVhgIIBghKAi7WWlZWVlT/nxIZww04Nt20YVQV+xqAKhASAA4D0gAAAAAD/BwAAAACQwb/ziMEAAJDBAAAQQgsEAQEBBJwBiT88//9jPAVYTvO/gRUBAlZBbgECWUgeAQLvQQwBAsBAUQAAAPoAAAA=",
        "encoding": "base64",
        "path": [
         "scene_2REGcwnYhxwo7Oqq4UT2QGP72",
         "drc"
        ]
       },
       {
        "data": "RFJBQ08CAgEBAAAAXLQBAbMBAAAtX9u2rWpLVVVVqVZLVVWValVLVVWpVlVLVZVqVVVLValWVVVLlWpVVVVLqQIKAQEQ/wL2XgL/AAEAAQABAAkDAAACAQICAwABAQQBAQAMF70JGQIZEkkfGQK0F5BpXg4ZDy4i6U1F6DUqASfbu9LJXuhPPV9wGXiWA7CIwSF5fAbguxAAqaACwEN3TOpyAHbGGYURAADxUQA2TwF8lQpgZzkAa54CwJIQQDbr3KMLAVD3JAAYggVAEg1AnBTAIzQAeeYCyDG3V3EAxZkknAOw2iPpgGwCQABALgGbVYArCQFsJAWAmm0AO80BYPW0F7OEo4ynygGd0/MVAIDwUYCaVQApBy4CACAdTA5mgJ7IM4AoB+ISAIADQABALgEpB6IciEvgB4DYBCIdkHRgmQlIEg2AFgBA8gzAZhWgZhUg8gxgFgAgEg2ghhWgOIDiWBQCECcFwAgAgPgoAJaEAK4kBBA+CnARAIBwUoADT8ksS0gmaBcyO+WQ6WWRDAKoZJgpJCPUCxmeccj4qkjmYxsAD80E+JVhgIIBghKAi7WWlZWVlT/nxIZww04Nt20YVQV+xqAKhASAA4D0gAAAAAD/BwAAAABAwFSaNsAAAEDAAADAQAsEAQEBBG6JPzz/qzwFWOigs4EVAQJWQW4BAllIHgEC70EMAQLAQBgAAACKAAAA",
        "encoding": "base64",
        "path": [
         "scene_2dwNhZQhbsXCYhR2qp5WTQU3N",
         "drc"
        ]
       },
       {
        "data": "RFJBQ08CAgEBAAAAXLQBAbMBAAAtX9u2rWpLVVVVqVZLVVWValVLVVWpVlVLVZVqVVVLValWVVVLlWpVVVVLqQIKAQEQ/wL2XgL/AAEAAQABAAkDAAACAQICAwABAQQBAQAMF70JGQIZEkkfGQK0F5BpXg4ZDy4i6U1F6DUqASfbu9LJXuhPPV9wGXiWA7CIwSF5fAbguxAAT1kB0EN3TOpyAHbGGYURAADxUQA2TwF8lQpgZzkAa54CwJIQQDbr3KMLAVD3JAAYggVAEg1AnBTAIzQAO82NsdIdQHEAxclMzgGw+iPpgGwCQABALgGbVYArCQFsJAWAmm0AO80BUPW0F7OEo4ynygGd8/MVAIDwUYCaVQApBy4CACAdTA5mgJ/IM4AoB+ISAIAFQABALgEpB6IciEvgB4DYBCIdkHRgmclHEg2AFgBA8gzAZhWgZhUg8gxgFgAgEg2ghhWgOIDiWBQCECcFwAgAgPgoAJaEAK4kBBA+CnARAIBwUoADT8ksS0gmaBcyO+WQ6WWRDAKoZJgpJCPUCxmeccj4qkimvx8AD94DmOJGggGEEtR8RV4iJCQkCNeA4WSDIwVCaxhVBX7GoAqEBIADAPaAAAAAAP8HAAAAAODAYwnVwAAA4MAAAGBBCwQBAQEEmQGJPzz//1c8BWT676+BFQECVkFuAQJZSB4BAu9BDAECwEBBAAAA7wAAAA==",
        "encoding": "base64",
        "path": [
         "scene_2ksHHgxBNA4I3RiaMTmEi4kWG",
         "drc"
        ]
       },
       {
        "data": "RFJBQ08CAgEBAAAAXLQBAbMBAAAtX9u2rWpLVVVVqVZLVVWValVLVVWpVlVLVZVqVVVLValWVVVLlWpVVVVLqQIKAQEQ/wL2XgL/AAEAAQABAAkDAAACAQICAwABAQQBAQAMF70JGQIZEkkfGQK0F5BpXg4ZDy4i6U1F6DUqASfbu9LJXuhPPV9wGXiWA7CIwSF5fAbguxAAqaACwEN3TOpyAHbGGYURAADxUQA2TwF8lQpgZzkAa54CwJIQQDbr3KMLAVD3JAAYggVAEg1AnBTAIzQAeeYCyDG3V3EAxZkknAOw2iPpgGwCQABALgGbVYArCQFsJAWAmm0AO80BYPW0F7OEo4ynygGd0/MVAIDwUYCaVQApBy4CACAdTA5mgJ7IM4AoB+ISAIADQABALgEpB6IciEvgB4DYBCIdkHRgmQlIEg2AFgBA8gzAZhWgZhUg8gxgFgAgEg2ghhWgOIDiWBQCECcFwAgAgPgoAJaEAK4kBBA+CnARAIBwUoADT8ksS0gmaBcyO+WQ6WWRDAKoZJgpJCPUCxmeccj4qkjmYxsAD80E+JVhgIIBghKAi7WWlZWVlT/nxIZww04Nt20YVQV+xqAKhASAA4D0gAAAAAD/BwAAAAAAwHF4878AAADAAACAQAsEAQEBBCiJPzyTPAVYXeS/gRUBAlZBbgECWUgeAQLvQQwBAsBAfAAAAKoAAAA=",
        "encoding": "base64",
        "path": [
         "scene_2s4nTKpGMXXOlBkQNAImuZ6Jc",
         "drc"
        ]
       },
       {
        "data": "RFJBQ08CAgEBAAAAXLQBAbMBAAAtX9u2rWpLVVVVqVZLVVWValVLVVWpVlVLVZVqVVVLValWVVVLlWpVVVVLqQIKAQEQ/wL2XgL/AAEAAQABAAkDAAACAQICAwABAQQBAQAMF70JGQIZEkkfGQK0F5BpXg4ZDy4i6U1F6DUqASfbu9LJXuhPPV9wGXiWA7CIwSF5fAbguxAAqaACwEN3TOpyAHbGGYURAADxUQA2TwF8lQpgZzkAa54CwJIQQDbr3KMLAVD3JAAYggVAEg1AnBTAIzQAeeYCyDG3V3EAxZkknAOw2iPpgGwCQABALgGbVYArCQFsJAWAmm0AO80BYPW0F7OEo4ynygGd0/MVAIDwUYCaVQApBy4CACAdTA5mgJ7IM4AoB+ISAIADQABALgEpB6IciEvgB4DYBCIdkHRgmQlIEg2AFgBA8gzAZhWgZhUg8gxgFgAgEg2ghhWgOIDiWBQCECcFwAgAgPgoAJaEAK4kBBA+CnARAIBwUoADT8ksS0gmaBcyO+WQ6WWRDAKoZJgpJCPUCxmeccj4qkjmYxsAD80E+JVhgIIBghKAi7WWlZWVlT/nxIZww04Nt20YVQV+xqAKhASAA4D0gAAAAAD/BwAAAACgwEYrmMAAAKDAAAAgQQsEAQEBBEGJPzz3PAVY95GzgRUBAlZBbgECWUgeAQLvQQwBAsBAEQAAAPAAAAA=",
        "encoding": "base64",
        "path": [
         "scene_3H3Bb96lb28Mq4sQJt0B8gWsd",
         "drc"
        ]
       },
       {
        "data": "RFJBQ08CAgEBAAAAXLQBAbMBAAAtX9u2rWpLVVVVqVZLVVWValVLVVWpVlVLVZVqVVVLValWVVVLlWpVVVVLqQIKAQEQ/wL2XgL/AAEAAQABAAkDAAACAQICAwABAQQBAQAMF70JGQIZEkkfGQK0F5BpXg4ZDy4i6U1F6DUqASfbu9LJXuhPPV9wGXiWA7CIwSF5fAbguxAAqaACwEN3TOpyAHbGGYURAADxUQA2TwF8lQpgZzkAa54CwJIQQDbr3KMLAVD3JAAYggVAEg1AnBTAIzQAeeYCyDG3V3EAxZkknAOw2iPpgGwCQABALgGbVYArCQFsJAWAmm0AO80BYPW0F7OEo4ynygGd0/MVAIDwUYCaVQApBy4CACAdTA5mgJ7IM4AoB+ISAIADQABALgEpB6IciEvgB4DYBCIdkHRgmQlIEg2AFgBA8gzAZhWgZhUg8gxgFgAgEg2ghhWgOIDiWBQCECcFwAgAgPgoAJaEAK4kBBA+CnARAIBwUoADT8ksS0gmaBcyO+WQ6WWRDAKoZJgpJCPUCxmeccj4qkjmYxsAD80E+JVhgIIBghKAi7WWlZWVlT/nxIZww04Nt20YVQV+xqAKhASAA4D0gAAAAAD/BwAAAACYwYOPkMEAAJjBAAAYQgsEAQEBBAaJPzwLPAVYTvO/gRUBAlZBbgECWUgeAQLvQQwBAsBAVwAAAKMAAAA=",
        "encoding": "base64",
        "path": [
         "scene_3RmHK7ZlzhhdSar2JacgypHxg",
         "drc"
        ]
       },
       {
        "data": "RFJBQ08CAgEBAAAAXLQBAbMBAAAtX9u2rWpLVVVVqVZLVVWValVLVVWpVlVLVZVqVVVLValWVVVLlWpVVVVLqQIKAQEQ/wL2XgL/AAEAAQABAAkDAAACAQICAwABAQQBAQAMF70JGQIZEkkfGQK0F5BpXg4ZDy4i6U1F6DUqASfbu9LJXuhPPV9wGXiWA7CIwSF5fAbguxAAT1kB0EN3TOpyAHbGGYURAADxUQA2TwF8lQpgZzkAa54CwJIQQDbr3KMLAVD3JAAYggVAEg1AnBTAIzQAO82NsdIdQHEAxclMzgGw+iPpgGwCQABALgGbVYArCQFsJAWAmm0AO80BUPW0F7OEo4ynygGd8/MVAIDwUYCaVQApBy4CACAdTA5mgJ/IM4AoB+ISAIAFQABALgEpB6IciEvgB4DYBCIdkHRgmclHEg2AFgBA8gzAZhWgZhUg8gxgFgAgEg2ghhWgOIDiWBQCECcFwAgAgPgoAJaEAK4kBBA+CnARAIBwUoADT8ksS0gmaBcyO+WQ6WWRDAKoZJgpJCPUCxmeccj4qkimvx8AD94DmOJGggGEEtR8RV4iJCQkCNeA4WSDIwVCaxhVBX7GoAqEBIADAPaAAAAAAP8HAAAAAFDB29FFwQAAUMEAANBBCwQBAQEEDIk/PCM8BWT676+BFQECVkFuAQJZSB4BAu9BDAECwEAmAAAA7QAAAA==",
        "encoding": "base64",
        "path": [
         "scene_3d89VqmpJIqQ1uYP6jOBjQbKh",
         "drc"
        ]
       },
       {
        "data": "RFJBQ08CAgEBAAAAXLQBAbMBAAAtX9u2rWpLVVVVqVZLVVWValVLVVWpVlVLVZVqVVVLValWVVVLlWpVVVVLqQIKAQEQ/wL2XgL/AAEAAQABAAkDAAACAQICAwABAQQBAQAMF70JGQIZEkkfGQK0F5BpXg4ZDy4i6U1F6DUqASfbu9LJXuhPPV9wGXiWA7CIwSF5fAbguxAAqaACwEN3TOpyAHbGGYURAADxUQA2TwF8lQpgZzkAa54CwJIQQDbr3KMLAVD3JAAYggVAEg1AnBTAIzQAeeYCyDG3V3EAxZkknAOw2iPpgGwCQABALgGbVYArCQFsJAWAmm0AO80BYPW0F7OEo4ynygGd0/MVAIDwUYCaVQApBy4CACAdTA5mgJ7IM4AoB+ISAIADQABALgEpB6IciEvgB4DYBCIdkHRgmQlIEg2AFgBA8gzAZhWgZhUg8gxgFgAgEg2ghhWgOIDiWBQCECcFwAgAgPgoAJaEAK4kBBA+CnARAIBwUoADT8ksS0gmaBcyO+WQ6WWRDAKoZJgpJCPUCxmeccj4qkjmYxsAD80E+JVhgIIBghKAi7WWlZWVlT/nxIZww04Nt20YVQV+xqAKhASAA4D0gAAAAAD/BwAAAACAv3F4c78AAIC/AAAAQAsEAQEBBByJPzxjPAVYXeS/gRUBAlZBbgECWUgeAQLvQQwBAsBAbQAAAJgAAAA=",
        "encoding": "base64",
        "path": [
         "scene_3nAi9dFmoaxT0pjoOXqfLjwqJ",
         "drc"
        ]
       },
       {
        "data": "RFJBQ08CAgEBAAAAXLQBAbMBAAAtX9u2rWpLVVVVqVZLVVWValVLVVWpVlVLVZVqVVVLValWVVVLlWpVVVVLqQIKAQEQ/wL2XgL/AAEAAQABAAkDAAACAQICAwABAQQBAQAMF70JGQIZEkkfGQK0F5BpXg4ZDy4i6U1F6DUqASfbu9LJXuhPPV9wGXiWA7CIwSF5fAbguxAAT1kB0EN3TOpyAHbGGYURAADxUQA2TwF8lQpgZzkAa54CwJIQQDbr3KMLAVD3JAAYggVAEg1AnBTAIzQAO82NsdIdQHEAxclMzgGw+iPpgGwCQABALgGbVYArCQFsJAWAmm0AO80BUPW0F7OEo4ynygGd8/MVAIDwUYCaVQApBy4CACAdTA5mgJ/IM4AoB+ISAIAFQABALgEpB6IciEvgB4DYBCIdkHRgmclHEg2AFgBA8gzAZhWgZhUg8gxgFgAgEg2ghhWgOIDiWBQCECcFwAgAgPgoAJaEAK4kBBA+CnARAIBwUoADT8ksS0gmaBcyO+WQ6WWRDAKoZJgpJCPUCxmeccj4qkimvx8AD94DmOJGggGEEtR8RV4iJCQkCNeA4WSDIwVCaxhVBX7GoAqEBIADAPaAAAAAAP8HAAAAAFDB29FFwQAAUMEAANBBCwQBAQEEvgGJPzz//+s8BVj3kbOBFQECVkFuAQJZSB4BAu9BDAECwEACAAAA+AAAAA==",
        "encoding": "base64",
        "path": [
         "scene_3tPbfHUrOdZRNZBDqWVfVao0z",
         "drc"
        ]
       },
       {
        "data": "RFJBQ08CAgEBAAAAXLQBAbMBAAAtX9u2rWpLVVVVqVZLVVWValVLVVWpVlVLVZVqVVVLValWVVVLlWpVVVVLqQIKAQEQ/wL2XgL/AAEAAQABAAkDAAACAQICAwABAQQBAQAMF70JGQIZEkkfGQK0F5BpXg4ZDy4i6U1F6DUqASfbu9LJXuhPPV9wGXiWA7CIwSF5fAbguxAAqaACwEN3TOpyAHbGGYURAADxUQA2TwF8lQpgZzkAa54CwJIQQDbr3KMLAVD3JAAYggVAEg1AnBTAIzQAeeYCyDG3V3EAxZkknAOw2iPpgGwCQABALgGbVYArCQFsJAWAmm0AO80BYPW0F7OEo4ynygGd0/MVAIDwUYCaVQApBy4CACAdTA5mgJ7IM4AoB+ISAIADQABALgEpB6IciEvgB4DYBCIdkHRgmQlIEg2AFgBA8gzAZhWgZhUg8gxgFgAgEg2ghhWgOIDiWBQCECcFwAgAgPgoAJaEAK4kBBA+CnARAIBwUoADT8ksS0gmaBcyO+WQ6WWRDAKoZJgpJCPUCxmeccj4qkjmYxsAD80E+JVhgIIBghKAi7WWlZWVlT/nxIZww04Nt20YVQV+xqAKhASAA4D0gAAAAAD/BwAAAABAwFSaNsAAAEDAAADAQAsEAQEBBIYBiT88//8LPAVY6KCzgRUBAlZBbgECWUgeAQLvQQwBAsBAFAAAAMIAAAA=",
        "encoding": "base64",
        "path": [
         "scene_464O8nn5VkVgad0D7LuSYqx2q",
         "drc"
        ]
       },
       {
        "data": "RFJBQ08CAgEBAAAAXLQBAbMBAAAtX9u2rWpLVVVVqVZLVVWValVLVVWpVlVLVZVqVVVLValWVVVLlWpVVVVLqQIKAQEQ/wL2XgL/AAEAAQABAAkDAAACAQICAwABAQQBAQAMF70JGQIZEkkfGQK0F5BpXg4ZDy4i6U1F6DUqASfbu9LJXuhPPV9wGXiWA7CIwSF5fAbguxAAqaACwEN3TOpyAHbGGYURAADxUQA2TwF8lQpgZzkAa54CwJIQQDbr3KMLAVD3JAAYggVAEg1AnBTAIzQAeeYCyDG3V3EAxZkknAOw2iPpgGwCQABALgGbVYArCQFsJAWAmm0AO80BYPW0F7OEo4ynygGd0/MVAIDwUYCaVQApBy4CACAdTA5mgJ7IM4AoB+ISAIADQABALgEpB6IciEvgB4DYBCIdkHRgmQlIEg2AFgBA8gzAZhWgZhUg8gxgFgAgEg2ghhWgOIDiWBQCECcFwAgAgPgoAJaEAK4kBBA+CnARAIBwUoADT8ksS0gmaBcyO+WQ6WWRDAKoZJgpJCPUCxmeccj4qkjmYxsAD80E+JVhgIIBghKAi7WWlZWVlT/nxIZww04Nt20YVQV+xqAKhASAA4D0gAAAAAD/BwAAAACIwfxXgcEAAIjBAAAIQgsEAQEBBFiJPzz/UzwFWOigs4EVAQJWQW4BAllIHgEC70EMAQLAQDMAAADJAAAA",
        "encoding": "base64",
        "path": [
         "scene_4FlhHglnItEVnKQZk49HURjB4",
         "drc"
        ]
       },
       {
        "data": "RFJBQ08CAgEBAAAAXLQBAbMBAAAtX9u2rWpLVVVVqVZLVVWValVLVVWpVlVLVZVqVVVLValWVVVLlWpVVVVLqQIKAQEQ/wL2XgL/AAEAAQABAAkDAAACAQICAwABAQQBAQAMF70JGQIZEkkfGQK0F5BpXg4ZDy4i6U1F6DUqASfbu9LJXuhPPV9wGXiWA7CIwSF5fAbguxAAqaACwEN3TOpyAHbGGYURAADxUQA2TwF8lQpgZzkAa54CwJIQQDbr3KMLAVD3JAAYggVAEg1AnBTAIzQAeeYCyDG3V3EAxZkknAOw2iPpgGwCQABALgGbVYArCQFsJAWAmm0AO80BYPW0F7OEo4ynygGd0/MVAIDwUYCaVQApBy4CACAdTA5mgJ7IM4AoB+ISAIADQABALgEpB6IciEvgB4DYBCIdkHRgmQlIEg2AFgBA8gzAZhWgZhUg8gxgFgAgEg2ghhWgOIDiWBQCECcFwAgAgPgoAJaEAK4kBBA+CnARAIBwUoADT8ksS0gmaBcyO+WQ6WWRDAKoZJgpJCPUCxmeccj4qkjmYxsAD80E+JVhgIIBghKAi7WWlZWVlT/nxIZww04Nt20YVQV+xqAKhASAA4D0gAAAAAD/BwAAAACgwEYrmMAAAKDAAAAgQQsEAQEBBJEBiT88//83PAVk+u+vgRUBAlZBbgECWUgeAQLvQQwBAsBAAgAAALgAAAA=",
        "encoding": "base64",
        "path": [
         "scene_4GOqX1X8jOFmDQpW8hgwEMphE",
         "drc"
        ]
       },
       {
        "data": "RFJBQ08CAgEBAAAAXLQBAbMBAAAtX9u2rWpLVVVVqVZLVVWValVLVVWpVlVLVZVqVVVLValWVVVLlWpVVVVLqQIKAQEQ/wL2XgL/AAEAAQABAAkDAAACAQICAwABAQQBAQAMF70JGQIZEkkfGQK0F5BpXg4ZDy4i6U1F6DUqASfbu9LJXuhPPV9wGXiWA7CIwSF5fAbguxAAqaACwEN3TOpyAHbGGYURAADxUQA2TwF8lQpgZzkAa54CwJIQQDbr3KMLAVD3JAAYggVAEg1AnBTAIzQAeeYCyDG3V3EAxZkknAOw2iPpgGwCQABALgGbVYArCQFsJAWAmm0AO80BYPW0F7OEo4ynygGd0/MVAIDwUYCaVQApBy4CACAdTA5mgJ7IM4AoB+ISAIADQABALgEpB6IciEvgB4DYBCIdkHRgmQlIEg2AFgBA8gzAZhWgZhUg8gxgFgAgEg2ghhWgOIDiWBQCECcFwAgAgPgoAJaEAK4kBBA+CnARAIBwUoADT8ksS0gmaBcyO+WQ6WWRDAKoZJgpJCPUCxmeccj4qkjmYxsAD80E+JVhgIIBghKAi7WWlZWVlT/nxIZww04Nt20YVQV+xqAKhASAA4D0gAAAAAD/BwAAAAAwwc1iJ8EAADDBAACwQQsEAQEBBG6JPzz/qzwFWF3kv4EVAQJWQW4BAllIHgEC70EMAQLAQB8AAADBAAAA",
        "encoding": "base64",
        "path": [
         "scene_4sQH6r3w2xBYthzebT8snFpSh",
         "drc"
        ]
       },
       {
        "data": "RFJBQ08CAgEBAAAAXLQBAbMBAAAtX9u2rWpLVVVVqVZLVVWValVLVVWpVlVLVZVqVVVLValWVVVLlWpVVVVLqQIKAQEQ/wL2XgL/AAEAAQABAAkDAAACAQICAwABAQQBAQAMF70JGQIZEkkfGQK0F5BpXg4ZDy4i6U1F6DUqASfbu9LJXuhPPV9wGXiWA7CIwSF5fAbguxAAqaACwEN3TOpyAHbGGYURAADxUQA2TwF8lQpgZzkAa54CwJIQQDbr3KMLAVD3JAAYggVAEg1AnBTAIzQAeeYCyDG3V3EAxZkknAOw2iPpgGwCQABALgGbVYArCQFsJAWAmm0AO80BYPW0F7OEo4ynygGd0/MVAIDwUYCaVQApBy4CACAdTA5mgJ7IM4AoB+ISAIADQABALgEpB6IciEvgB4DYBCIdkHRgmQlIEg2AFgBA8gzAZhWgZhUg8gxgFgAgEg2ghhWgOIDiWBQCECcFwAgAgPgoAJaEAK4kBBA+CnARAIBwUoADT8ksS0gmaBcyO+WQ6WWRDAKoZJgpJCPUCxmeccj4qkjmYxsAD80E+JVhgIIBghKAi7WWlZWVlT/nxIZww04Nt20YVQV+xqAKhASAA4D0gAAAAAD/BwAAAAAAwHF4878AAADAAACAQAsEAQEBBDWJPzzHPAVY6KCzgRUBAlZBbgECWUgeAQLvQQwBAsBAewAAANwAAAA=",
        "encoding": "base64",
        "path": [
         "scene_4w59KzFcvlw6UP0Dtyd5YKyNi",
         "drc"
        ]
       },
       {
        "data": "RFJBQ08CAgEBAAAAXLQBAbMBAAAtX9u2rWpLVVVVqVZLVVWValVLVVWpVlVLVZVqVVVLValWVVVLlWpVVVVLqQIKAQEQ/wL2XgL/AAEAAQABAAkDAAACAQICAwABAQQBAQAMF70JGQIZEkkfGQK0F5BpXg4ZDy4i6U1F6DUqASfbu9LJXuhPPV9wGXiWA7CIwSF5fAbguxAAqaACwEN3TOpyAHbGGYURAADxUQA2TwF8lQpgZzkAa54CwJIQQDbr3KMLAVD3JAAYggVAEg1AnBTAIzQAeeYCyDG3V3EAxZkknAOw2iPpgGwCQABALgGbVYArCQFsJAWAmm0AO80BYPW0F7OEo4ynygGd0/MVAIDwUYCaVQApBy4CACAdTA5mgJ7IM4AoB+ISAIADQABALgEpB6IciEvgB4DYBCIdkHRgmQlIEg2AFgBA8gzAZhWgZhUg8gxgFgAgEg2ghhWgOIDiWBQCECcFwAgAgPgoAJaEAK4kBBA+CnARAIBwUoADT8ksS0gmaBcyO+WQ6WWRDAKoZJgpJCPUCxmeccj4qkjmYxsAD80E+JVhgIIBghKAi7WWlZWVlT/nxIZww04Nt20YVQV+xqAKhASAA4D0gAAAAAD/BwAAAABAwFSaNsAAAEDAAADAQAsEAQEBBBaJPzxLPAVYTvO/gRUBAlZBbgECWUgeAQLvQQwBAsBABgAAAHwAAAA=",
        "encoding": "base64",
        "path": [
         "scene_5QXM2FIkEqhbw5N9UEzdb6GKa",
         "drc"
        ]
       },
       {
        "data": "RFJBQ08CAgEBAAAAXLQBAbMBAAAtX9u2rWpLVVVVqVZLVVWValVLVVWpVlVLVZVqVVVLValWVVVLlWpVVVVLqQIKAQEQ/wL2XgL/AAEAAQABAAkDAAACAQICAwABAQQBAQAMF70JGQIZEkkfGQK0F5BpXg4ZDy4i6U1F6DUqASfbu9LJXuhPPV9wGXiWA7CIwSF5fAbguxAAqaACwEN3TOpyAHbGGYURAADxUQA2TwF8lQpgZzkAa54CwJIQQDbr3KMLAVD3JAAYggVAEg1AnBTAIzQAeeYCyDG3V3EAxZkknAOw2iPpgGwCQABALgGbVYArCQFsJAWAmm0AO80BYPW0F7OEo4ynygGd0/MVAIDwUYCaVQApBy4CACAdTA5mgJ7IM4AoB+ISAIADQABALgEpB6IciEvgB4DYBCIdkHRgmQlIEg2AFgBA8gzAZhWgZhUg8gxgFgAgEg2ghhWgOIDiWBQCECcFwAgAgPgoAJaEAK4kBBA+CnARAIBwUoADT8ksS0gmaBcyO+WQ6WWRDAKoZJgpJCPUCxmeccj4qkjmYxsAD80E+JVhgIIBghKAi7WWlZWVlT/nxIZww04Nt20YVQV+xqAKhASAA4D0gAAAAAD/BwAAAABAwVSaNsEAAEDBAADAQQsEAQEBBAmJPzwXPAVYTvO/gRUBAlZBbgECWUgeAQLvQQwBAsBA1wAAAPcAAAA=",
        "encoding": "base64",
        "path": [
         "scene_5dGD61Co62SWnSy2clXvS8GAd",
         "drc"
        ]
       },
       {
        "data": "RFJBQ08CAgEBAAAAXLQBAbMBAAAtX9u2rWpLVVVVqVZLVVWValVLVVWpVlVLVZVqVVVLValWVVVLlWpVVVVLqQIKAQEQ/wL2XgL/AAEAAQABAAkDAAACAQICAwABAQQBAQAMF70JGQIZEkkfGQK0F5BpXg4ZDy4i6U1F6DUqASfbu9LJXuhPPV9wGXiWA7CIwSF5fAbguxAAqaACwEN3TOpyAHbGGYURAADxUQA2TwF8lQpgZzkAa54CwJIQQDbr3KMLAVD3JAAYggVAEg1AnBTAIzQAeeYCyDG3V3EAxZkknAOw2iPpgGwCQABALgGbVYArCQFsJAWAmm0AO80BYPW0F7OEo4ynygGd0/MVAIDwUYCaVQApBy4CACAdTA5mgJ7IM4AoB+ISAIADQABALgEpB6IciEvgB4DYBCIdkHRgmQlIEg2AFgBA8gzAZhWgZhUg8gxgFgAgEg2ghhWgOIDiWBQCECcFwAgAgPgoAJaEAK4kBBA+CnARAIBwUoADT8ksS0gmaBcyO+WQ6WWRDAKoZJgpJCPUCxmeccj4qkjmYxsAD80E+JVhgIIBghKAi7WWlZWVlT/nxIZww04Nt20YVQV+xqAKhASAA4D0gAAAAAD/BwAAAACAwHF4c8AAAIDAAAAAQQsEAQEBBB+JPzxvPAVY95GzgRUBAlZBbgECWUgeAQLvQQwBAsBAGAAAAPMAAAA=",
        "encoding": "base64",
        "path": [
         "scene_5fgwZ3AsMw8JF72Qlfqo6QXwK",
         "drc"
        ]
       },
       {
        "data": "RFJBQ08CAgEBAAAAXLQBAbMBAAAtX9u2rWpLVVVVqVZLVVWValVLVVWpVlVLVZVqVVVLValWVVVLlWpVVVVLqQIKAQEQ/wL2XgL/AAEAAQABAAkDAAACAQICAwABAQQBAQAMF70JGQIZEkkfGQK0F5BpXg4ZDy4i6U1F6DUqASfbu9LJXuhPPV9wGXiWA7CIwSF5fAbguxAAT1kB0EN3TOpyAHbGGYURAADxUQA2TwF8lQpgZzkAa54CwJIQQDbr3KMLAVD3JAAYggVAEg1AnBTAIzQAO82NsdIdQHEAxclMzgGw+iPpgGwCQABALgGbVYArCQFsJAWAmm0AO80BUPW0F7OEo4ynygGd8/MVAIDwUYCaVQApBy4CACAdTA5mgJ/IM4AoB+ISAIAFQABALgEpB6IciEvgB4DYBCIdkHRgmclHEg2AFgBA8gzAZhWgZhUg8gxgFgAgEg2ghhWgOIDiWBQCECcFwAgAgPgoAJaEAK4kBBA+CnARAIBwUoADT8ksS0gmaBcyO+WQ6WWRDAKoZJgpJCPUCxmeccj4qkimvx8AD94DmOJGggGEEtR8RV4iJCQkCNeA4WSDIwVCaxhVBX7GoAqEBIADAPaAAAAAAP8HAAAAAFDB29FFwQAAUMEAANBBCwQBAQEEhgGJPzz//ws8BWT676+BFQECVkFuAQJZSB4BAu9BDAECwEBcAAAA6gAAAA==",
        "encoding": "base64",
        "path": [
         "scene_5mcDc7SQ55sMMjaRlqzIh0QPG",
         "drc"
        ]
       },
       {
        "data": "RFJBQ08CAgEBAAAAXLQBAbMBAAAtX9u2rWpLVVVVqVZLVVWValVLVVWpVlVLVZVqVVVLValWVVVLlWpVVVVLqQIKAQEQ/wL2XgL/AAEAAQABAAkDAAACAQICAwABAQQBAQAMF70JGQIZEkkfGQK0F5BpXg4ZDy4i6U1F6DUqASfbu9LJXuhPPV9wGXiWA7CIwSF5fAbguxAAqaACwEN3TOpyAHbGGYURAADxUQA2TwF8lQpgZzkAa54CwJIQQDbr3KMLAVD3JAAYggVAEg1AnBTAIzQAeeYCyDG3V3EAxZkknAOw2iPpgGwCQABALgGbVYArCQFsJAWAmm0AO80BYPW0F7OEo4ynygGd0/MVAIDwUYCaVQApBy4CACAdTA5mgJ7IM4AoB+ISAIADQABALgEpB6IciEvgB4DYBCIdkHRgmQlIEg2AFgBA8gzAZhWgZhUg8gxgFgAgEg2ghhWgOIDiWBQCECcFwAgAgPgoAJaEAK4kBBA+CnARAIBwUoADT8ksS0gmaBcyO+WQ6WWRDAKoZJgpJCPUCxmeccj4qkjmYxsAD80E+JVhgIIBghKAi7WWlZWVlT/nxIZww04Nt20YVQV+xqAKhASAA4D0gAAAAAD/BwAAAACgwEYrmMAAAKDAAAAgQQsEAQEBBHqJPzz/2zwFZPrvr4EVAQJWQW4BAllIHgEC70EMAQLAQAgAAADtAAAA",
        "encoding": "base64",
        "path": [
         "scene_5qF8KLv5sWQVXeO323zRQjngI",
         "drc"
        ]
       },
       {
        "data": "RFJBQ08CAgEBAAAAXLQBAbMBAAAtX9u2rWpLVVVVqVZLVVWValVLVVWpVlVLVZVqVVVLValWVVVLlWpVVVVLqQIKAQEQ/wL2XgL/AAEAAQABAAkDAAACAQICAwABAQQBAQAMF70JGQIZEkkfGQK0F5BpXg4ZDy4i6U1F6DUqASfbu9LJXuhPPV9wGXiWA7CIwSF5fAbguxAAqaACwEN3TOpyAHbGGYURAADxUQA2TwF8lQpgZzkAa54CwJIQQDbr3KMLAVD3JAAYggVAEg1AnBTAIzQAeeYCyDG3V3EAxZkknAOw2iPpgGwCQABALgGbVYArCQFsJAWAmm0AO80BYPW0F7OEo4ynygGd0/MVAIDwUYCaVQApBy4CACAdTA5mgJ7IM4AoB+ISAIADQABALgEpB6IciEvgB4DYBCIdkHRgmQlIEg2AFgBA8gzAZhWgZhUg8gxgFgAgEg2ghhWgOIDiWBQCECcFwAgAgPgoAJaEAK4kBBA+CnARAIBwUoADT8ksS0gmaBcyO+WQ6WWRDAKoZJgpJCPUCxmeccj4qkjmYxsAD80E+JVhgIIBghKAi7WWlZWVlT/nxIZww04Nt20YVQV+xqAKhASAA4D0gAAAAAD/BwAAAACAwHF4c8AAAIDAAAAAQQsEAQEBBDGJPzy3PAVk6/6vgRUBAlZBbgECWUgeAQLvQQwBAsBAGQAAANAAAAA=",
        "encoding": "base64",
        "path": [
         "scene_6Gxbg9NiX4LyqshXmmwXg753v",
         "drc"
        ]
       },
       {
        "data": "RFJBQ08CAgEBAAAAXLQBAbMBAAAtX9u2rWpLVVVVqVZLVVWValVLVVWpVlVLVZVqVVVLValWVVVLlWpVVVVLqQIKAQEQ/wL2XgL/AAEAAQABAAkDAAACAQICAwABAQQBAQAMF70JGQIZEkkfGQK0F5BpXg4ZDy4i6U1F6DUqASfbu9LJXuhPPV9wGXiWA7CIwSF5fAbguxAAqaACwEN3TOpyAHbGGYURAADxUQA2TwF8lQpgZzkAa54CwJIQQDbr3KMLAVD3JAAYggVAEg1AnBTAIzQAeeYCyDG3V3EAxZkknAOw2iPpgGwCQABALgGbVYArCQFsJAWAmm0AO80BYPW0F7OEo4ynygGd0/MVAIDwUYCaVQApBy4CACAdTA5mgJ7IM4AoB+ISAIADQABALgEpB6IciEvgB4DYBCIdkHRgmQlIEg2AFgBA8gzAZhWgZhUg8gxgFgAgEg2ghhWgOIDiWBQCECcFwAgAgPgoAJaEAK4kBBA+CnARAIBwUoADT8ksS0gmaBcyO+WQ6WWRDAKoZJgpJCPUCxmeccj4qkjmYxsAD80E+JVhgIIBghKAi7WWlZWVlT/nxIZww04Nt20YVQV+xqAKhASAA4D0gAAAAAD/BwAAAAAwwc1iJ8EAADDBAACwQQsEAQEBBKYBiT88//+LPAVk6/6vgRUBAlZBbgECWUgeAQLvQQwBAsBAJQAAAOoAAAA=",
        "encoding": "base64",
        "path": [
         "scene_6MgELodcon4DNK7clzQjP8T7p",
         "drc"
        ]
       },
       {
        "data": "RFJBQ08CAgEBAAAAXLQBAbMBAAAtX9u2rWpLVVVVqVZLVVWValVLVVWpVlVLVZVqVVVLValWVVVLlWpVVVVLqQIKAQEQ/wL2XgL/AAEAAQABAAkDAAACAQICAwABAQQBAQAMF70JGQIZEkkfGQK0F5BpXg4ZDy4i6U1F6DUqASfbu9LJXuhPPV9wGXiWA7CIwSF5fAbguxAAqaACwEN3TOpyAHbGGYURAADxUQA2TwF8lQpgZzkAa54CwJIQQDbr3KMLAVD3JAAYggVAEg1AnBTAIzQAeeYCyDG3V3EAxZkknAOw2iPpgGwCQABALgGbVYArCQFsJAWAmm0AO80BYPW0F7OEo4ynygGd0/MVAIDwUYCaVQApBy4CACAdTA5mgJ7IM4AoB+ISAIADQABALgEpB6IciEvgB4DYBCIdkHRgmQlIEg2AFgBA8gzAZhWgZhUg8gxgFgAgEg2ghhWgOIDiWBQCECcFwAgAgPgoAJaEAK4kBBA+CnARAIBwUoADT8ksS0gmaBcyO+WQ6WWRDAKoZJgpJCPUCxmeccj4qkjmYxsAD80E+JVhgIIBghKAi7WWlZWVlT/nxIZww04Nt20YVQV+xqAKhASAA4D0gAAAAAD/BwAAAACIwfxXgcEAAIjBAAAIQgsEAQEBBEyJPzz/IzwFWE7zv4EVAQJWQW4BAllIHgEC70EMAQLAQHsAAADdAAAA",
        "encoding": "base64",
        "path": [
         "scene_6Qc6ZNinekEcSAcqOx3t3d94n",
         "drc"
        ]
       },
       {
        "data": "RFJBQ08CAgEBAAAAXLQBAbMBAAAtX9u2rWpLVVVVqVZLVVWValVLVVWpVlVLVZVqVVVLValWVVVLlWpVVVVLqQIKAQEQ/wL2XgL/AAEAAQABAAkDAAACAQICAwABAQQBAQAMF70JGQIZEkkfGQK0F5BpXg4ZDy4i6U1F6DUqASfbu9LJXuhPPV9wGXiWA7CIwSF5fAbguxAAqaACwEN3TOpyAHbGGYURAADxUQA2TwF8lQpgZzkAa54CwJIQQDbr3KMLAVD3JAAYggVAEg1AnBTAIzQAeeYCyDG3V3EAxZkknAOw2iPpgGwCQABALgGbVYArCQFsJAWAmm0AO80BYPW0F7OEo4ynygGd0/MVAIDwUYCaVQApBy4CACAdTA5mgJ7IM4AoB+ISAIADQABALgEpB6IciEvgB4DYBCIdkHRgmQlIEg2AFgBA8gzAZhWgZhUg8gxgFgAgEg2ghhWgOIDiWBQCECcFwAgAgPgoAJaEAK4kBBA+CnARAIBwUoADT8ksS0gmaBcyO+WQ6WWRDAKoZJgpJCPUCxmeccj4qkjmYxsAD80E+JVhgIIBghKAi7WWlZWVlT/nxIZww04Nt20YVQV+xqAKhASAA4D0gAAAAAD/BwAAAADAwFSatsAAAMDAAABAQQsEAQEBBGqJPzz/mzwFWOigs4EVAQJWQW4BAllIHgEC70EMAQLAQFsAAADuAAAA",
        "encoding": "base64",
        "path": [
         "scene_6UCtCKjBngEuCcLGsLFGrqVkh",
         "drc"
        ]
       },
       {
        "data": "RFJBQ08CAgEBAAAAXLQBAbMBAAAtX9u2rWpLVVVVqVZLVVWValVLVVWpVlVLVZVqVVVLValWVVVLlWpVVVVLqQIKAQEQ/wL2XgL/AAEAAQABAAkDAAACAQICAwABAQQBAQAMF70JGQIZEkkfGQK0F5BpXg4ZDy4i6U1F6DUqASfbu9LJXuhPPV9wGXiWA7CIwSF5fAbguxAAqaACwEN3TOpyAHbGGYURAADxUQA2TwF8lQpgZzkAa54CwJIQQDbr3KMLAVD3JAAYggVAEg1AnBTAIzQAeeYCyDG3V3EAxZkknAOw2iPpgGwCQABALgGbVYArCQFsJAWAmm0AO80BYPW0F7OEo4ynygGd0/MVAIDwUYCaVQApBy4CACAdTA5mgJ7IM4AoB+ISAIADQABALgEpB6IciEvgB4DYBCIdkHRgmQlIEg2AFgBA8gzAZhWgZhUg8gxgFgAgEg2ghhWgOIDiWBQCECcFwAgAgPgoAJaEAK4kBBA+CnARAIBwUoADT8ksS0gmaBcyO+WQ6WWRDAKoZJgpJCPUCxmeccj4qkjmYxsAD80E+JVhgIIBghKAi7WWlZWVlT/nxIZww04Nt20YVQV+xqAKhASAA4D0gAAAAAD/BwAAAACYwYOPkMEAAJjBAAAYQgsEAQEBBBSJPzxDPAVYTvO/gRUBAlZBbgECWUgeAQLvQQwBAsBAAgAAAOMAAAA=",
        "encoding": "base64",
        "path": [
         "scene_6keT0UC9ji3et6TurTAnYlMA7",
         "drc"
        ]
       },
       {
        "data": "RFJBQ08CAgEBAAAAXLQBAbMBAAAtX9u2rWpLVVVVqVZLVVWValVLVVWpVlVLVZVqVVVLValWVVVLlWpVVVVLqQIKAQEQ/wL2XgL/AAEAAQABAAkDAAACAQICAwABAQQBAQAMF70JGQIZEkkfGQK0F5BpXg4ZDy4i6U1F6DUqASfbu9LJXuhPPV9wGXiWA7CIwSF5fAbguxAAqaACwEN3TOpyAHbGGYURAADxUQA2TwF8lQpgZzkAa54CwJIQQDbr3KMLAVD3JAAYggVAEg1AnBTAIzQAeeYCyDG3V3EAxZkknAOw2iPpgGwCQABALgGbVYArCQFsJAWAmm0AO80BYPW0F7OEo4ynygGd0/MVAIDwUYCaVQApBy4CACAdTA5mgJ7IM4AoB+ISAIADQABALgEpB6IciEvgB4DYBCIdkHRgmQlIEg2AFgBA8gzAZhWgZhUg8gxgFgAgEg2ghhWgOIDiWBQCECcFwAgAgPgoAJaEAK4kBBA+CnARAIBwUoADT8ksS0gmaBcyO+WQ6WWRDAKoZJgpJCPUCxmeccj4qkjmYxsAD80E+JVhgIIBghKAi7WWlZWVlT/nxIZww04Nt20YVQV+xqAKhASAA4D0gAAAAAD/BwAAAAAAwXF488AAAADBAACAQQsEAQEBBBiJPzxTPAVY6KCzgRUBAlZBbgECWUgeAQLvQQwBAsBACQAAAHEAAAA=",
        "encoding": "base64",
        "path": [
         "scene_6tYTNwNJODZVRZl5jsXriIZx3",
         "drc"
        ]
       },
       {
        "data": "RFJBQ08CAgEBAAAAXLQBAbMBAAAtX9u2rWpLVVVVqVZLVVWValVLVVWpVlVLVZVqVVVLValWVVVLlWpVVVVLqQIKAQEQ/wL2XgL/AAEAAQABAAkDAAACAQICAwABAQQBAQAMF70JGQIZEkkfGQK0F5BpXg4ZDy4i6U1F6DUqASfbu9LJXuhPPV9wGXiWA7CIwSF5fAbguxAAT1kB0EN3TOpyAHbGGYURAADxUQA2TwF8lQpgZzkAa54CwJIQQDbr3KMLAVD3JAAYggVAEg1AnBTAIzQAO82NsdIdQHEAxclMzgGw+iPpgGwCQABALgGbVYArCQFsJAWAmm0AO80BUPW0F7OEo4ynygGd8/MVAIDwUYCaVQApBy4CACAdTA5mgJ/IM4AoB+ISAIAFQABALgEpB6IciEvgB4DYBCIdkHRgmclHEg2AFgBA8gzAZhWgZhUg8gxgFgAgEg2ghhWgOIDiWBQCECcFwAgAgPgoAJaEAK4kBBA+CnARAIBwUoADT8ksS0gmaBcyO+WQ6WWRDAKoZJgpJCPUCxmeccj4qkimvx8AD94DmOJGggGEEtR8RV4iJCQkCNeA4WSDIwVCaxhVBX7GoAqEBIADAPaAAAAAAP8HAAAAAHDB6kBkwQAAcMEAAPBBCwQBAQEEEok/PDs8BVhO87+BFQECVkFuAQJZSB4BAu9BDAECwEA8AAAAWgAAAA==",
        "encoding": "base64",
        "path": [
         "scene_6tlcSYPXiS75XKKg24VVIUCaa",
         "drc"
        ]
       },
       {
        "data": "RFJBQ08CAgEBAAAAXLQBAbMBAAAtX9u2rWpLVVVVqVZLVVWValVLVVWpVlVLVZVqVVVLValWVVVLlWpVVVVLqQIKAQEQ/wL2XgL/AAEAAQABAAkDAAACAQICAwABAQQBAQAMF70JGQIZEkkfGQK0F5BpXg4ZDy4i6U1F6DUqASfbu9LJXuhPPV9wGXiWA7CIwSF5fAbguxAAqaACwEN3TOpyAHbGGYURAADxUQA2TwF8lQpgZzkAa54CwJIQQDbr3KMLAVD3JAAYggVAEg1AnBTAIzQAeeYCyDG3V3EAxZkknAOw2iPpgGwCQABALgGbVYArCQFsJAWAmm0AO80BYPW0F7OEo4ynygGd0/MVAIDwUYCaVQApBy4CACAdTA5mgJ7IM4AoB+ISAIADQABALgEpB6IciEvgB4DYBCIdkHRgmQlIEg2AFgBA8gzAZhWgZhUg8gxgFgAgEg2ghhWgOIDiWBQCECcFwAgAgPgoAJaEAK4kBBA+CnARAIBwUoADT8ksS0gmaBcyO+WQ6WWRDAKoZJgpJCPUCxmeccj4qkjmYxsAD80E+JVhgIIBghKAi7WWlZWVlT/nxIZww04Nt20YVQV+xqAKhASAA4D0gAAAAAD/BwAAAADAwFSatsAAAMDAAABAQQsEAQEBBCaJPzyLPAVY6KCzgRUBAlZBbgECWUgeAQLvQQwBAsBADgAAAHwAAAA=",
        "encoding": "base64",
        "path": [
         "scene_79ZAl5ja8IAceUiuWoDglbNwz",
         "drc"
        ]
       },
       {
        "data": "RFJBQ08CAgEBAAAAXLQBAbMBAAAtX9u2rWpLVVVVqVZLVVWValVLVVWpVlVLVZVqVVVLValWVVVLlWpVVVVLqQIKAQEQ/wL2XgL/AAEAAQABAAkDAAACAQICAwABAQQBAQAMF70JGQIZEkkfGQK0F5BpXg4ZDy4i6U1F6DUqASfbu9LJXuhPPV9wGXiWA7CIwSF5fAbguxAAqaACwEN3TOpyAHbGGYURAADxUQA2TwF8lQpgZzkAa54CwJIQQDbr3KMLAVD3JAAYggVAEg1AnBTAIzQAeeYCyDG3V3EAxZkknAOw2iPpgGwCQABALgGbVYArCQFsJAWAmm0AO80BYPW0F7OEo4ynygGd0/MVAIDwUYCaVQApBy4CACAdTA5mgJ7IM4AoB+ISAIADQABALgEpB6IciEvgB4DYBCIdkHRgmQlIEg2AFgBA8gzAZhWgZhUg8gxgFgAgEg2ghhWgOIDiWBQCECcFwAgAgPgoAJaEAK4kBBA+CnARAIBwUoADT8ksS0gmaBcyO+WQ6WWRDAKoZJgpJCPUCxmeccj4qkjmYxsAD80E+JVhgIIBghKAi7WWlZWVlT/nxIZww04Nt20YVQV+xqAKhASAA4D0gAAAAAD/BwAAAACAwXF4c8EAAIDBAAAAQgsEAQEBBCuJPzyfPAVYTvO/gRUBAlZBbgECWUgeAQLvQQwBAsBAjwAAAN8AAAA=",
        "encoding": "base64",
        "path": [
         "scene_7Aq1cYk35txGcMm9R0mke4bdp",
         "drc"
        ]
       },
       {
        "data": "RFJBQ08CAgEBAAAAXLQBAbMBAAAtX9u2rWpLVVVVqVZLVVWValVLVVWpVlVLVZVqVVVLValWVVVLlWpVVVVLqQIKAQEQ/wL2XgL/AAEAAQABAAkDAAACAQICAwABAQQBAQAMF70JGQIZEkkfGQK0F5BpXg4ZDy4i6U1F6DUqASfbu9LJXuhPPV9wGXiWA7CIwSF5fAbguxAAqaACwEN3TOpyAHbGGYURAADxUQA2TwF8lQpgZzkAa54CwJIQQDbr3KMLAVD3JAAYggVAEg1AnBTAIzQAeeYCyDG3V3EAxZkknAOw2iPpgGwCQABALgGbVYArCQFsJAWAmm0AO80BYPW0F7OEo4ynygGd0/MVAIDwUYCaVQApBy4CACAdTA5mgJ7IM4AoB+ISAIADQABALgEpB6IciEvgB4DYBCIdkHRgmQlIEg2AFgBA8gzAZhWgZhUg8gxgFgAgEg2ghhWgOIDiWBQCECcFwAgAgPgoAJaEAK4kBBA+CnARAIBwUoADT8ksS0gmaBcyO+WQ6WWRDAKoZJgpJCPUCxmeccj4qkjmYxsAD80E+JVhgIIBghKAi7WWlZWVlT/nxIZww04Nt20YVQV+xqAKhASAA4D0gAAAAAD/BwAAAACAv3F4c78AAIC/AAAAQAsEAQEBBDeJPzzPPAVYTvO/gRUBAlZBbgECWUgeAQLvQQwBAsBAdAAAAKoAAAA=",
        "encoding": "base64",
        "path": [
         "scene_7EsMDpjxBhDYkNDGjwRVy4MYl",
         "drc"
        ]
       },
       {
        "data": "RFJBQ08CAgEBAAAAXLQBAbMBAAAtX9u2rWpLVVVVqVZLVVWValVLVVWpVlVLVZVqVVVLValWVVVLlWpVVVVLqQIKAQEQ/wL2XgL/AAEAAQABAAkDAAACAQICAwABAQQBAQAMF70JGQIZEkkfGQK0F5BpXg4ZDy4i6U1F6DUqASfbu9LJXuhPPV9wGXiWA7CIwSF5fAbguxAAT1kB0EN3TOpyAHbGGYURAADxUQA2TwF8lQpgZzkAa54CwJIQQDbr3KMLAVD3JAAYggVAEg1AnBTAIzQAO82NsdIdQHEAxclMzgGw+iPpgGwCQABALgGbVYArCQFsJAWAmm0AO80BUPW0F7OEo4ynygGd8/MVAIDwUYCaVQApBy4CACAdTA5mgJ/IM4AoB+ISAIAFQABALgEpB6IciEvgB4DYBCIdkHRgmclHEg2AFgBA8gzAZhWgZhUg8gxgFgAgEg2ghhWgOIDiWBQCECcFwAgAgPgoAJaEAK4kBBA+CnARAIBwUoADT8ksS0gmaBcyO+WQ6WWRDAKoZJgpJCPUCxmeccj4qkimvx8AD94DmOJGggGEEtR8RV4iJCQkCNeA4WSDIwVCaxhVBX7GoAqEBIADAPaAAAAAAP8HAAAAAHDB6kBkwQAAcMEAAPBBCwQBAQEEVYk/PP9HPAVY95GzgRUBAlZBbgECWUgeAQLvQQwBAsBAVwAAALIAAAA=",
        "encoding": "base64",
        "path": [
         "scene_7Vs0zm7XTWiQr03Pg1KZyQFOc",
         "drc"
        ]
       },
       {
        "data": "RFJBQ08CAgEBAAAAXLQBAbMBAAAtX9u2rWpLVVVVqVZLVVWValVLVVWpVlVLVZVqVVVLValWVVVLlWpVVVVLqQIKAQEQ/wL2XgL/AAEAAQABAAkDAAACAQICAwABAQQBAQAMF70JGQIZEkkfGQK0F5BpXg4ZDy4i6U1F6DUqASfbu9LJXuhPPV9wGXiWA7CIwSF5fAbguxAAqaACwEN3TOpyAHbGGYURAADxUQA2TwF8lQpgZzkAa54CwJIQQDbr3KMLAVD3JAAYggVAEg1AnBTAIzQAeeYCyDG3V3EAxZkknAOw2iPpgGwCQABALgGbVYArCQFsJAWAmm0AO80BYPW0F7OEo4ynygGd0/MVAIDwUYCaVQApBy4CACAdTA5mgJ7IM4AoB+ISAIADQABALgEpB6IciEvgB4DYBCIdkHRgmQlIEg2AFgBA8gzAZhWgZhUg8gxgFgAgEg2ghhWgOIDiWBQCECcFwAgAgPgoAJaEAK4kBBA+CnARAIBwUoADT8ksS0gmaBcyO+WQ6WWRDAKoZJgpJCPUCxmeccj4qkjmYxsAD80E+JVhgIIBghKAi7WWlZWVlT/nxIZww04Nt20YVQV+xqAKhASAA4D0gAAAAAD/BwAAAABAwVSaNsEAAEDBAADAQQsEAQEBBEmJPzz/FzwFWPeRs4EVAQJWQW4BAllIHgEC70EMAQLAQJYAAADkAAAA",
        "encoding": "base64",
        "path": [
         "scene_7rAufcwPzlpBafnNnhMLHAkqB",
         "drc"
        ]
       },
       {
        "data": "RFJBQ08CAgEBAAAAXLQBAbMBAAAtX9u2rWpLVVVVqVZLVVWValVLVVWpVlVLVZVqVVVLValWVVVLlWpVVVVLqQIKAQEQ/wL2XgL/AAEAAQABAAkDAAACAQICAwABAQQBAQAMF70JGQIZEkkfGQK0F5BpXg4ZDy4i6U1F6DUqASfbu9LJXuhPPV9wGXiWA7CIwSF5fAbguxAAqaACwEN3TOpyAHbGGYURAADxUQA2TwF8lQpgZzkAa54CwJIQQDbr3KMLAVD3JAAYggVAEg1AnBTAIzQAeeYCyDG3V3EAxZkknAOw2iPpgGwCQABALgGbVYArCQFsJAWAmm0AO80BYPW0F7OEo4ynygGd0/MVAIDwUYCaVQApBy4CACAdTA5mgJ7IM4AoB+ISAIADQABALgEpB6IciEvgB4DYBCIdkHRgmQlIEg2AFgBA8gzAZhWgZhUg8gxgFgAgEg2ghhWgOIDiWBQCECcFwAgAgPgoAJaEAK4kBBA+CnARAIBwUoADT8ksS0gmaBcyO+WQ6WWRDAKoZJgpJCPUCxmeccj4qkjmYxsAD80E+JVhgIIBghKAi7WWlZWVlT/nxIZww04Nt20YVQV+xqAKhASAA4D0gAAAAAD/BwAAAACAwHF4c8AAAIDAAAAAQQsEAQEBBLABiT88//+zPAVk+u+vgRUBAlZBbgECWUgeAQLvQQwBAsBAIQAAAN8AAAA=",
        "encoding": "base64",
        "path": [
         "scene_7t5ffzQvizd35UC4RPvAHfpff",
         "drc"
        ]
       },
       {
        "data": "RFJBQ08CAgEBAAAAXLQBAbMBAAAtX9u2rWpLVVVVqVZLVVWValVLVVWpVlVLVZVqVVVLValWVVVLlWpVVVVLqQIKAQEQ/wL2XgL/AAEAAQABAAkDAAACAQICAwABAQQBAQAMF70JGQIZEkkfGQK0F5BpXg4ZDy4i6U1F6DUqASfbu9LJXuhPPV9wGXiWA7CIwSF5fAbguxAAqaACwEN3TOpyAHbGGYURAADxUQA2TwF8lQpgZzkAa54CwJIQQDbr3KMLAVD3JAAYggVAEg1AnBTAIzQAeeYCyDG3V3EAxZkknAOw2iPpgGwCQABALgGbVYArCQFsJAWAmm0AO80BYPW0F7OEo4ynygGd0/MVAIDwUYCaVQApBy4CACAdTA5mgJ7IM4AoB+ISAIADQABALgEpB6IciEvgB4DYBCIdkHRgmQlIEg2AFgBA8gzAZhWgZhUg8gxgFgAgEg2ghhWgOIDiWBQCECcFwAgAgPgoAJaEAK4kBBA+CnARAIBwUoADT8ksS0gmaBcyO+WQ6WWRDAKoZJgpJCPUCxmeccj4qkjmYxsAD80E+JVhgIIBghKAi7WWlZWVlT/nxIZww04Nt20YVQV+xqAKhASAA4D0gAAAAAD/BwAAAACAwXF4c8EAAIDBAAAAQgsEAQEBBCGJPzx3PAVk+u+vgRUBAlZBbgECWUgeAQLvQQwBAsBAKAAAAOYAAAA=",
        "encoding": "base64",
        "path": [
         "scene_8HGNteuqe2awiJlOcND7nGZVz",
         "drc"
        ]
       },
       {
        "data": "RFJBQ08CAgEBAAAAXLQBAbMBAAAtX9u2rWpLVVVVqVZLVVWValVLVVWpVlVLVZVqVVVLValWVVVLlWpVVVVLqQIKAQEQ/wL2XgL/AAEAAQABAAkDAAACAQICAwABAQQBAQAMF70JGQIZEkkfGQK0F5BpXg4ZDy4i6U1F6DUqASfbu9LJXuhPPV9wGXiWA7CIwSF5fAbguxAAqaACwEN3TOpyAHbGGYURAADxUQA2TwF8lQpgZzkAa54CwJIQQDbr3KMLAVD3JAAYggVAEg1AnBTAIzQAeeYCyDG3V3EAxZkknAOw2iPpgGwCQABALgGbVYArCQFsJAWAmm0AO80BYPW0F7OEo4ynygGd0/MVAIDwUYCaVQApBy4CACAdTA5mgJ7IM4AoB+ISAIADQABALgEpB6IciEvgB4DYBCIdkHRgmQlIEg2AFgBA8gzAZhWgZhUg8gxgFgAgEg2ghhWgOIDiWBQCECcFwAgAgPgoAJaEAK4kBBA+CnARAIBwUoADT8ksS0gmaBcyO+WQ6WWRDAKoZJgpJCPUCxmeccj4qkjmYxsAD80E+JVhgIIBghKAi7WWlZWVlT/nxIZww04Nt20YVQV+xqAKhASAA4D0gAAAAAD/BwAAAAAwwc1iJ8EAADDBAACwQQsEAQEBBAiJPzwTPAVYTvO/gRUBAlZBbgECWUgeAQLvQQwBAsBANQAAANEAAAA=",
        "encoding": "base64",
        "path": [
         "scene_8IWu10HovdatJx8BuRDsmoAum",
         "drc"
        ]
       },
       {
        "data": "RFJBQ08CAgEBAAAAXLQBAbMBAAAtX9u2rWpLVVVVqVZLVVWValVLVVWpVlVLVZVqVVVLValWVVVLlWpVVVVLqQIKAQEQ/wL2XgL/AAEAAQABAAkDAAACAQICAwABAQQBAQAMF70JGQIZEkkfGQK0F5BpXg4ZDy4i6U1F6DUqASfbu9LJXuhPPV9wGXiWA7CIwSF5fAbguxAAT1kB0EN3TOpyAHbGGYURAADxUQA2TwF8lQpgZzkAa54CwJIQQDbr3KMLAVD3JAAYggVAEg1AnBTAIzQAO82NsdIdQHEAxclMzgGw+iPpgGwCQABALgGbVYArCQFsJAWAmm0AO80BUPW0F7OEo4ynygGd8/MVAIDwUYCaVQApBy4CACAdTA5mgJ/IM4AoB+ISAIAFQABALgEpB6IciEvgB4DYBCIdkHRgmclHEg2AFgBA8gzAZhWgZhUg8gxgFgAgEg2ghhWgOIDiWBQCECcFwAgAgPgoAJaEAK4kBBA+CnARAIBwUoADT8ksS0gmaBcyO+WQ6WWRDAKoZJgpJCPUCxmeccj4qkimvx8AD94DmOJGggGEEtR8RV4iJCQkCNeA4WSDIwVCaxhVBX7GoAqEBIADAPaAAAAAAP8HAAAAAGDBYwlVwQAAYMEAAOBBCwQBAQEEI4k/PH88BVhd5L+BFQECVkFuAQJZSB4BAu9BDAECwEBuAAAAvAAAAA==",
        "encoding": "base64",
        "path": [
         "scene_8VKrGGlHOWBFcLCk33LeYYXfG",
         "drc"
        ]
       },
       {
        "data": "RFJBQ08CAgEBAAAAXLQBAbMBAAAtX9u2rWpLVVVVqVZLVVWValVLVVWpVlVLVZVqVVVLValWVVVLlWpVVVVLqQIKAQEQ/wL2XgL/AAEAAQABAAkDAAACAQICAwABAQQBAQAMF70JGQIZEkkfGQK0F5BpXg4ZDy4i6U1F6DUqASfbu9LJXuhPPV9wGXiWA7CIwSF5fAbguxAAqaACwEN3TOpyAHbGGYURAADxUQA2TwF8lQpgZzkAa54CwJIQQDbr3KMLAVD3JAAYggVAEg1AnBTAIzQAeeYCyDG3V3EAxZkknAOw2iPpgGwCQABALgGbVYArCQFsJAWAmm0AO80BYPW0F7OEo4ynygGd0/MVAIDwUYCaVQApBy4CACAdTA5mgJ7IM4AoB+ISAIADQABALgEpB6IciEvgB4DYBCIdkHRgmQlIEg2AFgBA8gzAZhWgZhUg8gxgFgAgEg2ghhWgOIDiWBQCECcFwAgAgPgoAJaEAK4kBBA+CnARAIBwUoADT8ksS0gmaBcyO+WQ6WWRDAKoZJgpJCPUCxmeccj4qkjmYxsAD80E+JVhgIIBghKAi7WWlZWVlT/nxIZww04Nt20YVQV+xqAKhASAA4D0gAAAAAD/BwAAAABAwVSaNsEAAEDBAADAQQsEAQEBBAmJPzwXPAVYXeS/gRUBAlZBbgECWUgeAQLvQQwBAsBARgAAAIQAAAA=",
        "encoding": "base64",
        "path": [
         "scene_95kSOQvoE8Rrh84SgXnYnbfzV",
         "drc"
        ]
       },
       {
        "data": "RFJBQ08CAgEBAAAAXLQBAbMBAAAtX9u2rWpLVVVVqVZLVVWValVLVVWpVlVLVZVqVVVLValWVVVLlWpVVVVLqQIKAQEQ/wL2XgL/AAEAAQABAAkDAAACAQICAwABAQQBAQAMF70JGQIZEkkfGQK0F5BpXg4ZDy4i6U1F6DUqASfbu9LJXuhPPV9wGXiWA7CIwSF5fAbguxAAqaACwEN3TOpyAHbGGYURAADxUQA2TwF8lQpgZzkAa54CwJIQQDbr3KMLAVD3JAAYggVAEg1AnBTAIzQAeeYCyDG3V3EAxZkknAOw2iPpgGwCQABALgGbVYArCQFsJAWAmm0AO80BYPW0F7OEo4ynygGd0/MVAIDwUYCaVQApBy4CACAdTA5mgJ7IM4AoB+ISAIADQABALgEpB6IciEvgB4DYBCIdkHRgmQlIEg2AFgBA8gzAZhWgZhUg8gxgFgAgEg2ghhWgOIDiWBQCECcFwAgAgPgoAJaEAK4kBBA+CnARAIBwUoADT8ksS0gmaBcyO+WQ6WWRDAKoZJgpJCPUCxmeccj4qkjmYxsAD80E+JVhgIIBghKAi7WWlZWVlT/nxIZww04Nt20YVQV+xqAKhASAA4D0gAAAAAD/BwAAAADAwFSatsAAAMDAAABAQQsEAQEBBAiJPzwTPAVk+u+vgRUBAlZBbgECWUgeAQLvQQwBAsBAfwAAAJUAAAA=",
        "encoding": "base64",
        "path": [
         "scene_9GbdYHxQK9TEHkiV84vvErW9u",
         "drc"
        ]
       },
       {
        "data": "RFJBQ08CAgEBAAAAXLQBAbMBAAAtX9u2rWpLVVVVqVZLVVWValVLVVWpVlVLVZVqVVVLValWVVVLlWpVVVVLqQIKAQEQ/wL2XgL/AAEAAQABAAkDAAACAQICAwABAQQBAQAMF70JGQIZEkkfGQK0F5BpXg4ZDy4i6U1F6DUqASfbu9LJXuhPPV9wGXiWA7CIwSF5fAbguxAAT1kB0EN3TOpyAHbGGYURAADxUQA2TwF8lQpgZzkAa54CwJIQQDbr3KMLAVD3JAAYggVAEg1AnBTAIzQAO82NsdIdQHEAxclMzgGw+iPpgGwCQABALgGbVYArCQFsJAWAmm0AO80BUPW0F7OEo4ynygGd8/MVAIDwUYCaVQApBy4CACAdTA5mgJ/IM4AoB+ISAIAFQABALgEpB6IciEvgB4DYBCIdkHRgmclHEg2AFgBA8gzAZhWgZhUg8gxgFgAgEg2ghhWgOIDiWBQCECcFwAgAgPgoAJaEAK4kBBA+CnARAIBwUoADT8ksS0gmaBcyO+WQ6WWRDAKoZJgpJCPUCxmeccj4qkimvx8AD94DmOJGggGEEtR8RV4iJCQkCNeA4WSDIwVCaxhVBX7GoAqEBIADAPaAAAAAAP8HAAAAAHDB6kBkwQAAcMEAAPBBCwQBAQEETYk/PP8nPAVYTvO/gRUBAlZBbgECWUgeAQLvQQwBAsBABQAAAI4AAAA=",
        "encoding": "base64",
        "path": [
         "scene_9IjCVzkm6ITkOr75HlrulLceh",
         "drc"
        ]
       },
       {
        "data": "RFJBQ08CAgEBAAAAXLQBAbMBAAAtX9u2rWpLVVVVqVZLVVWValVLVVWpVlVLVZVqVVVLValWVVVLlWpVVVVLqQIKAQEQ/wL2XgL/AAEAAQABAAkDAAACAQICAwABAQQBAQAMF70JGQIZEkkfGQK0F5BpXg4ZDy4i6U1F6DUqASfbu9LJXuhPPV9wGXiWA7CIwSF5fAbguxAAT1kB0EN3TOpyAHbGGYURAADxUQA2TwF8lQpgZzkAa54CwJIQQDbr3KMLAVD3JAAYggVAEg1AnBTAIzQAO82NsdIdQHEAxclMzgGw+iPpgGwCQABALgGbVYArCQFsJAWAmm0AO80BUPW0F7OEo4ynygGd8/MVAIDwUYCaVQApBy4CACAdTA5mgJ/IM4AoB+ISAIAFQABALgEpB6IciEvgB4DYBCIdkHRgmclHEg2AFgBA8gzAZhWgZhUg8gxgFgAgEg2ghhWgOIDiWBQCECcFwAgAgPgoAJaEAK4kBBA+CnARAIBwUoADT8ksS0gmaBcyO+WQ6WWRDAKoZJgpJCPUCxmeccj4qkimvx8AD94DmOJGggGEEtR8RV4iJCQkCNeA4WSDIwVCaxhVBX7GoAqEBIADAPaAAAAAAP8HAAAAAHDB6kBkwQAAcMEAAPBBCwQBAQEEFok/PEs8BWTr/q+BFQECVkFuAQJZSB4BAu9BDAECwEAwAAAAvwAAAA==",
        "encoding": "base64",
        "path": [
         "scene_9PgsU20rG22dF03g1znSSsFMh",
         "drc"
        ]
       },
       {
        "data": "RFJBQ08CAgEBAAAAXLQBAbMBAAAtX9u2rWpLVVVVqVZLVVWValVLVVWpVlVLVZVqVVVLValWVVVLlWpVVVVLqQIKAQEQ/wL2XgL/AAEAAQABAAkDAAACAQICAwABAQQBAQAMF70JGQIZEkkfGQK0F5BpXg4ZDy4i6U1F6DUqASfbu9LJXuhPPV9wGXiWA7CIwSF5fAbguxAAT1kB0EN3TOpyAHbGGYURAADxUQA2TwF8lQpgZzkAa54CwJIQQDbr3KMLAVD3JAAYggVAEg1AnBTAIzQAO82NsdIdQHEAxclMzgGw+iPpgGwCQABALgGbVYArCQFsJAWAmm0AO80BUPW0F7OEo4ynygGd8/MVAIDwUYCaVQApBy4CACAdTA5mgJ/IM4AoB+ISAIAFQABALgEpB6IciEvgB4DYBCIdkHRgmclHEg2AFgBA8gzAZhWgZhUg8gxgFgAgEg2ghhWgOIDiWBQCECcFwAgAgPgoAJaEAK4kBBA+CnARAIBwUoADT8ksS0gmaBcyO+WQ6WWRDAKoZJgpJCPUCxmeccj4qkimvx8AD94DmOJGggGEEtR8RV4iJCQkCNeA4WSDIwVCaxhVBX7GoAqEBIADAPaAAAAAAP8HAAAAAGDBYwlVwQAAYMEAAOBBCwQBAQEEMIk/PLM8BWTr/q+BFQECVkFuAQJZSB4BAu9BDAECwEBMAAAA0wAAAA==",
        "encoding": "base64",
        "path": [
         "scene_9iERpsWk0JC5zoIkibpH71u3c",
         "drc"
        ]
       },
       {
        "data": "RFJBQ08CAgEBAAAAXLQBAbMBAAAtX9u2rWpLVVVVqVZLVVWValVLVVWpVlVLVZVqVVVLValWVVVLlWpVVVVLqQIKAQEQ/wL2XgL/AAEAAQABAAkDAAACAQICAwABAQQBAQAMF70JGQIZEkkfGQK0F5BpXg4ZDy4i6U1F6DUqASfbu9LJXuhPPV9wGXiWA7CIwSF5fAbguxAAqaACwEN3TOpyAHbGGYURAADxUQA2TwF8lQpgZzkAa54CwJIQQDbr3KMLAVD3JAAYggVAEg1AnBTAIzQAeeYCyDG3V3EAxZkknAOw2iPpgGwCQABALgGbVYArCQFsJAWAmm0AO80BYPW0F7OEo4ynygGd0/MVAIDwUYCaVQApBy4CACAdTA5mgJ7IM4AoB+ISAIADQABALgEpB6IciEvgB4DYBCIdkHRgmQlIEg2AFgBA8gzAZhWgZhUg8gxgFgAgEg2ghhWgOIDiWBQCECcFwAgAgPgoAJaEAK4kBBA+CnARAIBwUoADT8ksS0gmaBcyO+WQ6WWRDAKoZJgpJCPUCxmeccj4qkjmYxsAD80E+JVhgIIBghKAi7WWlZWVlT/nxIZww04Nt20YVQV+xqAKhASAA4D0gAAAAAD/BwAAAABAwVSaNsEAAEDBAADAQQsEAQEBBDWJPzzHPAVYTvO/gRUBAlZBbgECWUgeAQLvQQwBAsBAhwAAAMkAAAA=",
        "encoding": "base64",
        "path": [
         "scene_9x6zzANRvpqMjbxBZjmcFo3xa",
         "drc"
        ]
       },
       {
        "data": "RFJBQ08CAgEBAAAAXLQBAbMBAAAtX9u2rWpLVVVVqVZLVVWValVLVVWpVlVLVZVqVVVLValWVVVLlWpVVVVLqQIKAQEQ/wL2XgL/AAEAAQABAAkDAAACAQICAwABAQQBAQAMF70JGQIZEkkfGQK0F5BpXg4ZDy4i6U1F6DUqASfbu9LJXuhPPV9wGXiWA7CIwSF5fAbguxAAqaACwEN3TOpyAHbGGYURAADxUQA2TwF8lQpgZzkAa54CwJIQQDbr3KMLAVD3JAAYggVAEg1AnBTAIzQAeeYCyDG3V3EAxZkknAOw2iPpgGwCQABALgGbVYArCQFsJAWAmm0AO80BYPW0F7OEo4ynygGd0/MVAIDwUYCaVQApBy4CACAdTA5mgJ7IM4AoB+ISAIADQABALgEpB6IciEvgB4DYBCIdkHRgmQlIEg2AFgBA8gzAZhWgZhUg8gxgFgAgEg2ghhWgOIDiWBQCECcFwAgAgPgoAJaEAK4kBBA+CnARAIBwUoADT8ksS0gmaBcyO+WQ6WWRDAKoZJgpJCPUCxmeccj4qkjmYxsAD80E+JVhgIIBghKAi7WWlZWVlT/nxIZww04Nt20YVQV+xqAKhASAA4D0gAAAAAD/BwAAAACYwYOPkMEAAJjBAAAYQgsEAQEBBC2JPzynPAVk6/6vgRUBAlZBbgECWUgeAQLvQQwBAsBAUAAAAMUAAAA=",
        "encoding": "base64",
        "path": [
         "scene_A1LVSDYGq2frgsMkrTDOU1cnn",
         "drc"
        ]
       },
       {
        "data": "RFJBQ08CAgEBAAAAXLQBAbMBAAAtX9u2rWpLVVVVqVZLVVWValVLVVWpVlVLVZVqVVVLValWVVVLlWpVVVVLqQIKAQEQ/wL2XgL/AAEAAQABAAkDAAACAQICAwABAQQBAQAMF70JGQIZEkkfGQK0F5BpXg4ZDy4i6U1F6DUqASfbu9LJXuhPPV9wGXiWA7CIwSF5fAbguxAAT1kB0EN3TOpyAHbGGYURAADxUQA2TwF8lQpgZzkAa54CwJIQQDbr3KMLAVD3JAAYggVAEg1AnBTAIzQAO82NsdIdQHEAxclMzgGw+iPpgGwCQABALgGbVYArCQFsJAWAmm0AO80BUPW0F7OEo4ynygGd8/MVAIDwUYCaVQApBy4CACAdTA5mgJ/IM4AoB+ISAIAFQABALgEpB6IciEvgB4DYBCIdkHRgmclHEg2AFgBA8gzAZhWgZhUg8gxgFgAgEg2ghhWgOIDiWBQCECcFwAgAgPgoAJaEAK4kBBA+CnARAIBwUoADT8ksS0gmaBcyO+WQ6WWRDAKoZJgpJCPUCxmeccj4qkimvx8AD94DmOJGggGEEtR8RV4iJCQkCNeA4WSDIwVCaxhVBX7GoAqEBIADAPaAAAAAAP8HAAAAAGDBYwlVwQAAYMEAAOBBCwQBAQEEO4k/PN88BWT676+BFQECVkFuAQJZSB4BAu9BDAECwEBjAAAA3gAAAA==",
        "encoding": "base64",
        "path": [
         "scene_AJEz3SRfolpoUw3nnNQ5Q2F4U",
         "drc"
        ]
       },
       {
        "data": "RFJBQ08CAgEBAAAAXLQBAbMBAAAtX9u2rWpLVVVVqVZLVVWValVLVVWpVlVLVZVqVVVLValWVVVLlWpVVVVLqQIKAQEQ/wL2XgL/AAEAAQABAAkDAAACAQICAwABAQQBAQAMF70JGQIZEkkfGQK0F5BpXg4ZDy4i6U1F6DUqASfbu9LJXuhPPV9wGXiWA7CIwSF5fAbguxAAqaACwEN3TOpyAHbGGYURAADxUQA2TwF8lQpgZzkAa54CwJIQQDbr3KMLAVD3JAAYggVAEg1AnBTAIzQAeeYCyDG3V3EAxZkknAOw2iPpgGwCQABALgGbVYArCQFsJAWAmm0AO80BYPW0F7OEo4ynygGd0/MVAIDwUYCaVQApBy4CACAdTA5mgJ7IM4AoB+ISAIADQABALgEpB6IciEvgB4DYBCIdkHRgmQlIEg2AFgBA8gzAZhWgZhUg8gxgFgAgEg2ghhWgOIDiWBQCECcFwAgAgPgoAJaEAK4kBBA+CnARAIBwUoADT8ksS0gmaBcyO+WQ6WWRDAKoZJgpJCPUCxmeccj4qkjmYxsAD80E+JVhgIIBghKAi7WWlZWVlT/nxIZww04Nt20YVQV+xqAKhASAA4D0gAAAAAD/BwAAAAAAwHF4878AAADAAACAQAsEAQEBBCeJPzyPPAVk+u+vgRUBAlZBbgECWUgeAQLvQQwBAsBAVQAAAOgAAAA=",
        "encoding": "base64",
        "path": [
         "scene_AJX5Lq2MecjvS5CLnqzp1d6SP",
         "drc"
        ]
       },
       {
        "data": "RFJBQ08CAgEBAAAAXLQBAbMBAAAtX9u2rWpLVVVVqVZLVVWValVLVVWpVlVLVZVqVVVLValWVVVLlWpVVVVLqQIKAQEQ/wL2XgL/AAEAAQABAAkDAAACAQICAwABAQQBAQAMF70JGQIZEkkfGQK0F5BpXg4ZDy4i6U1F6DUqASfbu9LJXuhPPV9wGXiWA7CIwSF5fAbguxAAqaACwEN3TOpyAHbGGYURAADxUQA2TwF8lQpgZzkAa54CwJIQQDbr3KMLAVD3JAAYggVAEg1AnBTAIzQAeeYCyDG3V3EAxZkknAOw2iPpgGwCQABALgGbVYArCQFsJAWAmm0AO80BYPW0F7OEo4ynygGd0/MVAIDwUYCaVQApBy4CACAdTA5mgJ7IM4AoB+ISAIADQABALgEpB6IciEvgB4DYBCIdkHRgmQlIEg2AFgBA8gzAZhWgZhUg8gxgFgAgEg2ghhWgOIDiWBQCECcFwAgAgPgoAJaEAK4kBBA+CnARAIBwUoADT8ksS0gmaBcyO+WQ6WWRDAKoZJgpJCPUCxmeccj4qkjmYxsAD80E+JVhgIIBghKAi7WWlZWVlT/nxIZww04Nt20YVQV+xqAKhASAA4D0gAAAAAD/BwAAAACgwEYrmMAAAKDAAAAgQQsEAQEBBAuJPzwfPAVY6KCzgRUBAlZBbgECWUgeAQLvQQwBAsBAOAAAAFMAAAA=",
        "encoding": "base64",
        "path": [
         "scene_AOdDXyWIe6U6qZAEq2J52r3cr",
         "drc"
        ]
       },
       {
        "data": "RFJBQ08CAgEBAAAAXLQBAbMBAAAtX9u2rWpLVVVVqVZLVVWValVLVVWpVlVLVZVqVVVLValWVVVLlWpVVVVLqQIKAQEQ/wL2XgL/AAEAAQABAAkDAAACAQICAwABAQQBAQAMF70JGQIZEkkfGQK0F5BpXg4ZDy4i6U1F6DUqASfbu9LJXuhPPV9wGXiWA7CIwSF5fAbguxAAqaACwEN3TOpyAHbGGYURAADxUQA2TwF8lQpgZzkAa54CwJIQQDbr3KMLAVD3JAAYggVAEg1AnBTAIzQAeeYCyDG3V3EAxZkknAOw2iPpgGwCQABALgGbVYArCQFsJAWAmm0AO80BYPW0F7OEo4ynygGd0/MVAIDwUYCaVQApBy4CACAdTA5mgJ7IM4AoB+ISAIADQABALgEpB6IciEvgB4DYBCIdkHRgmQlIEg2AFgBA8gzAZhWgZhUg8gxgFgAgEg2ghhWgOIDiWBQCECcFwAgAgPgoAJaEAK4kBBA+CnARAIBwUoADT8ksS0gmaBcyO+WQ6WWRDAKoZJgpJCPUCxmeccj4qkjmYxsAD80E+JVhgIIBghKAi7WWlZWVlT/nxIZww04Nt20YVQV+xqAKhASAA4D0gAAAAAD/BwAAAAAAwXF488AAAADBAACAQQsEAQEBBCWJPzyHPAVk6/6vgRUBAlZBbgECWUgeAQLvQQwBAsBAIQAAAMUAAAA=",
        "encoding": "base64",
        "path": [
         "scene_Am4C2olp4RLKM6nIksRNHyTMg",
         "drc"
        ]
       },
       {
        "data": "RFJBQ08CAgEBAAAAXLQBAbMBAAAtX9u2rWpLVVVVqVZLVVWValVLVVWpVlVLVZVqVVVLValWVVVLlWpVVVVLqQIKAQEQ/wL2XgL/AAEAAQABAAkDAAACAQICAwABAQQBAQAMF70JGQIZEkkfGQK0F5BpXg4ZDy4i6U1F6DUqASfbu9LJXuhPPV9wGXiWA7CIwSF5fAbguxAAT1kB0EN3TOpyAHbGGYURAADxUQA2TwF8lQpgZzkAa54CwJIQQDbr3KMLAVD3JAAYggVAEg1AnBTAIzQAO82NsdIdQHEAxclMzgGw+iPpgGwCQABALgGbVYArCQFsJAWAmm0AO80BUPW0F7OEo4ynygGd8/MVAIDwUYCaVQApBy4CACAdTA5mgJ/IM4AoB+ISAIAFQABALgEpB6IciEvgB4DYBCIdkHRgmclHEg2AFgBA8gzAZhWgZhUg8gxgFgAgEg2ghhWgOIDiWBQCECcFwAgAgPgoAJaEAK4kBBA+CnARAIBwUoADT8ksS0gmaBcyO+WQ6WWRDAKoZJgpJCPUCxmeccj4qkimvx8AD94DmOJGggGEEtR8RV4iJCQkCNeA4WSDIwVCaxhVBX7GoAqEBIADAPaAAAAAAP8HAAAAAGDBYwlVwQAAYMEAAOBBCwQBAQEEnAGJPzz//2M8BWTr/q+BFQECVkFuAQJZSB4BAu9BDAECwEA6AAAA7QAAAA==",
        "encoding": "base64",
        "path": [
         "scene_B4wCSDhnAp8qhY43wDqr0nX16",
         "drc"
        ]
       },
       {
        "data": "RFJBQ08CAgEBAAAAXLQBAbMBAAAtX9u2rWpLVVVVqVZLVVWValVLVVWpVlVLVZVqVVVLValWVVVLlWpVVVVLqQIKAQEQ/wL2XgL/AAEAAQABAAkDAAACAQICAwABAQQBAQAMF70JGQIZEkkfGQK0F5BpXg4ZDy4i6U1F6DUqASfbu9LJXuhPPV9wGXiWA7CIwSF5fAbguxAAqaACwEN3TOpyAHbGGYURAADxUQA2TwF8lQpgZzkAa54CwJIQQDbr3KMLAVD3JAAYggVAEg1AnBTAIzQAeeYCyDG3V3EAxZkknAOw2iPpgGwCQABALgGbVYArCQFsJAWAmm0AO80BYPW0F7OEo4ynygGd0/MVAIDwUYCaVQApBy4CACAdTA5mgJ7IM4AoB+ISAIADQABALgEpB6IciEvgB4DYBCIdkHRgmQlIEg2AFgBA8gzAZhWgZhUg8gxgFgAgEg2ghhWgOIDiWBQCECcFwAgAgPgoAJaEAK4kBBA+CnARAIBwUoADT8ksS0gmaBcyO+WQ6WWRDAKoZJgpJCPUCxmeccj4qkjmYxsAD80E+JVhgIIBghKAi7WWlZWVlT/nxIZww04Nt20YVQV+xqAKhASAA4D0gAAAAAD/BwAAAAAQwb/zCMEAABDBAACQQQsEAQEBBEiJPzz/EzwFWF3kv4EVAQJWQW4BAllIHgEC70EMAQLAQBcAAABiAAAA",
        "encoding": "base64",
        "path": [
         "scene_BUT4ksv3nsZWgwjPS1glfl2QI",
         "drc"
        ]
       },
       {
        "data": "RFJBQ08CAgEBAAAAXLQBAbMBAAAtX9u2rWpLVVVVqVZLVVWValVLVVWpVlVLVZVqVVVLValWVVVLlWpVVVVLqQIKAQEQ/wL2XgL/AAEAAQABAAkDAAACAQICAwABAQQBAQAMF70JGQIZEkkfGQK0F5BpXg4ZDy4i6U1F6DUqASfbu9LJXuhPPV9wGXiWA7CIwSF5fAbguxAAT1kB0EN3TOpyAHbGGYURAADxUQA2TwF8lQpgZzkAa54CwJIQQDbr3KMLAVD3JAAYggVAEg1AnBTAIzQAO82NsdIdQHEAxclMzgGw+iPpgGwCQABALgGbVYArCQFsJAWAmm0AO80BUPW0F7OEo4ynygGd8/MVAIDwUYCaVQApBy4CACAdTA5mgJ/IM4AoB+ISAIAFQABALgEpB6IciEvgB4DYBCIdkHRgmclHEg2AFgBA8gzAZhWgZhUg8gxgFgAgEg2ghhWgOIDiWBQCECcFwAgAgPgoAJaEAK4kBBA+CnARAIBwUoADT8ksS0gmaBcyO+WQ6WWRDAKoZJgpJCPUCxmeccj4qkimvx8AD94DmOJGggGEEtR8RV4iJCQkCNeA4WSDIwVCaxhVBX7GoAqEBIADAPaAAAAAAP8HAAAAAHDB6kBkwQAAcMEAAPBBCwQBAQEEeok/PP/bPAVk+u+vgRUBAlZBbgECWUgeAQLvQQwBAsBAOwAAANkAAAA=",
        "encoding": "base64",
        "path": [
         "scene_BUfbPszl8AeIKtTUiJACCdBFa",
         "drc"
        ]
       },
       {
        "data": "RFJBQ08CAgEBAAAAXLQBAbMBAAAtX9u2rWpLVVVVqVZLVVWValVLVVWpVlVLVZVqVVVLValWVVVLlWpVVVVLqQIKAQEQ/wL2XgL/AAEAAQABAAkDAAACAQICAwABAQQBAQAMF70JGQIZEkkfGQK0F5BpXg4ZDy4i6U1F6DUqASfbu9LJXuhPPV9wGXiWA7CIwSF5fAbguxAAqaACwEN3TOpyAHbGGYURAADxUQA2TwF8lQpgZzkAa54CwJIQQDbr3KMLAVD3JAAYggVAEg1AnBTAIzQAeeYCyDG3V3EAxZkknAOw2iPpgGwCQABALgGbVYArCQFsJAWAmm0AO80BYPW0F7OEo4ynygGd0/MVAIDwUYCaVQApBy4CACAdTA5mgJ7IM4AoB+ISAIADQABALgEpB6IciEvgB4DYBCIdkHRgmQlIEg2AFgBA8gzAZhWgZhUg8gxgFgAgEg2ghhWgOIDiWBQCECcFwAgAgPgoAJaEAK4kBBA+CnARAIBwUoADT8ksS0gmaBcyO+WQ6WWRDAKoZJgpJCPUCxmeccj4qkjmYxsAD80E+JVhgIIBghKAi7WWlZWVlT/nxIZww04Nt20YVQV+xqAKhASAA4D0gAAAAAD/BwAAAACAwXF4c8EAAIDBAAAAQgsEAQEBBGmJPzz/lzwFWF3kv4EVAQJWQW4BAllIHgEC70EMAQLAQG0AAADWAAAA",
        "encoding": "base64",
        "path": [
         "scene_BdJ9rFjcQ9ssAVImGHdFIWaAv",
         "drc"
        ]
       },
       {
        "data": "RFJBQ08CAgEBAAAAXLQBAbMBAAAtX9u2rWpLVVVVqVZLVVWValVLVVWpVlVLVZVqVVVLValWVVVLlWpVVVVLqQIKAQEQ/wL2XgL/AAEAAQABAAkDAAACAQICAwABAQQBAQAMF70JGQIZEkkfGQK0F5BpXg4ZDy4i6U1F6DUqASfbu9LJXuhPPV9wGXiWA7CIwSF5fAbguxAAqaACwEN3TOpyAHbGGYURAADxUQA2TwF8lQpgZzkAa54CwJIQQDbr3KMLAVD3JAAYggVAEg1AnBTAIzQAeeYCyDG3V3EAxZkknAOw2iPpgGwCQABALgGbVYArCQFsJAWAmm0AO80BYPW0F7OEo4ynygGd0/MVAIDwUYCaVQApBy4CACAdTA5mgJ7IM4AoB+ISAIADQABALgEpB6IciEvgB4DYBCIdkHRgmQlIEg2AFgBA8gzAZhWgZhUg8gxgFgAgEg2ghhWgOIDiWBQCECcFwAgAgPgoAJaEAK4kBBA+CnARAIBwUoADT8ksS0gmaBcyO+WQ6WWRDAKoZJgpJCPUCxmeccj4qkjmYxsAD80E+JVhgIIBghKAi7WWlZWVlT/nxIZww04Nt20YVQV+xqAKhASAA4D0gAAAAAD/BwAAAACQwb/ziMEAAJDBAAAQQgsEAQEBBDOJPzy/PAVYTvO/gRUBAlZBbgECWUgeAQLvQQwBAsBAcwAAAMQAAAA=",
        "encoding": "base64",
        "path": [
         "scene_CFVNlR8QUXPnystUxNlNj92Se",
         "drc"
        ]
       },
       {
        "data": "RFJBQ08CAgEBAAAAXLQBAbMBAAAtX9u2rWpLVVVVqVZLVVWValVLVVWpVlVLVZVqVVVLValWVVVLlWpVVVVLqQIKAQEQ/wL2XgL/AAEAAQABAAkDAAACAQICAwABAQQBAQAMF70JGQIZEkkfGQK0F5BpXg4ZDy4i6U1F6DUqASfbu9LJXuhPPV9wGXiWA7CIwSF5fAbguxAAqaACwEN3TOpyAHbGGYURAADxUQA2TwF8lQpgZzkAa54CwJIQQDbr3KMLAVD3JAAYggVAEg1AnBTAIzQAeeYCyDG3V3EAxZkknAOw2iPpgGwCQABALgGbVYArCQFsJAWAmm0AO80BYPW0F7OEo4ynygGd0/MVAIDwUYCaVQApBy4CACAdTA5mgJ7IM4AoB+ISAIADQABALgEpB6IciEvgB4DYBCIdkHRgmQlIEg2AFgBA8gzAZhWgZhUg8gxgFgAgEg2ghhWgOIDiWBQCECcFwAgAgPgoAJaEAK4kBBA+CnARAIBwUoADT8ksS0gmaBcyO+WQ6WWRDAKoZJgpJCPUCxmeccj4qkjmYxsAD80E+JVhgIIBghKAi7WWlZWVlT/nxIZww04Nt20YVQV+xqAKhASAA4D0gAAAAAD/BwAAAADAwFSatsAAAMDAAABAQQsEAQEBBBWJPzxHPAVYTvO/gRUBAlZBbgECWUgeAQLvQQwBAsBApwAAAMYAAAA=",
        "encoding": "base64",
        "path": [
         "scene_CWkbhHTG1sD2uqtSQsqPWd11c",
         "drc"
        ]
       },
       {
        "data": "RFJBQ08CAgEBAAAAXLQBAbMBAAAtX9u2rWpLVVVVqVZLVVWValVLVVWpVlVLVZVqVVVLValWVVVLlWpVVVVLqQIKAQEQ/wL2XgL/AAEAAQABAAkDAAACAQICAwABAQQBAQAMF70JGQIZEkkfGQK0F5BpXg4ZDy4i6U1F6DUqASfbu9LJXuhPPV9wGXiWA7CIwSF5fAbguxAAqaACwEN3TOpyAHbGGYURAADxUQA2TwF8lQpgZzkAa54CwJIQQDbr3KMLAVD3JAAYggVAEg1AnBTAIzQAeeYCyDG3V3EAxZkknAOw2iPpgGwCQABALgGbVYArCQFsJAWAmm0AO80BYPW0F7OEo4ynygGd0/MVAIDwUYCaVQApBy4CACAdTA5mgJ7IM4AoB+ISAIADQABALgEpB6IciEvgB4DYBCIdkHRgmQlIEg2AFgBA8gzAZhWgZhUg8gxgFgAgEg2ghhWgOIDiWBQCECcFwAgAgPgoAJaEAK4kBBA+CnARAIBwUoADT8ksS0gmaBcyO+WQ6WWRDAKoZJgpJCPUCxmeccj4qkjmYxsAD80E+JVhgIIBghKAi7WWlZWVlT/nxIZww04Nt20YVQV+xqAKhASAA4D0gAAAAAD/BwAAAABAwVSaNsEAAEDBAADAQQsEAQEBBEGJPzz3PAVY95GzgRUBAlZBbgECWUgeAQLvQQwBAsBABAAAAMYAAAA=",
        "encoding": "base64",
        "path": [
         "scene_Cje2tizcBYQcsB2xlRjbVzXEL",
         "drc"
        ]
       },
       {
        "data": "RFJBQ08CAgEBAAAAXLQBAbMBAAAtX9u2rWpLVVVVqVZLVVWValVLVVWpVlVLVZVqVVVLValWVVVLlWpVVVVLqQIKAQEQ/wL2XgL/AAEAAQABAAkDAAACAQICAwABAQQBAQAMF70JGQIZEkkfGQK0F5BpXg4ZDy4i6U1F6DUqASfbu9LJXuhPPV9wGXiWA7CIwSF5fAbguxAAqaACwEN3TOpyAHbGGYURAADxUQA2TwF8lQpgZzkAa54CwJIQQDbr3KMLAVD3JAAYggVAEg1AnBTAIzQAeeYCyDG3V3EAxZkknAOw2iPpgGwCQABALgGbVYArCQFsJAWAmm0AO80BYPW0F7OEo4ynygGd0/MVAIDwUYCaVQApBy4CACAdTA5mgJ7IM4AoB+ISAIADQABALgEpB6IciEvgB4DYBCIdkHRgmQlIEg2AFgBA8gzAZhWgZhUg8gxgFgAgEg2ghhWgOIDiWBQCECcFwAgAgPgoAJaEAK4kBBA+CnARAIBwUoADT8ksS0gmaBcyO+WQ6WWRDAKoZJgpJCPUCxmeccj4qkjmYxsAD80E+JVhgIIBghKAi7WWlZWVlT/nxIZww04Nt20YVQV+xqAKhASAA4D0gAAAAAD/BwAAAACAv3F4c78AAIC/AAAAQAsEAQEBBGKJPzz/ezwFWE7zv4EVAQJWQW4BAllIHgEC70EMAQLAQF4AAADRAAAA",
        "encoding": "base64",
        "path": [
         "scene_CmTFBly9tHo26mVXmfzco2bnD",
         "drc"
        ]
       },
       {
        "data": "RFJBQ08CAgEBAAAAXLQBAbMBAAAtX9u2rWpLVVVVqVZLVVWValVLVVWpVlVLVZVqVVVLValWVVVLlWpVVVVLqQIKAQEQ/wL2XgL/AAEAAQABAAkDAAACAQICAwABAQQBAQAMF70JGQIZEkkfGQK0F5BpXg4ZDy4i6U1F6DUqASfbu9LJXuhPPV9wGXiWA7CIwSF5fAbguxAAqaACwEN3TOpyAHbGGYURAADxUQA2TwF8lQpgZzkAa54CwJIQQDbr3KMLAVD3JAAYggVAEg1AnBTAIzQAeeYCyDG3V3EAxZkknAOw2iPpgGwCQABALgGbVYArCQFsJAWAmm0AO80BYPW0F7OEo4ynygGd0/MVAIDwUYCaVQApBy4CACAdTA5mgJ7IM4AoB+ISAIADQABALgEpB6IciEvgB4DYBCIdkHRgmQlIEg2AFgBA8gzAZhWgZhUg8gxgFgAgEg2ghhWgOIDiWBQCECcFwAgAgPgoAJaEAK4kBBA+CnARAIBwUoADT8ksS0gmaBcyO+WQ6WWRDAKoZJgpJCPUCxmeccj4qkjmYxsAD80E+JVhgIIBghKAi7WWlZWVlT/nxIZww04Nt20YVQV+xqAKhASAA4D0gAAAAAD/BwAAAAAAwXF488AAAADBAACAQQsEAQEBBDSJPzzDPAVk+u+vgRUBAlZBbgECWUgeAQLvQQwBAsBAaAAAAOMAAAA=",
        "encoding": "base64",
        "path": [
         "scene_CsC3nHhbDWWBihQVW9zzncqnx",
         "drc"
        ]
       },
       {
        "data": "RFJBQ08CAgEBAAAAXLQBAbMBAAAtX9u2rWpLVVVVqVZLVVWValVLVVWpVlVLVZVqVVVLValWVVVLlWpVVVVLqQIKAQEQ/wL2XgL/AAEAAQABAAkDAAACAQICAwABAQQBAQAMF70JGQIZEkkfGQK0F5BpXg4ZDy4i6U1F6DUqASfbu9LJXuhPPV9wGXiWA7CIwSF5fAbguxAAqaACwEN3TOpyAHbGGYURAADxUQA2TwF8lQpgZzkAa54CwJIQQDbr3KMLAVD3JAAYggVAEg1AnBTAIzQAeeYCyDG3V3EAxZkknAOw2iPpgGwCQABALgGbVYArCQFsJAWAmm0AO80BYPW0F7OEo4ynygGd0/MVAIDwUYCaVQApBy4CACAdTA5mgJ7IM4AoB+ISAIADQABALgEpB6IciEvgB4DYBCIdkHRgmQlIEg2AFgBA8gzAZhWgZhUg8gxgFgAgEg2ghhWgOIDiWBQCECcFwAgAgPgoAJaEAK4kBBA+CnARAIBwUoADT8ksS0gmaBcyO+WQ6WWRDAKoZJgpJCPUCxmeccj4qkjmYxsAD80E+JVhgIIBghKAi7WWlZWVlT/nxIZww04Nt20YVQV+xqAKhASAA4D0gAAAAAD/BwAAAABAwFSaNsAAAEDAAADAQAsEAQEBBDWJPzzHPAVk6/6vgRUBAlZBbgECWUgeAQLvQQwBAsBAYQAAAMYAAAA=",
        "encoding": "base64",
        "path": [
         "scene_D2p1wV7ZFyCMHEKV2ysLVaSRb",
         "drc"
        ]
       },
       {
        "data": "RFJBQ08CAgEBAAAAXLQBAbMBAAAtX9u2rWpLVVVVqVZLVVWValVLVVWpVlVLVZVqVVVLValWVVVLlWpVVVVLqQIKAQEQ/wL2XgL/AAEAAQABAAkDAAACAQICAwABAQQBAQAMF70JGQIZEkkfGQK0F5BpXg4ZDy4i6U1F6DUqASfbu9LJXuhPPV9wGXiWA7CIwSF5fAbguxAAqaACwEN3TOpyAHbGGYURAADxUQA2TwF8lQpgZzkAa54CwJIQQDbr3KMLAVD3JAAYggVAEg1AnBTAIzQAeeYCyDG3V3EAxZkknAOw2iPpgGwCQABALgGbVYArCQFsJAWAmm0AO80BYPW0F7OEo4ynygGd0/MVAIDwUYCaVQApBy4CACAdTA5mgJ7IM4AoB+ISAIADQABALgEpB6IciEvgB4DYBCIdkHRgmQlIEg2AFgBA8gzAZhWgZhUg8gxgFgAgEg2ghhWgOIDiWBQCECcFwAgAgPgoAJaEAK4kBBA+CnARAIBwUoADT8ksS0gmaBcyO+WQ6WWRDAKoZJgpJCPUCxmeccj4qkjmYxsAD80E+JVhgIIBghKAi7WWlZWVlT/nxIZww04Nt20YVQV+xqAKhASAA4D0gAAAAAD/BwAAAACAwXF4c8EAAIDBAAAAQgsEAQEBBAiJPzwTPAVk+u+vgRUBAlZBbgECWUgeAQLvQQwBAsBAkwAAAN8AAAA=",
        "encoding": "base64",
        "path": [
         "scene_D8lFk6EWjwedHzVoOV1c1wrOw",
         "drc"
        ]
       },
       {
        "data": "RFJBQ08CAgEBAAAAXLQBAbMBAAAtX9u2rWpLVVVVqVZLVVWValVLVVWpVlVLVZVqVVVLValWVVVLlWpVVVVLqQIKAQEQ/wL2XgL/AAEAAQABAAkDAAACAQICAwABAQQBAQAMF70JGQIZEkkfGQK0F5BpXg4ZDy4i6U1F6DUqASfbu9LJXuhPPV9wGXiWA7CIwSF5fAbguxAAqaACwEN3TOpyAHbGGYURAADxUQA2TwF8lQpgZzkAa54CwJIQQDbr3KMLAVD3JAAYggVAEg1AnBTAIzQAeeYCyDG3V3EAxZkknAOw2iPpgGwCQABALgGbVYArCQFsJAWAmm0AO80BYPW0F7OEo4ynygGd0/MVAIDwUYCaVQApBy4CACAdTA5mgJ7IM4AoB+ISAIADQABALgEpB6IciEvgB4DYBCIdkHRgmQlIEg2AFgBA8gzAZhWgZhUg8gxgFgAgEg2ghhWgOIDiWBQCECcFwAgAgPgoAJaEAK4kBBA+CnARAIBwUoADT8ksS0gmaBcyO+WQ6WWRDAKoZJgpJCPUCxmeccj4qkjmYxsAD80E+JVhgIIBghKAi7WWlZWVlT/nxIZww04Nt20YVQV+xqAKhASAA4D0gAAAAAD/BwAAAACAwXF4c8EAAIDBAAAAQgsEAQEBBC6JPzyrPAVYXeS/gRUBAlZBbgECWUgeAQLvQQwBAsBAKQAAALgAAAA=",
        "encoding": "base64",
        "path": [
         "scene_DSaEBBfzDqv4CcDf78pKD6gDC",
         "drc"
        ]
       },
       {
        "data": "RFJBQ08CAgEBAAAAXLQBAbMBAAAtX9u2rWpLVVVVqVZLVVWValVLVVWpVlVLVZVqVVVLValWVVVLlWpVVVVLqQIKAQEQ/wL2XgL/AAEAAQABAAkDAAACAQICAwABAQQBAQAMF70JGQIZEkkfGQK0F5BpXg4ZDy4i6U1F6DUqASfbu9LJXuhPPV9wGXiWA7CIwSF5fAbguxAAT1kB0EN3TOpyAHbGGYURAADxUQA2TwF8lQpgZzkAa54CwJIQQDbr3KMLAVD3JAAYggVAEg1AnBTAIzQAO82NsdIdQHEAxclMzgGw+iPpgGwCQABALgGbVYArCQFsJAWAmm0AO80BUPW0F7OEo4ynygGd8/MVAIDwUYCaVQApBy4CACAdTA5mgJ/IM4AoB+ISAIAFQABALgEpB6IciEvgB4DYBCIdkHRgmclHEg2AFgBA8gzAZhWgZhUg8gxgFgAgEg2ghhWgOIDiWBQCECcFwAgAgPgoAJaEAK4kBBA+CnARAIBwUoADT8ksS0gmaBcyO+WQ6WWRDAKoZJgpJCPUCxmeccj4qkimvx8AD94DmOJGggGEEtR8RV4iJCQkCNeA4WSDIwVCaxhVBX7GoAqEBIADAPaAAAAAAP8HAAAAAODAYwnVwAAA4MAAAGBBCwQBAQEESok/PP8bPAVYXeS/gRUBAlZBbgECWUgeAQLvQQwBAsBAWwAAAL0AAAA=",
        "encoding": "base64",
        "path": [
         "scene_Eb2ktxLnf3gp14MAviUpmuCXx",
         "drc"
        ]
       },
       {
        "data": "RFJBQ08CAgEBAAAAXLQBAbMBAAAtX9u2rWpLVVVVqVZLVVWValVLVVWpVlVLVZVqVVVLValWVVVLlWpVVVVLqQIKAQEQ/wL2XgL/AAEAAQABAAkDAAACAQICAwABAQQBAQAMF70JGQIZEkkfGQK0F5BpXg4ZDy4i6U1F6DUqASfbu9LJXuhPPV9wGXiWA7CIwSF5fAbguxAAT1kB0EN3TOpyAHbGGYURAADxUQA2TwF8lQpgZzkAa54CwJIQQDbr3KMLAVD3JAAYggVAEg1AnBTAIzQAO82NsdIdQHEAxclMzgGw+iPpgGwCQABALgGbVYArCQFsJAWAmm0AO80BUPW0F7OEo4ynygGd8/MVAIDwUYCaVQApBy4CACAdTA5mgJ/IM4AoB+ISAIAFQABALgEpB6IciEvgB4DYBCIdkHRgmclHEg2AFgBA8gzAZhWgZhUg8gxgFgAgEg2ghhWgOIDiWBQCECcFwAgAgPgoAJaEAK4kBBA+CnARAIBwUoADT8ksS0gmaBcyO+WQ6WWRDAKoZJgpJCPUCxmeccj4qkimvx8AD94DmOJGggGEEtR8RV4iJCQkCNeA4WSDIwVCaxhVBX7GoAqEBIADAPaAAAAAAP8HAAAAAHDB6kBkwQAAcMEAAPBBCwQBAQEEMIk/PLM8BVjooLOBFQECVkFuAQJZSB4BAu9BDAECwEAKAAAAQgAAAA==",
        "encoding": "base64",
        "path": [
         "scene_FWuHFdsoBnv3GJnCig6VkOXWT",
         "drc"
        ]
       },
       {
        "data": "RFJBQ08CAgEBAAAAXLQBAbMBAAAtX9u2rWpLVVVVqVZLVVWValVLVVWpVlVLVZVqVVVLValWVVVLlWpVVVVLqQIKAQEQ/wL2XgL/AAEAAQABAAkDAAACAQICAwABAQQBAQAMF70JGQIZEkkfGQK0F5BpXg4ZDy4i6U1F6DUqASfbu9LJXuhPPV9wGXiWA7CIwSF5fAbguxAAqaACwEN3TOpyAHbGGYURAADxUQA2TwF8lQpgZzkAa54CwJIQQDbr3KMLAVD3JAAYggVAEg1AnBTAIzQAeeYCyDG3V3EAxZkknAOw2iPpgGwCQABALgGbVYArCQFsJAWAmm0AO80BYPW0F7OEo4ynygGd0/MVAIDwUYCaVQApBy4CACAdTA5mgJ7IM4AoB+ISAIADQABALgEpB6IciEvgB4DYBCIdkHRgmQlIEg2AFgBA8gzAZhWgZhUg8gxgFgAgEg2ghhWgOIDiWBQCECcFwAgAgPgoAJaEAK4kBBA+CnARAIBwUoADT8ksS0gmaBcyO+WQ6WWRDAKoZJgpJCPUCxmeccj4qkjmYxsAD80E+JVhgIIBghKAi7WWlZWVlT/nxIZww04Nt20YVQV+xqAKhASAA4D0gAAAAAD/BwAAAACQwb/ziMEAAJDBAAAQQgsEAQEBBGeJPzz/jzwFZPrvr4EVAQJWQW4BAllIHgEC70EMAQLAQDMAAADGAAAA",
        "encoding": "base64",
        "path": [
         "scene_FZjKaQf2i0qToEbqsv5eHI2lj",
         "drc"
        ]
       },
       {
        "data": "RFJBQ08CAgEBAAAAXLQBAbMBAAAtX9u2rWpLVVVVqVZLVVWValVLVVWpVlVLVZVqVVVLValWVVVLlWpVVVVLqQIKAQEQ/wL2XgL/AAEAAQABAAkDAAACAQICAwABAQQBAQAMF70JGQIZEkkfGQK0F5BpXg4ZDy4i6U1F6DUqASfbu9LJXuhPPV9wGXiWA7CIwSF5fAbguxAAqaACwEN3TOpyAHbGGYURAADxUQA2TwF8lQpgZzkAa54CwJIQQDbr3KMLAVD3JAAYggVAEg1AnBTAIzQAeeYCyDG3V3EAxZkknAOw2iPpgGwCQABALgGbVYArCQFsJAWAmm0AO80BYPW0F7OEo4ynygGd0/MVAIDwUYCaVQApBy4CACAdTA5mgJ7IM4AoB+ISAIADQABALgEpB6IciEvgB4DYBCIdkHRgmQlIEg2AFgBA8gzAZhWgZhUg8gxgFgAgEg2ghhWgOIDiWBQCECcFwAgAgPgoAJaEAK4kBBA+CnARAIBwUoADT8ksS0gmaBcyO+WQ6WWRDAKoZJgpJCPUCxmeccj4qkjmYxsAD80E+JVhgIIBghKAi7WWlZWVlT/nxIZww04Nt20YVQV+xqAKhASAA4D0gAAAAAD/BwAAAACAv3F4c78AAIC/AAAAQAsEAQEBBA2JPzwnPAVY95GzgRUBAlZBbgECWUgeAQLvQQwBAsBAGgAAAO8AAAA=",
        "encoding": "base64",
        "path": [
         "scene_GF5cM0k4sPtgqVh51ByjbG7tb",
         "drc"
        ]
       },
       {
        "data": "RFJBQ08CAgEBAAAAXLQBAbMBAAAtX9u2rWpLVVVVqVZLVVWValVLVVWpVlVLVZVqVVVLValWVVVLlWpVVVVLqQIKAQEQ/wL2XgL/AAEAAQABAAkDAAACAQICAwABAQQBAQAMF70JGQIZEkkfGQK0F5BpXg4ZDy4i6U1F6DUqASfbu9LJXuhPPV9wGXiWA7CIwSF5fAbguxAAT1kB0EN3TOpyAHbGGYURAADxUQA2TwF8lQpgZzkAa54CwJIQQDbr3KMLAVD3JAAYggVAEg1AnBTAIzQAO82NsdIdQHEAxclMzgGw+iPpgGwCQABALgGbVYArCQFsJAWAmm0AO80BUPW0F7OEo4ynygGd8/MVAIDwUYCaVQApBy4CACAdTA5mgJ/IM4AoB+ISAIAFQABALgEpB6IciEvgB4DYBCIdkHRgmclHEg2AFgBA8gzAZhWgZhUg8gxgFgAgEg2ghhWgOIDiWBQCECcFwAgAgPgoAJaEAK4kBBA+CnARAIBwUoADT8ksS0gmaBcyO+WQ6WWRDAKoZJgpJCPUCxmeccj4qkimvx8AD94DmOJGggGEEtR8RV4iJCQkCNeA4WSDIwVCaxhVBX7GoAqEBIADAPaAAAAAAP8HAAAAAGDBYwlVwQAAYMEAAOBBCwQBAQEEFIk/PEM8BVjooLOBFQECVkFuAQJZSB4BAu9BDAECwEAsAAAAeAAAAA==",
        "encoding": "base64",
        "path": [
         "scene_GKQXZPL6Ox9CFti9Xf0WPFlSY",
         "drc"
        ]
       },
       {
        "data": "RFJBQ08CAgEBAAAAXLQBAbMBAAAtX9u2rWpLVVVVqVZLVVWValVLVVWpVlVLVZVqVVVLValWVVVLlWpVVVVLqQIKAQEQ/wL2XgL/AAEAAQABAAkDAAACAQICAwABAQQBAQAMF70JGQIZEkkfGQK0F5BpXg4ZDy4i6U1F6DUqASfbu9LJXuhPPV9wGXiWA7CIwSF5fAbguxAAqaACwEN3TOpyAHbGGYURAADxUQA2TwF8lQpgZzkAa54CwJIQQDbr3KMLAVD3JAAYggVAEg1AnBTAIzQAeeYCyDG3V3EAxZkknAOw2iPpgGwCQABALgGbVYArCQFsJAWAmm0AO80BYPW0F7OEo4ynygGd0/MVAIDwUYCaVQApBy4CACAdTA5mgJ7IM4AoB+ISAIADQABALgEpB6IciEvgB4DYBCIdkHRgmQlIEg2AFgBA8gzAZhWgZhUg8gxgFgAgEg2ghhWgOIDiWBQCECcFwAgAgPgoAJaEAK4kBBA+CnARAIBwUoADT8ksS0gmaBcyO+WQ6WWRDAKoZJgpJCPUCxmeccj4qkjmYxsAD80E+JVhgIIBghKAi7WWlZWVlT/nxIZww04Nt20YVQV+xqAKhASAA4D0gAAAAAD/BwAAAAAQwb/zCMEAABDBAACQQQsEAQEBBBiJPzxTPAVY95GzgRUBAlZBbgECWUgeAQLvQQwBAsBABAAAAHEAAAA=",
        "encoding": "base64",
        "path": [
         "scene_HYUXdwLvygcerZj1guOGdiWHo",
         "drc"
        ]
       },
       {
        "data": "RFJBQ08CAgEBAAAAXLQBAbMBAAAtX9u2rWpLVVVVqVZLVVWValVLVVWpVlVLVZVqVVVLValWVVVLlWpVVVVLqQIKAQEQ/wL2XgL/AAEAAQABAAkDAAACAQICAwABAQQBAQAMF70JGQIZEkkfGQK0F5BpXg4ZDy4i6U1F6DUqASfbu9LJXuhPPV9wGXiWA7CIwSF5fAbguxAAqaACwEN3TOpyAHbGGYURAADxUQA2TwF8lQpgZzkAa54CwJIQQDbr3KMLAVD3JAAYggVAEg1AnBTAIzQAeeYCyDG3V3EAxZkknAOw2iPpgGwCQABALgGbVYArCQFsJAWAmm0AO80BYPW0F7OEo4ynygGd0/MVAIDwUYCaVQApBy4CACAdTA5mgJ7IM4AoB+ISAIADQABALgEpB6IciEvgB4DYBCIdkHRgmQlIEg2AFgBA8gzAZhWgZhUg8gxgFgAgEg2ghhWgOIDiWBQCECcFwAgAgPgoAJaEAK4kBBA+CnARAIBwUoADT8ksS0gmaBcyO+WQ6WWRDAKoZJgpJCPUCxmeccj4qkjmYxsAD80E+JVhgIIBghKAi7WWlZWVlT/nxIZww04Nt20YVQV+xqAKhASAA4D0gAAAAAD/BwAAAACAv3F4c78AAIC/AAAAQAsEAQEBBDGJPzy3PAVYTvO/gRUBAlZBbgECWUgeAQLvQQwBAsBAQwAAAJMAAAA=",
        "encoding": "base64",
        "path": [
         "scene_Hm0QRcuDwHO0ADf5YX0B7uyCT",
         "drc"
        ]
       },
       {
        "data": "RFJBQ08CAgEBAAAAXLQBAbMBAAAtX9u2rWpLVVVVqVZLVVWValVLVVWpVlVLVZVqVVVLValWVVVLlWpVVVVLqQIKAQEQ/wL2XgL/AAEAAQABAAkDAAACAQICAwABAQQBAQAMF70JGQIZEkkfGQK0F5BpXg4ZDy4i6U1F6DUqASfbu9LJXuhPPV9wGXiWA7CIwSF5fAbguxAAqaACwEN3TOpyAHbGGYURAADxUQA2TwF8lQpgZzkAa54CwJIQQDbr3KMLAVD3JAAYggVAEg1AnBTAIzQAeeYCyDG3V3EAxZkknAOw2iPpgGwCQABALgGbVYArCQFsJAWAmm0AO80BYPW0F7OEo4ynygGd0/MVAIDwUYCaVQApBy4CACAdTA5mgJ7IM4AoB+ISAIADQABALgEpB6IciEvgB4DYBCIdkHRgmQlIEg2AFgBA8gzAZhWgZhUg8gxgFgAgEg2ghhWgOIDiWBQCECcFwAgAgPgoAJaEAK4kBBA+CnARAIBwUoADT8ksS0gmaBcyO+WQ6WWRDAKoZJgpJCPUCxmeccj4qkjmYxsAD80E+JVhgIIBghKAi7WWlZWVlT/nxIZww04Nt20YVQV+xqAKhASAA4D0gAAAAAD/BwAAAACYwYOPkMEAAJjBAAAYQgsEAQEBBDWJPzzHPAVk6/6vgRUBAlZBbgECWUgeAQLvQQwBAsBAMAAAAMgAAAA=",
        "encoding": "base64",
        "path": [
         "scene_HpBeq63thADi9cW4VtYwxpifc",
         "drc"
        ]
       },
       {
        "data": "RFJBQ08CAgEBAAAAXLQBAbMBAAAtX9u2rWpLVVVVqVZLVVWValVLVVWpVlVLVZVqVVVLValWVVVLlWpVVVVLqQIKAQEQ/wL2XgL/AAEAAQABAAkDAAACAQICAwABAQQBAQAMF70JGQIZEkkfGQK0F5BpXg4ZDy4i6U1F6DUqASfbu9LJXuhPPV9wGXiWA7CIwSF5fAbguxAAqaACwEN3TOpyAHbGGYURAADxUQA2TwF8lQpgZzkAa54CwJIQQDbr3KMLAVD3JAAYggVAEg1AnBTAIzQAeeYCyDG3V3EAxZkknAOw2iPpgGwCQABALgGbVYArCQFsJAWAmm0AO80BYPW0F7OEo4ynygGd0/MVAIDwUYCaVQApBy4CACAdTA5mgJ7IM4AoB+ISAIADQABALgEpB6IciEvgB4DYBCIdkHRgmQlIEg2AFgBA8gzAZhWgZhUg8gxgFgAgEg2ghhWgOIDiWBQCECcFwAgAgPgoAJaEAK4kBBA+CnARAIBwUoADT8ksS0gmaBcyO+WQ6WWRDAKoZJgpJCPUCxmeccj4qkjmYxsAD80E+JVhgIIBghKAi7WWlZWVlT/nxIZww04Nt20YVQV+xqAKhASAA4D0gAAAAAD/BwAAAACYwYOPkMEAAJjBAAAYQgsEAQEBBGuJPzz/nzwFWOigs4EVAQJWQW4BAllIHgEC70EMAQLAQC8AAADZAAAA",
        "encoding": "base64",
        "path": [
         "scene_I0DRNhloHCKkuCgyYgAEMxqPT",
         "drc"
        ]
       },
       {
        "data": "RFJBQ08CAgEBAAAAXLQBAbMBAAAtX9u2rWpLVVVVqVZLVVWValVLVVWpVlVLVZVqVVVLValWVVVLlWpVVVVLqQIKAQEQ/wL2XgL/AAEAAQABAAkDAAACAQICAwABAQQBAQAMF70JGQIZEkkfGQK0F5BpXg4ZDy4i6U1F6DUqASfbu9LJXuhPPV9wGXiWA7CIwSF5fAbguxAAqaACwEN3TOpyAHbGGYURAADxUQA2TwF8lQpgZzkAa54CwJIQQDbr3KMLAVD3JAAYggVAEg1AnBTAIzQAeeYCyDG3V3EAxZkknAOw2iPpgGwCQABALgGbVYArCQFsJAWAmm0AO80BYPW0F7OEo4ynygGd0/MVAIDwUYCaVQApBy4CACAdTA5mgJ7IM4AoB+ISAIADQABALgEpB6IciEvgB4DYBCIdkHRgmQlIEg2AFgBA8gzAZhWgZhUg8gxgFgAgEg2ghhWgOIDiWBQCECcFwAgAgPgoAJaEAK4kBBA+CnARAIBwUoADT8ksS0gmaBcyO+WQ6WWRDAKoZJgpJCPUCxmeccj4qkjmYxsAD80E+JVhgIIBghKAi7WWlZWVlT/nxIZww04Nt20YVQV+xqAKhASAA4D0gAAAAAD/BwAAAAAQwb/zCMEAABDBAACQQQsEAQEBBDyJPzzjPAVk+u+vgRUBAlZBbgECWUgeAQLvQQwBAsBAAwAAAO4AAAA=",
        "encoding": "base64",
        "path": [
         "scene_IQLMp4Y8UXqoFth7Bx0pCEXpj",
         "drc"
        ]
       },
       {
        "data": "RFJBQ08CAgEBAAAAXLQBAbMBAAAtX9u2rWpLVVVVqVZLVVWValVLVVWpVlVLVZVqVVVLValWVVVLlWpVVVVLqQIKAQEQ/wL2XgL/AAEAAQABAAkDAAACAQICAwABAQQBAQAMF70JGQIZEkkfGQK0F5BpXg4ZDy4i6U1F6DUqASfbu9LJXuhPPV9wGXiWA7CIwSF5fAbguxAAqaACwEN3TOpyAHbGGYURAADxUQA2TwF8lQpgZzkAa54CwJIQQDbr3KMLAVD3JAAYggVAEg1AnBTAIzQAeeYCyDG3V3EAxZkknAOw2iPpgGwCQABALgGbVYArCQFsJAWAmm0AO80BYPW0F7OEo4ynygGd0/MVAIDwUYCaVQApBy4CACAdTA5mgJ7IM4AoB+ISAIADQABALgEpB6IciEvgB4DYBCIdkHRgmQlIEg2AFgBA8gzAZhWgZhUg8gxgFgAgEg2ghhWgOIDiWBQCECcFwAgAgPgoAJaEAK4kBBA+CnARAIBwUoADT8ksS0gmaBcyO+WQ6WWRDAKoZJgpJCPUCxmeccj4qkjmYxsAD80E+JVhgIIBghKAi7WWlZWVlT/nxIZww04Nt20YVQV+xqAKhASAA4D0gAAAAAD/BwAAAACAwXF4c8EAAIDBAAAAQgsEAQEBBCaJPzyLPAVYXeS/gRUBAlZBbgECWUgeAQLvQQwBAsBAawAAANoAAAA=",
        "encoding": "base64",
        "path": [
         "scene_IdQbHyznNJLSU6JWzlHlRMy5o",
         "drc"
        ]
       },
       {
        "data": "RFJBQ08CAgEBAAAAXLQBAbMBAAAtX9u2rWpLVVVVqVZLVVWValVLVVWpVlVLVZVqVVVLValWVVVLlWpVVVVLqQIKAQEQ/wL2XgL/AAEAAQABAAkDAAACAQICAwABAQQBAQAMF70JGQIZEkkfGQK0F5BpXg4ZDy4i6U1F6DUqASfbu9LJXuhPPV9wGXiWA7CIwSF5fAbguxAAT1kB0EN3TOpyAHbGGYURAADxUQA2TwF8lQpgZzkAa54CwJIQQDbr3KMLAVD3JAAYggVAEg1AnBTAIzQAO82NsdIdQHEAxclMzgGw+iPpgGwCQABALgGbVYArCQFsJAWAmm0AO80BUPW0F7OEo4ynygGd8/MVAIDwUYCaVQApBy4CACAdTA5mgJ/IM4AoB+ISAIAFQABALgEpB6IciEvgB4DYBCIdkHRgmclHEg2AFgBA8gzAZhWgZhUg8gxgFgAgEg2ghhWgOIDiWBQCECcFwAgAgPgoAJaEAK4kBBA+CnARAIBwUoADT8ksS0gmaBcyO+WQ6WWRDAKoZJgpJCPUCxmeccj4qkimvx8AD94DmOJGggGEEtR8RV4iJCQkCNeA4WSDIwVCaxhVBX7GoAqEBIADAPaAAAAAAP8HAAAAAHDB6kBkwQAAcMEAAPBBCwQBAQEEFIk/PEM8BVj3kbOBFQECVkFuAQJZSB4BAu9BDAECwEBGAAAA3AAAAA==",
        "encoding": "base64",
        "path": [
         "scene_IuibvW7mKqOLF9hZCxTpPc3TB",
         "drc"
        ]
       },
       {
        "data": "RFJBQ08CAgEBAAAAXLQBAbMBAAAtX9u2rWpLVVVVqVZLVVWValVLVVWpVlVLVZVqVVVLValWVVVLlWpVVVVLqQIKAQEQ/wL2XgL/AAEAAQABAAkDAAACAQICAwABAQQBAQAMF70JGQIZEkkfGQK0F5BpXg4ZDy4i6U1F6DUqASfbu9LJXuhPPV9wGXiWA7CIwSF5fAbguxAAT1kB0EN3TOpyAHbGGYURAADxUQA2TwF8lQpgZzkAa54CwJIQQDbr3KMLAVD3JAAYggVAEg1AnBTAIzQAO82NsdIdQHEAxclMzgGw+iPpgGwCQABALgGbVYArCQFsJAWAmm0AO80BUPW0F7OEo4ynygGd8/MVAIDwUYCaVQApBy4CACAdTA5mgJ/IM4AoB+ISAIAFQABALgEpB6IciEvgB4DYBCIdkHRgmclHEg2AFgBA8gzAZhWgZhUg8gxgFgAgEg2ghhWgOIDiWBQCECcFwAgAgPgoAJaEAK4kBBA+CnARAIBwUoADT8ksS0gmaBcyO+WQ6WWRDAKoZJgpJCPUCxmeccj4qkimvx8AD94DmOJGggGEEtR8RV4iJCQkCNeA4WSDIwVCaxhVBX7GoAqEBIADAPaAAAAAAP8HAAAAAHDB6kBkwQAAcMEAAPBBCwQBAQEEUIk/PP8zPAVY95GzgRUBAlZBbgECWUgeAQLvQQwBAsBAfAAAAOUAAAA=",
        "encoding": "base64",
        "path": [
         "scene_J9By3AR5LWIZxBidG4ou8alAd",
         "drc"
        ]
       },
       {
        "data": "RFJBQ08CAgEBAAAAXLQBAbMBAAAtX9u2rWpLVVVVqVZLVVWValVLVVWpVlVLVZVqVVVLValWVVVLlWpVVVVLqQIKAQEQ/wL2XgL/AAEAAQABAAkDAAACAQICAwABAQQBAQAMF70JGQIZEkkfGQK0F5BpXg4ZDy4i6U1F6DUqASfbu9LJXuhPPV9wGXiWA7CIwSF5fAbguxAAqaACwEN3TOpyAHbGGYURAADxUQA2TwF8lQpgZzkAa54CwJIQQDbr3KMLAVD3JAAYggVAEg1AnBTAIzQAeeYCyDG3V3EAxZkknAOw2iPpgGwCQABALgGbVYArCQFsJAWAmm0AO80BYPW0F7OEo4ynygGd0/MVAIDwUYCaVQApBy4CACAdTA5mgJ7IM4AoB+ISAIADQABALgEpB6IciEvgB4DYBCIdkHRgmQlIEg2AFgBA8gzAZhWgZhUg8gxgFgAgEg2ghhWgOIDiWBQCECcFwAgAgPgoAJaEAK4kBBA+CnARAIBwUoADT8ksS0gmaBcyO+WQ6WWRDAKoZJgpJCPUCxmeccj4qkjmYxsAD80E+JVhgIIBghKAi7WWlZWVlT/nxIZww04Nt20YVQV+xqAKhASAA4D0gAAAAAD/BwAAAACgwEYrmMAAAKDAAAAgQQsEAQEBBE2JPzz/JzwFZOv+r4EVAQJWQW4BAllIHgEC70EMAQLAQEcAAADFAAAA",
        "encoding": "base64",
        "path": [
         "scene_JTGZOkevgLkAeFPb2zBjWnE1n",
         "drc"
        ]
       },
       {
        "data": "RFJBQ08CAgEBAAAAXLQBAbMBAAAtX9u2rWpLVVVVqVZLVVWValVLVVWpVlVLVZVqVVVLValWVVVLlWpVVVVLqQIKAQEQ/wL2XgL/AAEAAQABAAkDAAACAQICAwABAQQBAQAMF70JGQIZEkkfGQK0F5BpXg4ZDy4i6U1F6DUqASfbu9LJXuhPPV9wGXiWA7CIwSF5fAbguxAAqaACwEN3TOpyAHbGGYURAADxUQA2TwF8lQpgZzkAa54CwJIQQDbr3KMLAVD3JAAYggVAEg1AnBTAIzQAeeYCyDG3V3EAxZkknAOw2iPpgGwCQABALgGbVYArCQFsJAWAmm0AO80BYPW0F7OEo4ynygGd0/MVAIDwUYCaVQApBy4CACAdTA5mgJ7IM4AoB+ISAIADQABALgEpB6IciEvgB4DYBCIdkHRgmQlIEg2AFgBA8gzAZhWgZhUg8gxgFgAgEg2ghhWgOIDiWBQCECcFwAgAgPgoAJaEAK4kBBA+CnARAIBwUoADT8ksS0gmaBcyO+WQ6WWRDAKoZJgpJCPUCxmeccj4qkjmYxsAD80E+JVhgIIBghKAi7WWlZWVlT/nxIZww04Nt20YVQV+xqAKhASAA4D0gAAAAAD/BwAAAABAwFSaNsAAAEDAAADAQAsEAQEBBIwBiT88//8jPAVk+u+vgRUBAlZBbgECWUgeAQLvQQwBAsBADAAAAMMAAAA=",
        "encoding": "base64",
        "path": [
         "scene_JXLtEkOG1sFNFfkPKsOackkDV",
         "drc"
        ]
       },
       {
        "data": "RFJBQ08CAgEBAAAAXLQBAbMBAAAtX9u2rWpLVVVVqVZLVVWValVLVVWpVlVLVZVqVVVLValWVVVLlWpVVVVLqQIKAQEQ/wL2XgL/AAEAAQABAAkDAAACAQICAwABAQQBAQAMF70JGQIZEkkfGQK0F5BpXg4ZDy4i6U1F6DUqASfbu9LJXuhPPV9wGXiWA7CIwSF5fAbguxAAqaACwEN3TOpyAHbGGYURAADxUQA2TwF8lQpgZzkAa54CwJIQQDbr3KMLAVD3JAAYggVAEg1AnBTAIzQAeeYCyDG3V3EAxZkknAOw2iPpgGwCQABALgGbVYArCQFsJAWAmm0AO80BYPW0F7OEo4ynygGd0/MVAIDwUYCaVQApBy4CACAdTA5mgJ7IM4AoB+ISAIADQABALgEpB6IciEvgB4DYBCIdkHRgmQlIEg2AFgBA8gzAZhWgZhUg8gxgFgAgEg2ghhWgOIDiWBQCECcFwAgAgPgoAJaEAK4kBBA+CnARAIBwUoADT8ksS0gmaBcyO+WQ6WWRDAKoZJgpJCPUCxmeccj4qkjmYxsAD80E+JVhgIIBghKAi7WWlZWVlT/nxIZww04Nt20YVQV+xqAKhASAA4D0gAAAAAD/BwAAAACAv3F4c78AAIC/AAAAQAsEAQEBBAKJP3gFWKrjT4AVAQJWQW4BAllIHgEC70EMAQLAQNkAAAD1AAAA",
        "encoding": "base64",
        "path": [
         "scene_KIZeKQELrh3TVS0XYDaGkwADB",
         "drc"
        ]
       },
       {
        "data": "RFJBQ08CAgEBAAAAXLQBAbMBAAAtX9u2rWpLVVVVqVZLVVWValVLVVWpVlVLVZVqVVVLValWVVVLlWpVVVVLqQIKAQEQ/wL2XgL/AAEAAQABAAkDAAACAQICAwABAQQBAQAMF70JGQIZEkkfGQK0F5BpXg4ZDy4i6U1F6DUqASfbu9LJXuhPPV9wGXiWA7CIwSF5fAbguxAAqaACwEN3TOpyAHbGGYURAADxUQA2TwF8lQpgZzkAa54CwJIQQDbr3KMLAVD3JAAYggVAEg1AnBTAIzQAeeYCyDG3V3EAxZkknAOw2iPpgGwCQABALgGbVYArCQFsJAWAmm0AO80BYPW0F7OEo4ynygGd0/MVAIDwUYCaVQApBy4CACAdTA5mgJ7IM4AoB+ISAIADQABALgEpB6IciEvgB4DYBCIdkHRgmQlIEg2AFgBA8gzAZhWgZhUg8gxgFgAgEg2ghhWgOIDiWBQCECcFwAgAgPgoAJaEAK4kBBA+CnARAIBwUoADT8ksS0gmaBcyO+WQ6WWRDAKoZJgpJCPUCxmeccj4qkjmYxsAD80E+JVhgIIBghKAi7WWlZWVlT/nxIZww04Nt20YVQV+xqAKhASAA4D0gAAAAAD/BwAAAAAQwb/zCMEAABDBAACQQQsEAQEBBBeJPzxPPAVY6KCzgRUBAlZBbgECWUgeAQLvQQwBAsBANQAAAMMAAAA=",
        "encoding": "base64",
        "path": [
         "scene_KUFZf9UyeacQJ3s8a5pQVX2Yx",
         "drc"
        ]
       },
       {
        "data": "RFJBQ08CAgEBAAAAXLQBAbMBAAAtX9u2rWpLVVVVqVZLVVWValVLVVWpVlVLVZVqVVVLValWVVVLlWpVVVVLqQIKAQEQ/wL2XgL/AAEAAQABAAkDAAACAQICAwABAQQBAQAMF70JGQIZEkkfGQK0F5BpXg4ZDy4i6U1F6DUqASfbu9LJXuhPPV9wGXiWA7CIwSF5fAbguxAAqaACwEN3TOpyAHbGGYURAADxUQA2TwF8lQpgZzkAa54CwJIQQDbr3KMLAVD3JAAYggVAEg1AnBTAIzQAeeYCyDG3V3EAxZkknAOw2iPpgGwCQABALgGbVYArCQFsJAWAmm0AO80BYPW0F7OEo4ynygGd0/MVAIDwUYCaVQApBy4CACAdTA5mgJ7IM4AoB+ISAIADQABALgEpB6IciEvgB4DYBCIdkHRgmQlIEg2AFgBA8gzAZhWgZhUg8gxgFgAgEg2ghhWgOIDiWBQCECcFwAgAgPgoAJaEAK4kBBA+CnARAIBwUoADT8ksS0gmaBcyO+WQ6WWRDAKoZJgpJCPUCxmeccj4qkjmYxsAD80E+JVhgIIBghKAi7WWlZWVlT/nxIZww04Nt20YVQV+xqAKhASAA4D0gAAAAAD/BwAAAACQwb/ziMEAAJDBAAAQQgsEAQEBBBSJPzxDPAVk+u+vgRUBAlZBbgECWUgeAQLvQQwBAsBAggAAAOAAAAA=",
        "encoding": "base64",
        "path": [
         "scene_KmhnAcwS0ql3Wd09a86rrR5gd",
         "drc"
        ]
       },
       {
        "data": "RFJBQ08CAgEBAAAAXLQBAbMBAAAtX9u2rWpLVVVVqVZLVVWValVLVVWpVlVLVZVqVVVLValWVVVLlWpVVVVLqQIKAQEQ/wL2XgL/AAEAAQABAAkDAAACAQICAwABAQQBAQAMF70JGQIZEkkfGQK0F5BpXg4ZDy4i6U1F6DUqASfbu9LJXuhPPV9wGXiWA7CIwSF5fAbguxAAT1kB0EN3TOpyAHbGGYURAADxUQA2TwF8lQpgZzkAa54CwJIQQDbr3KMLAVD3JAAYggVAEg1AnBTAIzQAO82NsdIdQHEAxclMzgGw+iPpgGwCQABALgGbVYArCQFsJAWAmm0AO80BUPW0F7OEo4ynygGd8/MVAIDwUYCaVQApBy4CACAdTA5mgJ/IM4AoB+ISAIAFQABALgEpB6IciEvgB4DYBCIdkHRgmclHEg2AFgBA8gzAZhWgZhUg8gxgFgAgEg2ghhWgOIDiWBQCECcFwAgAgPgoAJaEAK4kBBA+CnARAIBwUoADT8ksS0gmaBcyO+WQ6WWRDAKoZJgpJCPUCxmeccj4qkimvx8AD94DmOJGggGEEtR8RV4iJCQkCNeA4WSDIwVCaxhVBX7GoAqEBIADAPaAAAAAAP8HAAAAAGDBYwlVwQAAYMEAAOBBCwQBAQEEbok/PP+rPAVY95GzgRUBAlZBbgECWUgeAQLvQQwBAsBAUAAAAO8AAAA=",
        "encoding": "base64",
        "path": [
         "scene_LF1LxcbGiNCQNzncHaUJWJxRR",
         "drc"
        ]
       },
       {
        "data": "RFJBQ08CAgEBAAAAXLQBAbMBAAAtX9u2rWpLVVVVqVZLVVWValVLVVWpVlVLVZVqVVVLValWVVVLlWpVVVVLqQIKAQEQ/wL2XgL/AAEAAQABAAkDAAACAQICAwABAQQBAQAMF70JGQIZEkkfGQK0F5BpXg4ZDy4i6U1F6DUqASfbu9LJXuhPPV9wGXiWA7CIwSF5fAbguxAAqaACwEN3TOpyAHbGGYURAADxUQA2TwF8lQpgZzkAa54CwJIQQDbr3KMLAVD3JAAYggVAEg1AnBTAIzQAeeYCyDG3V3EAxZkknAOw2iPpgGwCQABALgGbVYArCQFsJAWAmm0AO80BYPW0F7OEo4ynygGd0/MVAIDwUYCaVQApBy4CACAdTA5mgJ7IM4AoB+ISAIADQABALgEpB6IciEvgB4DYBCIdkHRgmQlIEg2AFgBA8gzAZhWgZhUg8gxgFgAgEg2ghhWgOIDiWBQCECcFwAgAgPgoAJaEAK4kBBA+CnARAIBwUoADT8ksS0gmaBcyO+WQ6WWRDAKoZJgpJCPUCxmeccj4qkjmYxsAD80E+JVhgIIBghKAi7WWlZWVlT/nxIZww04Nt20YVQV+xqAKhASAA4D0gAAAAAD/BwAAAADAwFSatsAAAMDAAABAQQsEAQEBBDeJPzzPPAVYTvO/gRUBAlZBbgECWUgeAQLvQQwBAsBAGAAAAPQAAAA=",
        "encoding": "base64",
        "path": [
         "scene_LFNH89wtj3ewRqxxltyOC5pDB",
         "drc"
        ]
       },
       {
        "data": "RFJBQ08CAgEBAAAAXLQBAbMBAAAtX9u2rWpLVVVVqVZLVVWValVLVVWpVlVLVZVqVVVLValWVVVLlWpVVVVLqQIKAQEQ/wL2XgL/AAEAAQABAAkDAAACAQICAwABAQQBAQAMF70JGQIZEkkfGQK0F5BpXg4ZDy4i6U1F6DUqASfbu9LJXuhPPV9wGXiWA7CIwSF5fAbguxAAqaACwEN3TOpyAHbGGYURAADxUQA2TwF8lQpgZzkAa54CwJIQQDbr3KMLAVD3JAAYggVAEg1AnBTAIzQAeeYCyDG3V3EAxZkknAOw2iPpgGwCQABALgGbVYArCQFsJAWAmm0AO80BYPW0F7OEo4ynygGd0/MVAIDwUYCaVQApBy4CACAdTA5mgJ7IM4AoB+ISAIADQABALgEpB6IciEvgB4DYBCIdkHRgmQlIEg2AFgBA8gzAZhWgZhUg8gxgFgAgEg2ghhWgOIDiWBQCECcFwAgAgPgoAJaEAK4kBBA+CnARAIBwUoADT8ksS0gmaBcyO+WQ6WWRDAKoZJgpJCPUCxmeccj4qkjmYxsAD80E+JVhgIIBghKAi7WWlZWVlT/nxIZww04Nt20YVQV+xqAKhASAA4D0gAAAAAD/BwAAAAAAwHF4878AAADAAACAQAsEAQEBBHKJPzz/uzwFWPeRs4EVAQJWQW4BAllIHgEC70EMAQLAQBkAAAD7AAAA",
        "encoding": "base64",
        "path": [
         "scene_LaApY96ZDkBYFUJYZm9rSE6pz",
         "drc"
        ]
       },
       {
        "data": "RFJBQ08CAgEBAAAAXLQBAbMBAAAtX9u2rWpLVVVVqVZLVVWValVLVVWpVlVLVZVqVVVLValWVVVLlWpVVVVLqQIKAQEQ/wL2XgL/AAEAAQABAAkDAAACAQICAwABAQQBAQAMF70JGQIZEkkfGQK0F5BpXg4ZDy4i6U1F6DUqASfbu9LJXuhPPV9wGXiWA7CIwSF5fAbguxAAqaACwEN3TOpyAHbGGYURAADxUQA2TwF8lQpgZzkAa54CwJIQQDbr3KMLAVD3JAAYggVAEg1AnBTAIzQAeeYCyDG3V3EAxZkknAOw2iPpgGwCQABALgGbVYArCQFsJAWAmm0AO80BYPW0F7OEo4ynygGd0/MVAIDwUYCaVQApBy4CACAdTA5mgJ7IM4AoB+ISAIADQABALgEpB6IciEvgB4DYBCIdkHRgmQlIEg2AFgBA8gzAZhWgZhUg8gxgFgAgEg2ghhWgOIDiWBQCECcFwAgAgPgoAJaEAK4kBBA+CnARAIBwUoADT8ksS0gmaBcyO+WQ6WWRDAKoZJgpJCPUCxmeccj4qkjmYxsAD80E+JVhgIIBghKAi7WWlZWVlT/nxIZww04Nt20YVQV+xqAKhASAA4D0gAAAAAD/BwAAAACQwb/ziMEAAJDBAAAQQgsEAQEBBCOJPzx/PAVYXeS/gRUBAlZBbgECWUgeAQLvQQwBAsBALQAAAI0AAAA=",
        "encoding": "base64",
        "path": [
         "scene_LalSrBuRBSONJudA2QQSyeMbZ",
         "drc"
        ]
       },
       {
        "data": "RFJBQ08CAgEBAAAAXLQBAbMBAAAtX9u2rWpLVVVVqVZLVVWValVLVVWpVlVLVZVqVVVLValWVVVLlWpVVVVLqQIKAQEQ/wL2XgL/AAEAAQABAAkDAAACAQICAwABAQQBAQAMF70JGQIZEkkfGQK0F5BpXg4ZDy4i6U1F6DUqASfbu9LJXuhPPV9wGXiWA7CIwSF5fAbguxAAqaACwEN3TOpyAHbGGYURAADxUQA2TwF8lQpgZzkAa54CwJIQQDbr3KMLAVD3JAAYggVAEg1AnBTAIzQAeeYCyDG3V3EAxZkknAOw2iPpgGwCQABALgGbVYArCQFsJAWAmm0AO80BYPW0F7OEo4ynygGd0/MVAIDwUYCaVQApBy4CACAdTA5mgJ7IM4AoB+ISAIADQABALgEpB6IciEvgB4DYBCIdkHRgmQlIEg2AFgBA8gzAZhWgZhUg8gxgFgAgEg2ghhWgOIDiWBQCECcFwAgAgPgoAJaEAK4kBBA+CnARAIBwUoADT8ksS0gmaBcyO+WQ6WWRDAKoZJgpJCPUCxmeccj4qkjmYxsAD80E+JVhgIIBghKAi7WWlZWVlT/nxIZww04Nt20YVQV+xqAKhASAA4D0gAAAAAD/BwAAAAAgwUYrGMEAACDBAACgQQsEAQEBBGaJPzz/izwFWF3kv4EVAQJWQW4BAllIHgEC70EMAQLAQBUAAACmAAAA",
        "encoding": "base64",
        "path": [
         "scene_Ld9eG2J73WZDmAIEs2zO4EO0a",
         "drc"
        ]
       },
       {
        "data": "RFJBQ08CAgEBAAAAXLQBAbMBAAAtX9u2rWpLVVVVqVZLVVWValVLVVWpVlVLVZVqVVVLValWVVVLlWpVVVVLqQIKAQEQ/wL2XgL/AAEAAQABAAkDAAACAQICAwABAQQBAQAMF70JGQIZEkkfGQK0F5BpXg4ZDy4i6U1F6DUqASfbu9LJXuhPPV9wGXiWA7CIwSF5fAbguxAAqaACwEN3TOpyAHbGGYURAADxUQA2TwF8lQpgZzkAa54CwJIQQDbr3KMLAVD3JAAYggVAEg1AnBTAIzQAeeYCyDG3V3EAxZkknAOw2iPpgGwCQABALgGbVYArCQFsJAWAmm0AO80BYPW0F7OEo4ynygGd0/MVAIDwUYCaVQApBy4CACAdTA5mgJ7IM4AoB+ISAIADQABALgEpB6IciEvgB4DYBCIdkHRgmQlIEg2AFgBA8gzAZhWgZhUg8gxgFgAgEg2ghhWgOIDiWBQCECcFwAgAgPgoAJaEAK4kBBA+CnARAIBwUoADT8ksS0gmaBcyO+WQ6WWRDAKoZJgpJCPUCxmeccj4qkjmYxsAD80E+JVhgIIBghKAi7WWlZWVlT/nxIZww04Nt20YVQV+xqAKhASAA4D0gAAAAAD/BwAAAADAwFSatsAAAMDAAABAQQsEAQEBBIcBiT88//8PPAVY95GzgRUBAlZBbgECWUgeAQLvQQwBAsBAIwAAAMgAAAA=",
        "encoding": "base64",
        "path": [
         "scene_LtoALFRhkhx6lnfu8kc5SzwzK",
         "drc"
        ]
       },
       {
        "data": "RFJBQ08CAgEBAAAAXLQBAbMBAAAtX9u2rWpLVVVVqVZLVVWValVLVVWpVlVLVZVqVVVLValWVVVLlWpVVVVLqQIKAQEQ/wL2XgL/AAEAAQABAAkDAAACAQICAwABAQQBAQAMF70JGQIZEkkfGQK0F5BpXg4ZDy4i6U1F6DUqASfbu9LJXuhPPV9wGXiWA7CIwSF5fAbguxAAqaACwEN3TOpyAHbGGYURAADxUQA2TwF8lQpgZzkAa54CwJIQQDbr3KMLAVD3JAAYggVAEg1AnBTAIzQAeeYCyDG3V3EAxZkknAOw2iPpgGwCQABALgGbVYArCQFsJAWAmm0AO80BYPW0F7OEo4ynygGd0/MVAIDwUYCaVQApBy4CACAdTA5mgJ7IM4AoB+ISAIADQABALgEpB6IciEvgB4DYBCIdkHRgmQlIEg2AFgBA8gzAZhWgZhUg8gxgFgAgEg2ghhWgOIDiWBQCECcFwAgAgPgoAJaEAK4kBBA+CnARAIBwUoADT8ksS0gmaBcyO+WQ6WWRDAKoZJgpJCPUCxmeccj4qkjmYxsAD80E+JVhgIIBghKAi7WWlZWVlT/nxIZww04Nt20YVQV+xqAKhASAA4D0gAAAAAD/BwAAAACgwEYrmMAAAKDAAAAgQQsEAQEBBBmJPzxXPAVk6/6vgRUBAlZBbgECWUgeAQLvQQwBAsBAuwAAANkAAAA=",
        "encoding": "base64",
        "path": [
         "scene_MPzmNMq9HAnlcuyT7xznDs1fx",
         "drc"
        ]
       },
       {
        "data": "RFJBQ08CAgEBAAAAXLQBAbMBAAAtX9u2rWpLVVVVqVZLVVWValVLVVWpVlVLVZVqVVVLValWVVVLlWpVVVVLqQIKAQEQ/wL2XgL/AAEAAQABAAkDAAACAQICAwABAQQBAQAMF70JGQIZEkkfGQK0F5BpXg4ZDy4i6U1F6DUqASfbu9LJXuhPPV9wGXiWA7CIwSF5fAbguxAAqaACwEN3TOpyAHbGGYURAADxUQA2TwF8lQpgZzkAa54CwJIQQDbr3KMLAVD3JAAYggVAEg1AnBTAIzQAeeYCyDG3V3EAxZkknAOw2iPpgGwCQABALgGbVYArCQFsJAWAmm0AO80BYPW0F7OEo4ynygGd0/MVAIDwUYCaVQApBy4CACAdTA5mgJ7IM4AoB+ISAIADQABALgEpB6IciEvgB4DYBCIdkHRgmQlIEg2AFgBA8gzAZhWgZhUg8gxgFgAgEg2ghhWgOIDiWBQCECcFwAgAgPgoAJaEAK4kBBA+CnARAIBwUoADT8ksS0gmaBcyO+WQ6WWRDAKoZJgpJCPUCxmeccj4qkjmYxsAD80E+JVhgIIBghKAi7WWlZWVlT/nxIZww04Nt20YVQV+xqAKhASAA4D0gAAAAAD/BwAAAABAwFSaNsAAAEDAAADAQAsEAQEBBHCJPzz/szwFWPeRs4EVAQJWQW4BAllIHgEC70EMAQLAQAcAAACaAAAA",
        "encoding": "base64",
        "path": [
         "scene_MZuV6WIqSarSieHcQNOLh7u4r",
         "drc"
        ]
       },
       {
        "data": "RFJBQ08CAgEBAAAAXLQBAbMBAAAtX9u2rWpLVVVVqVZLVVWValVLVVWpVlVLVZVqVVVLValWVVVLlWpVVVVLqQIKAQEQ/wL2XgL/AAEAAQABAAkDAAACAQICAwABAQQBAQAMF70JGQIZEkkfGQK0F5BpXg4ZDy4i6U1F6DUqASfbu9LJXuhPPV9wGXiWA7CIwSF5fAbguxAAqaACwEN3TOpyAHbGGYURAADxUQA2TwF8lQpgZzkAa54CwJIQQDbr3KMLAVD3JAAYggVAEg1AnBTAIzQAeeYCyDG3V3EAxZkknAOw2iPpgGwCQABALgGbVYArCQFsJAWAmm0AO80BYPW0F7OEo4ynygGd0/MVAIDwUYCaVQApBy4CACAdTA5mgJ7IM4AoB+ISAIADQABALgEpB6IciEvgB4DYBCIdkHRgmQlIEg2AFgBA8gzAZhWgZhUg8gxgFgAgEg2ghhWgOIDiWBQCECcFwAgAgPgoAJaEAK4kBBA+CnARAIBwUoADT8ksS0gmaBcyO+WQ6WWRDAKoZJgpJCPUCxmeccj4qkjmYxsAD80E+JVhgIIBghKAi7WWlZWVlT/nxIZww04Nt20YVQV+xqAKhASAA4D0gAAAAAD/BwAAAACQwb/ziMEAAJDBAAAQQgsEAQEBBBaJPzxLPAVY6KCzgRUBAlZBbgECWUgeAQLvQQwBAsBATAAAAJAAAAA=",
        "encoding": "base64",
        "path": [
         "scene_McDJVX17WAnAfxnKshu3xo5ys",
         "drc"
        ]
       },
       {
        "data": "RFJBQ08CAgEBAAAAXLQBAbMBAAAtX9u2rWpLVVVVqVZLVVWValVLVVWpVlVLVZVqVVVLValWVVVLlWpVVVVLqQIKAQEQ/wL2XgL/AAEAAQABAAkDAAACAQICAwABAQQBAQAMF70JGQIZEkkfGQK0F5BpXg4ZDy4i6U1F6DUqASfbu9LJXuhPPV9wGXiWA7CIwSF5fAbguxAAqaACwEN3TOpyAHbGGYURAADxUQA2TwF8lQpgZzkAa54CwJIQQDbr3KMLAVD3JAAYggVAEg1AnBTAIzQAeeYCyDG3V3EAxZkknAOw2iPpgGwCQABALgGbVYArCQFsJAWAmm0AO80BYPW0F7OEo4ynygGd0/MVAIDwUYCaVQApBy4CACAdTA5mgJ7IM4AoB+ISAIADQABALgEpB6IciEvgB4DYBCIdkHRgmQlIEg2AFgBA8gzAZhWgZhUg8gxgFgAgEg2ghhWgOIDiWBQCECcFwAgAgPgoAJaEAK4kBBA+CnARAIBwUoADT8ksS0gmaBcyO+WQ6WWRDAKoZJgpJCPUCxmeccj4qkjmYxsAD80E+JVhgIIBghKAi7WWlZWVlT/nxIZww04Nt20YVQV+xqAKhASAA4D0gAAAAAD/BwAAAACAwHF4c8AAAIDAAAAAQQsEAQEBBAaJPzwLPAVYXeS/gRUBAlZBbgECWUgeAQLvQQwBAsBABQAAADkAAAA=",
        "encoding": "base64",
        "path": [
         "scene_MyYsKHpz09foUCyrKivQwpCuP",
         "drc"
        ]
       },
       {
        "data": "RFJBQ08CAgEBAAAAXLQBAbMBAAAtX9u2rWpLVVVVqVZLVVWValVLVVWpVlVLVZVqVVVLValWVVVLlWpVVVVLqQIKAQEQ/wL2XgL/AAEAAQABAAkDAAACAQICAwABAQQBAQAMF70JGQIZEkkfGQK0F5BpXg4ZDy4i6U1F6DUqASfbu9LJXuhPPV9wGXiWA7CIwSF5fAbguxAAqaACwEN3TOpyAHbGGYURAADxUQA2TwF8lQpgZzkAa54CwJIQQDbr3KMLAVD3JAAYggVAEg1AnBTAIzQAeeYCyDG3V3EAxZkknAOw2iPpgGwCQABALgGbVYArCQFsJAWAmm0AO80BYPW0F7OEo4ynygGd0/MVAIDwUYCaVQApBy4CACAdTA5mgJ7IM4AoB+ISAIADQABALgEpB6IciEvgB4DYBCIdkHRgmQlIEg2AFgBA8gzAZhWgZhUg8gxgFgAgEg2ghhWgOIDiWBQCECcFwAgAgPgoAJaEAK4kBBA+CnARAIBwUoADT8ksS0gmaBcyO+WQ6WWRDAKoZJgpJCPUCxmeccj4qkjmYxsAD80E+JVhgIIBghKAi7WWlZWVlT/nxIZww04Nt20YVQV+xqAKhASAA4D0gAAAAAD/BwAAAACIwfxXgcEAAIjBAAAIQgsEAQEBBA2JPzwnPAVk6/6vgRUBAlZBbgECWUgeAQLvQQwBAsBAKAAAAO0AAAA=",
        "encoding": "base64",
        "path": [
         "scene_NLUckRdkuzbL5Un7wB9swfTBn",
         "drc"
        ]
       },
       {
        "data": "RFJBQ08CAgEBAAAAXLQBAbMBAAAtX9u2rWpLVVVVqVZLVVWValVLVVWpVlVLVZVqVVVLValWVVVLlWpVVVVLqQIKAQEQ/wL2XgL/AAEAAQABAAkDAAACAQICAwABAQQBAQAMF70JGQIZEkkfGQK0F5BpXg4ZDy4i6U1F6DUqASfbu9LJXuhPPV9wGXiWA7CIwSF5fAbguxAAqaACwEN3TOpyAHbGGYURAADxUQA2TwF8lQpgZzkAa54CwJIQQDbr3KMLAVD3JAAYggVAEg1AnBTAIzQAeeYCyDG3V3EAxZkknAOw2iPpgGwCQABALgGbVYArCQFsJAWAmm0AO80BYPW0F7OEo4ynygGd0/MVAIDwUYCaVQApBy4CACAdTA5mgJ7IM4AoB+ISAIADQABALgEpB6IciEvgB4DYBCIdkHRgmQlIEg2AFgBA8gzAZhWgZhUg8gxgFgAgEg2ghhWgOIDiWBQCECcFwAgAgPgoAJaEAK4kBBA+CnARAIBwUoADT8ksS0gmaBcyO+WQ6WWRDAKoZJgpJCPUCxmeccj4qkjmYxsAD80E+JVhgIIBghKAi7WWlZWVlT/nxIZww04Nt20YVQV+xqAKhASAA4D0gAAAAAD/BwAAAACgwEYrmMAAAKDAAAAgQQsEAQEBBAuJPzwfPAVYXeS/gRUBAlZBbgECWUgeAQLvQQwBAsBAxgAAANgAAAA=",
        "encoding": "base64",
        "path": [
         "scene_NPdGZNN09akiC5rcKYepFezM5",
         "drc"
        ]
       },
       {
        "data": "RFJBQ08CAgEBAAAAXLQBAbMBAAAtX9u2rWpLVVVVqVZLVVWValVLVVWpVlVLVZVqVVVLValWVVVLlWpVVVVLqQIKAQEQ/wL2XgL/AAEAAQABAAkDAAACAQICAwABAQQBAQAMF70JGQIZEkkfGQK0F5BpXg4ZDy4i6U1F6DUqASfbu9LJXuhPPV9wGXiWA7CIwSF5fAbguxAAqaACwEN3TOpyAHbGGYURAADxUQA2TwF8lQpgZzkAa54CwJIQQDbr3KMLAVD3JAAYggVAEg1AnBTAIzQAeeYCyDG3V3EAxZkknAOw2iPpgGwCQABALgGbVYArCQFsJAWAmm0AO80BYPW0F7OEo4ynygGd0/MVAIDwUYCaVQApBy4CACAdTA5mgJ7IM4AoB+ISAIADQABALgEpB6IciEvgB4DYBCIdkHRgmQlIEg2AFgBA8gzAZhWgZhUg8gxgFgAgEg2ghhWgOIDiWBQCECcFwAgAgPgoAJaEAK4kBBA+CnARAIBwUoADT8ksS0gmaBcyO+WQ6WWRDAKoZJgpJCPUCxmeccj4qkjmYxsAD80E+JVhgIIBghKAi7WWlZWVlT/nxIZww04Nt20YVQV+xqAKhASAA4D0gAAAAAD/BwAAAACIwfxXgcEAAIjBAAAIQgsEAQEBBAmJPzwXPAVY6KCzgRUBAlZBbgECWUgeAQLvQQwBAsBAIAAAAOEAAAA=",
        "encoding": "base64",
        "path": [
         "scene_O0juXMCcyKRK8sOVpCQsQlfQb",
         "drc"
        ]
       },
       {
        "data": "RFJBQ08CAgEBAAAAXLQBAbMBAAAtX9u2rWpLVVVVqVZLVVWValVLVVWpVlVLVZVqVVVLValWVVVLlWpVVVVLqQIKAQEQ/wL2XgL/AAEAAQABAAkDAAACAQICAwABAQQBAQAMF70JGQIZEkkfGQK0F5BpXg4ZDy4i6U1F6DUqASfbu9LJXuhPPV9wGXiWA7CIwSF5fAbguxAAqaACwEN3TOpyAHbGGYURAADxUQA2TwF8lQpgZzkAa54CwJIQQDbr3KMLAVD3JAAYggVAEg1AnBTAIzQAeeYCyDG3V3EAxZkknAOw2iPpgGwCQABALgGbVYArCQFsJAWAmm0AO80BYPW0F7OEo4ynygGd0/MVAIDwUYCaVQApBy4CACAdTA5mgJ7IM4AoB+ISAIADQABALgEpB6IciEvgB4DYBCIdkHRgmQlIEg2AFgBA8gzAZhWgZhUg8gxgFgAgEg2ghhWgOIDiWBQCECcFwAgAgPgoAJaEAK4kBBA+CnARAIBwUoADT8ksS0gmaBcyO+WQ6WWRDAKoZJgpJCPUCxmeccj4qkjmYxsAD80E+JVhgIIBghKAi7WWlZWVlT/nxIZww04Nt20YVQV+xqAKhASAA4D0gAAAAAD/BwAAAABAwFSaNsAAAEDAAADAQAsEAQEBBKABiT88//9zPAVk6/6vgRUBAlZBbgECWUgeAQLvQQwBAsBAHAAAAOUAAAA=",
        "encoding": "base64",
        "path": [
         "scene_OEkHfhsShGORCxLf5VkKeq0ws",
         "drc"
        ]
       },
       {
        "data": "RFJBQ08CAgEBAAAAXLQBAbMBAAAtX9u2rWpLVVVVqVZLVVWValVLVVWpVlVLVZVqVVVLValWVVVLlWpVVVVLqQIKAQEQ/wL2XgL/AAEAAQABAAkDAAACAQICAwABAQQBAQAMF70JGQIZEkkfGQK0F5BpXg4ZDy4i6U1F6DUqASfbu9LJXuhPPV9wGXiWA7CIwSF5fAbguxAAT1kB0EN3TOpyAHbGGYURAADxUQA2TwF8lQpgZzkAa54CwJIQQDbr3KMLAVD3JAAYggVAEg1AnBTAIzQAO82NsdIdQHEAxclMzgGw+iPpgGwCQABALgGbVYArCQFsJAWAmm0AO80BUPW0F7OEo4ynygGd8/MVAIDwUYCaVQApBy4CACAdTA5mgJ/IM4AoB+ISAIAFQABALgEpB6IciEvgB4DYBCIdkHRgmclHEg2AFgBA8gzAZhWgZhUg8gxgFgAgEg2ghhWgOIDiWBQCECcFwAgAgPgoAJaEAK4kBBA+CnARAIBwUoADT8ksS0gmaBcyO+WQ6WWRDAKoZJgpJCPUCxmeccj4qkimvx8AD94DmOJGggGEEtR8RV4iJCQkCNeA4WSDIwVCaxhVBX7GoAqEBIADAPaAAAAAAP8HAAAAAHDB6kBkwQAAcMEAAPBBCwQBAQEEJ4k/PI88BVhO87+BFQECVkFuAQJZSB4BAu9BDAECwEBEAAAAywAAAA==",
        "encoding": "base64",
        "path": [
         "scene_OQoB4GKjLMOb1jrk967fXlCPF",
         "drc"
        ]
       },
       {
        "data": "RFJBQ08CAgEBAAAAXLQBAbMBAAAtX9u2rWpLVVVVqVZLVVWValVLVVWpVlVLVZVqVVVLValWVVVLlWpVVVVLqQIKAQEQ/wL2XgL/AAEAAQABAAkDAAACAQICAwABAQQBAQAMF70JGQIZEkkfGQK0F5BpXg4ZDy4i6U1F6DUqASfbu9LJXuhPPV9wGXiWA7CIwSF5fAbguxAAqaACwEN3TOpyAHbGGYURAADxUQA2TwF8lQpgZzkAa54CwJIQQDbr3KMLAVD3JAAYggVAEg1AnBTAIzQAeeYCyDG3V3EAxZkknAOw2iPpgGwCQABALgGbVYArCQFsJAWAmm0AO80BYPW0F7OEo4ynygGd0/MVAIDwUYCaVQApBy4CACAdTA5mgJ7IM4AoB+ISAIADQABALgEpB6IciEvgB4DYBCIdkHRgmQlIEg2AFgBA8gzAZhWgZhUg8gxgFgAgEg2ghhWgOIDiWBQCECcFwAgAgPgoAJaEAK4kBBA+CnARAIBwUoADT8ksS0gmaBcyO+WQ6WWRDAKoZJgpJCPUCxmeccj4qkjmYxsAD80E+JVhgIIBghKAi7WWlZWVlT/nxIZww04Nt20YVQV+xqAKhASAA4D0gAAAAAD/BwAAAAAwwc1iJ8EAADDBAACwQQsEAQEBBFGJPzz/NzwFWOigs4EVAQJWQW4BAllIHgEC70EMAQLAQA4AAADOAAAA",
        "encoding": "base64",
        "path": [
         "scene_PCCfKeaWkWEJXG8DxuWzcy6fZ",
         "drc"
        ]
       },
       {
        "data": "RFJBQ08CAgEBAAAAXLQBAbMBAAAtX9u2rWpLVVVVqVZLVVWValVLVVWpVlVLVZVqVVVLValWVVVLlWpVVVVLqQIKAQEQ/wL2XgL/AAEAAQABAAkDAAACAQICAwABAQQBAQAMF70JGQIZEkkfGQK0F5BpXg4ZDy4i6U1F6DUqASfbu9LJXuhPPV9wGXiWA7CIwSF5fAbguxAAqaACwEN3TOpyAHbGGYURAADxUQA2TwF8lQpgZzkAa54CwJIQQDbr3KMLAVD3JAAYggVAEg1AnBTAIzQAeeYCyDG3V3EAxZkknAOw2iPpgGwCQABALgGbVYArCQFsJAWAmm0AO80BYPW0F7OEo4ynygGd0/MVAIDwUYCaVQApBy4CACAdTA5mgJ7IM4AoB+ISAIADQABALgEpB6IciEvgB4DYBCIdkHRgmQlIEg2AFgBA8gzAZhWgZhUg8gxgFgAgEg2ghhWgOIDiWBQCECcFwAgAgPgoAJaEAK4kBBA+CnARAIBwUoADT8ksS0gmaBcyO+WQ6WWRDAKoZJgpJCPUCxmeccj4qkjmYxsAD80E+JVhgIIBghKAi7WWlZWVlT/nxIZww04Nt20YVQV+xqAKhASAA4D0gAAAAAD/BwAAAACAwXF4c8EAAIDBAAAAQgsEAQEBBAiJPzwTPAVY95GzgRUBAlZBbgECWUgeAQLvQQwBAsBAlQAAAMgAAAA=",
        "encoding": "base64",
        "path": [
         "scene_PFNgTxeeh1bUBvRFoEHOzgPQH",
         "drc"
        ]
       },
       {
        "data": "RFJBQ08CAgEBAAAAXLQBAbMBAAAtX9u2rWpLVVVVqVZLVVWValVLVVWpVlVLVZVqVVVLValWVVVLlWpVVVVLqQIKAQEQ/wL2XgL/AAEAAQABAAkDAAACAQICAwABAQQBAQAMF70JGQIZEkkfGQK0F5BpXg4ZDy4i6U1F6DUqASfbu9LJXuhPPV9wGXiWA7CIwSF5fAbguxAAqaACwEN3TOpyAHbGGYURAADxUQA2TwF8lQpgZzkAa54CwJIQQDbr3KMLAVD3JAAYggVAEg1AnBTAIzQAeeYCyDG3V3EAxZkknAOw2iPpgGwCQABALgGbVYArCQFsJAWAmm0AO80BYPW0F7OEo4ynygGd0/MVAIDwUYCaVQApBy4CACAdTA5mgJ7IM4AoB+ISAIADQABALgEpB6IciEvgB4DYBCIdkHRgmQlIEg2AFgBA8gzAZhWgZhUg8gxgFgAgEg2ghhWgOIDiWBQCECcFwAgAgPgoAJaEAK4kBBA+CnARAIBwUoADT8ksS0gmaBcyO+WQ6WWRDAKoZJgpJCPUCxmeccj4qkjmYxsAD80E+JVhgIIBghKAi7WWlZWVlT/nxIZww04Nt20YVQV+xqAKhASAA4D0gAAAAAD/BwAAAACgwEYrmMAAAKDAAAAgQQsEAQEBBCKJPzx7PAVYXeS/gRUBAlZBbgECWUgeAQLvQQwBAsBANgAAAH0AAAA=",
        "encoding": "base64",
        "path": [
         "scene_PM4Kf3ktaiwNB7OBgPaxB2gUJ",
         "drc"
        ]
       },
       {
        "data": "RFJBQ08CAgEBAAAAXLQBAbMBAAAtX9u2rWpLVVVVqVZLVVWValVLVVWpVlVLVZVqVVVLValWVVVLlWpVVVVLqQIKAQEQ/wL2XgL/AAEAAQABAAkDAAACAQICAwABAQQBAQAMF70JGQIZEkkfGQK0F5BpXg4ZDy4i6U1F6DUqASfbu9LJXuhPPV9wGXiWA7CIwSF5fAbguxAAqaACwEN3TOpyAHbGGYURAADxUQA2TwF8lQpgZzkAa54CwJIQQDbr3KMLAVD3JAAYggVAEg1AnBTAIzQAeeYCyDG3V3EAxZkknAOw2iPpgGwCQABALgGbVYArCQFsJAWAmm0AO80BYPW0F7OEo4ynygGd0/MVAIDwUYCaVQApBy4CACAdTA5mgJ7IM4AoB+ISAIADQABALgEpB6IciEvgB4DYBCIdkHRgmQlIEg2AFgBA8gzAZhWgZhUg8gxgFgAgEg2ghhWgOIDiWBQCECcFwAgAgPgoAJaEAK4kBBA+CnARAIBwUoADT8ksS0gmaBcyO+WQ6WWRDAKoZJgpJCPUCxmeccj4qkjmYxsAD80E+JVhgIIBghKAi7WWlZWVlT/nxIZww04Nt20YVQV+xqAKhASAA4D0gAAAAAD/BwAAAACYwYOPkMEAAJjBAAAYQgsEAQEBBLQBiT88///DPAVY6KCzgRUBAlZBbgECWUgeAQLvQQwBAsBAFQAAANYAAAA=",
        "encoding": "base64",
        "path": [
         "scene_PpJmL6qyGGXOsg27BMlBuu5Lf",
         "drc"
        ]
       },
       {
        "data": "RFJBQ08CAgEBAAAAXLQBAbMBAAAtX9u2rWpLVVVVqVZLVVWValVLVVWpVlVLVZVqVVVLValWVVVLlWpVVVVLqQIKAQEQ/wL2XgL/AAEAAQABAAkDAAACAQICAwABAQQBAQAMF70JGQIZEkkfGQK0F5BpXg4ZDy4i6U1F6DUqASfbu9LJXuhPPV9wGXiWA7CIwSF5fAbguxAAqaACwEN3TOpyAHbGGYURAADxUQA2TwF8lQpgZzkAa54CwJIQQDbr3KMLAVD3JAAYggVAEg1AnBTAIzQAeeYCyDG3V3EAxZkknAOw2iPpgGwCQABALgGbVYArCQFsJAWAmm0AO80BYPW0F7OEo4ynygGd0/MVAIDwUYCaVQApBy4CACAdTA5mgJ7IM4AoB+ISAIADQABALgEpB6IciEvgB4DYBCIdkHRgmQlIEg2AFgBA8gzAZhWgZhUg8gxgFgAgEg2ghhWgOIDiWBQCECcFwAgAgPgoAJaEAK4kBBA+CnARAIBwUoADT8ksS0gmaBcyO+WQ6WWRDAKoZJgpJCPUCxmeccj4qkjmYxsAD80E+JVhgIIBghKAi7WWlZWVlT/nxIZww04Nt20YVQV+xqAKhASAA4D0gAAAAAD/BwAAAACAv3F4c78AAIC/AAAAQAsEAQEBBAqJPzwbPAVk6/6vgRUBAlZBbgECWUgeAQLvQQwBAsBAjwAAAPsAAAA=",
        "encoding": "base64",
        "path": [
         "scene_PqUxSgfHpIYEPSIF8bZBsTcTf",
         "drc"
        ]
       },
       {
        "data": "RFJBQ08CAgEBAAAAXLQBAbMBAAAtX9u2rWpLVVVVqVZLVVWValVLVVWpVlVLVZVqVVVLValWVVVLlWpVVVVLqQIKAQEQ/wL2XgL/AAEAAQABAAkDAAACAQICAwABAQQBAQAMF70JGQIZEkkfGQK0F5BpXg4ZDy4i6U1F6DUqASfbu9LJXuhPPV9wGXiWA7CIwSF5fAbguxAAT1kB0EN3TOpyAHbGGYURAADxUQA2TwF8lQpgZzkAa54CwJIQQDbr3KMLAVD3JAAYggVAEg1AnBTAIzQAO82NsdIdQHEAxclMzgGw+iPpgGwCQABALgGbVYArCQFsJAWAmm0AO80BUPW0F7OEo4ynygGd8/MVAIDwUYCaVQApBy4CACAdTA5mgJ/IM4AoB+ISAIAFQABALgEpB6IciEvgB4DYBCIdkHRgmclHEg2AFgBA8gzAZhWgZhUg8gxgFgAgEg2ghhWgOIDiWBQCECcFwAgAgPgoAJaEAK4kBBA+CnARAIBwUoADT8ksS0gmaBcyO+WQ6WWRDAKoZJgpJCPUCxmeccj4qkimvx8AD94DmOJGggGEEtR8RV4iJCQkCNeA4WSDIwVCaxhVBX7GoAqEBIADAPaAAAAAAP8HAAAAAODAYwnVwAAA4MAAAGBBCwQBAQEEE4k/PD88BVhd5L+BFQECVkFuAQJZSB4BAu9BDAECwEAqAAAAsQAAAA==",
        "encoding": "base64",
        "path": [
         "scene_Q5O3md0aIiiy0M9iUjgyM6VzY",
         "drc"
        ]
       },
       {
        "data": "RFJBQ08CAgEBAAAAXLQBAbMBAAAtX9u2rWpLVVVVqVZLVVWValVLVVWpVlVLVZVqVVVLValWVVVLlWpVVVVLqQIKAQEQ/wL2XgL/AAEAAQABAAkDAAACAQICAwABAQQBAQAMF70JGQIZEkkfGQK0F5BpXg4ZDy4i6U1F6DUqASfbu9LJXuhPPV9wGXiWA7CIwSF5fAbguxAAqaACwEN3TOpyAHbGGYURAADxUQA2TwF8lQpgZzkAa54CwJIQQDbr3KMLAVD3JAAYggVAEg1AnBTAIzQAeeYCyDG3V3EAxZkknAOw2iPpgGwCQABALgGbVYArCQFsJAWAmm0AO80BYPW0F7OEo4ynygGd0/MVAIDwUYCaVQApBy4CACAdTA5mgJ7IM4AoB+ISAIADQABALgEpB6IciEvgB4DYBCIdkHRgmQlIEg2AFgBA8gzAZhWgZhUg8gxgFgAgEg2ghhWgOIDiWBQCECcFwAgAgPgoAJaEAK4kBBA+CnARAIBwUoADT8ksS0gmaBcyO+WQ6WWRDAKoZJgpJCPUCxmeccj4qkjmYxsAD80E+JVhgIIBghKAi7WWlZWVlT/nxIZww04Nt20YVQV+xqAKhASAA4D0gAAAAAD/BwAAAAAQwb/zCMEAABDBAACQQQsEAQEBBASJPzwDPAVY95GzgRUBAlZBbgECWUgeAQLvQQwBAsBAMQAAAOEAAAA=",
        "encoding": "base64",
        "path": [
         "scene_QGiNn4RKTm3g9Z4HjFUYJeFtV",
         "drc"
        ]
       },
       {
        "data": "RFJBQ08CAgEBAAAAXLQBAbMBAAAtX9u2rWpLVVVVqVZLVVWValVLVVWpVlVLVZVqVVVLValWVVVLlWpVVVVLqQIKAQEQ/wL2XgL/AAEAAQABAAkDAAACAQICAwABAQQBAQAMF70JGQIZEkkfGQK0F5BpXg4ZDy4i6U1F6DUqASfbu9LJXuhPPV9wGXiWA7CIwSF5fAbguxAAqaACwEN3TOpyAHbGGYURAADxUQA2TwF8lQpgZzkAa54CwJIQQDbr3KMLAVD3JAAYggVAEg1AnBTAIzQAeeYCyDG3V3EAxZkknAOw2iPpgGwCQABALgGbVYArCQFsJAWAmm0AO80BYPW0F7OEo4ynygGd0/MVAIDwUYCaVQApBy4CACAdTA5mgJ7IM4AoB+ISAIADQABALgEpB6IciEvgB4DYBCIdkHRgmQlIEg2AFgBA8gzAZhWgZhUg8gxgFgAgEg2ghhWgOIDiWBQCECcFwAgAgPgoAJaEAK4kBBA+CnARAIBwUoADT8ksS0gmaBcyO+WQ6WWRDAKoZJgpJCPUCxmeccj4qkjmYxsAD80E+JVhgIIBghKAi7WWlZWVlT/nxIZww04Nt20YVQV+xqAKhASAA4D0gAAAAAD/BwAAAACAwXF4c8EAAIDBAAAAQgsEAQEBBAiJPzwTPAVY95GzgRUBAlZBbgECWUgeAQLvQQwBAsBAWwAAAOwAAAA=",
        "encoding": "base64",
        "path": [
         "scene_QIzkx9vBwFPtDBRz7pltJGNsz",
         "drc"
        ]
       },
       {
        "data": "RFJBQ08CAgEBAAAAXLQBAbMBAAAtX9u2rWpLVVVVqVZLVVWValVLVVWpVlVLVZVqVVVLValWVVVLlWpVVVVLqQIKAQEQ/wL2XgL/AAEAAQABAAkDAAACAQICAwABAQQBAQAMF70JGQIZEkkfGQK0F5BpXg4ZDy4i6U1F6DUqASfbu9LJXuhPPV9wGXiWA7CIwSF5fAbguxAAT1kB0EN3TOpyAHbGGYURAADxUQA2TwF8lQpgZzkAa54CwJIQQDbr3KMLAVD3JAAYggVAEg1AnBTAIzQAO82NsdIdQHEAxclMzgGw+iPpgGwCQABALgGbVYArCQFsJAWAmm0AO80BUPW0F7OEo4ynygGd8/MVAIDwUYCaVQApBy4CACAdTA5mgJ/IM4AoB+ISAIAFQABALgEpB6IciEvgB4DYBCIdkHRgmclHEg2AFgBA8gzAZhWgZhUg8gxgFgAgEg2ghhWgOIDiWBQCECcFwAgAgPgoAJaEAK4kBBA+CnARAIBwUoADT8ksS0gmaBcyO+WQ6WWRDAKoZJgpJCPUCxmeccj4qkimvx8AD94DmOJGggGEEtR8RV4iJCQkCNeA4WSDIwVCaxhVBX7GoAqEBIADAPaAAAAAAP8HAAAAAODAYwnVwAAA4MAAAGBBCwQBAQEEGIk/PFM8BVj3kbOBFQECVkFuAQJZSB4BAu9BDAECwEC0AAAA7wAAAA==",
        "encoding": "base64",
        "path": [
         "scene_QaKz3o7OwdnislY3FR2hUaNlA",
         "drc"
        ]
       },
       {
        "data": "RFJBQ08CAgEBAAAAXLQBAbMBAAAtX9u2rWpLVVVVqVZLVVWValVLVVWpVlVLVZVqVVVLValWVVVLlWpVVVVLqQIKAQEQ/wL2XgL/AAEAAQABAAkDAAACAQICAwABAQQBAQAMF70JGQIZEkkfGQK0F5BpXg4ZDy4i6U1F6DUqASfbu9LJXuhPPV9wGXiWA7CIwSF5fAbguxAAqaACwEN3TOpyAHbGGYURAADxUQA2TwF8lQpgZzkAa54CwJIQQDbr3KMLAVD3JAAYggVAEg1AnBTAIzQAeeYCyDG3V3EAxZkknAOw2iPpgGwCQABALgGbVYArCQFsJAWAmm0AO80BYPW0F7OEo4ynygGd0/MVAIDwUYCaVQApBy4CACAdTA5mgJ7IM4AoB+ISAIADQABALgEpB6IciEvgB4DYBCIdkHRgmQlIEg2AFgBA8gzAZhWgZhUg8gxgFgAgEg2ghhWgOIDiWBQCECcFwAgAgPgoAJaEAK4kBBA+CnARAIBwUoADT8ksS0gmaBcyO+WQ6WWRDAKoZJgpJCPUCxmeccj4qkjmYxsAD80E+JVhgIIBghKAi7WWlZWVlT/nxIZww04Nt20YVQV+xqAKhASAA4D0gAAAAAD/BwAAAACAwHF4c8AAAIDAAAAAQQsEAQEBBKIBiT88//97PAVYTvO/gRUBAlZBbgECWUgeAQLvQQwBAsBAAgAAALYAAAA=",
        "encoding": "base64",
        "path": [
         "scene_QdF8YRjGjsC7brIJMUdxTPQ70",
         "drc"
        ]
       },
       {
        "data": "RFJBQ08CAgEBAAAAXLQBAbMBAAAtX9u2rWpLVVVVqVZLVVWValVLVVWpVlVLVZVqVVVLValWVVVLlWpVVVVLqQIKAQEQ/wL2XgL/AAEAAQABAAkDAAACAQICAwABAQQBAQAMF70JGQIZEkkfGQK0F5BpXg4ZDy4i6U1F6DUqASfbu9LJXuhPPV9wGXiWA7CIwSF5fAbguxAAqaACwEN3TOpyAHbGGYURAADxUQA2TwF8lQpgZzkAa54CwJIQQDbr3KMLAVD3JAAYggVAEg1AnBTAIzQAeeYCyDG3V3EAxZkknAOw2iPpgGwCQABALgGbVYArCQFsJAWAmm0AO80BYPW0F7OEo4ynygGd0/MVAIDwUYCaVQApBy4CACAdTA5mgJ7IM4AoB+ISAIADQABALgEpB6IciEvgB4DYBCIdkHRgmQlIEg2AFgBA8gzAZhWgZhUg8gxgFgAgEg2ghhWgOIDiWBQCECcFwAgAgPgoAJaEAK4kBBA+CnARAIBwUoADT8ksS0gmaBcyO+WQ6WWRDAKoZJgpJCPUCxmeccj4qkjmYxsAD80E+JVhgIIBghKAi7WWlZWVlT/nxIZww04Nt20YVQV+xqAKhASAA4D0gAAAAAD/BwAAAACQwb/ziMEAAJDBAAAQQgsEAQEBBA+JPzwvPAVYTvO/gRUBAlZBbgECWUgeAQLvQQwBAsBApQAAAM8AAAA=",
        "encoding": "base64",
        "path": [
         "scene_QlaiVl6FpbbgX1Kk0Gv9VdvGz",
         "drc"
        ]
       },
       {
        "data": "RFJBQ08CAgEBAAAAXLQBAbMBAAAtX9u2rWpLVVVVqVZLVVWValVLVVWpVlVLVZVqVVVLValWVVVLlWpVVVVLqQIKAQEQ/wL2XgL/AAEAAQABAAkDAAACAQICAwABAQQBAQAMF70JGQIZEkkfGQK0F5BpXg4ZDy4i6U1F6DUqASfbu9LJXuhPPV9wGXiWA7CIwSF5fAbguxAAqaACwEN3TOpyAHbGGYURAADxUQA2TwF8lQpgZzkAa54CwJIQQDbr3KMLAVD3JAAYggVAEg1AnBTAIzQAeeYCyDG3V3EAxZkknAOw2iPpgGwCQABALgGbVYArCQFsJAWAmm0AO80BYPW0F7OEo4ynygGd0/MVAIDwUYCaVQApBy4CACAdTA5mgJ7IM4AoB+ISAIADQABALgEpB6IciEvgB4DYBCIdkHRgmQlIEg2AFgBA8gzAZhWgZhUg8gxgFgAgEg2ghhWgOIDiWBQCECcFwAgAgPgoAJaEAK4kBBA+CnARAIBwUoADT8ksS0gmaBcyO+WQ6WWRDAKoZJgpJCPUCxmeccj4qkjmYxsAD80E+JVhgIIBghKAi7WWlZWVlT/nxIZww04Nt20YVQV+xqAKhASAA4D0gAAAAAD/BwAAAABAwVSaNsEAAEDBAADAQQsEAQEBBAaJPzwLPAVY6KCzgRUBAlZBbgECWUgeAQLvQQwBAsBA8AAAAPwAAAA=",
        "encoding": "base64",
        "path": [
         "scene_Qn1z5XAOv3zJR4PzcKqqYrP69",
         "drc"
        ]
       },
       {
        "data": "RFJBQ08CAgEBAAAAXLQBAbMBAAAtX9u2rWpLVVVVqVZLVVWValVLVVWpVlVLVZVqVVVLValWVVVLlWpVVVVLqQIKAQEQ/wL2XgL/AAEAAQABAAkDAAACAQICAwABAQQBAQAMF70JGQIZEkkfGQK0F5BpXg4ZDy4i6U1F6DUqASfbu9LJXuhPPV9wGXiWA7CIwSF5fAbguxAAqaACwEN3TOpyAHbGGYURAADxUQA2TwF8lQpgZzkAa54CwJIQQDbr3KMLAVD3JAAYggVAEg1AnBTAIzQAeeYCyDG3V3EAxZkknAOw2iPpgGwCQABALgGbVYArCQFsJAWAmm0AO80BYPW0F7OEo4ynygGd0/MVAIDwUYCaVQApBy4CACAdTA5mgJ7IM4AoB+ISAIADQABALgEpB6IciEvgB4DYBCIdkHRgmQlIEg2AFgBA8gzAZhWgZhUg8gxgFgAgEg2ghhWgOIDiWBQCECcFwAgAgPgoAJaEAK4kBBA+CnARAIBwUoADT8ksS0gmaBcyO+WQ6WWRDAKoZJgpJCPUCxmeccj4qkjmYxsAD80E+JVhgIIBghKAi7WWlZWVlT/nxIZww04Nt20YVQV+xqAKhASAA4D0gAAAAAD/BwAAAABAwVSaNsEAAEDBAADAQQsEAQEBBAqJPzwbPAVY6KCzgRUBAlZBbgECWUgeAQLvQQwBAsBAawAAAOsAAAA=",
        "encoding": "base64",
        "path": [
         "scene_Qo9t2poBNhKoGHsWy09JyU3j8",
         "drc"
        ]
       },
       {
        "data": "RFJBQ08CAgEBAAAAXLQBAbMBAAAtX9u2rWpLVVVVqVZLVVWValVLVVWpVlVLVZVqVVVLValWVVVLlWpVVVVLqQIKAQEQ/wL2XgL/AAEAAQABAAkDAAACAQICAwABAQQBAQAMF70JGQIZEkkfGQK0F5BpXg4ZDy4i6U1F6DUqASfbu9LJXuhPPV9wGXiWA7CIwSF5fAbguxAAqaACwEN3TOpyAHbGGYURAADxUQA2TwF8lQpgZzkAa54CwJIQQDbr3KMLAVD3JAAYggVAEg1AnBTAIzQAeeYCyDG3V3EAxZkknAOw2iPpgGwCQABALgGbVYArCQFsJAWAmm0AO80BYPW0F7OEo4ynygGd0/MVAIDwUYCaVQApBy4CACAdTA5mgJ7IM4AoB+ISAIADQABALgEpB6IciEvgB4DYBCIdkHRgmQlIEg2AFgBA8gzAZhWgZhUg8gxgFgAgEg2ghhWgOIDiWBQCECcFwAgAgPgoAJaEAK4kBBA+CnARAIBwUoADT8ksS0gmaBcyO+WQ6WWRDAKoZJgpJCPUCxmeccj4qkjmYxsAD80E+JVhgIIBghKAi7WWlZWVlT/nxIZww04Nt20YVQV+xqAKhASAA4D0gAAAAAD/BwAAAACIwfxXgcEAAIjBAAAIQgsEAQEBBAyJPzwjPAVk6/6vgRUBAlZBbgECWUgeAQLvQQwBAsBAtwAAAOMAAAA=",
        "encoding": "base64",
        "path": [
         "scene_QuahgxMKl91XgLkN6WsAlQrfJ",
         "drc"
        ]
       },
       {
        "data": "RFJBQ08CAgEBAAAAXLQBAbMBAAAtX9u2rWpLVVVVqVZLVVWValVLVVWpVlVLVZVqVVVLValWVVVLlWpVVVVLqQIKAQEQ/wL2XgL/AAEAAQABAAkDAAACAQICAwABAQQBAQAMF70JGQIZEkkfGQK0F5BpXg4ZDy4i6U1F6DUqASfbu9LJXuhPPV9wGXiWA7CIwSF5fAbguxAAqaACwEN3TOpyAHbGGYURAADxUQA2TwF8lQpgZzkAa54CwJIQQDbr3KMLAVD3JAAYggVAEg1AnBTAIzQAeeYCyDG3V3EAxZkknAOw2iPpgGwCQABALgGbVYArCQFsJAWAmm0AO80BYPW0F7OEo4ynygGd0/MVAIDwUYCaVQApBy4CACAdTA5mgJ7IM4AoB+ISAIADQABALgEpB6IciEvgB4DYBCIdkHRgmQlIEg2AFgBA8gzAZhWgZhUg8gxgFgAgEg2ghhWgOIDiWBQCECcFwAgAgPgoAJaEAK4kBBA+CnARAIBwUoADT8ksS0gmaBcyO+WQ6WWRDAKoZJgpJCPUCxmeccj4qkjmYxsAD80E+JVhgIIBghKAi7WWlZWVlT/nxIZww04Nt20YVQV+xqAKhASAA4D0gAAAAAD/BwAAAAAAwXF488AAAADBAACAQQsEAQEBBGGJPzz/dzwFWE7zv4EVAQJWQW4BAllIHgEC70EMAQLAQD8AAADQAAAA",
        "encoding": "base64",
        "path": [
         "scene_QvYXH4EearPs1WVH3u0Esf6vR",
         "drc"
        ]
       },
       {
        "data": "RFJBQ08CAgEBAAAAXLQBAbMBAAAtX9u2rWpLVVVVqVZLVVWValVLVVWpVlVLVZVqVVVLValWVVVLlWpVVVVLqQIKAQEQ/wL2XgL/AAEAAQABAAkDAAACAQICAwABAQQBAQAMF70JGQIZEkkfGQK0F5BpXg4ZDy4i6U1F6DUqASfbu9LJXuhPPV9wGXiWA7CIwSF5fAbguxAAT1kB0EN3TOpyAHbGGYURAADxUQA2TwF8lQpgZzkAa54CwJIQQDbr3KMLAVD3JAAYggVAEg1AnBTAIzQAO82NsdIdQHEAxclMzgGw+iPpgGwCQABALgGbVYArCQFsJAWAmm0AO80BUPW0F7OEo4ynygGd8/MVAIDwUYCaVQApBy4CACAdTA5mgJ/IM4AoB+ISAIAFQABALgEpB6IciEvgB4DYBCIdkHRgmclHEg2AFgBA8gzAZhWgZhUg8gxgFgAgEg2ghhWgOIDiWBQCECcFwAgAgPgoAJaEAK4kBBA+CnARAIBwUoADT8ksS0gmaBcyO+WQ6WWRDAKoZJgpJCPUCxmeccj4qkimvx8AD94DmOJGggGEEtR8RV4iJCQkCNeA4WSDIwVCaxhVBX7GoAqEBIADAPaAAAAAAP8HAAAAAHDB6kBkwQAAcMEAAPBBCwQBAQEEDIk/PCM8BWTr/q+BFQECVkFuAQJZSB4BAu9BDAECwEAhAAAAsAAAAA==",
        "encoding": "base64",
        "path": [
         "scene_QwsGwO1Z8xEvVKYkFCSsjlR2g",
         "drc"
        ]
       },
       {
        "data": "RFJBQ08CAgEBAAAAXLQBAbMBAAAtX9u2rWpLVVVVqVZLVVWValVLVVWpVlVLVZVqVVVLValWVVVLlWpVVVVLqQIKAQEQ/wL2XgL/AAEAAQABAAkDAAACAQICAwABAQQBAQAMF70JGQIZEkkfGQK0F5BpXg4ZDy4i6U1F6DUqASfbu9LJXuhPPV9wGXiWA7CIwSF5fAbguxAAqaACwEN3TOpyAHbGGYURAADxUQA2TwF8lQpgZzkAa54CwJIQQDbr3KMLAVD3JAAYggVAEg1AnBTAIzQAeeYCyDG3V3EAxZkknAOw2iPpgGwCQABALgGbVYArCQFsJAWAmm0AO80BYPW0F7OEo4ynygGd0/MVAIDwUYCaVQApBy4CACAdTA5mgJ7IM4AoB+ISAIADQABALgEpB6IciEvgB4DYBCIdkHRgmQlIEg2AFgBA8gzAZhWgZhUg8gxgFgAgEg2ghhWgOIDiWBQCECcFwAgAgPgoAJaEAK4kBBA+CnARAIBwUoADT8ksS0gmaBcyO+WQ6WWRDAKoZJgpJCPUCxmeccj4qkjmYxsAD80E+JVhgIIBghKAi7WWlZWVlT/nxIZww04Nt20YVQV+xqAKhASAA4D0gAAAAAD/BwAAAACYwYOPkMEAAJjBAAAYQgsEAQEBBB+JPzxvPAVYXeS/gRUBAlZBbgECWUgeAQLvQQwBAsBAHwAAAM8AAAA=",
        "encoding": "base64",
        "path": [
         "scene_RBivKqwjVw8SrCngvIEaAfbMp",
         "drc"
        ]
       },
       {
        "data": "RFJBQ08CAgEBAAAAXLQBAbMBAAAtX9u2rWpLVVVVqVZLVVWValVLVVWpVlVLVZVqVVVLValWVVVLlWpVVVVLqQIKAQEQ/wL2XgL/AAEAAQABAAkDAAACAQICAwABAQQBAQAMF70JGQIZEkkfGQK0F5BpXg4ZDy4i6U1F6DUqASfbu9LJXuhPPV9wGXiWA7CIwSF5fAbguxAAqaACwEN3TOpyAHbGGYURAADxUQA2TwF8lQpgZzkAa54CwJIQQDbr3KMLAVD3JAAYggVAEg1AnBTAIzQAeeYCyDG3V3EAxZkknAOw2iPpgGwCQABALgGbVYArCQFsJAWAmm0AO80BYPW0F7OEo4ynygGd0/MVAIDwUYCaVQApBy4CACAdTA5mgJ7IM4AoB+ISAIADQABALgEpB6IciEvgB4DYBCIdkHRgmQlIEg2AFgBA8gzAZhWgZhUg8gxgFgAgEg2ghhWgOIDiWBQCECcFwAgAgPgoAJaEAK4kBBA+CnARAIBwUoADT8ksS0gmaBcyO+WQ6WWRDAKoZJgpJCPUCxmeccj4qkjmYxsAD80E+JVhgIIBghKAi7WWlZWVlT/nxIZww04Nt20YVQV+xqAKhASAA4D0gAAAAAD/BwAAAABAwVSaNsEAAEDBAADAQQsEAQEBBESJPzz/AzwFZPrvr4EVAQJWQW4BAllIHgEC70EMAQLAQBEAAADFAAAA",
        "encoding": "base64",
        "path": [
         "scene_Ri1h3x3WazBtaezg4TZZcewha",
         "drc"
        ]
       },
       {
        "data": "RFJBQ08CAgEBAAAAXLQBAbMBAAAtX9u2rWpLVVVVqVZLVVWValVLVVWpVlVLVZVqVVVLValWVVVLlWpVVVVLqQIKAQEQ/wL2XgL/AAEAAQABAAkDAAACAQICAwABAQQBAQAMF70JGQIZEkkfGQK0F5BpXg4ZDy4i6U1F6DUqASfbu9LJXuhPPV9wGXiWA7CIwSF5fAbguxAAqaACwEN3TOpyAHbGGYURAADxUQA2TwF8lQpgZzkAa54CwJIQQDbr3KMLAVD3JAAYggVAEg1AnBTAIzQAeeYCyDG3V3EAxZkknAOw2iPpgGwCQABALgGbVYArCQFsJAWAmm0AO80BYPW0F7OEo4ynygGd0/MVAIDwUYCaVQApBy4CACAdTA5mgJ7IM4AoB+ISAIADQABALgEpB6IciEvgB4DYBCIdkHRgmQlIEg2AFgBA8gzAZhWgZhUg8gxgFgAgEg2ghhWgOIDiWBQCECcFwAgAgPgoAJaEAK4kBBA+CnARAIBwUoADT8ksS0gmaBcyO+WQ6WWRDAKoZJgpJCPUCxmeccj4qkjmYxsAD80E+JVhgIIBghKAi7WWlZWVlT/nxIZww04Nt20YVQV+xqAKhASAA4D0gAAAAAD/BwAAAABAwFSaNsAAAEDAAADAQAsEAQEBBHiJPzz/0zwFWPeRs4EVAQJWQW4BAllIHgEC70EMAQLAQB4AAADyAAAA",
        "encoding": "base64",
        "path": [
         "scene_RvtlGYqVAirDInA3gJcxmK44h",
         "drc"
        ]
       },
       {
        "data": "RFJBQ08CAgEBAAAAXLQBAbMBAAAtX9u2rWpLVVVVqVZLVVWValVLVVWpVlVLVZVqVVVLValWVVVLlWpVVVVLqQIKAQEQ/wL2XgL/AAEAAQABAAkDAAACAQICAwABAQQBAQAMF70JGQIZEkkfGQK0F5BpXg4ZDy4i6U1F6DUqASfbu9LJXuhPPV9wGXiWA7CIwSF5fAbguxAAT1kB0EN3TOpyAHbGGYURAADxUQA2TwF8lQpgZzkAa54CwJIQQDbr3KMLAVD3JAAYggVAEg1AnBTAIzQAO82NsdIdQHEAxclMzgGw+iPpgGwCQABALgGbVYArCQFsJAWAmm0AO80BUPW0F7OEo4ynygGd8/MVAIDwUYCaVQApBy4CACAdTA5mgJ/IM4AoB+ISAIAFQABALgEpB6IciEvgB4DYBCIdkHRgmclHEg2AFgBA8gzAZhWgZhUg8gxgFgAgEg2ghhWgOIDiWBQCECcFwAgAgPgoAJaEAK4kBBA+CnARAIBwUoADT8ksS0gmaBcyO+WQ6WWRDAKoZJgpJCPUCxmeccj4qkimvx8AD94DmOJGggGEEtR8RV4iJCQkCNeA4WSDIwVCaxhVBX7GoAqEBIADAPaAAAAAAP8HAAAAAGDBYwlVwQAAYMEAAOBBCwQBAQEEvQGJPzz//+c8BVhd5L+BFQECVkFuAQJZSB4BAu9BDAECwEAJAAAA6AAAAA==",
        "encoding": "base64",
        "path": [
         "scene_SX0I6Y4QFvF735iv00OEZGWFf",
         "drc"
        ]
       },
       {
        "data": "RFJBQ08CAgEBAAAAXLQBAbMBAAAtX9u2rWpLVVVVqVZLVVWValVLVVWpVlVLVZVqVVVLValWVVVLlWpVVVVLqQIKAQEQ/wL2XgL/AAEAAQABAAkDAAACAQICAwABAQQBAQAMF70JGQIZEkkfGQK0F5BpXg4ZDy4i6U1F6DUqASfbu9LJXuhPPV9wGXiWA7CIwSF5fAbguxAAqaACwEN3TOpyAHbGGYURAADxUQA2TwF8lQpgZzkAa54CwJIQQDbr3KMLAVD3JAAYggVAEg1AnBTAIzQAeeYCyDG3V3EAxZkknAOw2iPpgGwCQABALgGbVYArCQFsJAWAmm0AO80BYPW0F7OEo4ynygGd0/MVAIDwUYCaVQApBy4CACAdTA5mgJ7IM4AoB+ISAIADQABALgEpB6IciEvgB4DYBCIdkHRgmQlIEg2AFgBA8gzAZhWgZhUg8gxgFgAgEg2ghhWgOIDiWBQCECcFwAgAgPgoAJaEAK4kBBA+CnARAIBwUoADT8ksS0gmaBcyO+WQ6WWRDAKoZJgpJCPUCxmeccj4qkjmYxsAD80E+JVhgIIBghKAi7WWlZWVlT/nxIZww04Nt20YVQV+xqAKhASAA4D0gAAAAAD/BwAAAACgwEYrmMAAAKDAAAAgQQsEAQEBBIMBiT88//88BWT676+BFQECVkFuAQJZSB4BAu9BDAECwEAYAAAAyQAAAA==",
        "encoding": "base64",
        "path": [
         "scene_SpXUzlJFxAChviGlKMS3RKGaH",
         "drc"
        ]
       },
       {
        "data": "RFJBQ08CAgEBAAAAXLQBAbMBAAAtX9u2rWpLVVVVqVZLVVWValVLVVWpVlVLVZVqVVVLValWVVVLlWpVVVVLqQIKAQEQ/wL2XgL/AAEAAQABAAkDAAACAQICAwABAQQBAQAMF70JGQIZEkkfGQK0F5BpXg4ZDy4i6U1F6DUqASfbu9LJXuhPPV9wGXiWA7CIwSF5fAbguxAAqaACwEN3TOpyAHbGGYURAADxUQA2TwF8lQpgZzkAa54CwJIQQDbr3KMLAVD3JAAYggVAEg1AnBTAIzQAeeYCyDG3V3EAxZkknAOw2iPpgGwCQABALgGbVYArCQFsJAWAmm0AO80BYPW0F7OEo4ynygGd0/MVAIDwUYCaVQApBy4CACAdTA5mgJ7IM4AoB+ISAIADQABALgEpB6IciEvgB4DYBCIdkHRgmQlIEg2AFgBA8gzAZhWgZhUg8gxgFgAgEg2ghhWgOIDiWBQCECcFwAgAgPgoAJaEAK4kBBA+CnARAIBwUoADT8ksS0gmaBcyO+WQ6WWRDAKoZJgpJCPUCxmeccj4qkjmYxsAD80E+JVhgIIBghKAi7WWlZWVlT/nxIZww04Nt20YVQV+xqAKhASAA4D0gAAAAAD/BwAAAACgwEYrmMAAAKDAAAAgQQsEAQEBBCKJPzx7PAVk6/6vgRUBAlZBbgECWUgeAQLvQQwBAsBAGgAAAHgAAAA=",
        "encoding": "base64",
        "path": [
         "scene_SqXwz6UeNNITD7UZHVubJD8mH",
         "drc"
        ]
       },
       {
        "data": "RFJBQ08CAgEBAAAAXLQBAbMBAAAtX9u2rWpLVVVVqVZLVVWValVLVVWpVlVLVZVqVVVLValWVVVLlWpVVVVLqQIKAQEQ/wL2XgL/AAEAAQABAAkDAAACAQICAwABAQQBAQAMF70JGQIZEkkfGQK0F5BpXg4ZDy4i6U1F6DUqASfbu9LJXuhPPV9wGXiWA7CIwSF5fAbguxAAT1kB0EN3TOpyAHbGGYURAADxUQA2TwF8lQpgZzkAa54CwJIQQDbr3KMLAVD3JAAYggVAEg1AnBTAIzQAO82NsdIdQHEAxclMzgGw+iPpgGwCQABALgGbVYArCQFsJAWAmm0AO80BUPW0F7OEo4ynygGd8/MVAIDwUYCaVQApBy4CACAdTA5mgJ/IM4AoB+ISAIAFQABALgEpB6IciEvgB4DYBCIdkHRgmclHEg2AFgBA8gzAZhWgZhUg8gxgFgAgEg2ghhWgOIDiWBQCECcFwAgAgPgoAJaEAK4kBBA+CnARAIBwUoADT8ksS0gmaBcyO+WQ6WWRDAKoZJgpJCPUCxmeccj4qkimvx8AD94DmOJGggGEEtR8RV4iJCQkCNeA4WSDIwVCaxhVBX7GoAqEBIADAPaAAAAAAP8HAAAAAODAYwnVwAAA4MAAAGBBCwQBAQEEEIk/PDM8BWTr/q+BFQECVkFuAQJZSB4BAu9BDAECwEA4AAAAVQAAAA==",
        "encoding": "base64",
        "path": [
         "scene_SsGtRQ2trTKKqPJTmADSG3BNC",
         "drc"
        ]
       },
       {
        "data": "RFJBQ08CAgEBAAAAXLQBAbMBAAAtX9u2rWpLVVVVqVZLVVWValVLVVWpVlVLVZVqVVVLValWVVVLlWpVVVVLqQIKAQEQ/wL2XgL/AAEAAQABAAkDAAACAQICAwABAQQBAQAMF70JGQIZEkkfGQK0F5BpXg4ZDy4i6U1F6DUqASfbu9LJXuhPPV9wGXiWA7CIwSF5fAbguxAAqaACwEN3TOpyAHbGGYURAADxUQA2TwF8lQpgZzkAa54CwJIQQDbr3KMLAVD3JAAYggVAEg1AnBTAIzQAeeYCyDG3V3EAxZkknAOw2iPpgGwCQABALgGbVYArCQFsJAWAmm0AO80BYPW0F7OEo4ynygGd0/MVAIDwUYCaVQApBy4CACAdTA5mgJ7IM4AoB+ISAIADQABALgEpB6IciEvgB4DYBCIdkHRgmQlIEg2AFgBA8gzAZhWgZhUg8gxgFgAgEg2ghhWgOIDiWBQCECcFwAgAgPgoAJaEAK4kBBA+CnARAIBwUoADT8ksS0gmaBcyO+WQ6WWRDAKoZJgpJCPUCxmeccj4qkjmYxsAD80E+JVhgIIBghKAi7WWlZWVlT/nxIZww04Nt20YVQV+xqAKhASAA4D0gAAAAAD/BwAAAAAwwc1iJ8EAADDBAACwQQsEAQEBBKcBiT88//+PPAVY95GzgRUBAlZBbgECWUgeAQLvQQwBAsBADAAAALwAAAA=",
        "encoding": "base64",
        "path": [
         "scene_SxzUAwoU3ZgDOTHCikFMAVsCx",
         "drc"
        ]
       },
       {
        "data": "RFJBQ08CAgEBAAAAXLQBAbMBAAAtX9u2rWpLVVVVqVZLVVWValVLVVWpVlVLVZVqVVVLValWVVVLlWpVVVVLqQIKAQEQ/wL2XgL/AAEAAQABAAkDAAACAQICAwABAQQBAQAMF70JGQIZEkkfGQK0F5BpXg4ZDy4i6U1F6DUqASfbu9LJXuhPPV9wGXiWA7CIwSF5fAbguxAAqaACwEN3TOpyAHbGGYURAADxUQA2TwF8lQpgZzkAa54CwJIQQDbr3KMLAVD3JAAYggVAEg1AnBTAIzQAeeYCyDG3V3EAxZkknAOw2iPpgGwCQABALgGbVYArCQFsJAWAmm0AO80BYPW0F7OEo4ynygGd0/MVAIDwUYCaVQApBy4CACAdTA5mgJ7IM4AoB+ISAIADQABALgEpB6IciEvgB4DYBCIdkHRgmQlIEg2AFgBA8gzAZhWgZhUg8gxgFgAgEg2ghhWgOIDiWBQCECcFwAgAgPgoAJaEAK4kBBA+CnARAIBwUoADT8ksS0gmaBcyO+WQ6WWRDAKoZJgpJCPUCxmeccj4qkjmYxsAD80E+JVhgIIBghKAi7WWlZWVlT/nxIZww04Nt20YVQV+xqAKhASAA4D0gAAAAAD/BwAAAAAAwHF4878AAADAAACAQAsEAQEBBJYBiT88//9LPAVY95GzgRUBAlZBbgECWUgeAQLvQQwBAsBABwAAAJ8AAAA=",
        "encoding": "base64",
        "path": [
         "scene_SzRMNlsurFowDRtl3HlbZC0lH",
         "drc"
        ]
       },
       {
        "data": "RFJBQ08CAgEBAAAAXLQBAbMBAAAtX9u2rWpLVVVVqVZLVVWValVLVVWpVlVLVZVqVVVLValWVVVLlWpVVVVLqQIKAQEQ/wL2XgL/AAEAAQABAAkDAAACAQICAwABAQQBAQAMF70JGQIZEkkfGQK0F5BpXg4ZDy4i6U1F6DUqASfbu9LJXuhPPV9wGXiWA7CIwSF5fAbguxAAqaACwEN3TOpyAHbGGYURAADxUQA2TwF8lQpgZzkAa54CwJIQQDbr3KMLAVD3JAAYggVAEg1AnBTAIzQAeeYCyDG3V3EAxZkknAOw2iPpgGwCQABALgGbVYArCQFsJAWAmm0AO80BYPW0F7OEo4ynygGd0/MVAIDwUYCaVQApBy4CACAdTA5mgJ7IM4AoB+ISAIADQABALgEpB6IciEvgB4DYBCIdkHRgmQlIEg2AFgBA8gzAZhWgZhUg8gxgFgAgEg2ghhWgOIDiWBQCECcFwAgAgPgoAJaEAK4kBBA+CnARAIBwUoADT8ksS0gmaBcyO+WQ6WWRDAKoZJgpJCPUCxmeccj4qkjmYxsAD80E+JVhgIIBghKAi7WWlZWVlT/nxIZww04Nt20YVQV+xqAKhASAA4D0gAAAAAD/BwAAAACYwYOPkMEAAJjBAAAYQgsEAQEBBGOJPzz/fzwFWOigs4EVAQJWQW4BAllIHgEC70EMAQLAQC0AAADVAAAA",
        "encoding": "base64",
        "path": [
         "scene_TJtN7IADogISe83aqH5iar73C",
         "drc"
        ]
       },
       {
        "data": "RFJBQ08CAgEBAAAAXLQBAbMBAAAtX9u2rWpLVVVVqVZLVVWValVLVVWpVlVLVZVqVVVLValWVVVLlWpVVVVLqQIKAQEQ/wL2XgL/AAEAAQABAAkDAAACAQICAwABAQQBAQAMF70JGQIZEkkfGQK0F5BpXg4ZDy4i6U1F6DUqASfbu9LJXuhPPV9wGXiWA7CIwSF5fAbguxAAT1kB0EN3TOpyAHbGGYURAADxUQA2TwF8lQpgZzkAa54CwJIQQDbr3KMLAVD3JAAYggVAEg1AnBTAIzQAO82NsdIdQHEAxclMzgGw+iPpgGwCQABALgGbVYArCQFsJAWAmm0AO80BUPW0F7OEo4ynygGd8/MVAIDwUYCaVQApBy4CACAdTA5mgJ/IM4AoB+ISAIAFQABALgEpB6IciEvgB4DYBCIdkHRgmclHEg2AFgBA8gzAZhWgZhUg8gxgFgAgEg2ghhWgOIDiWBQCECcFwAgAgPgoAJaEAK4kBBA+CnARAIBwUoADT8ksS0gmaBcyO+WQ6WWRDAKoZJgpJCPUCxmeccj4qkimvx8AD94DmOJGggGEEtR8RV4iJCQkCNeA4WSDIwVCaxhVBX7GoAqEBIADAPaAAAAAAP8HAAAAAODAYwnVwAAA4MAAAGBBCwQBAQEEJ4k/PI88BVjooLOBFQECVkFuAQJZSB4BAu9BDAECwEBYAAAArgAAAA==",
        "encoding": "base64",
        "path": [
         "scene_TeXJK6KQDRbKWTikfQwfapZjO",
         "drc"
        ]
       },
       {
        "data": "RFJBQ08CAgEBAAAAXLQBAbMBAAAtX9u2rWpLVVVVqVZLVVWValVLVVWpVlVLVZVqVVVLValWVVVLlWpVVVVLqQIKAQEQ/wL2XgL/AAEAAQABAAkDAAACAQICAwABAQQBAQAMF70JGQIZEkkfGQK0F5BpXg4ZDy4i6U1F6DUqASfbu9LJXuhPPV9wGXiWA7CIwSF5fAbguxAAT1kB0EN3TOpyAHbGGYURAADxUQA2TwF8lQpgZzkAa54CwJIQQDbr3KMLAVD3JAAYggVAEg1AnBTAIzQAO82NsdIdQHEAxclMzgGw+iPpgGwCQABALgGbVYArCQFsJAWAmm0AO80BUPW0F7OEo4ynygGd8/MVAIDwUYCaVQApBy4CACAdTA5mgJ/IM4AoB+ISAIAFQABALgEpB6IciEvgB4DYBCIdkHRgmclHEg2AFgBA8gzAZhWgZhUg8gxgFgAgEg2ghhWgOIDiWBQCECcFwAgAgPgoAJaEAK4kBBA+CnARAIBwUoADT8ksS0gmaBcyO+WQ6WWRDAKoZJgpJCPUCxmeccj4qkimvx8AD94DmOJGggGEEtR8RV4iJCQkCNeA4WSDIwVCaxhVBX7GoAqEBIADAPaAAAAAAP8HAAAAAFDB29FFwQAAUMEAANBBCwQBAQEEI4k/PH88BVhO87+BFQECVkFuAQJZSB4BAu9BDAECwEAiAAAASQAAAA==",
        "encoding": "base64",
        "path": [
         "scene_ThkS6nlgZ1oeUK9Hifcn7Kclf",
         "drc"
        ]
       },
       {
        "data": "RFJBQ08CAgEBAAAAXLQBAbMBAAAtX9u2rWpLVVVVqVZLVVWValVLVVWpVlVLVZVqVVVLValWVVVLlWpVVVVLqQIKAQEQ/wL2XgL/AAEAAQABAAkDAAACAQICAwABAQQBAQAMF70JGQIZEkkfGQK0F5BpXg4ZDy4i6U1F6DUqASfbu9LJXuhPPV9wGXiWA7CIwSF5fAbguxAAT1kB0EN3TOpyAHbGGYURAADxUQA2TwF8lQpgZzkAa54CwJIQQDbr3KMLAVD3JAAYggVAEg1AnBTAIzQAO82NsdIdQHEAxclMzgGw+iPpgGwCQABALgGbVYArCQFsJAWAmm0AO80BUPW0F7OEo4ynygGd8/MVAIDwUYCaVQApBy4CACAdTA5mgJ/IM4AoB+ISAIAFQABALgEpB6IciEvgB4DYBCIdkHRgmclHEg2AFgBA8gzAZhWgZhUg8gxgFgAgEg2ghhWgOIDiWBQCECcFwAgAgPgoAJaEAK4kBBA+CnARAIBwUoADT8ksS0gmaBcyO+WQ6WWRDAKoZJgpJCPUCxmeccj4qkimvx8AD94DmOJGggGEEtR8RV4iJCQkCNeA4WSDIwVCaxhVBX7GoAqEBIADAPaAAAAAAP8HAAAAAODAYwnVwAAA4MAAAGBBCwQBAQEEVok/PP9LPAVk6/6vgRUBAlZBbgECWUgeAQLvQQwBAsBAJwAAANkAAAA=",
        "encoding": "base64",
        "path": [
         "scene_TtBK419MdFZtl7pCboUuqAczE",
         "drc"
        ]
       },
       {
        "data": "RFJBQ08CAgEBAAAAXLQBAbMBAAAtX9u2rWpLVVVVqVZLVVWValVLVVWpVlVLVZVqVVVLValWVVVLlWpVVVVLqQIKAQEQ/wL2XgL/AAEAAQABAAkDAAACAQICAwABAQQBAQAMF70JGQIZEkkfGQK0F5BpXg4ZDy4i6U1F6DUqASfbu9LJXuhPPV9wGXiWA7CIwSF5fAbguxAAqaACwEN3TOpyAHbGGYURAADxUQA2TwF8lQpgZzkAa54CwJIQQDbr3KMLAVD3JAAYggVAEg1AnBTAIzQAeeYCyDG3V3EAxZkknAOw2iPpgGwCQABALgGbVYArCQFsJAWAmm0AO80BYPW0F7OEo4ynygGd0/MVAIDwUYCaVQApBy4CACAdTA5mgJ7IM4AoB+ISAIADQABALgEpB6IciEvgB4DYBCIdkHRgmQlIEg2AFgBA8gzAZhWgZhUg8gxgFgAgEg2ghhWgOIDiWBQCECcFwAgAgPgoAJaEAK4kBBA+CnARAIBwUoADT8ksS0gmaBcyO+WQ6WWRDAKoZJgpJCPUCxmeccj4qkjmYxsAD80E+JVhgIIBghKAi7WWlZWVlT/nxIZww04Nt20YVQV+xqAKhASAA4D0gAAAAAD/BwAAAACgwEYrmMAAAKDAAAAgQQsEAQEBBHiJPzz/0zwFWPeRs4EVAQJWQW4BAllIHgEC70EMAQLAQGMAAADvAAAA",
        "encoding": "base64",
        "path": [
         "scene_Tv78W58tYLheRzQ1TGDGvArth",
         "drc"
        ]
       },
       {
        "data": "RFJBQ08CAgEBAAAAXLQBAbMBAAAtX9u2rWpLVVVVqVZLVVWValVLVVWpVlVLVZVqVVVLValWVVVLlWpVVVVLqQIKAQEQ/wL2XgL/AAEAAQABAAkDAAACAQICAwABAQQBAQAMF70JGQIZEkkfGQK0F5BpXg4ZDy4i6U1F6DUqASfbu9LJXuhPPV9wGXiWA7CIwSF5fAbguxAAqaACwEN3TOpyAHbGGYURAADxUQA2TwF8lQpgZzkAa54CwJIQQDbr3KMLAVD3JAAYggVAEg1AnBTAIzQAeeYCyDG3V3EAxZkknAOw2iPpgGwCQABALgGbVYArCQFsJAWAmm0AO80BYPW0F7OEo4ynygGd0/MVAIDwUYCaVQApBy4CACAdTA5mgJ7IM4AoB+ISAIADQABALgEpB6IciEvgB4DYBCIdkHRgmQlIEg2AFgBA8gzAZhWgZhUg8gxgFgAgEg2ghhWgOIDiWBQCECcFwAgAgPgoAJaEAK4kBBA+CnARAIBwUoADT8ksS0gmaBcyO+WQ6WWRDAKoZJgpJCPUCxmeccj4qkjmYxsAD80E+JVhgIIBghKAi7WWlZWVlT/nxIZww04Nt20YVQV+xqAKhASAA4D0gAAAAAD/BwAAAAAgwUYrGMEAACDBAACgQQsEAQEBBBSJPzxDPAVYTvO/gRUBAlZBbgECWUgeAQLvQQwBAsBANwAAAJkAAAA=",
        "encoding": "base64",
        "path": [
         "scene_U1CMfKxZfSFBc3oHAPe1YDpAU",
         "drc"
        ]
       },
       {
        "data": "RFJBQ08CAgEBAAAAXLQBAbMBAAAtX9u2rWpLVVVVqVZLVVWValVLVVWpVlVLVZVqVVVLValWVVVLlWpVVVVLqQIKAQEQ/wL2XgL/AAEAAQABAAkDAAACAQICAwABAQQBAQAMF70JGQIZEkkfGQK0F5BpXg4ZDy4i6U1F6DUqASfbu9LJXuhPPV9wGXiWA7CIwSF5fAbguxAAqaACwEN3TOpyAHbGGYURAADxUQA2TwF8lQpgZzkAa54CwJIQQDbr3KMLAVD3JAAYggVAEg1AnBTAIzQAeeYCyDG3V3EAxZkknAOw2iPpgGwCQABALgGbVYArCQFsJAWAmm0AO80BYPW0F7OEo4ynygGd0/MVAIDwUYCaVQApBy4CACAdTA5mgJ7IM4AoB+ISAIADQABALgEpB6IciEvgB4DYBCIdkHRgmQlIEg2AFgBA8gzAZhWgZhUg8gxgFgAgEg2ghhWgOIDiWBQCECcFwAgAgPgoAJaEAK4kBBA+CnARAIBwUoADT8ksS0gmaBcyO+WQ6WWRDAKoZJgpJCPUCxmeccj4qkjmYxsAD80E+JVhgIIBghKAi7WWlZWVlT/nxIZww04Nt20YVQV+xqAKhASAA4D0gAAAAAD/BwAAAACAwHF4c8AAAIDAAAAAQQsEAQEBBBqJPzxbPAVk+u+vgRUBAlZBbgECWUgeAQLvQQwBAsBACgAAAEUAAAA=",
        "encoding": "base64",
        "path": [
         "scene_ULqQ9TQr8PZqwFTYlEgxg0vSH",
         "drc"
        ]
       },
       {
        "data": "RFJBQ08CAgEBAAAAXLQBAbMBAAAtX9u2rWpLVVVVqVZLVVWValVLVVWpVlVLVZVqVVVLValWVVVLlWpVVVVLqQIKAQEQ/wL2XgL/AAEAAQABAAkDAAACAQICAwABAQQBAQAMF70JGQIZEkkfGQK0F5BpXg4ZDy4i6U1F6DUqASfbu9LJXuhPPV9wGXiWA7CIwSF5fAbguxAAqaACwEN3TOpyAHbGGYURAADxUQA2TwF8lQpgZzkAa54CwJIQQDbr3KMLAVD3JAAYggVAEg1AnBTAIzQAeeYCyDG3V3EAxZkknAOw2iPpgGwCQABALgGbVYArCQFsJAWAmm0AO80BYPW0F7OEo4ynygGd0/MVAIDwUYCaVQApBy4CACAdTA5mgJ7IM4AoB+ISAIADQABALgEpB6IciEvgB4DYBCIdkHRgmQlIEg2AFgBA8gzAZhWgZhUg8gxgFgAgEg2ghhWgOIDiWBQCECcFwAgAgPgoAJaEAK4kBBA+CnARAIBwUoADT8ksS0gmaBcyO+WQ6WWRDAKoZJgpJCPUCxmeccj4qkjmYxsAD80E+JVhgIIBghKAi7WWlZWVlT/nxIZww04Nt20YVQV+xqAKhASAA4D0gAAAAAD/BwAAAACAwHF4c8AAAIDAAAAAQQsEAQEBBHeJPzz/zzwFWPeRs4EVAQJWQW4BAllIHgEC70EMAQLAQCUAAAD4AAAA",
        "encoding": "base64",
        "path": [
         "scene_UNlyNzeo70n3cLap05O43I0hJ",
         "drc"
        ]
       },
       {
        "data": "RFJBQ08CAgEBAAAAXLQBAbMBAAAtX9u2rWpLVVVVqVZLVVWValVLVVWpVlVLVZVqVVVLValWVVVLlWpVVVVLqQIKAQEQ/wL2XgL/AAEAAQABAAkDAAACAQICAwABAQQBAQAMF70JGQIZEkkfGQK0F5BpXg4ZDy4i6U1F6DUqASfbu9LJXuhPPV9wGXiWA7CIwSF5fAbguxAAT1kB0EN3TOpyAHbGGYURAADxUQA2TwF8lQpgZzkAa54CwJIQQDbr3KMLAVD3JAAYggVAEg1AnBTAIzQAO82NsdIdQHEAxclMzgGw+iPpgGwCQABALgGbVYArCQFsJAWAmm0AO80BUPW0F7OEo4ynygGd8/MVAIDwUYCaVQApBy4CACAdTA5mgJ/IM4AoB+ISAIAFQABALgEpB6IciEvgB4DYBCIdkHRgmclHEg2AFgBA8gzAZhWgZhUg8gxgFgAgEg2ghhWgOIDiWBQCECcFwAgAgPgoAJaEAK4kBBA+CnARAIBwUoADT8ksS0gmaBcyO+WQ6WWRDAKoZJgpJCPUCxmeccj4qkimvx8AD94DmOJGggGEEtR8RV4iJCQkCNeA4WSDIwVCaxhVBX7GoAqEBIADAPaAAAAAAP8HAAAAAHDB6kBkwQAAcMEAAPBBCwQBAQEEEYk/PDc8BVhd5L+BFQECVkFuAQJZSB4BAu9BDAECwECBAAAAxwAAAA==",
        "encoding": "base64",
        "path": [
         "scene_UP0PRstTyy2vi4lTdLEOIBm0k",
         "drc"
        ]
       },
       {
        "data": "RFJBQ08CAgEBAAAAXLQBAbMBAAAtX9u2rWpLVVVVqVZLVVWValVLVVWpVlVLVZVqVVVLValWVVVLlWpVVVVLqQIKAQEQ/wL2XgL/AAEAAQABAAkDAAACAQICAwABAQQBAQAMF70JGQIZEkkfGQK0F5BpXg4ZDy4i6U1F6DUqASfbu9LJXuhPPV9wGXiWA7CIwSF5fAbguxAAqaACwEN3TOpyAHbGGYURAADxUQA2TwF8lQpgZzkAa54CwJIQQDbr3KMLAVD3JAAYggVAEg1AnBTAIzQAeeYCyDG3V3EAxZkknAOw2iPpgGwCQABALgGbVYArCQFsJAWAmm0AO80BYPW0F7OEo4ynygGd0/MVAIDwUYCaVQApBy4CACAdTA5mgJ7IM4AoB+ISAIADQABALgEpB6IciEvgB4DYBCIdkHRgmQlIEg2AFgBA8gzAZhWgZhUg8gxgFgAgEg2ghhWgOIDiWBQCECcFwAgAgPgoAJaEAK4kBBA+CnARAIBwUoADT8ksS0gmaBcyO+WQ6WWRDAKoZJgpJCPUCxmeccj4qkjmYxsAD80E+JVhgIIBghKAi7WWlZWVlT/nxIZww04Nt20YVQV+xqAKhASAA4D0gAAAAAD/BwAAAAAQwb/zCMEAABDBAACQQQsEAQEBBBuJPzxfPAVY6KCzgRUBAlZBbgECWUgeAQLvQQwBAsBAvAAAAOEAAAA=",
        "encoding": "base64",
        "path": [
         "scene_UPF8HbA45ydGP9XLVUuuEuE3W",
         "drc"
        ]
       },
       {
        "data": "RFJBQ08CAgEBAAAAXLQBAbMBAAAtX9u2rWpLVVVVqVZLVVWValVLVVWpVlVLVZVqVVVLValWVVVLlWpVVVVLqQIKAQEQ/wL2XgL/AAEAAQABAAkDAAACAQICAwABAQQBAQAMF70JGQIZEkkfGQK0F5BpXg4ZDy4i6U1F6DUqASfbu9LJXuhPPV9wGXiWA7CIwSF5fAbguxAAqaACwEN3TOpyAHbGGYURAADxUQA2TwF8lQpgZzkAa54CwJIQQDbr3KMLAVD3JAAYggVAEg1AnBTAIzQAeeYCyDG3V3EAxZkknAOw2iPpgGwCQABALgGbVYArCQFsJAWAmm0AO80BYPW0F7OEo4ynygGd0/MVAIDwUYCaVQApBy4CACAdTA5mgJ7IM4AoB+ISAIADQABALgEpB6IciEvgB4DYBCIdkHRgmQlIEg2AFgBA8gzAZhWgZhUg8gxgFgAgEg2ghhWgOIDiWBQCECcFwAgAgPgoAJaEAK4kBBA+CnARAIBwUoADT8ksS0gmaBcyO+WQ6WWRDAKoZJgpJCPUCxmeccj4qkjmYxsAD80E+JVhgIIBghKAi7WWlZWVlT/nxIZww04Nt20YVQV+xqAKhASAA4D0gAAAAAD/BwAAAACgwEYrmMAAAKDAAAAgQQsEAQEBBGOJPzz/fzwFWOigs4EVAQJWQW4BAllIHgEC70EMAQLAQB4AAADLAAAA",
        "encoding": "base64",
        "path": [
         "scene_UaGCNXS3qE5RQJTQowmLge29A",
         "drc"
        ]
       },
       {
        "data": "RFJBQ08CAgEBAAAAXLQBAbMBAAAtX9u2rWpLVVVVqVZLVVWValVLVVWpVlVLVZVqVVVLValWVVVLlWpVVVVLqQIKAQEQ/wL2XgL/AAEAAQABAAkDAAACAQICAwABAQQBAQAMF70JGQIZEkkfGQK0F5BpXg4ZDy4i6U1F6DUqASfbu9LJXuhPPV9wGXiWA7CIwSF5fAbguxAAqaACwEN3TOpyAHbGGYURAADxUQA2TwF8lQpgZzkAa54CwJIQQDbr3KMLAVD3JAAYggVAEg1AnBTAIzQAeeYCyDG3V3EAxZkknAOw2iPpgGwCQABALgGbVYArCQFsJAWAmm0AO80BYPW0F7OEo4ynygGd0/MVAIDwUYCaVQApBy4CACAdTA5mgJ7IM4AoB+ISAIADQABALgEpB6IciEvgB4DYBCIdkHRgmQlIEg2AFgBA8gzAZhWgZhUg8gxgFgAgEg2ghhWgOIDiWBQCECcFwAgAgPgoAJaEAK4kBBA+CnARAIBwUoADT8ksS0gmaBcyO+WQ6WWRDAKoZJgpJCPUCxmeccj4qkjmYxsAD80E+JVhgIIBghKAi7WWlZWVlT/nxIZww04Nt20YVQV+xqAKhASAA4D0gAAAAAD/BwAAAACAv3F4c78AAIC/AAAAQAsEAQEBBAaJPzwLPAVk+u+vgRUBAlZBbgECWUgeAQLvQQwBAsBAxQAAANYAAAA=",
        "encoding": "base64",
        "path": [
         "scene_UoNFR1lX0o1jWrgENamNqkFdj",
         "drc"
        ]
       },
       {
        "data": "RFJBQ08CAgEBAAAAXLQBAbMBAAAtX9u2rWpLVVVVqVZLVVWValVLVVWpVlVLVZVqVVVLValWVVVLlWpVVVVLqQIKAQEQ/wL2XgL/AAEAAQABAAkDAAACAQICAwABAQQBAQAMF70JGQIZEkkfGQK0F5BpXg4ZDy4i6U1F6DUqASfbu9LJXuhPPV9wGXiWA7CIwSF5fAbguxAAqaACwEN3TOpyAHbGGYURAADxUQA2TwF8lQpgZzkAa54CwJIQQDbr3KMLAVD3JAAYggVAEg1AnBTAIzQAeeYCyDG3V3EAxZkknAOw2iPpgGwCQABALgGbVYArCQFsJAWAmm0AO80BYPW0F7OEo4ynygGd0/MVAIDwUYCaVQApBy4CACAdTA5mgJ7IM4AoB+ISAIADQABALgEpB6IciEvgB4DYBCIdkHRgmQlIEg2AFgBA8gzAZhWgZhUg8gxgFgAgEg2ghhWgOIDiWBQCECcFwAgAgPgoAJaEAK4kBBA+CnARAIBwUoADT8ksS0gmaBcyO+WQ6WWRDAKoZJgpJCPUCxmeccj4qkjmYxsAD80E+JVhgIIBghKAi7WWlZWVlT/nxIZww04Nt20YVQV+xqAKhASAA4D0gAAAAAD/BwAAAADAwFSatsAAAMDAAABAQQsEAQEBBC+JPzyvPAVYTvO/gRUBAlZBbgECWUgeAQLvQQwBAsBAQgAAAPQAAAA=",
        "encoding": "base64",
        "path": [
         "scene_VHn2QSjFVKhz1FtYB9RcNnvLG",
         "drc"
        ]
       },
       {
        "data": "RFJBQ08CAgEBAAAAXLQBAbMBAAAtX9u2rWpLVVVVqVZLVVWValVLVVWpVlVLVZVqVVVLValWVVVLlWpVVVVLqQIKAQEQ/wL2XgL/AAEAAQABAAkDAAACAQICAwABAQQBAQAMF70JGQIZEkkfGQK0F5BpXg4ZDy4i6U1F6DUqASfbu9LJXuhPPV9wGXiWA7CIwSF5fAbguxAAqaACwEN3TOpyAHbGGYURAADxUQA2TwF8lQpgZzkAa54CwJIQQDbr3KMLAVD3JAAYggVAEg1AnBTAIzQAeeYCyDG3V3EAxZkknAOw2iPpgGwCQABALgGbVYArCQFsJAWAmm0AO80BYPW0F7OEo4ynygGd0/MVAIDwUYCaVQApBy4CACAdTA5mgJ7IM4AoB+ISAIADQABALgEpB6IciEvgB4DYBCIdkHRgmQlIEg2AFgBA8gzAZhWgZhUg8gxgFgAgEg2ghhWgOIDiWBQCECcFwAgAgPgoAJaEAK4kBBA+CnARAIBwUoADT8ksS0gmaBcyO+WQ6WWRDAKoZJgpJCPUCxmeccj4qkjmYxsAD80E+JVhgIIBghKAi7WWlZWVlT/nxIZww04Nt20YVQV+xqAKhASAA4D0gAAAAAD/BwAAAACQwb/ziMEAAJDBAAAQQgsEAQEBBIYBiT88//8LPAVYTvO/gRUBAlZBbgECWUgeAQLvQQwBAsBANAAAAO4AAAA=",
        "encoding": "base64",
        "path": [
         "scene_VJOvh2G4tsK48dH0OlGtI8DTz",
         "drc"
        ]
       },
       {
        "data": "RFJBQ08CAgEBAAAAXLQBAbMBAAAtX9u2rWpLVVVVqVZLVVWValVLVVWpVlVLVZVqVVVLValWVVVLlWpVVVVLqQIKAQEQ/wL2XgL/AAEAAQABAAkDAAACAQICAwABAQQBAQAMF70JGQIZEkkfGQK0F5BpXg4ZDy4i6U1F6DUqASfbu9LJXuhPPV9wGXiWA7CIwSF5fAbguxAAqaACwEN3TOpyAHbGGYURAADxUQA2TwF8lQpgZzkAa54CwJIQQDbr3KMLAVD3JAAYggVAEg1AnBTAIzQAeeYCyDG3V3EAxZkknAOw2iPpgGwCQABALgGbVYArCQFsJAWAmm0AO80BYPW0F7OEo4ynygGd0/MVAIDwUYCaVQApBy4CACAdTA5mgJ7IM4AoB+ISAIADQABALgEpB6IciEvgB4DYBCIdkHRgmQlIEg2AFgBA8gzAZhWgZhUg8gxgFgAgEg2ghhWgOIDiWBQCECcFwAgAgPgoAJaEAK4kBBA+CnARAIBwUoADT8ksS0gmaBcyO+WQ6WWRDAKoZJgpJCPUCxmeccj4qkjmYxsAD80E+JVhgIIBghKAi7WWlZWVlT/nxIZww04Nt20YVQV+xqAKhASAA4D0gAAAAAD/BwAAAAAAwXF488AAAADBAACAQQsEAQEBBBmJPzxXPAVYTvO/gRUBAlZBbgECWUgeAQLvQQwBAsBAnwAAAOcAAAA=",
        "encoding": "base64",
        "path": [
         "scene_VTFRFAE9JKvlJgYNJ5duQESZT",
         "drc"
        ]
       },
       {
        "data": "RFJBQ08CAgEBAAAAXLQBAbMBAAAtX9u2rWpLVVVVqVZLVVWValVLVVWpVlVLVZVqVVVLValWVVVLlWpVVVVLqQIKAQEQ/wL2XgL/AAEAAQABAAkDAAACAQICAwABAQQBAQAMF70JGQIZEkkfGQK0F5BpXg4ZDy4i6U1F6DUqASfbu9LJXuhPPV9wGXiWA7CIwSF5fAbguxAAqaACwEN3TOpyAHbGGYURAADxUQA2TwF8lQpgZzkAa54CwJIQQDbr3KMLAVD3JAAYggVAEg1AnBTAIzQAeeYCyDG3V3EAxZkknAOw2iPpgGwCQABALgGbVYArCQFsJAWAmm0AO80BYPW0F7OEo4ynygGd0/MVAIDwUYCaVQApBy4CACAdTA5mgJ7IM4AoB+ISAIADQABALgEpB6IciEvgB4DYBCIdkHRgmQlIEg2AFgBA8gzAZhWgZhUg8gxgFgAgEg2ghhWgOIDiWBQCECcFwAgAgPgoAJaEAK4kBBA+CnARAIBwUoADT8ksS0gmaBcyO+WQ6WWRDAKoZJgpJCPUCxmeccj4qkjmYxsAD80E+JVhgIIBghKAi7WWlZWVlT/nxIZww04Nt20YVQV+xqAKhASAA4D0gAAAAAD/BwAAAAAQwb/zCMEAABDBAACQQQsEAQEBBAaJPzwLPAVk+u+vgRUBAlZBbgECWUgeAQLvQQwBAsBAXwAAANEAAAA=",
        "encoding": "base64",
        "path": [
         "scene_VXKHo3aLc18l9OPzcGsIFdbJg",
         "drc"
        ]
       },
       {
        "data": "RFJBQ08CAgEBAAAAXLQBAbMBAAAtX9u2rWpLVVVVqVZLVVWValVLVVWpVlVLVZVqVVVLValWVVVLlWpVVVVLqQIKAQEQ/wL2XgL/AAEAAQABAAkDAAACAQICAwABAQQBAQAMF70JGQIZEkkfGQK0F5BpXg4ZDy4i6U1F6DUqASfbu9LJXuhPPV9wGXiWA7CIwSF5fAbguxAAqaACwEN3TOpyAHbGGYURAADxUQA2TwF8lQpgZzkAa54CwJIQQDbr3KMLAVD3JAAYggVAEg1AnBTAIzQAeeYCyDG3V3EAxZkknAOw2iPpgGwCQABALgGbVYArCQFsJAWAmm0AO80BYPW0F7OEo4ynygGd0/MVAIDwUYCaVQApBy4CACAdTA5mgJ7IM4AoB+ISAIADQABALgEpB6IciEvgB4DYBCIdkHRgmQlIEg2AFgBA8gzAZhWgZhUg8gxgFgAgEg2ghhWgOIDiWBQCECcFwAgAgPgoAJaEAK4kBBA+CnARAIBwUoADT8ksS0gmaBcyO+WQ6WWRDAKoZJgpJCPUCxmeccj4qkjmYxsAD80E+JVhgIIBghKAi7WWlZWVlT/nxIZww04Nt20YVQV+xqAKhASAA4D0gAAAAAD/BwAAAACIwfxXgcEAAIjBAAAIQgsEAQEBBCmJPzyXPAVY6KCzgRUBAlZBbgECWUgeAQLvQQwBAsBAPwAAAIgAAAA=",
        "encoding": "base64",
        "path": [
         "scene_W720CnVyahw4uH9dSbwk9Xk39",
         "drc"
        ]
       },
       {
        "data": "RFJBQ08CAgEBAAAAXLQBAbMBAAAtX9u2rWpLVVVVqVZLVVWValVLVVWpVlVLVZVqVVVLValWVVVLlWpVVVVLqQIKAQEQ/wL2XgL/AAEAAQABAAkDAAACAQICAwABAQQBAQAMF70JGQIZEkkfGQK0F5BpXg4ZDy4i6U1F6DUqASfbu9LJXuhPPV9wGXiWA7CIwSF5fAbguxAAqaACwEN3TOpyAHbGGYURAADxUQA2TwF8lQpgZzkAa54CwJIQQDbr3KMLAVD3JAAYggVAEg1AnBTAIzQAeeYCyDG3V3EAxZkknAOw2iPpgGwCQABALgGbVYArCQFsJAWAmm0AO80BYPW0F7OEo4ynygGd0/MVAIDwUYCaVQApBy4CACAdTA5mgJ7IM4AoB+ISAIADQABALgEpB6IciEvgB4DYBCIdkHRgmQlIEg2AFgBA8gzAZhWgZhUg8gxgFgAgEg2ghhWgOIDiWBQCECcFwAgAgPgoAJaEAK4kBBA+CnARAIBwUoADT8ksS0gmaBcyO+WQ6WWRDAKoZJgpJCPUCxmeccj4qkjmYxsAD80E+JVhgIIBghKAi7WWlZWVlT/nxIZww04Nt20YVQV+xqAKhASAA4D0gAAAAAD/BwAAAACAwXF4c8EAAIDBAAAAQgsEAQEBBCOJPzx/PAVY6KCzgRUBAlZBbgECWUgeAQLvQQwBAsBAdgAAANUAAAA=",
        "encoding": "base64",
        "path": [
         "scene_WOKbsOjLTon5BiHnT1rrBFe3V",
         "drc"
        ]
       },
       {
        "data": "RFJBQ08CAgEBAAAAXLQBAbMBAAAtX9u2rWpLVVVVqVZLVVWValVLVVWpVlVLVZVqVVVLValWVVVLlWpVVVVLqQIKAQEQ/wL2XgL/AAEAAQABAAkDAAACAQICAwABAQQBAQAMF70JGQIZEkkfGQK0F5BpXg4ZDy4i6U1F6DUqASfbu9LJXuhPPV9wGXiWA7CIwSF5fAbguxAAqaACwEN3TOpyAHbGGYURAADxUQA2TwF8lQpgZzkAa54CwJIQQDbr3KMLAVD3JAAYggVAEg1AnBTAIzQAeeYCyDG3V3EAxZkknAOw2iPpgGwCQABALgGbVYArCQFsJAWAmm0AO80BYPW0F7OEo4ynygGd0/MVAIDwUYCaVQApBy4CACAdTA5mgJ7IM4AoB+ISAIADQABALgEpB6IciEvgB4DYBCIdkHRgmQlIEg2AFgBA8gzAZhWgZhUg8gxgFgAgEg2ghhWgOIDiWBQCECcFwAgAgPgoAJaEAK4kBBA+CnARAIBwUoADT8ksS0gmaBcyO+WQ6WWRDAKoZJgpJCPUCxmeccj4qkjmYxsAD80E+JVhgIIBghKAi7WWlZWVlT/nxIZww04Nt20YVQV+xqAKhASAA4D0gAAAAAD/BwAAAAAQwb/zCMEAABDBAACQQQsEAQEBBG2JPzz/pzwFZPrvr4EVAQJWQW4BAllIHgEC70EMAQLAQBsAAADrAAAA",
        "encoding": "base64",
        "path": [
         "scene_WUOPI3tktxnauqtlenfAgh4CA",
         "drc"
        ]
       },
       {
        "data": "RFJBQ08CAgEBAAAAXLQBAbMBAAAtX9u2rWpLVVVVqVZLVVWValVLVVWpVlVLVZVqVVVLValWVVVLlWpVVVVLqQIKAQEQ/wL2XgL/AAEAAQABAAkDAAACAQICAwABAQQBAQAMF70JGQIZEkkfGQK0F5BpXg4ZDy4i6U1F6DUqASfbu9LJXuhPPV9wGXiWA7CIwSF5fAbguxAAqaACwEN3TOpyAHbGGYURAADxUQA2TwF8lQpgZzkAa54CwJIQQDbr3KMLAVD3JAAYggVAEg1AnBTAIzQAeeYCyDG3V3EAxZkknAOw2iPpgGwCQABALgGbVYArCQFsJAWAmm0AO80BYPW0F7OEo4ynygGd0/MVAIDwUYCaVQApBy4CACAdTA5mgJ7IM4AoB+ISAIADQABALgEpB6IciEvgB4DYBCIdkHRgmQlIEg2AFgBA8gzAZhWgZhUg8gxgFgAgEg2ghhWgOIDiWBQCECcFwAgAgPgoAJaEAK4kBBA+CnARAIBwUoADT8ksS0gmaBcyO+WQ6WWRDAKoZJgpJCPUCxmeccj4qkjmYxsAD80E+JVhgIIBghKAi7WWlZWVlT/nxIZww04Nt20YVQV+xqAKhASAA4D0gAAAAAD/BwAAAAAAwXF488AAAADBAACAQQsEAQEBBASJPzwDPAVk6/6vgRUBAlZBbgECWUgeAQLvQQwBAsBArAAAAMcAAAA=",
        "encoding": "base64",
        "path": [
         "scene_WaQuBcUxaxgcrlKwJdOg22DHr",
         "drc"
        ]
       },
       {
        "data": "RFJBQ08CAgEBAAAAXLQBAbMBAAAtX9u2rWpLVVVVqVZLVVWValVLVVWpVlVLVZVqVVVLValWVVVLlWpVVVVLqQIKAQEQ/wL2XgL/AAEAAQABAAkDAAACAQICAwABAQQBAQAMF70JGQIZEkkfGQK0F5BpXg4ZDy4i6U1F6DUqASfbu9LJXuhPPV9wGXiWA7CIwSF5fAbguxAAT1kB0EN3TOpyAHbGGYURAADxUQA2TwF8lQpgZzkAa54CwJIQQDbr3KMLAVD3JAAYggVAEg1AnBTAIzQAO82NsdIdQHEAxclMzgGw+iPpgGwCQABALgGbVYArCQFsJAWAmm0AO80BUPW0F7OEo4ynygGd8/MVAIDwUYCaVQApBy4CACAdTA5mgJ/IM4AoB+ISAIAFQABALgEpB6IciEvgB4DYBCIdkHRgmclHEg2AFgBA8gzAZhWgZhUg8gxgFgAgEg2ghhWgOIDiWBQCECcFwAgAgPgoAJaEAK4kBBA+CnARAIBwUoADT8ksS0gmaBcyO+WQ6WWRDAKoZJgpJCPUCxmeccj4qkimvx8AD94DmOJGggGEEtR8RV4iJCQkCNeA4WSDIwVCaxhVBX7GoAqEBIADAPaAAAAAAP8HAAAAAODAYwnVwAAA4MAAAGBBCwQBAQEEbok/PP+rPAVY6KCzgRUBAlZBbgECWUgeAQLvQQwBAsBAcgAAAPwAAAA=",
        "encoding": "base64",
        "path": [
         "scene_Wcgjeb8AZ1VIHkGBYWVHAgRjB",
         "drc"
        ]
       },
       {
        "data": "RFJBQ08CAgEBAAAAXLQBAbMBAAAtX9u2rWpLVVVVqVZLVVWValVLVVWpVlVLVZVqVVVLValWVVVLlWpVVVVLqQIKAQEQ/wL2XgL/AAEAAQABAAkDAAACAQICAwABAQQBAQAMF70JGQIZEkkfGQK0F5BpXg4ZDy4i6U1F6DUqASfbu9LJXuhPPV9wGXiWA7CIwSF5fAbguxAAqaACwEN3TOpyAHbGGYURAADxUQA2TwF8lQpgZzkAa54CwJIQQDbr3KMLAVD3JAAYggVAEg1AnBTAIzQAeeYCyDG3V3EAxZkknAOw2iPpgGwCQABALgGbVYArCQFsJAWAmm0AO80BYPW0F7OEo4ynygGd0/MVAIDwUYCaVQApBy4CACAdTA5mgJ7IM4AoB+ISAIADQABALgEpB6IciEvgB4DYBCIdkHRgmQlIEg2AFgBA8gzAZhWgZhUg8gxgFgAgEg2ghhWgOIDiWBQCECcFwAgAgPgoAJaEAK4kBBA+CnARAIBwUoADT8ksS0gmaBcyO+WQ6WWRDAKoZJgpJCPUCxmeccj4qkjmYxsAD80E+JVhgIIBghKAi7WWlZWVlT/nxIZww04Nt20YVQV+xqAKhASAA4D0gAAAAAD/BwAAAAAwwc1iJ8EAADDBAACwQQsEAQEBBGWJPzz/hzwFWE7zv4EVAQJWQW4BAllIHgEC70EMAQLAQIkAAADzAAAA",
        "encoding": "base64",
        "path": [
         "scene_WllazMvHgIiS48wCbMeuDTf4I",
         "drc"
        ]
       },
       {
        "data": "RFJBQ08CAgEBAAAAXLQBAbMBAAAtX9u2rWpLVVVVqVZLVVWValVLVVWpVlVLVZVqVVVLValWVVVLlWpVVVVLqQIKAQEQ/wL2XgL/AAEAAQABAAkDAAACAQICAwABAQQBAQAMF70JGQIZEkkfGQK0F5BpXg4ZDy4i6U1F6DUqASfbu9LJXuhPPV9wGXiWA7CIwSF5fAbguxAAqaACwEN3TOpyAHbGGYURAADxUQA2TwF8lQpgZzkAa54CwJIQQDbr3KMLAVD3JAAYggVAEg1AnBTAIzQAeeYCyDG3V3EAxZkknAOw2iPpgGwCQABALgGbVYArCQFsJAWAmm0AO80BYPW0F7OEo4ynygGd0/MVAIDwUYCaVQApBy4CACAdTA5mgJ7IM4AoB+ISAIADQABALgEpB6IciEvgB4DYBCIdkHRgmQlIEg2AFgBA8gzAZhWgZhUg8gxgFgAgEg2ghhWgOIDiWBQCECcFwAgAgPgoAJaEAK4kBBA+CnARAIBwUoADT8ksS0gmaBcyO+WQ6WWRDAKoZJgpJCPUCxmeccj4qkjmYxsAD80E+JVhgIIBghKAi7WWlZWVlT/nxIZww04Nt20YVQV+xqAKhASAA4D0gAAAAAD/BwAAAAAwwc1iJ8EAADDBAACwQQsEAQEBBLgBiT88///TPAVY95GzgRUBAlZBbgECWUgeAQLvQQwBAsBANAAAAPYAAAA=",
        "encoding": "base64",
        "path": [
         "scene_XJtt4merqUe5hf32pQxKC9z3f",
         "drc"
        ]
       },
       {
        "data": "RFJBQ08CAgEBAAAAXLQBAbMBAAAtX9u2rWpLVVVVqVZLVVWValVLVVWpVlVLVZVqVVVLValWVVVLlWpVVVVLqQIKAQEQ/wL2XgL/AAEAAQABAAkDAAACAQICAwABAQQBAQAMF70JGQIZEkkfGQK0F5BpXg4ZDy4i6U1F6DUqASfbu9LJXuhPPV9wGXiWA7CIwSF5fAbguxAAqaACwEN3TOpyAHbGGYURAADxUQA2TwF8lQpgZzkAa54CwJIQQDbr3KMLAVD3JAAYggVAEg1AnBTAIzQAeeYCyDG3V3EAxZkknAOw2iPpgGwCQABALgGbVYArCQFsJAWAmm0AO80BYPW0F7OEo4ynygGd0/MVAIDwUYCaVQApBy4CACAdTA5mgJ7IM4AoB+ISAIADQABALgEpB6IciEvgB4DYBCIdkHRgmQlIEg2AFgBA8gzAZhWgZhUg8gxgFgAgEg2ghhWgOIDiWBQCECcFwAgAgPgoAJaEAK4kBBA+CnARAIBwUoADT8ksS0gmaBcyO+WQ6WWRDAKoZJgpJCPUCxmeccj4qkjmYxsAD80E+JVhgIIBghKAi7WWlZWVlT/nxIZww04Nt20YVQV+xqAKhASAA4D0gAAAAAD/BwAAAACYwYOPkMEAAJjBAAAYQgsEAQEBBBiJPzxTPAVY6KCzgRUBAlZBbgECWUgeAQLvQQwBAsBADAAAANMAAAA=",
        "encoding": "base64",
        "path": [
         "scene_XY9EWQYKf8inhrc89pOTbYYhJ",
         "drc"
        ]
       },
       {
        "data": "RFJBQ08CAgEBAAAAXLQBAbMBAAAtX9u2rWpLVVVVqVZLVVWValVLVVWpVlVLVZVqVVVLValWVVVLlWpVVVVLqQIKAQEQ/wL2XgL/AAEAAQABAAkDAAACAQICAwABAQQBAQAMF70JGQIZEkkfGQK0F5BpXg4ZDy4i6U1F6DUqASfbu9LJXuhPPV9wGXiWA7CIwSF5fAbguxAAqaACwEN3TOpyAHbGGYURAADxUQA2TwF8lQpgZzkAa54CwJIQQDbr3KMLAVD3JAAYggVAEg1AnBTAIzQAeeYCyDG3V3EAxZkknAOw2iPpgGwCQABALgGbVYArCQFsJAWAmm0AO80BYPW0F7OEo4ynygGd0/MVAIDwUYCaVQApBy4CACAdTA5mgJ7IM4AoB+ISAIADQABALgEpB6IciEvgB4DYBCIdkHRgmQlIEg2AFgBA8gzAZhWgZhUg8gxgFgAgEg2ghhWgOIDiWBQCECcFwAgAgPgoAJaEAK4kBBA+CnARAIBwUoADT8ksS0gmaBcyO+WQ6WWRDAKoZJgpJCPUCxmeccj4qkjmYxsAD80E+JVhgIIBghKAi7WWlZWVlT/nxIZww04Nt20YVQV+xqAKhASAA4D0gAAAAAD/BwAAAACAwXF4c8EAAIDBAAAAQgsEAQEBBDCJPzyzPAVk+u+vgRUBAlZBbgECWUgeAQLvQQwBAsBAMQAAAPUAAAA=",
        "encoding": "base64",
        "path": [
         "scene_YMqrKeddmOC019w9aqGwXmtH7",
         "drc"
        ]
       },
       {
        "data": "RFJBQ08CAgEBAAAAXLQBAbMBAAAtX9u2rWpLVVVVqVZLVVWValVLVVWpVlVLVZVqVVVLValWVVVLlWpVVVVLqQIKAQEQ/wL2XgL/AAEAAQABAAkDAAACAQICAwABAQQBAQAMF70JGQIZEkkfGQK0F5BpXg4ZDy4i6U1F6DUqASfbu9LJXuhPPV9wGXiWA7CIwSF5fAbguxAAT1kB0EN3TOpyAHbGGYURAADxUQA2TwF8lQpgZzkAa54CwJIQQDbr3KMLAVD3JAAYggVAEg1AnBTAIzQAO82NsdIdQHEAxclMzgGw+iPpgGwCQABALgGbVYArCQFsJAWAmm0AO80BUPW0F7OEo4ynygGd8/MVAIDwUYCaVQApBy4CACAdTA5mgJ/IM4AoB+ISAIAFQABALgEpB6IciEvgB4DYBCIdkHRgmclHEg2AFgBA8gzAZhWgZhUg8gxgFgAgEg2ghhWgOIDiWBQCECcFwAgAgPgoAJaEAK4kBBA+CnARAIBwUoADT8ksS0gmaBcyO+WQ6WWRDAKoZJgpJCPUCxmeccj4qkimvx8AD94DmOJGggGEEtR8RV4iJCQkCNeA4WSDIwVCaxhVBX7GoAqEBIADAPaAAAAAAP8HAAAAAHDB6kBkwQAAcMEAAPBBCwQBAQEEc4k/PP+/PAVk6/6vgRUBAlZBbgECWUgeAQLvQQwBAsBADAAAAOgAAAA=",
        "encoding": "base64",
        "path": [
         "scene_YUtZg9vtoNKYQiu8ELzvt0CXK",
         "drc"
        ]
       },
       {
        "data": "RFJBQ08CAgEBAAAAXLQBAbMBAAAtX9u2rWpLVVVVqVZLVVWValVLVVWpVlVLVZVqVVVLValWVVVLlWpVVVVLqQIKAQEQ/wL2XgL/AAEAAQABAAkDAAACAQICAwABAQQBAQAMF70JGQIZEkkfGQK0F5BpXg4ZDy4i6U1F6DUqASfbu9LJXuhPPV9wGXiWA7CIwSF5fAbguxAAqaACwEN3TOpyAHbGGYURAADxUQA2TwF8lQpgZzkAa54CwJIQQDbr3KMLAVD3JAAYggVAEg1AnBTAIzQAeeYCyDG3V3EAxZkknAOw2iPpgGwCQABALgGbVYArCQFsJAWAmm0AO80BYPW0F7OEo4ynygGd0/MVAIDwUYCaVQApBy4CACAdTA5mgJ7IM4AoB+ISAIADQABALgEpB6IciEvgB4DYBCIdkHRgmQlIEg2AFgBA8gzAZhWgZhUg8gxgFgAgEg2ghhWgOIDiWBQCECcFwAgAgPgoAJaEAK4kBBA+CnARAIBwUoADT8ksS0gmaBcyO+WQ6WWRDAKoZJgpJCPUCxmeccj4qkjmYxsAD80E+JVhgIIBghKAi7WWlZWVlT/nxIZww04Nt20YVQV+xqAKhASAA4D0gAAAAAD/BwAAAAAQwb/zCMEAABDBAACQQQsEAQEBBDWJPzzHPAVYXeS/gRUBAlZBbgECWUgeAQLvQQwBAsBARAAAANwAAAA=",
        "encoding": "base64",
        "path": [
         "scene_YdY12KYi58T7YYBFW3QkwIY40",
         "drc"
        ]
       },
       {
        "data": "RFJBQ08CAgEBAAAAXLQBAbMBAAAtX9u2rWpLVVVVqVZLVVWValVLVVWpVlVLVZVqVVVLValWVVVLlWpVVVVLqQIKAQEQ/wL2XgL/AAEAAQABAAkDAAACAQICAwABAQQBAQAMF70JGQIZEkkfGQK0F5BpXg4ZDy4i6U1F6DUqASfbu9LJXuhPPV9wGXiWA7CIwSF5fAbguxAAqaACwEN3TOpyAHbGGYURAADxUQA2TwF8lQpgZzkAa54CwJIQQDbr3KMLAVD3JAAYggVAEg1AnBTAIzQAeeYCyDG3V3EAxZkknAOw2iPpgGwCQABALgGbVYArCQFsJAWAmm0AO80BYPW0F7OEo4ynygGd0/MVAIDwUYCaVQApBy4CACAdTA5mgJ7IM4AoB+ISAIADQABALgEpB6IciEvgB4DYBCIdkHRgmQlIEg2AFgBA8gzAZhWgZhUg8gxgFgAgEg2ghhWgOIDiWBQCECcFwAgAgPgoAJaEAK4kBBA+CnARAIBwUoADT8ksS0gmaBcyO+WQ6WWRDAKoZJgpJCPUCxmeccj4qkjmYxsAD80E+JVhgIIBghKAi7WWlZWVlT/nxIZww04Nt20YVQV+xqAKhASAA4D0gAAAAAD/BwAAAACAwXF4c8EAAIDBAAAAQgsEAQEBBAqJPzwbPAVk+u+vgRUBAlZBbgECWUgeAQLvQQwBAsBAbQAAAKcAAAA=",
        "encoding": "base64",
        "path": [
         "scene_YlhQqMciFbz7lniefXyiN4KOg",
         "drc"
        ]
       },
       {
        "data": "RFJBQ08CAgEBAAAAXLQBAbMBAAAtX9u2rWpLVVVVqVZLVVWValVLVVWpVlVLVZVqVVVLValWVVVLlWpVVVVLqQIKAQEQ/wL2XgL/AAEAAQABAAkDAAACAQICAwABAQQBAQAMF70JGQIZEkkfGQK0F5BpXg4ZDy4i6U1F6DUqASfbu9LJXuhPPV9wGXiWA7CIwSF5fAbguxAAqaACwEN3TOpyAHbGGYURAADxUQA2TwF8lQpgZzkAa54CwJIQQDbr3KMLAVD3JAAYggVAEg1AnBTAIzQAeeYCyDG3V3EAxZkknAOw2iPpgGwCQABALgGbVYArCQFsJAWAmm0AO80BYPW0F7OEo4ynygGd0/MVAIDwUYCaVQApBy4CACAdTA5mgJ7IM4AoB+ISAIADQABALgEpB6IciEvgB4DYBCIdkHRgmQlIEg2AFgBA8gzAZhWgZhUg8gxgFgAgEg2ghhWgOIDiWBQCECcFwAgAgPgoAJaEAK4kBBA+CnARAIBwUoADT8ksS0gmaBcyO+WQ6WWRDAKoZJgpJCPUCxmeccj4qkjmYxsAD80E+JVhgIIBghKAi7WWlZWVlT/nxIZww04Nt20YVQV+xqAKhASAA4D0gAAAAAD/BwAAAACAwHF4c8AAAIDAAAAAQQsEAQEBBDGJPzy3PAVY95GzgRUBAlZBbgECWUgeAQLvQQwBAsBABwAAAGQAAAA=",
        "encoding": "base64",
        "path": [
         "scene_Yznebu4Weom8KH6P7NmXSzzMV",
         "drc"
        ]
       },
       {
        "data": "RFJBQ08CAgEBAAAAXLQBAbMBAAAtX9u2rWpLVVVVqVZLVVWValVLVVWpVlVLVZVqVVVLValWVVVLlWpVVVVLqQIKAQEQ/wL2XgL/AAEAAQABAAkDAAACAQICAwABAQQBAQAMF70JGQIZEkkfGQK0F5BpXg4ZDy4i6U1F6DUqASfbu9LJXuhPPV9wGXiWA7CIwSF5fAbguxAAT1kB0EN3TOpyAHbGGYURAADxUQA2TwF8lQpgZzkAa54CwJIQQDbr3KMLAVD3JAAYggVAEg1AnBTAIzQAO82NsdIdQHEAxclMzgGw+iPpgGwCQABALgGbVYArCQFsJAWAmm0AO80BUPW0F7OEo4ynygGd8/MVAIDwUYCaVQApBy4CACAdTA5mgJ/IM4AoB+ISAIAFQABALgEpB6IciEvgB4DYBCIdkHRgmclHEg2AFgBA8gzAZhWgZhUg8gxgFgAgEg2ghhWgOIDiWBQCECcFwAgAgPgoAJaEAK4kBBA+CnARAIBwUoADT8ksS0gmaBcyO+WQ6WWRDAKoZJgpJCPUCxmeccj4qkimvx8AD94DmOJGggGEEtR8RV4iJCQkCNeA4WSDIwVCaxhVBX7GoAqEBIADAPaAAAAAAP8HAAAAAFDB29FFwQAAUMEAANBBCwQBAQEEJok/PIs8BVj3kbOBFQECVkFuAQJZSB4BAu9BDAECwEAVAAAAuAAAAA==",
        "encoding": "base64",
        "path": [
         "scene_ZEdD4jFlHcSTBmrIVzyPnfkF0",
         "drc"
        ]
       },
       {
        "data": "RFJBQ08CAgEBAAAAXLQBAbMBAAAtX9u2rWpLVVVVqVZLVVWValVLVVWpVlVLVZVqVVVLValWVVVLlWpVVVVLqQIKAQEQ/wL2XgL/AAEAAQABAAkDAAACAQICAwABAQQBAQAMF70JGQIZEkkfGQK0F5BpXg4ZDy4i6U1F6DUqASfbu9LJXuhPPV9wGXiWA7CIwSF5fAbguxAAqaACwEN3TOpyAHbGGYURAADxUQA2TwF8lQpgZzkAa54CwJIQQDbr3KMLAVD3JAAYggVAEg1AnBTAIzQAeeYCyDG3V3EAxZkknAOw2iPpgGwCQABALgGbVYArCQFsJAWAmm0AO80BYPW0F7OEo4ynygGd0/MVAIDwUYCaVQApBy4CACAdTA5mgJ7IM4AoB+ISAIADQABALgEpB6IciEvgB4DYBCIdkHRgmQlIEg2AFgBA8gzAZhWgZhUg8gxgFgAgEg2ghhWgOIDiWBQCECcFwAgAgPgoAJaEAK4kBBA+CnARAIBwUoADT8ksS0gmaBcyO+WQ6WWRDAKoZJgpJCPUCxmeccj4qkjmYxsAD80E+JVhgIIBghKAi7WWlZWVlT/nxIZww04Nt20YVQV+xqAKhASAA4D0gAAAAAD/BwAAAAAwwc1iJ8EAADDBAACwQQsEAQEBBFWJPzz/RzwFZPrvr4EVAQJWQW4BAllIHgEC70EMAQLAQEsAAADaAAAA",
        "encoding": "base64",
        "path": [
         "scene_ZJmCcOP3VlNLtG8Y5kXHhvCTj",
         "drc"
        ]
       },
       {
        "data": "RFJBQ08CAgEBAAAAXLQBAbMBAAAtX9u2rWpLVVVVqVZLVVWValVLVVWpVlVLVZVqVVVLValWVVVLlWpVVVVLqQIKAQEQ/wL2XgL/AAEAAQABAAkDAAACAQICAwABAQQBAQAMF70JGQIZEkkfGQK0F5BpXg4ZDy4i6U1F6DUqASfbu9LJXuhPPV9wGXiWA7CIwSF5fAbguxAAqaACwEN3TOpyAHbGGYURAADxUQA2TwF8lQpgZzkAa54CwJIQQDbr3KMLAVD3JAAYggVAEg1AnBTAIzQAeeYCyDG3V3EAxZkknAOw2iPpgGwCQABALgGbVYArCQFsJAWAmm0AO80BYPW0F7OEo4ynygGd0/MVAIDwUYCaVQApBy4CACAdTA5mgJ7IM4AoB+ISAIADQABALgEpB6IciEvgB4DYBCIdkHRgmQlIEg2AFgBA8gzAZhWgZhUg8gxgFgAgEg2ghhWgOIDiWBQCECcFwAgAgPgoAJaEAK4kBBA+CnARAIBwUoADT8ksS0gmaBcyO+WQ6WWRDAKoZJgpJCPUCxmeccj4qkjmYxsAD80E+JVhgIIBghKAi7WWlZWVlT/nxIZww04Nt20YVQV+xqAKhASAA4D0gAAAAAD/BwAAAAAwwc1iJ8EAADDBAACwQQsEAQEBBAyJPzwjPAVk+u+vgRUBAlZBbgECWUgeAQLvQQwBAsBA0gAAAOwAAAA=",
        "encoding": "base64",
        "path": [
         "scene_ZK6O0VKYwQ1PpWB9Ow5Czoq8r",
         "drc"
        ]
       },
       {
        "data": "RFJBQ08CAgEBAAAAXLQBAbMBAAAtX9u2rWpLVVVVqVZLVVWValVLVVWpVlVLVZVqVVVLValWVVVLlWpVVVVLqQIKAQEQ/wL2XgL/AAEAAQABAAkDAAACAQICAwABAQQBAQAMF70JGQIZEkkfGQK0F5BpXg4ZDy4i6U1F6DUqASfbu9LJXuhPPV9wGXiWA7CIwSF5fAbguxAAqaACwEN3TOpyAHbGGYURAADxUQA2TwF8lQpgZzkAa54CwJIQQDbr3KMLAVD3JAAYggVAEg1AnBTAIzQAeeYCyDG3V3EAxZkknAOw2iPpgGwCQABALgGbVYArCQFsJAWAmm0AO80BYPW0F7OEo4ynygGd0/MVAIDwUYCaVQApBy4CACAdTA5mgJ7IM4AoB+ISAIADQABALgEpB6IciEvgB4DYBCIdkHRgmQlIEg2AFgBA8gzAZhWgZhUg8gxgFgAgEg2ghhWgOIDiWBQCECcFwAgAgPgoAJaEAK4kBBA+CnARAIBwUoADT8ksS0gmaBcyO+WQ6WWRDAKoZJgpJCPUCxmeccj4qkjmYxsAD80E+JVhgIIBghKAi7WWlZWVlT/nxIZww04Nt20YVQV+xqAKhASAA4D0gAAAAAD/BwAAAAAQwb/zCMEAABDBAACQQQsEAQEBBGuJPzz/nzwFZPrvr4EVAQJWQW4BAllIHgEC70EMAQLAQDgAAACmAAAA",
        "encoding": "base64",
        "path": [
         "scene_ZtdlO52ck0orwoFfIMpzQyWFR",
         "drc"
        ]
       },
       {
        "data": "RFJBQ08CAgEBAAAAXLQBAbMBAAAtX9u2rWpLVVVVqVZLVVWValVLVVWpVlVLVZVqVVVLValWVVVLlWpVVVVLqQIKAQEQ/wL2XgL/AAEAAQABAAkDAAACAQICAwABAQQBAQAMF70JGQIZEkkfGQK0F5BpXg4ZDy4i6U1F6DUqASfbu9LJXuhPPV9wGXiWA7CIwSF5fAbguxAAqaACwEN3TOpyAHbGGYURAADxUQA2TwF8lQpgZzkAa54CwJIQQDbr3KMLAVD3JAAYggVAEg1AnBTAIzQAeeYCyDG3V3EAxZkknAOw2iPpgGwCQABALgGbVYArCQFsJAWAmm0AO80BYPW0F7OEo4ynygGd0/MVAIDwUYCaVQApBy4CACAdTA5mgJ7IM4AoB+ISAIADQABALgEpB6IciEvgB4DYBCIdkHRgmQlIEg2AFgBA8gzAZhWgZhUg8gxgFgAgEg2ghhWgOIDiWBQCECcFwAgAgPgoAJaEAK4kBBA+CnARAIBwUoADT8ksS0gmaBcyO+WQ6WWRDAKoZJgpJCPUCxmeccj4qkjmYxsAD80E+JVhgIIBghKAi7WWlZWVlT/nxIZww04Nt20YVQV+xqAKhASAA4D0gAAAAAD/BwAAAACYwYOPkMEAAJjBAAAYQgsEAQEBBIEBiT88//c8BWTr/q+BFQECVkFuAQJZSB4BAu9BDAECwEBzAAAA9wAAAA==",
        "encoding": "base64",
        "path": [
         "scene_ZzjPjew9oW9ECiNNrWUxHFMdi",
         "drc"
        ]
       },
       {
        "data": "RFJBQ08CAgEBAAAAXLQBAbMBAAAtX9u2rWpLVVVVqVZLVVWValVLVVWpVlVLVZVqVVVLValWVVVLlWpVVVVLqQIKAQEQ/wL2XgL/AAEAAQABAAkDAAACAQICAwABAQQBAQAMF70JGQIZEkkfGQK0F5BpXg4ZDy4i6U1F6DUqASfbu9LJXuhPPV9wGXiWA7CIwSF5fAbguxAAqaACwEN3TOpyAHbGGYURAADxUQA2TwF8lQpgZzkAa54CwJIQQDbr3KMLAVD3JAAYggVAEg1AnBTAIzQAeeYCyDG3V3EAxZkknAOw2iPpgGwCQABALgGbVYArCQFsJAWAmm0AO80BYPW0F7OEo4ynygGd0/MVAIDwUYCaVQApBy4CACAdTA5mgJ7IM4AoB+ISAIADQABALgEpB6IciEvgB4DYBCIdkHRgmQlIEg2AFgBA8gzAZhWgZhUg8gxgFgAgEg2ghhWgOIDiWBQCECcFwAgAgPgoAJaEAK4kBBA+CnARAIBwUoADT8ksS0gmaBcyO+WQ6WWRDAKoZJgpJCPUCxmeccj4qkjmYxsAD80E+JVhgIIBghKAi7WWlZWVlT/nxIZww04Nt20YVQV+xqAKhASAA4D0gAAAAAD/BwAAAACYwYOPkMEAAJjBAAAYQgsEAQEBBEWJPzz/BzwFZPrvr4EVAQJWQW4BAllIHgEC70EMAQLAQA8AAABcAAAA",
        "encoding": "base64",
        "path": [
         "scene_aHdFraKHABDrH6Dcm5vLDfRCd",
         "drc"
        ]
       },
       {
        "data": "RFJBQ08CAgEBAAAAXLQBAbMBAAAtX9u2rWpLVVVVqVZLVVWValVLVVWpVlVLVZVqVVVLValWVVVLlWpVVVVLqQIKAQEQ/wL2XgL/AAEAAQABAAkDAAACAQICAwABAQQBAQAMF70JGQIZEkkfGQK0F5BpXg4ZDy4i6U1F6DUqASfbu9LJXuhPPV9wGXiWA7CIwSF5fAbguxAAT1kB0EN3TOpyAHbGGYURAADxUQA2TwF8lQpgZzkAa54CwJIQQDbr3KMLAVD3JAAYggVAEg1AnBTAIzQAO82NsdIdQHEAxclMzgGw+iPpgGwCQABALgGbVYArCQFsJAWAmm0AO80BUPW0F7OEo4ynygGd8/MVAIDwUYCaVQApBy4CACAdTA5mgJ/IM4AoB+ISAIAFQABALgEpB6IciEvgB4DYBCIdkHRgmclHEg2AFgBA8gzAZhWgZhUg8gxgFgAgEg2ghhWgOIDiWBQCECcFwAgAgPgoAJaEAK4kBBA+CnARAIBwUoADT8ksS0gmaBcyO+WQ6WWRDAKoZJgpJCPUCxmeccj4qkimvx8AD94DmOJGggGEEtR8RV4iJCQkCNeA4WSDIwVCaxhVBX7GoAqEBIADAPaAAAAAAP8HAAAAAFDB29FFwQAAUMEAANBBCwQBAQEEVok/PP9LPAVY95GzgRUBAlZBbgECWUgeAQLvQQwBAsBAGAAAAPEAAAA=",
        "encoding": "base64",
        "path": [
         "scene_aHuB8anTKv0Fjxc7fh9YPem4g",
         "drc"
        ]
       },
       {
        "data": "RFJBQ08CAgEBAAAAXLQBAbMBAAAtX9u2rWpLVVVVqVZLVVWValVLVVWpVlVLVZVqVVVLValWVVVLlWpVVVVLqQIKAQEQ/wL2XgL/AAEAAQABAAkDAAACAQICAwABAQQBAQAMF70JGQIZEkkfGQK0F5BpXg4ZDy4i6U1F6DUqASfbu9LJXuhPPV9wGXiWA7CIwSF5fAbguxAAT1kB0EN3TOpyAHbGGYURAADxUQA2TwF8lQpgZzkAa54CwJIQQDbr3KMLAVD3JAAYggVAEg1AnBTAIzQAO82NsdIdQHEAxclMzgGw+iPpgGwCQABALgGbVYArCQFsJAWAmm0AO80BUPW0F7OEo4ynygGd8/MVAIDwUYCaVQApBy4CACAdTA5mgJ/IM4AoB+ISAIAFQABALgEpB6IciEvgB4DYBCIdkHRgmclHEg2AFgBA8gzAZhWgZhUg8gxgFgAgEg2ghhWgOIDiWBQCECcFwAgAgPgoAJaEAK4kBBA+CnARAIBwUoADT8ksS0gmaBcyO+WQ6WWRDAKoZJgpJCPUCxmeccj4qkimvx8AD94DmOJGggGEEtR8RV4iJCQkCNeA4WSDIwVCaxhVBX7GoAqEBIADAPaAAAAAAP8HAAAAAFDB29FFwQAAUMEAANBBCwQBAQEEJYk/PIc8BVj3kbOBFQECVkFuAQJZSB4BAu9BDAECwEAjAAAATwAAAA==",
        "encoding": "base64",
        "path": [
         "scene_b6U23DgmogwDkIFo2GxLS5ed2",
         "drc"
        ]
       },
       {
        "data": "RFJBQ08CAgEBAAAAXLQBAbMBAAAtX9u2rWpLVVVVqVZLVVWValVLVVWpVlVLVZVqVVVLValWVVVLlWpVVVVLqQIKAQEQ/wL2XgL/AAEAAQABAAkDAAACAQICAwABAQQBAQAMF70JGQIZEkkfGQK0F5BpXg4ZDy4i6U1F6DUqASfbu9LJXuhPPV9wGXiWA7CIwSF5fAbguxAAqaACwEN3TOpyAHbGGYURAADxUQA2TwF8lQpgZzkAa54CwJIQQDbr3KMLAVD3JAAYggVAEg1AnBTAIzQAeeYCyDG3V3EAxZkknAOw2iPpgGwCQABALgGbVYArCQFsJAWAmm0AO80BYPW0F7OEo4ynygGd0/MVAIDwUYCaVQApBy4CACAdTA5mgJ7IM4AoB+ISAIADQABALgEpB6IciEvgB4DYBCIdkHRgmQlIEg2AFgBA8gzAZhWgZhUg8gxgFgAgEg2ghhWgOIDiWBQCECcFwAgAgPgoAJaEAK4kBBA+CnARAIBwUoADT8ksS0gmaBcyO+WQ6WWRDAKoZJgpJCPUCxmeccj4qkjmYxsAD80E+JVhgIIBghKAi7WWlZWVlT/nxIZww04Nt20YVQV+xqAKhASAA4D0gAAAAAD/BwAAAACQwb/ziMEAAJDBAAAQQgsEAQEBBDyJPzzjPAVk+u+vgRUBAlZBbgECWUgeAQLvQQwBAsBATwAAAJEAAAA=",
        "encoding": "base64",
        "path": [
         "scene_bY6FGjEhRg6DEsbZB80ID2i7z",
         "drc"
        ]
       },
       {
        "data": "RFJBQ08CAgEBAAAAXLQBAbMBAAAtX9u2rWpLVVVVqVZLVVWValVLVVWpVlVLVZVqVVVLValWVVVLlWpVVVVLqQIKAQEQ/wL2XgL/AAEAAQABAAkDAAACAQICAwABAQQBAQAMF70JGQIZEkkfGQK0F5BpXg4ZDy4i6U1F6DUqASfbu9LJXuhPPV9wGXiWA7CIwSF5fAbguxAAqaACwEN3TOpyAHbGGYURAADxUQA2TwF8lQpgZzkAa54CwJIQQDbr3KMLAVD3JAAYggVAEg1AnBTAIzQAeeYCyDG3V3EAxZkknAOw2iPpgGwCQABALgGbVYArCQFsJAWAmm0AO80BYPW0F7OEo4ynygGd0/MVAIDwUYCaVQApBy4CACAdTA5mgJ7IM4AoB+ISAIADQABALgEpB6IciEvgB4DYBCIdkHRgmQlIEg2AFgBA8gzAZhWgZhUg8gxgFgAgEg2ghhWgOIDiWBQCECcFwAgAgPgoAJaEAK4kBBA+CnARAIBwUoADT8ksS0gmaBcyO+WQ6WWRDAKoZJgpJCPUCxmeccj4qkjmYxsAD80E+JVhgIIBghKAi7WWlZWVlT/nxIZww04Nt20YVQV+xqAKhASAA4D0gAAAAAD/BwAAAAAAwXF488AAAADBAACAQQsEAQEBBH2JPzz/5zwFZPrvr4EVAQJWQW4BAllIHgEC70EMAQLAQEIAAADPAAAA",
        "encoding": "base64",
        "path": [
         "scene_bty1ElsGLBRQcKC4h5679o6Fn",
         "drc"
        ]
       },
       {
        "data": "RFJBQ08CAgEBAAAAXLQBAbMBAAAtX9u2rWpLVVVVqVZLVVWValVLVVWpVlVLVZVqVVVLValWVVVLlWpVVVVLqQIKAQEQ/wL2XgL/AAEAAQABAAkDAAACAQICAwABAQQBAQAMF70JGQIZEkkfGQK0F5BpXg4ZDy4i6U1F6DUqASfbu9LJXuhPPV9wGXiWA7CIwSF5fAbguxAAqaACwEN3TOpyAHbGGYURAADxUQA2TwF8lQpgZzkAa54CwJIQQDbr3KMLAVD3JAAYggVAEg1AnBTAIzQAeeYCyDG3V3EAxZkknAOw2iPpgGwCQABALgGbVYArCQFsJAWAmm0AO80BYPW0F7OEo4ynygGd0/MVAIDwUYCaVQApBy4CACAdTA5mgJ7IM4AoB+ISAIADQABALgEpB6IciEvgB4DYBCIdkHRgmQlIEg2AFgBA8gzAZhWgZhUg8gxgFgAgEg2ghhWgOIDiWBQCECcFwAgAgPgoAJaEAK4kBBA+CnARAIBwUoADT8ksS0gmaBcyO+WQ6WWRDAKoZJgpJCPUCxmeccj4qkjmYxsAD80E+JVhgIIBghKAi7WWlZWVlT/nxIZww04Nt20YVQV+xqAKhASAA4D0gAAAAAD/BwAAAAAAwHF4878AAADAAACAQAsEAQEBBAmJPzwXPAVYTvO/gRUBAlZBbgECWUgeAQLvQQwBAsBAFgAAAEcAAAA=",
        "encoding": "base64",
        "path": [
         "scene_cHI6TfAiUyL6acvYVTFcHx8X0",
         "drc"
        ]
       },
       {
        "data": "RFJBQ08CAgEBAAAAXLQBAbMBAAAtX9u2rWpLVVVVqVZLVVWValVLVVWpVlVLVZVqVVVLValWVVVLlWpVVVVLqQIKAQEQ/wL2XgL/AAEAAQABAAkDAAACAQICAwABAQQBAQAMF70JGQIZEkkfGQK0F5BpXg4ZDy4i6U1F6DUqASfbu9LJXuhPPV9wGXiWA7CIwSF5fAbguxAAT1kB0EN3TOpyAHbGGYURAADxUQA2TwF8lQpgZzkAa54CwJIQQDbr3KMLAVD3JAAYggVAEg1AnBTAIzQAO82NsdIdQHEAxclMzgGw+iPpgGwCQABALgGbVYArCQFsJAWAmm0AO80BUPW0F7OEo4ynygGd8/MVAIDwUYCaVQApBy4CACAdTA5mgJ/IM4AoB+ISAIAFQABALgEpB6IciEvgB4DYBCIdkHRgmclHEg2AFgBA8gzAZhWgZhUg8gxgFgAgEg2ghhWgOIDiWBQCECcFwAgAgPgoAJaEAK4kBBA+CnARAIBwUoADT8ksS0gmaBcyO+WQ6WWRDAKoZJgpJCPUCxmeccj4qkimvx8AD94DmOJGggGEEtR8RV4iJCQkCNeA4WSDIwVCaxhVBX7GoAqEBIADAPaAAAAAAP8HAAAAAODAYwnVwAAA4MAAAGBBCwQBAQEECYk/PBc8BWTr/q+BFQECVkFuAQJZSB4BAu9BDAECwEAIAAAAzgAAAA==",
        "encoding": "base64",
        "path": [
         "scene_cUxSOdJoI69lGaGATiE2Iqtgd",
         "drc"
        ]
       },
       {
        "data": "RFJBQ08CAgEBAAAAXLQBAbMBAAAtX9u2rWpLVVVVqVZLVVWValVLVVWpVlVLVZVqVVVLValWVVVLlWpVVVVLqQIKAQEQ/wL2XgL/AAEAAQABAAkDAAACAQICAwABAQQBAQAMF70JGQIZEkkfGQK0F5BpXg4ZDy4i6U1F6DUqASfbu9LJXuhPPV9wGXiWA7CIwSF5fAbguxAAT1kB0EN3TOpyAHbGGYURAADxUQA2TwF8lQpgZzkAa54CwJIQQDbr3KMLAVD3JAAYggVAEg1AnBTAIzQAO82NsdIdQHEAxclMzgGw+iPpgGwCQABALgGbVYArCQFsJAWAmm0AO80BUPW0F7OEo4ynygGd8/MVAIDwUYCaVQApBy4CACAdTA5mgJ/IM4AoB+ISAIAFQABALgEpB6IciEvgB4DYBCIdkHRgmclHEg2AFgBA8gzAZhWgZhUg8gxgFgAgEg2ghhWgOIDiWBQCECcFwAgAgPgoAJaEAK4kBBA+CnARAIBwUoADT8ksS0gmaBcyO+WQ6WWRDAKoZJgpJCPUCxmeccj4qkimvx8AD94DmOJGggGEEtR8RV4iJCQkCNeA4WSDIwVCaxhVBX7GoAqEBIADAPaAAAAAAP8HAAAAAGDBYwlVwQAAYMEAAOBBCwQBAQEEU4k/PP8/PAVk+u+vgRUBAlZBbgECWUgeAQLvQQwBAsBAQgAAALsAAAA=",
        "encoding": "base64",
        "path": [
         "scene_ccWBT2yNZYQOyTIzvIfEn2zXO",
         "drc"
        ]
       },
       {
        "data": "RFJBQ08CAgEBAAAAXLQBAbMBAAAtX9u2rWpLVVVVqVZLVVWValVLVVWpVlVLVZVqVVVLValWVVVLlWpVVVVLqQIKAQEQ/wL2XgL/AAEAAQABAAkDAAACAQICAwABAQQBAQAMF70JGQIZEkkfGQK0F5BpXg4ZDy4i6U1F6DUqASfbu9LJXuhPPV9wGXiWA7CIwSF5fAbguxAAqaACwEN3TOpyAHbGGYURAADxUQA2TwF8lQpgZzkAa54CwJIQQDbr3KMLAVD3JAAYggVAEg1AnBTAIzQAeeYCyDG3V3EAxZkknAOw2iPpgGwCQABALgGbVYArCQFsJAWAmm0AO80BYPW0F7OEo4ynygGd0/MVAIDwUYCaVQApBy4CACAdTA5mgJ7IM4AoB+ISAIADQABALgEpB6IciEvgB4DYBCIdkHRgmQlIEg2AFgBA8gzAZhWgZhUg8gxgFgAgEg2ghhWgOIDiWBQCECcFwAgAgPgoAJaEAK4kBBA+CnARAIBwUoADT8ksS0gmaBcyO+WQ6WWRDAKoZJgpJCPUCxmeccj4qkjmYxsAD80E+JVhgIIBghKAi7WWlZWVlT/nxIZww04Nt20YVQV+xqAKhASAA4D0gAAAAAD/BwAAAAAgwUYrGMEAACDBAACgQQsEAQEBBC2JPzynPAVYTvO/gRUBAlZBbgECWUgeAQLvQQwBAsBAYwAAAOcAAAA=",
        "encoding": "base64",
        "path": [
         "scene_clKe7X8RfejlmalpflN0Y1FKA",
         "drc"
        ]
       },
       {
        "data": "RFJBQ08CAgEBAAAAXLQBAbMBAAAtX9u2rWpLVVVVqVZLVVWValVLVVWpVlVLVZVqVVVLValWVVVLlWpVVVVLqQIKAQEQ/wL2XgL/AAEAAQABAAkDAAACAQICAwABAQQBAQAMF70JGQIZEkkfGQK0F5BpXg4ZDy4i6U1F6DUqASfbu9LJXuhPPV9wGXiWA7CIwSF5fAbguxAAqaACwEN3TOpyAHbGGYURAADxUQA2TwF8lQpgZzkAa54CwJIQQDbr3KMLAVD3JAAYggVAEg1AnBTAIzQAeeYCyDG3V3EAxZkknAOw2iPpgGwCQABALgGbVYArCQFsJAWAmm0AO80BYPW0F7OEo4ynygGd0/MVAIDwUYCaVQApBy4CACAdTA5mgJ7IM4AoB+ISAIADQABALgEpB6IciEvgB4DYBCIdkHRgmQlIEg2AFgBA8gzAZhWgZhUg8gxgFgAgEg2ghhWgOIDiWBQCECcFwAgAgPgoAJaEAK4kBBA+CnARAIBwUoADT8ksS0gmaBcyO+WQ6WWRDAKoZJgpJCPUCxmeccj4qkjmYxsAD80E+JVhgIIBghKAi7WWlZWVlT/nxIZww04Nt20YVQV+xqAKhASAA4D0gAAAAAD/BwAAAACgwEYrmMAAAKDAAAAgQQsEAQEBBH6JPzz/6zwFWPeRs4EVAQJWQW4BAllIHgEC70EMAQLAQAQAAACwAAAA",
        "encoding": "base64",
        "path": [
         "scene_cskyODYEcjG9PpHt9y0tH0Q0d",
         "drc"
        ]
       },
       {
        "data": "RFJBQ08CAgEBAAAAXLQBAbMBAAAtX9u2rWpLVVVVqVZLVVWValVLVVWpVlVLVZVqVVVLValWVVVLlWpVVVVLqQIKAQEQ/wL2XgL/AAEAAQABAAkDAAACAQICAwABAQQBAQAMF70JGQIZEkkfGQK0F5BpXg4ZDy4i6U1F6DUqASfbu9LJXuhPPV9wGXiWA7CIwSF5fAbguxAAqaACwEN3TOpyAHbGGYURAADxUQA2TwF8lQpgZzkAa54CwJIQQDbr3KMLAVD3JAAYggVAEg1AnBTAIzQAeeYCyDG3V3EAxZkknAOw2iPpgGwCQABALgGbVYArCQFsJAWAmm0AO80BYPW0F7OEo4ynygGd0/MVAIDwUYCaVQApBy4CACAdTA5mgJ7IM4AoB+ISAIADQABALgEpB6IciEvgB4DYBCIdkHRgmQlIEg2AFgBA8gzAZhWgZhUg8gxgFgAgEg2ghhWgOIDiWBQCECcFwAgAgPgoAJaEAK4kBBA+CnARAIBwUoADT8ksS0gmaBcyO+WQ6WWRDAKoZJgpJCPUCxmeccj4qkjmYxsAD80E+JVhgIIBghKAi7WWlZWVlT/nxIZww04Nt20YVQV+xqAKhASAA4D0gAAAAAD/BwAAAACIwfxXgcEAAIjBAAAIQgsEAQEBBFGJPzz/NzwFWE7zv4EVAQJWQW4BAllIHgEC70EMAQLAQCIAAACrAAAA",
        "encoding": "base64",
        "path": [
         "scene_cz68GGghu5BKpS3eys69V5UdI",
         "drc"
        ]
       },
       {
        "data": "RFJBQ08CAgEBAAAAXLQBAbMBAAAtX9u2rWpLVVVVqVZLVVWValVLVVWpVlVLVZVqVVVLValWVVVLlWpVVVVLqQIKAQEQ/wL2XgL/AAEAAQABAAkDAAACAQICAwABAQQBAQAMF70JGQIZEkkfGQK0F5BpXg4ZDy4i6U1F6DUqASfbu9LJXuhPPV9wGXiWA7CIwSF5fAbguxAAT1kB0EN3TOpyAHbGGYURAADxUQA2TwF8lQpgZzkAa54CwJIQQDbr3KMLAVD3JAAYggVAEg1AnBTAIzQAO82NsdIdQHEAxclMzgGw+iPpgGwCQABALgGbVYArCQFsJAWAmm0AO80BUPW0F7OEo4ynygGd8/MVAIDwUYCaVQApBy4CACAdTA5mgJ/IM4AoB+ISAIAFQABALgEpB6IciEvgB4DYBCIdkHRgmclHEg2AFgBA8gzAZhWgZhUg8gxgFgAgEg2ghhWgOIDiWBQCECcFwAgAgPgoAJaEAK4kBBA+CnARAIBwUoADT8ksS0gmaBcyO+WQ6WWRDAKoZJgpJCPUCxmeccj4qkimvx8AD94DmOJGggGEEtR8RV4iJCQkCNeA4WSDIwVCaxhVBX7GoAqEBIADAPaAAAAAAP8HAAAAAGDBYwlVwQAAYMEAAOBBCwQBAQEEY4k/PP9/PAVYXeS/gRUBAlZBbgECWUgeAQLvQQwBAsBAkAAAAPUAAAA=",
        "encoding": "base64",
        "path": [
         "scene_d1Gr0wE5WF0BjFNDBQjr4wvRR",
         "drc"
        ]
       },
       {
        "data": "RFJBQ08CAgEBAAAAXLQBAbMBAAAtX9u2rWpLVVVVqVZLVVWValVLVVWpVlVLVZVqVVVLValWVVVLlWpVVVVLqQIKAQEQ/wL2XgL/AAEAAQABAAkDAAACAQICAwABAQQBAQAMF70JGQIZEkkfGQK0F5BpXg4ZDy4i6U1F6DUqASfbu9LJXuhPPV9wGXiWA7CIwSF5fAbguxAAqaACwEN3TOpyAHbGGYURAADxUQA2TwF8lQpgZzkAa54CwJIQQDbr3KMLAVD3JAAYggVAEg1AnBTAIzQAeeYCyDG3V3EAxZkknAOw2iPpgGwCQABALgGbVYArCQFsJAWAmm0AO80BYPW0F7OEo4ynygGd0/MVAIDwUYCaVQApBy4CACAdTA5mgJ7IM4AoB+ISAIADQABALgEpB6IciEvgB4DYBCIdkHRgmQlIEg2AFgBA8gzAZhWgZhUg8gxgFgAgEg2ghhWgOIDiWBQCECcFwAgAgPgoAJaEAK4kBBA+CnARAIBwUoADT8ksS0gmaBcyO+WQ6WWRDAKoZJgpJCPUCxmeccj4qkjmYxsAD80E+JVhgIIBghKAi7WWlZWVlT/nxIZww04Nt20YVQV+xqAKhASAA4D0gAAAAAD/BwAAAACAv3F4c78AAIC/AAAAQAsEAQEBBIABiT88//M8BVhO87+BFQECVkFuAQJZSB4BAu9BDAECwEAeAAAAogAAAA==",
        "encoding": "base64",
        "path": [
         "scene_dCDpMDf5194jGbWctynKSq2su",
         "drc"
        ]
       },
       {
        "data": "RFJBQ08CAgEBAAAAXLQBAbMBAAAtX9u2rWpLVVVVqVZLVVWValVLVVWpVlVLVZVqVVVLValWVVVLlWpVVVVLqQIKAQEQ/wL2XgL/AAEAAQABAAkDAAACAQICAwABAQQBAQAMF70JGQIZEkkfGQK0F5BpXg4ZDy4i6U1F6DUqASfbu9LJXuhPPV9wGXiWA7CIwSF5fAbguxAAqaACwEN3TOpyAHbGGYURAADxUQA2TwF8lQpgZzkAa54CwJIQQDbr3KMLAVD3JAAYggVAEg1AnBTAIzQAeeYCyDG3V3EAxZkknAOw2iPpgGwCQABALgGbVYArCQFsJAWAmm0AO80BYPW0F7OEo4ynygGd0/MVAIDwUYCaVQApBy4CACAdTA5mgJ7IM4AoB+ISAIADQABALgEpB6IciEvgB4DYBCIdkHRgmQlIEg2AFgBA8gzAZhWgZhUg8gxgFgAgEg2ghhWgOIDiWBQCECcFwAgAgPgoAJaEAK4kBBA+CnARAIBwUoADT8ksS0gmaBcyO+WQ6WWRDAKoZJgpJCPUCxmeccj4qkjmYxsAD80E+JVhgIIBghKAi7WWlZWVlT/nxIZww04Nt20YVQV+xqAKhASAA4D0gAAAAAD/BwAAAAAAwXF488AAAADBAACAQQsEAQEBBE2JPzz/JzwFZOv+r4EVAQJWQW4BAllIHgEC70EMAQLAQBkAAADEAAAA",
        "encoding": "base64",
        "path": [
         "scene_dWa8GK6F5An8gqYNaGFXXaiq6",
         "drc"
        ]
       },
       {
        "data": "RFJBQ08CAgEBAAAAXLQBAbMBAAAtX9u2rWpLVVVVqVZLVVWValVLVVWpVlVLVZVqVVVLValWVVVLlWpVVVVLqQIKAQEQ/wL2XgL/AAEAAQABAAkDAAACAQICAwABAQQBAQAMF70JGQIZEkkfGQK0F5BpXg4ZDy4i6U1F6DUqASfbu9LJXuhPPV9wGXiWA7CIwSF5fAbguxAAqaACwEN3TOpyAHbGGYURAADxUQA2TwF8lQpgZzkAa54CwJIQQDbr3KMLAVD3JAAYggVAEg1AnBTAIzQAeeYCyDG3V3EAxZkknAOw2iPpgGwCQABALgGbVYArCQFsJAWAmm0AO80BYPW0F7OEo4ynygGd0/MVAIDwUYCaVQApBy4CACAdTA5mgJ7IM4AoB+ISAIADQABALgEpB6IciEvgB4DYBCIdkHRgmQlIEg2AFgBA8gzAZhWgZhUg8gxgFgAgEg2ghhWgOIDiWBQCECcFwAgAgPgoAJaEAK4kBBA+CnARAIBwUoADT8ksS0gmaBcyO+WQ6WWRDAKoZJgpJCPUCxmeccj4qkjmYxsAD80E+JVhgIIBghKAi7WWlZWVlT/nxIZww04Nt20YVQV+xqAKhASAA4D0gAAAAAD/BwAAAAAQwb/zCMEAABDBAACQQQsEAQEBBB2JPzxnPAVk6/6vgRUBAlZBbgECWUgeAQLvQQwBAsBACAAAAGMAAAA=",
        "encoding": "base64",
        "path": [
         "scene_dxlQaZnGWmxhJ2N7bm6rbdVbB",
         "drc"
        ]
       },
       {
        "data": "RFJBQ08CAgEBAAAAXLQBAbMBAAAtX9u2rWpLVVVVqVZLVVWValVLVVWpVlVLVZVqVVVLValWVVVLlWpVVVVLqQIKAQEQ/wL2XgL/AAEAAQABAAkDAAACAQICAwABAQQBAQAMF70JGQIZEkkfGQK0F5BpXg4ZDy4i6U1F6DUqASfbu9LJXuhPPV9wGXiWA7CIwSF5fAbguxAAqaACwEN3TOpyAHbGGYURAADxUQA2TwF8lQpgZzkAa54CwJIQQDbr3KMLAVD3JAAYggVAEg1AnBTAIzQAeeYCyDG3V3EAxZkknAOw2iPpgGwCQABALgGbVYArCQFsJAWAmm0AO80BYPW0F7OEo4ynygGd0/MVAIDwUYCaVQApBy4CACAdTA5mgJ7IM4AoB+ISAIADQABALgEpB6IciEvgB4DYBCIdkHRgmQlIEg2AFgBA8gzAZhWgZhUg8gxgFgAgEg2ghhWgOIDiWBQCECcFwAgAgPgoAJaEAK4kBBA+CnARAIBwUoADT8ksS0gmaBcyO+WQ6WWRDAKoZJgpJCPUCxmeccj4qkjmYxsAD80E+JVhgIIBghKAi7WWlZWVlT/nxIZww04Nt20YVQV+xqAKhASAA4D0gAAAAAD/BwAAAAAAwXF488AAAADBAACAQQsEAQEBBAOJPzw8BVjooLOBFQECVkFuAQJZSB4BAu9BDAECwEBfAAAAvAAAAA==",
        "encoding": "base64",
        "path": [
         "scene_dzgvkil4uZN6t16NJn9mpTGE4",
         "drc"
        ]
       },
       {
        "data": "RFJBQ08CAgEBAAAAXLQBAbMBAAAtX9u2rWpLVVVVqVZLVVWValVLVVWpVlVLVZVqVVVLValWVVVLlWpVVVVLqQIKAQEQ/wL2XgL/AAEAAQABAAkDAAACAQICAwABAQQBAQAMF70JGQIZEkkfGQK0F5BpXg4ZDy4i6U1F6DUqASfbu9LJXuhPPV9wGXiWA7CIwSF5fAbguxAAqaACwEN3TOpyAHbGGYURAADxUQA2TwF8lQpgZzkAa54CwJIQQDbr3KMLAVD3JAAYggVAEg1AnBTAIzQAeeYCyDG3V3EAxZkknAOw2iPpgGwCQABALgGbVYArCQFsJAWAmm0AO80BYPW0F7OEo4ynygGd0/MVAIDwUYCaVQApBy4CACAdTA5mgJ7IM4AoB+ISAIADQABALgEpB6IciEvgB4DYBCIdkHRgmQlIEg2AFgBA8gzAZhWgZhUg8gxgFgAgEg2ghhWgOIDiWBQCECcFwAgAgPgoAJaEAK4kBBA+CnARAIBwUoADT8ksS0gmaBcyO+WQ6WWRDAKoZJgpJCPUCxmeccj4qkjmYxsAD80E+JVhgIIBghKAi7WWlZWVlT/nxIZww04Nt20YVQV+xqAKhASAA4D0gAAAAAD/BwAAAACQwb/ziMEAAJDBAAAQQgsEAQEBBAKJP3gEZOv/fxUBAlZBbgECWUgeAQLvQQwBAsBAnQAAAK8AAAA=",
        "encoding": "base64",
        "path": [
         "scene_e6HgusSNlZA9EbcEOWq9RLWlj",
         "drc"
        ]
       },
       {
        "data": "RFJBQ08CAgEBAAAAXLQBAbMBAAAtX9u2rWpLVVVVqVZLVVWValVLVVWpVlVLVZVqVVVLValWVVVLlWpVVVVLqQIKAQEQ/wL2XgL/AAEAAQABAAkDAAACAQICAwABAQQBAQAMF70JGQIZEkkfGQK0F5BpXg4ZDy4i6U1F6DUqASfbu9LJXuhPPV9wGXiWA7CIwSF5fAbguxAAqaACwEN3TOpyAHbGGYURAADxUQA2TwF8lQpgZzkAa54CwJIQQDbr3KMLAVD3JAAYggVAEg1AnBTAIzQAeeYCyDG3V3EAxZkknAOw2iPpgGwCQABALgGbVYArCQFsJAWAmm0AO80BYPW0F7OEo4ynygGd0/MVAIDwUYCaVQApBy4CACAdTA5mgJ7IM4AoB+ISAIADQABALgEpB6IciEvgB4DYBCIdkHRgmQlIEg2AFgBA8gzAZhWgZhUg8gxgFgAgEg2ghhWgOIDiWBQCECcFwAgAgPgoAJaEAK4kBBA+CnARAIBwUoADT8ksS0gmaBcyO+WQ6WWRDAKoZJgpJCPUCxmeccj4qkjmYxsAD80E+JVhgIIBghKAi7WWlZWVlT/nxIZww04Nt20YVQV+xqAKhASAA4D0gAAAAAD/BwAAAAAAwHF4878AAADAAACAQAsEAQEBBCmJPzyXPAVk+u+vgRUBAlZBbgECWUgeAQLvQQwBAsBASAAAALsAAAA=",
        "encoding": "base64",
        "path": [
         "scene_e7idCuDVs6FoYpuK6rOgNcrXt",
         "drc"
        ]
       },
       {
        "data": "RFJBQ08CAgEBAAAAXLQBAbMBAAAtX9u2rWpLVVVVqVZLVVWValVLVVWpVlVLVZVqVVVLValWVVVLlWpVVVVLqQIKAQEQ/wL2XgL/AAEAAQABAAkDAAACAQICAwABAQQBAQAMF70JGQIZEkkfGQK0F5BpXg4ZDy4i6U1F6DUqASfbu9LJXuhPPV9wGXiWA7CIwSF5fAbguxAAqaACwEN3TOpyAHbGGYURAADxUQA2TwF8lQpgZzkAa54CwJIQQDbr3KMLAVD3JAAYggVAEg1AnBTAIzQAeeYCyDG3V3EAxZkknAOw2iPpgGwCQABALgGbVYArCQFsJAWAmm0AO80BYPW0F7OEo4ynygGd0/MVAIDwUYCaVQApBy4CACAdTA5mgJ7IM4AoB+ISAIADQABALgEpB6IciEvgB4DYBCIdkHRgmQlIEg2AFgBA8gzAZhWgZhUg8gxgFgAgEg2ghhWgOIDiWBQCECcFwAgAgPgoAJaEAK4kBBA+CnARAIBwUoADT8ksS0gmaBcyO+WQ6WWRDAKoZJgpJCPUCxmeccj4qkjmYxsAD80E+JVhgIIBghKAi7WWlZWVlT/nxIZww04Nt20YVQV+xqAKhASAA4D0gAAAAAD/BwAAAAAAwXF488AAAADBAACAQQsEAQEBBBCJPzwzPAVYTvO/gRUBAlZBbgECWUgeAQLvQQwBAsBAwAAAAOsAAAA=",
        "encoding": "base64",
        "path": [
         "scene_etJNT66pbHRXDS2Ufj1IzKdnn",
         "drc"
        ]
       },
       {
        "data": "RFJBQ08CAgEBAAAAXLQBAbMBAAAtX9u2rWpLVVVVqVZLVVWValVLVVWpVlVLVZVqVVVLValWVVVLlWpVVVVLqQIKAQEQ/wL2XgL/AAEAAQABAAkDAAACAQICAwABAQQBAQAMF70JGQIZEkkfGQK0F5BpXg4ZDy4i6U1F6DUqASfbu9LJXuhPPV9wGXiWA7CIwSF5fAbguxAAqaACwEN3TOpyAHbGGYURAADxUQA2TwF8lQpgZzkAa54CwJIQQDbr3KMLAVD3JAAYggVAEg1AnBTAIzQAeeYCyDG3V3EAxZkknAOw2iPpgGwCQABALgGbVYArCQFsJAWAmm0AO80BYPW0F7OEo4ynygGd0/MVAIDwUYCaVQApBy4CACAdTA5mgJ7IM4AoB+ISAIADQABALgEpB6IciEvgB4DYBCIdkHRgmQlIEg2AFgBA8gzAZhWgZhUg8gxgFgAgEg2ghhWgOIDiWBQCECcFwAgAgPgoAJaEAK4kBBA+CnARAIBwUoADT8ksS0gmaBcyO+WQ6WWRDAKoZJgpJCPUCxmeccj4qkjmYxsAD80E+JVhgIIBghKAi7WWlZWVlT/nxIZww04Nt20YVQV+xqAKhASAA4D0gAAAAAD/BwAAAACgwEYrmMAAAKDAAAAgQQsEAQEBBGGJPzz/dzwFZOv+r4EVAQJWQW4BAllIHgEC70EMAQLAQDUAAADtAAAA",
        "encoding": "base64",
        "path": [
         "scene_etoKavUWYlrTV8T1GMRCowoaA",
         "drc"
        ]
       },
       {
        "data": "RFJBQ08CAgEBAAAAXLQBAbMBAAAtX9u2rWpLVVVVqVZLVVWValVLVVWpVlVLVZVqVVVLValWVVVLlWpVVVVLqQIKAQEQ/wL2XgL/AAEAAQABAAkDAAACAQICAwABAQQBAQAMF70JGQIZEkkfGQK0F5BpXg4ZDy4i6U1F6DUqASfbu9LJXuhPPV9wGXiWA7CIwSF5fAbguxAAqaACwEN3TOpyAHbGGYURAADxUQA2TwF8lQpgZzkAa54CwJIQQDbr3KMLAVD3JAAYggVAEg1AnBTAIzQAeeYCyDG3V3EAxZkknAOw2iPpgGwCQABALgGbVYArCQFsJAWAmm0AO80BYPW0F7OEo4ynygGd0/MVAIDwUYCaVQApBy4CACAdTA5mgJ7IM4AoB+ISAIADQABALgEpB6IciEvgB4DYBCIdkHRgmQlIEg2AFgBA8gzAZhWgZhUg8gxgFgAgEg2ghhWgOIDiWBQCECcFwAgAgPgoAJaEAK4kBBA+CnARAIBwUoADT8ksS0gmaBcyO+WQ6WWRDAKoZJgpJCPUCxmeccj4qkjmYxsAD80E+JVhgIIBghKAi7WWlZWVlT/nxIZww04Nt20YVQV+xqAKhASAA4D0gAAAAAD/BwAAAABAwFSaNsAAAEDAAADAQAsEAQEBBDSJPzzDPAVYXeS/gRUBAlZBbgECWUgeAQLvQQwBAsBAFwAAAPIAAAA=",
        "encoding": "base64",
        "path": [
         "scene_exE7v2Z0PeANUUsxQwAGuPEH6",
         "drc"
        ]
       },
       {
        "data": "RFJBQ08CAgEBAAAAXLQBAbMBAAAtX9u2rWpLVVVVqVZLVVWValVLVVWpVlVLVZVqVVVLValWVVVLlWpVVVVLqQIKAQEQ/wL2XgL/AAEAAQABAAkDAAACAQICAwABAQQBAQAMF70JGQIZEkkfGQK0F5BpXg4ZDy4i6U1F6DUqASfbu9LJXuhPPV9wGXiWA7CIwSF5fAbguxAAqaACwEN3TOpyAHbGGYURAADxUQA2TwF8lQpgZzkAa54CwJIQQDbr3KMLAVD3JAAYggVAEg1AnBTAIzQAeeYCyDG3V3EAxZkknAOw2iPpgGwCQABALgGbVYArCQFsJAWAmm0AO80BYPW0F7OEo4ynygGd0/MVAIDwUYCaVQApBy4CACAdTA5mgJ7IM4AoB+ISAIADQABALgEpB6IciEvgB4DYBCIdkHRgmQlIEg2AFgBA8gzAZhWgZhUg8gxgFgAgEg2ghhWgOIDiWBQCECcFwAgAgPgoAJaEAK4kBBA+CnARAIBwUoADT8ksS0gmaBcyO+WQ6WWRDAKoZJgpJCPUCxmeccj4qkjmYxsAD80E+JVhgIIBghKAi7WWlZWVlT/nxIZww04Nt20YVQV+xqAKhASAA4D0gAAAAAD/BwAAAACAwXF4c8EAAIDBAAAAQgsEAQEBBIoBiT88//8bPAVY95GzgRUBAlZBbgECWUgeAQLvQQwBAsBADQAAANgAAAA=",
        "encoding": "base64",
        "path": [
         "scene_fBS1xjTon4vBCR17xj9RM4iqs",
         "drc"
        ]
       },
       {
        "data": "RFJBQ08CAgEBAAAAXLQBAbMBAAAtX9u2rWpLVVVVqVZLVVWValVLVVWpVlVLVZVqVVVLValWVVVLlWpVVVVLqQIKAQEQ/wL2XgL/AAEAAQABAAkDAAACAQICAwABAQQBAQAMF70JGQIZEkkfGQK0F5BpXg4ZDy4i6U1F6DUqASfbu9LJXuhPPV9wGXiWA7CIwSF5fAbguxAAqaACwEN3TOpyAHbGGYURAADxUQA2TwF8lQpgZzkAa54CwJIQQDbr3KMLAVD3JAAYggVAEg1AnBTAIzQAeeYCyDG3V3EAxZkknAOw2iPpgGwCQABALgGbVYArCQFsJAWAmm0AO80BYPW0F7OEo4ynygGd0/MVAIDwUYCaVQApBy4CACAdTA5mgJ7IM4AoB+ISAIADQABALgEpB6IciEvgB4DYBCIdkHRgmQlIEg2AFgBA8gzAZhWgZhUg8gxgFgAgEg2ghhWgOIDiWBQCECcFwAgAgPgoAJaEAK4kBBA+CnARAIBwUoADT8ksS0gmaBcyO+WQ6WWRDAKoZJgpJCPUCxmeccj4qkjmYxsAD80E+JVhgIIBghKAi7WWlZWVlT/nxIZww04Nt20YVQV+xqAKhASAA4D0gAAAAAD/BwAAAADAwFSatsAAAMDAAABAQQsEAQEBBHiJPzz/0zwFZOv+r4EVAQJWQW4BAllIHgEC70EMAQLAQCwAAACnAAAA",
        "encoding": "base64",
        "path": [
         "scene_fPeTAha3LYOfcYGFcGxVPRxP2",
         "drc"
        ]
       },
       {
        "data": "RFJBQ08CAgEBAAAAXLQBAbMBAAAtX9u2rWpLVVVVqVZLVVWValVLVVWpVlVLVZVqVVVLValWVVVLlWpVVVVLqQIKAQEQ/wL2XgL/AAEAAQABAAkDAAACAQICAwABAQQBAQAMF70JGQIZEkkfGQK0F5BpXg4ZDy4i6U1F6DUqASfbu9LJXuhPPV9wGXiWA7CIwSF5fAbguxAAqaACwEN3TOpyAHbGGYURAADxUQA2TwF8lQpgZzkAa54CwJIQQDbr3KMLAVD3JAAYggVAEg1AnBTAIzQAeeYCyDG3V3EAxZkknAOw2iPpgGwCQABALgGbVYArCQFsJAWAmm0AO80BYPW0F7OEo4ynygGd0/MVAIDwUYCaVQApBy4CACAdTA5mgJ7IM4AoB+ISAIADQABALgEpB6IciEvgB4DYBCIdkHRgmQlIEg2AFgBA8gzAZhWgZhUg8gxgFgAgEg2ghhWgOIDiWBQCECcFwAgAgPgoAJaEAK4kBBA+CnARAIBwUoADT8ksS0gmaBcyO+WQ6WWRDAKoZJgpJCPUCxmeccj4qkjmYxsAD80E+JVhgIIBghKAi7WWlZWVlT/nxIZww04Nt20YVQV+xqAKhASAA4D0gAAAAAD/BwAAAACAwXF4c8EAAIDBAAAAQgsEAQEBBG2JPzz/pzwFWPeRs4EVAQJWQW4BAllIHgEC70EMAQLAQC4AAAD8AAAA",
        "encoding": "base64",
        "path": [
         "scene_g1DqRCDc37C9iHbpiKmcPu8hW",
         "drc"
        ]
       },
       {
        "data": "RFJBQ08CAgEBAAAAXLQBAbMBAAAtX9u2rWpLVVVVqVZLVVWValVLVVWpVlVLVZVqVVVLValWVVVLlWpVVVVLqQIKAQEQ/wL2XgL/AAEAAQABAAkDAAACAQICAwABAQQBAQAMF70JGQIZEkkfGQK0F5BpXg4ZDy4i6U1F6DUqASfbu9LJXuhPPV9wGXiWA7CIwSF5fAbguxAAT1kB0EN3TOpyAHbGGYURAADxUQA2TwF8lQpgZzkAa54CwJIQQDbr3KMLAVD3JAAYggVAEg1AnBTAIzQAO82NsdIdQHEAxclMzgGw+iPpgGwCQABALgGbVYArCQFsJAWAmm0AO80BUPW0F7OEo4ynygGd8/MVAIDwUYCaVQApBy4CACAdTA5mgJ/IM4AoB+ISAIAFQABALgEpB6IciEvgB4DYBCIdkHRgmclHEg2AFgBA8gzAZhWgZhUg8gxgFgAgEg2ghhWgOIDiWBQCECcFwAgAgPgoAJaEAK4kBBA+CnARAIBwUoADT8ksS0gmaBcyO+WQ6WWRDAKoZJgpJCPUCxmeccj4qkimvx8AD94DmOJGggGEEtR8RV4iJCQkCNeA4WSDIwVCaxhVBX7GoAqEBIADAPaAAAAAAP8HAAAAAGDBYwlVwQAAYMEAAOBBCwQBAQEEX4k/PP9vPAVY95GzgRUBAlZBbgECWUgeAQLvQQwBAsBABwAAAPgAAAA=",
        "encoding": "base64",
        "path": [
         "scene_ghIoK4kUg1s3b89H1yGzxauFZ",
         "drc"
        ]
       },
       {
        "data": "RFJBQ08CAgEBAAAAXLQBAbMBAAAtX9u2rWpLVVVVqVZLVVWValVLVVWpVlVLVZVqVVVLValWVVVLlWpVVVVLqQIKAQEQ/wL2XgL/AAEAAQABAAkDAAACAQICAwABAQQBAQAMF70JGQIZEkkfGQK0F5BpXg4ZDy4i6U1F6DUqASfbu9LJXuhPPV9wGXiWA7CIwSF5fAbguxAAqaACwEN3TOpyAHbGGYURAADxUQA2TwF8lQpgZzkAa54CwJIQQDbr3KMLAVD3JAAYggVAEg1AnBTAIzQAeeYCyDG3V3EAxZkknAOw2iPpgGwCQABALgGbVYArCQFsJAWAmm0AO80BYPW0F7OEo4ynygGd0/MVAIDwUYCaVQApBy4CACAdTA5mgJ7IM4AoB+ISAIADQABALgEpB6IciEvgB4DYBCIdkHRgmQlIEg2AFgBA8gzAZhWgZhUg8gxgFgAgEg2ghhWgOIDiWBQCECcFwAgAgPgoAJaEAK4kBBA+CnARAIBwUoADT8ksS0gmaBcyO+WQ6WWRDAKoZJgpJCPUCxmeccj4qkjmYxsAD80E+JVhgIIBghKAi7WWlZWVlT/nxIZww04Nt20YVQV+xqAKhASAA4D0gAAAAAD/BwAAAAAgwUYrGMEAACDBAACgQQsEAQEBBKgBiT88//+TPAVk6/6vgRUBAlZBbgECWUgeAQLvQQwBAsBAFwAAAOoAAAA=",
        "encoding": "base64",
        "path": [
         "scene_hD0ox7vKWhzUu0djOZUeEtEOZ",
         "drc"
        ]
       },
       {
        "data": "RFJBQ08CAgEBAAAAXLQBAbMBAAAtX9u2rWpLVVVVqVZLVVWValVLVVWpVlVLVZVqVVVLValWVVVLlWpVVVVLqQIKAQEQ/wL2XgL/AAEAAQABAAkDAAACAQICAwABAQQBAQAMF70JGQIZEkkfGQK0F5BpXg4ZDy4i6U1F6DUqASfbu9LJXuhPPV9wGXiWA7CIwSF5fAbguxAAqaACwEN3TOpyAHbGGYURAADxUQA2TwF8lQpgZzkAa54CwJIQQDbr3KMLAVD3JAAYggVAEg1AnBTAIzQAeeYCyDG3V3EAxZkknAOw2iPpgGwCQABALgGbVYArCQFsJAWAmm0AO80BYPW0F7OEo4ynygGd0/MVAIDwUYCaVQApBy4CACAdTA5mgJ7IM4AoB+ISAIADQABALgEpB6IciEvgB4DYBCIdkHRgmQlIEg2AFgBA8gzAZhWgZhUg8gxgFgAgEg2ghhWgOIDiWBQCECcFwAgAgPgoAJaEAK4kBBA+CnARAIBwUoADT8ksS0gmaBcyO+WQ6WWRDAKoZJgpJCPUCxmeccj4qkjmYxsAD80E+JVhgIIBghKAi7WWlZWVlT/nxIZww04Nt20YVQV+xqAKhASAA4D0gAAAAAD/BwAAAACgwEYrmMAAAKDAAAAgQQsEAQEBBFmJPzz/VzwFWF3kv4EVAQJWQW4BAllIHgEC70EMAQLAQDQAAACsAAAA",
        "encoding": "base64",
        "path": [
         "scene_hFMXU7oA8iLoYYZs6EzcE1dgP",
         "drc"
        ]
       },
       {
        "data": "RFJBQ08CAgEBAAAAXLQBAbMBAAAtX9u2rWpLVVVVqVZLVVWValVLVVWpVlVLVZVqVVVLValWVVVLlWpVVVVLqQIKAQEQ/wL2XgL/AAEAAQABAAkDAAACAQICAwABAQQBAQAMF70JGQIZEkkfGQK0F5BpXg4ZDy4i6U1F6DUqASfbu9LJXuhPPV9wGXiWA7CIwSF5fAbguxAAqaACwEN3TOpyAHbGGYURAADxUQA2TwF8lQpgZzkAa54CwJIQQDbr3KMLAVD3JAAYggVAEg1AnBTAIzQAeeYCyDG3V3EAxZkknAOw2iPpgGwCQABALgGbVYArCQFsJAWAmm0AO80BYPW0F7OEo4ynygGd0/MVAIDwUYCaVQApBy4CACAdTA5mgJ7IM4AoB+ISAIADQABALgEpB6IciEvgB4DYBCIdkHRgmQlIEg2AFgBA8gzAZhWgZhUg8gxgFgAgEg2ghhWgOIDiWBQCECcFwAgAgPgoAJaEAK4kBBA+CnARAIBwUoADT8ksS0gmaBcyO+WQ6WWRDAKoZJgpJCPUCxmeccj4qkjmYxsAD80E+JVhgIIBghKAi7WWlZWVlT/nxIZww04Nt20YVQV+xqAKhASAA4D0gAAAAAD/BwAAAAAAwHF4878AAADAAACAQAsEAQEBBASJPzwDPAVYXeS/gRUBAlZBbgECWUgeAQLvQQwBAsBAWwAAAKsAAAA=",
        "encoding": "base64",
        "path": [
         "scene_hM0PJkplLpKlfuS6LppchtBdP",
         "drc"
        ]
       },
       {
        "data": "RFJBQ08CAgEBAAAAXLQBAbMBAAAtX9u2rWpLVVVVqVZLVVWValVLVVWpVlVLVZVqVVVLValWVVVLlWpVVVVLqQIKAQEQ/wL2XgL/AAEAAQABAAkDAAACAQICAwABAQQBAQAMF70JGQIZEkkfGQK0F5BpXg4ZDy4i6U1F6DUqASfbu9LJXuhPPV9wGXiWA7CIwSF5fAbguxAAqaACwEN3TOpyAHbGGYURAADxUQA2TwF8lQpgZzkAa54CwJIQQDbr3KMLAVD3JAAYggVAEg1AnBTAIzQAeeYCyDG3V3EAxZkknAOw2iPpgGwCQABALgGbVYArCQFsJAWAmm0AO80BYPW0F7OEo4ynygGd0/MVAIDwUYCaVQApBy4CACAdTA5mgJ7IM4AoB+ISAIADQABALgEpB6IciEvgB4DYBCIdkHRgmQlIEg2AFgBA8gzAZhWgZhUg8gxgFgAgEg2ghhWgOIDiWBQCECcFwAgAgPgoAJaEAK4kBBA+CnARAIBwUoADT8ksS0gmaBcyO+WQ6WWRDAKoZJgpJCPUCxmeccj4qkjmYxsAD80E+JVhgIIBghKAi7WWlZWVlT/nxIZww04Nt20YVQV+xqAKhASAA4D0gAAAAAD/BwAAAACQwb/ziMEAAJDBAAAQQgsEAQEBBJABiT88//8zPAVk6/6vgRUBAlZBbgECWUgeAQLvQQwBAsBABAAAALUAAAA=",
        "encoding": "base64",
        "path": [
         "scene_hQ2GXk3gHuK8wYhuYx79vet0V",
         "drc"
        ]
       },
       {
        "data": "RFJBQ08CAgEBAAAAXLQBAbMBAAAtX9u2rWpLVVVVqVZLVVWValVLVVWpVlVLVZVqVVVLValWVVVLlWpVVVVLqQIKAQEQ/wL2XgL/AAEAAQABAAkDAAACAQICAwABAQQBAQAMF70JGQIZEkkfGQK0F5BpXg4ZDy4i6U1F6DUqASfbu9LJXuhPPV9wGXiWA7CIwSF5fAbguxAAqaACwEN3TOpyAHbGGYURAADxUQA2TwF8lQpgZzkAa54CwJIQQDbr3KMLAVD3JAAYggVAEg1AnBTAIzQAeeYCyDG3V3EAxZkknAOw2iPpgGwCQABALgGbVYArCQFsJAWAmm0AO80BYPW0F7OEo4ynygGd0/MVAIDwUYCaVQApBy4CACAdTA5mgJ7IM4AoB+ISAIADQABALgEpB6IciEvgB4DYBCIdkHRgmQlIEg2AFgBA8gzAZhWgZhUg8gxgFgAgEg2ghhWgOIDiWBQCECcFwAgAgPgoAJaEAK4kBBA+CnARAIBwUoADT8ksS0gmaBcyO+WQ6WWRDAKoZJgpJCPUCxmeccj4qkjmYxsAD80E+JVhgIIBghKAi7WWlZWVlT/nxIZww04Nt20YVQV+xqAKhASAA4D0gAAAAAD/BwAAAAAgwUYrGMEAACDBAACgQQsEAQEBBKIBiT88//97PAVY95GzgRUBAlZBbgECWUgeAQLvQQwBAsBALwAAAOkAAAA=",
        "encoding": "base64",
        "path": [
         "scene_hxYwyhIFlXkYJgRf8Enms6tJu",
         "drc"
        ]
       },
       {
        "data": "RFJBQ08CAgEBAAAAXLQBAbMBAAAtX9u2rWpLVVVVqVZLVVWValVLVVWpVlVLVZVqVVVLValWVVVLlWpVVVVLqQIKAQEQ/wL2XgL/AAEAAQABAAkDAAACAQICAwABAQQBAQAMF70JGQIZEkkfGQK0F5BpXg4ZDy4i6U1F6DUqASfbu9LJXuhPPV9wGXiWA7CIwSF5fAbguxAAqaACwEN3TOpyAHbGGYURAADxUQA2TwF8lQpgZzkAa54CwJIQQDbr3KMLAVD3JAAYggVAEg1AnBTAIzQAeeYCyDG3V3EAxZkknAOw2iPpgGwCQABALgGbVYArCQFsJAWAmm0AO80BYPW0F7OEo4ynygGd0/MVAIDwUYCaVQApBy4CACAdTA5mgJ7IM4AoB+ISAIADQABALgEpB6IciEvgB4DYBCIdkHRgmQlIEg2AFgBA8gzAZhWgZhUg8gxgFgAgEg2ghhWgOIDiWBQCECcFwAgAgPgoAJaEAK4kBBA+CnARAIBwUoADT8ksS0gmaBcyO+WQ6WWRDAKoZJgpJCPUCxmeccj4qkjmYxsAD80E+JVhgIIBghKAi7WWlZWVlT/nxIZww04Nt20YVQV+xqAKhASAA4D0gAAAAAD/BwAAAACAv3F4c78AAIC/AAAAQAsEAQEBBDqJPzzbPAVk+u+vgRUBAlZBbgECWUgeAQLvQQwBAsBAiAAAAMkAAAA=",
        "encoding": "base64",
        "path": [
         "scene_i0HnAI4dn39MHv6tMitRcx80j",
         "drc"
        ]
       },
       {
        "data": "RFJBQ08CAgEBAAAAXLQBAbMBAAAtX9u2rWpLVVVVqVZLVVWValVLVVWpVlVLVZVqVVVLValWVVVLlWpVVVVLqQIKAQEQ/wL2XgL/AAEAAQABAAkDAAACAQICAwABAQQBAQAMF70JGQIZEkkfGQK0F5BpXg4ZDy4i6U1F6DUqASfbu9LJXuhPPV9wGXiWA7CIwSF5fAbguxAAqaACwEN3TOpyAHbGGYURAADxUQA2TwF8lQpgZzkAa54CwJIQQDbr3KMLAVD3JAAYggVAEg1AnBTAIzQAeeYCyDG3V3EAxZkknAOw2iPpgGwCQABALgGbVYArCQFsJAWAmm0AO80BYPW0F7OEo4ynygGd0/MVAIDwUYCaVQApBy4CACAdTA5mgJ7IM4AoB+ISAIADQABALgEpB6IciEvgB4DYBCIdkHRgmQlIEg2AFgBA8gzAZhWgZhUg8gxgFgAgEg2ghhWgOIDiWBQCECcFwAgAgPgoAJaEAK4kBBA+CnARAIBwUoADT8ksS0gmaBcyO+WQ6WWRDAKoZJgpJCPUCxmeccj4qkjmYxsAD80E+JVhgIIBghKAi7WWlZWVlT/nxIZww04Nt20YVQV+xqAKhASAA4D0gAAAAAD/BwAAAAAgwUYrGMEAACDBAACgQQsEAQEBBESJPzz/AzwFWPeRs4EVAQJWQW4BAllIHgEC70EMAQLAQAUAAABwAAAA",
        "encoding": "base64",
        "path": [
         "scene_iErvP5Dj30Xvz30IlWYvTpQE1",
         "drc"
        ]
       },
       {
        "data": "RFJBQ08CAgEBAAAAXLQBAbMBAAAtX9u2rWpLVVVVqVZLVVWValVLVVWpVlVLVZVqVVVLValWVVVLlWpVVVVLqQIKAQEQ/wL2XgL/AAEAAQABAAkDAAACAQICAwABAQQBAQAMF70JGQIZEkkfGQK0F5BpXg4ZDy4i6U1F6DUqASfbu9LJXuhPPV9wGXiWA7CIwSF5fAbguxAAqaACwEN3TOpyAHbGGYURAADxUQA2TwF8lQpgZzkAa54CwJIQQDbr3KMLAVD3JAAYggVAEg1AnBTAIzQAeeYCyDG3V3EAxZkknAOw2iPpgGwCQABALgGbVYArCQFsJAWAmm0AO80BYPW0F7OEo4ynygGd0/MVAIDwUYCaVQApBy4CACAdTA5mgJ7IM4AoB+ISAIADQABALgEpB6IciEvgB4DYBCIdkHRgmQlIEg2AFgBA8gzAZhWgZhUg8gxgFgAgEg2ghhWgOIDiWBQCECcFwAgAgPgoAJaEAK4kBBA+CnARAIBwUoADT8ksS0gmaBcyO+WQ6WWRDAKoZJgpJCPUCxmeccj4qkjmYxsAD80E+JVhgIIBghKAi7WWlZWVlT/nxIZww04Nt20YVQV+xqAKhASAA4D0gAAAAAD/BwAAAADAwFSatsAAAMDAAABAQQsEAQEBBFmJPzz/VzwFWOigs4EVAQJWQW4BAllIHgEC70EMAQLAQAcAAADYAAAA",
        "encoding": "base64",
        "path": [
         "scene_iXdSleDLCDaCf5iLvq4tuEndo",
         "drc"
        ]
       },
       {
        "data": "RFJBQ08CAgEBAAAAXLQBAbMBAAAtX9u2rWpLVVVVqVZLVVWValVLVVWpVlVLVZVqVVVLValWVVVLlWpVVVVLqQIKAQEQ/wL2XgL/AAEAAQABAAkDAAACAQICAwABAQQBAQAMF70JGQIZEkkfGQK0F5BpXg4ZDy4i6U1F6DUqASfbu9LJXuhPPV9wGXiWA7CIwSF5fAbguxAAqaACwEN3TOpyAHbGGYURAADxUQA2TwF8lQpgZzkAa54CwJIQQDbr3KMLAVD3JAAYggVAEg1AnBTAIzQAeeYCyDG3V3EAxZkknAOw2iPpgGwCQABALgGbVYArCQFsJAWAmm0AO80BYPW0F7OEo4ynygGd0/MVAIDwUYCaVQApBy4CACAdTA5mgJ7IM4AoB+ISAIADQABALgEpB6IciEvgB4DYBCIdkHRgmQlIEg2AFgBA8gzAZhWgZhUg8gxgFgAgEg2ghhWgOIDiWBQCECcFwAgAgPgoAJaEAK4kBBA+CnARAIBwUoADT8ksS0gmaBcyO+WQ6WWRDAKoZJgpJCPUCxmeccj4qkjmYxsAD80E+JVhgIIBghKAi7WWlZWVlT/nxIZww04Nt20YVQV+xqAKhASAA4D0gAAAAAD/BwAAAACAwHF4c8AAAIDAAAAAQQsEAQEBBG6JPzz/qzwFZOv+r4EVAQJWQW4BAllIHgEC70EMAQLAQAcAAADtAAAA",
        "encoding": "base64",
        "path": [
         "scene_iporRJERlAgfmWcd1vDiv3NmO",
         "drc"
        ]
       },
       {
        "data": "RFJBQ08CAgEBAAAAXLQBAbMBAAAtX9u2rWpLVVVVqVZLVVWValVLVVWpVlVLVZVqVVVLValWVVVLlWpVVVVLqQIKAQEQ/wL2XgL/AAEAAQABAAkDAAACAQICAwABAQQBAQAMF70JGQIZEkkfGQK0F5BpXg4ZDy4i6U1F6DUqASfbu9LJXuhPPV9wGXiWA7CIwSF5fAbguxAAqaACwEN3TOpyAHbGGYURAADxUQA2TwF8lQpgZzkAa54CwJIQQDbr3KMLAVD3JAAYggVAEg1AnBTAIzQAeeYCyDG3V3EAxZkknAOw2iPpgGwCQABALgGbVYArCQFsJAWAmm0AO80BYPW0F7OEo4ynygGd0/MVAIDwUYCaVQApBy4CACAdTA5mgJ7IM4AoB+ISAIADQABALgEpB6IciEvgB4DYBCIdkHRgmQlIEg2AFgBA8gzAZhWgZhUg8gxgFgAgEg2ghhWgOIDiWBQCECcFwAgAgPgoAJaEAK4kBBA+CnARAIBwUoADT8ksS0gmaBcyO+WQ6WWRDAKoZJgpJCPUCxmeccj4qkjmYxsAD80E+JVhgIIBghKAi7WWlZWVlT/nxIZww04Nt20YVQV+xqAKhASAA4D0gAAAAAD/BwAAAACQwb/ziMEAAJDBAAAQQgsEAQEBBD+JPzzvPAVk6/6vgRUBAlZBbgECWUgeAQLvQQwBAsBAeAAAAM8AAAA=",
        "encoding": "base64",
        "path": [
         "scene_iug7DFGjEV4VrRG3O65noQxrH",
         "drc"
        ]
       },
       {
        "data": "RFJBQ08CAgEBAAAAXLQBAbMBAAAtX9u2rWpLVVVVqVZLVVWValVLVVWpVlVLVZVqVVVLValWVVVLlWpVVVVLqQIKAQEQ/wL2XgL/AAEAAQABAAkDAAACAQICAwABAQQBAQAMF70JGQIZEkkfGQK0F5BpXg4ZDy4i6U1F6DUqASfbu9LJXuhPPV9wGXiWA7CIwSF5fAbguxAAqaACwEN3TOpyAHbGGYURAADxUQA2TwF8lQpgZzkAa54CwJIQQDbr3KMLAVD3JAAYggVAEg1AnBTAIzQAeeYCyDG3V3EAxZkknAOw2iPpgGwCQABALgGbVYArCQFsJAWAmm0AO80BYPW0F7OEo4ynygGd0/MVAIDwUYCaVQApBy4CACAdTA5mgJ7IM4AoB+ISAIADQABALgEpB6IciEvgB4DYBCIdkHRgmQlIEg2AFgBA8gzAZhWgZhUg8gxgFgAgEg2ghhWgOIDiWBQCECcFwAgAgPgoAJaEAK4kBBA+CnARAIBwUoADT8ksS0gmaBcyO+WQ6WWRDAKoZJgpJCPUCxmeccj4qkjmYxsAD80E+JVhgIIBghKAi7WWlZWVlT/nxIZww04Nt20YVQV+xqAKhASAA4D0gAAAAAD/BwAAAACQwb/ziMEAAJDBAAAQQgsEAQEBBCiJPzyTPAVYXeS/gRUBAlZBbgECWUgeAQLvQQwBAsBAGQAAAH8AAAA=",
        "encoding": "base64",
        "path": [
         "scene_iv4zXvu9hiiEPJzcXBCyz2Got",
         "drc"
        ]
       },
       {
        "data": "RFJBQ08CAgEBAAAAXLQBAbMBAAAtX9u2rWpLVVVVqVZLVVWValVLVVWpVlVLVZVqVVVLValWVVVLlWpVVVVLqQIKAQEQ/wL2XgL/AAEAAQABAAkDAAACAQICAwABAQQBAQAMF70JGQIZEkkfGQK0F5BpXg4ZDy4i6U1F6DUqASfbu9LJXuhPPV9wGXiWA7CIwSF5fAbguxAAqaACwEN3TOpyAHbGGYURAADxUQA2TwF8lQpgZzkAa54CwJIQQDbr3KMLAVD3JAAYggVAEg1AnBTAIzQAeeYCyDG3V3EAxZkknAOw2iPpgGwCQABALgGbVYArCQFsJAWAmm0AO80BYPW0F7OEo4ynygGd0/MVAIDwUYCaVQApBy4CACAdTA5mgJ7IM4AoB+ISAIADQABALgEpB6IciEvgB4DYBCIdkHRgmQlIEg2AFgBA8gzAZhWgZhUg8gxgFgAgEg2ghhWgOIDiWBQCECcFwAgAgPgoAJaEAK4kBBA+CnARAIBwUoADT8ksS0gmaBcyO+WQ6WWRDAKoZJgpJCPUCxmeccj4qkjmYxsAD80E+JVhgIIBghKAi7WWlZWVlT/nxIZww04Nt20YVQV+xqAKhASAA4D0gAAAAAD/BwAAAAAwwc1iJ8EAADDBAACwQQsEAQEBBAaJPzwLPAVk6/6vgRUBAlZBbgECWUgeAQLvQQwBAsBAEAAAAOMAAAA=",
        "encoding": "base64",
        "path": [
         "scene_jQyVuPpvXsVusR3rqI7zFZtey",
         "drc"
        ]
       },
       {
        "data": "RFJBQ08CAgEBAAAAXLQBAbMBAAAtX9u2rWpLVVVVqVZLVVWValVLVVWpVlVLVZVqVVVLValWVVVLlWpVVVVLqQIKAQEQ/wL2XgL/AAEAAQABAAkDAAACAQICAwABAQQBAQAMF70JGQIZEkkfGQK0F5BpXg4ZDy4i6U1F6DUqASfbu9LJXuhPPV9wGXiWA7CIwSF5fAbguxAAT1kB0EN3TOpyAHbGGYURAADxUQA2TwF8lQpgZzkAa54CwJIQQDbr3KMLAVD3JAAYggVAEg1AnBTAIzQAO82NsdIdQHEAxclMzgGw+iPpgGwCQABALgGbVYArCQFsJAWAmm0AO80BUPW0F7OEo4ynygGd8/MVAIDwUYCaVQApBy4CACAdTA5mgJ/IM4AoB+ISAIAFQABALgEpB6IciEvgB4DYBCIdkHRgmclHEg2AFgBA8gzAZhWgZhUg8gxgFgAgEg2ghhWgOIDiWBQCECcFwAgAgPgoAJaEAK4kBBA+CnARAIBwUoADT8ksS0gmaBcyO+WQ6WWRDAKoZJgpJCPUCxmeccj4qkimvx8AD94DmOJGggGEEtR8RV4iJCQkCNeA4WSDIwVCaxhVBX7GoAqEBIADAPaAAAAAAP8HAAAAAFDB29FFwQAAUMEAANBBCwQBAQEEFok/PEs8BVhd5L+BFQECVkFuAQJZSB4BAu9BDAECwEA3AAAA0QAAAA==",
        "encoding": "base64",
        "path": [
         "scene_jU7KkaqFVlRIVyu8qma7lvjAU",
         "drc"
        ]
       },
       {
        "data": "RFJBQ08CAgEBAAAAXLQBAbMBAAAtX9u2rWpLVVVVqVZLVVWValVLVVWpVlVLVZVqVVVLValWVVVLlWpVVVVLqQIKAQEQ/wL2XgL/AAEAAQABAAkDAAACAQICAwABAQQBAQAMF70JGQIZEkkfGQK0F5BpXg4ZDy4i6U1F6DUqASfbu9LJXuhPPV9wGXiWA7CIwSF5fAbguxAAT1kB0EN3TOpyAHbGGYURAADxUQA2TwF8lQpgZzkAa54CwJIQQDbr3KMLAVD3JAAYggVAEg1AnBTAIzQAO82NsdIdQHEAxclMzgGw+iPpgGwCQABALgGbVYArCQFsJAWAmm0AO80BUPW0F7OEo4ynygGd8/MVAIDwUYCaVQApBy4CACAdTA5mgJ/IM4AoB+ISAIAFQABALgEpB6IciEvgB4DYBCIdkHRgmclHEg2AFgBA8gzAZhWgZhUg8gxgFgAgEg2ghhWgOIDiWBQCECcFwAgAgPgoAJaEAK4kBBA+CnARAIBwUoADT8ksS0gmaBcyO+WQ6WWRDAKoZJgpJCPUCxmeccj4qkimvx8AD94DmOJGggGEEtR8RV4iJCQkCNeA4WSDIwVCaxhVBX7GoAqEBIADAPaAAAAAAP8HAAAAAGDBYwlVwQAAYMEAAOBBCwQBAQEEUIk/PP8zPAVYTvO/gRUBAlZBbgECWUgeAQLvQQwBAsBAWAAAAPgAAAA=",
        "encoding": "base64",
        "path": [
         "scene_juL5o1XEHI6RnEKAlBS9IP1nD",
         "drc"
        ]
       },
       {
        "data": "RFJBQ08CAgEBAAAAXLQBAbMBAAAtX9u2rWpLVVVVqVZLVVWValVLVVWpVlVLVZVqVVVLValWVVVLlWpVVVVLqQIKAQEQ/wL2XgL/AAEAAQABAAkDAAACAQICAwABAQQBAQAMF70JGQIZEkkfGQK0F5BpXg4ZDy4i6U1F6DUqASfbu9LJXuhPPV9wGXiWA7CIwSF5fAbguxAAT1kB0EN3TOpyAHbGGYURAADxUQA2TwF8lQpgZzkAa54CwJIQQDbr3KMLAVD3JAAYggVAEg1AnBTAIzQAO82NsdIdQHEAxclMzgGw+iPpgGwCQABALgGbVYArCQFsJAWAmm0AO80BUPW0F7OEo4ynygGd8/MVAIDwUYCaVQApBy4CACAdTA5mgJ/IM4AoB+ISAIAFQABALgEpB6IciEvgB4DYBCIdkHRgmclHEg2AFgBA8gzAZhWgZhUg8gxgFgAgEg2ghhWgOIDiWBQCECcFwAgAgPgoAJaEAK4kBBA+CnARAIBwUoADT8ksS0gmaBcyO+WQ6WWRDAKoZJgpJCPUCxmeccj4qkimvx8AD94DmOJGggGEEtR8RV4iJCQkCNeA4WSDIwVCaxhVBX7GoAqEBIADAPaAAAAAAP8HAAAAAODAYwnVwAAA4MAAAGBBCwQBAQEEFok/PEs8BVj3kbOBFQECVkFuAQJZSB4BAu9BDAECwEB7AAAA2wAAAA==",
        "encoding": "base64",
        "path": [
         "scene_kBF2smTU2I5ZSyPTQ5qXBqgAO",
         "drc"
        ]
       },
       {
        "data": "RFJBQ08CAgEBAAAAXLQBAbMBAAAtX9u2rWpLVVVVqVZLVVWValVLVVWpVlVLVZVqVVVLValWVVVLlWpVVVVLqQIKAQEQ/wL2XgL/AAEAAQABAAkDAAACAQICAwABAQQBAQAMF70JGQIZEkkfGQK0F5BpXg4ZDy4i6U1F6DUqASfbu9LJXuhPPV9wGXiWA7CIwSF5fAbguxAAT1kB0EN3TOpyAHbGGYURAADxUQA2TwF8lQpgZzkAa54CwJIQQDbr3KMLAVD3JAAYggVAEg1AnBTAIzQAO82NsdIdQHEAxclMzgGw+iPpgGwCQABALgGbVYArCQFsJAWAmm0AO80BUPW0F7OEo4ynygGd8/MVAIDwUYCaVQApBy4CACAdTA5mgJ/IM4AoB+ISAIAFQABALgEpB6IciEvgB4DYBCIdkHRgmclHEg2AFgBA8gzAZhWgZhUg8gxgFgAgEg2ghhWgOIDiWBQCECcFwAgAgPgoAJaEAK4kBBA+CnARAIBwUoADT8ksS0gmaBcyO+WQ6WWRDAKoZJgpJCPUCxmeccj4qkimvx8AD94DmOJGggGEEtR8RV4iJCQkCNeA4WSDIwVCaxhVBX7GoAqEBIADAPaAAAAAAP8HAAAAAODAYwnVwAAA4MAAAGBBCwQBAQEELYk/PKc8BVj3kbOBFQECVkFuAQJZSB4BAu9BDAECwECxAAAA9AAAAA==",
        "encoding": "base64",
        "path": [
         "scene_ka2xCW2A7tPceT9JODK8bFl0O",
         "drc"
        ]
       },
       {
        "data": "RFJBQ08CAgEBAAAAXLQBAbMBAAAtX9u2rWpLVVVVqVZLVVWValVLVVWpVlVLVZVqVVVLValWVVVLlWpVVVVLqQIKAQEQ/wL2XgL/AAEAAQABAAkDAAACAQICAwABAQQBAQAMF70JGQIZEkkfGQK0F5BpXg4ZDy4i6U1F6DUqASfbu9LJXuhPPV9wGXiWA7CIwSF5fAbguxAAqaACwEN3TOpyAHbGGYURAADxUQA2TwF8lQpgZzkAa54CwJIQQDbr3KMLAVD3JAAYggVAEg1AnBTAIzQAeeYCyDG3V3EAxZkknAOw2iPpgGwCQABALgGbVYArCQFsJAWAmm0AO80BYPW0F7OEo4ynygGd0/MVAIDwUYCaVQApBy4CACAdTA5mgJ7IM4AoB+ISAIADQABALgEpB6IciEvgB4DYBCIdkHRgmQlIEg2AFgBA8gzAZhWgZhUg8gxgFgAgEg2ghhWgOIDiWBQCECcFwAgAgPgoAJaEAK4kBBA+CnARAIBwUoADT8ksS0gmaBcyO+WQ6WWRDAKoZJgpJCPUCxmeccj4qkjmYxsAD80E+JVhgIIBghKAi7WWlZWVlT/nxIZww04Nt20YVQV+xqAKhASAA4D0gAAAAAD/BwAAAAAwwc1iJ8EAADDBAACwQQsEAQEBBIUBiT88//8HPAVk6/6vgRUBAlZBbgECWUgeAQLvQQwBAsBABAAAAMMAAAA=",
        "encoding": "base64",
        "path": [
         "scene_lE6d77oJBhfJWrIPWaFKW4eR2",
         "drc"
        ]
       },
       {
        "data": "RFJBQ08CAgEBAAAAXLQBAbMBAAAtX9u2rWpLVVVVqVZLVVWValVLVVWpVlVLVZVqVVVLValWVVVLlWpVVVVLqQIKAQEQ/wL2XgL/AAEAAQABAAkDAAACAQICAwABAQQBAQAMF70JGQIZEkkfGQK0F5BpXg4ZDy4i6U1F6DUqASfbu9LJXuhPPV9wGXiWA7CIwSF5fAbguxAAqaACwEN3TOpyAHbGGYURAADxUQA2TwF8lQpgZzkAa54CwJIQQDbr3KMLAVD3JAAYggVAEg1AnBTAIzQAeeYCyDG3V3EAxZkknAOw2iPpgGwCQABALgGbVYArCQFsJAWAmm0AO80BYPW0F7OEo4ynygGd0/MVAIDwUYCaVQApBy4CACAdTA5mgJ7IM4AoB+ISAIADQABALgEpB6IciEvgB4DYBCIdkHRgmQlIEg2AFgBA8gzAZhWgZhUg8gxgFgAgEg2ghhWgOIDiWBQCECcFwAgAgPgoAJaEAK4kBBA+CnARAIBwUoADT8ksS0gmaBcyO+WQ6WWRDAKoZJgpJCPUCxmeccj4qkjmYxsAD80E+JVhgIIBghKAi7WWlZWVlT/nxIZww04Nt20YVQV+xqAKhASAA4D0gAAAAAD/BwAAAAAAwXF488AAAADBAACAQQsEAQEBBJcBiT88//9PPAVYTvO/gRUBAlZBbgECWUgeAQLvQQwBAsBAHQAAAPgAAAA=",
        "encoding": "base64",
        "path": [
         "scene_lmBpDjsjtqA7zrROMcVxnlFdA",
         "drc"
        ]
       },
       {
        "data": "RFJBQ08CAgEBAAAAXLQBAbMBAAAtX9u2rWpLVVVVqVZLVVWValVLVVWpVlVLVZVqVVVLValWVVVLlWpVVVVLqQIKAQEQ/wL2XgL/AAEAAQABAAkDAAACAQICAwABAQQBAQAMF70JGQIZEkkfGQK0F5BpXg4ZDy4i6U1F6DUqASfbu9LJXuhPPV9wGXiWA7CIwSF5fAbguxAAqaACwEN3TOpyAHbGGYURAADxUQA2TwF8lQpgZzkAa54CwJIQQDbr3KMLAVD3JAAYggVAEg1AnBTAIzQAeeYCyDG3V3EAxZkknAOw2iPpgGwCQABALgGbVYArCQFsJAWAmm0AO80BYPW0F7OEo4ynygGd0/MVAIDwUYCaVQApBy4CACAdTA5mgJ7IM4AoB+ISAIADQABALgEpB6IciEvgB4DYBCIdkHRgmQlIEg2AFgBA8gzAZhWgZhUg8gxgFgAgEg2ghhWgOIDiWBQCECcFwAgAgPgoAJaEAK4kBBA+CnARAIBwUoADT8ksS0gmaBcyO+WQ6WWRDAKoZJgpJCPUCxmeccj4qkjmYxsAD80E+JVhgIIBghKAi7WWlZWVlT/nxIZww04Nt20YVQV+xqAKhASAA4D0gAAAAAD/BwAAAACAv3F4c78AAIC/AAAAQAsEAQEBBFOJPzz/PzwFWF3kv4EVAQJWQW4BAllIHgEC70EMAQLAQFYAAACvAAAA",
        "encoding": "base64",
        "path": [
         "scene_n4rkKFyvL5FcWpdXn1vqymNaU",
         "drc"
        ]
       },
       {
        "data": "RFJBQ08CAgEBAAAAXLQBAbMBAAAtX9u2rWpLVVVVqVZLVVWValVLVVWpVlVLVZVqVVVLValWVVVLlWpVVVVLqQIKAQEQ/wL2XgL/AAEAAQABAAkDAAACAQICAwABAQQBAQAMF70JGQIZEkkfGQK0F5BpXg4ZDy4i6U1F6DUqASfbu9LJXuhPPV9wGXiWA7CIwSF5fAbguxAAqaACwEN3TOpyAHbGGYURAADxUQA2TwF8lQpgZzkAa54CwJIQQDbr3KMLAVD3JAAYggVAEg1AnBTAIzQAeeYCyDG3V3EAxZkknAOw2iPpgGwCQABALgGbVYArCQFsJAWAmm0AO80BYPW0F7OEo4ynygGd0/MVAIDwUYCaVQApBy4CACAdTA5mgJ7IM4AoB+ISAIADQABALgEpB6IciEvgB4DYBCIdkHRgmQlIEg2AFgBA8gzAZhWgZhUg8gxgFgAgEg2ghhWgOIDiWBQCECcFwAgAgPgoAJaEAK4kBBA+CnARAIBwUoADT8ksS0gmaBcyO+WQ6WWRDAKoZJgpJCPUCxmeccj4qkjmYxsAD80E+JVhgIIBghKAi7WWlZWVlT/nxIZww04Nt20YVQV+xqAKhASAA4D0gAAAAAD/BwAAAABAwVSaNsEAAEDBAADAQQsEAQEBBDOJPzy/PAVY6KCzgRUBAlZBbgECWUgeAQLvQQwBAsBALQAAALEAAAA=",
        "encoding": "base64",
        "path": [
         "scene_nHOS0lEobyUSwBbpUDSoFgAZF",
         "drc"
        ]
       },
       {
        "data": "RFJBQ08CAgEBAAAAXLQBAbMBAAAtX9u2rWpLVVVVqVZLVVWValVLVVWpVlVLVZVqVVVLValWVVVLlWpVVVVLqQIKAQEQ/wL2XgL/AAEAAQABAAkDAAACAQICAwABAQQBAQAMF70JGQIZEkkfGQK0F5BpXg4ZDy4i6U1F6DUqASfbu9LJXuhPPV9wGXiWA7CIwSF5fAbguxAAqaACwEN3TOpyAHbGGYURAADxUQA2TwF8lQpgZzkAa54CwJIQQDbr3KMLAVD3JAAYggVAEg1AnBTAIzQAeeYCyDG3V3EAxZkknAOw2iPpgGwCQABALgGbVYArCQFsJAWAmm0AO80BYPW0F7OEo4ynygGd0/MVAIDwUYCaVQApBy4CACAdTA5mgJ7IM4AoB+ISAIADQABALgEpB6IciEvgB4DYBCIdkHRgmQlIEg2AFgBA8gzAZhWgZhUg8gxgFgAgEg2ghhWgOIDiWBQCECcFwAgAgPgoAJaEAK4kBBA+CnARAIBwUoADT8ksS0gmaBcyO+WQ6WWRDAKoZJgpJCPUCxmeccj4qkjmYxsAD80E+JVhgIIBghKAi7WWlZWVlT/nxIZww04Nt20YVQV+xqAKhASAA4D0gAAAAAD/BwAAAACIwfxXgcEAAIjBAAAIQgsEAQEBBAyJPzwjPAVk6/6vgRUBAlZBbgECWUgeAQLvQQwBAsBANAAAAPIAAAA=",
        "encoding": "base64",
        "path": [
         "scene_nKfVCTus9KB0D2LkeVWytaLU7",
         "drc"
        ]
       },
       {
        "data": "RFJBQ08CAgEBAAAAXLQBAbMBAAAtX9u2rWpLVVVVqVZLVVWValVLVVWpVlVLVZVqVVVLValWVVVLlWpVVVVLqQIKAQEQ/wL2XgL/AAEAAQABAAkDAAACAQICAwABAQQBAQAMF70JGQIZEkkfGQK0F5BpXg4ZDy4i6U1F6DUqASfbu9LJXuhPPV9wGXiWA7CIwSF5fAbguxAAqaACwEN3TOpyAHbGGYURAADxUQA2TwF8lQpgZzkAa54CwJIQQDbr3KMLAVD3JAAYggVAEg1AnBTAIzQAeeYCyDG3V3EAxZkknAOw2iPpgGwCQABALgGbVYArCQFsJAWAmm0AO80BYPW0F7OEo4ynygGd0/MVAIDwUYCaVQApBy4CACAdTA5mgJ7IM4AoB+ISAIADQABALgEpB6IciEvgB4DYBCIdkHRgmQlIEg2AFgBA8gzAZhWgZhUg8gxgFgAgEg2ghhWgOIDiWBQCECcFwAgAgPgoAJaEAK4kBBA+CnARAIBwUoADT8ksS0gmaBcyO+WQ6WWRDAKoZJgpJCPUCxmeccj4qkjmYxsAD80E+JVhgIIBghKAi7WWlZWVlT/nxIZww04Nt20YVQV+xqAKhASAA4D0gAAAAAD/BwAAAABAwVSaNsEAAEDBAADAQQsEAQEBBBaJPzxLPAVYTvO/gRUBAlZBbgECWUgeAQLvQQwBAsBAGgAAANAAAAA=",
        "encoding": "base64",
        "path": [
         "scene_nP9h1iq73jFTOWDvGzjuofGt7",
         "drc"
        ]
       },
       {
        "data": "RFJBQ08CAgEBAAAAXLQBAbMBAAAtX9u2rWpLVVVVqVZLVVWValVLVVWpVlVLVZVqVVVLValWVVVLlWpVVVVLqQIKAQEQ/wL2XgL/AAEAAQABAAkDAAACAQICAwABAQQBAQAMF70JGQIZEkkfGQK0F5BpXg4ZDy4i6U1F6DUqASfbu9LJXuhPPV9wGXiWA7CIwSF5fAbguxAAqaACwEN3TOpyAHbGGYURAADxUQA2TwF8lQpgZzkAa54CwJIQQDbr3KMLAVD3JAAYggVAEg1AnBTAIzQAeeYCyDG3V3EAxZkknAOw2iPpgGwCQABALgGbVYArCQFsJAWAmm0AO80BYPW0F7OEo4ynygGd0/MVAIDwUYCaVQApBy4CACAdTA5mgJ7IM4AoB+ISAIADQABALgEpB6IciEvgB4DYBCIdkHRgmQlIEg2AFgBA8gzAZhWgZhUg8gxgFgAgEg2ghhWgOIDiWBQCECcFwAgAgPgoAJaEAK4kBBA+CnARAIBwUoADT8ksS0gmaBcyO+WQ6WWRDAKoZJgpJCPUCxmeccj4qkjmYxsAD80E+JVhgIIBghKAi7WWlZWVlT/nxIZww04Nt20YVQV+xqAKhASAA4D0gAAAAAD/BwAAAAAQwb/zCMEAABDBAACQQQsEAQEBBEKJPzz7PAVYTvO/gRUBAlZBbgECWUgeAQLvQQwBAsBAHQAAANkAAAA=",
        "encoding": "base64",
        "path": [
         "scene_nVVDwPpW9oG5T6UjG9Z8qLWB5",
         "drc"
        ]
       },
       {
        "data": "RFJBQ08CAgEBAAAAXLQBAbMBAAAtX9u2rWpLVVVVqVZLVVWValVLVVWpVlVLVZVqVVVLValWVVVLlWpVVVVLqQIKAQEQ/wL2XgL/AAEAAQABAAkDAAACAQICAwABAQQBAQAMF70JGQIZEkkfGQK0F5BpXg4ZDy4i6U1F6DUqASfbu9LJXuhPPV9wGXiWA7CIwSF5fAbguxAAqaACwEN3TOpyAHbGGYURAADxUQA2TwF8lQpgZzkAa54CwJIQQDbr3KMLAVD3JAAYggVAEg1AnBTAIzQAeeYCyDG3V3EAxZkknAOw2iPpgGwCQABALgGbVYArCQFsJAWAmm0AO80BYPW0F7OEo4ynygGd0/MVAIDwUYCaVQApBy4CACAdTA5mgJ7IM4AoB+ISAIADQABALgEpB6IciEvgB4DYBCIdkHRgmQlIEg2AFgBA8gzAZhWgZhUg8gxgFgAgEg2ghhWgOIDiWBQCECcFwAgAgPgoAJaEAK4kBBA+CnARAIBwUoADT8ksS0gmaBcyO+WQ6WWRDAKoZJgpJCPUCxmeccj4qkjmYxsAD80E+JVhgIIBghKAi7WWlZWVlT/nxIZww04Nt20YVQV+xqAKhASAA4D0gAAAAAD/BwAAAAAwwc1iJ8EAADDBAACwQQsEAQEBBCWJPzyHPAVk+u+vgRUBAlZBbgECWUgeAQLvQQwBAsBADgAAADsAAAA=",
        "encoding": "base64",
        "path": [
         "scene_naQBoC4DGtTtxVwUSZsqgocEW",
         "drc"
        ]
       },
       {
        "data": "RFJBQ08CAgEBAAAAXLQBAbMBAAAtX9u2rWpLVVVVqVZLVVWValVLVVWpVlVLVZVqVVVLValWVVVLlWpVVVVLqQIKAQEQ/wL2XgL/AAEAAQABAAkDAAACAQICAwABAQQBAQAMF70JGQIZEkkfGQK0F5BpXg4ZDy4i6U1F6DUqASfbu9LJXuhPPV9wGXiWA7CIwSF5fAbguxAAqaACwEN3TOpyAHbGGYURAADxUQA2TwF8lQpgZzkAa54CwJIQQDbr3KMLAVD3JAAYggVAEg1AnBTAIzQAeeYCyDG3V3EAxZkknAOw2iPpgGwCQABALgGbVYArCQFsJAWAmm0AO80BYPW0F7OEo4ynygGd0/MVAIDwUYCaVQApBy4CACAdTA5mgJ7IM4AoB+ISAIADQABALgEpB6IciEvgB4DYBCIdkHRgmQlIEg2AFgBA8gzAZhWgZhUg8gxgFgAgEg2ghhWgOIDiWBQCECcFwAgAgPgoAJaEAK4kBBA+CnARAIBwUoADT8ksS0gmaBcyO+WQ6WWRDAKoZJgpJCPUCxmeccj4qkjmYxsAD80E+JVhgIIBghKAi7WWlZWVlT/nxIZww04Nt20YVQV+xqAKhASAA4D0gAAAAAD/BwAAAABAwVSaNsEAAEDBAADAQQsEAQEBBB+JPzxvPAVk6/6vgRUBAlZBbgECWUgeAQLvQQwBAsBAmwAAAMAAAAA=",
        "encoding": "base64",
        "path": [
         "scene_nciNO8KsVajeirJEtNYpHrFmA",
         "drc"
        ]
       },
       {
        "data": "RFJBQ08CAgEBAAAAXLQBAbMBAAAtX9u2rWpLVVVVqVZLVVWValVLVVWpVlVLVZVqVVVLValWVVVLlWpVVVVLqQIKAQEQ/wL2XgL/AAEAAQABAAkDAAACAQICAwABAQQBAQAMF70JGQIZEkkfGQK0F5BpXg4ZDy4i6U1F6DUqASfbu9LJXuhPPV9wGXiWA7CIwSF5fAbguxAAT1kB0EN3TOpyAHbGGYURAADxUQA2TwF8lQpgZzkAa54CwJIQQDbr3KMLAVD3JAAYggVAEg1AnBTAIzQAO82NsdIdQHEAxclMzgGw+iPpgGwCQABALgGbVYArCQFsJAWAmm0AO80BUPW0F7OEo4ynygGd8/MVAIDwUYCaVQApBy4CACAdTA5mgJ/IM4AoB+ISAIAFQABALgEpB6IciEvgB4DYBCIdkHRgmclHEg2AFgBA8gzAZhWgZhUg8gxgFgAgEg2ghhWgOIDiWBQCECcFwAgAgPgoAJaEAK4kBBA+CnARAIBwUoADT8ksS0gmaBcyO+WQ6WWRDAKoZJgpJCPUCxmeccj4qkimvx8AD94DmOJGggGEEtR8RV4iJCQkCNeA4WSDIwVCaxhVBX7GoAqEBIADAPaAAAAAAP8HAAAAAGDBYwlVwQAAYMEAAOBBCwQBAQEEjwGJPzz//y88BVj3kbOBFQECVkFuAQJZSB4BAu9BDAECwEADAAAA/QAAAA==",
        "encoding": "base64",
        "path": [
         "scene_nx1x8SzlzbT1EPBS7UKrC0JtI",
         "drc"
        ]
       },
       {
        "data": "RFJBQ08CAgEBAAAAXLQBAbMBAAAtX9u2rWpLVVVVqVZLVVWValVLVVWpVlVLVZVqVVVLValWVVVLlWpVVVVLqQIKAQEQ/wL2XgL/AAEAAQABAAkDAAACAQICAwABAQQBAQAMF70JGQIZEkkfGQK0F5BpXg4ZDy4i6U1F6DUqASfbu9LJXuhPPV9wGXiWA7CIwSF5fAbguxAAT1kB0EN3TOpyAHbGGYURAADxUQA2TwF8lQpgZzkAa54CwJIQQDbr3KMLAVD3JAAYggVAEg1AnBTAIzQAO82NsdIdQHEAxclMzgGw+iPpgGwCQABALgGbVYArCQFsJAWAmm0AO80BUPW0F7OEo4ynygGd8/MVAIDwUYCaVQApBy4CACAdTA5mgJ/IM4AoB+ISAIAFQABALgEpB6IciEvgB4DYBCIdkHRgmclHEg2AFgBA8gzAZhWgZhUg8gxgFgAgEg2ghhWgOIDiWBQCECcFwAgAgPgoAJaEAK4kBBA+CnARAIBwUoADT8ksS0gmaBcyO+WQ6WWRDAKoZJgpJCPUCxmeccj4qkimvx8AD94DmOJGggGEEtR8RV4iJCQkCNeA4WSDIwVCaxhVBX7GoAqEBIADAPaAAAAAAP8HAAAAAGDBYwlVwQAAYMEAAOBBCwQBAQEEG4k/PF88BWTr/q+BFQECVkFuAQJZSB4BAu9BDAECwEAtAAAAigAAAA==",
        "encoding": "base64",
        "path": [
         "scene_o2hLkZlHnu7DzWCITbcCBEega",
         "drc"
        ]
       },
       {
        "data": "RFJBQ08CAgEBAAAAXLQBAbMBAAAtX9u2rWpLVVVVqVZLVVWValVLVVWpVlVLVZVqVVVLValWVVVLlWpVVVVLqQIKAQEQ/wL2XgL/AAEAAQABAAkDAAACAQICAwABAQQBAQAMF70JGQIZEkkfGQK0F5BpXg4ZDy4i6U1F6DUqASfbu9LJXuhPPV9wGXiWA7CIwSF5fAbguxAAT1kB0EN3TOpyAHbGGYURAADxUQA2TwF8lQpgZzkAa54CwJIQQDbr3KMLAVD3JAAYggVAEg1AnBTAIzQAO82NsdIdQHEAxclMzgGw+iPpgGwCQABALgGbVYArCQFsJAWAmm0AO80BUPW0F7OEo4ynygGd8/MVAIDwUYCaVQApBy4CACAdTA5mgJ/IM4AoB+ISAIAFQABALgEpB6IciEvgB4DYBCIdkHRgmclHEg2AFgBA8gzAZhWgZhUg8gxgFgAgEg2ghhWgOIDiWBQCECcFwAgAgPgoAJaEAK4kBBA+CnARAIBwUoADT8ksS0gmaBcyO+WQ6WWRDAKoZJgpJCPUCxmeccj4qkimvx8AD94DmOJGggGEEtR8RV4iJCQkCNeA4WSDIwVCaxhVBX7GoAqEBIADAPaAAAAAAP8HAAAAAHDB6kBkwQAAcMEAAPBBCwQBAQEEaYk/PP+XPAVYTvO/gRUBAlZBbgECWUgeAQLvQQwBAsBACgAAAKYAAAA=",
        "encoding": "base64",
        "path": [
         "scene_oCpcyMhvgV9ESHnxjeHlDPDyt",
         "drc"
        ]
       },
       {
        "data": "RFJBQ08CAgEBAAAAXLQBAbMBAAAtX9u2rWpLVVVVqVZLVVWValVLVVWpVlVLVZVqVVVLValWVVVLlWpVVVVLqQIKAQEQ/wL2XgL/AAEAAQABAAkDAAACAQICAwABAQQBAQAMF70JGQIZEkkfGQK0F5BpXg4ZDy4i6U1F6DUqASfbu9LJXuhPPV9wGXiWA7CIwSF5fAbguxAAqaACwEN3TOpyAHbGGYURAADxUQA2TwF8lQpgZzkAa54CwJIQQDbr3KMLAVD3JAAYggVAEg1AnBTAIzQAeeYCyDG3V3EAxZkknAOw2iPpgGwCQABALgGbVYArCQFsJAWAmm0AO80BYPW0F7OEo4ynygGd0/MVAIDwUYCaVQApBy4CACAdTA5mgJ7IM4AoB+ISAIADQABALgEpB6IciEvgB4DYBCIdkHRgmQlIEg2AFgBA8gzAZhWgZhUg8gxgFgAgEg2ghhWgOIDiWBQCECcFwAgAgPgoAJaEAK4kBBA+CnARAIBwUoADT8ksS0gmaBcyO+WQ6WWRDAKoZJgpJCPUCxmeccj4qkjmYxsAD80E+JVhgIIBghKAi7WWlZWVlT/nxIZww04Nt20YVQV+xqAKhASAA4D0gAAAAAD/BwAAAACYwYOPkMEAAJjBAAAYQgsEAQEBBDKJPzy7PAVk+u+vgRUBAlZBbgECWUgeAQLvQQwBAsBAFwAAAPAAAAA=",
        "encoding": "base64",
        "path": [
         "scene_oW8NBw3bfySN6PjlKpwNF6avu",
         "drc"
        ]
       },
       {
        "data": "RFJBQ08CAgEBAAAAXLQBAbMBAAAtX9u2rWpLVVVVqVZLVVWValVLVVWpVlVLVZVqVVVLValWVVVLlWpVVVVLqQIKAQEQ/wL2XgL/AAEAAQABAAkDAAACAQICAwABAQQBAQAMF70JGQIZEkkfGQK0F5BpXg4ZDy4i6U1F6DUqASfbu9LJXuhPPV9wGXiWA7CIwSF5fAbguxAAqaACwEN3TOpyAHbGGYURAADxUQA2TwF8lQpgZzkAa54CwJIQQDbr3KMLAVD3JAAYggVAEg1AnBTAIzQAeeYCyDG3V3EAxZkknAOw2iPpgGwCQABALgGbVYArCQFsJAWAmm0AO80BYPW0F7OEo4ynygGd0/MVAIDwUYCaVQApBy4CACAdTA5mgJ7IM4AoB+ISAIADQABALgEpB6IciEvgB4DYBCIdkHRgmQlIEg2AFgBA8gzAZhWgZhUg8gxgFgAgEg2ghhWgOIDiWBQCECcFwAgAgPgoAJaEAK4kBBA+CnARAIBwUoADT8ksS0gmaBcyO+WQ6WWRDAKoZJgpJCPUCxmeccj4qkjmYxsAD80E+JVhgIIBghKAi7WWlZWVlT/nxIZww04Nt20YVQV+xqAKhASAA4D0gAAAAAD/BwAAAAAgwUYrGMEAACDBAACgQQsEAQEBBDWJPzzHPAVYXeS/gRUBAlZBbgECWUgeAQLvQQwBAsBAQwAAAJQAAAA=",
        "encoding": "base64",
        "path": [
         "scene_oY61Ubzdoce4hpKkg89IuSYyV",
         "drc"
        ]
       },
       {
        "data": "RFJBQ08CAgEBAAAAXLQBAbMBAAAtX9u2rWpLVVVVqVZLVVWValVLVVWpVlVLVZVqVVVLValWVVVLlWpVVVVLqQIKAQEQ/wL2XgL/AAEAAQABAAkDAAACAQICAwABAQQBAQAMF70JGQIZEkkfGQK0F5BpXg4ZDy4i6U1F6DUqASfbu9LJXuhPPV9wGXiWA7CIwSF5fAbguxAAT1kB0EN3TOpyAHbGGYURAADxUQA2TwF8lQpgZzkAa54CwJIQQDbr3KMLAVD3JAAYggVAEg1AnBTAIzQAO82NsdIdQHEAxclMzgGw+iPpgGwCQABALgGbVYArCQFsJAWAmm0AO80BUPW0F7OEo4ynygGd8/MVAIDwUYCaVQApBy4CACAdTA5mgJ/IM4AoB+ISAIAFQABALgEpB6IciEvgB4DYBCIdkHRgmclHEg2AFgBA8gzAZhWgZhUg8gxgFgAgEg2ghhWgOIDiWBQCECcFwAgAgPgoAJaEAK4kBBA+CnARAIBwUoADT8ksS0gmaBcyO+WQ6WWRDAKoZJgpJCPUCxmeccj4qkimvx8AD94DmOJGggGEEtR8RV4iJCQkCNeA4WSDIwVCaxhVBX7GoAqEBIADAPaAAAAAAP8HAAAAAHDB6kBkwQAAcMEAAPBBCwQBAQEEE4k/PD88BVjooLOBFQECVkFuAQJZSB4BAu9BDAECwEAzAAAA7wAAAA==",
        "encoding": "base64",
        "path": [
         "scene_oaeQEMJYQvlk1jpTXUUNUSHqp",
         "drc"
        ]
       },
       {
        "data": "RFJBQ08CAgEBAAAAXLQBAbMBAAAtX9u2rWpLVVVVqVZLVVWValVLVVWpVlVLVZVqVVVLValWVVVLlWpVVVVLqQIKAQEQ/wL2XgL/AAEAAQABAAkDAAACAQICAwABAQQBAQAMF70JGQIZEkkfGQK0F5BpXg4ZDy4i6U1F6DUqASfbu9LJXuhPPV9wGXiWA7CIwSF5fAbguxAAT1kB0EN3TOpyAHbGGYURAADxUQA2TwF8lQpgZzkAa54CwJIQQDbr3KMLAVD3JAAYggVAEg1AnBTAIzQAO82NsdIdQHEAxclMzgGw+iPpgGwCQABALgGbVYArCQFsJAWAmm0AO80BUPW0F7OEo4ynygGd8/MVAIDwUYCaVQApBy4CACAdTA5mgJ/IM4AoB+ISAIAFQABALgEpB6IciEvgB4DYBCIdkHRgmclHEg2AFgBA8gzAZhWgZhUg8gxgFgAgEg2ghhWgOIDiWBQCECcFwAgAgPgoAJaEAK4kBBA+CnARAIBwUoADT8ksS0gmaBcyO+WQ6WWRDAKoZJgpJCPUCxmeccj4qkimvx8AD94DmOJGggGEEtR8RV4iJCQkCNeA4WSDIwVCaxhVBX7GoAqEBIADAPaAAAAAAP8HAAAAAGDBYwlVwQAAYMEAAOBBCwQBAQEECok/PBs8BVj3kbOBFQECVkFuAQJZSB4BAu9BDAECwEASAAAA6QAAAA==",
        "encoding": "base64",
        "path": [
         "scene_ogdhmdvELMmJI3NjdOmJ4ULOD",
         "drc"
        ]
       },
       {
        "data": "RFJBQ08CAgEBAAAAXLQBAbMBAAAtX9u2rWpLVVVVqVZLVVWValVLVVWpVlVLVZVqVVVLValWVVVLlWpVVVVLqQIKAQEQ/wL2XgL/AAEAAQABAAkDAAACAQICAwABAQQBAQAMF70JGQIZEkkfGQK0F5BpXg4ZDy4i6U1F6DUqASfbu9LJXuhPPV9wGXiWA7CIwSF5fAbguxAAT1kB0EN3TOpyAHbGGYURAADxUQA2TwF8lQpgZzkAa54CwJIQQDbr3KMLAVD3JAAYggVAEg1AnBTAIzQAO82NsdIdQHEAxclMzgGw+iPpgGwCQABALgGbVYArCQFsJAWAmm0AO80BUPW0F7OEo4ynygGd8/MVAIDwUYCaVQApBy4CACAdTA5mgJ/IM4AoB+ISAIAFQABALgEpB6IciEvgB4DYBCIdkHRgmclHEg2AFgBA8gzAZhWgZhUg8gxgFgAgEg2ghhWgOIDiWBQCECcFwAgAgPgoAJaEAK4kBBA+CnARAIBwUoADT8ksS0gmaBcyO+WQ6WWRDAKoZJgpJCPUCxmeccj4qkimvx8AD94DmOJGggGEEtR8RV4iJCQkCNeA4WSDIwVCaxhVBX7GoAqEBIADAPaAAAAAAP8HAAAAAHDB6kBkwQAAcMEAAPBBCwQBAQEEHYk/PGc8BWT676+BFQECVkFuAQJZSB4BAu9BDAECwEAiAAAAsQAAAA==",
        "encoding": "base64",
        "path": [
         "scene_ovLUI9mNWzhrA35DF7lq3jo9d",
         "drc"
        ]
       },
       {
        "data": "RFJBQ08CAgEBAAAAXLQBAbMBAAAtX9u2rWpLVVVVqVZLVVWValVLVVWpVlVLVZVqVVVLValWVVVLlWpVVVVLqQIKAQEQ/wL2XgL/AAEAAQABAAkDAAACAQICAwABAQQBAQAMF70JGQIZEkkfGQK0F5BpXg4ZDy4i6U1F6DUqASfbu9LJXuhPPV9wGXiWA7CIwSF5fAbguxAAqaACwEN3TOpyAHbGGYURAADxUQA2TwF8lQpgZzkAa54CwJIQQDbr3KMLAVD3JAAYggVAEg1AnBTAIzQAeeYCyDG3V3EAxZkknAOw2iPpgGwCQABALgGbVYArCQFsJAWAmm0AO80BYPW0F7OEo4ynygGd0/MVAIDwUYCaVQApBy4CACAdTA5mgJ7IM4AoB+ISAIADQABALgEpB6IciEvgB4DYBCIdkHRgmQlIEg2AFgBA8gzAZhWgZhUg8gxgFgAgEg2ghhWgOIDiWBQCECcFwAgAgPgoAJaEAK4kBBA+CnARAIBwUoADT8ksS0gmaBcyO+WQ6WWRDAKoZJgpJCPUCxmeccj4qkjmYxsAD80E+JVhgIIBghKAi7WWlZWVlT/nxIZww04Nt20YVQV+xqAKhASAA4D0gAAAAAD/BwAAAABAwVSaNsEAAEDBAADAQQsEAQEBBBGJPzw3PAVYXeS/gRUBAlZBbgECWUgeAQLvQQwBAsBAOAAAAPoAAAA=",
        "encoding": "base64",
        "path": [
         "scene_ow6fqO2DknJ915X9ucu1S20Vb",
         "drc"
        ]
       },
       {
        "data": "RFJBQ08CAgEBAAAAXLQBAbMBAAAtX9u2rWpLVVVVqVZLVVWValVLVVWpVlVLVZVqVVVLValWVVVLlWpVVVVLqQIKAQEQ/wL2XgL/AAEAAQABAAkDAAACAQICAwABAQQBAQAMF70JGQIZEkkfGQK0F5BpXg4ZDy4i6U1F6DUqASfbu9LJXuhPPV9wGXiWA7CIwSF5fAbguxAAqaACwEN3TOpyAHbGGYURAADxUQA2TwF8lQpgZzkAa54CwJIQQDbr3KMLAVD3JAAYggVAEg1AnBTAIzQAeeYCyDG3V3EAxZkknAOw2iPpgGwCQABALgGbVYArCQFsJAWAmm0AO80BYPW0F7OEo4ynygGd0/MVAIDwUYCaVQApBy4CACAdTA5mgJ7IM4AoB+ISAIADQABALgEpB6IciEvgB4DYBCIdkHRgmQlIEg2AFgBA8gzAZhWgZhUg8gxgFgAgEg2ghhWgOIDiWBQCECcFwAgAgPgoAJaEAK4kBBA+CnARAIBwUoADT8ksS0gmaBcyO+WQ6WWRDAKoZJgpJCPUCxmeccj4qkjmYxsAD80E+JVhgIIBghKAi7WWlZWVlT/nxIZww04Nt20YVQV+xqAKhASAA4D0gAAAAAD/BwAAAAAAwXF488AAAADBAACAQQsEAQEBBDeJPzzPPAVk6/6vgRUBAlZBbgECWUgeAQLvQQwBAsBAAgAAAKIAAAA=",
        "encoding": "base64",
        "path": [
         "scene_pJlgcIQ1cQG2k7TFRfRBDdzW7",
         "drc"
        ]
       },
       {
        "data": "RFJBQ08CAgEBAAAAXLQBAbMBAAAtX9u2rWpLVVVVqVZLVVWValVLVVWpVlVLVZVqVVVLValWVVVLlWpVVVVLqQIKAQEQ/wL2XgL/AAEAAQABAAkDAAACAQICAwABAQQBAQAMF70JGQIZEkkfGQK0F5BpXg4ZDy4i6U1F6DUqASfbu9LJXuhPPV9wGXiWA7CIwSF5fAbguxAAqaACwEN3TOpyAHbGGYURAADxUQA2TwF8lQpgZzkAa54CwJIQQDbr3KMLAVD3JAAYggVAEg1AnBTAIzQAeeYCyDG3V3EAxZkknAOw2iPpgGwCQABALgGbVYArCQFsJAWAmm0AO80BYPW0F7OEo4ynygGd0/MVAIDwUYCaVQApBy4CACAdTA5mgJ7IM4AoB+ISAIADQABALgEpB6IciEvgB4DYBCIdkHRgmQlIEg2AFgBA8gzAZhWgZhUg8gxgFgAgEg2ghhWgOIDiWBQCECcFwAgAgPgoAJaEAK4kBBA+CnARAIBwUoADT8ksS0gmaBcyO+WQ6WWRDAKoZJgpJCPUCxmeccj4qkjmYxsAD80E+JVhgIIBghKAi7WWlZWVlT/nxIZww04Nt20YVQV+xqAKhASAA4D0gAAAAAD/BwAAAACIwfxXgcEAAIjBAAAIQgsEAQEBBDyJPzzjPAVk+u+vgRUBAlZBbgECWUgeAQLvQQwBAsBARAAAAKMAAAA=",
        "encoding": "base64",
        "path": [
         "scene_pmytBLeqO5GaKCqlb7qwtoH1p",
         "drc"
        ]
       },
       {
        "data": "RFJBQ08CAgEBAAAAXLQBAbMBAAAtX9u2rWpLVVVVqVZLVVWValVLVVWpVlVLVZVqVVVLValWVVVLlWpVVVVLqQIKAQEQ/wL2XgL/AAEAAQABAAkDAAACAQICAwABAQQBAQAMF70JGQIZEkkfGQK0F5BpXg4ZDy4i6U1F6DUqASfbu9LJXuhPPV9wGXiWA7CIwSF5fAbguxAAqaACwEN3TOpyAHbGGYURAADxUQA2TwF8lQpgZzkAa54CwJIQQDbr3KMLAVD3JAAYggVAEg1AnBTAIzQAeeYCyDG3V3EAxZkknAOw2iPpgGwCQABALgGbVYArCQFsJAWAmm0AO80BYPW0F7OEo4ynygGd0/MVAIDwUYCaVQApBy4CACAdTA5mgJ7IM4AoB+ISAIADQABALgEpB6IciEvgB4DYBCIdkHRgmQlIEg2AFgBA8gzAZhWgZhUg8gxgFgAgEg2ghhWgOIDiWBQCECcFwAgAgPgoAJaEAK4kBBA+CnARAIBwUoADT8ksS0gmaBcyO+WQ6WWRDAKoZJgpJCPUCxmeccj4qkjmYxsAD80E+JVhgIIBghKAi7WWlZWVlT/nxIZww04Nt20YVQV+xqAKhASAA4D0gAAAAAD/BwAAAACYwYOPkMEAAJjBAAAYQgsEAQEBBMcBiT88////DzwFWF3kv4EVAQJWQW4BAllIHgEC70EMAQLAQAoAAADfAAAA",
        "encoding": "base64",
        "path": [
         "scene_psnZj01g973HewhC2cYmIqiS6",
         "drc"
        ]
       },
       {
        "data": "RFJBQ08CAgEBAAAAXLQBAbMBAAAtX9u2rWpLVVVVqVZLVVWValVLVVWpVlVLVZVqVVVLValWVVVLlWpVVVVLqQIKAQEQ/wL2XgL/AAEAAQABAAkDAAACAQICAwABAQQBAQAMF70JGQIZEkkfGQK0F5BpXg4ZDy4i6U1F6DUqASfbu9LJXuhPPV9wGXiWA7CIwSF5fAbguxAAT1kB0EN3TOpyAHbGGYURAADxUQA2TwF8lQpgZzkAa54CwJIQQDbr3KMLAVD3JAAYggVAEg1AnBTAIzQAO82NsdIdQHEAxclMzgGw+iPpgGwCQABALgGbVYArCQFsJAWAmm0AO80BUPW0F7OEo4ynygGd8/MVAIDwUYCaVQApBy4CACAdTA5mgJ/IM4AoB+ISAIAFQABALgEpB6IciEvgB4DYBCIdkHRgmclHEg2AFgBA8gzAZhWgZhUg8gxgFgAgEg2ghhWgOIDiWBQCECcFwAgAgPgoAJaEAK4kBBA+CnARAIBwUoADT8ksS0gmaBcyO+WQ6WWRDAKoZJgpJCPUCxmeccj4qkimvx8AD94DmOJGggGEEtR8RV4iJCQkCNeA4WSDIwVCaxhVBX7GoAqEBIADAPaAAAAAAP8HAAAAAGDBYwlVwQAAYMEAAOBBCwQBAQEEI4k/PH88BVjooLOBFQECVkFuAQJZSB4BAu9BDAECwEAyAAAAoAAAAA==",
        "encoding": "base64",
        "path": [
         "scene_pyhCDFBZ2pyhZ2SLnnYnf5tBF",
         "drc"
        ]
       },
       {
        "data": "RFJBQ08CAgEBAAAAXLQBAbMBAAAtX9u2rWpLVVVVqVZLVVWValVLVVWpVlVLVZVqVVVLValWVVVLlWpVVVVLqQIKAQEQ/wL2XgL/AAEAAQABAAkDAAACAQICAwABAQQBAQAMF70JGQIZEkkfGQK0F5BpXg4ZDy4i6U1F6DUqASfbu9LJXuhPPV9wGXiWA7CIwSF5fAbguxAAqaACwEN3TOpyAHbGGYURAADxUQA2TwF8lQpgZzkAa54CwJIQQDbr3KMLAVD3JAAYggVAEg1AnBTAIzQAeeYCyDG3V3EAxZkknAOw2iPpgGwCQABALgGbVYArCQFsJAWAmm0AO80BYPW0F7OEo4ynygGd0/MVAIDwUYCaVQApBy4CACAdTA5mgJ7IM4AoB+ISAIADQABALgEpB6IciEvgB4DYBCIdkHRgmQlIEg2AFgBA8gzAZhWgZhUg8gxgFgAgEg2ghhWgOIDiWBQCECcFwAgAgPgoAJaEAK4kBBA+CnARAIBwUoADT8ksS0gmaBcyO+WQ6WWRDAKoZJgpJCPUCxmeccj4qkjmYxsAD80E+JVhgIIBghKAi7WWlZWVlT/nxIZww04Nt20YVQV+xqAKhASAA4D0gAAAAAD/BwAAAACQwb/ziMEAAJDBAAAQQgsEAQEBBCaJPzyLPAVk+u+vgRUBAlZBbgECWUgeAQLvQQwBAsBAAQAAAOUAAAA=",
        "encoding": "base64",
        "path": [
         "scene_q2U3UVnATLSjVd8uCecqrJUru",
         "drc"
        ]
       },
       {
        "data": "RFJBQ08CAgEBAAAAXLQBAbMBAAAtX9u2rWpLVVVVqVZLVVWValVLVVWpVlVLVZVqVVVLValWVVVLlWpVVVVLqQIKAQEQ/wL2XgL/AAEAAQABAAkDAAACAQICAwABAQQBAQAMF70JGQIZEkkfGQK0F5BpXg4ZDy4i6U1F6DUqASfbu9LJXuhPPV9wGXiWA7CIwSF5fAbguxAAqaACwEN3TOpyAHbGGYURAADxUQA2TwF8lQpgZzkAa54CwJIQQDbr3KMLAVD3JAAYggVAEg1AnBTAIzQAeeYCyDG3V3EAxZkknAOw2iPpgGwCQABALgGbVYArCQFsJAWAmm0AO80BYPW0F7OEo4ynygGd0/MVAIDwUYCaVQApBy4CACAdTA5mgJ7IM4AoB+ISAIADQABALgEpB6IciEvgB4DYBCIdkHRgmQlIEg2AFgBA8gzAZhWgZhUg8gxgFgAgEg2ghhWgOIDiWBQCECcFwAgAgPgoAJaEAK4kBBA+CnARAIBwUoADT8ksS0gmaBcyO+WQ6WWRDAKoZJgpJCPUCxmeccj4qkjmYxsAD80E+JVhgIIBghKAi7WWlZWVlT/nxIZww04Nt20YVQV+xqAKhASAA4D0gAAAAAD/BwAAAAAwwc1iJ8EAADDBAACwQQsEAQEBBDWJPzzHPAVY95GzgRUBAlZBbgECWUgeAQLvQQwBAsBARAAAAJsAAAA=",
        "encoding": "base64",
        "path": [
         "scene_qJWXFG0qXZwbN7y5hhjt7QpkR",
         "drc"
        ]
       },
       {
        "data": "RFJBQ08CAgEBAAAAXLQBAbMBAAAtX9u2rWpLVVVVqVZLVVWValVLVVWpVlVLVZVqVVVLValWVVVLlWpVVVVLqQIKAQEQ/wL2XgL/AAEAAQABAAkDAAACAQICAwABAQQBAQAMF70JGQIZEkkfGQK0F5BpXg4ZDy4i6U1F6DUqASfbu9LJXuhPPV9wGXiWA7CIwSF5fAbguxAAqaACwEN3TOpyAHbGGYURAADxUQA2TwF8lQpgZzkAa54CwJIQQDbr3KMLAVD3JAAYggVAEg1AnBTAIzQAeeYCyDG3V3EAxZkknAOw2iPpgGwCQABALgGbVYArCQFsJAWAmm0AO80BYPW0F7OEo4ynygGd0/MVAIDwUYCaVQApBy4CACAdTA5mgJ7IM4AoB+ISAIADQABALgEpB6IciEvgB4DYBCIdkHRgmQlIEg2AFgBA8gzAZhWgZhUg8gxgFgAgEg2ghhWgOIDiWBQCECcFwAgAgPgoAJaEAK4kBBA+CnARAIBwUoADT8ksS0gmaBcyO+WQ6WWRDAKoZJgpJCPUCxmeccj4qkjmYxsAD80E+JVhgIIBghKAi7WWlZWVlT/nxIZww04Nt20YVQV+xqAKhASAA4D0gAAAAAD/BwAAAACAv3F4c78AAIC/AAAAQAsEAQEBBDiJPzzTPAVYTvO/gRUBAlZBbgECWUgeAQLvQQwBAsBAVQAAANYAAAA=",
        "encoding": "base64",
        "path": [
         "scene_qe35iyWB8bl5ZFsVF8jiJCnQV",
         "drc"
        ]
       },
       {
        "data": "RFJBQ08CAgEBAAAAXLQBAbMBAAAtX9u2rWpLVVVVqVZLVVWValVLVVWpVlVLVZVqVVVLValWVVVLlWpVVVVLqQIKAQEQ/wL2XgL/AAEAAQABAAkDAAACAQICAwABAQQBAQAMF70JGQIZEkkfGQK0F5BpXg4ZDy4i6U1F6DUqASfbu9LJXuhPPV9wGXiWA7CIwSF5fAbguxAAqaACwEN3TOpyAHbGGYURAADxUQA2TwF8lQpgZzkAa54CwJIQQDbr3KMLAVD3JAAYggVAEg1AnBTAIzQAeeYCyDG3V3EAxZkknAOw2iPpgGwCQABALgGbVYArCQFsJAWAmm0AO80BYPW0F7OEo4ynygGd0/MVAIDwUYCaVQApBy4CACAdTA5mgJ7IM4AoB+ISAIADQABALgEpB6IciEvgB4DYBCIdkHRgmQlIEg2AFgBA8gzAZhWgZhUg8gxgFgAgEg2ghhWgOIDiWBQCECcFwAgAgPgoAJaEAK4kBBA+CnARAIBwUoADT8ksS0gmaBcyO+WQ6WWRDAKoZJgpJCPUCxmeccj4qkjmYxsAD80E+JVhgIIBghKAi7WWlZWVlT/nxIZww04Nt20YVQV+xqAKhASAA4D0gAAAAAD/BwAAAACIwfxXgcEAAIjBAAAIQgsEAQEBBEyJPzz/IzwFWPeRs4EVAQJWQW4BAllIHgEC70EMAQLAQIoAAADxAAAA",
        "encoding": "base64",
        "path": [
         "scene_qqz2iUcWAKjZFH0kJrvpR6Nvy",
         "drc"
        ]
       },
       {
        "data": "RFJBQ08CAgEBAAAAXLQBAbMBAAAtX9u2rWpLVVVVqVZLVVWValVLVVWpVlVLVZVqVVVLValWVVVLlWpVVVVLqQIKAQEQ/wL2XgL/AAEAAQABAAkDAAACAQICAwABAQQBAQAMF70JGQIZEkkfGQK0F5BpXg4ZDy4i6U1F6DUqASfbu9LJXuhPPV9wGXiWA7CIwSF5fAbguxAAqaACwEN3TOpyAHbGGYURAADxUQA2TwF8lQpgZzkAa54CwJIQQDbr3KMLAVD3JAAYggVAEg1AnBTAIzQAeeYCyDG3V3EAxZkknAOw2iPpgGwCQABALgGbVYArCQFsJAWAmm0AO80BYPW0F7OEo4ynygGd0/MVAIDwUYCaVQApBy4CACAdTA5mgJ7IM4AoB+ISAIADQABALgEpB6IciEvgB4DYBCIdkHRgmQlIEg2AFgBA8gzAZhWgZhUg8gxgFgAgEg2ghhWgOIDiWBQCECcFwAgAgPgoAJaEAK4kBBA+CnARAIBwUoADT8ksS0gmaBcyO+WQ6WWRDAKoZJgpJCPUCxmeccj4qkjmYxsAD80E+JVhgIIBghKAi7WWlZWVlT/nxIZww04Nt20YVQV+xqAKhASAA4D0gAAAAAD/BwAAAAAAwXF488AAAADBAACAQQsEAQEBBDCJPzyzPAVY6KCzgRUBAlZBbgECWUgeAQLvQQwBAsBAFgAAAHkAAAA=",
        "encoding": "base64",
        "path": [
         "scene_rTOFDcifzqRZr8Vh9UctsKd3C",
         "drc"
        ]
       },
       {
        "data": "RFJBQ08CAgEBAAAAXLQBAbMBAAAtX9u2rWpLVVVVqVZLVVWValVLVVWpVlVLVZVqVVVLValWVVVLlWpVVVVLqQIKAQEQ/wL2XgL/AAEAAQABAAkDAAACAQICAwABAQQBAQAMF70JGQIZEkkfGQK0F5BpXg4ZDy4i6U1F6DUqASfbu9LJXuhPPV9wGXiWA7CIwSF5fAbguxAAqaACwEN3TOpyAHbGGYURAADxUQA2TwF8lQpgZzkAa54CwJIQQDbr3KMLAVD3JAAYggVAEg1AnBTAIzQAeeYCyDG3V3EAxZkknAOw2iPpgGwCQABALgGbVYArCQFsJAWAmm0AO80BYPW0F7OEo4ynygGd0/MVAIDwUYCaVQApBy4CACAdTA5mgJ7IM4AoB+ISAIADQABALgEpB6IciEvgB4DYBCIdkHRgmQlIEg2AFgBA8gzAZhWgZhUg8gxgFgAgEg2ghhWgOIDiWBQCECcFwAgAgPgoAJaEAK4kBBA+CnARAIBwUoADT8ksS0gmaBcyO+WQ6WWRDAKoZJgpJCPUCxmeccj4qkjmYxsAD80E+JVhgIIBghKAi7WWlZWVlT/nxIZww04Nt20YVQV+xqAKhASAA4D0gAAAAAD/BwAAAADAwFSatsAAAMDAAABAQQsEAQEBBDGJPzy3PAVYTvO/gRUBAlZBbgECWUgeAQLvQQwBAsBAmgAAAP0AAAA=",
        "encoding": "base64",
        "path": [
         "scene_sCBBhalY4YdIAjKYUFylJDU9a",
         "drc"
        ]
       },
       {
        "data": "RFJBQ08CAgEBAAAAXLQBAbMBAAAtX9u2rWpLVVVVqVZLVVWValVLVVWpVlVLVZVqVVVLValWVVVLlWpVVVVLqQIKAQEQ/wL2XgL/AAEAAQABAAkDAAACAQICAwABAQQBAQAMF70JGQIZEkkfGQK0F5BpXg4ZDy4i6U1F6DUqASfbu9LJXuhPPV9wGXiWA7CIwSF5fAbguxAAqaACwEN3TOpyAHbGGYURAADxUQA2TwF8lQpgZzkAa54CwJIQQDbr3KMLAVD3JAAYggVAEg1AnBTAIzQAeeYCyDG3V3EAxZkknAOw2iPpgGwCQABALgGbVYArCQFsJAWAmm0AO80BYPW0F7OEo4ynygGd0/MVAIDwUYCaVQApBy4CACAdTA5mgJ7IM4AoB+ISAIADQABALgEpB6IciEvgB4DYBCIdkHRgmQlIEg2AFgBA8gzAZhWgZhUg8gxgFgAgEg2ghhWgOIDiWBQCECcFwAgAgPgoAJaEAK4kBBA+CnARAIBwUoADT8ksS0gmaBcyO+WQ6WWRDAKoZJgpJCPUCxmeccj4qkjmYxsAD80E+JVhgIIBghKAi7WWlZWVlT/nxIZww04Nt20YVQV+xqAKhASAA4D0gAAAAAD/BwAAAACAwHF4c8AAAIDAAAAAQQsEAQEBBGOJPzz/fzwFZOv+r4EVAQJWQW4BAllIHgEC70EMAQLAQGIAAADoAAAA",
        "encoding": "base64",
        "path": [
         "scene_sN54pBOFgCdcDnexYXOL3KC0z",
         "drc"
        ]
       },
       {
        "data": "RFJBQ08CAgEBAAAAXLQBAbMBAAAtX9u2rWpLVVVVqVZLVVWValVLVVWpVlVLVZVqVVVLValWVVVLlWpVVVVLqQIKAQEQ/wL2XgL/AAEAAQABAAkDAAACAQICAwABAQQBAQAMF70JGQIZEkkfGQK0F5BpXg4ZDy4i6U1F6DUqASfbu9LJXuhPPV9wGXiWA7CIwSF5fAbguxAAqaACwEN3TOpyAHbGGYURAADxUQA2TwF8lQpgZzkAa54CwJIQQDbr3KMLAVD3JAAYggVAEg1AnBTAIzQAeeYCyDG3V3EAxZkknAOw2iPpgGwCQABALgGbVYArCQFsJAWAmm0AO80BYPW0F7OEo4ynygGd0/MVAIDwUYCaVQApBy4CACAdTA5mgJ7IM4AoB+ISAIADQABALgEpB6IciEvgB4DYBCIdkHRgmQlIEg2AFgBA8gzAZhWgZhUg8gxgFgAgEg2ghhWgOIDiWBQCECcFwAgAgPgoAJaEAK4kBBA+CnARAIBwUoADT8ksS0gmaBcyO+WQ6WWRDAKoZJgpJCPUCxmeccj4qkjmYxsAD80E+JVhgIIBghKAi7WWlZWVlT/nxIZww04Nt20YVQV+xqAKhASAA4D0gAAAAAD/BwAAAAAwwc1iJ8EAADDBAACwQQsEAQEBBDSJPzzDPAVYXeS/gRUBAlZBbgECWUgeAQLvQQwBAsBADAAAALQAAAA=",
        "encoding": "base64",
        "path": [
         "scene_sZoCqLGegCrYbqAjK2fXPBs7j",
         "drc"
        ]
       },
       {
        "data": "RFJBQ08CAgEBAAAAXLQBAbMBAAAtX9u2rWpLVVVVqVZLVVWValVLVVWpVlVLVZVqVVVLValWVVVLlWpVVVVLqQIKAQEQ/wL2XgL/AAEAAQABAAkDAAACAQICAwABAQQBAQAMF70JGQIZEkkfGQK0F5BpXg4ZDy4i6U1F6DUqASfbu9LJXuhPPV9wGXiWA7CIwSF5fAbguxAAqaACwEN3TOpyAHbGGYURAADxUQA2TwF8lQpgZzkAa54CwJIQQDbr3KMLAVD3JAAYggVAEg1AnBTAIzQAeeYCyDG3V3EAxZkknAOw2iPpgGwCQABALgGbVYArCQFsJAWAmm0AO80BYPW0F7OEo4ynygGd0/MVAIDwUYCaVQApBy4CACAdTA5mgJ7IM4AoB+ISAIADQABALgEpB6IciEvgB4DYBCIdkHRgmQlIEg2AFgBA8gzAZhWgZhUg8gxgFgAgEg2ghhWgOIDiWBQCECcFwAgAgPgoAJaEAK4kBBA+CnARAIBwUoADT8ksS0gmaBcyO+WQ6WWRDAKoZJgpJCPUCxmeccj4qkjmYxsAD80E+JVhgIIBghKAi7WWlZWVlT/nxIZww04Nt20YVQV+xqAKhASAA4D0gAAAAAD/BwAAAACAv3F4c78AAIC/AAAAQAsEAQEBBAyJPzwjPAVYXeS/gRUBAlZBbgECWUgeAQLvQQwBAsBAGgAAAGoAAAA=",
        "encoding": "base64",
        "path": [
         "scene_tMuRICwNSwCXqbeYRsHIB3ES9",
         "drc"
        ]
       },
       {
        "data": "RFJBQ08CAgEBAAAAXLQBAbMBAAAtX9u2rWpLVVVVqVZLVVWValVLVVWpVlVLVZVqVVVLValWVVVLlWpVVVVLqQIKAQEQ/wL2XgL/AAEAAQABAAkDAAACAQICAwABAQQBAQAMF70JGQIZEkkfGQK0F5BpXg4ZDy4i6U1F6DUqASfbu9LJXuhPPV9wGXiWA7CIwSF5fAbguxAAqaACwEN3TOpyAHbGGYURAADxUQA2TwF8lQpgZzkAa54CwJIQQDbr3KMLAVD3JAAYggVAEg1AnBTAIzQAeeYCyDG3V3EAxZkknAOw2iPpgGwCQABALgGbVYArCQFsJAWAmm0AO80BYPW0F7OEo4ynygGd0/MVAIDwUYCaVQApBy4CACAdTA5mgJ7IM4AoB+ISAIADQABALgEpB6IciEvgB4DYBCIdkHRgmQlIEg2AFgBA8gzAZhWgZhUg8gxgFgAgEg2ghhWgOIDiWBQCECcFwAgAgPgoAJaEAK4kBBA+CnARAIBwUoADT8ksS0gmaBcyO+WQ6WWRDAKoZJgpJCPUCxmeccj4qkjmYxsAD80E+JVhgIIBghKAi7WWlZWVlT/nxIZww04Nt20YVQV+xqAKhASAA4D0gAAAAAD/BwAAAACgwEYrmMAAAKDAAAAgQQsEAQEBBDqJPzzbPAVk6/6vgRUBAlZBbgECWUgeAQLvQQwBAsBAAwAAANIAAAA=",
        "encoding": "base64",
        "path": [
         "scene_tVbPp8PfpJCrQgn6P2mBhgT0w",
         "drc"
        ]
       },
       {
        "data": "RFJBQ08CAgEBAAAAXLQBAbMBAAAtX9u2rWpLVVVVqVZLVVWValVLVVWpVlVLVZVqVVVLValWVVVLlWpVVVVLqQIKAQEQ/wL2XgL/AAEAAQABAAkDAAACAQICAwABAQQBAQAMF70JGQIZEkkfGQK0F5BpXg4ZDy4i6U1F6DUqASfbu9LJXuhPPV9wGXiWA7CIwSF5fAbguxAAT1kB0EN3TOpyAHbGGYURAADxUQA2TwF8lQpgZzkAa54CwJIQQDbr3KMLAVD3JAAYggVAEg1AnBTAIzQAO82NsdIdQHEAxclMzgGw+iPpgGwCQABALgGbVYArCQFsJAWAmm0AO80BUPW0F7OEo4ynygGd8/MVAIDwUYCaVQApBy4CACAdTA5mgJ/IM4AoB+ISAIAFQABALgEpB6IciEvgB4DYBCIdkHRgmclHEg2AFgBA8gzAZhWgZhUg8gxgFgAgEg2ghhWgOIDiWBQCECcFwAgAgPgoAJaEAK4kBBA+CnARAIBwUoADT8ksS0gmaBcyO+WQ6WWRDAKoZJgpJCPUCxmeccj4qkimvx8AD94DmOJGggGEEtR8RV4iJCQkCNeA4WSDIwVCaxhVBX7GoAqEBIADAPaAAAAAAP8HAAAAAODAYwnVwAAA4MAAAGBBCwQBAQEEJYk/PIc8BVhO87+BFQECVkFuAQJZSB4BAu9BDAECwEClAAAA4QAAAA==",
        "encoding": "base64",
        "path": [
         "scene_tXK2Zi3UjNlmXgXQiUcBSfhsY",
         "drc"
        ]
       },
       {
        "data": "RFJBQ08CAgEBAAAAXLQBAbMBAAAtX9u2rWpLVVVVqVZLVVWValVLVVWpVlVLVZVqVVVLValWVVVLlWpVVVVLqQIKAQEQ/wL2XgL/AAEAAQABAAkDAAACAQICAwABAQQBAQAMF70JGQIZEkkfGQK0F5BpXg4ZDy4i6U1F6DUqASfbu9LJXuhPPV9wGXiWA7CIwSF5fAbguxAAqaACwEN3TOpyAHbGGYURAADxUQA2TwF8lQpgZzkAa54CwJIQQDbr3KMLAVD3JAAYggVAEg1AnBTAIzQAeeYCyDG3V3EAxZkknAOw2iPpgGwCQABALgGbVYArCQFsJAWAmm0AO80BYPW0F7OEo4ynygGd0/MVAIDwUYCaVQApBy4CACAdTA5mgJ7IM4AoB+ISAIADQABALgEpB6IciEvgB4DYBCIdkHRgmQlIEg2AFgBA8gzAZhWgZhUg8gxgFgAgEg2ghhWgOIDiWBQCECcFwAgAgPgoAJaEAK4kBBA+CnARAIBwUoADT8ksS0gmaBcyO+WQ6WWRDAKoZJgpJCPUCxmeccj4qkjmYxsAD80E+JVhgIIBghKAi7WWlZWVlT/nxIZww04Nt20YVQV+xqAKhASAA4D0gAAAAAD/BwAAAAAwwc1iJ8EAADDBAACwQQsEAQEBBESJPzz/AzwFZPrvr4EVAQJWQW4BAllIHgEC70EMAQLAQGsAAADfAAAA",
        "encoding": "base64",
        "path": [
         "scene_tsYVfV2WTaKCCm3bQ20erdMVK",
         "drc"
        ]
       },
       {
        "data": "RFJBQ08CAgEBAAAAXLQBAbMBAAAtX9u2rWpLVVVVqVZLVVWValVLVVWpVlVLVZVqVVVLValWVVVLlWpVVVVLqQIKAQEQ/wL2XgL/AAEAAQABAAkDAAACAQICAwABAQQBAQAMF70JGQIZEkkfGQK0F5BpXg4ZDy4i6U1F6DUqASfbu9LJXuhPPV9wGXiWA7CIwSF5fAbguxAAqaACwEN3TOpyAHbGGYURAADxUQA2TwF8lQpgZzkAa54CwJIQQDbr3KMLAVD3JAAYggVAEg1AnBTAIzQAeeYCyDG3V3EAxZkknAOw2iPpgGwCQABALgGbVYArCQFsJAWAmm0AO80BYPW0F7OEo4ynygGd0/MVAIDwUYCaVQApBy4CACAdTA5mgJ7IM4AoB+ISAIADQABALgEpB6IciEvgB4DYBCIdkHRgmQlIEg2AFgBA8gzAZhWgZhUg8gxgFgAgEg2ghhWgOIDiWBQCECcFwAgAgPgoAJaEAK4kBBA+CnARAIBwUoADT8ksS0gmaBcyO+WQ6WWRDAKoZJgpJCPUCxmeccj4qkjmYxsAD80E+JVhgIIBghKAi7WWlZWVlT/nxIZww04Nt20YVQV+xqAKhASAA4D0gAAAAAD/BwAAAACQwb/ziMEAAJDBAAAQQgsEAQEBBBuJPzxfPAVY95GzgRUBAlZBbgECWUgeAQLvQQwBAsBAGwAAAJMAAAA=",
        "encoding": "base64",
        "path": [
         "scene_txn8ADBQossXimJiBmMLpTjfe",
         "drc"
        ]
       },
       {
        "data": "RFJBQ08CAgEBAAAAXLQBAbMBAAAtX9u2rWpLVVVVqVZLVVWValVLVVWpVlVLVZVqVVVLValWVVVLlWpVVVVLqQIKAQEQ/wL2XgL/AAEAAQABAAkDAAACAQICAwABAQQBAQAMF70JGQIZEkkfGQK0F5BpXg4ZDy4i6U1F6DUqASfbu9LJXuhPPV9wGXiWA7CIwSF5fAbguxAAqaACwEN3TOpyAHbGGYURAADxUQA2TwF8lQpgZzkAa54CwJIQQDbr3KMLAVD3JAAYggVAEg1AnBTAIzQAeeYCyDG3V3EAxZkknAOw2iPpgGwCQABALgGbVYArCQFsJAWAmm0AO80BYPW0F7OEo4ynygGd0/MVAIDwUYCaVQApBy4CACAdTA5mgJ7IM4AoB+ISAIADQABALgEpB6IciEvgB4DYBCIdkHRgmQlIEg2AFgBA8gzAZhWgZhUg8gxgFgAgEg2ghhWgOIDiWBQCECcFwAgAgPgoAJaEAK4kBBA+CnARAIBwUoADT8ksS0gmaBcyO+WQ6WWRDAKoZJgpJCPUCxmeccj4qkjmYxsAD80E+JVhgIIBghKAi7WWlZWVlT/nxIZww04Nt20YVQV+xqAKhASAA4D0gAAAAAD/BwAAAACQwb/ziMEAAJDBAAAQQgsEAQEBBKQBiT88//+DPAVY6KCzgRUBAlZBbgECWUgeAQLvQQwBAsBABQAAAO8AAAA=",
        "encoding": "base64",
        "path": [
         "scene_u269NIxEb1k1twYIVFyqa3a7G",
         "drc"
        ]
       },
       {
        "data": "RFJBQ08CAgEBAAAAXLQBAbMBAAAtX9u2rWpLVVVVqVZLVVWValVLVVWpVlVLVZVqVVVLValWVVVLlWpVVVVLqQIKAQEQ/wL2XgL/AAEAAQABAAkDAAACAQICAwABAQQBAQAMF70JGQIZEkkfGQK0F5BpXg4ZDy4i6U1F6DUqASfbu9LJXuhPPV9wGXiWA7CIwSF5fAbguxAAT1kB0EN3TOpyAHbGGYURAADxUQA2TwF8lQpgZzkAa54CwJIQQDbr3KMLAVD3JAAYggVAEg1AnBTAIzQAO82NsdIdQHEAxclMzgGw+iPpgGwCQABALgGbVYArCQFsJAWAmm0AO80BUPW0F7OEo4ynygGd8/MVAIDwUYCaVQApBy4CACAdTA5mgJ/IM4AoB+ISAIAFQABALgEpB6IciEvgB4DYBCIdkHRgmclHEg2AFgBA8gzAZhWgZhUg8gxgFgAgEg2ghhWgOIDiWBQCECcFwAgAgPgoAJaEAK4kBBA+CnARAIBwUoADT8ksS0gmaBcyO+WQ6WWRDAKoZJgpJCPUCxmeccj4qkimvx8AD94DmOJGggGEEtR8RV4iJCQkCNeA4WSDIwVCaxhVBX7GoAqEBIADAPaAAAAAAP8HAAAAAFDB29FFwQAAUMEAANBBCwQBAQEES4k/PP8fPAVYXeS/gRUBAlZBbgECWUgeAQLvQQwBAsBAPAAAAPwAAAA=",
        "encoding": "base64",
        "path": [
         "scene_u3jRP1TAEFoKSdSjdIoSTFaQ0",
         "drc"
        ]
       },
       {
        "data": "RFJBQ08CAgEBAAAAXLQBAbMBAAAtX9u2rWpLVVVVqVZLVVWValVLVVWpVlVLVZVqVVVLValWVVVLlWpVVVVLqQIKAQEQ/wL2XgL/AAEAAQABAAkDAAACAQICAwABAQQBAQAMF70JGQIZEkkfGQK0F5BpXg4ZDy4i6U1F6DUqASfbu9LJXuhPPV9wGXiWA7CIwSF5fAbguxAAqaACwEN3TOpyAHbGGYURAADxUQA2TwF8lQpgZzkAa54CwJIQQDbr3KMLAVD3JAAYggVAEg1AnBTAIzQAeeYCyDG3V3EAxZkknAOw2iPpgGwCQABALgGbVYArCQFsJAWAmm0AO80BYPW0F7OEo4ynygGd0/MVAIDwUYCaVQApBy4CACAdTA5mgJ7IM4AoB+ISAIADQABALgEpB6IciEvgB4DYBCIdkHRgmQlIEg2AFgBA8gzAZhWgZhUg8gxgFgAgEg2ghhWgOIDiWBQCECcFwAgAgPgoAJaEAK4kBBA+CnARAIBwUoADT8ksS0gmaBcyO+WQ6WWRDAKoZJgpJCPUCxmeccj4qkjmYxsAD80E+JVhgIIBghKAi7WWlZWVlT/nxIZww04Nt20YVQV+xqAKhASAA4D0gAAAAAD/BwAAAACAwHF4c8AAAIDAAAAAQQsEAQEBBCCJPzxzPAVYXeS/gRUBAlZBbgECWUgeAQLvQQwBAsBASwAAAK8AAAA=",
        "encoding": "base64",
        "path": [
         "scene_ukb6r2q71XQcCqtdg17RSbzV6",
         "drc"
        ]
       },
       {
        "data": "RFJBQ08CAgEBAAAAXLQBAbMBAAAtX9u2rWpLVVVVqVZLVVWValVLVVWpVlVLVZVqVVVLValWVVVLlWpVVVVLqQIKAQEQ/wL2XgL/AAEAAQABAAkDAAACAQICAwABAQQBAQAMF70JGQIZEkkfGQK0F5BpXg4ZDy4i6U1F6DUqASfbu9LJXuhPPV9wGXiWA7CIwSF5fAbguxAAqaACwEN3TOpyAHbGGYURAADxUQA2TwF8lQpgZzkAa54CwJIQQDbr3KMLAVD3JAAYggVAEg1AnBTAIzQAeeYCyDG3V3EAxZkknAOw2iPpgGwCQABALgGbVYArCQFsJAWAmm0AO80BYPW0F7OEo4ynygGd0/MVAIDwUYCaVQApBy4CACAdTA5mgJ7IM4AoB+ISAIADQABALgEpB6IciEvgB4DYBCIdkHRgmQlIEg2AFgBA8gzAZhWgZhUg8gxgFgAgEg2ghhWgOIDiWBQCECcFwAgAgPgoAJaEAK4kBBA+CnARAIBwUoADT8ksS0gmaBcyO+WQ6WWRDAKoZJgpJCPUCxmeccj4qkjmYxsAD80E+JVhgIIBghKAi7WWlZWVlT/nxIZww04Nt20YVQV+xqAKhASAA4D0gAAAAAD/BwAAAACAwXF4c8EAAIDBAAAAQgsEAQEBBCuJPzyfPAVk+u+vgRUBAlZBbgECWUgeAQLvQQwBAsBAJAAAALoAAAA=",
        "encoding": "base64",
        "path": [
         "scene_vPjLm5ULpO53nOhpQ41I1wvd5",
         "drc"
        ]
       },
       {
        "data": "RFJBQ08CAgEBAAAAXLQBAbMBAAAtX9u2rWpLVVVVqVZLVVWValVLVVWpVlVLVZVqVVVLValWVVVLlWpVVVVLqQIKAQEQ/wL2XgL/AAEAAQABAAkDAAACAQICAwABAQQBAQAMF70JGQIZEkkfGQK0F5BpXg4ZDy4i6U1F6DUqASfbu9LJXuhPPV9wGXiWA7CIwSF5fAbguxAAqaACwEN3TOpyAHbGGYURAADxUQA2TwF8lQpgZzkAa54CwJIQQDbr3KMLAVD3JAAYggVAEg1AnBTAIzQAeeYCyDG3V3EAxZkknAOw2iPpgGwCQABALgGbVYArCQFsJAWAmm0AO80BYPW0F7OEo4ynygGd0/MVAIDwUYCaVQApBy4CACAdTA5mgJ7IM4AoB+ISAIADQABALgEpB6IciEvgB4DYBCIdkHRgmQlIEg2AFgBA8gzAZhWgZhUg8gxgFgAgEg2ghhWgOIDiWBQCECcFwAgAgPgoAJaEAK4kBBA+CnARAIBwUoADT8ksS0gmaBcyO+WQ6WWRDAKoZJgpJCPUCxmeccj4qkjmYxsAD80E+JVhgIIBghKAi7WWlZWVlT/nxIZww04Nt20YVQV+xqAKhASAA4D0gAAAAAD/BwAAAADAwFSatsAAAMDAAABAQQsEAQEBBC6JPzyrPAVYXeS/gRUBAlZBbgECWUgeAQLvQQwBAsBAIwAAAH0AAAA=",
        "encoding": "base64",
        "path": [
         "scene_vxH85QHQwnGHU0bJA9OoIsulW",
         "drc"
        ]
       },
       {
        "data": "RFJBQ08CAgEBAAAAXLQBAbMBAAAtX9u2rWpLVVVVqVZLVVWValVLVVWpVlVLVZVqVVVLValWVVVLlWpVVVVLqQIKAQEQ/wL2XgL/AAEAAQABAAkDAAACAQICAwABAQQBAQAMF70JGQIZEkkfGQK0F5BpXg4ZDy4i6U1F6DUqASfbu9LJXuhPPV9wGXiWA7CIwSF5fAbguxAAT1kB0EN3TOpyAHbGGYURAADxUQA2TwF8lQpgZzkAa54CwJIQQDbr3KMLAVD3JAAYggVAEg1AnBTAIzQAO82NsdIdQHEAxclMzgGw+iPpgGwCQABALgGbVYArCQFsJAWAmm0AO80BUPW0F7OEo4ynygGd8/MVAIDwUYCaVQApBy4CACAdTA5mgJ/IM4AoB+ISAIAFQABALgEpB6IciEvgB4DYBCIdkHRgmclHEg2AFgBA8gzAZhWgZhUg8gxgFgAgEg2ghhWgOIDiWBQCECcFwAgAgPgoAJaEAK4kBBA+CnARAIBwUoADT8ksS0gmaBcyO+WQ6WWRDAKoZJgpJCPUCxmeccj4qkimvx8AD94DmOJGggGEEtR8RV4iJCQkCNeA4WSDIwVCaxhVBX7GoAqEBIADAPaAAAAAAP8HAAAAAFDB29FFwQAAUMEAANBBCwQBAQEEIok/PHs8BVj3kbOBFQECVkFuAQJZSB4BAu9BDAECwECOAAAA9QAAAA==",
        "encoding": "base64",
        "path": [
         "scene_wIC6fp8Djy0WpiqF4vEzpig3D",
         "drc"
        ]
       },
       {
        "data": "RFJBQ08CAgEBAAAAXLQBAbMBAAAtX9u2rWpLVVVVqVZLVVWValVLVVWpVlVLVZVqVVVLValWVVVLlWpVVVVLqQIKAQEQ/wL2XgL/AAEAAQABAAkDAAACAQICAwABAQQBAQAMF70JGQIZEkkfGQK0F5BpXg4ZDy4i6U1F6DUqASfbu9LJXuhPPV9wGXiWA7CIwSF5fAbguxAAqaACwEN3TOpyAHbGGYURAADxUQA2TwF8lQpgZzkAa54CwJIQQDbr3KMLAVD3JAAYggVAEg1AnBTAIzQAeeYCyDG3V3EAxZkknAOw2iPpgGwCQABALgGbVYArCQFsJAWAmm0AO80BYPW0F7OEo4ynygGd0/MVAIDwUYCaVQApBy4CACAdTA5mgJ7IM4AoB+ISAIADQABALgEpB6IciEvgB4DYBCIdkHRgmQlIEg2AFgBA8gzAZhWgZhUg8gxgFgAgEg2ghhWgOIDiWBQCECcFwAgAgPgoAJaEAK4kBBA+CnARAIBwUoADT8ksS0gmaBcyO+WQ6WWRDAKoZJgpJCPUCxmeccj4qkjmYxsAD80E+JVhgIIBghKAi7WWlZWVlT/nxIZww04Nt20YVQV+xqAKhASAA4D0gAAAAAD/BwAAAACgwEYrmMAAAKDAAAAgQQsEAQEBBC6JPzyrPAVY6KCzgRUBAlZBbgECWUgeAQLvQQwBAsBArQAAANwAAAA=",
        "encoding": "base64",
        "path": [
         "scene_wJw6UtdhaneTedOqxpTx9jGSh",
         "drc"
        ]
       },
       {
        "data": "RFJBQ08CAgEBAAAAXLQBAbMBAAAtX9u2rWpLVVVVqVZLVVWValVLVVWpVlVLVZVqVVVLValWVVVLlWpVVVVLqQIKAQEQ/wL2XgL/AAEAAQABAAkDAAACAQICAwABAQQBAQAMF70JGQIZEkkfGQK0F5BpXg4ZDy4i6U1F6DUqASfbu9LJXuhPPV9wGXiWA7CIwSF5fAbguxAAqaACwEN3TOpyAHbGGYURAADxUQA2TwF8lQpgZzkAa54CwJIQQDbr3KMLAVD3JAAYggVAEg1AnBTAIzQAeeYCyDG3V3EAxZkknAOw2iPpgGwCQABALgGbVYArCQFsJAWAmm0AO80BYPW0F7OEo4ynygGd0/MVAIDwUYCaVQApBy4CACAdTA5mgJ7IM4AoB+ISAIADQABALgEpB6IciEvgB4DYBCIdkHRgmQlIEg2AFgBA8gzAZhWgZhUg8gxgFgAgEg2ghhWgOIDiWBQCECcFwAgAgPgoAJaEAK4kBBA+CnARAIBwUoADT8ksS0gmaBcyO+WQ6WWRDAKoZJgpJCPUCxmeccj4qkjmYxsAD80E+JVhgIIBghKAi7WWlZWVlT/nxIZww04Nt20YVQV+xqAKhASAA4D0gAAAAAD/BwAAAACgwEYrmMAAAKDAAAAgQQsEAQEBBAWJPzwHPAVY6KCzgRUBAlZBbgECWUgeAQLvQQwBAsBAHQAAADMAAAA=",
        "encoding": "base64",
        "path": [
         "scene_wNnrOHJ8RJMxw2RfZAtyRl6Zh",
         "drc"
        ]
       },
       {
        "data": "RFJBQ08CAgEBAAAAXLQBAbMBAAAtX9u2rWpLVVVVqVZLVVWValVLVVWpVlVLVZVqVVVLValWVVVLlWpVVVVLqQIKAQEQ/wL2XgL/AAEAAQABAAkDAAACAQICAwABAQQBAQAMF70JGQIZEkkfGQK0F5BpXg4ZDy4i6U1F6DUqASfbu9LJXuhPPV9wGXiWA7CIwSF5fAbguxAAqaACwEN3TOpyAHbGGYURAADxUQA2TwF8lQpgZzkAa54CwJIQQDbr3KMLAVD3JAAYggVAEg1AnBTAIzQAeeYCyDG3V3EAxZkknAOw2iPpgGwCQABALgGbVYArCQFsJAWAmm0AO80BYPW0F7OEo4ynygGd0/MVAIDwUYCaVQApBy4CACAdTA5mgJ7IM4AoB+ISAIADQABALgEpB6IciEvgB4DYBCIdkHRgmQlIEg2AFgBA8gzAZhWgZhUg8gxgFgAgEg2ghhWgOIDiWBQCECcFwAgAgPgoAJaEAK4kBBA+CnARAIBwUoADT8ksS0gmaBcyO+WQ6WWRDAKoZJgpJCPUCxmeccj4qkjmYxsAD80E+JVhgIIBghKAi7WWlZWVlT/nxIZww04Nt20YVQV+xqAKhASAA4D0gAAAAAD/BwAAAAAAwHF4878AAADAAACAQAsEAQEBBEiJPzz/EzwFWPeRs4EVAQJWQW4BAllIHgEC70EMAQLAQDsAAADaAAAA",
        "encoding": "base64",
        "path": [
         "scene_wQb7Wqf773sMEKpgrsVOOn9VB",
         "drc"
        ]
       },
       {
        "data": "RFJBQ08CAgEBAAAAXLQBAbMBAAAtX9u2rWpLVVVVqVZLVVWValVLVVWpVlVLVZVqVVVLValWVVVLlWpVVVVLqQIKAQEQ/wL2XgL/AAEAAQABAAkDAAACAQICAwABAQQBAQAMF70JGQIZEkkfGQK0F5BpXg4ZDy4i6U1F6DUqASfbu9LJXuhPPV9wGXiWA7CIwSF5fAbguxAAT1kB0EN3TOpyAHbGGYURAADxUQA2TwF8lQpgZzkAa54CwJIQQDbr3KMLAVD3JAAYggVAEg1AnBTAIzQAO82NsdIdQHEAxclMzgGw+iPpgGwCQABALgGbVYArCQFsJAWAmm0AO80BUPW0F7OEo4ynygGd8/MVAIDwUYCaVQApBy4CACAdTA5mgJ/IM4AoB+ISAIAFQABALgEpB6IciEvgB4DYBCIdkHRgmclHEg2AFgBA8gzAZhWgZhUg8gxgFgAgEg2ghhWgOIDiWBQCECcFwAgAgPgoAJaEAK4kBBA+CnARAIBwUoADT8ksS0gmaBcyO+WQ6WWRDAKoZJgpJCPUCxmeccj4qkimvx8AD94DmOJGggGEEtR8RV4iJCQkCNeA4WSDIwVCaxhVBX7GoAqEBIADAPaAAAAAAP8HAAAAAHDB6kBkwQAAcMEAAPBBCwQBAQEEWYk/PP9XPAVY6KCzgRUBAlZBbgECWUgeAQLvQQwBAsBAHAAAAIIAAAA=",
        "encoding": "base64",
        "path": [
         "scene_wf3XZQLiGeQefiOaoWQ6a79Kx",
         "drc"
        ]
       },
       {
        "data": "RFJBQ08CAgEBAAAAXLQBAbMBAAAtX9u2rWpLVVVVqVZLVVWValVLVVWpVlVLVZVqVVVLValWVVVLlWpVVVVLqQIKAQEQ/wL2XgL/AAEAAQABAAkDAAACAQICAwABAQQBAQAMF70JGQIZEkkfGQK0F5BpXg4ZDy4i6U1F6DUqASfbu9LJXuhPPV9wGXiWA7CIwSF5fAbguxAAqaACwEN3TOpyAHbGGYURAADxUQA2TwF8lQpgZzkAa54CwJIQQDbr3KMLAVD3JAAYggVAEg1AnBTAIzQAeeYCyDG3V3EAxZkknAOw2iPpgGwCQABALgGbVYArCQFsJAWAmm0AO80BYPW0F7OEo4ynygGd0/MVAIDwUYCaVQApBy4CACAdTA5mgJ7IM4AoB+ISAIADQABALgEpB6IciEvgB4DYBCIdkHRgmQlIEg2AFgBA8gzAZhWgZhUg8gxgFgAgEg2ghhWgOIDiWBQCECcFwAgAgPgoAJaEAK4kBBA+CnARAIBwUoADT8ksS0gmaBcyO+WQ6WWRDAKoZJgpJCPUCxmeccj4qkjmYxsAD80E+JVhgIIBghKAi7WWlZWVlT/nxIZww04Nt20YVQV+xqAKhASAA4D0gAAAAAD/BwAAAABAwVSaNsEAAEDBAADAQQsEAQEBBBiJPzxTPAVYXeS/gRUBAlZBbgECWUgeAQLvQQwBAsBAJQAAAEgAAAA=",
        "encoding": "base64",
        "path": [
         "scene_wpvgb8eVK0WijWhnB7F3KF6dn",
         "drc"
        ]
       },
       {
        "data": "RFJBQ08CAgEBAAAAXLQBAbMBAAAtX9u2rWpLVVVVqVZLVVWValVLVVWpVlVLVZVqVVVLValWVVVLlWpVVVVLqQIKAQEQ/wL2XgL/AAEAAQABAAkDAAACAQICAwABAQQBAQAMF70JGQIZEkkfGQK0F5BpXg4ZDy4i6U1F6DUqASfbu9LJXuhPPV9wGXiWA7CIwSF5fAbguxAAqaACwEN3TOpyAHbGGYURAADxUQA2TwF8lQpgZzkAa54CwJIQQDbr3KMLAVD3JAAYggVAEg1AnBTAIzQAeeYCyDG3V3EAxZkknAOw2iPpgGwCQABALgGbVYArCQFsJAWAmm0AO80BYPW0F7OEo4ynygGd0/MVAIDwUYCaVQApBy4CACAdTA5mgJ7IM4AoB+ISAIADQABALgEpB6IciEvgB4DYBCIdkHRgmQlIEg2AFgBA8gzAZhWgZhUg8gxgFgAgEg2ghhWgOIDiWBQCECcFwAgAgPgoAJaEAK4kBBA+CnARAIBwUoADT8ksS0gmaBcyO+WQ6WWRDAKoZJgpJCPUCxmeccj4qkjmYxsAD80E+JVhgIIBghKAi7WWlZWVlT/nxIZww04Nt20YVQV+xqAKhASAA4D0gAAAAAD/BwAAAACYwYOPkMEAAJjBAAAYQgsEAQEBBIIBiT88//s8BVjooLOBFQECVkFuAQJZSB4BAu9BDAECwEAfAAAAzwAAAA==",
        "encoding": "base64",
        "path": [
         "scene_xGqDjOQ7ciwrNqEUnBpGHGpGX",
         "drc"
        ]
       },
       {
        "data": "RFJBQ08CAgEBAAAAXLQBAbMBAAAtX9u2rWpLVVVVqVZLVVWValVLVVWpVlVLVZVqVVVLValWVVVLlWpVVVVLqQIKAQEQ/wL2XgL/AAEAAQABAAkDAAACAQICAwABAQQBAQAMF70JGQIZEkkfGQK0F5BpXg4ZDy4i6U1F6DUqASfbu9LJXuhPPV9wGXiWA7CIwSF5fAbguxAAT1kB0EN3TOpyAHbGGYURAADxUQA2TwF8lQpgZzkAa54CwJIQQDbr3KMLAVD3JAAYggVAEg1AnBTAIzQAO82NsdIdQHEAxclMzgGw+iPpgGwCQABALgGbVYArCQFsJAWAmm0AO80BUPW0F7OEo4ynygGd8/MVAIDwUYCaVQApBy4CACAdTA5mgJ/IM4AoB+ISAIAFQABALgEpB6IciEvgB4DYBCIdkHRgmclHEg2AFgBA8gzAZhWgZhUg8gxgFgAgEg2ghhWgOIDiWBQCECcFwAgAgPgoAJaEAK4kBBA+CnARAIBwUoADT8ksS0gmaBcyO+WQ6WWRDAKoZJgpJCPUCxmeccj4qkimvx8AD94DmOJGggGEEtR8RV4iJCQkCNeA4WSDIwVCaxhVBX7GoAqEBIADAPaAAAAAAP8HAAAAAODAYwnVwAAA4MAAAGBBCwQBAQEEdYk/PP/HPAVYXeS/gRUBAlZBbgECWUgeAQLvQQwBAsBARQAAANoAAAA=",
        "encoding": "base64",
        "path": [
         "scene_xI1As3wNOvJz9KE5NsiNUesGf",
         "drc"
        ]
       },
       {
        "data": "RFJBQ08CAgEBAAAAXLQBAbMBAAAtX9u2rWpLVVVVqVZLVVWValVLVVWpVlVLVZVqVVVLValWVVVLlWpVVVVLqQIKAQEQ/wL2XgL/AAEAAQABAAkDAAACAQICAwABAQQBAQAMF70JGQIZEkkfGQK0F5BpXg4ZDy4i6U1F6DUqASfbu9LJXuhPPV9wGXiWA7CIwSF5fAbguxAAqaACwEN3TOpyAHbGGYURAADxUQA2TwF8lQpgZzkAa54CwJIQQDbr3KMLAVD3JAAYggVAEg1AnBTAIzQAeeYCyDG3V3EAxZkknAOw2iPpgGwCQABALgGbVYArCQFsJAWAmm0AO80BYPW0F7OEo4ynygGd0/MVAIDwUYCaVQApBy4CACAdTA5mgJ7IM4AoB+ISAIADQABALgEpB6IciEvgB4DYBCIdkHRgmQlIEg2AFgBA8gzAZhWgZhUg8gxgFgAgEg2ghhWgOIDiWBQCECcFwAgAgPgoAJaEAK4kBBA+CnARAIBwUoADT8ksS0gmaBcyO+WQ6WWRDAKoZJgpJCPUCxmeccj4qkjmYxsAD80E+JVhgIIBghKAi7WWlZWVlT/nxIZww04Nt20YVQV+xqAKhASAA4D0gAAAAAD/BwAAAABAwVSaNsEAAEDBAADAQQsEAQEBBHaJPzz/yzwFWOigs4EVAQJWQW4BAllIHgEC70EMAQLAQAMAAADhAAAA",
        "encoding": "base64",
        "path": [
         "scene_xNFiFjMQOXMVeFAy45icXsBZG",
         "drc"
        ]
       },
       {
        "data": "RFJBQ08CAgEBAAAAXLQBAbMBAAAtX9u2rWpLVVVVqVZLVVWValVLVVWpVlVLVZVqVVVLValWVVVLlWpVVVVLqQIKAQEQ/wL2XgL/AAEAAQABAAkDAAACAQICAwABAQQBAQAMF70JGQIZEkkfGQK0F5BpXg4ZDy4i6U1F6DUqASfbu9LJXuhPPV9wGXiWA7CIwSF5fAbguxAAqaACwEN3TOpyAHbGGYURAADxUQA2TwF8lQpgZzkAa54CwJIQQDbr3KMLAVD3JAAYggVAEg1AnBTAIzQAeeYCyDG3V3EAxZkknAOw2iPpgGwCQABALgGbVYArCQFsJAWAmm0AO80BYPW0F7OEo4ynygGd0/MVAIDwUYCaVQApBy4CACAdTA5mgJ7IM4AoB+ISAIADQABALgEpB6IciEvgB4DYBCIdkHRgmQlIEg2AFgBA8gzAZhWgZhUg8gxgFgAgEg2ghhWgOIDiWBQCECcFwAgAgPgoAJaEAK4kBBA+CnARAIBwUoADT8ksS0gmaBcyO+WQ6WWRDAKoZJgpJCPUCxmeccj4qkjmYxsAD80E+JVhgIIBghKAi7WWlZWVlT/nxIZww04Nt20YVQV+xqAKhASAA4D0gAAAAAD/BwAAAACQwb/ziMEAAJDBAAAQQgsEAQEBBDCJPzyzPAVY6KCzgRUBAlZBbgECWUgeAQLvQQwBAsBAcwAAAN4AAAA=",
        "encoding": "base64",
        "path": [
         "scene_xaZFwV717lVox3FLibCdgMIKI",
         "drc"
        ]
       },
       {
        "data": "RFJBQ08CAgEBAAAAXLQBAbMBAAAtX9u2rWpLVVVVqVZLVVWValVLVVWpVlVLVZVqVVVLValWVVVLlWpVVVVLqQIKAQEQ/wL2XgL/AAEAAQABAAkDAAACAQICAwABAQQBAQAMF70JGQIZEkkfGQK0F5BpXg4ZDy4i6U1F6DUqASfbu9LJXuhPPV9wGXiWA7CIwSF5fAbguxAAqaACwEN3TOpyAHbGGYURAADxUQA2TwF8lQpgZzkAa54CwJIQQDbr3KMLAVD3JAAYggVAEg1AnBTAIzQAeeYCyDG3V3EAxZkknAOw2iPpgGwCQABALgGbVYArCQFsJAWAmm0AO80BYPW0F7OEo4ynygGd0/MVAIDwUYCaVQApBy4CACAdTA5mgJ7IM4AoB+ISAIADQABALgEpB6IciEvgB4DYBCIdkHRgmQlIEg2AFgBA8gzAZhWgZhUg8gxgFgAgEg2ghhWgOIDiWBQCECcFwAgAgPgoAJaEAK4kBBA+CnARAIBwUoADT8ksS0gmaBcyO+WQ6WWRDAKoZJgpJCPUCxmeccj4qkjmYxsAD80E+JVhgIIBghKAi7WWlZWVlT/nxIZww04Nt20YVQV+xqAKhASAA4D0gAAAAAD/BwAAAACgwEYrmMAAAKDAAAAgQQsEAQEBBMEBiT88///3PAVYTvO/gRUBAlZBbgECWUgeAQLvQQwBAsBAAwAAAPsAAAA=",
        "encoding": "base64",
        "path": [
         "scene_xbMahhoP1DjMTN5ieD5B7X5Xq",
         "drc"
        ]
       },
       {
        "data": "RFJBQ08CAgEBAAAAXLQBAbMBAAAtX9u2rWpLVVVVqVZLVVWValVLVVWpVlVLVZVqVVVLValWVVVLlWpVVVVLqQIKAQEQ/wL2XgL/AAEAAQABAAkDAAACAQICAwABAQQBAQAMF70JGQIZEkkfGQK0F5BpXg4ZDy4i6U1F6DUqASfbu9LJXuhPPV9wGXiWA7CIwSF5fAbguxAAT1kB0EN3TOpyAHbGGYURAADxUQA2TwF8lQpgZzkAa54CwJIQQDbr3KMLAVD3JAAYggVAEg1AnBTAIzQAO82NsdIdQHEAxclMzgGw+iPpgGwCQABALgGbVYArCQFsJAWAmm0AO80BUPW0F7OEo4ynygGd8/MVAIDwUYCaVQApBy4CACAdTA5mgJ/IM4AoB+ISAIAFQABALgEpB6IciEvgB4DYBCIdkHRgmclHEg2AFgBA8gzAZhWgZhUg8gxgFgAgEg2ghhWgOIDiWBQCECcFwAgAgPgoAJaEAK4kBBA+CnARAIBwUoADT8ksS0gmaBcyO+WQ6WWRDAKoZJgpJCPUCxmeccj4qkimvx8AD94DmOJGggGEEtR8RV4iJCQkCNeA4WSDIwVCaxhVBX7GoAqEBIADAPaAAAAAAP8HAAAAAHDB6kBkwQAAcMEAAPBBCwQBAQEEC4k/PB88BVjooLOBFQECVkFuAQJZSB4BAu9BDAECwEA7AAAA6gAAAA==",
        "encoding": "base64",
        "path": [
         "scene_xllV0QtsrFadsRBlY57777A3b",
         "drc"
        ]
       },
       {
        "data": "RFJBQ08CAgEBAAAAXLQBAbMBAAAtX9u2rWpLVVVVqVZLVVWValVLVVWpVlVLVZVqVVVLValWVVVLlWpVVVVLqQIKAQEQ/wL2XgL/AAEAAQABAAkDAAACAQICAwABAQQBAQAMF70JGQIZEkkfGQK0F5BpXg4ZDy4i6U1F6DUqASfbu9LJXuhPPV9wGXiWA7CIwSF5fAbguxAAqaACwEN3TOpyAHbGGYURAADxUQA2TwF8lQpgZzkAa54CwJIQQDbr3KMLAVD3JAAYggVAEg1AnBTAIzQAeeYCyDG3V3EAxZkknAOw2iPpgGwCQABALgGbVYArCQFsJAWAmm0AO80BYPW0F7OEo4ynygGd0/MVAIDwUYCaVQApBy4CACAdTA5mgJ7IM4AoB+ISAIADQABALgEpB6IciEvgB4DYBCIdkHRgmQlIEg2AFgBA8gzAZhWgZhUg8gxgFgAgEg2ghhWgOIDiWBQCECcFwAgAgPgoAJaEAK4kBBA+CnARAIBwUoADT8ksS0gmaBcyO+WQ6WWRDAKoZJgpJCPUCxmeccj4qkjmYxsAD80E+JVhgIIBghKAi7WWlZWVlT/nxIZww04Nt20YVQV+xqAKhASAA4D0gAAAAAD/BwAAAAAQwb/zCMEAABDBAACQQQsEAQEBBK4BiT88//+rPAVk6/6vgRUBAlZBbgECWUgeAQLvQQwBAsBADwAAAOQAAAA=",
        "encoding": "base64",
        "path": [
         "scene_yigEeP8tZRAjCxuL2hFFAB7cN",
         "drc"
        ]
       },
       {
        "data": "RFJBQ08CAgEBAAAAXLQBAbMBAAAtX9u2rWpLVVVVqVZLVVWValVLVVWpVlVLVZVqVVVLValWVVVLlWpVVVVLqQIKAQEQ/wL2XgL/AAEAAQABAAkDAAACAQICAwABAQQBAQAMF70JGQIZEkkfGQK0F5BpXg4ZDy4i6U1F6DUqASfbu9LJXuhPPV9wGXiWA7CIwSF5fAbguxAAqaACwEN3TOpyAHbGGYURAADxUQA2TwF8lQpgZzkAa54CwJIQQDbr3KMLAVD3JAAYggVAEg1AnBTAIzQAeeYCyDG3V3EAxZkknAOw2iPpgGwCQABALgGbVYArCQFsJAWAmm0AO80BYPW0F7OEo4ynygGd0/MVAIDwUYCaVQApBy4CACAdTA5mgJ7IM4AoB+ISAIADQABALgEpB6IciEvgB4DYBCIdkHRgmQlIEg2AFgBA8gzAZhWgZhUg8gxgFgAgEg2ghhWgOIDiWBQCECcFwAgAgPgoAJaEAK4kBBA+CnARAIBwUoADT8ksS0gmaBcyO+WQ6WWRDAKoZJgpJCPUCxmeccj4qkjmYxsAD80E+JVhgIIBghKAi7WWlZWVlT/nxIZww04Nt20YVQV+xqAKhASAA4D0gAAAAAD/BwAAAABAwVSaNsEAAEDBAADAQQsEAQEBBCOJPzx/PAVY95GzgRUBAlZBbgECWUgeAQLvQQwBAsBALwAAAHEAAAA=",
        "encoding": "base64",
        "path": [
         "scene_ypy1l0kGEqY07CuemkQrKE2Zf",
         "drc"
        ]
       },
       {
        "data": "RFJBQ08CAgEBAAAAXLQBAbMBAAAtX9u2rWpLVVVVqVZLVVWValVLVVWpVlVLVZVqVVVLValWVVVLlWpVVVVLqQIKAQEQ/wL2XgL/AAEAAQABAAkDAAACAQICAwABAQQBAQAMF70JGQIZEkkfGQK0F5BpXg4ZDy4i6U1F6DUqASfbu9LJXuhPPV9wGXiWA7CIwSF5fAbguxAAqaACwEN3TOpyAHbGGYURAADxUQA2TwF8lQpgZzkAa54CwJIQQDbr3KMLAVD3JAAYggVAEg1AnBTAIzQAeeYCyDG3V3EAxZkknAOw2iPpgGwCQABALgGbVYArCQFsJAWAmm0AO80BYPW0F7OEo4ynygGd0/MVAIDwUYCaVQApBy4CACAdTA5mgJ7IM4AoB+ISAIADQABALgEpB6IciEvgB4DYBCIdkHRgmQlIEg2AFgBA8gzAZhWgZhUg8gxgFgAgEg2ghhWgOIDiWBQCECcFwAgAgPgoAJaEAK4kBBA+CnARAIBwUoADT8ksS0gmaBcyO+WQ6WWRDAKoZJgpJCPUCxmeccj4qkjmYxsAD80E+JVhgIIBghKAi7WWlZWVlT/nxIZww04Nt20YVQV+xqAKhASAA4D0gAAAAAD/BwAAAACIwfxXgcEAAIjBAAAIQgsEAQEBBF2JPzz/ZzwFWF3kv4EVAQJWQW4BAllIHgEC70EMAQLAQBAAAACWAAAA",
        "encoding": "base64",
        "path": [
         "scene_z1hmCcyR1LPnABYqCJVBhN0E0",
         "drc"
        ]
       },
       {
        "data": "RFJBQ08CAgEBAAAAXLQBAbMBAAAtX9u2rWpLVVVVqVZLVVWValVLVVWpVlVLVZVqVVVLValWVVVLlWpVVVVLqQIKAQEQ/wL2XgL/AAEAAQABAAkDAAACAQICAwABAQQBAQAMF70JGQIZEkkfGQK0F5BpXg4ZDy4i6U1F6DUqASfbu9LJXuhPPV9wGXiWA7CIwSF5fAbguxAAqaACwEN3TOpyAHbGGYURAADxUQA2TwF8lQpgZzkAa54CwJIQQDbr3KMLAVD3JAAYggVAEg1AnBTAIzQAeeYCyDG3V3EAxZkknAOw2iPpgGwCQABALgGbVYArCQFsJAWAmm0AO80BYPW0F7OEo4ynygGd0/MVAIDwUYCaVQApBy4CACAdTA5mgJ7IM4AoB+ISAIADQABALgEpB6IciEvgB4DYBCIdkHRgmQlIEg2AFgBA8gzAZhWgZhUg8gxgFgAgEg2ghhWgOIDiWBQCECcFwAgAgPgoAJaEAK4kBBA+CnARAIBwUoADT8ksS0gmaBcyO+WQ6WWRDAKoZJgpJCPUCxmeccj4qkjmYxsAD80E+JVhgIIBghKAi7WWlZWVlT/nxIZww04Nt20YVQV+xqAKhASAA4D0gAAAAAD/BwAAAAAAwHF4878AAADAAACAQAsEAQEBBGaJPzz/izwFZPrvr4EVAQJWQW4BAllIHgEC70EMAQLAQCMAAADUAAAA",
        "encoding": "base64",
        "path": [
         "scene_zVMCBCWWqHXdizpq3LiBDtmCb",
         "drc"
        ]
       }
      ],
      "model_module": "pgljupyter",
      "model_module_version": "^0.1.0",
      "model_name": "SceneWidgetModel",
      "state": {
       "_model_module_version": "^0.1.0",
       "_view_module_version": "^0.1.0",
       "axes_helper": true,
       "layout": "IPY_MODEL_8347ae7b7eef4047ad897c61f9421ef7",
       "mesh_compression": 10,
       "scene": {
        "drc": {},
        "position": [
         0,
         0,
         0
        ],
        "scale": 1,
        "scene": "<openalea.plantgl.scenegraph._pglsg.Scene object at 0x7f7d39d30870>"
       },
       "scene_0m7wPqbFIbubIMY9ersBossF5": {
        "drc": {},
        "position": [
         -49,
         9,
         -115
        ],
        "scale": 1,
        "scene": "<openalea.plantgl.scenegraph._pglsg.Scene object at 0x7f7d39ff4570>"
       },
       "scene_1cYDcuRmzqTS9Tl1uL6HkHEqz": {
        "drc": {},
        "position": [
         -80,
         -111,
         -91
        ],
        "scale": 1,
        "scene": "<openalea.plantgl.scenegraph._pglsg.Scene object at 0x7f7d39d426b0>"
       },
       "scene_1cmrerqYezvxpRbIo5q7Gbsbb": {
        "drc": {},
        "position": [
         10,
         33,
         -11
        ],
        "scale": 1,
        "scene": "<openalea.plantgl.scenegraph._pglsg.Scene object at 0x7f7d39f9d2b0>"
       },
       "scene_1qN8fyO2Oi6eq4ZvjpAAoXxWV": {
        "drc": {},
        "position": [
         7,
         -59,
         70
        ],
        "scale": 1,
        "scene": "<openalea.plantgl.scenegraph._pglsg.Scene object at 0x7f7d39bc34b0>"
       },
       "scene_1ri0CILLxYVtrFNasxVvygeED": {
        "drc": {},
        "position": [
         -30,
         0,
         -9
        ],
        "scale": 1,
        "scene": "<openalea.plantgl.scenegraph._pglsg.Scene object at 0x7f7d39e7c9f0>"
       },
       "scene_1tjerFplyDQOyIPvks0gpodNh": {
        "drc": {},
        "position": [
         -66,
         -66,
         -66
        ],
        "scale": 1,
        "scene": "<openalea.plantgl.scenegraph._pglsg.Scene object at 0x7f7d39e24470>"
       },
       "scene_2J7zuTuM9PzYcuowJL64U22KQ": {
        "drc": {},
        "position": [
         60,
         -76,
         -64
        ],
        "scale": 1,
        "scene": "<openalea.plantgl.scenegraph._pglsg.Scene object at 0x7f7d39ca96f0>"
       },
       "scene_2QndYAuY8Q1lSCRcLjxnyp9Ds": {
        "drc": {},
        "position": [
         -25,
         122,
         45
        ],
        "scale": 1,
        "scene": "<openalea.plantgl.scenegraph._pglsg.Scene object at 0x7f7d39decaf0>"
       },
       "scene_2REGcwnYhxwo7Oqq4UT2QGP72": {
        "drc": {},
        "position": [
         46,
         -46,
         123
        ],
        "scale": 1,
        "scene": "<openalea.plantgl.scenegraph._pglsg.Scene object at 0x7f7d39bd4830>"
       },
       "scene_2dwNhZQhbsXCYhR2qp5WTQU3N": {
        "drc": {},
        "position": [
         -103,
         -43,
         11
        ],
        "scale": 1,
        "scene": "<openalea.plantgl.scenegraph._pglsg.Scene object at 0x7f7d39db78b0>"
       },
       "scene_2ksHHgxBNA4I3RiaMTmEi4kWG": {
        "drc": {},
        "position": [
         112,
         14,
         -62
        ],
        "scale": 1,
        "scene": "<openalea.plantgl.scenegraph._pglsg.Scene object at 0x7f7d39bf5630>"
       },
       "scene_2s4nTKpGMXXOlBkQNAImuZ6Jc": {
        "drc": {},
        "position": [
         43,
         -3,
         24
        ],
        "scale": 1,
        "scene": "<openalea.plantgl.scenegraph._pglsg.Scene object at 0x7f7d39dfd5b0>"
       },
       "scene_3H3Bb96lb28Mq4sQJt0B8gWsd": {
        "drc": {},
        "position": [
         -110,
         113,
         -78
        ],
        "scale": 1,
        "scene": "<openalea.plantgl.scenegraph._pglsg.Scene object at 0x7f7d39dcf3f0>"
       },
       "scene_3RmHK7ZlzhhdSar2JacgypHxg": {
        "drc": {},
        "position": [
         34,
         -40,
         36
        ],
        "scale": 1,
        "scene": "<openalea.plantgl.scenegraph._pglsg.Scene object at 0x7f7d39bc3a70>"
       },
       "scene_3d89VqmpJIqQ1uYP6jOBjQbKh": {
        "drc": {},
        "position": [
         110,
         105,
         -89
        ],
        "scale": 1,
        "scene": "<openalea.plantgl.scenegraph._pglsg.Scene object at 0x7f7d3a03c830>"
       },
       "scene_3nAi9dFmoaxT0pjoOXqfLjwqJ": {
        "drc": {},
        "position": [
         25,
         -18,
         12
        ],
        "scale": 1,
        "scene": "<openalea.plantgl.scenegraph._pglsg.Scene object at 0x7f7d39c068f0>"
       },
       "scene_3tPbfHUrOdZRNZBDqWVfVao0z": {
        "drc": {},
        "position": [
         -125,
         121,
         27
        ],
        "scale": 1,
        "scene": "<openalea.plantgl.scenegraph._pglsg.Scene object at 0x7f7d39f2c670>"
       },
       "scene_464O8nn5VkVgad0D7LuSYqx2q": {
        "drc": {},
        "position": [
         -107,
         1,
         67
        ],
        "scale": 1,
        "scene": "<openalea.plantgl.scenegraph._pglsg.Scene object at 0x7f7d39c5a830>"
       },
       "scene_4FlhHglnItEVnKQZk49HURjB4": {
        "drc": {},
        "position": [
         -76,
         31,
         74
        ],
        "scale": 1,
        "scene": "<openalea.plantgl.scenegraph._pglsg.Scene object at 0x7f7d39b79f70>"
       },
       "scene_4GOqX1X8jOFmDQpW8hgwEMphE": {
        "drc": {},
        "position": [
         57,
         -53,
         -125
        ],
        "scale": 1,
        "scene": "<openalea.plantgl.scenegraph._pglsg.Scene object at 0x7f7d39e635f0>"
       },
       "scene_4sQH6r3w2xBYthzebT8snFpSh": {
        "drc": {},
        "position": [
         66,
         -96,
         12
        ],
        "scale": 1,
        "scene": "<openalea.plantgl.scenegraph._pglsg.Scene object at 0x7f7d39e7c170>"
       },
       "scene_4w59KzFcvlw6UP0Dtyd5YKyNi": {
        "drc": {},
        "position": [
         -4,
         22,
         93
        ],
        "scale": 1,
        "scene": "<openalea.plantgl.scenegraph._pglsg.Scene object at 0x7f7d39c465b0>"
       },
       "scene_5QXM2FIkEqhbw5N9UEzdb6GKa": {
        "drc": {},
        "position": [
         -13,
         -121,
         -3
        ],
        "scale": 1,
        "scene": "<openalea.plantgl.scenegraph._pglsg.Scene object at 0x7f7d39c81bf0>"
       },
       "scene_5dGD61Co62SWnSy2clXvS8GAd": {
        "drc": {},
        "position": [
         92,
         88,
         120
        ],
        "scale": 1,
        "scene": "<openalea.plantgl.scenegraph._pglsg.Scene object at 0x7f7d39f1f830>"
       },
       "scene_5fgwZ3AsMw8JF72Qlfqo6QXwK": {
        "drc": {},
        "position": [
         -103,
         116,
         -88
        ],
        "scale": 1,
        "scene": "<openalea.plantgl.scenegraph._pglsg.Scene object at 0x7f7d6c6c1870>"
       },
       "scene_5mcDc7SQ55sMMjaRlqzIh0QPG": {
        "drc": {},
        "position": [
         107,
         41,
         -35
        ],
        "scale": 1,
        "scene": "<openalea.plantgl.scenegraph._pglsg.Scene object at 0x7f7d39c62eb0>"
       },
       "scene_5qF8KLv5sWQVXeO323zRQjngI": {
        "drc": {},
        "position": [
         110,
         50,
         -119
        ],
        "scale": 1,
        "scene": "<openalea.plantgl.scenegraph._pglsg.Scene object at 0x7f7d39fb6470>"
       },
       "scene_6Gxbg9NiX4LyqshXmmwXg753v": {
        "drc": {},
        "position": [
         -78,
         81,
         -102
        ],
        "scale": 1,
        "scene": "<openalea.plantgl.scenegraph._pglsg.Scene object at 0x7f7d3a47bd30>"
       },
       "scene_6MgELodcon4DNK7clzQjP8T7p": {
        "drc": {},
        "position": [
         25,
         107,
         -90
        ],
        "scale": 1,
        "scene": "<openalea.plantgl.scenegraph._pglsg.Scene object at 0x7f7d39fcd970>"
       },
       "scene_6Qc6ZNinekEcSAcqOx3t3d94n": {
        "drc": {},
        "position": [
         57,
         -4,
         94
        ],
        "scale": 1,
        "scene": "<openalea.plantgl.scenegraph._pglsg.Scene object at 0x7f7d39de6130>"
       },
       "scene_6UCtCKjBngEuCcLGsLFGrqVkh": {
        "drc": {},
        "position": [
         -36,
         59,
         111
        ],
        "scale": 1,
        "scene": "<openalea.plantgl.scenegraph._pglsg.Scene object at 0x7f7d39bcbb30>"
       },
       "scene_6keT0UC9ji3et6TurTAnYlMA7": {
        "drc": {},
        "position": [
         91,
         -125,
         100
        ],
        "scale": 1,
        "scene": "<openalea.plantgl.scenegraph._pglsg.Scene object at 0x7f7d39c378f0>"
       },
       "scene_6tYTNwNJODZVRZl5jsXriIZx3": {
        "drc": {},
        "position": [
         -118,
         -25,
         -14
        ],
        "scale": 1,
        "scene": "<openalea.plantgl.scenegraph._pglsg.Scene object at 0x7f7d39c74e30>"
       },
       "scene_6tlcSYPXiS75XKKg24VVIUCaa": {
        "drc": {},
        "position": [
         -45,
         -67,
         -37
        ],
        "scale": 1,
        "scene": "<openalea.plantgl.scenegraph._pglsg.Scene object at 0x7f7d39f3faf0>"
       },
       "scene_79ZAl5ja8IAceUiuWoDglbNwz": {
        "drc": {},
        "position": [
         -113,
         -21,
         -3
        ],
        "scale": 1,
        "scene": "<openalea.plantgl.scenegraph._pglsg.Scene object at 0x7f7d39dfd9b0>"
       },
       "scene_7Aq1cYk35txGcMm9R0mke4bdp": {
        "drc": {},
        "position": [
         37,
         16,
         96
        ],
        "scale": 1,
        "scene": "<openalea.plantgl.scenegraph._pglsg.Scene object at 0x7f7d39c81770>"
       },
       "scene_7EsMDpjxBhDYkNDGjwRVy4MYl": {
        "drc": {},
        "position": [
         16,
         -11,
         43
        ],
        "scale": 1,
        "scene": "<openalea.plantgl.scenegraph._pglsg.Scene object at 0x7f7d39edf0f0>"
       },
       "scene_7Vs0zm7XTWiQr03Pg1KZyQFOc": {
        "drc": {},
        "position": [
         -40,
         51,
         2
        ],
        "scale": 1,
        "scene": "<openalea.plantgl.scenegraph._pglsg.Scene object at 0x7f7d39bd4670>"
       },
       "scene_7rAufcwPzlpBafnNnhMLHAkqB": {
        "drc": {},
        "position": [
         23,
         101,
         59
        ],
        "scale": 1,
        "scene": "<openalea.plantgl.scenegraph._pglsg.Scene object at 0x7f7d39bd4bb0>"
       },
       "scene_7t5ffzQvizd35UC4RPvAHfpff": {
        "drc": {},
        "position": [
         96,
         9,
         -94
        ],
        "scale": 1,
        "scene": "<openalea.plantgl.scenegraph._pglsg.Scene object at 0x7f7d39b8acb0>"
       },
       "scene_8HGNteuqe2awiJlOcND7nGZVz": {
        "drc": {},
        "position": [
         103,
         -71,
         -87
        ],
        "scale": 1,
        "scene": "<openalea.plantgl.scenegraph._pglsg.Scene object at 0x7f7d39b96db0>"
       },
       "scene_8IWu10HovdatJx8BuRDsmoAum": {
        "drc": {},
        "position": [
         79,
         -74,
         82
        ],
        "scale": 1,
        "scene": "<openalea.plantgl.scenegraph._pglsg.Scene object at 0x7f7d39b967f0>"
       },
       "scene_8VKrGGlHOWBFcLCk33LeYYXfG": {
        "drc": {},
        "position": [
         61,
         -17,
         0
        ],
        "scale": 1,
        "scene": "<openalea.plantgl.scenegraph._pglsg.Scene object at 0x7f7d39c6b3b0>"
       },
       "scene_95kSOQvoE8Rrh84SgXnYnbfzV": {
        "drc": {},
        "position": [
         5,
         -57,
         -53
        ],
        "scale": 1,
        "scene": "<openalea.plantgl.scenegraph._pglsg.Scene object at 0x7f7d39c404f0>"
       },
       "scene_9GbdYHxQK9TEHkiV84vvErW9u": {
        "drc": {},
        "position": [
         22,
         19,
         0
        ],
        "scale": 1,
        "scene": "<openalea.plantgl.scenegraph._pglsg.Scene object at 0x7f7d39dad630>"
       },
       "scene_9IjCVzkm6ITkOr75HlrulLceh": {
        "drc": {},
        "position": [
         -84,
         -122,
         15
        ],
        "scale": 1,
        "scene": "<openalea.plantgl.scenegraph._pglsg.Scene object at 0x7f7d3a0243f0>"
       },
       "scene_9PgsU20rG22dF03g1znSSsFMh": {
        "drc": {},
        "position": [
         54,
         64,
         -79
        ],
        "scale": 1,
        "scene": "<openalea.plantgl.scenegraph._pglsg.Scene object at 0x7f7d39c0ff30>"
       },
       "scene_9iERpsWk0JC5zoIkibpH71u3c": {
        "drc": {},
        "position": [
         61,
         84,
         -51
        ],
        "scale": 1,
        "scene": "<openalea.plantgl.scenegraph._pglsg.Scene object at 0x7f7d39b711b0>"
       },
       "scene_9x6zzANRvpqMjbxBZjmcFo3xa": {
        "drc": {},
        "position": [
         34,
         8,
         74
        ],
        "scale": 1,
        "scene": "<openalea.plantgl.scenegraph._pglsg.Scene object at 0x7f7d39df68b0>"
       },
       "scene_A1LVSDYGq2frgsMkrTDOU1cnn": {
        "drc": {},
        "position": [
         -25,
         70,
         -47
        ],
        "scale": 1,
        "scene": "<openalea.plantgl.scenegraph._pglsg.Scene object at 0x7f7d39d804f0>"
       },
       "scene_AJEz3SRfolpoUw3nnNQ5Q2F4U": {
        "drc": {},
        "position": [
         95,
         1,
         -28
        ],
        "scale": 1,
        "scene": "<openalea.plantgl.scenegraph._pglsg.Scene object at 0x7f7d39be5c70>"
       },
       "scene_AJX5Lq2MecjvS5CLnqzp1d6SP": {
        "drc": {},
        "position": [
         105,
         -23,
         -42
        ],
        "scale": 1,
        "scene": "<openalea.plantgl.scenegraph._pglsg.Scene object at 0x7f7d39e333f0>"
       },
       "scene_AOdDXyWIe6U6qZAEq2J52r3cr": {
        "drc": {},
        "position": [
         -71,
         -66,
         -44
        ],
        "scale": 1,
        "scene": "<openalea.plantgl.scenegraph._pglsg.Scene object at 0x7f7d39c40a30>"
       },
       "scene_Am4C2olp4RLKM6nIksRNHyTMg": {
        "drc": {},
        "position": [
         -76,
         70,
         -94
        ],
        "scale": 1,
        "scene": "<openalea.plantgl.scenegraph._pglsg.Scene object at 0x7f7d39fb96f0>"
       },
       "scene_B4wCSDhnAp8qhY43wDqr0nX16": {
        "drc": {},
        "position": [
         33,
         110,
         -69
        ],
        "scale": 1,
        "scene": "<openalea.plantgl.scenegraph._pglsg.Scene object at 0x7f7d39fdfe30>"
       },
       "scene_BUT4ksv3nsZWgwjPS1glfl2QI": {
        "drc": {},
        "position": [
         -29,
         -104,
         -64
        ],
        "scale": 1,
        "scene": "<openalea.plantgl.scenegraph._pglsg.Scene object at 0x7f7d39e11cf0>"
       },
       "scene_BUfbPszl8AeIKtTUiJACCdBFa": {
        "drc": {},
        "position": [
         90,
         30,
         -68
        ],
        "scale": 1,
        "scene": "<openalea.plantgl.scenegraph._pglsg.Scene object at 0x7f7d39d60470>"
       },
       "scene_BdJ9rFjcQ9ssAVImGHdFIWaAv": {
        "drc": {},
        "position": [
         87,
         -18,
         34
        ],
        "scale": 1,
        "scene": "<openalea.plantgl.scenegraph._pglsg.Scene object at 0x7f7d39b81d70>"
       },
       "scene_CFVNlR8QUXPnystUxNlNj92Se": {
        "drc": {},
        "position": [
         13,
         -12,
         69
        ],
        "scale": 1,
        "scene": "<openalea.plantgl.scenegraph._pglsg.Scene object at 0x7f7d39e1c2f0>"
       },
       "scene_CWkbhHTG1sD2uqtSQsqPWd11c": {
        "drc": {},
        "position": [
         50,
         40,
         71
        ],
        "scale": 1,
        "scene": "<openalea.plantgl.scenegraph._pglsg.Scene object at 0x7f7d39c812f0>"
       },
       "scene_Cje2tizcBYQcsB2xlRjbVzXEL": {
        "drc": {},
        "position": [
         -123,
         71,
         -91
        ],
        "scale": 1,
        "scene": "<openalea.plantgl.scenegraph._pglsg.Scene object at 0x7f7d39bdcfb0>"
       },
       "scene_CmTFBly9tHo26mVXmfzco2bnD": {
        "drc": {},
        "position": [
         34,
         -33,
         82
        ],
        "scale": 1,
        "scene": "<openalea.plantgl.scenegraph._pglsg.Scene object at 0x7f7d39dad2b0>"
       },
       "scene_CsC3nHhbDWWBihQVW9zzncqnx": {
        "drc": {},
        "position": [
         100,
         75,
         -23
        ],
        "scale": 1,
        "scene": "<openalea.plantgl.scenegraph._pglsg.Scene object at 0x7f7d6c6c15f0>"
       },
       "scene_D2p1wV7ZFyCMHEKV2ysLVaSRb": {
        "drc": {},
        "position": [
         -4,
         71,
         -30
        ],
        "scale": 1,
        "scene": "<openalea.plantgl.scenegraph._pglsg.Scene object at 0x7f7d39c6b6f0>"
       },
       "scene_D8lFk6EWjwedHzVoOV1c1wrOw": {
        "drc": {},
        "position": [
         96,
         93,
         20
        ],
        "scale": 1,
        "scene": "<openalea.plantgl.scenegraph._pglsg.Scene object at 0x7f7d39bdcbf0>"
       },
       "scene_DSaEBBfzDqv4CcDf78pKD6gDC": {
        "drc": {},
        "position": [
         57,
         -86,
         35
        ],
        "scale": 1,
        "scene": "<openalea.plantgl.scenegraph._pglsg.Scene object at 0x7f7d39f38470>"
       },
       "scene_Eb2ktxLnf3gp14MAviUpmuCXx": {
        "drc": {},
        "position": [
         62,
         -36,
         26
        ],
        "scale": 1,
        "scene": "<openalea.plantgl.scenegraph._pglsg.Scene object at 0x7f7d39d4d9f0>"
       },
       "scene_FWuHFdsoBnv3GJnCig6VkOXWT": {
        "drc": {},
        "position": [
         -117,
         -84,
         -61
        ],
        "scale": 1,
        "scene": "<openalea.plantgl.scenegraph._pglsg.Scene object at 0x7f7d39fe86b0>"
       },
       "scene_FZjKaQf2i0qToEbqsv5eHI2lj": {
        "drc": {},
        "position": [
         71,
         -25,
         -76
        ],
        "scale": 1,
        "scene": "<openalea.plantgl.scenegraph._pglsg.Scene object at 0x7f7d39bdc630>"
       },
       "scene_GF5cM0k4sPtgqVh51ByjbG7tb": {
        "drc": {},
        "position": [
         -101,
         112,
         -95
        ],
        "scale": 1,
        "scene": "<openalea.plantgl.scenegraph._pglsg.Scene object at 0x7f7d39dbee30>"
       },
       "scene_GKQXZPL6Ox9CFti9Xf0WPFlSY": {
        "drc": {},
        "position": [
         -83,
         -16,
         -7
        ],
        "scale": 1,
        "scene": "<openalea.plantgl.scenegraph._pglsg.Scene object at 0x7f7d39d39ab0>"
       },
       "scene_HYUXdwLvygcerZj1guOGdiWHo": {
        "drc": {},
        "position": [
         -123,
         -14,
         -25
        ],
        "scale": 1,
        "scene": "<openalea.plantgl.scenegraph._pglsg.Scene object at 0x7f7d39dc9e30>"
       },
       "scene_Hm0QRcuDwHO0ADf5YX0B7uyCT": {
        "drc": {},
        "position": [
         -36,
         -60,
         20
        ],
        "scale": 1,
        "scene": "<openalea.plantgl.scenegraph._pglsg.Scene object at 0x7f7d6c6883b0>"
       },
       "scene_HpBeq63thADi9cW4VtYwxpifc": {
        "drc": {},
        "position": [
         -53,
         73,
         -79
        ],
        "scale": 1,
        "scene": "<openalea.plantgl.scenegraph._pglsg.Scene object at 0x7f7d3a03cc30>"
       },
       "scene_I0DRNhloHCKkuCgyYgAEMxqPT": {
        "drc": {},
        "position": [
         -80,
         -27,
         90
        ],
        "scale": 1,
        "scene": "<openalea.plantgl.scenegraph._pglsg.Scene object at 0x7f7d39f27eb0>"
       },
       "scene_IQLMp4Y8UXqoFth7Bx0pCEXpj": {
        "drc": {},
        "position": [
         111,
         82,
         -124
        ],
        "scale": 1,
        "scene": "<openalea.plantgl.scenegraph._pglsg.Scene object at 0x7f7d39c28d30>"
       },
       "scene_IdQbHyznNJLSU6JWzlHlRMy5o": {
        "drc": {},
        "position": [
         91,
         -20,
         73
        ],
        "scale": 1,
        "scene": "<openalea.plantgl.scenegraph._pglsg.Scene object at 0x7f7d39ca9ef0>"
       },
       "scene_IuibvW7mKqOLF9hZCxTpPc3TB": {
        "drc": {},
        "position": [
         -57,
         93,
         84
        ],
        "scale": 1,
        "scene": "<openalea.plantgl.scenegraph._pglsg.Scene object at 0x7f7d39c9e930>"
       },
       "scene_J9By3AR5LWIZxBidG4ou8alAd": {
        "drc": {},
        "position": [
         -3,
         102,
         63
        ],
        "scale": 1,
        "scene": "<openalea.plantgl.scenegraph._pglsg.Scene object at 0x7f7d39df6170>"
       },
       "scene_JTGZOkevgLkAeFPb2zBjWnE1n": {
        "drc": {},
        "position": [
         -18,
         70,
         -56
        ],
        "scale": 1,
        "scene": "<openalea.plantgl.scenegraph._pglsg.Scene object at 0x7f7d39ba8fb0>"
       },
       "scene_JXLtEkOG1sFNFfkPKsOackkDV": {
        "drc": {},
        "position": [
         68,
         -1,
         -115
        ],
        "scale": 1,
        "scene": "<openalea.plantgl.scenegraph._pglsg.Scene object at 0x7f7d39d8b470>"
       },
       "scene_KIZeKQELrh3TVS0XYDaGkwADB": {
        "drc": {},
        "position": [
         118,
         90,
         118
        ],
        "scale": 1,
        "scene": "<openalea.plantgl.scenegraph._pglsg.Scene object at 0x7f7d39d79e30>"
       },
       "scene_KUFZf9UyeacQJ3s8a5pQVX2Yx": {
        "drc": {},
        "position": [
         -74,
         -63,
         68
        ],
        "scale": 1,
        "scene": "<openalea.plantgl.scenegraph._pglsg.Scene object at 0x7f7d39e84330>"
       },
       "scene_KmhnAcwS0ql3Wd09a86rrR5gd": {
        "drc": {},
        "position": [
         97,
         88,
         3
        ],
        "scale": 1,
        "scene": "<openalea.plantgl.scenegraph._pglsg.Scene object at 0x7f7d3a8e45f0>"
       },
       "scene_LF1LxcbGiNCQNzncHaUJWJxRR": {
        "drc": {},
        "position": [
         -47,
         112,
         58
        ],
        "scale": 1,
        "scene": "<openalea.plantgl.scenegraph._pglsg.Scene object at 0x7f7d39c37d70>"
       },
       "scene_LFNH89wtj3ewRqxxltyOC5pDB": {
        "drc": {},
        "position": [
         -76,
         -103,
         117
        ],
        "scale": 1,
        "scene": "<openalea.plantgl.scenegraph._pglsg.Scene object at 0x7f7d39e3c630>"
       },
       "scene_LaApY96ZDkBYFUJYZm9rSE6pz": {
        "drc": {},
        "position": [
         -102,
         124,
         68
        ],
        "scale": 1,
        "scene": "<openalea.plantgl.scenegraph._pglsg.Scene object at 0x7f7d39f5b1f0>"
       },
       "scene_LalSrBuRBSONJudA2QQSyeMbZ": {
        "drc": {},
        "position": [
         14,
         -82,
         -65
        ],
        "scale": 1,
        "scene": "<openalea.plantgl.scenegraph._pglsg.Scene object at 0x7f7d39bb9930>"
       },
       "scene_Ld9eG2J73WZDmAIEs2zO4EO0a": {
        "drc": {},
        "position": [
         39,
         -106,
         -11
        ],
        "scale": 1,
        "scene": "<openalea.plantgl.scenegraph._pglsg.Scene object at 0x7f7d3a468470>"
       },
       "scene_LtoALFRhkhx6lnfu8kc5SzwzK": {
        "drc": {},
        "position": [
         -92,
         73,
         -25
        ],
        "scale": 1,
        "scene": "<openalea.plantgl.scenegraph._pglsg.Scene object at 0x7f7d39dfda30>"
       },
       "scene_MPzmNMq9HAnlcuyT7xznDs1fx": {
        "drc": {},
        "position": [
         72,
         90,
         60
        ],
        "scale": 1,
        "scene": "<openalea.plantgl.scenegraph._pglsg.Scene object at 0x7f7d39c95770>"
       },
       "scene_MZuV6WIqSarSieHcQNOLh7u4r": {
        "drc": {},
        "position": [
         -120,
         27,
         -28
        ],
        "scale": 1,
        "scene": "<openalea.plantgl.scenegraph._pglsg.Scene object at 0x7f7d39e4f530>"
       },
       "scene_McDJVX17WAnAfxnKshu3xo5ys": {
        "drc": {},
        "position": [
         -51,
         7,
         17
        ],
        "scale": 1,
        "scene": "<openalea.plantgl.scenegraph._pglsg.Scene object at 0x7f7d39ef8a70>"
       },
       "scene_MyYsKHpz09foUCyrKivQwpCuP": {
        "drc": {},
        "position": [
         -70,
         -122,
         -72
        ],
        "scale": 1,
        "scene": "<openalea.plantgl.scenegraph._pglsg.Scene object at 0x7f7d39d60b30>"
       },
       "scene_NLUckRdkuzbL5Un7wB9swfTBn": {
        "drc": {},
        "position": [
         -81,
         110,
         -87
        ],
        "scale": 1,
        "scene": "<openalea.plantgl.scenegraph._pglsg.Scene object at 0x7f7d39bfdd70>"
       },
       "scene_NPdGZNN09akiC5rcKYepFezM5": {
        "drc": {},
        "position": [
         89,
         71,
         76
        ],
        "scale": 1,
        "scene": "<openalea.plantgl.scenegraph._pglsg.Scene object at 0x7f7d39ea3df0>"
       },
       "scene_O0juXMCcyKRK8sOVpCQsQlfQb": {
        "drc": {},
        "position": [
         -95,
         -91,
         98
        ],
        "scale": 1,
        "scene": "<openalea.plantgl.scenegraph._pglsg.Scene object at 0x7f7d39f933b0>"
       },
       "scene_OEkHfhsShGORCxLf5VkKeq0ws": {
        "drc": {},
        "position": [
         23,
         102,
         -99
        ],
        "scale": 1,
        "scene": "<openalea.plantgl.scenegraph._pglsg.Scene object at 0x7f7d39ba0eb0>"
       },
       "scene_OQoB4GKjLMOb1jrk967fXlCPF": {
        "drc": {},
        "position": [
         -40,
         -59,
         76
        ],
        "scale": 1,
        "scene": "<openalea.plantgl.scenegraph._pglsg.Scene object at 0x7f7d39ba84b0>"
       },
       "scene_PCCfKeaWkWEJXG8DxuWzcy6fZ": {
        "drc": {},
        "position": [
         -113,
         -73,
         79
        ],
        "scale": 1,
        "scene": "<openalea.plantgl.scenegraph._pglsg.Scene object at 0x7f7d39ea8770>"
       },
       "scene_PFNgTxeeh1bUBvRFoEHOzgPQH": {
        "drc": {},
        "position": [
         22,
         73,
         70
        ],
        "scale": 1,
        "scene": "<openalea.plantgl.scenegraph._pglsg.Scene object at 0x7f7d39dadd30>"
       },
       "scene_PM4Kf3ktaiwNB7OBgPaxB2gUJ": {
        "drc": {},
        "position": [
         -2,
         -73,
         -18
        ],
        "scale": 1,
        "scene": "<openalea.plantgl.scenegraph._pglsg.Scene object at 0x7f7d39bb2d70>"
       },
       "scene_PpJmL6qyGGXOsg27BMlBuu5Lf": {
        "drc": {},
        "position": [
         -106,
         -2,
         87
        ],
        "scale": 1,
        "scene": "<openalea.plantgl.scenegraph._pglsg.Scene object at 0x7f7d39dbe3f0>"
       },
       "scene_PqUxSgfHpIYEPSIF8bZBsTcTf": {
        "drc": {},
        "position": [
         120,
         124,
         16
        ],
        "scale": 1,
        "scene": "<openalea.plantgl.scenegraph._pglsg.Scene object at 0x7f7d39e09330>"
       },
       "scene_Q5O3md0aIiiy0M9iUjgyM6VzY": {
        "drc": {},
        "position": [
         50,
         -85,
         -76
        ],
        "scale": 1,
        "scene": "<openalea.plantgl.scenegraph._pglsg.Scene object at 0x7f7d39c6b830>"
       },
       "scene_QGiNn4RKTm3g9Z4HjFUYJeFtV": {
        "drc": {},
        "position": [
         -78,
         98,
         97
        ],
        "scale": 1,
        "scene": "<openalea.plantgl.scenegraph._pglsg.Scene object at 0x7f7d39eef370>"
       },
       "scene_QIzkx9vBwFPtDBRz7pltJGNsz": {
        "drc": {},
        "position": [
         -36,
         109,
         106
        ],
        "scale": 1,
        "scene": "<openalea.plantgl.scenegraph._pglsg.Scene object at 0x7f7d39c40fb0>"
       },
       "scene_QaKz3o7OwdnislY3FR2hUaNlA": {
        "drc": {},
        "position": [
         53,
         112,
         101
        ],
        "scale": 1,
        "scene": "<openalea.plantgl.scenegraph._pglsg.Scene object at 0x7f7d39fc32b0>"
       },
       "scene_QdF8YRjGjsC7brIJMUdxTPQ70": {
        "drc": {},
        "position": [
         -25,
         -125,
         55
        ],
        "scale": 1,
        "scene": "<openalea.plantgl.scenegraph._pglsg.Scene object at 0x7f7d39e46df0>"
       },
       "scene_QlaiVl6FpbbgX1Kk0Gv9VdvGz": {
        "drc": {},
        "position": [
         45,
         38,
         80
        ],
        "scale": 1,
        "scene": "<openalea.plantgl.scenegraph._pglsg.Scene object at 0x7f7d39ef8570>"
       },
       "scene_Qn1z5XAOv3zJR4PzcKqqYrP69": {
        "drc": {},
        "position": [
         113,
         123,
         125
        ],
        "scale": 1,
        "scene": "<openalea.plantgl.scenegraph._pglsg.Scene object at 0x7f7d39bb9370>"
       },
       "scene_Qo9t2poBNhKoGHsWy09JyU3j8": {
        "drc": {},
        "position": [
         -20,
         104,
         108
        ],
        "scale": 1,
        "scene": "<openalea.plantgl.scenegraph._pglsg.Scene object at 0x7f7d39fdf470>"
       },
       "scene_QuahgxMKl91XgLkN6WsAlQrfJ": {
        "drc": {},
        "position": [
         95,
         100,
         56
        ],
        "scale": 1,
        "scene": "<openalea.plantgl.scenegraph._pglsg.Scene object at 0x7f7d39d8b4b0>"
       },
       "scene_QvYXH4EearPs1WVH3u0Esf6vR": {
        "drc": {},
        "position": [
         -16,
         -64,
         81
        ],
        "scale": 1,
        "scene": "<openalea.plantgl.scenegraph._pglsg.Scene object at 0x7f7d39dec870>"
       },
       "scene_QwsGwO1Z8xEvVKYkFCSsjlR2g": {
        "drc": {},
        "position": [
         44,
         49,
         -94
        ],
        "scale": 1,
        "scene": "<openalea.plantgl.scenegraph._pglsg.Scene object at 0x7f7d39decdf0>"
       },
       "scene_RBivKqwjVw8SrCngvIEaAfbMp": {
        "drc": {},
        "position": [
         80,
         -96,
         -81
        ],
        "scale": 1,
        "scene": "<openalea.plantgl.scenegraph._pglsg.Scene object at 0x7f7d39d8b3b0>"
       },
       "scene_Ri1h3x3WazBtaezg4TZZcewha": {
        "drc": {},
        "position": [
         70,
         37,
         -110
        ],
        "scale": 1,
        "scene": "<openalea.plantgl.scenegraph._pglsg.Scene object at 0x7f7d39c22d70>"
       },
       "scene_RvtlGYqVAirDInA3gJcxmK44h": {
        "drc": {},
        "position": [
         -97,
         115,
         56
        ],
        "scale": 1,
        "scene": "<openalea.plantgl.scenegraph._pglsg.Scene object at 0x7f7d39c52c70>"
       },
       "scene_SX0I6Y4QFvF735iv00OEZGWFf": {
        "drc": {},
        "position": [
         105,
         -118,
         -24
        ],
        "scale": 1,
        "scene": "<openalea.plantgl.scenegraph._pglsg.Scene object at 0x7f7d39e461f0>"
       },
       "scene_SpXUzlJFxAChviGlKMS3RKGaH": {
        "drc": {},
        "position": [
         74,
         -38,
         -103
        ],
        "scale": 1,
        "scene": "<openalea.plantgl.scenegraph._pglsg.Scene object at 0x7f7d39beba70>"
       },
       "scene_SqXwz6UeNNITD7UZHVubJD8mH": {
        "drc": {},
        "position": [
         -23,
         -7,
         -101
        ],
        "scale": 1,
        "scene": "<openalea.plantgl.scenegraph._pglsg.Scene object at 0x7f7d39d70f30>"
       },
       "scene_SsGtRQ2trTKKqPJTmADSG3BNC": {
        "drc": {},
        "position": [
         -49,
         -42,
         -71
        ],
        "scale": 1,
        "scene": "<openalea.plantgl.scenegraph._pglsg.Scene object at 0x7f7d3a062130>"
       },
       "scene_SxzUAwoU3ZgDOTHCikFMAVsCx": {
        "drc": {},
        "position": [
         -115,
         61,
         -32
        ],
        "scale": 1,
        "scene": "<openalea.plantgl.scenegraph._pglsg.Scene object at 0x7f7d39de6930>"
       },
       "scene_SzRMNlsurFowDRtl3HlbZC0lH": {
        "drc": {},
        "position": [
         -120,
         32,
         -42
        ],
        "scale": 1,
        "scene": "<openalea.plantgl.scenegraph._pglsg.Scene object at 0x7f7d39feb7f0>"
       },
       "scene_TJtN7IADogISe83aqH5iar73C": {
        "drc": {},
        "position": [
         -82,
         -33,
         86
        ],
        "scale": 1,
        "scene": "<openalea.plantgl.scenegraph._pglsg.Scene object at 0x7f7d39c816f0>"
       },
       "scene_TeXJK6KQDRbKWTikfQwfapZjO": {
        "drc": {},
        "position": [
         -39,
         -20,
         47
        ],
        "scale": 1,
        "scene": "<openalea.plantgl.scenegraph._pglsg.Scene object at 0x7f7d39b81570>"
       },
       "scene_ThkS6nlgZ1oeUK9Hifcn7Kclf": {
        "drc": {},
        "position": [
         -76,
         -93,
         -54
        ],
        "scale": 1,
        "scene": "<openalea.plantgl.scenegraph._pglsg.Scene object at 0x7f7d39ba08f0>"
       },
       "scene_TtBK419MdFZtl7pCboUuqAczE": {
        "drc": {},
        "position": [
         48,
         90,
         -88
        ],
        "scale": 1,
        "scene": "<openalea.plantgl.scenegraph._pglsg.Scene object at 0x7f7d39be5770>"
       },
       "scene_Tv78W58tYLheRzQ1TGDGvArth": {
        "drc": {},
        "position": [
         -28,
         112,
         53
        ],
        "scale": 1,
        "scene": "<openalea.plantgl.scenegraph._pglsg.Scene object at 0x7f7d3a4644b0>"
       },
       "scene_U1CMfKxZfSFBc3oHAPe1YDpAU": {
        "drc": {},
        "position": [
         17,
         -72,
         26
        ],
        "scale": 1,
        "scene": "<openalea.plantgl.scenegraph._pglsg.Scene object at 0x7f7d39ecf6f0>"
       },
       "scene_ULqQ9TQr8PZqwFTYlEgxg0vSH": {
        "drc": {},
        "position": [
         -58,
         -70,
         -117
        ],
        "scale": 1,
        "scene": "<openalea.plantgl.scenegraph._pglsg.Scene object at 0x7f7d39bcbd70>"
       },
       "scene_UNlyNzeo70n3cLap05O43I0hJ": {
        "drc": {},
        "position": [
         -90,
         121,
         -31
        ],
        "scale": 1,
        "scene": "<openalea.plantgl.scenegraph._pglsg.Scene object at 0x7f7d39e8e3f0>"
       },
       "scene_UP0PRstTyy2vi4lTdLEOIBm0k": {
        "drc": {},
        "position": [
         72,
         2,
         10
        ],
        "scale": 1,
        "scene": "<openalea.plantgl.scenegraph._pglsg.Scene object at 0x7f7d3a024cf0>"
       },
       "scene_UPF8HbA45ydGP9XLVUuuEuE3W": {
        "drc": {},
        "position": [
         61,
         74,
         98
        ],
        "scale": 1,
        "scene": "<openalea.plantgl.scenegraph._pglsg.Scene object at 0x7f7d39c22bb0>"
       },
       "scene_UaGCNXS3qE5RQJTQowmLge29A": {
        "drc": {},
        "position": [
         -97,
         -48,
         76
        ],
        "scale": 1,
        "scene": "<openalea.plantgl.scenegraph._pglsg.Scene object at 0x7f7d39c13c70>"
       },
       "scene_UoNFR1lX0o1jWrgENamNqkFdj": {
        "drc": {},
        "position": [
         87,
         85,
         70
        ],
        "scale": 1,
        "scene": "<openalea.plantgl.scenegraph._pglsg.Scene object at 0x7f7d39df66f0>"
       },
       "scene_VHn2QSjFVKhz1FtYB9RcNnvLG": {
        "drc": {},
        "position": [
         -38,
         -61,
         117
        ],
        "scale": 1,
        "scene": "<openalea.plantgl.scenegraph._pglsg.Scene object at 0x7f7d39c8a530>"
       },
       "scene_VJOvh2G4tsK48dH0OlGtI8DTz": {
        "drc": {},
        "position": [
         45,
         -75,
         111
        ],
        "scale": 1,
        "scene": "<openalea.plantgl.scenegraph._pglsg.Scene object at 0x7f7d39f01630>"
       },
       "scene_VTFRFAE9JKvlJgYNJ5duQESZT": {
        "drc": {},
        "position": [
         44,
         32,
         104
        ],
        "scale": 1,
        "scene": "<openalea.plantgl.scenegraph._pglsg.Scene object at 0x7f7d39b71df0>"
       },
       "scene_VXKHo3aLc18l9OPzcGsIFdbJg": {
        "drc": {},
        "position": [
         82,
         80,
         -32
        ],
        "scale": 1,
        "scene": "<openalea.plantgl.scenegraph._pglsg.Scene object at 0x7f7d39d79a70>"
       },
       "scene_W720CnVyahw4uH9dSbwk9Xk39": {
        "drc": {},
        "position": [
         -64,
         -44,
         9
        ],
        "scale": 1,
        "scene": "<openalea.plantgl.scenegraph._pglsg.Scene object at 0x7f7d39e970b0>"
       },
       "scene_WOKbsOjLTon5BiHnT1rrBFe3V": {
        "drc": {},
        "position": [
         -9,
         8,
         86
        ],
        "scale": 1,
        "scene": "<openalea.plantgl.scenegraph._pglsg.Scene object at 0x7f7d39bf5fb0>"
       },
       "scene_WUOPI3tktxnauqtlenfAgh4CA": {
        "drc": {},
        "position": [
         108,
         -46,
         -100
        ],
        "scale": 1,
        "scene": "<openalea.plantgl.scenegraph._pglsg.Scene object at 0x7f7d39f0cd70>"
       },
       "scene_WaQuBcUxaxgcrlKwJdOg22DHr": {
        "drc": {},
        "position": [
         71,
         72,
         45
        ],
        "scale": 1,
        "scene": "<openalea.plantgl.scenegraph._pglsg.Scene object at 0x7f7d39c74530>"
       },
       "scene_Wcgjeb8AZ1VIHkGBYWVHAgRjB": {
        "drc": {},
        "position": [
         -13,
         71,
         125
        ],
        "scale": 1,
        "scene": "<openalea.plantgl.scenegraph._pglsg.Scene object at 0x7f7d39c13530>"
       },
       "scene_WllazMvHgIiS48wCbMeuDTf4I": {
        "drc": {},
        "position": [
         60,
         10,
         116
        ],
        "scale": 1,
        "scene": "<openalea.plantgl.scenegraph._pglsg.Scene object at 0x7f7d39e72070>"
       },
       "scene_XJtt4merqUe5hf32pQxKC9z3f": {
        "drc": {},
        "position": [
         -75,
         119,
         28
        ],
        "scale": 1,
        "scene": "<openalea.plantgl.scenegraph._pglsg.Scene object at 0x7f7d39c9e4b0>"
       },
       "scene_XY9EWQYKf8inhrc89pOTbYYhJ": {
        "drc": {},
        "position": [
         -115,
         73,
         84
        ],
        "scale": 1,
        "scene": "<openalea.plantgl.scenegraph._pglsg.Scene object at 0x7f7d39e111b0>"
       },
       "scene_YMqrKeddmOC019w9aqGwXmtH7": {
        "drc": {},
        "position": [
         118,
         95,
         -78
        ],
        "scale": 1,
        "scene": "<openalea.plantgl.scenegraph._pglsg.Scene object at 0x7f7d39ed7c70>"
       },
       "scene_YUtZg9vtoNKYQiu8ELzvt0CXK": {
        "drc": {},
        "position": [
         -58,
         105,
         -115
        ],
        "scale": 1,
        "scene": "<openalea.plantgl.scenegraph._pglsg.Scene object at 0x7f7d39dbe170>"
       },
       "scene_YdY12KYi58T7YYBFW3QkwIY40": {
        "drc": {},
        "position": [
         93,
         -59,
         -33
        ],
        "scale": 1,
        "scene": "<openalea.plantgl.scenegraph._pglsg.Scene object at 0x7f7d39c95bf0>"
       },
       "scene_YlhQqMciFbz7lniefXyiN4KOg": {
        "drc": {},
        "position": [
         40,
         36,
         -18
        ],
        "scale": 1,
        "scene": "<openalea.plantgl.scenegraph._pglsg.Scene object at 0x7f7d39d799f0>"
       },
       "scene_Yznebu4Weom8KH6P7NmXSzzMV": {
        "drc": {},
        "position": [
         -120,
         -27,
         -96
        ],
        "scale": 1,
        "scene": "<openalea.plantgl.scenegraph._pglsg.Scene object at 0x7f7d39fd6530>"
       },
       "scene_ZEdD4jFlHcSTBmrIVzyPnfkF0": {
        "drc": {},
        "position": [
         -106,
         57,
         39
        ],
        "scale": 1,
        "scene": "<openalea.plantgl.scenegraph._pglsg.Scene object at 0x7f7d39d4d830>"
       },
       "scene_ZJmCcOP3VlNLtG8Y5kXHhvCTj": {
        "drc": {},
        "position": [
         91,
         -10,
         -52
        ],
        "scale": 1,
        "scene": "<openalea.plantgl.scenegraph._pglsg.Scene object at 0x7f7d39ddccb0>"
       },
       "scene_ZK6O0VKYwQ1PpWB9Ow5Czoq8r": {
        "drc": {},
        "position": [
         109,
         104,
         83
        ],
        "scale": 1,
        "scene": "<openalea.plantgl.scenegraph._pglsg.Scene object at 0x7f7d39b31630>"
       },
       "scene_ZtdlO52ck0orwoFfIMpzQyWFR": {
        "drc": {},
        "position": [
         39,
         -18,
         -71
        ],
        "scale": 1,
        "scene": "<openalea.plantgl.scenegraph._pglsg.Scene object at 0x7f7d39e4fef0>"
       },
       "scene_ZzjPjew9oW9ECiNNrWUxHFMdi": {
        "drc": {},
        "position": [
         52,
         120,
         -12
        ],
        "scale": 1,
        "scene": "<openalea.plantgl.scenegraph._pglsg.Scene object at 0x7f7d39eaf870>"
       },
       "scene_aHdFraKHABDrH6Dcm5vLDfRCd": {
        "drc": {},
        "position": [
         -35,
         -78,
         -112
        ],
        "scale": 1,
        "scene": "<openalea.plantgl.scenegraph._pglsg.Scene object at 0x7f7d3a4669f0>"
       },
       "scene_aHuB8anTKv0Fjxc7fh9YPem4g": {
        "drc": {},
        "position": [
         -103,
         114,
         72
        ],
        "scale": 1,
        "scene": "<openalea.plantgl.scenegraph._pglsg.Scene object at 0x7f7d39fae4f0>"
       },
       "scene_b6U23DgmogwDkIFo2GxLS5ed2": {
        "drc": {},
        "position": [
         -92,
         -48,
         -74
        ],
        "scale": 1,
        "scene": "<openalea.plantgl.scenegraph._pglsg.Scene object at 0x7f7d39bb9ef0>"
       },
       "scene_bY6FGjEhRg6DEsbZB80ID2i7z": {
        "drc": {},
        "position": [
         18,
         -11,
         -48
        ],
        "scale": 1,
        "scene": "<openalea.plantgl.scenegraph._pglsg.Scene object at 0x7f7d39c0f970>"
       },
       "scene_bty1ElsGLBRQcKC4h5679o6Fn": {
        "drc": {},
        "position": [
         80,
         1,
         -61
        ],
        "scale": 1,
        "scene": "<openalea.plantgl.scenegraph._pglsg.Scene object at 0x7f7d39dc95b0>"
       },
       "scene_cHI6TfAiUyL6acvYVTFcHx8X0": {
        "drc": {},
        "position": [
         -101,
         -105,
         -56
        ],
        "scale": 1,
        "scene": "<openalea.plantgl.scenegraph._pglsg.Scene object at 0x7f7d39ed7830>"
       },
       "scene_cUxSOdJoI69lGaGATiE2Iqtgd": {
        "drc": {},
        "position": [
         -115,
         79,
         -119
        ],
        "scale": 1,
        "scene": "<openalea.plantgl.scenegraph._pglsg.Scene object at 0x7f7d39e46e30>"
       },
       "scene_ccWBT2yNZYQOyTIzvIfEn2zXO": {
        "drc": {},
        "position": [
         60,
         -20,
         -61
        ],
        "scale": 1,
        "scene": "<openalea.plantgl.scenegraph._pglsg.Scene object at 0x7f7d39b31bf0>"
       },
       "scene_clKe7X8RfejlmalpflN0Y1FKA": {
        "drc": {},
        "position": [
         -6,
         -28,
         104
        ],
        "scale": 1,
        "scene": "<openalea.plantgl.scenegraph._pglsg.Scene object at 0x7f7d39e33c30>"
       },
       "scene_cskyODYEcjG9PpHt9y0tH0Q0d": {
        "drc": {},
        "position": [
         -123,
         49,
         -13
        ],
        "scale": 1,
        "scene": "<openalea.plantgl.scenegraph._pglsg.Scene object at 0x7f7d39f142b0>"
       },
       "scene_cz68GGghu5BKpS3eys69V5UdI": {
        "drc": {},
        "position": [
         -53,
         -93,
         44
        ],
        "scale": 1,
        "scene": "<openalea.plantgl.scenegraph._pglsg.Scene object at 0x7f7d39dec730>"
       },
       "scene_d1Gr0wE5WF0BjFNDBQjr4wvRR": {
        "drc": {},
        "position": [
         118,
         17,
         66
        ],
        "scale": 1,
        "scene": "<openalea.plantgl.scenegraph._pglsg.Scene object at 0x7f7d39d42670>"
       },
       "scene_dCDpMDf5194jGbWctynKSq2su": {
        "drc": {},
        "position": [
         -28,
         -97,
         35
        ],
        "scale": 1,
        "scene": "<openalea.plantgl.scenegraph._pglsg.Scene object at 0x7f7d39c13af0>"
       },
       "scene_dWa8GK6F5An8gqYNaGFXXaiq6": {
        "drc": {},
        "position": [
         -64,
         69,
         -102
        ],
        "scale": 1,
        "scene": "<openalea.plantgl.scenegraph._pglsg.Scene object at 0x7f7d39ddc0f0>"
       },
       "scene_dxlQaZnGWmxhJ2N7bm6rbdVbB": {
        "drc": {},
        "position": [
         -105,
         -28,
         -119
        ],
        "scale": 1,
        "scene": "<openalea.plantgl.scenegraph._pglsg.Scene object at 0x7f7d39d792f0>"
       },
       "scene_dzgvkil4uZN6t16NJn9mpTGE4": {
        "drc": {},
        "position": [
         -32,
         -31,
         61
        ],
        "scale": 1,
        "scene": "<openalea.plantgl.scenegraph._pglsg.Scene object at 0x7f7d39fff670>"
       },
       "scene_e6HgusSNlZA9EbcEOWq9RLWlj": {
        "drc": {},
        "position": [
         48,
         48,
         30
        ],
        "scale": 1,
        "scene": "<openalea.plantgl.scenegraph._pglsg.Scene object at 0x7f7d39fa33f0>"
       },
       "scene_e7idCuDVs6FoYpuK6rOgNcrXt": {
        "drc": {},
        "position": [
         60,
         -35,
         -55
        ],
        "scale": 1,
        "scene": "<openalea.plantgl.scenegraph._pglsg.Scene object at 0x7f7d39e57270>"
       },
       "scene_etJNT66pbHRXDS2Ufj1IzKdnn": {
        "drc": {},
        "position": [
         101,
         65,
         108
        ],
        "scale": 1,
        "scene": "<openalea.plantgl.scenegraph._pglsg.Scene object at 0x7f7d39d70830>"
       },
       "scene_etoKavUWYlrTV8T1GMRCowoaA": {
        "drc": {},
        "position": [
         -26,
         110,
         -74
        ],
        "scale": 1,
        "scene": "<openalea.plantgl.scenegraph._pglsg.Scene object at 0x7f7d39dfde30>"
       },
       "scene_exE7v2Z0PeANUUsxQwAGuPEH6": {
        "drc": {},
        "position": [
         115,
         -104,
         90
        ],
        "scale": 1,
        "scene": "<openalea.plantgl.scenegraph._pglsg.Scene object at 0x7f7d39f65270>"
       },
       "scene_fBS1xjTon4vBCR17xj9RM4iqs": {
        "drc": {},
        "position": [
         -114,
         89,
         21
        ],
        "scale": 1,
        "scene": "<openalea.plantgl.scenegraph._pglsg.Scene object at 0x7f7d39f0c7b0>"
       },
       "scene_fPeTAha3LYOfcYGFcGxVPRxP2": {
        "drc": {},
        "position": [
         -19,
         40,
         -83
        ],
        "scale": 1,
        "scene": "<openalea.plantgl.scenegraph._pglsg.Scene object at 0x7f7d39f270f0>"
       },
       "scene_g1DqRCDc37C9iHbpiKmcPu8hW": {
        "drc": {},
        "position": [
         -81,
         125,
         -27
        ],
        "scale": 1,
        "scene": "<openalea.plantgl.scenegraph._pglsg.Scene object at 0x7f7d39c22670>"
       },
       "scene_ghIoK4kUg1s3b89H1yGzxauFZ": {
        "drc": {},
        "position": [
         -120,
         121,
         -73
        ],
        "scale": 1,
        "scene": "<openalea.plantgl.scenegraph._pglsg.Scene object at 0x7f7d39e63f70>"
       },
       "scene_hD0ox7vKWhzUu0djOZUeEtEOZ": {
        "drc": {},
        "position": [
         24,
         107,
         -104
        ],
        "scale": 1,
        "scene": "<openalea.plantgl.scenegraph._pglsg.Scene object at 0x7f7d39c749b0>"
       },
       "scene_hFMXU7oA8iLoYYZs6EzcE1dgP": {
        "drc": {},
        "position": [
         45,
         -75,
         -31
        ],
        "scale": 1,
        "scene": "<openalea.plantgl.scenegraph._pglsg.Scene object at 0x7f7d39ea32b0>"
       },
       "scene_hM0PJkplLpKlfuS6LppchtBdP": {
        "drc": {},
        "position": [
         44,
         -36,
         43
        ],
        "scale": 1,
        "scene": "<openalea.plantgl.scenegraph._pglsg.Scene object at 0x7f7d39ed7670>"
       },
       "scene_hQ2GXk3gHuK8wYhuYx79vet0V": {
        "drc": {},
        "position": [
         -17,
         54,
         -123
        ],
        "scale": 1,
        "scene": "<openalea.plantgl.scenegraph._pglsg.Scene object at 0x7f7d39bcb570>"
       },
       "scene_hxYwyhIFlXkYJgRf8Enms6tJu": {
        "drc": {},
        "position": [
         -80,
         106,
         26
        ],
        "scale": 1,
        "scene": "<openalea.plantgl.scenegraph._pglsg.Scene object at 0x7f7d39c526b0>"
       },
       "scene_i0HnAI4dn39MHv6tMitRcx80j": {
        "drc": {},
        "position": [
         74,
         46,
         9
        ],
        "scale": 1,
        "scene": "<openalea.plantgl.scenegraph._pglsg.Scene object at 0x7f7d39f8b2b0>"
       },
       "scene_iErvP5Dj30Xvz30IlWYvTpQE1": {
        "drc": {},
        "position": [
         -122,
         -15,
         -48
        ],
        "scale": 1,
        "scene": "<openalea.plantgl.scenegraph._pglsg.Scene object at 0x7f7d39ea3930>"
       },
       "scene_iXdSleDLCDaCf5iLvq4tuEndo": {
        "drc": {},
        "position": [
         -120,
         -76,
         89
        ],
        "scale": 1,
        "scene": "<openalea.plantgl.scenegraph._pglsg.Scene object at 0x7f7d39c5ad30>"
       },
       "scene_iporRJERlAgfmWcd1vDiv3NmO": {
        "drc": {},
        "position": [
         56,
         110,
         -120
        ],
        "scale": 1,
        "scene": "<openalea.plantgl.scenegraph._pglsg.Scene object at 0x7f7d39d548f0>"
       },
       "scene_iug7DFGjEV4VrRG3O65noQxrH": {
        "drc": {},
        "position": [
         24,
         80,
         -7
        ],
        "scale": 1,
        "scene": "<openalea.plantgl.scenegraph._pglsg.Scene object at 0x7f7d39d80ab0>"
       },
       "scene_iv4zXvu9hiiEPJzcXBCyz2Got": {
        "drc": {},
        "position": [
         0,
         -102,
         -19
        ],
        "scale": 1,
        "scene": "<openalea.plantgl.scenegraph._pglsg.Scene object at 0x7f7d39dcfb30>"
       },
       "scene_jQyVuPpvXsVusR3rqI7zFZtey": {
        "drc": {},
        "position": [
         98,
         100,
         -111
        ],
        "scale": 1,
        "scene": "<openalea.plantgl.scenegraph._pglsg.Scene object at 0x7f7d39ba8a70>"
       },
       "scene_jU7KkaqFVlRIVyu8qma7lvjAU": {
        "drc": {},
        "position": [
         82,
         -72,
         72
        ],
        "scale": 1,
        "scene": "<openalea.plantgl.scenegraph._pglsg.Scene object at 0x7f7d39b8a6f0>"
       },
       "scene_juL5o1XEHI6RnEKAlBS9IP1nD": {
        "drc": {},
        "position": [
         82,
         -39,
         121
        ],
        "scale": 1,
        "scene": "<openalea.plantgl.scenegraph._pglsg.Scene object at 0x7f7d39eea570>"
       },
       "scene_kBF2smTU2I5ZSyPTQ5qXBqgAO": {
        "drc": {},
        "position": [
         -4,
         92,
         82
        ],
        "scale": 1,
        "scene": "<openalea.plantgl.scenegraph._pglsg.Scene object at 0x7f7d39c8a9b0>"
       },
       "scene_ka2xCW2A7tPceT9JODK8bFl0O": {
        "drc": {},
        "position": [
         50,
         117,
         72
        ],
        "scale": 1,
        "scene": "<openalea.plantgl.scenegraph._pglsg.Scene object at 0x7f7d39de6cf0>"
       },
       "scene_lE6d77oJBhfJWrIPWaFKW4eR2": {
        "drc": {},
        "position": [
         -57,
         68,
         -123
        ],
        "scale": 1,
        "scene": "<openalea.plantgl.scenegraph._pglsg.Scene object at 0x7f7d39b71830>"
       },
       "scene_lmBpDjsjtqA7zrROMcVxnlFdA": {
        "drc": {},
        "position": [
         -23,
         -98,
         121
        ],
        "scale": 1,
        "scene": "<openalea.plantgl.scenegraph._pglsg.Scene object at 0x7f7d39e637b0>"
       },
       "scene_n4rkKFyvL5FcWpdXn1vqymNaU": {
        "drc": {},
        "position": [
         48,
         -41,
         0
        ],
        "scale": 1,
        "scene": "<openalea.plantgl.scenegraph._pglsg.Scene object at 0x7f7d39b81b30>"
       },
       "scene_nHOS0lEobyUSwBbpUDSoFgAZF": {
        "drc": {},
        "position": [
         -82,
         -57,
         50
        ],
        "scale": 1,
        "scene": "<openalea.plantgl.scenegraph._pglsg.Scene object at 0x7f7d39e1c7f0>"
       },
       "scene_nKfVCTus9KB0D2LkeVWytaLU7": {
        "drc": {},
        "position": [
         110,
         115,
         -75
        ],
        "scale": 1,
        "scene": "<openalea.plantgl.scenegraph._pglsg.Scene object at 0x7f7d39f81af0>"
       },
       "scene_nP9h1iq73jFTOWDvGzjuofGt7": {
        "drc": {},
        "position": [
         71,
         -101,
         81
        ],
        "scale": 1,
        "scene": "<openalea.plantgl.scenegraph._pglsg.Scene object at 0x7f7d3a045970>"
       },
       "scene_nVVDwPpW9oG5T6UjG9Z8qLWB5": {
        "drc": {},
        "position": [
         58,
         -98,
         90
        ],
        "scale": 1,
        "scene": "<openalea.plantgl.scenegraph._pglsg.Scene object at 0x7f7d39c6bb70>"
       },
       "scene_naQBoC4DGtTtxVwUSZsqgocEW": {
        "drc": {},
        "position": [
         -68,
         -95,
         -113
        ],
        "scale": 1,
        "scene": "<openalea.plantgl.scenegraph._pglsg.Scene object at 0x7f7d39bb27b0>"
       },
       "scene_nciNO8KsVajeirJEtNYpHrFmA": {
        "drc": {},
        "position": [
         43,
         65,
         28
        ],
        "scale": 1,
        "scene": "<openalea.plantgl.scenegraph._pglsg.Scene object at 0x7f7d39b799b0>"
       },
       "scene_nx1x8SzlzbT1EPBS7UKrC0JtI": {
        "drc": {},
        "position": [
         -124,
         126,
         -53
        ],
        "scale": 1,
        "scene": "<openalea.plantgl.scenegraph._pglsg.Scene object at 0x7f7d3a8af6b0>"
       },
       "scene_o2hLkZlHnu7DzWCITbcCBEega": {
        "drc": {},
        "position": [
         -69,
         11,
         -82
        ],
        "scale": 1,
        "scene": "<openalea.plantgl.scenegraph._pglsg.Scene object at 0x7f7d39c5a1b0>"
       },
       "scene_oCpcyMhvgV9ESHnxjeHlDPDyt": {
        "drc": {},
        "position": [
         -65,
         -117,
         39
        ],
        "scale": 1,
        "scene": "<openalea.plantgl.scenegraph._pglsg.Scene object at 0x7f7d39ddc6f0>"
       },
       "scene_oW8NBw3bfySN6PjlKpwNF6avu": {
        "drc": {},
        "position": [
         113,
         89,
         -104
        ],
        "scale": 1,
        "scene": "<openalea.plantgl.scenegraph._pglsg.Scene object at 0x7f7d39dad5f0>"
       },
       "scene_oY61Ubzdoce4hpKkg89IuSYyV": {
        "drc": {},
        "position": [
         21,
         -60,
         -34
        ],
        "scale": 1,
        "scene": "<openalea.plantgl.scenegraph._pglsg.Scene object at 0x7f7d39c628f0>"
       },
       "scene_oaeQEMJYQvlk1jpTXUUNUSHqp": {
        "drc": {},
        "position": [
         -76,
         -67,
         112
        ],
        "scale": 1,
        "scene": "<openalea.plantgl.scenegraph._pglsg.Scene object at 0x7f7d39c0f3f0>"
       },
       "scene_ogdhmdvELMmJI3NjdOmJ4ULOD": {
        "drc": {},
        "position": [
         -109,
         106,
         102
        ],
        "scale": 1,
        "scene": "<openalea.plantgl.scenegraph._pglsg.Scene object at 0x7f7d39dadb30>"
       },
       "scene_ovLUI9mNWzhrA35DF7lq3jo9d": {
        "drc": {},
        "position": [
         50,
         -79,
         -93
        ],
        "scale": 1,
        "scene": "<openalea.plantgl.scenegraph._pglsg.Scene object at 0x7f7d39bf5bf0>"
       },
       "scene_ow6fqO2DknJ915X9ucu1S20Vb": {
        "drc": {},
        "position": [
         123,
         -71,
         -63
        ],
        "scale": 1,
        "scene": "<openalea.plantgl.scenegraph._pglsg.Scene object at 0x7f7d39c46e30>"
       },
       "scene_pJlgcIQ1cQG2k7TFRfRBDdzW7": {
        "drc": {},
        "position": [
         -98,
         35,
         -125
        ],
        "scale": 1,
        "scene": "<openalea.plantgl.scenegraph._pglsg.Scene object at 0x7f7d39bebfb0>"
       },
       "scene_pmytBLeqO5GaKCqlb7qwtoH1p": {
        "drc": {},
        "position": [
         36,
         7,
         -59
        ],
        "scale": 1,
        "scene": "<openalea.plantgl.scenegraph._pglsg.Scene object at 0x7f7d39b43170>"
       },
       "scene_psnZj01g973HewhC2cYmIqiS6": {
        "drc": {},
        "position": [
         96,
         -117,
         -18
        ],
        "scale": 1,
        "scene": "<openalea.plantgl.scenegraph._pglsg.Scene object at 0x7f7d39bfd7b0>"
       },
       "scene_pyhCDFBZ2pyhZ2SLnnYnf5tBF": {
        "drc": {},
        "position": [
         -77,
         -60,
         33
        ],
        "scale": 1,
        "scene": "<openalea.plantgl.scenegraph._pglsg.Scene object at 0x7f7d39b3a930>"
       },
       "scene_q2U3UVnATLSjVd8uCecqrJUru": {
        "drc": {},
        "position": [
         102,
         84,
         -126
        ],
        "scale": 1,
        "scene": "<openalea.plantgl.scenegraph._pglsg.Scene object at 0x7f7d39c9edb0>"
       },
       "scene_qJWXFG0qXZwbN7y5hhjt7QpkR": {
        "drc": {},
        "position": [
         -59,
         28,
         -33
        ],
        "scale": 1,
        "scene": "<openalea.plantgl.scenegraph._pglsg.Scene object at 0x7f7d39ca9030>"
       },
       "scene_qe35iyWB8bl5ZFsVF8jiJCnQV": {
        "drc": {},
        "position": [
         60,
         -42,
         87
        ],
        "scale": 1,
        "scene": "<openalea.plantgl.scenegraph._pglsg.Scene object at 0x7f7d3a0128b0>"
       },
       "scene_qqz2iUcWAKjZFH0kJrvpR6Nvy": {
        "drc": {},
        "position": [
         11,
         114,
         77
        ],
        "scale": 1,
        "scene": "<openalea.plantgl.scenegraph._pglsg.Scene object at 0x7f7d39c952f0>"
       },
       "scene_rTOFDcifzqRZr8Vh9UctsKd3C": {
        "drc": {},
        "position": [
         -105,
         -29,
         -6
        ],
        "scale": 1,
        "scene": "<openalea.plantgl.scenegraph._pglsg.Scene object at 0x7f7d39d425b0>"
       },
       "scene_sCBBhalY4YdIAjKYUFylJDU9a": {
        "drc": {},
        "position": [
         51,
         27,
         126
        ],
        "scale": 1,
        "scene": "<openalea.plantgl.scenegraph._pglsg.Scene object at 0x7f7d39b793f0>"
       },
       "scene_sN54pBOFgCdcDnexYXOL3KC0z": {
        "drc": {},
        "position": [
         20,
         105,
         -29
        ],
        "scale": 1,
        "scene": "<openalea.plantgl.scenegraph._pglsg.Scene object at 0x7f7d39d8bfb0>"
       },
       "scene_sZoCqLGegCrYbqAjK2fXPBs7j": {
        "drc": {},
        "position": [
         53,
         -115,
         28
        ],
        "scale": 1,
        "scene": "<openalea.plantgl.scenegraph._pglsg.Scene object at 0x7f7d39e33a70>"
       },
       "scene_tMuRICwNSwCXqbeYRsHIB3ES9": {
        "drc": {},
        "position": [
         -21,
         -101,
         -26
        ],
        "scale": 1,
        "scene": "<openalea.plantgl.scenegraph._pglsg.Scene object at 0x7f7d3a05a0f0>"
       },
       "scene_tVbPp8PfpJCrQgn6P2mBhgT0w": {
        "drc": {},
        "position": [
         55,
         83,
         -124
        ],
        "scale": 1,
        "scene": "<openalea.plantgl.scenegraph._pglsg.Scene object at 0x7f7d39dbe870>"
       },
       "scene_tXK2Zi3UjNlmXgXQiUcBSfhsY": {
        "drc": {},
        "position": [
         56,
         38,
         98
        ],
        "scale": 1,
        "scene": "<openalea.plantgl.scenegraph._pglsg.Scene object at 0x7f7d39ec35b0>"
       },
       "scene_tsYVfV2WTaKCCm3bQ20erdMVK": {
        "drc": {},
        "position": [
         96,
         63,
         -20
        ],
        "scale": 1,
        "scene": "<openalea.plantgl.scenegraph._pglsg.Scene object at 0x7f7d39f4bcf0>"
       },
       "scene_txn8ADBQossXimJiBmMLpTjfe": {
        "drc": {},
        "position": [
         -100,
         20,
         -87
        ],
        "scale": 1,
        "scene": "<openalea.plantgl.scenegraph._pglsg.Scene object at 0x7f7d39b31fb0>"
       },
       "scene_u269NIxEb1k1twYIVFyqa3a7G": {
        "drc": {},
        "position": [
         -122,
         31,
         112
        ],
        "scale": 1,
        "scene": "<openalea.plantgl.scenegraph._pglsg.Scene object at 0x7f7d39beb4b0>"
       },
       "scene_u3jRP1TAEFoKSdSjdIoSTFaQ0": {
        "drc": {},
        "position": [
         125,
         -67,
         -30
        ],
        "scale": 1,
        "scene": "<openalea.plantgl.scenegraph._pglsg.Scene object at 0x7f7d39c28770>"
       },
       "scene_ukb6r2q71XQcCqtdg17RSbzV6": {
        "drc": {},
        "position": [
         48,
         -52,
         33
        ],
        "scale": 1,
        "scene": "<openalea.plantgl.scenegraph._pglsg.Scene object at 0x7f7d39b3a7b0>"
       },
       "scene_vPjLm5ULpO53nOhpQ41I1wvd5": {
        "drc": {},
        "position": [
         59,
         -70,
         -91
        ],
        "scale": 1,
        "scene": "<openalea.plantgl.scenegraph._pglsg.Scene object at 0x7f7d39c8ae30>"
       },
       "scene_vxH85QHQwnGHU0bJA9OoIsulW": {
        "drc": {},
        "position": [
         -2,
         -92,
         -24
        ],
        "scale": 1,
        "scene": "<openalea.plantgl.scenegraph._pglsg.Scene object at 0x7f7d39ec3bb0>"
       },
       "scene_wIC6fp8Djy0WpiqF4vEzpig3D": {
        "drc": {},
        "position": [
         15,
         118,
         102
        ],
        "scale": 1,
        "scene": "<openalea.plantgl.scenegraph._pglsg.Scene object at 0x7f7d39f536f0>"
       },
       "scene_wJw6UtdhaneTedOqxpTx9jGSh": {
        "drc": {},
        "position": [
         46,
         71,
         93
        ],
        "scale": 1,
        "scene": "<openalea.plantgl.scenegraph._pglsg.Scene object at 0x7f7d39e1c170>"
       },
       "scene_wNnrOHJ8RJMxw2RfZAtyRl6Zh": {
        "drc": {},
        "position": [
         -98,
         -96,
         -76
        ],
        "scale": 1,
        "scene": "<openalea.plantgl.scenegraph._pglsg.Scene object at 0x7f7d39d808f0>"
       },
       "scene_wQb7Wqf773sMEKpgrsVOOn9VB": {
        "drc": {},
        "position": [
         -68,
         91,
         56
        ],
        "scale": 1,
        "scene": "<openalea.plantgl.scenegraph._pglsg.Scene object at 0x7f7d39dec330>"
       },
       "scene_wf3XZQLiGeQefiOaoWQ6a79Kx": {
        "drc": {},
        "position": [
         -99,
         -55,
         3
        ],
        "scale": 1,
        "scene": "<openalea.plantgl.scenegraph._pglsg.Scene object at 0x7f7d3a0122b0>"
       },
       "scene_wpvgb8eVK0WijWhnB7F3KF6dn": {
        "drc": {},
        "position": [
         -55,
         -90,
         -66
        ],
        "scale": 1,
        "scene": "<openalea.plantgl.scenegraph._pglsg.Scene object at 0x7f7d39d708f0>"
       },
       "scene_xGqDjOQ7ciwrNqEUnBpGHGpGX": {
        "drc": {},
        "position": [
         -96,
         16,
         80
        ],
        "scale": 1,
        "scene": "<openalea.plantgl.scenegraph._pglsg.Scene object at 0x7f7d39ed7330>"
       },
       "scene_xI1As3wNOvJz9KE5NsiNUesGf": {
        "drc": {},
        "position": [
         91,
         -58,
         0
        ],
        "scale": 1,
        "scene": "<openalea.plantgl.scenegraph._pglsg.Scene object at 0x7f7d39c06cb0>"
       },
       "scene_xNFiFjMQOXMVeFAy45icXsBZG": {
        "drc": {},
        "position": [
         -124,
         40,
         98
        ],
        "scale": 1,
        "scene": "<openalea.plantgl.scenegraph._pglsg.Scene object at 0x7f7d39ca9b70>"
       },
       "scene_xaZFwV717lVox3FLibCdgMIKI": {
        "drc": {},
        "position": [
         -12,
         72,
         95
        ],
        "scale": 1,
        "scene": "<openalea.plantgl.scenegraph._pglsg.Scene object at 0x7f7d39db7b70>"
       },
       "scene_xbMahhoP1DjMTN5ieD5B7X5Xq": {
        "drc": {},
        "position": [
         -28,
         -124,
         124
        ],
        "scale": 1,
        "scene": "<openalea.plantgl.scenegraph._pglsg.Scene object at 0x7f7d39eb94b0>"
       },
       "scene_xllV0QtsrFadsRBlY57777A3b": {
        "drc": {},
        "position": [
         -68,
         -63,
         107
        ],
        "scale": 1,
        "scene": "<openalea.plantgl.scenegraph._pglsg.Scene object at 0x7f7d3a00a270>"
       },
       "scene_yigEeP8tZRAjCxuL2hFFAB7cN": {
        "drc": {},
        "position": [
         15,
         101,
         -112
        ],
        "scale": 1,
        "scene": "<openalea.plantgl.scenegraph._pglsg.Scene object at 0x7f7d39c37470>"
       },
       "scene_ypy1l0kGEqY07CuemkQrKE2Zf": {
        "drc": {},
        "position": [
         -80,
         -14,
         -63
        ],
        "scale": 1,
        "scene": "<openalea.plantgl.scenegraph._pglsg.Scene object at 0x7f7d39db7270>"
       },
       "scene_z1hmCcyR1LPnABYqCJVBhN0E0": {
        "drc": {},
        "position": [
         23,
         -111,
         -65
        ],
        "scale": 1,
        "scene": "<openalea.plantgl.scenegraph._pglsg.Scene object at 0x7f7d39c62330>"
       },
       "scene_zVMCBCWWqHXdizpq3LiBDtmCb": {
        "drc": {},
        "position": [
         85,
         35,
         -92
        ],
        "scale": 1,
        "scene": "<openalea.plantgl.scenegraph._pglsg.Scene object at 0x7f7d39ea8270>"
       },
       "size_display": [
        800,
        400
       ],
       "size_world": [
        255,
        255,
        255
       ]
      }
     },
     "8347ae7b7eef4047ad897c61f9421ef7": {
      "model_module": "@jupyter-widgets/base",
      "model_module_version": "1.2.0",
      "model_name": "LayoutModel",
      "state": {}
     },
     "86c21a2dc8944105a164cfefc4e2daf3": {
      "model_module": "@jupyter-widgets/base",
      "model_module_version": "1.2.0",
      "model_name": "LayoutModel",
      "state": {}
     },
     "8b72c916bf8542f9939394da3cb0492d": {
      "model_module": "@jupyter-widgets/base",
      "model_module_version": "1.2.0",
      "model_name": "LayoutModel",
      "state": {}
     },
     "8b7f3fbf9f2f41d1b253de348310c89e": {
      "model_module": "@jupyter-widgets/base",
      "model_module_version": "1.2.0",
      "model_name": "LayoutModel",
      "state": {}
     },
     "9c3748ddad4c4afd95e7c325f9b99ac1": {
      "model_module": "@jupyter-widgets/base",
      "model_module_version": "1.2.0",
      "model_name": "LayoutModel",
      "state": {}
     },
     "b640e2054742441092e1b82c1e984fbe": {
      "model_module": "@jupyter-widgets/base",
      "model_module_version": "1.2.0",
      "model_name": "LayoutModel",
      "state": {}
     },
     "c5ee0cec32964de39d562c19ee8759f0": {
      "model_module": "@jupyter-widgets/base",
      "model_module_version": "1.2.0",
      "model_name": "LayoutModel",
      "state": {}
     },
     "c92baf85f286478cafc4c2b3ac29b248": {
      "model_module": "@jupyter-widgets/base",
      "model_module_version": "1.2.0",
      "model_name": "LayoutModel",
      "state": {}
     },
     "d9158ff483624d05bda047adb269c4c4": {
      "buffers": [
       {
        "data": "",
        "encoding": "base64",
        "path": [
         "scene",
         "drc"
        ]
       }
      ],
      "model_module": "pgljupyter",
      "model_module_version": "^0.1.0",
      "model_name": "SceneWidgetModel",
      "state": {
       "_model_module_version": "^0.1.0",
       "_view_module_version": "^0.1.0",
       "axes_helper": false,
       "layout": "IPY_MODEL_29aab0295ad24d58b677f36184087fde",
       "mesh_compression": 10,
       "plane": false,
       "scene": {
        "drc": {},
        "position": [
         0,
         0,
         0
        ],
        "scale": 1,
        "scene": "<openalea.plantgl.scenegraph._pglsg.Scene object at 0x7fb55a322570>"
       },
       "size_display": [
        400,
        300
       ],
       "size_world": [
        255,
        255,
        255
       ]
      }
     },
     "e08ef28158f044aa9e9eeeb55f33c9fe": {
      "buffers": [
       {
        "data": "",
        "encoding": "base64",
        "path": [
         "scene",
         "drc"
        ]
       }
      ],
      "model_module": "pgljupyter",
      "model_module_version": "^0.1.0",
      "model_name": "SceneWidgetModel",
      "state": {
       "_model_module_version": "^0.1.0",
       "_view_module_version": "^0.1.0",
       "axes_helper": false,
       "layout": "IPY_MODEL_c5ee0cec32964de39d562c19ee8759f0",
       "mesh_compression": 10,
       "plane": false,
       "scene": {
        "drc": {},
        "position": [
         0,
         0,
         0
        ],
        "scale": 1,
        "scene": "<openalea.plantgl.scenegraph._pglsg.Scene object at 0x7f64aa313f70>"
       },
       "size_display": [
        400,
        300
       ],
       "size_world": [
        255,
        255,
        255
       ]
      }
     },
     "e6ab9d2db4af4e56995f4d4261124c94": {
      "buffers": [
       {
        "data": "",
        "encoding": "base64",
        "path": [
         "scene",
         "drc"
        ]
       }
      ],
      "model_module": "pgljupyter",
      "model_module_version": "^0.1.0",
      "model_name": "SceneWidgetModel",
      "state": {
       "_model_module_version": "^0.1.0",
       "_view_module_version": "^0.1.0",
       "axes_helper": false,
       "layout": "IPY_MODEL_9c3748ddad4c4afd95e7c325f9b99ac1",
       "mesh_compression": 10,
       "plane": false,
       "scene": {
        "drc": {},
        "position": [
         0,
         0,
         0
        ],
        "scale": 1,
        "scene": "<openalea.plantgl.scenegraph._pglsg.Scene object at 0x7fb559795c30>"
       },
       "scene_00ND7uXdjSJodC2qDqbvHtPgy": {
        "drc": {},
        "position": [
         -80,
         -44,
         37
        ],
        "scale": 1,
        "scene": "<openalea.plantgl.scenegraph._pglsg.Scene object at 0x7fb559839070>"
       },
       "scene_038B90bahRSwVo4z7ga5WNHvx": {
        "drc": {},
        "position": [
         89,
         -89,
         -99
        ],
        "scale": 1,
        "scene": "<openalea.plantgl.scenegraph._pglsg.Scene object at 0x7fb5594087f0>"
       },
       "scene_098Zn71FXepAXHapjTPNBfz1Q": {
        "drc": {},
        "position": [
         104,
         -1,
         -114
        ],
        "scale": 1,
        "scene": "<openalea.plantgl.scenegraph._pglsg.Scene object at 0x7fb5593e1a30>"
       },
       "scene_0F5PcW1aM8gysnPQqLdOHhZAc": {
        "drc": {},
        "position": [
         111,
         -66,
         101
        ],
        "scale": 1,
        "scene": "<openalea.plantgl.scenegraph._pglsg.Scene object at 0x7fb55956eb30>"
       },
       "scene_0FdRmroPpIBEdgPW7NBeOJVqx": {
        "drc": {},
        "position": [
         -4,
         -80,
         -114
        ],
        "scale": 1,
        "scene": "<openalea.plantgl.scenegraph._pglsg.Scene object at 0x7fb5595ea4b0>"
       },
       "scene_0KR9JX8Lwq6pgmdSXgvi5RIy0": {
        "drc": {},
        "position": [
         0,
         -116,
         -49
        ],
        "scale": 1,
        "scene": "<openalea.plantgl.scenegraph._pglsg.Scene object at 0x7fb5591bcaf0>"
       },
       "scene_0SsC9Atx5lBPsGyDmEIhYhG3z": {
        "drc": {},
        "position": [
         53,
         61,
         -111
        ],
        "scale": 1,
        "scene": "<openalea.plantgl.scenegraph._pglsg.Scene object at 0x7fb5593c1830>"
       },
       "scene_0e01LSHBNISQBWOa6NgFlSkPf": {
        "drc": {},
        "position": [
         -122,
         83,
         60
        ],
        "scale": 1,
        "scene": "<openalea.plantgl.scenegraph._pglsg.Scene object at 0x7fb5593a4370>"
       },
       "scene_0k0yp3V090Q8XTGWXB2w0E5hY": {
        "drc": {},
        "position": [
         -111,
         -34,
         -53
        ],
        "scale": 1,
        "scene": "<openalea.plantgl.scenegraph._pglsg.Scene object at 0x7fb55959eef0>"
       },
       "scene_1mTAwKMVmYYnXjStq5Db8AU6d": {
        "drc": {},
        "position": [
         20,
         83,
         90
        ],
        "scale": 1,
        "scene": "<openalea.plantgl.scenegraph._pglsg.Scene object at 0x7fb559120c70>"
       },
       "scene_1n1LjntrfMGZfKMRP7rmSJCVc": {
        "drc": {},
        "position": [
         -34,
         0,
         7
        ],
        "scale": 1,
        "scene": "<openalea.plantgl.scenegraph._pglsg.Scene object at 0x7fb558e6e5b0>"
       },
       "scene_1odgAFOIebgsAnj5ntZSnA3vj": {
        "drc": {},
        "position": [
         98,
         -112,
         120
        ],
        "scale": 1,
        "scene": "<openalea.plantgl.scenegraph._pglsg.Scene object at 0x7fb559047770>"
       },
       "scene_1rIwilO7kjuh1iJasPEB3C1m1": {
        "drc": {},
        "position": [
         -5,
         50,
         103
        ],
        "scale": 1,
        "scene": "<openalea.plantgl.scenegraph._pglsg.Scene object at 0x7fb559719cf0>"
       },
       "scene_26bz8u0TybBNLsekXxlI0O6Uo": {
        "drc": {},
        "position": [
         -119,
         29,
         -116
        ],
        "scale": 1,
        "scene": "<openalea.plantgl.scenegraph._pglsg.Scene object at 0x7fb559252130>"
       },
       "scene_2Fstn4CEKlbzzaqiXUrPwxWyR": {
        "drc": {},
        "position": [
         103,
         -114,
         -71
        ],
        "scale": 1,
        "scene": "<openalea.plantgl.scenegraph._pglsg.Scene object at 0x7fb5596056b0>"
       },
       "scene_2IB5d01gyoh1muYrnUo9ZqxsW": {
        "drc": {},
        "position": [
         22,
         -76,
         -18
        ],
        "scale": 1,
        "scene": "<openalea.plantgl.scenegraph._pglsg.Scene object at 0x7fb558ea9130>"
       },
       "scene_2WLkoJpBcpsvH32DAYdyBbuhx": {
        "drc": {},
        "position": [
         104,
         89,
         39
        ],
        "scale": 1,
        "scene": "<openalea.plantgl.scenegraph._pglsg.Scene object at 0x7fb5591175f0>"
       },
       "scene_2XnoFCoktfHNgBpgmX7JTMlCz": {
        "drc": {},
        "position": [
         -74,
         -26,
         -18
        ],
        "scale": 1,
        "scene": "<openalea.plantgl.scenegraph._pglsg.Scene object at 0x7fb5593c8f30>"
       },
       "scene_2YIXHH6RBLznc6vl1tQwvUs04": {
        "drc": {},
        "position": [
         -101,
         -18,
         -13
        ],
        "scale": 1,
        "scene": "<openalea.plantgl.scenegraph._pglsg.Scene object at 0x7fb558dd2cf0>"
       },
       "scene_2fOPvKSxL0jfb7rWW5OBE5TIw": {
        "drc": {},
        "position": [
         119,
         118,
         26
        ],
        "scale": 1,
        "scene": "<openalea.plantgl.scenegraph._pglsg.Scene object at 0x7fb5593fd6f0>"
       },
       "scene_2uabMg13bMMEqDybYQaXbbQjZ": {
        "drc": {},
        "position": [
         -119,
         -118,
         27
        ],
        "scale": 1,
        "scene": "<openalea.plantgl.scenegraph._pglsg.Scene object at 0x7fb558f954b0>"
       },
       "scene_31rZ5PTFBoi4UKQihEFvUgduN": {
        "drc": {},
        "position": [
         -83,
         -72,
         -67
        ],
        "scale": 1,
        "scene": "<openalea.plantgl.scenegraph._pglsg.Scene object at 0x7fb5592a4bb0>"
       },
       "scene_353N7SZ5756VMqzJyvAZenBME": {
        "drc": {},
        "position": [
         -22,
         -9,
         13
        ],
        "scale": 1,
        "scene": "<openalea.plantgl.scenegraph._pglsg.Scene object at 0x7fb5596af930>"
       },
       "scene_36E6Q71ITMUYCvc3gdu8hPkh2": {
        "drc": {},
        "position": [
         75,
         -113,
         77
        ],
        "scale": 1,
        "scene": "<openalea.plantgl.scenegraph._pglsg.Scene object at 0x7fb5595fc030>"
       },
       "scene_3A2hiIIezoav0TM9ZoIVCuv5v": {
        "drc": {},
        "position": [
         97,
         -71,
         10
        ],
        "scale": 1,
        "scene": "<openalea.plantgl.scenegraph._pglsg.Scene object at 0x7fb5594bafb0>"
       },
       "scene_3GrlDwax9XZ4B782KcwR3hOuM": {
        "drc": {},
        "position": [
         -90,
         -84,
         37
        ],
        "scale": 1,
        "scene": "<openalea.plantgl.scenegraph._pglsg.Scene object at 0x7fb5590a5430>"
       },
       "scene_3L2bcjUu8nX9QNMunmEqni9Ka": {
        "drc": {},
        "position": [
         99,
         115,
         51
        ],
        "scale": 1,
        "scene": "<openalea.plantgl.scenegraph._pglsg.Scene object at 0x7fb55918e8b0>"
       },
       "scene_3rOopnUiTfmAXtWB91xbiBhCx": {
        "drc": {},
        "position": [
         -98,
         31,
         -86
        ],
        "scale": 1,
        "scene": "<openalea.plantgl.scenegraph._pglsg.Scene object at 0x7fb559390d70>"
       },
       "scene_3u7FdTYRQYoKI0V4vlf5mpDIk": {
        "drc": {},
        "position": [
         88,
         30,
         -30
        ],
        "scale": 1,
        "scene": "<openalea.plantgl.scenegraph._pglsg.Scene object at 0x7fb55963c9f0>"
       },
       "scene_3vfEoWMrCL7EqDXkqWcBG16GO": {
        "drc": {},
        "position": [
         -59,
         89,
         -101
        ],
        "scale": 1,
        "scene": "<openalea.plantgl.scenegraph._pglsg.Scene object at 0x7fb559808e30>"
       },
       "scene_4CkfE1L1n8NybsUtU4jJvzvKD": {
        "drc": {},
        "position": [
         -107,
         -73,
         86
        ],
        "scale": 1,
        "scene": "<openalea.plantgl.scenegraph._pglsg.Scene object at 0x7fb55932f870>"
       },
       "scene_4FtipPjpEtAeB6cErh4WfzbJd": {
        "drc": {},
        "position": [
         21,
         81,
         36
        ],
        "scale": 1,
        "scene": "<openalea.plantgl.scenegraph._pglsg.Scene object at 0x7fb5590a5f30>"
       },
       "scene_4GXa785q3RlitQzZtyS6uSt6G": {
        "drc": {},
        "position": [
         -23,
         -24,
         -118
        ],
        "scale": 1,
        "scene": "<openalea.plantgl.scenegraph._pglsg.Scene object at 0x7fb55965fb70>"
       },
       "scene_4HcUTvWZo7eAg9R5PEGMBBvid": {
        "drc": {},
        "position": [
         96,
         50,
         3
        ],
        "scale": 1,
        "scene": "<openalea.plantgl.scenegraph._pglsg.Scene object at 0x7fb558f398b0>"
       },
       "scene_4MutbC9gzM4cTYqwcyNHBpDLu": {
        "drc": {},
        "position": [
         -123,
         -60,
         -90
        ],
        "scale": 1,
        "scene": "<openalea.plantgl.scenegraph._pglsg.Scene object at 0x7fb5594fb3b0>"
       },
       "scene_4QzxBhwOKnch19jcvpgwGswPU": {
        "drc": {},
        "position": [
         -94,
         1,
         27
        ],
        "scale": 1,
        "scene": "<openalea.plantgl.scenegraph._pglsg.Scene object at 0x7fb5593d1a70>"
       },
       "scene_4ROEAGhLeBl3miJuf2LkUCYNV": {
        "drc": {},
        "position": [
         71,
         72,
         28
        ],
        "scale": 1,
        "scene": "<openalea.plantgl.scenegraph._pglsg.Scene object at 0x7fb558f56630>"
       },
       "scene_4ShZGFs0lVqcDjC9UkYgnJgT1": {
        "drc": {},
        "position": [
         84,
         -11,
         -28
        ],
        "scale": 1,
        "scene": "<openalea.plantgl.scenegraph._pglsg.Scene object at 0x7fb5595e4f70>"
       },
       "scene_4bZrmuVcCEDIxu3ccxFSGXCmf": {
        "drc": {},
        "position": [
         -38,
         2,
         -85
        ],
        "scale": 1,
        "scene": "<openalea.plantgl.scenegraph._pglsg.Scene object at 0x7fb559921b30>"
       },
       "scene_4bjzzWT2RTDQVnHw51PT8V40e": {
        "drc": {},
        "position": [
         -84,
         -77,
         -106
        ],
        "scale": 1,
        "scene": "<openalea.plantgl.scenegraph._pglsg.Scene object at 0x7fb559377cb0>"
       },
       "scene_4fxz7qodXF48wNrjXccjYmVHe": {
        "drc": {},
        "position": [
         -16,
         -53,
         44
        ],
        "scale": 1,
        "scene": "<openalea.plantgl.scenegraph._pglsg.Scene object at 0x7fb5594b4770>"
       },
       "scene_4pafhQzccstqtW2wiOQjYERKe": {
        "drc": {},
        "position": [
         3,
         115,
         35
        ],
        "scale": 1,
        "scene": "<openalea.plantgl.scenegraph._pglsg.Scene object at 0x7fb559679a30>"
       },
       "scene_4yQpO91zLgBmYVIBLI8bqVpQu": {
        "drc": {},
        "position": [
         67,
         -28,
         35
        ],
        "scale": 1,
        "scene": "<openalea.plantgl.scenegraph._pglsg.Scene object at 0x7fb55965fcb0>"
       },
       "scene_4zm2rb9DP1L72UPDVkeidMfkT": {
        "drc": {},
        "position": [
         -55,
         86,
         64
        ],
        "scale": 1,
        "scene": "<openalea.plantgl.scenegraph._pglsg.Scene object at 0x7fb558dc0c70>"
       },
       "scene_51V53iYZ6Z2VR5fAaML2Y7D4C": {
        "drc": {},
        "position": [
         -126,
         106,
         -63
        ],
        "scale": 1,
        "scene": "<openalea.plantgl.scenegraph._pglsg.Scene object at 0x7fb5593d17f0>"
       },
       "scene_54cVaH1MUU3gqtAe8UGKpqmYj": {
        "drc": {},
        "position": [
         -122,
         -99,
         -71
        ],
        "scale": 1,
        "scene": "<openalea.plantgl.scenegraph._pglsg.Scene object at 0x7fb559195470>"
       },
       "scene_57xdGBByOKRvDbf2HtknGdTMs": {
        "drc": {},
        "position": [
         95,
         101,
         12
        ],
        "scale": 1,
        "scene": "<openalea.plantgl.scenegraph._pglsg.Scene object at 0x7fb5592634f0>"
       },
       "scene_5NGO9kbCGDmeY9g32noRVrW3u": {
        "drc": {},
        "position": [
         -91,
         27,
         47
        ],
        "scale": 1,
        "scene": "<openalea.plantgl.scenegraph._pglsg.Scene object at 0x7fb558fd43b0>"
       },
       "scene_5UQIhc5P55R5cghz3PjabdauT": {
        "drc": {},
        "position": [
         -15,
         -16,
         -58
        ],
        "scale": 1,
        "scene": "<openalea.plantgl.scenegraph._pglsg.Scene object at 0x7fb55950f730>"
       },
       "scene_65R92uAhRc3ZQuw9IGIKAKF7B": {
        "drc": {},
        "position": [
         -85,
         83,
         -2
        ],
        "scale": 1,
        "scene": "<openalea.plantgl.scenegraph._pglsg.Scene object at 0x7fb559840470>"
       },
       "scene_6QVHAXYKr42dkhJlg0QeCK8W0": {
        "drc": {},
        "position": [
         100,
         11,
         -18
        ],
        "scale": 1,
        "scene": "<openalea.plantgl.scenegraph._pglsg.Scene object at 0x7fb559457870>"
       },
       "scene_6ilPiA5rwrkAPyLxx61mn3wWK": {
        "drc": {},
        "position": [
         -22,
         -38,
         101
        ],
        "scale": 1,
        "scene": "<openalea.plantgl.scenegraph._pglsg.Scene object at 0x7fb5596054f0>"
       },
       "scene_70cRLrNWzEMmW2l3YzsBcqsuf": {
        "drc": {},
        "position": [
         -83,
         27,
         65
        ],
        "scale": 1,
        "scene": "<openalea.plantgl.scenegraph._pglsg.Scene object at 0x7fb55947d770>"
       },
       "scene_74pibwFbULWixhbKV1bii4lPg": {
        "drc": {},
        "position": [
         -125,
         -21,
         84
        ],
        "scale": 1,
        "scene": "<openalea.plantgl.scenegraph._pglsg.Scene object at 0x7fb5593fd370>"
       },
       "scene_7DzLpjP0p1TnBNk3vmP9BMU6S": {
        "drc": {},
        "position": [
         -32,
         -59,
         115
        ],
        "scale": 1,
        "scene": "<openalea.plantgl.scenegraph._pglsg.Scene object at 0x7fb55942cc70>"
       },
       "scene_7SQY5Zfkntv3fPa0QbCREdH77": {
        "drc": {},
        "position": [
         -72,
         16,
         -57
        ],
        "scale": 1,
        "scene": "<openalea.plantgl.scenegraph._pglsg.Scene object at 0x7fb559679cf0>"
       },
       "scene_7YpJAjFRwdFX1K50uzpnbrw9y": {
        "drc": {},
        "position": [
         18,
         82,
         120
        ],
        "scale": 1,
        "scene": "<openalea.plantgl.scenegraph._pglsg.Scene object at 0x7fb558fecb30>"
       },
       "scene_8CDzJCl2VQcc2Epmr0zY9ied7": {
        "drc": {},
        "position": [
         -82,
         80,
         -32
        ],
        "scale": 1,
        "scene": "<openalea.plantgl.scenegraph._pglsg.Scene object at 0x7fb558eb5870>"
       },
       "scene_8NFINIwYW8qgvVTbM1H5QQkgp": {
        "drc": {},
        "position": [
         -108,
         -45,
         109
        ],
        "scale": 1,
        "scene": "<openalea.plantgl.scenegraph._pglsg.Scene object at 0x7fb55950f5b0>"
       },
       "scene_8Wrxs1gEsYpjJnLVSh9HCjZPH": {
        "drc": {},
        "position": [
         22,
         -7,
         65
        ],
        "scale": 1,
        "scene": "<openalea.plantgl.scenegraph._pglsg.Scene object at 0x7fb55968d5f0>"
       },
       "scene_8cLCctfeBBCo3AO8H2Ojf0LBn": {
        "drc": {},
        "position": [
         -104,
         6,
         -123
        ],
        "scale": 1,
        "scene": "<openalea.plantgl.scenegraph._pglsg.Scene object at 0x7fb5593ae2b0>"
       },
       "scene_8tM8vH2ZSJ4ujXzOQ3urbnzet": {
        "drc": {},
        "position": [
         86,
         -72,
         18
        ],
        "scale": 1,
        "scene": "<openalea.plantgl.scenegraph._pglsg.Scene object at 0x7fb558ea9d70>"
       },
       "scene_8wh5YMqKi585JDFQRRD87nmFn": {
        "drc": {},
        "position": [
         14,
         -64,
         22
        ],
        "scale": 1,
        "scene": "<openalea.plantgl.scenegraph._pglsg.Scene object at 0x7fb558ee7670>"
       },
       "scene_96o7WkQQt6pKT0x14FVuziT6e": {
        "drc": {},
        "position": [
         -126,
         -97,
         81
        ],
        "scale": 1,
        "scene": "<openalea.plantgl.scenegraph._pglsg.Scene object at 0x7fb559389170>"
       },
       "scene_9AhyqS4UL27bDUGMYkM9dIqrr": {
        "drc": {},
        "position": [
         -62,
         108,
         -9
        ],
        "scale": 1,
        "scene": "<openalea.plantgl.scenegraph._pglsg.Scene object at 0x7fb559658af0>"
       },
       "scene_9EOnObdeUOMkZnb9z6P1bcHWx": {
        "drc": {},
        "position": [
         -126,
         -52,
         -74
        ],
        "scale": 1,
        "scene": "<openalea.plantgl.scenegraph._pglsg.Scene object at 0x7fb5594a0170>"
       },
       "scene_9SymRslqMKdOLhiFWY40Lr3dm": {
        "drc": {},
        "position": [
         -17,
         72,
         -99
        ],
        "scale": 1,
        "scene": "<openalea.plantgl.scenegraph._pglsg.Scene object at 0x7fb559743970>"
       },
       "scene_9XORyMkaStFqdArCcftlC9UMC": {
        "drc": {},
        "position": [
         54,
         101,
         -1
        ],
        "scale": 1,
        "scene": "<openalea.plantgl.scenegraph._pglsg.Scene object at 0x7fb558e81670>"
       },
       "scene_9cCBp0QcZzT6ah5OxQyBBf18P": {
        "drc": {},
        "position": [
         -19,
         38,
         -91
        ],
        "scale": 1,
        "scene": "<openalea.plantgl.scenegraph._pglsg.Scene object at 0x7fb5590b33f0>"
       },
       "scene_9fHOgOhD1ZCYvAEm5kwg5li25": {
        "drc": {},
        "position": [
         86,
         56,
         -99
        ],
        "scale": 1,
        "scene": "<openalea.plantgl.scenegraph._pglsg.Scene object at 0x7fb5594ab170>"
       },
       "scene_9gyKtXVPykjKeq9xlGof5BD4i": {
        "drc": {},
        "position": [
         116,
         -121,
         22
        ],
        "scale": 1,
        "scene": "<openalea.plantgl.scenegraph._pglsg.Scene object at 0x7fb5594d82b0>"
       },
       "scene_9o5IQFKGrUpczq0Hk6kBS0Ukk": {
        "drc": {},
        "position": [
         57,
         37,
         104
        ],
        "scale": 1,
        "scene": "<openalea.plantgl.scenegraph._pglsg.Scene object at 0x7fb55916af30>"
       },
       "scene_9raBl2YUalrKiqvMZpYCiy0BT": {
        "drc": {},
        "position": [
         0,
         -71,
         101
        ],
        "scale": 1,
        "scene": "<openalea.plantgl.scenegraph._pglsg.Scene object at 0x7fb558f42fb0>"
       },
       "scene_9uqxGjDT52MyTqHUxI1MAvhwR": {
        "drc": {},
        "position": [
         -18,
         -70,
         13
        ],
        "scale": 1,
        "scene": "<openalea.plantgl.scenegraph._pglsg.Scene object at 0x7fb55906b9b0>"
       },
       "scene_9ygfFmLN1oEBNqnzXGtYqVq55": {
        "drc": {},
        "position": [
         -122,
         25,
         37
        ],
        "scale": 1,
        "scene": "<openalea.plantgl.scenegraph._pglsg.Scene object at 0x7fb55961b830>"
       },
       "scene_A4ZRDGAtX6hhnPLbePoF6XCyM": {
        "drc": {},
        "position": [
         -97,
         -123,
         -104
        ],
        "scale": 1,
        "scene": "<openalea.plantgl.scenegraph._pglsg.Scene object at 0x7fb5594089f0>"
       },
       "scene_A5qhf9NJI0VSDUUcRJ8hdHirz": {
        "drc": {},
        "position": [
         -99,
         -113,
         4
        ],
        "scale": 1,
        "scene": "<openalea.plantgl.scenegraph._pglsg.Scene object at 0x7fb558de3e30>"
       },
       "scene_AA4xlf8vG8Q0YUVcO1ng2LG3x": {
        "drc": {},
        "position": [
         29,
         115,
         17
        ],
        "scale": 1,
        "scene": "<openalea.plantgl.scenegraph._pglsg.Scene object at 0x7fb559457770>"
       },
       "scene_AGg1R7DzN4f42PhQFdy4bUKkS": {
        "drc": {},
        "position": [
         74,
         4,
         7
        ],
        "scale": 1,
        "scene": "<openalea.plantgl.scenegraph._pglsg.Scene object at 0x7fb558fffd70>"
       },
       "scene_AJtYmVSyaDfzFDpHZL6dCGGWG": {
        "drc": {},
        "position": [
         -19,
         94,
         -29
        ],
        "scale": 1,
        "scene": "<openalea.plantgl.scenegraph._pglsg.Scene object at 0x7fb559433e70>"
       },
       "scene_ARB0x42CJnIdF3j7uXPZpTUbO": {
        "drc": {},
        "position": [
         121,
         -80,
         95
        ],
        "scale": 1,
        "scene": "<openalea.plantgl.scenegraph._pglsg.Scene object at 0x7fb5591053f0>"
       },
       "scene_ARqOhB3wspt3gpactkTzIWdBu": {
        "drc": {},
        "position": [
         -103,
         77,
         58
        ],
        "scale": 1,
        "scene": "<openalea.plantgl.scenegraph._pglsg.Scene object at 0x7fb558ebce70>"
       },
       "scene_AXpPkHioXetjetIK0VH0rFKYE": {
        "drc": {},
        "position": [
         -66,
         -126,
         -51
        ],
        "scale": 1,
        "scene": "<openalea.plantgl.scenegraph._pglsg.Scene object at 0x7fb5595454f0>"
       },
       "scene_AZXJqocTqAib2CGLn70YEZSmB": {
        "drc": {},
        "position": [
         -75,
         -75,
         97
        ],
        "scale": 1,
        "scene": "<openalea.plantgl.scenegraph._pglsg.Scene object at 0x7fb5590c3fb0>"
       },
       "scene_Ad1UI0orfQyCwRKVAyqLnRwm5": {
        "drc": {},
        "position": [
         -80,
         -88,
         104
        ],
        "scale": 1,
        "scene": "<openalea.plantgl.scenegraph._pglsg.Scene object at 0x7fb55925b930>"
       },
       "scene_AveCFs2cbJx0TNk64z8uYehfi": {
        "drc": {},
        "position": [
         -1,
         -54,
         38
        ],
        "scale": 1,
        "scene": "<openalea.plantgl.scenegraph._pglsg.Scene object at 0x7fb559247630>"
       },
       "scene_B4wfDfoncAarpkn8BIPFIzVt9": {
        "drc": {},
        "position": [
         -47,
         4,
         -75
        ],
        "scale": 1,
        "scene": "<openalea.plantgl.scenegraph._pglsg.Scene object at 0x7fb558fb7fb0>"
       },
       "scene_B9UWhszSD2FIOCtm72f0w5jAe": {
        "drc": {},
        "position": [
         -2,
         69,
         -74
        ],
        "scale": 1,
        "scene": "<openalea.plantgl.scenegraph._pglsg.Scene object at 0x7fb559063430>"
       },
       "scene_BN2tCsm0ZLabo8SG0RHEUJEp5": {
        "drc": {},
        "position": [
         -83,
         -59,
         87
        ],
        "scale": 1,
        "scene": "<openalea.plantgl.scenegraph._pglsg.Scene object at 0x7fb5599c28b0>"
       },
       "scene_BXqjq7zSIYHyOBGGZBzEQ6exe": {
        "drc": {},
        "position": [
         -66,
         96,
         60
        ],
        "scale": 1,
        "scene": "<openalea.plantgl.scenegraph._pglsg.Scene object at 0x7fb5590235b0>"
       },
       "scene_BpnJuRzjlF4yWnO92e8lio0zs": {
        "drc": {},
        "position": [
         -60,
         -30,
         93
        ],
        "scale": 1,
        "scene": "<openalea.plantgl.scenegraph._pglsg.Scene object at 0x7fb559450430>"
       },
       "scene_BzPrbSyzK0Gb1yIq9tFoSZ8V4": {
        "drc": {},
        "position": [
         -33,
         -35,
         -124
        ],
        "scale": 1,
        "scene": "<openalea.plantgl.scenegraph._pglsg.Scene object at 0x7fb5593b89f0>"
       },
       "scene_C2uGbevMQwAn0eCLB1AdWQoJQ": {
        "drc": {},
        "position": [
         123,
         -104,
         -119
        ],
        "scale": 1,
        "scene": "<openalea.plantgl.scenegraph._pglsg.Scene object at 0x7fb559801cf0>"
       },
       "scene_C6wfx9fNVuMnb5A1EO89Db3RW": {
        "drc": {},
        "position": [
         44,
         97,
         -93
        ],
        "scale": 1,
        "scene": "<openalea.plantgl.scenegraph._pglsg.Scene object at 0x7fb558d6f8f0>"
       },
       "scene_C8SIYoHc6GZ30k01tVw4QFFkt": {
        "drc": {},
        "position": [
         -3,
         -88,
         -46
        ],
        "scale": 1,
        "scene": "<openalea.plantgl.scenegraph._pglsg.Scene object at 0x7fb55984b4f0>"
       },
       "scene_CaFvmMriaxzzvlvLsyj0rVlFw": {
        "drc": {},
        "position": [
         -70,
         -59,
         -98
        ],
        "scale": 1,
        "scene": "<openalea.plantgl.scenegraph._pglsg.Scene object at 0x7fb5590e12f0>"
       },
       "scene_CbZ3gpltD7FfhNmZp0VftW3CK": {
        "drc": {},
        "position": [
         -46,
         -122,
         -77
        ],
        "scale": 1,
        "scene": "<openalea.plantgl.scenegraph._pglsg.Scene object at 0x7fb5590e1df0>"
       },
       "scene_CeLddwPv2bbKcdpD9KFR2TzHl": {
        "drc": {},
        "position": [
         -82,
         -42,
         10
        ],
        "scale": 1,
        "scene": "<openalea.plantgl.scenegraph._pglsg.Scene object at 0x7fb559185cf0>"
       },
       "scene_CicwtqPqo5TORT84LAhOUzppF": {
        "drc": {},
        "position": [
         -111,
         -75,
         -17
        ],
        "scale": 1,
        "scene": "<openalea.plantgl.scenegraph._pglsg.Scene object at 0x7fb559070fb0>"
       },
       "scene_ClPEKeeIjeEV87xvC7i2BdIFG": {
        "drc": {},
        "position": [
         -39,
         -67,
         -78
        ],
        "scale": 1,
        "scene": "<openalea.plantgl.scenegraph._pglsg.Scene object at 0x7fb558e2f370>"
       },
       "scene_D1GNsGgc0LKNMe1c7lR1VShza": {
        "drc": {},
        "position": [
         94,
         -54,
         -91
        ],
        "scale": 1,
        "scene": "<openalea.plantgl.scenegraph._pglsg.Scene object at 0x7fb5597c27b0>"
       },
       "scene_DMdmDqtIWgNBKL41VlXc92lj3": {
        "drc": {},
        "position": [
         15,
         74,
         76
        ],
        "scale": 1,
        "scene": "<openalea.plantgl.scenegraph._pglsg.Scene object at 0x7fb5598ba8f0>"
       },
       "scene_DR7yie8lBeomsAAaWiOIu6grD": {
        "drc": {},
        "position": [
         -18,
         -112,
         17
        ],
        "scale": 1,
        "scene": "<openalea.plantgl.scenegraph._pglsg.Scene object at 0x7fb558f8c8f0>"
       },
       "scene_DWlOcwLKivgnJo4ph8xL61tLT": {
        "drc": {},
        "position": [
         89,
         4,
         -62
        ],
        "scale": 1,
        "scene": "<openalea.plantgl.scenegraph._pglsg.Scene object at 0x7fb5592938f0>"
       },
       "scene_DiqnZlgtV3F1kdDztwWHGGXBs": {
        "drc": {},
        "position": [
         -52,
         -32,
         118
        ],
        "scale": 1,
        "scene": "<openalea.plantgl.scenegraph._pglsg.Scene object at 0x7fb5597ca9b0>"
       },
       "scene_DmSDZFfdYgp1MF1YbAF6Urn42": {
        "drc": {},
        "position": [
         29,
         16,
         -118
        ],
        "scale": 1,
        "scene": "<openalea.plantgl.scenegraph._pglsg.Scene object at 0x7fb558e6efb0>"
       },
       "scene_DmuLhDZLD2IOfTM61bzjGkqgD": {
        "drc": {},
        "position": [
         91,
         -4,
         119
        ],
        "scale": 1,
        "scene": "<openalea.plantgl.scenegraph._pglsg.Scene object at 0x7fb5595b38b0>"
       },
       "scene_Dqv7Gky9eNmPaGWC9wK3U2WOk": {
        "drc": {},
        "position": [
         -13,
         -71,
         -93
        ],
        "scale": 1,
        "scene": "<openalea.plantgl.scenegraph._pglsg.Scene object at 0x7fb558e20e70>"
       },
       "scene_E0mvKuU1Z9SDKunXQ0TuRGvHf": {
        "drc": {},
        "position": [
         64,
         99,
         -74
        ],
        "scale": 1,
        "scene": "<openalea.plantgl.scenegraph._pglsg.Scene object at 0x7fb5593896f0>"
       },
       "scene_E1DK51ueepot2OQLU6Tq0vi1o": {
        "drc": {},
        "position": [
         -111,
         86,
         76
        ],
        "scale": 1,
        "scene": "<openalea.plantgl.scenegraph._pglsg.Scene object at 0x7fb559557230>"
       },
       "scene_E4BGB4iPGzwNbyUxH8T7LONCe": {
        "drc": {},
        "position": [
         25,
         -77,
         73
        ],
        "scale": 1,
        "scene": "<openalea.plantgl.scenegraph._pglsg.Scene object at 0x7fb5595c1e30>"
       },
       "scene_E4s0OExvKmtcp5K9T40EbTfIp": {
        "drc": {},
        "position": [
         -90,
         -21,
         -29
        ],
        "scale": 1,
        "scene": "<openalea.plantgl.scenegraph._pglsg.Scene object at 0x7fb55940c1b0>"
       },
       "scene_EA2Oi3Tu1LnQqFnDoyXqpNXkA": {
        "drc": {},
        "position": [
         31,
         -19,
         -11
        ],
        "scale": 1,
        "scene": "<openalea.plantgl.scenegraph._pglsg.Scene object at 0x7fb559625870>"
       },
       "scene_ED3L2TduvDGnDLR4rFi0vkAmN": {
        "drc": {},
        "position": [
         29,
         -3,
         -32
        ],
        "scale": 1,
        "scene": "<openalea.plantgl.scenegraph._pglsg.Scene object at 0x7fb55960ea70>"
       },
       "scene_EFEAOrxktlNnM0obtjTiTKLjp": {
        "drc": {},
        "position": [
         23,
         -99,
         -60
        ],
        "scale": 1,
        "scene": "<openalea.plantgl.scenegraph._pglsg.Scene object at 0x7fb559447870>"
       },
       "scene_EKgxhBbJYoSjK4Ffsr37JYO4b": {
        "drc": {},
        "position": [
         22,
         86,
         -27
        ],
        "scale": 1,
        "scene": "<openalea.plantgl.scenegraph._pglsg.Scene object at 0x7fb55905a8b0>"
       },
       "scene_EdLtxNcTRLyFdAMK9vuPhQ0VF": {
        "drc": {},
        "position": [
         -13,
         -103,
         -82
        ],
        "scale": 1,
        "scene": "<openalea.plantgl.scenegraph._pglsg.Scene object at 0x7fb55960e8f0>"
       },
       "scene_Eoy80KuSv0nNxsD3VWqkDyzAt": {
        "drc": {},
        "position": [
         121,
         -35,
         -54
        ],
        "scale": 1,
        "scene": "<openalea.plantgl.scenegraph._pglsg.Scene object at 0x7fb55903dcb0>"
       },
       "scene_F5oMgbeEDHgXTCWxoFr5GJ6gi": {
        "drc": {},
        "position": [
         -69,
         78,
         -123
        ],
        "scale": 1,
        "scene": "<openalea.plantgl.scenegraph._pglsg.Scene object at 0x7fb55985c7f0>"
       },
       "scene_F7MF0QN8DPYvgRd7TunU2KuSF": {
        "drc": {},
        "position": [
         28,
         0,
         -111
        ],
        "scale": 1,
        "scene": "<openalea.plantgl.scenegraph._pglsg.Scene object at 0x7fb5595e4db0>"
       },
       "scene_FEEksn4aHK0khUAjzKre4Q9Ad": {
        "drc": {},
        "position": [
         34,
         64,
         -5
        ],
        "scale": 1,
        "scene": "<openalea.plantgl.scenegraph._pglsg.Scene object at 0x7fb58c0080f0>"
       },
       "scene_FGO1U3oKFjR8VpMC1WjCj2uYv": {
        "drc": {},
        "position": [
         85,
         -45,
         118
        ],
        "scale": 1,
        "scene": "<openalea.plantgl.scenegraph._pglsg.Scene object at 0x7fb55915d930>"
       },
       "scene_FdHh4cHoR6Bz8QhQcCuhdJdk5": {
        "drc": {},
        "position": [
         16,
         41,
         -112
        ],
        "scale": 1,
        "scene": "<openalea.plantgl.scenegraph._pglsg.Scene object at 0x7fb559018a30>"
       },
       "scene_FdmZGAzIB7aQK81QuPteFjKdm": {
        "drc": {},
        "position": [
         78,
         65,
         16
        ],
        "scale": 1,
        "scene": "<openalea.plantgl.scenegraph._pglsg.Scene object at 0x7fb55979e770>"
       },
       "scene_FdzHNpju0u7mE29veKe1jMkcp": {
        "drc": {},
        "position": [
         97,
         91,
         76
        ],
        "scale": 1,
        "scene": "<openalea.plantgl.scenegraph._pglsg.Scene object at 0x7fb559433570>"
       },
       "scene_Fg2TqzD4F4OAED0riPWNsZmns": {
        "drc": {},
        "position": [
         -27,
         -106,
         -44
        ],
        "scale": 1,
        "scene": "<openalea.plantgl.scenegraph._pglsg.Scene object at 0x7fb55952f870>"
       },
       "scene_FjFtDuj1WAgEziyTeh3JauXtC": {
        "drc": {},
        "position": [
         -114,
         -36,
         -126
        ],
        "scale": 1,
        "scene": "<openalea.plantgl.scenegraph._pglsg.Scene object at 0x7fb5594ba6b0>"
       },
       "scene_Fsye9jjgVzrDt8szOQlhWhUPQ": {
        "drc": {},
        "position": [
         97,
         -3,
         54
        ],
        "scale": 1,
        "scene": "<openalea.plantgl.scenegraph._pglsg.Scene object at 0x7fb558df3ab0>"
       },
       "scene_Fu3vmVnBYWiU4u8wAHgsT6Y7E": {
        "drc": {},
        "position": [
         -38,
         62,
         -18
        ],
        "scale": 1,
        "scene": "<openalea.plantgl.scenegraph._pglsg.Scene object at 0x7fb559203a30>"
       },
       "scene_G0Dl5TRxn0PCkscqGkd7NxK1n": {
        "drc": {},
        "position": [
         -89,
         -104,
         8
        ],
        "scale": 1,
        "scene": "<openalea.plantgl.scenegraph._pglsg.Scene object at 0x7fb559034fb0>"
       },
       "scene_G0Gq2a0NSWjilRAvIh0PHIZii": {
        "drc": {},
        "position": [
         55,
         63,
         27
        ],
        "scale": 1,
        "scene": "<openalea.plantgl.scenegraph._pglsg.Scene object at 0x7fb55939c870>"
       },
       "scene_G7MIuE1ewfPd5wnpEz6yEQI2a": {
        "drc": {},
        "position": [
         124,
         -2,
         33
        ],
        "scale": 1,
        "scene": "<openalea.plantgl.scenegraph._pglsg.Scene object at 0x7fb5594f07f0>"
       },
       "scene_GDGiiRXlImPCNqTiGMn1nO6c2": {
        "drc": {},
        "position": [
         -24,
         47,
         94
        ],
        "scale": 1,
        "scene": "<openalea.plantgl.scenegraph._pglsg.Scene object at 0x7fb5596cff70>"
       },
       "scene_GUUouo5BKVUHh87Fh1V0dOov3": {
        "drc": {},
        "position": [
         -17,
         65,
         -43
        ],
        "scale": 1,
        "scene": "<openalea.plantgl.scenegraph._pglsg.Scene object at 0x7fb5590fd830>"
       },
       "scene_Gf7MMCQ1dDj4R01ByP8MsAFVl": {
        "drc": {},
        "position": [
         -42,
         4,
         19
        ],
        "scale": 1,
        "scene": "<openalea.plantgl.scenegraph._pglsg.Scene object at 0x7fb558efbef0>"
       },
       "scene_Gf80aBJte0axe8JfNYef5qAL6": {
        "drc": {},
        "position": [
         65,
         -20,
         48
        ],
        "scale": 1,
        "scene": "<openalea.plantgl.scenegraph._pglsg.Scene object at 0x7fb5593f77b0>"
       },
       "scene_GguYmBXRqoiureQ4UoU8FQ8G8": {
        "drc": {},
        "position": [
         -12,
         77,
         -7
        ],
        "scale": 1,
        "scene": "<openalea.plantgl.scenegraph._pglsg.Scene object at 0x7fb5596a7b30>"
       },
       "scene_GqDrnCqjWLt5mhilJwhGmVn10": {
        "drc": {},
        "position": [
         37,
         -57,
         37
        ],
        "scale": 1,
        "scene": "<openalea.plantgl.scenegraph._pglsg.Scene object at 0x7fb558fe3fb0>"
       },
       "scene_HJby9ailqPNLfmytL9YA2BQR7": {
        "drc": {},
        "position": [
         58,
         -34,
         102
        ],
        "scale": 1,
        "scene": "<openalea.plantgl.scenegraph._pglsg.Scene object at 0x7fb559238eb0>"
       },
       "scene_HPIKIfaUTCvk9J85Ws2qHS7Dx": {
        "drc": {},
        "position": [
         -22,
         8,
         -6
        ],
        "scale": 1,
        "scene": "<openalea.plantgl.scenegraph._pglsg.Scene object at 0x7fb55932fab0>"
       },
       "scene_HTX5QRIdElGio8wneLpTcn5nm": {
        "drc": {},
        "position": [
         118,
         -29,
         -76
        ],
        "scale": 1,
        "scene": "<openalea.plantgl.scenegraph._pglsg.Scene object at 0x7fb558fff130>"
       },
       "scene_HVu00cPih0itK6ykDEzJV6c53": {
        "drc": {},
        "position": [
         80,
         -20,
         31
        ],
        "scale": 1,
        "scene": "<openalea.plantgl.scenegraph._pglsg.Scene object at 0x7fb559377630>"
       },
       "scene_HdpilN6a3AkeuAXCHc7qNkZFs": {
        "drc": {},
        "position": [
         96,
         79,
         7
        ],
        "scale": 1,
        "scene": "<openalea.plantgl.scenegraph._pglsg.Scene object at 0x7fb5597c26f0>"
       },
       "scene_HjvkhT00vMZ9LgXg0lVT62KMe": {
        "drc": {},
        "position": [
         -89,
         -80,
         -124
        ],
        "scale": 1,
        "scene": "<openalea.plantgl.scenegraph._pglsg.Scene object at 0x7fb55948f9f0>"
       },
       "scene_IRQTKIhNUdiwTnLU5Kf8S1iW9": {
        "drc": {},
        "position": [
         -62,
         -6,
         45
        ],
        "scale": 1,
        "scene": "<openalea.plantgl.scenegraph._pglsg.Scene object at 0x7fb5594f09b0>"
       },
       "scene_IRkjPT8hrOlHAO1tcTpVpP7uY": {
        "drc": {},
        "position": [
         120,
         2,
         96
        ],
        "scale": 1,
        "scene": "<openalea.plantgl.scenegraph._pglsg.Scene object at 0x7fb5594e19f0>"
       },
       "scene_IU6CBFBXGUvstwdv64Q023zvU": {
        "drc": {},
        "position": [
         76,
         27,
         55
        ],
        "scale": 1,
        "scene": "<openalea.plantgl.scenegraph._pglsg.Scene object at 0x7fb5596d65b0>"
       },
       "scene_IZ2NG8yskWp126Vgg5qASLuRW": {
        "drc": {},
        "position": [
         -46,
         -82,
         -2
        ],
        "scale": 1,
        "scene": "<openalea.plantgl.scenegraph._pglsg.Scene object at 0x7fb5594f0470>"
       },
       "scene_IbJToxjgSPOws65EILLztgipf": {
        "drc": {},
        "position": [
         -107,
         99,
         101
        ],
        "scale": 1,
        "scene": "<openalea.plantgl.scenegraph._pglsg.Scene object at 0x7fb558e43f70>"
       },
       "scene_IfG0yDIlYRMPQt6rS1PtutmnM": {
        "drc": {},
        "position": [
         -28,
         -42,
         -110
        ],
        "scale": 1,
        "scene": "<openalea.plantgl.scenegraph._pglsg.Scene object at 0x7fb55969ee30>"
       },
       "scene_Ii1LRZIdQw4kWDnDOLyJrnA2u": {
        "drc": {},
        "position": [
         59,
         27,
         -21
        ],
        "scale": 1,
        "scene": "<openalea.plantgl.scenegraph._pglsg.Scene object at 0x7fb55920ef70>"
       },
       "scene_IkZexjSHr3oEBypP85q5xomlW": {
        "drc": {},
        "position": [
         -108,
         -6,
         -61
        ],
        "scale": 1,
        "scene": "<openalea.plantgl.scenegraph._pglsg.Scene object at 0x7fb5594ba6f0>"
       },
       "scene_InXOculZsPjBkY1DeJctKN7vz": {
        "drc": {},
        "position": [
         -30,
         57,
         52
        ],
        "scale": 1,
        "scene": "<openalea.plantgl.scenegraph._pglsg.Scene object at 0x7fb5591fc370>"
       },
       "scene_Iq5haNpO924aLGa3kbRbERWbZ": {
        "drc": {},
        "position": [
         -75,
         2,
         38
        ],
        "scale": 1,
        "scene": "<openalea.plantgl.scenegraph._pglsg.Scene object at 0x7fb559154730>"
       },
       "scene_JAn5cONs8E3VnXtdnYcvHHlGm": {
        "drc": {},
        "position": [
         -124,
         6,
         -45
        ],
        "scale": 1,
        "scene": "<openalea.plantgl.scenegraph._pglsg.Scene object at 0x7fb559457b70>"
       },
       "scene_JND4DqSXfvwa4SF0PrqQfZpdR": {
        "drc": {},
        "position": [
         32,
         124,
         47
        ],
        "scale": 1,
        "scene": "<openalea.plantgl.scenegraph._pglsg.Scene object at 0x7fb5593817b0>"
       },
       "scene_JVZCkg8Rs4faExCQG7PyPvvnO": {
        "drc": {},
        "position": [
         12,
         -61,
         34
        ],
        "scale": 1,
        "scene": "<openalea.plantgl.scenegraph._pglsg.Scene object at 0x7fb5594e8c30>"
       },
       "scene_JXgDeRQvNn4PDSwNlktCYScd4": {
        "drc": {},
        "position": [
         50,
         106,
         29
        ],
        "scale": 1,
        "scene": "<openalea.plantgl.scenegraph._pglsg.Scene object at 0x7fb559389eb0>"
       },
       "scene_JrDC5wpEG3bqgBIcdByVZy8dR": {
        "drc": {},
        "position": [
         85,
         104,
         91
        ],
        "scale": 1,
        "scene": "<openalea.plantgl.scenegraph._pglsg.Scene object at 0x7fb558db5d30>"
       },
       "scene_Ju2hTF3SYURWGJvotyxVhEi30": {
        "drc": {},
        "position": [
         54,
         -21,
         117
        ],
        "scale": 1,
        "scene": "<openalea.plantgl.scenegraph._pglsg.Scene object at 0x7fb5597f90f0>"
       },
       "scene_JwzjVEIykMTy1jYjBq79UKBTF": {
        "drc": {},
        "position": [
         98,
         -21,
         14
        ],
        "scale": 1,
        "scene": "<openalea.plantgl.scenegraph._pglsg.Scene object at 0x7fb5598e86f0>"
       },
       "scene_K7nbalEXIf2lbj9qBykTv1QZe": {
        "drc": {},
        "position": [
         -42,
         -123,
         0
        ],
        "scale": 1,
        "scene": "<openalea.plantgl.scenegraph._pglsg.Scene object at 0x7fb5598011f0>"
       },
       "scene_K7xAtr2HFcz7riRuO8UTXNk2W": {
        "drc": {},
        "position": [
         33,
         59,
         -125
        ],
        "scale": 1,
        "scene": "<openalea.plantgl.scenegraph._pglsg.Scene object at 0x7fb5595214f0>"
       },
       "scene_KS2vLT2SInwLPPH1BsO0LDo33": {
        "drc": {},
        "position": [
         -43,
         6,
         -99
        ],
        "scale": 1,
        "scene": "<openalea.plantgl.scenegraph._pglsg.Scene object at 0x7fb55997bf70>"
       },
       "scene_KSvXFh1jiHl8sRZie1VObQNlZ": {
        "drc": {},
        "position": [
         -88,
         101,
         118
        ],
        "scale": 1,
        "scene": "<openalea.plantgl.scenegraph._pglsg.Scene object at 0x7fb559658e70>"
       },
       "scene_KZyRhVg8cBT6NVV6G6rS2IkUr": {
        "drc": {},
        "position": [
         -17,
         56,
         49
        ],
        "scale": 1,
        "scene": "<openalea.plantgl.scenegraph._pglsg.Scene object at 0x7fb559672d30>"
       },
       "scene_KckW2y8ep6VQrHnobuecRY8b1": {
        "drc": {},
        "position": [
         60,
         72,
         -105
        ],
        "scale": 1,
        "scene": "<openalea.plantgl.scenegraph._pglsg.Scene object at 0x7fb558de32b0>"
       },
       "scene_Km1dm8BguGj54DNe2oNrlnSvL": {
        "drc": {},
        "position": [
         -93,
         -121,
         64
        ],
        "scale": 1,
        "scene": "<openalea.plantgl.scenegraph._pglsg.Scene object at 0x7fb558ebc430>"
       },
       "scene_KrcuVDBwrgjJ1VWM2U3xsyFXB": {
        "drc": {},
        "position": [
         67,
         -62,
         -31
        ],
        "scale": 1,
        "scene": "<openalea.plantgl.scenegraph._pglsg.Scene object at 0x7fb559770ef0>"
       },
       "scene_Krhfq55utzxyZU4smAwen4V9K": {
        "drc": {},
        "position": [
         22,
         -126,
         -112
        ],
        "scale": 1,
        "scene": "<openalea.plantgl.scenegraph._pglsg.Scene object at 0x7fb5594d8e30>"
       },
       "scene_KrxOIpqtmucZnWboFozqyLQfe": {
        "drc": {},
        "position": [
         -115,
         82,
         64
        ],
        "scale": 1,
        "scene": "<openalea.plantgl.scenegraph._pglsg.Scene object at 0x7fb55943c2b0>"
       },
       "scene_L02q2zhk2GuLNoHIs3uLfTB3K": {
        "drc": {},
        "position": [
         84,
         -27,
         12
        ],
        "scale": 1,
        "scene": "<openalea.plantgl.scenegraph._pglsg.Scene object at 0x7fb55917bf70>"
       },
       "scene_L9NYTBe8lvzRIW7EOFEMQWi0l": {
        "drc": {},
        "position": [
         -45,
         -30,
         -116
        ],
        "scale": 1,
        "scene": "<openalea.plantgl.scenegraph._pglsg.Scene object at 0x7fb5593eb2b0>"
       },
       "scene_LHXtMUiMzhww9aCLUDGuqOD7Q": {
        "drc": {},
        "position": [
         34,
         -5,
         -121
        ],
        "scale": 1,
        "scene": "<openalea.plantgl.scenegraph._pglsg.Scene object at 0x7fb559141570>"
       },
       "scene_LIUNy3uWXV4HWYaUOmL9bDj7j": {
        "drc": {},
        "position": [
         -13,
         -1,
         -68
        ],
        "scale": 1,
        "scene": "<openalea.plantgl.scenegraph._pglsg.Scene object at 0x7fb558fca8f0>"
       },
       "scene_LebIr1dHpltzcEVxcxaORDB4V": {
        "drc": {},
        "position": [
         -120,
         -62,
         20
        ],
        "scale": 1,
        "scene": "<openalea.plantgl.scenegraph._pglsg.Scene object at 0x7fb559389330>"
       },
       "scene_Lk62XzbTk2U3IAzIXJbRwiORk": {
        "drc": {},
        "position": [
         21,
         -98,
         103
        ],
        "scale": 1,
        "scene": "<openalea.plantgl.scenegraph._pglsg.Scene object at 0x7fb5598213f0>"
       },
       "scene_LkgJ35B3HJYvxGUEKPc0YGkP4": {
        "drc": {},
        "position": [
         61,
         43,
         -115
        ],
        "scale": 1,
        "scene": "<openalea.plantgl.scenegraph._pglsg.Scene object at 0x7fb559141fb0>"
       },
       "scene_LsBH0gc0Qhl9Dm1VKU7H8DPgl": {
        "drc": {},
        "position": [
         67,
         21,
         -17
        ],
        "scale": 1,
        "scene": "<openalea.plantgl.scenegraph._pglsg.Scene object at 0x7fb559781f30>"
       },
       "scene_LtOvGu2ZFDvoYh7DnkhAAG7pI": {
        "drc": {},
        "position": [
         -117,
         -75,
         -28
        ],
        "scale": 1,
        "scene": "<openalea.plantgl.scenegraph._pglsg.Scene object at 0x7fb5595f4fb0>"
       },
       "scene_M9QybQfXZmU9VAS4LAb6zJiRc": {
        "drc": {},
        "position": [
         62,
         -67,
         -77
        ],
        "scale": 1,
        "scene": "<openalea.plantgl.scenegraph._pglsg.Scene object at 0x7fb5594abc30>"
       },
       "scene_MAmPEAgBzyfN0LSAzzS25xMG8": {
        "drc": {},
        "position": [
         46,
         3,
         116
        ],
        "scale": 1,
        "scene": "<openalea.plantgl.scenegraph._pglsg.Scene object at 0x7fb5596a76f0>"
       },
       "scene_MJH4aSrfrcM7guZacZ8KUjGwM": {
        "drc": {},
        "position": [
         44,
         123,
         -120
        ],
        "scale": 1,
        "scene": "<openalea.plantgl.scenegraph._pglsg.Scene object at 0x7fb5595e4730>"
       },
       "scene_MLvagG2UR1l8nvkeqURdycAts": {
        "drc": {},
        "position": [
         -42,
         -107,
         5
        ],
        "scale": 1,
        "scene": "<openalea.plantgl.scenegraph._pglsg.Scene object at 0x7fb5590bc9f0>"
       },
       "scene_MQ2ukbuKWnHnJgezdSSfVWBdI": {
        "drc": {},
        "position": [
         103,
         45,
         57
        ],
        "scale": 1,
        "scene": "<openalea.plantgl.scenegraph._pglsg.Scene object at 0x7fb559417330>"
       },
       "scene_MSfYxmcdsCbp4MHkBoLosgpZG": {
        "drc": {},
        "position": [
         116,
         -94,
         -23
        ],
        "scale": 1,
        "scene": "<openalea.plantgl.scenegraph._pglsg.Scene object at 0x7fb55977a430>"
       },
       "scene_MZcFSFc31l1AjohiLyva4eOiR": {
        "drc": {},
        "position": [
         -62,
         -97,
         -93
        ],
        "scale": 1,
        "scene": "<openalea.plantgl.scenegraph._pglsg.Scene object at 0x7fb559171af0>"
       },
       "scene_MZeyLcdkaYRRqogN0bEq8lVcH": {
        "drc": {},
        "position": [
         -56,
         -49,
         33
        ],
        "scale": 1,
        "scene": "<openalea.plantgl.scenegraph._pglsg.Scene object at 0x7fb5595d33f0>"
       },
       "scene_MahVdHGgRlekf8lJaNzZ32VQg": {
        "drc": {},
        "position": [
         -30,
         53,
         18
        ],
        "scale": 1,
        "scene": "<openalea.plantgl.scenegraph._pglsg.Scene object at 0x7fb55981d7f0>"
       },
       "scene_MfSbQiiofOJiSGDAmczISH91z": {
        "drc": {},
        "position": [
         45,
         -44,
         8
        ],
        "scale": 1,
        "scene": "<openalea.plantgl.scenegraph._pglsg.Scene object at 0x7fb55948fbb0>"
       },
       "scene_MlTYUHZHIYycqhIsW9p9hlQK8": {
        "drc": {},
        "position": [
         0,
         -66,
         -87
        ],
        "scale": 1,
        "scene": "<openalea.plantgl.scenegraph._pglsg.Scene object at 0x7fb55943c370>"
       },
       "scene_MoovcfkfFfhzNOkHYmFXA59Pf": {
        "drc": {},
        "position": [
         46,
         103,
         80
        ],
        "scale": 1,
        "scene": "<openalea.plantgl.scenegraph._pglsg.Scene object at 0x7fb558db55f0>"
       },
       "scene_N1atgjxjyPwQrukvRmt9uNPDA": {
        "drc": {},
        "position": [
         -54,
         42,
         -30
        ],
        "scale": 1,
        "scene": "<openalea.plantgl.scenegraph._pglsg.Scene object at 0x7fb55973c370>"
       },
       "scene_N7c27qSQnaf4dp8EIkLRnGd8w": {
        "drc": {},
        "position": [
         -74,
         -41,
         -83
        ],
        "scale": 1,
        "scene": "<openalea.plantgl.scenegraph._pglsg.Scene object at 0x7fb55952fc30>"
       },
       "scene_NKp3ns5PSAOLKtqChTJhkUbfl": {
        "drc": {},
        "position": [
         12,
         72,
         2
        ],
        "scale": 1,
        "scene": "<openalea.plantgl.scenegraph._pglsg.Scene object at 0x7fb559252d70>"
       },
       "scene_NaPKhOGWfLMiBd05Q4CysId8o": {
        "drc": {},
        "position": [
         111,
         0,
         -70
        ],
        "scale": 1,
        "scene": "<openalea.plantgl.scenegraph._pglsg.Scene object at 0x7fb55977a8f0>"
       },
       "scene_Nb6jqhIIVvZ1qiR6eT5dQH2Lt": {
        "drc": {},
        "position": [
         -78,
         11,
         -48
        ],
        "scale": 1,
        "scene": "<openalea.plantgl.scenegraph._pglsg.Scene object at 0x7fb5594cd430>"
       },
       "scene_Nq6GyffFNaGoQSkUCX4bakHBR": {
        "drc": {},
        "position": [
         -64,
         47,
         -89
        ],
        "scale": 1,
        "scene": "<openalea.plantgl.scenegraph._pglsg.Scene object at 0x7fb558efb470>"
       },
       "scene_NxFxuTfXF1WUVmMdmiiypbN09": {
        "drc": {},
        "position": [
         -52,
         120,
         -95
        ],
        "scale": 1,
        "scene": "<openalea.plantgl.scenegraph._pglsg.Scene object at 0x7fb559581cf0>"
       },
       "scene_Nymj8y9pLTHRPIplJKsRw4INL": {
        "drc": {},
        "position": [
         9,
         -23,
         -101
        ],
        "scale": 1,
        "scene": "<openalea.plantgl.scenegraph._pglsg.Scene object at 0x7fb55997b8f0>"
       },
       "scene_O39t9Zf6fQyDYQ7PBBMLYKCVy": {
        "drc": {},
        "position": [
         113,
         -9,
         -37
        ],
        "scale": 1,
        "scene": "<openalea.plantgl.scenegraph._pglsg.Scene object at 0x7fb5594606f0>"
       },
       "scene_O8zHNl3TEjjpcXgRB2fuCjCFc": {
        "drc": {},
        "position": [
         51,
         -106,
         10
        ],
        "scale": 1,
        "scene": "<openalea.plantgl.scenegraph._pglsg.Scene object at 0x7fb55953d770>"
       },
       "scene_OCCqdThnOx9f9RqzyNWa9gD0r": {
        "drc": {},
        "position": [
         35,
         123,
         72
        ],
        "scale": 1,
        "scene": "<openalea.plantgl.scenegraph._pglsg.Scene object at 0x7fb559813d70>"
       },
       "scene_ODl7I2O8hckzAzka2V6LrogXi": {
        "drc": {},
        "position": [
         27,
         17,
         11
        ],
        "scale": 1,
        "scene": "<openalea.plantgl.scenegraph._pglsg.Scene object at 0x7fb558edb4f0>"
       },
       "scene_OG4HcqDxX6Q0fDnBTIyRFjTgz": {
        "drc": {},
        "position": [
         18,
         -15,
         -107
        ],
        "scale": 1,
        "scene": "<openalea.plantgl.scenegraph._pglsg.Scene object at 0x7fb559672370>"
       },
       "scene_OIsIfQYZBw1d4BmE6JZOQbRTk": {
        "drc": {},
        "position": [
         -8,
         66,
         98
        ],
        "scale": 1,
        "scene": "<openalea.plantgl.scenegraph._pglsg.Scene object at 0x7fb5590a9830>"
       },
       "scene_OXmsgSua2hvJsat6IuTY5AokC": {
        "drc": {},
        "position": [
         -83,
         12,
         -95
        ],
        "scale": 1,
        "scene": "<openalea.plantgl.scenegraph._pglsg.Scene object at 0x7fb5593d1af0>"
       },
       "scene_OkNN9qEzQHaEPQH834N2wG7eJ": {
        "drc": {},
        "position": [
         -41,
         -62,
         33
        ],
        "scale": 1,
        "scene": "<openalea.plantgl.scenegraph._pglsg.Scene object at 0x7fb55919cbb0>"
       },
       "scene_PEh3MvJeLtlgOR2sIm1sPb8ii": {
        "drc": {},
        "position": [
         -25,
         -9,
         -98
        ],
        "scale": 1,
        "scene": "<openalea.plantgl.scenegraph._pglsg.Scene object at 0x7fb5594b45b0>"
       },
       "scene_PXOzn00i7qCpYm90clMFSo12v": {
        "drc": {},
        "position": [
         24,
         32,
         117
        ],
        "scale": 1,
        "scene": "<openalea.plantgl.scenegraph._pglsg.Scene object at 0x7fb55981dd30>"
       },
       "scene_Pgynj6gx3H1dEUIwu5wfKltca": {
        "drc": {},
        "position": [
         -22,
         112,
         -99
        ],
        "scale": 1,
        "scene": "<openalea.plantgl.scenegraph._pglsg.Scene object at 0x7fb558d9bef0>"
       },
       "scene_PkREfBCQudBaLBTYTTbxpEiFn": {
        "drc": {},
        "position": [
         52,
         83,
         -60
        ],
        "scale": 1,
        "scene": "<openalea.plantgl.scenegraph._pglsg.Scene object at 0x7fb55974cb30>"
       },
       "scene_PqFBImOaNDx8ioQHQCPnGimdq": {
        "drc": {},
        "position": [
         -80,
         -38,
         -11
        ],
        "scale": 1,
        "scene": "<openalea.plantgl.scenegraph._pglsg.Scene object at 0x7fb559007870>"
       },
       "scene_Pt0nRn5LMItulSD40wIMxBJhg": {
        "drc": {},
        "position": [
         -91,
         -91,
         -72
        ],
        "scale": 1,
        "scene": "<openalea.plantgl.scenegraph._pglsg.Scene object at 0x7fb5590f3db0>"
       },
       "scene_PxXYMAhGLInbVfZXbhCDTN2N8": {
        "drc": {},
        "position": [
         116,
         60,
         -100
        ],
        "scale": 1,
        "scene": "<openalea.plantgl.scenegraph._pglsg.Scene object at 0x7fb55974cc30>"
       },
       "scene_Q4nXV3fqemW2LcqtOFkiuhknI": {
        "drc": {},
        "position": [
         44,
         58,
         -40
        ],
        "scale": 1,
        "scene": "<openalea.plantgl.scenegraph._pglsg.Scene object at 0x7fb558e56bf0>"
       },
       "scene_Q8QCR3GNAJqC6xSYKisUyRVBM": {
        "drc": {},
        "position": [
         -108,
         10,
         -77
        ],
        "scale": 1,
        "scene": "<openalea.plantgl.scenegraph._pglsg.Scene object at 0x7fb559417b70>"
       },
       "scene_Q8QRUqDgEY8dP8T2CNd0Pc7bU": {
        "drc": {},
        "position": [
         45,
         34,
         -74
        ],
        "scale": 1,
        "scene": "<openalea.plantgl.scenegraph._pglsg.Scene object at 0x7fb5591ebc30>"
       },
       "scene_QAC6miTsNEdgZiLQt2ijTGuxV": {
        "drc": {},
        "position": [
         -85,
         -10,
         44
        ],
        "scale": 1,
        "scene": "<openalea.plantgl.scenegraph._pglsg.Scene object at 0x7fb558e5f670>"
       },
       "scene_QFaTH1791exN64kjp9d0fz0Fo": {
        "drc": {},
        "position": [
         -63,
         38,
         15
        ],
        "scale": 1,
        "scene": "<openalea.plantgl.scenegraph._pglsg.Scene object at 0x7fb5595dd9f0>"
       },
       "scene_QOepfHtFyPjrb1qBXe1Wobl8H": {
        "drc": {},
        "position": [
         95,
         120,
         -8
        ],
        "scale": 1,
        "scene": "<openalea.plantgl.scenegraph._pglsg.Scene object at 0x7fb5598ccb70>"
       },
       "scene_QVa0n65QzXL7wGjLHNLIhdgyA": {
        "drc": {},
        "position": [
         -112,
         -23,
         -11
        ],
        "scale": 1,
        "scene": "<openalea.plantgl.scenegraph._pglsg.Scene object at 0x7fb55973c6f0>"
       },
       "scene_Qg9XeIF5pmpbIYM5TeebjhvBS": {
        "drc": {},
        "position": [
         51,
         -39,
         -76
        ],
        "scale": 1,
        "scene": "<openalea.plantgl.scenegraph._pglsg.Scene object at 0x7fb5596465b0>"
       },
       "scene_Qj22jiRD6ca8sG7X4GOuHF5Xe": {
        "drc": {},
        "position": [
         -15,
         -14,
         57
        ],
        "scale": 1,
        "scene": "<openalea.plantgl.scenegraph._pglsg.Scene object at 0x7fb5590704f0>"
       },
       "scene_QjlcvHCnUKJhi2S6kqUmC0hc0": {
        "drc": {},
        "position": [
         -18,
         88,
         -96
        ],
        "scale": 1,
        "scene": "<openalea.plantgl.scenegraph._pglsg.Scene object at 0x7fb558fbfd30>"
       },
       "scene_QkDNfp4GoYtOoLh9xOhYFFBAY": {
        "drc": {},
        "position": [
         20,
         -116,
         89
        ],
        "scale": 1,
        "scene": "<openalea.plantgl.scenegraph._pglsg.Scene object at 0x7fb55959e470>"
       },
       "scene_Qw2wCZ2PmR54sFpdgOM52WDu8": {
        "drc": {},
        "position": [
         8,
         111,
         50
        ],
        "scale": 1,
        "scene": "<openalea.plantgl.scenegraph._pglsg.Scene object at 0x7fb55970ed30>"
       },
       "scene_QxhPtgUSZv1i3ak7Scez6NPBQ": {
        "drc": {},
        "position": [
         38,
         -63,
         -28
        ],
        "scale": 1,
        "scene": "<openalea.plantgl.scenegraph._pglsg.Scene object at 0x7fb5597b7030>"
       },
       "scene_R1lFhFRngnHHnmP4s9gKM86ZR": {
        "drc": {},
        "position": [
         0,
         105,
         113
        ],
        "scale": 1,
        "scene": "<openalea.plantgl.scenegraph._pglsg.Scene object at 0x7fb5595ea870>"
       },
       "scene_RHcczbx6CoKxnsVtqGGzuyxpu": {
        "drc": {},
        "position": [
         -13,
         -32,
         -117
        ],
        "scale": 1,
        "scene": "<openalea.plantgl.scenegraph._pglsg.Scene object at 0x7fb5596e01f0>"
       },
       "scene_RQsKOQBZmzUiSFXot0KXmTJPI": {
        "drc": {},
        "position": [
         64,
         70,
         116
        ],
        "scale": 1,
        "scene": "<openalea.plantgl.scenegraph._pglsg.Scene object at 0x7fb5594fbf30>"
       },
       "scene_RfxT1WHmlq8Fq7B4R7odGq6mX": {
        "drc": {},
        "position": [
         12,
         81,
         81
        ],
        "scale": 1,
        "scene": "<openalea.plantgl.scenegraph._pglsg.Scene object at 0x7fb559727930>"
       },
       "scene_RjPHmKun6Bduv7ne1iOWeGKal": {
        "drc": {},
        "position": [
         -11,
         57,
         92
        ],
        "scale": 1,
        "scene": "<openalea.plantgl.scenegraph._pglsg.Scene object at 0x7fb559821fb0>"
       },
       "scene_RjcgSDEXYgYelYz34udBcF0sp": {
        "drc": {},
        "position": [
         69,
         120,
         36
        ],
        "scale": 1,
        "scene": "<openalea.plantgl.scenegraph._pglsg.Scene object at 0x7fb558d81070>"
       },
       "scene_RvgcnfENhRG59YEwZJNG5bBTf": {
        "drc": {},
        "position": [
         -79,
         -79,
         91
        ],
        "scale": 1,
        "scene": "<openalea.plantgl.scenegraph._pglsg.Scene object at 0x7fb5597defb0>"
       },
       "scene_SAJPLaaz0c1eVkYRfkMYglLtd": {
        "drc": {},
        "position": [
         13,
         61,
         1
        ],
        "scale": 1,
        "scene": "<openalea.plantgl.scenegraph._pglsg.Scene object at 0x7fb5593a4bb0>"
       },
       "scene_SDrCMAtCMEZHal34LiCyGdVpi": {
        "drc": {},
        "position": [
         42,
         64,
         39
        ],
        "scale": 1,
        "scene": "<openalea.plantgl.scenegraph._pglsg.Scene object at 0x7fb5598088f0>"
       },
       "scene_SGQg79ldXK7vjhqcE1aYt4lVo": {
        "drc": {},
        "position": [
         -78,
         -55,
         56
        ],
        "scale": 1,
        "scene": "<openalea.plantgl.scenegraph._pglsg.Scene object at 0x7fb55972f7b0>"
       },
       "scene_SMQmXIF0J6KSvhlJKUsRtIZp8": {
        "drc": {},
        "position": [
         -62,
         54,
         -105
        ],
        "scale": 1,
        "scene": "<openalea.plantgl.scenegraph._pglsg.Scene object at 0x7fb559215bb0>"
       },
       "scene_SVRilBKIcvdHhE3OZYdGv0e9Z": {
        "drc": {},
        "position": [
         -93,
         -57,
         -77
        ],
        "scale": 1,
        "scene": "<openalea.plantgl.scenegraph._pglsg.Scene object at 0x7fb55908ed30>"
       },
       "scene_SW1uGO4N6elRLtCoTkyuXl5c9": {
        "drc": {},
        "position": [
         -97,
         -37,
         -37
        ],
        "scale": 1,
        "scene": "<openalea.plantgl.scenegraph._pglsg.Scene object at 0x7fb559425670>"
       },
       "scene_SWKnEZQKMFKQIduUW18YN7pXq": {
        "drc": {},
        "position": [
         -57,
         -40,
         -87
        ],
        "scale": 1,
        "scene": "<openalea.plantgl.scenegraph._pglsg.Scene object at 0x7fb558fe35f0>"
       },
       "scene_SpUZAxHLJ6TganmzTJdaDK5ZY": {
        "drc": {},
        "position": [
         10,
         97,
         -100
        ],
        "scale": 1,
        "scene": "<openalea.plantgl.scenegraph._pglsg.Scene object at 0x7fb5596725b0>"
       },
       "scene_SskctKSd8s2wBkb8AjGdOIhYd": {
        "drc": {},
        "position": [
         -80,
         119,
         -53
        ],
        "scale": 1,
        "scene": "<openalea.plantgl.scenegraph._pglsg.Scene object at 0x7fb55913b9b0>"
       },
       "scene_SttIB1gGYJ3rV3FYsoaAME6vO": {
        "drc": {},
        "position": [
         -59,
         -98,
         -17
        ],
        "scale": 1,
        "scene": "<openalea.plantgl.scenegraph._pglsg.Scene object at 0x7fb5591cecf0>"
       },
       "scene_T1VUKHRJ2owrimpfNqzTESYJe": {
        "drc": {},
        "position": [
         -1,
         48,
         48
        ],
        "scale": 1,
        "scene": "<openalea.plantgl.scenegraph._pglsg.Scene object at 0x7fb558e3b970>"
       },
       "scene_T8inlcvY21YmchEomGzk6Pgfs": {
        "drc": {},
        "position": [
         32,
         88,
         6
        ],
        "scale": 1,
        "scene": "<openalea.plantgl.scenegraph._pglsg.Scene object at 0x7fb5596c65f0>"
       },
       "scene_TDgzRQdrIJtUc3YUO8zS0kFYY": {
        "drc": {},
        "position": [
         -96,
         70,
         108
        ],
        "scale": 1,
        "scene": "<openalea.plantgl.scenegraph._pglsg.Scene object at 0x7fb55968df30>"
       },
       "scene_TMD21h2nJmcT4N6aR7IKnIHKg": {
        "drc": {},
        "position": [
         25,
         66,
         67
        ],
        "scale": 1,
        "scene": "<openalea.plantgl.scenegraph._pglsg.Scene object at 0x7fb558d76e30>"
       },
       "scene_TRKcY6bMmXBbwduHZlJNrJtGL": {
        "drc": {},
        "position": [
         -111,
         70,
         -55
        ],
        "scale": 1,
        "scene": "<openalea.plantgl.scenegraph._pglsg.Scene object at 0x7fb5593eb0b0>"
       },
       "scene_Tbd3rkGfW59EZcFwwH6jEKVeZ": {
        "drc": {},
        "position": [
         44,
         107,
         33
        ],
        "scale": 1,
        "scene": "<openalea.plantgl.scenegraph._pglsg.Scene object at 0x7fb559084fb0>"
       },
       "scene_TuxCzYKNsEEWPI6vDKWrv61br": {
        "drc": {},
        "position": [
         123,
         122,
         73
        ],
        "scale": 1,
        "scene": "<openalea.plantgl.scenegraph._pglsg.Scene object at 0x7fb5591f27b0>"
       },
       "scene_TwFlzHxcydaAxOAnYyorapGhi": {
        "drc": {},
        "position": [
         -125,
         -8,
         -54
        ],
        "scale": 1,
        "scene": "<openalea.plantgl.scenegraph._pglsg.Scene object at 0x7fb5593a4130>"
       },
       "scene_TxVLncB3MCwVCgE2oTCJRtZS1": {
        "drc": {},
        "position": [
         43,
         122,
         -22
        ],
        "scale": 1,
        "scene": "<openalea.plantgl.scenegraph._pglsg.Scene object at 0x7fb559238330>"
       },
       "scene_UHgSqul7P8C4x9zzoFExornhl": {
        "drc": {},
        "position": [
         -102,
         26,
         20
        ],
        "scale": 1,
        "scene": "<openalea.plantgl.scenegraph._pglsg.Scene object at 0x7fb558e927b0>"
       },
       "scene_UIDws8SOOAi0kUW30diXpC3ms": {
        "drc": {},
        "position": [
         113,
         -32,
         -112
        ],
        "scale": 1,
        "scene": "<openalea.plantgl.scenegraph._pglsg.Scene object at 0x7fb5597caeb0>"
       },
       "scene_UQ7U8pygJ8lIdDDV52BGMWbL8": {
        "drc": {},
        "position": [
         -59,
         5,
         113
        ],
        "scale": 1,
        "scene": "<openalea.plantgl.scenegraph._pglsg.Scene object at 0x7fb5595783f0>"
       },
       "scene_UVQUmIyGVoT1Q6VU1gQRveQo6": {
        "drc": {},
        "position": [
         49,
         -46,
         71
        ],
        "scale": 1,
        "scene": "<openalea.plantgl.scenegraph._pglsg.Scene object at 0x7fb5593fdeb0>"
       },
       "scene_UWBRatxbyWVtTWkjMoh9Jw33y": {
        "drc": {},
        "position": [
         -88,
         49,
         -123
        ],
        "scale": 1,
        "scene": "<openalea.plantgl.scenegraph._pglsg.Scene object at 0x7fb55929eef0>"
       },
       "scene_UZXTEGaAhw3ziVca1JuxbEMWj": {
        "drc": {},
        "position": [
         -41,
         43,
         95
        ],
        "scale": 1,
        "scene": "<openalea.plantgl.scenegraph._pglsg.Scene object at 0x7fb5591c66b0>"
       },
       "scene_Ub9PAyIVvqEXkXRvlaV0gzpCg": {
        "drc": {},
        "position": [
         96,
         -90,
         -88
        ],
        "scale": 1,
        "scene": "<openalea.plantgl.scenegraph._pglsg.Scene object at 0x7fb559743770>"
       },
       "scene_Ugh0WJP8tGByHJEMcGLNIDEP0": {
        "drc": {},
        "position": [
         61,
         -42,
         25
        ],
        "scale": 1,
        "scene": "<openalea.plantgl.scenegraph._pglsg.Scene object at 0x7fb55982c3f0>"
       },
       "scene_UhUfQPMZINQtAMO6r70IYrjD8": {
        "drc": {},
        "position": [
         111,
         -16,
         62
        ],
        "scale": 1,
        "scene": "<openalea.plantgl.scenegraph._pglsg.Scene object at 0x7fb559de3a30>"
       },
       "scene_UnjP8AUDwb217Ur1UhLBppvky": {
        "drc": {},
        "position": [
         -102,
         -88,
         1
        ],
        "scale": 1,
        "scene": "<openalea.plantgl.scenegraph._pglsg.Scene object at 0x7fb558f9eb30>"
       },
       "scene_UvV7VXrGxTmsay17IoQzNkQfc": {
        "drc": {},
        "position": [
         91,
         -8,
         -52
        ],
        "scale": 1,
        "scene": "<openalea.plantgl.scenegraph._pglsg.Scene object at 0x7fb55953d330>"
       },
       "scene_VAdszh2e6SgjLgYTlzgZnYOEE": {
        "drc": {},
        "position": [
         102,
         -1,
         -89
        ],
        "scale": 1,
        "scene": "<openalea.plantgl.scenegraph._pglsg.Scene object at 0x7fb559051df0>"
       },
       "scene_VOPc1dJMSBvBmuIjBlvztE2Jl": {
        "drc": {},
        "position": [
         84,
         -60,
         92
        ],
        "scale": 1,
        "scene": "<openalea.plantgl.scenegraph._pglsg.Scene object at 0x7fb5591e0af0>"
       },
       "scene_VUPNkSOyV2XPOMZGOUi1SqlNM": {
        "drc": {},
        "position": [
         52,
         1,
         44
        ],
        "scale": 1,
        "scene": "<openalea.plantgl.scenegraph._pglsg.Scene object at 0x7fb55966aa30>"
       },
       "scene_VWyaF0qZaMa5zzRxemdetkNCl": {
        "drc": {},
        "position": [
         -67,
         -117,
         -72
        ],
        "scale": 1,
        "scene": "<openalea.plantgl.scenegraph._pglsg.Scene object at 0x7fb5593c8c30>"
       },
       "scene_VYxGB9PXfxP8lpTIrJQA9rLiP": {
        "drc": {},
        "position": [
         6,
         106,
         -92
        ],
        "scale": 1,
        "scene": "<openalea.plantgl.scenegraph._pglsg.Scene object at 0x7fb55939c930>"
       },
       "scene_VbYicYZPMQUY0OSNP06I8Facq": {
        "drc": {},
        "position": [
         48,
         -12,
         -35
        ],
        "scale": 1,
        "scene": "<openalea.plantgl.scenegraph._pglsg.Scene object at 0x7fb55a323fb0>"
       },
       "scene_VlWpRUpjjmxxP8vjzBnEShGmd": {
        "drc": {},
        "position": [
         -9,
         -94,
         107
        ],
        "scale": 1,
        "scene": "<openalea.plantgl.scenegraph._pglsg.Scene object at 0x7fb559646d30>"
       },
       "scene_VuSLPdZ19HOHtYRXyE3NjNsDd": {
        "drc": {},
        "position": [
         -91,
         41,
         0
        ],
        "scale": 1,
        "scene": "<openalea.plantgl.scenegraph._pglsg.Scene object at 0x7fb558ff5630>"
       },
       "scene_W28prTCXKrfWdyHjRxCr4Bwrx": {
        "drc": {},
        "position": [
         96,
         97,
         -91
        ],
        "scale": 1,
        "scene": "<openalea.plantgl.scenegraph._pglsg.Scene object at 0x7fb5591b53f0>"
       },
       "scene_W2ABJ22lS67ujNNJ2VBaKLt5f": {
        "drc": {},
        "position": [
         -83,
         6,
         -120
        ],
        "scale": 1,
        "scene": "<openalea.plantgl.scenegraph._pglsg.Scene object at 0x7fb5591c6d30>"
       },
       "scene_WMswvzxEEDOWAkbW3cUYE1SKk": {
        "drc": {},
        "position": [
         -53,
         -7,
         41
        ],
        "scale": 1,
        "scene": "<openalea.plantgl.scenegraph._pglsg.Scene object at 0x7fb559505ab0>"
       },
       "scene_WUqDJ4gSWcR09pjhrSBkvXGvE": {
        "drc": {},
        "position": [
         -20,
         -123,
         -38
        ],
        "scale": 1,
        "scene": "<openalea.plantgl.scenegraph._pglsg.Scene object at 0x7fb558e18970>"
       },
       "scene_WekBKEuKbWpywwRjpyJ4LH4JQ": {
        "drc": {},
        "position": [
         61,
         0,
         -101
        ],
        "scale": 1,
        "scene": "<openalea.plantgl.scenegraph._pglsg.Scene object at 0x7fb558d9b570>"
       },
       "scene_WgDHW3pwQuCRCaM47nBSHrl8k": {
        "drc": {},
        "position": [
         69,
         -41,
         -49
        ],
        "scale": 1,
        "scene": "<openalea.plantgl.scenegraph._pglsg.Scene object at 0x7fb55985c730>"
       },
       "scene_Wo4s6fUqT2DaZmH1cWSN8jOlS": {
        "drc": {},
        "position": [
         -99,
         -76,
         39
        ],
        "scale": 1,
        "scene": "<openalea.plantgl.scenegraph._pglsg.Scene object at 0x7fb5593a4d70>"
       },
       "scene_WqwIJyv0hWWVIBe31Q7QfmOCi": {
        "drc": {},
        "position": [
         -36,
         -49,
         -18
        ],
        "scale": 1,
        "scene": "<openalea.plantgl.scenegraph._pglsg.Scene object at 0x7fb5591d88b0>"
       },
       "scene_WwsdYMC6KHTvqeqIxTH25alDI": {
        "drc": {},
        "position": [
         122,
         102,
         -62
        ],
        "scale": 1,
        "scene": "<openalea.plantgl.scenegraph._pglsg.Scene object at 0x7fb558ef0170>"
       },
       "scene_XC5klObFDTCIhczqEVAXIXpDl": {
        "drc": {},
        "position": [
         -24,
         -121,
         5
        ],
        "scale": 1,
        "scene": "<openalea.plantgl.scenegraph._pglsg.Scene object at 0x7fb559034570>"
       },
       "scene_XGn6hQw2voSQlsDkTNQGaUijd": {
        "drc": {},
        "position": [
         122,
         117,
         116
        ],
        "scale": 1,
        "scene": "<openalea.plantgl.scenegraph._pglsg.Scene object at 0x7fb5594fbc70>"
       },
       "scene_YD75mj5Czli0NxamEUoiJI9Zm": {
        "drc": {},
        "position": [
         114,
         -94,
         0
        ],
        "scale": 1,
        "scene": "<openalea.plantgl.scenegraph._pglsg.Scene object at 0x7fb5596e02f0>"
       },
       "scene_YDJUhJvvO2aeSHLdf4dQjM110": {
        "drc": {},
        "position": [
         -31,
         -71,
         -59
        ],
        "scale": 1,
        "scene": "<openalea.plantgl.scenegraph._pglsg.Scene object at 0x7fb55914cb70>"
       },
       "scene_YE175TglVoMSbgUQM6yruuliG": {
        "drc": {},
        "position": [
         -10,
         -19,
         2
        ],
        "scale": 1,
        "scene": "<openalea.plantgl.scenegraph._pglsg.Scene object at 0x7fb55915d2f0>"
       },
       "scene_YJXh1HftVMdBuFy3R0LbBeozj": {
        "drc": {},
        "position": [
         -1,
         56,
         -69
        ],
        "scale": 1,
        "scene": "<openalea.plantgl.scenegraph._pglsg.Scene object at 0x7fb55910fa30>"
       },
       "scene_YVSDjwXPCULtILaL2Qiub3qQn": {
        "drc": {},
        "position": [
         93,
         -91,
         -34
        ],
        "scale": 1,
        "scene": "<openalea.plantgl.scenegraph._pglsg.Scene object at 0x7fb5590123b0>"
       },
       "scene_YdCCqg166XdizzV2lCG5I5Lzd": {
        "drc": {},
        "position": [
         -61,
         -117,
         -11
        ],
        "scale": 1,
        "scene": "<openalea.plantgl.scenegraph._pglsg.Scene object at 0x7fb558da9a30>"
       },
       "scene_Yl1mwCrUob080yYlFeRsbjD0f": {
        "drc": {},
        "position": [
         -72,
         107,
         -115
        ],
        "scale": 1,
        "scene": "<openalea.plantgl.scenegraph._pglsg.Scene object at 0x7fb55954ff70>"
       },
       "scene_Ym097reyd4Rm1EnsfssegJr05": {
        "drc": {},
        "position": [
         -43,
         -98,
         -117
        ],
        "scale": 1,
        "scene": "<openalea.plantgl.scenegraph._pglsg.Scene object at 0x7fb5593814b0>"
       },
       "scene_YyDWgukkAvjbqh4aLmmzWQhEs": {
        "drc": {},
        "position": [
         77,
         23,
         112
        ],
        "scale": 1,
        "scene": "<openalea.plantgl.scenegraph._pglsg.Scene object at 0x7fb5594e8630>"
       },
       "scene_Z0djuJVFp5XEZMA8gyRQYu2nk": {
        "drc": {},
        "position": [
         65,
         -92,
         -94
        ],
        "scale": 1,
        "scene": "<openalea.plantgl.scenegraph._pglsg.Scene object at 0x7fb5596827f0>"
       },
       "scene_Z3NOAe25COiUTAfF2ifFal6ZJ": {
        "drc": {},
        "position": [
         123,
         -111,
         21
        ],
        "scale": 1,
        "scene": "<openalea.plantgl.scenegraph._pglsg.Scene object at 0x7fb5594abdb0>"
       },
       "scene_ZDdrH1JQ4rAKygP0usdeqrIpg": {
        "drc": {},
        "position": [
         126,
         18,
         63
        ],
        "scale": 1,
        "scene": "<openalea.plantgl.scenegraph._pglsg.Scene object at 0x7fb5594333f0>"
       },
       "scene_ZR6IOl3JjUXb9CfJfv5DAJKNo": {
        "drc": {},
        "position": [
         -118,
         -15,
         101
        ],
        "scale": 1,
        "scene": "<openalea.plantgl.scenegraph._pglsg.Scene object at 0x7fb5594a0330>"
       },
       "scene_ZYO7yowrWClhZU4Z0r6OThANY": {
        "drc": {},
        "position": [
         114,
         53,
         82
        ],
        "scale": 1,
        "scene": "<openalea.plantgl.scenegraph._pglsg.Scene object at 0x7fb559377b30>"
       },
       "scene_ZdodJOCBCuxkAxzcWfrXwSY2M": {
        "drc": {},
        "position": [
         67,
         -120,
         -29
        ],
        "scale": 1,
        "scene": "<openalea.plantgl.scenegraph._pglsg.Scene object at 0x7fb558f81330>"
       },
       "scene_ZrNZHXSWLietTv1CSDjSeKerw": {
        "drc": {},
        "position": [
         -109,
         -57,
         -55
        ],
        "scale": 1,
        "scene": "<openalea.plantgl.scenegraph._pglsg.Scene object at 0x7fb559450fb0>"
       },
       "scene_ZzTiA5IQDEjmIgUcSbQ13sogE": {
        "drc": {},
        "position": [
         -102,
         61,
         -9
        ],
        "scale": 1,
        "scene": "<openalea.plantgl.scenegraph._pglsg.Scene object at 0x7fb559672930>"
       },
       "scene_a6HZiQjB2QNcwrpvmFa8RmQDq": {
        "drc": {},
        "position": [
         -44,
         -85,
         -86
        ],
        "scale": 1,
        "scene": "<openalea.plantgl.scenegraph._pglsg.Scene object at 0x7fb558d894b0>"
       },
       "scene_aBAc0Lfz4s58KtIr9ulEuDU2y": {
        "drc": {},
        "position": [
         13,
         68,
         -125
        ],
        "scale": 1,
        "scene": "<openalea.plantgl.scenegraph._pglsg.Scene object at 0x7fb558e2f7f0>"
       },
       "scene_aLqOtIkOY2RigJPORpQio4BFz": {
        "drc": {},
        "position": [
         -122,
         89,
         -22
        ],
        "scale": 1,
        "scene": "<openalea.plantgl.scenegraph._pglsg.Scene object at 0x7fb55916a3b0>"
       },
       "scene_aVVG03EFmsGEHaSZ6GGgoP8ko": {
        "drc": {},
        "position": [
         39,
         86,
         29
        ],
        "scale": 1,
        "scene": "<openalea.plantgl.scenegraph._pglsg.Scene object at 0x7fb55902baf0>"
       },
       "scene_afOrm6pXHVmRA2uN5eg5Qf9YM": {
        "drc": {},
        "position": [
         -82,
         79,
         -105
        ],
        "scale": 1,
        "scene": "<openalea.plantgl.scenegraph._pglsg.Scene object at 0x7fb558f15b70>"
       },
       "scene_alBjYDpeFmtF6EZZyMK1Qy3aW": {
        "drc": {},
        "position": [
         89,
         -80,
         -14
        ],
        "scale": 1,
        "scene": "<openalea.plantgl.scenegraph._pglsg.Scene object at 0x7fb55940cef0>"
       },
       "scene_aoQQBr1MCvS16ACituQBLTdru": {
        "drc": {},
        "position": [
         111,
         36,
         -9
        ],
        "scale": 1,
        "scene": "<openalea.plantgl.scenegraph._pglsg.Scene object at 0x7fb5590cdbf0>"
       },
       "scene_asGoIML4bdqDvTWCZ74WDzADw": {
        "drc": {},
        "position": [
         -82,
         -50,
         101
        ],
        "scale": 1,
        "scene": "<openalea.plantgl.scenegraph._pglsg.Scene object at 0x7fb558f049f0>"
       },
       "scene_asJQjjchOCYhMCuW5q58s7Q0B": {
        "drc": {},
        "position": [
         100,
         -47,
         96
        ],
        "scale": 1,
        "scene": "<openalea.plantgl.scenegraph._pglsg.Scene object at 0x7fb55954f3f0>"
       },
       "scene_asiYy3xMDJPAmjuDzLsPnhPct": {
        "drc": {},
        "position": [
         125,
         14,
         -95
        ],
        "scale": 1,
        "scene": "<openalea.plantgl.scenegraph._pglsg.Scene object at 0x7fb55981d6b0>"
       },
       "scene_atvdDaJkbcoJv3hJXZgw2SmRy": {
        "drc": {},
        "position": [
         112,
         -23,
         121
        ],
        "scale": 1,
        "scene": "<openalea.plantgl.scenegraph._pglsg.Scene object at 0x7fb559129770>"
       },
       "scene_b6hOXgGFFiA2HgFCkMRqhCwbE": {
        "drc": {},
        "position": [
         -117,
         -110,
         22
        ],
        "scale": 1,
        "scene": "<openalea.plantgl.scenegraph._pglsg.Scene object at 0x7fb559578f70>"
       },
       "scene_bNvaLD206BwQbylkcDRJGI0SI": {
        "drc": {},
        "position": [
         79,
         1,
         95
        ],
        "scale": 1,
        "scene": "<openalea.plantgl.scenegraph._pglsg.Scene object at 0x7fb5597d3530>"
       },
       "scene_bcLo3I2bqpj2pVewenxwuwywW": {
        "drc": {},
        "position": [
         -123,
         12,
         -11
        ],
        "scale": 1,
        "scene": "<openalea.plantgl.scenegraph._pglsg.Scene object at 0x7fb55981d170>"
       },
       "scene_brHaKJM6vda2AQkFvzHTjBv4Z": {
        "drc": {},
        "position": [
         35,
         28,
         99
        ],
        "scale": 1,
        "scene": "<openalea.plantgl.scenegraph._pglsg.Scene object at 0x7fb5590d7770>"
       },
       "scene_bt0FtNWhQyolHGyXgJ4CYx2td": {
        "drc": {},
        "position": [
         -53,
         28,
         71
        ],
        "scale": 1,
        "scene": "<openalea.plantgl.scenegraph._pglsg.Scene object at 0x7fb558dd2270>"
       },
       "scene_c5kpOFLbF1xAkrdIYCLcNRYd9": {
        "drc": {},
        "position": [
         -60,
         104,
         94
        ],
        "scale": 1,
        "scene": "<openalea.plantgl.scenegraph._pglsg.Scene object at 0x7fb559131e70>"
       },
       "scene_c8Z8nc8TxeC66pbU0e7aIS2oG": {
        "drc": {},
        "position": [
         46,
         -81,
         88
        ],
        "scale": 1,
        "scene": "<openalea.plantgl.scenegraph._pglsg.Scene object at 0x7fb558e9d2f0>"
       },
       "scene_c9ynxoj6RLW4rl6Tod5xGlHyS": {
        "drc": {},
        "position": [
         38,
         -93,
         75
        ],
        "scale": 1,
        "scene": "<openalea.plantgl.scenegraph._pglsg.Scene object at 0x7fb559195ef0>"
       },
       "scene_cCkbQ2OgIsNkPpB6K4L7GUuD5": {
        "drc": {},
        "position": [
         -53,
         -53,
         -74
        ],
        "scale": 1,
        "scene": "<openalea.plantgl.scenegraph._pglsg.Scene object at 0x7fb55917b670>"
       },
       "scene_cGxMUqA5mJOXDvqfCQ9JUfirE": {
        "drc": {},
        "position": [
         -88,
         27,
         82
        ],
        "scale": 1,
        "scene": "<openalea.plantgl.scenegraph._pglsg.Scene object at 0x7fb559084730>"
       },
       "scene_cY0rEpqAKvZ6DW8YB5rjVu3eZ": {
        "drc": {},
        "position": [
         103,
         39,
         44
        ],
        "scale": 1,
        "scene": "<openalea.plantgl.scenegraph._pglsg.Scene object at 0x7fb559460570>"
       },
       "scene_cbCLnU56c9xVIDUjOQG0vZyGD": {
        "drc": {},
        "position": [
         28,
         20,
         36
        ],
        "scale": 1,
        "scene": "<openalea.plantgl.scenegraph._pglsg.Scene object at 0x7fb558fb7630>"
       },
       "scene_ceqFZt7SJovYoEQsnKcWcKziR": {
        "drc": {},
        "position": [
         12,
         24,
         28
        ],
        "scale": 1,
        "scene": "<openalea.plantgl.scenegraph._pglsg.Scene object at 0x7fb55962f3f0>"
       },
       "scene_cloLK4DDIZFj83PUS0T5iPKs0": {
        "drc": {},
        "position": [
         -68,
         39,
         67
        ],
        "scale": 1,
        "scene": "<openalea.plantgl.scenegraph._pglsg.Scene object at 0x7fb55936d930>"
       },
       "scene_csoXgMmS6ZyitVEbObRDz1RoV": {
        "drc": {},
        "position": [
         -73,
         91,
         45
        ],
        "scale": 1,
        "scene": "<openalea.plantgl.scenegraph._pglsg.Scene object at 0x7fb55994b530>"
       },
       "scene_dEurHyDliY0hkK7Hgm8F8gIkq": {
        "drc": {},
        "position": [
         85,
         -40,
         60
        ],
        "scale": 1,
        "scene": "<openalea.plantgl.scenegraph._pglsg.Scene object at 0x7fb558f77830>"
       },
       "scene_dJvvG6f3MtzHikCsCqgUULlhe": {
        "drc": {},
        "position": [
         -37,
         85,
         103
        ],
        "scale": 1,
        "scene": "<openalea.plantgl.scenegraph._pglsg.Scene object at 0x7fb559de16b0>"
       },
       "scene_dOn801xfJqYjXmqllPjRdEDqQ": {
        "drc": {},
        "position": [
         87,
         2,
         28
        ],
        "scale": 1,
        "scene": "<openalea.plantgl.scenegraph._pglsg.Scene object at 0x7fb55929e4b0>"
       },
       "scene_dPsS61vfi7xnMiWNRRTXPN8HW": {
        "drc": {},
        "position": [
         78,
         -41,
         -37
        ],
        "scale": 1,
        "scene": "<openalea.plantgl.scenegraph._pglsg.Scene object at 0x7fb5595d3e30>"
       },
       "scene_dZZK2418mA7GtHVduenW8V1YL": {
        "drc": {},
        "position": [
         -8,
         23,
         3
        ],
        "scale": 1,
        "scene": "<openalea.plantgl.scenegraph._pglsg.Scene object at 0x7fb5594ab2f0>"
       },
       "scene_dqrcMF7K3k5m10JSuKQtvAdLq": {
        "drc": {},
        "position": [
         5,
         -120,
         -113
        ],
        "scale": 1,
        "scene": "<openalea.plantgl.scenegraph._pglsg.Scene object at 0x7fb5593c8930>"
       },
       "scene_drCX6Cd8nviQWSOjRK16Rcyt4": {
        "drc": {},
        "position": [
         66,
         -77,
         40
        ],
        "scale": 1,
        "scene": "<openalea.plantgl.scenegraph._pglsg.Scene object at 0x7fb5595aebf0>"
       },
       "scene_dzmOsSN7oP1g3rZMooDeMRKoS": {
        "drc": {},
        "position": [
         -85,
         122,
         106
        ],
        "scale": 1,
        "scene": "<openalea.plantgl.scenegraph._pglsg.Scene object at 0x7fb559545830>"
       },
       "scene_e68n5qBoEL6Phki8qzlIWdQ2Q": {
        "drc": {},
        "position": [
         -16,
         39,
         -31
        ],
        "scale": 1,
        "scene": "<openalea.plantgl.scenegraph._pglsg.Scene object at 0x7fb5593d9f30>"
       },
       "scene_eEf81a6oUPVqHawJQkiMCiLME": {
        "drc": {},
        "position": [
         -77,
         -88,
         -19
        ],
        "scale": 1,
        "scene": "<openalea.plantgl.scenegraph._pglsg.Scene object at 0x7fb5594475f0>"
       },
       "scene_eHXW7TauzJzQTKxP61Quz7NlA": {
        "drc": {},
        "position": [
         89,
         97,
         42
        ],
        "scale": 1,
        "scene": "<openalea.plantgl.scenegraph._pglsg.Scene object at 0x7fb558f2d2b0>"
       },
       "scene_ebL0X9YYcLm5JPsZDtHjcY257": {
        "drc": {},
        "position": [
         48,
         -15,
         -90
        ],
        "scale": 1,
        "scene": "<openalea.plantgl.scenegraph._pglsg.Scene object at 0x7fb55955e3f0>"
       },
       "scene_edYsRtFAjQfob0zKHXNm9K5bS": {
        "drc": {},
        "position": [
         16,
         -105,
         -36
        ],
        "scale": 1,
        "scene": "<openalea.plantgl.scenegraph._pglsg.Scene object at 0x7fb5595e4370>"
       },
       "scene_em4uzojMAWGnM6EVndOH4eEYi": {
        "drc": {},
        "position": [
         117,
         110,
         53
        ],
        "scale": 1,
        "scene": "<openalea.plantgl.scenegraph._pglsg.Scene object at 0x7fb559813bb0>"
       },
       "scene_eoNsGYCQGJSjUJ0aMR5NGPfz2": {
        "drc": {},
        "position": [
         -51,
         -8,
         5
        ],
        "scale": 1,
        "scene": "<openalea.plantgl.scenegraph._pglsg.Scene object at 0x7fb559390cb0>"
       },
       "scene_evlYM8zHpHopdWTGQtmTl1oV5": {
        "drc": {},
        "position": [
         -76,
         -20,
         34
        ],
        "scale": 1,
        "scene": "<openalea.plantgl.scenegraph._pglsg.Scene object at 0x7fb55940cc30>"
       },
       "scene_fFq9M6gQuuAWgPfdPQtariSls": {
        "drc": {},
        "position": [
         -107,
         66,
         -91
        ],
        "scale": 1,
        "scene": "<openalea.plantgl.scenegraph._pglsg.Scene object at 0x7fb5593c83b0>"
       },
       "scene_fJPLcGjwQqC7KimXG3brtWRCQ": {
        "drc": {},
        "position": [
         -117,
         -104,
         -82
        ],
        "scale": 1,
        "scene": "<openalea.plantgl.scenegraph._pglsg.Scene object at 0x7fb5594cd730>"
       },
       "scene_fVb1IWePD75I0rYcWtrQ6x9YU": {
        "drc": {},
        "position": [
         114,
         125,
         76
        ],
        "scale": 1,
        "scene": "<openalea.plantgl.scenegraph._pglsg.Scene object at 0x7fb558f95fb0>"
       },
       "scene_fW3wpKQ4Eit4nq6gZwrhJhtj1": {
        "drc": {},
        "position": [
         -107,
         57,
         -114
        ],
        "scale": 1,
        "scene": "<openalea.plantgl.scenegraph._pglsg.Scene object at 0x7fb5596c6e30>"
       },
       "scene_fkaEyhCnsLqBMj75DfQj80xeg": {
        "drc": {},
        "position": [
         89,
         -105,
         -63
        ],
        "scale": 1,
        "scene": "<openalea.plantgl.scenegraph._pglsg.Scene object at 0x7fb5598ba730>"
       },
       "scene_fpFHbj16antvrQcTsekXNyCNz": {
        "drc": {},
        "position": [
         -103,
         -122,
         -5
        ],
        "scale": 1,
        "scene": "<openalea.plantgl.scenegraph._pglsg.Scene object at 0x7fb5596464f0>"
       },
       "scene_fzDCXGxE68ZWSI7TR5YOUfwAd": {
        "drc": {},
        "position": [
         88,
         -51,
         -119
        ],
        "scale": 1,
        "scene": "<openalea.plantgl.scenegraph._pglsg.Scene object at 0x7fb5596e0e70>"
       },
       "scene_g0akLpoWdYfVm5NCiBQYY4t6X": {
        "drc": {},
        "position": [
         17,
         68,
         -13
        ],
        "scale": 1,
        "scene": "<openalea.plantgl.scenegraph._pglsg.Scene object at 0x7fb5595f4430>"
       },
       "scene_gJW69NaKkC2iv2O7NA5lLl2bW": {
        "drc": {},
        "position": [
         70,
         -8,
         -29
        ],
        "scale": 1,
        "scene": "<openalea.plantgl.scenegraph._pglsg.Scene object at 0x7fb558f81e70>"
       },
       "scene_gQRLolLLDxX0IplgwiIpRsDJf": {
        "drc": {},
        "position": [
         15,
         -86,
         -123
        ],
        "scale": 1,
        "scene": "<openalea.plantgl.scenegraph._pglsg.Scene object at 0x7fb5595896f0>"
       },
       "scene_gbmAb3V9KWS3oIGklwjEwl0W1": {
        "drc": {},
        "position": [
         6,
         126,
         -3
        ],
        "scale": 1,
        "scene": "<openalea.plantgl.scenegraph._pglsg.Scene object at 0x7fb558e8bc70>"
       },
       "scene_giJaA38DTRRBdnSsLuDvxMoKl": {
        "drc": {},
        "position": [
         126,
         -56,
         72
        ],
        "scale": 1,
        "scene": "<openalea.plantgl.scenegraph._pglsg.Scene object at 0x7fb5596afbb0>"
       },
       "scene_gmDBr4kV0QaO2SXKil2v4EAjs": {
        "drc": {},
        "position": [
         -38,
         0,
         -55
        ],
        "scale": 1,
        "scene": "<openalea.plantgl.scenegraph._pglsg.Scene object at 0x7fb559864ab0>"
       },
       "scene_gzx6ID6YFQB9EBHzEY7st9yC5": {
        "drc": {},
        "position": [
         -23,
         28,
         -16
        ],
        "scale": 1,
        "scene": "<openalea.plantgl.scenegraph._pglsg.Scene object at 0x7fb558f5ebb0>"
       },
       "scene_h4I3jhbAKxI2dOwfHYMaWI6Bs": {
        "drc": {},
        "position": [
         -86,
         -110,
         19
        ],
        "scale": 1,
        "scene": "<openalea.plantgl.scenegraph._pglsg.Scene object at 0x7fb559377fb0>"
       },
       "scene_hKGHnLdXBpcWQ71FoSdPyM6k2": {
        "drc": {},
        "position": [
         -121,
         0,
         118
        ],
        "scale": 1,
        "scene": "<openalea.plantgl.scenegraph._pglsg.Scene object at 0x7fb558f0e570>"
       },
       "scene_hNThfMnJRGQnD5XCKLYxO2XZd": {
        "drc": {},
        "position": [
         19,
         113,
         66
        ],
        "scale": 1,
        "scene": "<openalea.plantgl.scenegraph._pglsg.Scene object at 0x7fb558f42470>"
       },
       "scene_hO33dsjOfppF2HVuv5ZwylOYu": {
        "drc": {},
        "position": [
         4,
         -108,
         -51
        ],
        "scale": 1,
        "scene": "<openalea.plantgl.scenegraph._pglsg.Scene object at 0x7fb5596585f0>"
       },
       "scene_hPgP5gJNcxmxmLUmTBmpYbA1j": {
        "drc": {},
        "position": [
         -36,
         9,
         94
        ],
        "scale": 1,
        "scene": "<openalea.plantgl.scenegraph._pglsg.Scene object at 0x7fb5596cfc70>"
       },
       "scene_hc1IcitIfyGakhZdpHAeGHFY5": {
        "drc": {},
        "position": [
         -88,
         100,
         -43
        ],
        "scale": 1,
        "scene": "<openalea.plantgl.scenegraph._pglsg.Scene object at 0x7fb5594c3b70>"
       },
       "scene_hcLIIzDT65nmPs1BcdrsAQFNv": {
        "drc": {},
        "position": [
         2,
         125,
         37
        ],
        "scale": 1,
        "scene": "<openalea.plantgl.scenegraph._pglsg.Scene object at 0x7fb5596944f0>"
       },
       "scene_ho4v9Vh0ghfFSXsdT4DlgfbVp": {
        "drc": {},
        "position": [
         -5,
         33,
         -28
        ],
        "scale": 1,
        "scene": "<openalea.plantgl.scenegraph._pglsg.Scene object at 0x7fb55960e630>"
       },
       "scene_huEyr0QIphp3RImgvYN8dUjvU": {
        "drc": {},
        "position": [
         61,
         23,
         -3
        ],
        "scale": 1,
        "scene": "<openalea.plantgl.scenegraph._pglsg.Scene object at 0x7fb559521730>"
       },
       "scene_i0UDGUuQwNJxUuF4EBf77oA4f": {
        "drc": {},
        "position": [
         56,
         84,
         -32
        ],
        "scale": 1,
        "scene": "<openalea.plantgl.scenegraph._pglsg.Scene object at 0x7fb55923fa70>"
       },
       "scene_i92A8Tt4iiCITLDMvAsCsOnsZ": {
        "drc": {},
        "position": [
         -102,
         -106,
         -73
        ],
        "scale": 1,
        "scene": "<openalea.plantgl.scenegraph._pglsg.Scene object at 0x7fb558ef08b0>"
       },
       "scene_iLrutHxTj5nWo1gcWsmcC3rBd": {
        "drc": {},
        "position": [
         36,
         65,
         118
        ],
        "scale": 1,
        "scene": "<openalea.plantgl.scenegraph._pglsg.Scene object at 0x7fb558e4aab0>"
       },
       "scene_iO8rJIFCFbjJdnFPvEADC0ktc": {
        "drc": {},
        "position": [
         108,
         29,
         -93
        ],
        "scale": 1,
        "scene": "<openalea.plantgl.scenegraph._pglsg.Scene object at 0x7fb559474cf0>"
       },
       "scene_ihEni2rWzFSNJ6RUcepEotYGb": {
        "drc": {},
        "position": [
         101,
         81,
         -98
        ],
        "scale": 1,
        "scene": "<openalea.plantgl.scenegraph._pglsg.Scene object at 0x7fb559117fb0>"
       },
       "scene_ijJDHC0KmW0RDBaezxE3P1ocC": {
        "drc": {},
        "position": [
         -44,
         40,
         -90
        ],
        "scale": 1,
        "scene": "<openalea.plantgl.scenegraph._pglsg.Scene object at 0x7fb5596d6770>"
       },
       "scene_ipxGLwn3peCoCTwzk58WlrL5x": {
        "drc": {},
        "position": [
         12,
         -18,
         104
        ],
        "scale": 1,
        "scene": "<openalea.plantgl.scenegraph._pglsg.Scene object at 0x7fb55965f6b0>"
       },
       "scene_is7uUgmHfhYUhiDNb2tNzMJ8N": {
        "drc": {},
        "position": [
         61,
         -7,
         83
        ],
        "scale": 1,
        "scene": "<openalea.plantgl.scenegraph._pglsg.Scene object at 0x7fb5590f3270>"
       },
       "scene_iv6mmrXKjPLXWFRl6EDmTrbyA": {
        "drc": {},
        "position": [
         -74,
         112,
         14
        ],
        "scale": 1,
        "scene": "<openalea.plantgl.scenegraph._pglsg.Scene object at 0x7fb558e0fe70>"
       },
       "scene_j5sfV0yAPkpsf0w6a7pTMQeVA": {
        "drc": {},
        "position": [
         -38,
         34,
         -20
        ],
        "scale": 1,
        "scene": "<openalea.plantgl.scenegraph._pglsg.Scene object at 0x7fb5596bcaf0>"
       },
       "scene_jAsHuf3oydIgBAY1tKUQq4RZV": {
        "drc": {},
        "position": [
         -91,
         -49,
         -9
        ],
        "scale": 1,
        "scene": "<openalea.plantgl.scenegraph._pglsg.Scene object at 0x7fb558fd4f30>"
       },
       "scene_jSFPRkJY12enKVNwGlaMDAWIH": {
        "drc": {},
        "position": [
         28,
         -103,
         -50
        ],
        "scale": 1,
        "scene": "<openalea.plantgl.scenegraph._pglsg.Scene object at 0x7fb5596c6e70>"
       },
       "scene_jSptTISqUHDes8ALRfED2gUeW": {
        "drc": {},
        "position": [
         -51,
         -51,
         120
        ],
        "scale": 1,
        "scene": "<openalea.plantgl.scenegraph._pglsg.Scene object at 0x7fb55943ccb0>"
       },
       "scene_jUSpl5DhlGrmZSnxLbEhJt4rM": {
        "drc": {},
        "position": [
         8,
         -113,
         -106
        ],
        "scale": 1,
        "scene": "<openalea.plantgl.scenegraph._pglsg.Scene object at 0x7fb55985c270>"
       },
       "scene_je2Tr8ZQnXJ4FqLD8p34wi8gP": {
        "drc": {},
        "position": [
         -7,
         112,
         125
        ],
        "scale": 1,
        "scene": "<openalea.plantgl.scenegraph._pglsg.Scene object at 0x7fb5595c7230>"
       },
       "scene_jrCQyl4stqE3LzJ7DF2AtiJg0": {
        "drc": {},
        "position": [
         28,
         95,
         94
        ],
        "scale": 1,
        "scene": "<openalea.plantgl.scenegraph._pglsg.Scene object at 0x7fb55953df70>"
       },
       "scene_jrgQggGOYvjdZ7k0BiQrfxEUS": {
        "drc": {},
        "position": [
         52,
         -7,
         -30
        ],
        "scale": 1,
        "scene": "<openalea.plantgl.scenegraph._pglsg.Scene object at 0x7fb559505730>"
       },
       "scene_k8GObOVCG5MICHgERVIeFNPMI": {
        "drc": {},
        "position": [
         -31,
         -47,
         93
        ],
        "scale": 1,
        "scene": "<openalea.plantgl.scenegraph._pglsg.Scene object at 0x7fb55969eef0>"
       },
       "scene_k8uEto4INOfhIIRgUcXjww4iY": {
        "drc": {},
        "position": [
         -23,
         53,
         -123
        ],
        "scale": 1,
        "scene": "<openalea.plantgl.scenegraph._pglsg.Scene object at 0x7fb5591fcef0>"
       },
       "scene_kMK0oHyLTrQaFT29GB3k9GJX5": {
        "drc": {},
        "position": [
         -20,
         -116,
         83
        ],
        "scale": 1,
        "scene": "<openalea.plantgl.scenegraph._pglsg.Scene object at 0x7fb558f0efb0>"
       },
       "scene_kO9hDvoXjvIgI63l4cyHzmt9H": {
        "drc": {},
        "position": [
         -79,
         105,
         -93
        ],
        "scale": 1,
        "scene": "<openalea.plantgl.scenegraph._pglsg.Scene object at 0x7fb559051330>"
       },
       "scene_kP9wrZRuhUHcI6JrsKQDrYik7": {
        "drc": {},
        "position": [
         -22,
         35,
         -30
        ],
        "scale": 1,
        "scene": "<openalea.plantgl.scenegraph._pglsg.Scene object at 0x7fb5590b3ef0>"
       },
       "scene_kPDyvsG8Xlx3T6S5HjVG5BhB6": {
        "drc": {},
        "position": [
         -58,
         65,
         -5
        ],
        "scale": 1,
        "scene": "<openalea.plantgl.scenegraph._pglsg.Scene object at 0x7fb55a25f2f0>"
       },
       "scene_kRMrMruWQ2utL1a9to9aY17Uc": {
        "drc": {},
        "position": [
         -68,
         -107,
         -106
        ],
        "scale": 1,
        "scene": "<openalea.plantgl.scenegraph._pglsg.Scene object at 0x7fb559131330>"
       },
       "scene_kSXtwJoYWkFniPCCw6iqiaR12": {
        "drc": {},
        "position": [
         -46,
         74,
         119
        ],
        "scale": 1,
        "scene": "<openalea.plantgl.scenegraph._pglsg.Scene object at 0x7fb5596bc0f0>"
       },
       "scene_kTewplzIFQF7wrA06ikkH8Mn1": {
        "drc": {},
        "position": [
         -18,
         2,
         67
        ],
        "scale": 1,
        "scene": "<openalea.plantgl.scenegraph._pglsg.Scene object at 0x7fb55964de70>"
       },
       "scene_kUHgqLXMjVfG8QEsLE2DKSXoV": {
        "drc": {},
        "position": [
         54,
         -101,
         -115
        ],
        "scale": 1,
        "scene": "<openalea.plantgl.scenegraph._pglsg.Scene object at 0x7fb558dc86f0>"
       },
       "scene_kZJ560cVsI8VOZb4lPHzZtBNY": {
        "drc": {},
        "position": [
         102,
         4,
         -20
        ],
        "scale": 1,
        "scene": "<openalea.plantgl.scenegraph._pglsg.Scene object at 0x7fb558e0f670>"
       },
       "scene_kaOatlGgrmLqGTTfh6C8chVCw": {
        "drc": {},
        "position": [
         -118,
         40,
         -43
        ],
        "scale": 1,
        "scene": "<openalea.plantgl.scenegraph._pglsg.Scene object at 0x7fb559927370>"
       },
       "scene_kgQhF6FHFg2qyAizzTqS2DH0v": {
        "drc": {},
        "position": [
         -111,
         -110,
         71
        ],
        "scale": 1,
        "scene": "<openalea.plantgl.scenegraph._pglsg.Scene object at 0x7fb5593aee30>"
       },
       "scene_kluFFiirdLhjOE3M94PwHG29i": {
        "drc": {},
        "position": [
         97,
         -26,
         113
        ],
        "scale": 1,
        "scene": "<openalea.plantgl.scenegraph._pglsg.Scene object at 0x7fb55942c9b0>"
       },
       "scene_l4REfjGfd9fba9k2jRfzBjdbc": {
        "drc": {},
        "position": [
         74,
         20,
         -39
        ],
        "scale": 1,
        "scene": "<openalea.plantgl.scenegraph._pglsg.Scene object at 0x7fb559023df0>"
       },
       "scene_l9Vd6mpnykCoruirzg0PzYqD0": {
        "drc": {},
        "position": [
         -35,
         -3,
         69
        ],
        "scale": 1,
        "scene": "<openalea.plantgl.scenegraph._pglsg.Scene object at 0x7fb55984bbf0>"
       },
       "scene_lHBPCpCVAujQSxUTrNyqRFT2R": {
        "drc": {},
        "position": [
         -3,
         -47,
         104
        ],
        "scale": 1,
        "scene": "<openalea.plantgl.scenegraph._pglsg.Scene object at 0x7fb5595f46b0>"
       },
       "scene_lIEuoaHULVLjahxP8o5lOoL98": {
        "drc": {},
        "position": [
         -15,
         99,
         2
        ],
        "scale": 1,
        "scene": "<openalea.plantgl.scenegraph._pglsg.Scene object at 0x7fb559390a70>"
       },
       "scene_lK3enXoUQcGvpuzz5At3YA8bS": {
        "drc": {},
        "position": [
         58,
         -110,
         73
        ],
        "scale": 1,
        "scene": "<openalea.plantgl.scenegraph._pglsg.Scene object at 0x7fb559381870>"
       },
       "scene_lRg9O0HMS2lQLTW6cevgsnBXV": {
        "drc": {},
        "position": [
         119,
         -14,
         94
        ],
        "scale": 1,
        "scene": "<openalea.plantgl.scenegraph._pglsg.Scene object at 0x7fb558dfc5b0>"
       },
       "scene_lVQW6IAw7tkhtYPAvT7A8WBIY": {
        "drc": {},
        "position": [
         -53,
         -119,
         -92
        ],
        "scale": 1,
        "scene": "<openalea.plantgl.scenegraph._pglsg.Scene object at 0x7fb5597d3670>"
       },
       "scene_laHynhUXTAt6aLArzV6NgfEef": {
        "drc": {},
        "position": [
         -70,
         119,
         -21
        ],
        "scale": 1,
        "scene": "<openalea.plantgl.scenegraph._pglsg.Scene object at 0x7fb558f6dd30>"
       },
       "scene_liqpiZ8h81TcupbD1BOBbbde8": {
        "drc": {},
        "position": [
         87,
         54,
         44
        ],
        "scale": 1,
        "scene": "<openalea.plantgl.scenegraph._pglsg.Scene object at 0x7fb58c039d70>"
       },
       "scene_lnFweDeNfprtvp8nLKW7D9Iz9": {
        "drc": {},
        "position": [
         -57,
         -1,
         -93
        ],
        "scale": 1,
        "scene": "<openalea.plantgl.scenegraph._pglsg.Scene object at 0x7fb559801430>"
       },
       "scene_lvG4WuHBmgC83fJjumrdZxsIB": {
        "drc": {},
        "position": [
         -77,
         -91,
         -45
        ],
        "scale": 1,
        "scene": "<openalea.plantgl.scenegraph._pglsg.Scene object at 0x7fb5593a4b30>"
       },
       "scene_lxVTrhyot2lnjHp7b3AoJUO5L": {
        "drc": {},
        "position": [
         83,
         52,
         -14
        ],
        "scale": 1,
        "scene": "<openalea.plantgl.scenegraph._pglsg.Scene object at 0x7fb5593c1e30>"
       },
       "scene_lzO4OO8GMlAHKVjWy8aSzhvI8": {
        "drc": {},
        "position": [
         107,
         -19,
         76
        ],
        "scale": 1,
        "scene": "<openalea.plantgl.scenegraph._pglsg.Scene object at 0x7fb559813c70>"
       },
       "scene_mF9TCNG8T1AGv6FWhoKqGbPZw": {
        "drc": {},
        "position": [
         20,
         93,
         107
        ],
        "scale": 1,
        "scene": "<openalea.plantgl.scenegraph._pglsg.Scene object at 0x7fb5595ae370>"
       },
       "scene_mmxC9E8l3zBjnSg9Su832WXu9": {
        "drc": {},
        "position": [
         19,
         -83,
         8
        ],
        "scale": 1,
        "scene": "<openalea.plantgl.scenegraph._pglsg.Scene object at 0x7fb559012e70>"
       },
       "scene_nEhWDgNPx7evruV6Qbl5yAbeS": {
        "drc": {},
        "position": [
         -112,
         80,
         87
        ],
        "scale": 1,
        "scene": "<openalea.plantgl.scenegraph._pglsg.Scene object at 0x7fb55947d8b0>"
       },
       "scene_nGs1I3TYsH8X4U90aLGFXe22P": {
        "drc": {},
        "position": [
         94,
         12,
         -9
        ],
        "scale": 1,
        "scene": "<openalea.plantgl.scenegraph._pglsg.Scene object at 0x7fb5596c6d30>"
       },
       "scene_nHkNVfUQQOyhyQ7wsjzEyB5b6": {
        "drc": {},
        "position": [
         63,
         54,
         87
        ],
        "scale": 1,
        "scene": "<openalea.plantgl.scenegraph._pglsg.Scene object at 0x7fb55985c9b0>"
       },
       "scene_nN8VlLlfFYhLx5D6IM0PRpQnG": {
        "drc": {},
        "position": [
         37,
         -86,
         -75
        ],
        "scale": 1,
        "scene": "<openalea.plantgl.scenegraph._pglsg.Scene object at 0x7fb5593e1c70>"
       },
       "scene_nhxjru0U7INMCLM8Z27SOx2v3": {
        "drc": {},
        "position": [
         -118,
         -47,
         -38
        ],
        "scale": 1,
        "scene": "<openalea.plantgl.scenegraph._pglsg.Scene object at 0x7fb5598014b0>"
       },
       "scene_nj58TxFrK2P0xOHq1wQ01lkX5": {
        "drc": {},
        "position": [
         44,
         97,
         -99
        ],
        "scale": 1,
        "scene": "<openalea.plantgl.scenegraph._pglsg.Scene object at 0x7fb558fddaf0>"
       },
       "scene_np8GFrVweLFAr6RojvQTmAl28": {
        "drc": {},
        "position": [
         67,
         -29,
         82
        ],
        "scale": 1,
        "scene": "<openalea.plantgl.scenegraph._pglsg.Scene object at 0x7fb558e775f0>"
       },
       "scene_o1mx2a7qELdhANRsfzIC0XGjV": {
        "drc": {},
        "position": [
         109,
         -68,
         -4
        ],
        "scale": 1,
        "scene": "<openalea.plantgl.scenegraph._pglsg.Scene object at 0x7fb558d89f70>"
       },
       "scene_oKjpddM3u0mBbKzOuWT5wFAcY": {
        "drc": {},
        "position": [
         -15,
         97,
         59
        ],
        "scale": 1,
        "scene": "<openalea.plantgl.scenegraph._pglsg.Scene object at 0x7fb559425730>"
       },
       "scene_oeIwhGlMDZv3w3wQf9Kv0DOs2": {
        "drc": {},
        "position": [
         -44,
         125,
         49
        ],
        "scale": 1,
        "scene": "<openalea.plantgl.scenegraph._pglsg.Scene object at 0x7fb55997b9f0>"
       },
       "scene_ohzTd4YjRsOAq3iLC2U0C9AxH": {
        "drc": {},
        "position": [
         -112,
         -118,
         51
        ],
        "scale": 1,
        "scene": "<openalea.plantgl.scenegraph._pglsg.Scene object at 0x7fb55955e630>"
       },
       "scene_oqB1Vj0HeVQ9NMxZb3hfUMlpB": {
        "drc": {},
        "position": [
         116,
         -89,
         100
        ],
        "scale": 1,
        "scene": "<openalea.plantgl.scenegraph._pglsg.Scene object at 0x7fb558e5ffb0>"
       },
       "scene_oshwYz9mhGvb81uQCOgS0Ow9L": {
        "drc": {},
        "position": [
         -65,
         88,
         19
        ],
        "scale": 1,
        "scene": "<openalea.plantgl.scenegraph._pglsg.Scene object at 0x7fb558dfcd30>"
       },
       "scene_ouC8ChJqW4CpKdJIXyQET8loz": {
        "drc": {},
        "position": [
         28,
         -26,
         -15
        ],
        "scale": 1,
        "scene": "<openalea.plantgl.scenegraph._pglsg.Scene object at 0x7fb559594270>"
       },
       "scene_pCyfeZNvMobCpGusbPoCXjVjv": {
        "drc": {},
        "position": [
         84,
         109,
         -8
        ],
        "scale": 1,
        "scene": "<openalea.plantgl.scenegraph._pglsg.Scene object at 0x7fb559727b70>"
       },
       "scene_pS41u6frGlbRZldGvtwejFx2t": {
        "drc": {},
        "position": [
         29,
         118,
         -56
        ],
        "scale": 1,
        "scene": "<openalea.plantgl.scenegraph._pglsg.Scene object at 0x7fb559263df0>"
       },
       "scene_pVwyeyXPkNsJW9uh4tzFGFiSL": {
        "drc": {},
        "position": [
         -69,
         -20,
         121
        ],
        "scale": 1,
        "scene": "<openalea.plantgl.scenegraph._pglsg.Scene object at 0x7fb558e9ddb0>"
       },
       "scene_paBXTmwbqZLHZ2Rv0JhOp06Ja": {
        "drc": {},
        "position": [
         122,
         -76,
         26
        ],
        "scale": 1,
        "scene": "<openalea.plantgl.scenegraph._pglsg.Scene object at 0x7fb558dda830>"
       },
       "scene_pfDwL6rUNpQdteWSGj0LGxnsQ": {
        "drc": {},
        "position": [
         105,
         67,
         -71
        ],
        "scale": 1,
        "scene": "<openalea.plantgl.scenegraph._pglsg.Scene object at 0x7fb55961bdf0>"
       },
       "scene_pi8RGkza0bFLrtsR7VqT03yOI": {
        "drc": {},
        "position": [
         89,
         44,
         42
        ],
        "scale": 1,
        "scene": "<openalea.plantgl.scenegraph._pglsg.Scene object at 0x7fb5593f7530>"
       },
       "scene_q5vVfoSr4fUc3wF050YhB1Jrv": {
        "drc": {},
        "position": [
         -46,
         123,
         -108
        ],
        "scale": 1,
        "scene": "<openalea.plantgl.scenegraph._pglsg.Scene object at 0x7fb5595c7070>"
       },
       "scene_qJb7UHdcRwE64ou56dWMzXaqg": {
        "drc": {},
        "position": [
         -110,
         60,
         -43
        ],
        "scale": 1,
        "scene": "<openalea.plantgl.scenegraph._pglsg.Scene object at 0x7fb5591e0330>"
       },
       "scene_qMnRHpytuT9GLczu24nH8dDsi": {
        "drc": {},
        "position": [
         29,
         -34,
         -113
        ],
        "scale": 1,
        "scene": "<openalea.plantgl.scenegraph._pglsg.Scene object at 0x7fb558f56d30>"
       },
       "scene_qQLKXnE3mRjWS6C3bJ2vQewOa": {
        "drc": {},
        "position": [
         -87,
         -23,
         -6
        ],
        "scale": 1,
        "scene": "<openalea.plantgl.scenegraph._pglsg.Scene object at 0x7fb5599195b0>"
       },
       "scene_qa0WoM8PB4PejNSItevGEbrfK": {
        "drc": {},
        "position": [
         -8,
         -19,
         49
        ],
        "scale": 1,
        "scene": "<openalea.plantgl.scenegraph._pglsg.Scene object at 0x7fb55936d5f0>"
       },
       "scene_qnE2hxqfRqTlAZtYKB6HiMa81": {
        "drc": {},
        "position": [
         -44,
         43,
         26
        ],
        "scale": 1,
        "scene": "<openalea.plantgl.scenegraph._pglsg.Scene object at 0x7fb558e20530>"
       },
       "scene_qr9er9v0q56dQk30vjL8y2Z5x": {
        "drc": {},
        "position": [
         0,
         -87,
         -104
        ],
        "scale": 1,
        "scene": "<openalea.plantgl.scenegraph._pglsg.Scene object at 0x7fb558f21730>"
       },
       "scene_qxXKiiTZRZcsuacgmb4wgCS87": {
        "drc": {},
        "position": [
         30,
         67,
         85
        ],
        "scale": 1,
        "scene": "<openalea.plantgl.scenegraph._pglsg.Scene object at 0x7fb5595aeef0>"
       },
       "scene_qywndGTsflhvNWfym6d67iYPZ": {
        "drc": {},
        "position": [
         -68,
         -120,
         -104
        ],
        "scale": 1,
        "scene": "<openalea.plantgl.scenegraph._pglsg.Scene object at 0x7fb55920e5b0>"
       },
       "scene_r4DSACsBW2ogezsu5Ght2tWCh": {
        "drc": {},
        "position": [
         -66,
         -121,
         -73
        ],
        "scale": 1,
        "scene": "<openalea.plantgl.scenegraph._pglsg.Scene object at 0x7fb55953dd70>"
       },
       "scene_rAtJVLF9Q9EIesJBl0T6uR4MR": {
        "drc": {},
        "position": [
         29,
         -46,
         62
        ],
        "scale": 1,
        "scene": "<openalea.plantgl.scenegraph._pglsg.Scene object at 0x7fb559486470>"
       },
       "scene_rGEswbUtppltLZchYCFb80Sr9": {
        "drc": {},
        "position": [
         99,
         41,
         37
        ],
        "scale": 1,
        "scene": "<openalea.plantgl.scenegraph._pglsg.Scene object at 0x7fb5593d1cf0>"
       },
       "scene_rMm6KJoBd4JyFfaokx9CVnabQ": {
        "drc": {},
        "position": [
         -14,
         -97,
         68
        ],
        "scale": 1,
        "scene": "<openalea.plantgl.scenegraph._pglsg.Scene object at 0x7fb5593ebe30>"
       },
       "scene_rW67CQK9IsOEduNQ6TbrQ8CWG": {
        "drc": {},
        "position": [
         -42,
         -100,
         -91
        ],
        "scale": 1,
        "scene": "<openalea.plantgl.scenegraph._pglsg.Scene object at 0x7fb5595fcb70>"
       },
       "scene_rvU1eB558oTzPvExUcr2l6ZXE": {
        "drc": {},
        "position": [
         110,
         76,
         44
        ],
        "scale": 1,
        "scene": "<openalea.plantgl.scenegraph._pglsg.Scene object at 0x7fb5596af270>"
       },
       "scene_rztH4oqlY2uIKAYHm78cAFGVd": {
        "drc": {},
        "position": [
         6,
         -65,
         123
        ],
        "scale": 1,
        "scene": "<openalea.plantgl.scenegraph._pglsg.Scene object at 0x7fb5593b8c70>"
       },
       "scene_s1PpvN9OeGHX8P81t2przax0O": {
        "drc": {},
        "position": [
         -39,
         -75,
         86
        ],
        "scale": 1,
        "scene": "<openalea.plantgl.scenegraph._pglsg.Scene object at 0x7fb5599215f0>"
       },
       "scene_sE8WAVOAR8bgHtGUyXQ7k8cpq": {
        "drc": {},
        "position": [
         1,
         -43,
         -63
        ],
        "scale": 1,
        "scene": "<openalea.plantgl.scenegraph._pglsg.Scene object at 0x7fb558fa66f0>"
       },
       "scene_sc40s6nQ6kfzl8mhkXQ4ETy8I": {
        "drc": {},
        "position": [
         0,
         -53,
         -41
        ],
        "scale": 1,
        "scene": "<openalea.plantgl.scenegraph._pglsg.Scene object at 0x7fb558e43430>"
       },
       "scene_sqUIME1JEvjaLUyCfOija4EeH": {
        "drc": {},
        "position": [
         -92,
         -37,
         -66
        ],
        "scale": 1,
        "scene": "<openalea.plantgl.scenegraph._pglsg.Scene object at 0x7fb559694af0>"
       },
       "scene_ssZh41crmRmItTXPd8bKpBeFJ": {
        "drc": {},
        "position": [
         -30,
         -125,
         -6
        ],
        "scale": 1,
        "scene": "<openalea.plantgl.scenegraph._pglsg.Scene object at 0x7fb5594a0e70>"
       },
       "scene_t9h3ejC9gyucTHckDGb0e1952": {
        "drc": {},
        "position": [
         -42,
         -66,
         -19
        ],
        "scale": 1,
        "scene": "<openalea.plantgl.scenegraph._pglsg.Scene object at 0x7fb559221bb0>"
       },
       "scene_tINAqpD9X2gWftUhmyqx3lOMn": {
        "drc": {},
        "position": [
         18,
         36,
         31
        ],
        "scale": 1,
        "scene": "<openalea.plantgl.scenegraph._pglsg.Scene object at 0x7fb558f4cab0>"
       },
       "scene_tLWHK9fYvBOOf7vDRU8iUbzWS": {
        "drc": {},
        "position": [
         90,
         -49,
         116
        ],
        "scale": 1,
        "scene": "<openalea.plantgl.scenegraph._pglsg.Scene object at 0x7fb5593c1430>"
       },
       "scene_tOhrA2tSCu2wMJFlbKYJnL8Z2": {
        "drc": {},
        "position": [
         41,
         1,
         55
        ],
        "scale": 1,
        "scene": "<openalea.plantgl.scenegraph._pglsg.Scene object at 0x7fb559486ef0>"
       },
       "scene_tkkgKBwmLWOXem9lSXAQCN5z4": {
        "drc": {},
        "position": [
         90,
         -10,
         -51
        ],
        "scale": 1,
        "scene": "<openalea.plantgl.scenegraph._pglsg.Scene object at 0x7fb5594d87f0>"
       },
       "scene_tmCE5d7HxTC0LyMZQlixPNwEl": {
        "drc": {},
        "position": [
         -64,
         -116,
         -25
        ],
        "scale": 1,
        "scene": "<openalea.plantgl.scenegraph._pglsg.Scene object at 0x7fb559517830>"
       },
       "scene_tnMCISCHyFJxPLnG9G60hBWvu": {
        "drc": {},
        "position": [
         110,
         -51,
         -60
        ],
        "scale": 1,
        "scene": "<openalea.plantgl.scenegraph._pglsg.Scene object at 0x7fb558edbf30>"
       },
       "scene_u2LJtBxucLoHVndlKb36c9iZS": {
        "drc": {},
        "position": [
         65,
         88,
         -3
        ],
        "scale": 1,
        "scene": "<openalea.plantgl.scenegraph._pglsg.Scene object at 0x7fb55964dbb0>"
       },
       "scene_u682jd42J6pZz3OEFstTUs35D": {
        "drc": {},
        "position": [
         -83,
         -4,
         97
        ],
        "scale": 1,
        "scene": "<openalea.plantgl.scenegraph._pglsg.Scene object at 0x7fb5591b5f70>"
       },
       "scene_u6SPVZ73cFO9wLLwOi9G1Yz8q": {
        "drc": {},
        "position": [
         -70,
         26,
         36
        ],
        "scale": 1,
        "scene": "<openalea.plantgl.scenegraph._pglsg.Scene object at 0x7fb5594b4970>"
       },
       "scene_uBdsAciWwuBVuLaudkBTiNgnI": {
        "drc": {},
        "position": [
         -59,
         -95,
         126
        ],
        "scale": 1,
        "scene": "<openalea.plantgl.scenegraph._pglsg.Scene object at 0x7fb5598b32b0>"
       },
       "scene_uHiDPfyvxpS7X8DLjVhT9oLTf": {
        "drc": {},
        "position": [
         -53,
         65,
         9
        ],
        "scale": 1,
        "scene": "<openalea.plantgl.scenegraph._pglsg.Scene object at 0x7fb55939c630>"
       },
       "scene_uVlwpZ9DZwJvDCEkNvNK8zBqD": {
        "drc": {},
        "position": [
         57,
         -55,
         -78
        ],
        "scale": 1,
        "scene": "<openalea.plantgl.scenegraph._pglsg.Scene object at 0x7fb559105f70>"
       },
       "scene_uY7ufU5HZ9qlacTIHPRUfpeke": {
        "drc": {},
        "position": [
         -38,
         106,
         -28
        ],
        "scale": 1,
        "scene": "<openalea.plantgl.scenegraph._pglsg.Scene object at 0x7fb55950ffb0>"
       },
       "scene_uYpMwTzV7kBaxgYBuFFxG7dzC": {
        "drc": {},
        "position": [
         27,
         49,
         -66
        ],
        "scale": 1,
        "scene": "<openalea.plantgl.scenegraph._pglsg.Scene object at 0x7fb558d763f0>"
       },
       "scene_ub0A1ArSjWkSC47vN37hU82Um": {
        "drc": {},
        "position": [
         55,
         -17,
         22
        ],
        "scale": 1,
        "scene": "<openalea.plantgl.scenegraph._pglsg.Scene object at 0x7fb5590c35b0>"
       },
       "scene_ueb40zFx4nCFT3uBDYey3RoJo": {
        "drc": {},
        "position": [
         -95,
         -52,
         112
        ],
        "scale": 1,
        "scene": "<openalea.plantgl.scenegraph._pglsg.Scene object at 0x7fb559557a70>"
       },
       "scene_uhxkrVonBhIa4E63pvJVYm0PJ": {
        "drc": {},
        "position": [
         -40,
         -95,
         7
        ],
        "scale": 1,
        "scene": "<openalea.plantgl.scenegraph._pglsg.Scene object at 0x7fb5598c36b0>"
       },
       "scene_urDSQwiqrWOm2OMFsk9d0vccm": {
        "drc": {},
        "position": [
         55,
         -18,
         -7
        ],
        "scale": 1,
        "scene": "<openalea.plantgl.scenegraph._pglsg.Scene object at 0x7fb558e81fb0>"
       },
       "scene_v8eVoGczQfEwSB7NKU8cVGjzj": {
        "drc": {},
        "position": [
         -76,
         -64,
         23
        ],
        "scale": 1,
        "scene": "<openalea.plantgl.scenegraph._pglsg.Scene object at 0x7fb55940c830>"
       },
       "scene_vC5V6d32cF1h6DBsE67gw0Xkq": {
        "drc": {},
        "position": [
         117,
         -70,
         -81
        ],
        "scale": 1,
        "scene": "<openalea.plantgl.scenegraph._pglsg.Scene object at 0x7fb55936de70>"
       },
       "scene_vGT3SKUiM596DakeOspJMLYLK": {
        "drc": {},
        "position": [
         -24,
         -28,
         -31
        ],
        "scale": 1,
        "scene": "<openalea.plantgl.scenegraph._pglsg.Scene object at 0x7fb5598fc970>"
       },
       "scene_vJSsWOIJTLrzELMrpOUe0586G": {
        "drc": {},
        "position": [
         -51,
         -100,
         -112
        ],
        "scale": 1,
        "scene": "<openalea.plantgl.scenegraph._pglsg.Scene object at 0x7fb5595dd730>"
       },
       "scene_vLUtHp65vE9MBKHG8HZXrMX7n": {
        "drc": {},
        "position": [
         73,
         0,
         -47
        ],
        "scale": 1,
        "scene": "<openalea.plantgl.scenegraph._pglsg.Scene object at 0x7fb559821770>"
       },
       "scene_vcrsWcizFixi6KTJRjQRKvwc8": {
        "drc": {},
        "position": [
         -106,
         3,
         -63
        ],
        "scale": 1,
        "scene": "<openalea.plantgl.scenegraph._pglsg.Scene object at 0x7fb5597d3bf0>"
       },
       "scene_vdVQlgraiL4Gm0yi19vDudtpK": {
        "drc": {},
        "position": [
         117,
         24,
         -3
        ],
        "scale": 1,
        "scene": "<openalea.plantgl.scenegraph._pglsg.Scene object at 0x7fb55946a5b0>"
       },
       "scene_vkkHDRdCt9dkuLeas9CltHY9Z": {
        "drc": {},
        "position": [
         -2,
         -27,
         -9
        ],
        "scale": 1,
        "scene": "<openalea.plantgl.scenegraph._pglsg.Scene object at 0x7fb5597af5f0>"
       },
       "scene_w1qauBBhNEgnlxmtcYE4zEB76": {
        "drc": {},
        "position": [
         -11,
         -98,
         89
        ],
        "scale": 1,
        "scene": "<openalea.plantgl.scenegraph._pglsg.Scene object at 0x7fb5594fb5f0>"
       },
       "scene_w27QrkrTAYfQgMtdQ4m50RWBH": {
        "drc": {},
        "position": [
         -103,
         -91,
         51
        ],
        "scale": 1,
        "scene": "<openalea.plantgl.scenegraph._pglsg.Scene object at 0x7fb55968d3b0>"
       },
       "scene_wDWqDy31eTpu3vmXCdJpk146I": {
        "drc": {},
        "position": [
         0,
         -93,
         -106
        ],
        "scale": 1,
        "scene": "<openalea.plantgl.scenegraph._pglsg.Scene object at 0x7fb559795730>"
       },
       "scene_wZ36EaBFfzo2lG9SSCSUWpe76": {
        "drc": {},
        "position": [
         96,
         -32,
         -92
        ],
        "scale": 1,
        "scene": "<openalea.plantgl.scenegraph._pglsg.Scene object at 0x7fb5595fc830>"
       },
       "scene_wawJVawesvBsVSbZOL00BcHKx": {
        "drc": {},
        "position": [
         119,
         -119,
         6
        ],
        "scale": 1,
        "scene": "<openalea.plantgl.scenegraph._pglsg.Scene object at 0x7fb5595786f0>"
       },
       "scene_x5EIh49Xi8CI3H4EY7C3u0t0P": {
        "drc": {},
        "position": [
         -80,
         38,
         -93
        ],
        "scale": 1,
        "scene": "<openalea.plantgl.scenegraph._pglsg.Scene object at 0x7fb558f2de30>"
       },
       "scene_x6H9LnYQpAR2UYS2USFieKkqS": {
        "drc": {},
        "position": [
         113,
         67,
         17
        ],
        "scale": 1,
        "scene": "<openalea.plantgl.scenegraph._pglsg.Scene object at 0x7fb558e05bb0>"
       },
       "scene_xBXP8wMS2GozPS5KYF4JJgehm": {
        "drc": {},
        "position": [
         125,
         88,
         -116
        ],
        "scale": 1,
        "scene": "<openalea.plantgl.scenegraph._pglsg.Scene object at 0x7fb55922e770>"
       },
       "scene_xNUCFywFjP9QGbv1Jb8ectKpp": {
        "drc": {},
        "position": [
         -63,
         -26,
         60
        ],
        "scale": 1,
        "scene": "<openalea.plantgl.scenegraph._pglsg.Scene object at 0x7fb5594862b0>"
       },
       "scene_xOgZJlf1vHEG3krJz1XKAxEGL": {
        "drc": {},
        "position": [
         -30,
         -7,
         -97
        ],
        "scale": 1,
        "scene": "<openalea.plantgl.scenegraph._pglsg.Scene object at 0x7fb559589870>"
       },
       "scene_xY5Z9ZI3XgPDz0riDu7zSp3lB": {
        "drc": {},
        "position": [
         82,
         -65,
         124
        ],
        "scale": 1,
        "scene": "<openalea.plantgl.scenegraph._pglsg.Scene object at 0x7fb559496bb0>"
       },
       "scene_xc6wlZAwBxdhk8t4BYmnNrW0v": {
        "drc": {},
        "position": [
         119,
         0,
         -93
        ],
        "scale": 1,
        "scene": "<openalea.plantgl.scenegraph._pglsg.Scene object at 0x7fb55970e470>"
       },
       "scene_xsxhUoUwNuzp4sRcqWmkPn8bL": {
        "drc": {},
        "position": [
         -116,
         -25,
         44
        ],
        "scale": 1,
        "scene": "<openalea.plantgl.scenegraph._pglsg.Scene object at 0x7fb5593c1d30>"
       },
       "scene_y3Ii97EksK8F3PGJXWcWIBOsj": {
        "drc": {},
        "position": [
         49,
         -117,
         29
        ],
        "scale": 1,
        "scene": "<openalea.plantgl.scenegraph._pglsg.Scene object at 0x7fb55936d230>"
       },
       "scene_y8AgBdkhnA1DNAkd1S1yFI8kP": {
        "drc": {},
        "position": [
         -124,
         -22,
         3
        ],
        "scale": 1,
        "scene": "<openalea.plantgl.scenegraph._pglsg.Scene object at 0x7fb55946ad30>"
       },
       "scene_yJ33BThIK1jtx9Om38jwbsFoj": {
        "drc": {},
        "position": [
         -78,
         -84,
         -71
        ],
        "scale": 1,
        "scene": "<openalea.plantgl.scenegraph._pglsg.Scene object at 0x7fb5590978f0>"
       },
       "scene_yJe5CDtDn2oJsqhYkE0SsYXro": {
        "drc": {},
        "position": [
         -102,
         96,
         60
        ],
        "scale": 1,
        "scene": "<openalea.plantgl.scenegraph._pglsg.Scene object at 0x7fb558faeb70>"
       },
       "scene_yfaL1hjGgNG3O16APLNQQWZAv": {
        "drc": {},
        "position": [
         -84,
         -126,
         -20
        ],
        "scale": 1,
        "scene": "<openalea.plantgl.scenegraph._pglsg.Scene object at 0x7fb559743330>"
       },
       "scene_yilUSoWJL83rZbivvHeNPo4LC": {
        "drc": {},
        "position": [
         71,
         21,
         19
        ],
        "scale": 1,
        "scene": "<openalea.plantgl.scenegraph._pglsg.Scene object at 0x7fb559629a70>"
       },
       "scene_yr1FkoHN5yMAsG1bbGMnYZWmL": {
        "drc": {},
        "position": [
         88,
         39,
         16
        ],
        "scale": 1,
        "scene": "<openalea.plantgl.scenegraph._pglsg.Scene object at 0x7fb5593d93b0>"
       },
       "scene_yvSm47PwIr6Jc4k9PEOJuCvRK": {
        "drc": {},
        "position": [
         38,
         -104,
         1
        ],
        "scale": 1,
        "scene": "<openalea.plantgl.scenegraph._pglsg.Scene object at 0x7fb559496770>"
       },
       "scene_z9qdK70CuLSiwxgP5ACXHAu97": {
        "drc": {},
        "position": [
         4,
         38,
         -64
        ],
        "scale": 1,
        "scene": "<openalea.plantgl.scenegraph._pglsg.Scene object at 0x7fb558de9ab0>"
       },
       "scene_zI7bypJj690rlpDkxSPcVUZzu": {
        "drc": {},
        "position": [
         -90,
         68,
         -48
        ],
        "scale": 1,
        "scene": "<openalea.plantgl.scenegraph._pglsg.Scene object at 0x7fb55969e5f0>"
       },
       "scene_zNSHzG006ps3KnZWELj10NyD4": {
        "drc": {},
        "position": [
         110,
         -32,
         83
        ],
        "scale": 1,
        "scene": "<openalea.plantgl.scenegraph._pglsg.Scene object at 0x7fb559063fb0>"
       },
       "scene_zRBkOrhzJma3ZVMYjbgg5YYDI": {
        "drc": {},
        "position": [
         118,
         89,
         -107
        ],
        "scale": 1,
        "scene": "<openalea.plantgl.scenegraph._pglsg.Scene object at 0x7fb558ea5370>"
       },
       "scene_zUVKQGqGUneK8DlvWDuwk8TV6": {
        "drc": {},
        "position": [
         77,
         80,
         38
        ],
        "scale": 1,
        "scene": "<openalea.plantgl.scenegraph._pglsg.Scene object at 0x7fb55962fe30>"
       },
       "scene_zUZJfa6XKsf07KgCMyg6gd1Md": {
        "drc": {},
        "position": [
         -52,
         -101,
         51
        ],
        "scale": 1,
        "scene": "<openalea.plantgl.scenegraph._pglsg.Scene object at 0x7fb55907db70>"
       },
       "scene_zaLtFBbMyPMmtv2opacU8u780": {
        "drc": {},
        "position": [
         69,
         -69,
         -58
        ],
        "scale": 1,
        "scene": "<openalea.plantgl.scenegraph._pglsg.Scene object at 0x7fb5593908f0>"
       },
       "scene_zfPQEEkGGk3BqutyQMMqAGEuC": {
        "drc": {},
        "position": [
         -37,
         -33,
         84
        ],
        "scale": 1,
        "scene": "<openalea.plantgl.scenegraph._pglsg.Scene object at 0x7fb5593c15b0>"
       },
       "scene_zfhIuQgcp2JPRmPUOYiaxGtOL": {
        "drc": {},
        "position": [
         50,
         33,
         -73
        ],
        "scale": 1,
        "scene": "<openalea.plantgl.scenegraph._pglsg.Scene object at 0x7fb558ee43f0>"
       },
       "size_display": [
        400,
        300
       ],
       "size_world": [
        255,
        255,
        255
       ]
      }
     },
     "ec3ac27725494b0984fccb42e1b76a2e": {
      "buffers": [
       {
        "data": "",
        "encoding": "base64",
        "path": [
         "scene",
         "drc"
        ]
       }
      ],
      "model_module": "pgljupyter",
      "model_module_version": "^0.1.0",
      "model_name": "SceneWidgetModel",
      "state": {
       "_model_module_version": "^0.1.0",
       "_view_module_version": "^0.1.0",
       "axes_helper": false,
       "layout": "IPY_MODEL_8b72c916bf8542f9939394da3cb0492d",
       "mesh_compression": 10,
       "scene": {
        "drc": {},
        "position": [
         0,
         0,
         0
        ],
        "scale": 1,
        "scene": "<openalea.plantgl.scenegraph._pglsg.Scene object at 0x7fb58c039470>"
       },
       "scene_0IdSqEJyiPRxwvtwmlcc0opn2": {
        "drc": {},
        "position": [
         85,
         80,
         55
        ],
        "scale": 1,
        "scene": "<openalea.plantgl.scenegraph._pglsg.Scene object at 0x7fb55978be70>"
       },
       "scene_0L8hhBSn1WuPoEcFN9KssqcLo": {
        "drc": {},
        "position": [
         -113,
         49,
         24
        ],
        "scale": 1,
        "scene": "<openalea.plantgl.scenegraph._pglsg.Scene object at 0x7fb5597ed8b0>"
       },
       "scene_0aTLcFiUMLRfrEE9PCexNE9Ld": {
        "drc": {},
        "position": [
         -50,
         -59,
         82
        ],
        "scale": 1,
        "scene": "<openalea.plantgl.scenegraph._pglsg.Scene object at 0x7fb55979eaf0>"
       },
       "scene_0m7oenzSVwmA57JYrbNT38IuI": {
        "drc": {},
        "position": [
         23,
         -10,
         -49
        ],
        "scale": 1,
        "scene": "<openalea.plantgl.scenegraph._pglsg.Scene object at 0x7fb55984b8b0>"
       },
       "scene_137tmOs6J3vGht8NF68hSujIf": {
        "drc": {},
        "position": [
         51,
         -38,
         -73
        ],
        "scale": 1,
        "scene": "<openalea.plantgl.scenegraph._pglsg.Scene object at 0x7fb559767970>"
       },
       "scene_1N6AtGq5FkQdFAR5aHUnFaLcs": {
        "drc": {},
        "position": [
         11,
         83,
         81
        ],
        "scale": 1,
        "scene": "<openalea.plantgl.scenegraph._pglsg.Scene object at 0x7fb55974cbf0>"
       },
       "scene_1PG7uK29jzDOFBqa7stmcEsNa": {
        "drc": {},
        "position": [
         -105,
         49,
         -70
        ],
        "scale": 1,
        "scene": "<openalea.plantgl.scenegraph._pglsg.Scene object at 0x7fb559909bb0>"
       },
       "scene_1ZWV3b4OwcSBxBHkScnX7QPBs": {
        "drc": {},
        "position": [
         87,
         -6,
         -26
        ],
        "scale": 1,
        "scene": "<openalea.plantgl.scenegraph._pglsg.Scene object at 0x7fb5599c9030>"
       },
       "scene_1zrKA5uIGy9QBQBXYsBNJqnl3": {
        "drc": {},
        "position": [
         59,
         17,
         -2
        ],
        "scale": 1,
        "scene": "<openalea.plantgl.scenegraph._pglsg.Scene object at 0x7fb55973c9b0>"
       },
       "scene_2XQ8jLgkjTJEkrTdeuIwvSyeH": {
        "drc": {},
        "position": [
         18,
         -116,
         29
        ],
        "scale": 1,
        "scene": "<openalea.plantgl.scenegraph._pglsg.Scene object at 0x7fb559870ab0>"
       },
       "scene_2qdxPdq96CltTxu7TLSYlJn3E": {
        "drc": {},
        "position": [
         88,
         -83,
         -77
        ],
        "scale": 1,
        "scene": "<openalea.plantgl.scenegraph._pglsg.Scene object at 0x7fb5598cc530>"
       },
       "scene_377a3XYIx9etixsTqXgvzwA7q": {
        "drc": {},
        "position": [
         53,
         -65,
         -110
        ],
        "scale": 1,
        "scene": "<openalea.plantgl.scenegraph._pglsg.Scene object at 0x7fb55995efb0>"
       },
       "scene_3Epz9sxsl2OzyHUvAdiM5z20B": {
        "drc": {},
        "position": [
         -13,
         89,
         98
        ],
        "scale": 1,
        "scene": "<openalea.plantgl.scenegraph._pglsg.Scene object at 0x7fb5598cc7f0>"
       },
       "scene_3Wvsj7919ctkzonQpwxUq6oqw": {
        "drc": {},
        "position": [
         -51,
         112,
         88
        ],
        "scale": 1,
        "scene": "<openalea.plantgl.scenegraph._pglsg.Scene object at 0x7fb559813830>"
       },
       "scene_40z3YuBqRAIkMlNYK88xQuwhy": {
        "drc": {},
        "position": [
         67,
         -16,
         21
        ],
        "scale": 1,
        "scene": "<openalea.plantgl.scenegraph._pglsg.Scene object at 0x7fb559939730>"
       },
       "scene_4QuAfXGQnhwCJ1vapqkyPmA9N": {
        "drc": {},
        "position": [
         -125,
         111,
         68
        ],
        "scale": 1,
        "scene": "<openalea.plantgl.scenegraph._pglsg.Scene object at 0x7fb5599212f0>"
       },
       "scene_4ZwRRlp8t9zBwgszPSo44pPb4": {
        "drc": {},
        "position": [
         99,
         -8,
         23
        ],
        "scale": 1,
        "scene": "<openalea.plantgl.scenegraph._pglsg.Scene object at 0x7fb55981df70>"
       },
       "scene_4nDMFRO9kCGAPU3LKuKRFZDfa": {
        "drc": {},
        "position": [
         -20,
         -64,
         102
        ],
        "scale": 1,
        "scene": "<openalea.plantgl.scenegraph._pglsg.Scene object at 0x7fb559de28f0>"
       },
       "scene_5QTgkvXE0nQJPcPcRXeZ2xpt4": {
        "drc": {},
        "position": [
         111,
         82,
         -102
        ],
        "scale": 1,
        "scene": "<openalea.plantgl.scenegraph._pglsg.Scene object at 0x7fb58e8b4330>"
       },
       "scene_5euo2HKsUQlQXATMEaQ4tG5w9": {
        "drc": {},
        "position": [
         58,
         123,
         -12
        ],
        "scale": 1,
        "scene": "<openalea.plantgl.scenegraph._pglsg.Scene object at 0x7fb55985cb70>"
       },
       "scene_5kFhDwV93SjUQfxgCtZFuRQjB": {
        "drc": {},
        "position": [
         -63,
         81,
         58
        ],
        "scale": 1,
        "scene": "<openalea.plantgl.scenegraph._pglsg.Scene object at 0x7fb559919630>"
       },
       "scene_5uMPM8eUK6JwcbHimeNPr7pp2": {
        "drc": {},
        "position": [
         47,
         -33,
         57
        ],
        "scale": 1,
        "scene": "<openalea.plantgl.scenegraph._pglsg.Scene object at 0x7fb55982ca30>"
       },
       "scene_69WRtwEQiWUWy9thuGWsPRTBa": {
        "drc": {},
        "position": [
         -47,
         -89,
         -93
        ],
        "scale": 1,
        "scene": "<openalea.plantgl.scenegraph._pglsg.Scene object at 0x7fb559957df0>"
       },
       "scene_6FQJ2FCNMiCNN2vMJpCDWeJdC": {
        "drc": {},
        "position": [
         61,
         62,
         117
        ],
        "scale": 1,
        "scene": "<openalea.plantgl.scenegraph._pglsg.Scene object at 0x7fb5599b4030>"
       },
       "scene_6Gwgw8GiWAYhsHhXqiqqGEFbv": {
        "drc": {},
        "position": [
         -80,
         13,
         95
        ],
        "scale": 1,
        "scene": "<openalea.plantgl.scenegraph._pglsg.Scene object at 0x7fb5597c2430>"
       },
       "scene_6Zkf2hkrPhIkE1ScG6vr9Tp18": {
        "drc": {},
        "position": [
         114,
         -70,
         79
        ],
        "scale": 1,
        "scene": "<openalea.plantgl.scenegraph._pglsg.Scene object at 0x7fb5599273b0>"
       },
       "scene_75kj9wbHRe2ZrDmSRQMgwWIbz": {
        "drc": {},
        "position": [
         92,
         100,
         29
        ],
        "scale": 1,
        "scene": "<openalea.plantgl.scenegraph._pglsg.Scene object at 0x7fb5597d36f0>"
       },
       "scene_7Baj9S39ixb04ByM7X6SAjXCI": {
        "drc": {},
        "position": [
         34,
         -6,
         26
        ],
        "scale": 1,
        "scene": "<openalea.plantgl.scenegraph._pglsg.Scene object at 0x7fb5599b40f0>"
       },
       "scene_7DH12TCVTbpsaJW7JeECh2yhL": {
        "drc": {},
        "position": [
         65,
         58,
         -51
        ],
        "scale": 1,
        "scene": "<openalea.plantgl.scenegraph._pglsg.Scene object at 0x7fb5597b72b0>"
       },
       "scene_7RSAJVrdBfVRNcc7I1LWOE7tO": {
        "drc": {},
        "position": [
         68,
         -5,
         75
        ],
        "scale": 1,
        "scene": "<openalea.plantgl.scenegraph._pglsg.Scene object at 0x7fb559de3db0>"
       },
       "scene_7iPasFPkSVYujLsmkBv9gS8ki": {
        "drc": {},
        "position": [
         123,
         -100,
         -65
        ],
        "scale": 1,
        "scene": "<openalea.plantgl.scenegraph._pglsg.Scene object at 0x7fb559868a30>"
       },
       "scene_8Jjintccp3kESKe1Wg4MIu3jB": {
        "drc": {},
        "position": [
         -61,
         43,
         76
        ],
        "scale": 1,
        "scene": "<openalea.plantgl.scenegraph._pglsg.Scene object at 0x7fb559795970>"
       },
       "scene_8eJqKk72IwMb3YPsI4EmKzuz7": {
        "drc": {},
        "position": [
         59,
         74,
         -16
        ],
        "scale": 1,
        "scene": "<openalea.plantgl.scenegraph._pglsg.Scene object at 0x7fb5597ede70>"
       },
       "scene_8p3DunN9YoJqKvPhYdy0dShBz": {
        "drc": {},
        "position": [
         -21,
         -86,
         -33
        ],
        "scale": 1,
        "scene": "<openalea.plantgl.scenegraph._pglsg.Scene object at 0x7fb5598ccdb0>"
       },
       "scene_8zq7TWGZXV9R1XpUfm7zrhxkE": {
        "drc": {},
        "position": [
         -74,
         0,
         2
        ],
        "scale": 1,
        "scene": "<openalea.plantgl.scenegraph._pglsg.Scene object at 0x7fb5599db870>"
       },
       "scene_9aGTST2tb0nNsaDB3u8sfydNi": {
        "drc": {},
        "position": [
         98,
         -60,
         -15
        ],
        "scale": 1,
        "scene": "<openalea.plantgl.scenegraph._pglsg.Scene object at 0x7fb5597f99f0>"
       },
       "scene_9w8HYln2W2mSx1Hkg1rRGnR4E": {
        "drc": {},
        "position": [
         55,
         -92,
         106
        ],
        "scale": 1,
        "scene": "<openalea.plantgl.scenegraph._pglsg.Scene object at 0x7fb55979e530>"
       },
       "scene_A1rrQEy0Uf3ZC861arlfbSUYM": {
        "drc": {},
        "position": [
         -23,
         17,
         -98
        ],
        "scale": 1,
        "scene": "<openalea.plantgl.scenegraph._pglsg.Scene object at 0x7fb55990f530>"
       },
       "scene_AN6JlSe0UtUcSpgDaYSOyVYmU": {
        "drc": {},
        "position": [
         3,
         35,
         115
        ],
        "scale": 1,
        "scene": "<openalea.plantgl.scenegraph._pglsg.Scene object at 0x7fb5598ba4b0>"
       },
       "scene_Ao4FwkWftCUNNdd3nAa6GEUnh": {
        "drc": {},
        "position": [
         -114,
         -115,
         17
        ],
        "scale": 1,
        "scene": "<openalea.plantgl.scenegraph._pglsg.Scene object at 0x7fb5598dfab0>"
       },
       "scene_B9TgoUwa1l8ewQRGCHAtEDlMF": {
        "drc": {},
        "position": [
         101,
         106,
         66
        ],
        "scale": 1,
        "scene": "<openalea.plantgl.scenegraph._pglsg.Scene object at 0x7fb55992ecf0>"
       },
       "scene_BCTMKQZlp3HYQUFvHkthc3ReK": {
        "drc": {},
        "position": [
         95,
         -66,
         25
        ],
        "scale": 1,
        "scene": "<openalea.plantgl.scenegraph._pglsg.Scene object at 0x7fb5598549f0>"
       },
       "scene_BQ258SwGHzLlTCYDhKe7hvGg1": {
        "drc": {},
        "position": [
         -58,
         71,
         119
        ],
        "scale": 1,
        "scene": "<openalea.plantgl.scenegraph._pglsg.Scene object at 0x7fb55995ea70>"
       },
       "scene_BSbX3m9mmwhZOgINfMt61HiOS": {
        "drc": {},
        "position": [
         -24,
         -54,
         50
        ],
        "scale": 1,
        "scene": "<openalea.plantgl.scenegraph._pglsg.Scene object at 0x7fb5598d5c70>"
       },
       "scene_BTEQNh0YtMN8cyJvkA1voZehv": {
        "drc": {},
        "position": [
         27,
         63,
         90
        ],
        "scale": 1,
        "scene": "<openalea.plantgl.scenegraph._pglsg.Scene object at 0x7fb55994be30>"
       },
       "scene_BccF1S2YRtfDGVGKh6YBvx7Wu": {
        "drc": {},
        "position": [
         85,
         -107,
         -67
        ],
        "scale": 1,
        "scene": "<openalea.plantgl.scenegraph._pglsg.Scene object at 0x7fb559839bb0>"
       },
       "scene_BrzRtTkU51jzLwViCY27C2KRE": {
        "drc": {},
        "position": [
         -47,
         -15,
         42
        ],
        "scale": 1,
        "scene": "<openalea.plantgl.scenegraph._pglsg.Scene object at 0x7fb559868db0>"
       },
       "scene_CBBCmWU0Dz8MdBsoBkHf61JTf": {
        "drc": {},
        "position": [
         -65,
         21,
         37
        ],
        "scale": 1,
        "scene": "<openalea.plantgl.scenegraph._pglsg.Scene object at 0x7fb559927db0>"
       },
       "scene_CXPa59MIGKg5PJqSuRAIizUCA": {
        "drc": {},
        "position": [
         53,
         -53,
         60
        ],
        "scale": 1,
        "scene": "<openalea.plantgl.scenegraph._pglsg.Scene object at 0x7fb559927d70>"
       },
       "scene_CeLrOlM7E5D15tdSvjqaTChsK": {
        "drc": {},
        "position": [
         66,
         21,
         3
        ],
        "scale": 1,
        "scene": "<openalea.plantgl.scenegraph._pglsg.Scene object at 0x7fb559808c70>"
       },
       "scene_Cl5w8WskwWqDSfmZbcfTdz5lw": {
        "drc": {},
        "position": [
         -119,
         32,
         -51
        ],
        "scale": 1,
        "scene": "<openalea.plantgl.scenegraph._pglsg.Scene object at 0x7fb5599c2e30>"
       },
       "scene_D0L2rvipCdE6KAvNck81h1IaV": {
        "drc": {},
        "position": [
         -121,
         37,
         -72
        ],
        "scale": 1,
        "scene": "<openalea.plantgl.scenegraph._pglsg.Scene object at 0x7fb559909d30>"
       },
       "scene_D54XBdwkDi8nSH9DM4sJXhToR": {
        "drc": {},
        "position": [
         -86,
         -48,
         77
        ],
        "scale": 1,
        "scene": "<openalea.plantgl.scenegraph._pglsg.Scene object at 0x7fb55994b970>"
       },
       "scene_DAvlI74haXcQe8WXqQHcffDOv": {
        "drc": {},
        "position": [
         -55,
         -35,
         -35
        ],
        "scale": 1,
        "scene": "<openalea.plantgl.scenegraph._pglsg.Scene object at 0x7fb5599c2c30>"
       },
       "scene_Dfv2dp720Rx31puC0PcPbFlB3": {
        "drc": {},
        "position": [
         -79,
         -53,
         -68
        ],
        "scale": 1,
        "scene": "<openalea.plantgl.scenegraph._pglsg.Scene object at 0x7fb5599198f0>"
       },
       "scene_EHWiSH4OABRIPpUIpLtzyURsZ": {
        "drc": {},
        "position": [
         -70,
         -47,
         -110
        ],
        "scale": 1,
        "scene": "<openalea.plantgl.scenegraph._pglsg.Scene object at 0x7fb5598cc5b0>"
       },
       "scene_EJKY3J4luToVuCrTZOkdWiSHM": {
        "drc": {},
        "position": [
         -91,
         103,
         -9
        ],
        "scale": 1,
        "scene": "<openalea.plantgl.scenegraph._pglsg.Scene object at 0x7fb55997b470>"
       },
       "scene_EShfaTCsQ4NC8qA2rQbzFGuKe": {
        "drc": {},
        "position": [
         30,
         73,
         -110
        ],
        "scale": 1,
        "scene": "<openalea.plantgl.scenegraph._pglsg.Scene object at 0x7fb559854430>"
       },
       "scene_Elq9RX9QfIpfjAUV25k1QgKZs": {
        "drc": {},
        "position": [
         110,
         -106,
         -58
        ],
        "scale": 1,
        "scene": "<openalea.plantgl.scenegraph._pglsg.Scene object at 0x7fb5599dbf70>"
       },
       "scene_Ewzs4dbYLVuiFFNFpo9GfseS4": {
        "drc": {},
        "position": [
         122,
         89,
         62
        ],
        "scale": 1,
        "scene": "<openalea.plantgl.scenegraph._pglsg.Scene object at 0x7fb55977a5f0>"
       },
       "scene_EyxHeDkJnlpXwPugwPBONmykf": {
        "drc": {},
        "position": [
         -100,
         -123,
         -55
        ],
        "scale": 1,
        "scene": "<openalea.plantgl.scenegraph._pglsg.Scene object at 0x7fb559727c70>"
       },
       "scene_F4x56EmSCTNyNYqDtValrg3wm": {
        "drc": {},
        "position": [
         -72,
         99,
         -46
        ],
        "scale": 1,
        "scene": "<openalea.plantgl.scenegraph._pglsg.Scene object at 0x7fb559944a30>"
       },
       "scene_FJKBYM2sbFMhUgE6bxP88tePT": {
        "drc": {},
        "position": [
         21,
         -19,
         35
        ],
        "scale": 1,
        "scene": "<openalea.plantgl.scenegraph._pglsg.Scene object at 0x7fb5599b5d70>"
       },
       "scene_FmdS0ZfpeJ5HyhqDpgrpnbt7P": {
        "drc": {},
        "position": [
         5,
         96,
         75
        ],
        "scale": 1,
        "scene": "<openalea.plantgl.scenegraph._pglsg.Scene object at 0x7fb559864cf0>"
       },
       "scene_GBei98rnwEwKOWo2pyetIQ8iE": {
        "drc": {},
        "position": [
         59,
         62,
         -107
        ],
        "scale": 1,
        "scene": "<openalea.plantgl.scenegraph._pglsg.Scene object at 0x7fb55984be70>"
       },
       "scene_Gm5rMstek8XYFQFvEfGOWjtk8": {
        "drc": {},
        "position": [
         -3,
         92,
         -109
        ],
        "scale": 1,
        "scene": "<openalea.plantgl.scenegraph._pglsg.Scene object at 0x7fb559868370>"
       },
       "scene_GnMooNj7mEe6LXOLqSMOuOWgL": {
        "drc": {},
        "position": [
         -51,
         -124,
         -42
        ],
        "scale": 1,
        "scene": "<openalea.plantgl.scenegraph._pglsg.Scene object at 0x7fb55992e9f0>"
       },
       "scene_GuxhyUTjDHxvJ6asr9tbzWubg": {
        "drc": {},
        "position": [
         -89,
         -17,
         92
        ],
        "scale": 1,
        "scene": "<openalea.plantgl.scenegraph._pglsg.Scene object at 0x7fb5597afcb0>"
       },
       "scene_HSWbHijaIi67XUFvZGI9cBdD9": {
        "drc": {},
        "position": [
         83,
         -41,
         107
        ],
        "scale": 1,
        "scene": "<openalea.plantgl.scenegraph._pglsg.Scene object at 0x7fb5598cc770>"
       },
       "scene_HouDBecnfCpeF4qjaf41508uL": {
        "drc": {},
        "position": [
         118,
         85,
         75
        ],
        "scale": 1,
        "scene": "<openalea.plantgl.scenegraph._pglsg.Scene object at 0x7fb5599b45f0>"
       },
       "scene_HqA5kW8kUyevzW84slZjC2HWX": {
        "drc": {},
        "position": [
         50,
         31,
         -121
        ],
        "scale": 1,
        "scene": "<openalea.plantgl.scenegraph._pglsg.Scene object at 0x7fb5597ed2f0>"
       },
       "scene_HuCyGCO12NIhJ5b8s12M1fegA": {
        "drc": {},
        "position": [
         98,
         -17,
         8
        ],
        "scale": 1,
        "scene": "<openalea.plantgl.scenegraph._pglsg.Scene object at 0x7fb5597dee30>"
       },
       "scene_HvCh3gTOEga8zY5hMFdNXhG1X": {
        "drc": {},
        "position": [
         94,
         78,
         -88
        ],
        "scale": 1,
        "scene": "<openalea.plantgl.scenegraph._pglsg.Scene object at 0x7fb5599c9db0>"
       },
       "scene_IChDKOGoq9fWUdLbuGm80k8Ao": {
        "drc": {},
        "position": [
         89,
         -37,
         -99
        ],
        "scale": 1,
        "scene": "<openalea.plantgl.scenegraph._pglsg.Scene object at 0x7fb559973c70>"
       },
       "scene_IEcm6RYRgDl2eH0eNSxYXmRxr": {
        "drc": {},
        "position": [
         16,
         97,
         126
        ],
        "scale": 1,
        "scene": "<openalea.plantgl.scenegraph._pglsg.Scene object at 0x7fb58c076b30>"
       },
       "scene_IICYQzTwep8AoPCsildClKfM7": {
        "drc": {},
        "position": [
         28,
         53,
         -112
        ],
        "scale": 1,
        "scene": "<openalea.plantgl.scenegraph._pglsg.Scene object at 0x7fb5599c2fb0>"
       },
       "scene_Ipr6glsBpPdRUIpb6t5TPlhZd": {
        "drc": {},
        "position": [
         -50,
         8,
         75
        ],
        "scale": 1,
        "scene": "<openalea.plantgl.scenegraph._pglsg.Scene object at 0x7fb559919330>"
       },
       "scene_JfcWCemegM45wUVBlWW87ncsM": {
        "drc": {},
        "position": [
         26,
         -59,
         -7
        ],
        "scale": 1,
        "scene": "<openalea.plantgl.scenegraph._pglsg.Scene object at 0x7fb5598705f0>"
       },
       "scene_JrnrT9VN7uWUR2cG68xwAmIEB": {
        "drc": {},
        "position": [
         34,
         -99,
         80
        ],
        "scale": 1,
        "scene": "<openalea.plantgl.scenegraph._pglsg.Scene object at 0x7fb55974c630>"
       },
       "scene_KSMFWqU0WOl0H3Yxb6awYLY2O": {
        "drc": {},
        "position": [
         -13,
         95,
         12
        ],
        "scale": 1,
        "scene": "<openalea.plantgl.scenegraph._pglsg.Scene object at 0x7fb55990fcb0>"
       },
       "scene_KkuCTSjzjcelfsIoG2jffX40Z": {
        "drc": {},
        "position": [
         -30,
         -97,
         -118
        ],
        "scale": 1,
        "scene": "<openalea.plantgl.scenegraph._pglsg.Scene object at 0x7fb559969630>"
       },
       "scene_KzOhLPWvEOtRuwbnfg4Nbstt1": {
        "drc": {},
        "position": [
         65,
         -49,
         35
        ],
        "scale": 1,
        "scene": "<openalea.plantgl.scenegraph._pglsg.Scene object at 0x7fb559944170>"
       },
       "scene_KzjgYPtH5mVrgGZe9HXP0CnhT": {
        "drc": {},
        "position": [
         107,
         -39,
         -68
        ],
        "scale": 1,
        "scene": "<openalea.plantgl.scenegraph._pglsg.Scene object at 0x7fb5599db9f0>"
       },
       "scene_L423mhCZofQ9mv6FDG80XiLW8": {
        "drc": {},
        "position": [
         115,
         9,
         84
        ],
        "scale": 1,
        "scene": "<openalea.plantgl.scenegraph._pglsg.Scene object at 0x7fb559839eb0>"
       },
       "scene_LP7IDFwJOIP1LPPKOLVnX0FHn": {
        "drc": {},
        "position": [
         -76,
         -113,
         50
        ],
        "scale": 1,
        "scene": "<openalea.plantgl.scenegraph._pglsg.Scene object at 0x7fb5598dfa30>"
       },
       "scene_LhcGhTYwPRJvWg0g9YKt0ubz8": {
        "drc": {},
        "position": [
         -27,
         71,
         -108
        ],
        "scale": 1,
        "scene": "<openalea.plantgl.scenegraph._pglsg.Scene object at 0x7fb55998e370>"
       },
       "scene_LiSxN0l4d4j2HtNqLJqpROewc": {
        "drc": {},
        "position": [
         -7,
         59,
         52
        ],
        "scale": 1,
        "scene": "<openalea.plantgl.scenegraph._pglsg.Scene object at 0x7fb559ddfb30>"
       },
       "scene_LxONs0Kzd1OBQnJ2pmrhO7Plo": {
        "drc": {},
        "position": [
         -99,
         -80,
         110
        ],
        "scale": 1,
        "scene": "<openalea.plantgl.scenegraph._pglsg.Scene object at 0x7fb5599099f0>"
       },
       "scene_M2vYSc4wFLEaxqXe6w8BFLEl8": {
        "drc": {},
        "position": [
         40,
         -81,
         4
        ],
        "scale": 1,
        "scene": "<openalea.plantgl.scenegraph._pglsg.Scene object at 0x7fb55987acb0>"
       },
       "scene_MQWzrhorK2RyhgG1AESAK9eE1": {
        "drc": {},
        "position": [
         34,
         126,
         113
        ],
        "scale": 1,
        "scene": "<openalea.plantgl.scenegraph._pglsg.Scene object at 0x7fb58c0395b0>"
       },
       "scene_Mr21gPCijhYXyQgm8AHCFEc7F": {
        "drc": {},
        "position": [
         -124,
         24,
         -66
        ],
        "scale": 1,
        "scene": "<openalea.plantgl.scenegraph._pglsg.Scene object at 0x7fb559821570>"
       },
       "scene_NYZSpKOIuTV7ApRudgVvY1R1S": {
        "drc": {},
        "position": [
         -108,
         82,
         -70
        ],
        "scale": 1,
        "scene": "<openalea.plantgl.scenegraph._pglsg.Scene object at 0x7fb5598ba170>"
       },
       "scene_NgPQKiBGLu21z078A9IxY0l2k": {
        "drc": {},
        "position": [
         -32,
         33,
         -110
        ],
        "scale": 1,
        "scene": "<openalea.plantgl.scenegraph._pglsg.Scene object at 0x7fb55973cf70>"
       },
       "scene_NhWFiLcYx5fMgfuwIdF3G8ohU": {
        "drc": {},
        "position": [
         49,
         -78,
         51
        ],
        "scale": 1,
        "scene": "<openalea.plantgl.scenegraph._pglsg.Scene object at 0x7fb5599a9a70>"
       },
       "scene_NicljepEFfXIOR2cl1jkA7QcH": {
        "drc": {},
        "position": [
         -90,
         33,
         106
        ],
        "scale": 1,
        "scene": "<openalea.plantgl.scenegraph._pglsg.Scene object at 0x7fb5597cad70>"
       },
       "scene_NsgKDACdKKzk10LxWAhdet2PH": {
        "drc": {},
        "position": [
         47,
         42,
         36
        ],
        "scale": 1,
        "scene": "<openalea.plantgl.scenegraph._pglsg.Scene object at 0x7fb55995e2f0>"
       },
       "scene_NvIGmYgNiRGuOkVEaVkNtOcXE": {
        "drc": {},
        "position": [
         -87,
         32,
         -122
        ],
        "scale": 1,
        "scene": "<openalea.plantgl.scenegraph._pglsg.Scene object at 0x7fb559de2030>"
       },
       "scene_O076IFIFcSDEy1ALV99PnVmgZ": {
        "drc": {},
        "position": [
         -97,
         -126,
         -63
        ],
        "scale": 1,
        "scene": "<openalea.plantgl.scenegraph._pglsg.Scene object at 0x7fb5599447f0>"
       },
       "scene_OA7N6U4hCp7jH7Qw9hHavzDyJ": {
        "drc": {},
        "position": [
         3,
         79,
         -46
        ],
        "scale": 1,
        "scene": "<openalea.plantgl.scenegraph._pglsg.Scene object at 0x7fb5599d5970>"
       },
       "scene_OMWtgIm9RIH8Rd09HjnXOnrsf": {
        "drc": {},
        "position": [
         -11,
         -33,
         -3
        ],
        "scale": 1,
        "scene": "<openalea.plantgl.scenegraph._pglsg.Scene object at 0x7fb5598d5930>"
       },
       "scene_OfsWIcprae66NqLLQ9gXsm4Mc": {
        "drc": {},
        "position": [
         -87,
         98,
         79
        ],
        "scale": 1,
        "scene": "<openalea.plantgl.scenegraph._pglsg.Scene object at 0x7fb55990fd30>"
       },
       "scene_OgniHhYQTB720jsyX9HmHg6jY": {
        "drc": {},
        "position": [
         -95,
         -46,
         13
        ],
        "scale": 1,
        "scene": "<openalea.plantgl.scenegraph._pglsg.Scene object at 0x7fb559781cf0>"
       },
       "scene_P1tnR2XZS6r31mn83q3wEqnWD": {
        "drc": {},
        "position": [
         63,
         -14,
         43
        ],
        "scale": 1,
        "scene": "<openalea.plantgl.scenegraph._pglsg.Scene object at 0x7fb55998e630>"
       },
       "scene_P3swe3e7JEzVi0xABXyYyrZlX": {
        "drc": {},
        "position": [
         115,
         15,
         50
        ],
        "scale": 1,
        "scene": "<openalea.plantgl.scenegraph._pglsg.Scene object at 0x7fb5597de870>"
       },
       "scene_POH2zPjtJyS1eh7rrVsP8Nn4D": {
        "drc": {},
        "position": [
         99,
         -91,
         -85
        ],
        "scale": 1,
        "scene": "<openalea.plantgl.scenegraph._pglsg.Scene object at 0x7fb55997b170>"
       },
       "scene_Ps2GuCDWANDZUg7VulRzzReWq": {
        "drc": {},
        "position": [
         11,
         -50,
         69
        ],
        "scale": 1,
        "scene": "<openalea.plantgl.scenegraph._pglsg.Scene object at 0x7fb559909d70>"
       },
       "scene_PtwZfDBSVAXXZrI8j8r7KuJXg": {
        "drc": {},
        "position": [
         -27,
         -94,
         41
        ],
        "scale": 1,
        "scene": "<openalea.plantgl.scenegraph._pglsg.Scene object at 0x7fb559939cf0>"
       },
       "scene_PxydHp3M2lt14cIhMZwsCKW21": {
        "drc": {},
        "position": [
         -103,
         -45,
         -115
        ],
        "scale": 1,
        "scene": "<openalea.plantgl.scenegraph._pglsg.Scene object at 0x7fb55997bcb0>"
       },
       "scene_QgkGZDnj6y5ibgNpEBs9HdC4t": {
        "drc": {},
        "position": [
         -99,
         22,
         -113
        ],
        "scale": 1,
        "scene": "<openalea.plantgl.scenegraph._pglsg.Scene object at 0x7fb55984b2f0>"
       },
       "scene_QjbcJE6lRmmKR6wmROX2lDtdD": {
        "drc": {},
        "position": [
         -28,
         68,
         -53
        ],
        "scale": 1,
        "scene": "<openalea.plantgl.scenegraph._pglsg.Scene object at 0x7fb559801e30>"
       },
       "scene_QsPQBT6oT4htHtxwMHUpnw8yg": {
        "drc": {},
        "position": [
         -74,
         -72,
         79
        ],
        "scale": 1,
        "scene": "<openalea.plantgl.scenegraph._pglsg.Scene object at 0x7fb55973c3f0>"
       },
       "scene_QyH1OGGl51RyTfTtwyMdMUVOF": {
        "drc": {},
        "position": [
         114,
         43,
         -76
        ],
        "scale": 1,
        "scene": "<openalea.plantgl.scenegraph._pglsg.Scene object at 0x7fb5599db530>"
       },
       "scene_R4QHDCPDXJ8mf8VN2Bqpo6ULH": {
        "drc": {},
        "position": [
         116,
         43,
         4
        ],
        "scale": 1,
        "scene": "<openalea.plantgl.scenegraph._pglsg.Scene object at 0x7fb5598fec30>"
       },
       "scene_R7xmWxfjSsjITnCXRvLGRw0FO": {
        "drc": {},
        "position": [
         -1,
         -26,
         50
        ],
        "scale": 1,
        "scene": "<openalea.plantgl.scenegraph._pglsg.Scene object at 0x7fb559801af0>"
       },
       "scene_RFcUUSTBXXtoXT7lzH5pxmwPV": {
        "drc": {},
        "position": [
         -107,
         0,
         10
        ],
        "scale": 1,
        "scene": "<openalea.plantgl.scenegraph._pglsg.Scene object at 0x7fb5598df4f0>"
       },
       "scene_RGT0zPqr668yR1gEbGhoencPO": {
        "drc": {},
        "position": [
         29,
         -5,
         -63
        ],
        "scale": 1,
        "scene": "<openalea.plantgl.scenegraph._pglsg.Scene object at 0x7fb5598feab0>"
       },
       "scene_RShXFpr4invNMR9hQUzqAyOBk": {
        "drc": {},
        "position": [
         28,
         4,
         -124
        ],
        "scale": 1,
        "scene": "<openalea.plantgl.scenegraph._pglsg.Scene object at 0x7fb5598d52f0>"
       },
       "scene_RnAjdmr0ZiP7bGuLAlcgPPskD": {
        "drc": {},
        "position": [
         -116,
         31,
         -106
        ],
        "scale": 1,
        "scene": "<openalea.plantgl.scenegraph._pglsg.Scene object at 0x7fb5598c32f0>"
       },
       "scene_SLk5d057pavoIqKdX7yFQHATU": {
        "drc": {},
        "position": [
         -86,
         23,
         -31
        ],
        "scale": 1,
        "scene": "<openalea.plantgl.scenegraph._pglsg.Scene object at 0x7fb5597b7e30>"
       },
       "scene_SPYMn16n7RTV1Ur0j9qp4sYbt": {
        "drc": {},
        "position": [
         82,
         -9,
         -37
        ],
        "scale": 1,
        "scene": "<openalea.plantgl.scenegraph._pglsg.Scene object at 0x7fb55990f770>"
       },
       "scene_Ss9PE3ca26qxVxvtvVCWgplAH": {
        "drc": {},
        "position": [
         122,
         42,
         -75
        ],
        "scale": 1,
        "scene": "<openalea.plantgl.scenegraph._pglsg.Scene object at 0x7fb559999bf0>"
       },
       "scene_T1fxG4DpqIkKiAXF3xX6gP9Eb": {
        "drc": {},
        "position": [
         57,
         104,
         -39
        ],
        "scale": 1,
        "scene": "<openalea.plantgl.scenegraph._pglsg.Scene object at 0x7fb559999db0>"
       },
       "scene_T5HnmWrEnQFTB6rxb890DbPW4": {
        "drc": {},
        "position": [
         112,
         4,
         -73
        ],
        "scale": 1,
        "scene": "<openalea.plantgl.scenegraph._pglsg.Scene object at 0x7fb5599847b0>"
       },
       "scene_T94T7rfn5Wig4i0Bg7HuuPice": {
        "drc": {},
        "position": [
         11,
         122,
         -47
        ],
        "scale": 1,
        "scene": "<openalea.plantgl.scenegraph._pglsg.Scene object at 0x7fb58c001130>"
       },
       "scene_TFXJz54W8wmi8eKXyy4vrYhJK": {
        "drc": {},
        "position": [
         -11,
         -46,
         -93
        ],
        "scale": 1,
        "scene": "<openalea.plantgl.scenegraph._pglsg.Scene object at 0x7fb55998eef0>"
       },
       "scene_TGiRFsINJJySy1K1PZnVwGHzW": {
        "drc": {},
        "position": [
         -60,
         57,
         9
        ],
        "scale": 1,
        "scene": "<openalea.plantgl.scenegraph._pglsg.Scene object at 0x7fb5597ca5b0>"
       },
       "scene_TcRDcQgXodQ0sU9EZIvs29mXs": {
        "drc": {},
        "position": [
         -24,
         43,
         -105
        ],
        "scale": 1,
        "scene": "<openalea.plantgl.scenegraph._pglsg.Scene object at 0x7fb55987a4b0>"
       },
       "scene_URWWfErPrKba4mi1Gk5apNfmU": {
        "drc": {},
        "position": [
         -48,
         -91,
         42
        ],
        "scale": 1,
        "scene": "<openalea.plantgl.scenegraph._pglsg.Scene object at 0x7fb5598df3f0>"
       },
       "scene_UxxucKMjs6vsMXxMid1ze0s7R": {
        "drc": {},
        "position": [
         -66,
         108,
         -31
        ],
        "scale": 1,
        "scene": "<openalea.plantgl.scenegraph._pglsg.Scene object at 0x7fb55982c5b0>"
       },
       "scene_VoT0qSKCT9pA2nhDwsBrx0K6U": {
        "drc": {},
        "position": [
         84,
         1,
         -19
        ],
        "scale": 1,
        "scene": "<openalea.plantgl.scenegraph._pglsg.Scene object at 0x7fb559969ef0>"
       },
       "scene_W52FMU9YFaNVSK7naHMEg9ETa": {
        "drc": {},
        "position": [
         102,
         19,
         101
        ],
        "scale": 1,
        "scene": "<openalea.plantgl.scenegraph._pglsg.Scene object at 0x7fb559957470>"
       },
       "scene_WLxMZaum7ecMMtWttY2ZAd12w": {
        "drc": {},
        "position": [
         -68,
         18,
         -99
        ],
        "scale": 1,
        "scene": "<openalea.plantgl.scenegraph._pglsg.Scene object at 0x7fb5598c35b0>"
       },
       "scene_WYce51rdB5bbIXm2rELczeDYV": {
        "drc": {},
        "position": [
         97,
         12,
         -61
        ],
        "scale": 1,
        "scene": "<openalea.plantgl.scenegraph._pglsg.Scene object at 0x7fb5599990b0>"
       },
       "scene_WaUd2UkHYsEUWk2w9d8tGPIyq": {
        "drc": {},
        "position": [
         -24,
         -92,
         12
        ],
        "scale": 1,
        "scene": "<openalea.plantgl.scenegraph._pglsg.Scene object at 0x7fb559864730>"
       },
       "scene_WcSoXtUYGYFh2OguT9NRwPdEG": {
        "drc": {},
        "position": [
         -104,
         6,
         -34
        ],
        "scale": 1,
        "scene": "<openalea.plantgl.scenegraph._pglsg.Scene object at 0x7fb55a25bdb0>"
       },
       "scene_WoaatWS2UFtZbvpu5eUIdj529": {
        "drc": {},
        "position": [
         -3,
         -101,
         49
        ],
        "scale": 1,
        "scene": "<openalea.plantgl.scenegraph._pglsg.Scene object at 0x7fb559957370>"
       },
       "scene_Wv1aCsejM39naMX0QU8rgwWTD": {
        "drc": {},
        "position": [
         -24,
         -48,
         33
        ],
        "scale": 1,
        "scene": "<openalea.plantgl.scenegraph._pglsg.Scene object at 0x7fb5598703b0>"
       },
       "scene_X85fGg4yRerRWTwNqOBwyOwx7": {
        "drc": {},
        "position": [
         -111,
         -73,
         113
        ],
        "scale": 1,
        "scene": "<openalea.plantgl.scenegraph._pglsg.Scene object at 0x7fb559770df0>"
       },
       "scene_XVS3tlcylkRZ9ggIyot2FioVP": {
        "drc": {},
        "position": [
         -120,
         0,
         68
        ],
        "scale": 1,
        "scene": "<openalea.plantgl.scenegraph._pglsg.Scene object at 0x7fb559840730>"
       },
       "scene_XmqfImMJ3EGLz3B49pRr6gAVw": {
        "drc": {},
        "position": [
         5,
         -109,
         119
        ],
        "scale": 1,
        "scene": "<openalea.plantgl.scenegraph._pglsg.Scene object at 0x7fb5598d5b30>"
       },
       "scene_XnbtnpEVieuQB4evTkmkJC4ZP": {
        "drc": {},
        "position": [
         107,
         -115,
         93
        ],
        "scale": 1,
        "scene": "<openalea.plantgl.scenegraph._pglsg.Scene object at 0x7fb559795f30>"
       },
       "scene_XxnB7KucQaweEp8ldaN8KxcGU": {
        "drc": {},
        "position": [
         112,
         15,
         59
        ],
        "scale": 1,
        "scene": "<openalea.plantgl.scenegraph._pglsg.Scene object at 0x7fb55982ceb0>"
       },
       "scene_YKGnoPGo8ewVWPFQejmvmsNFX": {
        "drc": {},
        "position": [
         -50,
         -38,
         -100
        ],
        "scale": 1,
        "scene": "<openalea.plantgl.scenegraph._pglsg.Scene object at 0x7fb5599d5b70>"
       },
       "scene_YXXsfNYCTsXm5GnrxJ2zrml7R": {
        "drc": {},
        "position": [
         -16,
         81,
         -96
        ],
        "scale": 1,
        "scene": "<openalea.plantgl.scenegraph._pglsg.Scene object at 0x7fb5599db430>"
       },
       "scene_YcyLr5NV0hS8dBRHqxMYbLMXD": {
        "drc": {},
        "position": [
         -71,
         -20,
         36
        ],
        "scale": 1,
        "scene": "<openalea.plantgl.scenegraph._pglsg.Scene object at 0x7fb5598df7f0>"
       },
       "scene_Ye7u1JE5Xo1rgiM7CEeh9yRKe": {
        "drc": {},
        "position": [
         19,
         -122,
         -47
        ],
        "scale": 1,
        "scene": "<openalea.plantgl.scenegraph._pglsg.Scene object at 0x7fb559767e70>"
       },
       "scene_Yj6TnRZ0Ci5hwa1SV8ZRbKYwW": {
        "drc": {},
        "position": [
         -68,
         -55,
         -106
        ],
        "scale": 1,
        "scene": "<openalea.plantgl.scenegraph._pglsg.Scene object at 0x7fb5599275b0>"
       },
       "scene_Yq44krbJpqAVqKZhfTLnOrwwl": {
        "drc": {},
        "position": [
         -11,
         -63,
         -24
        ],
        "scale": 1,
        "scene": "<openalea.plantgl.scenegraph._pglsg.Scene object at 0x7fb559dec0b0>"
       },
       "scene_ZDpglnsIYnhSHZKqy2MW6e4SS": {
        "drc": {},
        "position": [
         -14,
         -26,
         96
        ],
        "scale": 1,
        "scene": "<openalea.plantgl.scenegraph._pglsg.Scene object at 0x7fb5597c29f0>"
       },
       "scene_ZWYSSZwGzfXAMM4UKCDvN39ad": {
        "drc": {},
        "position": [
         17,
         76,
         -110
        ],
        "scale": 1,
        "scene": "<openalea.plantgl.scenegraph._pglsg.Scene object at 0x7fb559870bb0>"
       },
       "scene_ZWZcpCnFpNJZQ5AP4kkrDcQnH": {
        "drc": {},
        "position": [
         25,
         -110,
         -18
        ],
        "scale": 1,
        "scene": "<openalea.plantgl.scenegraph._pglsg.Scene object at 0x7fb55998e930>"
       },
       "scene_ZjYknpxZJCn3yJq23vq1126A0": {
        "drc": {},
        "position": [
         -37,
         32,
         113
        ],
        "scale": 1,
        "scene": "<openalea.plantgl.scenegraph._pglsg.Scene object at 0x7fb55972f830>"
       },
       "scene_ZyEHzC5n6ouRyM0Mv2iLneioy": {
        "drc": {},
        "position": [
         -48,
         -74,
         -11
        ],
        "scale": 1,
        "scene": "<openalea.plantgl.scenegraph._pglsg.Scene object at 0x7fb5599a9df0>"
       },
       "scene_a4q4h9Mw6HY7JqjbDmqC0SfaX": {
        "drc": {},
        "position": [
         54,
         13,
         -38
        ],
        "scale": 1,
        "scene": "<openalea.plantgl.scenegraph._pglsg.Scene object at 0x7fb5598fce70>"
       },
       "scene_aaBfhLgYGqZDBqYainxzfp8qE": {
        "drc": {},
        "position": [
         106,
         -44,
         -5
        ],
        "scale": 1,
        "scene": "<openalea.plantgl.scenegraph._pglsg.Scene object at 0x7fb5597de2b0>"
       },
       "scene_afVzcSDLIeGPJX27FAyw5gdU6": {
        "drc": {},
        "position": [
         -104,
         25,
         122
        ],
        "scale": 1,
        "scene": "<openalea.plantgl.scenegraph._pglsg.Scene object at 0x7fb5598b3a70>"
       },
       "scene_afudHBmsI8Oj6RiJqnsffc02E": {
        "drc": {},
        "position": [
         46,
         -33,
         25
        ],
        "scale": 1,
        "scene": "<openalea.plantgl.scenegraph._pglsg.Scene object at 0x7fb55994b3b0>"
       },
       "scene_aluvYHDeIs0qNth2IGIFyQquU": {
        "drc": {},
        "position": [
         -113,
         -33,
         12
        ],
        "scale": 1,
        "scene": "<openalea.plantgl.scenegraph._pglsg.Scene object at 0x7fb5599190b0>"
       },
       "scene_bQ3SB57YjyautUoO3O1f2uLHM": {
        "drc": {},
        "position": [
         67,
         -57,
         47
        ],
        "scale": 1,
        "scene": "<openalea.plantgl.scenegraph._pglsg.Scene object at 0x7fb55985c5b0>"
       },
       "scene_bTSWefx0n33Zsj6KY2JBRF3AS": {
        "drc": {},
        "position": [
         77,
         119,
         84
        ],
        "scale": 1,
        "scene": "<openalea.plantgl.scenegraph._pglsg.Scene object at 0x7fb5597953b0>"
       },
       "scene_bURHSLNiQrNoXy8GKozVK9igR": {
        "drc": {},
        "position": [
         -73,
         48,
         -82
        ],
        "scale": 1,
        "scene": "<openalea.plantgl.scenegraph._pglsg.Scene object at 0x7fb559840cf0>"
       },
       "scene_bjrL3ik3stYraYA4EFgT4RgZr": {
        "drc": {},
        "position": [
         97,
         -91,
         4
        ],
        "scale": 1,
        "scene": "<openalea.plantgl.scenegraph._pglsg.Scene object at 0x7fb559921c70>"
       },
       "scene_bta0oDvzpz3efOL2j7BymY9nV": {
        "drc": {},
        "position": [
         11,
         11,
         36
        ],
        "scale": 1,
        "scene": "<openalea.plantgl.scenegraph._pglsg.Scene object at 0x7fb55972f1b0>"
       },
       "scene_bvKNJrKU52IvfLj2x9Ms4WpOm": {
        "drc": {},
        "position": [
         -9,
         69,
         -2
        ],
        "scale": 1,
        "scene": "<openalea.plantgl.scenegraph._pglsg.Scene object at 0x7fb559927870>"
       },
       "scene_cSHt1R9LFYaEb2ksvWE94RORE": {
        "drc": {},
        "position": [
         -13,
         45,
         -22
        ],
        "scale": 1,
        "scene": "<openalea.plantgl.scenegraph._pglsg.Scene object at 0x7fb559927670>"
       },
       "scene_ceOJP4jGs6TbicDySdwkvQvoU": {
        "drc": {},
        "position": [
         95,
         56,
         -2
        ],
        "scale": 1,
        "scene": "<openalea.plantgl.scenegraph._pglsg.Scene object at 0x7fb5598397b0>"
       },
       "scene_chlDtnqs80dPmt8OHp3rrILJG": {
        "drc": {},
        "position": [
         29,
         -76,
         -28
        ],
        "scale": 1,
        "scene": "<openalea.plantgl.scenegraph._pglsg.Scene object at 0x7fb559999970>"
       },
       "scene_dApe4HmZEZgLBDowBvabYbTeX": {
        "drc": {},
        "position": [
         0,
         -66,
         3
        ],
        "scale": 1,
        "scene": "<openalea.plantgl.scenegraph._pglsg.Scene object at 0x7fb559801530>"
       },
       "scene_dKvtQStVOHK6UFVxrEKPB61Nl": {
        "drc": {},
        "position": [
         4,
         85,
         -92
        ],
        "scale": 1,
        "scene": "<openalea.plantgl.scenegraph._pglsg.Scene object at 0x7fb5597276b0>"
       },
       "scene_ddtbnYGKa8xgUTS8zbQzLbGyi": {
        "drc": {},
        "position": [
         25,
         73,
         84
        ],
        "scale": 1,
        "scene": "<openalea.plantgl.scenegraph._pglsg.Scene object at 0x7fb5599b5a30>"
       },
       "scene_dhTrq5ci5ZwZ7CCnAL9jUoyOa": {
        "drc": {},
        "position": [
         -46,
         35,
         -13
        ],
        "scale": 1,
        "scene": "<openalea.plantgl.scenegraph._pglsg.Scene object at 0x7fb5597b7870>"
       },
       "scene_dkHBfoHkzNl7ZsdW7B5uPA9oQ": {
        "drc": {},
        "position": [
         -111,
         -15,
         39
        ],
        "scale": 1,
        "scene": "<openalea.plantgl.scenegraph._pglsg.Scene object at 0x7fb58c01de70>"
       },
       "scene_eA6Yy2JWhmnyDf0wGliaL3qR1": {
        "drc": {},
        "position": [
         76,
         -85,
         -109
        ],
        "scale": 1,
        "scene": "<openalea.plantgl.scenegraph._pglsg.Scene object at 0x7fb55981d3f0>"
       },
       "scene_eN4NaQc1E4zU9zWal5OoMrmvG": {
        "drc": {},
        "position": [
         -31,
         55,
         -34
        ],
        "scale": 1,
        "scene": "<openalea.plantgl.scenegraph._pglsg.Scene object at 0x7fb5598c3cf0>"
       },
       "scene_fN8Zjoedjz8qL70cPbc9m3VIO": {
        "drc": {},
        "position": [
         -44,
         -64,
         108
        ],
        "scale": 1,
        "scene": "<openalea.plantgl.scenegraph._pglsg.Scene object at 0x7fb559909670>"
       },
       "scene_fYkeTjETzZ0tV1wF09mi3hYxy": {
        "drc": {},
        "position": [
         51,
         47,
         40
        ],
        "scale": 1,
        "scene": "<openalea.plantgl.scenegraph._pglsg.Scene object at 0x7fb55a247570>"
       },
       "scene_fi2kwaYIF9EEoSh59atu4ffsh": {
        "drc": {},
        "position": [
         68,
         12,
         110
        ],
        "scale": 1,
        "scene": "<openalea.plantgl.scenegraph._pglsg.Scene object at 0x7fb5597cab30>"
       },
       "scene_fkKz7V9GbfOkRCwKguyVJnCSJ": {
        "drc": {},
        "position": [
         -53,
         83,
         -12
        ],
        "scale": 1,
        "scene": "<openalea.plantgl.scenegraph._pglsg.Scene object at 0x7fb5599b49f0>"
       },
       "scene_g2uAsMgsUDVC01Jcvjdy444a6": {
        "drc": {},
        "position": [
         117,
         -83,
         47
        ],
        "scale": 1,
        "scene": "<openalea.plantgl.scenegraph._pglsg.Scene object at 0x7fb559909af0>"
       },
       "scene_g4hqd1pgCKl3tZ0E40Yr4iJ9H": {
        "drc": {},
        "position": [
         -48,
         -54,
         -44
        ],
        "scale": 1,
        "scene": "<openalea.plantgl.scenegraph._pglsg.Scene object at 0x7fb559743b30>"
       },
       "scene_gKnKz2a3OsXSxCf5ykfYsnQoL": {
        "drc": {},
        "position": [
         5,
         -37,
         32
        ],
        "scale": 1,
        "scene": "<openalea.plantgl.scenegraph._pglsg.Scene object at 0x7fb559868870>"
       },
       "scene_gNijUkuBsjNtL1YXvb8AG1V5B": {
        "drc": {},
        "position": [
         81,
         62,
         -71
        ],
        "scale": 1,
        "scene": "<openalea.plantgl.scenegraph._pglsg.Scene object at 0x7fb559957a30>"
       },
       "scene_gVySmK9WxSU5uHaV5jKb7nSKl": {
        "drc": {},
        "position": [
         -71,
         -5,
         -117
        ],
        "scale": 1,
        "scene": "<openalea.plantgl.scenegraph._pglsg.Scene object at 0x7fb559839330>"
       },
       "scene_gX6TfC4leKxDdwXWwk7rIXVmp": {
        "drc": {},
        "position": [
         51,
         -91,
         71
        ],
        "scale": 1,
        "scene": "<openalea.plantgl.scenegraph._pglsg.Scene object at 0x7fb55972fdf0>"
       },
       "scene_gjO1t22qxkqk89AGcmo7BP9u9": {
        "drc": {},
        "position": [
         -83,
         40,
         -25
        ],
        "scale": 1,
        "scene": "<openalea.plantgl.scenegraph._pglsg.Scene object at 0x7fb559821b30>"
       },
       "scene_gy0ksH1a6lT2vu0Wqm1JDa6Pi": {
        "drc": {},
        "position": [
         46,
         -108,
         -10
        ],
        "scale": 1,
        "scene": "<openalea.plantgl.scenegraph._pglsg.Scene object at 0x7fb559743570>"
       },
       "scene_h7lIynQV7xjqtJ3yg1kKcKLdj": {
        "drc": {},
        "position": [
         -33,
         -108,
         5
        ],
        "scale": 1,
        "scene": "<openalea.plantgl.scenegraph._pglsg.Scene object at 0x7fb58c039430>"
       },
       "scene_hSmerw0JhmeZrHFK4hW8YBdgp": {
        "drc": {},
        "position": [
         15,
         -36,
         2
        ],
        "scale": 1,
        "scene": "<openalea.plantgl.scenegraph._pglsg.Scene object at 0x7fb5599c97f0>"
       },
       "scene_hZa6VS8Q6rPI6YYTy9nAiAfDN": {
        "drc": {},
        "position": [
         -62,
         -8,
         -113
        ],
        "scale": 1,
        "scene": "<openalea.plantgl.scenegraph._pglsg.Scene object at 0x7fb5599736b0>"
       },
       "scene_ha7yWv0ZiBL7at9NepNiHxnEk": {
        "drc": {},
        "position": [
         -8,
         -67,
         113
        ],
        "scale": 1,
        "scene": "<openalea.plantgl.scenegraph._pglsg.Scene object at 0x7fb5598d5ef0>"
       },
       "scene_hgIqmUovb1vPxwt8MyyAuPICb": {
        "drc": {},
        "position": [
         126,
         -99,
         -65
        ],
        "scale": 1,
        "scene": "<openalea.plantgl.scenegraph._pglsg.Scene object at 0x7fb55987a830>"
       },
       "scene_hpyD5JVdO1Txt7COoPKkdB3K4": {
        "drc": {},
        "position": [
         46,
         -61,
         -121
        ],
        "scale": 1,
        "scene": "<openalea.plantgl.scenegraph._pglsg.Scene object at 0x7fb5599c25f0>"
       },
       "scene_htoUadPCyVJAdhjpMrkXHto4A": {
        "drc": {},
        "position": [
         -40,
         -27,
         -80
        ],
        "scale": 1,
        "scene": "<openalea.plantgl.scenegraph._pglsg.Scene object at 0x7fb55a2563b0>"
       },
       "scene_hwOcrehu77bjQlGrVR357JsSf": {
        "drc": {},
        "position": [
         -78,
         125,
         39
        ],
        "scale": 1,
        "scene": "<openalea.plantgl.scenegraph._pglsg.Scene object at 0x7fb559821d70>"
       },
       "scene_i1sxb7RCVC4JTgSRaEt75dW7W": {
        "drc": {},
        "position": [
         3,
         -20,
         64
        ],
        "scale": 1,
        "scene": "<openalea.plantgl.scenegraph._pglsg.Scene object at 0x7fb58c039130>"
       },
       "scene_i4Pg0KZBbVLQVGU0JblpRom9v": {
        "drc": {},
        "position": [
         -45,
         -121,
         94
        ],
        "scale": 1,
        "scene": "<openalea.plantgl.scenegraph._pglsg.Scene object at 0x7fb559927970>"
       },
       "scene_iJyXuQsEkarVgdRDIQd5twvOb": {
        "drc": {},
        "position": [
         49,
         -90,
         -11
        ],
        "scale": 1,
        "scene": "<openalea.plantgl.scenegraph._pglsg.Scene object at 0x7fb5597f9f30>"
       },
       "scene_iLc56xJ2NpUlNsA5oiUMAV3FK": {
        "drc": {},
        "position": [
         94,
         13,
         55
        ],
        "scale": 1,
        "scene": "<openalea.plantgl.scenegraph._pglsg.Scene object at 0x7fb559984630>"
       },
       "scene_iSnDoq6o3Ax2TxLSYeRj90x8f": {
        "drc": {},
        "position": [
         -69,
         -119,
         52
        ],
        "scale": 1,
        "scene": "<openalea.plantgl.scenegraph._pglsg.Scene object at 0x7fb5598b3d70>"
       },
       "scene_iaorx2Rqs5mnjqlhRL2ERCFSY": {
        "drc": {},
        "position": [
         0,
         -39,
         -107
        ],
        "scale": 1,
        "scene": "<openalea.plantgl.scenegraph._pglsg.Scene object at 0x7fb559870570>"
       },
       "scene_j9aTVMBUh7166ERbRLN6i6mts": {
        "drc": {},
        "position": [
         -34,
         86,
         -125
        ],
        "scale": 1,
        "scene": "<openalea.plantgl.scenegraph._pglsg.Scene object at 0x7fb5599279b0>"
       },
       "scene_jkvygu1c5mtV6hOYFdKVvGIBR": {
        "drc": {},
        "position": [
         6,
         5,
         -84
        ],
        "scale": 1,
        "scene": "<openalea.plantgl.scenegraph._pglsg.Scene object at 0x7fb55985cfb0>"
       },
       "scene_kxaZgh9Dtuf6JPRYzUFe8DX0P": {
        "drc": {},
        "position": [
         -106,
         -21,
         117
        ],
        "scale": 1,
        "scene": "<openalea.plantgl.scenegraph._pglsg.Scene object at 0x7fb5597d3cb0>"
       },
       "scene_lHkdttFJYx2ddZkY9TaeYcTfL": {
        "drc": {},
        "position": [
         58,
         -117,
         3
        ],
        "scale": 1,
        "scene": "<openalea.plantgl.scenegraph._pglsg.Scene object at 0x7fb559999430>"
       },
       "scene_lt4ZjUYbfdjU1LlRyd23QwgwT": {
        "drc": {},
        "position": [
         75,
         46,
         -24
        ],
        "scale": 1,
        "scene": "<openalea.plantgl.scenegraph._pglsg.Scene object at 0x7fb5599279f0>"
       },
       "scene_lvMFmwQb8MrMIgCvkFyfEEOj5": {
        "drc": {},
        "position": [
         63,
         -50,
         37
        ],
        "scale": 1,
        "scene": "<openalea.plantgl.scenegraph._pglsg.Scene object at 0x7fb559919e30>"
       },
       "scene_m6MvC5CqyIxK1RZQZbfVF6e0u": {
        "drc": {},
        "position": [
         -96,
         43,
         62
        ],
        "scale": 1,
        "scene": "<openalea.plantgl.scenegraph._pglsg.Scene object at 0x7fb559944db0>"
       },
       "scene_mZFWgv7Y72jAeTkqbTRugEPjp": {
        "drc": {},
        "position": [
         -70,
         123,
         32
        ],
        "scale": 1,
        "scene": "<openalea.plantgl.scenegraph._pglsg.Scene object at 0x7fb5597af6f0>"
       },
       "scene_mbFlQPmmf7kqgmHnUQETEZZho": {
        "drc": {},
        "position": [
         -67,
         41,
         -13
        ],
        "scale": 1,
        "scene": "<openalea.plantgl.scenegraph._pglsg.Scene object at 0x7fb559984d70>"
       },
       "scene_mmTG8CCS5aC585dhUGWV4Aq21": {
        "drc": {},
        "position": [
         -118,
         -49,
         -36
        ],
        "scale": 1,
        "scene": "<openalea.plantgl.scenegraph._pglsg.Scene object at 0x7fb559927f30>"
       },
       "scene_mqhR6dkHuMXQBRrJAqsMyqEu6": {
        "drc": {},
        "position": [
         -69,
         102,
         22
        ],
        "scale": 1,
        "scene": "<openalea.plantgl.scenegraph._pglsg.Scene object at 0x7fb55987afb0>"
       },
       "scene_n0uuCnk0UEhqMUtWCkZyrsjWn": {
        "drc": {},
        "position": [
         -76,
         -113,
         70
        ],
        "scale": 1,
        "scene": "<openalea.plantgl.scenegraph._pglsg.Scene object at 0x7fb559770a30>"
       },
       "scene_n3DjWLbbjpKIaoAYbrs0pvdOZ": {
        "drc": {},
        "position": [
         -83,
         124,
         36
        ],
        "scale": 1,
        "scene": "<openalea.plantgl.scenegraph._pglsg.Scene object at 0x7fb559921c30>"
       },
       "scene_n3wb5i13BavhuMpQ7GcbzXlEj": {
        "drc": {},
        "position": [
         75,
         110,
         -100
        ],
        "scale": 1,
        "scene": "<openalea.plantgl.scenegraph._pglsg.Scene object at 0x7fb5599c2670>"
       },
       "scene_n7QIpvAbb3hRAFj9j2SIJAmcy": {
        "drc": {},
        "position": [
         2,
         117,
         122
        ],
        "scale": 1,
        "scene": "<openalea.plantgl.scenegraph._pglsg.Scene object at 0x7fb559868df0>"
       },
       "scene_nXjh5QVfxjbUgJnGy4PcMhfMr": {
        "drc": {},
        "position": [
         54,
         117,
         19
        ],
        "scale": 1,
        "scene": "<openalea.plantgl.scenegraph._pglsg.Scene object at 0x7fb559854fb0>"
       },
       "scene_nyPQobOXIOWgNWAQWvYwdqvCP": {
        "drc": {},
        "position": [
         15,
         -80,
         112
        ],
        "scale": 1,
        "scene": "<openalea.plantgl.scenegraph._pglsg.Scene object at 0x7fb55981d9b0>"
       },
       "scene_oOkSHpf3YfIYh0xAQHlL0ubKX": {
        "drc": {},
        "position": [
         121,
         105,
         63
        ],
        "scale": 1,
        "scene": "<openalea.plantgl.scenegraph._pglsg.Scene object at 0x7fb55977ad70>"
       },
       "scene_osXLGmLWfD80LQtRccbuNdn1W": {
        "drc": {},
        "position": [
         -63,
         112,
         -68
        ],
        "scale": 1,
        "scene": "<openalea.plantgl.scenegraph._pglsg.Scene object at 0x7fb5598c3770>"
       },
       "scene_otl6oFbb2qqYCpAmJjqTHYR5S": {
        "drc": {},
        "position": [
         36,
         24,
         -16
        ],
        "scale": 1,
        "scene": "<openalea.plantgl.scenegraph._pglsg.Scene object at 0x7fb559921bb0>"
       },
       "scene_pG4nLXPkq5AApzdmOl8UMycQl": {
        "drc": {},
        "position": [
         95,
         -54,
         -38
        ],
        "scale": 1,
        "scene": "<openalea.plantgl.scenegraph._pglsg.Scene object at 0x7fb5599d5f30>"
       },
       "scene_pJfRipDb9nJYruUKaQidkmeUb": {
        "drc": {},
        "position": [
         66,
         109,
         -121
        ],
        "scale": 1,
        "scene": "<openalea.plantgl.scenegraph._pglsg.Scene object at 0x7fb559973330>"
       },
       "scene_pLFKeVJdUXSPPQ04JYcz4Q6ZO": {
        "drc": {},
        "position": [
         -111,
         97,
         55
        ],
        "scale": 1,
        "scene": "<openalea.plantgl.scenegraph._pglsg.Scene object at 0x7fb559870fb0>"
       },
       "scene_pmItKsHFW1uBmy0Il4jAvKYrO": {
        "drc": {},
        "position": [
         -17,
         -74,
         11
        ],
        "scale": 1,
        "scene": "<openalea.plantgl.scenegraph._pglsg.Scene object at 0x7fb559999fb0>"
       },
       "scene_q7fZIhXin4Qv7ydMETss5Mmty": {
        "drc": {},
        "position": [
         111,
         104,
         36
        ],
        "scale": 1,
        "scene": "<openalea.plantgl.scenegraph._pglsg.Scene object at 0x7fb55977abb0>"
       },
       "scene_q8osi9ZEL54LPDMJZoEObpeN6": {
        "drc": {},
        "position": [
         47,
         35,
         83
        ],
        "scale": 1,
        "scene": "<openalea.plantgl.scenegraph._pglsg.Scene object at 0x7fb559939a30>"
       },
       "scene_qQQ6rVYiknsYLRr8cHE2Qc7N4": {
        "drc": {},
        "position": [
         94,
         99,
         -106
        ],
        "scale": 1,
        "scene": "<openalea.plantgl.scenegraph._pglsg.Scene object at 0x7fb5598d5070>"
       },
       "scene_r3tk7EiS2BlRKqK88ikYMFF9s": {
        "drc": {},
        "position": [
         15,
         -115,
         95
        ],
        "scale": 1,
        "scene": "<openalea.plantgl.scenegraph._pglsg.Scene object at 0x7fb559781730>"
       },
       "scene_s82vVmG9A7PJORsDhqGoolSD4": {
        "drc": {},
        "position": [
         -12,
         63,
         -3
        ],
        "scale": 1,
        "scene": "<openalea.plantgl.scenegraph._pglsg.Scene object at 0x7fb5598d5830>"
       },
       "scene_sr1cZ9dMNY6E6tIOoLRwxCRzN": {
        "drc": {},
        "position": [
         57,
         -55,
         -70
        ],
        "scale": 1,
        "scene": "<openalea.plantgl.scenegraph._pglsg.Scene object at 0x7fb559dd11b0>"
       },
       "scene_tUfJ5BHnzC9KFPOxAxJTc7rzv": {
        "drc": {},
        "position": [
         -67,
         30,
         80
        ],
        "scale": 1,
        "scene": "<openalea.plantgl.scenegraph._pglsg.Scene object at 0x7fb5598131b0>"
       },
       "scene_tplnY2w5vGIGhoItYDhUgsiWu": {
        "drc": {},
        "position": [
         94,
         -51,
         -86
        ],
        "scale": 1,
        "scene": "<openalea.plantgl.scenegraph._pglsg.Scene object at 0x7fb559984a70>"
       },
       "scene_tpssenylBZGsVmwVGAfdgxzWZ": {
        "drc": {},
        "position": [
         91,
         40,
         98
        ],
        "scale": 1,
        "scene": "<openalea.plantgl.scenegraph._pglsg.Scene object at 0x7fb55992e730>"
       },
       "scene_uObM4BWsVRyk4MeisVEaiZwW3": {
        "drc": {},
        "position": [
         112,
         -93,
         44
        ],
        "scale": 1,
        "scene": "<openalea.plantgl.scenegraph._pglsg.Scene object at 0x7fb5599c9170>"
       },
       "scene_vMjdYWpm2FqGxKbCw1ZlYqZLx": {
        "drc": {},
        "position": [
         80,
         -120,
         34
        ],
        "scale": 1,
        "scene": "<openalea.plantgl.scenegraph._pglsg.Scene object at 0x7fb5599d53b0>"
       },
       "scene_vnTIARpVDwnHDjyW25wl4TGJE": {
        "drc": {},
        "position": [
         -95,
         30,
         15
        ],
        "scale": 1,
        "scene": "<openalea.plantgl.scenegraph._pglsg.Scene object at 0x7fb559921370>"
       },
       "scene_vt6G7ZpxgGWAtrUbHHyGizi6Y": {
        "drc": {},
        "position": [
         31,
         -51,
         -72
        ],
        "scale": 1,
        "scene": "<openalea.plantgl.scenegraph._pglsg.Scene object at 0x7fb5598d5370>"
       },
       "scene_wLnvyHl3KldwJRjgMeQBF5r7O": {
        "drc": {},
        "position": [
         32,
         -109,
         -84
        ],
        "scale": 1,
        "scene": "<openalea.plantgl.scenegraph._pglsg.Scene object at 0x7fb5599d5730>"
       },
       "scene_wOMH8Q0RL1Y4tqKeR7Ckn3Ynh": {
        "drc": {},
        "position": [
         87,
         -85,
         -23
        ],
        "scale": 1,
        "scene": "<openalea.plantgl.scenegraph._pglsg.Scene object at 0x7fb58c076e30>"
       },
       "scene_wPlRlP1M1OAGhVMgjALjTDnV4": {
        "drc": {},
        "position": [
         0,
         -23,
         57
        ],
        "scale": 1,
        "scene": "<openalea.plantgl.scenegraph._pglsg.Scene object at 0x7fb5597c2fb0>"
       },
       "scene_wQHkijimD7nHgXxQ1SmkWZHIG": {
        "drc": {},
        "position": [
         73,
         -36,
         -38
        ],
        "scale": 1,
        "scene": "<openalea.plantgl.scenegraph._pglsg.Scene object at 0x7fb55978b8b0>"
       },
       "scene_wTHoNX9g8TkQ6Hmy8sd2fJET3": {
        "drc": {},
        "position": [
         -89,
         28,
         -49
        ],
        "scale": 1,
        "scene": "<openalea.plantgl.scenegraph._pglsg.Scene object at 0x7fb5599a9770>"
       },
       "scene_whqKrtPA1BiyBLZQdv7C1X8pQ": {
        "drc": {},
        "position": [
         79,
         -74,
         -43
        ],
        "scale": 1,
        "scene": "<openalea.plantgl.scenegraph._pglsg.Scene object at 0x7fb58c039370>"
       },
       "scene_xDOFr8TXGvL7jmw2NOsEU4EXQ": {
        "drc": {},
        "position": [
         109,
         -13,
         27
        ],
        "scale": 1,
        "scene": "<openalea.plantgl.scenegraph._pglsg.Scene object at 0x7fb5598fcf70>"
       },
       "scene_xWAMneSHBe2TSHrr6Mi7ebz8p": {
        "drc": {},
        "position": [
         -38,
         -89,
         87
        ],
        "scale": 1,
        "scene": "<openalea.plantgl.scenegraph._pglsg.Scene object at 0x7fb5598baa30>"
       },
       "scene_xmrLz90QJ5DQozMoC4hFSN9fc": {
        "drc": {},
        "position": [
         -54,
         66,
         -61
        ],
        "scale": 1,
        "scene": "<openalea.plantgl.scenegraph._pglsg.Scene object at 0x7fb559770470>"
       },
       "scene_xyJjUDeBRB0UsLHE5cQMtrgVD": {
        "drc": {},
        "position": [
         44,
         -9,
         11
        ],
        "scale": 1,
        "scene": "<openalea.plantgl.scenegraph._pglsg.Scene object at 0x7fb5598c36f0>"
       },
       "scene_yIGH3bPWCftjspfddp2ztJbdh": {
        "drc": {},
        "position": [
         -110,
         72,
         -59
        ],
        "scale": 1,
        "scene": "<openalea.plantgl.scenegraph._pglsg.Scene object at 0x7fb559969eb0>"
       },
       "scene_yKT1r0I6d6mHulpTfmuL4rdir": {
        "drc": {},
        "position": [
         -35,
         72,
         76
        ],
        "scale": 1,
        "scene": "<openalea.plantgl.scenegraph._pglsg.Scene object at 0x7fb559de1530>"
       },
       "scene_yOS5bXM1toxQWOYEjf0CLutul": {
        "drc": {},
        "position": [
         54,
         52,
         -113
        ],
        "scale": 1,
        "scene": "<openalea.plantgl.scenegraph._pglsg.Scene object at 0x7fb55979ee30>"
       },
       "scene_yQcz8ymT7So8L1rgMyIEfCjAK": {
        "drc": {},
        "position": [
         -48,
         4,
         -50
        ],
        "scale": 1,
        "scene": "<openalea.plantgl.scenegraph._pglsg.Scene object at 0x7fb55978b2f0>"
       },
       "scene_yacgf9YJIKLdfAU325e25JnqT": {
        "drc": {},
        "position": [
         83,
         -12,
         -71
        ],
        "scale": 1,
        "scene": "<openalea.plantgl.scenegraph._pglsg.Scene object at 0x7fb55997b6f0>"
       },
       "scene_yekXIAQvVDn2fZ01HzMp9caeY": {
        "drc": {},
        "position": [
         87,
         118,
         -125
        ],
        "scale": 1,
        "scene": "<openalea.plantgl.scenegraph._pglsg.Scene object at 0x7fb5598086b0>"
       },
       "scene_ymbPlAVoVAMyFo2X92TvHctzm": {
        "drc": {},
        "position": [
         -41,
         68,
         -81
        ],
        "scale": 1,
        "scene": "<openalea.plantgl.scenegraph._pglsg.Scene object at 0x7fb559813df0>"
       },
       "scene_zaMNR8oc36Lq7yiXWhEZg9Pnj": {
        "drc": {},
        "position": [
         -66,
         40,
         61
        ],
        "scale": 1,
        "scene": "<openalea.plantgl.scenegraph._pglsg.Scene object at 0x7fb559de2b70>"
       },
       "size_display": [
        400,
        300
       ],
       "size_world": [
        255,
        255,
        255
       ]
      }
     }
    },
    "version_major": 2,
    "version_minor": 0
   }
  }
 },
 "nbformat": 4,
 "nbformat_minor": 4
}
