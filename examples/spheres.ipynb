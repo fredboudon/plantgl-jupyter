{
 "cells": [
  {
   "cell_type": "code",
   "execution_count": 1,
   "metadata": {},
   "outputs": [],
   "source": [
    "from pgljupyter import SceneWidget\n",
    "from openalea.plantgl.all import *\n",
    "import random"
   ]
  },
  {
   "cell_type": "code",
   "execution_count": 2,
   "metadata": {
    "scrolled": true
   },
   "outputs": [],
   "source": [
    "spheres = []\n",
    "\n",
    "for i in range(255):\n",
    "    x, y, z = [random.choice([-1, 1]) * random.randrange(0, int(255/2)) for i in range(3)]\n",
    "    m = Material(ambient=(x+int(255/2), y+int(255/2), z+int(255/2)), shininess=0.1, diffuse=1)\n",
    "    spheres.append(Shape(Translated(x, y, z, Sphere(random.randrange(1, 20), 20, 20)), m))\n"
   ]
  },
  {
   "cell_type": "code",
   "execution_count": 3,
   "metadata": {},
   "outputs": [
    {
     "data": {
      "application/vnd.jupyter.widget-view+json": {
       "model_id": "f10175be353e4dac8d87580cfe15aa05",
       "version_major": 2,
       "version_minor": 0
      },
      "text/plain": [
       "SceneWidget(scenes=[{'id': 'kYyCtOLSt3jOafVXxYcU96Zfi', 'data': b'x\\xda}\\x9c\\r\\x94T\\xc5\\x95\\xc7\\x9f\\xa2\\xc1E\\x…"
      ]
     },
     "metadata": {},
     "output_type": "display_data"
    }
   ],
   "source": [
    "SceneWidget(spheres, size_display=(600, 400), size_world=255)"
   ]
  },
  {
   "cell_type": "code",
   "execution_count": null,
   "metadata": {},
   "outputs": [],
   "source": []
  }
 ],
 "metadata": {
  "kernelspec": {
   "display_name": "Python 3",
   "language": "python",
   "name": "python3"
  },
  "language_info": {
   "codemirror_mode": {
    "name": "ipython",
    "version": 3
   },
   "file_extension": ".py",
   "mimetype": "text/x-python",
   "name": "python",
   "nbconvert_exporter": "python",
   "pygments_lexer": "ipython3",
   "version": "3.8.5"
  },
  "widgets": {
   "application/vnd.jupyter.widget-state+json": {
    "state": {
     "2fdf7187a6fb4462a13720bba8f2fff3": {
      "model_module": "@jupyter-widgets/base",
      "model_module_version": "1.2.0",
      "model_name": "LayoutModel",
      "state": {}
     },
     "5df62ae074894527ae8081916e6322d4": {
      "model_module": "pgljupyter",
      "model_module_version": "^0.1.21",
      "model_name": "SceneWidgetModel",
      "state": {
       "_model_module_version": "^0.1.21",
       "_view_module_version": "^0.1.21",
       "axes_helper": false,
       "layout": "IPY_MODEL_acf1fb310a74408b883b92d93f7f61ea",
       "light_helper": false,
       "plane": true,
       "size_display": [
        600,
        400
       ],
       "size_world": 255
      }
     },
     "606b5f0d7dab4911997ad508a55f3116": {
      "model_module": "@jupyter-widgets/base",
      "model_module_version": "1.2.0",
      "model_name": "LayoutModel",
      "state": {}
     },
     "64009399d2f84a5a9fc67e368896f562": {
      "model_module": "@jupyter-widgets/base",
      "model_module_version": "1.2.0",
      "model_name": "LayoutModel",
      "state": {}
     },
     "771d54476e2449e1b9e92567837ebfb7": {
      "model_module": "pgljupyter",
      "model_module_version": "^0.1.21",
      "model_name": "SceneWidgetModel",
      "state": {
       "_model_module_version": "^0.1.21",
       "_view_module_version": "^0.1.21",
       "axes_helper": false,
       "layout": "IPY_MODEL_78ef205264104d429043329432ca33ca",
       "light_helper": false,
       "plane": true,
       "size_display": [
        600,
        400
       ],
       "size_world": 255
      }
     },
     "78ef205264104d429043329432ca33ca": {
      "model_module": "@jupyter-widgets/base",
      "model_module_version": "1.2.0",
      "model_name": "LayoutModel",
      "state": {}
     },
     "85ee364d37ea42a0b9a4f82340ba106f": {
      "model_module": "pgljupyter",
      "model_module_version": "^0.1.21",
      "model_name": "SceneWidgetModel",
      "state": {
       "_model_module_version": "^0.1.21",
       "_view_module_version": "^0.1.21",
       "axes_helper": false,
       "layout": "IPY_MODEL_64009399d2f84a5a9fc67e368896f562",
       "light_helper": false,
       "plane": true,
       "size_display": [
        600,
        400
       ],
       "size_world": 255
      }
     },
     "a2bdf2da560c4f6286040442d1cdefa2": {
      "model_module": "pgljupyter",
      "model_module_version": "^0.1.21",
      "model_name": "SceneWidgetModel",
      "state": {
       "_model_module_version": "^0.1.21",
       "_view_module_version": "^0.1.21",
       "axes_helper": false,
       "layout": "IPY_MODEL_2fdf7187a6fb4462a13720bba8f2fff3",
       "light_helper": false,
       "plane": true,
       "size_display": [
        600,
        400
       ],
       "size_world": 255
      }
     },
     "acf1fb310a74408b883b92d93f7f61ea": {
      "model_module": "@jupyter-widgets/base",
      "model_module_version": "1.2.0",
      "model_name": "LayoutModel",
      "state": {}
     },
     "d03e52ce7a694fc19da1c4c3c97e30dd": {
      "model_module": "pgljupyter",
      "model_module_version": "^0.1.21",
      "model_name": "SceneWidgetModel",
      "state": {
       "_model_module_version": "^0.1.21",
       "_view_module_version": "^0.1.21",
       "axes_helper": false,
       "layout": "IPY_MODEL_606b5f0d7dab4911997ad508a55f3116",
       "light_helper": false,
       "plane": true,
       "size_display": [
        600,
        400
       ],
       "size_world": 255
      }
     },
     "f10175be353e4dac8d87580cfe15aa05": {
      "buffers": [
       {
        "data": "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",
        "encoding": "base64",
        "path": [
         "scenes",
         0,
         "data"
        ]
       }
      ],
      "model_module": "pgljupyter",
      "model_module_version": "^0.1.21",
      "model_name": "SceneWidgetModel",
      "state": {
       "_model_module_version": "^0.1.21",
       "_view_module_version": "^0.1.21",
       "axes_helper": false,
       "layout": "IPY_MODEL_f333840e652b4c29af6ae1f8a361b341",
       "light_helper": false,
       "plane": true,
       "scenes": [
        {
         "id": "kYyCtOLSt3jOafVXxYcU96Zfi",
         "position": [
          0,
          0,
          0
         ],
         "scale": 1,
         "scene": "<openalea.plantgl.scenegraph._pglsg.Scene object at 0x7fa3ff3a4b30>"
        }
       ],
       "size_display": [
        600,
        400
       ],
       "size_world": 255
      }
     },
     "f333840e652b4c29af6ae1f8a361b341": {
      "model_module": "@jupyter-widgets/base",
      "model_module_version": "1.2.0",
      "model_name": "LayoutModel",
      "state": {}
     }
    },
    "version_major": 2,
    "version_minor": 0
   }
  }
 },
 "nbformat": 4,
 "nbformat_minor": 4
}
