{
 "cells": [
  {
   "cell_type": "code",
   "execution_count": 1,
   "metadata": {},
   "outputs": [],
   "source": [
    "from pgljupyter import SceneWidget\n",
    "from openalea.plantgl.all import *\n",
    "import random"
   ]
  },
  {
   "cell_type": "code",
   "execution_count": 2,
   "metadata": {
    "scrolled": true
   },
   "outputs": [],
   "source": [
    "spheres = []\n",
    "\n",
    "for i in range(255):\n",
    "    x, y, z = [random.choice([-1, 1]) * random.randrange(0, int(255/2)) for i in range(3)]\n",
    "    m = Material(ambient=(x+int(255/2), y+int(255/2), z+int(255/2)), shininess=0.3)\n",
    "    spheres.append(Shape(Translated(x, y, z, Sphere(random.randrange(1, 20), 20, 20)), m))\n"
   ]
  },
  {
   "cell_type": "code",
   "execution_count": 3,
   "metadata": {},
   "outputs": [
    {
     "data": {
      "application/vnd.jupyter.widget-view+json": {
       "model_id": "e5044171d46d42919a9569907b20e50a",
       "version_major": 2,
       "version_minor": 0
      },
      "text/plain": [
       "SceneWidget(scenes=[{'id': 'BncCTzwIh7YXkmjmP8UQ4Awt6', 'data': b'x\\xdau\\x9c\\x0b\\x98T\\xc5\\xb1\\xc7\\x07\\xc5\\x07\\…"
      ]
     },
     "metadata": {},
     "output_type": "display_data"
    }
   ],
   "source": [
    "SceneWidget(spheres, size_display=(600, 400), size_world=255)"
   ]
  },
  {
   "cell_type": "code",
   "execution_count": null,
   "metadata": {},
   "outputs": [],
   "source": []
  }
 ],
 "metadata": {
  "kernelspec": {
   "display_name": "Python 3",
   "language": "python",
   "name": "python3"
  },
  "language_info": {
   "codemirror_mode": {
    "name": "ipython",
    "version": 3
   },
   "file_extension": ".py",
   "mimetype": "text/x-python",
   "name": "python",
   "nbconvert_exporter": "python",
   "pygments_lexer": "ipython3",
   "version": "3.8.5"
  }
 },
 "nbformat": 4,
 "nbformat_minor": 4
}
