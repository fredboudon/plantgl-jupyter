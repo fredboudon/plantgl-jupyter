{
 "cells": [
  {
   "cell_type": "code",
   "execution_count": 1,
   "metadata": {},
   "outputs": [],
   "source": [
    "from pgljupyter import SceneWidget\n",
    "from openalea.plantgl.all import *\n",
    "import random"
   ]
  },
  {
   "cell_type": "code",
   "execution_count": 2,
   "metadata": {
    "scrolled": true
   },
   "outputs": [],
   "source": [
    "spheres = []\n",
    "\n",
    "for i in range(255):\n",
    "    x, y, z = [random.choice([-1, 1]) * random.randrange(0, int(255/2)) for i in range(3)]\n",
    "    m = Material(ambient=(x+int(255/2), y+int(255/2), z+int(255/2)), shininess=0.1, diffuse=1)\n",
    "    spheres.append(Shape(Translated(x, y, z, Sphere(random.randrange(1, 20), 20, 20)), m))\n"
   ]
  },
  {
   "cell_type": "code",
   "execution_count": 3,
   "metadata": {},
   "outputs": [
    {
     "data": {
      "application/vnd.jupyter.widget-view+json": {
       "model_id": "9d8d3c3e9a8b4715b4d5e42ecdb077cf",
       "version_major": 2,
       "version_minor": 0
      },
      "text/plain": [
       "SceneWidget(scenes=[{'id': 'MsIMs5xAoqvsl1Bqea2LxYAAH', 'data': b'x\\xda}\\x9c\\x0b\\xbcTU\\xbd\\xc7w\\x08\\xf9\\x8c{\\x…"
      ]
     },
     "metadata": {},
     "output_type": "display_data"
    }
   ],
   "source": [
    "SceneWidget(spheres, size_display=(600, 400), size_world=255)"
   ]
  },
  {
   "cell_type": "code",
   "execution_count": null,
   "metadata": {},
   "outputs": [],
   "source": []
  }
 ],
 "metadata": {
  "kernelspec": {
   "display_name": "Python 3",
   "language": "python",
   "name": "python3"
  },
  "language_info": {
   "codemirror_mode": {
    "name": "ipython",
    "version": 3
   },
   "file_extension": ".py",
   "mimetype": "text/x-python",
   "name": "python",
   "nbconvert_exporter": "python",
   "pygments_lexer": "ipython3",
   "version": "3.9.2"
  },
  "widgets": {
   "application/vnd.jupyter.widget-state+json": {
    "state": {
     "9643a5956f3f4262b5edbb110762b960": {
      "model_module": "@jupyter-widgets/base",
      "model_module_version": "1.2.0",
      "model_name": "LayoutModel",
      "state": {}
     },
     "9d8d3c3e9a8b4715b4d5e42ecdb077cf": {
      "buffers": [
       {
        "data": "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",
        "encoding": "base64",
        "path": [
         "scenes",
         0,
         "data"
        ]
       }
      ],
      "model_module": "pgljupyter",
      "model_module_version": "^1.0.4",
      "model_name": "SceneWidgetModel",
      "state": {
       "_model_module_version": "^1.0.4",
       "_view_module_version": "^1.0.4",
       "axes_helper": false,
       "layout": "IPY_MODEL_9643a5956f3f4262b5edbb110762b960",
       "light_helper": false,
       "plane": true,
       "scenes": [
        {
         "id": "MsIMs5xAoqvsl1Bqea2LxYAAH",
         "position": [
          0,
          0,
          0
         ],
         "scale": 1,
         "scene": "<openalea.plantgl.scenegraph._pglsg.Scene object at 0x7f42242ced60>"
        }
       ],
       "size_display": [
        600,
        400
       ],
       "size_world": 255
      }
     }
    },
    "version_major": 2,
    "version_minor": 0
   }
  }
 },
 "nbformat": 4,
 "nbformat_minor": 4
}
