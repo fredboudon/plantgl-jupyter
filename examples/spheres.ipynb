{
 "cells": [
  {
   "cell_type": "code",
   "execution_count": 4,
   "metadata": {},
   "outputs": [],
   "source": [
    "from pgljupyter import SceneWidget\n",
    "from openalea.plantgl.all import *\n",
    "import random"
   ]
  },
  {
   "cell_type": "code",
   "execution_count": 5,
   "metadata": {
    "scrolled": true
   },
   "outputs": [],
   "source": [
    "spheres = []\n",
    "\n",
    "for i in range(255):\n",
    "    x, y, z = [random.choice([-1, 1]) * random.randrange(0, int(255/2)) for i in range(3)]\n",
    "    m = Material(ambient=(x+int(255/2), y+int(255/2), z+int(255/2)), shininess=0.1, diffuse=1)\n",
    "    spheres.append(Shape(Translated(x, y, z, Sphere(random.randrange(1, 20), 20, 20)), m))\n"
   ]
  },
  {
   "cell_type": "code",
   "execution_count": 6,
   "metadata": {},
   "outputs": [
    {
     "data": {
      "application/vnd.jupyter.widget-view+json": {
       "model_id": "7410b17101a54cde96da9fd1316f2f48",
       "version_major": 2,
       "version_minor": 0
      },
      "text/plain": [
       "SceneWidget(scenes=[{'id': 'CGPKiOQxcj6Zu0zYoB6xGsH3i', 'data': b'x\\xdau\\x9c\\x0b\\x98\\x14\\xd5\\x95\\xc7\\x0bAC\\x90…"
      ]
     },
     "metadata": {},
     "output_type": "display_data"
    }
   ],
   "source": [
    "SceneWidget(spheres, size_display=(600, 400), size_world=255)"
   ]
  },
  {
   "cell_type": "code",
   "execution_count": null,
   "metadata": {},
   "outputs": [],
   "source": []
  }
 ],
 "metadata": {
  "kernelspec": {
   "display_name": "Python 3",
   "language": "python",
   "name": "python3"
  },
  "language_info": {
   "codemirror_mode": {
    "name": "ipython",
    "version": 3
   },
   "file_extension": ".py",
   "mimetype": "text/x-python",
   "name": "python",
   "nbconvert_exporter": "python",
   "pygments_lexer": "ipython3",
   "version": "3.9.1"
  },
  "widgets": {
   "application/vnd.jupyter.widget-state+json": {
    "state": {
     "13a4e7fea2c94aa9bc59d6b511c6d3a8": {
      "buffers": [
       {
        "data": "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",
        "encoding": "base64",
        "path": [
         "scenes",
         0,
         "data"
        ]
       }
      ],
      "model_module": "pgljupyter",
      "model_module_version": "^0.2.1",
      "model_name": "SceneWidgetModel",
      "state": {
       "_model_module_version": "^0.2.1",
       "_view_module_version": "^0.2.1",
       "axes_helper": false,
       "layout": "IPY_MODEL_2a372418ed6f4ed897c69c42e8fd0e1a",
       "light_helper": false,
       "plane": true,
       "scenes": [
        {
         "data": {},
         "id": "hToyEt7wIOL2Kz6tkktdUlfsQ",
         "position": [
          0,
          0,
          0
         ],
         "scale": 1,
         "scene": "<openalea.plantgl.scenegraph._pglsg.Scene object at 0x7fc0784f6930>"
        }
       ],
       "size_display": [
        600,
        400
       ],
       "size_world": 255
      }
     },
     "2a372418ed6f4ed897c69c42e8fd0e1a": {
      "model_module": "@jupyter-widgets/base",
      "model_module_version": "1.2.0",
      "model_name": "LayoutModel",
      "state": {}
     },
     "2fdf7187a6fb4462a13720bba8f2fff3": {
      "model_module": "@jupyter-widgets/base",
      "model_module_version": "1.2.0",
      "model_name": "LayoutModel",
      "state": {}
     },
     "5df62ae074894527ae8081916e6322d4": {
      "model_module": "pgljupyter",
      "model_module_version": "^0.1.21",
      "model_name": "SceneWidgetModel",
      "state": {
       "_model_module_version": "^0.1.21",
       "_view_module_version": "^0.1.21",
       "axes_helper": false,
       "layout": "IPY_MODEL_acf1fb310a74408b883b92d93f7f61ea",
       "light_helper": false,
       "plane": true,
       "size_display": [
        600,
        400
       ],
       "size_world": 255
      }
     },
     "606b5f0d7dab4911997ad508a55f3116": {
      "model_module": "@jupyter-widgets/base",
      "model_module_version": "1.2.0",
      "model_name": "LayoutModel",
      "state": {}
     },
     "64009399d2f84a5a9fc67e368896f562": {
      "model_module": "@jupyter-widgets/base",
      "model_module_version": "1.2.0",
      "model_name": "LayoutModel",
      "state": {}
     },
     "6a73668a824a45ba9fef804b5c0f30ea": {
      "model_module": "@jupyter-widgets/base",
      "model_module_version": "1.2.0",
      "model_name": "LayoutModel",
      "state": {}
     },
     "771d54476e2449e1b9e92567837ebfb7": {
      "model_module": "pgljupyter",
      "model_module_version": "^0.1.21",
      "model_name": "SceneWidgetModel",
      "state": {
       "_model_module_version": "^0.1.21",
       "_view_module_version": "^0.1.21",
       "axes_helper": false,
       "layout": "IPY_MODEL_78ef205264104d429043329432ca33ca",
       "light_helper": false,
       "plane": true,
       "size_display": [
        600,
        400
       ],
       "size_world": 255
      }
     },
     "78ef205264104d429043329432ca33ca": {
      "model_module": "@jupyter-widgets/base",
      "model_module_version": "1.2.0",
      "model_name": "LayoutModel",
      "state": {}
     },
     "85ee364d37ea42a0b9a4f82340ba106f": {
      "model_module": "pgljupyter",
      "model_module_version": "^0.1.21",
      "model_name": "SceneWidgetModel",
      "state": {
       "_model_module_version": "^0.1.21",
       "_view_module_version": "^0.1.21",
       "axes_helper": false,
       "layout": "IPY_MODEL_64009399d2f84a5a9fc67e368896f562",
       "light_helper": false,
       "plane": true,
       "size_display": [
        600,
        400
       ],
       "size_world": 255
      }
     },
     "a2bdf2da560c4f6286040442d1cdefa2": {
      "model_module": "pgljupyter",
      "model_module_version": "^0.1.21",
      "model_name": "SceneWidgetModel",
      "state": {
       "_model_module_version": "^0.1.21",
       "_view_module_version": "^0.1.21",
       "axes_helper": false,
       "layout": "IPY_MODEL_2fdf7187a6fb4462a13720bba8f2fff3",
       "light_helper": false,
       "plane": true,
       "size_display": [
        600,
        400
       ],
       "size_world": 255
      }
     },
     "ab4d8adbd80e42d7abf11f7c6a93956b": {
      "model_module": "pgljupyter",
      "model_module_version": "^0.2.1",
      "model_name": "SceneWidgetModel",
      "state": {
       "_model_module_version": "^0.2.1",
       "_view_module_version": "^0.2.1",
       "axes_helper": false,
       "layout": "IPY_MODEL_6a73668a824a45ba9fef804b5c0f30ea",
       "light_helper": false,
       "plane": true,
       "size_display": [
        600,
        400
       ],
       "size_world": 255
      }
     },
     "acf1fb310a74408b883b92d93f7f61ea": {
      "model_module": "@jupyter-widgets/base",
      "model_module_version": "1.2.0",
      "model_name": "LayoutModel",
      "state": {}
     },
     "d03e52ce7a694fc19da1c4c3c97e30dd": {
      "model_module": "pgljupyter",
      "model_module_version": "^0.1.21",
      "model_name": "SceneWidgetModel",
      "state": {
       "_model_module_version": "^0.1.21",
       "_view_module_version": "^0.1.21",
       "axes_helper": false,
       "layout": "IPY_MODEL_606b5f0d7dab4911997ad508a55f3116",
       "light_helper": false,
       "plane": true,
       "size_display": [
        600,
        400
       ],
       "size_world": 255
      }
     },
     "f10175be353e4dac8d87580cfe15aa05": {
      "model_module": "pgljupyter",
      "model_module_version": "^0.1.21",
      "model_name": "SceneWidgetModel",
      "state": {
       "_model_module_version": "^0.1.21",
       "_view_module_version": "^0.1.21",
       "axes_helper": false,
       "layout": "IPY_MODEL_f333840e652b4c29af6ae1f8a361b341",
       "light_helper": false,
       "plane": true,
       "size_display": [
        600,
        400
       ],
       "size_world": 255
      }
     },
     "f333840e652b4c29af6ae1f8a361b341": {
      "model_module": "@jupyter-widgets/base",
      "model_module_version": "1.2.0",
      "model_name": "LayoutModel",
      "state": {}
     }
    },
    "version_major": 2,
    "version_minor": 0
   }
  }
 },
 "nbformat": 4,
 "nbformat_minor": 4
}
