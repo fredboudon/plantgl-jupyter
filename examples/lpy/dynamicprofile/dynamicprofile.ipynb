{
 "cells": [
  {
   "cell_type": "code",
   "execution_count": 1,
   "metadata": {},
   "outputs": [],
   "source": [
    "from pgljupyter import LsystemWidget"
   ]
  },
  {
   "cell_type": "code",
   "execution_count": 2,
   "metadata": {},
   "outputs": [],
   "source": [
    "lw = LsystemWidget('dynamicprofile', size_world=2, unit='m')"
   ]
  },
  {
   "cell_type": "code",
   "execution_count": 3,
   "metadata": {
    "tags": []
   },
   "outputs": [
    {
     "data": {
      "application/vnd.jupyter.widget-view+json": {
       "model_id": "",
       "version_major": 2,
       "version_minor": 0
      },
      "text/plain": [
       "LsystemWidget(derivationLength=161, scene={'data': b'x\\xdam\\xd4\\x0bLSW\\x18\\x00\\xe0\\xdb\\x96\\xd7x\\xc8s\\x1b+\\xe3\\…"
      ]
     },
     "metadata": {},
     "output_type": "display_data"
    }
   ],
   "source": [
    "lw"
   ]
  },
  {
   "cell_type": "code",
   "execution_count": 4,
   "metadata": {},
   "outputs": [
    {
     "data": {
      "application/vnd.jupyter.widget-view+json": {
       "model_id": "503b1588adc840f6932d885419da62c3",
       "version_major": 2,
       "version_minor": 0
      },
      "text/plain": [
       "ParameterEditor(children=(VBox(children=(HBox(children=(HBox(children=(Button(description='Apply changes', sty…"
      ]
     },
     "metadata": {},
     "output_type": "display_data"
    }
   ],
   "source": [
    "lw.editor"
   ]
  },
  {
   "cell_type": "code",
   "execution_count": null,
   "metadata": {},
   "outputs": [],
   "source": []
  }
 ],
 "metadata": {
  "kernelspec": {
   "display_name": "Python 3",
   "language": "python",
   "name": "python3"
  },
  "language_info": {
   "codemirror_mode": {
    "name": "ipython",
    "version": 3
   },
   "file_extension": ".py",
   "mimetype": "text/x-python",
   "name": "python",
   "nbconvert_exporter": "python",
   "pygments_lexer": "ipython3",
   "version": "3.9.2"
  },
  "widgets": {
   "application/vnd.jupyter.widget-state+json": {
    "state": {
     "007e5236eeb94a31983a9d430af2136f": {
      "model_module": "@jupyter-widgets/controls",
      "model_module_version": "1.5.0",
      "model_name": "VBoxModel",
      "state": {
       "children": [
        "IPY_MODEL_8145ef2e035e44bea91d0ba4b4396bee",
        "IPY_MODEL_ababe9376aa74d5383b9fc729beeff1a"
       ],
       "layout": "IPY_MODEL_1214301f2351406f8db109fb5ef6db7b"
      }
     },
     "014b373e7403455b8198be1784db738f": {
      "model_module": "@jupyter-widgets/controls",
      "model_module_version": "1.5.0",
      "model_name": "CheckboxModel",
      "state": {
       "description": "Auto apply",
       "disabled": false,
       "layout": "IPY_MODEL_f0b7805e88e240f791ddc04c8301d386",
       "style": "IPY_MODEL_17da857804b74559aab569f3e13eebb9",
       "value": true
      }
     },
     "01f7d57bb3d94fecbdc1d949bf907eab": {
      "model_module": "@jupyter-widgets/controls",
      "model_module_version": "1.5.0",
      "model_name": "DropdownModel",
      "state": {
       "_options_labels": [
        "Integer",
        "Float",
        "Bool"
       ],
       "index": 0,
       "layout": "IPY_MODEL_5d76af1d90054f6db127779586223f3a",
       "style": "IPY_MODEL_21fa6e7c06864b878557c46e0f32b28d"
      }
     },
     "02dc2d4859ac433485c1458ce6a68b47": {
      "model_module": "@jupyter-widgets/base",
      "model_module_version": "1.2.0",
      "model_name": "LayoutModel",
      "state": {}
     },
     "0499b8fbb29349ecb1d66cf998cd0052": {
      "model_module": "@jupyter-widgets/controls",
      "model_module_version": "1.5.0",
      "model_name": "TextModel",
      "state": {
       "continuous_update": false,
       "description": "name",
       "layout": "IPY_MODEL_3516b893a4804a2389754aef0bbc49ed",
       "style": "IPY_MODEL_54df2e021f284e62b27cb5f499cd7fd3",
       "value": "axis1"
      }
     },
     "07c123ba889f4d0baecee7193f2b7414": {
      "model_module": "pgljupyter",
      "model_module_version": "^1.0.3",
      "model_name": "_CurveEditorModel",
      "state": {
       "_model_module_version": "^1.0.3",
       "_view_module_version": "^1.0.3",
       "layout": "IPY_MODEL_02dc2d4859ac433485c1458ce6a68b47",
       "name": "axis6",
       "points": [
        [
         -0.5,
         0
        ],
        [
         -0.4096211298461914,
         0.11916335514498623
        ],
        [
         -0.33890305711891866,
         0.21345411878134987
        ],
        [
         -0.3254329480280095,
         0.30774488241771353
        ],
        [
         -0.377214541759461,
         0.39738799966748417
        ],
        [
         -0.49416205043080635,
         0.45168505726489455
        ]
       ],
       "type": "NurbsCurve2D"
      }
     },
     "07e039ea14ea40d792910f4e211c90de": {
      "model_module": "@jupyter-widgets/controls",
      "model_module_version": "1.5.0",
      "model_name": "AccordionModel",
      "state": {
       "layout": "IPY_MODEL_21b2c14219064574b8849b67825a7f59"
      }
     },
     "0983f12a12254f00b78978efc2f5da54": {
      "model_module": "@jupyter-widgets/base",
      "model_module_version": "1.2.0",
      "model_name": "LayoutModel",
      "state": {}
     },
     "0aba47352aa446ac90baee88cdfc32c3": {
      "model_module": "@jupyter-widgets/base",
      "model_module_version": "1.2.0",
      "model_name": "LayoutModel",
      "state": {}
     },
     "0cd2132dff08492186bda091c1e8b6fe": {
      "model_module": "@jupyter-widgets/base",
      "model_module_version": "1.2.0",
      "model_name": "LayoutModel",
      "state": {}
     },
     "0f37cd0d49404c669fa9ce16a4566e7a": {
      "model_module": "@jupyter-widgets/base",
      "model_module_version": "1.2.0",
      "model_name": "LayoutModel",
      "state": {}
     },
     "11ce0198d67243109844028cbce95ad1": {
      "model_module": "@jupyter-widgets/controls",
      "model_module_version": "1.5.0",
      "model_name": "SliderStyleModel",
      "state": {
       "description_width": ""
      }
     },
     "1214301f2351406f8db109fb5ef6db7b": {
      "model_module": "@jupyter-widgets/base",
      "model_module_version": "1.2.0",
      "model_name": "LayoutModel",
      "state": {
       "margin": "5px"
      }
     },
     "14e48e87185440f6b11574aaba9deb9e": {
      "model_module": "@jupyter-widgets/controls",
      "model_module_version": "1.5.0",
      "model_name": "ColorPickerModel",
      "state": {
       "description": "ambient",
       "disabled": false,
       "layout": "IPY_MODEL_e5c12a0eae2244d5954f5e84e6527309",
       "style": "IPY_MODEL_e8b8799d00ca42a59b861e9c2a3385e6",
       "value": "#295426"
      }
     },
     "15a80c1ba34e4bc38d8bb710064a477f": {
      "buffers": [
       {
        "data": "eNpt1A1MU1cUAOBLQYud2A6Hq4CDproJV7SUArb2nSKIKB1KUjFzTChIGdWOsvIzF50b/vAzFv/CFCIOJZFp2yHTjs3pewzChDGqWFDYJiwK6xyWoWEgoG7jXbNEzW7yvXfOzcm9OcnNEaXHxa5PQCgwyosXKBaLZiCEODOQJistR8eZjt09UUJans6kTzOw6dxZKHZ7nik/V2/MZnNfT5RoNLxv0GeT6oWz0bp8U3puTL6pQCdd5Ta9JWL3OUKkWbMyMXbtqtTwVLksfLlcFhEmWS6Xh0vZC7nsyYis+Yitf+jsW/E0hD5qzD1wfglb4fukkIOeXWOn+Nje0UFN/y1s7raQi3JMxky9QVdRk6Ths/fsYK4w14ruscepFjb4MfHXfIGNxefUCv5ANc3G1iQ1UNdDyf57f/XAYeVOJRu7c1GM0WA0pYbmRMzRKFeG8BGKinqqscj/GouUSOSh4VLu841Jp7+FZ80US/uyAFg13ipidZeOANUeokZyiCgJOU7UFX9O8HbUE99HfkNobzHElvIWYr3+B8KRayeqWjqJyqwuQm24TjT/dIMwXeghOr17CcrVQySrn7DKbhBZ1m7i5lcOYkzTSbxeaiccG9sJE3OZmNPUTFxKYYjRIxeITXobkXq9jojrPU0sM9YQbx85Rjjjywld0SfE1ai9RONgASHyyyDavRIJ//0KYuRdMUEZeEStop9i7bt6kqCkK57xPw9L+txjki8SYp+hXuro7iplfUYgzrIOUpxv/andmxdjD9496u93tlGDnhIsn5yi5JLjlCslEqd8zQFtewsl3Ai4sI4LccUuyj64Cockz4ZAGQ8eP47Hc20CKI58BVZ+moiT61+CJeukcLQiCS+NEUL19tUgfrAJl2n9YG/DmzB6dDOuHV8A27hGyE7X4gejAfCdrRBmyNJxn0oEI64yUDjTsZMRwbGgIxCgTscbEkVQkHkCjou1WNIaAPuqzHBx2Vu4f8wfPJts8MH8jdi7WgjjzQyc3Z+Aw0q8obe0DZA2Ghcf4MHBiWsQlirDwnIEpX/8DHq9GPtM3aHyQgZAVcDHl0s6qM6yIdj1xv3gyBes1Ly2e7C0iwn+gltC9Z0eA31pSbDyTDT1pfskDP8aECwaGVDua50C63BYEI5Byvh/psCh/vjMFhx7qbFjEl5rk5mH+hGdn/IAujMOml03E+iH/aOwILDFPHGljJ61dQTue4yZPztTR3vNGoJO/xctioEr9GDDAMxcvchScfIuvX7bTdi1KMJyv8eNqRR1g/F8tMXtRx5z7m47VP2+1nJymM8gThM4otUW8W8CZmdrA/wyJ84idnoxqlor+HmAhZ/HZWb+WQPztKGWPbcf0eMXK+G2Q2T5sMFJtwccAr1cYJlZbaft3FLY+njSbJOdo8WGQlg81Gm+5SqnfYry4M7EKfOJEwb68FAmrHGYzEXCENr2aBOQweTGziN3D2TQpWXmDCs0y4M2vMpOGL5A8C/wfC3h",
        "encoding": "base64",
        "path": [
         "scene",
         "data"
        ]
       }
      ],
      "model_module": "pgljupyter",
      "model_module_version": "^1.0.3",
      "model_name": "LsystemWidgetModel",
      "state": {
       "_model_module_version": "^1.0.3",
       "_view_module_version": "^1.0.3",
       "axes_helper": false,
       "derivationLength": 161,
       "layout": "IPY_MODEL_e78c199de7f9441b9ec43196277b3d73",
       "light_helper": false,
       "plane": true,
       "progress": 1,
       "scene": {
        "derivationStep": 160,
        "id": 160,
        "scene": "<openalea.plantgl.scenegraph._pglsg.Scene object at 0x7f36e7fd3940>"
       },
       "size_display": [
        400,
        400
       ],
       "size_world": 2,
       "unit": 0
      }
     },
     "15deca67106f467785696f710d082802": {
      "model_module": "@jupyter-widgets/base",
      "model_module_version": "1.2.0",
      "model_name": "LayoutModel",
      "state": {}
     },
     "17da857804b74559aab569f3e13eebb9": {
      "model_module": "@jupyter-widgets/controls",
      "model_module_version": "1.5.0",
      "model_name": "DescriptionStyleModel",
      "state": {
       "description_width": ""
      }
     },
     "199191f7d6ba473eab75577c40742904": {
      "model_module": "@jupyter-widgets/base",
      "model_module_version": "1.2.0",
      "model_name": "LayoutModel",
      "state": {
       "margin": "10px 10px"
      }
     },
     "19c456c3e0b0440d9f922dd798f80c28": {
      "model_module": "@jupyter-widgets/controls",
      "model_module_version": "1.5.0",
      "model_name": "DescriptionStyleModel",
      "state": {
       "description_width": ""
      }
     },
     "1ac2e0a71daa4e599a3877bf85c2d3e1": {
      "model_module": "@jupyter-widgets/controls",
      "model_module_version": "1.5.0",
      "model_name": "TextModel",
      "state": {
       "continuous_update": false,
       "description": "name",
       "layout": "IPY_MODEL_de59cdc1ca254845a576ada0c2efdcb5",
       "style": "IPY_MODEL_19c456c3e0b0440d9f922dd798f80c28",
       "value": "axis4"
      }
     },
     "1cbe9dbd13084715938104d5680bd9d2": {
      "model_module": "pgljupyter",
      "model_module_version": "^1.0.3",
      "model_name": "CurveEditorModel",
      "state": {
       "_model_module_version": "^1.0.3",
       "_view_module_version": "^1.0.3",
       "children": [
        "IPY_MODEL_6ddd007bf34c4802a344258d76d320ef",
        "IPY_MODEL_819d23eaa586416c8e8ab6236a39a5e9"
       ],
       "layout": "IPY_MODEL_ca70962096b848e38fc778cfe879151a"
      }
     },
     "1ec8bf108c194d02a2d0c01e981e443a": {
      "model_module": "@jupyter-widgets/base",
      "model_module_version": "1.2.0",
      "model_name": "LayoutModel",
      "state": {}
     },
     "21b2c14219064574b8849b67825a7f59": {
      "model_module": "@jupyter-widgets/base",
      "model_module_version": "1.2.0",
      "model_name": "LayoutModel",
      "state": {}
     },
     "21fa6e7c06864b878557c46e0f32b28d": {
      "model_module": "@jupyter-widgets/controls",
      "model_module_version": "1.5.0",
      "model_name": "DescriptionStyleModel",
      "state": {
       "description_width": ""
      }
     },
     "24df639e5ec44642943bfb3c152e5c1b": {
      "model_module": "@jupyter-widgets/controls",
      "model_module_version": "1.5.0",
      "model_name": "ButtonStyleModel",
      "state": {}
     },
     "26cac02a68e44981916859f3b67d68e6": {
      "model_module": "@jupyter-widgets/base",
      "model_module_version": "1.2.0",
      "model_name": "LayoutModel",
      "state": {}
     },
     "29f60e1c75e2481b8ff203f0931dabe7": {
      "model_module": "@jupyter-widgets/base",
      "model_module_version": "1.2.0",
      "model_name": "LayoutModel",
      "state": {}
     },
     "2bec3447334f4605ba7ce9f6d16c4475": {
      "model_module": "@jupyter-widgets/controls",
      "model_module_version": "1.5.0",
      "model_name": "DescriptionStyleModel",
      "state": {
       "description_width": ""
      }
     },
     "2c4659902b7f4322832fa553a8e69516": {
      "model_module": "@jupyter-widgets/base",
      "model_module_version": "1.2.0",
      "model_name": "LayoutModel",
      "state": {
       "margin": "10px 10px"
      }
     },
     "2d291bd134e94966a87189ba23de7546": {
      "model_module": "@jupyter-widgets/controls",
      "model_module_version": "1.5.0",
      "model_name": "TextModel",
      "state": {
       "continuous_update": false,
       "description": "name",
       "layout": "IPY_MODEL_26cac02a68e44981916859f3b67d68e6",
       "style": "IPY_MODEL_2bec3447334f4605ba7ce9f6d16c4475",
       "value": "axis3"
      }
     },
     "2db4c71159264080bb2be5c4dbe1bc8b": {
      "model_module": "pgljupyter",
      "model_module_version": "^1.0.3",
      "model_name": "CurveEditorModel",
      "state": {
       "_model_module_version": "^1.0.3",
       "_view_module_version": "^1.0.3",
       "children": [
        "IPY_MODEL_0499b8fbb29349ecb1d66cf998cd0052",
        "IPY_MODEL_386371e4bef34b30980a2560e8649a34"
       ],
       "layout": "IPY_MODEL_a299431aa6bd415996d34b6c12a17e23"
      }
     },
     "2f7d9dcffe314291bee009bdf60add8c": {
      "model_module": "@jupyter-widgets/controls",
      "model_module_version": "1.5.0",
      "model_name": "DescriptionStyleModel",
      "state": {
       "description_width": ""
      }
     },
     "312307037e6a4abcaf05054f1f5a0da3": {
      "model_module": "@jupyter-widgets/controls",
      "model_module_version": "1.5.0",
      "model_name": "HBoxModel",
      "state": {
       "layout": "IPY_MODEL_5d24d24b3d4e4d3dafed74a89e274520"
      }
     },
     "32c06ded4a004f13b32ecf1a723149ce": {
      "model_module": "@jupyter-widgets/controls",
      "model_module_version": "1.5.0",
      "model_name": "TextModel",
      "state": {
       "continuous_update": false,
       "description": "name",
       "layout": "IPY_MODEL_e54472d2374e48f58315c234cf52461f",
       "style": "IPY_MODEL_7a87781bda2e475a9ed9570af6d3d730",
       "value": "axis7"
      }
     },
     "3408debf3b9241629a56f1153526d6f7": {
      "model_module": "@jupyter-widgets/base",
      "model_module_version": "1.2.0",
      "model_name": "LayoutModel",
      "state": {}
     },
     "3424b949ace2457ca47ddc830cdf354b": {
      "model_module": "pgljupyter",
      "model_module_version": "^1.0.3",
      "model_name": "_CurveEditorModel",
      "state": {
       "_model_module_version": "^1.0.3",
       "_view_module_version": "^1.0.3",
       "layout": "IPY_MODEL_7a1c680c7c924263850cb05ed30f012e",
       "name": "axis4",
       "points": [
        [
         -0.4523769271054077,
         -0.005600587799786658
        ],
        [
         -0.3767718616508623,
         0.06190393492748608
        ],
        [
         -0.31736788165086227,
         0.11860773401839517
        ],
        [
         -0.25256353983268054,
         0.16991117129112243
        ],
        [
         -0.19585974074177137,
         0.23471551310930427
        ],
        [
         -0.11903621541579021,
         0.3431250146903886
        ]
       ],
       "type": "NurbsCurve2D"
      }
     },
     "3516b893a4804a2389754aef0bbc49ed": {
      "model_module": "@jupyter-widgets/base",
      "model_module_version": "1.2.0",
      "model_name": "LayoutModel",
      "state": {}
     },
     "366a678406c44e26bd8cbf840463a1ee": {
      "model_module": "@jupyter-widgets/controls",
      "model_module_version": "1.5.0",
      "model_name": "ButtonModel",
      "state": {
       "description": "Add",
       "layout": "IPY_MODEL_da69f2aa5ee7450dba3e355e9b6adfd4",
       "style": "IPY_MODEL_587c09240bff459abc626c493d2630a4"
      }
     },
     "3761894637d0401792728cd240e18b07": {
      "model_module": "@jupyter-widgets/controls",
      "model_module_version": "1.5.0",
      "model_name": "DescriptionStyleModel",
      "state": {
       "description_width": ""
      }
     },
     "37f48fec23cb45e59fff6301f331b2a7": {
      "model_module": "@jupyter-widgets/controls",
      "model_module_version": "1.5.0",
      "model_name": "ColorPickerModel",
      "state": {
       "description": "specular",
       "disabled": false,
       "layout": "IPY_MODEL_6131c66ef94249bc86ba99d3e979a122",
       "style": "IPY_MODEL_867c4a0820fd4ccfb035390a4d430d22",
       "value": "#0f1010"
      }
     },
     "386371e4bef34b30980a2560e8649a34": {
      "model_module": "pgljupyter",
      "model_module_version": "^1.0.3",
      "model_name": "_CurveEditorModel",
      "state": {
       "_model_module_version": "^1.0.3",
       "_view_module_version": "^1.0.3",
       "layout": "IPY_MODEL_63943a9f07364e5d94640486f314c355",
       "name": "axis1",
       "points": [
        [
         -0.5,
         0
        ],
        [
         -0.49552241639640116,
         0.21742664949363016
        ],
        [
         -0.21352716185094664,
         0.22279798767544834
        ],
        [
         -0.18667049143188477,
         0.02405847494817561
        ],
        [
         -0.36929596912367396,
         0.03748682040272106
        ],
        [
         -0.33438227094185574,
         0.1126855549481756
        ]
       ],
       "type": "NurbsCurve2D"
      }
     },
     "388fcbb97ce5495bb69b34e2a0e8bb39": {
      "model_module": "@jupyter-widgets/base",
      "model_module_version": "1.2.0",
      "model_name": "LayoutModel",
      "state": {}
     },
     "3932f4d0cefa445abad26c59c5cc9dbc": {
      "model_module": "@jupyter-widgets/base",
      "model_module_version": "1.2.0",
      "model_name": "LayoutModel",
      "state": {
       "margin": "10px 10px"
      }
     },
     "3aeb4dbfd12742078945f533a91f0478": {
      "model_module": "pgljupyter",
      "model_module_version": "^1.0.3",
      "model_name": "_CurveEditorModel",
      "state": {
       "_model_module_version": "^1.0.3",
       "_view_module_version": "^1.0.3",
       "layout": "IPY_MODEL_73c0f74d67cc40909523bfe34f37c7f2",
       "name": "axis3",
       "points": [
        [
         -0.5,
         0
        ],
        [
         -0.44177944697623517,
         0.10954939207802514
        ],
        [
         -0.38806606515805336,
         0.2035478102598433
        ],
        [
         -0.31018166152168974,
         0.2465185157143888
        ],
        [
         -0.21618322284984254,
         0.25994686116893423
        ],
        [
         -0.15441287473899162,
         0.14177742116893421
        ]
       ],
       "type": "NurbsCurve2D"
      }
     },
     "3cd3ec477aca4009b63ff701a0776158": {
      "model_module": "@jupyter-widgets/base",
      "model_module_version": "1.2.0",
      "model_name": "LayoutModel",
      "state": {
       "margin": "10px 10px"
      }
     },
     "3d98b7347d93436b96739571f4ff40dd": {
      "model_module": "@jupyter-widgets/base",
      "model_module_version": "1.2.0",
      "model_name": "LayoutModel",
      "state": {}
     },
     "40538d51edbb4210b522cf987de73249": {
      "model_module": "@jupyter-widgets/controls",
      "model_module_version": "1.5.0",
      "model_name": "TextModel",
      "state": {
       "continuous_update": false,
       "description": "name",
       "layout": "IPY_MODEL_d233eb4fe08a4e839f07ae374830e7ef",
       "style": "IPY_MODEL_c7deba9f022040d78e5e8064b73da72e",
       "value": "leaf"
      }
     },
     "420c0e98255f42ef89588b2d3614931f": {
      "model_module": "@jupyter-widgets/controls",
      "model_module_version": "1.5.0",
      "model_name": "FloatSliderModel",
      "state": {
       "continuous_update": false,
       "description": "shininess",
       "layout": "IPY_MODEL_58078a4d50e747d0bbc8b434bc6d81c1",
       "max": 1,
       "step": 0.1,
       "style": "IPY_MODEL_11ce0198d67243109844028cbce95ad1",
       "value": 0.2
      }
     },
     "425fee28803d4e21a9b44f7a2cfc4c05": {
      "model_module": "@jupyter-widgets/controls",
      "model_module_version": "1.5.0",
      "model_name": "ButtonStyleModel",
      "state": {}
     },
     "431c5416fffc40b4b157c2acfecf4ebc": {
      "model_module": "@jupyter-widgets/base",
      "model_module_version": "1.2.0",
      "model_name": "LayoutModel",
      "state": {
       "margin": "10px 10px"
      }
     },
     "450a51658eb74c13a933257de6d2bb86": {
      "model_module": "@jupyter-widgets/controls",
      "model_module_version": "1.5.0",
      "model_name": "ButtonModel",
      "state": {
       "description": "Apply changes",
       "disabled": true,
       "layout": "IPY_MODEL_898d2cf92e7244988a03843176485e1e",
       "style": "IPY_MODEL_d76991c3f3b147ada34f284e0d636488"
      }
     },
     "4d4c93f0f4924deba6a0b0477f436f98": {
      "model_module": "@jupyter-widgets/controls",
      "model_module_version": "1.5.0",
      "model_name": "VBoxModel",
      "state": {
       "children": [
        "IPY_MODEL_f90c9553253e4576a400e668c7c16e94",
        "IPY_MODEL_312307037e6a4abcaf05054f1f5a0da3",
        "IPY_MODEL_88c2437a00a241d18c35852eff96d4f2",
        "IPY_MODEL_a38c399e6f7f401186022f43fd9384f8"
       ],
       "layout": "IPY_MODEL_fc0a0a7c30ba4406ad9af3cdc90fe372"
      }
     },
     "503b1588adc840f6932d885419da62c3": {
      "model_module": "pgljupyter",
      "model_module_version": "^1.0.3",
      "model_name": "ParameterEditorModel",
      "state": {
       "_model_module_version": "^1.0.3",
       "_view_module_version": "^1.0.3",
       "children": [
        "IPY_MODEL_007e5236eeb94a31983a9d430af2136f"
       ],
       "layout": "IPY_MODEL_eeedad3968954d76995c85fa5f3562df"
      }
     },
     "51c72c06be5b412bafda4650865165e0": {
      "model_module": "@jupyter-widgets/controls",
      "model_module_version": "1.5.0",
      "model_name": "ColorPickerModel",
      "state": {
       "description": "emission",
       "disabled": false,
       "layout": "IPY_MODEL_0f37cd0d49404c669fa9ce16a4566e7a",
       "style": "IPY_MODEL_b22ea06a297f4891825c82bf70891ed2",
       "value": "#000000"
      }
     },
     "53fabb867c0d49559cc1913d0ffd1cd2": {
      "model_module": "@jupyter-widgets/controls",
      "model_module_version": "1.5.0",
      "model_name": "TextModel",
      "state": {
       "continuous_update": false,
       "description": "name",
       "layout": "IPY_MODEL_3d98b7347d93436b96739571f4ff40dd",
       "style": "IPY_MODEL_7461c71524d04b56b356c0f8f8c827d8",
       "value": "profile"
      }
     },
     "54df2e021f284e62b27cb5f499cd7fd3": {
      "model_module": "@jupyter-widgets/controls",
      "model_module_version": "1.5.0",
      "model_name": "DescriptionStyleModel",
      "state": {
       "description_width": ""
      }
     },
     "58078a4d50e747d0bbc8b434bc6d81c1": {
      "model_module": "@jupyter-widgets/base",
      "model_module_version": "1.2.0",
      "model_name": "LayoutModel",
      "state": {}
     },
     "587c09240bff459abc626c493d2630a4": {
      "model_module": "@jupyter-widgets/controls",
      "model_module_version": "1.5.0",
      "model_name": "ButtonStyleModel",
      "state": {}
     },
     "58faf44eb24f46049a626d36b5098f35": {
      "model_module": "@jupyter-widgets/base",
      "model_module_version": "1.2.0",
      "model_name": "LayoutModel",
      "state": {}
     },
     "5935b54ea67f44efaefc262e4b6b648d": {
      "model_module": "pgljupyter",
      "model_module_version": "^1.0.3",
      "model_name": "_CurveEditorModel",
      "state": {
       "_model_module_version": "^1.0.3",
       "_view_module_version": "^1.0.3",
       "layout": "IPY_MODEL_ccf4868f671e4428a13b9af11c978c51",
       "name": "axis9",
       "points": [
        [
         -0.5,
         0
        ],
        [
         -0.4669615846065175,
         0.10362475759086609
        ],
        [
         -0.42851562474708466,
         0.29118498972390533
        ],
        [
         -0.5781451680983921,
         0.3950943948289799
        ],
        [
         -0.7236183352454963,
         0.2496212276818755
        ],
        [
         -0.5906142967110011,
         0.14986819878100388
        ]
       ],
       "type": "NurbsCurve2D"
      }
     },
     "5a2fe130f55a482985bd41db3a780c8f": {
      "model_module": "@jupyter-widgets/controls",
      "model_module_version": "1.5.0",
      "model_name": "ButtonStyleModel",
      "state": {}
     },
     "5d24d24b3d4e4d3dafed74a89e274520": {
      "model_module": "@jupyter-widgets/base",
      "model_module_version": "1.2.0",
      "model_name": "LayoutModel",
      "state": {
       "flex_flow": "row wrap",
       "margin": "20px"
      }
     },
     "5d4686e3fe784ef6b661792f13ea41cf": {
      "model_module": "@jupyter-widgets/controls",
      "model_module_version": "1.5.0",
      "model_name": "ButtonModel",
      "state": {
       "description": "Add",
       "layout": "IPY_MODEL_29f60e1c75e2481b8ff203f0931dabe7",
       "style": "IPY_MODEL_425fee28803d4e21a9b44f7a2cfc4c05"
      }
     },
     "5d76af1d90054f6db127779586223f3a": {
      "model_module": "@jupyter-widgets/base",
      "model_module_version": "1.2.0",
      "model_name": "LayoutModel",
      "state": {}
     },
     "5deadf786e9d428192272858135b1f3b": {
      "model_module": "@jupyter-widgets/controls",
      "model_module_version": "1.5.0",
      "model_name": "TextModel",
      "state": {
       "continuous_update": false,
       "description": "name",
       "layout": "IPY_MODEL_b376b3fba05f4d279eb1ea294ea94b92",
       "style": "IPY_MODEL_6cd67eee9f6441ae91f0ecd411d67511",
       "value": "axis8"
      }
     },
     "5e9b1fec760d4ba69ac3ddc93b360058": {
      "model_module": "@jupyter-widgets/controls",
      "model_module_version": "1.5.0",
      "model_name": "SliderStyleModel",
      "state": {
       "description_width": ""
      }
     },
     "60618829daf34363bde4620cb109ca06": {
      "model_module": "pgljupyter",
      "model_module_version": "^1.0.3",
      "model_name": "_CurveEditorModel",
      "state": {
       "_model_module_version": "^1.0.3",
       "_view_module_version": "^1.0.3",
       "layout": "IPY_MODEL_15deca67106f467785696f710d082802",
       "name": "axis2",
       "points": [
        [
         -0.5,
         0
        ],
        [
         -0.46537859650133195,
         0.1437906475518601
        ],
        [
         -0.3790209986412258,
         0.2681455884704129
        ],
        [
         -0.24084882888793227,
         0.2785085002136257
        ],
        [
         -0.15794553494223032,
         0.1541535592950728
        ],
        [
         -0.29611769151840023,
         0.04016153011973264
        ]
       ],
       "type": "NurbsCurve2D"
      }
     },
     "6131c66ef94249bc86ba99d3e979a122": {
      "model_module": "@jupyter-widgets/base",
      "model_module_version": "1.2.0",
      "model_name": "LayoutModel",
      "state": {}
     },
     "63943a9f07364e5d94640486f314c355": {
      "model_module": "@jupyter-widgets/base",
      "model_module_version": "1.2.0",
      "model_name": "LayoutModel",
      "state": {}
     },
     "6c3168e10f3d46ffa6c994dd920e254e": {
      "model_module": "@jupyter-widgets/base",
      "model_module_version": "1.2.0",
      "model_name": "LayoutModel",
      "state": {}
     },
     "6cd67eee9f6441ae91f0ecd411d67511": {
      "model_module": "@jupyter-widgets/controls",
      "model_module_version": "1.5.0",
      "model_name": "DescriptionStyleModel",
      "state": {
       "description_width": ""
      }
     },
     "6d61f5e7a660461e864827b97ddfac78": {
      "model_module": "pgljupyter",
      "model_module_version": "^1.0.3",
      "model_name": "CurveEditorModel",
      "state": {
       "_model_module_version": "^1.0.3",
       "_view_module_version": "^1.0.3",
       "children": [
        "IPY_MODEL_ab41046e41e44aa782517300d1626a8f",
        "IPY_MODEL_60618829daf34363bde4620cb109ca06"
       ],
       "layout": "IPY_MODEL_c4416602002d4209b05e2f6e3e2374f2"
      }
     },
     "6dabe32badcd4528af90adc8a91eddab": {
      "model_module": "@jupyter-widgets/controls",
      "model_module_version": "1.5.0",
      "model_name": "HBoxModel",
      "state": {
       "children": [
        "IPY_MODEL_9423875dd7ab435082ace063a20815a4",
        "IPY_MODEL_af2da4088a104948812ff490503307f3"
       ],
       "layout": "IPY_MODEL_6f2bb3077fbf42f0a09cf2edb84dd767"
      }
     },
     "6ddd007bf34c4802a344258d76d320ef": {
      "model_module": "@jupyter-widgets/controls",
      "model_module_version": "1.5.0",
      "model_name": "TextModel",
      "state": {
       "continuous_update": false,
       "description": "name",
       "layout": "IPY_MODEL_d6100fe8458d432daa95f592364ca84c",
       "style": "IPY_MODEL_e4236265a3eb4a07a4f747b5f51bbe5f",
       "value": "axis5"
      }
     },
     "6f2bb3077fbf42f0a09cf2edb84dd767": {
      "model_module": "@jupyter-widgets/base",
      "model_module_version": "1.2.0",
      "model_name": "LayoutModel",
      "state": {}
     },
     "7063e86c28ae480d9f715dab200d8ad7": {
      "model_module": "pgljupyter",
      "model_module_version": "^1.0.3",
      "model_name": "CurveEditorModel",
      "state": {
       "_model_module_version": "^1.0.3",
       "_view_module_version": "^1.0.3",
       "children": [
        "IPY_MODEL_9f812b286fa746f59a7e1b1bef957c6f",
        "IPY_MODEL_07c123ba889f4d0baecee7193f2b7414"
       ],
       "layout": "IPY_MODEL_3932f4d0cefa445abad26c59c5cc9dbc"
      }
     },
     "73c0f74d67cc40909523bfe34f37c7f2": {
      "model_module": "@jupyter-widgets/base",
      "model_module_version": "1.2.0",
      "model_name": "LayoutModel",
      "state": {}
     },
     "7461c71524d04b56b356c0f8f8c827d8": {
      "model_module": "@jupyter-widgets/controls",
      "model_module_version": "1.5.0",
      "model_name": "DescriptionStyleModel",
      "state": {
       "description_width": ""
      }
     },
     "776d3be42f82409994e49bdb565b3eb7": {
      "model_module": "@jupyter-widgets/controls",
      "model_module_version": "1.5.0",
      "model_name": "VBoxModel",
      "state": {
       "children": [
        "IPY_MODEL_94ee17af56924fba90cd12ec717249bb",
        "IPY_MODEL_c43003ae91ad4dce8156a268e2f4b4f9"
       ],
       "layout": "IPY_MODEL_3408debf3b9241629a56f1153526d6f7"
      }
     },
     "7a1c680c7c924263850cb05ed30f012e": {
      "model_module": "@jupyter-widgets/base",
      "model_module_version": "1.2.0",
      "model_name": "LayoutModel",
      "state": {}
     },
     "7a87781bda2e475a9ed9570af6d3d730": {
      "model_module": "@jupyter-widgets/controls",
      "model_module_version": "1.5.0",
      "model_name": "DescriptionStyleModel",
      "state": {
       "description_width": ""
      }
     },
     "8145ef2e035e44bea91d0ba4b4396bee": {
      "model_module": "@jupyter-widgets/controls",
      "model_module_version": "1.5.0",
      "model_name": "HBoxModel",
      "state": {
       "children": [
        "IPY_MODEL_fccc8b6a803248b59667a9e5c9d73bee",
        "IPY_MODEL_6dabe32badcd4528af90adc8a91eddab",
        "IPY_MODEL_ec1c1ecae65e4d76be990e4c998c97e5"
       ],
       "layout": "IPY_MODEL_d190a8a26d93429587580ce15f03897a"
      }
     },
     "819d23eaa586416c8e8ab6236a39a5e9": {
      "model_module": "pgljupyter",
      "model_module_version": "^1.0.3",
      "model_name": "_CurveEditorModel",
      "state": {
       "_model_module_version": "^1.0.3",
       "_view_module_version": "^1.0.3",
       "layout": "IPY_MODEL_6c3168e10f3d46ffa6c994dd920e254e",
       "name": "axis5",
       "points": [
        [
         -0.5,
         0
        ],
        [
         -0.42353109378640263,
         0.09292297178631177
        ],
        [
         -0.3614269431776844,
         0.1631276754226754
        ],
        [
         -0.311815335240922,
         0.27436190918077913
        ],
        [
         -0.2510197531605952,
         0.39595307334143276
        ],
        [
         -0.3878098128413305,
         0.4529489315417391
        ]
       ],
       "type": "NurbsCurve2D"
      }
     },
     "85c1844df1c74334a05bc6d0a6a787e4": {
      "model_module": "pgljupyter",
      "model_module_version": "^1.0.3",
      "model_name": "_CurveEditorModel",
      "state": {
       "_model_module_version": "^1.0.3",
       "_view_module_version": "^1.0.3",
       "layout": "IPY_MODEL_cf166b54219e450fac560621bccfd6af",
       "name": "axis7",
       "points": [
        [
         -0.5,
         0
        ],
        [
         -0.45381259264846796,
         0.12013621899284291
        ],
        [
         -0.3893521988258032,
         0.2189754895209291
        ],
        [
         -0.43232579470757976,
         0.3350041984017258
        ],
        [
         -0.5612465823529095,
         0.3822751538716801
        ],
        [
         -0.6343016953519296,
         0.2920306025199492
        ]
       ],
       "type": "NurbsCurve2D"
      }
     },
     "867c4a0820fd4ccfb035390a4d430d22": {
      "model_module": "@jupyter-widgets/controls",
      "model_module_version": "1.5.0",
      "model_name": "DescriptionStyleModel",
      "state": {
       "description_width": ""
      }
     },
     "878e8cc9adac4bc2a4f055d63d7c9255": {
      "model_module": "@jupyter-widgets/base",
      "model_module_version": "1.2.0",
      "model_name": "LayoutModel",
      "state": {}
     },
     "88987d3ea5944f54a94272c1dc8ea981": {
      "model_module": "@jupyter-widgets/base",
      "model_module_version": "1.2.0",
      "model_name": "LayoutModel",
      "state": {}
     },
     "88c2437a00a241d18c35852eff96d4f2": {
      "model_module": "@jupyter-widgets/controls",
      "model_module_version": "1.5.0",
      "model_name": "HBoxModel",
      "state": {
       "children": [
        "IPY_MODEL_366a678406c44e26bd8cbf840463a1ee",
        "IPY_MODEL_8db0d33354684b59ba1c4b8ae885f71d"
       ],
       "layout": "IPY_MODEL_e151f9504db34af1a7be0f0de2e2c341"
      }
     },
     "898d2cf92e7244988a03843176485e1e": {
      "model_module": "@jupyter-widgets/base",
      "model_module_version": "1.2.0",
      "model_name": "LayoutModel",
      "state": {}
     },
     "89b590457d544a418f056ca491cdc567": {
      "model_module": "@jupyter-widgets/base",
      "model_module_version": "1.2.0",
      "model_name": "LayoutModel",
      "state": {}
     },
     "8bda39369d694c059ef2483bf7367fa7": {
      "model_module": "@jupyter-widgets/controls",
      "model_module_version": "1.5.0",
      "model_name": "DescriptionStyleModel",
      "state": {
       "description_width": ""
      }
     },
     "8d4d64c1a42344178a1a01bb94d18c00": {
      "model_module": "@jupyter-widgets/controls",
      "model_module_version": "1.5.0",
      "model_name": "DescriptionStyleModel",
      "state": {
       "description_width": ""
      }
     },
     "8db0d33354684b59ba1c4b8ae885f71d": {
      "model_module": "@jupyter-widgets/controls",
      "model_module_version": "1.5.0",
      "model_name": "DropdownModel",
      "state": {
       "_options_labels": [
        "Curve",
        "Function"
       ],
       "index": 0,
       "layout": "IPY_MODEL_ee6a51b09e4c433694599565f98f51d7",
       "style": "IPY_MODEL_a0388bbd949047ea9e06b64efe4f6ad6"
      }
     },
     "902f88e372104205b4e0b4defb26c91a": {
      "model_module": "@jupyter-widgets/base",
      "model_module_version": "1.2.0",
      "model_name": "LayoutModel",
      "state": {}
     },
     "9423875dd7ab435082ace063a20815a4": {
      "model_module": "@jupyter-widgets/controls",
      "model_module_version": "1.5.0",
      "model_name": "ButtonModel",
      "state": {
       "description": "Save changes",
       "layout": "IPY_MODEL_0aba47352aa446ac90baee88cdfc32c3",
       "style": "IPY_MODEL_b3514ed59b7a4bf99b03494b9e392325"
      }
     },
     "9472b86d2b3f41069f22beaac453d608": {
      "model_module": "@jupyter-widgets/controls",
      "model_module_version": "1.5.0",
      "model_name": "FloatSliderModel",
      "state": {
       "continuous_update": false,
       "description": "diffuse",
       "layout": "IPY_MODEL_cefc5d1fa50a4ef0a6bb4676846aa78e",
       "max": 3,
       "step": 0.1,
       "style": "IPY_MODEL_f6c2c1e552a04136a1610b69695c8337",
       "value": 1
      }
     },
     "94ee17af56924fba90cd12ec717249bb": {
      "model_module": "@jupyter-widgets/controls",
      "model_module_version": "1.5.0",
      "model_name": "HBoxModel",
      "state": {
       "children": [
        "IPY_MODEL_5d4686e3fe784ef6b661792f13ea41cf",
        "IPY_MODEL_c0705f01f98b4ec4b904ea8aeda685e4"
       ],
       "layout": "IPY_MODEL_388fcbb97ce5495bb69b34e2a0e8bb39"
      }
     },
     "9a69366d520f46d0af6d47692c7248af": {
      "model_module": "@jupyter-widgets/controls",
      "model_module_version": "1.5.0",
      "model_name": "ButtonModel",
      "state": {
       "description": "Add category",
       "layout": "IPY_MODEL_ad294e3eb75f42d8b097faed11970b32",
       "style": "IPY_MODEL_24df639e5ec44642943bfb3c152e5c1b"
      }
     },
     "9f812b286fa746f59a7e1b1bef957c6f": {
      "model_module": "@jupyter-widgets/controls",
      "model_module_version": "1.5.0",
      "model_name": "TextModel",
      "state": {
       "continuous_update": false,
       "description": "name",
       "layout": "IPY_MODEL_89b590457d544a418f056ca491cdc567",
       "style": "IPY_MODEL_de673d8735c44fddaa7f52f77540c37a",
       "value": "axis6"
      }
     },
     "a0388bbd949047ea9e06b64efe4f6ad6": {
      "model_module": "@jupyter-widgets/controls",
      "model_module_version": "1.5.0",
      "model_name": "DescriptionStyleModel",
      "state": {
       "description_width": ""
      }
     },
     "a299431aa6bd415996d34b6c12a17e23": {
      "model_module": "@jupyter-widgets/base",
      "model_module_version": "1.2.0",
      "model_name": "LayoutModel",
      "state": {
       "margin": "10px 10px"
      }
     },
     "a2a0b700c31b4d648fed389a6afa8ecc": {
      "model_module": "pgljupyter",
      "model_module_version": "^1.0.3",
      "model_name": "_CurveEditorModel",
      "state": {
       "_model_module_version": "^1.0.3",
       "_view_module_version": "^1.0.3",
       "layout": "IPY_MODEL_ef29be872d1e413b88c86b8fe274699c",
       "name": "profile",
       "points": [
        [
         -0.4037968924616441,
         0.007340293853329988
        ],
        [
         -0.15206200222345528,
         0.15118880256086648
        ],
        [
         0.00077703827830225,
         -0.07806975819176981
        ],
        [
         0.19856873775116482,
         0.17366513204641904
        ],
        [
         0.4217867849545588,
         0.015395298785451317
        ]
       ],
       "type": "NurbsCurve2D"
      }
     },
     "a38c399e6f7f401186022f43fd9384f8": {
      "model_module": "@jupyter-widgets/controls",
      "model_module_version": "1.5.0",
      "model_name": "HBoxModel",
      "state": {
       "children": [
        "IPY_MODEL_f0ac0e9177b649b1bc47e671f8c40c25",
        "IPY_MODEL_f20fbab698314f649ea4a3910e5ae99c",
        "IPY_MODEL_2db4c71159264080bb2be5c4dbe1bc8b",
        "IPY_MODEL_6d61f5e7a660461e864827b97ddfac78",
        "IPY_MODEL_e341fa52e10846ef85614200a3095662",
        "IPY_MODEL_f1399817e2944c7ca6997e395b85d184",
        "IPY_MODEL_1cbe9dbd13084715938104d5680bd9d2",
        "IPY_MODEL_7063e86c28ae480d9f715dab200d8ad7",
        "IPY_MODEL_d894b44f69044a5ebf8f837f53fc2baa",
        "IPY_MODEL_eeda7c94d5a34fd7b3c22c6b08ad22f3",
        "IPY_MODEL_cbeedd57274c47e8957dd239b88ba874"
       ],
       "layout": "IPY_MODEL_5d24d24b3d4e4d3dafed74a89e274520"
      }
     },
     "a4b1df4dc3114525aa1f12e09c896a34": {
      "model_module": "pgljupyter",
      "model_module_version": "^1.0.3",
      "model_name": "_CurveEditorModel",
      "state": {
       "_model_module_version": "^1.0.3",
       "_view_module_version": "^1.0.3",
       "layout": "IPY_MODEL_0cd2132dff08492186bda091c1e8b6fe",
       "name": "axis8",
       "points": [
        [
         -0.5,
         0
        ],
        [
         -0.4443799997170015,
         0.08445238120155335
        ],
        [
         -0.3881438269897287,
         0.1469370175651897
        ],
        [
         -0.4706173170331641,
         0.3395544757251096
        ],
        [
         -0.6965523668082574,
         0.3107991057537341
        ],
        [
         -0.6965523668082574,
         0.1505906159132135
        ]
       ],
       "type": "NurbsCurve2D"
      }
     },
     "a4e093a9afe94583a2b14894edeb8b08": {
      "model_module": "@jupyter-widgets/base",
      "model_module_version": "1.2.0",
      "model_name": "LayoutModel",
      "state": {}
     },
     "ab41046e41e44aa782517300d1626a8f": {
      "model_module": "@jupyter-widgets/controls",
      "model_module_version": "1.5.0",
      "model_name": "TextModel",
      "state": {
       "continuous_update": false,
       "description": "name",
       "layout": "IPY_MODEL_58faf44eb24f46049a626d36b5098f35",
       "style": "IPY_MODEL_8d4d64c1a42344178a1a01bb94d18c00",
       "value": "axis2"
      }
     },
     "ababe9376aa74d5383b9fc729beeff1a": {
      "model_module": "@jupyter-widgets/controls",
      "model_module_version": "1.5.0",
      "model_name": "AccordionModel",
      "state": {
       "_titles": {
        "0": "materials",
        "1": "leaf"
       },
       "children": [
        "IPY_MODEL_776d3be42f82409994e49bdb565b3eb7",
        "IPY_MODEL_4d4c93f0f4924deba6a0b0477f436f98"
       ],
       "layout": "IPY_MODEL_902f88e372104205b4e0b4defb26c91a",
       "selected_index": 1
      }
     },
     "ad294e3eb75f42d8b097faed11970b32": {
      "model_module": "@jupyter-widgets/base",
      "model_module_version": "1.2.0",
      "model_name": "LayoutModel",
      "state": {}
     },
     "af2da4088a104948812ff490503307f3": {
      "model_module": "@jupyter-widgets/controls",
      "model_module_version": "1.5.0",
      "model_name": "CheckboxModel",
      "state": {
       "description": "Auto save",
       "disabled": false,
       "layout": "IPY_MODEL_fd23ca240a6544b3acf4e81c92b1048f",
       "style": "IPY_MODEL_8bda39369d694c059ef2483bf7367fa7",
       "value": false
      }
     },
     "af7fd9cb499444b3b286537beca041ff": {
      "model_module": "@jupyter-widgets/base",
      "model_module_version": "1.2.0",
      "model_name": "LayoutModel",
      "state": {
       "margin": "10px 10px"
      }
     },
     "b22ea06a297f4891825c82bf70891ed2": {
      "model_module": "@jupyter-widgets/controls",
      "model_module_version": "1.5.0",
      "model_name": "DescriptionStyleModel",
      "state": {
       "description_width": ""
      }
     },
     "b3514ed59b7a4bf99b03494b9e392325": {
      "model_module": "@jupyter-widgets/controls",
      "model_module_version": "1.5.0",
      "model_name": "ButtonStyleModel",
      "state": {}
     },
     "b376b3fba05f4d279eb1ea294ea94b92": {
      "model_module": "@jupyter-widgets/base",
      "model_module_version": "1.2.0",
      "model_name": "LayoutModel",
      "state": {}
     },
     "b449329a4b6a4bf287aa7ec6c4c3b057": {
      "model_module": "@jupyter-widgets/base",
      "model_module_version": "1.2.0",
      "model_name": "LayoutModel",
      "state": {}
     },
     "b79938b0702c4c4198c85e98c4d01bf0": {
      "model_module": "@jupyter-widgets/base",
      "model_module_version": "1.2.0",
      "model_name": "LayoutModel",
      "state": {}
     },
     "bc8677b5184f43f7bf585f8377cfa7f7": {
      "model_module": "@jupyter-widgets/base",
      "model_module_version": "1.2.0",
      "model_name": "LayoutModel",
      "state": {
       "margin": "10px 10px"
      }
     },
     "c0705f01f98b4ec4b904ea8aeda685e4": {
      "model_module": "@jupyter-widgets/controls",
      "model_module_version": "1.5.0",
      "model_name": "DropdownModel",
      "state": {
       "_options_labels": [
        "Color"
       ],
       "index": 0,
       "layout": "IPY_MODEL_0983f12a12254f00b78978efc2f5da54",
       "style": "IPY_MODEL_c9de2c045f8c433593414eea826665d1"
      }
     },
     "c43003ae91ad4dce8156a268e2f4b4f9": {
      "model_module": "@jupyter-widgets/controls",
      "model_module_version": "1.5.0",
      "model_name": "HBoxModel",
      "state": {
       "children": [
        "IPY_MODEL_fe5fc4500a0c46a1a18260f5e15c709a"
       ],
       "layout": "IPY_MODEL_5d24d24b3d4e4d3dafed74a89e274520"
      }
     },
     "c4416602002d4209b05e2f6e3e2374f2": {
      "model_module": "@jupyter-widgets/base",
      "model_module_version": "1.2.0",
      "model_name": "LayoutModel",
      "state": {
       "margin": "10px 10px"
      }
     },
     "c6206d3911a0412c8eb39fc79287a405": {
      "model_module": "@jupyter-widgets/base",
      "model_module_version": "1.2.0",
      "model_name": "LayoutModel",
      "state": {}
     },
     "c7deba9f022040d78e5e8064b73da72e": {
      "model_module": "@jupyter-widgets/controls",
      "model_module_version": "1.5.0",
      "model_name": "DescriptionStyleModel",
      "state": {
       "description_width": ""
      }
     },
     "c9de2c045f8c433593414eea826665d1": {
      "model_module": "@jupyter-widgets/controls",
      "model_module_version": "1.5.0",
      "model_name": "DescriptionStyleModel",
      "state": {
       "description_width": ""
      }
     },
     "ca70962096b848e38fc778cfe879151a": {
      "model_module": "@jupyter-widgets/base",
      "model_module_version": "1.2.0",
      "model_name": "LayoutModel",
      "state": {
       "margin": "10px 10px"
      }
     },
     "cbeedd57274c47e8957dd239b88ba874": {
      "model_module": "pgljupyter",
      "model_module_version": "^1.0.3",
      "model_name": "CurveEditorModel",
      "state": {
       "_model_module_version": "^1.0.3",
       "_view_module_version": "^1.0.3",
       "children": [
        "IPY_MODEL_daf55c0a5a96402d88be69d14240076c",
        "IPY_MODEL_5935b54ea67f44efaefc262e4b6b648d"
       ],
       "layout": "IPY_MODEL_2c4659902b7f4322832fa553a8e69516"
      }
     },
     "ccf4868f671e4428a13b9af11c978c51": {
      "model_module": "@jupyter-widgets/base",
      "model_module_version": "1.2.0",
      "model_name": "LayoutModel",
      "state": {}
     },
     "ce10444a789b487c828070e519adeea4": {
      "model_module": "@jupyter-widgets/base",
      "model_module_version": "1.2.0",
      "model_name": "LayoutModel",
      "state": {
       "margin": "10px 10px"
      }
     },
     "cefc5d1fa50a4ef0a6bb4676846aa78e": {
      "model_module": "@jupyter-widgets/base",
      "model_module_version": "1.2.0",
      "model_name": "LayoutModel",
      "state": {}
     },
     "cf166b54219e450fac560621bccfd6af": {
      "model_module": "@jupyter-widgets/base",
      "model_module_version": "1.2.0",
      "model_name": "LayoutModel",
      "state": {}
     },
     "d190a8a26d93429587580ce15f03897a": {
      "model_module": "@jupyter-widgets/base",
      "model_module_version": "1.2.0",
      "model_name": "LayoutModel",
      "state": {
       "flex_flow": "row wrap",
       "margin": "5px"
      }
     },
     "d233eb4fe08a4e839f07ae374830e7ef": {
      "model_module": "@jupyter-widgets/base",
      "model_module_version": "1.2.0",
      "model_name": "LayoutModel",
      "state": {}
     },
     "d4aec1b875eb4eb29658d46de83278e1": {
      "model_module": "@jupyter-widgets/controls",
      "model_module_version": "1.5.0",
      "model_name": "ButtonModel",
      "state": {
       "description": "Add",
       "layout": "IPY_MODEL_b79938b0702c4c4198c85e98c4d01bf0",
       "style": "IPY_MODEL_5a2fe130f55a482985bd41db3a780c8f"
      }
     },
     "d6100fe8458d432daa95f592364ca84c": {
      "model_module": "@jupyter-widgets/base",
      "model_module_version": "1.2.0",
      "model_name": "LayoutModel",
      "state": {}
     },
     "d76991c3f3b147ada34f284e0d636488": {
      "model_module": "@jupyter-widgets/controls",
      "model_module_version": "1.5.0",
      "model_name": "ButtonStyleModel",
      "state": {}
     },
     "d894b44f69044a5ebf8f837f53fc2baa": {
      "model_module": "pgljupyter",
      "model_module_version": "^1.0.3",
      "model_name": "CurveEditorModel",
      "state": {
       "_model_module_version": "^1.0.3",
       "_view_module_version": "^1.0.3",
       "children": [
        "IPY_MODEL_32c06ded4a004f13b32ecf1a723149ce",
        "IPY_MODEL_85c1844df1c74334a05bc6d0a6a787e4"
       ],
       "layout": "IPY_MODEL_bc8677b5184f43f7bf585f8377cfa7f7"
      }
     },
     "d92e5a4b372c44fa8555a7e7b1b8461d": {
      "model_module": "@jupyter-widgets/controls",
      "model_module_version": "1.5.0",
      "model_name": "TextModel",
      "state": {
       "layout": "IPY_MODEL_88987d3ea5944f54a94272c1dc8ea981",
       "placeholder": "category name",
       "style": "IPY_MODEL_3761894637d0401792728cd240e18b07"
      }
     },
     "da69f2aa5ee7450dba3e355e9b6adfd4": {
      "model_module": "@jupyter-widgets/base",
      "model_module_version": "1.2.0",
      "model_name": "LayoutModel",
      "state": {}
     },
     "daf55c0a5a96402d88be69d14240076c": {
      "model_module": "@jupyter-widgets/controls",
      "model_module_version": "1.5.0",
      "model_name": "TextModel",
      "state": {
       "continuous_update": false,
       "description": "name",
       "layout": "IPY_MODEL_b449329a4b6a4bf287aa7ec6c4c3b057",
       "style": "IPY_MODEL_2f7d9dcffe314291bee009bdf60add8c",
       "value": "axis9"
      }
     },
     "dcdcf21d60504928842c9b28bc3c375e": {
      "model_module": "@jupyter-widgets/base",
      "model_module_version": "1.2.0",
      "model_name": "LayoutModel",
      "state": {
       "margin": "10px 10px"
      }
     },
     "de59cdc1ca254845a576ada0c2efdcb5": {
      "model_module": "@jupyter-widgets/base",
      "model_module_version": "1.2.0",
      "model_name": "LayoutModel",
      "state": {}
     },
     "de673d8735c44fddaa7f52f77540c37a": {
      "model_module": "@jupyter-widgets/controls",
      "model_module_version": "1.5.0",
      "model_name": "DescriptionStyleModel",
      "state": {
       "description_width": ""
      }
     },
     "e151f9504db34af1a7be0f0de2e2c341": {
      "model_module": "@jupyter-widgets/base",
      "model_module_version": "1.2.0",
      "model_name": "LayoutModel",
      "state": {}
     },
     "e341fa52e10846ef85614200a3095662": {
      "model_module": "pgljupyter",
      "model_module_version": "^1.0.3",
      "model_name": "CurveEditorModel",
      "state": {
       "_model_module_version": "^1.0.3",
       "_view_module_version": "^1.0.3",
       "children": [
        "IPY_MODEL_2d291bd134e94966a87189ba23de7546",
        "IPY_MODEL_3aeb4dbfd12742078945f533a91f0478"
       ],
       "layout": "IPY_MODEL_af7fd9cb499444b3b286537beca041ff"
      }
     },
     "e4236265a3eb4a07a4f747b5f51bbe5f": {
      "model_module": "@jupyter-widgets/controls",
      "model_module_version": "1.5.0",
      "model_name": "DescriptionStyleModel",
      "state": {
       "description_width": ""
      }
     },
     "e54472d2374e48f58315c234cf52461f": {
      "model_module": "@jupyter-widgets/base",
      "model_module_version": "1.2.0",
      "model_name": "LayoutModel",
      "state": {}
     },
     "e5c12a0eae2244d5954f5e84e6527309": {
      "model_module": "@jupyter-widgets/base",
      "model_module_version": "1.2.0",
      "model_name": "LayoutModel",
      "state": {}
     },
     "e716d5f17e32442a8201ddb15ab34622": {
      "model_module": "@jupyter-widgets/base",
      "model_module_version": "1.2.0",
      "model_name": "LayoutModel",
      "state": {}
     },
     "e78c199de7f9441b9ec43196277b3d73": {
      "model_module": "@jupyter-widgets/base",
      "model_module_version": "1.2.0",
      "model_name": "LayoutModel",
      "state": {}
     },
     "e8b8799d00ca42a59b861e9c2a3385e6": {
      "model_module": "@jupyter-widgets/controls",
      "model_module_version": "1.5.0",
      "model_name": "DescriptionStyleModel",
      "state": {
       "description_width": ""
      }
     },
     "ea4cd583da354c89bb4ddbf8a6828295": {
      "model_module": "@jupyter-widgets/controls",
      "model_module_version": "1.5.0",
      "model_name": "FloatSliderModel",
      "state": {
       "continuous_update": false,
       "description": "transparency",
       "layout": "IPY_MODEL_a4e093a9afe94583a2b14894edeb8b08",
       "max": 1,
       "step": 0.1,
       "style": "IPY_MODEL_5e9b1fec760d4ba69ac3ddc93b360058"
      }
     },
     "ec1c1ecae65e4d76be990e4c998c97e5": {
      "model_module": "@jupyter-widgets/controls",
      "model_module_version": "1.5.0",
      "model_name": "HBoxModel",
      "state": {
       "children": [
        "IPY_MODEL_9a69366d520f46d0af6d47692c7248af",
        "IPY_MODEL_d92e5a4b372c44fa8555a7e7b1b8461d"
       ],
       "layout": "IPY_MODEL_878e8cc9adac4bc2a4f055d63d7c9255"
      }
     },
     "ed0c0a82d3a44bd091cb6e738432697d": {
      "model_module": "@jupyter-widgets/base",
      "model_module_version": "1.2.0",
      "model_name": "LayoutModel",
      "state": {}
     },
     "eda28309508e476cb52414835b828ec4": {
      "model_module": "@jupyter-widgets/base",
      "model_module_version": "1.2.0",
      "model_name": "LayoutModel",
      "state": {}
     },
     "ee6a51b09e4c433694599565f98f51d7": {
      "model_module": "@jupyter-widgets/base",
      "model_module_version": "1.2.0",
      "model_name": "LayoutModel",
      "state": {}
     },
     "eeda7c94d5a34fd7b3c22c6b08ad22f3": {
      "model_module": "pgljupyter",
      "model_module_version": "^1.0.3",
      "model_name": "CurveEditorModel",
      "state": {
       "_model_module_version": "^1.0.3",
       "_view_module_version": "^1.0.3",
       "children": [
        "IPY_MODEL_5deadf786e9d428192272858135b1f3b",
        "IPY_MODEL_a4b1df4dc3114525aa1f12e09c896a34"
       ],
       "layout": "IPY_MODEL_431c5416fffc40b4b157c2acfecf4ebc"
      }
     },
     "eeedad3968954d76995c85fa5f3562df": {
      "model_module": "@jupyter-widgets/base",
      "model_module_version": "1.2.0",
      "model_name": "LayoutModel",
      "state": {}
     },
     "ef29be872d1e413b88c86b8fe274699c": {
      "model_module": "@jupyter-widgets/base",
      "model_module_version": "1.2.0",
      "model_name": "LayoutModel",
      "state": {}
     },
     "eff6d2b2af194e75ac6d1ca0e9c88286": {
      "model_module": "pgljupyter",
      "model_module_version": "^1.0.3",
      "model_name": "_CurveEditorModel",
      "state": {
       "_model_module_version": "^1.0.3",
       "_view_module_version": "^1.0.3",
       "is_function": true,
       "layout": "IPY_MODEL_1ec8bf108c194d02a2d0c01e981e443a",
       "name": "leafwidth",
       "points": [
        [
         0,
         0.00677191994406956
        ],
        [
         0.15454545454545454,
         0.7113173744895241
        ],
        [
         0.8227272727272728,
         0.3863173744895242
        ],
        [
         1,
         0.00677191994406956
        ]
       ],
       "type": "NurbsCurve2D"
      }
     },
     "f0ac0e9177b649b1bc47e671f8c40c25": {
      "model_module": "pgljupyter",
      "model_module_version": "^1.0.3",
      "model_name": "CurveEditorModel",
      "state": {
       "_model_module_version": "^1.0.3",
       "_view_module_version": "^1.0.3",
       "children": [
        "IPY_MODEL_f49f3e4222ea4953ab2723fb3636f296",
        "IPY_MODEL_eff6d2b2af194e75ac6d1ca0e9c88286"
       ],
       "layout": "IPY_MODEL_199191f7d6ba473eab75577c40742904"
      }
     },
     "f0b7805e88e240f791ddc04c8301d386": {
      "model_module": "@jupyter-widgets/base",
      "model_module_version": "1.2.0",
      "model_name": "LayoutModel",
      "state": {}
     },
     "f1399817e2944c7ca6997e395b85d184": {
      "model_module": "pgljupyter",
      "model_module_version": "^1.0.3",
      "model_name": "CurveEditorModel",
      "state": {
       "_model_module_version": "^1.0.3",
       "_view_module_version": "^1.0.3",
       "children": [
        "IPY_MODEL_1ac2e0a71daa4e599a3877bf85c2d3e1",
        "IPY_MODEL_3424b949ace2457ca47ddc830cdf354b"
       ],
       "layout": "IPY_MODEL_ce10444a789b487c828070e519adeea4"
      }
     },
     "f20fbab698314f649ea4a3910e5ae99c": {
      "model_module": "pgljupyter",
      "model_module_version": "^1.0.3",
      "model_name": "CurveEditorModel",
      "state": {
       "_model_module_version": "^1.0.3",
       "_view_module_version": "^1.0.3",
       "children": [
        "IPY_MODEL_53fabb867c0d49559cc1913d0ffd1cd2",
        "IPY_MODEL_a2a0b700c31b4d648fed389a6afa8ecc"
       ],
       "layout": "IPY_MODEL_dcdcf21d60504928842c9b28bc3c375e"
      }
     },
     "f49f3e4222ea4953ab2723fb3636f296": {
      "model_module": "@jupyter-widgets/controls",
      "model_module_version": "1.5.0",
      "model_name": "TextModel",
      "state": {
       "continuous_update": false,
       "description": "name",
       "layout": "IPY_MODEL_ed0c0a82d3a44bd091cb6e738432697d",
       "style": "IPY_MODEL_f86132b11f0443c7b3168188d4e7ec01",
       "value": "leafwidth"
      }
     },
     "f6c2c1e552a04136a1610b69695c8337": {
      "model_module": "@jupyter-widgets/controls",
      "model_module_version": "1.5.0",
      "model_name": "SliderStyleModel",
      "state": {
       "description_width": ""
      }
     },
     "f86132b11f0443c7b3168188d4e7ec01": {
      "model_module": "@jupyter-widgets/controls",
      "model_module_version": "1.5.0",
      "model_name": "DescriptionStyleModel",
      "state": {
       "description_width": ""
      }
     },
     "f89e19a327ce4305b6f22924f8fa87c6": {
      "model_module": "@jupyter-widgets/controls",
      "model_module_version": "1.5.0",
      "model_name": "BoundedIntTextModel",
      "state": {
       "description": "index",
       "layout": "IPY_MODEL_e716d5f17e32442a8201ddb15ab34622",
       "style": "IPY_MODEL_faa83297682d4e8aa8da876b4f02c313",
       "value": 2
      }
     },
     "f90c9553253e4576a400e668c7c16e94": {
      "model_module": "@jupyter-widgets/controls",
      "model_module_version": "1.5.0",
      "model_name": "HBoxModel",
      "state": {
       "children": [
        "IPY_MODEL_d4aec1b875eb4eb29658d46de83278e1",
        "IPY_MODEL_01f7d57bb3d94fecbdc1d949bf907eab"
       ],
       "layout": "IPY_MODEL_eda28309508e476cb52414835b828ec4"
      }
     },
     "faa83297682d4e8aa8da876b4f02c313": {
      "model_module": "@jupyter-widgets/controls",
      "model_module_version": "1.5.0",
      "model_name": "DescriptionStyleModel",
      "state": {
       "description_width": ""
      }
     },
     "fc0a0a7c30ba4406ad9af3cdc90fe372": {
      "model_module": "@jupyter-widgets/base",
      "model_module_version": "1.2.0",
      "model_name": "LayoutModel",
      "state": {}
     },
     "fccc8b6a803248b59667a9e5c9d73bee": {
      "model_module": "@jupyter-widgets/controls",
      "model_module_version": "1.5.0",
      "model_name": "HBoxModel",
      "state": {
       "children": [
        "IPY_MODEL_450a51658eb74c13a933257de6d2bb86",
        "IPY_MODEL_014b373e7403455b8198be1784db738f"
       ],
       "layout": "IPY_MODEL_c6206d3911a0412c8eb39fc79287a405"
      }
     },
     "fd23ca240a6544b3acf4e81c92b1048f": {
      "model_module": "@jupyter-widgets/base",
      "model_module_version": "1.2.0",
      "model_name": "LayoutModel",
      "state": {}
     },
     "fe5fc4500a0c46a1a18260f5e15c709a": {
      "model_module": "pgljupyter",
      "model_module_version": "^1.0.3",
      "model_name": "MaterialEditorModel",
      "state": {
       "_model_module_version": "^1.0.3",
       "_view_module_version": "^1.0.3",
       "children": [
        "IPY_MODEL_f89e19a327ce4305b6f22924f8fa87c6",
        "IPY_MODEL_14e48e87185440f6b11574aaba9deb9e",
        "IPY_MODEL_37f48fec23cb45e59fff6301f331b2a7",
        "IPY_MODEL_51c72c06be5b412bafda4650865165e0",
        "IPY_MODEL_9472b86d2b3f41069f22beaac453d608",
        "IPY_MODEL_ea4cd583da354c89bb4ddbf8a6828295",
        "IPY_MODEL_420c0e98255f42ef89588b2d3614931f"
       ],
       "layout": "IPY_MODEL_3cd3ec477aca4009b63ff701a0776158"
      }
     }
    },
    "version_major": 2,
    "version_minor": 0
   }
  }
 },
 "nbformat": 4,
 "nbformat_minor": 4
}
