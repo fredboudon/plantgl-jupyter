{
 "cells": [
  {
   "cell_type": "code",
   "execution_count": 1,
   "metadata": {},
   "outputs": [],
   "source": [
    "from pgljupyter import LsystemWidget"
   ]
  },
  {
   "cell_type": "code",
   "execution_count": 2,
   "metadata": {},
   "outputs": [],
   "source": [
    "lw = LsystemWidget('dynamicprofile', size_world=2, unit='m')"
   ]
  },
  {
   "cell_type": "code",
   "execution_count": 3,
   "metadata": {},
   "outputs": [
    {
     "data": {
      "application/vnd.jupyter.widget-view+json": {
       "model_id": "0661361d1291492b8a776deedd32a029",
       "version_major": 2,
       "version_minor": 0
      },
      "text/plain": [
       "LsystemWidget(derivationLength=161, scene={'data': b'x\\xdam\\xd4\\x0bLSW\\x18\\x00\\xe0\\xdb\\x96\\x8a\\xe31^nceR^\\x13\\…"
      ]
     },
     "metadata": {},
     "output_type": "display_data"
    }
   ],
   "source": [
    "lw"
   ]
  },
  {
   "cell_type": "code",
   "execution_count": null,
   "metadata": {},
   "outputs": [],
   "source": [
    "lw.editor"
   ]
  },
  {
   "cell_type": "code",
   "execution_count": null,
   "metadata": {},
   "outputs": [],
   "source": []
  }
 ],
 "metadata": {
  "kernelspec": {
   "display_name": "Python 3",
   "language": "python",
   "name": "python3"
  },
  "language_info": {
   "codemirror_mode": {
    "name": "ipython",
    "version": 3
   },
   "file_extension": ".py",
   "mimetype": "text/x-python",
   "name": "python",
   "nbconvert_exporter": "python",
   "pygments_lexer": "ipython3",
   "version": "3.9.0"
  },
  "widgets": {
   "application/vnd.jupyter.widget-state+json": {
    "state": {
     "001d336b4f7a4c6f83ab08d0e6bf5522": {
      "model_module": "@jupyter-widgets/controls",
      "model_module_version": "1.5.0",
      "model_name": "DescriptionStyleModel",
      "state": {
       "description_width": ""
      }
     },
     "00cb9ffcfec54de6845ed90eb9b60622": {
      "model_module": "@jupyter-widgets/controls",
      "model_module_version": "1.5.0",
      "model_name": "DescriptionStyleModel",
      "state": {
       "description_width": ""
      }
     },
     "00fe5f05fcd44536a0549ec672c79650": {
      "model_module": "@jupyter-widgets/controls",
      "model_module_version": "1.5.0",
      "model_name": "TextModel",
      "state": {
       "layout": "IPY_MODEL_dcc218bd39824f6192c717401186e433",
       "placeholder": "category name",
       "style": "IPY_MODEL_9f21e4257b5d42088254acf7e2508fde"
      }
     },
     "01527296f05748daadd8bd6bcb15a4aa": {
      "model_module": "@jupyter-widgets/base",
      "model_module_version": "1.2.0",
      "model_name": "LayoutModel",
      "state": {}
     },
     "028c66a39fe843c5aee9956753fb23aa": {
      "model_module": "@jupyter-widgets/controls",
      "model_module_version": "1.5.0",
      "model_name": "ButtonStyleModel",
      "state": {}
     },
     "032ef6064459466e9cf447093f53eff4": {
      "model_module": "pgljupyter",
      "model_module_version": "^0.1.2",
      "model_name": "CurveEditorModel",
      "state": {
       "_model_module_version": "^0.1.2",
       "_view_module_version": "^0.1.2",
       "control_points": [
        [
         0,
         0.0126800537109375
        ],
        [
         0.2197443181818182,
         0.589100508256392
        ],
        [
         0.3333806818181817,
         0.080009599165483
        ],
        [
         1,
         0.0035891446200284616
        ]
       ],
       "curve_type": [
        "NurbsCurve2D"
       ],
       "is_function": true,
       "layout": "IPY_MODEL_b213b1167ae54e9a87eb24419fcd719e",
       "name": "leafwidth"
      }
     },
     "0353e62960d04f27a258344120aadbc1": {
      "model_module": "pgljupyter",
      "model_module_version": "^0.1.21",
      "model_name": "_CurveEditorModel",
      "state": {
       "_model_module_version": "^0.1.21",
       "_view_module_version": "^0.1.21",
       "layout": "IPY_MODEL_254ce71096c1441e8d2eb2d40b4d7c29",
       "points": [
        [
         -0.5,
         0
        ],
        [
         -0.4669615846065175,
         0.10362475759086609
        ],
        [
         -0.42851562474708466,
         0.29118498972390533
        ],
        [
         -0.5781451680983921,
         0.3950943948289799
        ],
        [
         -0.7236183352454963,
         0.2496212276818755
        ],
        [
         -0.5906142967110011,
         0.14986819878100388
        ]
       ],
       "type": "NurbsCurve2D"
      }
     },
     "0399475afc8b4d25982dba96c873872c": {
      "model_module": "@jupyter-widgets/base",
      "model_module_version": "1.2.0",
      "model_name": "LayoutModel",
      "state": {
       "margin": "20px 0px"
      }
     },
     "03aada7c165947eb9a8cc0d31fbe4daf": {
      "model_module": "@jupyter-widgets/base",
      "model_module_version": "1.2.0",
      "model_name": "LayoutModel",
      "state": {
       "flex_flow": "row wrap",
       "margin": "5px"
      }
     },
     "03ec7111ade54657aa5d8328a75089b2": {
      "model_module": "@jupyter-widgets/controls",
      "model_module_version": "1.5.0",
      "model_name": "ColorPickerModel",
      "state": {
       "description": "ambient",
       "disabled": false,
       "layout": "IPY_MODEL_93c3c0d9c57b4b09b2a825c97ba0e07e",
       "style": "IPY_MODEL_001d336b4f7a4c6f83ab08d0e6bf5522",
       "value": "#295426"
      }
     },
     "0487ce89439c45aa8a2eb497e4f24cdf": {
      "model_module": "@jupyter-widgets/base",
      "model_module_version": "1.2.0",
      "model_name": "LayoutModel",
      "state": {
       "flex_flow": "row wrap",
       "margin": "20px"
      }
     },
     "0499ea2c84df429fbeac2bbb79a0834e": {
      "model_module": "@jupyter-widgets/controls",
      "model_module_version": "1.5.0",
      "model_name": "ButtonModel",
      "state": {
       "description": "Apply changes",
       "layout": "IPY_MODEL_90f25db3244a4551a205cbe98e6270aa",
       "style": "IPY_MODEL_75c3c1544bef4c66bab7c9c70c5c4743"
      }
     },
     "0661361d1291492b8a776deedd32a029": {
      "buffers": [
       {
        "data": "eNpt1AtMU1cYAODblorjMV5uY2VSXhPlnDluR9ciPX9xUMcAxSgO0Sm2sUpNA1iK+AAnDpHxECwTBhZZEFQeiqPDFwhmG5lLUaZkQRMgbk62uPDQOQaIst7jsuiyk3z3/v/Jn/vnT849vpr3VXHLGcYn3NnBx9/fV8gwDF/IrE5Wp2n5tlgwl1muNmoNOrWeSz1eYlQ7jYaMdF1qCpeL5jIrU/W79LoUWh3gxKzIMGjSIzIMO7SSSJ5ty5fb53syq6OWrlR9EJkkTQoNkcrekchYuYxlg0O4hrO25cHQ9TrD1T8eHgx7HsPs60ovsWCuQvSskM+8uP6sd0HXenqI7d3E5bwAeybNkLpFp9dGRV4sceH67Om83nkjb5z7nDLgnFdn9A0RcLF/a8wSl7s1l7m4eU0MkB9Zup/5qB9MiiwFFwvsmYhUfaohib2TsuyQYulbLgwTHv7cYLJ/BguVsnK5lJXY2xpy/h1MYnuqPm8nHIN3IHDWXdVQfl/mU7PzqyhL1gnKru4M9bXGQk3r26iOhGecqi1U3LGzlP5UMxU7dZKac6WWqvGrptzDKyjd4sNUFr+QunA1l+rxzqbYzjSqKHszFZa8lqoviqW+GgmnAsukVHZOEHW0XUzdiXyFSvR2pB5H8yinz8YIx0wGqZF8KzU35xJ1c34j1a2pomTRhdRg0y5K5bCR8qyPoKqzgqjkw+6U49m/FBxxTQ+l+/U4hZ/spkLOSV7wPwdL8p/D9J7YDZ0fvk5+qDmucDjogY7H3yTW7f5Edf9V5LyonwisRqL50Au9kTlIYodqCY/ni1SF98i8OVbS6boQmcxjJOjSQ1JeEYwavn1M2n93guSWJUg2Twh6Tx/IaFqGomqcIbFNAn5V8cha/BrsORYJqoLNKP6+H1SfWgOFlh2obOBtcD+ohcS9B1DeKoBGeyO0NpQiL+UKiDDug5hvzGjDx0kgmjoA+bUNaOvt7XA5twCKxOcRW7AfdA6HoM+xG83uKIKqklLwUvahbeXlwHqZYP+Rn9DQ9S/A2mGCyQdjqM6xCcw5JuhSPEW9YW0QuPswdAXPwYMru8DaUgK5gc7YBN8DXlwMDZMeuHbiJtQ9+hRmKkX4k20DcNQuDxKmfPDaffcgOiYH3PiBuFE0Cn27M4F3BOOXnScgsXQbzBSw+LT4CTy5sh6OtUlxcD5PmeJu+wEH5Jj9TqCcaZTDyY4l+OR8oTJ0OADGRWF4aJNQSQyusLk3FOcZ7ZSVVZNk5ta7+JcEvnJDdB/p3irB6euewkWRhfT3Yjy+aQImkivJWMYCfGfVCGii8kh9sxgLT9yF2I7tJLPWE9ebb8OGbDUZy3TDb2p7Ye/0ehIU54AXBneDvlhDbqsFeDSuHQQhO4lp4zSa2NUKl6+Vkpb0B6jSuxnW3j9L1D+PoKKyBjBV3CLnHo6iM2saQXWBgTq7P5BecRpWfDQP6MXE4+4jgR2j16q3bPrNXCJfFL+Au2FcXF3/BlF9DfA=",
        "encoding": "base64",
        "path": [
         "scene",
         "data"
        ]
       }
      ],
      "model_module": "pgljupyter",
      "model_module_version": "^0.2.1",
      "model_name": "LsystemWidgetModel",
      "state": {
       "_model_module_version": "^0.2.1",
       "_view_module_version": "^0.2.1",
       "axes_helper": false,
       "derivationLength": 161,
       "layout": "IPY_MODEL_8f44fe784d0a439a9591fdbdde88dbc2",
       "light_helper": false,
       "plane": true,
       "scene": {
        "derivationStep": 0,
        "id": 0,
        "scene": "<openalea.plantgl.scenegraph._pglsg.Scene object at 0x7f90c5808c10>"
       },
       "size_display": [
        400,
        400
       ],
       "size_world": 2,
       "unit": 0
      }
     },
     "0690ac687e7b4a8ea53e209c24773565": {
      "model_module": "@jupyter-widgets/controls",
      "model_module_version": "1.5.0",
      "model_name": "DropdownModel",
      "state": {
       "_options_labels": [
        "Color"
       ],
       "index": 0,
       "layout": "IPY_MODEL_b3c8d49331434ecfa22bc3c2461cfbe9",
       "style": "IPY_MODEL_4c9926a0978d4054a5dda3b791381de6"
      }
     },
     "06c4cc2556b04c6bba74be9ef247eb68": {
      "model_module": "@jupyter-widgets/base",
      "model_module_version": "1.2.0",
      "model_name": "LayoutModel",
      "state": {}
     },
     "06fd2f76dfa2427ea9c833338fb2e3d9": {
      "model_module": "@jupyter-widgets/controls",
      "model_module_version": "1.5.0",
      "model_name": "ButtonStyleModel",
      "state": {}
     },
     "07250e9cc6bf4c718d99fa2f4f9df614": {
      "model_module": "@jupyter-widgets/base",
      "model_module_version": "1.2.0",
      "model_name": "LayoutModel",
      "state": {}
     },
     "078a5af6b20040ff8f641c06a0278aaf": {
      "model_module": "@jupyter-widgets/base",
      "model_module_version": "1.2.0",
      "model_name": "LayoutModel",
      "state": {}
     },
     "082cde4cd1114a21bcfc625d0547883f": {
      "model_module": "@jupyter-widgets/controls",
      "model_module_version": "1.5.0",
      "model_name": "DescriptionStyleModel",
      "state": {
       "description_width": ""
      }
     },
     "08e0e8fd6fa04c5397a0c5504cda1367": {
      "model_module": "pgljupyter",
      "model_module_version": "^0.2.1",
      "model_name": "_CurveEditorModel",
      "state": {
       "_model_module_version": "^0.2.1",
       "_view_module_version": "^0.2.1",
       "layout": "IPY_MODEL_8771dfcb904f4abb8ccf11c6bce0f08b",
       "name": "axis9",
       "points": [
        [
         -0.5,
         0
        ],
        [
         -0.4669615846065175,
         0.10362475759086609
        ],
        [
         -0.42851562474708466,
         0.29118498972390533
        ],
        [
         -0.5781451680983921,
         0.3950943948289799
        ],
        [
         -0.7236183352454963,
         0.2496212276818755
        ],
        [
         -0.5906142967110011,
         0.14986819878100388
        ]
       ],
       "type": "NurbsCurve2D"
      }
     },
     "0921ea58f2534a41aeb7e5b32ec59b37": {
      "model_module": "@jupyter-widgets/base",
      "model_module_version": "1.2.0",
      "model_name": "LayoutModel",
      "state": {}
     },
     "0957b655156a4cc5bd5d45de20ef700f": {
      "model_module": "@jupyter-widgets/base",
      "model_module_version": "1.2.0",
      "model_name": "LayoutModel",
      "state": {}
     },
     "0985bc4da6f74e85b6eb19843f22df67": {
      "model_module": "@jupyter-widgets/base",
      "model_module_version": "1.2.0",
      "model_name": "LayoutModel",
      "state": {}
     },
     "09ad7eed47834caaa7de2aa61a31a755": {
      "model_module": "@jupyter-widgets/controls",
      "model_module_version": "1.5.0",
      "model_name": "HBoxModel",
      "state": {
       "children": [
        "IPY_MODEL_7c02cdfe1bfd4c2d8bcc9d318ef5debf",
        "IPY_MODEL_af57cba9f618449b95279b466fc02080"
       ],
       "layout": "IPY_MODEL_b14b9b66db4145cf874bbff652ca6938"
      }
     },
     "09c66b1182824f26a9dce4870cdccfd9": {
      "model_module": "@jupyter-widgets/base",
      "model_module_version": "1.2.0",
      "model_name": "LayoutModel",
      "state": {}
     },
     "09cc5bccc1fe40c596426d866289eae0": {
      "model_module": "@jupyter-widgets/base",
      "model_module_version": "1.2.0",
      "model_name": "LayoutModel",
      "state": {
       "margin": "20px 0px"
      }
     },
     "09ea71fb5dcf402ca26000b53cccd03a": {
      "model_module": "pgljupyter",
      "model_module_version": "^0.1.21",
      "model_name": "MaterialEditorModel",
      "state": {
       "_model_module_version": "^0.1.21",
       "_view_module_version": "^0.1.21",
       "children": [
        "IPY_MODEL_d751adc50dca4d0fae94417ff082506e",
        "IPY_MODEL_38c9bbbc490f4821a400cbf5ffc85864",
        "IPY_MODEL_33fe0ed83377495fb7c168339ff0f219",
        "IPY_MODEL_8ac406a2b609483793c099f6bb99becd",
        "IPY_MODEL_67f2fa877d2747c2bcf98ea0dabea0c9",
        "IPY_MODEL_e4d05ef1d6934746ac585a06f57e5db5",
        "IPY_MODEL_b5c390faece84891ad3798c0fb471c88",
        "IPY_MODEL_398fca16342f4031824fbf6ce17e766b"
       ],
       "layout": "IPY_MODEL_ea2506c7faee4dacb07f75e001f55b85"
      }
     },
     "0a0c2ae6bc2d45af85133392769398da": {
      "model_module": "@jupyter-widgets/controls",
      "model_module_version": "1.5.0",
      "model_name": "TextModel",
      "state": {
       "layout": "IPY_MODEL_4844bb4e0a1541919ebb51884a7b47f4",
       "style": "IPY_MODEL_7317ee09e84a4114965ec861024200c9",
       "value": "axis6"
      }
     },
     "0a79d1bbef38495f91bb3f2381663557": {
      "model_module": "@jupyter-widgets/base",
      "model_module_version": "1.2.0",
      "model_name": "LayoutModel",
      "state": {}
     },
     "0b2b607eaa804eccbfbc9454aff4016d": {
      "model_module": "@jupyter-widgets/base",
      "model_module_version": "1.2.0",
      "model_name": "LayoutModel",
      "state": {}
     },
     "0b485294215f4ffe99592b8c384a9814": {
      "model_module": "@jupyter-widgets/controls",
      "model_module_version": "1.5.0",
      "model_name": "TextModel",
      "state": {
       "continuous_update": false,
       "description": "name",
       "layout": "IPY_MODEL_34112744b1db408384656d1daba821c7",
       "style": "IPY_MODEL_834923c5bf0244a0aec08dd5c6bf7028",
       "value": "axis8"
      }
     },
     "0b7cacc497c047ec804c28f65112e221": {
      "model_module": "@jupyter-widgets/controls",
      "model_module_version": "1.5.0",
      "model_name": "TextModel",
      "state": {
       "layout": "IPY_MODEL_806950739d494f56bd7076fbcb8ecddf",
       "placeholder": "category name",
       "style": "IPY_MODEL_92f20556be254944ad8e3514445cd106"
      }
     },
     "0b97924d67b047fca3e72c660903334c": {
      "model_module": "@jupyter-widgets/controls",
      "model_module_version": "1.5.0",
      "model_name": "DescriptionStyleModel",
      "state": {
       "description_width": ""
      }
     },
     "0c23777e93914d4d9c005d61910c8b1e": {
      "model_module": "@jupyter-widgets/controls",
      "model_module_version": "1.5.0",
      "model_name": "ButtonStyleModel",
      "state": {}
     },
     "0d0f031bd91c4317a607fb9eeefb60c2": {
      "model_module": "@jupyter-widgets/base",
      "model_module_version": "1.2.0",
      "model_name": "LayoutModel",
      "state": {}
     },
     "0d1ecf6de9ce436b995b24935bccd4a4": {
      "model_module": "@jupyter-widgets/controls",
      "model_module_version": "1.5.0",
      "model_name": "TextModel",
      "state": {
       "continuous_update": false,
       "description": "name",
       "layout": "IPY_MODEL_5b100535c19e428291c4fcab01a03067",
       "style": "IPY_MODEL_cdc296f867854ef081290a318c1acc5b",
       "value": "axis2"
      }
     },
     "0d7d8f3bfa6b46298c20eec9f489aaf8": {
      "model_module": "@jupyter-widgets/base",
      "model_module_version": "1.2.0",
      "model_name": "LayoutModel",
      "state": {}
     },
     "0d950458a146465ba058bd2fa73aee66": {
      "model_module": "@jupyter-widgets/base",
      "model_module_version": "1.2.0",
      "model_name": "LayoutModel",
      "state": {
       "margin": "20px 0px"
      }
     },
     "0dbdf41f933d495f821b8f56f61f488a": {
      "model_module": "@jupyter-widgets/controls",
      "model_module_version": "1.5.0",
      "model_name": "HBoxModel",
      "state": {
       "children": [
        "IPY_MODEL_1f5c3c1dc3204cc1906a4c0736c0e33c",
        "IPY_MODEL_9c2f8a8cd4f44a0a8dda40032cbf6b2f"
       ],
       "layout": "IPY_MODEL_a1f0de6932c74005b6870fcb483f9eba"
      }
     },
     "0e2cb059b2cd4b888d5a5d9917dee511": {
      "model_module": "@jupyter-widgets/controls",
      "model_module_version": "1.5.0",
      "model_name": "ColorPickerModel",
      "state": {
       "description": "emission",
       "disabled": false,
       "layout": "IPY_MODEL_d6f4b453a3e444b095c9fe58965477ab",
       "style": "IPY_MODEL_deba092a502d406c9af6466838ae89a8",
       "value": "#000000"
      }
     },
     "0e5c598dd43244149d9a1e5218c0e04f": {
      "model_module": "@jupyter-widgets/controls",
      "model_module_version": "1.5.0",
      "model_name": "FloatSliderModel",
      "state": {
       "continuous_update": false,
       "description": "diffuse",
       "layout": "IPY_MODEL_337faab79c3f46d9a09162e8d960775a",
       "max": 3,
       "step": 0.1,
       "style": "IPY_MODEL_30ba88048cf04adfa0c52ce1cb8b3a81",
       "value": 1
      }
     },
     "0e76cbffeab640d292a13d074a5bf259": {
      "model_module": "@jupyter-widgets/controls",
      "model_module_version": "1.5.0",
      "model_name": "DropdownModel",
      "state": {
       "_options_labels": [
        "leaf"
       ],
       "index": 0,
       "layout": "IPY_MODEL_74ab177dced64164aeba1ea074c68f3e",
       "style": "IPY_MODEL_9e7c01b17ecd4abf8aefe7232b9f10f4"
      }
     },
     "0edb97bb497949e887c1226aada7243f": {
      "model_module": "@jupyter-widgets/controls",
      "model_module_version": "1.5.0",
      "model_name": "HBoxModel",
      "state": {
       "children": [
        "IPY_MODEL_f2d6ae11b5244a36b57e07c45f1f47ca",
        "IPY_MODEL_795c9473273c499fa8a7317d7bf13052"
       ],
       "layout": "IPY_MODEL_f75c8e82dd674f7a9f63f47db4a4ed63"
      }
     },
     "0ee4a8d53b8a4a7eb9e12943baed9344": {
      "model_module": "@jupyter-widgets/controls",
      "model_module_version": "1.5.0",
      "model_name": "DropdownModel",
      "state": {
       "_options_labels": [
        "leafwidth",
        "profile",
        "axis1",
        "axis2",
        "axis3",
        "axis4",
        "axis5",
        "axis6",
        "axis7",
        "axis8",
        "axis9"
       ],
       "index": 0,
       "layout": "IPY_MODEL_10eca0e77ded4514b3e56b663803b98c",
       "style": "IPY_MODEL_8d4b91a0d2334a3da09f8202ef20430e"
      }
     },
     "0f2c91b797e44af1877223cd84f40e80": {
      "model_module": "@jupyter-widgets/controls",
      "model_module_version": "1.5.0",
      "model_name": "DescriptionStyleModel",
      "state": {
       "description_width": ""
      }
     },
     "0f3d83b9a1d8416b91e70897298a9915": {
      "model_module": "@jupyter-widgets/controls",
      "model_module_version": "1.5.0",
      "model_name": "AccordionModel",
      "state": {
       "_titles": {
        "0": "materials",
        "1": "leaf"
       },
       "children": [
        "IPY_MODEL_f9ceb14d0a294fe3a65de0ad1c0b4eb6",
        "IPY_MODEL_fdaae580ca9f43c4b4737722a0db7ce0"
       ],
       "layout": "IPY_MODEL_74d9f252480c454c8076896e4d520395"
      }
     },
     "0f95adf3564b4e6dbe2367e108b3c8dd": {
      "model_module": "pgljupyter",
      "model_module_version": "^0.1.21",
      "model_name": "_CurveEditorModel",
      "state": {
       "_model_module_version": "^0.1.21",
       "_view_module_version": "^0.1.21",
       "is_function": true,
       "layout": "IPY_MODEL_4d8abe67df074b2ca15fab3085fc1acc",
       "points": [
        [
         0,
         0.00677191994406956
        ],
        [
         0.19545454545454546,
         0.6204082835804332
        ],
        [
         0.7636363636363637,
         0.6704082835804333
        ],
        [
         1,
         0.00677191994406956
        ]
       ],
       "type": "NurbsCurve2D"
      }
     },
     "0fc721c257264cb6a050e243029d308b": {
      "model_module": "@jupyter-widgets/base",
      "model_module_version": "1.2.0",
      "model_name": "LayoutModel",
      "state": {
       "margin": "20px 0px"
      }
     },
     "10746c880d86485a9ac8f1cd9e129b1c": {
      "model_module": "@jupyter-widgets/base",
      "model_module_version": "1.2.0",
      "model_name": "LayoutModel",
      "state": {}
     },
     "10eca0e77ded4514b3e56b663803b98c": {
      "model_module": "@jupyter-widgets/base",
      "model_module_version": "1.2.0",
      "model_name": "LayoutModel",
      "state": {}
     },
     "11a23a35fb1c42b78bfc9ad865249a93": {
      "model_module": "@jupyter-widgets/base",
      "model_module_version": "1.2.0",
      "model_name": "LayoutModel",
      "state": {}
     },
     "125a8520d8c244cfbbb2ae3537982b77": {
      "model_module": "@jupyter-widgets/base",
      "model_module_version": "1.2.0",
      "model_name": "LayoutModel",
      "state": {}
     },
     "12d50ee1021747f1bed2c594306a751f": {
      "model_module": "@jupyter-widgets/base",
      "model_module_version": "1.2.0",
      "model_name": "LayoutModel",
      "state": {}
     },
     "16092d09e4bc405db7cecb3caf0e5776": {
      "model_module": "@jupyter-widgets/base",
      "model_module_version": "1.2.0",
      "model_name": "LayoutModel",
      "state": {
       "margin": "20px 0px"
      }
     },
     "160fd7402aeb4fd8b2d8592832637b5c": {
      "model_module": "@jupyter-widgets/base",
      "model_module_version": "1.2.0",
      "model_name": "LayoutModel",
      "state": {}
     },
     "1639dc432fa64ed5b4573f622e31d68b": {
      "model_module": "@jupyter-widgets/controls",
      "model_module_version": "1.5.0",
      "model_name": "DescriptionStyleModel",
      "state": {
       "description_width": ""
      }
     },
     "1664fc7557574a0a977011f5ff0ea4b5": {
      "model_module": "@jupyter-widgets/base",
      "model_module_version": "1.2.0",
      "model_name": "LayoutModel",
      "state": {
       "margin": "10px 10px"
      }
     },
     "16ded74879de4306a0f041603bfa009f": {
      "model_module": "@jupyter-widgets/controls",
      "model_module_version": "1.5.0",
      "model_name": "TextModel",
      "state": {
       "layout": "IPY_MODEL_f5eb7733244e4dadbb6f17290c3a3ddd",
       "style": "IPY_MODEL_d16ce5cc7ba1442985fee09ebe79d36c",
       "value": "axis2"
      }
     },
     "181546cfb099415996296a1d385a0b77": {
      "model_module": "@jupyter-widgets/controls",
      "model_module_version": "1.5.0",
      "model_name": "DescriptionStyleModel",
      "state": {
       "description_width": ""
      }
     },
     "190c3801c2c2410087e9a4a3cf7264dd": {
      "model_module": "@jupyter-widgets/base",
      "model_module_version": "1.2.0",
      "model_name": "LayoutModel",
      "state": {}
     },
     "197d9de1a5054d9db428a320b14a32d7": {
      "model_module": "@jupyter-widgets/base",
      "model_module_version": "1.2.0",
      "model_name": "LayoutModel",
      "state": {
       "margin": "20px 0px"
      }
     },
     "19d3928aeb8b4d26aab9979a85f1a619": {
      "model_module": "@jupyter-widgets/controls",
      "model_module_version": "1.5.0",
      "model_name": "DescriptionStyleModel",
      "state": {
       "description_width": ""
      }
     },
     "1a122a9ef0994d1bbecb111ad070be92": {
      "model_module": "@jupyter-widgets/controls",
      "model_module_version": "1.5.0",
      "model_name": "HBoxModel",
      "state": {
       "children": [
        "IPY_MODEL_8199782406de444797e60641ed4f490e",
        "IPY_MODEL_de8e5310d13c47179ac3d3a6e634fc48"
       ],
       "layout": "IPY_MODEL_498284f27a10456882714952643a4ff2"
      }
     },
     "1a5097b9c76440f9b49d1883d539b3a7": {
      "model_module": "pgljupyter",
      "model_module_version": "^0.1.21",
      "model_name": "_CurveEditorModel",
      "state": {
       "_model_module_version": "^0.1.21",
       "_view_module_version": "^0.1.21",
       "layout": "IPY_MODEL_aa2d7e5f627246a6af7cd57bda4f221b",
       "points": [
        [
         -0.5,
         0
        ],
        [
         -0.4443799997170015,
         0.08445238120155335
        ],
        [
         -0.3881438269897287,
         0.1469370175651897
        ],
        [
         -0.4706173170331641,
         0.3395544757251096
        ],
        [
         -0.6965523668082574,
         0.3107991057537341
        ],
        [
         -0.6965523668082574,
         0.1505906159132135
        ]
       ],
       "type": "NurbsCurve2D"
      }
     },
     "1a5798b243d84da7b51db277b519510e": {
      "model_module": "@jupyter-widgets/controls",
      "model_module_version": "1.5.0",
      "model_name": "TextModel",
      "state": {
       "continuous_update": false,
       "description": "name",
       "layout": "IPY_MODEL_c96c30425a484fadb75cd2500f06ab5c",
       "style": "IPY_MODEL_7e0baef68e30404c9d50057df504d523",
       "value": "axis5"
      }
     },
     "1b063101caf94ee6b0cc49904b70b406": {
      "model_module": "@jupyter-widgets/controls",
      "model_module_version": "1.5.0",
      "model_name": "HBoxModel",
      "state": {
       "children": [
        "IPY_MODEL_c3e0dc486b0e4c3d8468862d7860e021"
       ],
       "layout": "IPY_MODEL_4cf2ed2a79ed4c2db77abcc41e95d522"
      }
     },
     "1b37c02a4fdd42e1b341b1861cab7dad": {
      "model_module": "@jupyter-widgets/base",
      "model_module_version": "1.2.0",
      "model_name": "LayoutModel",
      "state": {}
     },
     "1b44ac47f69d456db7fe10ccc8230abe": {
      "model_module": "@jupyter-widgets/base",
      "model_module_version": "1.2.0",
      "model_name": "LayoutModel",
      "state": {}
     },
     "1bd3a53dd84a46b788db2a94804f16f2": {
      "model_module": "@jupyter-widgets/controls",
      "model_module_version": "1.5.0",
      "model_name": "HBoxModel",
      "state": {
       "children": [
        "IPY_MODEL_7856ff3e78e54aa780de35b9e9e21b4b",
        "IPY_MODEL_84e26b3bfcd14c99a007ea0f71a23eb9"
       ],
       "layout": "IPY_MODEL_e3c0d08cc1d1475ebe0406d249951815"
      }
     },
     "1c222063c6934ef09ede3aaf0ef7cfcd": {
      "model_module": "@jupyter-widgets/controls",
      "model_module_version": "1.5.0",
      "model_name": "ButtonModel",
      "state": {
       "description": "Add",
       "layout": "IPY_MODEL_6aa4cab5ae384c84a7da37175f227eb0",
       "style": "IPY_MODEL_be061ed8952143348a6863da30506bf9"
      }
     },
     "1c4494b2e62545c8a9ed10126738df1c": {
      "model_module": "@jupyter-widgets/controls",
      "model_module_version": "1.5.0",
      "model_name": "DescriptionStyleModel",
      "state": {
       "description_width": ""
      }
     },
     "1d05f364d2cc4b249621a1455c550a76": {
      "model_module": "@jupyter-widgets/controls",
      "model_module_version": "1.5.0",
      "model_name": "VBoxModel",
      "state": {
       "children": [
        "IPY_MODEL_d83da9db7a95463ea909e8c525c3310c",
        "IPY_MODEL_8e1f627da39c4420b9c402dd48e0d210"
       ],
       "layout": "IPY_MODEL_258e8bd635a54185895108f5f7821aec"
      }
     },
     "1d34e19c9cad42e79ce151d7ef91b0f6": {
      "model_module": "@jupyter-widgets/base",
      "model_module_version": "1.2.0",
      "model_name": "LayoutModel",
      "state": {}
     },
     "1dba2dfca77946b9ac5d2d24496ce407": {
      "model_module": "pgljupyter",
      "model_module_version": "^0.1.2",
      "model_name": "CurveEditorModel",
      "state": {
       "_model_module_version": "^0.1.2",
       "_view_module_version": "^0.1.2",
       "control_points": [
        [
         -0.5671717124097543,
         0.010349592264448926
        ],
        [
         -0.22910935625475073,
         0.4644631599068219
        ],
        [
         -0.022235388893652397,
         -0.2469814403066735
        ],
        [
         0.1846385784674459,
         0.46950886642782436
        ],
        [
         0.4217867849545588,
         0.015395298785451317
        ]
       ],
       "curve_type": [
        "NurbsCurve2D"
       ],
       "layout": "IPY_MODEL_d987a2962bdd44ff8fc70c8524f2a422",
       "name": "profile"
      }
     },
     "1e0a04e4d70645399e1cd9a03b7b4e51": {
      "model_module": "@jupyter-widgets/controls",
      "model_module_version": "1.5.0",
      "model_name": "DescriptionStyleModel",
      "state": {
       "description_width": ""
      }
     },
     "1f09f15c85504f888810fad1ad673720": {
      "model_module": "@jupyter-widgets/base",
      "model_module_version": "1.2.0",
      "model_name": "LayoutModel",
      "state": {}
     },
     "1f5c3c1dc3204cc1906a4c0736c0e33c": {
      "model_module": "@jupyter-widgets/controls",
      "model_module_version": "1.5.0",
      "model_name": "ButtonModel",
      "state": {
       "description": "Add",
       "layout": "IPY_MODEL_01527296f05748daadd8bd6bcb15a4aa",
       "style": "IPY_MODEL_5e9e6c2c3f654d4e90ce964f208f9c45"
      }
     },
     "1fdb6d4f993c436aa6c72af00a99201d": {
      "model_module": "pgljupyter",
      "model_module_version": "^0.1.21",
      "model_name": "CurveEditorModel",
      "state": {
       "_model_module_version": "^0.1.21",
       "_view_module_version": "^0.1.21",
       "children": [
        "IPY_MODEL_397e94f2057c412992e90034033fc9e0",
        "IPY_MODEL_0f95adf3564b4e6dbe2367e108b3c8dd"
       ],
       "layout": "IPY_MODEL_3007424d12fc4beb94f7a94ccf261d01"
      }
     },
     "207cc9d34c784843971d38517c4006c5": {
      "model_module": "@jupyter-widgets/controls",
      "model_module_version": "1.5.0",
      "model_name": "DescriptionStyleModel",
      "state": {
       "description_width": ""
      }
     },
     "208fcc509c8c4d81b7840c1ac4a19f9b": {
      "model_module": "@jupyter-widgets/controls",
      "model_module_version": "1.5.0",
      "model_name": "HBoxModel",
      "state": {
       "children": [
        "IPY_MODEL_1c222063c6934ef09ede3aaf0ef7cfcd",
        "IPY_MODEL_efb361e6901b457893c03a5deee339e1"
       ],
       "layout": "IPY_MODEL_d276f4db174a4a859ff4c73972bc6808"
      }
     },
     "20cb40f4edf44582aaa27673a0ad3e12": {
      "model_module": "@jupyter-widgets/base",
      "model_module_version": "1.2.0",
      "model_name": "LayoutModel",
      "state": {}
     },
     "21ed3ca0be304737bd9e0b7d7dc00909": {
      "model_module": "@jupyter-widgets/controls",
      "model_module_version": "1.5.0",
      "model_name": "BoundedFloatTextModel",
      "state": {
       "description": "diffuse",
       "layout": "IPY_MODEL_c23dc75bae8e4029b67400c33292c09c",
       "max": 1,
       "step": null,
       "style": "IPY_MODEL_77f892ca877b41cba4cf72f221c64f12",
       "value": 0.75
      }
     },
     "22020f4b3c794ae0b94fa488f0cafb84": {
      "model_module": "pgljupyter",
      "model_module_version": "^0.1.2",
      "model_name": "ParameterEditorModel",
      "state": {
       "_model_module_version": "^0.1.2",
       "_view_module_version": "^0.1.2",
       "children": [
        "IPY_MODEL_94986ac645ff4f1088005f8ed6715874"
       ],
       "layout": "IPY_MODEL_7ec0b868cca3421d802f968ab7b4f1e2"
      }
     },
     "2312f359cead44459160bc1540af955f": {
      "model_module": "@jupyter-widgets/controls",
      "model_module_version": "1.5.0",
      "model_name": "DescriptionStyleModel",
      "state": {
       "description_width": ""
      }
     },
     "23b05c3dc8c24fb0a62188aefab3a34f": {
      "model_module": "@jupyter-widgets/controls",
      "model_module_version": "1.5.0",
      "model_name": "ColorPickerModel",
      "state": {
       "description": "specular",
       "disabled": false,
       "layout": "IPY_MODEL_a66f8d68662d4c79a2e44b3aefafc206",
       "style": "IPY_MODEL_d90b19f2eab44633a066dd94dda06553",
       "value": "#0f1010"
      }
     },
     "23b4ad755e494811adc3caf553dcb97e": {
      "model_module": "pgljupyter",
      "model_module_version": "^0.1.2",
      "model_name": "CurveEditorModel",
      "state": {
       "_model_module_version": "^0.1.2",
       "_view_module_version": "^0.1.2",
       "control_points": [
        [
         -0.5,
         0
        ],
        [
         -0.42353109378640263,
         0.09292297178631177
        ],
        [
         -0.3614269431776844,
         0.1631276754226754
        ],
        [
         -0.311815335240922,
         0.27436190918077913
        ],
        [
         -0.2510197531605952,
         0.39595307334143276
        ],
        [
         -0.3878098128413305,
         0.4529489315417391
        ]
       ],
       "curve_type": [
        "NurbsCurve2D"
       ],
       "layout": "IPY_MODEL_ae632d33aa984a39893dc926d1f53751",
       "name": "axis5"
      }
     },
     "23c57b1cac304cf59a3194f37d22f049": {
      "model_module": "@jupyter-widgets/base",
      "model_module_version": "1.2.0",
      "model_name": "LayoutModel",
      "state": {}
     },
     "2430ffdf93cb48d5b6cb0372f00b03af": {
      "model_module": "@jupyter-widgets/controls",
      "model_module_version": "1.5.0",
      "model_name": "ButtonStyleModel",
      "state": {}
     },
     "244204d8b5614e7aba78fa09c0dfb62d": {
      "model_module": "@jupyter-widgets/controls",
      "model_module_version": "1.5.0",
      "model_name": "ButtonModel",
      "state": {
       "description": "Apply changes",
       "layout": "IPY_MODEL_b10819d12d3944fca49233115f42d5e3",
       "style": "IPY_MODEL_d7c69df14ff44b8e85fa284de5c0a402"
      }
     },
     "246418cca9554e22887ec385aa71c823": {
      "model_module": "@jupyter-widgets/controls",
      "model_module_version": "1.5.0",
      "model_name": "CheckboxModel",
      "state": {
       "description": "Auto apply",
       "disabled": false,
       "layout": "IPY_MODEL_ce67ef359e9241b3be29c793ff86f065",
       "style": "IPY_MODEL_a14beecbbbcd493f9580da13296a33e4",
       "value": false
      }
     },
     "24f1696e3ecd49c5b966e0eb5f0b86c2": {
      "model_module": "@jupyter-widgets/controls",
      "model_module_version": "1.5.0",
      "model_name": "TextModel",
      "state": {
       "layout": "IPY_MODEL_cbc1c0131ab14902a8776c6b402f154c",
       "style": "IPY_MODEL_29a964ea0355416295cbb2c6471befc0",
       "value": "axis8"
      }
     },
     "25194001bc334d238bd878b28bc5991e": {
      "model_module": "@jupyter-widgets/base",
      "model_module_version": "1.2.0",
      "model_name": "LayoutModel",
      "state": {}
     },
     "25263a7a4f364498b91751e75fb41a50": {
      "model_module": "@jupyter-widgets/controls",
      "model_module_version": "1.5.0",
      "model_name": "DropdownModel",
      "state": {
       "_options_labels": [
        "Integer",
        "Float",
        "Bool"
       ],
       "index": 0,
       "layout": "IPY_MODEL_2b3f033b819d4fcc85adafdee6d45c95",
       "style": "IPY_MODEL_77a1d4e2d86842ea8911aae94f9d5666"
      }
     },
     "25430d8ae15240ebbec3fb95cadf6298": {
      "model_module": "@jupyter-widgets/controls",
      "model_module_version": "1.5.0",
      "model_name": "ButtonStyleModel",
      "state": {}
     },
     "254ce71096c1441e8d2eb2d40b4d7c29": {
      "model_module": "@jupyter-widgets/base",
      "model_module_version": "1.2.0",
      "model_name": "LayoutModel",
      "state": {}
     },
     "2552960e029a4aaaa2265bd07bfbd876": {
      "model_module": "@jupyter-widgets/controls",
      "model_module_version": "1.5.0",
      "model_name": "ButtonModel",
      "state": {
       "description": "Save changes",
       "layout": "IPY_MODEL_cd90f1113bd1455aaffade7579a56b76",
       "style": "IPY_MODEL_ec9479da74e144e696b0ad1d25f68ddf"
      }
     },
     "2573914daf974f9eb31df1adf75fa0b6": {
      "model_module": "@jupyter-widgets/controls",
      "model_module_version": "1.5.0",
      "model_name": "DescriptionStyleModel",
      "state": {
       "description_width": ""
      }
     },
     "258e8bd635a54185895108f5f7821aec": {
      "model_module": "@jupyter-widgets/base",
      "model_module_version": "1.2.0",
      "model_name": "LayoutModel",
      "state": {}
     },
     "25b3fb8b580849818eb85c39f7c8486f": {
      "model_module": "@jupyter-widgets/controls",
      "model_module_version": "1.5.0",
      "model_name": "BoundedIntTextModel",
      "state": {
       "description": "index",
       "layout": "IPY_MODEL_a577f03970a640adbfd806d6929a5e58",
       "style": "IPY_MODEL_fd5a59e23752430ab0487885f7a3280a",
       "value": 2
      }
     },
     "25fcea23de134f89b9c68d680ad9b597": {
      "model_module": "@jupyter-widgets/base",
      "model_module_version": "1.2.0",
      "model_name": "LayoutModel",
      "state": {
       "margin": "10px 10px"
      }
     },
     "26cbd9ad29644c28988fa14dfe131f17": {
      "model_module": "@jupyter-widgets/controls",
      "model_module_version": "1.5.0",
      "model_name": "HBoxModel",
      "state": {
       "children": [
        "IPY_MODEL_730fb5385c904f7497d0730f3e2d8968"
       ],
       "layout": "IPY_MODEL_6bf461dd51124808a9f3e91bc0ee331a"
      }
     },
     "26dc13bb9e3d4e06be4b4ccba07c1952": {
      "model_module": "@jupyter-widgets/base",
      "model_module_version": "1.2.0",
      "model_name": "LayoutModel",
      "state": {}
     },
     "274f2f98769a4e5ab02ca59609bad38f": {
      "model_module": "@jupyter-widgets/base",
      "model_module_version": "1.2.0",
      "model_name": "LayoutModel",
      "state": {
       "margin": "20px 0px"
      }
     },
     "27a91f5f9e99462d8df5b7ce7f652c0f": {
      "model_module": "@jupyter-widgets/base",
      "model_module_version": "1.2.0",
      "model_name": "LayoutModel",
      "state": {}
     },
     "27c527c5ee6443f5ab1d9ee2a1a2def0": {
      "model_module": "@jupyter-widgets/controls",
      "model_module_version": "1.5.0",
      "model_name": "ButtonModel",
      "state": {
       "description": "Save changes",
       "layout": "IPY_MODEL_7aa3408a89a44067b8154eec3902d8bd",
       "style": "IPY_MODEL_7ff870f50b2b48158d0d8440973e9043"
      }
     },
     "27e28a59a07f4afdbade409cc1e4c60f": {
      "model_module": "@jupyter-widgets/controls",
      "model_module_version": "1.5.0",
      "model_name": "DescriptionStyleModel",
      "state": {
       "description_width": ""
      }
     },
     "284dc97be8db4967ac2f6b34fa655b09": {
      "model_module": "@jupyter-widgets/controls",
      "model_module_version": "1.5.0",
      "model_name": "DescriptionStyleModel",
      "state": {
       "description_width": ""
      }
     },
     "28b48099337748019dbba28f053915df": {
      "model_module": "pgljupyter",
      "model_module_version": "^0.1.2",
      "model_name": "CurveEditorModel",
      "state": {
       "_model_module_version": "^0.1.2",
       "_view_module_version": "^0.1.2",
       "control_points": [
        [
         -0.5,
         0
        ],
        [
         -0.4443799997170015,
         0.08445238120155335
        ],
        [
         -0.3881438269897287,
         0.1469370175651897
        ],
        [
         -0.4706173170331641,
         0.3395544757251096
        ],
        [
         -0.6965523668082574,
         0.3107991057537341
        ],
        [
         -0.6965523668082574,
         0.1505906159132135
        ]
       ],
       "curve_type": [
        "NurbsCurve2D"
       ],
       "layout": "IPY_MODEL_6b2ce6a9ffe54dd78274a535480e25cc",
       "name": "axis8"
      }
     },
     "297207e6517a4ecc9d297da0f84639c4": {
      "model_module": "@jupyter-widgets/base",
      "model_module_version": "1.2.0",
      "model_name": "LayoutModel",
      "state": {}
     },
     "29a964ea0355416295cbb2c6471befc0": {
      "model_module": "@jupyter-widgets/controls",
      "model_module_version": "1.5.0",
      "model_name": "DescriptionStyleModel",
      "state": {
       "description_width": ""
      }
     },
     "2b3f033b819d4fcc85adafdee6d45c95": {
      "model_module": "@jupyter-widgets/base",
      "model_module_version": "1.2.0",
      "model_name": "LayoutModel",
      "state": {}
     },
     "2bb2e970bb41431590aa327a751d202f": {
      "model_module": "@jupyter-widgets/controls",
      "model_module_version": "1.5.0",
      "model_name": "AccordionModel",
      "state": {
       "layout": "IPY_MODEL_9bfad25618f449f08b83eb667899f120"
      }
     },
     "2bc884abf0ec471c938442475e74f1e0": {
      "model_module": "@jupyter-widgets/controls",
      "model_module_version": "1.5.0",
      "model_name": "DescriptionStyleModel",
      "state": {
       "description_width": ""
      }
     },
     "2c04a2c9a490456e8a0a49a49e98b1b0": {
      "model_module": "@jupyter-widgets/base",
      "model_module_version": "1.2.0",
      "model_name": "LayoutModel",
      "state": {}
     },
     "2c5001c1ec134706865aba1b1922a6e8": {
      "model_module": "@jupyter-widgets/base",
      "model_module_version": "1.2.0",
      "model_name": "LayoutModel",
      "state": {}
     },
     "2c7ee3ed183f43af9b0d90aa6dc67986": {
      "model_module": "@jupyter-widgets/controls",
      "model_module_version": "1.5.0",
      "model_name": "DescriptionStyleModel",
      "state": {
       "description_width": ""
      }
     },
     "2ce453eaefdc46c392117c75341da3d7": {
      "model_module": "@jupyter-widgets/controls",
      "model_module_version": "1.5.0",
      "model_name": "ButtonStyleModel",
      "state": {}
     },
     "2ce8caf5b07f41a7bd840ca6631c546a": {
      "model_module": "@jupyter-widgets/base",
      "model_module_version": "1.2.0",
      "model_name": "LayoutModel",
      "state": {}
     },
     "2d77a88944f74aed87e0b1c46e3985e5": {
      "model_module": "pgljupyter",
      "model_module_version": "^0.1.21",
      "model_name": "_CurveEditorModel",
      "state": {
       "_model_module_version": "^0.1.21",
       "_view_module_version": "^0.1.21",
       "layout": "IPY_MODEL_25194001bc334d238bd878b28bc5991e",
       "points": [
        [
         -0.5,
         0
        ],
        [
         -0.49552241639640116,
         0.21742664949363016
        ],
        [
         -0.21352716185094664,
         0.22279798767544834
        ],
        [
         -0.18667049143188477,
         0.02405847494817561
        ],
        [
         -0.36929596912367396,
         0.03748682040272106
        ],
        [
         -0.33438227094185574,
         0.1126855549481756
        ]
       ],
       "type": "NurbsCurve2D"
      }
     },
     "2dd82e9546694bddb855a33039276f4b": {
      "model_module": "@jupyter-widgets/controls",
      "model_module_version": "1.5.0",
      "model_name": "HBoxModel",
      "state": {
       "children": [
        "IPY_MODEL_63c255d69eb2443b9c8e30cdc3a702a3",
        "IPY_MODEL_6e6f0a1f38dc49f598c9438788c080ba",
        "IPY_MODEL_b7476de5e2bd4b46a1764570fc294d00",
        "IPY_MODEL_3077e9df42da46f3ab1d7afc999cb26b",
        "IPY_MODEL_d6a8f2049b5c472996a87869a5f7a3ae",
        "IPY_MODEL_e27f4558d0b6408b82e1ee5d27b5a5e0",
        "IPY_MODEL_74ba3e9a55014a0bad0d317bd99c1acb",
        "IPY_MODEL_eaaa33b191a043ab81721babd6d3b850",
        "IPY_MODEL_c715915e4f83480796d08974f4eb4e9c",
        "IPY_MODEL_3e874372b88247518429307c03d7b450",
        "IPY_MODEL_de2ce232171045759eba9bd67b4eb6a2"
       ],
       "layout": "IPY_MODEL_0487ce89439c45aa8a2eb497e4f24cdf"
      }
     },
     "2e75e6a7328b4b449db199db02d9e123": {
      "model_module": "@jupyter-widgets/controls",
      "model_module_version": "1.5.0",
      "model_name": "ColorPickerModel",
      "state": {
       "description": "emission",
       "disabled": false,
       "layout": "IPY_MODEL_d2ba063161fe4e97b51c3c2c209ffe94",
       "style": "IPY_MODEL_673975f57bd74bf2a43f98c622b90c44",
       "value": "#000000"
      }
     },
     "2ea25934e57a4e4fa75bc0b12b8db506": {
      "model_module": "@jupyter-widgets/base",
      "model_module_version": "1.2.0",
      "model_name": "LayoutModel",
      "state": {}
     },
     "2eef65863b404511b5196d18ec538629": {
      "model_module": "@jupyter-widgets/base",
      "model_module_version": "1.2.0",
      "model_name": "LayoutModel",
      "state": {}
     },
     "2f4bd1e80ca943929cb4bc6b0877b8e5": {
      "model_module": "@jupyter-widgets/base",
      "model_module_version": "1.2.0",
      "model_name": "LayoutModel",
      "state": {}
     },
     "2f62997022a348babbc7dabd058e261d": {
      "model_module": "@jupyter-widgets/controls",
      "model_module_version": "1.5.0",
      "model_name": "ButtonModel",
      "state": {
       "description": "Add category",
       "layout": "IPY_MODEL_4a3b4d68f31a414a9260039833491535",
       "style": "IPY_MODEL_ed624e36d7b646eabb0207e99bd1cd19"
      }
     },
     "2fcae8c0922d495fa496323f56512a83": {
      "model_module": "@jupyter-widgets/controls",
      "model_module_version": "1.5.0",
      "model_name": "DescriptionStyleModel",
      "state": {
       "description_width": ""
      }
     },
     "3007424d12fc4beb94f7a94ccf261d01": {
      "model_module": "@jupyter-widgets/base",
      "model_module_version": "1.2.0",
      "model_name": "LayoutModel",
      "state": {
       "margin": "20px 0px"
      }
     },
     "3009bf40e2224ae587d9cc62939302c3": {
      "model_module": "pgljupyter",
      "model_module_version": "^0.1.21",
      "model_name": "_CurveEditorModel",
      "state": {
       "_model_module_version": "^0.1.21",
       "_view_module_version": "^0.1.21",
       "layout": "IPY_MODEL_32347b8fadd94a3b9dc41dd68ad9b713",
       "points": [
        [
         -0.4037968924616441,
         0.007340293853329988
        ],
        [
         -0.15206200222345528,
         0.15118880256086648
        ],
        [
         0.00077703827830225,
         -0.07806975819176981
        ],
        [
         0.19856873775116482,
         0.17366513204641904
        ],
        [
         0.4217867849545588,
         0.015395298785451317
        ]
       ],
       "type": "NurbsCurve2D"
      }
     },
     "3031ecc0b3f04d8e9564348dbca1c58b": {
      "model_module": "@jupyter-widgets/controls",
      "model_module_version": "1.5.0",
      "model_name": "DescriptionStyleModel",
      "state": {
       "description_width": ""
      }
     },
     "3077e9df42da46f3ab1d7afc999cb26b": {
      "model_module": "pgljupyter",
      "model_module_version": "^0.1.21",
      "model_name": "CurveEditorModel",
      "state": {
       "_model_module_version": "^0.1.21",
       "_view_module_version": "^0.1.21",
       "children": [
        "IPY_MODEL_e90a8de524b6444290d4efe8cfd5487d",
        "IPY_MODEL_52379069e6dc4e8c803c4bb76bfeba60"
       ],
       "layout": "IPY_MODEL_a9649f8857f5419aaa497568383073a3"
      }
     },
     "30ba88048cf04adfa0c52ce1cb8b3a81": {
      "model_module": "@jupyter-widgets/controls",
      "model_module_version": "1.5.0",
      "model_name": "SliderStyleModel",
      "state": {
       "description_width": ""
      }
     },
     "30f13a3eabdf4a5fbdf71382133ca0d5": {
      "model_module": "@jupyter-widgets/base",
      "model_module_version": "1.2.0",
      "model_name": "LayoutModel",
      "state": {}
     },
     "3142a087d72b4f128625a3a2ca5c5324": {
      "model_module": "@jupyter-widgets/controls",
      "model_module_version": "1.5.0",
      "model_name": "TextModel",
      "state": {
       "continuous_update": false,
       "description": "name",
       "layout": "IPY_MODEL_078a5af6b20040ff8f641c06a0278aaf",
       "style": "IPY_MODEL_500ea02a238c4fffad3f902fa44da615",
       "value": "axis1"
      }
     },
     "315d176038c84c2784755cad6489f368": {
      "model_module": "@jupyter-widgets/controls",
      "model_module_version": "1.5.0",
      "model_name": "ButtonStyleModel",
      "state": {}
     },
     "316af18d976144718476bf95cf43e0ce": {
      "model_module": "@jupyter-widgets/base",
      "model_module_version": "1.2.0",
      "model_name": "LayoutModel",
      "state": {}
     },
     "318555735ff3412d9ee52d833ff36b07": {
      "model_module": "@jupyter-widgets/controls",
      "model_module_version": "1.5.0",
      "model_name": "DescriptionStyleModel",
      "state": {
       "description_width": ""
      }
     },
     "31a181bedfe740e2a33bacba1ede3566": {
      "model_module": "@jupyter-widgets/base",
      "model_module_version": "1.2.0",
      "model_name": "LayoutModel",
      "state": {}
     },
     "321b165f675c42408c9da91ad4592258": {
      "model_module": "pgljupyter",
      "model_module_version": "^0.1.21",
      "model_name": "ParameterEditorModel",
      "state": {
       "_model_module_version": "^0.1.21",
       "_view_module_version": "^0.1.21",
       "children": [
        "IPY_MODEL_db06ab4d668747c4bea3c6d3ab4c6223"
       ],
       "layout": "IPY_MODEL_ada613799ce94689b2b4a114c6afc2bf"
      }
     },
     "32347b8fadd94a3b9dc41dd68ad9b713": {
      "model_module": "@jupyter-widgets/base",
      "model_module_version": "1.2.0",
      "model_name": "LayoutModel",
      "state": {}
     },
     "32766f69e21d43b486200517567846ad": {
      "model_module": "@jupyter-widgets/controls",
      "model_module_version": "1.5.0",
      "model_name": "TextModel",
      "state": {
       "continuous_update": false,
       "description": "name",
       "layout": "IPY_MODEL_d21f4a6e0b30406bb2eb868804c2daa1",
       "style": "IPY_MODEL_d98d9f07167e49f08314e06d303b925d",
       "value": "axis2"
      }
     },
     "32c12dfa91214515a2c42fe00e5e2919": {
      "model_module": "@jupyter-widgets/controls",
      "model_module_version": "1.5.0",
      "model_name": "VBoxModel",
      "state": {
       "children": [
        "IPY_MODEL_eac1c0faa5c74c55b25806fd5088f812",
        "IPY_MODEL_26cbd9ad29644c28988fa14dfe131f17"
       ],
       "layout": "IPY_MODEL_a901a4e413ce47cbb307828f5c4567b9"
      }
     },
     "3346b7ac1fd94cb4970df69cbd2cf02e": {
      "model_module": "@jupyter-widgets/base",
      "model_module_version": "1.2.0",
      "model_name": "LayoutModel",
      "state": {}
     },
     "337faab79c3f46d9a09162e8d960775a": {
      "model_module": "@jupyter-widgets/base",
      "model_module_version": "1.2.0",
      "model_name": "LayoutModel",
      "state": {}
     },
     "338af4491e9a4f699278504516e26e50": {
      "model_module": "@jupyter-widgets/controls",
      "model_module_version": "1.5.0",
      "model_name": "TextModel",
      "state": {
       "continuous_update": false,
       "description": "name",
       "layout": "IPY_MODEL_d4696ab49a1f422d95c6548db1de435e",
       "style": "IPY_MODEL_3ac418fd2d794ee29b2cf92b65d47ff0",
       "value": "axis9"
      }
     },
     "339e90fa2cba4a129f5cfe228fb6f321": {
      "model_module": "pgljupyter",
      "model_module_version": "^0.1.21",
      "model_name": "CurveEditorModel",
      "state": {
       "_model_module_version": "^0.1.21",
       "_view_module_version": "^0.1.21",
       "children": [
        "IPY_MODEL_cb0aa0b6e04c48fca905bc3195a5c973",
        "IPY_MODEL_df8297dacd8641c58deb88c71d46a9bb"
       ],
       "layout": "IPY_MODEL_e7dd3f0396a04237aafad91514432dc7"
      }
     },
     "33dbd82759e84e3ba63538a723ba964f": {
      "model_module": "@jupyter-widgets/controls",
      "model_module_version": "1.5.0",
      "model_name": "HBoxModel",
      "state": {
       "children": [
        "IPY_MODEL_09ea71fb5dcf402ca26000b53cccd03a"
       ],
       "layout": "IPY_MODEL_9454854810ea4fcf9540c6ab8ec2089e"
      }
     },
     "33fe0ed83377495fb7c168339ff0f219": {
      "model_module": "@jupyter-widgets/controls",
      "model_module_version": "1.5.0",
      "model_name": "ColorPickerModel",
      "state": {
       "description": "ambient",
       "disabled": false,
       "layout": "IPY_MODEL_d7505459bd964bcaa36e88176108762f",
       "style": "IPY_MODEL_6d0a6e58511b44119b89353fffb71f18",
       "value": "#295426"
      }
     },
     "34112744b1db408384656d1daba821c7": {
      "model_module": "@jupyter-widgets/base",
      "model_module_version": "1.2.0",
      "model_name": "LayoutModel",
      "state": {}
     },
     "34fd35a4bdf34d39858d9adadd558bc7": {
      "model_module": "@jupyter-widgets/controls",
      "model_module_version": "1.5.0",
      "model_name": "TextModel",
      "state": {
       "continuous_update": false,
       "description": "name",
       "layout": "IPY_MODEL_e1490d160b73494f8180bcbe96ab2ea5",
       "style": "IPY_MODEL_a28f18a898974ddbace5f05803173bdb",
       "value": "axis9"
      }
     },
     "353a14f75fd640398891872bc96854ad": {
      "model_module": "@jupyter-widgets/base",
      "model_module_version": "1.2.0",
      "model_name": "LayoutModel",
      "state": {}
     },
     "372c0255b987452fa3fa32ccfc2eb108": {
      "model_module": "@jupyter-widgets/controls",
      "model_module_version": "1.5.0",
      "model_name": "DescriptionStyleModel",
      "state": {
       "description_width": ""
      }
     },
     "374ab8e0d8ee49d89b1ad3a3d86b0899": {
      "model_module": "@jupyter-widgets/base",
      "model_module_version": "1.2.0",
      "model_name": "LayoutModel",
      "state": {}
     },
     "374c60255e5b401796ad42b28797196f": {
      "model_module": "@jupyter-widgets/base",
      "model_module_version": "1.2.0",
      "model_name": "LayoutModel",
      "state": {}
     },
     "379052102ad449999d593c8a207582a0": {
      "model_module": "@jupyter-widgets/controls",
      "model_module_version": "1.5.0",
      "model_name": "VBoxModel",
      "state": {
       "children": [
        "IPY_MODEL_d1f5138764144f029c85b0b228644aac",
        "IPY_MODEL_23b4ad755e494811adc3caf553dcb97e"
       ],
       "layout": "IPY_MODEL_0b2b607eaa804eccbfbc9454aff4016d"
      }
     },
     "379be925d27344e0a4155242c23a3f1b": {
      "model_module": "@jupyter-widgets/controls",
      "model_module_version": "1.5.0",
      "model_name": "ButtonStyleModel",
      "state": {}
     },
     "37b83a39d3c14e96a75f9bba231a3907": {
      "model_module": "@jupyter-widgets/controls",
      "model_module_version": "1.5.0",
      "model_name": "DescriptionStyleModel",
      "state": {
       "description_width": ""
      }
     },
     "38c9bbbc490f4821a400cbf5ffc85864": {
      "model_module": "@jupyter-widgets/controls",
      "model_module_version": "1.5.0",
      "model_name": "BoundedIntTextModel",
      "state": {
       "description": "index",
       "layout": "IPY_MODEL_def39d2b7b7544378cc49821fe714b85",
       "style": "IPY_MODEL_71764f90fccf4ec089fb93e49b778068",
       "value": 2
      }
     },
     "39445f1bd98546a088cd3287051e7c58": {
      "model_module": "@jupyter-widgets/base",
      "model_module_version": "1.2.0",
      "model_name": "LayoutModel",
      "state": {}
     },
     "397e94f2057c412992e90034033fc9e0": {
      "model_module": "@jupyter-widgets/controls",
      "model_module_version": "1.5.0",
      "model_name": "TextModel",
      "state": {
       "continuous_update": false,
       "description": "name",
       "layout": "IPY_MODEL_10746c880d86485a9ac8f1cd9e129b1c",
       "style": "IPY_MODEL_cd2ca0ab4f6342c59c3aa49a3ee5e991",
       "value": "leafwidth"
      }
     },
     "398fca16342f4031824fbf6ce17e766b": {
      "model_module": "@jupyter-widgets/controls",
      "model_module_version": "1.5.0",
      "model_name": "FloatSliderModel",
      "state": {
       "description": "shininess",
       "layout": "IPY_MODEL_cf5b3a1fda9b49db826785c7f7762d18",
       "max": 1,
       "step": 0.1,
       "style": "IPY_MODEL_839d628c51f54204b42fc6b1b207bdaa",
       "value": 0.2
      }
     },
     "39bdfaf8ab944b72a52cbeb0b6805732": {
      "model_module": "@jupyter-widgets/controls",
      "model_module_version": "1.5.0",
      "model_name": "DropdownModel",
      "state": {
       "_options_labels": [
        "Color"
       ],
       "index": 0,
       "layout": "IPY_MODEL_f39a263fc5f8430e9f80cc03a8357350",
       "style": "IPY_MODEL_372c0255b987452fa3fa32ccfc2eb108"
      }
     },
     "39deadb4e14445a19c7a30445b4a2000": {
      "model_module": "@jupyter-widgets/base",
      "model_module_version": "1.2.0",
      "model_name": "LayoutModel",
      "state": {}
     },
     "3a09ee6430e04ea0b21db51f5975d009": {
      "model_module": "@jupyter-widgets/controls",
      "model_module_version": "1.5.0",
      "model_name": "DropdownModel",
      "state": {
       "_options_labels": [
        "NurbsCurve2D",
        "BezierCurve2D",
        "PolyLine2D"
       ],
       "index": 0,
       "layout": "IPY_MODEL_898a23a4483b4dcbb8d3240b90777729",
       "style": "IPY_MODEL_488c1ecd6a604995a703a4b575e346ff"
      }
     },
     "3ac418fd2d794ee29b2cf92b65d47ff0": {
      "model_module": "@jupyter-widgets/controls",
      "model_module_version": "1.5.0",
      "model_name": "DescriptionStyleModel",
      "state": {
       "description_width": ""
      }
     },
     "3aea01c596be4f59912f32042424c922": {
      "model_module": "@jupyter-widgets/base",
      "model_module_version": "1.2.0",
      "model_name": "LayoutModel",
      "state": {
       "margin": "20px 0px"
      }
     },
     "3b351436f9fd4d7dad08ed856312e9a3": {
      "model_module": "@jupyter-widgets/controls",
      "model_module_version": "1.5.0",
      "model_name": "HBoxModel",
      "state": {
       "children": [
        "IPY_MODEL_b57aa1cd5fec44b68a09983fc3370a14",
        "IPY_MODEL_3a09ee6430e04ea0b21db51f5975d009"
       ],
       "layout": "IPY_MODEL_facc124b46fd42f4adfb77dc7edfbe70"
      }
     },
     "3b74a863e5a14a70bc1063a5404912c8": {
      "model_module": "@jupyter-widgets/controls",
      "model_module_version": "1.5.0",
      "model_name": "ColorPickerModel",
      "state": {
       "description": "ambient",
       "disabled": false,
       "layout": "IPY_MODEL_689217d2a906448e987c40ef633fb7d9",
       "style": "IPY_MODEL_c82f206c884f4d2f8b634c8676196481",
       "value": "#495c33"
      }
     },
     "3b8fbc1723164458822fc7e82d138e11": {
      "model_module": "@jupyter-widgets/controls",
      "model_module_version": "1.5.0",
      "model_name": "TextModel",
      "state": {
       "continuous_update": false,
       "description": "name",
       "layout": "IPY_MODEL_dd5fe37ccd5943658fdeaa0fa05a5552",
       "style": "IPY_MODEL_37b83a39d3c14e96a75f9bba231a3907",
       "value": "axis8"
      }
     },
     "3cb5b08801f343e98b1caca5e8dce646": {
      "model_module": "@jupyter-widgets/base",
      "model_module_version": "1.2.0",
      "model_name": "LayoutModel",
      "state": {}
     },
     "3cbac16c462d4bc3a54db8d27a570724": {
      "model_module": "@jupyter-widgets/controls",
      "model_module_version": "1.5.0",
      "model_name": "HBoxModel",
      "state": {
       "children": [
        "IPY_MODEL_27c527c5ee6443f5ab1d9ee2a1a2def0",
        "IPY_MODEL_a247bc6500a9482a81cb83c364db0d8a"
       ],
       "layout": "IPY_MODEL_b16aa82832bc4a478830123d3a350b4a"
      }
     },
     "3cdd7b9c6eea45d78b4b9d7451cd04bf": {
      "model_module": "@jupyter-widgets/controls",
      "model_module_version": "1.5.0",
      "model_name": "DescriptionStyleModel",
      "state": {
       "description_width": ""
      }
     },
     "3e11e0143f044a148df6336e2d6de310": {
      "model_module": "@jupyter-widgets/controls",
      "model_module_version": "1.5.0",
      "model_name": "SliderStyleModel",
      "state": {
       "description_width": ""
      }
     },
     "3e874372b88247518429307c03d7b450": {
      "model_module": "pgljupyter",
      "model_module_version": "^0.1.21",
      "model_name": "CurveEditorModel",
      "state": {
       "_model_module_version": "^0.1.21",
       "_view_module_version": "^0.1.21",
       "children": [
        "IPY_MODEL_ab0d1f4654064349aae8cbb643f71f08",
        "IPY_MODEL_1a5097b9c76440f9b49d1883d539b3a7"
       ],
       "layout": "IPY_MODEL_f0d779b366904808a768ff5f0a80f961"
      }
     },
     "3e889b7efc1142f38ddfa623e77d747d": {
      "model_module": "@jupyter-widgets/base",
      "model_module_version": "1.2.0",
      "model_name": "LayoutModel",
      "state": {}
     },
     "3f2bf25b89b04a2c98f962a891a39d0c": {
      "model_module": "@jupyter-widgets/controls",
      "model_module_version": "1.5.0",
      "model_name": "TextModel",
      "state": {
       "layout": "IPY_MODEL_d32b8222cc6f4647aa15b4a994fd1f0b",
       "style": "IPY_MODEL_27e28a59a07f4afdbade409cc1e4c60f",
       "value": "axis1"
      }
     },
     "3f5914a501dc495588edc8aa9edbe202": {
      "model_module": "@jupyter-widgets/controls",
      "model_module_version": "1.5.0",
      "model_name": "TextModel",
      "state": {
       "layout": "IPY_MODEL_bb51cd016ca048ccb97207556559acdc",
       "style": "IPY_MODEL_60b5550190d648688c243a3f36ccbeab",
       "value": "leafwidth"
      }
     },
     "3f68e3a542ed43e0b5dce94253cd2060": {
      "model_module": "@jupyter-widgets/controls",
      "model_module_version": "1.5.0",
      "model_name": "DescriptionStyleModel",
      "state": {
       "description_width": ""
      }
     },
     "3f7bdc20b4d242ce9dc81b57434f3d48": {
      "model_module": "@jupyter-widgets/base",
      "model_module_version": "1.2.0",
      "model_name": "LayoutModel",
      "state": {}
     },
     "3f914d03aa604e3c9fad33a63affd056": {
      "model_module": "@jupyter-widgets/controls",
      "model_module_version": "1.5.0",
      "model_name": "TextModel",
      "state": {
       "layout": "IPY_MODEL_eed32540bc7a4e6bb09adf18e1e4f4d0",
       "style": "IPY_MODEL_c7a693eeedab4abba91054ec7c49622b",
       "value": "color"
      }
     },
     "3fff19501fb141709323fd28c9fe757f": {
      "model_module": "@jupyter-widgets/controls",
      "model_module_version": "1.5.0",
      "model_name": "TextModel",
      "state": {
       "continuous_update": false,
       "description": "name",
       "layout": "IPY_MODEL_ee446c1f77b54b2ea4bfa4a1f9c76f17",
       "style": "IPY_MODEL_1639dc432fa64ed5b4573f622e31d68b",
       "value": "profile"
      }
     },
     "40cbd1dc70ef4513b7d68b642120365d": {
      "model_module": "@jupyter-widgets/controls",
      "model_module_version": "1.5.0",
      "model_name": "DescriptionStyleModel",
      "state": {
       "description_width": ""
      }
     },
     "40ff3bcded0f4aeb85f4e194e0b5719e": {
      "model_module": "@jupyter-widgets/base",
      "model_module_version": "1.2.0",
      "model_name": "LayoutModel",
      "state": {}
     },
     "41cee7ad31d345c7acdd11d5d931ca12": {
      "model_module": "pgljupyter",
      "model_module_version": "^0.2.1",
      "model_name": "CurveEditorModel",
      "state": {
       "_model_module_version": "^0.2.1",
       "_view_module_version": "^0.2.1",
       "children": [
        "IPY_MODEL_338af4491e9a4f699278504516e26e50",
        "IPY_MODEL_08e0e8fd6fa04c5397a0c5504cda1367"
       ],
       "layout": "IPY_MODEL_acc6d2ac266742079f7e4eec995f110b"
      }
     },
     "421496546f25485093eac43791cda1aa": {
      "model_module": "@jupyter-widgets/base",
      "model_module_version": "1.2.0",
      "model_name": "LayoutModel",
      "state": {}
     },
     "4271f1bce0ff44428ea9a12c6c8eb8e8": {
      "model_module": "@jupyter-widgets/controls",
      "model_module_version": "1.5.0",
      "model_name": "VBoxModel",
      "state": {
       "children": [
        "IPY_MODEL_0a0c2ae6bc2d45af85133392769398da",
        "IPY_MODEL_ed4b3eb8289043e7af685aad36bdb042"
       ],
       "layout": "IPY_MODEL_297207e6517a4ecc9d297da0f84639c4"
      }
     },
     "42b12b45bfac4f678a050dd71b1776d2": {
      "model_module": "@jupyter-widgets/base",
      "model_module_version": "1.2.0",
      "model_name": "LayoutModel",
      "state": {}
     },
     "42b399d4b88944dfb09908d5e4006354": {
      "model_module": "@jupyter-widgets/base",
      "model_module_version": "1.2.0",
      "model_name": "LayoutModel",
      "state": {}
     },
     "4305026877a54ddaa73b4a7e9b01b326": {
      "model_module": "@jupyter-widgets/base",
      "model_module_version": "1.2.0",
      "model_name": "LayoutModel",
      "state": {}
     },
     "4314aa61d2c34b3e8666454faf0241ab": {
      "model_module": "@jupyter-widgets/controls",
      "model_module_version": "1.5.0",
      "model_name": "DescriptionStyleModel",
      "state": {
       "description_width": ""
      }
     },
     "4368eca3d5ca45c996e08dec030087ee": {
      "model_module": "@jupyter-widgets/controls",
      "model_module_version": "1.5.0",
      "model_name": "VBoxModel",
      "state": {
       "children": [
        "IPY_MODEL_24f1696e3ecd49c5b966e0eb5f0b86c2",
        "IPY_MODEL_28b48099337748019dbba28f053915df"
       ],
       "layout": "IPY_MODEL_a2aaf40a1043482f860d95a191962030"
      }
     },
     "43ca2ef269674a66a4a28e8611bd1d5e": {
      "model_module": "@jupyter-widgets/base",
      "model_module_version": "1.2.0",
      "model_name": "LayoutModel",
      "state": {}
     },
     "43f654178aec40ca95a4da12863fd74c": {
      "model_module": "pgljupyter",
      "model_module_version": "^0.1.21",
      "model_name": "CurveEditorModel",
      "state": {
       "_model_module_version": "^0.1.21",
       "_view_module_version": "^0.1.21",
       "children": [
        "IPY_MODEL_a6e2dc96d08843398c3309562f512baa",
        "IPY_MODEL_fb3aae91897a49afb2ebef5245923856"
       ],
       "layout": "IPY_MODEL_778c15774b724d01ac1ce74fbbde251a"
      }
     },
     "448a32b5e4884fd992be05f838654aa2": {
      "model_module": "pgljupyter",
      "model_module_version": "^0.2.1",
      "model_name": "CurveEditorModel",
      "state": {
       "_model_module_version": "^0.2.1",
       "_view_module_version": "^0.2.1",
       "children": [
        "IPY_MODEL_d8ec29166d104111becce29bf4adb715",
        "IPY_MODEL_df64f32e331d4782a9e19106286c60ea"
       ],
       "layout": "IPY_MODEL_aa14682034e54ff2b2a9b942b08532de"
      }
     },
     "44da311c10644c2aae3e89ba4dce347d": {
      "model_module": "@jupyter-widgets/controls",
      "model_module_version": "1.5.0",
      "model_name": "ButtonStyleModel",
      "state": {}
     },
     "452b00f3db9d4ddf9b9dcff4fe4b5fe3": {
      "model_module": "@jupyter-widgets/controls",
      "model_module_version": "1.5.0",
      "model_name": "ButtonModel",
      "state": {
       "description": "Add",
       "layout": "IPY_MODEL_26dc13bb9e3d4e06be4b4ccba07c1952",
       "style": "IPY_MODEL_5baa7e2bc9294bb4a4548051580786e6"
      }
     },
     "454530c31274450db87a0b3ef7c7b08a": {
      "model_module": "@jupyter-widgets/base",
      "model_module_version": "1.2.0",
      "model_name": "LayoutModel",
      "state": {}
     },
     "45484a759aec47dca5539cefd0d81f96": {
      "model_module": "@jupyter-widgets/controls",
      "model_module_version": "1.5.0",
      "model_name": "HBoxModel",
      "state": {
       "children": [
        "IPY_MODEL_eafafd181a7b48ae8ac86ce064106902",
        "IPY_MODEL_e03237d62d49421c8ec240e646b018da"
       ],
       "layout": "IPY_MODEL_ecbfa493c55148998563ea30d3de8450"
      }
     },
     "4844bb4e0a1541919ebb51884a7b47f4": {
      "model_module": "@jupyter-widgets/base",
      "model_module_version": "1.2.0",
      "model_name": "LayoutModel",
      "state": {}
     },
     "487b3e4a5cdb4adda4614d5d8b1c5b3b": {
      "model_module": "@jupyter-widgets/base",
      "model_module_version": "1.2.0",
      "model_name": "LayoutModel",
      "state": {}
     },
     "488c1ecd6a604995a703a4b575e346ff": {
      "model_module": "@jupyter-widgets/controls",
      "model_module_version": "1.5.0",
      "model_name": "DescriptionStyleModel",
      "state": {
       "description_width": ""
      }
     },
     "4925c6810e764f4689f291019a17d28b": {
      "model_module": "@jupyter-widgets/controls",
      "model_module_version": "1.5.0",
      "model_name": "ButtonStyleModel",
      "state": {}
     },
     "492b317ef2c34348bbb46d5ebf44325b": {
      "model_module": "@jupyter-widgets/controls",
      "model_module_version": "1.5.0",
      "model_name": "DescriptionStyleModel",
      "state": {
       "description_width": ""
      }
     },
     "498284f27a10456882714952643a4ff2": {
      "model_module": "@jupyter-widgets/base",
      "model_module_version": "1.2.0",
      "model_name": "LayoutModel",
      "state": {
       "flex_flow": "row wrap",
       "margin": "20px"
      }
     },
     "4988ddd09f784cd8bb4ad9d3a5f96b8f": {
      "model_module": "pgljupyter",
      "model_module_version": "^0.1.21",
      "model_name": "_CurveEditorModel",
      "state": {
       "_model_module_version": "^0.1.21",
       "_view_module_version": "^0.1.21",
       "layout": "IPY_MODEL_2f4bd1e80ca943929cb4bc6b0877b8e5",
       "points": [
        [
         -0.5,
         0
        ],
        [
         -0.42353109378640263,
         0.09292297178631177
        ],
        [
         -0.3614269431776844,
         0.1631276754226754
        ],
        [
         -0.311815335240922,
         0.27436190918077913
        ],
        [
         -0.2510197531605952,
         0.39595307334143276
        ],
        [
         -0.3878098128413305,
         0.4529489315417391
        ]
       ],
       "type": "NurbsCurve2D"
      }
     },
     "49ccc1947dc6404ab5c4c841aa611a0a": {
      "model_module": "@jupyter-widgets/controls",
      "model_module_version": "1.5.0",
      "model_name": "DescriptionStyleModel",
      "state": {
       "description_width": ""
      }
     },
     "4a3b4d68f31a414a9260039833491535": {
      "model_module": "@jupyter-widgets/base",
      "model_module_version": "1.2.0",
      "model_name": "LayoutModel",
      "state": {}
     },
     "4b4b16091ba442eda4647e6931cd65d8": {
      "model_module": "@jupyter-widgets/controls",
      "model_module_version": "1.5.0",
      "model_name": "DescriptionStyleModel",
      "state": {
       "description_width": ""
      }
     },
     "4baaef69801c446fba5de5603faa4e33": {
      "model_module": "@jupyter-widgets/base",
      "model_module_version": "1.2.0",
      "model_name": "LayoutModel",
      "state": {}
     },
     "4c0a18f1a64e440691e910416bc25d05": {
      "model_module": "@jupyter-widgets/controls",
      "model_module_version": "1.5.0",
      "model_name": "DropdownModel",
      "state": {
       "index": null,
       "layout": "IPY_MODEL_2ce8caf5b07f41a7bd840ca6631c546a",
       "style": "IPY_MODEL_2bc884abf0ec471c938442475e74f1e0"
      }
     },
     "4c12885742f3494eb18af5d558fedd89": {
      "model_module": "@jupyter-widgets/base",
      "model_module_version": "1.2.0",
      "model_name": "LayoutModel",
      "state": {}
     },
     "4c3318c3b21f49a0a324efd214729db7": {
      "model_module": "@jupyter-widgets/base",
      "model_module_version": "1.2.0",
      "model_name": "LayoutModel",
      "state": {}
     },
     "4c9926a0978d4054a5dda3b791381de6": {
      "model_module": "@jupyter-widgets/controls",
      "model_module_version": "1.5.0",
      "model_name": "DescriptionStyleModel",
      "state": {
       "description_width": ""
      }
     },
     "4cf2ed2a79ed4c2db77abcc41e95d522": {
      "model_module": "@jupyter-widgets/base",
      "model_module_version": "1.2.0",
      "model_name": "LayoutModel",
      "state": {
       "flex_flow": "row wrap",
       "margin": "20px"
      }
     },
     "4d2b037f45f047a390b107e0db031eb7": {
      "model_module": "@jupyter-widgets/controls",
      "model_module_version": "1.5.0",
      "model_name": "HBoxModel",
      "state": {
       "layout": "IPY_MODEL_6bf461dd51124808a9f3e91bc0ee331a"
      }
     },
     "4d61aa7482354b41a3aeb182c824732e": {
      "model_module": "@jupyter-widgets/controls",
      "model_module_version": "1.5.0",
      "model_name": "ButtonStyleModel",
      "state": {}
     },
     "4d8abe67df074b2ca15fab3085fc1acc": {
      "model_module": "@jupyter-widgets/base",
      "model_module_version": "1.2.0",
      "model_name": "LayoutModel",
      "state": {}
     },
     "4e75bb934089475e82011d2e30110d8c": {
      "model_module": "@jupyter-widgets/controls",
      "model_module_version": "1.5.0",
      "model_name": "DescriptionStyleModel",
      "state": {
       "description_width": ""
      }
     },
     "4f5ea647fd974c3fadd8f4a0dd713e63": {
      "model_module": "@jupyter-widgets/controls",
      "model_module_version": "1.5.0",
      "model_name": "ButtonStyleModel",
      "state": {}
     },
     "4f8ed5eb7e214948a2e940c43ecae542": {
      "model_module": "@jupyter-widgets/controls",
      "model_module_version": "1.5.0",
      "model_name": "ButtonModel",
      "state": {
       "description": "Save changes",
       "layout": "IPY_MODEL_f79ce6b27b2e47479b7708f8fff519f6",
       "style": "IPY_MODEL_379be925d27344e0a4155242c23a3f1b"
      }
     },
     "500ea02a238c4fffad3f902fa44da615": {
      "model_module": "@jupyter-widgets/controls",
      "model_module_version": "1.5.0",
      "model_name": "DescriptionStyleModel",
      "state": {
       "description_width": ""
      }
     },
     "51dce90937614b0aaf20d9cb28e104c4": {
      "model_module": "@jupyter-widgets/controls",
      "model_module_version": "1.5.0",
      "model_name": "DescriptionStyleModel",
      "state": {
       "description_width": ""
      }
     },
     "52379069e6dc4e8c803c4bb76bfeba60": {
      "model_module": "pgljupyter",
      "model_module_version": "^0.1.21",
      "model_name": "_CurveEditorModel",
      "state": {
       "_model_module_version": "^0.1.21",
       "_view_module_version": "^0.1.21",
       "layout": "IPY_MODEL_a622a61503c64dbca3f0e1902e96c9a9",
       "points": [
        [
         -0.5,
         0
        ],
        [
         -0.46537859650133195,
         0.1437906475518601
        ],
        [
         -0.3790209986412258,
         0.2681455884704129
        ],
        [
         -0.24084882888793227,
         0.2785085002136257
        ],
        [
         -0.15794553494223032,
         0.1541535592950728
        ],
        [
         -0.29611769151840023,
         0.04016153011973264
        ]
       ],
       "type": "NurbsCurve2D"
      }
     },
     "52728d990c354156a46ad17f1ae8da27": {
      "model_module": "@jupyter-widgets/base",
      "model_module_version": "1.2.0",
      "model_name": "LayoutModel",
      "state": {}
     },
     "528e0b5f8312495098e1885ba0046597": {
      "model_module": "@jupyter-widgets/base",
      "model_module_version": "1.2.0",
      "model_name": "LayoutModel",
      "state": {}
     },
     "53a3e215614441358e88028845fe9065": {
      "model_module": "@jupyter-widgets/controls",
      "model_module_version": "1.5.0",
      "model_name": "ButtonModel",
      "state": {
       "description": "Add",
       "layout": "IPY_MODEL_20cb40f4edf44582aaa27673a0ad3e12",
       "style": "IPY_MODEL_2430ffdf93cb48d5b6cb0372f00b03af"
      }
     },
     "53df657fbde04d4ea4a0276370f8b592": {
      "model_module": "@jupyter-widgets/base",
      "model_module_version": "1.2.0",
      "model_name": "LayoutModel",
      "state": {}
     },
     "545b9834966d44a9b90b36c9bc186eec": {
      "model_module": "@jupyter-widgets/base",
      "model_module_version": "1.2.0",
      "model_name": "LayoutModel",
      "state": {
       "margin": "20px 0px"
      }
     },
     "54855a4c9f52444492618a16e0a065e1": {
      "model_module": "@jupyter-widgets/controls",
      "model_module_version": "1.5.0",
      "model_name": "AccordionModel",
      "state": {
       "_titles": {
        "0": "misc",
        "1": "scalars",
        "2": "materials",
        "3": "functions",
        "4": "curves"
       },
       "children": [
        "IPY_MODEL_80eb1549af2544bf82aaa96febaee405",
        "IPY_MODEL_ce2039c6d9b1489baada74133c09a360",
        "IPY_MODEL_32c12dfa91214515a2c42fe00e5e2919",
        "IPY_MODEL_1d05f364d2cc4b249621a1455c550a76",
        "IPY_MODEL_b53991c9c4504f93ad00376c720f15c9"
       ],
       "layout": "IPY_MODEL_5b0f37fedbaa4743992b67b5f06f512c"
      }
     },
     "549ceff9134e4e8bb4009ffabbdc0f03": {
      "model_module": "@jupyter-widgets/controls",
      "model_module_version": "1.5.0",
      "model_name": "ButtonStyleModel",
      "state": {}
     },
     "54c5d114c595402aa645e45b87d8ecb6": {
      "model_module": "@jupyter-widgets/controls",
      "model_module_version": "1.5.0",
      "model_name": "FloatSliderModel",
      "state": {
       "description": "shininess",
       "layout": "IPY_MODEL_adc9a935d6fe4ae48788ced32aea79cc",
       "max": 1,
       "step": 0.1,
       "style": "IPY_MODEL_7af5e23a324c424fa3637d861404c3f3",
       "value": 0.2
      }
     },
     "550e9c560884410db1f464f669ca3995": {
      "model_module": "@jupyter-widgets/base",
      "model_module_version": "1.2.0",
      "model_name": "LayoutModel",
      "state": {}
     },
     "555aee09a7704b20902e062bb1ced7d1": {
      "model_module": "@jupyter-widgets/controls",
      "model_module_version": "1.5.0",
      "model_name": "ButtonModel",
      "state": {
       "description": "Add",
       "layout": "IPY_MODEL_cfd9aa0705e641b7a5e51fa20b7c23de",
       "style": "IPY_MODEL_0c23777e93914d4d9c005d61910c8b1e"
      }
     },
     "56258c94abb74397a31db0e0931e8483": {
      "model_module": "@jupyter-widgets/base",
      "model_module_version": "1.2.0",
      "model_name": "LayoutModel",
      "state": {}
     },
     "56a3988936a148af97cc4dae6a27b50d": {
      "model_module": "@jupyter-widgets/controls",
      "model_module_version": "1.5.0",
      "model_name": "DescriptionStyleModel",
      "state": {
       "description_width": ""
      }
     },
     "56b7c464525e42bbbd3fc5cd5c58a498": {
      "model_module": "pgljupyter",
      "model_module_version": "^0.1.21",
      "model_name": "MaterialEditorModel",
      "state": {
       "_model_module_version": "^0.1.21",
       "_view_module_version": "^0.1.21",
       "children": [
        "IPY_MODEL_b75248ba37f848d69977f37c556b9741",
        "IPY_MODEL_88ed8318a5f64cf4a5ac145f4eac9804",
        "IPY_MODEL_03ec7111ade54657aa5d8328a75089b2",
        "IPY_MODEL_60e2799f979f4cf6b1faf098daa0ad06",
        "IPY_MODEL_0e2cb059b2cd4b888d5a5d9917dee511",
        "IPY_MODEL_6b8d0ecbc5af4c3b9e1c363675b26a49",
        "IPY_MODEL_7e99654f8eae4951bdb4b7186ba7970d",
        "IPY_MODEL_54c5d114c595402aa645e45b87d8ecb6"
       ],
       "layout": "IPY_MODEL_69e9ec73395f4e18b7545a9fff3025f8"
      }
     },
     "56d21ce09f2c49ecae5d76b8db7c2fc5": {
      "model_module": "@jupyter-widgets/controls",
      "model_module_version": "1.5.0",
      "model_name": "HBoxModel",
      "state": {
       "children": [
        "IPY_MODEL_ae1d46314e6f4436a40768c2bb6b3f6b",
        "IPY_MODEL_0ee4a8d53b8a4a7eb9e12943baed9344"
       ],
       "layout": "IPY_MODEL_b746e0691d15427e91640cd6e85d303a"
      }
     },
     "577e0eb793e840698e70cb19294f4408": {
      "model_module": "@jupyter-widgets/base",
      "model_module_version": "1.2.0",
      "model_name": "LayoutModel",
      "state": {}
     },
     "58bc023aebd5405d830556bc26f04050": {
      "model_module": "pgljupyter",
      "model_module_version": "^0.2.1",
      "model_name": "_CurveEditorModel",
      "state": {
       "_model_module_version": "^0.2.1",
       "_view_module_version": "^0.2.1",
       "layout": "IPY_MODEL_f42a3ea3d498461197674bed98fabadc",
       "name": "profile",
       "points": [
        [
         -0.4037968924616441,
         0.007340293853329988
        ],
        [
         -0.15206200222345528,
         0.15118880256086648
        ],
        [
         0.00077703827830225,
         -0.07806975819176981
        ],
        [
         0.19856873775116482,
         0.17366513204641904
        ],
        [
         0.4217867849545588,
         0.015395298785451317
        ]
       ],
       "type": "NurbsCurve2D"
      }
     },
     "593cd0314ba54a4fa1c696d523754fed": {
      "model_module": "@jupyter-widgets/base",
      "model_module_version": "1.2.0",
      "model_name": "LayoutModel",
      "state": {
       "margin": "5px"
      }
     },
     "598d6fdd66a34900a4d9868c9bd2f023": {
      "model_module": "pgljupyter",
      "model_module_version": "^0.1.2",
      "model_name": "CurveEditorModel",
      "state": {
       "_model_module_version": "^0.1.2",
       "_view_module_version": "^0.1.2",
       "control_points": [
        [
         -0.5,
         0
        ],
        [
         -0.49552241639640116,
         0.21742664949363016
        ],
        [
         -0.21352716185094664,
         0.22279798767544834
        ],
        [
         -0.18667049143188477,
         0.02405847494817561
        ],
        [
         -0.36929596912367396,
         0.03748682040272106
        ],
        [
         -0.33438227094185574,
         0.1126855549481756
        ]
       ],
       "curve_type": [
        "NurbsCurve2D"
       ],
       "layout": "IPY_MODEL_64539623bee34b74bbde1a18d8ea9f81",
       "name": "axis1"
      }
     },
     "5a77dfc5232549258697c872989a73ab": {
      "model_module": "@jupyter-widgets/controls",
      "model_module_version": "1.5.0",
      "model_name": "VBoxModel",
      "state": {
       "children": [
        "IPY_MODEL_bec4d62ed14e4aae8ba345bca9c9946f",
        "IPY_MODEL_f8efd095ee224ccaa5753f012b56f7c4"
       ],
       "layout": "IPY_MODEL_1b44ac47f69d456db7fe10ccc8230abe"
      }
     },
     "5b0f37fedbaa4743992b67b5f06f512c": {
      "model_module": "@jupyter-widgets/base",
      "model_module_version": "1.2.0",
      "model_name": "LayoutModel",
      "state": {}
     },
     "5b100535c19e428291c4fcab01a03067": {
      "model_module": "@jupyter-widgets/base",
      "model_module_version": "1.2.0",
      "model_name": "LayoutModel",
      "state": {}
     },
     "5b17bc7736d74899a3e62ee090378f4e": {
      "model_module": "@jupyter-widgets/controls",
      "model_module_version": "1.5.0",
      "model_name": "SliderStyleModel",
      "state": {
       "description_width": ""
      }
     },
     "5b52185e85ba4264bed1213f796e85dd": {
      "model_module": "@jupyter-widgets/base",
      "model_module_version": "1.2.0",
      "model_name": "LayoutModel",
      "state": {}
     },
     "5baa7e2bc9294bb4a4548051580786e6": {
      "model_module": "@jupyter-widgets/controls",
      "model_module_version": "1.5.0",
      "model_name": "ButtonStyleModel",
      "state": {}
     },
     "5c33cc868e3a4f97bec2a770f9941540": {
      "model_module": "@jupyter-widgets/base",
      "model_module_version": "1.2.0",
      "model_name": "LayoutModel",
      "state": {}
     },
     "5c99c27368ab4018b6dfe54cc35a89ff": {
      "model_module": "@jupyter-widgets/controls",
      "model_module_version": "1.5.0",
      "model_name": "TabModel",
      "state": {
       "layout": "IPY_MODEL_9fd7439ae7434edbbc9e298b77f42bdf"
      }
     },
     "5d8cc1bf39f947ffac11a98de88441df": {
      "model_module": "@jupyter-widgets/base",
      "model_module_version": "1.2.0",
      "model_name": "LayoutModel",
      "state": {}
     },
     "5df0e44407464b5082e9048c0740eab4": {
      "model_module": "@jupyter-widgets/base",
      "model_module_version": "1.2.0",
      "model_name": "LayoutModel",
      "state": {}
     },
     "5e9e6c2c3f654d4e90ce964f208f9c45": {
      "model_module": "@jupyter-widgets/controls",
      "model_module_version": "1.5.0",
      "model_name": "ButtonStyleModel",
      "state": {}
     },
     "5ecf7727a69146d2985f2bbedc4d799b": {
      "model_module": "@jupyter-widgets/controls",
      "model_module_version": "1.5.0",
      "model_name": "HBoxModel",
      "state": {
       "children": [
        "IPY_MODEL_9336678f3d6743cca4ee9c2f99126d6d",
        "IPY_MODEL_7110ade934b1437c84f2d248b2abe8fc"
       ],
       "layout": "IPY_MODEL_f14eed23878640f09c75b00091167975"
      }
     },
     "600be4291fc848919734aba1d5a5351e": {
      "model_module": "pgljupyter",
      "model_module_version": "^0.2.1",
      "model_name": "ParameterEditorModel",
      "state": {
       "_model_module_version": "^0.2.1",
       "_view_module_version": "^0.2.1",
       "children": [
        "IPY_MODEL_7ff2a91a98bb48a1be21cad9a5aafd3b"
       ],
       "layout": "IPY_MODEL_6b975c4ec20c49799ad943914f92ce74"
      }
     },
     "6054119ce7e84043b975799ce82d12b7": {
      "model_module": "@jupyter-widgets/controls",
      "model_module_version": "1.5.0",
      "model_name": "DescriptionStyleModel",
      "state": {
       "description_width": ""
      }
     },
     "60b5550190d648688c243a3f36ccbeab": {
      "model_module": "@jupyter-widgets/controls",
      "model_module_version": "1.5.0",
      "model_name": "DescriptionStyleModel",
      "state": {
       "description_width": ""
      }
     },
     "60b69fece4dc4a82be3ee6b074ec7a24": {
      "model_module": "@jupyter-widgets/controls",
      "model_module_version": "1.5.0",
      "model_name": "HBoxModel",
      "state": {
       "children": [
        "IPY_MODEL_f5b53520e5214a2f9c48113595415c2f",
        "IPY_MODEL_09ad7eed47834caaa7de2aa61a31a755"
       ],
       "layout": "IPY_MODEL_498284f27a10456882714952643a4ff2"
      }
     },
     "60e2799f979f4cf6b1faf098daa0ad06": {
      "model_module": "@jupyter-widgets/controls",
      "model_module_version": "1.5.0",
      "model_name": "ColorPickerModel",
      "state": {
       "description": "specular",
       "disabled": false,
       "layout": "IPY_MODEL_c604c1085ef645b08847d633d8769598",
       "style": "IPY_MODEL_d49b54a228b14f74981fd96ed37a5f04",
       "value": "#0f1010"
      }
     },
     "61064c76b13c4b0391485bba9f7ab5d0": {
      "model_module": "@jupyter-widgets/controls",
      "model_module_version": "1.5.0",
      "model_name": "ButtonStyleModel",
      "state": {}
     },
     "6155cf608f754bcbb581e590bf30f5e6": {
      "model_module": "@jupyter-widgets/controls",
      "model_module_version": "1.5.0",
      "model_name": "TabModel",
      "state": {
       "layout": "IPY_MODEL_8e8f84f2c35f48cc9b9e8d5047741728"
      }
     },
     "6213110ce9274ed6868666ca8e1bed93": {
      "model_module": "@jupyter-widgets/controls",
      "model_module_version": "1.5.0",
      "model_name": "HBoxModel",
      "state": {
       "children": [
        "IPY_MODEL_56b7c464525e42bbbd3fc5cd5c58a498"
       ],
       "layout": "IPY_MODEL_0487ce89439c45aa8a2eb497e4f24cdf"
      }
     },
     "6360db2d6474480da1669a12a9c0216d": {
      "model_module": "@jupyter-widgets/base",
      "model_module_version": "1.2.0",
      "model_name": "LayoutModel",
      "state": {
       "flex_flow": "row wrap"
      }
     },
     "63946089b95d4cf9889c0cf60786b8e7": {
      "model_module": "@jupyter-widgets/controls",
      "model_module_version": "1.5.0",
      "model_name": "VBoxModel",
      "state": {
       "children": [
        "IPY_MODEL_79b717d6225e4ea2acbd98ca06e4bad9",
        "IPY_MODEL_8ef275e4285248d1bbc86ba1eedef701",
        "IPY_MODEL_b099b16b6f734dc8a93a3a4e46c7acfd",
        "IPY_MODEL_60b69fece4dc4a82be3ee6b074ec7a24",
        "IPY_MODEL_2dd82e9546694bddb855a33039276f4b"
       ],
       "layout": "IPY_MODEL_a76f4a4731464528873c1817d4cdb582"
      }
     },
     "63c255d69eb2443b9c8e30cdc3a702a3": {
      "model_module": "pgljupyter",
      "model_module_version": "^0.1.21",
      "model_name": "CurveEditorModel",
      "state": {
       "_model_module_version": "^0.1.21",
       "_view_module_version": "^0.1.21",
       "children": [
        "IPY_MODEL_e5c039e636c540758135337c8eb82bbc",
        "IPY_MODEL_822d942160924b7b91d44eeb686da19c"
       ],
       "layout": "IPY_MODEL_0fc721c257264cb6a050e243029d308b"
      }
     },
     "63df69d0928d4a0cbd9bbad2ac64a867": {
      "model_module": "@jupyter-widgets/controls",
      "model_module_version": "1.5.0",
      "model_name": "TextModel",
      "state": {
       "continuous_update": false,
       "description": "name",
       "layout": "IPY_MODEL_83d16b39d6aa4c98b519c63396d64bd9",
       "style": "IPY_MODEL_4b4b16091ba442eda4647e6931cd65d8",
       "value": "leafwidth"
      }
     },
     "642220ebc25a4ccb9f2a7195400fa021": {
      "model_module": "@jupyter-widgets/base",
      "model_module_version": "1.2.0",
      "model_name": "LayoutModel",
      "state": {
       "margin": "20px 0px"
      }
     },
     "64539623bee34b74bbde1a18d8ea9f81": {
      "model_module": "@jupyter-widgets/base",
      "model_module_version": "1.2.0",
      "model_name": "LayoutModel",
      "state": {}
     },
     "6495531c98824fb9bbcb5948f8bcb119": {
      "model_module": "@jupyter-widgets/controls",
      "model_module_version": "1.5.0",
      "model_name": "TextModel",
      "state": {
       "continuous_update": false,
       "description": "name",
       "layout": "IPY_MODEL_0957b655156a4cc5bd5d45de20ef700f",
       "style": "IPY_MODEL_a6134748fe4446bc80ea38bc4dd62269",
       "value": "axis1"
      }
     },
     "654f257cec9d48048ca318dbabb631cd": {
      "model_module": "@jupyter-widgets/controls",
      "model_module_version": "1.5.0",
      "model_name": "ButtonStyleModel",
      "state": {}
     },
     "6686ac0df05846e585a96fbd13486809": {
      "model_module": "@jupyter-widgets/controls",
      "model_module_version": "1.5.0",
      "model_name": "DescriptionStyleModel",
      "state": {
       "description_width": ""
      }
     },
     "66bcc2caa30a43ad91ac437c69455893": {
      "model_module": "@jupyter-widgets/base",
      "model_module_version": "1.2.0",
      "model_name": "LayoutModel",
      "state": {}
     },
     "673975f57bd74bf2a43f98c622b90c44": {
      "model_module": "@jupyter-widgets/controls",
      "model_module_version": "1.5.0",
      "model_name": "DescriptionStyleModel",
      "state": {
       "description_width": ""
      }
     },
     "67f14998b25f4bda864edcba7deeeb7e": {
      "model_module": "@jupyter-widgets/base",
      "model_module_version": "1.2.0",
      "model_name": "LayoutModel",
      "state": {
       "margin": "20px 0px"
      }
     },
     "67f2fa877d2747c2bcf98ea0dabea0c9": {
      "model_module": "@jupyter-widgets/controls",
      "model_module_version": "1.5.0",
      "model_name": "ColorPickerModel",
      "state": {
       "description": "emission",
       "disabled": false,
       "layout": "IPY_MODEL_ba87c0c1b7b442a4bde2da87977abe9e",
       "style": "IPY_MODEL_a4e3a9c4f05e437fb7a8e5577c497e0f",
       "value": "#000000"
      }
     },
     "681e4a212b51455e9c94cfeaa37ad52d": {
      "model_module": "@jupyter-widgets/controls",
      "model_module_version": "1.5.0",
      "model_name": "VBoxModel",
      "state": {
       "children": [
        "IPY_MODEL_a60cfe96c0b949c4a0fade811d377cf2",
        "IPY_MODEL_ce23d217c5494b8db75807205264670f"
       ],
       "layout": "IPY_MODEL_c363b1eb8430423c85f083784364a07d"
      }
     },
     "686be1a621c94fd9b90f92793ccd2775": {
      "model_module": "@jupyter-widgets/base",
      "model_module_version": "1.2.0",
      "model_name": "LayoutModel",
      "state": {}
     },
     "686cb04195464644bad898b6b5063bbf": {
      "model_module": "@jupyter-widgets/base",
      "model_module_version": "1.2.0",
      "model_name": "LayoutModel",
      "state": {}
     },
     "689217d2a906448e987c40ef633fb7d9": {
      "model_module": "@jupyter-widgets/base",
      "model_module_version": "1.2.0",
      "model_name": "LayoutModel",
      "state": {}
     },
     "6892a650490642319c1867a08e22c8af": {
      "model_module": "pgljupyter",
      "model_module_version": "^0.1.21",
      "model_name": "_CurveEditorModel",
      "state": {
       "_model_module_version": "^0.1.21",
       "_view_module_version": "^0.1.21",
       "layout": "IPY_MODEL_a23a906aaa6348aab3db191c789e8ef3",
       "points": [
        [
         -0.5,
         0
        ],
        [
         -0.4443799997170015,
         0.08445238120155335
        ],
        [
         -0.3881438269897287,
         0.1469370175651897
        ],
        [
         -0.4706173170331641,
         0.3395544757251096
        ],
        [
         -0.6965523668082574,
         0.3107991057537341
        ],
        [
         -0.6965523668082574,
         0.1505906159132135
        ]
       ],
       "type": "NurbsCurve2D"
      }
     },
     "69137d9febb74b5da88e680b90ee4d83": {
      "model_module": "pgljupyter",
      "model_module_version": "^0.1.21",
      "model_name": "LsystemWidgetModel",
      "state": {
       "_model_module_version": "^0.1.21",
       "_view_module_version": "^0.1.21",
       "axes_helper": false,
       "derivationLength": 161,
       "layout": "IPY_MODEL_899468d349cd46139c60343dd903a965",
       "light_helper": false,
       "plane": true,
       "size_display": [
        400,
        400
       ],
       "size_world": 2
      }
     },
     "698156d5c93f4a0ebe9a1be582b0aaf8": {
      "model_module": "pgljupyter",
      "model_module_version": "^0.1.21",
      "model_name": "CurveEditorModel",
      "state": {
       "_model_module_version": "^0.1.21",
       "_view_module_version": "^0.1.21",
       "children": [
        "IPY_MODEL_0b485294215f4ffe99592b8c384a9814",
        "IPY_MODEL_6892a650490642319c1867a08e22c8af"
       ],
       "layout": "IPY_MODEL_197d9de1a5054d9db428a320b14a32d7"
      }
     },
     "69a297f69b1c4d5591a5c74be9aa39d6": {
      "model_module": "@jupyter-widgets/controls",
      "model_module_version": "1.5.0",
      "model_name": "ButtonModel",
      "state": {
       "description": "Delete category",
       "layout": "IPY_MODEL_a1b95e5990f24244a720c3da19e3eb63",
       "style": "IPY_MODEL_7ba6936c150749008c6cc04541e458ba"
      }
     },
     "69e9ec73395f4e18b7545a9fff3025f8": {
      "model_module": "@jupyter-widgets/base",
      "model_module_version": "1.2.0",
      "model_name": "LayoutModel",
      "state": {
       "margin": "20px 0px"
      }
     },
     "6a353ff27cef41269cba559751f03955": {
      "model_module": "@jupyter-widgets/controls",
      "model_module_version": "1.5.0",
      "model_name": "HBoxModel",
      "state": {
       "children": [
        "IPY_MODEL_ab146beffbd14a8f986b51e3e2943725",
        "IPY_MODEL_c26ad8d116414fddaba15e112157ad62",
        "IPY_MODEL_cf6798a101d44eea973f01a92c0df6dc",
        "IPY_MODEL_d015a1c1a4b940e6b21e4df89d27f680",
        "IPY_MODEL_681e4a212b51455e9c94cfeaa37ad52d",
        "IPY_MODEL_379052102ad449999d593c8a207582a0",
        "IPY_MODEL_4271f1bce0ff44428ea9a12c6c8eb8e8",
        "IPY_MODEL_ac2e430c885044c19e4a2370ed5c7bb2",
        "IPY_MODEL_4368eca3d5ca45c996e08dec030087ee",
        "IPY_MODEL_99fba8f317ea4d8795c31d586e8ec94f"
       ],
       "layout": "IPY_MODEL_6bf461dd51124808a9f3e91bc0ee331a"
      }
     },
     "6a3b4e27316e48479b95430e31835263": {
      "model_module": "@jupyter-widgets/controls",
      "model_module_version": "1.5.0",
      "model_name": "TextModel",
      "state": {
       "layout": "IPY_MODEL_421496546f25485093eac43791cda1aa",
       "style": "IPY_MODEL_8228fd97a889423daa02bd2929678132",
       "value": "axis7"
      }
     },
     "6a96990f4f9a4cf79263d8955f350db4": {
      "model_module": "pgljupyter",
      "model_module_version": "^0.1.21",
      "model_name": "CurveEditorModel",
      "state": {
       "_model_module_version": "^0.1.21",
       "_view_module_version": "^0.1.21",
       "children": [
        "IPY_MODEL_ab5a07eca3cd433ab604c7841af4af00",
        "IPY_MODEL_3009bf40e2224ae587d9cc62939302c3"
       ],
       "layout": "IPY_MODEL_caaf13d8edfe45b599ae896ec257fac5"
      }
     },
     "6aa4cab5ae384c84a7da37175f227eb0": {
      "model_module": "@jupyter-widgets/base",
      "model_module_version": "1.2.0",
      "model_name": "LayoutModel",
      "state": {}
     },
     "6b2ce6a9ffe54dd78274a535480e25cc": {
      "model_module": "@jupyter-widgets/base",
      "model_module_version": "1.2.0",
      "model_name": "LayoutModel",
      "state": {}
     },
     "6b8d0ecbc5af4c3b9e1c363675b26a49": {
      "model_module": "@jupyter-widgets/controls",
      "model_module_version": "1.5.0",
      "model_name": "FloatSliderModel",
      "state": {
       "description": "diffuse",
       "layout": "IPY_MODEL_b600a1a8ead5445c882e9e2032db8b76",
       "max": 3,
       "step": 0.1,
       "style": "IPY_MODEL_a32cf758b6834af79ade9a0008b6be59",
       "value": 1
      }
     },
     "6b975c4ec20c49799ad943914f92ce74": {
      "model_module": "@jupyter-widgets/base",
      "model_module_version": "1.2.0",
      "model_name": "LayoutModel",
      "state": {}
     },
     "6bf461dd51124808a9f3e91bc0ee331a": {
      "model_module": "@jupyter-widgets/base",
      "model_module_version": "1.2.0",
      "model_name": "LayoutModel",
      "state": {
       "flex_flow": "row wrap",
       "margin": "20px"
      }
     },
     "6cd668d20d744ec89c5493a860f48fbf": {
      "model_module": "@jupyter-widgets/controls",
      "model_module_version": "1.5.0",
      "model_name": "HBoxModel",
      "state": {
       "children": [
        "IPY_MODEL_208fcc509c8c4d81b7840c1ac4a19f9b",
        "IPY_MODEL_aa50288e118544329f0e49cf25960b7f"
       ],
       "layout": "IPY_MODEL_f75c8e82dd674f7a9f63f47db4a4ed63"
      }
     },
     "6cf0bf0fab0c4002b7b188a674666493": {
      "model_module": "@jupyter-widgets/controls",
      "model_module_version": "1.5.0",
      "model_name": "DescriptionStyleModel",
      "state": {
       "description_width": ""
      }
     },
     "6d0a6e58511b44119b89353fffb71f18": {
      "model_module": "@jupyter-widgets/controls",
      "model_module_version": "1.5.0",
      "model_name": "DescriptionStyleModel",
      "state": {
       "description_width": ""
      }
     },
     "6d16acd84dce442f9cfa1daf60dd3eb4": {
      "model_module": "pgljupyter",
      "model_module_version": "^0.2.1",
      "model_name": "CurveEditorModel",
      "state": {
       "_model_module_version": "^0.2.1",
       "_view_module_version": "^0.2.1",
       "children": [
        "IPY_MODEL_32766f69e21d43b486200517567846ad",
        "IPY_MODEL_b3fb62d357d24e5198433f8cea961382"
       ],
       "layout": "IPY_MODEL_25fcea23de134f89b9c68d680ad9b597"
      }
     },
     "6d585c6321704a00b9970863cdb76409": {
      "model_module": "@jupyter-widgets/base",
      "model_module_version": "1.2.0",
      "model_name": "LayoutModel",
      "state": {}
     },
     "6d5eeaf3f2a84136bcab3ea36aca9535": {
      "model_module": "@jupyter-widgets/controls",
      "model_module_version": "1.5.0",
      "model_name": "DropdownModel",
      "state": {
       "_options_labels": [
        "NurbsCurve2D"
       ],
       "index": 0,
       "layout": "IPY_MODEL_dac41b2f2be5409dbb63b82d0cd20573",
       "style": "IPY_MODEL_2312f359cead44459160bc1540af955f"
      }
     },
     "6e43bf8eba3a447ca78057bb298d1554": {
      "model_module": "@jupyter-widgets/controls",
      "model_module_version": "1.5.0",
      "model_name": "HBoxModel",
      "state": {
       "children": [
        "IPY_MODEL_ee6248fc39b84b6c948b0719fc090489",
        "IPY_MODEL_246418cca9554e22887ec385aa71c823"
       ],
       "layout": "IPY_MODEL_a7405c794d6545caa5b7f111cfa7da65"
      }
     },
     "6e51d306e1554d62ba3a86ea6d717981": {
      "model_module": "@jupyter-widgets/base",
      "model_module_version": "1.2.0",
      "model_name": "LayoutModel",
      "state": {}
     },
     "6e6bafbeb0d04580aa1d640c0c1308b1": {
      "model_module": "@jupyter-widgets/controls",
      "model_module_version": "1.5.0",
      "model_name": "ButtonModel",
      "state": {
       "description": "Add",
       "layout": "IPY_MODEL_4c3318c3b21f49a0a324efd214729db7",
       "style": "IPY_MODEL_fb37fe599385450bb958b2899d5fbf45"
      }
     },
     "6e6f0a1f38dc49f598c9438788c080ba": {
      "model_module": "pgljupyter",
      "model_module_version": "^0.1.21",
      "model_name": "CurveEditorModel",
      "state": {
       "_model_module_version": "^0.1.21",
       "_view_module_version": "^0.1.21",
       "children": [
        "IPY_MODEL_cab730a62a9046cc8eaf425c66912ace",
        "IPY_MODEL_9aa51197be264f6aac766a409317b6b0"
       ],
       "layout": "IPY_MODEL_abf866300bc448a7985b2c176e1adb38"
      }
     },
     "6f3cf5faba6a4f4f83e78267701858bf": {
      "model_module": "@jupyter-widgets/controls",
      "model_module_version": "1.5.0",
      "model_name": "DescriptionStyleModel",
      "state": {
       "description_width": ""
      }
     },
     "701b6d6d08e3490ea17e3e7bd549475b": {
      "model_module": "@jupyter-widgets/controls",
      "model_module_version": "1.5.0",
      "model_name": "DescriptionStyleModel",
      "state": {
       "description_width": ""
      }
     },
     "7092da022f09492d857e60583fd90903": {
      "model_module": "@jupyter-widgets/controls",
      "model_module_version": "1.5.0",
      "model_name": "VBoxModel",
      "state": {
       "children": [
        "IPY_MODEL_3f5914a501dc495588edc8aa9edbe202",
        "IPY_MODEL_032ef6064459466e9cf447093f53eff4"
       ],
       "layout": "IPY_MODEL_43ca2ef269674a66a4a28e8611bd1d5e"
      }
     },
     "7110ade934b1437c84f2d248b2abe8fc": {
      "model_module": "@jupyter-widgets/controls",
      "model_module_version": "1.5.0",
      "model_name": "DropdownModel",
      "state": {
       "_options_labels": [
        "Integer",
        "Float",
        "Bool"
       ],
       "index": 0,
       "layout": "IPY_MODEL_c9430facbc4c43249586d851830255aa",
       "style": "IPY_MODEL_f6d450ccb5104a83bd02198e71a7a204"
      }
     },
     "71764f90fccf4ec089fb93e49b778068": {
      "model_module": "@jupyter-widgets/controls",
      "model_module_version": "1.5.0",
      "model_name": "DescriptionStyleModel",
      "state": {
       "description_width": ""
      }
     },
     "730fb5385c904f7497d0730f3e2d8968": {
      "model_module": "@jupyter-widgets/controls",
      "model_module_version": "1.5.0",
      "model_name": "VBoxModel",
      "state": {
       "children": [
        "IPY_MODEL_3f914d03aa604e3c9fad33a63affd056",
        "IPY_MODEL_f2e1d4611ad4438da9cfa4343e17e198"
       ],
       "layout": "IPY_MODEL_c67deeb23e134e3aa848022435b6da65"
      }
     },
     "7317ee09e84a4114965ec861024200c9": {
      "model_module": "@jupyter-widgets/controls",
      "model_module_version": "1.5.0",
      "model_name": "DescriptionStyleModel",
      "state": {
       "description_width": ""
      }
     },
     "73304f9561c54e5e806abc8e84b3d19f": {
      "model_module": "@jupyter-widgets/controls",
      "model_module_version": "1.5.0",
      "model_name": "DescriptionStyleModel",
      "state": {
       "description_width": ""
      }
     },
     "7358c23a378f469ba17fc28e15c0733e": {
      "model_module": "@jupyter-widgets/base",
      "model_module_version": "1.2.0",
      "model_name": "LayoutModel",
      "state": {
       "margin": "10px 10px"
      }
     },
     "740f00a1663c4b849de97252a4d431a9": {
      "model_module": "@jupyter-widgets/base",
      "model_module_version": "1.2.0",
      "model_name": "LayoutModel",
      "state": {}
     },
     "7437f1dda63543aba9e4978b68f7e7c2": {
      "model_module": "@jupyter-widgets/controls",
      "model_module_version": "1.5.0",
      "model_name": "VBoxModel",
      "state": {
       "children": [
        "IPY_MODEL_1a122a9ef0994d1bbecb111ad070be92",
        "IPY_MODEL_6213110ce9274ed6868666ca8e1bed93"
       ],
       "layout": "IPY_MODEL_886e9fe46a824651a3d8a8090d3e3473"
      }
     },
     "749a595a3d8c42d8bc8f4b5b78a49151": {
      "model_module": "@jupyter-widgets/base",
      "model_module_version": "1.2.0",
      "model_name": "LayoutModel",
      "state": {}
     },
     "74ab177dced64164aeba1ea074c68f3e": {
      "model_module": "@jupyter-widgets/base",
      "model_module_version": "1.2.0",
      "model_name": "LayoutModel",
      "state": {}
     },
     "74b7cda3d56d40e1b645c4deb8508153": {
      "model_module": "@jupyter-widgets/base",
      "model_module_version": "1.2.0",
      "model_name": "LayoutModel",
      "state": {}
     },
     "74ba3e9a55014a0bad0d317bd99c1acb": {
      "model_module": "pgljupyter",
      "model_module_version": "^0.1.21",
      "model_name": "CurveEditorModel",
      "state": {
       "_model_module_version": "^0.1.21",
       "_view_module_version": "^0.1.21",
       "children": [
        "IPY_MODEL_1a5798b243d84da7b51db277b519510e",
        "IPY_MODEL_4988ddd09f784cd8bb4ad9d3a5f96b8f"
       ],
       "layout": "IPY_MODEL_0399475afc8b4d25982dba96c873872c"
      }
     },
     "74d9f252480c454c8076896e4d520395": {
      "model_module": "@jupyter-widgets/base",
      "model_module_version": "1.2.0",
      "model_name": "LayoutModel",
      "state": {}
     },
     "7572f694871543b99c2e3cb880e1c711": {
      "model_module": "pgljupyter",
      "model_module_version": "^0.1.21",
      "model_name": "LsystemWidgetModel",
      "state": {
       "_model_module_version": "^0.1.21",
       "_view_module_version": "^0.1.21",
       "axes_helper": false,
       "derivationLength": 161,
       "layout": "IPY_MODEL_2c04a2c9a490456e8a0a49a49e98b1b0",
       "light_helper": false,
       "plane": true,
       "size_display": [
        400,
        400
       ],
       "size_world": 2
      }
     },
     "75c3c1544bef4c66bab7c9c70c5c4743": {
      "model_module": "@jupyter-widgets/controls",
      "model_module_version": "1.5.0",
      "model_name": "ButtonStyleModel",
      "state": {}
     },
     "76b07e5f70564f80879dbff0af91a30b": {
      "model_module": "@jupyter-widgets/base",
      "model_module_version": "1.2.0",
      "model_name": "LayoutModel",
      "state": {}
     },
     "76f60fed37e44351b039af4ddd3e69e3": {
      "model_module": "@jupyter-widgets/controls",
      "model_module_version": "1.5.0",
      "model_name": "TextModel",
      "state": {
       "continuous_update": false,
       "description": "name",
       "layout": "IPY_MODEL_db43cc9fa78c4567ae8ee48a155740db",
       "style": "IPY_MODEL_3f68e3a542ed43e0b5dce94253cd2060",
       "value": "axis6"
      }
     },
     "772711cff5c04f07b8ae4a4d8e2cf453": {
      "model_module": "pgljupyter",
      "model_module_version": "^0.1.21",
      "model_name": "CurveEditorModel",
      "state": {
       "_model_module_version": "^0.1.21",
       "_view_module_version": "^0.1.21",
       "children": [
        "IPY_MODEL_ff41440f43244904bbd8c5d7a4ff1afd",
        "IPY_MODEL_7f767031251f4282a79288f038991451"
       ],
       "layout": "IPY_MODEL_09cc5bccc1fe40c596426d866289eae0"
      }
     },
     "77353184cfde4c30b120776ca5b851be": {
      "model_module": "@jupyter-widgets/base",
      "model_module_version": "1.2.0",
      "model_name": "LayoutModel",
      "state": {}
     },
     "778c15774b724d01ac1ce74fbbde251a": {
      "model_module": "@jupyter-widgets/base",
      "model_module_version": "1.2.0",
      "model_name": "LayoutModel",
      "state": {
       "margin": "20px 0px"
      }
     },
     "77985bfa1bd142649208d089cd049971": {
      "model_module": "@jupyter-widgets/controls",
      "model_module_version": "1.5.0",
      "model_name": "DropdownModel",
      "state": {
       "_options_labels": [
        "NurbsCurve2D",
        "BezierCurve2D",
        "Polyline2D",
        "Function"
       ],
       "index": 0,
       "layout": "IPY_MODEL_83ee1b57feef4abebe9d992bb001b185",
       "style": "IPY_MODEL_701b6d6d08e3490ea17e3e7bd549475b"
      }
     },
     "77a1d4e2d86842ea8911aae94f9d5666": {
      "model_module": "@jupyter-widgets/controls",
      "model_module_version": "1.5.0",
      "model_name": "DescriptionStyleModel",
      "state": {
       "description_width": ""
      }
     },
     "77c90c9123a14803aca01b5989e97b21": {
      "model_module": "@jupyter-widgets/base",
      "model_module_version": "1.2.0",
      "model_name": "LayoutModel",
      "state": {}
     },
     "77f892ca877b41cba4cf72f221c64f12": {
      "model_module": "@jupyter-widgets/controls",
      "model_module_version": "1.5.0",
      "model_name": "DescriptionStyleModel",
      "state": {
       "description_width": ""
      }
     },
     "7856ff3e78e54aa780de35b9e9e21b4b": {
      "model_module": "@jupyter-widgets/controls",
      "model_module_version": "1.5.0",
      "model_name": "ButtonModel",
      "state": {
       "description": "Add category",
       "layout": "IPY_MODEL_e236530a390b41b397983b5a8dbd2362",
       "style": "IPY_MODEL_654f257cec9d48048ca318dbabb631cd"
      }
     },
     "795c9473273c499fa8a7317d7bf13052": {
      "model_module": "@jupyter-widgets/controls",
      "model_module_version": "1.5.0",
      "model_name": "HBoxModel",
      "state": {
       "children": [
        "IPY_MODEL_7e8d6e2a14ac4d73a704f3e6de55b189",
        "IPY_MODEL_0e76cbffeab640d292a13d074a5bf259"
       ],
       "layout": "IPY_MODEL_2ea25934e57a4e4fa75bc0b12b8db506"
      }
     },
     "799ea0a3aeef44e08fa03ecee8f8046c": {
      "model_module": "@jupyter-widgets/controls",
      "model_module_version": "1.5.0",
      "model_name": "HBoxModel",
      "state": {
       "children": [
        "IPY_MODEL_8a37027928504439a0edb1ffca77279f",
        "IPY_MODEL_56d21ce09f2c49ecae5d76b8db7c2fc5"
       ],
       "layout": "IPY_MODEL_f75c8e82dd674f7a9f63f47db4a4ed63"
      }
     },
     "79b717d6225e4ea2acbd98ca06e4bad9": {
      "model_module": "@jupyter-widgets/controls",
      "model_module_version": "1.5.0",
      "model_name": "HBoxModel",
      "state": {
       "children": [
        "IPY_MODEL_7c480709c07849c3b8a80183e08b6be9"
       ],
       "layout": "IPY_MODEL_498284f27a10456882714952643a4ff2"
      }
     },
     "7a30c019ec39422c83fa52c1a89f466d": {
      "model_module": "@jupyter-widgets/controls",
      "model_module_version": "1.5.0",
      "model_name": "VBoxModel",
      "state": {
       "children": [
        "IPY_MODEL_cb6cc5281e9d4a5ca993511aeda7a68a",
        "IPY_MODEL_6cd668d20d744ec89c5493a860f48fbf",
        "IPY_MODEL_a75512591079414eba53a2a7e2c5e850",
        "IPY_MODEL_799ea0a3aeef44e08fa03ecee8f8046c",
        "IPY_MODEL_be646152f9864e4ebe78bc43365b35ba"
       ],
       "layout": "IPY_MODEL_09c66b1182824f26a9dce4870cdccfd9"
      }
     },
     "7a5c85fb554c4f0a865257f017902edb": {
      "model_module": "@jupyter-widgets/controls",
      "model_module_version": "1.5.0",
      "model_name": "DescriptionStyleModel",
      "state": {
       "description_width": ""
      }
     },
     "7a96ea69734a4256ad3929af8fa2b3a3": {
      "model_module": "pgljupyter",
      "model_module_version": "^0.2.1",
      "model_name": "_CurveEditorModel",
      "state": {
       "_model_module_version": "^0.2.1",
       "_view_module_version": "^0.2.1",
       "layout": "IPY_MODEL_0985bc4da6f74e85b6eb19843f22df67",
       "name": "axis4",
       "points": [
        [
         -0.4523769271054077,
         -0.005600587799786658
        ],
        [
         -0.3767718616508623,
         0.06190393492748608
        ],
        [
         -0.31736788165086227,
         0.11860773401839517
        ],
        [
         -0.25256353983268054,
         0.16991117129112243
        ],
        [
         -0.19585974074177137,
         0.23471551310930427
        ],
        [
         -0.11903621541579021,
         0.3431250146903886
        ]
       ],
       "type": "NurbsCurve2D"
      }
     },
     "7aa3408a89a44067b8154eec3902d8bd": {
      "model_module": "@jupyter-widgets/base",
      "model_module_version": "1.2.0",
      "model_name": "LayoutModel",
      "state": {}
     },
     "7ab9bebcf43c4ec0a779e63f910ffb09": {
      "model_module": "@jupyter-widgets/controls",
      "model_module_version": "1.5.0",
      "model_name": "DescriptionStyleModel",
      "state": {
       "description_width": ""
      }
     },
     "7af3adfd947c40558dbdced70672910e": {
      "model_module": "@jupyter-widgets/base",
      "model_module_version": "1.2.0",
      "model_name": "LayoutModel",
      "state": {
       "margin": "10px 10px"
      }
     },
     "7af5e23a324c424fa3637d861404c3f3": {
      "model_module": "@jupyter-widgets/controls",
      "model_module_version": "1.5.0",
      "model_name": "SliderStyleModel",
      "state": {
       "description_width": ""
      }
     },
     "7b95759e51e04dfcb19b8fc8186dba2d": {
      "model_module": "@jupyter-widgets/base",
      "model_module_version": "1.2.0",
      "model_name": "LayoutModel",
      "state": {
       "flex_flow": "row wrap"
      }
     },
     "7ba6936c150749008c6cc04541e458ba": {
      "model_module": "@jupyter-widgets/controls",
      "model_module_version": "1.5.0",
      "model_name": "ButtonStyleModel",
      "state": {}
     },
     "7c02cdfe1bfd4c2d8bcc9d318ef5debf": {
      "model_module": "@jupyter-widgets/controls",
      "model_module_version": "1.5.0",
      "model_name": "ButtonModel",
      "state": {
       "description": "Delete",
       "layout": "IPY_MODEL_1b37c02a4fdd42e1b341b1861cab7dad",
       "style": "IPY_MODEL_549ceff9134e4e8bb4009ffabbdc0f03"
      }
     },
     "7c480709c07849c3b8a80183e08b6be9": {
      "model_module": "@jupyter-widgets/controls",
      "model_module_version": "1.5.0",
      "model_name": "ButtonModel",
      "state": {
       "description": "Delete category",
       "layout": "IPY_MODEL_cf16ffa1db61469986895803cd44d9d2",
       "style": "IPY_MODEL_2ce453eaefdc46c392117c75341da3d7"
      }
     },
     "7ccb3a9d7b7843998e0ddee4297c6bd4": {
      "model_module": "@jupyter-widgets/base",
      "model_module_version": "1.2.0",
      "model_name": "LayoutModel",
      "state": {}
     },
     "7ce2663ca0b24a449b86781da5c267d7": {
      "model_module": "pgljupyter",
      "model_module_version": "^0.2.1",
      "model_name": "CurveEditorModel",
      "state": {
       "_model_module_version": "^0.2.1",
       "_view_module_version": "^0.2.1",
       "children": [
        "IPY_MODEL_63df69d0928d4a0cbd9bbad2ac64a867",
        "IPY_MODEL_b4072cd1c02f42c69682c17be61f19dc"
       ],
       "layout": "IPY_MODEL_c55c859b21e346e3acd8ff1134c947a4"
      }
     },
     "7dc157ae14a043289d9848008b34c21a": {
      "model_module": "@jupyter-widgets/base",
      "model_module_version": "1.2.0",
      "model_name": "LayoutModel",
      "state": {}
     },
     "7dcff1bd2c804d0a983202de2e349e95": {
      "model_module": "@jupyter-widgets/controls",
      "model_module_version": "1.5.0",
      "model_name": "HBoxModel",
      "state": {
       "children": [
        "IPY_MODEL_244204d8b5614e7aba78fa09c0dfb62d",
        "IPY_MODEL_a7e8f61824664156a13c7e372b909cca"
       ],
       "layout": "IPY_MODEL_c633bd32b87740fbbb1018442b9a0a84"
      }
     },
     "7e0baef68e30404c9d50057df504d523": {
      "model_module": "@jupyter-widgets/controls",
      "model_module_version": "1.5.0",
      "model_name": "DescriptionStyleModel",
      "state": {
       "description_width": ""
      }
     },
     "7e8d6e2a14ac4d73a704f3e6de55b189": {
      "model_module": "@jupyter-widgets/controls",
      "model_module_version": "1.5.0",
      "model_name": "ButtonModel",
      "state": {
       "description": "Delete",
       "layout": "IPY_MODEL_a9dc6cc5cd734f84a07d98f48461a0c6",
       "style": "IPY_MODEL_4925c6810e764f4689f291019a17d28b"
      }
     },
     "7e99654f8eae4951bdb4b7186ba7970d": {
      "model_module": "@jupyter-widgets/controls",
      "model_module_version": "1.5.0",
      "model_name": "FloatSliderModel",
      "state": {
       "description": "transparency",
       "layout": "IPY_MODEL_686be1a621c94fd9b90f92793ccd2775",
       "max": 1,
       "step": 0.1,
       "style": "IPY_MODEL_f5c9dc3947454dff8a491a36bae3dc34"
      }
     },
     "7ec0b868cca3421d802f968ab7b4f1e2": {
      "model_module": "@jupyter-widgets/base",
      "model_module_version": "1.2.0",
      "model_name": "LayoutModel",
      "state": {}
     },
     "7f767031251f4282a79288f038991451": {
      "model_module": "pgljupyter",
      "model_module_version": "^0.1.21",
      "model_name": "_CurveEditorModel",
      "state": {
       "_model_module_version": "^0.1.21",
       "_view_module_version": "^0.1.21",
       "layout": "IPY_MODEL_39deadb4e14445a19c7a30445b4a2000",
       "points": [
        [
         -0.4523769271054077,
         -0.005600587799786658
        ],
        [
         -0.3767718616508623,
         0.06190393492748608
        ],
        [
         -0.31736788165086227,
         0.11860773401839517
        ],
        [
         -0.25256353983268054,
         0.16991117129112243
        ],
        [
         -0.19585974074177137,
         0.23471551310930427
        ],
        [
         -0.11903621541579021,
         0.3431250146903886
        ]
       ],
       "type": "NurbsCurve2D"
      }
     },
     "7ff2a91a98bb48a1be21cad9a5aafd3b": {
      "model_module": "@jupyter-widgets/controls",
      "model_module_version": "1.5.0",
      "model_name": "VBoxModel",
      "state": {
       "children": [
        "IPY_MODEL_e5313d98ca5d443b9eb04d36cc266671",
        "IPY_MODEL_0f3d83b9a1d8416b91e70897298a9915"
       ],
       "layout": "IPY_MODEL_593cd0314ba54a4fa1c696d523754fed"
      }
     },
     "7ff870f50b2b48158d0d8440973e9043": {
      "model_module": "@jupyter-widgets/controls",
      "model_module_version": "1.5.0",
      "model_name": "ButtonStyleModel",
      "state": {}
     },
     "806950739d494f56bd7076fbcb8ecddf": {
      "model_module": "@jupyter-widgets/base",
      "model_module_version": "1.2.0",
      "model_name": "LayoutModel",
      "state": {}
     },
     "80c77474313947888cf753cf18f7d5b8": {
      "model_module": "pgljupyter",
      "model_module_version": "^0.1.21",
      "model_name": "CurveEditorModel",
      "state": {
       "_model_module_version": "^0.1.21",
       "_view_module_version": "^0.1.21",
       "children": [
        "IPY_MODEL_6495531c98824fb9bbcb5948f8bcb119",
        "IPY_MODEL_c6400d373c2d4d7fa13973620240565f"
       ],
       "layout": "IPY_MODEL_3aea01c596be4f59912f32042424c922"
      }
     },
     "80e588719b364b89a3b7e81fcc0a7596": {
      "model_module": "@jupyter-widgets/base",
      "model_module_version": "1.2.0",
      "model_name": "LayoutModel",
      "state": {}
     },
     "80eb1549af2544bf82aaa96febaee405": {
      "model_module": "@jupyter-widgets/controls",
      "model_module_version": "1.5.0",
      "model_name": "GridBoxModel",
      "state": {
       "layout": "IPY_MODEL_6bf461dd51124808a9f3e91bc0ee331a"
      }
     },
     "8124bc825c1644049e7f1fb6ff24e367": {
      "model_module": "@jupyter-widgets/base",
      "model_module_version": "1.2.0",
      "model_name": "LayoutModel",
      "state": {}
     },
     "816e3a7d99294165a3b8742d872140d9": {
      "model_module": "@jupyter-widgets/base",
      "model_module_version": "1.2.0",
      "model_name": "LayoutModel",
      "state": {}
     },
     "8199782406de444797e60641ed4f490e": {
      "model_module": "@jupyter-widgets/controls",
      "model_module_version": "1.5.0",
      "model_name": "HBoxModel",
      "state": {
       "children": [
        "IPY_MODEL_b59dd94c07644a4c8680e4f80cb65e20",
        "IPY_MODEL_c2ba89e49fd449fbac83c737867c54e7"
       ],
       "layout": "IPY_MODEL_a9bb405b682f4f3faa98176b008c6ce9"
      }
     },
     "8228fd97a889423daa02bd2929678132": {
      "model_module": "@jupyter-widgets/controls",
      "model_module_version": "1.5.0",
      "model_name": "DescriptionStyleModel",
      "state": {
       "description_width": ""
      }
     },
     "822d942160924b7b91d44eeb686da19c": {
      "model_module": "pgljupyter",
      "model_module_version": "^0.1.21",
      "model_name": "_CurveEditorModel",
      "state": {
       "_model_module_version": "^0.1.21",
       "_view_module_version": "^0.1.21",
       "is_function": true,
       "layout": "IPY_MODEL_40ff3bcded0f4aeb85f4e194e0b5719e",
       "points": [
        [
         0,
         0.00677191994406956
        ],
        [
         0.19545454545454546,
         0.6204082835804332
        ],
        [
         0.7636363636363637,
         0.6704082835804333
        ],
        [
         1,
         0.00677191994406956
        ]
       ],
       "type": "NurbsCurve2D"
      }
     },
     "8324fdfbd0344165812754a672161ea6": {
      "model_module": "@jupyter-widgets/base",
      "model_module_version": "1.2.0",
      "model_name": "LayoutModel",
      "state": {}
     },
     "834923c5bf0244a0aec08dd5c6bf7028": {
      "model_module": "@jupyter-widgets/controls",
      "model_module_version": "1.5.0",
      "model_name": "DescriptionStyleModel",
      "state": {
       "description_width": ""
      }
     },
     "839d628c51f54204b42fc6b1b207bdaa": {
      "model_module": "@jupyter-widgets/controls",
      "model_module_version": "1.5.0",
      "model_name": "SliderStyleModel",
      "state": {
       "description_width": ""
      }
     },
     "83d16b39d6aa4c98b519c63396d64bd9": {
      "model_module": "@jupyter-widgets/base",
      "model_module_version": "1.2.0",
      "model_name": "LayoutModel",
      "state": {}
     },
     "83d1783a23a14aed8cc67a5d35a0099a": {
      "model_module": "pgljupyter",
      "model_module_version": "^0.1.21",
      "model_name": "_CurveEditorModel",
      "state": {
       "_model_module_version": "^0.1.21",
       "_view_module_version": "^0.1.21",
       "layout": "IPY_MODEL_b4727b53dda24e69a7acb4a9268bf4b4",
       "points": [
        [
         -0.5,
         0
        ],
        [
         -0.45381259264846796,
         0.12013621899284291
        ],
        [
         -0.3893521988258032,
         0.2189754895209291
        ],
        [
         -0.43232579470757976,
         0.3350041984017258
        ],
        [
         -0.5612465823529095,
         0.3822751538716801
        ],
        [
         -0.6343016953519296,
         0.2920306025199492
        ]
       ],
       "type": "NurbsCurve2D"
      }
     },
     "83ee1b57feef4abebe9d992bb001b185": {
      "model_module": "@jupyter-widgets/base",
      "model_module_version": "1.2.0",
      "model_name": "LayoutModel",
      "state": {}
     },
     "83f7eea1f8a64e2abdde51077f391216": {
      "model_module": "@jupyter-widgets/base",
      "model_module_version": "1.2.0",
      "model_name": "LayoutModel",
      "state": {}
     },
     "844c7a82dd584de8b2c3a9b9099cadd0": {
      "model_module": "@jupyter-widgets/base",
      "model_module_version": "1.2.0",
      "model_name": "LayoutModel",
      "state": {}
     },
     "84d9ac8dbf9542598e9f052bbe80956c": {
      "model_module": "@jupyter-widgets/base",
      "model_module_version": "1.2.0",
      "model_name": "LayoutModel",
      "state": {}
     },
     "84e26b3bfcd14c99a007ea0f71a23eb9": {
      "model_module": "@jupyter-widgets/controls",
      "model_module_version": "1.5.0",
      "model_name": "TextModel",
      "state": {
       "layout": "IPY_MODEL_816e3a7d99294165a3b8742d872140d9",
       "placeholder": "category name",
       "style": "IPY_MODEL_6f3cf5faba6a4f4f83e78267701858bf"
      }
     },
     "85d3eb7c25b2405cbc82e74c62c7969a": {
      "model_module": "@jupyter-widgets/controls",
      "model_module_version": "1.5.0",
      "model_name": "DescriptionStyleModel",
      "state": {
       "description_width": ""
      }
     },
     "860ddbbfb8154f84b31108c7c17f9370": {
      "model_module": "@jupyter-widgets/controls",
      "model_module_version": "1.5.0",
      "model_name": "HBoxModel",
      "state": {
       "children": [
        "IPY_MODEL_0499ea2c84df429fbeac2bbb79a0834e",
        "IPY_MODEL_d86ef9379de742bd9ed1da5b57f835b0",
        "IPY_MODEL_2552960e029a4aaaa2265bd07bfbd876",
        "IPY_MODEL_b924f3dcd43f4952809723a231c12195"
       ],
       "layout": "IPY_MODEL_7b95759e51e04dfcb19b8fc8186dba2d"
      }
     },
     "862cb98502fa40bdb5811acce59d145c": {
      "model_module": "pgljupyter",
      "model_module_version": "^0.2.1",
      "model_name": "CurveEditorModel",
      "state": {
       "_model_module_version": "^0.2.1",
       "_view_module_version": "^0.2.1",
       "children": [
        "IPY_MODEL_ff511317ad8c4bacadcbfafc3b7e3c2b",
        "IPY_MODEL_dd41c679d44849eb86d8642b2bdaade4"
       ],
       "layout": "IPY_MODEL_7af3adfd947c40558dbdced70672910e"
      }
     },
     "86699ef609494bf39125cecde0f50c82": {
      "model_module": "@jupyter-widgets/controls",
      "model_module_version": "1.5.0",
      "model_name": "TextModel",
      "state": {
       "continuous_update": false,
       "description": "name",
       "layout": "IPY_MODEL_76b07e5f70564f80879dbff0af91a30b",
       "style": "IPY_MODEL_f6fdbeb71b374abc93b74a7b7a6774f5",
       "value": "axis7"
      }
     },
     "869ac2e0fa9b4a5299d7e2a8f082aba8": {
      "model_module": "@jupyter-widgets/base",
      "model_module_version": "1.2.0",
      "model_name": "LayoutModel",
      "state": {
       "margin": "20px 0px"
      }
     },
     "86e09686429545b097066e96e631a882": {
      "model_module": "@jupyter-widgets/controls",
      "model_module_version": "1.5.0",
      "model_name": "AccordionModel",
      "state": {
       "_titles": {
        "0": "materials",
        "1": "leaf"
       },
       "children": [
        "IPY_MODEL_88ec56718ba7497cb5f0716116129420",
        "IPY_MODEL_7a30c019ec39422c83fa52c1a89f466d"
       ],
       "layout": "IPY_MODEL_8b988cec856a4ac797156f87e984634d"
      }
     },
     "8771dfcb904f4abb8ccf11c6bce0f08b": {
      "model_module": "@jupyter-widgets/base",
      "model_module_version": "1.2.0",
      "model_name": "LayoutModel",
      "state": {}
     },
     "8869bcf7e1e6480ea4a4a29d5ede73fe": {
      "model_module": "@jupyter-widgets/controls",
      "model_module_version": "1.5.0",
      "model_name": "HBoxModel",
      "state": {
       "children": [
        "IPY_MODEL_f7b7d18f0bf94980be5d3fbe8a524594",
        "IPY_MODEL_00fe5f05fcd44536a0549ec672c79650"
       ],
       "layout": "IPY_MODEL_07250e9cc6bf4c718d99fa2f4f9df614"
      }
     },
     "886e9fe46a824651a3d8a8090d3e3473": {
      "model_module": "@jupyter-widgets/base",
      "model_module_version": "1.2.0",
      "model_name": "LayoutModel",
      "state": {}
     },
     "88ec56718ba7497cb5f0716116129420": {
      "model_module": "@jupyter-widgets/controls",
      "model_module_version": "1.5.0",
      "model_name": "VBoxModel",
      "state": {
       "children": [
        "IPY_MODEL_0edb97bb497949e887c1226aada7243f",
        "IPY_MODEL_33dbd82759e84e3ba63538a723ba964f"
       ],
       "layout": "IPY_MODEL_ee2eeac2d29141e3840d9d4bde092eeb"
      }
     },
     "88ed8318a5f64cf4a5ac145f4eac9804": {
      "model_module": "@jupyter-widgets/controls",
      "model_module_version": "1.5.0",
      "model_name": "BoundedIntTextModel",
      "state": {
       "description": "index",
       "layout": "IPY_MODEL_f647d2aec1d346f3a92411e8ecd9475d",
       "style": "IPY_MODEL_6cf0bf0fab0c4002b7b188a674666493",
       "value": 2
      }
     },
     "896abbff882b427ba70a8b1e5aca5607": {
      "model_module": "@jupyter-widgets/base",
      "model_module_version": "1.2.0",
      "model_name": "LayoutModel",
      "state": {
       "margin": "10px 10px"
      }
     },
     "898a23a4483b4dcbb8d3240b90777729": {
      "model_module": "@jupyter-widgets/base",
      "model_module_version": "1.2.0",
      "model_name": "LayoutModel",
      "state": {}
     },
     "899468d349cd46139c60343dd903a965": {
      "model_module": "@jupyter-widgets/base",
      "model_module_version": "1.2.0",
      "model_name": "LayoutModel",
      "state": {}
     },
     "8a37027928504439a0edb1ffca77279f": {
      "model_module": "@jupyter-widgets/controls",
      "model_module_version": "1.5.0",
      "model_name": "HBoxModel",
      "state": {
       "children": [
        "IPY_MODEL_fec173c626f64384b26f95115e57d283",
        "IPY_MODEL_77985bfa1bd142649208d089cd049971"
       ],
       "layout": "IPY_MODEL_23c57b1cac304cf59a3194f37d22f049"
      }
     },
     "8ac406a2b609483793c099f6bb99becd": {
      "model_module": "@jupyter-widgets/controls",
      "model_module_version": "1.5.0",
      "model_name": "ColorPickerModel",
      "state": {
       "description": "specular",
       "disabled": false,
       "layout": "IPY_MODEL_12d50ee1021747f1bed2c594306a751f",
       "style": "IPY_MODEL_2fcae8c0922d495fa496323f56512a83",
       "value": "#0f1010"
      }
     },
     "8b988cec856a4ac797156f87e984634d": {
      "model_module": "@jupyter-widgets/base",
      "model_module_version": "1.2.0",
      "model_name": "LayoutModel",
      "state": {}
     },
     "8bcab187147341f09cc7d2db43c6a8a5": {
      "model_module": "@jupyter-widgets/base",
      "model_module_version": "1.2.0",
      "model_name": "LayoutModel",
      "state": {}
     },
     "8be82436220d494089d422860e7d1e88": {
      "model_module": "@jupyter-widgets/base",
      "model_module_version": "1.2.0",
      "model_name": "LayoutModel",
      "state": {}
     },
     "8c73dbc047e8412fa2f3553235bed96f": {
      "model_module": "@jupyter-widgets/base",
      "model_module_version": "1.2.0",
      "model_name": "LayoutModel",
      "state": {}
     },
     "8d4b91a0d2334a3da09f8202ef20430e": {
      "model_module": "@jupyter-widgets/controls",
      "model_module_version": "1.5.0",
      "model_name": "DescriptionStyleModel",
      "state": {
       "description_width": ""
      }
     },
     "8d9d95f6d1e241e68854ddcc216f2549": {
      "model_module": "@jupyter-widgets/base",
      "model_module_version": "1.2.0",
      "model_name": "LayoutModel",
      "state": {}
     },
     "8e1f627da39c4420b9c402dd48e0d210": {
      "model_module": "@jupyter-widgets/controls",
      "model_module_version": "1.5.0",
      "model_name": "HBoxModel",
      "state": {
       "children": [
        "IPY_MODEL_7092da022f09492d857e60583fd90903"
       ],
       "layout": "IPY_MODEL_6bf461dd51124808a9f3e91bc0ee331a"
      }
     },
     "8e8f84f2c35f48cc9b9e8d5047741728": {
      "model_module": "@jupyter-widgets/base",
      "model_module_version": "1.2.0",
      "model_name": "LayoutModel",
      "state": {}
     },
     "8ec643e3ec3745d0ab8963a083c13ead": {
      "model_module": "@jupyter-widgets/base",
      "model_module_version": "1.2.0",
      "model_name": "LayoutModel",
      "state": {}
     },
     "8ee6218f628c4b70ae675c6f31d12dd5": {
      "model_module": "@jupyter-widgets/controls",
      "model_module_version": "1.5.0",
      "model_name": "TextModel",
      "state": {
       "continuous_update": false,
       "description": "name",
       "layout": "IPY_MODEL_97dd9c37107c49f280cd09e7f43a1eb5",
       "style": "IPY_MODEL_7ab9bebcf43c4ec0a779e63f910ffb09",
       "value": "axis5"
      }
     },
     "8ef275e4285248d1bbc86ba1eedef701": {
      "model_module": "@jupyter-widgets/controls",
      "model_module_version": "1.5.0",
      "model_name": "HBoxModel",
      "state": {
       "children": [
        "IPY_MODEL_0dbdf41f933d495f821b8f56f61f488a",
        "IPY_MODEL_c3e5a14aa9a94aed802fa3d2ea76a214"
       ],
       "layout": "IPY_MODEL_498284f27a10456882714952643a4ff2"
      }
     },
     "8f44fe784d0a439a9591fdbdde88dbc2": {
      "model_module": "@jupyter-widgets/base",
      "model_module_version": "1.2.0",
      "model_name": "LayoutModel",
      "state": {}
     },
     "8fc570b3b4644270a3e40d0bff62eebd": {
      "model_module": "pgljupyter",
      "model_module_version": "^0.1.21",
      "model_name": "CurveEditorModel",
      "state": {
       "_model_module_version": "^0.1.21",
       "_view_module_version": "^0.1.21",
       "children": [
        "IPY_MODEL_8ee6218f628c4b70ae675c6f31d12dd5",
        "IPY_MODEL_ddf62d2c7baf451f9584a5c23b337553"
       ],
       "layout": "IPY_MODEL_16092d09e4bc405db7cecb3caf0e5776"
      }
     },
     "90f25db3244a4551a205cbe98e6270aa": {
      "model_module": "@jupyter-widgets/base",
      "model_module_version": "1.2.0",
      "model_name": "LayoutModel",
      "state": {}
     },
     "91e06fd710c44923a1f1b8557e6d428d": {
      "model_module": "@jupyter-widgets/controls",
      "model_module_version": "1.5.0",
      "model_name": "ColorPickerModel",
      "state": {
       "description": "specular",
       "disabled": false,
       "layout": "IPY_MODEL_8124bc825c1644049e7f1fb6ff24e367",
       "style": "IPY_MODEL_40cbd1dc70ef4513b7d68b642120365d",
       "value": "#282828"
      }
     },
     "92f20556be254944ad8e3514445cd106": {
      "model_module": "@jupyter-widgets/controls",
      "model_module_version": "1.5.0",
      "model_name": "DescriptionStyleModel",
      "state": {
       "description_width": ""
      }
     },
     "93302357a8e34fd7b457aae1767052a6": {
      "model_module": "@jupyter-widgets/controls",
      "model_module_version": "1.5.0",
      "model_name": "TextModel",
      "state": {
       "continuous_update": false,
       "description": "name",
       "layout": "IPY_MODEL_b311ee62f8b746eda5295aa3a8f6a9db",
       "style": "IPY_MODEL_4e75bb934089475e82011d2e30110d8c",
       "value": "leaf"
      }
     },
     "9336678f3d6743cca4ee9c2f99126d6d": {
      "model_module": "@jupyter-widgets/controls",
      "model_module_version": "1.5.0",
      "model_name": "ButtonModel",
      "state": {
       "description": "Add",
       "layout": "IPY_MODEL_fca9c5eceef843ed86ff69cfc6c40a91",
       "style": "IPY_MODEL_06fd2f76dfa2427ea9c833338fb2e3d9"
      }
     },
     "93c3c0d9c57b4b09b2a825c97ba0e07e": {
      "model_module": "@jupyter-widgets/base",
      "model_module_version": "1.2.0",
      "model_name": "LayoutModel",
      "state": {}
     },
     "93e80d55ed9e4b35a9e8344993cd6fb6": {
      "model_module": "@jupyter-widgets/controls",
      "model_module_version": "1.5.0",
      "model_name": "ButtonStyleModel",
      "state": {}
     },
     "940ac9a2afbb48eab79b64f62e45721b": {
      "model_module": "@jupyter-widgets/base",
      "model_module_version": "1.2.0",
      "model_name": "LayoutModel",
      "state": {}
     },
     "9454854810ea4fcf9540c6ab8ec2089e": {
      "model_module": "@jupyter-widgets/base",
      "model_module_version": "1.2.0",
      "model_name": "LayoutModel",
      "state": {
       "flex_flow": "row wrap",
       "margin": "20px"
      }
     },
     "94986ac645ff4f1088005f8ed6715874": {
      "model_module": "@jupyter-widgets/controls",
      "model_module_version": "1.5.0",
      "model_name": "VBoxModel",
      "state": {
       "children": [
        "IPY_MODEL_860ddbbfb8154f84b31108c7c17f9370",
        "IPY_MODEL_af934b7d2fe64fadadf33bdd4869f8eb"
       ],
       "layout": "IPY_MODEL_a09452b37f5f46af88433461b0b527ec"
      }
     },
     "94fcf2379bf8443c8e2b3790a0b20809": {
      "model_module": "@jupyter-widgets/base",
      "model_module_version": "1.2.0",
      "model_name": "LayoutModel",
      "state": {}
     },
     "97261c98c1c7432b8b7bddaf25fd1153": {
      "model_module": "@jupyter-widgets/base",
      "model_module_version": "1.2.0",
      "model_name": "LayoutModel",
      "state": {}
     },
     "978422a993494d6c878a3e321798ec18": {
      "model_module": "@jupyter-widgets/controls",
      "model_module_version": "1.5.0",
      "model_name": "DescriptionStyleModel",
      "state": {
       "description_width": ""
      }
     },
     "9799ee7424a44609b8b851ca73474614": {
      "model_module": "pgljupyter",
      "model_module_version": "^0.2.1",
      "model_name": "CurveEditorModel",
      "state": {
       "_model_module_version": "^0.2.1",
       "_view_module_version": "^0.2.1",
       "children": [
        "IPY_MODEL_86699ef609494bf39125cecde0f50c82",
        "IPY_MODEL_cbccdf273cf04ff1a40fcdc8b01c3b52"
       ],
       "layout": "IPY_MODEL_af927e71668640d7be7eca8b5b2fe057"
      }
     },
     "97dd9c37107c49f280cd09e7f43a1eb5": {
      "model_module": "@jupyter-widgets/base",
      "model_module_version": "1.2.0",
      "model_name": "LayoutModel",
      "state": {}
     },
     "989fb4a1ceb54d8b9b0a70ef0581f471": {
      "model_module": "@jupyter-widgets/base",
      "model_module_version": "1.2.0",
      "model_name": "LayoutModel",
      "state": {}
     },
     "98d73988c42a41daa49da6ddf45dccd6": {
      "model_module": "@jupyter-widgets/base",
      "model_module_version": "1.2.0",
      "model_name": "LayoutModel",
      "state": {}
     },
     "99b4f6f8bed445c1b3fda9aaea825a72": {
      "model_module": "@jupyter-widgets/controls",
      "model_module_version": "1.5.0",
      "model_name": "DescriptionStyleModel",
      "state": {
       "description_width": ""
      }
     },
     "99bd110e50184021b0409966f98ddced": {
      "model_module": "@jupyter-widgets/controls",
      "model_module_version": "1.5.0",
      "model_name": "DescriptionStyleModel",
      "state": {
       "description_width": ""
      }
     },
     "99c2051ee55947a789026848fe302328": {
      "model_module": "@jupyter-widgets/controls",
      "model_module_version": "1.5.0",
      "model_name": "ButtonModel",
      "state": {
       "description": "Add",
       "layout": "IPY_MODEL_0d0f031bd91c4317a607fb9eeefb60c2",
       "style": "IPY_MODEL_b4ab7be535b843cdb2f75bd705098636"
      }
     },
     "99fba8f317ea4d8795c31d586e8ec94f": {
      "model_module": "@jupyter-widgets/controls",
      "model_module_version": "1.5.0",
      "model_name": "VBoxModel",
      "state": {
       "children": [
        "IPY_MODEL_d3f58b8e364c4cbf80a30d74b144fb13",
        "IPY_MODEL_a0f558f7b78d491da115fed52d18e037"
       ],
       "layout": "IPY_MODEL_f057bbeffa8d480e81c164af7dbbf448"
      }
     },
     "9a4378c16c1c4288ba35bde1f22850b2": {
      "model_module": "@jupyter-widgets/base",
      "model_module_version": "1.2.0",
      "model_name": "LayoutModel",
      "state": {
       "margin": "10px 10px"
      }
     },
     "9a8877cf23bc4a69ab1a6cc41df5427f": {
      "model_module": "@jupyter-widgets/controls",
      "model_module_version": "1.5.0",
      "model_name": "HBoxModel",
      "state": {
       "children": [
        "IPY_MODEL_452b00f3db9d4ddf9b9dcff4fe4b5fe3",
        "IPY_MODEL_d10faea533ad46d5a6090503de58d3e8"
       ],
       "layout": "IPY_MODEL_42b399d4b88944dfb09908d5e4006354"
      }
     },
     "9a987c7361234e25ac9caf4c94ecf174": {
      "model_module": "@jupyter-widgets/controls",
      "model_module_version": "1.5.0",
      "model_name": "TextModel",
      "state": {
       "continuous_update": false,
       "description": "name",
       "layout": "IPY_MODEL_f4454d9b1b9c497bab530c500b624455",
       "style": "IPY_MODEL_dd57b716058c4755a82a764c879a0d4e",
       "value": "axis4"
      }
     },
     "9aa51197be264f6aac766a409317b6b0": {
      "model_module": "pgljupyter",
      "model_module_version": "^0.1.21",
      "model_name": "_CurveEditorModel",
      "state": {
       "_model_module_version": "^0.1.21",
       "_view_module_version": "^0.1.21",
       "layout": "IPY_MODEL_1d34e19c9cad42e79ce151d7ef91b0f6",
       "points": [
        [
         -0.4037968924616441,
         0.007340293853329988
        ],
        [
         -0.15206200222345528,
         0.15118880256086648
        ],
        [
         0.00077703827830225,
         -0.07806975819176981
        ],
        [
         0.19856873775116482,
         0.17366513204641904
        ],
        [
         0.4217867849545588,
         0.015395298785451317
        ]
       ],
       "type": "NurbsCurve2D"
      }
     },
     "9be047180e114eeea2c2c4238adeddf9": {
      "model_module": "pgljupyter",
      "model_module_version": "^0.2.1",
      "model_name": "CurveEditorModel",
      "state": {
       "_model_module_version": "^0.2.1",
       "_view_module_version": "^0.2.1",
       "children": [
        "IPY_MODEL_9a987c7361234e25ac9caf4c94ecf174",
        "IPY_MODEL_7a96ea69734a4256ad3929af8fa2b3a3"
       ],
       "layout": "IPY_MODEL_a611c84723c34316b2be49017f6c9523"
      }
     },
     "9bfad25618f449f08b83eb667899f120": {
      "model_module": "@jupyter-widgets/base",
      "model_module_version": "1.2.0",
      "model_name": "LayoutModel",
      "state": {}
     },
     "9c2f8a8cd4f44a0a8dda40032cbf6b2f": {
      "model_module": "@jupyter-widgets/controls",
      "model_module_version": "1.5.0",
      "model_name": "DropdownModel",
      "state": {
       "_options_labels": [
        "Integer",
        "Float",
        "Bool"
       ],
       "index": 0,
       "layout": "IPY_MODEL_0d7d8f3bfa6b46298c20eec9f489aaf8",
       "style": "IPY_MODEL_b11989b9e3fb42a7a582c52c35ec8a7d"
      }
     },
     "9df750f7245549b7b2b73e024341c0b1": {
      "model_module": "@jupyter-widgets/base",
      "model_module_version": "1.2.0",
      "model_name": "LayoutModel",
      "state": {}
     },
     "9e7c01b17ecd4abf8aefe7232b9f10f4": {
      "model_module": "@jupyter-widgets/controls",
      "model_module_version": "1.5.0",
      "model_name": "DescriptionStyleModel",
      "state": {
       "description_width": ""
      }
     },
     "9ed09af6d1344044bdabbbe0f6ee4146": {
      "model_module": "@jupyter-widgets/base",
      "model_module_version": "1.2.0",
      "model_name": "LayoutModel",
      "state": {
       "margin": "20px 0px"
      }
     },
     "9f21e4257b5d42088254acf7e2508fde": {
      "model_module": "@jupyter-widgets/controls",
      "model_module_version": "1.5.0",
      "model_name": "DescriptionStyleModel",
      "state": {
       "description_width": ""
      }
     },
     "9fd7439ae7434edbbc9e298b77f42bdf": {
      "model_module": "@jupyter-widgets/base",
      "model_module_version": "1.2.0",
      "model_name": "LayoutModel",
      "state": {}
     },
     "a02256068bb145999ffa67aaa0e7fc02": {
      "model_module": "@jupyter-widgets/controls",
      "model_module_version": "1.5.0",
      "model_name": "DescriptionStyleModel",
      "state": {
       "description_width": ""
      }
     },
     "a08d8455ea6f493aba534a7d77ddbc7a": {
      "model_module": "@jupyter-widgets/controls",
      "model_module_version": "1.5.0",
      "model_name": "ButtonModel",
      "state": {
       "description": "Add",
       "layout": "IPY_MODEL_cfb42e1af2e74feb881983e338cdf189",
       "style": "IPY_MODEL_4f5ea647fd974c3fadd8f4a0dd713e63"
      }
     },
     "a09452b37f5f46af88433461b0b527ec": {
      "model_module": "@jupyter-widgets/base",
      "model_module_version": "1.2.0",
      "model_name": "LayoutModel",
      "state": {}
     },
     "a09837265e8e497f86f50dfa9d4e3be7": {
      "model_module": "@jupyter-widgets/controls",
      "model_module_version": "1.5.0",
      "model_name": "DescriptionStyleModel",
      "state": {
       "description_width": ""
      }
     },
     "a0f558f7b78d491da115fed52d18e037": {
      "model_module": "pgljupyter",
      "model_module_version": "^0.1.2",
      "model_name": "CurveEditorModel",
      "state": {
       "_model_module_version": "^0.1.2",
       "_view_module_version": "^0.1.2",
       "control_points": [
        [
         -0.5,
         0
        ],
        [
         -0.4669615846065175,
         0.10362475759086609
        ],
        [
         -0.42851562474708466,
         0.29118498972390533
        ],
        [
         -0.5781451680983921,
         0.3950943948289799
        ],
        [
         -0.7236183352454963,
         0.2496212276818755
        ],
        [
         -0.5906142967110011,
         0.14986819878100388
        ]
       ],
       "curve_type": [
        "NurbsCurve2D"
       ],
       "layout": "IPY_MODEL_d14c2c481b7c4c659408c58992c75771",
       "name": "axis9"
      }
     },
     "a1142a93e8e74a0fb23cbde8a516c4dd": {
      "model_module": "@jupyter-widgets/base",
      "model_module_version": "1.2.0",
      "model_name": "LayoutModel",
      "state": {}
     },
     "a14beecbbbcd493f9580da13296a33e4": {
      "model_module": "@jupyter-widgets/controls",
      "model_module_version": "1.5.0",
      "model_name": "DescriptionStyleModel",
      "state": {
       "description_width": ""
      }
     },
     "a1b95e5990f24244a720c3da19e3eb63": {
      "model_module": "@jupyter-widgets/base",
      "model_module_version": "1.2.0",
      "model_name": "LayoutModel",
      "state": {}
     },
     "a1f0de6932c74005b6870fcb483f9eba": {
      "model_module": "@jupyter-widgets/base",
      "model_module_version": "1.2.0",
      "model_name": "LayoutModel",
      "state": {}
     },
     "a23a906aaa6348aab3db191c789e8ef3": {
      "model_module": "@jupyter-widgets/base",
      "model_module_version": "1.2.0",
      "model_name": "LayoutModel",
      "state": {}
     },
     "a247bc6500a9482a81cb83c364db0d8a": {
      "model_module": "@jupyter-widgets/controls",
      "model_module_version": "1.5.0",
      "model_name": "CheckboxModel",
      "state": {
       "description": "Auto save",
       "disabled": false,
       "layout": "IPY_MODEL_487b3e4a5cdb4adda4614d5d8b1c5b3b",
       "style": "IPY_MODEL_73304f9561c54e5e806abc8e84b3d19f",
       "value": false
      }
     },
     "a28f18a898974ddbace5f05803173bdb": {
      "model_module": "@jupyter-widgets/controls",
      "model_module_version": "1.5.0",
      "model_name": "DescriptionStyleModel",
      "state": {
       "description_width": ""
      }
     },
     "a2aaf40a1043482f860d95a191962030": {
      "model_module": "@jupyter-widgets/base",
      "model_module_version": "1.2.0",
      "model_name": "LayoutModel",
      "state": {}
     },
     "a2dfa304644a41249f7507f1541384de": {
      "model_module": "@jupyter-widgets/base",
      "model_module_version": "1.2.0",
      "model_name": "LayoutModel",
      "state": {}
     },
     "a32cf758b6834af79ade9a0008b6be59": {
      "model_module": "@jupyter-widgets/controls",
      "model_module_version": "1.5.0",
      "model_name": "SliderStyleModel",
      "state": {
       "description_width": ""
      }
     },
     "a3444c0b7a414076bbce703a08517b02": {
      "model_module": "@jupyter-widgets/base",
      "model_module_version": "1.2.0",
      "model_name": "LayoutModel",
      "state": {}
     },
     "a35f6ada9db8483caf171c61e8d06c51": {
      "model_module": "@jupyter-widgets/controls",
      "model_module_version": "1.5.0",
      "model_name": "DescriptionStyleModel",
      "state": {
       "description_width": ""
      }
     },
     "a4e3a9c4f05e437fb7a8e5577c497e0f": {
      "model_module": "@jupyter-widgets/controls",
      "model_module_version": "1.5.0",
      "model_name": "DescriptionStyleModel",
      "state": {
       "description_width": ""
      }
     },
     "a577f03970a640adbfd806d6929a5e58": {
      "model_module": "@jupyter-widgets/base",
      "model_module_version": "1.2.0",
      "model_name": "LayoutModel",
      "state": {}
     },
     "a5ed13c066d242d48e1f49b387a5cc46": {
      "model_module": "@jupyter-widgets/base",
      "model_module_version": "1.2.0",
      "model_name": "LayoutModel",
      "state": {}
     },
     "a60cfe96c0b949c4a0fade811d377cf2": {
      "model_module": "@jupyter-widgets/controls",
      "model_module_version": "1.5.0",
      "model_name": "TextModel",
      "state": {
       "layout": "IPY_MODEL_686cb04195464644bad898b6b5063bbf",
       "style": "IPY_MODEL_4314aa61d2c34b3e8666454faf0241ab",
       "value": "axis4"
      }
     },
     "a611c84723c34316b2be49017f6c9523": {
      "model_module": "@jupyter-widgets/base",
      "model_module_version": "1.2.0",
      "model_name": "LayoutModel",
      "state": {
       "margin": "10px 10px"
      }
     },
     "a6134748fe4446bc80ea38bc4dd62269": {
      "model_module": "@jupyter-widgets/controls",
      "model_module_version": "1.5.0",
      "model_name": "DescriptionStyleModel",
      "state": {
       "description_width": ""
      }
     },
     "a6147a2b79f74349bfa9c1a15d1a41a9": {
      "model_module": "@jupyter-widgets/base",
      "model_module_version": "1.2.0",
      "model_name": "LayoutModel",
      "state": {}
     },
     "a622a61503c64dbca3f0e1902e96c9a9": {
      "model_module": "@jupyter-widgets/base",
      "model_module_version": "1.2.0",
      "model_name": "LayoutModel",
      "state": {}
     },
     "a66f8d68662d4c79a2e44b3aefafc206": {
      "model_module": "@jupyter-widgets/base",
      "model_module_version": "1.2.0",
      "model_name": "LayoutModel",
      "state": {}
     },
     "a6e2dc96d08843398c3309562f512baa": {
      "model_module": "@jupyter-widgets/controls",
      "model_module_version": "1.5.0",
      "model_name": "TextModel",
      "state": {
       "continuous_update": false,
       "description": "name",
       "layout": "IPY_MODEL_f58c9368206a4f03933c702a600089dc",
       "style": "IPY_MODEL_2573914daf974f9eb31df1adf75fa0b6",
       "value": "axis6"
      }
     },
     "a71962e096c74c528b21ab81076b2b93": {
      "model_module": "@jupyter-widgets/base",
      "model_module_version": "1.2.0",
      "model_name": "LayoutModel",
      "state": {}
     },
     "a7405c794d6545caa5b7f111cfa7da65": {
      "model_module": "@jupyter-widgets/base",
      "model_module_version": "1.2.0",
      "model_name": "LayoutModel",
      "state": {}
     },
     "a75512591079414eba53a2a7e2c5e850": {
      "model_module": "@jupyter-widgets/controls",
      "model_module_version": "1.5.0",
      "model_name": "HBoxModel",
      "state": {
       "layout": "IPY_MODEL_9454854810ea4fcf9540c6ab8ec2089e"
      }
     },
     "a76f4a4731464528873c1817d4cdb582": {
      "model_module": "@jupyter-widgets/base",
      "model_module_version": "1.2.0",
      "model_name": "LayoutModel",
      "state": {}
     },
     "a7e8f61824664156a13c7e372b909cca": {
      "model_module": "@jupyter-widgets/controls",
      "model_module_version": "1.5.0",
      "model_name": "CheckboxModel",
      "state": {
       "description": "Auto apply",
       "disabled": false,
       "layout": "IPY_MODEL_0921ea58f2534a41aeb7e5b32ec59b37",
       "style": "IPY_MODEL_19d3928aeb8b4d26aab9979a85f1a619",
       "value": false
      }
     },
     "a8f03d5c3ef24ca68d60562668f90283": {
      "model_module": "pgljupyter",
      "model_module_version": "^0.1.21",
      "model_name": "_CurveEditorModel",
      "state": {
       "_model_module_version": "^0.1.21",
       "_view_module_version": "^0.1.21",
       "layout": "IPY_MODEL_550e9c560884410db1f464f669ca3995",
       "points": [
        [
         -0.5,
         0
        ],
        [
         -0.4669615846065175,
         0.10362475759086609
        ],
        [
         -0.42851562474708466,
         0.29118498972390533
        ],
        [
         -0.5781451680983921,
         0.3950943948289799
        ],
        [
         -0.7236183352454963,
         0.2496212276818755
        ],
        [
         -0.5906142967110011,
         0.14986819878100388
        ]
       ],
       "type": "NurbsCurve2D"
      }
     },
     "a901a4e413ce47cbb307828f5c4567b9": {
      "model_module": "@jupyter-widgets/base",
      "model_module_version": "1.2.0",
      "model_name": "LayoutModel",
      "state": {}
     },
     "a9467de0bcd44e55ae8c4d35c13ad90f": {
      "model_module": "pgljupyter",
      "model_module_version": "^0.1.21",
      "model_name": "ParameterEditorModel",
      "state": {
       "_model_module_version": "^0.1.21",
       "_view_module_version": "^0.1.21",
       "children": [
        "IPY_MODEL_5a77dfc5232549258697c872989a73ab"
       ],
       "layout": "IPY_MODEL_e32ee633167143fab04f65c37915efa0"
      }
     },
     "a9649f8857f5419aaa497568383073a3": {
      "model_module": "@jupyter-widgets/base",
      "model_module_version": "1.2.0",
      "model_name": "LayoutModel",
      "state": {
       "margin": "20px 0px"
      }
     },
     "a9bb405b682f4f3faa98176b008c6ce9": {
      "model_module": "@jupyter-widgets/base",
      "model_module_version": "1.2.0",
      "model_name": "LayoutModel",
      "state": {}
     },
     "a9dc6cc5cd734f84a07d98f48461a0c6": {
      "model_module": "@jupyter-widgets/base",
      "model_module_version": "1.2.0",
      "model_name": "LayoutModel",
      "state": {}
     },
     "aa14682034e54ff2b2a9b942b08532de": {
      "model_module": "@jupyter-widgets/base",
      "model_module_version": "1.2.0",
      "model_name": "LayoutModel",
      "state": {
       "margin": "10px 10px"
      }
     },
     "aa2d7e5f627246a6af7cd57bda4f221b": {
      "model_module": "@jupyter-widgets/base",
      "model_module_version": "1.2.0",
      "model_name": "LayoutModel",
      "state": {}
     },
     "aa50288e118544329f0e49cf25960b7f": {
      "model_module": "@jupyter-widgets/controls",
      "model_module_version": "1.5.0",
      "model_name": "HBoxModel",
      "state": {
       "children": [
        "IPY_MODEL_fed583356d764d90bf6bf98767f51085",
        "IPY_MODEL_4c0a18f1a64e440691e910416bc25d05"
       ],
       "layout": "IPY_MODEL_eb0a988af9f74f948f768113286d1033"
      }
     },
     "ab0d1f4654064349aae8cbb643f71f08": {
      "model_module": "@jupyter-widgets/controls",
      "model_module_version": "1.5.0",
      "model_name": "TextModel",
      "state": {
       "continuous_update": false,
       "description": "name",
       "layout": "IPY_MODEL_39445f1bd98546a088cd3287051e7c58",
       "style": "IPY_MODEL_51dce90937614b0aaf20d9cb28e104c4",
       "value": "axis8"
      }
     },
     "ab146beffbd14a8f986b51e3e2943725": {
      "model_module": "@jupyter-widgets/controls",
      "model_module_version": "1.5.0",
      "model_name": "VBoxModel",
      "state": {
       "children": [
        "IPY_MODEL_f0f4554591db4a4c8d241283be222c3d",
        "IPY_MODEL_1dba2dfca77946b9ac5d2d24496ce407"
       ],
       "layout": "IPY_MODEL_53df657fbde04d4ea4a0276370f8b592"
      }
     },
     "ab47a19ca7914e579102109ca39fe869": {
      "model_module": "pgljupyter",
      "model_module_version": "^0.1.2",
      "model_name": "CurveEditorModel",
      "state": {
       "_model_module_version": "^0.1.2",
       "_view_module_version": "^0.1.2",
       "control_points": [
        [
         -0.5,
         0
        ],
        [
         -0.4046170117111899,
         0.12702123069326227
        ],
        [
         -0.32102931625664455,
         0.213305303420535
        ],
        [
         -0.18621045262028096,
         0.22409081251144408
        ],
        [
         -0.1241937753475536,
         0.14859224887508046
        ],
        [
         -0.14306841625664454,
         0.03264802614780772
        ]
       ],
       "curve_type": [
        "NurbsCurve2D"
       ],
       "layout": "IPY_MODEL_c45a6855c57d420e8fc6c885f4058924",
       "name": "axis2"
      }
     },
     "ab5a07eca3cd433ab604c7841af4af00": {
      "model_module": "@jupyter-widgets/controls",
      "model_module_version": "1.5.0",
      "model_name": "TextModel",
      "state": {
       "continuous_update": false,
       "description": "name",
       "layout": "IPY_MODEL_cafda6bdb0c64cd3818394b1449dd61d",
       "style": "IPY_MODEL_a35f6ada9db8483caf171c61e8d06c51",
       "value": "profile"
      }
     },
     "abf866300bc448a7985b2c176e1adb38": {
      "model_module": "@jupyter-widgets/base",
      "model_module_version": "1.2.0",
      "model_name": "LayoutModel",
      "state": {
       "margin": "20px 0px"
      }
     },
     "ac2e430c885044c19e4a2370ed5c7bb2": {
      "model_module": "@jupyter-widgets/controls",
      "model_module_version": "1.5.0",
      "model_name": "VBoxModel",
      "state": {
       "children": [
        "IPY_MODEL_6a3b4e27316e48479b95430e31835263",
        "IPY_MODEL_ba1ea3b4f2524210877bd9f184dbd1ba"
       ],
       "layout": "IPY_MODEL_374ab8e0d8ee49d89b1ad3a3d86b0899"
      }
     },
     "acc6d2ac266742079f7e4eec995f110b": {
      "model_module": "@jupyter-widgets/base",
      "model_module_version": "1.2.0",
      "model_name": "LayoutModel",
      "state": {
       "margin": "10px 10px"
      }
     },
     "ada613799ce94689b2b4a114c6afc2bf": {
      "model_module": "@jupyter-widgets/base",
      "model_module_version": "1.2.0",
      "model_name": "LayoutModel",
      "state": {}
     },
     "adc9a935d6fe4ae48788ced32aea79cc": {
      "model_module": "@jupyter-widgets/base",
      "model_module_version": "1.2.0",
      "model_name": "LayoutModel",
      "state": {}
     },
     "ade1802d14e44a48891a755990209102": {
      "model_module": "@jupyter-widgets/controls",
      "model_module_version": "1.5.0",
      "model_name": "TextModel",
      "state": {
       "continuous_update": false,
       "description": "name",
       "layout": "IPY_MODEL_66bcc2caa30a43ad91ac437c69455893",
       "style": "IPY_MODEL_e82ab58b055044a3a624b54665e7d4b2",
       "value": "axis1"
      }
     },
     "adff16dbc4754e3795ffa8b53a1d6974": {
      "model_module": "@jupyter-widgets/controls",
      "model_module_version": "1.5.0",
      "model_name": "DropdownModel",
      "state": {
       "_options_labels": [
        "NurbsCurve2D",
        "BezierCurve2D",
        "Polyline2D",
        "Function"
       ],
       "index": 0,
       "layout": "IPY_MODEL_f852f60e78b046c1ac7953b9f19e3461",
       "style": "IPY_MODEL_a09837265e8e497f86f50dfa9d4e3be7"
      }
     },
     "ae1d46314e6f4436a40768c2bb6b3f6b": {
      "model_module": "@jupyter-widgets/controls",
      "model_module_version": "1.5.0",
      "model_name": "ButtonModel",
      "state": {
       "description": "Delete",
       "layout": "IPY_MODEL_a5ed13c066d242d48e1f49b387a5cc46",
       "style": "IPY_MODEL_cc9ab34208bc47a2ad6f26cede042d30"
      }
     },
     "ae6239b777ca4250bf3559e86591ce85": {
      "model_module": "@jupyter-widgets/controls",
      "model_module_version": "1.5.0",
      "model_name": "DescriptionStyleModel",
      "state": {
       "description_width": ""
      }
     },
     "ae632d33aa984a39893dc926d1f53751": {
      "model_module": "@jupyter-widgets/base",
      "model_module_version": "1.2.0",
      "model_name": "LayoutModel",
      "state": {}
     },
     "ae8eaebada1f49dea33c8abef7fad674": {
      "model_module": "@jupyter-widgets/base",
      "model_module_version": "1.2.0",
      "model_name": "LayoutModel",
      "state": {}
     },
     "af57cba9f618449b95279b466fc02080": {
      "model_module": "@jupyter-widgets/controls",
      "model_module_version": "1.5.0",
      "model_name": "DropdownModel",
      "state": {
       "_options_labels": [
        "leafwidth",
        "profile",
        "axis1",
        "axis2",
        "axis3",
        "axis4",
        "axis5",
        "axis6",
        "axis7",
        "axis8",
        "axis9"
       ],
       "index": 0,
       "layout": "IPY_MODEL_4c12885742f3494eb18af5d558fedd89",
       "style": "IPY_MODEL_207cc9d34c784843971d38517c4006c5"
      }
     },
     "af927e71668640d7be7eca8b5b2fe057": {
      "model_module": "@jupyter-widgets/base",
      "model_module_version": "1.2.0",
      "model_name": "LayoutModel",
      "state": {
       "margin": "10px 10px"
      }
     },
     "af934b7d2fe64fadadf33bdd4869f8eb": {
      "model_module": "@jupyter-widgets/controls",
      "model_module_version": "1.5.0",
      "model_name": "TabModel",
      "state": {
       "_titles": {
        "0": "dynamicprofile.json"
       },
       "children": [
        "IPY_MODEL_54855a4c9f52444492618a16e0a065e1"
       ],
       "layout": "IPY_MODEL_190c3801c2c2410087e9a4a3cf7264dd"
      }
     },
     "b099b16b6f734dc8a93a3a4e46c7acfd": {
      "model_module": "@jupyter-widgets/controls",
      "model_module_version": "1.5.0",
      "model_name": "HBoxModel",
      "state": {
       "layout": "IPY_MODEL_0487ce89439c45aa8a2eb497e4f24cdf"
      }
     },
     "b10819d12d3944fca49233115f42d5e3": {
      "model_module": "@jupyter-widgets/base",
      "model_module_version": "1.2.0",
      "model_name": "LayoutModel",
      "state": {}
     },
     "b11989b9e3fb42a7a582c52c35ec8a7d": {
      "model_module": "@jupyter-widgets/controls",
      "model_module_version": "1.5.0",
      "model_name": "DescriptionStyleModel",
      "state": {
       "description_width": ""
      }
     },
     "b14b9b66db4145cf874bbff652ca6938": {
      "model_module": "@jupyter-widgets/base",
      "model_module_version": "1.2.0",
      "model_name": "LayoutModel",
      "state": {}
     },
     "b16aa82832bc4a478830123d3a350b4a": {
      "model_module": "@jupyter-widgets/base",
      "model_module_version": "1.2.0",
      "model_name": "LayoutModel",
      "state": {}
     },
     "b175dd30a58a4147ae44cdb33a939c29": {
      "model_module": "pgljupyter",
      "model_module_version": "^0.2.1",
      "model_name": "CurveEditorModel",
      "state": {
       "_model_module_version": "^0.2.1",
       "_view_module_version": "^0.2.1",
       "children": [
        "IPY_MODEL_ade1802d14e44a48891a755990209102",
        "IPY_MODEL_f689edadf0374e61b5ed4beacac78081"
       ],
       "layout": "IPY_MODEL_896abbff882b427ba70a8b1e5aca5607"
      }
     },
     "b2136c3161d8426b9b9e47669647dab8": {
      "model_module": "@jupyter-widgets/base",
      "model_module_version": "1.2.0",
      "model_name": "LayoutModel",
      "state": {}
     },
     "b213b1167ae54e9a87eb24419fcd719e": {
      "model_module": "@jupyter-widgets/base",
      "model_module_version": "1.2.0",
      "model_name": "LayoutModel",
      "state": {}
     },
     "b311ee62f8b746eda5295aa3a8f6a9db": {
      "model_module": "@jupyter-widgets/base",
      "model_module_version": "1.2.0",
      "model_name": "LayoutModel",
      "state": {}
     },
     "b3c8d49331434ecfa22bc3c2461cfbe9": {
      "model_module": "@jupyter-widgets/base",
      "model_module_version": "1.2.0",
      "model_name": "LayoutModel",
      "state": {}
     },
     "b3fb62d357d24e5198433f8cea961382": {
      "model_module": "pgljupyter",
      "model_module_version": "^0.2.1",
      "model_name": "_CurveEditorModel",
      "state": {
       "_model_module_version": "^0.2.1",
       "_view_module_version": "^0.2.1",
       "layout": "IPY_MODEL_528e0b5f8312495098e1885ba0046597",
       "name": "axis2",
       "points": [
        [
         -0.5,
         0
        ],
        [
         -0.46537859650133195,
         0.1437906475518601
        ],
        [
         -0.3790209986412258,
         0.2681455884704129
        ],
        [
         -0.24084882888793227,
         0.2785085002136257
        ],
        [
         -0.15794553494223032,
         0.1541535592950728
        ],
        [
         -0.29611769151840023,
         0.04016153011973264
        ]
       ],
       "type": "NurbsCurve2D"
      }
     },
     "b4072cd1c02f42c69682c17be61f19dc": {
      "model_module": "pgljupyter",
      "model_module_version": "^0.2.1",
      "model_name": "_CurveEditorModel",
      "state": {
       "_model_module_version": "^0.2.1",
       "_view_module_version": "^0.2.1",
       "is_function": true,
       "layout": "IPY_MODEL_d64334cfc45240b78622649893bc6897",
       "name": "leafwidth",
       "points": [
        [
         0,
         0.00677191994406956
        ],
        [
         0.15454545454545454,
         0.7113173744895241
        ],
        [
         0.2727272727272727,
         0.15222646539861506
        ],
        [
         1,
         0.00677191994406956
        ]
       ],
       "type": "NurbsCurve2D"
      }
     },
     "b4727b53dda24e69a7acb4a9268bf4b4": {
      "model_module": "@jupyter-widgets/base",
      "model_module_version": "1.2.0",
      "model_name": "LayoutModel",
      "state": {}
     },
     "b4ab7be535b843cdb2f75bd705098636": {
      "model_module": "@jupyter-widgets/controls",
      "model_module_version": "1.5.0",
      "model_name": "ButtonStyleModel",
      "state": {}
     },
     "b53991c9c4504f93ad00376c720f15c9": {
      "model_module": "@jupyter-widgets/controls",
      "model_module_version": "1.5.0",
      "model_name": "VBoxModel",
      "state": {
       "children": [
        "IPY_MODEL_3b351436f9fd4d7dad08ed856312e9a3",
        "IPY_MODEL_6a353ff27cef41269cba559751f03955"
       ],
       "layout": "IPY_MODEL_a3444c0b7a414076bbce703a08517b02"
      }
     },
     "b57aa1cd5fec44b68a09983fc3370a14": {
      "model_module": "@jupyter-widgets/controls",
      "model_module_version": "1.5.0",
      "model_name": "ButtonModel",
      "state": {
       "description": "Add",
       "layout": "IPY_MODEL_6e51d306e1554d62ba3a86ea6d717981",
       "style": "IPY_MODEL_ea8c40c364644e668de5cce3ac5290fd"
      }
     },
     "b588d39b744e4e638518d19e07787c86": {
      "model_module": "@jupyter-widgets/base",
      "model_module_version": "1.2.0",
      "model_name": "LayoutModel",
      "state": {}
     },
     "b59dd94c07644a4c8680e4f80cb65e20": {
      "model_module": "@jupyter-widgets/controls",
      "model_module_version": "1.5.0",
      "model_name": "ButtonModel",
      "state": {
       "description": "Add",
       "layout": "IPY_MODEL_94fcf2379bf8443c8e2b3790a0b20809",
       "style": "IPY_MODEL_028c66a39fe843c5aee9956753fb23aa"
      }
     },
     "b5c390faece84891ad3798c0fb471c88": {
      "model_module": "@jupyter-widgets/controls",
      "model_module_version": "1.5.0",
      "model_name": "FloatSliderModel",
      "state": {
       "description": "transparency",
       "layout": "IPY_MODEL_b2136c3161d8426b9b9e47669647dab8",
       "max": 1,
       "step": 0.1,
       "style": "IPY_MODEL_5b17bc7736d74899a3e62ee090378f4e"
      }
     },
     "b600a1a8ead5445c882e9e2032db8b76": {
      "model_module": "@jupyter-widgets/base",
      "model_module_version": "1.2.0",
      "model_name": "LayoutModel",
      "state": {}
     },
     "b746e0691d15427e91640cd6e85d303a": {
      "model_module": "@jupyter-widgets/base",
      "model_module_version": "1.2.0",
      "model_name": "LayoutModel",
      "state": {}
     },
     "b7476de5e2bd4b46a1764570fc294d00": {
      "model_module": "pgljupyter",
      "model_module_version": "^0.1.21",
      "model_name": "CurveEditorModel",
      "state": {
       "_model_module_version": "^0.1.21",
       "_view_module_version": "^0.1.21",
       "children": [
        "IPY_MODEL_3142a087d72b4f128625a3a2ca5c5324",
        "IPY_MODEL_2d77a88944f74aed87e0b1c46e3985e5"
       ],
       "layout": "IPY_MODEL_9ed09af6d1344044bdabbbe0f6ee4146"
      }
     },
     "b75248ba37f848d69977f37c556b9741": {
      "model_module": "@jupyter-widgets/controls",
      "model_module_version": "1.5.0",
      "model_name": "TextModel",
      "state": {
       "continuous_update": false,
       "description": "name",
       "layout": "IPY_MODEL_30f13a3eabdf4a5fbdf71382133ca0d5",
       "style": "IPY_MODEL_d8e52af316fa46d19c4d6e7b45db3016",
       "value": "leaf"
      }
     },
     "b924f3dcd43f4952809723a231c12195": {
      "model_module": "@jupyter-widgets/controls",
      "model_module_version": "1.5.0",
      "model_name": "CheckboxModel",
      "state": {
       "description": "Auto save",
       "disabled": false,
       "layout": "IPY_MODEL_8be82436220d494089d422860e7d1e88",
       "style": "IPY_MODEL_00cb9ffcfec54de6845ed90eb9b60622",
       "value": false
      }
     },
     "ba1ea3b4f2524210877bd9f184dbd1ba": {
      "model_module": "pgljupyter",
      "model_module_version": "^0.1.2",
      "model_name": "CurveEditorModel",
      "state": {
       "_model_module_version": "^0.1.2",
       "_view_module_version": "^0.1.2",
       "control_points": [
        [
         -0.5,
         0
        ],
        [
         -0.45381259264846796,
         0.12013621899284291
        ],
        [
         -0.3893521988258032,
         0.2189754895209291
        ],
        [
         -0.43232579470757976,
         0.3350041984017258
        ],
        [
         -0.5612465823529095,
         0.3822751538716801
        ],
        [
         -0.6343016953519296,
         0.2920306025199492
        ]
       ],
       "curve_type": [
        "NurbsCurve2D"
       ],
       "layout": "IPY_MODEL_4baaef69801c446fba5de5603faa4e33",
       "name": "axis7"
      }
     },
     "ba87c0c1b7b442a4bde2da87977abe9e": {
      "model_module": "@jupyter-widgets/base",
      "model_module_version": "1.2.0",
      "model_name": "LayoutModel",
      "state": {}
     },
     "bb4eb19f175b44648687860c512ea226": {
      "model_module": "@jupyter-widgets/controls",
      "model_module_version": "1.5.0",
      "model_name": "TextModel",
      "state": {
       "continuous_update": false,
       "description": "name",
       "layout": "IPY_MODEL_80e588719b364b89a3b7e81fcc0a7596",
       "style": "IPY_MODEL_978422a993494d6c878a3e321798ec18",
       "value": "axis7"
      }
     },
     "bb51cd016ca048ccb97207556559acdc": {
      "model_module": "@jupyter-widgets/base",
      "model_module_version": "1.2.0",
      "model_name": "LayoutModel",
      "state": {}
     },
     "bcee2794a576463791a427478648bef1": {
      "model_module": "@jupyter-widgets/controls",
      "model_module_version": "1.5.0",
      "model_name": "DescriptionStyleModel",
      "state": {
       "description_width": ""
      }
     },
     "be061ed8952143348a6863da30506bf9": {
      "model_module": "@jupyter-widgets/controls",
      "model_module_version": "1.5.0",
      "model_name": "ButtonStyleModel",
      "state": {}
     },
     "be17bd3cf3da4e29bf5a653b51e2c7f3": {
      "model_module": "pgljupyter",
      "model_module_version": "^0.1.2",
      "model_name": "LsystemWidgetModel",
      "state": {
       "_model_module_version": "^0.1.2",
       "_view_module_version": "^0.1.2",
       "axes_helper": false,
       "derivationLength": 160,
       "layout": "IPY_MODEL_a2dfa304644a41249f7507f1541384de",
       "light_helper": false,
       "plane": false,
       "size_display": [
        400,
        400
       ],
       "size_world": [
        2,
        2,
        2
       ]
      }
     },
     "be646152f9864e4ebe78bc43365b35ba": {
      "model_module": "@jupyter-widgets/controls",
      "model_module_version": "1.5.0",
      "model_name": "HBoxModel",
      "state": {
       "children": [
        "IPY_MODEL_1fdb6d4f993c436aa6c72af00a99201d",
        "IPY_MODEL_6a96990f4f9a4cf79263d8955f350db4",
        "IPY_MODEL_80c77474313947888cf753cf18f7d5b8",
        "IPY_MODEL_ca54811fb14647db8bb0f9e390d32b15",
        "IPY_MODEL_339e90fa2cba4a129f5cfe228fb6f321",
        "IPY_MODEL_772711cff5c04f07b8ae4a4d8e2cf453",
        "IPY_MODEL_8fc570b3b4644270a3e40d0bff62eebd",
        "IPY_MODEL_43f654178aec40ca95a4da12863fd74c",
        "IPY_MODEL_dda551f304b841238c88801fc611013e",
        "IPY_MODEL_698156d5c93f4a0ebe9a1be582b0aaf8",
        "IPY_MODEL_fceb685e54cd4a64b662dbd8fb433314"
       ],
       "layout": "IPY_MODEL_9454854810ea4fcf9540c6ab8ec2089e"
      }
     },
     "bec4d62ed14e4aae8ba345bca9c9946f": {
      "model_module": "@jupyter-widgets/controls",
      "model_module_version": "1.5.0",
      "model_name": "HBoxModel",
      "state": {
       "children": [
        "IPY_MODEL_7dcff1bd2c804d0a983202de2e349e95",
        "IPY_MODEL_bf56b78f710b49aca3cb07c49d85e42e",
        "IPY_MODEL_1bd3a53dd84a46b788db2a94804f16f2"
       ],
       "layout": "IPY_MODEL_fe6b5342a2a948f0b10fe6ff0067b0b4"
      }
     },
     "bf1da90ce4f741cdb084fca4e2631539": {
      "model_module": "@jupyter-widgets/controls",
      "model_module_version": "1.5.0",
      "model_name": "DropdownModel",
      "state": {
       "_options_labels": [
        "leaf"
       ],
       "index": 0,
       "layout": "IPY_MODEL_b588d39b744e4e638518d19e07787c86",
       "style": "IPY_MODEL_99bd110e50184021b0409966f98ddced"
      }
     },
     "bf56b78f710b49aca3cb07c49d85e42e": {
      "model_module": "@jupyter-widgets/controls",
      "model_module_version": "1.5.0",
      "model_name": "HBoxModel",
      "state": {
       "children": [
        "IPY_MODEL_4f8ed5eb7e214948a2e940c43ecae542",
        "IPY_MODEL_cb500021be354ccc918085984c4cdda8"
       ],
       "layout": "IPY_MODEL_3346b7ac1fd94cb4970df69cbd2cf02e"
      }
     },
     "bfcec04681714a7d8119775f87ba8508": {
      "model_module": "@jupyter-widgets/base",
      "model_module_version": "1.2.0",
      "model_name": "LayoutModel",
      "state": {}
     },
     "c0735bcf8e464e0196b984a3868c3653": {
      "model_module": "@jupyter-widgets/base",
      "model_module_version": "1.2.0",
      "model_name": "LayoutModel",
      "state": {}
     },
     "c09b36bbc0654076b493673762110f7e": {
      "model_module": "@jupyter-widgets/controls",
      "model_module_version": "1.5.0",
      "model_name": "ButtonModel",
      "state": {
       "description": "Add",
       "layout": "IPY_MODEL_bfcec04681714a7d8119775f87ba8508",
       "style": "IPY_MODEL_25430d8ae15240ebbec3fb95cadf6298"
      }
     },
     "c23dc75bae8e4029b67400c33292c09c": {
      "model_module": "@jupyter-widgets/base",
      "model_module_version": "1.2.0",
      "model_name": "LayoutModel",
      "state": {}
     },
     "c25adfad4cb74990bc1fbd0ed16c7341": {
      "model_module": "@jupyter-widgets/controls",
      "model_module_version": "1.5.0",
      "model_name": "ButtonModel",
      "state": {
       "description": "Delete",
       "layout": "IPY_MODEL_d7a99f395950452aa00b5884a8236732",
       "style": "IPY_MODEL_4d61aa7482354b41a3aeb182c824732e"
      }
     },
     "c26ad8d116414fddaba15e112157ad62": {
      "model_module": "@jupyter-widgets/controls",
      "model_module_version": "1.5.0",
      "model_name": "VBoxModel",
      "state": {
       "children": [
        "IPY_MODEL_3f2bf25b89b04a2c98f962a891a39d0c",
        "IPY_MODEL_598d6fdd66a34900a4d9868c9bd2f023"
       ],
       "layout": "IPY_MODEL_125a8520d8c244cfbbb2ae3537982b77"
      }
     },
     "c2ba89e49fd449fbac83c737867c54e7": {
      "model_module": "@jupyter-widgets/controls",
      "model_module_version": "1.5.0",
      "model_name": "DropdownModel",
      "state": {
       "_options_labels": [
        "Color"
       ],
       "index": 0,
       "layout": "IPY_MODEL_cd2f693e5535485db2d1d80e79e90c58",
       "style": "IPY_MODEL_1e0a04e4d70645399e1cd9a03b7b4e51"
      }
     },
     "c2cf0f6b3d2e40cbb7d1e15b5e391b74": {
      "model_module": "@jupyter-widgets/base",
      "model_module_version": "1.2.0",
      "model_name": "LayoutModel",
      "state": {}
     },
     "c2f826b298c44ff8aaf09b7fdc95c19f": {
      "model_module": "@jupyter-widgets/controls",
      "model_module_version": "1.5.0",
      "model_name": "HBoxModel",
      "state": {
       "children": [
        "IPY_MODEL_7ce2663ca0b24a449b86781da5c267d7",
        "IPY_MODEL_d2c1560fdfdc42778fef89b6511fe8be",
        "IPY_MODEL_b175dd30a58a4147ae44cdb33a939c29",
        "IPY_MODEL_6d16acd84dce442f9cfa1daf60dd3eb4",
        "IPY_MODEL_448a32b5e4884fd992be05f838654aa2",
        "IPY_MODEL_9be047180e114eeea2c2c4238adeddf9",
        "IPY_MODEL_862cb98502fa40bdb5811acce59d145c",
        "IPY_MODEL_d526df4e62ee4ceda8e70c0c4d268fc2",
        "IPY_MODEL_9799ee7424a44609b8b851ca73474614",
        "IPY_MODEL_f7e33cccdda942f681a4c96f09484535",
        "IPY_MODEL_41cee7ad31d345c7acdd11d5d931ca12"
       ],
       "layout": "IPY_MODEL_4cf2ed2a79ed4c2db77abcc41e95d522"
      }
     },
     "c363b1eb8430423c85f083784364a07d": {
      "model_module": "@jupyter-widgets/base",
      "model_module_version": "1.2.0",
      "model_name": "LayoutModel",
      "state": {}
     },
     "c3e0dc486b0e4c3d8468862d7860e021": {
      "model_module": "pgljupyter",
      "model_module_version": "^0.2.1",
      "model_name": "MaterialEditorModel",
      "state": {
       "_model_module_version": "^0.2.1",
       "_view_module_version": "^0.2.1",
       "children": [
        "IPY_MODEL_25b3fb8b580849818eb85c39f7c8486f",
        "IPY_MODEL_d0095486f0414e88b864aad849c6ca4b",
        "IPY_MODEL_23b05c3dc8c24fb0a62188aefab3a34f",
        "IPY_MODEL_dc7abecf20cb405d8c3eec853e705dd3",
        "IPY_MODEL_0e5c598dd43244149d9a1e5218c0e04f",
        "IPY_MODEL_ffed64c0ad1b4aaf9a42dce56e8d7ece",
        "IPY_MODEL_c5b03e757d1144179fbc7de7254b9377"
       ],
       "layout": "IPY_MODEL_7358c23a378f469ba17fc28e15c0733e"
      }
     },
     "c3e5a14aa9a94aed802fa3d2ea76a214": {
      "model_module": "@jupyter-widgets/controls",
      "model_module_version": "1.5.0",
      "model_name": "HBoxModel",
      "state": {
       "children": [
        "IPY_MODEL_c25adfad4cb74990bc1fbd0ed16c7341",
        "IPY_MODEL_e4c5589a000f4d1f9142bf6c770bb41c"
       ],
       "layout": "IPY_MODEL_8324fdfbd0344165812754a672161ea6"
      }
     },
     "c45a6855c57d420e8fc6c885f4058924": {
      "model_module": "@jupyter-widgets/base",
      "model_module_version": "1.2.0",
      "model_name": "LayoutModel",
      "state": {}
     },
     "c4fb31685eb644f3a47fa7533d454eb5": {
      "model_module": "pgljupyter",
      "model_module_version": "^0.1.21",
      "model_name": "_CurveEditorModel",
      "state": {
       "_model_module_version": "^0.1.21",
       "_view_module_version": "^0.1.21",
       "layout": "IPY_MODEL_eb65c6e55a874a6f8781ada061fce581",
       "points": [
        [
         -0.5,
         0
        ],
        [
         -0.45381259264846796,
         0.12013621899284291
        ],
        [
         -0.3893521988258032,
         0.2189754895209291
        ],
        [
         -0.43232579470757976,
         0.3350041984017258
        ],
        [
         -0.5612465823529095,
         0.3822751538716801
        ],
        [
         -0.6343016953519296,
         0.2920306025199492
        ]
       ],
       "type": "NurbsCurve2D"
      }
     },
     "c55c859b21e346e3acd8ff1134c947a4": {
      "model_module": "@jupyter-widgets/base",
      "model_module_version": "1.2.0",
      "model_name": "LayoutModel",
      "state": {
       "margin": "10px 10px"
      }
     },
     "c55fd922d90f4bf2b30b63878a6970d1": {
      "model_module": "@jupyter-widgets/base",
      "model_module_version": "1.2.0",
      "model_name": "LayoutModel",
      "state": {}
     },
     "c5b03e757d1144179fbc7de7254b9377": {
      "model_module": "@jupyter-widgets/controls",
      "model_module_version": "1.5.0",
      "model_name": "FloatSliderModel",
      "state": {
       "continuous_update": false,
       "description": "shininess",
       "layout": "IPY_MODEL_5df0e44407464b5082e9048c0740eab4",
       "max": 1,
       "step": 0.1,
       "style": "IPY_MODEL_eb248267d4904cb288694c4a95025213",
       "value": 0.2
      }
     },
     "c5bff520458e49c1a4d23632a30a36c1": {
      "model_module": "pgljupyter",
      "model_module_version": "^0.2.1",
      "model_name": "_CurveEditorModel",
      "state": {
       "_model_module_version": "^0.2.1",
       "_view_module_version": "^0.2.1",
       "layout": "IPY_MODEL_6d585c6321704a00b9970863cdb76409",
       "name": "axis8",
       "points": [
        [
         -0.5,
         0
        ],
        [
         -0.4443799997170015,
         0.08445238120155335
        ],
        [
         -0.3881438269897287,
         0.1469370175651897
        ],
        [
         -0.4706173170331641,
         0.3395544757251096
        ],
        [
         -0.6965523668082574,
         0.3107991057537341
        ],
        [
         -0.6965523668082574,
         0.1505906159132135
        ]
       ],
       "type": "NurbsCurve2D"
      }
     },
     "c604c1085ef645b08847d633d8769598": {
      "model_module": "@jupyter-widgets/base",
      "model_module_version": "1.2.0",
      "model_name": "LayoutModel",
      "state": {}
     },
     "c633bd32b87740fbbb1018442b9a0a84": {
      "model_module": "@jupyter-widgets/base",
      "model_module_version": "1.2.0",
      "model_name": "LayoutModel",
      "state": {}
     },
     "c6400d373c2d4d7fa13973620240565f": {
      "model_module": "pgljupyter",
      "model_module_version": "^0.1.21",
      "model_name": "_CurveEditorModel",
      "state": {
       "_model_module_version": "^0.1.21",
       "_view_module_version": "^0.1.21",
       "layout": "IPY_MODEL_42b12b45bfac4f678a050dd71b1776d2",
       "points": [
        [
         -0.5,
         0
        ],
        [
         -0.49552241639640116,
         0.21742664949363016
        ],
        [
         -0.21352716185094664,
         0.22279798767544834
        ],
        [
         -0.18667049143188477,
         0.02405847494817561
        ],
        [
         -0.36929596912367396,
         0.03748682040272106
        ],
        [
         -0.33438227094185574,
         0.1126855549481756
        ]
       ],
       "type": "NurbsCurve2D"
      }
     },
     "c67deeb23e134e3aa848022435b6da65": {
      "model_module": "@jupyter-widgets/base",
      "model_module_version": "1.2.0",
      "model_name": "LayoutModel",
      "state": {}
     },
     "c6c2627e9d644d228992ee683803f03a": {
      "model_module": "@jupyter-widgets/controls",
      "model_module_version": "1.5.0",
      "model_name": "HBoxModel",
      "state": {
       "children": [
        "IPY_MODEL_6e43bf8eba3a447ca78057bb298d1554",
        "IPY_MODEL_45484a759aec47dca5539cefd0d81f96",
        "IPY_MODEL_dd399feeadfe40d4b453656c47e39550"
       ],
       "layout": "IPY_MODEL_6360db2d6474480da1669a12a9c0216d"
      }
     },
     "c715915e4f83480796d08974f4eb4e9c": {
      "model_module": "pgljupyter",
      "model_module_version": "^0.1.21",
      "model_name": "CurveEditorModel",
      "state": {
       "_model_module_version": "^0.1.21",
       "_view_module_version": "^0.1.21",
       "children": [
        "IPY_MODEL_bb4eb19f175b44648687860c512ea226",
        "IPY_MODEL_83d1783a23a14aed8cc67a5d35a0099a"
       ],
       "layout": "IPY_MODEL_642220ebc25a4ccb9f2a7195400fa021"
      }
     },
     "c7877695be7e4870a1d579ad3369f795": {
      "model_module": "@jupyter-widgets/controls",
      "model_module_version": "1.5.0",
      "model_name": "TextModel",
      "state": {
       "continuous_update": false,
       "description": "name",
       "layout": "IPY_MODEL_160fd7402aeb4fd8b2d8592832637b5c",
       "style": "IPY_MODEL_318555735ff3412d9ee52d833ff36b07",
       "value": "axis6"
      }
     },
     "c7a693eeedab4abba91054ec7c49622b": {
      "model_module": "@jupyter-widgets/controls",
      "model_module_version": "1.5.0",
      "model_name": "DescriptionStyleModel",
      "state": {
       "description_width": ""
      }
     },
     "c7bec502d19e49a3b1587ccf226dd53a": {
      "model_module": "@jupyter-widgets/controls",
      "model_module_version": "1.5.0",
      "model_name": "CheckboxModel",
      "state": {
       "description": "Auto apply",
       "disabled": false,
       "layout": "IPY_MODEL_74b7cda3d56d40e1b645c4deb8508153",
       "style": "IPY_MODEL_284dc97be8db4967ac2f6b34fa655b09",
       "value": false
      }
     },
     "c82f206c884f4d2f8b634c8676196481": {
      "model_module": "@jupyter-widgets/controls",
      "model_module_version": "1.5.0",
      "model_name": "DescriptionStyleModel",
      "state": {
       "description_width": ""
      }
     },
     "c89ea9fd40e1423aa9480059b355a054": {
      "model_module": "@jupyter-widgets/controls",
      "model_module_version": "1.5.0",
      "model_name": "HBoxModel",
      "state": {
       "children": [
        "IPY_MODEL_99c2051ee55947a789026848fe302328",
        "IPY_MODEL_25263a7a4f364498b91751e75fb41a50"
       ],
       "layout": "IPY_MODEL_facc124b46fd42f4adfb77dc7edfbe70"
      }
     },
     "c9430facbc4c43249586d851830255aa": {
      "model_module": "@jupyter-widgets/base",
      "model_module_version": "1.2.0",
      "model_name": "LayoutModel",
      "state": {}
     },
     "c94e31e0c58045f9bb40c6ff1ea4099e": {
      "model_module": "@jupyter-widgets/base",
      "model_module_version": "1.2.0",
      "model_name": "LayoutModel",
      "state": {
       "margin": "10px 10px"
      }
     },
     "c96c30425a484fadb75cd2500f06ab5c": {
      "model_module": "@jupyter-widgets/base",
      "model_module_version": "1.2.0",
      "model_name": "LayoutModel",
      "state": {}
     },
     "c985efd8ce904dbea8c66c4f1e6e4b0c": {
      "model_module": "@jupyter-widgets/controls",
      "model_module_version": "1.5.0",
      "model_name": "DescriptionStyleModel",
      "state": {
       "description_width": ""
      }
     },
     "ca54811fb14647db8bb0f9e390d32b15": {
      "model_module": "pgljupyter",
      "model_module_version": "^0.1.21",
      "model_name": "CurveEditorModel",
      "state": {
       "_model_module_version": "^0.1.21",
       "_view_module_version": "^0.1.21",
       "children": [
        "IPY_MODEL_0d1ecf6de9ce436b995b24935bccd4a4",
        "IPY_MODEL_d8941ba6b73c4b04a547dcae61862e46"
       ],
       "layout": "IPY_MODEL_869ac2e0fa9b4a5299d7e2a8f082aba8"
      }
     },
     "caaf13d8edfe45b599ae896ec257fac5": {
      "model_module": "@jupyter-widgets/base",
      "model_module_version": "1.2.0",
      "model_name": "LayoutModel",
      "state": {
       "margin": "20px 0px"
      }
     },
     "cab730a62a9046cc8eaf425c66912ace": {
      "model_module": "@jupyter-widgets/controls",
      "model_module_version": "1.5.0",
      "model_name": "TextModel",
      "state": {
       "continuous_update": false,
       "description": "name",
       "layout": "IPY_MODEL_77c90c9123a14803aca01b5989e97b21",
       "style": "IPY_MODEL_49ccc1947dc6404ab5c4c841aa611a0a",
       "value": "profile"
      }
     },
     "cafda6bdb0c64cd3818394b1449dd61d": {
      "model_module": "@jupyter-widgets/base",
      "model_module_version": "1.2.0",
      "model_name": "LayoutModel",
      "state": {}
     },
     "cb0aa0b6e04c48fca905bc3195a5c973": {
      "model_module": "@jupyter-widgets/controls",
      "model_module_version": "1.5.0",
      "model_name": "TextModel",
      "state": {
       "continuous_update": false,
       "description": "name",
       "layout": "IPY_MODEL_84d9ac8dbf9542598e9f052bbe80956c",
       "style": "IPY_MODEL_492b317ef2c34348bbb46d5ebf44325b",
       "value": "axis3"
      }
     },
     "cb11477cd8b8443fb9fd91cace34dbef": {
      "model_module": "pgljupyter",
      "model_module_version": "^0.1.21",
      "model_name": "_CurveEditorModel",
      "state": {
       "_model_module_version": "^0.1.21",
       "_view_module_version": "^0.1.21",
       "layout": "IPY_MODEL_5b52185e85ba4264bed1213f796e85dd",
       "points": [
        [
         -0.5,
         0
        ],
        [
         -0.44177944697623517,
         0.10954939207802514
        ],
        [
         -0.38806606515805336,
         0.2035478102598433
        ],
        [
         -0.31018166152168974,
         0.2465185157143888
        ],
        [
         -0.21618322284984254,
         0.25994686116893423
        ],
        [
         -0.15441287473899162,
         0.14177742116893421
        ]
       ],
       "type": "NurbsCurve2D"
      }
     },
     "cb500021be354ccc918085984c4cdda8": {
      "model_module": "@jupyter-widgets/controls",
      "model_module_version": "1.5.0",
      "model_name": "CheckboxModel",
      "state": {
       "description": "Auto save",
       "disabled": false,
       "layout": "IPY_MODEL_3f7bdc20b4d242ce9dc81b57434f3d48",
       "style": "IPY_MODEL_bcee2794a576463791a427478648bef1",
       "value": false
      }
     },
     "cb6cc5281e9d4a5ca993511aeda7a68a": {
      "model_module": "@jupyter-widgets/controls",
      "model_module_version": "1.5.0",
      "model_name": "HBoxModel",
      "state": {
       "children": [
        "IPY_MODEL_69a297f69b1c4d5591a5c74be9aa39d6"
       ],
       "layout": "IPY_MODEL_f75c8e82dd674f7a9f63f47db4a4ed63"
      }
     },
     "cbc1c0131ab14902a8776c6b402f154c": {
      "model_module": "@jupyter-widgets/base",
      "model_module_version": "1.2.0",
      "model_name": "LayoutModel",
      "state": {}
     },
     "cbccdf273cf04ff1a40fcdc8b01c3b52": {
      "model_module": "pgljupyter",
      "model_module_version": "^0.2.1",
      "model_name": "_CurveEditorModel",
      "state": {
       "_model_module_version": "^0.2.1",
       "_view_module_version": "^0.2.1",
       "layout": "IPY_MODEL_8ec643e3ec3745d0ab8963a083c13ead",
       "name": "axis7",
       "points": [
        [
         -0.5,
         0
        ],
        [
         -0.45381259264846796,
         0.12013621899284291
        ],
        [
         -0.3893521988258032,
         0.2189754895209291
        ],
        [
         -0.43232579470757976,
         0.3350041984017258
        ],
        [
         -0.5612465823529095,
         0.3822751538716801
        ],
        [
         -0.6343016953519296,
         0.2920306025199492
        ]
       ],
       "type": "NurbsCurve2D"
      }
     },
     "cc9ab34208bc47a2ad6f26cede042d30": {
      "model_module": "@jupyter-widgets/controls",
      "model_module_version": "1.5.0",
      "model_name": "ButtonStyleModel",
      "state": {}
     },
     "cd2ca0ab4f6342c59c3aa49a3ee5e991": {
      "model_module": "@jupyter-widgets/controls",
      "model_module_version": "1.5.0",
      "model_name": "DescriptionStyleModel",
      "state": {
       "description_width": ""
      }
     },
     "cd2f693e5535485db2d1d80e79e90c58": {
      "model_module": "@jupyter-widgets/base",
      "model_module_version": "1.2.0",
      "model_name": "LayoutModel",
      "state": {}
     },
     "cd90f1113bd1455aaffade7579a56b76": {
      "model_module": "@jupyter-widgets/base",
      "model_module_version": "1.2.0",
      "model_name": "LayoutModel",
      "state": {}
     },
     "cdc296f867854ef081290a318c1acc5b": {
      "model_module": "@jupyter-widgets/controls",
      "model_module_version": "1.5.0",
      "model_name": "DescriptionStyleModel",
      "state": {
       "description_width": ""
      }
     },
     "ce2039c6d9b1489baada74133c09a360": {
      "model_module": "@jupyter-widgets/controls",
      "model_module_version": "1.5.0",
      "model_name": "VBoxModel",
      "state": {
       "children": [
        "IPY_MODEL_c89ea9fd40e1423aa9480059b355a054",
        "IPY_MODEL_4d2b037f45f047a390b107e0db031eb7"
       ],
       "layout": "IPY_MODEL_ed63737a4ff6481f888a2bf373034a6e"
      }
     },
     "ce23d217c5494b8db75807205264670f": {
      "model_module": "pgljupyter",
      "model_module_version": "^0.1.2",
      "model_name": "CurveEditorModel",
      "state": {
       "_model_module_version": "^0.1.2",
       "_view_module_version": "^0.1.2",
       "control_points": [
        [
         -0.4523769271054077,
         -0.005600587799786658
        ],
        [
         -0.3767718616508623,
         0.06190393492748608
        ],
        [
         -0.31736788165086227,
         0.11860773401839517
        ],
        [
         -0.25256353983268054,
         0.16991117129112243
        ],
        [
         -0.19585974074177137,
         0.23471551310930427
        ],
        [
         -0.11903621541579021,
         0.3431250146903886
        ]
       ],
       "curve_type": [
        "NurbsCurve2D"
       ],
       "layout": "IPY_MODEL_844c7a82dd584de8b2c3a9b9099cadd0",
       "name": "axis4"
      }
     },
     "ce67ef359e9241b3be29c793ff86f065": {
      "model_module": "@jupyter-widgets/base",
      "model_module_version": "1.2.0",
      "model_name": "LayoutModel",
      "state": {}
     },
     "cf16ffa1db61469986895803cd44d9d2": {
      "model_module": "@jupyter-widgets/base",
      "model_module_version": "1.2.0",
      "model_name": "LayoutModel",
      "state": {}
     },
     "cf5b3a1fda9b49db826785c7f7762d18": {
      "model_module": "@jupyter-widgets/base",
      "model_module_version": "1.2.0",
      "model_name": "LayoutModel",
      "state": {}
     },
     "cf6798a101d44eea973f01a92c0df6dc": {
      "model_module": "@jupyter-widgets/controls",
      "model_module_version": "1.5.0",
      "model_name": "VBoxModel",
      "state": {
       "children": [
        "IPY_MODEL_16ded74879de4306a0f041603bfa009f",
        "IPY_MODEL_ab47a19ca7914e579102109ca39fe869"
       ],
       "layout": "IPY_MODEL_2c5001c1ec134706865aba1b1922a6e8"
      }
     },
     "cfa72d9f7b5d4bf2ac63fb91700ce5fb": {
      "model_module": "@jupyter-widgets/controls",
      "model_module_version": "1.5.0",
      "model_name": "TextModel",
      "state": {
       "continuous_update": false,
       "description": "name",
       "layout": "IPY_MODEL_3cb5b08801f343e98b1caca5e8dce646",
       "style": "IPY_MODEL_c985efd8ce904dbea8c66c4f1e6e4b0c",
       "value": "axis3"
      }
     },
     "cfb42e1af2e74feb881983e338cdf189": {
      "model_module": "@jupyter-widgets/base",
      "model_module_version": "1.2.0",
      "model_name": "LayoutModel",
      "state": {}
     },
     "cfd9aa0705e641b7a5e51fa20b7c23de": {
      "model_module": "@jupyter-widgets/base",
      "model_module_version": "1.2.0",
      "model_name": "LayoutModel",
      "state": {}
     },
     "d0095486f0414e88b864aad849c6ca4b": {
      "model_module": "@jupyter-widgets/controls",
      "model_module_version": "1.5.0",
      "model_name": "ColorPickerModel",
      "state": {
       "description": "ambient",
       "disabled": false,
       "layout": "IPY_MODEL_c2cf0f6b3d2e40cbb7d1e15b5e391b74",
       "style": "IPY_MODEL_85d3eb7c25b2405cbc82e74c62c7969a",
       "value": "#295426"
      }
     },
     "d015a1c1a4b940e6b21e4df89d27f680": {
      "model_module": "@jupyter-widgets/controls",
      "model_module_version": "1.5.0",
      "model_name": "VBoxModel",
      "state": {
       "children": [
        "IPY_MODEL_d794b8e1001146ada433a7122cc5ee48",
        "IPY_MODEL_da7cbf38a6714a208b79eb8c8000e66e"
       ],
       "layout": "IPY_MODEL_06c4cc2556b04c6bba74be9ef247eb68"
      }
     },
     "d10faea533ad46d5a6090503de58d3e8": {
      "model_module": "@jupyter-widgets/controls",
      "model_module_version": "1.5.0",
      "model_name": "DropdownModel",
      "state": {
       "_options_labels": [
        "Color"
       ],
       "index": 0,
       "layout": "IPY_MODEL_de85df07e2394522a5a18231b74ea1c4",
       "style": "IPY_MODEL_f59034d6cd074a8c8e5ff1547817e92a"
      }
     },
     "d14c2c481b7c4c659408c58992c75771": {
      "model_module": "@jupyter-widgets/base",
      "model_module_version": "1.2.0",
      "model_name": "LayoutModel",
      "state": {}
     },
     "d16ce5cc7ba1442985fee09ebe79d36c": {
      "model_module": "@jupyter-widgets/controls",
      "model_module_version": "1.5.0",
      "model_name": "DescriptionStyleModel",
      "state": {
       "description_width": ""
      }
     },
     "d1f5138764144f029c85b0b228644aac": {
      "model_module": "@jupyter-widgets/controls",
      "model_module_version": "1.5.0",
      "model_name": "TextModel",
      "state": {
       "layout": "IPY_MODEL_e7bb31efad0c431d8a9734e7c19672c0",
       "style": "IPY_MODEL_1c4494b2e62545c8a9ed10126738df1c",
       "value": "axis5"
      }
     },
     "d21f4a6e0b30406bb2eb868804c2daa1": {
      "model_module": "@jupyter-widgets/base",
      "model_module_version": "1.2.0",
      "model_name": "LayoutModel",
      "state": {}
     },
     "d276f4db174a4a859ff4c73972bc6808": {
      "model_module": "@jupyter-widgets/base",
      "model_module_version": "1.2.0",
      "model_name": "LayoutModel",
      "state": {}
     },
     "d29d8f9c2f18484087610969c8667c7b": {
      "model_module": "@jupyter-widgets/controls",
      "model_module_version": "1.5.0",
      "model_name": "HBoxModel",
      "state": {
       "layout": "IPY_MODEL_4cf2ed2a79ed4c2db77abcc41e95d522"
      }
     },
     "d2ba063161fe4e97b51c3c2c209ffe94": {
      "model_module": "@jupyter-widgets/base",
      "model_module_version": "1.2.0",
      "model_name": "LayoutModel",
      "state": {}
     },
     "d2c1560fdfdc42778fef89b6511fe8be": {
      "model_module": "pgljupyter",
      "model_module_version": "^0.2.1",
      "model_name": "CurveEditorModel",
      "state": {
       "_model_module_version": "^0.2.1",
       "_view_module_version": "^0.2.1",
       "children": [
        "IPY_MODEL_3fff19501fb141709323fd28c9fe757f",
        "IPY_MODEL_58bc023aebd5405d830556bc26f04050"
       ],
       "layout": "IPY_MODEL_9a4378c16c1c4288ba35bde1f22850b2"
      }
     },
     "d32b8222cc6f4647aa15b4a994fd1f0b": {
      "model_module": "@jupyter-widgets/base",
      "model_module_version": "1.2.0",
      "model_name": "LayoutModel",
      "state": {}
     },
     "d34f9e1811a64014b41a9906e47bc0c5": {
      "model_module": "@jupyter-widgets/controls",
      "model_module_version": "1.5.0",
      "model_name": "DescriptionStyleModel",
      "state": {
       "description_width": ""
      }
     },
     "d383ed8d1aae42ca890b46f70083fdd1": {
      "model_module": "@jupyter-widgets/controls",
      "model_module_version": "1.5.0",
      "model_name": "DescriptionStyleModel",
      "state": {
       "description_width": ""
      }
     },
     "d3f58b8e364c4cbf80a30d74b144fb13": {
      "model_module": "@jupyter-widgets/controls",
      "model_module_version": "1.5.0",
      "model_name": "TextModel",
      "state": {
       "layout": "IPY_MODEL_316af18d976144718476bf95cf43e0ce",
       "style": "IPY_MODEL_f8ec916b06dd450b944798a8c556fafa",
       "value": "axis9"
      }
     },
     "d4696ab49a1f422d95c6548db1de435e": {
      "model_module": "@jupyter-widgets/base",
      "model_module_version": "1.2.0",
      "model_name": "LayoutModel",
      "state": {}
     },
     "d49b54a228b14f74981fd96ed37a5f04": {
      "model_module": "@jupyter-widgets/controls",
      "model_module_version": "1.5.0",
      "model_name": "DescriptionStyleModel",
      "state": {
       "description_width": ""
      }
     },
     "d51e807a9631477490754dd2890328e1": {
      "model_module": "@jupyter-widgets/base",
      "model_module_version": "1.2.0",
      "model_name": "LayoutModel",
      "state": {}
     },
     "d526df4e62ee4ceda8e70c0c4d268fc2": {
      "model_module": "pgljupyter",
      "model_module_version": "^0.2.1",
      "model_name": "CurveEditorModel",
      "state": {
       "_model_module_version": "^0.2.1",
       "_view_module_version": "^0.2.1",
       "children": [
        "IPY_MODEL_c7877695be7e4870a1d579ad3369f795",
        "IPY_MODEL_ec983ce2f8ab43eca6ebf765db4e30d2"
       ],
       "layout": "IPY_MODEL_c94e31e0c58045f9bb40c6ff1ea4099e"
      }
     },
     "d5aa7ec196394332ad03abcf958499a4": {
      "model_module": "@jupyter-widgets/controls",
      "model_module_version": "1.5.0",
      "model_name": "TextModel",
      "state": {
       "continuous_update": false,
       "description": "name",
       "layout": "IPY_MODEL_e68a6da627fa4d65a7feb3fb74e2eb09",
       "style": "IPY_MODEL_0b97924d67b047fca3e72c660903334c",
       "value": "axis7"
      }
     },
     "d5b1b6a91eeb43a49fd688ae392401a9": {
      "model_module": "@jupyter-widgets/controls",
      "model_module_version": "1.5.0",
      "model_name": "ButtonStyleModel",
      "state": {}
     },
     "d62e3218def948488ca7827774f70a33": {
      "model_module": "@jupyter-widgets/base",
      "model_module_version": "1.2.0",
      "model_name": "LayoutModel",
      "state": {}
     },
     "d64334cfc45240b78622649893bc6897": {
      "model_module": "@jupyter-widgets/base",
      "model_module_version": "1.2.0",
      "model_name": "LayoutModel",
      "state": {}
     },
     "d6a8f2049b5c472996a87869a5f7a3ae": {
      "model_module": "pgljupyter",
      "model_module_version": "^0.1.21",
      "model_name": "CurveEditorModel",
      "state": {
       "_model_module_version": "^0.1.21",
       "_view_module_version": "^0.1.21",
       "children": [
        "IPY_MODEL_cfa72d9f7b5d4bf2ac63fb91700ce5fb",
        "IPY_MODEL_cb11477cd8b8443fb9fd91cace34dbef"
       ],
       "layout": "IPY_MODEL_274f2f98769a4e5ab02ca59609bad38f"
      }
     },
     "d6f4b453a3e444b095c9fe58965477ab": {
      "model_module": "@jupyter-widgets/base",
      "model_module_version": "1.2.0",
      "model_name": "LayoutModel",
      "state": {}
     },
     "d7505459bd964bcaa36e88176108762f": {
      "model_module": "@jupyter-widgets/base",
      "model_module_version": "1.2.0",
      "model_name": "LayoutModel",
      "state": {}
     },
     "d751adc50dca4d0fae94417ff082506e": {
      "model_module": "@jupyter-widgets/controls",
      "model_module_version": "1.5.0",
      "model_name": "TextModel",
      "state": {
       "continuous_update": false,
       "description": "name",
       "layout": "IPY_MODEL_ae8eaebada1f49dea33c8abef7fad674",
       "style": "IPY_MODEL_e6a8806bac92436dae444f53cf071a6e",
       "value": "leaf"
      }
     },
     "d794b8e1001146ada433a7122cc5ee48": {
      "model_module": "@jupyter-widgets/controls",
      "model_module_version": "1.5.0",
      "model_name": "TextModel",
      "state": {
       "layout": "IPY_MODEL_7dc157ae14a043289d9848008b34c21a",
       "style": "IPY_MODEL_082cde4cd1114a21bcfc625d0547883f",
       "value": "axis3"
      }
     },
     "d7a99f395950452aa00b5884a8236732": {
      "model_module": "@jupyter-widgets/base",
      "model_module_version": "1.2.0",
      "model_name": "LayoutModel",
      "state": {}
     },
     "d7c69df14ff44b8e85fa284de5c0a402": {
      "model_module": "@jupyter-widgets/controls",
      "model_module_version": "1.5.0",
      "model_name": "ButtonStyleModel",
      "state": {}
     },
     "d8144a0e8d1c4e8ea8706071bdbe94ff": {
      "model_module": "@jupyter-widgets/base",
      "model_module_version": "1.2.0",
      "model_name": "LayoutModel",
      "state": {}
     },
     "d83da9db7a95463ea909e8c525c3310c": {
      "model_module": "@jupyter-widgets/controls",
      "model_module_version": "1.5.0",
      "model_name": "HBoxModel",
      "state": {
       "children": [
        "IPY_MODEL_555aee09a7704b20902e062bb1ced7d1",
        "IPY_MODEL_6d5eeaf3f2a84136bcab3ea36aca9535"
       ],
       "layout": "IPY_MODEL_facc124b46fd42f4adfb77dc7edfbe70"
      }
     },
     "d86ef9379de742bd9ed1da5b57f835b0": {
      "model_module": "@jupyter-widgets/controls",
      "model_module_version": "1.5.0",
      "model_name": "CheckboxModel",
      "state": {
       "description": "Auto apply",
       "disabled": false,
       "layout": "IPY_MODEL_5d8cc1bf39f947ffac11a98de88441df",
       "style": "IPY_MODEL_7a5c85fb554c4f0a865257f017902edb",
       "value": false
      }
     },
     "d8941ba6b73c4b04a547dcae61862e46": {
      "model_module": "pgljupyter",
      "model_module_version": "^0.1.21",
      "model_name": "_CurveEditorModel",
      "state": {
       "_model_module_version": "^0.1.21",
       "_view_module_version": "^0.1.21",
       "layout": "IPY_MODEL_d62e3218def948488ca7827774f70a33",
       "points": [
        [
         -0.5,
         0
        ],
        [
         -0.46537859650133195,
         0.1437906475518601
        ],
        [
         -0.3790209986412258,
         0.2681455884704129
        ],
        [
         -0.24084882888793227,
         0.2785085002136257
        ],
        [
         -0.15794553494223032,
         0.1541535592950728
        ],
        [
         -0.29611769151840023,
         0.04016153011973264
        ]
       ],
       "type": "NurbsCurve2D"
      }
     },
     "d8e52af316fa46d19c4d6e7b45db3016": {
      "model_module": "@jupyter-widgets/controls",
      "model_module_version": "1.5.0",
      "model_name": "DescriptionStyleModel",
      "state": {
       "description_width": ""
      }
     },
     "d8ec29166d104111becce29bf4adb715": {
      "model_module": "@jupyter-widgets/controls",
      "model_module_version": "1.5.0",
      "model_name": "TextModel",
      "state": {
       "continuous_update": false,
       "description": "name",
       "layout": "IPY_MODEL_e493c74a6e3d4f40be1328496d55ea69",
       "style": "IPY_MODEL_0f2c91b797e44af1877223cd84f40e80",
       "value": "axis3"
      }
     },
     "d90b19f2eab44633a066dd94dda06553": {
      "model_module": "@jupyter-widgets/controls",
      "model_module_version": "1.5.0",
      "model_name": "DescriptionStyleModel",
      "state": {
       "description_width": ""
      }
     },
     "d987a2962bdd44ff8fc70c8524f2a422": {
      "model_module": "@jupyter-widgets/base",
      "model_module_version": "1.2.0",
      "model_name": "LayoutModel",
      "state": {}
     },
     "d98d9f07167e49f08314e06d303b925d": {
      "model_module": "@jupyter-widgets/controls",
      "model_module_version": "1.5.0",
      "model_name": "DescriptionStyleModel",
      "state": {
       "description_width": ""
      }
     },
     "da7cbf38a6714a208b79eb8c8000e66e": {
      "model_module": "pgljupyter",
      "model_module_version": "^0.1.2",
      "model_name": "CurveEditorModel",
      "state": {
       "_model_module_version": "^0.1.2",
       "_view_module_version": "^0.1.2",
       "control_points": [
        [
         -0.5,
         0
        ],
        [
         -0.44177944697623517,
         0.10954939207802514
        ],
        [
         -0.38806606515805336,
         0.2035478102598433
        ],
        [
         -0.31018166152168974,
         0.2465185157143888
        ],
        [
         -0.21618322284984254,
         0.25994686116893423
        ],
        [
         -0.15441287473899162,
         0.14177742116893421
        ]
       ],
       "curve_type": [
        "NurbsCurve2D"
       ],
       "layout": "IPY_MODEL_9df750f7245549b7b2b73e024341c0b1",
       "name": "axis3"
      }
     },
     "dac41b2f2be5409dbb63b82d0cd20573": {
      "model_module": "@jupyter-widgets/base",
      "model_module_version": "1.2.0",
      "model_name": "LayoutModel",
      "state": {}
     },
     "db06ab4d668747c4bea3c6d3ab4c6223": {
      "model_module": "@jupyter-widgets/controls",
      "model_module_version": "1.5.0",
      "model_name": "VBoxModel",
      "state": {
       "children": [
        "IPY_MODEL_c6c2627e9d644d228992ee683803f03a",
        "IPY_MODEL_e86bf4bd2caa4c1d9d27575e1a758009"
       ],
       "layout": "IPY_MODEL_d8144a0e8d1c4e8ea8706071bdbe94ff"
      }
     },
     "db43cc9fa78c4567ae8ee48a155740db": {
      "model_module": "@jupyter-widgets/base",
      "model_module_version": "1.2.0",
      "model_name": "LayoutModel",
      "state": {}
     },
     "dc7abecf20cb405d8c3eec853e705dd3": {
      "model_module": "@jupyter-widgets/controls",
      "model_module_version": "1.5.0",
      "model_name": "ColorPickerModel",
      "state": {
       "description": "emission",
       "disabled": false,
       "layout": "IPY_MODEL_8bcab187147341f09cc7d2db43c6a8a5",
       "style": "IPY_MODEL_3031ecc0b3f04d8e9564348dbca1c58b",
       "value": "#000000"
      }
     },
     "dcc218bd39824f6192c717401186e433": {
      "model_module": "@jupyter-widgets/base",
      "model_module_version": "1.2.0",
      "model_name": "LayoutModel",
      "state": {}
     },
     "dce4803a6a9c4981a35b6247e2a5c7e2": {
      "model_module": "@jupyter-widgets/controls",
      "model_module_version": "1.5.0",
      "model_name": "ButtonStyleModel",
      "state": {}
     },
     "dd399feeadfe40d4b453656c47e39550": {
      "model_module": "@jupyter-widgets/controls",
      "model_module_version": "1.5.0",
      "model_name": "HBoxModel",
      "state": {
       "children": [
        "IPY_MODEL_2f62997022a348babbc7dabd058e261d",
        "IPY_MODEL_0b7cacc497c047ec804c28f65112e221"
       ],
       "layout": "IPY_MODEL_2eef65863b404511b5196d18ec538629"
      }
     },
     "dd41c679d44849eb86d8642b2bdaade4": {
      "model_module": "pgljupyter",
      "model_module_version": "^0.2.1",
      "model_name": "_CurveEditorModel",
      "state": {
       "_model_module_version": "^0.2.1",
       "_view_module_version": "^0.2.1",
       "layout": "IPY_MODEL_577e0eb793e840698e70cb19294f4408",
       "name": "axis5",
       "points": [
        [
         -0.5,
         0
        ],
        [
         -0.42353109378640263,
         0.09292297178631177
        ],
        [
         -0.3614269431776844,
         0.1631276754226754
        ],
        [
         -0.311815335240922,
         0.27436190918077913
        ],
        [
         -0.2510197531605952,
         0.39595307334143276
        ],
        [
         -0.3878098128413305,
         0.4529489315417391
        ]
       ],
       "type": "NurbsCurve2D"
      }
     },
     "dd57b716058c4755a82a764c879a0d4e": {
      "model_module": "@jupyter-widgets/controls",
      "model_module_version": "1.5.0",
      "model_name": "DescriptionStyleModel",
      "state": {
       "description_width": ""
      }
     },
     "dd5fe37ccd5943658fdeaa0fa05a5552": {
      "model_module": "@jupyter-widgets/base",
      "model_module_version": "1.2.0",
      "model_name": "LayoutModel",
      "state": {}
     },
     "dda551f304b841238c88801fc611013e": {
      "model_module": "pgljupyter",
      "model_module_version": "^0.1.21",
      "model_name": "CurveEditorModel",
      "state": {
       "_model_module_version": "^0.1.21",
       "_view_module_version": "^0.1.21",
       "children": [
        "IPY_MODEL_d5aa7ec196394332ad03abcf958499a4",
        "IPY_MODEL_c4fb31685eb644f3a47fa7533d454eb5"
       ],
       "layout": "IPY_MODEL_ea112be1bace4734a40d1a0a0535604d"
      }
     },
     "ddf62d2c7baf451f9584a5c23b337553": {
      "model_module": "pgljupyter",
      "model_module_version": "^0.1.21",
      "model_name": "_CurveEditorModel",
      "state": {
       "_model_module_version": "^0.1.21",
       "_view_module_version": "^0.1.21",
       "layout": "IPY_MODEL_3e889b7efc1142f38ddfa623e77d747d",
       "points": [
        [
         -0.5,
         0
        ],
        [
         -0.42353109378640263,
         0.09292297178631177
        ],
        [
         -0.3614269431776844,
         0.1631276754226754
        ],
        [
         -0.311815335240922,
         0.27436190918077913
        ],
        [
         -0.2510197531605952,
         0.39595307334143276
        ],
        [
         -0.3878098128413305,
         0.4529489315417391
        ]
       ],
       "type": "NurbsCurve2D"
      }
     },
     "de279fc62bf942d9a40e5c34c861dc4a": {
      "model_module": "@jupyter-widgets/base",
      "model_module_version": "1.2.0",
      "model_name": "LayoutModel",
      "state": {}
     },
     "de2ce232171045759eba9bd67b4eb6a2": {
      "model_module": "pgljupyter",
      "model_module_version": "^0.1.21",
      "model_name": "CurveEditorModel",
      "state": {
       "_model_module_version": "^0.1.21",
       "_view_module_version": "^0.1.21",
       "children": [
        "IPY_MODEL_ecd131ddd0a447a0871f5ecc9860ede7",
        "IPY_MODEL_0353e62960d04f27a258344120aadbc1"
       ],
       "layout": "IPY_MODEL_f5a290c7f6994e51b3a417ca431fa4a1"
      }
     },
     "de85df07e2394522a5a18231b74ea1c4": {
      "model_module": "@jupyter-widgets/base",
      "model_module_version": "1.2.0",
      "model_name": "LayoutModel",
      "state": {}
     },
     "de8e5310d13c47179ac3d3a6e634fc48": {
      "model_module": "@jupyter-widgets/controls",
      "model_module_version": "1.5.0",
      "model_name": "HBoxModel",
      "state": {
       "children": [
        "IPY_MODEL_efee510a45ce431588e53875880586e0",
        "IPY_MODEL_bf1da90ce4f741cdb084fca4e2631539"
       ],
       "layout": "IPY_MODEL_11a23a35fb1c42b78bfc9ad865249a93"
      }
     },
     "de93dd2bff5f40bca40fac8f8a655011": {
      "model_module": "@jupyter-widgets/controls",
      "model_module_version": "1.5.0",
      "model_name": "HBoxModel",
      "state": {
       "children": [
        "IPY_MODEL_e2ed3b50fd734f61aa2fdafdc614d323",
        "IPY_MODEL_c7bec502d19e49a3b1587ccf226dd53a"
       ],
       "layout": "IPY_MODEL_83f7eea1f8a64e2abdde51077f391216"
      }
     },
     "deba092a502d406c9af6466838ae89a8": {
      "model_module": "@jupyter-widgets/controls",
      "model_module_version": "1.5.0",
      "model_name": "DescriptionStyleModel",
      "state": {
       "description_width": ""
      }
     },
     "def39d2b7b7544378cc49821fe714b85": {
      "model_module": "@jupyter-widgets/base",
      "model_module_version": "1.2.0",
      "model_name": "LayoutModel",
      "state": {}
     },
     "df64f32e331d4782a9e19106286c60ea": {
      "model_module": "pgljupyter",
      "model_module_version": "^0.2.1",
      "model_name": "_CurveEditorModel",
      "state": {
       "_model_module_version": "^0.2.1",
       "_view_module_version": "^0.2.1",
       "layout": "IPY_MODEL_374c60255e5b401796ad42b28797196f",
       "name": "axis3",
       "points": [
        [
         -0.5,
         0
        ],
        [
         -0.44177944697623517,
         0.10954939207802514
        ],
        [
         -0.38806606515805336,
         0.2035478102598433
        ],
        [
         -0.31018166152168974,
         0.2465185157143888
        ],
        [
         -0.21618322284984254,
         0.25994686116893423
        ],
        [
         -0.15441287473899162,
         0.14177742116893421
        ]
       ],
       "type": "NurbsCurve2D"
      }
     },
     "df8297dacd8641c58deb88c71d46a9bb": {
      "model_module": "pgljupyter",
      "model_module_version": "^0.1.21",
      "model_name": "_CurveEditorModel",
      "state": {
       "_model_module_version": "^0.1.21",
       "_view_module_version": "^0.1.21",
       "layout": "IPY_MODEL_a1142a93e8e74a0fb23cbde8a516c4dd",
       "points": [
        [
         -0.5,
         0
        ],
        [
         -0.44177944697623517,
         0.10954939207802514
        ],
        [
         -0.38806606515805336,
         0.2035478102598433
        ],
        [
         -0.31018166152168974,
         0.2465185157143888
        ],
        [
         -0.21618322284984254,
         0.25994686116893423
        ],
        [
         -0.15441287473899162,
         0.14177742116893421
        ]
       ],
       "type": "NurbsCurve2D"
      }
     },
     "e03237d62d49421c8ec240e646b018da": {
      "model_module": "@jupyter-widgets/controls",
      "model_module_version": "1.5.0",
      "model_name": "CheckboxModel",
      "state": {
       "description": "Auto save",
       "disabled": false,
       "layout": "IPY_MODEL_f2830083f54d479f98b05652b6f5e8f3",
       "style": "IPY_MODEL_99b4f6f8bed445c1b3fda9aaea825a72",
       "value": false
      }
     },
     "e04345243fcd4fc280d3b8097b0ceea1": {
      "model_module": "@jupyter-widgets/base",
      "model_module_version": "1.2.0",
      "model_name": "LayoutModel",
      "state": {}
     },
     "e1490d160b73494f8180bcbe96ab2ea5": {
      "model_module": "@jupyter-widgets/base",
      "model_module_version": "1.2.0",
      "model_name": "LayoutModel",
      "state": {}
     },
     "e1ed47d9e3b34da7bd3673a0c27161a2": {
      "model_module": "@jupyter-widgets/base",
      "model_module_version": "1.2.0",
      "model_name": "LayoutModel",
      "state": {}
     },
     "e236530a390b41b397983b5a8dbd2362": {
      "model_module": "@jupyter-widgets/base",
      "model_module_version": "1.2.0",
      "model_name": "LayoutModel",
      "state": {}
     },
     "e27f4558d0b6408b82e1ee5d27b5a5e0": {
      "model_module": "pgljupyter",
      "model_module_version": "^0.1.21",
      "model_name": "CurveEditorModel",
      "state": {
       "_model_module_version": "^0.1.21",
       "_view_module_version": "^0.1.21",
       "children": [
        "IPY_MODEL_f931313a304544da9ced0be4a1f2cc0b",
        "IPY_MODEL_fbc2631e510b457b97408e660edbdf6a"
       ],
       "layout": "IPY_MODEL_67f14998b25f4bda864edcba7deeeb7e"
      }
     },
     "e2ed3b50fd734f61aa2fdafdc614d323": {
      "model_module": "@jupyter-widgets/controls",
      "model_module_version": "1.5.0",
      "model_name": "ButtonModel",
      "state": {
       "description": "Apply changes",
       "layout": "IPY_MODEL_7ccb3a9d7b7843998e0ddee4297c6bd4",
       "style": "IPY_MODEL_315d176038c84c2784755cad6489f368"
      }
     },
     "e32ee633167143fab04f65c37915efa0": {
      "model_module": "@jupyter-widgets/base",
      "model_module_version": "1.2.0",
      "model_name": "LayoutModel",
      "state": {}
     },
     "e3c0d08cc1d1475ebe0406d249951815": {
      "model_module": "@jupyter-widgets/base",
      "model_module_version": "1.2.0",
      "model_name": "LayoutModel",
      "state": {}
     },
     "e4653aeaca144f8d890d29e5adb5f696": {
      "model_module": "@jupyter-widgets/base",
      "model_module_version": "1.2.0",
      "model_name": "LayoutModel",
      "state": {}
     },
     "e493c74a6e3d4f40be1328496d55ea69": {
      "model_module": "@jupyter-widgets/base",
      "model_module_version": "1.2.0",
      "model_name": "LayoutModel",
      "state": {}
     },
     "e4c5589a000f4d1f9142bf6c770bb41c": {
      "model_module": "@jupyter-widgets/controls",
      "model_module_version": "1.5.0",
      "model_name": "DropdownModel",
      "state": {
       "index": null,
       "layout": "IPY_MODEL_de279fc62bf942d9a40e5c34c861dc4a",
       "style": "IPY_MODEL_2c7ee3ed183f43af9b0d90aa6dc67986"
      }
     },
     "e4d05ef1d6934746ac585a06f57e5db5": {
      "model_module": "@jupyter-widgets/controls",
      "model_module_version": "1.5.0",
      "model_name": "FloatSliderModel",
      "state": {
       "description": "diffuse",
       "layout": "IPY_MODEL_e1ed47d9e3b34da7bd3673a0c27161a2",
       "max": 3,
       "step": 0.1,
       "style": "IPY_MODEL_ed41dc4472634074bedb2fab3cdd2d59",
       "value": 1
      }
     },
     "e5313d98ca5d443b9eb04d36cc266671": {
      "model_module": "@jupyter-widgets/controls",
      "model_module_version": "1.5.0",
      "model_name": "HBoxModel",
      "state": {
       "children": [
        "IPY_MODEL_de93dd2bff5f40bca40fac8f8a655011",
        "IPY_MODEL_3cbac16c462d4bc3a54db8d27a570724",
        "IPY_MODEL_8869bcf7e1e6480ea4a4a29d5ede73fe"
       ],
       "layout": "IPY_MODEL_03aada7c165947eb9a8cc0d31fbe4daf"
      }
     },
     "e5c039e636c540758135337c8eb82bbc": {
      "model_module": "@jupyter-widgets/controls",
      "model_module_version": "1.5.0",
      "model_name": "TextModel",
      "state": {
       "continuous_update": false,
       "description": "name",
       "layout": "IPY_MODEL_4305026877a54ddaa73b4a7e9b01b326",
       "style": "IPY_MODEL_feed37e5878e43e691a6d47c8ee7a805",
       "value": "leafwidth"
      }
     },
     "e68a6da627fa4d65a7feb3fb74e2eb09": {
      "model_module": "@jupyter-widgets/base",
      "model_module_version": "1.2.0",
      "model_name": "LayoutModel",
      "state": {}
     },
     "e6a8806bac92436dae444f53cf071a6e": {
      "model_module": "@jupyter-widgets/controls",
      "model_module_version": "1.5.0",
      "model_name": "DescriptionStyleModel",
      "state": {
       "description_width": ""
      }
     },
     "e7bb31efad0c431d8a9734e7c19672c0": {
      "model_module": "@jupyter-widgets/base",
      "model_module_version": "1.2.0",
      "model_name": "LayoutModel",
      "state": {}
     },
     "e7dd3f0396a04237aafad91514432dc7": {
      "model_module": "@jupyter-widgets/base",
      "model_module_version": "1.2.0",
      "model_name": "LayoutModel",
      "state": {
       "margin": "20px 0px"
      }
     },
     "e82ab58b055044a3a624b54665e7d4b2": {
      "model_module": "@jupyter-widgets/controls",
      "model_module_version": "1.5.0",
      "model_name": "DescriptionStyleModel",
      "state": {
       "description_width": ""
      }
     },
     "e86bf4bd2caa4c1d9d27575e1a758009": {
      "model_module": "@jupyter-widgets/controls",
      "model_module_version": "1.5.0",
      "model_name": "TabModel",
      "state": {
       "_titles": {
        "0": "dynamicprofile.json"
       },
       "children": [
        "IPY_MODEL_f9ce844e108e4b8cae10f85d3324bfc7"
       ],
       "layout": "IPY_MODEL_a71962e096c74c528b21ab81076b2b93"
      }
     },
     "e90a8de524b6444290d4efe8cfd5487d": {
      "model_module": "@jupyter-widgets/controls",
      "model_module_version": "1.5.0",
      "model_name": "TextModel",
      "state": {
       "continuous_update": false,
       "description": "name",
       "layout": "IPY_MODEL_56258c94abb74397a31db0e0931e8483",
       "style": "IPY_MODEL_6054119ce7e84043b975799ce82d12b7",
       "value": "axis2"
      }
     },
     "e9ac049a3cea4070a42fa897a19e95ff": {
      "model_module": "@jupyter-widgets/base",
      "model_module_version": "1.2.0",
      "model_name": "LayoutModel",
      "state": {}
     },
     "e9c5ad9833d64eee8384025c8176f41b": {
      "model_module": "@jupyter-widgets/base",
      "model_module_version": "1.2.0",
      "model_name": "LayoutModel",
      "state": {}
     },
     "ea112be1bace4734a40d1a0a0535604d": {
      "model_module": "@jupyter-widgets/base",
      "model_module_version": "1.2.0",
      "model_name": "LayoutModel",
      "state": {
       "margin": "20px 0px"
      }
     },
     "ea2506c7faee4dacb07f75e001f55b85": {
      "model_module": "@jupyter-widgets/base",
      "model_module_version": "1.2.0",
      "model_name": "LayoutModel",
      "state": {
       "margin": "20px 0px"
      }
     },
     "ea8c40c364644e668de5cce3ac5290fd": {
      "model_module": "@jupyter-widgets/controls",
      "model_module_version": "1.5.0",
      "model_name": "ButtonStyleModel",
      "state": {}
     },
     "eaaa33b191a043ab81721babd6d3b850": {
      "model_module": "pgljupyter",
      "model_module_version": "^0.1.21",
      "model_name": "CurveEditorModel",
      "state": {
       "_model_module_version": "^0.1.21",
       "_view_module_version": "^0.1.21",
       "children": [
        "IPY_MODEL_76f60fed37e44351b039af4ddd3e69e3",
        "IPY_MODEL_f0a813ac9c584d4b8587d70393fc936e"
       ],
       "layout": "IPY_MODEL_545b9834966d44a9b90b36c9bc186eec"
      }
     },
     "eaba61ddf9c34765b043dad40b9733ed": {
      "model_module": "@jupyter-widgets/base",
      "model_module_version": "1.2.0",
      "model_name": "LayoutModel",
      "state": {}
     },
     "eac1c0faa5c74c55b25806fd5088f812": {
      "model_module": "@jupyter-widgets/controls",
      "model_module_version": "1.5.0",
      "model_name": "HBoxModel",
      "state": {
       "children": [
        "IPY_MODEL_6e6bafbeb0d04580aa1d640c0c1308b1",
        "IPY_MODEL_0690ac687e7b4a8ea53e209c24773565"
       ],
       "layout": "IPY_MODEL_facc124b46fd42f4adfb77dc7edfbe70"
      }
     },
     "eafafd181a7b48ae8ac86ce064106902": {
      "model_module": "@jupyter-widgets/controls",
      "model_module_version": "1.5.0",
      "model_name": "ButtonModel",
      "state": {
       "description": "Save changes",
       "layout": "IPY_MODEL_0a79d1bbef38495f91bb3f2381663557",
       "style": "IPY_MODEL_d5b1b6a91eeb43a49fd688ae392401a9"
      }
     },
     "eb0a988af9f74f948f768113286d1033": {
      "model_module": "@jupyter-widgets/base",
      "model_module_version": "1.2.0",
      "model_name": "LayoutModel",
      "state": {}
     },
     "eb248267d4904cb288694c4a95025213": {
      "model_module": "@jupyter-widgets/controls",
      "model_module_version": "1.5.0",
      "model_name": "SliderStyleModel",
      "state": {
       "description_width": ""
      }
     },
     "eb65c6e55a874a6f8781ada061fce581": {
      "model_module": "@jupyter-widgets/base",
      "model_module_version": "1.2.0",
      "model_name": "LayoutModel",
      "state": {}
     },
     "ec9479da74e144e696b0ad1d25f68ddf": {
      "model_module": "@jupyter-widgets/controls",
      "model_module_version": "1.5.0",
      "model_name": "ButtonStyleModel",
      "state": {}
     },
     "ec983ce2f8ab43eca6ebf765db4e30d2": {
      "model_module": "pgljupyter",
      "model_module_version": "^0.2.1",
      "model_name": "_CurveEditorModel",
      "state": {
       "_model_module_version": "^0.2.1",
       "_view_module_version": "^0.2.1",
       "layout": "IPY_MODEL_e04345243fcd4fc280d3b8097b0ceea1",
       "name": "axis6",
       "points": [
        [
         -0.5,
         0
        ],
        [
         -0.4096211298461914,
         0.11916335514498623
        ],
        [
         -0.33890305711891866,
         0.21345411878134987
        ],
        [
         -0.3254329480280095,
         0.30774488241771353
        ],
        [
         -0.377214541759461,
         0.39738799966748417
        ],
        [
         -0.49416205043080635,
         0.45168505726489455
        ]
       ],
       "type": "NurbsCurve2D"
      }
     },
     "ecb7269588594aa8ada5ef43b5e0af24": {
      "model_module": "@jupyter-widgets/base",
      "model_module_version": "1.2.0",
      "model_name": "LayoutModel",
      "state": {}
     },
     "ecbfa493c55148998563ea30d3de8450": {
      "model_module": "@jupyter-widgets/base",
      "model_module_version": "1.2.0",
      "model_name": "LayoutModel",
      "state": {}
     },
     "ecd131ddd0a447a0871f5ecc9860ede7": {
      "model_module": "@jupyter-widgets/controls",
      "model_module_version": "1.5.0",
      "model_name": "TextModel",
      "state": {
       "continuous_update": false,
       "description": "name",
       "layout": "IPY_MODEL_454530c31274450db87a0b3ef7c7b08a",
       "style": "IPY_MODEL_a02256068bb145999ffa67aaa0e7fc02",
       "value": "axis9"
      }
     },
     "ed41dc4472634074bedb2fab3cdd2d59": {
      "model_module": "@jupyter-widgets/controls",
      "model_module_version": "1.5.0",
      "model_name": "SliderStyleModel",
      "state": {
       "description_width": ""
      }
     },
     "ed4b3eb8289043e7af685aad36bdb042": {
      "model_module": "pgljupyter",
      "model_module_version": "^0.1.2",
      "model_name": "CurveEditorModel",
      "state": {
       "_model_module_version": "^0.1.2",
       "_view_module_version": "^0.1.2",
       "control_points": [
        [
         -0.5,
         0
        ],
        [
         -0.4096211298461914,
         0.11916335514498623
        ],
        [
         -0.33890305711891866,
         0.21345411878134987
        ],
        [
         -0.3254329480280095,
         0.30774488241771353
        ],
        [
         -0.377214541759461,
         0.39738799966748417
        ],
        [
         -0.49416205043080635,
         0.45168505726489455
        ]
       ],
       "curve_type": [
        "NurbsCurve2D"
       ],
       "layout": "IPY_MODEL_f1d7e5be57174375a7b71416b107850a",
       "name": "axis6"
      }
     },
     "ed624e36d7b646eabb0207e99bd1cd19": {
      "model_module": "@jupyter-widgets/controls",
      "model_module_version": "1.5.0",
      "model_name": "ButtonStyleModel",
      "state": {}
     },
     "ed63737a4ff6481f888a2bf373034a6e": {
      "model_module": "@jupyter-widgets/base",
      "model_module_version": "1.2.0",
      "model_name": "LayoutModel",
      "state": {}
     },
     "ee13488f6d22467799c2cc8665578cf8": {
      "model_module": "@jupyter-widgets/controls",
      "model_module_version": "1.5.0",
      "model_name": "DropdownModel",
      "state": {
       "_options_labels": [
        "Curve",
        "Function"
       ],
       "index": 0,
       "layout": "IPY_MODEL_e4653aeaca144f8d890d29e5adb5f696",
       "style": "IPY_MODEL_181546cfb099415996296a1d385a0b77"
      }
     },
     "ee2eeac2d29141e3840d9d4bde092eeb": {
      "model_module": "@jupyter-widgets/base",
      "model_module_version": "1.2.0",
      "model_name": "LayoutModel",
      "state": {}
     },
     "ee446c1f77b54b2ea4bfa4a1f9c76f17": {
      "model_module": "@jupyter-widgets/base",
      "model_module_version": "1.2.0",
      "model_name": "LayoutModel",
      "state": {}
     },
     "ee6248fc39b84b6c948b0719fc090489": {
      "model_module": "@jupyter-widgets/controls",
      "model_module_version": "1.5.0",
      "model_name": "ButtonModel",
      "state": {
       "description": "Apply changes",
       "layout": "IPY_MODEL_faa2d61f04134130bf34858e1562a952",
       "style": "IPY_MODEL_dce4803a6a9c4981a35b6247e2a5c7e2"
      }
     },
     "ee72bf11790245b58bf692ce71458f28": {
      "model_module": "@jupyter-widgets/controls",
      "model_module_version": "1.5.0",
      "model_name": "DescriptionStyleModel",
      "state": {
       "description_width": ""
      }
     },
     "eed32540bc7a4e6bb09adf18e1e4f4d0": {
      "model_module": "@jupyter-widgets/base",
      "model_module_version": "1.2.0",
      "model_name": "LayoutModel",
      "state": {}
     },
     "efb361e6901b457893c03a5deee339e1": {
      "model_module": "@jupyter-widgets/controls",
      "model_module_version": "1.5.0",
      "model_name": "DropdownModel",
      "state": {
       "_options_labels": [
        "Integer",
        "Float",
        "Bool"
       ],
       "index": 0,
       "layout": "IPY_MODEL_97261c98c1c7432b8b7bddaf25fd1153",
       "style": "IPY_MODEL_ee72bf11790245b58bf692ce71458f28"
      }
     },
     "efee510a45ce431588e53875880586e0": {
      "model_module": "@jupyter-widgets/controls",
      "model_module_version": "1.5.0",
      "model_name": "ButtonModel",
      "state": {
       "description": "Delete",
       "layout": "IPY_MODEL_98d73988c42a41daa49da6ddf45dccd6",
       "style": "IPY_MODEL_93e80d55ed9e4b35a9e8344993cd6fb6"
      }
     },
     "f057bbeffa8d480e81c164af7dbbf448": {
      "model_module": "@jupyter-widgets/base",
      "model_module_version": "1.2.0",
      "model_name": "LayoutModel",
      "state": {}
     },
     "f0a813ac9c584d4b8587d70393fc936e": {
      "model_module": "pgljupyter",
      "model_module_version": "^0.1.21",
      "model_name": "_CurveEditorModel",
      "state": {
       "_model_module_version": "^0.1.21",
       "_view_module_version": "^0.1.21",
       "layout": "IPY_MODEL_ecb7269588594aa8ada5ef43b5e0af24",
       "points": [
        [
         -0.5,
         0
        ],
        [
         -0.4096211298461914,
         0.11916335514498623
        ],
        [
         -0.33890305711891866,
         0.21345411878134987
        ],
        [
         -0.3254329480280095,
         0.30774488241771353
        ],
        [
         -0.377214541759461,
         0.39738799966748417
        ],
        [
         -0.49416205043080635,
         0.45168505726489455
        ]
       ],
       "type": "NurbsCurve2D"
      }
     },
     "f0d779b366904808a768ff5f0a80f961": {
      "model_module": "@jupyter-widgets/base",
      "model_module_version": "1.2.0",
      "model_name": "LayoutModel",
      "state": {
       "margin": "20px 0px"
      }
     },
     "f0f4554591db4a4c8d241283be222c3d": {
      "model_module": "@jupyter-widgets/controls",
      "model_module_version": "1.5.0",
      "model_name": "TextModel",
      "state": {
       "layout": "IPY_MODEL_e9ac049a3cea4070a42fa897a19e95ff",
       "style": "IPY_MODEL_6686ac0df05846e585a96fbd13486809",
       "value": "profile"
      }
     },
     "f123ec89896d44b08853c06addcbde0e": {
      "model_module": "@jupyter-widgets/base",
      "model_module_version": "1.2.0",
      "model_name": "LayoutModel",
      "state": {}
     },
     "f14eed23878640f09c75b00091167975": {
      "model_module": "@jupyter-widgets/base",
      "model_module_version": "1.2.0",
      "model_name": "LayoutModel",
      "state": {}
     },
     "f1c52a827d624fa3b75b225c702905c2": {
      "model_module": "@jupyter-widgets/controls",
      "model_module_version": "1.5.0",
      "model_name": "HBoxModel",
      "state": {
       "children": [
        "IPY_MODEL_53a3e215614441358e88028845fe9065",
        "IPY_MODEL_ee13488f6d22467799c2cc8665578cf8"
       ],
       "layout": "IPY_MODEL_e9c5ad9833d64eee8384025c8176f41b"
      }
     },
     "f1d7e5be57174375a7b71416b107850a": {
      "model_module": "@jupyter-widgets/base",
      "model_module_version": "1.2.0",
      "model_name": "LayoutModel",
      "state": {}
     },
     "f2830083f54d479f98b05652b6f5e8f3": {
      "model_module": "@jupyter-widgets/base",
      "model_module_version": "1.2.0",
      "model_name": "LayoutModel",
      "state": {}
     },
     "f2d6ae11b5244a36b57e07c45f1f47ca": {
      "model_module": "@jupyter-widgets/controls",
      "model_module_version": "1.5.0",
      "model_name": "HBoxModel",
      "state": {
       "children": [
        "IPY_MODEL_a08d8455ea6f493aba534a7d77ddbc7a",
        "IPY_MODEL_39bdfaf8ab944b72a52cbeb0b6805732"
       ],
       "layout": "IPY_MODEL_f939d7f2d3fc4247828bc763248a2e57"
      }
     },
     "f2e1d4611ad4438da9cfa4343e17e198": {
      "model_module": "pgljupyter",
      "model_module_version": "^0.1.2",
      "model_name": "MaterialEditorModel",
      "state": {
       "_model_module_version": "^0.1.2",
       "_view_module_version": "^0.1.2",
       "children": [
        "IPY_MODEL_f39cdad174fb4598872bb97c881303b9",
        "IPY_MODEL_3b74a863e5a14a70bc1063a5404912c8",
        "IPY_MODEL_91e06fd710c44923a1f1b8557e6d428d",
        "IPY_MODEL_2e75e6a7328b4b449db199db02d9e123",
        "IPY_MODEL_21ed3ca0be304737bd9e0b7d7dc00909",
        "IPY_MODEL_f5a75e4bbd4c4610b28503c32d22c7cf"
       ],
       "layout": "IPY_MODEL_353a14f75fd640398891872bc96854ad"
      }
     },
     "f2fc5ad9d30f486897e3588e3e552ab9": {
      "model_module": "@jupyter-widgets/controls",
      "model_module_version": "1.5.0",
      "model_name": "ButtonStyleModel",
      "state": {}
     },
     "f39a263fc5f8430e9f80cc03a8357350": {
      "model_module": "@jupyter-widgets/base",
      "model_module_version": "1.2.0",
      "model_name": "LayoutModel",
      "state": {}
     },
     "f39cdad174fb4598872bb97c881303b9": {
      "model_module": "@jupyter-widgets/controls",
      "model_module_version": "1.5.0",
      "model_name": "BoundedIntTextModel",
      "state": {
       "description": "index",
       "layout": "IPY_MODEL_1f09f15c85504f888810fad1ad673720",
       "style": "IPY_MODEL_56a3988936a148af97cc4dae6a27b50d",
       "value": 2
      }
     },
     "f42a3ea3d498461197674bed98fabadc": {
      "model_module": "@jupyter-widgets/base",
      "model_module_version": "1.2.0",
      "model_name": "LayoutModel",
      "state": {}
     },
     "f4454d9b1b9c497bab530c500b624455": {
      "model_module": "@jupyter-widgets/base",
      "model_module_version": "1.2.0",
      "model_name": "LayoutModel",
      "state": {}
     },
     "f58c9368206a4f03933c702a600089dc": {
      "model_module": "@jupyter-widgets/base",
      "model_module_version": "1.2.0",
      "model_name": "LayoutModel",
      "state": {}
     },
     "f59034d6cd074a8c8e5ff1547817e92a": {
      "model_module": "@jupyter-widgets/controls",
      "model_module_version": "1.5.0",
      "model_name": "DescriptionStyleModel",
      "state": {
       "description_width": ""
      }
     },
     "f5a290c7f6994e51b3a417ca431fa4a1": {
      "model_module": "@jupyter-widgets/base",
      "model_module_version": "1.2.0",
      "model_name": "LayoutModel",
      "state": {
       "margin": "20px 0px"
      }
     },
     "f5a75e4bbd4c4610b28503c32d22c7cf": {
      "model_module": "@jupyter-widgets/controls",
      "model_module_version": "1.5.0",
      "model_name": "BoundedFloatTextModel",
      "state": {
       "description": "transparency",
       "layout": "IPY_MODEL_f8461ee195064f78814ddb6844f4efef",
       "max": 1,
       "step": null,
       "style": "IPY_MODEL_d383ed8d1aae42ca890b46f70083fdd1"
      }
     },
     "f5b53520e5214a2f9c48113595415c2f": {
      "model_module": "@jupyter-widgets/controls",
      "model_module_version": "1.5.0",
      "model_name": "HBoxModel",
      "state": {
       "children": [
        "IPY_MODEL_c09b36bbc0654076b493673762110f7e",
        "IPY_MODEL_adff16dbc4754e3795ffa8b53a1d6974"
       ],
       "layout": "IPY_MODEL_31a181bedfe740e2a33bacba1ede3566"
      }
     },
     "f5c9dc3947454dff8a491a36bae3dc34": {
      "model_module": "@jupyter-widgets/controls",
      "model_module_version": "1.5.0",
      "model_name": "SliderStyleModel",
      "state": {
       "description_width": ""
      }
     },
     "f5eb7733244e4dadbb6f17290c3a3ddd": {
      "model_module": "@jupyter-widgets/base",
      "model_module_version": "1.2.0",
      "model_name": "LayoutModel",
      "state": {}
     },
     "f647d2aec1d346f3a92411e8ecd9475d": {
      "model_module": "@jupyter-widgets/base",
      "model_module_version": "1.2.0",
      "model_name": "LayoutModel",
      "state": {}
     },
     "f689edadf0374e61b5ed4beacac78081": {
      "model_module": "pgljupyter",
      "model_module_version": "^0.2.1",
      "model_name": "_CurveEditorModel",
      "state": {
       "_model_module_version": "^0.2.1",
       "_view_module_version": "^0.2.1",
       "layout": "IPY_MODEL_eaba61ddf9c34765b043dad40b9733ed",
       "name": "axis1",
       "points": [
        [
         -0.5,
         0
        ],
        [
         -0.49552241639640116,
         0.21742664949363016
        ],
        [
         -0.21352716185094664,
         0.22279798767544834
        ],
        [
         -0.18667049143188477,
         0.02405847494817561
        ],
        [
         -0.36929596912367396,
         0.03748682040272106
        ],
        [
         -0.33438227094185574,
         0.1126855549481756
        ]
       ],
       "type": "NurbsCurve2D"
      }
     },
     "f6d450ccb5104a83bd02198e71a7a204": {
      "model_module": "@jupyter-widgets/controls",
      "model_module_version": "1.5.0",
      "model_name": "DescriptionStyleModel",
      "state": {
       "description_width": ""
      }
     },
     "f6fdbeb71b374abc93b74a7b7a6774f5": {
      "model_module": "@jupyter-widgets/controls",
      "model_module_version": "1.5.0",
      "model_name": "DescriptionStyleModel",
      "state": {
       "description_width": ""
      }
     },
     "f75c8e82dd674f7a9f63f47db4a4ed63": {
      "model_module": "@jupyter-widgets/base",
      "model_module_version": "1.2.0",
      "model_name": "LayoutModel",
      "state": {
       "flex_flow": "row wrap",
       "margin": "20px"
      }
     },
     "f79ce6b27b2e47479b7708f8fff519f6": {
      "model_module": "@jupyter-widgets/base",
      "model_module_version": "1.2.0",
      "model_name": "LayoutModel",
      "state": {}
     },
     "f7b7d18f0bf94980be5d3fbe8a524594": {
      "model_module": "@jupyter-widgets/controls",
      "model_module_version": "1.5.0",
      "model_name": "ButtonModel",
      "state": {
       "description": "Add category",
       "layout": "IPY_MODEL_77353184cfde4c30b120776ca5b851be",
       "style": "IPY_MODEL_f2fc5ad9d30f486897e3588e3e552ab9"
      }
     },
     "f7e33cccdda942f681a4c96f09484535": {
      "model_module": "pgljupyter",
      "model_module_version": "^0.2.1",
      "model_name": "CurveEditorModel",
      "state": {
       "_model_module_version": "^0.2.1",
       "_view_module_version": "^0.2.1",
       "children": [
        "IPY_MODEL_3b8fbc1723164458822fc7e82d138e11",
        "IPY_MODEL_c5bff520458e49c1a4d23632a30a36c1"
       ],
       "layout": "IPY_MODEL_1664fc7557574a0a977011f5ff0ea4b5"
      }
     },
     "f8461ee195064f78814ddb6844f4efef": {
      "model_module": "@jupyter-widgets/base",
      "model_module_version": "1.2.0",
      "model_name": "LayoutModel",
      "state": {}
     },
     "f852f60e78b046c1ac7953b9f19e3461": {
      "model_module": "@jupyter-widgets/base",
      "model_module_version": "1.2.0",
      "model_name": "LayoutModel",
      "state": {}
     },
     "f8ec916b06dd450b944798a8c556fafa": {
      "model_module": "@jupyter-widgets/controls",
      "model_module_version": "1.5.0",
      "model_name": "DescriptionStyleModel",
      "state": {
       "description_width": ""
      }
     },
     "f8efd095ee224ccaa5753f012b56f7c4": {
      "model_module": "@jupyter-widgets/controls",
      "model_module_version": "1.5.0",
      "model_name": "TabModel",
      "state": {
       "_titles": {
        "0": "dynamicprofile.json"
       },
       "children": [
        "IPY_MODEL_86e09686429545b097066e96e631a882"
       ],
       "layout": "IPY_MODEL_8c73dbc047e8412fa2f3553235bed96f"
      }
     },
     "f931313a304544da9ced0be4a1f2cc0b": {
      "model_module": "@jupyter-widgets/controls",
      "model_module_version": "1.5.0",
      "model_name": "TextModel",
      "state": {
       "continuous_update": false,
       "description": "name",
       "layout": "IPY_MODEL_f123ec89896d44b08853c06addcbde0e",
       "style": "IPY_MODEL_d34f9e1811a64014b41a9906e47bc0c5",
       "value": "axis4"
      }
     },
     "f939d7f2d3fc4247828bc763248a2e57": {
      "model_module": "@jupyter-widgets/base",
      "model_module_version": "1.2.0",
      "model_name": "LayoutModel",
      "state": {}
     },
     "f9ce844e108e4b8cae10f85d3324bfc7": {
      "model_module": "@jupyter-widgets/controls",
      "model_module_version": "1.5.0",
      "model_name": "AccordionModel",
      "state": {
       "_titles": {
        "0": "materials",
        "1": "leaf"
       },
       "children": [
        "IPY_MODEL_7437f1dda63543aba9e4978b68f7e7c2",
        "IPY_MODEL_63946089b95d4cf9889c0cf60786b8e7"
       ],
       "layout": "IPY_MODEL_5c33cc868e3a4f97bec2a770f9941540"
      }
     },
     "f9ceb14d0a294fe3a65de0ad1c0b4eb6": {
      "model_module": "@jupyter-widgets/controls",
      "model_module_version": "1.5.0",
      "model_name": "VBoxModel",
      "state": {
       "children": [
        "IPY_MODEL_9a8877cf23bc4a69ab1a6cc41df5427f",
        "IPY_MODEL_1b063101caf94ee6b0cc49904b70b406"
       ],
       "layout": "IPY_MODEL_740f00a1663c4b849de97252a4d431a9"
      }
     },
     "faa2d61f04134130bf34858e1562a952": {
      "model_module": "@jupyter-widgets/base",
      "model_module_version": "1.2.0",
      "model_name": "LayoutModel",
      "state": {}
     },
     "facc124b46fd42f4adfb77dc7edfbe70": {
      "model_module": "@jupyter-widgets/base",
      "model_module_version": "1.2.0",
      "model_name": "LayoutModel",
      "state": {
       "flex_flow": "row wrap",
       "margin": "20px"
      }
     },
     "fb2108fea0ec4fca95c04e377c2a9e45": {
      "model_module": "@jupyter-widgets/controls",
      "model_module_version": "1.5.0",
      "model_name": "TabModel",
      "state": {
       "layout": "IPY_MODEL_989fb4a1ceb54d8b9b0a70ef0581f471"
      }
     },
     "fb37fe599385450bb958b2899d5fbf45": {
      "model_module": "@jupyter-widgets/controls",
      "model_module_version": "1.5.0",
      "model_name": "ButtonStyleModel",
      "state": {}
     },
     "fb3aae91897a49afb2ebef5245923856": {
      "model_module": "pgljupyter",
      "model_module_version": "^0.1.21",
      "model_name": "_CurveEditorModel",
      "state": {
       "_model_module_version": "^0.1.21",
       "_view_module_version": "^0.1.21",
       "layout": "IPY_MODEL_c0735bcf8e464e0196b984a3868c3653",
       "points": [
        [
         -0.5,
         0
        ],
        [
         -0.4096211298461914,
         0.11916335514498623
        ],
        [
         -0.33890305711891866,
         0.21345411878134987
        ],
        [
         -0.3254329480280095,
         0.30774488241771353
        ],
        [
         -0.377214541759461,
         0.39738799966748417
        ],
        [
         -0.49416205043080635,
         0.45168505726489455
        ]
       ],
       "type": "NurbsCurve2D"
      }
     },
     "fbc2631e510b457b97408e660edbdf6a": {
      "model_module": "pgljupyter",
      "model_module_version": "^0.1.21",
      "model_name": "_CurveEditorModel",
      "state": {
       "_model_module_version": "^0.1.21",
       "_view_module_version": "^0.1.21",
       "layout": "IPY_MODEL_a6147a2b79f74349bfa9c1a15d1a41a9",
       "points": [
        [
         -0.4523769271054077,
         -0.005600587799786658
        ],
        [
         -0.3767718616508623,
         0.06190393492748608
        ],
        [
         -0.31736788165086227,
         0.11860773401839517
        ],
        [
         -0.25256353983268054,
         0.16991117129112243
        ],
        [
         -0.19585974074177137,
         0.23471551310930427
        ],
        [
         -0.11903621541579021,
         0.3431250146903886
        ]
       ],
       "type": "NurbsCurve2D"
      }
     },
     "fca9c5eceef843ed86ff69cfc6c40a91": {
      "model_module": "@jupyter-widgets/base",
      "model_module_version": "1.2.0",
      "model_name": "LayoutModel",
      "state": {}
     },
     "fceb685e54cd4a64b662dbd8fb433314": {
      "model_module": "pgljupyter",
      "model_module_version": "^0.1.21",
      "model_name": "CurveEditorModel",
      "state": {
       "_model_module_version": "^0.1.21",
       "_view_module_version": "^0.1.21",
       "children": [
        "IPY_MODEL_34fd35a4bdf34d39858d9adadd558bc7",
        "IPY_MODEL_a8f03d5c3ef24ca68d60562668f90283"
       ],
       "layout": "IPY_MODEL_0d950458a146465ba058bd2fa73aee66"
      }
     },
     "fd5a59e23752430ab0487885f7a3280a": {
      "model_module": "@jupyter-widgets/controls",
      "model_module_version": "1.5.0",
      "model_name": "DescriptionStyleModel",
      "state": {
       "description_width": ""
      }
     },
     "fd98fcef350e471da0a7d617b7950e62": {
      "model_module": "pgljupyter",
      "model_module_version": "^0.2.1",
      "model_name": "LsystemWidgetModel",
      "state": {
       "_model_module_version": "^0.2.1",
       "_view_module_version": "^0.2.1",
       "axes_helper": false,
       "derivationLength": 161,
       "layout": "IPY_MODEL_52728d990c354156a46ad17f1ae8da27",
       "light_helper": false,
       "plane": true,
       "size_display": [
        400,
        400
       ],
       "size_world": 2,
       "unit": 0
      }
     },
     "fdaae580ca9f43c4b4737722a0db7ce0": {
      "model_module": "@jupyter-widgets/controls",
      "model_module_version": "1.5.0",
      "model_name": "VBoxModel",
      "state": {
       "children": [
        "IPY_MODEL_5ecf7727a69146d2985f2bbedc4d799b",
        "IPY_MODEL_d29d8f9c2f18484087610969c8667c7b",
        "IPY_MODEL_f1c52a827d624fa3b75b225c702905c2",
        "IPY_MODEL_c2f826b298c44ff8aaf09b7fdc95c19f"
       ],
       "layout": "IPY_MODEL_d51e807a9631477490754dd2890328e1"
      }
     },
     "fe6b5342a2a948f0b10fe6ff0067b0b4": {
      "model_module": "@jupyter-widgets/base",
      "model_module_version": "1.2.0",
      "model_name": "LayoutModel",
      "state": {
       "flex_flow": "row wrap"
      }
     },
     "fec173c626f64384b26f95115e57d283": {
      "model_module": "@jupyter-widgets/controls",
      "model_module_version": "1.5.0",
      "model_name": "ButtonModel",
      "state": {
       "description": "Add",
       "layout": "IPY_MODEL_c55fd922d90f4bf2b30b63878a6970d1",
       "style": "IPY_MODEL_44da311c10644c2aae3e89ba4dce347d"
      }
     },
     "fed583356d764d90bf6bf98767f51085": {
      "model_module": "@jupyter-widgets/controls",
      "model_module_version": "1.5.0",
      "model_name": "ButtonModel",
      "state": {
       "description": "Delete",
       "layout": "IPY_MODEL_27a91f5f9e99462d8df5b7ce7f652c0f",
       "style": "IPY_MODEL_61064c76b13c4b0391485bba9f7ab5d0"
      }
     },
     "feed37e5878e43e691a6d47c8ee7a805": {
      "model_module": "@jupyter-widgets/controls",
      "model_module_version": "1.5.0",
      "model_name": "DescriptionStyleModel",
      "state": {
       "description_width": ""
      }
     },
     "ff41440f43244904bbd8c5d7a4ff1afd": {
      "model_module": "@jupyter-widgets/controls",
      "model_module_version": "1.5.0",
      "model_name": "TextModel",
      "state": {
       "continuous_update": false,
       "description": "name",
       "layout": "IPY_MODEL_940ac9a2afbb48eab79b64f62e45721b",
       "style": "IPY_MODEL_ae6239b777ca4250bf3559e86591ce85",
       "value": "axis4"
      }
     },
     "ff511317ad8c4bacadcbfafc3b7e3c2b": {
      "model_module": "@jupyter-widgets/controls",
      "model_module_version": "1.5.0",
      "model_name": "TextModel",
      "state": {
       "continuous_update": false,
       "description": "name",
       "layout": "IPY_MODEL_749a595a3d8c42d8bc8f4b5b78a49151",
       "style": "IPY_MODEL_3cdd7b9c6eea45d78b4b9d7451cd04bf",
       "value": "axis5"
      }
     },
     "ffed64c0ad1b4aaf9a42dce56e8d7ece": {
      "model_module": "@jupyter-widgets/controls",
      "model_module_version": "1.5.0",
      "model_name": "FloatSliderModel",
      "state": {
       "continuous_update": false,
       "description": "transparency",
       "layout": "IPY_MODEL_8d9d95f6d1e241e68854ddcc216f2549",
       "max": 1,
       "step": 0.1,
       "style": "IPY_MODEL_3e11e0143f044a148df6336e2d6de310"
      }
     }
    },
    "version_major": 2,
    "version_minor": 0
   }
  }
 },
 "nbformat": 4,
 "nbformat_minor": 4
}
