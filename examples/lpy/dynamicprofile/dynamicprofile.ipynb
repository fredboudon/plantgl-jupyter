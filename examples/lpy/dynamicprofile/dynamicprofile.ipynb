{
 "cells": [
  {
   "cell_type": "code",
   "execution_count": 1,
   "metadata": {},
   "outputs": [],
   "source": [
    "from pgljupyter import LsystemWidget"
   ]
  },
  {
   "cell_type": "code",
   "execution_count": 2,
   "metadata": {},
   "outputs": [],
   "source": [
    "lw = LsystemWidget('dynamicprofile', size_world=2, unit='m')"
   ]
  },
  {
   "cell_type": "code",
   "execution_count": 3,
   "metadata": {
    "tags": []
   },
   "outputs": [
    {
     "data": {
      "application/vnd.jupyter.widget-view+json": {
       "model_id": "b49db4c1a384487faa90d3826484d0bd",
       "version_major": 2,
       "version_minor": 0
      },
      "text/plain": [
       "LsystemWidget(derivationLength=161, scene={'data': b'x\\xdam\\xd4\\x0bLSW\\x18\\x00\\xe0\\xdb\\x96\\x82\\xe31^nceP^\\x13\\…"
      ]
     },
     "metadata": {},
     "output_type": "display_data"
    }
   ],
   "source": [
    "lw"
   ]
  },
  {
   "cell_type": "code",
   "execution_count": 4,
   "metadata": {},
   "outputs": [
    {
     "data": {
      "application/vnd.jupyter.widget-view+json": {
       "model_id": "48841212fd4145da8c4fad871e7ca0c3",
       "version_major": 2,
       "version_minor": 0
      },
      "text/plain": [
       "ParameterEditor(children=(VBox(children=(HBox(children=(HBox(children=(Button(description='Apply changes', sty…"
      ]
     },
     "metadata": {},
     "output_type": "display_data"
    }
   ],
   "source": [
    "lw.editor"
   ]
  },
  {
   "cell_type": "code",
   "execution_count": null,
   "metadata": {},
   "outputs": [],
   "source": []
  }
 ],
 "metadata": {
  "kernelspec": {
   "display_name": "Python 3",
   "language": "python",
   "name": "python3"
  },
  "language_info": {
   "codemirror_mode": {
    "name": "ipython",
    "version": 3
   },
   "file_extension": ".py",
   "mimetype": "text/x-python",
   "name": "python",
   "nbconvert_exporter": "python",
   "pygments_lexer": "ipython3",
   "version": "3.9.2"
  },
  "widgets": {
   "application/vnd.jupyter.widget-state+json": {
    "state": {
     "01e86f2c601c40f59fbbd769d9f0a611": {
      "model_module": "@jupyter-widgets/controls",
      "model_module_version": "1.5.0",
      "model_name": "TextModel",
      "state": {
       "continuous_update": false,
       "description": "name",
       "layout": "IPY_MODEL_41ebf03ae1a7489a974f726d7b8f4cf3",
       "style": "IPY_MODEL_1a4595ebefe64d72b4cd76b65c021240",
       "value": "axis2"
      }
     },
     "0e1db58d9e084ed88c27ff151cd77c33": {
      "model_module": "pgljupyter",
      "model_module_version": "^1.0.4",
      "model_name": "_CurveEditorModel",
      "state": {
       "_model_module_version": "^1.0.4",
       "_view_module_version": "^1.0.4",
       "layout": "IPY_MODEL_ed06b68422a74994a4100bb4002c8364",
       "name": "axis9",
       "points": [
        [
         -0.5,
         0
        ],
        [
         -0.4669615846065175,
         0.10362475759086609
        ],
        [
         -0.42851562474708466,
         0.29118498972390533
        ],
        [
         -0.5781451680983921,
         0.3950943948289799
        ],
        [
         -0.7236183352454963,
         0.2496212276818755
        ],
        [
         -0.5906142967110011,
         0.14986819878100388
        ]
       ],
       "type": "NurbsCurve2D"
      }
     },
     "0fa535ed78664cf38d1137dbcd0fce4b": {
      "model_module": "@jupyter-widgets/base",
      "model_module_version": "1.2.0",
      "model_name": "LayoutModel",
      "state": {}
     },
     "103cfed3ada34f43b00c1064b2386ac1": {
      "model_module": "pgljupyter",
      "model_module_version": "^1.0.4",
      "model_name": "_CurveEditorModel",
      "state": {
       "_model_module_version": "^1.0.4",
       "_view_module_version": "^1.0.4",
       "layout": "IPY_MODEL_fd2760584bc04a9491740eacf3e918dc",
       "name": "axis5",
       "points": [
        [
         -0.5,
         0
        ],
        [
         -0.42353109378640263,
         0.09292297178631177
        ],
        [
         -0.3614269431776844,
         0.1631276754226754
        ],
        [
         -0.311815335240922,
         0.27436190918077913
        ],
        [
         -0.2510197531605952,
         0.39595307334143276
        ],
        [
         -0.3878098128413305,
         0.4529489315417391
        ]
       ],
       "type": "NurbsCurve2D"
      }
     },
     "11e5ab59127d402b912c0bca1eccecf5": {
      "model_module": "@jupyter-widgets/base",
      "model_module_version": "1.2.0",
      "model_name": "LayoutModel",
      "state": {}
     },
     "12bffccac09e40c4945605970c3ef9ca": {
      "model_module": "@jupyter-widgets/base",
      "model_module_version": "1.2.0",
      "model_name": "LayoutModel",
      "state": {
       "margin": "10px 10px"
      }
     },
     "15c771d332e449fea036e1e257cb1499": {
      "model_module": "@jupyter-widgets/base",
      "model_module_version": "1.2.0",
      "model_name": "LayoutModel",
      "state": {
       "flex_flow": "row wrap",
       "margin": "5px"
      }
     },
     "1800d08a74004631bbe5e9d4200d0047": {
      "model_module": "pgljupyter",
      "model_module_version": "^1.0.4",
      "model_name": "_CurveEditorModel",
      "state": {
       "_model_module_version": "^1.0.4",
       "_view_module_version": "^1.0.4",
       "layout": "IPY_MODEL_cd740424e4a34e248cd9c63577051663",
       "name": "axis2",
       "points": [
        [
         -0.5,
         0
        ],
        [
         -0.46537859650133195,
         0.1437906475518601
        ],
        [
         -0.3790209986412258,
         0.2681455884704129
        ],
        [
         -0.24084882888793227,
         0.2785085002136257
        ],
        [
         -0.15794553494223032,
         0.1541535592950728
        ],
        [
         -0.29611769151840023,
         0.04016153011973264
        ]
       ],
       "type": "NurbsCurve2D"
      }
     },
     "183b8ae3ba1d4000be571ca0476b3e70": {
      "model_module": "@jupyter-widgets/controls",
      "model_module_version": "1.5.0",
      "model_name": "FloatSliderModel",
      "state": {
       "continuous_update": false,
       "description": "shininess",
       "layout": "IPY_MODEL_db6f1bc0241e4c4c8e9ba3b2a09065b3",
       "max": 1,
       "step": 0.1,
       "style": "IPY_MODEL_226b469e60c8414b8fddb61bd002ca87",
       "value": 0.2
      }
     },
     "1a4595ebefe64d72b4cd76b65c021240": {
      "model_module": "@jupyter-widgets/controls",
      "model_module_version": "1.5.0",
      "model_name": "DescriptionStyleModel",
      "state": {
       "description_width": ""
      }
     },
     "1a8fdd9bd2944cbc8d8931efc1e35f41": {
      "model_module": "@jupyter-widgets/controls",
      "model_module_version": "1.5.0",
      "model_name": "ColorPickerModel",
      "state": {
       "description": "specular",
       "disabled": false,
       "layout": "IPY_MODEL_da3b2fe341c74e9b8334c4740e4daf8e",
       "style": "IPY_MODEL_45b598058c2f4360b15eb842eeba1ff8",
       "value": "#0f1010"
      }
     },
     "1cf0f241f1dc445ea5c95ace50dae7cc": {
      "model_module": "@jupyter-widgets/controls",
      "model_module_version": "1.5.0",
      "model_name": "TextModel",
      "state": {
       "continuous_update": false,
       "description": "name",
       "layout": "IPY_MODEL_834cbda32bc747c58e7434365e7b30d7",
       "style": "IPY_MODEL_9cd6f156ac1f4e419e8b822084463d39",
       "value": "axis9"
      }
     },
     "1ef2a194b1dd4779bdaeade219505deb": {
      "model_module": "@jupyter-widgets/controls",
      "model_module_version": "1.5.0",
      "model_name": "CheckboxModel",
      "state": {
       "description": "Auto apply",
       "disabled": false,
       "layout": "IPY_MODEL_5f3821a6864842849dc78f654a0779be",
       "style": "IPY_MODEL_d625faa6edff4f29b991070a8bb8fba1",
       "value": false
      }
     },
     "1f37ee887d2d4d1286d5fb71fe6c42d8": {
      "model_module": "@jupyter-widgets/controls",
      "model_module_version": "1.5.0",
      "model_name": "ButtonModel",
      "state": {
       "description": "Apply changes",
       "layout": "IPY_MODEL_0fa535ed78664cf38d1137dbcd0fce4b",
       "style": "IPY_MODEL_684c59cf142c4dfcaeb2dcd9db4fca53"
      }
     },
     "1f5b5524866345bea789d5ec0ad03ac5": {
      "model_module": "@jupyter-widgets/controls",
      "model_module_version": "1.5.0",
      "model_name": "DescriptionStyleModel",
      "state": {
       "description_width": ""
      }
     },
     "226b469e60c8414b8fddb61bd002ca87": {
      "model_module": "@jupyter-widgets/controls",
      "model_module_version": "1.5.0",
      "model_name": "SliderStyleModel",
      "state": {
       "description_width": ""
      }
     },
     "25c83fa2ea3e4a7ba36e99a5d800f7e4": {
      "model_module": "@jupyter-widgets/base",
      "model_module_version": "1.2.0",
      "model_name": "LayoutModel",
      "state": {
       "margin": "10px 10px"
      }
     },
     "25db3b264dd44737a07e9b916eb96a82": {
      "model_module": "@jupyter-widgets/base",
      "model_module_version": "1.2.0",
      "model_name": "LayoutModel",
      "state": {
       "margin": "10px 10px"
      }
     },
     "28f3afc97478496c8d2bf96381f762e2": {
      "model_module": "@jupyter-widgets/base",
      "model_module_version": "1.2.0",
      "model_name": "LayoutModel",
      "state": {}
     },
     "2aa761d14a9b44ddb594c09cad2ea998": {
      "model_module": "@jupyter-widgets/controls",
      "model_module_version": "1.5.0",
      "model_name": "HBoxModel",
      "state": {
       "layout": "IPY_MODEL_4ebb43709436410e91a461bc22f4055e"
      }
     },
     "2c03a7f1c34642b89d1188ca434a5b44": {
      "model_module": "@jupyter-widgets/base",
      "model_module_version": "1.2.0",
      "model_name": "LayoutModel",
      "state": {}
     },
     "2ebaa839647e43dcafb9095d2c925e12": {
      "model_module": "@jupyter-widgets/controls",
      "model_module_version": "1.5.0",
      "model_name": "ButtonStyleModel",
      "state": {}
     },
     "2ec4b236838f4f58bb6af68b0456fda6": {
      "model_module": "@jupyter-widgets/base",
      "model_module_version": "1.2.0",
      "model_name": "LayoutModel",
      "state": {}
     },
     "2f30837bf8af4b2c90becb78b0e47857": {
      "model_module": "pgljupyter",
      "model_module_version": "^1.0.4",
      "model_name": "CurveEditorModel",
      "state": {
       "_model_module_version": "^1.0.4",
       "_view_module_version": "^1.0.4",
       "children": [
        "IPY_MODEL_92eaf711951347928b86e9c0bb850e68",
        "IPY_MODEL_4242f137c28f4a258f95187fb95f2a32"
       ],
       "layout": "IPY_MODEL_25c83fa2ea3e4a7ba36e99a5d800f7e4"
      }
     },
     "303e5179689744aba641365ea148c565": {
      "model_module": "@jupyter-widgets/controls",
      "model_module_version": "1.5.0",
      "model_name": "TextModel",
      "state": {
       "layout": "IPY_MODEL_eb6853e8466445d7ab6f9d4abbb52021",
       "placeholder": "category name",
       "style": "IPY_MODEL_94727a0dab244376bebafafe0ee37718"
      }
     },
     "31512e4f62a24b9ea214ad6d94419d66": {
      "model_module": "@jupyter-widgets/base",
      "model_module_version": "1.2.0",
      "model_name": "LayoutModel",
      "state": {}
     },
     "3162231ad37b4f6eac5ae59d8b6fd159": {
      "model_module": "@jupyter-widgets/controls",
      "model_module_version": "1.5.0",
      "model_name": "HBoxModel",
      "state": {
       "children": [
        "IPY_MODEL_95c23404ef054d72960f5748830b3690",
        "IPY_MODEL_f34005fb8eff4ba9b06ae0e2b9953a9d"
       ],
       "layout": "IPY_MODEL_5d5f10dfa8be4c64bf8d221004b5050e"
      }
     },
     "3a6936835bb04124975159efb99d3bd1": {
      "model_module": "@jupyter-widgets/base",
      "model_module_version": "1.2.0",
      "model_name": "LayoutModel",
      "state": {}
     },
     "3ba044f5aa0f4b1eb03c14e180c2f51f": {
      "model_module": "@jupyter-widgets/controls",
      "model_module_version": "1.5.0",
      "model_name": "ButtonStyleModel",
      "state": {}
     },
     "3cdcccca85294cb69072286ac276c230": {
      "model_module": "@jupyter-widgets/controls",
      "model_module_version": "1.5.0",
      "model_name": "SliderStyleModel",
      "state": {
       "description_width": ""
      }
     },
     "3dcdc1eb24df45a8846f8d9d815b4422": {
      "model_module": "@jupyter-widgets/base",
      "model_module_version": "1.2.0",
      "model_name": "LayoutModel",
      "state": {}
     },
     "3eac6e7833e94a79a52e5285162a18c5": {
      "model_module": "pgljupyter",
      "model_module_version": "^1.0.4",
      "model_name": "MaterialEditorModel",
      "state": {
       "_model_module_version": "^1.0.4",
       "_view_module_version": "^1.0.4",
       "children": [
        "IPY_MODEL_b074e5e5db044661b98eda55e6e86398",
        "IPY_MODEL_b130cf26c4ab4c8e85b62e57ca8e1b78",
        "IPY_MODEL_1a8fdd9bd2944cbc8d8931efc1e35f41",
        "IPY_MODEL_9ae593d09f64449984d7eeb878ee4dc0",
        "IPY_MODEL_4e3170270c204ecd8990d6e4b2b0734b",
        "IPY_MODEL_f7eb4ab96bde41af8a3044fc32e608e1",
        "IPY_MODEL_183b8ae3ba1d4000be571ca0476b3e70"
       ],
       "layout": "IPY_MODEL_4598e1b439de4ea8bb5bd77fe1688eda"
      }
     },
     "3ff1eceb39354f23a67764075e3eeaa7": {
      "model_module": "@jupyter-widgets/controls",
      "model_module_version": "1.5.0",
      "model_name": "TextModel",
      "state": {
       "continuous_update": false,
       "description": "name",
       "layout": "IPY_MODEL_58cdff2c0f284c52b57d4cf50c827f9d",
       "style": "IPY_MODEL_5032678f0de3457bb3010926c6384394",
       "value": "axis6"
      }
     },
     "404d3b85349e4a24b12ea77dd78f458c": {
      "model_module": "@jupyter-widgets/controls",
      "model_module_version": "1.5.0",
      "model_name": "HBoxModel",
      "state": {
       "children": [
        "IPY_MODEL_c585e17054ea4dfe995589c316b3af73",
        "IPY_MODEL_90531f24f0f14704b4b2341d03c0b2bd"
       ],
       "layout": "IPY_MODEL_be154e81645d4cbb9dd818478ca5abad"
      }
     },
     "40b66417fd72407fbed62713a32baee9": {
      "model_module": "@jupyter-widgets/base",
      "model_module_version": "1.2.0",
      "model_name": "LayoutModel",
      "state": {
       "margin": "10px 10px"
      }
     },
     "41ebf03ae1a7489a974f726d7b8f4cf3": {
      "model_module": "@jupyter-widgets/base",
      "model_module_version": "1.2.0",
      "model_name": "LayoutModel",
      "state": {}
     },
     "4242f137c28f4a258f95187fb95f2a32": {
      "model_module": "pgljupyter",
      "model_module_version": "^1.0.4",
      "model_name": "_CurveEditorModel",
      "state": {
       "_model_module_version": "^1.0.4",
       "_view_module_version": "^1.0.4",
       "is_function": true,
       "layout": "IPY_MODEL_7d44fce1e9874b91878f533c2c1234d4",
       "name": "leafwidth",
       "points": [
        [
         0,
         0.00677191994406956
        ],
        [
         0.15454545454545454,
         0.7113173744895241
        ],
        [
         0.2727272727272727,
         0.15222646539861506
        ],
        [
         1,
         0.00677191994406956
        ]
       ],
       "type": "NurbsCurve2D"
      }
     },
     "42e1b0d4a61d4b9a9fec72d3dc131550": {
      "model_module": "pgljupyter",
      "model_module_version": "^1.0.4",
      "model_name": "_CurveEditorModel",
      "state": {
       "_model_module_version": "^1.0.4",
       "_view_module_version": "^1.0.4",
       "layout": "IPY_MODEL_d997b9005ba047ebb6c3f8bc46eeb974",
       "name": "axis4",
       "points": [
        [
         -0.4523769271054077,
         -0.005600587799786658
        ],
        [
         -0.3767718616508623,
         0.06190393492748608
        ],
        [
         -0.31736788165086227,
         0.11860773401839517
        ],
        [
         -0.25256353983268054,
         0.16991117129112243
        ],
        [
         -0.19585974074177137,
         0.23471551310930427
        ],
        [
         -0.11903621541579021,
         0.3431250146903886
        ]
       ],
       "type": "NurbsCurve2D"
      }
     },
     "4598e1b439de4ea8bb5bd77fe1688eda": {
      "model_module": "@jupyter-widgets/base",
      "model_module_version": "1.2.0",
      "model_name": "LayoutModel",
      "state": {
       "margin": "10px 10px"
      }
     },
     "45b598058c2f4360b15eb842eeba1ff8": {
      "model_module": "@jupyter-widgets/controls",
      "model_module_version": "1.5.0",
      "model_name": "DescriptionStyleModel",
      "state": {
       "description_width": ""
      }
     },
     "4696de25cd0f4d298a22863342a26813": {
      "model_module": "@jupyter-widgets/base",
      "model_module_version": "1.2.0",
      "model_name": "LayoutModel",
      "state": {}
     },
     "47a5233fa4234b80aae735273b59c606": {
      "model_module": "@jupyter-widgets/base",
      "model_module_version": "1.2.0",
      "model_name": "LayoutModel",
      "state": {}
     },
     "48841212fd4145da8c4fad871e7ca0c3": {
      "model_module": "pgljupyter",
      "model_module_version": "^1.0.4",
      "model_name": "ParameterEditorModel",
      "state": {
       "_model_module_version": "^1.0.4",
       "_view_module_version": "^1.0.4",
       "children": [
        "IPY_MODEL_843c753cab65476f93a15a6742718b17"
       ],
       "layout": "IPY_MODEL_c6143dc9c85e45d0a3ceb341a034f912"
      }
     },
     "4b02d4a671254556872a6acd80807734": {
      "model_module": "@jupyter-widgets/base",
      "model_module_version": "1.2.0",
      "model_name": "LayoutModel",
      "state": {}
     },
     "4c1d4949737f455b849c98d866d74cdf": {
      "model_module": "@jupyter-widgets/controls",
      "model_module_version": "1.5.0",
      "model_name": "TextModel",
      "state": {
       "continuous_update": false,
       "description": "name",
       "layout": "IPY_MODEL_7925e6c93a454303b5627e991396ac4e",
       "style": "IPY_MODEL_64ddf3093d4442b383e7f769251333c2",
       "value": "axis8"
      }
     },
     "4e3170270c204ecd8990d6e4b2b0734b": {
      "model_module": "@jupyter-widgets/controls",
      "model_module_version": "1.5.0",
      "model_name": "FloatSliderModel",
      "state": {
       "continuous_update": false,
       "description": "diffuse",
       "layout": "IPY_MODEL_e1fd2aba80a049ee866bc3c603f06511",
       "max": 3,
       "step": 0.1,
       "style": "IPY_MODEL_7e477b6c02fe4d66874733287efb7b93",
       "value": 1
      }
     },
     "4ebb43709436410e91a461bc22f4055e": {
      "model_module": "@jupyter-widgets/base",
      "model_module_version": "1.2.0",
      "model_name": "LayoutModel",
      "state": {
       "flex_flow": "row wrap",
       "margin": "20px"
      }
     },
     "4ec9738d666c4a16bdee8503185e3911": {
      "model_module": "pgljupyter",
      "model_module_version": "^1.0.4",
      "model_name": "CurveEditorModel",
      "state": {
       "_model_module_version": "^1.0.4",
       "_view_module_version": "^1.0.4",
       "children": [
        "IPY_MODEL_01e86f2c601c40f59fbbd769d9f0a611",
        "IPY_MODEL_1800d08a74004631bbe5e9d4200d0047"
       ],
       "layout": "IPY_MODEL_40b66417fd72407fbed62713a32baee9"
      }
     },
     "5032678f0de3457bb3010926c6384394": {
      "model_module": "@jupyter-widgets/controls",
      "model_module_version": "1.5.0",
      "model_name": "DescriptionStyleModel",
      "state": {
       "description_width": ""
      }
     },
     "514df278c8bb47669c86d5b5c1629a7f": {
      "model_module": "@jupyter-widgets/controls",
      "model_module_version": "1.5.0",
      "model_name": "ButtonStyleModel",
      "state": {}
     },
     "5152f8a89a14419a81cb9733ffacd149": {
      "model_module": "@jupyter-widgets/controls",
      "model_module_version": "1.5.0",
      "model_name": "DescriptionStyleModel",
      "state": {
       "description_width": ""
      }
     },
     "53318d847d1f48c4bb2e6fd2da5ce728": {
      "model_module": "@jupyter-widgets/base",
      "model_module_version": "1.2.0",
      "model_name": "LayoutModel",
      "state": {}
     },
     "5349361bf284410bb02105f93d78eb0e": {
      "model_module": "@jupyter-widgets/base",
      "model_module_version": "1.2.0",
      "model_name": "LayoutModel",
      "state": {}
     },
     "553befb127d24dce8d51db32e00b0d03": {
      "model_module": "@jupyter-widgets/base",
      "model_module_version": "1.2.0",
      "model_name": "LayoutModel",
      "state": {
       "margin": "10px 10px"
      }
     },
     "570a7fc8035c4b82822cbbb56c29229c": {
      "model_module": "pgljupyter",
      "model_module_version": "^1.0.4",
      "model_name": "CurveEditorModel",
      "state": {
       "_model_module_version": "^1.0.4",
       "_view_module_version": "^1.0.4",
       "children": [
        "IPY_MODEL_4c1d4949737f455b849c98d866d74cdf",
        "IPY_MODEL_8e24082d96424482898fc050e31a14e1"
       ],
       "layout": "IPY_MODEL_b9cadccbeff742e984c40b469f1f9b57"
      }
     },
     "58cdff2c0f284c52b57d4cf50c827f9d": {
      "model_module": "@jupyter-widgets/base",
      "model_module_version": "1.2.0",
      "model_name": "LayoutModel",
      "state": {}
     },
     "5d5f10dfa8be4c64bf8d221004b5050e": {
      "model_module": "@jupyter-widgets/base",
      "model_module_version": "1.2.0",
      "model_name": "LayoutModel",
      "state": {}
     },
     "5e186ba9a6f141c99d0039917629d7ef": {
      "model_module": "@jupyter-widgets/controls",
      "model_module_version": "1.5.0",
      "model_name": "DescriptionStyleModel",
      "state": {
       "description_width": ""
      }
     },
     "5f3821a6864842849dc78f654a0779be": {
      "model_module": "@jupyter-widgets/base",
      "model_module_version": "1.2.0",
      "model_name": "LayoutModel",
      "state": {}
     },
     "61fbfd668b924f8fbd84d4fca7c86a5a": {
      "model_module": "@jupyter-widgets/base",
      "model_module_version": "1.2.0",
      "model_name": "LayoutModel",
      "state": {}
     },
     "63e15b477fa640359f627a05f309e53e": {
      "model_module": "@jupyter-widgets/base",
      "model_module_version": "1.2.0",
      "model_name": "LayoutModel",
      "state": {}
     },
     "64ba16ade2a04b23be204e383887d5ef": {
      "model_module": "pgljupyter",
      "model_module_version": "^1.0.4",
      "model_name": "CurveEditorModel",
      "state": {
       "_model_module_version": "^1.0.4",
       "_view_module_version": "^1.0.4",
       "children": [
        "IPY_MODEL_3ff1eceb39354f23a67764075e3eeaa7",
        "IPY_MODEL_9f0e5d01a2b544fc9800da9e48c47df4"
       ],
       "layout": "IPY_MODEL_553befb127d24dce8d51db32e00b0d03"
      }
     },
     "64ddf3093d4442b383e7f769251333c2": {
      "model_module": "@jupyter-widgets/controls",
      "model_module_version": "1.5.0",
      "model_name": "DescriptionStyleModel",
      "state": {
       "description_width": ""
      }
     },
     "656526f29ce342edb9baf10075152253": {
      "model_module": "@jupyter-widgets/base",
      "model_module_version": "1.2.0",
      "model_name": "LayoutModel",
      "state": {}
     },
     "673ac4265f65480a83ee61db3273efea": {
      "model_module": "@jupyter-widgets/base",
      "model_module_version": "1.2.0",
      "model_name": "LayoutModel",
      "state": {}
     },
     "684c59cf142c4dfcaeb2dcd9db4fca53": {
      "model_module": "@jupyter-widgets/controls",
      "model_module_version": "1.5.0",
      "model_name": "ButtonStyleModel",
      "state": {}
     },
     "691edf9d77094a0794917fc17aa3b34c": {
      "model_module": "@jupyter-widgets/base",
      "model_module_version": "1.2.0",
      "model_name": "LayoutModel",
      "state": {}
     },
     "6b0cd1e84f8c4e17a40fab2758cd8afa": {
      "model_module": "@jupyter-widgets/base",
      "model_module_version": "1.2.0",
      "model_name": "LayoutModel",
      "state": {}
     },
     "6d28195257334dc69d0c4d6a3626fe78": {
      "model_module": "@jupyter-widgets/controls",
      "model_module_version": "1.5.0",
      "model_name": "DescriptionStyleModel",
      "state": {
       "description_width": ""
      }
     },
     "6f4e0f40ae814e78a56eb373d77812cc": {
      "model_module": "@jupyter-widgets/base",
      "model_module_version": "1.2.0",
      "model_name": "LayoutModel",
      "state": {}
     },
     "717a3021ec864befaccd979dcf745457": {
      "model_module": "@jupyter-widgets/controls",
      "model_module_version": "1.5.0",
      "model_name": "ButtonModel",
      "state": {
       "description": "Add category",
       "layout": "IPY_MODEL_b18a36190c7a4041b43e870b29d29198",
       "style": "IPY_MODEL_3ba044f5aa0f4b1eb03c14e180c2f51f"
      }
     },
     "71bd539e94ab43a9916c30cab2353128": {
      "model_module": "pgljupyter",
      "model_module_version": "^1.0.4",
      "model_name": "CurveEditorModel",
      "state": {
       "_model_module_version": "^1.0.4",
       "_view_module_version": "^1.0.4",
       "children": [
        "IPY_MODEL_fd6498a22e714b30b5a5df73c0f119c7",
        "IPY_MODEL_42e1b0d4a61d4b9a9fec72d3dc131550"
       ],
       "layout": "IPY_MODEL_eb60d44d985044a7ba046aeeeda1f9b3"
      }
     },
     "7745001271fb4e2eae101871e3ed4af5": {
      "model_module": "@jupyter-widgets/controls",
      "model_module_version": "1.5.0",
      "model_name": "ButtonStyleModel",
      "state": {}
     },
     "7914245ae8344d3a89ed53126e40fa85": {
      "model_module": "@jupyter-widgets/base",
      "model_module_version": "1.2.0",
      "model_name": "LayoutModel",
      "state": {}
     },
     "7925e6c93a454303b5627e991396ac4e": {
      "model_module": "@jupyter-widgets/base",
      "model_module_version": "1.2.0",
      "model_name": "LayoutModel",
      "state": {}
     },
     "797d2c8b037f43daa51e5f9db26a929e": {
      "model_module": "@jupyter-widgets/controls",
      "model_module_version": "1.5.0",
      "model_name": "HBoxModel",
      "state": {
       "children": [
        "IPY_MODEL_717a3021ec864befaccd979dcf745457",
        "IPY_MODEL_303e5179689744aba641365ea148c565"
       ],
       "layout": "IPY_MODEL_673ac4265f65480a83ee61db3273efea"
      }
     },
     "7b53cbfb437c4692ad90c9292828536f": {
      "model_module": "@jupyter-widgets/controls",
      "model_module_version": "1.5.0",
      "model_name": "TextModel",
      "state": {
       "continuous_update": false,
       "description": "name",
       "layout": "IPY_MODEL_6f4e0f40ae814e78a56eb373d77812cc",
       "style": "IPY_MODEL_cf185831b9c14230ab78727e34cbbd32",
       "value": "axis5"
      }
     },
     "7d44fce1e9874b91878f533c2c1234d4": {
      "model_module": "@jupyter-widgets/base",
      "model_module_version": "1.2.0",
      "model_name": "LayoutModel",
      "state": {}
     },
     "7d47b0b390634e45ad8df63209f5d067": {
      "model_module": "@jupyter-widgets/base",
      "model_module_version": "1.2.0",
      "model_name": "LayoutModel",
      "state": {}
     },
     "7e477b6c02fe4d66874733287efb7b93": {
      "model_module": "@jupyter-widgets/controls",
      "model_module_version": "1.5.0",
      "model_name": "SliderStyleModel",
      "state": {
       "description_width": ""
      }
     },
     "7fe9deb8e50c47c1a8350cc8af35204a": {
      "model_module": "@jupyter-widgets/controls",
      "model_module_version": "1.5.0",
      "model_name": "DescriptionStyleModel",
      "state": {
       "description_width": ""
      }
     },
     "82ff6fcb15a6414c960bf0341894f58e": {
      "model_module": "@jupyter-widgets/controls",
      "model_module_version": "1.5.0",
      "model_name": "DropdownModel",
      "state": {
       "_options_labels": [
        "Color"
       ],
       "index": 0,
       "layout": "IPY_MODEL_aae4f064c54e4827ba78bc6a610e65dc",
       "style": "IPY_MODEL_adac066220874777bbe4600b53bb03f0"
      }
     },
     "8310e527d29b406f81d980ed8e8c607c": {
      "model_module": "@jupyter-widgets/base",
      "model_module_version": "1.2.0",
      "model_name": "LayoutModel",
      "state": {}
     },
     "834cbda32bc747c58e7434365e7b30d7": {
      "model_module": "@jupyter-widgets/base",
      "model_module_version": "1.2.0",
      "model_name": "LayoutModel",
      "state": {}
     },
     "843c753cab65476f93a15a6742718b17": {
      "model_module": "@jupyter-widgets/controls",
      "model_module_version": "1.5.0",
      "model_name": "VBoxModel",
      "state": {
       "children": [
        "IPY_MODEL_85d0deab5472445c91286ccebe6fb6f7",
        "IPY_MODEL_bb17eb04b33c46e3919152ed9b994a80"
       ],
       "layout": "IPY_MODEL_aed2ac98a1d5455b9ad8f589658e6d46"
      }
     },
     "85426d78ce504d30a6ee5e0a10a2bc8c": {
      "model_module": "@jupyter-widgets/controls",
      "model_module_version": "1.5.0",
      "model_name": "DescriptionStyleModel",
      "state": {
       "description_width": ""
      }
     },
     "85d0deab5472445c91286ccebe6fb6f7": {
      "model_module": "@jupyter-widgets/controls",
      "model_module_version": "1.5.0",
      "model_name": "HBoxModel",
      "state": {
       "children": [
        "IPY_MODEL_fb5fa11c4ac74d10b26deb0d76727c8d",
        "IPY_MODEL_404d3b85349e4a24b12ea77dd78f458c",
        "IPY_MODEL_797d2c8b037f43daa51e5f9db26a929e"
       ],
       "layout": "IPY_MODEL_15c771d332e449fea036e1e257cb1499"
      }
     },
     "85d8416a04ae4acba07d81fc72581203": {
      "model_module": "@jupyter-widgets/controls",
      "model_module_version": "1.5.0",
      "model_name": "HBoxModel",
      "state": {
       "children": [
        "IPY_MODEL_afa8588b92604f8d9c3ddec67aa64c05",
        "IPY_MODEL_82ff6fcb15a6414c960bf0341894f58e"
       ],
       "layout": "IPY_MODEL_11e5ab59127d402b912c0bca1eccecf5"
      }
     },
     "8d1d8cf43b074452b542fd6e2fc02444": {
      "model_module": "@jupyter-widgets/controls",
      "model_module_version": "1.5.0",
      "model_name": "DescriptionStyleModel",
      "state": {
       "description_width": ""
      }
     },
     "8db48ea1bec9448cbb3550d2cb3012c7": {
      "model_module": "@jupyter-widgets/controls",
      "model_module_version": "1.5.0",
      "model_name": "DescriptionStyleModel",
      "state": {
       "description_width": ""
      }
     },
     "8e24082d96424482898fc050e31a14e1": {
      "model_module": "pgljupyter",
      "model_module_version": "^1.0.4",
      "model_name": "_CurveEditorModel",
      "state": {
       "_model_module_version": "^1.0.4",
       "_view_module_version": "^1.0.4",
       "layout": "IPY_MODEL_3dcdc1eb24df45a8846f8d9d815b4422",
       "name": "axis8",
       "points": [
        [
         -0.5,
         0
        ],
        [
         -0.4443799997170015,
         0.08445238120155335
        ],
        [
         -0.3881438269897287,
         0.1469370175651897
        ],
        [
         -0.4706173170331641,
         0.3395544757251096
        ],
        [
         -0.6965523668082574,
         0.3107991057537341
        ],
        [
         -0.6965523668082574,
         0.1505906159132135
        ]
       ],
       "type": "NurbsCurve2D"
      }
     },
     "8e5900ee17854de5a31dd767624693e3": {
      "model_module": "@jupyter-widgets/base",
      "model_module_version": "1.2.0",
      "model_name": "LayoutModel",
      "state": {}
     },
     "90531f24f0f14704b4b2341d03c0b2bd": {
      "model_module": "@jupyter-widgets/controls",
      "model_module_version": "1.5.0",
      "model_name": "CheckboxModel",
      "state": {
       "description": "Auto save",
       "disabled": false,
       "layout": "IPY_MODEL_656526f29ce342edb9baf10075152253",
       "style": "IPY_MODEL_6d28195257334dc69d0c4d6a3626fe78",
       "value": false
      }
     },
     "92eaf711951347928b86e9c0bb850e68": {
      "model_module": "@jupyter-widgets/controls",
      "model_module_version": "1.5.0",
      "model_name": "TextModel",
      "state": {
       "continuous_update": false,
       "description": "name",
       "layout": "IPY_MODEL_47a5233fa4234b80aae735273b59c606",
       "style": "IPY_MODEL_c78db5451d984edb8d2e84960275032a",
       "value": "leafwidth"
      }
     },
     "94727a0dab244376bebafafe0ee37718": {
      "model_module": "@jupyter-widgets/controls",
      "model_module_version": "1.5.0",
      "model_name": "DescriptionStyleModel",
      "state": {
       "description_width": ""
      }
     },
     "95c23404ef054d72960f5748830b3690": {
      "model_module": "@jupyter-widgets/controls",
      "model_module_version": "1.5.0",
      "model_name": "ButtonModel",
      "state": {
       "description": "Add",
       "layout": "IPY_MODEL_8e5900ee17854de5a31dd767624693e3",
       "style": "IPY_MODEL_514df278c8bb47669c86d5b5c1629a7f"
      }
     },
     "98009aa29b134120a094d7a0c162bdcb": {
      "model_module": "@jupyter-widgets/base",
      "model_module_version": "1.2.0",
      "model_name": "LayoutModel",
      "state": {}
     },
     "981ee5e2fea74798b6188809b02698b4": {
      "model_module": "@jupyter-widgets/controls",
      "model_module_version": "1.5.0",
      "model_name": "VBoxModel",
      "state": {
       "children": [
        "IPY_MODEL_3162231ad37b4f6eac5ae59d8b6fd159",
        "IPY_MODEL_2aa761d14a9b44ddb594c09cad2ea998",
        "IPY_MODEL_9aa0623088b74545ac98777111b42ef3",
        "IPY_MODEL_ad4c3dff8559456b8392504d1e2e01c4"
       ],
       "layout": "IPY_MODEL_6b0cd1e84f8c4e17a40fab2758cd8afa"
      }
     },
     "9aa0623088b74545ac98777111b42ef3": {
      "model_module": "@jupyter-widgets/controls",
      "model_module_version": "1.5.0",
      "model_name": "HBoxModel",
      "state": {
       "children": [
        "IPY_MODEL_ddd114500bab4e4da218f7c525faf008",
        "IPY_MODEL_fd7076f2c2624839afa32b1452ef874b"
       ],
       "layout": "IPY_MODEL_2ec4b236838f4f58bb6af68b0456fda6"
      }
     },
     "9ac9c261f4d94a5ba13a87d64f2684a3": {
      "model_module": "@jupyter-widgets/controls",
      "model_module_version": "1.5.0",
      "model_name": "VBoxModel",
      "state": {
       "children": [
        "IPY_MODEL_85d8416a04ae4acba07d81fc72581203",
        "IPY_MODEL_d20cb981511f4be3aaef60f9f79acf6c"
       ],
       "layout": "IPY_MODEL_5349361bf284410bb02105f93d78eb0e"
      }
     },
     "9ae593d09f64449984d7eeb878ee4dc0": {
      "model_module": "@jupyter-widgets/controls",
      "model_module_version": "1.5.0",
      "model_name": "ColorPickerModel",
      "state": {
       "description": "emission",
       "disabled": false,
       "layout": "IPY_MODEL_53318d847d1f48c4bb2e6fd2da5ce728",
       "style": "IPY_MODEL_1f5b5524866345bea789d5ec0ad03ac5",
       "value": "#000000"
      }
     },
     "9cd6f156ac1f4e419e8b822084463d39": {
      "model_module": "@jupyter-widgets/controls",
      "model_module_version": "1.5.0",
      "model_name": "DescriptionStyleModel",
      "state": {
       "description_width": ""
      }
     },
     "9d364f8fa11842d6a05f2d183ee78742": {
      "model_module": "@jupyter-widgets/base",
      "model_module_version": "1.2.0",
      "model_name": "LayoutModel",
      "state": {
       "margin": "10px 10px"
      }
     },
     "9da079edc20949b7b6c7c2ffcaa70456": {
      "model_module": "@jupyter-widgets/controls",
      "model_module_version": "1.5.0",
      "model_name": "DescriptionStyleModel",
      "state": {
       "description_width": ""
      }
     },
     "9e00c09f33374529ba3f21fe22620458": {
      "model_module": "@jupyter-widgets/base",
      "model_module_version": "1.2.0",
      "model_name": "LayoutModel",
      "state": {}
     },
     "9edb72a393014248ae3c951c92b1ae12": {
      "model_module": "@jupyter-widgets/base",
      "model_module_version": "1.2.0",
      "model_name": "LayoutModel",
      "state": {}
     },
     "9f0e5d01a2b544fc9800da9e48c47df4": {
      "model_module": "pgljupyter",
      "model_module_version": "^1.0.4",
      "model_name": "_CurveEditorModel",
      "state": {
       "_model_module_version": "^1.0.4",
       "_view_module_version": "^1.0.4",
       "layout": "IPY_MODEL_2c03a7f1c34642b89d1188ca434a5b44",
       "name": "axis6",
       "points": [
        [
         -0.5,
         0
        ],
        [
         -0.4096211298461914,
         0.11916335514498623
        ],
        [
         -0.33890305711891866,
         0.21345411878134987
        ],
        [
         -0.3254329480280095,
         0.30774488241771353
        ],
        [
         -0.377214541759461,
         0.39738799966748417
        ],
        [
         -0.49416205043080635,
         0.45168505726489455
        ]
       ],
       "type": "NurbsCurve2D"
      }
     },
     "a2a704f2d90344fdade7f0d35e8ad088": {
      "model_module": "@jupyter-widgets/base",
      "model_module_version": "1.2.0",
      "model_name": "LayoutModel",
      "state": {}
     },
     "a49e8e381abb46158549da6735190946": {
      "model_module": "@jupyter-widgets/base",
      "model_module_version": "1.2.0",
      "model_name": "LayoutModel",
      "state": {}
     },
     "aae4f064c54e4827ba78bc6a610e65dc": {
      "model_module": "@jupyter-widgets/base",
      "model_module_version": "1.2.0",
      "model_name": "LayoutModel",
      "state": {}
     },
     "ad4c3dff8559456b8392504d1e2e01c4": {
      "model_module": "@jupyter-widgets/controls",
      "model_module_version": "1.5.0",
      "model_name": "HBoxModel",
      "state": {
       "children": [
        "IPY_MODEL_2f30837bf8af4b2c90becb78b0e47857",
        "IPY_MODEL_e873933bb348423d8b5e91048ec9f60e",
        "IPY_MODEL_adb1d105ef114f248ad4aef0949e5738",
        "IPY_MODEL_4ec9738d666c4a16bdee8503185e3911",
        "IPY_MODEL_f70ed2bc5f6645919b7323fb7292b85b",
        "IPY_MODEL_71bd539e94ab43a9916c30cab2353128",
        "IPY_MODEL_f4d411a55a2841e0ad86300c615bf31e",
        "IPY_MODEL_64ba16ade2a04b23be204e383887d5ef",
        "IPY_MODEL_b939f4f23e17462387dd06de8fe04908",
        "IPY_MODEL_570a7fc8035c4b82822cbbb56c29229c",
        "IPY_MODEL_d75ecef53a664adf92238092c3af3e4a"
       ],
       "layout": "IPY_MODEL_4ebb43709436410e91a461bc22f4055e"
      }
     },
     "adac066220874777bbe4600b53bb03f0": {
      "model_module": "@jupyter-widgets/controls",
      "model_module_version": "1.5.0",
      "model_name": "DescriptionStyleModel",
      "state": {
       "description_width": ""
      }
     },
     "adb1d105ef114f248ad4aef0949e5738": {
      "model_module": "pgljupyter",
      "model_module_version": "^1.0.4",
      "model_name": "CurveEditorModel",
      "state": {
       "_model_module_version": "^1.0.4",
       "_view_module_version": "^1.0.4",
       "children": [
        "IPY_MODEL_bbf1fcf20d8942d5a956c5923a279afb",
        "IPY_MODEL_e19dacb101e64245840cfeb9bfe0542a"
       ],
       "layout": "IPY_MODEL_25db3b264dd44737a07e9b916eb96a82"
      }
     },
     "aed2ac98a1d5455b9ad8f589658e6d46": {
      "model_module": "@jupyter-widgets/base",
      "model_module_version": "1.2.0",
      "model_name": "LayoutModel",
      "state": {
       "margin": "5px"
      }
     },
     "afa8588b92604f8d9c3ddec67aa64c05": {
      "model_module": "@jupyter-widgets/controls",
      "model_module_version": "1.5.0",
      "model_name": "ButtonModel",
      "state": {
       "description": "Add",
       "layout": "IPY_MODEL_d82cffbe3ecb47b5a7b810d819ae8b4d",
       "style": "IPY_MODEL_7745001271fb4e2eae101871e3ed4af5"
      }
     },
     "b074e5e5db044661b98eda55e6e86398": {
      "model_module": "@jupyter-widgets/controls",
      "model_module_version": "1.5.0",
      "model_name": "BoundedIntTextModel",
      "state": {
       "description": "index",
       "layout": "IPY_MODEL_9edb72a393014248ae3c951c92b1ae12",
       "style": "IPY_MODEL_cc8dec1d19094e8a80b422419a46e169",
       "value": 2
      }
     },
     "b130cf26c4ab4c8e85b62e57ca8e1b78": {
      "model_module": "@jupyter-widgets/controls",
      "model_module_version": "1.5.0",
      "model_name": "ColorPickerModel",
      "state": {
       "description": "ambient",
       "disabled": false,
       "layout": "IPY_MODEL_ff9485991ccd4da3a8b3037a5e6585ea",
       "style": "IPY_MODEL_85426d78ce504d30a6ee5e0a10a2bc8c",
       "value": "#295426"
      }
     },
     "b18a36190c7a4041b43e870b29d29198": {
      "model_module": "@jupyter-widgets/base",
      "model_module_version": "1.2.0",
      "model_name": "LayoutModel",
      "state": {}
     },
     "b1cc6d0744a64b6499f86d70d83bba2d": {
      "model_module": "@jupyter-widgets/base",
      "model_module_version": "1.2.0",
      "model_name": "LayoutModel",
      "state": {
       "margin": "10px 10px"
      }
     },
     "b2925fe5ea15464c939fc97b10b26bed": {
      "model_module": "pgljupyter",
      "model_module_version": "^1.0.4",
      "model_name": "_CurveEditorModel",
      "state": {
       "_model_module_version": "^1.0.4",
       "_view_module_version": "^1.0.4",
       "layout": "IPY_MODEL_c6167ba55f5c4ac5afccfe7356170e97",
       "name": "profile",
       "points": [
        [
         -0.4037968924616441,
         0.007340293853329988
        ],
        [
         -0.15206200222345528,
         0.15118880256086648
        ],
        [
         0.00077703827830225,
         -0.07806975819176981
        ],
        [
         0.19856873775116482,
         0.17366513204641904
        ],
        [
         0.4217867849545588,
         0.015395298785451317
        ]
       ],
       "type": "NurbsCurve2D"
      }
     },
     "b49db4c1a384487faa90d3826484d0bd": {
      "buffers": [
       {
        "data": "eNpt1HtQVFUYAPDDgizPljCcVYFlXQjZAwTLIizu/XiLgggzPgJNHhswrG6uswJpgYUpj3DyEQUqCFqQ7CVCIGrEe32MxYbAANnolKAJoSEEDPGWjHv8I3U6M797vu+bb86ZM3PuEasiwmOiEXIKsrZwkkjESxBCvCVoc3ry3lTeYmxshqKTM1J16mQNly41R+H7M3SZ+9TaPVy+wgzFajUHNOo9pNvZCm3K1Kn2hWbqslJlYUaLJTFX5wnR5vXBseEbwhJ9ExVymcLXS+Etl/vK/WTchnxuZUTGcsT1zw/2rn0eQh9e2Xes0Z3rWPGskYdeHJNVAtzR3k4tzjSXGznz0V6dNk2tSY2LfmgQcPu8z3ay3Xlj3HKBzs0r2cjuFcDFkoaoAEF/BcPFtVujgPrFm9Tf/fs2nFRmK7nYmI9CtRqtLtH7/r0BgzLYQ4BQUNBzB/P772D+/mu8/PkvH0y2+A0vbaE4OkdX4Gw3qIhVFwuIpw6nicbsasLkyzriuqqRmNN8S1x+8xmr8kYi5mw9oblQS2yc/YowvXqeqFhVTtgGlRBqzxNENq+I+N5wmGh3zCG82b3E0ZwUYm16HFF1dCPRNBJEuH7qS+TkSokzLSLifpgdEe9oScxHGhFWxaMUp4zqJUYKbhJmuZeIHgc98YPqNOEXWUT00geIcIsEQlgVSpRnS4n0E7aEZf20kiOqaCfUD78g3BfeI+TNshf8z8WSvXSZFC5CbDd0hyo5VKasT3HC6bUDFO+SPXVo52psYjFG/fPObmrAzAsrZucohVc5NZzghxO+40FS2w1KuA1wbh0fIvKHqY6BMOyxwwqc5BawsBCJlzbZQL6fIwR/Fot31L8G7ptkUFK6FXuGCqFi/zqQTMfjoqSVcLh5O0yU7MTVUw6wm6+FPaokPD0hgqtNubBErsK9gWIYHS6CgEEVHmTFcMbtcxBFqfCWWDFkpVVCuSQJe7WK4EiZHlreeAv3TdqD2bUmyFm+DdtWCGHqOgvffBKNfQps4U6hAVBSCM4/ZgHHZ7rBJ1GOhcUICv/8FdRqCbabe0RlePRDYJYA/1jQTnUVDcHBuHGpn2UttcwwBp4/s9Kv+QVU74VJUBcWSJU1IdRF41kYuSeSikf7lUda56B2xMcNhyJl5NM56In6uOZtHH75SvssuBrk+qE+xGQmTMOtlOP64bvRzHzfBDg43dDPdBYx5rtGYdxkUn+2po6xNh+CLvtX6YD+TmaguR9M17nQpeceMzG778JBlzX0+G0j9pT4FmgbQ2ijmxZsw+M2KHu4gT43ImAR7xr0hETRkj9s2OzWZvjtlQhaMmjNBlbXwkoToAUZfNb0r/OwLMmb/ujBE2aq5RQ86BHTHzQPMm2ixd9GYUObVnQwHfxC2LUwq2+SNzASTS6sHurS/z5czNjlZcCjmSp9ZaWGOTmUBut7dPo8oQfT9CQeyMNkxL1HxiZIk5qc5tUNP/m7bXmde2EENjb/ApZqIIM=",
        "encoding": "base64",
        "path": [
         "scene",
         "data"
        ]
       }
      ],
      "model_module": "pgljupyter",
      "model_module_version": "^1.0.4",
      "model_name": "LsystemWidgetModel",
      "state": {
       "_model_module_version": "^1.0.4",
       "_view_module_version": "^1.0.4",
       "axes_helper": false,
       "derivationLength": 161,
       "layout": "IPY_MODEL_31512e4f62a24b9ea214ad6d94419d66",
       "light_helper": false,
       "plane": true,
       "scene": {
        "derivationStep": 160,
        "id": 160,
        "scene": "<openalea.plantgl.scenegraph._pglsg.Scene object at 0x7f6e3bb92be0>"
       },
       "size_display": [
        400,
        400
       ],
       "size_world": 2,
       "unit": 0
      }
     },
     "b7ab979f66804bb1863c514a53354d19": {
      "model_module": "@jupyter-widgets/base",
      "model_module_version": "1.2.0",
      "model_name": "LayoutModel",
      "state": {
       "margin": "10px 10px"
      }
     },
     "b8da78d4b8434850ab1b382716734cdb": {
      "model_module": "pgljupyter",
      "model_module_version": "^1.0.4",
      "model_name": "_CurveEditorModel",
      "state": {
       "_model_module_version": "^1.0.4",
       "_view_module_version": "^1.0.4",
       "layout": "IPY_MODEL_a49e8e381abb46158549da6735190946",
       "name": "axis7",
       "points": [
        [
         -0.5,
         0
        ],
        [
         -0.45381259264846796,
         0.12013621899284291
        ],
        [
         -0.3893521988258032,
         0.2189754895209291
        ],
        [
         -0.43232579470757976,
         0.3350041984017258
        ],
        [
         -0.5612465823529095,
         0.3822751538716801
        ],
        [
         -0.6343016953519296,
         0.2920306025199492
        ]
       ],
       "type": "NurbsCurve2D"
      }
     },
     "b939f4f23e17462387dd06de8fe04908": {
      "model_module": "pgljupyter",
      "model_module_version": "^1.0.4",
      "model_name": "CurveEditorModel",
      "state": {
       "_model_module_version": "^1.0.4",
       "_view_module_version": "^1.0.4",
       "children": [
        "IPY_MODEL_f431df7ee14448b9bcd1e27ee98442a5",
        "IPY_MODEL_b8da78d4b8434850ab1b382716734cdb"
       ],
       "layout": "IPY_MODEL_d79503a902f642b695e9553f29abcc0a"
      }
     },
     "b9cadccbeff742e984c40b469f1f9b57": {
      "model_module": "@jupyter-widgets/base",
      "model_module_version": "1.2.0",
      "model_name": "LayoutModel",
      "state": {
       "margin": "10px 10px"
      }
     },
     "bb17eb04b33c46e3919152ed9b994a80": {
      "model_module": "@jupyter-widgets/controls",
      "model_module_version": "1.5.0",
      "model_name": "AccordionModel",
      "state": {
       "_titles": {
        "0": "materials",
        "1": "leaf"
       },
       "children": [
        "IPY_MODEL_9ac9c261f4d94a5ba13a87d64f2684a3",
        "IPY_MODEL_981ee5e2fea74798b6188809b02698b4"
       ],
       "layout": "IPY_MODEL_3a6936835bb04124975159efb99d3bd1"
      }
     },
     "bbdebeef427142ef845c347407766d9c": {
      "model_module": "@jupyter-widgets/base",
      "model_module_version": "1.2.0",
      "model_name": "LayoutModel",
      "state": {}
     },
     "bbf1fcf20d8942d5a956c5923a279afb": {
      "model_module": "@jupyter-widgets/controls",
      "model_module_version": "1.5.0",
      "model_name": "TextModel",
      "state": {
       "continuous_update": false,
       "description": "name",
       "layout": "IPY_MODEL_4b02d4a671254556872a6acd80807734",
       "style": "IPY_MODEL_8db48ea1bec9448cbb3550d2cb3012c7",
       "value": "axis1"
      }
     },
     "be154e81645d4cbb9dd818478ca5abad": {
      "model_module": "@jupyter-widgets/base",
      "model_module_version": "1.2.0",
      "model_name": "LayoutModel",
      "state": {}
     },
     "c2fc62e49a744f3cb9d01e053f214052": {
      "model_module": "pgljupyter",
      "model_module_version": "^1.0.4",
      "model_name": "_CurveEditorModel",
      "state": {
       "_model_module_version": "^1.0.4",
       "_view_module_version": "^1.0.4",
       "layout": "IPY_MODEL_c3bced7cd62c4dd5a1c9913e4babc3fd",
       "name": "axis3",
       "points": [
        [
         -0.5,
         0
        ],
        [
         -0.44177944697623517,
         0.10954939207802514
        ],
        [
         -0.38806606515805336,
         0.2035478102598433
        ],
        [
         -0.31018166152168974,
         0.2465185157143888
        ],
        [
         -0.21618322284984254,
         0.25994686116893423
        ],
        [
         -0.15441287473899162,
         0.14177742116893421
        ]
       ],
       "type": "NurbsCurve2D"
      }
     },
     "c3bced7cd62c4dd5a1c9913e4babc3fd": {
      "model_module": "@jupyter-widgets/base",
      "model_module_version": "1.2.0",
      "model_name": "LayoutModel",
      "state": {}
     },
     "c585e17054ea4dfe995589c316b3af73": {
      "model_module": "@jupyter-widgets/controls",
      "model_module_version": "1.5.0",
      "model_name": "ButtonModel",
      "state": {
       "description": "Save changes",
       "layout": "IPY_MODEL_61fbfd668b924f8fbd84d4fca7c86a5a",
       "style": "IPY_MODEL_d42f3800c6c84cd3af51ec92ff20da79"
      }
     },
     "c6143dc9c85e45d0a3ceb341a034f912": {
      "model_module": "@jupyter-widgets/base",
      "model_module_version": "1.2.0",
      "model_name": "LayoutModel",
      "state": {}
     },
     "c6167ba55f5c4ac5afccfe7356170e97": {
      "model_module": "@jupyter-widgets/base",
      "model_module_version": "1.2.0",
      "model_name": "LayoutModel",
      "state": {}
     },
     "c78db5451d984edb8d2e84960275032a": {
      "model_module": "@jupyter-widgets/controls",
      "model_module_version": "1.5.0",
      "model_name": "DescriptionStyleModel",
      "state": {
       "description_width": ""
      }
     },
     "cc884ab5e7654ae1916e40cbdc9a5df5": {
      "model_module": "@jupyter-widgets/controls",
      "model_module_version": "1.5.0",
      "model_name": "TextModel",
      "state": {
       "continuous_update": false,
       "description": "name",
       "layout": "IPY_MODEL_9e00c09f33374529ba3f21fe22620458",
       "style": "IPY_MODEL_5152f8a89a14419a81cb9733ffacd149",
       "value": "leaf"
      }
     },
     "cc8dec1d19094e8a80b422419a46e169": {
      "model_module": "@jupyter-widgets/controls",
      "model_module_version": "1.5.0",
      "model_name": "DescriptionStyleModel",
      "state": {
       "description_width": ""
      }
     },
     "cc9699fdac5446e686bc35e72c3c17a1": {
      "model_module": "@jupyter-widgets/controls",
      "model_module_version": "1.5.0",
      "model_name": "DescriptionStyleModel",
      "state": {
       "description_width": ""
      }
     },
     "cd740424e4a34e248cd9c63577051663": {
      "model_module": "@jupyter-widgets/base",
      "model_module_version": "1.2.0",
      "model_name": "LayoutModel",
      "state": {}
     },
     "ceb65bf4f66f4dbf9291858e06b0b8a9": {
      "model_module": "@jupyter-widgets/controls",
      "model_module_version": "1.5.0",
      "model_name": "AccordionModel",
      "state": {
       "layout": "IPY_MODEL_e64acac2ef09442cbc6d2bcd8dfb54c9"
      }
     },
     "cf185831b9c14230ab78727e34cbbd32": {
      "model_module": "@jupyter-widgets/controls",
      "model_module_version": "1.5.0",
      "model_name": "DescriptionStyleModel",
      "state": {
       "description_width": ""
      }
     },
     "d20cb981511f4be3aaef60f9f79acf6c": {
      "model_module": "@jupyter-widgets/controls",
      "model_module_version": "1.5.0",
      "model_name": "HBoxModel",
      "state": {
       "children": [
        "IPY_MODEL_3eac6e7833e94a79a52e5285162a18c5"
       ],
       "layout": "IPY_MODEL_4ebb43709436410e91a461bc22f4055e"
      }
     },
     "d42f3800c6c84cd3af51ec92ff20da79": {
      "model_module": "@jupyter-widgets/controls",
      "model_module_version": "1.5.0",
      "model_name": "ButtonStyleModel",
      "state": {}
     },
     "d625faa6edff4f29b991070a8bb8fba1": {
      "model_module": "@jupyter-widgets/controls",
      "model_module_version": "1.5.0",
      "model_name": "DescriptionStyleModel",
      "state": {
       "description_width": ""
      }
     },
     "d75ecef53a664adf92238092c3af3e4a": {
      "model_module": "pgljupyter",
      "model_module_version": "^1.0.4",
      "model_name": "CurveEditorModel",
      "state": {
       "_model_module_version": "^1.0.4",
       "_view_module_version": "^1.0.4",
       "children": [
        "IPY_MODEL_1cf0f241f1dc445ea5c95ace50dae7cc",
        "IPY_MODEL_0e1db58d9e084ed88c27ff151cd77c33"
       ],
       "layout": "IPY_MODEL_b7ab979f66804bb1863c514a53354d19"
      }
     },
     "d79503a902f642b695e9553f29abcc0a": {
      "model_module": "@jupyter-widgets/base",
      "model_module_version": "1.2.0",
      "model_name": "LayoutModel",
      "state": {
       "margin": "10px 10px"
      }
     },
     "d82cffbe3ecb47b5a7b810d819ae8b4d": {
      "model_module": "@jupyter-widgets/base",
      "model_module_version": "1.2.0",
      "model_name": "LayoutModel",
      "state": {}
     },
     "d997b9005ba047ebb6c3f8bc46eeb974": {
      "model_module": "@jupyter-widgets/base",
      "model_module_version": "1.2.0",
      "model_name": "LayoutModel",
      "state": {}
     },
     "da3b2fe341c74e9b8334c4740e4daf8e": {
      "model_module": "@jupyter-widgets/base",
      "model_module_version": "1.2.0",
      "model_name": "LayoutModel",
      "state": {}
     },
     "db6f1bc0241e4c4c8e9ba3b2a09065b3": {
      "model_module": "@jupyter-widgets/base",
      "model_module_version": "1.2.0",
      "model_name": "LayoutModel",
      "state": {}
     },
     "dc1908abc8f14b6484d9a31e5ec80b75": {
      "model_module": "@jupyter-widgets/controls",
      "model_module_version": "1.5.0",
      "model_name": "TextModel",
      "state": {
       "continuous_update": false,
       "description": "name",
       "layout": "IPY_MODEL_7d47b0b390634e45ad8df63209f5d067",
       "style": "IPY_MODEL_8d1d8cf43b074452b542fd6e2fc02444",
       "value": "axis3"
      }
     },
     "ddd114500bab4e4da218f7c525faf008": {
      "model_module": "@jupyter-widgets/controls",
      "model_module_version": "1.5.0",
      "model_name": "ButtonModel",
      "state": {
       "description": "Add",
       "layout": "IPY_MODEL_63e15b477fa640359f627a05f309e53e",
       "style": "IPY_MODEL_2ebaa839647e43dcafb9095d2c925e12"
      }
     },
     "e19dacb101e64245840cfeb9bfe0542a": {
      "model_module": "pgljupyter",
      "model_module_version": "^1.0.4",
      "model_name": "_CurveEditorModel",
      "state": {
       "_model_module_version": "^1.0.4",
       "_view_module_version": "^1.0.4",
       "layout": "IPY_MODEL_28f3afc97478496c8d2bf96381f762e2",
       "name": "axis1",
       "points": [
        [
         -0.5,
         0
        ],
        [
         -0.49552241639640116,
         0.21742664949363016
        ],
        [
         -0.21352716185094664,
         0.22279798767544834
        ],
        [
         -0.18667049143188477,
         0.02405847494817561
        ],
        [
         -0.36929596912367396,
         0.03748682040272106
        ],
        [
         -0.33438227094185574,
         0.1126855549481756
        ]
       ],
       "type": "NurbsCurve2D"
      }
     },
     "e1fd2aba80a049ee866bc3c603f06511": {
      "model_module": "@jupyter-widgets/base",
      "model_module_version": "1.2.0",
      "model_name": "LayoutModel",
      "state": {}
     },
     "e64acac2ef09442cbc6d2bcd8dfb54c9": {
      "model_module": "@jupyter-widgets/base",
      "model_module_version": "1.2.0",
      "model_name": "LayoutModel",
      "state": {}
     },
     "e873933bb348423d8b5e91048ec9f60e": {
      "model_module": "pgljupyter",
      "model_module_version": "^1.0.4",
      "model_name": "CurveEditorModel",
      "state": {
       "_model_module_version": "^1.0.4",
       "_view_module_version": "^1.0.4",
       "children": [
        "IPY_MODEL_f7adb7b403974f9ca0de6b3d6a4b8ffc",
        "IPY_MODEL_b2925fe5ea15464c939fc97b10b26bed"
       ],
       "layout": "IPY_MODEL_12bffccac09e40c4945605970c3ef9ca"
      }
     },
     "eb60d44d985044a7ba046aeeeda1f9b3": {
      "model_module": "@jupyter-widgets/base",
      "model_module_version": "1.2.0",
      "model_name": "LayoutModel",
      "state": {
       "margin": "10px 10px"
      }
     },
     "eb6853e8466445d7ab6f9d4abbb52021": {
      "model_module": "@jupyter-widgets/base",
      "model_module_version": "1.2.0",
      "model_name": "LayoutModel",
      "state": {}
     },
     "ed06b68422a74994a4100bb4002c8364": {
      "model_module": "@jupyter-widgets/base",
      "model_module_version": "1.2.0",
      "model_name": "LayoutModel",
      "state": {}
     },
     "ee62560e174d4720af727e6fb6fdecc1": {
      "model_module": "@jupyter-widgets/controls",
      "model_module_version": "1.5.0",
      "model_name": "DescriptionStyleModel",
      "state": {
       "description_width": ""
      }
     },
     "f34005fb8eff4ba9b06ae0e2b9953a9d": {
      "model_module": "@jupyter-widgets/controls",
      "model_module_version": "1.5.0",
      "model_name": "DropdownModel",
      "state": {
       "_options_labels": [
        "Integer",
        "Float",
        "Bool"
       ],
       "index": 0,
       "layout": "IPY_MODEL_a2a704f2d90344fdade7f0d35e8ad088",
       "style": "IPY_MODEL_5e186ba9a6f141c99d0039917629d7ef"
      }
     },
     "f431df7ee14448b9bcd1e27ee98442a5": {
      "model_module": "@jupyter-widgets/controls",
      "model_module_version": "1.5.0",
      "model_name": "TextModel",
      "state": {
       "continuous_update": false,
       "description": "name",
       "layout": "IPY_MODEL_8310e527d29b406f81d980ed8e8c607c",
       "style": "IPY_MODEL_9da079edc20949b7b6c7c2ffcaa70456",
       "value": "axis7"
      }
     },
     "f4d411a55a2841e0ad86300c615bf31e": {
      "model_module": "pgljupyter",
      "model_module_version": "^1.0.4",
      "model_name": "CurveEditorModel",
      "state": {
       "_model_module_version": "^1.0.4",
       "_view_module_version": "^1.0.4",
       "children": [
        "IPY_MODEL_7b53cbfb437c4692ad90c9292828536f",
        "IPY_MODEL_103cfed3ada34f43b00c1064b2386ac1"
       ],
       "layout": "IPY_MODEL_9d364f8fa11842d6a05f2d183ee78742"
      }
     },
     "f70ed2bc5f6645919b7323fb7292b85b": {
      "model_module": "pgljupyter",
      "model_module_version": "^1.0.4",
      "model_name": "CurveEditorModel",
      "state": {
       "_model_module_version": "^1.0.4",
       "_view_module_version": "^1.0.4",
       "children": [
        "IPY_MODEL_dc1908abc8f14b6484d9a31e5ec80b75",
        "IPY_MODEL_c2fc62e49a744f3cb9d01e053f214052"
       ],
       "layout": "IPY_MODEL_b1cc6d0744a64b6499f86d70d83bba2d"
      }
     },
     "f7adb7b403974f9ca0de6b3d6a4b8ffc": {
      "model_module": "@jupyter-widgets/controls",
      "model_module_version": "1.5.0",
      "model_name": "TextModel",
      "state": {
       "continuous_update": false,
       "description": "name",
       "layout": "IPY_MODEL_7914245ae8344d3a89ed53126e40fa85",
       "style": "IPY_MODEL_7fe9deb8e50c47c1a8350cc8af35204a",
       "value": "profile"
      }
     },
     "f7eb4ab96bde41af8a3044fc32e608e1": {
      "model_module": "@jupyter-widgets/controls",
      "model_module_version": "1.5.0",
      "model_name": "FloatSliderModel",
      "state": {
       "continuous_update": false,
       "description": "transparency",
       "layout": "IPY_MODEL_bbdebeef427142ef845c347407766d9c",
       "max": 1,
       "step": 0.1,
       "style": "IPY_MODEL_3cdcccca85294cb69072286ac276c230"
      }
     },
     "fb5fa11c4ac74d10b26deb0d76727c8d": {
      "model_module": "@jupyter-widgets/controls",
      "model_module_version": "1.5.0",
      "model_name": "HBoxModel",
      "state": {
       "children": [
        "IPY_MODEL_1f37ee887d2d4d1286d5fb71fe6c42d8",
        "IPY_MODEL_1ef2a194b1dd4779bdaeade219505deb"
       ],
       "layout": "IPY_MODEL_4696de25cd0f4d298a22863342a26813"
      }
     },
     "fd2760584bc04a9491740eacf3e918dc": {
      "model_module": "@jupyter-widgets/base",
      "model_module_version": "1.2.0",
      "model_name": "LayoutModel",
      "state": {}
     },
     "fd6498a22e714b30b5a5df73c0f119c7": {
      "model_module": "@jupyter-widgets/controls",
      "model_module_version": "1.5.0",
      "model_name": "TextModel",
      "state": {
       "continuous_update": false,
       "description": "name",
       "layout": "IPY_MODEL_98009aa29b134120a094d7a0c162bdcb",
       "style": "IPY_MODEL_ee62560e174d4720af727e6fb6fdecc1",
       "value": "axis4"
      }
     },
     "fd7076f2c2624839afa32b1452ef874b": {
      "model_module": "@jupyter-widgets/controls",
      "model_module_version": "1.5.0",
      "model_name": "DropdownModel",
      "state": {
       "_options_labels": [
        "Curve",
        "Function"
       ],
       "index": 0,
       "layout": "IPY_MODEL_691edf9d77094a0794917fc17aa3b34c",
       "style": "IPY_MODEL_cc9699fdac5446e686bc35e72c3c17a1"
      }
     },
     "ff9485991ccd4da3a8b3037a5e6585ea": {
      "model_module": "@jupyter-widgets/base",
      "model_module_version": "1.2.0",
      "model_name": "LayoutModel",
      "state": {}
     }
    },
    "version_major": 2,
    "version_minor": 0
   }
  }
 },
 "nbformat": 4,
 "nbformat_minor": 4
}
