{
 "cells": [
  {
   "cell_type": "code",
   "execution_count": 1,
   "metadata": {},
   "outputs": [],
   "source": [
    "import io\n",
    "import pgljupyter\n",
    "from openalea.lpy.lsysparameters import LsystemParameters"
   ]
  },
  {
   "cell_type": "code",
   "execution_count": 2,
   "metadata": {},
   "outputs": [],
   "source": [
    "lp = LsystemParameters()\n",
    "with io.open('sweep_surface.json') as file:\n",
    "    lp.load(file)\n",
    "lp.set_defaut_category('default')"
   ]
  },
  {
   "cell_type": "code",
   "execution_count": 3,
   "metadata": {},
   "outputs": [
    {
     "data": {
      "application/vnd.jupyter.widget-view+json": {
       "model_id": "13c782949d51425eaad59c861b18310f",
       "version_major": 2,
       "version_minor": 0
      },
      "text/plain": [
       "HBox(children=(HBox(children=(LsystemWidget(derivationLength=2, is_magic=True, scene={'data': b'x\\xda\\x8d\\xda\\…"
      ]
     },
     "metadata": {},
     "output_type": "display_data"
    }
   ],
   "source": [
    "%%lpy -p lp\n",
    "\n",
    "length = 1\n",
    "dl = 0.01\n",
    "globalwidth = 0.5\n",
    "\n",
    "Axiom: ,(2) Sweep(path,section,length,dl,globalwidth,leafwidth)\n",
    "\n",
    "derivation length: 1\n",
    "production:\n",
    "interpretation:\n",
    "\n",
    "endlsystem"
   ]
  },
  {
   "cell_type": "code",
   "execution_count": null,
   "metadata": {},
   "outputs": [],
   "source": []
  }
 ],
 "metadata": {
  "kernelspec": {
   "display_name": "Python 3",
   "language": "python",
   "name": "python3"
  },
  "language_info": {
   "codemirror_mode": {
    "name": "ipython",
    "version": 3
   },
   "file_extension": ".py",
   "mimetype": "text/x-python",
   "name": "python",
   "nbconvert_exporter": "python",
   "pygments_lexer": "ipython3",
   "version": "3.9.2"
  },
  "widgets": {
   "application/vnd.jupyter.widget-state+json": {
    "state": {
     "03825db3c6c645f48f259b193300f43d": {
      "buffers": [
       {
        "data": "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",
        "encoding": "base64",
        "path": [
         "scene",
         "data"
        ]
       }
      ],
      "model_module": "pgljupyter",
      "model_module_version": "^1.0.4",
      "model_name": "LsystemWidgetModel",
      "state": {
       "_model_module_version": "^1.0.4",
       "_view_module_version": "^1.0.4",
       "axes_helper": false,
       "derivationLength": 2,
       "is_magic": true,
       "layout": "IPY_MODEL_be00946a1a8e4675af4a4665bcb01f74",
       "light_helper": false,
       "plane": true,
       "scene": {
        "derivationStep": 0,
        "id": 0,
        "scene": "<openalea.plantgl.scenegraph._pglsg.Scene object at 0x7efd81f2ae80>"
       },
       "size_display": [
        400,
        400
       ],
       "size_world": 1,
       "unit": 0
      }
     },
     "0bfbaaecf83c4253a7faf7819baf5e85": {
      "model_module": "pgljupyter",
      "model_module_version": "^1.0.4",
      "model_name": "CurveEditorModel",
      "state": {
       "_model_module_version": "^1.0.4",
       "_view_module_version": "^1.0.4",
       "children": [
        "IPY_MODEL_c1dfe4dab5314a3592a300a4d563f47e"
       ],
       "layout": "IPY_MODEL_9f86dc8b336949ec97b20da1ccc2f9ff"
      }
     },
     "0d9bcdab16694e65af5cf6372c06bd06": {
      "model_module": "pgljupyter",
      "model_module_version": "^1.0.4",
      "model_name": "_CurveEditorModel",
      "state": {
       "_model_module_version": "^1.0.4",
       "_view_module_version": "^1.0.4",
       "is_function": true,
       "layout": "IPY_MODEL_dd99a29b46804cc4bb3914cf6cf83ade",
       "name": "leafwidth",
       "points": [
        [
         0,
         0.0137255
        ],
        [
         0.320346,
         0.341991
        ],
        [
         0.649351,
         0.121212
        ],
        [
         1,
         0
        ]
       ],
       "show_name": true,
       "type": "NurbsCurve2D"
      }
     },
     "13c782949d51425eaad59c861b18310f": {
      "model_module": "@jupyter-widgets/controls",
      "model_module_version": "1.5.0",
      "model_name": "HBoxModel",
      "state": {
       "children": [
        "IPY_MODEL_17de3d9c0cfe4572aef3395bad77bc06",
        "IPY_MODEL_75cfd9751a4d4920b2ea77c34bebc779"
       ],
       "layout": "IPY_MODEL_96b05731260145a7ac156231dc451ea5"
      }
     },
     "17de3d9c0cfe4572aef3395bad77bc06": {
      "model_module": "@jupyter-widgets/controls",
      "model_module_version": "1.5.0",
      "model_name": "HBoxModel",
      "state": {
       "children": [
        "IPY_MODEL_03825db3c6c645f48f259b193300f43d"
       ],
       "layout": "IPY_MODEL_1f81b3eb167943df8a00c3fa4e8c97e7"
      }
     },
     "1d3efd58c89248f8b7280bb125e6d37f": {
      "model_module": "pgljupyter",
      "model_module_version": "^1.0.4",
      "model_name": "CurveEditorModel",
      "state": {
       "_model_module_version": "^1.0.4",
       "_view_module_version": "^1.0.4",
       "children": [
        "IPY_MODEL_0d9bcdab16694e65af5cf6372c06bd06"
       ],
       "layout": "IPY_MODEL_eca20d5599094d22bbe519fa0196f756"
      }
     },
     "1f81b3eb167943df8a00c3fa4e8c97e7": {
      "model_module": "@jupyter-widgets/base",
      "model_module_version": "1.2.0",
      "model_name": "LayoutModel",
      "state": {
       "margin": "10px",
       "min_height": "400px",
       "min_width": "400px"
      }
     },
     "3855addd099840a98586c0083a40faea": {
      "model_module": "@jupyter-widgets/controls",
      "model_module_version": "1.5.0",
      "model_name": "TextModel",
      "state": {
       "continuous_update": false,
       "description": "name",
       "layout": "IPY_MODEL_d951b7e7c1024fc3b97e01703419ae9e",
       "style": "IPY_MODEL_75239c6acd8b4cd080289d7fd4d8d8c9",
       "value": "leafwidth"
      }
     },
     "45329fc8aaaa45f6919734278d0e026c": {
      "model_module": "@jupyter-widgets/base",
      "model_module_version": "1.2.0",
      "model_name": "LayoutModel",
      "state": {}
     },
     "4595ca4af9e04c3b9e19b16e86b98909": {
      "model_module": "@jupyter-widgets/base",
      "model_module_version": "1.2.0",
      "model_name": "LayoutModel",
      "state": {}
     },
     "53429565fec24d4a8e7221e552efa220": {
      "model_module": "@jupyter-widgets/base",
      "model_module_version": "1.2.0",
      "model_name": "LayoutModel",
      "state": {}
     },
     "75239c6acd8b4cd080289d7fd4d8d8c9": {
      "model_module": "@jupyter-widgets/controls",
      "model_module_version": "1.5.0",
      "model_name": "DescriptionStyleModel",
      "state": {
       "description_width": ""
      }
     },
     "75cfd9751a4d4920b2ea77c34bebc779": {
      "model_module": "@jupyter-widgets/controls",
      "model_module_version": "1.5.0",
      "model_name": "HBoxModel",
      "state": {
       "children": [
        "IPY_MODEL_0bfbaaecf83c4253a7faf7819baf5e85",
        "IPY_MODEL_b3b84b7e682a4f36811de12cbca37d8d",
        "IPY_MODEL_1d3efd58c89248f8b7280bb125e6d37f"
       ],
       "layout": "IPY_MODEL_bc9bbd7263f646a1a0236402a52245fe"
      }
     },
     "96b05731260145a7ac156231dc451ea5": {
      "model_module": "@jupyter-widgets/base",
      "model_module_version": "1.2.0",
      "model_name": "LayoutModel",
      "state": {}
     },
     "9f86dc8b336949ec97b20da1ccc2f9ff": {
      "model_module": "@jupyter-widgets/base",
      "model_module_version": "1.2.0",
      "model_name": "LayoutModel",
      "state": {
       "margin": "10px 10px"
      }
     },
     "b3b84b7e682a4f36811de12cbca37d8d": {
      "model_module": "pgljupyter",
      "model_module_version": "^1.0.4",
      "model_name": "CurveEditorModel",
      "state": {
       "_model_module_version": "^1.0.4",
       "_view_module_version": "^1.0.4",
       "children": [
        "IPY_MODEL_f39360cb30a24c268f6ef79ba822dff6"
       ],
       "layout": "IPY_MODEL_bdb4d03b75b14b1099886f0b90f333ea"
      }
     },
     "bbd072b5daf5496783186c8a8c43d668": {
      "model_module": "@jupyter-widgets/base",
      "model_module_version": "1.2.0",
      "model_name": "LayoutModel",
      "state": {}
     },
     "bc9bbd7263f646a1a0236402a52245fe": {
      "model_module": "@jupyter-widgets/base",
      "model_module_version": "1.2.0",
      "model_name": "LayoutModel",
      "state": {
       "flex_flow": "row wrap",
       "margin": "0"
      }
     },
     "bdb4d03b75b14b1099886f0b90f333ea": {
      "model_module": "@jupyter-widgets/base",
      "model_module_version": "1.2.0",
      "model_name": "LayoutModel",
      "state": {
       "margin": "10px 10px"
      }
     },
     "be00946a1a8e4675af4a4665bcb01f74": {
      "model_module": "@jupyter-widgets/base",
      "model_module_version": "1.2.0",
      "model_name": "LayoutModel",
      "state": {}
     },
     "c1dfe4dab5314a3592a300a4d563f47e": {
      "model_module": "pgljupyter",
      "model_module_version": "^1.0.4",
      "model_name": "_CurveEditorModel",
      "state": {
       "_model_module_version": "^1.0.4",
       "_view_module_version": "^1.0.4",
       "layout": "IPY_MODEL_bbd072b5daf5496783186c8a8c43d668",
       "name": "path",
       "points": [
        [
         -0.5,
         0
        ],
        [
         -0.192641,
         0.281385
        ],
        [
         0.0238095,
         -0.177489
        ],
        [
         0.5,
         0
        ]
       ],
       "show_name": true,
       "type": "NurbsCurve2D"
      }
     },
     "d951b7e7c1024fc3b97e01703419ae9e": {
      "model_module": "@jupyter-widgets/base",
      "model_module_version": "1.2.0",
      "model_name": "LayoutModel",
      "state": {}
     },
     "da98bdf482d14da5904d28ceec1ffc16": {
      "model_module": "@jupyter-widgets/controls",
      "model_module_version": "1.5.0",
      "model_name": "DescriptionStyleModel",
      "state": {
       "description_width": ""
      }
     },
     "dd99a29b46804cc4bb3914cf6cf83ade": {
      "model_module": "@jupyter-widgets/base",
      "model_module_version": "1.2.0",
      "model_name": "LayoutModel",
      "state": {}
     },
     "e096127666bb43c3b078e085e8eee22c": {
      "model_module": "@jupyter-widgets/controls",
      "model_module_version": "1.5.0",
      "model_name": "TextModel",
      "state": {
       "continuous_update": false,
       "description": "name",
       "layout": "IPY_MODEL_4595ca4af9e04c3b9e19b16e86b98909",
       "style": "IPY_MODEL_da98bdf482d14da5904d28ceec1ffc16",
       "value": "path"
      }
     },
     "ec918d72c6a1499d88f4b9ace13e1646": {
      "model_module": "@jupyter-widgets/controls",
      "model_module_version": "1.5.0",
      "model_name": "DescriptionStyleModel",
      "state": {
       "description_width": ""
      }
     },
     "eca20d5599094d22bbe519fa0196f756": {
      "model_module": "@jupyter-widgets/base",
      "model_module_version": "1.2.0",
      "model_name": "LayoutModel",
      "state": {
       "margin": "10px 10px"
      }
     },
     "f0f4c01702a24404b64b784656ea196b": {
      "model_module": "@jupyter-widgets/controls",
      "model_module_version": "1.5.0",
      "model_name": "TextModel",
      "state": {
       "continuous_update": false,
       "description": "name",
       "layout": "IPY_MODEL_45329fc8aaaa45f6919734278d0e026c",
       "style": "IPY_MODEL_ec918d72c6a1499d88f4b9ace13e1646",
       "value": "section"
      }
     },
     "f39360cb30a24c268f6ef79ba822dff6": {
      "model_module": "pgljupyter",
      "model_module_version": "^1.0.4",
      "model_name": "_CurveEditorModel",
      "state": {
       "_model_module_version": "^1.0.4",
       "_view_module_version": "^1.0.4",
       "layout": "IPY_MODEL_53429565fec24d4a8e7221e552efa220",
       "name": "section",
       "points": [
        [
         -0.508658,
         0.112554
        ],
        [
         -0.162338,
         -0.155844
        ],
        [
         -0.0238095,
         0.158009
        ],
        [
         0.192641,
         -0.177489
        ],
        [
         0.582251,
         0.168831
        ]
       ],
       "show_name": true,
       "type": "NurbsCurve2D"
      }
     }
    },
    "version_major": 2,
    "version_minor": 0
   }
  }
 },
 "nbformat": 4,
 "nbformat_minor": 4
}
