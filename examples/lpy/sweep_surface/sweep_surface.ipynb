{
 "cells": [
  {
   "cell_type": "code",
   "execution_count": 1,
   "metadata": {},
   "outputs": [],
   "source": [
    "import io\n",
    "import pgljupyter\n",
    "from openalea.lpy.lsysparameters import LsystemParameters"
   ]
  },
  {
   "cell_type": "code",
   "execution_count": 2,
   "metadata": {},
   "outputs": [],
   "source": [
    "lp = LsystemParameters()\n",
    "with io.open('sweep_surface.json') as file:\n",
    "    lp.load(file)\n",
    "lp.set_defaut_category('default')"
   ]
  },
  {
   "cell_type": "code",
   "execution_count": 3,
   "metadata": {},
   "outputs": [
    {
     "data": {
      "application/vnd.jupyter.widget-view+json": {
       "model_id": "5380af23c78a479d932430fa738cb42a",
       "version_major": 2,
       "version_minor": 0
      },
      "text/plain": [
       "HBox(children=(HBox(children=(LsystemWidget(derivationLength=2, is_magic=True, scene={'data': b'x\\xda\\x8d\\xda\\…"
      ]
     },
     "metadata": {},
     "output_type": "display_data"
    }
   ],
   "source": [
    "%%lpy -p lp\n",
    "\n",
    "length = 1\n",
    "dl = 0.01\n",
    "globalwidth = 0.5\n",
    "\n",
    "Axiom: ,(2) Sweep(path,section,length,dl,globalwidth,leafwidth)\n",
    "\n",
    "derivation length: 1\n",
    "production:\n",
    "interpretation:\n",
    "\n",
    "endlsystem"
   ]
  },
  {
   "cell_type": "code",
   "execution_count": null,
   "metadata": {},
   "outputs": [],
   "source": []
  }
 ],
 "metadata": {
  "kernelspec": {
   "display_name": "Python 3",
   "language": "python",
   "name": "python3"
  },
  "language_info": {
   "codemirror_mode": {
    "name": "ipython",
    "version": 3
   },
   "file_extension": ".py",
   "mimetype": "text/x-python",
   "name": "python",
   "nbconvert_exporter": "python",
   "pygments_lexer": "ipython3",
   "version": "3.9.0"
  },
  "widgets": {
   "application/vnd.jupyter.widget-state+json": {
    "state": {
     "04413fbec29f4170a11fa04f6860919c": {
      "model_module": "@jupyter-widgets/base",
      "model_module_version": "1.2.0",
      "model_name": "LayoutModel",
      "state": {}
     },
     "04b9efebdde24b15acb6b3edf99c8701": {
      "model_module": "@jupyter-widgets/base",
      "model_module_version": "1.2.0",
      "model_name": "LayoutModel",
      "state": {
       "margin": "10px 10px"
      }
     },
     "15434d9133164dd2a1f745f4712b4aca": {
      "model_module": "@jupyter-widgets/base",
      "model_module_version": "1.2.0",
      "model_name": "LayoutModel",
      "state": {}
     },
     "210f26e2f52346fc925a0fe03d480098": {
      "model_module": "pgljupyter",
      "model_module_version": "^0.2.1",
      "model_name": "CurveEditorModel",
      "state": {
       "_model_module_version": "^0.2.1",
       "_view_module_version": "^0.2.1",
       "children": [
        "IPY_MODEL_35526d74a1164eee8accb7e48187f363"
       ],
       "layout": "IPY_MODEL_04b9efebdde24b15acb6b3edf99c8701"
      }
     },
     "29397120410e471eb0d0b9e95fa1e1eb": {
      "model_module": "@jupyter-widgets/base",
      "model_module_version": "1.2.0",
      "model_name": "LayoutModel",
      "state": {}
     },
     "327aadc2be5f466bb5139a0e9965a86c": {
      "model_module": "@jupyter-widgets/controls",
      "model_module_version": "1.5.0",
      "model_name": "HBoxModel",
      "state": {
       "children": [
        "IPY_MODEL_dd55d0afc77f451ba62fe6aa58b8c700"
       ],
       "layout": "IPY_MODEL_63844ec0f0734026882450fcafa889b8"
      }
     },
     "33a4b304652b43b28bb69556a8970fb0": {
      "model_module": "@jupyter-widgets/base",
      "model_module_version": "1.2.0",
      "model_name": "LayoutModel",
      "state": {}
     },
     "340d042356ce4dc4ac55f3ed69fc4c59": {
      "model_module": "@jupyter-widgets/base",
      "model_module_version": "1.2.0",
      "model_name": "LayoutModel",
      "state": {
       "flex_flow": "row wrap",
       "margin": "0"
      }
     },
     "35526d74a1164eee8accb7e48187f363": {
      "model_module": "pgljupyter",
      "model_module_version": "^0.2.1",
      "model_name": "_CurveEditorModel",
      "state": {
       "_model_module_version": "^0.2.1",
       "_view_module_version": "^0.2.1",
       "layout": "IPY_MODEL_b15107fe772a47af85af30b2dfb3615c",
       "name": "path",
       "points": [
        [
         -0.5,
         0
        ],
        [
         -0.192641,
         0.281385
        ],
        [
         0.0238095,
         -0.177489
        ],
        [
         0.5,
         0
        ]
       ],
       "show_name": true,
       "type": "NurbsCurve2D"
      }
     },
     "37bb5e3157084b3c94e30dbc70a0c2d4": {
      "model_module": "@jupyter-widgets/base",
      "model_module_version": "1.2.0",
      "model_name": "LayoutModel",
      "state": {
       "margin": "10px 10px"
      }
     },
     "3a61a8e4297049a084b3fd3268fd3c9e": {
      "model_module": "@jupyter-widgets/base",
      "model_module_version": "1.2.0",
      "model_name": "LayoutModel",
      "state": {
       "margin": "10px 10px"
      }
     },
     "5380af23c78a479d932430fa738cb42a": {
      "model_module": "@jupyter-widgets/controls",
      "model_module_version": "1.5.0",
      "model_name": "HBoxModel",
      "state": {
       "children": [
        "IPY_MODEL_327aadc2be5f466bb5139a0e9965a86c",
        "IPY_MODEL_6fd39618d5f840eeba65e91a3e966167"
       ],
       "layout": "IPY_MODEL_65236fa90e494249be3e4e7aab503b6a"
      }
     },
     "569d73e6cf80484d91e6dd1895df7d4d": {
      "model_module": "@jupyter-widgets/base",
      "model_module_version": "1.2.0",
      "model_name": "LayoutModel",
      "state": {}
     },
     "5da361e907aa442a876e7c7065b7ca2a": {
      "model_module": "@jupyter-widgets/controls",
      "model_module_version": "1.5.0",
      "model_name": "DescriptionStyleModel",
      "state": {
       "description_width": ""
      }
     },
     "63844ec0f0734026882450fcafa889b8": {
      "model_module": "@jupyter-widgets/base",
      "model_module_version": "1.2.0",
      "model_name": "LayoutModel",
      "state": {
       "margin": "10px",
       "min_height": "400px",
       "min_width": "400px"
      }
     },
     "65236fa90e494249be3e4e7aab503b6a": {
      "model_module": "@jupyter-widgets/base",
      "model_module_version": "1.2.0",
      "model_name": "LayoutModel",
      "state": {}
     },
     "6fd39618d5f840eeba65e91a3e966167": {
      "model_module": "@jupyter-widgets/controls",
      "model_module_version": "1.5.0",
      "model_name": "HBoxModel",
      "state": {
       "children": [
        "IPY_MODEL_210f26e2f52346fc925a0fe03d480098",
        "IPY_MODEL_7de674e089a54f3aaa6f76893dc05be8",
        "IPY_MODEL_ada3ee877b9042d184fb2c48bfc87c59"
       ],
       "layout": "IPY_MODEL_340d042356ce4dc4ac55f3ed69fc4c59"
      }
     },
     "7de674e089a54f3aaa6f76893dc05be8": {
      "model_module": "pgljupyter",
      "model_module_version": "^0.2.1",
      "model_name": "CurveEditorModel",
      "state": {
       "_model_module_version": "^0.2.1",
       "_view_module_version": "^0.2.1",
       "children": [
        "IPY_MODEL_fa1e4905b8a24f5c82d0cf5d193dfbaa"
       ],
       "layout": "IPY_MODEL_37bb5e3157084b3c94e30dbc70a0c2d4"
      }
     },
     "9e88d0692cc248c88a7b29eb6f905bdb": {
      "model_module": "@jupyter-widgets/controls",
      "model_module_version": "1.5.0",
      "model_name": "TextModel",
      "state": {
       "continuous_update": false,
       "description": "name",
       "layout": "IPY_MODEL_a75795155e0b4ca7b9c101bb32507314",
       "style": "IPY_MODEL_f56167f4fcf74f138367a5c54e080653",
       "value": "path"
      }
     },
     "a75795155e0b4ca7b9c101bb32507314": {
      "model_module": "@jupyter-widgets/base",
      "model_module_version": "1.2.0",
      "model_name": "LayoutModel",
      "state": {}
     },
     "ada3ee877b9042d184fb2c48bfc87c59": {
      "model_module": "pgljupyter",
      "model_module_version": "^0.2.1",
      "model_name": "CurveEditorModel",
      "state": {
       "_model_module_version": "^0.2.1",
       "_view_module_version": "^0.2.1",
       "children": [
        "IPY_MODEL_d569e8c72e40474abd70b7d20a0d91dd"
       ],
       "layout": "IPY_MODEL_3a61a8e4297049a084b3fd3268fd3c9e"
      }
     },
     "b15107fe772a47af85af30b2dfb3615c": {
      "model_module": "@jupyter-widgets/base",
      "model_module_version": "1.2.0",
      "model_name": "LayoutModel",
      "state": {}
     },
     "d38753e7dfda41a3b4af7639cae9644a": {
      "model_module": "@jupyter-widgets/controls",
      "model_module_version": "1.5.0",
      "model_name": "TextModel",
      "state": {
       "continuous_update": false,
       "description": "name",
       "layout": "IPY_MODEL_569d73e6cf80484d91e6dd1895df7d4d",
       "style": "IPY_MODEL_5da361e907aa442a876e7c7065b7ca2a",
       "value": "leafwidth"
      }
     },
     "d53895f0713747f5826848b4a7b24714": {
      "model_module": "@jupyter-widgets/controls",
      "model_module_version": "1.5.0",
      "model_name": "TextModel",
      "state": {
       "continuous_update": false,
       "description": "name",
       "layout": "IPY_MODEL_04413fbec29f4170a11fa04f6860919c",
       "style": "IPY_MODEL_d85ef1191e2b4fbe8dfe4bda939e4259",
       "value": "section"
      }
     },
     "d569e8c72e40474abd70b7d20a0d91dd": {
      "model_module": "pgljupyter",
      "model_module_version": "^0.2.1",
      "model_name": "_CurveEditorModel",
      "state": {
       "_model_module_version": "^0.2.1",
       "_view_module_version": "^0.2.1",
       "is_function": true,
       "layout": "IPY_MODEL_33a4b304652b43b28bb69556a8970fb0",
       "name": "leafwidth",
       "points": [
        [
         0,
         0.0137255
        ],
        [
         0.320346,
         0.341991
        ],
        [
         0.649351,
         0.121212
        ],
        [
         1,
         0
        ]
       ],
       "show_name": true,
       "type": "NurbsCurve2D"
      }
     },
     "d85ef1191e2b4fbe8dfe4bda939e4259": {
      "model_module": "@jupyter-widgets/controls",
      "model_module_version": "1.5.0",
      "model_name": "DescriptionStyleModel",
      "state": {
       "description_width": ""
      }
     },
     "dd55d0afc77f451ba62fe6aa58b8c700": {
      "buffers": [
       {
        "data": "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",
        "encoding": "base64",
        "path": [
         "scene",
         "data"
        ]
       }
      ],
      "model_module": "pgljupyter",
      "model_module_version": "^0.2.1",
      "model_name": "LsystemWidgetModel",
      "state": {
       "_model_module_version": "^0.2.1",
       "_view_module_version": "^0.2.1",
       "axes_helper": false,
       "derivationLength": 2,
       "is_magic": true,
       "layout": "IPY_MODEL_15434d9133164dd2a1f745f4712b4aca",
       "light_helper": false,
       "plane": true,
       "scene": {
        "derivationStep": 0,
        "id": 0,
        "scene": "<openalea.plantgl.scenegraph._pglsg.Scene object at 0x7f73038dbf30>"
       },
       "size_display": [
        400,
        400
       ],
       "size_world": 1,
       "unit": 0
      }
     },
     "f56167f4fcf74f138367a5c54e080653": {
      "model_module": "@jupyter-widgets/controls",
      "model_module_version": "1.5.0",
      "model_name": "DescriptionStyleModel",
      "state": {
       "description_width": ""
      }
     },
     "fa1e4905b8a24f5c82d0cf5d193dfbaa": {
      "model_module": "pgljupyter",
      "model_module_version": "^0.2.1",
      "model_name": "_CurveEditorModel",
      "state": {
       "_model_module_version": "^0.2.1",
       "_view_module_version": "^0.2.1",
       "layout": "IPY_MODEL_29397120410e471eb0d0b9e95fa1e1eb",
       "name": "section",
       "points": [
        [
         -0.508658,
         0.112554
        ],
        [
         -0.162338,
         -0.155844
        ],
        [
         -0.0238095,
         0.158009
        ],
        [
         0.192641,
         -0.177489
        ],
        [
         0.582251,
         0.168831
        ]
       ],
       "show_name": true,
       "type": "NurbsCurve2D"
      }
     }
    },
    "version_major": 2,
    "version_minor": 0
   }
  }
 },
 "nbformat": 4,
 "nbformat_minor": 4
}
