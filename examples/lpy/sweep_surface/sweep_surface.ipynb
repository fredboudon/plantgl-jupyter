{
 "cells": [
  {
   "cell_type": "code",
   "execution_count": 1,
   "metadata": {},
   "outputs": [],
   "source": [
    "import io\n",
    "import pgljupyter\n",
    "from openalea.lpy.lsysparameters import LsystemParameters"
   ]
  },
  {
   "cell_type": "code",
   "execution_count": 2,
   "metadata": {},
   "outputs": [],
   "source": [
    "lp = LsystemParameters()\n",
    "with io.open('sweep_surface.json') as file:\n",
    "    lp.load(file)\n",
    "lp.set_defaut_category('default')"
   ]
  },
  {
   "cell_type": "code",
   "execution_count": 3,
   "metadata": {},
   "outputs": [
    {
     "data": {
      "application/vnd.jupyter.widget-view+json": {
       "model_id": "77ddcb58f50748c69ae592b5200a97b9",
       "version_major": 2,
       "version_minor": 0
      },
      "text/plain": [
       "HBox(children=(HBox(children=(LsystemWidget(derivationLength=2, is_magic=True, scene={'data': b'x\\xda\\x8d\\xda\\…"
      ]
     },
     "metadata": {},
     "output_type": "display_data"
    }
   ],
   "source": [
    "%%lpy -p lp\n",
    "\n",
    "length = 1\n",
    "dl = 0.01\n",
    "globalwidth = 0.5\n",
    "\n",
    "Axiom: ,(2) Sweep(path,section,length,dl,globalwidth,leafwidth)\n",
    "\n",
    "derivation length: 1\n",
    "production:\n",
    "interpretation:\n",
    "\n",
    "endlsystem"
   ]
  },
  {
   "cell_type": "code",
   "execution_count": null,
   "metadata": {},
   "outputs": [],
   "source": []
  }
 ],
 "metadata": {
  "kernelspec": {
   "display_name": "Python 3",
   "language": "python",
   "name": "python3"
  },
  "language_info": {
   "codemirror_mode": {
    "name": "ipython",
    "version": 3
   },
   "file_extension": ".py",
   "mimetype": "text/x-python",
   "name": "python",
   "nbconvert_exporter": "python",
   "pygments_lexer": "ipython3",
   "version": "3.9.2"
  },
  "widgets": {
   "application/vnd.jupyter.widget-state+json": {
    "state": {
     "0a13da6d626a49bd8c1bf40986c6b66c": {
      "model_module": "@jupyter-widgets/controls",
      "model_module_version": "1.5.0",
      "model_name": "TextModel",
      "state": {
       "continuous_update": false,
       "description": "name",
       "layout": "IPY_MODEL_ba672ac41df642b9b5d71f28d9320d54",
       "style": "IPY_MODEL_c2ace97166264db798c1c33a86db8479",
       "value": "path"
      }
     },
     "0c2206e4bb264a4ca18ef10361cd5825": {
      "model_module": "@jupyter-widgets/base",
      "model_module_version": "1.2.0",
      "model_name": "LayoutModel",
      "state": {}
     },
     "0c5cbea5f2c34ee0b6bc0914288d582b": {
      "model_module": "@jupyter-widgets/base",
      "model_module_version": "1.2.0",
      "model_name": "LayoutModel",
      "state": {
       "margin": "10px 10px"
      }
     },
     "18688730677345ec85366501b33fcd22": {
      "model_module": "@jupyter-widgets/base",
      "model_module_version": "1.2.0",
      "model_name": "LayoutModel",
      "state": {}
     },
     "18e5d17b9ce34334955ed4b877b24bd5": {
      "model_module": "pgljupyter",
      "model_module_version": "^1.0.3",
      "model_name": "_CurveEditorModel",
      "state": {
       "_model_module_version": "^1.0.3",
       "_view_module_version": "^1.0.3",
       "layout": "IPY_MODEL_418f38921069422ca62876740213c8ec",
       "name": "section",
       "points": [
        [
         -0.508658,
         0.112554
        ],
        [
         -0.162338,
         -0.155844
        ],
        [
         -0.0238095,
         0.158009
        ],
        [
         0.192641,
         -0.177489
        ],
        [
         0.582251,
         0.168831
        ]
       ],
       "show_name": true,
       "type": "NurbsCurve2D"
      }
     },
     "1fbe980a491949fdaf681f9ff830e990": {
      "model_module": "@jupyter-widgets/base",
      "model_module_version": "1.2.0",
      "model_name": "LayoutModel",
      "state": {}
     },
     "2986070fe8744aeda674375cb4967681": {
      "model_module": "pgljupyter",
      "model_module_version": "^1.0.3",
      "model_name": "_CurveEditorModel",
      "state": {
       "_model_module_version": "^1.0.3",
       "_view_module_version": "^1.0.3",
       "layout": "IPY_MODEL_0c2206e4bb264a4ca18ef10361cd5825",
       "name": "path",
       "points": [
        [
         -0.5,
         0
        ],
        [
         -0.192641,
         0.281385
        ],
        [
         0.13181818181818183,
         -0.19350655295632102
        ],
        [
         0.5,
         0
        ]
       ],
       "show_name": true,
       "type": "NurbsCurve2D"
      }
     },
     "29b8231f128e40b0862fde0cbf78e32c": {
      "model_module": "@jupyter-widgets/controls",
      "model_module_version": "1.5.0",
      "model_name": "HBoxModel",
      "state": {
       "children": [
        "IPY_MODEL_b0bcf3e008414f0d8c7deb82c89190ed",
        "IPY_MODEL_9a1444d7f33640419db09841372aef54",
        "IPY_MODEL_ab137bdf14554a73864a3541ae11dcd3"
       ],
       "layout": "IPY_MODEL_67e79d75e08a4fc9bd968b59c38f145f"
      }
     },
     "4083442ec6ec44e1811c62229c2ace42": {
      "model_module": "@jupyter-widgets/base",
      "model_module_version": "1.2.0",
      "model_name": "LayoutModel",
      "state": {}
     },
     "418f38921069422ca62876740213c8ec": {
      "model_module": "@jupyter-widgets/base",
      "model_module_version": "1.2.0",
      "model_name": "LayoutModel",
      "state": {}
     },
     "46a40a8540f34b10b5414c38753de714": {
      "model_module": "@jupyter-widgets/controls",
      "model_module_version": "1.5.0",
      "model_name": "HBoxModel",
      "state": {
       "children": [
        "IPY_MODEL_7847ba1ddf2447aa8a7b5afb860e4000"
       ],
       "layout": "IPY_MODEL_54dac85f204d441fb1eb8c897411b564"
      }
     },
     "54dac85f204d441fb1eb8c897411b564": {
      "model_module": "@jupyter-widgets/base",
      "model_module_version": "1.2.0",
      "model_name": "LayoutModel",
      "state": {
       "margin": "10px",
       "min_height": "400px",
       "min_width": "400px"
      }
     },
     "67e79d75e08a4fc9bd968b59c38f145f": {
      "model_module": "@jupyter-widgets/base",
      "model_module_version": "1.2.0",
      "model_name": "LayoutModel",
      "state": {
       "flex_flow": "row wrap",
       "margin": "0"
      }
     },
     "7298476a96ae4abc848c45e47c76f2ed": {
      "model_module": "@jupyter-widgets/base",
      "model_module_version": "1.2.0",
      "model_name": "LayoutModel",
      "state": {
       "margin": "10px 10px"
      }
     },
     "77ddcb58f50748c69ae592b5200a97b9": {
      "model_module": "@jupyter-widgets/controls",
      "model_module_version": "1.5.0",
      "model_name": "HBoxModel",
      "state": {
       "children": [
        "IPY_MODEL_46a40a8540f34b10b5414c38753de714",
        "IPY_MODEL_29b8231f128e40b0862fde0cbf78e32c"
       ],
       "layout": "IPY_MODEL_4083442ec6ec44e1811c62229c2ace42"
      }
     },
     "7847ba1ddf2447aa8a7b5afb860e4000": {
      "buffers": [
       {
        "data": "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",
        "encoding": "base64",
        "path": [
         "scene",
         "data"
        ]
       }
      ],
      "model_module": "pgljupyter",
      "model_module_version": "^1.0.3",
      "model_name": "LsystemWidgetModel",
      "state": {
       "_model_module_version": "^1.0.3",
       "_view_module_version": "^1.0.3",
       "axes_helper": false,
       "derivationLength": 2,
       "is_magic": true,
       "layout": "IPY_MODEL_cad47573c2974757ad323d89633e0c98",
       "light_helper": false,
       "plane": true,
       "progress": 1,
       "scene": {
        "derivationStep": 0,
        "id": 0,
        "scene": "<openalea.plantgl.scenegraph._pglsg.Scene object at 0x7f98fabd5700>"
       },
       "size_display": [
        400,
        400
       ],
       "size_world": 1,
       "unit": 0
      }
     },
     "7b31dac0678743aebe0a6f47a5ac0843": {
      "model_module": "@jupyter-widgets/controls",
      "model_module_version": "1.5.0",
      "model_name": "TextModel",
      "state": {
       "continuous_update": false,
       "description": "name",
       "layout": "IPY_MODEL_1fbe980a491949fdaf681f9ff830e990",
       "style": "IPY_MODEL_9ae55f289ad14d13881ed3f6ec4591df",
       "value": "section"
      }
     },
     "9a1444d7f33640419db09841372aef54": {
      "model_module": "pgljupyter",
      "model_module_version": "^1.0.3",
      "model_name": "CurveEditorModel",
      "state": {
       "_model_module_version": "^1.0.3",
       "_view_module_version": "^1.0.3",
       "children": [
        "IPY_MODEL_18e5d17b9ce34334955ed4b877b24bd5"
       ],
       "layout": "IPY_MODEL_7298476a96ae4abc848c45e47c76f2ed"
      }
     },
     "9ae55f289ad14d13881ed3f6ec4591df": {
      "model_module": "@jupyter-widgets/controls",
      "model_module_version": "1.5.0",
      "model_name": "DescriptionStyleModel",
      "state": {
       "description_width": ""
      }
     },
     "ab137bdf14554a73864a3541ae11dcd3": {
      "model_module": "pgljupyter",
      "model_module_version": "^1.0.3",
      "model_name": "CurveEditorModel",
      "state": {
       "_model_module_version": "^1.0.3",
       "_view_module_version": "^1.0.3",
       "children": [
        "IPY_MODEL_c48582acbb954b569a77a0e1dfdd917c"
       ],
       "layout": "IPY_MODEL_de20b0b3ee1a42a0990e8868c974d1a7"
      }
     },
     "aeb238f62eb74f7bad04796705072062": {
      "model_module": "@jupyter-widgets/controls",
      "model_module_version": "1.5.0",
      "model_name": "TextModel",
      "state": {
       "continuous_update": false,
       "description": "name",
       "layout": "IPY_MODEL_18688730677345ec85366501b33fcd22",
       "style": "IPY_MODEL_d2dd8485924d49a6bfe68b1681db7db2",
       "value": "leafwidth"
      }
     },
     "b0bcf3e008414f0d8c7deb82c89190ed": {
      "model_module": "pgljupyter",
      "model_module_version": "^1.0.3",
      "model_name": "CurveEditorModel",
      "state": {
       "_model_module_version": "^1.0.3",
       "_view_module_version": "^1.0.3",
       "children": [
        "IPY_MODEL_2986070fe8744aeda674375cb4967681"
       ],
       "layout": "IPY_MODEL_0c5cbea5f2c34ee0b6bc0914288d582b"
      }
     },
     "ba672ac41df642b9b5d71f28d9320d54": {
      "model_module": "@jupyter-widgets/base",
      "model_module_version": "1.2.0",
      "model_name": "LayoutModel",
      "state": {}
     },
     "c2ace97166264db798c1c33a86db8479": {
      "model_module": "@jupyter-widgets/controls",
      "model_module_version": "1.5.0",
      "model_name": "DescriptionStyleModel",
      "state": {
       "description_width": ""
      }
     },
     "c48582acbb954b569a77a0e1dfdd917c": {
      "model_module": "pgljupyter",
      "model_module_version": "^1.0.3",
      "model_name": "_CurveEditorModel",
      "state": {
       "_model_module_version": "^1.0.3",
       "_view_module_version": "^1.0.3",
       "is_function": true,
       "layout": "IPY_MODEL_ca7ba1bb5d6f4eacad0a6a17fb543d88",
       "name": "leafwidth",
       "points": [
        [
         0,
         0.0137255
        ],
        [
         0.320346,
         0.341991
        ],
        [
         0.649351,
         0.121212
        ],
        [
         1,
         0
        ]
       ],
       "show_name": true,
       "type": "NurbsCurve2D"
      }
     },
     "ca7ba1bb5d6f4eacad0a6a17fb543d88": {
      "model_module": "@jupyter-widgets/base",
      "model_module_version": "1.2.0",
      "model_name": "LayoutModel",
      "state": {}
     },
     "cad47573c2974757ad323d89633e0c98": {
      "model_module": "@jupyter-widgets/base",
      "model_module_version": "1.2.0",
      "model_name": "LayoutModel",
      "state": {}
     },
     "d2dd8485924d49a6bfe68b1681db7db2": {
      "model_module": "@jupyter-widgets/controls",
      "model_module_version": "1.5.0",
      "model_name": "DescriptionStyleModel",
      "state": {
       "description_width": ""
      }
     },
     "de20b0b3ee1a42a0990e8868c974d1a7": {
      "model_module": "@jupyter-widgets/base",
      "model_module_version": "1.2.0",
      "model_name": "LayoutModel",
      "state": {
       "margin": "10px 10px"
      }
     }
    },
    "version_major": 2,
    "version_minor": 0
   }
  }
 },
 "nbformat": 4,
 "nbformat_minor": 4
}
