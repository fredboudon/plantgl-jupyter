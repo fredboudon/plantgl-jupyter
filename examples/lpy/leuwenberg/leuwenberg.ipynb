{
 "cells": [
  {
   "cell_type": "code",
   "execution_count": 1,
   "metadata": {},
   "outputs": [],
   "source": [
    "from pgljupyter import LsystemWidget"
   ]
  },
  {
   "cell_type": "code",
   "execution_count": 2,
   "metadata": {},
   "outputs": [],
   "source": [
    "lw = LsystemWidget('leuwenberg.lpy', unit='m', size_world=50, animate=True)"
   ]
  },
  {
   "cell_type": "code",
   "execution_count": 3,
   "metadata": {},
   "outputs": [
    {
     "data": {
      "application/vnd.jupyter.widget-view+json": {
       "model_id": "b3415d0e07044c3c90903ed545d57994",
       "version_major": 2,
       "version_minor": 0
      },
      "text/plain": [
       "LsystemWidget(animate=True, derivationLength=42, scene={'data': b'x\\xdaSLrw\\xf5\\xf7e`Pp\\xe0\\xe5RPVVde```be\\x08…"
      ]
     },
     "metadata": {},
     "output_type": "display_data"
    }
   ],
   "source": [
    "lw"
   ]
  },
  {
   "cell_type": "code",
   "execution_count": null,
   "metadata": {},
   "outputs": [],
   "source": [
    "lw.editor"
   ]
  },
  {
   "cell_type": "code",
   "execution_count": null,
   "metadata": {},
   "outputs": [],
   "source": []
  }
 ],
 "metadata": {
  "kernelspec": {
   "display_name": "Python 3",
   "language": "python",
   "name": "python3"
  },
  "language_info": {
   "codemirror_mode": {
    "name": "ipython",
    "version": 3
   },
   "file_extension": ".py",
   "mimetype": "text/x-python",
   "name": "python",
   "nbconvert_exporter": "python",
   "pygments_lexer": "ipython3",
   "version": "3.8.5"
  },
  "widgets": {
   "application/vnd.jupyter.widget-state+json": {
    "state": {
     "0003eef9dd3941f89ac65b920608e8dc": {
      "model_module": "@jupyter-widgets/controls",
      "model_module_version": "1.5.0",
      "model_name": "TextModel",
      "state": {
       "continuous_update": false,
       "description": "name",
       "layout": "IPY_MODEL_0d347c8d511c4ca99b99c3030263eb62",
       "style": "IPY_MODEL_0c375f6ffc5f415bbfbaa228315317b0",
       "value": "leafold"
      }
     },
     "004fe4bded924a9a932e3394f3befd69": {
      "model_module": "@jupyter-widgets/controls",
      "model_module_version": "1.5.0",
      "model_name": "IntSliderModel",
      "state": {
       "description": "value",
       "layout": "IPY_MODEL_66d7a1826e15429d8f8f2cf795ccb6c1",
       "max": 10,
       "min": 1,
       "style": "IPY_MODEL_d59eedfe91e040bd83b09d32a1718f4b",
       "value": 2
      }
     },
     "0095f53d7b9d447db6885939bd2cb620": {
      "model_module": "@jupyter-widgets/controls",
      "model_module_version": "1.5.0",
      "model_name": "DescriptionStyleModel",
      "state": {
       "description_width": ""
      }
     },
     "0098827af4e640a7995f79067eabb137": {
      "model_module": "@jupyter-widgets/controls",
      "model_module_version": "1.5.0",
      "model_name": "DescriptionStyleModel",
      "state": {
       "description_width": ""
      }
     },
     "00d6b976c7584356bc8ace10cc276390": {
      "model_module": "@jupyter-widgets/controls",
      "model_module_version": "1.5.0",
      "model_name": "FloatSliderModel",
      "state": {
       "description": "diffuse",
       "layout": "IPY_MODEL_d18e48c309db4852aa5cdc3da1012b6e",
       "max": 3,
       "step": 0.1,
       "style": "IPY_MODEL_5493e679c57d4a0689415a4a88aea275",
       "value": 1
      }
     },
     "0108f7fc56644931b6e9ab7e757df267": {
      "model_module": "@jupyter-widgets/controls",
      "model_module_version": "1.5.0",
      "model_name": "FloatSliderModel",
      "state": {
       "description": "transparency",
       "layout": "IPY_MODEL_9d18be69857d479da54872b16cad623b",
       "max": 1,
       "step": 0.1,
       "style": "IPY_MODEL_90f65d5e0f7d4ba297b91d7381a9b694"
      }
     },
     "015a0162e977482199ff9aa70a46096a": {
      "model_module": "@jupyter-widgets/controls",
      "model_module_version": "1.5.0",
      "model_name": "DescriptionStyleModel",
      "state": {
       "description_width": ""
      }
     },
     "01a9830728ff43debfe68c7ed9c0c0f1": {
      "model_module": "@jupyter-widgets/base",
      "model_module_version": "1.2.0",
      "model_name": "LayoutModel",
      "state": {}
     },
     "0241bcf8e4d449588382dcfa0fadf1f7": {
      "model_module": "@jupyter-widgets/controls",
      "model_module_version": "1.5.0",
      "model_name": "BoundedIntTextModel",
      "state": {
       "description": "index",
       "layout": "IPY_MODEL_3bd8c5155e614aa49b91b3ee03106bb8",
       "style": "IPY_MODEL_8b50cab205524c5684de777fe16b12c6",
       "value": 3
      }
     },
     "026723ae658e489db0402b1860155fde": {
      "model_module": "@jupyter-widgets/base",
      "model_module_version": "1.2.0",
      "model_name": "LayoutModel",
      "state": {}
     },
     "028403f5d1004d399f4c48bedf82c508": {
      "model_module": "@jupyter-widgets/base",
      "model_module_version": "1.2.0",
      "model_name": "LayoutModel",
      "state": {}
     },
     "0300001a45404b209a36c5be9117a9b4": {
      "model_module": "@jupyter-widgets/controls",
      "model_module_version": "1.5.0",
      "model_name": "AccordionModel",
      "state": {
       "_titles": {
        "0": "materials",
        "1": "leaf"
       },
       "children": [
        "IPY_MODEL_edf9693f28bf40b480d44c9fe1f0e7bd",
        "IPY_MODEL_93e9e1a13f404740b06bcbb3b04fbbe8"
       ],
       "layout": "IPY_MODEL_83d1112a98b24ad985e153a4de2805d3"
      }
     },
     "0414cc8a90c64c448f20ab6c7de8a484": {
      "model_module": "@jupyter-widgets/controls",
      "model_module_version": "1.5.0",
      "model_name": "DropdownModel",
      "state": {
       "_options_labels": [
        "Color"
       ],
       "index": 0,
       "layout": "IPY_MODEL_d56364ff1cc441588f37f856b104fb7f",
       "style": "IPY_MODEL_69adca6b2b7d471ca668269a5c227e1f"
      }
     },
     "0493264d976c421cbf4fe203f92091da": {
      "model_module": "@jupyter-widgets/base",
      "model_module_version": "1.2.0",
      "model_name": "LayoutModel",
      "state": {}
     },
     "0499384873a04178a41a7a611d6d08dc": {
      "model_module": "@jupyter-widgets/base",
      "model_module_version": "1.2.0",
      "model_name": "LayoutModel",
      "state": {}
     },
     "04c46391563944e09f827e89ec2715fa": {
      "model_module": "@jupyter-widgets/base",
      "model_module_version": "1.2.0",
      "model_name": "LayoutModel",
      "state": {}
     },
     "05158b063b184ffe96c65e42e171536a": {
      "model_module": "@jupyter-widgets/base",
      "model_module_version": "1.2.0",
      "model_name": "LayoutModel",
      "state": {}
     },
     "055dec0cea5041829e855a22e1086bb8": {
      "model_module": "@jupyter-widgets/base",
      "model_module_version": "1.2.0",
      "model_name": "LayoutModel",
      "state": {}
     },
     "06a4c0bb621c49b0a886a6f2d4b71f84": {
      "model_module": "@jupyter-widgets/controls",
      "model_module_version": "1.5.0",
      "model_name": "BoundedIntTextModel",
      "state": {
       "description": "step",
       "layout": "IPY_MODEL_7015fbbda9c047b391aecaeef63cd104",
       "min": 1,
       "style": "IPY_MODEL_1a8e5e8102f24f6788a2e4825cfd5527",
       "value": 1
      }
     },
     "06c676714abc45c2bd668d409b3f913f": {
      "model_module": "@jupyter-widgets/base",
      "model_module_version": "1.2.0",
      "model_name": "LayoutModel",
      "state": {}
     },
     "06da4c288f8b48efae9708615015dd07": {
      "model_module": "@jupyter-widgets/controls",
      "model_module_version": "1.5.0",
      "model_name": "ColorPickerModel",
      "state": {
       "description": "emission",
       "disabled": false,
       "layout": "IPY_MODEL_b2dff12eb7f74161896fad4ff14e216e",
       "style": "IPY_MODEL_5b06ffa55f8c4305b3bf43c5d33fe5f6",
       "value": "#000000"
      }
     },
     "077c655a00ab41bb91239523d5e0bf21": {
      "model_module": "@jupyter-widgets/controls",
      "model_module_version": "1.5.0",
      "model_name": "ColorPickerModel",
      "state": {
       "description": "emission",
       "disabled": false,
       "layout": "IPY_MODEL_b5ad4c581bca4efb9e0e4e91dd0fc2fd",
       "style": "IPY_MODEL_3b8516e57df04b72aa4033410b7cc6fb",
       "value": "#000000"
      }
     },
     "08a086db9f984b649195bfba6e845663": {
      "model_module": "@jupyter-widgets/base",
      "model_module_version": "1.2.0",
      "model_name": "LayoutModel",
      "state": {}
     },
     "09ab73e88d6a48cf971284095d2d93ee": {
      "model_module": "@jupyter-widgets/controls",
      "model_module_version": "1.5.0",
      "model_name": "SliderStyleModel",
      "state": {
       "description_width": ""
      }
     },
     "09f0b20c3d9a4a7b8d6f767b7e7153d6": {
      "model_module": "@jupyter-widgets/base",
      "model_module_version": "1.2.0",
      "model_name": "LayoutModel",
      "state": {}
     },
     "0adb42962e0d46d8a508e6187f7b3e19": {
      "model_module": "@jupyter-widgets/controls",
      "model_module_version": "1.5.0",
      "model_name": "ButtonStyleModel",
      "state": {}
     },
     "0af1bb03cbd844ea9bfc0d9b864d0f8d": {
      "model_module": "@jupyter-widgets/base",
      "model_module_version": "1.2.0",
      "model_name": "LayoutModel",
      "state": {}
     },
     "0ba2cab9cc9d4511aad569640dfc3012": {
      "model_module": "@jupyter-widgets/controls",
      "model_module_version": "1.5.0",
      "model_name": "DescriptionStyleModel",
      "state": {
       "description_width": ""
      }
     },
     "0c375f6ffc5f415bbfbaa228315317b0": {
      "model_module": "@jupyter-widgets/controls",
      "model_module_version": "1.5.0",
      "model_name": "DescriptionStyleModel",
      "state": {
       "description_width": ""
      }
     },
     "0c4ef21d02cd4d5098cab60592f95c54": {
      "model_module": "@jupyter-widgets/base",
      "model_module_version": "1.2.0",
      "model_name": "LayoutModel",
      "state": {}
     },
     "0c7c19e5f2d64c77816e00b8b2cd8eea": {
      "model_module": "@jupyter-widgets/base",
      "model_module_version": "1.2.0",
      "model_name": "LayoutModel",
      "state": {}
     },
     "0ce5322222f04cda8b64b0849f810223": {
      "model_module": "@jupyter-widgets/controls",
      "model_module_version": "1.5.0",
      "model_name": "DescriptionStyleModel",
      "state": {
       "description_width": ""
      }
     },
     "0d347c8d511c4ca99b99c3030263eb62": {
      "model_module": "@jupyter-widgets/base",
      "model_module_version": "1.2.0",
      "model_name": "LayoutModel",
      "state": {}
     },
     "0d6a37d535614710acb801033c6e1b4b": {
      "model_module": "@jupyter-widgets/base",
      "model_module_version": "1.2.0",
      "model_name": "LayoutModel",
      "state": {}
     },
     "0d8106747f5f4d0a81928341852045a2": {
      "model_module": "@jupyter-widgets/base",
      "model_module_version": "1.2.0",
      "model_name": "LayoutModel",
      "state": {}
     },
     "0ddc4da3ab684f75a000be5326010a3f": {
      "model_module": "@jupyter-widgets/controls",
      "model_module_version": "1.5.0",
      "model_name": "ButtonModel",
      "state": {
       "description": "Delete",
       "layout": "IPY_MODEL_df83175491804b5cb47348424a380b78",
       "style": "IPY_MODEL_1145eb1b6344415fbe5da4345ed32841"
      }
     },
     "0e698e6988a94950922b8014c320bdf8": {
      "model_module": "@jupyter-widgets/base",
      "model_module_version": "1.2.0",
      "model_name": "LayoutModel",
      "state": {}
     },
     "0ebdabd5351f4a218569ece12d364cf5": {
      "model_module": "@jupyter-widgets/controls",
      "model_module_version": "1.5.0",
      "model_name": "ButtonModel",
      "state": {
       "description": "Delete category",
       "layout": "IPY_MODEL_468860202d6c4c5cbdaf75ab248c2dfa",
       "style": "IPY_MODEL_68be4ec169ab4ce9929d4231bbdfaad7"
      }
     },
     "0ec5645a3bf34b6a84616a6784979782": {
      "model_module": "@jupyter-widgets/base",
      "model_module_version": "1.2.0",
      "model_name": "LayoutModel",
      "state": {}
     },
     "0edf0711fcd443488bc2bd1811f52c38": {
      "model_module": "@jupyter-widgets/base",
      "model_module_version": "1.2.0",
      "model_name": "LayoutModel",
      "state": {
       "flex_flow": "row wrap",
       "margin": "20px"
      }
     },
     "0f0d4a7590e043609aea67d90c471282": {
      "model_module": "@jupyter-widgets/base",
      "model_module_version": "1.2.0",
      "model_name": "LayoutModel",
      "state": {}
     },
     "0f41b5c50bdb442a8ef61d9d982b922d": {
      "model_module": "@jupyter-widgets/controls",
      "model_module_version": "1.5.0",
      "model_name": "ButtonStyleModel",
      "state": {}
     },
     "0f79a7c69fb34b2d9f55d3a3cfb5c585": {
      "model_module": "@jupyter-widgets/base",
      "model_module_version": "1.2.0",
      "model_name": "LayoutModel",
      "state": {}
     },
     "0f84ed044f5d499287d57c8c98211fae": {
      "model_module": "@jupyter-widgets/controls",
      "model_module_version": "1.5.0",
      "model_name": "IntTextModel",
      "state": {
       "description": "max",
       "layout": "IPY_MODEL_f41d2bc09ad24d97b1e0e97f75537487",
       "step": 1,
       "style": "IPY_MODEL_a2eb67920af64606babedcf49f3ac443",
       "value": 10
      }
     },
     "0fbcef905dc549ebb51d1bcd20ade1b3": {
      "model_module": "@jupyter-widgets/controls",
      "model_module_version": "1.5.0",
      "model_name": "SliderStyleModel",
      "state": {
       "description_width": ""
      }
     },
     "0fbf4f04c7844825967a392870b05c3c": {
      "model_module": "@jupyter-widgets/base",
      "model_module_version": "1.2.0",
      "model_name": "LayoutModel",
      "state": {}
     },
     "10203e2cc2ca454cbb746ee2e79b4d81": {
      "model_module": "@jupyter-widgets/controls",
      "model_module_version": "1.5.0",
      "model_name": "SliderStyleModel",
      "state": {
       "description_width": ""
      }
     },
     "1049120221a44f9698ad8be47c2dd830": {
      "model_module": "@jupyter-widgets/base",
      "model_module_version": "1.2.0",
      "model_name": "LayoutModel",
      "state": {}
     },
     "113da8bbf28f4da4a88ba0f9cabd4ebb": {
      "model_module": "@jupyter-widgets/controls",
      "model_module_version": "1.5.0",
      "model_name": "DescriptionStyleModel",
      "state": {
       "description_width": ""
      }
     },
     "1145eb1b6344415fbe5da4345ed32841": {
      "model_module": "@jupyter-widgets/controls",
      "model_module_version": "1.5.0",
      "model_name": "ButtonStyleModel",
      "state": {}
     },
     "1310fd264c314fc6ba058b93e9e20982": {
      "model_module": "@jupyter-widgets/base",
      "model_module_version": "1.2.0",
      "model_name": "LayoutModel",
      "state": {}
     },
     "1333161370364dc18b62b527843bccdf": {
      "model_module": "@jupyter-widgets/controls",
      "model_module_version": "1.5.0",
      "model_name": "HBoxModel",
      "state": {
       "children": [
        "IPY_MODEL_a5d0d447b1394b03986172fc7562d1f4",
        "IPY_MODEL_9bee7a831530488d8f1b62a13071e4a1"
       ],
       "layout": "IPY_MODEL_f7ff34c66d4b431c8d7a458913ac23de"
      }
     },
     "134a756a9b454b73bb8ed6d12d756e98": {
      "model_module": "@jupyter-widgets/base",
      "model_module_version": "1.2.0",
      "model_name": "LayoutModel",
      "state": {
       "margin": "20px 0px"
      }
     },
     "1353b6016646410798b195d84bc20e50": {
      "model_module": "pgljupyter",
      "model_module_version": "^0.1.16",
      "model_name": "MaterialEditorModel",
      "state": {
       "_model_module_version": "^0.1.16",
       "_view_module_version": "^0.1.16",
       "children": [
        "IPY_MODEL_896cb2a6eee44f0099cfa8dd5b2da22f",
        "IPY_MODEL_ca048b3e6ffe42779d97a92813a975b0",
        "IPY_MODEL_ae40200d7fdc43a69f8f57ce27d6891b",
        "IPY_MODEL_2c07ac220de942ccb12377bf94366b14",
        "IPY_MODEL_21350d8100af4acbbbba14f68c856baa",
        "IPY_MODEL_4c6828d30e454b219dd59636daba61a2",
        "IPY_MODEL_b11599f0c8c340be874b6f91e49e147c",
        "IPY_MODEL_e72c590e7a184b6fb4ad01d25e4545a9"
       ],
       "layout": "IPY_MODEL_24700b060af14c8981e7fbfedeade0f8"
      }
     },
     "13642e1addcd465cbd7d516a101c2713": {
      "model_module": "@jupyter-widgets/base",
      "model_module_version": "1.2.0",
      "model_name": "LayoutModel",
      "state": {}
     },
     "13acdf1ccc5a4999af0676c08d452094": {
      "model_module": "@jupyter-widgets/controls",
      "model_module_version": "1.5.0",
      "model_name": "SliderStyleModel",
      "state": {
       "description_width": ""
      }
     },
     "13b719143ac7434582f81b16c18d6b4e": {
      "model_module": "@jupyter-widgets/controls",
      "model_module_version": "1.5.0",
      "model_name": "ColorPickerModel",
      "state": {
       "description": "emission",
       "disabled": false,
       "layout": "IPY_MODEL_289af199b7494ce2935204247e9a8c74",
       "style": "IPY_MODEL_aff7649e3cd94b0e93b9db47ae177a91",
       "value": "#000000"
      }
     },
     "13d73679d1fc4c1dafedf885b7d2c851": {
      "model_module": "@jupyter-widgets/base",
      "model_module_version": "1.2.0",
      "model_name": "LayoutModel",
      "state": {}
     },
     "13ef4f1f81a4430aa1f08839e278e50f": {
      "model_module": "@jupyter-widgets/controls",
      "model_module_version": "1.5.0",
      "model_name": "HBoxModel",
      "state": {
       "children": [
        "IPY_MODEL_0ddc4da3ab684f75a000be5326010a3f",
        "IPY_MODEL_76962f026cd343edbb2be1f47b259f8e"
       ],
       "layout": "IPY_MODEL_60649db2aa41400c8d032bf13c68e453"
      }
     },
     "153641213cab4e3888f2df8ffe4df5e6": {
      "model_module": "@jupyter-widgets/controls",
      "model_module_version": "1.5.0",
      "model_name": "ButtonModel",
      "state": {
       "description": "Delete category",
       "layout": "IPY_MODEL_47cab6d01e35497189f8f2866f69ad79",
       "style": "IPY_MODEL_333c1c1af63143dfb66f43fe624cc4ba"
      }
     },
     "155e496650f34366b813ae47225f42d5": {
      "model_module": "@jupyter-widgets/base",
      "model_module_version": "1.2.0",
      "model_name": "LayoutModel",
      "state": {}
     },
     "15cc82a7eb6848f88869d829430b0385": {
      "model_module": "@jupyter-widgets/controls",
      "model_module_version": "1.5.0",
      "model_name": "DescriptionStyleModel",
      "state": {
       "description_width": ""
      }
     },
     "160584d7549b440497e447884ae62452": {
      "model_module": "@jupyter-widgets/controls",
      "model_module_version": "1.5.0",
      "model_name": "DescriptionStyleModel",
      "state": {
       "description_width": ""
      }
     },
     "161390ba99e04b138bc28fa9c249c180": {
      "model_module": "@jupyter-widgets/controls",
      "model_module_version": "1.5.0",
      "model_name": "TextModel",
      "state": {
       "continuous_update": false,
       "description": "name",
       "layout": "IPY_MODEL_bcf7fee88c72467fbcc5a469b43e9f92",
       "style": "IPY_MODEL_7bd0ba7ae13849c1a3991f5c1fc76a3f",
       "value": "radinc"
      }
     },
     "1624262f28254a519733973a8caf8b9e": {
      "model_module": "@jupyter-widgets/controls",
      "model_module_version": "1.5.0",
      "model_name": "HBoxModel",
      "state": {
       "children": [
        "IPY_MODEL_0ebdabd5351f4a218569ece12d364cf5"
       ],
       "layout": "IPY_MODEL_7e4f103663654092a3b6f3f18908d2a4"
      }
     },
     "164bcfa6695d41c4828175244e8404ae": {
      "model_module": "@jupyter-widgets/controls",
      "model_module_version": "1.5.0",
      "model_name": "DescriptionStyleModel",
      "state": {
       "description_width": ""
      }
     },
     "165abbc949ef4da0be3399b1aa01ad1f": {
      "model_module": "@jupyter-widgets/controls",
      "model_module_version": "1.5.0",
      "model_name": "SliderStyleModel",
      "state": {
       "description_width": ""
      }
     },
     "16bd9822848d4ea8a76ae7ebedd16681": {
      "model_module": "@jupyter-widgets/base",
      "model_module_version": "1.2.0",
      "model_name": "LayoutModel",
      "state": {
       "margin": "20px 0px"
      }
     },
     "16f7bc26a9f3423a8cdb0ee883e8baf3": {
      "model_module": "@jupyter-widgets/controls",
      "model_module_version": "1.5.0",
      "model_name": "SliderStyleModel",
      "state": {
       "description_width": ""
      }
     },
     "178a6cb4a45b40af811fc096f2974764": {
      "model_module": "@jupyter-widgets/base",
      "model_module_version": "1.2.0",
      "model_name": "LayoutModel",
      "state": {}
     },
     "18a4cfa16bc946538d5790374028d641": {
      "model_module": "@jupyter-widgets/base",
      "model_module_version": "1.2.0",
      "model_name": "LayoutModel",
      "state": {}
     },
     "18abd2b200874f98af3b0f2c86c1a019": {
      "model_module": "@jupyter-widgets/controls",
      "model_module_version": "1.5.0",
      "model_name": "ButtonStyleModel",
      "state": {}
     },
     "190f9a77b410464d8397db246bf8a588": {
      "model_module": "@jupyter-widgets/controls",
      "model_module_version": "1.5.0",
      "model_name": "TextModel",
      "state": {
       "continuous_update": false,
       "description": "name",
       "layout": "IPY_MODEL_3195adc8fefb45378839f142bc7b7fdc",
       "style": "IPY_MODEL_3324d05d1f6847678f57a1016eafaa0e",
       "value": "color_4"
      }
     },
     "194ad744cbd346c59d513770c2a47af7": {
      "model_module": "@jupyter-widgets/base",
      "model_module_version": "1.2.0",
      "model_name": "LayoutModel",
      "state": {
       "margin": "20px 0px"
      }
     },
     "19c0e5bf37c2495dba13da8f747c69e9": {
      "model_module": "@jupyter-widgets/controls",
      "model_module_version": "1.5.0",
      "model_name": "SliderStyleModel",
      "state": {
       "description_width": ""
      }
     },
     "1a39600936bd4b199a960b5ddd12c3ef": {
      "model_module": "@jupyter-widgets/controls",
      "model_module_version": "1.5.0",
      "model_name": "ButtonModel",
      "state": {
       "description": "Add",
       "layout": "IPY_MODEL_4fbf2b45694848a9aa03aadb8fb5d86c",
       "style": "IPY_MODEL_49abdf9d78524715a97cc756c7cc26ee"
      }
     },
     "1a3a8e4cff4b498aad3788925124b846": {
      "model_module": "@jupyter-widgets/controls",
      "model_module_version": "1.5.0",
      "model_name": "HBoxModel",
      "state": {
       "layout": "IPY_MODEL_5a7768daa7114d36b770ea435fe36cec"
      }
     },
     "1a768dffa91045cdbec62fd051859942": {
      "model_module": "@jupyter-widgets/controls",
      "model_module_version": "1.5.0",
      "model_name": "HBoxModel",
      "state": {
       "children": [
        "IPY_MODEL_de29d9fc92c645568318b3cac8e85baf",
        "IPY_MODEL_cbc8b4e533c94b8597e45a4ac84149b8"
       ],
       "layout": "IPY_MODEL_1310fd264c314fc6ba058b93e9e20982"
      }
     },
     "1a8e5e8102f24f6788a2e4825cfd5527": {
      "model_module": "@jupyter-widgets/controls",
      "model_module_version": "1.5.0",
      "model_name": "DescriptionStyleModel",
      "state": {
       "description_width": ""
      }
     },
     "1a901903106b4de5881749108bd6c41d": {
      "model_module": "@jupyter-widgets/base",
      "model_module_version": "1.2.0",
      "model_name": "LayoutModel",
      "state": {}
     },
     "1aeee9874bc84466bbeb7bfb15647305": {
      "model_module": "@jupyter-widgets/base",
      "model_module_version": "1.2.0",
      "model_name": "LayoutModel",
      "state": {
       "margin": "20px 0px"
      }
     },
     "1b23eb33720947ad81bbf0cc81ea07cf": {
      "model_module": "@jupyter-widgets/controls",
      "model_module_version": "1.5.0",
      "model_name": "SliderStyleModel",
      "state": {
       "description_width": ""
      }
     },
     "1b44d596a79d4717bb36340cb0ec6094": {
      "model_module": "@jupyter-widgets/base",
      "model_module_version": "1.2.0",
      "model_name": "LayoutModel",
      "state": {}
     },
     "1b6051bae24c473598c952d51984d1ee": {
      "model_module": "@jupyter-widgets/base",
      "model_module_version": "1.2.0",
      "model_name": "LayoutModel",
      "state": {}
     },
     "1d1c9cc08a664ea3b55b7a47fcfdc251": {
      "model_module": "@jupyter-widgets/controls",
      "model_module_version": "1.5.0",
      "model_name": "HBoxModel",
      "state": {
       "children": [
        "IPY_MODEL_9b10fafd1dad421981300c41e7b605cc",
        "IPY_MODEL_bd21842443764a4e9cfc0fe5e99adc99",
        "IPY_MODEL_48b02d61921140799c9d50de4e6abab8"
       ],
       "layout": "IPY_MODEL_f83dfb11eba54161877d623ec09906b5"
      }
     },
     "1d6ac4f49b314f0e9fb3532cfc3b8bce": {
      "model_module": "@jupyter-widgets/controls",
      "model_module_version": "1.5.0",
      "model_name": "IntTextModel",
      "state": {
       "description": "min",
       "layout": "IPY_MODEL_2047c15e3d8f4214b541d17514096060",
       "step": 1,
       "style": "IPY_MODEL_d57615a69c10480d8db062fc5e36385d",
       "value": 1
      }
     },
     "1e5af16da1b3427d83bc2e4cf9a49852": {
      "model_module": "@jupyter-widgets/controls",
      "model_module_version": "1.5.0",
      "model_name": "ButtonModel",
      "state": {
       "description": "Delete",
       "layout": "IPY_MODEL_6cb02b695e9b429fb82b362a464e95d4",
       "style": "IPY_MODEL_403ce4d89d824f1c8e0c931714a623aa"
      }
     },
     "1e6010c917c4441f8d05dacd1cf3a5ba": {
      "model_module": "@jupyter-widgets/controls",
      "model_module_version": "1.5.0",
      "model_name": "ColorPickerModel",
      "state": {
       "description": "ambient",
       "disabled": false,
       "layout": "IPY_MODEL_619d054879f142ab8a22cb911c74fa09",
       "style": "IPY_MODEL_269d4a9ce92344b6b1ca56cee70b6700",
       "value": "#0fc4db"
      }
     },
     "1e71076b6d304240bdd062f2d5156785": {
      "model_module": "@jupyter-widgets/base",
      "model_module_version": "1.2.0",
      "model_name": "LayoutModel",
      "state": {}
     },
     "1ea7dc68a20e4fa3ae2f532556b651d0": {
      "model_module": "@jupyter-widgets/controls",
      "model_module_version": "1.5.0",
      "model_name": "ColorPickerModel",
      "state": {
       "description": "ambient",
       "disabled": false,
       "layout": "IPY_MODEL_f4f2faa3af214fe2ad81b69860fda065",
       "style": "IPY_MODEL_906dd31da0b74225aefcd7029f7939cc",
       "value": "#e1a014"
      }
     },
     "1eb0713d17fb4a92b6d7cfab6060154c": {
      "model_module": "@jupyter-widgets/controls",
      "model_module_version": "1.5.0",
      "model_name": "DescriptionStyleModel",
      "state": {
       "description_width": ""
      }
     },
     "1f1df1d84cbd4198a124c637fd5a7782": {
      "model_module": "@jupyter-widgets/controls",
      "model_module_version": "1.5.0",
      "model_name": "DescriptionStyleModel",
      "state": {
       "description_width": ""
      }
     },
     "1f72998eed09408198e3afb7711fce67": {
      "model_module": "@jupyter-widgets/base",
      "model_module_version": "1.2.0",
      "model_name": "LayoutModel",
      "state": {}
     },
     "1f8ab0fca1c04c59ba41957779688c40": {
      "model_module": "@jupyter-widgets/controls",
      "model_module_version": "1.5.0",
      "model_name": "BoundedIntTextModel",
      "state": {
       "description": "index",
       "layout": "IPY_MODEL_3afbf51007944e8f8954670763c456a2",
       "style": "IPY_MODEL_f1c6aa52cc2a40a396a24165e1c5bf64",
       "value": 4
      }
     },
     "1fac97fbb78942428b45f4a29eff0181": {
      "model_module": "@jupyter-widgets/controls",
      "model_module_version": "1.5.0",
      "model_name": "SliderStyleModel",
      "state": {
       "description_width": ""
      }
     },
     "1fc7b2d61c8248a78f6d173ef2c25c28": {
      "model_module": "@jupyter-widgets/controls",
      "model_module_version": "1.5.0",
      "model_name": "DescriptionStyleModel",
      "state": {
       "description_width": ""
      }
     },
     "200bbcd159c24386b1e2e9fe9c914ff7": {
      "model_module": "@jupyter-widgets/controls",
      "model_module_version": "1.5.0",
      "model_name": "SliderStyleModel",
      "state": {
       "description_width": ""
      }
     },
     "20298b4a168141e9be68094a28287409": {
      "model_module": "@jupyter-widgets/controls",
      "model_module_version": "1.5.0",
      "model_name": "HBoxModel",
      "state": {
       "children": [
        "IPY_MODEL_5adffba729714082b4c0b93187c64244",
        "IPY_MODEL_41173f204e7842519840674a61a7e434"
       ],
       "layout": "IPY_MODEL_0edf0711fcd443488bc2bd1811f52c38"
      }
     },
     "203480e9c215468ea9ab336c23360aec": {
      "model_module": "@jupyter-widgets/controls",
      "model_module_version": "1.5.0",
      "model_name": "FloatSliderModel",
      "state": {
       "description": "value",
       "layout": "IPY_MODEL_6a018a7ac45f43ed9fb495ac70a32468",
       "max": 0.1,
       "min": 0.01,
       "step": 0.01,
       "style": "IPY_MODEL_cf673dfbe5eb413c96fdeb2659cfc128",
       "value": 0.02
      }
     },
     "2047c15e3d8f4214b541d17514096060": {
      "model_module": "@jupyter-widgets/base",
      "model_module_version": "1.2.0",
      "model_name": "LayoutModel",
      "state": {}
     },
     "209c033af72d44e3a0b13ab8001e5335": {
      "model_module": "@jupyter-widgets/base",
      "model_module_version": "1.2.0",
      "model_name": "LayoutModel",
      "state": {}
     },
     "20e3dd12ae594b74880fcf2f3311b803": {
      "model_module": "@jupyter-widgets/base",
      "model_module_version": "1.2.0",
      "model_name": "LayoutModel",
      "state": {}
     },
     "21350d8100af4acbbbba14f68c856baa": {
      "model_module": "@jupyter-widgets/controls",
      "model_module_version": "1.5.0",
      "model_name": "ColorPickerModel",
      "state": {
       "description": "emission",
       "disabled": false,
       "layout": "IPY_MODEL_c6a591bed4c246eaa6f122a5fb74d701",
       "style": "IPY_MODEL_58b736cae95a4a3f97d710efaa4148bb",
       "value": "#000000"
      }
     },
     "215f302522a248ffb3819ec2c29f1058": {
      "model_module": "@jupyter-widgets/base",
      "model_module_version": "1.2.0",
      "model_name": "LayoutModel",
      "state": {}
     },
     "2171707fa97347488af43fe88a591d0f": {
      "model_module": "@jupyter-widgets/controls",
      "model_module_version": "1.5.0",
      "model_name": "SliderStyleModel",
      "state": {
       "description_width": ""
      }
     },
     "21f3349a602545288f617c05af0e2a85": {
      "model_module": "@jupyter-widgets/base",
      "model_module_version": "1.2.0",
      "model_name": "LayoutModel",
      "state": {}
     },
     "221397e9ebd543a29b72321488035216": {
      "model_module": "@jupyter-widgets/controls",
      "model_module_version": "1.5.0",
      "model_name": "HBoxModel",
      "state": {
       "children": [
        "IPY_MODEL_34039ec0ba934c63862e396616b031ef",
        "IPY_MODEL_bc6a9e91763e4425a42d8b1641580ff4"
       ],
       "layout": "IPY_MODEL_3000a614557743cbb42abf392046434f"
      }
     },
     "2249a5a5d0f24085af3136bbb4f3f425": {
      "model_module": "@jupyter-widgets/controls",
      "model_module_version": "1.5.0",
      "model_name": "FloatSliderModel",
      "state": {
       "description": "shininess",
       "layout": "IPY_MODEL_d323d6b67e114f9199d968a403d35954",
       "max": 1,
       "step": 0.1,
       "style": "IPY_MODEL_abcc393b17f24dc9b7fecb97fc241a9d",
       "value": 0.2
      }
     },
     "22f9f8931d46440d97e214fb63e75678": {
      "model_module": "@jupyter-widgets/controls",
      "model_module_version": "1.5.0",
      "model_name": "ButtonStyleModel",
      "state": {}
     },
     "233d83e71b4344838e3144dcacea3eeb": {
      "model_module": "@jupyter-widgets/base",
      "model_module_version": "1.2.0",
      "model_name": "LayoutModel",
      "state": {}
     },
     "2340039821ec4848ab8a9b6c4eb0a864": {
      "model_module": "@jupyter-widgets/base",
      "model_module_version": "1.2.0",
      "model_name": "LayoutModel",
      "state": {}
     },
     "240b06896b1447a29608ee2c0041a5bc": {
      "model_module": "@jupyter-widgets/controls",
      "model_module_version": "1.5.0",
      "model_name": "IntSliderModel",
      "state": {
       "description": "value",
       "layout": "IPY_MODEL_e8499e7bab6246a0ad0a4f30d14ddbb3",
       "max": 10,
       "min": 1,
       "style": "IPY_MODEL_165abbc949ef4da0be3399b1aa01ad1f",
       "value": 3
      }
     },
     "243831084f114d97bd1e5d3e35197ff6": {
      "model_module": "@jupyter-widgets/controls",
      "model_module_version": "1.5.0",
      "model_name": "BoundedIntTextModel",
      "state": {
       "description": "index",
       "layout": "IPY_MODEL_178a6cb4a45b40af811fc096f2974764",
       "style": "IPY_MODEL_801c9757e2284ae99ecc9a5a8bffc9da",
       "value": 1
      }
     },
     "24700b060af14c8981e7fbfedeade0f8": {
      "model_module": "@jupyter-widgets/base",
      "model_module_version": "1.2.0",
      "model_name": "LayoutModel",
      "state": {
       "margin": "20px 0px"
      }
     },
     "25319b4a1c0d492ea4c44baed1f845f1": {
      "model_module": "@jupyter-widgets/base",
      "model_module_version": "1.2.0",
      "model_name": "LayoutModel",
      "state": {}
     },
     "25389c05c9a74d9a98ad640a1da0dc90": {
      "model_module": "@jupyter-widgets/controls",
      "model_module_version": "1.5.0",
      "model_name": "SliderStyleModel",
      "state": {
       "description_width": ""
      }
     },
     "255b3c439597483f80ed865cd04cc345": {
      "model_module": "@jupyter-widgets/base",
      "model_module_version": "1.2.0",
      "model_name": "LayoutModel",
      "state": {}
     },
     "259e1b89f75240de83d19dcd3b59bf86": {
      "model_module": "@jupyter-widgets/controls",
      "model_module_version": "1.5.0",
      "model_name": "DescriptionStyleModel",
      "state": {
       "description_width": ""
      }
     },
     "266957bdee4c488d96db5cfceab4b072": {
      "model_module": "@jupyter-widgets/base",
      "model_module_version": "1.2.0",
      "model_name": "LayoutModel",
      "state": {}
     },
     "269d4a9ce92344b6b1ca56cee70b6700": {
      "model_module": "@jupyter-widgets/controls",
      "model_module_version": "1.5.0",
      "model_name": "DescriptionStyleModel",
      "state": {
       "description_width": ""
      }
     },
     "26b2b92b694649c3b974782805831251": {
      "model_module": "pgljupyter",
      "model_module_version": "^0.1.16",
      "model_name": "IntEditorModel",
      "state": {
       "_model_module_version": "^0.1.16",
       "_view_module_version": "^0.1.16",
       "children": [
        "IPY_MODEL_8e6019a49d114761a746e659cc1c48f2",
        "IPY_MODEL_5bfb433518c246f4a7cd7249ff19b64e",
        "IPY_MODEL_eac0f378daf14e768b562dc92a52bd46",
        "IPY_MODEL_aadcd785ecac49dd89e89b98cd11a5bc",
        "IPY_MODEL_71bb87308f7f413585405d1a1df6ad8f"
       ],
       "layout": "IPY_MODEL_a85f651d3d144554a4c5e5260dc4c9c3"
      }
     },
     "26dd1eed428440a1bb6365baf44e75c4": {
      "model_module": "@jupyter-widgets/controls",
      "model_module_version": "1.5.0",
      "model_name": "BoundedIntTextModel",
      "state": {
       "description": "index",
       "layout": "IPY_MODEL_3bc727a4c5e842eba687117ad175a2bc",
       "style": "IPY_MODEL_d40cd5784b9640ce86140f6d8eb19ad7",
       "value": 2
      }
     },
     "2748b3bc98584be89e557777f606f30e": {
      "model_module": "@jupyter-widgets/base",
      "model_module_version": "1.2.0",
      "model_name": "LayoutModel",
      "state": {}
     },
     "27c99d487aef426398bafe8dc27b8491": {
      "model_module": "@jupyter-widgets/base",
      "model_module_version": "1.2.0",
      "model_name": "LayoutModel",
      "state": {}
     },
     "27f197b4f13d478283479e8a52271d78": {
      "model_module": "@jupyter-widgets/controls",
      "model_module_version": "1.5.0",
      "model_name": "ButtonModel",
      "state": {
       "description": "Save changes",
       "layout": "IPY_MODEL_f826609262fd40cb852fc2f4bd691b74",
       "style": "IPY_MODEL_dfccc42a1e8f4f4abdf4c85dd83fbdf3"
      }
     },
     "280f5706c53c48bd96c1f0c3b5a82955": {
      "model_module": "@jupyter-widgets/controls",
      "model_module_version": "1.5.0",
      "model_name": "ColorPickerModel",
      "state": {
       "description": "specular",
       "disabled": false,
       "layout": "IPY_MODEL_47c2ee699e6a4f7c83103495961650b0",
       "style": "IPY_MODEL_b618285ed5684282bcdc1d912a0170cc",
       "value": "#282828"
      }
     },
     "28501e07ca81424ba924d3f88696843a": {
      "model_module": "@jupyter-widgets/controls",
      "model_module_version": "1.5.0",
      "model_name": "ButtonStyleModel",
      "state": {}
     },
     "289af199b7494ce2935204247e9a8c74": {
      "model_module": "@jupyter-widgets/base",
      "model_module_version": "1.2.0",
      "model_name": "LayoutModel",
      "state": {}
     },
     "28ac8517ff6543888b7ae35a5a88a964": {
      "model_module": "@jupyter-widgets/base",
      "model_module_version": "1.2.0",
      "model_name": "LayoutModel",
      "state": {}
     },
     "29ada92f78534b5a8245a40f76bd758a": {
      "model_module": "@jupyter-widgets/base",
      "model_module_version": "1.2.0",
      "model_name": "LayoutModel",
      "state": {}
     },
     "29cf0466a11e48fc973f7029133b4c1c": {
      "model_module": "@jupyter-widgets/base",
      "model_module_version": "1.2.0",
      "model_name": "LayoutModel",
      "state": {}
     },
     "29f083c6202b4e71911388db0eb926e4": {
      "model_module": "@jupyter-widgets/controls",
      "model_module_version": "1.5.0",
      "model_name": "FloatSliderModel",
      "state": {
       "description": "diffuse",
       "layout": "IPY_MODEL_1a901903106b4de5881749108bd6c41d",
       "max": 3,
       "step": 0.1,
       "style": "IPY_MODEL_e2de1706c64a496781bb68ab5f7e1f36",
       "value": 1
      }
     },
     "2a3d358efbf34acb9c7a60be2b6f23ae": {
      "model_module": "@jupyter-widgets/controls",
      "model_module_version": "1.5.0",
      "model_name": "DescriptionStyleModel",
      "state": {
       "description_width": ""
      }
     },
     "2b0ed78f41644859a87787f1255e1b81": {
      "model_module": "@jupyter-widgets/controls",
      "model_module_version": "1.5.0",
      "model_name": "DescriptionStyleModel",
      "state": {
       "description_width": ""
      }
     },
     "2b2537aec03a486682b37fa201430b15": {
      "model_module": "@jupyter-widgets/controls",
      "model_module_version": "1.5.0",
      "model_name": "DescriptionStyleModel",
      "state": {
       "description_width": ""
      }
     },
     "2b91b62c30f74a2d80349a21cd49380b": {
      "model_module": "@jupyter-widgets/controls",
      "model_module_version": "1.5.0",
      "model_name": "HBoxModel",
      "state": {
       "children": [
        "IPY_MODEL_9334138484854b40a86080f1b61c3cbf",
        "IPY_MODEL_2ebfcf29b8b347bcbb892e15552a4724"
       ],
       "layout": "IPY_MODEL_37ab0aab470c48e49c20c495f371e4d0"
      }
     },
     "2c07ac220de942ccb12377bf94366b14": {
      "model_module": "@jupyter-widgets/controls",
      "model_module_version": "1.5.0",
      "model_name": "ColorPickerModel",
      "state": {
       "description": "specular",
       "disabled": false,
       "layout": "IPY_MODEL_0fbf4f04c7844825967a392870b05c3c",
       "style": "IPY_MODEL_674ce701a99c4dd290082ac0ca4a9bf8",
       "value": "#282828"
      }
     },
     "2c2396952b064b95b30ec4636f7a5104": {
      "model_module": "@jupyter-widgets/base",
      "model_module_version": "1.2.0",
      "model_name": "LayoutModel",
      "state": {}
     },
     "2c72ff2950854494b63f8872eabd3dac": {
      "model_module": "@jupyter-widgets/base",
      "model_module_version": "1.2.0",
      "model_name": "LayoutModel",
      "state": {}
     },
     "2cbe2b9f20a14b2c9ff7c42cc96e34c6": {
      "model_module": "@jupyter-widgets/controls",
      "model_module_version": "1.5.0",
      "model_name": "ColorPickerModel",
      "state": {
       "description": "emission",
       "disabled": false,
       "layout": "IPY_MODEL_0499384873a04178a41a7a611d6d08dc",
       "style": "IPY_MODEL_c120885553c04d129fd38676ed6234d2",
       "value": "#000000"
      }
     },
     "2d5a147118f043b0bedacc46a82c83fb": {
      "model_module": "@jupyter-widgets/controls",
      "model_module_version": "1.5.0",
      "model_name": "SliderStyleModel",
      "state": {
       "description_width": ""
      }
     },
     "2da2625474d444a4a745acca04a53c1f": {
      "model_module": "@jupyter-widgets/controls",
      "model_module_version": "1.5.0",
      "model_name": "FloatSliderModel",
      "state": {
       "description": "shininess",
       "layout": "IPY_MODEL_694aa30345644ad9836c04cf3497349c",
       "max": 1,
       "step": 0.1,
       "style": "IPY_MODEL_eb38eb2960ba4c56b249425bdddbb378",
       "value": 0.2
      }
     },
     "2db2f596971f45688e65a9abdd337586": {
      "model_module": "@jupyter-widgets/controls",
      "model_module_version": "1.5.0",
      "model_name": "IntSliderModel",
      "state": {
       "description": "value",
       "layout": "IPY_MODEL_720602bd96314ddbb7e19314e2bb1ac7",
       "max": 7,
       "min": 1,
       "style": "IPY_MODEL_10203e2cc2ca454cbb746ee2e79b4d81",
       "value": 3
      }
     },
     "2de7c371544e409a8f3f128430eeced9": {
      "model_module": "@jupyter-widgets/base",
      "model_module_version": "1.2.0",
      "model_name": "LayoutModel",
      "state": {}
     },
     "2e291dc0a02b4b878cc21b93ac478bfd": {
      "model_module": "@jupyter-widgets/base",
      "model_module_version": "1.2.0",
      "model_name": "LayoutModel",
      "state": {}
     },
     "2e4a8e24f3cb480f948147e7187812ba": {
      "model_module": "@jupyter-widgets/base",
      "model_module_version": "1.2.0",
      "model_name": "LayoutModel",
      "state": {}
     },
     "2e83ffb67736453ba28acc20275e238f": {
      "model_module": "@jupyter-widgets/base",
      "model_module_version": "1.2.0",
      "model_name": "LayoutModel",
      "state": {}
     },
     "2ebfcf29b8b347bcbb892e15552a4724": {
      "model_module": "@jupyter-widgets/controls",
      "model_module_version": "1.5.0",
      "model_name": "DropdownModel",
      "state": {
       "_options_labels": [
        "Integer",
        "Float",
        "Bool"
       ],
       "index": 0,
       "layout": "IPY_MODEL_530074057fcd4130a243bde3a073669b",
       "style": "IPY_MODEL_e248c6cad0a7477090a5f66a3ae950b9"
      }
     },
     "2efed7a1fa88483699467354d3562b8e": {
      "model_module": "@jupyter-widgets/base",
      "model_module_version": "1.2.0",
      "model_name": "LayoutModel",
      "state": {}
     },
     "2f0afcc5db404c0c9baabdd8288c7f23": {
      "model_module": "@jupyter-widgets/controls",
      "model_module_version": "1.5.0",
      "model_name": "TabModel",
      "state": {
       "_titles": {
        "0": "leuwenberg.json"
       },
       "children": [
        "IPY_MODEL_73496737da0c4b479a2e43c89062fdf3"
       ],
       "layout": "IPY_MODEL_2f120020ca8d4391a2338862187e2aa9"
      }
     },
     "2f120020ca8d4391a2338862187e2aa9": {
      "model_module": "@jupyter-widgets/base",
      "model_module_version": "1.2.0",
      "model_name": "LayoutModel",
      "state": {}
     },
     "2f2a18791e474473882476c2b545f886": {
      "model_module": "@jupyter-widgets/controls",
      "model_module_version": "1.5.0",
      "model_name": "BoundedIntTextModel",
      "state": {
       "description": "index",
       "layout": "IPY_MODEL_4ba98a3088f249428269655303174413",
       "style": "IPY_MODEL_604d1a618d0d48e8ba8e49ac54668dfb",
       "value": 4
      }
     },
     "2f7990fb68574e08a097ad24e9646305": {
      "model_module": "@jupyter-widgets/controls",
      "model_module_version": "1.5.0",
      "model_name": "ButtonStyleModel",
      "state": {}
     },
     "3000a614557743cbb42abf392046434f": {
      "model_module": "@jupyter-widgets/base",
      "model_module_version": "1.2.0",
      "model_name": "LayoutModel",
      "state": {}
     },
     "3036709698c94d53ac94124615b9612e": {
      "model_module": "@jupyter-widgets/controls",
      "model_module_version": "1.5.0",
      "model_name": "VBoxModel",
      "state": {
       "children": [
        "IPY_MODEL_34e6f4f09b2d4c69b0edd0a18c352caf",
        "IPY_MODEL_6b64f44ea36c41a0bce14ae865b76233"
       ],
       "layout": "IPY_MODEL_82e2fd1b3d93436b87d96fe4772c750c"
      }
     },
     "30473609ffbf4e1781ef3e743132ea77": {
      "model_module": "@jupyter-widgets/controls",
      "model_module_version": "1.5.0",
      "model_name": "ColorPickerModel",
      "state": {
       "description": "specular",
       "disabled": false,
       "layout": "IPY_MODEL_d4ef39502216401ca3c2e7381d844b04",
       "style": "IPY_MODEL_38271c79a85044a1a2f372e45b7f3762",
       "value": "#282828"
      }
     },
     "30d8f21dda4646f0acb3611afa8c89a6": {
      "model_module": "@jupyter-widgets/controls",
      "model_module_version": "1.5.0",
      "model_name": "SliderStyleModel",
      "state": {
       "description_width": ""
      }
     },
     "3118b20c6b1b41b095139fadd7aa0f5e": {
      "model_module": "@jupyter-widgets/controls",
      "model_module_version": "1.5.0",
      "model_name": "HBoxModel",
      "state": {
       "children": [
        "IPY_MODEL_fd123b157eeb4540a7cc729aaa32ef3f",
        "IPY_MODEL_a2b015214e0846d9ac5d81a1bebac7b4"
       ],
       "layout": "IPY_MODEL_c668486775d54df3a202a26b6d1a94af"
      }
     },
     "3152de1fa1164856a37a0aa90a315025": {
      "model_module": "pgljupyter",
      "model_module_version": "^0.1.17",
      "model_name": "IntEditorModel",
      "state": {
       "_model_module_version": "^0.1.17",
       "_view_module_version": "^0.1.17",
       "children": [
        "IPY_MODEL_526eb050a3ef4576aa3195631f16da0b",
        "IPY_MODEL_4720179570ea4e868498362e539111b3"
       ],
       "layout": "IPY_MODEL_d3311825194e40848ec86c6df05ec71f"
      }
     },
     "3195adc8fefb45378839f142bc7b7fdc": {
      "model_module": "@jupyter-widgets/base",
      "model_module_version": "1.2.0",
      "model_name": "LayoutModel",
      "state": {}
     },
     "3324d05d1f6847678f57a1016eafaa0e": {
      "model_module": "@jupyter-widgets/controls",
      "model_module_version": "1.5.0",
      "model_name": "DescriptionStyleModel",
      "state": {
       "description_width": ""
      }
     },
     "333c1c1af63143dfb66f43fe624cc4ba": {
      "model_module": "@jupyter-widgets/controls",
      "model_module_version": "1.5.0",
      "model_name": "ButtonStyleModel",
      "state": {}
     },
     "33a25a7f6c774d99a2ad689dcc5a28a6": {
      "model_module": "@jupyter-widgets/controls",
      "model_module_version": "1.5.0",
      "model_name": "ButtonStyleModel",
      "state": {}
     },
     "33df28684ad348f5b03827854e48c752": {
      "model_module": "@jupyter-widgets/controls",
      "model_module_version": "1.5.0",
      "model_name": "SliderStyleModel",
      "state": {
       "description_width": ""
      }
     },
     "34039ec0ba934c63862e396616b031ef": {
      "model_module": "@jupyter-widgets/controls",
      "model_module_version": "1.5.0",
      "model_name": "ButtonModel",
      "state": {
       "description": "Add category",
       "layout": "IPY_MODEL_f3b5f46f7b7c466baaef384604030357",
       "style": "IPY_MODEL_54afde6385054afa854c63b78d32c519"
      }
     },
     "340f0dbc98ff42bda049e2e8bbb7b838": {
      "model_module": "@jupyter-widgets/base",
      "model_module_version": "1.2.0",
      "model_name": "LayoutModel",
      "state": {}
     },
     "3423cf0a4514403f822864a725d3fedc": {
      "model_module": "@jupyter-widgets/base",
      "model_module_version": "1.2.0",
      "model_name": "LayoutModel",
      "state": {}
     },
     "34e6f4f09b2d4c69b0edd0a18c352caf": {
      "model_module": "@jupyter-widgets/controls",
      "model_module_version": "1.5.0",
      "model_name": "HBoxModel",
      "state": {
       "layout": "IPY_MODEL_f7ff34c66d4b431c8d7a458913ac23de"
      }
     },
     "352b11aaadc949e5b6d43b2af8c9c8bf": {
      "model_module": "@jupyter-widgets/controls",
      "model_module_version": "1.5.0",
      "model_name": "DescriptionStyleModel",
      "state": {
       "description_width": ""
      }
     },
     "353ddb1420fc4c4b98046d215b3a0a75": {
      "model_module": "@jupyter-widgets/controls",
      "model_module_version": "1.5.0",
      "model_name": "VBoxModel",
      "state": {
       "children": [
        "IPY_MODEL_4ee93253ee1e4f019df07258a39d8b47",
        "IPY_MODEL_d77d077081bb4eb8baa6f71acfaca80d",
        "IPY_MODEL_7607d9a6764a4b5585e648fdb1289c55",
        "IPY_MODEL_35ad94a74fd54bed8475e8324c36f8d3",
        "IPY_MODEL_1a3a8e4cff4b498aad3788925124b846"
       ],
       "layout": "IPY_MODEL_ad1542a9ee5d493fb7cad40f4ec24a08"
      }
     },
     "3581f98b0e0b489eb1e8d1ffb45828de": {
      "model_module": "@jupyter-widgets/base",
      "model_module_version": "1.2.0",
      "model_name": "LayoutModel",
      "state": {}
     },
     "35888e4f3f5048409ae7317289d152bd": {
      "model_module": "@jupyter-widgets/base",
      "model_module_version": "1.2.0",
      "model_name": "LayoutModel",
      "state": {
       "margin": "20px 0px"
      }
     },
     "35ad94a74fd54bed8475e8324c36f8d3": {
      "model_module": "@jupyter-widgets/controls",
      "model_module_version": "1.5.0",
      "model_name": "HBoxModel",
      "state": {
       "children": [
        "IPY_MODEL_4846a27e60cc441d93d5c535ffde0e6e",
        "IPY_MODEL_6f0f8070aff54befb01d59fb84b450b7"
       ],
       "layout": "IPY_MODEL_f7ff34c66d4b431c8d7a458913ac23de"
      }
     },
     "35de142236d6430682387800cc229756": {
      "model_module": "@jupyter-widgets/controls",
      "model_module_version": "1.5.0",
      "model_name": "VBoxModel",
      "state": {
       "children": [
        "IPY_MODEL_417217b16fe444758f93fa05fe33456f",
        "IPY_MODEL_b52d8d1f7a39435a937737cba39c4169"
       ],
       "layout": "IPY_MODEL_63354b64c5c6445686dd6064588bcd06"
      }
     },
     "36cefaebd481433a986da12e8f4ca923": {
      "model_module": "@jupyter-widgets/base",
      "model_module_version": "1.2.0",
      "model_name": "LayoutModel",
      "state": {}
     },
     "36dae7e778b4478990ee42ee7dd61824": {
      "model_module": "@jupyter-widgets/base",
      "model_module_version": "1.2.0",
      "model_name": "LayoutModel",
      "state": {}
     },
     "37056445934e4abba973138c48789f20": {
      "model_module": "@jupyter-widgets/controls",
      "model_module_version": "1.5.0",
      "model_name": "DescriptionStyleModel",
      "state": {
       "description_width": ""
      }
     },
     "3761ab3b962b4bdc83a0b5c3edaaf2f4": {
      "model_module": "@jupyter-widgets/base",
      "model_module_version": "1.2.0",
      "model_name": "LayoutModel",
      "state": {}
     },
     "37ab0aab470c48e49c20c495f371e4d0": {
      "model_module": "@jupyter-widgets/base",
      "model_module_version": "1.2.0",
      "model_name": "LayoutModel",
      "state": {}
     },
     "37b2865fee2b4a02bc2013f64eaefc86": {
      "model_module": "@jupyter-widgets/base",
      "model_module_version": "1.2.0",
      "model_name": "LayoutModel",
      "state": {
       "flex_flow": "row wrap"
      }
     },
     "37bad97f36864d09b884b5b159f845c5": {
      "model_module": "@jupyter-widgets/controls",
      "model_module_version": "1.5.0",
      "model_name": "ColorPickerModel",
      "state": {
       "description": "specular",
       "disabled": false,
       "layout": "IPY_MODEL_8ed6d95dd9ef49ee8cf874817418fc76",
       "style": "IPY_MODEL_e9582f1549fd47149a0a82f1ee63f055",
       "value": "#282828"
      }
     },
     "37be1e18450a48628dc1cfe7889e3ae0": {
      "model_module": "@jupyter-widgets/base",
      "model_module_version": "1.2.0",
      "model_name": "LayoutModel",
      "state": {}
     },
     "38271c79a85044a1a2f372e45b7f3762": {
      "model_module": "@jupyter-widgets/controls",
      "model_module_version": "1.5.0",
      "model_name": "DescriptionStyleModel",
      "state": {
       "description_width": ""
      }
     },
     "382ba098f6cc4adf8bfb135a9de7b6d8": {
      "model_module": "@jupyter-widgets/base",
      "model_module_version": "1.2.0",
      "model_name": "LayoutModel",
      "state": {}
     },
     "38af2c3340fa4dccbe1fe87f084d021e": {
      "model_module": "@jupyter-widgets/controls",
      "model_module_version": "1.5.0",
      "model_name": "ColorPickerModel",
      "state": {
       "description": "specular",
       "disabled": false,
       "layout": "IPY_MODEL_a4330bdab939492fbed45caab83a37b0",
       "style": "IPY_MODEL_e1ad944eafa344f19b268b968727ebe2",
       "value": "#282828"
      }
     },
     "38c72ff473424ad9bfe39cfda219b63e": {
      "model_module": "@jupyter-widgets/controls",
      "model_module_version": "1.5.0",
      "model_name": "DescriptionStyleModel",
      "state": {
       "description_width": ""
      }
     },
     "38e26cd9e23545518709851cba698d94": {
      "model_module": "@jupyter-widgets/base",
      "model_module_version": "1.2.0",
      "model_name": "LayoutModel",
      "state": {}
     },
     "38f0ad6d78c543e584e0999e772ae5b0": {
      "model_module": "@jupyter-widgets/controls",
      "model_module_version": "1.5.0",
      "model_name": "DescriptionStyleModel",
      "state": {
       "description_width": ""
      }
     },
     "39084374a571435e824d7618f816aad4": {
      "model_module": "@jupyter-widgets/base",
      "model_module_version": "1.2.0",
      "model_name": "LayoutModel",
      "state": {}
     },
     "391878e8ba0540f5adaa617056b8dd47": {
      "model_module": "@jupyter-widgets/controls",
      "model_module_version": "1.5.0",
      "model_name": "DescriptionStyleModel",
      "state": {
       "description_width": ""
      }
     },
     "39b48239860647a19accd22046ec23a9": {
      "model_module": "@jupyter-widgets/base",
      "model_module_version": "1.2.0",
      "model_name": "LayoutModel",
      "state": {}
     },
     "3af78c5ade4d410a8a1156f28dde5870": {
      "model_module": "@jupyter-widgets/base",
      "model_module_version": "1.2.0",
      "model_name": "LayoutModel",
      "state": {}
     },
     "3afbf51007944e8f8954670763c456a2": {
      "model_module": "@jupyter-widgets/base",
      "model_module_version": "1.2.0",
      "model_name": "LayoutModel",
      "state": {}
     },
     "3b280508434144bfb2cc499f02a544f3": {
      "model_module": "@jupyter-widgets/base",
      "model_module_version": "1.2.0",
      "model_name": "LayoutModel",
      "state": {
       "margin": "20px 0px"
      }
     },
     "3b4a50bb20de416aaf7650c47c84598b": {
      "model_module": "@jupyter-widgets/base",
      "model_module_version": "1.2.0",
      "model_name": "LayoutModel",
      "state": {}
     },
     "3b6eb237ab884fc6a9851aa3c2d821fe": {
      "model_module": "@jupyter-widgets/base",
      "model_module_version": "1.2.0",
      "model_name": "LayoutModel",
      "state": {}
     },
     "3b8516e57df04b72aa4033410b7cc6fb": {
      "model_module": "@jupyter-widgets/controls",
      "model_module_version": "1.5.0",
      "model_name": "DescriptionStyleModel",
      "state": {
       "description_width": ""
      }
     },
     "3bc727a4c5e842eba687117ad175a2bc": {
      "model_module": "@jupyter-widgets/base",
      "model_module_version": "1.2.0",
      "model_name": "LayoutModel",
      "state": {}
     },
     "3bc82dbd12c54e549771ee3d9cd55b1d": {
      "model_module": "@jupyter-widgets/base",
      "model_module_version": "1.2.0",
      "model_name": "LayoutModel",
      "state": {}
     },
     "3bd8c5155e614aa49b91b3ee03106bb8": {
      "model_module": "@jupyter-widgets/base",
      "model_module_version": "1.2.0",
      "model_name": "LayoutModel",
      "state": {}
     },
     "3c896b356b9b402f8ae6e80bf9405ba7": {
      "model_module": "@jupyter-widgets/base",
      "model_module_version": "1.2.0",
      "model_name": "LayoutModel",
      "state": {}
     },
     "3c9570eda3684eab96511e129bb5cee0": {
      "model_module": "pgljupyter",
      "model_module_version": "^0.1.17",
      "model_name": "IntEditorModel",
      "state": {
       "_model_module_version": "^0.1.17",
       "_view_module_version": "^0.1.17",
       "children": [
        "IPY_MODEL_424624df5c714774b94c513145e29a9c",
        "IPY_MODEL_2db2f596971f45688e65a9abdd337586"
       ],
       "layout": "IPY_MODEL_e14b8d9da9d94827aa6e7a2c4a59032a"
      }
     },
     "3e2965ac15734eacbe93346089045d2a": {
      "model_module": "pgljupyter",
      "model_module_version": "^0.1.16",
      "model_name": "IntEditorModel",
      "state": {
       "_model_module_version": "^0.1.16",
       "_view_module_version": "^0.1.16",
       "children": [
        "IPY_MODEL_a72f273cdb3945e394051fb5a3ed72de",
        "IPY_MODEL_f07ec7a47aa64a3a83eebeecca3f4573",
        "IPY_MODEL_1d6ac4f49b314f0e9fb3532cfc3b8bce",
        "IPY_MODEL_0f84ed044f5d499287d57c8c98211fae",
        "IPY_MODEL_06a4c0bb621c49b0a886a6f2d4b71f84"
       ],
       "layout": "IPY_MODEL_16bd9822848d4ea8a76ae7ebedd16681"
      }
     },
     "3ec386de663b4617bc9f49b851f4ac02": {
      "model_module": "@jupyter-widgets/controls",
      "model_module_version": "1.5.0",
      "model_name": "ButtonStyleModel",
      "state": {}
     },
     "3f1c5cb37d464c0c965c97fc3a1e7f60": {
      "model_module": "@jupyter-widgets/controls",
      "model_module_version": "1.5.0",
      "model_name": "DropdownModel",
      "state": {
       "_options_labels": [
        "Color"
       ],
       "index": 0,
       "layout": "IPY_MODEL_04c46391563944e09f827e89ec2715fa",
       "style": "IPY_MODEL_352b11aaadc949e5b6d43b2af8c9c8bf"
      }
     },
     "3f1ceb1b479240d594f1881f8013d88a": {
      "model_module": "@jupyter-widgets/base",
      "model_module_version": "1.2.0",
      "model_name": "LayoutModel",
      "state": {}
     },
     "3f7ba822c536404481bce2f09c84de9d": {
      "model_module": "@jupyter-widgets/base",
      "model_module_version": "1.2.0",
      "model_name": "LayoutModel",
      "state": {}
     },
     "3f9a1ab9b1b04ceb9f3c4d04a7d00904": {
      "model_module": "@jupyter-widgets/controls",
      "model_module_version": "1.5.0",
      "model_name": "TextModel",
      "state": {
       "continuous_update": false,
       "description": "name",
       "layout": "IPY_MODEL_3f1ceb1b479240d594f1881f8013d88a",
       "style": "IPY_MODEL_ac71f1c55d9948e19e588813ff85983b",
       "value": "color_1"
      }
     },
     "403ce4d89d824f1c8e0c931714a623aa": {
      "model_module": "@jupyter-widgets/controls",
      "model_module_version": "1.5.0",
      "model_name": "ButtonStyleModel",
      "state": {}
     },
     "4045fe6afc194dcaa3f2c54427fa1745": {
      "model_module": "@jupyter-widgets/controls",
      "model_module_version": "1.5.0",
      "model_name": "DescriptionStyleModel",
      "state": {
       "description_width": ""
      }
     },
     "406538f49d474b288e16fda7dd512c69": {
      "model_module": "@jupyter-widgets/base",
      "model_module_version": "1.2.0",
      "model_name": "LayoutModel",
      "state": {}
     },
     "40ccbdcf094944daacad40f2478bd3f3": {
      "model_module": "@jupyter-widgets/controls",
      "model_module_version": "1.5.0",
      "model_name": "DescriptionStyleModel",
      "state": {
       "description_width": ""
      }
     },
     "40d3cad94876411eb2c2b28bed44d044": {
      "model_module": "@jupyter-widgets/base",
      "model_module_version": "1.2.0",
      "model_name": "LayoutModel",
      "state": {}
     },
     "41173f204e7842519840674a61a7e434": {
      "model_module": "@jupyter-widgets/controls",
      "model_module_version": "1.5.0",
      "model_name": "HBoxModel",
      "state": {
       "children": [
        "IPY_MODEL_9b9a7369a8eb4f5da61755ac616f74c3",
        "IPY_MODEL_da90b6b6b6334b2d8566268731ae92f4"
       ],
       "layout": "IPY_MODEL_3c896b356b9b402f8ae6e80bf9405ba7"
      }
     },
     "41374977018a4cc590e2913add7f287a": {
      "model_module": "@jupyter-widgets/controls",
      "model_module_version": "1.5.0",
      "model_name": "FloatSliderModel",
      "state": {
       "description": "diffuse",
       "layout": "IPY_MODEL_2e83ffb67736453ba28acc20275e238f",
       "max": 3,
       "step": 0.1,
       "style": "IPY_MODEL_bb16c1d4c8a841829bfb8da15b3bea9a",
       "value": 1
      }
     },
     "41689189f03a44738c5a6d8d77d673f0": {
      "model_module": "@jupyter-widgets/base",
      "model_module_version": "1.2.0",
      "model_name": "LayoutModel",
      "state": {
       "margin": "20px 0px"
      }
     },
     "417217b16fe444758f93fa05fe33456f": {
      "model_module": "@jupyter-widgets/controls",
      "model_module_version": "1.5.0",
      "model_name": "HBoxModel",
      "state": {
       "children": [
        "IPY_MODEL_4c59ca8cf18245f5a14540938a82f127",
        "IPY_MODEL_bf9f735211574d32bf9d5fa02ec1e786"
       ],
       "layout": "IPY_MODEL_0edf0711fcd443488bc2bd1811f52c38"
      }
     },
     "417e8e140cdf4466b6d508d357de4584": {
      "model_module": "@jupyter-widgets/controls",
      "model_module_version": "1.5.0",
      "model_name": "ButtonModel",
      "state": {
       "description": "Save changes",
       "layout": "IPY_MODEL_c989202804bb452e8cb9723017e5f6c3",
       "style": "IPY_MODEL_6b8f0820ce5e43c796130647fa6eec1e"
      }
     },
     "4195dc0db72c4f82bb9bd5eead7e9779": {
      "model_module": "@jupyter-widgets/base",
      "model_module_version": "1.2.0",
      "model_name": "LayoutModel",
      "state": {}
     },
     "41cc1db02ba64e62b40ee9b19a788ac1": {
      "model_module": "@jupyter-widgets/base",
      "model_module_version": "1.2.0",
      "model_name": "LayoutModel",
      "state": {}
     },
     "421e1166bf044e938a7c55bfb05fe175": {
      "model_module": "@jupyter-widgets/controls",
      "model_module_version": "1.5.0",
      "model_name": "ButtonModel",
      "state": {
       "description": "Delete category",
       "layout": "IPY_MODEL_13d73679d1fc4c1dafedf885b7d2c851",
       "style": "IPY_MODEL_f26688f6c93d449ca3039c51f092914f"
      }
     },
     "424624df5c714774b94c513145e29a9c": {
      "model_module": "@jupyter-widgets/controls",
      "model_module_version": "1.5.0",
      "model_name": "TextModel",
      "state": {
       "continuous_update": false,
       "description": "name",
       "layout": "IPY_MODEL_7b4693667f2d4338a8c79a9c6641cc55",
       "style": "IPY_MODEL_b8a8455ce5b040d0b828e4487621af24",
       "value": "nb_axes"
      }
     },
     "42733af347b24deeb6820dafdba23586": {
      "model_module": "@jupyter-widgets/controls",
      "model_module_version": "1.5.0",
      "model_name": "CheckboxModel",
      "state": {
       "description": "Auto save",
       "disabled": false,
       "layout": "IPY_MODEL_d0a6d8e803054098abe932e3805dde62",
       "style": "IPY_MODEL_841666774d4c43d9ae6d7eaf452a6732",
       "value": false
      }
     },
     "428b97f3a6fc42759d90478a7ffb3457": {
      "model_module": "@jupyter-widgets/controls",
      "model_module_version": "1.5.0",
      "model_name": "ButtonModel",
      "state": {
       "description": "Add",
       "layout": "IPY_MODEL_f8bc8a94e6fc4a96a7ccd3d239c789b6",
       "style": "IPY_MODEL_0f41b5c50bdb442a8ef61d9d982b922d"
      }
     },
     "42e7b3c15d994cd6b5e009744d25d2cf": {
      "model_module": "@jupyter-widgets/base",
      "model_module_version": "1.2.0",
      "model_name": "LayoutModel",
      "state": {}
     },
     "431315f0bf144d2fa04d6ffc24c515f9": {
      "model_module": "@jupyter-widgets/base",
      "model_module_version": "1.2.0",
      "model_name": "LayoutModel",
      "state": {}
     },
     "436612109cc345eab450803b93d883e8": {
      "model_module": "@jupyter-widgets/controls",
      "model_module_version": "1.5.0",
      "model_name": "FloatTextModel",
      "state": {
       "description": "max",
       "layout": "IPY_MODEL_8cbb1af1d0af4ff9bb22fce6efa5827f",
       "step": null,
       "style": "IPY_MODEL_83a4686453db4032b8b41676af2640e3",
       "value": 0.1
      }
     },
     "440acb6e8011430aa874cae6aefacb36": {
      "model_module": "@jupyter-widgets/base",
      "model_module_version": "1.2.0",
      "model_name": "LayoutModel",
      "state": {}
     },
     "44131773a2c94fe0b4f6cf36799a8fd5": {
      "model_module": "@jupyter-widgets/base",
      "model_module_version": "1.2.0",
      "model_name": "LayoutModel",
      "state": {}
     },
     "445f90f4d3de40cb874172bbb0b2c38d": {
      "model_module": "@jupyter-widgets/controls",
      "model_module_version": "1.5.0",
      "model_name": "TextModel",
      "state": {
       "continuous_update": false,
       "description": "name",
       "layout": "IPY_MODEL_3b4a50bb20de416aaf7650c47c84598b",
       "style": "IPY_MODEL_a986327c2f5f410491da6da14c2b9def",
       "value": "leafold"
      }
     },
     "446d0c4274894c3b975472f4d7fb6e63": {
      "model_module": "@jupyter-widgets/controls",
      "model_module_version": "1.5.0",
      "model_name": "ColorPickerModel",
      "state": {
       "description": "emission",
       "disabled": false,
       "layout": "IPY_MODEL_ea37aa48e5954c09acb575e2396d3c05",
       "style": "IPY_MODEL_53d7302061eb4c8dab94848618029115",
       "value": "#000000"
      }
     },
     "44ee20673cb54cb197bb19275c2ee931": {
      "model_module": "@jupyter-widgets/controls",
      "model_module_version": "1.5.0",
      "model_name": "DescriptionStyleModel",
      "state": {
       "description_width": ""
      }
     },
     "45109e056cae4646bd13589740cb2e07": {
      "model_module": "@jupyter-widgets/controls",
      "model_module_version": "1.5.0",
      "model_name": "ButtonModel",
      "state": {
       "description": "Add",
       "layout": "IPY_MODEL_fdd783e8cd6f4152908064599bd69390",
       "style": "IPY_MODEL_b4b34b837b2e417eb78863606b1d6e8d"
      }
     },
     "455df1ed61f5486cac7c517343725455": {
      "model_module": "@jupyter-widgets/controls",
      "model_module_version": "1.5.0",
      "model_name": "DescriptionStyleModel",
      "state": {
       "description_width": ""
      }
     },
     "455f8aeaffa441bf93d43f30ccfb8f01": {
      "model_module": "@jupyter-widgets/base",
      "model_module_version": "1.2.0",
      "model_name": "LayoutModel",
      "state": {}
     },
     "468860202d6c4c5cbdaf75ab248c2dfa": {
      "model_module": "@jupyter-widgets/base",
      "model_module_version": "1.2.0",
      "model_name": "LayoutModel",
      "state": {}
     },
     "4700fadcbf6740eeacfb5f4d5442bcc5": {
      "model_module": "@jupyter-widgets/controls",
      "model_module_version": "1.5.0",
      "model_name": "DescriptionStyleModel",
      "state": {
       "description_width": ""
      }
     },
     "4720179570ea4e868498362e539111b3": {
      "model_module": "@jupyter-widgets/controls",
      "model_module_version": "1.5.0",
      "model_name": "IntSliderModel",
      "state": {
       "description": "value",
       "layout": "IPY_MODEL_c737fed3f4b647319d521b5a01ed5013",
       "max": 10,
       "min": 1,
       "style": "IPY_MODEL_f6d0532b4d034ab5add8a942c8036f27",
       "value": 2
      }
     },
     "47c2ee699e6a4f7c83103495961650b0": {
      "model_module": "@jupyter-widgets/base",
      "model_module_version": "1.2.0",
      "model_name": "LayoutModel",
      "state": {}
     },
     "47c4dd25604a48a1b5557177fd515750": {
      "model_module": "@jupyter-widgets/base",
      "model_module_version": "1.2.0",
      "model_name": "LayoutModel",
      "state": {}
     },
     "47cab6d01e35497189f8f2866f69ad79": {
      "model_module": "@jupyter-widgets/base",
      "model_module_version": "1.2.0",
      "model_name": "LayoutModel",
      "state": {}
     },
     "4846a27e60cc441d93d5c535ffde0e6e": {
      "model_module": "@jupyter-widgets/controls",
      "model_module_version": "1.5.0",
      "model_name": "HBoxModel",
      "state": {
       "children": [
        "IPY_MODEL_6afde54ff02642b099358c5671f1b873",
        "IPY_MODEL_cd1d503025f94455898cda591460f5da"
       ],
       "layout": "IPY_MODEL_dae8d0d2b5a24ba3a4caef5ae026ea60"
      }
     },
     "48a9dc8b95d14018a1273a4583c91c32": {
      "model_module": "@jupyter-widgets/base",
      "model_module_version": "1.2.0",
      "model_name": "LayoutModel",
      "state": {}
     },
     "48b02d61921140799c9d50de4e6abab8": {
      "model_module": "@jupyter-widgets/controls",
      "model_module_version": "1.5.0",
      "model_name": "HBoxModel",
      "state": {
       "children": [
        "IPY_MODEL_9f1b252d842443fc95ac8e7e4f03c95a",
        "IPY_MODEL_d1e4b02c15bb44948c22e7d933636530"
       ],
       "layout": "IPY_MODEL_56e10c5df99d4496a1c8da99197f9358"
      }
     },
     "4928061e04e84f6ea5f8e22041842c65": {
      "model_module": "@jupyter-widgets/controls",
      "model_module_version": "1.5.0",
      "model_name": "FloatSliderModel",
      "state": {
       "description": "diffuse",
       "layout": "IPY_MODEL_9d3e8bfa637b4501a40010eae48c2c9e",
       "max": 3,
       "step": 0.1,
       "style": "IPY_MODEL_f223c7d886294225be0b4cb6d842a989",
       "value": 1
      }
     },
     "4933c3be1ca74d3b87e7deac4ab3fa84": {
      "model_module": "@jupyter-widgets/controls",
      "model_module_version": "1.5.0",
      "model_name": "TextModel",
      "state": {
       "continuous_update": false,
       "description": "name",
       "layout": "IPY_MODEL_998772480aac452387c45481c4a8859d",
       "style": "IPY_MODEL_2b2537aec03a486682b37fa201430b15",
       "value": "leafduration"
      }
     },
     "49abdf9d78524715a97cc756c7cc26ee": {
      "model_module": "@jupyter-widgets/controls",
      "model_module_version": "1.5.0",
      "model_name": "ButtonStyleModel",
      "state": {}
     },
     "49c13f7f61b74fdeb6c2e02c3d02da5a": {
      "model_module": "@jupyter-widgets/controls",
      "model_module_version": "1.5.0",
      "model_name": "HBoxModel",
      "state": {
       "children": [
        "IPY_MODEL_e8a23a012cbf4853a330e912e3cad92f",
        "IPY_MODEL_9d1c471f6aa5499386c9cee5a496cdfc",
        "IPY_MODEL_221397e9ebd543a29b72321488035216"
       ],
       "layout": "IPY_MODEL_7d638b1bb84145df842f1629b3b977bb"
      }
     },
     "49d68010fc084f1ebd5a1e73fb6c31af": {
      "model_module": "pgljupyter",
      "model_module_version": "^0.1.17",
      "model_name": "MaterialEditorModel",
      "state": {
       "_model_module_version": "^0.1.17",
       "_view_module_version": "^0.1.17",
       "children": [
        "IPY_MODEL_d1f553a8e0e14ca8939fd7facfe7bdd0",
        "IPY_MODEL_b483a839a4094147ab01f3c7d19bb1ac",
        "IPY_MODEL_9991cdc311734263a5179071275bff7c",
        "IPY_MODEL_06da4c288f8b48efae9708615015dd07",
        "IPY_MODEL_4928061e04e84f6ea5f8e22041842c65",
        "IPY_MODEL_67461a76be584a8b8d2fa4e2f8aa7d24",
        "IPY_MODEL_5728fafc0bd4433f81791185f2f8a527"
       ],
       "layout": "IPY_MODEL_3b280508434144bfb2cc499f02a544f3"
      }
     },
     "4a48e3b56b974227bcbb4111eb32acbb": {
      "model_module": "@jupyter-widgets/controls",
      "model_module_version": "1.5.0",
      "model_name": "SliderStyleModel",
      "state": {
       "description_width": ""
      }
     },
     "4b847adc42dd44cc8851741209771151": {
      "model_module": "@jupyter-widgets/base",
      "model_module_version": "1.2.0",
      "model_name": "LayoutModel",
      "state": {}
     },
     "4ba98a3088f249428269655303174413": {
      "model_module": "@jupyter-widgets/base",
      "model_module_version": "1.2.0",
      "model_name": "LayoutModel",
      "state": {}
     },
     "4be4fe9b98574f5e94986b02b8c225cb": {
      "model_module": "@jupyter-widgets/base",
      "model_module_version": "1.2.0",
      "model_name": "LayoutModel",
      "state": {}
     },
     "4c59ca8cf18245f5a14540938a82f127": {
      "model_module": "@jupyter-widgets/controls",
      "model_module_version": "1.5.0",
      "model_name": "HBoxModel",
      "state": {
       "children": [
        "IPY_MODEL_fcdb0e54646c4bbbb1485f7cb42b4bbc",
        "IPY_MODEL_b3beeeb252564f9193c765e7fe7136a4"
       ],
       "layout": "IPY_MODEL_a0c58eb759874d7aabec070d0f8f4e28"
      }
     },
     "4c6828d30e454b219dd59636daba61a2": {
      "model_module": "@jupyter-widgets/controls",
      "model_module_version": "1.5.0",
      "model_name": "FloatSliderModel",
      "state": {
       "description": "diffuse",
       "layout": "IPY_MODEL_29ada92f78534b5a8245a40f76bd758a",
       "max": 3,
       "step": 0.1,
       "style": "IPY_MODEL_5030d93db7d84db8beba5be10c0fdb22",
       "value": 1
      }
     },
     "4ee93253ee1e4f019df07258a39d8b47": {
      "model_module": "@jupyter-widgets/controls",
      "model_module_version": "1.5.0",
      "model_name": "HBoxModel",
      "state": {
       "children": [
        "IPY_MODEL_421e1166bf044e938a7c55bfb05fe175"
       ],
       "layout": "IPY_MODEL_f7ff34c66d4b431c8d7a458913ac23de"
      }
     },
     "4f04e84e06f04f2187ac0562bd5d7982": {
      "model_module": "@jupyter-widgets/base",
      "model_module_version": "1.2.0",
      "model_name": "LayoutModel",
      "state": {
       "margin": "20px 0px"
      }
     },
     "4f4c3d6a0c30403289cf9f2587fca3e3": {
      "model_module": "pgljupyter",
      "model_module_version": "^0.1.17",
      "model_name": "ParameterEditorModel",
      "state": {
       "_model_module_version": "^0.1.17",
       "_view_module_version": "^0.1.17",
       "children": [
        "IPY_MODEL_56ca9cfe6576423da575a7edfbeda8a1"
       ],
       "layout": "IPY_MODEL_70f57e2c0344454288ed8ac17019df5e"
      }
     },
     "4f77c9429d614340bdb8d72a7fb65751": {
      "model_module": "pgljupyter",
      "model_module_version": "^0.1.16",
      "model_name": "LsystemWidgetModel",
      "state": {
       "_model_module_version": "^0.1.16",
       "_view_module_version": "^0.1.16",
       "axes_helper": false,
       "derivationLength": 41,
       "layout": "IPY_MODEL_44131773a2c94fe0b4f6cf36799a8fd5",
       "light_helper": false,
       "plane": true,
       "size_display": [
        400,
        400
       ],
       "size_world": 50
      }
     },
     "4fbf2b45694848a9aa03aadb8fb5d86c": {
      "model_module": "@jupyter-widgets/base",
      "model_module_version": "1.2.0",
      "model_name": "LayoutModel",
      "state": {}
     },
     "5030d93db7d84db8beba5be10c0fdb22": {
      "model_module": "@jupyter-widgets/controls",
      "model_module_version": "1.5.0",
      "model_name": "SliderStyleModel",
      "state": {
       "description_width": ""
      }
     },
     "50c897762f9846d38e9f8e2de2d19de2": {
      "model_module": "@jupyter-widgets/controls",
      "model_module_version": "1.5.0",
      "model_name": "VBoxModel",
      "state": {
       "children": [
        "IPY_MODEL_1d1c9cc08a664ea3b55b7a47fcfdc251",
        "IPY_MODEL_2f0afcc5db404c0c9baabdd8288c7f23"
       ],
       "layout": "IPY_MODEL_8df2887e514042d1ac28d987a7d3f39d"
      }
     },
     "510489c076f34b2bb4ed405c0bd2e184": {
      "model_module": "@jupyter-widgets/controls",
      "model_module_version": "1.5.0",
      "model_name": "ButtonStyleModel",
      "state": {}
     },
     "5151e6200d794a008b1bd7d40fbc162c": {
      "model_module": "@jupyter-widgets/controls",
      "model_module_version": "1.5.0",
      "model_name": "TextModel",
      "state": {
       "continuous_update": false,
       "description": "name",
       "layout": "IPY_MODEL_3bc82dbd12c54e549771ee3d9cd55b1d",
       "style": "IPY_MODEL_e2959aa92f7d44c2a5d6d06683c7f898",
       "value": "leafduration"
      }
     },
     "51deaef56dce430dae6fc3f320f5ae3e": {
      "model_module": "@jupyter-widgets/controls",
      "model_module_version": "1.5.0",
      "model_name": "BoundedIntTextModel",
      "state": {
       "description": "index",
       "layout": "IPY_MODEL_dd0076f5130e4b019ecac08f8ecf14e6",
       "style": "IPY_MODEL_54b4b06b01a146878a34d785819acd4e",
       "value": 3
      }
     },
     "526eb050a3ef4576aa3195631f16da0b": {
      "model_module": "@jupyter-widgets/controls",
      "model_module_version": "1.5.0",
      "model_name": "TextModel",
      "state": {
       "continuous_update": false,
       "description": "name",
       "layout": "IPY_MODEL_abb8dd22248e47baa61d0443c5c01957",
       "style": "IPY_MODEL_37056445934e4abba973138c48789f20",
       "value": "leafold"
      }
     },
     "529e918b5e134ca5a4af51bf8651b987": {
      "model_module": "@jupyter-widgets/controls",
      "model_module_version": "1.5.0",
      "model_name": "DropdownModel",
      "state": {
       "index": null,
       "layout": "IPY_MODEL_d8b7d3f852be4323a7cb38d583268863",
       "style": "IPY_MODEL_2b0ed78f41644859a87787f1255e1b81"
      }
     },
     "530074057fcd4130a243bde3a073669b": {
      "model_module": "@jupyter-widgets/base",
      "model_module_version": "1.2.0",
      "model_name": "LayoutModel",
      "state": {}
     },
     "536987696dc742f1b1bc51ca8d040a1d": {
      "model_module": "@jupyter-widgets/controls",
      "model_module_version": "1.5.0",
      "model_name": "FloatSliderModel",
      "state": {
       "description": "shininess",
       "layout": "IPY_MODEL_209c033af72d44e3a0b13ab8001e5335",
       "max": 1,
       "step": 0.1,
       "style": "IPY_MODEL_94dd3b9fa9fc40afbb444d490ee4bac3",
       "value": 0.2
      }
     },
     "537f1d906667422699e2fce4b5f31496": {
      "model_module": "@jupyter-widgets/controls",
      "model_module_version": "1.5.0",
      "model_name": "DescriptionStyleModel",
      "state": {
       "description_width": ""
      }
     },
     "539f9d1af9924f4db2438bbbeeb51b54": {
      "model_module": "@jupyter-widgets/base",
      "model_module_version": "1.2.0",
      "model_name": "LayoutModel",
      "state": {}
     },
     "53d7302061eb4c8dab94848618029115": {
      "model_module": "@jupyter-widgets/controls",
      "model_module_version": "1.5.0",
      "model_name": "DescriptionStyleModel",
      "state": {
       "description_width": ""
      }
     },
     "5404c74b739a4b1f9611340837468322": {
      "model_module": "@jupyter-widgets/base",
      "model_module_version": "1.2.0",
      "model_name": "LayoutModel",
      "state": {}
     },
     "5493e679c57d4a0689415a4a88aea275": {
      "model_module": "@jupyter-widgets/controls",
      "model_module_version": "1.5.0",
      "model_name": "SliderStyleModel",
      "state": {
       "description_width": ""
      }
     },
     "54afde6385054afa854c63b78d32c519": {
      "model_module": "@jupyter-widgets/controls",
      "model_module_version": "1.5.0",
      "model_name": "ButtonStyleModel",
      "state": {}
     },
     "54b4b06b01a146878a34d785819acd4e": {
      "model_module": "@jupyter-widgets/controls",
      "model_module_version": "1.5.0",
      "model_name": "DescriptionStyleModel",
      "state": {
       "description_width": ""
      }
     },
     "5532c2cdd5f24b1ebfeff4de061e7901": {
      "model_module": "@jupyter-widgets/base",
      "model_module_version": "1.2.0",
      "model_name": "LayoutModel",
      "state": {}
     },
     "553432c4114a47d4a9edc9bea81bf73d": {
      "model_module": "@jupyter-widgets/controls",
      "model_module_version": "1.5.0",
      "model_name": "ButtonModel",
      "state": {
       "description": "Apply changes",
       "layout": "IPY_MODEL_f3ecc66415384a3b93c8afe5ca93b8f6",
       "style": "IPY_MODEL_c7f7b7c639f04c7a812a812bc95f2f4a"
      }
     },
     "55370126029743f4b725a902460e704f": {
      "model_module": "@jupyter-widgets/base",
      "model_module_version": "1.2.0",
      "model_name": "LayoutModel",
      "state": {}
     },
     "554ebc2fe70b441697fdba4d2a6f87c0": {
      "model_module": "@jupyter-widgets/base",
      "model_module_version": "1.2.0",
      "model_name": "LayoutModel",
      "state": {}
     },
     "557b13d22d9c4523aede128ecebc8ac7": {
      "model_module": "@jupyter-widgets/controls",
      "model_module_version": "1.5.0",
      "model_name": "ButtonStyleModel",
      "state": {}
     },
     "55f0f039861f4c7cb7fc94899c53e0f6": {
      "model_module": "@jupyter-widgets/controls",
      "model_module_version": "1.5.0",
      "model_name": "TextModel",
      "state": {
       "continuous_update": false,
       "description": "name",
       "layout": "IPY_MODEL_ff9430da97704faca4a5581d596a9844",
       "style": "IPY_MODEL_f2ce19fc1a01412bb35dc2f4381a068b",
       "value": "radinc"
      }
     },
     "5683515fa2d0458db36f542630cf452a": {
      "model_module": "@jupyter-widgets/base",
      "model_module_version": "1.2.0",
      "model_name": "LayoutModel",
      "state": {}
     },
     "56b19567ca7740f28a2059eaf32f3238": {
      "model_module": "pgljupyter",
      "model_module_version": "^0.1.17",
      "model_name": "LsystemWidgetModel",
      "state": {
       "_model_module_version": "^0.1.17",
       "_view_module_version": "^0.1.17",
       "axes_helper": false,
       "derivationLength": 42,
       "layout": "IPY_MODEL_62f06f01a47f4f6c8c42d71dcba612c6",
       "light_helper": false,
       "plane": true,
       "size_display": [
        400,
        400
       ],
       "size_world": 50
      }
     },
     "56ca9cfe6576423da575a7edfbeda8a1": {
      "model_module": "@jupyter-widgets/controls",
      "model_module_version": "1.5.0",
      "model_name": "VBoxModel",
      "state": {
       "children": [
        "IPY_MODEL_aa34cffd296144adbb84e44628679faa",
        "IPY_MODEL_59e73575073a4d21bccbb7110cf6091a"
       ],
       "layout": "IPY_MODEL_926c57076840440cba5b8c4fd41d9d43"
      }
     },
     "56e10c5df99d4496a1c8da99197f9358": {
      "model_module": "@jupyter-widgets/base",
      "model_module_version": "1.2.0",
      "model_name": "LayoutModel",
      "state": {}
     },
     "5728fafc0bd4433f81791185f2f8a527": {
      "model_module": "@jupyter-widgets/controls",
      "model_module_version": "1.5.0",
      "model_name": "FloatSliderModel",
      "state": {
       "description": "shininess",
       "layout": "IPY_MODEL_55370126029743f4b725a902460e704f",
       "max": 1,
       "step": 0.1,
       "style": "IPY_MODEL_c0bb2a0d577641b58e46f24746ba8a03",
       "value": 0.2
      }
     },
     "5872ea4882c74993af9862d9a8bfcb9f": {
      "model_module": "@jupyter-widgets/controls",
      "model_module_version": "1.5.0",
      "model_name": "HBoxModel",
      "state": {
       "children": [
        "IPY_MODEL_153641213cab4e3888f2df8ffe4df5e6"
       ],
       "layout": "IPY_MODEL_0edf0711fcd443488bc2bd1811f52c38"
      }
     },
     "58b01411a162470783fbaaa91028104c": {
      "model_module": "@jupyter-widgets/controls",
      "model_module_version": "1.5.0",
      "model_name": "HBoxModel",
      "state": {
       "children": [
        "IPY_MODEL_1e5af16da1b3427d83bc2e4cf9a49852",
        "IPY_MODEL_529e918b5e134ca5a4af51bf8651b987"
       ],
       "layout": "IPY_MODEL_233d83e71b4344838e3144dcacea3eeb"
      }
     },
     "58b736cae95a4a3f97d710efaa4148bb": {
      "model_module": "@jupyter-widgets/controls",
      "model_module_version": "1.5.0",
      "model_name": "DescriptionStyleModel",
      "state": {
       "description_width": ""
      }
     },
     "5952c0e964b14034832f8d689c94cd56": {
      "model_module": "@jupyter-widgets/controls",
      "model_module_version": "1.5.0",
      "model_name": "DescriptionStyleModel",
      "state": {
       "description_width": ""
      }
     },
     "5952ccf95fff4114ac955e73f1021bc8": {
      "model_module": "@jupyter-widgets/base",
      "model_module_version": "1.2.0",
      "model_name": "LayoutModel",
      "state": {}
     },
     "59e73575073a4d21bccbb7110cf6091a": {
      "model_module": "@jupyter-widgets/controls",
      "model_module_version": "1.5.0",
      "model_name": "TabModel",
      "state": {
       "_titles": {
        "0": "leuwenberg.json"
       },
       "children": [
        "IPY_MODEL_0300001a45404b209a36c5be9117a9b4"
       ],
       "layout": "IPY_MODEL_5f1c7016d47f4e318a32653fe7356e2b"
      }
     },
     "59f8c5abaa8146ce8df8fc46c0f10acb": {
      "model_module": "@jupyter-widgets/controls",
      "model_module_version": "1.5.0",
      "model_name": "FloatSliderModel",
      "state": {
       "description": "transparency",
       "layout": "IPY_MODEL_abee62d144eb46f6a0854e2c779344fc",
       "max": 1,
       "step": 0.1,
       "style": "IPY_MODEL_61c5a99dc07f47fdb21721b1b101776a"
      }
     },
     "5a7768daa7114d36b770ea435fe36cec": {
      "model_module": "@jupyter-widgets/base",
      "model_module_version": "1.2.0",
      "model_name": "LayoutModel",
      "state": {
       "flex_flow": "row wrap",
       "margin": "20px"
      }
     },
     "5a9efa5a617d42df8d7bb8d365c3e0a8": {
      "model_module": "@jupyter-widgets/base",
      "model_module_version": "1.2.0",
      "model_name": "LayoutModel",
      "state": {
       "margin": "20px 0px"
      }
     },
     "5adffba729714082b4c0b93187c64244": {
      "model_module": "@jupyter-widgets/controls",
      "model_module_version": "1.5.0",
      "model_name": "HBoxModel",
      "state": {
       "children": [
        "IPY_MODEL_a74641fad73f460aaf67830e96175f14",
        "IPY_MODEL_af04d4dbb9ee467196d914b3d6ff7677"
       ],
       "layout": "IPY_MODEL_39084374a571435e824d7618f816aad4"
      }
     },
     "5b06ffa55f8c4305b3bf43c5d33fe5f6": {
      "model_module": "@jupyter-widgets/controls",
      "model_module_version": "1.5.0",
      "model_name": "DescriptionStyleModel",
      "state": {
       "description_width": ""
      }
     },
     "5b5cffc519364c9fbd2a8e2332a75c62": {
      "model_module": "@jupyter-widgets/base",
      "model_module_version": "1.2.0",
      "model_name": "LayoutModel",
      "state": {}
     },
     "5bfb433518c246f4a7cd7249ff19b64e": {
      "model_module": "@jupyter-widgets/controls",
      "model_module_version": "1.5.0",
      "model_name": "IntSliderModel",
      "state": {
       "description": "value",
       "layout": "IPY_MODEL_f8e8217ad4ff42db874a2be04d88d09c",
       "max": 7,
       "min": 1,
       "style": "IPY_MODEL_13acdf1ccc5a4999af0676c08d452094",
       "value": 3
      }
     },
     "5c020f6de4b0494db643bad3b0644d25": {
      "model_module": "@jupyter-widgets/controls",
      "model_module_version": "1.5.0",
      "model_name": "SliderStyleModel",
      "state": {
       "description_width": ""
      }
     },
     "5c2170886bb84b0fb0345314e6a3925d": {
      "model_module": "@jupyter-widgets/base",
      "model_module_version": "1.2.0",
      "model_name": "LayoutModel",
      "state": {}
     },
     "5c45b8f207094c259218686f4e90aff4": {
      "model_module": "@jupyter-widgets/controls",
      "model_module_version": "1.5.0",
      "model_name": "DescriptionStyleModel",
      "state": {
       "description_width": ""
      }
     },
     "5c7ea0ef330d498b91b01ff20701afc6": {
      "model_module": "@jupyter-widgets/controls",
      "model_module_version": "1.5.0",
      "model_name": "AccordionModel",
      "state": {
       "_titles": {
        "0": "materials",
        "1": "leaf"
       },
       "children": [
        "IPY_MODEL_35de142236d6430682387800cc229756",
        "IPY_MODEL_f6877ba37bef4c718f9ad54a1dee9c7e"
       ],
       "layout": "IPY_MODEL_48a9dc8b95d14018a1273a4583c91c32"
      }
     },
     "5ccfe2f5d1bc472faf8aa7f50bf0ab1d": {
      "model_module": "pgljupyter",
      "model_module_version": "^0.1.17",
      "model_name": "MaterialEditorModel",
      "state": {
       "_model_module_version": "^0.1.17",
       "_view_module_version": "^0.1.17",
       "children": [
        "IPY_MODEL_fe39b8c3b9064292a4c361b7263a6c84",
        "IPY_MODEL_9d4b9a9b3979406d872e9b0718717eb7",
        "IPY_MODEL_38af2c3340fa4dccbe1fe87f084d021e",
        "IPY_MODEL_077c655a00ab41bb91239523d5e0bf21",
        "IPY_MODEL_9a9dd7b9393e473ab51a5616b57ee709",
        "IPY_MODEL_5e1cd39cfa88428c865ac3fe8ce37706",
        "IPY_MODEL_7b56ea7a659047479a11f64be222d2ea"
       ],
       "layout": "IPY_MODEL_5a9efa5a617d42df8d7bb8d365c3e0a8"
      }
     },
     "5d1acbde1263434ca0516af8b1e818ec": {
      "model_module": "@jupyter-widgets/controls",
      "model_module_version": "1.5.0",
      "model_name": "FloatSliderModel",
      "state": {
       "description": "transparency",
       "layout": "IPY_MODEL_9e9532d3f9264d848c9671d25e59429b",
       "max": 1,
       "step": 0.1,
       "style": "IPY_MODEL_09ab73e88d6a48cf971284095d2d93ee"
      }
     },
     "5d416a34f993487a93cb14b0054ea4ea": {
      "model_module": "@jupyter-widgets/base",
      "model_module_version": "1.2.0",
      "model_name": "LayoutModel",
      "state": {}
     },
     "5d56f12735114a72b59aee0792d5ab99": {
      "model_module": "@jupyter-widgets/controls",
      "model_module_version": "1.5.0",
      "model_name": "SliderStyleModel",
      "state": {
       "description_width": ""
      }
     },
     "5d6b91526f5c4f069888276c86e31117": {
      "model_module": "@jupyter-widgets/base",
      "model_module_version": "1.2.0",
      "model_name": "LayoutModel",
      "state": {}
     },
     "5e1cd39cfa88428c865ac3fe8ce37706": {
      "model_module": "@jupyter-widgets/controls",
      "model_module_version": "1.5.0",
      "model_name": "FloatSliderModel",
      "state": {
       "description": "transparency",
       "layout": "IPY_MODEL_d436543783c8447f81f559995965920f",
       "max": 1,
       "step": 0.1,
       "style": "IPY_MODEL_e6ea0f1df0864495a18ce55e8ee48a88"
      }
     },
     "5e82b30d25f94292a4d76ae8c23684da": {
      "model_module": "@jupyter-widgets/controls",
      "model_module_version": "1.5.0",
      "model_name": "DescriptionStyleModel",
      "state": {
       "description_width": ""
      }
     },
     "5e9c1818473b44dab49b3d26bf241c9d": {
      "model_module": "@jupyter-widgets/controls",
      "model_module_version": "1.5.0",
      "model_name": "DescriptionStyleModel",
      "state": {
       "description_width": ""
      }
     },
     "5ef60586f6624e7a921466efb2d8a645": {
      "model_module": "@jupyter-widgets/controls",
      "model_module_version": "1.5.0",
      "model_name": "DescriptionStyleModel",
      "state": {
       "description_width": ""
      }
     },
     "5f0d4143620941798573a504d9e748b1": {
      "model_module": "@jupyter-widgets/base",
      "model_module_version": "1.2.0",
      "model_name": "LayoutModel",
      "state": {}
     },
     "5f1c7016d47f4e318a32653fe7356e2b": {
      "model_module": "@jupyter-widgets/base",
      "model_module_version": "1.2.0",
      "model_name": "LayoutModel",
      "state": {}
     },
     "5f35732199e94b7981ff948790caec12": {
      "model_module": "@jupyter-widgets/controls",
      "model_module_version": "1.5.0",
      "model_name": "DescriptionStyleModel",
      "state": {
       "description_width": ""
      }
     },
     "5f766dc4cb8647509fa135a5358aaab0": {
      "model_module": "@jupyter-widgets/base",
      "model_module_version": "1.2.0",
      "model_name": "LayoutModel",
      "state": {}
     },
     "5fe590f048484a3ba28067befd41b28a": {
      "model_module": "@jupyter-widgets/controls",
      "model_module_version": "1.5.0",
      "model_name": "TextModel",
      "state": {
       "continuous_update": false,
       "description": "name",
       "layout": "IPY_MODEL_406538f49d474b288e16fda7dd512c69",
       "style": "IPY_MODEL_40ccbdcf094944daacad40f2478bd3f3",
       "value": "color_2"
      }
     },
     "604d1a618d0d48e8ba8e49ac54668dfb": {
      "model_module": "@jupyter-widgets/controls",
      "model_module_version": "1.5.0",
      "model_name": "DescriptionStyleModel",
      "state": {
       "description_width": ""
      }
     },
     "60649db2aa41400c8d032bf13c68e453": {
      "model_module": "@jupyter-widgets/base",
      "model_module_version": "1.2.0",
      "model_name": "LayoutModel",
      "state": {}
     },
     "613b92ffca5244b6a9fe92b6eac0bfb3": {
      "model_module": "@jupyter-widgets/controls",
      "model_module_version": "1.5.0",
      "model_name": "ColorPickerModel",
      "state": {
       "description": "ambient",
       "disabled": false,
       "layout": "IPY_MODEL_fd50b55e03484806aa3cae2a2541a1d3",
       "style": "IPY_MODEL_fe77130544c74fea9c083f6b668bcfaf",
       "value": "#e1a014"
      }
     },
     "61604db4d90b46a3a0031ae5119c1516": {
      "model_module": "@jupyter-widgets/controls",
      "model_module_version": "1.5.0",
      "model_name": "DescriptionStyleModel",
      "state": {
       "description_width": ""
      }
     },
     "619d054879f142ab8a22cb911c74fa09": {
      "model_module": "@jupyter-widgets/base",
      "model_module_version": "1.2.0",
      "model_name": "LayoutModel",
      "state": {}
     },
     "61c5a99dc07f47fdb21721b1b101776a": {
      "model_module": "@jupyter-widgets/controls",
      "model_module_version": "1.5.0",
      "model_name": "SliderStyleModel",
      "state": {
       "description_width": ""
      }
     },
     "6213afc08dc747abb3101b3b00eff81e": {
      "model_module": "@jupyter-widgets/base",
      "model_module_version": "1.2.0",
      "model_name": "LayoutModel",
      "state": {
       "margin": "20px 0px"
      }
     },
     "62252cd6e6f64fb7aa4f68ce3e71f4b1": {
      "model_module": "pgljupyter",
      "model_module_version": "^0.1.17",
      "model_name": "MaterialEditorModel",
      "state": {
       "_model_module_version": "^0.1.17",
       "_view_module_version": "^0.1.17",
       "children": [
        "IPY_MODEL_51deaef56dce430dae6fc3f320f5ae3e",
        "IPY_MODEL_ed878756b8fb401389ecaf5b518387e3",
        "IPY_MODEL_a05c2a0fc34b4dfe85701e30e5a55732",
        "IPY_MODEL_13b719143ac7434582f81b16c18d6b4e",
        "IPY_MODEL_41374977018a4cc590e2913add7f287a",
        "IPY_MODEL_a2eafcfa36b44a6ba3e34657e64cec7a",
        "IPY_MODEL_bf0625eebb3744fc8cc55567e985236f"
       ],
       "layout": "IPY_MODEL_fd273ce6761742148ac89669bc64d98d"
      }
     },
     "625a97aef55748c189e2a6b3c1b5e67d": {
      "model_module": "@jupyter-widgets/base",
      "model_module_version": "1.2.0",
      "model_name": "LayoutModel",
      "state": {}
     },
     "62867ab47038465d8944dcad2437cbc9": {
      "model_module": "@jupyter-widgets/base",
      "model_module_version": "1.2.0",
      "model_name": "LayoutModel",
      "state": {}
     },
     "62b5bc6403144408b19fd4a789c19c72": {
      "model_module": "@jupyter-widgets/controls",
      "model_module_version": "1.5.0",
      "model_name": "ColorPickerModel",
      "state": {
       "description": "specular",
       "disabled": false,
       "layout": "IPY_MODEL_76fa5974fc594088898aeca9c0523cbd",
       "style": "IPY_MODEL_ffd47b6cfe404097909f5f4870a7fc67",
       "value": "#282828"
      }
     },
     "62f06f01a47f4f6c8c42d71dcba612c6": {
      "model_module": "@jupyter-widgets/base",
      "model_module_version": "1.2.0",
      "model_name": "LayoutModel",
      "state": {}
     },
     "6313452555004e3e8cd4af4b429d6c81": {
      "model_module": "@jupyter-widgets/controls",
      "model_module_version": "1.5.0",
      "model_name": "SliderStyleModel",
      "state": {
       "description_width": ""
      }
     },
     "6322774f3a5e4d0cad43bc9ac0f77d3f": {
      "model_module": "@jupyter-widgets/controls",
      "model_module_version": "1.5.0",
      "model_name": "HBoxModel",
      "state": {
       "children": [
        "IPY_MODEL_ddc34eb399b046ce9c7bbcc7bcce04e5",
        "IPY_MODEL_f147ffdfc6994c26b4177e9b873ebcc9",
        "IPY_MODEL_cca2bc234f7546b6ab053ec14a62865d",
        "IPY_MODEL_bcb9c01e8d5e4ef6a75414069738d87f",
        "IPY_MODEL_3c9570eda3684eab96511e129bb5cee0"
       ],
       "layout": "IPY_MODEL_8d56c586bca3464d8c5cb36ae761ba46"
      }
     },
     "63354b64c5c6445686dd6064588bcd06": {
      "model_module": "@jupyter-widgets/base",
      "model_module_version": "1.2.0",
      "model_name": "LayoutModel",
      "state": {}
     },
     "63ec99422d324062aa029ae26fb392cf": {
      "model_module": "@jupyter-widgets/controls",
      "model_module_version": "1.5.0",
      "model_name": "TextModel",
      "state": {
       "continuous_update": false,
       "description": "name",
       "layout": "IPY_MODEL_5683515fa2d0458db36f542630cf452a",
       "style": "IPY_MODEL_e29b2ad0e6b8400997e87c1b714baead",
       "value": "color_4"
      }
     },
     "64635876704d46df8e253b2d4cefa598": {
      "model_module": "@jupyter-widgets/base",
      "model_module_version": "1.2.0",
      "model_name": "LayoutModel",
      "state": {}
     },
     "64ddded86cc94f2aaa65c66efd8404cd": {
      "model_module": "@jupyter-widgets/controls",
      "model_module_version": "1.5.0",
      "model_name": "HBoxModel",
      "state": {
       "children": [
        "IPY_MODEL_ec0d311430274174ad6f8002cc5ab013",
        "IPY_MODEL_c0a048ed609e4aceb6a259def78278e2"
       ],
       "layout": "IPY_MODEL_b64a0b633c4c488bb06c6634159a6227"
      }
     },
     "64f0f3be71ea49f6b0bf5f7a3382814b": {
      "model_module": "@jupyter-widgets/controls",
      "model_module_version": "1.5.0",
      "model_name": "DescriptionStyleModel",
      "state": {
       "description_width": ""
      }
     },
     "64f9dc0574df4a11af6125d753e638a4": {
      "model_module": "@jupyter-widgets/base",
      "model_module_version": "1.2.0",
      "model_name": "LayoutModel",
      "state": {}
     },
     "65bee35e74e7441d98cbdeb5de6d8221": {
      "model_module": "@jupyter-widgets/base",
      "model_module_version": "1.2.0",
      "model_name": "LayoutModel",
      "state": {}
     },
     "66cfa3a226224323bc89e5cd0184f515": {
      "model_module": "@jupyter-widgets/base",
      "model_module_version": "1.2.0",
      "model_name": "LayoutModel",
      "state": {}
     },
     "66d7a1826e15429d8f8f2cf795ccb6c1": {
      "model_module": "@jupyter-widgets/base",
      "model_module_version": "1.2.0",
      "model_name": "LayoutModel",
      "state": {}
     },
     "67461a76be584a8b8d2fa4e2f8aa7d24": {
      "model_module": "@jupyter-widgets/controls",
      "model_module_version": "1.5.0",
      "model_name": "FloatSliderModel",
      "state": {
       "description": "transparency",
       "layout": "IPY_MODEL_b7fff26df0ad46bbaeeb12519d1a0352",
       "max": 1,
       "step": 0.1,
       "style": "IPY_MODEL_30d8f21dda4646f0acb3611afa8c89a6"
      }
     },
     "674ce701a99c4dd290082ac0ca4a9bf8": {
      "model_module": "@jupyter-widgets/controls",
      "model_module_version": "1.5.0",
      "model_name": "DescriptionStyleModel",
      "state": {
       "description_width": ""
      }
     },
     "677b6979d18a4369b43c7d2c7055d352": {
      "model_module": "@jupyter-widgets/controls",
      "model_module_version": "1.5.0",
      "model_name": "TextModel",
      "state": {
       "continuous_update": false,
       "description": "name",
       "layout": "IPY_MODEL_98277c35c08042f6a10536f9cec224a9",
       "style": "IPY_MODEL_83cb5d93b13c4d38906e44f6111942f3",
       "value": "color_4"
      }
     },
     "679a4e3dbf4340d084066a79f8c8540d": {
      "model_module": "@jupyter-widgets/controls",
      "model_module_version": "1.5.0",
      "model_name": "ButtonModel",
      "state": {
       "description": "Apply changes",
       "layout": "IPY_MODEL_d9ccb67aeb914dbebc9157bdfb5dc23d",
       "style": "IPY_MODEL_ef1d08148f6a452081c3eb7924ab9c8f"
      }
     },
     "67c7aedfc8f04a9bb8e92c4fbabb0fa3": {
      "model_module": "@jupyter-widgets/base",
      "model_module_version": "1.2.0",
      "model_name": "LayoutModel",
      "state": {}
     },
     "67f4e04d08034151b0a50c7edf65de73": {
      "model_module": "@jupyter-widgets/controls",
      "model_module_version": "1.5.0",
      "model_name": "SliderStyleModel",
      "state": {
       "description_width": ""
      }
     },
     "683514619a284a17be83f3e12928bc6a": {
      "model_module": "@jupyter-widgets/controls",
      "model_module_version": "1.5.0",
      "model_name": "IntSliderModel",
      "state": {
       "description": "value",
       "layout": "IPY_MODEL_ac6f0bb182d14b43a5412de39ac1d15a",
       "max": 10,
       "min": 1,
       "style": "IPY_MODEL_ce95b26aa02f45a485c1255eae9a21fa",
       "value": 5
      }
     },
     "6836f870173f481c896bba938c011cdd": {
      "model_module": "@jupyter-widgets/controls",
      "model_module_version": "1.5.0",
      "model_name": "TextModel",
      "state": {
       "continuous_update": false,
       "description": "name",
       "layout": "IPY_MODEL_8b24ac74c0944cd48267de6d5fe2be88",
       "style": "IPY_MODEL_1fc7b2d61c8248a78f6d173ef2c25c28",
       "value": "maxorder"
      }
     },
     "68be4ec169ab4ce9929d4231bbdfaad7": {
      "model_module": "@jupyter-widgets/controls",
      "model_module_version": "1.5.0",
      "model_name": "ButtonStyleModel",
      "state": {}
     },
     "694aa30345644ad9836c04cf3497349c": {
      "model_module": "@jupyter-widgets/base",
      "model_module_version": "1.2.0",
      "model_name": "LayoutModel",
      "state": {}
     },
     "69adca6b2b7d471ca668269a5c227e1f": {
      "model_module": "@jupyter-widgets/controls",
      "model_module_version": "1.5.0",
      "model_name": "DescriptionStyleModel",
      "state": {
       "description_width": ""
      }
     },
     "6a018a7ac45f43ed9fb495ac70a32468": {
      "model_module": "@jupyter-widgets/base",
      "model_module_version": "1.2.0",
      "model_name": "LayoutModel",
      "state": {}
     },
     "6a96352f36b9452bba44e1ee4b108426": {
      "model_module": "@jupyter-widgets/controls",
      "model_module_version": "1.5.0",
      "model_name": "SliderStyleModel",
      "state": {
       "description_width": ""
      }
     },
     "6af77e29019b4e689db91f5541c76b14": {
      "model_module": "@jupyter-widgets/controls",
      "model_module_version": "1.5.0",
      "model_name": "ColorPickerModel",
      "state": {
       "description": "emission",
       "disabled": false,
       "layout": "IPY_MODEL_055dec0cea5041829e855a22e1086bb8",
       "style": "IPY_MODEL_cec3e99efbcc48f4949ee3f961d09c72",
       "value": "#000000"
      }
     },
     "6afde54ff02642b099358c5671f1b873": {
      "model_module": "@jupyter-widgets/controls",
      "model_module_version": "1.5.0",
      "model_name": "ButtonModel",
      "state": {
       "description": "Add",
       "layout": "IPY_MODEL_21f3349a602545288f617c05af0e2a85",
       "style": "IPY_MODEL_510489c076f34b2bb4ed405c0bd2e184"
      }
     },
     "6b64f44ea36c41a0bce14ae865b76233": {
      "model_module": "@jupyter-widgets/controls",
      "model_module_version": "1.5.0",
      "model_name": "HBoxModel",
      "state": {
       "layout": "IPY_MODEL_5a7768daa7114d36b770ea435fe36cec"
      }
     },
     "6b7f50760bbe40128e53e8730548a7c5": {
      "model_module": "@jupyter-widgets/controls",
      "model_module_version": "1.5.0",
      "model_name": "TextModel",
      "state": {
       "continuous_update": false,
       "description": "name",
       "layout": "IPY_MODEL_2748b3bc98584be89e557777f606f30e",
       "style": "IPY_MODEL_5e82b30d25f94292a4d76ae8c23684da",
       "value": "color_3"
      }
     },
     "6b8f0820ce5e43c796130647fa6eec1e": {
      "model_module": "@jupyter-widgets/controls",
      "model_module_version": "1.5.0",
      "model_name": "ButtonStyleModel",
      "state": {}
     },
     "6baaf717d33f4125b9871fa60bac0a2f": {
      "model_module": "@jupyter-widgets/controls",
      "model_module_version": "1.5.0",
      "model_name": "TextModel",
      "state": {
       "continuous_update": false,
       "description": "name",
       "layout": "IPY_MODEL_dc6fe4ae93724ee697ccb6414fa8bd2b",
       "style": "IPY_MODEL_f8bb53ae98a6404eb9fbd8309f221e79",
       "value": "color_2"
      }
     },
     "6bbc88a5645f4f34bc382a3d79ab54d0": {
      "model_module": "@jupyter-widgets/controls",
      "model_module_version": "1.5.0",
      "model_name": "HBoxModel",
      "state": {
       "children": [
        "IPY_MODEL_b0fb1ac3eab4429faa1c3064bf965e64",
        "IPY_MODEL_13ef4f1f81a4430aa1f08839e278e50f"
       ],
       "layout": "IPY_MODEL_7e4f103663654092a3b6f3f18908d2a4"
      }
     },
     "6c062a627e074314b2c9f10cb62a60ff": {
      "model_module": "@jupyter-widgets/controls",
      "model_module_version": "1.5.0",
      "model_name": "DescriptionStyleModel",
      "state": {
       "description_width": ""
      }
     },
     "6c671f207c164abd949a12ac8032908b": {
      "model_module": "@jupyter-widgets/base",
      "model_module_version": "1.2.0",
      "model_name": "LayoutModel",
      "state": {}
     },
     "6cb02b695e9b429fb82b362a464e95d4": {
      "model_module": "@jupyter-widgets/base",
      "model_module_version": "1.2.0",
      "model_name": "LayoutModel",
      "state": {}
     },
     "6e149d6140aa4abca3c6a495c874087e": {
      "model_module": "@jupyter-widgets/controls",
      "model_module_version": "1.5.0",
      "model_name": "CheckboxModel",
      "state": {
       "description": "Auto apply",
       "disabled": false,
       "layout": "IPY_MODEL_2de7c371544e409a8f3f128430eeced9",
       "style": "IPY_MODEL_6c062a627e074314b2c9f10cb62a60ff",
       "value": false
      }
     },
     "6ec1cbd07a644f899b126df86b0690ab": {
      "model_module": "@jupyter-widgets/controls",
      "model_module_version": "1.5.0",
      "model_name": "SliderStyleModel",
      "state": {
       "description_width": ""
      }
     },
     "6f0a69f339134e55b948c90d45650703": {
      "model_module": "@jupyter-widgets/base",
      "model_module_version": "1.2.0",
      "model_name": "LayoutModel",
      "state": {}
     },
     "6f0f8070aff54befb01d59fb84b450b7": {
      "model_module": "@jupyter-widgets/controls",
      "model_module_version": "1.5.0",
      "model_name": "HBoxModel",
      "state": {
       "children": [
        "IPY_MODEL_d94927052fb046c4b476563ba1404936",
        "IPY_MODEL_bdd912ccd9594f2c93aaed30b1a57ee8"
       ],
       "layout": "IPY_MODEL_5404c74b739a4b1f9611340837468322"
      }
     },
     "6fd19ee64db44d74845df2372b542b69": {
      "model_module": "@jupyter-widgets/controls",
      "model_module_version": "1.5.0",
      "model_name": "ColorPickerModel",
      "state": {
       "description": "ambient",
       "disabled": false,
       "layout": "IPY_MODEL_dc9e29879357411bbba01c813ba6f9f4",
       "style": "IPY_MODEL_72a0a0e0aead47d2aa630983d0ff942c",
       "value": "#195717"
      }
     },
     "7015fbbda9c047b391aecaeef63cd104": {
      "model_module": "@jupyter-widgets/base",
      "model_module_version": "1.2.0",
      "model_name": "LayoutModel",
      "state": {}
     },
     "70cd0cda1a844c278ad4555f50d5490a": {
      "model_module": "@jupyter-widgets/controls",
      "model_module_version": "1.5.0",
      "model_name": "ButtonStyleModel",
      "state": {}
     },
     "70dda571646341ceb6f35058be924baf": {
      "model_module": "@jupyter-widgets/controls",
      "model_module_version": "1.5.0",
      "model_name": "ColorPickerModel",
      "state": {
       "description": "emission",
       "disabled": false,
       "layout": "IPY_MODEL_13642e1addcd465cbd7d516a101c2713",
       "style": "IPY_MODEL_b042067711c749ddbe44af8d0b266773",
       "value": "#000000"
      }
     },
     "70f57e2c0344454288ed8ac17019df5e": {
      "model_module": "@jupyter-widgets/base",
      "model_module_version": "1.2.0",
      "model_name": "LayoutModel",
      "state": {}
     },
     "715606022a044632ac89eb213623d18a": {
      "model_module": "@jupyter-widgets/controls",
      "model_module_version": "1.5.0",
      "model_name": "BoundedIntTextModel",
      "state": {
       "description": "step",
       "layout": "IPY_MODEL_5532c2cdd5f24b1ebfeff4de061e7901",
       "min": 1,
       "style": "IPY_MODEL_e41cb6704a0a4c06a028ae53e9f988ee",
       "value": 1
      }
     },
     "71bb87308f7f413585405d1a1df6ad8f": {
      "model_module": "@jupyter-widgets/controls",
      "model_module_version": "1.5.0",
      "model_name": "BoundedIntTextModel",
      "state": {
       "description": "step",
       "layout": "IPY_MODEL_d3b85fda8a3a4608a7bd96283095fedd",
       "min": 1,
       "style": "IPY_MODEL_5f35732199e94b7981ff948790caec12",
       "value": 1
      }
     },
     "71bc512b2098424d90eb915826bf82e4": {
      "model_module": "@jupyter-widgets/base",
      "model_module_version": "1.2.0",
      "model_name": "LayoutModel",
      "state": {}
     },
     "720602bd96314ddbb7e19314e2bb1ac7": {
      "model_module": "@jupyter-widgets/base",
      "model_module_version": "1.2.0",
      "model_name": "LayoutModel",
      "state": {}
     },
     "726ea6227a9140b58c2e2db0b3c05e1f": {
      "model_module": "@jupyter-widgets/base",
      "model_module_version": "1.2.0",
      "model_name": "LayoutModel",
      "state": {
       "margin": "20px 0px"
      }
     },
     "72a0a0e0aead47d2aa630983d0ff942c": {
      "model_module": "@jupyter-widgets/controls",
      "model_module_version": "1.5.0",
      "model_name": "DescriptionStyleModel",
      "state": {
       "description_width": ""
      }
     },
     "73496737da0c4b479a2e43c89062fdf3": {
      "model_module": "@jupyter-widgets/controls",
      "model_module_version": "1.5.0",
      "model_name": "AccordionModel",
      "state": {
       "_titles": {
        "0": "options",
        "1": "materials",
        "2": "leaf"
       },
       "children": [
        "IPY_MODEL_3036709698c94d53ac94124615b9612e",
        "IPY_MODEL_b8b9b3ffeaac416c9b974d5332062d10",
        "IPY_MODEL_353ddb1420fc4c4b98046d215b3a0a75"
       ],
       "layout": "IPY_MODEL_1b44d596a79d4717bb36340cb0ec6094"
      }
     },
     "741f71d31ee4432f826a1a5983faff8b": {
      "model_module": "pgljupyter",
      "model_module_version": "^0.1.16",
      "model_name": "FloatEditorModel",
      "state": {
       "_model_module_version": "^0.1.16",
       "_view_module_version": "^0.1.16",
       "children": [
        "IPY_MODEL_161390ba99e04b138bc28fa9c249c180",
        "IPY_MODEL_203480e9c215468ea9ab336c23360aec",
        "IPY_MODEL_f6bd143eb72a4021a9ee1d0db9b45016",
        "IPY_MODEL_436612109cc345eab450803b93d883e8",
        "IPY_MODEL_9d12e0ef939e4807b6d9a006fce2d523"
       ],
       "layout": "IPY_MODEL_b763b1260b354b23ae6671768bc4a076"
      }
     },
     "743b4d10e04e429daa73128e21f65475": {
      "model_module": "@jupyter-widgets/controls",
      "model_module_version": "1.5.0",
      "model_name": "BoundedIntTextModel",
      "state": {
       "description": "index",
       "layout": "IPY_MODEL_f3c024e88d6640b3b187291687dc790d",
       "style": "IPY_MODEL_2a3d358efbf34acb9c7a60be2b6f23ae",
       "value": 4
      }
     },
     "744795a86db044f098523c400f8e0b54": {
      "model_module": "@jupyter-widgets/controls",
      "model_module_version": "1.5.0",
      "model_name": "DropdownModel",
      "state": {
       "_options_labels": [
        "color_1",
        "color_2",
        "color_3",
        "color_4"
       ],
       "index": 0,
       "layout": "IPY_MODEL_b170506f70d34c96b69cc2e6cb10b936",
       "style": "IPY_MODEL_455df1ed61f5486cac7c517343725455"
      }
     },
     "74bb39c50046421c8cf174ea8b853142": {
      "model_module": "@jupyter-widgets/controls",
      "model_module_version": "1.5.0",
      "model_name": "HBoxModel",
      "state": {
       "layout": "IPY_MODEL_8d56c586bca3464d8c5cb36ae761ba46"
      }
     },
     "74dde666b12e4ccdbc62eb47f41ed106": {
      "model_module": "@jupyter-widgets/controls",
      "model_module_version": "1.5.0",
      "model_name": "DescriptionStyleModel",
      "state": {
       "description_width": ""
      }
     },
     "754a8ec29fb14d7087455060f4d25989": {
      "model_module": "@jupyter-widgets/controls",
      "model_module_version": "1.5.0",
      "model_name": "DescriptionStyleModel",
      "state": {
       "description_width": ""
      }
     },
     "7607d9a6764a4b5585e648fdb1289c55": {
      "model_module": "@jupyter-widgets/controls",
      "model_module_version": "1.5.0",
      "model_name": "HBoxModel",
      "state": {
       "children": [
        "IPY_MODEL_79313a604b5a4876b96188649d9844ed",
        "IPY_MODEL_8e07259218964759aa0e3756812d03d4",
        "IPY_MODEL_3e2965ac15734eacbe93346089045d2a",
        "IPY_MODEL_741f71d31ee4432f826a1a5983faff8b",
        "IPY_MODEL_26b2b92b694649c3b974782805831251"
       ],
       "layout": "IPY_MODEL_5a7768daa7114d36b770ea435fe36cec"
      }
     },
     "761fbbca71f145a5969c4290b8309933": {
      "model_module": "@jupyter-widgets/base",
      "model_module_version": "1.2.0",
      "model_name": "LayoutModel",
      "state": {
       "margin": "20px 0px"
      }
     },
     "767069b5239041d1a94bed85e955db0b": {
      "model_module": "@jupyter-widgets/controls",
      "model_module_version": "1.5.0",
      "model_name": "HBoxModel",
      "state": {
       "children": [
        "IPY_MODEL_2b91b62c30f74a2d80349a21cd49380b",
        "IPY_MODEL_f142e994cc534a86867a64e2eda8db55"
       ],
       "layout": "IPY_MODEL_7e4f103663654092a3b6f3f18908d2a4"
      }
     },
     "768416184c784ccc90f3432b6d9b15da": {
      "model_module": "@jupyter-widgets/controls",
      "model_module_version": "1.5.0",
      "model_name": "DescriptionStyleModel",
      "state": {
       "description_width": ""
      }
     },
     "7684bf627af64c99a1beb3e9c3800d93": {
      "model_module": "@jupyter-widgets/base",
      "model_module_version": "1.2.0",
      "model_name": "LayoutModel",
      "state": {}
     },
     "76962f026cd343edbb2be1f47b259f8e": {
      "model_module": "@jupyter-widgets/controls",
      "model_module_version": "1.5.0",
      "model_name": "DropdownModel",
      "state": {
       "_options_labels": [
        "color_1",
        "color_2",
        "color_3",
        "color_4"
       ],
       "index": 0,
       "layout": "IPY_MODEL_41cc1db02ba64e62b40ee9b19a788ac1",
       "style": "IPY_MODEL_164bcfa6695d41c4828175244e8404ae"
      }
     },
     "76fa5974fc594088898aeca9c0523cbd": {
      "model_module": "@jupyter-widgets/base",
      "model_module_version": "1.2.0",
      "model_name": "LayoutModel",
      "state": {}
     },
     "7740beb2c49f45218e9e7fa1fe1a8432": {
      "model_module": "@jupyter-widgets/base",
      "model_module_version": "1.2.0",
      "model_name": "LayoutModel",
      "state": {}
     },
     "7820f3eb666143e08c9689ceabf9f92e": {
      "model_module": "@jupyter-widgets/controls",
      "model_module_version": "1.5.0",
      "model_name": "ColorPickerModel",
      "state": {
       "description": "specular",
       "disabled": false,
       "layout": "IPY_MODEL_fb438b1cc1484336bb3533aa50de8e15",
       "style": "IPY_MODEL_38c72ff473424ad9bfe39cfda219b63e",
       "value": "#282828"
      }
     },
     "7844922bdc964f79876f85b1d4fdf8b4": {
      "model_module": "@jupyter-widgets/controls",
      "model_module_version": "1.5.0",
      "model_name": "DescriptionStyleModel",
      "state": {
       "description_width": ""
      }
     },
     "79313a604b5a4876b96188649d9844ed": {
      "model_module": "pgljupyter",
      "model_module_version": "^0.1.16",
      "model_name": "IntEditorModel",
      "state": {
       "_model_module_version": "^0.1.16",
       "_view_module_version": "^0.1.16",
       "children": [
        "IPY_MODEL_5151e6200d794a008b1bd7d40fbc162c",
        "IPY_MODEL_240b06896b1447a29608ee2c0041a5bc",
        "IPY_MODEL_cd863832ae4f4c2a9fb4238d4fe72b7d",
        "IPY_MODEL_b233f15e47474a7198fb26deae803dcc",
        "IPY_MODEL_b4f90847a77b4195b5dc4d2c29806c64"
       ],
       "layout": "IPY_MODEL_f41ebca09dd94958b840510087992ffe"
      }
     },
     "7b34d047a75145ef93c9d2ba934f66f1": {
      "model_module": "@jupyter-widgets/base",
      "model_module_version": "1.2.0",
      "model_name": "LayoutModel",
      "state": {}
     },
     "7b4693667f2d4338a8c79a9c6641cc55": {
      "model_module": "@jupyter-widgets/base",
      "model_module_version": "1.2.0",
      "model_name": "LayoutModel",
      "state": {}
     },
     "7b56ea7a659047479a11f64be222d2ea": {
      "model_module": "@jupyter-widgets/controls",
      "model_module_version": "1.5.0",
      "model_name": "FloatSliderModel",
      "state": {
       "description": "shininess",
       "layout": "IPY_MODEL_5d6b91526f5c4f069888276c86e31117",
       "max": 1,
       "step": 0.1,
       "style": "IPY_MODEL_1fac97fbb78942428b45f4a29eff0181",
       "value": 0.2
      }
     },
     "7b577b3b68b746a29a5e6e041152e745": {
      "model_module": "@jupyter-widgets/controls",
      "model_module_version": "1.5.0",
      "model_name": "SliderStyleModel",
      "state": {
       "description_width": ""
      }
     },
     "7bd0ba7ae13849c1a3991f5c1fc76a3f": {
      "model_module": "@jupyter-widgets/controls",
      "model_module_version": "1.5.0",
      "model_name": "DescriptionStyleModel",
      "state": {
       "description_width": ""
      }
     },
     "7c7176c2637047769f684c2d030b2393": {
      "model_module": "@jupyter-widgets/controls",
      "model_module_version": "1.5.0",
      "model_name": "ButtonModel",
      "state": {
       "description": "Add",
       "layout": "IPY_MODEL_28ac8517ff6543888b7ae35a5a88a964",
       "style": "IPY_MODEL_33a25a7f6c774d99a2ad689dcc5a28a6"
      }
     },
     "7d00e5b6fac64279ab76b336056511c0": {
      "model_module": "pgljupyter",
      "model_module_version": "^0.1.16",
      "model_name": "MaterialEditorModel",
      "state": {
       "_model_module_version": "^0.1.16",
       "_view_module_version": "^0.1.16",
       "children": [
        "IPY_MODEL_5fe590f048484a3ba28067befd41b28a",
        "IPY_MODEL_26dd1eed428440a1bb6365baf44e75c4",
        "IPY_MODEL_6fd19ee64db44d74845df2372b542b69",
        "IPY_MODEL_280f5706c53c48bd96c1f0c3b5a82955",
        "IPY_MODEL_c11321e762b3422997689f94db4a71c8",
        "IPY_MODEL_ebe128ea294142459765d6098ca68e1a",
        "IPY_MODEL_8f0d237bd2814cfa98534d804a75bd38",
        "IPY_MODEL_2da2625474d444a4a745acca04a53c1f"
       ],
       "layout": "IPY_MODEL_b7eb7c1fbc2c4fbab9ae3ae154813316"
      }
     },
     "7d0e2b7c25dc4c5799f79fba3304581d": {
      "model_module": "@jupyter-widgets/controls",
      "model_module_version": "1.5.0",
      "model_name": "FloatSliderModel",
      "state": {
       "description": "diffuse",
       "layout": "IPY_MODEL_0f0d4a7590e043609aea67d90c471282",
       "max": 3,
       "step": 0.1,
       "style": "IPY_MODEL_ed4b23b4eff1497396c94a783926d260",
       "value": 1
      }
     },
     "7d638b1bb84145df842f1629b3b977bb": {
      "model_module": "@jupyter-widgets/base",
      "model_module_version": "1.2.0",
      "model_name": "LayoutModel",
      "state": {
       "flex_flow": "row wrap"
      }
     },
     "7e4f103663654092a3b6f3f18908d2a4": {
      "model_module": "@jupyter-widgets/base",
      "model_module_version": "1.2.0",
      "model_name": "LayoutModel",
      "state": {
       "flex_flow": "row wrap",
       "margin": "20px"
      }
     },
     "7ee5793271fa419b8cf938c7cdd42829": {
      "model_module": "@jupyter-widgets/controls",
      "model_module_version": "1.5.0",
      "model_name": "DescriptionStyleModel",
      "state": {
       "description_width": ""
      }
     },
     "7ff69b0f459c406da1dcf1b6b9ea1d85": {
      "model_module": "@jupyter-widgets/controls",
      "model_module_version": "1.5.0",
      "model_name": "SliderStyleModel",
      "state": {
       "description_width": ""
      }
     },
     "8012ed3ed86e4af7aa93a0d0174addd1": {
      "model_module": "@jupyter-widgets/controls",
      "model_module_version": "1.5.0",
      "model_name": "FloatSliderModel",
      "state": {
       "description": "diffuse",
       "layout": "IPY_MODEL_cb8ca0e6e0eb421686668ef1c62fece3",
       "max": 3,
       "step": 0.1,
       "style": "IPY_MODEL_dc53693171ca4e6f859008d9f7934f2e",
       "value": 1
      }
     },
     "801c9757e2284ae99ecc9a5a8bffc9da": {
      "model_module": "@jupyter-widgets/controls",
      "model_module_version": "1.5.0",
      "model_name": "DescriptionStyleModel",
      "state": {
       "description_width": ""
      }
     },
     "80301650537045819e119da69d2e1eaf": {
      "model_module": "@jupyter-widgets/controls",
      "model_module_version": "1.5.0",
      "model_name": "ColorPickerModel",
      "state": {
       "description": "ambient",
       "disabled": false,
       "layout": "IPY_MODEL_0c7c19e5f2d64c77816e00b8b2cd8eea",
       "style": "IPY_MODEL_8d847dba13ab4694a1ab9e4baa5b388d",
       "value": "#0fc4db"
      }
     },
     "80486992e7b749219293ac12cc88f982": {
      "model_module": "@jupyter-widgets/controls",
      "model_module_version": "1.5.0",
      "model_name": "DescriptionStyleModel",
      "state": {
       "description_width": ""
      }
     },
     "80b56e6d76c34f719488204e0bf1de2d": {
      "model_module": "@jupyter-widgets/base",
      "model_module_version": "1.2.0",
      "model_name": "LayoutModel",
      "state": {
       "margin": "20px 0px"
      }
     },
     "8283081be3d348eea1bc8c13afea1b04": {
      "model_module": "@jupyter-widgets/controls",
      "model_module_version": "1.5.0",
      "model_name": "DescriptionStyleModel",
      "state": {
       "description_width": ""
      }
     },
     "82e2fd1b3d93436b87d96fe4772c750c": {
      "model_module": "@jupyter-widgets/base",
      "model_module_version": "1.2.0",
      "model_name": "LayoutModel",
      "state": {}
     },
     "82ee84b51f34452cb28a4d5fbd6a6bec": {
      "model_module": "@jupyter-widgets/base",
      "model_module_version": "1.2.0",
      "model_name": "LayoutModel",
      "state": {}
     },
     "8385988dc1324faabaa3e51b770405fa": {
      "model_module": "@jupyter-widgets/controls",
      "model_module_version": "1.5.0",
      "model_name": "ButtonStyleModel",
      "state": {}
     },
     "83a4686453db4032b8b41676af2640e3": {
      "model_module": "@jupyter-widgets/controls",
      "model_module_version": "1.5.0",
      "model_name": "DescriptionStyleModel",
      "state": {
       "description_width": ""
      }
     },
     "83cb5d93b13c4d38906e44f6111942f3": {
      "model_module": "@jupyter-widgets/controls",
      "model_module_version": "1.5.0",
      "model_name": "DescriptionStyleModel",
      "state": {
       "description_width": ""
      }
     },
     "83d1112a98b24ad985e153a4de2805d3": {
      "model_module": "@jupyter-widgets/base",
      "model_module_version": "1.2.0",
      "model_name": "LayoutModel",
      "state": {}
     },
     "841666774d4c43d9ae6d7eaf452a6732": {
      "model_module": "@jupyter-widgets/controls",
      "model_module_version": "1.5.0",
      "model_name": "DescriptionStyleModel",
      "state": {
       "description_width": ""
      }
     },
     "856cb4dc10fd40959afd4f2ed68f4da6": {
      "model_module": "@jupyter-widgets/base",
      "model_module_version": "1.2.0",
      "model_name": "LayoutModel",
      "state": {}
     },
     "85fb0b1c46a34071837318e83df4549c": {
      "model_module": "@jupyter-widgets/base",
      "model_module_version": "1.2.0",
      "model_name": "LayoutModel",
      "state": {
       "margin": "20px 0px"
      }
     },
     "8688606d2e9e400dbdbdb02bf5459c6a": {
      "model_module": "@jupyter-widgets/base",
      "model_module_version": "1.2.0",
      "model_name": "LayoutModel",
      "state": {}
     },
     "86bbd8bd12314be19909ccb111382a66": {
      "model_module": "@jupyter-widgets/base",
      "model_module_version": "1.2.0",
      "model_name": "LayoutModel",
      "state": {}
     },
     "87914f94bb81462d992aeaaef5f740be": {
      "model_module": "pgljupyter",
      "model_module_version": "^0.1.17",
      "model_name": "MaterialEditorModel",
      "state": {
       "_model_module_version": "^0.1.17",
       "_view_module_version": "^0.1.17",
       "children": [
        "IPY_MODEL_2f2a18791e474473882476c2b545f886",
        "IPY_MODEL_613b92ffca5244b6a9fe92b6eac0bfb3",
        "IPY_MODEL_62b5bc6403144408b19fd4a789c19c72",
        "IPY_MODEL_d2f53457da264365a8ca7a5c85a6b381",
        "IPY_MODEL_29f083c6202b4e71911388db0eb926e4",
        "IPY_MODEL_fe6fc9b954504ac48e9ea7a8339c409b",
        "IPY_MODEL_c86dfb91c7754e40aff8205f0595f499"
       ],
       "layout": "IPY_MODEL_761fbbca71f145a5969c4290b8309933"
      }
     },
     "8796df0ffb5a4d59acfa5e829c472f45": {
      "model_module": "@jupyter-widgets/controls",
      "model_module_version": "1.5.0",
      "model_name": "ColorPickerModel",
      "state": {
       "description": "specular",
       "disabled": false,
       "layout": "IPY_MODEL_b2bf5842fee641abb921c9ea89fc6361",
       "style": "IPY_MODEL_e82e92b531174bbab4c8ec367cfabcd1",
       "value": "#282828"
      }
     },
     "885d034f6340467e9f3d03862ecdc212": {
      "model_module": "@jupyter-widgets/controls",
      "model_module_version": "1.5.0",
      "model_name": "DescriptionStyleModel",
      "state": {
       "description_width": ""
      }
     },
     "88a10cf316df4647bd53d535728a4d82": {
      "model_module": "@jupyter-widgets/base",
      "model_module_version": "1.2.0",
      "model_name": "LayoutModel",
      "state": {}
     },
     "88b25b3d6bed47aabbf857ba0829ae88": {
      "model_module": "pgljupyter",
      "model_module_version": "^0.1.17",
      "model_name": "MaterialEditorModel",
      "state": {
       "_model_module_version": "^0.1.17",
       "_view_module_version": "^0.1.17",
       "children": [
        "IPY_MODEL_743b4d10e04e429daa73128e21f65475",
        "IPY_MODEL_1ea7dc68a20e4fa3ae2f532556b651d0",
        "IPY_MODEL_30473609ffbf4e1781ef3e743132ea77",
        "IPY_MODEL_446d0c4274894c3b975472f4d7fb6e63",
        "IPY_MODEL_8012ed3ed86e4af7aa93a0d0174addd1",
        "IPY_MODEL_d10a3a68a0474f01aa5b6d5cfdb8ebe8",
        "IPY_MODEL_536987696dc742f1b1bc51ca8d040a1d"
       ],
       "layout": "IPY_MODEL_4f04e84e06f04f2187ac0562bd5d7982"
      }
     },
     "88f3d087a0de45da8bfd2c33963d9fb3": {
      "model_module": "@jupyter-widgets/controls",
      "model_module_version": "1.5.0",
      "model_name": "SliderStyleModel",
      "state": {
       "description_width": ""
      }
     },
     "896cb2a6eee44f0099cfa8dd5b2da22f": {
      "model_module": "@jupyter-widgets/controls",
      "model_module_version": "1.5.0",
      "model_name": "TextModel",
      "state": {
       "continuous_update": false,
       "description": "name",
       "layout": "IPY_MODEL_5f766dc4cb8647509fa135a5358aaab0",
       "style": "IPY_MODEL_c4ed48b837534de7b3ebc8b317ef0a11",
       "value": "color_1"
      }
     },
     "89a945aee0754e80a2eee46f61496ba5": {
      "model_module": "@jupyter-widgets/controls",
      "model_module_version": "1.5.0",
      "model_name": "FloatSliderModel",
      "state": {
       "description": "transparency",
       "layout": "IPY_MODEL_539f9d1af9924f4db2438bbbeeb51b54",
       "max": 1,
       "step": 0.1,
       "style": "IPY_MODEL_6ec1cbd07a644f899b126df86b0690ab"
      }
     },
     "89abd2f5d7a24df6bcce9045e015f6b6": {
      "model_module": "@jupyter-widgets/controls",
      "model_module_version": "1.5.0",
      "model_name": "DescriptionStyleModel",
      "state": {
       "description_width": ""
      }
     },
     "8a5b39fddbde4ba3bee746d6c937b664": {
      "model_module": "@jupyter-widgets/controls",
      "model_module_version": "1.5.0",
      "model_name": "TextModel",
      "state": {
       "continuous_update": false,
       "description": "name",
       "layout": "IPY_MODEL_0ec5645a3bf34b6a84616a6784979782",
       "style": "IPY_MODEL_c190a593c1ed4ea199fb8b572fe94562",
       "value": "color_3"
      }
     },
     "8ab5ba176a154599b445e9556a8031de": {
      "model_module": "@jupyter-widgets/base",
      "model_module_version": "1.2.0",
      "model_name": "LayoutModel",
      "state": {
       "margin": "20px 0px"
      }
     },
     "8ade179874b44ec4a7a9a96454510c3e": {
      "model_module": "@jupyter-widgets/base",
      "model_module_version": "1.2.0",
      "model_name": "LayoutModel",
      "state": {}
     },
     "8b24ac74c0944cd48267de6d5fe2be88": {
      "model_module": "@jupyter-widgets/base",
      "model_module_version": "1.2.0",
      "model_name": "LayoutModel",
      "state": {}
     },
     "8b43f3f764b3434fbc0675fd7f1f079d": {
      "model_module": "@jupyter-widgets/base",
      "model_module_version": "1.2.0",
      "model_name": "LayoutModel",
      "state": {}
     },
     "8b50cab205524c5684de777fe16b12c6": {
      "model_module": "@jupyter-widgets/controls",
      "model_module_version": "1.5.0",
      "model_name": "DescriptionStyleModel",
      "state": {
       "description_width": ""
      }
     },
     "8b9d8ab9579d479587514dba40ca7bcd": {
      "model_module": "@jupyter-widgets/base",
      "model_module_version": "1.2.0",
      "model_name": "LayoutModel",
      "state": {}
     },
     "8bd7cf6dc07d437190fbda31a59b43c4": {
      "model_module": "@jupyter-widgets/base",
      "model_module_version": "1.2.0",
      "model_name": "LayoutModel",
      "state": {}
     },
     "8be95b6e2c4341088b47d9a41a5e1916": {
      "model_module": "@jupyter-widgets/controls",
      "model_module_version": "1.5.0",
      "model_name": "VBoxModel",
      "state": {
       "children": [
        "IPY_MODEL_49c13f7f61b74fdeb6c2e02c3d02da5a",
        "IPY_MODEL_939594c53ae64a0e89243eda3899ab0b"
       ],
       "layout": "IPY_MODEL_a547bbd798964d08896ad103a8c35c97"
      }
     },
     "8c69ffac5b3b44b286de8bc58ff44b45": {
      "model_module": "@jupyter-widgets/controls",
      "model_module_version": "1.5.0",
      "model_name": "FloatSliderModel",
      "state": {
       "description": "shininess",
       "layout": "IPY_MODEL_09f0b20c3d9a4a7b8d6f767b7e7153d6",
       "max": 1,
       "step": 0.1,
       "style": "IPY_MODEL_2d5a147118f043b0bedacc46a82c83fb",
       "value": 0.2
      }
     },
     "8cbb1af1d0af4ff9bb22fce6efa5827f": {
      "model_module": "@jupyter-widgets/base",
      "model_module_version": "1.2.0",
      "model_name": "LayoutModel",
      "state": {}
     },
     "8cca7f8fad02405fb87c0732c5a43356": {
      "model_module": "@jupyter-widgets/base",
      "model_module_version": "1.2.0",
      "model_name": "LayoutModel",
      "state": {}
     },
     "8d56c586bca3464d8c5cb36ae761ba46": {
      "model_module": "@jupyter-widgets/base",
      "model_module_version": "1.2.0",
      "model_name": "LayoutModel",
      "state": {
       "flex_flow": "row wrap",
       "margin": "20px"
      }
     },
     "8d847dba13ab4694a1ab9e4baa5b388d": {
      "model_module": "@jupyter-widgets/controls",
      "model_module_version": "1.5.0",
      "model_name": "DescriptionStyleModel",
      "state": {
       "description_width": ""
      }
     },
     "8df2887e514042d1ac28d987a7d3f39d": {
      "model_module": "@jupyter-widgets/base",
      "model_module_version": "1.2.0",
      "model_name": "LayoutModel",
      "state": {}
     },
     "8e07259218964759aa0e3756812d03d4": {
      "model_module": "pgljupyter",
      "model_module_version": "^0.1.16",
      "model_name": "IntEditorModel",
      "state": {
       "_model_module_version": "^0.1.16",
       "_view_module_version": "^0.1.16",
       "children": [
        "IPY_MODEL_0003eef9dd3941f89ac65b920608e8dc",
        "IPY_MODEL_d734a536300949189433eec18ebe49d5",
        "IPY_MODEL_ea9d8d6b50034a3a9fb9e57b9e304732",
        "IPY_MODEL_ecd0c12b3b9e479fb4a4bdfdcb2c2842",
        "IPY_MODEL_715606022a044632ac89eb213623d18a"
       ],
       "layout": "IPY_MODEL_41689189f03a44738c5a6d8d77d673f0"
      }
     },
     "8e22cddd14fe4b4bae63e877798b91cf": {
      "model_module": "@jupyter-widgets/controls",
      "model_module_version": "1.5.0",
      "model_name": "TextModel",
      "state": {
       "continuous_update": false,
       "description": "name",
       "layout": "IPY_MODEL_e0b3bfd022cf45e4a94fa38c5088e074",
       "style": "IPY_MODEL_aa87d9baf2e54afbbf8a7787e01bc39c",
       "value": "color_3"
      }
     },
     "8e4723856ef545059ac8d8e784b37a8e": {
      "model_module": "@jupyter-widgets/base",
      "model_module_version": "1.2.0",
      "model_name": "LayoutModel",
      "state": {}
     },
     "8e59f23a67514549b0b971a20c8f5644": {
      "model_module": "@jupyter-widgets/controls",
      "model_module_version": "1.5.0",
      "model_name": "IntSliderModel",
      "state": {
       "description": "value",
       "layout": "IPY_MODEL_66cfa3a226224323bc89e5cd0184f515",
       "max": 10,
       "min": 1,
       "style": "IPY_MODEL_67f4e04d08034151b0a50c7edf65de73",
       "value": 3
      }
     },
     "8e6019a49d114761a746e659cc1c48f2": {
      "model_module": "@jupyter-widgets/controls",
      "model_module_version": "1.5.0",
      "model_name": "TextModel",
      "state": {
       "continuous_update": false,
       "description": "name",
       "layout": "IPY_MODEL_7740beb2c49f45218e9e7fa1fe1a8432",
       "style": "IPY_MODEL_fc7845240a5a42389a89509a28eb34dd",
       "value": "nb_axes"
      }
     },
     "8ebbdf1fb8e54a828e60d7ac7f9605d3": {
      "model_module": "@jupyter-widgets/base",
      "model_module_version": "1.2.0",
      "model_name": "LayoutModel",
      "state": {}
     },
     "8ed6d95dd9ef49ee8cf874817418fc76": {
      "model_module": "@jupyter-widgets/base",
      "model_module_version": "1.2.0",
      "model_name": "LayoutModel",
      "state": {}
     },
     "8f003cdb574545128b2ee385bb6fff88": {
      "model_module": "@jupyter-widgets/base",
      "model_module_version": "1.2.0",
      "model_name": "LayoutModel",
      "state": {}
     },
     "8f0d237bd2814cfa98534d804a75bd38": {
      "model_module": "@jupyter-widgets/controls",
      "model_module_version": "1.5.0",
      "model_name": "FloatSliderModel",
      "state": {
       "description": "transparency",
       "layout": "IPY_MODEL_6f0a69f339134e55b948c90d45650703",
       "max": 1,
       "step": 0.1,
       "style": "IPY_MODEL_7b577b3b68b746a29a5e6e041152e745"
      }
     },
     "8f4c0103e27f4574ba684259337a9d96": {
      "model_module": "@jupyter-widgets/controls",
      "model_module_version": "1.5.0",
      "model_name": "HBoxModel",
      "state": {
       "children": [
        "IPY_MODEL_417e8e140cdf4466b6d508d357de4584",
        "IPY_MODEL_9925cbd3ea0647db80ef2a633272125b"
       ],
       "layout": "IPY_MODEL_431315f0bf144d2fa04d6ffc24c515f9"
      }
     },
     "906dd31da0b74225aefcd7029f7939cc": {
      "model_module": "@jupyter-widgets/controls",
      "model_module_version": "1.5.0",
      "model_name": "DescriptionStyleModel",
      "state": {
       "description_width": ""
      }
     },
     "907af94c6c2443389979483218e080ca": {
      "model_module": "@jupyter-widgets/controls",
      "model_module_version": "1.5.0",
      "model_name": "ButtonStyleModel",
      "state": {}
     },
     "90f65d5e0f7d4ba297b91d7381a9b694": {
      "model_module": "@jupyter-widgets/controls",
      "model_module_version": "1.5.0",
      "model_name": "SliderStyleModel",
      "state": {
       "description_width": ""
      }
     },
     "91ac8e1f9a054b498098ec7954dfe608": {
      "model_module": "@jupyter-widgets/base",
      "model_module_version": "1.2.0",
      "model_name": "LayoutModel",
      "state": {}
     },
     "9205b342fe2d42118f3ab706062aa484": {
      "model_module": "@jupyter-widgets/base",
      "model_module_version": "1.2.0",
      "model_name": "LayoutModel",
      "state": {}
     },
     "926c57076840440cba5b8c4fd41d9d43": {
      "model_module": "@jupyter-widgets/base",
      "model_module_version": "1.2.0",
      "model_name": "LayoutModel",
      "state": {}
     },
     "92978dae10c04f879b6b666ba80d5835": {
      "model_module": "@jupyter-widgets/base",
      "model_module_version": "1.2.0",
      "model_name": "LayoutModel",
      "state": {
       "margin": "20px 0px"
      }
     },
     "9334138484854b40a86080f1b61c3cbf": {
      "model_module": "@jupyter-widgets/controls",
      "model_module_version": "1.5.0",
      "model_name": "ButtonModel",
      "state": {
       "description": "Add",
       "layout": "IPY_MODEL_47c4dd25604a48a1b5557177fd515750",
       "style": "IPY_MODEL_28501e07ca81424ba924d3f88696843a"
      }
     },
     "939594c53ae64a0e89243eda3899ab0b": {
      "model_module": "@jupyter-widgets/controls",
      "model_module_version": "1.5.0",
      "model_name": "TabModel",
      "state": {
       "_titles": {
        "0": "leuwenberg.json"
       },
       "children": [
        "IPY_MODEL_5c7ea0ef330d498b91b01ff20701afc6"
       ],
       "layout": "IPY_MODEL_40d3cad94876411eb2c2b28bed44d044"
      }
     },
     "93a5e2d0c70d421d81cf898af8d464df": {
      "model_module": "@jupyter-widgets/controls",
      "model_module_version": "1.5.0",
      "model_name": "DescriptionStyleModel",
      "state": {
       "description_width": ""
      }
     },
     "93e9e1a13f404740b06bcbb3b04fbbe8": {
      "model_module": "@jupyter-widgets/controls",
      "model_module_version": "1.5.0",
      "model_name": "VBoxModel",
      "state": {
       "children": [
        "IPY_MODEL_1624262f28254a519733973a8caf8b9e",
        "IPY_MODEL_767069b5239041d1a94bed85e955db0b",
        "IPY_MODEL_6322774f3a5e4d0cad43bc9ac0f77d3f",
        "IPY_MODEL_f834a6370cbe4f55b43168d73475ea6e",
        "IPY_MODEL_74bb39c50046421c8cf174ea8b853142"
       ],
       "layout": "IPY_MODEL_39b48239860647a19accd22046ec23a9"
      }
     },
     "94dd3b9fa9fc40afbb444d490ee4bac3": {
      "model_module": "@jupyter-widgets/controls",
      "model_module_version": "1.5.0",
      "model_name": "SliderStyleModel",
      "state": {
       "description_width": ""
      }
     },
     "94fe467575e84f10afa968e472e6294b": {
      "model_module": "@jupyter-widgets/controls",
      "model_module_version": "1.5.0",
      "model_name": "SliderStyleModel",
      "state": {
       "description_width": ""
      }
     },
     "964212339a614dc4b244dd85464c155d": {
      "model_module": "@jupyter-widgets/base",
      "model_module_version": "1.2.0",
      "model_name": "LayoutModel",
      "state": {
       "flex_flow": "row wrap",
       "margin": "20px"
      }
     },
     "96cdd7a7ccd846d3924fb1cc7ba26616": {
      "model_module": "@jupyter-widgets/controls",
      "model_module_version": "1.5.0",
      "model_name": "ButtonModel",
      "state": {
       "description": "Add",
       "layout": "IPY_MODEL_215f302522a248ffb3819ec2c29f1058",
       "style": "IPY_MODEL_fe19d3f5e3dc4cd99368775b1f16b8cc"
      }
     },
     "96ef1dd3e38b40a6b4b6aa0a8d3bcca5": {
      "model_module": "@jupyter-widgets/controls",
      "model_module_version": "1.5.0",
      "model_name": "DropdownModel",
      "state": {
       "_options_labels": [
        "leafduration",
        "leafold",
        "maxorder",
        "radinc",
        "nb_axes"
       ],
       "index": 0,
       "layout": "IPY_MODEL_b349b6082b68436a830311e2652d9b99",
       "style": "IPY_MODEL_0095f53d7b9d447db6885939bd2cb620"
      }
     },
     "973162b76dea4a2bbb3e36144ea6db25": {
      "model_module": "@jupyter-widgets/base",
      "model_module_version": "1.2.0",
      "model_name": "LayoutModel",
      "state": {}
     },
     "973da0ef21a546739fbc9361cd34bfe5": {
      "model_module": "@jupyter-widgets/base",
      "model_module_version": "1.2.0",
      "model_name": "LayoutModel",
      "state": {}
     },
     "9824adc57ba049e4afcc27d45ea5872d": {
      "model_module": "@jupyter-widgets/controls",
      "model_module_version": "1.5.0",
      "model_name": "DescriptionStyleModel",
      "state": {
       "description_width": ""
      }
     },
     "98277c35c08042f6a10536f9cec224a9": {
      "model_module": "@jupyter-widgets/base",
      "model_module_version": "1.2.0",
      "model_name": "LayoutModel",
      "state": {}
     },
     "98e62b318b7c483cb6d8f8cd5917ff1b": {
      "model_module": "pgljupyter",
      "model_module_version": "^0.1.17",
      "model_name": "ParameterEditorModel",
      "state": {
       "_model_module_version": "^0.1.17",
       "_view_module_version": "^0.1.17",
       "children": [
        "IPY_MODEL_8be95b6e2c4341088b47d9a41a5e1916"
       ],
       "layout": "IPY_MODEL_4be4fe9b98574f5e94986b02b8c225cb"
      }
     },
     "9925cbd3ea0647db80ef2a633272125b": {
      "model_module": "@jupyter-widgets/controls",
      "model_module_version": "1.5.0",
      "model_name": "CheckboxModel",
      "state": {
       "description": "Auto save",
       "disabled": false,
       "layout": "IPY_MODEL_42e7b3c15d994cd6b5e009744d25d2cf",
       "style": "IPY_MODEL_e39e2498279249fda7dc6eebafd8b0bb",
       "value": false
      }
     },
     "998772480aac452387c45481c4a8859d": {
      "model_module": "@jupyter-widgets/base",
      "model_module_version": "1.2.0",
      "model_name": "LayoutModel",
      "state": {}
     },
     "9991cdc311734263a5179071275bff7c": {
      "model_module": "@jupyter-widgets/controls",
      "model_module_version": "1.5.0",
      "model_name": "ColorPickerModel",
      "state": {
       "description": "specular",
       "disabled": false,
       "layout": "IPY_MODEL_5d416a34f993487a93cb14b0054ea4ea",
       "style": "IPY_MODEL_160584d7549b440497e447884ae62452",
       "value": "#282828"
      }
     },
     "9a39bcbc02c34c958a3a2bea5ded14be": {
      "model_module": "@jupyter-widgets/controls",
      "model_module_version": "1.5.0",
      "model_name": "DropdownModel",
      "state": {
       "index": null,
       "layout": "IPY_MODEL_554ebc2fe70b441697fdba4d2a6f87c0",
       "style": "IPY_MODEL_d5962bdf3e204a32a0c5f001c01c8af8"
      }
     },
     "9a9dd7b9393e473ab51a5616b57ee709": {
      "model_module": "@jupyter-widgets/controls",
      "model_module_version": "1.5.0",
      "model_name": "FloatSliderModel",
      "state": {
       "description": "diffuse",
       "layout": "IPY_MODEL_0f79a7c69fb34b2d9f55d3a3cfb5c585",
       "max": 3,
       "step": 0.1,
       "style": "IPY_MODEL_5d56f12735114a72b59aee0792d5ab99",
       "value": 1
      }
     },
     "9b10fafd1dad421981300c41e7b605cc": {
      "model_module": "@jupyter-widgets/controls",
      "model_module_version": "1.5.0",
      "model_name": "HBoxModel",
      "state": {
       "children": [
        "IPY_MODEL_679a4e3dbf4340d084066a79f8c8540d",
        "IPY_MODEL_6e149d6140aa4abca3c6a495c874087e"
       ],
       "layout": "IPY_MODEL_bb79433b06b94630b6f77fbc405d30c3"
      }
     },
     "9b3e11ebb803450b986ba009cd7271d1": {
      "model_module": "@jupyter-widgets/base",
      "model_module_version": "1.2.0",
      "model_name": "LayoutModel",
      "state": {
       "margin": "20px 0px"
      }
     },
     "9b552c4d5fcb4cb5a27ef472c8be80f2": {
      "model_module": "@jupyter-widgets/base",
      "model_module_version": "1.2.0",
      "model_name": "LayoutModel",
      "state": {}
     },
     "9b9a7369a8eb4f5da61755ac616f74c3": {
      "model_module": "@jupyter-widgets/controls",
      "model_module_version": "1.5.0",
      "model_name": "ButtonModel",
      "state": {
       "description": "Delete",
       "layout": "IPY_MODEL_8688606d2e9e400dbdbdb02bf5459c6a",
       "style": "IPY_MODEL_8385988dc1324faabaa3e51b770405fa"
      }
     },
     "9bee7a831530488d8f1b62a13071e4a1": {
      "model_module": "@jupyter-widgets/controls",
      "model_module_version": "1.5.0",
      "model_name": "HBoxModel",
      "state": {
       "children": [
        "IPY_MODEL_bc2caf9b3fc84da494330dba24816842",
        "IPY_MODEL_744795a86db044f098523c400f8e0b54"
       ],
       "layout": "IPY_MODEL_05158b063b184ffe96c65e42e171536a"
      }
     },
     "9cbbf712b5e546d7b39a41428b0aa2f1": {
      "model_module": "@jupyter-widgets/controls",
      "model_module_version": "1.5.0",
      "model_name": "DescriptionStyleModel",
      "state": {
       "description_width": ""
      }
     },
     "9d12e0ef939e4807b6d9a006fce2d523": {
      "model_module": "@jupyter-widgets/controls",
      "model_module_version": "1.5.0",
      "model_name": "BoundedFloatTextModel",
      "state": {
       "description": "step",
       "layout": "IPY_MODEL_255b3c439597483f80ed865cd04cc345",
       "max": 1,
       "min": 0.01,
       "step": 0.01,
       "style": "IPY_MODEL_259e1b89f75240de83d19dcd3b59bf86",
       "value": 0.01
      }
     },
     "9d18be69857d479da54872b16cad623b": {
      "model_module": "@jupyter-widgets/base",
      "model_module_version": "1.2.0",
      "model_name": "LayoutModel",
      "state": {}
     },
     "9d1c471f6aa5499386c9cee5a496cdfc": {
      "model_module": "@jupyter-widgets/controls",
      "model_module_version": "1.5.0",
      "model_name": "HBoxModel",
      "state": {
       "children": [
        "IPY_MODEL_27f197b4f13d478283479e8a52271d78",
        "IPY_MODEL_42733af347b24deeb6820dafdba23586"
       ],
       "layout": "IPY_MODEL_8b43f3f764b3434fbc0675fd7f1f079d"
      }
     },
     "9d3e8bfa637b4501a40010eae48c2c9e": {
      "model_module": "@jupyter-widgets/base",
      "model_module_version": "1.2.0",
      "model_name": "LayoutModel",
      "state": {}
     },
     "9d4b9a9b3979406d872e9b0718717eb7": {
      "model_module": "@jupyter-widgets/controls",
      "model_module_version": "1.5.0",
      "model_name": "ColorPickerModel",
      "state": {
       "description": "ambient",
       "disabled": false,
       "layout": "IPY_MODEL_08a086db9f984b649195bfba6e845663",
       "style": "IPY_MODEL_7844922bdc964f79876f85b1d4fdf8b4",
       "value": "#5b4534"
      }
     },
     "9db215c1ff3242bab8eb9533ae4c1142": {
      "model_module": "@jupyter-widgets/controls",
      "model_module_version": "1.5.0",
      "model_name": "ColorPickerModel",
      "state": {
       "description": "ambient",
       "disabled": false,
       "layout": "IPY_MODEL_0d6a37d535614710acb801033c6e1b4b",
       "style": "IPY_MODEL_38f0ad6d78c543e584e0999e772ae5b0",
       "value": "#e1a014"
      }
     },
     "9e2c5933bf4e4702ae54e16799be5b86": {
      "model_module": "@jupyter-widgets/base",
      "model_module_version": "1.2.0",
      "model_name": "LayoutModel",
      "state": {}
     },
     "9e9532d3f9264d848c9671d25e59429b": {
      "model_module": "@jupyter-widgets/base",
      "model_module_version": "1.2.0",
      "model_name": "LayoutModel",
      "state": {}
     },
     "9e9b6175f07b4b388b45284c5be91fe8": {
      "model_module": "@jupyter-widgets/base",
      "model_module_version": "1.2.0",
      "model_name": "LayoutModel",
      "state": {}
     },
     "9f1b252d842443fc95ac8e7e4f03c95a": {
      "model_module": "@jupyter-widgets/controls",
      "model_module_version": "1.5.0",
      "model_name": "ButtonModel",
      "state": {
       "description": "Add category",
       "layout": "IPY_MODEL_25319b4a1c0d492ea4c44baed1f845f1",
       "style": "IPY_MODEL_22f9f8931d46440d97e214fb63e75678"
      }
     },
     "a03e944e51cb40c5810fc9d0fa1bbb94": {
      "model_module": "@jupyter-widgets/controls",
      "model_module_version": "1.5.0",
      "model_name": "HBoxModel",
      "state": {
       "children": [
        "IPY_MODEL_1353b6016646410798b195d84bc20e50",
        "IPY_MODEL_7d00e5b6fac64279ab76b336056511c0",
        "IPY_MODEL_f091e8ee938040379301180a6b5f8ece",
        "IPY_MODEL_dab8e9c05b4743e0910867303374e23e"
       ],
       "layout": "IPY_MODEL_5a7768daa7114d36b770ea435fe36cec"
      }
     },
     "a05c2a0fc34b4dfe85701e30e5a55732": {
      "model_module": "@jupyter-widgets/controls",
      "model_module_version": "1.5.0",
      "model_name": "ColorPickerModel",
      "state": {
       "description": "specular",
       "disabled": false,
       "layout": "IPY_MODEL_d4426702c7c94b0aac24491668d12154",
       "style": "IPY_MODEL_89abd2f5d7a24df6bcce9045e015f6b6",
       "value": "#282828"
      }
     },
     "a0c58eb759874d7aabec070d0f8f4e28": {
      "model_module": "@jupyter-widgets/base",
      "model_module_version": "1.2.0",
      "model_name": "LayoutModel",
      "state": {}
     },
     "a15f82e8dd1a43408a5d120bd20123be": {
      "model_module": "@jupyter-widgets/controls",
      "model_module_version": "1.5.0",
      "model_name": "SliderStyleModel",
      "state": {
       "description_width": ""
      }
     },
     "a2b015214e0846d9ac5d81a1bebac7b4": {
      "model_module": "@jupyter-widgets/controls",
      "model_module_version": "1.5.0",
      "model_name": "CheckboxModel",
      "state": {
       "description": "Auto apply",
       "disabled": false,
       "layout": "IPY_MODEL_b40339e839344d96ba6ff6a53935e92b",
       "style": "IPY_MODEL_754a8ec29fb14d7087455060f4d25989",
       "value": false
      }
     },
     "a2eafcfa36b44a6ba3e34657e64cec7a": {
      "model_module": "@jupyter-widgets/controls",
      "model_module_version": "1.5.0",
      "model_name": "FloatSliderModel",
      "state": {
       "description": "transparency",
       "layout": "IPY_MODEL_e01ac84da5b94b36859436d3ee12a19e",
       "max": 1,
       "step": 0.1,
       "style": "IPY_MODEL_dcc995adc6dd4fe097aab757670954b6"
      }
     },
     "a2eb67920af64606babedcf49f3ac443": {
      "model_module": "@jupyter-widgets/controls",
      "model_module_version": "1.5.0",
      "model_name": "DescriptionStyleModel",
      "state": {
       "description_width": ""
      }
     },
     "a3aa80b4b3224cfa978751461082efdd": {
      "model_module": "@jupyter-widgets/controls",
      "model_module_version": "1.5.0",
      "model_name": "DescriptionStyleModel",
      "state": {
       "description_width": ""
      }
     },
     "a4330bdab939492fbed45caab83a37b0": {
      "model_module": "@jupyter-widgets/base",
      "model_module_version": "1.2.0",
      "model_name": "LayoutModel",
      "state": {}
     },
     "a5264762497747948922c606524ae042": {
      "model_module": "@jupyter-widgets/base",
      "model_module_version": "1.2.0",
      "model_name": "LayoutModel",
      "state": {}
     },
     "a547bbd798964d08896ad103a8c35c97": {
      "model_module": "@jupyter-widgets/base",
      "model_module_version": "1.2.0",
      "model_name": "LayoutModel",
      "state": {}
     },
     "a5d0d447b1394b03986172fc7562d1f4": {
      "model_module": "@jupyter-widgets/controls",
      "model_module_version": "1.5.0",
      "model_name": "HBoxModel",
      "state": {
       "children": [
        "IPY_MODEL_96cdd7a7ccd846d3924fb1cc7ba26616",
        "IPY_MODEL_0414cc8a90c64c448f20ab6c7de8a484"
       ],
       "layout": "IPY_MODEL_a7a0c50477554430aa4553a8141c8cdf"
      }
     },
     "a5fa387b659b43e6811c5b2786ac85cd": {
      "model_module": "@jupyter-widgets/controls",
      "model_module_version": "1.5.0",
      "model_name": "HBoxModel",
      "state": {
       "children": [
        "IPY_MODEL_45109e056cae4646bd13589740cb2e07",
        "IPY_MODEL_ad7052f26bac417382466038fda4af38"
       ],
       "layout": "IPY_MODEL_2c72ff2950854494b63f8872eabd3dac"
      }
     },
     "a72f273cdb3945e394051fb5a3ed72de": {
      "model_module": "@jupyter-widgets/controls",
      "model_module_version": "1.5.0",
      "model_name": "TextModel",
      "state": {
       "continuous_update": false,
       "description": "name",
       "layout": "IPY_MODEL_2e4a8e24f3cb480f948147e7187812ba",
       "style": "IPY_MODEL_5c45b8f207094c259218686f4e90aff4",
       "value": "maxorder"
      }
     },
     "a74641fad73f460aaf67830e96175f14": {
      "model_module": "@jupyter-widgets/controls",
      "model_module_version": "1.5.0",
      "model_name": "ButtonModel",
      "state": {
       "description": "Add",
       "layout": "IPY_MODEL_8e4723856ef545059ac8d8e784b37a8e",
       "style": "IPY_MODEL_2f7990fb68574e08a097ad24e9646305"
      }
     },
     "a7a0c50477554430aa4553a8141c8cdf": {
      "model_module": "@jupyter-widgets/base",
      "model_module_version": "1.2.0",
      "model_name": "LayoutModel",
      "state": {}
     },
     "a85f651d3d144554a4c5e5260dc4c9c3": {
      "model_module": "@jupyter-widgets/base",
      "model_module_version": "1.2.0",
      "model_name": "LayoutModel",
      "state": {
       "margin": "20px 0px"
      }
     },
     "a928100a1a7543c1a952e02f63653d38": {
      "model_module": "@jupyter-widgets/base",
      "model_module_version": "1.2.0",
      "model_name": "LayoutModel",
      "state": {}
     },
     "a986327c2f5f410491da6da14c2b9def": {
      "model_module": "@jupyter-widgets/controls",
      "model_module_version": "1.5.0",
      "model_name": "DescriptionStyleModel",
      "state": {
       "description_width": ""
      }
     },
     "aa07377abfb5489ca39018eb747fddb6": {
      "model_module": "@jupyter-widgets/controls",
      "model_module_version": "1.5.0",
      "model_name": "HBoxModel",
      "state": {
       "children": [
        "IPY_MODEL_1a39600936bd4b199a960b5ddd12c3ef",
        "IPY_MODEL_e2b7f42fba7146f9bd943e2d6c422529"
       ],
       "layout": "IPY_MODEL_3af78c5ade4d410a8a1156f28dde5870"
      }
     },
     "aa34cffd296144adbb84e44628679faa": {
      "model_module": "@jupyter-widgets/controls",
      "model_module_version": "1.5.0",
      "model_name": "HBoxModel",
      "state": {
       "children": [
        "IPY_MODEL_3118b20c6b1b41b095139fadd7aa0f5e",
        "IPY_MODEL_8f4c0103e27f4574ba684259337a9d96",
        "IPY_MODEL_64ddded86cc94f2aaa65c66efd8404cd"
       ],
       "layout": "IPY_MODEL_37b2865fee2b4a02bc2013f64eaefc86"
      }
     },
     "aa87d9baf2e54afbbf8a7787e01bc39c": {
      "model_module": "@jupyter-widgets/controls",
      "model_module_version": "1.5.0",
      "model_name": "DescriptionStyleModel",
      "state": {
       "description_width": ""
      }
     },
     "aadcd785ecac49dd89e89b98cd11a5bc": {
      "model_module": "@jupyter-widgets/controls",
      "model_module_version": "1.5.0",
      "model_name": "IntTextModel",
      "state": {
       "description": "max",
       "layout": "IPY_MODEL_64635876704d46df8e253b2d4cefa598",
       "step": 1,
       "style": "IPY_MODEL_fce01e4c69184a6aa0107d409c41700a",
       "value": 7
      }
     },
     "abb8dd22248e47baa61d0443c5c01957": {
      "model_module": "@jupyter-widgets/base",
      "model_module_version": "1.2.0",
      "model_name": "LayoutModel",
      "state": {}
     },
     "abcc393b17f24dc9b7fecb97fc241a9d": {
      "model_module": "@jupyter-widgets/controls",
      "model_module_version": "1.5.0",
      "model_name": "SliderStyleModel",
      "state": {
       "description_width": ""
      }
     },
     "abee62d144eb46f6a0854e2c779344fc": {
      "model_module": "@jupyter-widgets/base",
      "model_module_version": "1.2.0",
      "model_name": "LayoutModel",
      "state": {}
     },
     "ac6f0bb182d14b43a5412de39ac1d15a": {
      "model_module": "@jupyter-widgets/base",
      "model_module_version": "1.2.0",
      "model_name": "LayoutModel",
      "state": {}
     },
     "ac71f1c55d9948e19e588813ff85983b": {
      "model_module": "@jupyter-widgets/controls",
      "model_module_version": "1.5.0",
      "model_name": "DescriptionStyleModel",
      "state": {
       "description_width": ""
      }
     },
     "ad1542a9ee5d493fb7cad40f4ec24a08": {
      "model_module": "@jupyter-widgets/base",
      "model_module_version": "1.2.0",
      "model_name": "LayoutModel",
      "state": {}
     },
     "ad7052f26bac417382466038fda4af38": {
      "model_module": "@jupyter-widgets/controls",
      "model_module_version": "1.5.0",
      "model_name": "DropdownModel",
      "state": {
       "_options_labels": [
        "NurbsCurve2D",
        "BezierCurve2D",
        "Polyline2D",
        "Function"
       ],
       "index": 0,
       "layout": "IPY_MODEL_f7a150d82f6d40e4934ef1a89819382f",
       "style": "IPY_MODEL_885d034f6340467e9f3d03862ecdc212"
      }
     },
     "ae40200d7fdc43a69f8f57ce27d6891b": {
      "model_module": "@jupyter-widgets/controls",
      "model_module_version": "1.5.0",
      "model_name": "ColorPickerModel",
      "state": {
       "description": "ambient",
       "disabled": false,
       "layout": "IPY_MODEL_27c99d487aef426398bafe8dc27b8491",
       "style": "IPY_MODEL_e4bcad903cd24e668755c12c6ad16d21",
       "value": "#5b4534"
      }
     },
     "ae49ac24f7d94cbea0a0b653a87d4b7d": {
      "model_module": "@jupyter-widgets/controls",
      "model_module_version": "1.5.0",
      "model_name": "ButtonStyleModel",
      "state": {}
     },
     "ae65c9b1a7014f46b4d4736a9946ae5f": {
      "model_module": "@jupyter-widgets/controls",
      "model_module_version": "1.5.0",
      "model_name": "FloatSliderModel",
      "state": {
       "description": "shininess",
       "layout": "IPY_MODEL_c7ea2a8eaf6f4fd6ba043daec10a8f1a",
       "max": 1,
       "step": 0.1,
       "style": "IPY_MODEL_4a48e3b56b974227bcbb4111eb32acbb",
       "value": 0.2
      }
     },
     "ae707f5167d74fc69acaaf741eb5e5de": {
      "model_module": "@jupyter-widgets/base",
      "model_module_version": "1.2.0",
      "model_name": "LayoutModel",
      "state": {}
     },
     "ae72d17e3fb94a56a3727653a69248a4": {
      "model_module": "@jupyter-widgets/controls",
      "model_module_version": "1.5.0",
      "model_name": "FloatSliderModel",
      "state": {
       "description": "transparency",
       "layout": "IPY_MODEL_5952ccf95fff4114ac955e73f1021bc8",
       "max": 1,
       "step": 0.1,
       "style": "IPY_MODEL_a15f82e8dd1a43408a5d120bd20123be"
      }
     },
     "af04d4dbb9ee467196d914b3d6ff7677": {
      "model_module": "@jupyter-widgets/controls",
      "model_module_version": "1.5.0",
      "model_name": "DropdownModel",
      "state": {
       "_options_labels": [
        "Integer",
        "Float",
        "Bool"
       ],
       "index": 0,
       "layout": "IPY_MODEL_88a10cf316df4647bd53d535728a4d82",
       "style": "IPY_MODEL_8283081be3d348eea1bc8c13afea1b04"
      }
     },
     "af4039e9ddde442ba446084c54416900": {
      "model_module": "@jupyter-widgets/controls",
      "model_module_version": "1.5.0",
      "model_name": "BoundedIntTextModel",
      "state": {
       "description": "index",
       "layout": "IPY_MODEL_625a97aef55748c189e2a6b3c1b5e67d",
       "style": "IPY_MODEL_0ba2cab9cc9d4511aad569640dfc3012",
       "value": 3
      }
     },
     "aff7649e3cd94b0e93b9db47ae177a91": {
      "model_module": "@jupyter-widgets/controls",
      "model_module_version": "1.5.0",
      "model_name": "DescriptionStyleModel",
      "state": {
       "description_width": ""
      }
     },
     "b026cfdea7f24109b3207938d8293f82": {
      "model_module": "@jupyter-widgets/controls",
      "model_module_version": "1.5.0",
      "model_name": "TextModel",
      "state": {
       "continuous_update": false,
       "description": "name",
       "layout": "IPY_MODEL_9205b342fe2d42118f3ab706062aa484",
       "style": "IPY_MODEL_a3aa80b4b3224cfa978751461082efdd",
       "value": "nb_axes"
      }
     },
     "b042067711c749ddbe44af8d0b266773": {
      "model_module": "@jupyter-widgets/controls",
      "model_module_version": "1.5.0",
      "model_name": "DescriptionStyleModel",
      "state": {
       "description_width": ""
      }
     },
     "b0fb1ac3eab4429faa1c3064bf965e64": {
      "model_module": "@jupyter-widgets/controls",
      "model_module_version": "1.5.0",
      "model_name": "HBoxModel",
      "state": {
       "children": [
        "IPY_MODEL_7c7176c2637047769f684c2d030b2393",
        "IPY_MODEL_3f1c5cb37d464c0c965c97fc3a1e7f60"
       ],
       "layout": "IPY_MODEL_df4b301f82c143b6ba68f23b7ee4a4e7"
      }
     },
     "b11599f0c8c340be874b6f91e49e147c": {
      "model_module": "@jupyter-widgets/controls",
      "model_module_version": "1.5.0",
      "model_name": "FloatSliderModel",
      "state": {
       "description": "transparency",
       "layout": "IPY_MODEL_026723ae658e489db0402b1860155fde",
       "max": 1,
       "step": 0.1,
       "style": "IPY_MODEL_bc101f934e6546c8b4a4399a8ff52dd9"
      }
     },
     "b170506f70d34c96b69cc2e6cb10b936": {
      "model_module": "@jupyter-widgets/base",
      "model_module_version": "1.2.0",
      "model_name": "LayoutModel",
      "state": {}
     },
     "b1ed67a808ae4d98902e313123dd2c75": {
      "model_module": "@jupyter-widgets/controls",
      "model_module_version": "1.5.0",
      "model_name": "ButtonModel",
      "state": {
       "description": "Delete",
       "layout": "IPY_MODEL_d96944e0d08c4a04aa0b00a6367b12c9",
       "style": "IPY_MODEL_eb97bfba7a244317a71b5c4fedafbbe8"
      }
     },
     "b233f15e47474a7198fb26deae803dcc": {
      "model_module": "@jupyter-widgets/controls",
      "model_module_version": "1.5.0",
      "model_name": "IntTextModel",
      "state": {
       "description": "max",
       "layout": "IPY_MODEL_4195dc0db72c4f82bb9bd5eead7e9779",
       "step": 1,
       "style": "IPY_MODEL_c1729e1e6a704ee9982e5f868755dfc6",
       "value": 10
      }
     },
     "b2bf5842fee641abb921c9ea89fc6361": {
      "model_module": "@jupyter-widgets/base",
      "model_module_version": "1.2.0",
      "model_name": "LayoutModel",
      "state": {}
     },
     "b2dff12eb7f74161896fad4ff14e216e": {
      "model_module": "@jupyter-widgets/base",
      "model_module_version": "1.2.0",
      "model_name": "LayoutModel",
      "state": {}
     },
     "b3415d0e07044c3c90903ed545d57994": {
      "buffers": [
       {
        "data": "eNrEnQd808b78EPYe4YNhbIKBJBlWZYh1knsvfcKEPYqe5bZsnfZlL1HyyyUEevkUGgZZW8oFPhRKKOUVaBA+d+5wnpsgnMR7ydvihoHYn9169Hz3D2jcIdqVerVCQsrpGRMV6hIkcLpw8LCwlOGNeravk+nBsnDwpKnCavTfkCnft3a90xB/iljmrBKQ3t2692xU7/PyI/Z04ZVGTKg38D+3T7vPZT8nCtNWL1+3Tr1HtCp47nwsLC8acLqf96T/n4n+q8FUoU1imnfs1PHreTfCpIf+nTt1K8T/ZxC6cIa92vfu39Pgup4gfwruY/GhNm7S89OjToNmEj+png6/2fxlemnFaa3F54nrFF1tX6VGpWjnVy0S5CcvOCwiS47x0lVyS/Rq1CY76t7+Ggv/Z71apSa67+/CvtrjctNvuHMndugcmtHof4zdnxbvm1TTwHj38NGo3dX4bCwiSdXiG9Tpw4L+EJh732N1jZt3Cibr0uB3xltvB4tm39PX2+UUxm/Qdoalsx4ndz4mX6lMH6mXymNn+lXKuPnMON99OfkOcPU+vVJpwhGnwgum01wOvjRN5aLkdeX56A38svR2nJ8/SdILkkUeYGt/zxG/+EE+i8Z7b1klA+Zdv+Y2cgdOvga5D01TGaGzmN8zFr5y7xjhu+bVtTXbyPyVUYWOE6n5HCKDJzKBbb4xnD7jD6YmSP6ORz5bhdrk/fUNjmnY7/0caocL+Dvw29WjaEcfD15YxRzYoCvD7Vtc7UPMd8fW0m08zwnzRy3UIzM0yxXfGMr+ucBT/64GO9LM+4Ls9xXMsqHTJe/L+xOwe7g65H31DOZp96M9zFjbJn9fe7JV883trmH5kSJ53CiJDl4iYGTMvs5uu7D3iwYiVk5ojmHXLyNlzh6pzwVgv+9PR9deJurtZfpdb+B5LvSnS/iu0q2zuy7ZsQ9c9Prl6NHfZdBxvT/ec31nLv4f2tt6LHW6qCyo3yvB1yorcI1COcsHD/YXp9MKB4WVr3hL2JaIH+epHAgetExpX9HXmP6M72V/jPs3xk/43mbxpehf2f8Pn73/mT+SWjzd76L53mBCxscK0a2qiLEMwkl/0DRX+dcYgvySS3MgXI7J3tfDonDHba190/C7GU8cqXTHVDR9jPkP/7Nj1K/uKudm12UeeGbTJvN5pQkiYFZP1tNPG7tAa1776eWmC7e7BOOJ5OlNXlPa5NZp9BMb/t6GfR9qIOfmatKF/Tk96VyilHz5enPz/kEwk+3VZxopkCQvIuXGJibVupaxMuWeH/9XdaYjndMu8jxRN5Fk/dEm8z1Y+Z5rxzn9VkTzL5NVfxv+WJ0FTTs/Fm56JFf5dhhn+AXWnHmxe5nOuycyDs5gYF5eHpnvB1P1rK/+M4aUzIXvugQbWIH8p4OJvNZxSXeN6Ua66umRPuZvx3phNoVv+D+LeIyW99+mOnkHKLEMTB3fZMFp85RG78u39ISU/LPW97Bu8gDrGHSCLjUv37lrfRndbzmarQK1yOcs3BcYdt9wigZFW/JqOQJz+tvjY0zu9Bmd3AC15P8bs/3lj4KWvrIWPqasfTlhJd+vFBOFO12XmKAEhmnGTLOGtRmM7UOu+iy8Z+TN33+3uJX4hE4miFwNGOyWIQ6ibrNADUkDjIkjgWo4O9ewS6Rx00/8qZ+7y1/JWj5I2P5a8byRwkv/3ihdvLQ4h0iA5TIOc2QcxahTv9i5EWH3cUPJG8a+J4AUOIROh5D6CTcvR+E2kWnxBMTgAFqSB1kSJ3EQzkbhBL9rVOSih0ExA4CYkcBYkcBYkeJT+yYQtTht6J40TdDaUuKBLVmeI7NMr0WLVzou0q2nuG7dhcc57tmxA30Xe9a/YHWbFlf1deavNUmqROi6/lej5k1Vu2wvoXvdc3rQ9Tw1p18r08/76Vqdfr5XqszO6qwJ0IIUd40qu3EJpSkIcbgGDMCfsw75fq59ILOgrAct6NRxv/+Lg1RBd0+Yzl5LkNxtEPzRSSqozKXmC+Zf7w8Lt3c/zTH+G+Dc9p5m0hvY4h5G9+v+U//nfegeby3YUxG+rHvroJhYbtrLhJT+SYmZUOe4H8U2iTeJkjSdPLu6SbvwfHW3qvp1uu90q7xL4Sz4qfaX0O+QDtbV3LH3O+F8ool5eSv12vMwi0QahcEBmj7drHy9UcvtM/u1ETWoH6FimhwRKjys8ibZpnQvkdbeLNu3a+nPrjeD+1eYKV8olI1lO6ndPj+pKa+Jf+kQDNsBWq3CSInMUB3fV0U7TnqxG03TpStQSVTogoulyTMIW+aY0I3ftfce7r1Nb2s/q0f6t0tuFfHjkJlnKVi0343FNH9jn4xbTRm4QahxOaROAZobKuScrWhb7UTB1sgS1AHeDQTa8DJzydvmm9Crw1u4R2/7h/9+ztbzZY+So1GnS2JlCep2MY0NNQuSgzQnPn/J6dvUh87M2LZEtRuTiTe5XAKwgTypmEf+ewgd0IlLiJ3goC0/bteV+/zvzvqh0YvVZd+294be26qvmrBChUuSzhx4dDCxoeQtqLN1DQEQXTyK8jvrjD7sEvdwd7vjgh6WnWTvw9P1m/uDu+RUiswcATOGXdZPvegE6pbZr+HeV2YUJvLZbfbWKCn19fFo6delsNWHJetQf06lY2XRFGSVpM3rTahu5KP9h6qVULfpm3zQ1uvLYHyxs2U/+1uxweLqOjtuQXa0tURyCLUKQkM0Acl52jF7xRDcjMBWYM6TTNEkgSJW0fetM6EFtrxlVf4rLCeudxuP/SPHCnlJ1MnuFGlEbjRnvlyZK7+qMDZk27mdeGHCrzTxrucIgM0WbcO+KvbveRK7uOyJSjYgLc7nMRO3kgFnAmdsWqSt8WQT/Wvh2p+qNqxGGrY9o1c50AOtjH9MJQjs9cmSgzQbfsuaOMj78kV7lZDlqAOAUI5J78oacTO0Nafe1sMqKFfPbZahcsSTlw4tLDxIcSOZA4c3VKRuO+pSmX2YXI82huRYoqunZ7n70OcdQg6Xa6c5/eIoTJa1E9ee/M3eeD5NuyPYwC122yiS2SA3il0URs7RMVLR7zVrEHBHi61NoQfyJt+MKERbSZ45/6yUL9feY4fmvpRdTT+TC60f5ZTqzUmPR7Vozba9HisbAHKSw66f8QAzXyuGI6t1Fhrt7ECtgZ9t+Nvl2zEfOSEveRNe01oXJbp3jSvN+hbl37th+rDRqGvogu6p0yq5+49L4v7N2mdfPZwX/bHcQBU4DiOAXr38W1tSIOm+NebizVrUBc4c+GJikVPpDwmtL8+x7upwT692e1ZfujkXRx6tiMPOr/nGNuYhobanCID1HZdxRNefauVzJwZW4KCUyzRJdgE4bukETtzlw3w3t0yXO+kLlLhsoQTFw4tbHwo29Lcb+SJqezkhyWNqVzkRg3v98sa4Muzp6mZn9T1xvU9irPfnaXm/7mJV/s+hy665qlStbbegqWQfqLPIhV2RYjmuMD2qSgS5U03RseYEvBj3k2JgRkVvKDop6h++4oaVIDfM5vfs1BNGnkEik5RojTdpDVp3Msb8+tg/eDE5QnS4rGOk1HbOBjKmzthNsFmd4nSOfK2c+9ZqEqQhaoZFio2LFQtMRZqIFTgRIEBSmxx2bDFPdagQGsj0swhXiRvuvieharEYxZjwyyWje5FFqEuB88ANcxiZJjFiYfCrRWX3clLV8ibrrxnoSpBFqpmWKjYsFDdibFQg6DkOcwAJba4x7DFo6xBTfFpJ8a4k79GzdL3LFQlHrMYG2Zxwt0bAurgBJfIMUANsxgZZnHioZwTQiVROE4fvh//oNCMBwV+/0GhALNYAWaxAsxiBZjFCjCLldBmMW/39yEnCTbezv9BbaT3VEUlSFWUDVXxnX6qJUZVDILa7CIDlCjF2FCKNWtQ4D9CTCg7f5+86f57qqISj36KDf0UGWqFZhFKJAAD1NBPZUM/tQA1nQE40cYL0kPypofvqYpKkKooG6qibKiKWmJURQiVnJLNxjNAiVKMDaXYYwkKtnWJpSNw0mPypsfvqYpKPPopNvTThLs3NJQIAQaooZ/Khn6aeCgvmhqQQPR/6UbSiB1DP1WAfqoA/VQB+qkC9FMltH7KO2AfcpLEvSa/+/q9jTElaGMMGRtjmrExhhOzMRYEdUoCA/Rk/eYeYwsQWYM6zJMHFxEA3FvyprfvbYwp8ezGacZuHDY2UbBFqN0pMkCN3Ths7MZZgJr78Rxvdzj48GRhYfQK3BhTgjbGkLExphkbYzgxG2NBUFGQGKB/5EipGVuAyBLU3NblXTbqFJCSAFMmC94YU+LZjdOM3biEuzcklDoFMECN3TjN2I1LPBScJpGWSjbxWdKIHWM3TgG7cQrYjVPAbpwCduOUBHbjXKa7gU0kKgAXl6RmMQJmMQJmsQLMYgWYxUpos5gXA5pDdNE0yf4bnUCzWInHLMaGoepXgBM0iwHN5uJsHO+jpUkWbBYr8ZjF79FCm8Xmkb95CEWZZAbSwcoCBox6jJO5RecYGYzrvsud7rzvInPNd7WeEee77jfY7bveDXA8A0c/rtqpk9TYD0tXbKpaevtD/d0gdo9O7RvQNc0mqDeUXL7XmdqOJ69L+F+3+tTp/x04AUINoqkiCrwgcFy6ZP/NSaNb4ce8O39vt3ew7+7rdBrCMnCm7iAI1G+CEtKZA3epR10f4Yw8OV4C6x6GnbNDkGDnyxFIORNUc1U2fdn+3N6b3Uwju8amoVq3qXa0aUhp5Fi8o0KFzDa06KbE/NgJghLtkwE61TkIrbXV1U6+dmvWoCI82udEgSdA3oQW+/Mo1mI+9dbnzY2T3wdlxM4CTdDvV4t66Gk7XQsPHj/XrEAlh93pFBmgdA+Dyts0S6KwNagLuPc7iarmIECHCZ1apxce/FkZ74m4lX5oy886a9XEJmjt8GTo2m82efG49KjsqwbMj50gqE0SGKAnmvZF03tu1F5U2RprCWrjgTR1CERXI0DJhD74fbq2/Y7k3VJ0hR+6LvdVrfKsNmiVMlpj6t7QUIcoMUCjnBwaW+qE9sOhPNgKlHeJEErUw88IMF+yj3uq050yKn/IncjgMTi9bw9dGpXW2+LNVnVAOaSf75nFW7HNtypclnDiwqGFjf+wBLX7N7vpiSz1s6lImlLR7MNTezl9RO+03q6R2N+HhVY2w3cmR3rWTE+L/3cyvVau5HC0tEcG5kMgO9hhF8hcESQGaPv7L2LjHmTVJlcegaxBTRdt8jC0O/gqBFgFaLs3s+qXKmXwXk170PTR1P/QeoUVQTE5PsFfdotGX2Rxy4d63NYsQomMZYDal3hl8dl6OW3PNsgaVAJQp9PFVyfA6iZ0ZKNbOPrvLN7+S476oSuvtsJlTxWTVx95oZ2ovzi2S/4+6FHtbcyHQEFQSZIYoDG7O8Q26btN25WvD7IEtdvA89/hsou1CLCWCd2Rfh3+ZEAub8Zjp/zQSdG/aIvH10Zz+tzSmLo3JFTk7DwDtH7BG/IXOQ+4K7XqiCxBbQ7YUkngKiSN2Cm8r66eZ0wab6VPdqtwWcKJC4cWNj6E2BFswOmNqDtSE9KUJmYfdiuzVF/sKezd0XmHvw+/2BKBdtRNjR5MLYA3r6uFS3+XEg1pu4R9XQRCnQ6eAdqp2BVtTrrm+Erl1Zo1KDgmcgiCTWxOgM1N6Jebv9O3NyvnLZ5xpx86bjof+3v/fqikulor0b+gFjd4hdxqy+fIItRh4xmgnmUt8LCRqfC+thFua1Bzd99JAzv5VgTYyoQO3LVHb7rR7e3xfJe5M93gmPxV7oKoy91InO1mN9y00gr56+Vfsq+LACj1ZGSANuVGap3O9MZ3Jo3TLEEdHIBSH+G2BNjWhDbOFadfHVnbay+4xw89NH2U1nVKF5Q+7za2MQ0NJfY3A/TGKzt29rVj5etnbktQuwChNl6qmzRip0HvKfqbzBHetum2q3BZwokLhxY2PoS9CPxs7E4bUSBpUzIk+7g9jA8053W6H/UxpafqF52b1Brnt+rhm9foE7dsVHt9tkzf0EDXnyfbpN5QZ+hHtl7WH5T5Vm3Wboz+tMNz/WHZzSrsihBS1AE8eESXaBPbG6NjTAn4Me+mxLDLufDPcxa5M3B1EFSAEzSFA2hOjswFSmtv0v49FK3n6pzFO73j9gRpzGax0wGhvJMfTICDTWjTqPl6LJ6IcyY754euGB2FB/SJwI1LbdFWFV3vlsZclF8f6cxuoQZC7aLEAP1rXktt7CcdUek0v8jWoGZcmOR0Cpw0jACHmdDY59P0tz9N1ebVuOSHRlevrF2rflE7NrUDblO8P8pPnkx7/+ztsQh1cAIDtOKOpTKFhc8r47YElczgXIfkIur/CAIcYUJvlx+nP1x6SxZbX/NDu+YXcYrcj7U8BVJi3Cq/fE8tiLbEVGG3UAOh5AnJAD1XYoCWZV81lCJDDmQNCkK0BJH8N5oAR5vQdnWH6Vm/nYIWFbvlh96zJ9NiNjbUzvQewjamoaEOkWOAVo1aJk+q3xV1XTBTtgQVzbMEh0QDffsQYMxHPijInWByJzK5EzeQrFd/2ahXryro8zOcUJveWq7/4XmGM88+pcJlCScuHFrY+BCSFWx28w6e47jJpCmTzT5cs/KqnjVlVf1WgYum98lP1dDdH3Rt2Jq32uCvcmFuBtJy76rOLgFccOAkThQYoCe+yYJjX+fG2TdlRdagTtBSGhk6jQCnmdDX/z7V231bW2/701VzA0CaIH/Xt0xsq1uD8OYtrbVtzYeirXHTPRahAi8wQHeW74cXla+kpbs4TrYCFTigQDloIpGZBDjThJ6rlMIbubOBPjrCXBd7732K1gw+p708Xgx3K1gJHxrTQvNMzc8sAYKgTp5jgC4ZdV67lj8TrrfeiaxBQVoRh5OYxbMJcLYJzTE0gxdlaKJX+OueHzov//2oZkXGeXK2HMU2piGhEjGLGaA9c7bG+T/9RDtS4KVsBWqXnLClxCz+MmnEzpufDuirLrj17WXPqHBZwokLhxY2/sNiR7DZweOYxvctIU1ZYvbhhmpj9QG3Rus3tp/39+Hw4ZHa8tgmaEyRVLhV/RlyhPSX9qR7U2YJEAS1u3gGaIM8XdDTWpHaqN2HZWtQEUB5ySYuJ8DlJlQaGK03HDRLn7rvih/6eMVa7e1XktxreS/c758KeNWGUjhVgeSyRSixUBmgR/aVQXe6ObFtbDHZGtQFdm5cRMVaRYCrTGiRGLduO7FM/2voDT90QTXd81mchJrMLIcPrz8vN++WG18oUY5dAgRCRY5jgHZK3hhVm9jek+NQJmQJam7r2gQ7R8Z0LQGuNaF5LxfU68Ru0oteuOOHokPltIzb0uwpbP+CbUxDQ8mYMkB/nFMCna1QDM8YdUi2BOVECCVSfV7SiJ37WefpK/e01kv2P63CZQknLhxa2PhQdqS5S83bRKJ7xCSNWTz/TayeyzNI731km9r48i791exW+plru9XF+7bpTStV01O31NXX277Tt+Yur48s8LMKuyKEFOUDmkM04A3G6BhTAn7MuylRsOVCLcPIfvjIyT8CjJoEzeJAmtMmSpS2waQdb7VBz9HGphdNcSZBGqtZLAhAgeI43iFiAsQmtGHlyt5fyh/WF9b/zg/d074bKlrnuBbXZKa7xPhV8qeZcqH0p93sMjsQanfwDNCINGXxiyzHtLxP8mNLUHPbi0BpKqc46qcBZPbwRt5ZXxzV+97e6IfOzNwL6fJO+TNHKm1m515api11UYc76ZBFKPV1SRiadraECUyeVboEtgaFz2HyrOIOEOABE9r7VQfv/8JP6nOrbvBDnw0cgC68nqG1XRrn6dZrh3vqumxo1fL67DI7EEomEgO0QX4XXrk1FS5T8pZmDQqfw/S0+GcC/NmEHp3Uzzs29rxeYYDpdnBzViP0S5O7csvr69jGNDTUIUoM0A0TW+E/LmP31OHJsCWowEGo3SnuJsBNH/mgoLOM3AkmdwJ9wOIWlPAuW3pUL9b4e/XoTIdXrHpYvzRkqwqXJZy4cGhh40NIVuANwwtO0rpTpCmnzD6897io98enKb2b0pq77esulpdHTemJymf8Vo4r2A09qvos9lKK08wnKABK+9Dl4Bmgn0T3kFcdqombaVmQNagLtFRyitJZAjxrQivVLO59siLCu3vED6a/yI5U6OCzKmh+0Z1aTP7TWt/UqbWnP7JvAQZBJVFggHbPul8+P6wnbtGwkMcS1MnD/BNEsF8gwAsm9EZMSW/+34t6szUwzxX2DMby624d0dG5Y+Sfb8agkwsnaYVbxDKfoAConcYw2EQGaONiBdyF1lfEmf4phqxB4WG8INn5ywR42YQ+s5f1vh5v9+pf7PNDj8VxqPumPKjmhmNsYxoa6uIlBuiYyWXkhXuG499PTXBbgjpcEOq0i0eSRuy87FDMe1C4rw/+53sVLks4ceHQwsaHEDsSzK5Ht+NukabcAge3EueN7urRY8rv9/dh/kb1PY8uRsrj3wzHDdbwKF06EU3/3xY387oIhNo4gQG6+kYuvGtXMvS0UCFkDSoBKGmqdIcA75jQl9NEb8TrPXrF8Yf90DmTS6OpTafIaY9w+Oztooh/EImL7vlBtggVeYEBmu3XUbFv+bvyo8UxyBLUZQMni067i79HgPeAQ15B2bu19x59w9cn/dD++7e7X1VZIzer1BePe5QH7d0VheYfXsJutwVCScMZoJWVCrjrnO/lA50jkDUoPEOVnJzwJwH+aUIzHa3qrR23T99W+YJ5mlTDjb6IuCJfW5uCbUxDQyWOY4Dm+bu2NuSbb+SB/XojS1BwmkSgIiddTRqxs9JR2jty7X79f4f3qXBZwokLhxY2PpQdCTcX6THgpqQxiw8vuaGP/XquXrb/JvXqJ2He3r8v1xeM+la9ijJ5073+Ts/VYrP6ekg+b5cVsfqSF1tV2BUhmmNuuvMcWeQu8ZExOu+izMDH+DeiiudHt7cv1zpVKY+gApywWRxAo2nPKe0ROMxYX8YbteSMfjfZrgRpzIHg4BSKQG0Ono5WErq8Z7r/s25L2RzfPTFDvTo7Ti9Y5gzeUW6O+ud1TU8xNJ++m1uotvifR+d71tCv6UvV35diXVP6638eXq3CGRBqFGGAol3ipCfGpHx3dAI+5l2/hq8ti497i6L7q7bJiTrzD6RR7yVKe2LSUqsH9Wx95+p1e29OkMY6ig67CKGiQ8wdHhZGr0CvdDXIKx0bXumy4ZWOE+OVHgR1OngGaI1NQ2XD/x5bg7rA3pEkOvl8BJgvPNgrXY3HFR4brvDI6F7ZIpSYNgxQwxVeNlzhEw81Az9pTniHUyxIay2EB3ulq0Fe6djwSo8yvNJxYrzSg6CkexmgLT/rLBv+99gaFDqP2CSHWJjWjQgP9kpX43GFx4YrfMLdGxpKbGQGqOEKLxuu8ImH8jBs2eYUuawEmCL8o53DsPF81N53DlOBK7wKXOFV4AqvAld4FbjCq6Fd4R0O2IfUJi1NmlI6PNg9VA1yD5UN91DZcA/FiXEPDYIS2cMA/WJLBDYcYZE1qASgRFUUyhJg2fBg91A1Hp9UbPikyoYrIbYGpXmvGaCGTyoyfFITDwWBn6JN4ATJRoC28GD3UDXIPVQ23ENlwz1US4x7aBDURh6bCUNxg2Oa4QiLrEEFACVPM04gQCE82D1UjccnFRs+qQl3b2ioQH5OGGr4pCLDJzXxUJC7lEB5USiaNGLH8ElVgU+qCnxSVeCTqgKfVDW0T6rDCfvQaeM5mTRFDg8OhlGDgmGijGCYdxE4ODHBMEFQjhcYoIVWNkNG2A+yBjXtKUmi25sqAarhwcEwajwRONiIwMFG4IRVqEvkGKBGBI5mROAkHgqSCEouzm4XKxNg5fDgYBg1KBgmygiGwUYwDE5MMEwQVLDzDNCVV1shI+xHtgYF50cumyhI1QiwWnhwMIwaTwQONiJwEu7e0FCnIDBAjQgcjxGBk3goSJhKoA4H70wasWNE4KggAkcFETgqiMBRQQSOGjoCx2EDgc28g3OItCnPPn5zI77mGDapAlzhFeAKrwBXeAW4wivAFV4N7QrvkAKaI4pCTWN0Al3h1Xhc4T2Gc7pfAU7QLA6kEQEqUlrN8GBXeDUeV/j3aKxmsWjW8KBQuyi1I8B24cHH70rQ8Tsyjt+RcfyOE3P8HgQVRIEBuqd9N2w4GngsQc0aHgQqEfEZQ4Ax4cHH70o8Z/6aceYvG3tHVqFEfDJAjTN/zTjztwAVwOEbR2zxzgTYOTz4+F0JOn5HxvG7bBy/48QcvwdByXOYAfps4ABsOBq4rUFB4RBfOtRuBNgtPPj4XYnnzF8zzvwT7t7QULJOGaDGmb/HOPNPPJSDYYY2lyS0IMDa4R+9C64Zu+Do/V1wBZz5K+DMXwFn/go481fAmb8S+sxf5GEf2iWB60+a0j88+BxMCToHQ8Y52LvDN5yYc7AgKHnCM0DzN6rvNk78kCWo3VSgBJFY5vwgAhwUHnwOpsRz+KYZh2/YODPRLEKJAsUANQ7fNOPwzQLUDqBU/R9KgEPDg8/BlKBzMGScg707fMOJOQcLghJDhwHaf/92j3Hih6xBgaemSB8lXxDgF+HB52BKPIdvmnH4lnD3hoaSRwkD1Dh804zDt8RDeTiRaKaankkjdozDNwUcving8E0Bh28KOHxTQh++EVXDbI7gcojSeNKU8eHBXj9qkNePZnj9YMPrJyoxXj9BUMHJM0DXXSyvGf5NmjUo8NV2cMREnUSAk8KDvX7UeFyNsOFqJBseIsgi1OXiGaCGqxEyXI0SDwVJBGmJHVGaSoBTw4O9ftQgrx+P4fWDDa8fOTFeP0FQosEyQPcMxprh36RZg4J0DQ7SUG4GAc4ID/b6UeNxNcKGq1HC3Rsa6nSKDFDD1QgZrkaJh9rhRLI7JGFU0ogdw9VIAa5GKnA1UoGrkQpcjdTQrkYOCbgwEBtZFGonjVlsnPkr4MxfAWf+CjjzV8CZvxL6zF90wObQkktfG6MTeOavxHPmLxun8H4FOEGzOIjmlARK+zo8+MxfiefM/z0as1kswQg7WlNmPQGuDw8O1kZBwdqyEaz9LkJcS0ywdiCURoAwQFeMjkJGWLpsDQoj7OixzSYC3BQeHKwtxxMhLhsR4tiINHBbg9JjGwaoESGOjQhxC1ARHFFz5GszAW4ODw7W1oKCtWUjWPtdhDhOTLB2MNQlMkC75heREZaOrEHhYTzNSLGNALeFBwdr43gixGUjQjzh7g0NFTiJAWpEiGMjQjzxULNKCIXyNnEFAc4J/+iYKWTETHnej5lSQIQ4AhHiCESIyyBCXAMR4jh0hLjogn1IJcA+0pR94cFRk0pQ1CQ2oiY1I2pSTkzUZCCUyjoG6PDhkbIRH4qsQIl5CKA0yaZGgFp4cNSkEk+opmaEaiIjwk6zBCWdKwoMUCNUExmhmhagIJSLkxwu3kuA3vDgqEklKGoSG1GT70I1UWKiJoOgoiQxQBdU091GfCiyBoXpGmiVqx8J8Mfw4KhJJThUM8O2NC4jVDPh7g0Ndbp4BqgRqomMUM1EQ0VY/oa0lOO+TxqxY4RqKiBUUwGhmgoI1VRAqKYSOlTTaQO+2g6HwAvHSFOOhQfniFCCckQgI0cENnJEyInJEREEtfMSAzT2p2rYyIYhW4LyoOikQySq3UkCPBkenCNCiScxRZSRmEI28gm4LUIlQWKAGokpZCMxhQUoyPvhkHheOEOAZ8KDc0QoQTkiZCNHxLvEFHJickQEQYnoYYDuvfcpNrJhIGtQJ4C6iGF8ngDPhwfniFDiSUzhNhJTJNy9oaGinWeAGokpZCMxReKhNjiRiKrO/ZQ0YsdITKGAxBQKSEyhgMQUCkhMoYROTCGKHCz77nLwc5LGLDYixBUQIa6ACHEFRIgrIEJcCR0h7rTD5tAUSZeM0QmMEFfiiRBHRsy2XwFO0CwOpDmJNkNpl8KDI8SVeCLE36MxO1HDUyiRyDXx2f8XV3gEXOERcIVXgCu8AlzhFeAKr4R2hXfaedhE8uKKMSkDXeGVeFzhseGczn7mH0ijBXMp7Up4sCu8Eo8r/Hs01hT+wEmDMMkw0gFMBgYxLZVfmycgejXcXdB3LVqYx3ddH5bDdxFJ4rv6utP5rt0FU/ouXzPJ9W4SxDOoacPgV3N1TK6Rvn8u86SF2kV+5Xud61Qb9XVbl2/gn0+LUfnrfX2v72XpoeYqMdv3uqY8QH3450bf6wxPRqrRD7Dvdekvx6lw0oQabHBoLVKBejX8v/lsdD/8mHeJ+I9VaIx8R1clMiOGAQYEJ8cJEiVcNQd434+XfISXA2fES2Bdmk4XB0GCTcyZPCyMXgaoe3iYmmp3G2/Wq1H+mTQkzyn5bO45cubObVC5tW81+r1826bM2a+CoA4bzwAV6/4hNznWjEKxNagdVJiRBEHKQ4B5TGiGzsnUt5+089bKX8YP3TdttfZ0TCY0Il9ldH5HG1/4CEVZhDoEgQFauUA5rfq6+fL2GX2wNSgIH7HTMc1PgPlN6OnY5Gr+Mh29VY4X8EPT3Vgs16vyl3w9eWMUc+KpRr9r2+ayG1SBUDKmDNBTFTOjbJteRREYtgYFIUF2m5OXPiHAT0zoqTep1NvHu3ljbJlNP+58x7W+re0o99CcbGMaGirxAgM0ZfamnmMd97jfLBiJLUFBgWQCJYpjZgIMT/5xOhy5k3eSF1a8yV08TD31rI136LHW6qCyb5V2/7b2DrhQW4XLEk5cOLSw8R+WoBIH+9AuSFJJ0pSSZh8uq/yJGi7HeDtsa+/vw3/39sfHX77yFG0/Q87zco+71fcV0bnZRZmP/IKgdhfPAP17aXlUNfKV1r33U2tQUBiCF0SnXYwkwEgTmn1MWbVF7q7efaiDH5qhr4TbzSiEUoyaLxfq01FuE1EA/XRbxRahxKJigI4/0gvVmXvCvb/+LotQsHkkSDwnlSPAcia0p+RWmzfp7Z01wezeO4O74iba66hh58/K3RqvkQf+VA690IozH/kFQYm0Y4D+1qocqveqKM7+4juLUAlAXVS0EyBvQkfztVTu14HeVVOizWqQtdPhtKNd6LeIy2zdGxoq2kQG6Nh0Q9GLGXs8r8u3tAaFW5+CS+CFT5NG7AiezOrFC9HeNVejVbgs4cSFQwsbH0LsgMIQPHlESVwUaUqU2Yc/NLqrFJ42PEACbHEM9nTq1g4RCaBlkAW8pc8iOVESIBBqkwQG6ICiETht40qYyDprUFAYwiESdUdCBIhMaKZRN5Xc88YFSIDI+hW0i+F9fGLn+Pyi6PeNdzxktliFEsWYAWoblhH3+F3BVOxYgwoAKth5riIBVjShh+deU9Z9NS1AAmw40lor2ao7IhJAOzhDxQc7jXUnSgIEQomKxQA9fOiSdrRKHUxknUUoKFksOogOUIUAq5jQ82uvKi/6zw2QACvf7tLOftXYJ3aYujc0lKhYDNCFv57QUlWNwVTsWILycCI5HHbRkTRiZ8fLJ4qnS0+f2IHLEk5cOLSw8SHsRScHmuPkXSJtypPwj9ux+kBztqw/qJRNH+mlZeYmRB9Xis+3e8fMGqt2WH9RqTIqylvz+hA1vPUtZfqKqt7Tz3upWp3HSpPzDbzqzI4q7IoQUlQIaI6LE6obo2NMCfgx76bEc2mIPP35OS3H7egArTtBUziQJpGlRmnVTdr3a5KrWVJ29M570DxBGqtZLIk8hIqc1JYA25rQzaWd6m1nhJdW7vaXXm5bFddqVRjvbF3JfW5BPtz/FhG6r9czH/kFQYk1zgBNfryf7D6WGX12pyayBgUKlEO02fj2BNjehA5YqarDtqf30rrk76DXczfBhYfd86T7KR0uuSkt6tt1qpsWAbUIJaoiA/TtwYXyip7dUduNE2VrUPgcppmoOxJgRxN6OVMd9eGx5F5adf0dtNonMbhJ5H2tjLNUrDDnlvY8VVvUL6YNs4UaCKWZqBmgUXe2y65sh+QTB1sgS1CnDUBpUYMuBNjFhNas0kLVm77SaU35d9CRGZvhk2pyWXmSim1MQ0PtgsAAHX3ob/nAXzWRMyOWLUFhtliHy+bgmxFgzY98UJA7weROPLTAKZCsI/cWU1vPivTSKqyDT5VRr5Uv5F21YIUKlyWcuHBoYeNDSFYJ9KFo4zipL2lKX7MP/zjyqfrsa+SFla2ThW9zX4u46S4wcARum2UkXtp/qScxla0DoTRrMQO0B5/CneFKNxy24rhsDSrAlhIbagABDjCh9qii6tET1b2wsvXxMdnwvrcXZVpO25nviaf+0Dpo6eoIZAFqczjIxQJ9VvWs5syf3VdO2xoUKFAOmkZtMAEONqGt5pdQt21v4IWVrU8M+cezeO9KWtka5xswBNtjorXEVLYOgoq8wABNcXiQvPpEe1zJfVy2BHWBJ7UvAf4wAhxmQmediFQ9OVt6YWXrpl0VXP/nZTItp83UvaGhRKozQL9ZKGtVV+fGtJy2JagTTiSnUxC6J43Y+adWEbVPftFLy2nDZQknLhxa2PgPix0XB/uQZmj/ijTlK7MP8z6KUje4o7za6Xn+PjyT95aWs15r9HvEUDlbt7fak+U9Yweeb8P8OA6COjiBARp5tg0qcapM1NIRbzVrUDtQsTgXL00gwAkmtPnfNdSxySp771ee44euedYFP3H8KO+f5dTGzTintU0VjTc9Hitbg9KC2wzQB9fC0LrSd7V2Gytga1ARZlVwScJkApxsQvVNzdQJs2p5ty792g+9Ui8NHlSnOZoyqZ775aWFWop7qbWzh/syP44DoRIncQzQpfP7o5wFzkf9enOxZg3qAlAXsa6mEeA0E/r2Sif1yomG3ma3Z5kW6uA2eET0Avn8nmNsYxoaanfxDNAH50ujfg1eaiUzZ8ZWoBI4TaIt5bgRSSN2dv7CqctiBG8ndZEKlyWcuHBoYeND2ZHmKTaxAYjcqZk0ZnGX2b8pmWp85r08e5r6lfhKydOvuDf73Vlq2Zzp1WbTintF1zw11YTcattFn3lP9Fmkwq4IIUVtsDnUgptpjM67nBfgY95NieyzbdrZjoNx/fYVNagAJ2gWB9JoDDOlzTRp5RtHqpemlvUenLg8QRqrWewCx9IEyjv5tQS41oS+mZlTaeruFmChPrqZF8VsXOQhFirOs2619pKPSZSFGgS1ixIDdNn93rhWhV0ascU91qBOABV4gdtAgBtM6O16XvTl5F4BFmpkuhRo6pmSiJrFrbOul/9364pMV5VFqN0uMkDFQX3xslE1ZWoWW4Ka+yuknUR/4r4lwG9N6NP7LtR8RP8ACzXjkeTItfiim1io+OGNVHh+z4aJslCDoIJDZIDuO90MD12bFhNbPMoa1BSfgp2m4NtCgFvAWVGTmlFF3g7zQgt1uHOp/GRNTUTNYqbuDQ11ihID9Ei/XvjwxG9jqVlsCQpC1gnU4RSXEeDXH/mgIHeikTvRqMQAkvWvUuOUPMc7+cTaN13rKe61nX1mMVyWcOLCoYWNDyFZHbAP6Z89pCl7wB50nknKpWujA1TFPpNuyC6vjIiqKD/JN15eOvKinChVMRBKFiMDtMlXKVGe1g0wUYo1a1CQzMVud4pcLAHGmtA1EyYpxQdMDFQVi75wj344FFH9NNOhQfjluTluolZoFqGSQ2SAjr+QXY4rXgpT/dQa1AWgDt7OYwLEJnT8vYnKgWozA1TFhlFv5RkL6iGiKsqRP0+QY8dXlROlKgZC7bzEAD3c5E+5t70DJkqxxxIUbOtKIo1aiSPAOBN6rNoE5WLUggBVEaWwy9/f7ISofsrUvaGh5PnFAC1Yc6t7RPFGmOqnlqACnEiiIEjbk0bsaKsmKIvq9ffpp3BZwokLhxY2PoTYccI+pNlGjpKmHDX78HWKDcpvB3oGbIx916kqXlj6hRy24rjWqFwWFPNJQ5SYjbEgqFMQGKCOuZnk2WHLogoMHIGsQR0A6rCJ0nECPG5C+8/7QdFW9QvYGOtedIPnbjsHortx0fqn6GTGZHjp6ghsEcqLAgO0724BfRE9z01346xBQZFhURQF7hQBngIHt0v2K57XQwM2xkbvKor3Ny2OKrmPa/3mR6JouQJKzMZYENRpFxmgubO8qvBTkQgNVRqBLEHNbV2azdnl4M8S4FkTmu/BUaVbyzEBG2PrCl1wN5hdF9HdOKbuDQmVOEFigKIU+VEGKYNGd+MsQUU4kZzk+XUgacTOv4UWKBOGdvXtxsFlCScuHFrY+FB2pACaQx19vk4as/gat0NJG+PwmcWLtqxUGoYpPrP4SsxcZfzeWj6zuOPoKcrvHZv7zGLYFSGaY266806HXbTzF4zRMaYE/Jh3U6J8v55o6OiNGjVUoQKcsFkcQKP5bintgklzhI1V7F/1DDCLP0RjdqIGiZMJlJckOlq/hf+/iW+IZ+T+i29ooPy5c6dOfcxLb/9c4ece1+kodo+eoDwacldf02yCekOZr1R5E+7N1HY8eb1O+fJCFt/rVp/+oNRbWNBLfwfOgFCjKMImugThkjEpjX6FH/OuX9vtfe6hidrrdBqSuDP/QBrNfkVpl8xRvNTjmFLwR957Rp6cIC30KOYz4xs43g6pThf/lhDfmtRvludUK0/iFZh2/7dZL7QqZzLjTUNKo2Lp8uL0KzZrCafd/zBVkiQG6rY/F2uFkn2OTr52axapsIcljuPCU4SF0cugZu2bR92ZrqcCE++/XH9TW5G1ky/bf3W9JtrVQtNAMYXEU10iA3VNi8za2GYlEU33b5HqAlSXS5RSEmJKkxrWroD66ZDZCky9v+C3fPjA5/nx2uHJ0OAsmbH670tPwqn3P0QVOU4UGKj6yAra8sXD0YsqW2OtUUFkkFO0CQ4xDSGmMakxbT9V50VuU2Dy/Vut0uAaT+v6Mv4z9XACVLJeGajN/k4WlXdtbURT/lujgogkQrWL3Auyau595HOf3AomtyIH1cRZMiaHmpybjmjO1hYvc6jHp/+NaM5/uDrh7IWjC1sfLGJhewSYHcppF4RspAezmb1YPX9GNdeyJwgmwv6x3l05b0sHXjM9LY5LUx3zl/IxJML+MJUXJAbq5IcZ5QzZJPfkyiOQRSrMD0WjySIIMcKkjt6ZXi3K5VVgKuzW/ddoaXeLvvzbB1blxi8vlESHetzWrFKdosRA/afQE61Cx+IyTcBtkSqBbHgc0UlyE2Juk6pdS6+uWyYrMBl2qaxz5AdFGuHVR15oD0fVwe2+fqElnAz7w1Re4Bio0eIS+VjpYvKufH2QNarDBqhU/uQjxHwmtd2ijGrK2Z0VmA472cxXWlkb8uXgZurhBKhE/jBQr+39RnNwm2SahNsa1e6AVCJ/0qdIEvkTmymLeuHxPkSzcMPVCWcvHF3Y+lDyR4S9SMtVFyPtKWb24sYldrV+uqoI1v+ITalg2x+D5QdTC+CwtNGero7+DPU/Pky18RwDVfm0HypRoJb7SuXVmkUqMLKIpmfnPyPEz0zql1Uqqe4+1RCsAFJ5dn38T/XnGi07krlfdc3dfK7WasvnyCrVzksM1Ek12qOcfR9rtO6IRSosO8A5OaE0IZY2qbc3N1Svb+yMYA2QDSOj8NN1Rd1d7kbi+gOj5NJX++GEa4B8mEpUTAZqmW96I7R/tHxn0jjNGhW4WksST1SEsoRY1qSmWNZenbBiFoJVQErO+QyXyFvaV3qEqYcToNpsPAPV03Egmlb7K43WHrFGdYDZJFF/gIJJI3/yPCmi9hnZAdHiI3B1wtkLRxe2PpT8AX4ykkQTVdK2XEn+cRsfH2jPuG6XldsdqvlK0ym3bysll2bQaRmAE4X/VsbuWItpGYD+j8LVy2NuarQMgG1wevWHzntlWgYA9kWo9jhhe+i2gM0YH2NWwM/xH1v91FPuH5kR08z8UCv+gM38YRxZcBRnMyfhqVR51LKvPAgWAvgQjt1odoHNN4me41QjxGomtXD/hsreuBgdZh9svykaDc+0TWtcaov2Z/uTWvPtWRiyD36YSgQpA3V+VCksxRTGpdP8Ilukgn1c8o3jahJiTZNa1lFA2Z67lw7zD66RH8ipebebJj0suq+JNujuUERzplimukQGKkbDsNqzkUazHlqi2kDODvLHJXJ1CLGOSf1Tu4BO5x+owwyE39yohO60i6MZCPG0hfnx4bwOLeEMhB+k0rRHDNRT/TPh8L25cYoMOZBFqgCoAu/k6xNifZP6Q/Mx6Kutw3WYgzB9+sHywvsn99HEh0w9nACVyDsG6pG3fXC101EazXxoicpJEqTanKJCiPYUH/fQILcik1vBNCsMELILBq1SanxfR6epa7KsG6dMlVvoNPUhXJ1w9sLRha0PIWRtNtiLImfnW5K2tDR7MUuWA8qUOjN0mA+s/vgvPbqtDRq25q2WefBd+eiUc1rC+cA+SHW47CIDdeaR2ujPvytq2TdlRRapwK3D4SQGRxtCbGNSD39yWimabIUOM4Kt2PDK02f55zJNQ3awZRROOSASb42b7rFKJZ3MQE3XoQgaH+3CNA+ZNSoPPIQcRB3g2xFiO5PKZ7umbNiwVYc5wX4ZI7qv7KyIXh4vhjeuzYLyHs6IE84J9mGqi5cYqBsecyg203ZPvfVOZJEKXE18GwQxhBhjUrfvuaO0TK/pMCvYn1+Xdi9p18OXioyphxOg8gLHQK0yKgvaubMUprnIrFE5J6RygtQoaeTP1tw7lSurB+s0GRlcnXD2wtGFrQ8lf+xg+5667HG9SFt6mb046MetyoqxXgzToE6bXASrYhY8pkgq/G+7iXIu11OGNKgfpvKiwEBNPnKxtv3bNmjU7sOyRSrYcBUEUZL6EGIfk7ry3E6lewUFw0SohbdeqlCgj+bLvjrjUF904/4iLVWB5LJVqlMSGKhxj2fIBUv186VftUgF2/eCaBO5/oTY36T+jPcoyXqP98BUqH++zo7bxdzQmswsh1eUWCz/PK8kQyrUD1N5h8hArbhwn1Z4vYxyHMqErFGBI7ZTIP/xgwhxkEn9p0+sUmFtGgSTofZJsdVdpHRujWZgZerhBKgOUWKgdnD1krPiGF8KVmtUeAQlOO1OsXPSyJ+lizcqL2dG6DQHK1ydcPbC0YWtD2lkgrNnwUUWC21LEhjNEU0PKadf1NJpNsRSY/cq3zyoq9NsiK2Lb1GeO+rrNBtiit7rlGS/1NNpNkTYF6HkqRDQHrLghxrjY8wK+Dn+49BmQ1C66FYyTVAIteKEjeYAnIMjC47ihpq4G8NWKA/W1dZhPsQP4ZiNZpu5N0apgiDNIMQZJnX2Dpfa4MyfOqxk97bbec/Cv0aguCYz3Ze3l8afpZ4fm3Aluw9THYLAQMUyh153OkiL9mFrVHNvjFB5wSZ+TYhfm1ShRkX1aKoUXljLLk3yKrjGm08QLaA3qkEE/saT11d/wyrVYeMZqN5pReTu49yYVtCzSDXzypM74GziXEKca1Kv/1tLPdwgixdWs8s84XPtp+8Ho7ZL4zxjpHS4+ZJmWsLV7D5MJSKOgVrJ3gA1+3OPVqbkLc0iVQRUm52XFhDiApM6ZUtT1Zk/vxfWs6up1sNy9ZcyLaLH1MMJUAVeYKB6/90mP85fE9MqetaoZspZSuXt/ERCHP6RDw1yK4jciq/CCBCyuztHqnde7tNpGRRvW14Na35Wp2X04OqEsxeOLmx9KCErwV60c5K0krRlpdmLV4dXVbto83VYW+qYoyO+t/IbrXzGb+U8Fy5rvXbXQQnXlvoglXe5eAbqKj4b+rxlbtRMy4IsUl2ASlP1rCHENSY1877G6p2YyTqsLpX7cG+cucs0Ny1p1TTVavlp1rm0EhG2SiXyh4F6KnV+9PT7mr6aVtaoZoJ5QqW+ROsJcb1J/Xx0jNps5Ggd1pe6+d1APLrjP56jc8fIG/q10MrFdUEJ15f6MNUlCQzU3RuLoBybTsuZ/imGLFIdgEo3YzcR4iaTumJ2P/Vp5wE6rDDVdFAbXH3EApmWtWLq4YSoLpGBiutWRj0+L+Kra2WN6oSzyWnjhG+SRv5EvZTUqy3X67SwFVydcPbC0YWtDyF/eA72Ii2EvpO0ZafZizUKlVKPfXVKhyU129Z97hk5Ibk2/s1wLL4chH/6caSccEnND1MlUWCgFvk6q7azY2X8tFAhZJFqZoCxSRwvSbsJcbdJXXa8tDrbfk2HRTVz5cuGk/W/KdNKnhsWj5fnVu2Eiu75QbZKtUsCAzXP6YNaiwxDfKU8rVFBpnmbg56D7iPEfSZ1eMty6snZ93VYVvPJ0DXa+n1bPM0q9cU5uvTBn17MJydcVvPDVNJ0Bmqju4PcherVwwc6RyCLVAFQ7UQT0QhRM6nNdwjqsH7/6LCw5tRHbnz1xEWZVvNk6uEEqA6eY6CGpyuhPZ221lfO0xLV5pIgleh6m5NG/txuWEq9/cNBndbzhKsTzl44urD1IY1MJ2iPg+g/w5PGaO53/rHS8K9+Oq2sd3dfSvXU4Gk6razXdFA2NX/HZTqtrNe9+yfq8hebdVpZD/ZFKHlqC2iP6BK9xvgYswJ+jj8Y/FJqj6dLOUSL3UGtOGGjORBH03dRnNfEXfsfr04dFqfD2nofwjHHnktwDopk6tPxSkIn+wLbBivfjF6u0yICD10zlO9fT9NpEYF6+1cqP17/QqdFBAqV2qU84zrqtIhA06KHFKFKQ50WEYBzIOQ4gue8gxiQ0n5jXhodCz/nXccKfdpod5Z38+X1T5zHQBBOtIkUt98cx/xT/6foj1QdlhH4EI5584N3iJAqOcQ7hHjHpM58eFNfXPGCDh3e7XoJ9MOACvjka7d8f2Vu1GPEDjlRDu9BVJeDZ6DG7SiPZ/6WSds0pDS2SAU97HMCv0ddQEzqwrVv9cJxx3To8N6h1ii0tOooD3WzH7x4vvtyZDQChRoSTSV/GKh1YsNwpu63Zepmb40qAjOACAU7/ych/mlSS0zJ5D164aAOHd4LDa6IWnQujl9U2Ro1kjsgr5tyQU6Uw3sQ1cZLDNQt3ZvgtHljtLXDk2GLVKBKUlnEPSLERyY18nYB77HVug4d3l1dB6Mdx7u5qZs9Uw8nQCXrlYEagXi8vfAhmbrZW6MKcDZRRec6IZ75yIc/uRUPuRUcVG+nX80d+uf9HurUJeply8P6S8dNnbrZw9UJZy8cXdj6UEIW7Jjb7RJZHq9IW16ZvXg34yH9eesIL3Q4nZ45BYprXgtdqbxalhe0QMOyXNYS5XAaSHW6eI6BmqxFSe1t9Sr4wdQCyCJVAlTq5vovIf4LHE6vXNA3//apFzqcjmzTCJ1e+kCmbq7f9Nuh1XnhjW215XNslUrURQbqZNez2JQ/jMLUzdUa1Yw95e0CdXNNlpJ0YUo/tcW6e/p6VM4LHU5zZS6HDvQri+5MGidrB8qj0VGfJs7hNIgqcRwDdc6mjVrymM9wl7uRyCJVAFTq5pqCEFOY1Jazw7yba5b3QofTy4O7opQH+srUzZWphxOgEvOOgbrr5Fht5PyBmLq5WqOKYDYJ1M31adLInxuDY/Wcd1J5qZsrXJ1w9sLRha0PJX9csBdpafRMpAczmb1Y4rJXdzw7q8OAm9erfnWPOPUTDbjBFd50Ry+XaHKiAm6CqKLEMVC/ePqjduhTBa2ZnhZZpDoB1WHjhKyEmNWk9h16TF/x+REdBtxkX1QNXY1d4qFhPiOmTJNzF2iBD/W4bZnKcxwDtVDmg+5GJV77wnwsUe1mQkNCFYk+nYMQc5jUxd2v6ncXx+kw4GZxoXnylV1uGnCDB3VoiHqvvS0nKuAmiCo6eQZqxnNZcfstJdHqIy9ki1Q7oDolScpFiLlM6um+j/TYpft0GHBzYHBH9FvTJm4a5sPUwwlQXZLAQL1+MIN2ZuAVX5iPJSovwdnkJI/u1CmTRP7cxrv1L1Le0GmYD1ydcPbC0YWtDyV/gD+NXXA5HDxty4EUH7f58YH2VH1aHj+98tBnsF5BV3CuN/d8bvYHH5fRJ/37h07d7NNU7KX/cecPnbrZp58+V58Ue0+nbvawL0K0xw6STtod1NrJa4yPMSvg5/hTbDfaI3+/44lG/d6hVpyw0Qxwdo6nyg3F5TUn4drP4vQOdR7p0M3+Qzhmo9kOiohwtNg2xxEiZ1Ifpi+JZkxo7YVn95M3ZowaVqEmyvskP5p5bYf8R5NsKFFn90FUYqozUIcOqItS18yJ45rM9Fij2kG9Ul9VLzsh2k1qoZmTUESV7gFn95/yhbQNi4f5PAaKbKqPjx6op9GNRatUiRcYqAu2ZEYHS4f7PAYsUkHpW7udLEaREEWT2uN/P6Co00MCzu5n/KC7f1kXg8qUvCWvm3tb7jl6j5yos/sgqihIDFTbHAm12lUOt10a57ZIBcVv7YQpuAjRZVJTnbqKot58GXB2Xyz75NiUx/si6jHA1MMJUF0ix0CtMSkcDSzM+zwGrFFh8Wby1BClkoSYP+XHPTTIrSByKzLdNwVC9hdtoVa5dmUv3d09M7a2nO94PS/1GICrE85eOLqw9aGErAB7kSYUr0TaUsnsxRQp9svz/q7mhWdnkdWi8NtW4+SnhQrhQ+smylH7BqJEnZ0FUR28xED9e1857VCNYp7xb4Yja1QHB6h0q7AqIVY1qUtulUZn5tf2wrOzO8OPeH7q6ET0xK6U2BVN69ReK7rnB80ilaZOYqAmO3VMXtuitUxP7CxS7YBKC3zVIMQaJnV2+Z5ITdbIC8/Olp0sjS+kvSsf6ByB89/7Vg7/LgYl6uwsiEo0dAZqma/7akU299OaVeqLLFLBk1vgnHaxNiHWNqlbD8xEMXlbeeHZWaHFJSqUedIS0RM7ph5OgCrZeQZqprC9cmyJLbH0xM4aVeAgVRS4qKSRP8P3dnDby1Xx0hM7uDrh7IWjC1sfSv6IsBdp/bumpC1NzV48UiSV/uJ0Ay/0HeqRrg46FltDbqZlwd07/a2JmaomzncomMpxDNSOoxw43d6CuHzGbzWLVHPDlRb7dPAtCLGFSS2336XfPt3SC32HDkSekNevbIaox5LYPNbz7dwL8tMfOyOrVF6QGKgTZo7Ak3Ol1qjHkjWqExQY5ATyXGlNiK1NqtCvq169WCcv9B3KOKIMilyzjfoO4YITyuBqzz5NnO9QENXJcwzU1I8jcM8CVfDRuWM0i1RQrIajQWPRhBhtUpvhifqe5X280Heo4DFeznS3E6IeS0w9HJpKA+QYqNHbPset5mzVqMeSNaoDziaHJHD1kkb+RGxfjE9Vq+mlHktwdcLZC0cXtj6kkWluQkqSS+Ik2pYkMJor/ZIMNx2X2ks9BgaO2aEVKpfLSz0G0h4fr2XfWtxLPQa+a/WFlvwXh5d6DMC+CNUesEUvuWiN6A7G+BizAn6Ov6ra+ux4Tn5Npkf4UCtmMJoDcS5eorgOJq76hHXa/6bU8kKPgQ/hmI1mAeyNSS4a3DeEEIeY1Ij0u1HtrHMCosQb3WiH5wwZp5VO84t2oPk6OcNns+RERYkHUXmbyEB9vTGDvP15L9S41BbZItUOqHSHYDghDjepcwe8Qdu3jQyIEh+Ud4q2dKVXo7Hpc35wo64VSvtCWCxS7ZyTZ6AW/L0UqlNLRjQ23SJVBFSa6WAkIY40qc1zFlSedW0eECX+04ha2JkiSkuRIQcun/Ke3Pfv63KiosSDqS6RgRoZ09o9KKolylMgJbJIdQEqrc83hhDHmNSUK13KF5ccAVHiyuZ7np9cLTQam87UwwlQeU5ioK5vXxj9kM+FaGy6JardBWcTdVzoS4gdP/KhQW4Fk1vxRegAIXvhTne5xhvdF0dU7nELpGfa6ItNh6sTzl44urD1IYSsYPrX8HaRxtVNIW2ZYvai88kenL/qNh1Gada7lBvtXMjjUbsPa99eSI8rFgqLSlSUJqSSXiSKKwO154a6WMswRRtTJBWyRuV50FaJrMnphDjdpGaUMuh4xAYdRmnanKvk8q0q+2JDB0Q1k3MUGoJSFUiuWaa6RAZq5M6B+FJYD5nGhlqkgrN8J8c7+VmEOMuk9sov6n/8sUKHUZoTe92Xl8zgcI5DmbB4x4W/6DHJnagozSAqaS4D9XrKSPyw0AwakYosUsHpq9NGNLk5hDjHpF5O1VIfv26RDqM0M0/f4q5X57/YUKYeToAqShwDNf/NDvhxhmEyjQ21RgU1dQhVkKSvkkb+zG5SFNcttscXGwpXJ5y9cHRh60PJHzvsRbtdEJaStiw1e3HNnNooR/3HAVkq3mh95MF7a6Dsm7JivUhaeXvJfDhRWSqCqMSQZKA+bupE8za91IateStbowrAD8MpiE5+BSGuMKk/fzEBbdyU3AuzVPT5JovW9FBHX26MbeP74+aHFmpb46a7rVKdosRAbbZtiRxZtrsvN4ZFKjjLp1lehdWEuNqk/u/sGlQoLoMXZqnY2WmyvKttUVRvvRP/c7WGPLVU5cRlqQii8gLHQD3XqCzK8XSz9vJ4MWSRCk5fnTT7yDpCXGdSz17Xkad6Di/MUrHkxEzPZO75Ppobg6mHE6A6HDwDtW7Z+XLUyIa+3BjWqHY4m2h+l/lJI3+6DUuJdO2SLzcGXJ1w9sLRha0PZWRKwDfBSUwhrmPSGM2/TjigPWt53RebvmTnH54jyllfbPq5emvca2OP+GLT04+qLl94/KMvNh32RSh56ghoj5OXNhrjY8wK+Dn+AMaNpXGNtRUwDRaHWnHCRnMATqIJWihuo4nTCnwhjwnHAbHpH8Kxu2fzNki1SwIdsCT0s/+3eF5FHbPP52e/t8sv6FXq/T4/+2dP26GOZY76/OxzVRsszzl2zudnn6rZAu1l3A2fnz2cBCEHEjzoJRsncN8aE9PoWfg5fqUmvDPitUkadXxPnMtAEM4lShT3rTmQ65v3w4+7/R3gZ/8hHHNRAujmIfE2kaNjmCzMHMe05H85Nk9A9Gq4u6DvWrQwj++6PiyH7yICxXf1dafzXbsLpvRdxhiid/PAEHAYjGvaMPjVXB2T61/5SIbWuMyTFmoXeTiKnnsR5zrVRn3ddg9yTSqkP58Wo/LXH6HGQxvo97L0UHOVyK6g30bqNeUB6sM/Sykt0szRMzwZqUY/QAoW1+qlvxynwnkTcrwF2BeSTdyc8r85bQwA/Bx/vHOFM9qeo05UuURmluoFH8RRj2mK22yO974fWyrjBnr0lwNnJIhjXrgOGxQX1MX4d0L83aR2Dw9TU+1uo2a9GmVWD6z7h9bkWDM5c+c2qNzatxr5jsu3bcqepyuIKkkSA3VInlPa2dxzKBVbpAJPMIlqQH8Q4h8mNUPnZOrbT9qptfKXMesHTlutPR2TCY/IVxkZcgj2cKKpRCAzUCsXKKdVXzdf2z6jD7ZIhQtZstn4+4R4H3i9xSZX85fpqFY5XsAMJa+YGWfb9CrqevLGKObEU418x9q2uey2UBCV5yQGarobi7V6Vf6SKc0iFeyY0C0g7iEhPjSpp96kUm8f76bG2DKbiXTzHdf6trbj3ENzso1rQlSXyEBNmb2p51jHPZ43C0Zia1TozSjRAtjXCPHUR2p7hugIrvOTu3iYeupZG3XosdbqoLJvlXb/tlYHXKitwtUJZy8cXdj6EELWAQpe2GkiIu4lactLsxd/aHRXKTxtuNphW3t/Lw4oGoHSNq6Ei7afIWeQBbylzyLt3Oyi7AeIQVReFBioWxyD3Z26tUPdez+1SAUFL+wuXpSk14T42qRmGnVTyT1vnLoPdTD3nepX0C6G98EpRs2Xj88vin/feMfz020VW6U6JYGBahuWEff4XUH76++ySgX7Ti6BKBJvCfGtST0895qy7qtp6qwJZg8fPnRJPlqlDh52/qx8cIaKD3Ya63mhFWc/QAyi8g6RgbrhSGu5ZKvuKPuL76xSwd6FyyE4+XCyeuj1rujn2qvKi/5z1VVTov3UlW93aWe/aox/i7jM1sMJUB2ixEBd+OsJLVXVGPS6fEuLVLh36nIQk/5x0sifHS+fKJ4uPdU1V6NVuDrh7IWjC1sfSv4IsBedvJ3PQMgZzF5cVvkTNVyOCZAEfy8tj6tGvtKIJNDyvNzjbvV9RZw4SRBIJWKPgfrv3v7o+MtXHiL1LFIdwEjz+eVmJsTMJjX7mLJqi9xdAyRBhr4SbjejkE/+FOrTUWsTUQCRGWON6uRpGiQG6vgjvVCduSc8VP5YpIKSbjwRBFw2QsxmUntKbrV5k94BkuC3VuVwvVdFMZEEWrfGa+SBP5XDiZMEgVTRITJQ7wzuippor6OI1LNKBSnaiFbg5CMIMcKkjuZrqdyvAwMkQeba6XDa0S6f/GHq4QSoxD5loI5NNxS9mLHHTeWPNaoAZxONg0qZKknkj+DJrF68EO2TP3B1wtkLRxe2PpSR6QIp53iHwy7StuxP+dF1G/GH6zaqtNzehOjjSvH5dnXMrLFqh/UXlSqjotSa14eo4a1vKdNXVFVPP++lanUeK03ON1DVmR1V2Beh5KkI20NtrNzG+BizAn6O32dDGiJPf35OznE7OkAXT9hoDsKRBUdxuc1J+P2a5GqWlB3VeQ+aJ4hjN5olkISUd3KSVJYQy5pUo4q5SquY+/1f7/dGtSrs0na2ruTOs2619pKPwclfr2c/QAyi2iSBgfroZl4cs3GR57M7NZFFKsh1ybs4h2gjRJtJNaq0q7RKu19pTZcCTT1TEqf7KR02SqLS2pjYKpWmBUqYKg7qi5eNqqm13ThRtkg1H8u+BHecQIiCSTWq0Ku0Cr1/g+B0MzR0bVpcxlkq9uGNVHh+z4a4X0ybRJivgVSXU2SgZjySHLsWX3SfONgCWaO6gCC18zZiGRCi06T2aFIzqsjbYer3d8wAqOHOpfKTNTWx8iQV27gmQOUliYF6pF8vfHjit1HOjFi2RoXpbu085xJLEGLeVB9d61c2av2i92v9qrQy7Tdd6ynutZ3VVQtWqHB1wtkLRxe2PoSQFTnYi9QVXiVkNVVwuW81qNy3ZpT7xka5b5xwue8PU4n+yED9rlNVZFQ2ly1SgUpld/ASV5kQK6cKLvitxlNlHBtVxrFRHBpZpRIzh4FqlBn3GGXGrVCBSmUXnQ6+GiFWSxVc8lsNKvm9zyj5jY2S3zjhkt8fpkqCxEAdvasoMqqby9aoYAvYaZc4UahJiDVTBRf9VuOpNI6NSuMJ93ACVNJ2BqpRalw2So0nnupwwdnkJKpy+aSRP0atcRXUGldBrXEV1BpXQa1xNb5a47AXediLLokXGhNyY7D1kGeScunaaFU7Pc/fi02+SonztG6Af48YKj/JN15eOvKiNvB8G/ancxDVyUsM1D6Tbmgur4yWjnirWaTCogk2ook0I8RmJnXNhElK8QET1fuV5/ipD4q+cI9+OBTvn+XUMh0ahF6em+Pe9HisbJXKCxIDdfyF7HJc8VKo3cYK2CLV3L7nBJvTxbckxJYmdfy9icqBajPVrUu/Njftmvyp9bZ3wFMm1XNH/jxBjh1fVTt7uC/70zmIKkkSA7Vh1FttxoJ66NebizWLVBeg2m2c0IYQ25jUY9UmKBejFqjNbs8CksAuf3+zEz6/5xjbuCZA5TmOgVqw5lb3iOKNUMnMmbE1KjiCIlSOk+okjfzRVk1QFtXrr3ZSF6lwdcLZC0cXtj6kkcmD9lAHKtqWJDCar3E7lLQxDvXy7Gnqoi0rlYZhipr97iz1SsxcZfzeWqromqd2HD1F+b1jc/VEn0Uq7ItQ8tQO20O1jXbG+BizAn7Ou1lRvl9PNHT0Rrl++4oa1IoTNpqDcGTBUVw7E+cIG6vYv+qpHpy4PEEcs9Esgr0xThA5iRtEiINM6ubSTvW2MyLAfE1+vJ/mPpYZEfMVn1uQD/e/JSXOfA2i2pwiA/Vu26qoVqvCmJjqHotUJ6DSsNyhhDjUpA5YqarDtqcPMF+v526CCw+756ZGc8lNaXHfrlPddG1ZpdoEgYH69uBCeUXP7pgazdaoYAuGE1zkxReE+IVJvZypjvrwWPIA8zXqznbNle2QTMxXLMy5pT1P1TZx5msQlahUDNRqn8SgJpH3NWKqR1mkAkHqsNkkYRQhjjKpNau0UPWmrxRovo7M2AyfVJNr1Ghm6uEEqMQEYqCOPvS3fOCvmpgazdaowJuRUDlJ+pwQO3zkQ4PcCiK34qGiAwjZkXuLqa1nRfoE3OBTZdRr5Qv5jGa4OuHshaMLWx9KyDphL/IuQZhEyJPMXsz7KErd4I4KUB8jz7bBJU6ViSLqo5ytG1Ehl/eMSpz6GEglxhUD9UzeW3LOeq0RUZU1i1SgUvlqU04lxKkmtfnfNdSxySoHqI9rnnXBTxw/alRpHTfjnNw2VTQmaoZmlUpMSQbqg2thaF3puzJVWi1SgUrlcDgFYQYhzjCp+qZm6oRZtQLUx6Xz++OcBc5HEfVRfnlpoZbiXmo5cepjIFUSOAbqlXpp0KA6zRFRlT3WqGALmHM4OYf4NSF+bVLfXumkXjnRMEB9XDi4DR4RvUCjSitTDydAJSYQA/XB+dKoX4OXMlVarVFFOJtEl8iNTRr5s/MXTl0WI/iUVrg64eyFowtbH0r+uGAv/l9v5x0mRbGucRDYWeIuknHRVVCy9vT0dDgwXVUiCCIS9BCVHFSUKCyCrqACioABUREEUbJeBZRDnKqVgwlUgnpE9IKgPnAQMYAKqHir2oL+phm2e5r77EIt/QfP/KZCV1dVf9/7mmZUn8fJ89xW/O+2K8gvT6GU47OhatlkpS/vYKUWbqe9cwvZ/NHzE5kdn6VSDVUJQC190arkvhpfJ+qNuR+FpLoHrorjTbmAExe41FjLBuSDHW1Tjs+2T7qYbfzrcyoO7YxLjiU63dsBzV9Ug4WlqpoSgPpLm0+pkVcNiUO7kFT3+F53vARe4sSXXGqvZxuSVas7pxyfld06li7a0Y+1Smynl9wzjsUG9LEzOz5LpaqaGYC6Y9ypxLwNLyVQq/tRKKoBjoD5ylrTtcWcuNilPrmjGUnW7JlyfNb1dsw6vbeAikO7QC3sQ43rSgDq3Dk2bbOoNhKHdqGoOngFpTtPs9klM/+cal+fjMjTnUM7eHfC0Qt7F9a+2E2mBuqj82Vk/5LZNA+Z9RWu0q6Rs2l+WP8d1xl1lbNpvrpmRdJtxlXOpjlram3S+/lGzqYZtkUx9TGUlPoYMX2Z7B85KuDnnFUJnRWlnw4sQGIXC1fF/pvmVBz/xxS4ZS7uH7c0I3umX52yaT4fLrgYgQEHoRGzVNFhK8v9v+VVsPPnVWAR19509XCszt6ORUfe2Wcq/mncYby421RyAD+LW/95EanSewq/Xoof2p3rXPe6Yi3uOOdSIv4PHATFdqQO6ig2yyvkwJQtCz/nTMv23fBb8sijXWmHQeMyDBnw4PjQEbgVbkfuGfoRvnSLSj6xp/niAnekocUg1bT07Zy4PcvrJIA9TgJIOgkg6SRAM3IS8FAtSw1AjRU1ZNI1gYakghbWhWX9LhEDkuV1EsBp/AsS0r8gKTNXaFiqqigBqNK/gEr/gjBUC1CFlsWnnPhpltdJAHucBJB0EkDSSYBm5CTgofJnVQBqfsG1TLombApHBRlJui6ew7s5cXeW10kAp/EvSEr/Av8W9qHy+zUAVfoXUOlfEIIag6NJrHTe48SNWRes35uQWYj2ufq9GPgXYOBfgIF/AQb+BRj4F2Af/wJDh62ox1TlACcfyPIqeWOPkrctlbzP6IfTjJS8PVRV1QJQ/3j5f5NStRyFpIKHpm7omvktJ36b5VXyxmn0wxNSP5xKxWcalmpoWgCq1A+nUj88DBXsA3SRLXuIEw9leZW8sUfJG0klbyqVvGlGSt4eqhrVA1Dn5T9DpWo5Ckc1wD7AEK/PvuPE77K8St44jX54UuqH+7ewDzWumgGoUj+cSv3wENR4HFJjMf2Lkpl/pH44BvrhGOiHY6AfjoF+OPbRDzdM2Ioi3OwXTv4ly+tkQjxOJrZ0MmHSycTOyMnEQ1UsPQB1Zk5ZJl1baEiqK5SsqvxmUU5w4oksr5MJSeOfQqV/ii0dL1BYqhnXA1ClfwqS/ilhqAagxvif3znx9yyvkwnxOJnY0smESScTlJGTiYcaU80A1Fo51zDp2kLDUd1YbU7V4pp2mhNPZ3mdTEga/xQq/VP8W9iHqmtKAKr0T0HSPyUE1YCjSdM082jJzD/SP4UA/xQC/FMI8E8hwD+F+PinGG5ADa+P0CYTdXk164JVJdLVRwoBYOBfgIF/AQb+BRj4F2DgX4B9/AsMK6U+ZlQvHfm7f1L9C3Aa/wJbGgqcXRUH2DSn4Ax+wwmcKKn+BTiNf8E5uMCbZjMah1Q+kdbixFoRrygi9ogiUimKeEaKkWYkiuih8ok0APXmA32RFIC0Q1JNQBXRbXU5sW7EK4qI00gx2lKKkUndjmRYqqlqAahSipFJKcYQVKBzrwrvUbUeJ9aLeEURMRRFbD7g1qQURTwjxUgzEkX0UPm2IAD13fvbIykAiUJSwUTK7xtdyxfEiFcUEaeRYrSlFKN/C/tQLV0JQJVSjExKMYagAv9oTuW7hFxOLBO5YCkiJKWIEudKEWEgxYiBFCMGUowYSDFiIMWIfaQYzRhsRaEz3YTXpUnEK0qGPaJkTIqSUSlKhjISJfNQ+YYjAPVPOoJKATYUkgqWVLG4FVebc2LziFeUjKSRQqNSCg1J8apkSKquaGYAqpRCQ1IKLQQV6NwLBTZVUzhRiXhFyYhHlIxJUbIzUmgoI1EyD1U4jPlT1wyaRqUAGwpJBU/umGnE9BgnxiJeUTKSRgqthZRC829hH6rJf/lTpRQaklJoIagqHE18qlXql8z8I6XQMJBCw0AKjQApNAKk0IiPFJoJHC/4GNUsPcHrkoh4RVmxR5QVSVFWJkVZN2UkyuqlKkoAasc9tZkUoLVDUnVAFQ8wzIk44hVlxWmkYG0pBUuleKcdlmqpSgCqlIKlUgo2DBXo3Gvi8dyKE1tFvKKs2CPKiqQo6xkp2GRGoqweasxSA1AfufsIlQK0KBwVWC3zfaSumG04sU3EK8qK00jB2lIK1r+FfaiGogWgSilYKqVgQ1A1OJq0eFTVS2b+kVKwGEjBYiAFi4EULAZSsNhHCtawgHW0GlPiuqhLCWyapRQjBlKMGEgxYiDFiIEUI/aRYjT1lProutZO9k+qFCNOI8WIpDbi2VWx/6Y5FadFDV3g2kW8Uow4jRTjObjgm2ZwNsapMd3sw4l9Il77PeKx32PSfi8h7fdYRvZ7HqqmawGo01ZU3iStBlk4Kjgb4zdbLKb358T+Ea/9Hklj+sek6R+SDhEoLJVP4AGo0vQPSdO/MNQYoIrUxUGcOCjitd8jHvs9Ju33ktJ+j2Zkv+ehqnE9APXxtUVJaTVIQ1J1QLU0Q72dE2+PeO33SBrTPyZN//xb2Ica180AVGn6h6TpXwiqCUeTFTP07pzYPnLBpjdMmt6wc01vCDD9I8D0jwDTPwJM/wgw/SM+pn8WsDqNimlWHcXrMiritb8iHvsrJO2vbGl/xTKyv/JQozE9AHVohQ5MWn2hkFQLUIXK0BhOHBPx2l+RNKZbTJpuJaRNEgtL1eN6AKo03bKl6VYIqqtzHxNOcTF1HCeOi3jtr4jH/gpJ+ytb2l+xjOyvPFQ+BQWgVr6/OZNWXygkFTy5Y/GYpk3gxAkRr/0VSWO6xaTpln8L+1A1TQlAlaZbtjTdypxqWnA0xVXNHFoy84803SLAdIsA0y0CTLcIMN0iPqZblgpb0Ygq2mRel8kRr/0n8dh/2tL+84zpKMvI/tNDVRQzALXZ9S2RtDpFIakmoJp8JfIIJz4S8dp/kjSmo0yajjJpE2mHpcZVMwBVmo5SaToaggqslqMxy1K0xzjxsYjX/pN47D9taf95xnSUZWT/mULVFP4TgLpgZ1MkrU5RSKoGqMINbCYnzox47T9JGtNRJk1H/VvYh8qf3QGo0nS0pTQdDUEFr6A4NaoqhSUz/0jTUQJMRwkwHSXAdJQA01HiYzpq6mAnpKl8ede+ZDbN0vSPANM/Akz/CDD9I8D0j/iY/lkxWJ+YZppPyv5JNf0jaUz/qHThO7sq9t80p+LEHSdwT0a8pn8kjenfObjg4dkKHIQa/ys6rATj7KV/AQb+BRj4F2DhX1Dzb/8CDPwLMPAvwD7+BVbMgnU0FWWWHJip/gU4jX+BLQ0FMggZSMXFNcUUuFkRr38BTuNfcA4ucEdahg6pumau48R1LnXuizXJdY+qRTDifdXReXZ+6eFo5x8J+8oKdVnFhfzGzCTi3UM1NC0A9asnT9itP8lhr4xrykJSYQuLQIWNIgbEpVYdWYesqXBXEYx4P7nsa7qw6iAk4uzbFt3A/tWDUuAQkTHViqsBqIt75NAHuzVmIs4+HNUE+wBNBCpQTqQutVTfeuSKcbOKYMR7UWEL+8V5E9CJ1itbFuTmMHL6ZCKjiHcP1VKVANTnvroEvT08jy2ZUJqFpLqxn5al823lW5z4lksd0PsK8kyzVUUw4v3bXtms3fGbkIizD9TCPlS+EwhA7fZr6ZZ1l9zIRJx9OKprIC2oUV1ZxYmLLvDpz78K4l/F9rj9vDCpOimjzGQiJqrHyepk+8xfmYizh3cnHL2wd2Hti5tkLdiKphLVt/G6bHNbccULMdKpQhsGI07xFaNYw3rtE19et8guVb5P8vb4aJRRxGkq1eDjNAB1UzmMov8tsL+fXg+FpJqAyleP2kec+JFLfah1K5IYcT2DEafXzerETrX9zRZxrjmj2tqJ7rNpr9eHs7BUvkQIQH20XT9Uc+TPtohzDUNVFTcHNcbXJGZU38mJO13qwde6kP0rBjMYcdp87jCG/j3RPvToZLvTmJZ2072jMoo49VKtqBqAurywJTq+tEFiyOFmKCRVA1Q1qpqfcOInYC+7oB+ZuvBJBiNOGz/diDWs2xSJONdALexDVVUtADU5cAyacePDtohzDUPls54JqUpM3VIy80+dY/XJiML+TMS5wrsTjl7Yu7D2559/VCUKW1E46+zlddkLls95lUmtBccYzLiZ9kNlWuliU2TcsM3ZbZm65xKUScaNl8onoADULR0P07o942zxzPIoJNUA1DjfJe/nxP0udeKaiqSBUrcIZtzcOnoxLb9ORyLP5+2Xa6OTuxuj94ceDE3lu+QA1FP5x2iLgVc5eT7hqK74Iafquml+w4nfgHeJ+yqSpQvsIphx00d/gX7U9EqRccN+eKAD6/vUCTuTjBsv1TC1ANQmVZ+m39e/mS3adsIOSY0BKt+nKAc58aBL7ft8ZVJu1uAimHFT+onf6dVRhESeT6AW9qNaegDqvg1zaVx5xcnzCUdV4GgyLEX7rGTmn01VcsnunzcykecD7044emHvwtoXt/4BATX8gaXrmqjL7MiFnX6cpz6T7/gCH+x/vbNhxQcP4sbzKzlx9jsu/xU/+MYSJOLsR/90Efli0te2iLOPFlQkawdvoCLOHrZFcfOpCuoTFa7Nh2X/nDnrBJ9zNizy3bvs0c0qIxH4DlfFvptmL47fcAJ32MXtyqpDrv49yWCc/flwQTfNQiwOUMVxY6ls8T3dQ843LNL5k6MYvrxntsL+GPQOrXssD32xuilrFHm2ZSYv771UPpEGoP51x2eJOT/ejzb/84lkOGocLKk41NTKcGIZl6q1u5Z8kFU25eV9dpnWrN2flzkhAw90roHmJusycbIYlqqaSgDqWzPq23dOTjghAyGp4LEcjfNZLYsTs1zq/tPtydbOuSkv71vFOrNuR9fT5o2/tSeZFVj3F7rZmby891KjihaAmjN1uP3umwWo9/zNiZBUMJEKiUulPCeWd6mPvd6VGHl5KS/vbyAdmd32JBUhA4Fa2IeqRfUA1LdOr7J/zrvBCRkIR9XgaBJp1Sf5DHHkAh8a/Ksw/lWQODgFk+y6wc3IoZMbsTjefau3Skp1/xSLkAF4d8LRC3sX1r64SVaHrWjyh2813oLV3FZsl9+EfPTwLgxfntV/qqq9ZuB17Hh+PtNPjmXvbimkmbw881ANy9QCUHvf9FuicGoZOuXPCSgc1QBLqqilKWZNTqzpUhdsb0pmxfZh+PKs1iUXs9Kjv6bild3yeVPo7DaDUIP1a2lYalzRAlDrfPwO7VFpnC1e2YWkgiWVKvw06nBiHZc6oec1ZOesIxi+PLv58NhkfseO7O3BNVj1ISPYFZ9fQjN5eealWoYegHrs3sX2so2vJ7u1GolCUsGTWxUJznmcmOdSu7+hkfGjTmH48mz6Twm2d8fnVLyyC9TCPlTVNANQL6rQkB6fscQWr+zCUXUFUvkyr1J2icw/B7s0IQfXvoPFKzt4d8LRC3sX1r64+ceErSj8NK7i9bnKbcW9E9qQIfRZDIOHXlYvZsN71kbdaC6rs/sLeve6DhkFD3mpZlwPQP0oPhB999Jc+o/Kr9KQVAtQhZ9GY05s7FJzNt5CDg2YhmHwUO2tw1jOkBlJEbLUNWsRPV51Nj2+ZTAKS40ZegDqrkgeOv7mDUyELIWjuuKHnCr8NJpxYjOXOnziANKtcCKGwUPrVtRn1V/5WAQPseWjetBrNg/JKHjISzU1MwD16/8ZgyYOPJX8YPYkGpIaB1Thp3ENJ17jUhfOGkWOD74Hw+ChrmNvY23vf46KkKVALexDjepKACq76To0dHh9JkKWwlENOJqEn8ZlJTP/tDxpkr09l2ERsgTvTjh6Ye/C2he7yTSBcKWhWvqRktk0j/rsZ9zlx1FYhAwc3liO7CqYgUXIQNexF5O8gQuwCBm4887LyIsnXsMiZAC2RXH1sVLqYymaKvtHjgr4OWcFePZEkskh1zDxDh+uigNsmlNwJl+EC5zqDsJ936hk+vjNGIYMnA8XeNMcBXYknKorZltObOtSLx/dBW/YPCAlTfzZlk2QOeBy1jT7Q3q0307afXWunUmauJdqKFoAar9X+rAJVVbRW5q8boekAhVrg2969Pac2N6lXh2vh1fXvjslTXyx/b0dURNJkZzeYOM/7bGH73VyWMJS+Y0RgMrQeEbuutkWyekhqUB3mP9WlJs48SaXepTuRh/njUlJE981ugq6aENtVrZSdTZjTh7bWjduZ5Imfg7V0gNQ5x5oxQ713Uzr1CuHQlKBirURM6JqZ07s7FLXdp+EHl45ISVNvGLFAnvOkZ0tRHJ6oBb2ofL9XgDqtr9GsOs/bmmL5PRwVGiCYsT0qE44Ucu+sIcG/yqUfxUnRQdMss+NfRm3e7ODk0iUu3Qynm73cJLT4d0JRy/sXVj7YibZaAy2onCd7sXr0sttxbFbVuKFD76FYJpmmcJ59upXb0MPrNtKT/d9xK5lHaeZpGl6qXwhF4A6Y1p9RPRcNql+FgpH1YCKtaGbitKbE3u71Jf+swbf2QIjmKZ5+co9LeqNoE5y6OPvj2QHjjxPs+qVoaGplh6Auvnnx+1Lm4xiIjk0JBWoWBumaqj9OLGfS32Prcelh01JwDTNa+dstC9fZqPq71dhCxvOs997pjHLJE3TS43pZgDq0T+qob4DDoiUVBSSCp7chhU3tYGcONClnhqxCbdYks1gmuaIsisT9Zv+nRwaqIV9qHw4BaD2t+62q7IBTCSHhqNC1x2DX5m3lMz8M3/eCnzyiRpOcii8O+Hohb0La1/c/BMHrWhGY5o2jNdlmNuKublv48c6PJ4iU/HEthvZ0V+vpdVeqcpyCg7bHzz2HzsTmQovVdXMANROUx5KFEVvQ+MX/2WHo+pRQBVSciM5caRL3XrZx7hB6YUYylQsXP57csSLwx1xjHd6tkTl7mnGVm6emQhL5TNQAGqF/vXRlD6WI44Rkgock0wRCnsPJ97jUtWL9+Hly1diKFOx/GeFbaqyOtlxmcFWLMlFdbdWzkimwkvly64A1A8n6ckv11yLTm6/EoWkAo8bU0jLF3BigUtdvf4Q7lmRYihTcfSppokX+g5NCnGMQC3sQ43H1QDU1g/kojVrmjjiGOGocTia4jFdGVIy88/K2mvwl4sKHHEMeHfC0Qt7F9a+uPlHATshky9dFVGXEtg01+j6Pv74RHsnOb3Jgxvw3O9vcpLTb73qdfxbvJOTnF522FJc+sOOTnI6bIvi6mOk1MdQzfGyf+SogJ9zNnK52zhUoU8vKrLF4arYf9OcijP5DSdw413cgfEL8fdLb0xJTj8fLnh4tgYHoRkzNdFhJRhnX29VAZ478UUnzv4H63H85h8znDj7jv9+CW/Zf58TZ5/f5F/4F2WgE2fftcH7WGvdxYmzh4Og2I4ED3rTUjTlPjkwZcvCzznTstqI2+ihF+9AIvA9s5ABD07XTIG7z+3IvOnf4KKfSEqc/flwwY0J4jqkmpoiOrF0Kbcjy/Nf1V+bikTpsu5Spzw/p45T9o+v7hQ+ozhlZKKCU9ZdWs4pshPRmYEgZzgGOrZ8KfjTnUyqddreVulW1PxYDzLEnoD6zP4c1dp1G/mj93pkPZqPf5sxgKj7f0K33NsZf5c7lNRqWA2jrwrxDfY95IejTXCP7KdxpWOFpM/3CDN9CW760GQCB06xHQ6eXZaiK2Zh9t+DWvYA/JyzB/ktPqHrPzDYdQ1zMjMw8OBEtIbAFbodvnFLTzx5TBKfHPO4L674Dq/tdjhEaoopehr2do4IAb11OxLlsslDnTJ48BKnVPjsZae8dv1Cp3RZN98pvzaa5xQ+LzslUeFZp+wf/7RTJn/3pFP4fO2UDz+Y7pSRiWlOOTO60oyOnFLn/UHuZRG4zsfudV9w/QS4Xgmud4DrH8F1NnGva4PrRuDaBNdtCRzFxY4ycMdZIj52YvbffZDvrWJ3EmQUpXwcX9KKj5uYnebj+pJiR8n/AWyWWO8=",
        "encoding": "base64",
        "path": [
         "scene",
         "data"
        ]
       }
      ],
      "model_module": "pgljupyter",
      "model_module_version": "^0.1.17",
      "model_name": "LsystemWidgetModel",
      "state": {
       "_model_module_version": "^0.1.17",
       "_view_module_version": "^0.1.17",
       "axes_helper": false,
       "derivationLength": 42,
       "layout": "IPY_MODEL_cffe896bba6b4be9a72a337ec2eeabfd",
       "light_helper": false,
       "plane": true,
       "scene": {
        "derivationStep": 41,
        "id": 41,
        "scene": "<openalea.plantgl.scenegraph._pglsg.Scene object at 0x7fab127c7940>"
       },
       "size_display": [
        400,
        400
       ],
       "size_world": 50
      }
     },
     "b349b6082b68436a830311e2652d9b99": {
      "model_module": "@jupyter-widgets/base",
      "model_module_version": "1.2.0",
      "model_name": "LayoutModel",
      "state": {}
     },
     "b349ed08d7d84db7be931975d0f29cc6": {
      "model_module": "@jupyter-widgets/base",
      "model_module_version": "1.2.0",
      "model_name": "LayoutModel",
      "state": {}
     },
     "b3beeeb252564f9193c765e7fe7136a4": {
      "model_module": "@jupyter-widgets/controls",
      "model_module_version": "1.5.0",
      "model_name": "DropdownModel",
      "state": {
       "_options_labels": [
        "Color"
       ],
       "index": 0,
       "layout": "IPY_MODEL_1049120221a44f9698ad8be47c2dd830",
       "style": "IPY_MODEL_c8ca31ca5bd148e6a5aa1524e6d99e3f"
      }
     },
     "b40339e839344d96ba6ff6a53935e92b": {
      "model_module": "@jupyter-widgets/base",
      "model_module_version": "1.2.0",
      "model_name": "LayoutModel",
      "state": {}
     },
     "b483a839a4094147ab01f3c7d19bb1ac": {
      "model_module": "@jupyter-widgets/controls",
      "model_module_version": "1.5.0",
      "model_name": "ColorPickerModel",
      "state": {
       "description": "ambient",
       "disabled": false,
       "layout": "IPY_MODEL_4b847adc42dd44cc8851741209771151",
       "style": "IPY_MODEL_b581d53322d94699a5a19e271a34211d",
       "value": "#195717"
      }
     },
     "b4b34b837b2e417eb78863606b1d6e8d": {
      "model_module": "@jupyter-widgets/controls",
      "model_module_version": "1.5.0",
      "model_name": "ButtonStyleModel",
      "state": {}
     },
     "b4f90847a77b4195b5dc4d2c29806c64": {
      "model_module": "@jupyter-widgets/controls",
      "model_module_version": "1.5.0",
      "model_name": "BoundedIntTextModel",
      "state": {
       "description": "step",
       "layout": "IPY_MODEL_5f0d4143620941798573a504d9e748b1",
       "min": 1,
       "style": "IPY_MODEL_c0409f72c596451b915072be0153fdf9",
       "value": 1
      }
     },
     "b52d8d1f7a39435a937737cba39c4169": {
      "model_module": "@jupyter-widgets/controls",
      "model_module_version": "1.5.0",
      "model_name": "HBoxModel",
      "state": {
       "children": [
        "IPY_MODEL_c309dadcba5d4757ad170bafede09c29",
        "IPY_MODEL_e20a8ad2869c4320906c5ccb5a2616cb",
        "IPY_MODEL_62252cd6e6f64fb7aa4f68ce3e71f4b1",
        "IPY_MODEL_88b25b3d6bed47aabbf857ba0829ae88"
       ],
       "layout": "IPY_MODEL_964212339a614dc4b244dd85464c155d"
      }
     },
     "b57c6dbb68c64afbb95b8d317eff0d77": {
      "model_module": "@jupyter-widgets/controls",
      "model_module_version": "1.5.0",
      "model_name": "TabModel",
      "state": {
       "layout": "IPY_MODEL_20e3dd12ae594b74880fcf2f3311b803"
      }
     },
     "b581d53322d94699a5a19e271a34211d": {
      "model_module": "@jupyter-widgets/controls",
      "model_module_version": "1.5.0",
      "model_name": "DescriptionStyleModel",
      "state": {
       "description_width": ""
      }
     },
     "b5ad4c581bca4efb9e0e4e91dd0fc2fd": {
      "model_module": "@jupyter-widgets/base",
      "model_module_version": "1.2.0",
      "model_name": "LayoutModel",
      "state": {}
     },
     "b618285ed5684282bcdc1d912a0170cc": {
      "model_module": "@jupyter-widgets/controls",
      "model_module_version": "1.5.0",
      "model_name": "DescriptionStyleModel",
      "state": {
       "description_width": ""
      }
     },
     "b64a0b633c4c488bb06c6634159a6227": {
      "model_module": "@jupyter-widgets/base",
      "model_module_version": "1.2.0",
      "model_name": "LayoutModel",
      "state": {}
     },
     "b70440f46d284109b251b83b4efe6e79": {
      "model_module": "@jupyter-widgets/controls",
      "model_module_version": "1.5.0",
      "model_name": "DescriptionStyleModel",
      "state": {
       "description_width": ""
      }
     },
     "b763b1260b354b23ae6671768bc4a076": {
      "model_module": "@jupyter-widgets/base",
      "model_module_version": "1.2.0",
      "model_name": "LayoutModel",
      "state": {
       "margin": "20px 0px"
      }
     },
     "b7eb7c1fbc2c4fbab9ae3ae154813316": {
      "model_module": "@jupyter-widgets/base",
      "model_module_version": "1.2.0",
      "model_name": "LayoutModel",
      "state": {
       "margin": "20px 0px"
      }
     },
     "b7fff26df0ad46bbaeeb12519d1a0352": {
      "model_module": "@jupyter-widgets/base",
      "model_module_version": "1.2.0",
      "model_name": "LayoutModel",
      "state": {}
     },
     "b8a8455ce5b040d0b828e4487621af24": {
      "model_module": "@jupyter-widgets/controls",
      "model_module_version": "1.5.0",
      "model_name": "DescriptionStyleModel",
      "state": {
       "description_width": ""
      }
     },
     "b8b9b3ffeaac416c9b974d5332062d10": {
      "model_module": "@jupyter-widgets/controls",
      "model_module_version": "1.5.0",
      "model_name": "VBoxModel",
      "state": {
       "children": [
        "IPY_MODEL_1333161370364dc18b62b527843bccdf",
        "IPY_MODEL_a03e944e51cb40c5810fc9d0fa1bbb94"
       ],
       "layout": "IPY_MODEL_b349ed08d7d84db7be931975d0f29cc6"
      }
     },
     "b8d47ef44074438281319294176af51b": {
      "model_module": "@jupyter-widgets/base",
      "model_module_version": "1.2.0",
      "model_name": "LayoutModel",
      "state": {}
     },
     "b9fcc4919c8b40f2a8d2e8ea3fad4478": {
      "model_module": "@jupyter-widgets/controls",
      "model_module_version": "1.5.0",
      "model_name": "SliderStyleModel",
      "state": {
       "description_width": ""
      }
     },
     "ba2927804c224adb95a5bde918123c5b": {
      "model_module": "@jupyter-widgets/controls",
      "model_module_version": "1.5.0",
      "model_name": "CheckboxModel",
      "state": {
       "description": "Auto save",
       "disabled": false,
       "layout": "IPY_MODEL_64f9dc0574df4a11af6125d753e638a4",
       "style": "IPY_MODEL_44ee20673cb54cb197bb19275c2ee931",
       "value": false
      }
     },
     "bb16c1d4c8a841829bfb8da15b3bea9a": {
      "model_module": "@jupyter-widgets/controls",
      "model_module_version": "1.5.0",
      "model_name": "SliderStyleModel",
      "state": {
       "description_width": ""
      }
     },
     "bb79433b06b94630b6f77fbc405d30c3": {
      "model_module": "@jupyter-widgets/base",
      "model_module_version": "1.2.0",
      "model_name": "LayoutModel",
      "state": {}
     },
     "bc101f934e6546c8b4a4399a8ff52dd9": {
      "model_module": "@jupyter-widgets/controls",
      "model_module_version": "1.5.0",
      "model_name": "SliderStyleModel",
      "state": {
       "description_width": ""
      }
     },
     "bc2caf9b3fc84da494330dba24816842": {
      "model_module": "@jupyter-widgets/controls",
      "model_module_version": "1.5.0",
      "model_name": "ButtonModel",
      "state": {
       "description": "Delete",
       "layout": "IPY_MODEL_0d8106747f5f4d0a81928341852045a2",
       "style": "IPY_MODEL_3ec386de663b4617bc9f49b851f4ac02"
      }
     },
     "bc6a9e91763e4425a42d8b1641580ff4": {
      "model_module": "@jupyter-widgets/controls",
      "model_module_version": "1.5.0",
      "model_name": "TextModel",
      "state": {
       "layout": "IPY_MODEL_8bd7cf6dc07d437190fbda31a59b43c4",
       "placeholder": "category name",
       "style": "IPY_MODEL_768416184c784ccc90f3432b6d9b15da"
      }
     },
     "bcb9c01e8d5e4ef6a75414069738d87f": {
      "model_module": "pgljupyter",
      "model_module_version": "^0.1.17",
      "model_name": "FloatEditorModel",
      "state": {
       "_model_module_version": "^0.1.17",
       "_view_module_version": "^0.1.17",
       "children": [
        "IPY_MODEL_da94d7f0e6e045988d94aba69d5be576",
        "IPY_MODEL_c2a6d9ce18fc4ac0bc1a7f90b4c5116c"
       ],
       "layout": "IPY_MODEL_ffc34902c36642e1969fa8c466aeb653"
      }
     },
     "bcf7fee88c72467fbcc5a469b43e9f92": {
      "model_module": "@jupyter-widgets/base",
      "model_module_version": "1.2.0",
      "model_name": "LayoutModel",
      "state": {}
     },
     "bd21842443764a4e9cfc0fe5e99adc99": {
      "model_module": "@jupyter-widgets/controls",
      "model_module_version": "1.5.0",
      "model_name": "HBoxModel",
      "state": {
       "children": [
        "IPY_MODEL_f2282812a130441eac41b660ee49477d",
        "IPY_MODEL_ba2927804c224adb95a5bde918123c5b"
       ],
       "layout": "IPY_MODEL_62867ab47038465d8944dcad2437cbc9"
      }
     },
     "bd975fbe82284673a970cc17143dddb9": {
      "model_module": "@jupyter-widgets/controls",
      "model_module_version": "1.5.0",
      "model_name": "DropdownModel",
      "state": {
       "_options_labels": [
        "Integer",
        "Float",
        "Bool"
       ],
       "index": 0,
       "layout": "IPY_MODEL_155e496650f34366b813ae47225f42d5",
       "style": "IPY_MODEL_e6991f813efb4b118467f99c0776efcd"
      }
     },
     "bdd912ccd9594f2c93aaed30b1a57ee8": {
      "model_module": "@jupyter-widgets/controls",
      "model_module_version": "1.5.0",
      "model_name": "DropdownModel",
      "state": {
       "index": null,
       "layout": "IPY_MODEL_1e71076b6d304240bdd062f2d5156785",
       "style": "IPY_MODEL_5e9c1818473b44dab49b3d26bf241c9d"
      }
     },
     "bf0625eebb3744fc8cc55567e985236f": {
      "model_module": "@jupyter-widgets/controls",
      "model_module_version": "1.5.0",
      "model_name": "FloatSliderModel",
      "state": {
       "description": "shininess",
       "layout": "IPY_MODEL_06c676714abc45c2bd668d409b3f913f",
       "max": 1,
       "step": 0.1,
       "style": "IPY_MODEL_dc9722bd3a6e4f1e855fb518b2065abe",
       "value": 0.2
      }
     },
     "bf9f735211574d32bf9d5fa02ec1e786": {
      "model_module": "@jupyter-widgets/controls",
      "model_module_version": "1.5.0",
      "model_name": "HBoxModel",
      "state": {
       "children": [
        "IPY_MODEL_b1ed67a808ae4d98902e313123dd2c75",
        "IPY_MODEL_e647273f61494efb92b293f226b212ce"
       ],
       "layout": "IPY_MODEL_3423cf0a4514403f822864a725d3fedc"
      }
     },
     "bfa2cd7f0c5143b98b10a45ec7d2d66d": {
      "model_module": "@jupyter-widgets/controls",
      "model_module_version": "1.5.0",
      "model_name": "BoundedIntTextModel",
      "state": {
       "description": "index",
       "layout": "IPY_MODEL_856cb4dc10fd40959afd4f2ed68f4da6",
       "style": "IPY_MODEL_391878e8ba0540f5adaa617056b8dd47",
       "value": 2
      }
     },
     "c0409f72c596451b915072be0153fdf9": {
      "model_module": "@jupyter-widgets/controls",
      "model_module_version": "1.5.0",
      "model_name": "DescriptionStyleModel",
      "state": {
       "description_width": ""
      }
     },
     "c0a048ed609e4aceb6a259def78278e2": {
      "model_module": "@jupyter-widgets/controls",
      "model_module_version": "1.5.0",
      "model_name": "TextModel",
      "state": {
       "layout": "IPY_MODEL_1b6051bae24c473598c952d51984d1ee",
       "placeholder": "category name",
       "style": "IPY_MODEL_93a5e2d0c70d421d81cf898af8d464df"
      }
     },
     "c0bb2a0d577641b58e46f24746ba8a03": {
      "model_module": "@jupyter-widgets/controls",
      "model_module_version": "1.5.0",
      "model_name": "SliderStyleModel",
      "state": {
       "description_width": ""
      }
     },
     "c0e6e3c25e6e41948722f8a330ddc4e1": {
      "model_module": "@jupyter-widgets/controls",
      "model_module_version": "1.5.0",
      "model_name": "FloatSliderModel",
      "state": {
       "description": "diffuse",
       "layout": "IPY_MODEL_ec128f27e5d548fd89d35f652fb3d014",
       "max": 3,
       "step": 0.1,
       "style": "IPY_MODEL_b9fcc4919c8b40f2a8d2e8ea3fad4478",
       "value": 1
      }
     },
     "c11321e762b3422997689f94db4a71c8": {
      "model_module": "@jupyter-widgets/controls",
      "model_module_version": "1.5.0",
      "model_name": "ColorPickerModel",
      "state": {
       "description": "emission",
       "disabled": false,
       "layout": "IPY_MODEL_382ba098f6cc4adf8bfb135a9de7b6d8",
       "style": "IPY_MODEL_0ce5322222f04cda8b64b0849f810223",
       "value": "#000000"
      }
     },
     "c120885553c04d129fd38676ed6234d2": {
      "model_module": "@jupyter-widgets/controls",
      "model_module_version": "1.5.0",
      "model_name": "DescriptionStyleModel",
      "state": {
       "description_width": ""
      }
     },
     "c16429a9bfff45a981471a788dca62c2": {
      "model_module": "@jupyter-widgets/controls",
      "model_module_version": "1.5.0",
      "model_name": "FloatSliderModel",
      "state": {
       "description": "shininess",
       "layout": "IPY_MODEL_ecd6712976814a878c2eb22824a5e5e9",
       "max": 1,
       "step": 0.1,
       "style": "IPY_MODEL_6a96352f36b9452bba44e1ee4b108426",
       "value": 0.2
      }
     },
     "c1729e1e6a704ee9982e5f868755dfc6": {
      "model_module": "@jupyter-widgets/controls",
      "model_module_version": "1.5.0",
      "model_name": "DescriptionStyleModel",
      "state": {
       "description_width": ""
      }
     },
     "c190a593c1ed4ea199fb8b572fe94562": {
      "model_module": "@jupyter-widgets/controls",
      "model_module_version": "1.5.0",
      "model_name": "DescriptionStyleModel",
      "state": {
       "description_width": ""
      }
     },
     "c2578ef26c0743838357a06ac7dbb03e": {
      "model_module": "@jupyter-widgets/base",
      "model_module_version": "1.2.0",
      "model_name": "LayoutModel",
      "state": {}
     },
     "c2a6d9ce18fc4ac0bc1a7f90b4c5116c": {
      "model_module": "@jupyter-widgets/controls",
      "model_module_version": "1.5.0",
      "model_name": "FloatSliderModel",
      "state": {
       "description": "value",
       "layout": "IPY_MODEL_6c671f207c164abd949a12ac8032908b",
       "max": 0.1,
       "min": 0.01,
       "step": 0.01,
       "style": "IPY_MODEL_6313452555004e3e8cd4af4b429d6c81",
       "value": 0.02
      }
     },
     "c2be0d36854f4826b190f2aef55fd686": {
      "model_module": "@jupyter-widgets/controls",
      "model_module_version": "1.5.0",
      "model_name": "ButtonModel",
      "state": {
       "description": "Delete",
       "layout": "IPY_MODEL_29cf0466a11e48fc973f7029133b4c1c",
       "style": "IPY_MODEL_557b13d22d9c4523aede128ecebc8ac7"
      }
     },
     "c2c1faa3a7104893aba1b9a986c72e7f": {
      "model_module": "@jupyter-widgets/controls",
      "model_module_version": "1.5.0",
      "model_name": "TabModel",
      "state": {
       "layout": "IPY_MODEL_0e698e6988a94950922b8014c320bdf8"
      }
     },
     "c2ea397318574d91a49746ced9e8db1a": {
      "model_module": "@jupyter-widgets/base",
      "model_module_version": "1.2.0",
      "model_name": "LayoutModel",
      "state": {}
     },
     "c309dadcba5d4757ad170bafede09c29": {
      "model_module": "pgljupyter",
      "model_module_version": "^0.1.17",
      "model_name": "MaterialEditorModel",
      "state": {
       "_model_module_version": "^0.1.17",
       "_view_module_version": "^0.1.17",
       "children": [
        "IPY_MODEL_243831084f114d97bd1e5d3e35197ff6",
        "IPY_MODEL_de26906445994c7e8243365b107e8044",
        "IPY_MODEL_f958a1e7a32245119bf98c95905da1a2",
        "IPY_MODEL_70dda571646341ceb6f35058be924baf",
        "IPY_MODEL_c0e6e3c25e6e41948722f8a330ddc4e1",
        "IPY_MODEL_ae72d17e3fb94a56a3727653a69248a4",
        "IPY_MODEL_2249a5a5d0f24085af3136bbb4f3f425"
       ],
       "layout": "IPY_MODEL_134a756a9b454b73bb8ed6d12d756e98"
      }
     },
     "c47d49a7c60647cb85c5eb15764ce0cf": {
      "model_module": "@jupyter-widgets/base",
      "model_module_version": "1.2.0",
      "model_name": "LayoutModel",
      "state": {}
     },
     "c4ed48b837534de7b3ebc8b317ef0a11": {
      "model_module": "@jupyter-widgets/controls",
      "model_module_version": "1.5.0",
      "model_name": "DescriptionStyleModel",
      "state": {
       "description_width": ""
      }
     },
     "c5ef80a74b76476ab2ab7654fd9a2aae": {
      "model_module": "@jupyter-widgets/controls",
      "model_module_version": "1.5.0",
      "model_name": "TextModel",
      "state": {
       "continuous_update": false,
       "description": "name",
       "layout": "IPY_MODEL_8ebbdf1fb8e54a828e60d7ac7f9605d3",
       "style": "IPY_MODEL_0098827af4e640a7995f79067eabb137",
       "value": "maxorder"
      }
     },
     "c668486775d54df3a202a26b6d1a94af": {
      "model_module": "@jupyter-widgets/base",
      "model_module_version": "1.2.0",
      "model_name": "LayoutModel",
      "state": {}
     },
     "c6a591bed4c246eaa6f122a5fb74d701": {
      "model_module": "@jupyter-widgets/base",
      "model_module_version": "1.2.0",
      "model_name": "LayoutModel",
      "state": {}
     },
     "c70724b373544707a8ceb6ea34ead215": {
      "model_module": "@jupyter-widgets/base",
      "model_module_version": "1.2.0",
      "model_name": "LayoutModel",
      "state": {}
     },
     "c737fed3f4b647319d521b5a01ed5013": {
      "model_module": "@jupyter-widgets/base",
      "model_module_version": "1.2.0",
      "model_name": "LayoutModel",
      "state": {}
     },
     "c7ce13c027424623b6f2e99ab754ce1b": {
      "model_module": "@jupyter-widgets/controls",
      "model_module_version": "1.5.0",
      "model_name": "ButtonStyleModel",
      "state": {}
     },
     "c7ea2a8eaf6f4fd6ba043daec10a8f1a": {
      "model_module": "@jupyter-widgets/base",
      "model_module_version": "1.2.0",
      "model_name": "LayoutModel",
      "state": {}
     },
     "c7f7b7c639f04c7a812a812bc95f2f4a": {
      "model_module": "@jupyter-widgets/controls",
      "model_module_version": "1.5.0",
      "model_name": "ButtonStyleModel",
      "state": {}
     },
     "c84fe53e0e9a4df391e82723c5e179d5": {
      "model_module": "@jupyter-widgets/controls",
      "model_module_version": "1.5.0",
      "model_name": "SliderStyleModel",
      "state": {
       "description_width": ""
      }
     },
     "c86dfb91c7754e40aff8205f0595f499": {
      "model_module": "@jupyter-widgets/controls",
      "model_module_version": "1.5.0",
      "model_name": "FloatSliderModel",
      "state": {
       "description": "shininess",
       "layout": "IPY_MODEL_2c2396952b064b95b30ec4636f7a5104",
       "max": 1,
       "step": 0.1,
       "style": "IPY_MODEL_0fbcef905dc549ebb51d1bcd20ade1b3",
       "value": 0.2
      }
     },
     "c8ca31ca5bd148e6a5aa1524e6d99e3f": {
      "model_module": "@jupyter-widgets/controls",
      "model_module_version": "1.5.0",
      "model_name": "DescriptionStyleModel",
      "state": {
       "description_width": ""
      }
     },
     "c8d3f70598d54c238929a83e3bcb3334": {
      "model_module": "@jupyter-widgets/controls",
      "model_module_version": "1.5.0",
      "model_name": "DescriptionStyleModel",
      "state": {
       "description_width": ""
      }
     },
     "c989202804bb452e8cb9723017e5f6c3": {
      "model_module": "@jupyter-widgets/base",
      "model_module_version": "1.2.0",
      "model_name": "LayoutModel",
      "state": {}
     },
     "ca048b3e6ffe42779d97a92813a975b0": {
      "model_module": "@jupyter-widgets/controls",
      "model_module_version": "1.5.0",
      "model_name": "BoundedIntTextModel",
      "state": {
       "description": "index",
       "layout": "IPY_MODEL_efecd650a0b549cfb8d04768a7af3883",
       "style": "IPY_MODEL_1eb0713d17fb4a92b6d7cfab6060154c",
       "value": 1
      }
     },
     "cb7d447aaf2c4c759979e1f891e6d461": {
      "model_module": "@jupyter-widgets/controls",
      "model_module_version": "1.5.0",
      "model_name": "ColorPickerModel",
      "state": {
       "description": "emission",
       "disabled": false,
       "layout": "IPY_MODEL_455f8aeaffa441bf93d43f30ccfb8f01",
       "style": "IPY_MODEL_80486992e7b749219293ac12cc88f982",
       "value": "#000000"
      }
     },
     "cb8ca0e6e0eb421686668ef1c62fece3": {
      "model_module": "@jupyter-widgets/base",
      "model_module_version": "1.2.0",
      "model_name": "LayoutModel",
      "state": {}
     },
     "cbb885bb9b4c46c4a535abf50628efc5": {
      "model_module": "@jupyter-widgets/controls",
      "model_module_version": "1.5.0",
      "model_name": "HBoxModel",
      "state": {
       "layout": "IPY_MODEL_964212339a614dc4b244dd85464c155d"
      }
     },
     "cbc8b4e533c94b8597e45a4ac84149b8": {
      "model_module": "@jupyter-widgets/controls",
      "model_module_version": "1.5.0",
      "model_name": "DropdownModel",
      "state": {
       "_options_labels": [
        "leafduration",
        "leafold",
        "maxorder",
        "radinc",
        "nb_axes"
       ],
       "index": 0,
       "layout": "IPY_MODEL_b8d47ef44074438281319294176af51b",
       "style": "IPY_MODEL_5952c0e964b14034832f8d689c94cd56"
      }
     },
     "cbdaf49adba648288d71c4ee0c85a46d": {
      "model_module": "@jupyter-widgets/controls",
      "model_module_version": "1.5.0",
      "model_name": "ButtonModel",
      "state": {
       "description": "Delete",
       "layout": "IPY_MODEL_e996a0616fe3456f83d3a47b2d6444d3",
       "style": "IPY_MODEL_e0b543b076714cf5958478e4889a5cb7"
      }
     },
     "cc6d0e94c93b4978adf6227cfb533d2c": {
      "model_module": "@jupyter-widgets/controls",
      "model_module_version": "1.5.0",
      "model_name": "DescriptionStyleModel",
      "state": {
       "description_width": ""
      }
     },
     "cca2bc234f7546b6ab053ec14a62865d": {
      "model_module": "pgljupyter",
      "model_module_version": "^0.1.17",
      "model_name": "IntEditorModel",
      "state": {
       "_model_module_version": "^0.1.17",
       "_view_module_version": "^0.1.17",
       "children": [
        "IPY_MODEL_c5ef80a74b76476ab2ab7654fd9a2aae",
        "IPY_MODEL_683514619a284a17be83f3e12928bc6a"
       ],
       "layout": "IPY_MODEL_35888e4f3f5048409ae7317289d152bd"
      }
     },
     "ccb212c6dfcc4c1d92cc6abceb4d2737": {
      "model_module": "@jupyter-widgets/controls",
      "model_module_version": "1.5.0",
      "model_name": "HBoxModel",
      "state": {
       "children": [
        "IPY_MODEL_5ccfe2f5d1bc472faf8aa7f50bf0ab1d",
        "IPY_MODEL_49d68010fc084f1ebd5a1e73fb6c31af",
        "IPY_MODEL_e3e60ccbc1cb456a81c849bf7a485b87",
        "IPY_MODEL_87914f94bb81462d992aeaaef5f740be"
       ],
       "layout": "IPY_MODEL_8d56c586bca3464d8c5cb36ae761ba46"
      }
     },
     "cd1d503025f94455898cda591460f5da": {
      "model_module": "@jupyter-widgets/controls",
      "model_module_version": "1.5.0",
      "model_name": "DropdownModel",
      "state": {
       "_options_labels": [
        "NurbsCurve2D",
        "BezierCurve2D",
        "Polyline2D",
        "Function"
       ],
       "index": 0,
       "layout": "IPY_MODEL_3761ab3b962b4bdc83a0b5c3edaaf2f4",
       "style": "IPY_MODEL_ec565a4c65ef47b7b5c481d2e487b68f"
      }
     },
     "cd863832ae4f4c2a9fb4238d4fe72b7d": {
      "model_module": "@jupyter-widgets/controls",
      "model_module_version": "1.5.0",
      "model_name": "IntTextModel",
      "state": {
       "description": "min",
       "layout": "IPY_MODEL_67c7aedfc8f04a9bb8e92c4fbabb0fa3",
       "step": 1,
       "style": "IPY_MODEL_15cc82a7eb6848f88869d829430b0385",
       "value": 1
      }
     },
     "ce95b26aa02f45a485c1255eae9a21fa": {
      "model_module": "@jupyter-widgets/controls",
      "model_module_version": "1.5.0",
      "model_name": "SliderStyleModel",
      "state": {
       "description_width": ""
      }
     },
     "cec3e99efbcc48f4949ee3f961d09c72": {
      "model_module": "@jupyter-widgets/controls",
      "model_module_version": "1.5.0",
      "model_name": "DescriptionStyleModel",
      "state": {
       "description_width": ""
      }
     },
     "cf2d00fcb37046cca0b8754d884949a8": {
      "model_module": "@jupyter-widgets/controls",
      "model_module_version": "1.5.0",
      "model_name": "IntSliderModel",
      "state": {
       "description": "value",
       "layout": "IPY_MODEL_440acb6e8011430aa874cae6aefacb36",
       "max": 10,
       "min": 1,
       "style": "IPY_MODEL_88f3d087a0de45da8bfd2c33963d9fb3",
       "value": 5
      }
     },
     "cf673dfbe5eb413c96fdeb2659cfc128": {
      "model_module": "@jupyter-widgets/controls",
      "model_module_version": "1.5.0",
      "model_name": "SliderStyleModel",
      "state": {
       "description_width": ""
      }
     },
     "cffe896bba6b4be9a72a337ec2eeabfd": {
      "model_module": "@jupyter-widgets/base",
      "model_module_version": "1.2.0",
      "model_name": "LayoutModel",
      "state": {}
     },
     "d0a6d8e803054098abe932e3805dde62": {
      "model_module": "@jupyter-widgets/base",
      "model_module_version": "1.2.0",
      "model_name": "LayoutModel",
      "state": {}
     },
     "d10a3a68a0474f01aa5b6d5cfdb8ebe8": {
      "model_module": "@jupyter-widgets/controls",
      "model_module_version": "1.5.0",
      "model_name": "FloatSliderModel",
      "state": {
       "description": "transparency",
       "layout": "IPY_MODEL_c47d49a7c60647cb85c5eb15764ce0cf",
       "max": 1,
       "step": 0.1,
       "style": "IPY_MODEL_33df28684ad348f5b03827854e48c752"
      }
     },
     "d152ff0131e44467aa1643fe2974e1b9": {
      "model_module": "@jupyter-widgets/controls",
      "model_module_version": "1.5.0",
      "model_name": "DescriptionStyleModel",
      "state": {
       "description_width": ""
      }
     },
     "d17ee3bf95d444e6a5dc0e77911f5b59": {
      "model_module": "@jupyter-widgets/controls",
      "model_module_version": "1.5.0",
      "model_name": "ColorPickerModel",
      "state": {
       "description": "specular",
       "disabled": false,
       "layout": "IPY_MODEL_0af1bb03cbd844ea9bfc0d9b864d0f8d",
       "style": "IPY_MODEL_64f0f3be71ea49f6b0bf5f7a3382814b",
       "value": "#282828"
      }
     },
     "d18e48c309db4852aa5cdc3da1012b6e": {
      "model_module": "@jupyter-widgets/base",
      "model_module_version": "1.2.0",
      "model_name": "LayoutModel",
      "state": {}
     },
     "d1e4b02c15bb44948c22e7d933636530": {
      "model_module": "@jupyter-widgets/controls",
      "model_module_version": "1.5.0",
      "model_name": "TextModel",
      "state": {
       "layout": "IPY_MODEL_82ee84b51f34452cb28a4d5fbd6a6bec",
       "placeholder": "category name",
       "style": "IPY_MODEL_b70440f46d284109b251b83b4efe6e79"
      }
     },
     "d1f553a8e0e14ca8939fd7facfe7bdd0": {
      "model_module": "@jupyter-widgets/controls",
      "model_module_version": "1.5.0",
      "model_name": "BoundedIntTextModel",
      "state": {
       "description": "index",
       "layout": "IPY_MODEL_65bee35e74e7441d98cbdeb5de6d8221",
       "style": "IPY_MODEL_113da8bbf28f4da4a88ba0f9cabd4ebb",
       "value": 2
      }
     },
     "d2f53457da264365a8ca7a5c85a6b381": {
      "model_module": "@jupyter-widgets/controls",
      "model_module_version": "1.5.0",
      "model_name": "ColorPickerModel",
      "state": {
       "description": "emission",
       "disabled": false,
       "layout": "IPY_MODEL_d7b73a835c6a400fa37fb014990bed66",
       "style": "IPY_MODEL_f0677d8a64674b559e7f258cf8fa5541",
       "value": "#000000"
      }
     },
     "d30ebfc6c53341ae9babc1bd412860bb": {
      "model_module": "@jupyter-widgets/controls",
      "model_module_version": "1.5.0",
      "model_name": "DescriptionStyleModel",
      "state": {
       "description_width": ""
      }
     },
     "d323d6b67e114f9199d968a403d35954": {
      "model_module": "@jupyter-widgets/base",
      "model_module_version": "1.2.0",
      "model_name": "LayoutModel",
      "state": {}
     },
     "d3311825194e40848ec86c6df05ec71f": {
      "model_module": "@jupyter-widgets/base",
      "model_module_version": "1.2.0",
      "model_name": "LayoutModel",
      "state": {
       "margin": "20px 0px"
      }
     },
     "d3b85fda8a3a4608a7bd96283095fedd": {
      "model_module": "@jupyter-widgets/base",
      "model_module_version": "1.2.0",
      "model_name": "LayoutModel",
      "state": {}
     },
     "d3ca847489164ca4957ed12a3dbe22f6": {
      "model_module": "@jupyter-widgets/base",
      "model_module_version": "1.2.0",
      "model_name": "LayoutModel",
      "state": {}
     },
     "d40cd5784b9640ce86140f6d8eb19ad7": {
      "model_module": "@jupyter-widgets/controls",
      "model_module_version": "1.5.0",
      "model_name": "DescriptionStyleModel",
      "state": {
       "description_width": ""
      }
     },
     "d436543783c8447f81f559995965920f": {
      "model_module": "@jupyter-widgets/base",
      "model_module_version": "1.2.0",
      "model_name": "LayoutModel",
      "state": {}
     },
     "d4426702c7c94b0aac24491668d12154": {
      "model_module": "@jupyter-widgets/base",
      "model_module_version": "1.2.0",
      "model_name": "LayoutModel",
      "state": {}
     },
     "d4db273c64d04656a9b57533239e7872": {
      "model_module": "@jupyter-widgets/controls",
      "model_module_version": "1.5.0",
      "model_name": "TextModel",
      "state": {
       "continuous_update": false,
       "description": "name",
       "layout": "IPY_MODEL_5c2170886bb84b0fb0345314e6a3925d",
       "style": "IPY_MODEL_9824adc57ba049e4afcc27d45ea5872d",
       "value": "color_1"
      }
     },
     "d4ef39502216401ca3c2e7381d844b04": {
      "model_module": "@jupyter-widgets/base",
      "model_module_version": "1.2.0",
      "model_name": "LayoutModel",
      "state": {}
     },
     "d56364ff1cc441588f37f856b104fb7f": {
      "model_module": "@jupyter-widgets/base",
      "model_module_version": "1.2.0",
      "model_name": "LayoutModel",
      "state": {}
     },
     "d57615a69c10480d8db062fc5e36385d": {
      "model_module": "@jupyter-widgets/controls",
      "model_module_version": "1.5.0",
      "model_name": "DescriptionStyleModel",
      "state": {
       "description_width": ""
      }
     },
     "d5962bdf3e204a32a0c5f001c01c8af8": {
      "model_module": "@jupyter-widgets/controls",
      "model_module_version": "1.5.0",
      "model_name": "DescriptionStyleModel",
      "state": {
       "description_width": ""
      }
     },
     "d59eedfe91e040bd83b09d32a1718f4b": {
      "model_module": "@jupyter-widgets/controls",
      "model_module_version": "1.5.0",
      "model_name": "SliderStyleModel",
      "state": {
       "description_width": ""
      }
     },
     "d5bad5e9916e489c92ca26665824ec2d": {
      "model_module": "@jupyter-widgets/controls",
      "model_module_version": "1.5.0",
      "model_name": "SliderStyleModel",
      "state": {
       "description_width": ""
      }
     },
     "d734a536300949189433eec18ebe49d5": {
      "model_module": "@jupyter-widgets/controls",
      "model_module_version": "1.5.0",
      "model_name": "IntSliderModel",
      "state": {
       "description": "value",
       "layout": "IPY_MODEL_973da0ef21a546739fbc9361cd34bfe5",
       "max": 10,
       "min": 1,
       "style": "IPY_MODEL_d5bad5e9916e489c92ca26665824ec2d",
       "value": 2
      }
     },
     "d77d077081bb4eb8baa6f71acfaca80d": {
      "model_module": "@jupyter-widgets/controls",
      "model_module_version": "1.5.0",
      "model_name": "HBoxModel",
      "state": {
       "children": [
        "IPY_MODEL_ec25e9001eaf45e69cf86327398a4adc",
        "IPY_MODEL_1a768dffa91045cdbec62fd051859942"
       ],
       "layout": "IPY_MODEL_f7ff34c66d4b431c8d7a458913ac23de"
      }
     },
     "d79e5da1ec2d4eff8b5b67ab8d2838d8": {
      "model_module": "pgljupyter",
      "model_module_version": "^0.1.17",
      "model_name": "IntEditorModel",
      "state": {
       "_model_module_version": "^0.1.17",
       "_view_module_version": "^0.1.17",
       "children": [
        "IPY_MODEL_b026cfdea7f24109b3207938d8293f82",
        "IPY_MODEL_fa78c56a5cee470db3de6e4fe2ec4481"
       ],
       "layout": "IPY_MODEL_1aeee9874bc84466bbeb7bfb15647305"
      }
     },
     "d7b73a835c6a400fa37fb014990bed66": {
      "model_module": "@jupyter-widgets/base",
      "model_module_version": "1.2.0",
      "model_name": "LayoutModel",
      "state": {}
     },
     "d826944e71484a12ba8264f9980eaa85": {
      "model_module": "@jupyter-widgets/controls",
      "model_module_version": "1.5.0",
      "model_name": "DescriptionStyleModel",
      "state": {
       "description_width": ""
      }
     },
     "d8b7d3f852be4323a7cb38d583268863": {
      "model_module": "@jupyter-widgets/base",
      "model_module_version": "1.2.0",
      "model_name": "LayoutModel",
      "state": {}
     },
     "d94927052fb046c4b476563ba1404936": {
      "model_module": "@jupyter-widgets/controls",
      "model_module_version": "1.5.0",
      "model_name": "ButtonModel",
      "state": {
       "description": "Delete",
       "layout": "IPY_MODEL_2e291dc0a02b4b878cc21b93ac478bfd",
       "style": "IPY_MODEL_18abd2b200874f98af3b0f2c86c1a019"
      }
     },
     "d96944e0d08c4a04aa0b00a6367b12c9": {
      "model_module": "@jupyter-widgets/base",
      "model_module_version": "1.2.0",
      "model_name": "LayoutModel",
      "state": {}
     },
     "d9ccb67aeb914dbebc9157bdfb5dc23d": {
      "model_module": "@jupyter-widgets/base",
      "model_module_version": "1.2.0",
      "model_name": "LayoutModel",
      "state": {}
     },
     "da90b6b6b6334b2d8566268731ae92f4": {
      "model_module": "@jupyter-widgets/controls",
      "model_module_version": "1.5.0",
      "model_name": "DropdownModel",
      "state": {
       "_options_labels": [
        "leafduration",
        "leafold",
        "maxorder",
        "radinc",
        "nb_axes"
       ],
       "index": 0,
       "layout": "IPY_MODEL_ae707f5167d74fc69acaaf741eb5e5de",
       "style": "IPY_MODEL_d826944e71484a12ba8264f9980eaa85"
      }
     },
     "da94d7f0e6e045988d94aba69d5be576": {
      "model_module": "@jupyter-widgets/controls",
      "model_module_version": "1.5.0",
      "model_name": "TextModel",
      "state": {
       "continuous_update": false,
       "description": "name",
       "layout": "IPY_MODEL_36cefaebd481433a986da12e8f4ca923",
       "style": "IPY_MODEL_4700fadcbf6740eeacfb5f4d5442bcc5",
       "value": "radinc"
      }
     },
     "dab8e9c05b4743e0910867303374e23e": {
      "model_module": "pgljupyter",
      "model_module_version": "^0.1.16",
      "model_name": "MaterialEditorModel",
      "state": {
       "_model_module_version": "^0.1.16",
       "_view_module_version": "^0.1.16",
       "children": [
        "IPY_MODEL_677b6979d18a4369b43c7d2c7055d352",
        "IPY_MODEL_1f8ab0fca1c04c59ba41957779688c40",
        "IPY_MODEL_9db215c1ff3242bab8eb9533ae4c1142",
        "IPY_MODEL_7820f3eb666143e08c9689ceabf9f92e",
        "IPY_MODEL_2cbe2b9f20a14b2c9ff7c42cc96e34c6",
        "IPY_MODEL_00d6b976c7584356bc8ace10cc276390",
        "IPY_MODEL_5d1acbde1263434ca0516af8b1e818ec",
        "IPY_MODEL_c16429a9bfff45a981471a788dca62c2"
       ],
       "layout": "IPY_MODEL_9b3e11ebb803450b986ba009cd7271d1"
      }
     },
     "dae8d0d2b5a24ba3a4caef5ae026ea60": {
      "model_module": "@jupyter-widgets/base",
      "model_module_version": "1.2.0",
      "model_name": "LayoutModel",
      "state": {}
     },
     "daf71e2b2a7543cb8dcc73b7d06ecdcf": {
      "model_module": "@jupyter-widgets/controls",
      "model_module_version": "1.5.0",
      "model_name": "TextModel",
      "state": {
       "continuous_update": false,
       "description": "name",
       "layout": "IPY_MODEL_7b34d047a75145ef93c9d2ba934f66f1",
       "style": "IPY_MODEL_61604db4d90b46a3a0031ae5119c1516",
       "value": "leafduration"
      }
     },
     "dc53693171ca4e6f859008d9f7934f2e": {
      "model_module": "@jupyter-widgets/controls",
      "model_module_version": "1.5.0",
      "model_name": "SliderStyleModel",
      "state": {
       "description_width": ""
      }
     },
     "dc6fe4ae93724ee697ccb6414fa8bd2b": {
      "model_module": "@jupyter-widgets/base",
      "model_module_version": "1.2.0",
      "model_name": "LayoutModel",
      "state": {}
     },
     "dc9722bd3a6e4f1e855fb518b2065abe": {
      "model_module": "@jupyter-widgets/controls",
      "model_module_version": "1.5.0",
      "model_name": "SliderStyleModel",
      "state": {
       "description_width": ""
      }
     },
     "dc9e29879357411bbba01c813ba6f9f4": {
      "model_module": "@jupyter-widgets/base",
      "model_module_version": "1.2.0",
      "model_name": "LayoutModel",
      "state": {}
     },
     "dcc995adc6dd4fe097aab757670954b6": {
      "model_module": "@jupyter-widgets/controls",
      "model_module_version": "1.5.0",
      "model_name": "SliderStyleModel",
      "state": {
       "description_width": ""
      }
     },
     "dd0076f5130e4b019ecac08f8ecf14e6": {
      "model_module": "@jupyter-widgets/base",
      "model_module_version": "1.2.0",
      "model_name": "LayoutModel",
      "state": {}
     },
     "ddc34eb399b046ce9c7bbcc7bcce04e5": {
      "model_module": "pgljupyter",
      "model_module_version": "^0.1.17",
      "model_name": "IntEditorModel",
      "state": {
       "_model_module_version": "^0.1.17",
       "_view_module_version": "^0.1.17",
       "children": [
        "IPY_MODEL_daf71e2b2a7543cb8dcc73b7d06ecdcf",
        "IPY_MODEL_8e59f23a67514549b0b971a20c8f5644"
       ],
       "layout": "IPY_MODEL_8ab5ba176a154599b445e9556a8031de"
      }
     },
     "de26906445994c7e8243365b107e8044": {
      "model_module": "@jupyter-widgets/controls",
      "model_module_version": "1.5.0",
      "model_name": "ColorPickerModel",
      "state": {
       "description": "ambient",
       "disabled": false,
       "layout": "IPY_MODEL_86bbd8bd12314be19909ccb111382a66",
       "style": "IPY_MODEL_5ef60586f6624e7a921466efb2d8a645",
       "value": "#5b4534"
      }
     },
     "de29d9fc92c645568318b3cac8e85baf": {
      "model_module": "@jupyter-widgets/controls",
      "model_module_version": "1.5.0",
      "model_name": "ButtonModel",
      "state": {
       "description": "Delete",
       "layout": "IPY_MODEL_fdc7cdfb71c14e9f9ae8327b7e4919ce",
       "style": "IPY_MODEL_0adb42962e0d46d8a508e6187f7b3e19"
      }
     },
     "deee13f28dc04426826d2dcb4eb4b80e": {
      "model_module": "pgljupyter",
      "model_module_version": "^0.1.17",
      "model_name": "IntEditorModel",
      "state": {
       "_model_module_version": "^0.1.17",
       "_view_module_version": "^0.1.17",
       "children": [
        "IPY_MODEL_6836f870173f481c896bba938c011cdd",
        "IPY_MODEL_cf2d00fcb37046cca0b8754d884949a8"
       ],
       "layout": "IPY_MODEL_6213afc08dc747abb3101b3b00eff81e"
      }
     },
     "df4b301f82c143b6ba68f23b7ee4a4e7": {
      "model_module": "@jupyter-widgets/base",
      "model_module_version": "1.2.0",
      "model_name": "LayoutModel",
      "state": {}
     },
     "df83175491804b5cb47348424a380b78": {
      "model_module": "@jupyter-widgets/base",
      "model_module_version": "1.2.0",
      "model_name": "LayoutModel",
      "state": {}
     },
     "dfccc42a1e8f4f4abdf4c85dd83fbdf3": {
      "model_module": "@jupyter-widgets/controls",
      "model_module_version": "1.5.0",
      "model_name": "ButtonStyleModel",
      "state": {}
     },
     "dfd5a1256a954e379bc5aff58a8db58a": {
      "model_module": "pgljupyter",
      "model_module_version": "^0.1.16",
      "model_name": "ParameterEditorModel",
      "state": {
       "_model_module_version": "^0.1.16",
       "_view_module_version": "^0.1.16",
       "children": [
        "IPY_MODEL_50c897762f9846d38e9f8e2de2d19de2"
       ],
       "layout": "IPY_MODEL_d3ca847489164ca4957ed12a3dbe22f6"
      }
     },
     "e01ac84da5b94b36859436d3ee12a19e": {
      "model_module": "@jupyter-widgets/base",
      "model_module_version": "1.2.0",
      "model_name": "LayoutModel",
      "state": {}
     },
     "e0b3bfd022cf45e4a94fa38c5088e074": {
      "model_module": "@jupyter-widgets/base",
      "model_module_version": "1.2.0",
      "model_name": "LayoutModel",
      "state": {}
     },
     "e0b543b076714cf5958478e4889a5cb7": {
      "model_module": "@jupyter-widgets/controls",
      "model_module_version": "1.5.0",
      "model_name": "ButtonStyleModel",
      "state": {}
     },
     "e133259e943747ddbb36e06ec4bf3308": {
      "model_module": "@jupyter-widgets/controls",
      "model_module_version": "1.5.0",
      "model_name": "HBoxModel",
      "state": {
       "children": [
        "IPY_MODEL_c2be0d36854f4826b190f2aef55fd686",
        "IPY_MODEL_9a39bcbc02c34c958a3a2bea5ded14be"
       ],
       "layout": "IPY_MODEL_91ac8e1f9a054b498098ec7954dfe608"
      }
     },
     "e14b8d9da9d94827aa6e7a2c4a59032a": {
      "model_module": "@jupyter-widgets/base",
      "model_module_version": "1.2.0",
      "model_name": "LayoutModel",
      "state": {
       "margin": "20px 0px"
      }
     },
     "e1ad944eafa344f19b268b968727ebe2": {
      "model_module": "@jupyter-widgets/controls",
      "model_module_version": "1.5.0",
      "model_name": "DescriptionStyleModel",
      "state": {
       "description_width": ""
      }
     },
     "e1dcb78514e94e8ba1b4d9d3d4a8e9c9": {
      "model_module": "pgljupyter",
      "model_module_version": "^0.1.17",
      "model_name": "IntEditorModel",
      "state": {
       "_model_module_version": "^0.1.17",
       "_view_module_version": "^0.1.17",
       "children": [
        "IPY_MODEL_4933c3be1ca74d3b87e7deac4ab3fa84",
        "IPY_MODEL_f07a901e6ad14b95a2d72d3015de3a12"
       ],
       "layout": "IPY_MODEL_726ea6227a9140b58c2e2db0b3c05e1f"
      }
     },
     "e20a8ad2869c4320906c5ccb5a2616cb": {
      "model_module": "pgljupyter",
      "model_module_version": "^0.1.17",
      "model_name": "MaterialEditorModel",
      "state": {
       "_model_module_version": "^0.1.17",
       "_view_module_version": "^0.1.17",
       "children": [
        "IPY_MODEL_bfa2cd7f0c5143b98b10a45ec7d2d66d",
        "IPY_MODEL_f5730ea7e7c64ddd832fe8d4f113f656",
        "IPY_MODEL_8796df0ffb5a4d59acfa5e829c472f45",
        "IPY_MODEL_e85c510e27f640a8b1ccdded38f8d8b3",
        "IPY_MODEL_7d0e2b7c25dc4c5799f79fba3304581d",
        "IPY_MODEL_59f8c5abaa8146ce8df8fc46c0f10acb",
        "IPY_MODEL_8c69ffac5b3b44b286de8bc58ff44b45"
       ],
       "layout": "IPY_MODEL_194ad744cbd346c59d513770c2a47af7"
      }
     },
     "e248c6cad0a7477090a5f66a3ae950b9": {
      "model_module": "@jupyter-widgets/controls",
      "model_module_version": "1.5.0",
      "model_name": "DescriptionStyleModel",
      "state": {
       "description_width": ""
      }
     },
     "e2959aa92f7d44c2a5d6d06683c7f898": {
      "model_module": "@jupyter-widgets/controls",
      "model_module_version": "1.5.0",
      "model_name": "DescriptionStyleModel",
      "state": {
       "description_width": ""
      }
     },
     "e29b2ad0e6b8400997e87c1b714baead": {
      "model_module": "@jupyter-widgets/controls",
      "model_module_version": "1.5.0",
      "model_name": "DescriptionStyleModel",
      "state": {
       "description_width": ""
      }
     },
     "e2b7f42fba7146f9bd943e2d6c422529": {
      "model_module": "@jupyter-widgets/controls",
      "model_module_version": "1.5.0",
      "model_name": "DropdownModel",
      "state": {
       "_options_labels": [
        "NurbsCurve2D",
        "BezierCurve2D",
        "Polyline2D",
        "Function"
       ],
       "index": 0,
       "layout": "IPY_MODEL_8f003cdb574545128b2ee385bb6fff88",
       "style": "IPY_MODEL_d30ebfc6c53341ae9babc1bd412860bb"
      }
     },
     "e2de1706c64a496781bb68ab5f7e1f36": {
      "model_module": "@jupyter-widgets/controls",
      "model_module_version": "1.5.0",
      "model_name": "SliderStyleModel",
      "state": {
       "description_width": ""
      }
     },
     "e39e2498279249fda7dc6eebafd8b0bb": {
      "model_module": "@jupyter-widgets/controls",
      "model_module_version": "1.5.0",
      "model_name": "DescriptionStyleModel",
      "state": {
       "description_width": ""
      }
     },
     "e3e60ccbc1cb456a81c849bf7a485b87": {
      "model_module": "pgljupyter",
      "model_module_version": "^0.1.17",
      "model_name": "MaterialEditorModel",
      "state": {
       "_model_module_version": "^0.1.17",
       "_view_module_version": "^0.1.17",
       "children": [
        "IPY_MODEL_0241bcf8e4d449588382dcfa0fadf1f7",
        "IPY_MODEL_1e6010c917c4441f8d05dacd1cf3a5ba",
        "IPY_MODEL_37bad97f36864d09b884b5b159f845c5",
        "IPY_MODEL_6af77e29019b4e689db91f5541c76b14",
        "IPY_MODEL_ffd2e60a3312408a8134cc48bad3dece",
        "IPY_MODEL_0108f7fc56644931b6e9ab7e757df267",
        "IPY_MODEL_ae65c9b1a7014f46b4d4736a9946ae5f"
       ],
       "layout": "IPY_MODEL_fa6085381b324435aa9032f0b10413fd"
      }
     },
     "e41cb6704a0a4c06a028ae53e9f988ee": {
      "model_module": "@jupyter-widgets/controls",
      "model_module_version": "1.5.0",
      "model_name": "DescriptionStyleModel",
      "state": {
       "description_width": ""
      }
     },
     "e4bcad903cd24e668755c12c6ad16d21": {
      "model_module": "@jupyter-widgets/controls",
      "model_module_version": "1.5.0",
      "model_name": "DescriptionStyleModel",
      "state": {
       "description_width": ""
      }
     },
     "e4f1064e7adb4c35be9fbfc786d26ca6": {
      "model_module": "@jupyter-widgets/controls",
      "model_module_version": "1.5.0",
      "model_name": "FloatSliderModel",
      "state": {
       "description": "value",
       "layout": "IPY_MODEL_f809bb47cbf94d079b9331253cf0b41b",
       "max": 0.1,
       "min": 0.01,
       "step": 0.01,
       "style": "IPY_MODEL_25389c05c9a74d9a98ad640a1da0dc90",
       "value": 0.02
      }
     },
     "e5dac1ed4b934727b6efb2c2f6bbcf39": {
      "model_module": "pgljupyter",
      "model_module_version": "^0.1.17",
      "model_name": "FloatEditorModel",
      "state": {
       "_model_module_version": "^0.1.17",
       "_view_module_version": "^0.1.17",
       "children": [
        "IPY_MODEL_55f0f039861f4c7cb7fc94899c53e0f6",
        "IPY_MODEL_e4f1064e7adb4c35be9fbfc786d26ca6"
       ],
       "layout": "IPY_MODEL_85fb0b1c46a34071837318e83df4549c"
      }
     },
     "e647273f61494efb92b293f226b212ce": {
      "model_module": "@jupyter-widgets/controls",
      "model_module_version": "1.5.0",
      "model_name": "DropdownModel",
      "state": {
       "_options_labels": [
        "color_1",
        "color_2",
        "color_3",
        "color_4"
       ],
       "index": 0,
       "layout": "IPY_MODEL_3b6eb237ab884fc6a9851aa3c2d821fe",
       "style": "IPY_MODEL_9cbbf712b5e546d7b39a41428b0aa2f1"
      }
     },
     "e64e7fd9b956422fbe051812aeedf4f5": {
      "model_module": "@jupyter-widgets/controls",
      "model_module_version": "1.5.0",
      "model_name": "TabModel",
      "state": {
       "layout": "IPY_MODEL_01a9830728ff43debfe68c7ed9c0c0f1"
      }
     },
     "e6991f813efb4b118467f99c0776efcd": {
      "model_module": "@jupyter-widgets/controls",
      "model_module_version": "1.5.0",
      "model_name": "DescriptionStyleModel",
      "state": {
       "description_width": ""
      }
     },
     "e6ea0f1df0864495a18ce55e8ee48a88": {
      "model_module": "@jupyter-widgets/controls",
      "model_module_version": "1.5.0",
      "model_name": "SliderStyleModel",
      "state": {
       "description_width": ""
      }
     },
     "e72c590e7a184b6fb4ad01d25e4545a9": {
      "model_module": "@jupyter-widgets/controls",
      "model_module_version": "1.5.0",
      "model_name": "FloatSliderModel",
      "state": {
       "description": "shininess",
       "layout": "IPY_MODEL_18a4cfa16bc946538d5790374028d641",
       "max": 1,
       "step": 0.1,
       "style": "IPY_MODEL_16f7bc26a9f3423a8cdb0ee883e8baf3",
       "value": 0.2
      }
     },
     "e7e58753b42f479c87b45106eebaf7d8": {
      "model_module": "@jupyter-widgets/controls",
      "model_module_version": "1.5.0",
      "model_name": "HBoxModel",
      "state": {
       "children": [
        "IPY_MODEL_a5fa387b659b43e6811c5b2786ac85cd",
        "IPY_MODEL_e133259e943747ddbb36e06ec4bf3308"
       ],
       "layout": "IPY_MODEL_0edf0711fcd443488bc2bd1811f52c38"
      }
     },
     "e82e92b531174bbab4c8ec367cfabcd1": {
      "model_module": "@jupyter-widgets/controls",
      "model_module_version": "1.5.0",
      "model_name": "DescriptionStyleModel",
      "state": {
       "description_width": ""
      }
     },
     "e8499e7bab6246a0ad0a4f30d14ddbb3": {
      "model_module": "@jupyter-widgets/base",
      "model_module_version": "1.2.0",
      "model_name": "LayoutModel",
      "state": {}
     },
     "e85c510e27f640a8b1ccdded38f8d8b3": {
      "model_module": "@jupyter-widgets/controls",
      "model_module_version": "1.5.0",
      "model_name": "ColorPickerModel",
      "state": {
       "description": "emission",
       "disabled": false,
       "layout": "IPY_MODEL_c2578ef26c0743838357a06ac7dbb03e",
       "style": "IPY_MODEL_015a0162e977482199ff9aa70a46096a",
       "value": "#000000"
      }
     },
     "e8a23a012cbf4853a330e912e3cad92f": {
      "model_module": "@jupyter-widgets/controls",
      "model_module_version": "1.5.0",
      "model_name": "HBoxModel",
      "state": {
       "children": [
        "IPY_MODEL_553432c4114a47d4a9edc9bea81bf73d",
        "IPY_MODEL_fed9460058884e208750ebcd25227db9"
       ],
       "layout": "IPY_MODEL_3f7ba822c536404481bce2f09c84de9d"
      }
     },
     "e9582f1549fd47149a0a82f1ee63f055": {
      "model_module": "@jupyter-widgets/controls",
      "model_module_version": "1.5.0",
      "model_name": "DescriptionStyleModel",
      "state": {
       "description_width": ""
      }
     },
     "e984cba6c0f84ad5a3546c38b70bc438": {
      "model_module": "@jupyter-widgets/controls",
      "model_module_version": "1.5.0",
      "model_name": "FloatSliderModel",
      "state": {
       "description": "diffuse",
       "layout": "IPY_MODEL_36dae7e778b4478990ee42ee7dd61824",
       "max": 3,
       "step": 0.1,
       "style": "IPY_MODEL_5c020f6de4b0494db643bad3b0644d25",
       "value": 1
      }
     },
     "e996a0616fe3456f83d3a47b2d6444d3": {
      "model_module": "@jupyter-widgets/base",
      "model_module_version": "1.2.0",
      "model_name": "LayoutModel",
      "state": {}
     },
     "ea37aa48e5954c09acb575e2396d3c05": {
      "model_module": "@jupyter-widgets/base",
      "model_module_version": "1.2.0",
      "model_name": "LayoutModel",
      "state": {}
     },
     "ea9d8d6b50034a3a9fb9e57b9e304732": {
      "model_module": "@jupyter-widgets/controls",
      "model_module_version": "1.5.0",
      "model_name": "IntTextModel",
      "state": {
       "description": "min",
       "layout": "IPY_MODEL_a928100a1a7543c1a952e02f63653d38",
       "step": 1,
       "style": "IPY_MODEL_cc6d0e94c93b4978adf6227cfb533d2c",
       "value": 1
      }
     },
     "eac0f378daf14e768b562dc92a52bd46": {
      "model_module": "@jupyter-widgets/controls",
      "model_module_version": "1.5.0",
      "model_name": "IntTextModel",
      "state": {
       "description": "min",
       "layout": "IPY_MODEL_5b5cffc519364c9fbd2a8e2332a75c62",
       "step": 1,
       "style": "IPY_MODEL_c8d3f70598d54c238929a83e3bcb3334",
       "value": 1
      }
     },
     "eb38eb2960ba4c56b249425bdddbb378": {
      "model_module": "@jupyter-widgets/controls",
      "model_module_version": "1.5.0",
      "model_name": "SliderStyleModel",
      "state": {
       "description_width": ""
      }
     },
     "eb97bfba7a244317a71b5c4fedafbbe8": {
      "model_module": "@jupyter-widgets/controls",
      "model_module_version": "1.5.0",
      "model_name": "ButtonStyleModel",
      "state": {}
     },
     "ebac3b19d9ab409d9c42b53d972811e3": {
      "model_module": "@jupyter-widgets/controls",
      "model_module_version": "1.5.0",
      "model_name": "HBoxModel",
      "state": {
       "children": [
        "IPY_MODEL_e1dcb78514e94e8ba1b4d9d3d4a8e9c9",
        "IPY_MODEL_3152de1fa1164856a37a0aa90a315025",
        "IPY_MODEL_deee13f28dc04426826d2dcb4eb4b80e",
        "IPY_MODEL_e5dac1ed4b934727b6efb2c2f6bbcf39",
        "IPY_MODEL_d79e5da1ec2d4eff8b5b67ab8d2838d8"
       ],
       "layout": "IPY_MODEL_964212339a614dc4b244dd85464c155d"
      }
     },
     "ebe128ea294142459765d6098ca68e1a": {
      "model_module": "@jupyter-widgets/controls",
      "model_module_version": "1.5.0",
      "model_name": "FloatSliderModel",
      "state": {
       "description": "diffuse",
       "layout": "IPY_MODEL_3581f98b0e0b489eb1e8d1ffb45828de",
       "max": 3,
       "step": 0.1,
       "style": "IPY_MODEL_2171707fa97347488af43fe88a591d0f",
       "value": 1
      }
     },
     "ec0d311430274174ad6f8002cc5ab013": {
      "model_module": "@jupyter-widgets/controls",
      "model_module_version": "1.5.0",
      "model_name": "ButtonModel",
      "state": {
       "description": "Add category",
       "layout": "IPY_MODEL_8cca7f8fad02405fb87c0732c5a43356",
       "style": "IPY_MODEL_70cd0cda1a844c278ad4555f50d5490a"
      }
     },
     "ec128f27e5d548fd89d35f652fb3d014": {
      "model_module": "@jupyter-widgets/base",
      "model_module_version": "1.2.0",
      "model_name": "LayoutModel",
      "state": {}
     },
     "ec25e9001eaf45e69cf86327398a4adc": {
      "model_module": "@jupyter-widgets/controls",
      "model_module_version": "1.5.0",
      "model_name": "HBoxModel",
      "state": {
       "children": [
        "IPY_MODEL_428b97f3a6fc42759d90478a7ffb3457",
        "IPY_MODEL_bd975fbe82284673a970cc17143dddb9"
       ],
       "layout": "IPY_MODEL_0c4ef21d02cd4d5098cab60592f95c54"
      }
     },
     "ec565a4c65ef47b7b5c481d2e487b68f": {
      "model_module": "@jupyter-widgets/controls",
      "model_module_version": "1.5.0",
      "model_name": "DescriptionStyleModel",
      "state": {
       "description_width": ""
      }
     },
     "ecd0c12b3b9e479fb4a4bdfdcb2c2842": {
      "model_module": "@jupyter-widgets/controls",
      "model_module_version": "1.5.0",
      "model_name": "IntTextModel",
      "state": {
       "description": "max",
       "layout": "IPY_MODEL_973162b76dea4a2bbb3e36144ea6db25",
       "step": 1,
       "style": "IPY_MODEL_ed253fc3290f4b25b35b8dcd2674306e",
       "value": 10
      }
     },
     "ecd6712976814a878c2eb22824a5e5e9": {
      "model_module": "@jupyter-widgets/base",
      "model_module_version": "1.2.0",
      "model_name": "LayoutModel",
      "state": {}
     },
     "ed253fc3290f4b25b35b8dcd2674306e": {
      "model_module": "@jupyter-widgets/controls",
      "model_module_version": "1.5.0",
      "model_name": "DescriptionStyleModel",
      "state": {
       "description_width": ""
      }
     },
     "ed4b23b4eff1497396c94a783926d260": {
      "model_module": "@jupyter-widgets/controls",
      "model_module_version": "1.5.0",
      "model_name": "SliderStyleModel",
      "state": {
       "description_width": ""
      }
     },
     "ed878756b8fb401389ecaf5b518387e3": {
      "model_module": "@jupyter-widgets/controls",
      "model_module_version": "1.5.0",
      "model_name": "ColorPickerModel",
      "state": {
       "description": "ambient",
       "disabled": false,
       "layout": "IPY_MODEL_8ade179874b44ec4a7a9a96454510c3e",
       "style": "IPY_MODEL_74dde666b12e4ccdbc62eb47f41ed106",
       "value": "#0fc4db"
      }
     },
     "edf9693f28bf40b480d44c9fe1f0e7bd": {
      "model_module": "@jupyter-widgets/controls",
      "model_module_version": "1.5.0",
      "model_name": "VBoxModel",
      "state": {
       "children": [
        "IPY_MODEL_6bbc88a5645f4f34bc382a3d79ab54d0",
        "IPY_MODEL_ccb212c6dfcc4c1d92cc6abceb4d2737"
       ],
       "layout": "IPY_MODEL_2340039821ec4848ab8a9b6c4eb0a864"
      }
     },
     "ef1d08148f6a452081c3eb7924ab9c8f": {
      "model_module": "@jupyter-widgets/controls",
      "model_module_version": "1.5.0",
      "model_name": "ButtonStyleModel",
      "state": {}
     },
     "efecd650a0b549cfb8d04768a7af3883": {
      "model_module": "@jupyter-widgets/base",
      "model_module_version": "1.2.0",
      "model_name": "LayoutModel",
      "state": {}
     },
     "f0677d8a64674b559e7f258cf8fa5541": {
      "model_module": "@jupyter-widgets/controls",
      "model_module_version": "1.5.0",
      "model_name": "DescriptionStyleModel",
      "state": {
       "description_width": ""
      }
     },
     "f07a901e6ad14b95a2d72d3015de3a12": {
      "model_module": "@jupyter-widgets/controls",
      "model_module_version": "1.5.0",
      "model_name": "IntSliderModel",
      "state": {
       "description": "value",
       "layout": "IPY_MODEL_38e26cd9e23545518709851cba698d94",
       "max": 10,
       "min": 1,
       "style": "IPY_MODEL_c84fe53e0e9a4df391e82723c5e179d5",
       "value": 3
      }
     },
     "f07ec7a47aa64a3a83eebeecca3f4573": {
      "model_module": "@jupyter-widgets/controls",
      "model_module_version": "1.5.0",
      "model_name": "IntSliderModel",
      "state": {
       "description": "value",
       "layout": "IPY_MODEL_1f72998eed09408198e3afb7711fce67",
       "max": 10,
       "min": 1,
       "style": "IPY_MODEL_7ff69b0f459c406da1dcf1b6b9ea1d85",
       "value": 5
      }
     },
     "f091e8ee938040379301180a6b5f8ece": {
      "model_module": "pgljupyter",
      "model_module_version": "^0.1.16",
      "model_name": "MaterialEditorModel",
      "state": {
       "_model_module_version": "^0.1.16",
       "_view_module_version": "^0.1.16",
       "children": [
        "IPY_MODEL_6b7f50760bbe40128e53e8730548a7c5",
        "IPY_MODEL_af4039e9ddde442ba446084c54416900",
        "IPY_MODEL_80301650537045819e119da69d2e1eaf",
        "IPY_MODEL_d17ee3bf95d444e6a5dc0e77911f5b59",
        "IPY_MODEL_cb7d447aaf2c4c759979e1f891e6d461",
        "IPY_MODEL_e984cba6c0f84ad5a3546c38b70bc438",
        "IPY_MODEL_89a945aee0754e80a2eee46f61496ba5",
        "IPY_MODEL_fa3fcbaf866c47d0a6ee55fb9125c3d4"
       ],
       "layout": "IPY_MODEL_92978dae10c04f879b6b666ba80d5835"
      }
     },
     "f142e994cc534a86867a64e2eda8db55": {
      "model_module": "@jupyter-widgets/controls",
      "model_module_version": "1.5.0",
      "model_name": "HBoxModel",
      "state": {
       "children": [
        "IPY_MODEL_cbdaf49adba648288d71c4ee0c85a46d",
        "IPY_MODEL_96ef1dd3e38b40a6b4b6aa0a8d3bcca5"
       ],
       "layout": "IPY_MODEL_266957bdee4c488d96db5cfceab4b072"
      }
     },
     "f147ffdfc6994c26b4177e9b873ebcc9": {
      "model_module": "pgljupyter",
      "model_module_version": "^0.1.17",
      "model_name": "IntEditorModel",
      "state": {
       "_model_module_version": "^0.1.17",
       "_view_module_version": "^0.1.17",
       "children": [
        "IPY_MODEL_445f90f4d3de40cb874172bbb0b2c38d",
        "IPY_MODEL_004fe4bded924a9a932e3394f3befd69"
       ],
       "layout": "IPY_MODEL_80b56e6d76c34f719488204e0bf1de2d"
      }
     },
     "f1c6aa52cc2a40a396a24165e1c5bf64": {
      "model_module": "@jupyter-widgets/controls",
      "model_module_version": "1.5.0",
      "model_name": "DescriptionStyleModel",
      "state": {
       "description_width": ""
      }
     },
     "f223c7d886294225be0b4cb6d842a989": {
      "model_module": "@jupyter-widgets/controls",
      "model_module_version": "1.5.0",
      "model_name": "SliderStyleModel",
      "state": {
       "description_width": ""
      }
     },
     "f2282812a130441eac41b660ee49477d": {
      "model_module": "@jupyter-widgets/controls",
      "model_module_version": "1.5.0",
      "model_name": "ButtonModel",
      "state": {
       "description": "Save changes",
       "layout": "IPY_MODEL_37be1e18450a48628dc1cfe7889e3ae0",
       "style": "IPY_MODEL_ae49ac24f7d94cbea0a0b653a87d4b7d"
      }
     },
     "f26688f6c93d449ca3039c51f092914f": {
      "model_module": "@jupyter-widgets/controls",
      "model_module_version": "1.5.0",
      "model_name": "ButtonStyleModel",
      "state": {}
     },
     "f2ce19fc1a01412bb35dc2f4381a068b": {
      "model_module": "@jupyter-widgets/controls",
      "model_module_version": "1.5.0",
      "model_name": "DescriptionStyleModel",
      "state": {
       "description_width": ""
      }
     },
     "f364d80a738d4f4a84c272cef9cd3e68": {
      "model_module": "@jupyter-widgets/controls",
      "model_module_version": "1.5.0",
      "model_name": "TextModel",
      "state": {
       "continuous_update": false,
       "description": "name",
       "layout": "IPY_MODEL_c70724b373544707a8ceb6ea34ead215",
       "style": "IPY_MODEL_f5bfbe34070d48409e2eb89df0aaa1dc",
       "value": "color_2"
      }
     },
     "f3b5f46f7b7c466baaef384604030357": {
      "model_module": "@jupyter-widgets/base",
      "model_module_version": "1.2.0",
      "model_name": "LayoutModel",
      "state": {}
     },
     "f3c024e88d6640b3b187291687dc790d": {
      "model_module": "@jupyter-widgets/base",
      "model_module_version": "1.2.0",
      "model_name": "LayoutModel",
      "state": {}
     },
     "f3ecc66415384a3b93c8afe5ca93b8f6": {
      "model_module": "@jupyter-widgets/base",
      "model_module_version": "1.2.0",
      "model_name": "LayoutModel",
      "state": {}
     },
     "f41d2bc09ad24d97b1e0e97f75537487": {
      "model_module": "@jupyter-widgets/base",
      "model_module_version": "1.2.0",
      "model_name": "LayoutModel",
      "state": {}
     },
     "f41ebca09dd94958b840510087992ffe": {
      "model_module": "@jupyter-widgets/base",
      "model_module_version": "1.2.0",
      "model_name": "LayoutModel",
      "state": {
       "margin": "20px 0px"
      }
     },
     "f4f2faa3af214fe2ad81b69860fda065": {
      "model_module": "@jupyter-widgets/base",
      "model_module_version": "1.2.0",
      "model_name": "LayoutModel",
      "state": {}
     },
     "f5730ea7e7c64ddd832fe8d4f113f656": {
      "model_module": "@jupyter-widgets/controls",
      "model_module_version": "1.5.0",
      "model_name": "ColorPickerModel",
      "state": {
       "description": "ambient",
       "disabled": false,
       "layout": "IPY_MODEL_a5264762497747948922c606524ae042",
       "style": "IPY_MODEL_4045fe6afc194dcaa3f2c54427fa1745",
       "value": "#195717"
      }
     },
     "f5bfbe34070d48409e2eb89df0aaa1dc": {
      "model_module": "@jupyter-widgets/controls",
      "model_module_version": "1.5.0",
      "model_name": "DescriptionStyleModel",
      "state": {
       "description_width": ""
      }
     },
     "f6877ba37bef4c718f9ad54a1dee9c7e": {
      "model_module": "@jupyter-widgets/controls",
      "model_module_version": "1.5.0",
      "model_name": "VBoxModel",
      "state": {
       "children": [
        "IPY_MODEL_5872ea4882c74993af9862d9a8bfcb9f",
        "IPY_MODEL_20298b4a168141e9be68094a28287409",
        "IPY_MODEL_ebac3b19d9ab409d9c42b53d972811e3",
        "IPY_MODEL_e7e58753b42f479c87b45106eebaf7d8",
        "IPY_MODEL_cbb885bb9b4c46c4a535abf50628efc5"
       ],
       "layout": "IPY_MODEL_c2ea397318574d91a49746ced9e8db1a"
      }
     },
     "f6bd143eb72a4021a9ee1d0db9b45016": {
      "model_module": "@jupyter-widgets/controls",
      "model_module_version": "1.5.0",
      "model_name": "FloatTextModel",
      "state": {
       "description": "min",
       "layout": "IPY_MODEL_340f0dbc98ff42bda049e2e8bbb7b838",
       "step": null,
       "style": "IPY_MODEL_7ee5793271fa419b8cf938c7cdd42829",
       "value": 0.01
      }
     },
     "f6d0532b4d034ab5add8a942c8036f27": {
      "model_module": "@jupyter-widgets/controls",
      "model_module_version": "1.5.0",
      "model_name": "SliderStyleModel",
      "state": {
       "description_width": ""
      }
     },
     "f7a150d82f6d40e4934ef1a89819382f": {
      "model_module": "@jupyter-widgets/base",
      "model_module_version": "1.2.0",
      "model_name": "LayoutModel",
      "state": {}
     },
     "f7ff34c66d4b431c8d7a458913ac23de": {
      "model_module": "@jupyter-widgets/base",
      "model_module_version": "1.2.0",
      "model_name": "LayoutModel",
      "state": {
       "flex_flow": "row wrap",
       "margin": "20px"
      }
     },
     "f809bb47cbf94d079b9331253cf0b41b": {
      "model_module": "@jupyter-widgets/base",
      "model_module_version": "1.2.0",
      "model_name": "LayoutModel",
      "state": {}
     },
     "f826609262fd40cb852fc2f4bd691b74": {
      "model_module": "@jupyter-widgets/base",
      "model_module_version": "1.2.0",
      "model_name": "LayoutModel",
      "state": {}
     },
     "f834a6370cbe4f55b43168d73475ea6e": {
      "model_module": "@jupyter-widgets/controls",
      "model_module_version": "1.5.0",
      "model_name": "HBoxModel",
      "state": {
       "children": [
        "IPY_MODEL_aa07377abfb5489ca39018eb747fddb6",
        "IPY_MODEL_58b01411a162470783fbaaa91028104c"
       ],
       "layout": "IPY_MODEL_7e4f103663654092a3b6f3f18908d2a4"
      }
     },
     "f83dfb11eba54161877d623ec09906b5": {
      "model_module": "@jupyter-widgets/base",
      "model_module_version": "1.2.0",
      "model_name": "LayoutModel",
      "state": {
       "flex_flow": "row wrap"
      }
     },
     "f8bb53ae98a6404eb9fbd8309f221e79": {
      "model_module": "@jupyter-widgets/controls",
      "model_module_version": "1.5.0",
      "model_name": "DescriptionStyleModel",
      "state": {
       "description_width": ""
      }
     },
     "f8bc8a94e6fc4a96a7ccd3d239c789b6": {
      "model_module": "@jupyter-widgets/base",
      "model_module_version": "1.2.0",
      "model_name": "LayoutModel",
      "state": {}
     },
     "f8e8217ad4ff42db874a2be04d88d09c": {
      "model_module": "@jupyter-widgets/base",
      "model_module_version": "1.2.0",
      "model_name": "LayoutModel",
      "state": {}
     },
     "f958a1e7a32245119bf98c95905da1a2": {
      "model_module": "@jupyter-widgets/controls",
      "model_module_version": "1.5.0",
      "model_name": "ColorPickerModel",
      "state": {
       "description": "specular",
       "disabled": false,
       "layout": "IPY_MODEL_9b552c4d5fcb4cb5a27ef472c8be80f2",
       "style": "IPY_MODEL_537f1d906667422699e2fce4b5f31496",
       "value": "#282828"
      }
     },
     "fa3fcbaf866c47d0a6ee55fb9125c3d4": {
      "model_module": "@jupyter-widgets/controls",
      "model_module_version": "1.5.0",
      "model_name": "FloatSliderModel",
      "state": {
       "description": "shininess",
       "layout": "IPY_MODEL_0493264d976c421cbf4fe203f92091da",
       "max": 1,
       "step": 0.1,
       "style": "IPY_MODEL_19c0e5bf37c2495dba13da8f747c69e9",
       "value": 0.2
      }
     },
     "fa6085381b324435aa9032f0b10413fd": {
      "model_module": "@jupyter-widgets/base",
      "model_module_version": "1.2.0",
      "model_name": "LayoutModel",
      "state": {
       "margin": "20px 0px"
      }
     },
     "fa78c56a5cee470db3de6e4fe2ec4481": {
      "model_module": "@jupyter-widgets/controls",
      "model_module_version": "1.5.0",
      "model_name": "IntSliderModel",
      "state": {
       "description": "value",
       "layout": "IPY_MODEL_9e9b6175f07b4b388b45284c5be91fe8",
       "max": 7,
       "min": 1,
       "style": "IPY_MODEL_200bbcd159c24386b1e2e9fe9c914ff7",
       "value": 3
      }
     },
     "fb438b1cc1484336bb3533aa50de8e15": {
      "model_module": "@jupyter-widgets/base",
      "model_module_version": "1.2.0",
      "model_name": "LayoutModel",
      "state": {}
     },
     "fc7845240a5a42389a89509a28eb34dd": {
      "model_module": "@jupyter-widgets/controls",
      "model_module_version": "1.5.0",
      "model_name": "DescriptionStyleModel",
      "state": {
       "description_width": ""
      }
     },
     "fcdb0e54646c4bbbb1485f7cb42b4bbc": {
      "model_module": "@jupyter-widgets/controls",
      "model_module_version": "1.5.0",
      "model_name": "ButtonModel",
      "state": {
       "description": "Add",
       "layout": "IPY_MODEL_028403f5d1004d399f4c48bedf82c508",
       "style": "IPY_MODEL_c7ce13c027424623b6f2e99ab754ce1b"
      }
     },
     "fce01e4c69184a6aa0107d409c41700a": {
      "model_module": "@jupyter-widgets/controls",
      "model_module_version": "1.5.0",
      "model_name": "DescriptionStyleModel",
      "state": {
       "description_width": ""
      }
     },
     "fd123b157eeb4540a7cc729aaa32ef3f": {
      "model_module": "@jupyter-widgets/controls",
      "model_module_version": "1.5.0",
      "model_name": "ButtonModel",
      "state": {
       "description": "Apply changes",
       "layout": "IPY_MODEL_8b9d8ab9579d479587514dba40ca7bcd",
       "style": "IPY_MODEL_907af94c6c2443389979483218e080ca"
      }
     },
     "fd273ce6761742148ac89669bc64d98d": {
      "model_module": "@jupyter-widgets/base",
      "model_module_version": "1.2.0",
      "model_name": "LayoutModel",
      "state": {
       "margin": "20px 0px"
      }
     },
     "fd50b55e03484806aa3cae2a2541a1d3": {
      "model_module": "@jupyter-widgets/base",
      "model_module_version": "1.2.0",
      "model_name": "LayoutModel",
      "state": {}
     },
     "fdc7cdfb71c14e9f9ae8327b7e4919ce": {
      "model_module": "@jupyter-widgets/base",
      "model_module_version": "1.2.0",
      "model_name": "LayoutModel",
      "state": {}
     },
     "fdd783e8cd6f4152908064599bd69390": {
      "model_module": "@jupyter-widgets/base",
      "model_module_version": "1.2.0",
      "model_name": "LayoutModel",
      "state": {}
     },
     "fe19d3f5e3dc4cd99368775b1f16b8cc": {
      "model_module": "@jupyter-widgets/controls",
      "model_module_version": "1.5.0",
      "model_name": "ButtonStyleModel",
      "state": {}
     },
     "fe39b8c3b9064292a4c361b7263a6c84": {
      "model_module": "@jupyter-widgets/controls",
      "model_module_version": "1.5.0",
      "model_name": "BoundedIntTextModel",
      "state": {
       "description": "index",
       "layout": "IPY_MODEL_2efed7a1fa88483699467354d3562b8e",
       "style": "IPY_MODEL_d152ff0131e44467aa1643fe2974e1b9",
       "value": 1
      }
     },
     "fe6fc9b954504ac48e9ea7a8339c409b": {
      "model_module": "@jupyter-widgets/controls",
      "model_module_version": "1.5.0",
      "model_name": "FloatSliderModel",
      "state": {
       "description": "transparency",
       "layout": "IPY_MODEL_71bc512b2098424d90eb915826bf82e4",
       "max": 1,
       "step": 0.1,
       "style": "IPY_MODEL_94fe467575e84f10afa968e472e6294b"
      }
     },
     "fe77130544c74fea9c083f6b668bcfaf": {
      "model_module": "@jupyter-widgets/controls",
      "model_module_version": "1.5.0",
      "model_name": "DescriptionStyleModel",
      "state": {
       "description_width": ""
      }
     },
     "fed9460058884e208750ebcd25227db9": {
      "model_module": "@jupyter-widgets/controls",
      "model_module_version": "1.5.0",
      "model_name": "CheckboxModel",
      "state": {
       "description": "Auto apply",
       "disabled": false,
       "layout": "IPY_MODEL_7684bf627af64c99a1beb3e9c3800d93",
       "style": "IPY_MODEL_1f1df1d84cbd4198a124c637fd5a7782",
       "value": false
      }
     },
     "ff9430da97704faca4a5581d596a9844": {
      "model_module": "@jupyter-widgets/base",
      "model_module_version": "1.2.0",
      "model_name": "LayoutModel",
      "state": {}
     },
     "ffc34902c36642e1969fa8c466aeb653": {
      "model_module": "@jupyter-widgets/base",
      "model_module_version": "1.2.0",
      "model_name": "LayoutModel",
      "state": {
       "margin": "20px 0px"
      }
     },
     "ffd2e60a3312408a8134cc48bad3dece": {
      "model_module": "@jupyter-widgets/controls",
      "model_module_version": "1.5.0",
      "model_name": "FloatSliderModel",
      "state": {
       "description": "diffuse",
       "layout": "IPY_MODEL_9e2c5933bf4e4702ae54e16799be5b86",
       "max": 3,
       "step": 0.1,
       "style": "IPY_MODEL_1b23eb33720947ad81bbf0cc81ea07cf",
       "value": 1
      }
     },
     "ffd47b6cfe404097909f5f4870a7fc67": {
      "model_module": "@jupyter-widgets/controls",
      "model_module_version": "1.5.0",
      "model_name": "DescriptionStyleModel",
      "state": {
       "description_width": ""
      }
     }
    },
    "version_major": 2,
    "version_minor": 0
   }
  }
 },
 "nbformat": 4,
 "nbformat_minor": 4
}
