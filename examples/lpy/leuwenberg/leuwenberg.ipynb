{
 "cells": [
  {
   "cell_type": "code",
   "execution_count": 1,
   "metadata": {},
   "outputs": [],
   "source": [
    "from pgljupyter import LsystemWidget"
   ]
  },
  {
   "cell_type": "code",
   "execution_count": 2,
   "metadata": {},
   "outputs": [],
   "source": [
    "lw = LsystemWidget('leuwenberg.lpy',\n",
    "    unit='m',\n",
    "    size_display=(600, 400),\n",
    "    size_world=50, animate=True\n",
    ")"
   ]
  },
  {
   "cell_type": "code",
   "execution_count": 3,
   "metadata": {},
   "outputs": [
    {
     "data": {
      "application/vnd.jupyter.widget-view+json": {
       "model_id": "3d255227d42d45b7a955570c70d7636b",
       "version_major": 2,
       "version_minor": 0
      },
      "text/plain": [
       "LsystemWidget(animate=True, derivationLength=42, scene={'data': b'x\\xdaSLrw\\xf5\\xf7e`Pp\\xe0\\xe5RPVVde```be\\x08…"
      ]
     },
     "metadata": {},
     "output_type": "display_data"
    }
   ],
   "source": [
    "lw"
   ]
  },
  {
   "cell_type": "code",
   "execution_count": null,
   "metadata": {},
   "outputs": [],
   "source": [
    "lw.editor"
   ]
  },
  {
   "cell_type": "code",
   "execution_count": null,
   "metadata": {},
   "outputs": [],
   "source": []
  }
 ],
 "metadata": {
  "kernelspec": {
   "display_name": "Python 3",
   "language": "python",
   "name": "python3"
  },
  "language_info": {
   "codemirror_mode": {
    "name": "ipython",
    "version": 3
   },
   "file_extension": ".py",
   "mimetype": "text/x-python",
   "name": "python",
   "nbconvert_exporter": "python",
   "pygments_lexer": "ipython3",
   "version": "3.8.5"
  },
  "widgets": {
   "application/vnd.jupyter.widget-state+json": {
    "state": {
     "0003eef9dd3941f89ac65b920608e8dc": {
      "model_module": "@jupyter-widgets/controls",
      "model_module_version": "1.5.0",
      "model_name": "TextModel",
      "state": {
       "continuous_update": false,
       "description": "name",
       "layout": "IPY_MODEL_0d347c8d511c4ca99b99c3030263eb62",
       "style": "IPY_MODEL_0c375f6ffc5f415bbfbaa228315317b0",
       "value": "leafold"
      }
     },
     "0008873d24ed4fa3b871bc34051bd716": {
      "model_module": "@jupyter-widgets/controls",
      "model_module_version": "1.5.0",
      "model_name": "TextModel",
      "state": {
       "continuous_update": false,
       "description": "name",
       "layout": "IPY_MODEL_67555ffb059840dd83d40a952b22cf1d",
       "style": "IPY_MODEL_bfcd0c0f65914aef9be1c321c3bcf1e0",
       "value": "leafold"
      }
     },
     "0010fef821bc48b083984f720d45fe40": {
      "model_module": "@jupyter-widgets/controls",
      "model_module_version": "1.5.0",
      "model_name": "SliderStyleModel",
      "state": {
       "description_width": ""
      }
     },
     "004fe4bded924a9a932e3394f3befd69": {
      "model_module": "@jupyter-widgets/controls",
      "model_module_version": "1.5.0",
      "model_name": "IntSliderModel",
      "state": {
       "description": "value",
       "layout": "IPY_MODEL_66d7a1826e15429d8f8f2cf795ccb6c1",
       "max": 10,
       "min": 1,
       "style": "IPY_MODEL_d59eedfe91e040bd83b09d32a1718f4b",
       "value": 2
      }
     },
     "007b8ebb7e7d4caaad2e0c237439f3d5": {
      "model_module": "@jupyter-widgets/controls",
      "model_module_version": "1.5.0",
      "model_name": "DropdownModel",
      "state": {
       "_options_labels": [
        "trunk",
        "leaf_new",
        "apex",
        "leaf_old"
       ],
       "index": 0,
       "layout": "IPY_MODEL_e881f4d66fc34fa5a8bf3f637ac484f2",
       "style": "IPY_MODEL_e14de5b08dfe4ad19aaeed9488ebd7af"
      }
     },
     "0095f53d7b9d447db6885939bd2cb620": {
      "model_module": "@jupyter-widgets/controls",
      "model_module_version": "1.5.0",
      "model_name": "DescriptionStyleModel",
      "state": {
       "description_width": ""
      }
     },
     "0098827af4e640a7995f79067eabb137": {
      "model_module": "@jupyter-widgets/controls",
      "model_module_version": "1.5.0",
      "model_name": "DescriptionStyleModel",
      "state": {
       "description_width": ""
      }
     },
     "00d6b976c7584356bc8ace10cc276390": {
      "model_module": "@jupyter-widgets/controls",
      "model_module_version": "1.5.0",
      "model_name": "FloatSliderModel",
      "state": {
       "description": "diffuse",
       "layout": "IPY_MODEL_d18e48c309db4852aa5cdc3da1012b6e",
       "max": 3,
       "step": 0.1,
       "style": "IPY_MODEL_5493e679c57d4a0689415a4a88aea275",
       "value": 1
      }
     },
     "0108f7fc56644931b6e9ab7e757df267": {
      "model_module": "@jupyter-widgets/controls",
      "model_module_version": "1.5.0",
      "model_name": "FloatSliderModel",
      "state": {
       "description": "transparency",
       "layout": "IPY_MODEL_9d18be69857d479da54872b16cad623b",
       "max": 1,
       "step": 0.1,
       "style": "IPY_MODEL_90f65d5e0f7d4ba297b91d7381a9b694"
      }
     },
     "0152374133564b448491bef7e0098d98": {
      "model_module": "@jupyter-widgets/base",
      "model_module_version": "1.2.0",
      "model_name": "LayoutModel",
      "state": {}
     },
     "015a0162e977482199ff9aa70a46096a": {
      "model_module": "@jupyter-widgets/controls",
      "model_module_version": "1.5.0",
      "model_name": "DescriptionStyleModel",
      "state": {
       "description_width": ""
      }
     },
     "0176e28a1109422494c3cddf25a960f7": {
      "model_module": "@jupyter-widgets/base",
      "model_module_version": "1.2.0",
      "model_name": "LayoutModel",
      "state": {}
     },
     "01a9830728ff43debfe68c7ed9c0c0f1": {
      "model_module": "@jupyter-widgets/base",
      "model_module_version": "1.2.0",
      "model_name": "LayoutModel",
      "state": {}
     },
     "01b4759293cd4876b08c36080cc6c88b": {
      "model_module": "@jupyter-widgets/controls",
      "model_module_version": "1.5.0",
      "model_name": "DescriptionStyleModel",
      "state": {
       "description_width": ""
      }
     },
     "0241bcf8e4d449588382dcfa0fadf1f7": {
      "model_module": "@jupyter-widgets/controls",
      "model_module_version": "1.5.0",
      "model_name": "BoundedIntTextModel",
      "state": {
       "description": "index",
       "layout": "IPY_MODEL_3bd8c5155e614aa49b91b3ee03106bb8",
       "style": "IPY_MODEL_8b50cab205524c5684de777fe16b12c6",
       "value": 3
      }
     },
     "024c0a7ea2924ff5a9d4b4e8dd33f20f": {
      "model_module": "@jupyter-widgets/base",
      "model_module_version": "1.2.0",
      "model_name": "LayoutModel",
      "state": {}
     },
     "0263367b3ff344bcaffd73258d997ec2": {
      "model_module": "@jupyter-widgets/base",
      "model_module_version": "1.2.0",
      "model_name": "LayoutModel",
      "state": {}
     },
     "0265533bc3464ca7a91abeccee38a36a": {
      "model_module": "@jupyter-widgets/controls",
      "model_module_version": "1.5.0",
      "model_name": "DescriptionStyleModel",
      "state": {
       "description_width": ""
      }
     },
     "026723ae658e489db0402b1860155fde": {
      "model_module": "@jupyter-widgets/base",
      "model_module_version": "1.2.0",
      "model_name": "LayoutModel",
      "state": {}
     },
     "028403f5d1004d399f4c48bedf82c508": {
      "model_module": "@jupyter-widgets/base",
      "model_module_version": "1.2.0",
      "model_name": "LayoutModel",
      "state": {}
     },
     "02a0a641a80b42a6abd95b43fd404dce": {
      "model_module": "@jupyter-widgets/controls",
      "model_module_version": "1.5.0",
      "model_name": "HBoxModel",
      "state": {
       "children": [
        "IPY_MODEL_96a5793689434924ae2e18ffeb1734a9",
        "IPY_MODEL_404f3dcf0b4b4baeb1e9d23f637e521e"
       ],
       "layout": "IPY_MODEL_dd665a625d6d4bd4adf8224a8f2126ec"
      }
     },
     "02a935317d5e4652b323d2ec7d9e44eb": {
      "model_module": "@jupyter-widgets/controls",
      "model_module_version": "1.5.0",
      "model_name": "DropdownModel",
      "state": {
       "_options_labels": [
        "leafduration",
        "leafold"
       ],
       "index": 0,
       "layout": "IPY_MODEL_7c495f80dfa7400dbddaade48310293e",
       "style": "IPY_MODEL_7854ff74524f4fe689ec29f12ee822fa"
      }
     },
     "02cd8be6c855476f923f34ecaade3abd": {
      "model_module": "@jupyter-widgets/base",
      "model_module_version": "1.2.0",
      "model_name": "LayoutModel",
      "state": {}
     },
     "02e2b611d447416aad39778127a3a98f": {
      "model_module": "@jupyter-widgets/base",
      "model_module_version": "1.2.0",
      "model_name": "LayoutModel",
      "state": {}
     },
     "0300001a45404b209a36c5be9117a9b4": {
      "model_module": "@jupyter-widgets/controls",
      "model_module_version": "1.5.0",
      "model_name": "AccordionModel",
      "state": {
       "_titles": {
        "0": "materials",
        "1": "leaf"
       },
       "children": [
        "IPY_MODEL_edf9693f28bf40b480d44c9fe1f0e7bd",
        "IPY_MODEL_93e9e1a13f404740b06bcbb3b04fbbe8"
       ],
       "layout": "IPY_MODEL_83d1112a98b24ad985e153a4de2805d3"
      }
     },
     "0366a0590c4e4687a64fd5d1d1a58442": {
      "model_module": "@jupyter-widgets/controls",
      "model_module_version": "1.5.0",
      "model_name": "DescriptionStyleModel",
      "state": {
       "description_width": ""
      }
     },
     "0374667b4982433588ab814caec15c06": {
      "model_module": "@jupyter-widgets/controls",
      "model_module_version": "1.5.0",
      "model_name": "TextModel",
      "state": {
       "continuous_update": false,
       "description": "name",
       "layout": "IPY_MODEL_0c214a765182457a8496273eb3ddc16b",
       "style": "IPY_MODEL_400c5e9aded44fda90d2ab16b75fd897",
       "value": "leaf_new"
      }
     },
     "039429b73bae419cac4d3913fcdbfdbc": {
      "model_module": "pgljupyter",
      "model_module_version": "^0.1.18",
      "model_name": "IntEditorModel",
      "state": {
       "_model_module_version": "^0.1.18",
       "_view_module_version": "^0.1.18",
       "children": [
        "IPY_MODEL_310624f7b16b4f028b5ca1be66aaddee",
        "IPY_MODEL_058f89ece3f44754b73b35d4bbeebeea"
       ],
       "layout": "IPY_MODEL_cdf37350d48b41aa95e2f22bc8635d1f"
      }
     },
     "03ab5d400c7b448cbd80354c73a71b69": {
      "model_module": "@jupyter-widgets/controls",
      "model_module_version": "1.5.0",
      "model_name": "ButtonModel",
      "state": {
       "description": "Delete",
       "layout": "IPY_MODEL_9fafbd4bd5c347e4855e7442dafe12b9",
       "style": "IPY_MODEL_d9fb92da354f41de80d8aed312a46ccd"
      }
     },
     "03b7ff59bdfb45ae9fec96faf9e7b637": {
      "model_module": "@jupyter-widgets/controls",
      "model_module_version": "1.5.0",
      "model_name": "DescriptionStyleModel",
      "state": {
       "description_width": ""
      }
     },
     "03dfd11a2f0b4fb391e312128903d288": {
      "model_module": "@jupyter-widgets/base",
      "model_module_version": "1.2.0",
      "model_name": "LayoutModel",
      "state": {}
     },
     "0414cc8a90c64c448f20ab6c7de8a484": {
      "model_module": "@jupyter-widgets/controls",
      "model_module_version": "1.5.0",
      "model_name": "DropdownModel",
      "state": {
       "_options_labels": [
        "Color"
       ],
       "index": 0,
       "layout": "IPY_MODEL_d56364ff1cc441588f37f856b104fb7f",
       "style": "IPY_MODEL_69adca6b2b7d471ca668269a5c227e1f"
      }
     },
     "043c34dc906e4167928f4d176318bc85": {
      "model_module": "@jupyter-widgets/controls",
      "model_module_version": "1.5.0",
      "model_name": "ColorPickerModel",
      "state": {
       "description": "specular",
       "disabled": false,
       "layout": "IPY_MODEL_914f2d720e814344b6090277a3ff863a",
       "style": "IPY_MODEL_0e6cde1ebdac4f53af7c24a9ba0b8c11",
       "value": "#282828"
      }
     },
     "044e7d5484c34640988858fe96fcfdd6": {
      "model_module": "@jupyter-widgets/controls",
      "model_module_version": "1.5.0",
      "model_name": "DropdownModel",
      "state": {
       "_options_labels": [
        "NurbsCurve2D",
        "BezierCurve2D",
        "Polyline2D",
        "Function"
       ],
       "index": 0,
       "layout": "IPY_MODEL_29963b5130614ef58373b07536e44942",
       "style": "IPY_MODEL_8eb293d9f1ca49e4a0d8a5d438b925e5"
      }
     },
     "0493264d976c421cbf4fe203f92091da": {
      "model_module": "@jupyter-widgets/base",
      "model_module_version": "1.2.0",
      "model_name": "LayoutModel",
      "state": {}
     },
     "0499384873a04178a41a7a611d6d08dc": {
      "model_module": "@jupyter-widgets/base",
      "model_module_version": "1.2.0",
      "model_name": "LayoutModel",
      "state": {}
     },
     "04bf48cf21fd4ef3b2fc2c87f891da0a": {
      "model_module": "@jupyter-widgets/base",
      "model_module_version": "1.2.0",
      "model_name": "LayoutModel",
      "state": {}
     },
     "04c46391563944e09f827e89ec2715fa": {
      "model_module": "@jupyter-widgets/base",
      "model_module_version": "1.2.0",
      "model_name": "LayoutModel",
      "state": {}
     },
     "04cbb9188a174a70bb551de95a1ec0a3": {
      "model_module": "@jupyter-widgets/controls",
      "model_module_version": "1.5.0",
      "model_name": "ButtonModel",
      "state": {
       "description": "Apply changes",
       "layout": "IPY_MODEL_ef8bbf3c99984ea7a0ada6febc787943",
       "style": "IPY_MODEL_cc25751e00dd443fb5153b58575d586f"
      }
     },
     "04fd9850624b45509d3404170dfb2b93": {
      "model_module": "@jupyter-widgets/controls",
      "model_module_version": "1.5.0",
      "model_name": "HBoxModel",
      "state": {
       "children": [
        "IPY_MODEL_83f82817d8894598b39eea4838260197",
        "IPY_MODEL_3bcea9f32a2f480c95fd4897749b2ca9"
       ],
       "layout": "IPY_MODEL_df696dde9f0e41c2be1075f4577638d5"
      }
     },
     "0514c99c868447989415c25ff4d7162a": {
      "model_module": "@jupyter-widgets/base",
      "model_module_version": "1.2.0",
      "model_name": "LayoutModel",
      "state": {}
     },
     "05158b063b184ffe96c65e42e171536a": {
      "model_module": "@jupyter-widgets/base",
      "model_module_version": "1.2.0",
      "model_name": "LayoutModel",
      "state": {}
     },
     "055dec0cea5041829e855a22e1086bb8": {
      "model_module": "@jupyter-widgets/base",
      "model_module_version": "1.2.0",
      "model_name": "LayoutModel",
      "state": {}
     },
     "057fc401feeb40d0858ffb015d0b71f2": {
      "model_module": "@jupyter-widgets/base",
      "model_module_version": "1.2.0",
      "model_name": "LayoutModel",
      "state": {
       "margin": "20px 0px"
      }
     },
     "058c249a39c04bedbadbabfd56c8cbca": {
      "model_module": "@jupyter-widgets/controls",
      "model_module_version": "1.5.0",
      "model_name": "ColorPickerModel",
      "state": {
       "description": "ambient",
       "disabled": false,
       "layout": "IPY_MODEL_16cce7023d354ddfba60e067833ebb2b",
       "style": "IPY_MODEL_f9d90d05276440c2b0ff25f4cf787f32",
       "value": "#e1a014"
      }
     },
     "058f89ece3f44754b73b35d4bbeebeea": {
      "model_module": "@jupyter-widgets/controls",
      "model_module_version": "1.5.0",
      "model_name": "IntSliderModel",
      "state": {
       "description": "value",
       "layout": "IPY_MODEL_28dbfeb66b4146699787fc4516f4869c",
       "max": 10,
       "min": 1,
       "style": "IPY_MODEL_6606341d02fc439dbd25cdd30951c0c4",
       "value": 2
      }
     },
     "05a5ce6fe609440eaac4fb1a88000fa7": {
      "model_module": "@jupyter-widgets/controls",
      "model_module_version": "1.5.0",
      "model_name": "DescriptionStyleModel",
      "state": {
       "description_width": ""
      }
     },
     "060b0a3a5fe149d88da37110e7fd99dd": {
      "model_module": "@jupyter-widgets/controls",
      "model_module_version": "1.5.0",
      "model_name": "ButtonModel",
      "state": {
       "description": "Add category",
       "layout": "IPY_MODEL_203311275276426398b1e3c34669b385",
       "style": "IPY_MODEL_dd91341438fb460cb5355fac879a754e"
      }
     },
     "065f562240b640f2ae0d150761123893": {
      "model_module": "@jupyter-widgets/controls",
      "model_module_version": "1.5.0",
      "model_name": "SliderStyleModel",
      "state": {
       "description_width": ""
      }
     },
     "06a4c0bb621c49b0a886a6f2d4b71f84": {
      "model_module": "@jupyter-widgets/controls",
      "model_module_version": "1.5.0",
      "model_name": "BoundedIntTextModel",
      "state": {
       "description": "step",
       "layout": "IPY_MODEL_7015fbbda9c047b391aecaeef63cd104",
       "min": 1,
       "style": "IPY_MODEL_1a8e5e8102f24f6788a2e4825cfd5527",
       "value": 1
      }
     },
     "06c676714abc45c2bd668d409b3f913f": {
      "model_module": "@jupyter-widgets/base",
      "model_module_version": "1.2.0",
      "model_name": "LayoutModel",
      "state": {}
     },
     "06da4c288f8b48efae9708615015dd07": {
      "model_module": "@jupyter-widgets/controls",
      "model_module_version": "1.5.0",
      "model_name": "ColorPickerModel",
      "state": {
       "description": "emission",
       "disabled": false,
       "layout": "IPY_MODEL_b2dff12eb7f74161896fad4ff14e216e",
       "style": "IPY_MODEL_5b06ffa55f8c4305b3bf43c5d33fe5f6",
       "value": "#000000"
      }
     },
     "06e3dd0a8b534013bd1cb1d04dbd5286": {
      "model_module": "@jupyter-widgets/base",
      "model_module_version": "1.2.0",
      "model_name": "LayoutModel",
      "state": {}
     },
     "0728179a541f413fa5aae643b0fd424c": {
      "model_module": "@jupyter-widgets/base",
      "model_module_version": "1.2.0",
      "model_name": "LayoutModel",
      "state": {}
     },
     "077634b564d442178969045cbf0cef71": {
      "model_module": "@jupyter-widgets/base",
      "model_module_version": "1.2.0",
      "model_name": "LayoutModel",
      "state": {}
     },
     "077c655a00ab41bb91239523d5e0bf21": {
      "model_module": "@jupyter-widgets/controls",
      "model_module_version": "1.5.0",
      "model_name": "ColorPickerModel",
      "state": {
       "description": "emission",
       "disabled": false,
       "layout": "IPY_MODEL_b5ad4c581bca4efb9e0e4e91dd0fc2fd",
       "style": "IPY_MODEL_3b8516e57df04b72aa4033410b7cc6fb",
       "value": "#000000"
      }
     },
     "079c5f2baafc43b7b370beb033b53a66": {
      "model_module": "@jupyter-widgets/base",
      "model_module_version": "1.2.0",
      "model_name": "LayoutModel",
      "state": {}
     },
     "07fb05e1465a436cb2c1b6e04d7bcaca": {
      "model_module": "@jupyter-widgets/controls",
      "model_module_version": "1.5.0",
      "model_name": "HBoxModel",
      "state": {
       "children": [
        "IPY_MODEL_2cabd356816143a89ce79e41bd309ed4",
        "IPY_MODEL_5f2b9448d4664b19bc2be431e51cf147"
       ],
       "layout": "IPY_MODEL_f84fb842bfdc4ca69b673ea45abcdf91"
      }
     },
     "0878b557ddb746429eeb675a0056475d": {
      "model_module": "@jupyter-widgets/base",
      "model_module_version": "1.2.0",
      "model_name": "LayoutModel",
      "state": {}
     },
     "08a086db9f984b649195bfba6e845663": {
      "model_module": "@jupyter-widgets/base",
      "model_module_version": "1.2.0",
      "model_name": "LayoutModel",
      "state": {}
     },
     "08c9c604a4d44fa3be0d38a0cee344e7": {
      "model_module": "@jupyter-widgets/controls",
      "model_module_version": "1.5.0",
      "model_name": "ButtonModel",
      "state": {
       "description": "Apply changes",
       "layout": "IPY_MODEL_0878b557ddb746429eeb675a0056475d",
       "style": "IPY_MODEL_a9567de3ebd14a1ea85f21b1ea294e13"
      }
     },
     "09963fa2ce5e420ab1d9fea614e93db0": {
      "model_module": "pgljupyter",
      "model_module_version": "^0.1.18",
      "model_name": "ParameterEditorModel",
      "state": {
       "_model_module_version": "^0.1.18",
       "_view_module_version": "^0.1.18",
       "children": [
        "IPY_MODEL_49142d5fe84f451ca57bf7979546be3b"
       ],
       "layout": "IPY_MODEL_72233f9b078644c7b23019e335582338"
      }
     },
     "09ab73e88d6a48cf971284095d2d93ee": {
      "model_module": "@jupyter-widgets/controls",
      "model_module_version": "1.5.0",
      "model_name": "SliderStyleModel",
      "state": {
       "description_width": ""
      }
     },
     "09b8c80f45194de3b8dde10dedf91332": {
      "model_module": "@jupyter-widgets/controls",
      "model_module_version": "1.5.0",
      "model_name": "SliderStyleModel",
      "state": {
       "description_width": ""
      }
     },
     "09b9272d2fe1478a8549297784bc14dc": {
      "model_module": "@jupyter-widgets/base",
      "model_module_version": "1.2.0",
      "model_name": "LayoutModel",
      "state": {}
     },
     "09d6bc5c5f48421884c5070738ff6283": {
      "model_module": "@jupyter-widgets/controls",
      "model_module_version": "1.5.0",
      "model_name": "ButtonStyleModel",
      "state": {}
     },
     "09f0b20c3d9a4a7b8d6f767b7e7153d6": {
      "model_module": "@jupyter-widgets/base",
      "model_module_version": "1.2.0",
      "model_name": "LayoutModel",
      "state": {}
     },
     "09fe84e4c04243fdb4d5769ae0bf8f00": {
      "model_module": "@jupyter-widgets/base",
      "model_module_version": "1.2.0",
      "model_name": "LayoutModel",
      "state": {}
     },
     "09fefb88b02d40be9097130da4296139": {
      "model_module": "@jupyter-widgets/controls",
      "model_module_version": "1.5.0",
      "model_name": "DescriptionStyleModel",
      "state": {
       "description_width": ""
      }
     },
     "0a200097686c4829bf34b9b3a60ec5a8": {
      "model_module": "@jupyter-widgets/controls",
      "model_module_version": "1.5.0",
      "model_name": "DescriptionStyleModel",
      "state": {
       "description_width": ""
      }
     },
     "0a40116d2d3a429698a87f2d38fdcbf3": {
      "model_module": "@jupyter-widgets/base",
      "model_module_version": "1.2.0",
      "model_name": "LayoutModel",
      "state": {}
     },
     "0a5f03bd97534a8ca13154d454ca0303": {
      "model_module": "@jupyter-widgets/base",
      "model_module_version": "1.2.0",
      "model_name": "LayoutModel",
      "state": {}
     },
     "0a8707e65f2346558a9ab598cc46de95": {
      "model_module": "@jupyter-widgets/controls",
      "model_module_version": "1.5.0",
      "model_name": "DescriptionStyleModel",
      "state": {
       "description_width": ""
      }
     },
     "0aafc59276204d4698648b7214e955f0": {
      "model_module": "@jupyter-widgets/controls",
      "model_module_version": "1.5.0",
      "model_name": "FloatSliderModel",
      "state": {
       "description": "shininess",
       "layout": "IPY_MODEL_8f5d620157024ed59ea59efe6b680541",
       "max": 1,
       "step": 0.1,
       "style": "IPY_MODEL_edf855758a43462cb032faf769489da2",
       "value": 0.2
      }
     },
     "0adb42962e0d46d8a508e6187f7b3e19": {
      "model_module": "@jupyter-widgets/controls",
      "model_module_version": "1.5.0",
      "model_name": "ButtonStyleModel",
      "state": {}
     },
     "0aea6c9bfdb24c3a9046b8a0c0ca6aa6": {
      "model_module": "@jupyter-widgets/controls",
      "model_module_version": "1.5.0",
      "model_name": "SliderStyleModel",
      "state": {
       "description_width": ""
      }
     },
     "0af1bb03cbd844ea9bfc0d9b864d0f8d": {
      "model_module": "@jupyter-widgets/base",
      "model_module_version": "1.2.0",
      "model_name": "LayoutModel",
      "state": {}
     },
     "0b0218a48fab482ca3ef910ddb9948e7": {
      "model_module": "@jupyter-widgets/base",
      "model_module_version": "1.2.0",
      "model_name": "LayoutModel",
      "state": {}
     },
     "0b86b005791f45fb93ef1e515e62e1e2": {
      "model_module": "@jupyter-widgets/controls",
      "model_module_version": "1.5.0",
      "model_name": "DescriptionStyleModel",
      "state": {
       "description_width": ""
      }
     },
     "0b93168b9537476da57b957c67d41cc5": {
      "model_module": "@jupyter-widgets/controls",
      "model_module_version": "1.5.0",
      "model_name": "SliderStyleModel",
      "state": {
       "description_width": ""
      }
     },
     "0b974aa9e4cb4b4d87d799dd6e18b83c": {
      "model_module": "@jupyter-widgets/base",
      "model_module_version": "1.2.0",
      "model_name": "LayoutModel",
      "state": {}
     },
     "0ba2cab9cc9d4511aad569640dfc3012": {
      "model_module": "@jupyter-widgets/controls",
      "model_module_version": "1.5.0",
      "model_name": "DescriptionStyleModel",
      "state": {
       "description_width": ""
      }
     },
     "0bfc733f831346d3bfd46bb08e6ed994": {
      "model_module": "@jupyter-widgets/controls",
      "model_module_version": "1.5.0",
      "model_name": "FloatSliderModel",
      "state": {
       "description": "diffuse",
       "layout": "IPY_MODEL_8929ac5c489944b49d22387a7dca08f4",
       "max": 3,
       "step": 0.1,
       "style": "IPY_MODEL_6b54e408638a4d85935aa261112cb2bb",
       "value": 1
      }
     },
     "0c214a765182457a8496273eb3ddc16b": {
      "model_module": "@jupyter-widgets/base",
      "model_module_version": "1.2.0",
      "model_name": "LayoutModel",
      "state": {}
     },
     "0c240000ec0a4039a85b00acba556d7e": {
      "model_module": "@jupyter-widgets/controls",
      "model_module_version": "1.5.0",
      "model_name": "TextModel",
      "state": {
       "layout": "IPY_MODEL_994ff1c50b4e44a6bb5d4ae45fea71f2",
       "placeholder": "category name",
       "style": "IPY_MODEL_e66efffcd57d411fa07184989115562f"
      }
     },
     "0c2bee5a70fb46b2acac86b96cb0aab2": {
      "model_module": "@jupyter-widgets/controls",
      "model_module_version": "1.5.0",
      "model_name": "HBoxModel",
      "state": {
       "children": [
        "IPY_MODEL_7cdabb93fcbc40419bf289a63174c418",
        "IPY_MODEL_a168b04a2dbf49739b7e62715ebafb2f"
       ],
       "layout": "IPY_MODEL_4d77f69f74244057baec36b232f87f78"
      }
     },
     "0c375f6ffc5f415bbfbaa228315317b0": {
      "model_module": "@jupyter-widgets/controls",
      "model_module_version": "1.5.0",
      "model_name": "DescriptionStyleModel",
      "state": {
       "description_width": ""
      }
     },
     "0c3945d18ad84ce68b356bc7fec1acc8": {
      "model_module": "@jupyter-widgets/controls",
      "model_module_version": "1.5.0",
      "model_name": "ButtonModel",
      "state": {
       "description": "Delete",
       "layout": "IPY_MODEL_68a0a5b32660431c972bf9ccdf174f33",
       "style": "IPY_MODEL_5dec0cf2269d486da8492dee4e84b3f8"
      }
     },
     "0c3bbdec026d428494f07dd37de034a8": {
      "model_module": "@jupyter-widgets/controls",
      "model_module_version": "1.5.0",
      "model_name": "HBoxModel",
      "state": {
       "children": [
        "IPY_MODEL_9f2dbce166f945239d5998018bbaae65",
        "IPY_MODEL_5eac464e5de54b27a961eb229e40565b"
       ],
       "layout": "IPY_MODEL_fcb828149d8b4587a737cf0adaca9f9c"
      }
     },
     "0c45408378854d9db7aa0e37104b7d14": {
      "model_module": "@jupyter-widgets/controls",
      "model_module_version": "1.5.0",
      "model_name": "SliderStyleModel",
      "state": {
       "description_width": ""
      }
     },
     "0c4ef21d02cd4d5098cab60592f95c54": {
      "model_module": "@jupyter-widgets/base",
      "model_module_version": "1.2.0",
      "model_name": "LayoutModel",
      "state": {}
     },
     "0c7c19e5f2d64c77816e00b8b2cd8eea": {
      "model_module": "@jupyter-widgets/base",
      "model_module_version": "1.2.0",
      "model_name": "LayoutModel",
      "state": {}
     },
     "0c8a2a58cf5a4f328c2bf47875084bee": {
      "model_module": "@jupyter-widgets/base",
      "model_module_version": "1.2.0",
      "model_name": "LayoutModel",
      "state": {}
     },
     "0ca1da812e904b3597a1f8d0066aa817": {
      "model_module": "@jupyter-widgets/controls",
      "model_module_version": "1.5.0",
      "model_name": "IntSliderModel",
      "state": {
       "description": "value",
       "layout": "IPY_MODEL_3fb78370b75d48e69e4114fc1065c34c",
       "max": 10,
       "min": 1,
       "style": "IPY_MODEL_ef02132854ed4c2993d244c63b2f1da8",
       "value": 2
      }
     },
     "0cb243c061d34b35a8ad51de93b3548a": {
      "model_module": "@jupyter-widgets/controls",
      "model_module_version": "1.5.0",
      "model_name": "DescriptionStyleModel",
      "state": {
       "description_width": ""
      }
     },
     "0cb6db6109a04c959a1aa9f31415ddf1": {
      "model_module": "@jupyter-widgets/controls",
      "model_module_version": "1.5.0",
      "model_name": "ColorPickerModel",
      "state": {
       "description": "ambient",
       "disabled": false,
       "layout": "IPY_MODEL_d77925c6797142988e94711a23d04d7b",
       "style": "IPY_MODEL_9baabb8054da4869a9a5271e3cb0fc84",
       "value": "#0fc4db"
      }
     },
     "0ce5322222f04cda8b64b0849f810223": {
      "model_module": "@jupyter-widgets/controls",
      "model_module_version": "1.5.0",
      "model_name": "DescriptionStyleModel",
      "state": {
       "description_width": ""
      }
     },
     "0cf1ba00ad3c4151acf3b5aaf9391ece": {
      "model_module": "@jupyter-widgets/controls",
      "model_module_version": "1.5.0",
      "model_name": "DescriptionStyleModel",
      "state": {
       "description_width": ""
      }
     },
     "0d137c7adb8f46d4a424e69649dea26f": {
      "model_module": "@jupyter-widgets/controls",
      "model_module_version": "1.5.0",
      "model_name": "ButtonModel",
      "state": {
       "description": "Add category",
       "layout": "IPY_MODEL_afdd149476764870a23c9d46dfe6ec0b",
       "style": "IPY_MODEL_1d2e9bf12109429982866039d15abe82"
      }
     },
     "0d2e16e55e4f4049983e0cbb83eb2316": {
      "model_module": "@jupyter-widgets/controls",
      "model_module_version": "1.5.0",
      "model_name": "DescriptionStyleModel",
      "state": {
       "description_width": ""
      }
     },
     "0d310866a28c4c1ab0562409f5a1baa5": {
      "model_module": "@jupyter-widgets/controls",
      "model_module_version": "1.5.0",
      "model_name": "TextModel",
      "state": {
       "continuous_update": false,
       "description": "name",
       "layout": "IPY_MODEL_ec80a43c5a3b4523b4da1e7a74a8af65",
       "style": "IPY_MODEL_2db8651a2bd342e7b9af50736d9bfac4",
       "value": "nb_axes"
      }
     },
     "0d347c8d511c4ca99b99c3030263eb62": {
      "model_module": "@jupyter-widgets/base",
      "model_module_version": "1.2.0",
      "model_name": "LayoutModel",
      "state": {}
     },
     "0d6a37d535614710acb801033c6e1b4b": {
      "model_module": "@jupyter-widgets/base",
      "model_module_version": "1.2.0",
      "model_name": "LayoutModel",
      "state": {}
     },
     "0d8106747f5f4d0a81928341852045a2": {
      "model_module": "@jupyter-widgets/base",
      "model_module_version": "1.2.0",
      "model_name": "LayoutModel",
      "state": {}
     },
     "0daf2556cff5466a8f88c6b061377e55": {
      "model_module": "@jupyter-widgets/base",
      "model_module_version": "1.2.0",
      "model_name": "LayoutModel",
      "state": {}
     },
     "0dd2e4883c6742ebb5b505b2aecc37c1": {
      "model_module": "@jupyter-widgets/controls",
      "model_module_version": "1.5.0",
      "model_name": "DescriptionStyleModel",
      "state": {
       "description_width": ""
      }
     },
     "0ddc4da3ab684f75a000be5326010a3f": {
      "model_module": "@jupyter-widgets/controls",
      "model_module_version": "1.5.0",
      "model_name": "ButtonModel",
      "state": {
       "description": "Delete",
       "layout": "IPY_MODEL_df83175491804b5cb47348424a380b78",
       "style": "IPY_MODEL_1145eb1b6344415fbe5da4345ed32841"
      }
     },
     "0df3c48cd89940ce80485ec6fb57722c": {
      "model_module": "@jupyter-widgets/controls",
      "model_module_version": "1.5.0",
      "model_name": "HBoxModel",
      "state": {
       "children": [
        "IPY_MODEL_e9ac5fcbb97347d7a1f9f9cc7558252d",
        "IPY_MODEL_f9ee036e79134257a314bedd8f10beed"
       ],
       "layout": "IPY_MODEL_78dff3c9b0ab4092885a4681b708b9c4"
      }
     },
     "0dfd63902b034d3a9cf7782c9e751b71": {
      "model_module": "@jupyter-widgets/controls",
      "model_module_version": "1.5.0",
      "model_name": "DropdownModel",
      "state": {
       "_options_labels": [
        "trunk",
        "leaf_new",
        "apex",
        "leaf_old"
       ],
       "index": 0,
       "layout": "IPY_MODEL_d03612b14f984819821e89add2e8abfb",
       "style": "IPY_MODEL_81614fbd057b49b38cf6c260521fd79e"
      }
     },
     "0e1758e5f97c4775894b0a98513a546f": {
      "model_module": "@jupyter-widgets/controls",
      "model_module_version": "1.5.0",
      "model_name": "ButtonModel",
      "state": {
       "description": "Add",
       "layout": "IPY_MODEL_2fa0e323165245eba4d3e15b8215c92f",
       "style": "IPY_MODEL_d32aaba5fabf43e1a51a446cc716f021"
      }
     },
     "0e592e8a9b8343179820de7ac2999dbb": {
      "model_module": "@jupyter-widgets/base",
      "model_module_version": "1.2.0",
      "model_name": "LayoutModel",
      "state": {}
     },
     "0e698e6988a94950922b8014c320bdf8": {
      "model_module": "@jupyter-widgets/base",
      "model_module_version": "1.2.0",
      "model_name": "LayoutModel",
      "state": {}
     },
     "0e6cde1ebdac4f53af7c24a9ba0b8c11": {
      "model_module": "@jupyter-widgets/controls",
      "model_module_version": "1.5.0",
      "model_name": "DescriptionStyleModel",
      "state": {
       "description_width": ""
      }
     },
     "0ebdabd5351f4a218569ece12d364cf5": {
      "model_module": "@jupyter-widgets/controls",
      "model_module_version": "1.5.0",
      "model_name": "ButtonModel",
      "state": {
       "description": "Delete category",
       "layout": "IPY_MODEL_468860202d6c4c5cbdaf75ab248c2dfa",
       "style": "IPY_MODEL_68be4ec169ab4ce9929d4231bbdfaad7"
      }
     },
     "0ec5645a3bf34b6a84616a6784979782": {
      "model_module": "@jupyter-widgets/base",
      "model_module_version": "1.2.0",
      "model_name": "LayoutModel",
      "state": {}
     },
     "0edf0711fcd443488bc2bd1811f52c38": {
      "model_module": "@jupyter-widgets/base",
      "model_module_version": "1.2.0",
      "model_name": "LayoutModel",
      "state": {
       "flex_flow": "row wrap",
       "margin": "20px"
      }
     },
     "0f0d4a7590e043609aea67d90c471282": {
      "model_module": "@jupyter-widgets/base",
      "model_module_version": "1.2.0",
      "model_name": "LayoutModel",
      "state": {}
     },
     "0f3555076683451287b13688376b8b4e": {
      "model_module": "@jupyter-widgets/base",
      "model_module_version": "1.2.0",
      "model_name": "LayoutModel",
      "state": {}
     },
     "0f40c1df13784f579067a2bd0aaa9d35": {
      "model_module": "@jupyter-widgets/base",
      "model_module_version": "1.2.0",
      "model_name": "LayoutModel",
      "state": {}
     },
     "0f41b5c50bdb442a8ef61d9d982b922d": {
      "model_module": "@jupyter-widgets/controls",
      "model_module_version": "1.5.0",
      "model_name": "ButtonStyleModel",
      "state": {}
     },
     "0f79a7c69fb34b2d9f55d3a3cfb5c585": {
      "model_module": "@jupyter-widgets/base",
      "model_module_version": "1.2.0",
      "model_name": "LayoutModel",
      "state": {}
     },
     "0f84ed044f5d499287d57c8c98211fae": {
      "model_module": "@jupyter-widgets/controls",
      "model_module_version": "1.5.0",
      "model_name": "IntTextModel",
      "state": {
       "description": "max",
       "layout": "IPY_MODEL_f41d2bc09ad24d97b1e0e97f75537487",
       "step": 1,
       "style": "IPY_MODEL_a2eb67920af64606babedcf49f3ac443",
       "value": 10
      }
     },
     "0fa6ede50ab0406a9807f2c9a03af12c": {
      "model_module": "@jupyter-widgets/controls",
      "model_module_version": "1.5.0",
      "model_name": "ButtonStyleModel",
      "state": {}
     },
     "0fbcef905dc549ebb51d1bcd20ade1b3": {
      "model_module": "@jupyter-widgets/controls",
      "model_module_version": "1.5.0",
      "model_name": "SliderStyleModel",
      "state": {
       "description_width": ""
      }
     },
     "0fbf4f04c7844825967a392870b05c3c": {
      "model_module": "@jupyter-widgets/base",
      "model_module_version": "1.2.0",
      "model_name": "LayoutModel",
      "state": {}
     },
     "10052b125cad43d289bb2ecbb7d56d4f": {
      "model_module": "@jupyter-widgets/base",
      "model_module_version": "1.2.0",
      "model_name": "LayoutModel",
      "state": {}
     },
     "10203e2cc2ca454cbb746ee2e79b4d81": {
      "model_module": "@jupyter-widgets/controls",
      "model_module_version": "1.5.0",
      "model_name": "SliderStyleModel",
      "state": {
       "description_width": ""
      }
     },
     "1042939b8e694adbb61cbf705e83ecb6": {
      "model_module": "@jupyter-widgets/base",
      "model_module_version": "1.2.0",
      "model_name": "LayoutModel",
      "state": {
       "margin": "20px 0px"
      }
     },
     "1049120221a44f9698ad8be47c2dd830": {
      "model_module": "@jupyter-widgets/base",
      "model_module_version": "1.2.0",
      "model_name": "LayoutModel",
      "state": {}
     },
     "10b64056ecc44e09b5e4933d6dbe52e2": {
      "model_module": "@jupyter-widgets/base",
      "model_module_version": "1.2.0",
      "model_name": "LayoutModel",
      "state": {}
     },
     "10cf3b81371e442e9ea401ba90dc6424": {
      "model_module": "@jupyter-widgets/controls",
      "model_module_version": "1.5.0",
      "model_name": "ButtonStyleModel",
      "state": {}
     },
     "110ae91fb5c943dab79aeb29f57c0fcc": {
      "model_module": "@jupyter-widgets/controls",
      "model_module_version": "1.5.0",
      "model_name": "ButtonStyleModel",
      "state": {}
     },
     "113da8bbf28f4da4a88ba0f9cabd4ebb": {
      "model_module": "@jupyter-widgets/controls",
      "model_module_version": "1.5.0",
      "model_name": "DescriptionStyleModel",
      "state": {
       "description_width": ""
      }
     },
     "1145eb1b6344415fbe5da4345ed32841": {
      "model_module": "@jupyter-widgets/controls",
      "model_module_version": "1.5.0",
      "model_name": "ButtonStyleModel",
      "state": {}
     },
     "1165440a552f44e8874ff2662c8016cf": {
      "model_module": "@jupyter-widgets/controls",
      "model_module_version": "1.5.0",
      "model_name": "SliderStyleModel",
      "state": {
       "description_width": ""
      }
     },
     "117c3751605b49da9649139f8f836205": {
      "model_module": "@jupyter-widgets/controls",
      "model_module_version": "1.5.0",
      "model_name": "FloatSliderModel",
      "state": {
       "description": "diffuse",
       "layout": "IPY_MODEL_29c4bd8332b8480e91c8c5587019d711",
       "max": 3,
       "step": 0.1,
       "style": "IPY_MODEL_68b2471e08bd43108da250cbe509f4c8",
       "value": 1
      }
     },
     "11a1fde1334e44b3bc445b44cfccd1ee": {
      "model_module": "@jupyter-widgets/controls",
      "model_module_version": "1.5.0",
      "model_name": "DescriptionStyleModel",
      "state": {
       "description_width": ""
      }
     },
     "11c371c9845b4b36a2e2cf814146ef9b": {
      "model_module": "@jupyter-widgets/base",
      "model_module_version": "1.2.0",
      "model_name": "LayoutModel",
      "state": {}
     },
     "11d8025c13d9418dab33da381333379c": {
      "model_module": "@jupyter-widgets/controls",
      "model_module_version": "1.5.0",
      "model_name": "ButtonStyleModel",
      "state": {}
     },
     "1252932a3a30469f9a39f40e32962dd6": {
      "model_module": "@jupyter-widgets/base",
      "model_module_version": "1.2.0",
      "model_name": "LayoutModel",
      "state": {}
     },
     "129b9808260140be91fe527eb514555e": {
      "model_module": "@jupyter-widgets/controls",
      "model_module_version": "1.5.0",
      "model_name": "HBoxModel",
      "state": {
       "children": [
        "IPY_MODEL_893cf04f7b474264b2019b1d9ef10da0"
       ],
       "layout": "IPY_MODEL_4d77f69f74244057baec36b232f87f78"
      }
     },
     "12aad91498d74df1bdd0076e69f17c4b": {
      "model_module": "@jupyter-widgets/controls",
      "model_module_version": "1.5.0",
      "model_name": "ButtonModel",
      "state": {
       "description": "Apply changes",
       "layout": "IPY_MODEL_079c5f2baafc43b7b370beb033b53a66",
       "style": "IPY_MODEL_afcbfc1dce2a47f394db93b89601a5e4"
      }
     },
     "12b07df7fcbf4176ac7229ec42a4a560": {
      "model_module": "@jupyter-widgets/controls",
      "model_module_version": "1.5.0",
      "model_name": "DescriptionStyleModel",
      "state": {
       "description_width": ""
      }
     },
     "12e643a8ee7244a48d10e4c9dc50c23c": {
      "model_module": "@jupyter-widgets/base",
      "model_module_version": "1.2.0",
      "model_name": "LayoutModel",
      "state": {
       "margin": "20px 0px"
      }
     },
     "13011f0d15864a1ba3f2543ade23483a": {
      "model_module": "@jupyter-widgets/controls",
      "model_module_version": "1.5.0",
      "model_name": "ButtonModel",
      "state": {
       "description": "Add",
       "layout": "IPY_MODEL_afd16820af884a958cef4c29e98f66cd",
       "style": "IPY_MODEL_d42dda3cd9cf477195bbad7f92515edb"
      }
     },
     "1310fd264c314fc6ba058b93e9e20982": {
      "model_module": "@jupyter-widgets/base",
      "model_module_version": "1.2.0",
      "model_name": "LayoutModel",
      "state": {}
     },
     "1333161370364dc18b62b527843bccdf": {
      "model_module": "@jupyter-widgets/controls",
      "model_module_version": "1.5.0",
      "model_name": "HBoxModel",
      "state": {
       "children": [
        "IPY_MODEL_a5d0d447b1394b03986172fc7562d1f4",
        "IPY_MODEL_9bee7a831530488d8f1b62a13071e4a1"
       ],
       "layout": "IPY_MODEL_f7ff34c66d4b431c8d7a458913ac23de"
      }
     },
     "133803d2a9f74591a327cf95a74cdd6a": {
      "model_module": "@jupyter-widgets/controls",
      "model_module_version": "1.5.0",
      "model_name": "HBoxModel",
      "state": {
       "children": [
        "IPY_MODEL_4bd32345c7094c9b83e1d6211f92d7df",
        "IPY_MODEL_7b502ee9562a44e597515087db33b653"
       ],
       "layout": "IPY_MODEL_03dfd11a2f0b4fb391e312128903d288"
      }
     },
     "134a756a9b454b73bb8ed6d12d756e98": {
      "model_module": "@jupyter-widgets/base",
      "model_module_version": "1.2.0",
      "model_name": "LayoutModel",
      "state": {
       "margin": "20px 0px"
      }
     },
     "1353b6016646410798b195d84bc20e50": {
      "model_module": "pgljupyter",
      "model_module_version": "^0.1.16",
      "model_name": "MaterialEditorModel",
      "state": {
       "_model_module_version": "^0.1.16",
       "_view_module_version": "^0.1.16",
       "children": [
        "IPY_MODEL_896cb2a6eee44f0099cfa8dd5b2da22f",
        "IPY_MODEL_ca048b3e6ffe42779d97a92813a975b0",
        "IPY_MODEL_ae40200d7fdc43a69f8f57ce27d6891b",
        "IPY_MODEL_2c07ac220de942ccb12377bf94366b14",
        "IPY_MODEL_21350d8100af4acbbbba14f68c856baa",
        "IPY_MODEL_4c6828d30e454b219dd59636daba61a2",
        "IPY_MODEL_b11599f0c8c340be874b6f91e49e147c",
        "IPY_MODEL_e72c590e7a184b6fb4ad01d25e4545a9"
       ],
       "layout": "IPY_MODEL_24700b060af14c8981e7fbfedeade0f8"
      }
     },
     "13642e1addcd465cbd7d516a101c2713": {
      "model_module": "@jupyter-widgets/base",
      "model_module_version": "1.2.0",
      "model_name": "LayoutModel",
      "state": {}
     },
     "137cbe8acae84e968a221cf773fdf8fd": {
      "model_module": "@jupyter-widgets/controls",
      "model_module_version": "1.5.0",
      "model_name": "HBoxModel",
      "state": {
       "children": [
        "IPY_MODEL_1cce361553fe4e3384705e13f5a70ce3",
        "IPY_MODEL_42bdc25840194831ac110172cc330d2c",
        "IPY_MODEL_f760108295804b51a12e98b907147ca4"
       ],
       "layout": "IPY_MODEL_44f1703909314fab8a00501069423623"
      }
     },
     "1381a5f505a041c5a6944ee0787a8c0c": {
      "model_module": "@jupyter-widgets/controls",
      "model_module_version": "1.5.0",
      "model_name": "ColorPickerModel",
      "state": {
       "description": "ambient",
       "disabled": false,
       "layout": "IPY_MODEL_92616f968bf649ad919cbb41d7425b65",
       "style": "IPY_MODEL_d6e29de606464a1eada931b449337734",
       "value": "#0fc4db"
      }
     },
     "13acdf1ccc5a4999af0676c08d452094": {
      "model_module": "@jupyter-widgets/controls",
      "model_module_version": "1.5.0",
      "model_name": "SliderStyleModel",
      "state": {
       "description_width": ""
      }
     },
     "13ae418bba3b47449bcffe9f4ff9b1d0": {
      "model_module": "@jupyter-widgets/base",
      "model_module_version": "1.2.0",
      "model_name": "LayoutModel",
      "state": {}
     },
     "13b719143ac7434582f81b16c18d6b4e": {
      "model_module": "@jupyter-widgets/controls",
      "model_module_version": "1.5.0",
      "model_name": "ColorPickerModel",
      "state": {
       "description": "emission",
       "disabled": false,
       "layout": "IPY_MODEL_289af199b7494ce2935204247e9a8c74",
       "style": "IPY_MODEL_aff7649e3cd94b0e93b9db47ae177a91",
       "value": "#000000"
      }
     },
     "13ba8e749f2441f7b7dfcbe5210b62c8": {
      "model_module": "@jupyter-widgets/base",
      "model_module_version": "1.2.0",
      "model_name": "LayoutModel",
      "state": {
       "margin": "20px 0px"
      }
     },
     "13c19586c17d41a298a7f79468b7e17a": {
      "model_module": "@jupyter-widgets/controls",
      "model_module_version": "1.5.0",
      "model_name": "DescriptionStyleModel",
      "state": {
       "description_width": ""
      }
     },
     "13d73679d1fc4c1dafedf885b7d2c851": {
      "model_module": "@jupyter-widgets/base",
      "model_module_version": "1.2.0",
      "model_name": "LayoutModel",
      "state": {}
     },
     "13ef4f1f81a4430aa1f08839e278e50f": {
      "model_module": "@jupyter-widgets/controls",
      "model_module_version": "1.5.0",
      "model_name": "HBoxModel",
      "state": {
       "children": [
        "IPY_MODEL_0ddc4da3ab684f75a000be5326010a3f",
        "IPY_MODEL_76962f026cd343edbb2be1f47b259f8e"
       ],
       "layout": "IPY_MODEL_60649db2aa41400c8d032bf13c68e453"
      }
     },
     "13f6cb3231334246af2b1e8b585d86fc": {
      "model_module": "@jupyter-widgets/controls",
      "model_module_version": "1.5.0",
      "model_name": "DescriptionStyleModel",
      "state": {
       "description_width": ""
      }
     },
     "1447d28562564ca58b3037339e1fd56a": {
      "model_module": "pgljupyter",
      "model_module_version": "^0.1.20",
      "model_name": "MaterialEditorModel",
      "state": {
       "_model_module_version": "^0.1.20",
       "_view_module_version": "^0.1.20",
       "children": [
        "IPY_MODEL_0374667b4982433588ab814caec15c06",
        "IPY_MODEL_9bbd113d7ca4432ebc3257210c3b4bba",
        "IPY_MODEL_8ab7595e734d49a0932417703969c091",
        "IPY_MODEL_4cc61bf11bdd449f8a15ee9f20326662",
        "IPY_MODEL_31747047bcce495c891518d32e015bdf",
        "IPY_MODEL_3dd16cc1b856454dbc171795cd01dddd",
        "IPY_MODEL_2d488102b5284d38b5c87aa63c4159cf",
        "IPY_MODEL_de5d2848f27a47be8ceb96df0723fd13"
       ],
       "layout": "IPY_MODEL_18b3bc8296b946b6ae24be81e0736f6e"
      }
     },
     "1495c1165fc748ae8bb58d756996d706": {
      "model_module": "@jupyter-widgets/controls",
      "model_module_version": "1.5.0",
      "model_name": "IntSliderModel",
      "state": {
       "description": "value",
       "layout": "IPY_MODEL_6c9077201cf9427b930095c29dff128d",
       "max": 10,
       "min": 1,
       "style": "IPY_MODEL_9b8436ae14f84fa29eae52599733cb23",
       "value": 5
      }
     },
     "15300167b1664d9682018422b0697519": {
      "model_module": "pgljupyter",
      "model_module_version": "^0.1.19",
      "model_name": "IntEditorModel",
      "state": {
       "_model_module_version": "^0.1.19",
       "_view_module_version": "^0.1.19",
       "children": [
        "IPY_MODEL_af8a50225a5b459392ad1828e64b9479",
        "IPY_MODEL_32834c0308ce4413b19627f02762d646"
       ],
       "layout": "IPY_MODEL_aab0b96dd9704dec8bee7aca21e55121"
      }
     },
     "153641213cab4e3888f2df8ffe4df5e6": {
      "model_module": "@jupyter-widgets/controls",
      "model_module_version": "1.5.0",
      "model_name": "ButtonModel",
      "state": {
       "description": "Delete category",
       "layout": "IPY_MODEL_47cab6d01e35497189f8f2866f69ad79",
       "style": "IPY_MODEL_333c1c1af63143dfb66f43fe624cc4ba"
      }
     },
     "1544c4aba24c44af809a65633d48cc8e": {
      "model_module": "@jupyter-widgets/controls",
      "model_module_version": "1.5.0",
      "model_name": "HBoxModel",
      "state": {
       "children": [
        "IPY_MODEL_c29fffdc637c4b74935a820089942936",
        "IPY_MODEL_2e9b3567dc074850a4457cea55ff8a2b"
       ],
       "layout": "IPY_MODEL_5a6aab1bb709492da4f69389f9069c24"
      }
     },
     "1558078ff54b40aa9edd4a561283c2a3": {
      "model_module": "@jupyter-widgets/controls",
      "model_module_version": "1.5.0",
      "model_name": "DescriptionStyleModel",
      "state": {
       "description_width": ""
      }
     },
     "155e496650f34366b813ae47225f42d5": {
      "model_module": "@jupyter-widgets/base",
      "model_module_version": "1.2.0",
      "model_name": "LayoutModel",
      "state": {}
     },
     "157fba29a18141ceb228302c5bccb5bb": {
      "model_module": "@jupyter-widgets/base",
      "model_module_version": "1.2.0",
      "model_name": "LayoutModel",
      "state": {}
     },
     "15ac7abd32994b22882527528e46a15c": {
      "model_module": "@jupyter-widgets/base",
      "model_module_version": "1.2.0",
      "model_name": "LayoutModel",
      "state": {}
     },
     "15c2dd748e27429b8b7bf9eec53d186c": {
      "model_module": "@jupyter-widgets/controls",
      "model_module_version": "1.5.0",
      "model_name": "HBoxModel",
      "state": {
       "children": [
        "IPY_MODEL_37d590580784486799b82835c1490cd0",
        "IPY_MODEL_7eb67cc5e07d4226b2341c889e12afdc",
        "IPY_MODEL_6c692b6a751b4f9a87b763ae9a055554"
       ],
       "layout": "IPY_MODEL_a9b7a5bea64640859355bc1f3bd40aed"
      }
     },
     "15cc82a7eb6848f88869d829430b0385": {
      "model_module": "@jupyter-widgets/controls",
      "model_module_version": "1.5.0",
      "model_name": "DescriptionStyleModel",
      "state": {
       "description_width": ""
      }
     },
     "160584d7549b440497e447884ae62452": {
      "model_module": "@jupyter-widgets/controls",
      "model_module_version": "1.5.0",
      "model_name": "DescriptionStyleModel",
      "state": {
       "description_width": ""
      }
     },
     "161390ba99e04b138bc28fa9c249c180": {
      "model_module": "@jupyter-widgets/controls",
      "model_module_version": "1.5.0",
      "model_name": "TextModel",
      "state": {
       "continuous_update": false,
       "description": "name",
       "layout": "IPY_MODEL_bcf7fee88c72467fbcc5a469b43e9f92",
       "style": "IPY_MODEL_7bd0ba7ae13849c1a3991f5c1fc76a3f",
       "value": "radinc"
      }
     },
     "1624262f28254a519733973a8caf8b9e": {
      "model_module": "@jupyter-widgets/controls",
      "model_module_version": "1.5.0",
      "model_name": "HBoxModel",
      "state": {
       "children": [
        "IPY_MODEL_0ebdabd5351f4a218569ece12d364cf5"
       ],
       "layout": "IPY_MODEL_7e4f103663654092a3b6f3f18908d2a4"
      }
     },
     "16282a7986064a8cb8770ae63961ce8e": {
      "model_module": "@jupyter-widgets/controls",
      "model_module_version": "1.5.0",
      "model_name": "CheckboxModel",
      "state": {
       "description": "Auto save",
       "disabled": false,
       "layout": "IPY_MODEL_8d0e659919a7446eae15c51f51434cbc",
       "style": "IPY_MODEL_ce70308ac20f4bb987e9cff5c5bdd36c",
       "value": false
      }
     },
     "1638da2fcccf476fa58af010604ee1e2": {
      "model_module": "@jupyter-widgets/controls",
      "model_module_version": "1.5.0",
      "model_name": "TabModel",
      "state": {
       "_titles": {
        "0": "leuwenberg.json"
       },
       "children": [
        "IPY_MODEL_9ff1c9457cb74aa3a67133ab431c26fa"
       ],
       "layout": "IPY_MODEL_a748a5f3be3444728407cba1e18220ed"
      }
     },
     "164bcfa6695d41c4828175244e8404ae": {
      "model_module": "@jupyter-widgets/controls",
      "model_module_version": "1.5.0",
      "model_name": "DescriptionStyleModel",
      "state": {
       "description_width": ""
      }
     },
     "165abbc949ef4da0be3399b1aa01ad1f": {
      "model_module": "@jupyter-widgets/controls",
      "model_module_version": "1.5.0",
      "model_name": "SliderStyleModel",
      "state": {
       "description_width": ""
      }
     },
     "16bd9822848d4ea8a76ae7ebedd16681": {
      "model_module": "@jupyter-widgets/base",
      "model_module_version": "1.2.0",
      "model_name": "LayoutModel",
      "state": {
       "margin": "20px 0px"
      }
     },
     "16cce7023d354ddfba60e067833ebb2b": {
      "model_module": "@jupyter-widgets/base",
      "model_module_version": "1.2.0",
      "model_name": "LayoutModel",
      "state": {}
     },
     "16f7bc26a9f3423a8cdb0ee883e8baf3": {
      "model_module": "@jupyter-widgets/controls",
      "model_module_version": "1.5.0",
      "model_name": "SliderStyleModel",
      "state": {
       "description_width": ""
      }
     },
     "170f6b615a774635b281c9b6e87c2707": {
      "model_module": "@jupyter-widgets/controls",
      "model_module_version": "1.5.0",
      "model_name": "FloatSliderModel",
      "state": {
       "description": "diffuse",
       "layout": "IPY_MODEL_5b940c3879e64cf98347973d19dcff84",
       "max": 3,
       "step": 0.1,
       "style": "IPY_MODEL_e4e8b085a5c24ad6a92920665a7ee169",
       "value": 1
      }
     },
     "171326388f714eb48b0fdd7eb080c8b2": {
      "model_module": "@jupyter-widgets/controls",
      "model_module_version": "1.5.0",
      "model_name": "FloatSliderModel",
      "state": {
       "description": "transparency",
       "layout": "IPY_MODEL_be52d9cdb49d41ef9f7664b51577a733",
       "max": 1,
       "step": 0.1,
       "style": "IPY_MODEL_0c45408378854d9db7aa0e37104b7d14"
      }
     },
     "178a6cb4a45b40af811fc096f2974764": {
      "model_module": "@jupyter-widgets/base",
      "model_module_version": "1.2.0",
      "model_name": "LayoutModel",
      "state": {}
     },
     "17a8887bab0d48dda0b6eb417e76dbac": {
      "model_module": "@jupyter-widgets/controls",
      "model_module_version": "1.5.0",
      "model_name": "DescriptionStyleModel",
      "state": {
       "description_width": ""
      }
     },
     "17dc7d6946fa4dcb97123fb2091496ed": {
      "model_module": "@jupyter-widgets/controls",
      "model_module_version": "1.5.0",
      "model_name": "DescriptionStyleModel",
      "state": {
       "description_width": ""
      }
     },
     "17de7061fc71420fb27975958a62c182": {
      "model_module": "pgljupyter",
      "model_module_version": "^0.1.18",
      "model_name": "MaterialEditorModel",
      "state": {
       "_model_module_version": "^0.1.18",
       "_view_module_version": "^0.1.18",
       "children": [
        "IPY_MODEL_408d582856e84421a763fa391a9130a8",
        "IPY_MODEL_ee264b2062824fd5b777853c7f930800",
        "IPY_MODEL_916e7d074de94e13a2e0ee223e0b2d15",
        "IPY_MODEL_e0f1782f2a614b3fa512c8365f125d2a",
        "IPY_MODEL_2e21adf4c8bb4fac95416edb37f93844",
        "IPY_MODEL_117c3751605b49da9649139f8f836205",
        "IPY_MODEL_1e78178572d64dcdb6056a7128c73f73",
        "IPY_MODEL_0aafc59276204d4698648b7214e955f0"
       ],
       "layout": "IPY_MODEL_12e643a8ee7244a48d10e4c9dc50c23c"
      }
     },
     "181662f4cedf410dac5bab4e1bf8645f": {
      "model_module": "@jupyter-widgets/base",
      "model_module_version": "1.2.0",
      "model_name": "LayoutModel",
      "state": {}
     },
     "1841107c669d487a88dba8bee46180f8": {
      "model_module": "@jupyter-widgets/base",
      "model_module_version": "1.2.0",
      "model_name": "LayoutModel",
      "state": {}
     },
     "184575d290844eb0802b2744b027c06f": {
      "model_module": "@jupyter-widgets/controls",
      "model_module_version": "1.5.0",
      "model_name": "DescriptionStyleModel",
      "state": {
       "description_width": ""
      }
     },
     "18a4cfa16bc946538d5790374028d641": {
      "model_module": "@jupyter-widgets/base",
      "model_module_version": "1.2.0",
      "model_name": "LayoutModel",
      "state": {}
     },
     "18abd2b200874f98af3b0f2c86c1a019": {
      "model_module": "@jupyter-widgets/controls",
      "model_module_version": "1.5.0",
      "model_name": "ButtonStyleModel",
      "state": {}
     },
     "18b3bc8296b946b6ae24be81e0736f6e": {
      "model_module": "@jupyter-widgets/base",
      "model_module_version": "1.2.0",
      "model_name": "LayoutModel",
      "state": {
       "margin": "20px 0px"
      }
     },
     "18f2aa4406d94deaab24b3b2e2829509": {
      "model_module": "@jupyter-widgets/base",
      "model_module_version": "1.2.0",
      "model_name": "LayoutModel",
      "state": {}
     },
     "18fd2dd4be65499b91b7d984d3f28244": {
      "model_module": "@jupyter-widgets/controls",
      "model_module_version": "1.5.0",
      "model_name": "TabModel",
      "state": {
       "_titles": {
        "0": "leuwenberg.json"
       },
       "children": [
        "IPY_MODEL_53095037c0fc41f0ad798cc1f327c12f"
       ],
       "layout": "IPY_MODEL_37cb01c9b3e84e9da135afac63cb3f28"
      }
     },
     "190f9a77b410464d8397db246bf8a588": {
      "model_module": "@jupyter-widgets/controls",
      "model_module_version": "1.5.0",
      "model_name": "TextModel",
      "state": {
       "continuous_update": false,
       "description": "name",
       "layout": "IPY_MODEL_3195adc8fefb45378839f142bc7b7fdc",
       "style": "IPY_MODEL_3324d05d1f6847678f57a1016eafaa0e",
       "value": "color_4"
      }
     },
     "1910124b79a9485da861e6e0c1762d37": {
      "model_module": "@jupyter-widgets/base",
      "model_module_version": "1.2.0",
      "model_name": "LayoutModel",
      "state": {}
     },
     "194ad744cbd346c59d513770c2a47af7": {
      "model_module": "@jupyter-widgets/base",
      "model_module_version": "1.2.0",
      "model_name": "LayoutModel",
      "state": {
       "margin": "20px 0px"
      }
     },
     "197cf1dcd4204da1b4aa7c6ddffd697e": {
      "model_module": "@jupyter-widgets/controls",
      "model_module_version": "1.5.0",
      "model_name": "SliderStyleModel",
      "state": {
       "description_width": ""
      }
     },
     "19c0e5bf37c2495dba13da8f747c69e9": {
      "model_module": "@jupyter-widgets/controls",
      "model_module_version": "1.5.0",
      "model_name": "SliderStyleModel",
      "state": {
       "description_width": ""
      }
     },
     "1a30bd6297ea496caffb74eca89f7301": {
      "model_module": "@jupyter-widgets/controls",
      "model_module_version": "1.5.0",
      "model_name": "ColorPickerModel",
      "state": {
       "description": "specular",
       "disabled": false,
       "layout": "IPY_MODEL_7712426c5f4b4063af82886fae09a405",
       "style": "IPY_MODEL_22b0b08845a841bcab00137e9e0e416b",
       "value": "#282828"
      }
     },
     "1a39600936bd4b199a960b5ddd12c3ef": {
      "model_module": "@jupyter-widgets/controls",
      "model_module_version": "1.5.0",
      "model_name": "ButtonModel",
      "state": {
       "description": "Add",
       "layout": "IPY_MODEL_4fbf2b45694848a9aa03aadb8fb5d86c",
       "style": "IPY_MODEL_49abdf9d78524715a97cc756c7cc26ee"
      }
     },
     "1a3a8e4cff4b498aad3788925124b846": {
      "model_module": "@jupyter-widgets/controls",
      "model_module_version": "1.5.0",
      "model_name": "HBoxModel",
      "state": {
       "layout": "IPY_MODEL_5a7768daa7114d36b770ea435fe36cec"
      }
     },
     "1a768dffa91045cdbec62fd051859942": {
      "model_module": "@jupyter-widgets/controls",
      "model_module_version": "1.5.0",
      "model_name": "HBoxModel",
      "state": {
       "children": [
        "IPY_MODEL_de29d9fc92c645568318b3cac8e85baf",
        "IPY_MODEL_cbc8b4e533c94b8597e45a4ac84149b8"
       ],
       "layout": "IPY_MODEL_1310fd264c314fc6ba058b93e9e20982"
      }
     },
     "1a8e5e8102f24f6788a2e4825cfd5527": {
      "model_module": "@jupyter-widgets/controls",
      "model_module_version": "1.5.0",
      "model_name": "DescriptionStyleModel",
      "state": {
       "description_width": ""
      }
     },
     "1a901903106b4de5881749108bd6c41d": {
      "model_module": "@jupyter-widgets/base",
      "model_module_version": "1.2.0",
      "model_name": "LayoutModel",
      "state": {}
     },
     "1adccbe353a046ea9bf4ed81f2cba08d": {
      "model_module": "@jupyter-widgets/controls",
      "model_module_version": "1.5.0",
      "model_name": "SliderStyleModel",
      "state": {
       "description_width": ""
      }
     },
     "1ae92564132343389b54704803f15403": {
      "model_module": "@jupyter-widgets/controls",
      "model_module_version": "1.5.0",
      "model_name": "HBoxModel",
      "state": {
       "children": [
        "IPY_MODEL_ff98df5ff2474c69a7b7ac98b28b5e0f",
        "IPY_MODEL_53e9fb96eb5c4e49af7c1126d83fd454"
       ],
       "layout": "IPY_MODEL_4474832739d44029bfbe0a393192f09b"
      }
     },
     "1aeee9874bc84466bbeb7bfb15647305": {
      "model_module": "@jupyter-widgets/base",
      "model_module_version": "1.2.0",
      "model_name": "LayoutModel",
      "state": {
       "margin": "20px 0px"
      }
     },
     "1b23eb33720947ad81bbf0cc81ea07cf": {
      "model_module": "@jupyter-widgets/controls",
      "model_module_version": "1.5.0",
      "model_name": "SliderStyleModel",
      "state": {
       "description_width": ""
      }
     },
     "1b44d596a79d4717bb36340cb0ec6094": {
      "model_module": "@jupyter-widgets/base",
      "model_module_version": "1.2.0",
      "model_name": "LayoutModel",
      "state": {}
     },
     "1b5446a7b8594571b37b59d8d9494810": {
      "model_module": "@jupyter-widgets/base",
      "model_module_version": "1.2.0",
      "model_name": "LayoutModel",
      "state": {}
     },
     "1b6051bae24c473598c952d51984d1ee": {
      "model_module": "@jupyter-widgets/base",
      "model_module_version": "1.2.0",
      "model_name": "LayoutModel",
      "state": {}
     },
     "1bd27105bfe744bdbb177dc19d1cf75d": {
      "model_module": "@jupyter-widgets/controls",
      "model_module_version": "1.5.0",
      "model_name": "HBoxModel",
      "state": {
       "layout": "IPY_MODEL_a9b7a5bea64640859355bc1f3bd40aed"
      }
     },
     "1bf3eb867db745b39087e47d083ee70c": {
      "model_module": "@jupyter-widgets/controls",
      "model_module_version": "1.5.0",
      "model_name": "TextModel",
      "state": {
       "continuous_update": false,
       "description": "name",
       "layout": "IPY_MODEL_98388df207bd4a559bfd30c5445ef20d",
       "style": "IPY_MODEL_13c19586c17d41a298a7f79468b7e17a",
       "value": "maxorder"
      }
     },
     "1c3ad41458c64c129919cde932065b83": {
      "model_module": "@jupyter-widgets/controls",
      "model_module_version": "1.5.0",
      "model_name": "TextModel",
      "state": {
       "continuous_update": false,
       "description": "name",
       "layout": "IPY_MODEL_b7f1e2be6da44fbcaa0cb8e574a361c3",
       "style": "IPY_MODEL_6fdc9886fdbf46dda46199abcd2ce19a",
       "value": "leafold"
      }
     },
     "1c64de6d810040e6a876cf03d544910b": {
      "model_module": "@jupyter-widgets/controls",
      "model_module_version": "1.5.0",
      "model_name": "HBoxModel",
      "state": {
       "children": [
        "IPY_MODEL_2aa3ae383fe546ccba78dde66139f07e",
        "IPY_MODEL_31ff80b71d0e49b293026e52abfdb4bc"
       ],
       "layout": "IPY_MODEL_78dff3c9b0ab4092885a4681b708b9c4"
      }
     },
     "1c6b5e326e8d49b2a591f19e3efcbb8c": {
      "model_module": "@jupyter-widgets/controls",
      "model_module_version": "1.5.0",
      "model_name": "SliderStyleModel",
      "state": {
       "description_width": ""
      }
     },
     "1cce361553fe4e3384705e13f5a70ce3": {
      "model_module": "@jupyter-widgets/controls",
      "model_module_version": "1.5.0",
      "model_name": "HBoxModel",
      "state": {
       "children": [
        "IPY_MODEL_8760bd037eeb40d88f785a795b4cfa32",
        "IPY_MODEL_5ca98085c6bf49aca459dd565f93cd38"
       ],
       "layout": "IPY_MODEL_bc4bbf97cace49f2830fcdf2421eabb0"
      }
     },
     "1cf4a392c16e40a5af323f7c787ca26d": {
      "model_module": "@jupyter-widgets/base",
      "model_module_version": "1.2.0",
      "model_name": "LayoutModel",
      "state": {}
     },
     "1d1181a2fd7a41b6942a8f000b3d75bd": {
      "model_module": "@jupyter-widgets/base",
      "model_module_version": "1.2.0",
      "model_name": "LayoutModel",
      "state": {}
     },
     "1d1c9cc08a664ea3b55b7a47fcfdc251": {
      "model_module": "@jupyter-widgets/controls",
      "model_module_version": "1.5.0",
      "model_name": "HBoxModel",
      "state": {
       "children": [
        "IPY_MODEL_9b10fafd1dad421981300c41e7b605cc",
        "IPY_MODEL_bd21842443764a4e9cfc0fe5e99adc99",
        "IPY_MODEL_48b02d61921140799c9d50de4e6abab8"
       ],
       "layout": "IPY_MODEL_f83dfb11eba54161877d623ec09906b5"
      }
     },
     "1d2c3e8ff93a461893bd0cf380e5598b": {
      "model_module": "@jupyter-widgets/base",
      "model_module_version": "1.2.0",
      "model_name": "LayoutModel",
      "state": {}
     },
     "1d2e9bf12109429982866039d15abe82": {
      "model_module": "@jupyter-widgets/controls",
      "model_module_version": "1.5.0",
      "model_name": "ButtonStyleModel",
      "state": {}
     },
     "1d631b91d9ac4f29a2da89915f36246d": {
      "model_module": "@jupyter-widgets/controls",
      "model_module_version": "1.5.0",
      "model_name": "ButtonStyleModel",
      "state": {}
     },
     "1d6ac4f49b314f0e9fb3532cfc3b8bce": {
      "model_module": "@jupyter-widgets/controls",
      "model_module_version": "1.5.0",
      "model_name": "IntTextModel",
      "state": {
       "description": "min",
       "layout": "IPY_MODEL_2047c15e3d8f4214b541d17514096060",
       "step": 1,
       "style": "IPY_MODEL_d57615a69c10480d8db062fc5e36385d",
       "value": 1
      }
     },
     "1d7324e6216945c694b7879142e82cce": {
      "model_module": "@jupyter-widgets/controls",
      "model_module_version": "1.5.0",
      "model_name": "DropdownModel",
      "state": {
       "_options_labels": [
        "maxorder",
        "radinc",
        "nb_axes"
       ],
       "index": 0,
       "layout": "IPY_MODEL_b9ebb3597e8346f8a3fc4ed986a97a1b",
       "style": "IPY_MODEL_90f3796014fb441682830e036d391913"
      }
     },
     "1e131dd0699142ff8d201517f327a01e": {
      "model_module": "@jupyter-widgets/controls",
      "model_module_version": "1.5.0",
      "model_name": "VBoxModel",
      "state": {
       "children": [
        "IPY_MODEL_83ffa7e6fb914aec8162938aaf8fbf5d",
        "IPY_MODEL_1638da2fcccf476fa58af010604ee1e2"
       ],
       "layout": "IPY_MODEL_552cab5a34bb42878921b10d86c06c8d"
      }
     },
     "1e182d826be744dba3ea4c48b973b242": {
      "model_module": "@jupyter-widgets/controls",
      "model_module_version": "1.5.0",
      "model_name": "HBoxModel",
      "state": {
       "children": [
        "IPY_MODEL_8b815e58fddc4a559d96a5bea9398873"
       ],
       "layout": "IPY_MODEL_f84fb842bfdc4ca69b673ea45abcdf91"
      }
     },
     "1e3f2f62b72846cc8fb09a7e9d3f906d": {
      "model_module": "@jupyter-widgets/base",
      "model_module_version": "1.2.0",
      "model_name": "LayoutModel",
      "state": {
       "margin": "20px 0px"
      }
     },
     "1e5af16da1b3427d83bc2e4cf9a49852": {
      "model_module": "@jupyter-widgets/controls",
      "model_module_version": "1.5.0",
      "model_name": "ButtonModel",
      "state": {
       "description": "Delete",
       "layout": "IPY_MODEL_6cb02b695e9b429fb82b362a464e95d4",
       "style": "IPY_MODEL_403ce4d89d824f1c8e0c931714a623aa"
      }
     },
     "1e6010c917c4441f8d05dacd1cf3a5ba": {
      "model_module": "@jupyter-widgets/controls",
      "model_module_version": "1.5.0",
      "model_name": "ColorPickerModel",
      "state": {
       "description": "ambient",
       "disabled": false,
       "layout": "IPY_MODEL_619d054879f142ab8a22cb911c74fa09",
       "style": "IPY_MODEL_269d4a9ce92344b6b1ca56cee70b6700",
       "value": "#0fc4db"
      }
     },
     "1e71076b6d304240bdd062f2d5156785": {
      "model_module": "@jupyter-widgets/base",
      "model_module_version": "1.2.0",
      "model_name": "LayoutModel",
      "state": {}
     },
     "1e78178572d64dcdb6056a7128c73f73": {
      "model_module": "@jupyter-widgets/controls",
      "model_module_version": "1.5.0",
      "model_name": "FloatSliderModel",
      "state": {
       "description": "transparency",
       "layout": "IPY_MODEL_6ab377277f3f47c19b9225d757195275",
       "max": 1,
       "step": 0.1,
       "style": "IPY_MODEL_0010fef821bc48b083984f720d45fe40"
      }
     },
     "1e923ca9d3ec4aaf9602202ba9e7cb20": {
      "model_module": "@jupyter-widgets/base",
      "model_module_version": "1.2.0",
      "model_name": "LayoutModel",
      "state": {}
     },
     "1ea1b9374e5d4145bcc362d9bb9d3624": {
      "model_module": "@jupyter-widgets/controls",
      "model_module_version": "1.5.0",
      "model_name": "DropdownModel",
      "state": {
       "_options_labels": [
        "Color"
       ],
       "index": 0,
       "layout": "IPY_MODEL_f869d0c8c4644edf9a72e7f0721d5ba9",
       "style": "IPY_MODEL_24d9e6cddd2d4972974ebbd3a1c6bd3e"
      }
     },
     "1ea7dc68a20e4fa3ae2f532556b651d0": {
      "model_module": "@jupyter-widgets/controls",
      "model_module_version": "1.5.0",
      "model_name": "ColorPickerModel",
      "state": {
       "description": "ambient",
       "disabled": false,
       "layout": "IPY_MODEL_f4f2faa3af214fe2ad81b69860fda065",
       "style": "IPY_MODEL_906dd31da0b74225aefcd7029f7939cc",
       "value": "#e1a014"
      }
     },
     "1eafac7d519a4739b0a5ec9f2e1a0356": {
      "model_module": "@jupyter-widgets/base",
      "model_module_version": "1.2.0",
      "model_name": "LayoutModel",
      "state": {}
     },
     "1eb0713d17fb4a92b6d7cfab6060154c": {
      "model_module": "@jupyter-widgets/controls",
      "model_module_version": "1.5.0",
      "model_name": "DescriptionStyleModel",
      "state": {
       "description_width": ""
      }
     },
     "1ef74d1c41b24007821a052f50da2c9f": {
      "model_module": "@jupyter-widgets/controls",
      "model_module_version": "1.5.0",
      "model_name": "FloatSliderModel",
      "state": {
       "description": "diffuse",
       "layout": "IPY_MODEL_60f7d6ccd61f493dadbfcf94d366711a",
       "max": 3,
       "step": 0.1,
       "style": "IPY_MODEL_0aea6c9bfdb24c3a9046b8a0c0ca6aa6",
       "value": 1
      }
     },
     "1f1df1d84cbd4198a124c637fd5a7782": {
      "model_module": "@jupyter-widgets/controls",
      "model_module_version": "1.5.0",
      "model_name": "DescriptionStyleModel",
      "state": {
       "description_width": ""
      }
     },
     "1f72998eed09408198e3afb7711fce67": {
      "model_module": "@jupyter-widgets/base",
      "model_module_version": "1.2.0",
      "model_name": "LayoutModel",
      "state": {}
     },
     "1f88c16815df476d8f718a32226dcb4a": {
      "model_module": "@jupyter-widgets/controls",
      "model_module_version": "1.5.0",
      "model_name": "DescriptionStyleModel",
      "state": {
       "description_width": ""
      }
     },
     "1f8ab0fca1c04c59ba41957779688c40": {
      "model_module": "@jupyter-widgets/controls",
      "model_module_version": "1.5.0",
      "model_name": "BoundedIntTextModel",
      "state": {
       "description": "index",
       "layout": "IPY_MODEL_3afbf51007944e8f8954670763c456a2",
       "style": "IPY_MODEL_f1c6aa52cc2a40a396a24165e1c5bf64",
       "value": 4
      }
     },
     "1fac97fbb78942428b45f4a29eff0181": {
      "model_module": "@jupyter-widgets/controls",
      "model_module_version": "1.5.0",
      "model_name": "SliderStyleModel",
      "state": {
       "description_width": ""
      }
     },
     "1fc7b2d61c8248a78f6d173ef2c25c28": {
      "model_module": "@jupyter-widgets/controls",
      "model_module_version": "1.5.0",
      "model_name": "DescriptionStyleModel",
      "state": {
       "description_width": ""
      }
     },
     "1fcf90f890c6426ab939a569108497cd": {
      "model_module": "@jupyter-widgets/controls",
      "model_module_version": "1.5.0",
      "model_name": "ButtonModel",
      "state": {
       "description": "Add",
       "layout": "IPY_MODEL_edccc23ee7c94c62b87b7ae6355454e4",
       "style": "IPY_MODEL_879fcdce8800437ebdb114cb02a43a8e"
      }
     },
     "200bbcd159c24386b1e2e9fe9c914ff7": {
      "model_module": "@jupyter-widgets/controls",
      "model_module_version": "1.5.0",
      "model_name": "SliderStyleModel",
      "state": {
       "description_width": ""
      }
     },
     "200e396776fd4859b251083ea338dbc3": {
      "model_module": "@jupyter-widgets/controls",
      "model_module_version": "1.5.0",
      "model_name": "VBoxModel",
      "state": {
       "children": [
        "IPY_MODEL_3a91f9dd6dd840dfa42d860498e26055",
        "IPY_MODEL_e29bcf91cb1e4caebd131a237b84ab1c",
        "IPY_MODEL_86ad7647a23949bbb9260384e6040155",
        "IPY_MODEL_d015b65324534f50aa5675640c1f43ab",
        "IPY_MODEL_300d90438a1445f4819171e16fa9d386"
       ],
       "layout": "IPY_MODEL_3242767a029c4316a2ec4ab31704f3d8"
      }
     },
     "20298b4a168141e9be68094a28287409": {
      "model_module": "@jupyter-widgets/controls",
      "model_module_version": "1.5.0",
      "model_name": "HBoxModel",
      "state": {
       "children": [
        "IPY_MODEL_5adffba729714082b4c0b93187c64244",
        "IPY_MODEL_41173f204e7842519840674a61a7e434"
       ],
       "layout": "IPY_MODEL_0edf0711fcd443488bc2bd1811f52c38"
      }
     },
     "203079255d89445eaa5a11bb556a37d5": {
      "model_module": "@jupyter-widgets/controls",
      "model_module_version": "1.5.0",
      "model_name": "BoundedIntTextModel",
      "state": {
       "description": "index",
       "layout": "IPY_MODEL_cb43d93a31474ef68c27ec960b1e17ad",
       "style": "IPY_MODEL_05a5ce6fe609440eaac4fb1a88000fa7",
       "value": 4
      }
     },
     "203311275276426398b1e3c34669b385": {
      "model_module": "@jupyter-widgets/base",
      "model_module_version": "1.2.0",
      "model_name": "LayoutModel",
      "state": {}
     },
     "203480e9c215468ea9ab336c23360aec": {
      "model_module": "@jupyter-widgets/controls",
      "model_module_version": "1.5.0",
      "model_name": "FloatSliderModel",
      "state": {
       "description": "value",
       "layout": "IPY_MODEL_6a018a7ac45f43ed9fb495ac70a32468",
       "max": 0.1,
       "min": 0.01,
       "step": 0.01,
       "style": "IPY_MODEL_cf673dfbe5eb413c96fdeb2659cfc128",
       "value": 0.02
      }
     },
     "2047c15e3d8f4214b541d17514096060": {
      "model_module": "@jupyter-widgets/base",
      "model_module_version": "1.2.0",
      "model_name": "LayoutModel",
      "state": {}
     },
     "20524a3cbd284565b43899cfff3eabbb": {
      "model_module": "@jupyter-widgets/base",
      "model_module_version": "1.2.0",
      "model_name": "LayoutModel",
      "state": {
       "margin": "20px 0px"
      }
     },
     "207d2c2ed4094de6aa559901cd22e572": {
      "model_module": "@jupyter-widgets/base",
      "model_module_version": "1.2.0",
      "model_name": "LayoutModel",
      "state": {}
     },
     "208de69f01e844309a09e7a6c6150e42": {
      "model_module": "@jupyter-widgets/controls",
      "model_module_version": "1.5.0",
      "model_name": "TextModel",
      "state": {
       "continuous_update": false,
       "description": "name",
       "layout": "IPY_MODEL_9f81c34fd48c46a38082ef22fe436144",
       "style": "IPY_MODEL_98aa41c6eb644b028a4c3b34c61591da",
       "value": "trunk"
      }
     },
     "209c033af72d44e3a0b13ab8001e5335": {
      "model_module": "@jupyter-widgets/base",
      "model_module_version": "1.2.0",
      "model_name": "LayoutModel",
      "state": {}
     },
     "20ab7410ec8c4e87a7028f3830335948": {
      "model_module": "@jupyter-widgets/base",
      "model_module_version": "1.2.0",
      "model_name": "LayoutModel",
      "state": {}
     },
     "20b13acc67a845f6956f498c04e38806": {
      "model_module": "@jupyter-widgets/base",
      "model_module_version": "1.2.0",
      "model_name": "LayoutModel",
      "state": {}
     },
     "20b1952b21434151a833e0b22eb08f81": {
      "model_module": "@jupyter-widgets/controls",
      "model_module_version": "1.5.0",
      "model_name": "DescriptionStyleModel",
      "state": {
       "description_width": ""
      }
     },
     "20e00e78d72c45a192c02ce598d26a33": {
      "model_module": "@jupyter-widgets/controls",
      "model_module_version": "1.5.0",
      "model_name": "FloatSliderModel",
      "state": {
       "description": "value",
       "layout": "IPY_MODEL_80e9653aa5df4aec98e4b796abfbd551",
       "max": 0.1,
       "min": 0.01,
       "step": 0.01,
       "style": "IPY_MODEL_7ae3718b0ae34394a27bdb7f6b8e878f",
       "value": 0.03
      }
     },
     "20e3dd12ae594b74880fcf2f3311b803": {
      "model_module": "@jupyter-widgets/base",
      "model_module_version": "1.2.0",
      "model_name": "LayoutModel",
      "state": {}
     },
     "20e92cd381cd4543b11477c4b28a2822": {
      "model_module": "@jupyter-widgets/base",
      "model_module_version": "1.2.0",
      "model_name": "LayoutModel",
      "state": {}
     },
     "20f26d89736d43d19f678d93232feee7": {
      "model_module": "@jupyter-widgets/controls",
      "model_module_version": "1.5.0",
      "model_name": "DescriptionStyleModel",
      "state": {
       "description_width": ""
      }
     },
     "2132082f200f4a239684d6e5b976b196": {
      "model_module": "@jupyter-widgets/base",
      "model_module_version": "1.2.0",
      "model_name": "LayoutModel",
      "state": {}
     },
     "21350d8100af4acbbbba14f68c856baa": {
      "model_module": "@jupyter-widgets/controls",
      "model_module_version": "1.5.0",
      "model_name": "ColorPickerModel",
      "state": {
       "description": "emission",
       "disabled": false,
       "layout": "IPY_MODEL_c6a591bed4c246eaa6f122a5fb74d701",
       "style": "IPY_MODEL_58b736cae95a4a3f97d710efaa4148bb",
       "value": "#000000"
      }
     },
     "21584ab197984ba29419802ea60fc1c8": {
      "model_module": "@jupyter-widgets/controls",
      "model_module_version": "1.5.0",
      "model_name": "VBoxModel",
      "state": {
       "children": [
        "IPY_MODEL_0c2bee5a70fb46b2acac86b96cb0aab2",
        "IPY_MODEL_bba064c217a24b0f9b5d380aaa6fea52"
       ],
       "layout": "IPY_MODEL_1e923ca9d3ec4aaf9602202ba9e7cb20"
      }
     },
     "215f302522a248ffb3819ec2c29f1058": {
      "model_module": "@jupyter-widgets/base",
      "model_module_version": "1.2.0",
      "model_name": "LayoutModel",
      "state": {}
     },
     "2171707fa97347488af43fe88a591d0f": {
      "model_module": "@jupyter-widgets/controls",
      "model_module_version": "1.5.0",
      "model_name": "SliderStyleModel",
      "state": {
       "description_width": ""
      }
     },
     "21dc5393f9364b34b280fae10a6852f9": {
      "model_module": "@jupyter-widgets/controls",
      "model_module_version": "1.5.0",
      "model_name": "ButtonStyleModel",
      "state": {}
     },
     "21f3349a602545288f617c05af0e2a85": {
      "model_module": "@jupyter-widgets/base",
      "model_module_version": "1.2.0",
      "model_name": "LayoutModel",
      "state": {}
     },
     "221397e9ebd543a29b72321488035216": {
      "model_module": "@jupyter-widgets/controls",
      "model_module_version": "1.5.0",
      "model_name": "HBoxModel",
      "state": {
       "children": [
        "IPY_MODEL_34039ec0ba934c63862e396616b031ef",
        "IPY_MODEL_bc6a9e91763e4425a42d8b1641580ff4"
       ],
       "layout": "IPY_MODEL_3000a614557743cbb42abf392046434f"
      }
     },
     "221ff8ea7a8240c4978f750044c1a1b6": {
      "model_module": "@jupyter-widgets/controls",
      "model_module_version": "1.5.0",
      "model_name": "DescriptionStyleModel",
      "state": {
       "description_width": ""
      }
     },
     "2249a5a5d0f24085af3136bbb4f3f425": {
      "model_module": "@jupyter-widgets/controls",
      "model_module_version": "1.5.0",
      "model_name": "FloatSliderModel",
      "state": {
       "description": "shininess",
       "layout": "IPY_MODEL_d323d6b67e114f9199d968a403d35954",
       "max": 1,
       "step": 0.1,
       "style": "IPY_MODEL_abcc393b17f24dc9b7fecb97fc241a9d",
       "value": 0.2
      }
     },
     "22836115f66046069dfdd261f534a787": {
      "model_module": "pgljupyter",
      "model_module_version": "^0.1.19",
      "model_name": "ParameterEditorModel",
      "state": {
       "_model_module_version": "^0.1.19",
       "_view_module_version": "^0.1.19",
       "children": [
        "IPY_MODEL_a177c650942f473394de06d06b3caca8"
       ],
       "layout": "IPY_MODEL_614b17aa8cbd4c59bdc4c77fdfbbc42b"
      }
     },
     "228bc3eabbcd41b0903a627cadc7111d": {
      "model_module": "@jupyter-widgets/controls",
      "model_module_version": "1.5.0",
      "model_name": "SliderStyleModel",
      "state": {
       "description_width": ""
      }
     },
     "22b0b08845a841bcab00137e9e0e416b": {
      "model_module": "@jupyter-widgets/controls",
      "model_module_version": "1.5.0",
      "model_name": "DescriptionStyleModel",
      "state": {
       "description_width": ""
      }
     },
     "22f9f8931d46440d97e214fb63e75678": {
      "model_module": "@jupyter-widgets/controls",
      "model_module_version": "1.5.0",
      "model_name": "ButtonStyleModel",
      "state": {}
     },
     "233d83e71b4344838e3144dcacea3eeb": {
      "model_module": "@jupyter-widgets/base",
      "model_module_version": "1.2.0",
      "model_name": "LayoutModel",
      "state": {}
     },
     "2340039821ec4848ab8a9b6c4eb0a864": {
      "model_module": "@jupyter-widgets/base",
      "model_module_version": "1.2.0",
      "model_name": "LayoutModel",
      "state": {}
     },
     "238dd52d41fd42ba8fc8d39b45ea27f2": {
      "model_module": "@jupyter-widgets/controls",
      "model_module_version": "1.5.0",
      "model_name": "DropdownModel",
      "state": {
       "_options_labels": [
        "Integer",
        "Float",
        "Bool"
       ],
       "index": 0,
       "layout": "IPY_MODEL_427e64e328734c2ea2a19855b06e1544",
       "style": "IPY_MODEL_59df3630aa8946ea91c52b602ac78c54"
      }
     },
     "23b2d84440ff41cdb3f1251c2c430172": {
      "model_module": "@jupyter-widgets/base",
      "model_module_version": "1.2.0",
      "model_name": "LayoutModel",
      "state": {}
     },
     "240b06896b1447a29608ee2c0041a5bc": {
      "model_module": "@jupyter-widgets/controls",
      "model_module_version": "1.5.0",
      "model_name": "IntSliderModel",
      "state": {
       "description": "value",
       "layout": "IPY_MODEL_e8499e7bab6246a0ad0a4f30d14ddbb3",
       "max": 10,
       "min": 1,
       "style": "IPY_MODEL_165abbc949ef4da0be3399b1aa01ad1f",
       "value": 3
      }
     },
     "243831084f114d97bd1e5d3e35197ff6": {
      "model_module": "@jupyter-widgets/controls",
      "model_module_version": "1.5.0",
      "model_name": "BoundedIntTextModel",
      "state": {
       "description": "index",
       "layout": "IPY_MODEL_178a6cb4a45b40af811fc096f2974764",
       "style": "IPY_MODEL_801c9757e2284ae99ecc9a5a8bffc9da",
       "value": 1
      }
     },
     "244a6d6ecfca4f0f98bc8b06b8f66d0f": {
      "model_module": "@jupyter-widgets/base",
      "model_module_version": "1.2.0",
      "model_name": "LayoutModel",
      "state": {}
     },
     "24700b060af14c8981e7fbfedeade0f8": {
      "model_module": "@jupyter-widgets/base",
      "model_module_version": "1.2.0",
      "model_name": "LayoutModel",
      "state": {
       "margin": "20px 0px"
      }
     },
     "24d9e6cddd2d4972974ebbd3a1c6bd3e": {
      "model_module": "@jupyter-widgets/controls",
      "model_module_version": "1.5.0",
      "model_name": "DescriptionStyleModel",
      "state": {
       "description_width": ""
      }
     },
     "24ef567daf684583a1b9719c63a29065": {
      "model_module": "@jupyter-widgets/controls",
      "model_module_version": "1.5.0",
      "model_name": "TextModel",
      "state": {
       "continuous_update": false,
       "description": "name",
       "layout": "IPY_MODEL_c8bd3e3f13474b0baac9eb113f5ce252",
       "style": "IPY_MODEL_9b2cf354612745219cec51fc673564b0",
       "value": "leaf_old"
      }
     },
     "25319b4a1c0d492ea4c44baed1f845f1": {
      "model_module": "@jupyter-widgets/base",
      "model_module_version": "1.2.0",
      "model_name": "LayoutModel",
      "state": {}
     },
     "25389c05c9a74d9a98ad640a1da0dc90": {
      "model_module": "@jupyter-widgets/controls",
      "model_module_version": "1.5.0",
      "model_name": "SliderStyleModel",
      "state": {
       "description_width": ""
      }
     },
     "255b3c439597483f80ed865cd04cc345": {
      "model_module": "@jupyter-widgets/base",
      "model_module_version": "1.2.0",
      "model_name": "LayoutModel",
      "state": {}
     },
     "255de9b06ec0472aaa589e58b2badd2d": {
      "model_module": "@jupyter-widgets/base",
      "model_module_version": "1.2.0",
      "model_name": "LayoutModel",
      "state": {}
     },
     "256f56f78e9543718e49f07029f8099c": {
      "model_module": "@jupyter-widgets/base",
      "model_module_version": "1.2.0",
      "model_name": "LayoutModel",
      "state": {}
     },
     "259e1b89f75240de83d19dcd3b59bf86": {
      "model_module": "@jupyter-widgets/controls",
      "model_module_version": "1.5.0",
      "model_name": "DescriptionStyleModel",
      "state": {
       "description_width": ""
      }
     },
     "25c2402de33e45e390315509afa77feb": {
      "model_module": "@jupyter-widgets/base",
      "model_module_version": "1.2.0",
      "model_name": "LayoutModel",
      "state": {}
     },
     "25d30d60259b4572b8731631d759ac9a": {
      "model_module": "@jupyter-widgets/base",
      "model_module_version": "1.2.0",
      "model_name": "LayoutModel",
      "state": {}
     },
     "262f578dc1b641d1a439f9d7bdb2b833": {
      "model_module": "@jupyter-widgets/controls",
      "model_module_version": "1.5.0",
      "model_name": "ButtonStyleModel",
      "state": {}
     },
     "266957bdee4c488d96db5cfceab4b072": {
      "model_module": "@jupyter-widgets/base",
      "model_module_version": "1.2.0",
      "model_name": "LayoutModel",
      "state": {}
     },
     "269d4a9ce92344b6b1ca56cee70b6700": {
      "model_module": "@jupyter-widgets/controls",
      "model_module_version": "1.5.0",
      "model_name": "DescriptionStyleModel",
      "state": {
       "description_width": ""
      }
     },
     "26b2b92b694649c3b974782805831251": {
      "model_module": "pgljupyter",
      "model_module_version": "^0.1.16",
      "model_name": "IntEditorModel",
      "state": {
       "_model_module_version": "^0.1.16",
       "_view_module_version": "^0.1.16",
       "children": [
        "IPY_MODEL_8e6019a49d114761a746e659cc1c48f2",
        "IPY_MODEL_5bfb433518c246f4a7cd7249ff19b64e",
        "IPY_MODEL_eac0f378daf14e768b562dc92a52bd46",
        "IPY_MODEL_aadcd785ecac49dd89e89b98cd11a5bc",
        "IPY_MODEL_71bb87308f7f413585405d1a1df6ad8f"
       ],
       "layout": "IPY_MODEL_a85f651d3d144554a4c5e5260dc4c9c3"
      }
     },
     "26b6ef9844df45fa90eceb06b5d3540f": {
      "model_module": "@jupyter-widgets/controls",
      "model_module_version": "1.5.0",
      "model_name": "DescriptionStyleModel",
      "state": {
       "description_width": ""
      }
     },
     "26b81cebc41f40ae83461cad70dcfba8": {
      "model_module": "@jupyter-widgets/controls",
      "model_module_version": "1.5.0",
      "model_name": "ButtonStyleModel",
      "state": {}
     },
     "26dd1eed428440a1bb6365baf44e75c4": {
      "model_module": "@jupyter-widgets/controls",
      "model_module_version": "1.5.0",
      "model_name": "BoundedIntTextModel",
      "state": {
       "description": "index",
       "layout": "IPY_MODEL_3bc727a4c5e842eba687117ad175a2bc",
       "style": "IPY_MODEL_d40cd5784b9640ce86140f6d8eb19ad7",
       "value": 2
      }
     },
     "26f268ff43434d3f8fd6c6ac3775b9a3": {
      "model_module": "@jupyter-widgets/controls",
      "model_module_version": "1.5.0",
      "model_name": "FloatSliderModel",
      "state": {
       "description": "transparency",
       "layout": "IPY_MODEL_e4b212a605144a07b42605253ab3a016",
       "max": 1,
       "step": 0.1,
       "style": "IPY_MODEL_4c81abb4c66846b5a198148d5fde3afe"
      }
     },
     "2718cbd168e24762a6996c846ee444dd": {
      "model_module": "@jupyter-widgets/controls",
      "model_module_version": "1.5.0",
      "model_name": "VBoxModel",
      "state": {
       "children": [
        "IPY_MODEL_129b9808260140be91fe527eb514555e",
        "IPY_MODEL_885caec9d1dd43c096b9a173555e99ba",
        "IPY_MODEL_e801703ebaf5452e9d7d9e5fc1f6b6d2",
        "IPY_MODEL_a6ba6d086bb947a9a81c7c00b649099a",
        "IPY_MODEL_e15fba46cf5946eeb499bb44c328da38"
       ],
       "layout": "IPY_MODEL_2770585a31af4e729bfb171d1f970cd6"
      }
     },
     "2718d36a76b14abe8337699015ee06ad": {
      "model_module": "@jupyter-widgets/controls",
      "model_module_version": "1.5.0",
      "model_name": "ButtonStyleModel",
      "state": {}
     },
     "2719d1e459504afd8a880d0568a15e88": {
      "model_module": "@jupyter-widgets/controls",
      "model_module_version": "1.5.0",
      "model_name": "IntSliderModel",
      "state": {
       "description": "value",
       "layout": "IPY_MODEL_b238a4f955c2461f89027d080a34f27a",
       "max": 10,
       "min": 1,
       "style": "IPY_MODEL_f2a5aa5ff05a4e369a4aa1886f23f400",
       "value": 2
      }
     },
     "27341d701b39454692c62d6ea10319c8": {
      "model_module": "@jupyter-widgets/controls",
      "model_module_version": "1.5.0",
      "model_name": "DescriptionStyleModel",
      "state": {
       "description_width": ""
      }
     },
     "273d55f5f31d4648966c52a36a8bc18e": {
      "model_module": "pgljupyter",
      "model_module_version": "^0.1.18",
      "model_name": "MaterialEditorModel",
      "state": {
       "_model_module_version": "^0.1.18",
       "_view_module_version": "^0.1.18",
       "children": [
        "IPY_MODEL_208de69f01e844309a09e7a6c6150e42",
        "IPY_MODEL_9bc9c3338eea4c8c86654a7b2ab4b2be",
        "IPY_MODEL_5fd9a8d12c4d45588031973ef01650c0",
        "IPY_MODEL_92d4898f94824292b0826fcacbbe587f",
        "IPY_MODEL_62fff4b10d2c498fa7de85b618a36351",
        "IPY_MODEL_4e7c5a348d354d778c2e8fac651d24ae",
        "IPY_MODEL_26f268ff43434d3f8fd6c6ac3775b9a3",
        "IPY_MODEL_d24455fb0aa04c15978bcf82f484ec0d"
       ],
       "layout": "IPY_MODEL_7c3d32abecd84c22aa8e83abca17afd6"
      }
     },
     "2748b3bc98584be89e557777f606f30e": {
      "model_module": "@jupyter-widgets/base",
      "model_module_version": "1.2.0",
      "model_name": "LayoutModel",
      "state": {}
     },
     "2770585a31af4e729bfb171d1f970cd6": {
      "model_module": "@jupyter-widgets/base",
      "model_module_version": "1.2.0",
      "model_name": "LayoutModel",
      "state": {}
     },
     "27c99d487aef426398bafe8dc27b8491": {
      "model_module": "@jupyter-widgets/base",
      "model_module_version": "1.2.0",
      "model_name": "LayoutModel",
      "state": {}
     },
     "27f197b4f13d478283479e8a52271d78": {
      "model_module": "@jupyter-widgets/controls",
      "model_module_version": "1.5.0",
      "model_name": "ButtonModel",
      "state": {
       "description": "Save changes",
       "layout": "IPY_MODEL_f826609262fd40cb852fc2f4bd691b74",
       "style": "IPY_MODEL_dfccc42a1e8f4f4abdf4c85dd83fbdf3"
      }
     },
     "280f5706c53c48bd96c1f0c3b5a82955": {
      "model_module": "@jupyter-widgets/controls",
      "model_module_version": "1.5.0",
      "model_name": "ColorPickerModel",
      "state": {
       "description": "specular",
       "disabled": false,
       "layout": "IPY_MODEL_47c2ee699e6a4f7c83103495961650b0",
       "style": "IPY_MODEL_b618285ed5684282bcdc1d912a0170cc",
       "value": "#282828"
      }
     },
     "283766ded61e469895271b99cd20aee7": {
      "model_module": "@jupyter-widgets/controls",
      "model_module_version": "1.5.0",
      "model_name": "IntSliderModel",
      "state": {
       "description": "value",
       "layout": "IPY_MODEL_858878c7e61544b790ca64ba3754be3a",
       "max": 10,
       "min": 1,
       "style": "IPY_MODEL_1c6b5e326e8d49b2a591f19e3efcbb8c",
       "value": 3
      }
     },
     "28501e07ca81424ba924d3f88696843a": {
      "model_module": "@jupyter-widgets/controls",
      "model_module_version": "1.5.0",
      "model_name": "ButtonStyleModel",
      "state": {}
     },
     "286459ac772e4d45a1cdf2d3de2f2641": {
      "model_module": "@jupyter-widgets/controls",
      "model_module_version": "1.5.0",
      "model_name": "HBoxModel",
      "state": {
       "children": [
        "IPY_MODEL_7fa3fc5095444041b8bf59eb82ee0f1b",
        "IPY_MODEL_c670633e3aa5429fb74ad03495d1835c"
       ],
       "layout": "IPY_MODEL_78dff3c9b0ab4092885a4681b708b9c4"
      }
     },
     "28691dd4baba4a50be1bed6f5dc13469": {
      "model_module": "@jupyter-widgets/controls",
      "model_module_version": "1.5.0",
      "model_name": "DropdownModel",
      "state": {
       "_options_labels": [
        "maxorder",
        "radinc",
        "nb_axes"
       ],
       "index": 0,
       "layout": "IPY_MODEL_3e88ff73b7174894a74048caac61d6dd",
       "style": "IPY_MODEL_e635d4b4c4cd44f2a336ab38518f4c9b"
      }
     },
     "28941cfcc3894fe3a6bb53b671b1fbf1": {
      "model_module": "@jupyter-widgets/controls",
      "model_module_version": "1.5.0",
      "model_name": "DescriptionStyleModel",
      "state": {
       "description_width": ""
      }
     },
     "289af199b7494ce2935204247e9a8c74": {
      "model_module": "@jupyter-widgets/base",
      "model_module_version": "1.2.0",
      "model_name": "LayoutModel",
      "state": {}
     },
     "28ac8517ff6543888b7ae35a5a88a964": {
      "model_module": "@jupyter-widgets/base",
      "model_module_version": "1.2.0",
      "model_name": "LayoutModel",
      "state": {}
     },
     "28dbfeb66b4146699787fc4516f4869c": {
      "model_module": "@jupyter-widgets/base",
      "model_module_version": "1.2.0",
      "model_name": "LayoutModel",
      "state": {}
     },
     "29963b5130614ef58373b07536e44942": {
      "model_module": "@jupyter-widgets/base",
      "model_module_version": "1.2.0",
      "model_name": "LayoutModel",
      "state": {}
     },
     "29ada92f78534b5a8245a40f76bd758a": {
      "model_module": "@jupyter-widgets/base",
      "model_module_version": "1.2.0",
      "model_name": "LayoutModel",
      "state": {}
     },
     "29c4bd8332b8480e91c8c5587019d711": {
      "model_module": "@jupyter-widgets/base",
      "model_module_version": "1.2.0",
      "model_name": "LayoutModel",
      "state": {}
     },
     "29cb9888dbcc4dc9bc915fc90fd8998a": {
      "model_module": "@jupyter-widgets/base",
      "model_module_version": "1.2.0",
      "model_name": "LayoutModel",
      "state": {}
     },
     "29cf0466a11e48fc973f7029133b4c1c": {
      "model_module": "@jupyter-widgets/base",
      "model_module_version": "1.2.0",
      "model_name": "LayoutModel",
      "state": {}
     },
     "29f083c6202b4e71911388db0eb926e4": {
      "model_module": "@jupyter-widgets/controls",
      "model_module_version": "1.5.0",
      "model_name": "FloatSliderModel",
      "state": {
       "description": "diffuse",
       "layout": "IPY_MODEL_1a901903106b4de5881749108bd6c41d",
       "max": 3,
       "step": 0.1,
       "style": "IPY_MODEL_e2de1706c64a496781bb68ab5f7e1f36",
       "value": 1
      }
     },
     "2a3d358efbf34acb9c7a60be2b6f23ae": {
      "model_module": "@jupyter-widgets/controls",
      "model_module_version": "1.5.0",
      "model_name": "DescriptionStyleModel",
      "state": {
       "description_width": ""
      }
     },
     "2a4657dcf6134dbf9171718197e5e80f": {
      "model_module": "@jupyter-widgets/base",
      "model_module_version": "1.2.0",
      "model_name": "LayoutModel",
      "state": {}
     },
     "2aa3ae383fe546ccba78dde66139f07e": {
      "model_module": "@jupyter-widgets/controls",
      "model_module_version": "1.5.0",
      "model_name": "HBoxModel",
      "state": {
       "children": [
        "IPY_MODEL_baf1a60a7c1b4d32906c8ce7421ac654",
        "IPY_MODEL_8b39ce9f414948e2acb5c8cfdcf3d6a8"
       ],
       "layout": "IPY_MODEL_48081768731e4a308ef6582f5108536e"
      }
     },
     "2b06ff77988044cbbe92812f8d420a23": {
      "model_module": "@jupyter-widgets/base",
      "model_module_version": "1.2.0",
      "model_name": "LayoutModel",
      "state": {
       "margin": "20px 0px"
      }
     },
     "2b0ed78f41644859a87787f1255e1b81": {
      "model_module": "@jupyter-widgets/controls",
      "model_module_version": "1.5.0",
      "model_name": "DescriptionStyleModel",
      "state": {
       "description_width": ""
      }
     },
     "2b2537aec03a486682b37fa201430b15": {
      "model_module": "@jupyter-widgets/controls",
      "model_module_version": "1.5.0",
      "model_name": "DescriptionStyleModel",
      "state": {
       "description_width": ""
      }
     },
     "2b6bcb5538be448e892da6df8ef5fc7b": {
      "model_module": "@jupyter-widgets/base",
      "model_module_version": "1.2.0",
      "model_name": "LayoutModel",
      "state": {}
     },
     "2b91b62c30f74a2d80349a21cd49380b": {
      "model_module": "@jupyter-widgets/controls",
      "model_module_version": "1.5.0",
      "model_name": "HBoxModel",
      "state": {
       "children": [
        "IPY_MODEL_9334138484854b40a86080f1b61c3cbf",
        "IPY_MODEL_2ebfcf29b8b347bcbb892e15552a4724"
       ],
       "layout": "IPY_MODEL_37ab0aab470c48e49c20c495f371e4d0"
      }
     },
     "2ba15c3936ee4dd3a35e1ac8b8710c9d": {
      "model_module": "@jupyter-widgets/controls",
      "model_module_version": "1.5.0",
      "model_name": "FloatSliderModel",
      "state": {
       "description": "shininess",
       "layout": "IPY_MODEL_6568a84592d945ddaf5e6c0dc6c917c1",
       "max": 1,
       "step": 0.1,
       "style": "IPY_MODEL_c076c7f8110443d8b16ad88e24d4c9c2",
       "value": 0.2
      }
     },
     "2bc76f78cd2740a6bbf7d58fd5b203a9": {
      "model_module": "@jupyter-widgets/controls",
      "model_module_version": "1.5.0",
      "model_name": "BoundedIntTextModel",
      "state": {
       "description": "index",
       "layout": "IPY_MODEL_0263367b3ff344bcaffd73258d997ec2",
       "style": "IPY_MODEL_20f26d89736d43d19f678d93232feee7",
       "value": 1
      }
     },
     "2bc9612a3671413583aacf103d7434c3": {
      "model_module": "@jupyter-widgets/controls",
      "model_module_version": "1.5.0",
      "model_name": "HBoxModel",
      "state": {
       "children": [
        "IPY_MODEL_eb9c25defb924bd4a139c44c404e7001",
        "IPY_MODEL_81cddc7ae49e4648a2c274c8e34674fa"
       ],
       "layout": "IPY_MODEL_4b4fb8f835ff4f25801bdcf57fb1eba4"
      }
     },
     "2bf17ef5037e47f2a920e8d7811f8932": {
      "model_module": "@jupyter-widgets/base",
      "model_module_version": "1.2.0",
      "model_name": "LayoutModel",
      "state": {}
     },
     "2c07ac220de942ccb12377bf94366b14": {
      "model_module": "@jupyter-widgets/controls",
      "model_module_version": "1.5.0",
      "model_name": "ColorPickerModel",
      "state": {
       "description": "specular",
       "disabled": false,
       "layout": "IPY_MODEL_0fbf4f04c7844825967a392870b05c3c",
       "style": "IPY_MODEL_674ce701a99c4dd290082ac0ca4a9bf8",
       "value": "#282828"
      }
     },
     "2c2396952b064b95b30ec4636f7a5104": {
      "model_module": "@jupyter-widgets/base",
      "model_module_version": "1.2.0",
      "model_name": "LayoutModel",
      "state": {}
     },
     "2c4a0f6f749e428e81918dc2b18b6073": {
      "model_module": "@jupyter-widgets/base",
      "model_module_version": "1.2.0",
      "model_name": "LayoutModel",
      "state": {}
     },
     "2c4f8c87f0eb4c48a1315f8f85b34133": {
      "model_module": "@jupyter-widgets/controls",
      "model_module_version": "1.5.0",
      "model_name": "IntSliderModel",
      "state": {
       "description": "value",
       "layout": "IPY_MODEL_90b38a086b7a4c3dacb0a705e9da7c93",
       "max": 10,
       "min": 1,
       "style": "IPY_MODEL_d57e2be537e04b77bd713ec999a5c5a4",
       "value": 5
      }
     },
     "2c72ff2950854494b63f8872eabd3dac": {
      "model_module": "@jupyter-widgets/base",
      "model_module_version": "1.2.0",
      "model_name": "LayoutModel",
      "state": {}
     },
     "2c7e43047da344c297659bb5c7099369": {
      "model_module": "@jupyter-widgets/controls",
      "model_module_version": "1.5.0",
      "model_name": "HBoxModel",
      "state": {
       "children": [
        "IPY_MODEL_50df7fad8d974b4992fd0cea68bec79c",
        "IPY_MODEL_95e1beb5a96b4e808db8fc25b38b38b1"
       ],
       "layout": "IPY_MODEL_1252932a3a30469f9a39f40e32962dd6"
      }
     },
     "2ca34fe9924a49fc83bddc7127569de5": {
      "model_module": "@jupyter-widgets/controls",
      "model_module_version": "1.5.0",
      "model_name": "FloatSliderModel",
      "state": {
       "description": "transparency",
       "layout": "IPY_MODEL_7ca3a8c138b64f70941125a4b01033f9",
       "max": 1,
       "step": 0.1,
       "style": "IPY_MODEL_e812837d2b0f440e9038a8b882215c27"
      }
     },
     "2cabd356816143a89ce79e41bd309ed4": {
      "model_module": "@jupyter-widgets/controls",
      "model_module_version": "1.5.0",
      "model_name": "HBoxModel",
      "state": {
       "children": [
        "IPY_MODEL_665a21b5b0a24ed98abe27fb4169edb8",
        "IPY_MODEL_e9c513a4f98a4afd87ad87a4ddd1d942"
       ],
       "layout": "IPY_MODEL_a0afcc87243542eeaf16398cb75a5821"
      }
     },
     "2cbe2b9f20a14b2c9ff7c42cc96e34c6": {
      "model_module": "@jupyter-widgets/controls",
      "model_module_version": "1.5.0",
      "model_name": "ColorPickerModel",
      "state": {
       "description": "emission",
       "disabled": false,
       "layout": "IPY_MODEL_0499384873a04178a41a7a611d6d08dc",
       "style": "IPY_MODEL_c120885553c04d129fd38676ed6234d2",
       "value": "#000000"
      }
     },
     "2cebf6544aeb43e5867b20b905a27538": {
      "model_module": "@jupyter-widgets/controls",
      "model_module_version": "1.5.0",
      "model_name": "ButtonModel",
      "state": {
       "description": "Add",
       "layout": "IPY_MODEL_52ed086a39d24a57919b206846df9aba",
       "style": "IPY_MODEL_f3a5d74515114615b5d451bc8e5d23f5"
      }
     },
     "2cf86b3c818d4ae9854cb7c3aba3e9e5": {
      "model_module": "@jupyter-widgets/base",
      "model_module_version": "1.2.0",
      "model_name": "LayoutModel",
      "state": {}
     },
     "2d0c3904e1ae45eaa6ffc4291f335b1f": {
      "model_module": "@jupyter-widgets/controls",
      "model_module_version": "1.5.0",
      "model_name": "ButtonStyleModel",
      "state": {}
     },
     "2d215d5802a64161ad4658212812c5f3": {
      "model_module": "@jupyter-widgets/controls",
      "model_module_version": "1.5.0",
      "model_name": "HBoxModel",
      "state": {
       "children": [
        "IPY_MODEL_88f44b81f9624f8db9eb6600e3fb96e4"
       ],
       "layout": "IPY_MODEL_4d77f69f74244057baec36b232f87f78"
      }
     },
     "2d488102b5284d38b5c87aa63c4159cf": {
      "model_module": "@jupyter-widgets/controls",
      "model_module_version": "1.5.0",
      "model_name": "FloatSliderModel",
      "state": {
       "description": "transparency",
       "layout": "IPY_MODEL_18f2aa4406d94deaab24b3b2e2829509",
       "max": 1,
       "step": 0.1,
       "style": "IPY_MODEL_ba5e485f797f45a793e7c0053d26227b"
      }
     },
     "2d5a147118f043b0bedacc46a82c83fb": {
      "model_module": "@jupyter-widgets/controls",
      "model_module_version": "1.5.0",
      "model_name": "SliderStyleModel",
      "state": {
       "description_width": ""
      }
     },
     "2d633741e82e4a00811c61de610e3b6b": {
      "model_module": "@jupyter-widgets/controls",
      "model_module_version": "1.5.0",
      "model_name": "DescriptionStyleModel",
      "state": {
       "description_width": ""
      }
     },
     "2d7812945748435ea206c4b8b1341c7c": {
      "model_module": "pgljupyter",
      "model_module_version": "^0.1.19",
      "model_name": "MaterialEditorModel",
      "state": {
       "_model_module_version": "^0.1.19",
       "_view_module_version": "^0.1.19",
       "children": [
        "IPY_MODEL_e9e462dbc66b4f12b3954106b87e846a",
        "IPY_MODEL_9d85129303a24583bb579ed66f0f17c6",
        "IPY_MODEL_4afd330d8b794b27b31b952402605af2",
        "IPY_MODEL_1a30bd6297ea496caffb74eca89f7301",
        "IPY_MODEL_55fd0718c41b435db5caa06ebb66c4d3",
        "IPY_MODEL_3823b97d96004b689f2595044278fc3f",
        "IPY_MODEL_2ca34fe9924a49fc83bddc7127569de5",
        "IPY_MODEL_7ec9db9a54454f7cb858727c3b9c3b2c"
       ],
       "layout": "IPY_MODEL_13ba8e749f2441f7b7dfcbe5210b62c8"
      }
     },
     "2d9fad0b565a4646b1f726689ed625fc": {
      "model_module": "@jupyter-widgets/controls",
      "model_module_version": "1.5.0",
      "model_name": "ButtonStyleModel",
      "state": {}
     },
     "2da2625474d444a4a745acca04a53c1f": {
      "model_module": "@jupyter-widgets/controls",
      "model_module_version": "1.5.0",
      "model_name": "FloatSliderModel",
      "state": {
       "description": "shininess",
       "layout": "IPY_MODEL_694aa30345644ad9836c04cf3497349c",
       "max": 1,
       "step": 0.1,
       "style": "IPY_MODEL_eb38eb2960ba4c56b249425bdddbb378",
       "value": 0.2
      }
     },
     "2db2f596971f45688e65a9abdd337586": {
      "model_module": "@jupyter-widgets/controls",
      "model_module_version": "1.5.0",
      "model_name": "IntSliderModel",
      "state": {
       "description": "value",
       "layout": "IPY_MODEL_720602bd96314ddbb7e19314e2bb1ac7",
       "max": 7,
       "min": 1,
       "style": "IPY_MODEL_10203e2cc2ca454cbb746ee2e79b4d81",
       "value": 3
      }
     },
     "2db8651a2bd342e7b9af50736d9bfac4": {
      "model_module": "@jupyter-widgets/controls",
      "model_module_version": "1.5.0",
      "model_name": "DescriptionStyleModel",
      "state": {
       "description_width": ""
      }
     },
     "2ddb53f89ba24d29879e06aa20312c33": {
      "model_module": "@jupyter-widgets/controls",
      "model_module_version": "1.5.0",
      "model_name": "VBoxModel",
      "state": {
       "children": [
        "IPY_MODEL_76a7891c95b448d2af9b34121cc3d931",
        "IPY_MODEL_6ae70c48f5bb42129c7504bfebdb6214",
        "IPY_MODEL_5f98c0fc4bc74bb18355255bc02aa93c",
        "IPY_MODEL_07fb05e1465a436cb2c1b6e04d7bcaca",
        "IPY_MODEL_754eef940be14d05ae2afa1c1b3f2e0d"
       ],
       "layout": "IPY_MODEL_415d5dcf24dc4e0f9ab09bc6e94846fa"
      }
     },
     "2de7c371544e409a8f3f128430eeced9": {
      "model_module": "@jupyter-widgets/base",
      "model_module_version": "1.2.0",
      "model_name": "LayoutModel",
      "state": {}
     },
     "2e21adf4c8bb4fac95416edb37f93844": {
      "model_module": "@jupyter-widgets/controls",
      "model_module_version": "1.5.0",
      "model_name": "ColorPickerModel",
      "state": {
       "description": "emission",
       "disabled": false,
       "layout": "IPY_MODEL_09b9272d2fe1478a8549297784bc14dc",
       "style": "IPY_MODEL_dde1071f08f442b987043d10dc31e5dd",
       "value": "#000000"
      }
     },
     "2e291dc0a02b4b878cc21b93ac478bfd": {
      "model_module": "@jupyter-widgets/base",
      "model_module_version": "1.2.0",
      "model_name": "LayoutModel",
      "state": {}
     },
     "2e48c81795b64dcba33d064847595389": {
      "model_module": "@jupyter-widgets/base",
      "model_module_version": "1.2.0",
      "model_name": "LayoutModel",
      "state": {}
     },
     "2e4a8e24f3cb480f948147e7187812ba": {
      "model_module": "@jupyter-widgets/base",
      "model_module_version": "1.2.0",
      "model_name": "LayoutModel",
      "state": {}
     },
     "2e83ffb67736453ba28acc20275e238f": {
      "model_module": "@jupyter-widgets/base",
      "model_module_version": "1.2.0",
      "model_name": "LayoutModel",
      "state": {}
     },
     "2e9b3567dc074850a4457cea55ff8a2b": {
      "model_module": "@jupyter-widgets/controls",
      "model_module_version": "1.5.0",
      "model_name": "HBoxModel",
      "state": {
       "children": [
        "IPY_MODEL_cd7bfb5080ac406ca64676e932e517e1",
        "IPY_MODEL_48dad82cb0874a77af8613d9cc02e5b8"
       ],
       "layout": "IPY_MODEL_69c450ec1a01424db338088654b05a79"
      }
     },
     "2ebfcf29b8b347bcbb892e15552a4724": {
      "model_module": "@jupyter-widgets/controls",
      "model_module_version": "1.5.0",
      "model_name": "DropdownModel",
      "state": {
       "_options_labels": [
        "Integer",
        "Float",
        "Bool"
       ],
       "index": 0,
       "layout": "IPY_MODEL_530074057fcd4130a243bde3a073669b",
       "style": "IPY_MODEL_e248c6cad0a7477090a5f66a3ae950b9"
      }
     },
     "2ed237c444f041958ac480d559718a9b": {
      "model_module": "@jupyter-widgets/controls",
      "model_module_version": "1.5.0",
      "model_name": "TextModel",
      "state": {
       "continuous_update": false,
       "description": "name",
       "layout": "IPY_MODEL_c32f6b4c4d3c4559935e3f52d16dc798",
       "style": "IPY_MODEL_8f87f71addf8423b8fb30f7dbf62cc02",
       "value": "leafduration"
      }
     },
     "2efed7a1fa88483699467354d3562b8e": {
      "model_module": "@jupyter-widgets/base",
      "model_module_version": "1.2.0",
      "model_name": "LayoutModel",
      "state": {}
     },
     "2f0afcc5db404c0c9baabdd8288c7f23": {
      "model_module": "@jupyter-widgets/controls",
      "model_module_version": "1.5.0",
      "model_name": "TabModel",
      "state": {
       "_titles": {
        "0": "leuwenberg.json"
       },
       "children": [
        "IPY_MODEL_73496737da0c4b479a2e43c89062fdf3"
       ],
       "layout": "IPY_MODEL_2f120020ca8d4391a2338862187e2aa9"
      }
     },
     "2f120020ca8d4391a2338862187e2aa9": {
      "model_module": "@jupyter-widgets/base",
      "model_module_version": "1.2.0",
      "model_name": "LayoutModel",
      "state": {}
     },
     "2f17b1525d00451c858cb41c69112c69": {
      "model_module": "@jupyter-widgets/controls",
      "model_module_version": "1.5.0",
      "model_name": "ButtonStyleModel",
      "state": {}
     },
     "2f2a18791e474473882476c2b545f886": {
      "model_module": "@jupyter-widgets/controls",
      "model_module_version": "1.5.0",
      "model_name": "BoundedIntTextModel",
      "state": {
       "description": "index",
       "layout": "IPY_MODEL_4ba98a3088f249428269655303174413",
       "style": "IPY_MODEL_604d1a618d0d48e8ba8e49ac54668dfb",
       "value": 4
      }
     },
     "2f44d75cf5a94a1f952b35bf8347abb8": {
      "model_module": "@jupyter-widgets/controls",
      "model_module_version": "1.5.0",
      "model_name": "TextModel",
      "state": {
       "continuous_update": false,
       "description": "name",
       "layout": "IPY_MODEL_436fd876208e40f2bed14a468634cd12",
       "style": "IPY_MODEL_34cde60d4db54699b827b7171ab0d6da",
       "value": "leafold"
      }
     },
     "2f62c1ab623c4435ae109ecf1f320711": {
      "model_module": "@jupyter-widgets/base",
      "model_module_version": "1.2.0",
      "model_name": "LayoutModel",
      "state": {}
     },
     "2f7990fb68574e08a097ad24e9646305": {
      "model_module": "@jupyter-widgets/controls",
      "model_module_version": "1.5.0",
      "model_name": "ButtonStyleModel",
      "state": {}
     },
     "2f7bae47a5d04c279483d29ce1fb515d": {
      "model_module": "@jupyter-widgets/controls",
      "model_module_version": "1.5.0",
      "model_name": "DescriptionStyleModel",
      "state": {
       "description_width": ""
      }
     },
     "2fa0e323165245eba4d3e15b8215c92f": {
      "model_module": "@jupyter-widgets/base",
      "model_module_version": "1.2.0",
      "model_name": "LayoutModel",
      "state": {}
     },
     "2fbe66108ef0435abf2f0ae7d1785c48": {
      "model_module": "@jupyter-widgets/controls",
      "model_module_version": "1.5.0",
      "model_name": "ButtonStyleModel",
      "state": {}
     },
     "3000a614557743cbb42abf392046434f": {
      "model_module": "@jupyter-widgets/base",
      "model_module_version": "1.2.0",
      "model_name": "LayoutModel",
      "state": {}
     },
     "300d90438a1445f4819171e16fa9d386": {
      "model_module": "@jupyter-widgets/controls",
      "model_module_version": "1.5.0",
      "model_name": "HBoxModel",
      "state": {
       "layout": "IPY_MODEL_6f5e6f5355bd440d8af5ee837dac75a9"
      }
     },
     "30356a9a3f9349bfad41280603e63f1b": {
      "model_module": "@jupyter-widgets/controls",
      "model_module_version": "1.5.0",
      "model_name": "FloatSliderModel",
      "state": {
       "description": "shininess",
       "layout": "IPY_MODEL_15ac7abd32994b22882527528e46a15c",
       "max": 1,
       "step": 0.1,
       "style": "IPY_MODEL_197cf1dcd4204da1b4aa7c6ddffd697e",
       "value": 0.2
      }
     },
     "3036709698c94d53ac94124615b9612e": {
      "model_module": "@jupyter-widgets/controls",
      "model_module_version": "1.5.0",
      "model_name": "VBoxModel",
      "state": {
       "children": [
        "IPY_MODEL_34e6f4f09b2d4c69b0edd0a18c352caf",
        "IPY_MODEL_6b64f44ea36c41a0bce14ae865b76233"
       ],
       "layout": "IPY_MODEL_82e2fd1b3d93436b87d96fe4772c750c"
      }
     },
     "3036777e7fe24a1599267429c31acd12": {
      "model_module": "@jupyter-widgets/controls",
      "model_module_version": "1.5.0",
      "model_name": "DescriptionStyleModel",
      "state": {
       "description_width": ""
      }
     },
     "30473609ffbf4e1781ef3e743132ea77": {
      "model_module": "@jupyter-widgets/controls",
      "model_module_version": "1.5.0",
      "model_name": "ColorPickerModel",
      "state": {
       "description": "specular",
       "disabled": false,
       "layout": "IPY_MODEL_d4ef39502216401ca3c2e7381d844b04",
       "style": "IPY_MODEL_38271c79a85044a1a2f372e45b7f3762",
       "value": "#282828"
      }
     },
     "304e2cc8f62a4765b62a59138286ab58": {
      "model_module": "@jupyter-widgets/controls",
      "model_module_version": "1.5.0",
      "model_name": "ColorPickerModel",
      "state": {
       "description": "emission",
       "disabled": false,
       "layout": "IPY_MODEL_bcf4fc941c344389979acd078603c0fc",
       "style": "IPY_MODEL_c9ee8ed99d854415b137aeef8b399bf7",
       "value": "#000000"
      }
     },
     "305673ca6b654c1c8dcdccefd7e9a70a": {
      "model_module": "@jupyter-widgets/base",
      "model_module_version": "1.2.0",
      "model_name": "LayoutModel",
      "state": {}
     },
     "30d04e67afa2429b8229a2e9aae7d544": {
      "model_module": "@jupyter-widgets/controls",
      "model_module_version": "1.5.0",
      "model_name": "ColorPickerModel",
      "state": {
       "description": "emission",
       "disabled": false,
       "layout": "IPY_MODEL_6dcf6d518b354f35a404160bd83b6ff7",
       "style": "IPY_MODEL_13f6cb3231334246af2b1e8b585d86fc",
       "value": "#000000"
      }
     },
     "30d8f21dda4646f0acb3611afa8c89a6": {
      "model_module": "@jupyter-widgets/controls",
      "model_module_version": "1.5.0",
      "model_name": "SliderStyleModel",
      "state": {
       "description_width": ""
      }
     },
     "310624f7b16b4f028b5ca1be66aaddee": {
      "model_module": "@jupyter-widgets/controls",
      "model_module_version": "1.5.0",
      "model_name": "TextModel",
      "state": {
       "continuous_update": false,
       "description": "name",
       "layout": "IPY_MODEL_b8c7f3e772e0418984b752d8cabfe954",
       "style": "IPY_MODEL_dfbf3f0450ae43368952951aba7baba3",
       "value": "leafold"
      }
     },
     "3118b20c6b1b41b095139fadd7aa0f5e": {
      "model_module": "@jupyter-widgets/controls",
      "model_module_version": "1.5.0",
      "model_name": "HBoxModel",
      "state": {
       "children": [
        "IPY_MODEL_fd123b157eeb4540a7cc729aaa32ef3f",
        "IPY_MODEL_a2b015214e0846d9ac5d81a1bebac7b4"
       ],
       "layout": "IPY_MODEL_c668486775d54df3a202a26b6d1a94af"
      }
     },
     "311ce300b7c84bb79c37a6974f900649": {
      "model_module": "@jupyter-widgets/controls",
      "model_module_version": "1.5.0",
      "model_name": "ButtonModel",
      "state": {
       "description": "Delete",
       "layout": "IPY_MODEL_d007a3afb7ef4e6ab1691e067fa2adc5",
       "style": "IPY_MODEL_7878f40721f94603b8bcdf02db2a6f8c"
      }
     },
     "31516d112bb34f208b3e2ebaa6a85f0f": {
      "model_module": "@jupyter-widgets/controls",
      "model_module_version": "1.5.0",
      "model_name": "SliderStyleModel",
      "state": {
       "description_width": ""
      }
     },
     "3152de1fa1164856a37a0aa90a315025": {
      "model_module": "pgljupyter",
      "model_module_version": "^0.1.17",
      "model_name": "IntEditorModel",
      "state": {
       "_model_module_version": "^0.1.17",
       "_view_module_version": "^0.1.17",
       "children": [
        "IPY_MODEL_526eb050a3ef4576aa3195631f16da0b",
        "IPY_MODEL_4720179570ea4e868498362e539111b3"
       ],
       "layout": "IPY_MODEL_d3311825194e40848ec86c6df05ec71f"
      }
     },
     "31732b3ef50740ba848f6bc135cf9542": {
      "model_module": "@jupyter-widgets/controls",
      "model_module_version": "1.5.0",
      "model_name": "HBoxModel",
      "state": {
       "children": [
        "IPY_MODEL_0d137c7adb8f46d4a424e69649dea26f",
        "IPY_MODEL_0c240000ec0a4039a85b00acba556d7e"
       ],
       "layout": "IPY_MODEL_5d592cc939754fea80d73face4c60e8f"
      }
     },
     "31747047bcce495c891518d32e015bdf": {
      "model_module": "@jupyter-widgets/controls",
      "model_module_version": "1.5.0",
      "model_name": "ColorPickerModel",
      "state": {
       "description": "emission",
       "disabled": false,
       "layout": "IPY_MODEL_40ca5fd3b43d4d15a3135eeef5886fc1",
       "style": "IPY_MODEL_184575d290844eb0802b2744b027c06f",
       "value": "#000000"
      }
     },
     "3178a3216d144ea499adf4148f81828a": {
      "model_module": "@jupyter-widgets/base",
      "model_module_version": "1.2.0",
      "model_name": "LayoutModel",
      "state": {}
     },
     "3195adc8fefb45378839f142bc7b7fdc": {
      "model_module": "@jupyter-widgets/base",
      "model_module_version": "1.2.0",
      "model_name": "LayoutModel",
      "state": {}
     },
     "31e5447b555c40528ae38c2d4c949f9f": {
      "model_module": "@jupyter-widgets/controls",
      "model_module_version": "1.5.0",
      "model_name": "ButtonStyleModel",
      "state": {}
     },
     "31f8f240a62d42c994ef77ad3eff9028": {
      "model_module": "@jupyter-widgets/controls",
      "model_module_version": "1.5.0",
      "model_name": "DescriptionStyleModel",
      "state": {
       "description_width": ""
      }
     },
     "31ff80b71d0e49b293026e52abfdb4bc": {
      "model_module": "@jupyter-widgets/controls",
      "model_module_version": "1.5.0",
      "model_name": "HBoxModel",
      "state": {
       "children": [
        "IPY_MODEL_98fe3261f12c4e249958290f37ba93d2",
        "IPY_MODEL_02a935317d5e4652b323d2ec7d9e44eb"
       ],
       "layout": "IPY_MODEL_20ab7410ec8c4e87a7028f3830335948"
      }
     },
     "3242767a029c4316a2ec4ab31704f3d8": {
      "model_module": "@jupyter-widgets/base",
      "model_module_version": "1.2.0",
      "model_name": "LayoutModel",
      "state": {}
     },
     "32834c0308ce4413b19627f02762d646": {
      "model_module": "@jupyter-widgets/controls",
      "model_module_version": "1.5.0",
      "model_name": "IntSliderModel",
      "state": {
       "description": "value",
       "layout": "IPY_MODEL_c43e0238c1ef4e7c983ad07ad7529348",
       "max": 10,
       "min": 1,
       "style": "IPY_MODEL_86b075a727d1420b8b8e02e04c401dbf",
       "value": 3
      }
     },
     "32f9213597194d8bb44e46d1c99c84fb": {
      "model_module": "@jupyter-widgets/base",
      "model_module_version": "1.2.0",
      "model_name": "LayoutModel",
      "state": {}
     },
     "3324d05d1f6847678f57a1016eafaa0e": {
      "model_module": "@jupyter-widgets/controls",
      "model_module_version": "1.5.0",
      "model_name": "DescriptionStyleModel",
      "state": {
       "description_width": ""
      }
     },
     "33370c23f7f94edbae64929f7be4a58c": {
      "model_module": "@jupyter-widgets/base",
      "model_module_version": "1.2.0",
      "model_name": "LayoutModel",
      "state": {
       "margin": "20px 0px"
      }
     },
     "333c1c1af63143dfb66f43fe624cc4ba": {
      "model_module": "@jupyter-widgets/controls",
      "model_module_version": "1.5.0",
      "model_name": "ButtonStyleModel",
      "state": {}
     },
     "3370ab19ca7d4eb6bd833095110e8888": {
      "model_module": "@jupyter-widgets/controls",
      "model_module_version": "1.5.0",
      "model_name": "HBoxModel",
      "state": {
       "children": [
        "IPY_MODEL_db5f6dc768de4f52af107562f58156fb",
        "IPY_MODEL_ef5333f5371043d19deb770e002aef6f"
       ],
       "layout": "IPY_MODEL_4ef238a8a44a43369f6ff4c32bb90c5c"
      }
     },
     "33a25a7f6c774d99a2ad689dcc5a28a6": {
      "model_module": "@jupyter-widgets/controls",
      "model_module_version": "1.5.0",
      "model_name": "ButtonStyleModel",
      "state": {}
     },
     "33df28684ad348f5b03827854e48c752": {
      "model_module": "@jupyter-widgets/controls",
      "model_module_version": "1.5.0",
      "model_name": "SliderStyleModel",
      "state": {
       "description_width": ""
      }
     },
     "33e248224d044ba185e32bc6cddc3055": {
      "model_module": "@jupyter-widgets/controls",
      "model_module_version": "1.5.0",
      "model_name": "ButtonStyleModel",
      "state": {}
     },
     "33ecac72bc1645e0b487c066dc742e70": {
      "model_module": "@jupyter-widgets/controls",
      "model_module_version": "1.5.0",
      "model_name": "TextModel",
      "state": {
       "continuous_update": false,
       "description": "name",
       "layout": "IPY_MODEL_407661e8679b4f3b9602e2daaddae72e",
       "style": "IPY_MODEL_a6a5cc76976d4a088ca7e7f307750adf",
       "value": "leaf_new"
      }
     },
     "33f1c8621f03490ab5245ccf59e30f24": {
      "model_module": "pgljupyter",
      "model_module_version": "^0.1.20",
      "model_name": "IntEditorModel",
      "state": {
       "_model_module_version": "^0.1.20",
       "_view_module_version": "^0.1.20",
       "children": [
        "IPY_MODEL_97f9054a19b94f649c2c43daf746d8ad",
        "IPY_MODEL_556f03c0e652466698acdf9d3ef53d64"
       ],
       "layout": "IPY_MODEL_f09ec2f11f444eed8d6fdf286e95dc1c"
      }
     },
     "34039ec0ba934c63862e396616b031ef": {
      "model_module": "@jupyter-widgets/controls",
      "model_module_version": "1.5.0",
      "model_name": "ButtonModel",
      "state": {
       "description": "Add category",
       "layout": "IPY_MODEL_f3b5f46f7b7c466baaef384604030357",
       "style": "IPY_MODEL_54afde6385054afa854c63b78d32c519"
      }
     },
     "340f0dbc98ff42bda049e2e8bbb7b838": {
      "model_module": "@jupyter-widgets/base",
      "model_module_version": "1.2.0",
      "model_name": "LayoutModel",
      "state": {}
     },
     "341481874f4a40c88fa0bc3937bf1f74": {
      "model_module": "@jupyter-widgets/base",
      "model_module_version": "1.2.0",
      "model_name": "LayoutModel",
      "state": {}
     },
     "3423cf0a4514403f822864a725d3fedc": {
      "model_module": "@jupyter-widgets/base",
      "model_module_version": "1.2.0",
      "model_name": "LayoutModel",
      "state": {}
     },
     "344335e7670a495595018a08fc546dec": {
      "model_module": "@jupyter-widgets/base",
      "model_module_version": "1.2.0",
      "model_name": "LayoutModel",
      "state": {}
     },
     "34cde60d4db54699b827b7171ab0d6da": {
      "model_module": "@jupyter-widgets/controls",
      "model_module_version": "1.5.0",
      "model_name": "DescriptionStyleModel",
      "state": {
       "description_width": ""
      }
     },
     "34e6f4f09b2d4c69b0edd0a18c352caf": {
      "model_module": "@jupyter-widgets/controls",
      "model_module_version": "1.5.0",
      "model_name": "HBoxModel",
      "state": {
       "layout": "IPY_MODEL_f7ff34c66d4b431c8d7a458913ac23de"
      }
     },
     "352b11aaadc949e5b6d43b2af8c9c8bf": {
      "model_module": "@jupyter-widgets/controls",
      "model_module_version": "1.5.0",
      "model_name": "DescriptionStyleModel",
      "state": {
       "description_width": ""
      }
     },
     "353ddb1420fc4c4b98046d215b3a0a75": {
      "model_module": "@jupyter-widgets/controls",
      "model_module_version": "1.5.0",
      "model_name": "VBoxModel",
      "state": {
       "children": [
        "IPY_MODEL_4ee93253ee1e4f019df07258a39d8b47",
        "IPY_MODEL_d77d077081bb4eb8baa6f71acfaca80d",
        "IPY_MODEL_7607d9a6764a4b5585e648fdb1289c55",
        "IPY_MODEL_35ad94a74fd54bed8475e8324c36f8d3",
        "IPY_MODEL_1a3a8e4cff4b498aad3788925124b846"
       ],
       "layout": "IPY_MODEL_ad1542a9ee5d493fb7cad40f4ec24a08"
      }
     },
     "3581f98b0e0b489eb1e8d1ffb45828de": {
      "model_module": "@jupyter-widgets/base",
      "model_module_version": "1.2.0",
      "model_name": "LayoutModel",
      "state": {}
     },
     "35888e4f3f5048409ae7317289d152bd": {
      "model_module": "@jupyter-widgets/base",
      "model_module_version": "1.2.0",
      "model_name": "LayoutModel",
      "state": {
       "margin": "20px 0px"
      }
     },
     "35ad94a74fd54bed8475e8324c36f8d3": {
      "model_module": "@jupyter-widgets/controls",
      "model_module_version": "1.5.0",
      "model_name": "HBoxModel",
      "state": {
       "children": [
        "IPY_MODEL_4846a27e60cc441d93d5c535ffde0e6e",
        "IPY_MODEL_6f0f8070aff54befb01d59fb84b450b7"
       ],
       "layout": "IPY_MODEL_f7ff34c66d4b431c8d7a458913ac23de"
      }
     },
     "35d7a6de78294f0a93e1067f36baf237": {
      "model_module": "@jupyter-widgets/controls",
      "model_module_version": "1.5.0",
      "model_name": "ButtonModel",
      "state": {
       "description": "Delete category",
       "layout": "IPY_MODEL_0f40c1df13784f579067a2bd0aaa9d35",
       "style": "IPY_MODEL_6d4072720b9f49d79f96a3e2beff6e17"
      }
     },
     "35de142236d6430682387800cc229756": {
      "model_module": "@jupyter-widgets/controls",
      "model_module_version": "1.5.0",
      "model_name": "VBoxModel",
      "state": {
       "children": [
        "IPY_MODEL_417217b16fe444758f93fa05fe33456f",
        "IPY_MODEL_b52d8d1f7a39435a937737cba39c4169"
       ],
       "layout": "IPY_MODEL_63354b64c5c6445686dd6064588bcd06"
      }
     },
     "36206315b4434144abd918600eba897c": {
      "model_module": "@jupyter-widgets/controls",
      "model_module_version": "1.5.0",
      "model_name": "HBoxModel",
      "state": {
       "children": [
        "IPY_MODEL_08c9c604a4d44fa3be0d38a0cee344e7",
        "IPY_MODEL_ae6582bcdffa4a9ea49948fb8e79804f"
       ],
       "layout": "IPY_MODEL_aee7a263a0f64a1fbea2c127454b5880"
      }
     },
     "365ec1034d8846dc934c13bdd628212a": {
      "model_module": "@jupyter-widgets/base",
      "model_module_version": "1.2.0",
      "model_name": "LayoutModel",
      "state": {}
     },
     "368bf31b2cd549b2949bece28e1205ad": {
      "model_module": "@jupyter-widgets/controls",
      "model_module_version": "1.5.0",
      "model_name": "CheckboxModel",
      "state": {
       "description": "Auto save",
       "disabled": false,
       "layout": "IPY_MODEL_2c4a0f6f749e428e81918dc2b18b6073",
       "style": "IPY_MODEL_fb7df1f7b61a4ed2818a12f94a3168c4",
       "value": false
      }
     },
     "36a0f787f1b14b6a9e881d9b89dbe6f9": {
      "model_module": "@jupyter-widgets/controls",
      "model_module_version": "1.5.0",
      "model_name": "ButtonStyleModel",
      "state": {}
     },
     "36cefaebd481433a986da12e8f4ca923": {
      "model_module": "@jupyter-widgets/base",
      "model_module_version": "1.2.0",
      "model_name": "LayoutModel",
      "state": {}
     },
     "36dae7e778b4478990ee42ee7dd61824": {
      "model_module": "@jupyter-widgets/base",
      "model_module_version": "1.2.0",
      "model_name": "LayoutModel",
      "state": {}
     },
     "37056445934e4abba973138c48789f20": {
      "model_module": "@jupyter-widgets/controls",
      "model_module_version": "1.5.0",
      "model_name": "DescriptionStyleModel",
      "state": {
       "description_width": ""
      }
     },
     "3761ab3b962b4bdc83a0b5c3edaaf2f4": {
      "model_module": "@jupyter-widgets/base",
      "model_module_version": "1.2.0",
      "model_name": "LayoutModel",
      "state": {}
     },
     "376831fff5bc48dfb1fa24e507142fcf": {
      "model_module": "@jupyter-widgets/base",
      "model_module_version": "1.2.0",
      "model_name": "LayoutModel",
      "state": {}
     },
     "378af3a8594449d3a050f6c1b0b0503f": {
      "model_module": "pgljupyter",
      "model_module_version": "^0.1.20",
      "model_name": "MaterialEditorModel",
      "state": {
       "_model_module_version": "^0.1.20",
       "_view_module_version": "^0.1.20",
       "children": [
        "IPY_MODEL_f2740e7d55304da5b92addaba9f46791",
        "IPY_MODEL_dad1575e212b4ec78e51228ec3ee5775",
        "IPY_MODEL_0cb6db6109a04c959a1aa9f31415ddf1",
        "IPY_MODEL_68ae407b0f17478b8bba349c2b362287",
        "IPY_MODEL_3a935c95cbe5483ba3edcdaa0e5c5948",
        "IPY_MODEL_b6232427abaa44ee8f8af67967fd5908",
        "IPY_MODEL_983ff0bf760d4a3595c58dc8bec1ee06",
        "IPY_MODEL_30356a9a3f9349bfad41280603e63f1b"
       ],
       "layout": "IPY_MODEL_f6f979e7e2c640148f7ccf33cc3b0980"
      }
     },
     "37a6f13ee0d84c41bf5e2718b03b869b": {
      "model_module": "@jupyter-widgets/controls",
      "model_module_version": "1.5.0",
      "model_name": "ButtonModel",
      "state": {
       "description": "Add",
       "layout": "IPY_MODEL_7c1611d1648a473b93d3600459b16a6f",
       "style": "IPY_MODEL_931cc338e78d449da79227e3e8bbf56f"
      }
     },
     "37a93703112240f1b4ba6fd167b2abd8": {
      "model_module": "@jupyter-widgets/base",
      "model_module_version": "1.2.0",
      "model_name": "LayoutModel",
      "state": {}
     },
     "37ab0aab470c48e49c20c495f371e4d0": {
      "model_module": "@jupyter-widgets/base",
      "model_module_version": "1.2.0",
      "model_name": "LayoutModel",
      "state": {}
     },
     "37b2865fee2b4a02bc2013f64eaefc86": {
      "model_module": "@jupyter-widgets/base",
      "model_module_version": "1.2.0",
      "model_name": "LayoutModel",
      "state": {
       "flex_flow": "row wrap"
      }
     },
     "37bad97f36864d09b884b5b159f845c5": {
      "model_module": "@jupyter-widgets/controls",
      "model_module_version": "1.5.0",
      "model_name": "ColorPickerModel",
      "state": {
       "description": "specular",
       "disabled": false,
       "layout": "IPY_MODEL_8ed6d95dd9ef49ee8cf874817418fc76",
       "style": "IPY_MODEL_e9582f1549fd47149a0a82f1ee63f055",
       "value": "#282828"
      }
     },
     "37be1e18450a48628dc1cfe7889e3ae0": {
      "model_module": "@jupyter-widgets/base",
      "model_module_version": "1.2.0",
      "model_name": "LayoutModel",
      "state": {}
     },
     "37cb01c9b3e84e9da135afac63cb3f28": {
      "model_module": "@jupyter-widgets/base",
      "model_module_version": "1.2.0",
      "model_name": "LayoutModel",
      "state": {}
     },
     "37d590580784486799b82835c1490cd0": {
      "model_module": "pgljupyter",
      "model_module_version": "^0.1.18",
      "model_name": "IntEditorModel",
      "state": {
       "_model_module_version": "^0.1.18",
       "_view_module_version": "^0.1.18",
       "children": [
        "IPY_MODEL_db9ed437c56e4afcaea7ce8551e64a91",
        "IPY_MODEL_1495c1165fc748ae8bb58d756996d706"
       ],
       "layout": "IPY_MODEL_e18491acb9394f188ffa2c3096839935"
      }
     },
     "3823b97d96004b689f2595044278fc3f": {
      "model_module": "@jupyter-widgets/controls",
      "model_module_version": "1.5.0",
      "model_name": "FloatSliderModel",
      "state": {
       "description": "diffuse",
       "layout": "IPY_MODEL_c908184eb23d4c2496f39acbf94a858a",
       "max": 3,
       "step": 0.1,
       "style": "IPY_MODEL_bad4e236bef945b193cd8662cba5516a",
       "value": 1
      }
     },
     "38271c79a85044a1a2f372e45b7f3762": {
      "model_module": "@jupyter-widgets/controls",
      "model_module_version": "1.5.0",
      "model_name": "DescriptionStyleModel",
      "state": {
       "description_width": ""
      }
     },
     "382ba098f6cc4adf8bfb135a9de7b6d8": {
      "model_module": "@jupyter-widgets/base",
      "model_module_version": "1.2.0",
      "model_name": "LayoutModel",
      "state": {}
     },
     "3859230710584fe98955e85d63f45d07": {
      "model_module": "@jupyter-widgets/base",
      "model_module_version": "1.2.0",
      "model_name": "LayoutModel",
      "state": {}
     },
     "38af2c3340fa4dccbe1fe87f084d021e": {
      "model_module": "@jupyter-widgets/controls",
      "model_module_version": "1.5.0",
      "model_name": "ColorPickerModel",
      "state": {
       "description": "specular",
       "disabled": false,
       "layout": "IPY_MODEL_a4330bdab939492fbed45caab83a37b0",
       "style": "IPY_MODEL_e1ad944eafa344f19b268b968727ebe2",
       "value": "#282828"
      }
     },
     "38aff3c9c69e426985154cc4165b3f46": {
      "model_module": "@jupyter-widgets/controls",
      "model_module_version": "1.5.0",
      "model_name": "ButtonModel",
      "state": {
       "description": "Add",
       "layout": "IPY_MODEL_6a95929048464d27b92643ff9e093d6b",
       "style": "IPY_MODEL_718976f5e4da429abce9bf4719b35303"
      }
     },
     "38c72ff473424ad9bfe39cfda219b63e": {
      "model_module": "@jupyter-widgets/controls",
      "model_module_version": "1.5.0",
      "model_name": "DescriptionStyleModel",
      "state": {
       "description_width": ""
      }
     },
     "38e26cd9e23545518709851cba698d94": {
      "model_module": "@jupyter-widgets/base",
      "model_module_version": "1.2.0",
      "model_name": "LayoutModel",
      "state": {}
     },
     "38e8fc2ebd144c09b3718418fd4d321e": {
      "model_module": "@jupyter-widgets/controls",
      "model_module_version": "1.5.0",
      "model_name": "HBoxModel",
      "state": {
       "children": [
        "IPY_MODEL_82321aeab55d4ce7b6539f3d6b31b441",
        "IPY_MODEL_16282a7986064a8cb8770ae63961ce8e"
       ],
       "layout": "IPY_MODEL_dd2cc788345348a793f5a93c9e888de3"
      }
     },
     "38f0ad6d78c543e584e0999e772ae5b0": {
      "model_module": "@jupyter-widgets/controls",
      "model_module_version": "1.5.0",
      "model_name": "DescriptionStyleModel",
      "state": {
       "description_width": ""
      }
     },
     "3906a75a08ed413aba2363f7e4fa3366": {
      "model_module": "@jupyter-widgets/controls",
      "model_module_version": "1.5.0",
      "model_name": "TextModel",
      "state": {
       "continuous_update": false,
       "description": "name",
       "layout": "IPY_MODEL_4b2b575ede144d15b37a9b26cc73c875",
       "style": "IPY_MODEL_504c852fdd62470d9fce5fbb9e9e18bc",
       "value": "maxorder"
      }
     },
     "39084374a571435e824d7618f816aad4": {
      "model_module": "@jupyter-widgets/base",
      "model_module_version": "1.2.0",
      "model_name": "LayoutModel",
      "state": {}
     },
     "390ec84636c54a9186e42f79fc5c39a9": {
      "model_module": "@jupyter-widgets/controls",
      "model_module_version": "1.5.0",
      "model_name": "VBoxModel",
      "state": {
       "children": [
        "IPY_MODEL_5eff584d0b2b41aeb1390c34883b3952",
        "IPY_MODEL_b78a37695bbf435fb731861c038b885f"
       ],
       "layout": "IPY_MODEL_256f56f78e9543718e49f07029f8099c"
      }
     },
     "391878e8ba0540f5adaa617056b8dd47": {
      "model_module": "@jupyter-widgets/controls",
      "model_module_version": "1.5.0",
      "model_name": "DescriptionStyleModel",
      "state": {
       "description_width": ""
      }
     },
     "39501af7b4a946cb85b28be8f27f4a40": {
      "model_module": "@jupyter-widgets/controls",
      "model_module_version": "1.5.0",
      "model_name": "DescriptionStyleModel",
      "state": {
       "description_width": ""
      }
     },
     "3969e43bd2ff40cd9083e491f4ee8a61": {
      "model_module": "@jupyter-widgets/controls",
      "model_module_version": "1.5.0",
      "model_name": "TextModel",
      "state": {
       "continuous_update": false,
       "description": "name",
       "layout": "IPY_MODEL_2f62c1ab623c4435ae109ecf1f320711",
       "style": "IPY_MODEL_8f51043f8eec495db2aa437cf47dd5d0",
       "value": "radinc"
      }
     },
     "3996353c8b94465d86afb685abf7e620": {
      "model_module": "@jupyter-widgets/controls",
      "model_module_version": "1.5.0",
      "model_name": "BoundedIntTextModel",
      "state": {
       "description": "index",
       "layout": "IPY_MODEL_0176e28a1109422494c3cddf25a960f7",
       "style": "IPY_MODEL_c28c1957d1634127975fa331e2198a31",
       "value": 1
      }
     },
     "399fc3d82a3b4cb6984cdc1806f6c118": {
      "model_module": "@jupyter-widgets/controls",
      "model_module_version": "1.5.0",
      "model_name": "TextModel",
      "state": {
       "continuous_update": false,
       "description": "name",
       "layout": "IPY_MODEL_b3845888ce8d4ad4986e97d2f893e730",
       "style": "IPY_MODEL_6d1a398411bc4c81808725799dd684d4",
       "value": "leaf_old"
      }
     },
     "39b48239860647a19accd22046ec23a9": {
      "model_module": "@jupyter-widgets/base",
      "model_module_version": "1.2.0",
      "model_name": "LayoutModel",
      "state": {}
     },
     "3a06d16c9b3e4435a1ad65bd71604d2e": {
      "model_module": "@jupyter-widgets/base",
      "model_module_version": "1.2.0",
      "model_name": "LayoutModel",
      "state": {
       "margin": "20px 0px"
      }
     },
     "3a91f9dd6dd840dfa42d860498e26055": {
      "model_module": "@jupyter-widgets/controls",
      "model_module_version": "1.5.0",
      "model_name": "HBoxModel",
      "state": {
       "children": [
        "IPY_MODEL_35d7a6de78294f0a93e1067f36baf237"
       ],
       "layout": "IPY_MODEL_5a6aab1bb709492da4f69389f9069c24"
      }
     },
     "3a935c95cbe5483ba3edcdaa0e5c5948": {
      "model_module": "@jupyter-widgets/controls",
      "model_module_version": "1.5.0",
      "model_name": "ColorPickerModel",
      "state": {
       "description": "emission",
       "disabled": false,
       "layout": "IPY_MODEL_bc42d877cd3c4649bef7e1b74ed18b6e",
       "style": "IPY_MODEL_f3d619e4ec8a4de8bac00cda89fa6f4f",
       "value": "#000000"
      }
     },
     "3adc644fd9d942919096f3806a27c8f1": {
      "model_module": "@jupyter-widgets/base",
      "model_module_version": "1.2.0",
      "model_name": "LayoutModel",
      "state": {}
     },
     "3af78c5ade4d410a8a1156f28dde5870": {
      "model_module": "@jupyter-widgets/base",
      "model_module_version": "1.2.0",
      "model_name": "LayoutModel",
      "state": {}
     },
     "3afbf51007944e8f8954670763c456a2": {
      "model_module": "@jupyter-widgets/base",
      "model_module_version": "1.2.0",
      "model_name": "LayoutModel",
      "state": {}
     },
     "3b114d7895634592920f7407242e59d9": {
      "model_module": "@jupyter-widgets/controls",
      "model_module_version": "1.5.0",
      "model_name": "ButtonStyleModel",
      "state": {}
     },
     "3b280508434144bfb2cc499f02a544f3": {
      "model_module": "@jupyter-widgets/base",
      "model_module_version": "1.2.0",
      "model_name": "LayoutModel",
      "state": {
       "margin": "20px 0px"
      }
     },
     "3b3e23c52c034fbba7d416e65c71d04a": {
      "model_module": "@jupyter-widgets/controls",
      "model_module_version": "1.5.0",
      "model_name": "ButtonStyleModel",
      "state": {}
     },
     "3b4a50bb20de416aaf7650c47c84598b": {
      "model_module": "@jupyter-widgets/base",
      "model_module_version": "1.2.0",
      "model_name": "LayoutModel",
      "state": {}
     },
     "3b6e5ecfd1944c16b6776d9fc68b197f": {
      "model_module": "@jupyter-widgets/controls",
      "model_module_version": "1.5.0",
      "model_name": "ColorPickerModel",
      "state": {
       "description": "emission",
       "disabled": false,
       "layout": "IPY_MODEL_02cd8be6c855476f923f34ecaade3abd",
       "style": "IPY_MODEL_b0278727c6984480ae67b3caa91c5c28",
       "value": "#000000"
      }
     },
     "3b6eb237ab884fc6a9851aa3c2d821fe": {
      "model_module": "@jupyter-widgets/base",
      "model_module_version": "1.2.0",
      "model_name": "LayoutModel",
      "state": {}
     },
     "3b8516e57df04b72aa4033410b7cc6fb": {
      "model_module": "@jupyter-widgets/controls",
      "model_module_version": "1.5.0",
      "model_name": "DescriptionStyleModel",
      "state": {
       "description_width": ""
      }
     },
     "3ba3327a9ad340168a7a06f365fdced1": {
      "model_module": "@jupyter-widgets/base",
      "model_module_version": "1.2.0",
      "model_name": "LayoutModel",
      "state": {}
     },
     "3ba93cb374114bc4a5fdc1c020fb99d2": {
      "model_module": "@jupyter-widgets/base",
      "model_module_version": "1.2.0",
      "model_name": "LayoutModel",
      "state": {}
     },
     "3bc727a4c5e842eba687117ad175a2bc": {
      "model_module": "@jupyter-widgets/base",
      "model_module_version": "1.2.0",
      "model_name": "LayoutModel",
      "state": {}
     },
     "3bc82dbd12c54e549771ee3d9cd55b1d": {
      "model_module": "@jupyter-widgets/base",
      "model_module_version": "1.2.0",
      "model_name": "LayoutModel",
      "state": {}
     },
     "3bcea9f32a2f480c95fd4897749b2ca9": {
      "model_module": "@jupyter-widgets/controls",
      "model_module_version": "1.5.0",
      "model_name": "TextModel",
      "state": {
       "layout": "IPY_MODEL_ee257afeb107428795eb942a17db9082",
       "placeholder": "category name",
       "style": "IPY_MODEL_f6831da68c52444e88220f9ed6ef5b40"
      }
     },
     "3bd8c5155e614aa49b91b3ee03106bb8": {
      "model_module": "@jupyter-widgets/base",
      "model_module_version": "1.2.0",
      "model_name": "LayoutModel",
      "state": {}
     },
     "3c36699284b54bd483272ff26ed52203": {
      "model_module": "@jupyter-widgets/controls",
      "model_module_version": "1.5.0",
      "model_name": "FloatSliderModel",
      "state": {
       "description": "shininess",
       "layout": "IPY_MODEL_5c675aab59fb4845aac7b8dac885e566",
       "max": 1,
       "step": 0.1,
       "style": "IPY_MODEL_ca53e0658bf34086ba83cddc03f09176",
       "value": 0.2
      }
     },
     "3c896b356b9b402f8ae6e80bf9405ba7": {
      "model_module": "@jupyter-widgets/base",
      "model_module_version": "1.2.0",
      "model_name": "LayoutModel",
      "state": {}
     },
     "3c9570eda3684eab96511e129bb5cee0": {
      "model_module": "pgljupyter",
      "model_module_version": "^0.1.17",
      "model_name": "IntEditorModel",
      "state": {
       "_model_module_version": "^0.1.17",
       "_view_module_version": "^0.1.17",
       "children": [
        "IPY_MODEL_424624df5c714774b94c513145e29a9c",
        "IPY_MODEL_2db2f596971f45688e65a9abdd337586"
       ],
       "layout": "IPY_MODEL_e14b8d9da9d94827aa6e7a2c4a59032a"
      }
     },
     "3d255227d42d45b7a955570c70d7636b": {
      "buffers": [
       {
        "data": "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",
        "encoding": "base64",
        "path": [
         "scene",
         "data"
        ]
       }
      ],
      "model_module": "pgljupyter",
      "model_module_version": "^0.1.20",
      "model_name": "LsystemWidgetModel",
      "state": {
       "_model_module_version": "^0.1.20",
       "_view_module_version": "^0.1.20",
       "axes_helper": false,
       "derivationLength": 42,
       "layout": "IPY_MODEL_02e2b611d447416aad39778127a3a98f",
       "light_helper": false,
       "plane": true,
       "scene": {
        "derivationStep": 41,
        "id": 41,
        "scene": "<openalea.plantgl.scenegraph._pglsg.Scene object at 0x7f4e011bdad0>"
       },
       "size_display": [
        600,
        400
       ],
       "size_world": 50
      }
     },
     "3d43a66e7ba84d16b260aa7cd202f863": {
      "model_module": "@jupyter-widgets/controls",
      "model_module_version": "1.5.0",
      "model_name": "FloatSliderModel",
      "state": {
       "description": "value",
       "layout": "IPY_MODEL_5e62aae65cb548bcbf53bb19b6810b3b",
       "max": 0.1,
       "min": 0.01,
       "step": 0.01,
       "style": "IPY_MODEL_a0702378d919446e8e9b36d5aac020a8",
       "value": 0.03
      }
     },
     "3dd16cc1b856454dbc171795cd01dddd": {
      "model_module": "@jupyter-widgets/controls",
      "model_module_version": "1.5.0",
      "model_name": "FloatSliderModel",
      "state": {
       "description": "diffuse",
       "layout": "IPY_MODEL_45b176cc871b4434a95e3623b873c4fa",
       "max": 3,
       "step": 0.1,
       "style": "IPY_MODEL_d0007b5c1cf14819b87f34bbcb148b93",
       "value": 1
      }
     },
     "3dda600e26ba44f9a458b8f113ced26f": {
      "model_module": "@jupyter-widgets/controls",
      "model_module_version": "1.5.0",
      "model_name": "SliderStyleModel",
      "state": {
       "description_width": ""
      }
     },
     "3de3b034852b47c9a285b62f838b9986": {
      "model_module": "@jupyter-widgets/controls",
      "model_module_version": "1.5.0",
      "model_name": "DescriptionStyleModel",
      "state": {
       "description_width": ""
      }
     },
     "3e2965ac15734eacbe93346089045d2a": {
      "model_module": "pgljupyter",
      "model_module_version": "^0.1.16",
      "model_name": "IntEditorModel",
      "state": {
       "_model_module_version": "^0.1.16",
       "_view_module_version": "^0.1.16",
       "children": [
        "IPY_MODEL_a72f273cdb3945e394051fb5a3ed72de",
        "IPY_MODEL_f07ec7a47aa64a3a83eebeecca3f4573",
        "IPY_MODEL_1d6ac4f49b314f0e9fb3532cfc3b8bce",
        "IPY_MODEL_0f84ed044f5d499287d57c8c98211fae",
        "IPY_MODEL_06a4c0bb621c49b0a886a6f2d4b71f84"
       ],
       "layout": "IPY_MODEL_16bd9822848d4ea8a76ae7ebedd16681"
      }
     },
     "3e44ac9e61c14a0f9579e3363460f583": {
      "model_module": "@jupyter-widgets/controls",
      "model_module_version": "1.5.0",
      "model_name": "ColorPickerModel",
      "state": {
       "description": "emission",
       "disabled": false,
       "layout": "IPY_MODEL_4885badfb81242a3a0e907414c08b51f",
       "style": "IPY_MODEL_0a8707e65f2346558a9ab598cc46de95",
       "value": "#000000"
      }
     },
     "3e64b59aa9974065a16ce4e79ea27464": {
      "model_module": "@jupyter-widgets/controls",
      "model_module_version": "1.5.0",
      "model_name": "TextModel",
      "state": {
       "continuous_update": false,
       "description": "name",
       "layout": "IPY_MODEL_5da6a4695aee4e9ab96fad51b59727c6",
       "style": "IPY_MODEL_63c9d2863df64449a1d81b197959dbbe",
       "value": "leaf_old"
      }
     },
     "3e88ff73b7174894a74048caac61d6dd": {
      "model_module": "@jupyter-widgets/base",
      "model_module_version": "1.2.0",
      "model_name": "LayoutModel",
      "state": {}
     },
     "3eaf0cde17004332ab35b0f57fc0d75b": {
      "model_module": "@jupyter-widgets/base",
      "model_module_version": "1.2.0",
      "model_name": "LayoutModel",
      "state": {}
     },
     "3eb5de6cfa8c4221935e7232c267b322": {
      "model_module": "@jupyter-widgets/base",
      "model_module_version": "1.2.0",
      "model_name": "LayoutModel",
      "state": {}
     },
     "3ec386de663b4617bc9f49b851f4ac02": {
      "model_module": "@jupyter-widgets/controls",
      "model_module_version": "1.5.0",
      "model_name": "ButtonStyleModel",
      "state": {}
     },
     "3ee6dd285a9442a8ba3ad4c5af7b0fbd": {
      "model_module": "@jupyter-widgets/base",
      "model_module_version": "1.2.0",
      "model_name": "LayoutModel",
      "state": {}
     },
     "3eebd7d76fd1439fb7e9a86462a20975": {
      "model_module": "@jupyter-widgets/controls",
      "model_module_version": "1.5.0",
      "model_name": "ButtonStyleModel",
      "state": {}
     },
     "3f1c5cb37d464c0c965c97fc3a1e7f60": {
      "model_module": "@jupyter-widgets/controls",
      "model_module_version": "1.5.0",
      "model_name": "DropdownModel",
      "state": {
       "_options_labels": [
        "Color"
       ],
       "index": 0,
       "layout": "IPY_MODEL_04c46391563944e09f827e89ec2715fa",
       "style": "IPY_MODEL_352b11aaadc949e5b6d43b2af8c9c8bf"
      }
     },
     "3f1ceb1b479240d594f1881f8013d88a": {
      "model_module": "@jupyter-widgets/base",
      "model_module_version": "1.2.0",
      "model_name": "LayoutModel",
      "state": {}
     },
     "3f7ba822c536404481bce2f09c84de9d": {
      "model_module": "@jupyter-widgets/base",
      "model_module_version": "1.2.0",
      "model_name": "LayoutModel",
      "state": {}
     },
     "3f9a1ab9b1b04ceb9f3c4d04a7d00904": {
      "model_module": "@jupyter-widgets/controls",
      "model_module_version": "1.5.0",
      "model_name": "TextModel",
      "state": {
       "continuous_update": false,
       "description": "name",
       "layout": "IPY_MODEL_3f1ceb1b479240d594f1881f8013d88a",
       "style": "IPY_MODEL_ac71f1c55d9948e19e588813ff85983b",
       "value": "color_1"
      }
     },
     "3fb78370b75d48e69e4114fc1065c34c": {
      "model_module": "@jupyter-widgets/base",
      "model_module_version": "1.2.0",
      "model_name": "LayoutModel",
      "state": {}
     },
     "400c5e9aded44fda90d2ab16b75fd897": {
      "model_module": "@jupyter-widgets/controls",
      "model_module_version": "1.5.0",
      "model_name": "DescriptionStyleModel",
      "state": {
       "description_width": ""
      }
     },
     "403ce4d89d824f1c8e0c931714a623aa": {
      "model_module": "@jupyter-widgets/controls",
      "model_module_version": "1.5.0",
      "model_name": "ButtonStyleModel",
      "state": {}
     },
     "4045fe6afc194dcaa3f2c54427fa1745": {
      "model_module": "@jupyter-widgets/controls",
      "model_module_version": "1.5.0",
      "model_name": "DescriptionStyleModel",
      "state": {
       "description_width": ""
      }
     },
     "404f3dcf0b4b4baeb1e9d23f637e521e": {
      "model_module": "@jupyter-widgets/controls",
      "model_module_version": "1.5.0",
      "model_name": "DropdownModel",
      "state": {
       "_options_labels": [
        "Integer",
        "Float",
        "Bool"
       ],
       "index": 0,
       "layout": "IPY_MODEL_dea1d7f7b1f545688d4cb2183ee25745",
       "style": "IPY_MODEL_fd39d26e27d246b281772663c5b0b1c0"
      }
     },
     "405490f3003747ea84770f0ca8eba3fa": {
      "model_module": "@jupyter-widgets/controls",
      "model_module_version": "1.5.0",
      "model_name": "AccordionModel",
      "state": {
       "_titles": {
        "0": "materials",
        "1": "leaf",
        "2": "trunk & branches"
       },
       "children": [
        "IPY_MODEL_21584ab197984ba29419802ea60fc1c8",
        "IPY_MODEL_2718cbd168e24762a6996c846ee444dd",
        "IPY_MODEL_b44429e02b1c4c018efe9629e58572c3"
       ],
       "layout": "IPY_MODEL_0a40116d2d3a429698a87f2d38fdcbf3"
      }
     },
     "406538f49d474b288e16fda7dd512c69": {
      "model_module": "@jupyter-widgets/base",
      "model_module_version": "1.2.0",
      "model_name": "LayoutModel",
      "state": {}
     },
     "407661e8679b4f3b9602e2daaddae72e": {
      "model_module": "@jupyter-widgets/base",
      "model_module_version": "1.2.0",
      "model_name": "LayoutModel",
      "state": {}
     },
     "407e1eb8df67478aa2edf212374198dd": {
      "model_module": "@jupyter-widgets/controls",
      "model_module_version": "1.5.0",
      "model_name": "HBoxModel",
      "state": {
       "children": [
        "IPY_MODEL_586fe9088889439284707fb54ba3ec23",
        "IPY_MODEL_b97945cdd79940218cc6b9ce0f099d89"
       ],
       "layout": "IPY_MODEL_d4fcee8507e649a6822506b7eaf235b2"
      }
     },
     "408d582856e84421a763fa391a9130a8": {
      "model_module": "@jupyter-widgets/controls",
      "model_module_version": "1.5.0",
      "model_name": "TextModel",
      "state": {
       "continuous_update": false,
       "description": "name",
       "layout": "IPY_MODEL_45975a20708e4eefa5f5626f0c67680a",
       "style": "IPY_MODEL_e084bfa6a964476eace5b955c0359580",
       "value": "apex"
      }
     },
     "40b8836f5c9a48a5a579b8ab931ba7aa": {
      "model_module": "@jupyter-widgets/controls",
      "model_module_version": "1.5.0",
      "model_name": "ButtonModel",
      "state": {
       "description": "Delete",
       "layout": "IPY_MODEL_20b13acc67a845f6956f498c04e38806",
       "style": "IPY_MODEL_3eebd7d76fd1439fb7e9a86462a20975"
      }
     },
     "40ca5fd3b43d4d15a3135eeef5886fc1": {
      "model_module": "@jupyter-widgets/base",
      "model_module_version": "1.2.0",
      "model_name": "LayoutModel",
      "state": {}
     },
     "40ccbdcf094944daacad40f2478bd3f3": {
      "model_module": "@jupyter-widgets/controls",
      "model_module_version": "1.5.0",
      "model_name": "DescriptionStyleModel",
      "state": {
       "description_width": ""
      }
     },
     "40d3cad94876411eb2c2b28bed44d044": {
      "model_module": "@jupyter-widgets/base",
      "model_module_version": "1.2.0",
      "model_name": "LayoutModel",
      "state": {}
     },
     "40f1350ba3a44edfae82ea6bfb8f5198": {
      "model_module": "@jupyter-widgets/base",
      "model_module_version": "1.2.0",
      "model_name": "LayoutModel",
      "state": {
       "flex_flow": "row wrap"
      }
     },
     "41173f204e7842519840674a61a7e434": {
      "model_module": "@jupyter-widgets/controls",
      "model_module_version": "1.5.0",
      "model_name": "HBoxModel",
      "state": {
       "children": [
        "IPY_MODEL_9b9a7369a8eb4f5da61755ac616f74c3",
        "IPY_MODEL_da90b6b6b6334b2d8566268731ae92f4"
       ],
       "layout": "IPY_MODEL_3c896b356b9b402f8ae6e80bf9405ba7"
      }
     },
     "41374977018a4cc590e2913add7f287a": {
      "model_module": "@jupyter-widgets/controls",
      "model_module_version": "1.5.0",
      "model_name": "FloatSliderModel",
      "state": {
       "description": "diffuse",
       "layout": "IPY_MODEL_2e83ffb67736453ba28acc20275e238f",
       "max": 3,
       "step": 0.1,
       "style": "IPY_MODEL_bb16c1d4c8a841829bfb8da15b3bea9a",
       "value": 1
      }
     },
     "415d5dcf24dc4e0f9ab09bc6e94846fa": {
      "model_module": "@jupyter-widgets/base",
      "model_module_version": "1.2.0",
      "model_name": "LayoutModel",
      "state": {}
     },
     "41689189f03a44738c5a6d8d77d673f0": {
      "model_module": "@jupyter-widgets/base",
      "model_module_version": "1.2.0",
      "model_name": "LayoutModel",
      "state": {
       "margin": "20px 0px"
      }
     },
     "417217b16fe444758f93fa05fe33456f": {
      "model_module": "@jupyter-widgets/controls",
      "model_module_version": "1.5.0",
      "model_name": "HBoxModel",
      "state": {
       "children": [
        "IPY_MODEL_4c59ca8cf18245f5a14540938a82f127",
        "IPY_MODEL_bf9f735211574d32bf9d5fa02ec1e786"
       ],
       "layout": "IPY_MODEL_0edf0711fcd443488bc2bd1811f52c38"
      }
     },
     "417e8e140cdf4466b6d508d357de4584": {
      "model_module": "@jupyter-widgets/controls",
      "model_module_version": "1.5.0",
      "model_name": "ButtonModel",
      "state": {
       "description": "Save changes",
       "layout": "IPY_MODEL_c989202804bb452e8cb9723017e5f6c3",
       "style": "IPY_MODEL_6b8f0820ce5e43c796130647fa6eec1e"
      }
     },
     "4195dc0db72c4f82bb9bd5eead7e9779": {
      "model_module": "@jupyter-widgets/base",
      "model_module_version": "1.2.0",
      "model_name": "LayoutModel",
      "state": {}
     },
     "41cc1db02ba64e62b40ee9b19a788ac1": {
      "model_module": "@jupyter-widgets/base",
      "model_module_version": "1.2.0",
      "model_name": "LayoutModel",
      "state": {}
     },
     "421e1166bf044e938a7c55bfb05fe175": {
      "model_module": "@jupyter-widgets/controls",
      "model_module_version": "1.5.0",
      "model_name": "ButtonModel",
      "state": {
       "description": "Delete category",
       "layout": "IPY_MODEL_13d73679d1fc4c1dafedf885b7d2c851",
       "style": "IPY_MODEL_f26688f6c93d449ca3039c51f092914f"
      }
     },
     "42311b25a5ce4d1788e339ad94a4f81c": {
      "model_module": "@jupyter-widgets/controls",
      "model_module_version": "1.5.0",
      "model_name": "HBoxModel",
      "state": {
       "children": [
        "IPY_MODEL_704c51f2b4274443ae0128fcab864aca",
        "IPY_MODEL_7b1f4521fe574a5e82c85c51dbb7d298",
        "IPY_MODEL_cc343dc00b354cd18fece388a4875e4c"
       ],
       "layout": "IPY_MODEL_f54b6bb1cd9047f2913448b18542023e"
      }
     },
     "424624df5c714774b94c513145e29a9c": {
      "model_module": "@jupyter-widgets/controls",
      "model_module_version": "1.5.0",
      "model_name": "TextModel",
      "state": {
       "continuous_update": false,
       "description": "name",
       "layout": "IPY_MODEL_7b4693667f2d4338a8c79a9c6641cc55",
       "style": "IPY_MODEL_b8a8455ce5b040d0b828e4487621af24",
       "value": "nb_axes"
      }
     },
     "42507f01d821430991d4d3162cf5c980": {
      "model_module": "@jupyter-widgets/controls",
      "model_module_version": "1.5.0",
      "model_name": "ButtonStyleModel",
      "state": {}
     },
     "42733af347b24deeb6820dafdba23586": {
      "model_module": "@jupyter-widgets/controls",
      "model_module_version": "1.5.0",
      "model_name": "CheckboxModel",
      "state": {
       "description": "Auto save",
       "disabled": false,
       "layout": "IPY_MODEL_d0a6d8e803054098abe932e3805dde62",
       "style": "IPY_MODEL_841666774d4c43d9ae6d7eaf452a6732",
       "value": false
      }
     },
     "427e64e328734c2ea2a19855b06e1544": {
      "model_module": "@jupyter-widgets/base",
      "model_module_version": "1.2.0",
      "model_name": "LayoutModel",
      "state": {}
     },
     "428b97f3a6fc42759d90478a7ffb3457": {
      "model_module": "@jupyter-widgets/controls",
      "model_module_version": "1.5.0",
      "model_name": "ButtonModel",
      "state": {
       "description": "Add",
       "layout": "IPY_MODEL_f8bc8a94e6fc4a96a7ccd3d239c789b6",
       "style": "IPY_MODEL_0f41b5c50bdb442a8ef61d9d982b922d"
      }
     },
     "42a63d59593845ca8d64fb7a3a398a5a": {
      "model_module": "@jupyter-widgets/controls",
      "model_module_version": "1.5.0",
      "model_name": "ButtonModel",
      "state": {
       "description": "Add",
       "layout": "IPY_MODEL_bfcf3e600cd241bc9d5160e197b1e911",
       "style": "IPY_MODEL_d9d4c404d76e436f8e9995638352fdaa"
      }
     },
     "42a66a116d6e4ad2babe8908a1d40481": {
      "model_module": "@jupyter-widgets/controls",
      "model_module_version": "1.5.0",
      "model_name": "HBoxModel",
      "state": {
       "children": [
        "IPY_MODEL_15300167b1664d9682018422b0697519",
        "IPY_MODEL_4d2f274f932b4ef0994b8ac525736c86"
       ],
       "layout": "IPY_MODEL_6f5e6f5355bd440d8af5ee837dac75a9"
      }
     },
     "42bdc25840194831ac110172cc330d2c": {
      "model_module": "@jupyter-widgets/controls",
      "model_module_version": "1.5.0",
      "model_name": "HBoxModel",
      "state": {
       "children": [
        "IPY_MODEL_fafd54646a864f0485ae172b9494da07",
        "IPY_MODEL_5cdf0a890d1f47459e533b95f5fa6d12"
       ],
       "layout": "IPY_MODEL_7c6bc321cc134eba81eea73eeb840f28"
      }
     },
     "42c627ff3d74409cbca15e800caf7190": {
      "model_module": "@jupyter-widgets/controls",
      "model_module_version": "1.5.0",
      "model_name": "HBoxModel",
      "state": {
       "children": [
        "IPY_MODEL_311ce300b7c84bb79c37a6974f900649",
        "IPY_MODEL_a02f0afc7f6946cfbda70b9cb2bee9f9"
       ],
       "layout": "IPY_MODEL_ad0d38c2c2774e369fd4428f472136f0"
      }
     },
     "42e7b3c15d994cd6b5e009744d25d2cf": {
      "model_module": "@jupyter-widgets/base",
      "model_module_version": "1.2.0",
      "model_name": "LayoutModel",
      "state": {}
     },
     "42f6a0ce6998407886d1d89c57494c7e": {
      "model_module": "@jupyter-widgets/controls",
      "model_module_version": "1.5.0",
      "model_name": "DescriptionStyleModel",
      "state": {
       "description_width": ""
      }
     },
     "431315f0bf144d2fa04d6ffc24c515f9": {
      "model_module": "@jupyter-widgets/base",
      "model_module_version": "1.2.0",
      "model_name": "LayoutModel",
      "state": {}
     },
     "436612109cc345eab450803b93d883e8": {
      "model_module": "@jupyter-widgets/controls",
      "model_module_version": "1.5.0",
      "model_name": "FloatTextModel",
      "state": {
       "description": "max",
       "layout": "IPY_MODEL_8cbb1af1d0af4ff9bb22fce6efa5827f",
       "step": null,
       "style": "IPY_MODEL_83a4686453db4032b8b41676af2640e3",
       "value": 0.1
      }
     },
     "436fd876208e40f2bed14a468634cd12": {
      "model_module": "@jupyter-widgets/base",
      "model_module_version": "1.2.0",
      "model_name": "LayoutModel",
      "state": {}
     },
     "4372a40b5e864ae785c713790258dbe4": {
      "model_module": "@jupyter-widgets/controls",
      "model_module_version": "1.5.0",
      "model_name": "ButtonModel",
      "state": {
       "description": "Delete",
       "layout": "IPY_MODEL_2b6bcb5538be448e892da6df8ef5fc7b",
       "style": "IPY_MODEL_9961b6fd43374fabbaa82d99027e4bb1"
      }
     },
     "43a396464ca047eb82af9b0128d1a7b9": {
      "model_module": "@jupyter-widgets/base",
      "model_module_version": "1.2.0",
      "model_name": "LayoutModel",
      "state": {}
     },
     "440acb6e8011430aa874cae6aefacb36": {
      "model_module": "@jupyter-widgets/base",
      "model_module_version": "1.2.0",
      "model_name": "LayoutModel",
      "state": {}
     },
     "44131773a2c94fe0b4f6cf36799a8fd5": {
      "model_module": "@jupyter-widgets/base",
      "model_module_version": "1.2.0",
      "model_name": "LayoutModel",
      "state": {}
     },
     "445f90f4d3de40cb874172bbb0b2c38d": {
      "model_module": "@jupyter-widgets/controls",
      "model_module_version": "1.5.0",
      "model_name": "TextModel",
      "state": {
       "continuous_update": false,
       "description": "name",
       "layout": "IPY_MODEL_3b4a50bb20de416aaf7650c47c84598b",
       "style": "IPY_MODEL_a986327c2f5f410491da6da14c2b9def",
       "value": "leafold"
      }
     },
     "446d0c4274894c3b975472f4d7fb6e63": {
      "model_module": "@jupyter-widgets/controls",
      "model_module_version": "1.5.0",
      "model_name": "ColorPickerModel",
      "state": {
       "description": "emission",
       "disabled": false,
       "layout": "IPY_MODEL_ea37aa48e5954c09acb575e2396d3c05",
       "style": "IPY_MODEL_53d7302061eb4c8dab94848618029115",
       "value": "#000000"
      }
     },
     "4474832739d44029bfbe0a393192f09b": {
      "model_module": "@jupyter-widgets/base",
      "model_module_version": "1.2.0",
      "model_name": "LayoutModel",
      "state": {}
     },
     "44ee20673cb54cb197bb19275c2ee931": {
      "model_module": "@jupyter-widgets/controls",
      "model_module_version": "1.5.0",
      "model_name": "DescriptionStyleModel",
      "state": {
       "description_width": ""
      }
     },
     "44f1703909314fab8a00501069423623": {
      "model_module": "@jupyter-widgets/base",
      "model_module_version": "1.2.0",
      "model_name": "LayoutModel",
      "state": {
       "flex_flow": "row wrap"
      }
     },
     "44f5b99592c446f1b50b0f9407cf4305": {
      "model_module": "@jupyter-widgets/controls",
      "model_module_version": "1.5.0",
      "model_name": "TabModel",
      "state": {
       "layout": "IPY_MODEL_ad28097795614babac3adcc76c9b471c"
      }
     },
     "45109e056cae4646bd13589740cb2e07": {
      "model_module": "@jupyter-widgets/controls",
      "model_module_version": "1.5.0",
      "model_name": "ButtonModel",
      "state": {
       "description": "Add",
       "layout": "IPY_MODEL_fdd783e8cd6f4152908064599bd69390",
       "style": "IPY_MODEL_b4b34b837b2e417eb78863606b1d6e8d"
      }
     },
     "455ba0e06d5247ffb20550cc7189a0a9": {
      "model_module": "@jupyter-widgets/controls",
      "model_module_version": "1.5.0",
      "model_name": "FloatSliderModel",
      "state": {
       "description": "transparency",
       "layout": "IPY_MODEL_6ecb092e2f024e54ab3e5a0f2fecdaa1",
       "max": 1,
       "step": 0.1,
       "style": "IPY_MODEL_b88afe6051704699a445a1ca92a8653e"
      }
     },
     "455df1ed61f5486cac7c517343725455": {
      "model_module": "@jupyter-widgets/controls",
      "model_module_version": "1.5.0",
      "model_name": "DescriptionStyleModel",
      "state": {
       "description_width": ""
      }
     },
     "455f8aeaffa441bf93d43f30ccfb8f01": {
      "model_module": "@jupyter-widgets/base",
      "model_module_version": "1.2.0",
      "model_name": "LayoutModel",
      "state": {}
     },
     "458fbc06550843999bb8f82e518d7bba": {
      "model_module": "pgljupyter",
      "model_module_version": "^0.1.18",
      "model_name": "ParameterEditorModel",
      "state": {
       "_model_module_version": "^0.1.18",
       "_view_module_version": "^0.1.18",
       "children": [
        "IPY_MODEL_963604a85f104c0ea8afa21693108092"
       ],
       "layout": "IPY_MODEL_a4c87564910c4791b7ebc8217ae6af21"
      }
     },
     "45975a20708e4eefa5f5626f0c67680a": {
      "model_module": "@jupyter-widgets/base",
      "model_module_version": "1.2.0",
      "model_name": "LayoutModel",
      "state": {}
     },
     "459815904a114cb9b092e8b2c8f014dd": {
      "model_module": "@jupyter-widgets/base",
      "model_module_version": "1.2.0",
      "model_name": "LayoutModel",
      "state": {
       "margin": "20px 0px"
      }
     },
     "45b176cc871b4434a95e3623b873c4fa": {
      "model_module": "@jupyter-widgets/base",
      "model_module_version": "1.2.0",
      "model_name": "LayoutModel",
      "state": {}
     },
     "45f98c4f44d14504a22ffa36469c7310": {
      "model_module": "@jupyter-widgets/base",
      "model_module_version": "1.2.0",
      "model_name": "LayoutModel",
      "state": {}
     },
     "4623abe30f8746eb94835fdc33c089af": {
      "model_module": "@jupyter-widgets/controls",
      "model_module_version": "1.5.0",
      "model_name": "SliderStyleModel",
      "state": {
       "description_width": ""
      }
     },
     "466cc074ebc9465d93833472fef33beb": {
      "model_module": "@jupyter-widgets/base",
      "model_module_version": "1.2.0",
      "model_name": "LayoutModel",
      "state": {}
     },
     "468860202d6c4c5cbdaf75ab248c2dfa": {
      "model_module": "@jupyter-widgets/base",
      "model_module_version": "1.2.0",
      "model_name": "LayoutModel",
      "state": {}
     },
     "46bb048d9eec4d478fec36bfaa6b5a6b": {
      "model_module": "@jupyter-widgets/controls",
      "model_module_version": "1.5.0",
      "model_name": "DescriptionStyleModel",
      "state": {
       "description_width": ""
      }
     },
     "46dc8db3a2314364aef4e0c8d1978932": {
      "model_module": "@jupyter-widgets/controls",
      "model_module_version": "1.5.0",
      "model_name": "IntSliderModel",
      "state": {
       "description": "value",
       "layout": "IPY_MODEL_fb1b6686319348cb96f3381131e638e7",
       "max": 5,
       "min": 1,
       "style": "IPY_MODEL_0b93168b9537476da57b957c67d41cc5",
       "value": 4
      }
     },
     "4700fadcbf6740eeacfb5f4d5442bcc5": {
      "model_module": "@jupyter-widgets/controls",
      "model_module_version": "1.5.0",
      "model_name": "DescriptionStyleModel",
      "state": {
       "description_width": ""
      }
     },
     "4720179570ea4e868498362e539111b3": {
      "model_module": "@jupyter-widgets/controls",
      "model_module_version": "1.5.0",
      "model_name": "IntSliderModel",
      "state": {
       "description": "value",
       "layout": "IPY_MODEL_c737fed3f4b647319d521b5a01ed5013",
       "max": 10,
       "min": 1,
       "style": "IPY_MODEL_f6d0532b4d034ab5add8a942c8036f27",
       "value": 2
      }
     },
     "473617a3b3a74ffb93086ff4b9f2d61a": {
      "model_module": "@jupyter-widgets/base",
      "model_module_version": "1.2.0",
      "model_name": "LayoutModel",
      "state": {}
     },
     "47a676e89113488bb3cee21941e5aba5": {
      "model_module": "@jupyter-widgets/base",
      "model_module_version": "1.2.0",
      "model_name": "LayoutModel",
      "state": {}
     },
     "47c2ee699e6a4f7c83103495961650b0": {
      "model_module": "@jupyter-widgets/base",
      "model_module_version": "1.2.0",
      "model_name": "LayoutModel",
      "state": {}
     },
     "47c4dd25604a48a1b5557177fd515750": {
      "model_module": "@jupyter-widgets/base",
      "model_module_version": "1.2.0",
      "model_name": "LayoutModel",
      "state": {}
     },
     "47cab6d01e35497189f8f2866f69ad79": {
      "model_module": "@jupyter-widgets/base",
      "model_module_version": "1.2.0",
      "model_name": "LayoutModel",
      "state": {}
     },
     "47fb3c80b04646738a440b8943ebe585": {
      "model_module": "@jupyter-widgets/base",
      "model_module_version": "1.2.0",
      "model_name": "LayoutModel",
      "state": {}
     },
     "48081768731e4a308ef6582f5108536e": {
      "model_module": "@jupyter-widgets/base",
      "model_module_version": "1.2.0",
      "model_name": "LayoutModel",
      "state": {}
     },
     "481a58dae7e14912a728666f6352c9b3": {
      "model_module": "@jupyter-widgets/base",
      "model_module_version": "1.2.0",
      "model_name": "LayoutModel",
      "state": {}
     },
     "481cf82ea8244cf4b9b9b31187903bc6": {
      "model_module": "@jupyter-widgets/base",
      "model_module_version": "1.2.0",
      "model_name": "LayoutModel",
      "state": {}
     },
     "4846a27e60cc441d93d5c535ffde0e6e": {
      "model_module": "@jupyter-widgets/controls",
      "model_module_version": "1.5.0",
      "model_name": "HBoxModel",
      "state": {
       "children": [
        "IPY_MODEL_6afde54ff02642b099358c5671f1b873",
        "IPY_MODEL_cd1d503025f94455898cda591460f5da"
       ],
       "layout": "IPY_MODEL_dae8d0d2b5a24ba3a4caef5ae026ea60"
      }
     },
     "4885badfb81242a3a0e907414c08b51f": {
      "model_module": "@jupyter-widgets/base",
      "model_module_version": "1.2.0",
      "model_name": "LayoutModel",
      "state": {}
     },
     "48a9dc8b95d14018a1273a4583c91c32": {
      "model_module": "@jupyter-widgets/base",
      "model_module_version": "1.2.0",
      "model_name": "LayoutModel",
      "state": {}
     },
     "48b02d61921140799c9d50de4e6abab8": {
      "model_module": "@jupyter-widgets/controls",
      "model_module_version": "1.5.0",
      "model_name": "HBoxModel",
      "state": {
       "children": [
        "IPY_MODEL_9f1b252d842443fc95ac8e7e4f03c95a",
        "IPY_MODEL_d1e4b02c15bb44948c22e7d933636530"
       ],
       "layout": "IPY_MODEL_56e10c5df99d4496a1c8da99197f9358"
      }
     },
     "48dad82cb0874a77af8613d9cc02e5b8": {
      "model_module": "@jupyter-widgets/controls",
      "model_module_version": "1.5.0",
      "model_name": "DropdownModel",
      "state": {
       "index": null,
       "layout": "IPY_MODEL_93b7d193d72342788a68a1d372519ba3",
       "style": "IPY_MODEL_03b7ff59bdfb45ae9fec96faf9e7b637"
      }
     },
     "49142d5fe84f451ca57bf7979546be3b": {
      "model_module": "@jupyter-widgets/controls",
      "model_module_version": "1.5.0",
      "model_name": "VBoxModel",
      "state": {
       "children": [
        "IPY_MODEL_7b26c458dc7d4deba33285df9fe694dc",
        "IPY_MODEL_dc891aa6241b421da0cabf4ab08e3d0e"
       ],
       "layout": "IPY_MODEL_181662f4cedf410dac5bab4e1bf8645f"
      }
     },
     "4928061e04e84f6ea5f8e22041842c65": {
      "model_module": "@jupyter-widgets/controls",
      "model_module_version": "1.5.0",
      "model_name": "FloatSliderModel",
      "state": {
       "description": "diffuse",
       "layout": "IPY_MODEL_9d3e8bfa637b4501a40010eae48c2c9e",
       "max": 3,
       "step": 0.1,
       "style": "IPY_MODEL_f223c7d886294225be0b4cb6d842a989",
       "value": 1
      }
     },
     "49306a0c91164b7a808f80e189b3a9ee": {
      "model_module": "@jupyter-widgets/base",
      "model_module_version": "1.2.0",
      "model_name": "LayoutModel",
      "state": {
       "margin": "20px 0px"
      }
     },
     "4933c3be1ca74d3b87e7deac4ab3fa84": {
      "model_module": "@jupyter-widgets/controls",
      "model_module_version": "1.5.0",
      "model_name": "TextModel",
      "state": {
       "continuous_update": false,
       "description": "name",
       "layout": "IPY_MODEL_998772480aac452387c45481c4a8859d",
       "style": "IPY_MODEL_2b2537aec03a486682b37fa201430b15",
       "value": "leafduration"
      }
     },
     "4958d672242649e6ba8c129a89e468d4": {
      "model_module": "@jupyter-widgets/base",
      "model_module_version": "1.2.0",
      "model_name": "LayoutModel",
      "state": {}
     },
     "496e48f80ba34d7389289f84ed07049f": {
      "model_module": "@jupyter-widgets/controls",
      "model_module_version": "1.5.0",
      "model_name": "DescriptionStyleModel",
      "state": {
       "description_width": ""
      }
     },
     "498f774db8944cf9acb68dfb080f9434": {
      "model_module": "@jupyter-widgets/base",
      "model_module_version": "1.2.0",
      "model_name": "LayoutModel",
      "state": {}
     },
     "49abdf9d78524715a97cc756c7cc26ee": {
      "model_module": "@jupyter-widgets/controls",
      "model_module_version": "1.5.0",
      "model_name": "ButtonStyleModel",
      "state": {}
     },
     "49c13f7f61b74fdeb6c2e02c3d02da5a": {
      "model_module": "@jupyter-widgets/controls",
      "model_module_version": "1.5.0",
      "model_name": "HBoxModel",
      "state": {
       "children": [
        "IPY_MODEL_e8a23a012cbf4853a330e912e3cad92f",
        "IPY_MODEL_9d1c471f6aa5499386c9cee5a496cdfc",
        "IPY_MODEL_221397e9ebd543a29b72321488035216"
       ],
       "layout": "IPY_MODEL_7d638b1bb84145df842f1629b3b977bb"
      }
     },
     "49d68010fc084f1ebd5a1e73fb6c31af": {
      "model_module": "pgljupyter",
      "model_module_version": "^0.1.17",
      "model_name": "MaterialEditorModel",
      "state": {
       "_model_module_version": "^0.1.17",
       "_view_module_version": "^0.1.17",
       "children": [
        "IPY_MODEL_d1f553a8e0e14ca8939fd7facfe7bdd0",
        "IPY_MODEL_b483a839a4094147ab01f3c7d19bb1ac",
        "IPY_MODEL_9991cdc311734263a5179071275bff7c",
        "IPY_MODEL_06da4c288f8b48efae9708615015dd07",
        "IPY_MODEL_4928061e04e84f6ea5f8e22041842c65",
        "IPY_MODEL_67461a76be584a8b8d2fa4e2f8aa7d24",
        "IPY_MODEL_5728fafc0bd4433f81791185f2f8a527"
       ],
       "layout": "IPY_MODEL_3b280508434144bfb2cc499f02a544f3"
      }
     },
     "49d8421d6f4e4d488db1bd655f89a30e": {
      "model_module": "@jupyter-widgets/base",
      "model_module_version": "1.2.0",
      "model_name": "LayoutModel",
      "state": {}
     },
     "4a28f656400b498e9b4a70690a4229a8": {
      "model_module": "@jupyter-widgets/controls",
      "model_module_version": "1.5.0",
      "model_name": "DescriptionStyleModel",
      "state": {
       "description_width": ""
      }
     },
     "4a2ccff224ef48f09723ba6a231d6640": {
      "model_module": "@jupyter-widgets/base",
      "model_module_version": "1.2.0",
      "model_name": "LayoutModel",
      "state": {
       "margin": "20px 0px"
      }
     },
     "4a48e3b56b974227bcbb4111eb32acbb": {
      "model_module": "@jupyter-widgets/controls",
      "model_module_version": "1.5.0",
      "model_name": "SliderStyleModel",
      "state": {
       "description_width": ""
      }
     },
     "4a8af0be878b499d97a7bae1ed0009d0": {
      "model_module": "@jupyter-widgets/controls",
      "model_module_version": "1.5.0",
      "model_name": "DescriptionStyleModel",
      "state": {
       "description_width": ""
      }
     },
     "4ad56d578f64435bb7040e6288f8436f": {
      "model_module": "@jupyter-widgets/controls",
      "model_module_version": "1.5.0",
      "model_name": "SliderStyleModel",
      "state": {
       "description_width": ""
      }
     },
     "4afd330d8b794b27b31b952402605af2": {
      "model_module": "@jupyter-widgets/controls",
      "model_module_version": "1.5.0",
      "model_name": "ColorPickerModel",
      "state": {
       "description": "ambient",
       "disabled": false,
       "layout": "IPY_MODEL_6122fb292c0c44039d410f9afbe16534",
       "style": "IPY_MODEL_bf5f584ba47f4eb58e2144997c9fbd8f",
       "value": "#0fc4db"
      }
     },
     "4b2b575ede144d15b37a9b26cc73c875": {
      "model_module": "@jupyter-widgets/base",
      "model_module_version": "1.2.0",
      "model_name": "LayoutModel",
      "state": {}
     },
     "4b4fb8f835ff4f25801bdcf57fb1eba4": {
      "model_module": "@jupyter-widgets/base",
      "model_module_version": "1.2.0",
      "model_name": "LayoutModel",
      "state": {}
     },
     "4b7afeaad0934ef3b8ed7e9d8d2cd9c9": {
      "model_module": "@jupyter-widgets/base",
      "model_module_version": "1.2.0",
      "model_name": "LayoutModel",
      "state": {}
     },
     "4b847adc42dd44cc8851741209771151": {
      "model_module": "@jupyter-widgets/base",
      "model_module_version": "1.2.0",
      "model_name": "LayoutModel",
      "state": {}
     },
     "4b95e9dc9d3e4efbb9ed6d24b62872e9": {
      "model_module": "@jupyter-widgets/base",
      "model_module_version": "1.2.0",
      "model_name": "LayoutModel",
      "state": {}
     },
     "4ba98a3088f249428269655303174413": {
      "model_module": "@jupyter-widgets/base",
      "model_module_version": "1.2.0",
      "model_name": "LayoutModel",
      "state": {}
     },
     "4bd32345c7094c9b83e1d6211f92d7df": {
      "model_module": "@jupyter-widgets/controls",
      "model_module_version": "1.5.0",
      "model_name": "ButtonModel",
      "state": {
       "description": "Delete",
       "layout": "IPY_MODEL_29cb9888dbcc4dc9bc915fc90fd8998a",
       "style": "IPY_MODEL_ce7e6e96ec964535b8172165fd984f5a"
      }
     },
     "4be4fe9b98574f5e94986b02b8c225cb": {
      "model_module": "@jupyter-widgets/base",
      "model_module_version": "1.2.0",
      "model_name": "LayoutModel",
      "state": {}
     },
     "4bfa6e2f73c74bffa75861116f13ec31": {
      "model_module": "@jupyter-widgets/controls",
      "model_module_version": "1.5.0",
      "model_name": "DescriptionStyleModel",
      "state": {
       "description_width": ""
      }
     },
     "4c0cd242021b4387b84906f781be597f": {
      "model_module": "@jupyter-widgets/base",
      "model_module_version": "1.2.0",
      "model_name": "LayoutModel",
      "state": {}
     },
     "4c59ca8cf18245f5a14540938a82f127": {
      "model_module": "@jupyter-widgets/controls",
      "model_module_version": "1.5.0",
      "model_name": "HBoxModel",
      "state": {
       "children": [
        "IPY_MODEL_fcdb0e54646c4bbbb1485f7cb42b4bbc",
        "IPY_MODEL_b3beeeb252564f9193c765e7fe7136a4"
       ],
       "layout": "IPY_MODEL_a0c58eb759874d7aabec070d0f8f4e28"
      }
     },
     "4c6828d30e454b219dd59636daba61a2": {
      "model_module": "@jupyter-widgets/controls",
      "model_module_version": "1.5.0",
      "model_name": "FloatSliderModel",
      "state": {
       "description": "diffuse",
       "layout": "IPY_MODEL_29ada92f78534b5a8245a40f76bd758a",
       "max": 3,
       "step": 0.1,
       "style": "IPY_MODEL_5030d93db7d84db8beba5be10c0fdb22",
       "value": 1
      }
     },
     "4c81abb4c66846b5a198148d5fde3afe": {
      "model_module": "@jupyter-widgets/controls",
      "model_module_version": "1.5.0",
      "model_name": "SliderStyleModel",
      "state": {
       "description_width": ""
      }
     },
     "4c9d04011f15472db454f026ea6b3c07": {
      "model_module": "@jupyter-widgets/base",
      "model_module_version": "1.2.0",
      "model_name": "LayoutModel",
      "state": {}
     },
     "4cbdfd51fc7a4d0aa56146812cc120e6": {
      "model_module": "pgljupyter",
      "model_module_version": "^0.1.18",
      "model_name": "IntEditorModel",
      "state": {
       "_model_module_version": "^0.1.18",
       "_view_module_version": "^0.1.18",
       "children": [
        "IPY_MODEL_2f44d75cf5a94a1f952b35bf8347abb8",
        "IPY_MODEL_0ca1da812e904b3597a1f8d0066aa817"
       ],
       "layout": "IPY_MODEL_f06f7a31a7f6416183260274d8da1272"
      }
     },
     "4cc61bf11bdd449f8a15ee9f20326662": {
      "model_module": "@jupyter-widgets/controls",
      "model_module_version": "1.5.0",
      "model_name": "ColorPickerModel",
      "state": {
       "description": "specular",
       "disabled": false,
       "layout": "IPY_MODEL_32f9213597194d8bb44e46d1c99c84fb",
       "style": "IPY_MODEL_7c4db97ead9f439e8fe449d24de9b82d",
       "value": "#282828"
      }
     },
     "4d1b7f47fb8742fc8f79ea08ede8715b": {
      "model_module": "@jupyter-widgets/controls",
      "model_module_version": "1.5.0",
      "model_name": "DescriptionStyleModel",
      "state": {
       "description_width": ""
      }
     },
     "4d1d2003f29c41ff8de536581cacd952": {
      "model_module": "@jupyter-widgets/controls",
      "model_module_version": "1.5.0",
      "model_name": "FloatSliderModel",
      "state": {
       "description": "value",
       "layout": "IPY_MODEL_4b95e9dc9d3e4efbb9ed6d24b62872e9",
       "max": 0.1,
       "min": 0.01,
       "step": 0.01,
       "style": "IPY_MODEL_1165440a552f44e8874ff2662c8016cf",
       "value": 0.03
      }
     },
     "4d2f274f932b4ef0994b8ac525736c86": {
      "model_module": "pgljupyter",
      "model_module_version": "^0.1.19",
      "model_name": "IntEditorModel",
      "state": {
       "_model_module_version": "^0.1.19",
       "_view_module_version": "^0.1.19",
       "children": [
        "IPY_MODEL_0008873d24ed4fa3b871bc34051bd716",
        "IPY_MODEL_7f4e36825ae64c65830760a42614b069"
       ],
       "layout": "IPY_MODEL_8b961dc464fe4120b95633845d5c9860"
      }
     },
     "4d61064357674c97bb169c5602e69545": {
      "model_module": "@jupyter-widgets/base",
      "model_module_version": "1.2.0",
      "model_name": "LayoutModel",
      "state": {}
     },
     "4d77f69f74244057baec36b232f87f78": {
      "model_module": "@jupyter-widgets/base",
      "model_module_version": "1.2.0",
      "model_name": "LayoutModel",
      "state": {
       "flex_flow": "row wrap",
       "margin": "20px"
      }
     },
     "4d79e8bd62ba46e7b8991120fe395616": {
      "model_module": "@jupyter-widgets/base",
      "model_module_version": "1.2.0",
      "model_name": "LayoutModel",
      "state": {}
     },
     "4d9c47832bb743058b80a0b7ef230074": {
      "model_module": "@jupyter-widgets/controls",
      "model_module_version": "1.5.0",
      "model_name": "TextModel",
      "state": {
       "continuous_update": false,
       "description": "name",
       "layout": "IPY_MODEL_e2c963c5cf35423c8c5649096e21e578",
       "style": "IPY_MODEL_9912022f5d81416fae20d7fb32ee621a",
       "value": "leafduration"
      }
     },
     "4dbcb1266bf2455cbfa6f83b1f69516a": {
      "model_module": "@jupyter-widgets/controls",
      "model_module_version": "1.5.0",
      "model_name": "ButtonModel",
      "state": {
       "description": "Add",
       "layout": "IPY_MODEL_b8ad8d8c9f124093b14f64a259771967",
       "style": "IPY_MODEL_f5c031c73e2d41bf8b06494de1a94e89"
      }
     },
     "4e7c5a348d354d778c2e8fac651d24ae": {
      "model_module": "@jupyter-widgets/controls",
      "model_module_version": "1.5.0",
      "model_name": "FloatSliderModel",
      "state": {
       "description": "diffuse",
       "layout": "IPY_MODEL_57dca5ae89cf4763919d1cd33c070eed",
       "max": 3,
       "step": 0.1,
       "style": "IPY_MODEL_eacdf3892401422d966ce9bdf9102e5d",
       "value": 1
      }
     },
     "4ee93253ee1e4f019df07258a39d8b47": {
      "model_module": "@jupyter-widgets/controls",
      "model_module_version": "1.5.0",
      "model_name": "HBoxModel",
      "state": {
       "children": [
        "IPY_MODEL_421e1166bf044e938a7c55bfb05fe175"
       ],
       "layout": "IPY_MODEL_f7ff34c66d4b431c8d7a458913ac23de"
      }
     },
     "4ef238a8a44a43369f6ff4c32bb90c5c": {
      "model_module": "@jupyter-widgets/base",
      "model_module_version": "1.2.0",
      "model_name": "LayoutModel",
      "state": {}
     },
     "4f04e84e06f04f2187ac0562bd5d7982": {
      "model_module": "@jupyter-widgets/base",
      "model_module_version": "1.2.0",
      "model_name": "LayoutModel",
      "state": {
       "margin": "20px 0px"
      }
     },
     "4f2e7e2a7b8a4fccaec815c1a8349f02": {
      "model_module": "@jupyter-widgets/base",
      "model_module_version": "1.2.0",
      "model_name": "LayoutModel",
      "state": {}
     },
     "4f4c3d6a0c30403289cf9f2587fca3e3": {
      "model_module": "pgljupyter",
      "model_module_version": "^0.1.17",
      "model_name": "ParameterEditorModel",
      "state": {
       "_model_module_version": "^0.1.17",
       "_view_module_version": "^0.1.17",
       "children": [
        "IPY_MODEL_56ca9cfe6576423da575a7edfbeda8a1"
       ],
       "layout": "IPY_MODEL_70f57e2c0344454288ed8ac17019df5e"
      }
     },
     "4f77c9429d614340bdb8d72a7fb65751": {
      "model_module": "pgljupyter",
      "model_module_version": "^0.1.16",
      "model_name": "LsystemWidgetModel",
      "state": {
       "_model_module_version": "^0.1.16",
       "_view_module_version": "^0.1.16",
       "axes_helper": false,
       "derivationLength": 41,
       "layout": "IPY_MODEL_44131773a2c94fe0b4f6cf36799a8fd5",
       "light_helper": false,
       "plane": true,
       "size_display": [
        400,
        400
       ],
       "size_world": 50
      }
     },
     "4fbf2b45694848a9aa03aadb8fb5d86c": {
      "model_module": "@jupyter-widgets/base",
      "model_module_version": "1.2.0",
      "model_name": "LayoutModel",
      "state": {}
     },
     "5030d93db7d84db8beba5be10c0fdb22": {
      "model_module": "@jupyter-widgets/controls",
      "model_module_version": "1.5.0",
      "model_name": "SliderStyleModel",
      "state": {
       "description_width": ""
      }
     },
     "504c852fdd62470d9fce5fbb9e9e18bc": {
      "model_module": "@jupyter-widgets/controls",
      "model_module_version": "1.5.0",
      "model_name": "DescriptionStyleModel",
      "state": {
       "description_width": ""
      }
     },
     "507c278a49a4489790e00ac34fb9023e": {
      "model_module": "@jupyter-widgets/controls",
      "model_module_version": "1.5.0",
      "model_name": "TabModel",
      "state": {
       "layout": "IPY_MODEL_ba3a3559ee5e49c19408ce2e75b666f1"
      }
     },
     "50c897762f9846d38e9f8e2de2d19de2": {
      "model_module": "@jupyter-widgets/controls",
      "model_module_version": "1.5.0",
      "model_name": "VBoxModel",
      "state": {
       "children": [
        "IPY_MODEL_1d1c9cc08a664ea3b55b7a47fcfdc251",
        "IPY_MODEL_2f0afcc5db404c0c9baabdd8288c7f23"
       ],
       "layout": "IPY_MODEL_8df2887e514042d1ac28d987a7d3f39d"
      }
     },
     "50df7fad8d974b4992fd0cea68bec79c": {
      "model_module": "@jupyter-widgets/controls",
      "model_module_version": "1.5.0",
      "model_name": "ButtonModel",
      "state": {
       "description": "Add",
       "layout": "IPY_MODEL_56fc22890f4a4ca080684ec9625a905f",
       "style": "IPY_MODEL_110ae91fb5c943dab79aeb29f57c0fcc"
      }
     },
     "510489c076f34b2bb4ed405c0bd2e184": {
      "model_module": "@jupyter-widgets/controls",
      "model_module_version": "1.5.0",
      "model_name": "ButtonStyleModel",
      "state": {}
     },
     "51298c491bb74c49aa13975c0b81b43a": {
      "model_module": "@jupyter-widgets/base",
      "model_module_version": "1.2.0",
      "model_name": "LayoutModel",
      "state": {}
     },
     "5151e6200d794a008b1bd7d40fbc162c": {
      "model_module": "@jupyter-widgets/controls",
      "model_module_version": "1.5.0",
      "model_name": "TextModel",
      "state": {
       "continuous_update": false,
       "description": "name",
       "layout": "IPY_MODEL_3bc82dbd12c54e549771ee3d9cd55b1d",
       "style": "IPY_MODEL_e2959aa92f7d44c2a5d6d06683c7f898",
       "value": "leafduration"
      }
     },
     "51585e2af8b345d584039f57e61a325f": {
      "model_module": "@jupyter-widgets/base",
      "model_module_version": "1.2.0",
      "model_name": "LayoutModel",
      "state": {
       "margin": "20px 0px"
      }
     },
     "51920d8d6d7c4da288410f94a97533ff": {
      "model_module": "@jupyter-widgets/controls",
      "model_module_version": "1.5.0",
      "model_name": "FloatSliderModel",
      "state": {
       "description": "value",
       "layout": "IPY_MODEL_e483f04bf9ee473983a54480be56ae94",
       "max": 0.1,
       "min": 0.01,
       "step": 0.01,
       "style": "IPY_MODEL_31516d112bb34f208b3e2ebaa6a85f0f",
       "value": 0.03
      }
     },
     "51ac257bcf38442c82fc060061bddd6c": {
      "model_module": "@jupyter-widgets/base",
      "model_module_version": "1.2.0",
      "model_name": "LayoutModel",
      "state": {}
     },
     "51cef2aa605e461f8d0f1f518f7427c4": {
      "model_module": "@jupyter-widgets/controls",
      "model_module_version": "1.5.0",
      "model_name": "ButtonModel",
      "state": {
       "description": "Delete",
       "layout": "IPY_MODEL_ac5bccc43bad4cf1b629ee62e886ec74",
       "style": "IPY_MODEL_36a0f787f1b14b6a9e881d9b89dbe6f9"
      }
     },
     "51deaef56dce430dae6fc3f320f5ae3e": {
      "model_module": "@jupyter-widgets/controls",
      "model_module_version": "1.5.0",
      "model_name": "BoundedIntTextModel",
      "state": {
       "description": "index",
       "layout": "IPY_MODEL_dd0076f5130e4b019ecac08f8ecf14e6",
       "style": "IPY_MODEL_54b4b06b01a146878a34d785819acd4e",
       "value": 3
      }
     },
     "526eb050a3ef4576aa3195631f16da0b": {
      "model_module": "@jupyter-widgets/controls",
      "model_module_version": "1.5.0",
      "model_name": "TextModel",
      "state": {
       "continuous_update": false,
       "description": "name",
       "layout": "IPY_MODEL_abb8dd22248e47baa61d0443c5c01957",
       "style": "IPY_MODEL_37056445934e4abba973138c48789f20",
       "value": "leafold"
      }
     },
     "529e918b5e134ca5a4af51bf8651b987": {
      "model_module": "@jupyter-widgets/controls",
      "model_module_version": "1.5.0",
      "model_name": "DropdownModel",
      "state": {
       "index": null,
       "layout": "IPY_MODEL_d8b7d3f852be4323a7cb38d583268863",
       "style": "IPY_MODEL_2b0ed78f41644859a87787f1255e1b81"
      }
     },
     "52ed086a39d24a57919b206846df9aba": {
      "model_module": "@jupyter-widgets/base",
      "model_module_version": "1.2.0",
      "model_name": "LayoutModel",
      "state": {}
     },
     "530074057fcd4130a243bde3a073669b": {
      "model_module": "@jupyter-widgets/base",
      "model_module_version": "1.2.0",
      "model_name": "LayoutModel",
      "state": {}
     },
     "5301dbd8a23f4528acd9e2c505d69fa9": {
      "model_module": "pgljupyter",
      "model_module_version": "^0.1.20",
      "model_name": "IntEditorModel",
      "state": {
       "_model_module_version": "^0.1.20",
       "_view_module_version": "^0.1.20",
       "children": [
        "IPY_MODEL_c54af388f2644be9bbacd4f598e6ceaa",
        "IPY_MODEL_46dc8db3a2314364aef4e0c8d1978932"
       ],
       "layout": "IPY_MODEL_5da34500d955448089199df04319e205"
      }
     },
     "53095037c0fc41f0ad798cc1f327c12f": {
      "model_module": "@jupyter-widgets/controls",
      "model_module_version": "1.5.0",
      "model_name": "AccordionModel",
      "state": {
       "_titles": {
        "0": "materials",
        "1": "leaf",
        "2": "trunk & branches"
       },
       "children": [
        "IPY_MODEL_c361327190724646be840782bc716cef",
        "IPY_MODEL_9773821d863c41edbda8c72cf73d3bc6",
        "IPY_MODEL_8e7f32c1ba3149af89ee115dcce7233a"
       ],
       "layout": "IPY_MODEL_5f2ecb128cba4ce0ae2ed4b650b085bd"
      }
     },
     "53592ff1413b4aadb82fbe457a467666": {
      "model_module": "@jupyter-widgets/controls",
      "model_module_version": "1.5.0",
      "model_name": "HBoxModel",
      "state": {
       "children": [
        "IPY_MODEL_b248996a41fc4f39b8f71cd98044d51f",
        "IPY_MODEL_badf1d6936f34af5a14df64809ef893c"
       ],
       "layout": "IPY_MODEL_4d77f69f74244057baec36b232f87f78"
      }
     },
     "536987696dc742f1b1bc51ca8d040a1d": {
      "model_module": "@jupyter-widgets/controls",
      "model_module_version": "1.5.0",
      "model_name": "FloatSliderModel",
      "state": {
       "description": "shininess",
       "layout": "IPY_MODEL_209c033af72d44e3a0b13ab8001e5335",
       "max": 1,
       "step": 0.1,
       "style": "IPY_MODEL_94dd3b9fa9fc40afbb444d490ee4bac3",
       "value": 0.2
      }
     },
     "537f1d906667422699e2fce4b5f31496": {
      "model_module": "@jupyter-widgets/controls",
      "model_module_version": "1.5.0",
      "model_name": "DescriptionStyleModel",
      "state": {
       "description_width": ""
      }
     },
     "539f9d1af9924f4db2438bbbeeb51b54": {
      "model_module": "@jupyter-widgets/base",
      "model_module_version": "1.2.0",
      "model_name": "LayoutModel",
      "state": {}
     },
     "53c5b2262f9846a5adfdd7d45ce21b69": {
      "model_module": "@jupyter-widgets/controls",
      "model_module_version": "1.5.0",
      "model_name": "SliderStyleModel",
      "state": {
       "description_width": ""
      }
     },
     "53d7302061eb4c8dab94848618029115": {
      "model_module": "@jupyter-widgets/controls",
      "model_module_version": "1.5.0",
      "model_name": "DescriptionStyleModel",
      "state": {
       "description_width": ""
      }
     },
     "53e9fb96eb5c4e49af7c1126d83fd454": {
      "model_module": "@jupyter-widgets/controls",
      "model_module_version": "1.5.0",
      "model_name": "DropdownModel",
      "state": {
       "_options_labels": [
        "leafduration",
        "leafold"
       ],
       "index": 0,
       "layout": "IPY_MODEL_0f3555076683451287b13688376b8b4e",
       "style": "IPY_MODEL_bb3613145b68440ba42bf478df5b13af"
      }
     },
     "5404c74b739a4b1f9611340837468322": {
      "model_module": "@jupyter-widgets/base",
      "model_module_version": "1.2.0",
      "model_name": "LayoutModel",
      "state": {}
     },
     "543008b05d50479590c3d4e3bc492779": {
      "model_module": "@jupyter-widgets/controls",
      "model_module_version": "1.5.0",
      "model_name": "IntSliderModel",
      "state": {
       "description": "value",
       "layout": "IPY_MODEL_cffb33bebb154befa460f5be28ee06de",
       "max": 5,
       "min": 1,
       "style": "IPY_MODEL_4ad56d578f64435bb7040e6288f8436f",
       "value": 4
      }
     },
     "5493e679c57d4a0689415a4a88aea275": {
      "model_module": "@jupyter-widgets/controls",
      "model_module_version": "1.5.0",
      "model_name": "SliderStyleModel",
      "state": {
       "description_width": ""
      }
     },
     "54afde6385054afa854c63b78d32c519": {
      "model_module": "@jupyter-widgets/controls",
      "model_module_version": "1.5.0",
      "model_name": "ButtonStyleModel",
      "state": {}
     },
     "54b4b06b01a146878a34d785819acd4e": {
      "model_module": "@jupyter-widgets/controls",
      "model_module_version": "1.5.0",
      "model_name": "DescriptionStyleModel",
      "state": {
       "description_width": ""
      }
     },
     "54d1e2ab11364b3286e48fbc06e2c9dc": {
      "model_module": "@jupyter-widgets/controls",
      "model_module_version": "1.5.0",
      "model_name": "SliderStyleModel",
      "state": {
       "description_width": ""
      }
     },
     "552cab5a34bb42878921b10d86c06c8d": {
      "model_module": "@jupyter-widgets/base",
      "model_module_version": "1.2.0",
      "model_name": "LayoutModel",
      "state": {}
     },
     "5532c2cdd5f24b1ebfeff4de061e7901": {
      "model_module": "@jupyter-widgets/base",
      "model_module_version": "1.2.0",
      "model_name": "LayoutModel",
      "state": {}
     },
     "553432c4114a47d4a9edc9bea81bf73d": {
      "model_module": "@jupyter-widgets/controls",
      "model_module_version": "1.5.0",
      "model_name": "ButtonModel",
      "state": {
       "description": "Apply changes",
       "layout": "IPY_MODEL_f3ecc66415384a3b93c8afe5ca93b8f6",
       "style": "IPY_MODEL_c7f7b7c639f04c7a812a812bc95f2f4a"
      }
     },
     "55370126029743f4b725a902460e704f": {
      "model_module": "@jupyter-widgets/base",
      "model_module_version": "1.2.0",
      "model_name": "LayoutModel",
      "state": {}
     },
     "554ebc2fe70b441697fdba4d2a6f87c0": {
      "model_module": "@jupyter-widgets/base",
      "model_module_version": "1.2.0",
      "model_name": "LayoutModel",
      "state": {}
     },
     "556f03c0e652466698acdf9d3ef53d64": {
      "model_module": "@jupyter-widgets/controls",
      "model_module_version": "1.5.0",
      "model_name": "IntSliderModel",
      "state": {
       "description": "value",
       "layout": "IPY_MODEL_7e6af95120bf4e8eab6ad088d08bf589",
       "max": 10,
       "min": 1,
       "style": "IPY_MODEL_53c5b2262f9846a5adfdd7d45ce21b69",
       "value": 5
      }
     },
     "557b13d22d9c4523aede128ecebc8ac7": {
      "model_module": "@jupyter-widgets/controls",
      "model_module_version": "1.5.0",
      "model_name": "ButtonStyleModel",
      "state": {}
     },
     "55f0f039861f4c7cb7fc94899c53e0f6": {
      "model_module": "@jupyter-widgets/controls",
      "model_module_version": "1.5.0",
      "model_name": "TextModel",
      "state": {
       "continuous_update": false,
       "description": "name",
       "layout": "IPY_MODEL_ff9430da97704faca4a5581d596a9844",
       "style": "IPY_MODEL_f2ce19fc1a01412bb35dc2f4381a068b",
       "value": "radinc"
      }
     },
     "55fd0718c41b435db5caa06ebb66c4d3": {
      "model_module": "@jupyter-widgets/controls",
      "model_module_version": "1.5.0",
      "model_name": "ColorPickerModel",
      "state": {
       "description": "emission",
       "disabled": false,
       "layout": "IPY_MODEL_858855a4ca644ef8a5a68f4bd31e1d6b",
       "style": "IPY_MODEL_86875997079c4f0caf76384b93b1c407",
       "value": "#000000"
      }
     },
     "5631cbab764947158f1da6a147458613": {
      "model_module": "@jupyter-widgets/controls",
      "model_module_version": "1.5.0",
      "model_name": "DescriptionStyleModel",
      "state": {
       "description_width": ""
      }
     },
     "5635bd2a1dbe4760b5638e8c865b2550": {
      "model_module": "@jupyter-widgets/base",
      "model_module_version": "1.2.0",
      "model_name": "LayoutModel",
      "state": {}
     },
     "5683515fa2d0458db36f542630cf452a": {
      "model_module": "@jupyter-widgets/base",
      "model_module_version": "1.2.0",
      "model_name": "LayoutModel",
      "state": {}
     },
     "56b19567ca7740f28a2059eaf32f3238": {
      "model_module": "pgljupyter",
      "model_module_version": "^0.1.17",
      "model_name": "LsystemWidgetModel",
      "state": {
       "_model_module_version": "^0.1.17",
       "_view_module_version": "^0.1.17",
       "axes_helper": false,
       "derivationLength": 42,
       "layout": "IPY_MODEL_62f06f01a47f4f6c8c42d71dcba612c6",
       "light_helper": false,
       "plane": true,
       "size_display": [
        400,
        400
       ],
       "size_world": 50
      }
     },
     "56ca9cfe6576423da575a7edfbeda8a1": {
      "model_module": "@jupyter-widgets/controls",
      "model_module_version": "1.5.0",
      "model_name": "VBoxModel",
      "state": {
       "children": [
        "IPY_MODEL_aa34cffd296144adbb84e44628679faa",
        "IPY_MODEL_59e73575073a4d21bccbb7110cf6091a"
       ],
       "layout": "IPY_MODEL_926c57076840440cba5b8c4fd41d9d43"
      }
     },
     "56d367a9d5614e55bed35e4d81b7eef8": {
      "model_module": "@jupyter-widgets/controls",
      "model_module_version": "1.5.0",
      "model_name": "BoundedIntTextModel",
      "state": {
       "description": "index",
       "layout": "IPY_MODEL_9543ce5168bb44ca89a3b02cbe5bca8f",
       "style": "IPY_MODEL_b12f527165d943288688f616f1f609c8",
       "value": 4
      }
     },
     "56e10c5df99d4496a1c8da99197f9358": {
      "model_module": "@jupyter-widgets/base",
      "model_module_version": "1.2.0",
      "model_name": "LayoutModel",
      "state": {}
     },
     "56fc22890f4a4ca080684ec9625a905f": {
      "model_module": "@jupyter-widgets/base",
      "model_module_version": "1.2.0",
      "model_name": "LayoutModel",
      "state": {}
     },
     "571f6b30eb9047efac0f6cc30752eb09": {
      "model_module": "@jupyter-widgets/controls",
      "model_module_version": "1.5.0",
      "model_name": "ColorPickerModel",
      "state": {
       "description": "emission",
       "disabled": false,
       "layout": "IPY_MODEL_706b28339ad7452ea4636ed8533aa145",
       "style": "IPY_MODEL_f780df8385f34042a1e45373f0ef9cbc",
       "value": "#000000"
      }
     },
     "5728fafc0bd4433f81791185f2f8a527": {
      "model_module": "@jupyter-widgets/controls",
      "model_module_version": "1.5.0",
      "model_name": "FloatSliderModel",
      "state": {
       "description": "shininess",
       "layout": "IPY_MODEL_55370126029743f4b725a902460e704f",
       "max": 1,
       "step": 0.1,
       "style": "IPY_MODEL_c0bb2a0d577641b58e46f24746ba8a03",
       "value": 0.2
      }
     },
     "57495b8ed5ac4554811c23e6cec15699": {
      "model_module": "@jupyter-widgets/base",
      "model_module_version": "1.2.0",
      "model_name": "LayoutModel",
      "state": {}
     },
     "578fb4eed7ef4f93987a87d21a5b0d9f": {
      "model_module": "@jupyter-widgets/controls",
      "model_module_version": "1.5.0",
      "model_name": "HBoxModel",
      "state": {
       "children": [
        "IPY_MODEL_12aad91498d74df1bdd0076e69f17c4b",
        "IPY_MODEL_8df39cc78b7c43f7be9d191b5a4256de"
       ],
       "layout": "IPY_MODEL_b7c61d98c8974e3eab2560fcaf559828"
      }
     },
     "57ba92c34a3c4d26a6098635e1484968": {
      "model_module": "@jupyter-widgets/controls",
      "model_module_version": "1.5.0",
      "model_name": "DescriptionStyleModel",
      "state": {
       "description_width": ""
      }
     },
     "57dca5ae89cf4763919d1cd33c070eed": {
      "model_module": "@jupyter-widgets/base",
      "model_module_version": "1.2.0",
      "model_name": "LayoutModel",
      "state": {}
     },
     "5810bb174d1946e8b3d0386797351339": {
      "model_module": "@jupyter-widgets/controls",
      "model_module_version": "1.5.0",
      "model_name": "DescriptionStyleModel",
      "state": {
       "description_width": ""
      }
     },
     "58569d21975b4ecb94c1b21ac30e0823": {
      "model_module": "@jupyter-widgets/controls",
      "model_module_version": "1.5.0",
      "model_name": "HBoxModel",
      "state": {
       "children": [
        "IPY_MODEL_ec8cfa6373cf4330ae76df7ac5a2dfab",
        "IPY_MODEL_039429b73bae419cac4d3913fcdbfdbc"
       ],
       "layout": "IPY_MODEL_a9b7a5bea64640859355bc1f3bd40aed"
      }
     },
     "585fc48c58fd48cb974017172fb63f8c": {
      "model_module": "@jupyter-widgets/controls",
      "model_module_version": "1.5.0",
      "model_name": "ButtonModel",
      "state": {
       "description": "Delete category",
       "layout": "IPY_MODEL_ed2e1c85dc804578834fe3b7f594baa4",
       "style": "IPY_MODEL_31e5447b555c40528ae38c2d4c949f9f"
      }
     },
     "586fe9088889439284707fb54ba3ec23": {
      "model_module": "@jupyter-widgets/controls",
      "model_module_version": "1.5.0",
      "model_name": "ButtonModel",
      "state": {
       "description": "Delete",
       "layout": "IPY_MODEL_a5a3a25a887b433b95152afe55d8192d",
       "style": "IPY_MODEL_26b81cebc41f40ae83461cad70dcfba8"
      }
     },
     "5872ea4882c74993af9862d9a8bfcb9f": {
      "model_module": "@jupyter-widgets/controls",
      "model_module_version": "1.5.0",
      "model_name": "HBoxModel",
      "state": {
       "children": [
        "IPY_MODEL_153641213cab4e3888f2df8ffe4df5e6"
       ],
       "layout": "IPY_MODEL_0edf0711fcd443488bc2bd1811f52c38"
      }
     },
     "58b01411a162470783fbaaa91028104c": {
      "model_module": "@jupyter-widgets/controls",
      "model_module_version": "1.5.0",
      "model_name": "HBoxModel",
      "state": {
       "children": [
        "IPY_MODEL_1e5af16da1b3427d83bc2e4cf9a49852",
        "IPY_MODEL_529e918b5e134ca5a4af51bf8651b987"
       ],
       "layout": "IPY_MODEL_233d83e71b4344838e3144dcacea3eeb"
      }
     },
     "58b736cae95a4a3f97d710efaa4148bb": {
      "model_module": "@jupyter-widgets/controls",
      "model_module_version": "1.5.0",
      "model_name": "DescriptionStyleModel",
      "state": {
       "description_width": ""
      }
     },
     "5917a07df85e4f07849b2dc44475a30a": {
      "model_module": "@jupyter-widgets/controls",
      "model_module_version": "1.5.0",
      "model_name": "ButtonModel",
      "state": {
       "description": "Delete category",
       "layout": "IPY_MODEL_20e92cd381cd4543b11477c4b28a2822",
       "style": "IPY_MODEL_2718d36a76b14abe8337699015ee06ad"
      }
     },
     "594bc8d80195422f85abbd36476b4550": {
      "model_module": "@jupyter-widgets/controls",
      "model_module_version": "1.5.0",
      "model_name": "DescriptionStyleModel",
      "state": {
       "description_width": ""
      }
     },
     "5952c0e964b14034832f8d689c94cd56": {
      "model_module": "@jupyter-widgets/controls",
      "model_module_version": "1.5.0",
      "model_name": "DescriptionStyleModel",
      "state": {
       "description_width": ""
      }
     },
     "5952ccf95fff4114ac955e73f1021bc8": {
      "model_module": "@jupyter-widgets/base",
      "model_module_version": "1.2.0",
      "model_name": "LayoutModel",
      "state": {}
     },
     "59b6d90878cc4434b2cd7ffe61e22f6b": {
      "model_module": "@jupyter-widgets/base",
      "model_module_version": "1.2.0",
      "model_name": "LayoutModel",
      "state": {}
     },
     "59b8490222d449ec873f6dd426630d90": {
      "model_module": "@jupyter-widgets/base",
      "model_module_version": "1.2.0",
      "model_name": "LayoutModel",
      "state": {}
     },
     "59c4f363387c4603894fb415c0d36967": {
      "model_module": "@jupyter-widgets/base",
      "model_module_version": "1.2.0",
      "model_name": "LayoutModel",
      "state": {}
     },
     "59df3630aa8946ea91c52b602ac78c54": {
      "model_module": "@jupyter-widgets/controls",
      "model_module_version": "1.5.0",
      "model_name": "DescriptionStyleModel",
      "state": {
       "description_width": ""
      }
     },
     "59e6e480e2f044e3973bd8d2328b0a68": {
      "model_module": "@jupyter-widgets/base",
      "model_module_version": "1.2.0",
      "model_name": "LayoutModel",
      "state": {}
     },
     "59e73575073a4d21bccbb7110cf6091a": {
      "model_module": "@jupyter-widgets/controls",
      "model_module_version": "1.5.0",
      "model_name": "TabModel",
      "state": {
       "_titles": {
        "0": "leuwenberg.json"
       },
       "children": [
        "IPY_MODEL_0300001a45404b209a36c5be9117a9b4"
       ],
       "layout": "IPY_MODEL_5f1c7016d47f4e318a32653fe7356e2b"
      }
     },
     "59f8c5abaa8146ce8df8fc46c0f10acb": {
      "model_module": "@jupyter-widgets/controls",
      "model_module_version": "1.5.0",
      "model_name": "FloatSliderModel",
      "state": {
       "description": "transparency",
       "layout": "IPY_MODEL_abee62d144eb46f6a0854e2c779344fc",
       "max": 1,
       "step": 0.1,
       "style": "IPY_MODEL_61c5a99dc07f47fdb21721b1b101776a"
      }
     },
     "5a27138e81a3410884a9215f1d6fa8d6": {
      "model_module": "@jupyter-widgets/controls",
      "model_module_version": "1.5.0",
      "model_name": "DescriptionStyleModel",
      "state": {
       "description_width": ""
      }
     },
     "5a6aab1bb709492da4f69389f9069c24": {
      "model_module": "@jupyter-widgets/base",
      "model_module_version": "1.2.0",
      "model_name": "LayoutModel",
      "state": {
       "flex_flow": "row wrap",
       "margin": "20px"
      }
     },
     "5a7768daa7114d36b770ea435fe36cec": {
      "model_module": "@jupyter-widgets/base",
      "model_module_version": "1.2.0",
      "model_name": "LayoutModel",
      "state": {
       "flex_flow": "row wrap",
       "margin": "20px"
      }
     },
     "5a9efa5a617d42df8d7bb8d365c3e0a8": {
      "model_module": "@jupyter-widgets/base",
      "model_module_version": "1.2.0",
      "model_name": "LayoutModel",
      "state": {
       "margin": "20px 0px"
      }
     },
     "5adffba729714082b4c0b93187c64244": {
      "model_module": "@jupyter-widgets/controls",
      "model_module_version": "1.5.0",
      "model_name": "HBoxModel",
      "state": {
       "children": [
        "IPY_MODEL_a74641fad73f460aaf67830e96175f14",
        "IPY_MODEL_af04d4dbb9ee467196d914b3d6ff7677"
       ],
       "layout": "IPY_MODEL_39084374a571435e824d7618f816aad4"
      }
     },
     "5b06ffa55f8c4305b3bf43c5d33fe5f6": {
      "model_module": "@jupyter-widgets/controls",
      "model_module_version": "1.5.0",
      "model_name": "DescriptionStyleModel",
      "state": {
       "description_width": ""
      }
     },
     "5b5cffc519364c9fbd2a8e2332a75c62": {
      "model_module": "@jupyter-widgets/base",
      "model_module_version": "1.2.0",
      "model_name": "LayoutModel",
      "state": {}
     },
     "5b833389726149e891e43233e262af30": {
      "model_module": "@jupyter-widgets/base",
      "model_module_version": "1.2.0",
      "model_name": "LayoutModel",
      "state": {}
     },
     "5b940c3879e64cf98347973d19dcff84": {
      "model_module": "@jupyter-widgets/base",
      "model_module_version": "1.2.0",
      "model_name": "LayoutModel",
      "state": {}
     },
     "5bfb433518c246f4a7cd7249ff19b64e": {
      "model_module": "@jupyter-widgets/controls",
      "model_module_version": "1.5.0",
      "model_name": "IntSliderModel",
      "state": {
       "description": "value",
       "layout": "IPY_MODEL_f8e8217ad4ff42db874a2be04d88d09c",
       "max": 7,
       "min": 1,
       "style": "IPY_MODEL_13acdf1ccc5a4999af0676c08d452094",
       "value": 3
      }
     },
     "5c020f6de4b0494db643bad3b0644d25": {
      "model_module": "@jupyter-widgets/controls",
      "model_module_version": "1.5.0",
      "model_name": "SliderStyleModel",
      "state": {
       "description_width": ""
      }
     },
     "5c0d7f4b7f914f719c8266137f7d0017": {
      "model_module": "@jupyter-widgets/controls",
      "model_module_version": "1.5.0",
      "model_name": "DropdownModel",
      "state": {
       "_options_labels": [
        "Integer",
        "Float",
        "Bool"
       ],
       "index": 0,
       "layout": "IPY_MODEL_0728179a541f413fa5aae643b0fd424c",
       "style": "IPY_MODEL_8249d03607ce403b941353f80011ee8b"
      }
     },
     "5c2170886bb84b0fb0345314e6a3925d": {
      "model_module": "@jupyter-widgets/base",
      "model_module_version": "1.2.0",
      "model_name": "LayoutModel",
      "state": {}
     },
     "5c2e84642c5d485189990628bfa497c8": {
      "model_module": "@jupyter-widgets/base",
      "model_module_version": "1.2.0",
      "model_name": "LayoutModel",
      "state": {}
     },
     "5c45b8f207094c259218686f4e90aff4": {
      "model_module": "@jupyter-widgets/controls",
      "model_module_version": "1.5.0",
      "model_name": "DescriptionStyleModel",
      "state": {
       "description_width": ""
      }
     },
     "5c5ed1c8b6824f9b8f4256546f9f98d3": {
      "model_module": "@jupyter-widgets/base",
      "model_module_version": "1.2.0",
      "model_name": "LayoutModel",
      "state": {}
     },
     "5c675aab59fb4845aac7b8dac885e566": {
      "model_module": "@jupyter-widgets/base",
      "model_module_version": "1.2.0",
      "model_name": "LayoutModel",
      "state": {}
     },
     "5c7ea0ef330d498b91b01ff20701afc6": {
      "model_module": "@jupyter-widgets/controls",
      "model_module_version": "1.5.0",
      "model_name": "AccordionModel",
      "state": {
       "_titles": {
        "0": "materials",
        "1": "leaf"
       },
       "children": [
        "IPY_MODEL_35de142236d6430682387800cc229756",
        "IPY_MODEL_f6877ba37bef4c718f9ad54a1dee9c7e"
       ],
       "layout": "IPY_MODEL_48a9dc8b95d14018a1273a4583c91c32"
      }
     },
     "5c8b02bacbff4f469a89e2d1ea4bf18e": {
      "model_module": "@jupyter-widgets/controls",
      "model_module_version": "1.5.0",
      "model_name": "SliderStyleModel",
      "state": {
       "description_width": ""
      }
     },
     "5c8ee91aecec463e82900f71a4a9e81d": {
      "model_module": "@jupyter-widgets/controls",
      "model_module_version": "1.5.0",
      "model_name": "DescriptionStyleModel",
      "state": {
       "description_width": ""
      }
     },
     "5ca98085c6bf49aca459dd565f93cd38": {
      "model_module": "@jupyter-widgets/controls",
      "model_module_version": "1.5.0",
      "model_name": "CheckboxModel",
      "state": {
       "description": "Auto apply",
       "disabled": false,
       "layout": "IPY_MODEL_8299462a02d34ce7a919b316de08ed30",
       "style": "IPY_MODEL_28941cfcc3894fe3a6bb53b671b1fbf1",
       "value": false
      }
     },
     "5cb0a8f02ad04b5f9796ec72a576b675": {
      "model_module": "@jupyter-widgets/controls",
      "model_module_version": "1.5.0",
      "model_name": "DescriptionStyleModel",
      "state": {
       "description_width": ""
      }
     },
     "5ccfe2f5d1bc472faf8aa7f50bf0ab1d": {
      "model_module": "pgljupyter",
      "model_module_version": "^0.1.17",
      "model_name": "MaterialEditorModel",
      "state": {
       "_model_module_version": "^0.1.17",
       "_view_module_version": "^0.1.17",
       "children": [
        "IPY_MODEL_fe39b8c3b9064292a4c361b7263a6c84",
        "IPY_MODEL_9d4b9a9b3979406d872e9b0718717eb7",
        "IPY_MODEL_38af2c3340fa4dccbe1fe87f084d021e",
        "IPY_MODEL_077c655a00ab41bb91239523d5e0bf21",
        "IPY_MODEL_9a9dd7b9393e473ab51a5616b57ee709",
        "IPY_MODEL_5e1cd39cfa88428c865ac3fe8ce37706",
        "IPY_MODEL_7b56ea7a659047479a11f64be222d2ea"
       ],
       "layout": "IPY_MODEL_5a9efa5a617d42df8d7bb8d365c3e0a8"
      }
     },
     "5cd5315f340348038cd38a661f3e0383": {
      "model_module": "@jupyter-widgets/base",
      "model_module_version": "1.2.0",
      "model_name": "LayoutModel",
      "state": {}
     },
     "5cdf0a890d1f47459e533b95f5fa6d12": {
      "model_module": "@jupyter-widgets/controls",
      "model_module_version": "1.5.0",
      "model_name": "CheckboxModel",
      "state": {
       "description": "Auto save",
       "disabled": false,
       "layout": "IPY_MODEL_473617a3b3a74ffb93086ff4b9f2d61a",
       "style": "IPY_MODEL_31f8f240a62d42c994ef77ad3eff9028",
       "value": false
      }
     },
     "5d1acbde1263434ca0516af8b1e818ec": {
      "model_module": "@jupyter-widgets/controls",
      "model_module_version": "1.5.0",
      "model_name": "FloatSliderModel",
      "state": {
       "description": "transparency",
       "layout": "IPY_MODEL_9e9532d3f9264d848c9671d25e59429b",
       "max": 1,
       "step": 0.1,
       "style": "IPY_MODEL_09ab73e88d6a48cf971284095d2d93ee"
      }
     },
     "5d416a34f993487a93cb14b0054ea4ea": {
      "model_module": "@jupyter-widgets/base",
      "model_module_version": "1.2.0",
      "model_name": "LayoutModel",
      "state": {}
     },
     "5d56f12735114a72b59aee0792d5ab99": {
      "model_module": "@jupyter-widgets/controls",
      "model_module_version": "1.5.0",
      "model_name": "SliderStyleModel",
      "state": {
       "description_width": ""
      }
     },
     "5d592cc939754fea80d73face4c60e8f": {
      "model_module": "@jupyter-widgets/base",
      "model_module_version": "1.2.0",
      "model_name": "LayoutModel",
      "state": {}
     },
     "5d665054e5a24fcc86e9f3d114ca7382": {
      "model_module": "@jupyter-widgets/controls",
      "model_module_version": "1.5.0",
      "model_name": "FloatSliderModel",
      "state": {
       "description": "diffuse",
       "layout": "IPY_MODEL_7a99d133c96c4e7bac722c58641e6bc6",
       "max": 3,
       "step": 0.1,
       "style": "IPY_MODEL_a301eb5668924f298fa462fb2ee4e2dc",
       "value": 1
      }
     },
     "5d6b91526f5c4f069888276c86e31117": {
      "model_module": "@jupyter-widgets/base",
      "model_module_version": "1.2.0",
      "model_name": "LayoutModel",
      "state": {}
     },
     "5d6e79af49c540d687173491bdf52613": {
      "model_module": "@jupyter-widgets/controls",
      "model_module_version": "1.5.0",
      "model_name": "HBoxModel",
      "state": {
       "children": [
        "IPY_MODEL_4372a40b5e864ae785c713790258dbe4",
        "IPY_MODEL_662a8bc5b57b429b8272a6397296a547"
       ],
       "layout": "IPY_MODEL_ccd2ea5a8e31427bb33242becf4077fa"
      }
     },
     "5da34500d955448089199df04319e205": {
      "model_module": "@jupyter-widgets/base",
      "model_module_version": "1.2.0",
      "model_name": "LayoutModel",
      "state": {
       "margin": "20px 0px"
      }
     },
     "5da6a4695aee4e9ab96fad51b59727c6": {
      "model_module": "@jupyter-widgets/base",
      "model_module_version": "1.2.0",
      "model_name": "LayoutModel",
      "state": {}
     },
     "5dec0cf2269d486da8492dee4e84b3f8": {
      "model_module": "@jupyter-widgets/controls",
      "model_module_version": "1.5.0",
      "model_name": "ButtonStyleModel",
      "state": {}
     },
     "5e1cd39cfa88428c865ac3fe8ce37706": {
      "model_module": "@jupyter-widgets/controls",
      "model_module_version": "1.5.0",
      "model_name": "FloatSliderModel",
      "state": {
       "description": "transparency",
       "layout": "IPY_MODEL_d436543783c8447f81f559995965920f",
       "max": 1,
       "step": 0.1,
       "style": "IPY_MODEL_e6ea0f1df0864495a18ce55e8ee48a88"
      }
     },
     "5e62aae65cb548bcbf53bb19b6810b3b": {
      "model_module": "@jupyter-widgets/base",
      "model_module_version": "1.2.0",
      "model_name": "LayoutModel",
      "state": {}
     },
     "5e82b30d25f94292a4d76ae8c23684da": {
      "model_module": "@jupyter-widgets/controls",
      "model_module_version": "1.5.0",
      "model_name": "DescriptionStyleModel",
      "state": {
       "description_width": ""
      }
     },
     "5e9c1818473b44dab49b3d26bf241c9d": {
      "model_module": "@jupyter-widgets/controls",
      "model_module_version": "1.5.0",
      "model_name": "DescriptionStyleModel",
      "state": {
       "description_width": ""
      }
     },
     "5eac464e5de54b27a961eb229e40565b": {
      "model_module": "@jupyter-widgets/controls",
      "model_module_version": "1.5.0",
      "model_name": "CheckboxModel",
      "state": {
       "description": "Auto save",
       "disabled": false,
       "layout": "IPY_MODEL_8c00dd94f504489eb79f75cdf4d9b736",
       "style": "IPY_MODEL_c54dbf897e88456f9d68e9e0b6f32806",
       "value": false
      }
     },
     "5ef60586f6624e7a921466efb2d8a645": {
      "model_module": "@jupyter-widgets/controls",
      "model_module_version": "1.5.0",
      "model_name": "DescriptionStyleModel",
      "state": {
       "description_width": ""
      }
     },
     "5eff584d0b2b41aeb1390c34883b3952": {
      "model_module": "@jupyter-widgets/controls",
      "model_module_version": "1.5.0",
      "model_name": "HBoxModel",
      "state": {
       "children": [
        "IPY_MODEL_baaa42ae12f948eab87555a7fbda06c9",
        "IPY_MODEL_8c34ccd1ce0c4bdea50769e26de587f7"
       ],
       "layout": "IPY_MODEL_5a6aab1bb709492da4f69389f9069c24"
      }
     },
     "5f0d4143620941798573a504d9e748b1": {
      "model_module": "@jupyter-widgets/base",
      "model_module_version": "1.2.0",
      "model_name": "LayoutModel",
      "state": {}
     },
     "5f1c7016d47f4e318a32653fe7356e2b": {
      "model_module": "@jupyter-widgets/base",
      "model_module_version": "1.2.0",
      "model_name": "LayoutModel",
      "state": {}
     },
     "5f2b9448d4664b19bc2be431e51cf147": {
      "model_module": "@jupyter-widgets/controls",
      "model_module_version": "1.5.0",
      "model_name": "HBoxModel",
      "state": {
       "children": [
        "IPY_MODEL_03ab5d400c7b448cbd80354c73a71b69",
        "IPY_MODEL_a1b5b03ee7734374841f6ac59804c61a"
       ],
       "layout": "IPY_MODEL_5c5ed1c8b6824f9b8f4256546f9f98d3"
      }
     },
     "5f2ecb128cba4ce0ae2ed4b650b085bd": {
      "model_module": "@jupyter-widgets/base",
      "model_module_version": "1.2.0",
      "model_name": "LayoutModel",
      "state": {}
     },
     "5f35732199e94b7981ff948790caec12": {
      "model_module": "@jupyter-widgets/controls",
      "model_module_version": "1.5.0",
      "model_name": "DescriptionStyleModel",
      "state": {
       "description_width": ""
      }
     },
     "5f766dc4cb8647509fa135a5358aaab0": {
      "model_module": "@jupyter-widgets/base",
      "model_module_version": "1.2.0",
      "model_name": "LayoutModel",
      "state": {}
     },
     "5f98c0fc4bc74bb18355255bc02aa93c": {
      "model_module": "@jupyter-widgets/controls",
      "model_module_version": "1.5.0",
      "model_name": "HBoxModel",
      "state": {
       "children": [
        "IPY_MODEL_b24854e612f64308b2856ad9bbda0e0c",
        "IPY_MODEL_602b9967919e4d9095cb2458ac6260f2"
       ],
       "layout": "IPY_MODEL_5ffcfabea4324e77ba7847c89942d8f5"
      }
     },
     "5f9f275715734a318f7526209e87fd1d": {
      "model_module": "@jupyter-widgets/controls",
      "model_module_version": "1.5.0",
      "model_name": "FloatSliderModel",
      "state": {
       "description": "diffuse",
       "layout": "IPY_MODEL_481cf82ea8244cf4b9b9b31187903bc6",
       "max": 3,
       "step": 0.1,
       "style": "IPY_MODEL_dc1fc436f2d640ee97620d714ae2e02e",
       "value": 1
      }
     },
     "5fd9a8d12c4d45588031973ef01650c0": {
      "model_module": "@jupyter-widgets/controls",
      "model_module_version": "1.5.0",
      "model_name": "ColorPickerModel",
      "state": {
       "description": "ambient",
       "disabled": false,
       "layout": "IPY_MODEL_09fe84e4c04243fdb4d5769ae0bf8f00",
       "style": "IPY_MODEL_c1f8e654bd764ed1b77cc56f2508694d",
       "value": "#5b4534"
      }
     },
     "5fe590f048484a3ba28067befd41b28a": {
      "model_module": "@jupyter-widgets/controls",
      "model_module_version": "1.5.0",
      "model_name": "TextModel",
      "state": {
       "continuous_update": false,
       "description": "name",
       "layout": "IPY_MODEL_406538f49d474b288e16fda7dd512c69",
       "style": "IPY_MODEL_40ccbdcf094944daacad40f2478bd3f3",
       "value": "color_2"
      }
     },
     "5ffcfabea4324e77ba7847c89942d8f5": {
      "model_module": "@jupyter-widgets/base",
      "model_module_version": "1.2.0",
      "model_name": "LayoutModel",
      "state": {
       "flex_flow": "row wrap",
       "margin": "20px"
      }
     },
     "602b9967919e4d9095cb2458ac6260f2": {
      "model_module": "pgljupyter",
      "model_module_version": "^0.1.20",
      "model_name": "IntEditorModel",
      "state": {
       "_model_module_version": "^0.1.20",
       "_view_module_version": "^0.1.20",
       "children": [
        "IPY_MODEL_1c3ad41458c64c129919cde932065b83",
        "IPY_MODEL_2719d1e459504afd8a880d0568a15e88"
       ],
       "layout": "IPY_MODEL_e11fae69c776418190ad9c7973e97a8d"
      }
     },
     "604d1a618d0d48e8ba8e49ac54668dfb": {
      "model_module": "@jupyter-widgets/controls",
      "model_module_version": "1.5.0",
      "model_name": "DescriptionStyleModel",
      "state": {
       "description_width": ""
      }
     },
     "605b3dff17be4529b97af57e3cdd4848": {
      "model_module": "@jupyter-widgets/controls",
      "model_module_version": "1.5.0",
      "model_name": "ColorPickerModel",
      "state": {
       "description": "ambient",
       "disabled": false,
       "layout": "IPY_MODEL_62a2b76231e9443483317376953ca3cc",
       "style": "IPY_MODEL_85f2f816a3ad4019b0f5b00681e76aad",
       "value": "#5b4534"
      }
     },
     "60649db2aa41400c8d032bf13c68e453": {
      "model_module": "@jupyter-widgets/base",
      "model_module_version": "1.2.0",
      "model_name": "LayoutModel",
      "state": {}
     },
     "60b6d845ad24428db8160a19a54d242d": {
      "model_module": "@jupyter-widgets/controls",
      "model_module_version": "1.5.0",
      "model_name": "FloatSliderModel",
      "state": {
       "description": "diffuse",
       "layout": "IPY_MODEL_af62057272d64d6c8173cc755a1345c8",
       "max": 3,
       "step": 0.1,
       "style": "IPY_MODEL_4623abe30f8746eb94835fdc33c089af",
       "value": 1
      }
     },
     "60b848e0a9d44febb7a1d3a68a4ed857": {
      "model_module": "@jupyter-widgets/controls",
      "model_module_version": "1.5.0",
      "model_name": "ColorPickerModel",
      "state": {
       "description": "ambient",
       "disabled": false,
       "layout": "IPY_MODEL_466cc074ebc9465d93833472fef33beb",
       "style": "IPY_MODEL_9995b849589e4f8a87cd74cb1555ef93",
       "value": "#5b4534"
      }
     },
     "60f7d6ccd61f493dadbfcf94d366711a": {
      "model_module": "@jupyter-widgets/base",
      "model_module_version": "1.2.0",
      "model_name": "LayoutModel",
      "state": {}
     },
     "60ff2d33083e41a7a9c77037399cc0c7": {
      "model_module": "@jupyter-widgets/controls",
      "model_module_version": "1.5.0",
      "model_name": "DescriptionStyleModel",
      "state": {
       "description_width": ""
      }
     },
     "6122fb292c0c44039d410f9afbe16534": {
      "model_module": "@jupyter-widgets/base",
      "model_module_version": "1.2.0",
      "model_name": "LayoutModel",
      "state": {}
     },
     "613b92ffca5244b6a9fe92b6eac0bfb3": {
      "model_module": "@jupyter-widgets/controls",
      "model_module_version": "1.5.0",
      "model_name": "ColorPickerModel",
      "state": {
       "description": "ambient",
       "disabled": false,
       "layout": "IPY_MODEL_fd50b55e03484806aa3cae2a2541a1d3",
       "style": "IPY_MODEL_fe77130544c74fea9c083f6b668bcfaf",
       "value": "#e1a014"
      }
     },
     "614b17aa8cbd4c59bdc4c77fdfbbc42b": {
      "model_module": "@jupyter-widgets/base",
      "model_module_version": "1.2.0",
      "model_name": "LayoutModel",
      "state": {}
     },
     "61604db4d90b46a3a0031ae5119c1516": {
      "model_module": "@jupyter-widgets/controls",
      "model_module_version": "1.5.0",
      "model_name": "DescriptionStyleModel",
      "state": {
       "description_width": ""
      }
     },
     "619d054879f142ab8a22cb911c74fa09": {
      "model_module": "@jupyter-widgets/base",
      "model_module_version": "1.2.0",
      "model_name": "LayoutModel",
      "state": {}
     },
     "61c5a99dc07f47fdb21721b1b101776a": {
      "model_module": "@jupyter-widgets/controls",
      "model_module_version": "1.5.0",
      "model_name": "SliderStyleModel",
      "state": {
       "description_width": ""
      }
     },
     "62011f6d9ab4417da126fa460c091385": {
      "model_module": "@jupyter-widgets/base",
      "model_module_version": "1.2.0",
      "model_name": "LayoutModel",
      "state": {}
     },
     "6213afc08dc747abb3101b3b00eff81e": {
      "model_module": "@jupyter-widgets/base",
      "model_module_version": "1.2.0",
      "model_name": "LayoutModel",
      "state": {
       "margin": "20px 0px"
      }
     },
     "62252cd6e6f64fb7aa4f68ce3e71f4b1": {
      "model_module": "pgljupyter",
      "model_module_version": "^0.1.17",
      "model_name": "MaterialEditorModel",
      "state": {
       "_model_module_version": "^0.1.17",
       "_view_module_version": "^0.1.17",
       "children": [
        "IPY_MODEL_51deaef56dce430dae6fc3f320f5ae3e",
        "IPY_MODEL_ed878756b8fb401389ecaf5b518387e3",
        "IPY_MODEL_a05c2a0fc34b4dfe85701e30e5a55732",
        "IPY_MODEL_13b719143ac7434582f81b16c18d6b4e",
        "IPY_MODEL_41374977018a4cc590e2913add7f287a",
        "IPY_MODEL_a2eafcfa36b44a6ba3e34657e64cec7a",
        "IPY_MODEL_bf0625eebb3744fc8cc55567e985236f"
       ],
       "layout": "IPY_MODEL_fd273ce6761742148ac89669bc64d98d"
      }
     },
     "625a97aef55748c189e2a6b3c1b5e67d": {
      "model_module": "@jupyter-widgets/base",
      "model_module_version": "1.2.0",
      "model_name": "LayoutModel",
      "state": {}
     },
     "6275cdb1a22040fd844c2deb6ab44a03": {
      "model_module": "@jupyter-widgets/controls",
      "model_module_version": "1.5.0",
      "model_name": "DescriptionStyleModel",
      "state": {
       "description_width": ""
      }
     },
     "62867ab47038465d8944dcad2437cbc9": {
      "model_module": "@jupyter-widgets/base",
      "model_module_version": "1.2.0",
      "model_name": "LayoutModel",
      "state": {}
     },
     "62a2b76231e9443483317376953ca3cc": {
      "model_module": "@jupyter-widgets/base",
      "model_module_version": "1.2.0",
      "model_name": "LayoutModel",
      "state": {}
     },
     "62b5bc6403144408b19fd4a789c19c72": {
      "model_module": "@jupyter-widgets/controls",
      "model_module_version": "1.5.0",
      "model_name": "ColorPickerModel",
      "state": {
       "description": "specular",
       "disabled": false,
       "layout": "IPY_MODEL_76fa5974fc594088898aeca9c0523cbd",
       "style": "IPY_MODEL_ffd47b6cfe404097909f5f4870a7fc67",
       "value": "#282828"
      }
     },
     "62f06f01a47f4f6c8c42d71dcba612c6": {
      "model_module": "@jupyter-widgets/base",
      "model_module_version": "1.2.0",
      "model_name": "LayoutModel",
      "state": {}
     },
     "62fff4b10d2c498fa7de85b618a36351": {
      "model_module": "@jupyter-widgets/controls",
      "model_module_version": "1.5.0",
      "model_name": "ColorPickerModel",
      "state": {
       "description": "emission",
       "disabled": false,
       "layout": "IPY_MODEL_7b1a55ba2ac3453b99b92e17130c6a1e",
       "style": "IPY_MODEL_e0c35736a89f424aa92cf4bb65dd15cd",
       "value": "#000000"
      }
     },
     "630f51ddc6474d56ac2b11c221db9313": {
      "model_module": "@jupyter-widgets/controls",
      "model_module_version": "1.5.0",
      "model_name": "ColorPickerModel",
      "state": {
       "description": "specular",
       "disabled": false,
       "layout": "IPY_MODEL_e894d4c3a4fb4f25a3f9d4c94d93edc4",
       "style": "IPY_MODEL_71181c0856bf4f019a94995d5325d299",
       "value": "#282828"
      }
     },
     "6313452555004e3e8cd4af4b429d6c81": {
      "model_module": "@jupyter-widgets/controls",
      "model_module_version": "1.5.0",
      "model_name": "SliderStyleModel",
      "state": {
       "description_width": ""
      }
     },
     "6322774f3a5e4d0cad43bc9ac0f77d3f": {
      "model_module": "@jupyter-widgets/controls",
      "model_module_version": "1.5.0",
      "model_name": "HBoxModel",
      "state": {
       "children": [
        "IPY_MODEL_ddc34eb399b046ce9c7bbcc7bcce04e5",
        "IPY_MODEL_f147ffdfc6994c26b4177e9b873ebcc9",
        "IPY_MODEL_cca2bc234f7546b6ab053ec14a62865d",
        "IPY_MODEL_bcb9c01e8d5e4ef6a75414069738d87f",
        "IPY_MODEL_3c9570eda3684eab96511e129bb5cee0"
       ],
       "layout": "IPY_MODEL_8d56c586bca3464d8c5cb36ae761ba46"
      }
     },
     "63354b64c5c6445686dd6064588bcd06": {
      "model_module": "@jupyter-widgets/base",
      "model_module_version": "1.2.0",
      "model_name": "LayoutModel",
      "state": {}
     },
     "63c9d2863df64449a1d81b197959dbbe": {
      "model_module": "@jupyter-widgets/controls",
      "model_module_version": "1.5.0",
      "model_name": "DescriptionStyleModel",
      "state": {
       "description_width": ""
      }
     },
     "63ec99422d324062aa029ae26fb392cf": {
      "model_module": "@jupyter-widgets/controls",
      "model_module_version": "1.5.0",
      "model_name": "TextModel",
      "state": {
       "continuous_update": false,
       "description": "name",
       "layout": "IPY_MODEL_5683515fa2d0458db36f542630cf452a",
       "style": "IPY_MODEL_e29b2ad0e6b8400997e87c1b714baead",
       "value": "color_4"
      }
     },
     "641c05b7ca444b45815f98e53b6c6ac7": {
      "model_module": "@jupyter-widgets/controls",
      "model_module_version": "1.5.0",
      "model_name": "ButtonModel",
      "state": {
       "description": "Delete",
       "layout": "IPY_MODEL_344335e7670a495595018a08fc546dec",
       "style": "IPY_MODEL_2fbe66108ef0435abf2f0ae7d1785c48"
      }
     },
     "64635876704d46df8e253b2d4cefa598": {
      "model_module": "@jupyter-widgets/base",
      "model_module_version": "1.2.0",
      "model_name": "LayoutModel",
      "state": {}
     },
     "6498ae65f15544e3aa9711e23376ad90": {
      "model_module": "@jupyter-widgets/base",
      "model_module_version": "1.2.0",
      "model_name": "LayoutModel",
      "state": {}
     },
     "649b808e83854530a387af7bc18abe1e": {
      "model_module": "@jupyter-widgets/base",
      "model_module_version": "1.2.0",
      "model_name": "LayoutModel",
      "state": {}
     },
     "64ddded86cc94f2aaa65c66efd8404cd": {
      "model_module": "@jupyter-widgets/controls",
      "model_module_version": "1.5.0",
      "model_name": "HBoxModel",
      "state": {
       "children": [
        "IPY_MODEL_ec0d311430274174ad6f8002cc5ab013",
        "IPY_MODEL_c0a048ed609e4aceb6a259def78278e2"
       ],
       "layout": "IPY_MODEL_b64a0b633c4c488bb06c6634159a6227"
      }
     },
     "64eb6ce77bf6462698b988007f7d6518": {
      "model_module": "@jupyter-widgets/controls",
      "model_module_version": "1.5.0",
      "model_name": "DescriptionStyleModel",
      "state": {
       "description_width": ""
      }
     },
     "64f0f3be71ea49f6b0bf5f7a3382814b": {
      "model_module": "@jupyter-widgets/controls",
      "model_module_version": "1.5.0",
      "model_name": "DescriptionStyleModel",
      "state": {
       "description_width": ""
      }
     },
     "64f9dc0574df4a11af6125d753e638a4": {
      "model_module": "@jupyter-widgets/base",
      "model_module_version": "1.2.0",
      "model_name": "LayoutModel",
      "state": {}
     },
     "64fb29f193384a4e8f752c45b4c4b1ca": {
      "model_module": "@jupyter-widgets/controls",
      "model_module_version": "1.5.0",
      "model_name": "ColorPickerModel",
      "state": {
       "description": "emission",
       "disabled": false,
       "layout": "IPY_MODEL_68cfd084a9b844c7b9f46de98db14296",
       "style": "IPY_MODEL_9d7be6be4d2747209818d0df34b5332e",
       "value": "#000000"
      }
     },
     "6568a84592d945ddaf5e6c0dc6c917c1": {
      "model_module": "@jupyter-widgets/base",
      "model_module_version": "1.2.0",
      "model_name": "LayoutModel",
      "state": {}
     },
     "65bee35e74e7441d98cbdeb5de6d8221": {
      "model_module": "@jupyter-widgets/base",
      "model_module_version": "1.2.0",
      "model_name": "LayoutModel",
      "state": {}
     },
     "65cb7b1023ae4f4aae41fd3b1473e716": {
      "model_module": "@jupyter-widgets/base",
      "model_module_version": "1.2.0",
      "model_name": "LayoutModel",
      "state": {
       "margin": "20px 0px"
      }
     },
     "65dc7f4bbf724d46a564ee783e7d55ea": {
      "model_module": "@jupyter-widgets/base",
      "model_module_version": "1.2.0",
      "model_name": "LayoutModel",
      "state": {}
     },
     "65e9c69006e0410082732dcb581d48b9": {
      "model_module": "@jupyter-widgets/controls",
      "model_module_version": "1.5.0",
      "model_name": "DescriptionStyleModel",
      "state": {
       "description_width": ""
      }
     },
     "6606341d02fc439dbd25cdd30951c0c4": {
      "model_module": "@jupyter-widgets/controls",
      "model_module_version": "1.5.0",
      "model_name": "SliderStyleModel",
      "state": {
       "description_width": ""
      }
     },
     "662a8bc5b57b429b8272a6397296a547": {
      "model_module": "@jupyter-widgets/controls",
      "model_module_version": "1.5.0",
      "model_name": "DropdownModel",
      "state": {
       "index": null,
       "layout": "IPY_MODEL_49d8421d6f4e4d488db1bd655f89a30e",
       "style": "IPY_MODEL_4a8af0be878b499d97a7bae1ed0009d0"
      }
     },
     "662e56ddae0f4169b110443342d419e9": {
      "model_module": "@jupyter-widgets/controls",
      "model_module_version": "1.5.0",
      "model_name": "SliderStyleModel",
      "state": {
       "description_width": ""
      }
     },
     "66319b5fedf94e328a2169cc85e30ee7": {
      "model_module": "@jupyter-widgets/controls",
      "model_module_version": "1.5.0",
      "model_name": "SliderStyleModel",
      "state": {
       "description_width": ""
      }
     },
     "665a21b5b0a24ed98abe27fb4169edb8": {
      "model_module": "@jupyter-widgets/controls",
      "model_module_version": "1.5.0",
      "model_name": "ButtonModel",
      "state": {
       "description": "Add",
       "layout": "IPY_MODEL_b3b90cf0e5714dfabfdcf4452cc02351",
       "style": "IPY_MODEL_f8c2776590214d378e6d1f0790fa3fda"
      }
     },
     "66cfa3a226224323bc89e5cd0184f515": {
      "model_module": "@jupyter-widgets/base",
      "model_module_version": "1.2.0",
      "model_name": "LayoutModel",
      "state": {}
     },
     "66d7a1826e15429d8f8f2cf795ccb6c1": {
      "model_module": "@jupyter-widgets/base",
      "model_module_version": "1.2.0",
      "model_name": "LayoutModel",
      "state": {}
     },
     "67461a76be584a8b8d2fa4e2f8aa7d24": {
      "model_module": "@jupyter-widgets/controls",
      "model_module_version": "1.5.0",
      "model_name": "FloatSliderModel",
      "state": {
       "description": "transparency",
       "layout": "IPY_MODEL_b7fff26df0ad46bbaeeb12519d1a0352",
       "max": 1,
       "step": 0.1,
       "style": "IPY_MODEL_30d8f21dda4646f0acb3611afa8c89a6"
      }
     },
     "674ce701a99c4dd290082ac0ca4a9bf8": {
      "model_module": "@jupyter-widgets/controls",
      "model_module_version": "1.5.0",
      "model_name": "DescriptionStyleModel",
      "state": {
       "description_width": ""
      }
     },
     "67555ffb059840dd83d40a952b22cf1d": {
      "model_module": "@jupyter-widgets/base",
      "model_module_version": "1.2.0",
      "model_name": "LayoutModel",
      "state": {}
     },
     "676ef09cd4844c10ba6f4f53d5d24356": {
      "model_module": "@jupyter-widgets/base",
      "model_module_version": "1.2.0",
      "model_name": "LayoutModel",
      "state": {}
     },
     "677b6979d18a4369b43c7d2c7055d352": {
      "model_module": "@jupyter-widgets/controls",
      "model_module_version": "1.5.0",
      "model_name": "TextModel",
      "state": {
       "continuous_update": false,
       "description": "name",
       "layout": "IPY_MODEL_98277c35c08042f6a10536f9cec224a9",
       "style": "IPY_MODEL_83cb5d93b13c4d38906e44f6111942f3",
       "value": "color_4"
      }
     },
     "679a4e3dbf4340d084066a79f8c8540d": {
      "model_module": "@jupyter-widgets/controls",
      "model_module_version": "1.5.0",
      "model_name": "ButtonModel",
      "state": {
       "description": "Apply changes",
       "layout": "IPY_MODEL_d9ccb67aeb914dbebc9157bdfb5dc23d",
       "style": "IPY_MODEL_ef1d08148f6a452081c3eb7924ab9c8f"
      }
     },
     "67c7aedfc8f04a9bb8e92c4fbabb0fa3": {
      "model_module": "@jupyter-widgets/base",
      "model_module_version": "1.2.0",
      "model_name": "LayoutModel",
      "state": {}
     },
     "67f4e04d08034151b0a50c7edf65de73": {
      "model_module": "@jupyter-widgets/controls",
      "model_module_version": "1.5.0",
      "model_name": "SliderStyleModel",
      "state": {
       "description_width": ""
      }
     },
     "683514619a284a17be83f3e12928bc6a": {
      "model_module": "@jupyter-widgets/controls",
      "model_module_version": "1.5.0",
      "model_name": "IntSliderModel",
      "state": {
       "description": "value",
       "layout": "IPY_MODEL_ac6f0bb182d14b43a5412de39ac1d15a",
       "max": 10,
       "min": 1,
       "style": "IPY_MODEL_ce95b26aa02f45a485c1255eae9a21fa",
       "value": 5
      }
     },
     "6836f870173f481c896bba938c011cdd": {
      "model_module": "@jupyter-widgets/controls",
      "model_module_version": "1.5.0",
      "model_name": "TextModel",
      "state": {
       "continuous_update": false,
       "description": "name",
       "layout": "IPY_MODEL_8b24ac74c0944cd48267de6d5fe2be88",
       "style": "IPY_MODEL_1fc7b2d61c8248a78f6d173ef2c25c28",
       "value": "maxorder"
      }
     },
     "684c8f4df8674412aedac32f204f41a4": {
      "model_module": "@jupyter-widgets/controls",
      "model_module_version": "1.5.0",
      "model_name": "HBoxModel",
      "state": {
       "children": [
        "IPY_MODEL_7d994118bafc4c709d4e82c6555c0cdf"
       ],
       "layout": "IPY_MODEL_78dff3c9b0ab4092885a4681b708b9c4"
      }
     },
     "685f741bdde24dd9b6568dc83684456f": {
      "model_module": "@jupyter-widgets/controls",
      "model_module_version": "1.5.0",
      "model_name": "HBoxModel",
      "state": {
       "children": [
        "IPY_MODEL_4dbcb1266bf2455cbfa6f83b1f69516a",
        "IPY_MODEL_1ea1b9374e5d4145bcc362d9bb9d3624"
       ],
       "layout": "IPY_MODEL_10b64056ecc44e09b5e4933d6dbe52e2"
      }
     },
     "68a0a5b32660431c972bf9ccdf174f33": {
      "model_module": "@jupyter-widgets/base",
      "model_module_version": "1.2.0",
      "model_name": "LayoutModel",
      "state": {}
     },
     "68ae407b0f17478b8bba349c2b362287": {
      "model_module": "@jupyter-widgets/controls",
      "model_module_version": "1.5.0",
      "model_name": "ColorPickerModel",
      "state": {
       "description": "specular",
       "disabled": false,
       "layout": "IPY_MODEL_9adab8c2be424a5f8a9aa5ef3f26e6dd",
       "style": "IPY_MODEL_2d633741e82e4a00811c61de610e3b6b",
       "value": "#282828"
      }
     },
     "68b2471e08bd43108da250cbe509f4c8": {
      "model_module": "@jupyter-widgets/controls",
      "model_module_version": "1.5.0",
      "model_name": "SliderStyleModel",
      "state": {
       "description_width": ""
      }
     },
     "68be4ec169ab4ce9929d4231bbdfaad7": {
      "model_module": "@jupyter-widgets/controls",
      "model_module_version": "1.5.0",
      "model_name": "ButtonStyleModel",
      "state": {}
     },
     "68cfd084a9b844c7b9f46de98db14296": {
      "model_module": "@jupyter-widgets/base",
      "model_module_version": "1.2.0",
      "model_name": "LayoutModel",
      "state": {}
     },
     "68d71aa0477142e7b5ac9a9e6cd735b0": {
      "model_module": "pgljupyter",
      "model_module_version": "^0.1.20",
      "model_name": "FloatEditorModel",
      "state": {
       "_model_module_version": "^0.1.20",
       "_view_module_version": "^0.1.20",
       "children": [
        "IPY_MODEL_d91926552cc04101b20b93a25091f15a",
        "IPY_MODEL_3d43a66e7ba84d16b260aa7cd202f863"
       ],
       "layout": "IPY_MODEL_49306a0c91164b7a808f80e189b3a9ee"
      }
     },
     "690ece26089849d296129aedbf2fd7db": {
      "model_module": "@jupyter-widgets/controls",
      "model_module_version": "1.5.0",
      "model_name": "ButtonModel",
      "state": {
       "description": "Delete",
       "layout": "IPY_MODEL_b948a49b7df74974bc59fba0d18708ef",
       "style": "IPY_MODEL_742b7af996de41e68d2fba76c3bf71d8"
      }
     },
     "694aa30345644ad9836c04cf3497349c": {
      "model_module": "@jupyter-widgets/base",
      "model_module_version": "1.2.0",
      "model_name": "LayoutModel",
      "state": {}
     },
     "699fdd8b68ce4088bee5ea97075c85ef": {
      "model_module": "@jupyter-widgets/controls",
      "model_module_version": "1.5.0",
      "model_name": "HBoxModel",
      "state": {
       "children": [
        "IPY_MODEL_51cef2aa605e461f8d0f1f518f7427c4",
        "IPY_MODEL_a2621c9fa86a4cef802aae2710c3be5f"
       ],
       "layout": "IPY_MODEL_bdcbb93f812947e88d3b05e0e12e3467"
      }
     },
     "69adca6b2b7d471ca668269a5c227e1f": {
      "model_module": "@jupyter-widgets/controls",
      "model_module_version": "1.5.0",
      "model_name": "DescriptionStyleModel",
      "state": {
       "description_width": ""
      }
     },
     "69c450ec1a01424db338088654b05a79": {
      "model_module": "@jupyter-widgets/base",
      "model_module_version": "1.2.0",
      "model_name": "LayoutModel",
      "state": {}
     },
     "6a018a7ac45f43ed9fb495ac70a32468": {
      "model_module": "@jupyter-widgets/base",
      "model_module_version": "1.2.0",
      "model_name": "LayoutModel",
      "state": {}
     },
     "6a9570578894414ebd3507f4aa341efc": {
      "model_module": "pgljupyter",
      "model_module_version": "^0.1.18",
      "model_name": "LsystemWidgetModel",
      "state": {
       "_model_module_version": "^0.1.18",
       "_view_module_version": "^0.1.18",
       "axes_helper": false,
       "derivationLength": 42,
       "layout": "IPY_MODEL_d52fb0d8ec634c9e8f5209c9cbd03a9e",
       "light_helper": false,
       "plane": true,
       "size_display": [
        600,
        400
       ],
       "size_world": 50
      }
     },
     "6a95929048464d27b92643ff9e093d6b": {
      "model_module": "@jupyter-widgets/base",
      "model_module_version": "1.2.0",
      "model_name": "LayoutModel",
      "state": {}
     },
     "6a96352f36b9452bba44e1ee4b108426": {
      "model_module": "@jupyter-widgets/controls",
      "model_module_version": "1.5.0",
      "model_name": "SliderStyleModel",
      "state": {
       "description_width": ""
      }
     },
     "6ab377277f3f47c19b9225d757195275": {
      "model_module": "@jupyter-widgets/base",
      "model_module_version": "1.2.0",
      "model_name": "LayoutModel",
      "state": {}
     },
     "6ae70c48f5bb42129c7504bfebdb6214": {
      "model_module": "@jupyter-widgets/controls",
      "model_module_version": "1.5.0",
      "model_name": "HBoxModel",
      "state": {
       "children": [
        "IPY_MODEL_b7b39fab097644ca98be08e07da74097",
        "IPY_MODEL_1ae92564132343389b54704803f15403"
       ],
       "layout": "IPY_MODEL_f84fb842bfdc4ca69b673ea45abcdf91"
      }
     },
     "6af77e29019b4e689db91f5541c76b14": {
      "model_module": "@jupyter-widgets/controls",
      "model_module_version": "1.5.0",
      "model_name": "ColorPickerModel",
      "state": {
       "description": "emission",
       "disabled": false,
       "layout": "IPY_MODEL_055dec0cea5041829e855a22e1086bb8",
       "style": "IPY_MODEL_cec3e99efbcc48f4949ee3f961d09c72",
       "value": "#000000"
      }
     },
     "6afde54ff02642b099358c5671f1b873": {
      "model_module": "@jupyter-widgets/controls",
      "model_module_version": "1.5.0",
      "model_name": "ButtonModel",
      "state": {
       "description": "Add",
       "layout": "IPY_MODEL_21f3349a602545288f617c05af0e2a85",
       "style": "IPY_MODEL_510489c076f34b2bb4ed405c0bd2e184"
      }
     },
     "6b54e408638a4d85935aa261112cb2bb": {
      "model_module": "@jupyter-widgets/controls",
      "model_module_version": "1.5.0",
      "model_name": "SliderStyleModel",
      "state": {
       "description_width": ""
      }
     },
     "6b64f44ea36c41a0bce14ae865b76233": {
      "model_module": "@jupyter-widgets/controls",
      "model_module_version": "1.5.0",
      "model_name": "HBoxModel",
      "state": {
       "layout": "IPY_MODEL_5a7768daa7114d36b770ea435fe36cec"
      }
     },
     "6b7f50760bbe40128e53e8730548a7c5": {
      "model_module": "@jupyter-widgets/controls",
      "model_module_version": "1.5.0",
      "model_name": "TextModel",
      "state": {
       "continuous_update": false,
       "description": "name",
       "layout": "IPY_MODEL_2748b3bc98584be89e557777f606f30e",
       "style": "IPY_MODEL_5e82b30d25f94292a4d76ae8c23684da",
       "value": "color_3"
      }
     },
     "6b8f0820ce5e43c796130647fa6eec1e": {
      "model_module": "@jupyter-widgets/controls",
      "model_module_version": "1.5.0",
      "model_name": "ButtonStyleModel",
      "state": {}
     },
     "6b9b12000c3449fd833f068eef7fefa7": {
      "model_module": "@jupyter-widgets/base",
      "model_module_version": "1.2.0",
      "model_name": "LayoutModel",
      "state": {}
     },
     "6baaf717d33f4125b9871fa60bac0a2f": {
      "model_module": "@jupyter-widgets/controls",
      "model_module_version": "1.5.0",
      "model_name": "TextModel",
      "state": {
       "continuous_update": false,
       "description": "name",
       "layout": "IPY_MODEL_dc6fe4ae93724ee697ccb6414fa8bd2b",
       "style": "IPY_MODEL_f8bb53ae98a6404eb9fbd8309f221e79",
       "value": "color_2"
      }
     },
     "6bbc88a5645f4f34bc382a3d79ab54d0": {
      "model_module": "@jupyter-widgets/controls",
      "model_module_version": "1.5.0",
      "model_name": "HBoxModel",
      "state": {
       "children": [
        "IPY_MODEL_b0fb1ac3eab4429faa1c3064bf965e64",
        "IPY_MODEL_13ef4f1f81a4430aa1f08839e278e50f"
       ],
       "layout": "IPY_MODEL_7e4f103663654092a3b6f3f18908d2a4"
      }
     },
     "6bdedae54c80433d896fd303f7e37987": {
      "model_module": "@jupyter-widgets/controls",
      "model_module_version": "1.5.0",
      "model_name": "HBoxModel",
      "state": {
       "children": [
        "IPY_MODEL_746de6547f2f4d878ec09579509f5e7d",
        "IPY_MODEL_699fdd8b68ce4088bee5ea97075c85ef"
       ],
       "layout": "IPY_MODEL_5a6aab1bb709492da4f69389f9069c24"
      }
     },
     "6be8b624abb24c98af91054c27cba856": {
      "model_module": "@jupyter-widgets/controls",
      "model_module_version": "1.5.0",
      "model_name": "ButtonStyleModel",
      "state": {}
     },
     "6c062a627e074314b2c9f10cb62a60ff": {
      "model_module": "@jupyter-widgets/controls",
      "model_module_version": "1.5.0",
      "model_name": "DescriptionStyleModel",
      "state": {
       "description_width": ""
      }
     },
     "6c671f207c164abd949a12ac8032908b": {
      "model_module": "@jupyter-widgets/base",
      "model_module_version": "1.2.0",
      "model_name": "LayoutModel",
      "state": {}
     },
     "6c692b6a751b4f9a87b763ae9a055554": {
      "model_module": "pgljupyter",
      "model_module_version": "^0.1.18",
      "model_name": "IntEditorModel",
      "state": {
       "_model_module_version": "^0.1.18",
       "_view_module_version": "^0.1.18",
       "children": [
        "IPY_MODEL_0d310866a28c4c1ab0562409f5a1baa5",
        "IPY_MODEL_543008b05d50479590c3d4e3bc492779"
       ],
       "layout": "IPY_MODEL_459815904a114cb9b092e8b2c8f014dd"
      }
     },
     "6c9077201cf9427b930095c29dff128d": {
      "model_module": "@jupyter-widgets/base",
      "model_module_version": "1.2.0",
      "model_name": "LayoutModel",
      "state": {}
     },
     "6cafa8125cbe44e2b212a499900a8f16": {
      "model_module": "@jupyter-widgets/controls",
      "model_module_version": "1.5.0",
      "model_name": "ButtonStyleModel",
      "state": {}
     },
     "6cb02b695e9b429fb82b362a464e95d4": {
      "model_module": "@jupyter-widgets/base",
      "model_module_version": "1.2.0",
      "model_name": "LayoutModel",
      "state": {}
     },
     "6cc1f038278244dfa83d00a7f7e12088": {
      "model_module": "@jupyter-widgets/controls",
      "model_module_version": "1.5.0",
      "model_name": "DescriptionStyleModel",
      "state": {
       "description_width": ""
      }
     },
     "6d1a398411bc4c81808725799dd684d4": {
      "model_module": "@jupyter-widgets/controls",
      "model_module_version": "1.5.0",
      "model_name": "DescriptionStyleModel",
      "state": {
       "description_width": ""
      }
     },
     "6d4072720b9f49d79f96a3e2beff6e17": {
      "model_module": "@jupyter-widgets/controls",
      "model_module_version": "1.5.0",
      "model_name": "ButtonStyleModel",
      "state": {}
     },
     "6d5e3a1f1f6e4037b118fad920b662c6": {
      "model_module": "@jupyter-widgets/controls",
      "model_module_version": "1.5.0",
      "model_name": "ButtonStyleModel",
      "state": {}
     },
     "6d8d2b229cc647d08308701c382a11a7": {
      "model_module": "@jupyter-widgets/base",
      "model_module_version": "1.2.0",
      "model_name": "LayoutModel",
      "state": {}
     },
     "6d9cd9fec46242309f65481bd57e1ab6": {
      "model_module": "@jupyter-widgets/controls",
      "model_module_version": "1.5.0",
      "model_name": "SliderStyleModel",
      "state": {
       "description_width": ""
      }
     },
     "6dc7af3ab18949c5af3d4e2a41944457": {
      "model_module": "@jupyter-widgets/controls",
      "model_module_version": "1.5.0",
      "model_name": "DescriptionStyleModel",
      "state": {
       "description_width": ""
      }
     },
     "6dcf6d518b354f35a404160bd83b6ff7": {
      "model_module": "@jupyter-widgets/base",
      "model_module_version": "1.2.0",
      "model_name": "LayoutModel",
      "state": {}
     },
     "6e149d6140aa4abca3c6a495c874087e": {
      "model_module": "@jupyter-widgets/controls",
      "model_module_version": "1.5.0",
      "model_name": "CheckboxModel",
      "state": {
       "description": "Auto apply",
       "disabled": false,
       "layout": "IPY_MODEL_2de7c371544e409a8f3f128430eeced9",
       "style": "IPY_MODEL_6c062a627e074314b2c9f10cb62a60ff",
       "value": false
      }
     },
     "6e86329f62f04d64897ff3b96a1bfe58": {
      "model_module": "@jupyter-widgets/base",
      "model_module_version": "1.2.0",
      "model_name": "LayoutModel",
      "state": {}
     },
     "6eb1ab587c7b4b10b6c7a97e430683cf": {
      "model_module": "@jupyter-widgets/controls",
      "model_module_version": "1.5.0",
      "model_name": "DescriptionStyleModel",
      "state": {
       "description_width": ""
      }
     },
     "6ec1cbd07a644f899b126df86b0690ab": {
      "model_module": "@jupyter-widgets/controls",
      "model_module_version": "1.5.0",
      "model_name": "SliderStyleModel",
      "state": {
       "description_width": ""
      }
     },
     "6ecb092e2f024e54ab3e5a0f2fecdaa1": {
      "model_module": "@jupyter-widgets/base",
      "model_module_version": "1.2.0",
      "model_name": "LayoutModel",
      "state": {}
     },
     "6f0a69f339134e55b948c90d45650703": {
      "model_module": "@jupyter-widgets/base",
      "model_module_version": "1.2.0",
      "model_name": "LayoutModel",
      "state": {}
     },
     "6f0f8070aff54befb01d59fb84b450b7": {
      "model_module": "@jupyter-widgets/controls",
      "model_module_version": "1.5.0",
      "model_name": "HBoxModel",
      "state": {
       "children": [
        "IPY_MODEL_d94927052fb046c4b476563ba1404936",
        "IPY_MODEL_bdd912ccd9594f2c93aaed30b1a57ee8"
       ],
       "layout": "IPY_MODEL_5404c74b739a4b1f9611340837468322"
      }
     },
     "6f100fcdb69247f5bfc0c8803ddbae68": {
      "model_module": "@jupyter-widgets/base",
      "model_module_version": "1.2.0",
      "model_name": "LayoutModel",
      "state": {
       "margin": "20px 0px"
      }
     },
     "6f1858b8e9c6421b9b4fe2362c1009c7": {
      "model_module": "@jupyter-widgets/base",
      "model_module_version": "1.2.0",
      "model_name": "LayoutModel",
      "state": {}
     },
     "6f5e6f5355bd440d8af5ee837dac75a9": {
      "model_module": "@jupyter-widgets/base",
      "model_module_version": "1.2.0",
      "model_name": "LayoutModel",
      "state": {
       "flex_flow": "row wrap",
       "margin": "20px"
      }
     },
     "6fd19ee64db44d74845df2372b542b69": {
      "model_module": "@jupyter-widgets/controls",
      "model_module_version": "1.5.0",
      "model_name": "ColorPickerModel",
      "state": {
       "description": "ambient",
       "disabled": false,
       "layout": "IPY_MODEL_dc9e29879357411bbba01c813ba6f9f4",
       "style": "IPY_MODEL_72a0a0e0aead47d2aa630983d0ff942c",
       "value": "#195717"
      }
     },
     "6fdc9886fdbf46dda46199abcd2ce19a": {
      "model_module": "@jupyter-widgets/controls",
      "model_module_version": "1.5.0",
      "model_name": "DescriptionStyleModel",
      "state": {
       "description_width": ""
      }
     },
     "6ff5f5b575424b1aadc6de709ae0596e": {
      "model_module": "@jupyter-widgets/controls",
      "model_module_version": "1.5.0",
      "model_name": "HBoxModel",
      "state": {
       "children": [
        "IPY_MODEL_ed6a7f88ae4744d49b47dd18c74fab70",
        "IPY_MODEL_a12bf960042943e8b1e8bbee51abb425"
       ],
       "layout": "IPY_MODEL_d522f154218a4d53baef2b0682693996"
      }
     },
     "6ffd3972526c43f5977af4b0b2029a29": {
      "model_module": "@jupyter-widgets/controls",
      "model_module_version": "1.5.0",
      "model_name": "DescriptionStyleModel",
      "state": {
       "description_width": ""
      }
     },
     "700dd60141fd4249986e07f948bfdfa6": {
      "model_module": "@jupyter-widgets/controls",
      "model_module_version": "1.5.0",
      "model_name": "HBoxModel",
      "state": {
       "children": [
        "IPY_MODEL_685f741bdde24dd9b6568dc83684456f",
        "IPY_MODEL_7c750cbcded74037bf60b8b54b2a479b"
       ],
       "layout": "IPY_MODEL_f84fb842bfdc4ca69b673ea45abcdf91"
      }
     },
     "7015fbbda9c047b391aecaeef63cd104": {
      "model_module": "@jupyter-widgets/base",
      "model_module_version": "1.2.0",
      "model_name": "LayoutModel",
      "state": {}
     },
     "70345d5e492f4c59a07d9d7fe6543942": {
      "model_module": "@jupyter-widgets/controls",
      "model_module_version": "1.5.0",
      "model_name": "DescriptionStyleModel",
      "state": {
       "description_width": ""
      }
     },
     "704c51f2b4274443ae0128fcab864aca": {
      "model_module": "pgljupyter",
      "model_module_version": "^0.1.18",
      "model_name": "IntEditorModel",
      "state": {
       "_model_module_version": "^0.1.18",
       "_view_module_version": "^0.1.18",
       "children": [
        "IPY_MODEL_3906a75a08ed413aba2363f7e4fa3366",
        "IPY_MODEL_2c4f8c87f0eb4c48a1315f8f85b34133"
       ],
       "layout": "IPY_MODEL_eba7cf85bd6046aca8a8d6411fcef311"
      }
     },
     "706b28339ad7452ea4636ed8533aa145": {
      "model_module": "@jupyter-widgets/base",
      "model_module_version": "1.2.0",
      "model_name": "LayoutModel",
      "state": {}
     },
     "70cd0cda1a844c278ad4555f50d5490a": {
      "model_module": "@jupyter-widgets/controls",
      "model_module_version": "1.5.0",
      "model_name": "ButtonStyleModel",
      "state": {}
     },
     "70dda571646341ceb6f35058be924baf": {
      "model_module": "@jupyter-widgets/controls",
      "model_module_version": "1.5.0",
      "model_name": "ColorPickerModel",
      "state": {
       "description": "emission",
       "disabled": false,
       "layout": "IPY_MODEL_13642e1addcd465cbd7d516a101c2713",
       "style": "IPY_MODEL_b042067711c749ddbe44af8d0b266773",
       "value": "#000000"
      }
     },
     "70f57e2c0344454288ed8ac17019df5e": {
      "model_module": "@jupyter-widgets/base",
      "model_module_version": "1.2.0",
      "model_name": "LayoutModel",
      "state": {}
     },
     "71181c0856bf4f019a94995d5325d299": {
      "model_module": "@jupyter-widgets/controls",
      "model_module_version": "1.5.0",
      "model_name": "DescriptionStyleModel",
      "state": {
       "description_width": ""
      }
     },
     "715606022a044632ac89eb213623d18a": {
      "model_module": "@jupyter-widgets/controls",
      "model_module_version": "1.5.0",
      "model_name": "BoundedIntTextModel",
      "state": {
       "description": "step",
       "layout": "IPY_MODEL_5532c2cdd5f24b1ebfeff4de061e7901",
       "min": 1,
       "style": "IPY_MODEL_e41cb6704a0a4c06a028ae53e9f988ee",
       "value": 1
      }
     },
     "718976f5e4da429abce9bf4719b35303": {
      "model_module": "@jupyter-widgets/controls",
      "model_module_version": "1.5.0",
      "model_name": "ButtonStyleModel",
      "state": {}
     },
     "71bb87308f7f413585405d1a1df6ad8f": {
      "model_module": "@jupyter-widgets/controls",
      "model_module_version": "1.5.0",
      "model_name": "BoundedIntTextModel",
      "state": {
       "description": "step",
       "layout": "IPY_MODEL_d3b85fda8a3a4608a7bd96283095fedd",
       "min": 1,
       "style": "IPY_MODEL_5f35732199e94b7981ff948790caec12",
       "value": 1
      }
     },
     "71bc512b2098424d90eb915826bf82e4": {
      "model_module": "@jupyter-widgets/base",
      "model_module_version": "1.2.0",
      "model_name": "LayoutModel",
      "state": {}
     },
     "720602bd96314ddbb7e19314e2bb1ac7": {
      "model_module": "@jupyter-widgets/base",
      "model_module_version": "1.2.0",
      "model_name": "LayoutModel",
      "state": {}
     },
     "72233f9b078644c7b23019e335582338": {
      "model_module": "@jupyter-widgets/base",
      "model_module_version": "1.2.0",
      "model_name": "LayoutModel",
      "state": {}
     },
     "726ea6227a9140b58c2e2db0b3c05e1f": {
      "model_module": "@jupyter-widgets/base",
      "model_module_version": "1.2.0",
      "model_name": "LayoutModel",
      "state": {
       "margin": "20px 0px"
      }
     },
     "727da00b96284e60887f830c92663006": {
      "model_module": "@jupyter-widgets/controls",
      "model_module_version": "1.5.0",
      "model_name": "HBoxModel",
      "state": {
       "children": [
        "IPY_MODEL_04cbb9188a174a70bb551de95a1ec0a3",
        "IPY_MODEL_9c81b23cc78347d3b3f5498f783fd5c4"
       ],
       "layout": "IPY_MODEL_fe9595ab730a4f21a90e37b95c64eb35"
      }
     },
     "7293a88c1ab941aabcecd4f6d4f03a08": {
      "model_module": "@jupyter-widgets/base",
      "model_module_version": "1.2.0",
      "model_name": "LayoutModel",
      "state": {}
     },
     "72a0a0e0aead47d2aa630983d0ff942c": {
      "model_module": "@jupyter-widgets/controls",
      "model_module_version": "1.5.0",
      "model_name": "DescriptionStyleModel",
      "state": {
       "description_width": ""
      }
     },
     "73496737da0c4b479a2e43c89062fdf3": {
      "model_module": "@jupyter-widgets/controls",
      "model_module_version": "1.5.0",
      "model_name": "AccordionModel",
      "state": {
       "_titles": {
        "0": "options",
        "1": "materials",
        "2": "leaf"
       },
       "children": [
        "IPY_MODEL_3036709698c94d53ac94124615b9612e",
        "IPY_MODEL_b8b9b3ffeaac416c9b974d5332062d10",
        "IPY_MODEL_353ddb1420fc4c4b98046d215b3a0a75"
       ],
       "layout": "IPY_MODEL_1b44d596a79d4717bb36340cb0ec6094"
      }
     },
     "737e4a4107604e689afd07fac4b3e826": {
      "model_module": "@jupyter-widgets/controls",
      "model_module_version": "1.5.0",
      "model_name": "HBoxModel",
      "state": {
       "children": [
        "IPY_MODEL_ce2c33204f164aad889970e5a43d3a08",
        "IPY_MODEL_ab189c2f0b2140e991588634d1926a8d"
       ],
       "layout": "IPY_MODEL_f84fb842bfdc4ca69b673ea45abcdf91"
      }
     },
     "73c2343975874c018e3bdb7a49cd342d": {
      "model_module": "@jupyter-widgets/controls",
      "model_module_version": "1.5.0",
      "model_name": "DropdownModel",
      "state": {
       "_options_labels": [
        "trunk",
        "leaf_new",
        "apex",
        "leaf_old"
       ],
       "index": 0,
       "layout": "IPY_MODEL_25d30d60259b4572b8731631d759ac9a",
       "style": "IPY_MODEL_0a200097686c4829bf34b9b3a60ec5a8"
      }
     },
     "73f23e73ddf440029997bd7411d5ebcb": {
      "model_module": "@jupyter-widgets/controls",
      "model_module_version": "1.5.0",
      "model_name": "HBoxModel",
      "state": {
       "children": [
        "IPY_MODEL_782bd34cf5564501951efef7290ab675",
        "IPY_MODEL_d3295221ce1f424ebee2f857573f74f6"
       ],
       "layout": "IPY_MODEL_a74963dac2344d5ab99396cfdd373704"
      }
     },
     "741f71d31ee4432f826a1a5983faff8b": {
      "model_module": "pgljupyter",
      "model_module_version": "^0.1.16",
      "model_name": "FloatEditorModel",
      "state": {
       "_model_module_version": "^0.1.16",
       "_view_module_version": "^0.1.16",
       "children": [
        "IPY_MODEL_161390ba99e04b138bc28fa9c249c180",
        "IPY_MODEL_203480e9c215468ea9ab336c23360aec",
        "IPY_MODEL_f6bd143eb72a4021a9ee1d0db9b45016",
        "IPY_MODEL_436612109cc345eab450803b93d883e8",
        "IPY_MODEL_9d12e0ef939e4807b6d9a006fce2d523"
       ],
       "layout": "IPY_MODEL_b763b1260b354b23ae6671768bc4a076"
      }
     },
     "742b7af996de41e68d2fba76c3bf71d8": {
      "model_module": "@jupyter-widgets/controls",
      "model_module_version": "1.5.0",
      "model_name": "ButtonStyleModel",
      "state": {}
     },
     "743b4d10e04e429daa73128e21f65475": {
      "model_module": "@jupyter-widgets/controls",
      "model_module_version": "1.5.0",
      "model_name": "BoundedIntTextModel",
      "state": {
       "description": "index",
       "layout": "IPY_MODEL_f3c024e88d6640b3b187291687dc790d",
       "style": "IPY_MODEL_2a3d358efbf34acb9c7a60be2b6f23ae",
       "value": 4
      }
     },
     "744795a86db044f098523c400f8e0b54": {
      "model_module": "@jupyter-widgets/controls",
      "model_module_version": "1.5.0",
      "model_name": "DropdownModel",
      "state": {
       "_options_labels": [
        "color_1",
        "color_2",
        "color_3",
        "color_4"
       ],
       "index": 0,
       "layout": "IPY_MODEL_b170506f70d34c96b69cc2e6cb10b936",
       "style": "IPY_MODEL_455df1ed61f5486cac7c517343725455"
      }
     },
     "745b3376562c41a59ce78b7fb72eac55": {
      "model_module": "@jupyter-widgets/controls",
      "model_module_version": "1.5.0",
      "model_name": "FloatSliderModel",
      "state": {
       "description": "shininess",
       "layout": "IPY_MODEL_2cf86b3c818d4ae9854cb7c3aba3e9e5",
       "max": 1,
       "step": 0.1,
       "style": "IPY_MODEL_cc14692e35cc4df3a41f6c4a0b9ab26e",
       "value": 0.2
      }
     },
     "746de6547f2f4d878ec09579509f5e7d": {
      "model_module": "@jupyter-widgets/controls",
      "model_module_version": "1.5.0",
      "model_name": "HBoxModel",
      "state": {
       "children": [
        "IPY_MODEL_2cebf6544aeb43e5867b20b905a27538",
        "IPY_MODEL_b5d23766ee1b4de98cd72e67ca0961f4"
       ],
       "layout": "IPY_MODEL_fdfa37b789c94f49849c21a3d2bec28a"
      }
     },
     "74bb39c50046421c8cf174ea8b853142": {
      "model_module": "@jupyter-widgets/controls",
      "model_module_version": "1.5.0",
      "model_name": "HBoxModel",
      "state": {
       "layout": "IPY_MODEL_8d56c586bca3464d8c5cb36ae761ba46"
      }
     },
     "74dde666b12e4ccdbc62eb47f41ed106": {
      "model_module": "@jupyter-widgets/controls",
      "model_module_version": "1.5.0",
      "model_name": "DescriptionStyleModel",
      "state": {
       "description_width": ""
      }
     },
     "754a8ec29fb14d7087455060f4d25989": {
      "model_module": "@jupyter-widgets/controls",
      "model_module_version": "1.5.0",
      "model_name": "DescriptionStyleModel",
      "state": {
       "description_width": ""
      }
     },
     "754eef940be14d05ae2afa1c1b3f2e0d": {
      "model_module": "@jupyter-widgets/controls",
      "model_module_version": "1.5.0",
      "model_name": "HBoxModel",
      "state": {
       "layout": "IPY_MODEL_5ffcfabea4324e77ba7847c89942d8f5"
      }
     },
     "7607d9a6764a4b5585e648fdb1289c55": {
      "model_module": "@jupyter-widgets/controls",
      "model_module_version": "1.5.0",
      "model_name": "HBoxModel",
      "state": {
       "children": [
        "IPY_MODEL_79313a604b5a4876b96188649d9844ed",
        "IPY_MODEL_8e07259218964759aa0e3756812d03d4",
        "IPY_MODEL_3e2965ac15734eacbe93346089045d2a",
        "IPY_MODEL_741f71d31ee4432f826a1a5983faff8b",
        "IPY_MODEL_26b2b92b694649c3b974782805831251"
       ],
       "layout": "IPY_MODEL_5a7768daa7114d36b770ea435fe36cec"
      }
     },
     "761fbbca71f145a5969c4290b8309933": {
      "model_module": "@jupyter-widgets/base",
      "model_module_version": "1.2.0",
      "model_name": "LayoutModel",
      "state": {
       "margin": "20px 0px"
      }
     },
     "767069b5239041d1a94bed85e955db0b": {
      "model_module": "@jupyter-widgets/controls",
      "model_module_version": "1.5.0",
      "model_name": "HBoxModel",
      "state": {
       "children": [
        "IPY_MODEL_2b91b62c30f74a2d80349a21cd49380b",
        "IPY_MODEL_f142e994cc534a86867a64e2eda8db55"
       ],
       "layout": "IPY_MODEL_7e4f103663654092a3b6f3f18908d2a4"
      }
     },
     "768416184c784ccc90f3432b6d9b15da": {
      "model_module": "@jupyter-widgets/controls",
      "model_module_version": "1.5.0",
      "model_name": "DescriptionStyleModel",
      "state": {
       "description_width": ""
      }
     },
     "7684bf627af64c99a1beb3e9c3800d93": {
      "model_module": "@jupyter-widgets/base",
      "model_module_version": "1.2.0",
      "model_name": "LayoutModel",
      "state": {}
     },
     "76962f026cd343edbb2be1f47b259f8e": {
      "model_module": "@jupyter-widgets/controls",
      "model_module_version": "1.5.0",
      "model_name": "DropdownModel",
      "state": {
       "_options_labels": [
        "color_1",
        "color_2",
        "color_3",
        "color_4"
       ],
       "index": 0,
       "layout": "IPY_MODEL_41cc1db02ba64e62b40ee9b19a788ac1",
       "style": "IPY_MODEL_164bcfa6695d41c4828175244e8404ae"
      }
     },
     "769de7cf8d7e429d8f80a5713fb7ebfa": {
      "model_module": "@jupyter-widgets/base",
      "model_module_version": "1.2.0",
      "model_name": "LayoutModel",
      "state": {}
     },
     "76a7891c95b448d2af9b34121cc3d931": {
      "model_module": "@jupyter-widgets/controls",
      "model_module_version": "1.5.0",
      "model_name": "HBoxModel",
      "state": {
       "children": [
        "IPY_MODEL_c857186aabb743a182bad020b5b61e91"
       ],
       "layout": "IPY_MODEL_f84fb842bfdc4ca69b673ea45abcdf91"
      }
     },
     "76ebe3b2efb042b0b745b891af6193b3": {
      "model_module": "@jupyter-widgets/controls",
      "model_module_version": "1.5.0",
      "model_name": "DescriptionStyleModel",
      "state": {
       "description_width": ""
      }
     },
     "76fa5974fc594088898aeca9c0523cbd": {
      "model_module": "@jupyter-widgets/base",
      "model_module_version": "1.2.0",
      "model_name": "LayoutModel",
      "state": {}
     },
     "7712426c5f4b4063af82886fae09a405": {
      "model_module": "@jupyter-widgets/base",
      "model_module_version": "1.2.0",
      "model_name": "LayoutModel",
      "state": {}
     },
     "7740beb2c49f45218e9e7fa1fe1a8432": {
      "model_module": "@jupyter-widgets/base",
      "model_module_version": "1.2.0",
      "model_name": "LayoutModel",
      "state": {}
     },
     "77bb0a66c7374c4d92144e5900b028a0": {
      "model_module": "@jupyter-widgets/controls",
      "model_module_version": "1.5.0",
      "model_name": "HBoxModel",
      "state": {
       "children": [
        "IPY_MODEL_af76f68e255a49a9a097846d5b100896",
        "IPY_MODEL_93d66b3b8d5148e096acb7c3b08dcb94"
       ],
       "layout": "IPY_MODEL_78dff3c9b0ab4092885a4681b708b9c4"
      }
     },
     "77fc433d7ea240f0b05864afbc6f627a": {
      "model_module": "@jupyter-widgets/base",
      "model_module_version": "1.2.0",
      "model_name": "LayoutModel",
      "state": {
       "flex_flow": "row wrap"
      }
     },
     "7820f3eb666143e08c9689ceabf9f92e": {
      "model_module": "@jupyter-widgets/controls",
      "model_module_version": "1.5.0",
      "model_name": "ColorPickerModel",
      "state": {
       "description": "specular",
       "disabled": false,
       "layout": "IPY_MODEL_fb438b1cc1484336bb3533aa50de8e15",
       "style": "IPY_MODEL_38c72ff473424ad9bfe39cfda219b63e",
       "value": "#282828"
      }
     },
     "782bd34cf5564501951efef7290ab675": {
      "model_module": "@jupyter-widgets/controls",
      "model_module_version": "1.5.0",
      "model_name": "ButtonModel",
      "state": {
       "description": "Add",
       "layout": "IPY_MODEL_b896d4c5ba084261b9772c2ec6244463",
       "style": "IPY_MODEL_2d0c3904e1ae45eaa6ffc4291f335b1f"
      }
     },
     "7844922bdc964f79876f85b1d4fdf8b4": {
      "model_module": "@jupyter-widgets/controls",
      "model_module_version": "1.5.0",
      "model_name": "DescriptionStyleModel",
      "state": {
       "description_width": ""
      }
     },
     "7847f6e3bd894ee48f1555c248f27c90": {
      "model_module": "@jupyter-widgets/controls",
      "model_module_version": "1.5.0",
      "model_name": "DropdownModel",
      "state": {
       "_options_labels": [
        "Integer",
        "Float",
        "Bool"
       ],
       "index": 0,
       "layout": "IPY_MODEL_d35e87005bca48c5862abf4e837a1469",
       "style": "IPY_MODEL_3de3b034852b47c9a285b62f838b9986"
      }
     },
     "7854ff74524f4fe689ec29f12ee822fa": {
      "model_module": "@jupyter-widgets/controls",
      "model_module_version": "1.5.0",
      "model_name": "DescriptionStyleModel",
      "state": {
       "description_width": ""
      }
     },
     "7878f40721f94603b8bcdf02db2a6f8c": {
      "model_module": "@jupyter-widgets/controls",
      "model_module_version": "1.5.0",
      "model_name": "ButtonStyleModel",
      "state": {}
     },
     "78dff3c9b0ab4092885a4681b708b9c4": {
      "model_module": "@jupyter-widgets/base",
      "model_module_version": "1.2.0",
      "model_name": "LayoutModel",
      "state": {
       "flex_flow": "row wrap",
       "margin": "20px"
      }
     },
     "78f64a9316a54addbb907fdb74325de3": {
      "model_module": "@jupyter-widgets/base",
      "model_module_version": "1.2.0",
      "model_name": "LayoutModel",
      "state": {}
     },
     "79313a604b5a4876b96188649d9844ed": {
      "model_module": "pgljupyter",
      "model_module_version": "^0.1.16",
      "model_name": "IntEditorModel",
      "state": {
       "_model_module_version": "^0.1.16",
       "_view_module_version": "^0.1.16",
       "children": [
        "IPY_MODEL_5151e6200d794a008b1bd7d40fbc162c",
        "IPY_MODEL_240b06896b1447a29608ee2c0041a5bc",
        "IPY_MODEL_cd863832ae4f4c2a9fb4238d4fe72b7d",
        "IPY_MODEL_b233f15e47474a7198fb26deae803dcc",
        "IPY_MODEL_b4f90847a77b4195b5dc4d2c29806c64"
       ],
       "layout": "IPY_MODEL_f41ebca09dd94958b840510087992ffe"
      }
     },
     "794d157bf0ff435fa7c3c39274a2f7b7": {
      "model_module": "@jupyter-widgets/controls",
      "model_module_version": "1.5.0",
      "model_name": "DescriptionStyleModel",
      "state": {
       "description_width": ""
      }
     },
     "797b6487137c40879ec2abec33dc8535": {
      "model_module": "@jupyter-widgets/base",
      "model_module_version": "1.2.0",
      "model_name": "LayoutModel",
      "state": {}
     },
     "7a33b0c7ad914ade99bfb96985353f2e": {
      "model_module": "@jupyter-widgets/base",
      "model_module_version": "1.2.0",
      "model_name": "LayoutModel",
      "state": {}
     },
     "7a99d133c96c4e7bac722c58641e6bc6": {
      "model_module": "@jupyter-widgets/base",
      "model_module_version": "1.2.0",
      "model_name": "LayoutModel",
      "state": {}
     },
     "7aab530945c249e3a941d757c0ccee92": {
      "model_module": "@jupyter-widgets/controls",
      "model_module_version": "1.5.0",
      "model_name": "DropdownModel",
      "state": {
       "_options_labels": [
        "Color"
       ],
       "index": 0,
       "layout": "IPY_MODEL_908f4ca4949b494db14fc5156aab2cd9",
       "style": "IPY_MODEL_aef6b743295f42189e95981f47848542"
      }
     },
     "7ab21dc191f244d38e02875852ce1635": {
      "model_module": "@jupyter-widgets/base",
      "model_module_version": "1.2.0",
      "model_name": "LayoutModel",
      "state": {}
     },
     "7adadb4124b24f179bc60882cf6ae00a": {
      "model_module": "@jupyter-widgets/base",
      "model_module_version": "1.2.0",
      "model_name": "LayoutModel",
      "state": {}
     },
     "7ae3718b0ae34394a27bdb7f6b8e878f": {
      "model_module": "@jupyter-widgets/controls",
      "model_module_version": "1.5.0",
      "model_name": "SliderStyleModel",
      "state": {
       "description_width": ""
      }
     },
     "7b1a55ba2ac3453b99b92e17130c6a1e": {
      "model_module": "@jupyter-widgets/base",
      "model_module_version": "1.2.0",
      "model_name": "LayoutModel",
      "state": {}
     },
     "7b1f4521fe574a5e82c85c51dbb7d298": {
      "model_module": "pgljupyter",
      "model_module_version": "^0.1.18",
      "model_name": "FloatEditorModel",
      "state": {
       "_model_module_version": "^0.1.18",
       "_view_module_version": "^0.1.18",
       "children": [
        "IPY_MODEL_99a8e99bf57142b881b83b3908b78915",
        "IPY_MODEL_51920d8d6d7c4da288410f94a97533ff"
       ],
       "layout": "IPY_MODEL_ea2eda2ed0bb482faa1ed22e03e210b0"
      }
     },
     "7b26c458dc7d4deba33285df9fe694dc": {
      "model_module": "@jupyter-widgets/controls",
      "model_module_version": "1.5.0",
      "model_name": "HBoxModel",
      "state": {
       "children": [
        "IPY_MODEL_727da00b96284e60887f830c92663006",
        "IPY_MODEL_0c3bbdec026d428494f07dd37de034a8",
        "IPY_MODEL_2bc9612a3671413583aacf103d7434c3"
       ],
       "layout": "IPY_MODEL_f5d36d54332540779b373371ce91389e"
      }
     },
     "7b34d047a75145ef93c9d2ba934f66f1": {
      "model_module": "@jupyter-widgets/base",
      "model_module_version": "1.2.0",
      "model_name": "LayoutModel",
      "state": {}
     },
     "7b4693667f2d4338a8c79a9c6641cc55": {
      "model_module": "@jupyter-widgets/base",
      "model_module_version": "1.2.0",
      "model_name": "LayoutModel",
      "state": {}
     },
     "7b502ee9562a44e597515087db33b653": {
      "model_module": "@jupyter-widgets/controls",
      "model_module_version": "1.5.0",
      "model_name": "DropdownModel",
      "state": {
       "index": null,
       "layout": "IPY_MODEL_43a396464ca047eb82af9b0128d1a7b9",
       "style": "IPY_MODEL_fd08b70fb3e142cb98e6e66d7a86f160"
      }
     },
     "7b56ea7a659047479a11f64be222d2ea": {
      "model_module": "@jupyter-widgets/controls",
      "model_module_version": "1.5.0",
      "model_name": "FloatSliderModel",
      "state": {
       "description": "shininess",
       "layout": "IPY_MODEL_5d6b91526f5c4f069888276c86e31117",
       "max": 1,
       "step": 0.1,
       "style": "IPY_MODEL_1fac97fbb78942428b45f4a29eff0181",
       "value": 0.2
      }
     },
     "7b577b3b68b746a29a5e6e041152e745": {
      "model_module": "@jupyter-widgets/controls",
      "model_module_version": "1.5.0",
      "model_name": "SliderStyleModel",
      "state": {
       "description_width": ""
      }
     },
     "7bd0ba7ae13849c1a3991f5c1fc76a3f": {
      "model_module": "@jupyter-widgets/controls",
      "model_module_version": "1.5.0",
      "model_name": "DescriptionStyleModel",
      "state": {
       "description_width": ""
      }
     },
     "7be0e86f808844688593b2ba1a25b20d": {
      "model_module": "@jupyter-widgets/controls",
      "model_module_version": "1.5.0",
      "model_name": "DescriptionStyleModel",
      "state": {
       "description_width": ""
      }
     },
     "7c0c38291061419390dbeba93ef4ef19": {
      "model_module": "@jupyter-widgets/controls",
      "model_module_version": "1.5.0",
      "model_name": "BoundedIntTextModel",
      "state": {
       "description": "index",
       "layout": "IPY_MODEL_fef2dad388044251aeb285ace627b9c7",
       "style": "IPY_MODEL_0dd2e4883c6742ebb5b505b2aecc37c1",
       "value": 4
      }
     },
     "7c1611d1648a473b93d3600459b16a6f": {
      "model_module": "@jupyter-widgets/base",
      "model_module_version": "1.2.0",
      "model_name": "LayoutModel",
      "state": {}
     },
     "7c3d32abecd84c22aa8e83abca17afd6": {
      "model_module": "@jupyter-widgets/base",
      "model_module_version": "1.2.0",
      "model_name": "LayoutModel",
      "state": {
       "margin": "20px 0px"
      }
     },
     "7c495f80dfa7400dbddaade48310293e": {
      "model_module": "@jupyter-widgets/base",
      "model_module_version": "1.2.0",
      "model_name": "LayoutModel",
      "state": {}
     },
     "7c4db97ead9f439e8fe449d24de9b82d": {
      "model_module": "@jupyter-widgets/controls",
      "model_module_version": "1.5.0",
      "model_name": "DescriptionStyleModel",
      "state": {
       "description_width": ""
      }
     },
     "7c6bc321cc134eba81eea73eeb840f28": {
      "model_module": "@jupyter-widgets/base",
      "model_module_version": "1.2.0",
      "model_name": "LayoutModel",
      "state": {}
     },
     "7c7176c2637047769f684c2d030b2393": {
      "model_module": "@jupyter-widgets/controls",
      "model_module_version": "1.5.0",
      "model_name": "ButtonModel",
      "state": {
       "description": "Add",
       "layout": "IPY_MODEL_28ac8517ff6543888b7ae35a5a88a964",
       "style": "IPY_MODEL_33a25a7f6c774d99a2ad689dcc5a28a6"
      }
     },
     "7c750cbcded74037bf60b8b54b2a479b": {
      "model_module": "@jupyter-widgets/controls",
      "model_module_version": "1.5.0",
      "model_name": "HBoxModel",
      "state": {
       "children": [
        "IPY_MODEL_9312767b442f47bc9228a5a34c6c8271",
        "IPY_MODEL_007b8ebb7e7d4caaad2e0c237439f3d5"
       ],
       "layout": "IPY_MODEL_11c371c9845b4b36a2e2cf814146ef9b"
      }
     },
     "7c9ff33ce6ef4aa9ac024f1cf91f4faf": {
      "model_module": "pgljupyter",
      "model_module_version": "^0.1.18",
      "model_name": "MaterialEditorModel",
      "state": {
       "_model_module_version": "^0.1.18",
       "_view_module_version": "^0.1.18",
       "children": [
        "IPY_MODEL_f600a6ae2e384964b8cef48223b138d5",
        "IPY_MODEL_de4816681729453fbf133b79ff9974ac",
        "IPY_MODEL_f4f80c8cf6b444139f0df44cf6b171cc",
        "IPY_MODEL_c3c827131f134d53a63ac1630295a9db",
        "IPY_MODEL_3b6e5ecfd1944c16b6776d9fc68b197f",
        "IPY_MODEL_c1a7e756fd674170a661ab6dcc62f7a9",
        "IPY_MODEL_85903b91b9dd494fbb3a0709f0684652",
        "IPY_MODEL_c874010bc6f24cc38736c49375396273"
       ],
       "layout": "IPY_MODEL_33370c23f7f94edbae64929f7be4a58c"
      }
     },
     "7ca3a8c138b64f70941125a4b01033f9": {
      "model_module": "@jupyter-widgets/base",
      "model_module_version": "1.2.0",
      "model_name": "LayoutModel",
      "state": {}
     },
     "7cdabb93fcbc40419bf289a63174c418": {
      "model_module": "@jupyter-widgets/controls",
      "model_module_version": "1.5.0",
      "model_name": "HBoxModel",
      "state": {
       "children": [
        "IPY_MODEL_a1906644e02d4f33ae8f642c8841461f",
        "IPY_MODEL_930ad9faa5584ea6b9760fd12a63f4ea"
       ],
       "layout": "IPY_MODEL_f2cedfd93f164c5997b034682b7dd6d1"
      }
     },
     "7cf3624548d34c2082dbac79e56a76bf": {
      "model_module": "@jupyter-widgets/controls",
      "model_module_version": "1.5.0",
      "model_name": "DescriptionStyleModel",
      "state": {
       "description_width": ""
      }
     },
     "7d00e5b6fac64279ab76b336056511c0": {
      "model_module": "pgljupyter",
      "model_module_version": "^0.1.16",
      "model_name": "MaterialEditorModel",
      "state": {
       "_model_module_version": "^0.1.16",
       "_view_module_version": "^0.1.16",
       "children": [
        "IPY_MODEL_5fe590f048484a3ba28067befd41b28a",
        "IPY_MODEL_26dd1eed428440a1bb6365baf44e75c4",
        "IPY_MODEL_6fd19ee64db44d74845df2372b542b69",
        "IPY_MODEL_280f5706c53c48bd96c1f0c3b5a82955",
        "IPY_MODEL_c11321e762b3422997689f94db4a71c8",
        "IPY_MODEL_ebe128ea294142459765d6098ca68e1a",
        "IPY_MODEL_8f0d237bd2814cfa98534d804a75bd38",
        "IPY_MODEL_2da2625474d444a4a745acca04a53c1f"
       ],
       "layout": "IPY_MODEL_b7eb7c1fbc2c4fbab9ae3ae154813316"
      }
     },
     "7d0e2b7c25dc4c5799f79fba3304581d": {
      "model_module": "@jupyter-widgets/controls",
      "model_module_version": "1.5.0",
      "model_name": "FloatSliderModel",
      "state": {
       "description": "diffuse",
       "layout": "IPY_MODEL_0f0d4a7590e043609aea67d90c471282",
       "max": 3,
       "step": 0.1,
       "style": "IPY_MODEL_ed4b23b4eff1497396c94a783926d260",
       "value": 1
      }
     },
     "7d4841eb52e849b792078e35434add1c": {
      "model_module": "@jupyter-widgets/base",
      "model_module_version": "1.2.0",
      "model_name": "LayoutModel",
      "state": {}
     },
     "7d638b1bb84145df842f1629b3b977bb": {
      "model_module": "@jupyter-widgets/base",
      "model_module_version": "1.2.0",
      "model_name": "LayoutModel",
      "state": {
       "flex_flow": "row wrap"
      }
     },
     "7d8071eaf7bf4f66bad90564ee5855bb": {
      "model_module": "pgljupyter",
      "model_module_version": "^0.1.19",
      "model_name": "IntEditorModel",
      "state": {
       "_model_module_version": "^0.1.19",
       "_view_module_version": "^0.1.19",
       "children": [
        "IPY_MODEL_ae6fd33e7b08418d94791d38e5190ea4",
        "IPY_MODEL_d3d0321f778b46a983a5df14ef76dfa1"
       ],
       "layout": "IPY_MODEL_a4778b701d8d479488af98ccfba9a85d"
      }
     },
     "7d994118bafc4c709d4e82c6555c0cdf": {
      "model_module": "@jupyter-widgets/controls",
      "model_module_version": "1.5.0",
      "model_name": "ButtonModel",
      "state": {
       "description": "Delete category",
       "layout": "IPY_MODEL_0a5f03bd97534a8ca13154d454ca0303",
       "style": "IPY_MODEL_3b3e23c52c034fbba7d416e65c71d04a"
      }
     },
     "7e1a9142f68a44bb85b87c9ed44b26f9": {
      "model_module": "@jupyter-widgets/base",
      "model_module_version": "1.2.0",
      "model_name": "LayoutModel",
      "state": {}
     },
     "7e4f103663654092a3b6f3f18908d2a4": {
      "model_module": "@jupyter-widgets/base",
      "model_module_version": "1.2.0",
      "model_name": "LayoutModel",
      "state": {
       "flex_flow": "row wrap",
       "margin": "20px"
      }
     },
     "7e6af95120bf4e8eab6ad088d08bf589": {
      "model_module": "@jupyter-widgets/base",
      "model_module_version": "1.2.0",
      "model_name": "LayoutModel",
      "state": {}
     },
     "7eb67cc5e07d4226b2341c889e12afdc": {
      "model_module": "pgljupyter",
      "model_module_version": "^0.1.18",
      "model_name": "FloatEditorModel",
      "state": {
       "_model_module_version": "^0.1.18",
       "_view_module_version": "^0.1.18",
       "children": [
        "IPY_MODEL_3969e43bd2ff40cd9083e491f4ee8a61",
        "IPY_MODEL_20e00e78d72c45a192c02ce598d26a33"
       ],
       "layout": "IPY_MODEL_6f100fcdb69247f5bfc0c8803ddbae68"
      }
     },
     "7ec9db9a54454f7cb858727c3b9c3b2c": {
      "model_module": "@jupyter-widgets/controls",
      "model_module_version": "1.5.0",
      "model_name": "FloatSliderModel",
      "state": {
       "description": "shininess",
       "layout": "IPY_MODEL_8fa2131f64aa4931a8055494da690356",
       "max": 1,
       "step": 0.1,
       "style": "IPY_MODEL_54d1e2ab11364b3286e48fbc06e2c9dc",
       "value": 0.2
      }
     },
     "7ee5793271fa419b8cf938c7cdd42829": {
      "model_module": "@jupyter-widgets/controls",
      "model_module_version": "1.5.0",
      "model_name": "DescriptionStyleModel",
      "state": {
       "description_width": ""
      }
     },
     "7f20014dd702433aad34bf992652d5b2": {
      "model_module": "@jupyter-widgets/controls",
      "model_module_version": "1.5.0",
      "model_name": "DropdownModel",
      "state": {
       "_options_labels": [
        "NurbsCurve2D",
        "BezierCurve2D",
        "Polyline2D",
        "Function"
       ],
       "index": 0,
       "layout": "IPY_MODEL_0514c99c868447989415c25ff4d7162a",
       "style": "IPY_MODEL_4d1b7f47fb8742fc8f79ea08ede8715b"
      }
     },
     "7f28069d37a34840971aedd32085c8f9": {
      "model_module": "@jupyter-widgets/controls",
      "model_module_version": "1.5.0",
      "model_name": "DropdownModel",
      "state": {
       "_options_labels": [
        "NurbsCurve2D",
        "BezierCurve2D",
        "Polyline2D",
        "Function"
       ],
       "index": 0,
       "layout": "IPY_MODEL_4f2e7e2a7b8a4fccaec815c1a8349f02",
       "style": "IPY_MODEL_0cf1ba00ad3c4151acf3b5aaf9391ece"
      }
     },
     "7f4e36825ae64c65830760a42614b069": {
      "model_module": "@jupyter-widgets/controls",
      "model_module_version": "1.5.0",
      "model_name": "IntSliderModel",
      "state": {
       "description": "value",
       "layout": "IPY_MODEL_f786377f3c8f4c4db4d47255efae9e90",
       "max": 10,
       "min": 1,
       "style": "IPY_MODEL_ffe3a14526fc4001b47eb439d2875e4a",
       "value": 2
      }
     },
     "7fa3fc5095444041b8bf59eb82ee0f1b": {
      "model_module": "@jupyter-widgets/controls",
      "model_module_version": "1.5.0",
      "model_name": "HBoxModel",
      "state": {
       "children": [
        "IPY_MODEL_da13191a83f844c595b3cff32e04df31",
        "IPY_MODEL_044e7d5484c34640988858fe96fcfdd6"
       ],
       "layout": "IPY_MODEL_57495b8ed5ac4554811c23e6cec15699"
      }
     },
     "7ff69b0f459c406da1dcf1b6b9ea1d85": {
      "model_module": "@jupyter-widgets/controls",
      "model_module_version": "1.5.0",
      "model_name": "SliderStyleModel",
      "state": {
       "description_width": ""
      }
     },
     "8012ed3ed86e4af7aa93a0d0174addd1": {
      "model_module": "@jupyter-widgets/controls",
      "model_module_version": "1.5.0",
      "model_name": "FloatSliderModel",
      "state": {
       "description": "diffuse",
       "layout": "IPY_MODEL_cb8ca0e6e0eb421686668ef1c62fece3",
       "max": 3,
       "step": 0.1,
       "style": "IPY_MODEL_dc53693171ca4e6f859008d9f7934f2e",
       "value": 1
      }
     },
     "801c820f9e6246b9b3ed03e09a503e66": {
      "model_module": "@jupyter-widgets/base",
      "model_module_version": "1.2.0",
      "model_name": "LayoutModel",
      "state": {}
     },
     "801c9757e2284ae99ecc9a5a8bffc9da": {
      "model_module": "@jupyter-widgets/controls",
      "model_module_version": "1.5.0",
      "model_name": "DescriptionStyleModel",
      "state": {
       "description_width": ""
      }
     },
     "80301650537045819e119da69d2e1eaf": {
      "model_module": "@jupyter-widgets/controls",
      "model_module_version": "1.5.0",
      "model_name": "ColorPickerModel",
      "state": {
       "description": "ambient",
       "disabled": false,
       "layout": "IPY_MODEL_0c7c19e5f2d64c77816e00b8b2cd8eea",
       "style": "IPY_MODEL_8d847dba13ab4694a1ab9e4baa5b388d",
       "value": "#0fc4db"
      }
     },
     "80486992e7b749219293ac12cc88f982": {
      "model_module": "@jupyter-widgets/controls",
      "model_module_version": "1.5.0",
      "model_name": "DescriptionStyleModel",
      "state": {
       "description_width": ""
      }
     },
     "809eaaa517c44dacbd10399efe1c86c8": {
      "model_module": "@jupyter-widgets/controls",
      "model_module_version": "1.5.0",
      "model_name": "HBoxModel",
      "state": {
       "children": [
        "IPY_MODEL_5917a07df85e4f07849b2dc44475a30a"
       ],
       "layout": "IPY_MODEL_78dff3c9b0ab4092885a4681b708b9c4"
      }
     },
     "80b56e6d76c34f719488204e0bf1de2d": {
      "model_module": "@jupyter-widgets/base",
      "model_module_version": "1.2.0",
      "model_name": "LayoutModel",
      "state": {
       "margin": "20px 0px"
      }
     },
     "80e9653aa5df4aec98e4b796abfbd551": {
      "model_module": "@jupyter-widgets/base",
      "model_module_version": "1.2.0",
      "model_name": "LayoutModel",
      "state": {}
     },
     "814dac1493d8493abe1be47f92709960": {
      "model_module": "@jupyter-widgets/base",
      "model_module_version": "1.2.0",
      "model_name": "LayoutModel",
      "state": {}
     },
     "81614fbd057b49b38cf6c260521fd79e": {
      "model_module": "@jupyter-widgets/controls",
      "model_module_version": "1.5.0",
      "model_name": "DescriptionStyleModel",
      "state": {
       "description_width": ""
      }
     },
     "81b18d0fb7524952b85175ffd2632d16": {
      "model_module": "@jupyter-widgets/base",
      "model_module_version": "1.2.0",
      "model_name": "LayoutModel",
      "state": {}
     },
     "81cddc7ae49e4648a2c274c8e34674fa": {
      "model_module": "@jupyter-widgets/controls",
      "model_module_version": "1.5.0",
      "model_name": "TextModel",
      "state": {
       "layout": "IPY_MODEL_c68f788cbf434b1b86545d771587773e",
       "placeholder": "category name",
       "style": "IPY_MODEL_f0d18c7a33314b93b6a2c556090ad031"
      }
     },
     "82321aeab55d4ce7b6539f3d6b31b441": {
      "model_module": "@jupyter-widgets/controls",
      "model_module_version": "1.5.0",
      "model_name": "ButtonModel",
      "state": {
       "description": "Save changes",
       "layout": "IPY_MODEL_aa7970d024354752a90a19d52ffb4ba6",
       "style": "IPY_MODEL_85eb508330e2453aa477fcf14a6e834d"
      }
     },
     "8249d03607ce403b941353f80011ee8b": {
      "model_module": "@jupyter-widgets/controls",
      "model_module_version": "1.5.0",
      "model_name": "DescriptionStyleModel",
      "state": {
       "description_width": ""
      }
     },
     "8278afc954514651bbf571d8a24293c1": {
      "model_module": "@jupyter-widgets/controls",
      "model_module_version": "1.5.0",
      "model_name": "DescriptionStyleModel",
      "state": {
       "description_width": ""
      }
     },
     "8283081be3d348eea1bc8c13afea1b04": {
      "model_module": "@jupyter-widgets/controls",
      "model_module_version": "1.5.0",
      "model_name": "DescriptionStyleModel",
      "state": {
       "description_width": ""
      }
     },
     "8299462a02d34ce7a919b316de08ed30": {
      "model_module": "@jupyter-widgets/base",
      "model_module_version": "1.2.0",
      "model_name": "LayoutModel",
      "state": {}
     },
     "82e2fd1b3d93436b87d96fe4772c750c": {
      "model_module": "@jupyter-widgets/base",
      "model_module_version": "1.2.0",
      "model_name": "LayoutModel",
      "state": {}
     },
     "82ee84b51f34452cb28a4d5fbd6a6bec": {
      "model_module": "@jupyter-widgets/base",
      "model_module_version": "1.2.0",
      "model_name": "LayoutModel",
      "state": {}
     },
     "8345834e21f741efb76cf84afc82297c": {
      "model_module": "@jupyter-widgets/controls",
      "model_module_version": "1.5.0",
      "model_name": "SliderStyleModel",
      "state": {
       "description_width": ""
      }
     },
     "8385988dc1324faabaa3e51b770405fa": {
      "model_module": "@jupyter-widgets/controls",
      "model_module_version": "1.5.0",
      "model_name": "ButtonStyleModel",
      "state": {}
     },
     "838c2e96b44f4e398b804eaa39f05912": {
      "model_module": "@jupyter-widgets/controls",
      "model_module_version": "1.5.0",
      "model_name": "HBoxModel",
      "state": {
       "children": [
        "IPY_MODEL_02a0a641a80b42a6abd95b43fd404dce",
        "IPY_MODEL_6ff5f5b575424b1aadc6de709ae0596e"
       ],
       "layout": "IPY_MODEL_f84fb842bfdc4ca69b673ea45abcdf91"
      }
     },
     "83a4686453db4032b8b41676af2640e3": {
      "model_module": "@jupyter-widgets/controls",
      "model_module_version": "1.5.0",
      "model_name": "DescriptionStyleModel",
      "state": {
       "description_width": ""
      }
     },
     "83a6e5298a59417faf5cae364d0e23e8": {
      "model_module": "@jupyter-widgets/controls",
      "model_module_version": "1.5.0",
      "model_name": "SliderStyleModel",
      "state": {
       "description_width": ""
      }
     },
     "83b3943961434027b9a8d49bdef39171": {
      "model_module": "pgljupyter",
      "model_module_version": "^0.1.18",
      "model_name": "MaterialEditorModel",
      "state": {
       "_model_module_version": "^0.1.18",
       "_view_module_version": "^0.1.18",
       "children": [
        "IPY_MODEL_ce0fb06d58634cb9b41ec68d1e1dc70d",
        "IPY_MODEL_b4468c2736f440b4bd4d58112d80f1f3",
        "IPY_MODEL_be34e970bcfe4196ae35d41580213f9a",
        "IPY_MODEL_a14d2f25db9a4ee09e33307c1cc7015b",
        "IPY_MODEL_fe1ca6c5f8b149d586fe37d3f4c8d5df",
        "IPY_MODEL_af3d20d491c44d098b64367717540ebe",
        "IPY_MODEL_b0587fd4b5de40ff83b94fd445197b2a",
        "IPY_MODEL_745b3376562c41a59ce78b7fb72eac55"
       ],
       "layout": "IPY_MODEL_65cb7b1023ae4f4aae41fd3b1473e716"
      }
     },
     "83cb5d93b13c4d38906e44f6111942f3": {
      "model_module": "@jupyter-widgets/controls",
      "model_module_version": "1.5.0",
      "model_name": "DescriptionStyleModel",
      "state": {
       "description_width": ""
      }
     },
     "83cf2697568b4f3fa8e2fa044d788093": {
      "model_module": "@jupyter-widgets/controls",
      "model_module_version": "1.5.0",
      "model_name": "DescriptionStyleModel",
      "state": {
       "description_width": ""
      }
     },
     "83d1112a98b24ad985e153a4de2805d3": {
      "model_module": "@jupyter-widgets/base",
      "model_module_version": "1.2.0",
      "model_name": "LayoutModel",
      "state": {}
     },
     "83eb13eb355a4ed79a83c524a5fe5344": {
      "model_module": "@jupyter-widgets/controls",
      "model_module_version": "1.5.0",
      "model_name": "SliderStyleModel",
      "state": {
       "description_width": ""
      }
     },
     "83ef4ea6f520490ea97b0fec684c68ff": {
      "model_module": "@jupyter-widgets/base",
      "model_module_version": "1.2.0",
      "model_name": "LayoutModel",
      "state": {}
     },
     "83f82817d8894598b39eea4838260197": {
      "model_module": "@jupyter-widgets/controls",
      "model_module_version": "1.5.0",
      "model_name": "ButtonModel",
      "state": {
       "description": "Add category",
       "layout": "IPY_MODEL_0c8a2a58cf5a4f328c2bf47875084bee",
       "style": "IPY_MODEL_6be8b624abb24c98af91054c27cba856"
      }
     },
     "83ffa7e6fb914aec8162938aaf8fbf5d": {
      "model_module": "@jupyter-widgets/controls",
      "model_module_version": "1.5.0",
      "model_name": "HBoxModel",
      "state": {
       "children": [
        "IPY_MODEL_578fb4eed7ef4f93987a87d21a5b0d9f",
        "IPY_MODEL_38e8fc2ebd144c09b3718418fd4d321e",
        "IPY_MODEL_31732b3ef50740ba848f6bc135cf9542"
       ],
       "layout": "IPY_MODEL_40f1350ba3a44edfae82ea6bfb8f5198"
      }
     },
     "841666774d4c43d9ae6d7eaf452a6732": {
      "model_module": "@jupyter-widgets/controls",
      "model_module_version": "1.5.0",
      "model_name": "DescriptionStyleModel",
      "state": {
       "description_width": ""
      }
     },
     "84167ac2f5b54a72a1dcecd5e7898942": {
      "model_module": "@jupyter-widgets/controls",
      "model_module_version": "1.5.0",
      "model_name": "SliderStyleModel",
      "state": {
       "description_width": ""
      }
     },
     "8428793621cc40e99f94653249403223": {
      "model_module": "@jupyter-widgets/controls",
      "model_module_version": "1.5.0",
      "model_name": "FloatSliderModel",
      "state": {
       "description": "transparency",
       "layout": "IPY_MODEL_ad3d079ffbc74588a5348a5d3706dafd",
       "max": 1,
       "step": 0.1,
       "style": "IPY_MODEL_93dfc5ebdc024eacb5219441abe21f32"
      }
     },
     "844d30039767419a89704c52fe806d6c": {
      "model_module": "@jupyter-widgets/base",
      "model_module_version": "1.2.0",
      "model_name": "LayoutModel",
      "state": {}
     },
     "846dacb512d34d31960acd0764831033": {
      "model_module": "@jupyter-widgets/controls",
      "model_module_version": "1.5.0",
      "model_name": "DescriptionStyleModel",
      "state": {
       "description_width": ""
      }
     },
     "84c796b6ce3746e1aafccca2c6759aac": {
      "model_module": "@jupyter-widgets/base",
      "model_module_version": "1.2.0",
      "model_name": "LayoutModel",
      "state": {}
     },
     "8509fa5265184f5db62a735f298cb753": {
      "model_module": "@jupyter-widgets/controls",
      "model_module_version": "1.5.0",
      "model_name": "HBoxModel",
      "state": {
       "children": [
        "IPY_MODEL_13011f0d15864a1ba3f2543ade23483a",
        "IPY_MODEL_5c0d7f4b7f914f719c8266137f7d0017"
       ],
       "layout": "IPY_MODEL_4d61064357674c97bb169c5602e69545"
      }
     },
     "850aea0efb99435baa77c0a116afa497": {
      "model_module": "@jupyter-widgets/controls",
      "model_module_version": "1.5.0",
      "model_name": "FloatSliderModel",
      "state": {
       "description": "transparency",
       "layout": "IPY_MODEL_498f774db8944cf9acb68dfb080f9434",
       "max": 1,
       "step": 0.1,
       "style": "IPY_MODEL_83a6e5298a59417faf5cae364d0e23e8"
      }
     },
     "8526b634b49f4f3dbb3f18145fa06a71": {
      "model_module": "@jupyter-widgets/base",
      "model_module_version": "1.2.0",
      "model_name": "LayoutModel",
      "state": {
       "margin": "20px 0px"
      }
     },
     "8537d8915e4e42dbaa546751f3ccd759": {
      "model_module": "@jupyter-widgets/controls",
      "model_module_version": "1.5.0",
      "model_name": "DescriptionStyleModel",
      "state": {
       "description_width": ""
      }
     },
     "855e56574bc4405fb85a9d92a7326cfa": {
      "model_module": "@jupyter-widgets/controls",
      "model_module_version": "1.5.0",
      "model_name": "AccordionModel",
      "state": {
       "_titles": {
        "0": "materials",
        "1": "leaf",
        "2": "trunk & branches"
       },
       "children": [
        "IPY_MODEL_390ec84636c54a9186e42f79fc5c39a9",
        "IPY_MODEL_b97cf4f067b743d2b430bd97bc89e312",
        "IPY_MODEL_200e396776fd4859b251083ea338dbc3"
       ],
       "layout": "IPY_MODEL_92745359b08f4ccb920907d11ee886b9"
      }
     },
     "856cb4dc10fd40959afd4f2ed68f4da6": {
      "model_module": "@jupyter-widgets/base",
      "model_module_version": "1.2.0",
      "model_name": "LayoutModel",
      "state": {}
     },
     "858855a4ca644ef8a5a68f4bd31e1d6b": {
      "model_module": "@jupyter-widgets/base",
      "model_module_version": "1.2.0",
      "model_name": "LayoutModel",
      "state": {}
     },
     "858878c7e61544b790ca64ba3754be3a": {
      "model_module": "@jupyter-widgets/base",
      "model_module_version": "1.2.0",
      "model_name": "LayoutModel",
      "state": {}
     },
     "85903b91b9dd494fbb3a0709f0684652": {
      "model_module": "@jupyter-widgets/controls",
      "model_module_version": "1.5.0",
      "model_name": "FloatSliderModel",
      "state": {
       "description": "transparency",
       "layout": "IPY_MODEL_9b789e08ff1c46f1bb9f707c180a4903",
       "max": 1,
       "step": 0.1,
       "style": "IPY_MODEL_9e28d980a69940b8887b30e5d2ab7eba"
      }
     },
     "85eb508330e2453aa477fcf14a6e834d": {
      "model_module": "@jupyter-widgets/controls",
      "model_module_version": "1.5.0",
      "model_name": "ButtonStyleModel",
      "state": {}
     },
     "85f2f816a3ad4019b0f5b00681e76aad": {
      "model_module": "@jupyter-widgets/controls",
      "model_module_version": "1.5.0",
      "model_name": "DescriptionStyleModel",
      "state": {
       "description_width": ""
      }
     },
     "85fb0b1c46a34071837318e83df4549c": {
      "model_module": "@jupyter-widgets/base",
      "model_module_version": "1.2.0",
      "model_name": "LayoutModel",
      "state": {
       "margin": "20px 0px"
      }
     },
     "862e6be63a4c4ec7a41e281d8b696e8d": {
      "model_module": "@jupyter-widgets/controls",
      "model_module_version": "1.5.0",
      "model_name": "ButtonModel",
      "state": {
       "description": "Delete",
       "layout": "IPY_MODEL_47a676e89113488bb3cee21941e5aba5",
       "style": "IPY_MODEL_262f578dc1b641d1a439f9d7bdb2b833"
      }
     },
     "86875997079c4f0caf76384b93b1c407": {
      "model_module": "@jupyter-widgets/controls",
      "model_module_version": "1.5.0",
      "model_name": "DescriptionStyleModel",
      "state": {
       "description_width": ""
      }
     },
     "8688606d2e9e400dbdbdb02bf5459c6a": {
      "model_module": "@jupyter-widgets/base",
      "model_module_version": "1.2.0",
      "model_name": "LayoutModel",
      "state": {}
     },
     "86ad7647a23949bbb9260384e6040155": {
      "model_module": "@jupyter-widgets/controls",
      "model_module_version": "1.5.0",
      "model_name": "HBoxModel",
      "state": {
       "children": [
        "IPY_MODEL_98b3dcd8990146f594f7c54e237135e5",
        "IPY_MODEL_e070c2aed84b414abe7cc619e00e66a3",
        "IPY_MODEL_7d8071eaf7bf4f66bad90564ee5855bb"
       ],
       "layout": "IPY_MODEL_6f5e6f5355bd440d8af5ee837dac75a9"
      }
     },
     "86b075a727d1420b8b8e02e04c401dbf": {
      "model_module": "@jupyter-widgets/controls",
      "model_module_version": "1.5.0",
      "model_name": "SliderStyleModel",
      "state": {
       "description_width": ""
      }
     },
     "86bbd8bd12314be19909ccb111382a66": {
      "model_module": "@jupyter-widgets/base",
      "model_module_version": "1.2.0",
      "model_name": "LayoutModel",
      "state": {}
     },
     "86e5d6226409410ea3e7aff87df7c57d": {
      "model_module": "@jupyter-widgets/controls",
      "model_module_version": "1.5.0",
      "model_name": "ColorPickerModel",
      "state": {
       "description": "specular",
       "disabled": false,
       "layout": "IPY_MODEL_ab0f9f99791b40059d4d3534b8def2a1",
       "style": "IPY_MODEL_26b6ef9844df45fa90eceb06b5d3540f",
       "value": "#282828"
      }
     },
     "8760bd037eeb40d88f785a795b4cfa32": {
      "model_module": "@jupyter-widgets/controls",
      "model_module_version": "1.5.0",
      "model_name": "ButtonModel",
      "state": {
       "description": "Apply changes",
       "layout": "IPY_MODEL_9263d72547104120b8476c3b55758aeb",
       "style": "IPY_MODEL_e34f318fa38c48f0a73bd526ad11af14"
      }
     },
     "87914f94bb81462d992aeaaef5f740be": {
      "model_module": "pgljupyter",
      "model_module_version": "^0.1.17",
      "model_name": "MaterialEditorModel",
      "state": {
       "_model_module_version": "^0.1.17",
       "_view_module_version": "^0.1.17",
       "children": [
        "IPY_MODEL_2f2a18791e474473882476c2b545f886",
        "IPY_MODEL_613b92ffca5244b6a9fe92b6eac0bfb3",
        "IPY_MODEL_62b5bc6403144408b19fd4a789c19c72",
        "IPY_MODEL_d2f53457da264365a8ca7a5c85a6b381",
        "IPY_MODEL_29f083c6202b4e71911388db0eb926e4",
        "IPY_MODEL_fe6fc9b954504ac48e9ea7a8339c409b",
        "IPY_MODEL_c86dfb91c7754e40aff8205f0595f499"
       ],
       "layout": "IPY_MODEL_761fbbca71f145a5969c4290b8309933"
      }
     },
     "8796df0ffb5a4d59acfa5e829c472f45": {
      "model_module": "@jupyter-widgets/controls",
      "model_module_version": "1.5.0",
      "model_name": "ColorPickerModel",
      "state": {
       "description": "specular",
       "disabled": false,
       "layout": "IPY_MODEL_b2bf5842fee641abb921c9ea89fc6361",
       "style": "IPY_MODEL_e82e92b531174bbab4c8ec367cfabcd1",
       "value": "#282828"
      }
     },
     "879fcdce8800437ebdb114cb02a43a8e": {
      "model_module": "@jupyter-widgets/controls",
      "model_module_version": "1.5.0",
      "model_name": "ButtonStyleModel",
      "state": {}
     },
     "881dbc552f174448b5366e6842c3fce5": {
      "model_module": "@jupyter-widgets/controls",
      "model_module_version": "1.5.0",
      "model_name": "DescriptionStyleModel",
      "state": {
       "description_width": ""
      }
     },
     "885caec9d1dd43c096b9a173555e99ba": {
      "model_module": "@jupyter-widgets/controls",
      "model_module_version": "1.5.0",
      "model_name": "HBoxModel",
      "state": {
       "children": [
        "IPY_MODEL_8509fa5265184f5db62a735f298cb753",
        "IPY_MODEL_42c627ff3d74409cbca15e800caf7190"
       ],
       "layout": "IPY_MODEL_4d77f69f74244057baec36b232f87f78"
      }
     },
     "885d034f6340467e9f3d03862ecdc212": {
      "model_module": "@jupyter-widgets/controls",
      "model_module_version": "1.5.0",
      "model_name": "DescriptionStyleModel",
      "state": {
       "description_width": ""
      }
     },
     "88a10cf316df4647bd53d535728a4d82": {
      "model_module": "@jupyter-widgets/base",
      "model_module_version": "1.2.0",
      "model_name": "LayoutModel",
      "state": {}
     },
     "88b25b3d6bed47aabbf857ba0829ae88": {
      "model_module": "pgljupyter",
      "model_module_version": "^0.1.17",
      "model_name": "MaterialEditorModel",
      "state": {
       "_model_module_version": "^0.1.17",
       "_view_module_version": "^0.1.17",
       "children": [
        "IPY_MODEL_743b4d10e04e429daa73128e21f65475",
        "IPY_MODEL_1ea7dc68a20e4fa3ae2f532556b651d0",
        "IPY_MODEL_30473609ffbf4e1781ef3e743132ea77",
        "IPY_MODEL_446d0c4274894c3b975472f4d7fb6e63",
        "IPY_MODEL_8012ed3ed86e4af7aa93a0d0174addd1",
        "IPY_MODEL_d10a3a68a0474f01aa5b6d5cfdb8ebe8",
        "IPY_MODEL_536987696dc742f1b1bc51ca8d040a1d"
       ],
       "layout": "IPY_MODEL_4f04e84e06f04f2187ac0562bd5d7982"
      }
     },
     "88f3d087a0de45da8bfd2c33963d9fb3": {
      "model_module": "@jupyter-widgets/controls",
      "model_module_version": "1.5.0",
      "model_name": "SliderStyleModel",
      "state": {
       "description_width": ""
      }
     },
     "88f44b81f9624f8db9eb6600e3fb96e4": {
      "model_module": "@jupyter-widgets/controls",
      "model_module_version": "1.5.0",
      "model_name": "ButtonModel",
      "state": {
       "description": "Delete category",
       "layout": "IPY_MODEL_8d73e5bd9d02455d95cfcec70fbbd004",
       "style": "IPY_MODEL_0fa6ede50ab0406a9807f2c9a03af12c"
      }
     },
     "891e2f6c24e942aa819fd94be0793970": {
      "model_module": "@jupyter-widgets/controls",
      "model_module_version": "1.5.0",
      "model_name": "ColorPickerModel",
      "state": {
       "description": "specular",
       "disabled": false,
       "layout": "IPY_MODEL_3ee6dd285a9442a8ba3ad4c5af7b0fbd",
       "style": "IPY_MODEL_64eb6ce77bf6462698b988007f7d6518",
       "value": "#282828"
      }
     },
     "8929ac5c489944b49d22387a7dca08f4": {
      "model_module": "@jupyter-widgets/base",
      "model_module_version": "1.2.0",
      "model_name": "LayoutModel",
      "state": {}
     },
     "893cf04f7b474264b2019b1d9ef10da0": {
      "model_module": "@jupyter-widgets/controls",
      "model_module_version": "1.5.0",
      "model_name": "ButtonModel",
      "state": {
       "description": "Delete category",
       "layout": "IPY_MODEL_1d2c3e8ff93a461893bd0cf380e5598b",
       "style": "IPY_MODEL_bf1fdb5bb36e4e1a926148fdc953e325"
      }
     },
     "8941e806cfbc4ef79a7ebe1a33c9c387": {
      "model_module": "@jupyter-widgets/controls",
      "model_module_version": "1.5.0",
      "model_name": "BoundedIntTextModel",
      "state": {
       "description": "index",
       "layout": "IPY_MODEL_04bf48cf21fd4ef3b2fc2c87f891da0a",
       "style": "IPY_MODEL_65e9c69006e0410082732dcb581d48b9",
       "value": 2
      }
     },
     "896ad6ec098a405a80ae6f82cca58a0c": {
      "model_module": "@jupyter-widgets/base",
      "model_module_version": "1.2.0",
      "model_name": "LayoutModel",
      "state": {}
     },
     "896cb2a6eee44f0099cfa8dd5b2da22f": {
      "model_module": "@jupyter-widgets/controls",
      "model_module_version": "1.5.0",
      "model_name": "TextModel",
      "state": {
       "continuous_update": false,
       "description": "name",
       "layout": "IPY_MODEL_5f766dc4cb8647509fa135a5358aaab0",
       "style": "IPY_MODEL_c4ed48b837534de7b3ebc8b317ef0a11",
       "value": "color_1"
      }
     },
     "89a945aee0754e80a2eee46f61496ba5": {
      "model_module": "@jupyter-widgets/controls",
      "model_module_version": "1.5.0",
      "model_name": "FloatSliderModel",
      "state": {
       "description": "transparency",
       "layout": "IPY_MODEL_539f9d1af9924f4db2438bbbeeb51b54",
       "max": 1,
       "step": 0.1,
       "style": "IPY_MODEL_6ec1cbd07a644f899b126df86b0690ab"
      }
     },
     "89abd2f5d7a24df6bcce9045e015f6b6": {
      "model_module": "@jupyter-widgets/controls",
      "model_module_version": "1.5.0",
      "model_name": "DescriptionStyleModel",
      "state": {
       "description_width": ""
      }
     },
     "89e834b8c10e40a390db5fd0665c3d45": {
      "model_module": "@jupyter-widgets/base",
      "model_module_version": "1.2.0",
      "model_name": "LayoutModel",
      "state": {}
     },
     "8a5b39fddbde4ba3bee746d6c937b664": {
      "model_module": "@jupyter-widgets/controls",
      "model_module_version": "1.5.0",
      "model_name": "TextModel",
      "state": {
       "continuous_update": false,
       "description": "name",
       "layout": "IPY_MODEL_0ec5645a3bf34b6a84616a6784979782",
       "style": "IPY_MODEL_c190a593c1ed4ea199fb8b572fe94562",
       "value": "color_3"
      }
     },
     "8aae296581c643e2a94a84c43a578fda": {
      "model_module": "@jupyter-widgets/base",
      "model_module_version": "1.2.0",
      "model_name": "LayoutModel",
      "state": {}
     },
     "8ab5ba176a154599b445e9556a8031de": {
      "model_module": "@jupyter-widgets/base",
      "model_module_version": "1.2.0",
      "model_name": "LayoutModel",
      "state": {
       "margin": "20px 0px"
      }
     },
     "8ab7595e734d49a0932417703969c091": {
      "model_module": "@jupyter-widgets/controls",
      "model_module_version": "1.5.0",
      "model_name": "ColorPickerModel",
      "state": {
       "description": "ambient",
       "disabled": false,
       "layout": "IPY_MODEL_797b6487137c40879ec2abec33dc8535",
       "style": "IPY_MODEL_881dbc552f174448b5366e6842c3fce5",
       "value": "#195717"
      }
     },
     "8ade179874b44ec4a7a9a96454510c3e": {
      "model_module": "@jupyter-widgets/base",
      "model_module_version": "1.2.0",
      "model_name": "LayoutModel",
      "state": {}
     },
     "8b24ac74c0944cd48267de6d5fe2be88": {
      "model_module": "@jupyter-widgets/base",
      "model_module_version": "1.2.0",
      "model_name": "LayoutModel",
      "state": {}
     },
     "8b39ce9f414948e2acb5c8cfdcf3d6a8": {
      "model_module": "@jupyter-widgets/controls",
      "model_module_version": "1.5.0",
      "model_name": "DropdownModel",
      "state": {
       "_options_labels": [
        "Integer",
        "Float",
        "Bool"
       ],
       "index": 0,
       "layout": "IPY_MODEL_bcb7465a37394dbabd8f197ae65f2662",
       "style": "IPY_MODEL_8537d8915e4e42dbaa546751f3ccd759"
      }
     },
     "8b43f3f764b3434fbc0675fd7f1f079d": {
      "model_module": "@jupyter-widgets/base",
      "model_module_version": "1.2.0",
      "model_name": "LayoutModel",
      "state": {}
     },
     "8b50cab205524c5684de777fe16b12c6": {
      "model_module": "@jupyter-widgets/controls",
      "model_module_version": "1.5.0",
      "model_name": "DescriptionStyleModel",
      "state": {
       "description_width": ""
      }
     },
     "8b815e58fddc4a559d96a5bea9398873": {
      "model_module": "@jupyter-widgets/controls",
      "model_module_version": "1.5.0",
      "model_name": "ButtonModel",
      "state": {
       "description": "Delete category",
       "layout": "IPY_MODEL_b4172c0a847a4c1d89dd93e6e188edcf",
       "style": "IPY_MODEL_d2ae08c8938f40e28ea77f61a5b50c80"
      }
     },
     "8b961dc464fe4120b95633845d5c9860": {
      "model_module": "@jupyter-widgets/base",
      "model_module_version": "1.2.0",
      "model_name": "LayoutModel",
      "state": {
       "margin": "20px 0px"
      }
     },
     "8b9d8ab9579d479587514dba40ca7bcd": {
      "model_module": "@jupyter-widgets/base",
      "model_module_version": "1.2.0",
      "model_name": "LayoutModel",
      "state": {}
     },
     "8bbd3656628c4c6e8afd4b8861674066": {
      "model_module": "@jupyter-widgets/controls",
      "model_module_version": "1.5.0",
      "model_name": "ButtonStyleModel",
      "state": {}
     },
     "8bd7cf6dc07d437190fbda31a59b43c4": {
      "model_module": "@jupyter-widgets/base",
      "model_module_version": "1.2.0",
      "model_name": "LayoutModel",
      "state": {}
     },
     "8be95b6e2c4341088b47d9a41a5e1916": {
      "model_module": "@jupyter-widgets/controls",
      "model_module_version": "1.5.0",
      "model_name": "VBoxModel",
      "state": {
       "children": [
        "IPY_MODEL_49c13f7f61b74fdeb6c2e02c3d02da5a",
        "IPY_MODEL_939594c53ae64a0e89243eda3899ab0b"
       ],
       "layout": "IPY_MODEL_a547bbd798964d08896ad103a8c35c97"
      }
     },
     "8c00dd94f504489eb79f75cdf4d9b736": {
      "model_module": "@jupyter-widgets/base",
      "model_module_version": "1.2.0",
      "model_name": "LayoutModel",
      "state": {}
     },
     "8c34ccd1ce0c4bdea50769e26de587f7": {
      "model_module": "@jupyter-widgets/controls",
      "model_module_version": "1.5.0",
      "model_name": "HBoxModel",
      "state": {
       "children": [
        "IPY_MODEL_641c05b7ca444b45815f98e53b6c6ac7",
        "IPY_MODEL_9ca461330d2145f89ba7e4575a975a1e"
       ],
       "layout": "IPY_MODEL_e7d2527d8a7e4fe289643a418f22fbe9"
      }
     },
     "8c69ffac5b3b44b286de8bc58ff44b45": {
      "model_module": "@jupyter-widgets/controls",
      "model_module_version": "1.5.0",
      "model_name": "FloatSliderModel",
      "state": {
       "description": "shininess",
       "layout": "IPY_MODEL_09f0b20c3d9a4a7b8d6f767b7e7153d6",
       "max": 1,
       "step": 0.1,
       "style": "IPY_MODEL_2d5a147118f043b0bedacc46a82c83fb",
       "value": 0.2
      }
     },
     "8c8cef7c9f7e4f1e84b0cd4319df23e7": {
      "model_module": "@jupyter-widgets/base",
      "model_module_version": "1.2.0",
      "model_name": "LayoutModel",
      "state": {}
     },
     "8cbb1af1d0af4ff9bb22fce6efa5827f": {
      "model_module": "@jupyter-widgets/base",
      "model_module_version": "1.2.0",
      "model_name": "LayoutModel",
      "state": {}
     },
     "8cca7f8fad02405fb87c0732c5a43356": {
      "model_module": "@jupyter-widgets/base",
      "model_module_version": "1.2.0",
      "model_name": "LayoutModel",
      "state": {}
     },
     "8d0e659919a7446eae15c51f51434cbc": {
      "model_module": "@jupyter-widgets/base",
      "model_module_version": "1.2.0",
      "model_name": "LayoutModel",
      "state": {}
     },
     "8d56c586bca3464d8c5cb36ae761ba46": {
      "model_module": "@jupyter-widgets/base",
      "model_module_version": "1.2.0",
      "model_name": "LayoutModel",
      "state": {
       "flex_flow": "row wrap",
       "margin": "20px"
      }
     },
     "8d73e5bd9d02455d95cfcec70fbbd004": {
      "model_module": "@jupyter-widgets/base",
      "model_module_version": "1.2.0",
      "model_name": "LayoutModel",
      "state": {}
     },
     "8d847dba13ab4694a1ab9e4baa5b388d": {
      "model_module": "@jupyter-widgets/controls",
      "model_module_version": "1.5.0",
      "model_name": "DescriptionStyleModel",
      "state": {
       "description_width": ""
      }
     },
     "8d88b9af599a473ba627da0a2a18a784": {
      "model_module": "@jupyter-widgets/base",
      "model_module_version": "1.2.0",
      "model_name": "LayoutModel",
      "state": {}
     },
     "8df2887e514042d1ac28d987a7d3f39d": {
      "model_module": "@jupyter-widgets/base",
      "model_module_version": "1.2.0",
      "model_name": "LayoutModel",
      "state": {}
     },
     "8df39cc78b7c43f7be9d191b5a4256de": {
      "model_module": "@jupyter-widgets/controls",
      "model_module_version": "1.5.0",
      "model_name": "CheckboxModel",
      "state": {
       "description": "Auto apply",
       "disabled": false,
       "layout": "IPY_MODEL_8d88b9af599a473ba627da0a2a18a784",
       "style": "IPY_MODEL_1f88c16815df476d8f718a32226dcb4a",
       "value": false
      }
     },
     "8e07259218964759aa0e3756812d03d4": {
      "model_module": "pgljupyter",
      "model_module_version": "^0.1.16",
      "model_name": "IntEditorModel",
      "state": {
       "_model_module_version": "^0.1.16",
       "_view_module_version": "^0.1.16",
       "children": [
        "IPY_MODEL_0003eef9dd3941f89ac65b920608e8dc",
        "IPY_MODEL_d734a536300949189433eec18ebe49d5",
        "IPY_MODEL_ea9d8d6b50034a3a9fb9e57b9e304732",
        "IPY_MODEL_ecd0c12b3b9e479fb4a4bdfdcb2c2842",
        "IPY_MODEL_715606022a044632ac89eb213623d18a"
       ],
       "layout": "IPY_MODEL_41689189f03a44738c5a6d8d77d673f0"
      }
     },
     "8e22cddd14fe4b4bae63e877798b91cf": {
      "model_module": "@jupyter-widgets/controls",
      "model_module_version": "1.5.0",
      "model_name": "TextModel",
      "state": {
       "continuous_update": false,
       "description": "name",
       "layout": "IPY_MODEL_e0b3bfd022cf45e4a94fa38c5088e074",
       "style": "IPY_MODEL_aa87d9baf2e54afbbf8a7787e01bc39c",
       "value": "color_3"
      }
     },
     "8e4723856ef545059ac8d8e784b37a8e": {
      "model_module": "@jupyter-widgets/base",
      "model_module_version": "1.2.0",
      "model_name": "LayoutModel",
      "state": {}
     },
     "8e59f23a67514549b0b971a20c8f5644": {
      "model_module": "@jupyter-widgets/controls",
      "model_module_version": "1.5.0",
      "model_name": "IntSliderModel",
      "state": {
       "description": "value",
       "layout": "IPY_MODEL_66cfa3a226224323bc89e5cd0184f515",
       "max": 10,
       "min": 1,
       "style": "IPY_MODEL_67f4e04d08034151b0a50c7edf65de73",
       "value": 3
      }
     },
     "8e6019a49d114761a746e659cc1c48f2": {
      "model_module": "@jupyter-widgets/controls",
      "model_module_version": "1.5.0",
      "model_name": "TextModel",
      "state": {
       "continuous_update": false,
       "description": "name",
       "layout": "IPY_MODEL_7740beb2c49f45218e9e7fa1fe1a8432",
       "style": "IPY_MODEL_fc7845240a5a42389a89509a28eb34dd",
       "value": "nb_axes"
      }
     },
     "8e7f32c1ba3149af89ee115dcce7233a": {
      "model_module": "@jupyter-widgets/controls",
      "model_module_version": "1.5.0",
      "model_name": "VBoxModel",
      "state": {
       "children": [
        "IPY_MODEL_809eaaa517c44dacbd10399efe1c86c8",
        "IPY_MODEL_77bb0a66c7374c4d92144e5900b028a0",
        "IPY_MODEL_15c2dd748e27429b8b7bf9eec53d186c",
        "IPY_MODEL_286459ac772e4d45a1cdf2d3de2f2641",
        "IPY_MODEL_1bd27105bfe744bdbb177dc19d1cf75d"
       ],
       "layout": "IPY_MODEL_78f64a9316a54addbb907fdb74325de3"
      }
     },
     "8ea211ca5b9b4eeba00a371c1b423cca": {
      "model_module": "@jupyter-widgets/controls",
      "model_module_version": "1.5.0",
      "model_name": "ColorPickerModel",
      "state": {
       "description": "specular",
       "disabled": false,
       "layout": "IPY_MODEL_d5cd4fb599cb46fc948cd99e2e1b54e4",
       "style": "IPY_MODEL_42f6a0ce6998407886d1d89c57494c7e",
       "value": "#282828"
      }
     },
     "8eb293d9f1ca49e4a0d8a5d438b925e5": {
      "model_module": "@jupyter-widgets/controls",
      "model_module_version": "1.5.0",
      "model_name": "DescriptionStyleModel",
      "state": {
       "description_width": ""
      }
     },
     "8ebbdf1fb8e54a828e60d7ac7f9605d3": {
      "model_module": "@jupyter-widgets/base",
      "model_module_version": "1.2.0",
      "model_name": "LayoutModel",
      "state": {}
     },
     "8ed6d95dd9ef49ee8cf874817418fc76": {
      "model_module": "@jupyter-widgets/base",
      "model_module_version": "1.2.0",
      "model_name": "LayoutModel",
      "state": {}
     },
     "8f003cdb574545128b2ee385bb6fff88": {
      "model_module": "@jupyter-widgets/base",
      "model_module_version": "1.2.0",
      "model_name": "LayoutModel",
      "state": {}
     },
     "8f06c2ae91ad40a682161b87d6e730b4": {
      "model_module": "@jupyter-widgets/controls",
      "model_module_version": "1.5.0",
      "model_name": "ButtonStyleModel",
      "state": {}
     },
     "8f0d237bd2814cfa98534d804a75bd38": {
      "model_module": "@jupyter-widgets/controls",
      "model_module_version": "1.5.0",
      "model_name": "FloatSliderModel",
      "state": {
       "description": "transparency",
       "layout": "IPY_MODEL_6f0a69f339134e55b948c90d45650703",
       "max": 1,
       "step": 0.1,
       "style": "IPY_MODEL_7b577b3b68b746a29a5e6e041152e745"
      }
     },
     "8f4c0103e27f4574ba684259337a9d96": {
      "model_module": "@jupyter-widgets/controls",
      "model_module_version": "1.5.0",
      "model_name": "HBoxModel",
      "state": {
       "children": [
        "IPY_MODEL_417e8e140cdf4466b6d508d357de4584",
        "IPY_MODEL_9925cbd3ea0647db80ef2a633272125b"
       ],
       "layout": "IPY_MODEL_431315f0bf144d2fa04d6ffc24c515f9"
      }
     },
     "8f51043f8eec495db2aa437cf47dd5d0": {
      "model_module": "@jupyter-widgets/controls",
      "model_module_version": "1.5.0",
      "model_name": "DescriptionStyleModel",
      "state": {
       "description_width": ""
      }
     },
     "8f5d620157024ed59ea59efe6b680541": {
      "model_module": "@jupyter-widgets/base",
      "model_module_version": "1.2.0",
      "model_name": "LayoutModel",
      "state": {}
     },
     "8f76a051af3b4aafaab23bc142f7301f": {
      "model_module": "@jupyter-widgets/base",
      "model_module_version": "1.2.0",
      "model_name": "LayoutModel",
      "state": {}
     },
     "8f87f71addf8423b8fb30f7dbf62cc02": {
      "model_module": "@jupyter-widgets/controls",
      "model_module_version": "1.5.0",
      "model_name": "DescriptionStyleModel",
      "state": {
       "description_width": ""
      }
     },
     "8fa2131f64aa4931a8055494da690356": {
      "model_module": "@jupyter-widgets/base",
      "model_module_version": "1.2.0",
      "model_name": "LayoutModel",
      "state": {}
     },
     "902e29cc535749e796ee3a937c3dfd21": {
      "model_module": "@jupyter-widgets/controls",
      "model_module_version": "1.5.0",
      "model_name": "TextModel",
      "state": {
       "continuous_update": false,
       "description": "name",
       "layout": "IPY_MODEL_59b6d90878cc4434b2cd7ffe61e22f6b",
       "style": "IPY_MODEL_5cb0a8f02ad04b5f9796ec72a576b675",
       "value": "nb_axes"
      }
     },
     "906dd31da0b74225aefcd7029f7939cc": {
      "model_module": "@jupyter-widgets/controls",
      "model_module_version": "1.5.0",
      "model_name": "DescriptionStyleModel",
      "state": {
       "description_width": ""
      }
     },
     "907af94c6c2443389979483218e080ca": {
      "model_module": "@jupyter-widgets/controls",
      "model_module_version": "1.5.0",
      "model_name": "ButtonStyleModel",
      "state": {}
     },
     "908f4ca4949b494db14fc5156aab2cd9": {
      "model_module": "@jupyter-widgets/base",
      "model_module_version": "1.2.0",
      "model_name": "LayoutModel",
      "state": {}
     },
     "90b38a086b7a4c3dacb0a705e9da7c93": {
      "model_module": "@jupyter-widgets/base",
      "model_module_version": "1.2.0",
      "model_name": "LayoutModel",
      "state": {}
     },
     "90f363a2c49a484a843ce9189c500501": {
      "model_module": "@jupyter-widgets/base",
      "model_module_version": "1.2.0",
      "model_name": "LayoutModel",
      "state": {}
     },
     "90f3796014fb441682830e036d391913": {
      "model_module": "@jupyter-widgets/controls",
      "model_module_version": "1.5.0",
      "model_name": "DescriptionStyleModel",
      "state": {
       "description_width": ""
      }
     },
     "90f65d5e0f7d4ba297b91d7381a9b694": {
      "model_module": "@jupyter-widgets/controls",
      "model_module_version": "1.5.0",
      "model_name": "SliderStyleModel",
      "state": {
       "description_width": ""
      }
     },
     "914f2d720e814344b6090277a3ff863a": {
      "model_module": "@jupyter-widgets/base",
      "model_module_version": "1.2.0",
      "model_name": "LayoutModel",
      "state": {}
     },
     "916e7d074de94e13a2e0ee223e0b2d15": {
      "model_module": "@jupyter-widgets/controls",
      "model_module_version": "1.5.0",
      "model_name": "ColorPickerModel",
      "state": {
       "description": "ambient",
       "disabled": false,
       "layout": "IPY_MODEL_977fea6ecad74993b1e7f4b53f05bd3d",
       "style": "IPY_MODEL_4bfa6e2f73c74bffa75861116f13ec31",
       "value": "#0fc4db"
      }
     },
     "91ac8e1f9a054b498098ec7954dfe608": {
      "model_module": "@jupyter-widgets/base",
      "model_module_version": "1.2.0",
      "model_name": "LayoutModel",
      "state": {}
     },
     "9205b342fe2d42118f3ab706062aa484": {
      "model_module": "@jupyter-widgets/base",
      "model_module_version": "1.2.0",
      "model_name": "LayoutModel",
      "state": {}
     },
     "9242e4b52d1c46328eae0b31e19984e1": {
      "model_module": "@jupyter-widgets/base",
      "model_module_version": "1.2.0",
      "model_name": "LayoutModel",
      "state": {}
     },
     "92616f968bf649ad919cbb41d7425b65": {
      "model_module": "@jupyter-widgets/base",
      "model_module_version": "1.2.0",
      "model_name": "LayoutModel",
      "state": {}
     },
     "9263d72547104120b8476c3b55758aeb": {
      "model_module": "@jupyter-widgets/base",
      "model_module_version": "1.2.0",
      "model_name": "LayoutModel",
      "state": {}
     },
     "926c57076840440cba5b8c4fd41d9d43": {
      "model_module": "@jupyter-widgets/base",
      "model_module_version": "1.2.0",
      "model_name": "LayoutModel",
      "state": {}
     },
     "92745359b08f4ccb920907d11ee886b9": {
      "model_module": "@jupyter-widgets/base",
      "model_module_version": "1.2.0",
      "model_name": "LayoutModel",
      "state": {}
     },
     "92978dae10c04f879b6b666ba80d5835": {
      "model_module": "@jupyter-widgets/base",
      "model_module_version": "1.2.0",
      "model_name": "LayoutModel",
      "state": {
       "margin": "20px 0px"
      }
     },
     "92d4898f94824292b0826fcacbbe587f": {
      "model_module": "@jupyter-widgets/controls",
      "model_module_version": "1.5.0",
      "model_name": "ColorPickerModel",
      "state": {
       "description": "specular",
       "disabled": false,
       "layout": "IPY_MODEL_b018f27f56ef47b8b8c77c757b918855",
       "style": "IPY_MODEL_bac8604d77704199a0f58325e3b25b59",
       "value": "#282828"
      }
     },
     "930ad9faa5584ea6b9760fd12a63f4ea": {
      "model_module": "@jupyter-widgets/controls",
      "model_module_version": "1.5.0",
      "model_name": "DropdownModel",
      "state": {
       "_options_labels": [
        "Color"
       ],
       "index": 0,
       "layout": "IPY_MODEL_59b8490222d449ec873f6dd426630d90",
       "style": "IPY_MODEL_0366a0590c4e4687a64fd5d1d1a58442"
      }
     },
     "9312767b442f47bc9228a5a34c6c8271": {
      "model_module": "@jupyter-widgets/controls",
      "model_module_version": "1.5.0",
      "model_name": "ButtonModel",
      "state": {
       "description": "Delete",
       "layout": "IPY_MODEL_fe924468805c4aa4b1a13f57e745e092",
       "style": "IPY_MODEL_9a1e1906710e483a890168686eb48dea"
      }
     },
     "931cc338e78d449da79227e3e8bbf56f": {
      "model_module": "@jupyter-widgets/controls",
      "model_module_version": "1.5.0",
      "model_name": "ButtonStyleModel",
      "state": {}
     },
     "9323e0d993094b5598ad0290264509ac": {
      "model_module": "@jupyter-widgets/base",
      "model_module_version": "1.2.0",
      "model_name": "LayoutModel",
      "state": {}
     },
     "932905fe953a416bb495d9f6c2ffa4fe": {
      "model_module": "@jupyter-widgets/base",
      "model_module_version": "1.2.0",
      "model_name": "LayoutModel",
      "state": {}
     },
     "9334138484854b40a86080f1b61c3cbf": {
      "model_module": "@jupyter-widgets/controls",
      "model_module_version": "1.5.0",
      "model_name": "ButtonModel",
      "state": {
       "description": "Add",
       "layout": "IPY_MODEL_47c4dd25604a48a1b5557177fd515750",
       "style": "IPY_MODEL_28501e07ca81424ba924d3f88696843a"
      }
     },
     "939594c53ae64a0e89243eda3899ab0b": {
      "model_module": "@jupyter-widgets/controls",
      "model_module_version": "1.5.0",
      "model_name": "TabModel",
      "state": {
       "_titles": {
        "0": "leuwenberg.json"
       },
       "children": [
        "IPY_MODEL_5c7ea0ef330d498b91b01ff20701afc6"
       ],
       "layout": "IPY_MODEL_40d3cad94876411eb2c2b28bed44d044"
      }
     },
     "93a5e2d0c70d421d81cf898af8d464df": {
      "model_module": "@jupyter-widgets/controls",
      "model_module_version": "1.5.0",
      "model_name": "DescriptionStyleModel",
      "state": {
       "description_width": ""
      }
     },
     "93b7d193d72342788a68a1d372519ba3": {
      "model_module": "@jupyter-widgets/base",
      "model_module_version": "1.2.0",
      "model_name": "LayoutModel",
      "state": {}
     },
     "93d66b3b8d5148e096acb7c3b08dcb94": {
      "model_module": "@jupyter-widgets/controls",
      "model_module_version": "1.5.0",
      "model_name": "HBoxModel",
      "state": {
       "children": [
        "IPY_MODEL_0c3945d18ad84ce68b356bc7fec1acc8",
        "IPY_MODEL_d5451f4d3ae8401ab534c5136e99f785"
       ],
       "layout": "IPY_MODEL_801c820f9e6246b9b3ed03e09a503e66"
      }
     },
     "93dfc5ebdc024eacb5219441abe21f32": {
      "model_module": "@jupyter-widgets/controls",
      "model_module_version": "1.5.0",
      "model_name": "SliderStyleModel",
      "state": {
       "description_width": ""
      }
     },
     "93e9e1a13f404740b06bcbb3b04fbbe8": {
      "model_module": "@jupyter-widgets/controls",
      "model_module_version": "1.5.0",
      "model_name": "VBoxModel",
      "state": {
       "children": [
        "IPY_MODEL_1624262f28254a519733973a8caf8b9e",
        "IPY_MODEL_767069b5239041d1a94bed85e955db0b",
        "IPY_MODEL_6322774f3a5e4d0cad43bc9ac0f77d3f",
        "IPY_MODEL_f834a6370cbe4f55b43168d73475ea6e",
        "IPY_MODEL_74bb39c50046421c8cf174ea8b853142"
       ],
       "layout": "IPY_MODEL_39b48239860647a19accd22046ec23a9"
      }
     },
     "9424c3010f3348a9bc112e2fabf01dd9": {
      "model_module": "@jupyter-widgets/base",
      "model_module_version": "1.2.0",
      "model_name": "LayoutModel",
      "state": {}
     },
     "9425b43dcbad4491bb621b1c588f23a2": {
      "model_module": "@jupyter-widgets/controls",
      "model_module_version": "1.5.0",
      "model_name": "DescriptionStyleModel",
      "state": {
       "description_width": ""
      }
     },
     "94cfe289c61c4e35b29a1d6056c480fc": {
      "model_module": "@jupyter-widgets/base",
      "model_module_version": "1.2.0",
      "model_name": "LayoutModel",
      "state": {}
     },
     "94dd3b9fa9fc40afbb444d490ee4bac3": {
      "model_module": "@jupyter-widgets/controls",
      "model_module_version": "1.5.0",
      "model_name": "SliderStyleModel",
      "state": {
       "description_width": ""
      }
     },
     "94fe467575e84f10afa968e472e6294b": {
      "model_module": "@jupyter-widgets/controls",
      "model_module_version": "1.5.0",
      "model_name": "SliderStyleModel",
      "state": {
       "description_width": ""
      }
     },
     "953ba707a655461f95ad063f5a6f574b": {
      "model_module": "@jupyter-widgets/base",
      "model_module_version": "1.2.0",
      "model_name": "LayoutModel",
      "state": {}
     },
     "9543ce5168bb44ca89a3b02cbe5bca8f": {
      "model_module": "@jupyter-widgets/base",
      "model_module_version": "1.2.0",
      "model_name": "LayoutModel",
      "state": {}
     },
     "95e1beb5a96b4e808db8fc25b38b38b1": {
      "model_module": "@jupyter-widgets/controls",
      "model_module_version": "1.5.0",
      "model_name": "DropdownModel",
      "state": {
       "_options_labels": [
        "Integer",
        "Float",
        "Bool"
       ],
       "index": 0,
       "layout": "IPY_MODEL_6b9b12000c3449fd833f068eef7fefa7",
       "style": "IPY_MODEL_76ebe3b2efb042b0b745b891af6193b3"
      }
     },
     "963604a85f104c0ea8afa21693108092": {
      "model_module": "@jupyter-widgets/controls",
      "model_module_version": "1.5.0",
      "model_name": "VBoxModel",
      "state": {
       "children": [
        "IPY_MODEL_dd63929993a7401ab626cf49aa8e47ec",
        "IPY_MODEL_18fd2dd4be65499b91b7d984d3f28244"
       ],
       "layout": "IPY_MODEL_ae33a6518f6c4bd7ac1c3d19f27164ee"
      }
     },
     "963d126402964be48e58d85e7d4149c1": {
      "model_module": "@jupyter-widgets/controls",
      "model_module_version": "1.5.0",
      "model_name": "DescriptionStyleModel",
      "state": {
       "description_width": ""
      }
     },
     "964212339a614dc4b244dd85464c155d": {
      "model_module": "@jupyter-widgets/base",
      "model_module_version": "1.2.0",
      "model_name": "LayoutModel",
      "state": {
       "flex_flow": "row wrap",
       "margin": "20px"
      }
     },
     "96760736adb540eab397a4254d806359": {
      "model_module": "@jupyter-widgets/controls",
      "model_module_version": "1.5.0",
      "model_name": "SliderStyleModel",
      "state": {
       "description_width": ""
      }
     },
     "9686a9ec1f724f7b9f1afc42c755dcf4": {
      "model_module": "@jupyter-widgets/base",
      "model_module_version": "1.2.0",
      "model_name": "LayoutModel",
      "state": {}
     },
     "96a5793689434924ae2e18ffeb1734a9": {
      "model_module": "@jupyter-widgets/controls",
      "model_module_version": "1.5.0",
      "model_name": "ButtonModel",
      "state": {
       "description": "Add",
       "layout": "IPY_MODEL_7e1a9142f68a44bb85b87c9ed44b26f9",
       "style": "IPY_MODEL_c98bc4fd0fb74e1583e73ae62e4ec124"
      }
     },
     "96b49dfc62ee4b54b6911cc9519f3adf": {
      "model_module": "@jupyter-widgets/controls",
      "model_module_version": "1.5.0",
      "model_name": "FloatSliderModel",
      "state": {
       "description": "transparency",
       "layout": "IPY_MODEL_5cd5315f340348038cd38a661f3e0383",
       "max": 1,
       "step": 0.1,
       "style": "IPY_MODEL_ce2ea4fd167e4cb2b2f137651b8ac0c7"
      }
     },
     "96cdd7a7ccd846d3924fb1cc7ba26616": {
      "model_module": "@jupyter-widgets/controls",
      "model_module_version": "1.5.0",
      "model_name": "ButtonModel",
      "state": {
       "description": "Add",
       "layout": "IPY_MODEL_215f302522a248ffb3819ec2c29f1058",
       "style": "IPY_MODEL_fe19d3f5e3dc4cd99368775b1f16b8cc"
      }
     },
     "96ef1dd3e38b40a6b4b6aa0a8d3bcca5": {
      "model_module": "@jupyter-widgets/controls",
      "model_module_version": "1.5.0",
      "model_name": "DropdownModel",
      "state": {
       "_options_labels": [
        "leafduration",
        "leafold",
        "maxorder",
        "radinc",
        "nb_axes"
       ],
       "index": 0,
       "layout": "IPY_MODEL_b349b6082b68436a830311e2652d9b99",
       "style": "IPY_MODEL_0095f53d7b9d447db6885939bd2cb620"
      }
     },
     "973162b76dea4a2bbb3e36144ea6db25": {
      "model_module": "@jupyter-widgets/base",
      "model_module_version": "1.2.0",
      "model_name": "LayoutModel",
      "state": {}
     },
     "973da0ef21a546739fbc9361cd34bfe5": {
      "model_module": "@jupyter-widgets/base",
      "model_module_version": "1.2.0",
      "model_name": "LayoutModel",
      "state": {}
     },
     "9773821d863c41edbda8c72cf73d3bc6": {
      "model_module": "@jupyter-widgets/controls",
      "model_module_version": "1.5.0",
      "model_name": "VBoxModel",
      "state": {
       "children": [
        "IPY_MODEL_684c8f4df8674412aedac32f204f41a4",
        "IPY_MODEL_1c64de6d810040e6a876cf03d544910b",
        "IPY_MODEL_58569d21975b4ecb94c1b21ac30e0823",
        "IPY_MODEL_a8e1694a081f4cdeac229c2c58ebc71b",
        "IPY_MODEL_b025d2c3b32b46ee9877ca8fabce0c2d"
       ],
       "layout": "IPY_MODEL_2132082f200f4a239684d6e5b976b196"
      }
     },
     "977fea6ecad74993b1e7f4b53f05bd3d": {
      "model_module": "@jupyter-widgets/base",
      "model_module_version": "1.2.0",
      "model_name": "LayoutModel",
      "state": {}
     },
     "97afb2960e67464ebd0ea7e768317b03": {
      "model_module": "@jupyter-widgets/base",
      "model_module_version": "1.2.0",
      "model_name": "LayoutModel",
      "state": {}
     },
     "97f9054a19b94f649c2c43daf746d8ad": {
      "model_module": "@jupyter-widgets/controls",
      "model_module_version": "1.5.0",
      "model_name": "TextModel",
      "state": {
       "continuous_update": false,
       "description": "name",
       "layout": "IPY_MODEL_365ec1034d8846dc934c13bdd628212a",
       "style": "IPY_MODEL_fe47d6fcca4343b9b6744ef3bf3370a2",
       "value": "maxorder"
      }
     },
     "9824adc57ba049e4afcc27d45ea5872d": {
      "model_module": "@jupyter-widgets/controls",
      "model_module_version": "1.5.0",
      "model_name": "DescriptionStyleModel",
      "state": {
       "description_width": ""
      }
     },
     "98277c35c08042f6a10536f9cec224a9": {
      "model_module": "@jupyter-widgets/base",
      "model_module_version": "1.2.0",
      "model_name": "LayoutModel",
      "state": {}
     },
     "98388df207bd4a559bfd30c5445ef20d": {
      "model_module": "@jupyter-widgets/base",
      "model_module_version": "1.2.0",
      "model_name": "LayoutModel",
      "state": {}
     },
     "983ff0bf760d4a3595c58dc8bec1ee06": {
      "model_module": "@jupyter-widgets/controls",
      "model_module_version": "1.5.0",
      "model_name": "FloatSliderModel",
      "state": {
       "description": "transparency",
       "layout": "IPY_MODEL_10052b125cad43d289bb2ecbb7d56d4f",
       "max": 1,
       "step": 0.1,
       "style": "IPY_MODEL_998e4a990bb5494382d67f8d49b65c19"
      }
     },
     "98aa41c6eb644b028a4c3b34c61591da": {
      "model_module": "@jupyter-widgets/controls",
      "model_module_version": "1.5.0",
      "model_name": "DescriptionStyleModel",
      "state": {
       "description_width": ""
      }
     },
     "98b3dcd8990146f594f7c54e237135e5": {
      "model_module": "pgljupyter",
      "model_module_version": "^0.1.19",
      "model_name": "IntEditorModel",
      "state": {
       "_model_module_version": "^0.1.19",
       "_view_module_version": "^0.1.19",
       "children": [
        "IPY_MODEL_1bf3eb867db745b39087e47d083ee70c",
        "IPY_MODEL_a7c7cb1ea21d4cc2ad1a8aa92bdc5b43"
       ],
       "layout": "IPY_MODEL_c9baeb3cc9b94afca6784ad73de3b963"
      }
     },
     "98e62b318b7c483cb6d8f8cd5917ff1b": {
      "model_module": "pgljupyter",
      "model_module_version": "^0.1.17",
      "model_name": "ParameterEditorModel",
      "state": {
       "_model_module_version": "^0.1.17",
       "_view_module_version": "^0.1.17",
       "children": [
        "IPY_MODEL_8be95b6e2c4341088b47d9a41a5e1916"
       ],
       "layout": "IPY_MODEL_4be4fe9b98574f5e94986b02b8c225cb"
      }
     },
     "98fe3261f12c4e249958290f37ba93d2": {
      "model_module": "@jupyter-widgets/controls",
      "model_module_version": "1.5.0",
      "model_name": "ButtonModel",
      "state": {
       "description": "Delete",
       "layout": "IPY_MODEL_0daf2556cff5466a8f88c6b061377e55",
       "style": "IPY_MODEL_d563b21fb0e44bff9f75ce1b0e25866e"
      }
     },
     "9912022f5d81416fae20d7fb32ee621a": {
      "model_module": "@jupyter-widgets/controls",
      "model_module_version": "1.5.0",
      "model_name": "DescriptionStyleModel",
      "state": {
       "description_width": ""
      }
     },
     "9915bfe8a73a4ccab7d287b3385f6115": {
      "model_module": "@jupyter-widgets/base",
      "model_module_version": "1.2.0",
      "model_name": "LayoutModel",
      "state": {}
     },
     "991d20b434f14f32ba0b5c3eb2836f02": {
      "model_module": "@jupyter-widgets/base",
      "model_module_version": "1.2.0",
      "model_name": "LayoutModel",
      "state": {}
     },
     "9925cbd3ea0647db80ef2a633272125b": {
      "model_module": "@jupyter-widgets/controls",
      "model_module_version": "1.5.0",
      "model_name": "CheckboxModel",
      "state": {
       "description": "Auto save",
       "disabled": false,
       "layout": "IPY_MODEL_42e7b3c15d994cd6b5e009744d25d2cf",
       "style": "IPY_MODEL_e39e2498279249fda7dc6eebafd8b0bb",
       "value": false
      }
     },
     "994ff1c50b4e44a6bb5d4ae45fea71f2": {
      "model_module": "@jupyter-widgets/base",
      "model_module_version": "1.2.0",
      "model_name": "LayoutModel",
      "state": {}
     },
     "9961b6fd43374fabbaa82d99027e4bb1": {
      "model_module": "@jupyter-widgets/controls",
      "model_module_version": "1.5.0",
      "model_name": "ButtonStyleModel",
      "state": {}
     },
     "998772480aac452387c45481c4a8859d": {
      "model_module": "@jupyter-widgets/base",
      "model_module_version": "1.2.0",
      "model_name": "LayoutModel",
      "state": {}
     },
     "998e4a990bb5494382d67f8d49b65c19": {
      "model_module": "@jupyter-widgets/controls",
      "model_module_version": "1.5.0",
      "model_name": "SliderStyleModel",
      "state": {
       "description_width": ""
      }
     },
     "9991cdc311734263a5179071275bff7c": {
      "model_module": "@jupyter-widgets/controls",
      "model_module_version": "1.5.0",
      "model_name": "ColorPickerModel",
      "state": {
       "description": "specular",
       "disabled": false,
       "layout": "IPY_MODEL_5d416a34f993487a93cb14b0054ea4ea",
       "style": "IPY_MODEL_160584d7549b440497e447884ae62452",
       "value": "#282828"
      }
     },
     "9995b849589e4f8a87cd74cb1555ef93": {
      "model_module": "@jupyter-widgets/controls",
      "model_module_version": "1.5.0",
      "model_name": "DescriptionStyleModel",
      "state": {
       "description_width": ""
      }
     },
     "99a8e99bf57142b881b83b3908b78915": {
      "model_module": "@jupyter-widgets/controls",
      "model_module_version": "1.5.0",
      "model_name": "TextModel",
      "state": {
       "continuous_update": false,
       "description": "name",
       "layout": "IPY_MODEL_1d1181a2fd7a41b6942a8f000b3d75bd",
       "style": "IPY_MODEL_d98400c8547342cb8a67ecbb1f113126",
       "value": "radinc"
      }
     },
     "9a1e1906710e483a890168686eb48dea": {
      "model_module": "@jupyter-widgets/controls",
      "model_module_version": "1.5.0",
      "model_name": "ButtonStyleModel",
      "state": {}
     },
     "9a39bcbc02c34c958a3a2bea5ded14be": {
      "model_module": "@jupyter-widgets/controls",
      "model_module_version": "1.5.0",
      "model_name": "DropdownModel",
      "state": {
       "index": null,
       "layout": "IPY_MODEL_554ebc2fe70b441697fdba4d2a6f87c0",
       "style": "IPY_MODEL_d5962bdf3e204a32a0c5f001c01c8af8"
      }
     },
     "9a57f9c762704968844cf5cf71803d87": {
      "model_module": "@jupyter-widgets/controls",
      "model_module_version": "1.5.0",
      "model_name": "FloatSliderModel",
      "state": {
       "description": "shininess",
       "layout": "IPY_MODEL_ffa7968d5369463eadff716d61ff8c15",
       "max": 1,
       "step": 0.1,
       "style": "IPY_MODEL_3dda600e26ba44f9a458b8f113ced26f",
       "value": 0.2
      }
     },
     "9a9dd7b9393e473ab51a5616b57ee709": {
      "model_module": "@jupyter-widgets/controls",
      "model_module_version": "1.5.0",
      "model_name": "FloatSliderModel",
      "state": {
       "description": "diffuse",
       "layout": "IPY_MODEL_0f79a7c69fb34b2d9f55d3a3cfb5c585",
       "max": 3,
       "step": 0.1,
       "style": "IPY_MODEL_5d56f12735114a72b59aee0792d5ab99",
       "value": 1
      }
     },
     "9adab8c2be424a5f8a9aa5ef3f26e6dd": {
      "model_module": "@jupyter-widgets/base",
      "model_module_version": "1.2.0",
      "model_name": "LayoutModel",
      "state": {}
     },
     "9b10fafd1dad421981300c41e7b605cc": {
      "model_module": "@jupyter-widgets/controls",
      "model_module_version": "1.5.0",
      "model_name": "HBoxModel",
      "state": {
       "children": [
        "IPY_MODEL_679a4e3dbf4340d084066a79f8c8540d",
        "IPY_MODEL_6e149d6140aa4abca3c6a495c874087e"
       ],
       "layout": "IPY_MODEL_bb79433b06b94630b6f77fbc405d30c3"
      }
     },
     "9b28113ac4cf4246b8f51027152a28ae": {
      "model_module": "@jupyter-widgets/base",
      "model_module_version": "1.2.0",
      "model_name": "LayoutModel",
      "state": {}
     },
     "9b2cf354612745219cec51fc673564b0": {
      "model_module": "@jupyter-widgets/controls",
      "model_module_version": "1.5.0",
      "model_name": "DescriptionStyleModel",
      "state": {
       "description_width": ""
      }
     },
     "9b30eab18de94dffbe1a6d676db8158c": {
      "model_module": "@jupyter-widgets/base",
      "model_module_version": "1.2.0",
      "model_name": "LayoutModel",
      "state": {}
     },
     "9b3e11ebb803450b986ba009cd7271d1": {
      "model_module": "@jupyter-widgets/base",
      "model_module_version": "1.2.0",
      "model_name": "LayoutModel",
      "state": {
       "margin": "20px 0px"
      }
     },
     "9b552c4d5fcb4cb5a27ef472c8be80f2": {
      "model_module": "@jupyter-widgets/base",
      "model_module_version": "1.2.0",
      "model_name": "LayoutModel",
      "state": {}
     },
     "9b789e08ff1c46f1bb9f707c180a4903": {
      "model_module": "@jupyter-widgets/base",
      "model_module_version": "1.2.0",
      "model_name": "LayoutModel",
      "state": {}
     },
     "9b8436ae14f84fa29eae52599733cb23": {
      "model_module": "@jupyter-widgets/controls",
      "model_module_version": "1.5.0",
      "model_name": "SliderStyleModel",
      "state": {
       "description_width": ""
      }
     },
     "9b9062181b2349279a58cedf3d1a123f": {
      "model_module": "@jupyter-widgets/controls",
      "model_module_version": "1.5.0",
      "model_name": "HBoxModel",
      "state": {
       "layout": "IPY_MODEL_5ffcfabea4324e77ba7847c89942d8f5"
      }
     },
     "9b9a7369a8eb4f5da61755ac616f74c3": {
      "model_module": "@jupyter-widgets/controls",
      "model_module_version": "1.5.0",
      "model_name": "ButtonModel",
      "state": {
       "description": "Delete",
       "layout": "IPY_MODEL_8688606d2e9e400dbdbdb02bf5459c6a",
       "style": "IPY_MODEL_8385988dc1324faabaa3e51b770405fa"
      }
     },
     "9baabb8054da4869a9a5271e3cb0fc84": {
      "model_module": "@jupyter-widgets/controls",
      "model_module_version": "1.5.0",
      "model_name": "DescriptionStyleModel",
      "state": {
       "description_width": ""
      }
     },
     "9bbd113d7ca4432ebc3257210c3b4bba": {
      "model_module": "@jupyter-widgets/controls",
      "model_module_version": "1.5.0",
      "model_name": "BoundedIntTextModel",
      "state": {
       "description": "index",
       "layout": "IPY_MODEL_90f363a2c49a484a843ce9189c500501",
       "style": "IPY_MODEL_6dc7af3ab18949c5af3d4e2a41944457",
       "value": 2
      }
     },
     "9bc9c3338eea4c8c86654a7b2ab4b2be": {
      "model_module": "@jupyter-widgets/controls",
      "model_module_version": "1.5.0",
      "model_name": "BoundedIntTextModel",
      "state": {
       "description": "index",
       "layout": "IPY_MODEL_9d44e4d7b6b5496abd6950c0d6063e41",
       "style": "IPY_MODEL_c30638fef6f54cf1961713315e8da2f9",
       "value": 1
      }
     },
     "9bee7a831530488d8f1b62a13071e4a1": {
      "model_module": "@jupyter-widgets/controls",
      "model_module_version": "1.5.0",
      "model_name": "HBoxModel",
      "state": {
       "children": [
        "IPY_MODEL_bc2caf9b3fc84da494330dba24816842",
        "IPY_MODEL_744795a86db044f098523c400f8e0b54"
       ],
       "layout": "IPY_MODEL_05158b063b184ffe96c65e42e171536a"
      }
     },
     "9c81b23cc78347d3b3f5498f783fd5c4": {
      "model_module": "@jupyter-widgets/controls",
      "model_module_version": "1.5.0",
      "model_name": "CheckboxModel",
      "state": {
       "description": "Auto apply",
       "disabled": false,
       "layout": "IPY_MODEL_9fa3784e27c34e6ba76a8dc86ca4931f",
       "style": "IPY_MODEL_ef248a12bce040c9b9d1143f988a7f70",
       "value": false
      }
     },
     "9c9be4e906924b7ca4fc59cedc2f1e32": {
      "model_module": "@jupyter-widgets/base",
      "model_module_version": "1.2.0",
      "model_name": "LayoutModel",
      "state": {}
     },
     "9c9faa69b3cc422bacb248629847951b": {
      "model_module": "@jupyter-widgets/controls",
      "model_module_version": "1.5.0",
      "model_name": "FloatSliderModel",
      "state": {
       "description": "diffuse",
       "layout": "IPY_MODEL_fffdce2dbd3c478e87ffe3ab55ccfcaf",
       "max": 3,
       "step": 0.1,
       "style": "IPY_MODEL_c7fdf9479d19465286070c71ea3e9462",
       "value": 1
      }
     },
     "9ca461330d2145f89ba7e4575a975a1e": {
      "model_module": "@jupyter-widgets/controls",
      "model_module_version": "1.5.0",
      "model_name": "DropdownModel",
      "state": {
       "_options_labels": [
        "trunk",
        "leaf_new",
        "apex",
        "leaf_old"
       ],
       "index": 0,
       "layout": "IPY_MODEL_7ab21dc191f244d38e02875852ce1635",
       "style": "IPY_MODEL_17dc7d6946fa4dcb97123fb2091496ed"
      }
     },
     "9cbbf712b5e546d7b39a41428b0aa2f1": {
      "model_module": "@jupyter-widgets/controls",
      "model_module_version": "1.5.0",
      "model_name": "DescriptionStyleModel",
      "state": {
       "description_width": ""
      }
     },
     "9d12e0ef939e4807b6d9a006fce2d523": {
      "model_module": "@jupyter-widgets/controls",
      "model_module_version": "1.5.0",
      "model_name": "BoundedFloatTextModel",
      "state": {
       "description": "step",
       "layout": "IPY_MODEL_255b3c439597483f80ed865cd04cc345",
       "max": 1,
       "min": 0.01,
       "step": 0.01,
       "style": "IPY_MODEL_259e1b89f75240de83d19dcd3b59bf86",
       "value": 0.01
      }
     },
     "9d18be69857d479da54872b16cad623b": {
      "model_module": "@jupyter-widgets/base",
      "model_module_version": "1.2.0",
      "model_name": "LayoutModel",
      "state": {}
     },
     "9d1c471f6aa5499386c9cee5a496cdfc": {
      "model_module": "@jupyter-widgets/controls",
      "model_module_version": "1.5.0",
      "model_name": "HBoxModel",
      "state": {
       "children": [
        "IPY_MODEL_27f197b4f13d478283479e8a52271d78",
        "IPY_MODEL_42733af347b24deeb6820dafdba23586"
       ],
       "layout": "IPY_MODEL_8b43f3f764b3434fbc0675fd7f1f079d"
      }
     },
     "9d3e8bfa637b4501a40010eae48c2c9e": {
      "model_module": "@jupyter-widgets/base",
      "model_module_version": "1.2.0",
      "model_name": "LayoutModel",
      "state": {}
     },
     "9d44e4d7b6b5496abd6950c0d6063e41": {
      "model_module": "@jupyter-widgets/base",
      "model_module_version": "1.2.0",
      "model_name": "LayoutModel",
      "state": {}
     },
     "9d4b9a9b3979406d872e9b0718717eb7": {
      "model_module": "@jupyter-widgets/controls",
      "model_module_version": "1.5.0",
      "model_name": "ColorPickerModel",
      "state": {
       "description": "ambient",
       "disabled": false,
       "layout": "IPY_MODEL_08a086db9f984b649195bfba6e845663",
       "style": "IPY_MODEL_7844922bdc964f79876f85b1d4fdf8b4",
       "value": "#5b4534"
      }
     },
     "9d7be6be4d2747209818d0df34b5332e": {
      "model_module": "@jupyter-widgets/controls",
      "model_module_version": "1.5.0",
      "model_name": "DescriptionStyleModel",
      "state": {
       "description_width": ""
      }
     },
     "9d85129303a24583bb579ed66f0f17c6": {
      "model_module": "@jupyter-widgets/controls",
      "model_module_version": "1.5.0",
      "model_name": "BoundedIntTextModel",
      "state": {
       "description": "index",
       "layout": "IPY_MODEL_9323e0d993094b5598ad0290264509ac",
       "style": "IPY_MODEL_c25725e9ed4543cba7cfc3aee18d110d",
       "value": 3
      }
     },
     "9db215c1ff3242bab8eb9533ae4c1142": {
      "model_module": "@jupyter-widgets/controls",
      "model_module_version": "1.5.0",
      "model_name": "ColorPickerModel",
      "state": {
       "description": "ambient",
       "disabled": false,
       "layout": "IPY_MODEL_0d6a37d535614710acb801033c6e1b4b",
       "style": "IPY_MODEL_38f0ad6d78c543e584e0999e772ae5b0",
       "value": "#e1a014"
      }
     },
     "9e0dbc685d844cfd942dcb418366010a": {
      "model_module": "@jupyter-widgets/base",
      "model_module_version": "1.2.0",
      "model_name": "LayoutModel",
      "state": {}
     },
     "9e28d980a69940b8887b30e5d2ab7eba": {
      "model_module": "@jupyter-widgets/controls",
      "model_module_version": "1.5.0",
      "model_name": "SliderStyleModel",
      "state": {
       "description_width": ""
      }
     },
     "9e2c5933bf4e4702ae54e16799be5b86": {
      "model_module": "@jupyter-widgets/base",
      "model_module_version": "1.2.0",
      "model_name": "LayoutModel",
      "state": {}
     },
     "9e900280d0514e8d81562cb4284c52dd": {
      "model_module": "@jupyter-widgets/base",
      "model_module_version": "1.2.0",
      "model_name": "LayoutModel",
      "state": {}
     },
     "9e9532d3f9264d848c9671d25e59429b": {
      "model_module": "@jupyter-widgets/base",
      "model_module_version": "1.2.0",
      "model_name": "LayoutModel",
      "state": {}
     },
     "9e9b6175f07b4b388b45284c5be91fe8": {
      "model_module": "@jupyter-widgets/base",
      "model_module_version": "1.2.0",
      "model_name": "LayoutModel",
      "state": {}
     },
     "9ed51db8130848ad90da4bdd175506a3": {
      "model_module": "@jupyter-widgets/base",
      "model_module_version": "1.2.0",
      "model_name": "LayoutModel",
      "state": {}
     },
     "9f1b252d842443fc95ac8e7e4f03c95a": {
      "model_module": "@jupyter-widgets/controls",
      "model_module_version": "1.5.0",
      "model_name": "ButtonModel",
      "state": {
       "description": "Add category",
       "layout": "IPY_MODEL_25319b4a1c0d492ea4c44baed1f845f1",
       "style": "IPY_MODEL_22f9f8931d46440d97e214fb63e75678"
      }
     },
     "9f2dbce166f945239d5998018bbaae65": {
      "model_module": "@jupyter-widgets/controls",
      "model_module_version": "1.5.0",
      "model_name": "ButtonModel",
      "state": {
       "description": "Save changes",
       "layout": "IPY_MODEL_1b5446a7b8594571b37b59d8d9494810",
       "style": "IPY_MODEL_10cf3b81371e442e9ea401ba90dc6424"
      }
     },
     "9f354ca43c3848c8a0a6e0d4c83d58ba": {
      "model_module": "@jupyter-widgets/controls",
      "model_module_version": "1.5.0",
      "model_name": "HBoxModel",
      "state": {
       "children": [
        "IPY_MODEL_b83043512c0f4a2d9f6e344f6ba2039e",
        "IPY_MODEL_cce99130437343edbb73e295b4bb4a02"
       ],
       "layout": "IPY_MODEL_81b18d0fb7524952b85175ffd2632d16"
      }
     },
     "9f81c34fd48c46a38082ef22fe436144": {
      "model_module": "@jupyter-widgets/base",
      "model_module_version": "1.2.0",
      "model_name": "LayoutModel",
      "state": {}
     },
     "9fa3784e27c34e6ba76a8dc86ca4931f": {
      "model_module": "@jupyter-widgets/base",
      "model_module_version": "1.2.0",
      "model_name": "LayoutModel",
      "state": {}
     },
     "9fa90f82578d4c6cbf8256092d7543fa": {
      "model_module": "@jupyter-widgets/controls",
      "model_module_version": "1.5.0",
      "model_name": "ButtonStyleModel",
      "state": {}
     },
     "9fafbd4bd5c347e4855e7442dafe12b9": {
      "model_module": "@jupyter-widgets/base",
      "model_module_version": "1.2.0",
      "model_name": "LayoutModel",
      "state": {}
     },
     "9ff1c9457cb74aa3a67133ab431c26fa": {
      "model_module": "@jupyter-widgets/controls",
      "model_module_version": "1.5.0",
      "model_name": "AccordionModel",
      "state": {
       "_titles": {
        "0": "materials",
        "1": "leaf",
        "2": "trunk & branches"
       },
       "children": [
        "IPY_MODEL_eb1b16194a974b38b9619ef00779fa26",
        "IPY_MODEL_2ddb53f89ba24d29879e06aa20312c33",
        "IPY_MODEL_ba8e3775748c410583ae69a234f084fd"
       ],
       "layout": "IPY_MODEL_481a58dae7e14912a728666f6352c9b3"
      }
     },
     "a01d9dc1f8e34f3296fd8d2ea826ec8c": {
      "model_module": "@jupyter-widgets/controls",
      "model_module_version": "1.5.0",
      "model_name": "DescriptionStyleModel",
      "state": {
       "description_width": ""
      }
     },
     "a02f0afc7f6946cfbda70b9cb2bee9f9": {
      "model_module": "@jupyter-widgets/controls",
      "model_module_version": "1.5.0",
      "model_name": "DropdownModel",
      "state": {
       "_options_labels": [
        "leafduration",
        "leafold"
       ],
       "index": 0,
       "layout": "IPY_MODEL_de0166a69e364f30890e136c6a843c04",
       "style": "IPY_MODEL_17a8887bab0d48dda0b6eb417e76dbac"
      }
     },
     "a03e944e51cb40c5810fc9d0fa1bbb94": {
      "model_module": "@jupyter-widgets/controls",
      "model_module_version": "1.5.0",
      "model_name": "HBoxModel",
      "state": {
       "children": [
        "IPY_MODEL_1353b6016646410798b195d84bc20e50",
        "IPY_MODEL_7d00e5b6fac64279ab76b336056511c0",
        "IPY_MODEL_f091e8ee938040379301180a6b5f8ece",
        "IPY_MODEL_dab8e9c05b4743e0910867303374e23e"
       ],
       "layout": "IPY_MODEL_5a7768daa7114d36b770ea435fe36cec"
      }
     },
     "a05c2a0fc34b4dfe85701e30e5a55732": {
      "model_module": "@jupyter-widgets/controls",
      "model_module_version": "1.5.0",
      "model_name": "ColorPickerModel",
      "state": {
       "description": "specular",
       "disabled": false,
       "layout": "IPY_MODEL_d4426702c7c94b0aac24491668d12154",
       "style": "IPY_MODEL_89abd2f5d7a24df6bcce9045e015f6b6",
       "value": "#282828"
      }
     },
     "a0702378d919446e8e9b36d5aac020a8": {
      "model_module": "@jupyter-widgets/controls",
      "model_module_version": "1.5.0",
      "model_name": "SliderStyleModel",
      "state": {
       "description_width": ""
      }
     },
     "a0afcc87243542eeaf16398cb75a5821": {
      "model_module": "@jupyter-widgets/base",
      "model_module_version": "1.2.0",
      "model_name": "LayoutModel",
      "state": {}
     },
     "a0c0376ddf624c66a5d12384bfc7b96f": {
      "model_module": "@jupyter-widgets/base",
      "model_module_version": "1.2.0",
      "model_name": "LayoutModel",
      "state": {}
     },
     "a0c58eb759874d7aabec070d0f8f4e28": {
      "model_module": "@jupyter-widgets/base",
      "model_module_version": "1.2.0",
      "model_name": "LayoutModel",
      "state": {}
     },
     "a12bf960042943e8b1e8bbee51abb425": {
      "model_module": "@jupyter-widgets/controls",
      "model_module_version": "1.5.0",
      "model_name": "DropdownModel",
      "state": {
       "_options_labels": [
        "maxorder",
        "radinc",
        "nb_axes"
       ],
       "index": 0,
       "layout": "IPY_MODEL_7adadb4124b24f179bc60882cf6ae00a",
       "style": "IPY_MODEL_b9b1d7bb539941cd99ecc58e604d0784"
      }
     },
     "a143a5b673a2495e928dd346cefa7981": {
      "model_module": "@jupyter-widgets/controls",
      "model_module_version": "1.5.0",
      "model_name": "HBoxModel",
      "state": {
       "children": [
        "IPY_MODEL_b67e23aadfc0447c98ae6280c6d11af4",
        "IPY_MODEL_407e1eb8df67478aa2edf212374198dd"
       ],
       "layout": "IPY_MODEL_4d77f69f74244057baec36b232f87f78"
      }
     },
     "a14d2f25db9a4ee09e33307c1cc7015b": {
      "model_module": "@jupyter-widgets/controls",
      "model_module_version": "1.5.0",
      "model_name": "ColorPickerModel",
      "state": {
       "description": "specular",
       "disabled": false,
       "layout": "IPY_MODEL_ae2120fec28e429792294924ef4e7252",
       "style": "IPY_MODEL_0cb243c061d34b35a8ad51de93b3548a",
       "value": "#282828"
      }
     },
     "a15f82e8dd1a43408a5d120bd20123be": {
      "model_module": "@jupyter-widgets/controls",
      "model_module_version": "1.5.0",
      "model_name": "SliderStyleModel",
      "state": {
       "description_width": ""
      }
     },
     "a168b04a2dbf49739b7e62715ebafb2f": {
      "model_module": "@jupyter-widgets/controls",
      "model_module_version": "1.5.0",
      "model_name": "HBoxModel",
      "state": {
       "children": [
        "IPY_MODEL_862e6be63a4c4ec7a41e281d8b696e8d",
        "IPY_MODEL_73c2343975874c018e3bdb7a49cd342d"
       ],
       "layout": "IPY_MODEL_ee807aaf7dd849e494a1bea9e632bb51"
      }
     },
     "a177c650942f473394de06d06b3caca8": {
      "model_module": "@jupyter-widgets/controls",
      "model_module_version": "1.5.0",
      "model_name": "VBoxModel",
      "state": {
       "children": [
        "IPY_MODEL_137cbe8acae84e968a221cf773fdf8fd",
        "IPY_MODEL_c87de82df61849479c94ddeef1b62236"
       ],
       "layout": "IPY_MODEL_f6c4882c37f6475dbcdbc12bd7155a7c"
      }
     },
     "a1906644e02d4f33ae8f642c8841461f": {
      "model_module": "@jupyter-widgets/controls",
      "model_module_version": "1.5.0",
      "model_name": "ButtonModel",
      "state": {
       "description": "Add",
       "layout": "IPY_MODEL_9242e4b52d1c46328eae0b31e19984e1",
       "style": "IPY_MODEL_2f17b1525d00451c858cb41c69112c69"
      }
     },
     "a19a36aed4ac40049951a2984ceedf3b": {
      "model_module": "@jupyter-widgets/base",
      "model_module_version": "1.2.0",
      "model_name": "LayoutModel",
      "state": {}
     },
     "a1b5b03ee7734374841f6ac59804c61a": {
      "model_module": "@jupyter-widgets/controls",
      "model_module_version": "1.5.0",
      "model_name": "DropdownModel",
      "state": {
       "index": null,
       "layout": "IPY_MODEL_ccb39defb4b54d8591cbedd607b9aa56",
       "style": "IPY_MODEL_f68ef37f8ced4c228aca91904f273ad4"
      }
     },
     "a21046bdb21740aeae992e0143e91153": {
      "model_module": "@jupyter-widgets/controls",
      "model_module_version": "1.5.0",
      "model_name": "DescriptionStyleModel",
      "state": {
       "description_width": ""
      }
     },
     "a2621c9fa86a4cef802aae2710c3be5f": {
      "model_module": "@jupyter-widgets/controls",
      "model_module_version": "1.5.0",
      "model_name": "DropdownModel",
      "state": {
       "_options_labels": [
        "leafduration",
        "leafold"
       ],
       "index": 0,
       "layout": "IPY_MODEL_6d8d2b229cc647d08308701c382a11a7",
       "style": "IPY_MODEL_221ff8ea7a8240c4978f750044c1a1b6"
      }
     },
     "a2b015214e0846d9ac5d81a1bebac7b4": {
      "model_module": "@jupyter-widgets/controls",
      "model_module_version": "1.5.0",
      "model_name": "CheckboxModel",
      "state": {
       "description": "Auto apply",
       "disabled": false,
       "layout": "IPY_MODEL_b40339e839344d96ba6ff6a53935e92b",
       "style": "IPY_MODEL_754a8ec29fb14d7087455060f4d25989",
       "value": false
      }
     },
     "a2c6eda68e01466896e29101678f2ecc": {
      "model_module": "@jupyter-widgets/controls",
      "model_module_version": "1.5.0",
      "model_name": "DescriptionStyleModel",
      "state": {
       "description_width": ""
      }
     },
     "a2c8f4caf0534767b4ee6a45ae3ec430": {
      "model_module": "@jupyter-widgets/controls",
      "model_module_version": "1.5.0",
      "model_name": "DropdownModel",
      "state": {
       "index": null,
       "layout": "IPY_MODEL_2bf17ef5037e47f2a920e8d7811f8932",
       "style": "IPY_MODEL_d96933ee81db49b7a9317685439d454c"
      }
     },
     "a2e0faf740134dcb8588672a0eb3e8d8": {
      "model_module": "@jupyter-widgets/base",
      "model_module_version": "1.2.0",
      "model_name": "LayoutModel",
      "state": {}
     },
     "a2e742f0ad8747ec88f5cf551a3b5224": {
      "model_module": "@jupyter-widgets/controls",
      "model_module_version": "1.5.0",
      "model_name": "HBoxModel",
      "state": {
       "layout": "IPY_MODEL_f54b6bb1cd9047f2913448b18542023e"
      }
     },
     "a2eafcfa36b44a6ba3e34657e64cec7a": {
      "model_module": "@jupyter-widgets/controls",
      "model_module_version": "1.5.0",
      "model_name": "FloatSliderModel",
      "state": {
       "description": "transparency",
       "layout": "IPY_MODEL_e01ac84da5b94b36859436d3ee12a19e",
       "max": 1,
       "step": 0.1,
       "style": "IPY_MODEL_dcc995adc6dd4fe097aab757670954b6"
      }
     },
     "a2eb67920af64606babedcf49f3ac443": {
      "model_module": "@jupyter-widgets/controls",
      "model_module_version": "1.5.0",
      "model_name": "DescriptionStyleModel",
      "state": {
       "description_width": ""
      }
     },
     "a301eb5668924f298fa462fb2ee4e2dc": {
      "model_module": "@jupyter-widgets/controls",
      "model_module_version": "1.5.0",
      "model_name": "SliderStyleModel",
      "state": {
       "description_width": ""
      }
     },
     "a3671b271bf948d2aaa3826c21d26b20": {
      "model_module": "@jupyter-widgets/controls",
      "model_module_version": "1.5.0",
      "model_name": "HBoxModel",
      "state": {
       "layout": "IPY_MODEL_6f5e6f5355bd440d8af5ee837dac75a9"
      }
     },
     "a3aa80b4b3224cfa978751461082efdd": {
      "model_module": "@jupyter-widgets/controls",
      "model_module_version": "1.5.0",
      "model_name": "DescriptionStyleModel",
      "state": {
       "description_width": ""
      }
     },
     "a4330bdab939492fbed45caab83a37b0": {
      "model_module": "@jupyter-widgets/base",
      "model_module_version": "1.2.0",
      "model_name": "LayoutModel",
      "state": {}
     },
     "a4413d9c30754ab7a29140a77c7d2e8f": {
      "model_module": "@jupyter-widgets/base",
      "model_module_version": "1.2.0",
      "model_name": "LayoutModel",
      "state": {
       "margin": "20px 0px"
      }
     },
     "a4778b701d8d479488af98ccfba9a85d": {
      "model_module": "@jupyter-widgets/base",
      "model_module_version": "1.2.0",
      "model_name": "LayoutModel",
      "state": {
       "margin": "20px 0px"
      }
     },
     "a4c87564910c4791b7ebc8217ae6af21": {
      "model_module": "@jupyter-widgets/base",
      "model_module_version": "1.2.0",
      "model_name": "LayoutModel",
      "state": {}
     },
     "a5264762497747948922c606524ae042": {
      "model_module": "@jupyter-widgets/base",
      "model_module_version": "1.2.0",
      "model_name": "LayoutModel",
      "state": {}
     },
     "a52d14ce28c94f17afce4575f5ea57dd": {
      "model_module": "@jupyter-widgets/base",
      "model_module_version": "1.2.0",
      "model_name": "LayoutModel",
      "state": {}
     },
     "a547bbd798964d08896ad103a8c35c97": {
      "model_module": "@jupyter-widgets/base",
      "model_module_version": "1.2.0",
      "model_name": "LayoutModel",
      "state": {}
     },
     "a56afbd1a4e74ddb9b19fb5de0bcf2b0": {
      "model_module": "@jupyter-widgets/controls",
      "model_module_version": "1.5.0",
      "model_name": "DescriptionStyleModel",
      "state": {
       "description_width": ""
      }
     },
     "a5a3a25a887b433b95152afe55d8192d": {
      "model_module": "@jupyter-widgets/base",
      "model_module_version": "1.2.0",
      "model_name": "LayoutModel",
      "state": {}
     },
     "a5d0d447b1394b03986172fc7562d1f4": {
      "model_module": "@jupyter-widgets/controls",
      "model_module_version": "1.5.0",
      "model_name": "HBoxModel",
      "state": {
       "children": [
        "IPY_MODEL_96cdd7a7ccd846d3924fb1cc7ba26616",
        "IPY_MODEL_0414cc8a90c64c448f20ab6c7de8a484"
       ],
       "layout": "IPY_MODEL_a7a0c50477554430aa4553a8141c8cdf"
      }
     },
     "a5dda22448ef440894f70c195c7f9911": {
      "model_module": "@jupyter-widgets/base",
      "model_module_version": "1.2.0",
      "model_name": "LayoutModel",
      "state": {}
     },
     "a5fa387b659b43e6811c5b2786ac85cd": {
      "model_module": "@jupyter-widgets/controls",
      "model_module_version": "1.5.0",
      "model_name": "HBoxModel",
      "state": {
       "children": [
        "IPY_MODEL_45109e056cae4646bd13589740cb2e07",
        "IPY_MODEL_ad7052f26bac417382466038fda4af38"
       ],
       "layout": "IPY_MODEL_2c72ff2950854494b63f8872eabd3dac"
      }
     },
     "a6a5cc76976d4a088ca7e7f307750adf": {
      "model_module": "@jupyter-widgets/controls",
      "model_module_version": "1.5.0",
      "model_name": "DescriptionStyleModel",
      "state": {
       "description_width": ""
      }
     },
     "a6b2268c582b4593aeb1fd6140283cda": {
      "model_module": "@jupyter-widgets/controls",
      "model_module_version": "1.5.0",
      "model_name": "ColorPickerModel",
      "state": {
       "description": "specular",
       "disabled": false,
       "layout": "IPY_MODEL_e53a81fe5d75435cb12952d290d8bed4",
       "style": "IPY_MODEL_0265533bc3464ca7a91abeccee38a36a",
       "value": "#282828"
      }
     },
     "a6ba6d086bb947a9a81c7c00b649099a": {
      "model_module": "@jupyter-widgets/controls",
      "model_module_version": "1.5.0",
      "model_name": "HBoxModel",
      "state": {
       "children": [
        "IPY_MODEL_73f23e73ddf440029997bd7411d5ebcb",
        "IPY_MODEL_9f354ca43c3848c8a0a6e0d4c83d58ba"
       ],
       "layout": "IPY_MODEL_4d77f69f74244057baec36b232f87f78"
      }
     },
     "a72f273cdb3945e394051fb5a3ed72de": {
      "model_module": "@jupyter-widgets/controls",
      "model_module_version": "1.5.0",
      "model_name": "TextModel",
      "state": {
       "continuous_update": false,
       "description": "name",
       "layout": "IPY_MODEL_2e4a8e24f3cb480f948147e7187812ba",
       "style": "IPY_MODEL_5c45b8f207094c259218686f4e90aff4",
       "value": "maxorder"
      }
     },
     "a74641fad73f460aaf67830e96175f14": {
      "model_module": "@jupyter-widgets/controls",
      "model_module_version": "1.5.0",
      "model_name": "ButtonModel",
      "state": {
       "description": "Add",
       "layout": "IPY_MODEL_8e4723856ef545059ac8d8e784b37a8e",
       "style": "IPY_MODEL_2f7990fb68574e08a097ad24e9646305"
      }
     },
     "a748a5f3be3444728407cba1e18220ed": {
      "model_module": "@jupyter-widgets/base",
      "model_module_version": "1.2.0",
      "model_name": "LayoutModel",
      "state": {}
     },
     "a74963dac2344d5ab99396cfdd373704": {
      "model_module": "@jupyter-widgets/base",
      "model_module_version": "1.2.0",
      "model_name": "LayoutModel",
      "state": {}
     },
     "a7a0c50477554430aa4553a8141c8cdf": {
      "model_module": "@jupyter-widgets/base",
      "model_module_version": "1.2.0",
      "model_name": "LayoutModel",
      "state": {}
     },
     "a7c7cb1ea21d4cc2ad1a8aa92bdc5b43": {
      "model_module": "@jupyter-widgets/controls",
      "model_module_version": "1.5.0",
      "model_name": "IntSliderModel",
      "state": {
       "description": "value",
       "layout": "IPY_MODEL_4c9d04011f15472db454f026ea6b3c07",
       "max": 10,
       "min": 1,
       "style": "IPY_MODEL_f1784203f14e47b2863da9024e9cac9a",
       "value": 5
      }
     },
     "a85f651d3d144554a4c5e5260dc4c9c3": {
      "model_module": "@jupyter-widgets/base",
      "model_module_version": "1.2.0",
      "model_name": "LayoutModel",
      "state": {
       "margin": "20px 0px"
      }
     },
     "a8635d0de8634cffa50f768817ef709b": {
      "model_module": "@jupyter-widgets/controls",
      "model_module_version": "1.5.0",
      "model_name": "DescriptionStyleModel",
      "state": {
       "description_width": ""
      }
     },
     "a88837dec5b742f6a10d5977330bd661": {
      "model_module": "@jupyter-widgets/base",
      "model_module_version": "1.2.0",
      "model_name": "LayoutModel",
      "state": {}
     },
     "a8e1694a081f4cdeac229c2c58ebc71b": {
      "model_module": "@jupyter-widgets/controls",
      "model_module_version": "1.5.0",
      "model_name": "HBoxModel",
      "state": {
       "children": [
        "IPY_MODEL_3370ab19ca7d4eb6bd833095110e8888",
        "IPY_MODEL_5d6e79af49c540d687173491bdf52613"
       ],
       "layout": "IPY_MODEL_78dff3c9b0ab4092885a4681b708b9c4"
      }
     },
     "a928100a1a7543c1a952e02f63653d38": {
      "model_module": "@jupyter-widgets/base",
      "model_module_version": "1.2.0",
      "model_name": "LayoutModel",
      "state": {}
     },
     "a9567de3ebd14a1ea85f21b1ea294e13": {
      "model_module": "@jupyter-widgets/controls",
      "model_module_version": "1.5.0",
      "model_name": "ButtonStyleModel",
      "state": {}
     },
     "a986327c2f5f410491da6da14c2b9def": {
      "model_module": "@jupyter-widgets/controls",
      "model_module_version": "1.5.0",
      "model_name": "DescriptionStyleModel",
      "state": {
       "description_width": ""
      }
     },
     "a9b011b81d9a47ae956fb42dd48f7577": {
      "model_module": "@jupyter-widgets/controls",
      "model_module_version": "1.5.0",
      "model_name": "SliderStyleModel",
      "state": {
       "description_width": ""
      }
     },
     "a9b7a5bea64640859355bc1f3bd40aed": {
      "model_module": "@jupyter-widgets/base",
      "model_module_version": "1.2.0",
      "model_name": "LayoutModel",
      "state": {
       "flex_flow": "row wrap",
       "margin": "20px"
      }
     },
     "a9cadb58b2d74d899f90724daa0dbc03": {
      "model_module": "@jupyter-widgets/controls",
      "model_module_version": "1.5.0",
      "model_name": "DescriptionStyleModel",
      "state": {
       "description_width": ""
      }
     },
     "aa07377abfb5489ca39018eb747fddb6": {
      "model_module": "@jupyter-widgets/controls",
      "model_module_version": "1.5.0",
      "model_name": "HBoxModel",
      "state": {
       "children": [
        "IPY_MODEL_1a39600936bd4b199a960b5ddd12c3ef",
        "IPY_MODEL_e2b7f42fba7146f9bd943e2d6c422529"
       ],
       "layout": "IPY_MODEL_3af78c5ade4d410a8a1156f28dde5870"
      }
     },
     "aa34cffd296144adbb84e44628679faa": {
      "model_module": "@jupyter-widgets/controls",
      "model_module_version": "1.5.0",
      "model_name": "HBoxModel",
      "state": {
       "children": [
        "IPY_MODEL_3118b20c6b1b41b095139fadd7aa0f5e",
        "IPY_MODEL_8f4c0103e27f4574ba684259337a9d96",
        "IPY_MODEL_64ddded86cc94f2aaa65c66efd8404cd"
       ],
       "layout": "IPY_MODEL_37b2865fee2b4a02bc2013f64eaefc86"
      }
     },
     "aa7970d024354752a90a19d52ffb4ba6": {
      "model_module": "@jupyter-widgets/base",
      "model_module_version": "1.2.0",
      "model_name": "LayoutModel",
      "state": {}
     },
     "aa87d9baf2e54afbbf8a7787e01bc39c": {
      "model_module": "@jupyter-widgets/controls",
      "model_module_version": "1.5.0",
      "model_name": "DescriptionStyleModel",
      "state": {
       "description_width": ""
      }
     },
     "aab0b96dd9704dec8bee7aca21e55121": {
      "model_module": "@jupyter-widgets/base",
      "model_module_version": "1.2.0",
      "model_name": "LayoutModel",
      "state": {
       "margin": "20px 0px"
      }
     },
     "aadcd785ecac49dd89e89b98cd11a5bc": {
      "model_module": "@jupyter-widgets/controls",
      "model_module_version": "1.5.0",
      "model_name": "IntTextModel",
      "state": {
       "description": "max",
       "layout": "IPY_MODEL_64635876704d46df8e253b2d4cefa598",
       "step": 1,
       "style": "IPY_MODEL_fce01e4c69184a6aa0107d409c41700a",
       "value": 7
      }
     },
     "ab0f9f99791b40059d4d3534b8def2a1": {
      "model_module": "@jupyter-widgets/base",
      "model_module_version": "1.2.0",
      "model_name": "LayoutModel",
      "state": {}
     },
     "ab189c2f0b2140e991588634d1926a8d": {
      "model_module": "@jupyter-widgets/controls",
      "model_module_version": "1.5.0",
      "model_name": "HBoxModel",
      "state": {
       "children": [
        "IPY_MODEL_690ece26089849d296129aedbf2fd7db",
        "IPY_MODEL_a2c8f4caf0534767b4ee6a45ae3ec430"
       ],
       "layout": "IPY_MODEL_b73fc88a750b4f94b4788c5589d4400d"
      }
     },
     "abb8dd22248e47baa61d0443c5c01957": {
      "model_module": "@jupyter-widgets/base",
      "model_module_version": "1.2.0",
      "model_name": "LayoutModel",
      "state": {}
     },
     "abbcb03a36494939be94896a2e4392f4": {
      "model_module": "@jupyter-widgets/base",
      "model_module_version": "1.2.0",
      "model_name": "LayoutModel",
      "state": {}
     },
     "abcc393b17f24dc9b7fecb97fc241a9d": {
      "model_module": "@jupyter-widgets/controls",
      "model_module_version": "1.5.0",
      "model_name": "SliderStyleModel",
      "state": {
       "description_width": ""
      }
     },
     "abee62d144eb46f6a0854e2c779344fc": {
      "model_module": "@jupyter-widgets/base",
      "model_module_version": "1.2.0",
      "model_name": "LayoutModel",
      "state": {}
     },
     "ac370811477146a592129af91bec1989": {
      "model_module": "@jupyter-widgets/base",
      "model_module_version": "1.2.0",
      "model_name": "LayoutModel",
      "state": {}
     },
     "ac5bccc43bad4cf1b629ee62e886ec74": {
      "model_module": "@jupyter-widgets/base",
      "model_module_version": "1.2.0",
      "model_name": "LayoutModel",
      "state": {}
     },
     "ac6f0bb182d14b43a5412de39ac1d15a": {
      "model_module": "@jupyter-widgets/base",
      "model_module_version": "1.2.0",
      "model_name": "LayoutModel",
      "state": {}
     },
     "ac71f1c55d9948e19e588813ff85983b": {
      "model_module": "@jupyter-widgets/controls",
      "model_module_version": "1.5.0",
      "model_name": "DescriptionStyleModel",
      "state": {
       "description_width": ""
      }
     },
     "acb4f93525d14ffabe3e2bba3cae48a6": {
      "model_module": "@jupyter-widgets/controls",
      "model_module_version": "1.5.0",
      "model_name": "HBoxModel",
      "state": {
       "children": [
        "IPY_MODEL_42a63d59593845ca8d64fb7a3a398a5a",
        "IPY_MODEL_be75d5dbdd5641339fe24f8c4f6ca207"
       ],
       "layout": "IPY_MODEL_676ef09cd4844c10ba6f4f53d5d24356"
      }
     },
     "ad0d38c2c2774e369fd4428f472136f0": {
      "model_module": "@jupyter-widgets/base",
      "model_module_version": "1.2.0",
      "model_name": "LayoutModel",
      "state": {}
     },
     "ad1542a9ee5d493fb7cad40f4ec24a08": {
      "model_module": "@jupyter-widgets/base",
      "model_module_version": "1.2.0",
      "model_name": "LayoutModel",
      "state": {}
     },
     "ad28097795614babac3adcc76c9b471c": {
      "model_module": "@jupyter-widgets/base",
      "model_module_version": "1.2.0",
      "model_name": "LayoutModel",
      "state": {}
     },
     "ad3d079ffbc74588a5348a5d3706dafd": {
      "model_module": "@jupyter-widgets/base",
      "model_module_version": "1.2.0",
      "model_name": "LayoutModel",
      "state": {}
     },
     "ad4777c7b26e4dc686420550608d2f12": {
      "model_module": "@jupyter-widgets/controls",
      "model_module_version": "1.5.0",
      "model_name": "ButtonStyleModel",
      "state": {}
     },
     "ad7052f26bac417382466038fda4af38": {
      "model_module": "@jupyter-widgets/controls",
      "model_module_version": "1.5.0",
      "model_name": "DropdownModel",
      "state": {
       "_options_labels": [
        "NurbsCurve2D",
        "BezierCurve2D",
        "Polyline2D",
        "Function"
       ],
       "index": 0,
       "layout": "IPY_MODEL_f7a150d82f6d40e4934ef1a89819382f",
       "style": "IPY_MODEL_885d034f6340467e9f3d03862ecdc212"
      }
     },
     "ad770f779d7142d692b8057c7c5825cf": {
      "model_module": "@jupyter-widgets/base",
      "model_module_version": "1.2.0",
      "model_name": "LayoutModel",
      "state": {
       "margin": "20px 0px"
      }
     },
     "ae2120fec28e429792294924ef4e7252": {
      "model_module": "@jupyter-widgets/base",
      "model_module_version": "1.2.0",
      "model_name": "LayoutModel",
      "state": {}
     },
     "ae33a6518f6c4bd7ac1c3d19f27164ee": {
      "model_module": "@jupyter-widgets/base",
      "model_module_version": "1.2.0",
      "model_name": "LayoutModel",
      "state": {}
     },
     "ae40200d7fdc43a69f8f57ce27d6891b": {
      "model_module": "@jupyter-widgets/controls",
      "model_module_version": "1.5.0",
      "model_name": "ColorPickerModel",
      "state": {
       "description": "ambient",
       "disabled": false,
       "layout": "IPY_MODEL_27c99d487aef426398bafe8dc27b8491",
       "style": "IPY_MODEL_e4bcad903cd24e668755c12c6ad16d21",
       "value": "#5b4534"
      }
     },
     "ae49ac24f7d94cbea0a0b653a87d4b7d": {
      "model_module": "@jupyter-widgets/controls",
      "model_module_version": "1.5.0",
      "model_name": "ButtonStyleModel",
      "state": {}
     },
     "ae6582bcdffa4a9ea49948fb8e79804f": {
      "model_module": "@jupyter-widgets/controls",
      "model_module_version": "1.5.0",
      "model_name": "CheckboxModel",
      "state": {
       "description": "Auto apply",
       "disabled": false,
       "layout": "IPY_MODEL_d8d73c6794a64b41a4b085d7b2422110",
       "style": "IPY_MODEL_5810bb174d1946e8b3d0386797351339",
       "value": false
      }
     },
     "ae65c9b1a7014f46b4d4736a9946ae5f": {
      "model_module": "@jupyter-widgets/controls",
      "model_module_version": "1.5.0",
      "model_name": "FloatSliderModel",
      "state": {
       "description": "shininess",
       "layout": "IPY_MODEL_c7ea2a8eaf6f4fd6ba043daec10a8f1a",
       "max": 1,
       "step": 0.1,
       "style": "IPY_MODEL_4a48e3b56b974227bcbb4111eb32acbb",
       "value": 0.2
      }
     },
     "ae6fd33e7b08418d94791d38e5190ea4": {
      "model_module": "@jupyter-widgets/controls",
      "model_module_version": "1.5.0",
      "model_name": "TextModel",
      "state": {
       "continuous_update": false,
       "description": "name",
       "layout": "IPY_MODEL_991d20b434f14f32ba0b5c3eb2836f02",
       "style": "IPY_MODEL_963d126402964be48e58d85e7d4149c1",
       "value": "nb_axes"
      }
     },
     "ae707f5167d74fc69acaaf741eb5e5de": {
      "model_module": "@jupyter-widgets/base",
      "model_module_version": "1.2.0",
      "model_name": "LayoutModel",
      "state": {}
     },
     "ae72d17e3fb94a56a3727653a69248a4": {
      "model_module": "@jupyter-widgets/controls",
      "model_module_version": "1.5.0",
      "model_name": "FloatSliderModel",
      "state": {
       "description": "transparency",
       "layout": "IPY_MODEL_5952ccf95fff4114ac955e73f1021bc8",
       "max": 1,
       "step": 0.1,
       "style": "IPY_MODEL_a15f82e8dd1a43408a5d120bd20123be"
      }
     },
     "aee7a263a0f64a1fbea2c127454b5880": {
      "model_module": "@jupyter-widgets/base",
      "model_module_version": "1.2.0",
      "model_name": "LayoutModel",
      "state": {}
     },
     "aef6b743295f42189e95981f47848542": {
      "model_module": "@jupyter-widgets/controls",
      "model_module_version": "1.5.0",
      "model_name": "DescriptionStyleModel",
      "state": {
       "description_width": ""
      }
     },
     "af04d4dbb9ee467196d914b3d6ff7677": {
      "model_module": "@jupyter-widgets/controls",
      "model_module_version": "1.5.0",
      "model_name": "DropdownModel",
      "state": {
       "_options_labels": [
        "Integer",
        "Float",
        "Bool"
       ],
       "index": 0,
       "layout": "IPY_MODEL_88a10cf316df4647bd53d535728a4d82",
       "style": "IPY_MODEL_8283081be3d348eea1bc8c13afea1b04"
      }
     },
     "af05852e0c454d1081c694c61e2c259d": {
      "model_module": "@jupyter-widgets/controls",
      "model_module_version": "1.5.0",
      "model_name": "FloatSliderModel",
      "state": {
       "description": "shininess",
       "layout": "IPY_MODEL_2a4657dcf6134dbf9171718197e5e80f",
       "max": 1,
       "step": 0.1,
       "style": "IPY_MODEL_065f562240b640f2ae0d150761123893",
       "value": 0.2
      }
     },
     "af3d20d491c44d098b64367717540ebe": {
      "model_module": "@jupyter-widgets/controls",
      "model_module_version": "1.5.0",
      "model_name": "FloatSliderModel",
      "state": {
       "description": "diffuse",
       "layout": "IPY_MODEL_844d30039767419a89704c52fe806d6c",
       "max": 3,
       "step": 0.1,
       "style": "IPY_MODEL_09b8c80f45194de3b8dde10dedf91332",
       "value": 1
      }
     },
     "af4039e9ddde442ba446084c54416900": {
      "model_module": "@jupyter-widgets/controls",
      "model_module_version": "1.5.0",
      "model_name": "BoundedIntTextModel",
      "state": {
       "description": "index",
       "layout": "IPY_MODEL_625a97aef55748c189e2a6b3c1b5e67d",
       "style": "IPY_MODEL_0ba2cab9cc9d4511aad569640dfc3012",
       "value": 3
      }
     },
     "af62057272d64d6c8173cc755a1345c8": {
      "model_module": "@jupyter-widgets/base",
      "model_module_version": "1.2.0",
      "model_name": "LayoutModel",
      "state": {}
     },
     "af76f68e255a49a9a097846d5b100896": {
      "model_module": "@jupyter-widgets/controls",
      "model_module_version": "1.5.0",
      "model_name": "HBoxModel",
      "state": {
       "children": [
        "IPY_MODEL_0e1758e5f97c4775894b0a98513a546f",
        "IPY_MODEL_7847f6e3bd894ee48f1555c248f27c90"
       ],
       "layout": "IPY_MODEL_953ba707a655461f95ad063f5a6f574b"
      }
     },
     "af8a50225a5b459392ad1828e64b9479": {
      "model_module": "@jupyter-widgets/controls",
      "model_module_version": "1.5.0",
      "model_name": "TextModel",
      "state": {
       "continuous_update": false,
       "description": "name",
       "layout": "IPY_MODEL_649b808e83854530a387af7bc18abe1e",
       "style": "IPY_MODEL_8278afc954514651bbf571d8a24293c1",
       "value": "leafduration"
      }
     },
     "afcbfc1dce2a47f394db93b89601a5e4": {
      "model_module": "@jupyter-widgets/controls",
      "model_module_version": "1.5.0",
      "model_name": "ButtonStyleModel",
      "state": {}
     },
     "afd16820af884a958cef4c29e98f66cd": {
      "model_module": "@jupyter-widgets/base",
      "model_module_version": "1.2.0",
      "model_name": "LayoutModel",
      "state": {}
     },
     "afdd149476764870a23c9d46dfe6ec0b": {
      "model_module": "@jupyter-widgets/base",
      "model_module_version": "1.2.0",
      "model_name": "LayoutModel",
      "state": {}
     },
     "aff7649e3cd94b0e93b9db47ae177a91": {
      "model_module": "@jupyter-widgets/controls",
      "model_module_version": "1.5.0",
      "model_name": "DescriptionStyleModel",
      "state": {
       "description_width": ""
      }
     },
     "b018f27f56ef47b8b8c77c757b918855": {
      "model_module": "@jupyter-widgets/base",
      "model_module_version": "1.2.0",
      "model_name": "LayoutModel",
      "state": {}
     },
     "b025d2c3b32b46ee9877ca8fabce0c2d": {
      "model_module": "@jupyter-widgets/controls",
      "model_module_version": "1.5.0",
      "model_name": "HBoxModel",
      "state": {
       "layout": "IPY_MODEL_a9b7a5bea64640859355bc1f3bd40aed"
      }
     },
     "b026cfdea7f24109b3207938d8293f82": {
      "model_module": "@jupyter-widgets/controls",
      "model_module_version": "1.5.0",
      "model_name": "TextModel",
      "state": {
       "continuous_update": false,
       "description": "name",
       "layout": "IPY_MODEL_9205b342fe2d42118f3ab706062aa484",
       "style": "IPY_MODEL_a3aa80b4b3224cfa978751461082efdd",
       "value": "nb_axes"
      }
     },
     "b0278727c6984480ae67b3caa91c5c28": {
      "model_module": "@jupyter-widgets/controls",
      "model_module_version": "1.5.0",
      "model_name": "DescriptionStyleModel",
      "state": {
       "description_width": ""
      }
     },
     "b042067711c749ddbe44af8d0b266773": {
      "model_module": "@jupyter-widgets/controls",
      "model_module_version": "1.5.0",
      "model_name": "DescriptionStyleModel",
      "state": {
       "description_width": ""
      }
     },
     "b0587fd4b5de40ff83b94fd445197b2a": {
      "model_module": "@jupyter-widgets/controls",
      "model_module_version": "1.5.0",
      "model_name": "FloatSliderModel",
      "state": {
       "description": "transparency",
       "layout": "IPY_MODEL_abbcb03a36494939be94896a2e4392f4",
       "max": 1,
       "step": 0.1,
       "style": "IPY_MODEL_d5cd15e37f944ccfa4bf1cdd3348f4c7"
      }
     },
     "b0816a0d3a1147ec9177057aeccf2636": {
      "model_module": "@jupyter-widgets/controls",
      "model_module_version": "1.5.0",
      "model_name": "DescriptionStyleModel",
      "state": {
       "description_width": ""
      }
     },
     "b0e8fa40069c4769bfca38d467a34243": {
      "model_module": "@jupyter-widgets/controls",
      "model_module_version": "1.5.0",
      "model_name": "SliderStyleModel",
      "state": {
       "description_width": ""
      }
     },
     "b0fb1ac3eab4429faa1c3064bf965e64": {
      "model_module": "@jupyter-widgets/controls",
      "model_module_version": "1.5.0",
      "model_name": "HBoxModel",
      "state": {
       "children": [
        "IPY_MODEL_7c7176c2637047769f684c2d030b2393",
        "IPY_MODEL_3f1c5cb37d464c0c965c97fc3a1e7f60"
       ],
       "layout": "IPY_MODEL_df4b301f82c143b6ba68f23b7ee4a4e7"
      }
     },
     "b11599f0c8c340be874b6f91e49e147c": {
      "model_module": "@jupyter-widgets/controls",
      "model_module_version": "1.5.0",
      "model_name": "FloatSliderModel",
      "state": {
       "description": "transparency",
       "layout": "IPY_MODEL_026723ae658e489db0402b1860155fde",
       "max": 1,
       "step": 0.1,
       "style": "IPY_MODEL_bc101f934e6546c8b4a4399a8ff52dd9"
      }
     },
     "b12f527165d943288688f616f1f609c8": {
      "model_module": "@jupyter-widgets/controls",
      "model_module_version": "1.5.0",
      "model_name": "DescriptionStyleModel",
      "state": {
       "description_width": ""
      }
     },
     "b16bc4eeda684baab51f644ed6537a07": {
      "model_module": "@jupyter-widgets/base",
      "model_module_version": "1.2.0",
      "model_name": "LayoutModel",
      "state": {}
     },
     "b170506f70d34c96b69cc2e6cb10b936": {
      "model_module": "@jupyter-widgets/base",
      "model_module_version": "1.2.0",
      "model_name": "LayoutModel",
      "state": {}
     },
     "b184382198c246fbb6c014da8ef2f3e0": {
      "model_module": "@jupyter-widgets/base",
      "model_module_version": "1.2.0",
      "model_name": "LayoutModel",
      "state": {}
     },
     "b1bea4580daf4865a4ab65528a99b960": {
      "model_module": "@jupyter-widgets/controls",
      "model_module_version": "1.5.0",
      "model_name": "DescriptionStyleModel",
      "state": {
       "description_width": ""
      }
     },
     "b1ed67a808ae4d98902e313123dd2c75": {
      "model_module": "@jupyter-widgets/controls",
      "model_module_version": "1.5.0",
      "model_name": "ButtonModel",
      "state": {
       "description": "Delete",
       "layout": "IPY_MODEL_d96944e0d08c4a04aa0b00a6367b12c9",
       "style": "IPY_MODEL_eb97bfba7a244317a71b5c4fedafbbe8"
      }
     },
     "b233f15e47474a7198fb26deae803dcc": {
      "model_module": "@jupyter-widgets/controls",
      "model_module_version": "1.5.0",
      "model_name": "IntTextModel",
      "state": {
       "description": "max",
       "layout": "IPY_MODEL_4195dc0db72c4f82bb9bd5eead7e9779",
       "step": 1,
       "style": "IPY_MODEL_c1729e1e6a704ee9982e5f868755dfc6",
       "value": 10
      }
     },
     "b238a4f955c2461f89027d080a34f27a": {
      "model_module": "@jupyter-widgets/base",
      "model_module_version": "1.2.0",
      "model_name": "LayoutModel",
      "state": {}
     },
     "b24854e612f64308b2856ad9bbda0e0c": {
      "model_module": "pgljupyter",
      "model_module_version": "^0.1.20",
      "model_name": "IntEditorModel",
      "state": {
       "_model_module_version": "^0.1.20",
       "_view_module_version": "^0.1.20",
       "children": [
        "IPY_MODEL_ba11bb824352454c9ac4abadef095063",
        "IPY_MODEL_c311f2512bd54982b3579b77887bb9f8"
       ],
       "layout": "IPY_MODEL_20524a3cbd284565b43899cfff3eabbb"
      }
     },
     "b248996a41fc4f39b8f71cd98044d51f": {
      "model_module": "@jupyter-widgets/controls",
      "model_module_version": "1.5.0",
      "model_name": "HBoxModel",
      "state": {
       "children": [
        "IPY_MODEL_f12070df747f4997bb07a8795782dbf5",
        "IPY_MODEL_238dd52d41fd42ba8fc8d39b45ea27f2"
       ],
       "layout": "IPY_MODEL_84c796b6ce3746e1aafccca2c6759aac"
      }
     },
     "b281607fe98d48e3934d05bec3d79698": {
      "model_module": "@jupyter-widgets/base",
      "model_module_version": "1.2.0",
      "model_name": "LayoutModel",
      "state": {}
     },
     "b29aa72a95854be7aa69fb3b924ac504": {
      "model_module": "@jupyter-widgets/base",
      "model_module_version": "1.2.0",
      "model_name": "LayoutModel",
      "state": {}
     },
     "b2bf5842fee641abb921c9ea89fc6361": {
      "model_module": "@jupyter-widgets/base",
      "model_module_version": "1.2.0",
      "model_name": "LayoutModel",
      "state": {}
     },
     "b2dff12eb7f74161896fad4ff14e216e": {
      "model_module": "@jupyter-widgets/base",
      "model_module_version": "1.2.0",
      "model_name": "LayoutModel",
      "state": {}
     },
     "b2f08df3f7bb4655984473bbce30d2a8": {
      "model_module": "@jupyter-widgets/base",
      "model_module_version": "1.2.0",
      "model_name": "LayoutModel",
      "state": {}
     },
     "b336f9abf432475a859c3a01ea152da7": {
      "model_module": "@jupyter-widgets/controls",
      "model_module_version": "1.5.0",
      "model_name": "ColorPickerModel",
      "state": {
       "description": "specular",
       "disabled": false,
       "layout": "IPY_MODEL_7d4841eb52e849b792078e35434add1c",
       "style": "IPY_MODEL_4a28f656400b498e9b4a70690a4229a8",
       "value": "#282828"
      }
     },
     "b3415d0e07044c3c90903ed545d57994": {
      "model_module": "pgljupyter",
      "model_module_version": "^0.1.17",
      "model_name": "LsystemWidgetModel",
      "state": {
       "_model_module_version": "^0.1.17",
       "_view_module_version": "^0.1.17",
       "axes_helper": false,
       "derivationLength": 42,
       "layout": "IPY_MODEL_cffe896bba6b4be9a72a337ec2eeabfd",
       "light_helper": false,
       "plane": true,
       "size_display": [
        400,
        400
       ],
       "size_world": 50
      }
     },
     "b349b6082b68436a830311e2652d9b99": {
      "model_module": "@jupyter-widgets/base",
      "model_module_version": "1.2.0",
      "model_name": "LayoutModel",
      "state": {}
     },
     "b349ed08d7d84db7be931975d0f29cc6": {
      "model_module": "@jupyter-widgets/base",
      "model_module_version": "1.2.0",
      "model_name": "LayoutModel",
      "state": {}
     },
     "b3845888ce8d4ad4986e97d2f893e730": {
      "model_module": "@jupyter-widgets/base",
      "model_module_version": "1.2.0",
      "model_name": "LayoutModel",
      "state": {}
     },
     "b3ab021d6df046ceb59289797f1e4f25": {
      "model_module": "@jupyter-widgets/controls",
      "model_module_version": "1.5.0",
      "model_name": "BoundedIntTextModel",
      "state": {
       "description": "index",
       "layout": "IPY_MODEL_8aae296581c643e2a94a84c43a578fda",
       "style": "IPY_MODEL_d8dd6096e07649cb8ceb51b260ceb49f",
       "value": 3
      }
     },
     "b3b4369a077e494799fb62f23eb0eb47": {
      "model_module": "@jupyter-widgets/controls",
      "model_module_version": "1.5.0",
      "model_name": "ColorPickerModel",
      "state": {
       "description": "ambient",
       "disabled": false,
       "layout": "IPY_MODEL_13ae418bba3b47449bcffe9f4ff9b1d0",
       "style": "IPY_MODEL_20b1952b21434151a833e0b22eb08f81",
       "value": "#195717"
      }
     },
     "b3b90cf0e5714dfabfdcf4452cc02351": {
      "model_module": "@jupyter-widgets/base",
      "model_module_version": "1.2.0",
      "model_name": "LayoutModel",
      "state": {}
     },
     "b3beeeb252564f9193c765e7fe7136a4": {
      "model_module": "@jupyter-widgets/controls",
      "model_module_version": "1.5.0",
      "model_name": "DropdownModel",
      "state": {
       "_options_labels": [
        "Color"
       ],
       "index": 0,
       "layout": "IPY_MODEL_1049120221a44f9698ad8be47c2dd830",
       "style": "IPY_MODEL_c8ca31ca5bd148e6a5aa1524e6d99e3f"
      }
     },
     "b40339e839344d96ba6ff6a53935e92b": {
      "model_module": "@jupyter-widgets/base",
      "model_module_version": "1.2.0",
      "model_name": "LayoutModel",
      "state": {}
     },
     "b4172c0a847a4c1d89dd93e6e188edcf": {
      "model_module": "@jupyter-widgets/base",
      "model_module_version": "1.2.0",
      "model_name": "LayoutModel",
      "state": {}
     },
     "b44429e02b1c4c018efe9629e58572c3": {
      "model_module": "@jupyter-widgets/controls",
      "model_module_version": "1.5.0",
      "model_name": "VBoxModel",
      "state": {
       "children": [
        "IPY_MODEL_2d215d5802a64161ad4658212812c5f3",
        "IPY_MODEL_53592ff1413b4aadb82fbe457a467666",
        "IPY_MODEL_42311b25a5ce4d1788e339ad94a4f81c",
        "IPY_MODEL_a143a5b673a2495e928dd346cefa7981",
        "IPY_MODEL_a2e742f0ad8747ec88f5cf551a3b5224"
       ],
       "layout": "IPY_MODEL_b8d2ea5b6d2a40cda4d35f962c17e998"
      }
     },
     "b4468c2736f440b4bd4d58112d80f1f3": {
      "model_module": "@jupyter-widgets/controls",
      "model_module_version": "1.5.0",
      "model_name": "BoundedIntTextModel",
      "state": {
       "description": "index",
       "layout": "IPY_MODEL_b184382198c246fbb6c014da8ef2f3e0",
       "style": "IPY_MODEL_1558078ff54b40aa9edd4a561283c2a3",
       "value": 2
      }
     },
     "b483a839a4094147ab01f3c7d19bb1ac": {
      "model_module": "@jupyter-widgets/controls",
      "model_module_version": "1.5.0",
      "model_name": "ColorPickerModel",
      "state": {
       "description": "ambient",
       "disabled": false,
       "layout": "IPY_MODEL_4b847adc42dd44cc8851741209771151",
       "style": "IPY_MODEL_b581d53322d94699a5a19e271a34211d",
       "value": "#195717"
      }
     },
     "b4b34b837b2e417eb78863606b1d6e8d": {
      "model_module": "@jupyter-widgets/controls",
      "model_module_version": "1.5.0",
      "model_name": "ButtonStyleModel",
      "state": {}
     },
     "b4eb01c447064278a10e95e371e491b5": {
      "model_module": "@jupyter-widgets/controls",
      "model_module_version": "1.5.0",
      "model_name": "ButtonModel",
      "state": {
       "description": "Save changes",
       "layout": "IPY_MODEL_ba0d08e405e743aa9fc38c0d108f065b",
       "style": "IPY_MODEL_bb92e0f3b2e842e0ab29b1bbcaf44ed8"
      }
     },
     "b4f90847a77b4195b5dc4d2c29806c64": {
      "model_module": "@jupyter-widgets/controls",
      "model_module_version": "1.5.0",
      "model_name": "BoundedIntTextModel",
      "state": {
       "description": "step",
       "layout": "IPY_MODEL_5f0d4143620941798573a504d9e748b1",
       "min": 1,
       "style": "IPY_MODEL_c0409f72c596451b915072be0153fdf9",
       "value": 1
      }
     },
     "b52d8d1f7a39435a937737cba39c4169": {
      "model_module": "@jupyter-widgets/controls",
      "model_module_version": "1.5.0",
      "model_name": "HBoxModel",
      "state": {
       "children": [
        "IPY_MODEL_c309dadcba5d4757ad170bafede09c29",
        "IPY_MODEL_e20a8ad2869c4320906c5ccb5a2616cb",
        "IPY_MODEL_62252cd6e6f64fb7aa4f68ce3e71f4b1",
        "IPY_MODEL_88b25b3d6bed47aabbf857ba0829ae88"
       ],
       "layout": "IPY_MODEL_964212339a614dc4b244dd85464c155d"
      }
     },
     "b5307711b6f34b428ecdd5e474394193": {
      "model_module": "@jupyter-widgets/base",
      "model_module_version": "1.2.0",
      "model_name": "LayoutModel",
      "state": {}
     },
     "b57c6dbb68c64afbb95b8d317eff0d77": {
      "model_module": "@jupyter-widgets/controls",
      "model_module_version": "1.5.0",
      "model_name": "TabModel",
      "state": {
       "layout": "IPY_MODEL_20e3dd12ae594b74880fcf2f3311b803"
      }
     },
     "b581d53322d94699a5a19e271a34211d": {
      "model_module": "@jupyter-widgets/controls",
      "model_module_version": "1.5.0",
      "model_name": "DescriptionStyleModel",
      "state": {
       "description_width": ""
      }
     },
     "b5ad4c581bca4efb9e0e4e91dd0fc2fd": {
      "model_module": "@jupyter-widgets/base",
      "model_module_version": "1.2.0",
      "model_name": "LayoutModel",
      "state": {}
     },
     "b5d23766ee1b4de98cd72e67ca0961f4": {
      "model_module": "@jupyter-widgets/controls",
      "model_module_version": "1.5.0",
      "model_name": "DropdownModel",
      "state": {
       "_options_labels": [
        "Integer",
        "Float",
        "Bool"
       ],
       "index": 0,
       "layout": "IPY_MODEL_7293a88c1ab941aabcecd4f6d4f03a08",
       "style": "IPY_MODEL_fc285204d80d4fe587b6c0d1e1042610"
      }
     },
     "b609d0249e3d49ada716ca64850e65b8": {
      "model_module": "@jupyter-widgets/base",
      "model_module_version": "1.2.0",
      "model_name": "LayoutModel",
      "state": {}
     },
     "b618285ed5684282bcdc1d912a0170cc": {
      "model_module": "@jupyter-widgets/controls",
      "model_module_version": "1.5.0",
      "model_name": "DescriptionStyleModel",
      "state": {
       "description_width": ""
      }
     },
     "b6232427abaa44ee8f8af67967fd5908": {
      "model_module": "@jupyter-widgets/controls",
      "model_module_version": "1.5.0",
      "model_name": "FloatSliderModel",
      "state": {
       "description": "diffuse",
       "layout": "IPY_MODEL_d01eaf873daa42fc915fce3a3a19ba71",
       "max": 3,
       "step": 0.1,
       "style": "IPY_MODEL_d93f65b8733e49b29dc3b7e7a44ec509",
       "value": 1
      }
     },
     "b64a0b633c4c488bb06c6634159a6227": {
      "model_module": "@jupyter-widgets/base",
      "model_module_version": "1.2.0",
      "model_name": "LayoutModel",
      "state": {}
     },
     "b67e23aadfc0447c98ae6280c6d11af4": {
      "model_module": "@jupyter-widgets/controls",
      "model_module_version": "1.5.0",
      "model_name": "HBoxModel",
      "state": {
       "children": [
        "IPY_MODEL_eba49d4701c34c69a1a52005a55e913e",
        "IPY_MODEL_fece1e7f13bd475fac0ed48c8e36b25b"
       ],
       "layout": "IPY_MODEL_b16bc4eeda684baab51f644ed6537a07"
      }
     },
     "b70440f46d284109b251b83b4efe6e79": {
      "model_module": "@jupyter-widgets/controls",
      "model_module_version": "1.5.0",
      "model_name": "DescriptionStyleModel",
      "state": {
       "description_width": ""
      }
     },
     "b73fc88a750b4f94b4788c5589d4400d": {
      "model_module": "@jupyter-widgets/base",
      "model_module_version": "1.2.0",
      "model_name": "LayoutModel",
      "state": {}
     },
     "b763b1260b354b23ae6671768bc4a076": {
      "model_module": "@jupyter-widgets/base",
      "model_module_version": "1.2.0",
      "model_name": "LayoutModel",
      "state": {
       "margin": "20px 0px"
      }
     },
     "b78a37695bbf435fb731861c038b885f": {
      "model_module": "@jupyter-widgets/controls",
      "model_module_version": "1.5.0",
      "model_name": "HBoxModel",
      "state": {
       "children": [
        "IPY_MODEL_fb273117bed744e4a7d3e39c85368d3d",
        "IPY_MODEL_de17ce4b402f484dad854027cadfb9d2",
        "IPY_MODEL_2d7812945748435ea206c4b8b1341c7c",
        "IPY_MODEL_ba5d5391b210400f916720a6327a4648"
       ],
       "layout": "IPY_MODEL_6f5e6f5355bd440d8af5ee837dac75a9"
      }
     },
     "b7b39fab097644ca98be08e07da74097": {
      "model_module": "@jupyter-widgets/controls",
      "model_module_version": "1.5.0",
      "model_name": "HBoxModel",
      "state": {
       "children": [
        "IPY_MODEL_37a6f13ee0d84c41bf5e2718b03b869b",
        "IPY_MODEL_d3229b2421464e3e8771d1719478cafd"
       ],
       "layout": "IPY_MODEL_06e3dd0a8b534013bd1cb1d04dbd5286"
      }
     },
     "b7c61d98c8974e3eab2560fcaf559828": {
      "model_module": "@jupyter-widgets/base",
      "model_module_version": "1.2.0",
      "model_name": "LayoutModel",
      "state": {}
     },
     "b7eb7c1fbc2c4fbab9ae3ae154813316": {
      "model_module": "@jupyter-widgets/base",
      "model_module_version": "1.2.0",
      "model_name": "LayoutModel",
      "state": {
       "margin": "20px 0px"
      }
     },
     "b7f1e2be6da44fbcaa0cb8e574a361c3": {
      "model_module": "@jupyter-widgets/base",
      "model_module_version": "1.2.0",
      "model_name": "LayoutModel",
      "state": {}
     },
     "b7fff26df0ad46bbaeeb12519d1a0352": {
      "model_module": "@jupyter-widgets/base",
      "model_module_version": "1.2.0",
      "model_name": "LayoutModel",
      "state": {}
     },
     "b83043512c0f4a2d9f6e344f6ba2039e": {
      "model_module": "@jupyter-widgets/controls",
      "model_module_version": "1.5.0",
      "model_name": "ButtonModel",
      "state": {
       "description": "Delete",
       "layout": "IPY_MODEL_9ed51db8130848ad90da4bdd175506a3",
       "style": "IPY_MODEL_6cafa8125cbe44e2b212a499900a8f16"
      }
     },
     "b88afe6051704699a445a1ca92a8653e": {
      "model_module": "@jupyter-widgets/controls",
      "model_module_version": "1.5.0",
      "model_name": "SliderStyleModel",
      "state": {
       "description_width": ""
      }
     },
     "b896d4c5ba084261b9772c2ec6244463": {
      "model_module": "@jupyter-widgets/base",
      "model_module_version": "1.2.0",
      "model_name": "LayoutModel",
      "state": {}
     },
     "b8a8455ce5b040d0b828e4487621af24": {
      "model_module": "@jupyter-widgets/controls",
      "model_module_version": "1.5.0",
      "model_name": "DescriptionStyleModel",
      "state": {
       "description_width": ""
      }
     },
     "b8ad8d8c9f124093b14f64a259771967": {
      "model_module": "@jupyter-widgets/base",
      "model_module_version": "1.2.0",
      "model_name": "LayoutModel",
      "state": {}
     },
     "b8b9b3ffeaac416c9b974d5332062d10": {
      "model_module": "@jupyter-widgets/controls",
      "model_module_version": "1.5.0",
      "model_name": "VBoxModel",
      "state": {
       "children": [
        "IPY_MODEL_1333161370364dc18b62b527843bccdf",
        "IPY_MODEL_a03e944e51cb40c5810fc9d0fa1bbb94"
       ],
       "layout": "IPY_MODEL_b349ed08d7d84db7be931975d0f29cc6"
      }
     },
     "b8c7f3e772e0418984b752d8cabfe954": {
      "model_module": "@jupyter-widgets/base",
      "model_module_version": "1.2.0",
      "model_name": "LayoutModel",
      "state": {}
     },
     "b8d2ea5b6d2a40cda4d35f962c17e998": {
      "model_module": "@jupyter-widgets/base",
      "model_module_version": "1.2.0",
      "model_name": "LayoutModel",
      "state": {}
     },
     "b8d47ef44074438281319294176af51b": {
      "model_module": "@jupyter-widgets/base",
      "model_module_version": "1.2.0",
      "model_name": "LayoutModel",
      "state": {}
     },
     "b8f9b126dfec4211a4b352568394eb93": {
      "model_module": "@jupyter-widgets/base",
      "model_module_version": "1.2.0",
      "model_name": "LayoutModel",
      "state": {}
     },
     "b948a49b7df74974bc59fba0d18708ef": {
      "model_module": "@jupyter-widgets/base",
      "model_module_version": "1.2.0",
      "model_name": "LayoutModel",
      "state": {}
     },
     "b97945cdd79940218cc6b9ce0f099d89": {
      "model_module": "@jupyter-widgets/controls",
      "model_module_version": "1.5.0",
      "model_name": "DropdownModel",
      "state": {
       "index": null,
       "layout": "IPY_MODEL_9e900280d0514e8d81562cb4284c52dd",
       "style": "IPY_MODEL_496e48f80ba34d7389289f84ed07049f"
      }
     },
     "b97cf4f067b743d2b430bd97bc89e312": {
      "model_module": "@jupyter-widgets/controls",
      "model_module_version": "1.5.0",
      "model_name": "VBoxModel",
      "state": {
       "children": [
        "IPY_MODEL_f33af95ef58846bf8df866296877a85b",
        "IPY_MODEL_6bdedae54c80433d896fd303f7e37987",
        "IPY_MODEL_42a66a116d6e4ad2babe8908a1d40481",
        "IPY_MODEL_1544c4aba24c44af809a65633d48cc8e",
        "IPY_MODEL_a3671b271bf948d2aaa3826c21d26b20"
       ],
       "layout": "IPY_MODEL_b29aa72a95854be7aa69fb3b924ac504"
      }
     },
     "b9b1d7bb539941cd99ecc58e604d0784": {
      "model_module": "@jupyter-widgets/controls",
      "model_module_version": "1.5.0",
      "model_name": "DescriptionStyleModel",
      "state": {
       "description_width": ""
      }
     },
     "b9ebb3597e8346f8a3fc4ed986a97a1b": {
      "model_module": "@jupyter-widgets/base",
      "model_module_version": "1.2.0",
      "model_name": "LayoutModel",
      "state": {}
     },
     "b9fcc4919c8b40f2a8d2e8ea3fad4478": {
      "model_module": "@jupyter-widgets/controls",
      "model_module_version": "1.5.0",
      "model_name": "SliderStyleModel",
      "state": {
       "description_width": ""
      }
     },
     "ba0d08e405e743aa9fc38c0d108f065b": {
      "model_module": "@jupyter-widgets/base",
      "model_module_version": "1.2.0",
      "model_name": "LayoutModel",
      "state": {}
     },
     "ba11bb824352454c9ac4abadef095063": {
      "model_module": "@jupyter-widgets/controls",
      "model_module_version": "1.5.0",
      "model_name": "TextModel",
      "state": {
       "continuous_update": false,
       "description": "name",
       "layout": "IPY_MODEL_59c4f363387c4603894fb415c0d36967",
       "style": "IPY_MODEL_39501af7b4a946cb85b28be8f27f4a40",
       "value": "leafduration"
      }
     },
     "ba2927804c224adb95a5bde918123c5b": {
      "model_module": "@jupyter-widgets/controls",
      "model_module_version": "1.5.0",
      "model_name": "CheckboxModel",
      "state": {
       "description": "Auto save",
       "disabled": false,
       "layout": "IPY_MODEL_64f9dc0574df4a11af6125d753e638a4",
       "style": "IPY_MODEL_44ee20673cb54cb197bb19275c2ee931",
       "value": false
      }
     },
     "ba3a3559ee5e49c19408ce2e75b666f1": {
      "model_module": "@jupyter-widgets/base",
      "model_module_version": "1.2.0",
      "model_name": "LayoutModel",
      "state": {}
     },
     "ba5d5391b210400f916720a6327a4648": {
      "model_module": "pgljupyter",
      "model_module_version": "^0.1.19",
      "model_name": "MaterialEditorModel",
      "state": {
       "_model_module_version": "^0.1.19",
       "_view_module_version": "^0.1.19",
       "children": [
        "IPY_MODEL_3e64b59aa9974065a16ce4e79ea27464",
        "IPY_MODEL_56d367a9d5614e55bed35e4d81b7eef8",
        "IPY_MODEL_ed976a91034f48c1a0bd19c114a4740d",
        "IPY_MODEL_630f51ddc6474d56ac2b11c221db9313",
        "IPY_MODEL_64fb29f193384a4e8f752c45b4c4b1ca",
        "IPY_MODEL_9c9faa69b3cc422bacb248629847951b",
        "IPY_MODEL_96b49dfc62ee4b54b6911cc9519f3adf",
        "IPY_MODEL_fef140b17815482fac4c6efc6accb2db"
       ],
       "layout": "IPY_MODEL_4a2ccff224ef48f09723ba6a231d6640"
      }
     },
     "ba5e485f797f45a793e7c0053d26227b": {
      "model_module": "@jupyter-widgets/controls",
      "model_module_version": "1.5.0",
      "model_name": "SliderStyleModel",
      "state": {
       "description_width": ""
      }
     },
     "ba8e3775748c410583ae69a234f084fd": {
      "model_module": "@jupyter-widgets/controls",
      "model_module_version": "1.5.0",
      "model_name": "VBoxModel",
      "state": {
       "children": [
        "IPY_MODEL_1e182d826be744dba3ea4c48b973b242",
        "IPY_MODEL_838c2e96b44f4e398b804eaa39f05912",
        "IPY_MODEL_efb139d7a3194536b561efe32dfd2630",
        "IPY_MODEL_737e4a4107604e689afd07fac4b3e826",
        "IPY_MODEL_9b9062181b2349279a58cedf3d1a123f"
       ],
       "layout": "IPY_MODEL_cfc1ca4715e642c7b9f1d42760c731fd"
      }
     },
     "baaa42ae12f948eab87555a7fbda06c9": {
      "model_module": "@jupyter-widgets/controls",
      "model_module_version": "1.5.0",
      "model_name": "HBoxModel",
      "state": {
       "children": [
        "IPY_MODEL_38aff3c9c69e426985154cc4165b3f46",
        "IPY_MODEL_e8ec467c663c43b680bf26b13a9a4041"
       ],
       "layout": "IPY_MODEL_341481874f4a40c88fa0bc3937bf1f74"
      }
     },
     "bac8604d77704199a0f58325e3b25b59": {
      "model_module": "@jupyter-widgets/controls",
      "model_module_version": "1.5.0",
      "model_name": "DescriptionStyleModel",
      "state": {
       "description_width": ""
      }
     },
     "bad4e236bef945b193cd8662cba5516a": {
      "model_module": "@jupyter-widgets/controls",
      "model_module_version": "1.5.0",
      "model_name": "SliderStyleModel",
      "state": {
       "description_width": ""
      }
     },
     "badf1d6936f34af5a14df64809ef893c": {
      "model_module": "@jupyter-widgets/controls",
      "model_module_version": "1.5.0",
      "model_name": "HBoxModel",
      "state": {
       "children": [
        "IPY_MODEL_bdac6d00efda4f16bee09beeff1d0317",
        "IPY_MODEL_1d7324e6216945c694b7879142e82cce"
       ],
       "layout": "IPY_MODEL_6e86329f62f04d64897ff3b96a1bfe58"
      }
     },
     "baf1a60a7c1b4d32906c8ce7421ac654": {
      "model_module": "@jupyter-widgets/controls",
      "model_module_version": "1.5.0",
      "model_name": "ButtonModel",
      "state": {
       "description": "Add",
       "layout": "IPY_MODEL_9c9be4e906924b7ca4fc59cedc2f1e32",
       "style": "IPY_MODEL_8f06c2ae91ad40a682161b87d6e730b4"
      }
     },
     "bb16c1d4c8a841829bfb8da15b3bea9a": {
      "model_module": "@jupyter-widgets/controls",
      "model_module_version": "1.5.0",
      "model_name": "SliderStyleModel",
      "state": {
       "description_width": ""
      }
     },
     "bb3613145b68440ba42bf478df5b13af": {
      "model_module": "@jupyter-widgets/controls",
      "model_module_version": "1.5.0",
      "model_name": "DescriptionStyleModel",
      "state": {
       "description_width": ""
      }
     },
     "bb79433b06b94630b6f77fbc405d30c3": {
      "model_module": "@jupyter-widgets/base",
      "model_module_version": "1.2.0",
      "model_name": "LayoutModel",
      "state": {}
     },
     "bb92e0f3b2e842e0ab29b1bbcaf44ed8": {
      "model_module": "@jupyter-widgets/controls",
      "model_module_version": "1.5.0",
      "model_name": "ButtonStyleModel",
      "state": {}
     },
     "bba064c217a24b0f9b5d380aaa6fea52": {
      "model_module": "@jupyter-widgets/controls",
      "model_module_version": "1.5.0",
      "model_name": "HBoxModel",
      "state": {
       "children": [
        "IPY_MODEL_7c9ff33ce6ef4aa9ac024f1cf91f4faf",
        "IPY_MODEL_83b3943961434027b9a8d49bdef39171",
        "IPY_MODEL_f78af31ccb8c4fa6988f852a049c17d8",
        "IPY_MODEL_c9bef065e2504444a9ee87abecefe691"
       ],
       "layout": "IPY_MODEL_f54b6bb1cd9047f2913448b18542023e"
      }
     },
     "bbc20920f34a4a74ae6269cb6b203707": {
      "model_module": "@jupyter-widgets/controls",
      "model_module_version": "1.5.0",
      "model_name": "FloatSliderModel",
      "state": {
       "description": "transparency",
       "layout": "IPY_MODEL_ed7d66b5a93a41909abdbcdcb3f73f67",
       "max": 1,
       "step": 0.1,
       "style": "IPY_MODEL_f20f31a04ca646aead57a9fa9a0eab65"
      }
     },
     "bc101f934e6546c8b4a4399a8ff52dd9": {
      "model_module": "@jupyter-widgets/controls",
      "model_module_version": "1.5.0",
      "model_name": "SliderStyleModel",
      "state": {
       "description_width": ""
      }
     },
     "bc2caf9b3fc84da494330dba24816842": {
      "model_module": "@jupyter-widgets/controls",
      "model_module_version": "1.5.0",
      "model_name": "ButtonModel",
      "state": {
       "description": "Delete",
       "layout": "IPY_MODEL_0d8106747f5f4d0a81928341852045a2",
       "style": "IPY_MODEL_3ec386de663b4617bc9f49b851f4ac02"
      }
     },
     "bc42d877cd3c4649bef7e1b74ed18b6e": {
      "model_module": "@jupyter-widgets/base",
      "model_module_version": "1.2.0",
      "model_name": "LayoutModel",
      "state": {}
     },
     "bc4bbf97cace49f2830fcdf2421eabb0": {
      "model_module": "@jupyter-widgets/base",
      "model_module_version": "1.2.0",
      "model_name": "LayoutModel",
      "state": {}
     },
     "bc6a9e91763e4425a42d8b1641580ff4": {
      "model_module": "@jupyter-widgets/controls",
      "model_module_version": "1.5.0",
      "model_name": "TextModel",
      "state": {
       "layout": "IPY_MODEL_8bd7cf6dc07d437190fbda31a59b43c4",
       "placeholder": "category name",
       "style": "IPY_MODEL_768416184c784ccc90f3432b6d9b15da"
      }
     },
     "bc6ff6dbd47e43719f4d3510291ab07c": {
      "model_module": "@jupyter-widgets/base",
      "model_module_version": "1.2.0",
      "model_name": "LayoutModel",
      "state": {}
     },
     "bca351d97c6d48f9814da71e4418e3a3": {
      "model_module": "@jupyter-widgets/base",
      "model_module_version": "1.2.0",
      "model_name": "LayoutModel",
      "state": {}
     },
     "bcb7465a37394dbabd8f197ae65f2662": {
      "model_module": "@jupyter-widgets/base",
      "model_module_version": "1.2.0",
      "model_name": "LayoutModel",
      "state": {}
     },
     "bcb9c01e8d5e4ef6a75414069738d87f": {
      "model_module": "pgljupyter",
      "model_module_version": "^0.1.17",
      "model_name": "FloatEditorModel",
      "state": {
       "_model_module_version": "^0.1.17",
       "_view_module_version": "^0.1.17",
       "children": [
        "IPY_MODEL_da94d7f0e6e045988d94aba69d5be576",
        "IPY_MODEL_c2a6d9ce18fc4ac0bc1a7f90b4c5116c"
       ],
       "layout": "IPY_MODEL_ffc34902c36642e1969fa8c466aeb653"
      }
     },
     "bcf4fc941c344389979acd078603c0fc": {
      "model_module": "@jupyter-widgets/base",
      "model_module_version": "1.2.0",
      "model_name": "LayoutModel",
      "state": {}
     },
     "bcf7fee88c72467fbcc5a469b43e9f92": {
      "model_module": "@jupyter-widgets/base",
      "model_module_version": "1.2.0",
      "model_name": "LayoutModel",
      "state": {}
     },
     "bd21842443764a4e9cfc0fe5e99adc99": {
      "model_module": "@jupyter-widgets/controls",
      "model_module_version": "1.5.0",
      "model_name": "HBoxModel",
      "state": {
       "children": [
        "IPY_MODEL_f2282812a130441eac41b660ee49477d",
        "IPY_MODEL_ba2927804c224adb95a5bde918123c5b"
       ],
       "layout": "IPY_MODEL_62867ab47038465d8944dcad2437cbc9"
      }
     },
     "bd75e9ca86e44f438e2c480a32fa8470": {
      "model_module": "@jupyter-widgets/controls",
      "model_module_version": "1.5.0",
      "model_name": "SliderStyleModel",
      "state": {
       "description_width": ""
      }
     },
     "bd975fbe82284673a970cc17143dddb9": {
      "model_module": "@jupyter-widgets/controls",
      "model_module_version": "1.5.0",
      "model_name": "DropdownModel",
      "state": {
       "_options_labels": [
        "Integer",
        "Float",
        "Bool"
       ],
       "index": 0,
       "layout": "IPY_MODEL_155e496650f34366b813ae47225f42d5",
       "style": "IPY_MODEL_e6991f813efb4b118467f99c0776efcd"
      }
     },
     "bdac6d00efda4f16bee09beeff1d0317": {
      "model_module": "@jupyter-widgets/controls",
      "model_module_version": "1.5.0",
      "model_name": "ButtonModel",
      "state": {
       "description": "Delete",
       "layout": "IPY_MODEL_b8f9b126dfec4211a4b352568394eb93",
       "style": "IPY_MODEL_21dc5393f9364b34b280fae10a6852f9"
      }
     },
     "bdcbb93f812947e88d3b05e0e12e3467": {
      "model_module": "@jupyter-widgets/base",
      "model_module_version": "1.2.0",
      "model_name": "LayoutModel",
      "state": {}
     },
     "bdd912ccd9594f2c93aaed30b1a57ee8": {
      "model_module": "@jupyter-widgets/controls",
      "model_module_version": "1.5.0",
      "model_name": "DropdownModel",
      "state": {
       "index": null,
       "layout": "IPY_MODEL_1e71076b6d304240bdd062f2d5156785",
       "style": "IPY_MODEL_5e9c1818473b44dab49b3d26bf241c9d"
      }
     },
     "be34e970bcfe4196ae35d41580213f9a": {
      "model_module": "@jupyter-widgets/controls",
      "model_module_version": "1.5.0",
      "model_name": "ColorPickerModel",
      "state": {
       "description": "ambient",
       "disabled": false,
       "layout": "IPY_MODEL_1eafac7d519a4739b0a5ec9f2e1a0356",
       "style": "IPY_MODEL_46bb048d9eec4d478fec36bfaa6b5a6b",
       "value": "#195717"
      }
     },
     "be52d9cdb49d41ef9f7664b51577a733": {
      "model_module": "@jupyter-widgets/base",
      "model_module_version": "1.2.0",
      "model_name": "LayoutModel",
      "state": {}
     },
     "be75d5dbdd5641339fe24f8c4f6ca207": {
      "model_module": "@jupyter-widgets/controls",
      "model_module_version": "1.5.0",
      "model_name": "DropdownModel",
      "state": {
       "_options_labels": [
        "NurbsCurve2D",
        "BezierCurve2D",
        "Polyline2D",
        "Function"
       ],
       "index": 0,
       "layout": "IPY_MODEL_62011f6d9ab4417da126fa460c091385",
       "style": "IPY_MODEL_a2c6eda68e01466896e29101678f2ecc"
      }
     },
     "bea75cda8f8442a1a38a4e847733c703": {
      "model_module": "@jupyter-widgets/controls",
      "model_module_version": "1.5.0",
      "model_name": "BoundedIntTextModel",
      "state": {
       "description": "index",
       "layout": "IPY_MODEL_305673ca6b654c1c8dcdccefd7e9a70a",
       "style": "IPY_MODEL_e45efbec269d4f03b8dd09502f95fedc",
       "value": 4
      }
     },
     "beaddf86b7f44cc299563ba4d42805ac": {
      "model_module": "@jupyter-widgets/controls",
      "model_module_version": "1.5.0",
      "model_name": "ButtonModel",
      "state": {
       "description": "Delete",
       "layout": "IPY_MODEL_25c2402de33e45e390315509afa77feb",
       "style": "IPY_MODEL_8bbd3656628c4c6e8afd4b8861674066"
      }
     },
     "bed12060ceba4494bf43652e512c3823": {
      "model_module": "@jupyter-widgets/controls",
      "model_module_version": "1.5.0",
      "model_name": "TextModel",
      "state": {
       "continuous_update": false,
       "description": "name",
       "layout": "IPY_MODEL_0e592e8a9b8343179820de7ac2999dbb",
       "style": "IPY_MODEL_ca11567bb72b468da1d353634229db6b",
       "value": "trunk"
      }
     },
     "bf0625eebb3744fc8cc55567e985236f": {
      "model_module": "@jupyter-widgets/controls",
      "model_module_version": "1.5.0",
      "model_name": "FloatSliderModel",
      "state": {
       "description": "shininess",
       "layout": "IPY_MODEL_06c676714abc45c2bd668d409b3f913f",
       "max": 1,
       "step": 0.1,
       "style": "IPY_MODEL_dc9722bd3a6e4f1e855fb518b2065abe",
       "value": 0.2
      }
     },
     "bf1fdb5bb36e4e1a926148fdc953e325": {
      "model_module": "@jupyter-widgets/controls",
      "model_module_version": "1.5.0",
      "model_name": "ButtonStyleModel",
      "state": {}
     },
     "bf215b8633cf4c8e9ddb25f302c62afb": {
      "model_module": "@jupyter-widgets/controls",
      "model_module_version": "1.5.0",
      "model_name": "ButtonStyleModel",
      "state": {}
     },
     "bf5f584ba47f4eb58e2144997c9fbd8f": {
      "model_module": "@jupyter-widgets/controls",
      "model_module_version": "1.5.0",
      "model_name": "DescriptionStyleModel",
      "state": {
       "description_width": ""
      }
     },
     "bf9f735211574d32bf9d5fa02ec1e786": {
      "model_module": "@jupyter-widgets/controls",
      "model_module_version": "1.5.0",
      "model_name": "HBoxModel",
      "state": {
       "children": [
        "IPY_MODEL_b1ed67a808ae4d98902e313123dd2c75",
        "IPY_MODEL_e647273f61494efb92b293f226b212ce"
       ],
       "layout": "IPY_MODEL_3423cf0a4514403f822864a725d3fedc"
      }
     },
     "bfa2cd7f0c5143b98b10a45ec7d2d66d": {
      "model_module": "@jupyter-widgets/controls",
      "model_module_version": "1.5.0",
      "model_name": "BoundedIntTextModel",
      "state": {
       "description": "index",
       "layout": "IPY_MODEL_856cb4dc10fd40959afd4f2ed68f4da6",
       "style": "IPY_MODEL_391878e8ba0540f5adaa617056b8dd47",
       "value": 2
      }
     },
     "bfb30d87706146bc8fe2542c4dec80e3": {
      "model_module": "pgljupyter",
      "model_module_version": "^0.1.20",
      "model_name": "ParameterEditorModel",
      "state": {
       "_model_module_version": "^0.1.20",
       "_view_module_version": "^0.1.20",
       "children": [
        "IPY_MODEL_1e131dd0699142ff8d201517f327a01e"
       ],
       "layout": "IPY_MODEL_e9bf0cd054d84ef78d0da14f7ed9cea5"
      }
     },
     "bfcd0c0f65914aef9be1c321c3bcf1e0": {
      "model_module": "@jupyter-widgets/controls",
      "model_module_version": "1.5.0",
      "model_name": "DescriptionStyleModel",
      "state": {
       "description_width": ""
      }
     },
     "bfcf3e600cd241bc9d5160e197b1e911": {
      "model_module": "@jupyter-widgets/base",
      "model_module_version": "1.2.0",
      "model_name": "LayoutModel",
      "state": {}
     },
     "c0409f72c596451b915072be0153fdf9": {
      "model_module": "@jupyter-widgets/controls",
      "model_module_version": "1.5.0",
      "model_name": "DescriptionStyleModel",
      "state": {
       "description_width": ""
      }
     },
     "c076c7f8110443d8b16ad88e24d4c9c2": {
      "model_module": "@jupyter-widgets/controls",
      "model_module_version": "1.5.0",
      "model_name": "SliderStyleModel",
      "state": {
       "description_width": ""
      }
     },
     "c0a048ed609e4aceb6a259def78278e2": {
      "model_module": "@jupyter-widgets/controls",
      "model_module_version": "1.5.0",
      "model_name": "TextModel",
      "state": {
       "layout": "IPY_MODEL_1b6051bae24c473598c952d51984d1ee",
       "placeholder": "category name",
       "style": "IPY_MODEL_93a5e2d0c70d421d81cf898af8d464df"
      }
     },
     "c0bb2a0d577641b58e46f24746ba8a03": {
      "model_module": "@jupyter-widgets/controls",
      "model_module_version": "1.5.0",
      "model_name": "SliderStyleModel",
      "state": {
       "description_width": ""
      }
     },
     "c0e6e3c25e6e41948722f8a330ddc4e1": {
      "model_module": "@jupyter-widgets/controls",
      "model_module_version": "1.5.0",
      "model_name": "FloatSliderModel",
      "state": {
       "description": "diffuse",
       "layout": "IPY_MODEL_ec128f27e5d548fd89d35f652fb3d014",
       "max": 3,
       "step": 0.1,
       "style": "IPY_MODEL_b9fcc4919c8b40f2a8d2e8ea3fad4478",
       "value": 1
      }
     },
     "c11321e762b3422997689f94db4a71c8": {
      "model_module": "@jupyter-widgets/controls",
      "model_module_version": "1.5.0",
      "model_name": "ColorPickerModel",
      "state": {
       "description": "emission",
       "disabled": false,
       "layout": "IPY_MODEL_382ba098f6cc4adf8bfb135a9de7b6d8",
       "style": "IPY_MODEL_0ce5322222f04cda8b64b0849f810223",
       "value": "#000000"
      }
     },
     "c120885553c04d129fd38676ed6234d2": {
      "model_module": "@jupyter-widgets/controls",
      "model_module_version": "1.5.0",
      "model_name": "DescriptionStyleModel",
      "state": {
       "description_width": ""
      }
     },
     "c156b4effd8047eb86722833ed8a0f8e": {
      "model_module": "@jupyter-widgets/base",
      "model_module_version": "1.2.0",
      "model_name": "LayoutModel",
      "state": {}
     },
     "c16429a9bfff45a981471a788dca62c2": {
      "model_module": "@jupyter-widgets/controls",
      "model_module_version": "1.5.0",
      "model_name": "FloatSliderModel",
      "state": {
       "description": "shininess",
       "layout": "IPY_MODEL_ecd6712976814a878c2eb22824a5e5e9",
       "max": 1,
       "step": 0.1,
       "style": "IPY_MODEL_6a96352f36b9452bba44e1ee4b108426",
       "value": 0.2
      }
     },
     "c1729e1e6a704ee9982e5f868755dfc6": {
      "model_module": "@jupyter-widgets/controls",
      "model_module_version": "1.5.0",
      "model_name": "DescriptionStyleModel",
      "state": {
       "description_width": ""
      }
     },
     "c190a593c1ed4ea199fb8b572fe94562": {
      "model_module": "@jupyter-widgets/controls",
      "model_module_version": "1.5.0",
      "model_name": "DescriptionStyleModel",
      "state": {
       "description_width": ""
      }
     },
     "c1a7e756fd674170a661ab6dcc62f7a9": {
      "model_module": "@jupyter-widgets/controls",
      "model_module_version": "1.5.0",
      "model_name": "FloatSliderModel",
      "state": {
       "description": "diffuse",
       "layout": "IPY_MODEL_f8b573f681b34435b46c31918778cf1a",
       "max": 3,
       "step": 0.1,
       "style": "IPY_MODEL_dbf29d67c32f4897a7101f3492b6f2df",
       "value": 1
      }
     },
     "c1f8e654bd764ed1b77cc56f2508694d": {
      "model_module": "@jupyter-widgets/controls",
      "model_module_version": "1.5.0",
      "model_name": "DescriptionStyleModel",
      "state": {
       "description_width": ""
      }
     },
     "c215c775706940698bf97b3b703c91da": {
      "model_module": "@jupyter-widgets/controls",
      "model_module_version": "1.5.0",
      "model_name": "ColorPickerModel",
      "state": {
       "description": "emission",
       "disabled": false,
       "layout": "IPY_MODEL_59e6e480e2f044e3973bd8d2328b0a68",
       "style": "IPY_MODEL_2f7bae47a5d04c279483d29ce1fb515d",
       "value": "#000000"
      }
     },
     "c2205a0d7c964b6c8ed4a89cd19b8f92": {
      "model_module": "@jupyter-widgets/controls",
      "model_module_version": "1.5.0",
      "model_name": "ColorPickerModel",
      "state": {
       "description": "ambient",
       "disabled": false,
       "layout": "IPY_MODEL_c156b4effd8047eb86722833ed8a0f8e",
       "style": "IPY_MODEL_a21046bdb21740aeae992e0143e91153",
       "value": "#e1a014"
      }
     },
     "c25725e9ed4543cba7cfc3aee18d110d": {
      "model_module": "@jupyter-widgets/controls",
      "model_module_version": "1.5.0",
      "model_name": "DescriptionStyleModel",
      "state": {
       "description_width": ""
      }
     },
     "c2578ef26c0743838357a06ac7dbb03e": {
      "model_module": "@jupyter-widgets/base",
      "model_module_version": "1.2.0",
      "model_name": "LayoutModel",
      "state": {}
     },
     "c28c1957d1634127975fa331e2198a31": {
      "model_module": "@jupyter-widgets/controls",
      "model_module_version": "1.5.0",
      "model_name": "DescriptionStyleModel",
      "state": {
       "description_width": ""
      }
     },
     "c29fffdc637c4b74935a820089942936": {
      "model_module": "@jupyter-widgets/controls",
      "model_module_version": "1.5.0",
      "model_name": "HBoxModel",
      "state": {
       "children": [
        "IPY_MODEL_d9b886e295724cc9a420de8dcc17e338",
        "IPY_MODEL_7f28069d37a34840971aedd32085c8f9"
       ],
       "layout": "IPY_MODEL_a2e0faf740134dcb8588672a0eb3e8d8"
      }
     },
     "c2a6d9ce18fc4ac0bc1a7f90b4c5116c": {
      "model_module": "@jupyter-widgets/controls",
      "model_module_version": "1.5.0",
      "model_name": "FloatSliderModel",
      "state": {
       "description": "value",
       "layout": "IPY_MODEL_6c671f207c164abd949a12ac8032908b",
       "max": 0.1,
       "min": 0.01,
       "step": 0.01,
       "style": "IPY_MODEL_6313452555004e3e8cd4af4b429d6c81",
       "value": 0.02
      }
     },
     "c2be0d36854f4826b190f2aef55fd686": {
      "model_module": "@jupyter-widgets/controls",
      "model_module_version": "1.5.0",
      "model_name": "ButtonModel",
      "state": {
       "description": "Delete",
       "layout": "IPY_MODEL_29cf0466a11e48fc973f7029133b4c1c",
       "style": "IPY_MODEL_557b13d22d9c4523aede128ecebc8ac7"
      }
     },
     "c2c1faa3a7104893aba1b9a986c72e7f": {
      "model_module": "@jupyter-widgets/controls",
      "model_module_version": "1.5.0",
      "model_name": "TabModel",
      "state": {
       "layout": "IPY_MODEL_0e698e6988a94950922b8014c320bdf8"
      }
     },
     "c2ea397318574d91a49746ced9e8db1a": {
      "model_module": "@jupyter-widgets/base",
      "model_module_version": "1.2.0",
      "model_name": "LayoutModel",
      "state": {}
     },
     "c30638fef6f54cf1961713315e8da2f9": {
      "model_module": "@jupyter-widgets/controls",
      "model_module_version": "1.5.0",
      "model_name": "DescriptionStyleModel",
      "state": {
       "description_width": ""
      }
     },
     "c309dadcba5d4757ad170bafede09c29": {
      "model_module": "pgljupyter",
      "model_module_version": "^0.1.17",
      "model_name": "MaterialEditorModel",
      "state": {
       "_model_module_version": "^0.1.17",
       "_view_module_version": "^0.1.17",
       "children": [
        "IPY_MODEL_243831084f114d97bd1e5d3e35197ff6",
        "IPY_MODEL_de26906445994c7e8243365b107e8044",
        "IPY_MODEL_f958a1e7a32245119bf98c95905da1a2",
        "IPY_MODEL_70dda571646341ceb6f35058be924baf",
        "IPY_MODEL_c0e6e3c25e6e41948722f8a330ddc4e1",
        "IPY_MODEL_ae72d17e3fb94a56a3727653a69248a4",
        "IPY_MODEL_2249a5a5d0f24085af3136bbb4f3f425"
       ],
       "layout": "IPY_MODEL_134a756a9b454b73bb8ed6d12d756e98"
      }
     },
     "c311f2512bd54982b3579b77887bb9f8": {
      "model_module": "@jupyter-widgets/controls",
      "model_module_version": "1.5.0",
      "model_name": "IntSliderModel",
      "state": {
       "description": "value",
       "layout": "IPY_MODEL_fb261447b1394430bbc4cbcda7f7c31a",
       "max": 10,
       "min": 1,
       "style": "IPY_MODEL_5c8b02bacbff4f469a89e2d1ea4bf18e",
       "value": 3
      }
     },
     "c32f6b4c4d3c4559935e3f52d16dc798": {
      "model_module": "@jupyter-widgets/base",
      "model_module_version": "1.2.0",
      "model_name": "LayoutModel",
      "state": {}
     },
     "c361327190724646be840782bc716cef": {
      "model_module": "@jupyter-widgets/controls",
      "model_module_version": "1.5.0",
      "model_name": "VBoxModel",
      "state": {
       "children": [
        "IPY_MODEL_0df3c48cd89940ce80485ec6fb57722c",
        "IPY_MODEL_e24becef77854391b6cd6c67e04932e8"
       ],
       "layout": "IPY_MODEL_eb11e6bb87f04e778a49e0a3916ee734"
      }
     },
     "c3c827131f134d53a63ac1630295a9db": {
      "model_module": "@jupyter-widgets/controls",
      "model_module_version": "1.5.0",
      "model_name": "ColorPickerModel",
      "state": {
       "description": "specular",
       "disabled": false,
       "layout": "IPY_MODEL_47fb3c80b04646738a440b8943ebe585",
       "style": "IPY_MODEL_d9fed144986740a4aebc4a2d4217ab60",
       "value": "#282828"
      }
     },
     "c3f4c1f812d844ea9207b9e5e852348d": {
      "model_module": "@jupyter-widgets/controls",
      "model_module_version": "1.5.0",
      "model_name": "ColorPickerModel",
      "state": {
       "description": "specular",
       "disabled": false,
       "layout": "IPY_MODEL_c9f408cad5994e8ab4dbb398970c8e82",
       "style": "IPY_MODEL_a9cadb58b2d74d899f90724daa0dbc03",
       "value": "#282828"
      }
     },
     "c43e0238c1ef4e7c983ad07ad7529348": {
      "model_module": "@jupyter-widgets/base",
      "model_module_version": "1.2.0",
      "model_name": "LayoutModel",
      "state": {}
     },
     "c47d49a7c60647cb85c5eb15764ce0cf": {
      "model_module": "@jupyter-widgets/base",
      "model_module_version": "1.2.0",
      "model_name": "LayoutModel",
      "state": {}
     },
     "c48e782f1bef445e9f2d0c4e1632f795": {
      "model_module": "@jupyter-widgets/base",
      "model_module_version": "1.2.0",
      "model_name": "LayoutModel",
      "state": {}
     },
     "c4ed48b837534de7b3ebc8b317ef0a11": {
      "model_module": "@jupyter-widgets/controls",
      "model_module_version": "1.5.0",
      "model_name": "DescriptionStyleModel",
      "state": {
       "description_width": ""
      }
     },
     "c54af388f2644be9bbacd4f598e6ceaa": {
      "model_module": "@jupyter-widgets/controls",
      "model_module_version": "1.5.0",
      "model_name": "TextModel",
      "state": {
       "continuous_update": false,
       "description": "name",
       "layout": "IPY_MODEL_dfe63aa9d45245879bd179fdae112be6",
       "style": "IPY_MODEL_01b4759293cd4876b08c36080cc6c88b",
       "value": "nb_axes"
      }
     },
     "c54dbf897e88456f9d68e9e0b6f32806": {
      "model_module": "@jupyter-widgets/controls",
      "model_module_version": "1.5.0",
      "model_name": "DescriptionStyleModel",
      "state": {
       "description_width": ""
      }
     },
     "c5ef80a74b76476ab2ab7654fd9a2aae": {
      "model_module": "@jupyter-widgets/controls",
      "model_module_version": "1.5.0",
      "model_name": "TextModel",
      "state": {
       "continuous_update": false,
       "description": "name",
       "layout": "IPY_MODEL_8ebbdf1fb8e54a828e60d7ac7f9605d3",
       "style": "IPY_MODEL_0098827af4e640a7995f79067eabb137",
       "value": "maxorder"
      }
     },
     "c668486775d54df3a202a26b6d1a94af": {
      "model_module": "@jupyter-widgets/base",
      "model_module_version": "1.2.0",
      "model_name": "LayoutModel",
      "state": {}
     },
     "c670633e3aa5429fb74ad03495d1835c": {
      "model_module": "@jupyter-widgets/controls",
      "model_module_version": "1.5.0",
      "model_name": "HBoxModel",
      "state": {
       "children": [
        "IPY_MODEL_d00d708bc83a43c486f075d9361c9002",
        "IPY_MODEL_ec264ee7c2014d25b4a56adf37235cd5"
       ],
       "layout": "IPY_MODEL_9b28113ac4cf4246b8f51027152a28ae"
      }
     },
     "c68f788cbf434b1b86545d771587773e": {
      "model_module": "@jupyter-widgets/base",
      "model_module_version": "1.2.0",
      "model_name": "LayoutModel",
      "state": {}
     },
     "c6a591bed4c246eaa6f122a5fb74d701": {
      "model_module": "@jupyter-widgets/base",
      "model_module_version": "1.2.0",
      "model_name": "LayoutModel",
      "state": {}
     },
     "c70724b373544707a8ceb6ea34ead215": {
      "model_module": "@jupyter-widgets/base",
      "model_module_version": "1.2.0",
      "model_name": "LayoutModel",
      "state": {}
     },
     "c737fed3f4b647319d521b5a01ed5013": {
      "model_module": "@jupyter-widgets/base",
      "model_module_version": "1.2.0",
      "model_name": "LayoutModel",
      "state": {}
     },
     "c76ff38eb79648c091c2640ae5686f89": {
      "model_module": "@jupyter-widgets/controls",
      "model_module_version": "1.5.0",
      "model_name": "FloatSliderModel",
      "state": {
       "description": "transparency",
       "layout": "IPY_MODEL_4d79e8bd62ba46e7b8991120fe395616",
       "max": 1,
       "step": 0.1,
       "style": "IPY_MODEL_a9b011b81d9a47ae956fb42dd48f7577"
      }
     },
     "c7ce13c027424623b6f2e99ab754ce1b": {
      "model_module": "@jupyter-widgets/controls",
      "model_module_version": "1.5.0",
      "model_name": "ButtonStyleModel",
      "state": {}
     },
     "c7ea2a8eaf6f4fd6ba043daec10a8f1a": {
      "model_module": "@jupyter-widgets/base",
      "model_module_version": "1.2.0",
      "model_name": "LayoutModel",
      "state": {}
     },
     "c7f7b7c639f04c7a812a812bc95f2f4a": {
      "model_module": "@jupyter-widgets/controls",
      "model_module_version": "1.5.0",
      "model_name": "ButtonStyleModel",
      "state": {}
     },
     "c7fdf9479d19465286070c71ea3e9462": {
      "model_module": "@jupyter-widgets/controls",
      "model_module_version": "1.5.0",
      "model_name": "SliderStyleModel",
      "state": {
       "description_width": ""
      }
     },
     "c84fe53e0e9a4df391e82723c5e179d5": {
      "model_module": "@jupyter-widgets/controls",
      "model_module_version": "1.5.0",
      "model_name": "SliderStyleModel",
      "state": {
       "description_width": ""
      }
     },
     "c857186aabb743a182bad020b5b61e91": {
      "model_module": "@jupyter-widgets/controls",
      "model_module_version": "1.5.0",
      "model_name": "ButtonModel",
      "state": {
       "description": "Delete category",
       "layout": "IPY_MODEL_3178a3216d144ea499adf4148f81828a",
       "style": "IPY_MODEL_1d631b91d9ac4f29a2da89915f36246d"
      }
     },
     "c86dfb91c7754e40aff8205f0595f499": {
      "model_module": "@jupyter-widgets/controls",
      "model_module_version": "1.5.0",
      "model_name": "FloatSliderModel",
      "state": {
       "description": "shininess",
       "layout": "IPY_MODEL_2c2396952b064b95b30ec4636f7a5104",
       "max": 1,
       "step": 0.1,
       "style": "IPY_MODEL_0fbcef905dc549ebb51d1bcd20ade1b3",
       "value": 0.2
      }
     },
     "c874010bc6f24cc38736c49375396273": {
      "model_module": "@jupyter-widgets/controls",
      "model_module_version": "1.5.0",
      "model_name": "FloatSliderModel",
      "state": {
       "description": "shininess",
       "layout": "IPY_MODEL_7a33b0c7ad914ade99bfb96985353f2e",
       "max": 1,
       "step": 0.1,
       "style": "IPY_MODEL_96760736adb540eab397a4254d806359",
       "value": 0.2
      }
     },
     "c87de82df61849479c94ddeef1b62236": {
      "model_module": "@jupyter-widgets/controls",
      "model_module_version": "1.5.0",
      "model_name": "TabModel",
      "state": {
       "_titles": {
        "0": "leuwenberg.json"
       },
       "children": [
        "IPY_MODEL_855e56574bc4405fb85a9d92a7326cfa"
       ],
       "layout": "IPY_MODEL_769de7cf8d7e429d8f80a5713fb7ebfa"
      }
     },
     "c885c505f74c4f13b9663c38cb480f8a": {
      "model_module": "@jupyter-widgets/base",
      "model_module_version": "1.2.0",
      "model_name": "LayoutModel",
      "state": {}
     },
     "c8bd3e3f13474b0baac9eb113f5ce252": {
      "model_module": "@jupyter-widgets/base",
      "model_module_version": "1.2.0",
      "model_name": "LayoutModel",
      "state": {}
     },
     "c8ca31ca5bd148e6a5aa1524e6d99e3f": {
      "model_module": "@jupyter-widgets/controls",
      "model_module_version": "1.5.0",
      "model_name": "DescriptionStyleModel",
      "state": {
       "description_width": ""
      }
     },
     "c8d3f70598d54c238929a83e3bcb3334": {
      "model_module": "@jupyter-widgets/controls",
      "model_module_version": "1.5.0",
      "model_name": "DescriptionStyleModel",
      "state": {
       "description_width": ""
      }
     },
     "c908184eb23d4c2496f39acbf94a858a": {
      "model_module": "@jupyter-widgets/base",
      "model_module_version": "1.2.0",
      "model_name": "LayoutModel",
      "state": {}
     },
     "c92b975754c040e5b82b402ea1415e65": {
      "model_module": "@jupyter-widgets/controls",
      "model_module_version": "1.5.0",
      "model_name": "ColorPickerModel",
      "state": {
       "description": "specular",
       "disabled": false,
       "layout": "IPY_MODEL_896ad6ec098a405a80ae6f82cca58a0c",
       "style": "IPY_MODEL_ed9c4819f169408997cc14e89f892d4d",
       "value": "#282828"
      }
     },
     "c9403f1b437748eaa3f2b265b7d6eaa2": {
      "model_module": "@jupyter-widgets/controls",
      "model_module_version": "1.5.0",
      "model_name": "ColorPickerModel",
      "state": {
       "description": "ambient",
       "disabled": false,
       "layout": "IPY_MODEL_cef95e99bff14a7892ad7b7e082815a3",
       "style": "IPY_MODEL_5631cbab764947158f1da6a147458613",
       "value": "#e1a014"
      }
     },
     "c989202804bb452e8cb9723017e5f6c3": {
      "model_module": "@jupyter-widgets/base",
      "model_module_version": "1.2.0",
      "model_name": "LayoutModel",
      "state": {}
     },
     "c98bc4fd0fb74e1583e73ae62e4ec124": {
      "model_module": "@jupyter-widgets/controls",
      "model_module_version": "1.5.0",
      "model_name": "ButtonStyleModel",
      "state": {}
     },
     "c9baeb3cc9b94afca6784ad73de3b963": {
      "model_module": "@jupyter-widgets/base",
      "model_module_version": "1.2.0",
      "model_name": "LayoutModel",
      "state": {
       "margin": "20px 0px"
      }
     },
     "c9bef065e2504444a9ee87abecefe691": {
      "model_module": "pgljupyter",
      "model_module_version": "^0.1.18",
      "model_name": "MaterialEditorModel",
      "state": {
       "_model_module_version": "^0.1.18",
       "_view_module_version": "^0.1.18",
       "children": [
        "IPY_MODEL_de319ccb71084e70b9dbfd5cfb7f274a",
        "IPY_MODEL_7c0c38291061419390dbeba93ef4ef19",
        "IPY_MODEL_c9403f1b437748eaa3f2b265b7d6eaa2",
        "IPY_MODEL_b336f9abf432475a859c3a01ea152da7",
        "IPY_MODEL_3e44ac9e61c14a0f9579e3363460f583",
        "IPY_MODEL_60b6d845ad24428db8160a19a54d242d",
        "IPY_MODEL_d64b99f37a81429489c488b69a00175d",
        "IPY_MODEL_cf824a36611440baadda6efc8be404cc"
       ],
       "layout": "IPY_MODEL_ad770f779d7142d692b8057c7c5825cf"
      }
     },
     "c9e51a7855744cacbf121c9bb896cf32": {
      "model_module": "@jupyter-widgets/base",
      "model_module_version": "1.2.0",
      "model_name": "LayoutModel",
      "state": {}
     },
     "c9ee8ed99d854415b137aeef8b399bf7": {
      "model_module": "@jupyter-widgets/controls",
      "model_module_version": "1.5.0",
      "model_name": "DescriptionStyleModel",
      "state": {
       "description_width": ""
      }
     },
     "c9f408cad5994e8ab4dbb398970c8e82": {
      "model_module": "@jupyter-widgets/base",
      "model_module_version": "1.2.0",
      "model_name": "LayoutModel",
      "state": {}
     },
     "ca048b3e6ffe42779d97a92813a975b0": {
      "model_module": "@jupyter-widgets/controls",
      "model_module_version": "1.5.0",
      "model_name": "BoundedIntTextModel",
      "state": {
       "description": "index",
       "layout": "IPY_MODEL_efecd650a0b549cfb8d04768a7af3883",
       "style": "IPY_MODEL_1eb0713d17fb4a92b6d7cfab6060154c",
       "value": 1
      }
     },
     "ca11567bb72b468da1d353634229db6b": {
      "model_module": "@jupyter-widgets/controls",
      "model_module_version": "1.5.0",
      "model_name": "DescriptionStyleModel",
      "state": {
       "description_width": ""
      }
     },
     "ca31eefba9934ba0853aeee9ed1c6164": {
      "model_module": "@jupyter-widgets/controls",
      "model_module_version": "1.5.0",
      "model_name": "DescriptionStyleModel",
      "state": {
       "description_width": ""
      }
     },
     "ca53e0658bf34086ba83cddc03f09176": {
      "model_module": "@jupyter-widgets/controls",
      "model_module_version": "1.5.0",
      "model_name": "SliderStyleModel",
      "state": {
       "description_width": ""
      }
     },
     "ca93be8a390a4842a5a88b86b5f0c740": {
      "model_module": "@jupyter-widgets/controls",
      "model_module_version": "1.5.0",
      "model_name": "IntSliderModel",
      "state": {
       "description": "value",
       "layout": "IPY_MODEL_3ba3327a9ad340168a7a06f365fdced1",
       "max": 10,
       "min": 1,
       "style": "IPY_MODEL_1adccbe353a046ea9bf4ed81f2cba08d",
       "value": 3
      }
     },
     "cb43d93a31474ef68c27ec960b1e17ad": {
      "model_module": "@jupyter-widgets/base",
      "model_module_version": "1.2.0",
      "model_name": "LayoutModel",
      "state": {}
     },
     "cb7d447aaf2c4c759979e1f891e6d461": {
      "model_module": "@jupyter-widgets/controls",
      "model_module_version": "1.5.0",
      "model_name": "ColorPickerModel",
      "state": {
       "description": "emission",
       "disabled": false,
       "layout": "IPY_MODEL_455f8aeaffa441bf93d43f30ccfb8f01",
       "style": "IPY_MODEL_80486992e7b749219293ac12cc88f982",
       "value": "#000000"
      }
     },
     "cb8ca0e6e0eb421686668ef1c62fece3": {
      "model_module": "@jupyter-widgets/base",
      "model_module_version": "1.2.0",
      "model_name": "LayoutModel",
      "state": {}
     },
     "cbb885bb9b4c46c4a535abf50628efc5": {
      "model_module": "@jupyter-widgets/controls",
      "model_module_version": "1.5.0",
      "model_name": "HBoxModel",
      "state": {
       "layout": "IPY_MODEL_964212339a614dc4b244dd85464c155d"
      }
     },
     "cbc8b4e533c94b8597e45a4ac84149b8": {
      "model_module": "@jupyter-widgets/controls",
      "model_module_version": "1.5.0",
      "model_name": "DropdownModel",
      "state": {
       "_options_labels": [
        "leafduration",
        "leafold",
        "maxorder",
        "radinc",
        "nb_axes"
       ],
       "index": 0,
       "layout": "IPY_MODEL_b8d47ef44074438281319294176af51b",
       "style": "IPY_MODEL_5952c0e964b14034832f8d689c94cd56"
      }
     },
     "cbdaf49adba648288d71c4ee0c85a46d": {
      "model_module": "@jupyter-widgets/controls",
      "model_module_version": "1.5.0",
      "model_name": "ButtonModel",
      "state": {
       "description": "Delete",
       "layout": "IPY_MODEL_e996a0616fe3456f83d3a47b2d6444d3",
       "style": "IPY_MODEL_e0b543b076714cf5958478e4889a5cb7"
      }
     },
     "cc14692e35cc4df3a41f6c4a0b9ab26e": {
      "model_module": "@jupyter-widgets/controls",
      "model_module_version": "1.5.0",
      "model_name": "SliderStyleModel",
      "state": {
       "description_width": ""
      }
     },
     "cc25751e00dd443fb5153b58575d586f": {
      "model_module": "@jupyter-widgets/controls",
      "model_module_version": "1.5.0",
      "model_name": "ButtonStyleModel",
      "state": {}
     },
     "cc343dc00b354cd18fece388a4875e4c": {
      "model_module": "pgljupyter",
      "model_module_version": "^0.1.18",
      "model_name": "IntEditorModel",
      "state": {
       "_model_module_version": "^0.1.18",
       "_view_module_version": "^0.1.18",
       "children": [
        "IPY_MODEL_902e29cc535749e796ee3a937c3dfd21",
        "IPY_MODEL_cf70e5ab01a742c8abccfa36d455b40f"
       ],
       "layout": "IPY_MODEL_fe3f4751df8748c2bbaad9e702ecd866"
      }
     },
     "cc6d0e94c93b4978adf6227cfb533d2c": {
      "model_module": "@jupyter-widgets/controls",
      "model_module_version": "1.5.0",
      "model_name": "DescriptionStyleModel",
      "state": {
       "description_width": ""
      }
     },
     "cca2bc234f7546b6ab053ec14a62865d": {
      "model_module": "pgljupyter",
      "model_module_version": "^0.1.17",
      "model_name": "IntEditorModel",
      "state": {
       "_model_module_version": "^0.1.17",
       "_view_module_version": "^0.1.17",
       "children": [
        "IPY_MODEL_c5ef80a74b76476ab2ab7654fd9a2aae",
        "IPY_MODEL_683514619a284a17be83f3e12928bc6a"
       ],
       "layout": "IPY_MODEL_35888e4f3f5048409ae7317289d152bd"
      }
     },
     "ccb212c6dfcc4c1d92cc6abceb4d2737": {
      "model_module": "@jupyter-widgets/controls",
      "model_module_version": "1.5.0",
      "model_name": "HBoxModel",
      "state": {
       "children": [
        "IPY_MODEL_5ccfe2f5d1bc472faf8aa7f50bf0ab1d",
        "IPY_MODEL_49d68010fc084f1ebd5a1e73fb6c31af",
        "IPY_MODEL_e3e60ccbc1cb456a81c849bf7a485b87",
        "IPY_MODEL_87914f94bb81462d992aeaaef5f740be"
       ],
       "layout": "IPY_MODEL_8d56c586bca3464d8c5cb36ae761ba46"
      }
     },
     "ccb39defb4b54d8591cbedd607b9aa56": {
      "model_module": "@jupyter-widgets/base",
      "model_module_version": "1.2.0",
      "model_name": "LayoutModel",
      "state": {}
     },
     "ccd2ea5a8e31427bb33242becf4077fa": {
      "model_module": "@jupyter-widgets/base",
      "model_module_version": "1.2.0",
      "model_name": "LayoutModel",
      "state": {}
     },
     "cce99130437343edbb73e295b4bb4a02": {
      "model_module": "@jupyter-widgets/controls",
      "model_module_version": "1.5.0",
      "model_name": "DropdownModel",
      "state": {
       "index": null,
       "layout": "IPY_MODEL_814dac1493d8493abe1be47f92709960",
       "style": "IPY_MODEL_e1a057438d6b4569b6ab77b9fa61b360"
      }
     },
     "ccf0f2ce22544625b858407af5c61f95": {
      "model_module": "@jupyter-widgets/base",
      "model_module_version": "1.2.0",
      "model_name": "LayoutModel",
      "state": {}
     },
     "cd1d503025f94455898cda591460f5da": {
      "model_module": "@jupyter-widgets/controls",
      "model_module_version": "1.5.0",
      "model_name": "DropdownModel",
      "state": {
       "_options_labels": [
        "NurbsCurve2D",
        "BezierCurve2D",
        "Polyline2D",
        "Function"
       ],
       "index": 0,
       "layout": "IPY_MODEL_3761ab3b962b4bdc83a0b5c3edaaf2f4",
       "style": "IPY_MODEL_ec565a4c65ef47b7b5c481d2e487b68f"
      }
     },
     "cd7bfb5080ac406ca64676e932e517e1": {
      "model_module": "@jupyter-widgets/controls",
      "model_module_version": "1.5.0",
      "model_name": "ButtonModel",
      "state": {
       "description": "Delete",
       "layout": "IPY_MODEL_4b7afeaad0934ef3b8ed7e9d8d2cd9c9",
       "style": "IPY_MODEL_f10e1a78bef24b7a80af155ce5e761cd"
      }
     },
     "cd863832ae4f4c2a9fb4238d4fe72b7d": {
      "model_module": "@jupyter-widgets/controls",
      "model_module_version": "1.5.0",
      "model_name": "IntTextModel",
      "state": {
       "description": "min",
       "layout": "IPY_MODEL_67c7aedfc8f04a9bb8e92c4fbabb0fa3",
       "step": 1,
       "style": "IPY_MODEL_15cc82a7eb6848f88869d829430b0385",
       "value": 1
      }
     },
     "cdf37350d48b41aa95e2f22bc8635d1f": {
      "model_module": "@jupyter-widgets/base",
      "model_module_version": "1.2.0",
      "model_name": "LayoutModel",
      "state": {
       "margin": "20px 0px"
      }
     },
     "ce0fb06d58634cb9b41ec68d1e1dc70d": {
      "model_module": "@jupyter-widgets/controls",
      "model_module_version": "1.5.0",
      "model_name": "TextModel",
      "state": {
       "continuous_update": false,
       "description": "name",
       "layout": "IPY_MODEL_6f1858b8e9c6421b9b4fe2362c1009c7",
       "style": "IPY_MODEL_ca31eefba9934ba0853aeee9ed1c6164",
       "value": "leaf_new"
      }
     },
     "ce2c33204f164aad889970e5a43d3a08": {
      "model_module": "@jupyter-widgets/controls",
      "model_module_version": "1.5.0",
      "model_name": "HBoxModel",
      "state": {
       "children": [
        "IPY_MODEL_1fcf90f890c6426ab939a569108497cd",
        "IPY_MODEL_7f20014dd702433aad34bf992652d5b2"
       ],
       "layout": "IPY_MODEL_4958d672242649e6ba8c129a89e468d4"
      }
     },
     "ce2ea4fd167e4cb2b2f137651b8ac0c7": {
      "model_module": "@jupyter-widgets/controls",
      "model_module_version": "1.5.0",
      "model_name": "SliderStyleModel",
      "state": {
       "description_width": ""
      }
     },
     "ce70308ac20f4bb987e9cff5c5bdd36c": {
      "model_module": "@jupyter-widgets/controls",
      "model_module_version": "1.5.0",
      "model_name": "DescriptionStyleModel",
      "state": {
       "description_width": ""
      }
     },
     "ce7e6e96ec964535b8172165fd984f5a": {
      "model_module": "@jupyter-widgets/controls",
      "model_module_version": "1.5.0",
      "model_name": "ButtonStyleModel",
      "state": {}
     },
     "ce95b26aa02f45a485c1255eae9a21fa": {
      "model_module": "@jupyter-widgets/controls",
      "model_module_version": "1.5.0",
      "model_name": "SliderStyleModel",
      "state": {
       "description_width": ""
      }
     },
     "cec3e99efbcc48f4949ee3f961d09c72": {
      "model_module": "@jupyter-widgets/controls",
      "model_module_version": "1.5.0",
      "model_name": "DescriptionStyleModel",
      "state": {
       "description_width": ""
      }
     },
     "cef95e99bff14a7892ad7b7e082815a3": {
      "model_module": "@jupyter-widgets/base",
      "model_module_version": "1.2.0",
      "model_name": "LayoutModel",
      "state": {}
     },
     "ceffb090a5a74d579c94f7381b9a47f0": {
      "model_module": "@jupyter-widgets/base",
      "model_module_version": "1.2.0",
      "model_name": "LayoutModel",
      "state": {}
     },
     "cf2d00fcb37046cca0b8754d884949a8": {
      "model_module": "@jupyter-widgets/controls",
      "model_module_version": "1.5.0",
      "model_name": "IntSliderModel",
      "state": {
       "description": "value",
       "layout": "IPY_MODEL_440acb6e8011430aa874cae6aefacb36",
       "max": 10,
       "min": 1,
       "style": "IPY_MODEL_88f3d087a0de45da8bfd2c33963d9fb3",
       "value": 5
      }
     },
     "cf673dfbe5eb413c96fdeb2659cfc128": {
      "model_module": "@jupyter-widgets/controls",
      "model_module_version": "1.5.0",
      "model_name": "SliderStyleModel",
      "state": {
       "description_width": ""
      }
     },
     "cf70e5ab01a742c8abccfa36d455b40f": {
      "model_module": "@jupyter-widgets/controls",
      "model_module_version": "1.5.0",
      "model_name": "IntSliderModel",
      "state": {
       "description": "value",
       "layout": "IPY_MODEL_4c0cd242021b4387b84906f781be597f",
       "max": 5,
       "min": 1,
       "style": "IPY_MODEL_83eb13eb355a4ed79a83c524a5fe5344",
       "value": 4
      }
     },
     "cf824a36611440baadda6efc8be404cc": {
      "model_module": "@jupyter-widgets/controls",
      "model_module_version": "1.5.0",
      "model_name": "FloatSliderModel",
      "state": {
       "description": "shininess",
       "layout": "IPY_MODEL_1841107c669d487a88dba8bee46180f8",
       "max": 1,
       "step": 0.1,
       "style": "IPY_MODEL_228bc3eabbcd41b0903a627cadc7111d",
       "value": 0.2
      }
     },
     "cfc1ca4715e642c7b9f1d42760c731fd": {
      "model_module": "@jupyter-widgets/base",
      "model_module_version": "1.2.0",
      "model_name": "LayoutModel",
      "state": {}
     },
     "cffb33bebb154befa460f5be28ee06de": {
      "model_module": "@jupyter-widgets/base",
      "model_module_version": "1.2.0",
      "model_name": "LayoutModel",
      "state": {}
     },
     "cffe896bba6b4be9a72a337ec2eeabfd": {
      "model_module": "@jupyter-widgets/base",
      "model_module_version": "1.2.0",
      "model_name": "LayoutModel",
      "state": {}
     },
     "d0007b5c1cf14819b87f34bbcb148b93": {
      "model_module": "@jupyter-widgets/controls",
      "model_module_version": "1.5.0",
      "model_name": "SliderStyleModel",
      "state": {
       "description_width": ""
      }
     },
     "d007a3afb7ef4e6ab1691e067fa2adc5": {
      "model_module": "@jupyter-widgets/base",
      "model_module_version": "1.2.0",
      "model_name": "LayoutModel",
      "state": {}
     },
     "d00d708bc83a43c486f075d9361c9002": {
      "model_module": "@jupyter-widgets/controls",
      "model_module_version": "1.5.0",
      "model_name": "ButtonModel",
      "state": {
       "description": "Delete",
       "layout": "IPY_MODEL_ccf0f2ce22544625b858407af5c61f95",
       "style": "IPY_MODEL_bf215b8633cf4c8e9ddb25f302c62afb"
      }
     },
     "d015b65324534f50aa5675640c1f43ab": {
      "model_module": "@jupyter-widgets/controls",
      "model_module_version": "1.5.0",
      "model_name": "HBoxModel",
      "state": {
       "children": [
        "IPY_MODEL_acb4f93525d14ffabe3e2bba3cae48a6",
        "IPY_MODEL_133803d2a9f74591a327cf95a74cdd6a"
       ],
       "layout": "IPY_MODEL_5a6aab1bb709492da4f69389f9069c24"
      }
     },
     "d01eaf873daa42fc915fce3a3a19ba71": {
      "model_module": "@jupyter-widgets/base",
      "model_module_version": "1.2.0",
      "model_name": "LayoutModel",
      "state": {}
     },
     "d03612b14f984819821e89add2e8abfb": {
      "model_module": "@jupyter-widgets/base",
      "model_module_version": "1.2.0",
      "model_name": "LayoutModel",
      "state": {}
     },
     "d0a6d8e803054098abe932e3805dde62": {
      "model_module": "@jupyter-widgets/base",
      "model_module_version": "1.2.0",
      "model_name": "LayoutModel",
      "state": {}
     },
     "d10a3a68a0474f01aa5b6d5cfdb8ebe8": {
      "model_module": "@jupyter-widgets/controls",
      "model_module_version": "1.5.0",
      "model_name": "FloatSliderModel",
      "state": {
       "description": "transparency",
       "layout": "IPY_MODEL_c47d49a7c60647cb85c5eb15764ce0cf",
       "max": 1,
       "step": 0.1,
       "style": "IPY_MODEL_33df28684ad348f5b03827854e48c752"
      }
     },
     "d10f09db7b844047b372a716b8a9dd49": {
      "model_module": "@jupyter-widgets/controls",
      "model_module_version": "1.5.0",
      "model_name": "SliderStyleModel",
      "state": {
       "description_width": ""
      }
     },
     "d11c5f9a64894e40b64687ac16f2ba0a": {
      "model_module": "@jupyter-widgets/controls",
      "model_module_version": "1.5.0",
      "model_name": "FloatSliderModel",
      "state": {
       "description": "diffuse",
       "layout": "IPY_MODEL_b5307711b6f34b428ecdd5e474394193",
       "max": 3,
       "step": 0.1,
       "style": "IPY_MODEL_66319b5fedf94e328a2169cc85e30ee7",
       "value": 1
      }
     },
     "d152ff0131e44467aa1643fe2974e1b9": {
      "model_module": "@jupyter-widgets/controls",
      "model_module_version": "1.5.0",
      "model_name": "DescriptionStyleModel",
      "state": {
       "description_width": ""
      }
     },
     "d17ee3bf95d444e6a5dc0e77911f5b59": {
      "model_module": "@jupyter-widgets/controls",
      "model_module_version": "1.5.0",
      "model_name": "ColorPickerModel",
      "state": {
       "description": "specular",
       "disabled": false,
       "layout": "IPY_MODEL_0af1bb03cbd844ea9bfc0d9b864d0f8d",
       "style": "IPY_MODEL_64f0f3be71ea49f6b0bf5f7a3382814b",
       "value": "#282828"
      }
     },
     "d18e48c309db4852aa5cdc3da1012b6e": {
      "model_module": "@jupyter-widgets/base",
      "model_module_version": "1.2.0",
      "model_name": "LayoutModel",
      "state": {}
     },
     "d1e4b02c15bb44948c22e7d933636530": {
      "model_module": "@jupyter-widgets/controls",
      "model_module_version": "1.5.0",
      "model_name": "TextModel",
      "state": {
       "layout": "IPY_MODEL_82ee84b51f34452cb28a4d5fbd6a6bec",
       "placeholder": "category name",
       "style": "IPY_MODEL_b70440f46d284109b251b83b4efe6e79"
      }
     },
     "d1f553a8e0e14ca8939fd7facfe7bdd0": {
      "model_module": "@jupyter-widgets/controls",
      "model_module_version": "1.5.0",
      "model_name": "BoundedIntTextModel",
      "state": {
       "description": "index",
       "layout": "IPY_MODEL_65bee35e74e7441d98cbdeb5de6d8221",
       "style": "IPY_MODEL_113da8bbf28f4da4a88ba0f9cabd4ebb",
       "value": 2
      }
     },
     "d24455fb0aa04c15978bcf82f484ec0d": {
      "model_module": "@jupyter-widgets/controls",
      "model_module_version": "1.5.0",
      "model_name": "FloatSliderModel",
      "state": {
       "description": "shininess",
       "layout": "IPY_MODEL_89e834b8c10e40a390db5fd0665c3d45",
       "max": 1,
       "step": 0.1,
       "style": "IPY_MODEL_b0e8fa40069c4769bfca38d467a34243",
       "value": 0.2
      }
     },
     "d24ed236d364492488ac20992dc448f3": {
      "model_module": "@jupyter-widgets/controls",
      "model_module_version": "1.5.0",
      "model_name": "SliderStyleModel",
      "state": {
       "description_width": ""
      }
     },
     "d2ae08c8938f40e28ea77f61a5b50c80": {
      "model_module": "@jupyter-widgets/controls",
      "model_module_version": "1.5.0",
      "model_name": "ButtonStyleModel",
      "state": {}
     },
     "d2f53457da264365a8ca7a5c85a6b381": {
      "model_module": "@jupyter-widgets/controls",
      "model_module_version": "1.5.0",
      "model_name": "ColorPickerModel",
      "state": {
       "description": "emission",
       "disabled": false,
       "layout": "IPY_MODEL_d7b73a835c6a400fa37fb014990bed66",
       "style": "IPY_MODEL_f0677d8a64674b559e7f258cf8fa5541",
       "value": "#000000"
      }
     },
     "d30ebfc6c53341ae9babc1bd412860bb": {
      "model_module": "@jupyter-widgets/controls",
      "model_module_version": "1.5.0",
      "model_name": "DescriptionStyleModel",
      "state": {
       "description_width": ""
      }
     },
     "d3229b2421464e3e8771d1719478cafd": {
      "model_module": "@jupyter-widgets/controls",
      "model_module_version": "1.5.0",
      "model_name": "DropdownModel",
      "state": {
       "_options_labels": [
        "Integer",
        "Float",
        "Bool"
       ],
       "index": 0,
       "layout": "IPY_MODEL_6498ae65f15544e3aa9711e23376ad90",
       "style": "IPY_MODEL_5a27138e81a3410884a9215f1d6fa8d6"
      }
     },
     "d323d6b67e114f9199d968a403d35954": {
      "model_module": "@jupyter-widgets/base",
      "model_module_version": "1.2.0",
      "model_name": "LayoutModel",
      "state": {}
     },
     "d3295221ce1f424ebee2f857573f74f6": {
      "model_module": "@jupyter-widgets/controls",
      "model_module_version": "1.5.0",
      "model_name": "DropdownModel",
      "state": {
       "_options_labels": [
        "NurbsCurve2D",
        "BezierCurve2D",
        "Polyline2D",
        "Function"
       ],
       "index": 0,
       "layout": "IPY_MODEL_0b0218a48fab482ca3ef910ddb9948e7",
       "style": "IPY_MODEL_0b86b005791f45fb93ef1e515e62e1e2"
      }
     },
     "d32aaba5fabf43e1a51a446cc716f021": {
      "model_module": "@jupyter-widgets/controls",
      "model_module_version": "1.5.0",
      "model_name": "ButtonStyleModel",
      "state": {}
     },
     "d3311825194e40848ec86c6df05ec71f": {
      "model_module": "@jupyter-widgets/base",
      "model_module_version": "1.2.0",
      "model_name": "LayoutModel",
      "state": {
       "margin": "20px 0px"
      }
     },
     "d35e87005bca48c5862abf4e837a1469": {
      "model_module": "@jupyter-widgets/base",
      "model_module_version": "1.2.0",
      "model_name": "LayoutModel",
      "state": {}
     },
     "d36a68cedc804dc0b13148f20e8408ad": {
      "model_module": "@jupyter-widgets/base",
      "model_module_version": "1.2.0",
      "model_name": "LayoutModel",
      "state": {}
     },
     "d3b85fda8a3a4608a7bd96283095fedd": {
      "model_module": "@jupyter-widgets/base",
      "model_module_version": "1.2.0",
      "model_name": "LayoutModel",
      "state": {}
     },
     "d3ca847489164ca4957ed12a3dbe22f6": {
      "model_module": "@jupyter-widgets/base",
      "model_module_version": "1.2.0",
      "model_name": "LayoutModel",
      "state": {}
     },
     "d3d0321f778b46a983a5df14ef76dfa1": {
      "model_module": "@jupyter-widgets/controls",
      "model_module_version": "1.5.0",
      "model_name": "IntSliderModel",
      "state": {
       "description": "value",
       "layout": "IPY_MODEL_a88837dec5b742f6a10d5977330bd661",
       "max": 5,
       "min": 1,
       "style": "IPY_MODEL_bd75e9ca86e44f438e2c480a32fa8470",
       "value": 4
      }
     },
     "d40cd5784b9640ce86140f6d8eb19ad7": {
      "model_module": "@jupyter-widgets/controls",
      "model_module_version": "1.5.0",
      "model_name": "DescriptionStyleModel",
      "state": {
       "description_width": ""
      }
     },
     "d424753ad3c64d0f984ef5b30358ea64": {
      "model_module": "@jupyter-widgets/controls",
      "model_module_version": "1.5.0",
      "model_name": "TabModel",
      "state": {
       "layout": "IPY_MODEL_8f76a051af3b4aafaab23bc142f7301f"
      }
     },
     "d42dda3cd9cf477195bbad7f92515edb": {
      "model_module": "@jupyter-widgets/controls",
      "model_module_version": "1.5.0",
      "model_name": "ButtonStyleModel",
      "state": {}
     },
     "d436543783c8447f81f559995965920f": {
      "model_module": "@jupyter-widgets/base",
      "model_module_version": "1.2.0",
      "model_name": "LayoutModel",
      "state": {}
     },
     "d4426702c7c94b0aac24491668d12154": {
      "model_module": "@jupyter-widgets/base",
      "model_module_version": "1.2.0",
      "model_name": "LayoutModel",
      "state": {}
     },
     "d472e1655a9444f0b18024002a8daeb0": {
      "model_module": "@jupyter-widgets/base",
      "model_module_version": "1.2.0",
      "model_name": "LayoutModel",
      "state": {
       "margin": "20px 0px"
      }
     },
     "d4db273c64d04656a9b57533239e7872": {
      "model_module": "@jupyter-widgets/controls",
      "model_module_version": "1.5.0",
      "model_name": "TextModel",
      "state": {
       "continuous_update": false,
       "description": "name",
       "layout": "IPY_MODEL_5c2170886bb84b0fb0345314e6a3925d",
       "style": "IPY_MODEL_9824adc57ba049e4afcc27d45ea5872d",
       "value": "color_1"
      }
     },
     "d4ef39502216401ca3c2e7381d844b04": {
      "model_module": "@jupyter-widgets/base",
      "model_module_version": "1.2.0",
      "model_name": "LayoutModel",
      "state": {}
     },
     "d4fcee8507e649a6822506b7eaf235b2": {
      "model_module": "@jupyter-widgets/base",
      "model_module_version": "1.2.0",
      "model_name": "LayoutModel",
      "state": {}
     },
     "d522f154218a4d53baef2b0682693996": {
      "model_module": "@jupyter-widgets/base",
      "model_module_version": "1.2.0",
      "model_name": "LayoutModel",
      "state": {}
     },
     "d52fb0d8ec634c9e8f5209c9cbd03a9e": {
      "model_module": "@jupyter-widgets/base",
      "model_module_version": "1.2.0",
      "model_name": "LayoutModel",
      "state": {}
     },
     "d52fd3cce3b24ccfb6f4046c55f71e0a": {
      "model_module": "@jupyter-widgets/controls",
      "model_module_version": "1.5.0",
      "model_name": "ColorPickerModel",
      "state": {
       "description": "emission",
       "disabled": false,
       "layout": "IPY_MODEL_a52d14ce28c94f17afce4575f5ea57dd",
       "style": "IPY_MODEL_ed774bc03b0a4afcae5f17c89042e491",
       "value": "#000000"
      }
     },
     "d533d0f7e8d44a358083da646ae1b1c9": {
      "model_module": "@jupyter-widgets/controls",
      "model_module_version": "1.5.0",
      "model_name": "TextModel",
      "state": {
       "continuous_update": false,
       "description": "name",
       "layout": "IPY_MODEL_a19a36aed4ac40049951a2984ceedf3b",
       "style": "IPY_MODEL_83cf2697568b4f3fa8e2fa044d788093",
       "value": "radinc"
      }
     },
     "d5451f4d3ae8401ab534c5136e99f785": {
      "model_module": "@jupyter-widgets/controls",
      "model_module_version": "1.5.0",
      "model_name": "DropdownModel",
      "state": {
       "_options_labels": [
        "maxorder",
        "radinc",
        "nb_axes"
       ],
       "index": 0,
       "layout": "IPY_MODEL_024c0a7ea2924ff5a9d4b4e8dd33f20f",
       "style": "IPY_MODEL_0d2e16e55e4f4049983e0cbb83eb2316"
      }
     },
     "d56364ff1cc441588f37f856b104fb7f": {
      "model_module": "@jupyter-widgets/base",
      "model_module_version": "1.2.0",
      "model_name": "LayoutModel",
      "state": {}
     },
     "d563b21fb0e44bff9f75ce1b0e25866e": {
      "model_module": "@jupyter-widgets/controls",
      "model_module_version": "1.5.0",
      "model_name": "ButtonStyleModel",
      "state": {}
     },
     "d57615a69c10480d8db062fc5e36385d": {
      "model_module": "@jupyter-widgets/controls",
      "model_module_version": "1.5.0",
      "model_name": "DescriptionStyleModel",
      "state": {
       "description_width": ""
      }
     },
     "d57e2be537e04b77bd713ec999a5c5a4": {
      "model_module": "@jupyter-widgets/controls",
      "model_module_version": "1.5.0",
      "model_name": "SliderStyleModel",
      "state": {
       "description_width": ""
      }
     },
     "d5962bdf3e204a32a0c5f001c01c8af8": {
      "model_module": "@jupyter-widgets/controls",
      "model_module_version": "1.5.0",
      "model_name": "DescriptionStyleModel",
      "state": {
       "description_width": ""
      }
     },
     "d59eedfe91e040bd83b09d32a1718f4b": {
      "model_module": "@jupyter-widgets/controls",
      "model_module_version": "1.5.0",
      "model_name": "SliderStyleModel",
      "state": {
       "description_width": ""
      }
     },
     "d5bad5e9916e489c92ca26665824ec2d": {
      "model_module": "@jupyter-widgets/controls",
      "model_module_version": "1.5.0",
      "model_name": "SliderStyleModel",
      "state": {
       "description_width": ""
      }
     },
     "d5cd15e37f944ccfa4bf1cdd3348f4c7": {
      "model_module": "@jupyter-widgets/controls",
      "model_module_version": "1.5.0",
      "model_name": "SliderStyleModel",
      "state": {
       "description_width": ""
      }
     },
     "d5cd4fb599cb46fc948cd99e2e1b54e4": {
      "model_module": "@jupyter-widgets/base",
      "model_module_version": "1.2.0",
      "model_name": "LayoutModel",
      "state": {}
     },
     "d64b99f37a81429489c488b69a00175d": {
      "model_module": "@jupyter-widgets/controls",
      "model_module_version": "1.5.0",
      "model_name": "FloatSliderModel",
      "state": {
       "description": "transparency",
       "layout": "IPY_MODEL_51298c491bb74c49aa13975c0b81b43a",
       "max": 1,
       "step": 0.1,
       "style": "IPY_MODEL_d24ed236d364492488ac20992dc448f3"
      }
     },
     "d6e29de606464a1eada931b449337734": {
      "model_module": "@jupyter-widgets/controls",
      "model_module_version": "1.5.0",
      "model_name": "DescriptionStyleModel",
      "state": {
       "description_width": ""
      }
     },
     "d734a536300949189433eec18ebe49d5": {
      "model_module": "@jupyter-widgets/controls",
      "model_module_version": "1.5.0",
      "model_name": "IntSliderModel",
      "state": {
       "description": "value",
       "layout": "IPY_MODEL_973da0ef21a546739fbc9361cd34bfe5",
       "max": 10,
       "min": 1,
       "style": "IPY_MODEL_d5bad5e9916e489c92ca26665824ec2d",
       "value": 2
      }
     },
     "d77925c6797142988e94711a23d04d7b": {
      "model_module": "@jupyter-widgets/base",
      "model_module_version": "1.2.0",
      "model_name": "LayoutModel",
      "state": {}
     },
     "d77d077081bb4eb8baa6f71acfaca80d": {
      "model_module": "@jupyter-widgets/controls",
      "model_module_version": "1.5.0",
      "model_name": "HBoxModel",
      "state": {
       "children": [
        "IPY_MODEL_ec25e9001eaf45e69cf86327398a4adc",
        "IPY_MODEL_1a768dffa91045cdbec62fd051859942"
       ],
       "layout": "IPY_MODEL_f7ff34c66d4b431c8d7a458913ac23de"
      }
     },
     "d79e5da1ec2d4eff8b5b67ab8d2838d8": {
      "model_module": "pgljupyter",
      "model_module_version": "^0.1.17",
      "model_name": "IntEditorModel",
      "state": {
       "_model_module_version": "^0.1.17",
       "_view_module_version": "^0.1.17",
       "children": [
        "IPY_MODEL_b026cfdea7f24109b3207938d8293f82",
        "IPY_MODEL_fa78c56a5cee470db3de6e4fe2ec4481"
       ],
       "layout": "IPY_MODEL_1aeee9874bc84466bbeb7bfb15647305"
      }
     },
     "d7b73a835c6a400fa37fb014990bed66": {
      "model_module": "@jupyter-widgets/base",
      "model_module_version": "1.2.0",
      "model_name": "LayoutModel",
      "state": {}
     },
     "d7e2fe307b4148cfac6f5e85faa87f8d": {
      "model_module": "pgljupyter",
      "model_module_version": "^0.1.18",
      "model_name": "MaterialEditorModel",
      "state": {
       "_model_module_version": "^0.1.18",
       "_view_module_version": "^0.1.18",
       "children": [
        "IPY_MODEL_399fc3d82a3b4cb6984cdc1806f6c118",
        "IPY_MODEL_203079255d89445eaa5a11bb556a37d5",
        "IPY_MODEL_058c249a39c04bedbadbabfd56c8cbca",
        "IPY_MODEL_a6b2268c582b4593aeb1fd6140283cda",
        "IPY_MODEL_fcc4f1c9cd4740db81b92272d44020c6",
        "IPY_MODEL_5d665054e5a24fcc86e9f3d114ca7382",
        "IPY_MODEL_455ba0e06d5247ffb20550cc7189a0a9",
        "IPY_MODEL_e64b8d9963944b6982872e56c1d1076b"
       ],
       "layout": "IPY_MODEL_fe21590a178c49c09a36c5fb9b0fb406"
      }
     },
     "d826944e71484a12ba8264f9980eaa85": {
      "model_module": "@jupyter-widgets/controls",
      "model_module_version": "1.5.0",
      "model_name": "DescriptionStyleModel",
      "state": {
       "description_width": ""
      }
     },
     "d8984fabe4b64cf5badca23730a3e99f": {
      "model_module": "@jupyter-widgets/controls",
      "model_module_version": "1.5.0",
      "model_name": "TextModel",
      "state": {
       "continuous_update": false,
       "description": "name",
       "layout": "IPY_MODEL_e292b053762d44a8b5698ced23674c83",
       "style": "IPY_MODEL_5c8ee91aecec463e82900f71a4a9e81d",
       "value": "trunk"
      }
     },
     "d8b7d3f852be4323a7cb38d583268863": {
      "model_module": "@jupyter-widgets/base",
      "model_module_version": "1.2.0",
      "model_name": "LayoutModel",
      "state": {}
     },
     "d8d73c6794a64b41a4b085d7b2422110": {
      "model_module": "@jupyter-widgets/base",
      "model_module_version": "1.2.0",
      "model_name": "LayoutModel",
      "state": {}
     },
     "d8dd6096e07649cb8ceb51b260ceb49f": {
      "model_module": "@jupyter-widgets/controls",
      "model_module_version": "1.5.0",
      "model_name": "DescriptionStyleModel",
      "state": {
       "description_width": ""
      }
     },
     "d91926552cc04101b20b93a25091f15a": {
      "model_module": "@jupyter-widgets/controls",
      "model_module_version": "1.5.0",
      "model_name": "TextModel",
      "state": {
       "continuous_update": false,
       "description": "name",
       "layout": "IPY_MODEL_255de9b06ec0472aaa589e58b2badd2d",
       "style": "IPY_MODEL_a01d9dc1f8e34f3296fd8d2ea826ec8c",
       "value": "radinc"
      }
     },
     "d93f65b8733e49b29dc3b7e7a44ec509": {
      "model_module": "@jupyter-widgets/controls",
      "model_module_version": "1.5.0",
      "model_name": "SliderStyleModel",
      "state": {
       "description_width": ""
      }
     },
     "d94927052fb046c4b476563ba1404936": {
      "model_module": "@jupyter-widgets/controls",
      "model_module_version": "1.5.0",
      "model_name": "ButtonModel",
      "state": {
       "description": "Delete",
       "layout": "IPY_MODEL_2e291dc0a02b4b878cc21b93ac478bfd",
       "style": "IPY_MODEL_18abd2b200874f98af3b0f2c86c1a019"
      }
     },
     "d96933ee81db49b7a9317685439d454c": {
      "model_module": "@jupyter-widgets/controls",
      "model_module_version": "1.5.0",
      "model_name": "DescriptionStyleModel",
      "state": {
       "description_width": ""
      }
     },
     "d96944e0d08c4a04aa0b00a6367b12c9": {
      "model_module": "@jupyter-widgets/base",
      "model_module_version": "1.2.0",
      "model_name": "LayoutModel",
      "state": {}
     },
     "d978d64c481643da8a0c61fcd3e368e3": {
      "model_module": "@jupyter-widgets/base",
      "model_module_version": "1.2.0",
      "model_name": "LayoutModel",
      "state": {}
     },
     "d98400c8547342cb8a67ecbb1f113126": {
      "model_module": "@jupyter-widgets/controls",
      "model_module_version": "1.5.0",
      "model_name": "DescriptionStyleModel",
      "state": {
       "description_width": ""
      }
     },
     "d9b886e295724cc9a420de8dcc17e338": {
      "model_module": "@jupyter-widgets/controls",
      "model_module_version": "1.5.0",
      "model_name": "ButtonModel",
      "state": {
       "description": "Add",
       "layout": "IPY_MODEL_3eaf0cde17004332ab35b0f57fc0d75b",
       "style": "IPY_MODEL_09d6bc5c5f48421884c5070738ff6283"
      }
     },
     "d9ccb67aeb914dbebc9157bdfb5dc23d": {
      "model_module": "@jupyter-widgets/base",
      "model_module_version": "1.2.0",
      "model_name": "LayoutModel",
      "state": {}
     },
     "d9d4c404d76e436f8e9995638352fdaa": {
      "model_module": "@jupyter-widgets/controls",
      "model_module_version": "1.5.0",
      "model_name": "ButtonStyleModel",
      "state": {}
     },
     "d9fb92da354f41de80d8aed312a46ccd": {
      "model_module": "@jupyter-widgets/controls",
      "model_module_version": "1.5.0",
      "model_name": "ButtonStyleModel",
      "state": {}
     },
     "d9fed144986740a4aebc4a2d4217ab60": {
      "model_module": "@jupyter-widgets/controls",
      "model_module_version": "1.5.0",
      "model_name": "DescriptionStyleModel",
      "state": {
       "description_width": ""
      }
     },
     "da13191a83f844c595b3cff32e04df31": {
      "model_module": "@jupyter-widgets/controls",
      "model_module_version": "1.5.0",
      "model_name": "ButtonModel",
      "state": {
       "description": "Add",
       "layout": "IPY_MODEL_5b833389726149e891e43233e262af30",
       "style": "IPY_MODEL_11d8025c13d9418dab33da381333379c"
      }
     },
     "da90b6b6b6334b2d8566268731ae92f4": {
      "model_module": "@jupyter-widgets/controls",
      "model_module_version": "1.5.0",
      "model_name": "DropdownModel",
      "state": {
       "_options_labels": [
        "leafduration",
        "leafold",
        "maxorder",
        "radinc",
        "nb_axes"
       ],
       "index": 0,
       "layout": "IPY_MODEL_ae707f5167d74fc69acaaf741eb5e5de",
       "style": "IPY_MODEL_d826944e71484a12ba8264f9980eaa85"
      }
     },
     "da94d7f0e6e045988d94aba69d5be576": {
      "model_module": "@jupyter-widgets/controls",
      "model_module_version": "1.5.0",
      "model_name": "TextModel",
      "state": {
       "continuous_update": false,
       "description": "name",
       "layout": "IPY_MODEL_36cefaebd481433a986da12e8f4ca923",
       "style": "IPY_MODEL_4700fadcbf6740eeacfb5f4d5442bcc5",
       "value": "radinc"
      }
     },
     "dab8e9c05b4743e0910867303374e23e": {
      "model_module": "pgljupyter",
      "model_module_version": "^0.1.16",
      "model_name": "MaterialEditorModel",
      "state": {
       "_model_module_version": "^0.1.16",
       "_view_module_version": "^0.1.16",
       "children": [
        "IPY_MODEL_677b6979d18a4369b43c7d2c7055d352",
        "IPY_MODEL_1f8ab0fca1c04c59ba41957779688c40",
        "IPY_MODEL_9db215c1ff3242bab8eb9533ae4c1142",
        "IPY_MODEL_7820f3eb666143e08c9689ceabf9f92e",
        "IPY_MODEL_2cbe2b9f20a14b2c9ff7c42cc96e34c6",
        "IPY_MODEL_00d6b976c7584356bc8ace10cc276390",
        "IPY_MODEL_5d1acbde1263434ca0516af8b1e818ec",
        "IPY_MODEL_c16429a9bfff45a981471a788dca62c2"
       ],
       "layout": "IPY_MODEL_9b3e11ebb803450b986ba009cd7271d1"
      }
     },
     "dad1575e212b4ec78e51228ec3ee5775": {
      "model_module": "@jupyter-widgets/controls",
      "model_module_version": "1.5.0",
      "model_name": "BoundedIntTextModel",
      "state": {
       "description": "index",
       "layout": "IPY_MODEL_ceffb090a5a74d579c94f7381b9a47f0",
       "style": "IPY_MODEL_6cc1f038278244dfa83d00a7f7e12088",
       "value": 3
      }
     },
     "dae8d0d2b5a24ba3a4caef5ae026ea60": {
      "model_module": "@jupyter-widgets/base",
      "model_module_version": "1.2.0",
      "model_name": "LayoutModel",
      "state": {}
     },
     "daf71e2b2a7543cb8dcc73b7d06ecdcf": {
      "model_module": "@jupyter-widgets/controls",
      "model_module_version": "1.5.0",
      "model_name": "TextModel",
      "state": {
       "continuous_update": false,
       "description": "name",
       "layout": "IPY_MODEL_7b34d047a75145ef93c9d2ba934f66f1",
       "style": "IPY_MODEL_61604db4d90b46a3a0031ae5119c1516",
       "value": "leafduration"
      }
     },
     "db23eda7382441b68d87f582fc44c2e1": {
      "model_module": "@jupyter-widgets/controls",
      "model_module_version": "1.5.0",
      "model_name": "TextModel",
      "state": {
       "continuous_update": false,
       "description": "name",
       "layout": "IPY_MODEL_3eb5de6cfa8c4221935e7232c267b322",
       "style": "IPY_MODEL_7be0e86f808844688593b2ba1a25b20d",
       "value": "leaf_new"
      }
     },
     "db5323087b2145deaac82eae65704511": {
      "model_module": "pgljupyter",
      "model_module_version": "^0.1.18",
      "model_name": "LsystemWidgetModel",
      "state": {
       "_model_module_version": "^0.1.18",
       "_view_module_version": "^0.1.18",
       "axes_helper": false,
       "derivationLength": 42,
       "layout": "IPY_MODEL_37a93703112240f1b4ba6fd167b2abd8",
       "light_helper": false,
       "plane": true,
       "size_display": [
        400,
        400
       ],
       "size_world": 50
      }
     },
     "db5f6dc768de4f52af107562f58156fb": {
      "model_module": "@jupyter-widgets/controls",
      "model_module_version": "1.5.0",
      "model_name": "ButtonModel",
      "state": {
       "description": "Add",
       "layout": "IPY_MODEL_207d2c2ed4094de6aa559901cd22e572",
       "style": "IPY_MODEL_2d9fad0b565a4646b1f726689ed625fc"
      }
     },
     "db9ed437c56e4afcaea7ce8551e64a91": {
      "model_module": "@jupyter-widgets/controls",
      "model_module_version": "1.5.0",
      "model_name": "TextModel",
      "state": {
       "continuous_update": false,
       "description": "name",
       "layout": "IPY_MODEL_65dc7f4bbf724d46a564ee783e7d55ea",
       "style": "IPY_MODEL_12b07df7fcbf4176ac7229ec42a4a560",
       "value": "maxorder"
      }
     },
     "dbf29d67c32f4897a7101f3492b6f2df": {
      "model_module": "@jupyter-widgets/controls",
      "model_module_version": "1.5.0",
      "model_name": "SliderStyleModel",
      "state": {
       "description_width": ""
      }
     },
     "dc1fc436f2d640ee97620d714ae2e02e": {
      "model_module": "@jupyter-widgets/controls",
      "model_module_version": "1.5.0",
      "model_name": "SliderStyleModel",
      "state": {
       "description_width": ""
      }
     },
     "dc53693171ca4e6f859008d9f7934f2e": {
      "model_module": "@jupyter-widgets/controls",
      "model_module_version": "1.5.0",
      "model_name": "SliderStyleModel",
      "state": {
       "description_width": ""
      }
     },
     "dc6fe4ae93724ee697ccb6414fa8bd2b": {
      "model_module": "@jupyter-widgets/base",
      "model_module_version": "1.2.0",
      "model_name": "LayoutModel",
      "state": {}
     },
     "dc891aa6241b421da0cabf4ab08e3d0e": {
      "model_module": "@jupyter-widgets/controls",
      "model_module_version": "1.5.0",
      "model_name": "TabModel",
      "state": {
       "_titles": {
        "0": "leuwenberg.json"
       },
       "children": [
        "IPY_MODEL_405490f3003747ea84770f0ca8eba3fa"
       ],
       "layout": "IPY_MODEL_d36a68cedc804dc0b13148f20e8408ad"
      }
     },
     "dc9722bd3a6e4f1e855fb518b2065abe": {
      "model_module": "@jupyter-widgets/controls",
      "model_module_version": "1.5.0",
      "model_name": "SliderStyleModel",
      "state": {
       "description_width": ""
      }
     },
     "dc9e29879357411bbba01c813ba6f9f4": {
      "model_module": "@jupyter-widgets/base",
      "model_module_version": "1.2.0",
      "model_name": "LayoutModel",
      "state": {}
     },
     "dcc995adc6dd4fe097aab757670954b6": {
      "model_module": "@jupyter-widgets/controls",
      "model_module_version": "1.5.0",
      "model_name": "SliderStyleModel",
      "state": {
       "description_width": ""
      }
     },
     "dd0076f5130e4b019ecac08f8ecf14e6": {
      "model_module": "@jupyter-widgets/base",
      "model_module_version": "1.2.0",
      "model_name": "LayoutModel",
      "state": {}
     },
     "dd0ff9c59cde46bcb7cc5f4ac4df69e9": {
      "model_module": "@jupyter-widgets/controls",
      "model_module_version": "1.5.0",
      "model_name": "HBoxModel",
      "state": {
       "children": [
        "IPY_MODEL_eeda36683653443fb2968b0128f1e43c",
        "IPY_MODEL_1447d28562564ca58b3037339e1fd56a",
        "IPY_MODEL_378af3a8594449d3a050f6c1b0b0503f",
        "IPY_MODEL_f99d51312e7442a1b3f60bf6fe6b16a1"
       ],
       "layout": "IPY_MODEL_5ffcfabea4324e77ba7847c89942d8f5"
      }
     },
     "dd2cc788345348a793f5a93c9e888de3": {
      "model_module": "@jupyter-widgets/base",
      "model_module_version": "1.2.0",
      "model_name": "LayoutModel",
      "state": {}
     },
     "dd63929993a7401ab626cf49aa8e47ec": {
      "model_module": "@jupyter-widgets/controls",
      "model_module_version": "1.5.0",
      "model_name": "HBoxModel",
      "state": {
       "children": [
        "IPY_MODEL_36206315b4434144abd918600eba897c",
        "IPY_MODEL_f4bdb1ac62ae4f1ba65cb9bfe80e8b50",
        "IPY_MODEL_04fd9850624b45509d3404170dfb2b93"
       ],
       "layout": "IPY_MODEL_77fc433d7ea240f0b05864afbc6f627a"
      }
     },
     "dd665a625d6d4bd4adf8224a8f2126ec": {
      "model_module": "@jupyter-widgets/base",
      "model_module_version": "1.2.0",
      "model_name": "LayoutModel",
      "state": {}
     },
     "dd91341438fb460cb5355fac879a754e": {
      "model_module": "@jupyter-widgets/controls",
      "model_module_version": "1.5.0",
      "model_name": "ButtonStyleModel",
      "state": {}
     },
     "ddc34eb399b046ce9c7bbcc7bcce04e5": {
      "model_module": "pgljupyter",
      "model_module_version": "^0.1.17",
      "model_name": "IntEditorModel",
      "state": {
       "_model_module_version": "^0.1.17",
       "_view_module_version": "^0.1.17",
       "children": [
        "IPY_MODEL_daf71e2b2a7543cb8dcc73b7d06ecdcf",
        "IPY_MODEL_8e59f23a67514549b0b971a20c8f5644"
       ],
       "layout": "IPY_MODEL_8ab5ba176a154599b445e9556a8031de"
      }
     },
     "dde1071f08f442b987043d10dc31e5dd": {
      "model_module": "@jupyter-widgets/controls",
      "model_module_version": "1.5.0",
      "model_name": "DescriptionStyleModel",
      "state": {
       "description_width": ""
      }
     },
     "de0166a69e364f30890e136c6a843c04": {
      "model_module": "@jupyter-widgets/base",
      "model_module_version": "1.2.0",
      "model_name": "LayoutModel",
      "state": {}
     },
     "de17ce4b402f484dad854027cadfb9d2": {
      "model_module": "pgljupyter",
      "model_module_version": "^0.1.19",
      "model_name": "MaterialEditorModel",
      "state": {
       "_model_module_version": "^0.1.19",
       "_view_module_version": "^0.1.19",
       "children": [
        "IPY_MODEL_db23eda7382441b68d87f582fc44c2e1",
        "IPY_MODEL_e7f5ee21dad84e169e218eb28ecfd188",
        "IPY_MODEL_b3b4369a077e494799fb62f23eb0eb47",
        "IPY_MODEL_8ea211ca5b9b4eeba00a371c1b423cca",
        "IPY_MODEL_30d04e67afa2429b8229a2e9aae7d544",
        "IPY_MODEL_0bfc733f831346d3bfd46bb08e6ed994",
        "IPY_MODEL_bbc20920f34a4a74ae6269cb6b203707",
        "IPY_MODEL_af05852e0c454d1081c694c61e2c259d"
       ],
       "layout": "IPY_MODEL_3a06d16c9b3e4435a1ad65bd71604d2e"
      }
     },
     "de26906445994c7e8243365b107e8044": {
      "model_module": "@jupyter-widgets/controls",
      "model_module_version": "1.5.0",
      "model_name": "ColorPickerModel",
      "state": {
       "description": "ambient",
       "disabled": false,
       "layout": "IPY_MODEL_86bbd8bd12314be19909ccb111382a66",
       "style": "IPY_MODEL_5ef60586f6624e7a921466efb2d8a645",
       "value": "#5b4534"
      }
     },
     "de29d9fc92c645568318b3cac8e85baf": {
      "model_module": "@jupyter-widgets/controls",
      "model_module_version": "1.5.0",
      "model_name": "ButtonModel",
      "state": {
       "description": "Delete",
       "layout": "IPY_MODEL_fdc7cdfb71c14e9f9ae8327b7e4919ce",
       "style": "IPY_MODEL_0adb42962e0d46d8a508e6187f7b3e19"
      }
     },
     "de319ccb71084e70b9dbfd5cfb7f274a": {
      "model_module": "@jupyter-widgets/controls",
      "model_module_version": "1.5.0",
      "model_name": "TextModel",
      "state": {
       "continuous_update": false,
       "description": "name",
       "layout": "IPY_MODEL_9b30eab18de94dffbe1a6d676db8158c",
       "style": "IPY_MODEL_27341d701b39454692c62d6ea10319c8",
       "value": "leaf_old"
      }
     },
     "de4816681729453fbf133b79ff9974ac": {
      "model_module": "@jupyter-widgets/controls",
      "model_module_version": "1.5.0",
      "model_name": "BoundedIntTextModel",
      "state": {
       "description": "index",
       "layout": "IPY_MODEL_e46e9699d55948368197d7e8ce85a0a3",
       "style": "IPY_MODEL_60ff2d33083e41a7a9c77037399cc0c7",
       "value": 1
      }
     },
     "de5d2848f27a47be8ceb96df0723fd13": {
      "model_module": "@jupyter-widgets/controls",
      "model_module_version": "1.5.0",
      "model_name": "FloatSliderModel",
      "state": {
       "description": "shininess",
       "layout": "IPY_MODEL_077634b564d442178969045cbf0cef71",
       "max": 1,
       "step": 0.1,
       "style": "IPY_MODEL_662e56ddae0f4169b110443342d419e9",
       "value": 0.2
      }
     },
     "dea1d7f7b1f545688d4cb2183ee25745": {
      "model_module": "@jupyter-widgets/base",
      "model_module_version": "1.2.0",
      "model_name": "LayoutModel",
      "state": {}
     },
     "deee13f28dc04426826d2dcb4eb4b80e": {
      "model_module": "pgljupyter",
      "model_module_version": "^0.1.17",
      "model_name": "IntEditorModel",
      "state": {
       "_model_module_version": "^0.1.17",
       "_view_module_version": "^0.1.17",
       "children": [
        "IPY_MODEL_6836f870173f481c896bba938c011cdd",
        "IPY_MODEL_cf2d00fcb37046cca0b8754d884949a8"
       ],
       "layout": "IPY_MODEL_6213afc08dc747abb3101b3b00eff81e"
      }
     },
     "df4b301f82c143b6ba68f23b7ee4a4e7": {
      "model_module": "@jupyter-widgets/base",
      "model_module_version": "1.2.0",
      "model_name": "LayoutModel",
      "state": {}
     },
     "df696dde9f0e41c2be1075f4577638d5": {
      "model_module": "@jupyter-widgets/base",
      "model_module_version": "1.2.0",
      "model_name": "LayoutModel",
      "state": {}
     },
     "df83175491804b5cb47348424a380b78": {
      "model_module": "@jupyter-widgets/base",
      "model_module_version": "1.2.0",
      "model_name": "LayoutModel",
      "state": {}
     },
     "df94b893e16e4d64bc1d78383241b66f": {
      "model_module": "@jupyter-widgets/base",
      "model_module_version": "1.2.0",
      "model_name": "LayoutModel",
      "state": {}
     },
     "dfbf3f0450ae43368952951aba7baba3": {
      "model_module": "@jupyter-widgets/controls",
      "model_module_version": "1.5.0",
      "model_name": "DescriptionStyleModel",
      "state": {
       "description_width": ""
      }
     },
     "dfccc42a1e8f4f4abdf4c85dd83fbdf3": {
      "model_module": "@jupyter-widgets/controls",
      "model_module_version": "1.5.0",
      "model_name": "ButtonStyleModel",
      "state": {}
     },
     "dfd5a1256a954e379bc5aff58a8db58a": {
      "model_module": "pgljupyter",
      "model_module_version": "^0.1.16",
      "model_name": "ParameterEditorModel",
      "state": {
       "_model_module_version": "^0.1.16",
       "_view_module_version": "^0.1.16",
       "children": [
        "IPY_MODEL_50c897762f9846d38e9f8e2de2d19de2"
       ],
       "layout": "IPY_MODEL_d3ca847489164ca4957ed12a3dbe22f6"
      }
     },
     "dfe63aa9d45245879bd179fdae112be6": {
      "model_module": "@jupyter-widgets/base",
      "model_module_version": "1.2.0",
      "model_name": "LayoutModel",
      "state": {}
     },
     "e01ac84da5b94b36859436d3ee12a19e": {
      "model_module": "@jupyter-widgets/base",
      "model_module_version": "1.2.0",
      "model_name": "LayoutModel",
      "state": {}
     },
     "e070c2aed84b414abe7cc619e00e66a3": {
      "model_module": "pgljupyter",
      "model_module_version": "^0.1.19",
      "model_name": "FloatEditorModel",
      "state": {
       "_model_module_version": "^0.1.19",
       "_view_module_version": "^0.1.19",
       "children": [
        "IPY_MODEL_d533d0f7e8d44a358083da646ae1b1c9",
        "IPY_MODEL_4d1d2003f29c41ff8de536581cacd952"
       ],
       "layout": "IPY_MODEL_a4413d9c30754ab7a29140a77c7d2e8f"
      }
     },
     "e0797b2efbd349b591c26c07ddceb9b9": {
      "model_module": "@jupyter-widgets/controls",
      "model_module_version": "1.5.0",
      "model_name": "TextModel",
      "state": {
       "continuous_update": false,
       "description": "name",
       "layout": "IPY_MODEL_bca351d97c6d48f9814da71e4418e3a3",
       "style": "IPY_MODEL_9425b43dcbad4491bb621b1c588f23a2",
       "value": "apex"
      }
     },
     "e084bfa6a964476eace5b955c0359580": {
      "model_module": "@jupyter-widgets/controls",
      "model_module_version": "1.5.0",
      "model_name": "DescriptionStyleModel",
      "state": {
       "description_width": ""
      }
     },
     "e0b3bfd022cf45e4a94fa38c5088e074": {
      "model_module": "@jupyter-widgets/base",
      "model_module_version": "1.2.0",
      "model_name": "LayoutModel",
      "state": {}
     },
     "e0b543b076714cf5958478e4889a5cb7": {
      "model_module": "@jupyter-widgets/controls",
      "model_module_version": "1.5.0",
      "model_name": "ButtonStyleModel",
      "state": {}
     },
     "e0c35736a89f424aa92cf4bb65dd15cd": {
      "model_module": "@jupyter-widgets/controls",
      "model_module_version": "1.5.0",
      "model_name": "DescriptionStyleModel",
      "state": {
       "description_width": ""
      }
     },
     "e0f1782f2a614b3fa512c8365f125d2a": {
      "model_module": "@jupyter-widgets/controls",
      "model_module_version": "1.5.0",
      "model_name": "ColorPickerModel",
      "state": {
       "description": "specular",
       "disabled": false,
       "layout": "IPY_MODEL_bc6ff6dbd47e43719f4d3510291ab07c",
       "style": "IPY_MODEL_fb890f35eb7342de80f4cca03a20aba6",
       "value": "#282828"
      }
     },
     "e11fae69c776418190ad9c7973e97a8d": {
      "model_module": "@jupyter-widgets/base",
      "model_module_version": "1.2.0",
      "model_name": "LayoutModel",
      "state": {
       "margin": "20px 0px"
      }
     },
     "e133259e943747ddbb36e06ec4bf3308": {
      "model_module": "@jupyter-widgets/controls",
      "model_module_version": "1.5.0",
      "model_name": "HBoxModel",
      "state": {
       "children": [
        "IPY_MODEL_c2be0d36854f4826b190f2aef55fd686",
        "IPY_MODEL_9a39bcbc02c34c958a3a2bea5ded14be"
       ],
       "layout": "IPY_MODEL_91ac8e1f9a054b498098ec7954dfe608"
      }
     },
     "e1404da5bac34c6d89711e040aeabc76": {
      "model_module": "pgljupyter",
      "model_module_version": "^0.1.19",
      "model_name": "LsystemWidgetModel",
      "state": {
       "_model_module_version": "^0.1.19",
       "_view_module_version": "^0.1.19",
       "axes_helper": false,
       "derivationLength": 42,
       "layout": "IPY_MODEL_c885c505f74c4f13b9663c38cb480f8a",
       "light_helper": false,
       "plane": true,
       "size_display": [
        600,
        400
       ],
       "size_world": 50
      }
     },
     "e14b8d9da9d94827aa6e7a2c4a59032a": {
      "model_module": "@jupyter-widgets/base",
      "model_module_version": "1.2.0",
      "model_name": "LayoutModel",
      "state": {
       "margin": "20px 0px"
      }
     },
     "e14de5b08dfe4ad19aaeed9488ebd7af": {
      "model_module": "@jupyter-widgets/controls",
      "model_module_version": "1.5.0",
      "model_name": "DescriptionStyleModel",
      "state": {
       "description_width": ""
      }
     },
     "e15fba46cf5946eeb499bb44c328da38": {
      "model_module": "@jupyter-widgets/controls",
      "model_module_version": "1.5.0",
      "model_name": "HBoxModel",
      "state": {
       "layout": "IPY_MODEL_f54b6bb1cd9047f2913448b18542023e"
      }
     },
     "e18491acb9394f188ffa2c3096839935": {
      "model_module": "@jupyter-widgets/base",
      "model_module_version": "1.2.0",
      "model_name": "LayoutModel",
      "state": {
       "margin": "20px 0px"
      }
     },
     "e1a057438d6b4569b6ab77b9fa61b360": {
      "model_module": "@jupyter-widgets/controls",
      "model_module_version": "1.5.0",
      "model_name": "DescriptionStyleModel",
      "state": {
       "description_width": ""
      }
     },
     "e1ad944eafa344f19b268b968727ebe2": {
      "model_module": "@jupyter-widgets/controls",
      "model_module_version": "1.5.0",
      "model_name": "DescriptionStyleModel",
      "state": {
       "description_width": ""
      }
     },
     "e1dcb78514e94e8ba1b4d9d3d4a8e9c9": {
      "model_module": "pgljupyter",
      "model_module_version": "^0.1.17",
      "model_name": "IntEditorModel",
      "state": {
       "_model_module_version": "^0.1.17",
       "_view_module_version": "^0.1.17",
       "children": [
        "IPY_MODEL_4933c3be1ca74d3b87e7deac4ab3fa84",
        "IPY_MODEL_f07a901e6ad14b95a2d72d3015de3a12"
       ],
       "layout": "IPY_MODEL_726ea6227a9140b58c2e2db0b3c05e1f"
      }
     },
     "e20a8ad2869c4320906c5ccb5a2616cb": {
      "model_module": "pgljupyter",
      "model_module_version": "^0.1.17",
      "model_name": "MaterialEditorModel",
      "state": {
       "_model_module_version": "^0.1.17",
       "_view_module_version": "^0.1.17",
       "children": [
        "IPY_MODEL_bfa2cd7f0c5143b98b10a45ec7d2d66d",
        "IPY_MODEL_f5730ea7e7c64ddd832fe8d4f113f656",
        "IPY_MODEL_8796df0ffb5a4d59acfa5e829c472f45",
        "IPY_MODEL_e85c510e27f640a8b1ccdded38f8d8b3",
        "IPY_MODEL_7d0e2b7c25dc4c5799f79fba3304581d",
        "IPY_MODEL_59f8c5abaa8146ce8df8fc46c0f10acb",
        "IPY_MODEL_8c69ffac5b3b44b286de8bc58ff44b45"
       ],
       "layout": "IPY_MODEL_194ad744cbd346c59d513770c2a47af7"
      }
     },
     "e248c6cad0a7477090a5f66a3ae950b9": {
      "model_module": "@jupyter-widgets/controls",
      "model_module_version": "1.5.0",
      "model_name": "DescriptionStyleModel",
      "state": {
       "description_width": ""
      }
     },
     "e24becef77854391b6cd6c67e04932e8": {
      "model_module": "@jupyter-widgets/controls",
      "model_module_version": "1.5.0",
      "model_name": "HBoxModel",
      "state": {
       "children": [
        "IPY_MODEL_273d55f5f31d4648966c52a36a8bc18e",
        "IPY_MODEL_e3ec34b11df74def9f03dc88695a2134",
        "IPY_MODEL_17de7061fc71420fb27975958a62c182",
        "IPY_MODEL_d7e2fe307b4148cfac6f5e85faa87f8d"
       ],
       "layout": "IPY_MODEL_a9b7a5bea64640859355bc1f3bd40aed"
      }
     },
     "e292b053762d44a8b5698ced23674c83": {
      "model_module": "@jupyter-widgets/base",
      "model_module_version": "1.2.0",
      "model_name": "LayoutModel",
      "state": {}
     },
     "e2959aa92f7d44c2a5d6d06683c7f898": {
      "model_module": "@jupyter-widgets/controls",
      "model_module_version": "1.5.0",
      "model_name": "DescriptionStyleModel",
      "state": {
       "description_width": ""
      }
     },
     "e29b2ad0e6b8400997e87c1b714baead": {
      "model_module": "@jupyter-widgets/controls",
      "model_module_version": "1.5.0",
      "model_name": "DescriptionStyleModel",
      "state": {
       "description_width": ""
      }
     },
     "e29bcf91cb1e4caebd131a237b84ab1c": {
      "model_module": "@jupyter-widgets/controls",
      "model_module_version": "1.5.0",
      "model_name": "HBoxModel",
      "state": {
       "children": [
        "IPY_MODEL_2c7e43047da344c297659bb5c7099369",
        "IPY_MODEL_f6729743e45f4de5a242dd5d165d2def"
       ],
       "layout": "IPY_MODEL_5a6aab1bb709492da4f69389f9069c24"
      }
     },
     "e2b7f42fba7146f9bd943e2d6c422529": {
      "model_module": "@jupyter-widgets/controls",
      "model_module_version": "1.5.0",
      "model_name": "DropdownModel",
      "state": {
       "_options_labels": [
        "NurbsCurve2D",
        "BezierCurve2D",
        "Polyline2D",
        "Function"
       ],
       "index": 0,
       "layout": "IPY_MODEL_8f003cdb574545128b2ee385bb6fff88",
       "style": "IPY_MODEL_d30ebfc6c53341ae9babc1bd412860bb"
      }
     },
     "e2c963c5cf35423c8c5649096e21e578": {
      "model_module": "@jupyter-widgets/base",
      "model_module_version": "1.2.0",
      "model_name": "LayoutModel",
      "state": {}
     },
     "e2de1706c64a496781bb68ab5f7e1f36": {
      "model_module": "@jupyter-widgets/controls",
      "model_module_version": "1.5.0",
      "model_name": "SliderStyleModel",
      "state": {
       "description_width": ""
      }
     },
     "e313ecd7771845129142078320e10db3": {
      "model_module": "@jupyter-widgets/controls",
      "model_module_version": "1.5.0",
      "model_name": "ButtonStyleModel",
      "state": {}
     },
     "e34f318fa38c48f0a73bd526ad11af14": {
      "model_module": "@jupyter-widgets/controls",
      "model_module_version": "1.5.0",
      "model_name": "ButtonStyleModel",
      "state": {}
     },
     "e39e2498279249fda7dc6eebafd8b0bb": {
      "model_module": "@jupyter-widgets/controls",
      "model_module_version": "1.5.0",
      "model_name": "DescriptionStyleModel",
      "state": {
       "description_width": ""
      }
     },
     "e3e60ccbc1cb456a81c849bf7a485b87": {
      "model_module": "pgljupyter",
      "model_module_version": "^0.1.17",
      "model_name": "MaterialEditorModel",
      "state": {
       "_model_module_version": "^0.1.17",
       "_view_module_version": "^0.1.17",
       "children": [
        "IPY_MODEL_0241bcf8e4d449588382dcfa0fadf1f7",
        "IPY_MODEL_1e6010c917c4441f8d05dacd1cf3a5ba",
        "IPY_MODEL_37bad97f36864d09b884b5b159f845c5",
        "IPY_MODEL_6af77e29019b4e689db91f5541c76b14",
        "IPY_MODEL_ffd2e60a3312408a8134cc48bad3dece",
        "IPY_MODEL_0108f7fc56644931b6e9ab7e757df267",
        "IPY_MODEL_ae65c9b1a7014f46b4d4736a9946ae5f"
       ],
       "layout": "IPY_MODEL_fa6085381b324435aa9032f0b10413fd"
      }
     },
     "e3ec34b11df74def9f03dc88695a2134": {
      "model_module": "pgljupyter",
      "model_module_version": "^0.1.18",
      "model_name": "MaterialEditorModel",
      "state": {
       "_model_module_version": "^0.1.18",
       "_view_module_version": "^0.1.18",
       "children": [
        "IPY_MODEL_33ecac72bc1645e0b487c066dc742e70",
        "IPY_MODEL_8941e806cfbc4ef79a7ebe1a33c9c387",
        "IPY_MODEL_fb0c1e5b61d44683adf9f59f2d517439",
        "IPY_MODEL_c3f4c1f812d844ea9207b9e5e852348d",
        "IPY_MODEL_fcb10f0aee304daf943e423fda4b86f2",
        "IPY_MODEL_e47a5e4d527f4a4b854d6b623726ae1b",
        "IPY_MODEL_fc127ff6172e4b0984f4d7a91e171c32",
        "IPY_MODEL_e42d49eb989a4968b069bd8144730392"
       ],
       "layout": "IPY_MODEL_1042939b8e694adbb61cbf705e83ecb6"
      }
     },
     "e41cb6704a0a4c06a028ae53e9f988ee": {
      "model_module": "@jupyter-widgets/controls",
      "model_module_version": "1.5.0",
      "model_name": "DescriptionStyleModel",
      "state": {
       "description_width": ""
      }
     },
     "e42d49eb989a4968b069bd8144730392": {
      "model_module": "@jupyter-widgets/controls",
      "model_module_version": "1.5.0",
      "model_name": "FloatSliderModel",
      "state": {
       "description": "shininess",
       "layout": "IPY_MODEL_83ef4ea6f520490ea97b0fec684c68ff",
       "max": 1,
       "step": 0.1,
       "style": "IPY_MODEL_d10f09db7b844047b372a716b8a9dd49",
       "value": 0.2
      }
     },
     "e45efbec269d4f03b8dd09502f95fedc": {
      "model_module": "@jupyter-widgets/controls",
      "model_module_version": "1.5.0",
      "model_name": "DescriptionStyleModel",
      "state": {
       "description_width": ""
      }
     },
     "e46e9699d55948368197d7e8ce85a0a3": {
      "model_module": "@jupyter-widgets/base",
      "model_module_version": "1.2.0",
      "model_name": "LayoutModel",
      "state": {}
     },
     "e47a5e4d527f4a4b854d6b623726ae1b": {
      "model_module": "@jupyter-widgets/controls",
      "model_module_version": "1.5.0",
      "model_name": "FloatSliderModel",
      "state": {
       "description": "diffuse",
       "layout": "IPY_MODEL_0152374133564b448491bef7e0098d98",
       "max": 3,
       "step": 0.1,
       "style": "IPY_MODEL_84167ac2f5b54a72a1dcecd5e7898942",
       "value": 1
      }
     },
     "e483f04bf9ee473983a54480be56ae94": {
      "model_module": "@jupyter-widgets/base",
      "model_module_version": "1.2.0",
      "model_name": "LayoutModel",
      "state": {}
     },
     "e4b212a605144a07b42605253ab3a016": {
      "model_module": "@jupyter-widgets/base",
      "model_module_version": "1.2.0",
      "model_name": "LayoutModel",
      "state": {}
     },
     "e4bcad903cd24e668755c12c6ad16d21": {
      "model_module": "@jupyter-widgets/controls",
      "model_module_version": "1.5.0",
      "model_name": "DescriptionStyleModel",
      "state": {
       "description_width": ""
      }
     },
     "e4e8b085a5c24ad6a92920665a7ee169": {
      "model_module": "@jupyter-widgets/controls",
      "model_module_version": "1.5.0",
      "model_name": "SliderStyleModel",
      "state": {
       "description_width": ""
      }
     },
     "e4f1064e7adb4c35be9fbfc786d26ca6": {
      "model_module": "@jupyter-widgets/controls",
      "model_module_version": "1.5.0",
      "model_name": "FloatSliderModel",
      "state": {
       "description": "value",
       "layout": "IPY_MODEL_f809bb47cbf94d079b9331253cf0b41b",
       "max": 0.1,
       "min": 0.01,
       "step": 0.01,
       "style": "IPY_MODEL_25389c05c9a74d9a98ad640a1da0dc90",
       "value": 0.02
      }
     },
     "e4ff954f4c8a42249bb72fd9a209830d": {
      "model_module": "pgljupyter",
      "model_module_version": "^0.1.18",
      "model_name": "IntEditorModel",
      "state": {
       "_model_module_version": "^0.1.18",
       "_view_module_version": "^0.1.18",
       "children": [
        "IPY_MODEL_4d9c47832bb743058b80a0b7ef230074",
        "IPY_MODEL_283766ded61e469895271b99cd20aee7"
       ],
       "layout": "IPY_MODEL_2b06ff77988044cbbe92812f8d420a23"
      }
     },
     "e53a81fe5d75435cb12952d290d8bed4": {
      "model_module": "@jupyter-widgets/base",
      "model_module_version": "1.2.0",
      "model_name": "LayoutModel",
      "state": {}
     },
     "e5dac1ed4b934727b6efb2c2f6bbcf39": {
      "model_module": "pgljupyter",
      "model_module_version": "^0.1.17",
      "model_name": "FloatEditorModel",
      "state": {
       "_model_module_version": "^0.1.17",
       "_view_module_version": "^0.1.17",
       "children": [
        "IPY_MODEL_55f0f039861f4c7cb7fc94899c53e0f6",
        "IPY_MODEL_e4f1064e7adb4c35be9fbfc786d26ca6"
       ],
       "layout": "IPY_MODEL_85fb0b1c46a34071837318e83df4549c"
      }
     },
     "e635d4b4c4cd44f2a336ab38518f4c9b": {
      "model_module": "@jupyter-widgets/controls",
      "model_module_version": "1.5.0",
      "model_name": "DescriptionStyleModel",
      "state": {
       "description_width": ""
      }
     },
     "e647273f61494efb92b293f226b212ce": {
      "model_module": "@jupyter-widgets/controls",
      "model_module_version": "1.5.0",
      "model_name": "DropdownModel",
      "state": {
       "_options_labels": [
        "color_1",
        "color_2",
        "color_3",
        "color_4"
       ],
       "index": 0,
       "layout": "IPY_MODEL_3b6eb237ab884fc6a9851aa3c2d821fe",
       "style": "IPY_MODEL_9cbbf712b5e546d7b39a41428b0aa2f1"
      }
     },
     "e64b8d9963944b6982872e56c1d1076b": {
      "model_module": "@jupyter-widgets/controls",
      "model_module_version": "1.5.0",
      "model_name": "FloatSliderModel",
      "state": {
       "description": "shininess",
       "layout": "IPY_MODEL_157fba29a18141ceb228302c5bccb5bb",
       "max": 1,
       "step": 0.1,
       "style": "IPY_MODEL_6d9cd9fec46242309f65481bd57e1ab6",
       "value": 0.2
      }
     },
     "e64e7fd9b956422fbe051812aeedf4f5": {
      "model_module": "@jupyter-widgets/controls",
      "model_module_version": "1.5.0",
      "model_name": "TabModel",
      "state": {
       "layout": "IPY_MODEL_01a9830728ff43debfe68c7ed9c0c0f1"
      }
     },
     "e663a3b5cc3842119f7132689bc988a4": {
      "model_module": "@jupyter-widgets/controls",
      "model_module_version": "1.5.0",
      "model_name": "TabModel",
      "state": {
       "layout": "IPY_MODEL_5c2e84642c5d485189990628bfa497c8"
      }
     },
     "e66efffcd57d411fa07184989115562f": {
      "model_module": "@jupyter-widgets/controls",
      "model_module_version": "1.5.0",
      "model_name": "DescriptionStyleModel",
      "state": {
       "description_width": ""
      }
     },
     "e6991f813efb4b118467f99c0776efcd": {
      "model_module": "@jupyter-widgets/controls",
      "model_module_version": "1.5.0",
      "model_name": "DescriptionStyleModel",
      "state": {
       "description_width": ""
      }
     },
     "e6ea0f1df0864495a18ce55e8ee48a88": {
      "model_module": "@jupyter-widgets/controls",
      "model_module_version": "1.5.0",
      "model_name": "SliderStyleModel",
      "state": {
       "description_width": ""
      }
     },
     "e72c590e7a184b6fb4ad01d25e4545a9": {
      "model_module": "@jupyter-widgets/controls",
      "model_module_version": "1.5.0",
      "model_name": "FloatSliderModel",
      "state": {
       "description": "shininess",
       "layout": "IPY_MODEL_18a4cfa16bc946538d5790374028d641",
       "max": 1,
       "step": 0.1,
       "style": "IPY_MODEL_16f7bc26a9f3423a8cdb0ee883e8baf3",
       "value": 0.2
      }
     },
     "e7d2527d8a7e4fe289643a418f22fbe9": {
      "model_module": "@jupyter-widgets/base",
      "model_module_version": "1.2.0",
      "model_name": "LayoutModel",
      "state": {}
     },
     "e7e58753b42f479c87b45106eebaf7d8": {
      "model_module": "@jupyter-widgets/controls",
      "model_module_version": "1.5.0",
      "model_name": "HBoxModel",
      "state": {
       "children": [
        "IPY_MODEL_a5fa387b659b43e6811c5b2786ac85cd",
        "IPY_MODEL_e133259e943747ddbb36e06ec4bf3308"
       ],
       "layout": "IPY_MODEL_0edf0711fcd443488bc2bd1811f52c38"
      }
     },
     "e7f5ee21dad84e169e218eb28ecfd188": {
      "model_module": "@jupyter-widgets/controls",
      "model_module_version": "1.5.0",
      "model_name": "BoundedIntTextModel",
      "state": {
       "description": "index",
       "layout": "IPY_MODEL_94cfe289c61c4e35b29a1d6056c480fc",
       "style": "IPY_MODEL_09fefb88b02d40be9097130da4296139",
       "value": 2
      }
     },
     "e7fc586047f245ce97a55030431cb070": {
      "model_module": "@jupyter-widgets/controls",
      "model_module_version": "1.5.0",
      "model_name": "SliderStyleModel",
      "state": {
       "description_width": ""
      }
     },
     "e801703ebaf5452e9d7d9e5fc1f6b6d2": {
      "model_module": "@jupyter-widgets/controls",
      "model_module_version": "1.5.0",
      "model_name": "HBoxModel",
      "state": {
       "children": [
        "IPY_MODEL_e4ff954f4c8a42249bb72fd9a209830d",
        "IPY_MODEL_4cbdfd51fc7a4d0aa56146812cc120e6"
       ],
       "layout": "IPY_MODEL_f54b6bb1cd9047f2913448b18542023e"
      }
     },
     "e812837d2b0f440e9038a8b882215c27": {
      "model_module": "@jupyter-widgets/controls",
      "model_module_version": "1.5.0",
      "model_name": "SliderStyleModel",
      "state": {
       "description_width": ""
      }
     },
     "e82e92b531174bbab4c8ec367cfabcd1": {
      "model_module": "@jupyter-widgets/controls",
      "model_module_version": "1.5.0",
      "model_name": "DescriptionStyleModel",
      "state": {
       "description_width": ""
      }
     },
     "e8499e7bab6246a0ad0a4f30d14ddbb3": {
      "model_module": "@jupyter-widgets/base",
      "model_module_version": "1.2.0",
      "model_name": "LayoutModel",
      "state": {}
     },
     "e85c510e27f640a8b1ccdded38f8d8b3": {
      "model_module": "@jupyter-widgets/controls",
      "model_module_version": "1.5.0",
      "model_name": "ColorPickerModel",
      "state": {
       "description": "emission",
       "disabled": false,
       "layout": "IPY_MODEL_c2578ef26c0743838357a06ac7dbb03e",
       "style": "IPY_MODEL_015a0162e977482199ff9aa70a46096a",
       "value": "#000000"
      }
     },
     "e881f4d66fc34fa5a8bf3f637ac484f2": {
      "model_module": "@jupyter-widgets/base",
      "model_module_version": "1.2.0",
      "model_name": "LayoutModel",
      "state": {}
     },
     "e894d4c3a4fb4f25a3f9d4c94d93edc4": {
      "model_module": "@jupyter-widgets/base",
      "model_module_version": "1.2.0",
      "model_name": "LayoutModel",
      "state": {}
     },
     "e8a23a012cbf4853a330e912e3cad92f": {
      "model_module": "@jupyter-widgets/controls",
      "model_module_version": "1.5.0",
      "model_name": "HBoxModel",
      "state": {
       "children": [
        "IPY_MODEL_553432c4114a47d4a9edc9bea81bf73d",
        "IPY_MODEL_fed9460058884e208750ebcd25227db9"
       ],
       "layout": "IPY_MODEL_3f7ba822c536404481bce2f09c84de9d"
      }
     },
     "e8ec467c663c43b680bf26b13a9a4041": {
      "model_module": "@jupyter-widgets/controls",
      "model_module_version": "1.5.0",
      "model_name": "DropdownModel",
      "state": {
       "_options_labels": [
        "Color"
       ],
       "index": 0,
       "layout": "IPY_MODEL_df94b893e16e4d64bc1d78383241b66f",
       "style": "IPY_MODEL_594bc8d80195422f85abbd36476b4550"
      }
     },
     "e9582f1549fd47149a0a82f1ee63f055": {
      "model_module": "@jupyter-widgets/controls",
      "model_module_version": "1.5.0",
      "model_name": "DescriptionStyleModel",
      "state": {
       "description_width": ""
      }
     },
     "e984cba6c0f84ad5a3546c38b70bc438": {
      "model_module": "@jupyter-widgets/controls",
      "model_module_version": "1.5.0",
      "model_name": "FloatSliderModel",
      "state": {
       "description": "diffuse",
       "layout": "IPY_MODEL_36dae7e778b4478990ee42ee7dd61824",
       "max": 3,
       "step": 0.1,
       "style": "IPY_MODEL_5c020f6de4b0494db643bad3b0644d25",
       "value": 1
      }
     },
     "e996a0616fe3456f83d3a47b2d6444d3": {
      "model_module": "@jupyter-widgets/base",
      "model_module_version": "1.2.0",
      "model_name": "LayoutModel",
      "state": {}
     },
     "e9ac5fcbb97347d7a1f9f9cc7558252d": {
      "model_module": "@jupyter-widgets/controls",
      "model_module_version": "1.5.0",
      "model_name": "HBoxModel",
      "state": {
       "children": [
        "IPY_MODEL_fab3da10c1de4f6599d1614193ca639f",
        "IPY_MODEL_7aab530945c249e3a941d757c0ccee92"
       ],
       "layout": "IPY_MODEL_d978d64c481643da8a0c61fcd3e368e3"
      }
     },
     "e9bf0cd054d84ef78d0da14f7ed9cea5": {
      "model_module": "@jupyter-widgets/base",
      "model_module_version": "1.2.0",
      "model_name": "LayoutModel",
      "state": {}
     },
     "e9c513a4f98a4afd87ad87a4ddd1d942": {
      "model_module": "@jupyter-widgets/controls",
      "model_module_version": "1.5.0",
      "model_name": "DropdownModel",
      "state": {
       "_options_labels": [
        "NurbsCurve2D",
        "BezierCurve2D",
        "Polyline2D",
        "Function"
       ],
       "index": 0,
       "layout": "IPY_MODEL_376831fff5bc48dfb1fa24e507142fcf",
       "style": "IPY_MODEL_70345d5e492f4c59a07d9d7fe6543942"
      }
     },
     "e9e462dbc66b4f12b3954106b87e846a": {
      "model_module": "@jupyter-widgets/controls",
      "model_module_version": "1.5.0",
      "model_name": "TextModel",
      "state": {
       "continuous_update": false,
       "description": "name",
       "layout": "IPY_MODEL_a5dda22448ef440894f70c195c7f9911",
       "style": "IPY_MODEL_a56afbd1a4e74ddb9b19fb5de0bcf2b0",
       "value": "apex"
      }
     },
     "ea2eda2ed0bb482faa1ed22e03e210b0": {
      "model_module": "@jupyter-widgets/base",
      "model_module_version": "1.2.0",
      "model_name": "LayoutModel",
      "state": {
       "margin": "20px 0px"
      }
     },
     "ea37aa48e5954c09acb575e2396d3c05": {
      "model_module": "@jupyter-widgets/base",
      "model_module_version": "1.2.0",
      "model_name": "LayoutModel",
      "state": {}
     },
     "ea9d8d6b50034a3a9fb9e57b9e304732": {
      "model_module": "@jupyter-widgets/controls",
      "model_module_version": "1.5.0",
      "model_name": "IntTextModel",
      "state": {
       "description": "min",
       "layout": "IPY_MODEL_a928100a1a7543c1a952e02f63653d38",
       "step": 1,
       "style": "IPY_MODEL_cc6d0e94c93b4978adf6227cfb533d2c",
       "value": 1
      }
     },
     "eac0f378daf14e768b562dc92a52bd46": {
      "model_module": "@jupyter-widgets/controls",
      "model_module_version": "1.5.0",
      "model_name": "IntTextModel",
      "state": {
       "description": "min",
       "layout": "IPY_MODEL_5b5cffc519364c9fbd2a8e2332a75c62",
       "step": 1,
       "style": "IPY_MODEL_c8d3f70598d54c238929a83e3bcb3334",
       "value": 1
      }
     },
     "eacdf3892401422d966ce9bdf9102e5d": {
      "model_module": "@jupyter-widgets/controls",
      "model_module_version": "1.5.0",
      "model_name": "SliderStyleModel",
      "state": {
       "description_width": ""
      }
     },
     "eb11e6bb87f04e778a49e0a3916ee734": {
      "model_module": "@jupyter-widgets/base",
      "model_module_version": "1.2.0",
      "model_name": "LayoutModel",
      "state": {}
     },
     "eb1b16194a974b38b9619ef00779fa26": {
      "model_module": "@jupyter-widgets/controls",
      "model_module_version": "1.5.0",
      "model_name": "VBoxModel",
      "state": {
       "children": [
        "IPY_MODEL_700dd60141fd4249986e07f948bfdfa6",
        "IPY_MODEL_dd0ff9c59cde46bcb7cc5f4ac4df69e9"
       ],
       "layout": "IPY_MODEL_244a6d6ecfca4f0f98bc8b06b8f66d0f"
      }
     },
     "eb38eb2960ba4c56b249425bdddbb378": {
      "model_module": "@jupyter-widgets/controls",
      "model_module_version": "1.5.0",
      "model_name": "SliderStyleModel",
      "state": {
       "description_width": ""
      }
     },
     "eb97bfba7a244317a71b5c4fedafbbe8": {
      "model_module": "@jupyter-widgets/controls",
      "model_module_version": "1.5.0",
      "model_name": "ButtonStyleModel",
      "state": {}
     },
     "eb9c25defb924bd4a139c44c404e7001": {
      "model_module": "@jupyter-widgets/controls",
      "model_module_version": "1.5.0",
      "model_name": "ButtonModel",
      "state": {
       "description": "Add category",
       "layout": "IPY_MODEL_5635bd2a1dbe4760b5638e8c865b2550",
       "style": "IPY_MODEL_6d5e3a1f1f6e4037b118fad920b662c6"
      }
     },
     "eba49d4701c34c69a1a52005a55e913e": {
      "model_module": "@jupyter-widgets/controls",
      "model_module_version": "1.5.0",
      "model_name": "ButtonModel",
      "state": {
       "description": "Add",
       "layout": "IPY_MODEL_9e0dbc685d844cfd942dcb418366010a",
       "style": "IPY_MODEL_42507f01d821430991d4d3162cf5c980"
      }
     },
     "eba7cf85bd6046aca8a8d6411fcef311": {
      "model_module": "@jupyter-widgets/base",
      "model_module_version": "1.2.0",
      "model_name": "LayoutModel",
      "state": {
       "margin": "20px 0px"
      }
     },
     "ebac3b19d9ab409d9c42b53d972811e3": {
      "model_module": "@jupyter-widgets/controls",
      "model_module_version": "1.5.0",
      "model_name": "HBoxModel",
      "state": {
       "children": [
        "IPY_MODEL_e1dcb78514e94e8ba1b4d9d3d4a8e9c9",
        "IPY_MODEL_3152de1fa1164856a37a0aa90a315025",
        "IPY_MODEL_deee13f28dc04426826d2dcb4eb4b80e",
        "IPY_MODEL_e5dac1ed4b934727b6efb2c2f6bbcf39",
        "IPY_MODEL_d79e5da1ec2d4eff8b5b67ab8d2838d8"
       ],
       "layout": "IPY_MODEL_964212339a614dc4b244dd85464c155d"
      }
     },
     "ebe128ea294142459765d6098ca68e1a": {
      "model_module": "@jupyter-widgets/controls",
      "model_module_version": "1.5.0",
      "model_name": "FloatSliderModel",
      "state": {
       "description": "diffuse",
       "layout": "IPY_MODEL_3581f98b0e0b489eb1e8d1ffb45828de",
       "max": 3,
       "step": 0.1,
       "style": "IPY_MODEL_2171707fa97347488af43fe88a591d0f",
       "value": 1
      }
     },
     "ec0d311430274174ad6f8002cc5ab013": {
      "model_module": "@jupyter-widgets/controls",
      "model_module_version": "1.5.0",
      "model_name": "ButtonModel",
      "state": {
       "description": "Add category",
       "layout": "IPY_MODEL_8cca7f8fad02405fb87c0732c5a43356",
       "style": "IPY_MODEL_70cd0cda1a844c278ad4555f50d5490a"
      }
     },
     "ec128f27e5d548fd89d35f652fb3d014": {
      "model_module": "@jupyter-widgets/base",
      "model_module_version": "1.2.0",
      "model_name": "LayoutModel",
      "state": {}
     },
     "ec25e9001eaf45e69cf86327398a4adc": {
      "model_module": "@jupyter-widgets/controls",
      "model_module_version": "1.5.0",
      "model_name": "HBoxModel",
      "state": {
       "children": [
        "IPY_MODEL_428b97f3a6fc42759d90478a7ffb3457",
        "IPY_MODEL_bd975fbe82284673a970cc17143dddb9"
       ],
       "layout": "IPY_MODEL_0c4ef21d02cd4d5098cab60592f95c54"
      }
     },
     "ec264ee7c2014d25b4a56adf37235cd5": {
      "model_module": "@jupyter-widgets/controls",
      "model_module_version": "1.5.0",
      "model_name": "DropdownModel",
      "state": {
       "index": null,
       "layout": "IPY_MODEL_b281607fe98d48e3934d05bec3d79698",
       "style": "IPY_MODEL_11a1fde1334e44b3bc445b44cfccd1ee"
      }
     },
     "ec565a4c65ef47b7b5c481d2e487b68f": {
      "model_module": "@jupyter-widgets/controls",
      "model_module_version": "1.5.0",
      "model_name": "DescriptionStyleModel",
      "state": {
       "description_width": ""
      }
     },
     "ec80a43c5a3b4523b4da1e7a74a8af65": {
      "model_module": "@jupyter-widgets/base",
      "model_module_version": "1.2.0",
      "model_name": "LayoutModel",
      "state": {}
     },
     "ec8cfa6373cf4330ae76df7ac5a2dfab": {
      "model_module": "pgljupyter",
      "model_module_version": "^0.1.18",
      "model_name": "IntEditorModel",
      "state": {
       "_model_module_version": "^0.1.18",
       "_view_module_version": "^0.1.18",
       "children": [
        "IPY_MODEL_2ed237c444f041958ac480d559718a9b",
        "IPY_MODEL_ca93be8a390a4842a5a88b86b5f0c740"
       ],
       "layout": "IPY_MODEL_057fc401feeb40d0858ffb015d0b71f2"
      }
     },
     "ecd0c12b3b9e479fb4a4bdfdcb2c2842": {
      "model_module": "@jupyter-widgets/controls",
      "model_module_version": "1.5.0",
      "model_name": "IntTextModel",
      "state": {
       "description": "max",
       "layout": "IPY_MODEL_973162b76dea4a2bbb3e36144ea6db25",
       "step": 1,
       "style": "IPY_MODEL_ed253fc3290f4b25b35b8dcd2674306e",
       "value": 10
      }
     },
     "ecd6712976814a878c2eb22824a5e5e9": {
      "model_module": "@jupyter-widgets/base",
      "model_module_version": "1.2.0",
      "model_name": "LayoutModel",
      "state": {}
     },
     "ed253fc3290f4b25b35b8dcd2674306e": {
      "model_module": "@jupyter-widgets/controls",
      "model_module_version": "1.5.0",
      "model_name": "DescriptionStyleModel",
      "state": {
       "description_width": ""
      }
     },
     "ed2e1c85dc804578834fe3b7f594baa4": {
      "model_module": "@jupyter-widgets/base",
      "model_module_version": "1.2.0",
      "model_name": "LayoutModel",
      "state": {}
     },
     "ed4b23b4eff1497396c94a783926d260": {
      "model_module": "@jupyter-widgets/controls",
      "model_module_version": "1.5.0",
      "model_name": "SliderStyleModel",
      "state": {
       "description_width": ""
      }
     },
     "ed6a7f88ae4744d49b47dd18c74fab70": {
      "model_module": "@jupyter-widgets/controls",
      "model_module_version": "1.5.0",
      "model_name": "ButtonModel",
      "state": {
       "description": "Delete",
       "layout": "IPY_MODEL_51ac257bcf38442c82fc060061bddd6c",
       "style": "IPY_MODEL_33e248224d044ba185e32bc6cddc3055"
      }
     },
     "ed774bc03b0a4afcae5f17c89042e491": {
      "model_module": "@jupyter-widgets/controls",
      "model_module_version": "1.5.0",
      "model_name": "DescriptionStyleModel",
      "state": {
       "description_width": ""
      }
     },
     "ed7d66b5a93a41909abdbcdcb3f73f67": {
      "model_module": "@jupyter-widgets/base",
      "model_module_version": "1.2.0",
      "model_name": "LayoutModel",
      "state": {}
     },
     "ed878756b8fb401389ecaf5b518387e3": {
      "model_module": "@jupyter-widgets/controls",
      "model_module_version": "1.5.0",
      "model_name": "ColorPickerModel",
      "state": {
       "description": "ambient",
       "disabled": false,
       "layout": "IPY_MODEL_8ade179874b44ec4a7a9a96454510c3e",
       "style": "IPY_MODEL_74dde666b12e4ccdbc62eb47f41ed106",
       "value": "#0fc4db"
      }
     },
     "ed976a91034f48c1a0bd19c114a4740d": {
      "model_module": "@jupyter-widgets/controls",
      "model_module_version": "1.5.0",
      "model_name": "ColorPickerModel",
      "state": {
       "description": "ambient",
       "disabled": false,
       "layout": "IPY_MODEL_0b974aa9e4cb4b4d87d799dd6e18b83c",
       "style": "IPY_MODEL_846dacb512d34d31960acd0764831033",
       "value": "#e1a014"
      }
     },
     "ed9c4819f169408997cc14e89f892d4d": {
      "model_module": "@jupyter-widgets/controls",
      "model_module_version": "1.5.0",
      "model_name": "DescriptionStyleModel",
      "state": {
       "description_width": ""
      }
     },
     "edccc23ee7c94c62b87b7ae6355454e4": {
      "model_module": "@jupyter-widgets/base",
      "model_module_version": "1.2.0",
      "model_name": "LayoutModel",
      "state": {}
     },
     "edf855758a43462cb032faf769489da2": {
      "model_module": "@jupyter-widgets/controls",
      "model_module_version": "1.5.0",
      "model_name": "SliderStyleModel",
      "state": {
       "description_width": ""
      }
     },
     "edf9693f28bf40b480d44c9fe1f0e7bd": {
      "model_module": "@jupyter-widgets/controls",
      "model_module_version": "1.5.0",
      "model_name": "VBoxModel",
      "state": {
       "children": [
        "IPY_MODEL_6bbc88a5645f4f34bc382a3d79ab54d0",
        "IPY_MODEL_ccb212c6dfcc4c1d92cc6abceb4d2737"
       ],
       "layout": "IPY_MODEL_2340039821ec4848ab8a9b6c4eb0a864"
      }
     },
     "ee257afeb107428795eb942a17db9082": {
      "model_module": "@jupyter-widgets/base",
      "model_module_version": "1.2.0",
      "model_name": "LayoutModel",
      "state": {}
     },
     "ee264b2062824fd5b777853c7f930800": {
      "model_module": "@jupyter-widgets/controls",
      "model_module_version": "1.5.0",
      "model_name": "BoundedIntTextModel",
      "state": {
       "description": "index",
       "layout": "IPY_MODEL_ac370811477146a592129af91bec1989",
       "style": "IPY_MODEL_794d157bf0ff435fa7c3c39274a2f7b7",
       "value": 3
      }
     },
     "ee807aaf7dd849e494a1bea9e632bb51": {
      "model_module": "@jupyter-widgets/base",
      "model_module_version": "1.2.0",
      "model_name": "LayoutModel",
      "state": {}
     },
     "eeda36683653443fb2968b0128f1e43c": {
      "model_module": "pgljupyter",
      "model_module_version": "^0.1.20",
      "model_name": "MaterialEditorModel",
      "state": {
       "_model_module_version": "^0.1.20",
       "_view_module_version": "^0.1.20",
       "children": [
        "IPY_MODEL_d8984fabe4b64cf5badca23730a3e99f",
        "IPY_MODEL_3996353c8b94465d86afb685abf7e620",
        "IPY_MODEL_605b3dff17be4529b97af57e3cdd4848",
        "IPY_MODEL_043c34dc906e4167928f4d176318bc85",
        "IPY_MODEL_571f6b30eb9047efac0f6cc30752eb09",
        "IPY_MODEL_5f9f275715734a318f7526209e87fd1d",
        "IPY_MODEL_8428793621cc40e99f94653249403223",
        "IPY_MODEL_9a57f9c762704968844cf5cf71803d87"
       ],
       "layout": "IPY_MODEL_8526b634b49f4f3dbb3f18145fa06a71"
      }
     },
     "ef02132854ed4c2993d244c63b2f1da8": {
      "model_module": "@jupyter-widgets/controls",
      "model_module_version": "1.5.0",
      "model_name": "SliderStyleModel",
      "state": {
       "description_width": ""
      }
     },
     "ef04cc1a511e4bb3a4e5a70581a7c48d": {
      "model_module": "@jupyter-widgets/base",
      "model_module_version": "1.2.0",
      "model_name": "LayoutModel",
      "state": {}
     },
     "ef1d08148f6a452081c3eb7924ab9c8f": {
      "model_module": "@jupyter-widgets/controls",
      "model_module_version": "1.5.0",
      "model_name": "ButtonStyleModel",
      "state": {}
     },
     "ef248a12bce040c9b9d1143f988a7f70": {
      "model_module": "@jupyter-widgets/controls",
      "model_module_version": "1.5.0",
      "model_name": "DescriptionStyleModel",
      "state": {
       "description_width": ""
      }
     },
     "ef454af4562b438db936e7f40a5e2935": {
      "model_module": "@jupyter-widgets/controls",
      "model_module_version": "1.5.0",
      "model_name": "SliderStyleModel",
      "state": {
       "description_width": ""
      }
     },
     "ef5333f5371043d19deb770e002aef6f": {
      "model_module": "@jupyter-widgets/controls",
      "model_module_version": "1.5.0",
      "model_name": "DropdownModel",
      "state": {
       "_options_labels": [
        "NurbsCurve2D",
        "BezierCurve2D",
        "Polyline2D",
        "Function"
       ],
       "index": 0,
       "layout": "IPY_MODEL_c48e782f1bef445e9f2d0c4e1632f795",
       "style": "IPY_MODEL_b0816a0d3a1147ec9177057aeccf2636"
      }
     },
     "ef8bbf3c99984ea7a0ada6febc787943": {
      "model_module": "@jupyter-widgets/base",
      "model_module_version": "1.2.0",
      "model_name": "LayoutModel",
      "state": {}
     },
     "efb139d7a3194536b561efe32dfd2630": {
      "model_module": "@jupyter-widgets/controls",
      "model_module_version": "1.5.0",
      "model_name": "HBoxModel",
      "state": {
       "children": [
        "IPY_MODEL_33f1c8621f03490ab5245ccf59e30f24",
        "IPY_MODEL_68d71aa0477142e7b5ac9a9e6cd735b0",
        "IPY_MODEL_5301dbd8a23f4528acd9e2c505d69fa9"
       ],
       "layout": "IPY_MODEL_5ffcfabea4324e77ba7847c89942d8f5"
      }
     },
     "efecd650a0b549cfb8d04768a7af3883": {
      "model_module": "@jupyter-widgets/base",
      "model_module_version": "1.2.0",
      "model_name": "LayoutModel",
      "state": {}
     },
     "f00939b02b1b481eaf4beed6c5699d1f": {
      "model_module": "@jupyter-widgets/controls",
      "model_module_version": "1.5.0",
      "model_name": "FloatSliderModel",
      "state": {
       "description": "shininess",
       "layout": "IPY_MODEL_ef04cc1a511e4bb3a4e5a70581a7c48d",
       "max": 1,
       "step": 0.1,
       "style": "IPY_MODEL_ef454af4562b438db936e7f40a5e2935",
       "value": 0.2
      }
     },
     "f0677d8a64674b559e7f258cf8fa5541": {
      "model_module": "@jupyter-widgets/controls",
      "model_module_version": "1.5.0",
      "model_name": "DescriptionStyleModel",
      "state": {
       "description_width": ""
      }
     },
     "f06f7a31a7f6416183260274d8da1272": {
      "model_module": "@jupyter-widgets/base",
      "model_module_version": "1.2.0",
      "model_name": "LayoutModel",
      "state": {
       "margin": "20px 0px"
      }
     },
     "f07a901e6ad14b95a2d72d3015de3a12": {
      "model_module": "@jupyter-widgets/controls",
      "model_module_version": "1.5.0",
      "model_name": "IntSliderModel",
      "state": {
       "description": "value",
       "layout": "IPY_MODEL_38e26cd9e23545518709851cba698d94",
       "max": 10,
       "min": 1,
       "style": "IPY_MODEL_c84fe53e0e9a4df391e82723c5e179d5",
       "value": 3
      }
     },
     "f07ec7a47aa64a3a83eebeecca3f4573": {
      "model_module": "@jupyter-widgets/controls",
      "model_module_version": "1.5.0",
      "model_name": "IntSliderModel",
      "state": {
       "description": "value",
       "layout": "IPY_MODEL_1f72998eed09408198e3afb7711fce67",
       "max": 10,
       "min": 1,
       "style": "IPY_MODEL_7ff69b0f459c406da1dcf1b6b9ea1d85",
       "value": 5
      }
     },
     "f091e8ee938040379301180a6b5f8ece": {
      "model_module": "pgljupyter",
      "model_module_version": "^0.1.16",
      "model_name": "MaterialEditorModel",
      "state": {
       "_model_module_version": "^0.1.16",
       "_view_module_version": "^0.1.16",
       "children": [
        "IPY_MODEL_6b7f50760bbe40128e53e8730548a7c5",
        "IPY_MODEL_af4039e9ddde442ba446084c54416900",
        "IPY_MODEL_80301650537045819e119da69d2e1eaf",
        "IPY_MODEL_d17ee3bf95d444e6a5dc0e77911f5b59",
        "IPY_MODEL_cb7d447aaf2c4c759979e1f891e6d461",
        "IPY_MODEL_e984cba6c0f84ad5a3546c38b70bc438",
        "IPY_MODEL_89a945aee0754e80a2eee46f61496ba5",
        "IPY_MODEL_fa3fcbaf866c47d0a6ee55fb9125c3d4"
       ],
       "layout": "IPY_MODEL_92978dae10c04f879b6b666ba80d5835"
      }
     },
     "f09ec2f11f444eed8d6fdf286e95dc1c": {
      "model_module": "@jupyter-widgets/base",
      "model_module_version": "1.2.0",
      "model_name": "LayoutModel",
      "state": {
       "margin": "20px 0px"
      }
     },
     "f0d18c7a33314b93b6a2c556090ad031": {
      "model_module": "@jupyter-widgets/controls",
      "model_module_version": "1.5.0",
      "model_name": "DescriptionStyleModel",
      "state": {
       "description_width": ""
      }
     },
     "f10e1a78bef24b7a80af155ce5e761cd": {
      "model_module": "@jupyter-widgets/controls",
      "model_module_version": "1.5.0",
      "model_name": "ButtonStyleModel",
      "state": {}
     },
     "f12070df747f4997bb07a8795782dbf5": {
      "model_module": "@jupyter-widgets/controls",
      "model_module_version": "1.5.0",
      "model_name": "ButtonModel",
      "state": {
       "description": "Add",
       "layout": "IPY_MODEL_45f98c4f44d14504a22ffa36469c7310",
       "style": "IPY_MODEL_9fa90f82578d4c6cbf8256092d7543fa"
      }
     },
     "f142e994cc534a86867a64e2eda8db55": {
      "model_module": "@jupyter-widgets/controls",
      "model_module_version": "1.5.0",
      "model_name": "HBoxModel",
      "state": {
       "children": [
        "IPY_MODEL_cbdaf49adba648288d71c4ee0c85a46d",
        "IPY_MODEL_96ef1dd3e38b40a6b4b6aa0a8d3bcca5"
       ],
       "layout": "IPY_MODEL_266957bdee4c488d96db5cfceab4b072"
      }
     },
     "f147ffdfc6994c26b4177e9b873ebcc9": {
      "model_module": "pgljupyter",
      "model_module_version": "^0.1.17",
      "model_name": "IntEditorModel",
      "state": {
       "_model_module_version": "^0.1.17",
       "_view_module_version": "^0.1.17",
       "children": [
        "IPY_MODEL_445f90f4d3de40cb874172bbb0b2c38d",
        "IPY_MODEL_004fe4bded924a9a932e3394f3befd69"
       ],
       "layout": "IPY_MODEL_80b56e6d76c34f719488204e0bf1de2d"
      }
     },
     "f1784203f14e47b2863da9024e9cac9a": {
      "model_module": "@jupyter-widgets/controls",
      "model_module_version": "1.5.0",
      "model_name": "SliderStyleModel",
      "state": {
       "description_width": ""
      }
     },
     "f1c6aa52cc2a40a396a24165e1c5bf64": {
      "model_module": "@jupyter-widgets/controls",
      "model_module_version": "1.5.0",
      "model_name": "DescriptionStyleModel",
      "state": {
       "description_width": ""
      }
     },
     "f20f31a04ca646aead57a9fa9a0eab65": {
      "model_module": "@jupyter-widgets/controls",
      "model_module_version": "1.5.0",
      "model_name": "SliderStyleModel",
      "state": {
       "description_width": ""
      }
     },
     "f223c7d886294225be0b4cb6d842a989": {
      "model_module": "@jupyter-widgets/controls",
      "model_module_version": "1.5.0",
      "model_name": "SliderStyleModel",
      "state": {
       "description_width": ""
      }
     },
     "f2282812a130441eac41b660ee49477d": {
      "model_module": "@jupyter-widgets/controls",
      "model_module_version": "1.5.0",
      "model_name": "ButtonModel",
      "state": {
       "description": "Save changes",
       "layout": "IPY_MODEL_37be1e18450a48628dc1cfe7889e3ae0",
       "style": "IPY_MODEL_ae49ac24f7d94cbea0a0b653a87d4b7d"
      }
     },
     "f26688f6c93d449ca3039c51f092914f": {
      "model_module": "@jupyter-widgets/controls",
      "model_module_version": "1.5.0",
      "model_name": "ButtonStyleModel",
      "state": {}
     },
     "f2740e7d55304da5b92addaba9f46791": {
      "model_module": "@jupyter-widgets/controls",
      "model_module_version": "1.5.0",
      "model_name": "TextModel",
      "state": {
       "continuous_update": false,
       "description": "name",
       "layout": "IPY_MODEL_9915bfe8a73a4ccab7d287b3385f6115",
       "style": "IPY_MODEL_6ffd3972526c43f5977af4b0b2029a29",
       "value": "apex"
      }
     },
     "f2a5aa5ff05a4e369a4aa1886f23f400": {
      "model_module": "@jupyter-widgets/controls",
      "model_module_version": "1.5.0",
      "model_name": "SliderStyleModel",
      "state": {
       "description_width": ""
      }
     },
     "f2c1729018b749dc825f727cf95f0163": {
      "model_module": "@jupyter-widgets/controls",
      "model_module_version": "1.5.0",
      "model_name": "TextModel",
      "state": {
       "layout": "IPY_MODEL_a0c0376ddf624c66a5d12384bfc7b96f",
       "placeholder": "category name",
       "style": "IPY_MODEL_6275cdb1a22040fd844c2deb6ab44a03"
      }
     },
     "f2ce19fc1a01412bb35dc2f4381a068b": {
      "model_module": "@jupyter-widgets/controls",
      "model_module_version": "1.5.0",
      "model_name": "DescriptionStyleModel",
      "state": {
       "description_width": ""
      }
     },
     "f2cedfd93f164c5997b034682b7dd6d1": {
      "model_module": "@jupyter-widgets/base",
      "model_module_version": "1.2.0",
      "model_name": "LayoutModel",
      "state": {}
     },
     "f33af95ef58846bf8df866296877a85b": {
      "model_module": "@jupyter-widgets/controls",
      "model_module_version": "1.5.0",
      "model_name": "HBoxModel",
      "state": {
       "children": [
        "IPY_MODEL_585fc48c58fd48cb974017172fb63f8c"
       ],
       "layout": "IPY_MODEL_5a6aab1bb709492da4f69389f9069c24"
      }
     },
     "f364d80a738d4f4a84c272cef9cd3e68": {
      "model_module": "@jupyter-widgets/controls",
      "model_module_version": "1.5.0",
      "model_name": "TextModel",
      "state": {
       "continuous_update": false,
       "description": "name",
       "layout": "IPY_MODEL_c70724b373544707a8ceb6ea34ead215",
       "style": "IPY_MODEL_f5bfbe34070d48409e2eb89df0aaa1dc",
       "value": "color_2"
      }
     },
     "f3a5d74515114615b5d451bc8e5d23f5": {
      "model_module": "@jupyter-widgets/controls",
      "model_module_version": "1.5.0",
      "model_name": "ButtonStyleModel",
      "state": {}
     },
     "f3b5f46f7b7c466baaef384604030357": {
      "model_module": "@jupyter-widgets/base",
      "model_module_version": "1.2.0",
      "model_name": "LayoutModel",
      "state": {}
     },
     "f3c024e88d6640b3b187291687dc790d": {
      "model_module": "@jupyter-widgets/base",
      "model_module_version": "1.2.0",
      "model_name": "LayoutModel",
      "state": {}
     },
     "f3d619e4ec8a4de8bac00cda89fa6f4f": {
      "model_module": "@jupyter-widgets/controls",
      "model_module_version": "1.5.0",
      "model_name": "DescriptionStyleModel",
      "state": {
       "description_width": ""
      }
     },
     "f3ecc66415384a3b93c8afe5ca93b8f6": {
      "model_module": "@jupyter-widgets/base",
      "model_module_version": "1.2.0",
      "model_name": "LayoutModel",
      "state": {}
     },
     "f3f2dbabf14c4ce7bc023cc0ac7e2774": {
      "model_module": "@jupyter-widgets/base",
      "model_module_version": "1.2.0",
      "model_name": "LayoutModel",
      "state": {}
     },
     "f41d2bc09ad24d97b1e0e97f75537487": {
      "model_module": "@jupyter-widgets/base",
      "model_module_version": "1.2.0",
      "model_name": "LayoutModel",
      "state": {}
     },
     "f41ebca09dd94958b840510087992ffe": {
      "model_module": "@jupyter-widgets/base",
      "model_module_version": "1.2.0",
      "model_name": "LayoutModel",
      "state": {
       "margin": "20px 0px"
      }
     },
     "f4bdb1ac62ae4f1ba65cb9bfe80e8b50": {
      "model_module": "@jupyter-widgets/controls",
      "model_module_version": "1.5.0",
      "model_name": "HBoxModel",
      "state": {
       "children": [
        "IPY_MODEL_b4eb01c447064278a10e95e371e491b5",
        "IPY_MODEL_368bf31b2cd549b2949bece28e1205ad"
       ],
       "layout": "IPY_MODEL_3859230710584fe98955e85d63f45d07"
      }
     },
     "f4f2faa3af214fe2ad81b69860fda065": {
      "model_module": "@jupyter-widgets/base",
      "model_module_version": "1.2.0",
      "model_name": "LayoutModel",
      "state": {}
     },
     "f4f80c8cf6b444139f0df44cf6b171cc": {
      "model_module": "@jupyter-widgets/controls",
      "model_module_version": "1.5.0",
      "model_name": "ColorPickerModel",
      "state": {
       "description": "ambient",
       "disabled": false,
       "layout": "IPY_MODEL_b609d0249e3d49ada716ca64850e65b8",
       "style": "IPY_MODEL_57ba92c34a3c4d26a6098635e1484968",
       "value": "#5b4534"
      }
     },
     "f54b6bb1cd9047f2913448b18542023e": {
      "model_module": "@jupyter-widgets/base",
      "model_module_version": "1.2.0",
      "model_name": "LayoutModel",
      "state": {
       "flex_flow": "row wrap",
       "margin": "20px"
      }
     },
     "f5730ea7e7c64ddd832fe8d4f113f656": {
      "model_module": "@jupyter-widgets/controls",
      "model_module_version": "1.5.0",
      "model_name": "ColorPickerModel",
      "state": {
       "description": "ambient",
       "disabled": false,
       "layout": "IPY_MODEL_a5264762497747948922c606524ae042",
       "style": "IPY_MODEL_4045fe6afc194dcaa3f2c54427fa1745",
       "value": "#195717"
      }
     },
     "f5bfbe34070d48409e2eb89df0aaa1dc": {
      "model_module": "@jupyter-widgets/controls",
      "model_module_version": "1.5.0",
      "model_name": "DescriptionStyleModel",
      "state": {
       "description_width": ""
      }
     },
     "f5c031c73e2d41bf8b06494de1a94e89": {
      "model_module": "@jupyter-widgets/controls",
      "model_module_version": "1.5.0",
      "model_name": "ButtonStyleModel",
      "state": {}
     },
     "f5d36d54332540779b373371ce91389e": {
      "model_module": "@jupyter-widgets/base",
      "model_module_version": "1.2.0",
      "model_name": "LayoutModel",
      "state": {
       "flex_flow": "row wrap"
      }
     },
     "f600a6ae2e384964b8cef48223b138d5": {
      "model_module": "@jupyter-widgets/controls",
      "model_module_version": "1.5.0",
      "model_name": "TextModel",
      "state": {
       "continuous_update": false,
       "description": "name",
       "layout": "IPY_MODEL_1910124b79a9485da861e6e0c1762d37",
       "style": "IPY_MODEL_fc73aa7236da431dac7ba2b4a124ad11",
       "value": "trunk"
      }
     },
     "f6729743e45f4de5a242dd5d165d2def": {
      "model_module": "@jupyter-widgets/controls",
      "model_module_version": "1.5.0",
      "model_name": "HBoxModel",
      "state": {
       "children": [
        "IPY_MODEL_beaddf86b7f44cc299563ba4d42805ac",
        "IPY_MODEL_28691dd4baba4a50be1bed6f5dc13469"
       ],
       "layout": "IPY_MODEL_9686a9ec1f724f7b9f1afc42c755dcf4"
      }
     },
     "f6831da68c52444e88220f9ed6ef5b40": {
      "model_module": "@jupyter-widgets/controls",
      "model_module_version": "1.5.0",
      "model_name": "DescriptionStyleModel",
      "state": {
       "description_width": ""
      }
     },
     "f6877ba37bef4c718f9ad54a1dee9c7e": {
      "model_module": "@jupyter-widgets/controls",
      "model_module_version": "1.5.0",
      "model_name": "VBoxModel",
      "state": {
       "children": [
        "IPY_MODEL_5872ea4882c74993af9862d9a8bfcb9f",
        "IPY_MODEL_20298b4a168141e9be68094a28287409",
        "IPY_MODEL_ebac3b19d9ab409d9c42b53d972811e3",
        "IPY_MODEL_e7e58753b42f479c87b45106eebaf7d8",
        "IPY_MODEL_cbb885bb9b4c46c4a535abf50628efc5"
       ],
       "layout": "IPY_MODEL_c2ea397318574d91a49746ced9e8db1a"
      }
     },
     "f68ef37f8ced4c228aca91904f273ad4": {
      "model_module": "@jupyter-widgets/controls",
      "model_module_version": "1.5.0",
      "model_name": "DescriptionStyleModel",
      "state": {
       "description_width": ""
      }
     },
     "f6bd143eb72a4021a9ee1d0db9b45016": {
      "model_module": "@jupyter-widgets/controls",
      "model_module_version": "1.5.0",
      "model_name": "FloatTextModel",
      "state": {
       "description": "min",
       "layout": "IPY_MODEL_340f0dbc98ff42bda049e2e8bbb7b838",
       "step": null,
       "style": "IPY_MODEL_7ee5793271fa419b8cf938c7cdd42829",
       "value": 0.01
      }
     },
     "f6c4882c37f6475dbcdbc12bd7155a7c": {
      "model_module": "@jupyter-widgets/base",
      "model_module_version": "1.2.0",
      "model_name": "LayoutModel",
      "state": {}
     },
     "f6d0532b4d034ab5add8a942c8036f27": {
      "model_module": "@jupyter-widgets/controls",
      "model_module_version": "1.5.0",
      "model_name": "SliderStyleModel",
      "state": {
       "description_width": ""
      }
     },
     "f6f979e7e2c640148f7ccf33cc3b0980": {
      "model_module": "@jupyter-widgets/base",
      "model_module_version": "1.2.0",
      "model_name": "LayoutModel",
      "state": {
       "margin": "20px 0px"
      }
     },
     "f760108295804b51a12e98b907147ca4": {
      "model_module": "@jupyter-widgets/controls",
      "model_module_version": "1.5.0",
      "model_name": "HBoxModel",
      "state": {
       "children": [
        "IPY_MODEL_060b0a3a5fe149d88da37110e7fd99dd",
        "IPY_MODEL_f2c1729018b749dc825f727cf95f0163"
       ],
       "layout": "IPY_MODEL_1cf4a392c16e40a5af323f7c787ca26d"
      }
     },
     "f780df8385f34042a1e45373f0ef9cbc": {
      "model_module": "@jupyter-widgets/controls",
      "model_module_version": "1.5.0",
      "model_name": "DescriptionStyleModel",
      "state": {
       "description_width": ""
      }
     },
     "f786377f3c8f4c4db4d47255efae9e90": {
      "model_module": "@jupyter-widgets/base",
      "model_module_version": "1.2.0",
      "model_name": "LayoutModel",
      "state": {}
     },
     "f78af31ccb8c4fa6988f852a049c17d8": {
      "model_module": "pgljupyter",
      "model_module_version": "^0.1.18",
      "model_name": "MaterialEditorModel",
      "state": {
       "_model_module_version": "^0.1.18",
       "_view_module_version": "^0.1.18",
       "children": [
        "IPY_MODEL_e0797b2efbd349b591c26c07ddceb9b9",
        "IPY_MODEL_b3ab021d6df046ceb59289797f1e4f25",
        "IPY_MODEL_1381a5f505a041c5a6944ee0787a8c0c",
        "IPY_MODEL_86e5d6226409410ea3e7aff87df7c57d",
        "IPY_MODEL_304e2cc8f62a4765b62a59138286ab58",
        "IPY_MODEL_1ef74d1c41b24007821a052f50da2c9f",
        "IPY_MODEL_850aea0efb99435baa77c0a116afa497",
        "IPY_MODEL_2ba15c3936ee4dd3a35e1ac8b8710c9d"
       ],
       "layout": "IPY_MODEL_d472e1655a9444f0b18024002a8daeb0"
      }
     },
     "f7a150d82f6d40e4934ef1a89819382f": {
      "model_module": "@jupyter-widgets/base",
      "model_module_version": "1.2.0",
      "model_name": "LayoutModel",
      "state": {}
     },
     "f7ff34c66d4b431c8d7a458913ac23de": {
      "model_module": "@jupyter-widgets/base",
      "model_module_version": "1.2.0",
      "model_name": "LayoutModel",
      "state": {
       "flex_flow": "row wrap",
       "margin": "20px"
      }
     },
     "f809bb47cbf94d079b9331253cf0b41b": {
      "model_module": "@jupyter-widgets/base",
      "model_module_version": "1.2.0",
      "model_name": "LayoutModel",
      "state": {}
     },
     "f826609262fd40cb852fc2f4bd691b74": {
      "model_module": "@jupyter-widgets/base",
      "model_module_version": "1.2.0",
      "model_name": "LayoutModel",
      "state": {}
     },
     "f834a6370cbe4f55b43168d73475ea6e": {
      "model_module": "@jupyter-widgets/controls",
      "model_module_version": "1.5.0",
      "model_name": "HBoxModel",
      "state": {
       "children": [
        "IPY_MODEL_aa07377abfb5489ca39018eb747fddb6",
        "IPY_MODEL_58b01411a162470783fbaaa91028104c"
       ],
       "layout": "IPY_MODEL_7e4f103663654092a3b6f3f18908d2a4"
      }
     },
     "f83dfb11eba54161877d623ec09906b5": {
      "model_module": "@jupyter-widgets/base",
      "model_module_version": "1.2.0",
      "model_name": "LayoutModel",
      "state": {
       "flex_flow": "row wrap"
      }
     },
     "f84fb842bfdc4ca69b673ea45abcdf91": {
      "model_module": "@jupyter-widgets/base",
      "model_module_version": "1.2.0",
      "model_name": "LayoutModel",
      "state": {
       "flex_flow": "row wrap",
       "margin": "20px"
      }
     },
     "f869d0c8c4644edf9a72e7f0721d5ba9": {
      "model_module": "@jupyter-widgets/base",
      "model_module_version": "1.2.0",
      "model_name": "LayoutModel",
      "state": {}
     },
     "f8b573f681b34435b46c31918778cf1a": {
      "model_module": "@jupyter-widgets/base",
      "model_module_version": "1.2.0",
      "model_name": "LayoutModel",
      "state": {}
     },
     "f8bb53ae98a6404eb9fbd8309f221e79": {
      "model_module": "@jupyter-widgets/controls",
      "model_module_version": "1.5.0",
      "model_name": "DescriptionStyleModel",
      "state": {
       "description_width": ""
      }
     },
     "f8bc8a94e6fc4a96a7ccd3d239c789b6": {
      "model_module": "@jupyter-widgets/base",
      "model_module_version": "1.2.0",
      "model_name": "LayoutModel",
      "state": {}
     },
     "f8c2776590214d378e6d1f0790fa3fda": {
      "model_module": "@jupyter-widgets/controls",
      "model_module_version": "1.5.0",
      "model_name": "ButtonStyleModel",
      "state": {}
     },
     "f8e8217ad4ff42db874a2be04d88d09c": {
      "model_module": "@jupyter-widgets/base",
      "model_module_version": "1.2.0",
      "model_name": "LayoutModel",
      "state": {}
     },
     "f958a1e7a32245119bf98c95905da1a2": {
      "model_module": "@jupyter-widgets/controls",
      "model_module_version": "1.5.0",
      "model_name": "ColorPickerModel",
      "state": {
       "description": "specular",
       "disabled": false,
       "layout": "IPY_MODEL_9b552c4d5fcb4cb5a27ef472c8be80f2",
       "style": "IPY_MODEL_537f1d906667422699e2fce4b5f31496",
       "value": "#282828"
      }
     },
     "f99d51312e7442a1b3f60bf6fe6b16a1": {
      "model_module": "pgljupyter",
      "model_module_version": "^0.1.20",
      "model_name": "MaterialEditorModel",
      "state": {
       "_model_module_version": "^0.1.20",
       "_view_module_version": "^0.1.20",
       "children": [
        "IPY_MODEL_24ef567daf684583a1b9719c63a29065",
        "IPY_MODEL_bea75cda8f8442a1a38a4e847733c703",
        "IPY_MODEL_c2205a0d7c964b6c8ed4a89cd19b8f92",
        "IPY_MODEL_891e2f6c24e942aa819fd94be0793970",
        "IPY_MODEL_d52fd3cce3b24ccfb6f4046c55f71e0a",
        "IPY_MODEL_d11c5f9a64894e40b64687ac16f2ba0a",
        "IPY_MODEL_c76ff38eb79648c091c2640ae5686f89",
        "IPY_MODEL_f00939b02b1b481eaf4beed6c5699d1f"
       ],
       "layout": "IPY_MODEL_51585e2af8b345d584039f57e61a325f"
      }
     },
     "f9d90d05276440c2b0ff25f4cf787f32": {
      "model_module": "@jupyter-widgets/controls",
      "model_module_version": "1.5.0",
      "model_name": "DescriptionStyleModel",
      "state": {
       "description_width": ""
      }
     },
     "f9ee036e79134257a314bedd8f10beed": {
      "model_module": "@jupyter-widgets/controls",
      "model_module_version": "1.5.0",
      "model_name": "HBoxModel",
      "state": {
       "children": [
        "IPY_MODEL_40b8836f5c9a48a5a579b8ab931ba7aa",
        "IPY_MODEL_0dfd63902b034d3a9cf7782c9e751b71"
       ],
       "layout": "IPY_MODEL_9424c3010f3348a9bc112e2fabf01dd9"
      }
     },
     "fa3fcbaf866c47d0a6ee55fb9125c3d4": {
      "model_module": "@jupyter-widgets/controls",
      "model_module_version": "1.5.0",
      "model_name": "FloatSliderModel",
      "state": {
       "description": "shininess",
       "layout": "IPY_MODEL_0493264d976c421cbf4fe203f92091da",
       "max": 1,
       "step": 0.1,
       "style": "IPY_MODEL_19c0e5bf37c2495dba13da8f747c69e9",
       "value": 0.2
      }
     },
     "fa6085381b324435aa9032f0b10413fd": {
      "model_module": "@jupyter-widgets/base",
      "model_module_version": "1.2.0",
      "model_name": "LayoutModel",
      "state": {
       "margin": "20px 0px"
      }
     },
     "fa78c56a5cee470db3de6e4fe2ec4481": {
      "model_module": "@jupyter-widgets/controls",
      "model_module_version": "1.5.0",
      "model_name": "IntSliderModel",
      "state": {
       "description": "value",
       "layout": "IPY_MODEL_9e9b6175f07b4b388b45284c5be91fe8",
       "max": 7,
       "min": 1,
       "style": "IPY_MODEL_200bbcd159c24386b1e2e9fe9c914ff7",
       "value": 3
      }
     },
     "fab3da10c1de4f6599d1614193ca639f": {
      "model_module": "@jupyter-widgets/controls",
      "model_module_version": "1.5.0",
      "model_name": "ButtonModel",
      "state": {
       "description": "Add",
       "layout": "IPY_MODEL_2e48c81795b64dcba33d064847595389",
       "style": "IPY_MODEL_e313ecd7771845129142078320e10db3"
      }
     },
     "fafd54646a864f0485ae172b9494da07": {
      "model_module": "@jupyter-widgets/controls",
      "model_module_version": "1.5.0",
      "model_name": "ButtonModel",
      "state": {
       "description": "Save changes",
       "layout": "IPY_MODEL_8c8cef7c9f7e4f1e84b0cd4319df23e7",
       "style": "IPY_MODEL_ad4777c7b26e4dc686420550608d2f12"
      }
     },
     "fb0c1e5b61d44683adf9f59f2d517439": {
      "model_module": "@jupyter-widgets/controls",
      "model_module_version": "1.5.0",
      "model_name": "ColorPickerModel",
      "state": {
       "description": "ambient",
       "disabled": false,
       "layout": "IPY_MODEL_c9e51a7855744cacbf121c9bb896cf32",
       "style": "IPY_MODEL_7cf3624548d34c2082dbac79e56a76bf",
       "value": "#195717"
      }
     },
     "fb1b6686319348cb96f3381131e638e7": {
      "model_module": "@jupyter-widgets/base",
      "model_module_version": "1.2.0",
      "model_name": "LayoutModel",
      "state": {}
     },
     "fb261447b1394430bbc4cbcda7f7c31a": {
      "model_module": "@jupyter-widgets/base",
      "model_module_version": "1.2.0",
      "model_name": "LayoutModel",
      "state": {}
     },
     "fb273117bed744e4a7d3e39c85368d3d": {
      "model_module": "pgljupyter",
      "model_module_version": "^0.1.19",
      "model_name": "MaterialEditorModel",
      "state": {
       "_model_module_version": "^0.1.19",
       "_view_module_version": "^0.1.19",
       "children": [
        "IPY_MODEL_bed12060ceba4494bf43652e512c3823",
        "IPY_MODEL_2bc76f78cd2740a6bbf7d58fd5b203a9",
        "IPY_MODEL_60b848e0a9d44febb7a1d3a68a4ed857",
        "IPY_MODEL_c92b975754c040e5b82b402ea1415e65",
        "IPY_MODEL_c215c775706940698bf97b3b703c91da",
        "IPY_MODEL_170f6b615a774635b281c9b6e87c2707",
        "IPY_MODEL_171326388f714eb48b0fdd7eb080c8b2",
        "IPY_MODEL_3c36699284b54bd483272ff26ed52203"
       ],
       "layout": "IPY_MODEL_1e3f2f62b72846cc8fb09a7e9d3f906d"
      }
     },
     "fb438b1cc1484336bb3533aa50de8e15": {
      "model_module": "@jupyter-widgets/base",
      "model_module_version": "1.2.0",
      "model_name": "LayoutModel",
      "state": {}
     },
     "fb7df1f7b61a4ed2818a12f94a3168c4": {
      "model_module": "@jupyter-widgets/controls",
      "model_module_version": "1.5.0",
      "model_name": "DescriptionStyleModel",
      "state": {
       "description_width": ""
      }
     },
     "fb890f35eb7342de80f4cca03a20aba6": {
      "model_module": "@jupyter-widgets/controls",
      "model_module_version": "1.5.0",
      "model_name": "DescriptionStyleModel",
      "state": {
       "description_width": ""
      }
     },
     "fc127ff6172e4b0984f4d7a91e171c32": {
      "model_module": "@jupyter-widgets/controls",
      "model_module_version": "1.5.0",
      "model_name": "FloatSliderModel",
      "state": {
       "description": "transparency",
       "layout": "IPY_MODEL_97afb2960e67464ebd0ea7e768317b03",
       "max": 1,
       "step": 0.1,
       "style": "IPY_MODEL_8345834e21f741efb76cf84afc82297c"
      }
     },
     "fc285204d80d4fe587b6c0d1e1042610": {
      "model_module": "@jupyter-widgets/controls",
      "model_module_version": "1.5.0",
      "model_name": "DescriptionStyleModel",
      "state": {
       "description_width": ""
      }
     },
     "fc73aa7236da431dac7ba2b4a124ad11": {
      "model_module": "@jupyter-widgets/controls",
      "model_module_version": "1.5.0",
      "model_name": "DescriptionStyleModel",
      "state": {
       "description_width": ""
      }
     },
     "fc7845240a5a42389a89509a28eb34dd": {
      "model_module": "@jupyter-widgets/controls",
      "model_module_version": "1.5.0",
      "model_name": "DescriptionStyleModel",
      "state": {
       "description_width": ""
      }
     },
     "fcb10f0aee304daf943e423fda4b86f2": {
      "model_module": "@jupyter-widgets/controls",
      "model_module_version": "1.5.0",
      "model_name": "ColorPickerModel",
      "state": {
       "description": "emission",
       "disabled": false,
       "layout": "IPY_MODEL_b2f08df3f7bb4655984473bbce30d2a8",
       "style": "IPY_MODEL_b1bea4580daf4865a4ab65528a99b960",
       "value": "#000000"
      }
     },
     "fcb828149d8b4587a737cf0adaca9f9c": {
      "model_module": "@jupyter-widgets/base",
      "model_module_version": "1.2.0",
      "model_name": "LayoutModel",
      "state": {}
     },
     "fcc4f1c9cd4740db81b92272d44020c6": {
      "model_module": "@jupyter-widgets/controls",
      "model_module_version": "1.5.0",
      "model_name": "ColorPickerModel",
      "state": {
       "description": "emission",
       "disabled": false,
       "layout": "IPY_MODEL_932905fe953a416bb495d9f6c2ffa4fe",
       "style": "IPY_MODEL_a8635d0de8634cffa50f768817ef709b",
       "value": "#000000"
      }
     },
     "fcdb0e54646c4bbbb1485f7cb42b4bbc": {
      "model_module": "@jupyter-widgets/controls",
      "model_module_version": "1.5.0",
      "model_name": "ButtonModel",
      "state": {
       "description": "Add",
       "layout": "IPY_MODEL_028403f5d1004d399f4c48bedf82c508",
       "style": "IPY_MODEL_c7ce13c027424623b6f2e99ab754ce1b"
      }
     },
     "fce01e4c69184a6aa0107d409c41700a": {
      "model_module": "@jupyter-widgets/controls",
      "model_module_version": "1.5.0",
      "model_name": "DescriptionStyleModel",
      "state": {
       "description_width": ""
      }
     },
     "fd08b70fb3e142cb98e6e66d7a86f160": {
      "model_module": "@jupyter-widgets/controls",
      "model_module_version": "1.5.0",
      "model_name": "DescriptionStyleModel",
      "state": {
       "description_width": ""
      }
     },
     "fd123b157eeb4540a7cc729aaa32ef3f": {
      "model_module": "@jupyter-widgets/controls",
      "model_module_version": "1.5.0",
      "model_name": "ButtonModel",
      "state": {
       "description": "Apply changes",
       "layout": "IPY_MODEL_8b9d8ab9579d479587514dba40ca7bcd",
       "style": "IPY_MODEL_907af94c6c2443389979483218e080ca"
      }
     },
     "fd273ce6761742148ac89669bc64d98d": {
      "model_module": "@jupyter-widgets/base",
      "model_module_version": "1.2.0",
      "model_name": "LayoutModel",
      "state": {
       "margin": "20px 0px"
      }
     },
     "fd39d26e27d246b281772663c5b0b1c0": {
      "model_module": "@jupyter-widgets/controls",
      "model_module_version": "1.5.0",
      "model_name": "DescriptionStyleModel",
      "state": {
       "description_width": ""
      }
     },
     "fd50b55e03484806aa3cae2a2541a1d3": {
      "model_module": "@jupyter-widgets/base",
      "model_module_version": "1.2.0",
      "model_name": "LayoutModel",
      "state": {}
     },
     "fdc7cdfb71c14e9f9ae8327b7e4919ce": {
      "model_module": "@jupyter-widgets/base",
      "model_module_version": "1.2.0",
      "model_name": "LayoutModel",
      "state": {}
     },
     "fdd783e8cd6f4152908064599bd69390": {
      "model_module": "@jupyter-widgets/base",
      "model_module_version": "1.2.0",
      "model_name": "LayoutModel",
      "state": {}
     },
     "fdfa37b789c94f49849c21a3d2bec28a": {
      "model_module": "@jupyter-widgets/base",
      "model_module_version": "1.2.0",
      "model_name": "LayoutModel",
      "state": {}
     },
     "fe19d3f5e3dc4cd99368775b1f16b8cc": {
      "model_module": "@jupyter-widgets/controls",
      "model_module_version": "1.5.0",
      "model_name": "ButtonStyleModel",
      "state": {}
     },
     "fe1ca6c5f8b149d586fe37d3f4c8d5df": {
      "model_module": "@jupyter-widgets/controls",
      "model_module_version": "1.5.0",
      "model_name": "ColorPickerModel",
      "state": {
       "description": "emission",
       "disabled": false,
       "layout": "IPY_MODEL_3ba93cb374114bc4a5fdc1c020fb99d2",
       "style": "IPY_MODEL_3036777e7fe24a1599267429c31acd12",
       "value": "#000000"
      }
     },
     "fe21590a178c49c09a36c5fb9b0fb406": {
      "model_module": "@jupyter-widgets/base",
      "model_module_version": "1.2.0",
      "model_name": "LayoutModel",
      "state": {
       "margin": "20px 0px"
      }
     },
     "fe39b8c3b9064292a4c361b7263a6c84": {
      "model_module": "@jupyter-widgets/controls",
      "model_module_version": "1.5.0",
      "model_name": "BoundedIntTextModel",
      "state": {
       "description": "index",
       "layout": "IPY_MODEL_2efed7a1fa88483699467354d3562b8e",
       "style": "IPY_MODEL_d152ff0131e44467aa1643fe2974e1b9",
       "value": 1
      }
     },
     "fe3f4751df8748c2bbaad9e702ecd866": {
      "model_module": "@jupyter-widgets/base",
      "model_module_version": "1.2.0",
      "model_name": "LayoutModel",
      "state": {
       "margin": "20px 0px"
      }
     },
     "fe47d6fcca4343b9b6744ef3bf3370a2": {
      "model_module": "@jupyter-widgets/controls",
      "model_module_version": "1.5.0",
      "model_name": "DescriptionStyleModel",
      "state": {
       "description_width": ""
      }
     },
     "fe6fc9b954504ac48e9ea7a8339c409b": {
      "model_module": "@jupyter-widgets/controls",
      "model_module_version": "1.5.0",
      "model_name": "FloatSliderModel",
      "state": {
       "description": "transparency",
       "layout": "IPY_MODEL_71bc512b2098424d90eb915826bf82e4",
       "max": 1,
       "step": 0.1,
       "style": "IPY_MODEL_94fe467575e84f10afa968e472e6294b"
      }
     },
     "fe77130544c74fea9c083f6b668bcfaf": {
      "model_module": "@jupyter-widgets/controls",
      "model_module_version": "1.5.0",
      "model_name": "DescriptionStyleModel",
      "state": {
       "description_width": ""
      }
     },
     "fe924468805c4aa4b1a13f57e745e092": {
      "model_module": "@jupyter-widgets/base",
      "model_module_version": "1.2.0",
      "model_name": "LayoutModel",
      "state": {}
     },
     "fe9595ab730a4f21a90e37b95c64eb35": {
      "model_module": "@jupyter-widgets/base",
      "model_module_version": "1.2.0",
      "model_name": "LayoutModel",
      "state": {}
     },
     "fece1e7f13bd475fac0ed48c8e36b25b": {
      "model_module": "@jupyter-widgets/controls",
      "model_module_version": "1.5.0",
      "model_name": "DropdownModel",
      "state": {
       "_options_labels": [
        "NurbsCurve2D",
        "BezierCurve2D",
        "Polyline2D",
        "Function"
       ],
       "index": 0,
       "layout": "IPY_MODEL_f3f2dbabf14c4ce7bc023cc0ac7e2774",
       "style": "IPY_MODEL_6eb1ab587c7b4b10b6c7a97e430683cf"
      }
     },
     "fed9460058884e208750ebcd25227db9": {
      "model_module": "@jupyter-widgets/controls",
      "model_module_version": "1.5.0",
      "model_name": "CheckboxModel",
      "state": {
       "description": "Auto apply",
       "disabled": false,
       "layout": "IPY_MODEL_7684bf627af64c99a1beb3e9c3800d93",
       "style": "IPY_MODEL_1f1df1d84cbd4198a124c637fd5a7782",
       "value": false
      }
     },
     "fef140b17815482fac4c6efc6accb2db": {
      "model_module": "@jupyter-widgets/controls",
      "model_module_version": "1.5.0",
      "model_name": "FloatSliderModel",
      "state": {
       "description": "shininess",
       "layout": "IPY_MODEL_23b2d84440ff41cdb3f1251c2c430172",
       "max": 1,
       "step": 0.1,
       "style": "IPY_MODEL_e7fc586047f245ce97a55030431cb070",
       "value": 0.2
      }
     },
     "fef2dad388044251aeb285ace627b9c7": {
      "model_module": "@jupyter-widgets/base",
      "model_module_version": "1.2.0",
      "model_name": "LayoutModel",
      "state": {}
     },
     "ff9430da97704faca4a5581d596a9844": {
      "model_module": "@jupyter-widgets/base",
      "model_module_version": "1.2.0",
      "model_name": "LayoutModel",
      "state": {}
     },
     "ff98df5ff2474c69a7b7ac98b28b5e0f": {
      "model_module": "@jupyter-widgets/controls",
      "model_module_version": "1.5.0",
      "model_name": "ButtonModel",
      "state": {
       "description": "Delete",
       "layout": "IPY_MODEL_3adc644fd9d942919096f3806a27c8f1",
       "style": "IPY_MODEL_3b114d7895634592920f7407242e59d9"
      }
     },
     "ffa7968d5369463eadff716d61ff8c15": {
      "model_module": "@jupyter-widgets/base",
      "model_module_version": "1.2.0",
      "model_name": "LayoutModel",
      "state": {}
     },
     "ffc34902c36642e1969fa8c466aeb653": {
      "model_module": "@jupyter-widgets/base",
      "model_module_version": "1.2.0",
      "model_name": "LayoutModel",
      "state": {
       "margin": "20px 0px"
      }
     },
     "ffd2e60a3312408a8134cc48bad3dece": {
      "model_module": "@jupyter-widgets/controls",
      "model_module_version": "1.5.0",
      "model_name": "FloatSliderModel",
      "state": {
       "description": "diffuse",
       "layout": "IPY_MODEL_9e2c5933bf4e4702ae54e16799be5b86",
       "max": 3,
       "step": 0.1,
       "style": "IPY_MODEL_1b23eb33720947ad81bbf0cc81ea07cf",
       "value": 1
      }
     },
     "ffd47b6cfe404097909f5f4870a7fc67": {
      "model_module": "@jupyter-widgets/controls",
      "model_module_version": "1.5.0",
      "model_name": "DescriptionStyleModel",
      "state": {
       "description_width": ""
      }
     },
     "ffe3a14526fc4001b47eb439d2875e4a": {
      "model_module": "@jupyter-widgets/controls",
      "model_module_version": "1.5.0",
      "model_name": "SliderStyleModel",
      "state": {
       "description_width": ""
      }
     },
     "fffdce2dbd3c478e87ffe3ab55ccfcaf": {
      "model_module": "@jupyter-widgets/base",
      "model_module_version": "1.2.0",
      "model_name": "LayoutModel",
      "state": {}
     }
    },
    "version_major": 2,
    "version_minor": 0
   }
  }
 },
 "nbformat": 4,
 "nbformat_minor": 4
}
