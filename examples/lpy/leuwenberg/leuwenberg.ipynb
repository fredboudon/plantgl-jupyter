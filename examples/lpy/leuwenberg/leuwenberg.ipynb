{
 "cells": [
  {
   "cell_type": "code",
   "execution_count": 1,
   "metadata": {},
   "outputs": [],
   "source": [
    "from pgljupyter import LsystemWidget"
   ]
  },
  {
   "cell_type": "code",
   "execution_count": 2,
   "metadata": {},
   "outputs": [],
   "source": [
    "lw = LsystemWidget('leuwenberg.lpy',\n",
    "    unit='m',\n",
    "    size_display=(600, 400),\n",
    "    size_world=50, animate=True\n",
    ")"
   ]
  },
  {
   "cell_type": "code",
   "execution_count": 3,
   "metadata": {},
   "outputs": [
    {
     "data": {
      "application/vnd.jupyter.widget-view+json": {
       "model_id": "e1404da5bac34c6d89711e040aeabc76",
       "version_major": 2,
       "version_minor": 0
      },
      "text/plain": [
       "LsystemWidget(animate=True, derivationLength=42, scene={'data': b'x\\xdaSLrw\\xf5\\xf7e`Pp\\xe0\\xe5RPVVde```be\\x08…"
      ]
     },
     "metadata": {},
     "output_type": "display_data"
    }
   ],
   "source": [
    "lw"
   ]
  },
  {
   "cell_type": "code",
   "execution_count": null,
   "metadata": {},
   "outputs": [],
   "source": [
    "lw.editor"
   ]
  },
  {
   "cell_type": "code",
   "execution_count": null,
   "metadata": {},
   "outputs": [],
   "source": []
  }
 ],
 "metadata": {
  "kernelspec": {
   "display_name": "Python 3",
   "language": "python",
   "name": "python3"
  },
  "language_info": {
   "codemirror_mode": {
    "name": "ipython",
    "version": 3
   },
   "file_extension": ".py",
   "mimetype": "text/x-python",
   "name": "python",
   "nbconvert_exporter": "python",
   "pygments_lexer": "ipython3",
   "version": "3.8.5"
  },
  "widgets": {
   "application/vnd.jupyter.widget-state+json": {
    "state": {
     "0003eef9dd3941f89ac65b920608e8dc": {
      "model_module": "@jupyter-widgets/controls",
      "model_module_version": "1.5.0",
      "model_name": "TextModel",
      "state": {
       "continuous_update": false,
       "description": "name",
       "layout": "IPY_MODEL_0d347c8d511c4ca99b99c3030263eb62",
       "style": "IPY_MODEL_0c375f6ffc5f415bbfbaa228315317b0",
       "value": "leafold"
      }
     },
     "0008873d24ed4fa3b871bc34051bd716": {
      "model_module": "@jupyter-widgets/controls",
      "model_module_version": "1.5.0",
      "model_name": "TextModel",
      "state": {
       "continuous_update": false,
       "description": "name",
       "layout": "IPY_MODEL_67555ffb059840dd83d40a952b22cf1d",
       "style": "IPY_MODEL_bfcd0c0f65914aef9be1c321c3bcf1e0",
       "value": "leafold"
      }
     },
     "0010fef821bc48b083984f720d45fe40": {
      "model_module": "@jupyter-widgets/controls",
      "model_module_version": "1.5.0",
      "model_name": "SliderStyleModel",
      "state": {
       "description_width": ""
      }
     },
     "004fe4bded924a9a932e3394f3befd69": {
      "model_module": "@jupyter-widgets/controls",
      "model_module_version": "1.5.0",
      "model_name": "IntSliderModel",
      "state": {
       "description": "value",
       "layout": "IPY_MODEL_66d7a1826e15429d8f8f2cf795ccb6c1",
       "max": 10,
       "min": 1,
       "style": "IPY_MODEL_d59eedfe91e040bd83b09d32a1718f4b",
       "value": 2
      }
     },
     "0095f53d7b9d447db6885939bd2cb620": {
      "model_module": "@jupyter-widgets/controls",
      "model_module_version": "1.5.0",
      "model_name": "DescriptionStyleModel",
      "state": {
       "description_width": ""
      }
     },
     "0098827af4e640a7995f79067eabb137": {
      "model_module": "@jupyter-widgets/controls",
      "model_module_version": "1.5.0",
      "model_name": "DescriptionStyleModel",
      "state": {
       "description_width": ""
      }
     },
     "00d6b976c7584356bc8ace10cc276390": {
      "model_module": "@jupyter-widgets/controls",
      "model_module_version": "1.5.0",
      "model_name": "FloatSliderModel",
      "state": {
       "description": "diffuse",
       "layout": "IPY_MODEL_d18e48c309db4852aa5cdc3da1012b6e",
       "max": 3,
       "step": 0.1,
       "style": "IPY_MODEL_5493e679c57d4a0689415a4a88aea275",
       "value": 1
      }
     },
     "0108f7fc56644931b6e9ab7e757df267": {
      "model_module": "@jupyter-widgets/controls",
      "model_module_version": "1.5.0",
      "model_name": "FloatSliderModel",
      "state": {
       "description": "transparency",
       "layout": "IPY_MODEL_9d18be69857d479da54872b16cad623b",
       "max": 1,
       "step": 0.1,
       "style": "IPY_MODEL_90f65d5e0f7d4ba297b91d7381a9b694"
      }
     },
     "0152374133564b448491bef7e0098d98": {
      "model_module": "@jupyter-widgets/base",
      "model_module_version": "1.2.0",
      "model_name": "LayoutModel",
      "state": {}
     },
     "015a0162e977482199ff9aa70a46096a": {
      "model_module": "@jupyter-widgets/controls",
      "model_module_version": "1.5.0",
      "model_name": "DescriptionStyleModel",
      "state": {
       "description_width": ""
      }
     },
     "01a9830728ff43debfe68c7ed9c0c0f1": {
      "model_module": "@jupyter-widgets/base",
      "model_module_version": "1.2.0",
      "model_name": "LayoutModel",
      "state": {}
     },
     "0241bcf8e4d449588382dcfa0fadf1f7": {
      "model_module": "@jupyter-widgets/controls",
      "model_module_version": "1.5.0",
      "model_name": "BoundedIntTextModel",
      "state": {
       "description": "index",
       "layout": "IPY_MODEL_3bd8c5155e614aa49b91b3ee03106bb8",
       "style": "IPY_MODEL_8b50cab205524c5684de777fe16b12c6",
       "value": 3
      }
     },
     "024c0a7ea2924ff5a9d4b4e8dd33f20f": {
      "model_module": "@jupyter-widgets/base",
      "model_module_version": "1.2.0",
      "model_name": "LayoutModel",
      "state": {}
     },
     "0263367b3ff344bcaffd73258d997ec2": {
      "model_module": "@jupyter-widgets/base",
      "model_module_version": "1.2.0",
      "model_name": "LayoutModel",
      "state": {}
     },
     "0265533bc3464ca7a91abeccee38a36a": {
      "model_module": "@jupyter-widgets/controls",
      "model_module_version": "1.5.0",
      "model_name": "DescriptionStyleModel",
      "state": {
       "description_width": ""
      }
     },
     "026723ae658e489db0402b1860155fde": {
      "model_module": "@jupyter-widgets/base",
      "model_module_version": "1.2.0",
      "model_name": "LayoutModel",
      "state": {}
     },
     "028403f5d1004d399f4c48bedf82c508": {
      "model_module": "@jupyter-widgets/base",
      "model_module_version": "1.2.0",
      "model_name": "LayoutModel",
      "state": {}
     },
     "02a935317d5e4652b323d2ec7d9e44eb": {
      "model_module": "@jupyter-widgets/controls",
      "model_module_version": "1.5.0",
      "model_name": "DropdownModel",
      "state": {
       "_options_labels": [
        "leafduration",
        "leafold"
       ],
       "index": 0,
       "layout": "IPY_MODEL_7c495f80dfa7400dbddaade48310293e",
       "style": "IPY_MODEL_7854ff74524f4fe689ec29f12ee822fa"
      }
     },
     "02cd8be6c855476f923f34ecaade3abd": {
      "model_module": "@jupyter-widgets/base",
      "model_module_version": "1.2.0",
      "model_name": "LayoutModel",
      "state": {}
     },
     "0300001a45404b209a36c5be9117a9b4": {
      "model_module": "@jupyter-widgets/controls",
      "model_module_version": "1.5.0",
      "model_name": "AccordionModel",
      "state": {
       "_titles": {
        "0": "materials",
        "1": "leaf"
       },
       "children": [
        "IPY_MODEL_edf9693f28bf40b480d44c9fe1f0e7bd",
        "IPY_MODEL_93e9e1a13f404740b06bcbb3b04fbbe8"
       ],
       "layout": "IPY_MODEL_83d1112a98b24ad985e153a4de2805d3"
      }
     },
     "0366a0590c4e4687a64fd5d1d1a58442": {
      "model_module": "@jupyter-widgets/controls",
      "model_module_version": "1.5.0",
      "model_name": "DescriptionStyleModel",
      "state": {
       "description_width": ""
      }
     },
     "039429b73bae419cac4d3913fcdbfdbc": {
      "model_module": "pgljupyter",
      "model_module_version": "^0.1.18",
      "model_name": "IntEditorModel",
      "state": {
       "_model_module_version": "^0.1.18",
       "_view_module_version": "^0.1.18",
       "children": [
        "IPY_MODEL_310624f7b16b4f028b5ca1be66aaddee",
        "IPY_MODEL_058f89ece3f44754b73b35d4bbeebeea"
       ],
       "layout": "IPY_MODEL_cdf37350d48b41aa95e2f22bc8635d1f"
      }
     },
     "03b7ff59bdfb45ae9fec96faf9e7b637": {
      "model_module": "@jupyter-widgets/controls",
      "model_module_version": "1.5.0",
      "model_name": "DescriptionStyleModel",
      "state": {
       "description_width": ""
      }
     },
     "03dfd11a2f0b4fb391e312128903d288": {
      "model_module": "@jupyter-widgets/base",
      "model_module_version": "1.2.0",
      "model_name": "LayoutModel",
      "state": {}
     },
     "0414cc8a90c64c448f20ab6c7de8a484": {
      "model_module": "@jupyter-widgets/controls",
      "model_module_version": "1.5.0",
      "model_name": "DropdownModel",
      "state": {
       "_options_labels": [
        "Color"
       ],
       "index": 0,
       "layout": "IPY_MODEL_d56364ff1cc441588f37f856b104fb7f",
       "style": "IPY_MODEL_69adca6b2b7d471ca668269a5c227e1f"
      }
     },
     "044e7d5484c34640988858fe96fcfdd6": {
      "model_module": "@jupyter-widgets/controls",
      "model_module_version": "1.5.0",
      "model_name": "DropdownModel",
      "state": {
       "_options_labels": [
        "NurbsCurve2D",
        "BezierCurve2D",
        "Polyline2D",
        "Function"
       ],
       "index": 0,
       "layout": "IPY_MODEL_29963b5130614ef58373b07536e44942",
       "style": "IPY_MODEL_8eb293d9f1ca49e4a0d8a5d438b925e5"
      }
     },
     "0493264d976c421cbf4fe203f92091da": {
      "model_module": "@jupyter-widgets/base",
      "model_module_version": "1.2.0",
      "model_name": "LayoutModel",
      "state": {}
     },
     "0499384873a04178a41a7a611d6d08dc": {
      "model_module": "@jupyter-widgets/base",
      "model_module_version": "1.2.0",
      "model_name": "LayoutModel",
      "state": {}
     },
     "04bf48cf21fd4ef3b2fc2c87f891da0a": {
      "model_module": "@jupyter-widgets/base",
      "model_module_version": "1.2.0",
      "model_name": "LayoutModel",
      "state": {}
     },
     "04c46391563944e09f827e89ec2715fa": {
      "model_module": "@jupyter-widgets/base",
      "model_module_version": "1.2.0",
      "model_name": "LayoutModel",
      "state": {}
     },
     "04cbb9188a174a70bb551de95a1ec0a3": {
      "model_module": "@jupyter-widgets/controls",
      "model_module_version": "1.5.0",
      "model_name": "ButtonModel",
      "state": {
       "description": "Apply changes",
       "layout": "IPY_MODEL_ef8bbf3c99984ea7a0ada6febc787943",
       "style": "IPY_MODEL_cc25751e00dd443fb5153b58575d586f"
      }
     },
     "04fd9850624b45509d3404170dfb2b93": {
      "model_module": "@jupyter-widgets/controls",
      "model_module_version": "1.5.0",
      "model_name": "HBoxModel",
      "state": {
       "children": [
        "IPY_MODEL_83f82817d8894598b39eea4838260197",
        "IPY_MODEL_3bcea9f32a2f480c95fd4897749b2ca9"
       ],
       "layout": "IPY_MODEL_df696dde9f0e41c2be1075f4577638d5"
      }
     },
     "05158b063b184ffe96c65e42e171536a": {
      "model_module": "@jupyter-widgets/base",
      "model_module_version": "1.2.0",
      "model_name": "LayoutModel",
      "state": {}
     },
     "055dec0cea5041829e855a22e1086bb8": {
      "model_module": "@jupyter-widgets/base",
      "model_module_version": "1.2.0",
      "model_name": "LayoutModel",
      "state": {}
     },
     "057fc401feeb40d0858ffb015d0b71f2": {
      "model_module": "@jupyter-widgets/base",
      "model_module_version": "1.2.0",
      "model_name": "LayoutModel",
      "state": {
       "margin": "20px 0px"
      }
     },
     "058c249a39c04bedbadbabfd56c8cbca": {
      "model_module": "@jupyter-widgets/controls",
      "model_module_version": "1.5.0",
      "model_name": "ColorPickerModel",
      "state": {
       "description": "ambient",
       "disabled": false,
       "layout": "IPY_MODEL_16cce7023d354ddfba60e067833ebb2b",
       "style": "IPY_MODEL_f9d90d05276440c2b0ff25f4cf787f32",
       "value": "#e1a014"
      }
     },
     "058f89ece3f44754b73b35d4bbeebeea": {
      "model_module": "@jupyter-widgets/controls",
      "model_module_version": "1.5.0",
      "model_name": "IntSliderModel",
      "state": {
       "description": "value",
       "layout": "IPY_MODEL_28dbfeb66b4146699787fc4516f4869c",
       "max": 10,
       "min": 1,
       "style": "IPY_MODEL_6606341d02fc439dbd25cdd30951c0c4",
       "value": 2
      }
     },
     "05a5ce6fe609440eaac4fb1a88000fa7": {
      "model_module": "@jupyter-widgets/controls",
      "model_module_version": "1.5.0",
      "model_name": "DescriptionStyleModel",
      "state": {
       "description_width": ""
      }
     },
     "060b0a3a5fe149d88da37110e7fd99dd": {
      "model_module": "@jupyter-widgets/controls",
      "model_module_version": "1.5.0",
      "model_name": "ButtonModel",
      "state": {
       "description": "Add category",
       "layout": "IPY_MODEL_203311275276426398b1e3c34669b385",
       "style": "IPY_MODEL_dd91341438fb460cb5355fac879a754e"
      }
     },
     "065f562240b640f2ae0d150761123893": {
      "model_module": "@jupyter-widgets/controls",
      "model_module_version": "1.5.0",
      "model_name": "SliderStyleModel",
      "state": {
       "description_width": ""
      }
     },
     "06a4c0bb621c49b0a886a6f2d4b71f84": {
      "model_module": "@jupyter-widgets/controls",
      "model_module_version": "1.5.0",
      "model_name": "BoundedIntTextModel",
      "state": {
       "description": "step",
       "layout": "IPY_MODEL_7015fbbda9c047b391aecaeef63cd104",
       "min": 1,
       "style": "IPY_MODEL_1a8e5e8102f24f6788a2e4825cfd5527",
       "value": 1
      }
     },
     "06c676714abc45c2bd668d409b3f913f": {
      "model_module": "@jupyter-widgets/base",
      "model_module_version": "1.2.0",
      "model_name": "LayoutModel",
      "state": {}
     },
     "06da4c288f8b48efae9708615015dd07": {
      "model_module": "@jupyter-widgets/controls",
      "model_module_version": "1.5.0",
      "model_name": "ColorPickerModel",
      "state": {
       "description": "emission",
       "disabled": false,
       "layout": "IPY_MODEL_b2dff12eb7f74161896fad4ff14e216e",
       "style": "IPY_MODEL_5b06ffa55f8c4305b3bf43c5d33fe5f6",
       "value": "#000000"
      }
     },
     "0728179a541f413fa5aae643b0fd424c": {
      "model_module": "@jupyter-widgets/base",
      "model_module_version": "1.2.0",
      "model_name": "LayoutModel",
      "state": {}
     },
     "077c655a00ab41bb91239523d5e0bf21": {
      "model_module": "@jupyter-widgets/controls",
      "model_module_version": "1.5.0",
      "model_name": "ColorPickerModel",
      "state": {
       "description": "emission",
       "disabled": false,
       "layout": "IPY_MODEL_b5ad4c581bca4efb9e0e4e91dd0fc2fd",
       "style": "IPY_MODEL_3b8516e57df04b72aa4033410b7cc6fb",
       "value": "#000000"
      }
     },
     "0878b557ddb746429eeb675a0056475d": {
      "model_module": "@jupyter-widgets/base",
      "model_module_version": "1.2.0",
      "model_name": "LayoutModel",
      "state": {}
     },
     "08a086db9f984b649195bfba6e845663": {
      "model_module": "@jupyter-widgets/base",
      "model_module_version": "1.2.0",
      "model_name": "LayoutModel",
      "state": {}
     },
     "08c9c604a4d44fa3be0d38a0cee344e7": {
      "model_module": "@jupyter-widgets/controls",
      "model_module_version": "1.5.0",
      "model_name": "ButtonModel",
      "state": {
       "description": "Apply changes",
       "layout": "IPY_MODEL_0878b557ddb746429eeb675a0056475d",
       "style": "IPY_MODEL_a9567de3ebd14a1ea85f21b1ea294e13"
      }
     },
     "09963fa2ce5e420ab1d9fea614e93db0": {
      "model_module": "pgljupyter",
      "model_module_version": "^0.1.18",
      "model_name": "ParameterEditorModel",
      "state": {
       "_model_module_version": "^0.1.18",
       "_view_module_version": "^0.1.18",
       "children": [
        "IPY_MODEL_49142d5fe84f451ca57bf7979546be3b"
       ],
       "layout": "IPY_MODEL_72233f9b078644c7b23019e335582338"
      }
     },
     "09ab73e88d6a48cf971284095d2d93ee": {
      "model_module": "@jupyter-widgets/controls",
      "model_module_version": "1.5.0",
      "model_name": "SliderStyleModel",
      "state": {
       "description_width": ""
      }
     },
     "09b8c80f45194de3b8dde10dedf91332": {
      "model_module": "@jupyter-widgets/controls",
      "model_module_version": "1.5.0",
      "model_name": "SliderStyleModel",
      "state": {
       "description_width": ""
      }
     },
     "09b9272d2fe1478a8549297784bc14dc": {
      "model_module": "@jupyter-widgets/base",
      "model_module_version": "1.2.0",
      "model_name": "LayoutModel",
      "state": {}
     },
     "09d6bc5c5f48421884c5070738ff6283": {
      "model_module": "@jupyter-widgets/controls",
      "model_module_version": "1.5.0",
      "model_name": "ButtonStyleModel",
      "state": {}
     },
     "09f0b20c3d9a4a7b8d6f767b7e7153d6": {
      "model_module": "@jupyter-widgets/base",
      "model_module_version": "1.2.0",
      "model_name": "LayoutModel",
      "state": {}
     },
     "09fe84e4c04243fdb4d5769ae0bf8f00": {
      "model_module": "@jupyter-widgets/base",
      "model_module_version": "1.2.0",
      "model_name": "LayoutModel",
      "state": {}
     },
     "09fefb88b02d40be9097130da4296139": {
      "model_module": "@jupyter-widgets/controls",
      "model_module_version": "1.5.0",
      "model_name": "DescriptionStyleModel",
      "state": {
       "description_width": ""
      }
     },
     "0a200097686c4829bf34b9b3a60ec5a8": {
      "model_module": "@jupyter-widgets/controls",
      "model_module_version": "1.5.0",
      "model_name": "DescriptionStyleModel",
      "state": {
       "description_width": ""
      }
     },
     "0a40116d2d3a429698a87f2d38fdcbf3": {
      "model_module": "@jupyter-widgets/base",
      "model_module_version": "1.2.0",
      "model_name": "LayoutModel",
      "state": {}
     },
     "0a5f03bd97534a8ca13154d454ca0303": {
      "model_module": "@jupyter-widgets/base",
      "model_module_version": "1.2.0",
      "model_name": "LayoutModel",
      "state": {}
     },
     "0a8707e65f2346558a9ab598cc46de95": {
      "model_module": "@jupyter-widgets/controls",
      "model_module_version": "1.5.0",
      "model_name": "DescriptionStyleModel",
      "state": {
       "description_width": ""
      }
     },
     "0aafc59276204d4698648b7214e955f0": {
      "model_module": "@jupyter-widgets/controls",
      "model_module_version": "1.5.0",
      "model_name": "FloatSliderModel",
      "state": {
       "description": "shininess",
       "layout": "IPY_MODEL_8f5d620157024ed59ea59efe6b680541",
       "max": 1,
       "step": 0.1,
       "style": "IPY_MODEL_edf855758a43462cb032faf769489da2",
       "value": 0.2
      }
     },
     "0adb42962e0d46d8a508e6187f7b3e19": {
      "model_module": "@jupyter-widgets/controls",
      "model_module_version": "1.5.0",
      "model_name": "ButtonStyleModel",
      "state": {}
     },
     "0aea6c9bfdb24c3a9046b8a0c0ca6aa6": {
      "model_module": "@jupyter-widgets/controls",
      "model_module_version": "1.5.0",
      "model_name": "SliderStyleModel",
      "state": {
       "description_width": ""
      }
     },
     "0af1bb03cbd844ea9bfc0d9b864d0f8d": {
      "model_module": "@jupyter-widgets/base",
      "model_module_version": "1.2.0",
      "model_name": "LayoutModel",
      "state": {}
     },
     "0b0218a48fab482ca3ef910ddb9948e7": {
      "model_module": "@jupyter-widgets/base",
      "model_module_version": "1.2.0",
      "model_name": "LayoutModel",
      "state": {}
     },
     "0b86b005791f45fb93ef1e515e62e1e2": {
      "model_module": "@jupyter-widgets/controls",
      "model_module_version": "1.5.0",
      "model_name": "DescriptionStyleModel",
      "state": {
       "description_width": ""
      }
     },
     "0b974aa9e4cb4b4d87d799dd6e18b83c": {
      "model_module": "@jupyter-widgets/base",
      "model_module_version": "1.2.0",
      "model_name": "LayoutModel",
      "state": {}
     },
     "0ba2cab9cc9d4511aad569640dfc3012": {
      "model_module": "@jupyter-widgets/controls",
      "model_module_version": "1.5.0",
      "model_name": "DescriptionStyleModel",
      "state": {
       "description_width": ""
      }
     },
     "0bfc733f831346d3bfd46bb08e6ed994": {
      "model_module": "@jupyter-widgets/controls",
      "model_module_version": "1.5.0",
      "model_name": "FloatSliderModel",
      "state": {
       "description": "diffuse",
       "layout": "IPY_MODEL_8929ac5c489944b49d22387a7dca08f4",
       "max": 3,
       "step": 0.1,
       "style": "IPY_MODEL_6b54e408638a4d85935aa261112cb2bb",
       "value": 1
      }
     },
     "0c2bee5a70fb46b2acac86b96cb0aab2": {
      "model_module": "@jupyter-widgets/controls",
      "model_module_version": "1.5.0",
      "model_name": "HBoxModel",
      "state": {
       "children": [
        "IPY_MODEL_7cdabb93fcbc40419bf289a63174c418",
        "IPY_MODEL_a168b04a2dbf49739b7e62715ebafb2f"
       ],
       "layout": "IPY_MODEL_4d77f69f74244057baec36b232f87f78"
      }
     },
     "0c375f6ffc5f415bbfbaa228315317b0": {
      "model_module": "@jupyter-widgets/controls",
      "model_module_version": "1.5.0",
      "model_name": "DescriptionStyleModel",
      "state": {
       "description_width": ""
      }
     },
     "0c3945d18ad84ce68b356bc7fec1acc8": {
      "model_module": "@jupyter-widgets/controls",
      "model_module_version": "1.5.0",
      "model_name": "ButtonModel",
      "state": {
       "description": "Delete",
       "layout": "IPY_MODEL_68a0a5b32660431c972bf9ccdf174f33",
       "style": "IPY_MODEL_5dec0cf2269d486da8492dee4e84b3f8"
      }
     },
     "0c3bbdec026d428494f07dd37de034a8": {
      "model_module": "@jupyter-widgets/controls",
      "model_module_version": "1.5.0",
      "model_name": "HBoxModel",
      "state": {
       "children": [
        "IPY_MODEL_9f2dbce166f945239d5998018bbaae65",
        "IPY_MODEL_5eac464e5de54b27a961eb229e40565b"
       ],
       "layout": "IPY_MODEL_fcb828149d8b4587a737cf0adaca9f9c"
      }
     },
     "0c45408378854d9db7aa0e37104b7d14": {
      "model_module": "@jupyter-widgets/controls",
      "model_module_version": "1.5.0",
      "model_name": "SliderStyleModel",
      "state": {
       "description_width": ""
      }
     },
     "0c4ef21d02cd4d5098cab60592f95c54": {
      "model_module": "@jupyter-widgets/base",
      "model_module_version": "1.2.0",
      "model_name": "LayoutModel",
      "state": {}
     },
     "0c7c19e5f2d64c77816e00b8b2cd8eea": {
      "model_module": "@jupyter-widgets/base",
      "model_module_version": "1.2.0",
      "model_name": "LayoutModel",
      "state": {}
     },
     "0c8a2a58cf5a4f328c2bf47875084bee": {
      "model_module": "@jupyter-widgets/base",
      "model_module_version": "1.2.0",
      "model_name": "LayoutModel",
      "state": {}
     },
     "0ca1da812e904b3597a1f8d0066aa817": {
      "model_module": "@jupyter-widgets/controls",
      "model_module_version": "1.5.0",
      "model_name": "IntSliderModel",
      "state": {
       "description": "value",
       "layout": "IPY_MODEL_3fb78370b75d48e69e4114fc1065c34c",
       "max": 10,
       "min": 1,
       "style": "IPY_MODEL_ef02132854ed4c2993d244c63b2f1da8",
       "value": 2
      }
     },
     "0cb243c061d34b35a8ad51de93b3548a": {
      "model_module": "@jupyter-widgets/controls",
      "model_module_version": "1.5.0",
      "model_name": "DescriptionStyleModel",
      "state": {
       "description_width": ""
      }
     },
     "0ce5322222f04cda8b64b0849f810223": {
      "model_module": "@jupyter-widgets/controls",
      "model_module_version": "1.5.0",
      "model_name": "DescriptionStyleModel",
      "state": {
       "description_width": ""
      }
     },
     "0cf1ba00ad3c4151acf3b5aaf9391ece": {
      "model_module": "@jupyter-widgets/controls",
      "model_module_version": "1.5.0",
      "model_name": "DescriptionStyleModel",
      "state": {
       "description_width": ""
      }
     },
     "0d2e16e55e4f4049983e0cbb83eb2316": {
      "model_module": "@jupyter-widgets/controls",
      "model_module_version": "1.5.0",
      "model_name": "DescriptionStyleModel",
      "state": {
       "description_width": ""
      }
     },
     "0d310866a28c4c1ab0562409f5a1baa5": {
      "model_module": "@jupyter-widgets/controls",
      "model_module_version": "1.5.0",
      "model_name": "TextModel",
      "state": {
       "continuous_update": false,
       "description": "name",
       "layout": "IPY_MODEL_ec80a43c5a3b4523b4da1e7a74a8af65",
       "style": "IPY_MODEL_2db8651a2bd342e7b9af50736d9bfac4",
       "value": "nb_axes"
      }
     },
     "0d347c8d511c4ca99b99c3030263eb62": {
      "model_module": "@jupyter-widgets/base",
      "model_module_version": "1.2.0",
      "model_name": "LayoutModel",
      "state": {}
     },
     "0d6a37d535614710acb801033c6e1b4b": {
      "model_module": "@jupyter-widgets/base",
      "model_module_version": "1.2.0",
      "model_name": "LayoutModel",
      "state": {}
     },
     "0d8106747f5f4d0a81928341852045a2": {
      "model_module": "@jupyter-widgets/base",
      "model_module_version": "1.2.0",
      "model_name": "LayoutModel",
      "state": {}
     },
     "0daf2556cff5466a8f88c6b061377e55": {
      "model_module": "@jupyter-widgets/base",
      "model_module_version": "1.2.0",
      "model_name": "LayoutModel",
      "state": {}
     },
     "0dd2e4883c6742ebb5b505b2aecc37c1": {
      "model_module": "@jupyter-widgets/controls",
      "model_module_version": "1.5.0",
      "model_name": "DescriptionStyleModel",
      "state": {
       "description_width": ""
      }
     },
     "0ddc4da3ab684f75a000be5326010a3f": {
      "model_module": "@jupyter-widgets/controls",
      "model_module_version": "1.5.0",
      "model_name": "ButtonModel",
      "state": {
       "description": "Delete",
       "layout": "IPY_MODEL_df83175491804b5cb47348424a380b78",
       "style": "IPY_MODEL_1145eb1b6344415fbe5da4345ed32841"
      }
     },
     "0df3c48cd89940ce80485ec6fb57722c": {
      "model_module": "@jupyter-widgets/controls",
      "model_module_version": "1.5.0",
      "model_name": "HBoxModel",
      "state": {
       "children": [
        "IPY_MODEL_e9ac5fcbb97347d7a1f9f9cc7558252d",
        "IPY_MODEL_f9ee036e79134257a314bedd8f10beed"
       ],
       "layout": "IPY_MODEL_78dff3c9b0ab4092885a4681b708b9c4"
      }
     },
     "0dfd63902b034d3a9cf7782c9e751b71": {
      "model_module": "@jupyter-widgets/controls",
      "model_module_version": "1.5.0",
      "model_name": "DropdownModel",
      "state": {
       "_options_labels": [
        "trunk",
        "leaf_new",
        "apex",
        "leaf_old"
       ],
       "index": 0,
       "layout": "IPY_MODEL_d03612b14f984819821e89add2e8abfb",
       "style": "IPY_MODEL_81614fbd057b49b38cf6c260521fd79e"
      }
     },
     "0e1758e5f97c4775894b0a98513a546f": {
      "model_module": "@jupyter-widgets/controls",
      "model_module_version": "1.5.0",
      "model_name": "ButtonModel",
      "state": {
       "description": "Add",
       "layout": "IPY_MODEL_2fa0e323165245eba4d3e15b8215c92f",
       "style": "IPY_MODEL_d32aaba5fabf43e1a51a446cc716f021"
      }
     },
     "0e592e8a9b8343179820de7ac2999dbb": {
      "model_module": "@jupyter-widgets/base",
      "model_module_version": "1.2.0",
      "model_name": "LayoutModel",
      "state": {}
     },
     "0e698e6988a94950922b8014c320bdf8": {
      "model_module": "@jupyter-widgets/base",
      "model_module_version": "1.2.0",
      "model_name": "LayoutModel",
      "state": {}
     },
     "0ebdabd5351f4a218569ece12d364cf5": {
      "model_module": "@jupyter-widgets/controls",
      "model_module_version": "1.5.0",
      "model_name": "ButtonModel",
      "state": {
       "description": "Delete category",
       "layout": "IPY_MODEL_468860202d6c4c5cbdaf75ab248c2dfa",
       "style": "IPY_MODEL_68be4ec169ab4ce9929d4231bbdfaad7"
      }
     },
     "0ec5645a3bf34b6a84616a6784979782": {
      "model_module": "@jupyter-widgets/base",
      "model_module_version": "1.2.0",
      "model_name": "LayoutModel",
      "state": {}
     },
     "0edf0711fcd443488bc2bd1811f52c38": {
      "model_module": "@jupyter-widgets/base",
      "model_module_version": "1.2.0",
      "model_name": "LayoutModel",
      "state": {
       "flex_flow": "row wrap",
       "margin": "20px"
      }
     },
     "0f0d4a7590e043609aea67d90c471282": {
      "model_module": "@jupyter-widgets/base",
      "model_module_version": "1.2.0",
      "model_name": "LayoutModel",
      "state": {}
     },
     "0f40c1df13784f579067a2bd0aaa9d35": {
      "model_module": "@jupyter-widgets/base",
      "model_module_version": "1.2.0",
      "model_name": "LayoutModel",
      "state": {}
     },
     "0f41b5c50bdb442a8ef61d9d982b922d": {
      "model_module": "@jupyter-widgets/controls",
      "model_module_version": "1.5.0",
      "model_name": "ButtonStyleModel",
      "state": {}
     },
     "0f79a7c69fb34b2d9f55d3a3cfb5c585": {
      "model_module": "@jupyter-widgets/base",
      "model_module_version": "1.2.0",
      "model_name": "LayoutModel",
      "state": {}
     },
     "0f84ed044f5d499287d57c8c98211fae": {
      "model_module": "@jupyter-widgets/controls",
      "model_module_version": "1.5.0",
      "model_name": "IntTextModel",
      "state": {
       "description": "max",
       "layout": "IPY_MODEL_f41d2bc09ad24d97b1e0e97f75537487",
       "step": 1,
       "style": "IPY_MODEL_a2eb67920af64606babedcf49f3ac443",
       "value": 10
      }
     },
     "0fa6ede50ab0406a9807f2c9a03af12c": {
      "model_module": "@jupyter-widgets/controls",
      "model_module_version": "1.5.0",
      "model_name": "ButtonStyleModel",
      "state": {}
     },
     "0fbcef905dc549ebb51d1bcd20ade1b3": {
      "model_module": "@jupyter-widgets/controls",
      "model_module_version": "1.5.0",
      "model_name": "SliderStyleModel",
      "state": {
       "description_width": ""
      }
     },
     "0fbf4f04c7844825967a392870b05c3c": {
      "model_module": "@jupyter-widgets/base",
      "model_module_version": "1.2.0",
      "model_name": "LayoutModel",
      "state": {}
     },
     "10203e2cc2ca454cbb746ee2e79b4d81": {
      "model_module": "@jupyter-widgets/controls",
      "model_module_version": "1.5.0",
      "model_name": "SliderStyleModel",
      "state": {
       "description_width": ""
      }
     },
     "1042939b8e694adbb61cbf705e83ecb6": {
      "model_module": "@jupyter-widgets/base",
      "model_module_version": "1.2.0",
      "model_name": "LayoutModel",
      "state": {
       "margin": "20px 0px"
      }
     },
     "1049120221a44f9698ad8be47c2dd830": {
      "model_module": "@jupyter-widgets/base",
      "model_module_version": "1.2.0",
      "model_name": "LayoutModel",
      "state": {}
     },
     "10cf3b81371e442e9ea401ba90dc6424": {
      "model_module": "@jupyter-widgets/controls",
      "model_module_version": "1.5.0",
      "model_name": "ButtonStyleModel",
      "state": {}
     },
     "110ae91fb5c943dab79aeb29f57c0fcc": {
      "model_module": "@jupyter-widgets/controls",
      "model_module_version": "1.5.0",
      "model_name": "ButtonStyleModel",
      "state": {}
     },
     "113da8bbf28f4da4a88ba0f9cabd4ebb": {
      "model_module": "@jupyter-widgets/controls",
      "model_module_version": "1.5.0",
      "model_name": "DescriptionStyleModel",
      "state": {
       "description_width": ""
      }
     },
     "1145eb1b6344415fbe5da4345ed32841": {
      "model_module": "@jupyter-widgets/controls",
      "model_module_version": "1.5.0",
      "model_name": "ButtonStyleModel",
      "state": {}
     },
     "1165440a552f44e8874ff2662c8016cf": {
      "model_module": "@jupyter-widgets/controls",
      "model_module_version": "1.5.0",
      "model_name": "SliderStyleModel",
      "state": {
       "description_width": ""
      }
     },
     "117c3751605b49da9649139f8f836205": {
      "model_module": "@jupyter-widgets/controls",
      "model_module_version": "1.5.0",
      "model_name": "FloatSliderModel",
      "state": {
       "description": "diffuse",
       "layout": "IPY_MODEL_29c4bd8332b8480e91c8c5587019d711",
       "max": 3,
       "step": 0.1,
       "style": "IPY_MODEL_68b2471e08bd43108da250cbe509f4c8",
       "value": 1
      }
     },
     "11a1fde1334e44b3bc445b44cfccd1ee": {
      "model_module": "@jupyter-widgets/controls",
      "model_module_version": "1.5.0",
      "model_name": "DescriptionStyleModel",
      "state": {
       "description_width": ""
      }
     },
     "11d8025c13d9418dab33da381333379c": {
      "model_module": "@jupyter-widgets/controls",
      "model_module_version": "1.5.0",
      "model_name": "ButtonStyleModel",
      "state": {}
     },
     "1252932a3a30469f9a39f40e32962dd6": {
      "model_module": "@jupyter-widgets/base",
      "model_module_version": "1.2.0",
      "model_name": "LayoutModel",
      "state": {}
     },
     "129b9808260140be91fe527eb514555e": {
      "model_module": "@jupyter-widgets/controls",
      "model_module_version": "1.5.0",
      "model_name": "HBoxModel",
      "state": {
       "children": [
        "IPY_MODEL_893cf04f7b474264b2019b1d9ef10da0"
       ],
       "layout": "IPY_MODEL_4d77f69f74244057baec36b232f87f78"
      }
     },
     "12b07df7fcbf4176ac7229ec42a4a560": {
      "model_module": "@jupyter-widgets/controls",
      "model_module_version": "1.5.0",
      "model_name": "DescriptionStyleModel",
      "state": {
       "description_width": ""
      }
     },
     "12e643a8ee7244a48d10e4c9dc50c23c": {
      "model_module": "@jupyter-widgets/base",
      "model_module_version": "1.2.0",
      "model_name": "LayoutModel",
      "state": {
       "margin": "20px 0px"
      }
     },
     "13011f0d15864a1ba3f2543ade23483a": {
      "model_module": "@jupyter-widgets/controls",
      "model_module_version": "1.5.0",
      "model_name": "ButtonModel",
      "state": {
       "description": "Add",
       "layout": "IPY_MODEL_afd16820af884a958cef4c29e98f66cd",
       "style": "IPY_MODEL_d42dda3cd9cf477195bbad7f92515edb"
      }
     },
     "1310fd264c314fc6ba058b93e9e20982": {
      "model_module": "@jupyter-widgets/base",
      "model_module_version": "1.2.0",
      "model_name": "LayoutModel",
      "state": {}
     },
     "1333161370364dc18b62b527843bccdf": {
      "model_module": "@jupyter-widgets/controls",
      "model_module_version": "1.5.0",
      "model_name": "HBoxModel",
      "state": {
       "children": [
        "IPY_MODEL_a5d0d447b1394b03986172fc7562d1f4",
        "IPY_MODEL_9bee7a831530488d8f1b62a13071e4a1"
       ],
       "layout": "IPY_MODEL_f7ff34c66d4b431c8d7a458913ac23de"
      }
     },
     "133803d2a9f74591a327cf95a74cdd6a": {
      "model_module": "@jupyter-widgets/controls",
      "model_module_version": "1.5.0",
      "model_name": "HBoxModel",
      "state": {
       "children": [
        "IPY_MODEL_4bd32345c7094c9b83e1d6211f92d7df",
        "IPY_MODEL_7b502ee9562a44e597515087db33b653"
       ],
       "layout": "IPY_MODEL_03dfd11a2f0b4fb391e312128903d288"
      }
     },
     "134a756a9b454b73bb8ed6d12d756e98": {
      "model_module": "@jupyter-widgets/base",
      "model_module_version": "1.2.0",
      "model_name": "LayoutModel",
      "state": {
       "margin": "20px 0px"
      }
     },
     "1353b6016646410798b195d84bc20e50": {
      "model_module": "pgljupyter",
      "model_module_version": "^0.1.16",
      "model_name": "MaterialEditorModel",
      "state": {
       "_model_module_version": "^0.1.16",
       "_view_module_version": "^0.1.16",
       "children": [
        "IPY_MODEL_896cb2a6eee44f0099cfa8dd5b2da22f",
        "IPY_MODEL_ca048b3e6ffe42779d97a92813a975b0",
        "IPY_MODEL_ae40200d7fdc43a69f8f57ce27d6891b",
        "IPY_MODEL_2c07ac220de942ccb12377bf94366b14",
        "IPY_MODEL_21350d8100af4acbbbba14f68c856baa",
        "IPY_MODEL_4c6828d30e454b219dd59636daba61a2",
        "IPY_MODEL_b11599f0c8c340be874b6f91e49e147c",
        "IPY_MODEL_e72c590e7a184b6fb4ad01d25e4545a9"
       ],
       "layout": "IPY_MODEL_24700b060af14c8981e7fbfedeade0f8"
      }
     },
     "13642e1addcd465cbd7d516a101c2713": {
      "model_module": "@jupyter-widgets/base",
      "model_module_version": "1.2.0",
      "model_name": "LayoutModel",
      "state": {}
     },
     "137cbe8acae84e968a221cf773fdf8fd": {
      "model_module": "@jupyter-widgets/controls",
      "model_module_version": "1.5.0",
      "model_name": "HBoxModel",
      "state": {
       "children": [
        "IPY_MODEL_1cce361553fe4e3384705e13f5a70ce3",
        "IPY_MODEL_42bdc25840194831ac110172cc330d2c",
        "IPY_MODEL_f760108295804b51a12e98b907147ca4"
       ],
       "layout": "IPY_MODEL_44f1703909314fab8a00501069423623"
      }
     },
     "1381a5f505a041c5a6944ee0787a8c0c": {
      "model_module": "@jupyter-widgets/controls",
      "model_module_version": "1.5.0",
      "model_name": "ColorPickerModel",
      "state": {
       "description": "ambient",
       "disabled": false,
       "layout": "IPY_MODEL_92616f968bf649ad919cbb41d7425b65",
       "style": "IPY_MODEL_d6e29de606464a1eada931b449337734",
       "value": "#0fc4db"
      }
     },
     "13acdf1ccc5a4999af0676c08d452094": {
      "model_module": "@jupyter-widgets/controls",
      "model_module_version": "1.5.0",
      "model_name": "SliderStyleModel",
      "state": {
       "description_width": ""
      }
     },
     "13ae418bba3b47449bcffe9f4ff9b1d0": {
      "model_module": "@jupyter-widgets/base",
      "model_module_version": "1.2.0",
      "model_name": "LayoutModel",
      "state": {}
     },
     "13b719143ac7434582f81b16c18d6b4e": {
      "model_module": "@jupyter-widgets/controls",
      "model_module_version": "1.5.0",
      "model_name": "ColorPickerModel",
      "state": {
       "description": "emission",
       "disabled": false,
       "layout": "IPY_MODEL_289af199b7494ce2935204247e9a8c74",
       "style": "IPY_MODEL_aff7649e3cd94b0e93b9db47ae177a91",
       "value": "#000000"
      }
     },
     "13ba8e749f2441f7b7dfcbe5210b62c8": {
      "model_module": "@jupyter-widgets/base",
      "model_module_version": "1.2.0",
      "model_name": "LayoutModel",
      "state": {
       "margin": "20px 0px"
      }
     },
     "13c19586c17d41a298a7f79468b7e17a": {
      "model_module": "@jupyter-widgets/controls",
      "model_module_version": "1.5.0",
      "model_name": "DescriptionStyleModel",
      "state": {
       "description_width": ""
      }
     },
     "13d73679d1fc4c1dafedf885b7d2c851": {
      "model_module": "@jupyter-widgets/base",
      "model_module_version": "1.2.0",
      "model_name": "LayoutModel",
      "state": {}
     },
     "13ef4f1f81a4430aa1f08839e278e50f": {
      "model_module": "@jupyter-widgets/controls",
      "model_module_version": "1.5.0",
      "model_name": "HBoxModel",
      "state": {
       "children": [
        "IPY_MODEL_0ddc4da3ab684f75a000be5326010a3f",
        "IPY_MODEL_76962f026cd343edbb2be1f47b259f8e"
       ],
       "layout": "IPY_MODEL_60649db2aa41400c8d032bf13c68e453"
      }
     },
     "13f6cb3231334246af2b1e8b585d86fc": {
      "model_module": "@jupyter-widgets/controls",
      "model_module_version": "1.5.0",
      "model_name": "DescriptionStyleModel",
      "state": {
       "description_width": ""
      }
     },
     "1495c1165fc748ae8bb58d756996d706": {
      "model_module": "@jupyter-widgets/controls",
      "model_module_version": "1.5.0",
      "model_name": "IntSliderModel",
      "state": {
       "description": "value",
       "layout": "IPY_MODEL_6c9077201cf9427b930095c29dff128d",
       "max": 10,
       "min": 1,
       "style": "IPY_MODEL_9b8436ae14f84fa29eae52599733cb23",
       "value": 5
      }
     },
     "15300167b1664d9682018422b0697519": {
      "model_module": "pgljupyter",
      "model_module_version": "^0.1.19",
      "model_name": "IntEditorModel",
      "state": {
       "_model_module_version": "^0.1.19",
       "_view_module_version": "^0.1.19",
       "children": [
        "IPY_MODEL_af8a50225a5b459392ad1828e64b9479",
        "IPY_MODEL_32834c0308ce4413b19627f02762d646"
       ],
       "layout": "IPY_MODEL_aab0b96dd9704dec8bee7aca21e55121"
      }
     },
     "153641213cab4e3888f2df8ffe4df5e6": {
      "model_module": "@jupyter-widgets/controls",
      "model_module_version": "1.5.0",
      "model_name": "ButtonModel",
      "state": {
       "description": "Delete category",
       "layout": "IPY_MODEL_47cab6d01e35497189f8f2866f69ad79",
       "style": "IPY_MODEL_333c1c1af63143dfb66f43fe624cc4ba"
      }
     },
     "1544c4aba24c44af809a65633d48cc8e": {
      "model_module": "@jupyter-widgets/controls",
      "model_module_version": "1.5.0",
      "model_name": "HBoxModel",
      "state": {
       "children": [
        "IPY_MODEL_c29fffdc637c4b74935a820089942936",
        "IPY_MODEL_2e9b3567dc074850a4457cea55ff8a2b"
       ],
       "layout": "IPY_MODEL_5a6aab1bb709492da4f69389f9069c24"
      }
     },
     "1558078ff54b40aa9edd4a561283c2a3": {
      "model_module": "@jupyter-widgets/controls",
      "model_module_version": "1.5.0",
      "model_name": "DescriptionStyleModel",
      "state": {
       "description_width": ""
      }
     },
     "155e496650f34366b813ae47225f42d5": {
      "model_module": "@jupyter-widgets/base",
      "model_module_version": "1.2.0",
      "model_name": "LayoutModel",
      "state": {}
     },
     "157fba29a18141ceb228302c5bccb5bb": {
      "model_module": "@jupyter-widgets/base",
      "model_module_version": "1.2.0",
      "model_name": "LayoutModel",
      "state": {}
     },
     "15c2dd748e27429b8b7bf9eec53d186c": {
      "model_module": "@jupyter-widgets/controls",
      "model_module_version": "1.5.0",
      "model_name": "HBoxModel",
      "state": {
       "children": [
        "IPY_MODEL_37d590580784486799b82835c1490cd0",
        "IPY_MODEL_7eb67cc5e07d4226b2341c889e12afdc",
        "IPY_MODEL_6c692b6a751b4f9a87b763ae9a055554"
       ],
       "layout": "IPY_MODEL_a9b7a5bea64640859355bc1f3bd40aed"
      }
     },
     "15cc82a7eb6848f88869d829430b0385": {
      "model_module": "@jupyter-widgets/controls",
      "model_module_version": "1.5.0",
      "model_name": "DescriptionStyleModel",
      "state": {
       "description_width": ""
      }
     },
     "160584d7549b440497e447884ae62452": {
      "model_module": "@jupyter-widgets/controls",
      "model_module_version": "1.5.0",
      "model_name": "DescriptionStyleModel",
      "state": {
       "description_width": ""
      }
     },
     "161390ba99e04b138bc28fa9c249c180": {
      "model_module": "@jupyter-widgets/controls",
      "model_module_version": "1.5.0",
      "model_name": "TextModel",
      "state": {
       "continuous_update": false,
       "description": "name",
       "layout": "IPY_MODEL_bcf7fee88c72467fbcc5a469b43e9f92",
       "style": "IPY_MODEL_7bd0ba7ae13849c1a3991f5c1fc76a3f",
       "value": "radinc"
      }
     },
     "1624262f28254a519733973a8caf8b9e": {
      "model_module": "@jupyter-widgets/controls",
      "model_module_version": "1.5.0",
      "model_name": "HBoxModel",
      "state": {
       "children": [
        "IPY_MODEL_0ebdabd5351f4a218569ece12d364cf5"
       ],
       "layout": "IPY_MODEL_7e4f103663654092a3b6f3f18908d2a4"
      }
     },
     "164bcfa6695d41c4828175244e8404ae": {
      "model_module": "@jupyter-widgets/controls",
      "model_module_version": "1.5.0",
      "model_name": "DescriptionStyleModel",
      "state": {
       "description_width": ""
      }
     },
     "165abbc949ef4da0be3399b1aa01ad1f": {
      "model_module": "@jupyter-widgets/controls",
      "model_module_version": "1.5.0",
      "model_name": "SliderStyleModel",
      "state": {
       "description_width": ""
      }
     },
     "16bd9822848d4ea8a76ae7ebedd16681": {
      "model_module": "@jupyter-widgets/base",
      "model_module_version": "1.2.0",
      "model_name": "LayoutModel",
      "state": {
       "margin": "20px 0px"
      }
     },
     "16cce7023d354ddfba60e067833ebb2b": {
      "model_module": "@jupyter-widgets/base",
      "model_module_version": "1.2.0",
      "model_name": "LayoutModel",
      "state": {}
     },
     "16f7bc26a9f3423a8cdb0ee883e8baf3": {
      "model_module": "@jupyter-widgets/controls",
      "model_module_version": "1.5.0",
      "model_name": "SliderStyleModel",
      "state": {
       "description_width": ""
      }
     },
     "170f6b615a774635b281c9b6e87c2707": {
      "model_module": "@jupyter-widgets/controls",
      "model_module_version": "1.5.0",
      "model_name": "FloatSliderModel",
      "state": {
       "description": "diffuse",
       "layout": "IPY_MODEL_5b940c3879e64cf98347973d19dcff84",
       "max": 3,
       "step": 0.1,
       "style": "IPY_MODEL_e4e8b085a5c24ad6a92920665a7ee169",
       "value": 1
      }
     },
     "171326388f714eb48b0fdd7eb080c8b2": {
      "model_module": "@jupyter-widgets/controls",
      "model_module_version": "1.5.0",
      "model_name": "FloatSliderModel",
      "state": {
       "description": "transparency",
       "layout": "IPY_MODEL_be52d9cdb49d41ef9f7664b51577a733",
       "max": 1,
       "step": 0.1,
       "style": "IPY_MODEL_0c45408378854d9db7aa0e37104b7d14"
      }
     },
     "178a6cb4a45b40af811fc096f2974764": {
      "model_module": "@jupyter-widgets/base",
      "model_module_version": "1.2.0",
      "model_name": "LayoutModel",
      "state": {}
     },
     "17a8887bab0d48dda0b6eb417e76dbac": {
      "model_module": "@jupyter-widgets/controls",
      "model_module_version": "1.5.0",
      "model_name": "DescriptionStyleModel",
      "state": {
       "description_width": ""
      }
     },
     "17dc7d6946fa4dcb97123fb2091496ed": {
      "model_module": "@jupyter-widgets/controls",
      "model_module_version": "1.5.0",
      "model_name": "DescriptionStyleModel",
      "state": {
       "description_width": ""
      }
     },
     "17de7061fc71420fb27975958a62c182": {
      "model_module": "pgljupyter",
      "model_module_version": "^0.1.18",
      "model_name": "MaterialEditorModel",
      "state": {
       "_model_module_version": "^0.1.18",
       "_view_module_version": "^0.1.18",
       "children": [
        "IPY_MODEL_408d582856e84421a763fa391a9130a8",
        "IPY_MODEL_ee264b2062824fd5b777853c7f930800",
        "IPY_MODEL_916e7d074de94e13a2e0ee223e0b2d15",
        "IPY_MODEL_e0f1782f2a614b3fa512c8365f125d2a",
        "IPY_MODEL_2e21adf4c8bb4fac95416edb37f93844",
        "IPY_MODEL_117c3751605b49da9649139f8f836205",
        "IPY_MODEL_1e78178572d64dcdb6056a7128c73f73",
        "IPY_MODEL_0aafc59276204d4698648b7214e955f0"
       ],
       "layout": "IPY_MODEL_12e643a8ee7244a48d10e4c9dc50c23c"
      }
     },
     "181662f4cedf410dac5bab4e1bf8645f": {
      "model_module": "@jupyter-widgets/base",
      "model_module_version": "1.2.0",
      "model_name": "LayoutModel",
      "state": {}
     },
     "1841107c669d487a88dba8bee46180f8": {
      "model_module": "@jupyter-widgets/base",
      "model_module_version": "1.2.0",
      "model_name": "LayoutModel",
      "state": {}
     },
     "18a4cfa16bc946538d5790374028d641": {
      "model_module": "@jupyter-widgets/base",
      "model_module_version": "1.2.0",
      "model_name": "LayoutModel",
      "state": {}
     },
     "18abd2b200874f98af3b0f2c86c1a019": {
      "model_module": "@jupyter-widgets/controls",
      "model_module_version": "1.5.0",
      "model_name": "ButtonStyleModel",
      "state": {}
     },
     "18fd2dd4be65499b91b7d984d3f28244": {
      "model_module": "@jupyter-widgets/controls",
      "model_module_version": "1.5.0",
      "model_name": "TabModel",
      "state": {
       "_titles": {
        "0": "leuwenberg.json"
       },
       "children": [
        "IPY_MODEL_53095037c0fc41f0ad798cc1f327c12f"
       ],
       "layout": "IPY_MODEL_37cb01c9b3e84e9da135afac63cb3f28"
      }
     },
     "190f9a77b410464d8397db246bf8a588": {
      "model_module": "@jupyter-widgets/controls",
      "model_module_version": "1.5.0",
      "model_name": "TextModel",
      "state": {
       "continuous_update": false,
       "description": "name",
       "layout": "IPY_MODEL_3195adc8fefb45378839f142bc7b7fdc",
       "style": "IPY_MODEL_3324d05d1f6847678f57a1016eafaa0e",
       "value": "color_4"
      }
     },
     "1910124b79a9485da861e6e0c1762d37": {
      "model_module": "@jupyter-widgets/base",
      "model_module_version": "1.2.0",
      "model_name": "LayoutModel",
      "state": {}
     },
     "194ad744cbd346c59d513770c2a47af7": {
      "model_module": "@jupyter-widgets/base",
      "model_module_version": "1.2.0",
      "model_name": "LayoutModel",
      "state": {
       "margin": "20px 0px"
      }
     },
     "19c0e5bf37c2495dba13da8f747c69e9": {
      "model_module": "@jupyter-widgets/controls",
      "model_module_version": "1.5.0",
      "model_name": "SliderStyleModel",
      "state": {
       "description_width": ""
      }
     },
     "1a30bd6297ea496caffb74eca89f7301": {
      "model_module": "@jupyter-widgets/controls",
      "model_module_version": "1.5.0",
      "model_name": "ColorPickerModel",
      "state": {
       "description": "specular",
       "disabled": false,
       "layout": "IPY_MODEL_7712426c5f4b4063af82886fae09a405",
       "style": "IPY_MODEL_22b0b08845a841bcab00137e9e0e416b",
       "value": "#282828"
      }
     },
     "1a39600936bd4b199a960b5ddd12c3ef": {
      "model_module": "@jupyter-widgets/controls",
      "model_module_version": "1.5.0",
      "model_name": "ButtonModel",
      "state": {
       "description": "Add",
       "layout": "IPY_MODEL_4fbf2b45694848a9aa03aadb8fb5d86c",
       "style": "IPY_MODEL_49abdf9d78524715a97cc756c7cc26ee"
      }
     },
     "1a3a8e4cff4b498aad3788925124b846": {
      "model_module": "@jupyter-widgets/controls",
      "model_module_version": "1.5.0",
      "model_name": "HBoxModel",
      "state": {
       "layout": "IPY_MODEL_5a7768daa7114d36b770ea435fe36cec"
      }
     },
     "1a768dffa91045cdbec62fd051859942": {
      "model_module": "@jupyter-widgets/controls",
      "model_module_version": "1.5.0",
      "model_name": "HBoxModel",
      "state": {
       "children": [
        "IPY_MODEL_de29d9fc92c645568318b3cac8e85baf",
        "IPY_MODEL_cbc8b4e533c94b8597e45a4ac84149b8"
       ],
       "layout": "IPY_MODEL_1310fd264c314fc6ba058b93e9e20982"
      }
     },
     "1a8e5e8102f24f6788a2e4825cfd5527": {
      "model_module": "@jupyter-widgets/controls",
      "model_module_version": "1.5.0",
      "model_name": "DescriptionStyleModel",
      "state": {
       "description_width": ""
      }
     },
     "1a901903106b4de5881749108bd6c41d": {
      "model_module": "@jupyter-widgets/base",
      "model_module_version": "1.2.0",
      "model_name": "LayoutModel",
      "state": {}
     },
     "1adccbe353a046ea9bf4ed81f2cba08d": {
      "model_module": "@jupyter-widgets/controls",
      "model_module_version": "1.5.0",
      "model_name": "SliderStyleModel",
      "state": {
       "description_width": ""
      }
     },
     "1aeee9874bc84466bbeb7bfb15647305": {
      "model_module": "@jupyter-widgets/base",
      "model_module_version": "1.2.0",
      "model_name": "LayoutModel",
      "state": {
       "margin": "20px 0px"
      }
     },
     "1b23eb33720947ad81bbf0cc81ea07cf": {
      "model_module": "@jupyter-widgets/controls",
      "model_module_version": "1.5.0",
      "model_name": "SliderStyleModel",
      "state": {
       "description_width": ""
      }
     },
     "1b44d596a79d4717bb36340cb0ec6094": {
      "model_module": "@jupyter-widgets/base",
      "model_module_version": "1.2.0",
      "model_name": "LayoutModel",
      "state": {}
     },
     "1b5446a7b8594571b37b59d8d9494810": {
      "model_module": "@jupyter-widgets/base",
      "model_module_version": "1.2.0",
      "model_name": "LayoutModel",
      "state": {}
     },
     "1b6051bae24c473598c952d51984d1ee": {
      "model_module": "@jupyter-widgets/base",
      "model_module_version": "1.2.0",
      "model_name": "LayoutModel",
      "state": {}
     },
     "1bd27105bfe744bdbb177dc19d1cf75d": {
      "model_module": "@jupyter-widgets/controls",
      "model_module_version": "1.5.0",
      "model_name": "HBoxModel",
      "state": {
       "layout": "IPY_MODEL_a9b7a5bea64640859355bc1f3bd40aed"
      }
     },
     "1bf3eb867db745b39087e47d083ee70c": {
      "model_module": "@jupyter-widgets/controls",
      "model_module_version": "1.5.0",
      "model_name": "TextModel",
      "state": {
       "continuous_update": false,
       "description": "name",
       "layout": "IPY_MODEL_98388df207bd4a559bfd30c5445ef20d",
       "style": "IPY_MODEL_13c19586c17d41a298a7f79468b7e17a",
       "value": "maxorder"
      }
     },
     "1c64de6d810040e6a876cf03d544910b": {
      "model_module": "@jupyter-widgets/controls",
      "model_module_version": "1.5.0",
      "model_name": "HBoxModel",
      "state": {
       "children": [
        "IPY_MODEL_2aa3ae383fe546ccba78dde66139f07e",
        "IPY_MODEL_31ff80b71d0e49b293026e52abfdb4bc"
       ],
       "layout": "IPY_MODEL_78dff3c9b0ab4092885a4681b708b9c4"
      }
     },
     "1c6b5e326e8d49b2a591f19e3efcbb8c": {
      "model_module": "@jupyter-widgets/controls",
      "model_module_version": "1.5.0",
      "model_name": "SliderStyleModel",
      "state": {
       "description_width": ""
      }
     },
     "1cce361553fe4e3384705e13f5a70ce3": {
      "model_module": "@jupyter-widgets/controls",
      "model_module_version": "1.5.0",
      "model_name": "HBoxModel",
      "state": {
       "children": [
        "IPY_MODEL_8760bd037eeb40d88f785a795b4cfa32",
        "IPY_MODEL_5ca98085c6bf49aca459dd565f93cd38"
       ],
       "layout": "IPY_MODEL_bc4bbf97cace49f2830fcdf2421eabb0"
      }
     },
     "1cf4a392c16e40a5af323f7c787ca26d": {
      "model_module": "@jupyter-widgets/base",
      "model_module_version": "1.2.0",
      "model_name": "LayoutModel",
      "state": {}
     },
     "1d1181a2fd7a41b6942a8f000b3d75bd": {
      "model_module": "@jupyter-widgets/base",
      "model_module_version": "1.2.0",
      "model_name": "LayoutModel",
      "state": {}
     },
     "1d1c9cc08a664ea3b55b7a47fcfdc251": {
      "model_module": "@jupyter-widgets/controls",
      "model_module_version": "1.5.0",
      "model_name": "HBoxModel",
      "state": {
       "children": [
        "IPY_MODEL_9b10fafd1dad421981300c41e7b605cc",
        "IPY_MODEL_bd21842443764a4e9cfc0fe5e99adc99",
        "IPY_MODEL_48b02d61921140799c9d50de4e6abab8"
       ],
       "layout": "IPY_MODEL_f83dfb11eba54161877d623ec09906b5"
      }
     },
     "1d2c3e8ff93a461893bd0cf380e5598b": {
      "model_module": "@jupyter-widgets/base",
      "model_module_version": "1.2.0",
      "model_name": "LayoutModel",
      "state": {}
     },
     "1d6ac4f49b314f0e9fb3532cfc3b8bce": {
      "model_module": "@jupyter-widgets/controls",
      "model_module_version": "1.5.0",
      "model_name": "IntTextModel",
      "state": {
       "description": "min",
       "layout": "IPY_MODEL_2047c15e3d8f4214b541d17514096060",
       "step": 1,
       "style": "IPY_MODEL_d57615a69c10480d8db062fc5e36385d",
       "value": 1
      }
     },
     "1d7324e6216945c694b7879142e82cce": {
      "model_module": "@jupyter-widgets/controls",
      "model_module_version": "1.5.0",
      "model_name": "DropdownModel",
      "state": {
       "_options_labels": [
        "maxorder",
        "radinc",
        "nb_axes"
       ],
       "index": 0,
       "layout": "IPY_MODEL_b9ebb3597e8346f8a3fc4ed986a97a1b",
       "style": "IPY_MODEL_90f3796014fb441682830e036d391913"
      }
     },
     "1e3f2f62b72846cc8fb09a7e9d3f906d": {
      "model_module": "@jupyter-widgets/base",
      "model_module_version": "1.2.0",
      "model_name": "LayoutModel",
      "state": {
       "margin": "20px 0px"
      }
     },
     "1e5af16da1b3427d83bc2e4cf9a49852": {
      "model_module": "@jupyter-widgets/controls",
      "model_module_version": "1.5.0",
      "model_name": "ButtonModel",
      "state": {
       "description": "Delete",
       "layout": "IPY_MODEL_6cb02b695e9b429fb82b362a464e95d4",
       "style": "IPY_MODEL_403ce4d89d824f1c8e0c931714a623aa"
      }
     },
     "1e6010c917c4441f8d05dacd1cf3a5ba": {
      "model_module": "@jupyter-widgets/controls",
      "model_module_version": "1.5.0",
      "model_name": "ColorPickerModel",
      "state": {
       "description": "ambient",
       "disabled": false,
       "layout": "IPY_MODEL_619d054879f142ab8a22cb911c74fa09",
       "style": "IPY_MODEL_269d4a9ce92344b6b1ca56cee70b6700",
       "value": "#0fc4db"
      }
     },
     "1e71076b6d304240bdd062f2d5156785": {
      "model_module": "@jupyter-widgets/base",
      "model_module_version": "1.2.0",
      "model_name": "LayoutModel",
      "state": {}
     },
     "1e78178572d64dcdb6056a7128c73f73": {
      "model_module": "@jupyter-widgets/controls",
      "model_module_version": "1.5.0",
      "model_name": "FloatSliderModel",
      "state": {
       "description": "transparency",
       "layout": "IPY_MODEL_6ab377277f3f47c19b9225d757195275",
       "max": 1,
       "step": 0.1,
       "style": "IPY_MODEL_0010fef821bc48b083984f720d45fe40"
      }
     },
     "1e923ca9d3ec4aaf9602202ba9e7cb20": {
      "model_module": "@jupyter-widgets/base",
      "model_module_version": "1.2.0",
      "model_name": "LayoutModel",
      "state": {}
     },
     "1ea7dc68a20e4fa3ae2f532556b651d0": {
      "model_module": "@jupyter-widgets/controls",
      "model_module_version": "1.5.0",
      "model_name": "ColorPickerModel",
      "state": {
       "description": "ambient",
       "disabled": false,
       "layout": "IPY_MODEL_f4f2faa3af214fe2ad81b69860fda065",
       "style": "IPY_MODEL_906dd31da0b74225aefcd7029f7939cc",
       "value": "#e1a014"
      }
     },
     "1eafac7d519a4739b0a5ec9f2e1a0356": {
      "model_module": "@jupyter-widgets/base",
      "model_module_version": "1.2.0",
      "model_name": "LayoutModel",
      "state": {}
     },
     "1eb0713d17fb4a92b6d7cfab6060154c": {
      "model_module": "@jupyter-widgets/controls",
      "model_module_version": "1.5.0",
      "model_name": "DescriptionStyleModel",
      "state": {
       "description_width": ""
      }
     },
     "1ef74d1c41b24007821a052f50da2c9f": {
      "model_module": "@jupyter-widgets/controls",
      "model_module_version": "1.5.0",
      "model_name": "FloatSliderModel",
      "state": {
       "description": "diffuse",
       "layout": "IPY_MODEL_60f7d6ccd61f493dadbfcf94d366711a",
       "max": 3,
       "step": 0.1,
       "style": "IPY_MODEL_0aea6c9bfdb24c3a9046b8a0c0ca6aa6",
       "value": 1
      }
     },
     "1f1df1d84cbd4198a124c637fd5a7782": {
      "model_module": "@jupyter-widgets/controls",
      "model_module_version": "1.5.0",
      "model_name": "DescriptionStyleModel",
      "state": {
       "description_width": ""
      }
     },
     "1f72998eed09408198e3afb7711fce67": {
      "model_module": "@jupyter-widgets/base",
      "model_module_version": "1.2.0",
      "model_name": "LayoutModel",
      "state": {}
     },
     "1f8ab0fca1c04c59ba41957779688c40": {
      "model_module": "@jupyter-widgets/controls",
      "model_module_version": "1.5.0",
      "model_name": "BoundedIntTextModel",
      "state": {
       "description": "index",
       "layout": "IPY_MODEL_3afbf51007944e8f8954670763c456a2",
       "style": "IPY_MODEL_f1c6aa52cc2a40a396a24165e1c5bf64",
       "value": 4
      }
     },
     "1fac97fbb78942428b45f4a29eff0181": {
      "model_module": "@jupyter-widgets/controls",
      "model_module_version": "1.5.0",
      "model_name": "SliderStyleModel",
      "state": {
       "description_width": ""
      }
     },
     "1fc7b2d61c8248a78f6d173ef2c25c28": {
      "model_module": "@jupyter-widgets/controls",
      "model_module_version": "1.5.0",
      "model_name": "DescriptionStyleModel",
      "state": {
       "description_width": ""
      }
     },
     "200bbcd159c24386b1e2e9fe9c914ff7": {
      "model_module": "@jupyter-widgets/controls",
      "model_module_version": "1.5.0",
      "model_name": "SliderStyleModel",
      "state": {
       "description_width": ""
      }
     },
     "200e396776fd4859b251083ea338dbc3": {
      "model_module": "@jupyter-widgets/controls",
      "model_module_version": "1.5.0",
      "model_name": "VBoxModel",
      "state": {
       "children": [
        "IPY_MODEL_3a91f9dd6dd840dfa42d860498e26055",
        "IPY_MODEL_e29bcf91cb1e4caebd131a237b84ab1c",
        "IPY_MODEL_86ad7647a23949bbb9260384e6040155",
        "IPY_MODEL_d015b65324534f50aa5675640c1f43ab",
        "IPY_MODEL_300d90438a1445f4819171e16fa9d386"
       ],
       "layout": "IPY_MODEL_3242767a029c4316a2ec4ab31704f3d8"
      }
     },
     "20298b4a168141e9be68094a28287409": {
      "model_module": "@jupyter-widgets/controls",
      "model_module_version": "1.5.0",
      "model_name": "HBoxModel",
      "state": {
       "children": [
        "IPY_MODEL_5adffba729714082b4c0b93187c64244",
        "IPY_MODEL_41173f204e7842519840674a61a7e434"
       ],
       "layout": "IPY_MODEL_0edf0711fcd443488bc2bd1811f52c38"
      }
     },
     "203079255d89445eaa5a11bb556a37d5": {
      "model_module": "@jupyter-widgets/controls",
      "model_module_version": "1.5.0",
      "model_name": "BoundedIntTextModel",
      "state": {
       "description": "index",
       "layout": "IPY_MODEL_cb43d93a31474ef68c27ec960b1e17ad",
       "style": "IPY_MODEL_05a5ce6fe609440eaac4fb1a88000fa7",
       "value": 4
      }
     },
     "203311275276426398b1e3c34669b385": {
      "model_module": "@jupyter-widgets/base",
      "model_module_version": "1.2.0",
      "model_name": "LayoutModel",
      "state": {}
     },
     "203480e9c215468ea9ab336c23360aec": {
      "model_module": "@jupyter-widgets/controls",
      "model_module_version": "1.5.0",
      "model_name": "FloatSliderModel",
      "state": {
       "description": "value",
       "layout": "IPY_MODEL_6a018a7ac45f43ed9fb495ac70a32468",
       "max": 0.1,
       "min": 0.01,
       "step": 0.01,
       "style": "IPY_MODEL_cf673dfbe5eb413c96fdeb2659cfc128",
       "value": 0.02
      }
     },
     "2047c15e3d8f4214b541d17514096060": {
      "model_module": "@jupyter-widgets/base",
      "model_module_version": "1.2.0",
      "model_name": "LayoutModel",
      "state": {}
     },
     "207d2c2ed4094de6aa559901cd22e572": {
      "model_module": "@jupyter-widgets/base",
      "model_module_version": "1.2.0",
      "model_name": "LayoutModel",
      "state": {}
     },
     "208de69f01e844309a09e7a6c6150e42": {
      "model_module": "@jupyter-widgets/controls",
      "model_module_version": "1.5.0",
      "model_name": "TextModel",
      "state": {
       "continuous_update": false,
       "description": "name",
       "layout": "IPY_MODEL_9f81c34fd48c46a38082ef22fe436144",
       "style": "IPY_MODEL_98aa41c6eb644b028a4c3b34c61591da",
       "value": "trunk"
      }
     },
     "209c033af72d44e3a0b13ab8001e5335": {
      "model_module": "@jupyter-widgets/base",
      "model_module_version": "1.2.0",
      "model_name": "LayoutModel",
      "state": {}
     },
     "20ab7410ec8c4e87a7028f3830335948": {
      "model_module": "@jupyter-widgets/base",
      "model_module_version": "1.2.0",
      "model_name": "LayoutModel",
      "state": {}
     },
     "20b13acc67a845f6956f498c04e38806": {
      "model_module": "@jupyter-widgets/base",
      "model_module_version": "1.2.0",
      "model_name": "LayoutModel",
      "state": {}
     },
     "20b1952b21434151a833e0b22eb08f81": {
      "model_module": "@jupyter-widgets/controls",
      "model_module_version": "1.5.0",
      "model_name": "DescriptionStyleModel",
      "state": {
       "description_width": ""
      }
     },
     "20e00e78d72c45a192c02ce598d26a33": {
      "model_module": "@jupyter-widgets/controls",
      "model_module_version": "1.5.0",
      "model_name": "FloatSliderModel",
      "state": {
       "description": "value",
       "layout": "IPY_MODEL_80e9653aa5df4aec98e4b796abfbd551",
       "max": 0.1,
       "min": 0.01,
       "step": 0.01,
       "style": "IPY_MODEL_7ae3718b0ae34394a27bdb7f6b8e878f",
       "value": 0.03
      }
     },
     "20e3dd12ae594b74880fcf2f3311b803": {
      "model_module": "@jupyter-widgets/base",
      "model_module_version": "1.2.0",
      "model_name": "LayoutModel",
      "state": {}
     },
     "20e92cd381cd4543b11477c4b28a2822": {
      "model_module": "@jupyter-widgets/base",
      "model_module_version": "1.2.0",
      "model_name": "LayoutModel",
      "state": {}
     },
     "20f26d89736d43d19f678d93232feee7": {
      "model_module": "@jupyter-widgets/controls",
      "model_module_version": "1.5.0",
      "model_name": "DescriptionStyleModel",
      "state": {
       "description_width": ""
      }
     },
     "2132082f200f4a239684d6e5b976b196": {
      "model_module": "@jupyter-widgets/base",
      "model_module_version": "1.2.0",
      "model_name": "LayoutModel",
      "state": {}
     },
     "21350d8100af4acbbbba14f68c856baa": {
      "model_module": "@jupyter-widgets/controls",
      "model_module_version": "1.5.0",
      "model_name": "ColorPickerModel",
      "state": {
       "description": "emission",
       "disabled": false,
       "layout": "IPY_MODEL_c6a591bed4c246eaa6f122a5fb74d701",
       "style": "IPY_MODEL_58b736cae95a4a3f97d710efaa4148bb",
       "value": "#000000"
      }
     },
     "21584ab197984ba29419802ea60fc1c8": {
      "model_module": "@jupyter-widgets/controls",
      "model_module_version": "1.5.0",
      "model_name": "VBoxModel",
      "state": {
       "children": [
        "IPY_MODEL_0c2bee5a70fb46b2acac86b96cb0aab2",
        "IPY_MODEL_bba064c217a24b0f9b5d380aaa6fea52"
       ],
       "layout": "IPY_MODEL_1e923ca9d3ec4aaf9602202ba9e7cb20"
      }
     },
     "215f302522a248ffb3819ec2c29f1058": {
      "model_module": "@jupyter-widgets/base",
      "model_module_version": "1.2.0",
      "model_name": "LayoutModel",
      "state": {}
     },
     "2171707fa97347488af43fe88a591d0f": {
      "model_module": "@jupyter-widgets/controls",
      "model_module_version": "1.5.0",
      "model_name": "SliderStyleModel",
      "state": {
       "description_width": ""
      }
     },
     "21dc5393f9364b34b280fae10a6852f9": {
      "model_module": "@jupyter-widgets/controls",
      "model_module_version": "1.5.0",
      "model_name": "ButtonStyleModel",
      "state": {}
     },
     "21f3349a602545288f617c05af0e2a85": {
      "model_module": "@jupyter-widgets/base",
      "model_module_version": "1.2.0",
      "model_name": "LayoutModel",
      "state": {}
     },
     "221397e9ebd543a29b72321488035216": {
      "model_module": "@jupyter-widgets/controls",
      "model_module_version": "1.5.0",
      "model_name": "HBoxModel",
      "state": {
       "children": [
        "IPY_MODEL_34039ec0ba934c63862e396616b031ef",
        "IPY_MODEL_bc6a9e91763e4425a42d8b1641580ff4"
       ],
       "layout": "IPY_MODEL_3000a614557743cbb42abf392046434f"
      }
     },
     "221ff8ea7a8240c4978f750044c1a1b6": {
      "model_module": "@jupyter-widgets/controls",
      "model_module_version": "1.5.0",
      "model_name": "DescriptionStyleModel",
      "state": {
       "description_width": ""
      }
     },
     "2249a5a5d0f24085af3136bbb4f3f425": {
      "model_module": "@jupyter-widgets/controls",
      "model_module_version": "1.5.0",
      "model_name": "FloatSliderModel",
      "state": {
       "description": "shininess",
       "layout": "IPY_MODEL_d323d6b67e114f9199d968a403d35954",
       "max": 1,
       "step": 0.1,
       "style": "IPY_MODEL_abcc393b17f24dc9b7fecb97fc241a9d",
       "value": 0.2
      }
     },
     "22836115f66046069dfdd261f534a787": {
      "model_module": "pgljupyter",
      "model_module_version": "^0.1.19",
      "model_name": "ParameterEditorModel",
      "state": {
       "_model_module_version": "^0.1.19",
       "_view_module_version": "^0.1.19",
       "children": [
        "IPY_MODEL_a177c650942f473394de06d06b3caca8"
       ],
       "layout": "IPY_MODEL_614b17aa8cbd4c59bdc4c77fdfbbc42b"
      }
     },
     "228bc3eabbcd41b0903a627cadc7111d": {
      "model_module": "@jupyter-widgets/controls",
      "model_module_version": "1.5.0",
      "model_name": "SliderStyleModel",
      "state": {
       "description_width": ""
      }
     },
     "22b0b08845a841bcab00137e9e0e416b": {
      "model_module": "@jupyter-widgets/controls",
      "model_module_version": "1.5.0",
      "model_name": "DescriptionStyleModel",
      "state": {
       "description_width": ""
      }
     },
     "22f9f8931d46440d97e214fb63e75678": {
      "model_module": "@jupyter-widgets/controls",
      "model_module_version": "1.5.0",
      "model_name": "ButtonStyleModel",
      "state": {}
     },
     "233d83e71b4344838e3144dcacea3eeb": {
      "model_module": "@jupyter-widgets/base",
      "model_module_version": "1.2.0",
      "model_name": "LayoutModel",
      "state": {}
     },
     "2340039821ec4848ab8a9b6c4eb0a864": {
      "model_module": "@jupyter-widgets/base",
      "model_module_version": "1.2.0",
      "model_name": "LayoutModel",
      "state": {}
     },
     "238dd52d41fd42ba8fc8d39b45ea27f2": {
      "model_module": "@jupyter-widgets/controls",
      "model_module_version": "1.5.0",
      "model_name": "DropdownModel",
      "state": {
       "_options_labels": [
        "Integer",
        "Float",
        "Bool"
       ],
       "index": 0,
       "layout": "IPY_MODEL_427e64e328734c2ea2a19855b06e1544",
       "style": "IPY_MODEL_59df3630aa8946ea91c52b602ac78c54"
      }
     },
     "23b2d84440ff41cdb3f1251c2c430172": {
      "model_module": "@jupyter-widgets/base",
      "model_module_version": "1.2.0",
      "model_name": "LayoutModel",
      "state": {}
     },
     "240b06896b1447a29608ee2c0041a5bc": {
      "model_module": "@jupyter-widgets/controls",
      "model_module_version": "1.5.0",
      "model_name": "IntSliderModel",
      "state": {
       "description": "value",
       "layout": "IPY_MODEL_e8499e7bab6246a0ad0a4f30d14ddbb3",
       "max": 10,
       "min": 1,
       "style": "IPY_MODEL_165abbc949ef4da0be3399b1aa01ad1f",
       "value": 3
      }
     },
     "243831084f114d97bd1e5d3e35197ff6": {
      "model_module": "@jupyter-widgets/controls",
      "model_module_version": "1.5.0",
      "model_name": "BoundedIntTextModel",
      "state": {
       "description": "index",
       "layout": "IPY_MODEL_178a6cb4a45b40af811fc096f2974764",
       "style": "IPY_MODEL_801c9757e2284ae99ecc9a5a8bffc9da",
       "value": 1
      }
     },
     "24700b060af14c8981e7fbfedeade0f8": {
      "model_module": "@jupyter-widgets/base",
      "model_module_version": "1.2.0",
      "model_name": "LayoutModel",
      "state": {
       "margin": "20px 0px"
      }
     },
     "25319b4a1c0d492ea4c44baed1f845f1": {
      "model_module": "@jupyter-widgets/base",
      "model_module_version": "1.2.0",
      "model_name": "LayoutModel",
      "state": {}
     },
     "25389c05c9a74d9a98ad640a1da0dc90": {
      "model_module": "@jupyter-widgets/controls",
      "model_module_version": "1.5.0",
      "model_name": "SliderStyleModel",
      "state": {
       "description_width": ""
      }
     },
     "255b3c439597483f80ed865cd04cc345": {
      "model_module": "@jupyter-widgets/base",
      "model_module_version": "1.2.0",
      "model_name": "LayoutModel",
      "state": {}
     },
     "256f56f78e9543718e49f07029f8099c": {
      "model_module": "@jupyter-widgets/base",
      "model_module_version": "1.2.0",
      "model_name": "LayoutModel",
      "state": {}
     },
     "259e1b89f75240de83d19dcd3b59bf86": {
      "model_module": "@jupyter-widgets/controls",
      "model_module_version": "1.5.0",
      "model_name": "DescriptionStyleModel",
      "state": {
       "description_width": ""
      }
     },
     "25c2402de33e45e390315509afa77feb": {
      "model_module": "@jupyter-widgets/base",
      "model_module_version": "1.2.0",
      "model_name": "LayoutModel",
      "state": {}
     },
     "25d30d60259b4572b8731631d759ac9a": {
      "model_module": "@jupyter-widgets/base",
      "model_module_version": "1.2.0",
      "model_name": "LayoutModel",
      "state": {}
     },
     "262f578dc1b641d1a439f9d7bdb2b833": {
      "model_module": "@jupyter-widgets/controls",
      "model_module_version": "1.5.0",
      "model_name": "ButtonStyleModel",
      "state": {}
     },
     "266957bdee4c488d96db5cfceab4b072": {
      "model_module": "@jupyter-widgets/base",
      "model_module_version": "1.2.0",
      "model_name": "LayoutModel",
      "state": {}
     },
     "269d4a9ce92344b6b1ca56cee70b6700": {
      "model_module": "@jupyter-widgets/controls",
      "model_module_version": "1.5.0",
      "model_name": "DescriptionStyleModel",
      "state": {
       "description_width": ""
      }
     },
     "26b2b92b694649c3b974782805831251": {
      "model_module": "pgljupyter",
      "model_module_version": "^0.1.16",
      "model_name": "IntEditorModel",
      "state": {
       "_model_module_version": "^0.1.16",
       "_view_module_version": "^0.1.16",
       "children": [
        "IPY_MODEL_8e6019a49d114761a746e659cc1c48f2",
        "IPY_MODEL_5bfb433518c246f4a7cd7249ff19b64e",
        "IPY_MODEL_eac0f378daf14e768b562dc92a52bd46",
        "IPY_MODEL_aadcd785ecac49dd89e89b98cd11a5bc",
        "IPY_MODEL_71bb87308f7f413585405d1a1df6ad8f"
       ],
       "layout": "IPY_MODEL_a85f651d3d144554a4c5e5260dc4c9c3"
      }
     },
     "26b6ef9844df45fa90eceb06b5d3540f": {
      "model_module": "@jupyter-widgets/controls",
      "model_module_version": "1.5.0",
      "model_name": "DescriptionStyleModel",
      "state": {
       "description_width": ""
      }
     },
     "26b81cebc41f40ae83461cad70dcfba8": {
      "model_module": "@jupyter-widgets/controls",
      "model_module_version": "1.5.0",
      "model_name": "ButtonStyleModel",
      "state": {}
     },
     "26dd1eed428440a1bb6365baf44e75c4": {
      "model_module": "@jupyter-widgets/controls",
      "model_module_version": "1.5.0",
      "model_name": "BoundedIntTextModel",
      "state": {
       "description": "index",
       "layout": "IPY_MODEL_3bc727a4c5e842eba687117ad175a2bc",
       "style": "IPY_MODEL_d40cd5784b9640ce86140f6d8eb19ad7",
       "value": 2
      }
     },
     "26f268ff43434d3f8fd6c6ac3775b9a3": {
      "model_module": "@jupyter-widgets/controls",
      "model_module_version": "1.5.0",
      "model_name": "FloatSliderModel",
      "state": {
       "description": "transparency",
       "layout": "IPY_MODEL_e4b212a605144a07b42605253ab3a016",
       "max": 1,
       "step": 0.1,
       "style": "IPY_MODEL_4c81abb4c66846b5a198148d5fde3afe"
      }
     },
     "2718cbd168e24762a6996c846ee444dd": {
      "model_module": "@jupyter-widgets/controls",
      "model_module_version": "1.5.0",
      "model_name": "VBoxModel",
      "state": {
       "children": [
        "IPY_MODEL_129b9808260140be91fe527eb514555e",
        "IPY_MODEL_885caec9d1dd43c096b9a173555e99ba",
        "IPY_MODEL_e801703ebaf5452e9d7d9e5fc1f6b6d2",
        "IPY_MODEL_a6ba6d086bb947a9a81c7c00b649099a",
        "IPY_MODEL_e15fba46cf5946eeb499bb44c328da38"
       ],
       "layout": "IPY_MODEL_2770585a31af4e729bfb171d1f970cd6"
      }
     },
     "2718d36a76b14abe8337699015ee06ad": {
      "model_module": "@jupyter-widgets/controls",
      "model_module_version": "1.5.0",
      "model_name": "ButtonStyleModel",
      "state": {}
     },
     "27341d701b39454692c62d6ea10319c8": {
      "model_module": "@jupyter-widgets/controls",
      "model_module_version": "1.5.0",
      "model_name": "DescriptionStyleModel",
      "state": {
       "description_width": ""
      }
     },
     "273d55f5f31d4648966c52a36a8bc18e": {
      "model_module": "pgljupyter",
      "model_module_version": "^0.1.18",
      "model_name": "MaterialEditorModel",
      "state": {
       "_model_module_version": "^0.1.18",
       "_view_module_version": "^0.1.18",
       "children": [
        "IPY_MODEL_208de69f01e844309a09e7a6c6150e42",
        "IPY_MODEL_9bc9c3338eea4c8c86654a7b2ab4b2be",
        "IPY_MODEL_5fd9a8d12c4d45588031973ef01650c0",
        "IPY_MODEL_92d4898f94824292b0826fcacbbe587f",
        "IPY_MODEL_62fff4b10d2c498fa7de85b618a36351",
        "IPY_MODEL_4e7c5a348d354d778c2e8fac651d24ae",
        "IPY_MODEL_26f268ff43434d3f8fd6c6ac3775b9a3",
        "IPY_MODEL_d24455fb0aa04c15978bcf82f484ec0d"
       ],
       "layout": "IPY_MODEL_7c3d32abecd84c22aa8e83abca17afd6"
      }
     },
     "2748b3bc98584be89e557777f606f30e": {
      "model_module": "@jupyter-widgets/base",
      "model_module_version": "1.2.0",
      "model_name": "LayoutModel",
      "state": {}
     },
     "2770585a31af4e729bfb171d1f970cd6": {
      "model_module": "@jupyter-widgets/base",
      "model_module_version": "1.2.0",
      "model_name": "LayoutModel",
      "state": {}
     },
     "27c99d487aef426398bafe8dc27b8491": {
      "model_module": "@jupyter-widgets/base",
      "model_module_version": "1.2.0",
      "model_name": "LayoutModel",
      "state": {}
     },
     "27f197b4f13d478283479e8a52271d78": {
      "model_module": "@jupyter-widgets/controls",
      "model_module_version": "1.5.0",
      "model_name": "ButtonModel",
      "state": {
       "description": "Save changes",
       "layout": "IPY_MODEL_f826609262fd40cb852fc2f4bd691b74",
       "style": "IPY_MODEL_dfccc42a1e8f4f4abdf4c85dd83fbdf3"
      }
     },
     "280f5706c53c48bd96c1f0c3b5a82955": {
      "model_module": "@jupyter-widgets/controls",
      "model_module_version": "1.5.0",
      "model_name": "ColorPickerModel",
      "state": {
       "description": "specular",
       "disabled": false,
       "layout": "IPY_MODEL_47c2ee699e6a4f7c83103495961650b0",
       "style": "IPY_MODEL_b618285ed5684282bcdc1d912a0170cc",
       "value": "#282828"
      }
     },
     "283766ded61e469895271b99cd20aee7": {
      "model_module": "@jupyter-widgets/controls",
      "model_module_version": "1.5.0",
      "model_name": "IntSliderModel",
      "state": {
       "description": "value",
       "layout": "IPY_MODEL_858878c7e61544b790ca64ba3754be3a",
       "max": 10,
       "min": 1,
       "style": "IPY_MODEL_1c6b5e326e8d49b2a591f19e3efcbb8c",
       "value": 3
      }
     },
     "28501e07ca81424ba924d3f88696843a": {
      "model_module": "@jupyter-widgets/controls",
      "model_module_version": "1.5.0",
      "model_name": "ButtonStyleModel",
      "state": {}
     },
     "286459ac772e4d45a1cdf2d3de2f2641": {
      "model_module": "@jupyter-widgets/controls",
      "model_module_version": "1.5.0",
      "model_name": "HBoxModel",
      "state": {
       "children": [
        "IPY_MODEL_7fa3fc5095444041b8bf59eb82ee0f1b",
        "IPY_MODEL_c670633e3aa5429fb74ad03495d1835c"
       ],
       "layout": "IPY_MODEL_78dff3c9b0ab4092885a4681b708b9c4"
      }
     },
     "28691dd4baba4a50be1bed6f5dc13469": {
      "model_module": "@jupyter-widgets/controls",
      "model_module_version": "1.5.0",
      "model_name": "DropdownModel",
      "state": {
       "_options_labels": [
        "maxorder",
        "radinc",
        "nb_axes"
       ],
       "index": 0,
       "layout": "IPY_MODEL_3e88ff73b7174894a74048caac61d6dd",
       "style": "IPY_MODEL_e635d4b4c4cd44f2a336ab38518f4c9b"
      }
     },
     "28941cfcc3894fe3a6bb53b671b1fbf1": {
      "model_module": "@jupyter-widgets/controls",
      "model_module_version": "1.5.0",
      "model_name": "DescriptionStyleModel",
      "state": {
       "description_width": ""
      }
     },
     "289af199b7494ce2935204247e9a8c74": {
      "model_module": "@jupyter-widgets/base",
      "model_module_version": "1.2.0",
      "model_name": "LayoutModel",
      "state": {}
     },
     "28ac8517ff6543888b7ae35a5a88a964": {
      "model_module": "@jupyter-widgets/base",
      "model_module_version": "1.2.0",
      "model_name": "LayoutModel",
      "state": {}
     },
     "28dbfeb66b4146699787fc4516f4869c": {
      "model_module": "@jupyter-widgets/base",
      "model_module_version": "1.2.0",
      "model_name": "LayoutModel",
      "state": {}
     },
     "29963b5130614ef58373b07536e44942": {
      "model_module": "@jupyter-widgets/base",
      "model_module_version": "1.2.0",
      "model_name": "LayoutModel",
      "state": {}
     },
     "29ada92f78534b5a8245a40f76bd758a": {
      "model_module": "@jupyter-widgets/base",
      "model_module_version": "1.2.0",
      "model_name": "LayoutModel",
      "state": {}
     },
     "29c4bd8332b8480e91c8c5587019d711": {
      "model_module": "@jupyter-widgets/base",
      "model_module_version": "1.2.0",
      "model_name": "LayoutModel",
      "state": {}
     },
     "29cb9888dbcc4dc9bc915fc90fd8998a": {
      "model_module": "@jupyter-widgets/base",
      "model_module_version": "1.2.0",
      "model_name": "LayoutModel",
      "state": {}
     },
     "29cf0466a11e48fc973f7029133b4c1c": {
      "model_module": "@jupyter-widgets/base",
      "model_module_version": "1.2.0",
      "model_name": "LayoutModel",
      "state": {}
     },
     "29f083c6202b4e71911388db0eb926e4": {
      "model_module": "@jupyter-widgets/controls",
      "model_module_version": "1.5.0",
      "model_name": "FloatSliderModel",
      "state": {
       "description": "diffuse",
       "layout": "IPY_MODEL_1a901903106b4de5881749108bd6c41d",
       "max": 3,
       "step": 0.1,
       "style": "IPY_MODEL_e2de1706c64a496781bb68ab5f7e1f36",
       "value": 1
      }
     },
     "2a3d358efbf34acb9c7a60be2b6f23ae": {
      "model_module": "@jupyter-widgets/controls",
      "model_module_version": "1.5.0",
      "model_name": "DescriptionStyleModel",
      "state": {
       "description_width": ""
      }
     },
     "2a4657dcf6134dbf9171718197e5e80f": {
      "model_module": "@jupyter-widgets/base",
      "model_module_version": "1.2.0",
      "model_name": "LayoutModel",
      "state": {}
     },
     "2aa3ae383fe546ccba78dde66139f07e": {
      "model_module": "@jupyter-widgets/controls",
      "model_module_version": "1.5.0",
      "model_name": "HBoxModel",
      "state": {
       "children": [
        "IPY_MODEL_baf1a60a7c1b4d32906c8ce7421ac654",
        "IPY_MODEL_8b39ce9f414948e2acb5c8cfdcf3d6a8"
       ],
       "layout": "IPY_MODEL_48081768731e4a308ef6582f5108536e"
      }
     },
     "2b06ff77988044cbbe92812f8d420a23": {
      "model_module": "@jupyter-widgets/base",
      "model_module_version": "1.2.0",
      "model_name": "LayoutModel",
      "state": {
       "margin": "20px 0px"
      }
     },
     "2b0ed78f41644859a87787f1255e1b81": {
      "model_module": "@jupyter-widgets/controls",
      "model_module_version": "1.5.0",
      "model_name": "DescriptionStyleModel",
      "state": {
       "description_width": ""
      }
     },
     "2b2537aec03a486682b37fa201430b15": {
      "model_module": "@jupyter-widgets/controls",
      "model_module_version": "1.5.0",
      "model_name": "DescriptionStyleModel",
      "state": {
       "description_width": ""
      }
     },
     "2b6bcb5538be448e892da6df8ef5fc7b": {
      "model_module": "@jupyter-widgets/base",
      "model_module_version": "1.2.0",
      "model_name": "LayoutModel",
      "state": {}
     },
     "2b91b62c30f74a2d80349a21cd49380b": {
      "model_module": "@jupyter-widgets/controls",
      "model_module_version": "1.5.0",
      "model_name": "HBoxModel",
      "state": {
       "children": [
        "IPY_MODEL_9334138484854b40a86080f1b61c3cbf",
        "IPY_MODEL_2ebfcf29b8b347bcbb892e15552a4724"
       ],
       "layout": "IPY_MODEL_37ab0aab470c48e49c20c495f371e4d0"
      }
     },
     "2ba15c3936ee4dd3a35e1ac8b8710c9d": {
      "model_module": "@jupyter-widgets/controls",
      "model_module_version": "1.5.0",
      "model_name": "FloatSliderModel",
      "state": {
       "description": "shininess",
       "layout": "IPY_MODEL_6568a84592d945ddaf5e6c0dc6c917c1",
       "max": 1,
       "step": 0.1,
       "style": "IPY_MODEL_c076c7f8110443d8b16ad88e24d4c9c2",
       "value": 0.2
      }
     },
     "2bc76f78cd2740a6bbf7d58fd5b203a9": {
      "model_module": "@jupyter-widgets/controls",
      "model_module_version": "1.5.0",
      "model_name": "BoundedIntTextModel",
      "state": {
       "description": "index",
       "layout": "IPY_MODEL_0263367b3ff344bcaffd73258d997ec2",
       "style": "IPY_MODEL_20f26d89736d43d19f678d93232feee7",
       "value": 1
      }
     },
     "2bc9612a3671413583aacf103d7434c3": {
      "model_module": "@jupyter-widgets/controls",
      "model_module_version": "1.5.0",
      "model_name": "HBoxModel",
      "state": {
       "children": [
        "IPY_MODEL_eb9c25defb924bd4a139c44c404e7001",
        "IPY_MODEL_81cddc7ae49e4648a2c274c8e34674fa"
       ],
       "layout": "IPY_MODEL_4b4fb8f835ff4f25801bdcf57fb1eba4"
      }
     },
     "2c07ac220de942ccb12377bf94366b14": {
      "model_module": "@jupyter-widgets/controls",
      "model_module_version": "1.5.0",
      "model_name": "ColorPickerModel",
      "state": {
       "description": "specular",
       "disabled": false,
       "layout": "IPY_MODEL_0fbf4f04c7844825967a392870b05c3c",
       "style": "IPY_MODEL_674ce701a99c4dd290082ac0ca4a9bf8",
       "value": "#282828"
      }
     },
     "2c2396952b064b95b30ec4636f7a5104": {
      "model_module": "@jupyter-widgets/base",
      "model_module_version": "1.2.0",
      "model_name": "LayoutModel",
      "state": {}
     },
     "2c4a0f6f749e428e81918dc2b18b6073": {
      "model_module": "@jupyter-widgets/base",
      "model_module_version": "1.2.0",
      "model_name": "LayoutModel",
      "state": {}
     },
     "2c4f8c87f0eb4c48a1315f8f85b34133": {
      "model_module": "@jupyter-widgets/controls",
      "model_module_version": "1.5.0",
      "model_name": "IntSliderModel",
      "state": {
       "description": "value",
       "layout": "IPY_MODEL_90b38a086b7a4c3dacb0a705e9da7c93",
       "max": 10,
       "min": 1,
       "style": "IPY_MODEL_d57e2be537e04b77bd713ec999a5c5a4",
       "value": 5
      }
     },
     "2c72ff2950854494b63f8872eabd3dac": {
      "model_module": "@jupyter-widgets/base",
      "model_module_version": "1.2.0",
      "model_name": "LayoutModel",
      "state": {}
     },
     "2c7e43047da344c297659bb5c7099369": {
      "model_module": "@jupyter-widgets/controls",
      "model_module_version": "1.5.0",
      "model_name": "HBoxModel",
      "state": {
       "children": [
        "IPY_MODEL_50df7fad8d974b4992fd0cea68bec79c",
        "IPY_MODEL_95e1beb5a96b4e808db8fc25b38b38b1"
       ],
       "layout": "IPY_MODEL_1252932a3a30469f9a39f40e32962dd6"
      }
     },
     "2ca34fe9924a49fc83bddc7127569de5": {
      "model_module": "@jupyter-widgets/controls",
      "model_module_version": "1.5.0",
      "model_name": "FloatSliderModel",
      "state": {
       "description": "transparency",
       "layout": "IPY_MODEL_7ca3a8c138b64f70941125a4b01033f9",
       "max": 1,
       "step": 0.1,
       "style": "IPY_MODEL_e812837d2b0f440e9038a8b882215c27"
      }
     },
     "2cbe2b9f20a14b2c9ff7c42cc96e34c6": {
      "model_module": "@jupyter-widgets/controls",
      "model_module_version": "1.5.0",
      "model_name": "ColorPickerModel",
      "state": {
       "description": "emission",
       "disabled": false,
       "layout": "IPY_MODEL_0499384873a04178a41a7a611d6d08dc",
       "style": "IPY_MODEL_c120885553c04d129fd38676ed6234d2",
       "value": "#000000"
      }
     },
     "2cebf6544aeb43e5867b20b905a27538": {
      "model_module": "@jupyter-widgets/controls",
      "model_module_version": "1.5.0",
      "model_name": "ButtonModel",
      "state": {
       "description": "Add",
       "layout": "IPY_MODEL_52ed086a39d24a57919b206846df9aba",
       "style": "IPY_MODEL_f3a5d74515114615b5d451bc8e5d23f5"
      }
     },
     "2cf86b3c818d4ae9854cb7c3aba3e9e5": {
      "model_module": "@jupyter-widgets/base",
      "model_module_version": "1.2.0",
      "model_name": "LayoutModel",
      "state": {}
     },
     "2d0c3904e1ae45eaa6ffc4291f335b1f": {
      "model_module": "@jupyter-widgets/controls",
      "model_module_version": "1.5.0",
      "model_name": "ButtonStyleModel",
      "state": {}
     },
     "2d215d5802a64161ad4658212812c5f3": {
      "model_module": "@jupyter-widgets/controls",
      "model_module_version": "1.5.0",
      "model_name": "HBoxModel",
      "state": {
       "children": [
        "IPY_MODEL_88f44b81f9624f8db9eb6600e3fb96e4"
       ],
       "layout": "IPY_MODEL_4d77f69f74244057baec36b232f87f78"
      }
     },
     "2d5a147118f043b0bedacc46a82c83fb": {
      "model_module": "@jupyter-widgets/controls",
      "model_module_version": "1.5.0",
      "model_name": "SliderStyleModel",
      "state": {
       "description_width": ""
      }
     },
     "2d7812945748435ea206c4b8b1341c7c": {
      "model_module": "pgljupyter",
      "model_module_version": "^0.1.19",
      "model_name": "MaterialEditorModel",
      "state": {
       "_model_module_version": "^0.1.19",
       "_view_module_version": "^0.1.19",
       "children": [
        "IPY_MODEL_e9e462dbc66b4f12b3954106b87e846a",
        "IPY_MODEL_9d85129303a24583bb579ed66f0f17c6",
        "IPY_MODEL_4afd330d8b794b27b31b952402605af2",
        "IPY_MODEL_1a30bd6297ea496caffb74eca89f7301",
        "IPY_MODEL_55fd0718c41b435db5caa06ebb66c4d3",
        "IPY_MODEL_3823b97d96004b689f2595044278fc3f",
        "IPY_MODEL_2ca34fe9924a49fc83bddc7127569de5",
        "IPY_MODEL_7ec9db9a54454f7cb858727c3b9c3b2c"
       ],
       "layout": "IPY_MODEL_13ba8e749f2441f7b7dfcbe5210b62c8"
      }
     },
     "2d9fad0b565a4646b1f726689ed625fc": {
      "model_module": "@jupyter-widgets/controls",
      "model_module_version": "1.5.0",
      "model_name": "ButtonStyleModel",
      "state": {}
     },
     "2da2625474d444a4a745acca04a53c1f": {
      "model_module": "@jupyter-widgets/controls",
      "model_module_version": "1.5.0",
      "model_name": "FloatSliderModel",
      "state": {
       "description": "shininess",
       "layout": "IPY_MODEL_694aa30345644ad9836c04cf3497349c",
       "max": 1,
       "step": 0.1,
       "style": "IPY_MODEL_eb38eb2960ba4c56b249425bdddbb378",
       "value": 0.2
      }
     },
     "2db2f596971f45688e65a9abdd337586": {
      "model_module": "@jupyter-widgets/controls",
      "model_module_version": "1.5.0",
      "model_name": "IntSliderModel",
      "state": {
       "description": "value",
       "layout": "IPY_MODEL_720602bd96314ddbb7e19314e2bb1ac7",
       "max": 7,
       "min": 1,
       "style": "IPY_MODEL_10203e2cc2ca454cbb746ee2e79b4d81",
       "value": 3
      }
     },
     "2db8651a2bd342e7b9af50736d9bfac4": {
      "model_module": "@jupyter-widgets/controls",
      "model_module_version": "1.5.0",
      "model_name": "DescriptionStyleModel",
      "state": {
       "description_width": ""
      }
     },
     "2de7c371544e409a8f3f128430eeced9": {
      "model_module": "@jupyter-widgets/base",
      "model_module_version": "1.2.0",
      "model_name": "LayoutModel",
      "state": {}
     },
     "2e21adf4c8bb4fac95416edb37f93844": {
      "model_module": "@jupyter-widgets/controls",
      "model_module_version": "1.5.0",
      "model_name": "ColorPickerModel",
      "state": {
       "description": "emission",
       "disabled": false,
       "layout": "IPY_MODEL_09b9272d2fe1478a8549297784bc14dc",
       "style": "IPY_MODEL_dde1071f08f442b987043d10dc31e5dd",
       "value": "#000000"
      }
     },
     "2e291dc0a02b4b878cc21b93ac478bfd": {
      "model_module": "@jupyter-widgets/base",
      "model_module_version": "1.2.0",
      "model_name": "LayoutModel",
      "state": {}
     },
     "2e48c81795b64dcba33d064847595389": {
      "model_module": "@jupyter-widgets/base",
      "model_module_version": "1.2.0",
      "model_name": "LayoutModel",
      "state": {}
     },
     "2e4a8e24f3cb480f948147e7187812ba": {
      "model_module": "@jupyter-widgets/base",
      "model_module_version": "1.2.0",
      "model_name": "LayoutModel",
      "state": {}
     },
     "2e83ffb67736453ba28acc20275e238f": {
      "model_module": "@jupyter-widgets/base",
      "model_module_version": "1.2.0",
      "model_name": "LayoutModel",
      "state": {}
     },
     "2e9b3567dc074850a4457cea55ff8a2b": {
      "model_module": "@jupyter-widgets/controls",
      "model_module_version": "1.5.0",
      "model_name": "HBoxModel",
      "state": {
       "children": [
        "IPY_MODEL_cd7bfb5080ac406ca64676e932e517e1",
        "IPY_MODEL_48dad82cb0874a77af8613d9cc02e5b8"
       ],
       "layout": "IPY_MODEL_69c450ec1a01424db338088654b05a79"
      }
     },
     "2ebfcf29b8b347bcbb892e15552a4724": {
      "model_module": "@jupyter-widgets/controls",
      "model_module_version": "1.5.0",
      "model_name": "DropdownModel",
      "state": {
       "_options_labels": [
        "Integer",
        "Float",
        "Bool"
       ],
       "index": 0,
       "layout": "IPY_MODEL_530074057fcd4130a243bde3a073669b",
       "style": "IPY_MODEL_e248c6cad0a7477090a5f66a3ae950b9"
      }
     },
     "2ed237c444f041958ac480d559718a9b": {
      "model_module": "@jupyter-widgets/controls",
      "model_module_version": "1.5.0",
      "model_name": "TextModel",
      "state": {
       "continuous_update": false,
       "description": "name",
       "layout": "IPY_MODEL_c32f6b4c4d3c4559935e3f52d16dc798",
       "style": "IPY_MODEL_8f87f71addf8423b8fb30f7dbf62cc02",
       "value": "leafduration"
      }
     },
     "2efed7a1fa88483699467354d3562b8e": {
      "model_module": "@jupyter-widgets/base",
      "model_module_version": "1.2.0",
      "model_name": "LayoutModel",
      "state": {}
     },
     "2f0afcc5db404c0c9baabdd8288c7f23": {
      "model_module": "@jupyter-widgets/controls",
      "model_module_version": "1.5.0",
      "model_name": "TabModel",
      "state": {
       "_titles": {
        "0": "leuwenberg.json"
       },
       "children": [
        "IPY_MODEL_73496737da0c4b479a2e43c89062fdf3"
       ],
       "layout": "IPY_MODEL_2f120020ca8d4391a2338862187e2aa9"
      }
     },
     "2f120020ca8d4391a2338862187e2aa9": {
      "model_module": "@jupyter-widgets/base",
      "model_module_version": "1.2.0",
      "model_name": "LayoutModel",
      "state": {}
     },
     "2f17b1525d00451c858cb41c69112c69": {
      "model_module": "@jupyter-widgets/controls",
      "model_module_version": "1.5.0",
      "model_name": "ButtonStyleModel",
      "state": {}
     },
     "2f2a18791e474473882476c2b545f886": {
      "model_module": "@jupyter-widgets/controls",
      "model_module_version": "1.5.0",
      "model_name": "BoundedIntTextModel",
      "state": {
       "description": "index",
       "layout": "IPY_MODEL_4ba98a3088f249428269655303174413",
       "style": "IPY_MODEL_604d1a618d0d48e8ba8e49ac54668dfb",
       "value": 4
      }
     },
     "2f44d75cf5a94a1f952b35bf8347abb8": {
      "model_module": "@jupyter-widgets/controls",
      "model_module_version": "1.5.0",
      "model_name": "TextModel",
      "state": {
       "continuous_update": false,
       "description": "name",
       "layout": "IPY_MODEL_436fd876208e40f2bed14a468634cd12",
       "style": "IPY_MODEL_34cde60d4db54699b827b7171ab0d6da",
       "value": "leafold"
      }
     },
     "2f62c1ab623c4435ae109ecf1f320711": {
      "model_module": "@jupyter-widgets/base",
      "model_module_version": "1.2.0",
      "model_name": "LayoutModel",
      "state": {}
     },
     "2f7990fb68574e08a097ad24e9646305": {
      "model_module": "@jupyter-widgets/controls",
      "model_module_version": "1.5.0",
      "model_name": "ButtonStyleModel",
      "state": {}
     },
     "2f7bae47a5d04c279483d29ce1fb515d": {
      "model_module": "@jupyter-widgets/controls",
      "model_module_version": "1.5.0",
      "model_name": "DescriptionStyleModel",
      "state": {
       "description_width": ""
      }
     },
     "2fa0e323165245eba4d3e15b8215c92f": {
      "model_module": "@jupyter-widgets/base",
      "model_module_version": "1.2.0",
      "model_name": "LayoutModel",
      "state": {}
     },
     "2fbe66108ef0435abf2f0ae7d1785c48": {
      "model_module": "@jupyter-widgets/controls",
      "model_module_version": "1.5.0",
      "model_name": "ButtonStyleModel",
      "state": {}
     },
     "3000a614557743cbb42abf392046434f": {
      "model_module": "@jupyter-widgets/base",
      "model_module_version": "1.2.0",
      "model_name": "LayoutModel",
      "state": {}
     },
     "300d90438a1445f4819171e16fa9d386": {
      "model_module": "@jupyter-widgets/controls",
      "model_module_version": "1.5.0",
      "model_name": "HBoxModel",
      "state": {
       "layout": "IPY_MODEL_6f5e6f5355bd440d8af5ee837dac75a9"
      }
     },
     "3036709698c94d53ac94124615b9612e": {
      "model_module": "@jupyter-widgets/controls",
      "model_module_version": "1.5.0",
      "model_name": "VBoxModel",
      "state": {
       "children": [
        "IPY_MODEL_34e6f4f09b2d4c69b0edd0a18c352caf",
        "IPY_MODEL_6b64f44ea36c41a0bce14ae865b76233"
       ],
       "layout": "IPY_MODEL_82e2fd1b3d93436b87d96fe4772c750c"
      }
     },
     "3036777e7fe24a1599267429c31acd12": {
      "model_module": "@jupyter-widgets/controls",
      "model_module_version": "1.5.0",
      "model_name": "DescriptionStyleModel",
      "state": {
       "description_width": ""
      }
     },
     "30473609ffbf4e1781ef3e743132ea77": {
      "model_module": "@jupyter-widgets/controls",
      "model_module_version": "1.5.0",
      "model_name": "ColorPickerModel",
      "state": {
       "description": "specular",
       "disabled": false,
       "layout": "IPY_MODEL_d4ef39502216401ca3c2e7381d844b04",
       "style": "IPY_MODEL_38271c79a85044a1a2f372e45b7f3762",
       "value": "#282828"
      }
     },
     "304e2cc8f62a4765b62a59138286ab58": {
      "model_module": "@jupyter-widgets/controls",
      "model_module_version": "1.5.0",
      "model_name": "ColorPickerModel",
      "state": {
       "description": "emission",
       "disabled": false,
       "layout": "IPY_MODEL_bcf4fc941c344389979acd078603c0fc",
       "style": "IPY_MODEL_c9ee8ed99d854415b137aeef8b399bf7",
       "value": "#000000"
      }
     },
     "30d04e67afa2429b8229a2e9aae7d544": {
      "model_module": "@jupyter-widgets/controls",
      "model_module_version": "1.5.0",
      "model_name": "ColorPickerModel",
      "state": {
       "description": "emission",
       "disabled": false,
       "layout": "IPY_MODEL_6dcf6d518b354f35a404160bd83b6ff7",
       "style": "IPY_MODEL_13f6cb3231334246af2b1e8b585d86fc",
       "value": "#000000"
      }
     },
     "30d8f21dda4646f0acb3611afa8c89a6": {
      "model_module": "@jupyter-widgets/controls",
      "model_module_version": "1.5.0",
      "model_name": "SliderStyleModel",
      "state": {
       "description_width": ""
      }
     },
     "310624f7b16b4f028b5ca1be66aaddee": {
      "model_module": "@jupyter-widgets/controls",
      "model_module_version": "1.5.0",
      "model_name": "TextModel",
      "state": {
       "continuous_update": false,
       "description": "name",
       "layout": "IPY_MODEL_b8c7f3e772e0418984b752d8cabfe954",
       "style": "IPY_MODEL_dfbf3f0450ae43368952951aba7baba3",
       "value": "leafold"
      }
     },
     "3118b20c6b1b41b095139fadd7aa0f5e": {
      "model_module": "@jupyter-widgets/controls",
      "model_module_version": "1.5.0",
      "model_name": "HBoxModel",
      "state": {
       "children": [
        "IPY_MODEL_fd123b157eeb4540a7cc729aaa32ef3f",
        "IPY_MODEL_a2b015214e0846d9ac5d81a1bebac7b4"
       ],
       "layout": "IPY_MODEL_c668486775d54df3a202a26b6d1a94af"
      }
     },
     "311ce300b7c84bb79c37a6974f900649": {
      "model_module": "@jupyter-widgets/controls",
      "model_module_version": "1.5.0",
      "model_name": "ButtonModel",
      "state": {
       "description": "Delete",
       "layout": "IPY_MODEL_d007a3afb7ef4e6ab1691e067fa2adc5",
       "style": "IPY_MODEL_7878f40721f94603b8bcdf02db2a6f8c"
      }
     },
     "31516d112bb34f208b3e2ebaa6a85f0f": {
      "model_module": "@jupyter-widgets/controls",
      "model_module_version": "1.5.0",
      "model_name": "SliderStyleModel",
      "state": {
       "description_width": ""
      }
     },
     "3152de1fa1164856a37a0aa90a315025": {
      "model_module": "pgljupyter",
      "model_module_version": "^0.1.17",
      "model_name": "IntEditorModel",
      "state": {
       "_model_module_version": "^0.1.17",
       "_view_module_version": "^0.1.17",
       "children": [
        "IPY_MODEL_526eb050a3ef4576aa3195631f16da0b",
        "IPY_MODEL_4720179570ea4e868498362e539111b3"
       ],
       "layout": "IPY_MODEL_d3311825194e40848ec86c6df05ec71f"
      }
     },
     "3195adc8fefb45378839f142bc7b7fdc": {
      "model_module": "@jupyter-widgets/base",
      "model_module_version": "1.2.0",
      "model_name": "LayoutModel",
      "state": {}
     },
     "31e5447b555c40528ae38c2d4c949f9f": {
      "model_module": "@jupyter-widgets/controls",
      "model_module_version": "1.5.0",
      "model_name": "ButtonStyleModel",
      "state": {}
     },
     "31f8f240a62d42c994ef77ad3eff9028": {
      "model_module": "@jupyter-widgets/controls",
      "model_module_version": "1.5.0",
      "model_name": "DescriptionStyleModel",
      "state": {
       "description_width": ""
      }
     },
     "31ff80b71d0e49b293026e52abfdb4bc": {
      "model_module": "@jupyter-widgets/controls",
      "model_module_version": "1.5.0",
      "model_name": "HBoxModel",
      "state": {
       "children": [
        "IPY_MODEL_98fe3261f12c4e249958290f37ba93d2",
        "IPY_MODEL_02a935317d5e4652b323d2ec7d9e44eb"
       ],
       "layout": "IPY_MODEL_20ab7410ec8c4e87a7028f3830335948"
      }
     },
     "3242767a029c4316a2ec4ab31704f3d8": {
      "model_module": "@jupyter-widgets/base",
      "model_module_version": "1.2.0",
      "model_name": "LayoutModel",
      "state": {}
     },
     "32834c0308ce4413b19627f02762d646": {
      "model_module": "@jupyter-widgets/controls",
      "model_module_version": "1.5.0",
      "model_name": "IntSliderModel",
      "state": {
       "description": "value",
       "layout": "IPY_MODEL_c43e0238c1ef4e7c983ad07ad7529348",
       "max": 10,
       "min": 1,
       "style": "IPY_MODEL_86b075a727d1420b8b8e02e04c401dbf",
       "value": 3
      }
     },
     "3324d05d1f6847678f57a1016eafaa0e": {
      "model_module": "@jupyter-widgets/controls",
      "model_module_version": "1.5.0",
      "model_name": "DescriptionStyleModel",
      "state": {
       "description_width": ""
      }
     },
     "33370c23f7f94edbae64929f7be4a58c": {
      "model_module": "@jupyter-widgets/base",
      "model_module_version": "1.2.0",
      "model_name": "LayoutModel",
      "state": {
       "margin": "20px 0px"
      }
     },
     "333c1c1af63143dfb66f43fe624cc4ba": {
      "model_module": "@jupyter-widgets/controls",
      "model_module_version": "1.5.0",
      "model_name": "ButtonStyleModel",
      "state": {}
     },
     "3370ab19ca7d4eb6bd833095110e8888": {
      "model_module": "@jupyter-widgets/controls",
      "model_module_version": "1.5.0",
      "model_name": "HBoxModel",
      "state": {
       "children": [
        "IPY_MODEL_db5f6dc768de4f52af107562f58156fb",
        "IPY_MODEL_ef5333f5371043d19deb770e002aef6f"
       ],
       "layout": "IPY_MODEL_4ef238a8a44a43369f6ff4c32bb90c5c"
      }
     },
     "33a25a7f6c774d99a2ad689dcc5a28a6": {
      "model_module": "@jupyter-widgets/controls",
      "model_module_version": "1.5.0",
      "model_name": "ButtonStyleModel",
      "state": {}
     },
     "33df28684ad348f5b03827854e48c752": {
      "model_module": "@jupyter-widgets/controls",
      "model_module_version": "1.5.0",
      "model_name": "SliderStyleModel",
      "state": {
       "description_width": ""
      }
     },
     "33ecac72bc1645e0b487c066dc742e70": {
      "model_module": "@jupyter-widgets/controls",
      "model_module_version": "1.5.0",
      "model_name": "TextModel",
      "state": {
       "continuous_update": false,
       "description": "name",
       "layout": "IPY_MODEL_407661e8679b4f3b9602e2daaddae72e",
       "style": "IPY_MODEL_a6a5cc76976d4a088ca7e7f307750adf",
       "value": "leaf_new"
      }
     },
     "34039ec0ba934c63862e396616b031ef": {
      "model_module": "@jupyter-widgets/controls",
      "model_module_version": "1.5.0",
      "model_name": "ButtonModel",
      "state": {
       "description": "Add category",
       "layout": "IPY_MODEL_f3b5f46f7b7c466baaef384604030357",
       "style": "IPY_MODEL_54afde6385054afa854c63b78d32c519"
      }
     },
     "340f0dbc98ff42bda049e2e8bbb7b838": {
      "model_module": "@jupyter-widgets/base",
      "model_module_version": "1.2.0",
      "model_name": "LayoutModel",
      "state": {}
     },
     "341481874f4a40c88fa0bc3937bf1f74": {
      "model_module": "@jupyter-widgets/base",
      "model_module_version": "1.2.0",
      "model_name": "LayoutModel",
      "state": {}
     },
     "3423cf0a4514403f822864a725d3fedc": {
      "model_module": "@jupyter-widgets/base",
      "model_module_version": "1.2.0",
      "model_name": "LayoutModel",
      "state": {}
     },
     "344335e7670a495595018a08fc546dec": {
      "model_module": "@jupyter-widgets/base",
      "model_module_version": "1.2.0",
      "model_name": "LayoutModel",
      "state": {}
     },
     "34cde60d4db54699b827b7171ab0d6da": {
      "model_module": "@jupyter-widgets/controls",
      "model_module_version": "1.5.0",
      "model_name": "DescriptionStyleModel",
      "state": {
       "description_width": ""
      }
     },
     "34e6f4f09b2d4c69b0edd0a18c352caf": {
      "model_module": "@jupyter-widgets/controls",
      "model_module_version": "1.5.0",
      "model_name": "HBoxModel",
      "state": {
       "layout": "IPY_MODEL_f7ff34c66d4b431c8d7a458913ac23de"
      }
     },
     "352b11aaadc949e5b6d43b2af8c9c8bf": {
      "model_module": "@jupyter-widgets/controls",
      "model_module_version": "1.5.0",
      "model_name": "DescriptionStyleModel",
      "state": {
       "description_width": ""
      }
     },
     "353ddb1420fc4c4b98046d215b3a0a75": {
      "model_module": "@jupyter-widgets/controls",
      "model_module_version": "1.5.0",
      "model_name": "VBoxModel",
      "state": {
       "children": [
        "IPY_MODEL_4ee93253ee1e4f019df07258a39d8b47",
        "IPY_MODEL_d77d077081bb4eb8baa6f71acfaca80d",
        "IPY_MODEL_7607d9a6764a4b5585e648fdb1289c55",
        "IPY_MODEL_35ad94a74fd54bed8475e8324c36f8d3",
        "IPY_MODEL_1a3a8e4cff4b498aad3788925124b846"
       ],
       "layout": "IPY_MODEL_ad1542a9ee5d493fb7cad40f4ec24a08"
      }
     },
     "3581f98b0e0b489eb1e8d1ffb45828de": {
      "model_module": "@jupyter-widgets/base",
      "model_module_version": "1.2.0",
      "model_name": "LayoutModel",
      "state": {}
     },
     "35888e4f3f5048409ae7317289d152bd": {
      "model_module": "@jupyter-widgets/base",
      "model_module_version": "1.2.0",
      "model_name": "LayoutModel",
      "state": {
       "margin": "20px 0px"
      }
     },
     "35ad94a74fd54bed8475e8324c36f8d3": {
      "model_module": "@jupyter-widgets/controls",
      "model_module_version": "1.5.0",
      "model_name": "HBoxModel",
      "state": {
       "children": [
        "IPY_MODEL_4846a27e60cc441d93d5c535ffde0e6e",
        "IPY_MODEL_6f0f8070aff54befb01d59fb84b450b7"
       ],
       "layout": "IPY_MODEL_f7ff34c66d4b431c8d7a458913ac23de"
      }
     },
     "35d7a6de78294f0a93e1067f36baf237": {
      "model_module": "@jupyter-widgets/controls",
      "model_module_version": "1.5.0",
      "model_name": "ButtonModel",
      "state": {
       "description": "Delete category",
       "layout": "IPY_MODEL_0f40c1df13784f579067a2bd0aaa9d35",
       "style": "IPY_MODEL_6d4072720b9f49d79f96a3e2beff6e17"
      }
     },
     "35de142236d6430682387800cc229756": {
      "model_module": "@jupyter-widgets/controls",
      "model_module_version": "1.5.0",
      "model_name": "VBoxModel",
      "state": {
       "children": [
        "IPY_MODEL_417217b16fe444758f93fa05fe33456f",
        "IPY_MODEL_b52d8d1f7a39435a937737cba39c4169"
       ],
       "layout": "IPY_MODEL_63354b64c5c6445686dd6064588bcd06"
      }
     },
     "36206315b4434144abd918600eba897c": {
      "model_module": "@jupyter-widgets/controls",
      "model_module_version": "1.5.0",
      "model_name": "HBoxModel",
      "state": {
       "children": [
        "IPY_MODEL_08c9c604a4d44fa3be0d38a0cee344e7",
        "IPY_MODEL_ae6582bcdffa4a9ea49948fb8e79804f"
       ],
       "layout": "IPY_MODEL_aee7a263a0f64a1fbea2c127454b5880"
      }
     },
     "368bf31b2cd549b2949bece28e1205ad": {
      "model_module": "@jupyter-widgets/controls",
      "model_module_version": "1.5.0",
      "model_name": "CheckboxModel",
      "state": {
       "description": "Auto save",
       "disabled": false,
       "layout": "IPY_MODEL_2c4a0f6f749e428e81918dc2b18b6073",
       "style": "IPY_MODEL_fb7df1f7b61a4ed2818a12f94a3168c4",
       "value": false
      }
     },
     "36a0f787f1b14b6a9e881d9b89dbe6f9": {
      "model_module": "@jupyter-widgets/controls",
      "model_module_version": "1.5.0",
      "model_name": "ButtonStyleModel",
      "state": {}
     },
     "36cefaebd481433a986da12e8f4ca923": {
      "model_module": "@jupyter-widgets/base",
      "model_module_version": "1.2.0",
      "model_name": "LayoutModel",
      "state": {}
     },
     "36dae7e778b4478990ee42ee7dd61824": {
      "model_module": "@jupyter-widgets/base",
      "model_module_version": "1.2.0",
      "model_name": "LayoutModel",
      "state": {}
     },
     "37056445934e4abba973138c48789f20": {
      "model_module": "@jupyter-widgets/controls",
      "model_module_version": "1.5.0",
      "model_name": "DescriptionStyleModel",
      "state": {
       "description_width": ""
      }
     },
     "3761ab3b962b4bdc83a0b5c3edaaf2f4": {
      "model_module": "@jupyter-widgets/base",
      "model_module_version": "1.2.0",
      "model_name": "LayoutModel",
      "state": {}
     },
     "37a93703112240f1b4ba6fd167b2abd8": {
      "model_module": "@jupyter-widgets/base",
      "model_module_version": "1.2.0",
      "model_name": "LayoutModel",
      "state": {}
     },
     "37ab0aab470c48e49c20c495f371e4d0": {
      "model_module": "@jupyter-widgets/base",
      "model_module_version": "1.2.0",
      "model_name": "LayoutModel",
      "state": {}
     },
     "37b2865fee2b4a02bc2013f64eaefc86": {
      "model_module": "@jupyter-widgets/base",
      "model_module_version": "1.2.0",
      "model_name": "LayoutModel",
      "state": {
       "flex_flow": "row wrap"
      }
     },
     "37bad97f36864d09b884b5b159f845c5": {
      "model_module": "@jupyter-widgets/controls",
      "model_module_version": "1.5.0",
      "model_name": "ColorPickerModel",
      "state": {
       "description": "specular",
       "disabled": false,
       "layout": "IPY_MODEL_8ed6d95dd9ef49ee8cf874817418fc76",
       "style": "IPY_MODEL_e9582f1549fd47149a0a82f1ee63f055",
       "value": "#282828"
      }
     },
     "37be1e18450a48628dc1cfe7889e3ae0": {
      "model_module": "@jupyter-widgets/base",
      "model_module_version": "1.2.0",
      "model_name": "LayoutModel",
      "state": {}
     },
     "37cb01c9b3e84e9da135afac63cb3f28": {
      "model_module": "@jupyter-widgets/base",
      "model_module_version": "1.2.0",
      "model_name": "LayoutModel",
      "state": {}
     },
     "37d590580784486799b82835c1490cd0": {
      "model_module": "pgljupyter",
      "model_module_version": "^0.1.18",
      "model_name": "IntEditorModel",
      "state": {
       "_model_module_version": "^0.1.18",
       "_view_module_version": "^0.1.18",
       "children": [
        "IPY_MODEL_db9ed437c56e4afcaea7ce8551e64a91",
        "IPY_MODEL_1495c1165fc748ae8bb58d756996d706"
       ],
       "layout": "IPY_MODEL_e18491acb9394f188ffa2c3096839935"
      }
     },
     "3823b97d96004b689f2595044278fc3f": {
      "model_module": "@jupyter-widgets/controls",
      "model_module_version": "1.5.0",
      "model_name": "FloatSliderModel",
      "state": {
       "description": "diffuse",
       "layout": "IPY_MODEL_c908184eb23d4c2496f39acbf94a858a",
       "max": 3,
       "step": 0.1,
       "style": "IPY_MODEL_bad4e236bef945b193cd8662cba5516a",
       "value": 1
      }
     },
     "38271c79a85044a1a2f372e45b7f3762": {
      "model_module": "@jupyter-widgets/controls",
      "model_module_version": "1.5.0",
      "model_name": "DescriptionStyleModel",
      "state": {
       "description_width": ""
      }
     },
     "382ba098f6cc4adf8bfb135a9de7b6d8": {
      "model_module": "@jupyter-widgets/base",
      "model_module_version": "1.2.0",
      "model_name": "LayoutModel",
      "state": {}
     },
     "3859230710584fe98955e85d63f45d07": {
      "model_module": "@jupyter-widgets/base",
      "model_module_version": "1.2.0",
      "model_name": "LayoutModel",
      "state": {}
     },
     "38af2c3340fa4dccbe1fe87f084d021e": {
      "model_module": "@jupyter-widgets/controls",
      "model_module_version": "1.5.0",
      "model_name": "ColorPickerModel",
      "state": {
       "description": "specular",
       "disabled": false,
       "layout": "IPY_MODEL_a4330bdab939492fbed45caab83a37b0",
       "style": "IPY_MODEL_e1ad944eafa344f19b268b968727ebe2",
       "value": "#282828"
      }
     },
     "38aff3c9c69e426985154cc4165b3f46": {
      "model_module": "@jupyter-widgets/controls",
      "model_module_version": "1.5.0",
      "model_name": "ButtonModel",
      "state": {
       "description": "Add",
       "layout": "IPY_MODEL_6a95929048464d27b92643ff9e093d6b",
       "style": "IPY_MODEL_718976f5e4da429abce9bf4719b35303"
      }
     },
     "38c72ff473424ad9bfe39cfda219b63e": {
      "model_module": "@jupyter-widgets/controls",
      "model_module_version": "1.5.0",
      "model_name": "DescriptionStyleModel",
      "state": {
       "description_width": ""
      }
     },
     "38e26cd9e23545518709851cba698d94": {
      "model_module": "@jupyter-widgets/base",
      "model_module_version": "1.2.0",
      "model_name": "LayoutModel",
      "state": {}
     },
     "38f0ad6d78c543e584e0999e772ae5b0": {
      "model_module": "@jupyter-widgets/controls",
      "model_module_version": "1.5.0",
      "model_name": "DescriptionStyleModel",
      "state": {
       "description_width": ""
      }
     },
     "3906a75a08ed413aba2363f7e4fa3366": {
      "model_module": "@jupyter-widgets/controls",
      "model_module_version": "1.5.0",
      "model_name": "TextModel",
      "state": {
       "continuous_update": false,
       "description": "name",
       "layout": "IPY_MODEL_4b2b575ede144d15b37a9b26cc73c875",
       "style": "IPY_MODEL_504c852fdd62470d9fce5fbb9e9e18bc",
       "value": "maxorder"
      }
     },
     "39084374a571435e824d7618f816aad4": {
      "model_module": "@jupyter-widgets/base",
      "model_module_version": "1.2.0",
      "model_name": "LayoutModel",
      "state": {}
     },
     "390ec84636c54a9186e42f79fc5c39a9": {
      "model_module": "@jupyter-widgets/controls",
      "model_module_version": "1.5.0",
      "model_name": "VBoxModel",
      "state": {
       "children": [
        "IPY_MODEL_5eff584d0b2b41aeb1390c34883b3952",
        "IPY_MODEL_b78a37695bbf435fb731861c038b885f"
       ],
       "layout": "IPY_MODEL_256f56f78e9543718e49f07029f8099c"
      }
     },
     "391878e8ba0540f5adaa617056b8dd47": {
      "model_module": "@jupyter-widgets/controls",
      "model_module_version": "1.5.0",
      "model_name": "DescriptionStyleModel",
      "state": {
       "description_width": ""
      }
     },
     "3969e43bd2ff40cd9083e491f4ee8a61": {
      "model_module": "@jupyter-widgets/controls",
      "model_module_version": "1.5.0",
      "model_name": "TextModel",
      "state": {
       "continuous_update": false,
       "description": "name",
       "layout": "IPY_MODEL_2f62c1ab623c4435ae109ecf1f320711",
       "style": "IPY_MODEL_8f51043f8eec495db2aa437cf47dd5d0",
       "value": "radinc"
      }
     },
     "399fc3d82a3b4cb6984cdc1806f6c118": {
      "model_module": "@jupyter-widgets/controls",
      "model_module_version": "1.5.0",
      "model_name": "TextModel",
      "state": {
       "continuous_update": false,
       "description": "name",
       "layout": "IPY_MODEL_b3845888ce8d4ad4986e97d2f893e730",
       "style": "IPY_MODEL_6d1a398411bc4c81808725799dd684d4",
       "value": "leaf_old"
      }
     },
     "39b48239860647a19accd22046ec23a9": {
      "model_module": "@jupyter-widgets/base",
      "model_module_version": "1.2.0",
      "model_name": "LayoutModel",
      "state": {}
     },
     "3a06d16c9b3e4435a1ad65bd71604d2e": {
      "model_module": "@jupyter-widgets/base",
      "model_module_version": "1.2.0",
      "model_name": "LayoutModel",
      "state": {
       "margin": "20px 0px"
      }
     },
     "3a91f9dd6dd840dfa42d860498e26055": {
      "model_module": "@jupyter-widgets/controls",
      "model_module_version": "1.5.0",
      "model_name": "HBoxModel",
      "state": {
       "children": [
        "IPY_MODEL_35d7a6de78294f0a93e1067f36baf237"
       ],
       "layout": "IPY_MODEL_5a6aab1bb709492da4f69389f9069c24"
      }
     },
     "3af78c5ade4d410a8a1156f28dde5870": {
      "model_module": "@jupyter-widgets/base",
      "model_module_version": "1.2.0",
      "model_name": "LayoutModel",
      "state": {}
     },
     "3afbf51007944e8f8954670763c456a2": {
      "model_module": "@jupyter-widgets/base",
      "model_module_version": "1.2.0",
      "model_name": "LayoutModel",
      "state": {}
     },
     "3b280508434144bfb2cc499f02a544f3": {
      "model_module": "@jupyter-widgets/base",
      "model_module_version": "1.2.0",
      "model_name": "LayoutModel",
      "state": {
       "margin": "20px 0px"
      }
     },
     "3b3e23c52c034fbba7d416e65c71d04a": {
      "model_module": "@jupyter-widgets/controls",
      "model_module_version": "1.5.0",
      "model_name": "ButtonStyleModel",
      "state": {}
     },
     "3b4a50bb20de416aaf7650c47c84598b": {
      "model_module": "@jupyter-widgets/base",
      "model_module_version": "1.2.0",
      "model_name": "LayoutModel",
      "state": {}
     },
     "3b6e5ecfd1944c16b6776d9fc68b197f": {
      "model_module": "@jupyter-widgets/controls",
      "model_module_version": "1.5.0",
      "model_name": "ColorPickerModel",
      "state": {
       "description": "emission",
       "disabled": false,
       "layout": "IPY_MODEL_02cd8be6c855476f923f34ecaade3abd",
       "style": "IPY_MODEL_b0278727c6984480ae67b3caa91c5c28",
       "value": "#000000"
      }
     },
     "3b6eb237ab884fc6a9851aa3c2d821fe": {
      "model_module": "@jupyter-widgets/base",
      "model_module_version": "1.2.0",
      "model_name": "LayoutModel",
      "state": {}
     },
     "3b8516e57df04b72aa4033410b7cc6fb": {
      "model_module": "@jupyter-widgets/controls",
      "model_module_version": "1.5.0",
      "model_name": "DescriptionStyleModel",
      "state": {
       "description_width": ""
      }
     },
     "3ba3327a9ad340168a7a06f365fdced1": {
      "model_module": "@jupyter-widgets/base",
      "model_module_version": "1.2.0",
      "model_name": "LayoutModel",
      "state": {}
     },
     "3ba93cb374114bc4a5fdc1c020fb99d2": {
      "model_module": "@jupyter-widgets/base",
      "model_module_version": "1.2.0",
      "model_name": "LayoutModel",
      "state": {}
     },
     "3bc727a4c5e842eba687117ad175a2bc": {
      "model_module": "@jupyter-widgets/base",
      "model_module_version": "1.2.0",
      "model_name": "LayoutModel",
      "state": {}
     },
     "3bc82dbd12c54e549771ee3d9cd55b1d": {
      "model_module": "@jupyter-widgets/base",
      "model_module_version": "1.2.0",
      "model_name": "LayoutModel",
      "state": {}
     },
     "3bcea9f32a2f480c95fd4897749b2ca9": {
      "model_module": "@jupyter-widgets/controls",
      "model_module_version": "1.5.0",
      "model_name": "TextModel",
      "state": {
       "layout": "IPY_MODEL_ee257afeb107428795eb942a17db9082",
       "placeholder": "category name",
       "style": "IPY_MODEL_f6831da68c52444e88220f9ed6ef5b40"
      }
     },
     "3bd8c5155e614aa49b91b3ee03106bb8": {
      "model_module": "@jupyter-widgets/base",
      "model_module_version": "1.2.0",
      "model_name": "LayoutModel",
      "state": {}
     },
     "3c36699284b54bd483272ff26ed52203": {
      "model_module": "@jupyter-widgets/controls",
      "model_module_version": "1.5.0",
      "model_name": "FloatSliderModel",
      "state": {
       "description": "shininess",
       "layout": "IPY_MODEL_5c675aab59fb4845aac7b8dac885e566",
       "max": 1,
       "step": 0.1,
       "style": "IPY_MODEL_ca53e0658bf34086ba83cddc03f09176",
       "value": 0.2
      }
     },
     "3c896b356b9b402f8ae6e80bf9405ba7": {
      "model_module": "@jupyter-widgets/base",
      "model_module_version": "1.2.0",
      "model_name": "LayoutModel",
      "state": {}
     },
     "3c9570eda3684eab96511e129bb5cee0": {
      "model_module": "pgljupyter",
      "model_module_version": "^0.1.17",
      "model_name": "IntEditorModel",
      "state": {
       "_model_module_version": "^0.1.17",
       "_view_module_version": "^0.1.17",
       "children": [
        "IPY_MODEL_424624df5c714774b94c513145e29a9c",
        "IPY_MODEL_2db2f596971f45688e65a9abdd337586"
       ],
       "layout": "IPY_MODEL_e14b8d9da9d94827aa6e7a2c4a59032a"
      }
     },
     "3de3b034852b47c9a285b62f838b9986": {
      "model_module": "@jupyter-widgets/controls",
      "model_module_version": "1.5.0",
      "model_name": "DescriptionStyleModel",
      "state": {
       "description_width": ""
      }
     },
     "3e2965ac15734eacbe93346089045d2a": {
      "model_module": "pgljupyter",
      "model_module_version": "^0.1.16",
      "model_name": "IntEditorModel",
      "state": {
       "_model_module_version": "^0.1.16",
       "_view_module_version": "^0.1.16",
       "children": [
        "IPY_MODEL_a72f273cdb3945e394051fb5a3ed72de",
        "IPY_MODEL_f07ec7a47aa64a3a83eebeecca3f4573",
        "IPY_MODEL_1d6ac4f49b314f0e9fb3532cfc3b8bce",
        "IPY_MODEL_0f84ed044f5d499287d57c8c98211fae",
        "IPY_MODEL_06a4c0bb621c49b0a886a6f2d4b71f84"
       ],
       "layout": "IPY_MODEL_16bd9822848d4ea8a76ae7ebedd16681"
      }
     },
     "3e44ac9e61c14a0f9579e3363460f583": {
      "model_module": "@jupyter-widgets/controls",
      "model_module_version": "1.5.0",
      "model_name": "ColorPickerModel",
      "state": {
       "description": "emission",
       "disabled": false,
       "layout": "IPY_MODEL_4885badfb81242a3a0e907414c08b51f",
       "style": "IPY_MODEL_0a8707e65f2346558a9ab598cc46de95",
       "value": "#000000"
      }
     },
     "3e64b59aa9974065a16ce4e79ea27464": {
      "model_module": "@jupyter-widgets/controls",
      "model_module_version": "1.5.0",
      "model_name": "TextModel",
      "state": {
       "continuous_update": false,
       "description": "name",
       "layout": "IPY_MODEL_5da6a4695aee4e9ab96fad51b59727c6",
       "style": "IPY_MODEL_63c9d2863df64449a1d81b197959dbbe",
       "value": "leaf_old"
      }
     },
     "3e88ff73b7174894a74048caac61d6dd": {
      "model_module": "@jupyter-widgets/base",
      "model_module_version": "1.2.0",
      "model_name": "LayoutModel",
      "state": {}
     },
     "3eaf0cde17004332ab35b0f57fc0d75b": {
      "model_module": "@jupyter-widgets/base",
      "model_module_version": "1.2.0",
      "model_name": "LayoutModel",
      "state": {}
     },
     "3eb5de6cfa8c4221935e7232c267b322": {
      "model_module": "@jupyter-widgets/base",
      "model_module_version": "1.2.0",
      "model_name": "LayoutModel",
      "state": {}
     },
     "3ec386de663b4617bc9f49b851f4ac02": {
      "model_module": "@jupyter-widgets/controls",
      "model_module_version": "1.5.0",
      "model_name": "ButtonStyleModel",
      "state": {}
     },
     "3eebd7d76fd1439fb7e9a86462a20975": {
      "model_module": "@jupyter-widgets/controls",
      "model_module_version": "1.5.0",
      "model_name": "ButtonStyleModel",
      "state": {}
     },
     "3f1c5cb37d464c0c965c97fc3a1e7f60": {
      "model_module": "@jupyter-widgets/controls",
      "model_module_version": "1.5.0",
      "model_name": "DropdownModel",
      "state": {
       "_options_labels": [
        "Color"
       ],
       "index": 0,
       "layout": "IPY_MODEL_04c46391563944e09f827e89ec2715fa",
       "style": "IPY_MODEL_352b11aaadc949e5b6d43b2af8c9c8bf"
      }
     },
     "3f1ceb1b479240d594f1881f8013d88a": {
      "model_module": "@jupyter-widgets/base",
      "model_module_version": "1.2.0",
      "model_name": "LayoutModel",
      "state": {}
     },
     "3f7ba822c536404481bce2f09c84de9d": {
      "model_module": "@jupyter-widgets/base",
      "model_module_version": "1.2.0",
      "model_name": "LayoutModel",
      "state": {}
     },
     "3f9a1ab9b1b04ceb9f3c4d04a7d00904": {
      "model_module": "@jupyter-widgets/controls",
      "model_module_version": "1.5.0",
      "model_name": "TextModel",
      "state": {
       "continuous_update": false,
       "description": "name",
       "layout": "IPY_MODEL_3f1ceb1b479240d594f1881f8013d88a",
       "style": "IPY_MODEL_ac71f1c55d9948e19e588813ff85983b",
       "value": "color_1"
      }
     },
     "3fb78370b75d48e69e4114fc1065c34c": {
      "model_module": "@jupyter-widgets/base",
      "model_module_version": "1.2.0",
      "model_name": "LayoutModel",
      "state": {}
     },
     "403ce4d89d824f1c8e0c931714a623aa": {
      "model_module": "@jupyter-widgets/controls",
      "model_module_version": "1.5.0",
      "model_name": "ButtonStyleModel",
      "state": {}
     },
     "4045fe6afc194dcaa3f2c54427fa1745": {
      "model_module": "@jupyter-widgets/controls",
      "model_module_version": "1.5.0",
      "model_name": "DescriptionStyleModel",
      "state": {
       "description_width": ""
      }
     },
     "405490f3003747ea84770f0ca8eba3fa": {
      "model_module": "@jupyter-widgets/controls",
      "model_module_version": "1.5.0",
      "model_name": "AccordionModel",
      "state": {
       "_titles": {
        "0": "materials",
        "1": "leaf",
        "2": "trunk & branches"
       },
       "children": [
        "IPY_MODEL_21584ab197984ba29419802ea60fc1c8",
        "IPY_MODEL_2718cbd168e24762a6996c846ee444dd",
        "IPY_MODEL_b44429e02b1c4c018efe9629e58572c3"
       ],
       "layout": "IPY_MODEL_0a40116d2d3a429698a87f2d38fdcbf3"
      }
     },
     "406538f49d474b288e16fda7dd512c69": {
      "model_module": "@jupyter-widgets/base",
      "model_module_version": "1.2.0",
      "model_name": "LayoutModel",
      "state": {}
     },
     "407661e8679b4f3b9602e2daaddae72e": {
      "model_module": "@jupyter-widgets/base",
      "model_module_version": "1.2.0",
      "model_name": "LayoutModel",
      "state": {}
     },
     "407e1eb8df67478aa2edf212374198dd": {
      "model_module": "@jupyter-widgets/controls",
      "model_module_version": "1.5.0",
      "model_name": "HBoxModel",
      "state": {
       "children": [
        "IPY_MODEL_586fe9088889439284707fb54ba3ec23",
        "IPY_MODEL_b97945cdd79940218cc6b9ce0f099d89"
       ],
       "layout": "IPY_MODEL_d4fcee8507e649a6822506b7eaf235b2"
      }
     },
     "408d582856e84421a763fa391a9130a8": {
      "model_module": "@jupyter-widgets/controls",
      "model_module_version": "1.5.0",
      "model_name": "TextModel",
      "state": {
       "continuous_update": false,
       "description": "name",
       "layout": "IPY_MODEL_45975a20708e4eefa5f5626f0c67680a",
       "style": "IPY_MODEL_e084bfa6a964476eace5b955c0359580",
       "value": "apex"
      }
     },
     "40b8836f5c9a48a5a579b8ab931ba7aa": {
      "model_module": "@jupyter-widgets/controls",
      "model_module_version": "1.5.0",
      "model_name": "ButtonModel",
      "state": {
       "description": "Delete",
       "layout": "IPY_MODEL_20b13acc67a845f6956f498c04e38806",
       "style": "IPY_MODEL_3eebd7d76fd1439fb7e9a86462a20975"
      }
     },
     "40ccbdcf094944daacad40f2478bd3f3": {
      "model_module": "@jupyter-widgets/controls",
      "model_module_version": "1.5.0",
      "model_name": "DescriptionStyleModel",
      "state": {
       "description_width": ""
      }
     },
     "40d3cad94876411eb2c2b28bed44d044": {
      "model_module": "@jupyter-widgets/base",
      "model_module_version": "1.2.0",
      "model_name": "LayoutModel",
      "state": {}
     },
     "41173f204e7842519840674a61a7e434": {
      "model_module": "@jupyter-widgets/controls",
      "model_module_version": "1.5.0",
      "model_name": "HBoxModel",
      "state": {
       "children": [
        "IPY_MODEL_9b9a7369a8eb4f5da61755ac616f74c3",
        "IPY_MODEL_da90b6b6b6334b2d8566268731ae92f4"
       ],
       "layout": "IPY_MODEL_3c896b356b9b402f8ae6e80bf9405ba7"
      }
     },
     "41374977018a4cc590e2913add7f287a": {
      "model_module": "@jupyter-widgets/controls",
      "model_module_version": "1.5.0",
      "model_name": "FloatSliderModel",
      "state": {
       "description": "diffuse",
       "layout": "IPY_MODEL_2e83ffb67736453ba28acc20275e238f",
       "max": 3,
       "step": 0.1,
       "style": "IPY_MODEL_bb16c1d4c8a841829bfb8da15b3bea9a",
       "value": 1
      }
     },
     "41689189f03a44738c5a6d8d77d673f0": {
      "model_module": "@jupyter-widgets/base",
      "model_module_version": "1.2.0",
      "model_name": "LayoutModel",
      "state": {
       "margin": "20px 0px"
      }
     },
     "417217b16fe444758f93fa05fe33456f": {
      "model_module": "@jupyter-widgets/controls",
      "model_module_version": "1.5.0",
      "model_name": "HBoxModel",
      "state": {
       "children": [
        "IPY_MODEL_4c59ca8cf18245f5a14540938a82f127",
        "IPY_MODEL_bf9f735211574d32bf9d5fa02ec1e786"
       ],
       "layout": "IPY_MODEL_0edf0711fcd443488bc2bd1811f52c38"
      }
     },
     "417e8e140cdf4466b6d508d357de4584": {
      "model_module": "@jupyter-widgets/controls",
      "model_module_version": "1.5.0",
      "model_name": "ButtonModel",
      "state": {
       "description": "Save changes",
       "layout": "IPY_MODEL_c989202804bb452e8cb9723017e5f6c3",
       "style": "IPY_MODEL_6b8f0820ce5e43c796130647fa6eec1e"
      }
     },
     "4195dc0db72c4f82bb9bd5eead7e9779": {
      "model_module": "@jupyter-widgets/base",
      "model_module_version": "1.2.0",
      "model_name": "LayoutModel",
      "state": {}
     },
     "41cc1db02ba64e62b40ee9b19a788ac1": {
      "model_module": "@jupyter-widgets/base",
      "model_module_version": "1.2.0",
      "model_name": "LayoutModel",
      "state": {}
     },
     "421e1166bf044e938a7c55bfb05fe175": {
      "model_module": "@jupyter-widgets/controls",
      "model_module_version": "1.5.0",
      "model_name": "ButtonModel",
      "state": {
       "description": "Delete category",
       "layout": "IPY_MODEL_13d73679d1fc4c1dafedf885b7d2c851",
       "style": "IPY_MODEL_f26688f6c93d449ca3039c51f092914f"
      }
     },
     "42311b25a5ce4d1788e339ad94a4f81c": {
      "model_module": "@jupyter-widgets/controls",
      "model_module_version": "1.5.0",
      "model_name": "HBoxModel",
      "state": {
       "children": [
        "IPY_MODEL_704c51f2b4274443ae0128fcab864aca",
        "IPY_MODEL_7b1f4521fe574a5e82c85c51dbb7d298",
        "IPY_MODEL_cc343dc00b354cd18fece388a4875e4c"
       ],
       "layout": "IPY_MODEL_f54b6bb1cd9047f2913448b18542023e"
      }
     },
     "424624df5c714774b94c513145e29a9c": {
      "model_module": "@jupyter-widgets/controls",
      "model_module_version": "1.5.0",
      "model_name": "TextModel",
      "state": {
       "continuous_update": false,
       "description": "name",
       "layout": "IPY_MODEL_7b4693667f2d4338a8c79a9c6641cc55",
       "style": "IPY_MODEL_b8a8455ce5b040d0b828e4487621af24",
       "value": "nb_axes"
      }
     },
     "42507f01d821430991d4d3162cf5c980": {
      "model_module": "@jupyter-widgets/controls",
      "model_module_version": "1.5.0",
      "model_name": "ButtonStyleModel",
      "state": {}
     },
     "42733af347b24deeb6820dafdba23586": {
      "model_module": "@jupyter-widgets/controls",
      "model_module_version": "1.5.0",
      "model_name": "CheckboxModel",
      "state": {
       "description": "Auto save",
       "disabled": false,
       "layout": "IPY_MODEL_d0a6d8e803054098abe932e3805dde62",
       "style": "IPY_MODEL_841666774d4c43d9ae6d7eaf452a6732",
       "value": false
      }
     },
     "427e64e328734c2ea2a19855b06e1544": {
      "model_module": "@jupyter-widgets/base",
      "model_module_version": "1.2.0",
      "model_name": "LayoutModel",
      "state": {}
     },
     "428b97f3a6fc42759d90478a7ffb3457": {
      "model_module": "@jupyter-widgets/controls",
      "model_module_version": "1.5.0",
      "model_name": "ButtonModel",
      "state": {
       "description": "Add",
       "layout": "IPY_MODEL_f8bc8a94e6fc4a96a7ccd3d239c789b6",
       "style": "IPY_MODEL_0f41b5c50bdb442a8ef61d9d982b922d"
      }
     },
     "42a63d59593845ca8d64fb7a3a398a5a": {
      "model_module": "@jupyter-widgets/controls",
      "model_module_version": "1.5.0",
      "model_name": "ButtonModel",
      "state": {
       "description": "Add",
       "layout": "IPY_MODEL_bfcf3e600cd241bc9d5160e197b1e911",
       "style": "IPY_MODEL_d9d4c404d76e436f8e9995638352fdaa"
      }
     },
     "42a66a116d6e4ad2babe8908a1d40481": {
      "model_module": "@jupyter-widgets/controls",
      "model_module_version": "1.5.0",
      "model_name": "HBoxModel",
      "state": {
       "children": [
        "IPY_MODEL_15300167b1664d9682018422b0697519",
        "IPY_MODEL_4d2f274f932b4ef0994b8ac525736c86"
       ],
       "layout": "IPY_MODEL_6f5e6f5355bd440d8af5ee837dac75a9"
      }
     },
     "42bdc25840194831ac110172cc330d2c": {
      "model_module": "@jupyter-widgets/controls",
      "model_module_version": "1.5.0",
      "model_name": "HBoxModel",
      "state": {
       "children": [
        "IPY_MODEL_fafd54646a864f0485ae172b9494da07",
        "IPY_MODEL_5cdf0a890d1f47459e533b95f5fa6d12"
       ],
       "layout": "IPY_MODEL_7c6bc321cc134eba81eea73eeb840f28"
      }
     },
     "42c627ff3d74409cbca15e800caf7190": {
      "model_module": "@jupyter-widgets/controls",
      "model_module_version": "1.5.0",
      "model_name": "HBoxModel",
      "state": {
       "children": [
        "IPY_MODEL_311ce300b7c84bb79c37a6974f900649",
        "IPY_MODEL_a02f0afc7f6946cfbda70b9cb2bee9f9"
       ],
       "layout": "IPY_MODEL_ad0d38c2c2774e369fd4428f472136f0"
      }
     },
     "42e7b3c15d994cd6b5e009744d25d2cf": {
      "model_module": "@jupyter-widgets/base",
      "model_module_version": "1.2.0",
      "model_name": "LayoutModel",
      "state": {}
     },
     "42f6a0ce6998407886d1d89c57494c7e": {
      "model_module": "@jupyter-widgets/controls",
      "model_module_version": "1.5.0",
      "model_name": "DescriptionStyleModel",
      "state": {
       "description_width": ""
      }
     },
     "431315f0bf144d2fa04d6ffc24c515f9": {
      "model_module": "@jupyter-widgets/base",
      "model_module_version": "1.2.0",
      "model_name": "LayoutModel",
      "state": {}
     },
     "436612109cc345eab450803b93d883e8": {
      "model_module": "@jupyter-widgets/controls",
      "model_module_version": "1.5.0",
      "model_name": "FloatTextModel",
      "state": {
       "description": "max",
       "layout": "IPY_MODEL_8cbb1af1d0af4ff9bb22fce6efa5827f",
       "step": null,
       "style": "IPY_MODEL_83a4686453db4032b8b41676af2640e3",
       "value": 0.1
      }
     },
     "436fd876208e40f2bed14a468634cd12": {
      "model_module": "@jupyter-widgets/base",
      "model_module_version": "1.2.0",
      "model_name": "LayoutModel",
      "state": {}
     },
     "4372a40b5e864ae785c713790258dbe4": {
      "model_module": "@jupyter-widgets/controls",
      "model_module_version": "1.5.0",
      "model_name": "ButtonModel",
      "state": {
       "description": "Delete",
       "layout": "IPY_MODEL_2b6bcb5538be448e892da6df8ef5fc7b",
       "style": "IPY_MODEL_9961b6fd43374fabbaa82d99027e4bb1"
      }
     },
     "43a396464ca047eb82af9b0128d1a7b9": {
      "model_module": "@jupyter-widgets/base",
      "model_module_version": "1.2.0",
      "model_name": "LayoutModel",
      "state": {}
     },
     "440acb6e8011430aa874cae6aefacb36": {
      "model_module": "@jupyter-widgets/base",
      "model_module_version": "1.2.0",
      "model_name": "LayoutModel",
      "state": {}
     },
     "44131773a2c94fe0b4f6cf36799a8fd5": {
      "model_module": "@jupyter-widgets/base",
      "model_module_version": "1.2.0",
      "model_name": "LayoutModel",
      "state": {}
     },
     "445f90f4d3de40cb874172bbb0b2c38d": {
      "model_module": "@jupyter-widgets/controls",
      "model_module_version": "1.5.0",
      "model_name": "TextModel",
      "state": {
       "continuous_update": false,
       "description": "name",
       "layout": "IPY_MODEL_3b4a50bb20de416aaf7650c47c84598b",
       "style": "IPY_MODEL_a986327c2f5f410491da6da14c2b9def",
       "value": "leafold"
      }
     },
     "446d0c4274894c3b975472f4d7fb6e63": {
      "model_module": "@jupyter-widgets/controls",
      "model_module_version": "1.5.0",
      "model_name": "ColorPickerModel",
      "state": {
       "description": "emission",
       "disabled": false,
       "layout": "IPY_MODEL_ea37aa48e5954c09acb575e2396d3c05",
       "style": "IPY_MODEL_53d7302061eb4c8dab94848618029115",
       "value": "#000000"
      }
     },
     "44ee20673cb54cb197bb19275c2ee931": {
      "model_module": "@jupyter-widgets/controls",
      "model_module_version": "1.5.0",
      "model_name": "DescriptionStyleModel",
      "state": {
       "description_width": ""
      }
     },
     "44f1703909314fab8a00501069423623": {
      "model_module": "@jupyter-widgets/base",
      "model_module_version": "1.2.0",
      "model_name": "LayoutModel",
      "state": {
       "flex_flow": "row wrap"
      }
     },
     "44f5b99592c446f1b50b0f9407cf4305": {
      "model_module": "@jupyter-widgets/controls",
      "model_module_version": "1.5.0",
      "model_name": "TabModel",
      "state": {
       "layout": "IPY_MODEL_ad28097795614babac3adcc76c9b471c"
      }
     },
     "45109e056cae4646bd13589740cb2e07": {
      "model_module": "@jupyter-widgets/controls",
      "model_module_version": "1.5.0",
      "model_name": "ButtonModel",
      "state": {
       "description": "Add",
       "layout": "IPY_MODEL_fdd783e8cd6f4152908064599bd69390",
       "style": "IPY_MODEL_b4b34b837b2e417eb78863606b1d6e8d"
      }
     },
     "455ba0e06d5247ffb20550cc7189a0a9": {
      "model_module": "@jupyter-widgets/controls",
      "model_module_version": "1.5.0",
      "model_name": "FloatSliderModel",
      "state": {
       "description": "transparency",
       "layout": "IPY_MODEL_6ecb092e2f024e54ab3e5a0f2fecdaa1",
       "max": 1,
       "step": 0.1,
       "style": "IPY_MODEL_b88afe6051704699a445a1ca92a8653e"
      }
     },
     "455df1ed61f5486cac7c517343725455": {
      "model_module": "@jupyter-widgets/controls",
      "model_module_version": "1.5.0",
      "model_name": "DescriptionStyleModel",
      "state": {
       "description_width": ""
      }
     },
     "455f8aeaffa441bf93d43f30ccfb8f01": {
      "model_module": "@jupyter-widgets/base",
      "model_module_version": "1.2.0",
      "model_name": "LayoutModel",
      "state": {}
     },
     "458fbc06550843999bb8f82e518d7bba": {
      "model_module": "pgljupyter",
      "model_module_version": "^0.1.18",
      "model_name": "ParameterEditorModel",
      "state": {
       "_model_module_version": "^0.1.18",
       "_view_module_version": "^0.1.18",
       "children": [
        "IPY_MODEL_963604a85f104c0ea8afa21693108092"
       ],
       "layout": "IPY_MODEL_a4c87564910c4791b7ebc8217ae6af21"
      }
     },
     "45975a20708e4eefa5f5626f0c67680a": {
      "model_module": "@jupyter-widgets/base",
      "model_module_version": "1.2.0",
      "model_name": "LayoutModel",
      "state": {}
     },
     "459815904a114cb9b092e8b2c8f014dd": {
      "model_module": "@jupyter-widgets/base",
      "model_module_version": "1.2.0",
      "model_name": "LayoutModel",
      "state": {
       "margin": "20px 0px"
      }
     },
     "45f98c4f44d14504a22ffa36469c7310": {
      "model_module": "@jupyter-widgets/base",
      "model_module_version": "1.2.0",
      "model_name": "LayoutModel",
      "state": {}
     },
     "4623abe30f8746eb94835fdc33c089af": {
      "model_module": "@jupyter-widgets/controls",
      "model_module_version": "1.5.0",
      "model_name": "SliderStyleModel",
      "state": {
       "description_width": ""
      }
     },
     "466cc074ebc9465d93833472fef33beb": {
      "model_module": "@jupyter-widgets/base",
      "model_module_version": "1.2.0",
      "model_name": "LayoutModel",
      "state": {}
     },
     "468860202d6c4c5cbdaf75ab248c2dfa": {
      "model_module": "@jupyter-widgets/base",
      "model_module_version": "1.2.0",
      "model_name": "LayoutModel",
      "state": {}
     },
     "46bb048d9eec4d478fec36bfaa6b5a6b": {
      "model_module": "@jupyter-widgets/controls",
      "model_module_version": "1.5.0",
      "model_name": "DescriptionStyleModel",
      "state": {
       "description_width": ""
      }
     },
     "4700fadcbf6740eeacfb5f4d5442bcc5": {
      "model_module": "@jupyter-widgets/controls",
      "model_module_version": "1.5.0",
      "model_name": "DescriptionStyleModel",
      "state": {
       "description_width": ""
      }
     },
     "4720179570ea4e868498362e539111b3": {
      "model_module": "@jupyter-widgets/controls",
      "model_module_version": "1.5.0",
      "model_name": "IntSliderModel",
      "state": {
       "description": "value",
       "layout": "IPY_MODEL_c737fed3f4b647319d521b5a01ed5013",
       "max": 10,
       "min": 1,
       "style": "IPY_MODEL_f6d0532b4d034ab5add8a942c8036f27",
       "value": 2
      }
     },
     "473617a3b3a74ffb93086ff4b9f2d61a": {
      "model_module": "@jupyter-widgets/base",
      "model_module_version": "1.2.0",
      "model_name": "LayoutModel",
      "state": {}
     },
     "47a676e89113488bb3cee21941e5aba5": {
      "model_module": "@jupyter-widgets/base",
      "model_module_version": "1.2.0",
      "model_name": "LayoutModel",
      "state": {}
     },
     "47c2ee699e6a4f7c83103495961650b0": {
      "model_module": "@jupyter-widgets/base",
      "model_module_version": "1.2.0",
      "model_name": "LayoutModel",
      "state": {}
     },
     "47c4dd25604a48a1b5557177fd515750": {
      "model_module": "@jupyter-widgets/base",
      "model_module_version": "1.2.0",
      "model_name": "LayoutModel",
      "state": {}
     },
     "47cab6d01e35497189f8f2866f69ad79": {
      "model_module": "@jupyter-widgets/base",
      "model_module_version": "1.2.0",
      "model_name": "LayoutModel",
      "state": {}
     },
     "47fb3c80b04646738a440b8943ebe585": {
      "model_module": "@jupyter-widgets/base",
      "model_module_version": "1.2.0",
      "model_name": "LayoutModel",
      "state": {}
     },
     "48081768731e4a308ef6582f5108536e": {
      "model_module": "@jupyter-widgets/base",
      "model_module_version": "1.2.0",
      "model_name": "LayoutModel",
      "state": {}
     },
     "4846a27e60cc441d93d5c535ffde0e6e": {
      "model_module": "@jupyter-widgets/controls",
      "model_module_version": "1.5.0",
      "model_name": "HBoxModel",
      "state": {
       "children": [
        "IPY_MODEL_6afde54ff02642b099358c5671f1b873",
        "IPY_MODEL_cd1d503025f94455898cda591460f5da"
       ],
       "layout": "IPY_MODEL_dae8d0d2b5a24ba3a4caef5ae026ea60"
      }
     },
     "4885badfb81242a3a0e907414c08b51f": {
      "model_module": "@jupyter-widgets/base",
      "model_module_version": "1.2.0",
      "model_name": "LayoutModel",
      "state": {}
     },
     "48a9dc8b95d14018a1273a4583c91c32": {
      "model_module": "@jupyter-widgets/base",
      "model_module_version": "1.2.0",
      "model_name": "LayoutModel",
      "state": {}
     },
     "48b02d61921140799c9d50de4e6abab8": {
      "model_module": "@jupyter-widgets/controls",
      "model_module_version": "1.5.0",
      "model_name": "HBoxModel",
      "state": {
       "children": [
        "IPY_MODEL_9f1b252d842443fc95ac8e7e4f03c95a",
        "IPY_MODEL_d1e4b02c15bb44948c22e7d933636530"
       ],
       "layout": "IPY_MODEL_56e10c5df99d4496a1c8da99197f9358"
      }
     },
     "48dad82cb0874a77af8613d9cc02e5b8": {
      "model_module": "@jupyter-widgets/controls",
      "model_module_version": "1.5.0",
      "model_name": "DropdownModel",
      "state": {
       "index": null,
       "layout": "IPY_MODEL_93b7d193d72342788a68a1d372519ba3",
       "style": "IPY_MODEL_03b7ff59bdfb45ae9fec96faf9e7b637"
      }
     },
     "49142d5fe84f451ca57bf7979546be3b": {
      "model_module": "@jupyter-widgets/controls",
      "model_module_version": "1.5.0",
      "model_name": "VBoxModel",
      "state": {
       "children": [
        "IPY_MODEL_7b26c458dc7d4deba33285df9fe694dc",
        "IPY_MODEL_dc891aa6241b421da0cabf4ab08e3d0e"
       ],
       "layout": "IPY_MODEL_181662f4cedf410dac5bab4e1bf8645f"
      }
     },
     "4928061e04e84f6ea5f8e22041842c65": {
      "model_module": "@jupyter-widgets/controls",
      "model_module_version": "1.5.0",
      "model_name": "FloatSliderModel",
      "state": {
       "description": "diffuse",
       "layout": "IPY_MODEL_9d3e8bfa637b4501a40010eae48c2c9e",
       "max": 3,
       "step": 0.1,
       "style": "IPY_MODEL_f223c7d886294225be0b4cb6d842a989",
       "value": 1
      }
     },
     "4933c3be1ca74d3b87e7deac4ab3fa84": {
      "model_module": "@jupyter-widgets/controls",
      "model_module_version": "1.5.0",
      "model_name": "TextModel",
      "state": {
       "continuous_update": false,
       "description": "name",
       "layout": "IPY_MODEL_998772480aac452387c45481c4a8859d",
       "style": "IPY_MODEL_2b2537aec03a486682b37fa201430b15",
       "value": "leafduration"
      }
     },
     "496e48f80ba34d7389289f84ed07049f": {
      "model_module": "@jupyter-widgets/controls",
      "model_module_version": "1.5.0",
      "model_name": "DescriptionStyleModel",
      "state": {
       "description_width": ""
      }
     },
     "498f774db8944cf9acb68dfb080f9434": {
      "model_module": "@jupyter-widgets/base",
      "model_module_version": "1.2.0",
      "model_name": "LayoutModel",
      "state": {}
     },
     "49abdf9d78524715a97cc756c7cc26ee": {
      "model_module": "@jupyter-widgets/controls",
      "model_module_version": "1.5.0",
      "model_name": "ButtonStyleModel",
      "state": {}
     },
     "49c13f7f61b74fdeb6c2e02c3d02da5a": {
      "model_module": "@jupyter-widgets/controls",
      "model_module_version": "1.5.0",
      "model_name": "HBoxModel",
      "state": {
       "children": [
        "IPY_MODEL_e8a23a012cbf4853a330e912e3cad92f",
        "IPY_MODEL_9d1c471f6aa5499386c9cee5a496cdfc",
        "IPY_MODEL_221397e9ebd543a29b72321488035216"
       ],
       "layout": "IPY_MODEL_7d638b1bb84145df842f1629b3b977bb"
      }
     },
     "49d68010fc084f1ebd5a1e73fb6c31af": {
      "model_module": "pgljupyter",
      "model_module_version": "^0.1.17",
      "model_name": "MaterialEditorModel",
      "state": {
       "_model_module_version": "^0.1.17",
       "_view_module_version": "^0.1.17",
       "children": [
        "IPY_MODEL_d1f553a8e0e14ca8939fd7facfe7bdd0",
        "IPY_MODEL_b483a839a4094147ab01f3c7d19bb1ac",
        "IPY_MODEL_9991cdc311734263a5179071275bff7c",
        "IPY_MODEL_06da4c288f8b48efae9708615015dd07",
        "IPY_MODEL_4928061e04e84f6ea5f8e22041842c65",
        "IPY_MODEL_67461a76be584a8b8d2fa4e2f8aa7d24",
        "IPY_MODEL_5728fafc0bd4433f81791185f2f8a527"
       ],
       "layout": "IPY_MODEL_3b280508434144bfb2cc499f02a544f3"
      }
     },
     "49d8421d6f4e4d488db1bd655f89a30e": {
      "model_module": "@jupyter-widgets/base",
      "model_module_version": "1.2.0",
      "model_name": "LayoutModel",
      "state": {}
     },
     "4a28f656400b498e9b4a70690a4229a8": {
      "model_module": "@jupyter-widgets/controls",
      "model_module_version": "1.5.0",
      "model_name": "DescriptionStyleModel",
      "state": {
       "description_width": ""
      }
     },
     "4a2ccff224ef48f09723ba6a231d6640": {
      "model_module": "@jupyter-widgets/base",
      "model_module_version": "1.2.0",
      "model_name": "LayoutModel",
      "state": {
       "margin": "20px 0px"
      }
     },
     "4a48e3b56b974227bcbb4111eb32acbb": {
      "model_module": "@jupyter-widgets/controls",
      "model_module_version": "1.5.0",
      "model_name": "SliderStyleModel",
      "state": {
       "description_width": ""
      }
     },
     "4a8af0be878b499d97a7bae1ed0009d0": {
      "model_module": "@jupyter-widgets/controls",
      "model_module_version": "1.5.0",
      "model_name": "DescriptionStyleModel",
      "state": {
       "description_width": ""
      }
     },
     "4ad56d578f64435bb7040e6288f8436f": {
      "model_module": "@jupyter-widgets/controls",
      "model_module_version": "1.5.0",
      "model_name": "SliderStyleModel",
      "state": {
       "description_width": ""
      }
     },
     "4afd330d8b794b27b31b952402605af2": {
      "model_module": "@jupyter-widgets/controls",
      "model_module_version": "1.5.0",
      "model_name": "ColorPickerModel",
      "state": {
       "description": "ambient",
       "disabled": false,
       "layout": "IPY_MODEL_6122fb292c0c44039d410f9afbe16534",
       "style": "IPY_MODEL_bf5f584ba47f4eb58e2144997c9fbd8f",
       "value": "#0fc4db"
      }
     },
     "4b2b575ede144d15b37a9b26cc73c875": {
      "model_module": "@jupyter-widgets/base",
      "model_module_version": "1.2.0",
      "model_name": "LayoutModel",
      "state": {}
     },
     "4b4fb8f835ff4f25801bdcf57fb1eba4": {
      "model_module": "@jupyter-widgets/base",
      "model_module_version": "1.2.0",
      "model_name": "LayoutModel",
      "state": {}
     },
     "4b7afeaad0934ef3b8ed7e9d8d2cd9c9": {
      "model_module": "@jupyter-widgets/base",
      "model_module_version": "1.2.0",
      "model_name": "LayoutModel",
      "state": {}
     },
     "4b847adc42dd44cc8851741209771151": {
      "model_module": "@jupyter-widgets/base",
      "model_module_version": "1.2.0",
      "model_name": "LayoutModel",
      "state": {}
     },
     "4b95e9dc9d3e4efbb9ed6d24b62872e9": {
      "model_module": "@jupyter-widgets/base",
      "model_module_version": "1.2.0",
      "model_name": "LayoutModel",
      "state": {}
     },
     "4ba98a3088f249428269655303174413": {
      "model_module": "@jupyter-widgets/base",
      "model_module_version": "1.2.0",
      "model_name": "LayoutModel",
      "state": {}
     },
     "4bd32345c7094c9b83e1d6211f92d7df": {
      "model_module": "@jupyter-widgets/controls",
      "model_module_version": "1.5.0",
      "model_name": "ButtonModel",
      "state": {
       "description": "Delete",
       "layout": "IPY_MODEL_29cb9888dbcc4dc9bc915fc90fd8998a",
       "style": "IPY_MODEL_ce7e6e96ec964535b8172165fd984f5a"
      }
     },
     "4be4fe9b98574f5e94986b02b8c225cb": {
      "model_module": "@jupyter-widgets/base",
      "model_module_version": "1.2.0",
      "model_name": "LayoutModel",
      "state": {}
     },
     "4bfa6e2f73c74bffa75861116f13ec31": {
      "model_module": "@jupyter-widgets/controls",
      "model_module_version": "1.5.0",
      "model_name": "DescriptionStyleModel",
      "state": {
       "description_width": ""
      }
     },
     "4c0cd242021b4387b84906f781be597f": {
      "model_module": "@jupyter-widgets/base",
      "model_module_version": "1.2.0",
      "model_name": "LayoutModel",
      "state": {}
     },
     "4c59ca8cf18245f5a14540938a82f127": {
      "model_module": "@jupyter-widgets/controls",
      "model_module_version": "1.5.0",
      "model_name": "HBoxModel",
      "state": {
       "children": [
        "IPY_MODEL_fcdb0e54646c4bbbb1485f7cb42b4bbc",
        "IPY_MODEL_b3beeeb252564f9193c765e7fe7136a4"
       ],
       "layout": "IPY_MODEL_a0c58eb759874d7aabec070d0f8f4e28"
      }
     },
     "4c6828d30e454b219dd59636daba61a2": {
      "model_module": "@jupyter-widgets/controls",
      "model_module_version": "1.5.0",
      "model_name": "FloatSliderModel",
      "state": {
       "description": "diffuse",
       "layout": "IPY_MODEL_29ada92f78534b5a8245a40f76bd758a",
       "max": 3,
       "step": 0.1,
       "style": "IPY_MODEL_5030d93db7d84db8beba5be10c0fdb22",
       "value": 1
      }
     },
     "4c81abb4c66846b5a198148d5fde3afe": {
      "model_module": "@jupyter-widgets/controls",
      "model_module_version": "1.5.0",
      "model_name": "SliderStyleModel",
      "state": {
       "description_width": ""
      }
     },
     "4c9d04011f15472db454f026ea6b3c07": {
      "model_module": "@jupyter-widgets/base",
      "model_module_version": "1.2.0",
      "model_name": "LayoutModel",
      "state": {}
     },
     "4cbdfd51fc7a4d0aa56146812cc120e6": {
      "model_module": "pgljupyter",
      "model_module_version": "^0.1.18",
      "model_name": "IntEditorModel",
      "state": {
       "_model_module_version": "^0.1.18",
       "_view_module_version": "^0.1.18",
       "children": [
        "IPY_MODEL_2f44d75cf5a94a1f952b35bf8347abb8",
        "IPY_MODEL_0ca1da812e904b3597a1f8d0066aa817"
       ],
       "layout": "IPY_MODEL_f06f7a31a7f6416183260274d8da1272"
      }
     },
     "4d1d2003f29c41ff8de536581cacd952": {
      "model_module": "@jupyter-widgets/controls",
      "model_module_version": "1.5.0",
      "model_name": "FloatSliderModel",
      "state": {
       "description": "value",
       "layout": "IPY_MODEL_4b95e9dc9d3e4efbb9ed6d24b62872e9",
       "max": 0.1,
       "min": 0.01,
       "step": 0.01,
       "style": "IPY_MODEL_1165440a552f44e8874ff2662c8016cf",
       "value": 0.03
      }
     },
     "4d2f274f932b4ef0994b8ac525736c86": {
      "model_module": "pgljupyter",
      "model_module_version": "^0.1.19",
      "model_name": "IntEditorModel",
      "state": {
       "_model_module_version": "^0.1.19",
       "_view_module_version": "^0.1.19",
       "children": [
        "IPY_MODEL_0008873d24ed4fa3b871bc34051bd716",
        "IPY_MODEL_7f4e36825ae64c65830760a42614b069"
       ],
       "layout": "IPY_MODEL_8b961dc464fe4120b95633845d5c9860"
      }
     },
     "4d61064357674c97bb169c5602e69545": {
      "model_module": "@jupyter-widgets/base",
      "model_module_version": "1.2.0",
      "model_name": "LayoutModel",
      "state": {}
     },
     "4d77f69f74244057baec36b232f87f78": {
      "model_module": "@jupyter-widgets/base",
      "model_module_version": "1.2.0",
      "model_name": "LayoutModel",
      "state": {
       "flex_flow": "row wrap",
       "margin": "20px"
      }
     },
     "4d9c47832bb743058b80a0b7ef230074": {
      "model_module": "@jupyter-widgets/controls",
      "model_module_version": "1.5.0",
      "model_name": "TextModel",
      "state": {
       "continuous_update": false,
       "description": "name",
       "layout": "IPY_MODEL_e2c963c5cf35423c8c5649096e21e578",
       "style": "IPY_MODEL_9912022f5d81416fae20d7fb32ee621a",
       "value": "leafduration"
      }
     },
     "4e7c5a348d354d778c2e8fac651d24ae": {
      "model_module": "@jupyter-widgets/controls",
      "model_module_version": "1.5.0",
      "model_name": "FloatSliderModel",
      "state": {
       "description": "diffuse",
       "layout": "IPY_MODEL_57dca5ae89cf4763919d1cd33c070eed",
       "max": 3,
       "step": 0.1,
       "style": "IPY_MODEL_eacdf3892401422d966ce9bdf9102e5d",
       "value": 1
      }
     },
     "4ee93253ee1e4f019df07258a39d8b47": {
      "model_module": "@jupyter-widgets/controls",
      "model_module_version": "1.5.0",
      "model_name": "HBoxModel",
      "state": {
       "children": [
        "IPY_MODEL_421e1166bf044e938a7c55bfb05fe175"
       ],
       "layout": "IPY_MODEL_f7ff34c66d4b431c8d7a458913ac23de"
      }
     },
     "4ef238a8a44a43369f6ff4c32bb90c5c": {
      "model_module": "@jupyter-widgets/base",
      "model_module_version": "1.2.0",
      "model_name": "LayoutModel",
      "state": {}
     },
     "4f04e84e06f04f2187ac0562bd5d7982": {
      "model_module": "@jupyter-widgets/base",
      "model_module_version": "1.2.0",
      "model_name": "LayoutModel",
      "state": {
       "margin": "20px 0px"
      }
     },
     "4f2e7e2a7b8a4fccaec815c1a8349f02": {
      "model_module": "@jupyter-widgets/base",
      "model_module_version": "1.2.0",
      "model_name": "LayoutModel",
      "state": {}
     },
     "4f4c3d6a0c30403289cf9f2587fca3e3": {
      "model_module": "pgljupyter",
      "model_module_version": "^0.1.17",
      "model_name": "ParameterEditorModel",
      "state": {
       "_model_module_version": "^0.1.17",
       "_view_module_version": "^0.1.17",
       "children": [
        "IPY_MODEL_56ca9cfe6576423da575a7edfbeda8a1"
       ],
       "layout": "IPY_MODEL_70f57e2c0344454288ed8ac17019df5e"
      }
     },
     "4f77c9429d614340bdb8d72a7fb65751": {
      "model_module": "pgljupyter",
      "model_module_version": "^0.1.16",
      "model_name": "LsystemWidgetModel",
      "state": {
       "_model_module_version": "^0.1.16",
       "_view_module_version": "^0.1.16",
       "axes_helper": false,
       "derivationLength": 41,
       "layout": "IPY_MODEL_44131773a2c94fe0b4f6cf36799a8fd5",
       "light_helper": false,
       "plane": true,
       "size_display": [
        400,
        400
       ],
       "size_world": 50
      }
     },
     "4fbf2b45694848a9aa03aadb8fb5d86c": {
      "model_module": "@jupyter-widgets/base",
      "model_module_version": "1.2.0",
      "model_name": "LayoutModel",
      "state": {}
     },
     "5030d93db7d84db8beba5be10c0fdb22": {
      "model_module": "@jupyter-widgets/controls",
      "model_module_version": "1.5.0",
      "model_name": "SliderStyleModel",
      "state": {
       "description_width": ""
      }
     },
     "504c852fdd62470d9fce5fbb9e9e18bc": {
      "model_module": "@jupyter-widgets/controls",
      "model_module_version": "1.5.0",
      "model_name": "DescriptionStyleModel",
      "state": {
       "description_width": ""
      }
     },
     "507c278a49a4489790e00ac34fb9023e": {
      "model_module": "@jupyter-widgets/controls",
      "model_module_version": "1.5.0",
      "model_name": "TabModel",
      "state": {
       "layout": "IPY_MODEL_ba3a3559ee5e49c19408ce2e75b666f1"
      }
     },
     "50c897762f9846d38e9f8e2de2d19de2": {
      "model_module": "@jupyter-widgets/controls",
      "model_module_version": "1.5.0",
      "model_name": "VBoxModel",
      "state": {
       "children": [
        "IPY_MODEL_1d1c9cc08a664ea3b55b7a47fcfdc251",
        "IPY_MODEL_2f0afcc5db404c0c9baabdd8288c7f23"
       ],
       "layout": "IPY_MODEL_8df2887e514042d1ac28d987a7d3f39d"
      }
     },
     "50df7fad8d974b4992fd0cea68bec79c": {
      "model_module": "@jupyter-widgets/controls",
      "model_module_version": "1.5.0",
      "model_name": "ButtonModel",
      "state": {
       "description": "Add",
       "layout": "IPY_MODEL_56fc22890f4a4ca080684ec9625a905f",
       "style": "IPY_MODEL_110ae91fb5c943dab79aeb29f57c0fcc"
      }
     },
     "510489c076f34b2bb4ed405c0bd2e184": {
      "model_module": "@jupyter-widgets/controls",
      "model_module_version": "1.5.0",
      "model_name": "ButtonStyleModel",
      "state": {}
     },
     "51298c491bb74c49aa13975c0b81b43a": {
      "model_module": "@jupyter-widgets/base",
      "model_module_version": "1.2.0",
      "model_name": "LayoutModel",
      "state": {}
     },
     "5151e6200d794a008b1bd7d40fbc162c": {
      "model_module": "@jupyter-widgets/controls",
      "model_module_version": "1.5.0",
      "model_name": "TextModel",
      "state": {
       "continuous_update": false,
       "description": "name",
       "layout": "IPY_MODEL_3bc82dbd12c54e549771ee3d9cd55b1d",
       "style": "IPY_MODEL_e2959aa92f7d44c2a5d6d06683c7f898",
       "value": "leafduration"
      }
     },
     "51920d8d6d7c4da288410f94a97533ff": {
      "model_module": "@jupyter-widgets/controls",
      "model_module_version": "1.5.0",
      "model_name": "FloatSliderModel",
      "state": {
       "description": "value",
       "layout": "IPY_MODEL_e483f04bf9ee473983a54480be56ae94",
       "max": 0.1,
       "min": 0.01,
       "step": 0.01,
       "style": "IPY_MODEL_31516d112bb34f208b3e2ebaa6a85f0f",
       "value": 0.03
      }
     },
     "51cef2aa605e461f8d0f1f518f7427c4": {
      "model_module": "@jupyter-widgets/controls",
      "model_module_version": "1.5.0",
      "model_name": "ButtonModel",
      "state": {
       "description": "Delete",
       "layout": "IPY_MODEL_ac5bccc43bad4cf1b629ee62e886ec74",
       "style": "IPY_MODEL_36a0f787f1b14b6a9e881d9b89dbe6f9"
      }
     },
     "51deaef56dce430dae6fc3f320f5ae3e": {
      "model_module": "@jupyter-widgets/controls",
      "model_module_version": "1.5.0",
      "model_name": "BoundedIntTextModel",
      "state": {
       "description": "index",
       "layout": "IPY_MODEL_dd0076f5130e4b019ecac08f8ecf14e6",
       "style": "IPY_MODEL_54b4b06b01a146878a34d785819acd4e",
       "value": 3
      }
     },
     "526eb050a3ef4576aa3195631f16da0b": {
      "model_module": "@jupyter-widgets/controls",
      "model_module_version": "1.5.0",
      "model_name": "TextModel",
      "state": {
       "continuous_update": false,
       "description": "name",
       "layout": "IPY_MODEL_abb8dd22248e47baa61d0443c5c01957",
       "style": "IPY_MODEL_37056445934e4abba973138c48789f20",
       "value": "leafold"
      }
     },
     "529e918b5e134ca5a4af51bf8651b987": {
      "model_module": "@jupyter-widgets/controls",
      "model_module_version": "1.5.0",
      "model_name": "DropdownModel",
      "state": {
       "index": null,
       "layout": "IPY_MODEL_d8b7d3f852be4323a7cb38d583268863",
       "style": "IPY_MODEL_2b0ed78f41644859a87787f1255e1b81"
      }
     },
     "52ed086a39d24a57919b206846df9aba": {
      "model_module": "@jupyter-widgets/base",
      "model_module_version": "1.2.0",
      "model_name": "LayoutModel",
      "state": {}
     },
     "530074057fcd4130a243bde3a073669b": {
      "model_module": "@jupyter-widgets/base",
      "model_module_version": "1.2.0",
      "model_name": "LayoutModel",
      "state": {}
     },
     "53095037c0fc41f0ad798cc1f327c12f": {
      "model_module": "@jupyter-widgets/controls",
      "model_module_version": "1.5.0",
      "model_name": "AccordionModel",
      "state": {
       "_titles": {
        "0": "materials",
        "1": "leaf",
        "2": "trunk & branches"
       },
       "children": [
        "IPY_MODEL_c361327190724646be840782bc716cef",
        "IPY_MODEL_9773821d863c41edbda8c72cf73d3bc6",
        "IPY_MODEL_8e7f32c1ba3149af89ee115dcce7233a"
       ],
       "layout": "IPY_MODEL_5f2ecb128cba4ce0ae2ed4b650b085bd"
      }
     },
     "53592ff1413b4aadb82fbe457a467666": {
      "model_module": "@jupyter-widgets/controls",
      "model_module_version": "1.5.0",
      "model_name": "HBoxModel",
      "state": {
       "children": [
        "IPY_MODEL_b248996a41fc4f39b8f71cd98044d51f",
        "IPY_MODEL_badf1d6936f34af5a14df64809ef893c"
       ],
       "layout": "IPY_MODEL_4d77f69f74244057baec36b232f87f78"
      }
     },
     "536987696dc742f1b1bc51ca8d040a1d": {
      "model_module": "@jupyter-widgets/controls",
      "model_module_version": "1.5.0",
      "model_name": "FloatSliderModel",
      "state": {
       "description": "shininess",
       "layout": "IPY_MODEL_209c033af72d44e3a0b13ab8001e5335",
       "max": 1,
       "step": 0.1,
       "style": "IPY_MODEL_94dd3b9fa9fc40afbb444d490ee4bac3",
       "value": 0.2
      }
     },
     "537f1d906667422699e2fce4b5f31496": {
      "model_module": "@jupyter-widgets/controls",
      "model_module_version": "1.5.0",
      "model_name": "DescriptionStyleModel",
      "state": {
       "description_width": ""
      }
     },
     "539f9d1af9924f4db2438bbbeeb51b54": {
      "model_module": "@jupyter-widgets/base",
      "model_module_version": "1.2.0",
      "model_name": "LayoutModel",
      "state": {}
     },
     "53d7302061eb4c8dab94848618029115": {
      "model_module": "@jupyter-widgets/controls",
      "model_module_version": "1.5.0",
      "model_name": "DescriptionStyleModel",
      "state": {
       "description_width": ""
      }
     },
     "5404c74b739a4b1f9611340837468322": {
      "model_module": "@jupyter-widgets/base",
      "model_module_version": "1.2.0",
      "model_name": "LayoutModel",
      "state": {}
     },
     "543008b05d50479590c3d4e3bc492779": {
      "model_module": "@jupyter-widgets/controls",
      "model_module_version": "1.5.0",
      "model_name": "IntSliderModel",
      "state": {
       "description": "value",
       "layout": "IPY_MODEL_cffb33bebb154befa460f5be28ee06de",
       "max": 5,
       "min": 1,
       "style": "IPY_MODEL_4ad56d578f64435bb7040e6288f8436f",
       "value": 4
      }
     },
     "5493e679c57d4a0689415a4a88aea275": {
      "model_module": "@jupyter-widgets/controls",
      "model_module_version": "1.5.0",
      "model_name": "SliderStyleModel",
      "state": {
       "description_width": ""
      }
     },
     "54afde6385054afa854c63b78d32c519": {
      "model_module": "@jupyter-widgets/controls",
      "model_module_version": "1.5.0",
      "model_name": "ButtonStyleModel",
      "state": {}
     },
     "54b4b06b01a146878a34d785819acd4e": {
      "model_module": "@jupyter-widgets/controls",
      "model_module_version": "1.5.0",
      "model_name": "DescriptionStyleModel",
      "state": {
       "description_width": ""
      }
     },
     "54d1e2ab11364b3286e48fbc06e2c9dc": {
      "model_module": "@jupyter-widgets/controls",
      "model_module_version": "1.5.0",
      "model_name": "SliderStyleModel",
      "state": {
       "description_width": ""
      }
     },
     "5532c2cdd5f24b1ebfeff4de061e7901": {
      "model_module": "@jupyter-widgets/base",
      "model_module_version": "1.2.0",
      "model_name": "LayoutModel",
      "state": {}
     },
     "553432c4114a47d4a9edc9bea81bf73d": {
      "model_module": "@jupyter-widgets/controls",
      "model_module_version": "1.5.0",
      "model_name": "ButtonModel",
      "state": {
       "description": "Apply changes",
       "layout": "IPY_MODEL_f3ecc66415384a3b93c8afe5ca93b8f6",
       "style": "IPY_MODEL_c7f7b7c639f04c7a812a812bc95f2f4a"
      }
     },
     "55370126029743f4b725a902460e704f": {
      "model_module": "@jupyter-widgets/base",
      "model_module_version": "1.2.0",
      "model_name": "LayoutModel",
      "state": {}
     },
     "554ebc2fe70b441697fdba4d2a6f87c0": {
      "model_module": "@jupyter-widgets/base",
      "model_module_version": "1.2.0",
      "model_name": "LayoutModel",
      "state": {}
     },
     "557b13d22d9c4523aede128ecebc8ac7": {
      "model_module": "@jupyter-widgets/controls",
      "model_module_version": "1.5.0",
      "model_name": "ButtonStyleModel",
      "state": {}
     },
     "55f0f039861f4c7cb7fc94899c53e0f6": {
      "model_module": "@jupyter-widgets/controls",
      "model_module_version": "1.5.0",
      "model_name": "TextModel",
      "state": {
       "continuous_update": false,
       "description": "name",
       "layout": "IPY_MODEL_ff9430da97704faca4a5581d596a9844",
       "style": "IPY_MODEL_f2ce19fc1a01412bb35dc2f4381a068b",
       "value": "radinc"
      }
     },
     "55fd0718c41b435db5caa06ebb66c4d3": {
      "model_module": "@jupyter-widgets/controls",
      "model_module_version": "1.5.0",
      "model_name": "ColorPickerModel",
      "state": {
       "description": "emission",
       "disabled": false,
       "layout": "IPY_MODEL_858855a4ca644ef8a5a68f4bd31e1d6b",
       "style": "IPY_MODEL_86875997079c4f0caf76384b93b1c407",
       "value": "#000000"
      }
     },
     "5631cbab764947158f1da6a147458613": {
      "model_module": "@jupyter-widgets/controls",
      "model_module_version": "1.5.0",
      "model_name": "DescriptionStyleModel",
      "state": {
       "description_width": ""
      }
     },
     "5635bd2a1dbe4760b5638e8c865b2550": {
      "model_module": "@jupyter-widgets/base",
      "model_module_version": "1.2.0",
      "model_name": "LayoutModel",
      "state": {}
     },
     "5683515fa2d0458db36f542630cf452a": {
      "model_module": "@jupyter-widgets/base",
      "model_module_version": "1.2.0",
      "model_name": "LayoutModel",
      "state": {}
     },
     "56b19567ca7740f28a2059eaf32f3238": {
      "model_module": "pgljupyter",
      "model_module_version": "^0.1.17",
      "model_name": "LsystemWidgetModel",
      "state": {
       "_model_module_version": "^0.1.17",
       "_view_module_version": "^0.1.17",
       "axes_helper": false,
       "derivationLength": 42,
       "layout": "IPY_MODEL_62f06f01a47f4f6c8c42d71dcba612c6",
       "light_helper": false,
       "plane": true,
       "size_display": [
        400,
        400
       ],
       "size_world": 50
      }
     },
     "56ca9cfe6576423da575a7edfbeda8a1": {
      "model_module": "@jupyter-widgets/controls",
      "model_module_version": "1.5.0",
      "model_name": "VBoxModel",
      "state": {
       "children": [
        "IPY_MODEL_aa34cffd296144adbb84e44628679faa",
        "IPY_MODEL_59e73575073a4d21bccbb7110cf6091a"
       ],
       "layout": "IPY_MODEL_926c57076840440cba5b8c4fd41d9d43"
      }
     },
     "56d367a9d5614e55bed35e4d81b7eef8": {
      "model_module": "@jupyter-widgets/controls",
      "model_module_version": "1.5.0",
      "model_name": "BoundedIntTextModel",
      "state": {
       "description": "index",
       "layout": "IPY_MODEL_9543ce5168bb44ca89a3b02cbe5bca8f",
       "style": "IPY_MODEL_b12f527165d943288688f616f1f609c8",
       "value": 4
      }
     },
     "56e10c5df99d4496a1c8da99197f9358": {
      "model_module": "@jupyter-widgets/base",
      "model_module_version": "1.2.0",
      "model_name": "LayoutModel",
      "state": {}
     },
     "56fc22890f4a4ca080684ec9625a905f": {
      "model_module": "@jupyter-widgets/base",
      "model_module_version": "1.2.0",
      "model_name": "LayoutModel",
      "state": {}
     },
     "5728fafc0bd4433f81791185f2f8a527": {
      "model_module": "@jupyter-widgets/controls",
      "model_module_version": "1.5.0",
      "model_name": "FloatSliderModel",
      "state": {
       "description": "shininess",
       "layout": "IPY_MODEL_55370126029743f4b725a902460e704f",
       "max": 1,
       "step": 0.1,
       "style": "IPY_MODEL_c0bb2a0d577641b58e46f24746ba8a03",
       "value": 0.2
      }
     },
     "57495b8ed5ac4554811c23e6cec15699": {
      "model_module": "@jupyter-widgets/base",
      "model_module_version": "1.2.0",
      "model_name": "LayoutModel",
      "state": {}
     },
     "57ba92c34a3c4d26a6098635e1484968": {
      "model_module": "@jupyter-widgets/controls",
      "model_module_version": "1.5.0",
      "model_name": "DescriptionStyleModel",
      "state": {
       "description_width": ""
      }
     },
     "57dca5ae89cf4763919d1cd33c070eed": {
      "model_module": "@jupyter-widgets/base",
      "model_module_version": "1.2.0",
      "model_name": "LayoutModel",
      "state": {}
     },
     "5810bb174d1946e8b3d0386797351339": {
      "model_module": "@jupyter-widgets/controls",
      "model_module_version": "1.5.0",
      "model_name": "DescriptionStyleModel",
      "state": {
       "description_width": ""
      }
     },
     "58569d21975b4ecb94c1b21ac30e0823": {
      "model_module": "@jupyter-widgets/controls",
      "model_module_version": "1.5.0",
      "model_name": "HBoxModel",
      "state": {
       "children": [
        "IPY_MODEL_ec8cfa6373cf4330ae76df7ac5a2dfab",
        "IPY_MODEL_039429b73bae419cac4d3913fcdbfdbc"
       ],
       "layout": "IPY_MODEL_a9b7a5bea64640859355bc1f3bd40aed"
      }
     },
     "585fc48c58fd48cb974017172fb63f8c": {
      "model_module": "@jupyter-widgets/controls",
      "model_module_version": "1.5.0",
      "model_name": "ButtonModel",
      "state": {
       "description": "Delete category",
       "layout": "IPY_MODEL_ed2e1c85dc804578834fe3b7f594baa4",
       "style": "IPY_MODEL_31e5447b555c40528ae38c2d4c949f9f"
      }
     },
     "586fe9088889439284707fb54ba3ec23": {
      "model_module": "@jupyter-widgets/controls",
      "model_module_version": "1.5.0",
      "model_name": "ButtonModel",
      "state": {
       "description": "Delete",
       "layout": "IPY_MODEL_a5a3a25a887b433b95152afe55d8192d",
       "style": "IPY_MODEL_26b81cebc41f40ae83461cad70dcfba8"
      }
     },
     "5872ea4882c74993af9862d9a8bfcb9f": {
      "model_module": "@jupyter-widgets/controls",
      "model_module_version": "1.5.0",
      "model_name": "HBoxModel",
      "state": {
       "children": [
        "IPY_MODEL_153641213cab4e3888f2df8ffe4df5e6"
       ],
       "layout": "IPY_MODEL_0edf0711fcd443488bc2bd1811f52c38"
      }
     },
     "58b01411a162470783fbaaa91028104c": {
      "model_module": "@jupyter-widgets/controls",
      "model_module_version": "1.5.0",
      "model_name": "HBoxModel",
      "state": {
       "children": [
        "IPY_MODEL_1e5af16da1b3427d83bc2e4cf9a49852",
        "IPY_MODEL_529e918b5e134ca5a4af51bf8651b987"
       ],
       "layout": "IPY_MODEL_233d83e71b4344838e3144dcacea3eeb"
      }
     },
     "58b736cae95a4a3f97d710efaa4148bb": {
      "model_module": "@jupyter-widgets/controls",
      "model_module_version": "1.5.0",
      "model_name": "DescriptionStyleModel",
      "state": {
       "description_width": ""
      }
     },
     "5917a07df85e4f07849b2dc44475a30a": {
      "model_module": "@jupyter-widgets/controls",
      "model_module_version": "1.5.0",
      "model_name": "ButtonModel",
      "state": {
       "description": "Delete category",
       "layout": "IPY_MODEL_20e92cd381cd4543b11477c4b28a2822",
       "style": "IPY_MODEL_2718d36a76b14abe8337699015ee06ad"
      }
     },
     "594bc8d80195422f85abbd36476b4550": {
      "model_module": "@jupyter-widgets/controls",
      "model_module_version": "1.5.0",
      "model_name": "DescriptionStyleModel",
      "state": {
       "description_width": ""
      }
     },
     "5952c0e964b14034832f8d689c94cd56": {
      "model_module": "@jupyter-widgets/controls",
      "model_module_version": "1.5.0",
      "model_name": "DescriptionStyleModel",
      "state": {
       "description_width": ""
      }
     },
     "5952ccf95fff4114ac955e73f1021bc8": {
      "model_module": "@jupyter-widgets/base",
      "model_module_version": "1.2.0",
      "model_name": "LayoutModel",
      "state": {}
     },
     "59b6d90878cc4434b2cd7ffe61e22f6b": {
      "model_module": "@jupyter-widgets/base",
      "model_module_version": "1.2.0",
      "model_name": "LayoutModel",
      "state": {}
     },
     "59b8490222d449ec873f6dd426630d90": {
      "model_module": "@jupyter-widgets/base",
      "model_module_version": "1.2.0",
      "model_name": "LayoutModel",
      "state": {}
     },
     "59df3630aa8946ea91c52b602ac78c54": {
      "model_module": "@jupyter-widgets/controls",
      "model_module_version": "1.5.0",
      "model_name": "DescriptionStyleModel",
      "state": {
       "description_width": ""
      }
     },
     "59e6e480e2f044e3973bd8d2328b0a68": {
      "model_module": "@jupyter-widgets/base",
      "model_module_version": "1.2.0",
      "model_name": "LayoutModel",
      "state": {}
     },
     "59e73575073a4d21bccbb7110cf6091a": {
      "model_module": "@jupyter-widgets/controls",
      "model_module_version": "1.5.0",
      "model_name": "TabModel",
      "state": {
       "_titles": {
        "0": "leuwenberg.json"
       },
       "children": [
        "IPY_MODEL_0300001a45404b209a36c5be9117a9b4"
       ],
       "layout": "IPY_MODEL_5f1c7016d47f4e318a32653fe7356e2b"
      }
     },
     "59f8c5abaa8146ce8df8fc46c0f10acb": {
      "model_module": "@jupyter-widgets/controls",
      "model_module_version": "1.5.0",
      "model_name": "FloatSliderModel",
      "state": {
       "description": "transparency",
       "layout": "IPY_MODEL_abee62d144eb46f6a0854e2c779344fc",
       "max": 1,
       "step": 0.1,
       "style": "IPY_MODEL_61c5a99dc07f47fdb21721b1b101776a"
      }
     },
     "5a6aab1bb709492da4f69389f9069c24": {
      "model_module": "@jupyter-widgets/base",
      "model_module_version": "1.2.0",
      "model_name": "LayoutModel",
      "state": {
       "flex_flow": "row wrap",
       "margin": "20px"
      }
     },
     "5a7768daa7114d36b770ea435fe36cec": {
      "model_module": "@jupyter-widgets/base",
      "model_module_version": "1.2.0",
      "model_name": "LayoutModel",
      "state": {
       "flex_flow": "row wrap",
       "margin": "20px"
      }
     },
     "5a9efa5a617d42df8d7bb8d365c3e0a8": {
      "model_module": "@jupyter-widgets/base",
      "model_module_version": "1.2.0",
      "model_name": "LayoutModel",
      "state": {
       "margin": "20px 0px"
      }
     },
     "5adffba729714082b4c0b93187c64244": {
      "model_module": "@jupyter-widgets/controls",
      "model_module_version": "1.5.0",
      "model_name": "HBoxModel",
      "state": {
       "children": [
        "IPY_MODEL_a74641fad73f460aaf67830e96175f14",
        "IPY_MODEL_af04d4dbb9ee467196d914b3d6ff7677"
       ],
       "layout": "IPY_MODEL_39084374a571435e824d7618f816aad4"
      }
     },
     "5b06ffa55f8c4305b3bf43c5d33fe5f6": {
      "model_module": "@jupyter-widgets/controls",
      "model_module_version": "1.5.0",
      "model_name": "DescriptionStyleModel",
      "state": {
       "description_width": ""
      }
     },
     "5b5cffc519364c9fbd2a8e2332a75c62": {
      "model_module": "@jupyter-widgets/base",
      "model_module_version": "1.2.0",
      "model_name": "LayoutModel",
      "state": {}
     },
     "5b833389726149e891e43233e262af30": {
      "model_module": "@jupyter-widgets/base",
      "model_module_version": "1.2.0",
      "model_name": "LayoutModel",
      "state": {}
     },
     "5b940c3879e64cf98347973d19dcff84": {
      "model_module": "@jupyter-widgets/base",
      "model_module_version": "1.2.0",
      "model_name": "LayoutModel",
      "state": {}
     },
     "5bfb433518c246f4a7cd7249ff19b64e": {
      "model_module": "@jupyter-widgets/controls",
      "model_module_version": "1.5.0",
      "model_name": "IntSliderModel",
      "state": {
       "description": "value",
       "layout": "IPY_MODEL_f8e8217ad4ff42db874a2be04d88d09c",
       "max": 7,
       "min": 1,
       "style": "IPY_MODEL_13acdf1ccc5a4999af0676c08d452094",
       "value": 3
      }
     },
     "5c020f6de4b0494db643bad3b0644d25": {
      "model_module": "@jupyter-widgets/controls",
      "model_module_version": "1.5.0",
      "model_name": "SliderStyleModel",
      "state": {
       "description_width": ""
      }
     },
     "5c0d7f4b7f914f719c8266137f7d0017": {
      "model_module": "@jupyter-widgets/controls",
      "model_module_version": "1.5.0",
      "model_name": "DropdownModel",
      "state": {
       "_options_labels": [
        "Integer",
        "Float",
        "Bool"
       ],
       "index": 0,
       "layout": "IPY_MODEL_0728179a541f413fa5aae643b0fd424c",
       "style": "IPY_MODEL_8249d03607ce403b941353f80011ee8b"
      }
     },
     "5c2170886bb84b0fb0345314e6a3925d": {
      "model_module": "@jupyter-widgets/base",
      "model_module_version": "1.2.0",
      "model_name": "LayoutModel",
      "state": {}
     },
     "5c2e84642c5d485189990628bfa497c8": {
      "model_module": "@jupyter-widgets/base",
      "model_module_version": "1.2.0",
      "model_name": "LayoutModel",
      "state": {}
     },
     "5c45b8f207094c259218686f4e90aff4": {
      "model_module": "@jupyter-widgets/controls",
      "model_module_version": "1.5.0",
      "model_name": "DescriptionStyleModel",
      "state": {
       "description_width": ""
      }
     },
     "5c675aab59fb4845aac7b8dac885e566": {
      "model_module": "@jupyter-widgets/base",
      "model_module_version": "1.2.0",
      "model_name": "LayoutModel",
      "state": {}
     },
     "5c7ea0ef330d498b91b01ff20701afc6": {
      "model_module": "@jupyter-widgets/controls",
      "model_module_version": "1.5.0",
      "model_name": "AccordionModel",
      "state": {
       "_titles": {
        "0": "materials",
        "1": "leaf"
       },
       "children": [
        "IPY_MODEL_35de142236d6430682387800cc229756",
        "IPY_MODEL_f6877ba37bef4c718f9ad54a1dee9c7e"
       ],
       "layout": "IPY_MODEL_48a9dc8b95d14018a1273a4583c91c32"
      }
     },
     "5ca98085c6bf49aca459dd565f93cd38": {
      "model_module": "@jupyter-widgets/controls",
      "model_module_version": "1.5.0",
      "model_name": "CheckboxModel",
      "state": {
       "description": "Auto apply",
       "disabled": false,
       "layout": "IPY_MODEL_8299462a02d34ce7a919b316de08ed30",
       "style": "IPY_MODEL_28941cfcc3894fe3a6bb53b671b1fbf1",
       "value": false
      }
     },
     "5cb0a8f02ad04b5f9796ec72a576b675": {
      "model_module": "@jupyter-widgets/controls",
      "model_module_version": "1.5.0",
      "model_name": "DescriptionStyleModel",
      "state": {
       "description_width": ""
      }
     },
     "5ccfe2f5d1bc472faf8aa7f50bf0ab1d": {
      "model_module": "pgljupyter",
      "model_module_version": "^0.1.17",
      "model_name": "MaterialEditorModel",
      "state": {
       "_model_module_version": "^0.1.17",
       "_view_module_version": "^0.1.17",
       "children": [
        "IPY_MODEL_fe39b8c3b9064292a4c361b7263a6c84",
        "IPY_MODEL_9d4b9a9b3979406d872e9b0718717eb7",
        "IPY_MODEL_38af2c3340fa4dccbe1fe87f084d021e",
        "IPY_MODEL_077c655a00ab41bb91239523d5e0bf21",
        "IPY_MODEL_9a9dd7b9393e473ab51a5616b57ee709",
        "IPY_MODEL_5e1cd39cfa88428c865ac3fe8ce37706",
        "IPY_MODEL_7b56ea7a659047479a11f64be222d2ea"
       ],
       "layout": "IPY_MODEL_5a9efa5a617d42df8d7bb8d365c3e0a8"
      }
     },
     "5cd5315f340348038cd38a661f3e0383": {
      "model_module": "@jupyter-widgets/base",
      "model_module_version": "1.2.0",
      "model_name": "LayoutModel",
      "state": {}
     },
     "5cdf0a890d1f47459e533b95f5fa6d12": {
      "model_module": "@jupyter-widgets/controls",
      "model_module_version": "1.5.0",
      "model_name": "CheckboxModel",
      "state": {
       "description": "Auto save",
       "disabled": false,
       "layout": "IPY_MODEL_473617a3b3a74ffb93086ff4b9f2d61a",
       "style": "IPY_MODEL_31f8f240a62d42c994ef77ad3eff9028",
       "value": false
      }
     },
     "5d1acbde1263434ca0516af8b1e818ec": {
      "model_module": "@jupyter-widgets/controls",
      "model_module_version": "1.5.0",
      "model_name": "FloatSliderModel",
      "state": {
       "description": "transparency",
       "layout": "IPY_MODEL_9e9532d3f9264d848c9671d25e59429b",
       "max": 1,
       "step": 0.1,
       "style": "IPY_MODEL_09ab73e88d6a48cf971284095d2d93ee"
      }
     },
     "5d416a34f993487a93cb14b0054ea4ea": {
      "model_module": "@jupyter-widgets/base",
      "model_module_version": "1.2.0",
      "model_name": "LayoutModel",
      "state": {}
     },
     "5d56f12735114a72b59aee0792d5ab99": {
      "model_module": "@jupyter-widgets/controls",
      "model_module_version": "1.5.0",
      "model_name": "SliderStyleModel",
      "state": {
       "description_width": ""
      }
     },
     "5d665054e5a24fcc86e9f3d114ca7382": {
      "model_module": "@jupyter-widgets/controls",
      "model_module_version": "1.5.0",
      "model_name": "FloatSliderModel",
      "state": {
       "description": "diffuse",
       "layout": "IPY_MODEL_7a99d133c96c4e7bac722c58641e6bc6",
       "max": 3,
       "step": 0.1,
       "style": "IPY_MODEL_a301eb5668924f298fa462fb2ee4e2dc",
       "value": 1
      }
     },
     "5d6b91526f5c4f069888276c86e31117": {
      "model_module": "@jupyter-widgets/base",
      "model_module_version": "1.2.0",
      "model_name": "LayoutModel",
      "state": {}
     },
     "5d6e79af49c540d687173491bdf52613": {
      "model_module": "@jupyter-widgets/controls",
      "model_module_version": "1.5.0",
      "model_name": "HBoxModel",
      "state": {
       "children": [
        "IPY_MODEL_4372a40b5e864ae785c713790258dbe4",
        "IPY_MODEL_662a8bc5b57b429b8272a6397296a547"
       ],
       "layout": "IPY_MODEL_ccd2ea5a8e31427bb33242becf4077fa"
      }
     },
     "5da6a4695aee4e9ab96fad51b59727c6": {
      "model_module": "@jupyter-widgets/base",
      "model_module_version": "1.2.0",
      "model_name": "LayoutModel",
      "state": {}
     },
     "5dec0cf2269d486da8492dee4e84b3f8": {
      "model_module": "@jupyter-widgets/controls",
      "model_module_version": "1.5.0",
      "model_name": "ButtonStyleModel",
      "state": {}
     },
     "5e1cd39cfa88428c865ac3fe8ce37706": {
      "model_module": "@jupyter-widgets/controls",
      "model_module_version": "1.5.0",
      "model_name": "FloatSliderModel",
      "state": {
       "description": "transparency",
       "layout": "IPY_MODEL_d436543783c8447f81f559995965920f",
       "max": 1,
       "step": 0.1,
       "style": "IPY_MODEL_e6ea0f1df0864495a18ce55e8ee48a88"
      }
     },
     "5e82b30d25f94292a4d76ae8c23684da": {
      "model_module": "@jupyter-widgets/controls",
      "model_module_version": "1.5.0",
      "model_name": "DescriptionStyleModel",
      "state": {
       "description_width": ""
      }
     },
     "5e9c1818473b44dab49b3d26bf241c9d": {
      "model_module": "@jupyter-widgets/controls",
      "model_module_version": "1.5.0",
      "model_name": "DescriptionStyleModel",
      "state": {
       "description_width": ""
      }
     },
     "5eac464e5de54b27a961eb229e40565b": {
      "model_module": "@jupyter-widgets/controls",
      "model_module_version": "1.5.0",
      "model_name": "CheckboxModel",
      "state": {
       "description": "Auto save",
       "disabled": false,
       "layout": "IPY_MODEL_8c00dd94f504489eb79f75cdf4d9b736",
       "style": "IPY_MODEL_c54dbf897e88456f9d68e9e0b6f32806",
       "value": false
      }
     },
     "5ef60586f6624e7a921466efb2d8a645": {
      "model_module": "@jupyter-widgets/controls",
      "model_module_version": "1.5.0",
      "model_name": "DescriptionStyleModel",
      "state": {
       "description_width": ""
      }
     },
     "5eff584d0b2b41aeb1390c34883b3952": {
      "model_module": "@jupyter-widgets/controls",
      "model_module_version": "1.5.0",
      "model_name": "HBoxModel",
      "state": {
       "children": [
        "IPY_MODEL_baaa42ae12f948eab87555a7fbda06c9",
        "IPY_MODEL_8c34ccd1ce0c4bdea50769e26de587f7"
       ],
       "layout": "IPY_MODEL_5a6aab1bb709492da4f69389f9069c24"
      }
     },
     "5f0d4143620941798573a504d9e748b1": {
      "model_module": "@jupyter-widgets/base",
      "model_module_version": "1.2.0",
      "model_name": "LayoutModel",
      "state": {}
     },
     "5f1c7016d47f4e318a32653fe7356e2b": {
      "model_module": "@jupyter-widgets/base",
      "model_module_version": "1.2.0",
      "model_name": "LayoutModel",
      "state": {}
     },
     "5f2ecb128cba4ce0ae2ed4b650b085bd": {
      "model_module": "@jupyter-widgets/base",
      "model_module_version": "1.2.0",
      "model_name": "LayoutModel",
      "state": {}
     },
     "5f35732199e94b7981ff948790caec12": {
      "model_module": "@jupyter-widgets/controls",
      "model_module_version": "1.5.0",
      "model_name": "DescriptionStyleModel",
      "state": {
       "description_width": ""
      }
     },
     "5f766dc4cb8647509fa135a5358aaab0": {
      "model_module": "@jupyter-widgets/base",
      "model_module_version": "1.2.0",
      "model_name": "LayoutModel",
      "state": {}
     },
     "5fd9a8d12c4d45588031973ef01650c0": {
      "model_module": "@jupyter-widgets/controls",
      "model_module_version": "1.5.0",
      "model_name": "ColorPickerModel",
      "state": {
       "description": "ambient",
       "disabled": false,
       "layout": "IPY_MODEL_09fe84e4c04243fdb4d5769ae0bf8f00",
       "style": "IPY_MODEL_c1f8e654bd764ed1b77cc56f2508694d",
       "value": "#5b4534"
      }
     },
     "5fe590f048484a3ba28067befd41b28a": {
      "model_module": "@jupyter-widgets/controls",
      "model_module_version": "1.5.0",
      "model_name": "TextModel",
      "state": {
       "continuous_update": false,
       "description": "name",
       "layout": "IPY_MODEL_406538f49d474b288e16fda7dd512c69",
       "style": "IPY_MODEL_40ccbdcf094944daacad40f2478bd3f3",
       "value": "color_2"
      }
     },
     "604d1a618d0d48e8ba8e49ac54668dfb": {
      "model_module": "@jupyter-widgets/controls",
      "model_module_version": "1.5.0",
      "model_name": "DescriptionStyleModel",
      "state": {
       "description_width": ""
      }
     },
     "60649db2aa41400c8d032bf13c68e453": {
      "model_module": "@jupyter-widgets/base",
      "model_module_version": "1.2.0",
      "model_name": "LayoutModel",
      "state": {}
     },
     "60b6d845ad24428db8160a19a54d242d": {
      "model_module": "@jupyter-widgets/controls",
      "model_module_version": "1.5.0",
      "model_name": "FloatSliderModel",
      "state": {
       "description": "diffuse",
       "layout": "IPY_MODEL_af62057272d64d6c8173cc755a1345c8",
       "max": 3,
       "step": 0.1,
       "style": "IPY_MODEL_4623abe30f8746eb94835fdc33c089af",
       "value": 1
      }
     },
     "60b848e0a9d44febb7a1d3a68a4ed857": {
      "model_module": "@jupyter-widgets/controls",
      "model_module_version": "1.5.0",
      "model_name": "ColorPickerModel",
      "state": {
       "description": "ambient",
       "disabled": false,
       "layout": "IPY_MODEL_466cc074ebc9465d93833472fef33beb",
       "style": "IPY_MODEL_9995b849589e4f8a87cd74cb1555ef93",
       "value": "#5b4534"
      }
     },
     "60f7d6ccd61f493dadbfcf94d366711a": {
      "model_module": "@jupyter-widgets/base",
      "model_module_version": "1.2.0",
      "model_name": "LayoutModel",
      "state": {}
     },
     "60ff2d33083e41a7a9c77037399cc0c7": {
      "model_module": "@jupyter-widgets/controls",
      "model_module_version": "1.5.0",
      "model_name": "DescriptionStyleModel",
      "state": {
       "description_width": ""
      }
     },
     "6122fb292c0c44039d410f9afbe16534": {
      "model_module": "@jupyter-widgets/base",
      "model_module_version": "1.2.0",
      "model_name": "LayoutModel",
      "state": {}
     },
     "613b92ffca5244b6a9fe92b6eac0bfb3": {
      "model_module": "@jupyter-widgets/controls",
      "model_module_version": "1.5.0",
      "model_name": "ColorPickerModel",
      "state": {
       "description": "ambient",
       "disabled": false,
       "layout": "IPY_MODEL_fd50b55e03484806aa3cae2a2541a1d3",
       "style": "IPY_MODEL_fe77130544c74fea9c083f6b668bcfaf",
       "value": "#e1a014"
      }
     },
     "614b17aa8cbd4c59bdc4c77fdfbbc42b": {
      "model_module": "@jupyter-widgets/base",
      "model_module_version": "1.2.0",
      "model_name": "LayoutModel",
      "state": {}
     },
     "61604db4d90b46a3a0031ae5119c1516": {
      "model_module": "@jupyter-widgets/controls",
      "model_module_version": "1.5.0",
      "model_name": "DescriptionStyleModel",
      "state": {
       "description_width": ""
      }
     },
     "619d054879f142ab8a22cb911c74fa09": {
      "model_module": "@jupyter-widgets/base",
      "model_module_version": "1.2.0",
      "model_name": "LayoutModel",
      "state": {}
     },
     "61c5a99dc07f47fdb21721b1b101776a": {
      "model_module": "@jupyter-widgets/controls",
      "model_module_version": "1.5.0",
      "model_name": "SliderStyleModel",
      "state": {
       "description_width": ""
      }
     },
     "62011f6d9ab4417da126fa460c091385": {
      "model_module": "@jupyter-widgets/base",
      "model_module_version": "1.2.0",
      "model_name": "LayoutModel",
      "state": {}
     },
     "6213afc08dc747abb3101b3b00eff81e": {
      "model_module": "@jupyter-widgets/base",
      "model_module_version": "1.2.0",
      "model_name": "LayoutModel",
      "state": {
       "margin": "20px 0px"
      }
     },
     "62252cd6e6f64fb7aa4f68ce3e71f4b1": {
      "model_module": "pgljupyter",
      "model_module_version": "^0.1.17",
      "model_name": "MaterialEditorModel",
      "state": {
       "_model_module_version": "^0.1.17",
       "_view_module_version": "^0.1.17",
       "children": [
        "IPY_MODEL_51deaef56dce430dae6fc3f320f5ae3e",
        "IPY_MODEL_ed878756b8fb401389ecaf5b518387e3",
        "IPY_MODEL_a05c2a0fc34b4dfe85701e30e5a55732",
        "IPY_MODEL_13b719143ac7434582f81b16c18d6b4e",
        "IPY_MODEL_41374977018a4cc590e2913add7f287a",
        "IPY_MODEL_a2eafcfa36b44a6ba3e34657e64cec7a",
        "IPY_MODEL_bf0625eebb3744fc8cc55567e985236f"
       ],
       "layout": "IPY_MODEL_fd273ce6761742148ac89669bc64d98d"
      }
     },
     "625a97aef55748c189e2a6b3c1b5e67d": {
      "model_module": "@jupyter-widgets/base",
      "model_module_version": "1.2.0",
      "model_name": "LayoutModel",
      "state": {}
     },
     "6275cdb1a22040fd844c2deb6ab44a03": {
      "model_module": "@jupyter-widgets/controls",
      "model_module_version": "1.5.0",
      "model_name": "DescriptionStyleModel",
      "state": {
       "description_width": ""
      }
     },
     "62867ab47038465d8944dcad2437cbc9": {
      "model_module": "@jupyter-widgets/base",
      "model_module_version": "1.2.0",
      "model_name": "LayoutModel",
      "state": {}
     },
     "62b5bc6403144408b19fd4a789c19c72": {
      "model_module": "@jupyter-widgets/controls",
      "model_module_version": "1.5.0",
      "model_name": "ColorPickerModel",
      "state": {
       "description": "specular",
       "disabled": false,
       "layout": "IPY_MODEL_76fa5974fc594088898aeca9c0523cbd",
       "style": "IPY_MODEL_ffd47b6cfe404097909f5f4870a7fc67",
       "value": "#282828"
      }
     },
     "62f06f01a47f4f6c8c42d71dcba612c6": {
      "model_module": "@jupyter-widgets/base",
      "model_module_version": "1.2.0",
      "model_name": "LayoutModel",
      "state": {}
     },
     "62fff4b10d2c498fa7de85b618a36351": {
      "model_module": "@jupyter-widgets/controls",
      "model_module_version": "1.5.0",
      "model_name": "ColorPickerModel",
      "state": {
       "description": "emission",
       "disabled": false,
       "layout": "IPY_MODEL_7b1a55ba2ac3453b99b92e17130c6a1e",
       "style": "IPY_MODEL_e0c35736a89f424aa92cf4bb65dd15cd",
       "value": "#000000"
      }
     },
     "630f51ddc6474d56ac2b11c221db9313": {
      "model_module": "@jupyter-widgets/controls",
      "model_module_version": "1.5.0",
      "model_name": "ColorPickerModel",
      "state": {
       "description": "specular",
       "disabled": false,
       "layout": "IPY_MODEL_e894d4c3a4fb4f25a3f9d4c94d93edc4",
       "style": "IPY_MODEL_71181c0856bf4f019a94995d5325d299",
       "value": "#282828"
      }
     },
     "6313452555004e3e8cd4af4b429d6c81": {
      "model_module": "@jupyter-widgets/controls",
      "model_module_version": "1.5.0",
      "model_name": "SliderStyleModel",
      "state": {
       "description_width": ""
      }
     },
     "6322774f3a5e4d0cad43bc9ac0f77d3f": {
      "model_module": "@jupyter-widgets/controls",
      "model_module_version": "1.5.0",
      "model_name": "HBoxModel",
      "state": {
       "children": [
        "IPY_MODEL_ddc34eb399b046ce9c7bbcc7bcce04e5",
        "IPY_MODEL_f147ffdfc6994c26b4177e9b873ebcc9",
        "IPY_MODEL_cca2bc234f7546b6ab053ec14a62865d",
        "IPY_MODEL_bcb9c01e8d5e4ef6a75414069738d87f",
        "IPY_MODEL_3c9570eda3684eab96511e129bb5cee0"
       ],
       "layout": "IPY_MODEL_8d56c586bca3464d8c5cb36ae761ba46"
      }
     },
     "63354b64c5c6445686dd6064588bcd06": {
      "model_module": "@jupyter-widgets/base",
      "model_module_version": "1.2.0",
      "model_name": "LayoutModel",
      "state": {}
     },
     "63c9d2863df64449a1d81b197959dbbe": {
      "model_module": "@jupyter-widgets/controls",
      "model_module_version": "1.5.0",
      "model_name": "DescriptionStyleModel",
      "state": {
       "description_width": ""
      }
     },
     "63ec99422d324062aa029ae26fb392cf": {
      "model_module": "@jupyter-widgets/controls",
      "model_module_version": "1.5.0",
      "model_name": "TextModel",
      "state": {
       "continuous_update": false,
       "description": "name",
       "layout": "IPY_MODEL_5683515fa2d0458db36f542630cf452a",
       "style": "IPY_MODEL_e29b2ad0e6b8400997e87c1b714baead",
       "value": "color_4"
      }
     },
     "641c05b7ca444b45815f98e53b6c6ac7": {
      "model_module": "@jupyter-widgets/controls",
      "model_module_version": "1.5.0",
      "model_name": "ButtonModel",
      "state": {
       "description": "Delete",
       "layout": "IPY_MODEL_344335e7670a495595018a08fc546dec",
       "style": "IPY_MODEL_2fbe66108ef0435abf2f0ae7d1785c48"
      }
     },
     "64635876704d46df8e253b2d4cefa598": {
      "model_module": "@jupyter-widgets/base",
      "model_module_version": "1.2.0",
      "model_name": "LayoutModel",
      "state": {}
     },
     "649b808e83854530a387af7bc18abe1e": {
      "model_module": "@jupyter-widgets/base",
      "model_module_version": "1.2.0",
      "model_name": "LayoutModel",
      "state": {}
     },
     "64ddded86cc94f2aaa65c66efd8404cd": {
      "model_module": "@jupyter-widgets/controls",
      "model_module_version": "1.5.0",
      "model_name": "HBoxModel",
      "state": {
       "children": [
        "IPY_MODEL_ec0d311430274174ad6f8002cc5ab013",
        "IPY_MODEL_c0a048ed609e4aceb6a259def78278e2"
       ],
       "layout": "IPY_MODEL_b64a0b633c4c488bb06c6634159a6227"
      }
     },
     "64f0f3be71ea49f6b0bf5f7a3382814b": {
      "model_module": "@jupyter-widgets/controls",
      "model_module_version": "1.5.0",
      "model_name": "DescriptionStyleModel",
      "state": {
       "description_width": ""
      }
     },
     "64f9dc0574df4a11af6125d753e638a4": {
      "model_module": "@jupyter-widgets/base",
      "model_module_version": "1.2.0",
      "model_name": "LayoutModel",
      "state": {}
     },
     "64fb29f193384a4e8f752c45b4c4b1ca": {
      "model_module": "@jupyter-widgets/controls",
      "model_module_version": "1.5.0",
      "model_name": "ColorPickerModel",
      "state": {
       "description": "emission",
       "disabled": false,
       "layout": "IPY_MODEL_68cfd084a9b844c7b9f46de98db14296",
       "style": "IPY_MODEL_9d7be6be4d2747209818d0df34b5332e",
       "value": "#000000"
      }
     },
     "6568a84592d945ddaf5e6c0dc6c917c1": {
      "model_module": "@jupyter-widgets/base",
      "model_module_version": "1.2.0",
      "model_name": "LayoutModel",
      "state": {}
     },
     "65bee35e74e7441d98cbdeb5de6d8221": {
      "model_module": "@jupyter-widgets/base",
      "model_module_version": "1.2.0",
      "model_name": "LayoutModel",
      "state": {}
     },
     "65cb7b1023ae4f4aae41fd3b1473e716": {
      "model_module": "@jupyter-widgets/base",
      "model_module_version": "1.2.0",
      "model_name": "LayoutModel",
      "state": {
       "margin": "20px 0px"
      }
     },
     "65dc7f4bbf724d46a564ee783e7d55ea": {
      "model_module": "@jupyter-widgets/base",
      "model_module_version": "1.2.0",
      "model_name": "LayoutModel",
      "state": {}
     },
     "65e9c69006e0410082732dcb581d48b9": {
      "model_module": "@jupyter-widgets/controls",
      "model_module_version": "1.5.0",
      "model_name": "DescriptionStyleModel",
      "state": {
       "description_width": ""
      }
     },
     "6606341d02fc439dbd25cdd30951c0c4": {
      "model_module": "@jupyter-widgets/controls",
      "model_module_version": "1.5.0",
      "model_name": "SliderStyleModel",
      "state": {
       "description_width": ""
      }
     },
     "662a8bc5b57b429b8272a6397296a547": {
      "model_module": "@jupyter-widgets/controls",
      "model_module_version": "1.5.0",
      "model_name": "DropdownModel",
      "state": {
       "index": null,
       "layout": "IPY_MODEL_49d8421d6f4e4d488db1bd655f89a30e",
       "style": "IPY_MODEL_4a8af0be878b499d97a7bae1ed0009d0"
      }
     },
     "66cfa3a226224323bc89e5cd0184f515": {
      "model_module": "@jupyter-widgets/base",
      "model_module_version": "1.2.0",
      "model_name": "LayoutModel",
      "state": {}
     },
     "66d7a1826e15429d8f8f2cf795ccb6c1": {
      "model_module": "@jupyter-widgets/base",
      "model_module_version": "1.2.0",
      "model_name": "LayoutModel",
      "state": {}
     },
     "67461a76be584a8b8d2fa4e2f8aa7d24": {
      "model_module": "@jupyter-widgets/controls",
      "model_module_version": "1.5.0",
      "model_name": "FloatSliderModel",
      "state": {
       "description": "transparency",
       "layout": "IPY_MODEL_b7fff26df0ad46bbaeeb12519d1a0352",
       "max": 1,
       "step": 0.1,
       "style": "IPY_MODEL_30d8f21dda4646f0acb3611afa8c89a6"
      }
     },
     "674ce701a99c4dd290082ac0ca4a9bf8": {
      "model_module": "@jupyter-widgets/controls",
      "model_module_version": "1.5.0",
      "model_name": "DescriptionStyleModel",
      "state": {
       "description_width": ""
      }
     },
     "67555ffb059840dd83d40a952b22cf1d": {
      "model_module": "@jupyter-widgets/base",
      "model_module_version": "1.2.0",
      "model_name": "LayoutModel",
      "state": {}
     },
     "676ef09cd4844c10ba6f4f53d5d24356": {
      "model_module": "@jupyter-widgets/base",
      "model_module_version": "1.2.0",
      "model_name": "LayoutModel",
      "state": {}
     },
     "677b6979d18a4369b43c7d2c7055d352": {
      "model_module": "@jupyter-widgets/controls",
      "model_module_version": "1.5.0",
      "model_name": "TextModel",
      "state": {
       "continuous_update": false,
       "description": "name",
       "layout": "IPY_MODEL_98277c35c08042f6a10536f9cec224a9",
       "style": "IPY_MODEL_83cb5d93b13c4d38906e44f6111942f3",
       "value": "color_4"
      }
     },
     "679a4e3dbf4340d084066a79f8c8540d": {
      "model_module": "@jupyter-widgets/controls",
      "model_module_version": "1.5.0",
      "model_name": "ButtonModel",
      "state": {
       "description": "Apply changes",
       "layout": "IPY_MODEL_d9ccb67aeb914dbebc9157bdfb5dc23d",
       "style": "IPY_MODEL_ef1d08148f6a452081c3eb7924ab9c8f"
      }
     },
     "67c7aedfc8f04a9bb8e92c4fbabb0fa3": {
      "model_module": "@jupyter-widgets/base",
      "model_module_version": "1.2.0",
      "model_name": "LayoutModel",
      "state": {}
     },
     "67f4e04d08034151b0a50c7edf65de73": {
      "model_module": "@jupyter-widgets/controls",
      "model_module_version": "1.5.0",
      "model_name": "SliderStyleModel",
      "state": {
       "description_width": ""
      }
     },
     "683514619a284a17be83f3e12928bc6a": {
      "model_module": "@jupyter-widgets/controls",
      "model_module_version": "1.5.0",
      "model_name": "IntSliderModel",
      "state": {
       "description": "value",
       "layout": "IPY_MODEL_ac6f0bb182d14b43a5412de39ac1d15a",
       "max": 10,
       "min": 1,
       "style": "IPY_MODEL_ce95b26aa02f45a485c1255eae9a21fa",
       "value": 5
      }
     },
     "6836f870173f481c896bba938c011cdd": {
      "model_module": "@jupyter-widgets/controls",
      "model_module_version": "1.5.0",
      "model_name": "TextModel",
      "state": {
       "continuous_update": false,
       "description": "name",
       "layout": "IPY_MODEL_8b24ac74c0944cd48267de6d5fe2be88",
       "style": "IPY_MODEL_1fc7b2d61c8248a78f6d173ef2c25c28",
       "value": "maxorder"
      }
     },
     "684c8f4df8674412aedac32f204f41a4": {
      "model_module": "@jupyter-widgets/controls",
      "model_module_version": "1.5.0",
      "model_name": "HBoxModel",
      "state": {
       "children": [
        "IPY_MODEL_7d994118bafc4c709d4e82c6555c0cdf"
       ],
       "layout": "IPY_MODEL_78dff3c9b0ab4092885a4681b708b9c4"
      }
     },
     "68a0a5b32660431c972bf9ccdf174f33": {
      "model_module": "@jupyter-widgets/base",
      "model_module_version": "1.2.0",
      "model_name": "LayoutModel",
      "state": {}
     },
     "68b2471e08bd43108da250cbe509f4c8": {
      "model_module": "@jupyter-widgets/controls",
      "model_module_version": "1.5.0",
      "model_name": "SliderStyleModel",
      "state": {
       "description_width": ""
      }
     },
     "68be4ec169ab4ce9929d4231bbdfaad7": {
      "model_module": "@jupyter-widgets/controls",
      "model_module_version": "1.5.0",
      "model_name": "ButtonStyleModel",
      "state": {}
     },
     "68cfd084a9b844c7b9f46de98db14296": {
      "model_module": "@jupyter-widgets/base",
      "model_module_version": "1.2.0",
      "model_name": "LayoutModel",
      "state": {}
     },
     "694aa30345644ad9836c04cf3497349c": {
      "model_module": "@jupyter-widgets/base",
      "model_module_version": "1.2.0",
      "model_name": "LayoutModel",
      "state": {}
     },
     "699fdd8b68ce4088bee5ea97075c85ef": {
      "model_module": "@jupyter-widgets/controls",
      "model_module_version": "1.5.0",
      "model_name": "HBoxModel",
      "state": {
       "children": [
        "IPY_MODEL_51cef2aa605e461f8d0f1f518f7427c4",
        "IPY_MODEL_a2621c9fa86a4cef802aae2710c3be5f"
       ],
       "layout": "IPY_MODEL_bdcbb93f812947e88d3b05e0e12e3467"
      }
     },
     "69adca6b2b7d471ca668269a5c227e1f": {
      "model_module": "@jupyter-widgets/controls",
      "model_module_version": "1.5.0",
      "model_name": "DescriptionStyleModel",
      "state": {
       "description_width": ""
      }
     },
     "69c450ec1a01424db338088654b05a79": {
      "model_module": "@jupyter-widgets/base",
      "model_module_version": "1.2.0",
      "model_name": "LayoutModel",
      "state": {}
     },
     "6a018a7ac45f43ed9fb495ac70a32468": {
      "model_module": "@jupyter-widgets/base",
      "model_module_version": "1.2.0",
      "model_name": "LayoutModel",
      "state": {}
     },
     "6a9570578894414ebd3507f4aa341efc": {
      "model_module": "pgljupyter",
      "model_module_version": "^0.1.18",
      "model_name": "LsystemWidgetModel",
      "state": {
       "_model_module_version": "^0.1.18",
       "_view_module_version": "^0.1.18",
       "axes_helper": false,
       "derivationLength": 42,
       "layout": "IPY_MODEL_d52fb0d8ec634c9e8f5209c9cbd03a9e",
       "light_helper": false,
       "plane": true,
       "size_display": [
        600,
        400
       ],
       "size_world": 50
      }
     },
     "6a95929048464d27b92643ff9e093d6b": {
      "model_module": "@jupyter-widgets/base",
      "model_module_version": "1.2.0",
      "model_name": "LayoutModel",
      "state": {}
     },
     "6a96352f36b9452bba44e1ee4b108426": {
      "model_module": "@jupyter-widgets/controls",
      "model_module_version": "1.5.0",
      "model_name": "SliderStyleModel",
      "state": {
       "description_width": ""
      }
     },
     "6ab377277f3f47c19b9225d757195275": {
      "model_module": "@jupyter-widgets/base",
      "model_module_version": "1.2.0",
      "model_name": "LayoutModel",
      "state": {}
     },
     "6af77e29019b4e689db91f5541c76b14": {
      "model_module": "@jupyter-widgets/controls",
      "model_module_version": "1.5.0",
      "model_name": "ColorPickerModel",
      "state": {
       "description": "emission",
       "disabled": false,
       "layout": "IPY_MODEL_055dec0cea5041829e855a22e1086bb8",
       "style": "IPY_MODEL_cec3e99efbcc48f4949ee3f961d09c72",
       "value": "#000000"
      }
     },
     "6afde54ff02642b099358c5671f1b873": {
      "model_module": "@jupyter-widgets/controls",
      "model_module_version": "1.5.0",
      "model_name": "ButtonModel",
      "state": {
       "description": "Add",
       "layout": "IPY_MODEL_21f3349a602545288f617c05af0e2a85",
       "style": "IPY_MODEL_510489c076f34b2bb4ed405c0bd2e184"
      }
     },
     "6b54e408638a4d85935aa261112cb2bb": {
      "model_module": "@jupyter-widgets/controls",
      "model_module_version": "1.5.0",
      "model_name": "SliderStyleModel",
      "state": {
       "description_width": ""
      }
     },
     "6b64f44ea36c41a0bce14ae865b76233": {
      "model_module": "@jupyter-widgets/controls",
      "model_module_version": "1.5.0",
      "model_name": "HBoxModel",
      "state": {
       "layout": "IPY_MODEL_5a7768daa7114d36b770ea435fe36cec"
      }
     },
     "6b7f50760bbe40128e53e8730548a7c5": {
      "model_module": "@jupyter-widgets/controls",
      "model_module_version": "1.5.0",
      "model_name": "TextModel",
      "state": {
       "continuous_update": false,
       "description": "name",
       "layout": "IPY_MODEL_2748b3bc98584be89e557777f606f30e",
       "style": "IPY_MODEL_5e82b30d25f94292a4d76ae8c23684da",
       "value": "color_3"
      }
     },
     "6b8f0820ce5e43c796130647fa6eec1e": {
      "model_module": "@jupyter-widgets/controls",
      "model_module_version": "1.5.0",
      "model_name": "ButtonStyleModel",
      "state": {}
     },
     "6b9b12000c3449fd833f068eef7fefa7": {
      "model_module": "@jupyter-widgets/base",
      "model_module_version": "1.2.0",
      "model_name": "LayoutModel",
      "state": {}
     },
     "6baaf717d33f4125b9871fa60bac0a2f": {
      "model_module": "@jupyter-widgets/controls",
      "model_module_version": "1.5.0",
      "model_name": "TextModel",
      "state": {
       "continuous_update": false,
       "description": "name",
       "layout": "IPY_MODEL_dc6fe4ae93724ee697ccb6414fa8bd2b",
       "style": "IPY_MODEL_f8bb53ae98a6404eb9fbd8309f221e79",
       "value": "color_2"
      }
     },
     "6bbc88a5645f4f34bc382a3d79ab54d0": {
      "model_module": "@jupyter-widgets/controls",
      "model_module_version": "1.5.0",
      "model_name": "HBoxModel",
      "state": {
       "children": [
        "IPY_MODEL_b0fb1ac3eab4429faa1c3064bf965e64",
        "IPY_MODEL_13ef4f1f81a4430aa1f08839e278e50f"
       ],
       "layout": "IPY_MODEL_7e4f103663654092a3b6f3f18908d2a4"
      }
     },
     "6bdedae54c80433d896fd303f7e37987": {
      "model_module": "@jupyter-widgets/controls",
      "model_module_version": "1.5.0",
      "model_name": "HBoxModel",
      "state": {
       "children": [
        "IPY_MODEL_746de6547f2f4d878ec09579509f5e7d",
        "IPY_MODEL_699fdd8b68ce4088bee5ea97075c85ef"
       ],
       "layout": "IPY_MODEL_5a6aab1bb709492da4f69389f9069c24"
      }
     },
     "6be8b624abb24c98af91054c27cba856": {
      "model_module": "@jupyter-widgets/controls",
      "model_module_version": "1.5.0",
      "model_name": "ButtonStyleModel",
      "state": {}
     },
     "6c062a627e074314b2c9f10cb62a60ff": {
      "model_module": "@jupyter-widgets/controls",
      "model_module_version": "1.5.0",
      "model_name": "DescriptionStyleModel",
      "state": {
       "description_width": ""
      }
     },
     "6c671f207c164abd949a12ac8032908b": {
      "model_module": "@jupyter-widgets/base",
      "model_module_version": "1.2.0",
      "model_name": "LayoutModel",
      "state": {}
     },
     "6c692b6a751b4f9a87b763ae9a055554": {
      "model_module": "pgljupyter",
      "model_module_version": "^0.1.18",
      "model_name": "IntEditorModel",
      "state": {
       "_model_module_version": "^0.1.18",
       "_view_module_version": "^0.1.18",
       "children": [
        "IPY_MODEL_0d310866a28c4c1ab0562409f5a1baa5",
        "IPY_MODEL_543008b05d50479590c3d4e3bc492779"
       ],
       "layout": "IPY_MODEL_459815904a114cb9b092e8b2c8f014dd"
      }
     },
     "6c9077201cf9427b930095c29dff128d": {
      "model_module": "@jupyter-widgets/base",
      "model_module_version": "1.2.0",
      "model_name": "LayoutModel",
      "state": {}
     },
     "6cafa8125cbe44e2b212a499900a8f16": {
      "model_module": "@jupyter-widgets/controls",
      "model_module_version": "1.5.0",
      "model_name": "ButtonStyleModel",
      "state": {}
     },
     "6cb02b695e9b429fb82b362a464e95d4": {
      "model_module": "@jupyter-widgets/base",
      "model_module_version": "1.2.0",
      "model_name": "LayoutModel",
      "state": {}
     },
     "6d1a398411bc4c81808725799dd684d4": {
      "model_module": "@jupyter-widgets/controls",
      "model_module_version": "1.5.0",
      "model_name": "DescriptionStyleModel",
      "state": {
       "description_width": ""
      }
     },
     "6d4072720b9f49d79f96a3e2beff6e17": {
      "model_module": "@jupyter-widgets/controls",
      "model_module_version": "1.5.0",
      "model_name": "ButtonStyleModel",
      "state": {}
     },
     "6d5e3a1f1f6e4037b118fad920b662c6": {
      "model_module": "@jupyter-widgets/controls",
      "model_module_version": "1.5.0",
      "model_name": "ButtonStyleModel",
      "state": {}
     },
     "6d8d2b229cc647d08308701c382a11a7": {
      "model_module": "@jupyter-widgets/base",
      "model_module_version": "1.2.0",
      "model_name": "LayoutModel",
      "state": {}
     },
     "6d9cd9fec46242309f65481bd57e1ab6": {
      "model_module": "@jupyter-widgets/controls",
      "model_module_version": "1.5.0",
      "model_name": "SliderStyleModel",
      "state": {
       "description_width": ""
      }
     },
     "6dcf6d518b354f35a404160bd83b6ff7": {
      "model_module": "@jupyter-widgets/base",
      "model_module_version": "1.2.0",
      "model_name": "LayoutModel",
      "state": {}
     },
     "6e149d6140aa4abca3c6a495c874087e": {
      "model_module": "@jupyter-widgets/controls",
      "model_module_version": "1.5.0",
      "model_name": "CheckboxModel",
      "state": {
       "description": "Auto apply",
       "disabled": false,
       "layout": "IPY_MODEL_2de7c371544e409a8f3f128430eeced9",
       "style": "IPY_MODEL_6c062a627e074314b2c9f10cb62a60ff",
       "value": false
      }
     },
     "6e86329f62f04d64897ff3b96a1bfe58": {
      "model_module": "@jupyter-widgets/base",
      "model_module_version": "1.2.0",
      "model_name": "LayoutModel",
      "state": {}
     },
     "6eb1ab587c7b4b10b6c7a97e430683cf": {
      "model_module": "@jupyter-widgets/controls",
      "model_module_version": "1.5.0",
      "model_name": "DescriptionStyleModel",
      "state": {
       "description_width": ""
      }
     },
     "6ec1cbd07a644f899b126df86b0690ab": {
      "model_module": "@jupyter-widgets/controls",
      "model_module_version": "1.5.0",
      "model_name": "SliderStyleModel",
      "state": {
       "description_width": ""
      }
     },
     "6ecb092e2f024e54ab3e5a0f2fecdaa1": {
      "model_module": "@jupyter-widgets/base",
      "model_module_version": "1.2.0",
      "model_name": "LayoutModel",
      "state": {}
     },
     "6f0a69f339134e55b948c90d45650703": {
      "model_module": "@jupyter-widgets/base",
      "model_module_version": "1.2.0",
      "model_name": "LayoutModel",
      "state": {}
     },
     "6f0f8070aff54befb01d59fb84b450b7": {
      "model_module": "@jupyter-widgets/controls",
      "model_module_version": "1.5.0",
      "model_name": "HBoxModel",
      "state": {
       "children": [
        "IPY_MODEL_d94927052fb046c4b476563ba1404936",
        "IPY_MODEL_bdd912ccd9594f2c93aaed30b1a57ee8"
       ],
       "layout": "IPY_MODEL_5404c74b739a4b1f9611340837468322"
      }
     },
     "6f100fcdb69247f5bfc0c8803ddbae68": {
      "model_module": "@jupyter-widgets/base",
      "model_module_version": "1.2.0",
      "model_name": "LayoutModel",
      "state": {
       "margin": "20px 0px"
      }
     },
     "6f1858b8e9c6421b9b4fe2362c1009c7": {
      "model_module": "@jupyter-widgets/base",
      "model_module_version": "1.2.0",
      "model_name": "LayoutModel",
      "state": {}
     },
     "6f5e6f5355bd440d8af5ee837dac75a9": {
      "model_module": "@jupyter-widgets/base",
      "model_module_version": "1.2.0",
      "model_name": "LayoutModel",
      "state": {
       "flex_flow": "row wrap",
       "margin": "20px"
      }
     },
     "6fd19ee64db44d74845df2372b542b69": {
      "model_module": "@jupyter-widgets/controls",
      "model_module_version": "1.5.0",
      "model_name": "ColorPickerModel",
      "state": {
       "description": "ambient",
       "disabled": false,
       "layout": "IPY_MODEL_dc9e29879357411bbba01c813ba6f9f4",
       "style": "IPY_MODEL_72a0a0e0aead47d2aa630983d0ff942c",
       "value": "#195717"
      }
     },
     "7015fbbda9c047b391aecaeef63cd104": {
      "model_module": "@jupyter-widgets/base",
      "model_module_version": "1.2.0",
      "model_name": "LayoutModel",
      "state": {}
     },
     "704c51f2b4274443ae0128fcab864aca": {
      "model_module": "pgljupyter",
      "model_module_version": "^0.1.18",
      "model_name": "IntEditorModel",
      "state": {
       "_model_module_version": "^0.1.18",
       "_view_module_version": "^0.1.18",
       "children": [
        "IPY_MODEL_3906a75a08ed413aba2363f7e4fa3366",
        "IPY_MODEL_2c4f8c87f0eb4c48a1315f8f85b34133"
       ],
       "layout": "IPY_MODEL_eba7cf85bd6046aca8a8d6411fcef311"
      }
     },
     "70cd0cda1a844c278ad4555f50d5490a": {
      "model_module": "@jupyter-widgets/controls",
      "model_module_version": "1.5.0",
      "model_name": "ButtonStyleModel",
      "state": {}
     },
     "70dda571646341ceb6f35058be924baf": {
      "model_module": "@jupyter-widgets/controls",
      "model_module_version": "1.5.0",
      "model_name": "ColorPickerModel",
      "state": {
       "description": "emission",
       "disabled": false,
       "layout": "IPY_MODEL_13642e1addcd465cbd7d516a101c2713",
       "style": "IPY_MODEL_b042067711c749ddbe44af8d0b266773",
       "value": "#000000"
      }
     },
     "70f57e2c0344454288ed8ac17019df5e": {
      "model_module": "@jupyter-widgets/base",
      "model_module_version": "1.2.0",
      "model_name": "LayoutModel",
      "state": {}
     },
     "71181c0856bf4f019a94995d5325d299": {
      "model_module": "@jupyter-widgets/controls",
      "model_module_version": "1.5.0",
      "model_name": "DescriptionStyleModel",
      "state": {
       "description_width": ""
      }
     },
     "715606022a044632ac89eb213623d18a": {
      "model_module": "@jupyter-widgets/controls",
      "model_module_version": "1.5.0",
      "model_name": "BoundedIntTextModel",
      "state": {
       "description": "step",
       "layout": "IPY_MODEL_5532c2cdd5f24b1ebfeff4de061e7901",
       "min": 1,
       "style": "IPY_MODEL_e41cb6704a0a4c06a028ae53e9f988ee",
       "value": 1
      }
     },
     "718976f5e4da429abce9bf4719b35303": {
      "model_module": "@jupyter-widgets/controls",
      "model_module_version": "1.5.0",
      "model_name": "ButtonStyleModel",
      "state": {}
     },
     "71bb87308f7f413585405d1a1df6ad8f": {
      "model_module": "@jupyter-widgets/controls",
      "model_module_version": "1.5.0",
      "model_name": "BoundedIntTextModel",
      "state": {
       "description": "step",
       "layout": "IPY_MODEL_d3b85fda8a3a4608a7bd96283095fedd",
       "min": 1,
       "style": "IPY_MODEL_5f35732199e94b7981ff948790caec12",
       "value": 1
      }
     },
     "71bc512b2098424d90eb915826bf82e4": {
      "model_module": "@jupyter-widgets/base",
      "model_module_version": "1.2.0",
      "model_name": "LayoutModel",
      "state": {}
     },
     "720602bd96314ddbb7e19314e2bb1ac7": {
      "model_module": "@jupyter-widgets/base",
      "model_module_version": "1.2.0",
      "model_name": "LayoutModel",
      "state": {}
     },
     "72233f9b078644c7b23019e335582338": {
      "model_module": "@jupyter-widgets/base",
      "model_module_version": "1.2.0",
      "model_name": "LayoutModel",
      "state": {}
     },
     "726ea6227a9140b58c2e2db0b3c05e1f": {
      "model_module": "@jupyter-widgets/base",
      "model_module_version": "1.2.0",
      "model_name": "LayoutModel",
      "state": {
       "margin": "20px 0px"
      }
     },
     "727da00b96284e60887f830c92663006": {
      "model_module": "@jupyter-widgets/controls",
      "model_module_version": "1.5.0",
      "model_name": "HBoxModel",
      "state": {
       "children": [
        "IPY_MODEL_04cbb9188a174a70bb551de95a1ec0a3",
        "IPY_MODEL_9c81b23cc78347d3b3f5498f783fd5c4"
       ],
       "layout": "IPY_MODEL_fe9595ab730a4f21a90e37b95c64eb35"
      }
     },
     "7293a88c1ab941aabcecd4f6d4f03a08": {
      "model_module": "@jupyter-widgets/base",
      "model_module_version": "1.2.0",
      "model_name": "LayoutModel",
      "state": {}
     },
     "72a0a0e0aead47d2aa630983d0ff942c": {
      "model_module": "@jupyter-widgets/controls",
      "model_module_version": "1.5.0",
      "model_name": "DescriptionStyleModel",
      "state": {
       "description_width": ""
      }
     },
     "73496737da0c4b479a2e43c89062fdf3": {
      "model_module": "@jupyter-widgets/controls",
      "model_module_version": "1.5.0",
      "model_name": "AccordionModel",
      "state": {
       "_titles": {
        "0": "options",
        "1": "materials",
        "2": "leaf"
       },
       "children": [
        "IPY_MODEL_3036709698c94d53ac94124615b9612e",
        "IPY_MODEL_b8b9b3ffeaac416c9b974d5332062d10",
        "IPY_MODEL_353ddb1420fc4c4b98046d215b3a0a75"
       ],
       "layout": "IPY_MODEL_1b44d596a79d4717bb36340cb0ec6094"
      }
     },
     "73c2343975874c018e3bdb7a49cd342d": {
      "model_module": "@jupyter-widgets/controls",
      "model_module_version": "1.5.0",
      "model_name": "DropdownModel",
      "state": {
       "_options_labels": [
        "trunk",
        "leaf_new",
        "apex",
        "leaf_old"
       ],
       "index": 0,
       "layout": "IPY_MODEL_25d30d60259b4572b8731631d759ac9a",
       "style": "IPY_MODEL_0a200097686c4829bf34b9b3a60ec5a8"
      }
     },
     "73f23e73ddf440029997bd7411d5ebcb": {
      "model_module": "@jupyter-widgets/controls",
      "model_module_version": "1.5.0",
      "model_name": "HBoxModel",
      "state": {
       "children": [
        "IPY_MODEL_782bd34cf5564501951efef7290ab675",
        "IPY_MODEL_d3295221ce1f424ebee2f857573f74f6"
       ],
       "layout": "IPY_MODEL_a74963dac2344d5ab99396cfdd373704"
      }
     },
     "741f71d31ee4432f826a1a5983faff8b": {
      "model_module": "pgljupyter",
      "model_module_version": "^0.1.16",
      "model_name": "FloatEditorModel",
      "state": {
       "_model_module_version": "^0.1.16",
       "_view_module_version": "^0.1.16",
       "children": [
        "IPY_MODEL_161390ba99e04b138bc28fa9c249c180",
        "IPY_MODEL_203480e9c215468ea9ab336c23360aec",
        "IPY_MODEL_f6bd143eb72a4021a9ee1d0db9b45016",
        "IPY_MODEL_436612109cc345eab450803b93d883e8",
        "IPY_MODEL_9d12e0ef939e4807b6d9a006fce2d523"
       ],
       "layout": "IPY_MODEL_b763b1260b354b23ae6671768bc4a076"
      }
     },
     "743b4d10e04e429daa73128e21f65475": {
      "model_module": "@jupyter-widgets/controls",
      "model_module_version": "1.5.0",
      "model_name": "BoundedIntTextModel",
      "state": {
       "description": "index",
       "layout": "IPY_MODEL_f3c024e88d6640b3b187291687dc790d",
       "style": "IPY_MODEL_2a3d358efbf34acb9c7a60be2b6f23ae",
       "value": 4
      }
     },
     "744795a86db044f098523c400f8e0b54": {
      "model_module": "@jupyter-widgets/controls",
      "model_module_version": "1.5.0",
      "model_name": "DropdownModel",
      "state": {
       "_options_labels": [
        "color_1",
        "color_2",
        "color_3",
        "color_4"
       ],
       "index": 0,
       "layout": "IPY_MODEL_b170506f70d34c96b69cc2e6cb10b936",
       "style": "IPY_MODEL_455df1ed61f5486cac7c517343725455"
      }
     },
     "745b3376562c41a59ce78b7fb72eac55": {
      "model_module": "@jupyter-widgets/controls",
      "model_module_version": "1.5.0",
      "model_name": "FloatSliderModel",
      "state": {
       "description": "shininess",
       "layout": "IPY_MODEL_2cf86b3c818d4ae9854cb7c3aba3e9e5",
       "max": 1,
       "step": 0.1,
       "style": "IPY_MODEL_cc14692e35cc4df3a41f6c4a0b9ab26e",
       "value": 0.2
      }
     },
     "746de6547f2f4d878ec09579509f5e7d": {
      "model_module": "@jupyter-widgets/controls",
      "model_module_version": "1.5.0",
      "model_name": "HBoxModel",
      "state": {
       "children": [
        "IPY_MODEL_2cebf6544aeb43e5867b20b905a27538",
        "IPY_MODEL_b5d23766ee1b4de98cd72e67ca0961f4"
       ],
       "layout": "IPY_MODEL_fdfa37b789c94f49849c21a3d2bec28a"
      }
     },
     "74bb39c50046421c8cf174ea8b853142": {
      "model_module": "@jupyter-widgets/controls",
      "model_module_version": "1.5.0",
      "model_name": "HBoxModel",
      "state": {
       "layout": "IPY_MODEL_8d56c586bca3464d8c5cb36ae761ba46"
      }
     },
     "74dde666b12e4ccdbc62eb47f41ed106": {
      "model_module": "@jupyter-widgets/controls",
      "model_module_version": "1.5.0",
      "model_name": "DescriptionStyleModel",
      "state": {
       "description_width": ""
      }
     },
     "754a8ec29fb14d7087455060f4d25989": {
      "model_module": "@jupyter-widgets/controls",
      "model_module_version": "1.5.0",
      "model_name": "DescriptionStyleModel",
      "state": {
       "description_width": ""
      }
     },
     "7607d9a6764a4b5585e648fdb1289c55": {
      "model_module": "@jupyter-widgets/controls",
      "model_module_version": "1.5.0",
      "model_name": "HBoxModel",
      "state": {
       "children": [
        "IPY_MODEL_79313a604b5a4876b96188649d9844ed",
        "IPY_MODEL_8e07259218964759aa0e3756812d03d4",
        "IPY_MODEL_3e2965ac15734eacbe93346089045d2a",
        "IPY_MODEL_741f71d31ee4432f826a1a5983faff8b",
        "IPY_MODEL_26b2b92b694649c3b974782805831251"
       ],
       "layout": "IPY_MODEL_5a7768daa7114d36b770ea435fe36cec"
      }
     },
     "761fbbca71f145a5969c4290b8309933": {
      "model_module": "@jupyter-widgets/base",
      "model_module_version": "1.2.0",
      "model_name": "LayoutModel",
      "state": {
       "margin": "20px 0px"
      }
     },
     "767069b5239041d1a94bed85e955db0b": {
      "model_module": "@jupyter-widgets/controls",
      "model_module_version": "1.5.0",
      "model_name": "HBoxModel",
      "state": {
       "children": [
        "IPY_MODEL_2b91b62c30f74a2d80349a21cd49380b",
        "IPY_MODEL_f142e994cc534a86867a64e2eda8db55"
       ],
       "layout": "IPY_MODEL_7e4f103663654092a3b6f3f18908d2a4"
      }
     },
     "768416184c784ccc90f3432b6d9b15da": {
      "model_module": "@jupyter-widgets/controls",
      "model_module_version": "1.5.0",
      "model_name": "DescriptionStyleModel",
      "state": {
       "description_width": ""
      }
     },
     "7684bf627af64c99a1beb3e9c3800d93": {
      "model_module": "@jupyter-widgets/base",
      "model_module_version": "1.2.0",
      "model_name": "LayoutModel",
      "state": {}
     },
     "76962f026cd343edbb2be1f47b259f8e": {
      "model_module": "@jupyter-widgets/controls",
      "model_module_version": "1.5.0",
      "model_name": "DropdownModel",
      "state": {
       "_options_labels": [
        "color_1",
        "color_2",
        "color_3",
        "color_4"
       ],
       "index": 0,
       "layout": "IPY_MODEL_41cc1db02ba64e62b40ee9b19a788ac1",
       "style": "IPY_MODEL_164bcfa6695d41c4828175244e8404ae"
      }
     },
     "769de7cf8d7e429d8f80a5713fb7ebfa": {
      "model_module": "@jupyter-widgets/base",
      "model_module_version": "1.2.0",
      "model_name": "LayoutModel",
      "state": {}
     },
     "76ebe3b2efb042b0b745b891af6193b3": {
      "model_module": "@jupyter-widgets/controls",
      "model_module_version": "1.5.0",
      "model_name": "DescriptionStyleModel",
      "state": {
       "description_width": ""
      }
     },
     "76fa5974fc594088898aeca9c0523cbd": {
      "model_module": "@jupyter-widgets/base",
      "model_module_version": "1.2.0",
      "model_name": "LayoutModel",
      "state": {}
     },
     "7712426c5f4b4063af82886fae09a405": {
      "model_module": "@jupyter-widgets/base",
      "model_module_version": "1.2.0",
      "model_name": "LayoutModel",
      "state": {}
     },
     "7740beb2c49f45218e9e7fa1fe1a8432": {
      "model_module": "@jupyter-widgets/base",
      "model_module_version": "1.2.0",
      "model_name": "LayoutModel",
      "state": {}
     },
     "77bb0a66c7374c4d92144e5900b028a0": {
      "model_module": "@jupyter-widgets/controls",
      "model_module_version": "1.5.0",
      "model_name": "HBoxModel",
      "state": {
       "children": [
        "IPY_MODEL_af76f68e255a49a9a097846d5b100896",
        "IPY_MODEL_93d66b3b8d5148e096acb7c3b08dcb94"
       ],
       "layout": "IPY_MODEL_78dff3c9b0ab4092885a4681b708b9c4"
      }
     },
     "77fc433d7ea240f0b05864afbc6f627a": {
      "model_module": "@jupyter-widgets/base",
      "model_module_version": "1.2.0",
      "model_name": "LayoutModel",
      "state": {
       "flex_flow": "row wrap"
      }
     },
     "7820f3eb666143e08c9689ceabf9f92e": {
      "model_module": "@jupyter-widgets/controls",
      "model_module_version": "1.5.0",
      "model_name": "ColorPickerModel",
      "state": {
       "description": "specular",
       "disabled": false,
       "layout": "IPY_MODEL_fb438b1cc1484336bb3533aa50de8e15",
       "style": "IPY_MODEL_38c72ff473424ad9bfe39cfda219b63e",
       "value": "#282828"
      }
     },
     "782bd34cf5564501951efef7290ab675": {
      "model_module": "@jupyter-widgets/controls",
      "model_module_version": "1.5.0",
      "model_name": "ButtonModel",
      "state": {
       "description": "Add",
       "layout": "IPY_MODEL_b896d4c5ba084261b9772c2ec6244463",
       "style": "IPY_MODEL_2d0c3904e1ae45eaa6ffc4291f335b1f"
      }
     },
     "7844922bdc964f79876f85b1d4fdf8b4": {
      "model_module": "@jupyter-widgets/controls",
      "model_module_version": "1.5.0",
      "model_name": "DescriptionStyleModel",
      "state": {
       "description_width": ""
      }
     },
     "7847f6e3bd894ee48f1555c248f27c90": {
      "model_module": "@jupyter-widgets/controls",
      "model_module_version": "1.5.0",
      "model_name": "DropdownModel",
      "state": {
       "_options_labels": [
        "Integer",
        "Float",
        "Bool"
       ],
       "index": 0,
       "layout": "IPY_MODEL_d35e87005bca48c5862abf4e837a1469",
       "style": "IPY_MODEL_3de3b034852b47c9a285b62f838b9986"
      }
     },
     "7854ff74524f4fe689ec29f12ee822fa": {
      "model_module": "@jupyter-widgets/controls",
      "model_module_version": "1.5.0",
      "model_name": "DescriptionStyleModel",
      "state": {
       "description_width": ""
      }
     },
     "7878f40721f94603b8bcdf02db2a6f8c": {
      "model_module": "@jupyter-widgets/controls",
      "model_module_version": "1.5.0",
      "model_name": "ButtonStyleModel",
      "state": {}
     },
     "78dff3c9b0ab4092885a4681b708b9c4": {
      "model_module": "@jupyter-widgets/base",
      "model_module_version": "1.2.0",
      "model_name": "LayoutModel",
      "state": {
       "flex_flow": "row wrap",
       "margin": "20px"
      }
     },
     "78f64a9316a54addbb907fdb74325de3": {
      "model_module": "@jupyter-widgets/base",
      "model_module_version": "1.2.0",
      "model_name": "LayoutModel",
      "state": {}
     },
     "79313a604b5a4876b96188649d9844ed": {
      "model_module": "pgljupyter",
      "model_module_version": "^0.1.16",
      "model_name": "IntEditorModel",
      "state": {
       "_model_module_version": "^0.1.16",
       "_view_module_version": "^0.1.16",
       "children": [
        "IPY_MODEL_5151e6200d794a008b1bd7d40fbc162c",
        "IPY_MODEL_240b06896b1447a29608ee2c0041a5bc",
        "IPY_MODEL_cd863832ae4f4c2a9fb4238d4fe72b7d",
        "IPY_MODEL_b233f15e47474a7198fb26deae803dcc",
        "IPY_MODEL_b4f90847a77b4195b5dc4d2c29806c64"
       ],
       "layout": "IPY_MODEL_f41ebca09dd94958b840510087992ffe"
      }
     },
     "794d157bf0ff435fa7c3c39274a2f7b7": {
      "model_module": "@jupyter-widgets/controls",
      "model_module_version": "1.5.0",
      "model_name": "DescriptionStyleModel",
      "state": {
       "description_width": ""
      }
     },
     "7a33b0c7ad914ade99bfb96985353f2e": {
      "model_module": "@jupyter-widgets/base",
      "model_module_version": "1.2.0",
      "model_name": "LayoutModel",
      "state": {}
     },
     "7a99d133c96c4e7bac722c58641e6bc6": {
      "model_module": "@jupyter-widgets/base",
      "model_module_version": "1.2.0",
      "model_name": "LayoutModel",
      "state": {}
     },
     "7aab530945c249e3a941d757c0ccee92": {
      "model_module": "@jupyter-widgets/controls",
      "model_module_version": "1.5.0",
      "model_name": "DropdownModel",
      "state": {
       "_options_labels": [
        "Color"
       ],
       "index": 0,
       "layout": "IPY_MODEL_908f4ca4949b494db14fc5156aab2cd9",
       "style": "IPY_MODEL_aef6b743295f42189e95981f47848542"
      }
     },
     "7ab21dc191f244d38e02875852ce1635": {
      "model_module": "@jupyter-widgets/base",
      "model_module_version": "1.2.0",
      "model_name": "LayoutModel",
      "state": {}
     },
     "7ae3718b0ae34394a27bdb7f6b8e878f": {
      "model_module": "@jupyter-widgets/controls",
      "model_module_version": "1.5.0",
      "model_name": "SliderStyleModel",
      "state": {
       "description_width": ""
      }
     },
     "7b1a55ba2ac3453b99b92e17130c6a1e": {
      "model_module": "@jupyter-widgets/base",
      "model_module_version": "1.2.0",
      "model_name": "LayoutModel",
      "state": {}
     },
     "7b1f4521fe574a5e82c85c51dbb7d298": {
      "model_module": "pgljupyter",
      "model_module_version": "^0.1.18",
      "model_name": "FloatEditorModel",
      "state": {
       "_model_module_version": "^0.1.18",
       "_view_module_version": "^0.1.18",
       "children": [
        "IPY_MODEL_99a8e99bf57142b881b83b3908b78915",
        "IPY_MODEL_51920d8d6d7c4da288410f94a97533ff"
       ],
       "layout": "IPY_MODEL_ea2eda2ed0bb482faa1ed22e03e210b0"
      }
     },
     "7b26c458dc7d4deba33285df9fe694dc": {
      "model_module": "@jupyter-widgets/controls",
      "model_module_version": "1.5.0",
      "model_name": "HBoxModel",
      "state": {
       "children": [
        "IPY_MODEL_727da00b96284e60887f830c92663006",
        "IPY_MODEL_0c3bbdec026d428494f07dd37de034a8",
        "IPY_MODEL_2bc9612a3671413583aacf103d7434c3"
       ],
       "layout": "IPY_MODEL_f5d36d54332540779b373371ce91389e"
      }
     },
     "7b34d047a75145ef93c9d2ba934f66f1": {
      "model_module": "@jupyter-widgets/base",
      "model_module_version": "1.2.0",
      "model_name": "LayoutModel",
      "state": {}
     },
     "7b4693667f2d4338a8c79a9c6641cc55": {
      "model_module": "@jupyter-widgets/base",
      "model_module_version": "1.2.0",
      "model_name": "LayoutModel",
      "state": {}
     },
     "7b502ee9562a44e597515087db33b653": {
      "model_module": "@jupyter-widgets/controls",
      "model_module_version": "1.5.0",
      "model_name": "DropdownModel",
      "state": {
       "index": null,
       "layout": "IPY_MODEL_43a396464ca047eb82af9b0128d1a7b9",
       "style": "IPY_MODEL_fd08b70fb3e142cb98e6e66d7a86f160"
      }
     },
     "7b56ea7a659047479a11f64be222d2ea": {
      "model_module": "@jupyter-widgets/controls",
      "model_module_version": "1.5.0",
      "model_name": "FloatSliderModel",
      "state": {
       "description": "shininess",
       "layout": "IPY_MODEL_5d6b91526f5c4f069888276c86e31117",
       "max": 1,
       "step": 0.1,
       "style": "IPY_MODEL_1fac97fbb78942428b45f4a29eff0181",
       "value": 0.2
      }
     },
     "7b577b3b68b746a29a5e6e041152e745": {
      "model_module": "@jupyter-widgets/controls",
      "model_module_version": "1.5.0",
      "model_name": "SliderStyleModel",
      "state": {
       "description_width": ""
      }
     },
     "7bd0ba7ae13849c1a3991f5c1fc76a3f": {
      "model_module": "@jupyter-widgets/controls",
      "model_module_version": "1.5.0",
      "model_name": "DescriptionStyleModel",
      "state": {
       "description_width": ""
      }
     },
     "7be0e86f808844688593b2ba1a25b20d": {
      "model_module": "@jupyter-widgets/controls",
      "model_module_version": "1.5.0",
      "model_name": "DescriptionStyleModel",
      "state": {
       "description_width": ""
      }
     },
     "7c0c38291061419390dbeba93ef4ef19": {
      "model_module": "@jupyter-widgets/controls",
      "model_module_version": "1.5.0",
      "model_name": "BoundedIntTextModel",
      "state": {
       "description": "index",
       "layout": "IPY_MODEL_fef2dad388044251aeb285ace627b9c7",
       "style": "IPY_MODEL_0dd2e4883c6742ebb5b505b2aecc37c1",
       "value": 4
      }
     },
     "7c3d32abecd84c22aa8e83abca17afd6": {
      "model_module": "@jupyter-widgets/base",
      "model_module_version": "1.2.0",
      "model_name": "LayoutModel",
      "state": {
       "margin": "20px 0px"
      }
     },
     "7c495f80dfa7400dbddaade48310293e": {
      "model_module": "@jupyter-widgets/base",
      "model_module_version": "1.2.0",
      "model_name": "LayoutModel",
      "state": {}
     },
     "7c6bc321cc134eba81eea73eeb840f28": {
      "model_module": "@jupyter-widgets/base",
      "model_module_version": "1.2.0",
      "model_name": "LayoutModel",
      "state": {}
     },
     "7c7176c2637047769f684c2d030b2393": {
      "model_module": "@jupyter-widgets/controls",
      "model_module_version": "1.5.0",
      "model_name": "ButtonModel",
      "state": {
       "description": "Add",
       "layout": "IPY_MODEL_28ac8517ff6543888b7ae35a5a88a964",
       "style": "IPY_MODEL_33a25a7f6c774d99a2ad689dcc5a28a6"
      }
     },
     "7c9ff33ce6ef4aa9ac024f1cf91f4faf": {
      "model_module": "pgljupyter",
      "model_module_version": "^0.1.18",
      "model_name": "MaterialEditorModel",
      "state": {
       "_model_module_version": "^0.1.18",
       "_view_module_version": "^0.1.18",
       "children": [
        "IPY_MODEL_f600a6ae2e384964b8cef48223b138d5",
        "IPY_MODEL_de4816681729453fbf133b79ff9974ac",
        "IPY_MODEL_f4f80c8cf6b444139f0df44cf6b171cc",
        "IPY_MODEL_c3c827131f134d53a63ac1630295a9db",
        "IPY_MODEL_3b6e5ecfd1944c16b6776d9fc68b197f",
        "IPY_MODEL_c1a7e756fd674170a661ab6dcc62f7a9",
        "IPY_MODEL_85903b91b9dd494fbb3a0709f0684652",
        "IPY_MODEL_c874010bc6f24cc38736c49375396273"
       ],
       "layout": "IPY_MODEL_33370c23f7f94edbae64929f7be4a58c"
      }
     },
     "7ca3a8c138b64f70941125a4b01033f9": {
      "model_module": "@jupyter-widgets/base",
      "model_module_version": "1.2.0",
      "model_name": "LayoutModel",
      "state": {}
     },
     "7cdabb93fcbc40419bf289a63174c418": {
      "model_module": "@jupyter-widgets/controls",
      "model_module_version": "1.5.0",
      "model_name": "HBoxModel",
      "state": {
       "children": [
        "IPY_MODEL_a1906644e02d4f33ae8f642c8841461f",
        "IPY_MODEL_930ad9faa5584ea6b9760fd12a63f4ea"
       ],
       "layout": "IPY_MODEL_f2cedfd93f164c5997b034682b7dd6d1"
      }
     },
     "7cf3624548d34c2082dbac79e56a76bf": {
      "model_module": "@jupyter-widgets/controls",
      "model_module_version": "1.5.0",
      "model_name": "DescriptionStyleModel",
      "state": {
       "description_width": ""
      }
     },
     "7d00e5b6fac64279ab76b336056511c0": {
      "model_module": "pgljupyter",
      "model_module_version": "^0.1.16",
      "model_name": "MaterialEditorModel",
      "state": {
       "_model_module_version": "^0.1.16",
       "_view_module_version": "^0.1.16",
       "children": [
        "IPY_MODEL_5fe590f048484a3ba28067befd41b28a",
        "IPY_MODEL_26dd1eed428440a1bb6365baf44e75c4",
        "IPY_MODEL_6fd19ee64db44d74845df2372b542b69",
        "IPY_MODEL_280f5706c53c48bd96c1f0c3b5a82955",
        "IPY_MODEL_c11321e762b3422997689f94db4a71c8",
        "IPY_MODEL_ebe128ea294142459765d6098ca68e1a",
        "IPY_MODEL_8f0d237bd2814cfa98534d804a75bd38",
        "IPY_MODEL_2da2625474d444a4a745acca04a53c1f"
       ],
       "layout": "IPY_MODEL_b7eb7c1fbc2c4fbab9ae3ae154813316"
      }
     },
     "7d0e2b7c25dc4c5799f79fba3304581d": {
      "model_module": "@jupyter-widgets/controls",
      "model_module_version": "1.5.0",
      "model_name": "FloatSliderModel",
      "state": {
       "description": "diffuse",
       "layout": "IPY_MODEL_0f0d4a7590e043609aea67d90c471282",
       "max": 3,
       "step": 0.1,
       "style": "IPY_MODEL_ed4b23b4eff1497396c94a783926d260",
       "value": 1
      }
     },
     "7d4841eb52e849b792078e35434add1c": {
      "model_module": "@jupyter-widgets/base",
      "model_module_version": "1.2.0",
      "model_name": "LayoutModel",
      "state": {}
     },
     "7d638b1bb84145df842f1629b3b977bb": {
      "model_module": "@jupyter-widgets/base",
      "model_module_version": "1.2.0",
      "model_name": "LayoutModel",
      "state": {
       "flex_flow": "row wrap"
      }
     },
     "7d8071eaf7bf4f66bad90564ee5855bb": {
      "model_module": "pgljupyter",
      "model_module_version": "^0.1.19",
      "model_name": "IntEditorModel",
      "state": {
       "_model_module_version": "^0.1.19",
       "_view_module_version": "^0.1.19",
       "children": [
        "IPY_MODEL_ae6fd33e7b08418d94791d38e5190ea4",
        "IPY_MODEL_d3d0321f778b46a983a5df14ef76dfa1"
       ],
       "layout": "IPY_MODEL_a4778b701d8d479488af98ccfba9a85d"
      }
     },
     "7d994118bafc4c709d4e82c6555c0cdf": {
      "model_module": "@jupyter-widgets/controls",
      "model_module_version": "1.5.0",
      "model_name": "ButtonModel",
      "state": {
       "description": "Delete category",
       "layout": "IPY_MODEL_0a5f03bd97534a8ca13154d454ca0303",
       "style": "IPY_MODEL_3b3e23c52c034fbba7d416e65c71d04a"
      }
     },
     "7e4f103663654092a3b6f3f18908d2a4": {
      "model_module": "@jupyter-widgets/base",
      "model_module_version": "1.2.0",
      "model_name": "LayoutModel",
      "state": {
       "flex_flow": "row wrap",
       "margin": "20px"
      }
     },
     "7eb67cc5e07d4226b2341c889e12afdc": {
      "model_module": "pgljupyter",
      "model_module_version": "^0.1.18",
      "model_name": "FloatEditorModel",
      "state": {
       "_model_module_version": "^0.1.18",
       "_view_module_version": "^0.1.18",
       "children": [
        "IPY_MODEL_3969e43bd2ff40cd9083e491f4ee8a61",
        "IPY_MODEL_20e00e78d72c45a192c02ce598d26a33"
       ],
       "layout": "IPY_MODEL_6f100fcdb69247f5bfc0c8803ddbae68"
      }
     },
     "7ec9db9a54454f7cb858727c3b9c3b2c": {
      "model_module": "@jupyter-widgets/controls",
      "model_module_version": "1.5.0",
      "model_name": "FloatSliderModel",
      "state": {
       "description": "shininess",
       "layout": "IPY_MODEL_8fa2131f64aa4931a8055494da690356",
       "max": 1,
       "step": 0.1,
       "style": "IPY_MODEL_54d1e2ab11364b3286e48fbc06e2c9dc",
       "value": 0.2
      }
     },
     "7ee5793271fa419b8cf938c7cdd42829": {
      "model_module": "@jupyter-widgets/controls",
      "model_module_version": "1.5.0",
      "model_name": "DescriptionStyleModel",
      "state": {
       "description_width": ""
      }
     },
     "7f28069d37a34840971aedd32085c8f9": {
      "model_module": "@jupyter-widgets/controls",
      "model_module_version": "1.5.0",
      "model_name": "DropdownModel",
      "state": {
       "_options_labels": [
        "NurbsCurve2D",
        "BezierCurve2D",
        "Polyline2D",
        "Function"
       ],
       "index": 0,
       "layout": "IPY_MODEL_4f2e7e2a7b8a4fccaec815c1a8349f02",
       "style": "IPY_MODEL_0cf1ba00ad3c4151acf3b5aaf9391ece"
      }
     },
     "7f4e36825ae64c65830760a42614b069": {
      "model_module": "@jupyter-widgets/controls",
      "model_module_version": "1.5.0",
      "model_name": "IntSliderModel",
      "state": {
       "description": "value",
       "layout": "IPY_MODEL_f786377f3c8f4c4db4d47255efae9e90",
       "max": 10,
       "min": 1,
       "style": "IPY_MODEL_ffe3a14526fc4001b47eb439d2875e4a",
       "value": 2
      }
     },
     "7fa3fc5095444041b8bf59eb82ee0f1b": {
      "model_module": "@jupyter-widgets/controls",
      "model_module_version": "1.5.0",
      "model_name": "HBoxModel",
      "state": {
       "children": [
        "IPY_MODEL_da13191a83f844c595b3cff32e04df31",
        "IPY_MODEL_044e7d5484c34640988858fe96fcfdd6"
       ],
       "layout": "IPY_MODEL_57495b8ed5ac4554811c23e6cec15699"
      }
     },
     "7ff69b0f459c406da1dcf1b6b9ea1d85": {
      "model_module": "@jupyter-widgets/controls",
      "model_module_version": "1.5.0",
      "model_name": "SliderStyleModel",
      "state": {
       "description_width": ""
      }
     },
     "8012ed3ed86e4af7aa93a0d0174addd1": {
      "model_module": "@jupyter-widgets/controls",
      "model_module_version": "1.5.0",
      "model_name": "FloatSliderModel",
      "state": {
       "description": "diffuse",
       "layout": "IPY_MODEL_cb8ca0e6e0eb421686668ef1c62fece3",
       "max": 3,
       "step": 0.1,
       "style": "IPY_MODEL_dc53693171ca4e6f859008d9f7934f2e",
       "value": 1
      }
     },
     "801c820f9e6246b9b3ed03e09a503e66": {
      "model_module": "@jupyter-widgets/base",
      "model_module_version": "1.2.0",
      "model_name": "LayoutModel",
      "state": {}
     },
     "801c9757e2284ae99ecc9a5a8bffc9da": {
      "model_module": "@jupyter-widgets/controls",
      "model_module_version": "1.5.0",
      "model_name": "DescriptionStyleModel",
      "state": {
       "description_width": ""
      }
     },
     "80301650537045819e119da69d2e1eaf": {
      "model_module": "@jupyter-widgets/controls",
      "model_module_version": "1.5.0",
      "model_name": "ColorPickerModel",
      "state": {
       "description": "ambient",
       "disabled": false,
       "layout": "IPY_MODEL_0c7c19e5f2d64c77816e00b8b2cd8eea",
       "style": "IPY_MODEL_8d847dba13ab4694a1ab9e4baa5b388d",
       "value": "#0fc4db"
      }
     },
     "80486992e7b749219293ac12cc88f982": {
      "model_module": "@jupyter-widgets/controls",
      "model_module_version": "1.5.0",
      "model_name": "DescriptionStyleModel",
      "state": {
       "description_width": ""
      }
     },
     "809eaaa517c44dacbd10399efe1c86c8": {
      "model_module": "@jupyter-widgets/controls",
      "model_module_version": "1.5.0",
      "model_name": "HBoxModel",
      "state": {
       "children": [
        "IPY_MODEL_5917a07df85e4f07849b2dc44475a30a"
       ],
       "layout": "IPY_MODEL_78dff3c9b0ab4092885a4681b708b9c4"
      }
     },
     "80b56e6d76c34f719488204e0bf1de2d": {
      "model_module": "@jupyter-widgets/base",
      "model_module_version": "1.2.0",
      "model_name": "LayoutModel",
      "state": {
       "margin": "20px 0px"
      }
     },
     "80e9653aa5df4aec98e4b796abfbd551": {
      "model_module": "@jupyter-widgets/base",
      "model_module_version": "1.2.0",
      "model_name": "LayoutModel",
      "state": {}
     },
     "814dac1493d8493abe1be47f92709960": {
      "model_module": "@jupyter-widgets/base",
      "model_module_version": "1.2.0",
      "model_name": "LayoutModel",
      "state": {}
     },
     "81614fbd057b49b38cf6c260521fd79e": {
      "model_module": "@jupyter-widgets/controls",
      "model_module_version": "1.5.0",
      "model_name": "DescriptionStyleModel",
      "state": {
       "description_width": ""
      }
     },
     "81b18d0fb7524952b85175ffd2632d16": {
      "model_module": "@jupyter-widgets/base",
      "model_module_version": "1.2.0",
      "model_name": "LayoutModel",
      "state": {}
     },
     "81cddc7ae49e4648a2c274c8e34674fa": {
      "model_module": "@jupyter-widgets/controls",
      "model_module_version": "1.5.0",
      "model_name": "TextModel",
      "state": {
       "layout": "IPY_MODEL_c68f788cbf434b1b86545d771587773e",
       "placeholder": "category name",
       "style": "IPY_MODEL_f0d18c7a33314b93b6a2c556090ad031"
      }
     },
     "8249d03607ce403b941353f80011ee8b": {
      "model_module": "@jupyter-widgets/controls",
      "model_module_version": "1.5.0",
      "model_name": "DescriptionStyleModel",
      "state": {
       "description_width": ""
      }
     },
     "8278afc954514651bbf571d8a24293c1": {
      "model_module": "@jupyter-widgets/controls",
      "model_module_version": "1.5.0",
      "model_name": "DescriptionStyleModel",
      "state": {
       "description_width": ""
      }
     },
     "8283081be3d348eea1bc8c13afea1b04": {
      "model_module": "@jupyter-widgets/controls",
      "model_module_version": "1.5.0",
      "model_name": "DescriptionStyleModel",
      "state": {
       "description_width": ""
      }
     },
     "8299462a02d34ce7a919b316de08ed30": {
      "model_module": "@jupyter-widgets/base",
      "model_module_version": "1.2.0",
      "model_name": "LayoutModel",
      "state": {}
     },
     "82e2fd1b3d93436b87d96fe4772c750c": {
      "model_module": "@jupyter-widgets/base",
      "model_module_version": "1.2.0",
      "model_name": "LayoutModel",
      "state": {}
     },
     "82ee84b51f34452cb28a4d5fbd6a6bec": {
      "model_module": "@jupyter-widgets/base",
      "model_module_version": "1.2.0",
      "model_name": "LayoutModel",
      "state": {}
     },
     "8345834e21f741efb76cf84afc82297c": {
      "model_module": "@jupyter-widgets/controls",
      "model_module_version": "1.5.0",
      "model_name": "SliderStyleModel",
      "state": {
       "description_width": ""
      }
     },
     "8385988dc1324faabaa3e51b770405fa": {
      "model_module": "@jupyter-widgets/controls",
      "model_module_version": "1.5.0",
      "model_name": "ButtonStyleModel",
      "state": {}
     },
     "83a4686453db4032b8b41676af2640e3": {
      "model_module": "@jupyter-widgets/controls",
      "model_module_version": "1.5.0",
      "model_name": "DescriptionStyleModel",
      "state": {
       "description_width": ""
      }
     },
     "83a6e5298a59417faf5cae364d0e23e8": {
      "model_module": "@jupyter-widgets/controls",
      "model_module_version": "1.5.0",
      "model_name": "SliderStyleModel",
      "state": {
       "description_width": ""
      }
     },
     "83b3943961434027b9a8d49bdef39171": {
      "model_module": "pgljupyter",
      "model_module_version": "^0.1.18",
      "model_name": "MaterialEditorModel",
      "state": {
       "_model_module_version": "^0.1.18",
       "_view_module_version": "^0.1.18",
       "children": [
        "IPY_MODEL_ce0fb06d58634cb9b41ec68d1e1dc70d",
        "IPY_MODEL_b4468c2736f440b4bd4d58112d80f1f3",
        "IPY_MODEL_be34e970bcfe4196ae35d41580213f9a",
        "IPY_MODEL_a14d2f25db9a4ee09e33307c1cc7015b",
        "IPY_MODEL_fe1ca6c5f8b149d586fe37d3f4c8d5df",
        "IPY_MODEL_af3d20d491c44d098b64367717540ebe",
        "IPY_MODEL_b0587fd4b5de40ff83b94fd445197b2a",
        "IPY_MODEL_745b3376562c41a59ce78b7fb72eac55"
       ],
       "layout": "IPY_MODEL_65cb7b1023ae4f4aae41fd3b1473e716"
      }
     },
     "83cb5d93b13c4d38906e44f6111942f3": {
      "model_module": "@jupyter-widgets/controls",
      "model_module_version": "1.5.0",
      "model_name": "DescriptionStyleModel",
      "state": {
       "description_width": ""
      }
     },
     "83cf2697568b4f3fa8e2fa044d788093": {
      "model_module": "@jupyter-widgets/controls",
      "model_module_version": "1.5.0",
      "model_name": "DescriptionStyleModel",
      "state": {
       "description_width": ""
      }
     },
     "83d1112a98b24ad985e153a4de2805d3": {
      "model_module": "@jupyter-widgets/base",
      "model_module_version": "1.2.0",
      "model_name": "LayoutModel",
      "state": {}
     },
     "83eb13eb355a4ed79a83c524a5fe5344": {
      "model_module": "@jupyter-widgets/controls",
      "model_module_version": "1.5.0",
      "model_name": "SliderStyleModel",
      "state": {
       "description_width": ""
      }
     },
     "83ef4ea6f520490ea97b0fec684c68ff": {
      "model_module": "@jupyter-widgets/base",
      "model_module_version": "1.2.0",
      "model_name": "LayoutModel",
      "state": {}
     },
     "83f82817d8894598b39eea4838260197": {
      "model_module": "@jupyter-widgets/controls",
      "model_module_version": "1.5.0",
      "model_name": "ButtonModel",
      "state": {
       "description": "Add category",
       "layout": "IPY_MODEL_0c8a2a58cf5a4f328c2bf47875084bee",
       "style": "IPY_MODEL_6be8b624abb24c98af91054c27cba856"
      }
     },
     "841666774d4c43d9ae6d7eaf452a6732": {
      "model_module": "@jupyter-widgets/controls",
      "model_module_version": "1.5.0",
      "model_name": "DescriptionStyleModel",
      "state": {
       "description_width": ""
      }
     },
     "84167ac2f5b54a72a1dcecd5e7898942": {
      "model_module": "@jupyter-widgets/controls",
      "model_module_version": "1.5.0",
      "model_name": "SliderStyleModel",
      "state": {
       "description_width": ""
      }
     },
     "844d30039767419a89704c52fe806d6c": {
      "model_module": "@jupyter-widgets/base",
      "model_module_version": "1.2.0",
      "model_name": "LayoutModel",
      "state": {}
     },
     "846dacb512d34d31960acd0764831033": {
      "model_module": "@jupyter-widgets/controls",
      "model_module_version": "1.5.0",
      "model_name": "DescriptionStyleModel",
      "state": {
       "description_width": ""
      }
     },
     "84c796b6ce3746e1aafccca2c6759aac": {
      "model_module": "@jupyter-widgets/base",
      "model_module_version": "1.2.0",
      "model_name": "LayoutModel",
      "state": {}
     },
     "8509fa5265184f5db62a735f298cb753": {
      "model_module": "@jupyter-widgets/controls",
      "model_module_version": "1.5.0",
      "model_name": "HBoxModel",
      "state": {
       "children": [
        "IPY_MODEL_13011f0d15864a1ba3f2543ade23483a",
        "IPY_MODEL_5c0d7f4b7f914f719c8266137f7d0017"
       ],
       "layout": "IPY_MODEL_4d61064357674c97bb169c5602e69545"
      }
     },
     "850aea0efb99435baa77c0a116afa497": {
      "model_module": "@jupyter-widgets/controls",
      "model_module_version": "1.5.0",
      "model_name": "FloatSliderModel",
      "state": {
       "description": "transparency",
       "layout": "IPY_MODEL_498f774db8944cf9acb68dfb080f9434",
       "max": 1,
       "step": 0.1,
       "style": "IPY_MODEL_83a6e5298a59417faf5cae364d0e23e8"
      }
     },
     "8537d8915e4e42dbaa546751f3ccd759": {
      "model_module": "@jupyter-widgets/controls",
      "model_module_version": "1.5.0",
      "model_name": "DescriptionStyleModel",
      "state": {
       "description_width": ""
      }
     },
     "855e56574bc4405fb85a9d92a7326cfa": {
      "model_module": "@jupyter-widgets/controls",
      "model_module_version": "1.5.0",
      "model_name": "AccordionModel",
      "state": {
       "_titles": {
        "0": "materials",
        "1": "leaf",
        "2": "trunk & branches"
       },
       "children": [
        "IPY_MODEL_390ec84636c54a9186e42f79fc5c39a9",
        "IPY_MODEL_b97cf4f067b743d2b430bd97bc89e312",
        "IPY_MODEL_200e396776fd4859b251083ea338dbc3"
       ],
       "layout": "IPY_MODEL_92745359b08f4ccb920907d11ee886b9"
      }
     },
     "856cb4dc10fd40959afd4f2ed68f4da6": {
      "model_module": "@jupyter-widgets/base",
      "model_module_version": "1.2.0",
      "model_name": "LayoutModel",
      "state": {}
     },
     "858855a4ca644ef8a5a68f4bd31e1d6b": {
      "model_module": "@jupyter-widgets/base",
      "model_module_version": "1.2.0",
      "model_name": "LayoutModel",
      "state": {}
     },
     "858878c7e61544b790ca64ba3754be3a": {
      "model_module": "@jupyter-widgets/base",
      "model_module_version": "1.2.0",
      "model_name": "LayoutModel",
      "state": {}
     },
     "85903b91b9dd494fbb3a0709f0684652": {
      "model_module": "@jupyter-widgets/controls",
      "model_module_version": "1.5.0",
      "model_name": "FloatSliderModel",
      "state": {
       "description": "transparency",
       "layout": "IPY_MODEL_9b789e08ff1c46f1bb9f707c180a4903",
       "max": 1,
       "step": 0.1,
       "style": "IPY_MODEL_9e28d980a69940b8887b30e5d2ab7eba"
      }
     },
     "85fb0b1c46a34071837318e83df4549c": {
      "model_module": "@jupyter-widgets/base",
      "model_module_version": "1.2.0",
      "model_name": "LayoutModel",
      "state": {
       "margin": "20px 0px"
      }
     },
     "862e6be63a4c4ec7a41e281d8b696e8d": {
      "model_module": "@jupyter-widgets/controls",
      "model_module_version": "1.5.0",
      "model_name": "ButtonModel",
      "state": {
       "description": "Delete",
       "layout": "IPY_MODEL_47a676e89113488bb3cee21941e5aba5",
       "style": "IPY_MODEL_262f578dc1b641d1a439f9d7bdb2b833"
      }
     },
     "86875997079c4f0caf76384b93b1c407": {
      "model_module": "@jupyter-widgets/controls",
      "model_module_version": "1.5.0",
      "model_name": "DescriptionStyleModel",
      "state": {
       "description_width": ""
      }
     },
     "8688606d2e9e400dbdbdb02bf5459c6a": {
      "model_module": "@jupyter-widgets/base",
      "model_module_version": "1.2.0",
      "model_name": "LayoutModel",
      "state": {}
     },
     "86ad7647a23949bbb9260384e6040155": {
      "model_module": "@jupyter-widgets/controls",
      "model_module_version": "1.5.0",
      "model_name": "HBoxModel",
      "state": {
       "children": [
        "IPY_MODEL_98b3dcd8990146f594f7c54e237135e5",
        "IPY_MODEL_e070c2aed84b414abe7cc619e00e66a3",
        "IPY_MODEL_7d8071eaf7bf4f66bad90564ee5855bb"
       ],
       "layout": "IPY_MODEL_6f5e6f5355bd440d8af5ee837dac75a9"
      }
     },
     "86b075a727d1420b8b8e02e04c401dbf": {
      "model_module": "@jupyter-widgets/controls",
      "model_module_version": "1.5.0",
      "model_name": "SliderStyleModel",
      "state": {
       "description_width": ""
      }
     },
     "86bbd8bd12314be19909ccb111382a66": {
      "model_module": "@jupyter-widgets/base",
      "model_module_version": "1.2.0",
      "model_name": "LayoutModel",
      "state": {}
     },
     "86e5d6226409410ea3e7aff87df7c57d": {
      "model_module": "@jupyter-widgets/controls",
      "model_module_version": "1.5.0",
      "model_name": "ColorPickerModel",
      "state": {
       "description": "specular",
       "disabled": false,
       "layout": "IPY_MODEL_ab0f9f99791b40059d4d3534b8def2a1",
       "style": "IPY_MODEL_26b6ef9844df45fa90eceb06b5d3540f",
       "value": "#282828"
      }
     },
     "8760bd037eeb40d88f785a795b4cfa32": {
      "model_module": "@jupyter-widgets/controls",
      "model_module_version": "1.5.0",
      "model_name": "ButtonModel",
      "state": {
       "description": "Apply changes",
       "layout": "IPY_MODEL_9263d72547104120b8476c3b55758aeb",
       "style": "IPY_MODEL_e34f318fa38c48f0a73bd526ad11af14"
      }
     },
     "87914f94bb81462d992aeaaef5f740be": {
      "model_module": "pgljupyter",
      "model_module_version": "^0.1.17",
      "model_name": "MaterialEditorModel",
      "state": {
       "_model_module_version": "^0.1.17",
       "_view_module_version": "^0.1.17",
       "children": [
        "IPY_MODEL_2f2a18791e474473882476c2b545f886",
        "IPY_MODEL_613b92ffca5244b6a9fe92b6eac0bfb3",
        "IPY_MODEL_62b5bc6403144408b19fd4a789c19c72",
        "IPY_MODEL_d2f53457da264365a8ca7a5c85a6b381",
        "IPY_MODEL_29f083c6202b4e71911388db0eb926e4",
        "IPY_MODEL_fe6fc9b954504ac48e9ea7a8339c409b",
        "IPY_MODEL_c86dfb91c7754e40aff8205f0595f499"
       ],
       "layout": "IPY_MODEL_761fbbca71f145a5969c4290b8309933"
      }
     },
     "8796df0ffb5a4d59acfa5e829c472f45": {
      "model_module": "@jupyter-widgets/controls",
      "model_module_version": "1.5.0",
      "model_name": "ColorPickerModel",
      "state": {
       "description": "specular",
       "disabled": false,
       "layout": "IPY_MODEL_b2bf5842fee641abb921c9ea89fc6361",
       "style": "IPY_MODEL_e82e92b531174bbab4c8ec367cfabcd1",
       "value": "#282828"
      }
     },
     "885caec9d1dd43c096b9a173555e99ba": {
      "model_module": "@jupyter-widgets/controls",
      "model_module_version": "1.5.0",
      "model_name": "HBoxModel",
      "state": {
       "children": [
        "IPY_MODEL_8509fa5265184f5db62a735f298cb753",
        "IPY_MODEL_42c627ff3d74409cbca15e800caf7190"
       ],
       "layout": "IPY_MODEL_4d77f69f74244057baec36b232f87f78"
      }
     },
     "885d034f6340467e9f3d03862ecdc212": {
      "model_module": "@jupyter-widgets/controls",
      "model_module_version": "1.5.0",
      "model_name": "DescriptionStyleModel",
      "state": {
       "description_width": ""
      }
     },
     "88a10cf316df4647bd53d535728a4d82": {
      "model_module": "@jupyter-widgets/base",
      "model_module_version": "1.2.0",
      "model_name": "LayoutModel",
      "state": {}
     },
     "88b25b3d6bed47aabbf857ba0829ae88": {
      "model_module": "pgljupyter",
      "model_module_version": "^0.1.17",
      "model_name": "MaterialEditorModel",
      "state": {
       "_model_module_version": "^0.1.17",
       "_view_module_version": "^0.1.17",
       "children": [
        "IPY_MODEL_743b4d10e04e429daa73128e21f65475",
        "IPY_MODEL_1ea7dc68a20e4fa3ae2f532556b651d0",
        "IPY_MODEL_30473609ffbf4e1781ef3e743132ea77",
        "IPY_MODEL_446d0c4274894c3b975472f4d7fb6e63",
        "IPY_MODEL_8012ed3ed86e4af7aa93a0d0174addd1",
        "IPY_MODEL_d10a3a68a0474f01aa5b6d5cfdb8ebe8",
        "IPY_MODEL_536987696dc742f1b1bc51ca8d040a1d"
       ],
       "layout": "IPY_MODEL_4f04e84e06f04f2187ac0562bd5d7982"
      }
     },
     "88f3d087a0de45da8bfd2c33963d9fb3": {
      "model_module": "@jupyter-widgets/controls",
      "model_module_version": "1.5.0",
      "model_name": "SliderStyleModel",
      "state": {
       "description_width": ""
      }
     },
     "88f44b81f9624f8db9eb6600e3fb96e4": {
      "model_module": "@jupyter-widgets/controls",
      "model_module_version": "1.5.0",
      "model_name": "ButtonModel",
      "state": {
       "description": "Delete category",
       "layout": "IPY_MODEL_8d73e5bd9d02455d95cfcec70fbbd004",
       "style": "IPY_MODEL_0fa6ede50ab0406a9807f2c9a03af12c"
      }
     },
     "8929ac5c489944b49d22387a7dca08f4": {
      "model_module": "@jupyter-widgets/base",
      "model_module_version": "1.2.0",
      "model_name": "LayoutModel",
      "state": {}
     },
     "893cf04f7b474264b2019b1d9ef10da0": {
      "model_module": "@jupyter-widgets/controls",
      "model_module_version": "1.5.0",
      "model_name": "ButtonModel",
      "state": {
       "description": "Delete category",
       "layout": "IPY_MODEL_1d2c3e8ff93a461893bd0cf380e5598b",
       "style": "IPY_MODEL_bf1fdb5bb36e4e1a926148fdc953e325"
      }
     },
     "8941e806cfbc4ef79a7ebe1a33c9c387": {
      "model_module": "@jupyter-widgets/controls",
      "model_module_version": "1.5.0",
      "model_name": "BoundedIntTextModel",
      "state": {
       "description": "index",
       "layout": "IPY_MODEL_04bf48cf21fd4ef3b2fc2c87f891da0a",
       "style": "IPY_MODEL_65e9c69006e0410082732dcb581d48b9",
       "value": 2
      }
     },
     "896ad6ec098a405a80ae6f82cca58a0c": {
      "model_module": "@jupyter-widgets/base",
      "model_module_version": "1.2.0",
      "model_name": "LayoutModel",
      "state": {}
     },
     "896cb2a6eee44f0099cfa8dd5b2da22f": {
      "model_module": "@jupyter-widgets/controls",
      "model_module_version": "1.5.0",
      "model_name": "TextModel",
      "state": {
       "continuous_update": false,
       "description": "name",
       "layout": "IPY_MODEL_5f766dc4cb8647509fa135a5358aaab0",
       "style": "IPY_MODEL_c4ed48b837534de7b3ebc8b317ef0a11",
       "value": "color_1"
      }
     },
     "89a945aee0754e80a2eee46f61496ba5": {
      "model_module": "@jupyter-widgets/controls",
      "model_module_version": "1.5.0",
      "model_name": "FloatSliderModel",
      "state": {
       "description": "transparency",
       "layout": "IPY_MODEL_539f9d1af9924f4db2438bbbeeb51b54",
       "max": 1,
       "step": 0.1,
       "style": "IPY_MODEL_6ec1cbd07a644f899b126df86b0690ab"
      }
     },
     "89abd2f5d7a24df6bcce9045e015f6b6": {
      "model_module": "@jupyter-widgets/controls",
      "model_module_version": "1.5.0",
      "model_name": "DescriptionStyleModel",
      "state": {
       "description_width": ""
      }
     },
     "89e834b8c10e40a390db5fd0665c3d45": {
      "model_module": "@jupyter-widgets/base",
      "model_module_version": "1.2.0",
      "model_name": "LayoutModel",
      "state": {}
     },
     "8a5b39fddbde4ba3bee746d6c937b664": {
      "model_module": "@jupyter-widgets/controls",
      "model_module_version": "1.5.0",
      "model_name": "TextModel",
      "state": {
       "continuous_update": false,
       "description": "name",
       "layout": "IPY_MODEL_0ec5645a3bf34b6a84616a6784979782",
       "style": "IPY_MODEL_c190a593c1ed4ea199fb8b572fe94562",
       "value": "color_3"
      }
     },
     "8aae296581c643e2a94a84c43a578fda": {
      "model_module": "@jupyter-widgets/base",
      "model_module_version": "1.2.0",
      "model_name": "LayoutModel",
      "state": {}
     },
     "8ab5ba176a154599b445e9556a8031de": {
      "model_module": "@jupyter-widgets/base",
      "model_module_version": "1.2.0",
      "model_name": "LayoutModel",
      "state": {
       "margin": "20px 0px"
      }
     },
     "8ade179874b44ec4a7a9a96454510c3e": {
      "model_module": "@jupyter-widgets/base",
      "model_module_version": "1.2.0",
      "model_name": "LayoutModel",
      "state": {}
     },
     "8b24ac74c0944cd48267de6d5fe2be88": {
      "model_module": "@jupyter-widgets/base",
      "model_module_version": "1.2.0",
      "model_name": "LayoutModel",
      "state": {}
     },
     "8b39ce9f414948e2acb5c8cfdcf3d6a8": {
      "model_module": "@jupyter-widgets/controls",
      "model_module_version": "1.5.0",
      "model_name": "DropdownModel",
      "state": {
       "_options_labels": [
        "Integer",
        "Float",
        "Bool"
       ],
       "index": 0,
       "layout": "IPY_MODEL_bcb7465a37394dbabd8f197ae65f2662",
       "style": "IPY_MODEL_8537d8915e4e42dbaa546751f3ccd759"
      }
     },
     "8b43f3f764b3434fbc0675fd7f1f079d": {
      "model_module": "@jupyter-widgets/base",
      "model_module_version": "1.2.0",
      "model_name": "LayoutModel",
      "state": {}
     },
     "8b50cab205524c5684de777fe16b12c6": {
      "model_module": "@jupyter-widgets/controls",
      "model_module_version": "1.5.0",
      "model_name": "DescriptionStyleModel",
      "state": {
       "description_width": ""
      }
     },
     "8b961dc464fe4120b95633845d5c9860": {
      "model_module": "@jupyter-widgets/base",
      "model_module_version": "1.2.0",
      "model_name": "LayoutModel",
      "state": {
       "margin": "20px 0px"
      }
     },
     "8b9d8ab9579d479587514dba40ca7bcd": {
      "model_module": "@jupyter-widgets/base",
      "model_module_version": "1.2.0",
      "model_name": "LayoutModel",
      "state": {}
     },
     "8bbd3656628c4c6e8afd4b8861674066": {
      "model_module": "@jupyter-widgets/controls",
      "model_module_version": "1.5.0",
      "model_name": "ButtonStyleModel",
      "state": {}
     },
     "8bd7cf6dc07d437190fbda31a59b43c4": {
      "model_module": "@jupyter-widgets/base",
      "model_module_version": "1.2.0",
      "model_name": "LayoutModel",
      "state": {}
     },
     "8be95b6e2c4341088b47d9a41a5e1916": {
      "model_module": "@jupyter-widgets/controls",
      "model_module_version": "1.5.0",
      "model_name": "VBoxModel",
      "state": {
       "children": [
        "IPY_MODEL_49c13f7f61b74fdeb6c2e02c3d02da5a",
        "IPY_MODEL_939594c53ae64a0e89243eda3899ab0b"
       ],
       "layout": "IPY_MODEL_a547bbd798964d08896ad103a8c35c97"
      }
     },
     "8c00dd94f504489eb79f75cdf4d9b736": {
      "model_module": "@jupyter-widgets/base",
      "model_module_version": "1.2.0",
      "model_name": "LayoutModel",
      "state": {}
     },
     "8c34ccd1ce0c4bdea50769e26de587f7": {
      "model_module": "@jupyter-widgets/controls",
      "model_module_version": "1.5.0",
      "model_name": "HBoxModel",
      "state": {
       "children": [
        "IPY_MODEL_641c05b7ca444b45815f98e53b6c6ac7",
        "IPY_MODEL_9ca461330d2145f89ba7e4575a975a1e"
       ],
       "layout": "IPY_MODEL_e7d2527d8a7e4fe289643a418f22fbe9"
      }
     },
     "8c69ffac5b3b44b286de8bc58ff44b45": {
      "model_module": "@jupyter-widgets/controls",
      "model_module_version": "1.5.0",
      "model_name": "FloatSliderModel",
      "state": {
       "description": "shininess",
       "layout": "IPY_MODEL_09f0b20c3d9a4a7b8d6f767b7e7153d6",
       "max": 1,
       "step": 0.1,
       "style": "IPY_MODEL_2d5a147118f043b0bedacc46a82c83fb",
       "value": 0.2
      }
     },
     "8c8cef7c9f7e4f1e84b0cd4319df23e7": {
      "model_module": "@jupyter-widgets/base",
      "model_module_version": "1.2.0",
      "model_name": "LayoutModel",
      "state": {}
     },
     "8cbb1af1d0af4ff9bb22fce6efa5827f": {
      "model_module": "@jupyter-widgets/base",
      "model_module_version": "1.2.0",
      "model_name": "LayoutModel",
      "state": {}
     },
     "8cca7f8fad02405fb87c0732c5a43356": {
      "model_module": "@jupyter-widgets/base",
      "model_module_version": "1.2.0",
      "model_name": "LayoutModel",
      "state": {}
     },
     "8d56c586bca3464d8c5cb36ae761ba46": {
      "model_module": "@jupyter-widgets/base",
      "model_module_version": "1.2.0",
      "model_name": "LayoutModel",
      "state": {
       "flex_flow": "row wrap",
       "margin": "20px"
      }
     },
     "8d73e5bd9d02455d95cfcec70fbbd004": {
      "model_module": "@jupyter-widgets/base",
      "model_module_version": "1.2.0",
      "model_name": "LayoutModel",
      "state": {}
     },
     "8d847dba13ab4694a1ab9e4baa5b388d": {
      "model_module": "@jupyter-widgets/controls",
      "model_module_version": "1.5.0",
      "model_name": "DescriptionStyleModel",
      "state": {
       "description_width": ""
      }
     },
     "8df2887e514042d1ac28d987a7d3f39d": {
      "model_module": "@jupyter-widgets/base",
      "model_module_version": "1.2.0",
      "model_name": "LayoutModel",
      "state": {}
     },
     "8e07259218964759aa0e3756812d03d4": {
      "model_module": "pgljupyter",
      "model_module_version": "^0.1.16",
      "model_name": "IntEditorModel",
      "state": {
       "_model_module_version": "^0.1.16",
       "_view_module_version": "^0.1.16",
       "children": [
        "IPY_MODEL_0003eef9dd3941f89ac65b920608e8dc",
        "IPY_MODEL_d734a536300949189433eec18ebe49d5",
        "IPY_MODEL_ea9d8d6b50034a3a9fb9e57b9e304732",
        "IPY_MODEL_ecd0c12b3b9e479fb4a4bdfdcb2c2842",
        "IPY_MODEL_715606022a044632ac89eb213623d18a"
       ],
       "layout": "IPY_MODEL_41689189f03a44738c5a6d8d77d673f0"
      }
     },
     "8e22cddd14fe4b4bae63e877798b91cf": {
      "model_module": "@jupyter-widgets/controls",
      "model_module_version": "1.5.0",
      "model_name": "TextModel",
      "state": {
       "continuous_update": false,
       "description": "name",
       "layout": "IPY_MODEL_e0b3bfd022cf45e4a94fa38c5088e074",
       "style": "IPY_MODEL_aa87d9baf2e54afbbf8a7787e01bc39c",
       "value": "color_3"
      }
     },
     "8e4723856ef545059ac8d8e784b37a8e": {
      "model_module": "@jupyter-widgets/base",
      "model_module_version": "1.2.0",
      "model_name": "LayoutModel",
      "state": {}
     },
     "8e59f23a67514549b0b971a20c8f5644": {
      "model_module": "@jupyter-widgets/controls",
      "model_module_version": "1.5.0",
      "model_name": "IntSliderModel",
      "state": {
       "description": "value",
       "layout": "IPY_MODEL_66cfa3a226224323bc89e5cd0184f515",
       "max": 10,
       "min": 1,
       "style": "IPY_MODEL_67f4e04d08034151b0a50c7edf65de73",
       "value": 3
      }
     },
     "8e6019a49d114761a746e659cc1c48f2": {
      "model_module": "@jupyter-widgets/controls",
      "model_module_version": "1.5.0",
      "model_name": "TextModel",
      "state": {
       "continuous_update": false,
       "description": "name",
       "layout": "IPY_MODEL_7740beb2c49f45218e9e7fa1fe1a8432",
       "style": "IPY_MODEL_fc7845240a5a42389a89509a28eb34dd",
       "value": "nb_axes"
      }
     },
     "8e7f32c1ba3149af89ee115dcce7233a": {
      "model_module": "@jupyter-widgets/controls",
      "model_module_version": "1.5.0",
      "model_name": "VBoxModel",
      "state": {
       "children": [
        "IPY_MODEL_809eaaa517c44dacbd10399efe1c86c8",
        "IPY_MODEL_77bb0a66c7374c4d92144e5900b028a0",
        "IPY_MODEL_15c2dd748e27429b8b7bf9eec53d186c",
        "IPY_MODEL_286459ac772e4d45a1cdf2d3de2f2641",
        "IPY_MODEL_1bd27105bfe744bdbb177dc19d1cf75d"
       ],
       "layout": "IPY_MODEL_78f64a9316a54addbb907fdb74325de3"
      }
     },
     "8ea211ca5b9b4eeba00a371c1b423cca": {
      "model_module": "@jupyter-widgets/controls",
      "model_module_version": "1.5.0",
      "model_name": "ColorPickerModel",
      "state": {
       "description": "specular",
       "disabled": false,
       "layout": "IPY_MODEL_d5cd4fb599cb46fc948cd99e2e1b54e4",
       "style": "IPY_MODEL_42f6a0ce6998407886d1d89c57494c7e",
       "value": "#282828"
      }
     },
     "8eb293d9f1ca49e4a0d8a5d438b925e5": {
      "model_module": "@jupyter-widgets/controls",
      "model_module_version": "1.5.0",
      "model_name": "DescriptionStyleModel",
      "state": {
       "description_width": ""
      }
     },
     "8ebbdf1fb8e54a828e60d7ac7f9605d3": {
      "model_module": "@jupyter-widgets/base",
      "model_module_version": "1.2.0",
      "model_name": "LayoutModel",
      "state": {}
     },
     "8ed6d95dd9ef49ee8cf874817418fc76": {
      "model_module": "@jupyter-widgets/base",
      "model_module_version": "1.2.0",
      "model_name": "LayoutModel",
      "state": {}
     },
     "8f003cdb574545128b2ee385bb6fff88": {
      "model_module": "@jupyter-widgets/base",
      "model_module_version": "1.2.0",
      "model_name": "LayoutModel",
      "state": {}
     },
     "8f06c2ae91ad40a682161b87d6e730b4": {
      "model_module": "@jupyter-widgets/controls",
      "model_module_version": "1.5.0",
      "model_name": "ButtonStyleModel",
      "state": {}
     },
     "8f0d237bd2814cfa98534d804a75bd38": {
      "model_module": "@jupyter-widgets/controls",
      "model_module_version": "1.5.0",
      "model_name": "FloatSliderModel",
      "state": {
       "description": "transparency",
       "layout": "IPY_MODEL_6f0a69f339134e55b948c90d45650703",
       "max": 1,
       "step": 0.1,
       "style": "IPY_MODEL_7b577b3b68b746a29a5e6e041152e745"
      }
     },
     "8f4c0103e27f4574ba684259337a9d96": {
      "model_module": "@jupyter-widgets/controls",
      "model_module_version": "1.5.0",
      "model_name": "HBoxModel",
      "state": {
       "children": [
        "IPY_MODEL_417e8e140cdf4466b6d508d357de4584",
        "IPY_MODEL_9925cbd3ea0647db80ef2a633272125b"
       ],
       "layout": "IPY_MODEL_431315f0bf144d2fa04d6ffc24c515f9"
      }
     },
     "8f51043f8eec495db2aa437cf47dd5d0": {
      "model_module": "@jupyter-widgets/controls",
      "model_module_version": "1.5.0",
      "model_name": "DescriptionStyleModel",
      "state": {
       "description_width": ""
      }
     },
     "8f5d620157024ed59ea59efe6b680541": {
      "model_module": "@jupyter-widgets/base",
      "model_module_version": "1.2.0",
      "model_name": "LayoutModel",
      "state": {}
     },
     "8f87f71addf8423b8fb30f7dbf62cc02": {
      "model_module": "@jupyter-widgets/controls",
      "model_module_version": "1.5.0",
      "model_name": "DescriptionStyleModel",
      "state": {
       "description_width": ""
      }
     },
     "8fa2131f64aa4931a8055494da690356": {
      "model_module": "@jupyter-widgets/base",
      "model_module_version": "1.2.0",
      "model_name": "LayoutModel",
      "state": {}
     },
     "902e29cc535749e796ee3a937c3dfd21": {
      "model_module": "@jupyter-widgets/controls",
      "model_module_version": "1.5.0",
      "model_name": "TextModel",
      "state": {
       "continuous_update": false,
       "description": "name",
       "layout": "IPY_MODEL_59b6d90878cc4434b2cd7ffe61e22f6b",
       "style": "IPY_MODEL_5cb0a8f02ad04b5f9796ec72a576b675",
       "value": "nb_axes"
      }
     },
     "906dd31da0b74225aefcd7029f7939cc": {
      "model_module": "@jupyter-widgets/controls",
      "model_module_version": "1.5.0",
      "model_name": "DescriptionStyleModel",
      "state": {
       "description_width": ""
      }
     },
     "907af94c6c2443389979483218e080ca": {
      "model_module": "@jupyter-widgets/controls",
      "model_module_version": "1.5.0",
      "model_name": "ButtonStyleModel",
      "state": {}
     },
     "908f4ca4949b494db14fc5156aab2cd9": {
      "model_module": "@jupyter-widgets/base",
      "model_module_version": "1.2.0",
      "model_name": "LayoutModel",
      "state": {}
     },
     "90b38a086b7a4c3dacb0a705e9da7c93": {
      "model_module": "@jupyter-widgets/base",
      "model_module_version": "1.2.0",
      "model_name": "LayoutModel",
      "state": {}
     },
     "90f3796014fb441682830e036d391913": {
      "model_module": "@jupyter-widgets/controls",
      "model_module_version": "1.5.0",
      "model_name": "DescriptionStyleModel",
      "state": {
       "description_width": ""
      }
     },
     "90f65d5e0f7d4ba297b91d7381a9b694": {
      "model_module": "@jupyter-widgets/controls",
      "model_module_version": "1.5.0",
      "model_name": "SliderStyleModel",
      "state": {
       "description_width": ""
      }
     },
     "916e7d074de94e13a2e0ee223e0b2d15": {
      "model_module": "@jupyter-widgets/controls",
      "model_module_version": "1.5.0",
      "model_name": "ColorPickerModel",
      "state": {
       "description": "ambient",
       "disabled": false,
       "layout": "IPY_MODEL_977fea6ecad74993b1e7f4b53f05bd3d",
       "style": "IPY_MODEL_4bfa6e2f73c74bffa75861116f13ec31",
       "value": "#0fc4db"
      }
     },
     "91ac8e1f9a054b498098ec7954dfe608": {
      "model_module": "@jupyter-widgets/base",
      "model_module_version": "1.2.0",
      "model_name": "LayoutModel",
      "state": {}
     },
     "9205b342fe2d42118f3ab706062aa484": {
      "model_module": "@jupyter-widgets/base",
      "model_module_version": "1.2.0",
      "model_name": "LayoutModel",
      "state": {}
     },
     "9242e4b52d1c46328eae0b31e19984e1": {
      "model_module": "@jupyter-widgets/base",
      "model_module_version": "1.2.0",
      "model_name": "LayoutModel",
      "state": {}
     },
     "92616f968bf649ad919cbb41d7425b65": {
      "model_module": "@jupyter-widgets/base",
      "model_module_version": "1.2.0",
      "model_name": "LayoutModel",
      "state": {}
     },
     "9263d72547104120b8476c3b55758aeb": {
      "model_module": "@jupyter-widgets/base",
      "model_module_version": "1.2.0",
      "model_name": "LayoutModel",
      "state": {}
     },
     "926c57076840440cba5b8c4fd41d9d43": {
      "model_module": "@jupyter-widgets/base",
      "model_module_version": "1.2.0",
      "model_name": "LayoutModel",
      "state": {}
     },
     "92745359b08f4ccb920907d11ee886b9": {
      "model_module": "@jupyter-widgets/base",
      "model_module_version": "1.2.0",
      "model_name": "LayoutModel",
      "state": {}
     },
     "92978dae10c04f879b6b666ba80d5835": {
      "model_module": "@jupyter-widgets/base",
      "model_module_version": "1.2.0",
      "model_name": "LayoutModel",
      "state": {
       "margin": "20px 0px"
      }
     },
     "92d4898f94824292b0826fcacbbe587f": {
      "model_module": "@jupyter-widgets/controls",
      "model_module_version": "1.5.0",
      "model_name": "ColorPickerModel",
      "state": {
       "description": "specular",
       "disabled": false,
       "layout": "IPY_MODEL_b018f27f56ef47b8b8c77c757b918855",
       "style": "IPY_MODEL_bac8604d77704199a0f58325e3b25b59",
       "value": "#282828"
      }
     },
     "930ad9faa5584ea6b9760fd12a63f4ea": {
      "model_module": "@jupyter-widgets/controls",
      "model_module_version": "1.5.0",
      "model_name": "DropdownModel",
      "state": {
       "_options_labels": [
        "Color"
       ],
       "index": 0,
       "layout": "IPY_MODEL_59b8490222d449ec873f6dd426630d90",
       "style": "IPY_MODEL_0366a0590c4e4687a64fd5d1d1a58442"
      }
     },
     "9323e0d993094b5598ad0290264509ac": {
      "model_module": "@jupyter-widgets/base",
      "model_module_version": "1.2.0",
      "model_name": "LayoutModel",
      "state": {}
     },
     "932905fe953a416bb495d9f6c2ffa4fe": {
      "model_module": "@jupyter-widgets/base",
      "model_module_version": "1.2.0",
      "model_name": "LayoutModel",
      "state": {}
     },
     "9334138484854b40a86080f1b61c3cbf": {
      "model_module": "@jupyter-widgets/controls",
      "model_module_version": "1.5.0",
      "model_name": "ButtonModel",
      "state": {
       "description": "Add",
       "layout": "IPY_MODEL_47c4dd25604a48a1b5557177fd515750",
       "style": "IPY_MODEL_28501e07ca81424ba924d3f88696843a"
      }
     },
     "939594c53ae64a0e89243eda3899ab0b": {
      "model_module": "@jupyter-widgets/controls",
      "model_module_version": "1.5.0",
      "model_name": "TabModel",
      "state": {
       "_titles": {
        "0": "leuwenberg.json"
       },
       "children": [
        "IPY_MODEL_5c7ea0ef330d498b91b01ff20701afc6"
       ],
       "layout": "IPY_MODEL_40d3cad94876411eb2c2b28bed44d044"
      }
     },
     "93a5e2d0c70d421d81cf898af8d464df": {
      "model_module": "@jupyter-widgets/controls",
      "model_module_version": "1.5.0",
      "model_name": "DescriptionStyleModel",
      "state": {
       "description_width": ""
      }
     },
     "93b7d193d72342788a68a1d372519ba3": {
      "model_module": "@jupyter-widgets/base",
      "model_module_version": "1.2.0",
      "model_name": "LayoutModel",
      "state": {}
     },
     "93d66b3b8d5148e096acb7c3b08dcb94": {
      "model_module": "@jupyter-widgets/controls",
      "model_module_version": "1.5.0",
      "model_name": "HBoxModel",
      "state": {
       "children": [
        "IPY_MODEL_0c3945d18ad84ce68b356bc7fec1acc8",
        "IPY_MODEL_d5451f4d3ae8401ab534c5136e99f785"
       ],
       "layout": "IPY_MODEL_801c820f9e6246b9b3ed03e09a503e66"
      }
     },
     "93e9e1a13f404740b06bcbb3b04fbbe8": {
      "model_module": "@jupyter-widgets/controls",
      "model_module_version": "1.5.0",
      "model_name": "VBoxModel",
      "state": {
       "children": [
        "IPY_MODEL_1624262f28254a519733973a8caf8b9e",
        "IPY_MODEL_767069b5239041d1a94bed85e955db0b",
        "IPY_MODEL_6322774f3a5e4d0cad43bc9ac0f77d3f",
        "IPY_MODEL_f834a6370cbe4f55b43168d73475ea6e",
        "IPY_MODEL_74bb39c50046421c8cf174ea8b853142"
       ],
       "layout": "IPY_MODEL_39b48239860647a19accd22046ec23a9"
      }
     },
     "9424c3010f3348a9bc112e2fabf01dd9": {
      "model_module": "@jupyter-widgets/base",
      "model_module_version": "1.2.0",
      "model_name": "LayoutModel",
      "state": {}
     },
     "9425b43dcbad4491bb621b1c588f23a2": {
      "model_module": "@jupyter-widgets/controls",
      "model_module_version": "1.5.0",
      "model_name": "DescriptionStyleModel",
      "state": {
       "description_width": ""
      }
     },
     "94cfe289c61c4e35b29a1d6056c480fc": {
      "model_module": "@jupyter-widgets/base",
      "model_module_version": "1.2.0",
      "model_name": "LayoutModel",
      "state": {}
     },
     "94dd3b9fa9fc40afbb444d490ee4bac3": {
      "model_module": "@jupyter-widgets/controls",
      "model_module_version": "1.5.0",
      "model_name": "SliderStyleModel",
      "state": {
       "description_width": ""
      }
     },
     "94fe467575e84f10afa968e472e6294b": {
      "model_module": "@jupyter-widgets/controls",
      "model_module_version": "1.5.0",
      "model_name": "SliderStyleModel",
      "state": {
       "description_width": ""
      }
     },
     "953ba707a655461f95ad063f5a6f574b": {
      "model_module": "@jupyter-widgets/base",
      "model_module_version": "1.2.0",
      "model_name": "LayoutModel",
      "state": {}
     },
     "9543ce5168bb44ca89a3b02cbe5bca8f": {
      "model_module": "@jupyter-widgets/base",
      "model_module_version": "1.2.0",
      "model_name": "LayoutModel",
      "state": {}
     },
     "95e1beb5a96b4e808db8fc25b38b38b1": {
      "model_module": "@jupyter-widgets/controls",
      "model_module_version": "1.5.0",
      "model_name": "DropdownModel",
      "state": {
       "_options_labels": [
        "Integer",
        "Float",
        "Bool"
       ],
       "index": 0,
       "layout": "IPY_MODEL_6b9b12000c3449fd833f068eef7fefa7",
       "style": "IPY_MODEL_76ebe3b2efb042b0b745b891af6193b3"
      }
     },
     "963604a85f104c0ea8afa21693108092": {
      "model_module": "@jupyter-widgets/controls",
      "model_module_version": "1.5.0",
      "model_name": "VBoxModel",
      "state": {
       "children": [
        "IPY_MODEL_dd63929993a7401ab626cf49aa8e47ec",
        "IPY_MODEL_18fd2dd4be65499b91b7d984d3f28244"
       ],
       "layout": "IPY_MODEL_ae33a6518f6c4bd7ac1c3d19f27164ee"
      }
     },
     "963d126402964be48e58d85e7d4149c1": {
      "model_module": "@jupyter-widgets/controls",
      "model_module_version": "1.5.0",
      "model_name": "DescriptionStyleModel",
      "state": {
       "description_width": ""
      }
     },
     "964212339a614dc4b244dd85464c155d": {
      "model_module": "@jupyter-widgets/base",
      "model_module_version": "1.2.0",
      "model_name": "LayoutModel",
      "state": {
       "flex_flow": "row wrap",
       "margin": "20px"
      }
     },
     "96760736adb540eab397a4254d806359": {
      "model_module": "@jupyter-widgets/controls",
      "model_module_version": "1.5.0",
      "model_name": "SliderStyleModel",
      "state": {
       "description_width": ""
      }
     },
     "9686a9ec1f724f7b9f1afc42c755dcf4": {
      "model_module": "@jupyter-widgets/base",
      "model_module_version": "1.2.0",
      "model_name": "LayoutModel",
      "state": {}
     },
     "96b49dfc62ee4b54b6911cc9519f3adf": {
      "model_module": "@jupyter-widgets/controls",
      "model_module_version": "1.5.0",
      "model_name": "FloatSliderModel",
      "state": {
       "description": "transparency",
       "layout": "IPY_MODEL_5cd5315f340348038cd38a661f3e0383",
       "max": 1,
       "step": 0.1,
       "style": "IPY_MODEL_ce2ea4fd167e4cb2b2f137651b8ac0c7"
      }
     },
     "96cdd7a7ccd846d3924fb1cc7ba26616": {
      "model_module": "@jupyter-widgets/controls",
      "model_module_version": "1.5.0",
      "model_name": "ButtonModel",
      "state": {
       "description": "Add",
       "layout": "IPY_MODEL_215f302522a248ffb3819ec2c29f1058",
       "style": "IPY_MODEL_fe19d3f5e3dc4cd99368775b1f16b8cc"
      }
     },
     "96ef1dd3e38b40a6b4b6aa0a8d3bcca5": {
      "model_module": "@jupyter-widgets/controls",
      "model_module_version": "1.5.0",
      "model_name": "DropdownModel",
      "state": {
       "_options_labels": [
        "leafduration",
        "leafold",
        "maxorder",
        "radinc",
        "nb_axes"
       ],
       "index": 0,
       "layout": "IPY_MODEL_b349b6082b68436a830311e2652d9b99",
       "style": "IPY_MODEL_0095f53d7b9d447db6885939bd2cb620"
      }
     },
     "973162b76dea4a2bbb3e36144ea6db25": {
      "model_module": "@jupyter-widgets/base",
      "model_module_version": "1.2.0",
      "model_name": "LayoutModel",
      "state": {}
     },
     "973da0ef21a546739fbc9361cd34bfe5": {
      "model_module": "@jupyter-widgets/base",
      "model_module_version": "1.2.0",
      "model_name": "LayoutModel",
      "state": {}
     },
     "9773821d863c41edbda8c72cf73d3bc6": {
      "model_module": "@jupyter-widgets/controls",
      "model_module_version": "1.5.0",
      "model_name": "VBoxModel",
      "state": {
       "children": [
        "IPY_MODEL_684c8f4df8674412aedac32f204f41a4",
        "IPY_MODEL_1c64de6d810040e6a876cf03d544910b",
        "IPY_MODEL_58569d21975b4ecb94c1b21ac30e0823",
        "IPY_MODEL_a8e1694a081f4cdeac229c2c58ebc71b",
        "IPY_MODEL_b025d2c3b32b46ee9877ca8fabce0c2d"
       ],
       "layout": "IPY_MODEL_2132082f200f4a239684d6e5b976b196"
      }
     },
     "977fea6ecad74993b1e7f4b53f05bd3d": {
      "model_module": "@jupyter-widgets/base",
      "model_module_version": "1.2.0",
      "model_name": "LayoutModel",
      "state": {}
     },
     "97afb2960e67464ebd0ea7e768317b03": {
      "model_module": "@jupyter-widgets/base",
      "model_module_version": "1.2.0",
      "model_name": "LayoutModel",
      "state": {}
     },
     "9824adc57ba049e4afcc27d45ea5872d": {
      "model_module": "@jupyter-widgets/controls",
      "model_module_version": "1.5.0",
      "model_name": "DescriptionStyleModel",
      "state": {
       "description_width": ""
      }
     },
     "98277c35c08042f6a10536f9cec224a9": {
      "model_module": "@jupyter-widgets/base",
      "model_module_version": "1.2.0",
      "model_name": "LayoutModel",
      "state": {}
     },
     "98388df207bd4a559bfd30c5445ef20d": {
      "model_module": "@jupyter-widgets/base",
      "model_module_version": "1.2.0",
      "model_name": "LayoutModel",
      "state": {}
     },
     "98aa41c6eb644b028a4c3b34c61591da": {
      "model_module": "@jupyter-widgets/controls",
      "model_module_version": "1.5.0",
      "model_name": "DescriptionStyleModel",
      "state": {
       "description_width": ""
      }
     },
     "98b3dcd8990146f594f7c54e237135e5": {
      "model_module": "pgljupyter",
      "model_module_version": "^0.1.19",
      "model_name": "IntEditorModel",
      "state": {
       "_model_module_version": "^0.1.19",
       "_view_module_version": "^0.1.19",
       "children": [
        "IPY_MODEL_1bf3eb867db745b39087e47d083ee70c",
        "IPY_MODEL_a7c7cb1ea21d4cc2ad1a8aa92bdc5b43"
       ],
       "layout": "IPY_MODEL_c9baeb3cc9b94afca6784ad73de3b963"
      }
     },
     "98e62b318b7c483cb6d8f8cd5917ff1b": {
      "model_module": "pgljupyter",
      "model_module_version": "^0.1.17",
      "model_name": "ParameterEditorModel",
      "state": {
       "_model_module_version": "^0.1.17",
       "_view_module_version": "^0.1.17",
       "children": [
        "IPY_MODEL_8be95b6e2c4341088b47d9a41a5e1916"
       ],
       "layout": "IPY_MODEL_4be4fe9b98574f5e94986b02b8c225cb"
      }
     },
     "98fe3261f12c4e249958290f37ba93d2": {
      "model_module": "@jupyter-widgets/controls",
      "model_module_version": "1.5.0",
      "model_name": "ButtonModel",
      "state": {
       "description": "Delete",
       "layout": "IPY_MODEL_0daf2556cff5466a8f88c6b061377e55",
       "style": "IPY_MODEL_d563b21fb0e44bff9f75ce1b0e25866e"
      }
     },
     "9912022f5d81416fae20d7fb32ee621a": {
      "model_module": "@jupyter-widgets/controls",
      "model_module_version": "1.5.0",
      "model_name": "DescriptionStyleModel",
      "state": {
       "description_width": ""
      }
     },
     "991d20b434f14f32ba0b5c3eb2836f02": {
      "model_module": "@jupyter-widgets/base",
      "model_module_version": "1.2.0",
      "model_name": "LayoutModel",
      "state": {}
     },
     "9925cbd3ea0647db80ef2a633272125b": {
      "model_module": "@jupyter-widgets/controls",
      "model_module_version": "1.5.0",
      "model_name": "CheckboxModel",
      "state": {
       "description": "Auto save",
       "disabled": false,
       "layout": "IPY_MODEL_42e7b3c15d994cd6b5e009744d25d2cf",
       "style": "IPY_MODEL_e39e2498279249fda7dc6eebafd8b0bb",
       "value": false
      }
     },
     "9961b6fd43374fabbaa82d99027e4bb1": {
      "model_module": "@jupyter-widgets/controls",
      "model_module_version": "1.5.0",
      "model_name": "ButtonStyleModel",
      "state": {}
     },
     "998772480aac452387c45481c4a8859d": {
      "model_module": "@jupyter-widgets/base",
      "model_module_version": "1.2.0",
      "model_name": "LayoutModel",
      "state": {}
     },
     "9991cdc311734263a5179071275bff7c": {
      "model_module": "@jupyter-widgets/controls",
      "model_module_version": "1.5.0",
      "model_name": "ColorPickerModel",
      "state": {
       "description": "specular",
       "disabled": false,
       "layout": "IPY_MODEL_5d416a34f993487a93cb14b0054ea4ea",
       "style": "IPY_MODEL_160584d7549b440497e447884ae62452",
       "value": "#282828"
      }
     },
     "9995b849589e4f8a87cd74cb1555ef93": {
      "model_module": "@jupyter-widgets/controls",
      "model_module_version": "1.5.0",
      "model_name": "DescriptionStyleModel",
      "state": {
       "description_width": ""
      }
     },
     "99a8e99bf57142b881b83b3908b78915": {
      "model_module": "@jupyter-widgets/controls",
      "model_module_version": "1.5.0",
      "model_name": "TextModel",
      "state": {
       "continuous_update": false,
       "description": "name",
       "layout": "IPY_MODEL_1d1181a2fd7a41b6942a8f000b3d75bd",
       "style": "IPY_MODEL_d98400c8547342cb8a67ecbb1f113126",
       "value": "radinc"
      }
     },
     "9a39bcbc02c34c958a3a2bea5ded14be": {
      "model_module": "@jupyter-widgets/controls",
      "model_module_version": "1.5.0",
      "model_name": "DropdownModel",
      "state": {
       "index": null,
       "layout": "IPY_MODEL_554ebc2fe70b441697fdba4d2a6f87c0",
       "style": "IPY_MODEL_d5962bdf3e204a32a0c5f001c01c8af8"
      }
     },
     "9a9dd7b9393e473ab51a5616b57ee709": {
      "model_module": "@jupyter-widgets/controls",
      "model_module_version": "1.5.0",
      "model_name": "FloatSliderModel",
      "state": {
       "description": "diffuse",
       "layout": "IPY_MODEL_0f79a7c69fb34b2d9f55d3a3cfb5c585",
       "max": 3,
       "step": 0.1,
       "style": "IPY_MODEL_5d56f12735114a72b59aee0792d5ab99",
       "value": 1
      }
     },
     "9b10fafd1dad421981300c41e7b605cc": {
      "model_module": "@jupyter-widgets/controls",
      "model_module_version": "1.5.0",
      "model_name": "HBoxModel",
      "state": {
       "children": [
        "IPY_MODEL_679a4e3dbf4340d084066a79f8c8540d",
        "IPY_MODEL_6e149d6140aa4abca3c6a495c874087e"
       ],
       "layout": "IPY_MODEL_bb79433b06b94630b6f77fbc405d30c3"
      }
     },
     "9b28113ac4cf4246b8f51027152a28ae": {
      "model_module": "@jupyter-widgets/base",
      "model_module_version": "1.2.0",
      "model_name": "LayoutModel",
      "state": {}
     },
     "9b30eab18de94dffbe1a6d676db8158c": {
      "model_module": "@jupyter-widgets/base",
      "model_module_version": "1.2.0",
      "model_name": "LayoutModel",
      "state": {}
     },
     "9b3e11ebb803450b986ba009cd7271d1": {
      "model_module": "@jupyter-widgets/base",
      "model_module_version": "1.2.0",
      "model_name": "LayoutModel",
      "state": {
       "margin": "20px 0px"
      }
     },
     "9b552c4d5fcb4cb5a27ef472c8be80f2": {
      "model_module": "@jupyter-widgets/base",
      "model_module_version": "1.2.0",
      "model_name": "LayoutModel",
      "state": {}
     },
     "9b789e08ff1c46f1bb9f707c180a4903": {
      "model_module": "@jupyter-widgets/base",
      "model_module_version": "1.2.0",
      "model_name": "LayoutModel",
      "state": {}
     },
     "9b8436ae14f84fa29eae52599733cb23": {
      "model_module": "@jupyter-widgets/controls",
      "model_module_version": "1.5.0",
      "model_name": "SliderStyleModel",
      "state": {
       "description_width": ""
      }
     },
     "9b9a7369a8eb4f5da61755ac616f74c3": {
      "model_module": "@jupyter-widgets/controls",
      "model_module_version": "1.5.0",
      "model_name": "ButtonModel",
      "state": {
       "description": "Delete",
       "layout": "IPY_MODEL_8688606d2e9e400dbdbdb02bf5459c6a",
       "style": "IPY_MODEL_8385988dc1324faabaa3e51b770405fa"
      }
     },
     "9bc9c3338eea4c8c86654a7b2ab4b2be": {
      "model_module": "@jupyter-widgets/controls",
      "model_module_version": "1.5.0",
      "model_name": "BoundedIntTextModel",
      "state": {
       "description": "index",
       "layout": "IPY_MODEL_9d44e4d7b6b5496abd6950c0d6063e41",
       "style": "IPY_MODEL_c30638fef6f54cf1961713315e8da2f9",
       "value": 1
      }
     },
     "9bee7a831530488d8f1b62a13071e4a1": {
      "model_module": "@jupyter-widgets/controls",
      "model_module_version": "1.5.0",
      "model_name": "HBoxModel",
      "state": {
       "children": [
        "IPY_MODEL_bc2caf9b3fc84da494330dba24816842",
        "IPY_MODEL_744795a86db044f098523c400f8e0b54"
       ],
       "layout": "IPY_MODEL_05158b063b184ffe96c65e42e171536a"
      }
     },
     "9c81b23cc78347d3b3f5498f783fd5c4": {
      "model_module": "@jupyter-widgets/controls",
      "model_module_version": "1.5.0",
      "model_name": "CheckboxModel",
      "state": {
       "description": "Auto apply",
       "disabled": false,
       "layout": "IPY_MODEL_9fa3784e27c34e6ba76a8dc86ca4931f",
       "style": "IPY_MODEL_ef248a12bce040c9b9d1143f988a7f70",
       "value": false
      }
     },
     "9c9be4e906924b7ca4fc59cedc2f1e32": {
      "model_module": "@jupyter-widgets/base",
      "model_module_version": "1.2.0",
      "model_name": "LayoutModel",
      "state": {}
     },
     "9c9faa69b3cc422bacb248629847951b": {
      "model_module": "@jupyter-widgets/controls",
      "model_module_version": "1.5.0",
      "model_name": "FloatSliderModel",
      "state": {
       "description": "diffuse",
       "layout": "IPY_MODEL_fffdce2dbd3c478e87ffe3ab55ccfcaf",
       "max": 3,
       "step": 0.1,
       "style": "IPY_MODEL_c7fdf9479d19465286070c71ea3e9462",
       "value": 1
      }
     },
     "9ca461330d2145f89ba7e4575a975a1e": {
      "model_module": "@jupyter-widgets/controls",
      "model_module_version": "1.5.0",
      "model_name": "DropdownModel",
      "state": {
       "_options_labels": [
        "trunk",
        "leaf_new",
        "apex",
        "leaf_old"
       ],
       "index": 0,
       "layout": "IPY_MODEL_7ab21dc191f244d38e02875852ce1635",
       "style": "IPY_MODEL_17dc7d6946fa4dcb97123fb2091496ed"
      }
     },
     "9cbbf712b5e546d7b39a41428b0aa2f1": {
      "model_module": "@jupyter-widgets/controls",
      "model_module_version": "1.5.0",
      "model_name": "DescriptionStyleModel",
      "state": {
       "description_width": ""
      }
     },
     "9d12e0ef939e4807b6d9a006fce2d523": {
      "model_module": "@jupyter-widgets/controls",
      "model_module_version": "1.5.0",
      "model_name": "BoundedFloatTextModel",
      "state": {
       "description": "step",
       "layout": "IPY_MODEL_255b3c439597483f80ed865cd04cc345",
       "max": 1,
       "min": 0.01,
       "step": 0.01,
       "style": "IPY_MODEL_259e1b89f75240de83d19dcd3b59bf86",
       "value": 0.01
      }
     },
     "9d18be69857d479da54872b16cad623b": {
      "model_module": "@jupyter-widgets/base",
      "model_module_version": "1.2.0",
      "model_name": "LayoutModel",
      "state": {}
     },
     "9d1c471f6aa5499386c9cee5a496cdfc": {
      "model_module": "@jupyter-widgets/controls",
      "model_module_version": "1.5.0",
      "model_name": "HBoxModel",
      "state": {
       "children": [
        "IPY_MODEL_27f197b4f13d478283479e8a52271d78",
        "IPY_MODEL_42733af347b24deeb6820dafdba23586"
       ],
       "layout": "IPY_MODEL_8b43f3f764b3434fbc0675fd7f1f079d"
      }
     },
     "9d3e8bfa637b4501a40010eae48c2c9e": {
      "model_module": "@jupyter-widgets/base",
      "model_module_version": "1.2.0",
      "model_name": "LayoutModel",
      "state": {}
     },
     "9d44e4d7b6b5496abd6950c0d6063e41": {
      "model_module": "@jupyter-widgets/base",
      "model_module_version": "1.2.0",
      "model_name": "LayoutModel",
      "state": {}
     },
     "9d4b9a9b3979406d872e9b0718717eb7": {
      "model_module": "@jupyter-widgets/controls",
      "model_module_version": "1.5.0",
      "model_name": "ColorPickerModel",
      "state": {
       "description": "ambient",
       "disabled": false,
       "layout": "IPY_MODEL_08a086db9f984b649195bfba6e845663",
       "style": "IPY_MODEL_7844922bdc964f79876f85b1d4fdf8b4",
       "value": "#5b4534"
      }
     },
     "9d7be6be4d2747209818d0df34b5332e": {
      "model_module": "@jupyter-widgets/controls",
      "model_module_version": "1.5.0",
      "model_name": "DescriptionStyleModel",
      "state": {
       "description_width": ""
      }
     },
     "9d85129303a24583bb579ed66f0f17c6": {
      "model_module": "@jupyter-widgets/controls",
      "model_module_version": "1.5.0",
      "model_name": "BoundedIntTextModel",
      "state": {
       "description": "index",
       "layout": "IPY_MODEL_9323e0d993094b5598ad0290264509ac",
       "style": "IPY_MODEL_c25725e9ed4543cba7cfc3aee18d110d",
       "value": 3
      }
     },
     "9db215c1ff3242bab8eb9533ae4c1142": {
      "model_module": "@jupyter-widgets/controls",
      "model_module_version": "1.5.0",
      "model_name": "ColorPickerModel",
      "state": {
       "description": "ambient",
       "disabled": false,
       "layout": "IPY_MODEL_0d6a37d535614710acb801033c6e1b4b",
       "style": "IPY_MODEL_38f0ad6d78c543e584e0999e772ae5b0",
       "value": "#e1a014"
      }
     },
     "9e0dbc685d844cfd942dcb418366010a": {
      "model_module": "@jupyter-widgets/base",
      "model_module_version": "1.2.0",
      "model_name": "LayoutModel",
      "state": {}
     },
     "9e28d980a69940b8887b30e5d2ab7eba": {
      "model_module": "@jupyter-widgets/controls",
      "model_module_version": "1.5.0",
      "model_name": "SliderStyleModel",
      "state": {
       "description_width": ""
      }
     },
     "9e2c5933bf4e4702ae54e16799be5b86": {
      "model_module": "@jupyter-widgets/base",
      "model_module_version": "1.2.0",
      "model_name": "LayoutModel",
      "state": {}
     },
     "9e900280d0514e8d81562cb4284c52dd": {
      "model_module": "@jupyter-widgets/base",
      "model_module_version": "1.2.0",
      "model_name": "LayoutModel",
      "state": {}
     },
     "9e9532d3f9264d848c9671d25e59429b": {
      "model_module": "@jupyter-widgets/base",
      "model_module_version": "1.2.0",
      "model_name": "LayoutModel",
      "state": {}
     },
     "9e9b6175f07b4b388b45284c5be91fe8": {
      "model_module": "@jupyter-widgets/base",
      "model_module_version": "1.2.0",
      "model_name": "LayoutModel",
      "state": {}
     },
     "9ed51db8130848ad90da4bdd175506a3": {
      "model_module": "@jupyter-widgets/base",
      "model_module_version": "1.2.0",
      "model_name": "LayoutModel",
      "state": {}
     },
     "9f1b252d842443fc95ac8e7e4f03c95a": {
      "model_module": "@jupyter-widgets/controls",
      "model_module_version": "1.5.0",
      "model_name": "ButtonModel",
      "state": {
       "description": "Add category",
       "layout": "IPY_MODEL_25319b4a1c0d492ea4c44baed1f845f1",
       "style": "IPY_MODEL_22f9f8931d46440d97e214fb63e75678"
      }
     },
     "9f2dbce166f945239d5998018bbaae65": {
      "model_module": "@jupyter-widgets/controls",
      "model_module_version": "1.5.0",
      "model_name": "ButtonModel",
      "state": {
       "description": "Save changes",
       "layout": "IPY_MODEL_1b5446a7b8594571b37b59d8d9494810",
       "style": "IPY_MODEL_10cf3b81371e442e9ea401ba90dc6424"
      }
     },
     "9f354ca43c3848c8a0a6e0d4c83d58ba": {
      "model_module": "@jupyter-widgets/controls",
      "model_module_version": "1.5.0",
      "model_name": "HBoxModel",
      "state": {
       "children": [
        "IPY_MODEL_b83043512c0f4a2d9f6e344f6ba2039e",
        "IPY_MODEL_cce99130437343edbb73e295b4bb4a02"
       ],
       "layout": "IPY_MODEL_81b18d0fb7524952b85175ffd2632d16"
      }
     },
     "9f81c34fd48c46a38082ef22fe436144": {
      "model_module": "@jupyter-widgets/base",
      "model_module_version": "1.2.0",
      "model_name": "LayoutModel",
      "state": {}
     },
     "9fa3784e27c34e6ba76a8dc86ca4931f": {
      "model_module": "@jupyter-widgets/base",
      "model_module_version": "1.2.0",
      "model_name": "LayoutModel",
      "state": {}
     },
     "9fa90f82578d4c6cbf8256092d7543fa": {
      "model_module": "@jupyter-widgets/controls",
      "model_module_version": "1.5.0",
      "model_name": "ButtonStyleModel",
      "state": {}
     },
     "a02f0afc7f6946cfbda70b9cb2bee9f9": {
      "model_module": "@jupyter-widgets/controls",
      "model_module_version": "1.5.0",
      "model_name": "DropdownModel",
      "state": {
       "_options_labels": [
        "leafduration",
        "leafold"
       ],
       "index": 0,
       "layout": "IPY_MODEL_de0166a69e364f30890e136c6a843c04",
       "style": "IPY_MODEL_17a8887bab0d48dda0b6eb417e76dbac"
      }
     },
     "a03e944e51cb40c5810fc9d0fa1bbb94": {
      "model_module": "@jupyter-widgets/controls",
      "model_module_version": "1.5.0",
      "model_name": "HBoxModel",
      "state": {
       "children": [
        "IPY_MODEL_1353b6016646410798b195d84bc20e50",
        "IPY_MODEL_7d00e5b6fac64279ab76b336056511c0",
        "IPY_MODEL_f091e8ee938040379301180a6b5f8ece",
        "IPY_MODEL_dab8e9c05b4743e0910867303374e23e"
       ],
       "layout": "IPY_MODEL_5a7768daa7114d36b770ea435fe36cec"
      }
     },
     "a05c2a0fc34b4dfe85701e30e5a55732": {
      "model_module": "@jupyter-widgets/controls",
      "model_module_version": "1.5.0",
      "model_name": "ColorPickerModel",
      "state": {
       "description": "specular",
       "disabled": false,
       "layout": "IPY_MODEL_d4426702c7c94b0aac24491668d12154",
       "style": "IPY_MODEL_89abd2f5d7a24df6bcce9045e015f6b6",
       "value": "#282828"
      }
     },
     "a0c0376ddf624c66a5d12384bfc7b96f": {
      "model_module": "@jupyter-widgets/base",
      "model_module_version": "1.2.0",
      "model_name": "LayoutModel",
      "state": {}
     },
     "a0c58eb759874d7aabec070d0f8f4e28": {
      "model_module": "@jupyter-widgets/base",
      "model_module_version": "1.2.0",
      "model_name": "LayoutModel",
      "state": {}
     },
     "a143a5b673a2495e928dd346cefa7981": {
      "model_module": "@jupyter-widgets/controls",
      "model_module_version": "1.5.0",
      "model_name": "HBoxModel",
      "state": {
       "children": [
        "IPY_MODEL_b67e23aadfc0447c98ae6280c6d11af4",
        "IPY_MODEL_407e1eb8df67478aa2edf212374198dd"
       ],
       "layout": "IPY_MODEL_4d77f69f74244057baec36b232f87f78"
      }
     },
     "a14d2f25db9a4ee09e33307c1cc7015b": {
      "model_module": "@jupyter-widgets/controls",
      "model_module_version": "1.5.0",
      "model_name": "ColorPickerModel",
      "state": {
       "description": "specular",
       "disabled": false,
       "layout": "IPY_MODEL_ae2120fec28e429792294924ef4e7252",
       "style": "IPY_MODEL_0cb243c061d34b35a8ad51de93b3548a",
       "value": "#282828"
      }
     },
     "a15f82e8dd1a43408a5d120bd20123be": {
      "model_module": "@jupyter-widgets/controls",
      "model_module_version": "1.5.0",
      "model_name": "SliderStyleModel",
      "state": {
       "description_width": ""
      }
     },
     "a168b04a2dbf49739b7e62715ebafb2f": {
      "model_module": "@jupyter-widgets/controls",
      "model_module_version": "1.5.0",
      "model_name": "HBoxModel",
      "state": {
       "children": [
        "IPY_MODEL_862e6be63a4c4ec7a41e281d8b696e8d",
        "IPY_MODEL_73c2343975874c018e3bdb7a49cd342d"
       ],
       "layout": "IPY_MODEL_ee807aaf7dd849e494a1bea9e632bb51"
      }
     },
     "a177c650942f473394de06d06b3caca8": {
      "model_module": "@jupyter-widgets/controls",
      "model_module_version": "1.5.0",
      "model_name": "VBoxModel",
      "state": {
       "children": [
        "IPY_MODEL_137cbe8acae84e968a221cf773fdf8fd",
        "IPY_MODEL_c87de82df61849479c94ddeef1b62236"
       ],
       "layout": "IPY_MODEL_f6c4882c37f6475dbcdbc12bd7155a7c"
      }
     },
     "a1906644e02d4f33ae8f642c8841461f": {
      "model_module": "@jupyter-widgets/controls",
      "model_module_version": "1.5.0",
      "model_name": "ButtonModel",
      "state": {
       "description": "Add",
       "layout": "IPY_MODEL_9242e4b52d1c46328eae0b31e19984e1",
       "style": "IPY_MODEL_2f17b1525d00451c858cb41c69112c69"
      }
     },
     "a19a36aed4ac40049951a2984ceedf3b": {
      "model_module": "@jupyter-widgets/base",
      "model_module_version": "1.2.0",
      "model_name": "LayoutModel",
      "state": {}
     },
     "a2621c9fa86a4cef802aae2710c3be5f": {
      "model_module": "@jupyter-widgets/controls",
      "model_module_version": "1.5.0",
      "model_name": "DropdownModel",
      "state": {
       "_options_labels": [
        "leafduration",
        "leafold"
       ],
       "index": 0,
       "layout": "IPY_MODEL_6d8d2b229cc647d08308701c382a11a7",
       "style": "IPY_MODEL_221ff8ea7a8240c4978f750044c1a1b6"
      }
     },
     "a2b015214e0846d9ac5d81a1bebac7b4": {
      "model_module": "@jupyter-widgets/controls",
      "model_module_version": "1.5.0",
      "model_name": "CheckboxModel",
      "state": {
       "description": "Auto apply",
       "disabled": false,
       "layout": "IPY_MODEL_b40339e839344d96ba6ff6a53935e92b",
       "style": "IPY_MODEL_754a8ec29fb14d7087455060f4d25989",
       "value": false
      }
     },
     "a2c6eda68e01466896e29101678f2ecc": {
      "model_module": "@jupyter-widgets/controls",
      "model_module_version": "1.5.0",
      "model_name": "DescriptionStyleModel",
      "state": {
       "description_width": ""
      }
     },
     "a2e0faf740134dcb8588672a0eb3e8d8": {
      "model_module": "@jupyter-widgets/base",
      "model_module_version": "1.2.0",
      "model_name": "LayoutModel",
      "state": {}
     },
     "a2e742f0ad8747ec88f5cf551a3b5224": {
      "model_module": "@jupyter-widgets/controls",
      "model_module_version": "1.5.0",
      "model_name": "HBoxModel",
      "state": {
       "layout": "IPY_MODEL_f54b6bb1cd9047f2913448b18542023e"
      }
     },
     "a2eafcfa36b44a6ba3e34657e64cec7a": {
      "model_module": "@jupyter-widgets/controls",
      "model_module_version": "1.5.0",
      "model_name": "FloatSliderModel",
      "state": {
       "description": "transparency",
       "layout": "IPY_MODEL_e01ac84da5b94b36859436d3ee12a19e",
       "max": 1,
       "step": 0.1,
       "style": "IPY_MODEL_dcc995adc6dd4fe097aab757670954b6"
      }
     },
     "a2eb67920af64606babedcf49f3ac443": {
      "model_module": "@jupyter-widgets/controls",
      "model_module_version": "1.5.0",
      "model_name": "DescriptionStyleModel",
      "state": {
       "description_width": ""
      }
     },
     "a301eb5668924f298fa462fb2ee4e2dc": {
      "model_module": "@jupyter-widgets/controls",
      "model_module_version": "1.5.0",
      "model_name": "SliderStyleModel",
      "state": {
       "description_width": ""
      }
     },
     "a3671b271bf948d2aaa3826c21d26b20": {
      "model_module": "@jupyter-widgets/controls",
      "model_module_version": "1.5.0",
      "model_name": "HBoxModel",
      "state": {
       "layout": "IPY_MODEL_6f5e6f5355bd440d8af5ee837dac75a9"
      }
     },
     "a3aa80b4b3224cfa978751461082efdd": {
      "model_module": "@jupyter-widgets/controls",
      "model_module_version": "1.5.0",
      "model_name": "DescriptionStyleModel",
      "state": {
       "description_width": ""
      }
     },
     "a4330bdab939492fbed45caab83a37b0": {
      "model_module": "@jupyter-widgets/base",
      "model_module_version": "1.2.0",
      "model_name": "LayoutModel",
      "state": {}
     },
     "a4413d9c30754ab7a29140a77c7d2e8f": {
      "model_module": "@jupyter-widgets/base",
      "model_module_version": "1.2.0",
      "model_name": "LayoutModel",
      "state": {
       "margin": "20px 0px"
      }
     },
     "a4778b701d8d479488af98ccfba9a85d": {
      "model_module": "@jupyter-widgets/base",
      "model_module_version": "1.2.0",
      "model_name": "LayoutModel",
      "state": {
       "margin": "20px 0px"
      }
     },
     "a4c87564910c4791b7ebc8217ae6af21": {
      "model_module": "@jupyter-widgets/base",
      "model_module_version": "1.2.0",
      "model_name": "LayoutModel",
      "state": {}
     },
     "a5264762497747948922c606524ae042": {
      "model_module": "@jupyter-widgets/base",
      "model_module_version": "1.2.0",
      "model_name": "LayoutModel",
      "state": {}
     },
     "a547bbd798964d08896ad103a8c35c97": {
      "model_module": "@jupyter-widgets/base",
      "model_module_version": "1.2.0",
      "model_name": "LayoutModel",
      "state": {}
     },
     "a56afbd1a4e74ddb9b19fb5de0bcf2b0": {
      "model_module": "@jupyter-widgets/controls",
      "model_module_version": "1.5.0",
      "model_name": "DescriptionStyleModel",
      "state": {
       "description_width": ""
      }
     },
     "a5a3a25a887b433b95152afe55d8192d": {
      "model_module": "@jupyter-widgets/base",
      "model_module_version": "1.2.0",
      "model_name": "LayoutModel",
      "state": {}
     },
     "a5d0d447b1394b03986172fc7562d1f4": {
      "model_module": "@jupyter-widgets/controls",
      "model_module_version": "1.5.0",
      "model_name": "HBoxModel",
      "state": {
       "children": [
        "IPY_MODEL_96cdd7a7ccd846d3924fb1cc7ba26616",
        "IPY_MODEL_0414cc8a90c64c448f20ab6c7de8a484"
       ],
       "layout": "IPY_MODEL_a7a0c50477554430aa4553a8141c8cdf"
      }
     },
     "a5dda22448ef440894f70c195c7f9911": {
      "model_module": "@jupyter-widgets/base",
      "model_module_version": "1.2.0",
      "model_name": "LayoutModel",
      "state": {}
     },
     "a5fa387b659b43e6811c5b2786ac85cd": {
      "model_module": "@jupyter-widgets/controls",
      "model_module_version": "1.5.0",
      "model_name": "HBoxModel",
      "state": {
       "children": [
        "IPY_MODEL_45109e056cae4646bd13589740cb2e07",
        "IPY_MODEL_ad7052f26bac417382466038fda4af38"
       ],
       "layout": "IPY_MODEL_2c72ff2950854494b63f8872eabd3dac"
      }
     },
     "a6a5cc76976d4a088ca7e7f307750adf": {
      "model_module": "@jupyter-widgets/controls",
      "model_module_version": "1.5.0",
      "model_name": "DescriptionStyleModel",
      "state": {
       "description_width": ""
      }
     },
     "a6b2268c582b4593aeb1fd6140283cda": {
      "model_module": "@jupyter-widgets/controls",
      "model_module_version": "1.5.0",
      "model_name": "ColorPickerModel",
      "state": {
       "description": "specular",
       "disabled": false,
       "layout": "IPY_MODEL_e53a81fe5d75435cb12952d290d8bed4",
       "style": "IPY_MODEL_0265533bc3464ca7a91abeccee38a36a",
       "value": "#282828"
      }
     },
     "a6ba6d086bb947a9a81c7c00b649099a": {
      "model_module": "@jupyter-widgets/controls",
      "model_module_version": "1.5.0",
      "model_name": "HBoxModel",
      "state": {
       "children": [
        "IPY_MODEL_73f23e73ddf440029997bd7411d5ebcb",
        "IPY_MODEL_9f354ca43c3848c8a0a6e0d4c83d58ba"
       ],
       "layout": "IPY_MODEL_4d77f69f74244057baec36b232f87f78"
      }
     },
     "a72f273cdb3945e394051fb5a3ed72de": {
      "model_module": "@jupyter-widgets/controls",
      "model_module_version": "1.5.0",
      "model_name": "TextModel",
      "state": {
       "continuous_update": false,
       "description": "name",
       "layout": "IPY_MODEL_2e4a8e24f3cb480f948147e7187812ba",
       "style": "IPY_MODEL_5c45b8f207094c259218686f4e90aff4",
       "value": "maxorder"
      }
     },
     "a74641fad73f460aaf67830e96175f14": {
      "model_module": "@jupyter-widgets/controls",
      "model_module_version": "1.5.0",
      "model_name": "ButtonModel",
      "state": {
       "description": "Add",
       "layout": "IPY_MODEL_8e4723856ef545059ac8d8e784b37a8e",
       "style": "IPY_MODEL_2f7990fb68574e08a097ad24e9646305"
      }
     },
     "a74963dac2344d5ab99396cfdd373704": {
      "model_module": "@jupyter-widgets/base",
      "model_module_version": "1.2.0",
      "model_name": "LayoutModel",
      "state": {}
     },
     "a7a0c50477554430aa4553a8141c8cdf": {
      "model_module": "@jupyter-widgets/base",
      "model_module_version": "1.2.0",
      "model_name": "LayoutModel",
      "state": {}
     },
     "a7c7cb1ea21d4cc2ad1a8aa92bdc5b43": {
      "model_module": "@jupyter-widgets/controls",
      "model_module_version": "1.5.0",
      "model_name": "IntSliderModel",
      "state": {
       "description": "value",
       "layout": "IPY_MODEL_4c9d04011f15472db454f026ea6b3c07",
       "max": 10,
       "min": 1,
       "style": "IPY_MODEL_f1784203f14e47b2863da9024e9cac9a",
       "value": 5
      }
     },
     "a85f651d3d144554a4c5e5260dc4c9c3": {
      "model_module": "@jupyter-widgets/base",
      "model_module_version": "1.2.0",
      "model_name": "LayoutModel",
      "state": {
       "margin": "20px 0px"
      }
     },
     "a8635d0de8634cffa50f768817ef709b": {
      "model_module": "@jupyter-widgets/controls",
      "model_module_version": "1.5.0",
      "model_name": "DescriptionStyleModel",
      "state": {
       "description_width": ""
      }
     },
     "a88837dec5b742f6a10d5977330bd661": {
      "model_module": "@jupyter-widgets/base",
      "model_module_version": "1.2.0",
      "model_name": "LayoutModel",
      "state": {}
     },
     "a8e1694a081f4cdeac229c2c58ebc71b": {
      "model_module": "@jupyter-widgets/controls",
      "model_module_version": "1.5.0",
      "model_name": "HBoxModel",
      "state": {
       "children": [
        "IPY_MODEL_3370ab19ca7d4eb6bd833095110e8888",
        "IPY_MODEL_5d6e79af49c540d687173491bdf52613"
       ],
       "layout": "IPY_MODEL_78dff3c9b0ab4092885a4681b708b9c4"
      }
     },
     "a928100a1a7543c1a952e02f63653d38": {
      "model_module": "@jupyter-widgets/base",
      "model_module_version": "1.2.0",
      "model_name": "LayoutModel",
      "state": {}
     },
     "a9567de3ebd14a1ea85f21b1ea294e13": {
      "model_module": "@jupyter-widgets/controls",
      "model_module_version": "1.5.0",
      "model_name": "ButtonStyleModel",
      "state": {}
     },
     "a986327c2f5f410491da6da14c2b9def": {
      "model_module": "@jupyter-widgets/controls",
      "model_module_version": "1.5.0",
      "model_name": "DescriptionStyleModel",
      "state": {
       "description_width": ""
      }
     },
     "a9b7a5bea64640859355bc1f3bd40aed": {
      "model_module": "@jupyter-widgets/base",
      "model_module_version": "1.2.0",
      "model_name": "LayoutModel",
      "state": {
       "flex_flow": "row wrap",
       "margin": "20px"
      }
     },
     "a9cadb58b2d74d899f90724daa0dbc03": {
      "model_module": "@jupyter-widgets/controls",
      "model_module_version": "1.5.0",
      "model_name": "DescriptionStyleModel",
      "state": {
       "description_width": ""
      }
     },
     "aa07377abfb5489ca39018eb747fddb6": {
      "model_module": "@jupyter-widgets/controls",
      "model_module_version": "1.5.0",
      "model_name": "HBoxModel",
      "state": {
       "children": [
        "IPY_MODEL_1a39600936bd4b199a960b5ddd12c3ef",
        "IPY_MODEL_e2b7f42fba7146f9bd943e2d6c422529"
       ],
       "layout": "IPY_MODEL_3af78c5ade4d410a8a1156f28dde5870"
      }
     },
     "aa34cffd296144adbb84e44628679faa": {
      "model_module": "@jupyter-widgets/controls",
      "model_module_version": "1.5.0",
      "model_name": "HBoxModel",
      "state": {
       "children": [
        "IPY_MODEL_3118b20c6b1b41b095139fadd7aa0f5e",
        "IPY_MODEL_8f4c0103e27f4574ba684259337a9d96",
        "IPY_MODEL_64ddded86cc94f2aaa65c66efd8404cd"
       ],
       "layout": "IPY_MODEL_37b2865fee2b4a02bc2013f64eaefc86"
      }
     },
     "aa87d9baf2e54afbbf8a7787e01bc39c": {
      "model_module": "@jupyter-widgets/controls",
      "model_module_version": "1.5.0",
      "model_name": "DescriptionStyleModel",
      "state": {
       "description_width": ""
      }
     },
     "aab0b96dd9704dec8bee7aca21e55121": {
      "model_module": "@jupyter-widgets/base",
      "model_module_version": "1.2.0",
      "model_name": "LayoutModel",
      "state": {
       "margin": "20px 0px"
      }
     },
     "aadcd785ecac49dd89e89b98cd11a5bc": {
      "model_module": "@jupyter-widgets/controls",
      "model_module_version": "1.5.0",
      "model_name": "IntTextModel",
      "state": {
       "description": "max",
       "layout": "IPY_MODEL_64635876704d46df8e253b2d4cefa598",
       "step": 1,
       "style": "IPY_MODEL_fce01e4c69184a6aa0107d409c41700a",
       "value": 7
      }
     },
     "ab0f9f99791b40059d4d3534b8def2a1": {
      "model_module": "@jupyter-widgets/base",
      "model_module_version": "1.2.0",
      "model_name": "LayoutModel",
      "state": {}
     },
     "abb8dd22248e47baa61d0443c5c01957": {
      "model_module": "@jupyter-widgets/base",
      "model_module_version": "1.2.0",
      "model_name": "LayoutModel",
      "state": {}
     },
     "abbcb03a36494939be94896a2e4392f4": {
      "model_module": "@jupyter-widgets/base",
      "model_module_version": "1.2.0",
      "model_name": "LayoutModel",
      "state": {}
     },
     "abcc393b17f24dc9b7fecb97fc241a9d": {
      "model_module": "@jupyter-widgets/controls",
      "model_module_version": "1.5.0",
      "model_name": "SliderStyleModel",
      "state": {
       "description_width": ""
      }
     },
     "abee62d144eb46f6a0854e2c779344fc": {
      "model_module": "@jupyter-widgets/base",
      "model_module_version": "1.2.0",
      "model_name": "LayoutModel",
      "state": {}
     },
     "ac370811477146a592129af91bec1989": {
      "model_module": "@jupyter-widgets/base",
      "model_module_version": "1.2.0",
      "model_name": "LayoutModel",
      "state": {}
     },
     "ac5bccc43bad4cf1b629ee62e886ec74": {
      "model_module": "@jupyter-widgets/base",
      "model_module_version": "1.2.0",
      "model_name": "LayoutModel",
      "state": {}
     },
     "ac6f0bb182d14b43a5412de39ac1d15a": {
      "model_module": "@jupyter-widgets/base",
      "model_module_version": "1.2.0",
      "model_name": "LayoutModel",
      "state": {}
     },
     "ac71f1c55d9948e19e588813ff85983b": {
      "model_module": "@jupyter-widgets/controls",
      "model_module_version": "1.5.0",
      "model_name": "DescriptionStyleModel",
      "state": {
       "description_width": ""
      }
     },
     "acb4f93525d14ffabe3e2bba3cae48a6": {
      "model_module": "@jupyter-widgets/controls",
      "model_module_version": "1.5.0",
      "model_name": "HBoxModel",
      "state": {
       "children": [
        "IPY_MODEL_42a63d59593845ca8d64fb7a3a398a5a",
        "IPY_MODEL_be75d5dbdd5641339fe24f8c4f6ca207"
       ],
       "layout": "IPY_MODEL_676ef09cd4844c10ba6f4f53d5d24356"
      }
     },
     "ad0d38c2c2774e369fd4428f472136f0": {
      "model_module": "@jupyter-widgets/base",
      "model_module_version": "1.2.0",
      "model_name": "LayoutModel",
      "state": {}
     },
     "ad1542a9ee5d493fb7cad40f4ec24a08": {
      "model_module": "@jupyter-widgets/base",
      "model_module_version": "1.2.0",
      "model_name": "LayoutModel",
      "state": {}
     },
     "ad28097795614babac3adcc76c9b471c": {
      "model_module": "@jupyter-widgets/base",
      "model_module_version": "1.2.0",
      "model_name": "LayoutModel",
      "state": {}
     },
     "ad4777c7b26e4dc686420550608d2f12": {
      "model_module": "@jupyter-widgets/controls",
      "model_module_version": "1.5.0",
      "model_name": "ButtonStyleModel",
      "state": {}
     },
     "ad7052f26bac417382466038fda4af38": {
      "model_module": "@jupyter-widgets/controls",
      "model_module_version": "1.5.0",
      "model_name": "DropdownModel",
      "state": {
       "_options_labels": [
        "NurbsCurve2D",
        "BezierCurve2D",
        "Polyline2D",
        "Function"
       ],
       "index": 0,
       "layout": "IPY_MODEL_f7a150d82f6d40e4934ef1a89819382f",
       "style": "IPY_MODEL_885d034f6340467e9f3d03862ecdc212"
      }
     },
     "ad770f779d7142d692b8057c7c5825cf": {
      "model_module": "@jupyter-widgets/base",
      "model_module_version": "1.2.0",
      "model_name": "LayoutModel",
      "state": {
       "margin": "20px 0px"
      }
     },
     "ae2120fec28e429792294924ef4e7252": {
      "model_module": "@jupyter-widgets/base",
      "model_module_version": "1.2.0",
      "model_name": "LayoutModel",
      "state": {}
     },
     "ae33a6518f6c4bd7ac1c3d19f27164ee": {
      "model_module": "@jupyter-widgets/base",
      "model_module_version": "1.2.0",
      "model_name": "LayoutModel",
      "state": {}
     },
     "ae40200d7fdc43a69f8f57ce27d6891b": {
      "model_module": "@jupyter-widgets/controls",
      "model_module_version": "1.5.0",
      "model_name": "ColorPickerModel",
      "state": {
       "description": "ambient",
       "disabled": false,
       "layout": "IPY_MODEL_27c99d487aef426398bafe8dc27b8491",
       "style": "IPY_MODEL_e4bcad903cd24e668755c12c6ad16d21",
       "value": "#5b4534"
      }
     },
     "ae49ac24f7d94cbea0a0b653a87d4b7d": {
      "model_module": "@jupyter-widgets/controls",
      "model_module_version": "1.5.0",
      "model_name": "ButtonStyleModel",
      "state": {}
     },
     "ae6582bcdffa4a9ea49948fb8e79804f": {
      "model_module": "@jupyter-widgets/controls",
      "model_module_version": "1.5.0",
      "model_name": "CheckboxModel",
      "state": {
       "description": "Auto apply",
       "disabled": false,
       "layout": "IPY_MODEL_d8d73c6794a64b41a4b085d7b2422110",
       "style": "IPY_MODEL_5810bb174d1946e8b3d0386797351339",
       "value": false
      }
     },
     "ae65c9b1a7014f46b4d4736a9946ae5f": {
      "model_module": "@jupyter-widgets/controls",
      "model_module_version": "1.5.0",
      "model_name": "FloatSliderModel",
      "state": {
       "description": "shininess",
       "layout": "IPY_MODEL_c7ea2a8eaf6f4fd6ba043daec10a8f1a",
       "max": 1,
       "step": 0.1,
       "style": "IPY_MODEL_4a48e3b56b974227bcbb4111eb32acbb",
       "value": 0.2
      }
     },
     "ae6fd33e7b08418d94791d38e5190ea4": {
      "model_module": "@jupyter-widgets/controls",
      "model_module_version": "1.5.0",
      "model_name": "TextModel",
      "state": {
       "continuous_update": false,
       "description": "name",
       "layout": "IPY_MODEL_991d20b434f14f32ba0b5c3eb2836f02",
       "style": "IPY_MODEL_963d126402964be48e58d85e7d4149c1",
       "value": "nb_axes"
      }
     },
     "ae707f5167d74fc69acaaf741eb5e5de": {
      "model_module": "@jupyter-widgets/base",
      "model_module_version": "1.2.0",
      "model_name": "LayoutModel",
      "state": {}
     },
     "ae72d17e3fb94a56a3727653a69248a4": {
      "model_module": "@jupyter-widgets/controls",
      "model_module_version": "1.5.0",
      "model_name": "FloatSliderModel",
      "state": {
       "description": "transparency",
       "layout": "IPY_MODEL_5952ccf95fff4114ac955e73f1021bc8",
       "max": 1,
       "step": 0.1,
       "style": "IPY_MODEL_a15f82e8dd1a43408a5d120bd20123be"
      }
     },
     "aee7a263a0f64a1fbea2c127454b5880": {
      "model_module": "@jupyter-widgets/base",
      "model_module_version": "1.2.0",
      "model_name": "LayoutModel",
      "state": {}
     },
     "aef6b743295f42189e95981f47848542": {
      "model_module": "@jupyter-widgets/controls",
      "model_module_version": "1.5.0",
      "model_name": "DescriptionStyleModel",
      "state": {
       "description_width": ""
      }
     },
     "af04d4dbb9ee467196d914b3d6ff7677": {
      "model_module": "@jupyter-widgets/controls",
      "model_module_version": "1.5.0",
      "model_name": "DropdownModel",
      "state": {
       "_options_labels": [
        "Integer",
        "Float",
        "Bool"
       ],
       "index": 0,
       "layout": "IPY_MODEL_88a10cf316df4647bd53d535728a4d82",
       "style": "IPY_MODEL_8283081be3d348eea1bc8c13afea1b04"
      }
     },
     "af05852e0c454d1081c694c61e2c259d": {
      "model_module": "@jupyter-widgets/controls",
      "model_module_version": "1.5.0",
      "model_name": "FloatSliderModel",
      "state": {
       "description": "shininess",
       "layout": "IPY_MODEL_2a4657dcf6134dbf9171718197e5e80f",
       "max": 1,
       "step": 0.1,
       "style": "IPY_MODEL_065f562240b640f2ae0d150761123893",
       "value": 0.2
      }
     },
     "af3d20d491c44d098b64367717540ebe": {
      "model_module": "@jupyter-widgets/controls",
      "model_module_version": "1.5.0",
      "model_name": "FloatSliderModel",
      "state": {
       "description": "diffuse",
       "layout": "IPY_MODEL_844d30039767419a89704c52fe806d6c",
       "max": 3,
       "step": 0.1,
       "style": "IPY_MODEL_09b8c80f45194de3b8dde10dedf91332",
       "value": 1
      }
     },
     "af4039e9ddde442ba446084c54416900": {
      "model_module": "@jupyter-widgets/controls",
      "model_module_version": "1.5.0",
      "model_name": "BoundedIntTextModel",
      "state": {
       "description": "index",
       "layout": "IPY_MODEL_625a97aef55748c189e2a6b3c1b5e67d",
       "style": "IPY_MODEL_0ba2cab9cc9d4511aad569640dfc3012",
       "value": 3
      }
     },
     "af62057272d64d6c8173cc755a1345c8": {
      "model_module": "@jupyter-widgets/base",
      "model_module_version": "1.2.0",
      "model_name": "LayoutModel",
      "state": {}
     },
     "af76f68e255a49a9a097846d5b100896": {
      "model_module": "@jupyter-widgets/controls",
      "model_module_version": "1.5.0",
      "model_name": "HBoxModel",
      "state": {
       "children": [
        "IPY_MODEL_0e1758e5f97c4775894b0a98513a546f",
        "IPY_MODEL_7847f6e3bd894ee48f1555c248f27c90"
       ],
       "layout": "IPY_MODEL_953ba707a655461f95ad063f5a6f574b"
      }
     },
     "af8a50225a5b459392ad1828e64b9479": {
      "model_module": "@jupyter-widgets/controls",
      "model_module_version": "1.5.0",
      "model_name": "TextModel",
      "state": {
       "continuous_update": false,
       "description": "name",
       "layout": "IPY_MODEL_649b808e83854530a387af7bc18abe1e",
       "style": "IPY_MODEL_8278afc954514651bbf571d8a24293c1",
       "value": "leafduration"
      }
     },
     "afd16820af884a958cef4c29e98f66cd": {
      "model_module": "@jupyter-widgets/base",
      "model_module_version": "1.2.0",
      "model_name": "LayoutModel",
      "state": {}
     },
     "aff7649e3cd94b0e93b9db47ae177a91": {
      "model_module": "@jupyter-widgets/controls",
      "model_module_version": "1.5.0",
      "model_name": "DescriptionStyleModel",
      "state": {
       "description_width": ""
      }
     },
     "b018f27f56ef47b8b8c77c757b918855": {
      "model_module": "@jupyter-widgets/base",
      "model_module_version": "1.2.0",
      "model_name": "LayoutModel",
      "state": {}
     },
     "b025d2c3b32b46ee9877ca8fabce0c2d": {
      "model_module": "@jupyter-widgets/controls",
      "model_module_version": "1.5.0",
      "model_name": "HBoxModel",
      "state": {
       "layout": "IPY_MODEL_a9b7a5bea64640859355bc1f3bd40aed"
      }
     },
     "b026cfdea7f24109b3207938d8293f82": {
      "model_module": "@jupyter-widgets/controls",
      "model_module_version": "1.5.0",
      "model_name": "TextModel",
      "state": {
       "continuous_update": false,
       "description": "name",
       "layout": "IPY_MODEL_9205b342fe2d42118f3ab706062aa484",
       "style": "IPY_MODEL_a3aa80b4b3224cfa978751461082efdd",
       "value": "nb_axes"
      }
     },
     "b0278727c6984480ae67b3caa91c5c28": {
      "model_module": "@jupyter-widgets/controls",
      "model_module_version": "1.5.0",
      "model_name": "DescriptionStyleModel",
      "state": {
       "description_width": ""
      }
     },
     "b042067711c749ddbe44af8d0b266773": {
      "model_module": "@jupyter-widgets/controls",
      "model_module_version": "1.5.0",
      "model_name": "DescriptionStyleModel",
      "state": {
       "description_width": ""
      }
     },
     "b0587fd4b5de40ff83b94fd445197b2a": {
      "model_module": "@jupyter-widgets/controls",
      "model_module_version": "1.5.0",
      "model_name": "FloatSliderModel",
      "state": {
       "description": "transparency",
       "layout": "IPY_MODEL_abbcb03a36494939be94896a2e4392f4",
       "max": 1,
       "step": 0.1,
       "style": "IPY_MODEL_d5cd15e37f944ccfa4bf1cdd3348f4c7"
      }
     },
     "b0816a0d3a1147ec9177057aeccf2636": {
      "model_module": "@jupyter-widgets/controls",
      "model_module_version": "1.5.0",
      "model_name": "DescriptionStyleModel",
      "state": {
       "description_width": ""
      }
     },
     "b0e8fa40069c4769bfca38d467a34243": {
      "model_module": "@jupyter-widgets/controls",
      "model_module_version": "1.5.0",
      "model_name": "SliderStyleModel",
      "state": {
       "description_width": ""
      }
     },
     "b0fb1ac3eab4429faa1c3064bf965e64": {
      "model_module": "@jupyter-widgets/controls",
      "model_module_version": "1.5.0",
      "model_name": "HBoxModel",
      "state": {
       "children": [
        "IPY_MODEL_7c7176c2637047769f684c2d030b2393",
        "IPY_MODEL_3f1c5cb37d464c0c965c97fc3a1e7f60"
       ],
       "layout": "IPY_MODEL_df4b301f82c143b6ba68f23b7ee4a4e7"
      }
     },
     "b11599f0c8c340be874b6f91e49e147c": {
      "model_module": "@jupyter-widgets/controls",
      "model_module_version": "1.5.0",
      "model_name": "FloatSliderModel",
      "state": {
       "description": "transparency",
       "layout": "IPY_MODEL_026723ae658e489db0402b1860155fde",
       "max": 1,
       "step": 0.1,
       "style": "IPY_MODEL_bc101f934e6546c8b4a4399a8ff52dd9"
      }
     },
     "b12f527165d943288688f616f1f609c8": {
      "model_module": "@jupyter-widgets/controls",
      "model_module_version": "1.5.0",
      "model_name": "DescriptionStyleModel",
      "state": {
       "description_width": ""
      }
     },
     "b16bc4eeda684baab51f644ed6537a07": {
      "model_module": "@jupyter-widgets/base",
      "model_module_version": "1.2.0",
      "model_name": "LayoutModel",
      "state": {}
     },
     "b170506f70d34c96b69cc2e6cb10b936": {
      "model_module": "@jupyter-widgets/base",
      "model_module_version": "1.2.0",
      "model_name": "LayoutModel",
      "state": {}
     },
     "b184382198c246fbb6c014da8ef2f3e0": {
      "model_module": "@jupyter-widgets/base",
      "model_module_version": "1.2.0",
      "model_name": "LayoutModel",
      "state": {}
     },
     "b1bea4580daf4865a4ab65528a99b960": {
      "model_module": "@jupyter-widgets/controls",
      "model_module_version": "1.5.0",
      "model_name": "DescriptionStyleModel",
      "state": {
       "description_width": ""
      }
     },
     "b1ed67a808ae4d98902e313123dd2c75": {
      "model_module": "@jupyter-widgets/controls",
      "model_module_version": "1.5.0",
      "model_name": "ButtonModel",
      "state": {
       "description": "Delete",
       "layout": "IPY_MODEL_d96944e0d08c4a04aa0b00a6367b12c9",
       "style": "IPY_MODEL_eb97bfba7a244317a71b5c4fedafbbe8"
      }
     },
     "b233f15e47474a7198fb26deae803dcc": {
      "model_module": "@jupyter-widgets/controls",
      "model_module_version": "1.5.0",
      "model_name": "IntTextModel",
      "state": {
       "description": "max",
       "layout": "IPY_MODEL_4195dc0db72c4f82bb9bd5eead7e9779",
       "step": 1,
       "style": "IPY_MODEL_c1729e1e6a704ee9982e5f868755dfc6",
       "value": 10
      }
     },
     "b248996a41fc4f39b8f71cd98044d51f": {
      "model_module": "@jupyter-widgets/controls",
      "model_module_version": "1.5.0",
      "model_name": "HBoxModel",
      "state": {
       "children": [
        "IPY_MODEL_f12070df747f4997bb07a8795782dbf5",
        "IPY_MODEL_238dd52d41fd42ba8fc8d39b45ea27f2"
       ],
       "layout": "IPY_MODEL_84c796b6ce3746e1aafccca2c6759aac"
      }
     },
     "b281607fe98d48e3934d05bec3d79698": {
      "model_module": "@jupyter-widgets/base",
      "model_module_version": "1.2.0",
      "model_name": "LayoutModel",
      "state": {}
     },
     "b29aa72a95854be7aa69fb3b924ac504": {
      "model_module": "@jupyter-widgets/base",
      "model_module_version": "1.2.0",
      "model_name": "LayoutModel",
      "state": {}
     },
     "b2bf5842fee641abb921c9ea89fc6361": {
      "model_module": "@jupyter-widgets/base",
      "model_module_version": "1.2.0",
      "model_name": "LayoutModel",
      "state": {}
     },
     "b2dff12eb7f74161896fad4ff14e216e": {
      "model_module": "@jupyter-widgets/base",
      "model_module_version": "1.2.0",
      "model_name": "LayoutModel",
      "state": {}
     },
     "b2f08df3f7bb4655984473bbce30d2a8": {
      "model_module": "@jupyter-widgets/base",
      "model_module_version": "1.2.0",
      "model_name": "LayoutModel",
      "state": {}
     },
     "b336f9abf432475a859c3a01ea152da7": {
      "model_module": "@jupyter-widgets/controls",
      "model_module_version": "1.5.0",
      "model_name": "ColorPickerModel",
      "state": {
       "description": "specular",
       "disabled": false,
       "layout": "IPY_MODEL_7d4841eb52e849b792078e35434add1c",
       "style": "IPY_MODEL_4a28f656400b498e9b4a70690a4229a8",
       "value": "#282828"
      }
     },
     "b3415d0e07044c3c90903ed545d57994": {
      "model_module": "pgljupyter",
      "model_module_version": "^0.1.17",
      "model_name": "LsystemWidgetModel",
      "state": {
       "_model_module_version": "^0.1.17",
       "_view_module_version": "^0.1.17",
       "axes_helper": false,
       "derivationLength": 42,
       "layout": "IPY_MODEL_cffe896bba6b4be9a72a337ec2eeabfd",
       "light_helper": false,
       "plane": true,
       "size_display": [
        400,
        400
       ],
       "size_world": 50
      }
     },
     "b349b6082b68436a830311e2652d9b99": {
      "model_module": "@jupyter-widgets/base",
      "model_module_version": "1.2.0",
      "model_name": "LayoutModel",
      "state": {}
     },
     "b349ed08d7d84db7be931975d0f29cc6": {
      "model_module": "@jupyter-widgets/base",
      "model_module_version": "1.2.0",
      "model_name": "LayoutModel",
      "state": {}
     },
     "b3845888ce8d4ad4986e97d2f893e730": {
      "model_module": "@jupyter-widgets/base",
      "model_module_version": "1.2.0",
      "model_name": "LayoutModel",
      "state": {}
     },
     "b3ab021d6df046ceb59289797f1e4f25": {
      "model_module": "@jupyter-widgets/controls",
      "model_module_version": "1.5.0",
      "model_name": "BoundedIntTextModel",
      "state": {
       "description": "index",
       "layout": "IPY_MODEL_8aae296581c643e2a94a84c43a578fda",
       "style": "IPY_MODEL_d8dd6096e07649cb8ceb51b260ceb49f",
       "value": 3
      }
     },
     "b3b4369a077e494799fb62f23eb0eb47": {
      "model_module": "@jupyter-widgets/controls",
      "model_module_version": "1.5.0",
      "model_name": "ColorPickerModel",
      "state": {
       "description": "ambient",
       "disabled": false,
       "layout": "IPY_MODEL_13ae418bba3b47449bcffe9f4ff9b1d0",
       "style": "IPY_MODEL_20b1952b21434151a833e0b22eb08f81",
       "value": "#195717"
      }
     },
     "b3beeeb252564f9193c765e7fe7136a4": {
      "model_module": "@jupyter-widgets/controls",
      "model_module_version": "1.5.0",
      "model_name": "DropdownModel",
      "state": {
       "_options_labels": [
        "Color"
       ],
       "index": 0,
       "layout": "IPY_MODEL_1049120221a44f9698ad8be47c2dd830",
       "style": "IPY_MODEL_c8ca31ca5bd148e6a5aa1524e6d99e3f"
      }
     },
     "b40339e839344d96ba6ff6a53935e92b": {
      "model_module": "@jupyter-widgets/base",
      "model_module_version": "1.2.0",
      "model_name": "LayoutModel",
      "state": {}
     },
     "b44429e02b1c4c018efe9629e58572c3": {
      "model_module": "@jupyter-widgets/controls",
      "model_module_version": "1.5.0",
      "model_name": "VBoxModel",
      "state": {
       "children": [
        "IPY_MODEL_2d215d5802a64161ad4658212812c5f3",
        "IPY_MODEL_53592ff1413b4aadb82fbe457a467666",
        "IPY_MODEL_42311b25a5ce4d1788e339ad94a4f81c",
        "IPY_MODEL_a143a5b673a2495e928dd346cefa7981",
        "IPY_MODEL_a2e742f0ad8747ec88f5cf551a3b5224"
       ],
       "layout": "IPY_MODEL_b8d2ea5b6d2a40cda4d35f962c17e998"
      }
     },
     "b4468c2736f440b4bd4d58112d80f1f3": {
      "model_module": "@jupyter-widgets/controls",
      "model_module_version": "1.5.0",
      "model_name": "BoundedIntTextModel",
      "state": {
       "description": "index",
       "layout": "IPY_MODEL_b184382198c246fbb6c014da8ef2f3e0",
       "style": "IPY_MODEL_1558078ff54b40aa9edd4a561283c2a3",
       "value": 2
      }
     },
     "b483a839a4094147ab01f3c7d19bb1ac": {
      "model_module": "@jupyter-widgets/controls",
      "model_module_version": "1.5.0",
      "model_name": "ColorPickerModel",
      "state": {
       "description": "ambient",
       "disabled": false,
       "layout": "IPY_MODEL_4b847adc42dd44cc8851741209771151",
       "style": "IPY_MODEL_b581d53322d94699a5a19e271a34211d",
       "value": "#195717"
      }
     },
     "b4b34b837b2e417eb78863606b1d6e8d": {
      "model_module": "@jupyter-widgets/controls",
      "model_module_version": "1.5.0",
      "model_name": "ButtonStyleModel",
      "state": {}
     },
     "b4eb01c447064278a10e95e371e491b5": {
      "model_module": "@jupyter-widgets/controls",
      "model_module_version": "1.5.0",
      "model_name": "ButtonModel",
      "state": {
       "description": "Save changes",
       "layout": "IPY_MODEL_ba0d08e405e743aa9fc38c0d108f065b",
       "style": "IPY_MODEL_bb92e0f3b2e842e0ab29b1bbcaf44ed8"
      }
     },
     "b4f90847a77b4195b5dc4d2c29806c64": {
      "model_module": "@jupyter-widgets/controls",
      "model_module_version": "1.5.0",
      "model_name": "BoundedIntTextModel",
      "state": {
       "description": "step",
       "layout": "IPY_MODEL_5f0d4143620941798573a504d9e748b1",
       "min": 1,
       "style": "IPY_MODEL_c0409f72c596451b915072be0153fdf9",
       "value": 1
      }
     },
     "b52d8d1f7a39435a937737cba39c4169": {
      "model_module": "@jupyter-widgets/controls",
      "model_module_version": "1.5.0",
      "model_name": "HBoxModel",
      "state": {
       "children": [
        "IPY_MODEL_c309dadcba5d4757ad170bafede09c29",
        "IPY_MODEL_e20a8ad2869c4320906c5ccb5a2616cb",
        "IPY_MODEL_62252cd6e6f64fb7aa4f68ce3e71f4b1",
        "IPY_MODEL_88b25b3d6bed47aabbf857ba0829ae88"
       ],
       "layout": "IPY_MODEL_964212339a614dc4b244dd85464c155d"
      }
     },
     "b57c6dbb68c64afbb95b8d317eff0d77": {
      "model_module": "@jupyter-widgets/controls",
      "model_module_version": "1.5.0",
      "model_name": "TabModel",
      "state": {
       "layout": "IPY_MODEL_20e3dd12ae594b74880fcf2f3311b803"
      }
     },
     "b581d53322d94699a5a19e271a34211d": {
      "model_module": "@jupyter-widgets/controls",
      "model_module_version": "1.5.0",
      "model_name": "DescriptionStyleModel",
      "state": {
       "description_width": ""
      }
     },
     "b5ad4c581bca4efb9e0e4e91dd0fc2fd": {
      "model_module": "@jupyter-widgets/base",
      "model_module_version": "1.2.0",
      "model_name": "LayoutModel",
      "state": {}
     },
     "b5d23766ee1b4de98cd72e67ca0961f4": {
      "model_module": "@jupyter-widgets/controls",
      "model_module_version": "1.5.0",
      "model_name": "DropdownModel",
      "state": {
       "_options_labels": [
        "Integer",
        "Float",
        "Bool"
       ],
       "index": 0,
       "layout": "IPY_MODEL_7293a88c1ab941aabcecd4f6d4f03a08",
       "style": "IPY_MODEL_fc285204d80d4fe587b6c0d1e1042610"
      }
     },
     "b609d0249e3d49ada716ca64850e65b8": {
      "model_module": "@jupyter-widgets/base",
      "model_module_version": "1.2.0",
      "model_name": "LayoutModel",
      "state": {}
     },
     "b618285ed5684282bcdc1d912a0170cc": {
      "model_module": "@jupyter-widgets/controls",
      "model_module_version": "1.5.0",
      "model_name": "DescriptionStyleModel",
      "state": {
       "description_width": ""
      }
     },
     "b64a0b633c4c488bb06c6634159a6227": {
      "model_module": "@jupyter-widgets/base",
      "model_module_version": "1.2.0",
      "model_name": "LayoutModel",
      "state": {}
     },
     "b67e23aadfc0447c98ae6280c6d11af4": {
      "model_module": "@jupyter-widgets/controls",
      "model_module_version": "1.5.0",
      "model_name": "HBoxModel",
      "state": {
       "children": [
        "IPY_MODEL_eba49d4701c34c69a1a52005a55e913e",
        "IPY_MODEL_fece1e7f13bd475fac0ed48c8e36b25b"
       ],
       "layout": "IPY_MODEL_b16bc4eeda684baab51f644ed6537a07"
      }
     },
     "b70440f46d284109b251b83b4efe6e79": {
      "model_module": "@jupyter-widgets/controls",
      "model_module_version": "1.5.0",
      "model_name": "DescriptionStyleModel",
      "state": {
       "description_width": ""
      }
     },
     "b763b1260b354b23ae6671768bc4a076": {
      "model_module": "@jupyter-widgets/base",
      "model_module_version": "1.2.0",
      "model_name": "LayoutModel",
      "state": {
       "margin": "20px 0px"
      }
     },
     "b78a37695bbf435fb731861c038b885f": {
      "model_module": "@jupyter-widgets/controls",
      "model_module_version": "1.5.0",
      "model_name": "HBoxModel",
      "state": {
       "children": [
        "IPY_MODEL_fb273117bed744e4a7d3e39c85368d3d",
        "IPY_MODEL_de17ce4b402f484dad854027cadfb9d2",
        "IPY_MODEL_2d7812945748435ea206c4b8b1341c7c",
        "IPY_MODEL_ba5d5391b210400f916720a6327a4648"
       ],
       "layout": "IPY_MODEL_6f5e6f5355bd440d8af5ee837dac75a9"
      }
     },
     "b7eb7c1fbc2c4fbab9ae3ae154813316": {
      "model_module": "@jupyter-widgets/base",
      "model_module_version": "1.2.0",
      "model_name": "LayoutModel",
      "state": {
       "margin": "20px 0px"
      }
     },
     "b7fff26df0ad46bbaeeb12519d1a0352": {
      "model_module": "@jupyter-widgets/base",
      "model_module_version": "1.2.0",
      "model_name": "LayoutModel",
      "state": {}
     },
     "b83043512c0f4a2d9f6e344f6ba2039e": {
      "model_module": "@jupyter-widgets/controls",
      "model_module_version": "1.5.0",
      "model_name": "ButtonModel",
      "state": {
       "description": "Delete",
       "layout": "IPY_MODEL_9ed51db8130848ad90da4bdd175506a3",
       "style": "IPY_MODEL_6cafa8125cbe44e2b212a499900a8f16"
      }
     },
     "b88afe6051704699a445a1ca92a8653e": {
      "model_module": "@jupyter-widgets/controls",
      "model_module_version": "1.5.0",
      "model_name": "SliderStyleModel",
      "state": {
       "description_width": ""
      }
     },
     "b896d4c5ba084261b9772c2ec6244463": {
      "model_module": "@jupyter-widgets/base",
      "model_module_version": "1.2.0",
      "model_name": "LayoutModel",
      "state": {}
     },
     "b8a8455ce5b040d0b828e4487621af24": {
      "model_module": "@jupyter-widgets/controls",
      "model_module_version": "1.5.0",
      "model_name": "DescriptionStyleModel",
      "state": {
       "description_width": ""
      }
     },
     "b8b9b3ffeaac416c9b974d5332062d10": {
      "model_module": "@jupyter-widgets/controls",
      "model_module_version": "1.5.0",
      "model_name": "VBoxModel",
      "state": {
       "children": [
        "IPY_MODEL_1333161370364dc18b62b527843bccdf",
        "IPY_MODEL_a03e944e51cb40c5810fc9d0fa1bbb94"
       ],
       "layout": "IPY_MODEL_b349ed08d7d84db7be931975d0f29cc6"
      }
     },
     "b8c7f3e772e0418984b752d8cabfe954": {
      "model_module": "@jupyter-widgets/base",
      "model_module_version": "1.2.0",
      "model_name": "LayoutModel",
      "state": {}
     },
     "b8d2ea5b6d2a40cda4d35f962c17e998": {
      "model_module": "@jupyter-widgets/base",
      "model_module_version": "1.2.0",
      "model_name": "LayoutModel",
      "state": {}
     },
     "b8d47ef44074438281319294176af51b": {
      "model_module": "@jupyter-widgets/base",
      "model_module_version": "1.2.0",
      "model_name": "LayoutModel",
      "state": {}
     },
     "b8f9b126dfec4211a4b352568394eb93": {
      "model_module": "@jupyter-widgets/base",
      "model_module_version": "1.2.0",
      "model_name": "LayoutModel",
      "state": {}
     },
     "b97945cdd79940218cc6b9ce0f099d89": {
      "model_module": "@jupyter-widgets/controls",
      "model_module_version": "1.5.0",
      "model_name": "DropdownModel",
      "state": {
       "index": null,
       "layout": "IPY_MODEL_9e900280d0514e8d81562cb4284c52dd",
       "style": "IPY_MODEL_496e48f80ba34d7389289f84ed07049f"
      }
     },
     "b97cf4f067b743d2b430bd97bc89e312": {
      "model_module": "@jupyter-widgets/controls",
      "model_module_version": "1.5.0",
      "model_name": "VBoxModel",
      "state": {
       "children": [
        "IPY_MODEL_f33af95ef58846bf8df866296877a85b",
        "IPY_MODEL_6bdedae54c80433d896fd303f7e37987",
        "IPY_MODEL_42a66a116d6e4ad2babe8908a1d40481",
        "IPY_MODEL_1544c4aba24c44af809a65633d48cc8e",
        "IPY_MODEL_a3671b271bf948d2aaa3826c21d26b20"
       ],
       "layout": "IPY_MODEL_b29aa72a95854be7aa69fb3b924ac504"
      }
     },
     "b9ebb3597e8346f8a3fc4ed986a97a1b": {
      "model_module": "@jupyter-widgets/base",
      "model_module_version": "1.2.0",
      "model_name": "LayoutModel",
      "state": {}
     },
     "b9fcc4919c8b40f2a8d2e8ea3fad4478": {
      "model_module": "@jupyter-widgets/controls",
      "model_module_version": "1.5.0",
      "model_name": "SliderStyleModel",
      "state": {
       "description_width": ""
      }
     },
     "ba0d08e405e743aa9fc38c0d108f065b": {
      "model_module": "@jupyter-widgets/base",
      "model_module_version": "1.2.0",
      "model_name": "LayoutModel",
      "state": {}
     },
     "ba2927804c224adb95a5bde918123c5b": {
      "model_module": "@jupyter-widgets/controls",
      "model_module_version": "1.5.0",
      "model_name": "CheckboxModel",
      "state": {
       "description": "Auto save",
       "disabled": false,
       "layout": "IPY_MODEL_64f9dc0574df4a11af6125d753e638a4",
       "style": "IPY_MODEL_44ee20673cb54cb197bb19275c2ee931",
       "value": false
      }
     },
     "ba3a3559ee5e49c19408ce2e75b666f1": {
      "model_module": "@jupyter-widgets/base",
      "model_module_version": "1.2.0",
      "model_name": "LayoutModel",
      "state": {}
     },
     "ba5d5391b210400f916720a6327a4648": {
      "model_module": "pgljupyter",
      "model_module_version": "^0.1.19",
      "model_name": "MaterialEditorModel",
      "state": {
       "_model_module_version": "^0.1.19",
       "_view_module_version": "^0.1.19",
       "children": [
        "IPY_MODEL_3e64b59aa9974065a16ce4e79ea27464",
        "IPY_MODEL_56d367a9d5614e55bed35e4d81b7eef8",
        "IPY_MODEL_ed976a91034f48c1a0bd19c114a4740d",
        "IPY_MODEL_630f51ddc6474d56ac2b11c221db9313",
        "IPY_MODEL_64fb29f193384a4e8f752c45b4c4b1ca",
        "IPY_MODEL_9c9faa69b3cc422bacb248629847951b",
        "IPY_MODEL_96b49dfc62ee4b54b6911cc9519f3adf",
        "IPY_MODEL_fef140b17815482fac4c6efc6accb2db"
       ],
       "layout": "IPY_MODEL_4a2ccff224ef48f09723ba6a231d6640"
      }
     },
     "baaa42ae12f948eab87555a7fbda06c9": {
      "model_module": "@jupyter-widgets/controls",
      "model_module_version": "1.5.0",
      "model_name": "HBoxModel",
      "state": {
       "children": [
        "IPY_MODEL_38aff3c9c69e426985154cc4165b3f46",
        "IPY_MODEL_e8ec467c663c43b680bf26b13a9a4041"
       ],
       "layout": "IPY_MODEL_341481874f4a40c88fa0bc3937bf1f74"
      }
     },
     "bac8604d77704199a0f58325e3b25b59": {
      "model_module": "@jupyter-widgets/controls",
      "model_module_version": "1.5.0",
      "model_name": "DescriptionStyleModel",
      "state": {
       "description_width": ""
      }
     },
     "bad4e236bef945b193cd8662cba5516a": {
      "model_module": "@jupyter-widgets/controls",
      "model_module_version": "1.5.0",
      "model_name": "SliderStyleModel",
      "state": {
       "description_width": ""
      }
     },
     "badf1d6936f34af5a14df64809ef893c": {
      "model_module": "@jupyter-widgets/controls",
      "model_module_version": "1.5.0",
      "model_name": "HBoxModel",
      "state": {
       "children": [
        "IPY_MODEL_bdac6d00efda4f16bee09beeff1d0317",
        "IPY_MODEL_1d7324e6216945c694b7879142e82cce"
       ],
       "layout": "IPY_MODEL_6e86329f62f04d64897ff3b96a1bfe58"
      }
     },
     "baf1a60a7c1b4d32906c8ce7421ac654": {
      "model_module": "@jupyter-widgets/controls",
      "model_module_version": "1.5.0",
      "model_name": "ButtonModel",
      "state": {
       "description": "Add",
       "layout": "IPY_MODEL_9c9be4e906924b7ca4fc59cedc2f1e32",
       "style": "IPY_MODEL_8f06c2ae91ad40a682161b87d6e730b4"
      }
     },
     "bb16c1d4c8a841829bfb8da15b3bea9a": {
      "model_module": "@jupyter-widgets/controls",
      "model_module_version": "1.5.0",
      "model_name": "SliderStyleModel",
      "state": {
       "description_width": ""
      }
     },
     "bb79433b06b94630b6f77fbc405d30c3": {
      "model_module": "@jupyter-widgets/base",
      "model_module_version": "1.2.0",
      "model_name": "LayoutModel",
      "state": {}
     },
     "bb92e0f3b2e842e0ab29b1bbcaf44ed8": {
      "model_module": "@jupyter-widgets/controls",
      "model_module_version": "1.5.0",
      "model_name": "ButtonStyleModel",
      "state": {}
     },
     "bba064c217a24b0f9b5d380aaa6fea52": {
      "model_module": "@jupyter-widgets/controls",
      "model_module_version": "1.5.0",
      "model_name": "HBoxModel",
      "state": {
       "children": [
        "IPY_MODEL_7c9ff33ce6ef4aa9ac024f1cf91f4faf",
        "IPY_MODEL_83b3943961434027b9a8d49bdef39171",
        "IPY_MODEL_f78af31ccb8c4fa6988f852a049c17d8",
        "IPY_MODEL_c9bef065e2504444a9ee87abecefe691"
       ],
       "layout": "IPY_MODEL_f54b6bb1cd9047f2913448b18542023e"
      }
     },
     "bbc20920f34a4a74ae6269cb6b203707": {
      "model_module": "@jupyter-widgets/controls",
      "model_module_version": "1.5.0",
      "model_name": "FloatSliderModel",
      "state": {
       "description": "transparency",
       "layout": "IPY_MODEL_ed7d66b5a93a41909abdbcdcb3f73f67",
       "max": 1,
       "step": 0.1,
       "style": "IPY_MODEL_f20f31a04ca646aead57a9fa9a0eab65"
      }
     },
     "bc101f934e6546c8b4a4399a8ff52dd9": {
      "model_module": "@jupyter-widgets/controls",
      "model_module_version": "1.5.0",
      "model_name": "SliderStyleModel",
      "state": {
       "description_width": ""
      }
     },
     "bc2caf9b3fc84da494330dba24816842": {
      "model_module": "@jupyter-widgets/controls",
      "model_module_version": "1.5.0",
      "model_name": "ButtonModel",
      "state": {
       "description": "Delete",
       "layout": "IPY_MODEL_0d8106747f5f4d0a81928341852045a2",
       "style": "IPY_MODEL_3ec386de663b4617bc9f49b851f4ac02"
      }
     },
     "bc4bbf97cace49f2830fcdf2421eabb0": {
      "model_module": "@jupyter-widgets/base",
      "model_module_version": "1.2.0",
      "model_name": "LayoutModel",
      "state": {}
     },
     "bc6a9e91763e4425a42d8b1641580ff4": {
      "model_module": "@jupyter-widgets/controls",
      "model_module_version": "1.5.0",
      "model_name": "TextModel",
      "state": {
       "layout": "IPY_MODEL_8bd7cf6dc07d437190fbda31a59b43c4",
       "placeholder": "category name",
       "style": "IPY_MODEL_768416184c784ccc90f3432b6d9b15da"
      }
     },
     "bc6ff6dbd47e43719f4d3510291ab07c": {
      "model_module": "@jupyter-widgets/base",
      "model_module_version": "1.2.0",
      "model_name": "LayoutModel",
      "state": {}
     },
     "bca351d97c6d48f9814da71e4418e3a3": {
      "model_module": "@jupyter-widgets/base",
      "model_module_version": "1.2.0",
      "model_name": "LayoutModel",
      "state": {}
     },
     "bcb7465a37394dbabd8f197ae65f2662": {
      "model_module": "@jupyter-widgets/base",
      "model_module_version": "1.2.0",
      "model_name": "LayoutModel",
      "state": {}
     },
     "bcb9c01e8d5e4ef6a75414069738d87f": {
      "model_module": "pgljupyter",
      "model_module_version": "^0.1.17",
      "model_name": "FloatEditorModel",
      "state": {
       "_model_module_version": "^0.1.17",
       "_view_module_version": "^0.1.17",
       "children": [
        "IPY_MODEL_da94d7f0e6e045988d94aba69d5be576",
        "IPY_MODEL_c2a6d9ce18fc4ac0bc1a7f90b4c5116c"
       ],
       "layout": "IPY_MODEL_ffc34902c36642e1969fa8c466aeb653"
      }
     },
     "bcf4fc941c344389979acd078603c0fc": {
      "model_module": "@jupyter-widgets/base",
      "model_module_version": "1.2.0",
      "model_name": "LayoutModel",
      "state": {}
     },
     "bcf7fee88c72467fbcc5a469b43e9f92": {
      "model_module": "@jupyter-widgets/base",
      "model_module_version": "1.2.0",
      "model_name": "LayoutModel",
      "state": {}
     },
     "bd21842443764a4e9cfc0fe5e99adc99": {
      "model_module": "@jupyter-widgets/controls",
      "model_module_version": "1.5.0",
      "model_name": "HBoxModel",
      "state": {
       "children": [
        "IPY_MODEL_f2282812a130441eac41b660ee49477d",
        "IPY_MODEL_ba2927804c224adb95a5bde918123c5b"
       ],
       "layout": "IPY_MODEL_62867ab47038465d8944dcad2437cbc9"
      }
     },
     "bd75e9ca86e44f438e2c480a32fa8470": {
      "model_module": "@jupyter-widgets/controls",
      "model_module_version": "1.5.0",
      "model_name": "SliderStyleModel",
      "state": {
       "description_width": ""
      }
     },
     "bd975fbe82284673a970cc17143dddb9": {
      "model_module": "@jupyter-widgets/controls",
      "model_module_version": "1.5.0",
      "model_name": "DropdownModel",
      "state": {
       "_options_labels": [
        "Integer",
        "Float",
        "Bool"
       ],
       "index": 0,
       "layout": "IPY_MODEL_155e496650f34366b813ae47225f42d5",
       "style": "IPY_MODEL_e6991f813efb4b118467f99c0776efcd"
      }
     },
     "bdac6d00efda4f16bee09beeff1d0317": {
      "model_module": "@jupyter-widgets/controls",
      "model_module_version": "1.5.0",
      "model_name": "ButtonModel",
      "state": {
       "description": "Delete",
       "layout": "IPY_MODEL_b8f9b126dfec4211a4b352568394eb93",
       "style": "IPY_MODEL_21dc5393f9364b34b280fae10a6852f9"
      }
     },
     "bdcbb93f812947e88d3b05e0e12e3467": {
      "model_module": "@jupyter-widgets/base",
      "model_module_version": "1.2.0",
      "model_name": "LayoutModel",
      "state": {}
     },
     "bdd912ccd9594f2c93aaed30b1a57ee8": {
      "model_module": "@jupyter-widgets/controls",
      "model_module_version": "1.5.0",
      "model_name": "DropdownModel",
      "state": {
       "index": null,
       "layout": "IPY_MODEL_1e71076b6d304240bdd062f2d5156785",
       "style": "IPY_MODEL_5e9c1818473b44dab49b3d26bf241c9d"
      }
     },
     "be34e970bcfe4196ae35d41580213f9a": {
      "model_module": "@jupyter-widgets/controls",
      "model_module_version": "1.5.0",
      "model_name": "ColorPickerModel",
      "state": {
       "description": "ambient",
       "disabled": false,
       "layout": "IPY_MODEL_1eafac7d519a4739b0a5ec9f2e1a0356",
       "style": "IPY_MODEL_46bb048d9eec4d478fec36bfaa6b5a6b",
       "value": "#195717"
      }
     },
     "be52d9cdb49d41ef9f7664b51577a733": {
      "model_module": "@jupyter-widgets/base",
      "model_module_version": "1.2.0",
      "model_name": "LayoutModel",
      "state": {}
     },
     "be75d5dbdd5641339fe24f8c4f6ca207": {
      "model_module": "@jupyter-widgets/controls",
      "model_module_version": "1.5.0",
      "model_name": "DropdownModel",
      "state": {
       "_options_labels": [
        "NurbsCurve2D",
        "BezierCurve2D",
        "Polyline2D",
        "Function"
       ],
       "index": 0,
       "layout": "IPY_MODEL_62011f6d9ab4417da126fa460c091385",
       "style": "IPY_MODEL_a2c6eda68e01466896e29101678f2ecc"
      }
     },
     "beaddf86b7f44cc299563ba4d42805ac": {
      "model_module": "@jupyter-widgets/controls",
      "model_module_version": "1.5.0",
      "model_name": "ButtonModel",
      "state": {
       "description": "Delete",
       "layout": "IPY_MODEL_25c2402de33e45e390315509afa77feb",
       "style": "IPY_MODEL_8bbd3656628c4c6e8afd4b8861674066"
      }
     },
     "bed12060ceba4494bf43652e512c3823": {
      "model_module": "@jupyter-widgets/controls",
      "model_module_version": "1.5.0",
      "model_name": "TextModel",
      "state": {
       "continuous_update": false,
       "description": "name",
       "layout": "IPY_MODEL_0e592e8a9b8343179820de7ac2999dbb",
       "style": "IPY_MODEL_ca11567bb72b468da1d353634229db6b",
       "value": "trunk"
      }
     },
     "bf0625eebb3744fc8cc55567e985236f": {
      "model_module": "@jupyter-widgets/controls",
      "model_module_version": "1.5.0",
      "model_name": "FloatSliderModel",
      "state": {
       "description": "shininess",
       "layout": "IPY_MODEL_06c676714abc45c2bd668d409b3f913f",
       "max": 1,
       "step": 0.1,
       "style": "IPY_MODEL_dc9722bd3a6e4f1e855fb518b2065abe",
       "value": 0.2
      }
     },
     "bf1fdb5bb36e4e1a926148fdc953e325": {
      "model_module": "@jupyter-widgets/controls",
      "model_module_version": "1.5.0",
      "model_name": "ButtonStyleModel",
      "state": {}
     },
     "bf215b8633cf4c8e9ddb25f302c62afb": {
      "model_module": "@jupyter-widgets/controls",
      "model_module_version": "1.5.0",
      "model_name": "ButtonStyleModel",
      "state": {}
     },
     "bf5f584ba47f4eb58e2144997c9fbd8f": {
      "model_module": "@jupyter-widgets/controls",
      "model_module_version": "1.5.0",
      "model_name": "DescriptionStyleModel",
      "state": {
       "description_width": ""
      }
     },
     "bf9f735211574d32bf9d5fa02ec1e786": {
      "model_module": "@jupyter-widgets/controls",
      "model_module_version": "1.5.0",
      "model_name": "HBoxModel",
      "state": {
       "children": [
        "IPY_MODEL_b1ed67a808ae4d98902e313123dd2c75",
        "IPY_MODEL_e647273f61494efb92b293f226b212ce"
       ],
       "layout": "IPY_MODEL_3423cf0a4514403f822864a725d3fedc"
      }
     },
     "bfa2cd7f0c5143b98b10a45ec7d2d66d": {
      "model_module": "@jupyter-widgets/controls",
      "model_module_version": "1.5.0",
      "model_name": "BoundedIntTextModel",
      "state": {
       "description": "index",
       "layout": "IPY_MODEL_856cb4dc10fd40959afd4f2ed68f4da6",
       "style": "IPY_MODEL_391878e8ba0540f5adaa617056b8dd47",
       "value": 2
      }
     },
     "bfcd0c0f65914aef9be1c321c3bcf1e0": {
      "model_module": "@jupyter-widgets/controls",
      "model_module_version": "1.5.0",
      "model_name": "DescriptionStyleModel",
      "state": {
       "description_width": ""
      }
     },
     "bfcf3e600cd241bc9d5160e197b1e911": {
      "model_module": "@jupyter-widgets/base",
      "model_module_version": "1.2.0",
      "model_name": "LayoutModel",
      "state": {}
     },
     "c0409f72c596451b915072be0153fdf9": {
      "model_module": "@jupyter-widgets/controls",
      "model_module_version": "1.5.0",
      "model_name": "DescriptionStyleModel",
      "state": {
       "description_width": ""
      }
     },
     "c076c7f8110443d8b16ad88e24d4c9c2": {
      "model_module": "@jupyter-widgets/controls",
      "model_module_version": "1.5.0",
      "model_name": "SliderStyleModel",
      "state": {
       "description_width": ""
      }
     },
     "c0a048ed609e4aceb6a259def78278e2": {
      "model_module": "@jupyter-widgets/controls",
      "model_module_version": "1.5.0",
      "model_name": "TextModel",
      "state": {
       "layout": "IPY_MODEL_1b6051bae24c473598c952d51984d1ee",
       "placeholder": "category name",
       "style": "IPY_MODEL_93a5e2d0c70d421d81cf898af8d464df"
      }
     },
     "c0bb2a0d577641b58e46f24746ba8a03": {
      "model_module": "@jupyter-widgets/controls",
      "model_module_version": "1.5.0",
      "model_name": "SliderStyleModel",
      "state": {
       "description_width": ""
      }
     },
     "c0e6e3c25e6e41948722f8a330ddc4e1": {
      "model_module": "@jupyter-widgets/controls",
      "model_module_version": "1.5.0",
      "model_name": "FloatSliderModel",
      "state": {
       "description": "diffuse",
       "layout": "IPY_MODEL_ec128f27e5d548fd89d35f652fb3d014",
       "max": 3,
       "step": 0.1,
       "style": "IPY_MODEL_b9fcc4919c8b40f2a8d2e8ea3fad4478",
       "value": 1
      }
     },
     "c11321e762b3422997689f94db4a71c8": {
      "model_module": "@jupyter-widgets/controls",
      "model_module_version": "1.5.0",
      "model_name": "ColorPickerModel",
      "state": {
       "description": "emission",
       "disabled": false,
       "layout": "IPY_MODEL_382ba098f6cc4adf8bfb135a9de7b6d8",
       "style": "IPY_MODEL_0ce5322222f04cda8b64b0849f810223",
       "value": "#000000"
      }
     },
     "c120885553c04d129fd38676ed6234d2": {
      "model_module": "@jupyter-widgets/controls",
      "model_module_version": "1.5.0",
      "model_name": "DescriptionStyleModel",
      "state": {
       "description_width": ""
      }
     },
     "c16429a9bfff45a981471a788dca62c2": {
      "model_module": "@jupyter-widgets/controls",
      "model_module_version": "1.5.0",
      "model_name": "FloatSliderModel",
      "state": {
       "description": "shininess",
       "layout": "IPY_MODEL_ecd6712976814a878c2eb22824a5e5e9",
       "max": 1,
       "step": 0.1,
       "style": "IPY_MODEL_6a96352f36b9452bba44e1ee4b108426",
       "value": 0.2
      }
     },
     "c1729e1e6a704ee9982e5f868755dfc6": {
      "model_module": "@jupyter-widgets/controls",
      "model_module_version": "1.5.0",
      "model_name": "DescriptionStyleModel",
      "state": {
       "description_width": ""
      }
     },
     "c190a593c1ed4ea199fb8b572fe94562": {
      "model_module": "@jupyter-widgets/controls",
      "model_module_version": "1.5.0",
      "model_name": "DescriptionStyleModel",
      "state": {
       "description_width": ""
      }
     },
     "c1a7e756fd674170a661ab6dcc62f7a9": {
      "model_module": "@jupyter-widgets/controls",
      "model_module_version": "1.5.0",
      "model_name": "FloatSliderModel",
      "state": {
       "description": "diffuse",
       "layout": "IPY_MODEL_f8b573f681b34435b46c31918778cf1a",
       "max": 3,
       "step": 0.1,
       "style": "IPY_MODEL_dbf29d67c32f4897a7101f3492b6f2df",
       "value": 1
      }
     },
     "c1f8e654bd764ed1b77cc56f2508694d": {
      "model_module": "@jupyter-widgets/controls",
      "model_module_version": "1.5.0",
      "model_name": "DescriptionStyleModel",
      "state": {
       "description_width": ""
      }
     },
     "c215c775706940698bf97b3b703c91da": {
      "model_module": "@jupyter-widgets/controls",
      "model_module_version": "1.5.0",
      "model_name": "ColorPickerModel",
      "state": {
       "description": "emission",
       "disabled": false,
       "layout": "IPY_MODEL_59e6e480e2f044e3973bd8d2328b0a68",
       "style": "IPY_MODEL_2f7bae47a5d04c279483d29ce1fb515d",
       "value": "#000000"
      }
     },
     "c25725e9ed4543cba7cfc3aee18d110d": {
      "model_module": "@jupyter-widgets/controls",
      "model_module_version": "1.5.0",
      "model_name": "DescriptionStyleModel",
      "state": {
       "description_width": ""
      }
     },
     "c2578ef26c0743838357a06ac7dbb03e": {
      "model_module": "@jupyter-widgets/base",
      "model_module_version": "1.2.0",
      "model_name": "LayoutModel",
      "state": {}
     },
     "c29fffdc637c4b74935a820089942936": {
      "model_module": "@jupyter-widgets/controls",
      "model_module_version": "1.5.0",
      "model_name": "HBoxModel",
      "state": {
       "children": [
        "IPY_MODEL_d9b886e295724cc9a420de8dcc17e338",
        "IPY_MODEL_7f28069d37a34840971aedd32085c8f9"
       ],
       "layout": "IPY_MODEL_a2e0faf740134dcb8588672a0eb3e8d8"
      }
     },
     "c2a6d9ce18fc4ac0bc1a7f90b4c5116c": {
      "model_module": "@jupyter-widgets/controls",
      "model_module_version": "1.5.0",
      "model_name": "FloatSliderModel",
      "state": {
       "description": "value",
       "layout": "IPY_MODEL_6c671f207c164abd949a12ac8032908b",
       "max": 0.1,
       "min": 0.01,
       "step": 0.01,
       "style": "IPY_MODEL_6313452555004e3e8cd4af4b429d6c81",
       "value": 0.02
      }
     },
     "c2be0d36854f4826b190f2aef55fd686": {
      "model_module": "@jupyter-widgets/controls",
      "model_module_version": "1.5.0",
      "model_name": "ButtonModel",
      "state": {
       "description": "Delete",
       "layout": "IPY_MODEL_29cf0466a11e48fc973f7029133b4c1c",
       "style": "IPY_MODEL_557b13d22d9c4523aede128ecebc8ac7"
      }
     },
     "c2c1faa3a7104893aba1b9a986c72e7f": {
      "model_module": "@jupyter-widgets/controls",
      "model_module_version": "1.5.0",
      "model_name": "TabModel",
      "state": {
       "layout": "IPY_MODEL_0e698e6988a94950922b8014c320bdf8"
      }
     },
     "c2ea397318574d91a49746ced9e8db1a": {
      "model_module": "@jupyter-widgets/base",
      "model_module_version": "1.2.0",
      "model_name": "LayoutModel",
      "state": {}
     },
     "c30638fef6f54cf1961713315e8da2f9": {
      "model_module": "@jupyter-widgets/controls",
      "model_module_version": "1.5.0",
      "model_name": "DescriptionStyleModel",
      "state": {
       "description_width": ""
      }
     },
     "c309dadcba5d4757ad170bafede09c29": {
      "model_module": "pgljupyter",
      "model_module_version": "^0.1.17",
      "model_name": "MaterialEditorModel",
      "state": {
       "_model_module_version": "^0.1.17",
       "_view_module_version": "^0.1.17",
       "children": [
        "IPY_MODEL_243831084f114d97bd1e5d3e35197ff6",
        "IPY_MODEL_de26906445994c7e8243365b107e8044",
        "IPY_MODEL_f958a1e7a32245119bf98c95905da1a2",
        "IPY_MODEL_70dda571646341ceb6f35058be924baf",
        "IPY_MODEL_c0e6e3c25e6e41948722f8a330ddc4e1",
        "IPY_MODEL_ae72d17e3fb94a56a3727653a69248a4",
        "IPY_MODEL_2249a5a5d0f24085af3136bbb4f3f425"
       ],
       "layout": "IPY_MODEL_134a756a9b454b73bb8ed6d12d756e98"
      }
     },
     "c32f6b4c4d3c4559935e3f52d16dc798": {
      "model_module": "@jupyter-widgets/base",
      "model_module_version": "1.2.0",
      "model_name": "LayoutModel",
      "state": {}
     },
     "c361327190724646be840782bc716cef": {
      "model_module": "@jupyter-widgets/controls",
      "model_module_version": "1.5.0",
      "model_name": "VBoxModel",
      "state": {
       "children": [
        "IPY_MODEL_0df3c48cd89940ce80485ec6fb57722c",
        "IPY_MODEL_e24becef77854391b6cd6c67e04932e8"
       ],
       "layout": "IPY_MODEL_eb11e6bb87f04e778a49e0a3916ee734"
      }
     },
     "c3c827131f134d53a63ac1630295a9db": {
      "model_module": "@jupyter-widgets/controls",
      "model_module_version": "1.5.0",
      "model_name": "ColorPickerModel",
      "state": {
       "description": "specular",
       "disabled": false,
       "layout": "IPY_MODEL_47fb3c80b04646738a440b8943ebe585",
       "style": "IPY_MODEL_d9fed144986740a4aebc4a2d4217ab60",
       "value": "#282828"
      }
     },
     "c3f4c1f812d844ea9207b9e5e852348d": {
      "model_module": "@jupyter-widgets/controls",
      "model_module_version": "1.5.0",
      "model_name": "ColorPickerModel",
      "state": {
       "description": "specular",
       "disabled": false,
       "layout": "IPY_MODEL_c9f408cad5994e8ab4dbb398970c8e82",
       "style": "IPY_MODEL_a9cadb58b2d74d899f90724daa0dbc03",
       "value": "#282828"
      }
     },
     "c43e0238c1ef4e7c983ad07ad7529348": {
      "model_module": "@jupyter-widgets/base",
      "model_module_version": "1.2.0",
      "model_name": "LayoutModel",
      "state": {}
     },
     "c47d49a7c60647cb85c5eb15764ce0cf": {
      "model_module": "@jupyter-widgets/base",
      "model_module_version": "1.2.0",
      "model_name": "LayoutModel",
      "state": {}
     },
     "c48e782f1bef445e9f2d0c4e1632f795": {
      "model_module": "@jupyter-widgets/base",
      "model_module_version": "1.2.0",
      "model_name": "LayoutModel",
      "state": {}
     },
     "c4ed48b837534de7b3ebc8b317ef0a11": {
      "model_module": "@jupyter-widgets/controls",
      "model_module_version": "1.5.0",
      "model_name": "DescriptionStyleModel",
      "state": {
       "description_width": ""
      }
     },
     "c54dbf897e88456f9d68e9e0b6f32806": {
      "model_module": "@jupyter-widgets/controls",
      "model_module_version": "1.5.0",
      "model_name": "DescriptionStyleModel",
      "state": {
       "description_width": ""
      }
     },
     "c5ef80a74b76476ab2ab7654fd9a2aae": {
      "model_module": "@jupyter-widgets/controls",
      "model_module_version": "1.5.0",
      "model_name": "TextModel",
      "state": {
       "continuous_update": false,
       "description": "name",
       "layout": "IPY_MODEL_8ebbdf1fb8e54a828e60d7ac7f9605d3",
       "style": "IPY_MODEL_0098827af4e640a7995f79067eabb137",
       "value": "maxorder"
      }
     },
     "c668486775d54df3a202a26b6d1a94af": {
      "model_module": "@jupyter-widgets/base",
      "model_module_version": "1.2.0",
      "model_name": "LayoutModel",
      "state": {}
     },
     "c670633e3aa5429fb74ad03495d1835c": {
      "model_module": "@jupyter-widgets/controls",
      "model_module_version": "1.5.0",
      "model_name": "HBoxModel",
      "state": {
       "children": [
        "IPY_MODEL_d00d708bc83a43c486f075d9361c9002",
        "IPY_MODEL_ec264ee7c2014d25b4a56adf37235cd5"
       ],
       "layout": "IPY_MODEL_9b28113ac4cf4246b8f51027152a28ae"
      }
     },
     "c68f788cbf434b1b86545d771587773e": {
      "model_module": "@jupyter-widgets/base",
      "model_module_version": "1.2.0",
      "model_name": "LayoutModel",
      "state": {}
     },
     "c6a591bed4c246eaa6f122a5fb74d701": {
      "model_module": "@jupyter-widgets/base",
      "model_module_version": "1.2.0",
      "model_name": "LayoutModel",
      "state": {}
     },
     "c70724b373544707a8ceb6ea34ead215": {
      "model_module": "@jupyter-widgets/base",
      "model_module_version": "1.2.0",
      "model_name": "LayoutModel",
      "state": {}
     },
     "c737fed3f4b647319d521b5a01ed5013": {
      "model_module": "@jupyter-widgets/base",
      "model_module_version": "1.2.0",
      "model_name": "LayoutModel",
      "state": {}
     },
     "c7ce13c027424623b6f2e99ab754ce1b": {
      "model_module": "@jupyter-widgets/controls",
      "model_module_version": "1.5.0",
      "model_name": "ButtonStyleModel",
      "state": {}
     },
     "c7ea2a8eaf6f4fd6ba043daec10a8f1a": {
      "model_module": "@jupyter-widgets/base",
      "model_module_version": "1.2.0",
      "model_name": "LayoutModel",
      "state": {}
     },
     "c7f7b7c639f04c7a812a812bc95f2f4a": {
      "model_module": "@jupyter-widgets/controls",
      "model_module_version": "1.5.0",
      "model_name": "ButtonStyleModel",
      "state": {}
     },
     "c7fdf9479d19465286070c71ea3e9462": {
      "model_module": "@jupyter-widgets/controls",
      "model_module_version": "1.5.0",
      "model_name": "SliderStyleModel",
      "state": {
       "description_width": ""
      }
     },
     "c84fe53e0e9a4df391e82723c5e179d5": {
      "model_module": "@jupyter-widgets/controls",
      "model_module_version": "1.5.0",
      "model_name": "SliderStyleModel",
      "state": {
       "description_width": ""
      }
     },
     "c86dfb91c7754e40aff8205f0595f499": {
      "model_module": "@jupyter-widgets/controls",
      "model_module_version": "1.5.0",
      "model_name": "FloatSliderModel",
      "state": {
       "description": "shininess",
       "layout": "IPY_MODEL_2c2396952b064b95b30ec4636f7a5104",
       "max": 1,
       "step": 0.1,
       "style": "IPY_MODEL_0fbcef905dc549ebb51d1bcd20ade1b3",
       "value": 0.2
      }
     },
     "c874010bc6f24cc38736c49375396273": {
      "model_module": "@jupyter-widgets/controls",
      "model_module_version": "1.5.0",
      "model_name": "FloatSliderModel",
      "state": {
       "description": "shininess",
       "layout": "IPY_MODEL_7a33b0c7ad914ade99bfb96985353f2e",
       "max": 1,
       "step": 0.1,
       "style": "IPY_MODEL_96760736adb540eab397a4254d806359",
       "value": 0.2
      }
     },
     "c87de82df61849479c94ddeef1b62236": {
      "model_module": "@jupyter-widgets/controls",
      "model_module_version": "1.5.0",
      "model_name": "TabModel",
      "state": {
       "_titles": {
        "0": "leuwenberg.json"
       },
       "children": [
        "IPY_MODEL_855e56574bc4405fb85a9d92a7326cfa"
       ],
       "layout": "IPY_MODEL_769de7cf8d7e429d8f80a5713fb7ebfa"
      }
     },
     "c885c505f74c4f13b9663c38cb480f8a": {
      "model_module": "@jupyter-widgets/base",
      "model_module_version": "1.2.0",
      "model_name": "LayoutModel",
      "state": {}
     },
     "c8ca31ca5bd148e6a5aa1524e6d99e3f": {
      "model_module": "@jupyter-widgets/controls",
      "model_module_version": "1.5.0",
      "model_name": "DescriptionStyleModel",
      "state": {
       "description_width": ""
      }
     },
     "c8d3f70598d54c238929a83e3bcb3334": {
      "model_module": "@jupyter-widgets/controls",
      "model_module_version": "1.5.0",
      "model_name": "DescriptionStyleModel",
      "state": {
       "description_width": ""
      }
     },
     "c908184eb23d4c2496f39acbf94a858a": {
      "model_module": "@jupyter-widgets/base",
      "model_module_version": "1.2.0",
      "model_name": "LayoutModel",
      "state": {}
     },
     "c92b975754c040e5b82b402ea1415e65": {
      "model_module": "@jupyter-widgets/controls",
      "model_module_version": "1.5.0",
      "model_name": "ColorPickerModel",
      "state": {
       "description": "specular",
       "disabled": false,
       "layout": "IPY_MODEL_896ad6ec098a405a80ae6f82cca58a0c",
       "style": "IPY_MODEL_ed9c4819f169408997cc14e89f892d4d",
       "value": "#282828"
      }
     },
     "c9403f1b437748eaa3f2b265b7d6eaa2": {
      "model_module": "@jupyter-widgets/controls",
      "model_module_version": "1.5.0",
      "model_name": "ColorPickerModel",
      "state": {
       "description": "ambient",
       "disabled": false,
       "layout": "IPY_MODEL_cef95e99bff14a7892ad7b7e082815a3",
       "style": "IPY_MODEL_5631cbab764947158f1da6a147458613",
       "value": "#e1a014"
      }
     },
     "c989202804bb452e8cb9723017e5f6c3": {
      "model_module": "@jupyter-widgets/base",
      "model_module_version": "1.2.0",
      "model_name": "LayoutModel",
      "state": {}
     },
     "c9baeb3cc9b94afca6784ad73de3b963": {
      "model_module": "@jupyter-widgets/base",
      "model_module_version": "1.2.0",
      "model_name": "LayoutModel",
      "state": {
       "margin": "20px 0px"
      }
     },
     "c9bef065e2504444a9ee87abecefe691": {
      "model_module": "pgljupyter",
      "model_module_version": "^0.1.18",
      "model_name": "MaterialEditorModel",
      "state": {
       "_model_module_version": "^0.1.18",
       "_view_module_version": "^0.1.18",
       "children": [
        "IPY_MODEL_de319ccb71084e70b9dbfd5cfb7f274a",
        "IPY_MODEL_7c0c38291061419390dbeba93ef4ef19",
        "IPY_MODEL_c9403f1b437748eaa3f2b265b7d6eaa2",
        "IPY_MODEL_b336f9abf432475a859c3a01ea152da7",
        "IPY_MODEL_3e44ac9e61c14a0f9579e3363460f583",
        "IPY_MODEL_60b6d845ad24428db8160a19a54d242d",
        "IPY_MODEL_d64b99f37a81429489c488b69a00175d",
        "IPY_MODEL_cf824a36611440baadda6efc8be404cc"
       ],
       "layout": "IPY_MODEL_ad770f779d7142d692b8057c7c5825cf"
      }
     },
     "c9e51a7855744cacbf121c9bb896cf32": {
      "model_module": "@jupyter-widgets/base",
      "model_module_version": "1.2.0",
      "model_name": "LayoutModel",
      "state": {}
     },
     "c9ee8ed99d854415b137aeef8b399bf7": {
      "model_module": "@jupyter-widgets/controls",
      "model_module_version": "1.5.0",
      "model_name": "DescriptionStyleModel",
      "state": {
       "description_width": ""
      }
     },
     "c9f408cad5994e8ab4dbb398970c8e82": {
      "model_module": "@jupyter-widgets/base",
      "model_module_version": "1.2.0",
      "model_name": "LayoutModel",
      "state": {}
     },
     "ca048b3e6ffe42779d97a92813a975b0": {
      "model_module": "@jupyter-widgets/controls",
      "model_module_version": "1.5.0",
      "model_name": "BoundedIntTextModel",
      "state": {
       "description": "index",
       "layout": "IPY_MODEL_efecd650a0b549cfb8d04768a7af3883",
       "style": "IPY_MODEL_1eb0713d17fb4a92b6d7cfab6060154c",
       "value": 1
      }
     },
     "ca11567bb72b468da1d353634229db6b": {
      "model_module": "@jupyter-widgets/controls",
      "model_module_version": "1.5.0",
      "model_name": "DescriptionStyleModel",
      "state": {
       "description_width": ""
      }
     },
     "ca31eefba9934ba0853aeee9ed1c6164": {
      "model_module": "@jupyter-widgets/controls",
      "model_module_version": "1.5.0",
      "model_name": "DescriptionStyleModel",
      "state": {
       "description_width": ""
      }
     },
     "ca53e0658bf34086ba83cddc03f09176": {
      "model_module": "@jupyter-widgets/controls",
      "model_module_version": "1.5.0",
      "model_name": "SliderStyleModel",
      "state": {
       "description_width": ""
      }
     },
     "ca93be8a390a4842a5a88b86b5f0c740": {
      "model_module": "@jupyter-widgets/controls",
      "model_module_version": "1.5.0",
      "model_name": "IntSliderModel",
      "state": {
       "description": "value",
       "layout": "IPY_MODEL_3ba3327a9ad340168a7a06f365fdced1",
       "max": 10,
       "min": 1,
       "style": "IPY_MODEL_1adccbe353a046ea9bf4ed81f2cba08d",
       "value": 3
      }
     },
     "cb43d93a31474ef68c27ec960b1e17ad": {
      "model_module": "@jupyter-widgets/base",
      "model_module_version": "1.2.0",
      "model_name": "LayoutModel",
      "state": {}
     },
     "cb7d447aaf2c4c759979e1f891e6d461": {
      "model_module": "@jupyter-widgets/controls",
      "model_module_version": "1.5.0",
      "model_name": "ColorPickerModel",
      "state": {
       "description": "emission",
       "disabled": false,
       "layout": "IPY_MODEL_455f8aeaffa441bf93d43f30ccfb8f01",
       "style": "IPY_MODEL_80486992e7b749219293ac12cc88f982",
       "value": "#000000"
      }
     },
     "cb8ca0e6e0eb421686668ef1c62fece3": {
      "model_module": "@jupyter-widgets/base",
      "model_module_version": "1.2.0",
      "model_name": "LayoutModel",
      "state": {}
     },
     "cbb885bb9b4c46c4a535abf50628efc5": {
      "model_module": "@jupyter-widgets/controls",
      "model_module_version": "1.5.0",
      "model_name": "HBoxModel",
      "state": {
       "layout": "IPY_MODEL_964212339a614dc4b244dd85464c155d"
      }
     },
     "cbc8b4e533c94b8597e45a4ac84149b8": {
      "model_module": "@jupyter-widgets/controls",
      "model_module_version": "1.5.0",
      "model_name": "DropdownModel",
      "state": {
       "_options_labels": [
        "leafduration",
        "leafold",
        "maxorder",
        "radinc",
        "nb_axes"
       ],
       "index": 0,
       "layout": "IPY_MODEL_b8d47ef44074438281319294176af51b",
       "style": "IPY_MODEL_5952c0e964b14034832f8d689c94cd56"
      }
     },
     "cbdaf49adba648288d71c4ee0c85a46d": {
      "model_module": "@jupyter-widgets/controls",
      "model_module_version": "1.5.0",
      "model_name": "ButtonModel",
      "state": {
       "description": "Delete",
       "layout": "IPY_MODEL_e996a0616fe3456f83d3a47b2d6444d3",
       "style": "IPY_MODEL_e0b543b076714cf5958478e4889a5cb7"
      }
     },
     "cc14692e35cc4df3a41f6c4a0b9ab26e": {
      "model_module": "@jupyter-widgets/controls",
      "model_module_version": "1.5.0",
      "model_name": "SliderStyleModel",
      "state": {
       "description_width": ""
      }
     },
     "cc25751e00dd443fb5153b58575d586f": {
      "model_module": "@jupyter-widgets/controls",
      "model_module_version": "1.5.0",
      "model_name": "ButtonStyleModel",
      "state": {}
     },
     "cc343dc00b354cd18fece388a4875e4c": {
      "model_module": "pgljupyter",
      "model_module_version": "^0.1.18",
      "model_name": "IntEditorModel",
      "state": {
       "_model_module_version": "^0.1.18",
       "_view_module_version": "^0.1.18",
       "children": [
        "IPY_MODEL_902e29cc535749e796ee3a937c3dfd21",
        "IPY_MODEL_cf70e5ab01a742c8abccfa36d455b40f"
       ],
       "layout": "IPY_MODEL_fe3f4751df8748c2bbaad9e702ecd866"
      }
     },
     "cc6d0e94c93b4978adf6227cfb533d2c": {
      "model_module": "@jupyter-widgets/controls",
      "model_module_version": "1.5.0",
      "model_name": "DescriptionStyleModel",
      "state": {
       "description_width": ""
      }
     },
     "cca2bc234f7546b6ab053ec14a62865d": {
      "model_module": "pgljupyter",
      "model_module_version": "^0.1.17",
      "model_name": "IntEditorModel",
      "state": {
       "_model_module_version": "^0.1.17",
       "_view_module_version": "^0.1.17",
       "children": [
        "IPY_MODEL_c5ef80a74b76476ab2ab7654fd9a2aae",
        "IPY_MODEL_683514619a284a17be83f3e12928bc6a"
       ],
       "layout": "IPY_MODEL_35888e4f3f5048409ae7317289d152bd"
      }
     },
     "ccb212c6dfcc4c1d92cc6abceb4d2737": {
      "model_module": "@jupyter-widgets/controls",
      "model_module_version": "1.5.0",
      "model_name": "HBoxModel",
      "state": {
       "children": [
        "IPY_MODEL_5ccfe2f5d1bc472faf8aa7f50bf0ab1d",
        "IPY_MODEL_49d68010fc084f1ebd5a1e73fb6c31af",
        "IPY_MODEL_e3e60ccbc1cb456a81c849bf7a485b87",
        "IPY_MODEL_87914f94bb81462d992aeaaef5f740be"
       ],
       "layout": "IPY_MODEL_8d56c586bca3464d8c5cb36ae761ba46"
      }
     },
     "ccd2ea5a8e31427bb33242becf4077fa": {
      "model_module": "@jupyter-widgets/base",
      "model_module_version": "1.2.0",
      "model_name": "LayoutModel",
      "state": {}
     },
     "cce99130437343edbb73e295b4bb4a02": {
      "model_module": "@jupyter-widgets/controls",
      "model_module_version": "1.5.0",
      "model_name": "DropdownModel",
      "state": {
       "index": null,
       "layout": "IPY_MODEL_814dac1493d8493abe1be47f92709960",
       "style": "IPY_MODEL_e1a057438d6b4569b6ab77b9fa61b360"
      }
     },
     "ccf0f2ce22544625b858407af5c61f95": {
      "model_module": "@jupyter-widgets/base",
      "model_module_version": "1.2.0",
      "model_name": "LayoutModel",
      "state": {}
     },
     "cd1d503025f94455898cda591460f5da": {
      "model_module": "@jupyter-widgets/controls",
      "model_module_version": "1.5.0",
      "model_name": "DropdownModel",
      "state": {
       "_options_labels": [
        "NurbsCurve2D",
        "BezierCurve2D",
        "Polyline2D",
        "Function"
       ],
       "index": 0,
       "layout": "IPY_MODEL_3761ab3b962b4bdc83a0b5c3edaaf2f4",
       "style": "IPY_MODEL_ec565a4c65ef47b7b5c481d2e487b68f"
      }
     },
     "cd7bfb5080ac406ca64676e932e517e1": {
      "model_module": "@jupyter-widgets/controls",
      "model_module_version": "1.5.0",
      "model_name": "ButtonModel",
      "state": {
       "description": "Delete",
       "layout": "IPY_MODEL_4b7afeaad0934ef3b8ed7e9d8d2cd9c9",
       "style": "IPY_MODEL_f10e1a78bef24b7a80af155ce5e761cd"
      }
     },
     "cd863832ae4f4c2a9fb4238d4fe72b7d": {
      "model_module": "@jupyter-widgets/controls",
      "model_module_version": "1.5.0",
      "model_name": "IntTextModel",
      "state": {
       "description": "min",
       "layout": "IPY_MODEL_67c7aedfc8f04a9bb8e92c4fbabb0fa3",
       "step": 1,
       "style": "IPY_MODEL_15cc82a7eb6848f88869d829430b0385",
       "value": 1
      }
     },
     "cdf37350d48b41aa95e2f22bc8635d1f": {
      "model_module": "@jupyter-widgets/base",
      "model_module_version": "1.2.0",
      "model_name": "LayoutModel",
      "state": {
       "margin": "20px 0px"
      }
     },
     "ce0fb06d58634cb9b41ec68d1e1dc70d": {
      "model_module": "@jupyter-widgets/controls",
      "model_module_version": "1.5.0",
      "model_name": "TextModel",
      "state": {
       "continuous_update": false,
       "description": "name",
       "layout": "IPY_MODEL_6f1858b8e9c6421b9b4fe2362c1009c7",
       "style": "IPY_MODEL_ca31eefba9934ba0853aeee9ed1c6164",
       "value": "leaf_new"
      }
     },
     "ce2ea4fd167e4cb2b2f137651b8ac0c7": {
      "model_module": "@jupyter-widgets/controls",
      "model_module_version": "1.5.0",
      "model_name": "SliderStyleModel",
      "state": {
       "description_width": ""
      }
     },
     "ce7e6e96ec964535b8172165fd984f5a": {
      "model_module": "@jupyter-widgets/controls",
      "model_module_version": "1.5.0",
      "model_name": "ButtonStyleModel",
      "state": {}
     },
     "ce95b26aa02f45a485c1255eae9a21fa": {
      "model_module": "@jupyter-widgets/controls",
      "model_module_version": "1.5.0",
      "model_name": "SliderStyleModel",
      "state": {
       "description_width": ""
      }
     },
     "cec3e99efbcc48f4949ee3f961d09c72": {
      "model_module": "@jupyter-widgets/controls",
      "model_module_version": "1.5.0",
      "model_name": "DescriptionStyleModel",
      "state": {
       "description_width": ""
      }
     },
     "cef95e99bff14a7892ad7b7e082815a3": {
      "model_module": "@jupyter-widgets/base",
      "model_module_version": "1.2.0",
      "model_name": "LayoutModel",
      "state": {}
     },
     "cf2d00fcb37046cca0b8754d884949a8": {
      "model_module": "@jupyter-widgets/controls",
      "model_module_version": "1.5.0",
      "model_name": "IntSliderModel",
      "state": {
       "description": "value",
       "layout": "IPY_MODEL_440acb6e8011430aa874cae6aefacb36",
       "max": 10,
       "min": 1,
       "style": "IPY_MODEL_88f3d087a0de45da8bfd2c33963d9fb3",
       "value": 5
      }
     },
     "cf673dfbe5eb413c96fdeb2659cfc128": {
      "model_module": "@jupyter-widgets/controls",
      "model_module_version": "1.5.0",
      "model_name": "SliderStyleModel",
      "state": {
       "description_width": ""
      }
     },
     "cf70e5ab01a742c8abccfa36d455b40f": {
      "model_module": "@jupyter-widgets/controls",
      "model_module_version": "1.5.0",
      "model_name": "IntSliderModel",
      "state": {
       "description": "value",
       "layout": "IPY_MODEL_4c0cd242021b4387b84906f781be597f",
       "max": 5,
       "min": 1,
       "style": "IPY_MODEL_83eb13eb355a4ed79a83c524a5fe5344",
       "value": 4
      }
     },
     "cf824a36611440baadda6efc8be404cc": {
      "model_module": "@jupyter-widgets/controls",
      "model_module_version": "1.5.0",
      "model_name": "FloatSliderModel",
      "state": {
       "description": "shininess",
       "layout": "IPY_MODEL_1841107c669d487a88dba8bee46180f8",
       "max": 1,
       "step": 0.1,
       "style": "IPY_MODEL_228bc3eabbcd41b0903a627cadc7111d",
       "value": 0.2
      }
     },
     "cffb33bebb154befa460f5be28ee06de": {
      "model_module": "@jupyter-widgets/base",
      "model_module_version": "1.2.0",
      "model_name": "LayoutModel",
      "state": {}
     },
     "cffe896bba6b4be9a72a337ec2eeabfd": {
      "model_module": "@jupyter-widgets/base",
      "model_module_version": "1.2.0",
      "model_name": "LayoutModel",
      "state": {}
     },
     "d007a3afb7ef4e6ab1691e067fa2adc5": {
      "model_module": "@jupyter-widgets/base",
      "model_module_version": "1.2.0",
      "model_name": "LayoutModel",
      "state": {}
     },
     "d00d708bc83a43c486f075d9361c9002": {
      "model_module": "@jupyter-widgets/controls",
      "model_module_version": "1.5.0",
      "model_name": "ButtonModel",
      "state": {
       "description": "Delete",
       "layout": "IPY_MODEL_ccf0f2ce22544625b858407af5c61f95",
       "style": "IPY_MODEL_bf215b8633cf4c8e9ddb25f302c62afb"
      }
     },
     "d015b65324534f50aa5675640c1f43ab": {
      "model_module": "@jupyter-widgets/controls",
      "model_module_version": "1.5.0",
      "model_name": "HBoxModel",
      "state": {
       "children": [
        "IPY_MODEL_acb4f93525d14ffabe3e2bba3cae48a6",
        "IPY_MODEL_133803d2a9f74591a327cf95a74cdd6a"
       ],
       "layout": "IPY_MODEL_5a6aab1bb709492da4f69389f9069c24"
      }
     },
     "d03612b14f984819821e89add2e8abfb": {
      "model_module": "@jupyter-widgets/base",
      "model_module_version": "1.2.0",
      "model_name": "LayoutModel",
      "state": {}
     },
     "d0a6d8e803054098abe932e3805dde62": {
      "model_module": "@jupyter-widgets/base",
      "model_module_version": "1.2.0",
      "model_name": "LayoutModel",
      "state": {}
     },
     "d10a3a68a0474f01aa5b6d5cfdb8ebe8": {
      "model_module": "@jupyter-widgets/controls",
      "model_module_version": "1.5.0",
      "model_name": "FloatSliderModel",
      "state": {
       "description": "transparency",
       "layout": "IPY_MODEL_c47d49a7c60647cb85c5eb15764ce0cf",
       "max": 1,
       "step": 0.1,
       "style": "IPY_MODEL_33df28684ad348f5b03827854e48c752"
      }
     },
     "d10f09db7b844047b372a716b8a9dd49": {
      "model_module": "@jupyter-widgets/controls",
      "model_module_version": "1.5.0",
      "model_name": "SliderStyleModel",
      "state": {
       "description_width": ""
      }
     },
     "d152ff0131e44467aa1643fe2974e1b9": {
      "model_module": "@jupyter-widgets/controls",
      "model_module_version": "1.5.0",
      "model_name": "DescriptionStyleModel",
      "state": {
       "description_width": ""
      }
     },
     "d17ee3bf95d444e6a5dc0e77911f5b59": {
      "model_module": "@jupyter-widgets/controls",
      "model_module_version": "1.5.0",
      "model_name": "ColorPickerModel",
      "state": {
       "description": "specular",
       "disabled": false,
       "layout": "IPY_MODEL_0af1bb03cbd844ea9bfc0d9b864d0f8d",
       "style": "IPY_MODEL_64f0f3be71ea49f6b0bf5f7a3382814b",
       "value": "#282828"
      }
     },
     "d18e48c309db4852aa5cdc3da1012b6e": {
      "model_module": "@jupyter-widgets/base",
      "model_module_version": "1.2.0",
      "model_name": "LayoutModel",
      "state": {}
     },
     "d1e4b02c15bb44948c22e7d933636530": {
      "model_module": "@jupyter-widgets/controls",
      "model_module_version": "1.5.0",
      "model_name": "TextModel",
      "state": {
       "layout": "IPY_MODEL_82ee84b51f34452cb28a4d5fbd6a6bec",
       "placeholder": "category name",
       "style": "IPY_MODEL_b70440f46d284109b251b83b4efe6e79"
      }
     },
     "d1f553a8e0e14ca8939fd7facfe7bdd0": {
      "model_module": "@jupyter-widgets/controls",
      "model_module_version": "1.5.0",
      "model_name": "BoundedIntTextModel",
      "state": {
       "description": "index",
       "layout": "IPY_MODEL_65bee35e74e7441d98cbdeb5de6d8221",
       "style": "IPY_MODEL_113da8bbf28f4da4a88ba0f9cabd4ebb",
       "value": 2
      }
     },
     "d24455fb0aa04c15978bcf82f484ec0d": {
      "model_module": "@jupyter-widgets/controls",
      "model_module_version": "1.5.0",
      "model_name": "FloatSliderModel",
      "state": {
       "description": "shininess",
       "layout": "IPY_MODEL_89e834b8c10e40a390db5fd0665c3d45",
       "max": 1,
       "step": 0.1,
       "style": "IPY_MODEL_b0e8fa40069c4769bfca38d467a34243",
       "value": 0.2
      }
     },
     "d24ed236d364492488ac20992dc448f3": {
      "model_module": "@jupyter-widgets/controls",
      "model_module_version": "1.5.0",
      "model_name": "SliderStyleModel",
      "state": {
       "description_width": ""
      }
     },
     "d2f53457da264365a8ca7a5c85a6b381": {
      "model_module": "@jupyter-widgets/controls",
      "model_module_version": "1.5.0",
      "model_name": "ColorPickerModel",
      "state": {
       "description": "emission",
       "disabled": false,
       "layout": "IPY_MODEL_d7b73a835c6a400fa37fb014990bed66",
       "style": "IPY_MODEL_f0677d8a64674b559e7f258cf8fa5541",
       "value": "#000000"
      }
     },
     "d30ebfc6c53341ae9babc1bd412860bb": {
      "model_module": "@jupyter-widgets/controls",
      "model_module_version": "1.5.0",
      "model_name": "DescriptionStyleModel",
      "state": {
       "description_width": ""
      }
     },
     "d323d6b67e114f9199d968a403d35954": {
      "model_module": "@jupyter-widgets/base",
      "model_module_version": "1.2.0",
      "model_name": "LayoutModel",
      "state": {}
     },
     "d3295221ce1f424ebee2f857573f74f6": {
      "model_module": "@jupyter-widgets/controls",
      "model_module_version": "1.5.0",
      "model_name": "DropdownModel",
      "state": {
       "_options_labels": [
        "NurbsCurve2D",
        "BezierCurve2D",
        "Polyline2D",
        "Function"
       ],
       "index": 0,
       "layout": "IPY_MODEL_0b0218a48fab482ca3ef910ddb9948e7",
       "style": "IPY_MODEL_0b86b005791f45fb93ef1e515e62e1e2"
      }
     },
     "d32aaba5fabf43e1a51a446cc716f021": {
      "model_module": "@jupyter-widgets/controls",
      "model_module_version": "1.5.0",
      "model_name": "ButtonStyleModel",
      "state": {}
     },
     "d3311825194e40848ec86c6df05ec71f": {
      "model_module": "@jupyter-widgets/base",
      "model_module_version": "1.2.0",
      "model_name": "LayoutModel",
      "state": {
       "margin": "20px 0px"
      }
     },
     "d35e87005bca48c5862abf4e837a1469": {
      "model_module": "@jupyter-widgets/base",
      "model_module_version": "1.2.0",
      "model_name": "LayoutModel",
      "state": {}
     },
     "d36a68cedc804dc0b13148f20e8408ad": {
      "model_module": "@jupyter-widgets/base",
      "model_module_version": "1.2.0",
      "model_name": "LayoutModel",
      "state": {}
     },
     "d3b85fda8a3a4608a7bd96283095fedd": {
      "model_module": "@jupyter-widgets/base",
      "model_module_version": "1.2.0",
      "model_name": "LayoutModel",
      "state": {}
     },
     "d3ca847489164ca4957ed12a3dbe22f6": {
      "model_module": "@jupyter-widgets/base",
      "model_module_version": "1.2.0",
      "model_name": "LayoutModel",
      "state": {}
     },
     "d3d0321f778b46a983a5df14ef76dfa1": {
      "model_module": "@jupyter-widgets/controls",
      "model_module_version": "1.5.0",
      "model_name": "IntSliderModel",
      "state": {
       "description": "value",
       "layout": "IPY_MODEL_a88837dec5b742f6a10d5977330bd661",
       "max": 5,
       "min": 1,
       "style": "IPY_MODEL_bd75e9ca86e44f438e2c480a32fa8470",
       "value": 4
      }
     },
     "d40cd5784b9640ce86140f6d8eb19ad7": {
      "model_module": "@jupyter-widgets/controls",
      "model_module_version": "1.5.0",
      "model_name": "DescriptionStyleModel",
      "state": {
       "description_width": ""
      }
     },
     "d42dda3cd9cf477195bbad7f92515edb": {
      "model_module": "@jupyter-widgets/controls",
      "model_module_version": "1.5.0",
      "model_name": "ButtonStyleModel",
      "state": {}
     },
     "d436543783c8447f81f559995965920f": {
      "model_module": "@jupyter-widgets/base",
      "model_module_version": "1.2.0",
      "model_name": "LayoutModel",
      "state": {}
     },
     "d4426702c7c94b0aac24491668d12154": {
      "model_module": "@jupyter-widgets/base",
      "model_module_version": "1.2.0",
      "model_name": "LayoutModel",
      "state": {}
     },
     "d472e1655a9444f0b18024002a8daeb0": {
      "model_module": "@jupyter-widgets/base",
      "model_module_version": "1.2.0",
      "model_name": "LayoutModel",
      "state": {
       "margin": "20px 0px"
      }
     },
     "d4db273c64d04656a9b57533239e7872": {
      "model_module": "@jupyter-widgets/controls",
      "model_module_version": "1.5.0",
      "model_name": "TextModel",
      "state": {
       "continuous_update": false,
       "description": "name",
       "layout": "IPY_MODEL_5c2170886bb84b0fb0345314e6a3925d",
       "style": "IPY_MODEL_9824adc57ba049e4afcc27d45ea5872d",
       "value": "color_1"
      }
     },
     "d4ef39502216401ca3c2e7381d844b04": {
      "model_module": "@jupyter-widgets/base",
      "model_module_version": "1.2.0",
      "model_name": "LayoutModel",
      "state": {}
     },
     "d4fcee8507e649a6822506b7eaf235b2": {
      "model_module": "@jupyter-widgets/base",
      "model_module_version": "1.2.0",
      "model_name": "LayoutModel",
      "state": {}
     },
     "d52fb0d8ec634c9e8f5209c9cbd03a9e": {
      "model_module": "@jupyter-widgets/base",
      "model_module_version": "1.2.0",
      "model_name": "LayoutModel",
      "state": {}
     },
     "d533d0f7e8d44a358083da646ae1b1c9": {
      "model_module": "@jupyter-widgets/controls",
      "model_module_version": "1.5.0",
      "model_name": "TextModel",
      "state": {
       "continuous_update": false,
       "description": "name",
       "layout": "IPY_MODEL_a19a36aed4ac40049951a2984ceedf3b",
       "style": "IPY_MODEL_83cf2697568b4f3fa8e2fa044d788093",
       "value": "radinc"
      }
     },
     "d5451f4d3ae8401ab534c5136e99f785": {
      "model_module": "@jupyter-widgets/controls",
      "model_module_version": "1.5.0",
      "model_name": "DropdownModel",
      "state": {
       "_options_labels": [
        "maxorder",
        "radinc",
        "nb_axes"
       ],
       "index": 0,
       "layout": "IPY_MODEL_024c0a7ea2924ff5a9d4b4e8dd33f20f",
       "style": "IPY_MODEL_0d2e16e55e4f4049983e0cbb83eb2316"
      }
     },
     "d56364ff1cc441588f37f856b104fb7f": {
      "model_module": "@jupyter-widgets/base",
      "model_module_version": "1.2.0",
      "model_name": "LayoutModel",
      "state": {}
     },
     "d563b21fb0e44bff9f75ce1b0e25866e": {
      "model_module": "@jupyter-widgets/controls",
      "model_module_version": "1.5.0",
      "model_name": "ButtonStyleModel",
      "state": {}
     },
     "d57615a69c10480d8db062fc5e36385d": {
      "model_module": "@jupyter-widgets/controls",
      "model_module_version": "1.5.0",
      "model_name": "DescriptionStyleModel",
      "state": {
       "description_width": ""
      }
     },
     "d57e2be537e04b77bd713ec999a5c5a4": {
      "model_module": "@jupyter-widgets/controls",
      "model_module_version": "1.5.0",
      "model_name": "SliderStyleModel",
      "state": {
       "description_width": ""
      }
     },
     "d5962bdf3e204a32a0c5f001c01c8af8": {
      "model_module": "@jupyter-widgets/controls",
      "model_module_version": "1.5.0",
      "model_name": "DescriptionStyleModel",
      "state": {
       "description_width": ""
      }
     },
     "d59eedfe91e040bd83b09d32a1718f4b": {
      "model_module": "@jupyter-widgets/controls",
      "model_module_version": "1.5.0",
      "model_name": "SliderStyleModel",
      "state": {
       "description_width": ""
      }
     },
     "d5bad5e9916e489c92ca26665824ec2d": {
      "model_module": "@jupyter-widgets/controls",
      "model_module_version": "1.5.0",
      "model_name": "SliderStyleModel",
      "state": {
       "description_width": ""
      }
     },
     "d5cd15e37f944ccfa4bf1cdd3348f4c7": {
      "model_module": "@jupyter-widgets/controls",
      "model_module_version": "1.5.0",
      "model_name": "SliderStyleModel",
      "state": {
       "description_width": ""
      }
     },
     "d5cd4fb599cb46fc948cd99e2e1b54e4": {
      "model_module": "@jupyter-widgets/base",
      "model_module_version": "1.2.0",
      "model_name": "LayoutModel",
      "state": {}
     },
     "d64b99f37a81429489c488b69a00175d": {
      "model_module": "@jupyter-widgets/controls",
      "model_module_version": "1.5.0",
      "model_name": "FloatSliderModel",
      "state": {
       "description": "transparency",
       "layout": "IPY_MODEL_51298c491bb74c49aa13975c0b81b43a",
       "max": 1,
       "step": 0.1,
       "style": "IPY_MODEL_d24ed236d364492488ac20992dc448f3"
      }
     },
     "d6e29de606464a1eada931b449337734": {
      "model_module": "@jupyter-widgets/controls",
      "model_module_version": "1.5.0",
      "model_name": "DescriptionStyleModel",
      "state": {
       "description_width": ""
      }
     },
     "d734a536300949189433eec18ebe49d5": {
      "model_module": "@jupyter-widgets/controls",
      "model_module_version": "1.5.0",
      "model_name": "IntSliderModel",
      "state": {
       "description": "value",
       "layout": "IPY_MODEL_973da0ef21a546739fbc9361cd34bfe5",
       "max": 10,
       "min": 1,
       "style": "IPY_MODEL_d5bad5e9916e489c92ca26665824ec2d",
       "value": 2
      }
     },
     "d77d077081bb4eb8baa6f71acfaca80d": {
      "model_module": "@jupyter-widgets/controls",
      "model_module_version": "1.5.0",
      "model_name": "HBoxModel",
      "state": {
       "children": [
        "IPY_MODEL_ec25e9001eaf45e69cf86327398a4adc",
        "IPY_MODEL_1a768dffa91045cdbec62fd051859942"
       ],
       "layout": "IPY_MODEL_f7ff34c66d4b431c8d7a458913ac23de"
      }
     },
     "d79e5da1ec2d4eff8b5b67ab8d2838d8": {
      "model_module": "pgljupyter",
      "model_module_version": "^0.1.17",
      "model_name": "IntEditorModel",
      "state": {
       "_model_module_version": "^0.1.17",
       "_view_module_version": "^0.1.17",
       "children": [
        "IPY_MODEL_b026cfdea7f24109b3207938d8293f82",
        "IPY_MODEL_fa78c56a5cee470db3de6e4fe2ec4481"
       ],
       "layout": "IPY_MODEL_1aeee9874bc84466bbeb7bfb15647305"
      }
     },
     "d7b73a835c6a400fa37fb014990bed66": {
      "model_module": "@jupyter-widgets/base",
      "model_module_version": "1.2.0",
      "model_name": "LayoutModel",
      "state": {}
     },
     "d7e2fe307b4148cfac6f5e85faa87f8d": {
      "model_module": "pgljupyter",
      "model_module_version": "^0.1.18",
      "model_name": "MaterialEditorModel",
      "state": {
       "_model_module_version": "^0.1.18",
       "_view_module_version": "^0.1.18",
       "children": [
        "IPY_MODEL_399fc3d82a3b4cb6984cdc1806f6c118",
        "IPY_MODEL_203079255d89445eaa5a11bb556a37d5",
        "IPY_MODEL_058c249a39c04bedbadbabfd56c8cbca",
        "IPY_MODEL_a6b2268c582b4593aeb1fd6140283cda",
        "IPY_MODEL_fcc4f1c9cd4740db81b92272d44020c6",
        "IPY_MODEL_5d665054e5a24fcc86e9f3d114ca7382",
        "IPY_MODEL_455ba0e06d5247ffb20550cc7189a0a9",
        "IPY_MODEL_e64b8d9963944b6982872e56c1d1076b"
       ],
       "layout": "IPY_MODEL_fe21590a178c49c09a36c5fb9b0fb406"
      }
     },
     "d826944e71484a12ba8264f9980eaa85": {
      "model_module": "@jupyter-widgets/controls",
      "model_module_version": "1.5.0",
      "model_name": "DescriptionStyleModel",
      "state": {
       "description_width": ""
      }
     },
     "d8b7d3f852be4323a7cb38d583268863": {
      "model_module": "@jupyter-widgets/base",
      "model_module_version": "1.2.0",
      "model_name": "LayoutModel",
      "state": {}
     },
     "d8d73c6794a64b41a4b085d7b2422110": {
      "model_module": "@jupyter-widgets/base",
      "model_module_version": "1.2.0",
      "model_name": "LayoutModel",
      "state": {}
     },
     "d8dd6096e07649cb8ceb51b260ceb49f": {
      "model_module": "@jupyter-widgets/controls",
      "model_module_version": "1.5.0",
      "model_name": "DescriptionStyleModel",
      "state": {
       "description_width": ""
      }
     },
     "d94927052fb046c4b476563ba1404936": {
      "model_module": "@jupyter-widgets/controls",
      "model_module_version": "1.5.0",
      "model_name": "ButtonModel",
      "state": {
       "description": "Delete",
       "layout": "IPY_MODEL_2e291dc0a02b4b878cc21b93ac478bfd",
       "style": "IPY_MODEL_18abd2b200874f98af3b0f2c86c1a019"
      }
     },
     "d96944e0d08c4a04aa0b00a6367b12c9": {
      "model_module": "@jupyter-widgets/base",
      "model_module_version": "1.2.0",
      "model_name": "LayoutModel",
      "state": {}
     },
     "d978d64c481643da8a0c61fcd3e368e3": {
      "model_module": "@jupyter-widgets/base",
      "model_module_version": "1.2.0",
      "model_name": "LayoutModel",
      "state": {}
     },
     "d98400c8547342cb8a67ecbb1f113126": {
      "model_module": "@jupyter-widgets/controls",
      "model_module_version": "1.5.0",
      "model_name": "DescriptionStyleModel",
      "state": {
       "description_width": ""
      }
     },
     "d9b886e295724cc9a420de8dcc17e338": {
      "model_module": "@jupyter-widgets/controls",
      "model_module_version": "1.5.0",
      "model_name": "ButtonModel",
      "state": {
       "description": "Add",
       "layout": "IPY_MODEL_3eaf0cde17004332ab35b0f57fc0d75b",
       "style": "IPY_MODEL_09d6bc5c5f48421884c5070738ff6283"
      }
     },
     "d9ccb67aeb914dbebc9157bdfb5dc23d": {
      "model_module": "@jupyter-widgets/base",
      "model_module_version": "1.2.0",
      "model_name": "LayoutModel",
      "state": {}
     },
     "d9d4c404d76e436f8e9995638352fdaa": {
      "model_module": "@jupyter-widgets/controls",
      "model_module_version": "1.5.0",
      "model_name": "ButtonStyleModel",
      "state": {}
     },
     "d9fed144986740a4aebc4a2d4217ab60": {
      "model_module": "@jupyter-widgets/controls",
      "model_module_version": "1.5.0",
      "model_name": "DescriptionStyleModel",
      "state": {
       "description_width": ""
      }
     },
     "da13191a83f844c595b3cff32e04df31": {
      "model_module": "@jupyter-widgets/controls",
      "model_module_version": "1.5.0",
      "model_name": "ButtonModel",
      "state": {
       "description": "Add",
       "layout": "IPY_MODEL_5b833389726149e891e43233e262af30",
       "style": "IPY_MODEL_11d8025c13d9418dab33da381333379c"
      }
     },
     "da90b6b6b6334b2d8566268731ae92f4": {
      "model_module": "@jupyter-widgets/controls",
      "model_module_version": "1.5.0",
      "model_name": "DropdownModel",
      "state": {
       "_options_labels": [
        "leafduration",
        "leafold",
        "maxorder",
        "radinc",
        "nb_axes"
       ],
       "index": 0,
       "layout": "IPY_MODEL_ae707f5167d74fc69acaaf741eb5e5de",
       "style": "IPY_MODEL_d826944e71484a12ba8264f9980eaa85"
      }
     },
     "da94d7f0e6e045988d94aba69d5be576": {
      "model_module": "@jupyter-widgets/controls",
      "model_module_version": "1.5.0",
      "model_name": "TextModel",
      "state": {
       "continuous_update": false,
       "description": "name",
       "layout": "IPY_MODEL_36cefaebd481433a986da12e8f4ca923",
       "style": "IPY_MODEL_4700fadcbf6740eeacfb5f4d5442bcc5",
       "value": "radinc"
      }
     },
     "dab8e9c05b4743e0910867303374e23e": {
      "model_module": "pgljupyter",
      "model_module_version": "^0.1.16",
      "model_name": "MaterialEditorModel",
      "state": {
       "_model_module_version": "^0.1.16",
       "_view_module_version": "^0.1.16",
       "children": [
        "IPY_MODEL_677b6979d18a4369b43c7d2c7055d352",
        "IPY_MODEL_1f8ab0fca1c04c59ba41957779688c40",
        "IPY_MODEL_9db215c1ff3242bab8eb9533ae4c1142",
        "IPY_MODEL_7820f3eb666143e08c9689ceabf9f92e",
        "IPY_MODEL_2cbe2b9f20a14b2c9ff7c42cc96e34c6",
        "IPY_MODEL_00d6b976c7584356bc8ace10cc276390",
        "IPY_MODEL_5d1acbde1263434ca0516af8b1e818ec",
        "IPY_MODEL_c16429a9bfff45a981471a788dca62c2"
       ],
       "layout": "IPY_MODEL_9b3e11ebb803450b986ba009cd7271d1"
      }
     },
     "dae8d0d2b5a24ba3a4caef5ae026ea60": {
      "model_module": "@jupyter-widgets/base",
      "model_module_version": "1.2.0",
      "model_name": "LayoutModel",
      "state": {}
     },
     "daf71e2b2a7543cb8dcc73b7d06ecdcf": {
      "model_module": "@jupyter-widgets/controls",
      "model_module_version": "1.5.0",
      "model_name": "TextModel",
      "state": {
       "continuous_update": false,
       "description": "name",
       "layout": "IPY_MODEL_7b34d047a75145ef93c9d2ba934f66f1",
       "style": "IPY_MODEL_61604db4d90b46a3a0031ae5119c1516",
       "value": "leafduration"
      }
     },
     "db23eda7382441b68d87f582fc44c2e1": {
      "model_module": "@jupyter-widgets/controls",
      "model_module_version": "1.5.0",
      "model_name": "TextModel",
      "state": {
       "continuous_update": false,
       "description": "name",
       "layout": "IPY_MODEL_3eb5de6cfa8c4221935e7232c267b322",
       "style": "IPY_MODEL_7be0e86f808844688593b2ba1a25b20d",
       "value": "leaf_new"
      }
     },
     "db5323087b2145deaac82eae65704511": {
      "model_module": "pgljupyter",
      "model_module_version": "^0.1.18",
      "model_name": "LsystemWidgetModel",
      "state": {
       "_model_module_version": "^0.1.18",
       "_view_module_version": "^0.1.18",
       "axes_helper": false,
       "derivationLength": 42,
       "layout": "IPY_MODEL_37a93703112240f1b4ba6fd167b2abd8",
       "light_helper": false,
       "plane": true,
       "size_display": [
        400,
        400
       ],
       "size_world": 50
      }
     },
     "db5f6dc768de4f52af107562f58156fb": {
      "model_module": "@jupyter-widgets/controls",
      "model_module_version": "1.5.0",
      "model_name": "ButtonModel",
      "state": {
       "description": "Add",
       "layout": "IPY_MODEL_207d2c2ed4094de6aa559901cd22e572",
       "style": "IPY_MODEL_2d9fad0b565a4646b1f726689ed625fc"
      }
     },
     "db9ed437c56e4afcaea7ce8551e64a91": {
      "model_module": "@jupyter-widgets/controls",
      "model_module_version": "1.5.0",
      "model_name": "TextModel",
      "state": {
       "continuous_update": false,
       "description": "name",
       "layout": "IPY_MODEL_65dc7f4bbf724d46a564ee783e7d55ea",
       "style": "IPY_MODEL_12b07df7fcbf4176ac7229ec42a4a560",
       "value": "maxorder"
      }
     },
     "dbf29d67c32f4897a7101f3492b6f2df": {
      "model_module": "@jupyter-widgets/controls",
      "model_module_version": "1.5.0",
      "model_name": "SliderStyleModel",
      "state": {
       "description_width": ""
      }
     },
     "dc53693171ca4e6f859008d9f7934f2e": {
      "model_module": "@jupyter-widgets/controls",
      "model_module_version": "1.5.0",
      "model_name": "SliderStyleModel",
      "state": {
       "description_width": ""
      }
     },
     "dc6fe4ae93724ee697ccb6414fa8bd2b": {
      "model_module": "@jupyter-widgets/base",
      "model_module_version": "1.2.0",
      "model_name": "LayoutModel",
      "state": {}
     },
     "dc891aa6241b421da0cabf4ab08e3d0e": {
      "model_module": "@jupyter-widgets/controls",
      "model_module_version": "1.5.0",
      "model_name": "TabModel",
      "state": {
       "_titles": {
        "0": "leuwenberg.json"
       },
       "children": [
        "IPY_MODEL_405490f3003747ea84770f0ca8eba3fa"
       ],
       "layout": "IPY_MODEL_d36a68cedc804dc0b13148f20e8408ad"
      }
     },
     "dc9722bd3a6e4f1e855fb518b2065abe": {
      "model_module": "@jupyter-widgets/controls",
      "model_module_version": "1.5.0",
      "model_name": "SliderStyleModel",
      "state": {
       "description_width": ""
      }
     },
     "dc9e29879357411bbba01c813ba6f9f4": {
      "model_module": "@jupyter-widgets/base",
      "model_module_version": "1.2.0",
      "model_name": "LayoutModel",
      "state": {}
     },
     "dcc995adc6dd4fe097aab757670954b6": {
      "model_module": "@jupyter-widgets/controls",
      "model_module_version": "1.5.0",
      "model_name": "SliderStyleModel",
      "state": {
       "description_width": ""
      }
     },
     "dd0076f5130e4b019ecac08f8ecf14e6": {
      "model_module": "@jupyter-widgets/base",
      "model_module_version": "1.2.0",
      "model_name": "LayoutModel",
      "state": {}
     },
     "dd63929993a7401ab626cf49aa8e47ec": {
      "model_module": "@jupyter-widgets/controls",
      "model_module_version": "1.5.0",
      "model_name": "HBoxModel",
      "state": {
       "children": [
        "IPY_MODEL_36206315b4434144abd918600eba897c",
        "IPY_MODEL_f4bdb1ac62ae4f1ba65cb9bfe80e8b50",
        "IPY_MODEL_04fd9850624b45509d3404170dfb2b93"
       ],
       "layout": "IPY_MODEL_77fc433d7ea240f0b05864afbc6f627a"
      }
     },
     "dd91341438fb460cb5355fac879a754e": {
      "model_module": "@jupyter-widgets/controls",
      "model_module_version": "1.5.0",
      "model_name": "ButtonStyleModel",
      "state": {}
     },
     "ddc34eb399b046ce9c7bbcc7bcce04e5": {
      "model_module": "pgljupyter",
      "model_module_version": "^0.1.17",
      "model_name": "IntEditorModel",
      "state": {
       "_model_module_version": "^0.1.17",
       "_view_module_version": "^0.1.17",
       "children": [
        "IPY_MODEL_daf71e2b2a7543cb8dcc73b7d06ecdcf",
        "IPY_MODEL_8e59f23a67514549b0b971a20c8f5644"
       ],
       "layout": "IPY_MODEL_8ab5ba176a154599b445e9556a8031de"
      }
     },
     "dde1071f08f442b987043d10dc31e5dd": {
      "model_module": "@jupyter-widgets/controls",
      "model_module_version": "1.5.0",
      "model_name": "DescriptionStyleModel",
      "state": {
       "description_width": ""
      }
     },
     "de0166a69e364f30890e136c6a843c04": {
      "model_module": "@jupyter-widgets/base",
      "model_module_version": "1.2.0",
      "model_name": "LayoutModel",
      "state": {}
     },
     "de17ce4b402f484dad854027cadfb9d2": {
      "model_module": "pgljupyter",
      "model_module_version": "^0.1.19",
      "model_name": "MaterialEditorModel",
      "state": {
       "_model_module_version": "^0.1.19",
       "_view_module_version": "^0.1.19",
       "children": [
        "IPY_MODEL_db23eda7382441b68d87f582fc44c2e1",
        "IPY_MODEL_e7f5ee21dad84e169e218eb28ecfd188",
        "IPY_MODEL_b3b4369a077e494799fb62f23eb0eb47",
        "IPY_MODEL_8ea211ca5b9b4eeba00a371c1b423cca",
        "IPY_MODEL_30d04e67afa2429b8229a2e9aae7d544",
        "IPY_MODEL_0bfc733f831346d3bfd46bb08e6ed994",
        "IPY_MODEL_bbc20920f34a4a74ae6269cb6b203707",
        "IPY_MODEL_af05852e0c454d1081c694c61e2c259d"
       ],
       "layout": "IPY_MODEL_3a06d16c9b3e4435a1ad65bd71604d2e"
      }
     },
     "de26906445994c7e8243365b107e8044": {
      "model_module": "@jupyter-widgets/controls",
      "model_module_version": "1.5.0",
      "model_name": "ColorPickerModel",
      "state": {
       "description": "ambient",
       "disabled": false,
       "layout": "IPY_MODEL_86bbd8bd12314be19909ccb111382a66",
       "style": "IPY_MODEL_5ef60586f6624e7a921466efb2d8a645",
       "value": "#5b4534"
      }
     },
     "de29d9fc92c645568318b3cac8e85baf": {
      "model_module": "@jupyter-widgets/controls",
      "model_module_version": "1.5.0",
      "model_name": "ButtonModel",
      "state": {
       "description": "Delete",
       "layout": "IPY_MODEL_fdc7cdfb71c14e9f9ae8327b7e4919ce",
       "style": "IPY_MODEL_0adb42962e0d46d8a508e6187f7b3e19"
      }
     },
     "de319ccb71084e70b9dbfd5cfb7f274a": {
      "model_module": "@jupyter-widgets/controls",
      "model_module_version": "1.5.0",
      "model_name": "TextModel",
      "state": {
       "continuous_update": false,
       "description": "name",
       "layout": "IPY_MODEL_9b30eab18de94dffbe1a6d676db8158c",
       "style": "IPY_MODEL_27341d701b39454692c62d6ea10319c8",
       "value": "leaf_old"
      }
     },
     "de4816681729453fbf133b79ff9974ac": {
      "model_module": "@jupyter-widgets/controls",
      "model_module_version": "1.5.0",
      "model_name": "BoundedIntTextModel",
      "state": {
       "description": "index",
       "layout": "IPY_MODEL_e46e9699d55948368197d7e8ce85a0a3",
       "style": "IPY_MODEL_60ff2d33083e41a7a9c77037399cc0c7",
       "value": 1
      }
     },
     "deee13f28dc04426826d2dcb4eb4b80e": {
      "model_module": "pgljupyter",
      "model_module_version": "^0.1.17",
      "model_name": "IntEditorModel",
      "state": {
       "_model_module_version": "^0.1.17",
       "_view_module_version": "^0.1.17",
       "children": [
        "IPY_MODEL_6836f870173f481c896bba938c011cdd",
        "IPY_MODEL_cf2d00fcb37046cca0b8754d884949a8"
       ],
       "layout": "IPY_MODEL_6213afc08dc747abb3101b3b00eff81e"
      }
     },
     "df4b301f82c143b6ba68f23b7ee4a4e7": {
      "model_module": "@jupyter-widgets/base",
      "model_module_version": "1.2.0",
      "model_name": "LayoutModel",
      "state": {}
     },
     "df696dde9f0e41c2be1075f4577638d5": {
      "model_module": "@jupyter-widgets/base",
      "model_module_version": "1.2.0",
      "model_name": "LayoutModel",
      "state": {}
     },
     "df83175491804b5cb47348424a380b78": {
      "model_module": "@jupyter-widgets/base",
      "model_module_version": "1.2.0",
      "model_name": "LayoutModel",
      "state": {}
     },
     "df94b893e16e4d64bc1d78383241b66f": {
      "model_module": "@jupyter-widgets/base",
      "model_module_version": "1.2.0",
      "model_name": "LayoutModel",
      "state": {}
     },
     "dfbf3f0450ae43368952951aba7baba3": {
      "model_module": "@jupyter-widgets/controls",
      "model_module_version": "1.5.0",
      "model_name": "DescriptionStyleModel",
      "state": {
       "description_width": ""
      }
     },
     "dfccc42a1e8f4f4abdf4c85dd83fbdf3": {
      "model_module": "@jupyter-widgets/controls",
      "model_module_version": "1.5.0",
      "model_name": "ButtonStyleModel",
      "state": {}
     },
     "dfd5a1256a954e379bc5aff58a8db58a": {
      "model_module": "pgljupyter",
      "model_module_version": "^0.1.16",
      "model_name": "ParameterEditorModel",
      "state": {
       "_model_module_version": "^0.1.16",
       "_view_module_version": "^0.1.16",
       "children": [
        "IPY_MODEL_50c897762f9846d38e9f8e2de2d19de2"
       ],
       "layout": "IPY_MODEL_d3ca847489164ca4957ed12a3dbe22f6"
      }
     },
     "e01ac84da5b94b36859436d3ee12a19e": {
      "model_module": "@jupyter-widgets/base",
      "model_module_version": "1.2.0",
      "model_name": "LayoutModel",
      "state": {}
     },
     "e070c2aed84b414abe7cc619e00e66a3": {
      "model_module": "pgljupyter",
      "model_module_version": "^0.1.19",
      "model_name": "FloatEditorModel",
      "state": {
       "_model_module_version": "^0.1.19",
       "_view_module_version": "^0.1.19",
       "children": [
        "IPY_MODEL_d533d0f7e8d44a358083da646ae1b1c9",
        "IPY_MODEL_4d1d2003f29c41ff8de536581cacd952"
       ],
       "layout": "IPY_MODEL_a4413d9c30754ab7a29140a77c7d2e8f"
      }
     },
     "e0797b2efbd349b591c26c07ddceb9b9": {
      "model_module": "@jupyter-widgets/controls",
      "model_module_version": "1.5.0",
      "model_name": "TextModel",
      "state": {
       "continuous_update": false,
       "description": "name",
       "layout": "IPY_MODEL_bca351d97c6d48f9814da71e4418e3a3",
       "style": "IPY_MODEL_9425b43dcbad4491bb621b1c588f23a2",
       "value": "apex"
      }
     },
     "e084bfa6a964476eace5b955c0359580": {
      "model_module": "@jupyter-widgets/controls",
      "model_module_version": "1.5.0",
      "model_name": "DescriptionStyleModel",
      "state": {
       "description_width": ""
      }
     },
     "e0b3bfd022cf45e4a94fa38c5088e074": {
      "model_module": "@jupyter-widgets/base",
      "model_module_version": "1.2.0",
      "model_name": "LayoutModel",
      "state": {}
     },
     "e0b543b076714cf5958478e4889a5cb7": {
      "model_module": "@jupyter-widgets/controls",
      "model_module_version": "1.5.0",
      "model_name": "ButtonStyleModel",
      "state": {}
     },
     "e0c35736a89f424aa92cf4bb65dd15cd": {
      "model_module": "@jupyter-widgets/controls",
      "model_module_version": "1.5.0",
      "model_name": "DescriptionStyleModel",
      "state": {
       "description_width": ""
      }
     },
     "e0f1782f2a614b3fa512c8365f125d2a": {
      "model_module": "@jupyter-widgets/controls",
      "model_module_version": "1.5.0",
      "model_name": "ColorPickerModel",
      "state": {
       "description": "specular",
       "disabled": false,
       "layout": "IPY_MODEL_bc6ff6dbd47e43719f4d3510291ab07c",
       "style": "IPY_MODEL_fb890f35eb7342de80f4cca03a20aba6",
       "value": "#282828"
      }
     },
     "e133259e943747ddbb36e06ec4bf3308": {
      "model_module": "@jupyter-widgets/controls",
      "model_module_version": "1.5.0",
      "model_name": "HBoxModel",
      "state": {
       "children": [
        "IPY_MODEL_c2be0d36854f4826b190f2aef55fd686",
        "IPY_MODEL_9a39bcbc02c34c958a3a2bea5ded14be"
       ],
       "layout": "IPY_MODEL_91ac8e1f9a054b498098ec7954dfe608"
      }
     },
     "e1404da5bac34c6d89711e040aeabc76": {
      "buffers": [
       {
        "data": "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",
        "encoding": "base64",
        "path": [
         "scene",
         "data"
        ]
       }
      ],
      "model_module": "pgljupyter",
      "model_module_version": "^0.1.19",
      "model_name": "LsystemWidgetModel",
      "state": {
       "_model_module_version": "^0.1.19",
       "_view_module_version": "^0.1.19",
       "axes_helper": false,
       "derivationLength": 42,
       "layout": "IPY_MODEL_c885c505f74c4f13b9663c38cb480f8a",
       "light_helper": false,
       "plane": true,
       "scene": {
        "derivationStep": 41,
        "id": 41,
        "scene": "<openalea.plantgl.scenegraph._pglsg.Scene object at 0x7f614649d6c0>"
       },
       "size_display": [
        600,
        400
       ],
       "size_world": 50
      }
     },
     "e14b8d9da9d94827aa6e7a2c4a59032a": {
      "model_module": "@jupyter-widgets/base",
      "model_module_version": "1.2.0",
      "model_name": "LayoutModel",
      "state": {
       "margin": "20px 0px"
      }
     },
     "e15fba46cf5946eeb499bb44c328da38": {
      "model_module": "@jupyter-widgets/controls",
      "model_module_version": "1.5.0",
      "model_name": "HBoxModel",
      "state": {
       "layout": "IPY_MODEL_f54b6bb1cd9047f2913448b18542023e"
      }
     },
     "e18491acb9394f188ffa2c3096839935": {
      "model_module": "@jupyter-widgets/base",
      "model_module_version": "1.2.0",
      "model_name": "LayoutModel",
      "state": {
       "margin": "20px 0px"
      }
     },
     "e1a057438d6b4569b6ab77b9fa61b360": {
      "model_module": "@jupyter-widgets/controls",
      "model_module_version": "1.5.0",
      "model_name": "DescriptionStyleModel",
      "state": {
       "description_width": ""
      }
     },
     "e1ad944eafa344f19b268b968727ebe2": {
      "model_module": "@jupyter-widgets/controls",
      "model_module_version": "1.5.0",
      "model_name": "DescriptionStyleModel",
      "state": {
       "description_width": ""
      }
     },
     "e1dcb78514e94e8ba1b4d9d3d4a8e9c9": {
      "model_module": "pgljupyter",
      "model_module_version": "^0.1.17",
      "model_name": "IntEditorModel",
      "state": {
       "_model_module_version": "^0.1.17",
       "_view_module_version": "^0.1.17",
       "children": [
        "IPY_MODEL_4933c3be1ca74d3b87e7deac4ab3fa84",
        "IPY_MODEL_f07a901e6ad14b95a2d72d3015de3a12"
       ],
       "layout": "IPY_MODEL_726ea6227a9140b58c2e2db0b3c05e1f"
      }
     },
     "e20a8ad2869c4320906c5ccb5a2616cb": {
      "model_module": "pgljupyter",
      "model_module_version": "^0.1.17",
      "model_name": "MaterialEditorModel",
      "state": {
       "_model_module_version": "^0.1.17",
       "_view_module_version": "^0.1.17",
       "children": [
        "IPY_MODEL_bfa2cd7f0c5143b98b10a45ec7d2d66d",
        "IPY_MODEL_f5730ea7e7c64ddd832fe8d4f113f656",
        "IPY_MODEL_8796df0ffb5a4d59acfa5e829c472f45",
        "IPY_MODEL_e85c510e27f640a8b1ccdded38f8d8b3",
        "IPY_MODEL_7d0e2b7c25dc4c5799f79fba3304581d",
        "IPY_MODEL_59f8c5abaa8146ce8df8fc46c0f10acb",
        "IPY_MODEL_8c69ffac5b3b44b286de8bc58ff44b45"
       ],
       "layout": "IPY_MODEL_194ad744cbd346c59d513770c2a47af7"
      }
     },
     "e248c6cad0a7477090a5f66a3ae950b9": {
      "model_module": "@jupyter-widgets/controls",
      "model_module_version": "1.5.0",
      "model_name": "DescriptionStyleModel",
      "state": {
       "description_width": ""
      }
     },
     "e24becef77854391b6cd6c67e04932e8": {
      "model_module": "@jupyter-widgets/controls",
      "model_module_version": "1.5.0",
      "model_name": "HBoxModel",
      "state": {
       "children": [
        "IPY_MODEL_273d55f5f31d4648966c52a36a8bc18e",
        "IPY_MODEL_e3ec34b11df74def9f03dc88695a2134",
        "IPY_MODEL_17de7061fc71420fb27975958a62c182",
        "IPY_MODEL_d7e2fe307b4148cfac6f5e85faa87f8d"
       ],
       "layout": "IPY_MODEL_a9b7a5bea64640859355bc1f3bd40aed"
      }
     },
     "e2959aa92f7d44c2a5d6d06683c7f898": {
      "model_module": "@jupyter-widgets/controls",
      "model_module_version": "1.5.0",
      "model_name": "DescriptionStyleModel",
      "state": {
       "description_width": ""
      }
     },
     "e29b2ad0e6b8400997e87c1b714baead": {
      "model_module": "@jupyter-widgets/controls",
      "model_module_version": "1.5.0",
      "model_name": "DescriptionStyleModel",
      "state": {
       "description_width": ""
      }
     },
     "e29bcf91cb1e4caebd131a237b84ab1c": {
      "model_module": "@jupyter-widgets/controls",
      "model_module_version": "1.5.0",
      "model_name": "HBoxModel",
      "state": {
       "children": [
        "IPY_MODEL_2c7e43047da344c297659bb5c7099369",
        "IPY_MODEL_f6729743e45f4de5a242dd5d165d2def"
       ],
       "layout": "IPY_MODEL_5a6aab1bb709492da4f69389f9069c24"
      }
     },
     "e2b7f42fba7146f9bd943e2d6c422529": {
      "model_module": "@jupyter-widgets/controls",
      "model_module_version": "1.5.0",
      "model_name": "DropdownModel",
      "state": {
       "_options_labels": [
        "NurbsCurve2D",
        "BezierCurve2D",
        "Polyline2D",
        "Function"
       ],
       "index": 0,
       "layout": "IPY_MODEL_8f003cdb574545128b2ee385bb6fff88",
       "style": "IPY_MODEL_d30ebfc6c53341ae9babc1bd412860bb"
      }
     },
     "e2c963c5cf35423c8c5649096e21e578": {
      "model_module": "@jupyter-widgets/base",
      "model_module_version": "1.2.0",
      "model_name": "LayoutModel",
      "state": {}
     },
     "e2de1706c64a496781bb68ab5f7e1f36": {
      "model_module": "@jupyter-widgets/controls",
      "model_module_version": "1.5.0",
      "model_name": "SliderStyleModel",
      "state": {
       "description_width": ""
      }
     },
     "e313ecd7771845129142078320e10db3": {
      "model_module": "@jupyter-widgets/controls",
      "model_module_version": "1.5.0",
      "model_name": "ButtonStyleModel",
      "state": {}
     },
     "e34f318fa38c48f0a73bd526ad11af14": {
      "model_module": "@jupyter-widgets/controls",
      "model_module_version": "1.5.0",
      "model_name": "ButtonStyleModel",
      "state": {}
     },
     "e39e2498279249fda7dc6eebafd8b0bb": {
      "model_module": "@jupyter-widgets/controls",
      "model_module_version": "1.5.0",
      "model_name": "DescriptionStyleModel",
      "state": {
       "description_width": ""
      }
     },
     "e3e60ccbc1cb456a81c849bf7a485b87": {
      "model_module": "pgljupyter",
      "model_module_version": "^0.1.17",
      "model_name": "MaterialEditorModel",
      "state": {
       "_model_module_version": "^0.1.17",
       "_view_module_version": "^0.1.17",
       "children": [
        "IPY_MODEL_0241bcf8e4d449588382dcfa0fadf1f7",
        "IPY_MODEL_1e6010c917c4441f8d05dacd1cf3a5ba",
        "IPY_MODEL_37bad97f36864d09b884b5b159f845c5",
        "IPY_MODEL_6af77e29019b4e689db91f5541c76b14",
        "IPY_MODEL_ffd2e60a3312408a8134cc48bad3dece",
        "IPY_MODEL_0108f7fc56644931b6e9ab7e757df267",
        "IPY_MODEL_ae65c9b1a7014f46b4d4736a9946ae5f"
       ],
       "layout": "IPY_MODEL_fa6085381b324435aa9032f0b10413fd"
      }
     },
     "e3ec34b11df74def9f03dc88695a2134": {
      "model_module": "pgljupyter",
      "model_module_version": "^0.1.18",
      "model_name": "MaterialEditorModel",
      "state": {
       "_model_module_version": "^0.1.18",
       "_view_module_version": "^0.1.18",
       "children": [
        "IPY_MODEL_33ecac72bc1645e0b487c066dc742e70",
        "IPY_MODEL_8941e806cfbc4ef79a7ebe1a33c9c387",
        "IPY_MODEL_fb0c1e5b61d44683adf9f59f2d517439",
        "IPY_MODEL_c3f4c1f812d844ea9207b9e5e852348d",
        "IPY_MODEL_fcb10f0aee304daf943e423fda4b86f2",
        "IPY_MODEL_e47a5e4d527f4a4b854d6b623726ae1b",
        "IPY_MODEL_fc127ff6172e4b0984f4d7a91e171c32",
        "IPY_MODEL_e42d49eb989a4968b069bd8144730392"
       ],
       "layout": "IPY_MODEL_1042939b8e694adbb61cbf705e83ecb6"
      }
     },
     "e41cb6704a0a4c06a028ae53e9f988ee": {
      "model_module": "@jupyter-widgets/controls",
      "model_module_version": "1.5.0",
      "model_name": "DescriptionStyleModel",
      "state": {
       "description_width": ""
      }
     },
     "e42d49eb989a4968b069bd8144730392": {
      "model_module": "@jupyter-widgets/controls",
      "model_module_version": "1.5.0",
      "model_name": "FloatSliderModel",
      "state": {
       "description": "shininess",
       "layout": "IPY_MODEL_83ef4ea6f520490ea97b0fec684c68ff",
       "max": 1,
       "step": 0.1,
       "style": "IPY_MODEL_d10f09db7b844047b372a716b8a9dd49",
       "value": 0.2
      }
     },
     "e46e9699d55948368197d7e8ce85a0a3": {
      "model_module": "@jupyter-widgets/base",
      "model_module_version": "1.2.0",
      "model_name": "LayoutModel",
      "state": {}
     },
     "e47a5e4d527f4a4b854d6b623726ae1b": {
      "model_module": "@jupyter-widgets/controls",
      "model_module_version": "1.5.0",
      "model_name": "FloatSliderModel",
      "state": {
       "description": "diffuse",
       "layout": "IPY_MODEL_0152374133564b448491bef7e0098d98",
       "max": 3,
       "step": 0.1,
       "style": "IPY_MODEL_84167ac2f5b54a72a1dcecd5e7898942",
       "value": 1
      }
     },
     "e483f04bf9ee473983a54480be56ae94": {
      "model_module": "@jupyter-widgets/base",
      "model_module_version": "1.2.0",
      "model_name": "LayoutModel",
      "state": {}
     },
     "e4b212a605144a07b42605253ab3a016": {
      "model_module": "@jupyter-widgets/base",
      "model_module_version": "1.2.0",
      "model_name": "LayoutModel",
      "state": {}
     },
     "e4bcad903cd24e668755c12c6ad16d21": {
      "model_module": "@jupyter-widgets/controls",
      "model_module_version": "1.5.0",
      "model_name": "DescriptionStyleModel",
      "state": {
       "description_width": ""
      }
     },
     "e4e8b085a5c24ad6a92920665a7ee169": {
      "model_module": "@jupyter-widgets/controls",
      "model_module_version": "1.5.0",
      "model_name": "SliderStyleModel",
      "state": {
       "description_width": ""
      }
     },
     "e4f1064e7adb4c35be9fbfc786d26ca6": {
      "model_module": "@jupyter-widgets/controls",
      "model_module_version": "1.5.0",
      "model_name": "FloatSliderModel",
      "state": {
       "description": "value",
       "layout": "IPY_MODEL_f809bb47cbf94d079b9331253cf0b41b",
       "max": 0.1,
       "min": 0.01,
       "step": 0.01,
       "style": "IPY_MODEL_25389c05c9a74d9a98ad640a1da0dc90",
       "value": 0.02
      }
     },
     "e4ff954f4c8a42249bb72fd9a209830d": {
      "model_module": "pgljupyter",
      "model_module_version": "^0.1.18",
      "model_name": "IntEditorModel",
      "state": {
       "_model_module_version": "^0.1.18",
       "_view_module_version": "^0.1.18",
       "children": [
        "IPY_MODEL_4d9c47832bb743058b80a0b7ef230074",
        "IPY_MODEL_283766ded61e469895271b99cd20aee7"
       ],
       "layout": "IPY_MODEL_2b06ff77988044cbbe92812f8d420a23"
      }
     },
     "e53a81fe5d75435cb12952d290d8bed4": {
      "model_module": "@jupyter-widgets/base",
      "model_module_version": "1.2.0",
      "model_name": "LayoutModel",
      "state": {}
     },
     "e5dac1ed4b934727b6efb2c2f6bbcf39": {
      "model_module": "pgljupyter",
      "model_module_version": "^0.1.17",
      "model_name": "FloatEditorModel",
      "state": {
       "_model_module_version": "^0.1.17",
       "_view_module_version": "^0.1.17",
       "children": [
        "IPY_MODEL_55f0f039861f4c7cb7fc94899c53e0f6",
        "IPY_MODEL_e4f1064e7adb4c35be9fbfc786d26ca6"
       ],
       "layout": "IPY_MODEL_85fb0b1c46a34071837318e83df4549c"
      }
     },
     "e635d4b4c4cd44f2a336ab38518f4c9b": {
      "model_module": "@jupyter-widgets/controls",
      "model_module_version": "1.5.0",
      "model_name": "DescriptionStyleModel",
      "state": {
       "description_width": ""
      }
     },
     "e647273f61494efb92b293f226b212ce": {
      "model_module": "@jupyter-widgets/controls",
      "model_module_version": "1.5.0",
      "model_name": "DropdownModel",
      "state": {
       "_options_labels": [
        "color_1",
        "color_2",
        "color_3",
        "color_4"
       ],
       "index": 0,
       "layout": "IPY_MODEL_3b6eb237ab884fc6a9851aa3c2d821fe",
       "style": "IPY_MODEL_9cbbf712b5e546d7b39a41428b0aa2f1"
      }
     },
     "e64b8d9963944b6982872e56c1d1076b": {
      "model_module": "@jupyter-widgets/controls",
      "model_module_version": "1.5.0",
      "model_name": "FloatSliderModel",
      "state": {
       "description": "shininess",
       "layout": "IPY_MODEL_157fba29a18141ceb228302c5bccb5bb",
       "max": 1,
       "step": 0.1,
       "style": "IPY_MODEL_6d9cd9fec46242309f65481bd57e1ab6",
       "value": 0.2
      }
     },
     "e64e7fd9b956422fbe051812aeedf4f5": {
      "model_module": "@jupyter-widgets/controls",
      "model_module_version": "1.5.0",
      "model_name": "TabModel",
      "state": {
       "layout": "IPY_MODEL_01a9830728ff43debfe68c7ed9c0c0f1"
      }
     },
     "e663a3b5cc3842119f7132689bc988a4": {
      "model_module": "@jupyter-widgets/controls",
      "model_module_version": "1.5.0",
      "model_name": "TabModel",
      "state": {
       "layout": "IPY_MODEL_5c2e84642c5d485189990628bfa497c8"
      }
     },
     "e6991f813efb4b118467f99c0776efcd": {
      "model_module": "@jupyter-widgets/controls",
      "model_module_version": "1.5.0",
      "model_name": "DescriptionStyleModel",
      "state": {
       "description_width": ""
      }
     },
     "e6ea0f1df0864495a18ce55e8ee48a88": {
      "model_module": "@jupyter-widgets/controls",
      "model_module_version": "1.5.0",
      "model_name": "SliderStyleModel",
      "state": {
       "description_width": ""
      }
     },
     "e72c590e7a184b6fb4ad01d25e4545a9": {
      "model_module": "@jupyter-widgets/controls",
      "model_module_version": "1.5.0",
      "model_name": "FloatSliderModel",
      "state": {
       "description": "shininess",
       "layout": "IPY_MODEL_18a4cfa16bc946538d5790374028d641",
       "max": 1,
       "step": 0.1,
       "style": "IPY_MODEL_16f7bc26a9f3423a8cdb0ee883e8baf3",
       "value": 0.2
      }
     },
     "e7d2527d8a7e4fe289643a418f22fbe9": {
      "model_module": "@jupyter-widgets/base",
      "model_module_version": "1.2.0",
      "model_name": "LayoutModel",
      "state": {}
     },
     "e7e58753b42f479c87b45106eebaf7d8": {
      "model_module": "@jupyter-widgets/controls",
      "model_module_version": "1.5.0",
      "model_name": "HBoxModel",
      "state": {
       "children": [
        "IPY_MODEL_a5fa387b659b43e6811c5b2786ac85cd",
        "IPY_MODEL_e133259e943747ddbb36e06ec4bf3308"
       ],
       "layout": "IPY_MODEL_0edf0711fcd443488bc2bd1811f52c38"
      }
     },
     "e7f5ee21dad84e169e218eb28ecfd188": {
      "model_module": "@jupyter-widgets/controls",
      "model_module_version": "1.5.0",
      "model_name": "BoundedIntTextModel",
      "state": {
       "description": "index",
       "layout": "IPY_MODEL_94cfe289c61c4e35b29a1d6056c480fc",
       "style": "IPY_MODEL_09fefb88b02d40be9097130da4296139",
       "value": 2
      }
     },
     "e7fc586047f245ce97a55030431cb070": {
      "model_module": "@jupyter-widgets/controls",
      "model_module_version": "1.5.0",
      "model_name": "SliderStyleModel",
      "state": {
       "description_width": ""
      }
     },
     "e801703ebaf5452e9d7d9e5fc1f6b6d2": {
      "model_module": "@jupyter-widgets/controls",
      "model_module_version": "1.5.0",
      "model_name": "HBoxModel",
      "state": {
       "children": [
        "IPY_MODEL_e4ff954f4c8a42249bb72fd9a209830d",
        "IPY_MODEL_4cbdfd51fc7a4d0aa56146812cc120e6"
       ],
       "layout": "IPY_MODEL_f54b6bb1cd9047f2913448b18542023e"
      }
     },
     "e812837d2b0f440e9038a8b882215c27": {
      "model_module": "@jupyter-widgets/controls",
      "model_module_version": "1.5.0",
      "model_name": "SliderStyleModel",
      "state": {
       "description_width": ""
      }
     },
     "e82e92b531174bbab4c8ec367cfabcd1": {
      "model_module": "@jupyter-widgets/controls",
      "model_module_version": "1.5.0",
      "model_name": "DescriptionStyleModel",
      "state": {
       "description_width": ""
      }
     },
     "e8499e7bab6246a0ad0a4f30d14ddbb3": {
      "model_module": "@jupyter-widgets/base",
      "model_module_version": "1.2.0",
      "model_name": "LayoutModel",
      "state": {}
     },
     "e85c510e27f640a8b1ccdded38f8d8b3": {
      "model_module": "@jupyter-widgets/controls",
      "model_module_version": "1.5.0",
      "model_name": "ColorPickerModel",
      "state": {
       "description": "emission",
       "disabled": false,
       "layout": "IPY_MODEL_c2578ef26c0743838357a06ac7dbb03e",
       "style": "IPY_MODEL_015a0162e977482199ff9aa70a46096a",
       "value": "#000000"
      }
     },
     "e894d4c3a4fb4f25a3f9d4c94d93edc4": {
      "model_module": "@jupyter-widgets/base",
      "model_module_version": "1.2.0",
      "model_name": "LayoutModel",
      "state": {}
     },
     "e8a23a012cbf4853a330e912e3cad92f": {
      "model_module": "@jupyter-widgets/controls",
      "model_module_version": "1.5.0",
      "model_name": "HBoxModel",
      "state": {
       "children": [
        "IPY_MODEL_553432c4114a47d4a9edc9bea81bf73d",
        "IPY_MODEL_fed9460058884e208750ebcd25227db9"
       ],
       "layout": "IPY_MODEL_3f7ba822c536404481bce2f09c84de9d"
      }
     },
     "e8ec467c663c43b680bf26b13a9a4041": {
      "model_module": "@jupyter-widgets/controls",
      "model_module_version": "1.5.0",
      "model_name": "DropdownModel",
      "state": {
       "_options_labels": [
        "Color"
       ],
       "index": 0,
       "layout": "IPY_MODEL_df94b893e16e4d64bc1d78383241b66f",
       "style": "IPY_MODEL_594bc8d80195422f85abbd36476b4550"
      }
     },
     "e9582f1549fd47149a0a82f1ee63f055": {
      "model_module": "@jupyter-widgets/controls",
      "model_module_version": "1.5.0",
      "model_name": "DescriptionStyleModel",
      "state": {
       "description_width": ""
      }
     },
     "e984cba6c0f84ad5a3546c38b70bc438": {
      "model_module": "@jupyter-widgets/controls",
      "model_module_version": "1.5.0",
      "model_name": "FloatSliderModel",
      "state": {
       "description": "diffuse",
       "layout": "IPY_MODEL_36dae7e778b4478990ee42ee7dd61824",
       "max": 3,
       "step": 0.1,
       "style": "IPY_MODEL_5c020f6de4b0494db643bad3b0644d25",
       "value": 1
      }
     },
     "e996a0616fe3456f83d3a47b2d6444d3": {
      "model_module": "@jupyter-widgets/base",
      "model_module_version": "1.2.0",
      "model_name": "LayoutModel",
      "state": {}
     },
     "e9ac5fcbb97347d7a1f9f9cc7558252d": {
      "model_module": "@jupyter-widgets/controls",
      "model_module_version": "1.5.0",
      "model_name": "HBoxModel",
      "state": {
       "children": [
        "IPY_MODEL_fab3da10c1de4f6599d1614193ca639f",
        "IPY_MODEL_7aab530945c249e3a941d757c0ccee92"
       ],
       "layout": "IPY_MODEL_d978d64c481643da8a0c61fcd3e368e3"
      }
     },
     "e9e462dbc66b4f12b3954106b87e846a": {
      "model_module": "@jupyter-widgets/controls",
      "model_module_version": "1.5.0",
      "model_name": "TextModel",
      "state": {
       "continuous_update": false,
       "description": "name",
       "layout": "IPY_MODEL_a5dda22448ef440894f70c195c7f9911",
       "style": "IPY_MODEL_a56afbd1a4e74ddb9b19fb5de0bcf2b0",
       "value": "apex"
      }
     },
     "ea2eda2ed0bb482faa1ed22e03e210b0": {
      "model_module": "@jupyter-widgets/base",
      "model_module_version": "1.2.0",
      "model_name": "LayoutModel",
      "state": {
       "margin": "20px 0px"
      }
     },
     "ea37aa48e5954c09acb575e2396d3c05": {
      "model_module": "@jupyter-widgets/base",
      "model_module_version": "1.2.0",
      "model_name": "LayoutModel",
      "state": {}
     },
     "ea9d8d6b50034a3a9fb9e57b9e304732": {
      "model_module": "@jupyter-widgets/controls",
      "model_module_version": "1.5.0",
      "model_name": "IntTextModel",
      "state": {
       "description": "min",
       "layout": "IPY_MODEL_a928100a1a7543c1a952e02f63653d38",
       "step": 1,
       "style": "IPY_MODEL_cc6d0e94c93b4978adf6227cfb533d2c",
       "value": 1
      }
     },
     "eac0f378daf14e768b562dc92a52bd46": {
      "model_module": "@jupyter-widgets/controls",
      "model_module_version": "1.5.0",
      "model_name": "IntTextModel",
      "state": {
       "description": "min",
       "layout": "IPY_MODEL_5b5cffc519364c9fbd2a8e2332a75c62",
       "step": 1,
       "style": "IPY_MODEL_c8d3f70598d54c238929a83e3bcb3334",
       "value": 1
      }
     },
     "eacdf3892401422d966ce9bdf9102e5d": {
      "model_module": "@jupyter-widgets/controls",
      "model_module_version": "1.5.0",
      "model_name": "SliderStyleModel",
      "state": {
       "description_width": ""
      }
     },
     "eb11e6bb87f04e778a49e0a3916ee734": {
      "model_module": "@jupyter-widgets/base",
      "model_module_version": "1.2.0",
      "model_name": "LayoutModel",
      "state": {}
     },
     "eb38eb2960ba4c56b249425bdddbb378": {
      "model_module": "@jupyter-widgets/controls",
      "model_module_version": "1.5.0",
      "model_name": "SliderStyleModel",
      "state": {
       "description_width": ""
      }
     },
     "eb97bfba7a244317a71b5c4fedafbbe8": {
      "model_module": "@jupyter-widgets/controls",
      "model_module_version": "1.5.0",
      "model_name": "ButtonStyleModel",
      "state": {}
     },
     "eb9c25defb924bd4a139c44c404e7001": {
      "model_module": "@jupyter-widgets/controls",
      "model_module_version": "1.5.0",
      "model_name": "ButtonModel",
      "state": {
       "description": "Add category",
       "layout": "IPY_MODEL_5635bd2a1dbe4760b5638e8c865b2550",
       "style": "IPY_MODEL_6d5e3a1f1f6e4037b118fad920b662c6"
      }
     },
     "eba49d4701c34c69a1a52005a55e913e": {
      "model_module": "@jupyter-widgets/controls",
      "model_module_version": "1.5.0",
      "model_name": "ButtonModel",
      "state": {
       "description": "Add",
       "layout": "IPY_MODEL_9e0dbc685d844cfd942dcb418366010a",
       "style": "IPY_MODEL_42507f01d821430991d4d3162cf5c980"
      }
     },
     "eba7cf85bd6046aca8a8d6411fcef311": {
      "model_module": "@jupyter-widgets/base",
      "model_module_version": "1.2.0",
      "model_name": "LayoutModel",
      "state": {
       "margin": "20px 0px"
      }
     },
     "ebac3b19d9ab409d9c42b53d972811e3": {
      "model_module": "@jupyter-widgets/controls",
      "model_module_version": "1.5.0",
      "model_name": "HBoxModel",
      "state": {
       "children": [
        "IPY_MODEL_e1dcb78514e94e8ba1b4d9d3d4a8e9c9",
        "IPY_MODEL_3152de1fa1164856a37a0aa90a315025",
        "IPY_MODEL_deee13f28dc04426826d2dcb4eb4b80e",
        "IPY_MODEL_e5dac1ed4b934727b6efb2c2f6bbcf39",
        "IPY_MODEL_d79e5da1ec2d4eff8b5b67ab8d2838d8"
       ],
       "layout": "IPY_MODEL_964212339a614dc4b244dd85464c155d"
      }
     },
     "ebe128ea294142459765d6098ca68e1a": {
      "model_module": "@jupyter-widgets/controls",
      "model_module_version": "1.5.0",
      "model_name": "FloatSliderModel",
      "state": {
       "description": "diffuse",
       "layout": "IPY_MODEL_3581f98b0e0b489eb1e8d1ffb45828de",
       "max": 3,
       "step": 0.1,
       "style": "IPY_MODEL_2171707fa97347488af43fe88a591d0f",
       "value": 1
      }
     },
     "ec0d311430274174ad6f8002cc5ab013": {
      "model_module": "@jupyter-widgets/controls",
      "model_module_version": "1.5.0",
      "model_name": "ButtonModel",
      "state": {
       "description": "Add category",
       "layout": "IPY_MODEL_8cca7f8fad02405fb87c0732c5a43356",
       "style": "IPY_MODEL_70cd0cda1a844c278ad4555f50d5490a"
      }
     },
     "ec128f27e5d548fd89d35f652fb3d014": {
      "model_module": "@jupyter-widgets/base",
      "model_module_version": "1.2.0",
      "model_name": "LayoutModel",
      "state": {}
     },
     "ec25e9001eaf45e69cf86327398a4adc": {
      "model_module": "@jupyter-widgets/controls",
      "model_module_version": "1.5.0",
      "model_name": "HBoxModel",
      "state": {
       "children": [
        "IPY_MODEL_428b97f3a6fc42759d90478a7ffb3457",
        "IPY_MODEL_bd975fbe82284673a970cc17143dddb9"
       ],
       "layout": "IPY_MODEL_0c4ef21d02cd4d5098cab60592f95c54"
      }
     },
     "ec264ee7c2014d25b4a56adf37235cd5": {
      "model_module": "@jupyter-widgets/controls",
      "model_module_version": "1.5.0",
      "model_name": "DropdownModel",
      "state": {
       "index": null,
       "layout": "IPY_MODEL_b281607fe98d48e3934d05bec3d79698",
       "style": "IPY_MODEL_11a1fde1334e44b3bc445b44cfccd1ee"
      }
     },
     "ec565a4c65ef47b7b5c481d2e487b68f": {
      "model_module": "@jupyter-widgets/controls",
      "model_module_version": "1.5.0",
      "model_name": "DescriptionStyleModel",
      "state": {
       "description_width": ""
      }
     },
     "ec80a43c5a3b4523b4da1e7a74a8af65": {
      "model_module": "@jupyter-widgets/base",
      "model_module_version": "1.2.0",
      "model_name": "LayoutModel",
      "state": {}
     },
     "ec8cfa6373cf4330ae76df7ac5a2dfab": {
      "model_module": "pgljupyter",
      "model_module_version": "^0.1.18",
      "model_name": "IntEditorModel",
      "state": {
       "_model_module_version": "^0.1.18",
       "_view_module_version": "^0.1.18",
       "children": [
        "IPY_MODEL_2ed237c444f041958ac480d559718a9b",
        "IPY_MODEL_ca93be8a390a4842a5a88b86b5f0c740"
       ],
       "layout": "IPY_MODEL_057fc401feeb40d0858ffb015d0b71f2"
      }
     },
     "ecd0c12b3b9e479fb4a4bdfdcb2c2842": {
      "model_module": "@jupyter-widgets/controls",
      "model_module_version": "1.5.0",
      "model_name": "IntTextModel",
      "state": {
       "description": "max",
       "layout": "IPY_MODEL_973162b76dea4a2bbb3e36144ea6db25",
       "step": 1,
       "style": "IPY_MODEL_ed253fc3290f4b25b35b8dcd2674306e",
       "value": 10
      }
     },
     "ecd6712976814a878c2eb22824a5e5e9": {
      "model_module": "@jupyter-widgets/base",
      "model_module_version": "1.2.0",
      "model_name": "LayoutModel",
      "state": {}
     },
     "ed253fc3290f4b25b35b8dcd2674306e": {
      "model_module": "@jupyter-widgets/controls",
      "model_module_version": "1.5.0",
      "model_name": "DescriptionStyleModel",
      "state": {
       "description_width": ""
      }
     },
     "ed2e1c85dc804578834fe3b7f594baa4": {
      "model_module": "@jupyter-widgets/base",
      "model_module_version": "1.2.0",
      "model_name": "LayoutModel",
      "state": {}
     },
     "ed4b23b4eff1497396c94a783926d260": {
      "model_module": "@jupyter-widgets/controls",
      "model_module_version": "1.5.0",
      "model_name": "SliderStyleModel",
      "state": {
       "description_width": ""
      }
     },
     "ed7d66b5a93a41909abdbcdcb3f73f67": {
      "model_module": "@jupyter-widgets/base",
      "model_module_version": "1.2.0",
      "model_name": "LayoutModel",
      "state": {}
     },
     "ed878756b8fb401389ecaf5b518387e3": {
      "model_module": "@jupyter-widgets/controls",
      "model_module_version": "1.5.0",
      "model_name": "ColorPickerModel",
      "state": {
       "description": "ambient",
       "disabled": false,
       "layout": "IPY_MODEL_8ade179874b44ec4a7a9a96454510c3e",
       "style": "IPY_MODEL_74dde666b12e4ccdbc62eb47f41ed106",
       "value": "#0fc4db"
      }
     },
     "ed976a91034f48c1a0bd19c114a4740d": {
      "model_module": "@jupyter-widgets/controls",
      "model_module_version": "1.5.0",
      "model_name": "ColorPickerModel",
      "state": {
       "description": "ambient",
       "disabled": false,
       "layout": "IPY_MODEL_0b974aa9e4cb4b4d87d799dd6e18b83c",
       "style": "IPY_MODEL_846dacb512d34d31960acd0764831033",
       "value": "#e1a014"
      }
     },
     "ed9c4819f169408997cc14e89f892d4d": {
      "model_module": "@jupyter-widgets/controls",
      "model_module_version": "1.5.0",
      "model_name": "DescriptionStyleModel",
      "state": {
       "description_width": ""
      }
     },
     "edf855758a43462cb032faf769489da2": {
      "model_module": "@jupyter-widgets/controls",
      "model_module_version": "1.5.0",
      "model_name": "SliderStyleModel",
      "state": {
       "description_width": ""
      }
     },
     "edf9693f28bf40b480d44c9fe1f0e7bd": {
      "model_module": "@jupyter-widgets/controls",
      "model_module_version": "1.5.0",
      "model_name": "VBoxModel",
      "state": {
       "children": [
        "IPY_MODEL_6bbc88a5645f4f34bc382a3d79ab54d0",
        "IPY_MODEL_ccb212c6dfcc4c1d92cc6abceb4d2737"
       ],
       "layout": "IPY_MODEL_2340039821ec4848ab8a9b6c4eb0a864"
      }
     },
     "ee257afeb107428795eb942a17db9082": {
      "model_module": "@jupyter-widgets/base",
      "model_module_version": "1.2.0",
      "model_name": "LayoutModel",
      "state": {}
     },
     "ee264b2062824fd5b777853c7f930800": {
      "model_module": "@jupyter-widgets/controls",
      "model_module_version": "1.5.0",
      "model_name": "BoundedIntTextModel",
      "state": {
       "description": "index",
       "layout": "IPY_MODEL_ac370811477146a592129af91bec1989",
       "style": "IPY_MODEL_794d157bf0ff435fa7c3c39274a2f7b7",
       "value": 3
      }
     },
     "ee807aaf7dd849e494a1bea9e632bb51": {
      "model_module": "@jupyter-widgets/base",
      "model_module_version": "1.2.0",
      "model_name": "LayoutModel",
      "state": {}
     },
     "ef02132854ed4c2993d244c63b2f1da8": {
      "model_module": "@jupyter-widgets/controls",
      "model_module_version": "1.5.0",
      "model_name": "SliderStyleModel",
      "state": {
       "description_width": ""
      }
     },
     "ef1d08148f6a452081c3eb7924ab9c8f": {
      "model_module": "@jupyter-widgets/controls",
      "model_module_version": "1.5.0",
      "model_name": "ButtonStyleModel",
      "state": {}
     },
     "ef248a12bce040c9b9d1143f988a7f70": {
      "model_module": "@jupyter-widgets/controls",
      "model_module_version": "1.5.0",
      "model_name": "DescriptionStyleModel",
      "state": {
       "description_width": ""
      }
     },
     "ef5333f5371043d19deb770e002aef6f": {
      "model_module": "@jupyter-widgets/controls",
      "model_module_version": "1.5.0",
      "model_name": "DropdownModel",
      "state": {
       "_options_labels": [
        "NurbsCurve2D",
        "BezierCurve2D",
        "Polyline2D",
        "Function"
       ],
       "index": 0,
       "layout": "IPY_MODEL_c48e782f1bef445e9f2d0c4e1632f795",
       "style": "IPY_MODEL_b0816a0d3a1147ec9177057aeccf2636"
      }
     },
     "ef8bbf3c99984ea7a0ada6febc787943": {
      "model_module": "@jupyter-widgets/base",
      "model_module_version": "1.2.0",
      "model_name": "LayoutModel",
      "state": {}
     },
     "efecd650a0b549cfb8d04768a7af3883": {
      "model_module": "@jupyter-widgets/base",
      "model_module_version": "1.2.0",
      "model_name": "LayoutModel",
      "state": {}
     },
     "f0677d8a64674b559e7f258cf8fa5541": {
      "model_module": "@jupyter-widgets/controls",
      "model_module_version": "1.5.0",
      "model_name": "DescriptionStyleModel",
      "state": {
       "description_width": ""
      }
     },
     "f06f7a31a7f6416183260274d8da1272": {
      "model_module": "@jupyter-widgets/base",
      "model_module_version": "1.2.0",
      "model_name": "LayoutModel",
      "state": {
       "margin": "20px 0px"
      }
     },
     "f07a901e6ad14b95a2d72d3015de3a12": {
      "model_module": "@jupyter-widgets/controls",
      "model_module_version": "1.5.0",
      "model_name": "IntSliderModel",
      "state": {
       "description": "value",
       "layout": "IPY_MODEL_38e26cd9e23545518709851cba698d94",
       "max": 10,
       "min": 1,
       "style": "IPY_MODEL_c84fe53e0e9a4df391e82723c5e179d5",
       "value": 3
      }
     },
     "f07ec7a47aa64a3a83eebeecca3f4573": {
      "model_module": "@jupyter-widgets/controls",
      "model_module_version": "1.5.0",
      "model_name": "IntSliderModel",
      "state": {
       "description": "value",
       "layout": "IPY_MODEL_1f72998eed09408198e3afb7711fce67",
       "max": 10,
       "min": 1,
       "style": "IPY_MODEL_7ff69b0f459c406da1dcf1b6b9ea1d85",
       "value": 5
      }
     },
     "f091e8ee938040379301180a6b5f8ece": {
      "model_module": "pgljupyter",
      "model_module_version": "^0.1.16",
      "model_name": "MaterialEditorModel",
      "state": {
       "_model_module_version": "^0.1.16",
       "_view_module_version": "^0.1.16",
       "children": [
        "IPY_MODEL_6b7f50760bbe40128e53e8730548a7c5",
        "IPY_MODEL_af4039e9ddde442ba446084c54416900",
        "IPY_MODEL_80301650537045819e119da69d2e1eaf",
        "IPY_MODEL_d17ee3bf95d444e6a5dc0e77911f5b59",
        "IPY_MODEL_cb7d447aaf2c4c759979e1f891e6d461",
        "IPY_MODEL_e984cba6c0f84ad5a3546c38b70bc438",
        "IPY_MODEL_89a945aee0754e80a2eee46f61496ba5",
        "IPY_MODEL_fa3fcbaf866c47d0a6ee55fb9125c3d4"
       ],
       "layout": "IPY_MODEL_92978dae10c04f879b6b666ba80d5835"
      }
     },
     "f0d18c7a33314b93b6a2c556090ad031": {
      "model_module": "@jupyter-widgets/controls",
      "model_module_version": "1.5.0",
      "model_name": "DescriptionStyleModel",
      "state": {
       "description_width": ""
      }
     },
     "f10e1a78bef24b7a80af155ce5e761cd": {
      "model_module": "@jupyter-widgets/controls",
      "model_module_version": "1.5.0",
      "model_name": "ButtonStyleModel",
      "state": {}
     },
     "f12070df747f4997bb07a8795782dbf5": {
      "model_module": "@jupyter-widgets/controls",
      "model_module_version": "1.5.0",
      "model_name": "ButtonModel",
      "state": {
       "description": "Add",
       "layout": "IPY_MODEL_45f98c4f44d14504a22ffa36469c7310",
       "style": "IPY_MODEL_9fa90f82578d4c6cbf8256092d7543fa"
      }
     },
     "f142e994cc534a86867a64e2eda8db55": {
      "model_module": "@jupyter-widgets/controls",
      "model_module_version": "1.5.0",
      "model_name": "HBoxModel",
      "state": {
       "children": [
        "IPY_MODEL_cbdaf49adba648288d71c4ee0c85a46d",
        "IPY_MODEL_96ef1dd3e38b40a6b4b6aa0a8d3bcca5"
       ],
       "layout": "IPY_MODEL_266957bdee4c488d96db5cfceab4b072"
      }
     },
     "f147ffdfc6994c26b4177e9b873ebcc9": {
      "model_module": "pgljupyter",
      "model_module_version": "^0.1.17",
      "model_name": "IntEditorModel",
      "state": {
       "_model_module_version": "^0.1.17",
       "_view_module_version": "^0.1.17",
       "children": [
        "IPY_MODEL_445f90f4d3de40cb874172bbb0b2c38d",
        "IPY_MODEL_004fe4bded924a9a932e3394f3befd69"
       ],
       "layout": "IPY_MODEL_80b56e6d76c34f719488204e0bf1de2d"
      }
     },
     "f1784203f14e47b2863da9024e9cac9a": {
      "model_module": "@jupyter-widgets/controls",
      "model_module_version": "1.5.0",
      "model_name": "SliderStyleModel",
      "state": {
       "description_width": ""
      }
     },
     "f1c6aa52cc2a40a396a24165e1c5bf64": {
      "model_module": "@jupyter-widgets/controls",
      "model_module_version": "1.5.0",
      "model_name": "DescriptionStyleModel",
      "state": {
       "description_width": ""
      }
     },
     "f20f31a04ca646aead57a9fa9a0eab65": {
      "model_module": "@jupyter-widgets/controls",
      "model_module_version": "1.5.0",
      "model_name": "SliderStyleModel",
      "state": {
       "description_width": ""
      }
     },
     "f223c7d886294225be0b4cb6d842a989": {
      "model_module": "@jupyter-widgets/controls",
      "model_module_version": "1.5.0",
      "model_name": "SliderStyleModel",
      "state": {
       "description_width": ""
      }
     },
     "f2282812a130441eac41b660ee49477d": {
      "model_module": "@jupyter-widgets/controls",
      "model_module_version": "1.5.0",
      "model_name": "ButtonModel",
      "state": {
       "description": "Save changes",
       "layout": "IPY_MODEL_37be1e18450a48628dc1cfe7889e3ae0",
       "style": "IPY_MODEL_ae49ac24f7d94cbea0a0b653a87d4b7d"
      }
     },
     "f26688f6c93d449ca3039c51f092914f": {
      "model_module": "@jupyter-widgets/controls",
      "model_module_version": "1.5.0",
      "model_name": "ButtonStyleModel",
      "state": {}
     },
     "f2c1729018b749dc825f727cf95f0163": {
      "model_module": "@jupyter-widgets/controls",
      "model_module_version": "1.5.0",
      "model_name": "TextModel",
      "state": {
       "layout": "IPY_MODEL_a0c0376ddf624c66a5d12384bfc7b96f",
       "placeholder": "category name",
       "style": "IPY_MODEL_6275cdb1a22040fd844c2deb6ab44a03"
      }
     },
     "f2ce19fc1a01412bb35dc2f4381a068b": {
      "model_module": "@jupyter-widgets/controls",
      "model_module_version": "1.5.0",
      "model_name": "DescriptionStyleModel",
      "state": {
       "description_width": ""
      }
     },
     "f2cedfd93f164c5997b034682b7dd6d1": {
      "model_module": "@jupyter-widgets/base",
      "model_module_version": "1.2.0",
      "model_name": "LayoutModel",
      "state": {}
     },
     "f33af95ef58846bf8df866296877a85b": {
      "model_module": "@jupyter-widgets/controls",
      "model_module_version": "1.5.0",
      "model_name": "HBoxModel",
      "state": {
       "children": [
        "IPY_MODEL_585fc48c58fd48cb974017172fb63f8c"
       ],
       "layout": "IPY_MODEL_5a6aab1bb709492da4f69389f9069c24"
      }
     },
     "f364d80a738d4f4a84c272cef9cd3e68": {
      "model_module": "@jupyter-widgets/controls",
      "model_module_version": "1.5.0",
      "model_name": "TextModel",
      "state": {
       "continuous_update": false,
       "description": "name",
       "layout": "IPY_MODEL_c70724b373544707a8ceb6ea34ead215",
       "style": "IPY_MODEL_f5bfbe34070d48409e2eb89df0aaa1dc",
       "value": "color_2"
      }
     },
     "f3a5d74515114615b5d451bc8e5d23f5": {
      "model_module": "@jupyter-widgets/controls",
      "model_module_version": "1.5.0",
      "model_name": "ButtonStyleModel",
      "state": {}
     },
     "f3b5f46f7b7c466baaef384604030357": {
      "model_module": "@jupyter-widgets/base",
      "model_module_version": "1.2.0",
      "model_name": "LayoutModel",
      "state": {}
     },
     "f3c024e88d6640b3b187291687dc790d": {
      "model_module": "@jupyter-widgets/base",
      "model_module_version": "1.2.0",
      "model_name": "LayoutModel",
      "state": {}
     },
     "f3ecc66415384a3b93c8afe5ca93b8f6": {
      "model_module": "@jupyter-widgets/base",
      "model_module_version": "1.2.0",
      "model_name": "LayoutModel",
      "state": {}
     },
     "f3f2dbabf14c4ce7bc023cc0ac7e2774": {
      "model_module": "@jupyter-widgets/base",
      "model_module_version": "1.2.0",
      "model_name": "LayoutModel",
      "state": {}
     },
     "f41d2bc09ad24d97b1e0e97f75537487": {
      "model_module": "@jupyter-widgets/base",
      "model_module_version": "1.2.0",
      "model_name": "LayoutModel",
      "state": {}
     },
     "f41ebca09dd94958b840510087992ffe": {
      "model_module": "@jupyter-widgets/base",
      "model_module_version": "1.2.0",
      "model_name": "LayoutModel",
      "state": {
       "margin": "20px 0px"
      }
     },
     "f4bdb1ac62ae4f1ba65cb9bfe80e8b50": {
      "model_module": "@jupyter-widgets/controls",
      "model_module_version": "1.5.0",
      "model_name": "HBoxModel",
      "state": {
       "children": [
        "IPY_MODEL_b4eb01c447064278a10e95e371e491b5",
        "IPY_MODEL_368bf31b2cd549b2949bece28e1205ad"
       ],
       "layout": "IPY_MODEL_3859230710584fe98955e85d63f45d07"
      }
     },
     "f4f2faa3af214fe2ad81b69860fda065": {
      "model_module": "@jupyter-widgets/base",
      "model_module_version": "1.2.0",
      "model_name": "LayoutModel",
      "state": {}
     },
     "f4f80c8cf6b444139f0df44cf6b171cc": {
      "model_module": "@jupyter-widgets/controls",
      "model_module_version": "1.5.0",
      "model_name": "ColorPickerModel",
      "state": {
       "description": "ambient",
       "disabled": false,
       "layout": "IPY_MODEL_b609d0249e3d49ada716ca64850e65b8",
       "style": "IPY_MODEL_57ba92c34a3c4d26a6098635e1484968",
       "value": "#5b4534"
      }
     },
     "f54b6bb1cd9047f2913448b18542023e": {
      "model_module": "@jupyter-widgets/base",
      "model_module_version": "1.2.0",
      "model_name": "LayoutModel",
      "state": {
       "flex_flow": "row wrap",
       "margin": "20px"
      }
     },
     "f5730ea7e7c64ddd832fe8d4f113f656": {
      "model_module": "@jupyter-widgets/controls",
      "model_module_version": "1.5.0",
      "model_name": "ColorPickerModel",
      "state": {
       "description": "ambient",
       "disabled": false,
       "layout": "IPY_MODEL_a5264762497747948922c606524ae042",
       "style": "IPY_MODEL_4045fe6afc194dcaa3f2c54427fa1745",
       "value": "#195717"
      }
     },
     "f5bfbe34070d48409e2eb89df0aaa1dc": {
      "model_module": "@jupyter-widgets/controls",
      "model_module_version": "1.5.0",
      "model_name": "DescriptionStyleModel",
      "state": {
       "description_width": ""
      }
     },
     "f5d36d54332540779b373371ce91389e": {
      "model_module": "@jupyter-widgets/base",
      "model_module_version": "1.2.0",
      "model_name": "LayoutModel",
      "state": {
       "flex_flow": "row wrap"
      }
     },
     "f600a6ae2e384964b8cef48223b138d5": {
      "model_module": "@jupyter-widgets/controls",
      "model_module_version": "1.5.0",
      "model_name": "TextModel",
      "state": {
       "continuous_update": false,
       "description": "name",
       "layout": "IPY_MODEL_1910124b79a9485da861e6e0c1762d37",
       "style": "IPY_MODEL_fc73aa7236da431dac7ba2b4a124ad11",
       "value": "trunk"
      }
     },
     "f6729743e45f4de5a242dd5d165d2def": {
      "model_module": "@jupyter-widgets/controls",
      "model_module_version": "1.5.0",
      "model_name": "HBoxModel",
      "state": {
       "children": [
        "IPY_MODEL_beaddf86b7f44cc299563ba4d42805ac",
        "IPY_MODEL_28691dd4baba4a50be1bed6f5dc13469"
       ],
       "layout": "IPY_MODEL_9686a9ec1f724f7b9f1afc42c755dcf4"
      }
     },
     "f6831da68c52444e88220f9ed6ef5b40": {
      "model_module": "@jupyter-widgets/controls",
      "model_module_version": "1.5.0",
      "model_name": "DescriptionStyleModel",
      "state": {
       "description_width": ""
      }
     },
     "f6877ba37bef4c718f9ad54a1dee9c7e": {
      "model_module": "@jupyter-widgets/controls",
      "model_module_version": "1.5.0",
      "model_name": "VBoxModel",
      "state": {
       "children": [
        "IPY_MODEL_5872ea4882c74993af9862d9a8bfcb9f",
        "IPY_MODEL_20298b4a168141e9be68094a28287409",
        "IPY_MODEL_ebac3b19d9ab409d9c42b53d972811e3",
        "IPY_MODEL_e7e58753b42f479c87b45106eebaf7d8",
        "IPY_MODEL_cbb885bb9b4c46c4a535abf50628efc5"
       ],
       "layout": "IPY_MODEL_c2ea397318574d91a49746ced9e8db1a"
      }
     },
     "f6bd143eb72a4021a9ee1d0db9b45016": {
      "model_module": "@jupyter-widgets/controls",
      "model_module_version": "1.5.0",
      "model_name": "FloatTextModel",
      "state": {
       "description": "min",
       "layout": "IPY_MODEL_340f0dbc98ff42bda049e2e8bbb7b838",
       "step": null,
       "style": "IPY_MODEL_7ee5793271fa419b8cf938c7cdd42829",
       "value": 0.01
      }
     },
     "f6c4882c37f6475dbcdbc12bd7155a7c": {
      "model_module": "@jupyter-widgets/base",
      "model_module_version": "1.2.0",
      "model_name": "LayoutModel",
      "state": {}
     },
     "f6d0532b4d034ab5add8a942c8036f27": {
      "model_module": "@jupyter-widgets/controls",
      "model_module_version": "1.5.0",
      "model_name": "SliderStyleModel",
      "state": {
       "description_width": ""
      }
     },
     "f760108295804b51a12e98b907147ca4": {
      "model_module": "@jupyter-widgets/controls",
      "model_module_version": "1.5.0",
      "model_name": "HBoxModel",
      "state": {
       "children": [
        "IPY_MODEL_060b0a3a5fe149d88da37110e7fd99dd",
        "IPY_MODEL_f2c1729018b749dc825f727cf95f0163"
       ],
       "layout": "IPY_MODEL_1cf4a392c16e40a5af323f7c787ca26d"
      }
     },
     "f786377f3c8f4c4db4d47255efae9e90": {
      "model_module": "@jupyter-widgets/base",
      "model_module_version": "1.2.0",
      "model_name": "LayoutModel",
      "state": {}
     },
     "f78af31ccb8c4fa6988f852a049c17d8": {
      "model_module": "pgljupyter",
      "model_module_version": "^0.1.18",
      "model_name": "MaterialEditorModel",
      "state": {
       "_model_module_version": "^0.1.18",
       "_view_module_version": "^0.1.18",
       "children": [
        "IPY_MODEL_e0797b2efbd349b591c26c07ddceb9b9",
        "IPY_MODEL_b3ab021d6df046ceb59289797f1e4f25",
        "IPY_MODEL_1381a5f505a041c5a6944ee0787a8c0c",
        "IPY_MODEL_86e5d6226409410ea3e7aff87df7c57d",
        "IPY_MODEL_304e2cc8f62a4765b62a59138286ab58",
        "IPY_MODEL_1ef74d1c41b24007821a052f50da2c9f",
        "IPY_MODEL_850aea0efb99435baa77c0a116afa497",
        "IPY_MODEL_2ba15c3936ee4dd3a35e1ac8b8710c9d"
       ],
       "layout": "IPY_MODEL_d472e1655a9444f0b18024002a8daeb0"
      }
     },
     "f7a150d82f6d40e4934ef1a89819382f": {
      "model_module": "@jupyter-widgets/base",
      "model_module_version": "1.2.0",
      "model_name": "LayoutModel",
      "state": {}
     },
     "f7ff34c66d4b431c8d7a458913ac23de": {
      "model_module": "@jupyter-widgets/base",
      "model_module_version": "1.2.0",
      "model_name": "LayoutModel",
      "state": {
       "flex_flow": "row wrap",
       "margin": "20px"
      }
     },
     "f809bb47cbf94d079b9331253cf0b41b": {
      "model_module": "@jupyter-widgets/base",
      "model_module_version": "1.2.0",
      "model_name": "LayoutModel",
      "state": {}
     },
     "f826609262fd40cb852fc2f4bd691b74": {
      "model_module": "@jupyter-widgets/base",
      "model_module_version": "1.2.0",
      "model_name": "LayoutModel",
      "state": {}
     },
     "f834a6370cbe4f55b43168d73475ea6e": {
      "model_module": "@jupyter-widgets/controls",
      "model_module_version": "1.5.0",
      "model_name": "HBoxModel",
      "state": {
       "children": [
        "IPY_MODEL_aa07377abfb5489ca39018eb747fddb6",
        "IPY_MODEL_58b01411a162470783fbaaa91028104c"
       ],
       "layout": "IPY_MODEL_7e4f103663654092a3b6f3f18908d2a4"
      }
     },
     "f83dfb11eba54161877d623ec09906b5": {
      "model_module": "@jupyter-widgets/base",
      "model_module_version": "1.2.0",
      "model_name": "LayoutModel",
      "state": {
       "flex_flow": "row wrap"
      }
     },
     "f8b573f681b34435b46c31918778cf1a": {
      "model_module": "@jupyter-widgets/base",
      "model_module_version": "1.2.0",
      "model_name": "LayoutModel",
      "state": {}
     },
     "f8bb53ae98a6404eb9fbd8309f221e79": {
      "model_module": "@jupyter-widgets/controls",
      "model_module_version": "1.5.0",
      "model_name": "DescriptionStyleModel",
      "state": {
       "description_width": ""
      }
     },
     "f8bc8a94e6fc4a96a7ccd3d239c789b6": {
      "model_module": "@jupyter-widgets/base",
      "model_module_version": "1.2.0",
      "model_name": "LayoutModel",
      "state": {}
     },
     "f8e8217ad4ff42db874a2be04d88d09c": {
      "model_module": "@jupyter-widgets/base",
      "model_module_version": "1.2.0",
      "model_name": "LayoutModel",
      "state": {}
     },
     "f958a1e7a32245119bf98c95905da1a2": {
      "model_module": "@jupyter-widgets/controls",
      "model_module_version": "1.5.0",
      "model_name": "ColorPickerModel",
      "state": {
       "description": "specular",
       "disabled": false,
       "layout": "IPY_MODEL_9b552c4d5fcb4cb5a27ef472c8be80f2",
       "style": "IPY_MODEL_537f1d906667422699e2fce4b5f31496",
       "value": "#282828"
      }
     },
     "f9d90d05276440c2b0ff25f4cf787f32": {
      "model_module": "@jupyter-widgets/controls",
      "model_module_version": "1.5.0",
      "model_name": "DescriptionStyleModel",
      "state": {
       "description_width": ""
      }
     },
     "f9ee036e79134257a314bedd8f10beed": {
      "model_module": "@jupyter-widgets/controls",
      "model_module_version": "1.5.0",
      "model_name": "HBoxModel",
      "state": {
       "children": [
        "IPY_MODEL_40b8836f5c9a48a5a579b8ab931ba7aa",
        "IPY_MODEL_0dfd63902b034d3a9cf7782c9e751b71"
       ],
       "layout": "IPY_MODEL_9424c3010f3348a9bc112e2fabf01dd9"
      }
     },
     "fa3fcbaf866c47d0a6ee55fb9125c3d4": {
      "model_module": "@jupyter-widgets/controls",
      "model_module_version": "1.5.0",
      "model_name": "FloatSliderModel",
      "state": {
       "description": "shininess",
       "layout": "IPY_MODEL_0493264d976c421cbf4fe203f92091da",
       "max": 1,
       "step": 0.1,
       "style": "IPY_MODEL_19c0e5bf37c2495dba13da8f747c69e9",
       "value": 0.2
      }
     },
     "fa6085381b324435aa9032f0b10413fd": {
      "model_module": "@jupyter-widgets/base",
      "model_module_version": "1.2.0",
      "model_name": "LayoutModel",
      "state": {
       "margin": "20px 0px"
      }
     },
     "fa78c56a5cee470db3de6e4fe2ec4481": {
      "model_module": "@jupyter-widgets/controls",
      "model_module_version": "1.5.0",
      "model_name": "IntSliderModel",
      "state": {
       "description": "value",
       "layout": "IPY_MODEL_9e9b6175f07b4b388b45284c5be91fe8",
       "max": 7,
       "min": 1,
       "style": "IPY_MODEL_200bbcd159c24386b1e2e9fe9c914ff7",
       "value": 3
      }
     },
     "fab3da10c1de4f6599d1614193ca639f": {
      "model_module": "@jupyter-widgets/controls",
      "model_module_version": "1.5.0",
      "model_name": "ButtonModel",
      "state": {
       "description": "Add",
       "layout": "IPY_MODEL_2e48c81795b64dcba33d064847595389",
       "style": "IPY_MODEL_e313ecd7771845129142078320e10db3"
      }
     },
     "fafd54646a864f0485ae172b9494da07": {
      "model_module": "@jupyter-widgets/controls",
      "model_module_version": "1.5.0",
      "model_name": "ButtonModel",
      "state": {
       "description": "Save changes",
       "layout": "IPY_MODEL_8c8cef7c9f7e4f1e84b0cd4319df23e7",
       "style": "IPY_MODEL_ad4777c7b26e4dc686420550608d2f12"
      }
     },
     "fb0c1e5b61d44683adf9f59f2d517439": {
      "model_module": "@jupyter-widgets/controls",
      "model_module_version": "1.5.0",
      "model_name": "ColorPickerModel",
      "state": {
       "description": "ambient",
       "disabled": false,
       "layout": "IPY_MODEL_c9e51a7855744cacbf121c9bb896cf32",
       "style": "IPY_MODEL_7cf3624548d34c2082dbac79e56a76bf",
       "value": "#195717"
      }
     },
     "fb273117bed744e4a7d3e39c85368d3d": {
      "model_module": "pgljupyter",
      "model_module_version": "^0.1.19",
      "model_name": "MaterialEditorModel",
      "state": {
       "_model_module_version": "^0.1.19",
       "_view_module_version": "^0.1.19",
       "children": [
        "IPY_MODEL_bed12060ceba4494bf43652e512c3823",
        "IPY_MODEL_2bc76f78cd2740a6bbf7d58fd5b203a9",
        "IPY_MODEL_60b848e0a9d44febb7a1d3a68a4ed857",
        "IPY_MODEL_c92b975754c040e5b82b402ea1415e65",
        "IPY_MODEL_c215c775706940698bf97b3b703c91da",
        "IPY_MODEL_170f6b615a774635b281c9b6e87c2707",
        "IPY_MODEL_171326388f714eb48b0fdd7eb080c8b2",
        "IPY_MODEL_3c36699284b54bd483272ff26ed52203"
       ],
       "layout": "IPY_MODEL_1e3f2f62b72846cc8fb09a7e9d3f906d"
      }
     },
     "fb438b1cc1484336bb3533aa50de8e15": {
      "model_module": "@jupyter-widgets/base",
      "model_module_version": "1.2.0",
      "model_name": "LayoutModel",
      "state": {}
     },
     "fb7df1f7b61a4ed2818a12f94a3168c4": {
      "model_module": "@jupyter-widgets/controls",
      "model_module_version": "1.5.0",
      "model_name": "DescriptionStyleModel",
      "state": {
       "description_width": ""
      }
     },
     "fb890f35eb7342de80f4cca03a20aba6": {
      "model_module": "@jupyter-widgets/controls",
      "model_module_version": "1.5.0",
      "model_name": "DescriptionStyleModel",
      "state": {
       "description_width": ""
      }
     },
     "fc127ff6172e4b0984f4d7a91e171c32": {
      "model_module": "@jupyter-widgets/controls",
      "model_module_version": "1.5.0",
      "model_name": "FloatSliderModel",
      "state": {
       "description": "transparency",
       "layout": "IPY_MODEL_97afb2960e67464ebd0ea7e768317b03",
       "max": 1,
       "step": 0.1,
       "style": "IPY_MODEL_8345834e21f741efb76cf84afc82297c"
      }
     },
     "fc285204d80d4fe587b6c0d1e1042610": {
      "model_module": "@jupyter-widgets/controls",
      "model_module_version": "1.5.0",
      "model_name": "DescriptionStyleModel",
      "state": {
       "description_width": ""
      }
     },
     "fc73aa7236da431dac7ba2b4a124ad11": {
      "model_module": "@jupyter-widgets/controls",
      "model_module_version": "1.5.0",
      "model_name": "DescriptionStyleModel",
      "state": {
       "description_width": ""
      }
     },
     "fc7845240a5a42389a89509a28eb34dd": {
      "model_module": "@jupyter-widgets/controls",
      "model_module_version": "1.5.0",
      "model_name": "DescriptionStyleModel",
      "state": {
       "description_width": ""
      }
     },
     "fcb10f0aee304daf943e423fda4b86f2": {
      "model_module": "@jupyter-widgets/controls",
      "model_module_version": "1.5.0",
      "model_name": "ColorPickerModel",
      "state": {
       "description": "emission",
       "disabled": false,
       "layout": "IPY_MODEL_b2f08df3f7bb4655984473bbce30d2a8",
       "style": "IPY_MODEL_b1bea4580daf4865a4ab65528a99b960",
       "value": "#000000"
      }
     },
     "fcb828149d8b4587a737cf0adaca9f9c": {
      "model_module": "@jupyter-widgets/base",
      "model_module_version": "1.2.0",
      "model_name": "LayoutModel",
      "state": {}
     },
     "fcc4f1c9cd4740db81b92272d44020c6": {
      "model_module": "@jupyter-widgets/controls",
      "model_module_version": "1.5.0",
      "model_name": "ColorPickerModel",
      "state": {
       "description": "emission",
       "disabled": false,
       "layout": "IPY_MODEL_932905fe953a416bb495d9f6c2ffa4fe",
       "style": "IPY_MODEL_a8635d0de8634cffa50f768817ef709b",
       "value": "#000000"
      }
     },
     "fcdb0e54646c4bbbb1485f7cb42b4bbc": {
      "model_module": "@jupyter-widgets/controls",
      "model_module_version": "1.5.0",
      "model_name": "ButtonModel",
      "state": {
       "description": "Add",
       "layout": "IPY_MODEL_028403f5d1004d399f4c48bedf82c508",
       "style": "IPY_MODEL_c7ce13c027424623b6f2e99ab754ce1b"
      }
     },
     "fce01e4c69184a6aa0107d409c41700a": {
      "model_module": "@jupyter-widgets/controls",
      "model_module_version": "1.5.0",
      "model_name": "DescriptionStyleModel",
      "state": {
       "description_width": ""
      }
     },
     "fd08b70fb3e142cb98e6e66d7a86f160": {
      "model_module": "@jupyter-widgets/controls",
      "model_module_version": "1.5.0",
      "model_name": "DescriptionStyleModel",
      "state": {
       "description_width": ""
      }
     },
     "fd123b157eeb4540a7cc729aaa32ef3f": {
      "model_module": "@jupyter-widgets/controls",
      "model_module_version": "1.5.0",
      "model_name": "ButtonModel",
      "state": {
       "description": "Apply changes",
       "layout": "IPY_MODEL_8b9d8ab9579d479587514dba40ca7bcd",
       "style": "IPY_MODEL_907af94c6c2443389979483218e080ca"
      }
     },
     "fd273ce6761742148ac89669bc64d98d": {
      "model_module": "@jupyter-widgets/base",
      "model_module_version": "1.2.0",
      "model_name": "LayoutModel",
      "state": {
       "margin": "20px 0px"
      }
     },
     "fd50b55e03484806aa3cae2a2541a1d3": {
      "model_module": "@jupyter-widgets/base",
      "model_module_version": "1.2.0",
      "model_name": "LayoutModel",
      "state": {}
     },
     "fdc7cdfb71c14e9f9ae8327b7e4919ce": {
      "model_module": "@jupyter-widgets/base",
      "model_module_version": "1.2.0",
      "model_name": "LayoutModel",
      "state": {}
     },
     "fdd783e8cd6f4152908064599bd69390": {
      "model_module": "@jupyter-widgets/base",
      "model_module_version": "1.2.0",
      "model_name": "LayoutModel",
      "state": {}
     },
     "fdfa37b789c94f49849c21a3d2bec28a": {
      "model_module": "@jupyter-widgets/base",
      "model_module_version": "1.2.0",
      "model_name": "LayoutModel",
      "state": {}
     },
     "fe19d3f5e3dc4cd99368775b1f16b8cc": {
      "model_module": "@jupyter-widgets/controls",
      "model_module_version": "1.5.0",
      "model_name": "ButtonStyleModel",
      "state": {}
     },
     "fe1ca6c5f8b149d586fe37d3f4c8d5df": {
      "model_module": "@jupyter-widgets/controls",
      "model_module_version": "1.5.0",
      "model_name": "ColorPickerModel",
      "state": {
       "description": "emission",
       "disabled": false,
       "layout": "IPY_MODEL_3ba93cb374114bc4a5fdc1c020fb99d2",
       "style": "IPY_MODEL_3036777e7fe24a1599267429c31acd12",
       "value": "#000000"
      }
     },
     "fe21590a178c49c09a36c5fb9b0fb406": {
      "model_module": "@jupyter-widgets/base",
      "model_module_version": "1.2.0",
      "model_name": "LayoutModel",
      "state": {
       "margin": "20px 0px"
      }
     },
     "fe39b8c3b9064292a4c361b7263a6c84": {
      "model_module": "@jupyter-widgets/controls",
      "model_module_version": "1.5.0",
      "model_name": "BoundedIntTextModel",
      "state": {
       "description": "index",
       "layout": "IPY_MODEL_2efed7a1fa88483699467354d3562b8e",
       "style": "IPY_MODEL_d152ff0131e44467aa1643fe2974e1b9",
       "value": 1
      }
     },
     "fe3f4751df8748c2bbaad9e702ecd866": {
      "model_module": "@jupyter-widgets/base",
      "model_module_version": "1.2.0",
      "model_name": "LayoutModel",
      "state": {
       "margin": "20px 0px"
      }
     },
     "fe6fc9b954504ac48e9ea7a8339c409b": {
      "model_module": "@jupyter-widgets/controls",
      "model_module_version": "1.5.0",
      "model_name": "FloatSliderModel",
      "state": {
       "description": "transparency",
       "layout": "IPY_MODEL_71bc512b2098424d90eb915826bf82e4",
       "max": 1,
       "step": 0.1,
       "style": "IPY_MODEL_94fe467575e84f10afa968e472e6294b"
      }
     },
     "fe77130544c74fea9c083f6b668bcfaf": {
      "model_module": "@jupyter-widgets/controls",
      "model_module_version": "1.5.0",
      "model_name": "DescriptionStyleModel",
      "state": {
       "description_width": ""
      }
     },
     "fe9595ab730a4f21a90e37b95c64eb35": {
      "model_module": "@jupyter-widgets/base",
      "model_module_version": "1.2.0",
      "model_name": "LayoutModel",
      "state": {}
     },
     "fece1e7f13bd475fac0ed48c8e36b25b": {
      "model_module": "@jupyter-widgets/controls",
      "model_module_version": "1.5.0",
      "model_name": "DropdownModel",
      "state": {
       "_options_labels": [
        "NurbsCurve2D",
        "BezierCurve2D",
        "Polyline2D",
        "Function"
       ],
       "index": 0,
       "layout": "IPY_MODEL_f3f2dbabf14c4ce7bc023cc0ac7e2774",
       "style": "IPY_MODEL_6eb1ab587c7b4b10b6c7a97e430683cf"
      }
     },
     "fed9460058884e208750ebcd25227db9": {
      "model_module": "@jupyter-widgets/controls",
      "model_module_version": "1.5.0",
      "model_name": "CheckboxModel",
      "state": {
       "description": "Auto apply",
       "disabled": false,
       "layout": "IPY_MODEL_7684bf627af64c99a1beb3e9c3800d93",
       "style": "IPY_MODEL_1f1df1d84cbd4198a124c637fd5a7782",
       "value": false
      }
     },
     "fef140b17815482fac4c6efc6accb2db": {
      "model_module": "@jupyter-widgets/controls",
      "model_module_version": "1.5.0",
      "model_name": "FloatSliderModel",
      "state": {
       "description": "shininess",
       "layout": "IPY_MODEL_23b2d84440ff41cdb3f1251c2c430172",
       "max": 1,
       "step": 0.1,
       "style": "IPY_MODEL_e7fc586047f245ce97a55030431cb070",
       "value": 0.2
      }
     },
     "fef2dad388044251aeb285ace627b9c7": {
      "model_module": "@jupyter-widgets/base",
      "model_module_version": "1.2.0",
      "model_name": "LayoutModel",
      "state": {}
     },
     "ff9430da97704faca4a5581d596a9844": {
      "model_module": "@jupyter-widgets/base",
      "model_module_version": "1.2.0",
      "model_name": "LayoutModel",
      "state": {}
     },
     "ffc34902c36642e1969fa8c466aeb653": {
      "model_module": "@jupyter-widgets/base",
      "model_module_version": "1.2.0",
      "model_name": "LayoutModel",
      "state": {
       "margin": "20px 0px"
      }
     },
     "ffd2e60a3312408a8134cc48bad3dece": {
      "model_module": "@jupyter-widgets/controls",
      "model_module_version": "1.5.0",
      "model_name": "FloatSliderModel",
      "state": {
       "description": "diffuse",
       "layout": "IPY_MODEL_9e2c5933bf4e4702ae54e16799be5b86",
       "max": 3,
       "step": 0.1,
       "style": "IPY_MODEL_1b23eb33720947ad81bbf0cc81ea07cf",
       "value": 1
      }
     },
     "ffd47b6cfe404097909f5f4870a7fc67": {
      "model_module": "@jupyter-widgets/controls",
      "model_module_version": "1.5.0",
      "model_name": "DescriptionStyleModel",
      "state": {
       "description_width": ""
      }
     },
     "ffe3a14526fc4001b47eb439d2875e4a": {
      "model_module": "@jupyter-widgets/controls",
      "model_module_version": "1.5.0",
      "model_name": "SliderStyleModel",
      "state": {
       "description_width": ""
      }
     },
     "fffdce2dbd3c478e87ffe3ab55ccfcaf": {
      "model_module": "@jupyter-widgets/base",
      "model_module_version": "1.2.0",
      "model_name": "LayoutModel",
      "state": {}
     }
    },
    "version_major": 2,
    "version_minor": 0
   }
  }
 },
 "nbformat": 4,
 "nbformat_minor": 4
}
