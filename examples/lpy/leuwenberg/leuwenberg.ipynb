{
 "cells": [
  {
   "cell_type": "code",
   "execution_count": 1,
   "metadata": {},
   "outputs": [],
   "source": [
    "from pgljupyter import LsystemWidget"
   ]
  },
  {
   "cell_type": "code",
   "execution_count": 2,
   "metadata": {},
   "outputs": [],
   "source": [
    "lw = LsystemWidget(\n",
    "    'leuwenberg.lpy',\n",
    "    unit='m',\n",
    "    size_display=(600, 400),\n",
    "    size_world=50,\n",
    "    animate=True\n",
    ")"
   ]
  },
  {
   "cell_type": "code",
   "execution_count": 3,
   "metadata": {},
   "outputs": [
    {
     "data": {
      "application/vnd.jupyter.widget-view+json": {
       "model_id": "650123fe060f4b61948a2ff7625b787d",
       "version_major": 2,
       "version_minor": 0
      },
      "text/plain": [
       "LsystemWidget(animate=True, derivationLength=42, progress=1.0, scene={'data': b'x\\xdaSLrw\\xf5\\xf7e`Pp\\xe0\\xe5R…"
      ]
     },
     "metadata": {},
     "output_type": "display_data"
    }
   ],
   "source": [
    "lw"
   ]
  },
  {
   "cell_type": "code",
   "execution_count": 4,
   "metadata": {},
   "outputs": [
    {
     "data": {
      "application/vnd.jupyter.widget-view+json": {
       "model_id": "35c0c40c48d247f3abab976a8cfb1c75",
       "version_major": 2,
       "version_minor": 0
      },
      "text/plain": [
       "ParameterEditor(children=(VBox(children=(HBox(children=(HBox(children=(Button(description='Apply changes', sty…"
      ]
     },
     "metadata": {},
     "output_type": "display_data"
    }
   ],
   "source": [
    "lw.editor"
   ]
  },
  {
   "cell_type": "code",
   "execution_count": null,
   "metadata": {},
   "outputs": [],
   "source": []
  }
 ],
 "metadata": {
  "kernelspec": {
   "display_name": "Python 3",
   "language": "python",
   "name": "python3"
  },
  "language_info": {
   "codemirror_mode": {
    "name": "ipython",
    "version": 3
   },
   "file_extension": ".py",
   "mimetype": "text/x-python",
   "name": "python",
   "nbconvert_exporter": "python",
   "pygments_lexer": "ipython3",
   "version": "3.9.0"
  },
  "widgets": {
   "application/vnd.jupyter.widget-state+json": {
    "state": {
     "0003eef9dd3941f89ac65b920608e8dc": {
      "model_module": "@jupyter-widgets/controls",
      "model_module_version": "1.5.0",
      "model_name": "TextModel",
      "state": {
       "continuous_update": false,
       "description": "name",
       "layout": "IPY_MODEL_0d347c8d511c4ca99b99c3030263eb62",
       "style": "IPY_MODEL_0c375f6ffc5f415bbfbaa228315317b0",
       "value": "leafold"
      }
     },
     "0008873d24ed4fa3b871bc34051bd716": {
      "model_module": "@jupyter-widgets/controls",
      "model_module_version": "1.5.0",
      "model_name": "TextModel",
      "state": {
       "continuous_update": false,
       "description": "name",
       "layout": "IPY_MODEL_67555ffb059840dd83d40a952b22cf1d",
       "style": "IPY_MODEL_bfcd0c0f65914aef9be1c321c3bcf1e0",
       "value": "leafold"
      }
     },
     "0010fef821bc48b083984f720d45fe40": {
      "model_module": "@jupyter-widgets/controls",
      "model_module_version": "1.5.0",
      "model_name": "SliderStyleModel",
      "state": {
       "description_width": ""
      }
     },
     "004fe4bded924a9a932e3394f3befd69": {
      "model_module": "@jupyter-widgets/controls",
      "model_module_version": "1.5.0",
      "model_name": "IntSliderModel",
      "state": {
       "description": "value",
       "layout": "IPY_MODEL_66d7a1826e15429d8f8f2cf795ccb6c1",
       "max": 10,
       "min": 1,
       "style": "IPY_MODEL_d59eedfe91e040bd83b09d32a1718f4b",
       "value": 2
      }
     },
     "007b8ebb7e7d4caaad2e0c237439f3d5": {
      "model_module": "@jupyter-widgets/controls",
      "model_module_version": "1.5.0",
      "model_name": "DropdownModel",
      "state": {
       "_options_labels": [
        "trunk",
        "leaf_new",
        "apex",
        "leaf_old"
       ],
       "index": 0,
       "layout": "IPY_MODEL_e881f4d66fc34fa5a8bf3f637ac484f2",
       "style": "IPY_MODEL_e14de5b08dfe4ad19aaeed9488ebd7af"
      }
     },
     "0095f53d7b9d447db6885939bd2cb620": {
      "model_module": "@jupyter-widgets/controls",
      "model_module_version": "1.5.0",
      "model_name": "DescriptionStyleModel",
      "state": {
       "description_width": ""
      }
     },
     "0098827af4e640a7995f79067eabb137": {
      "model_module": "@jupyter-widgets/controls",
      "model_module_version": "1.5.0",
      "model_name": "DescriptionStyleModel",
      "state": {
       "description_width": ""
      }
     },
     "00ad07d5386546a4b8de16b613f3ede9": {
      "model_module": "@jupyter-widgets/base",
      "model_module_version": "1.2.0",
      "model_name": "LayoutModel",
      "state": {}
     },
     "00d6b976c7584356bc8ace10cc276390": {
      "model_module": "@jupyter-widgets/controls",
      "model_module_version": "1.5.0",
      "model_name": "FloatSliderModel",
      "state": {
       "description": "diffuse",
       "layout": "IPY_MODEL_d18e48c309db4852aa5cdc3da1012b6e",
       "max": 3,
       "step": 0.1,
       "style": "IPY_MODEL_5493e679c57d4a0689415a4a88aea275",
       "value": 1
      }
     },
     "0108f7fc56644931b6e9ab7e757df267": {
      "model_module": "@jupyter-widgets/controls",
      "model_module_version": "1.5.0",
      "model_name": "FloatSliderModel",
      "state": {
       "description": "transparency",
       "layout": "IPY_MODEL_9d18be69857d479da54872b16cad623b",
       "max": 1,
       "step": 0.1,
       "style": "IPY_MODEL_90f65d5e0f7d4ba297b91d7381a9b694"
      }
     },
     "0152374133564b448491bef7e0098d98": {
      "model_module": "@jupyter-widgets/base",
      "model_module_version": "1.2.0",
      "model_name": "LayoutModel",
      "state": {}
     },
     "015a0162e977482199ff9aa70a46096a": {
      "model_module": "@jupyter-widgets/controls",
      "model_module_version": "1.5.0",
      "model_name": "DescriptionStyleModel",
      "state": {
       "description_width": ""
      }
     },
     "0176e28a1109422494c3cddf25a960f7": {
      "model_module": "@jupyter-widgets/base",
      "model_module_version": "1.2.0",
      "model_name": "LayoutModel",
      "state": {}
     },
     "017aca05c9214cc1929d2b6eae6e156e": {
      "model_module": "@jupyter-widgets/base",
      "model_module_version": "1.2.0",
      "model_name": "LayoutModel",
      "state": {}
     },
     "01a9830728ff43debfe68c7ed9c0c0f1": {
      "model_module": "@jupyter-widgets/base",
      "model_module_version": "1.2.0",
      "model_name": "LayoutModel",
      "state": {}
     },
     "01b4759293cd4876b08c36080cc6c88b": {
      "model_module": "@jupyter-widgets/controls",
      "model_module_version": "1.5.0",
      "model_name": "DescriptionStyleModel",
      "state": {
       "description_width": ""
      }
     },
     "0225ffc1c00e4e10854402feed083775": {
      "model_module": "@jupyter-widgets/controls",
      "model_module_version": "1.5.0",
      "model_name": "HBoxModel",
      "state": {
       "children": [
        "IPY_MODEL_b499e72891ff4bec921524030fddfd1a",
        "IPY_MODEL_bcfc6c652c144bec9a22752018e37d3d"
       ],
       "layout": "IPY_MODEL_00ad07d5386546a4b8de16b613f3ede9"
      }
     },
     "0241bcf8e4d449588382dcfa0fadf1f7": {
      "model_module": "@jupyter-widgets/controls",
      "model_module_version": "1.5.0",
      "model_name": "BoundedIntTextModel",
      "state": {
       "description": "index",
       "layout": "IPY_MODEL_3bd8c5155e614aa49b91b3ee03106bb8",
       "style": "IPY_MODEL_8b50cab205524c5684de777fe16b12c6",
       "value": 3
      }
     },
     "024c0a7ea2924ff5a9d4b4e8dd33f20f": {
      "model_module": "@jupyter-widgets/base",
      "model_module_version": "1.2.0",
      "model_name": "LayoutModel",
      "state": {}
     },
     "0263367b3ff344bcaffd73258d997ec2": {
      "model_module": "@jupyter-widgets/base",
      "model_module_version": "1.2.0",
      "model_name": "LayoutModel",
      "state": {}
     },
     "0265533bc3464ca7a91abeccee38a36a": {
      "model_module": "@jupyter-widgets/controls",
      "model_module_version": "1.5.0",
      "model_name": "DescriptionStyleModel",
      "state": {
       "description_width": ""
      }
     },
     "026723ae658e489db0402b1860155fde": {
      "model_module": "@jupyter-widgets/base",
      "model_module_version": "1.2.0",
      "model_name": "LayoutModel",
      "state": {}
     },
     "028403f5d1004d399f4c48bedf82c508": {
      "model_module": "@jupyter-widgets/base",
      "model_module_version": "1.2.0",
      "model_name": "LayoutModel",
      "state": {}
     },
     "02a0a641a80b42a6abd95b43fd404dce": {
      "model_module": "@jupyter-widgets/controls",
      "model_module_version": "1.5.0",
      "model_name": "HBoxModel",
      "state": {
       "children": [
        "IPY_MODEL_96a5793689434924ae2e18ffeb1734a9",
        "IPY_MODEL_404f3dcf0b4b4baeb1e9d23f637e521e"
       ],
       "layout": "IPY_MODEL_dd665a625d6d4bd4adf8224a8f2126ec"
      }
     },
     "02a935317d5e4652b323d2ec7d9e44eb": {
      "model_module": "@jupyter-widgets/controls",
      "model_module_version": "1.5.0",
      "model_name": "DropdownModel",
      "state": {
       "_options_labels": [
        "leafduration",
        "leafold"
       ],
       "index": 0,
       "layout": "IPY_MODEL_7c495f80dfa7400dbddaade48310293e",
       "style": "IPY_MODEL_7854ff74524f4fe689ec29f12ee822fa"
      }
     },
     "02cd8be6c855476f923f34ecaade3abd": {
      "model_module": "@jupyter-widgets/base",
      "model_module_version": "1.2.0",
      "model_name": "LayoutModel",
      "state": {}
     },
     "02e2b611d447416aad39778127a3a98f": {
      "model_module": "@jupyter-widgets/base",
      "model_module_version": "1.2.0",
      "model_name": "LayoutModel",
      "state": {}
     },
     "0300001a45404b209a36c5be9117a9b4": {
      "model_module": "@jupyter-widgets/controls",
      "model_module_version": "1.5.0",
      "model_name": "AccordionModel",
      "state": {
       "_titles": {
        "0": "materials",
        "1": "leaf"
       },
       "children": [
        "IPY_MODEL_edf9693f28bf40b480d44c9fe1f0e7bd",
        "IPY_MODEL_93e9e1a13f404740b06bcbb3b04fbbe8"
       ],
       "layout": "IPY_MODEL_83d1112a98b24ad985e153a4de2805d3"
      }
     },
     "0334631308f04e7f9b0a5109546e80e5": {
      "model_module": "@jupyter-widgets/base",
      "model_module_version": "1.2.0",
      "model_name": "LayoutModel",
      "state": {}
     },
     "0366a0590c4e4687a64fd5d1d1a58442": {
      "model_module": "@jupyter-widgets/controls",
      "model_module_version": "1.5.0",
      "model_name": "DescriptionStyleModel",
      "state": {
       "description_width": ""
      }
     },
     "0374667b4982433588ab814caec15c06": {
      "model_module": "@jupyter-widgets/controls",
      "model_module_version": "1.5.0",
      "model_name": "TextModel",
      "state": {
       "continuous_update": false,
       "description": "name",
       "layout": "IPY_MODEL_0c214a765182457a8496273eb3ddc16b",
       "style": "IPY_MODEL_400c5e9aded44fda90d2ab16b75fd897",
       "value": "leaf_new"
      }
     },
     "039429b73bae419cac4d3913fcdbfdbc": {
      "model_module": "pgljupyter",
      "model_module_version": "^0.1.21",
      "model_name": "IntEditorModel",
      "state": {
       "_model_module_version": "^0.1.21",
       "_view_module_version": "^0.1.21",
       "children": [
        "IPY_MODEL_310624f7b16b4f028b5ca1be66aaddee",
        "IPY_MODEL_058f89ece3f44754b73b35d4bbeebeea"
       ],
       "layout": "IPY_MODEL_cdf37350d48b41aa95e2f22bc8635d1f"
      }
     },
     "03ab5d400c7b448cbd80354c73a71b69": {
      "model_module": "@jupyter-widgets/controls",
      "model_module_version": "1.5.0",
      "model_name": "ButtonModel",
      "state": {
       "description": "Delete",
       "layout": "IPY_MODEL_9fafbd4bd5c347e4855e7442dafe12b9",
       "style": "IPY_MODEL_d9fb92da354f41de80d8aed312a46ccd"
      }
     },
     "03b7ff59bdfb45ae9fec96faf9e7b637": {
      "model_module": "@jupyter-widgets/controls",
      "model_module_version": "1.5.0",
      "model_name": "DescriptionStyleModel",
      "state": {
       "description_width": ""
      }
     },
     "03d211779e87416689565221e4907777": {
      "model_module": "@jupyter-widgets/controls",
      "model_module_version": "1.5.0",
      "model_name": "TextModel",
      "state": {
       "continuous_update": false,
       "description": "name",
       "layout": "IPY_MODEL_22c1a3a0307f4a4ca0dc0ac94efedfc6",
       "style": "IPY_MODEL_316543aadacb4f0ca44a827843561364",
       "value": "apex"
      }
     },
     "03dfd11a2f0b4fb391e312128903d288": {
      "model_module": "@jupyter-widgets/base",
      "model_module_version": "1.2.0",
      "model_name": "LayoutModel",
      "state": {}
     },
     "0414cc8a90c64c448f20ab6c7de8a484": {
      "model_module": "@jupyter-widgets/controls",
      "model_module_version": "1.5.0",
      "model_name": "DropdownModel",
      "state": {
       "_options_labels": [
        "Color"
       ],
       "index": 0,
       "layout": "IPY_MODEL_d56364ff1cc441588f37f856b104fb7f",
       "style": "IPY_MODEL_69adca6b2b7d471ca668269a5c227e1f"
      }
     },
     "043c34dc906e4167928f4d176318bc85": {
      "model_module": "@jupyter-widgets/controls",
      "model_module_version": "1.5.0",
      "model_name": "ColorPickerModel",
      "state": {
       "description": "specular",
       "disabled": false,
       "layout": "IPY_MODEL_914f2d720e814344b6090277a3ff863a",
       "style": "IPY_MODEL_0e6cde1ebdac4f53af7c24a9ba0b8c11",
       "value": "#282828"
      }
     },
     "044e7d5484c34640988858fe96fcfdd6": {
      "model_module": "@jupyter-widgets/controls",
      "model_module_version": "1.5.0",
      "model_name": "DropdownModel",
      "state": {
       "_options_labels": [
        "NurbsCurve2D",
        "BezierCurve2D",
        "Polyline2D",
        "Function"
       ],
       "index": 0,
       "layout": "IPY_MODEL_29963b5130614ef58373b07536e44942",
       "style": "IPY_MODEL_8eb293d9f1ca49e4a0d8a5d438b925e5"
      }
     },
     "0493264d976c421cbf4fe203f92091da": {
      "model_module": "@jupyter-widgets/base",
      "model_module_version": "1.2.0",
      "model_name": "LayoutModel",
      "state": {}
     },
     "0499384873a04178a41a7a611d6d08dc": {
      "model_module": "@jupyter-widgets/base",
      "model_module_version": "1.2.0",
      "model_name": "LayoutModel",
      "state": {}
     },
     "04bf48cf21fd4ef3b2fc2c87f891da0a": {
      "model_module": "@jupyter-widgets/base",
      "model_module_version": "1.2.0",
      "model_name": "LayoutModel",
      "state": {}
     },
     "04c46391563944e09f827e89ec2715fa": {
      "model_module": "@jupyter-widgets/base",
      "model_module_version": "1.2.0",
      "model_name": "LayoutModel",
      "state": {}
     },
     "04cbb9188a174a70bb551de95a1ec0a3": {
      "model_module": "@jupyter-widgets/controls",
      "model_module_version": "1.5.0",
      "model_name": "ButtonModel",
      "state": {
       "description": "Apply changes",
       "layout": "IPY_MODEL_ef8bbf3c99984ea7a0ada6febc787943",
       "style": "IPY_MODEL_cc25751e00dd443fb5153b58575d586f"
      }
     },
     "04fd9850624b45509d3404170dfb2b93": {
      "model_module": "@jupyter-widgets/controls",
      "model_module_version": "1.5.0",
      "model_name": "HBoxModel",
      "state": {
       "children": [
        "IPY_MODEL_83f82817d8894598b39eea4838260197",
        "IPY_MODEL_3bcea9f32a2f480c95fd4897749b2ca9"
       ],
       "layout": "IPY_MODEL_df696dde9f0e41c2be1075f4577638d5"
      }
     },
     "0514c99c868447989415c25ff4d7162a": {
      "model_module": "@jupyter-widgets/base",
      "model_module_version": "1.2.0",
      "model_name": "LayoutModel",
      "state": {}
     },
     "05158b063b184ffe96c65e42e171536a": {
      "model_module": "@jupyter-widgets/base",
      "model_module_version": "1.2.0",
      "model_name": "LayoutModel",
      "state": {}
     },
     "051a9805455147b1a54b2d1bd43938df": {
      "model_module": "@jupyter-widgets/controls",
      "model_module_version": "1.5.0",
      "model_name": "DropdownModel",
      "state": {
       "index": null,
       "layout": "IPY_MODEL_e44d5599b2144e3c955924c9a83a3864",
       "style": "IPY_MODEL_7e68dfe58d664750b2bb1842543ce27f"
      }
     },
     "05501bf0102f432f9032303e1f125371": {
      "model_module": "@jupyter-widgets/controls",
      "model_module_version": "1.5.0",
      "model_name": "FloatSliderModel",
      "state": {
       "continuous_update": false,
       "description": "transparency",
       "layout": "IPY_MODEL_eeed912523954cc783b4b1ea61c53646",
       "max": 1,
       "step": 0.1,
       "style": "IPY_MODEL_fb7448a3ff6c4be5826e460f9f0e1ac3"
      }
     },
     "055dec0cea5041829e855a22e1086bb8": {
      "model_module": "@jupyter-widgets/base",
      "model_module_version": "1.2.0",
      "model_name": "LayoutModel",
      "state": {}
     },
     "057fc401feeb40d0858ffb015d0b71f2": {
      "model_module": "@jupyter-widgets/base",
      "model_module_version": "1.2.0",
      "model_name": "LayoutModel",
      "state": {
       "margin": "20px 0px"
      }
     },
     "058c249a39c04bedbadbabfd56c8cbca": {
      "model_module": "@jupyter-widgets/controls",
      "model_module_version": "1.5.0",
      "model_name": "ColorPickerModel",
      "state": {
       "description": "ambient",
       "disabled": false,
       "layout": "IPY_MODEL_16cce7023d354ddfba60e067833ebb2b",
       "style": "IPY_MODEL_f9d90d05276440c2b0ff25f4cf787f32",
       "value": "#e1a014"
      }
     },
     "058d703b09ba41a9b1d198d969f79a5d": {
      "model_module": "@jupyter-widgets/controls",
      "model_module_version": "1.5.0",
      "model_name": "TextModel",
      "state": {
       "continuous_update": false,
       "description": "name",
       "layout": "IPY_MODEL_591eb893dd5047febc3e0e1715c027d8",
       "style": "IPY_MODEL_09c7f894138a4a89baf5dd67159d2b84",
       "value": "trunk"
      }
     },
     "058f89ece3f44754b73b35d4bbeebeea": {
      "model_module": "@jupyter-widgets/controls",
      "model_module_version": "1.5.0",
      "model_name": "IntSliderModel",
      "state": {
       "description": "value",
       "layout": "IPY_MODEL_28dbfeb66b4146699787fc4516f4869c",
       "max": 10,
       "min": 1,
       "style": "IPY_MODEL_6606341d02fc439dbd25cdd30951c0c4",
       "value": 2
      }
     },
     "05a5ce6fe609440eaac4fb1a88000fa7": {
      "model_module": "@jupyter-widgets/controls",
      "model_module_version": "1.5.0",
      "model_name": "DescriptionStyleModel",
      "state": {
       "description_width": ""
      }
     },
     "05c8647075de4344b4300ae9892bd659": {
      "model_module": "@jupyter-widgets/base",
      "model_module_version": "1.2.0",
      "model_name": "LayoutModel",
      "state": {}
     },
     "060b0a3a5fe149d88da37110e7fd99dd": {
      "model_module": "@jupyter-widgets/controls",
      "model_module_version": "1.5.0",
      "model_name": "ButtonModel",
      "state": {
       "description": "Add category",
       "layout": "IPY_MODEL_203311275276426398b1e3c34669b385",
       "style": "IPY_MODEL_dd91341438fb460cb5355fac879a754e"
      }
     },
     "065f562240b640f2ae0d150761123893": {
      "model_module": "@jupyter-widgets/controls",
      "model_module_version": "1.5.0",
      "model_name": "SliderStyleModel",
      "state": {
       "description_width": ""
      }
     },
     "06a41e2a55a840a8a25c81d98d0aa2db": {
      "model_module": "@jupyter-widgets/controls",
      "model_module_version": "1.5.0",
      "model_name": "IntSliderModel",
      "state": {
       "continuous_update": false,
       "description": "value",
       "layout": "IPY_MODEL_4139a554a5614b34a822d21737401026",
       "max": 5,
       "min": 1,
       "style": "IPY_MODEL_c568de927fe14c14ac939845f5cfc2a7",
       "value": 4
      }
     },
     "06a4c0bb621c49b0a886a6f2d4b71f84": {
      "model_module": "@jupyter-widgets/controls",
      "model_module_version": "1.5.0",
      "model_name": "BoundedIntTextModel",
      "state": {
       "description": "step",
       "layout": "IPY_MODEL_7015fbbda9c047b391aecaeef63cd104",
       "min": 1,
       "style": "IPY_MODEL_1a8e5e8102f24f6788a2e4825cfd5527",
       "value": 1
      }
     },
     "06c676714abc45c2bd668d409b3f913f": {
      "model_module": "@jupyter-widgets/base",
      "model_module_version": "1.2.0",
      "model_name": "LayoutModel",
      "state": {}
     },
     "06d9cff05cf34ec997de5253b4ff518b": {
      "model_module": "@jupyter-widgets/controls",
      "model_module_version": "1.5.0",
      "model_name": "DescriptionStyleModel",
      "state": {
       "description_width": ""
      }
     },
     "06da4c288f8b48efae9708615015dd07": {
      "model_module": "@jupyter-widgets/controls",
      "model_module_version": "1.5.0",
      "model_name": "ColorPickerModel",
      "state": {
       "description": "emission",
       "disabled": false,
       "layout": "IPY_MODEL_b2dff12eb7f74161896fad4ff14e216e",
       "style": "IPY_MODEL_5b06ffa55f8c4305b3bf43c5d33fe5f6",
       "value": "#000000"
      }
     },
     "06e3dd0a8b534013bd1cb1d04dbd5286": {
      "model_module": "@jupyter-widgets/base",
      "model_module_version": "1.2.0",
      "model_name": "LayoutModel",
      "state": {}
     },
     "06f8a562f9034b0ba639a25d04acfbdb": {
      "model_module": "@jupyter-widgets/base",
      "model_module_version": "1.2.0",
      "model_name": "LayoutModel",
      "state": {}
     },
     "0728179a541f413fa5aae643b0fd424c": {
      "model_module": "@jupyter-widgets/base",
      "model_module_version": "1.2.0",
      "model_name": "LayoutModel",
      "state": {}
     },
     "072d929f682548cd881fd3470c9a36d3": {
      "model_module": "@jupyter-widgets/controls",
      "model_module_version": "1.5.0",
      "model_name": "TabModel",
      "state": {
       "_titles": {
        "0": "leuwenberg.json"
       },
       "children": [
        "IPY_MODEL_6995c922c85748798aa9771f2292b294"
       ],
       "layout": "IPY_MODEL_6d6eb3e3ec334446bb6f3806b0c2bd8d"
      }
     },
     "077634b564d442178969045cbf0cef71": {
      "model_module": "@jupyter-widgets/base",
      "model_module_version": "1.2.0",
      "model_name": "LayoutModel",
      "state": {}
     },
     "077c655a00ab41bb91239523d5e0bf21": {
      "model_module": "@jupyter-widgets/controls",
      "model_module_version": "1.5.0",
      "model_name": "ColorPickerModel",
      "state": {
       "description": "emission",
       "disabled": false,
       "layout": "IPY_MODEL_b5ad4c581bca4efb9e0e4e91dd0fc2fd",
       "style": "IPY_MODEL_3b8516e57df04b72aa4033410b7cc6fb",
       "value": "#000000"
      }
     },
     "079c5f2baafc43b7b370beb033b53a66": {
      "model_module": "@jupyter-widgets/base",
      "model_module_version": "1.2.0",
      "model_name": "LayoutModel",
      "state": {}
     },
     "07fb05e1465a436cb2c1b6e04d7bcaca": {
      "model_module": "@jupyter-widgets/controls",
      "model_module_version": "1.5.0",
      "model_name": "HBoxModel",
      "state": {
       "children": [
        "IPY_MODEL_2cabd356816143a89ce79e41bd309ed4",
        "IPY_MODEL_5f2b9448d4664b19bc2be431e51cf147"
       ],
       "layout": "IPY_MODEL_f84fb842bfdc4ca69b673ea45abcdf91"
      }
     },
     "0878b557ddb746429eeb675a0056475d": {
      "model_module": "@jupyter-widgets/base",
      "model_module_version": "1.2.0",
      "model_name": "LayoutModel",
      "state": {}
     },
     "08a086db9f984b649195bfba6e845663": {
      "model_module": "@jupyter-widgets/base",
      "model_module_version": "1.2.0",
      "model_name": "LayoutModel",
      "state": {}
     },
     "08c9c604a4d44fa3be0d38a0cee344e7": {
      "model_module": "@jupyter-widgets/controls",
      "model_module_version": "1.5.0",
      "model_name": "ButtonModel",
      "state": {
       "description": "Apply changes",
       "layout": "IPY_MODEL_0878b557ddb746429eeb675a0056475d",
       "style": "IPY_MODEL_a9567de3ebd14a1ea85f21b1ea294e13"
      }
     },
     "096662ccdbc443409d73c22d5e8dd3d3": {
      "model_module": "@jupyter-widgets/base",
      "model_module_version": "1.2.0",
      "model_name": "LayoutModel",
      "state": {
       "margin": "10px 10px"
      }
     },
     "09963fa2ce5e420ab1d9fea614e93db0": {
      "model_module": "pgljupyter",
      "model_module_version": "^0.1.21",
      "model_name": "ParameterEditorModel",
      "state": {
       "_model_module_version": "^0.1.21",
       "_view_module_version": "^0.1.21",
       "children": [
        "IPY_MODEL_49142d5fe84f451ca57bf7979546be3b"
       ],
       "layout": "IPY_MODEL_72233f9b078644c7b23019e335582338"
      }
     },
     "09ab73e88d6a48cf971284095d2d93ee": {
      "model_module": "@jupyter-widgets/controls",
      "model_module_version": "1.5.0",
      "model_name": "SliderStyleModel",
      "state": {
       "description_width": ""
      }
     },
     "09b8c80f45194de3b8dde10dedf91332": {
      "model_module": "@jupyter-widgets/controls",
      "model_module_version": "1.5.0",
      "model_name": "SliderStyleModel",
      "state": {
       "description_width": ""
      }
     },
     "09b9272d2fe1478a8549297784bc14dc": {
      "model_module": "@jupyter-widgets/base",
      "model_module_version": "1.2.0",
      "model_name": "LayoutModel",
      "state": {}
     },
     "09c7f894138a4a89baf5dd67159d2b84": {
      "model_module": "@jupyter-widgets/controls",
      "model_module_version": "1.5.0",
      "model_name": "DescriptionStyleModel",
      "state": {
       "description_width": ""
      }
     },
     "09d6bc5c5f48421884c5070738ff6283": {
      "model_module": "@jupyter-widgets/controls",
      "model_module_version": "1.5.0",
      "model_name": "ButtonStyleModel",
      "state": {}
     },
     "09f0b20c3d9a4a7b8d6f767b7e7153d6": {
      "model_module": "@jupyter-widgets/base",
      "model_module_version": "1.2.0",
      "model_name": "LayoutModel",
      "state": {}
     },
     "09fe84e4c04243fdb4d5769ae0bf8f00": {
      "model_module": "@jupyter-widgets/base",
      "model_module_version": "1.2.0",
      "model_name": "LayoutModel",
      "state": {}
     },
     "09fefb88b02d40be9097130da4296139": {
      "model_module": "@jupyter-widgets/controls",
      "model_module_version": "1.5.0",
      "model_name": "DescriptionStyleModel",
      "state": {
       "description_width": ""
      }
     },
     "0a200097686c4829bf34b9b3a60ec5a8": {
      "model_module": "@jupyter-widgets/controls",
      "model_module_version": "1.5.0",
      "model_name": "DescriptionStyleModel",
      "state": {
       "description_width": ""
      }
     },
     "0a40116d2d3a429698a87f2d38fdcbf3": {
      "model_module": "@jupyter-widgets/base",
      "model_module_version": "1.2.0",
      "model_name": "LayoutModel",
      "state": {}
     },
     "0a5f03bd97534a8ca13154d454ca0303": {
      "model_module": "@jupyter-widgets/base",
      "model_module_version": "1.2.0",
      "model_name": "LayoutModel",
      "state": {}
     },
     "0a605ffb4f624917ba41278f33b71117": {
      "model_module": "@jupyter-widgets/base",
      "model_module_version": "1.2.0",
      "model_name": "LayoutModel",
      "state": {
       "margin": "10px 10px"
      }
     },
     "0a6d0b4bd02e4ac1817c689e8e7470fa": {
      "model_module": "@jupyter-widgets/base",
      "model_module_version": "1.2.0",
      "model_name": "LayoutModel",
      "state": {}
     },
     "0a8707e65f2346558a9ab598cc46de95": {
      "model_module": "@jupyter-widgets/controls",
      "model_module_version": "1.5.0",
      "model_name": "DescriptionStyleModel",
      "state": {
       "description_width": ""
      }
     },
     "0aafc59276204d4698648b7214e955f0": {
      "model_module": "@jupyter-widgets/controls",
      "model_module_version": "1.5.0",
      "model_name": "FloatSliderModel",
      "state": {
       "description": "shininess",
       "layout": "IPY_MODEL_8f5d620157024ed59ea59efe6b680541",
       "max": 1,
       "step": 0.1,
       "style": "IPY_MODEL_edf855758a43462cb032faf769489da2",
       "value": 0.2
      }
     },
     "0adb42962e0d46d8a508e6187f7b3e19": {
      "model_module": "@jupyter-widgets/controls",
      "model_module_version": "1.5.0",
      "model_name": "ButtonStyleModel",
      "state": {}
     },
     "0aea6c9bfdb24c3a9046b8a0c0ca6aa6": {
      "model_module": "@jupyter-widgets/controls",
      "model_module_version": "1.5.0",
      "model_name": "SliderStyleModel",
      "state": {
       "description_width": ""
      }
     },
     "0aebf2695c55434aac60a9421030c373": {
      "model_module": "@jupyter-widgets/controls",
      "model_module_version": "1.5.0",
      "model_name": "SliderStyleModel",
      "state": {
       "description_width": ""
      }
     },
     "0af1bb03cbd844ea9bfc0d9b864d0f8d": {
      "model_module": "@jupyter-widgets/base",
      "model_module_version": "1.2.0",
      "model_name": "LayoutModel",
      "state": {}
     },
     "0b0218a48fab482ca3ef910ddb9948e7": {
      "model_module": "@jupyter-widgets/base",
      "model_module_version": "1.2.0",
      "model_name": "LayoutModel",
      "state": {}
     },
     "0b86b005791f45fb93ef1e515e62e1e2": {
      "model_module": "@jupyter-widgets/controls",
      "model_module_version": "1.5.0",
      "model_name": "DescriptionStyleModel",
      "state": {
       "description_width": ""
      }
     },
     "0b93168b9537476da57b957c67d41cc5": {
      "model_module": "@jupyter-widgets/controls",
      "model_module_version": "1.5.0",
      "model_name": "SliderStyleModel",
      "state": {
       "description_width": ""
      }
     },
     "0b974aa9e4cb4b4d87d799dd6e18b83c": {
      "model_module": "@jupyter-widgets/base",
      "model_module_version": "1.2.0",
      "model_name": "LayoutModel",
      "state": {}
     },
     "0ba2cab9cc9d4511aad569640dfc3012": {
      "model_module": "@jupyter-widgets/controls",
      "model_module_version": "1.5.0",
      "model_name": "DescriptionStyleModel",
      "state": {
       "description_width": ""
      }
     },
     "0bfc733f831346d3bfd46bb08e6ed994": {
      "model_module": "@jupyter-widgets/controls",
      "model_module_version": "1.5.0",
      "model_name": "FloatSliderModel",
      "state": {
       "description": "diffuse",
       "layout": "IPY_MODEL_8929ac5c489944b49d22387a7dca08f4",
       "max": 3,
       "step": 0.1,
       "style": "IPY_MODEL_6b54e408638a4d85935aa261112cb2bb",
       "value": 1
      }
     },
     "0c214a765182457a8496273eb3ddc16b": {
      "model_module": "@jupyter-widgets/base",
      "model_module_version": "1.2.0",
      "model_name": "LayoutModel",
      "state": {}
     },
     "0c240000ec0a4039a85b00acba556d7e": {
      "model_module": "@jupyter-widgets/controls",
      "model_module_version": "1.5.0",
      "model_name": "TextModel",
      "state": {
       "layout": "IPY_MODEL_994ff1c50b4e44a6bb5d4ae45fea71f2",
       "placeholder": "category name",
       "style": "IPY_MODEL_e66efffcd57d411fa07184989115562f"
      }
     },
     "0c2bee5a70fb46b2acac86b96cb0aab2": {
      "model_module": "@jupyter-widgets/controls",
      "model_module_version": "1.5.0",
      "model_name": "HBoxModel",
      "state": {
       "children": [
        "IPY_MODEL_7cdabb93fcbc40419bf289a63174c418",
        "IPY_MODEL_a168b04a2dbf49739b7e62715ebafb2f"
       ],
       "layout": "IPY_MODEL_4d77f69f74244057baec36b232f87f78"
      }
     },
     "0c375f6ffc5f415bbfbaa228315317b0": {
      "model_module": "@jupyter-widgets/controls",
      "model_module_version": "1.5.0",
      "model_name": "DescriptionStyleModel",
      "state": {
       "description_width": ""
      }
     },
     "0c3945d18ad84ce68b356bc7fec1acc8": {
      "model_module": "@jupyter-widgets/controls",
      "model_module_version": "1.5.0",
      "model_name": "ButtonModel",
      "state": {
       "description": "Delete",
       "layout": "IPY_MODEL_68a0a5b32660431c972bf9ccdf174f33",
       "style": "IPY_MODEL_5dec0cf2269d486da8492dee4e84b3f8"
      }
     },
     "0c3bbdec026d428494f07dd37de034a8": {
      "model_module": "@jupyter-widgets/controls",
      "model_module_version": "1.5.0",
      "model_name": "HBoxModel",
      "state": {
       "children": [
        "IPY_MODEL_9f2dbce166f945239d5998018bbaae65",
        "IPY_MODEL_5eac464e5de54b27a961eb229e40565b"
       ],
       "layout": "IPY_MODEL_fcb828149d8b4587a737cf0adaca9f9c"
      }
     },
     "0c45408378854d9db7aa0e37104b7d14": {
      "model_module": "@jupyter-widgets/controls",
      "model_module_version": "1.5.0",
      "model_name": "SliderStyleModel",
      "state": {
       "description_width": ""
      }
     },
     "0c4ef21d02cd4d5098cab60592f95c54": {
      "model_module": "@jupyter-widgets/base",
      "model_module_version": "1.2.0",
      "model_name": "LayoutModel",
      "state": {}
     },
     "0c7c19e5f2d64c77816e00b8b2cd8eea": {
      "model_module": "@jupyter-widgets/base",
      "model_module_version": "1.2.0",
      "model_name": "LayoutModel",
      "state": {}
     },
     "0c8a2a58cf5a4f328c2bf47875084bee": {
      "model_module": "@jupyter-widgets/base",
      "model_module_version": "1.2.0",
      "model_name": "LayoutModel",
      "state": {}
     },
     "0ca1da812e904b3597a1f8d0066aa817": {
      "model_module": "@jupyter-widgets/controls",
      "model_module_version": "1.5.0",
      "model_name": "IntSliderModel",
      "state": {
       "description": "value",
       "layout": "IPY_MODEL_3fb78370b75d48e69e4114fc1065c34c",
       "max": 10,
       "min": 1,
       "style": "IPY_MODEL_ef02132854ed4c2993d244c63b2f1da8",
       "value": 2
      }
     },
     "0cb243c061d34b35a8ad51de93b3548a": {
      "model_module": "@jupyter-widgets/controls",
      "model_module_version": "1.5.0",
      "model_name": "DescriptionStyleModel",
      "state": {
       "description_width": ""
      }
     },
     "0cb6db6109a04c959a1aa9f31415ddf1": {
      "model_module": "@jupyter-widgets/controls",
      "model_module_version": "1.5.0",
      "model_name": "ColorPickerModel",
      "state": {
       "description": "ambient",
       "disabled": false,
       "layout": "IPY_MODEL_d77925c6797142988e94711a23d04d7b",
       "style": "IPY_MODEL_9baabb8054da4869a9a5271e3cb0fc84",
       "value": "#0fc4db"
      }
     },
     "0ce5322222f04cda8b64b0849f810223": {
      "model_module": "@jupyter-widgets/controls",
      "model_module_version": "1.5.0",
      "model_name": "DescriptionStyleModel",
      "state": {
       "description_width": ""
      }
     },
     "0cf1ba00ad3c4151acf3b5aaf9391ece": {
      "model_module": "@jupyter-widgets/controls",
      "model_module_version": "1.5.0",
      "model_name": "DescriptionStyleModel",
      "state": {
       "description_width": ""
      }
     },
     "0d137c7adb8f46d4a424e69649dea26f": {
      "model_module": "@jupyter-widgets/controls",
      "model_module_version": "1.5.0",
      "model_name": "ButtonModel",
      "state": {
       "description": "Add category",
       "layout": "IPY_MODEL_afdd149476764870a23c9d46dfe6ec0b",
       "style": "IPY_MODEL_1d2e9bf12109429982866039d15abe82"
      }
     },
     "0d2e16e55e4f4049983e0cbb83eb2316": {
      "model_module": "@jupyter-widgets/controls",
      "model_module_version": "1.5.0",
      "model_name": "DescriptionStyleModel",
      "state": {
       "description_width": ""
      }
     },
     "0d310866a28c4c1ab0562409f5a1baa5": {
      "model_module": "@jupyter-widgets/controls",
      "model_module_version": "1.5.0",
      "model_name": "TextModel",
      "state": {
       "continuous_update": false,
       "description": "name",
       "layout": "IPY_MODEL_ec80a43c5a3b4523b4da1e7a74a8af65",
       "style": "IPY_MODEL_2db8651a2bd342e7b9af50736d9bfac4",
       "value": "nb_axes"
      }
     },
     "0d347c8d511c4ca99b99c3030263eb62": {
      "model_module": "@jupyter-widgets/base",
      "model_module_version": "1.2.0",
      "model_name": "LayoutModel",
      "state": {}
     },
     "0d6a37d535614710acb801033c6e1b4b": {
      "model_module": "@jupyter-widgets/base",
      "model_module_version": "1.2.0",
      "model_name": "LayoutModel",
      "state": {}
     },
     "0d8106747f5f4d0a81928341852045a2": {
      "model_module": "@jupyter-widgets/base",
      "model_module_version": "1.2.0",
      "model_name": "LayoutModel",
      "state": {}
     },
     "0daf2556cff5466a8f88c6b061377e55": {
      "model_module": "@jupyter-widgets/base",
      "model_module_version": "1.2.0",
      "model_name": "LayoutModel",
      "state": {}
     },
     "0dd2e4883c6742ebb5b505b2aecc37c1": {
      "model_module": "@jupyter-widgets/controls",
      "model_module_version": "1.5.0",
      "model_name": "DescriptionStyleModel",
      "state": {
       "description_width": ""
      }
     },
     "0ddc4da3ab684f75a000be5326010a3f": {
      "model_module": "@jupyter-widgets/controls",
      "model_module_version": "1.5.0",
      "model_name": "ButtonModel",
      "state": {
       "description": "Delete",
       "layout": "IPY_MODEL_df83175491804b5cb47348424a380b78",
       "style": "IPY_MODEL_1145eb1b6344415fbe5da4345ed32841"
      }
     },
     "0df3c48cd89940ce80485ec6fb57722c": {
      "model_module": "@jupyter-widgets/controls",
      "model_module_version": "1.5.0",
      "model_name": "HBoxModel",
      "state": {
       "children": [
        "IPY_MODEL_e9ac5fcbb97347d7a1f9f9cc7558252d",
        "IPY_MODEL_f9ee036e79134257a314bedd8f10beed"
       ],
       "layout": "IPY_MODEL_78dff3c9b0ab4092885a4681b708b9c4"
      }
     },
     "0dfd63902b034d3a9cf7782c9e751b71": {
      "model_module": "@jupyter-widgets/controls",
      "model_module_version": "1.5.0",
      "model_name": "DropdownModel",
      "state": {
       "_options_labels": [
        "trunk",
        "leaf_new",
        "apex",
        "leaf_old"
       ],
       "index": 0,
       "layout": "IPY_MODEL_d03612b14f984819821e89add2e8abfb",
       "style": "IPY_MODEL_81614fbd057b49b38cf6c260521fd79e"
      }
     },
     "0e1758e5f97c4775894b0a98513a546f": {
      "model_module": "@jupyter-widgets/controls",
      "model_module_version": "1.5.0",
      "model_name": "ButtonModel",
      "state": {
       "description": "Add",
       "layout": "IPY_MODEL_2fa0e323165245eba4d3e15b8215c92f",
       "style": "IPY_MODEL_d32aaba5fabf43e1a51a446cc716f021"
      }
     },
     "0e54aa9513264caeb2d9412ade1c3ad8": {
      "model_module": "@jupyter-widgets/controls",
      "model_module_version": "1.5.0",
      "model_name": "HBoxModel",
      "state": {
       "children": [
        "IPY_MODEL_62ecce380a4540f0ac0dd9486d3912a5",
        "IPY_MODEL_392b749f9bc940b58e80d0758f80a01e"
       ],
       "layout": "IPY_MODEL_c0716141b1a941c88943b77a968d0bcb"
      }
     },
     "0e592e8a9b8343179820de7ac2999dbb": {
      "model_module": "@jupyter-widgets/base",
      "model_module_version": "1.2.0",
      "model_name": "LayoutModel",
      "state": {}
     },
     "0e698e6988a94950922b8014c320bdf8": {
      "model_module": "@jupyter-widgets/base",
      "model_module_version": "1.2.0",
      "model_name": "LayoutModel",
      "state": {}
     },
     "0e6cde1ebdac4f53af7c24a9ba0b8c11": {
      "model_module": "@jupyter-widgets/controls",
      "model_module_version": "1.5.0",
      "model_name": "DescriptionStyleModel",
      "state": {
       "description_width": ""
      }
     },
     "0e83125bafcd45128549f748b59b3649": {
      "model_module": "@jupyter-widgets/base",
      "model_module_version": "1.2.0",
      "model_name": "LayoutModel",
      "state": {}
     },
     "0ebdabd5351f4a218569ece12d364cf5": {
      "model_module": "@jupyter-widgets/controls",
      "model_module_version": "1.5.0",
      "model_name": "ButtonModel",
      "state": {
       "description": "Delete category",
       "layout": "IPY_MODEL_468860202d6c4c5cbdaf75ab248c2dfa",
       "style": "IPY_MODEL_68be4ec169ab4ce9929d4231bbdfaad7"
      }
     },
     "0ec5645a3bf34b6a84616a6784979782": {
      "model_module": "@jupyter-widgets/base",
      "model_module_version": "1.2.0",
      "model_name": "LayoutModel",
      "state": {}
     },
     "0ed16efb5f4744e8a4b925f5d886aad4": {
      "model_module": "@jupyter-widgets/base",
      "model_module_version": "1.2.0",
      "model_name": "LayoutModel",
      "state": {}
     },
     "0edf0711fcd443488bc2bd1811f52c38": {
      "model_module": "@jupyter-widgets/base",
      "model_module_version": "1.2.0",
      "model_name": "LayoutModel",
      "state": {
       "flex_flow": "row wrap",
       "margin": "20px"
      }
     },
     "0f0d4a7590e043609aea67d90c471282": {
      "model_module": "@jupyter-widgets/base",
      "model_module_version": "1.2.0",
      "model_name": "LayoutModel",
      "state": {}
     },
     "0f3555076683451287b13688376b8b4e": {
      "model_module": "@jupyter-widgets/base",
      "model_module_version": "1.2.0",
      "model_name": "LayoutModel",
      "state": {}
     },
     "0f40c1df13784f579067a2bd0aaa9d35": {
      "model_module": "@jupyter-widgets/base",
      "model_module_version": "1.2.0",
      "model_name": "LayoutModel",
      "state": {}
     },
     "0f41b5c50bdb442a8ef61d9d982b922d": {
      "model_module": "@jupyter-widgets/controls",
      "model_module_version": "1.5.0",
      "model_name": "ButtonStyleModel",
      "state": {}
     },
     "0f79a7c69fb34b2d9f55d3a3cfb5c585": {
      "model_module": "@jupyter-widgets/base",
      "model_module_version": "1.2.0",
      "model_name": "LayoutModel",
      "state": {}
     },
     "0f84ed044f5d499287d57c8c98211fae": {
      "model_module": "@jupyter-widgets/controls",
      "model_module_version": "1.5.0",
      "model_name": "IntTextModel",
      "state": {
       "description": "max",
       "layout": "IPY_MODEL_f41d2bc09ad24d97b1e0e97f75537487",
       "step": 1,
       "style": "IPY_MODEL_a2eb67920af64606babedcf49f3ac443",
       "value": 10
      }
     },
     "0fa6ede50ab0406a9807f2c9a03af12c": {
      "model_module": "@jupyter-widgets/controls",
      "model_module_version": "1.5.0",
      "model_name": "ButtonStyleModel",
      "state": {}
     },
     "0fbcef905dc549ebb51d1bcd20ade1b3": {
      "model_module": "@jupyter-widgets/controls",
      "model_module_version": "1.5.0",
      "model_name": "SliderStyleModel",
      "state": {
       "description_width": ""
      }
     },
     "0fbf4f04c7844825967a392870b05c3c": {
      "model_module": "@jupyter-widgets/base",
      "model_module_version": "1.2.0",
      "model_name": "LayoutModel",
      "state": {}
     },
     "10052b125cad43d289bb2ecbb7d56d4f": {
      "model_module": "@jupyter-widgets/base",
      "model_module_version": "1.2.0",
      "model_name": "LayoutModel",
      "state": {}
     },
     "1007569cd12243d8a1f1fc57a3f99da4": {
      "model_module": "@jupyter-widgets/controls",
      "model_module_version": "1.5.0",
      "model_name": "HBoxModel",
      "state": {
       "children": [
        "IPY_MODEL_104f9f95fbc94a96ba69a4016d5d9d90",
        "IPY_MODEL_4bf0c1f1957b48469384dbe0faad91c2",
        "IPY_MODEL_ef4b1309dfd142598b1a811f4f4940d6",
        "IPY_MODEL_dbbb98e68fb84fce957f5e756020dae8"
       ],
       "layout": "IPY_MODEL_8b9a41a0b095405186d1eec77ac0c839"
      }
     },
     "10203e2cc2ca454cbb746ee2e79b4d81": {
      "model_module": "@jupyter-widgets/controls",
      "model_module_version": "1.5.0",
      "model_name": "SliderStyleModel",
      "state": {
       "description_width": ""
      }
     },
     "1030b8cd0553429ca4407dc816bce54f": {
      "model_module": "@jupyter-widgets/controls",
      "model_module_version": "1.5.0",
      "model_name": "HBoxModel",
      "state": {
       "children": [
        "IPY_MODEL_e31340ac99da4ee18383b2d4c477aeb3",
        "IPY_MODEL_e2b4d21119d04c5993eb5c2b5a4963b5"
       ],
       "layout": "IPY_MODEL_3018078f147c4a62b9d1295467e67bb7"
      }
     },
     "1042939b8e694adbb61cbf705e83ecb6": {
      "model_module": "@jupyter-widgets/base",
      "model_module_version": "1.2.0",
      "model_name": "LayoutModel",
      "state": {
       "margin": "20px 0px"
      }
     },
     "1049120221a44f9698ad8be47c2dd830": {
      "model_module": "@jupyter-widgets/base",
      "model_module_version": "1.2.0",
      "model_name": "LayoutModel",
      "state": {}
     },
     "104f9f95fbc94a96ba69a4016d5d9d90": {
      "model_module": "pgljupyter",
      "model_module_version": "^0.2.0",
      "model_name": "MaterialEditorModel",
      "state": {
       "_model_module_version": "^0.2.0",
       "_view_module_version": "^0.2.0",
       "children": [
        "IPY_MODEL_058d703b09ba41a9b1d198d969f79a5d",
        "IPY_MODEL_e680e9e7158f4d5ba01b3c57bc8e6eda",
        "IPY_MODEL_f1428e6f50564af3a3f0c5aaf828bea6",
        "IPY_MODEL_eaaaa57114b946fbab2baeb544020004",
        "IPY_MODEL_5bcfd5e078c1498f87372ade701de97b",
        "IPY_MODEL_afd785204163490f861f01a8a6ebf525",
        "IPY_MODEL_18ad88abe6924cd5b9deb571f448c0d9",
        "IPY_MODEL_4b1277c24015447389de967d778203f6"
       ],
       "layout": "IPY_MODEL_8a1bab7df8174d92a085bbafd83e109a"
      }
     },
     "108ef55307894e36a7d0991d0cc2911b": {
      "model_module": "@jupyter-widgets/base",
      "model_module_version": "1.2.0",
      "model_name": "LayoutModel",
      "state": {}
     },
     "1094bc7683de416b8ecf8f3d91396c29": {
      "model_module": "@jupyter-widgets/base",
      "model_module_version": "1.2.0",
      "model_name": "LayoutModel",
      "state": {}
     },
     "10b64056ecc44e09b5e4933d6dbe52e2": {
      "model_module": "@jupyter-widgets/base",
      "model_module_version": "1.2.0",
      "model_name": "LayoutModel",
      "state": {}
     },
     "10cf3b81371e442e9ea401ba90dc6424": {
      "model_module": "@jupyter-widgets/controls",
      "model_module_version": "1.5.0",
      "model_name": "ButtonStyleModel",
      "state": {}
     },
     "110ae91fb5c943dab79aeb29f57c0fcc": {
      "model_module": "@jupyter-widgets/controls",
      "model_module_version": "1.5.0",
      "model_name": "ButtonStyleModel",
      "state": {}
     },
     "113715feff46405a9f829a04036857fc": {
      "model_module": "@jupyter-widgets/controls",
      "model_module_version": "1.5.0",
      "model_name": "VBoxModel",
      "state": {
       "children": [
        "IPY_MODEL_d4a3882e55824a1d825972ac5448b018",
        "IPY_MODEL_072d929f682548cd881fd3470c9a36d3"
       ],
       "layout": "IPY_MODEL_d1a8424f341d4ea494d8618314235a18"
      }
     },
     "113da8bbf28f4da4a88ba0f9cabd4ebb": {
      "model_module": "@jupyter-widgets/controls",
      "model_module_version": "1.5.0",
      "model_name": "DescriptionStyleModel",
      "state": {
       "description_width": ""
      }
     },
     "1145eb1b6344415fbe5da4345ed32841": {
      "model_module": "@jupyter-widgets/controls",
      "model_module_version": "1.5.0",
      "model_name": "ButtonStyleModel",
      "state": {}
     },
     "1165440a552f44e8874ff2662c8016cf": {
      "model_module": "@jupyter-widgets/controls",
      "model_module_version": "1.5.0",
      "model_name": "SliderStyleModel",
      "state": {
       "description_width": ""
      }
     },
     "117c3751605b49da9649139f8f836205": {
      "model_module": "@jupyter-widgets/controls",
      "model_module_version": "1.5.0",
      "model_name": "FloatSliderModel",
      "state": {
       "description": "diffuse",
       "layout": "IPY_MODEL_29c4bd8332b8480e91c8c5587019d711",
       "max": 3,
       "step": 0.1,
       "style": "IPY_MODEL_68b2471e08bd43108da250cbe509f4c8",
       "value": 1
      }
     },
     "11a1fde1334e44b3bc445b44cfccd1ee": {
      "model_module": "@jupyter-widgets/controls",
      "model_module_version": "1.5.0",
      "model_name": "DescriptionStyleModel",
      "state": {
       "description_width": ""
      }
     },
     "11c371c9845b4b36a2e2cf814146ef9b": {
      "model_module": "@jupyter-widgets/base",
      "model_module_version": "1.2.0",
      "model_name": "LayoutModel",
      "state": {}
     },
     "11d8025c13d9418dab33da381333379c": {
      "model_module": "@jupyter-widgets/controls",
      "model_module_version": "1.5.0",
      "model_name": "ButtonStyleModel",
      "state": {}
     },
     "1252932a3a30469f9a39f40e32962dd6": {
      "model_module": "@jupyter-widgets/base",
      "model_module_version": "1.2.0",
      "model_name": "LayoutModel",
      "state": {}
     },
     "1275eb348c0a4e6db6b624f9b0a3b83c": {
      "model_module": "@jupyter-widgets/controls",
      "model_module_version": "1.5.0",
      "model_name": "TextModel",
      "state": {
       "continuous_update": false,
       "description": "name",
       "layout": "IPY_MODEL_ccf905a2150245e9ad7bfe85dc989fc8",
       "style": "IPY_MODEL_5fecbf4165e74b528112846ca520f4fb",
       "value": "maxorder"
      }
     },
     "129b9808260140be91fe527eb514555e": {
      "model_module": "@jupyter-widgets/controls",
      "model_module_version": "1.5.0",
      "model_name": "HBoxModel",
      "state": {
       "children": [
        "IPY_MODEL_893cf04f7b474264b2019b1d9ef10da0"
       ],
       "layout": "IPY_MODEL_4d77f69f74244057baec36b232f87f78"
      }
     },
     "12aad91498d74df1bdd0076e69f17c4b": {
      "model_module": "@jupyter-widgets/controls",
      "model_module_version": "1.5.0",
      "model_name": "ButtonModel",
      "state": {
       "description": "Apply changes",
       "layout": "IPY_MODEL_079c5f2baafc43b7b370beb033b53a66",
       "style": "IPY_MODEL_afcbfc1dce2a47f394db93b89601a5e4"
      }
     },
     "12b07df7fcbf4176ac7229ec42a4a560": {
      "model_module": "@jupyter-widgets/controls",
      "model_module_version": "1.5.0",
      "model_name": "DescriptionStyleModel",
      "state": {
       "description_width": ""
      }
     },
     "12e643a8ee7244a48d10e4c9dc50c23c": {
      "model_module": "@jupyter-widgets/base",
      "model_module_version": "1.2.0",
      "model_name": "LayoutModel",
      "state": {
       "margin": "20px 0px"
      }
     },
     "13011f0d15864a1ba3f2543ade23483a": {
      "model_module": "@jupyter-widgets/controls",
      "model_module_version": "1.5.0",
      "model_name": "ButtonModel",
      "state": {
       "description": "Add",
       "layout": "IPY_MODEL_afd16820af884a958cef4c29e98f66cd",
       "style": "IPY_MODEL_d42dda3cd9cf477195bbad7f92515edb"
      }
     },
     "1310fd264c314fc6ba058b93e9e20982": {
      "model_module": "@jupyter-widgets/base",
      "model_module_version": "1.2.0",
      "model_name": "LayoutModel",
      "state": {}
     },
     "1324cf2f342444ac9b195b6b763a321b": {
      "model_module": "@jupyter-widgets/base",
      "model_module_version": "1.2.0",
      "model_name": "LayoutModel",
      "state": {}
     },
     "1333161370364dc18b62b527843bccdf": {
      "model_module": "@jupyter-widgets/controls",
      "model_module_version": "1.5.0",
      "model_name": "HBoxModel",
      "state": {
       "children": [
        "IPY_MODEL_a5d0d447b1394b03986172fc7562d1f4",
        "IPY_MODEL_9bee7a831530488d8f1b62a13071e4a1"
       ],
       "layout": "IPY_MODEL_f7ff34c66d4b431c8d7a458913ac23de"
      }
     },
     "133803d2a9f74591a327cf95a74cdd6a": {
      "model_module": "@jupyter-widgets/controls",
      "model_module_version": "1.5.0",
      "model_name": "HBoxModel",
      "state": {
       "children": [
        "IPY_MODEL_4bd32345c7094c9b83e1d6211f92d7df",
        "IPY_MODEL_7b502ee9562a44e597515087db33b653"
       ],
       "layout": "IPY_MODEL_03dfd11a2f0b4fb391e312128903d288"
      }
     },
     "134a756a9b454b73bb8ed6d12d756e98": {
      "model_module": "@jupyter-widgets/base",
      "model_module_version": "1.2.0",
      "model_name": "LayoutModel",
      "state": {
       "margin": "20px 0px"
      }
     },
     "1353b6016646410798b195d84bc20e50": {
      "model_module": "pgljupyter",
      "model_module_version": "^0.1.16",
      "model_name": "MaterialEditorModel",
      "state": {
       "_model_module_version": "^0.1.16",
       "_view_module_version": "^0.1.16",
       "children": [
        "IPY_MODEL_896cb2a6eee44f0099cfa8dd5b2da22f",
        "IPY_MODEL_ca048b3e6ffe42779d97a92813a975b0",
        "IPY_MODEL_ae40200d7fdc43a69f8f57ce27d6891b",
        "IPY_MODEL_2c07ac220de942ccb12377bf94366b14",
        "IPY_MODEL_21350d8100af4acbbbba14f68c856baa",
        "IPY_MODEL_4c6828d30e454b219dd59636daba61a2",
        "IPY_MODEL_b11599f0c8c340be874b6f91e49e147c",
        "IPY_MODEL_e72c590e7a184b6fb4ad01d25e4545a9"
       ],
       "layout": "IPY_MODEL_24700b060af14c8981e7fbfedeade0f8"
      }
     },
     "13642e1addcd465cbd7d516a101c2713": {
      "model_module": "@jupyter-widgets/base",
      "model_module_version": "1.2.0",
      "model_name": "LayoutModel",
      "state": {}
     },
     "137cbe8acae84e968a221cf773fdf8fd": {
      "model_module": "@jupyter-widgets/controls",
      "model_module_version": "1.5.0",
      "model_name": "HBoxModel",
      "state": {
       "children": [
        "IPY_MODEL_1cce361553fe4e3384705e13f5a70ce3",
        "IPY_MODEL_42bdc25840194831ac110172cc330d2c",
        "IPY_MODEL_f760108295804b51a12e98b907147ca4"
       ],
       "layout": "IPY_MODEL_44f1703909314fab8a00501069423623"
      }
     },
     "1381a5f505a041c5a6944ee0787a8c0c": {
      "model_module": "@jupyter-widgets/controls",
      "model_module_version": "1.5.0",
      "model_name": "ColorPickerModel",
      "state": {
       "description": "ambient",
       "disabled": false,
       "layout": "IPY_MODEL_92616f968bf649ad919cbb41d7425b65",
       "style": "IPY_MODEL_d6e29de606464a1eada931b449337734",
       "value": "#0fc4db"
      }
     },
     "13acdf1ccc5a4999af0676c08d452094": {
      "model_module": "@jupyter-widgets/controls",
      "model_module_version": "1.5.0",
      "model_name": "SliderStyleModel",
      "state": {
       "description_width": ""
      }
     },
     "13ae418bba3b47449bcffe9f4ff9b1d0": {
      "model_module": "@jupyter-widgets/base",
      "model_module_version": "1.2.0",
      "model_name": "LayoutModel",
      "state": {}
     },
     "13b719143ac7434582f81b16c18d6b4e": {
      "model_module": "@jupyter-widgets/controls",
      "model_module_version": "1.5.0",
      "model_name": "ColorPickerModel",
      "state": {
       "description": "emission",
       "disabled": false,
       "layout": "IPY_MODEL_289af199b7494ce2935204247e9a8c74",
       "style": "IPY_MODEL_aff7649e3cd94b0e93b9db47ae177a91",
       "value": "#000000"
      }
     },
     "13ba8e749f2441f7b7dfcbe5210b62c8": {
      "model_module": "@jupyter-widgets/base",
      "model_module_version": "1.2.0",
      "model_name": "LayoutModel",
      "state": {
       "margin": "20px 0px"
      }
     },
     "13c19586c17d41a298a7f79468b7e17a": {
      "model_module": "@jupyter-widgets/controls",
      "model_module_version": "1.5.0",
      "model_name": "DescriptionStyleModel",
      "state": {
       "description_width": ""
      }
     },
     "13d73679d1fc4c1dafedf885b7d2c851": {
      "model_module": "@jupyter-widgets/base",
      "model_module_version": "1.2.0",
      "model_name": "LayoutModel",
      "state": {}
     },
     "13ef4f1f81a4430aa1f08839e278e50f": {
      "model_module": "@jupyter-widgets/controls",
      "model_module_version": "1.5.0",
      "model_name": "HBoxModel",
      "state": {
       "children": [
        "IPY_MODEL_0ddc4da3ab684f75a000be5326010a3f",
        "IPY_MODEL_76962f026cd343edbb2be1f47b259f8e"
       ],
       "layout": "IPY_MODEL_60649db2aa41400c8d032bf13c68e453"
      }
     },
     "13f6cb3231334246af2b1e8b585d86fc": {
      "model_module": "@jupyter-widgets/controls",
      "model_module_version": "1.5.0",
      "model_name": "DescriptionStyleModel",
      "state": {
       "description_width": ""
      }
     },
     "1447d28562564ca58b3037339e1fd56a": {
      "model_module": "pgljupyter",
      "model_module_version": "^0.1.21",
      "model_name": "MaterialEditorModel",
      "state": {
       "_model_module_version": "^0.1.21",
       "_view_module_version": "^0.1.21",
       "children": [
        "IPY_MODEL_0374667b4982433588ab814caec15c06",
        "IPY_MODEL_9bbd113d7ca4432ebc3257210c3b4bba",
        "IPY_MODEL_8ab7595e734d49a0932417703969c091",
        "IPY_MODEL_4cc61bf11bdd449f8a15ee9f20326662",
        "IPY_MODEL_31747047bcce495c891518d32e015bdf",
        "IPY_MODEL_3dd16cc1b856454dbc171795cd01dddd",
        "IPY_MODEL_2d488102b5284d38b5c87aa63c4159cf",
        "IPY_MODEL_de5d2848f27a47be8ceb96df0723fd13"
       ],
       "layout": "IPY_MODEL_18b3bc8296b946b6ae24be81e0736f6e"
      }
     },
     "146d5fefc3734a85bff00f69249efbfc": {
      "model_module": "@jupyter-widgets/base",
      "model_module_version": "1.2.0",
      "model_name": "LayoutModel",
      "state": {}
     },
     "1495c1165fc748ae8bb58d756996d706": {
      "model_module": "@jupyter-widgets/controls",
      "model_module_version": "1.5.0",
      "model_name": "IntSliderModel",
      "state": {
       "description": "value",
       "layout": "IPY_MODEL_6c9077201cf9427b930095c29dff128d",
       "max": 10,
       "min": 1,
       "style": "IPY_MODEL_9b8436ae14f84fa29eae52599733cb23",
       "value": 5
      }
     },
     "15300167b1664d9682018422b0697519": {
      "model_module": "pgljupyter",
      "model_module_version": "^0.1.19",
      "model_name": "IntEditorModel",
      "state": {
       "_model_module_version": "^0.1.19",
       "_view_module_version": "^0.1.19",
       "children": [
        "IPY_MODEL_af8a50225a5b459392ad1828e64b9479",
        "IPY_MODEL_32834c0308ce4413b19627f02762d646"
       ],
       "layout": "IPY_MODEL_aab0b96dd9704dec8bee7aca21e55121"
      }
     },
     "153641213cab4e3888f2df8ffe4df5e6": {
      "model_module": "@jupyter-widgets/controls",
      "model_module_version": "1.5.0",
      "model_name": "ButtonModel",
      "state": {
       "description": "Delete category",
       "layout": "IPY_MODEL_47cab6d01e35497189f8f2866f69ad79",
       "style": "IPY_MODEL_333c1c1af63143dfb66f43fe624cc4ba"
      }
     },
     "1544c4aba24c44af809a65633d48cc8e": {
      "model_module": "@jupyter-widgets/controls",
      "model_module_version": "1.5.0",
      "model_name": "HBoxModel",
      "state": {
       "children": [
        "IPY_MODEL_c29fffdc637c4b74935a820089942936",
        "IPY_MODEL_2e9b3567dc074850a4457cea55ff8a2b"
       ],
       "layout": "IPY_MODEL_5a6aab1bb709492da4f69389f9069c24"
      }
     },
     "1558078ff54b40aa9edd4a561283c2a3": {
      "model_module": "@jupyter-widgets/controls",
      "model_module_version": "1.5.0",
      "model_name": "DescriptionStyleModel",
      "state": {
       "description_width": ""
      }
     },
     "155e496650f34366b813ae47225f42d5": {
      "model_module": "@jupyter-widgets/base",
      "model_module_version": "1.2.0",
      "model_name": "LayoutModel",
      "state": {}
     },
     "157fba29a18141ceb228302c5bccb5bb": {
      "model_module": "@jupyter-widgets/base",
      "model_module_version": "1.2.0",
      "model_name": "LayoutModel",
      "state": {}
     },
     "15ac7abd32994b22882527528e46a15c": {
      "model_module": "@jupyter-widgets/base",
      "model_module_version": "1.2.0",
      "model_name": "LayoutModel",
      "state": {}
     },
     "15c2dd748e27429b8b7bf9eec53d186c": {
      "model_module": "@jupyter-widgets/controls",
      "model_module_version": "1.5.0",
      "model_name": "HBoxModel",
      "state": {
       "children": [
        "IPY_MODEL_37d590580784486799b82835c1490cd0",
        "IPY_MODEL_7eb67cc5e07d4226b2341c889e12afdc",
        "IPY_MODEL_6c692b6a751b4f9a87b763ae9a055554"
       ],
       "layout": "IPY_MODEL_a9b7a5bea64640859355bc1f3bd40aed"
      }
     },
     "15cc82a7eb6848f88869d829430b0385": {
      "model_module": "@jupyter-widgets/controls",
      "model_module_version": "1.5.0",
      "model_name": "DescriptionStyleModel",
      "state": {
       "description_width": ""
      }
     },
     "160584d7549b440497e447884ae62452": {
      "model_module": "@jupyter-widgets/controls",
      "model_module_version": "1.5.0",
      "model_name": "DescriptionStyleModel",
      "state": {
       "description_width": ""
      }
     },
     "161390ba99e04b138bc28fa9c249c180": {
      "model_module": "@jupyter-widgets/controls",
      "model_module_version": "1.5.0",
      "model_name": "TextModel",
      "state": {
       "continuous_update": false,
       "description": "name",
       "layout": "IPY_MODEL_bcf7fee88c72467fbcc5a469b43e9f92",
       "style": "IPY_MODEL_7bd0ba7ae13849c1a3991f5c1fc76a3f",
       "value": "radinc"
      }
     },
     "1624262f28254a519733973a8caf8b9e": {
      "model_module": "@jupyter-widgets/controls",
      "model_module_version": "1.5.0",
      "model_name": "HBoxModel",
      "state": {
       "children": [
        "IPY_MODEL_0ebdabd5351f4a218569ece12d364cf5"
       ],
       "layout": "IPY_MODEL_7e4f103663654092a3b6f3f18908d2a4"
      }
     },
     "16282a7986064a8cb8770ae63961ce8e": {
      "model_module": "@jupyter-widgets/controls",
      "model_module_version": "1.5.0",
      "model_name": "CheckboxModel",
      "state": {
       "description": "Auto save",
       "disabled": false,
       "layout": "IPY_MODEL_8d0e659919a7446eae15c51f51434cbc",
       "style": "IPY_MODEL_ce70308ac20f4bb987e9cff5c5bdd36c",
       "value": false
      }
     },
     "1638da2fcccf476fa58af010604ee1e2": {
      "model_module": "@jupyter-widgets/controls",
      "model_module_version": "1.5.0",
      "model_name": "TabModel",
      "state": {
       "_titles": {
        "0": "leuwenberg.json"
       },
       "children": [
        "IPY_MODEL_9ff1c9457cb74aa3a67133ab431c26fa"
       ],
       "layout": "IPY_MODEL_a748a5f3be3444728407cba1e18220ed"
      }
     },
     "164bcfa6695d41c4828175244e8404ae": {
      "model_module": "@jupyter-widgets/controls",
      "model_module_version": "1.5.0",
      "model_name": "DescriptionStyleModel",
      "state": {
       "description_width": ""
      }
     },
     "165abbc949ef4da0be3399b1aa01ad1f": {
      "model_module": "@jupyter-widgets/controls",
      "model_module_version": "1.5.0",
      "model_name": "SliderStyleModel",
      "state": {
       "description_width": ""
      }
     },
     "1661cac0b09040e580c551e124e4a559": {
      "model_module": "@jupyter-widgets/controls",
      "model_module_version": "1.5.0",
      "model_name": "DescriptionStyleModel",
      "state": {
       "description_width": ""
      }
     },
     "16bd9822848d4ea8a76ae7ebedd16681": {
      "model_module": "@jupyter-widgets/base",
      "model_module_version": "1.2.0",
      "model_name": "LayoutModel",
      "state": {
       "margin": "20px 0px"
      }
     },
     "16cce7023d354ddfba60e067833ebb2b": {
      "model_module": "@jupyter-widgets/base",
      "model_module_version": "1.2.0",
      "model_name": "LayoutModel",
      "state": {}
     },
     "16f7bc26a9f3423a8cdb0ee883e8baf3": {
      "model_module": "@jupyter-widgets/controls",
      "model_module_version": "1.5.0",
      "model_name": "SliderStyleModel",
      "state": {
       "description_width": ""
      }
     },
     "170f6b615a774635b281c9b6e87c2707": {
      "model_module": "@jupyter-widgets/controls",
      "model_module_version": "1.5.0",
      "model_name": "FloatSliderModel",
      "state": {
       "description": "diffuse",
       "layout": "IPY_MODEL_5b940c3879e64cf98347973d19dcff84",
       "max": 3,
       "step": 0.1,
       "style": "IPY_MODEL_e4e8b085a5c24ad6a92920665a7ee169",
       "value": 1
      }
     },
     "171326388f714eb48b0fdd7eb080c8b2": {
      "model_module": "@jupyter-widgets/controls",
      "model_module_version": "1.5.0",
      "model_name": "FloatSliderModel",
      "state": {
       "description": "transparency",
       "layout": "IPY_MODEL_be52d9cdb49d41ef9f7664b51577a733",
       "max": 1,
       "step": 0.1,
       "style": "IPY_MODEL_0c45408378854d9db7aa0e37104b7d14"
      }
     },
     "178a6cb4a45b40af811fc096f2974764": {
      "model_module": "@jupyter-widgets/base",
      "model_module_version": "1.2.0",
      "model_name": "LayoutModel",
      "state": {}
     },
     "17a8887bab0d48dda0b6eb417e76dbac": {
      "model_module": "@jupyter-widgets/controls",
      "model_module_version": "1.5.0",
      "model_name": "DescriptionStyleModel",
      "state": {
       "description_width": ""
      }
     },
     "17dc7d6946fa4dcb97123fb2091496ed": {
      "model_module": "@jupyter-widgets/controls",
      "model_module_version": "1.5.0",
      "model_name": "DescriptionStyleModel",
      "state": {
       "description_width": ""
      }
     },
     "17de7061fc71420fb27975958a62c182": {
      "model_module": "pgljupyter",
      "model_module_version": "^0.1.21",
      "model_name": "MaterialEditorModel",
      "state": {
       "_model_module_version": "^0.1.21",
       "_view_module_version": "^0.1.21",
       "children": [
        "IPY_MODEL_408d582856e84421a763fa391a9130a8",
        "IPY_MODEL_ee264b2062824fd5b777853c7f930800",
        "IPY_MODEL_916e7d074de94e13a2e0ee223e0b2d15",
        "IPY_MODEL_e0f1782f2a614b3fa512c8365f125d2a",
        "IPY_MODEL_2e21adf4c8bb4fac95416edb37f93844",
        "IPY_MODEL_117c3751605b49da9649139f8f836205",
        "IPY_MODEL_1e78178572d64dcdb6056a7128c73f73",
        "IPY_MODEL_0aafc59276204d4698648b7214e955f0"
       ],
       "layout": "IPY_MODEL_12e643a8ee7244a48d10e4c9dc50c23c"
      }
     },
     "181662f4cedf410dac5bab4e1bf8645f": {
      "model_module": "@jupyter-widgets/base",
      "model_module_version": "1.2.0",
      "model_name": "LayoutModel",
      "state": {}
     },
     "181af5a1b3fa4b279cd968fb4614425b": {
      "model_module": "@jupyter-widgets/controls",
      "model_module_version": "1.5.0",
      "model_name": "HBoxModel",
      "state": {
       "children": [
        "IPY_MODEL_8518727b6ec245b1946e9a567ad7db89"
       ],
       "layout": "IPY_MODEL_3bc19bb63ddf48d997c4e036a6b93e14"
      }
     },
     "1841107c669d487a88dba8bee46180f8": {
      "model_module": "@jupyter-widgets/base",
      "model_module_version": "1.2.0",
      "model_name": "LayoutModel",
      "state": {}
     },
     "184575d290844eb0802b2744b027c06f": {
      "model_module": "@jupyter-widgets/controls",
      "model_module_version": "1.5.0",
      "model_name": "DescriptionStyleModel",
      "state": {
       "description_width": ""
      }
     },
     "18a4cfa16bc946538d5790374028d641": {
      "model_module": "@jupyter-widgets/base",
      "model_module_version": "1.2.0",
      "model_name": "LayoutModel",
      "state": {}
     },
     "18abd2b200874f98af3b0f2c86c1a019": {
      "model_module": "@jupyter-widgets/controls",
      "model_module_version": "1.5.0",
      "model_name": "ButtonStyleModel",
      "state": {}
     },
     "18ad88abe6924cd5b9deb571f448c0d9": {
      "model_module": "@jupyter-widgets/controls",
      "model_module_version": "1.5.0",
      "model_name": "FloatSliderModel",
      "state": {
       "continuous_update": false,
       "description": "transparency",
       "layout": "IPY_MODEL_b1bd370223104c85b1afb7e06afc9a79",
       "max": 1,
       "step": 0.1,
       "style": "IPY_MODEL_6562e328352c4da9bcc65510d48fe34e"
      }
     },
     "18b3bc8296b946b6ae24be81e0736f6e": {
      "model_module": "@jupyter-widgets/base",
      "model_module_version": "1.2.0",
      "model_name": "LayoutModel",
      "state": {
       "margin": "20px 0px"
      }
     },
     "18e073fa77914b8ab317a620c3d55cff": {
      "model_module": "@jupyter-widgets/base",
      "model_module_version": "1.2.0",
      "model_name": "LayoutModel",
      "state": {}
     },
     "18f2aa4406d94deaab24b3b2e2829509": {
      "model_module": "@jupyter-widgets/base",
      "model_module_version": "1.2.0",
      "model_name": "LayoutModel",
      "state": {}
     },
     "18f33fdb355044e1b8ef1b21e2934a1e": {
      "model_module": "@jupyter-widgets/controls",
      "model_module_version": "1.5.0",
      "model_name": "DropdownModel",
      "state": {
       "_options_labels": [
        "Color"
       ],
       "index": 0,
       "layout": "IPY_MODEL_0ed16efb5f4744e8a4b925f5d886aad4",
       "style": "IPY_MODEL_1661cac0b09040e580c551e124e4a559"
      }
     },
     "18fd2dd4be65499b91b7d984d3f28244": {
      "model_module": "@jupyter-widgets/controls",
      "model_module_version": "1.5.0",
      "model_name": "TabModel",
      "state": {
       "_titles": {
        "0": "leuwenberg.json"
       },
       "children": [
        "IPY_MODEL_53095037c0fc41f0ad798cc1f327c12f"
       ],
       "layout": "IPY_MODEL_37cb01c9b3e84e9da135afac63cb3f28"
      }
     },
     "190f9a77b410464d8397db246bf8a588": {
      "model_module": "@jupyter-widgets/controls",
      "model_module_version": "1.5.0",
      "model_name": "TextModel",
      "state": {
       "continuous_update": false,
       "description": "name",
       "layout": "IPY_MODEL_3195adc8fefb45378839f142bc7b7fdc",
       "style": "IPY_MODEL_3324d05d1f6847678f57a1016eafaa0e",
       "value": "color_4"
      }
     },
     "1910124b79a9485da861e6e0c1762d37": {
      "model_module": "@jupyter-widgets/base",
      "model_module_version": "1.2.0",
      "model_name": "LayoutModel",
      "state": {}
     },
     "194ad744cbd346c59d513770c2a47af7": {
      "model_module": "@jupyter-widgets/base",
      "model_module_version": "1.2.0",
      "model_name": "LayoutModel",
      "state": {
       "margin": "20px 0px"
      }
     },
     "197cf1dcd4204da1b4aa7c6ddffd697e": {
      "model_module": "@jupyter-widgets/controls",
      "model_module_version": "1.5.0",
      "model_name": "SliderStyleModel",
      "state": {
       "description_width": ""
      }
     },
     "19c0e5bf37c2495dba13da8f747c69e9": {
      "model_module": "@jupyter-widgets/controls",
      "model_module_version": "1.5.0",
      "model_name": "SliderStyleModel",
      "state": {
       "description_width": ""
      }
     },
     "1a30bd6297ea496caffb74eca89f7301": {
      "model_module": "@jupyter-widgets/controls",
      "model_module_version": "1.5.0",
      "model_name": "ColorPickerModel",
      "state": {
       "description": "specular",
       "disabled": false,
       "layout": "IPY_MODEL_7712426c5f4b4063af82886fae09a405",
       "style": "IPY_MODEL_22b0b08845a841bcab00137e9e0e416b",
       "value": "#282828"
      }
     },
     "1a39600936bd4b199a960b5ddd12c3ef": {
      "model_module": "@jupyter-widgets/controls",
      "model_module_version": "1.5.0",
      "model_name": "ButtonModel",
      "state": {
       "description": "Add",
       "layout": "IPY_MODEL_4fbf2b45694848a9aa03aadb8fb5d86c",
       "style": "IPY_MODEL_49abdf9d78524715a97cc756c7cc26ee"
      }
     },
     "1a3a8e4cff4b498aad3788925124b846": {
      "model_module": "@jupyter-widgets/controls",
      "model_module_version": "1.5.0",
      "model_name": "HBoxModel",
      "state": {
       "layout": "IPY_MODEL_5a7768daa7114d36b770ea435fe36cec"
      }
     },
     "1a768dffa91045cdbec62fd051859942": {
      "model_module": "@jupyter-widgets/controls",
      "model_module_version": "1.5.0",
      "model_name": "HBoxModel",
      "state": {
       "children": [
        "IPY_MODEL_de29d9fc92c645568318b3cac8e85baf",
        "IPY_MODEL_cbc8b4e533c94b8597e45a4ac84149b8"
       ],
       "layout": "IPY_MODEL_1310fd264c314fc6ba058b93e9e20982"
      }
     },
     "1a8e5e8102f24f6788a2e4825cfd5527": {
      "model_module": "@jupyter-widgets/controls",
      "model_module_version": "1.5.0",
      "model_name": "DescriptionStyleModel",
      "state": {
       "description_width": ""
      }
     },
     "1a901903106b4de5881749108bd6c41d": {
      "model_module": "@jupyter-widgets/base",
      "model_module_version": "1.2.0",
      "model_name": "LayoutModel",
      "state": {}
     },
     "1abe21887ea247a8852a934bfc85700a": {
      "model_module": "@jupyter-widgets/controls",
      "model_module_version": "1.5.0",
      "model_name": "SliderStyleModel",
      "state": {
       "description_width": ""
      }
     },
     "1adccbe353a046ea9bf4ed81f2cba08d": {
      "model_module": "@jupyter-widgets/controls",
      "model_module_version": "1.5.0",
      "model_name": "SliderStyleModel",
      "state": {
       "description_width": ""
      }
     },
     "1ae92564132343389b54704803f15403": {
      "model_module": "@jupyter-widgets/controls",
      "model_module_version": "1.5.0",
      "model_name": "HBoxModel",
      "state": {
       "children": [
        "IPY_MODEL_ff98df5ff2474c69a7b7ac98b28b5e0f",
        "IPY_MODEL_53e9fb96eb5c4e49af7c1126d83fd454"
       ],
       "layout": "IPY_MODEL_4474832739d44029bfbe0a393192f09b"
      }
     },
     "1aeee9874bc84466bbeb7bfb15647305": {
      "model_module": "@jupyter-widgets/base",
      "model_module_version": "1.2.0",
      "model_name": "LayoutModel",
      "state": {
       "margin": "20px 0px"
      }
     },
     "1b23eb33720947ad81bbf0cc81ea07cf": {
      "model_module": "@jupyter-widgets/controls",
      "model_module_version": "1.5.0",
      "model_name": "SliderStyleModel",
      "state": {
       "description_width": ""
      }
     },
     "1b44d596a79d4717bb36340cb0ec6094": {
      "model_module": "@jupyter-widgets/base",
      "model_module_version": "1.2.0",
      "model_name": "LayoutModel",
      "state": {}
     },
     "1b5446a7b8594571b37b59d8d9494810": {
      "model_module": "@jupyter-widgets/base",
      "model_module_version": "1.2.0",
      "model_name": "LayoutModel",
      "state": {}
     },
     "1b6051bae24c473598c952d51984d1ee": {
      "model_module": "@jupyter-widgets/base",
      "model_module_version": "1.2.0",
      "model_name": "LayoutModel",
      "state": {}
     },
     "1bd27105bfe744bdbb177dc19d1cf75d": {
      "model_module": "@jupyter-widgets/controls",
      "model_module_version": "1.5.0",
      "model_name": "HBoxModel",
      "state": {
       "layout": "IPY_MODEL_a9b7a5bea64640859355bc1f3bd40aed"
      }
     },
     "1bf3eb867db745b39087e47d083ee70c": {
      "model_module": "@jupyter-widgets/controls",
      "model_module_version": "1.5.0",
      "model_name": "TextModel",
      "state": {
       "continuous_update": false,
       "description": "name",
       "layout": "IPY_MODEL_98388df207bd4a559bfd30c5445ef20d",
       "style": "IPY_MODEL_13c19586c17d41a298a7f79468b7e17a",
       "value": "maxorder"
      }
     },
     "1c3ad41458c64c129919cde932065b83": {
      "model_module": "@jupyter-widgets/controls",
      "model_module_version": "1.5.0",
      "model_name": "TextModel",
      "state": {
       "continuous_update": false,
       "description": "name",
       "layout": "IPY_MODEL_b7f1e2be6da44fbcaa0cb8e574a361c3",
       "style": "IPY_MODEL_6fdc9886fdbf46dda46199abcd2ce19a",
       "value": "leafold"
      }
     },
     "1c64de6d810040e6a876cf03d544910b": {
      "model_module": "@jupyter-widgets/controls",
      "model_module_version": "1.5.0",
      "model_name": "HBoxModel",
      "state": {
       "children": [
        "IPY_MODEL_2aa3ae383fe546ccba78dde66139f07e",
        "IPY_MODEL_31ff80b71d0e49b293026e52abfdb4bc"
       ],
       "layout": "IPY_MODEL_78dff3c9b0ab4092885a4681b708b9c4"
      }
     },
     "1c6b5e326e8d49b2a591f19e3efcbb8c": {
      "model_module": "@jupyter-widgets/controls",
      "model_module_version": "1.5.0",
      "model_name": "SliderStyleModel",
      "state": {
       "description_width": ""
      }
     },
     "1cce361553fe4e3384705e13f5a70ce3": {
      "model_module": "@jupyter-widgets/controls",
      "model_module_version": "1.5.0",
      "model_name": "HBoxModel",
      "state": {
       "children": [
        "IPY_MODEL_8760bd037eeb40d88f785a795b4cfa32",
        "IPY_MODEL_5ca98085c6bf49aca459dd565f93cd38"
       ],
       "layout": "IPY_MODEL_bc4bbf97cace49f2830fcdf2421eabb0"
      }
     },
     "1cf4a392c16e40a5af323f7c787ca26d": {
      "model_module": "@jupyter-widgets/base",
      "model_module_version": "1.2.0",
      "model_name": "LayoutModel",
      "state": {}
     },
     "1d1181a2fd7a41b6942a8f000b3d75bd": {
      "model_module": "@jupyter-widgets/base",
      "model_module_version": "1.2.0",
      "model_name": "LayoutModel",
      "state": {}
     },
     "1d1c9cc08a664ea3b55b7a47fcfdc251": {
      "model_module": "@jupyter-widgets/controls",
      "model_module_version": "1.5.0",
      "model_name": "HBoxModel",
      "state": {
       "children": [
        "IPY_MODEL_9b10fafd1dad421981300c41e7b605cc",
        "IPY_MODEL_bd21842443764a4e9cfc0fe5e99adc99",
        "IPY_MODEL_48b02d61921140799c9d50de4e6abab8"
       ],
       "layout": "IPY_MODEL_f83dfb11eba54161877d623ec09906b5"
      }
     },
     "1d2c3e8ff93a461893bd0cf380e5598b": {
      "model_module": "@jupyter-widgets/base",
      "model_module_version": "1.2.0",
      "model_name": "LayoutModel",
      "state": {}
     },
     "1d2e9bf12109429982866039d15abe82": {
      "model_module": "@jupyter-widgets/controls",
      "model_module_version": "1.5.0",
      "model_name": "ButtonStyleModel",
      "state": {}
     },
     "1d631b91d9ac4f29a2da89915f36246d": {
      "model_module": "@jupyter-widgets/controls",
      "model_module_version": "1.5.0",
      "model_name": "ButtonStyleModel",
      "state": {}
     },
     "1d6ac4f49b314f0e9fb3532cfc3b8bce": {
      "model_module": "@jupyter-widgets/controls",
      "model_module_version": "1.5.0",
      "model_name": "IntTextModel",
      "state": {
       "description": "min",
       "layout": "IPY_MODEL_2047c15e3d8f4214b541d17514096060",
       "step": 1,
       "style": "IPY_MODEL_d57615a69c10480d8db062fc5e36385d",
       "value": 1
      }
     },
     "1d7324e6216945c694b7879142e82cce": {
      "model_module": "@jupyter-widgets/controls",
      "model_module_version": "1.5.0",
      "model_name": "DropdownModel",
      "state": {
       "_options_labels": [
        "maxorder",
        "radinc",
        "nb_axes"
       ],
       "index": 0,
       "layout": "IPY_MODEL_b9ebb3597e8346f8a3fc4ed986a97a1b",
       "style": "IPY_MODEL_90f3796014fb441682830e036d391913"
      }
     },
     "1e131dd0699142ff8d201517f327a01e": {
      "model_module": "@jupyter-widgets/controls",
      "model_module_version": "1.5.0",
      "model_name": "VBoxModel",
      "state": {
       "children": [
        "IPY_MODEL_83ffa7e6fb914aec8162938aaf8fbf5d",
        "IPY_MODEL_1638da2fcccf476fa58af010604ee1e2"
       ],
       "layout": "IPY_MODEL_552cab5a34bb42878921b10d86c06c8d"
      }
     },
     "1e182d826be744dba3ea4c48b973b242": {
      "model_module": "@jupyter-widgets/controls",
      "model_module_version": "1.5.0",
      "model_name": "HBoxModel",
      "state": {
       "children": [
        "IPY_MODEL_8b815e58fddc4a559d96a5bea9398873"
       ],
       "layout": "IPY_MODEL_f84fb842bfdc4ca69b673ea45abcdf91"
      }
     },
     "1e3f2f62b72846cc8fb09a7e9d3f906d": {
      "model_module": "@jupyter-widgets/base",
      "model_module_version": "1.2.0",
      "model_name": "LayoutModel",
      "state": {
       "margin": "20px 0px"
      }
     },
     "1e5af16da1b3427d83bc2e4cf9a49852": {
      "model_module": "@jupyter-widgets/controls",
      "model_module_version": "1.5.0",
      "model_name": "ButtonModel",
      "state": {
       "description": "Delete",
       "layout": "IPY_MODEL_6cb02b695e9b429fb82b362a464e95d4",
       "style": "IPY_MODEL_403ce4d89d824f1c8e0c931714a623aa"
      }
     },
     "1e5b82c3498a414dbfb5116f2d3569b5": {
      "model_module": "@jupyter-widgets/controls",
      "model_module_version": "1.5.0",
      "model_name": "FloatSliderModel",
      "state": {
       "continuous_update": false,
       "description": "shininess",
       "layout": "IPY_MODEL_5c6ace0f578c42b9979bc855a04653e3",
       "max": 1,
       "step": 0.1,
       "style": "IPY_MODEL_89db33f980cb4aa4bf951958b1be4cdf",
       "value": 0.2
      }
     },
     "1e6010c917c4441f8d05dacd1cf3a5ba": {
      "model_module": "@jupyter-widgets/controls",
      "model_module_version": "1.5.0",
      "model_name": "ColorPickerModel",
      "state": {
       "description": "ambient",
       "disabled": false,
       "layout": "IPY_MODEL_619d054879f142ab8a22cb911c74fa09",
       "style": "IPY_MODEL_269d4a9ce92344b6b1ca56cee70b6700",
       "value": "#0fc4db"
      }
     },
     "1e71076b6d304240bdd062f2d5156785": {
      "model_module": "@jupyter-widgets/base",
      "model_module_version": "1.2.0",
      "model_name": "LayoutModel",
      "state": {}
     },
     "1e78178572d64dcdb6056a7128c73f73": {
      "model_module": "@jupyter-widgets/controls",
      "model_module_version": "1.5.0",
      "model_name": "FloatSliderModel",
      "state": {
       "description": "transparency",
       "layout": "IPY_MODEL_6ab377277f3f47c19b9225d757195275",
       "max": 1,
       "step": 0.1,
       "style": "IPY_MODEL_0010fef821bc48b083984f720d45fe40"
      }
     },
     "1e923ca9d3ec4aaf9602202ba9e7cb20": {
      "model_module": "@jupyter-widgets/base",
      "model_module_version": "1.2.0",
      "model_name": "LayoutModel",
      "state": {}
     },
     "1ea1b9374e5d4145bcc362d9bb9d3624": {
      "model_module": "@jupyter-widgets/controls",
      "model_module_version": "1.5.0",
      "model_name": "DropdownModel",
      "state": {
       "_options_labels": [
        "Color"
       ],
       "index": 0,
       "layout": "IPY_MODEL_f869d0c8c4644edf9a72e7f0721d5ba9",
       "style": "IPY_MODEL_24d9e6cddd2d4972974ebbd3a1c6bd3e"
      }
     },
     "1ea7dc68a20e4fa3ae2f532556b651d0": {
      "model_module": "@jupyter-widgets/controls",
      "model_module_version": "1.5.0",
      "model_name": "ColorPickerModel",
      "state": {
       "description": "ambient",
       "disabled": false,
       "layout": "IPY_MODEL_f4f2faa3af214fe2ad81b69860fda065",
       "style": "IPY_MODEL_906dd31da0b74225aefcd7029f7939cc",
       "value": "#e1a014"
      }
     },
     "1eafac7d519a4739b0a5ec9f2e1a0356": {
      "model_module": "@jupyter-widgets/base",
      "model_module_version": "1.2.0",
      "model_name": "LayoutModel",
      "state": {}
     },
     "1eb0713d17fb4a92b6d7cfab6060154c": {
      "model_module": "@jupyter-widgets/controls",
      "model_module_version": "1.5.0",
      "model_name": "DescriptionStyleModel",
      "state": {
       "description_width": ""
      }
     },
     "1ed4e731b536479d92c45a6c18f3559e": {
      "model_module": "@jupyter-widgets/controls",
      "model_module_version": "1.5.0",
      "model_name": "HBoxModel",
      "state": {
       "children": [
        "IPY_MODEL_5d6050d7def2462992a2c0be1241bbe2",
        "IPY_MODEL_b39e37f7a4514c6dbdf47b7cacbbd714"
       ],
       "layout": "IPY_MODEL_3bc19bb63ddf48d997c4e036a6b93e14"
      }
     },
     "1ef74d1c41b24007821a052f50da2c9f": {
      "model_module": "@jupyter-widgets/controls",
      "model_module_version": "1.5.0",
      "model_name": "FloatSliderModel",
      "state": {
       "description": "diffuse",
       "layout": "IPY_MODEL_60f7d6ccd61f493dadbfcf94d366711a",
       "max": 3,
       "step": 0.1,
       "style": "IPY_MODEL_0aea6c9bfdb24c3a9046b8a0c0ca6aa6",
       "value": 1
      }
     },
     "1f1df1d84cbd4198a124c637fd5a7782": {
      "model_module": "@jupyter-widgets/controls",
      "model_module_version": "1.5.0",
      "model_name": "DescriptionStyleModel",
      "state": {
       "description_width": ""
      }
     },
     "1f53359d42784ba0a3451ee526d47c0f": {
      "model_module": "@jupyter-widgets/controls",
      "model_module_version": "1.5.0",
      "model_name": "HBoxModel",
      "state": {
       "children": [
        "IPY_MODEL_826dcf09a36b44db93daf5f8ada9b810",
        "IPY_MODEL_4dccc1a6b2aa4555ba52f45eb750b218",
        "IPY_MODEL_89db582de4224ed0b196b8f2a9d544c4"
       ],
       "layout": "IPY_MODEL_8b9a41a0b095405186d1eec77ac0c839"
      }
     },
     "1f72998eed09408198e3afb7711fce67": {
      "model_module": "@jupyter-widgets/base",
      "model_module_version": "1.2.0",
      "model_name": "LayoutModel",
      "state": {}
     },
     "1f88c16815df476d8f718a32226dcb4a": {
      "model_module": "@jupyter-widgets/controls",
      "model_module_version": "1.5.0",
      "model_name": "DescriptionStyleModel",
      "state": {
       "description_width": ""
      }
     },
     "1f8ab0fca1c04c59ba41957779688c40": {
      "model_module": "@jupyter-widgets/controls",
      "model_module_version": "1.5.0",
      "model_name": "BoundedIntTextModel",
      "state": {
       "description": "index",
       "layout": "IPY_MODEL_3afbf51007944e8f8954670763c456a2",
       "style": "IPY_MODEL_f1c6aa52cc2a40a396a24165e1c5bf64",
       "value": 4
      }
     },
     "1f9354edd99a419791b8098ce14a9959": {
      "model_module": "@jupyter-widgets/controls",
      "model_module_version": "1.5.0",
      "model_name": "BoundedIntTextModel",
      "state": {
       "description": "index",
       "layout": "IPY_MODEL_7929a2686ff24e638383a6c077619e2f",
       "style": "IPY_MODEL_685ee14868fa4a14911917cadbe67018",
       "value": 3
      }
     },
     "1fac97fbb78942428b45f4a29eff0181": {
      "model_module": "@jupyter-widgets/controls",
      "model_module_version": "1.5.0",
      "model_name": "SliderStyleModel",
      "state": {
       "description_width": ""
      }
     },
     "1fbbf5e052d94a73b8637548af5f55ea": {
      "model_module": "@jupyter-widgets/controls",
      "model_module_version": "1.5.0",
      "model_name": "TextModel",
      "state": {
       "continuous_update": false,
       "description": "name",
       "layout": "IPY_MODEL_6f2b90d0eaeb458c92aa8d4c7eda4de5",
       "style": "IPY_MODEL_8e85538f1c7348e88888e73f57ac653a",
       "value": "radinc"
      }
     },
     "1fc7b2d61c8248a78f6d173ef2c25c28": {
      "model_module": "@jupyter-widgets/controls",
      "model_module_version": "1.5.0",
      "model_name": "DescriptionStyleModel",
      "state": {
       "description_width": ""
      }
     },
     "1fcf90f890c6426ab939a569108497cd": {
      "model_module": "@jupyter-widgets/controls",
      "model_module_version": "1.5.0",
      "model_name": "ButtonModel",
      "state": {
       "description": "Add",
       "layout": "IPY_MODEL_edccc23ee7c94c62b87b7ae6355454e4",
       "style": "IPY_MODEL_879fcdce8800437ebdb114cb02a43a8e"
      }
     },
     "200bbcd159c24386b1e2e9fe9c914ff7": {
      "model_module": "@jupyter-widgets/controls",
      "model_module_version": "1.5.0",
      "model_name": "SliderStyleModel",
      "state": {
       "description_width": ""
      }
     },
     "200e396776fd4859b251083ea338dbc3": {
      "model_module": "@jupyter-widgets/controls",
      "model_module_version": "1.5.0",
      "model_name": "VBoxModel",
      "state": {
       "children": [
        "IPY_MODEL_3a91f9dd6dd840dfa42d860498e26055",
        "IPY_MODEL_e29bcf91cb1e4caebd131a237b84ab1c",
        "IPY_MODEL_86ad7647a23949bbb9260384e6040155",
        "IPY_MODEL_d015b65324534f50aa5675640c1f43ab",
        "IPY_MODEL_300d90438a1445f4819171e16fa9d386"
       ],
       "layout": "IPY_MODEL_3242767a029c4316a2ec4ab31704f3d8"
      }
     },
     "20298b4a168141e9be68094a28287409": {
      "model_module": "@jupyter-widgets/controls",
      "model_module_version": "1.5.0",
      "model_name": "HBoxModel",
      "state": {
       "children": [
        "IPY_MODEL_5adffba729714082b4c0b93187c64244",
        "IPY_MODEL_41173f204e7842519840674a61a7e434"
       ],
       "layout": "IPY_MODEL_0edf0711fcd443488bc2bd1811f52c38"
      }
     },
     "203079255d89445eaa5a11bb556a37d5": {
      "model_module": "@jupyter-widgets/controls",
      "model_module_version": "1.5.0",
      "model_name": "BoundedIntTextModel",
      "state": {
       "description": "index",
       "layout": "IPY_MODEL_cb43d93a31474ef68c27ec960b1e17ad",
       "style": "IPY_MODEL_05a5ce6fe609440eaac4fb1a88000fa7",
       "value": 4
      }
     },
     "203311275276426398b1e3c34669b385": {
      "model_module": "@jupyter-widgets/base",
      "model_module_version": "1.2.0",
      "model_name": "LayoutModel",
      "state": {}
     },
     "203480e9c215468ea9ab336c23360aec": {
      "model_module": "@jupyter-widgets/controls",
      "model_module_version": "1.5.0",
      "model_name": "FloatSliderModel",
      "state": {
       "description": "value",
       "layout": "IPY_MODEL_6a018a7ac45f43ed9fb495ac70a32468",
       "max": 0.1,
       "min": 0.01,
       "step": 0.01,
       "style": "IPY_MODEL_cf673dfbe5eb413c96fdeb2659cfc128",
       "value": 0.02
      }
     },
     "2047c15e3d8f4214b541d17514096060": {
      "model_module": "@jupyter-widgets/base",
      "model_module_version": "1.2.0",
      "model_name": "LayoutModel",
      "state": {}
     },
     "20524a3cbd284565b43899cfff3eabbb": {
      "model_module": "@jupyter-widgets/base",
      "model_module_version": "1.2.0",
      "model_name": "LayoutModel",
      "state": {
       "margin": "20px 0px"
      }
     },
     "207d2c2ed4094de6aa559901cd22e572": {
      "model_module": "@jupyter-widgets/base",
      "model_module_version": "1.2.0",
      "model_name": "LayoutModel",
      "state": {}
     },
     "208de69f01e844309a09e7a6c6150e42": {
      "model_module": "@jupyter-widgets/controls",
      "model_module_version": "1.5.0",
      "model_name": "TextModel",
      "state": {
       "continuous_update": false,
       "description": "name",
       "layout": "IPY_MODEL_9f81c34fd48c46a38082ef22fe436144",
       "style": "IPY_MODEL_98aa41c6eb644b028a4c3b34c61591da",
       "value": "trunk"
      }
     },
     "209c033af72d44e3a0b13ab8001e5335": {
      "model_module": "@jupyter-widgets/base",
      "model_module_version": "1.2.0",
      "model_name": "LayoutModel",
      "state": {}
     },
     "20ab7410ec8c4e87a7028f3830335948": {
      "model_module": "@jupyter-widgets/base",
      "model_module_version": "1.2.0",
      "model_name": "LayoutModel",
      "state": {}
     },
     "20b13acc67a845f6956f498c04e38806": {
      "model_module": "@jupyter-widgets/base",
      "model_module_version": "1.2.0",
      "model_name": "LayoutModel",
      "state": {}
     },
     "20b1952b21434151a833e0b22eb08f81": {
      "model_module": "@jupyter-widgets/controls",
      "model_module_version": "1.5.0",
      "model_name": "DescriptionStyleModel",
      "state": {
       "description_width": ""
      }
     },
     "20e00e78d72c45a192c02ce598d26a33": {
      "model_module": "@jupyter-widgets/controls",
      "model_module_version": "1.5.0",
      "model_name": "FloatSliderModel",
      "state": {
       "description": "value",
       "layout": "IPY_MODEL_80e9653aa5df4aec98e4b796abfbd551",
       "max": 0.1,
       "min": 0.01,
       "step": 0.01,
       "style": "IPY_MODEL_7ae3718b0ae34394a27bdb7f6b8e878f",
       "value": 0.03
      }
     },
     "20e3dd12ae594b74880fcf2f3311b803": {
      "model_module": "@jupyter-widgets/base",
      "model_module_version": "1.2.0",
      "model_name": "LayoutModel",
      "state": {}
     },
     "20e92cd381cd4543b11477c4b28a2822": {
      "model_module": "@jupyter-widgets/base",
      "model_module_version": "1.2.0",
      "model_name": "LayoutModel",
      "state": {}
     },
     "20f26d89736d43d19f678d93232feee7": {
      "model_module": "@jupyter-widgets/controls",
      "model_module_version": "1.5.0",
      "model_name": "DescriptionStyleModel",
      "state": {
       "description_width": ""
      }
     },
     "2132082f200f4a239684d6e5b976b196": {
      "model_module": "@jupyter-widgets/base",
      "model_module_version": "1.2.0",
      "model_name": "LayoutModel",
      "state": {}
     },
     "21350d8100af4acbbbba14f68c856baa": {
      "model_module": "@jupyter-widgets/controls",
      "model_module_version": "1.5.0",
      "model_name": "ColorPickerModel",
      "state": {
       "description": "emission",
       "disabled": false,
       "layout": "IPY_MODEL_c6a591bed4c246eaa6f122a5fb74d701",
       "style": "IPY_MODEL_58b736cae95a4a3f97d710efaa4148bb",
       "value": "#000000"
      }
     },
     "21584ab197984ba29419802ea60fc1c8": {
      "model_module": "@jupyter-widgets/controls",
      "model_module_version": "1.5.0",
      "model_name": "VBoxModel",
      "state": {
       "children": [
        "IPY_MODEL_0c2bee5a70fb46b2acac86b96cb0aab2",
        "IPY_MODEL_bba064c217a24b0f9b5d380aaa6fea52"
       ],
       "layout": "IPY_MODEL_1e923ca9d3ec4aaf9602202ba9e7cb20"
      }
     },
     "215f302522a248ffb3819ec2c29f1058": {
      "model_module": "@jupyter-widgets/base",
      "model_module_version": "1.2.0",
      "model_name": "LayoutModel",
      "state": {}
     },
     "21681404317b48249d8e358124b22d13": {
      "model_module": "@jupyter-widgets/controls",
      "model_module_version": "1.5.0",
      "model_name": "DropdownModel",
      "state": {
       "_options_labels": [
        "trunk",
        "leaf_new",
        "apex",
        "leaf_old"
       ],
       "index": 0,
       "layout": "IPY_MODEL_bf10c1c91f744db1b7cbf9962b0fb4a1",
       "style": "IPY_MODEL_3cc05422b64343cab04ad8a0ddc1d880"
      }
     },
     "216b5684e13748dbbbd395dfcfccad08": {
      "model_module": "@jupyter-widgets/controls",
      "model_module_version": "1.5.0",
      "model_name": "HBoxModel",
      "state": {
       "children": [
        "IPY_MODEL_78a56862f5a740aaa2c18c802f594ae3",
        "IPY_MODEL_ac03182339fd4bdbbfe98a64ba6760a0"
       ],
       "layout": "IPY_MODEL_940c9355e89a41248908d024561c2082"
      }
     },
     "2171707fa97347488af43fe88a591d0f": {
      "model_module": "@jupyter-widgets/controls",
      "model_module_version": "1.5.0",
      "model_name": "SliderStyleModel",
      "state": {
       "description_width": ""
      }
     },
     "21dc5393f9364b34b280fae10a6852f9": {
      "model_module": "@jupyter-widgets/controls",
      "model_module_version": "1.5.0",
      "model_name": "ButtonStyleModel",
      "state": {}
     },
     "21f3349a602545288f617c05af0e2a85": {
      "model_module": "@jupyter-widgets/base",
      "model_module_version": "1.2.0",
      "model_name": "LayoutModel",
      "state": {}
     },
     "221397e9ebd543a29b72321488035216": {
      "model_module": "@jupyter-widgets/controls",
      "model_module_version": "1.5.0",
      "model_name": "HBoxModel",
      "state": {
       "children": [
        "IPY_MODEL_34039ec0ba934c63862e396616b031ef",
        "IPY_MODEL_bc6a9e91763e4425a42d8b1641580ff4"
       ],
       "layout": "IPY_MODEL_3000a614557743cbb42abf392046434f"
      }
     },
     "221ff8ea7a8240c4978f750044c1a1b6": {
      "model_module": "@jupyter-widgets/controls",
      "model_module_version": "1.5.0",
      "model_name": "DescriptionStyleModel",
      "state": {
       "description_width": ""
      }
     },
     "2249a5a5d0f24085af3136bbb4f3f425": {
      "model_module": "@jupyter-widgets/controls",
      "model_module_version": "1.5.0",
      "model_name": "FloatSliderModel",
      "state": {
       "description": "shininess",
       "layout": "IPY_MODEL_d323d6b67e114f9199d968a403d35954",
       "max": 1,
       "step": 0.1,
       "style": "IPY_MODEL_abcc393b17f24dc9b7fecb97fc241a9d",
       "value": 0.2
      }
     },
     "225a25286ce64ac499f5f3306b5b2a61": {
      "model_module": "@jupyter-widgets/controls",
      "model_module_version": "1.5.0",
      "model_name": "FloatSliderModel",
      "state": {
       "continuous_update": false,
       "description": "shininess",
       "layout": "IPY_MODEL_bec3c9f59a484a5f81d56950adfbfbfd",
       "max": 1,
       "step": 0.1,
       "style": "IPY_MODEL_1abe21887ea247a8852a934bfc85700a",
       "value": 0.2
      }
     },
     "227e62b2d511415dbb0e7c79cc99f8ca": {
      "model_module": "@jupyter-widgets/controls",
      "model_module_version": "1.5.0",
      "model_name": "SliderStyleModel",
      "state": {
       "description_width": ""
      }
     },
     "22836115f66046069dfdd261f534a787": {
      "model_module": "pgljupyter",
      "model_module_version": "^0.1.19",
      "model_name": "ParameterEditorModel",
      "state": {
       "_model_module_version": "^0.1.19",
       "_view_module_version": "^0.1.19",
       "children": [
        "IPY_MODEL_a177c650942f473394de06d06b3caca8"
       ],
       "layout": "IPY_MODEL_614b17aa8cbd4c59bdc4c77fdfbbc42b"
      }
     },
     "228bc3eabbcd41b0903a627cadc7111d": {
      "model_module": "@jupyter-widgets/controls",
      "model_module_version": "1.5.0",
      "model_name": "SliderStyleModel",
      "state": {
       "description_width": ""
      }
     },
     "22b0b08845a841bcab00137e9e0e416b": {
      "model_module": "@jupyter-widgets/controls",
      "model_module_version": "1.5.0",
      "model_name": "DescriptionStyleModel",
      "state": {
       "description_width": ""
      }
     },
     "22c1a3a0307f4a4ca0dc0ac94efedfc6": {
      "model_module": "@jupyter-widgets/base",
      "model_module_version": "1.2.0",
      "model_name": "LayoutModel",
      "state": {}
     },
     "22cd6b280ddd41f3b8849de884f36712": {
      "model_module": "@jupyter-widgets/controls",
      "model_module_version": "1.5.0",
      "model_name": "IntSliderModel",
      "state": {
       "continuous_update": false,
       "description": "value",
       "layout": "IPY_MODEL_18e073fa77914b8ab317a620c3d55cff",
       "max": 10,
       "min": 1,
       "style": "IPY_MODEL_d2bb46fece49444493085b0de0cbeb64",
       "value": 5
      }
     },
     "22f9f8931d46440d97e214fb63e75678": {
      "model_module": "@jupyter-widgets/controls",
      "model_module_version": "1.5.0",
      "model_name": "ButtonStyleModel",
      "state": {}
     },
     "233d83e71b4344838e3144dcacea3eeb": {
      "model_module": "@jupyter-widgets/base",
      "model_module_version": "1.2.0",
      "model_name": "LayoutModel",
      "state": {}
     },
     "2340039821ec4848ab8a9b6c4eb0a864": {
      "model_module": "@jupyter-widgets/base",
      "model_module_version": "1.2.0",
      "model_name": "LayoutModel",
      "state": {}
     },
     "238dd52d41fd42ba8fc8d39b45ea27f2": {
      "model_module": "@jupyter-widgets/controls",
      "model_module_version": "1.5.0",
      "model_name": "DropdownModel",
      "state": {
       "_options_labels": [
        "Integer",
        "Float",
        "Bool"
       ],
       "index": 0,
       "layout": "IPY_MODEL_427e64e328734c2ea2a19855b06e1544",
       "style": "IPY_MODEL_59df3630aa8946ea91c52b602ac78c54"
      }
     },
     "23b2d84440ff41cdb3f1251c2c430172": {
      "model_module": "@jupyter-widgets/base",
      "model_module_version": "1.2.0",
      "model_name": "LayoutModel",
      "state": {}
     },
     "23b71bd3d43a46858d0d86b6e18210b8": {
      "model_module": "@jupyter-widgets/controls",
      "model_module_version": "1.5.0",
      "model_name": "FloatSliderModel",
      "state": {
       "continuous_update": false,
       "description": "transparency",
       "layout": "IPY_MODEL_25b516f199484db586951c2701376b7e",
       "max": 1,
       "step": 0.1,
       "style": "IPY_MODEL_227e62b2d511415dbb0e7c79cc99f8ca"
      }
     },
     "240b06896b1447a29608ee2c0041a5bc": {
      "model_module": "@jupyter-widgets/controls",
      "model_module_version": "1.5.0",
      "model_name": "IntSliderModel",
      "state": {
       "description": "value",
       "layout": "IPY_MODEL_e8499e7bab6246a0ad0a4f30d14ddbb3",
       "max": 10,
       "min": 1,
       "style": "IPY_MODEL_165abbc949ef4da0be3399b1aa01ad1f",
       "value": 3
      }
     },
     "243831084f114d97bd1e5d3e35197ff6": {
      "model_module": "@jupyter-widgets/controls",
      "model_module_version": "1.5.0",
      "model_name": "BoundedIntTextModel",
      "state": {
       "description": "index",
       "layout": "IPY_MODEL_178a6cb4a45b40af811fc096f2974764",
       "style": "IPY_MODEL_801c9757e2284ae99ecc9a5a8bffc9da",
       "value": 1
      }
     },
     "244a6d6ecfca4f0f98bc8b06b8f66d0f": {
      "model_module": "@jupyter-widgets/base",
      "model_module_version": "1.2.0",
      "model_name": "LayoutModel",
      "state": {}
     },
     "24700b060af14c8981e7fbfedeade0f8": {
      "model_module": "@jupyter-widgets/base",
      "model_module_version": "1.2.0",
      "model_name": "LayoutModel",
      "state": {
       "margin": "20px 0px"
      }
     },
     "24758aaf99ef4e2d83b824c7757e578a": {
      "model_module": "@jupyter-widgets/controls",
      "model_module_version": "1.5.0",
      "model_name": "ButtonStyleModel",
      "state": {}
     },
     "24d9e6cddd2d4972974ebbd3a1c6bd3e": {
      "model_module": "@jupyter-widgets/controls",
      "model_module_version": "1.5.0",
      "model_name": "DescriptionStyleModel",
      "state": {
       "description_width": ""
      }
     },
     "24ef567daf684583a1b9719c63a29065": {
      "model_module": "@jupyter-widgets/controls",
      "model_module_version": "1.5.0",
      "model_name": "TextModel",
      "state": {
       "continuous_update": false,
       "description": "name",
       "layout": "IPY_MODEL_c8bd3e3f13474b0baac9eb113f5ce252",
       "style": "IPY_MODEL_9b2cf354612745219cec51fc673564b0",
       "value": "leaf_old"
      }
     },
     "25319b4a1c0d492ea4c44baed1f845f1": {
      "model_module": "@jupyter-widgets/base",
      "model_module_version": "1.2.0",
      "model_name": "LayoutModel",
      "state": {}
     },
     "25389c05c9a74d9a98ad640a1da0dc90": {
      "model_module": "@jupyter-widgets/controls",
      "model_module_version": "1.5.0",
      "model_name": "SliderStyleModel",
      "state": {
       "description_width": ""
      }
     },
     "255b3c439597483f80ed865cd04cc345": {
      "model_module": "@jupyter-widgets/base",
      "model_module_version": "1.2.0",
      "model_name": "LayoutModel",
      "state": {}
     },
     "255de9b06ec0472aaa589e58b2badd2d": {
      "model_module": "@jupyter-widgets/base",
      "model_module_version": "1.2.0",
      "model_name": "LayoutModel",
      "state": {}
     },
     "256f56f78e9543718e49f07029f8099c": {
      "model_module": "@jupyter-widgets/base",
      "model_module_version": "1.2.0",
      "model_name": "LayoutModel",
      "state": {}
     },
     "259e1b89f75240de83d19dcd3b59bf86": {
      "model_module": "@jupyter-widgets/controls",
      "model_module_version": "1.5.0",
      "model_name": "DescriptionStyleModel",
      "state": {
       "description_width": ""
      }
     },
     "25b516f199484db586951c2701376b7e": {
      "model_module": "@jupyter-widgets/base",
      "model_module_version": "1.2.0",
      "model_name": "LayoutModel",
      "state": {}
     },
     "25c2402de33e45e390315509afa77feb": {
      "model_module": "@jupyter-widgets/base",
      "model_module_version": "1.2.0",
      "model_name": "LayoutModel",
      "state": {}
     },
     "25d0de7e5f6b4377b1b18a37159afc24": {
      "model_module": "@jupyter-widgets/base",
      "model_module_version": "1.2.0",
      "model_name": "LayoutModel",
      "state": {}
     },
     "25d30d60259b4572b8731631d759ac9a": {
      "model_module": "@jupyter-widgets/base",
      "model_module_version": "1.2.0",
      "model_name": "LayoutModel",
      "state": {}
     },
     "262f578dc1b641d1a439f9d7bdb2b833": {
      "model_module": "@jupyter-widgets/controls",
      "model_module_version": "1.5.0",
      "model_name": "ButtonStyleModel",
      "state": {}
     },
     "266957bdee4c488d96db5cfceab4b072": {
      "model_module": "@jupyter-widgets/base",
      "model_module_version": "1.2.0",
      "model_name": "LayoutModel",
      "state": {}
     },
     "269d4a9ce92344b6b1ca56cee70b6700": {
      "model_module": "@jupyter-widgets/controls",
      "model_module_version": "1.5.0",
      "model_name": "DescriptionStyleModel",
      "state": {
       "description_width": ""
      }
     },
     "26b2b92b694649c3b974782805831251": {
      "model_module": "pgljupyter",
      "model_module_version": "^0.1.16",
      "model_name": "IntEditorModel",
      "state": {
       "_model_module_version": "^0.1.16",
       "_view_module_version": "^0.1.16",
       "children": [
        "IPY_MODEL_8e6019a49d114761a746e659cc1c48f2",
        "IPY_MODEL_5bfb433518c246f4a7cd7249ff19b64e",
        "IPY_MODEL_eac0f378daf14e768b562dc92a52bd46",
        "IPY_MODEL_aadcd785ecac49dd89e89b98cd11a5bc",
        "IPY_MODEL_71bb87308f7f413585405d1a1df6ad8f"
       ],
       "layout": "IPY_MODEL_a85f651d3d144554a4c5e5260dc4c9c3"
      }
     },
     "26b6ef9844df45fa90eceb06b5d3540f": {
      "model_module": "@jupyter-widgets/controls",
      "model_module_version": "1.5.0",
      "model_name": "DescriptionStyleModel",
      "state": {
       "description_width": ""
      }
     },
     "26b81cebc41f40ae83461cad70dcfba8": {
      "model_module": "@jupyter-widgets/controls",
      "model_module_version": "1.5.0",
      "model_name": "ButtonStyleModel",
      "state": {}
     },
     "26dd1eed428440a1bb6365baf44e75c4": {
      "model_module": "@jupyter-widgets/controls",
      "model_module_version": "1.5.0",
      "model_name": "BoundedIntTextModel",
      "state": {
       "description": "index",
       "layout": "IPY_MODEL_3bc727a4c5e842eba687117ad175a2bc",
       "style": "IPY_MODEL_d40cd5784b9640ce86140f6d8eb19ad7",
       "value": 2
      }
     },
     "26f268ff43434d3f8fd6c6ac3775b9a3": {
      "model_module": "@jupyter-widgets/controls",
      "model_module_version": "1.5.0",
      "model_name": "FloatSliderModel",
      "state": {
       "description": "transparency",
       "layout": "IPY_MODEL_e4b212a605144a07b42605253ab3a016",
       "max": 1,
       "step": 0.1,
       "style": "IPY_MODEL_4c81abb4c66846b5a198148d5fde3afe"
      }
     },
     "2709472ca87f4725b5c5062de9bf1341": {
      "model_module": "@jupyter-widgets/base",
      "model_module_version": "1.2.0",
      "model_name": "LayoutModel",
      "state": {}
     },
     "2718cbd168e24762a6996c846ee444dd": {
      "model_module": "@jupyter-widgets/controls",
      "model_module_version": "1.5.0",
      "model_name": "VBoxModel",
      "state": {
       "children": [
        "IPY_MODEL_129b9808260140be91fe527eb514555e",
        "IPY_MODEL_885caec9d1dd43c096b9a173555e99ba",
        "IPY_MODEL_e801703ebaf5452e9d7d9e5fc1f6b6d2",
        "IPY_MODEL_a6ba6d086bb947a9a81c7c00b649099a",
        "IPY_MODEL_e15fba46cf5946eeb499bb44c328da38"
       ],
       "layout": "IPY_MODEL_2770585a31af4e729bfb171d1f970cd6"
      }
     },
     "2718d36a76b14abe8337699015ee06ad": {
      "model_module": "@jupyter-widgets/controls",
      "model_module_version": "1.5.0",
      "model_name": "ButtonStyleModel",
      "state": {}
     },
     "2719d1e459504afd8a880d0568a15e88": {
      "model_module": "@jupyter-widgets/controls",
      "model_module_version": "1.5.0",
      "model_name": "IntSliderModel",
      "state": {
       "description": "value",
       "layout": "IPY_MODEL_b238a4f955c2461f89027d080a34f27a",
       "max": 10,
       "min": 1,
       "style": "IPY_MODEL_f2a5aa5ff05a4e369a4aa1886f23f400",
       "value": 2
      }
     },
     "27341d701b39454692c62d6ea10319c8": {
      "model_module": "@jupyter-widgets/controls",
      "model_module_version": "1.5.0",
      "model_name": "DescriptionStyleModel",
      "state": {
       "description_width": ""
      }
     },
     "273d55f5f31d4648966c52a36a8bc18e": {
      "model_module": "pgljupyter",
      "model_module_version": "^0.1.21",
      "model_name": "MaterialEditorModel",
      "state": {
       "_model_module_version": "^0.1.21",
       "_view_module_version": "^0.1.21",
       "children": [
        "IPY_MODEL_208de69f01e844309a09e7a6c6150e42",
        "IPY_MODEL_9bc9c3338eea4c8c86654a7b2ab4b2be",
        "IPY_MODEL_5fd9a8d12c4d45588031973ef01650c0",
        "IPY_MODEL_92d4898f94824292b0826fcacbbe587f",
        "IPY_MODEL_62fff4b10d2c498fa7de85b618a36351",
        "IPY_MODEL_4e7c5a348d354d778c2e8fac651d24ae",
        "IPY_MODEL_26f268ff43434d3f8fd6c6ac3775b9a3",
        "IPY_MODEL_d24455fb0aa04c15978bcf82f484ec0d"
       ],
       "layout": "IPY_MODEL_7c3d32abecd84c22aa8e83abca17afd6"
      }
     },
     "2748b3bc98584be89e557777f606f30e": {
      "model_module": "@jupyter-widgets/base",
      "model_module_version": "1.2.0",
      "model_name": "LayoutModel",
      "state": {}
     },
     "2770585a31af4e729bfb171d1f970cd6": {
      "model_module": "@jupyter-widgets/base",
      "model_module_version": "1.2.0",
      "model_name": "LayoutModel",
      "state": {}
     },
     "27c99d487aef426398bafe8dc27b8491": {
      "model_module": "@jupyter-widgets/base",
      "model_module_version": "1.2.0",
      "model_name": "LayoutModel",
      "state": {}
     },
     "27f197b4f13d478283479e8a52271d78": {
      "model_module": "@jupyter-widgets/controls",
      "model_module_version": "1.5.0",
      "model_name": "ButtonModel",
      "state": {
       "description": "Save changes",
       "layout": "IPY_MODEL_f826609262fd40cb852fc2f4bd691b74",
       "style": "IPY_MODEL_dfccc42a1e8f4f4abdf4c85dd83fbdf3"
      }
     },
     "27fe3c9c89974787b0edc4789c341ca9": {
      "model_module": "@jupyter-widgets/controls",
      "model_module_version": "1.5.0",
      "model_name": "HBoxModel",
      "state": {
       "children": [
        "IPY_MODEL_2c3d5b9c67304c348b4eb5bcf90e2211",
        "IPY_MODEL_b5f4711335994c13acf965c77d3f280c"
       ],
       "layout": "IPY_MODEL_8b9a41a0b095405186d1eec77ac0c839"
      }
     },
     "280f5706c53c48bd96c1f0c3b5a82955": {
      "model_module": "@jupyter-widgets/controls",
      "model_module_version": "1.5.0",
      "model_name": "ColorPickerModel",
      "state": {
       "description": "specular",
       "disabled": false,
       "layout": "IPY_MODEL_47c2ee699e6a4f7c83103495961650b0",
       "style": "IPY_MODEL_b618285ed5684282bcdc1d912a0170cc",
       "value": "#282828"
      }
     },
     "283766ded61e469895271b99cd20aee7": {
      "model_module": "@jupyter-widgets/controls",
      "model_module_version": "1.5.0",
      "model_name": "IntSliderModel",
      "state": {
       "description": "value",
       "layout": "IPY_MODEL_858878c7e61544b790ca64ba3754be3a",
       "max": 10,
       "min": 1,
       "style": "IPY_MODEL_1c6b5e326e8d49b2a591f19e3efcbb8c",
       "value": 3
      }
     },
     "28501e07ca81424ba924d3f88696843a": {
      "model_module": "@jupyter-widgets/controls",
      "model_module_version": "1.5.0",
      "model_name": "ButtonStyleModel",
      "state": {}
     },
     "286459ac772e4d45a1cdf2d3de2f2641": {
      "model_module": "@jupyter-widgets/controls",
      "model_module_version": "1.5.0",
      "model_name": "HBoxModel",
      "state": {
       "children": [
        "IPY_MODEL_7fa3fc5095444041b8bf59eb82ee0f1b",
        "IPY_MODEL_c670633e3aa5429fb74ad03495d1835c"
       ],
       "layout": "IPY_MODEL_78dff3c9b0ab4092885a4681b708b9c4"
      }
     },
     "28691dd4baba4a50be1bed6f5dc13469": {
      "model_module": "@jupyter-widgets/controls",
      "model_module_version": "1.5.0",
      "model_name": "DropdownModel",
      "state": {
       "_options_labels": [
        "maxorder",
        "radinc",
        "nb_axes"
       ],
       "index": 0,
       "layout": "IPY_MODEL_3e88ff73b7174894a74048caac61d6dd",
       "style": "IPY_MODEL_e635d4b4c4cd44f2a336ab38518f4c9b"
      }
     },
     "28941cfcc3894fe3a6bb53b671b1fbf1": {
      "model_module": "@jupyter-widgets/controls",
      "model_module_version": "1.5.0",
      "model_name": "DescriptionStyleModel",
      "state": {
       "description_width": ""
      }
     },
     "289af199b7494ce2935204247e9a8c74": {
      "model_module": "@jupyter-widgets/base",
      "model_module_version": "1.2.0",
      "model_name": "LayoutModel",
      "state": {}
     },
     "28ac8517ff6543888b7ae35a5a88a964": {
      "model_module": "@jupyter-widgets/base",
      "model_module_version": "1.2.0",
      "model_name": "LayoutModel",
      "state": {}
     },
     "28dbfeb66b4146699787fc4516f4869c": {
      "model_module": "@jupyter-widgets/base",
      "model_module_version": "1.2.0",
      "model_name": "LayoutModel",
      "state": {}
     },
     "29064321623c4d5898f0497a0e6f1a9b": {
      "model_module": "@jupyter-widgets/controls",
      "model_module_version": "1.5.0",
      "model_name": "TextModel",
      "state": {
       "continuous_update": false,
       "description": "name",
       "layout": "IPY_MODEL_a9df16e35c5f405d9c104c38009649b4",
       "style": "IPY_MODEL_2f3becaa6f924668b1467b326723563f",
       "value": "nb_axes"
      }
     },
     "2924304826be4bcbbec3dd2b0c517649": {
      "model_module": "@jupyter-widgets/base",
      "model_module_version": "1.2.0",
      "model_name": "LayoutModel",
      "state": {}
     },
     "29963b5130614ef58373b07536e44942": {
      "model_module": "@jupyter-widgets/base",
      "model_module_version": "1.2.0",
      "model_name": "LayoutModel",
      "state": {}
     },
     "29ada92f78534b5a8245a40f76bd758a": {
      "model_module": "@jupyter-widgets/base",
      "model_module_version": "1.2.0",
      "model_name": "LayoutModel",
      "state": {}
     },
     "29c4bd8332b8480e91c8c5587019d711": {
      "model_module": "@jupyter-widgets/base",
      "model_module_version": "1.2.0",
      "model_name": "LayoutModel",
      "state": {}
     },
     "29cb9888dbcc4dc9bc915fc90fd8998a": {
      "model_module": "@jupyter-widgets/base",
      "model_module_version": "1.2.0",
      "model_name": "LayoutModel",
      "state": {}
     },
     "29cf0466a11e48fc973f7029133b4c1c": {
      "model_module": "@jupyter-widgets/base",
      "model_module_version": "1.2.0",
      "model_name": "LayoutModel",
      "state": {}
     },
     "29f083c6202b4e71911388db0eb926e4": {
      "model_module": "@jupyter-widgets/controls",
      "model_module_version": "1.5.0",
      "model_name": "FloatSliderModel",
      "state": {
       "description": "diffuse",
       "layout": "IPY_MODEL_1a901903106b4de5881749108bd6c41d",
       "max": 3,
       "step": 0.1,
       "style": "IPY_MODEL_e2de1706c64a496781bb68ab5f7e1f36",
       "value": 1
      }
     },
     "2a3d358efbf34acb9c7a60be2b6f23ae": {
      "model_module": "@jupyter-widgets/controls",
      "model_module_version": "1.5.0",
      "model_name": "DescriptionStyleModel",
      "state": {
       "description_width": ""
      }
     },
     "2a4657dcf6134dbf9171718197e5e80f": {
      "model_module": "@jupyter-widgets/base",
      "model_module_version": "1.2.0",
      "model_name": "LayoutModel",
      "state": {}
     },
     "2a605d1454bf4acca4cac90df2e78bf1": {
      "model_module": "@jupyter-widgets/controls",
      "model_module_version": "1.5.0",
      "model_name": "ButtonStyleModel",
      "state": {}
     },
     "2aa3ae383fe546ccba78dde66139f07e": {
      "model_module": "@jupyter-widgets/controls",
      "model_module_version": "1.5.0",
      "model_name": "HBoxModel",
      "state": {
       "children": [
        "IPY_MODEL_baf1a60a7c1b4d32906c8ce7421ac654",
        "IPY_MODEL_8b39ce9f414948e2acb5c8cfdcf3d6a8"
       ],
       "layout": "IPY_MODEL_48081768731e4a308ef6582f5108536e"
      }
     },
     "2b06ff77988044cbbe92812f8d420a23": {
      "model_module": "@jupyter-widgets/base",
      "model_module_version": "1.2.0",
      "model_name": "LayoutModel",
      "state": {
       "margin": "20px 0px"
      }
     },
     "2b0ed78f41644859a87787f1255e1b81": {
      "model_module": "@jupyter-widgets/controls",
      "model_module_version": "1.5.0",
      "model_name": "DescriptionStyleModel",
      "state": {
       "description_width": ""
      }
     },
     "2b2537aec03a486682b37fa201430b15": {
      "model_module": "@jupyter-widgets/controls",
      "model_module_version": "1.5.0",
      "model_name": "DescriptionStyleModel",
      "state": {
       "description_width": ""
      }
     },
     "2b3aa6ff79cb4ab0a903470dc0cbc38c": {
      "model_module": "@jupyter-widgets/controls",
      "model_module_version": "1.5.0",
      "model_name": "ButtonModel",
      "state": {
       "description": "Add",
       "layout": "IPY_MODEL_5a36ed8d8d52493a85069ee7e9740581",
       "style": "IPY_MODEL_ca7aee704c7f4c709cbfb43965044d9e"
      }
     },
     "2b6bcb5538be448e892da6df8ef5fc7b": {
      "model_module": "@jupyter-widgets/base",
      "model_module_version": "1.2.0",
      "model_name": "LayoutModel",
      "state": {}
     },
     "2b91b62c30f74a2d80349a21cd49380b": {
      "model_module": "@jupyter-widgets/controls",
      "model_module_version": "1.5.0",
      "model_name": "HBoxModel",
      "state": {
       "children": [
        "IPY_MODEL_9334138484854b40a86080f1b61c3cbf",
        "IPY_MODEL_2ebfcf29b8b347bcbb892e15552a4724"
       ],
       "layout": "IPY_MODEL_37ab0aab470c48e49c20c495f371e4d0"
      }
     },
     "2ba15c3936ee4dd3a35e1ac8b8710c9d": {
      "model_module": "@jupyter-widgets/controls",
      "model_module_version": "1.5.0",
      "model_name": "FloatSliderModel",
      "state": {
       "description": "shininess",
       "layout": "IPY_MODEL_6568a84592d945ddaf5e6c0dc6c917c1",
       "max": 1,
       "step": 0.1,
       "style": "IPY_MODEL_c076c7f8110443d8b16ad88e24d4c9c2",
       "value": 0.2
      }
     },
     "2bc76f78cd2740a6bbf7d58fd5b203a9": {
      "model_module": "@jupyter-widgets/controls",
      "model_module_version": "1.5.0",
      "model_name": "BoundedIntTextModel",
      "state": {
       "description": "index",
       "layout": "IPY_MODEL_0263367b3ff344bcaffd73258d997ec2",
       "style": "IPY_MODEL_20f26d89736d43d19f678d93232feee7",
       "value": 1
      }
     },
     "2bc9612a3671413583aacf103d7434c3": {
      "model_module": "@jupyter-widgets/controls",
      "model_module_version": "1.5.0",
      "model_name": "HBoxModel",
      "state": {
       "children": [
        "IPY_MODEL_eb9c25defb924bd4a139c44c404e7001",
        "IPY_MODEL_81cddc7ae49e4648a2c274c8e34674fa"
       ],
       "layout": "IPY_MODEL_4b4fb8f835ff4f25801bdcf57fb1eba4"
      }
     },
     "2bf17ef5037e47f2a920e8d7811f8932": {
      "model_module": "@jupyter-widgets/base",
      "model_module_version": "1.2.0",
      "model_name": "LayoutModel",
      "state": {}
     },
     "2c07ac220de942ccb12377bf94366b14": {
      "model_module": "@jupyter-widgets/controls",
      "model_module_version": "1.5.0",
      "model_name": "ColorPickerModel",
      "state": {
       "description": "specular",
       "disabled": false,
       "layout": "IPY_MODEL_0fbf4f04c7844825967a392870b05c3c",
       "style": "IPY_MODEL_674ce701a99c4dd290082ac0ca4a9bf8",
       "value": "#282828"
      }
     },
     "2c2396952b064b95b30ec4636f7a5104": {
      "model_module": "@jupyter-widgets/base",
      "model_module_version": "1.2.0",
      "model_name": "LayoutModel",
      "state": {}
     },
     "2c3d5b9c67304c348b4eb5bcf90e2211": {
      "model_module": "pgljupyter",
      "model_module_version": "^0.2.0",
      "model_name": "IntEditorModel",
      "state": {
       "_model_module_version": "^0.2.0",
       "_view_module_version": "^0.2.0",
       "children": [
        "IPY_MODEL_f68ee7a1ff1f4c219cab354f0604eedb",
        "IPY_MODEL_400f8b7ad23543b7ae90c9244d04af9e"
       ],
       "layout": "IPY_MODEL_f63891c4f64f4653a78aca23c81afe25"
      }
     },
     "2c4a0f6f749e428e81918dc2b18b6073": {
      "model_module": "@jupyter-widgets/base",
      "model_module_version": "1.2.0",
      "model_name": "LayoutModel",
      "state": {}
     },
     "2c4f8c87f0eb4c48a1315f8f85b34133": {
      "model_module": "@jupyter-widgets/controls",
      "model_module_version": "1.5.0",
      "model_name": "IntSliderModel",
      "state": {
       "description": "value",
       "layout": "IPY_MODEL_90b38a086b7a4c3dacb0a705e9da7c93",
       "max": 10,
       "min": 1,
       "style": "IPY_MODEL_d57e2be537e04b77bd713ec999a5c5a4",
       "value": 5
      }
     },
     "2c72ff2950854494b63f8872eabd3dac": {
      "model_module": "@jupyter-widgets/base",
      "model_module_version": "1.2.0",
      "model_name": "LayoutModel",
      "state": {}
     },
     "2c7e43047da344c297659bb5c7099369": {
      "model_module": "@jupyter-widgets/controls",
      "model_module_version": "1.5.0",
      "model_name": "HBoxModel",
      "state": {
       "children": [
        "IPY_MODEL_50df7fad8d974b4992fd0cea68bec79c",
        "IPY_MODEL_95e1beb5a96b4e808db8fc25b38b38b1"
       ],
       "layout": "IPY_MODEL_1252932a3a30469f9a39f40e32962dd6"
      }
     },
     "2ca34fe9924a49fc83bddc7127569de5": {
      "model_module": "@jupyter-widgets/controls",
      "model_module_version": "1.5.0",
      "model_name": "FloatSliderModel",
      "state": {
       "description": "transparency",
       "layout": "IPY_MODEL_7ca3a8c138b64f70941125a4b01033f9",
       "max": 1,
       "step": 0.1,
       "style": "IPY_MODEL_e812837d2b0f440e9038a8b882215c27"
      }
     },
     "2cabd356816143a89ce79e41bd309ed4": {
      "model_module": "@jupyter-widgets/controls",
      "model_module_version": "1.5.0",
      "model_name": "HBoxModel",
      "state": {
       "children": [
        "IPY_MODEL_665a21b5b0a24ed98abe27fb4169edb8",
        "IPY_MODEL_e9c513a4f98a4afd87ad87a4ddd1d942"
       ],
       "layout": "IPY_MODEL_a0afcc87243542eeaf16398cb75a5821"
      }
     },
     "2cbe2b9f20a14b2c9ff7c42cc96e34c6": {
      "model_module": "@jupyter-widgets/controls",
      "model_module_version": "1.5.0",
      "model_name": "ColorPickerModel",
      "state": {
       "description": "emission",
       "disabled": false,
       "layout": "IPY_MODEL_0499384873a04178a41a7a611d6d08dc",
       "style": "IPY_MODEL_c120885553c04d129fd38676ed6234d2",
       "value": "#000000"
      }
     },
     "2cebf6544aeb43e5867b20b905a27538": {
      "model_module": "@jupyter-widgets/controls",
      "model_module_version": "1.5.0",
      "model_name": "ButtonModel",
      "state": {
       "description": "Add",
       "layout": "IPY_MODEL_52ed086a39d24a57919b206846df9aba",
       "style": "IPY_MODEL_f3a5d74515114615b5d451bc8e5d23f5"
      }
     },
     "2cf86b3c818d4ae9854cb7c3aba3e9e5": {
      "model_module": "@jupyter-widgets/base",
      "model_module_version": "1.2.0",
      "model_name": "LayoutModel",
      "state": {}
     },
     "2d0c3904e1ae45eaa6ffc4291f335b1f": {
      "model_module": "@jupyter-widgets/controls",
      "model_module_version": "1.5.0",
      "model_name": "ButtonStyleModel",
      "state": {}
     },
     "2d215d5802a64161ad4658212812c5f3": {
      "model_module": "@jupyter-widgets/controls",
      "model_module_version": "1.5.0",
      "model_name": "HBoxModel",
      "state": {
       "children": [
        "IPY_MODEL_88f44b81f9624f8db9eb6600e3fb96e4"
       ],
       "layout": "IPY_MODEL_4d77f69f74244057baec36b232f87f78"
      }
     },
     "2d488102b5284d38b5c87aa63c4159cf": {
      "model_module": "@jupyter-widgets/controls",
      "model_module_version": "1.5.0",
      "model_name": "FloatSliderModel",
      "state": {
       "description": "transparency",
       "layout": "IPY_MODEL_18f2aa4406d94deaab24b3b2e2829509",
       "max": 1,
       "step": 0.1,
       "style": "IPY_MODEL_ba5e485f797f45a793e7c0053d26227b"
      }
     },
     "2d5a147118f043b0bedacc46a82c83fb": {
      "model_module": "@jupyter-widgets/controls",
      "model_module_version": "1.5.0",
      "model_name": "SliderStyleModel",
      "state": {
       "description_width": ""
      }
     },
     "2d633741e82e4a00811c61de610e3b6b": {
      "model_module": "@jupyter-widgets/controls",
      "model_module_version": "1.5.0",
      "model_name": "DescriptionStyleModel",
      "state": {
       "description_width": ""
      }
     },
     "2d7812945748435ea206c4b8b1341c7c": {
      "model_module": "pgljupyter",
      "model_module_version": "^0.1.19",
      "model_name": "MaterialEditorModel",
      "state": {
       "_model_module_version": "^0.1.19",
       "_view_module_version": "^0.1.19",
       "children": [
        "IPY_MODEL_e9e462dbc66b4f12b3954106b87e846a",
        "IPY_MODEL_9d85129303a24583bb579ed66f0f17c6",
        "IPY_MODEL_4afd330d8b794b27b31b952402605af2",
        "IPY_MODEL_1a30bd6297ea496caffb74eca89f7301",
        "IPY_MODEL_55fd0718c41b435db5caa06ebb66c4d3",
        "IPY_MODEL_3823b97d96004b689f2595044278fc3f",
        "IPY_MODEL_2ca34fe9924a49fc83bddc7127569de5",
        "IPY_MODEL_7ec9db9a54454f7cb858727c3b9c3b2c"
       ],
       "layout": "IPY_MODEL_13ba8e749f2441f7b7dfcbe5210b62c8"
      }
     },
     "2d9fad0b565a4646b1f726689ed625fc": {
      "model_module": "@jupyter-widgets/controls",
      "model_module_version": "1.5.0",
      "model_name": "ButtonStyleModel",
      "state": {}
     },
     "2da2625474d444a4a745acca04a53c1f": {
      "model_module": "@jupyter-widgets/controls",
      "model_module_version": "1.5.0",
      "model_name": "FloatSliderModel",
      "state": {
       "description": "shininess",
       "layout": "IPY_MODEL_694aa30345644ad9836c04cf3497349c",
       "max": 1,
       "step": 0.1,
       "style": "IPY_MODEL_eb38eb2960ba4c56b249425bdddbb378",
       "value": 0.2
      }
     },
     "2db2f596971f45688e65a9abdd337586": {
      "model_module": "@jupyter-widgets/controls",
      "model_module_version": "1.5.0",
      "model_name": "IntSliderModel",
      "state": {
       "description": "value",
       "layout": "IPY_MODEL_720602bd96314ddbb7e19314e2bb1ac7",
       "max": 7,
       "min": 1,
       "style": "IPY_MODEL_10203e2cc2ca454cbb746ee2e79b4d81",
       "value": 3
      }
     },
     "2db8651a2bd342e7b9af50736d9bfac4": {
      "model_module": "@jupyter-widgets/controls",
      "model_module_version": "1.5.0",
      "model_name": "DescriptionStyleModel",
      "state": {
       "description_width": ""
      }
     },
     "2ddb53f89ba24d29879e06aa20312c33": {
      "model_module": "@jupyter-widgets/controls",
      "model_module_version": "1.5.0",
      "model_name": "VBoxModel",
      "state": {
       "children": [
        "IPY_MODEL_76a7891c95b448d2af9b34121cc3d931",
        "IPY_MODEL_6ae70c48f5bb42129c7504bfebdb6214",
        "IPY_MODEL_5f98c0fc4bc74bb18355255bc02aa93c",
        "IPY_MODEL_07fb05e1465a436cb2c1b6e04d7bcaca",
        "IPY_MODEL_754eef940be14d05ae2afa1c1b3f2e0d"
       ],
       "layout": "IPY_MODEL_415d5dcf24dc4e0f9ab09bc6e94846fa"
      }
     },
     "2de7c371544e409a8f3f128430eeced9": {
      "model_module": "@jupyter-widgets/base",
      "model_module_version": "1.2.0",
      "model_name": "LayoutModel",
      "state": {}
     },
     "2e21adf4c8bb4fac95416edb37f93844": {
      "model_module": "@jupyter-widgets/controls",
      "model_module_version": "1.5.0",
      "model_name": "ColorPickerModel",
      "state": {
       "description": "emission",
       "disabled": false,
       "layout": "IPY_MODEL_09b9272d2fe1478a8549297784bc14dc",
       "style": "IPY_MODEL_dde1071f08f442b987043d10dc31e5dd",
       "value": "#000000"
      }
     },
     "2e291dc0a02b4b878cc21b93ac478bfd": {
      "model_module": "@jupyter-widgets/base",
      "model_module_version": "1.2.0",
      "model_name": "LayoutModel",
      "state": {}
     },
     "2e48c81795b64dcba33d064847595389": {
      "model_module": "@jupyter-widgets/base",
      "model_module_version": "1.2.0",
      "model_name": "LayoutModel",
      "state": {}
     },
     "2e4a8e24f3cb480f948147e7187812ba": {
      "model_module": "@jupyter-widgets/base",
      "model_module_version": "1.2.0",
      "model_name": "LayoutModel",
      "state": {}
     },
     "2e66c83f178e446bb6cf343405d98cf0": {
      "model_module": "@jupyter-widgets/controls",
      "model_module_version": "1.5.0",
      "model_name": "DescriptionStyleModel",
      "state": {
       "description_width": ""
      }
     },
     "2e7935d872574becb340ab330a27a50f": {
      "model_module": "@jupyter-widgets/controls",
      "model_module_version": "1.5.0",
      "model_name": "DescriptionStyleModel",
      "state": {
       "description_width": ""
      }
     },
     "2e83ffb67736453ba28acc20275e238f": {
      "model_module": "@jupyter-widgets/base",
      "model_module_version": "1.2.0",
      "model_name": "LayoutModel",
      "state": {}
     },
     "2e9b3567dc074850a4457cea55ff8a2b": {
      "model_module": "@jupyter-widgets/controls",
      "model_module_version": "1.5.0",
      "model_name": "HBoxModel",
      "state": {
       "children": [
        "IPY_MODEL_cd7bfb5080ac406ca64676e932e517e1",
        "IPY_MODEL_48dad82cb0874a77af8613d9cc02e5b8"
       ],
       "layout": "IPY_MODEL_69c450ec1a01424db338088654b05a79"
      }
     },
     "2ebfcf29b8b347bcbb892e15552a4724": {
      "model_module": "@jupyter-widgets/controls",
      "model_module_version": "1.5.0",
      "model_name": "DropdownModel",
      "state": {
       "_options_labels": [
        "Integer",
        "Float",
        "Bool"
       ],
       "index": 0,
       "layout": "IPY_MODEL_530074057fcd4130a243bde3a073669b",
       "style": "IPY_MODEL_e248c6cad0a7477090a5f66a3ae950b9"
      }
     },
     "2ed237c444f041958ac480d559718a9b": {
      "model_module": "@jupyter-widgets/controls",
      "model_module_version": "1.5.0",
      "model_name": "TextModel",
      "state": {
       "continuous_update": false,
       "description": "name",
       "layout": "IPY_MODEL_c32f6b4c4d3c4559935e3f52d16dc798",
       "style": "IPY_MODEL_8f87f71addf8423b8fb30f7dbf62cc02",
       "value": "leafduration"
      }
     },
     "2efed7a1fa88483699467354d3562b8e": {
      "model_module": "@jupyter-widgets/base",
      "model_module_version": "1.2.0",
      "model_name": "LayoutModel",
      "state": {}
     },
     "2f0afcc5db404c0c9baabdd8288c7f23": {
      "model_module": "@jupyter-widgets/controls",
      "model_module_version": "1.5.0",
      "model_name": "TabModel",
      "state": {
       "_titles": {
        "0": "leuwenberg.json"
       },
       "children": [
        "IPY_MODEL_73496737da0c4b479a2e43c89062fdf3"
       ],
       "layout": "IPY_MODEL_2f120020ca8d4391a2338862187e2aa9"
      }
     },
     "2f120020ca8d4391a2338862187e2aa9": {
      "model_module": "@jupyter-widgets/base",
      "model_module_version": "1.2.0",
      "model_name": "LayoutModel",
      "state": {}
     },
     "2f17b1525d00451c858cb41c69112c69": {
      "model_module": "@jupyter-widgets/controls",
      "model_module_version": "1.5.0",
      "model_name": "ButtonStyleModel",
      "state": {}
     },
     "2f2a18791e474473882476c2b545f886": {
      "model_module": "@jupyter-widgets/controls",
      "model_module_version": "1.5.0",
      "model_name": "BoundedIntTextModel",
      "state": {
       "description": "index",
       "layout": "IPY_MODEL_4ba98a3088f249428269655303174413",
       "style": "IPY_MODEL_604d1a618d0d48e8ba8e49ac54668dfb",
       "value": 4
      }
     },
     "2f3becaa6f924668b1467b326723563f": {
      "model_module": "@jupyter-widgets/controls",
      "model_module_version": "1.5.0",
      "model_name": "DescriptionStyleModel",
      "state": {
       "description_width": ""
      }
     },
     "2f44d75cf5a94a1f952b35bf8347abb8": {
      "model_module": "@jupyter-widgets/controls",
      "model_module_version": "1.5.0",
      "model_name": "TextModel",
      "state": {
       "continuous_update": false,
       "description": "name",
       "layout": "IPY_MODEL_436fd876208e40f2bed14a468634cd12",
       "style": "IPY_MODEL_34cde60d4db54699b827b7171ab0d6da",
       "value": "leafold"
      }
     },
     "2f62c1ab623c4435ae109ecf1f320711": {
      "model_module": "@jupyter-widgets/base",
      "model_module_version": "1.2.0",
      "model_name": "LayoutModel",
      "state": {}
     },
     "2f7990fb68574e08a097ad24e9646305": {
      "model_module": "@jupyter-widgets/controls",
      "model_module_version": "1.5.0",
      "model_name": "ButtonStyleModel",
      "state": {}
     },
     "2f7bae47a5d04c279483d29ce1fb515d": {
      "model_module": "@jupyter-widgets/controls",
      "model_module_version": "1.5.0",
      "model_name": "DescriptionStyleModel",
      "state": {
       "description_width": ""
      }
     },
     "2fa0e323165245eba4d3e15b8215c92f": {
      "model_module": "@jupyter-widgets/base",
      "model_module_version": "1.2.0",
      "model_name": "LayoutModel",
      "state": {}
     },
     "2fbe66108ef0435abf2f0ae7d1785c48": {
      "model_module": "@jupyter-widgets/controls",
      "model_module_version": "1.5.0",
      "model_name": "ButtonStyleModel",
      "state": {}
     },
     "3000a614557743cbb42abf392046434f": {
      "model_module": "@jupyter-widgets/base",
      "model_module_version": "1.2.0",
      "model_name": "LayoutModel",
      "state": {}
     },
     "300d90438a1445f4819171e16fa9d386": {
      "model_module": "@jupyter-widgets/controls",
      "model_module_version": "1.5.0",
      "model_name": "HBoxModel",
      "state": {
       "layout": "IPY_MODEL_6f5e6f5355bd440d8af5ee837dac75a9"
      }
     },
     "3018078f147c4a62b9d1295467e67bb7": {
      "model_module": "@jupyter-widgets/base",
      "model_module_version": "1.2.0",
      "model_name": "LayoutModel",
      "state": {}
     },
     "30356a9a3f9349bfad41280603e63f1b": {
      "model_module": "@jupyter-widgets/controls",
      "model_module_version": "1.5.0",
      "model_name": "FloatSliderModel",
      "state": {
       "description": "shininess",
       "layout": "IPY_MODEL_15ac7abd32994b22882527528e46a15c",
       "max": 1,
       "step": 0.1,
       "style": "IPY_MODEL_197cf1dcd4204da1b4aa7c6ddffd697e",
       "value": 0.2
      }
     },
     "3036709698c94d53ac94124615b9612e": {
      "model_module": "@jupyter-widgets/controls",
      "model_module_version": "1.5.0",
      "model_name": "VBoxModel",
      "state": {
       "children": [
        "IPY_MODEL_34e6f4f09b2d4c69b0edd0a18c352caf",
        "IPY_MODEL_6b64f44ea36c41a0bce14ae865b76233"
       ],
       "layout": "IPY_MODEL_82e2fd1b3d93436b87d96fe4772c750c"
      }
     },
     "3036777e7fe24a1599267429c31acd12": {
      "model_module": "@jupyter-widgets/controls",
      "model_module_version": "1.5.0",
      "model_name": "DescriptionStyleModel",
      "state": {
       "description_width": ""
      }
     },
     "30473609ffbf4e1781ef3e743132ea77": {
      "model_module": "@jupyter-widgets/controls",
      "model_module_version": "1.5.0",
      "model_name": "ColorPickerModel",
      "state": {
       "description": "specular",
       "disabled": false,
       "layout": "IPY_MODEL_d4ef39502216401ca3c2e7381d844b04",
       "style": "IPY_MODEL_38271c79a85044a1a2f372e45b7f3762",
       "value": "#282828"
      }
     },
     "304e2cc8f62a4765b62a59138286ab58": {
      "model_module": "@jupyter-widgets/controls",
      "model_module_version": "1.5.0",
      "model_name": "ColorPickerModel",
      "state": {
       "description": "emission",
       "disabled": false,
       "layout": "IPY_MODEL_bcf4fc941c344389979acd078603c0fc",
       "style": "IPY_MODEL_c9ee8ed99d854415b137aeef8b399bf7",
       "value": "#000000"
      }
     },
     "305673ca6b654c1c8dcdccefd7e9a70a": {
      "model_module": "@jupyter-widgets/base",
      "model_module_version": "1.2.0",
      "model_name": "LayoutModel",
      "state": {}
     },
     "30d04e67afa2429b8229a2e9aae7d544": {
      "model_module": "@jupyter-widgets/controls",
      "model_module_version": "1.5.0",
      "model_name": "ColorPickerModel",
      "state": {
       "description": "emission",
       "disabled": false,
       "layout": "IPY_MODEL_6dcf6d518b354f35a404160bd83b6ff7",
       "style": "IPY_MODEL_13f6cb3231334246af2b1e8b585d86fc",
       "value": "#000000"
      }
     },
     "30d8f21dda4646f0acb3611afa8c89a6": {
      "model_module": "@jupyter-widgets/controls",
      "model_module_version": "1.5.0",
      "model_name": "SliderStyleModel",
      "state": {
       "description_width": ""
      }
     },
     "30f8fe4f47224d6abe3cbbfae3e4ee75": {
      "model_module": "@jupyter-widgets/base",
      "model_module_version": "1.2.0",
      "model_name": "LayoutModel",
      "state": {}
     },
     "30fc1196fdfd42ed9a9f045bd8dae1e5": {
      "model_module": "@jupyter-widgets/controls",
      "model_module_version": "1.5.0",
      "model_name": "TextModel",
      "state": {
       "layout": "IPY_MODEL_25d0de7e5f6b4377b1b18a37159afc24",
       "placeholder": "category name",
       "style": "IPY_MODEL_cc658d72aeb9448c92ed6b2cedd5b4c2"
      }
     },
     "310624f7b16b4f028b5ca1be66aaddee": {
      "model_module": "@jupyter-widgets/controls",
      "model_module_version": "1.5.0",
      "model_name": "TextModel",
      "state": {
       "continuous_update": false,
       "description": "name",
       "layout": "IPY_MODEL_b8c7f3e772e0418984b752d8cabfe954",
       "style": "IPY_MODEL_dfbf3f0450ae43368952951aba7baba3",
       "value": "leafold"
      }
     },
     "3118b20c6b1b41b095139fadd7aa0f5e": {
      "model_module": "@jupyter-widgets/controls",
      "model_module_version": "1.5.0",
      "model_name": "HBoxModel",
      "state": {
       "children": [
        "IPY_MODEL_fd123b157eeb4540a7cc729aaa32ef3f",
        "IPY_MODEL_a2b015214e0846d9ac5d81a1bebac7b4"
       ],
       "layout": "IPY_MODEL_c668486775d54df3a202a26b6d1a94af"
      }
     },
     "311ce300b7c84bb79c37a6974f900649": {
      "model_module": "@jupyter-widgets/controls",
      "model_module_version": "1.5.0",
      "model_name": "ButtonModel",
      "state": {
       "description": "Delete",
       "layout": "IPY_MODEL_d007a3afb7ef4e6ab1691e067fa2adc5",
       "style": "IPY_MODEL_7878f40721f94603b8bcdf02db2a6f8c"
      }
     },
     "31516d112bb34f208b3e2ebaa6a85f0f": {
      "model_module": "@jupyter-widgets/controls",
      "model_module_version": "1.5.0",
      "model_name": "SliderStyleModel",
      "state": {
       "description_width": ""
      }
     },
     "3152de1fa1164856a37a0aa90a315025": {
      "model_module": "pgljupyter",
      "model_module_version": "^0.1.17",
      "model_name": "IntEditorModel",
      "state": {
       "_model_module_version": "^0.1.17",
       "_view_module_version": "^0.1.17",
       "children": [
        "IPY_MODEL_526eb050a3ef4576aa3195631f16da0b",
        "IPY_MODEL_4720179570ea4e868498362e539111b3"
       ],
       "layout": "IPY_MODEL_d3311825194e40848ec86c6df05ec71f"
      }
     },
     "316543aadacb4f0ca44a827843561364": {
      "model_module": "@jupyter-widgets/controls",
      "model_module_version": "1.5.0",
      "model_name": "DescriptionStyleModel",
      "state": {
       "description_width": ""
      }
     },
     "31732b3ef50740ba848f6bc135cf9542": {
      "model_module": "@jupyter-widgets/controls",
      "model_module_version": "1.5.0",
      "model_name": "HBoxModel",
      "state": {
       "children": [
        "IPY_MODEL_0d137c7adb8f46d4a424e69649dea26f",
        "IPY_MODEL_0c240000ec0a4039a85b00acba556d7e"
       ],
       "layout": "IPY_MODEL_5d592cc939754fea80d73face4c60e8f"
      }
     },
     "31747047bcce495c891518d32e015bdf": {
      "model_module": "@jupyter-widgets/controls",
      "model_module_version": "1.5.0",
      "model_name": "ColorPickerModel",
      "state": {
       "description": "emission",
       "disabled": false,
       "layout": "IPY_MODEL_40ca5fd3b43d4d15a3135eeef5886fc1",
       "style": "IPY_MODEL_184575d290844eb0802b2744b027c06f",
       "value": "#000000"
      }
     },
     "3178a3216d144ea499adf4148f81828a": {
      "model_module": "@jupyter-widgets/base",
      "model_module_version": "1.2.0",
      "model_name": "LayoutModel",
      "state": {}
     },
     "3195adc8fefb45378839f142bc7b7fdc": {
      "model_module": "@jupyter-widgets/base",
      "model_module_version": "1.2.0",
      "model_name": "LayoutModel",
      "state": {}
     },
     "31e5447b555c40528ae38c2d4c949f9f": {
      "model_module": "@jupyter-widgets/controls",
      "model_module_version": "1.5.0",
      "model_name": "ButtonStyleModel",
      "state": {}
     },
     "31f8f240a62d42c994ef77ad3eff9028": {
      "model_module": "@jupyter-widgets/controls",
      "model_module_version": "1.5.0",
      "model_name": "DescriptionStyleModel",
      "state": {
       "description_width": ""
      }
     },
     "31ff80b71d0e49b293026e52abfdb4bc": {
      "model_module": "@jupyter-widgets/controls",
      "model_module_version": "1.5.0",
      "model_name": "HBoxModel",
      "state": {
       "children": [
        "IPY_MODEL_98fe3261f12c4e249958290f37ba93d2",
        "IPY_MODEL_02a935317d5e4652b323d2ec7d9e44eb"
       ],
       "layout": "IPY_MODEL_20ab7410ec8c4e87a7028f3830335948"
      }
     },
     "3242767a029c4316a2ec4ab31704f3d8": {
      "model_module": "@jupyter-widgets/base",
      "model_module_version": "1.2.0",
      "model_name": "LayoutModel",
      "state": {}
     },
     "325f707370a740838e0eb29d03bfca53": {
      "model_module": "@jupyter-widgets/base",
      "model_module_version": "1.2.0",
      "model_name": "LayoutModel",
      "state": {
       "margin": "10px 10px"
      }
     },
     "32834c0308ce4413b19627f02762d646": {
      "model_module": "@jupyter-widgets/controls",
      "model_module_version": "1.5.0",
      "model_name": "IntSliderModel",
      "state": {
       "description": "value",
       "layout": "IPY_MODEL_c43e0238c1ef4e7c983ad07ad7529348",
       "max": 10,
       "min": 1,
       "style": "IPY_MODEL_86b075a727d1420b8b8e02e04c401dbf",
       "value": 3
      }
     },
     "32f9213597194d8bb44e46d1c99c84fb": {
      "model_module": "@jupyter-widgets/base",
      "model_module_version": "1.2.0",
      "model_name": "LayoutModel",
      "state": {}
     },
     "3324d05d1f6847678f57a1016eafaa0e": {
      "model_module": "@jupyter-widgets/controls",
      "model_module_version": "1.5.0",
      "model_name": "DescriptionStyleModel",
      "state": {
       "description_width": ""
      }
     },
     "33370c23f7f94edbae64929f7be4a58c": {
      "model_module": "@jupyter-widgets/base",
      "model_module_version": "1.2.0",
      "model_name": "LayoutModel",
      "state": {
       "margin": "20px 0px"
      }
     },
     "333c1c1af63143dfb66f43fe624cc4ba": {
      "model_module": "@jupyter-widgets/controls",
      "model_module_version": "1.5.0",
      "model_name": "ButtonStyleModel",
      "state": {}
     },
     "3370ab19ca7d4eb6bd833095110e8888": {
      "model_module": "@jupyter-widgets/controls",
      "model_module_version": "1.5.0",
      "model_name": "HBoxModel",
      "state": {
       "children": [
        "IPY_MODEL_db5f6dc768de4f52af107562f58156fb",
        "IPY_MODEL_ef5333f5371043d19deb770e002aef6f"
       ],
       "layout": "IPY_MODEL_4ef238a8a44a43369f6ff4c32bb90c5c"
      }
     },
     "33a25a7f6c774d99a2ad689dcc5a28a6": {
      "model_module": "@jupyter-widgets/controls",
      "model_module_version": "1.5.0",
      "model_name": "ButtonStyleModel",
      "state": {}
     },
     "33df28684ad348f5b03827854e48c752": {
      "model_module": "@jupyter-widgets/controls",
      "model_module_version": "1.5.0",
      "model_name": "SliderStyleModel",
      "state": {
       "description_width": ""
      }
     },
     "33e248224d044ba185e32bc6cddc3055": {
      "model_module": "@jupyter-widgets/controls",
      "model_module_version": "1.5.0",
      "model_name": "ButtonStyleModel",
      "state": {}
     },
     "33ecac72bc1645e0b487c066dc742e70": {
      "model_module": "@jupyter-widgets/controls",
      "model_module_version": "1.5.0",
      "model_name": "TextModel",
      "state": {
       "continuous_update": false,
       "description": "name",
       "layout": "IPY_MODEL_407661e8679b4f3b9602e2daaddae72e",
       "style": "IPY_MODEL_a6a5cc76976d4a088ca7e7f307750adf",
       "value": "leaf_new"
      }
     },
     "33f1c8621f03490ab5245ccf59e30f24": {
      "model_module": "pgljupyter",
      "model_module_version": "^0.1.21",
      "model_name": "IntEditorModel",
      "state": {
       "_model_module_version": "^0.1.21",
       "_view_module_version": "^0.1.21",
       "children": [
        "IPY_MODEL_97f9054a19b94f649c2c43daf746d8ad",
        "IPY_MODEL_556f03c0e652466698acdf9d3ef53d64"
       ],
       "layout": "IPY_MODEL_f09ec2f11f444eed8d6fdf286e95dc1c"
      }
     },
     "34039ec0ba934c63862e396616b031ef": {
      "model_module": "@jupyter-widgets/controls",
      "model_module_version": "1.5.0",
      "model_name": "ButtonModel",
      "state": {
       "description": "Add category",
       "layout": "IPY_MODEL_f3b5f46f7b7c466baaef384604030357",
       "style": "IPY_MODEL_54afde6385054afa854c63b78d32c519"
      }
     },
     "340f0dbc98ff42bda049e2e8bbb7b838": {
      "model_module": "@jupyter-widgets/base",
      "model_module_version": "1.2.0",
      "model_name": "LayoutModel",
      "state": {}
     },
     "341481874f4a40c88fa0bc3937bf1f74": {
      "model_module": "@jupyter-widgets/base",
      "model_module_version": "1.2.0",
      "model_name": "LayoutModel",
      "state": {}
     },
     "3423cf0a4514403f822864a725d3fedc": {
      "model_module": "@jupyter-widgets/base",
      "model_module_version": "1.2.0",
      "model_name": "LayoutModel",
      "state": {}
     },
     "344335e7670a495595018a08fc546dec": {
      "model_module": "@jupyter-widgets/base",
      "model_module_version": "1.2.0",
      "model_name": "LayoutModel",
      "state": {}
     },
     "34cde60d4db54699b827b7171ab0d6da": {
      "model_module": "@jupyter-widgets/controls",
      "model_module_version": "1.5.0",
      "model_name": "DescriptionStyleModel",
      "state": {
       "description_width": ""
      }
     },
     "34e6f4f09b2d4c69b0edd0a18c352caf": {
      "model_module": "@jupyter-widgets/controls",
      "model_module_version": "1.5.0",
      "model_name": "HBoxModel",
      "state": {
       "layout": "IPY_MODEL_f7ff34c66d4b431c8d7a458913ac23de"
      }
     },
     "34e774049b6c47ed934645d1f5622147": {
      "model_module": "@jupyter-widgets/controls",
      "model_module_version": "1.5.0",
      "model_name": "HBoxModel",
      "state": {
       "children": [
        "IPY_MODEL_2b3aa6ff79cb4ab0a903470dc0cbc38c",
        "IPY_MODEL_a2722c80c6f648fb816f1a687cdea421"
       ],
       "layout": "IPY_MODEL_415d6b0d9bed4445a277087d157d19f9"
      }
     },
     "352b11aaadc949e5b6d43b2af8c9c8bf": {
      "model_module": "@jupyter-widgets/controls",
      "model_module_version": "1.5.0",
      "model_name": "DescriptionStyleModel",
      "state": {
       "description_width": ""
      }
     },
     "353ddb1420fc4c4b98046d215b3a0a75": {
      "model_module": "@jupyter-widgets/controls",
      "model_module_version": "1.5.0",
      "model_name": "VBoxModel",
      "state": {
       "children": [
        "IPY_MODEL_4ee93253ee1e4f019df07258a39d8b47",
        "IPY_MODEL_d77d077081bb4eb8baa6f71acfaca80d",
        "IPY_MODEL_7607d9a6764a4b5585e648fdb1289c55",
        "IPY_MODEL_35ad94a74fd54bed8475e8324c36f8d3",
        "IPY_MODEL_1a3a8e4cff4b498aad3788925124b846"
       ],
       "layout": "IPY_MODEL_ad1542a9ee5d493fb7cad40f4ec24a08"
      }
     },
     "355ffe1500f74edb94926757da953874": {
      "model_module": "@jupyter-widgets/base",
      "model_module_version": "1.2.0",
      "model_name": "LayoutModel",
      "state": {}
     },
     "3581f98b0e0b489eb1e8d1ffb45828de": {
      "model_module": "@jupyter-widgets/base",
      "model_module_version": "1.2.0",
      "model_name": "LayoutModel",
      "state": {}
     },
     "35888e4f3f5048409ae7317289d152bd": {
      "model_module": "@jupyter-widgets/base",
      "model_module_version": "1.2.0",
      "model_name": "LayoutModel",
      "state": {
       "margin": "20px 0px"
      }
     },
     "35ad94a74fd54bed8475e8324c36f8d3": {
      "model_module": "@jupyter-widgets/controls",
      "model_module_version": "1.5.0",
      "model_name": "HBoxModel",
      "state": {
       "children": [
        "IPY_MODEL_4846a27e60cc441d93d5c535ffde0e6e",
        "IPY_MODEL_6f0f8070aff54befb01d59fb84b450b7"
       ],
       "layout": "IPY_MODEL_f7ff34c66d4b431c8d7a458913ac23de"
      }
     },
     "35d7a6de78294f0a93e1067f36baf237": {
      "model_module": "@jupyter-widgets/controls",
      "model_module_version": "1.5.0",
      "model_name": "ButtonModel",
      "state": {
       "description": "Delete category",
       "layout": "IPY_MODEL_0f40c1df13784f579067a2bd0aaa9d35",
       "style": "IPY_MODEL_6d4072720b9f49d79f96a3e2beff6e17"
      }
     },
     "35de142236d6430682387800cc229756": {
      "model_module": "@jupyter-widgets/controls",
      "model_module_version": "1.5.0",
      "model_name": "VBoxModel",
      "state": {
       "children": [
        "IPY_MODEL_417217b16fe444758f93fa05fe33456f",
        "IPY_MODEL_b52d8d1f7a39435a937737cba39c4169"
       ],
       "layout": "IPY_MODEL_63354b64c5c6445686dd6064588bcd06"
      }
     },
     "36206315b4434144abd918600eba897c": {
      "model_module": "@jupyter-widgets/controls",
      "model_module_version": "1.5.0",
      "model_name": "HBoxModel",
      "state": {
       "children": [
        "IPY_MODEL_08c9c604a4d44fa3be0d38a0cee344e7",
        "IPY_MODEL_ae6582bcdffa4a9ea49948fb8e79804f"
       ],
       "layout": "IPY_MODEL_aee7a263a0f64a1fbea2c127454b5880"
      }
     },
     "365ec1034d8846dc934c13bdd628212a": {
      "model_module": "@jupyter-widgets/base",
      "model_module_version": "1.2.0",
      "model_name": "LayoutModel",
      "state": {}
     },
     "368bf31b2cd549b2949bece28e1205ad": {
      "model_module": "@jupyter-widgets/controls",
      "model_module_version": "1.5.0",
      "model_name": "CheckboxModel",
      "state": {
       "description": "Auto save",
       "disabled": false,
       "layout": "IPY_MODEL_2c4a0f6f749e428e81918dc2b18b6073",
       "style": "IPY_MODEL_fb7df1f7b61a4ed2818a12f94a3168c4",
       "value": false
      }
     },
     "36a0f787f1b14b6a9e881d9b89dbe6f9": {
      "model_module": "@jupyter-widgets/controls",
      "model_module_version": "1.5.0",
      "model_name": "ButtonStyleModel",
      "state": {}
     },
     "36cefaebd481433a986da12e8f4ca923": {
      "model_module": "@jupyter-widgets/base",
      "model_module_version": "1.2.0",
      "model_name": "LayoutModel",
      "state": {}
     },
     "36dae7e778b4478990ee42ee7dd61824": {
      "model_module": "@jupyter-widgets/base",
      "model_module_version": "1.2.0",
      "model_name": "LayoutModel",
      "state": {}
     },
     "37056445934e4abba973138c48789f20": {
      "model_module": "@jupyter-widgets/controls",
      "model_module_version": "1.5.0",
      "model_name": "DescriptionStyleModel",
      "state": {
       "description_width": ""
      }
     },
     "3761ab3b962b4bdc83a0b5c3edaaf2f4": {
      "model_module": "@jupyter-widgets/base",
      "model_module_version": "1.2.0",
      "model_name": "LayoutModel",
      "state": {}
     },
     "376831fff5bc48dfb1fa24e507142fcf": {
      "model_module": "@jupyter-widgets/base",
      "model_module_version": "1.2.0",
      "model_name": "LayoutModel",
      "state": {}
     },
     "378af3a8594449d3a050f6c1b0b0503f": {
      "model_module": "pgljupyter",
      "model_module_version": "^0.1.21",
      "model_name": "MaterialEditorModel",
      "state": {
       "_model_module_version": "^0.1.21",
       "_view_module_version": "^0.1.21",
       "children": [
        "IPY_MODEL_f2740e7d55304da5b92addaba9f46791",
        "IPY_MODEL_dad1575e212b4ec78e51228ec3ee5775",
        "IPY_MODEL_0cb6db6109a04c959a1aa9f31415ddf1",
        "IPY_MODEL_68ae407b0f17478b8bba349c2b362287",
        "IPY_MODEL_3a935c95cbe5483ba3edcdaa0e5c5948",
        "IPY_MODEL_b6232427abaa44ee8f8af67967fd5908",
        "IPY_MODEL_983ff0bf760d4a3595c58dc8bec1ee06",
        "IPY_MODEL_30356a9a3f9349bfad41280603e63f1b"
       ],
       "layout": "IPY_MODEL_f6f979e7e2c640148f7ccf33cc3b0980"
      }
     },
     "37a6f13ee0d84c41bf5e2718b03b869b": {
      "model_module": "@jupyter-widgets/controls",
      "model_module_version": "1.5.0",
      "model_name": "ButtonModel",
      "state": {
       "description": "Add",
       "layout": "IPY_MODEL_7c1611d1648a473b93d3600459b16a6f",
       "style": "IPY_MODEL_931cc338e78d449da79227e3e8bbf56f"
      }
     },
     "37a93703112240f1b4ba6fd167b2abd8": {
      "model_module": "@jupyter-widgets/base",
      "model_module_version": "1.2.0",
      "model_name": "LayoutModel",
      "state": {}
     },
     "37ab0aab470c48e49c20c495f371e4d0": {
      "model_module": "@jupyter-widgets/base",
      "model_module_version": "1.2.0",
      "model_name": "LayoutModel",
      "state": {}
     },
     "37b2865fee2b4a02bc2013f64eaefc86": {
      "model_module": "@jupyter-widgets/base",
      "model_module_version": "1.2.0",
      "model_name": "LayoutModel",
      "state": {
       "flex_flow": "row wrap"
      }
     },
     "37bad97f36864d09b884b5b159f845c5": {
      "model_module": "@jupyter-widgets/controls",
      "model_module_version": "1.5.0",
      "model_name": "ColorPickerModel",
      "state": {
       "description": "specular",
       "disabled": false,
       "layout": "IPY_MODEL_8ed6d95dd9ef49ee8cf874817418fc76",
       "style": "IPY_MODEL_e9582f1549fd47149a0a82f1ee63f055",
       "value": "#282828"
      }
     },
     "37be1e18450a48628dc1cfe7889e3ae0": {
      "model_module": "@jupyter-widgets/base",
      "model_module_version": "1.2.0",
      "model_name": "LayoutModel",
      "state": {}
     },
     "37cb01c9b3e84e9da135afac63cb3f28": {
      "model_module": "@jupyter-widgets/base",
      "model_module_version": "1.2.0",
      "model_name": "LayoutModel",
      "state": {}
     },
     "37d590580784486799b82835c1490cd0": {
      "model_module": "pgljupyter",
      "model_module_version": "^0.1.21",
      "model_name": "IntEditorModel",
      "state": {
       "_model_module_version": "^0.1.21",
       "_view_module_version": "^0.1.21",
       "children": [
        "IPY_MODEL_db9ed437c56e4afcaea7ce8551e64a91",
        "IPY_MODEL_1495c1165fc748ae8bb58d756996d706"
       ],
       "layout": "IPY_MODEL_e18491acb9394f188ffa2c3096839935"
      }
     },
     "3823b97d96004b689f2595044278fc3f": {
      "model_module": "@jupyter-widgets/controls",
      "model_module_version": "1.5.0",
      "model_name": "FloatSliderModel",
      "state": {
       "description": "diffuse",
       "layout": "IPY_MODEL_c908184eb23d4c2496f39acbf94a858a",
       "max": 3,
       "step": 0.1,
       "style": "IPY_MODEL_bad4e236bef945b193cd8662cba5516a",
       "value": 1
      }
     },
     "38271c79a85044a1a2f372e45b7f3762": {
      "model_module": "@jupyter-widgets/controls",
      "model_module_version": "1.5.0",
      "model_name": "DescriptionStyleModel",
      "state": {
       "description_width": ""
      }
     },
     "382ba098f6cc4adf8bfb135a9de7b6d8": {
      "model_module": "@jupyter-widgets/base",
      "model_module_version": "1.2.0",
      "model_name": "LayoutModel",
      "state": {}
     },
     "3859230710584fe98955e85d63f45d07": {
      "model_module": "@jupyter-widgets/base",
      "model_module_version": "1.2.0",
      "model_name": "LayoutModel",
      "state": {}
     },
     "38af2c3340fa4dccbe1fe87f084d021e": {
      "model_module": "@jupyter-widgets/controls",
      "model_module_version": "1.5.0",
      "model_name": "ColorPickerModel",
      "state": {
       "description": "specular",
       "disabled": false,
       "layout": "IPY_MODEL_a4330bdab939492fbed45caab83a37b0",
       "style": "IPY_MODEL_e1ad944eafa344f19b268b968727ebe2",
       "value": "#282828"
      }
     },
     "38aff3c9c69e426985154cc4165b3f46": {
      "model_module": "@jupyter-widgets/controls",
      "model_module_version": "1.5.0",
      "model_name": "ButtonModel",
      "state": {
       "description": "Add",
       "layout": "IPY_MODEL_6a95929048464d27b92643ff9e093d6b",
       "style": "IPY_MODEL_718976f5e4da429abce9bf4719b35303"
      }
     },
     "38c72ff473424ad9bfe39cfda219b63e": {
      "model_module": "@jupyter-widgets/controls",
      "model_module_version": "1.5.0",
      "model_name": "DescriptionStyleModel",
      "state": {
       "description_width": ""
      }
     },
     "38e26cd9e23545518709851cba698d94": {
      "model_module": "@jupyter-widgets/base",
      "model_module_version": "1.2.0",
      "model_name": "LayoutModel",
      "state": {}
     },
     "38e8fc2ebd144c09b3718418fd4d321e": {
      "model_module": "@jupyter-widgets/controls",
      "model_module_version": "1.5.0",
      "model_name": "HBoxModel",
      "state": {
       "children": [
        "IPY_MODEL_82321aeab55d4ce7b6539f3d6b31b441",
        "IPY_MODEL_16282a7986064a8cb8770ae63961ce8e"
       ],
       "layout": "IPY_MODEL_dd2cc788345348a793f5a93c9e888de3"
      }
     },
     "38f0ad6d78c543e584e0999e772ae5b0": {
      "model_module": "@jupyter-widgets/controls",
      "model_module_version": "1.5.0",
      "model_name": "DescriptionStyleModel",
      "state": {
       "description_width": ""
      }
     },
     "38fbe02c165042b8b77cbdcdf4e4c685": {
      "model_module": "@jupyter-widgets/controls",
      "model_module_version": "1.5.0",
      "model_name": "ButtonStyleModel",
      "state": {}
     },
     "3906a75a08ed413aba2363f7e4fa3366": {
      "model_module": "@jupyter-widgets/controls",
      "model_module_version": "1.5.0",
      "model_name": "TextModel",
      "state": {
       "continuous_update": false,
       "description": "name",
       "layout": "IPY_MODEL_4b2b575ede144d15b37a9b26cc73c875",
       "style": "IPY_MODEL_504c852fdd62470d9fce5fbb9e9e18bc",
       "value": "maxorder"
      }
     },
     "39084374a571435e824d7618f816aad4": {
      "model_module": "@jupyter-widgets/base",
      "model_module_version": "1.2.0",
      "model_name": "LayoutModel",
      "state": {}
     },
     "390ec84636c54a9186e42f79fc5c39a9": {
      "model_module": "@jupyter-widgets/controls",
      "model_module_version": "1.5.0",
      "model_name": "VBoxModel",
      "state": {
       "children": [
        "IPY_MODEL_5eff584d0b2b41aeb1390c34883b3952",
        "IPY_MODEL_b78a37695bbf435fb731861c038b885f"
       ],
       "layout": "IPY_MODEL_256f56f78e9543718e49f07029f8099c"
      }
     },
     "391878e8ba0540f5adaa617056b8dd47": {
      "model_module": "@jupyter-widgets/controls",
      "model_module_version": "1.5.0",
      "model_name": "DescriptionStyleModel",
      "state": {
       "description_width": ""
      }
     },
     "392b749f9bc940b58e80d0758f80a01e": {
      "model_module": "@jupyter-widgets/controls",
      "model_module_version": "1.5.0",
      "model_name": "DropdownModel",
      "state": {
       "_options_labels": [
        "Integer",
        "Float",
        "Bool"
       ],
       "index": 0,
       "layout": "IPY_MODEL_a85c018ff0064956bb30f7fd2e8e7010",
       "style": "IPY_MODEL_e2d47736c0754f9393bb161a36bacf08"
      }
     },
     "39501af7b4a946cb85b28be8f27f4a40": {
      "model_module": "@jupyter-widgets/controls",
      "model_module_version": "1.5.0",
      "model_name": "DescriptionStyleModel",
      "state": {
       "description_width": ""
      }
     },
     "3969e43bd2ff40cd9083e491f4ee8a61": {
      "model_module": "@jupyter-widgets/controls",
      "model_module_version": "1.5.0",
      "model_name": "TextModel",
      "state": {
       "continuous_update": false,
       "description": "name",
       "layout": "IPY_MODEL_2f62c1ab623c4435ae109ecf1f320711",
       "style": "IPY_MODEL_8f51043f8eec495db2aa437cf47dd5d0",
       "value": "radinc"
      }
     },
     "3996353c8b94465d86afb685abf7e620": {
      "model_module": "@jupyter-widgets/controls",
      "model_module_version": "1.5.0",
      "model_name": "BoundedIntTextModel",
      "state": {
       "description": "index",
       "layout": "IPY_MODEL_0176e28a1109422494c3cddf25a960f7",
       "style": "IPY_MODEL_c28c1957d1634127975fa331e2198a31",
       "value": 1
      }
     },
     "399fc3d82a3b4cb6984cdc1806f6c118": {
      "model_module": "@jupyter-widgets/controls",
      "model_module_version": "1.5.0",
      "model_name": "TextModel",
      "state": {
       "continuous_update": false,
       "description": "name",
       "layout": "IPY_MODEL_b3845888ce8d4ad4986e97d2f893e730",
       "style": "IPY_MODEL_6d1a398411bc4c81808725799dd684d4",
       "value": "leaf_old"
      }
     },
     "39b48239860647a19accd22046ec23a9": {
      "model_module": "@jupyter-widgets/base",
      "model_module_version": "1.2.0",
      "model_name": "LayoutModel",
      "state": {}
     },
     "3a06d16c9b3e4435a1ad65bd71604d2e": {
      "model_module": "@jupyter-widgets/base",
      "model_module_version": "1.2.0",
      "model_name": "LayoutModel",
      "state": {
       "margin": "20px 0px"
      }
     },
     "3a91f9dd6dd840dfa42d860498e26055": {
      "model_module": "@jupyter-widgets/controls",
      "model_module_version": "1.5.0",
      "model_name": "HBoxModel",
      "state": {
       "children": [
        "IPY_MODEL_35d7a6de78294f0a93e1067f36baf237"
       ],
       "layout": "IPY_MODEL_5a6aab1bb709492da4f69389f9069c24"
      }
     },
     "3a935c95cbe5483ba3edcdaa0e5c5948": {
      "model_module": "@jupyter-widgets/controls",
      "model_module_version": "1.5.0",
      "model_name": "ColorPickerModel",
      "state": {
       "description": "emission",
       "disabled": false,
       "layout": "IPY_MODEL_bc42d877cd3c4649bef7e1b74ed18b6e",
       "style": "IPY_MODEL_f3d619e4ec8a4de8bac00cda89fa6f4f",
       "value": "#000000"
      }
     },
     "3adc644fd9d942919096f3806a27c8f1": {
      "model_module": "@jupyter-widgets/base",
      "model_module_version": "1.2.0",
      "model_name": "LayoutModel",
      "state": {}
     },
     "3af78c5ade4d410a8a1156f28dde5870": {
      "model_module": "@jupyter-widgets/base",
      "model_module_version": "1.2.0",
      "model_name": "LayoutModel",
      "state": {}
     },
     "3afbf51007944e8f8954670763c456a2": {
      "model_module": "@jupyter-widgets/base",
      "model_module_version": "1.2.0",
      "model_name": "LayoutModel",
      "state": {}
     },
     "3b114d7895634592920f7407242e59d9": {
      "model_module": "@jupyter-widgets/controls",
      "model_module_version": "1.5.0",
      "model_name": "ButtonStyleModel",
      "state": {}
     },
     "3b280508434144bfb2cc499f02a544f3": {
      "model_module": "@jupyter-widgets/base",
      "model_module_version": "1.2.0",
      "model_name": "LayoutModel",
      "state": {
       "margin": "20px 0px"
      }
     },
     "3b3e23c52c034fbba7d416e65c71d04a": {
      "model_module": "@jupyter-widgets/controls",
      "model_module_version": "1.5.0",
      "model_name": "ButtonStyleModel",
      "state": {}
     },
     "3b4a50bb20de416aaf7650c47c84598b": {
      "model_module": "@jupyter-widgets/base",
      "model_module_version": "1.2.0",
      "model_name": "LayoutModel",
      "state": {}
     },
     "3b6e5ecfd1944c16b6776d9fc68b197f": {
      "model_module": "@jupyter-widgets/controls",
      "model_module_version": "1.5.0",
      "model_name": "ColorPickerModel",
      "state": {
       "description": "emission",
       "disabled": false,
       "layout": "IPY_MODEL_02cd8be6c855476f923f34ecaade3abd",
       "style": "IPY_MODEL_b0278727c6984480ae67b3caa91c5c28",
       "value": "#000000"
      }
     },
     "3b6eb237ab884fc6a9851aa3c2d821fe": {
      "model_module": "@jupyter-widgets/base",
      "model_module_version": "1.2.0",
      "model_name": "LayoutModel",
      "state": {}
     },
     "3b8516e57df04b72aa4033410b7cc6fb": {
      "model_module": "@jupyter-widgets/controls",
      "model_module_version": "1.5.0",
      "model_name": "DescriptionStyleModel",
      "state": {
       "description_width": ""
      }
     },
     "3ba3327a9ad340168a7a06f365fdced1": {
      "model_module": "@jupyter-widgets/base",
      "model_module_version": "1.2.0",
      "model_name": "LayoutModel",
      "state": {}
     },
     "3ba93cb374114bc4a5fdc1c020fb99d2": {
      "model_module": "@jupyter-widgets/base",
      "model_module_version": "1.2.0",
      "model_name": "LayoutModel",
      "state": {}
     },
     "3bc19bb63ddf48d997c4e036a6b93e14": {
      "model_module": "@jupyter-widgets/base",
      "model_module_version": "1.2.0",
      "model_name": "LayoutModel",
      "state": {
       "flex_flow": "row wrap",
       "margin": "20px"
      }
     },
     "3bc727a4c5e842eba687117ad175a2bc": {
      "model_module": "@jupyter-widgets/base",
      "model_module_version": "1.2.0",
      "model_name": "LayoutModel",
      "state": {}
     },
     "3bc82dbd12c54e549771ee3d9cd55b1d": {
      "model_module": "@jupyter-widgets/base",
      "model_module_version": "1.2.0",
      "model_name": "LayoutModel",
      "state": {}
     },
     "3bcea9f32a2f480c95fd4897749b2ca9": {
      "model_module": "@jupyter-widgets/controls",
      "model_module_version": "1.5.0",
      "model_name": "TextModel",
      "state": {
       "layout": "IPY_MODEL_ee257afeb107428795eb942a17db9082",
       "placeholder": "category name",
       "style": "IPY_MODEL_f6831da68c52444e88220f9ed6ef5b40"
      }
     },
     "3bd8c5155e614aa49b91b3ee03106bb8": {
      "model_module": "@jupyter-widgets/base",
      "model_module_version": "1.2.0",
      "model_name": "LayoutModel",
      "state": {}
     },
     "3c36699284b54bd483272ff26ed52203": {
      "model_module": "@jupyter-widgets/controls",
      "model_module_version": "1.5.0",
      "model_name": "FloatSliderModel",
      "state": {
       "description": "shininess",
       "layout": "IPY_MODEL_5c675aab59fb4845aac7b8dac885e566",
       "max": 1,
       "step": 0.1,
       "style": "IPY_MODEL_ca53e0658bf34086ba83cddc03f09176",
       "value": 0.2
      }
     },
     "3c896b356b9b402f8ae6e80bf9405ba7": {
      "model_module": "@jupyter-widgets/base",
      "model_module_version": "1.2.0",
      "model_name": "LayoutModel",
      "state": {}
     },
     "3c9570eda3684eab96511e129bb5cee0": {
      "model_module": "pgljupyter",
      "model_module_version": "^0.1.17",
      "model_name": "IntEditorModel",
      "state": {
       "_model_module_version": "^0.1.17",
       "_view_module_version": "^0.1.17",
       "children": [
        "IPY_MODEL_424624df5c714774b94c513145e29a9c",
        "IPY_MODEL_2db2f596971f45688e65a9abdd337586"
       ],
       "layout": "IPY_MODEL_e14b8d9da9d94827aa6e7a2c4a59032a"
      }
     },
     "3cb28559df4b4b6280518ded5fdd05f3": {
      "model_module": "@jupyter-widgets/controls",
      "model_module_version": "1.5.0",
      "model_name": "HBoxModel",
      "state": {
       "children": [
        "IPY_MODEL_ce67773475a240888ab3908bc46155d6",
        "IPY_MODEL_ad9de9c14c0d4f65a2c07f0bd3a3e163"
       ],
       "layout": "IPY_MODEL_5b44b2e1d2044e9f82167f906dbaa2f5"
      }
     },
     "3cc05422b64343cab04ad8a0ddc1d880": {
      "model_module": "@jupyter-widgets/controls",
      "model_module_version": "1.5.0",
      "model_name": "DescriptionStyleModel",
      "state": {
       "description_width": ""
      }
     },
     "3d255227d42d45b7a955570c70d7636b": {
      "model_module": "pgljupyter",
      "model_module_version": "^0.1.21",
      "model_name": "LsystemWidgetModel",
      "state": {
       "_model_module_version": "^0.1.21",
       "_view_module_version": "^0.1.21",
       "axes_helper": false,
       "derivationLength": 42,
       "layout": "IPY_MODEL_02e2b611d447416aad39778127a3a98f",
       "light_helper": false,
       "plane": true,
       "size_display": [
        600,
        400
       ],
       "size_world": 50
      }
     },
     "3d3a7aadae0f44908db525c928187d5f": {
      "model_module": "@jupyter-widgets/controls",
      "model_module_version": "1.5.0",
      "model_name": "DescriptionStyleModel",
      "state": {
       "description_width": ""
      }
     },
     "3d43a66e7ba84d16b260aa7cd202f863": {
      "model_module": "@jupyter-widgets/controls",
      "model_module_version": "1.5.0",
      "model_name": "FloatSliderModel",
      "state": {
       "description": "value",
       "layout": "IPY_MODEL_5e62aae65cb548bcbf53bb19b6810b3b",
       "max": 0.1,
       "min": 0.01,
       "step": 0.01,
       "style": "IPY_MODEL_a0702378d919446e8e9b36d5aac020a8",
       "value": 0.03
      }
     },
     "3dd16cc1b856454dbc171795cd01dddd": {
      "model_module": "@jupyter-widgets/controls",
      "model_module_version": "1.5.0",
      "model_name": "FloatSliderModel",
      "state": {
       "description": "diffuse",
       "layout": "IPY_MODEL_45b176cc871b4434a95e3623b873c4fa",
       "max": 3,
       "step": 0.1,
       "style": "IPY_MODEL_d0007b5c1cf14819b87f34bbcb148b93",
       "value": 1
      }
     },
     "3dda600e26ba44f9a458b8f113ced26f": {
      "model_module": "@jupyter-widgets/controls",
      "model_module_version": "1.5.0",
      "model_name": "SliderStyleModel",
      "state": {
       "description_width": ""
      }
     },
     "3de3b034852b47c9a285b62f838b9986": {
      "model_module": "@jupyter-widgets/controls",
      "model_module_version": "1.5.0",
      "model_name": "DescriptionStyleModel",
      "state": {
       "description_width": ""
      }
     },
     "3e2965ac15734eacbe93346089045d2a": {
      "model_module": "pgljupyter",
      "model_module_version": "^0.1.16",
      "model_name": "IntEditorModel",
      "state": {
       "_model_module_version": "^0.1.16",
       "_view_module_version": "^0.1.16",
       "children": [
        "IPY_MODEL_a72f273cdb3945e394051fb5a3ed72de",
        "IPY_MODEL_f07ec7a47aa64a3a83eebeecca3f4573",
        "IPY_MODEL_1d6ac4f49b314f0e9fb3532cfc3b8bce",
        "IPY_MODEL_0f84ed044f5d499287d57c8c98211fae",
        "IPY_MODEL_06a4c0bb621c49b0a886a6f2d4b71f84"
       ],
       "layout": "IPY_MODEL_16bd9822848d4ea8a76ae7ebedd16681"
      }
     },
     "3e44ac9e61c14a0f9579e3363460f583": {
      "model_module": "@jupyter-widgets/controls",
      "model_module_version": "1.5.0",
      "model_name": "ColorPickerModel",
      "state": {
       "description": "emission",
       "disabled": false,
       "layout": "IPY_MODEL_4885badfb81242a3a0e907414c08b51f",
       "style": "IPY_MODEL_0a8707e65f2346558a9ab598cc46de95",
       "value": "#000000"
      }
     },
     "3e6433047ff24d7993bc94f867353b36": {
      "model_module": "@jupyter-widgets/controls",
      "model_module_version": "1.5.0",
      "model_name": "VBoxModel",
      "state": {
       "children": [
        "IPY_MODEL_cbe89d5aedbd45519b776332dff4658c",
        "IPY_MODEL_d91ab3eec5c24eb6a0c9226f899b6e7a",
        "IPY_MODEL_1f53359d42784ba0a3451ee526d47c0f",
        "IPY_MODEL_9d1b1500742c4f999e573ae2bbe82138",
        "IPY_MODEL_7143e8b98f0d40c895aacadcde1ca010"
       ],
       "layout": "IPY_MODEL_108ef55307894e36a7d0991d0cc2911b"
      }
     },
     "3e64b59aa9974065a16ce4e79ea27464": {
      "model_module": "@jupyter-widgets/controls",
      "model_module_version": "1.5.0",
      "model_name": "TextModel",
      "state": {
       "continuous_update": false,
       "description": "name",
       "layout": "IPY_MODEL_5da6a4695aee4e9ab96fad51b59727c6",
       "style": "IPY_MODEL_63c9d2863df64449a1d81b197959dbbe",
       "value": "leaf_old"
      }
     },
     "3e88ff73b7174894a74048caac61d6dd": {
      "model_module": "@jupyter-widgets/base",
      "model_module_version": "1.2.0",
      "model_name": "LayoutModel",
      "state": {}
     },
     "3ea576de71e344fc8f076693910052c2": {
      "model_module": "@jupyter-widgets/controls",
      "model_module_version": "1.5.0",
      "model_name": "DescriptionStyleModel",
      "state": {
       "description_width": ""
      }
     },
     "3eaf0cde17004332ab35b0f57fc0d75b": {
      "model_module": "@jupyter-widgets/base",
      "model_module_version": "1.2.0",
      "model_name": "LayoutModel",
      "state": {}
     },
     "3eb5de6cfa8c4221935e7232c267b322": {
      "model_module": "@jupyter-widgets/base",
      "model_module_version": "1.2.0",
      "model_name": "LayoutModel",
      "state": {}
     },
     "3ec386de663b4617bc9f49b851f4ac02": {
      "model_module": "@jupyter-widgets/controls",
      "model_module_version": "1.5.0",
      "model_name": "ButtonStyleModel",
      "state": {}
     },
     "3ee6dd285a9442a8ba3ad4c5af7b0fbd": {
      "model_module": "@jupyter-widgets/base",
      "model_module_version": "1.2.0",
      "model_name": "LayoutModel",
      "state": {}
     },
     "3eebd7d76fd1439fb7e9a86462a20975": {
      "model_module": "@jupyter-widgets/controls",
      "model_module_version": "1.5.0",
      "model_name": "ButtonStyleModel",
      "state": {}
     },
     "3ef4d136b1234440b78e643c65466054": {
      "model_module": "@jupyter-widgets/base",
      "model_module_version": "1.2.0",
      "model_name": "LayoutModel",
      "state": {}
     },
     "3f1c5cb37d464c0c965c97fc3a1e7f60": {
      "model_module": "@jupyter-widgets/controls",
      "model_module_version": "1.5.0",
      "model_name": "DropdownModel",
      "state": {
       "_options_labels": [
        "Color"
       ],
       "index": 0,
       "layout": "IPY_MODEL_04c46391563944e09f827e89ec2715fa",
       "style": "IPY_MODEL_352b11aaadc949e5b6d43b2af8c9c8bf"
      }
     },
     "3f1ceb1b479240d594f1881f8013d88a": {
      "model_module": "@jupyter-widgets/base",
      "model_module_version": "1.2.0",
      "model_name": "LayoutModel",
      "state": {}
     },
     "3f7ba822c536404481bce2f09c84de9d": {
      "model_module": "@jupyter-widgets/base",
      "model_module_version": "1.2.0",
      "model_name": "LayoutModel",
      "state": {}
     },
     "3f9a1ab9b1b04ceb9f3c4d04a7d00904": {
      "model_module": "@jupyter-widgets/controls",
      "model_module_version": "1.5.0",
      "model_name": "TextModel",
      "state": {
       "continuous_update": false,
       "description": "name",
       "layout": "IPY_MODEL_3f1ceb1b479240d594f1881f8013d88a",
       "style": "IPY_MODEL_ac71f1c55d9948e19e588813ff85983b",
       "value": "color_1"
      }
     },
     "3fb78370b75d48e69e4114fc1065c34c": {
      "model_module": "@jupyter-widgets/base",
      "model_module_version": "1.2.0",
      "model_name": "LayoutModel",
      "state": {}
     },
     "400c5e9aded44fda90d2ab16b75fd897": {
      "model_module": "@jupyter-widgets/controls",
      "model_module_version": "1.5.0",
      "model_name": "DescriptionStyleModel",
      "state": {
       "description_width": ""
      }
     },
     "400f8b7ad23543b7ae90c9244d04af9e": {
      "model_module": "@jupyter-widgets/controls",
      "model_module_version": "1.5.0",
      "model_name": "IntSliderModel",
      "state": {
       "continuous_update": false,
       "description": "value",
       "layout": "IPY_MODEL_62490f1dbb784fd99ea1745ade98c707",
       "max": 10,
       "min": 1,
       "style": "IPY_MODEL_8ceaba1a99674153b22a56b7b4a60bca",
       "value": 3
      }
     },
     "403ce4d89d824f1c8e0c931714a623aa": {
      "model_module": "@jupyter-widgets/controls",
      "model_module_version": "1.5.0",
      "model_name": "ButtonStyleModel",
      "state": {}
     },
     "4045fe6afc194dcaa3f2c54427fa1745": {
      "model_module": "@jupyter-widgets/controls",
      "model_module_version": "1.5.0",
      "model_name": "DescriptionStyleModel",
      "state": {
       "description_width": ""
      }
     },
     "404f3dcf0b4b4baeb1e9d23f637e521e": {
      "model_module": "@jupyter-widgets/controls",
      "model_module_version": "1.5.0",
      "model_name": "DropdownModel",
      "state": {
       "_options_labels": [
        "Integer",
        "Float",
        "Bool"
       ],
       "index": 0,
       "layout": "IPY_MODEL_dea1d7f7b1f545688d4cb2183ee25745",
       "style": "IPY_MODEL_fd39d26e27d246b281772663c5b0b1c0"
      }
     },
     "405490f3003747ea84770f0ca8eba3fa": {
      "model_module": "@jupyter-widgets/controls",
      "model_module_version": "1.5.0",
      "model_name": "AccordionModel",
      "state": {
       "_titles": {
        "0": "materials",
        "1": "leaf",
        "2": "trunk & branches"
       },
       "children": [
        "IPY_MODEL_21584ab197984ba29419802ea60fc1c8",
        "IPY_MODEL_2718cbd168e24762a6996c846ee444dd",
        "IPY_MODEL_b44429e02b1c4c018efe9629e58572c3"
       ],
       "layout": "IPY_MODEL_0a40116d2d3a429698a87f2d38fdcbf3"
      }
     },
     "406538f49d474b288e16fda7dd512c69": {
      "model_module": "@jupyter-widgets/base",
      "model_module_version": "1.2.0",
      "model_name": "LayoutModel",
      "state": {}
     },
     "407103a332f345d8bf4ea5aa6a021916": {
      "model_module": "@jupyter-widgets/controls",
      "model_module_version": "1.5.0",
      "model_name": "FloatSliderModel",
      "state": {
       "continuous_update": false,
       "description": "shininess",
       "layout": "IPY_MODEL_5727c411e1d34981bcc0790c12d7bcf9",
       "max": 1,
       "step": 0.1,
       "style": "IPY_MODEL_5313a6c7af9a419392d903b7d51fe041",
       "value": 0.2
      }
     },
     "407661e8679b4f3b9602e2daaddae72e": {
      "model_module": "@jupyter-widgets/base",
      "model_module_version": "1.2.0",
      "model_name": "LayoutModel",
      "state": {}
     },
     "407e1eb8df67478aa2edf212374198dd": {
      "model_module": "@jupyter-widgets/controls",
      "model_module_version": "1.5.0",
      "model_name": "HBoxModel",
      "state": {
       "children": [
        "IPY_MODEL_586fe9088889439284707fb54ba3ec23",
        "IPY_MODEL_b97945cdd79940218cc6b9ce0f099d89"
       ],
       "layout": "IPY_MODEL_d4fcee8507e649a6822506b7eaf235b2"
      }
     },
     "408d582856e84421a763fa391a9130a8": {
      "model_module": "@jupyter-widgets/controls",
      "model_module_version": "1.5.0",
      "model_name": "TextModel",
      "state": {
       "continuous_update": false,
       "description": "name",
       "layout": "IPY_MODEL_45975a20708e4eefa5f5626f0c67680a",
       "style": "IPY_MODEL_e084bfa6a964476eace5b955c0359580",
       "value": "apex"
      }
     },
     "40b8836f5c9a48a5a579b8ab931ba7aa": {
      "model_module": "@jupyter-widgets/controls",
      "model_module_version": "1.5.0",
      "model_name": "ButtonModel",
      "state": {
       "description": "Delete",
       "layout": "IPY_MODEL_20b13acc67a845f6956f498c04e38806",
       "style": "IPY_MODEL_3eebd7d76fd1439fb7e9a86462a20975"
      }
     },
     "40ca5fd3b43d4d15a3135eeef5886fc1": {
      "model_module": "@jupyter-widgets/base",
      "model_module_version": "1.2.0",
      "model_name": "LayoutModel",
      "state": {}
     },
     "40ccbdcf094944daacad40f2478bd3f3": {
      "model_module": "@jupyter-widgets/controls",
      "model_module_version": "1.5.0",
      "model_name": "DescriptionStyleModel",
      "state": {
       "description_width": ""
      }
     },
     "40d3cad94876411eb2c2b28bed44d044": {
      "model_module": "@jupyter-widgets/base",
      "model_module_version": "1.2.0",
      "model_name": "LayoutModel",
      "state": {}
     },
     "40f1350ba3a44edfae82ea6bfb8f5198": {
      "model_module": "@jupyter-widgets/base",
      "model_module_version": "1.2.0",
      "model_name": "LayoutModel",
      "state": {
       "flex_flow": "row wrap"
      }
     },
     "41173f204e7842519840674a61a7e434": {
      "model_module": "@jupyter-widgets/controls",
      "model_module_version": "1.5.0",
      "model_name": "HBoxModel",
      "state": {
       "children": [
        "IPY_MODEL_9b9a7369a8eb4f5da61755ac616f74c3",
        "IPY_MODEL_da90b6b6b6334b2d8566268731ae92f4"
       ],
       "layout": "IPY_MODEL_3c896b356b9b402f8ae6e80bf9405ba7"
      }
     },
     "412179f6bd604205b92bdae0de4bf43b": {
      "model_module": "@jupyter-widgets/controls",
      "model_module_version": "1.5.0",
      "model_name": "DescriptionStyleModel",
      "state": {
       "description_width": ""
      }
     },
     "41374977018a4cc590e2913add7f287a": {
      "model_module": "@jupyter-widgets/controls",
      "model_module_version": "1.5.0",
      "model_name": "FloatSliderModel",
      "state": {
       "description": "diffuse",
       "layout": "IPY_MODEL_2e83ffb67736453ba28acc20275e238f",
       "max": 3,
       "step": 0.1,
       "style": "IPY_MODEL_bb16c1d4c8a841829bfb8da15b3bea9a",
       "value": 1
      }
     },
     "4139a554a5614b34a822d21737401026": {
      "model_module": "@jupyter-widgets/base",
      "model_module_version": "1.2.0",
      "model_name": "LayoutModel",
      "state": {}
     },
     "415d5dcf24dc4e0f9ab09bc6e94846fa": {
      "model_module": "@jupyter-widgets/base",
      "model_module_version": "1.2.0",
      "model_name": "LayoutModel",
      "state": {}
     },
     "415d6b0d9bed4445a277087d157d19f9": {
      "model_module": "@jupyter-widgets/base",
      "model_module_version": "1.2.0",
      "model_name": "LayoutModel",
      "state": {}
     },
     "41689189f03a44738c5a6d8d77d673f0": {
      "model_module": "@jupyter-widgets/base",
      "model_module_version": "1.2.0",
      "model_name": "LayoutModel",
      "state": {
       "margin": "20px 0px"
      }
     },
     "417217b16fe444758f93fa05fe33456f": {
      "model_module": "@jupyter-widgets/controls",
      "model_module_version": "1.5.0",
      "model_name": "HBoxModel",
      "state": {
       "children": [
        "IPY_MODEL_4c59ca8cf18245f5a14540938a82f127",
        "IPY_MODEL_bf9f735211574d32bf9d5fa02ec1e786"
       ],
       "layout": "IPY_MODEL_0edf0711fcd443488bc2bd1811f52c38"
      }
     },
     "417e8e140cdf4466b6d508d357de4584": {
      "model_module": "@jupyter-widgets/controls",
      "model_module_version": "1.5.0",
      "model_name": "ButtonModel",
      "state": {
       "description": "Save changes",
       "layout": "IPY_MODEL_c989202804bb452e8cb9723017e5f6c3",
       "style": "IPY_MODEL_6b8f0820ce5e43c796130647fa6eec1e"
      }
     },
     "4195dc0db72c4f82bb9bd5eead7e9779": {
      "model_module": "@jupyter-widgets/base",
      "model_module_version": "1.2.0",
      "model_name": "LayoutModel",
      "state": {}
     },
     "41cc1db02ba64e62b40ee9b19a788ac1": {
      "model_module": "@jupyter-widgets/base",
      "model_module_version": "1.2.0",
      "model_name": "LayoutModel",
      "state": {}
     },
     "421e1166bf044e938a7c55bfb05fe175": {
      "model_module": "@jupyter-widgets/controls",
      "model_module_version": "1.5.0",
      "model_name": "ButtonModel",
      "state": {
       "description": "Delete category",
       "layout": "IPY_MODEL_13d73679d1fc4c1dafedf885b7d2c851",
       "style": "IPY_MODEL_f26688f6c93d449ca3039c51f092914f"
      }
     },
     "42311b25a5ce4d1788e339ad94a4f81c": {
      "model_module": "@jupyter-widgets/controls",
      "model_module_version": "1.5.0",
      "model_name": "HBoxModel",
      "state": {
       "children": [
        "IPY_MODEL_704c51f2b4274443ae0128fcab864aca",
        "IPY_MODEL_7b1f4521fe574a5e82c85c51dbb7d298",
        "IPY_MODEL_cc343dc00b354cd18fece388a4875e4c"
       ],
       "layout": "IPY_MODEL_f54b6bb1cd9047f2913448b18542023e"
      }
     },
     "424624df5c714774b94c513145e29a9c": {
      "model_module": "@jupyter-widgets/controls",
      "model_module_version": "1.5.0",
      "model_name": "TextModel",
      "state": {
       "continuous_update": false,
       "description": "name",
       "layout": "IPY_MODEL_7b4693667f2d4338a8c79a9c6641cc55",
       "style": "IPY_MODEL_b8a8455ce5b040d0b828e4487621af24",
       "value": "nb_axes"
      }
     },
     "42507f01d821430991d4d3162cf5c980": {
      "model_module": "@jupyter-widgets/controls",
      "model_module_version": "1.5.0",
      "model_name": "ButtonStyleModel",
      "state": {}
     },
     "42699632d8cb4a18b19918bc9af6af56": {
      "model_module": "@jupyter-widgets/controls",
      "model_module_version": "1.5.0",
      "model_name": "VBoxModel",
      "state": {
       "children": [
        "IPY_MODEL_1ed4e731b536479d92c45a6c18f3559e",
        "IPY_MODEL_1007569cd12243d8a1f1fc57a3f99da4"
       ],
       "layout": "IPY_MODEL_017aca05c9214cc1929d2b6eae6e156e"
      }
     },
     "42733af347b24deeb6820dafdba23586": {
      "model_module": "@jupyter-widgets/controls",
      "model_module_version": "1.5.0",
      "model_name": "CheckboxModel",
      "state": {
       "description": "Auto save",
       "disabled": false,
       "layout": "IPY_MODEL_d0a6d8e803054098abe932e3805dde62",
       "style": "IPY_MODEL_841666774d4c43d9ae6d7eaf452a6732",
       "value": false
      }
     },
     "427e64e328734c2ea2a19855b06e1544": {
      "model_module": "@jupyter-widgets/base",
      "model_module_version": "1.2.0",
      "model_name": "LayoutModel",
      "state": {}
     },
     "42899300951d4816b38de19a05816be9": {
      "model_module": "@jupyter-widgets/controls",
      "model_module_version": "1.5.0",
      "model_name": "ColorPickerModel",
      "state": {
       "description": "specular",
       "disabled": false,
       "layout": "IPY_MODEL_aa1527d107974d47bd2fd0186635a413",
       "style": "IPY_MODEL_83a85ac4e24a46dcb16123312e23679a",
       "value": "#282828"
      }
     },
     "428b97f3a6fc42759d90478a7ffb3457": {
      "model_module": "@jupyter-widgets/controls",
      "model_module_version": "1.5.0",
      "model_name": "ButtonModel",
      "state": {
       "description": "Add",
       "layout": "IPY_MODEL_f8bc8a94e6fc4a96a7ccd3d239c789b6",
       "style": "IPY_MODEL_0f41b5c50bdb442a8ef61d9d982b922d"
      }
     },
     "42a63d59593845ca8d64fb7a3a398a5a": {
      "model_module": "@jupyter-widgets/controls",
      "model_module_version": "1.5.0",
      "model_name": "ButtonModel",
      "state": {
       "description": "Add",
       "layout": "IPY_MODEL_bfcf3e600cd241bc9d5160e197b1e911",
       "style": "IPY_MODEL_d9d4c404d76e436f8e9995638352fdaa"
      }
     },
     "42a66a116d6e4ad2babe8908a1d40481": {
      "model_module": "@jupyter-widgets/controls",
      "model_module_version": "1.5.0",
      "model_name": "HBoxModel",
      "state": {
       "children": [
        "IPY_MODEL_15300167b1664d9682018422b0697519",
        "IPY_MODEL_4d2f274f932b4ef0994b8ac525736c86"
       ],
       "layout": "IPY_MODEL_6f5e6f5355bd440d8af5ee837dac75a9"
      }
     },
     "42bdc25840194831ac110172cc330d2c": {
      "model_module": "@jupyter-widgets/controls",
      "model_module_version": "1.5.0",
      "model_name": "HBoxModel",
      "state": {
       "children": [
        "IPY_MODEL_fafd54646a864f0485ae172b9494da07",
        "IPY_MODEL_5cdf0a890d1f47459e533b95f5fa6d12"
       ],
       "layout": "IPY_MODEL_7c6bc321cc134eba81eea73eeb840f28"
      }
     },
     "42c627ff3d74409cbca15e800caf7190": {
      "model_module": "@jupyter-widgets/controls",
      "model_module_version": "1.5.0",
      "model_name": "HBoxModel",
      "state": {
       "children": [
        "IPY_MODEL_311ce300b7c84bb79c37a6974f900649",
        "IPY_MODEL_a02f0afc7f6946cfbda70b9cb2bee9f9"
       ],
       "layout": "IPY_MODEL_ad0d38c2c2774e369fd4428f472136f0"
      }
     },
     "42e7b3c15d994cd6b5e009744d25d2cf": {
      "model_module": "@jupyter-widgets/base",
      "model_module_version": "1.2.0",
      "model_name": "LayoutModel",
      "state": {}
     },
     "42f6a0ce6998407886d1d89c57494c7e": {
      "model_module": "@jupyter-widgets/controls",
      "model_module_version": "1.5.0",
      "model_name": "DescriptionStyleModel",
      "state": {
       "description_width": ""
      }
     },
     "42f86bc00ec5429c81b76ab0e86707fb": {
      "model_module": "@jupyter-widgets/base",
      "model_module_version": "1.2.0",
      "model_name": "LayoutModel",
      "state": {}
     },
     "431315f0bf144d2fa04d6ffc24c515f9": {
      "model_module": "@jupyter-widgets/base",
      "model_module_version": "1.2.0",
      "model_name": "LayoutModel",
      "state": {}
     },
     "4324f2529e09415dadc3370833a9cf89": {
      "model_module": "@jupyter-widgets/base",
      "model_module_version": "1.2.0",
      "model_name": "LayoutModel",
      "state": {}
     },
     "436612109cc345eab450803b93d883e8": {
      "model_module": "@jupyter-widgets/controls",
      "model_module_version": "1.5.0",
      "model_name": "FloatTextModel",
      "state": {
       "description": "max",
       "layout": "IPY_MODEL_8cbb1af1d0af4ff9bb22fce6efa5827f",
       "step": null,
       "style": "IPY_MODEL_83a4686453db4032b8b41676af2640e3",
       "value": 0.1
      }
     },
     "436fd876208e40f2bed14a468634cd12": {
      "model_module": "@jupyter-widgets/base",
      "model_module_version": "1.2.0",
      "model_name": "LayoutModel",
      "state": {}
     },
     "4372a40b5e864ae785c713790258dbe4": {
      "model_module": "@jupyter-widgets/controls",
      "model_module_version": "1.5.0",
      "model_name": "ButtonModel",
      "state": {
       "description": "Delete",
       "layout": "IPY_MODEL_2b6bcb5538be448e892da6df8ef5fc7b",
       "style": "IPY_MODEL_9961b6fd43374fabbaa82d99027e4bb1"
      }
     },
     "43a396464ca047eb82af9b0128d1a7b9": {
      "model_module": "@jupyter-widgets/base",
      "model_module_version": "1.2.0",
      "model_name": "LayoutModel",
      "state": {}
     },
     "440acb6e8011430aa874cae6aefacb36": {
      "model_module": "@jupyter-widgets/base",
      "model_module_version": "1.2.0",
      "model_name": "LayoutModel",
      "state": {}
     },
     "44131773a2c94fe0b4f6cf36799a8fd5": {
      "model_module": "@jupyter-widgets/base",
      "model_module_version": "1.2.0",
      "model_name": "LayoutModel",
      "state": {}
     },
     "445f90f4d3de40cb874172bbb0b2c38d": {
      "model_module": "@jupyter-widgets/controls",
      "model_module_version": "1.5.0",
      "model_name": "TextModel",
      "state": {
       "continuous_update": false,
       "description": "name",
       "layout": "IPY_MODEL_3b4a50bb20de416aaf7650c47c84598b",
       "style": "IPY_MODEL_a986327c2f5f410491da6da14c2b9def",
       "value": "leafold"
      }
     },
     "446d0c4274894c3b975472f4d7fb6e63": {
      "model_module": "@jupyter-widgets/controls",
      "model_module_version": "1.5.0",
      "model_name": "ColorPickerModel",
      "state": {
       "description": "emission",
       "disabled": false,
       "layout": "IPY_MODEL_ea37aa48e5954c09acb575e2396d3c05",
       "style": "IPY_MODEL_53d7302061eb4c8dab94848618029115",
       "value": "#000000"
      }
     },
     "4474832739d44029bfbe0a393192f09b": {
      "model_module": "@jupyter-widgets/base",
      "model_module_version": "1.2.0",
      "model_name": "LayoutModel",
      "state": {}
     },
     "449c85b1a2fd45ca80ed62dfbe241426": {
      "model_module": "@jupyter-widgets/controls",
      "model_module_version": "1.5.0",
      "model_name": "FloatSliderModel",
      "state": {
       "continuous_update": false,
       "description": "value",
       "layout": "IPY_MODEL_0e83125bafcd45128549f748b59b3649",
       "max": 0.1,
       "min": 0.01,
       "step": 0.01,
       "style": "IPY_MODEL_985068152a494f6a9cd086225e496a1c",
       "value": 0.03
      }
     },
     "44ee20673cb54cb197bb19275c2ee931": {
      "model_module": "@jupyter-widgets/controls",
      "model_module_version": "1.5.0",
      "model_name": "DescriptionStyleModel",
      "state": {
       "description_width": ""
      }
     },
     "44f1703909314fab8a00501069423623": {
      "model_module": "@jupyter-widgets/base",
      "model_module_version": "1.2.0",
      "model_name": "LayoutModel",
      "state": {
       "flex_flow": "row wrap"
      }
     },
     "44f5b99592c446f1b50b0f9407cf4305": {
      "model_module": "@jupyter-widgets/controls",
      "model_module_version": "1.5.0",
      "model_name": "TabModel",
      "state": {
       "layout": "IPY_MODEL_ad28097795614babac3adcc76c9b471c"
      }
     },
     "45109e056cae4646bd13589740cb2e07": {
      "model_module": "@jupyter-widgets/controls",
      "model_module_version": "1.5.0",
      "model_name": "ButtonModel",
      "state": {
       "description": "Add",
       "layout": "IPY_MODEL_fdd783e8cd6f4152908064599bd69390",
       "style": "IPY_MODEL_b4b34b837b2e417eb78863606b1d6e8d"
      }
     },
     "455ba0e06d5247ffb20550cc7189a0a9": {
      "model_module": "@jupyter-widgets/controls",
      "model_module_version": "1.5.0",
      "model_name": "FloatSliderModel",
      "state": {
       "description": "transparency",
       "layout": "IPY_MODEL_6ecb092e2f024e54ab3e5a0f2fecdaa1",
       "max": 1,
       "step": 0.1,
       "style": "IPY_MODEL_b88afe6051704699a445a1ca92a8653e"
      }
     },
     "455df1ed61f5486cac7c517343725455": {
      "model_module": "@jupyter-widgets/controls",
      "model_module_version": "1.5.0",
      "model_name": "DescriptionStyleModel",
      "state": {
       "description_width": ""
      }
     },
     "455f8aeaffa441bf93d43f30ccfb8f01": {
      "model_module": "@jupyter-widgets/base",
      "model_module_version": "1.2.0",
      "model_name": "LayoutModel",
      "state": {}
     },
     "458fbc06550843999bb8f82e518d7bba": {
      "model_module": "pgljupyter",
      "model_module_version": "^0.1.21",
      "model_name": "ParameterEditorModel",
      "state": {
       "_model_module_version": "^0.1.21",
       "_view_module_version": "^0.1.21",
       "children": [
        "IPY_MODEL_963604a85f104c0ea8afa21693108092"
       ],
       "layout": "IPY_MODEL_a4c87564910c4791b7ebc8217ae6af21"
      }
     },
     "45975a20708e4eefa5f5626f0c67680a": {
      "model_module": "@jupyter-widgets/base",
      "model_module_version": "1.2.0",
      "model_name": "LayoutModel",
      "state": {}
     },
     "459815904a114cb9b092e8b2c8f014dd": {
      "model_module": "@jupyter-widgets/base",
      "model_module_version": "1.2.0",
      "model_name": "LayoutModel",
      "state": {
       "margin": "20px 0px"
      }
     },
     "45a3b4944c1a4688b18a9e80c13972c0": {
      "model_module": "@jupyter-widgets/base",
      "model_module_version": "1.2.0",
      "model_name": "LayoutModel",
      "state": {}
     },
     "45b176cc871b4434a95e3623b873c4fa": {
      "model_module": "@jupyter-widgets/base",
      "model_module_version": "1.2.0",
      "model_name": "LayoutModel",
      "state": {}
     },
     "45f98c4f44d14504a22ffa36469c7310": {
      "model_module": "@jupyter-widgets/base",
      "model_module_version": "1.2.0",
      "model_name": "LayoutModel",
      "state": {}
     },
     "4623abe30f8746eb94835fdc33c089af": {
      "model_module": "@jupyter-widgets/controls",
      "model_module_version": "1.5.0",
      "model_name": "SliderStyleModel",
      "state": {
       "description_width": ""
      }
     },
     "46559724ab7140ba983352954fb841c1": {
      "model_module": "@jupyter-widgets/base",
      "model_module_version": "1.2.0",
      "model_name": "LayoutModel",
      "state": {}
     },
     "466cc074ebc9465d93833472fef33beb": {
      "model_module": "@jupyter-widgets/base",
      "model_module_version": "1.2.0",
      "model_name": "LayoutModel",
      "state": {}
     },
     "468860202d6c4c5cbdaf75ab248c2dfa": {
      "model_module": "@jupyter-widgets/base",
      "model_module_version": "1.2.0",
      "model_name": "LayoutModel",
      "state": {}
     },
     "46bb048d9eec4d478fec36bfaa6b5a6b": {
      "model_module": "@jupyter-widgets/controls",
      "model_module_version": "1.5.0",
      "model_name": "DescriptionStyleModel",
      "state": {
       "description_width": ""
      }
     },
     "46dc8db3a2314364aef4e0c8d1978932": {
      "model_module": "@jupyter-widgets/controls",
      "model_module_version": "1.5.0",
      "model_name": "IntSliderModel",
      "state": {
       "description": "value",
       "layout": "IPY_MODEL_fb1b6686319348cb96f3381131e638e7",
       "max": 5,
       "min": 1,
       "style": "IPY_MODEL_0b93168b9537476da57b957c67d41cc5",
       "value": 4
      }
     },
     "4700fadcbf6740eeacfb5f4d5442bcc5": {
      "model_module": "@jupyter-widgets/controls",
      "model_module_version": "1.5.0",
      "model_name": "DescriptionStyleModel",
      "state": {
       "description_width": ""
      }
     },
     "4714391555864c2d8b0f394fb88fc2e4": {
      "model_module": "@jupyter-widgets/controls",
      "model_module_version": "1.5.0",
      "model_name": "CheckboxModel",
      "state": {
       "description": "Auto apply",
       "disabled": false,
       "layout": "IPY_MODEL_5f40ab866c114047b0d20c588be213e6",
       "style": "IPY_MODEL_849c2ebb88204ff3a3491bcf597bb0c2",
       "value": false
      }
     },
     "4720179570ea4e868498362e539111b3": {
      "model_module": "@jupyter-widgets/controls",
      "model_module_version": "1.5.0",
      "model_name": "IntSliderModel",
      "state": {
       "description": "value",
       "layout": "IPY_MODEL_c737fed3f4b647319d521b5a01ed5013",
       "max": 10,
       "min": 1,
       "style": "IPY_MODEL_f6d0532b4d034ab5add8a942c8036f27",
       "value": 2
      }
     },
     "473617a3b3a74ffb93086ff4b9f2d61a": {
      "model_module": "@jupyter-widgets/base",
      "model_module_version": "1.2.0",
      "model_name": "LayoutModel",
      "state": {}
     },
     "47a676e89113488bb3cee21941e5aba5": {
      "model_module": "@jupyter-widgets/base",
      "model_module_version": "1.2.0",
      "model_name": "LayoutModel",
      "state": {}
     },
     "47c2ee699e6a4f7c83103495961650b0": {
      "model_module": "@jupyter-widgets/base",
      "model_module_version": "1.2.0",
      "model_name": "LayoutModel",
      "state": {}
     },
     "47c4dd25604a48a1b5557177fd515750": {
      "model_module": "@jupyter-widgets/base",
      "model_module_version": "1.2.0",
      "model_name": "LayoutModel",
      "state": {}
     },
     "47cab6d01e35497189f8f2866f69ad79": {
      "model_module": "@jupyter-widgets/base",
      "model_module_version": "1.2.0",
      "model_name": "LayoutModel",
      "state": {}
     },
     "47fb3c80b04646738a440b8943ebe585": {
      "model_module": "@jupyter-widgets/base",
      "model_module_version": "1.2.0",
      "model_name": "LayoutModel",
      "state": {}
     },
     "48081768731e4a308ef6582f5108536e": {
      "model_module": "@jupyter-widgets/base",
      "model_module_version": "1.2.0",
      "model_name": "LayoutModel",
      "state": {}
     },
     "481a58dae7e14912a728666f6352c9b3": {
      "model_module": "@jupyter-widgets/base",
      "model_module_version": "1.2.0",
      "model_name": "LayoutModel",
      "state": {}
     },
     "481cf82ea8244cf4b9b9b31187903bc6": {
      "model_module": "@jupyter-widgets/base",
      "model_module_version": "1.2.0",
      "model_name": "LayoutModel",
      "state": {}
     },
     "4846a27e60cc441d93d5c535ffde0e6e": {
      "model_module": "@jupyter-widgets/controls",
      "model_module_version": "1.5.0",
      "model_name": "HBoxModel",
      "state": {
       "children": [
        "IPY_MODEL_6afde54ff02642b099358c5671f1b873",
        "IPY_MODEL_cd1d503025f94455898cda591460f5da"
       ],
       "layout": "IPY_MODEL_dae8d0d2b5a24ba3a4caef5ae026ea60"
      }
     },
     "4885badfb81242a3a0e907414c08b51f": {
      "model_module": "@jupyter-widgets/base",
      "model_module_version": "1.2.0",
      "model_name": "LayoutModel",
      "state": {}
     },
     "48a9dc8b95d14018a1273a4583c91c32": {
      "model_module": "@jupyter-widgets/base",
      "model_module_version": "1.2.0",
      "model_name": "LayoutModel",
      "state": {}
     },
     "48b02d61921140799c9d50de4e6abab8": {
      "model_module": "@jupyter-widgets/controls",
      "model_module_version": "1.5.0",
      "model_name": "HBoxModel",
      "state": {
       "children": [
        "IPY_MODEL_9f1b252d842443fc95ac8e7e4f03c95a",
        "IPY_MODEL_d1e4b02c15bb44948c22e7d933636530"
       ],
       "layout": "IPY_MODEL_56e10c5df99d4496a1c8da99197f9358"
      }
     },
     "48dad82cb0874a77af8613d9cc02e5b8": {
      "model_module": "@jupyter-widgets/controls",
      "model_module_version": "1.5.0",
      "model_name": "DropdownModel",
      "state": {
       "index": null,
       "layout": "IPY_MODEL_93b7d193d72342788a68a1d372519ba3",
       "style": "IPY_MODEL_03b7ff59bdfb45ae9fec96faf9e7b637"
      }
     },
     "49142d5fe84f451ca57bf7979546be3b": {
      "model_module": "@jupyter-widgets/controls",
      "model_module_version": "1.5.0",
      "model_name": "VBoxModel",
      "state": {
       "children": [
        "IPY_MODEL_7b26c458dc7d4deba33285df9fe694dc",
        "IPY_MODEL_dc891aa6241b421da0cabf4ab08e3d0e"
       ],
       "layout": "IPY_MODEL_181662f4cedf410dac5bab4e1bf8645f"
      }
     },
     "4928061e04e84f6ea5f8e22041842c65": {
      "model_module": "@jupyter-widgets/controls",
      "model_module_version": "1.5.0",
      "model_name": "FloatSliderModel",
      "state": {
       "description": "diffuse",
       "layout": "IPY_MODEL_9d3e8bfa637b4501a40010eae48c2c9e",
       "max": 3,
       "step": 0.1,
       "style": "IPY_MODEL_f223c7d886294225be0b4cb6d842a989",
       "value": 1
      }
     },
     "49306a0c91164b7a808f80e189b3a9ee": {
      "model_module": "@jupyter-widgets/base",
      "model_module_version": "1.2.0",
      "model_name": "LayoutModel",
      "state": {
       "margin": "20px 0px"
      }
     },
     "4933c3be1ca74d3b87e7deac4ab3fa84": {
      "model_module": "@jupyter-widgets/controls",
      "model_module_version": "1.5.0",
      "model_name": "TextModel",
      "state": {
       "continuous_update": false,
       "description": "name",
       "layout": "IPY_MODEL_998772480aac452387c45481c4a8859d",
       "style": "IPY_MODEL_2b2537aec03a486682b37fa201430b15",
       "value": "leafduration"
      }
     },
     "4958d672242649e6ba8c129a89e468d4": {
      "model_module": "@jupyter-widgets/base",
      "model_module_version": "1.2.0",
      "model_name": "LayoutModel",
      "state": {}
     },
     "496e48f80ba34d7389289f84ed07049f": {
      "model_module": "@jupyter-widgets/controls",
      "model_module_version": "1.5.0",
      "model_name": "DescriptionStyleModel",
      "state": {
       "description_width": ""
      }
     },
     "498f774db8944cf9acb68dfb080f9434": {
      "model_module": "@jupyter-widgets/base",
      "model_module_version": "1.2.0",
      "model_name": "LayoutModel",
      "state": {}
     },
     "49a7444e59d04369babbc00ebc4fd1d6": {
      "model_module": "@jupyter-widgets/controls",
      "model_module_version": "1.5.0",
      "model_name": "ColorPickerModel",
      "state": {
       "description": "specular",
       "disabled": false,
       "layout": "IPY_MODEL_db946cbbdb794b6498a7220ba95a9042",
       "style": "IPY_MODEL_f0360e90f8844f669efb780ee3af11e8",
       "value": "#282828"
      }
     },
     "49abdf9d78524715a97cc756c7cc26ee": {
      "model_module": "@jupyter-widgets/controls",
      "model_module_version": "1.5.0",
      "model_name": "ButtonStyleModel",
      "state": {}
     },
     "49bae710026d4abebe418948abc24209": {
      "model_module": "@jupyter-widgets/controls",
      "model_module_version": "1.5.0",
      "model_name": "DescriptionStyleModel",
      "state": {
       "description_width": ""
      }
     },
     "49c13f7f61b74fdeb6c2e02c3d02da5a": {
      "model_module": "@jupyter-widgets/controls",
      "model_module_version": "1.5.0",
      "model_name": "HBoxModel",
      "state": {
       "children": [
        "IPY_MODEL_e8a23a012cbf4853a330e912e3cad92f",
        "IPY_MODEL_9d1c471f6aa5499386c9cee5a496cdfc",
        "IPY_MODEL_221397e9ebd543a29b72321488035216"
       ],
       "layout": "IPY_MODEL_7d638b1bb84145df842f1629b3b977bb"
      }
     },
     "49d68010fc084f1ebd5a1e73fb6c31af": {
      "model_module": "pgljupyter",
      "model_module_version": "^0.1.17",
      "model_name": "MaterialEditorModel",
      "state": {
       "_model_module_version": "^0.1.17",
       "_view_module_version": "^0.1.17",
       "children": [
        "IPY_MODEL_d1f553a8e0e14ca8939fd7facfe7bdd0",
        "IPY_MODEL_b483a839a4094147ab01f3c7d19bb1ac",
        "IPY_MODEL_9991cdc311734263a5179071275bff7c",
        "IPY_MODEL_06da4c288f8b48efae9708615015dd07",
        "IPY_MODEL_4928061e04e84f6ea5f8e22041842c65",
        "IPY_MODEL_67461a76be584a8b8d2fa4e2f8aa7d24",
        "IPY_MODEL_5728fafc0bd4433f81791185f2f8a527"
       ],
       "layout": "IPY_MODEL_3b280508434144bfb2cc499f02a544f3"
      }
     },
     "49d8421d6f4e4d488db1bd655f89a30e": {
      "model_module": "@jupyter-widgets/base",
      "model_module_version": "1.2.0",
      "model_name": "LayoutModel",
      "state": {}
     },
     "4a28f656400b498e9b4a70690a4229a8": {
      "model_module": "@jupyter-widgets/controls",
      "model_module_version": "1.5.0",
      "model_name": "DescriptionStyleModel",
      "state": {
       "description_width": ""
      }
     },
     "4a2ccff224ef48f09723ba6a231d6640": {
      "model_module": "@jupyter-widgets/base",
      "model_module_version": "1.2.0",
      "model_name": "LayoutModel",
      "state": {
       "margin": "20px 0px"
      }
     },
     "4a48e3b56b974227bcbb4111eb32acbb": {
      "model_module": "@jupyter-widgets/controls",
      "model_module_version": "1.5.0",
      "model_name": "SliderStyleModel",
      "state": {
       "description_width": ""
      }
     },
     "4a8af0be878b499d97a7bae1ed0009d0": {
      "model_module": "@jupyter-widgets/controls",
      "model_module_version": "1.5.0",
      "model_name": "DescriptionStyleModel",
      "state": {
       "description_width": ""
      }
     },
     "4ad56d578f64435bb7040e6288f8436f": {
      "model_module": "@jupyter-widgets/controls",
      "model_module_version": "1.5.0",
      "model_name": "SliderStyleModel",
      "state": {
       "description_width": ""
      }
     },
     "4afd330d8b794b27b31b952402605af2": {
      "model_module": "@jupyter-widgets/controls",
      "model_module_version": "1.5.0",
      "model_name": "ColorPickerModel",
      "state": {
       "description": "ambient",
       "disabled": false,
       "layout": "IPY_MODEL_6122fb292c0c44039d410f9afbe16534",
       "style": "IPY_MODEL_bf5f584ba47f4eb58e2144997c9fbd8f",
       "value": "#0fc4db"
      }
     },
     "4b1277c24015447389de967d778203f6": {
      "model_module": "@jupyter-widgets/controls",
      "model_module_version": "1.5.0",
      "model_name": "FloatSliderModel",
      "state": {
       "continuous_update": false,
       "description": "shininess",
       "layout": "IPY_MODEL_e9daa491099b49fc9c13441be4dd0053",
       "max": 1,
       "step": 0.1,
       "style": "IPY_MODEL_53d9d8555112435ca7e994d55ff432d5",
       "value": 0.2
      }
     },
     "4b2b575ede144d15b37a9b26cc73c875": {
      "model_module": "@jupyter-widgets/base",
      "model_module_version": "1.2.0",
      "model_name": "LayoutModel",
      "state": {}
     },
     "4b4fb8f835ff4f25801bdcf57fb1eba4": {
      "model_module": "@jupyter-widgets/base",
      "model_module_version": "1.2.0",
      "model_name": "LayoutModel",
      "state": {}
     },
     "4b7afeaad0934ef3b8ed7e9d8d2cd9c9": {
      "model_module": "@jupyter-widgets/base",
      "model_module_version": "1.2.0",
      "model_name": "LayoutModel",
      "state": {}
     },
     "4b847adc42dd44cc8851741209771151": {
      "model_module": "@jupyter-widgets/base",
      "model_module_version": "1.2.0",
      "model_name": "LayoutModel",
      "state": {}
     },
     "4b95e9dc9d3e4efbb9ed6d24b62872e9": {
      "model_module": "@jupyter-widgets/base",
      "model_module_version": "1.2.0",
      "model_name": "LayoutModel",
      "state": {}
     },
     "4ba98a3088f249428269655303174413": {
      "model_module": "@jupyter-widgets/base",
      "model_module_version": "1.2.0",
      "model_name": "LayoutModel",
      "state": {}
     },
     "4bd32345c7094c9b83e1d6211f92d7df": {
      "model_module": "@jupyter-widgets/controls",
      "model_module_version": "1.5.0",
      "model_name": "ButtonModel",
      "state": {
       "description": "Delete",
       "layout": "IPY_MODEL_29cb9888dbcc4dc9bc915fc90fd8998a",
       "style": "IPY_MODEL_ce7e6e96ec964535b8172165fd984f5a"
      }
     },
     "4be4fe9b98574f5e94986b02b8c225cb": {
      "model_module": "@jupyter-widgets/base",
      "model_module_version": "1.2.0",
      "model_name": "LayoutModel",
      "state": {}
     },
     "4bf0c1f1957b48469384dbe0faad91c2": {
      "model_module": "pgljupyter",
      "model_module_version": "^0.2.0",
      "model_name": "MaterialEditorModel",
      "state": {
       "_model_module_version": "^0.2.0",
       "_view_module_version": "^0.2.0",
       "children": [
        "IPY_MODEL_94d95cd1937246618d8bd9dde60c742b",
        "IPY_MODEL_b9a7dd3f00544db199e86604e6f76867",
        "IPY_MODEL_d28067c4931743aca1bc823ffb01f353",
        "IPY_MODEL_49a7444e59d04369babbc00ebc4fd1d6",
        "IPY_MODEL_fbc28d4867664e83b912b970159719cf",
        "IPY_MODEL_cd18808436ce4ac78c1eb074bdea5bc5",
        "IPY_MODEL_23b71bd3d43a46858d0d86b6e18210b8",
        "IPY_MODEL_407103a332f345d8bf4ea5aa6a021916"
       ],
       "layout": "IPY_MODEL_0a605ffb4f624917ba41278f33b71117"
      }
     },
     "4bfa6e2f73c74bffa75861116f13ec31": {
      "model_module": "@jupyter-widgets/controls",
      "model_module_version": "1.5.0",
      "model_name": "DescriptionStyleModel",
      "state": {
       "description_width": ""
      }
     },
     "4c0cd242021b4387b84906f781be597f": {
      "model_module": "@jupyter-widgets/base",
      "model_module_version": "1.2.0",
      "model_name": "LayoutModel",
      "state": {}
     },
     "4c1b928d9c39493b83808770f5705abb": {
      "model_module": "@jupyter-widgets/controls",
      "model_module_version": "1.5.0",
      "model_name": "DescriptionStyleModel",
      "state": {
       "description_width": ""
      }
     },
     "4c44f5e9ec414505a6576ceb754bc067": {
      "model_module": "@jupyter-widgets/base",
      "model_module_version": "1.2.0",
      "model_name": "LayoutModel",
      "state": {}
     },
     "4c59ca8cf18245f5a14540938a82f127": {
      "model_module": "@jupyter-widgets/controls",
      "model_module_version": "1.5.0",
      "model_name": "HBoxModel",
      "state": {
       "children": [
        "IPY_MODEL_fcdb0e54646c4bbbb1485f7cb42b4bbc",
        "IPY_MODEL_b3beeeb252564f9193c765e7fe7136a4"
       ],
       "layout": "IPY_MODEL_a0c58eb759874d7aabec070d0f8f4e28"
      }
     },
     "4c6828d30e454b219dd59636daba61a2": {
      "model_module": "@jupyter-widgets/controls",
      "model_module_version": "1.5.0",
      "model_name": "FloatSliderModel",
      "state": {
       "description": "diffuse",
       "layout": "IPY_MODEL_29ada92f78534b5a8245a40f76bd758a",
       "max": 3,
       "step": 0.1,
       "style": "IPY_MODEL_5030d93db7d84db8beba5be10c0fdb22",
       "value": 1
      }
     },
     "4c81abb4c66846b5a198148d5fde3afe": {
      "model_module": "@jupyter-widgets/controls",
      "model_module_version": "1.5.0",
      "model_name": "SliderStyleModel",
      "state": {
       "description_width": ""
      }
     },
     "4c9d04011f15472db454f026ea6b3c07": {
      "model_module": "@jupyter-widgets/base",
      "model_module_version": "1.2.0",
      "model_name": "LayoutModel",
      "state": {}
     },
     "4c9de94bf18940cfa243f8ce5bd981ff": {
      "model_module": "@jupyter-widgets/controls",
      "model_module_version": "1.5.0",
      "model_name": "TabModel",
      "state": {
       "layout": "IPY_MODEL_d823d7a84c874bdfa2e19e5a2952a317"
      }
     },
     "4ca74ce323174e558e881e7f83c25b30": {
      "model_module": "@jupyter-widgets/controls",
      "model_module_version": "1.5.0",
      "model_name": "ButtonModel",
      "state": {
       "description": "Add",
       "layout": "IPY_MODEL_c7392a724df448aeb54bda6da04bb735",
       "style": "IPY_MODEL_986f1e0e898f4259af59feb5928fa85f"
      }
     },
     "4cbdfd51fc7a4d0aa56146812cc120e6": {
      "model_module": "pgljupyter",
      "model_module_version": "^0.1.21",
      "model_name": "IntEditorModel",
      "state": {
       "_model_module_version": "^0.1.21",
       "_view_module_version": "^0.1.21",
       "children": [
        "IPY_MODEL_2f44d75cf5a94a1f952b35bf8347abb8",
        "IPY_MODEL_0ca1da812e904b3597a1f8d0066aa817"
       ],
       "layout": "IPY_MODEL_f06f7a31a7f6416183260274d8da1272"
      }
     },
     "4cc61bf11bdd449f8a15ee9f20326662": {
      "model_module": "@jupyter-widgets/controls",
      "model_module_version": "1.5.0",
      "model_name": "ColorPickerModel",
      "state": {
       "description": "specular",
       "disabled": false,
       "layout": "IPY_MODEL_32f9213597194d8bb44e46d1c99c84fb",
       "style": "IPY_MODEL_7c4db97ead9f439e8fe449d24de9b82d",
       "value": "#282828"
      }
     },
     "4cd38825a8884057bf5bc40058c1ffbc": {
      "model_module": "@jupyter-widgets/base",
      "model_module_version": "1.2.0",
      "model_name": "LayoutModel",
      "state": {}
     },
     "4d1b7f47fb8742fc8f79ea08ede8715b": {
      "model_module": "@jupyter-widgets/controls",
      "model_module_version": "1.5.0",
      "model_name": "DescriptionStyleModel",
      "state": {
       "description_width": ""
      }
     },
     "4d1d2003f29c41ff8de536581cacd952": {
      "model_module": "@jupyter-widgets/controls",
      "model_module_version": "1.5.0",
      "model_name": "FloatSliderModel",
      "state": {
       "description": "value",
       "layout": "IPY_MODEL_4b95e9dc9d3e4efbb9ed6d24b62872e9",
       "max": 0.1,
       "min": 0.01,
       "step": 0.01,
       "style": "IPY_MODEL_1165440a552f44e8874ff2662c8016cf",
       "value": 0.03
      }
     },
     "4d2f274f932b4ef0994b8ac525736c86": {
      "model_module": "pgljupyter",
      "model_module_version": "^0.1.19",
      "model_name": "IntEditorModel",
      "state": {
       "_model_module_version": "^0.1.19",
       "_view_module_version": "^0.1.19",
       "children": [
        "IPY_MODEL_0008873d24ed4fa3b871bc34051bd716",
        "IPY_MODEL_7f4e36825ae64c65830760a42614b069"
       ],
       "layout": "IPY_MODEL_8b961dc464fe4120b95633845d5c9860"
      }
     },
     "4d61064357674c97bb169c5602e69545": {
      "model_module": "@jupyter-widgets/base",
      "model_module_version": "1.2.0",
      "model_name": "LayoutModel",
      "state": {}
     },
     "4d77f69f74244057baec36b232f87f78": {
      "model_module": "@jupyter-widgets/base",
      "model_module_version": "1.2.0",
      "model_name": "LayoutModel",
      "state": {
       "flex_flow": "row wrap",
       "margin": "20px"
      }
     },
     "4d79e8bd62ba46e7b8991120fe395616": {
      "model_module": "@jupyter-widgets/base",
      "model_module_version": "1.2.0",
      "model_name": "LayoutModel",
      "state": {}
     },
     "4d9c47832bb743058b80a0b7ef230074": {
      "model_module": "@jupyter-widgets/controls",
      "model_module_version": "1.5.0",
      "model_name": "TextModel",
      "state": {
       "continuous_update": false,
       "description": "name",
       "layout": "IPY_MODEL_e2c963c5cf35423c8c5649096e21e578",
       "style": "IPY_MODEL_9912022f5d81416fae20d7fb32ee621a",
       "value": "leafduration"
      }
     },
     "4dbcb1266bf2455cbfa6f83b1f69516a": {
      "model_module": "@jupyter-widgets/controls",
      "model_module_version": "1.5.0",
      "model_name": "ButtonModel",
      "state": {
       "description": "Add",
       "layout": "IPY_MODEL_b8ad8d8c9f124093b14f64a259771967",
       "style": "IPY_MODEL_f5c031c73e2d41bf8b06494de1a94e89"
      }
     },
     "4dccc1a6b2aa4555ba52f45eb750b218": {
      "model_module": "pgljupyter",
      "model_module_version": "^0.2.0",
      "model_name": "FloatEditorModel",
      "state": {
       "_model_module_version": "^0.2.0",
       "_view_module_version": "^0.2.0",
       "children": [
        "IPY_MODEL_1fbbf5e052d94a73b8637548af5f55ea",
        "IPY_MODEL_449c85b1a2fd45ca80ed62dfbe241426"
       ],
       "layout": "IPY_MODEL_f1b271a66d614793b1839806e98da617"
      }
     },
     "4dd92aefda304f2781e1837f27d5ddf7": {
      "model_module": "@jupyter-widgets/controls",
      "model_module_version": "1.5.0",
      "model_name": "DescriptionStyleModel",
      "state": {
       "description_width": ""
      }
     },
     "4ddda9a00bbf42d6aacbcebecf226354": {
      "model_module": "@jupyter-widgets/base",
      "model_module_version": "1.2.0",
      "model_name": "LayoutModel",
      "state": {}
     },
     "4e7c5a348d354d778c2e8fac651d24ae": {
      "model_module": "@jupyter-widgets/controls",
      "model_module_version": "1.5.0",
      "model_name": "FloatSliderModel",
      "state": {
       "description": "diffuse",
       "layout": "IPY_MODEL_57dca5ae89cf4763919d1cd33c070eed",
       "max": 3,
       "step": 0.1,
       "style": "IPY_MODEL_eacdf3892401422d966ce9bdf9102e5d",
       "value": 1
      }
     },
     "4ee93253ee1e4f019df07258a39d8b47": {
      "model_module": "@jupyter-widgets/controls",
      "model_module_version": "1.5.0",
      "model_name": "HBoxModel",
      "state": {
       "children": [
        "IPY_MODEL_421e1166bf044e938a7c55bfb05fe175"
       ],
       "layout": "IPY_MODEL_f7ff34c66d4b431c8d7a458913ac23de"
      }
     },
     "4ef238a8a44a43369f6ff4c32bb90c5c": {
      "model_module": "@jupyter-widgets/base",
      "model_module_version": "1.2.0",
      "model_name": "LayoutModel",
      "state": {}
     },
     "4f04e84e06f04f2187ac0562bd5d7982": {
      "model_module": "@jupyter-widgets/base",
      "model_module_version": "1.2.0",
      "model_name": "LayoutModel",
      "state": {
       "margin": "20px 0px"
      }
     },
     "4f2e7e2a7b8a4fccaec815c1a8349f02": {
      "model_module": "@jupyter-widgets/base",
      "model_module_version": "1.2.0",
      "model_name": "LayoutModel",
      "state": {}
     },
     "4f4c3d6a0c30403289cf9f2587fca3e3": {
      "model_module": "pgljupyter",
      "model_module_version": "^0.1.17",
      "model_name": "ParameterEditorModel",
      "state": {
       "_model_module_version": "^0.1.17",
       "_view_module_version": "^0.1.17",
       "children": [
        "IPY_MODEL_56ca9cfe6576423da575a7edfbeda8a1"
       ],
       "layout": "IPY_MODEL_70f57e2c0344454288ed8ac17019df5e"
      }
     },
     "4f77c9429d614340bdb8d72a7fb65751": {
      "model_module": "pgljupyter",
      "model_module_version": "^0.1.16",
      "model_name": "LsystemWidgetModel",
      "state": {
       "_model_module_version": "^0.1.16",
       "_view_module_version": "^0.1.16",
       "axes_helper": false,
       "derivationLength": 41,
       "layout": "IPY_MODEL_44131773a2c94fe0b4f6cf36799a8fd5",
       "light_helper": false,
       "plane": true,
       "size_display": [
        400,
        400
       ],
       "size_world": 50
      }
     },
     "4fbf2b45694848a9aa03aadb8fb5d86c": {
      "model_module": "@jupyter-widgets/base",
      "model_module_version": "1.2.0",
      "model_name": "LayoutModel",
      "state": {}
     },
     "5030d93db7d84db8beba5be10c0fdb22": {
      "model_module": "@jupyter-widgets/controls",
      "model_module_version": "1.5.0",
      "model_name": "SliderStyleModel",
      "state": {
       "description_width": ""
      }
     },
     "504c852fdd62470d9fce5fbb9e9e18bc": {
      "model_module": "@jupyter-widgets/controls",
      "model_module_version": "1.5.0",
      "model_name": "DescriptionStyleModel",
      "state": {
       "description_width": ""
      }
     },
     "5050ca46763b42f48c282cd082ef9b5e": {
      "model_module": "@jupyter-widgets/base",
      "model_module_version": "1.2.0",
      "model_name": "LayoutModel",
      "state": {}
     },
     "507c278a49a4489790e00ac34fb9023e": {
      "model_module": "@jupyter-widgets/controls",
      "model_module_version": "1.5.0",
      "model_name": "TabModel",
      "state": {
       "layout": "IPY_MODEL_ba3a3559ee5e49c19408ce2e75b666f1"
      }
     },
     "50c897762f9846d38e9f8e2de2d19de2": {
      "model_module": "@jupyter-widgets/controls",
      "model_module_version": "1.5.0",
      "model_name": "VBoxModel",
      "state": {
       "children": [
        "IPY_MODEL_1d1c9cc08a664ea3b55b7a47fcfdc251",
        "IPY_MODEL_2f0afcc5db404c0c9baabdd8288c7f23"
       ],
       "layout": "IPY_MODEL_8df2887e514042d1ac28d987a7d3f39d"
      }
     },
     "50df7fad8d974b4992fd0cea68bec79c": {
      "model_module": "@jupyter-widgets/controls",
      "model_module_version": "1.5.0",
      "model_name": "ButtonModel",
      "state": {
       "description": "Add",
       "layout": "IPY_MODEL_56fc22890f4a4ca080684ec9625a905f",
       "style": "IPY_MODEL_110ae91fb5c943dab79aeb29f57c0fcc"
      }
     },
     "510489c076f34b2bb4ed405c0bd2e184": {
      "model_module": "@jupyter-widgets/controls",
      "model_module_version": "1.5.0",
      "model_name": "ButtonStyleModel",
      "state": {}
     },
     "51298c491bb74c49aa13975c0b81b43a": {
      "model_module": "@jupyter-widgets/base",
      "model_module_version": "1.2.0",
      "model_name": "LayoutModel",
      "state": {}
     },
     "5151e6200d794a008b1bd7d40fbc162c": {
      "model_module": "@jupyter-widgets/controls",
      "model_module_version": "1.5.0",
      "model_name": "TextModel",
      "state": {
       "continuous_update": false,
       "description": "name",
       "layout": "IPY_MODEL_3bc82dbd12c54e549771ee3d9cd55b1d",
       "style": "IPY_MODEL_e2959aa92f7d44c2a5d6d06683c7f898",
       "value": "leafduration"
      }
     },
     "51585e2af8b345d584039f57e61a325f": {
      "model_module": "@jupyter-widgets/base",
      "model_module_version": "1.2.0",
      "model_name": "LayoutModel",
      "state": {
       "margin": "20px 0px"
      }
     },
     "51920d8d6d7c4da288410f94a97533ff": {
      "model_module": "@jupyter-widgets/controls",
      "model_module_version": "1.5.0",
      "model_name": "FloatSliderModel",
      "state": {
       "description": "value",
       "layout": "IPY_MODEL_e483f04bf9ee473983a54480be56ae94",
       "max": 0.1,
       "min": 0.01,
       "step": 0.01,
       "style": "IPY_MODEL_31516d112bb34f208b3e2ebaa6a85f0f",
       "value": 0.03
      }
     },
     "51ac257bcf38442c82fc060061bddd6c": {
      "model_module": "@jupyter-widgets/base",
      "model_module_version": "1.2.0",
      "model_name": "LayoutModel",
      "state": {}
     },
     "51cef2aa605e461f8d0f1f518f7427c4": {
      "model_module": "@jupyter-widgets/controls",
      "model_module_version": "1.5.0",
      "model_name": "ButtonModel",
      "state": {
       "description": "Delete",
       "layout": "IPY_MODEL_ac5bccc43bad4cf1b629ee62e886ec74",
       "style": "IPY_MODEL_36a0f787f1b14b6a9e881d9b89dbe6f9"
      }
     },
     "51deaef56dce430dae6fc3f320f5ae3e": {
      "model_module": "@jupyter-widgets/controls",
      "model_module_version": "1.5.0",
      "model_name": "BoundedIntTextModel",
      "state": {
       "description": "index",
       "layout": "IPY_MODEL_dd0076f5130e4b019ecac08f8ecf14e6",
       "style": "IPY_MODEL_54b4b06b01a146878a34d785819acd4e",
       "value": 3
      }
     },
     "526eb050a3ef4576aa3195631f16da0b": {
      "model_module": "@jupyter-widgets/controls",
      "model_module_version": "1.5.0",
      "model_name": "TextModel",
      "state": {
       "continuous_update": false,
       "description": "name",
       "layout": "IPY_MODEL_abb8dd22248e47baa61d0443c5c01957",
       "style": "IPY_MODEL_37056445934e4abba973138c48789f20",
       "value": "leafold"
      }
     },
     "529e918b5e134ca5a4af51bf8651b987": {
      "model_module": "@jupyter-widgets/controls",
      "model_module_version": "1.5.0",
      "model_name": "DropdownModel",
      "state": {
       "index": null,
       "layout": "IPY_MODEL_d8b7d3f852be4323a7cb38d583268863",
       "style": "IPY_MODEL_2b0ed78f41644859a87787f1255e1b81"
      }
     },
     "52ed086a39d24a57919b206846df9aba": {
      "model_module": "@jupyter-widgets/base",
      "model_module_version": "1.2.0",
      "model_name": "LayoutModel",
      "state": {}
     },
     "530074057fcd4130a243bde3a073669b": {
      "model_module": "@jupyter-widgets/base",
      "model_module_version": "1.2.0",
      "model_name": "LayoutModel",
      "state": {}
     },
     "5301dbd8a23f4528acd9e2c505d69fa9": {
      "model_module": "pgljupyter",
      "model_module_version": "^0.1.21",
      "model_name": "IntEditorModel",
      "state": {
       "_model_module_version": "^0.1.21",
       "_view_module_version": "^0.1.21",
       "children": [
        "IPY_MODEL_c54af388f2644be9bbacd4f598e6ceaa",
        "IPY_MODEL_46dc8db3a2314364aef4e0c8d1978932"
       ],
       "layout": "IPY_MODEL_5da34500d955448089199df04319e205"
      }
     },
     "53095037c0fc41f0ad798cc1f327c12f": {
      "model_module": "@jupyter-widgets/controls",
      "model_module_version": "1.5.0",
      "model_name": "AccordionModel",
      "state": {
       "_titles": {
        "0": "materials",
        "1": "leaf",
        "2": "trunk & branches"
       },
       "children": [
        "IPY_MODEL_c361327190724646be840782bc716cef",
        "IPY_MODEL_9773821d863c41edbda8c72cf73d3bc6",
        "IPY_MODEL_8e7f32c1ba3149af89ee115dcce7233a"
       ],
       "layout": "IPY_MODEL_5f2ecb128cba4ce0ae2ed4b650b085bd"
      }
     },
     "5313a6c7af9a419392d903b7d51fe041": {
      "model_module": "@jupyter-widgets/controls",
      "model_module_version": "1.5.0",
      "model_name": "SliderStyleModel",
      "state": {
       "description_width": ""
      }
     },
     "53592ff1413b4aadb82fbe457a467666": {
      "model_module": "@jupyter-widgets/controls",
      "model_module_version": "1.5.0",
      "model_name": "HBoxModel",
      "state": {
       "children": [
        "IPY_MODEL_b248996a41fc4f39b8f71cd98044d51f",
        "IPY_MODEL_badf1d6936f34af5a14df64809ef893c"
       ],
       "layout": "IPY_MODEL_4d77f69f74244057baec36b232f87f78"
      }
     },
     "536987696dc742f1b1bc51ca8d040a1d": {
      "model_module": "@jupyter-widgets/controls",
      "model_module_version": "1.5.0",
      "model_name": "FloatSliderModel",
      "state": {
       "description": "shininess",
       "layout": "IPY_MODEL_209c033af72d44e3a0b13ab8001e5335",
       "max": 1,
       "step": 0.1,
       "style": "IPY_MODEL_94dd3b9fa9fc40afbb444d490ee4bac3",
       "value": 0.2
      }
     },
     "537f1d906667422699e2fce4b5f31496": {
      "model_module": "@jupyter-widgets/controls",
      "model_module_version": "1.5.0",
      "model_name": "DescriptionStyleModel",
      "state": {
       "description_width": ""
      }
     },
     "539f9d1af9924f4db2438bbbeeb51b54": {
      "model_module": "@jupyter-widgets/base",
      "model_module_version": "1.2.0",
      "model_name": "LayoutModel",
      "state": {}
     },
     "53c5b2262f9846a5adfdd7d45ce21b69": {
      "model_module": "@jupyter-widgets/controls",
      "model_module_version": "1.5.0",
      "model_name": "SliderStyleModel",
      "state": {
       "description_width": ""
      }
     },
     "53d7302061eb4c8dab94848618029115": {
      "model_module": "@jupyter-widgets/controls",
      "model_module_version": "1.5.0",
      "model_name": "DescriptionStyleModel",
      "state": {
       "description_width": ""
      }
     },
     "53d9d8555112435ca7e994d55ff432d5": {
      "model_module": "@jupyter-widgets/controls",
      "model_module_version": "1.5.0",
      "model_name": "SliderStyleModel",
      "state": {
       "description_width": ""
      }
     },
     "53e9fb96eb5c4e49af7c1126d83fd454": {
      "model_module": "@jupyter-widgets/controls",
      "model_module_version": "1.5.0",
      "model_name": "DropdownModel",
      "state": {
       "_options_labels": [
        "leafduration",
        "leafold"
       ],
       "index": 0,
       "layout": "IPY_MODEL_0f3555076683451287b13688376b8b4e",
       "style": "IPY_MODEL_bb3613145b68440ba42bf478df5b13af"
      }
     },
     "5404c74b739a4b1f9611340837468322": {
      "model_module": "@jupyter-widgets/base",
      "model_module_version": "1.2.0",
      "model_name": "LayoutModel",
      "state": {}
     },
     "543008b05d50479590c3d4e3bc492779": {
      "model_module": "@jupyter-widgets/controls",
      "model_module_version": "1.5.0",
      "model_name": "IntSliderModel",
      "state": {
       "description": "value",
       "layout": "IPY_MODEL_cffb33bebb154befa460f5be28ee06de",
       "max": 5,
       "min": 1,
       "style": "IPY_MODEL_4ad56d578f64435bb7040e6288f8436f",
       "value": 4
      }
     },
     "5493e679c57d4a0689415a4a88aea275": {
      "model_module": "@jupyter-widgets/controls",
      "model_module_version": "1.5.0",
      "model_name": "SliderStyleModel",
      "state": {
       "description_width": ""
      }
     },
     "54afde6385054afa854c63b78d32c519": {
      "model_module": "@jupyter-widgets/controls",
      "model_module_version": "1.5.0",
      "model_name": "ButtonStyleModel",
      "state": {}
     },
     "54b4b06b01a146878a34d785819acd4e": {
      "model_module": "@jupyter-widgets/controls",
      "model_module_version": "1.5.0",
      "model_name": "DescriptionStyleModel",
      "state": {
       "description_width": ""
      }
     },
     "54d1e2ab11364b3286e48fbc06e2c9dc": {
      "model_module": "@jupyter-widgets/controls",
      "model_module_version": "1.5.0",
      "model_name": "SliderStyleModel",
      "state": {
       "description_width": ""
      }
     },
     "552cab5a34bb42878921b10d86c06c8d": {
      "model_module": "@jupyter-widgets/base",
      "model_module_version": "1.2.0",
      "model_name": "LayoutModel",
      "state": {}
     },
     "5532c2cdd5f24b1ebfeff4de061e7901": {
      "model_module": "@jupyter-widgets/base",
      "model_module_version": "1.2.0",
      "model_name": "LayoutModel",
      "state": {}
     },
     "553432c4114a47d4a9edc9bea81bf73d": {
      "model_module": "@jupyter-widgets/controls",
      "model_module_version": "1.5.0",
      "model_name": "ButtonModel",
      "state": {
       "description": "Apply changes",
       "layout": "IPY_MODEL_f3ecc66415384a3b93c8afe5ca93b8f6",
       "style": "IPY_MODEL_c7f7b7c639f04c7a812a812bc95f2f4a"
      }
     },
     "55370126029743f4b725a902460e704f": {
      "model_module": "@jupyter-widgets/base",
      "model_module_version": "1.2.0",
      "model_name": "LayoutModel",
      "state": {}
     },
     "554ebc2fe70b441697fdba4d2a6f87c0": {
      "model_module": "@jupyter-widgets/base",
      "model_module_version": "1.2.0",
      "model_name": "LayoutModel",
      "state": {}
     },
     "556f03c0e652466698acdf9d3ef53d64": {
      "model_module": "@jupyter-widgets/controls",
      "model_module_version": "1.5.0",
      "model_name": "IntSliderModel",
      "state": {
       "description": "value",
       "layout": "IPY_MODEL_7e6af95120bf4e8eab6ad088d08bf589",
       "max": 10,
       "min": 1,
       "style": "IPY_MODEL_53c5b2262f9846a5adfdd7d45ce21b69",
       "value": 5
      }
     },
     "557b13d22d9c4523aede128ecebc8ac7": {
      "model_module": "@jupyter-widgets/controls",
      "model_module_version": "1.5.0",
      "model_name": "ButtonStyleModel",
      "state": {}
     },
     "55f0f039861f4c7cb7fc94899c53e0f6": {
      "model_module": "@jupyter-widgets/controls",
      "model_module_version": "1.5.0",
      "model_name": "TextModel",
      "state": {
       "continuous_update": false,
       "description": "name",
       "layout": "IPY_MODEL_ff9430da97704faca4a5581d596a9844",
       "style": "IPY_MODEL_f2ce19fc1a01412bb35dc2f4381a068b",
       "value": "radinc"
      }
     },
     "55fd0718c41b435db5caa06ebb66c4d3": {
      "model_module": "@jupyter-widgets/controls",
      "model_module_version": "1.5.0",
      "model_name": "ColorPickerModel",
      "state": {
       "description": "emission",
       "disabled": false,
       "layout": "IPY_MODEL_858855a4ca644ef8a5a68f4bd31e1d6b",
       "style": "IPY_MODEL_86875997079c4f0caf76384b93b1c407",
       "value": "#000000"
      }
     },
     "5631cbab764947158f1da6a147458613": {
      "model_module": "@jupyter-widgets/controls",
      "model_module_version": "1.5.0",
      "model_name": "DescriptionStyleModel",
      "state": {
       "description_width": ""
      }
     },
     "5635bd2a1dbe4760b5638e8c865b2550": {
      "model_module": "@jupyter-widgets/base",
      "model_module_version": "1.2.0",
      "model_name": "LayoutModel",
      "state": {}
     },
     "5683515fa2d0458db36f542630cf452a": {
      "model_module": "@jupyter-widgets/base",
      "model_module_version": "1.2.0",
      "model_name": "LayoutModel",
      "state": {}
     },
     "56b19567ca7740f28a2059eaf32f3238": {
      "model_module": "pgljupyter",
      "model_module_version": "^0.1.17",
      "model_name": "LsystemWidgetModel",
      "state": {
       "_model_module_version": "^0.1.17",
       "_view_module_version": "^0.1.17",
       "axes_helper": false,
       "derivationLength": 42,
       "layout": "IPY_MODEL_62f06f01a47f4f6c8c42d71dcba612c6",
       "light_helper": false,
       "plane": true,
       "size_display": [
        400,
        400
       ],
       "size_world": 50
      }
     },
     "56ca9cfe6576423da575a7edfbeda8a1": {
      "model_module": "@jupyter-widgets/controls",
      "model_module_version": "1.5.0",
      "model_name": "VBoxModel",
      "state": {
       "children": [
        "IPY_MODEL_aa34cffd296144adbb84e44628679faa",
        "IPY_MODEL_59e73575073a4d21bccbb7110cf6091a"
       ],
       "layout": "IPY_MODEL_926c57076840440cba5b8c4fd41d9d43"
      }
     },
     "56d367a9d5614e55bed35e4d81b7eef8": {
      "model_module": "@jupyter-widgets/controls",
      "model_module_version": "1.5.0",
      "model_name": "BoundedIntTextModel",
      "state": {
       "description": "index",
       "layout": "IPY_MODEL_9543ce5168bb44ca89a3b02cbe5bca8f",
       "style": "IPY_MODEL_b12f527165d943288688f616f1f609c8",
       "value": 4
      }
     },
     "56e10c5df99d4496a1c8da99197f9358": {
      "model_module": "@jupyter-widgets/base",
      "model_module_version": "1.2.0",
      "model_name": "LayoutModel",
      "state": {}
     },
     "56fc22890f4a4ca080684ec9625a905f": {
      "model_module": "@jupyter-widgets/base",
      "model_module_version": "1.2.0",
      "model_name": "LayoutModel",
      "state": {}
     },
     "571f6b30eb9047efac0f6cc30752eb09": {
      "model_module": "@jupyter-widgets/controls",
      "model_module_version": "1.5.0",
      "model_name": "ColorPickerModel",
      "state": {
       "description": "emission",
       "disabled": false,
       "layout": "IPY_MODEL_706b28339ad7452ea4636ed8533aa145",
       "style": "IPY_MODEL_f780df8385f34042a1e45373f0ef9cbc",
       "value": "#000000"
      }
     },
     "5727c411e1d34981bcc0790c12d7bcf9": {
      "model_module": "@jupyter-widgets/base",
      "model_module_version": "1.2.0",
      "model_name": "LayoutModel",
      "state": {}
     },
     "5728fafc0bd4433f81791185f2f8a527": {
      "model_module": "@jupyter-widgets/controls",
      "model_module_version": "1.5.0",
      "model_name": "FloatSliderModel",
      "state": {
       "description": "shininess",
       "layout": "IPY_MODEL_55370126029743f4b725a902460e704f",
       "max": 1,
       "step": 0.1,
       "style": "IPY_MODEL_c0bb2a0d577641b58e46f24746ba8a03",
       "value": 0.2
      }
     },
     "57495b8ed5ac4554811c23e6cec15699": {
      "model_module": "@jupyter-widgets/base",
      "model_module_version": "1.2.0",
      "model_name": "LayoutModel",
      "state": {}
     },
     "578fb4eed7ef4f93987a87d21a5b0d9f": {
      "model_module": "@jupyter-widgets/controls",
      "model_module_version": "1.5.0",
      "model_name": "HBoxModel",
      "state": {
       "children": [
        "IPY_MODEL_12aad91498d74df1bdd0076e69f17c4b",
        "IPY_MODEL_8df39cc78b7c43f7be9d191b5a4256de"
       ],
       "layout": "IPY_MODEL_b7c61d98c8974e3eab2560fcaf559828"
      }
     },
     "57a89ac8289041f2b6d724e4b866dc0a": {
      "model_module": "@jupyter-widgets/base",
      "model_module_version": "1.2.0",
      "model_name": "LayoutModel",
      "state": {}
     },
     "57ba92c34a3c4d26a6098635e1484968": {
      "model_module": "@jupyter-widgets/controls",
      "model_module_version": "1.5.0",
      "model_name": "DescriptionStyleModel",
      "state": {
       "description_width": ""
      }
     },
     "57dca5ae89cf4763919d1cd33c070eed": {
      "model_module": "@jupyter-widgets/base",
      "model_module_version": "1.2.0",
      "model_name": "LayoutModel",
      "state": {}
     },
     "57f9e7baa3ba4c54a8e29fd55fd21d1f": {
      "model_module": "@jupyter-widgets/controls",
      "model_module_version": "1.5.0",
      "model_name": "HBoxModel",
      "state": {
       "children": [
        "IPY_MODEL_4ca74ce323174e558e881e7f83c25b30",
        "IPY_MODEL_c079194f982146b3907f1743d3b21acd"
       ],
       "layout": "IPY_MODEL_b51a86b67c8543e0ac2c5effb4cc963d"
      }
     },
     "5810bb174d1946e8b3d0386797351339": {
      "model_module": "@jupyter-widgets/controls",
      "model_module_version": "1.5.0",
      "model_name": "DescriptionStyleModel",
      "state": {
       "description_width": ""
      }
     },
     "582aab0227c542c3b12dbbe1af118de6": {
      "model_module": "@jupyter-widgets/controls",
      "model_module_version": "1.5.0",
      "model_name": "SliderStyleModel",
      "state": {
       "description_width": ""
      }
     },
     "58569d21975b4ecb94c1b21ac30e0823": {
      "model_module": "@jupyter-widgets/controls",
      "model_module_version": "1.5.0",
      "model_name": "HBoxModel",
      "state": {
       "children": [
        "IPY_MODEL_ec8cfa6373cf4330ae76df7ac5a2dfab",
        "IPY_MODEL_039429b73bae419cac4d3913fcdbfdbc"
       ],
       "layout": "IPY_MODEL_a9b7a5bea64640859355bc1f3bd40aed"
      }
     },
     "585fc48c58fd48cb974017172fb63f8c": {
      "model_module": "@jupyter-widgets/controls",
      "model_module_version": "1.5.0",
      "model_name": "ButtonModel",
      "state": {
       "description": "Delete category",
       "layout": "IPY_MODEL_ed2e1c85dc804578834fe3b7f594baa4",
       "style": "IPY_MODEL_31e5447b555c40528ae38c2d4c949f9f"
      }
     },
     "586fe9088889439284707fb54ba3ec23": {
      "model_module": "@jupyter-widgets/controls",
      "model_module_version": "1.5.0",
      "model_name": "ButtonModel",
      "state": {
       "description": "Delete",
       "layout": "IPY_MODEL_a5a3a25a887b433b95152afe55d8192d",
       "style": "IPY_MODEL_26b81cebc41f40ae83461cad70dcfba8"
      }
     },
     "5872ea4882c74993af9862d9a8bfcb9f": {
      "model_module": "@jupyter-widgets/controls",
      "model_module_version": "1.5.0",
      "model_name": "HBoxModel",
      "state": {
       "children": [
        "IPY_MODEL_153641213cab4e3888f2df8ffe4df5e6"
       ],
       "layout": "IPY_MODEL_0edf0711fcd443488bc2bd1811f52c38"
      }
     },
     "58b01411a162470783fbaaa91028104c": {
      "model_module": "@jupyter-widgets/controls",
      "model_module_version": "1.5.0",
      "model_name": "HBoxModel",
      "state": {
       "children": [
        "IPY_MODEL_1e5af16da1b3427d83bc2e4cf9a49852",
        "IPY_MODEL_529e918b5e134ca5a4af51bf8651b987"
       ],
       "layout": "IPY_MODEL_233d83e71b4344838e3144dcacea3eeb"
      }
     },
     "58b736cae95a4a3f97d710efaa4148bb": {
      "model_module": "@jupyter-widgets/controls",
      "model_module_version": "1.5.0",
      "model_name": "DescriptionStyleModel",
      "state": {
       "description_width": ""
      }
     },
     "5917a07df85e4f07849b2dc44475a30a": {
      "model_module": "@jupyter-widgets/controls",
      "model_module_version": "1.5.0",
      "model_name": "ButtonModel",
      "state": {
       "description": "Delete category",
       "layout": "IPY_MODEL_20e92cd381cd4543b11477c4b28a2822",
       "style": "IPY_MODEL_2718d36a76b14abe8337699015ee06ad"
      }
     },
     "591eb893dd5047febc3e0e1715c027d8": {
      "model_module": "@jupyter-widgets/base",
      "model_module_version": "1.2.0",
      "model_name": "LayoutModel",
      "state": {}
     },
     "594bc8d80195422f85abbd36476b4550": {
      "model_module": "@jupyter-widgets/controls",
      "model_module_version": "1.5.0",
      "model_name": "DescriptionStyleModel",
      "state": {
       "description_width": ""
      }
     },
     "5952c0e964b14034832f8d689c94cd56": {
      "model_module": "@jupyter-widgets/controls",
      "model_module_version": "1.5.0",
      "model_name": "DescriptionStyleModel",
      "state": {
       "description_width": ""
      }
     },
     "5952ccf95fff4114ac955e73f1021bc8": {
      "model_module": "@jupyter-widgets/base",
      "model_module_version": "1.2.0",
      "model_name": "LayoutModel",
      "state": {}
     },
     "59b6d90878cc4434b2cd7ffe61e22f6b": {
      "model_module": "@jupyter-widgets/base",
      "model_module_version": "1.2.0",
      "model_name": "LayoutModel",
      "state": {}
     },
     "59b8490222d449ec873f6dd426630d90": {
      "model_module": "@jupyter-widgets/base",
      "model_module_version": "1.2.0",
      "model_name": "LayoutModel",
      "state": {}
     },
     "59c4f363387c4603894fb415c0d36967": {
      "model_module": "@jupyter-widgets/base",
      "model_module_version": "1.2.0",
      "model_name": "LayoutModel",
      "state": {}
     },
     "59df3630aa8946ea91c52b602ac78c54": {
      "model_module": "@jupyter-widgets/controls",
      "model_module_version": "1.5.0",
      "model_name": "DescriptionStyleModel",
      "state": {
       "description_width": ""
      }
     },
     "59e6e480e2f044e3973bd8d2328b0a68": {
      "model_module": "@jupyter-widgets/base",
      "model_module_version": "1.2.0",
      "model_name": "LayoutModel",
      "state": {}
     },
     "59e73575073a4d21bccbb7110cf6091a": {
      "model_module": "@jupyter-widgets/controls",
      "model_module_version": "1.5.0",
      "model_name": "TabModel",
      "state": {
       "_titles": {
        "0": "leuwenberg.json"
       },
       "children": [
        "IPY_MODEL_0300001a45404b209a36c5be9117a9b4"
       ],
       "layout": "IPY_MODEL_5f1c7016d47f4e318a32653fe7356e2b"
      }
     },
     "59f8c5abaa8146ce8df8fc46c0f10acb": {
      "model_module": "@jupyter-widgets/controls",
      "model_module_version": "1.5.0",
      "model_name": "FloatSliderModel",
      "state": {
       "description": "transparency",
       "layout": "IPY_MODEL_abee62d144eb46f6a0854e2c779344fc",
       "max": 1,
       "step": 0.1,
       "style": "IPY_MODEL_61c5a99dc07f47fdb21721b1b101776a"
      }
     },
     "5a27138e81a3410884a9215f1d6fa8d6": {
      "model_module": "@jupyter-widgets/controls",
      "model_module_version": "1.5.0",
      "model_name": "DescriptionStyleModel",
      "state": {
       "description_width": ""
      }
     },
     "5a36ed8d8d52493a85069ee7e9740581": {
      "model_module": "@jupyter-widgets/base",
      "model_module_version": "1.2.0",
      "model_name": "LayoutModel",
      "state": {}
     },
     "5a437245895546a8b255d8ddb00b3da0": {
      "model_module": "@jupyter-widgets/controls",
      "model_module_version": "1.5.0",
      "model_name": "DropdownModel",
      "state": {
       "_options_labels": [
        "Integer",
        "Float",
        "Bool"
       ],
       "index": 0,
       "layout": "IPY_MODEL_71477cc008b246dda88280fd345c2937",
       "style": "IPY_MODEL_3d3a7aadae0f44908db525c928187d5f"
      }
     },
     "5a6aab1bb709492da4f69389f9069c24": {
      "model_module": "@jupyter-widgets/base",
      "model_module_version": "1.2.0",
      "model_name": "LayoutModel",
      "state": {
       "flex_flow": "row wrap",
       "margin": "20px"
      }
     },
     "5a7768daa7114d36b770ea435fe36cec": {
      "model_module": "@jupyter-widgets/base",
      "model_module_version": "1.2.0",
      "model_name": "LayoutModel",
      "state": {
       "flex_flow": "row wrap",
       "margin": "20px"
      }
     },
     "5a9efa5a617d42df8d7bb8d365c3e0a8": {
      "model_module": "@jupyter-widgets/base",
      "model_module_version": "1.2.0",
      "model_name": "LayoutModel",
      "state": {
       "margin": "20px 0px"
      }
     },
     "5adffba729714082b4c0b93187c64244": {
      "model_module": "@jupyter-widgets/controls",
      "model_module_version": "1.5.0",
      "model_name": "HBoxModel",
      "state": {
       "children": [
        "IPY_MODEL_a74641fad73f460aaf67830e96175f14",
        "IPY_MODEL_af04d4dbb9ee467196d914b3d6ff7677"
       ],
       "layout": "IPY_MODEL_39084374a571435e824d7618f816aad4"
      }
     },
     "5b06ffa55f8c4305b3bf43c5d33fe5f6": {
      "model_module": "@jupyter-widgets/controls",
      "model_module_version": "1.5.0",
      "model_name": "DescriptionStyleModel",
      "state": {
       "description_width": ""
      }
     },
     "5b44b2e1d2044e9f82167f906dbaa2f5": {
      "model_module": "@jupyter-widgets/base",
      "model_module_version": "1.2.0",
      "model_name": "LayoutModel",
      "state": {}
     },
     "5b5cffc519364c9fbd2a8e2332a75c62": {
      "model_module": "@jupyter-widgets/base",
      "model_module_version": "1.2.0",
      "model_name": "LayoutModel",
      "state": {}
     },
     "5b833389726149e891e43233e262af30": {
      "model_module": "@jupyter-widgets/base",
      "model_module_version": "1.2.0",
      "model_name": "LayoutModel",
      "state": {}
     },
     "5b940c3879e64cf98347973d19dcff84": {
      "model_module": "@jupyter-widgets/base",
      "model_module_version": "1.2.0",
      "model_name": "LayoutModel",
      "state": {}
     },
     "5bcfd5e078c1498f87372ade701de97b": {
      "model_module": "@jupyter-widgets/controls",
      "model_module_version": "1.5.0",
      "model_name": "ColorPickerModel",
      "state": {
       "description": "emission",
       "disabled": false,
       "layout": "IPY_MODEL_e6443316e4e84f1e846bdb3a768365cf",
       "style": "IPY_MODEL_95a95cfc47e54d0ab882efb98310c995",
       "value": "#000000"
      }
     },
     "5bfb433518c246f4a7cd7249ff19b64e": {
      "model_module": "@jupyter-widgets/controls",
      "model_module_version": "1.5.0",
      "model_name": "IntSliderModel",
      "state": {
       "description": "value",
       "layout": "IPY_MODEL_f8e8217ad4ff42db874a2be04d88d09c",
       "max": 7,
       "min": 1,
       "style": "IPY_MODEL_13acdf1ccc5a4999af0676c08d452094",
       "value": 3
      }
     },
     "5c020f6de4b0494db643bad3b0644d25": {
      "model_module": "@jupyter-widgets/controls",
      "model_module_version": "1.5.0",
      "model_name": "SliderStyleModel",
      "state": {
       "description_width": ""
      }
     },
     "5c0d7f4b7f914f719c8266137f7d0017": {
      "model_module": "@jupyter-widgets/controls",
      "model_module_version": "1.5.0",
      "model_name": "DropdownModel",
      "state": {
       "_options_labels": [
        "Integer",
        "Float",
        "Bool"
       ],
       "index": 0,
       "layout": "IPY_MODEL_0728179a541f413fa5aae643b0fd424c",
       "style": "IPY_MODEL_8249d03607ce403b941353f80011ee8b"
      }
     },
     "5c2170886bb84b0fb0345314e6a3925d": {
      "model_module": "@jupyter-widgets/base",
      "model_module_version": "1.2.0",
      "model_name": "LayoutModel",
      "state": {}
     },
     "5c2e84642c5d485189990628bfa497c8": {
      "model_module": "@jupyter-widgets/base",
      "model_module_version": "1.2.0",
      "model_name": "LayoutModel",
      "state": {}
     },
     "5c45b8f207094c259218686f4e90aff4": {
      "model_module": "@jupyter-widgets/controls",
      "model_module_version": "1.5.0",
      "model_name": "DescriptionStyleModel",
      "state": {
       "description_width": ""
      }
     },
     "5c5ed1c8b6824f9b8f4256546f9f98d3": {
      "model_module": "@jupyter-widgets/base",
      "model_module_version": "1.2.0",
      "model_name": "LayoutModel",
      "state": {}
     },
     "5c675aab59fb4845aac7b8dac885e566": {
      "model_module": "@jupyter-widgets/base",
      "model_module_version": "1.2.0",
      "model_name": "LayoutModel",
      "state": {}
     },
     "5c6ace0f578c42b9979bc855a04653e3": {
      "model_module": "@jupyter-widgets/base",
      "model_module_version": "1.2.0",
      "model_name": "LayoutModel",
      "state": {}
     },
     "5c7ea0ef330d498b91b01ff20701afc6": {
      "model_module": "@jupyter-widgets/controls",
      "model_module_version": "1.5.0",
      "model_name": "AccordionModel",
      "state": {
       "_titles": {
        "0": "materials",
        "1": "leaf"
       },
       "children": [
        "IPY_MODEL_35de142236d6430682387800cc229756",
        "IPY_MODEL_f6877ba37bef4c718f9ad54a1dee9c7e"
       ],
       "layout": "IPY_MODEL_48a9dc8b95d14018a1273a4583c91c32"
      }
     },
     "5c8b02bacbff4f469a89e2d1ea4bf18e": {
      "model_module": "@jupyter-widgets/controls",
      "model_module_version": "1.5.0",
      "model_name": "SliderStyleModel",
      "state": {
       "description_width": ""
      }
     },
     "5c8ee91aecec463e82900f71a4a9e81d": {
      "model_module": "@jupyter-widgets/controls",
      "model_module_version": "1.5.0",
      "model_name": "DescriptionStyleModel",
      "state": {
       "description_width": ""
      }
     },
     "5ca98085c6bf49aca459dd565f93cd38": {
      "model_module": "@jupyter-widgets/controls",
      "model_module_version": "1.5.0",
      "model_name": "CheckboxModel",
      "state": {
       "description": "Auto apply",
       "disabled": false,
       "layout": "IPY_MODEL_8299462a02d34ce7a919b316de08ed30",
       "style": "IPY_MODEL_28941cfcc3894fe3a6bb53b671b1fbf1",
       "value": false
      }
     },
     "5cb0a8f02ad04b5f9796ec72a576b675": {
      "model_module": "@jupyter-widgets/controls",
      "model_module_version": "1.5.0",
      "model_name": "DescriptionStyleModel",
      "state": {
       "description_width": ""
      }
     },
     "5ccfe2f5d1bc472faf8aa7f50bf0ab1d": {
      "model_module": "pgljupyter",
      "model_module_version": "^0.1.17",
      "model_name": "MaterialEditorModel",
      "state": {
       "_model_module_version": "^0.1.17",
       "_view_module_version": "^0.1.17",
       "children": [
        "IPY_MODEL_fe39b8c3b9064292a4c361b7263a6c84",
        "IPY_MODEL_9d4b9a9b3979406d872e9b0718717eb7",
        "IPY_MODEL_38af2c3340fa4dccbe1fe87f084d021e",
        "IPY_MODEL_077c655a00ab41bb91239523d5e0bf21",
        "IPY_MODEL_9a9dd7b9393e473ab51a5616b57ee709",
        "IPY_MODEL_5e1cd39cfa88428c865ac3fe8ce37706",
        "IPY_MODEL_7b56ea7a659047479a11f64be222d2ea"
       ],
       "layout": "IPY_MODEL_5a9efa5a617d42df8d7bb8d365c3e0a8"
      }
     },
     "5cd5315f340348038cd38a661f3e0383": {
      "model_module": "@jupyter-widgets/base",
      "model_module_version": "1.2.0",
      "model_name": "LayoutModel",
      "state": {}
     },
     "5cdf0a890d1f47459e533b95f5fa6d12": {
      "model_module": "@jupyter-widgets/controls",
      "model_module_version": "1.5.0",
      "model_name": "CheckboxModel",
      "state": {
       "description": "Auto save",
       "disabled": false,
       "layout": "IPY_MODEL_473617a3b3a74ffb93086ff4b9f2d61a",
       "style": "IPY_MODEL_31f8f240a62d42c994ef77ad3eff9028",
       "value": false
      }
     },
     "5d1acbde1263434ca0516af8b1e818ec": {
      "model_module": "@jupyter-widgets/controls",
      "model_module_version": "1.5.0",
      "model_name": "FloatSliderModel",
      "state": {
       "description": "transparency",
       "layout": "IPY_MODEL_9e9532d3f9264d848c9671d25e59429b",
       "max": 1,
       "step": 0.1,
       "style": "IPY_MODEL_09ab73e88d6a48cf971284095d2d93ee"
      }
     },
     "5d416a34f993487a93cb14b0054ea4ea": {
      "model_module": "@jupyter-widgets/base",
      "model_module_version": "1.2.0",
      "model_name": "LayoutModel",
      "state": {}
     },
     "5d56f12735114a72b59aee0792d5ab99": {
      "model_module": "@jupyter-widgets/controls",
      "model_module_version": "1.5.0",
      "model_name": "SliderStyleModel",
      "state": {
       "description_width": ""
      }
     },
     "5d592cc939754fea80d73face4c60e8f": {
      "model_module": "@jupyter-widgets/base",
      "model_module_version": "1.2.0",
      "model_name": "LayoutModel",
      "state": {}
     },
     "5d6050d7def2462992a2c0be1241bbe2": {
      "model_module": "@jupyter-widgets/controls",
      "model_module_version": "1.5.0",
      "model_name": "HBoxModel",
      "state": {
       "children": [
        "IPY_MODEL_9c1c587b0f2d4e4ab57cdc4be496188a",
        "IPY_MODEL_18f33fdb355044e1b8ef1b21e2934a1e"
       ],
       "layout": "IPY_MODEL_fc7a4aec149a4cf08600950691200520"
      }
     },
     "5d665054e5a24fcc86e9f3d114ca7382": {
      "model_module": "@jupyter-widgets/controls",
      "model_module_version": "1.5.0",
      "model_name": "FloatSliderModel",
      "state": {
       "description": "diffuse",
       "layout": "IPY_MODEL_7a99d133c96c4e7bac722c58641e6bc6",
       "max": 3,
       "step": 0.1,
       "style": "IPY_MODEL_a301eb5668924f298fa462fb2ee4e2dc",
       "value": 1
      }
     },
     "5d6b91526f5c4f069888276c86e31117": {
      "model_module": "@jupyter-widgets/base",
      "model_module_version": "1.2.0",
      "model_name": "LayoutModel",
      "state": {}
     },
     "5d6e79af49c540d687173491bdf52613": {
      "model_module": "@jupyter-widgets/controls",
      "model_module_version": "1.5.0",
      "model_name": "HBoxModel",
      "state": {
       "children": [
        "IPY_MODEL_4372a40b5e864ae785c713790258dbe4",
        "IPY_MODEL_662a8bc5b57b429b8272a6397296a547"
       ],
       "layout": "IPY_MODEL_ccd2ea5a8e31427bb33242becf4077fa"
      }
     },
     "5da34500d955448089199df04319e205": {
      "model_module": "@jupyter-widgets/base",
      "model_module_version": "1.2.0",
      "model_name": "LayoutModel",
      "state": {
       "margin": "20px 0px"
      }
     },
     "5da6a4695aee4e9ab96fad51b59727c6": {
      "model_module": "@jupyter-widgets/base",
      "model_module_version": "1.2.0",
      "model_name": "LayoutModel",
      "state": {}
     },
     "5dec0cf2269d486da8492dee4e84b3f8": {
      "model_module": "@jupyter-widgets/controls",
      "model_module_version": "1.5.0",
      "model_name": "ButtonStyleModel",
      "state": {}
     },
     "5e1cd39cfa88428c865ac3fe8ce37706": {
      "model_module": "@jupyter-widgets/controls",
      "model_module_version": "1.5.0",
      "model_name": "FloatSliderModel",
      "state": {
       "description": "transparency",
       "layout": "IPY_MODEL_d436543783c8447f81f559995965920f",
       "max": 1,
       "step": 0.1,
       "style": "IPY_MODEL_e6ea0f1df0864495a18ce55e8ee48a88"
      }
     },
     "5e62aae65cb548bcbf53bb19b6810b3b": {
      "model_module": "@jupyter-widgets/base",
      "model_module_version": "1.2.0",
      "model_name": "LayoutModel",
      "state": {}
     },
     "5e82b30d25f94292a4d76ae8c23684da": {
      "model_module": "@jupyter-widgets/controls",
      "model_module_version": "1.5.0",
      "model_name": "DescriptionStyleModel",
      "state": {
       "description_width": ""
      }
     },
     "5e9c1818473b44dab49b3d26bf241c9d": {
      "model_module": "@jupyter-widgets/controls",
      "model_module_version": "1.5.0",
      "model_name": "DescriptionStyleModel",
      "state": {
       "description_width": ""
      }
     },
     "5eac464e5de54b27a961eb229e40565b": {
      "model_module": "@jupyter-widgets/controls",
      "model_module_version": "1.5.0",
      "model_name": "CheckboxModel",
      "state": {
       "description": "Auto save",
       "disabled": false,
       "layout": "IPY_MODEL_8c00dd94f504489eb79f75cdf4d9b736",
       "style": "IPY_MODEL_c54dbf897e88456f9d68e9e0b6f32806",
       "value": false
      }
     },
     "5ef60586f6624e7a921466efb2d8a645": {
      "model_module": "@jupyter-widgets/controls",
      "model_module_version": "1.5.0",
      "model_name": "DescriptionStyleModel",
      "state": {
       "description_width": ""
      }
     },
     "5eff584d0b2b41aeb1390c34883b3952": {
      "model_module": "@jupyter-widgets/controls",
      "model_module_version": "1.5.0",
      "model_name": "HBoxModel",
      "state": {
       "children": [
        "IPY_MODEL_baaa42ae12f948eab87555a7fbda06c9",
        "IPY_MODEL_8c34ccd1ce0c4bdea50769e26de587f7"
       ],
       "layout": "IPY_MODEL_5a6aab1bb709492da4f69389f9069c24"
      }
     },
     "5f0d4143620941798573a504d9e748b1": {
      "model_module": "@jupyter-widgets/base",
      "model_module_version": "1.2.0",
      "model_name": "LayoutModel",
      "state": {}
     },
     "5f1c7016d47f4e318a32653fe7356e2b": {
      "model_module": "@jupyter-widgets/base",
      "model_module_version": "1.2.0",
      "model_name": "LayoutModel",
      "state": {}
     },
     "5f2b9448d4664b19bc2be431e51cf147": {
      "model_module": "@jupyter-widgets/controls",
      "model_module_version": "1.5.0",
      "model_name": "HBoxModel",
      "state": {
       "children": [
        "IPY_MODEL_03ab5d400c7b448cbd80354c73a71b69",
        "IPY_MODEL_a1b5b03ee7734374841f6ac59804c61a"
       ],
       "layout": "IPY_MODEL_5c5ed1c8b6824f9b8f4256546f9f98d3"
      }
     },
     "5f2ecb128cba4ce0ae2ed4b650b085bd": {
      "model_module": "@jupyter-widgets/base",
      "model_module_version": "1.2.0",
      "model_name": "LayoutModel",
      "state": {}
     },
     "5f35732199e94b7981ff948790caec12": {
      "model_module": "@jupyter-widgets/controls",
      "model_module_version": "1.5.0",
      "model_name": "DescriptionStyleModel",
      "state": {
       "description_width": ""
      }
     },
     "5f40ab866c114047b0d20c588be213e6": {
      "model_module": "@jupyter-widgets/base",
      "model_module_version": "1.2.0",
      "model_name": "LayoutModel",
      "state": {}
     },
     "5f766dc4cb8647509fa135a5358aaab0": {
      "model_module": "@jupyter-widgets/base",
      "model_module_version": "1.2.0",
      "model_name": "LayoutModel",
      "state": {}
     },
     "5f98c0fc4bc74bb18355255bc02aa93c": {
      "model_module": "@jupyter-widgets/controls",
      "model_module_version": "1.5.0",
      "model_name": "HBoxModel",
      "state": {
       "children": [
        "IPY_MODEL_b24854e612f64308b2856ad9bbda0e0c",
        "IPY_MODEL_602b9967919e4d9095cb2458ac6260f2"
       ],
       "layout": "IPY_MODEL_5ffcfabea4324e77ba7847c89942d8f5"
      }
     },
     "5f9f275715734a318f7526209e87fd1d": {
      "model_module": "@jupyter-widgets/controls",
      "model_module_version": "1.5.0",
      "model_name": "FloatSliderModel",
      "state": {
       "description": "diffuse",
       "layout": "IPY_MODEL_481cf82ea8244cf4b9b9b31187903bc6",
       "max": 3,
       "step": 0.1,
       "style": "IPY_MODEL_dc1fc436f2d640ee97620d714ae2e02e",
       "value": 1
      }
     },
     "5fd9a8d12c4d45588031973ef01650c0": {
      "model_module": "@jupyter-widgets/controls",
      "model_module_version": "1.5.0",
      "model_name": "ColorPickerModel",
      "state": {
       "description": "ambient",
       "disabled": false,
       "layout": "IPY_MODEL_09fe84e4c04243fdb4d5769ae0bf8f00",
       "style": "IPY_MODEL_c1f8e654bd764ed1b77cc56f2508694d",
       "value": "#5b4534"
      }
     },
     "5fe590f048484a3ba28067befd41b28a": {
      "model_module": "@jupyter-widgets/controls",
      "model_module_version": "1.5.0",
      "model_name": "TextModel",
      "state": {
       "continuous_update": false,
       "description": "name",
       "layout": "IPY_MODEL_406538f49d474b288e16fda7dd512c69",
       "style": "IPY_MODEL_40ccbdcf094944daacad40f2478bd3f3",
       "value": "color_2"
      }
     },
     "5fecbf4165e74b528112846ca520f4fb": {
      "model_module": "@jupyter-widgets/controls",
      "model_module_version": "1.5.0",
      "model_name": "DescriptionStyleModel",
      "state": {
       "description_width": ""
      }
     },
     "5ffcfabea4324e77ba7847c89942d8f5": {
      "model_module": "@jupyter-widgets/base",
      "model_module_version": "1.2.0",
      "model_name": "LayoutModel",
      "state": {
       "flex_flow": "row wrap",
       "margin": "20px"
      }
     },
     "602b9967919e4d9095cb2458ac6260f2": {
      "model_module": "pgljupyter",
      "model_module_version": "^0.1.21",
      "model_name": "IntEditorModel",
      "state": {
       "_model_module_version": "^0.1.21",
       "_view_module_version": "^0.1.21",
       "children": [
        "IPY_MODEL_1c3ad41458c64c129919cde932065b83",
        "IPY_MODEL_2719d1e459504afd8a880d0568a15e88"
       ],
       "layout": "IPY_MODEL_e11fae69c776418190ad9c7973e97a8d"
      }
     },
     "604d1a618d0d48e8ba8e49ac54668dfb": {
      "model_module": "@jupyter-widgets/controls",
      "model_module_version": "1.5.0",
      "model_name": "DescriptionStyleModel",
      "state": {
       "description_width": ""
      }
     },
     "605b3dff17be4529b97af57e3cdd4848": {
      "model_module": "@jupyter-widgets/controls",
      "model_module_version": "1.5.0",
      "model_name": "ColorPickerModel",
      "state": {
       "description": "ambient",
       "disabled": false,
       "layout": "IPY_MODEL_62a2b76231e9443483317376953ca3cc",
       "style": "IPY_MODEL_85f2f816a3ad4019b0f5b00681e76aad",
       "value": "#5b4534"
      }
     },
     "60649db2aa41400c8d032bf13c68e453": {
      "model_module": "@jupyter-widgets/base",
      "model_module_version": "1.2.0",
      "model_name": "LayoutModel",
      "state": {}
     },
     "60b6d845ad24428db8160a19a54d242d": {
      "model_module": "@jupyter-widgets/controls",
      "model_module_version": "1.5.0",
      "model_name": "FloatSliderModel",
      "state": {
       "description": "diffuse",
       "layout": "IPY_MODEL_af62057272d64d6c8173cc755a1345c8",
       "max": 3,
       "step": 0.1,
       "style": "IPY_MODEL_4623abe30f8746eb94835fdc33c089af",
       "value": 1
      }
     },
     "60b848e0a9d44febb7a1d3a68a4ed857": {
      "model_module": "@jupyter-widgets/controls",
      "model_module_version": "1.5.0",
      "model_name": "ColorPickerModel",
      "state": {
       "description": "ambient",
       "disabled": false,
       "layout": "IPY_MODEL_466cc074ebc9465d93833472fef33beb",
       "style": "IPY_MODEL_9995b849589e4f8a87cd74cb1555ef93",
       "value": "#5b4534"
      }
     },
     "60f7d6ccd61f493dadbfcf94d366711a": {
      "model_module": "@jupyter-widgets/base",
      "model_module_version": "1.2.0",
      "model_name": "LayoutModel",
      "state": {}
     },
     "60ff2d33083e41a7a9c77037399cc0c7": {
      "model_module": "@jupyter-widgets/controls",
      "model_module_version": "1.5.0",
      "model_name": "DescriptionStyleModel",
      "state": {
       "description_width": ""
      }
     },
     "6122fb292c0c44039d410f9afbe16534": {
      "model_module": "@jupyter-widgets/base",
      "model_module_version": "1.2.0",
      "model_name": "LayoutModel",
      "state": {}
     },
     "613b92ffca5244b6a9fe92b6eac0bfb3": {
      "model_module": "@jupyter-widgets/controls",
      "model_module_version": "1.5.0",
      "model_name": "ColorPickerModel",
      "state": {
       "description": "ambient",
       "disabled": false,
       "layout": "IPY_MODEL_fd50b55e03484806aa3cae2a2541a1d3",
       "style": "IPY_MODEL_fe77130544c74fea9c083f6b668bcfaf",
       "value": "#e1a014"
      }
     },
     "614b17aa8cbd4c59bdc4c77fdfbbc42b": {
      "model_module": "@jupyter-widgets/base",
      "model_module_version": "1.2.0",
      "model_name": "LayoutModel",
      "state": {}
     },
     "61604db4d90b46a3a0031ae5119c1516": {
      "model_module": "@jupyter-widgets/controls",
      "model_module_version": "1.5.0",
      "model_name": "DescriptionStyleModel",
      "state": {
       "description_width": ""
      }
     },
     "619d054879f142ab8a22cb911c74fa09": {
      "model_module": "@jupyter-widgets/base",
      "model_module_version": "1.2.0",
      "model_name": "LayoutModel",
      "state": {}
     },
     "61c5a99dc07f47fdb21721b1b101776a": {
      "model_module": "@jupyter-widgets/controls",
      "model_module_version": "1.5.0",
      "model_name": "SliderStyleModel",
      "state": {
       "description_width": ""
      }
     },
     "62011f6d9ab4417da126fa460c091385": {
      "model_module": "@jupyter-widgets/base",
      "model_module_version": "1.2.0",
      "model_name": "LayoutModel",
      "state": {}
     },
     "6213afc08dc747abb3101b3b00eff81e": {
      "model_module": "@jupyter-widgets/base",
      "model_module_version": "1.2.0",
      "model_name": "LayoutModel",
      "state": {
       "margin": "20px 0px"
      }
     },
     "621e07a0b5ec49b6b5a0a7168a74a2d5": {
      "model_module": "@jupyter-widgets/controls",
      "model_module_version": "1.5.0",
      "model_name": "HBoxModel",
      "state": {
       "children": [
        "IPY_MODEL_d08d83f130d445aa9c9e3e4d3eb779f5",
        "IPY_MODEL_30fc1196fdfd42ed9a9f045bd8dae1e5"
       ],
       "layout": "IPY_MODEL_4c44f5e9ec414505a6576ceb754bc067"
      }
     },
     "62252cd6e6f64fb7aa4f68ce3e71f4b1": {
      "model_module": "pgljupyter",
      "model_module_version": "^0.1.17",
      "model_name": "MaterialEditorModel",
      "state": {
       "_model_module_version": "^0.1.17",
       "_view_module_version": "^0.1.17",
       "children": [
        "IPY_MODEL_51deaef56dce430dae6fc3f320f5ae3e",
        "IPY_MODEL_ed878756b8fb401389ecaf5b518387e3",
        "IPY_MODEL_a05c2a0fc34b4dfe85701e30e5a55732",
        "IPY_MODEL_13b719143ac7434582f81b16c18d6b4e",
        "IPY_MODEL_41374977018a4cc590e2913add7f287a",
        "IPY_MODEL_a2eafcfa36b44a6ba3e34657e64cec7a",
        "IPY_MODEL_bf0625eebb3744fc8cc55567e985236f"
       ],
       "layout": "IPY_MODEL_fd273ce6761742148ac89669bc64d98d"
      }
     },
     "62490f1dbb784fd99ea1745ade98c707": {
      "model_module": "@jupyter-widgets/base",
      "model_module_version": "1.2.0",
      "model_name": "LayoutModel",
      "state": {}
     },
     "625a97aef55748c189e2a6b3c1b5e67d": {
      "model_module": "@jupyter-widgets/base",
      "model_module_version": "1.2.0",
      "model_name": "LayoutModel",
      "state": {}
     },
     "6275cdb1a22040fd844c2deb6ab44a03": {
      "model_module": "@jupyter-widgets/controls",
      "model_module_version": "1.5.0",
      "model_name": "DescriptionStyleModel",
      "state": {
       "description_width": ""
      }
     },
     "62867ab47038465d8944dcad2437cbc9": {
      "model_module": "@jupyter-widgets/base",
      "model_module_version": "1.2.0",
      "model_name": "LayoutModel",
      "state": {}
     },
     "62a2b76231e9443483317376953ca3cc": {
      "model_module": "@jupyter-widgets/base",
      "model_module_version": "1.2.0",
      "model_name": "LayoutModel",
      "state": {}
     },
     "62b5bc6403144408b19fd4a789c19c72": {
      "model_module": "@jupyter-widgets/controls",
      "model_module_version": "1.5.0",
      "model_name": "ColorPickerModel",
      "state": {
       "description": "specular",
       "disabled": false,
       "layout": "IPY_MODEL_76fa5974fc594088898aeca9c0523cbd",
       "style": "IPY_MODEL_ffd47b6cfe404097909f5f4870a7fc67",
       "value": "#282828"
      }
     },
     "62e7fd6e389c4ae59e571c4fcb34e5c0": {
      "model_module": "@jupyter-widgets/controls",
      "model_module_version": "1.5.0",
      "model_name": "DescriptionStyleModel",
      "state": {
       "description_width": ""
      }
     },
     "62ecce380a4540f0ac0dd9486d3912a5": {
      "model_module": "@jupyter-widgets/controls",
      "model_module_version": "1.5.0",
      "model_name": "ButtonModel",
      "state": {
       "description": "Add",
       "layout": "IPY_MODEL_2709472ca87f4725b5c5062de9bf1341",
       "style": "IPY_MODEL_2a605d1454bf4acca4cac90df2e78bf1"
      }
     },
     "62f06f01a47f4f6c8c42d71dcba612c6": {
      "model_module": "@jupyter-widgets/base",
      "model_module_version": "1.2.0",
      "model_name": "LayoutModel",
      "state": {}
     },
     "62fff4b10d2c498fa7de85b618a36351": {
      "model_module": "@jupyter-widgets/controls",
      "model_module_version": "1.5.0",
      "model_name": "ColorPickerModel",
      "state": {
       "description": "emission",
       "disabled": false,
       "layout": "IPY_MODEL_7b1a55ba2ac3453b99b92e17130c6a1e",
       "style": "IPY_MODEL_e0c35736a89f424aa92cf4bb65dd15cd",
       "value": "#000000"
      }
     },
     "630f51ddc6474d56ac2b11c221db9313": {
      "model_module": "@jupyter-widgets/controls",
      "model_module_version": "1.5.0",
      "model_name": "ColorPickerModel",
      "state": {
       "description": "specular",
       "disabled": false,
       "layout": "IPY_MODEL_e894d4c3a4fb4f25a3f9d4c94d93edc4",
       "style": "IPY_MODEL_71181c0856bf4f019a94995d5325d299",
       "value": "#282828"
      }
     },
     "6313452555004e3e8cd4af4b429d6c81": {
      "model_module": "@jupyter-widgets/controls",
      "model_module_version": "1.5.0",
      "model_name": "SliderStyleModel",
      "state": {
       "description_width": ""
      }
     },
     "6322774f3a5e4d0cad43bc9ac0f77d3f": {
      "model_module": "@jupyter-widgets/controls",
      "model_module_version": "1.5.0",
      "model_name": "HBoxModel",
      "state": {
       "children": [
        "IPY_MODEL_ddc34eb399b046ce9c7bbcc7bcce04e5",
        "IPY_MODEL_f147ffdfc6994c26b4177e9b873ebcc9",
        "IPY_MODEL_cca2bc234f7546b6ab053ec14a62865d",
        "IPY_MODEL_bcb9c01e8d5e4ef6a75414069738d87f",
        "IPY_MODEL_3c9570eda3684eab96511e129bb5cee0"
       ],
       "layout": "IPY_MODEL_8d56c586bca3464d8c5cb36ae761ba46"
      }
     },
     "63354b64c5c6445686dd6064588bcd06": {
      "model_module": "@jupyter-widgets/base",
      "model_module_version": "1.2.0",
      "model_name": "LayoutModel",
      "state": {}
     },
     "63c9d2863df64449a1d81b197959dbbe": {
      "model_module": "@jupyter-widgets/controls",
      "model_module_version": "1.5.0",
      "model_name": "DescriptionStyleModel",
      "state": {
       "description_width": ""
      }
     },
     "63ec99422d324062aa029ae26fb392cf": {
      "model_module": "@jupyter-widgets/controls",
      "model_module_version": "1.5.0",
      "model_name": "TextModel",
      "state": {
       "continuous_update": false,
       "description": "name",
       "layout": "IPY_MODEL_5683515fa2d0458db36f542630cf452a",
       "style": "IPY_MODEL_e29b2ad0e6b8400997e87c1b714baead",
       "value": "color_4"
      }
     },
     "641c05b7ca444b45815f98e53b6c6ac7": {
      "model_module": "@jupyter-widgets/controls",
      "model_module_version": "1.5.0",
      "model_name": "ButtonModel",
      "state": {
       "description": "Delete",
       "layout": "IPY_MODEL_344335e7670a495595018a08fc546dec",
       "style": "IPY_MODEL_2fbe66108ef0435abf2f0ae7d1785c48"
      }
     },
     "64635876704d46df8e253b2d4cefa598": {
      "model_module": "@jupyter-widgets/base",
      "model_module_version": "1.2.0",
      "model_name": "LayoutModel",
      "state": {}
     },
     "6498ae65f15544e3aa9711e23376ad90": {
      "model_module": "@jupyter-widgets/base",
      "model_module_version": "1.2.0",
      "model_name": "LayoutModel",
      "state": {}
     },
     "649b808e83854530a387af7bc18abe1e": {
      "model_module": "@jupyter-widgets/base",
      "model_module_version": "1.2.0",
      "model_name": "LayoutModel",
      "state": {}
     },
     "64ae4c28e393410383055e93b56575a7": {
      "model_module": "@jupyter-widgets/base",
      "model_module_version": "1.2.0",
      "model_name": "LayoutModel",
      "state": {}
     },
     "64d7cfa5db9342919ab9a345850a143f": {
      "model_module": "@jupyter-widgets/controls",
      "model_module_version": "1.5.0",
      "model_name": "HBoxModel",
      "state": {
       "layout": "IPY_MODEL_8b9a41a0b095405186d1eec77ac0c839"
      }
     },
     "64ddded86cc94f2aaa65c66efd8404cd": {
      "model_module": "@jupyter-widgets/controls",
      "model_module_version": "1.5.0",
      "model_name": "HBoxModel",
      "state": {
       "children": [
        "IPY_MODEL_ec0d311430274174ad6f8002cc5ab013",
        "IPY_MODEL_c0a048ed609e4aceb6a259def78278e2"
       ],
       "layout": "IPY_MODEL_b64a0b633c4c488bb06c6634159a6227"
      }
     },
     "64eb6ce77bf6462698b988007f7d6518": {
      "model_module": "@jupyter-widgets/controls",
      "model_module_version": "1.5.0",
      "model_name": "DescriptionStyleModel",
      "state": {
       "description_width": ""
      }
     },
     "64f0f3be71ea49f6b0bf5f7a3382814b": {
      "model_module": "@jupyter-widgets/controls",
      "model_module_version": "1.5.0",
      "model_name": "DescriptionStyleModel",
      "state": {
       "description_width": ""
      }
     },
     "64f9dc0574df4a11af6125d753e638a4": {
      "model_module": "@jupyter-widgets/base",
      "model_module_version": "1.2.0",
      "model_name": "LayoutModel",
      "state": {}
     },
     "64fb29f193384a4e8f752c45b4c4b1ca": {
      "model_module": "@jupyter-widgets/controls",
      "model_module_version": "1.5.0",
      "model_name": "ColorPickerModel",
      "state": {
       "description": "emission",
       "disabled": false,
       "layout": "IPY_MODEL_68cfd084a9b844c7b9f46de98db14296",
       "style": "IPY_MODEL_9d7be6be4d2747209818d0df34b5332e",
       "value": "#000000"
      }
     },
     "64fef5ffe23a4d7f84f3b9902ddf596b": {
      "model_module": "@jupyter-widgets/base",
      "model_module_version": "1.2.0",
      "model_name": "LayoutModel",
      "state": {}
     },
     "650123fe060f4b61948a2ff7625b787d": {
      "buffers": [
       {
        "data": "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",
        "encoding": "base64",
        "path": [
         "scene",
         "data"
        ]
       }
      ],
      "model_module": "pgljupyter",
      "model_module_version": "^0.2.0",
      "model_name": "LsystemWidgetModel",
      "state": {
       "_model_module_version": "^0.2.0",
       "_view_module_version": "^0.2.0",
       "axes_helper": false,
       "derivationLength": 42,
       "layout": "IPY_MODEL_f0ece62107884815b66732681cf6a81c",
       "light_helper": false,
       "plane": true,
       "progress": 1,
       "scene": {
        "data": {},
        "derivationStep": 41,
        "id": 41,
        "scene": "<openalea.plantgl.scenegraph._pglsg.Scene object at 0x7f77b41589e0>"
       },
       "size_display": [
        600,
        400
       ],
       "size_world": 50,
       "unit": 0
      }
     },
     "6562e328352c4da9bcc65510d48fe34e": {
      "model_module": "@jupyter-widgets/controls",
      "model_module_version": "1.5.0",
      "model_name": "SliderStyleModel",
      "state": {
       "description_width": ""
      }
     },
     "6568a84592d945ddaf5e6c0dc6c917c1": {
      "model_module": "@jupyter-widgets/base",
      "model_module_version": "1.2.0",
      "model_name": "LayoutModel",
      "state": {}
     },
     "65bee35e74e7441d98cbdeb5de6d8221": {
      "model_module": "@jupyter-widgets/base",
      "model_module_version": "1.2.0",
      "model_name": "LayoutModel",
      "state": {}
     },
     "65cb7b1023ae4f4aae41fd3b1473e716": {
      "model_module": "@jupyter-widgets/base",
      "model_module_version": "1.2.0",
      "model_name": "LayoutModel",
      "state": {
       "margin": "20px 0px"
      }
     },
     "65dc7f4bbf724d46a564ee783e7d55ea": {
      "model_module": "@jupyter-widgets/base",
      "model_module_version": "1.2.0",
      "model_name": "LayoutModel",
      "state": {}
     },
     "65e9c69006e0410082732dcb581d48b9": {
      "model_module": "@jupyter-widgets/controls",
      "model_module_version": "1.5.0",
      "model_name": "DescriptionStyleModel",
      "state": {
       "description_width": ""
      }
     },
     "6606341d02fc439dbd25cdd30951c0c4": {
      "model_module": "@jupyter-widgets/controls",
      "model_module_version": "1.5.0",
      "model_name": "SliderStyleModel",
      "state": {
       "description_width": ""
      }
     },
     "662a8bc5b57b429b8272a6397296a547": {
      "model_module": "@jupyter-widgets/controls",
      "model_module_version": "1.5.0",
      "model_name": "DropdownModel",
      "state": {
       "index": null,
       "layout": "IPY_MODEL_49d8421d6f4e4d488db1bd655f89a30e",
       "style": "IPY_MODEL_4a8af0be878b499d97a7bae1ed0009d0"
      }
     },
     "662e56ddae0f4169b110443342d419e9": {
      "model_module": "@jupyter-widgets/controls",
      "model_module_version": "1.5.0",
      "model_name": "SliderStyleModel",
      "state": {
       "description_width": ""
      }
     },
     "66319b5fedf94e328a2169cc85e30ee7": {
      "model_module": "@jupyter-widgets/controls",
      "model_module_version": "1.5.0",
      "model_name": "SliderStyleModel",
      "state": {
       "description_width": ""
      }
     },
     "665a21b5b0a24ed98abe27fb4169edb8": {
      "model_module": "@jupyter-widgets/controls",
      "model_module_version": "1.5.0",
      "model_name": "ButtonModel",
      "state": {
       "description": "Add",
       "layout": "IPY_MODEL_b3b90cf0e5714dfabfdcf4452cc02351",
       "style": "IPY_MODEL_f8c2776590214d378e6d1f0790fa3fda"
      }
     },
     "66cfa3a226224323bc89e5cd0184f515": {
      "model_module": "@jupyter-widgets/base",
      "model_module_version": "1.2.0",
      "model_name": "LayoutModel",
      "state": {}
     },
     "66d7a1826e15429d8f8f2cf795ccb6c1": {
      "model_module": "@jupyter-widgets/base",
      "model_module_version": "1.2.0",
      "model_name": "LayoutModel",
      "state": {}
     },
     "67461a76be584a8b8d2fa4e2f8aa7d24": {
      "model_module": "@jupyter-widgets/controls",
      "model_module_version": "1.5.0",
      "model_name": "FloatSliderModel",
      "state": {
       "description": "transparency",
       "layout": "IPY_MODEL_b7fff26df0ad46bbaeeb12519d1a0352",
       "max": 1,
       "step": 0.1,
       "style": "IPY_MODEL_30d8f21dda4646f0acb3611afa8c89a6"
      }
     },
     "674ce701a99c4dd290082ac0ca4a9bf8": {
      "model_module": "@jupyter-widgets/controls",
      "model_module_version": "1.5.0",
      "model_name": "DescriptionStyleModel",
      "state": {
       "description_width": ""
      }
     },
     "67555ffb059840dd83d40a952b22cf1d": {
      "model_module": "@jupyter-widgets/base",
      "model_module_version": "1.2.0",
      "model_name": "LayoutModel",
      "state": {}
     },
     "676ef09cd4844c10ba6f4f53d5d24356": {
      "model_module": "@jupyter-widgets/base",
      "model_module_version": "1.2.0",
      "model_name": "LayoutModel",
      "state": {}
     },
     "677b6979d18a4369b43c7d2c7055d352": {
      "model_module": "@jupyter-widgets/controls",
      "model_module_version": "1.5.0",
      "model_name": "TextModel",
      "state": {
       "continuous_update": false,
       "description": "name",
       "layout": "IPY_MODEL_98277c35c08042f6a10536f9cec224a9",
       "style": "IPY_MODEL_83cb5d93b13c4d38906e44f6111942f3",
       "value": "color_4"
      }
     },
     "6791d50a53e24801abf8906493e8c15d": {
      "model_module": "@jupyter-widgets/base",
      "model_module_version": "1.2.0",
      "model_name": "LayoutModel",
      "state": {}
     },
     "679a4e3dbf4340d084066a79f8c8540d": {
      "model_module": "@jupyter-widgets/controls",
      "model_module_version": "1.5.0",
      "model_name": "ButtonModel",
      "state": {
       "description": "Apply changes",
       "layout": "IPY_MODEL_d9ccb67aeb914dbebc9157bdfb5dc23d",
       "style": "IPY_MODEL_ef1d08148f6a452081c3eb7924ab9c8f"
      }
     },
     "67c7aedfc8f04a9bb8e92c4fbabb0fa3": {
      "model_module": "@jupyter-widgets/base",
      "model_module_version": "1.2.0",
      "model_name": "LayoutModel",
      "state": {}
     },
     "67f4e04d08034151b0a50c7edf65de73": {
      "model_module": "@jupyter-widgets/controls",
      "model_module_version": "1.5.0",
      "model_name": "SliderStyleModel",
      "state": {
       "description_width": ""
      }
     },
     "68232feda0524251afd1ce7f9e13de48": {
      "model_module": "@jupyter-widgets/controls",
      "model_module_version": "1.5.0",
      "model_name": "ButtonModel",
      "state": {
       "description": "Delete",
       "layout": "IPY_MODEL_c92427536cb94849b746848ce431f79c",
       "style": "IPY_MODEL_b55b4107cfc640d6b6bf9af9105fd14b"
      }
     },
     "683514619a284a17be83f3e12928bc6a": {
      "model_module": "@jupyter-widgets/controls",
      "model_module_version": "1.5.0",
      "model_name": "IntSliderModel",
      "state": {
       "description": "value",
       "layout": "IPY_MODEL_ac6f0bb182d14b43a5412de39ac1d15a",
       "max": 10,
       "min": 1,
       "style": "IPY_MODEL_ce95b26aa02f45a485c1255eae9a21fa",
       "value": 5
      }
     },
     "6836f870173f481c896bba938c011cdd": {
      "model_module": "@jupyter-widgets/controls",
      "model_module_version": "1.5.0",
      "model_name": "TextModel",
      "state": {
       "continuous_update": false,
       "description": "name",
       "layout": "IPY_MODEL_8b24ac74c0944cd48267de6d5fe2be88",
       "style": "IPY_MODEL_1fc7b2d61c8248a78f6d173ef2c25c28",
       "value": "maxorder"
      }
     },
     "684c8f4df8674412aedac32f204f41a4": {
      "model_module": "@jupyter-widgets/controls",
      "model_module_version": "1.5.0",
      "model_name": "HBoxModel",
      "state": {
       "children": [
        "IPY_MODEL_7d994118bafc4c709d4e82c6555c0cdf"
       ],
       "layout": "IPY_MODEL_78dff3c9b0ab4092885a4681b708b9c4"
      }
     },
     "685616a6a5014c418cc61d6e755db1e7": {
      "model_module": "@jupyter-widgets/base",
      "model_module_version": "1.2.0",
      "model_name": "LayoutModel",
      "state": {}
     },
     "685ee14868fa4a14911917cadbe67018": {
      "model_module": "@jupyter-widgets/controls",
      "model_module_version": "1.5.0",
      "model_name": "DescriptionStyleModel",
      "state": {
       "description_width": ""
      }
     },
     "685f741bdde24dd9b6568dc83684456f": {
      "model_module": "@jupyter-widgets/controls",
      "model_module_version": "1.5.0",
      "model_name": "HBoxModel",
      "state": {
       "children": [
        "IPY_MODEL_4dbcb1266bf2455cbfa6f83b1f69516a",
        "IPY_MODEL_1ea1b9374e5d4145bcc362d9bb9d3624"
       ],
       "layout": "IPY_MODEL_10b64056ecc44e09b5e4933d6dbe52e2"
      }
     },
     "68a0a5b32660431c972bf9ccdf174f33": {
      "model_module": "@jupyter-widgets/base",
      "model_module_version": "1.2.0",
      "model_name": "LayoutModel",
      "state": {}
     },
     "68ae407b0f17478b8bba349c2b362287": {
      "model_module": "@jupyter-widgets/controls",
      "model_module_version": "1.5.0",
      "model_name": "ColorPickerModel",
      "state": {
       "description": "specular",
       "disabled": false,
       "layout": "IPY_MODEL_9adab8c2be424a5f8a9aa5ef3f26e6dd",
       "style": "IPY_MODEL_2d633741e82e4a00811c61de610e3b6b",
       "value": "#282828"
      }
     },
     "68b2471e08bd43108da250cbe509f4c8": {
      "model_module": "@jupyter-widgets/controls",
      "model_module_version": "1.5.0",
      "model_name": "SliderStyleModel",
      "state": {
       "description_width": ""
      }
     },
     "68be4ec169ab4ce9929d4231bbdfaad7": {
      "model_module": "@jupyter-widgets/controls",
      "model_module_version": "1.5.0",
      "model_name": "ButtonStyleModel",
      "state": {}
     },
     "68cfd084a9b844c7b9f46de98db14296": {
      "model_module": "@jupyter-widgets/base",
      "model_module_version": "1.2.0",
      "model_name": "LayoutModel",
      "state": {}
     },
     "68d71aa0477142e7b5ac9a9e6cd735b0": {
      "model_module": "pgljupyter",
      "model_module_version": "^0.1.21",
      "model_name": "FloatEditorModel",
      "state": {
       "_model_module_version": "^0.1.21",
       "_view_module_version": "^0.1.21",
       "children": [
        "IPY_MODEL_d91926552cc04101b20b93a25091f15a",
        "IPY_MODEL_3d43a66e7ba84d16b260aa7cd202f863"
       ],
       "layout": "IPY_MODEL_49306a0c91164b7a808f80e189b3a9ee"
      }
     },
     "690ece26089849d296129aedbf2fd7db": {
      "model_module": "@jupyter-widgets/controls",
      "model_module_version": "1.5.0",
      "model_name": "ButtonModel",
      "state": {
       "description": "Delete",
       "layout": "IPY_MODEL_b948a49b7df74974bc59fba0d18708ef",
       "style": "IPY_MODEL_742b7af996de41e68d2fba76c3bf71d8"
      }
     },
     "694aa30345644ad9836c04cf3497349c": {
      "model_module": "@jupyter-widgets/base",
      "model_module_version": "1.2.0",
      "model_name": "LayoutModel",
      "state": {}
     },
     "6995c922c85748798aa9771f2292b294": {
      "model_module": "@jupyter-widgets/controls",
      "model_module_version": "1.5.0",
      "model_name": "AccordionModel",
      "state": {
       "_titles": {
        "0": "materials",
        "1": "leaf",
        "2": "trunk & branches"
       },
       "children": [
        "IPY_MODEL_42699632d8cb4a18b19918bc9af6af56",
        "IPY_MODEL_c1733f50531e4767a40e92700519d3e1",
        "IPY_MODEL_3e6433047ff24d7993bc94f867353b36"
       ],
       "layout": "IPY_MODEL_cb2c668918b54c28a23bfa9edc932df0"
      }
     },
     "699fdd8b68ce4088bee5ea97075c85ef": {
      "model_module": "@jupyter-widgets/controls",
      "model_module_version": "1.5.0",
      "model_name": "HBoxModel",
      "state": {
       "children": [
        "IPY_MODEL_51cef2aa605e461f8d0f1f518f7427c4",
        "IPY_MODEL_a2621c9fa86a4cef802aae2710c3be5f"
       ],
       "layout": "IPY_MODEL_bdcbb93f812947e88d3b05e0e12e3467"
      }
     },
     "69adca6b2b7d471ca668269a5c227e1f": {
      "model_module": "@jupyter-widgets/controls",
      "model_module_version": "1.5.0",
      "model_name": "DescriptionStyleModel",
      "state": {
       "description_width": ""
      }
     },
     "69c450ec1a01424db338088654b05a79": {
      "model_module": "@jupyter-widgets/base",
      "model_module_version": "1.2.0",
      "model_name": "LayoutModel",
      "state": {}
     },
     "6a018a7ac45f43ed9fb495ac70a32468": {
      "model_module": "@jupyter-widgets/base",
      "model_module_version": "1.2.0",
      "model_name": "LayoutModel",
      "state": {}
     },
     "6a9570578894414ebd3507f4aa341efc": {
      "model_module": "pgljupyter",
      "model_module_version": "^0.1.21",
      "model_name": "LsystemWidgetModel",
      "state": {
       "_model_module_version": "^0.1.21",
       "_view_module_version": "^0.1.21",
       "axes_helper": false,
       "derivationLength": 42,
       "layout": "IPY_MODEL_d52fb0d8ec634c9e8f5209c9cbd03a9e",
       "light_helper": false,
       "plane": true,
       "size_display": [
        600,
        400
       ],
       "size_world": 50
      }
     },
     "6a95929048464d27b92643ff9e093d6b": {
      "model_module": "@jupyter-widgets/base",
      "model_module_version": "1.2.0",
      "model_name": "LayoutModel",
      "state": {}
     },
     "6a96352f36b9452bba44e1ee4b108426": {
      "model_module": "@jupyter-widgets/controls",
      "model_module_version": "1.5.0",
      "model_name": "SliderStyleModel",
      "state": {
       "description_width": ""
      }
     },
     "6ab377277f3f47c19b9225d757195275": {
      "model_module": "@jupyter-widgets/base",
      "model_module_version": "1.2.0",
      "model_name": "LayoutModel",
      "state": {}
     },
     "6ae70c48f5bb42129c7504bfebdb6214": {
      "model_module": "@jupyter-widgets/controls",
      "model_module_version": "1.5.0",
      "model_name": "HBoxModel",
      "state": {
       "children": [
        "IPY_MODEL_b7b39fab097644ca98be08e07da74097",
        "IPY_MODEL_1ae92564132343389b54704803f15403"
       ],
       "layout": "IPY_MODEL_f84fb842bfdc4ca69b673ea45abcdf91"
      }
     },
     "6af77e29019b4e689db91f5541c76b14": {
      "model_module": "@jupyter-widgets/controls",
      "model_module_version": "1.5.0",
      "model_name": "ColorPickerModel",
      "state": {
       "description": "emission",
       "disabled": false,
       "layout": "IPY_MODEL_055dec0cea5041829e855a22e1086bb8",
       "style": "IPY_MODEL_cec3e99efbcc48f4949ee3f961d09c72",
       "value": "#000000"
      }
     },
     "6afde54ff02642b099358c5671f1b873": {
      "model_module": "@jupyter-widgets/controls",
      "model_module_version": "1.5.0",
      "model_name": "ButtonModel",
      "state": {
       "description": "Add",
       "layout": "IPY_MODEL_21f3349a602545288f617c05af0e2a85",
       "style": "IPY_MODEL_510489c076f34b2bb4ed405c0bd2e184"
      }
     },
     "6b54e408638a4d85935aa261112cb2bb": {
      "model_module": "@jupyter-widgets/controls",
      "model_module_version": "1.5.0",
      "model_name": "SliderStyleModel",
      "state": {
       "description_width": ""
      }
     },
     "6b64f44ea36c41a0bce14ae865b76233": {
      "model_module": "@jupyter-widgets/controls",
      "model_module_version": "1.5.0",
      "model_name": "HBoxModel",
      "state": {
       "layout": "IPY_MODEL_5a7768daa7114d36b770ea435fe36cec"
      }
     },
     "6b7f50760bbe40128e53e8730548a7c5": {
      "model_module": "@jupyter-widgets/controls",
      "model_module_version": "1.5.0",
      "model_name": "TextModel",
      "state": {
       "continuous_update": false,
       "description": "name",
       "layout": "IPY_MODEL_2748b3bc98584be89e557777f606f30e",
       "style": "IPY_MODEL_5e82b30d25f94292a4d76ae8c23684da",
       "value": "color_3"
      }
     },
     "6b8f0820ce5e43c796130647fa6eec1e": {
      "model_module": "@jupyter-widgets/controls",
      "model_module_version": "1.5.0",
      "model_name": "ButtonStyleModel",
      "state": {}
     },
     "6b9b12000c3449fd833f068eef7fefa7": {
      "model_module": "@jupyter-widgets/base",
      "model_module_version": "1.2.0",
      "model_name": "LayoutModel",
      "state": {}
     },
     "6baaf717d33f4125b9871fa60bac0a2f": {
      "model_module": "@jupyter-widgets/controls",
      "model_module_version": "1.5.0",
      "model_name": "TextModel",
      "state": {
       "continuous_update": false,
       "description": "name",
       "layout": "IPY_MODEL_dc6fe4ae93724ee697ccb6414fa8bd2b",
       "style": "IPY_MODEL_f8bb53ae98a6404eb9fbd8309f221e79",
       "value": "color_2"
      }
     },
     "6bbc88a5645f4f34bc382a3d79ab54d0": {
      "model_module": "@jupyter-widgets/controls",
      "model_module_version": "1.5.0",
      "model_name": "HBoxModel",
      "state": {
       "children": [
        "IPY_MODEL_b0fb1ac3eab4429faa1c3064bf965e64",
        "IPY_MODEL_13ef4f1f81a4430aa1f08839e278e50f"
       ],
       "layout": "IPY_MODEL_7e4f103663654092a3b6f3f18908d2a4"
      }
     },
     "6bdedae54c80433d896fd303f7e37987": {
      "model_module": "@jupyter-widgets/controls",
      "model_module_version": "1.5.0",
      "model_name": "HBoxModel",
      "state": {
       "children": [
        "IPY_MODEL_746de6547f2f4d878ec09579509f5e7d",
        "IPY_MODEL_699fdd8b68ce4088bee5ea97075c85ef"
       ],
       "layout": "IPY_MODEL_5a6aab1bb709492da4f69389f9069c24"
      }
     },
     "6be8b624abb24c98af91054c27cba856": {
      "model_module": "@jupyter-widgets/controls",
      "model_module_version": "1.5.0",
      "model_name": "ButtonStyleModel",
      "state": {}
     },
     "6c062a627e074314b2c9f10cb62a60ff": {
      "model_module": "@jupyter-widgets/controls",
      "model_module_version": "1.5.0",
      "model_name": "DescriptionStyleModel",
      "state": {
       "description_width": ""
      }
     },
     "6c671f207c164abd949a12ac8032908b": {
      "model_module": "@jupyter-widgets/base",
      "model_module_version": "1.2.0",
      "model_name": "LayoutModel",
      "state": {}
     },
     "6c692b6a751b4f9a87b763ae9a055554": {
      "model_module": "pgljupyter",
      "model_module_version": "^0.1.21",
      "model_name": "IntEditorModel",
      "state": {
       "_model_module_version": "^0.1.21",
       "_view_module_version": "^0.1.21",
       "children": [
        "IPY_MODEL_0d310866a28c4c1ab0562409f5a1baa5",
        "IPY_MODEL_543008b05d50479590c3d4e3bc492779"
       ],
       "layout": "IPY_MODEL_459815904a114cb9b092e8b2c8f014dd"
      }
     },
     "6c9077201cf9427b930095c29dff128d": {
      "model_module": "@jupyter-widgets/base",
      "model_module_version": "1.2.0",
      "model_name": "LayoutModel",
      "state": {}
     },
     "6cafa8125cbe44e2b212a499900a8f16": {
      "model_module": "@jupyter-widgets/controls",
      "model_module_version": "1.5.0",
      "model_name": "ButtonStyleModel",
      "state": {}
     },
     "6cb02b695e9b429fb82b362a464e95d4": {
      "model_module": "@jupyter-widgets/base",
      "model_module_version": "1.2.0",
      "model_name": "LayoutModel",
      "state": {}
     },
     "6cc1f038278244dfa83d00a7f7e12088": {
      "model_module": "@jupyter-widgets/controls",
      "model_module_version": "1.5.0",
      "model_name": "DescriptionStyleModel",
      "state": {
       "description_width": ""
      }
     },
     "6d1a398411bc4c81808725799dd684d4": {
      "model_module": "@jupyter-widgets/controls",
      "model_module_version": "1.5.0",
      "model_name": "DescriptionStyleModel",
      "state": {
       "description_width": ""
      }
     },
     "6d4072720b9f49d79f96a3e2beff6e17": {
      "model_module": "@jupyter-widgets/controls",
      "model_module_version": "1.5.0",
      "model_name": "ButtonStyleModel",
      "state": {}
     },
     "6d5e3a1f1f6e4037b118fad920b662c6": {
      "model_module": "@jupyter-widgets/controls",
      "model_module_version": "1.5.0",
      "model_name": "ButtonStyleModel",
      "state": {}
     },
     "6d6eb3e3ec334446bb6f3806b0c2bd8d": {
      "model_module": "@jupyter-widgets/base",
      "model_module_version": "1.2.0",
      "model_name": "LayoutModel",
      "state": {}
     },
     "6d8d2b229cc647d08308701c382a11a7": {
      "model_module": "@jupyter-widgets/base",
      "model_module_version": "1.2.0",
      "model_name": "LayoutModel",
      "state": {}
     },
     "6d9cd9fec46242309f65481bd57e1ab6": {
      "model_module": "@jupyter-widgets/controls",
      "model_module_version": "1.5.0",
      "model_name": "SliderStyleModel",
      "state": {
       "description_width": ""
      }
     },
     "6dc7af3ab18949c5af3d4e2a41944457": {
      "model_module": "@jupyter-widgets/controls",
      "model_module_version": "1.5.0",
      "model_name": "DescriptionStyleModel",
      "state": {
       "description_width": ""
      }
     },
     "6dcf6d518b354f35a404160bd83b6ff7": {
      "model_module": "@jupyter-widgets/base",
      "model_module_version": "1.2.0",
      "model_name": "LayoutModel",
      "state": {}
     },
     "6e149d6140aa4abca3c6a495c874087e": {
      "model_module": "@jupyter-widgets/controls",
      "model_module_version": "1.5.0",
      "model_name": "CheckboxModel",
      "state": {
       "description": "Auto apply",
       "disabled": false,
       "layout": "IPY_MODEL_2de7c371544e409a8f3f128430eeced9",
       "style": "IPY_MODEL_6c062a627e074314b2c9f10cb62a60ff",
       "value": false
      }
     },
     "6e86329f62f04d64897ff3b96a1bfe58": {
      "model_module": "@jupyter-widgets/base",
      "model_module_version": "1.2.0",
      "model_name": "LayoutModel",
      "state": {}
     },
     "6eb1ab587c7b4b10b6c7a97e430683cf": {
      "model_module": "@jupyter-widgets/controls",
      "model_module_version": "1.5.0",
      "model_name": "DescriptionStyleModel",
      "state": {
       "description_width": ""
      }
     },
     "6ec1cbd07a644f899b126df86b0690ab": {
      "model_module": "@jupyter-widgets/controls",
      "model_module_version": "1.5.0",
      "model_name": "SliderStyleModel",
      "state": {
       "description_width": ""
      }
     },
     "6ecb092e2f024e54ab3e5a0f2fecdaa1": {
      "model_module": "@jupyter-widgets/base",
      "model_module_version": "1.2.0",
      "model_name": "LayoutModel",
      "state": {}
     },
     "6f0a69f339134e55b948c90d45650703": {
      "model_module": "@jupyter-widgets/base",
      "model_module_version": "1.2.0",
      "model_name": "LayoutModel",
      "state": {}
     },
     "6f0f8070aff54befb01d59fb84b450b7": {
      "model_module": "@jupyter-widgets/controls",
      "model_module_version": "1.5.0",
      "model_name": "HBoxModel",
      "state": {
       "children": [
        "IPY_MODEL_d94927052fb046c4b476563ba1404936",
        "IPY_MODEL_bdd912ccd9594f2c93aaed30b1a57ee8"
       ],
       "layout": "IPY_MODEL_5404c74b739a4b1f9611340837468322"
      }
     },
     "6f100fcdb69247f5bfc0c8803ddbae68": {
      "model_module": "@jupyter-widgets/base",
      "model_module_version": "1.2.0",
      "model_name": "LayoutModel",
      "state": {
       "margin": "20px 0px"
      }
     },
     "6f1858b8e9c6421b9b4fe2362c1009c7": {
      "model_module": "@jupyter-widgets/base",
      "model_module_version": "1.2.0",
      "model_name": "LayoutModel",
      "state": {}
     },
     "6f2b90d0eaeb458c92aa8d4c7eda4de5": {
      "model_module": "@jupyter-widgets/base",
      "model_module_version": "1.2.0",
      "model_name": "LayoutModel",
      "state": {}
     },
     "6f5e6f5355bd440d8af5ee837dac75a9": {
      "model_module": "@jupyter-widgets/base",
      "model_module_version": "1.2.0",
      "model_name": "LayoutModel",
      "state": {
       "flex_flow": "row wrap",
       "margin": "20px"
      }
     },
     "6f8caadf4ec44ff08a9be51eeb0f01f2": {
      "model_module": "@jupyter-widgets/base",
      "model_module_version": "1.2.0",
      "model_name": "LayoutModel",
      "state": {
       "margin": "10px 10px"
      }
     },
     "6fd19ee64db44d74845df2372b542b69": {
      "model_module": "@jupyter-widgets/controls",
      "model_module_version": "1.5.0",
      "model_name": "ColorPickerModel",
      "state": {
       "description": "ambient",
       "disabled": false,
       "layout": "IPY_MODEL_dc9e29879357411bbba01c813ba6f9f4",
       "style": "IPY_MODEL_72a0a0e0aead47d2aa630983d0ff942c",
       "value": "#195717"
      }
     },
     "6fdc9886fdbf46dda46199abcd2ce19a": {
      "model_module": "@jupyter-widgets/controls",
      "model_module_version": "1.5.0",
      "model_name": "DescriptionStyleModel",
      "state": {
       "description_width": ""
      }
     },
     "6ff5f5b575424b1aadc6de709ae0596e": {
      "model_module": "@jupyter-widgets/controls",
      "model_module_version": "1.5.0",
      "model_name": "HBoxModel",
      "state": {
       "children": [
        "IPY_MODEL_ed6a7f88ae4744d49b47dd18c74fab70",
        "IPY_MODEL_a12bf960042943e8b1e8bbee51abb425"
       ],
       "layout": "IPY_MODEL_d522f154218a4d53baef2b0682693996"
      }
     },
     "6ffd3972526c43f5977af4b0b2029a29": {
      "model_module": "@jupyter-widgets/controls",
      "model_module_version": "1.5.0",
      "model_name": "DescriptionStyleModel",
      "state": {
       "description_width": ""
      }
     },
     "700dd60141fd4249986e07f948bfdfa6": {
      "model_module": "@jupyter-widgets/controls",
      "model_module_version": "1.5.0",
      "model_name": "HBoxModel",
      "state": {
       "children": [
        "IPY_MODEL_685f741bdde24dd9b6568dc83684456f",
        "IPY_MODEL_7c750cbcded74037bf60b8b54b2a479b"
       ],
       "layout": "IPY_MODEL_f84fb842bfdc4ca69b673ea45abcdf91"
      }
     },
     "7015fbbda9c047b391aecaeef63cd104": {
      "model_module": "@jupyter-widgets/base",
      "model_module_version": "1.2.0",
      "model_name": "LayoutModel",
      "state": {}
     },
     "70345d5e492f4c59a07d9d7fe6543942": {
      "model_module": "@jupyter-widgets/controls",
      "model_module_version": "1.5.0",
      "model_name": "DescriptionStyleModel",
      "state": {
       "description_width": ""
      }
     },
     "704c51f2b4274443ae0128fcab864aca": {
      "model_module": "pgljupyter",
      "model_module_version": "^0.1.21",
      "model_name": "IntEditorModel",
      "state": {
       "_model_module_version": "^0.1.21",
       "_view_module_version": "^0.1.21",
       "children": [
        "IPY_MODEL_3906a75a08ed413aba2363f7e4fa3366",
        "IPY_MODEL_2c4f8c87f0eb4c48a1315f8f85b34133"
       ],
       "layout": "IPY_MODEL_eba7cf85bd6046aca8a8d6411fcef311"
      }
     },
     "70551849ae9141f5a0454038fa931d31": {
      "model_module": "@jupyter-widgets/controls",
      "model_module_version": "1.5.0",
      "model_name": "ButtonStyleModel",
      "state": {}
     },
     "706b28339ad7452ea4636ed8533aa145": {
      "model_module": "@jupyter-widgets/base",
      "model_module_version": "1.2.0",
      "model_name": "LayoutModel",
      "state": {}
     },
     "70cd0cda1a844c278ad4555f50d5490a": {
      "model_module": "@jupyter-widgets/controls",
      "model_module_version": "1.5.0",
      "model_name": "ButtonStyleModel",
      "state": {}
     },
     "70dda571646341ceb6f35058be924baf": {
      "model_module": "@jupyter-widgets/controls",
      "model_module_version": "1.5.0",
      "model_name": "ColorPickerModel",
      "state": {
       "description": "emission",
       "disabled": false,
       "layout": "IPY_MODEL_13642e1addcd465cbd7d516a101c2713",
       "style": "IPY_MODEL_b042067711c749ddbe44af8d0b266773",
       "value": "#000000"
      }
     },
     "70f57e2c0344454288ed8ac17019df5e": {
      "model_module": "@jupyter-widgets/base",
      "model_module_version": "1.2.0",
      "model_name": "LayoutModel",
      "state": {}
     },
     "71181c0856bf4f019a94995d5325d299": {
      "model_module": "@jupyter-widgets/controls",
      "model_module_version": "1.5.0",
      "model_name": "DescriptionStyleModel",
      "state": {
       "description_width": ""
      }
     },
     "7143e8b98f0d40c895aacadcde1ca010": {
      "model_module": "@jupyter-widgets/controls",
      "model_module_version": "1.5.0",
      "model_name": "HBoxModel",
      "state": {
       "layout": "IPY_MODEL_8b9a41a0b095405186d1eec77ac0c839"
      }
     },
     "71477cc008b246dda88280fd345c2937": {
      "model_module": "@jupyter-widgets/base",
      "model_module_version": "1.2.0",
      "model_name": "LayoutModel",
      "state": {}
     },
     "715606022a044632ac89eb213623d18a": {
      "model_module": "@jupyter-widgets/controls",
      "model_module_version": "1.5.0",
      "model_name": "BoundedIntTextModel",
      "state": {
       "description": "step",
       "layout": "IPY_MODEL_5532c2cdd5f24b1ebfeff4de061e7901",
       "min": 1,
       "style": "IPY_MODEL_e41cb6704a0a4c06a028ae53e9f988ee",
       "value": 1
      }
     },
     "718976f5e4da429abce9bf4719b35303": {
      "model_module": "@jupyter-widgets/controls",
      "model_module_version": "1.5.0",
      "model_name": "ButtonStyleModel",
      "state": {}
     },
     "71bb87308f7f413585405d1a1df6ad8f": {
      "model_module": "@jupyter-widgets/controls",
      "model_module_version": "1.5.0",
      "model_name": "BoundedIntTextModel",
      "state": {
       "description": "step",
       "layout": "IPY_MODEL_d3b85fda8a3a4608a7bd96283095fedd",
       "min": 1,
       "style": "IPY_MODEL_5f35732199e94b7981ff948790caec12",
       "value": 1
      }
     },
     "71bc512b2098424d90eb915826bf82e4": {
      "model_module": "@jupyter-widgets/base",
      "model_module_version": "1.2.0",
      "model_name": "LayoutModel",
      "state": {}
     },
     "720602bd96314ddbb7e19314e2bb1ac7": {
      "model_module": "@jupyter-widgets/base",
      "model_module_version": "1.2.0",
      "model_name": "LayoutModel",
      "state": {}
     },
     "72233f9b078644c7b23019e335582338": {
      "model_module": "@jupyter-widgets/base",
      "model_module_version": "1.2.0",
      "model_name": "LayoutModel",
      "state": {}
     },
     "726ea6227a9140b58c2e2db0b3c05e1f": {
      "model_module": "@jupyter-widgets/base",
      "model_module_version": "1.2.0",
      "model_name": "LayoutModel",
      "state": {
       "margin": "20px 0px"
      }
     },
     "727da00b96284e60887f830c92663006": {
      "model_module": "@jupyter-widgets/controls",
      "model_module_version": "1.5.0",
      "model_name": "HBoxModel",
      "state": {
       "children": [
        "IPY_MODEL_04cbb9188a174a70bb551de95a1ec0a3",
        "IPY_MODEL_9c81b23cc78347d3b3f5498f783fd5c4"
       ],
       "layout": "IPY_MODEL_fe9595ab730a4f21a90e37b95c64eb35"
      }
     },
     "7293a88c1ab941aabcecd4f6d4f03a08": {
      "model_module": "@jupyter-widgets/base",
      "model_module_version": "1.2.0",
      "model_name": "LayoutModel",
      "state": {}
     },
     "72a0a0e0aead47d2aa630983d0ff942c": {
      "model_module": "@jupyter-widgets/controls",
      "model_module_version": "1.5.0",
      "model_name": "DescriptionStyleModel",
      "state": {
       "description_width": ""
      }
     },
     "73496737da0c4b479a2e43c89062fdf3": {
      "model_module": "@jupyter-widgets/controls",
      "model_module_version": "1.5.0",
      "model_name": "AccordionModel",
      "state": {
       "_titles": {
        "0": "options",
        "1": "materials",
        "2": "leaf"
       },
       "children": [
        "IPY_MODEL_3036709698c94d53ac94124615b9612e",
        "IPY_MODEL_b8b9b3ffeaac416c9b974d5332062d10",
        "IPY_MODEL_353ddb1420fc4c4b98046d215b3a0a75"
       ],
       "layout": "IPY_MODEL_1b44d596a79d4717bb36340cb0ec6094"
      }
     },
     "737e4a4107604e689afd07fac4b3e826": {
      "model_module": "@jupyter-widgets/controls",
      "model_module_version": "1.5.0",
      "model_name": "HBoxModel",
      "state": {
       "children": [
        "IPY_MODEL_ce2c33204f164aad889970e5a43d3a08",
        "IPY_MODEL_ab189c2f0b2140e991588634d1926a8d"
       ],
       "layout": "IPY_MODEL_f84fb842bfdc4ca69b673ea45abcdf91"
      }
     },
     "739e971cac0b4afb9648797358bad379": {
      "model_module": "pgljupyter",
      "model_module_version": "^0.2.0",
      "model_name": "ParameterEditorModel",
      "state": {
       "_model_module_version": "^0.2.0",
       "_view_module_version": "^0.2.0",
       "children": [
        "IPY_MODEL_113715feff46405a9f829a04036857fc"
       ],
       "layout": "IPY_MODEL_9c9e8e570eeb465eb30c7eb226f210ab"
      }
     },
     "73c2343975874c018e3bdb7a49cd342d": {
      "model_module": "@jupyter-widgets/controls",
      "model_module_version": "1.5.0",
      "model_name": "DropdownModel",
      "state": {
       "_options_labels": [
        "trunk",
        "leaf_new",
        "apex",
        "leaf_old"
       ],
       "index": 0,
       "layout": "IPY_MODEL_25d30d60259b4572b8731631d759ac9a",
       "style": "IPY_MODEL_0a200097686c4829bf34b9b3a60ec5a8"
      }
     },
     "73f23e73ddf440029997bd7411d5ebcb": {
      "model_module": "@jupyter-widgets/controls",
      "model_module_version": "1.5.0",
      "model_name": "HBoxModel",
      "state": {
       "children": [
        "IPY_MODEL_782bd34cf5564501951efef7290ab675",
        "IPY_MODEL_d3295221ce1f424ebee2f857573f74f6"
       ],
       "layout": "IPY_MODEL_a74963dac2344d5ab99396cfdd373704"
      }
     },
     "741f71d31ee4432f826a1a5983faff8b": {
      "model_module": "pgljupyter",
      "model_module_version": "^0.1.16",
      "model_name": "FloatEditorModel",
      "state": {
       "_model_module_version": "^0.1.16",
       "_view_module_version": "^0.1.16",
       "children": [
        "IPY_MODEL_161390ba99e04b138bc28fa9c249c180",
        "IPY_MODEL_203480e9c215468ea9ab336c23360aec",
        "IPY_MODEL_f6bd143eb72a4021a9ee1d0db9b45016",
        "IPY_MODEL_436612109cc345eab450803b93d883e8",
        "IPY_MODEL_9d12e0ef939e4807b6d9a006fce2d523"
       ],
       "layout": "IPY_MODEL_b763b1260b354b23ae6671768bc4a076"
      }
     },
     "742b7af996de41e68d2fba76c3bf71d8": {
      "model_module": "@jupyter-widgets/controls",
      "model_module_version": "1.5.0",
      "model_name": "ButtonStyleModel",
      "state": {}
     },
     "743b4d10e04e429daa73128e21f65475": {
      "model_module": "@jupyter-widgets/controls",
      "model_module_version": "1.5.0",
      "model_name": "BoundedIntTextModel",
      "state": {
       "description": "index",
       "layout": "IPY_MODEL_f3c024e88d6640b3b187291687dc790d",
       "style": "IPY_MODEL_2a3d358efbf34acb9c7a60be2b6f23ae",
       "value": 4
      }
     },
     "744795a86db044f098523c400f8e0b54": {
      "model_module": "@jupyter-widgets/controls",
      "model_module_version": "1.5.0",
      "model_name": "DropdownModel",
      "state": {
       "_options_labels": [
        "color_1",
        "color_2",
        "color_3",
        "color_4"
       ],
       "index": 0,
       "layout": "IPY_MODEL_b170506f70d34c96b69cc2e6cb10b936",
       "style": "IPY_MODEL_455df1ed61f5486cac7c517343725455"
      }
     },
     "745b3376562c41a59ce78b7fb72eac55": {
      "model_module": "@jupyter-widgets/controls",
      "model_module_version": "1.5.0",
      "model_name": "FloatSliderModel",
      "state": {
       "description": "shininess",
       "layout": "IPY_MODEL_2cf86b3c818d4ae9854cb7c3aba3e9e5",
       "max": 1,
       "step": 0.1,
       "style": "IPY_MODEL_cc14692e35cc4df3a41f6c4a0b9ab26e",
       "value": 0.2
      }
     },
     "746de6547f2f4d878ec09579509f5e7d": {
      "model_module": "@jupyter-widgets/controls",
      "model_module_version": "1.5.0",
      "model_name": "HBoxModel",
      "state": {
       "children": [
        "IPY_MODEL_2cebf6544aeb43e5867b20b905a27538",
        "IPY_MODEL_b5d23766ee1b4de98cd72e67ca0961f4"
       ],
       "layout": "IPY_MODEL_fdfa37b789c94f49849c21a3d2bec28a"
      }
     },
     "74bb39c50046421c8cf174ea8b853142": {
      "model_module": "@jupyter-widgets/controls",
      "model_module_version": "1.5.0",
      "model_name": "HBoxModel",
      "state": {
       "layout": "IPY_MODEL_8d56c586bca3464d8c5cb36ae761ba46"
      }
     },
     "74dde666b12e4ccdbc62eb47f41ed106": {
      "model_module": "@jupyter-widgets/controls",
      "model_module_version": "1.5.0",
      "model_name": "DescriptionStyleModel",
      "state": {
       "description_width": ""
      }
     },
     "754a8ec29fb14d7087455060f4d25989": {
      "model_module": "@jupyter-widgets/controls",
      "model_module_version": "1.5.0",
      "model_name": "DescriptionStyleModel",
      "state": {
       "description_width": ""
      }
     },
     "754eef940be14d05ae2afa1c1b3f2e0d": {
      "model_module": "@jupyter-widgets/controls",
      "model_module_version": "1.5.0",
      "model_name": "HBoxModel",
      "state": {
       "layout": "IPY_MODEL_5ffcfabea4324e77ba7847c89942d8f5"
      }
     },
     "755c1c70762c49c99b070ee87d978fe3": {
      "model_module": "@jupyter-widgets/controls",
      "model_module_version": "1.5.0",
      "model_name": "ButtonModel",
      "state": {
       "description": "Delete category",
       "layout": "IPY_MODEL_2924304826be4bcbbec3dd2b0c517649",
       "style": "IPY_MODEL_bee6c3276d1d45d3afbfa6bbc7f3dac1"
      }
     },
     "7607d9a6764a4b5585e648fdb1289c55": {
      "model_module": "@jupyter-widgets/controls",
      "model_module_version": "1.5.0",
      "model_name": "HBoxModel",
      "state": {
       "children": [
        "IPY_MODEL_79313a604b5a4876b96188649d9844ed",
        "IPY_MODEL_8e07259218964759aa0e3756812d03d4",
        "IPY_MODEL_3e2965ac15734eacbe93346089045d2a",
        "IPY_MODEL_741f71d31ee4432f826a1a5983faff8b",
        "IPY_MODEL_26b2b92b694649c3b974782805831251"
       ],
       "layout": "IPY_MODEL_5a7768daa7114d36b770ea435fe36cec"
      }
     },
     "761fbbca71f145a5969c4290b8309933": {
      "model_module": "@jupyter-widgets/base",
      "model_module_version": "1.2.0",
      "model_name": "LayoutModel",
      "state": {
       "margin": "20px 0px"
      }
     },
     "767069b5239041d1a94bed85e955db0b": {
      "model_module": "@jupyter-widgets/controls",
      "model_module_version": "1.5.0",
      "model_name": "HBoxModel",
      "state": {
       "children": [
        "IPY_MODEL_2b91b62c30f74a2d80349a21cd49380b",
        "IPY_MODEL_f142e994cc534a86867a64e2eda8db55"
       ],
       "layout": "IPY_MODEL_7e4f103663654092a3b6f3f18908d2a4"
      }
     },
     "768416184c784ccc90f3432b6d9b15da": {
      "model_module": "@jupyter-widgets/controls",
      "model_module_version": "1.5.0",
      "model_name": "DescriptionStyleModel",
      "state": {
       "description_width": ""
      }
     },
     "7684bf627af64c99a1beb3e9c3800d93": {
      "model_module": "@jupyter-widgets/base",
      "model_module_version": "1.2.0",
      "model_name": "LayoutModel",
      "state": {}
     },
     "76962f026cd343edbb2be1f47b259f8e": {
      "model_module": "@jupyter-widgets/controls",
      "model_module_version": "1.5.0",
      "model_name": "DropdownModel",
      "state": {
       "_options_labels": [
        "color_1",
        "color_2",
        "color_3",
        "color_4"
       ],
       "index": 0,
       "layout": "IPY_MODEL_41cc1db02ba64e62b40ee9b19a788ac1",
       "style": "IPY_MODEL_164bcfa6695d41c4828175244e8404ae"
      }
     },
     "769de7cf8d7e429d8f80a5713fb7ebfa": {
      "model_module": "@jupyter-widgets/base",
      "model_module_version": "1.2.0",
      "model_name": "LayoutModel",
      "state": {}
     },
     "76a7891c95b448d2af9b34121cc3d931": {
      "model_module": "@jupyter-widgets/controls",
      "model_module_version": "1.5.0",
      "model_name": "HBoxModel",
      "state": {
       "children": [
        "IPY_MODEL_c857186aabb743a182bad020b5b61e91"
       ],
       "layout": "IPY_MODEL_f84fb842bfdc4ca69b673ea45abcdf91"
      }
     },
     "76ebe3b2efb042b0b745b891af6193b3": {
      "model_module": "@jupyter-widgets/controls",
      "model_module_version": "1.5.0",
      "model_name": "DescriptionStyleModel",
      "state": {
       "description_width": ""
      }
     },
     "76fa5974fc594088898aeca9c0523cbd": {
      "model_module": "@jupyter-widgets/base",
      "model_module_version": "1.2.0",
      "model_name": "LayoutModel",
      "state": {}
     },
     "7712426c5f4b4063af82886fae09a405": {
      "model_module": "@jupyter-widgets/base",
      "model_module_version": "1.2.0",
      "model_name": "LayoutModel",
      "state": {}
     },
     "7740beb2c49f45218e9e7fa1fe1a8432": {
      "model_module": "@jupyter-widgets/base",
      "model_module_version": "1.2.0",
      "model_name": "LayoutModel",
      "state": {}
     },
     "77bb0a66c7374c4d92144e5900b028a0": {
      "model_module": "@jupyter-widgets/controls",
      "model_module_version": "1.5.0",
      "model_name": "HBoxModel",
      "state": {
       "children": [
        "IPY_MODEL_af76f68e255a49a9a097846d5b100896",
        "IPY_MODEL_93d66b3b8d5148e096acb7c3b08dcb94"
       ],
       "layout": "IPY_MODEL_78dff3c9b0ab4092885a4681b708b9c4"
      }
     },
     "77fc433d7ea240f0b05864afbc6f627a": {
      "model_module": "@jupyter-widgets/base",
      "model_module_version": "1.2.0",
      "model_name": "LayoutModel",
      "state": {
       "flex_flow": "row wrap"
      }
     },
     "7820f3eb666143e08c9689ceabf9f92e": {
      "model_module": "@jupyter-widgets/controls",
      "model_module_version": "1.5.0",
      "model_name": "ColorPickerModel",
      "state": {
       "description": "specular",
       "disabled": false,
       "layout": "IPY_MODEL_fb438b1cc1484336bb3533aa50de8e15",
       "style": "IPY_MODEL_38c72ff473424ad9bfe39cfda219b63e",
       "value": "#282828"
      }
     },
     "782bd34cf5564501951efef7290ab675": {
      "model_module": "@jupyter-widgets/controls",
      "model_module_version": "1.5.0",
      "model_name": "ButtonModel",
      "state": {
       "description": "Add",
       "layout": "IPY_MODEL_b896d4c5ba084261b9772c2ec6244463",
       "style": "IPY_MODEL_2d0c3904e1ae45eaa6ffc4291f335b1f"
      }
     },
     "7844922bdc964f79876f85b1d4fdf8b4": {
      "model_module": "@jupyter-widgets/controls",
      "model_module_version": "1.5.0",
      "model_name": "DescriptionStyleModel",
      "state": {
       "description_width": ""
      }
     },
     "7847f6e3bd894ee48f1555c248f27c90": {
      "model_module": "@jupyter-widgets/controls",
      "model_module_version": "1.5.0",
      "model_name": "DropdownModel",
      "state": {
       "_options_labels": [
        "Integer",
        "Float",
        "Bool"
       ],
       "index": 0,
       "layout": "IPY_MODEL_d35e87005bca48c5862abf4e837a1469",
       "style": "IPY_MODEL_3de3b034852b47c9a285b62f838b9986"
      }
     },
     "7854ff74524f4fe689ec29f12ee822fa": {
      "model_module": "@jupyter-widgets/controls",
      "model_module_version": "1.5.0",
      "model_name": "DescriptionStyleModel",
      "state": {
       "description_width": ""
      }
     },
     "7878f40721f94603b8bcdf02db2a6f8c": {
      "model_module": "@jupyter-widgets/controls",
      "model_module_version": "1.5.0",
      "model_name": "ButtonStyleModel",
      "state": {}
     },
     "78a56862f5a740aaa2c18c802f594ae3": {
      "model_module": "@jupyter-widgets/controls",
      "model_module_version": "1.5.0",
      "model_name": "ButtonModel",
      "state": {
       "description": "Delete",
       "layout": "IPY_MODEL_e26b5a72c4804b45ac1297a1057354a5",
       "style": "IPY_MODEL_70551849ae9141f5a0454038fa931d31"
      }
     },
     "78dff3c9b0ab4092885a4681b708b9c4": {
      "model_module": "@jupyter-widgets/base",
      "model_module_version": "1.2.0",
      "model_name": "LayoutModel",
      "state": {
       "flex_flow": "row wrap",
       "margin": "20px"
      }
     },
     "78f64a9316a54addbb907fdb74325de3": {
      "model_module": "@jupyter-widgets/base",
      "model_module_version": "1.2.0",
      "model_name": "LayoutModel",
      "state": {}
     },
     "7929a2686ff24e638383a6c077619e2f": {
      "model_module": "@jupyter-widgets/base",
      "model_module_version": "1.2.0",
      "model_name": "LayoutModel",
      "state": {}
     },
     "79313a604b5a4876b96188649d9844ed": {
      "model_module": "pgljupyter",
      "model_module_version": "^0.1.16",
      "model_name": "IntEditorModel",
      "state": {
       "_model_module_version": "^0.1.16",
       "_view_module_version": "^0.1.16",
       "children": [
        "IPY_MODEL_5151e6200d794a008b1bd7d40fbc162c",
        "IPY_MODEL_240b06896b1447a29608ee2c0041a5bc",
        "IPY_MODEL_cd863832ae4f4c2a9fb4238d4fe72b7d",
        "IPY_MODEL_b233f15e47474a7198fb26deae803dcc",
        "IPY_MODEL_b4f90847a77b4195b5dc4d2c29806c64"
       ],
       "layout": "IPY_MODEL_f41ebca09dd94958b840510087992ffe"
      }
     },
     "794d157bf0ff435fa7c3c39274a2f7b7": {
      "model_module": "@jupyter-widgets/controls",
      "model_module_version": "1.5.0",
      "model_name": "DescriptionStyleModel",
      "state": {
       "description_width": ""
      }
     },
     "797b6487137c40879ec2abec33dc8535": {
      "model_module": "@jupyter-widgets/base",
      "model_module_version": "1.2.0",
      "model_name": "LayoutModel",
      "state": {}
     },
     "79cc09f67f094bd29d9ce3042a56b272": {
      "model_module": "@jupyter-widgets/base",
      "model_module_version": "1.2.0",
      "model_name": "LayoutModel",
      "state": {
       "flex_flow": "row wrap"
      }
     },
     "7a33b0c7ad914ade99bfb96985353f2e": {
      "model_module": "@jupyter-widgets/base",
      "model_module_version": "1.2.0",
      "model_name": "LayoutModel",
      "state": {}
     },
     "7a99d133c96c4e7bac722c58641e6bc6": {
      "model_module": "@jupyter-widgets/base",
      "model_module_version": "1.2.0",
      "model_name": "LayoutModel",
      "state": {}
     },
     "7aab530945c249e3a941d757c0ccee92": {
      "model_module": "@jupyter-widgets/controls",
      "model_module_version": "1.5.0",
      "model_name": "DropdownModel",
      "state": {
       "_options_labels": [
        "Color"
       ],
       "index": 0,
       "layout": "IPY_MODEL_908f4ca4949b494db14fc5156aab2cd9",
       "style": "IPY_MODEL_aef6b743295f42189e95981f47848542"
      }
     },
     "7ab21dc191f244d38e02875852ce1635": {
      "model_module": "@jupyter-widgets/base",
      "model_module_version": "1.2.0",
      "model_name": "LayoutModel",
      "state": {}
     },
     "7acb0757f3e34fd699c20c4cd8fc383f": {
      "model_module": "@jupyter-widgets/controls",
      "model_module_version": "1.5.0",
      "model_name": "DescriptionStyleModel",
      "state": {
       "description_width": ""
      }
     },
     "7adadb4124b24f179bc60882cf6ae00a": {
      "model_module": "@jupyter-widgets/base",
      "model_module_version": "1.2.0",
      "model_name": "LayoutModel",
      "state": {}
     },
     "7ae3718b0ae34394a27bdb7f6b8e878f": {
      "model_module": "@jupyter-widgets/controls",
      "model_module_version": "1.5.0",
      "model_name": "SliderStyleModel",
      "state": {
       "description_width": ""
      }
     },
     "7b1a55ba2ac3453b99b92e17130c6a1e": {
      "model_module": "@jupyter-widgets/base",
      "model_module_version": "1.2.0",
      "model_name": "LayoutModel",
      "state": {}
     },
     "7b1f4521fe574a5e82c85c51dbb7d298": {
      "model_module": "pgljupyter",
      "model_module_version": "^0.1.21",
      "model_name": "FloatEditorModel",
      "state": {
       "_model_module_version": "^0.1.21",
       "_view_module_version": "^0.1.21",
       "children": [
        "IPY_MODEL_99a8e99bf57142b881b83b3908b78915",
        "IPY_MODEL_51920d8d6d7c4da288410f94a97533ff"
       ],
       "layout": "IPY_MODEL_ea2eda2ed0bb482faa1ed22e03e210b0"
      }
     },
     "7b26c458dc7d4deba33285df9fe694dc": {
      "model_module": "@jupyter-widgets/controls",
      "model_module_version": "1.5.0",
      "model_name": "HBoxModel",
      "state": {
       "children": [
        "IPY_MODEL_727da00b96284e60887f830c92663006",
        "IPY_MODEL_0c3bbdec026d428494f07dd37de034a8",
        "IPY_MODEL_2bc9612a3671413583aacf103d7434c3"
       ],
       "layout": "IPY_MODEL_f5d36d54332540779b373371ce91389e"
      }
     },
     "7b34d047a75145ef93c9d2ba934f66f1": {
      "model_module": "@jupyter-widgets/base",
      "model_module_version": "1.2.0",
      "model_name": "LayoutModel",
      "state": {}
     },
     "7b4693667f2d4338a8c79a9c6641cc55": {
      "model_module": "@jupyter-widgets/base",
      "model_module_version": "1.2.0",
      "model_name": "LayoutModel",
      "state": {}
     },
     "7b502ee9562a44e597515087db33b653": {
      "model_module": "@jupyter-widgets/controls",
      "model_module_version": "1.5.0",
      "model_name": "DropdownModel",
      "state": {
       "index": null,
       "layout": "IPY_MODEL_43a396464ca047eb82af9b0128d1a7b9",
       "style": "IPY_MODEL_fd08b70fb3e142cb98e6e66d7a86f160"
      }
     },
     "7b56ea7a659047479a11f64be222d2ea": {
      "model_module": "@jupyter-widgets/controls",
      "model_module_version": "1.5.0",
      "model_name": "FloatSliderModel",
      "state": {
       "description": "shininess",
       "layout": "IPY_MODEL_5d6b91526f5c4f069888276c86e31117",
       "max": 1,
       "step": 0.1,
       "style": "IPY_MODEL_1fac97fbb78942428b45f4a29eff0181",
       "value": 0.2
      }
     },
     "7b577b3b68b746a29a5e6e041152e745": {
      "model_module": "@jupyter-widgets/controls",
      "model_module_version": "1.5.0",
      "model_name": "SliderStyleModel",
      "state": {
       "description_width": ""
      }
     },
     "7b9e45d54fb2440c8e5f7a9a8b7f932b": {
      "model_module": "@jupyter-widgets/controls",
      "model_module_version": "1.5.0",
      "model_name": "DescriptionStyleModel",
      "state": {
       "description_width": ""
      }
     },
     "7bd0ba7ae13849c1a3991f5c1fc76a3f": {
      "model_module": "@jupyter-widgets/controls",
      "model_module_version": "1.5.0",
      "model_name": "DescriptionStyleModel",
      "state": {
       "description_width": ""
      }
     },
     "7be0e86f808844688593b2ba1a25b20d": {
      "model_module": "@jupyter-widgets/controls",
      "model_module_version": "1.5.0",
      "model_name": "DescriptionStyleModel",
      "state": {
       "description_width": ""
      }
     },
     "7c0c38291061419390dbeba93ef4ef19": {
      "model_module": "@jupyter-widgets/controls",
      "model_module_version": "1.5.0",
      "model_name": "BoundedIntTextModel",
      "state": {
       "description": "index",
       "layout": "IPY_MODEL_fef2dad388044251aeb285ace627b9c7",
       "style": "IPY_MODEL_0dd2e4883c6742ebb5b505b2aecc37c1",
       "value": 4
      }
     },
     "7c1611d1648a473b93d3600459b16a6f": {
      "model_module": "@jupyter-widgets/base",
      "model_module_version": "1.2.0",
      "model_name": "LayoutModel",
      "state": {}
     },
     "7c17c74742454474b761cde4913067d3": {
      "model_module": "@jupyter-widgets/base",
      "model_module_version": "1.2.0",
      "model_name": "LayoutModel",
      "state": {}
     },
     "7c3d32abecd84c22aa8e83abca17afd6": {
      "model_module": "@jupyter-widgets/base",
      "model_module_version": "1.2.0",
      "model_name": "LayoutModel",
      "state": {
       "margin": "20px 0px"
      }
     },
     "7c495f80dfa7400dbddaade48310293e": {
      "model_module": "@jupyter-widgets/base",
      "model_module_version": "1.2.0",
      "model_name": "LayoutModel",
      "state": {}
     },
     "7c4db97ead9f439e8fe449d24de9b82d": {
      "model_module": "@jupyter-widgets/controls",
      "model_module_version": "1.5.0",
      "model_name": "DescriptionStyleModel",
      "state": {
       "description_width": ""
      }
     },
     "7c6bc321cc134eba81eea73eeb840f28": {
      "model_module": "@jupyter-widgets/base",
      "model_module_version": "1.2.0",
      "model_name": "LayoutModel",
      "state": {}
     },
     "7c7176c2637047769f684c2d030b2393": {
      "model_module": "@jupyter-widgets/controls",
      "model_module_version": "1.5.0",
      "model_name": "ButtonModel",
      "state": {
       "description": "Add",
       "layout": "IPY_MODEL_28ac8517ff6543888b7ae35a5a88a964",
       "style": "IPY_MODEL_33a25a7f6c774d99a2ad689dcc5a28a6"
      }
     },
     "7c750cbcded74037bf60b8b54b2a479b": {
      "model_module": "@jupyter-widgets/controls",
      "model_module_version": "1.5.0",
      "model_name": "HBoxModel",
      "state": {
       "children": [
        "IPY_MODEL_9312767b442f47bc9228a5a34c6c8271",
        "IPY_MODEL_007b8ebb7e7d4caaad2e0c237439f3d5"
       ],
       "layout": "IPY_MODEL_11c371c9845b4b36a2e2cf814146ef9b"
      }
     },
     "7c9ff33ce6ef4aa9ac024f1cf91f4faf": {
      "model_module": "pgljupyter",
      "model_module_version": "^0.1.21",
      "model_name": "MaterialEditorModel",
      "state": {
       "_model_module_version": "^0.1.21",
       "_view_module_version": "^0.1.21",
       "children": [
        "IPY_MODEL_f600a6ae2e384964b8cef48223b138d5",
        "IPY_MODEL_de4816681729453fbf133b79ff9974ac",
        "IPY_MODEL_f4f80c8cf6b444139f0df44cf6b171cc",
        "IPY_MODEL_c3c827131f134d53a63ac1630295a9db",
        "IPY_MODEL_3b6e5ecfd1944c16b6776d9fc68b197f",
        "IPY_MODEL_c1a7e756fd674170a661ab6dcc62f7a9",
        "IPY_MODEL_85903b91b9dd494fbb3a0709f0684652",
        "IPY_MODEL_c874010bc6f24cc38736c49375396273"
       ],
       "layout": "IPY_MODEL_33370c23f7f94edbae64929f7be4a58c"
      }
     },
     "7ca3a8c138b64f70941125a4b01033f9": {
      "model_module": "@jupyter-widgets/base",
      "model_module_version": "1.2.0",
      "model_name": "LayoutModel",
      "state": {}
     },
     "7cdabb93fcbc40419bf289a63174c418": {
      "model_module": "@jupyter-widgets/controls",
      "model_module_version": "1.5.0",
      "model_name": "HBoxModel",
      "state": {
       "children": [
        "IPY_MODEL_a1906644e02d4f33ae8f642c8841461f",
        "IPY_MODEL_930ad9faa5584ea6b9760fd12a63f4ea"
       ],
       "layout": "IPY_MODEL_f2cedfd93f164c5997b034682b7dd6d1"
      }
     },
     "7cf3624548d34c2082dbac79e56a76bf": {
      "model_module": "@jupyter-widgets/controls",
      "model_module_version": "1.5.0",
      "model_name": "DescriptionStyleModel",
      "state": {
       "description_width": ""
      }
     },
     "7d00e5b6fac64279ab76b336056511c0": {
      "model_module": "pgljupyter",
      "model_module_version": "^0.1.16",
      "model_name": "MaterialEditorModel",
      "state": {
       "_model_module_version": "^0.1.16",
       "_view_module_version": "^0.1.16",
       "children": [
        "IPY_MODEL_5fe590f048484a3ba28067befd41b28a",
        "IPY_MODEL_26dd1eed428440a1bb6365baf44e75c4",
        "IPY_MODEL_6fd19ee64db44d74845df2372b542b69",
        "IPY_MODEL_280f5706c53c48bd96c1f0c3b5a82955",
        "IPY_MODEL_c11321e762b3422997689f94db4a71c8",
        "IPY_MODEL_ebe128ea294142459765d6098ca68e1a",
        "IPY_MODEL_8f0d237bd2814cfa98534d804a75bd38",
        "IPY_MODEL_2da2625474d444a4a745acca04a53c1f"
       ],
       "layout": "IPY_MODEL_b7eb7c1fbc2c4fbab9ae3ae154813316"
      }
     },
     "7d0e2b7c25dc4c5799f79fba3304581d": {
      "model_module": "@jupyter-widgets/controls",
      "model_module_version": "1.5.0",
      "model_name": "FloatSliderModel",
      "state": {
       "description": "diffuse",
       "layout": "IPY_MODEL_0f0d4a7590e043609aea67d90c471282",
       "max": 3,
       "step": 0.1,
       "style": "IPY_MODEL_ed4b23b4eff1497396c94a783926d260",
       "value": 1
      }
     },
     "7d4841eb52e849b792078e35434add1c": {
      "model_module": "@jupyter-widgets/base",
      "model_module_version": "1.2.0",
      "model_name": "LayoutModel",
      "state": {}
     },
     "7d638b1bb84145df842f1629b3b977bb": {
      "model_module": "@jupyter-widgets/base",
      "model_module_version": "1.2.0",
      "model_name": "LayoutModel",
      "state": {
       "flex_flow": "row wrap"
      }
     },
     "7d8071eaf7bf4f66bad90564ee5855bb": {
      "model_module": "pgljupyter",
      "model_module_version": "^0.1.19",
      "model_name": "IntEditorModel",
      "state": {
       "_model_module_version": "^0.1.19",
       "_view_module_version": "^0.1.19",
       "children": [
        "IPY_MODEL_ae6fd33e7b08418d94791d38e5190ea4",
        "IPY_MODEL_d3d0321f778b46a983a5df14ef76dfa1"
       ],
       "layout": "IPY_MODEL_a4778b701d8d479488af98ccfba9a85d"
      }
     },
     "7d994118bafc4c709d4e82c6555c0cdf": {
      "model_module": "@jupyter-widgets/controls",
      "model_module_version": "1.5.0",
      "model_name": "ButtonModel",
      "state": {
       "description": "Delete category",
       "layout": "IPY_MODEL_0a5f03bd97534a8ca13154d454ca0303",
       "style": "IPY_MODEL_3b3e23c52c034fbba7d416e65c71d04a"
      }
     },
     "7df5c0ee266b450db5777d1e698953b4": {
      "model_module": "@jupyter-widgets/controls",
      "model_module_version": "1.5.0",
      "model_name": "ColorPickerModel",
      "state": {
       "description": "emission",
       "disabled": false,
       "layout": "IPY_MODEL_0334631308f04e7f9b0a5109546e80e5",
       "style": "IPY_MODEL_93982537a3414c03934ba0943cc75f50",
       "value": "#000000"
      }
     },
     "7e1a9142f68a44bb85b87c9ed44b26f9": {
      "model_module": "@jupyter-widgets/base",
      "model_module_version": "1.2.0",
      "model_name": "LayoutModel",
      "state": {}
     },
     "7e4f103663654092a3b6f3f18908d2a4": {
      "model_module": "@jupyter-widgets/base",
      "model_module_version": "1.2.0",
      "model_name": "LayoutModel",
      "state": {
       "flex_flow": "row wrap",
       "margin": "20px"
      }
     },
     "7e68dfe58d664750b2bb1842543ce27f": {
      "model_module": "@jupyter-widgets/controls",
      "model_module_version": "1.5.0",
      "model_name": "DescriptionStyleModel",
      "state": {
       "description_width": ""
      }
     },
     "7e6af95120bf4e8eab6ad088d08bf589": {
      "model_module": "@jupyter-widgets/base",
      "model_module_version": "1.2.0",
      "model_name": "LayoutModel",
      "state": {}
     },
     "7eb67cc5e07d4226b2341c889e12afdc": {
      "model_module": "pgljupyter",
      "model_module_version": "^0.1.21",
      "model_name": "FloatEditorModel",
      "state": {
       "_model_module_version": "^0.1.21",
       "_view_module_version": "^0.1.21",
       "children": [
        "IPY_MODEL_3969e43bd2ff40cd9083e491f4ee8a61",
        "IPY_MODEL_20e00e78d72c45a192c02ce598d26a33"
       ],
       "layout": "IPY_MODEL_6f100fcdb69247f5bfc0c8803ddbae68"
      }
     },
     "7ec9db9a54454f7cb858727c3b9c3b2c": {
      "model_module": "@jupyter-widgets/controls",
      "model_module_version": "1.5.0",
      "model_name": "FloatSliderModel",
      "state": {
       "description": "shininess",
       "layout": "IPY_MODEL_8fa2131f64aa4931a8055494da690356",
       "max": 1,
       "step": 0.1,
       "style": "IPY_MODEL_54d1e2ab11364b3286e48fbc06e2c9dc",
       "value": 0.2
      }
     },
     "7ee5793271fa419b8cf938c7cdd42829": {
      "model_module": "@jupyter-widgets/controls",
      "model_module_version": "1.5.0",
      "model_name": "DescriptionStyleModel",
      "state": {
       "description_width": ""
      }
     },
     "7f20014dd702433aad34bf992652d5b2": {
      "model_module": "@jupyter-widgets/controls",
      "model_module_version": "1.5.0",
      "model_name": "DropdownModel",
      "state": {
       "_options_labels": [
        "NurbsCurve2D",
        "BezierCurve2D",
        "Polyline2D",
        "Function"
       ],
       "index": 0,
       "layout": "IPY_MODEL_0514c99c868447989415c25ff4d7162a",
       "style": "IPY_MODEL_4d1b7f47fb8742fc8f79ea08ede8715b"
      }
     },
     "7f28069d37a34840971aedd32085c8f9": {
      "model_module": "@jupyter-widgets/controls",
      "model_module_version": "1.5.0",
      "model_name": "DropdownModel",
      "state": {
       "_options_labels": [
        "NurbsCurve2D",
        "BezierCurve2D",
        "Polyline2D",
        "Function"
       ],
       "index": 0,
       "layout": "IPY_MODEL_4f2e7e2a7b8a4fccaec815c1a8349f02",
       "style": "IPY_MODEL_0cf1ba00ad3c4151acf3b5aaf9391ece"
      }
     },
     "7f4e36825ae64c65830760a42614b069": {
      "model_module": "@jupyter-widgets/controls",
      "model_module_version": "1.5.0",
      "model_name": "IntSliderModel",
      "state": {
       "description": "value",
       "layout": "IPY_MODEL_f786377f3c8f4c4db4d47255efae9e90",
       "max": 10,
       "min": 1,
       "style": "IPY_MODEL_ffe3a14526fc4001b47eb439d2875e4a",
       "value": 2
      }
     },
     "7fa3fc5095444041b8bf59eb82ee0f1b": {
      "model_module": "@jupyter-widgets/controls",
      "model_module_version": "1.5.0",
      "model_name": "HBoxModel",
      "state": {
       "children": [
        "IPY_MODEL_da13191a83f844c595b3cff32e04df31",
        "IPY_MODEL_044e7d5484c34640988858fe96fcfdd6"
       ],
       "layout": "IPY_MODEL_57495b8ed5ac4554811c23e6cec15699"
      }
     },
     "7ff69b0f459c406da1dcf1b6b9ea1d85": {
      "model_module": "@jupyter-widgets/controls",
      "model_module_version": "1.5.0",
      "model_name": "SliderStyleModel",
      "state": {
       "description_width": ""
      }
     },
     "8012ed3ed86e4af7aa93a0d0174addd1": {
      "model_module": "@jupyter-widgets/controls",
      "model_module_version": "1.5.0",
      "model_name": "FloatSliderModel",
      "state": {
       "description": "diffuse",
       "layout": "IPY_MODEL_cb8ca0e6e0eb421686668ef1c62fece3",
       "max": 3,
       "step": 0.1,
       "style": "IPY_MODEL_dc53693171ca4e6f859008d9f7934f2e",
       "value": 1
      }
     },
     "801c820f9e6246b9b3ed03e09a503e66": {
      "model_module": "@jupyter-widgets/base",
      "model_module_version": "1.2.0",
      "model_name": "LayoutModel",
      "state": {}
     },
     "801c9757e2284ae99ecc9a5a8bffc9da": {
      "model_module": "@jupyter-widgets/controls",
      "model_module_version": "1.5.0",
      "model_name": "DescriptionStyleModel",
      "state": {
       "description_width": ""
      }
     },
     "80301650537045819e119da69d2e1eaf": {
      "model_module": "@jupyter-widgets/controls",
      "model_module_version": "1.5.0",
      "model_name": "ColorPickerModel",
      "state": {
       "description": "ambient",
       "disabled": false,
       "layout": "IPY_MODEL_0c7c19e5f2d64c77816e00b8b2cd8eea",
       "style": "IPY_MODEL_8d847dba13ab4694a1ab9e4baa5b388d",
       "value": "#0fc4db"
      }
     },
     "80486992e7b749219293ac12cc88f982": {
      "model_module": "@jupyter-widgets/controls",
      "model_module_version": "1.5.0",
      "model_name": "DescriptionStyleModel",
      "state": {
       "description_width": ""
      }
     },
     "809eaaa517c44dacbd10399efe1c86c8": {
      "model_module": "@jupyter-widgets/controls",
      "model_module_version": "1.5.0",
      "model_name": "HBoxModel",
      "state": {
       "children": [
        "IPY_MODEL_5917a07df85e4f07849b2dc44475a30a"
       ],
       "layout": "IPY_MODEL_78dff3c9b0ab4092885a4681b708b9c4"
      }
     },
     "80b56e6d76c34f719488204e0bf1de2d": {
      "model_module": "@jupyter-widgets/base",
      "model_module_version": "1.2.0",
      "model_name": "LayoutModel",
      "state": {
       "margin": "20px 0px"
      }
     },
     "80e9653aa5df4aec98e4b796abfbd551": {
      "model_module": "@jupyter-widgets/base",
      "model_module_version": "1.2.0",
      "model_name": "LayoutModel",
      "state": {}
     },
     "814dac1493d8493abe1be47f92709960": {
      "model_module": "@jupyter-widgets/base",
      "model_module_version": "1.2.0",
      "model_name": "LayoutModel",
      "state": {}
     },
     "81614fbd057b49b38cf6c260521fd79e": {
      "model_module": "@jupyter-widgets/controls",
      "model_module_version": "1.5.0",
      "model_name": "DescriptionStyleModel",
      "state": {
       "description_width": ""
      }
     },
     "81b18d0fb7524952b85175ffd2632d16": {
      "model_module": "@jupyter-widgets/base",
      "model_module_version": "1.2.0",
      "model_name": "LayoutModel",
      "state": {}
     },
     "81cddc7ae49e4648a2c274c8e34674fa": {
      "model_module": "@jupyter-widgets/controls",
      "model_module_version": "1.5.0",
      "model_name": "TextModel",
      "state": {
       "layout": "IPY_MODEL_c68f788cbf434b1b86545d771587773e",
       "placeholder": "category name",
       "style": "IPY_MODEL_f0d18c7a33314b93b6a2c556090ad031"
      }
     },
     "82321aeab55d4ce7b6539f3d6b31b441": {
      "model_module": "@jupyter-widgets/controls",
      "model_module_version": "1.5.0",
      "model_name": "ButtonModel",
      "state": {
       "description": "Save changes",
       "layout": "IPY_MODEL_aa7970d024354752a90a19d52ffb4ba6",
       "style": "IPY_MODEL_85eb508330e2453aa477fcf14a6e834d"
      }
     },
     "8249d03607ce403b941353f80011ee8b": {
      "model_module": "@jupyter-widgets/controls",
      "model_module_version": "1.5.0",
      "model_name": "DescriptionStyleModel",
      "state": {
       "description_width": ""
      }
     },
     "826dcf09a36b44db93daf5f8ada9b810": {
      "model_module": "pgljupyter",
      "model_module_version": "^0.2.0",
      "model_name": "IntEditorModel",
      "state": {
       "_model_module_version": "^0.2.0",
       "_view_module_version": "^0.2.0",
       "children": [
        "IPY_MODEL_1275eb348c0a4e6db6b624f9b0a3b83c",
        "IPY_MODEL_22cd6b280ddd41f3b8849de884f36712"
       ],
       "layout": "IPY_MODEL_325f707370a740838e0eb29d03bfca53"
      }
     },
     "8278afc954514651bbf571d8a24293c1": {
      "model_module": "@jupyter-widgets/controls",
      "model_module_version": "1.5.0",
      "model_name": "DescriptionStyleModel",
      "state": {
       "description_width": ""
      }
     },
     "8283081be3d348eea1bc8c13afea1b04": {
      "model_module": "@jupyter-widgets/controls",
      "model_module_version": "1.5.0",
      "model_name": "DescriptionStyleModel",
      "state": {
       "description_width": ""
      }
     },
     "8299462a02d34ce7a919b316de08ed30": {
      "model_module": "@jupyter-widgets/base",
      "model_module_version": "1.2.0",
      "model_name": "LayoutModel",
      "state": {}
     },
     "82e2fd1b3d93436b87d96fe4772c750c": {
      "model_module": "@jupyter-widgets/base",
      "model_module_version": "1.2.0",
      "model_name": "LayoutModel",
      "state": {}
     },
     "82ee84b51f34452cb28a4d5fbd6a6bec": {
      "model_module": "@jupyter-widgets/base",
      "model_module_version": "1.2.0",
      "model_name": "LayoutModel",
      "state": {}
     },
     "8345834e21f741efb76cf84afc82297c": {
      "model_module": "@jupyter-widgets/controls",
      "model_module_version": "1.5.0",
      "model_name": "SliderStyleModel",
      "state": {
       "description_width": ""
      }
     },
     "837f5389dc8e4059a6ec5a95193f8e96": {
      "model_module": "@jupyter-widgets/controls",
      "model_module_version": "1.5.0",
      "model_name": "DescriptionStyleModel",
      "state": {
       "description_width": ""
      }
     },
     "8385988dc1324faabaa3e51b770405fa": {
      "model_module": "@jupyter-widgets/controls",
      "model_module_version": "1.5.0",
      "model_name": "ButtonStyleModel",
      "state": {}
     },
     "838c2e96b44f4e398b804eaa39f05912": {
      "model_module": "@jupyter-widgets/controls",
      "model_module_version": "1.5.0",
      "model_name": "HBoxModel",
      "state": {
       "children": [
        "IPY_MODEL_02a0a641a80b42a6abd95b43fd404dce",
        "IPY_MODEL_6ff5f5b575424b1aadc6de709ae0596e"
       ],
       "layout": "IPY_MODEL_f84fb842bfdc4ca69b673ea45abcdf91"
      }
     },
     "83a4686453db4032b8b41676af2640e3": {
      "model_module": "@jupyter-widgets/controls",
      "model_module_version": "1.5.0",
      "model_name": "DescriptionStyleModel",
      "state": {
       "description_width": ""
      }
     },
     "83a6e5298a59417faf5cae364d0e23e8": {
      "model_module": "@jupyter-widgets/controls",
      "model_module_version": "1.5.0",
      "model_name": "SliderStyleModel",
      "state": {
       "description_width": ""
      }
     },
     "83a85ac4e24a46dcb16123312e23679a": {
      "model_module": "@jupyter-widgets/controls",
      "model_module_version": "1.5.0",
      "model_name": "DescriptionStyleModel",
      "state": {
       "description_width": ""
      }
     },
     "83b3943961434027b9a8d49bdef39171": {
      "model_module": "pgljupyter",
      "model_module_version": "^0.1.21",
      "model_name": "MaterialEditorModel",
      "state": {
       "_model_module_version": "^0.1.21",
       "_view_module_version": "^0.1.21",
       "children": [
        "IPY_MODEL_ce0fb06d58634cb9b41ec68d1e1dc70d",
        "IPY_MODEL_b4468c2736f440b4bd4d58112d80f1f3",
        "IPY_MODEL_be34e970bcfe4196ae35d41580213f9a",
        "IPY_MODEL_a14d2f25db9a4ee09e33307c1cc7015b",
        "IPY_MODEL_fe1ca6c5f8b149d586fe37d3f4c8d5df",
        "IPY_MODEL_af3d20d491c44d098b64367717540ebe",
        "IPY_MODEL_b0587fd4b5de40ff83b94fd445197b2a",
        "IPY_MODEL_745b3376562c41a59ce78b7fb72eac55"
       ],
       "layout": "IPY_MODEL_65cb7b1023ae4f4aae41fd3b1473e716"
      }
     },
     "83cb5d93b13c4d38906e44f6111942f3": {
      "model_module": "@jupyter-widgets/controls",
      "model_module_version": "1.5.0",
      "model_name": "DescriptionStyleModel",
      "state": {
       "description_width": ""
      }
     },
     "83cf2697568b4f3fa8e2fa044d788093": {
      "model_module": "@jupyter-widgets/controls",
      "model_module_version": "1.5.0",
      "model_name": "DescriptionStyleModel",
      "state": {
       "description_width": ""
      }
     },
     "83d1112a98b24ad985e153a4de2805d3": {
      "model_module": "@jupyter-widgets/base",
      "model_module_version": "1.2.0",
      "model_name": "LayoutModel",
      "state": {}
     },
     "83eb13eb355a4ed79a83c524a5fe5344": {
      "model_module": "@jupyter-widgets/controls",
      "model_module_version": "1.5.0",
      "model_name": "SliderStyleModel",
      "state": {
       "description_width": ""
      }
     },
     "83ef4ea6f520490ea97b0fec684c68ff": {
      "model_module": "@jupyter-widgets/base",
      "model_module_version": "1.2.0",
      "model_name": "LayoutModel",
      "state": {}
     },
     "83f82817d8894598b39eea4838260197": {
      "model_module": "@jupyter-widgets/controls",
      "model_module_version": "1.5.0",
      "model_name": "ButtonModel",
      "state": {
       "description": "Add category",
       "layout": "IPY_MODEL_0c8a2a58cf5a4f328c2bf47875084bee",
       "style": "IPY_MODEL_6be8b624abb24c98af91054c27cba856"
      }
     },
     "83ffa7e6fb914aec8162938aaf8fbf5d": {
      "model_module": "@jupyter-widgets/controls",
      "model_module_version": "1.5.0",
      "model_name": "HBoxModel",
      "state": {
       "children": [
        "IPY_MODEL_578fb4eed7ef4f93987a87d21a5b0d9f",
        "IPY_MODEL_38e8fc2ebd144c09b3718418fd4d321e",
        "IPY_MODEL_31732b3ef50740ba848f6bc135cf9542"
       ],
       "layout": "IPY_MODEL_40f1350ba3a44edfae82ea6bfb8f5198"
      }
     },
     "841666774d4c43d9ae6d7eaf452a6732": {
      "model_module": "@jupyter-widgets/controls",
      "model_module_version": "1.5.0",
      "model_name": "DescriptionStyleModel",
      "state": {
       "description_width": ""
      }
     },
     "84167ac2f5b54a72a1dcecd5e7898942": {
      "model_module": "@jupyter-widgets/controls",
      "model_module_version": "1.5.0",
      "model_name": "SliderStyleModel",
      "state": {
       "description_width": ""
      }
     },
     "8428793621cc40e99f94653249403223": {
      "model_module": "@jupyter-widgets/controls",
      "model_module_version": "1.5.0",
      "model_name": "FloatSliderModel",
      "state": {
       "description": "transparency",
       "layout": "IPY_MODEL_ad3d079ffbc74588a5348a5d3706dafd",
       "max": 1,
       "step": 0.1,
       "style": "IPY_MODEL_93dfc5ebdc024eacb5219441abe21f32"
      }
     },
     "844d30039767419a89704c52fe806d6c": {
      "model_module": "@jupyter-widgets/base",
      "model_module_version": "1.2.0",
      "model_name": "LayoutModel",
      "state": {}
     },
     "846dacb512d34d31960acd0764831033": {
      "model_module": "@jupyter-widgets/controls",
      "model_module_version": "1.5.0",
      "model_name": "DescriptionStyleModel",
      "state": {
       "description_width": ""
      }
     },
     "849c2ebb88204ff3a3491bcf597bb0c2": {
      "model_module": "@jupyter-widgets/controls",
      "model_module_version": "1.5.0",
      "model_name": "DescriptionStyleModel",
      "state": {
       "description_width": ""
      }
     },
     "84c796b6ce3746e1aafccca2c6759aac": {
      "model_module": "@jupyter-widgets/base",
      "model_module_version": "1.2.0",
      "model_name": "LayoutModel",
      "state": {}
     },
     "8509fa5265184f5db62a735f298cb753": {
      "model_module": "@jupyter-widgets/controls",
      "model_module_version": "1.5.0",
      "model_name": "HBoxModel",
      "state": {
       "children": [
        "IPY_MODEL_13011f0d15864a1ba3f2543ade23483a",
        "IPY_MODEL_5c0d7f4b7f914f719c8266137f7d0017"
       ],
       "layout": "IPY_MODEL_4d61064357674c97bb169c5602e69545"
      }
     },
     "850aea0efb99435baa77c0a116afa497": {
      "model_module": "@jupyter-widgets/controls",
      "model_module_version": "1.5.0",
      "model_name": "FloatSliderModel",
      "state": {
       "description": "transparency",
       "layout": "IPY_MODEL_498f774db8944cf9acb68dfb080f9434",
       "max": 1,
       "step": 0.1,
       "style": "IPY_MODEL_83a6e5298a59417faf5cae364d0e23e8"
      }
     },
     "8518727b6ec245b1946e9a567ad7db89": {
      "model_module": "@jupyter-widgets/controls",
      "model_module_version": "1.5.0",
      "model_name": "ButtonModel",
      "state": {
       "description": "Delete category",
       "layout": "IPY_MODEL_d3c8eaeaa4374bc98c5ce17157ddbceb",
       "style": "IPY_MODEL_ad50679b7e994d5493d14f7e8f237201"
      }
     },
     "8526b634b49f4f3dbb3f18145fa06a71": {
      "model_module": "@jupyter-widgets/base",
      "model_module_version": "1.2.0",
      "model_name": "LayoutModel",
      "state": {
       "margin": "20px 0px"
      }
     },
     "8537d8915e4e42dbaa546751f3ccd759": {
      "model_module": "@jupyter-widgets/controls",
      "model_module_version": "1.5.0",
      "model_name": "DescriptionStyleModel",
      "state": {
       "description_width": ""
      }
     },
     "855e56574bc4405fb85a9d92a7326cfa": {
      "model_module": "@jupyter-widgets/controls",
      "model_module_version": "1.5.0",
      "model_name": "AccordionModel",
      "state": {
       "_titles": {
        "0": "materials",
        "1": "leaf",
        "2": "trunk & branches"
       },
       "children": [
        "IPY_MODEL_390ec84636c54a9186e42f79fc5c39a9",
        "IPY_MODEL_b97cf4f067b743d2b430bd97bc89e312",
        "IPY_MODEL_200e396776fd4859b251083ea338dbc3"
       ],
       "layout": "IPY_MODEL_92745359b08f4ccb920907d11ee886b9"
      }
     },
     "856cb4dc10fd40959afd4f2ed68f4da6": {
      "model_module": "@jupyter-widgets/base",
      "model_module_version": "1.2.0",
      "model_name": "LayoutModel",
      "state": {}
     },
     "858855a4ca644ef8a5a68f4bd31e1d6b": {
      "model_module": "@jupyter-widgets/base",
      "model_module_version": "1.2.0",
      "model_name": "LayoutModel",
      "state": {}
     },
     "858878c7e61544b790ca64ba3754be3a": {
      "model_module": "@jupyter-widgets/base",
      "model_module_version": "1.2.0",
      "model_name": "LayoutModel",
      "state": {}
     },
     "85903b91b9dd494fbb3a0709f0684652": {
      "model_module": "@jupyter-widgets/controls",
      "model_module_version": "1.5.0",
      "model_name": "FloatSliderModel",
      "state": {
       "description": "transparency",
       "layout": "IPY_MODEL_9b789e08ff1c46f1bb9f707c180a4903",
       "max": 1,
       "step": 0.1,
       "style": "IPY_MODEL_9e28d980a69940b8887b30e5d2ab7eba"
      }
     },
     "85eb508330e2453aa477fcf14a6e834d": {
      "model_module": "@jupyter-widgets/controls",
      "model_module_version": "1.5.0",
      "model_name": "ButtonStyleModel",
      "state": {}
     },
     "85f2f816a3ad4019b0f5b00681e76aad": {
      "model_module": "@jupyter-widgets/controls",
      "model_module_version": "1.5.0",
      "model_name": "DescriptionStyleModel",
      "state": {
       "description_width": ""
      }
     },
     "85fb0b1c46a34071837318e83df4549c": {
      "model_module": "@jupyter-widgets/base",
      "model_module_version": "1.2.0",
      "model_name": "LayoutModel",
      "state": {
       "margin": "20px 0px"
      }
     },
     "862e6be63a4c4ec7a41e281d8b696e8d": {
      "model_module": "@jupyter-widgets/controls",
      "model_module_version": "1.5.0",
      "model_name": "ButtonModel",
      "state": {
       "description": "Delete",
       "layout": "IPY_MODEL_47a676e89113488bb3cee21941e5aba5",
       "style": "IPY_MODEL_262f578dc1b641d1a439f9d7bdb2b833"
      }
     },
     "86875997079c4f0caf76384b93b1c407": {
      "model_module": "@jupyter-widgets/controls",
      "model_module_version": "1.5.0",
      "model_name": "DescriptionStyleModel",
      "state": {
       "description_width": ""
      }
     },
     "8688606d2e9e400dbdbdb02bf5459c6a": {
      "model_module": "@jupyter-widgets/base",
      "model_module_version": "1.2.0",
      "model_name": "LayoutModel",
      "state": {}
     },
     "86ad7647a23949bbb9260384e6040155": {
      "model_module": "@jupyter-widgets/controls",
      "model_module_version": "1.5.0",
      "model_name": "HBoxModel",
      "state": {
       "children": [
        "IPY_MODEL_98b3dcd8990146f594f7c54e237135e5",
        "IPY_MODEL_e070c2aed84b414abe7cc619e00e66a3",
        "IPY_MODEL_7d8071eaf7bf4f66bad90564ee5855bb"
       ],
       "layout": "IPY_MODEL_6f5e6f5355bd440d8af5ee837dac75a9"
      }
     },
     "86b075a727d1420b8b8e02e04c401dbf": {
      "model_module": "@jupyter-widgets/controls",
      "model_module_version": "1.5.0",
      "model_name": "SliderStyleModel",
      "state": {
       "description_width": ""
      }
     },
     "86bbd8bd12314be19909ccb111382a66": {
      "model_module": "@jupyter-widgets/base",
      "model_module_version": "1.2.0",
      "model_name": "LayoutModel",
      "state": {}
     },
     "86e5d6226409410ea3e7aff87df7c57d": {
      "model_module": "@jupyter-widgets/controls",
      "model_module_version": "1.5.0",
      "model_name": "ColorPickerModel",
      "state": {
       "description": "specular",
       "disabled": false,
       "layout": "IPY_MODEL_ab0f9f99791b40059d4d3534b8def2a1",
       "style": "IPY_MODEL_26b6ef9844df45fa90eceb06b5d3540f",
       "value": "#282828"
      }
     },
     "8734cecea0d346a39c3e758fb2f6d6a5": {
      "model_module": "@jupyter-widgets/base",
      "model_module_version": "1.2.0",
      "model_name": "LayoutModel",
      "state": {}
     },
     "8760bd037eeb40d88f785a795b4cfa32": {
      "model_module": "@jupyter-widgets/controls",
      "model_module_version": "1.5.0",
      "model_name": "ButtonModel",
      "state": {
       "description": "Apply changes",
       "layout": "IPY_MODEL_9263d72547104120b8476c3b55758aeb",
       "style": "IPY_MODEL_e34f318fa38c48f0a73bd526ad11af14"
      }
     },
     "87914f94bb81462d992aeaaef5f740be": {
      "model_module": "pgljupyter",
      "model_module_version": "^0.1.17",
      "model_name": "MaterialEditorModel",
      "state": {
       "_model_module_version": "^0.1.17",
       "_view_module_version": "^0.1.17",
       "children": [
        "IPY_MODEL_2f2a18791e474473882476c2b545f886",
        "IPY_MODEL_613b92ffca5244b6a9fe92b6eac0bfb3",
        "IPY_MODEL_62b5bc6403144408b19fd4a789c19c72",
        "IPY_MODEL_d2f53457da264365a8ca7a5c85a6b381",
        "IPY_MODEL_29f083c6202b4e71911388db0eb926e4",
        "IPY_MODEL_fe6fc9b954504ac48e9ea7a8339c409b",
        "IPY_MODEL_c86dfb91c7754e40aff8205f0595f499"
       ],
       "layout": "IPY_MODEL_761fbbca71f145a5969c4290b8309933"
      }
     },
     "8796df0ffb5a4d59acfa5e829c472f45": {
      "model_module": "@jupyter-widgets/controls",
      "model_module_version": "1.5.0",
      "model_name": "ColorPickerModel",
      "state": {
       "description": "specular",
       "disabled": false,
       "layout": "IPY_MODEL_b2bf5842fee641abb921c9ea89fc6361",
       "style": "IPY_MODEL_e82e92b531174bbab4c8ec367cfabcd1",
       "value": "#282828"
      }
     },
     "879fcdce8800437ebdb114cb02a43a8e": {
      "model_module": "@jupyter-widgets/controls",
      "model_module_version": "1.5.0",
      "model_name": "ButtonStyleModel",
      "state": {}
     },
     "880c764b514b41d49c7a1d6be07c9ee7": {
      "model_module": "@jupyter-widgets/controls",
      "model_module_version": "1.5.0",
      "model_name": "ButtonModel",
      "state": {
       "description": "Delete",
       "layout": "IPY_MODEL_0a6d0b4bd02e4ac1817c689e8e7470fa",
       "style": "IPY_MODEL_e9ae0484fe6e4a418480439841c599c2"
      }
     },
     "881dbc552f174448b5366e6842c3fce5": {
      "model_module": "@jupyter-widgets/controls",
      "model_module_version": "1.5.0",
      "model_name": "DescriptionStyleModel",
      "state": {
       "description_width": ""
      }
     },
     "885caec9d1dd43c096b9a173555e99ba": {
      "model_module": "@jupyter-widgets/controls",
      "model_module_version": "1.5.0",
      "model_name": "HBoxModel",
      "state": {
       "children": [
        "IPY_MODEL_8509fa5265184f5db62a735f298cb753",
        "IPY_MODEL_42c627ff3d74409cbca15e800caf7190"
       ],
       "layout": "IPY_MODEL_4d77f69f74244057baec36b232f87f78"
      }
     },
     "885d034f6340467e9f3d03862ecdc212": {
      "model_module": "@jupyter-widgets/controls",
      "model_module_version": "1.5.0",
      "model_name": "DescriptionStyleModel",
      "state": {
       "description_width": ""
      }
     },
     "886b3608c74d4c488a0749ac1feb2b7e": {
      "model_module": "@jupyter-widgets/base",
      "model_module_version": "1.2.0",
      "model_name": "LayoutModel",
      "state": {
       "margin": "10px 10px"
      }
     },
     "88a10cf316df4647bd53d535728a4d82": {
      "model_module": "@jupyter-widgets/base",
      "model_module_version": "1.2.0",
      "model_name": "LayoutModel",
      "state": {}
     },
     "88b25b3d6bed47aabbf857ba0829ae88": {
      "model_module": "pgljupyter",
      "model_module_version": "^0.1.17",
      "model_name": "MaterialEditorModel",
      "state": {
       "_model_module_version": "^0.1.17",
       "_view_module_version": "^0.1.17",
       "children": [
        "IPY_MODEL_743b4d10e04e429daa73128e21f65475",
        "IPY_MODEL_1ea7dc68a20e4fa3ae2f532556b651d0",
        "IPY_MODEL_30473609ffbf4e1781ef3e743132ea77",
        "IPY_MODEL_446d0c4274894c3b975472f4d7fb6e63",
        "IPY_MODEL_8012ed3ed86e4af7aa93a0d0174addd1",
        "IPY_MODEL_d10a3a68a0474f01aa5b6d5cfdb8ebe8",
        "IPY_MODEL_536987696dc742f1b1bc51ca8d040a1d"
       ],
       "layout": "IPY_MODEL_4f04e84e06f04f2187ac0562bd5d7982"
      }
     },
     "88f3d087a0de45da8bfd2c33963d9fb3": {
      "model_module": "@jupyter-widgets/controls",
      "model_module_version": "1.5.0",
      "model_name": "SliderStyleModel",
      "state": {
       "description_width": ""
      }
     },
     "88f44b81f9624f8db9eb6600e3fb96e4": {
      "model_module": "@jupyter-widgets/controls",
      "model_module_version": "1.5.0",
      "model_name": "ButtonModel",
      "state": {
       "description": "Delete category",
       "layout": "IPY_MODEL_8d73e5bd9d02455d95cfcec70fbbd004",
       "style": "IPY_MODEL_0fa6ede50ab0406a9807f2c9a03af12c"
      }
     },
     "891e2f6c24e942aa819fd94be0793970": {
      "model_module": "@jupyter-widgets/controls",
      "model_module_version": "1.5.0",
      "model_name": "ColorPickerModel",
      "state": {
       "description": "specular",
       "disabled": false,
       "layout": "IPY_MODEL_3ee6dd285a9442a8ba3ad4c5af7b0fbd",
       "style": "IPY_MODEL_64eb6ce77bf6462698b988007f7d6518",
       "value": "#282828"
      }
     },
     "8929ac5c489944b49d22387a7dca08f4": {
      "model_module": "@jupyter-widgets/base",
      "model_module_version": "1.2.0",
      "model_name": "LayoutModel",
      "state": {}
     },
     "893cf04f7b474264b2019b1d9ef10da0": {
      "model_module": "@jupyter-widgets/controls",
      "model_module_version": "1.5.0",
      "model_name": "ButtonModel",
      "state": {
       "description": "Delete category",
       "layout": "IPY_MODEL_1d2c3e8ff93a461893bd0cf380e5598b",
       "style": "IPY_MODEL_bf1fdb5bb36e4e1a926148fdc953e325"
      }
     },
     "8941e806cfbc4ef79a7ebe1a33c9c387": {
      "model_module": "@jupyter-widgets/controls",
      "model_module_version": "1.5.0",
      "model_name": "BoundedIntTextModel",
      "state": {
       "description": "index",
       "layout": "IPY_MODEL_04bf48cf21fd4ef3b2fc2c87f891da0a",
       "style": "IPY_MODEL_65e9c69006e0410082732dcb581d48b9",
       "value": 2
      }
     },
     "896ad6ec098a405a80ae6f82cca58a0c": {
      "model_module": "@jupyter-widgets/base",
      "model_module_version": "1.2.0",
      "model_name": "LayoutModel",
      "state": {}
     },
     "896cb2a6eee44f0099cfa8dd5b2da22f": {
      "model_module": "@jupyter-widgets/controls",
      "model_module_version": "1.5.0",
      "model_name": "TextModel",
      "state": {
       "continuous_update": false,
       "description": "name",
       "layout": "IPY_MODEL_5f766dc4cb8647509fa135a5358aaab0",
       "style": "IPY_MODEL_c4ed48b837534de7b3ebc8b317ef0a11",
       "value": "color_1"
      }
     },
     "89a945aee0754e80a2eee46f61496ba5": {
      "model_module": "@jupyter-widgets/controls",
      "model_module_version": "1.5.0",
      "model_name": "FloatSliderModel",
      "state": {
       "description": "transparency",
       "layout": "IPY_MODEL_539f9d1af9924f4db2438bbbeeb51b54",
       "max": 1,
       "step": 0.1,
       "style": "IPY_MODEL_6ec1cbd07a644f899b126df86b0690ab"
      }
     },
     "89abd2f5d7a24df6bcce9045e015f6b6": {
      "model_module": "@jupyter-widgets/controls",
      "model_module_version": "1.5.0",
      "model_name": "DescriptionStyleModel",
      "state": {
       "description_width": ""
      }
     },
     "89db33f980cb4aa4bf951958b1be4cdf": {
      "model_module": "@jupyter-widgets/controls",
      "model_module_version": "1.5.0",
      "model_name": "SliderStyleModel",
      "state": {
       "description_width": ""
      }
     },
     "89db582de4224ed0b196b8f2a9d544c4": {
      "model_module": "pgljupyter",
      "model_module_version": "^0.2.0",
      "model_name": "IntEditorModel",
      "state": {
       "_model_module_version": "^0.2.0",
       "_view_module_version": "^0.2.0",
       "children": [
        "IPY_MODEL_29064321623c4d5898f0497a0e6f1a9b",
        "IPY_MODEL_06a41e2a55a840a8a25c81d98d0aa2db"
       ],
       "layout": "IPY_MODEL_096662ccdbc443409d73c22d5e8dd3d3"
      }
     },
     "89e834b8c10e40a390db5fd0665c3d45": {
      "model_module": "@jupyter-widgets/base",
      "model_module_version": "1.2.0",
      "model_name": "LayoutModel",
      "state": {}
     },
     "8a1bab7df8174d92a085bbafd83e109a": {
      "model_module": "@jupyter-widgets/base",
      "model_module_version": "1.2.0",
      "model_name": "LayoutModel",
      "state": {
       "margin": "10px 10px"
      }
     },
     "8a5b39fddbde4ba3bee746d6c937b664": {
      "model_module": "@jupyter-widgets/controls",
      "model_module_version": "1.5.0",
      "model_name": "TextModel",
      "state": {
       "continuous_update": false,
       "description": "name",
       "layout": "IPY_MODEL_0ec5645a3bf34b6a84616a6784979782",
       "style": "IPY_MODEL_c190a593c1ed4ea199fb8b572fe94562",
       "value": "color_3"
      }
     },
     "8aae296581c643e2a94a84c43a578fda": {
      "model_module": "@jupyter-widgets/base",
      "model_module_version": "1.2.0",
      "model_name": "LayoutModel",
      "state": {}
     },
     "8ab5ba176a154599b445e9556a8031de": {
      "model_module": "@jupyter-widgets/base",
      "model_module_version": "1.2.0",
      "model_name": "LayoutModel",
      "state": {
       "margin": "20px 0px"
      }
     },
     "8ab7595e734d49a0932417703969c091": {
      "model_module": "@jupyter-widgets/controls",
      "model_module_version": "1.5.0",
      "model_name": "ColorPickerModel",
      "state": {
       "description": "ambient",
       "disabled": false,
       "layout": "IPY_MODEL_797b6487137c40879ec2abec33dc8535",
       "style": "IPY_MODEL_881dbc552f174448b5366e6842c3fce5",
       "value": "#195717"
      }
     },
     "8ade179874b44ec4a7a9a96454510c3e": {
      "model_module": "@jupyter-widgets/base",
      "model_module_version": "1.2.0",
      "model_name": "LayoutModel",
      "state": {}
     },
     "8b24ac74c0944cd48267de6d5fe2be88": {
      "model_module": "@jupyter-widgets/base",
      "model_module_version": "1.2.0",
      "model_name": "LayoutModel",
      "state": {}
     },
     "8b39ce9f414948e2acb5c8cfdcf3d6a8": {
      "model_module": "@jupyter-widgets/controls",
      "model_module_version": "1.5.0",
      "model_name": "DropdownModel",
      "state": {
       "_options_labels": [
        "Integer",
        "Float",
        "Bool"
       ],
       "index": 0,
       "layout": "IPY_MODEL_bcb7465a37394dbabd8f197ae65f2662",
       "style": "IPY_MODEL_8537d8915e4e42dbaa546751f3ccd759"
      }
     },
     "8b43f3f764b3434fbc0675fd7f1f079d": {
      "model_module": "@jupyter-widgets/base",
      "model_module_version": "1.2.0",
      "model_name": "LayoutModel",
      "state": {}
     },
     "8b50cab205524c5684de777fe16b12c6": {
      "model_module": "@jupyter-widgets/controls",
      "model_module_version": "1.5.0",
      "model_name": "DescriptionStyleModel",
      "state": {
       "description_width": ""
      }
     },
     "8b815e58fddc4a559d96a5bea9398873": {
      "model_module": "@jupyter-widgets/controls",
      "model_module_version": "1.5.0",
      "model_name": "ButtonModel",
      "state": {
       "description": "Delete category",
       "layout": "IPY_MODEL_b4172c0a847a4c1d89dd93e6e188edcf",
       "style": "IPY_MODEL_d2ae08c8938f40e28ea77f61a5b50c80"
      }
     },
     "8b961dc464fe4120b95633845d5c9860": {
      "model_module": "@jupyter-widgets/base",
      "model_module_version": "1.2.0",
      "model_name": "LayoutModel",
      "state": {
       "margin": "20px 0px"
      }
     },
     "8b9a41a0b095405186d1eec77ac0c839": {
      "model_module": "@jupyter-widgets/base",
      "model_module_version": "1.2.0",
      "model_name": "LayoutModel",
      "state": {
       "flex_flow": "row wrap",
       "margin": "20px"
      }
     },
     "8b9d8ab9579d479587514dba40ca7bcd": {
      "model_module": "@jupyter-widgets/base",
      "model_module_version": "1.2.0",
      "model_name": "LayoutModel",
      "state": {}
     },
     "8bbd3656628c4c6e8afd4b8861674066": {
      "model_module": "@jupyter-widgets/controls",
      "model_module_version": "1.5.0",
      "model_name": "ButtonStyleModel",
      "state": {}
     },
     "8bd7cf6dc07d437190fbda31a59b43c4": {
      "model_module": "@jupyter-widgets/base",
      "model_module_version": "1.2.0",
      "model_name": "LayoutModel",
      "state": {}
     },
     "8be95b6e2c4341088b47d9a41a5e1916": {
      "model_module": "@jupyter-widgets/controls",
      "model_module_version": "1.5.0",
      "model_name": "VBoxModel",
      "state": {
       "children": [
        "IPY_MODEL_49c13f7f61b74fdeb6c2e02c3d02da5a",
        "IPY_MODEL_939594c53ae64a0e89243eda3899ab0b"
       ],
       "layout": "IPY_MODEL_a547bbd798964d08896ad103a8c35c97"
      }
     },
     "8c00dd94f504489eb79f75cdf4d9b736": {
      "model_module": "@jupyter-widgets/base",
      "model_module_version": "1.2.0",
      "model_name": "LayoutModel",
      "state": {}
     },
     "8c34ccd1ce0c4bdea50769e26de587f7": {
      "model_module": "@jupyter-widgets/controls",
      "model_module_version": "1.5.0",
      "model_name": "HBoxModel",
      "state": {
       "children": [
        "IPY_MODEL_641c05b7ca444b45815f98e53b6c6ac7",
        "IPY_MODEL_9ca461330d2145f89ba7e4575a975a1e"
       ],
       "layout": "IPY_MODEL_e7d2527d8a7e4fe289643a418f22fbe9"
      }
     },
     "8c69ffac5b3b44b286de8bc58ff44b45": {
      "model_module": "@jupyter-widgets/controls",
      "model_module_version": "1.5.0",
      "model_name": "FloatSliderModel",
      "state": {
       "description": "shininess",
       "layout": "IPY_MODEL_09f0b20c3d9a4a7b8d6f767b7e7153d6",
       "max": 1,
       "step": 0.1,
       "style": "IPY_MODEL_2d5a147118f043b0bedacc46a82c83fb",
       "value": 0.2
      }
     },
     "8c8cef7c9f7e4f1e84b0cd4319df23e7": {
      "model_module": "@jupyter-widgets/base",
      "model_module_version": "1.2.0",
      "model_name": "LayoutModel",
      "state": {}
     },
     "8cbb1af1d0af4ff9bb22fce6efa5827f": {
      "model_module": "@jupyter-widgets/base",
      "model_module_version": "1.2.0",
      "model_name": "LayoutModel",
      "state": {}
     },
     "8cca7f8fad02405fb87c0732c5a43356": {
      "model_module": "@jupyter-widgets/base",
      "model_module_version": "1.2.0",
      "model_name": "LayoutModel",
      "state": {}
     },
     "8ceaba1a99674153b22a56b7b4a60bca": {
      "model_module": "@jupyter-widgets/controls",
      "model_module_version": "1.5.0",
      "model_name": "SliderStyleModel",
      "state": {
       "description_width": ""
      }
     },
     "8d0e659919a7446eae15c51f51434cbc": {
      "model_module": "@jupyter-widgets/base",
      "model_module_version": "1.2.0",
      "model_name": "LayoutModel",
      "state": {}
     },
     "8d56c586bca3464d8c5cb36ae761ba46": {
      "model_module": "@jupyter-widgets/base",
      "model_module_version": "1.2.0",
      "model_name": "LayoutModel",
      "state": {
       "flex_flow": "row wrap",
       "margin": "20px"
      }
     },
     "8d73e5bd9d02455d95cfcec70fbbd004": {
      "model_module": "@jupyter-widgets/base",
      "model_module_version": "1.2.0",
      "model_name": "LayoutModel",
      "state": {}
     },
     "8d847dba13ab4694a1ab9e4baa5b388d": {
      "model_module": "@jupyter-widgets/controls",
      "model_module_version": "1.5.0",
      "model_name": "DescriptionStyleModel",
      "state": {
       "description_width": ""
      }
     },
     "8d88b9af599a473ba627da0a2a18a784": {
      "model_module": "@jupyter-widgets/base",
      "model_module_version": "1.2.0",
      "model_name": "LayoutModel",
      "state": {}
     },
     "8df2887e514042d1ac28d987a7d3f39d": {
      "model_module": "@jupyter-widgets/base",
      "model_module_version": "1.2.0",
      "model_name": "LayoutModel",
      "state": {}
     },
     "8df39cc78b7c43f7be9d191b5a4256de": {
      "model_module": "@jupyter-widgets/controls",
      "model_module_version": "1.5.0",
      "model_name": "CheckboxModel",
      "state": {
       "description": "Auto apply",
       "disabled": false,
       "layout": "IPY_MODEL_8d88b9af599a473ba627da0a2a18a784",
       "style": "IPY_MODEL_1f88c16815df476d8f718a32226dcb4a",
       "value": false
      }
     },
     "8e07259218964759aa0e3756812d03d4": {
      "model_module": "pgljupyter",
      "model_module_version": "^0.1.16",
      "model_name": "IntEditorModel",
      "state": {
       "_model_module_version": "^0.1.16",
       "_view_module_version": "^0.1.16",
       "children": [
        "IPY_MODEL_0003eef9dd3941f89ac65b920608e8dc",
        "IPY_MODEL_d734a536300949189433eec18ebe49d5",
        "IPY_MODEL_ea9d8d6b50034a3a9fb9e57b9e304732",
        "IPY_MODEL_ecd0c12b3b9e479fb4a4bdfdcb2c2842",
        "IPY_MODEL_715606022a044632ac89eb213623d18a"
       ],
       "layout": "IPY_MODEL_41689189f03a44738c5a6d8d77d673f0"
      }
     },
     "8e22cddd14fe4b4bae63e877798b91cf": {
      "model_module": "@jupyter-widgets/controls",
      "model_module_version": "1.5.0",
      "model_name": "TextModel",
      "state": {
       "continuous_update": false,
       "description": "name",
       "layout": "IPY_MODEL_e0b3bfd022cf45e4a94fa38c5088e074",
       "style": "IPY_MODEL_aa87d9baf2e54afbbf8a7787e01bc39c",
       "value": "color_3"
      }
     },
     "8e4723856ef545059ac8d8e784b37a8e": {
      "model_module": "@jupyter-widgets/base",
      "model_module_version": "1.2.0",
      "model_name": "LayoutModel",
      "state": {}
     },
     "8e59f23a67514549b0b971a20c8f5644": {
      "model_module": "@jupyter-widgets/controls",
      "model_module_version": "1.5.0",
      "model_name": "IntSliderModel",
      "state": {
       "description": "value",
       "layout": "IPY_MODEL_66cfa3a226224323bc89e5cd0184f515",
       "max": 10,
       "min": 1,
       "style": "IPY_MODEL_67f4e04d08034151b0a50c7edf65de73",
       "value": 3
      }
     },
     "8e6019a49d114761a746e659cc1c48f2": {
      "model_module": "@jupyter-widgets/controls",
      "model_module_version": "1.5.0",
      "model_name": "TextModel",
      "state": {
       "continuous_update": false,
       "description": "name",
       "layout": "IPY_MODEL_7740beb2c49f45218e9e7fa1fe1a8432",
       "style": "IPY_MODEL_fc7845240a5a42389a89509a28eb34dd",
       "value": "nb_axes"
      }
     },
     "8e7f32c1ba3149af89ee115dcce7233a": {
      "model_module": "@jupyter-widgets/controls",
      "model_module_version": "1.5.0",
      "model_name": "VBoxModel",
      "state": {
       "children": [
        "IPY_MODEL_809eaaa517c44dacbd10399efe1c86c8",
        "IPY_MODEL_77bb0a66c7374c4d92144e5900b028a0",
        "IPY_MODEL_15c2dd748e27429b8b7bf9eec53d186c",
        "IPY_MODEL_286459ac772e4d45a1cdf2d3de2f2641",
        "IPY_MODEL_1bd27105bfe744bdbb177dc19d1cf75d"
       ],
       "layout": "IPY_MODEL_78f64a9316a54addbb907fdb74325de3"
      }
     },
     "8e85538f1c7348e88888e73f57ac653a": {
      "model_module": "@jupyter-widgets/controls",
      "model_module_version": "1.5.0",
      "model_name": "DescriptionStyleModel",
      "state": {
       "description_width": ""
      }
     },
     "8ea211ca5b9b4eeba00a371c1b423cca": {
      "model_module": "@jupyter-widgets/controls",
      "model_module_version": "1.5.0",
      "model_name": "ColorPickerModel",
      "state": {
       "description": "specular",
       "disabled": false,
       "layout": "IPY_MODEL_d5cd4fb599cb46fc948cd99e2e1b54e4",
       "style": "IPY_MODEL_42f6a0ce6998407886d1d89c57494c7e",
       "value": "#282828"
      }
     },
     "8eb293d9f1ca49e4a0d8a5d438b925e5": {
      "model_module": "@jupyter-widgets/controls",
      "model_module_version": "1.5.0",
      "model_name": "DescriptionStyleModel",
      "state": {
       "description_width": ""
      }
     },
     "8ebbdf1fb8e54a828e60d7ac7f9605d3": {
      "model_module": "@jupyter-widgets/base",
      "model_module_version": "1.2.0",
      "model_name": "LayoutModel",
      "state": {}
     },
     "8ed6d95dd9ef49ee8cf874817418fc76": {
      "model_module": "@jupyter-widgets/base",
      "model_module_version": "1.2.0",
      "model_name": "LayoutModel",
      "state": {}
     },
     "8f003cdb574545128b2ee385bb6fff88": {
      "model_module": "@jupyter-widgets/base",
      "model_module_version": "1.2.0",
      "model_name": "LayoutModel",
      "state": {}
     },
     "8f06c2ae91ad40a682161b87d6e730b4": {
      "model_module": "@jupyter-widgets/controls",
      "model_module_version": "1.5.0",
      "model_name": "ButtonStyleModel",
      "state": {}
     },
     "8f0d237bd2814cfa98534d804a75bd38": {
      "model_module": "@jupyter-widgets/controls",
      "model_module_version": "1.5.0",
      "model_name": "FloatSliderModel",
      "state": {
       "description": "transparency",
       "layout": "IPY_MODEL_6f0a69f339134e55b948c90d45650703",
       "max": 1,
       "step": 0.1,
       "style": "IPY_MODEL_7b577b3b68b746a29a5e6e041152e745"
      }
     },
     "8f4c0103e27f4574ba684259337a9d96": {
      "model_module": "@jupyter-widgets/controls",
      "model_module_version": "1.5.0",
      "model_name": "HBoxModel",
      "state": {
       "children": [
        "IPY_MODEL_417e8e140cdf4466b6d508d357de4584",
        "IPY_MODEL_9925cbd3ea0647db80ef2a633272125b"
       ],
       "layout": "IPY_MODEL_431315f0bf144d2fa04d6ffc24c515f9"
      }
     },
     "8f51043f8eec495db2aa437cf47dd5d0": {
      "model_module": "@jupyter-widgets/controls",
      "model_module_version": "1.5.0",
      "model_name": "DescriptionStyleModel",
      "state": {
       "description_width": ""
      }
     },
     "8f5d620157024ed59ea59efe6b680541": {
      "model_module": "@jupyter-widgets/base",
      "model_module_version": "1.2.0",
      "model_name": "LayoutModel",
      "state": {}
     },
     "8f76a051af3b4aafaab23bc142f7301f": {
      "model_module": "@jupyter-widgets/base",
      "model_module_version": "1.2.0",
      "model_name": "LayoutModel",
      "state": {}
     },
     "8f87f71addf8423b8fb30f7dbf62cc02": {
      "model_module": "@jupyter-widgets/controls",
      "model_module_version": "1.5.0",
      "model_name": "DescriptionStyleModel",
      "state": {
       "description_width": ""
      }
     },
     "8fa2131f64aa4931a8055494da690356": {
      "model_module": "@jupyter-widgets/base",
      "model_module_version": "1.2.0",
      "model_name": "LayoutModel",
      "state": {}
     },
     "902e29cc535749e796ee3a937c3dfd21": {
      "model_module": "@jupyter-widgets/controls",
      "model_module_version": "1.5.0",
      "model_name": "TextModel",
      "state": {
       "continuous_update": false,
       "description": "name",
       "layout": "IPY_MODEL_59b6d90878cc4434b2cd7ffe61e22f6b",
       "style": "IPY_MODEL_5cb0a8f02ad04b5f9796ec72a576b675",
       "value": "nb_axes"
      }
     },
     "906dd31da0b74225aefcd7029f7939cc": {
      "model_module": "@jupyter-widgets/controls",
      "model_module_version": "1.5.0",
      "model_name": "DescriptionStyleModel",
      "state": {
       "description_width": ""
      }
     },
     "907af94c6c2443389979483218e080ca": {
      "model_module": "@jupyter-widgets/controls",
      "model_module_version": "1.5.0",
      "model_name": "ButtonStyleModel",
      "state": {}
     },
     "908f4ca4949b494db14fc5156aab2cd9": {
      "model_module": "@jupyter-widgets/base",
      "model_module_version": "1.2.0",
      "model_name": "LayoutModel",
      "state": {}
     },
     "90b38a086b7a4c3dacb0a705e9da7c93": {
      "model_module": "@jupyter-widgets/base",
      "model_module_version": "1.2.0",
      "model_name": "LayoutModel",
      "state": {}
     },
     "90f363a2c49a484a843ce9189c500501": {
      "model_module": "@jupyter-widgets/base",
      "model_module_version": "1.2.0",
      "model_name": "LayoutModel",
      "state": {}
     },
     "90f3796014fb441682830e036d391913": {
      "model_module": "@jupyter-widgets/controls",
      "model_module_version": "1.5.0",
      "model_name": "DescriptionStyleModel",
      "state": {
       "description_width": ""
      }
     },
     "90f65d5e0f7d4ba297b91d7381a9b694": {
      "model_module": "@jupyter-widgets/controls",
      "model_module_version": "1.5.0",
      "model_name": "SliderStyleModel",
      "state": {
       "description_width": ""
      }
     },
     "914f2d720e814344b6090277a3ff863a": {
      "model_module": "@jupyter-widgets/base",
      "model_module_version": "1.2.0",
      "model_name": "LayoutModel",
      "state": {}
     },
     "916e7d074de94e13a2e0ee223e0b2d15": {
      "model_module": "@jupyter-widgets/controls",
      "model_module_version": "1.5.0",
      "model_name": "ColorPickerModel",
      "state": {
       "description": "ambient",
       "disabled": false,
       "layout": "IPY_MODEL_977fea6ecad74993b1e7f4b53f05bd3d",
       "style": "IPY_MODEL_4bfa6e2f73c74bffa75861116f13ec31",
       "value": "#0fc4db"
      }
     },
     "91ac8e1f9a054b498098ec7954dfe608": {
      "model_module": "@jupyter-widgets/base",
      "model_module_version": "1.2.0",
      "model_name": "LayoutModel",
      "state": {}
     },
     "9205b342fe2d42118f3ab706062aa484": {
      "model_module": "@jupyter-widgets/base",
      "model_module_version": "1.2.0",
      "model_name": "LayoutModel",
      "state": {}
     },
     "9242e4b52d1c46328eae0b31e19984e1": {
      "model_module": "@jupyter-widgets/base",
      "model_module_version": "1.2.0",
      "model_name": "LayoutModel",
      "state": {}
     },
     "92616f968bf649ad919cbb41d7425b65": {
      "model_module": "@jupyter-widgets/base",
      "model_module_version": "1.2.0",
      "model_name": "LayoutModel",
      "state": {}
     },
     "9263d72547104120b8476c3b55758aeb": {
      "model_module": "@jupyter-widgets/base",
      "model_module_version": "1.2.0",
      "model_name": "LayoutModel",
      "state": {}
     },
     "926c57076840440cba5b8c4fd41d9d43": {
      "model_module": "@jupyter-widgets/base",
      "model_module_version": "1.2.0",
      "model_name": "LayoutModel",
      "state": {}
     },
     "92745359b08f4ccb920907d11ee886b9": {
      "model_module": "@jupyter-widgets/base",
      "model_module_version": "1.2.0",
      "model_name": "LayoutModel",
      "state": {}
     },
     "92978dae10c04f879b6b666ba80d5835": {
      "model_module": "@jupyter-widgets/base",
      "model_module_version": "1.2.0",
      "model_name": "LayoutModel",
      "state": {
       "margin": "20px 0px"
      }
     },
     "92d4898f94824292b0826fcacbbe587f": {
      "model_module": "@jupyter-widgets/controls",
      "model_module_version": "1.5.0",
      "model_name": "ColorPickerModel",
      "state": {
       "description": "specular",
       "disabled": false,
       "layout": "IPY_MODEL_b018f27f56ef47b8b8c77c757b918855",
       "style": "IPY_MODEL_bac8604d77704199a0f58325e3b25b59",
       "value": "#282828"
      }
     },
     "930ad9faa5584ea6b9760fd12a63f4ea": {
      "model_module": "@jupyter-widgets/controls",
      "model_module_version": "1.5.0",
      "model_name": "DropdownModel",
      "state": {
       "_options_labels": [
        "Color"
       ],
       "index": 0,
       "layout": "IPY_MODEL_59b8490222d449ec873f6dd426630d90",
       "style": "IPY_MODEL_0366a0590c4e4687a64fd5d1d1a58442"
      }
     },
     "9312767b442f47bc9228a5a34c6c8271": {
      "model_module": "@jupyter-widgets/controls",
      "model_module_version": "1.5.0",
      "model_name": "ButtonModel",
      "state": {
       "description": "Delete",
       "layout": "IPY_MODEL_fe924468805c4aa4b1a13f57e745e092",
       "style": "IPY_MODEL_9a1e1906710e483a890168686eb48dea"
      }
     },
     "931cc338e78d449da79227e3e8bbf56f": {
      "model_module": "@jupyter-widgets/controls",
      "model_module_version": "1.5.0",
      "model_name": "ButtonStyleModel",
      "state": {}
     },
     "9323e0d993094b5598ad0290264509ac": {
      "model_module": "@jupyter-widgets/base",
      "model_module_version": "1.2.0",
      "model_name": "LayoutModel",
      "state": {}
     },
     "932905fe953a416bb495d9f6c2ffa4fe": {
      "model_module": "@jupyter-widgets/base",
      "model_module_version": "1.2.0",
      "model_name": "LayoutModel",
      "state": {}
     },
     "9334138484854b40a86080f1b61c3cbf": {
      "model_module": "@jupyter-widgets/controls",
      "model_module_version": "1.5.0",
      "model_name": "ButtonModel",
      "state": {
       "description": "Add",
       "layout": "IPY_MODEL_47c4dd25604a48a1b5557177fd515750",
       "style": "IPY_MODEL_28501e07ca81424ba924d3f88696843a"
      }
     },
     "939594c53ae64a0e89243eda3899ab0b": {
      "model_module": "@jupyter-widgets/controls",
      "model_module_version": "1.5.0",
      "model_name": "TabModel",
      "state": {
       "_titles": {
        "0": "leuwenberg.json"
       },
       "children": [
        "IPY_MODEL_5c7ea0ef330d498b91b01ff20701afc6"
       ],
       "layout": "IPY_MODEL_40d3cad94876411eb2c2b28bed44d044"
      }
     },
     "93982537a3414c03934ba0943cc75f50": {
      "model_module": "@jupyter-widgets/controls",
      "model_module_version": "1.5.0",
      "model_name": "DescriptionStyleModel",
      "state": {
       "description_width": ""
      }
     },
     "93a5e2d0c70d421d81cf898af8d464df": {
      "model_module": "@jupyter-widgets/controls",
      "model_module_version": "1.5.0",
      "model_name": "DescriptionStyleModel",
      "state": {
       "description_width": ""
      }
     },
     "93b7d193d72342788a68a1d372519ba3": {
      "model_module": "@jupyter-widgets/base",
      "model_module_version": "1.2.0",
      "model_name": "LayoutModel",
      "state": {}
     },
     "93d66b3b8d5148e096acb7c3b08dcb94": {
      "model_module": "@jupyter-widgets/controls",
      "model_module_version": "1.5.0",
      "model_name": "HBoxModel",
      "state": {
       "children": [
        "IPY_MODEL_0c3945d18ad84ce68b356bc7fec1acc8",
        "IPY_MODEL_d5451f4d3ae8401ab534c5136e99f785"
       ],
       "layout": "IPY_MODEL_801c820f9e6246b9b3ed03e09a503e66"
      }
     },
     "93dfc5ebdc024eacb5219441abe21f32": {
      "model_module": "@jupyter-widgets/controls",
      "model_module_version": "1.5.0",
      "model_name": "SliderStyleModel",
      "state": {
       "description_width": ""
      }
     },
     "93e9e1a13f404740b06bcbb3b04fbbe8": {
      "model_module": "@jupyter-widgets/controls",
      "model_module_version": "1.5.0",
      "model_name": "VBoxModel",
      "state": {
       "children": [
        "IPY_MODEL_1624262f28254a519733973a8caf8b9e",
        "IPY_MODEL_767069b5239041d1a94bed85e955db0b",
        "IPY_MODEL_6322774f3a5e4d0cad43bc9ac0f77d3f",
        "IPY_MODEL_f834a6370cbe4f55b43168d73475ea6e",
        "IPY_MODEL_74bb39c50046421c8cf174ea8b853142"
       ],
       "layout": "IPY_MODEL_39b48239860647a19accd22046ec23a9"
      }
     },
     "940c9355e89a41248908d024561c2082": {
      "model_module": "@jupyter-widgets/base",
      "model_module_version": "1.2.0",
      "model_name": "LayoutModel",
      "state": {}
     },
     "9424c3010f3348a9bc112e2fabf01dd9": {
      "model_module": "@jupyter-widgets/base",
      "model_module_version": "1.2.0",
      "model_name": "LayoutModel",
      "state": {}
     },
     "9425b43dcbad4491bb621b1c588f23a2": {
      "model_module": "@jupyter-widgets/controls",
      "model_module_version": "1.5.0",
      "model_name": "DescriptionStyleModel",
      "state": {
       "description_width": ""
      }
     },
     "94cfe289c61c4e35b29a1d6056c480fc": {
      "model_module": "@jupyter-widgets/base",
      "model_module_version": "1.2.0",
      "model_name": "LayoutModel",
      "state": {}
     },
     "94d95cd1937246618d8bd9dde60c742b": {
      "model_module": "@jupyter-widgets/controls",
      "model_module_version": "1.5.0",
      "model_name": "TextModel",
      "state": {
       "continuous_update": false,
       "description": "name",
       "layout": "IPY_MODEL_f4fc311f40184f1cb5a43ab2a5f5d676",
       "style": "IPY_MODEL_2e66c83f178e446bb6cf343405d98cf0",
       "value": "leaf_new"
      }
     },
     "94dd3b9fa9fc40afbb444d490ee4bac3": {
      "model_module": "@jupyter-widgets/controls",
      "model_module_version": "1.5.0",
      "model_name": "SliderStyleModel",
      "state": {
       "description_width": ""
      }
     },
     "94fe467575e84f10afa968e472e6294b": {
      "model_module": "@jupyter-widgets/controls",
      "model_module_version": "1.5.0",
      "model_name": "SliderStyleModel",
      "state": {
       "description_width": ""
      }
     },
     "953ba707a655461f95ad063f5a6f574b": {
      "model_module": "@jupyter-widgets/base",
      "model_module_version": "1.2.0",
      "model_name": "LayoutModel",
      "state": {}
     },
     "9543ce5168bb44ca89a3b02cbe5bca8f": {
      "model_module": "@jupyter-widgets/base",
      "model_module_version": "1.2.0",
      "model_name": "LayoutModel",
      "state": {}
     },
     "95a95cfc47e54d0ab882efb98310c995": {
      "model_module": "@jupyter-widgets/controls",
      "model_module_version": "1.5.0",
      "model_name": "DescriptionStyleModel",
      "state": {
       "description_width": ""
      }
     },
     "95e1beb5a96b4e808db8fc25b38b38b1": {
      "model_module": "@jupyter-widgets/controls",
      "model_module_version": "1.5.0",
      "model_name": "DropdownModel",
      "state": {
       "_options_labels": [
        "Integer",
        "Float",
        "Bool"
       ],
       "index": 0,
       "layout": "IPY_MODEL_6b9b12000c3449fd833f068eef7fefa7",
       "style": "IPY_MODEL_76ebe3b2efb042b0b745b891af6193b3"
      }
     },
     "963604a85f104c0ea8afa21693108092": {
      "model_module": "@jupyter-widgets/controls",
      "model_module_version": "1.5.0",
      "model_name": "VBoxModel",
      "state": {
       "children": [
        "IPY_MODEL_dd63929993a7401ab626cf49aa8e47ec",
        "IPY_MODEL_18fd2dd4be65499b91b7d984d3f28244"
       ],
       "layout": "IPY_MODEL_ae33a6518f6c4bd7ac1c3d19f27164ee"
      }
     },
     "963d126402964be48e58d85e7d4149c1": {
      "model_module": "@jupyter-widgets/controls",
      "model_module_version": "1.5.0",
      "model_name": "DescriptionStyleModel",
      "state": {
       "description_width": ""
      }
     },
     "964212339a614dc4b244dd85464c155d": {
      "model_module": "@jupyter-widgets/base",
      "model_module_version": "1.2.0",
      "model_name": "LayoutModel",
      "state": {
       "flex_flow": "row wrap",
       "margin": "20px"
      }
     },
     "96760736adb540eab397a4254d806359": {
      "model_module": "@jupyter-widgets/controls",
      "model_module_version": "1.5.0",
      "model_name": "SliderStyleModel",
      "state": {
       "description_width": ""
      }
     },
     "9686a9ec1f724f7b9f1afc42c755dcf4": {
      "model_module": "@jupyter-widgets/base",
      "model_module_version": "1.2.0",
      "model_name": "LayoutModel",
      "state": {}
     },
     "96a5793689434924ae2e18ffeb1734a9": {
      "model_module": "@jupyter-widgets/controls",
      "model_module_version": "1.5.0",
      "model_name": "ButtonModel",
      "state": {
       "description": "Add",
       "layout": "IPY_MODEL_7e1a9142f68a44bb85b87c9ed44b26f9",
       "style": "IPY_MODEL_c98bc4fd0fb74e1583e73ae62e4ec124"
      }
     },
     "96b49dfc62ee4b54b6911cc9519f3adf": {
      "model_module": "@jupyter-widgets/controls",
      "model_module_version": "1.5.0",
      "model_name": "FloatSliderModel",
      "state": {
       "description": "transparency",
       "layout": "IPY_MODEL_5cd5315f340348038cd38a661f3e0383",
       "max": 1,
       "step": 0.1,
       "style": "IPY_MODEL_ce2ea4fd167e4cb2b2f137651b8ac0c7"
      }
     },
     "96cdd7a7ccd846d3924fb1cc7ba26616": {
      "model_module": "@jupyter-widgets/controls",
      "model_module_version": "1.5.0",
      "model_name": "ButtonModel",
      "state": {
       "description": "Add",
       "layout": "IPY_MODEL_215f302522a248ffb3819ec2c29f1058",
       "style": "IPY_MODEL_fe19d3f5e3dc4cd99368775b1f16b8cc"
      }
     },
     "96ef1dd3e38b40a6b4b6aa0a8d3bcca5": {
      "model_module": "@jupyter-widgets/controls",
      "model_module_version": "1.5.0",
      "model_name": "DropdownModel",
      "state": {
       "_options_labels": [
        "leafduration",
        "leafold",
        "maxorder",
        "radinc",
        "nb_axes"
       ],
       "index": 0,
       "layout": "IPY_MODEL_b349b6082b68436a830311e2652d9b99",
       "style": "IPY_MODEL_0095f53d7b9d447db6885939bd2cb620"
      }
     },
     "973162b76dea4a2bbb3e36144ea6db25": {
      "model_module": "@jupyter-widgets/base",
      "model_module_version": "1.2.0",
      "model_name": "LayoutModel",
      "state": {}
     },
     "973da0ef21a546739fbc9361cd34bfe5": {
      "model_module": "@jupyter-widgets/base",
      "model_module_version": "1.2.0",
      "model_name": "LayoutModel",
      "state": {}
     },
     "9773821d863c41edbda8c72cf73d3bc6": {
      "model_module": "@jupyter-widgets/controls",
      "model_module_version": "1.5.0",
      "model_name": "VBoxModel",
      "state": {
       "children": [
        "IPY_MODEL_684c8f4df8674412aedac32f204f41a4",
        "IPY_MODEL_1c64de6d810040e6a876cf03d544910b",
        "IPY_MODEL_58569d21975b4ecb94c1b21ac30e0823",
        "IPY_MODEL_a8e1694a081f4cdeac229c2c58ebc71b",
        "IPY_MODEL_b025d2c3b32b46ee9877ca8fabce0c2d"
       ],
       "layout": "IPY_MODEL_2132082f200f4a239684d6e5b976b196"
      }
     },
     "977fea6ecad74993b1e7f4b53f05bd3d": {
      "model_module": "@jupyter-widgets/base",
      "model_module_version": "1.2.0",
      "model_name": "LayoutModel",
      "state": {}
     },
     "97afb2960e67464ebd0ea7e768317b03": {
      "model_module": "@jupyter-widgets/base",
      "model_module_version": "1.2.0",
      "model_name": "LayoutModel",
      "state": {}
     },
     "97f9054a19b94f649c2c43daf746d8ad": {
      "model_module": "@jupyter-widgets/controls",
      "model_module_version": "1.5.0",
      "model_name": "TextModel",
      "state": {
       "continuous_update": false,
       "description": "name",
       "layout": "IPY_MODEL_365ec1034d8846dc934c13bdd628212a",
       "style": "IPY_MODEL_fe47d6fcca4343b9b6744ef3bf3370a2",
       "value": "maxorder"
      }
     },
     "9824adc57ba049e4afcc27d45ea5872d": {
      "model_module": "@jupyter-widgets/controls",
      "model_module_version": "1.5.0",
      "model_name": "DescriptionStyleModel",
      "state": {
       "description_width": ""
      }
     },
     "98277c35c08042f6a10536f9cec224a9": {
      "model_module": "@jupyter-widgets/base",
      "model_module_version": "1.2.0",
      "model_name": "LayoutModel",
      "state": {}
     },
     "98388df207bd4a559bfd30c5445ef20d": {
      "model_module": "@jupyter-widgets/base",
      "model_module_version": "1.2.0",
      "model_name": "LayoutModel",
      "state": {}
     },
     "983ff0bf760d4a3595c58dc8bec1ee06": {
      "model_module": "@jupyter-widgets/controls",
      "model_module_version": "1.5.0",
      "model_name": "FloatSliderModel",
      "state": {
       "description": "transparency",
       "layout": "IPY_MODEL_10052b125cad43d289bb2ecbb7d56d4f",
       "max": 1,
       "step": 0.1,
       "style": "IPY_MODEL_998e4a990bb5494382d67f8d49b65c19"
      }
     },
     "985068152a494f6a9cd086225e496a1c": {
      "model_module": "@jupyter-widgets/controls",
      "model_module_version": "1.5.0",
      "model_name": "SliderStyleModel",
      "state": {
       "description_width": ""
      }
     },
     "986f1e0e898f4259af59feb5928fa85f": {
      "model_module": "@jupyter-widgets/controls",
      "model_module_version": "1.5.0",
      "model_name": "ButtonStyleModel",
      "state": {}
     },
     "98aa41c6eb644b028a4c3b34c61591da": {
      "model_module": "@jupyter-widgets/controls",
      "model_module_version": "1.5.0",
      "model_name": "DescriptionStyleModel",
      "state": {
       "description_width": ""
      }
     },
     "98b3dcd8990146f594f7c54e237135e5": {
      "model_module": "pgljupyter",
      "model_module_version": "^0.1.19",
      "model_name": "IntEditorModel",
      "state": {
       "_model_module_version": "^0.1.19",
       "_view_module_version": "^0.1.19",
       "children": [
        "IPY_MODEL_1bf3eb867db745b39087e47d083ee70c",
        "IPY_MODEL_a7c7cb1ea21d4cc2ad1a8aa92bdc5b43"
       ],
       "layout": "IPY_MODEL_c9baeb3cc9b94afca6784ad73de3b963"
      }
     },
     "98e62b318b7c483cb6d8f8cd5917ff1b": {
      "model_module": "pgljupyter",
      "model_module_version": "^0.1.17",
      "model_name": "ParameterEditorModel",
      "state": {
       "_model_module_version": "^0.1.17",
       "_view_module_version": "^0.1.17",
       "children": [
        "IPY_MODEL_8be95b6e2c4341088b47d9a41a5e1916"
       ],
       "layout": "IPY_MODEL_4be4fe9b98574f5e94986b02b8c225cb"
      }
     },
     "98fe3261f12c4e249958290f37ba93d2": {
      "model_module": "@jupyter-widgets/controls",
      "model_module_version": "1.5.0",
      "model_name": "ButtonModel",
      "state": {
       "description": "Delete",
       "layout": "IPY_MODEL_0daf2556cff5466a8f88c6b061377e55",
       "style": "IPY_MODEL_d563b21fb0e44bff9f75ce1b0e25866e"
      }
     },
     "9912022f5d81416fae20d7fb32ee621a": {
      "model_module": "@jupyter-widgets/controls",
      "model_module_version": "1.5.0",
      "model_name": "DescriptionStyleModel",
      "state": {
       "description_width": ""
      }
     },
     "9915bfe8a73a4ccab7d287b3385f6115": {
      "model_module": "@jupyter-widgets/base",
      "model_module_version": "1.2.0",
      "model_name": "LayoutModel",
      "state": {}
     },
     "991d20b434f14f32ba0b5c3eb2836f02": {
      "model_module": "@jupyter-widgets/base",
      "model_module_version": "1.2.0",
      "model_name": "LayoutModel",
      "state": {}
     },
     "9925cbd3ea0647db80ef2a633272125b": {
      "model_module": "@jupyter-widgets/controls",
      "model_module_version": "1.5.0",
      "model_name": "CheckboxModel",
      "state": {
       "description": "Auto save",
       "disabled": false,
       "layout": "IPY_MODEL_42e7b3c15d994cd6b5e009744d25d2cf",
       "style": "IPY_MODEL_e39e2498279249fda7dc6eebafd8b0bb",
       "value": false
      }
     },
     "994ff1c50b4e44a6bb5d4ae45fea71f2": {
      "model_module": "@jupyter-widgets/base",
      "model_module_version": "1.2.0",
      "model_name": "LayoutModel",
      "state": {}
     },
     "9961b6fd43374fabbaa82d99027e4bb1": {
      "model_module": "@jupyter-widgets/controls",
      "model_module_version": "1.5.0",
      "model_name": "ButtonStyleModel",
      "state": {}
     },
     "998772480aac452387c45481c4a8859d": {
      "model_module": "@jupyter-widgets/base",
      "model_module_version": "1.2.0",
      "model_name": "LayoutModel",
      "state": {}
     },
     "998e4a990bb5494382d67f8d49b65c19": {
      "model_module": "@jupyter-widgets/controls",
      "model_module_version": "1.5.0",
      "model_name": "SliderStyleModel",
      "state": {
       "description_width": ""
      }
     },
     "9991cdc311734263a5179071275bff7c": {
      "model_module": "@jupyter-widgets/controls",
      "model_module_version": "1.5.0",
      "model_name": "ColorPickerModel",
      "state": {
       "description": "specular",
       "disabled": false,
       "layout": "IPY_MODEL_5d416a34f993487a93cb14b0054ea4ea",
       "style": "IPY_MODEL_160584d7549b440497e447884ae62452",
       "value": "#282828"
      }
     },
     "9995b849589e4f8a87cd74cb1555ef93": {
      "model_module": "@jupyter-widgets/controls",
      "model_module_version": "1.5.0",
      "model_name": "DescriptionStyleModel",
      "state": {
       "description_width": ""
      }
     },
     "99a8e99bf57142b881b83b3908b78915": {
      "model_module": "@jupyter-widgets/controls",
      "model_module_version": "1.5.0",
      "model_name": "TextModel",
      "state": {
       "continuous_update": false,
       "description": "name",
       "layout": "IPY_MODEL_1d1181a2fd7a41b6942a8f000b3d75bd",
       "style": "IPY_MODEL_d98400c8547342cb8a67ecbb1f113126",
       "value": "radinc"
      }
     },
     "9a1e1906710e483a890168686eb48dea": {
      "model_module": "@jupyter-widgets/controls",
      "model_module_version": "1.5.0",
      "model_name": "ButtonStyleModel",
      "state": {}
     },
     "9a39bcbc02c34c958a3a2bea5ded14be": {
      "model_module": "@jupyter-widgets/controls",
      "model_module_version": "1.5.0",
      "model_name": "DropdownModel",
      "state": {
       "index": null,
       "layout": "IPY_MODEL_554ebc2fe70b441697fdba4d2a6f87c0",
       "style": "IPY_MODEL_d5962bdf3e204a32a0c5f001c01c8af8"
      }
     },
     "9a57f9c762704968844cf5cf71803d87": {
      "model_module": "@jupyter-widgets/controls",
      "model_module_version": "1.5.0",
      "model_name": "FloatSliderModel",
      "state": {
       "description": "shininess",
       "layout": "IPY_MODEL_ffa7968d5369463eadff716d61ff8c15",
       "max": 1,
       "step": 0.1,
       "style": "IPY_MODEL_3dda600e26ba44f9a458b8f113ced26f",
       "value": 0.2
      }
     },
     "9a9dd7b9393e473ab51a5616b57ee709": {
      "model_module": "@jupyter-widgets/controls",
      "model_module_version": "1.5.0",
      "model_name": "FloatSliderModel",
      "state": {
       "description": "diffuse",
       "layout": "IPY_MODEL_0f79a7c69fb34b2d9f55d3a3cfb5c585",
       "max": 3,
       "step": 0.1,
       "style": "IPY_MODEL_5d56f12735114a72b59aee0792d5ab99",
       "value": 1
      }
     },
     "9adab8c2be424a5f8a9aa5ef3f26e6dd": {
      "model_module": "@jupyter-widgets/base",
      "model_module_version": "1.2.0",
      "model_name": "LayoutModel",
      "state": {}
     },
     "9b10fafd1dad421981300c41e7b605cc": {
      "model_module": "@jupyter-widgets/controls",
      "model_module_version": "1.5.0",
      "model_name": "HBoxModel",
      "state": {
       "children": [
        "IPY_MODEL_679a4e3dbf4340d084066a79f8c8540d",
        "IPY_MODEL_6e149d6140aa4abca3c6a495c874087e"
       ],
       "layout": "IPY_MODEL_bb79433b06b94630b6f77fbc405d30c3"
      }
     },
     "9b28113ac4cf4246b8f51027152a28ae": {
      "model_module": "@jupyter-widgets/base",
      "model_module_version": "1.2.0",
      "model_name": "LayoutModel",
      "state": {}
     },
     "9b2cf354612745219cec51fc673564b0": {
      "model_module": "@jupyter-widgets/controls",
      "model_module_version": "1.5.0",
      "model_name": "DescriptionStyleModel",
      "state": {
       "description_width": ""
      }
     },
     "9b30eab18de94dffbe1a6d676db8158c": {
      "model_module": "@jupyter-widgets/base",
      "model_module_version": "1.2.0",
      "model_name": "LayoutModel",
      "state": {}
     },
     "9b3e11ebb803450b986ba009cd7271d1": {
      "model_module": "@jupyter-widgets/base",
      "model_module_version": "1.2.0",
      "model_name": "LayoutModel",
      "state": {
       "margin": "20px 0px"
      }
     },
     "9b552c4d5fcb4cb5a27ef472c8be80f2": {
      "model_module": "@jupyter-widgets/base",
      "model_module_version": "1.2.0",
      "model_name": "LayoutModel",
      "state": {}
     },
     "9b789e08ff1c46f1bb9f707c180a4903": {
      "model_module": "@jupyter-widgets/base",
      "model_module_version": "1.2.0",
      "model_name": "LayoutModel",
      "state": {}
     },
     "9b8436ae14f84fa29eae52599733cb23": {
      "model_module": "@jupyter-widgets/controls",
      "model_module_version": "1.5.0",
      "model_name": "SliderStyleModel",
      "state": {
       "description_width": ""
      }
     },
     "9b9062181b2349279a58cedf3d1a123f": {
      "model_module": "@jupyter-widgets/controls",
      "model_module_version": "1.5.0",
      "model_name": "HBoxModel",
      "state": {
       "layout": "IPY_MODEL_5ffcfabea4324e77ba7847c89942d8f5"
      }
     },
     "9b9a7369a8eb4f5da61755ac616f74c3": {
      "model_module": "@jupyter-widgets/controls",
      "model_module_version": "1.5.0",
      "model_name": "ButtonModel",
      "state": {
       "description": "Delete",
       "layout": "IPY_MODEL_8688606d2e9e400dbdbdb02bf5459c6a",
       "style": "IPY_MODEL_8385988dc1324faabaa3e51b770405fa"
      }
     },
     "9baabb8054da4869a9a5271e3cb0fc84": {
      "model_module": "@jupyter-widgets/controls",
      "model_module_version": "1.5.0",
      "model_name": "DescriptionStyleModel",
      "state": {
       "description_width": ""
      }
     },
     "9bbd113d7ca4432ebc3257210c3b4bba": {
      "model_module": "@jupyter-widgets/controls",
      "model_module_version": "1.5.0",
      "model_name": "BoundedIntTextModel",
      "state": {
       "description": "index",
       "layout": "IPY_MODEL_90f363a2c49a484a843ce9189c500501",
       "style": "IPY_MODEL_6dc7af3ab18949c5af3d4e2a41944457",
       "value": 2
      }
     },
     "9bc9c3338eea4c8c86654a7b2ab4b2be": {
      "model_module": "@jupyter-widgets/controls",
      "model_module_version": "1.5.0",
      "model_name": "BoundedIntTextModel",
      "state": {
       "description": "index",
       "layout": "IPY_MODEL_9d44e4d7b6b5496abd6950c0d6063e41",
       "style": "IPY_MODEL_c30638fef6f54cf1961713315e8da2f9",
       "value": 1
      }
     },
     "9bee7a831530488d8f1b62a13071e4a1": {
      "model_module": "@jupyter-widgets/controls",
      "model_module_version": "1.5.0",
      "model_name": "HBoxModel",
      "state": {
       "children": [
        "IPY_MODEL_bc2caf9b3fc84da494330dba24816842",
        "IPY_MODEL_744795a86db044f098523c400f8e0b54"
       ],
       "layout": "IPY_MODEL_05158b063b184ffe96c65e42e171536a"
      }
     },
     "9c1c587b0f2d4e4ab57cdc4be496188a": {
      "model_module": "@jupyter-widgets/controls",
      "model_module_version": "1.5.0",
      "model_name": "ButtonModel",
      "state": {
       "description": "Add",
       "layout": "IPY_MODEL_05c8647075de4344b4300ae9892bd659",
       "style": "IPY_MODEL_24758aaf99ef4e2d83b824c7757e578a"
      }
     },
     "9c81b23cc78347d3b3f5498f783fd5c4": {
      "model_module": "@jupyter-widgets/controls",
      "model_module_version": "1.5.0",
      "model_name": "CheckboxModel",
      "state": {
       "description": "Auto apply",
       "disabled": false,
       "layout": "IPY_MODEL_9fa3784e27c34e6ba76a8dc86ca4931f",
       "style": "IPY_MODEL_ef248a12bce040c9b9d1143f988a7f70",
       "value": false
      }
     },
     "9c9be4e906924b7ca4fc59cedc2f1e32": {
      "model_module": "@jupyter-widgets/base",
      "model_module_version": "1.2.0",
      "model_name": "LayoutModel",
      "state": {}
     },
     "9c9e8e570eeb465eb30c7eb226f210ab": {
      "model_module": "@jupyter-widgets/base",
      "model_module_version": "1.2.0",
      "model_name": "LayoutModel",
      "state": {}
     },
     "9c9faa69b3cc422bacb248629847951b": {
      "model_module": "@jupyter-widgets/controls",
      "model_module_version": "1.5.0",
      "model_name": "FloatSliderModel",
      "state": {
       "description": "diffuse",
       "layout": "IPY_MODEL_fffdce2dbd3c478e87ffe3ab55ccfcaf",
       "max": 3,
       "step": 0.1,
       "style": "IPY_MODEL_c7fdf9479d19465286070c71ea3e9462",
       "value": 1
      }
     },
     "9ca461330d2145f89ba7e4575a975a1e": {
      "model_module": "@jupyter-widgets/controls",
      "model_module_version": "1.5.0",
      "model_name": "DropdownModel",
      "state": {
       "_options_labels": [
        "trunk",
        "leaf_new",
        "apex",
        "leaf_old"
       ],
       "index": 0,
       "layout": "IPY_MODEL_7ab21dc191f244d38e02875852ce1635",
       "style": "IPY_MODEL_17dc7d6946fa4dcb97123fb2091496ed"
      }
     },
     "9cbbf712b5e546d7b39a41428b0aa2f1": {
      "model_module": "@jupyter-widgets/controls",
      "model_module_version": "1.5.0",
      "model_name": "DescriptionStyleModel",
      "state": {
       "description_width": ""
      }
     },
     "9d12e0ef939e4807b6d9a006fce2d523": {
      "model_module": "@jupyter-widgets/controls",
      "model_module_version": "1.5.0",
      "model_name": "BoundedFloatTextModel",
      "state": {
       "description": "step",
       "layout": "IPY_MODEL_255b3c439597483f80ed865cd04cc345",
       "max": 1,
       "min": 0.01,
       "step": 0.01,
       "style": "IPY_MODEL_259e1b89f75240de83d19dcd3b59bf86",
       "value": 0.01
      }
     },
     "9d18be69857d479da54872b16cad623b": {
      "model_module": "@jupyter-widgets/base",
      "model_module_version": "1.2.0",
      "model_name": "LayoutModel",
      "state": {}
     },
     "9d1b1500742c4f999e573ae2bbe82138": {
      "model_module": "@jupyter-widgets/controls",
      "model_module_version": "1.5.0",
      "model_name": "HBoxModel",
      "state": {
       "children": [
        "IPY_MODEL_57f9e7baa3ba4c54a8e29fd55fd21d1f",
        "IPY_MODEL_aa8e6862821c4fb5a1517274a9313944"
       ],
       "layout": "IPY_MODEL_3bc19bb63ddf48d997c4e036a6b93e14"
      }
     },
     "9d1c471f6aa5499386c9cee5a496cdfc": {
      "model_module": "@jupyter-widgets/controls",
      "model_module_version": "1.5.0",
      "model_name": "HBoxModel",
      "state": {
       "children": [
        "IPY_MODEL_27f197b4f13d478283479e8a52271d78",
        "IPY_MODEL_42733af347b24deeb6820dafdba23586"
       ],
       "layout": "IPY_MODEL_8b43f3f764b3434fbc0675fd7f1f079d"
      }
     },
     "9d3e8bfa637b4501a40010eae48c2c9e": {
      "model_module": "@jupyter-widgets/base",
      "model_module_version": "1.2.0",
      "model_name": "LayoutModel",
      "state": {}
     },
     "9d44e4d7b6b5496abd6950c0d6063e41": {
      "model_module": "@jupyter-widgets/base",
      "model_module_version": "1.2.0",
      "model_name": "LayoutModel",
      "state": {}
     },
     "9d4b9a9b3979406d872e9b0718717eb7": {
      "model_module": "@jupyter-widgets/controls",
      "model_module_version": "1.5.0",
      "model_name": "ColorPickerModel",
      "state": {
       "description": "ambient",
       "disabled": false,
       "layout": "IPY_MODEL_08a086db9f984b649195bfba6e845663",
       "style": "IPY_MODEL_7844922bdc964f79876f85b1d4fdf8b4",
       "value": "#5b4534"
      }
     },
     "9d7be6be4d2747209818d0df34b5332e": {
      "model_module": "@jupyter-widgets/controls",
      "model_module_version": "1.5.0",
      "model_name": "DescriptionStyleModel",
      "state": {
       "description_width": ""
      }
     },
     "9d85129303a24583bb579ed66f0f17c6": {
      "model_module": "@jupyter-widgets/controls",
      "model_module_version": "1.5.0",
      "model_name": "BoundedIntTextModel",
      "state": {
       "description": "index",
       "layout": "IPY_MODEL_9323e0d993094b5598ad0290264509ac",
       "style": "IPY_MODEL_c25725e9ed4543cba7cfc3aee18d110d",
       "value": 3
      }
     },
     "9db215c1ff3242bab8eb9533ae4c1142": {
      "model_module": "@jupyter-widgets/controls",
      "model_module_version": "1.5.0",
      "model_name": "ColorPickerModel",
      "state": {
       "description": "ambient",
       "disabled": false,
       "layout": "IPY_MODEL_0d6a37d535614710acb801033c6e1b4b",
       "style": "IPY_MODEL_38f0ad6d78c543e584e0999e772ae5b0",
       "value": "#e1a014"
      }
     },
     "9e08c85091ae4652b970aefe883adffe": {
      "model_module": "@jupyter-widgets/controls",
      "model_module_version": "1.5.0",
      "model_name": "HBoxModel",
      "state": {
       "children": [
        "IPY_MODEL_b3d9969700604879a7e1ef7be2ac166b",
        "IPY_MODEL_3cb28559df4b4b6280518ded5fdd05f3"
       ],
       "layout": "IPY_MODEL_3bc19bb63ddf48d997c4e036a6b93e14"
      }
     },
     "9e0dbc685d844cfd942dcb418366010a": {
      "model_module": "@jupyter-widgets/base",
      "model_module_version": "1.2.0",
      "model_name": "LayoutModel",
      "state": {}
     },
     "9e28d980a69940b8887b30e5d2ab7eba": {
      "model_module": "@jupyter-widgets/controls",
      "model_module_version": "1.5.0",
      "model_name": "SliderStyleModel",
      "state": {
       "description_width": ""
      }
     },
     "9e2c5933bf4e4702ae54e16799be5b86": {
      "model_module": "@jupyter-widgets/base",
      "model_module_version": "1.2.0",
      "model_name": "LayoutModel",
      "state": {}
     },
     "9e900280d0514e8d81562cb4284c52dd": {
      "model_module": "@jupyter-widgets/base",
      "model_module_version": "1.2.0",
      "model_name": "LayoutModel",
      "state": {}
     },
     "9e9532d3f9264d848c9671d25e59429b": {
      "model_module": "@jupyter-widgets/base",
      "model_module_version": "1.2.0",
      "model_name": "LayoutModel",
      "state": {}
     },
     "9e9b6175f07b4b388b45284c5be91fe8": {
      "model_module": "@jupyter-widgets/base",
      "model_module_version": "1.2.0",
      "model_name": "LayoutModel",
      "state": {}
     },
     "9ed51db8130848ad90da4bdd175506a3": {
      "model_module": "@jupyter-widgets/base",
      "model_module_version": "1.2.0",
      "model_name": "LayoutModel",
      "state": {}
     },
     "9f1b252d842443fc95ac8e7e4f03c95a": {
      "model_module": "@jupyter-widgets/controls",
      "model_module_version": "1.5.0",
      "model_name": "ButtonModel",
      "state": {
       "description": "Add category",
       "layout": "IPY_MODEL_25319b4a1c0d492ea4c44baed1f845f1",
       "style": "IPY_MODEL_22f9f8931d46440d97e214fb63e75678"
      }
     },
     "9f2dbce166f945239d5998018bbaae65": {
      "model_module": "@jupyter-widgets/controls",
      "model_module_version": "1.5.0",
      "model_name": "ButtonModel",
      "state": {
       "description": "Save changes",
       "layout": "IPY_MODEL_1b5446a7b8594571b37b59d8d9494810",
       "style": "IPY_MODEL_10cf3b81371e442e9ea401ba90dc6424"
      }
     },
     "9f354ca43c3848c8a0a6e0d4c83d58ba": {
      "model_module": "@jupyter-widgets/controls",
      "model_module_version": "1.5.0",
      "model_name": "HBoxModel",
      "state": {
       "children": [
        "IPY_MODEL_b83043512c0f4a2d9f6e344f6ba2039e",
        "IPY_MODEL_cce99130437343edbb73e295b4bb4a02"
       ],
       "layout": "IPY_MODEL_81b18d0fb7524952b85175ffd2632d16"
      }
     },
     "9f81c34fd48c46a38082ef22fe436144": {
      "model_module": "@jupyter-widgets/base",
      "model_module_version": "1.2.0",
      "model_name": "LayoutModel",
      "state": {}
     },
     "9fa3784e27c34e6ba76a8dc86ca4931f": {
      "model_module": "@jupyter-widgets/base",
      "model_module_version": "1.2.0",
      "model_name": "LayoutModel",
      "state": {}
     },
     "9fa90f82578d4c6cbf8256092d7543fa": {
      "model_module": "@jupyter-widgets/controls",
      "model_module_version": "1.5.0",
      "model_name": "ButtonStyleModel",
      "state": {}
     },
     "9fafbd4bd5c347e4855e7442dafe12b9": {
      "model_module": "@jupyter-widgets/base",
      "model_module_version": "1.2.0",
      "model_name": "LayoutModel",
      "state": {}
     },
     "9fd3d652ee284bd4a3d837a4c638a0ff": {
      "model_module": "@jupyter-widgets/base",
      "model_module_version": "1.2.0",
      "model_name": "LayoutModel",
      "state": {}
     },
     "9ff1c9457cb74aa3a67133ab431c26fa": {
      "model_module": "@jupyter-widgets/controls",
      "model_module_version": "1.5.0",
      "model_name": "AccordionModel",
      "state": {
       "_titles": {
        "0": "materials",
        "1": "leaf",
        "2": "trunk & branches"
       },
       "children": [
        "IPY_MODEL_eb1b16194a974b38b9619ef00779fa26",
        "IPY_MODEL_2ddb53f89ba24d29879e06aa20312c33",
        "IPY_MODEL_ba8e3775748c410583ae69a234f084fd"
       ],
       "layout": "IPY_MODEL_481a58dae7e14912a728666f6352c9b3"
      }
     },
     "a01d9dc1f8e34f3296fd8d2ea826ec8c": {
      "model_module": "@jupyter-widgets/controls",
      "model_module_version": "1.5.0",
      "model_name": "DescriptionStyleModel",
      "state": {
       "description_width": ""
      }
     },
     "a02f0afc7f6946cfbda70b9cb2bee9f9": {
      "model_module": "@jupyter-widgets/controls",
      "model_module_version": "1.5.0",
      "model_name": "DropdownModel",
      "state": {
       "_options_labels": [
        "leafduration",
        "leafold"
       ],
       "index": 0,
       "layout": "IPY_MODEL_de0166a69e364f30890e136c6a843c04",
       "style": "IPY_MODEL_17a8887bab0d48dda0b6eb417e76dbac"
      }
     },
     "a03e944e51cb40c5810fc9d0fa1bbb94": {
      "model_module": "@jupyter-widgets/controls",
      "model_module_version": "1.5.0",
      "model_name": "HBoxModel",
      "state": {
       "children": [
        "IPY_MODEL_1353b6016646410798b195d84bc20e50",
        "IPY_MODEL_7d00e5b6fac64279ab76b336056511c0",
        "IPY_MODEL_f091e8ee938040379301180a6b5f8ece",
        "IPY_MODEL_dab8e9c05b4743e0910867303374e23e"
       ],
       "layout": "IPY_MODEL_5a7768daa7114d36b770ea435fe36cec"
      }
     },
     "a05c2a0fc34b4dfe85701e30e5a55732": {
      "model_module": "@jupyter-widgets/controls",
      "model_module_version": "1.5.0",
      "model_name": "ColorPickerModel",
      "state": {
       "description": "specular",
       "disabled": false,
       "layout": "IPY_MODEL_d4426702c7c94b0aac24491668d12154",
       "style": "IPY_MODEL_89abd2f5d7a24df6bcce9045e015f6b6",
       "value": "#282828"
      }
     },
     "a0702378d919446e8e9b36d5aac020a8": {
      "model_module": "@jupyter-widgets/controls",
      "model_module_version": "1.5.0",
      "model_name": "SliderStyleModel",
      "state": {
       "description_width": ""
      }
     },
     "a0afcc87243542eeaf16398cb75a5821": {
      "model_module": "@jupyter-widgets/base",
      "model_module_version": "1.2.0",
      "model_name": "LayoutModel",
      "state": {}
     },
     "a0c0376ddf624c66a5d12384bfc7b96f": {
      "model_module": "@jupyter-widgets/base",
      "model_module_version": "1.2.0",
      "model_name": "LayoutModel",
      "state": {}
     },
     "a0c58eb759874d7aabec070d0f8f4e28": {
      "model_module": "@jupyter-widgets/base",
      "model_module_version": "1.2.0",
      "model_name": "LayoutModel",
      "state": {}
     },
     "a12bf960042943e8b1e8bbee51abb425": {
      "model_module": "@jupyter-widgets/controls",
      "model_module_version": "1.5.0",
      "model_name": "DropdownModel",
      "state": {
       "_options_labels": [
        "maxorder",
        "radinc",
        "nb_axes"
       ],
       "index": 0,
       "layout": "IPY_MODEL_7adadb4124b24f179bc60882cf6ae00a",
       "style": "IPY_MODEL_b9b1d7bb539941cd99ecc58e604d0784"
      }
     },
     "a143a5b673a2495e928dd346cefa7981": {
      "model_module": "@jupyter-widgets/controls",
      "model_module_version": "1.5.0",
      "model_name": "HBoxModel",
      "state": {
       "children": [
        "IPY_MODEL_b67e23aadfc0447c98ae6280c6d11af4",
        "IPY_MODEL_407e1eb8df67478aa2edf212374198dd"
       ],
       "layout": "IPY_MODEL_4d77f69f74244057baec36b232f87f78"
      }
     },
     "a14d2f25db9a4ee09e33307c1cc7015b": {
      "model_module": "@jupyter-widgets/controls",
      "model_module_version": "1.5.0",
      "model_name": "ColorPickerModel",
      "state": {
       "description": "specular",
       "disabled": false,
       "layout": "IPY_MODEL_ae2120fec28e429792294924ef4e7252",
       "style": "IPY_MODEL_0cb243c061d34b35a8ad51de93b3548a",
       "value": "#282828"
      }
     },
     "a15f82e8dd1a43408a5d120bd20123be": {
      "model_module": "@jupyter-widgets/controls",
      "model_module_version": "1.5.0",
      "model_name": "SliderStyleModel",
      "state": {
       "description_width": ""
      }
     },
     "a168b04a2dbf49739b7e62715ebafb2f": {
      "model_module": "@jupyter-widgets/controls",
      "model_module_version": "1.5.0",
      "model_name": "HBoxModel",
      "state": {
       "children": [
        "IPY_MODEL_862e6be63a4c4ec7a41e281d8b696e8d",
        "IPY_MODEL_73c2343975874c018e3bdb7a49cd342d"
       ],
       "layout": "IPY_MODEL_ee807aaf7dd849e494a1bea9e632bb51"
      }
     },
     "a177c650942f473394de06d06b3caca8": {
      "model_module": "@jupyter-widgets/controls",
      "model_module_version": "1.5.0",
      "model_name": "VBoxModel",
      "state": {
       "children": [
        "IPY_MODEL_137cbe8acae84e968a221cf773fdf8fd",
        "IPY_MODEL_c87de82df61849479c94ddeef1b62236"
       ],
       "layout": "IPY_MODEL_f6c4882c37f6475dbcdbc12bd7155a7c"
      }
     },
     "a1906644e02d4f33ae8f642c8841461f": {
      "model_module": "@jupyter-widgets/controls",
      "model_module_version": "1.5.0",
      "model_name": "ButtonModel",
      "state": {
       "description": "Add",
       "layout": "IPY_MODEL_9242e4b52d1c46328eae0b31e19984e1",
       "style": "IPY_MODEL_2f17b1525d00451c858cb41c69112c69"
      }
     },
     "a19a36aed4ac40049951a2984ceedf3b": {
      "model_module": "@jupyter-widgets/base",
      "model_module_version": "1.2.0",
      "model_name": "LayoutModel",
      "state": {}
     },
     "a1b5b03ee7734374841f6ac59804c61a": {
      "model_module": "@jupyter-widgets/controls",
      "model_module_version": "1.5.0",
      "model_name": "DropdownModel",
      "state": {
       "index": null,
       "layout": "IPY_MODEL_ccb39defb4b54d8591cbedd607b9aa56",
       "style": "IPY_MODEL_f68ef37f8ced4c228aca91904f273ad4"
      }
     },
     "a21046bdb21740aeae992e0143e91153": {
      "model_module": "@jupyter-widgets/controls",
      "model_module_version": "1.5.0",
      "model_name": "DescriptionStyleModel",
      "state": {
       "description_width": ""
      }
     },
     "a2621c9fa86a4cef802aae2710c3be5f": {
      "model_module": "@jupyter-widgets/controls",
      "model_module_version": "1.5.0",
      "model_name": "DropdownModel",
      "state": {
       "_options_labels": [
        "leafduration",
        "leafold"
       ],
       "index": 0,
       "layout": "IPY_MODEL_6d8d2b229cc647d08308701c382a11a7",
       "style": "IPY_MODEL_221ff8ea7a8240c4978f750044c1a1b6"
      }
     },
     "a26c18948d244e01af01c6897788165c": {
      "model_module": "@jupyter-widgets/controls",
      "model_module_version": "1.5.0",
      "model_name": "DescriptionStyleModel",
      "state": {
       "description_width": ""
      }
     },
     "a2722c80c6f648fb816f1a687cdea421": {
      "model_module": "@jupyter-widgets/controls",
      "model_module_version": "1.5.0",
      "model_name": "DropdownModel",
      "state": {
       "_options_labels": [
        "NurbsCurve2D",
        "BezierCurve2D",
        "Polyline2D",
        "Function"
       ],
       "index": 0,
       "layout": "IPY_MODEL_355ffe1500f74edb94926757da953874",
       "style": "IPY_MODEL_f836fd487d254139a4843f0eab8c88da"
      }
     },
     "a2b015214e0846d9ac5d81a1bebac7b4": {
      "model_module": "@jupyter-widgets/controls",
      "model_module_version": "1.5.0",
      "model_name": "CheckboxModel",
      "state": {
       "description": "Auto apply",
       "disabled": false,
       "layout": "IPY_MODEL_b40339e839344d96ba6ff6a53935e92b",
       "style": "IPY_MODEL_754a8ec29fb14d7087455060f4d25989",
       "value": false
      }
     },
     "a2c6eda68e01466896e29101678f2ecc": {
      "model_module": "@jupyter-widgets/controls",
      "model_module_version": "1.5.0",
      "model_name": "DescriptionStyleModel",
      "state": {
       "description_width": ""
      }
     },
     "a2c8f4caf0534767b4ee6a45ae3ec430": {
      "model_module": "@jupyter-widgets/controls",
      "model_module_version": "1.5.0",
      "model_name": "DropdownModel",
      "state": {
       "index": null,
       "layout": "IPY_MODEL_2bf17ef5037e47f2a920e8d7811f8932",
       "style": "IPY_MODEL_d96933ee81db49b7a9317685439d454c"
      }
     },
     "a2e0faf740134dcb8588672a0eb3e8d8": {
      "model_module": "@jupyter-widgets/base",
      "model_module_version": "1.2.0",
      "model_name": "LayoutModel",
      "state": {}
     },
     "a2e742f0ad8747ec88f5cf551a3b5224": {
      "model_module": "@jupyter-widgets/controls",
      "model_module_version": "1.5.0",
      "model_name": "HBoxModel",
      "state": {
       "layout": "IPY_MODEL_f54b6bb1cd9047f2913448b18542023e"
      }
     },
     "a2eafcfa36b44a6ba3e34657e64cec7a": {
      "model_module": "@jupyter-widgets/controls",
      "model_module_version": "1.5.0",
      "model_name": "FloatSliderModel",
      "state": {
       "description": "transparency",
       "layout": "IPY_MODEL_e01ac84da5b94b36859436d3ee12a19e",
       "max": 1,
       "step": 0.1,
       "style": "IPY_MODEL_dcc995adc6dd4fe097aab757670954b6"
      }
     },
     "a2eb67920af64606babedcf49f3ac443": {
      "model_module": "@jupyter-widgets/controls",
      "model_module_version": "1.5.0",
      "model_name": "DescriptionStyleModel",
      "state": {
       "description_width": ""
      }
     },
     "a301eb5668924f298fa462fb2ee4e2dc": {
      "model_module": "@jupyter-widgets/controls",
      "model_module_version": "1.5.0",
      "model_name": "SliderStyleModel",
      "state": {
       "description_width": ""
      }
     },
     "a3671b271bf948d2aaa3826c21d26b20": {
      "model_module": "@jupyter-widgets/controls",
      "model_module_version": "1.5.0",
      "model_name": "HBoxModel",
      "state": {
       "layout": "IPY_MODEL_6f5e6f5355bd440d8af5ee837dac75a9"
      }
     },
     "a3aa80b4b3224cfa978751461082efdd": {
      "model_module": "@jupyter-widgets/controls",
      "model_module_version": "1.5.0",
      "model_name": "DescriptionStyleModel",
      "state": {
       "description_width": ""
      }
     },
     "a4330bdab939492fbed45caab83a37b0": {
      "model_module": "@jupyter-widgets/base",
      "model_module_version": "1.2.0",
      "model_name": "LayoutModel",
      "state": {}
     },
     "a4413d9c30754ab7a29140a77c7d2e8f": {
      "model_module": "@jupyter-widgets/base",
      "model_module_version": "1.2.0",
      "model_name": "LayoutModel",
      "state": {
       "margin": "20px 0px"
      }
     },
     "a4778b701d8d479488af98ccfba9a85d": {
      "model_module": "@jupyter-widgets/base",
      "model_module_version": "1.2.0",
      "model_name": "LayoutModel",
      "state": {
       "margin": "20px 0px"
      }
     },
     "a4c87564910c4791b7ebc8217ae6af21": {
      "model_module": "@jupyter-widgets/base",
      "model_module_version": "1.2.0",
      "model_name": "LayoutModel",
      "state": {}
     },
     "a5264762497747948922c606524ae042": {
      "model_module": "@jupyter-widgets/base",
      "model_module_version": "1.2.0",
      "model_name": "LayoutModel",
      "state": {}
     },
     "a52d14ce28c94f17afce4575f5ea57dd": {
      "model_module": "@jupyter-widgets/base",
      "model_module_version": "1.2.0",
      "model_name": "LayoutModel",
      "state": {}
     },
     "a547bbd798964d08896ad103a8c35c97": {
      "model_module": "@jupyter-widgets/base",
      "model_module_version": "1.2.0",
      "model_name": "LayoutModel",
      "state": {}
     },
     "a56afbd1a4e74ddb9b19fb5de0bcf2b0": {
      "model_module": "@jupyter-widgets/controls",
      "model_module_version": "1.5.0",
      "model_name": "DescriptionStyleModel",
      "state": {
       "description_width": ""
      }
     },
     "a5a3a25a887b433b95152afe55d8192d": {
      "model_module": "@jupyter-widgets/base",
      "model_module_version": "1.2.0",
      "model_name": "LayoutModel",
      "state": {}
     },
     "a5d0d447b1394b03986172fc7562d1f4": {
      "model_module": "@jupyter-widgets/controls",
      "model_module_version": "1.5.0",
      "model_name": "HBoxModel",
      "state": {
       "children": [
        "IPY_MODEL_96cdd7a7ccd846d3924fb1cc7ba26616",
        "IPY_MODEL_0414cc8a90c64c448f20ab6c7de8a484"
       ],
       "layout": "IPY_MODEL_a7a0c50477554430aa4553a8141c8cdf"
      }
     },
     "a5dda22448ef440894f70c195c7f9911": {
      "model_module": "@jupyter-widgets/base",
      "model_module_version": "1.2.0",
      "model_name": "LayoutModel",
      "state": {}
     },
     "a5fa387b659b43e6811c5b2786ac85cd": {
      "model_module": "@jupyter-widgets/controls",
      "model_module_version": "1.5.0",
      "model_name": "HBoxModel",
      "state": {
       "children": [
        "IPY_MODEL_45109e056cae4646bd13589740cb2e07",
        "IPY_MODEL_ad7052f26bac417382466038fda4af38"
       ],
       "layout": "IPY_MODEL_2c72ff2950854494b63f8872eabd3dac"
      }
     },
     "a6a5cc76976d4a088ca7e7f307750adf": {
      "model_module": "@jupyter-widgets/controls",
      "model_module_version": "1.5.0",
      "model_name": "DescriptionStyleModel",
      "state": {
       "description_width": ""
      }
     },
     "a6b2268c582b4593aeb1fd6140283cda": {
      "model_module": "@jupyter-widgets/controls",
      "model_module_version": "1.5.0",
      "model_name": "ColorPickerModel",
      "state": {
       "description": "specular",
       "disabled": false,
       "layout": "IPY_MODEL_e53a81fe5d75435cb12952d290d8bed4",
       "style": "IPY_MODEL_0265533bc3464ca7a91abeccee38a36a",
       "value": "#282828"
      }
     },
     "a6ba6d086bb947a9a81c7c00b649099a": {
      "model_module": "@jupyter-widgets/controls",
      "model_module_version": "1.5.0",
      "model_name": "HBoxModel",
      "state": {
       "children": [
        "IPY_MODEL_73f23e73ddf440029997bd7411d5ebcb",
        "IPY_MODEL_9f354ca43c3848c8a0a6e0d4c83d58ba"
       ],
       "layout": "IPY_MODEL_4d77f69f74244057baec36b232f87f78"
      }
     },
     "a72f273cdb3945e394051fb5a3ed72de": {
      "model_module": "@jupyter-widgets/controls",
      "model_module_version": "1.5.0",
      "model_name": "TextModel",
      "state": {
       "continuous_update": false,
       "description": "name",
       "layout": "IPY_MODEL_2e4a8e24f3cb480f948147e7187812ba",
       "style": "IPY_MODEL_5c45b8f207094c259218686f4e90aff4",
       "value": "maxorder"
      }
     },
     "a74641fad73f460aaf67830e96175f14": {
      "model_module": "@jupyter-widgets/controls",
      "model_module_version": "1.5.0",
      "model_name": "ButtonModel",
      "state": {
       "description": "Add",
       "layout": "IPY_MODEL_8e4723856ef545059ac8d8e784b37a8e",
       "style": "IPY_MODEL_2f7990fb68574e08a097ad24e9646305"
      }
     },
     "a748a5f3be3444728407cba1e18220ed": {
      "model_module": "@jupyter-widgets/base",
      "model_module_version": "1.2.0",
      "model_name": "LayoutModel",
      "state": {}
     },
     "a74963dac2344d5ab99396cfdd373704": {
      "model_module": "@jupyter-widgets/base",
      "model_module_version": "1.2.0",
      "model_name": "LayoutModel",
      "state": {}
     },
     "a7a0c50477554430aa4553a8141c8cdf": {
      "model_module": "@jupyter-widgets/base",
      "model_module_version": "1.2.0",
      "model_name": "LayoutModel",
      "state": {}
     },
     "a7c7cb1ea21d4cc2ad1a8aa92bdc5b43": {
      "model_module": "@jupyter-widgets/controls",
      "model_module_version": "1.5.0",
      "model_name": "IntSliderModel",
      "state": {
       "description": "value",
       "layout": "IPY_MODEL_4c9d04011f15472db454f026ea6b3c07",
       "max": 10,
       "min": 1,
       "style": "IPY_MODEL_f1784203f14e47b2863da9024e9cac9a",
       "value": 5
      }
     },
     "a85c018ff0064956bb30f7fd2e8e7010": {
      "model_module": "@jupyter-widgets/base",
      "model_module_version": "1.2.0",
      "model_name": "LayoutModel",
      "state": {}
     },
     "a85f651d3d144554a4c5e5260dc4c9c3": {
      "model_module": "@jupyter-widgets/base",
      "model_module_version": "1.2.0",
      "model_name": "LayoutModel",
      "state": {
       "margin": "20px 0px"
      }
     },
     "a8635d0de8634cffa50f768817ef709b": {
      "model_module": "@jupyter-widgets/controls",
      "model_module_version": "1.5.0",
      "model_name": "DescriptionStyleModel",
      "state": {
       "description_width": ""
      }
     },
     "a88837dec5b742f6a10d5977330bd661": {
      "model_module": "@jupyter-widgets/base",
      "model_module_version": "1.2.0",
      "model_name": "LayoutModel",
      "state": {}
     },
     "a8e1694a081f4cdeac229c2c58ebc71b": {
      "model_module": "@jupyter-widgets/controls",
      "model_module_version": "1.5.0",
      "model_name": "HBoxModel",
      "state": {
       "children": [
        "IPY_MODEL_3370ab19ca7d4eb6bd833095110e8888",
        "IPY_MODEL_5d6e79af49c540d687173491bdf52613"
       ],
       "layout": "IPY_MODEL_78dff3c9b0ab4092885a4681b708b9c4"
      }
     },
     "a928100a1a7543c1a952e02f63653d38": {
      "model_module": "@jupyter-widgets/base",
      "model_module_version": "1.2.0",
      "model_name": "LayoutModel",
      "state": {}
     },
     "a930375536a646e7ae094ba7aef7b12c": {
      "model_module": "@jupyter-widgets/controls",
      "model_module_version": "1.5.0",
      "model_name": "DescriptionStyleModel",
      "state": {
       "description_width": ""
      }
     },
     "a9567de3ebd14a1ea85f21b1ea294e13": {
      "model_module": "@jupyter-widgets/controls",
      "model_module_version": "1.5.0",
      "model_name": "ButtonStyleModel",
      "state": {}
     },
     "a986327c2f5f410491da6da14c2b9def": {
      "model_module": "@jupyter-widgets/controls",
      "model_module_version": "1.5.0",
      "model_name": "DescriptionStyleModel",
      "state": {
       "description_width": ""
      }
     },
     "a9b011b81d9a47ae956fb42dd48f7577": {
      "model_module": "@jupyter-widgets/controls",
      "model_module_version": "1.5.0",
      "model_name": "SliderStyleModel",
      "state": {
       "description_width": ""
      }
     },
     "a9b7a5bea64640859355bc1f3bd40aed": {
      "model_module": "@jupyter-widgets/base",
      "model_module_version": "1.2.0",
      "model_name": "LayoutModel",
      "state": {
       "flex_flow": "row wrap",
       "margin": "20px"
      }
     },
     "a9cadb58b2d74d899f90724daa0dbc03": {
      "model_module": "@jupyter-widgets/controls",
      "model_module_version": "1.5.0",
      "model_name": "DescriptionStyleModel",
      "state": {
       "description_width": ""
      }
     },
     "a9df16e35c5f405d9c104c38009649b4": {
      "model_module": "@jupyter-widgets/base",
      "model_module_version": "1.2.0",
      "model_name": "LayoutModel",
      "state": {}
     },
     "aa07377abfb5489ca39018eb747fddb6": {
      "model_module": "@jupyter-widgets/controls",
      "model_module_version": "1.5.0",
      "model_name": "HBoxModel",
      "state": {
       "children": [
        "IPY_MODEL_1a39600936bd4b199a960b5ddd12c3ef",
        "IPY_MODEL_e2b7f42fba7146f9bd943e2d6c422529"
       ],
       "layout": "IPY_MODEL_3af78c5ade4d410a8a1156f28dde5870"
      }
     },
     "aa1527d107974d47bd2fd0186635a413": {
      "model_module": "@jupyter-widgets/base",
      "model_module_version": "1.2.0",
      "model_name": "LayoutModel",
      "state": {}
     },
     "aa34cffd296144adbb84e44628679faa": {
      "model_module": "@jupyter-widgets/controls",
      "model_module_version": "1.5.0",
      "model_name": "HBoxModel",
      "state": {
       "children": [
        "IPY_MODEL_3118b20c6b1b41b095139fadd7aa0f5e",
        "IPY_MODEL_8f4c0103e27f4574ba684259337a9d96",
        "IPY_MODEL_64ddded86cc94f2aaa65c66efd8404cd"
       ],
       "layout": "IPY_MODEL_37b2865fee2b4a02bc2013f64eaefc86"
      }
     },
     "aa7970d024354752a90a19d52ffb4ba6": {
      "model_module": "@jupyter-widgets/base",
      "model_module_version": "1.2.0",
      "model_name": "LayoutModel",
      "state": {}
     },
     "aa87d9baf2e54afbbf8a7787e01bc39c": {
      "model_module": "@jupyter-widgets/controls",
      "model_module_version": "1.5.0",
      "model_name": "DescriptionStyleModel",
      "state": {
       "description_width": ""
      }
     },
     "aa8e6862821c4fb5a1517274a9313944": {
      "model_module": "@jupyter-widgets/controls",
      "model_module_version": "1.5.0",
      "model_name": "HBoxModel",
      "state": {
       "children": [
        "IPY_MODEL_880c764b514b41d49c7a1d6be07c9ee7",
        "IPY_MODEL_051a9805455147b1a54b2d1bd43938df"
       ],
       "layout": "IPY_MODEL_57a89ac8289041f2b6d724e4b866dc0a"
      }
     },
     "aab0b96dd9704dec8bee7aca21e55121": {
      "model_module": "@jupyter-widgets/base",
      "model_module_version": "1.2.0",
      "model_name": "LayoutModel",
      "state": {
       "margin": "20px 0px"
      }
     },
     "aadcd785ecac49dd89e89b98cd11a5bc": {
      "model_module": "@jupyter-widgets/controls",
      "model_module_version": "1.5.0",
      "model_name": "IntTextModel",
      "state": {
       "description": "max",
       "layout": "IPY_MODEL_64635876704d46df8e253b2d4cefa598",
       "step": 1,
       "style": "IPY_MODEL_fce01e4c69184a6aa0107d409c41700a",
       "value": 7
      }
     },
     "ab0f9f99791b40059d4d3534b8def2a1": {
      "model_module": "@jupyter-widgets/base",
      "model_module_version": "1.2.0",
      "model_name": "LayoutModel",
      "state": {}
     },
     "ab189c2f0b2140e991588634d1926a8d": {
      "model_module": "@jupyter-widgets/controls",
      "model_module_version": "1.5.0",
      "model_name": "HBoxModel",
      "state": {
       "children": [
        "IPY_MODEL_690ece26089849d296129aedbf2fd7db",
        "IPY_MODEL_a2c8f4caf0534767b4ee6a45ae3ec430"
       ],
       "layout": "IPY_MODEL_b73fc88a750b4f94b4788c5589d4400d"
      }
     },
     "abb8dd22248e47baa61d0443c5c01957": {
      "model_module": "@jupyter-widgets/base",
      "model_module_version": "1.2.0",
      "model_name": "LayoutModel",
      "state": {}
     },
     "abbcb03a36494939be94896a2e4392f4": {
      "model_module": "@jupyter-widgets/base",
      "model_module_version": "1.2.0",
      "model_name": "LayoutModel",
      "state": {}
     },
     "abcc393b17f24dc9b7fecb97fc241a9d": {
      "model_module": "@jupyter-widgets/controls",
      "model_module_version": "1.5.0",
      "model_name": "SliderStyleModel",
      "state": {
       "description_width": ""
      }
     },
     "abe0069c61354de2ab4d964025267f8b": {
      "model_module": "@jupyter-widgets/base",
      "model_module_version": "1.2.0",
      "model_name": "LayoutModel",
      "state": {}
     },
     "abee62d144eb46f6a0854e2c779344fc": {
      "model_module": "@jupyter-widgets/base",
      "model_module_version": "1.2.0",
      "model_name": "LayoutModel",
      "state": {}
     },
     "ac03182339fd4bdbbfe98a64ba6760a0": {
      "model_module": "@jupyter-widgets/controls",
      "model_module_version": "1.5.0",
      "model_name": "DropdownModel",
      "state": {
       "_options_labels": [
        "maxorder",
        "radinc",
        "nb_axes"
       ],
       "index": 0,
       "layout": "IPY_MODEL_e54d243ca25f4afebedf9a6e4d26c2b5",
       "style": "IPY_MODEL_412179f6bd604205b92bdae0de4bf43b"
      }
     },
     "ac370811477146a592129af91bec1989": {
      "model_module": "@jupyter-widgets/base",
      "model_module_version": "1.2.0",
      "model_name": "LayoutModel",
      "state": {}
     },
     "ac5bccc43bad4cf1b629ee62e886ec74": {
      "model_module": "@jupyter-widgets/base",
      "model_module_version": "1.2.0",
      "model_name": "LayoutModel",
      "state": {}
     },
     "ac6f0bb182d14b43a5412de39ac1d15a": {
      "model_module": "@jupyter-widgets/base",
      "model_module_version": "1.2.0",
      "model_name": "LayoutModel",
      "state": {}
     },
     "ac71f1c55d9948e19e588813ff85983b": {
      "model_module": "@jupyter-widgets/controls",
      "model_module_version": "1.5.0",
      "model_name": "DescriptionStyleModel",
      "state": {
       "description_width": ""
      }
     },
     "acb4f93525d14ffabe3e2bba3cae48a6": {
      "model_module": "@jupyter-widgets/controls",
      "model_module_version": "1.5.0",
      "model_name": "HBoxModel",
      "state": {
       "children": [
        "IPY_MODEL_42a63d59593845ca8d64fb7a3a398a5a",
        "IPY_MODEL_be75d5dbdd5641339fe24f8c4f6ca207"
       ],
       "layout": "IPY_MODEL_676ef09cd4844c10ba6f4f53d5d24356"
      }
     },
     "ad0d38c2c2774e369fd4428f472136f0": {
      "model_module": "@jupyter-widgets/base",
      "model_module_version": "1.2.0",
      "model_name": "LayoutModel",
      "state": {}
     },
     "ad1542a9ee5d493fb7cad40f4ec24a08": {
      "model_module": "@jupyter-widgets/base",
      "model_module_version": "1.2.0",
      "model_name": "LayoutModel",
      "state": {}
     },
     "ad28097795614babac3adcc76c9b471c": {
      "model_module": "@jupyter-widgets/base",
      "model_module_version": "1.2.0",
      "model_name": "LayoutModel",
      "state": {}
     },
     "ad3d079ffbc74588a5348a5d3706dafd": {
      "model_module": "@jupyter-widgets/base",
      "model_module_version": "1.2.0",
      "model_name": "LayoutModel",
      "state": {}
     },
     "ad4777c7b26e4dc686420550608d2f12": {
      "model_module": "@jupyter-widgets/controls",
      "model_module_version": "1.5.0",
      "model_name": "ButtonStyleModel",
      "state": {}
     },
     "ad50679b7e994d5493d14f7e8f237201": {
      "model_module": "@jupyter-widgets/controls",
      "model_module_version": "1.5.0",
      "model_name": "ButtonStyleModel",
      "state": {}
     },
     "ad7052f26bac417382466038fda4af38": {
      "model_module": "@jupyter-widgets/controls",
      "model_module_version": "1.5.0",
      "model_name": "DropdownModel",
      "state": {
       "_options_labels": [
        "NurbsCurve2D",
        "BezierCurve2D",
        "Polyline2D",
        "Function"
       ],
       "index": 0,
       "layout": "IPY_MODEL_f7a150d82f6d40e4934ef1a89819382f",
       "style": "IPY_MODEL_885d034f6340467e9f3d03862ecdc212"
      }
     },
     "ad770f779d7142d692b8057c7c5825cf": {
      "model_module": "@jupyter-widgets/base",
      "model_module_version": "1.2.0",
      "model_name": "LayoutModel",
      "state": {
       "margin": "20px 0px"
      }
     },
     "ad9de9c14c0d4f65a2c07f0bd3a3e163": {
      "model_module": "@jupyter-widgets/controls",
      "model_module_version": "1.5.0",
      "model_name": "DropdownModel",
      "state": {
       "_options_labels": [
        "leafduration",
        "leafold"
       ],
       "index": 0,
       "layout": "IPY_MODEL_7c17c74742454474b761cde4913067d3",
       "style": "IPY_MODEL_a930375536a646e7ae094ba7aef7b12c"
      }
     },
     "ae2120fec28e429792294924ef4e7252": {
      "model_module": "@jupyter-widgets/base",
      "model_module_version": "1.2.0",
      "model_name": "LayoutModel",
      "state": {}
     },
     "ae33a6518f6c4bd7ac1c3d19f27164ee": {
      "model_module": "@jupyter-widgets/base",
      "model_module_version": "1.2.0",
      "model_name": "LayoutModel",
      "state": {}
     },
     "ae40200d7fdc43a69f8f57ce27d6891b": {
      "model_module": "@jupyter-widgets/controls",
      "model_module_version": "1.5.0",
      "model_name": "ColorPickerModel",
      "state": {
       "description": "ambient",
       "disabled": false,
       "layout": "IPY_MODEL_27c99d487aef426398bafe8dc27b8491",
       "style": "IPY_MODEL_e4bcad903cd24e668755c12c6ad16d21",
       "value": "#5b4534"
      }
     },
     "ae49ac24f7d94cbea0a0b653a87d4b7d": {
      "model_module": "@jupyter-widgets/controls",
      "model_module_version": "1.5.0",
      "model_name": "ButtonStyleModel",
      "state": {}
     },
     "ae6582bcdffa4a9ea49948fb8e79804f": {
      "model_module": "@jupyter-widgets/controls",
      "model_module_version": "1.5.0",
      "model_name": "CheckboxModel",
      "state": {
       "description": "Auto apply",
       "disabled": false,
       "layout": "IPY_MODEL_d8d73c6794a64b41a4b085d7b2422110",
       "style": "IPY_MODEL_5810bb174d1946e8b3d0386797351339",
       "value": false
      }
     },
     "ae65c9b1a7014f46b4d4736a9946ae5f": {
      "model_module": "@jupyter-widgets/controls",
      "model_module_version": "1.5.0",
      "model_name": "FloatSliderModel",
      "state": {
       "description": "shininess",
       "layout": "IPY_MODEL_c7ea2a8eaf6f4fd6ba043daec10a8f1a",
       "max": 1,
       "step": 0.1,
       "style": "IPY_MODEL_4a48e3b56b974227bcbb4111eb32acbb",
       "value": 0.2
      }
     },
     "ae6fd33e7b08418d94791d38e5190ea4": {
      "model_module": "@jupyter-widgets/controls",
      "model_module_version": "1.5.0",
      "model_name": "TextModel",
      "state": {
       "continuous_update": false,
       "description": "name",
       "layout": "IPY_MODEL_991d20b434f14f32ba0b5c3eb2836f02",
       "style": "IPY_MODEL_963d126402964be48e58d85e7d4149c1",
       "value": "nb_axes"
      }
     },
     "ae707f5167d74fc69acaaf741eb5e5de": {
      "model_module": "@jupyter-widgets/base",
      "model_module_version": "1.2.0",
      "model_name": "LayoutModel",
      "state": {}
     },
     "ae72d17e3fb94a56a3727653a69248a4": {
      "model_module": "@jupyter-widgets/controls",
      "model_module_version": "1.5.0",
      "model_name": "FloatSliderModel",
      "state": {
       "description": "transparency",
       "layout": "IPY_MODEL_5952ccf95fff4114ac955e73f1021bc8",
       "max": 1,
       "step": 0.1,
       "style": "IPY_MODEL_a15f82e8dd1a43408a5d120bd20123be"
      }
     },
     "aee7a263a0f64a1fbea2c127454b5880": {
      "model_module": "@jupyter-widgets/base",
      "model_module_version": "1.2.0",
      "model_name": "LayoutModel",
      "state": {}
     },
     "aef6b743295f42189e95981f47848542": {
      "model_module": "@jupyter-widgets/controls",
      "model_module_version": "1.5.0",
      "model_name": "DescriptionStyleModel",
      "state": {
       "description_width": ""
      }
     },
     "af04d4dbb9ee467196d914b3d6ff7677": {
      "model_module": "@jupyter-widgets/controls",
      "model_module_version": "1.5.0",
      "model_name": "DropdownModel",
      "state": {
       "_options_labels": [
        "Integer",
        "Float",
        "Bool"
       ],
       "index": 0,
       "layout": "IPY_MODEL_88a10cf316df4647bd53d535728a4d82",
       "style": "IPY_MODEL_8283081be3d348eea1bc8c13afea1b04"
      }
     },
     "af05852e0c454d1081c694c61e2c259d": {
      "model_module": "@jupyter-widgets/controls",
      "model_module_version": "1.5.0",
      "model_name": "FloatSliderModel",
      "state": {
       "description": "shininess",
       "layout": "IPY_MODEL_2a4657dcf6134dbf9171718197e5e80f",
       "max": 1,
       "step": 0.1,
       "style": "IPY_MODEL_065f562240b640f2ae0d150761123893",
       "value": 0.2
      }
     },
     "af3d20d491c44d098b64367717540ebe": {
      "model_module": "@jupyter-widgets/controls",
      "model_module_version": "1.5.0",
      "model_name": "FloatSliderModel",
      "state": {
       "description": "diffuse",
       "layout": "IPY_MODEL_844d30039767419a89704c52fe806d6c",
       "max": 3,
       "step": 0.1,
       "style": "IPY_MODEL_09b8c80f45194de3b8dde10dedf91332",
       "value": 1
      }
     },
     "af4039e9ddde442ba446084c54416900": {
      "model_module": "@jupyter-widgets/controls",
      "model_module_version": "1.5.0",
      "model_name": "BoundedIntTextModel",
      "state": {
       "description": "index",
       "layout": "IPY_MODEL_625a97aef55748c189e2a6b3c1b5e67d",
       "style": "IPY_MODEL_0ba2cab9cc9d4511aad569640dfc3012",
       "value": 3
      }
     },
     "af62057272d64d6c8173cc755a1345c8": {
      "model_module": "@jupyter-widgets/base",
      "model_module_version": "1.2.0",
      "model_name": "LayoutModel",
      "state": {}
     },
     "af76f68e255a49a9a097846d5b100896": {
      "model_module": "@jupyter-widgets/controls",
      "model_module_version": "1.5.0",
      "model_name": "HBoxModel",
      "state": {
       "children": [
        "IPY_MODEL_0e1758e5f97c4775894b0a98513a546f",
        "IPY_MODEL_7847f6e3bd894ee48f1555c248f27c90"
       ],
       "layout": "IPY_MODEL_953ba707a655461f95ad063f5a6f574b"
      }
     },
     "af8a50225a5b459392ad1828e64b9479": {
      "model_module": "@jupyter-widgets/controls",
      "model_module_version": "1.5.0",
      "model_name": "TextModel",
      "state": {
       "continuous_update": false,
       "description": "name",
       "layout": "IPY_MODEL_649b808e83854530a387af7bc18abe1e",
       "style": "IPY_MODEL_8278afc954514651bbf571d8a24293c1",
       "value": "leafduration"
      }
     },
     "afcbfc1dce2a47f394db93b89601a5e4": {
      "model_module": "@jupyter-widgets/controls",
      "model_module_version": "1.5.0",
      "model_name": "ButtonStyleModel",
      "state": {}
     },
     "afd16820af884a958cef4c29e98f66cd": {
      "model_module": "@jupyter-widgets/base",
      "model_module_version": "1.2.0",
      "model_name": "LayoutModel",
      "state": {}
     },
     "afd785204163490f861f01a8a6ebf525": {
      "model_module": "@jupyter-widgets/controls",
      "model_module_version": "1.5.0",
      "model_name": "FloatSliderModel",
      "state": {
       "continuous_update": false,
       "description": "diffuse",
       "layout": "IPY_MODEL_bcaba5e2353e4a19b1cee8ab746c814d",
       "max": 3,
       "step": 0.1,
       "style": "IPY_MODEL_de6e4ed7a8b84bef9620c99266ab0373",
       "value": 1
      }
     },
     "afdd149476764870a23c9d46dfe6ec0b": {
      "model_module": "@jupyter-widgets/base",
      "model_module_version": "1.2.0",
      "model_name": "LayoutModel",
      "state": {}
     },
     "aff7649e3cd94b0e93b9db47ae177a91": {
      "model_module": "@jupyter-widgets/controls",
      "model_module_version": "1.5.0",
      "model_name": "DescriptionStyleModel",
      "state": {
       "description_width": ""
      }
     },
     "b018f27f56ef47b8b8c77c757b918855": {
      "model_module": "@jupyter-widgets/base",
      "model_module_version": "1.2.0",
      "model_name": "LayoutModel",
      "state": {}
     },
     "b025d2c3b32b46ee9877ca8fabce0c2d": {
      "model_module": "@jupyter-widgets/controls",
      "model_module_version": "1.5.0",
      "model_name": "HBoxModel",
      "state": {
       "layout": "IPY_MODEL_a9b7a5bea64640859355bc1f3bd40aed"
      }
     },
     "b026cfdea7f24109b3207938d8293f82": {
      "model_module": "@jupyter-widgets/controls",
      "model_module_version": "1.5.0",
      "model_name": "TextModel",
      "state": {
       "continuous_update": false,
       "description": "name",
       "layout": "IPY_MODEL_9205b342fe2d42118f3ab706062aa484",
       "style": "IPY_MODEL_a3aa80b4b3224cfa978751461082efdd",
       "value": "nb_axes"
      }
     },
     "b0278727c6984480ae67b3caa91c5c28": {
      "model_module": "@jupyter-widgets/controls",
      "model_module_version": "1.5.0",
      "model_name": "DescriptionStyleModel",
      "state": {
       "description_width": ""
      }
     },
     "b042067711c749ddbe44af8d0b266773": {
      "model_module": "@jupyter-widgets/controls",
      "model_module_version": "1.5.0",
      "model_name": "DescriptionStyleModel",
      "state": {
       "description_width": ""
      }
     },
     "b0587fd4b5de40ff83b94fd445197b2a": {
      "model_module": "@jupyter-widgets/controls",
      "model_module_version": "1.5.0",
      "model_name": "FloatSliderModel",
      "state": {
       "description": "transparency",
       "layout": "IPY_MODEL_abbcb03a36494939be94896a2e4392f4",
       "max": 1,
       "step": 0.1,
       "style": "IPY_MODEL_d5cd15e37f944ccfa4bf1cdd3348f4c7"
      }
     },
     "b0816a0d3a1147ec9177057aeccf2636": {
      "model_module": "@jupyter-widgets/controls",
      "model_module_version": "1.5.0",
      "model_name": "DescriptionStyleModel",
      "state": {
       "description_width": ""
      }
     },
     "b0e8fa40069c4769bfca38d467a34243": {
      "model_module": "@jupyter-widgets/controls",
      "model_module_version": "1.5.0",
      "model_name": "SliderStyleModel",
      "state": {
       "description_width": ""
      }
     },
     "b0fb1ac3eab4429faa1c3064bf965e64": {
      "model_module": "@jupyter-widgets/controls",
      "model_module_version": "1.5.0",
      "model_name": "HBoxModel",
      "state": {
       "children": [
        "IPY_MODEL_7c7176c2637047769f684c2d030b2393",
        "IPY_MODEL_3f1c5cb37d464c0c965c97fc3a1e7f60"
       ],
       "layout": "IPY_MODEL_df4b301f82c143b6ba68f23b7ee4a4e7"
      }
     },
     "b11599f0c8c340be874b6f91e49e147c": {
      "model_module": "@jupyter-widgets/controls",
      "model_module_version": "1.5.0",
      "model_name": "FloatSliderModel",
      "state": {
       "description": "transparency",
       "layout": "IPY_MODEL_026723ae658e489db0402b1860155fde",
       "max": 1,
       "step": 0.1,
       "style": "IPY_MODEL_bc101f934e6546c8b4a4399a8ff52dd9"
      }
     },
     "b12f527165d943288688f616f1f609c8": {
      "model_module": "@jupyter-widgets/controls",
      "model_module_version": "1.5.0",
      "model_name": "DescriptionStyleModel",
      "state": {
       "description_width": ""
      }
     },
     "b16bc4eeda684baab51f644ed6537a07": {
      "model_module": "@jupyter-widgets/base",
      "model_module_version": "1.2.0",
      "model_name": "LayoutModel",
      "state": {}
     },
     "b170506f70d34c96b69cc2e6cb10b936": {
      "model_module": "@jupyter-widgets/base",
      "model_module_version": "1.2.0",
      "model_name": "LayoutModel",
      "state": {}
     },
     "b184382198c246fbb6c014da8ef2f3e0": {
      "model_module": "@jupyter-widgets/base",
      "model_module_version": "1.2.0",
      "model_name": "LayoutModel",
      "state": {}
     },
     "b1bd370223104c85b1afb7e06afc9a79": {
      "model_module": "@jupyter-widgets/base",
      "model_module_version": "1.2.0",
      "model_name": "LayoutModel",
      "state": {}
     },
     "b1bea4580daf4865a4ab65528a99b960": {
      "model_module": "@jupyter-widgets/controls",
      "model_module_version": "1.5.0",
      "model_name": "DescriptionStyleModel",
      "state": {
       "description_width": ""
      }
     },
     "b1ed67a808ae4d98902e313123dd2c75": {
      "model_module": "@jupyter-widgets/controls",
      "model_module_version": "1.5.0",
      "model_name": "ButtonModel",
      "state": {
       "description": "Delete",
       "layout": "IPY_MODEL_d96944e0d08c4a04aa0b00a6367b12c9",
       "style": "IPY_MODEL_eb97bfba7a244317a71b5c4fedafbbe8"
      }
     },
     "b233f15e47474a7198fb26deae803dcc": {
      "model_module": "@jupyter-widgets/controls",
      "model_module_version": "1.5.0",
      "model_name": "IntTextModel",
      "state": {
       "description": "max",
       "layout": "IPY_MODEL_4195dc0db72c4f82bb9bd5eead7e9779",
       "step": 1,
       "style": "IPY_MODEL_c1729e1e6a704ee9982e5f868755dfc6",
       "value": 10
      }
     },
     "b238a4f955c2461f89027d080a34f27a": {
      "model_module": "@jupyter-widgets/base",
      "model_module_version": "1.2.0",
      "model_name": "LayoutModel",
      "state": {}
     },
     "b24854e612f64308b2856ad9bbda0e0c": {
      "model_module": "pgljupyter",
      "model_module_version": "^0.1.21",
      "model_name": "IntEditorModel",
      "state": {
       "_model_module_version": "^0.1.21",
       "_view_module_version": "^0.1.21",
       "children": [
        "IPY_MODEL_ba11bb824352454c9ac4abadef095063",
        "IPY_MODEL_c311f2512bd54982b3579b77887bb9f8"
       ],
       "layout": "IPY_MODEL_20524a3cbd284565b43899cfff3eabbb"
      }
     },
     "b248996a41fc4f39b8f71cd98044d51f": {
      "model_module": "@jupyter-widgets/controls",
      "model_module_version": "1.5.0",
      "model_name": "HBoxModel",
      "state": {
       "children": [
        "IPY_MODEL_f12070df747f4997bb07a8795782dbf5",
        "IPY_MODEL_238dd52d41fd42ba8fc8d39b45ea27f2"
       ],
       "layout": "IPY_MODEL_84c796b6ce3746e1aafccca2c6759aac"
      }
     },
     "b281607fe98d48e3934d05bec3d79698": {
      "model_module": "@jupyter-widgets/base",
      "model_module_version": "1.2.0",
      "model_name": "LayoutModel",
      "state": {}
     },
     "b29aa72a95854be7aa69fb3b924ac504": {
      "model_module": "@jupyter-widgets/base",
      "model_module_version": "1.2.0",
      "model_name": "LayoutModel",
      "state": {}
     },
     "b29e027dac7d4d1bbc8688b18af21982": {
      "model_module": "@jupyter-widgets/controls",
      "model_module_version": "1.5.0",
      "model_name": "ButtonStyleModel",
      "state": {}
     },
     "b2bf5842fee641abb921c9ea89fc6361": {
      "model_module": "@jupyter-widgets/base",
      "model_module_version": "1.2.0",
      "model_name": "LayoutModel",
      "state": {}
     },
     "b2dff12eb7f74161896fad4ff14e216e": {
      "model_module": "@jupyter-widgets/base",
      "model_module_version": "1.2.0",
      "model_name": "LayoutModel",
      "state": {}
     },
     "b2f08df3f7bb4655984473bbce30d2a8": {
      "model_module": "@jupyter-widgets/base",
      "model_module_version": "1.2.0",
      "model_name": "LayoutModel",
      "state": {}
     },
     "b336f9abf432475a859c3a01ea152da7": {
      "model_module": "@jupyter-widgets/controls",
      "model_module_version": "1.5.0",
      "model_name": "ColorPickerModel",
      "state": {
       "description": "specular",
       "disabled": false,
       "layout": "IPY_MODEL_7d4841eb52e849b792078e35434add1c",
       "style": "IPY_MODEL_4a28f656400b498e9b4a70690a4229a8",
       "value": "#282828"
      }
     },
     "b3415d0e07044c3c90903ed545d57994": {
      "model_module": "pgljupyter",
      "model_module_version": "^0.1.17",
      "model_name": "LsystemWidgetModel",
      "state": {
       "_model_module_version": "^0.1.17",
       "_view_module_version": "^0.1.17",
       "axes_helper": false,
       "derivationLength": 42,
       "layout": "IPY_MODEL_cffe896bba6b4be9a72a337ec2eeabfd",
       "light_helper": false,
       "plane": true,
       "size_display": [
        400,
        400
       ],
       "size_world": 50
      }
     },
     "b349b6082b68436a830311e2652d9b99": {
      "model_module": "@jupyter-widgets/base",
      "model_module_version": "1.2.0",
      "model_name": "LayoutModel",
      "state": {}
     },
     "b349ed08d7d84db7be931975d0f29cc6": {
      "model_module": "@jupyter-widgets/base",
      "model_module_version": "1.2.0",
      "model_name": "LayoutModel",
      "state": {}
     },
     "b3845888ce8d4ad4986e97d2f893e730": {
      "model_module": "@jupyter-widgets/base",
      "model_module_version": "1.2.0",
      "model_name": "LayoutModel",
      "state": {}
     },
     "b39e37f7a4514c6dbdf47b7cacbbd714": {
      "model_module": "@jupyter-widgets/controls",
      "model_module_version": "1.5.0",
      "model_name": "HBoxModel",
      "state": {
       "children": [
        "IPY_MODEL_68232feda0524251afd1ce7f9e13de48",
        "IPY_MODEL_21681404317b48249d8e358124b22d13"
       ],
       "layout": "IPY_MODEL_8734cecea0d346a39c3e758fb2f6d6a5"
      }
     },
     "b3ab021d6df046ceb59289797f1e4f25": {
      "model_module": "@jupyter-widgets/controls",
      "model_module_version": "1.5.0",
      "model_name": "BoundedIntTextModel",
      "state": {
       "description": "index",
       "layout": "IPY_MODEL_8aae296581c643e2a94a84c43a578fda",
       "style": "IPY_MODEL_d8dd6096e07649cb8ceb51b260ceb49f",
       "value": 3
      }
     },
     "b3b4369a077e494799fb62f23eb0eb47": {
      "model_module": "@jupyter-widgets/controls",
      "model_module_version": "1.5.0",
      "model_name": "ColorPickerModel",
      "state": {
       "description": "ambient",
       "disabled": false,
       "layout": "IPY_MODEL_13ae418bba3b47449bcffe9f4ff9b1d0",
       "style": "IPY_MODEL_20b1952b21434151a833e0b22eb08f81",
       "value": "#195717"
      }
     },
     "b3b90cf0e5714dfabfdcf4452cc02351": {
      "model_module": "@jupyter-widgets/base",
      "model_module_version": "1.2.0",
      "model_name": "LayoutModel",
      "state": {}
     },
     "b3beeeb252564f9193c765e7fe7136a4": {
      "model_module": "@jupyter-widgets/controls",
      "model_module_version": "1.5.0",
      "model_name": "DropdownModel",
      "state": {
       "_options_labels": [
        "Color"
       ],
       "index": 0,
       "layout": "IPY_MODEL_1049120221a44f9698ad8be47c2dd830",
       "style": "IPY_MODEL_c8ca31ca5bd148e6a5aa1524e6d99e3f"
      }
     },
     "b3d9969700604879a7e1ef7be2ac166b": {
      "model_module": "@jupyter-widgets/controls",
      "model_module_version": "1.5.0",
      "model_name": "HBoxModel",
      "state": {
       "children": [
        "IPY_MODEL_c753a38f00e84158ab81183ed86947d4",
        "IPY_MODEL_5a437245895546a8b255d8ddb00b3da0"
       ],
       "layout": "IPY_MODEL_dcadae9267644afd89d13029c062ea5a"
      }
     },
     "b40339e839344d96ba6ff6a53935e92b": {
      "model_module": "@jupyter-widgets/base",
      "model_module_version": "1.2.0",
      "model_name": "LayoutModel",
      "state": {}
     },
     "b4172c0a847a4c1d89dd93e6e188edcf": {
      "model_module": "@jupyter-widgets/base",
      "model_module_version": "1.2.0",
      "model_name": "LayoutModel",
      "state": {}
     },
     "b44429e02b1c4c018efe9629e58572c3": {
      "model_module": "@jupyter-widgets/controls",
      "model_module_version": "1.5.0",
      "model_name": "VBoxModel",
      "state": {
       "children": [
        "IPY_MODEL_2d215d5802a64161ad4658212812c5f3",
        "IPY_MODEL_53592ff1413b4aadb82fbe457a467666",
        "IPY_MODEL_42311b25a5ce4d1788e339ad94a4f81c",
        "IPY_MODEL_a143a5b673a2495e928dd346cefa7981",
        "IPY_MODEL_a2e742f0ad8747ec88f5cf551a3b5224"
       ],
       "layout": "IPY_MODEL_b8d2ea5b6d2a40cda4d35f962c17e998"
      }
     },
     "b4468c2736f440b4bd4d58112d80f1f3": {
      "model_module": "@jupyter-widgets/controls",
      "model_module_version": "1.5.0",
      "model_name": "BoundedIntTextModel",
      "state": {
       "description": "index",
       "layout": "IPY_MODEL_b184382198c246fbb6c014da8ef2f3e0",
       "style": "IPY_MODEL_1558078ff54b40aa9edd4a561283c2a3",
       "value": 2
      }
     },
     "b483a839a4094147ab01f3c7d19bb1ac": {
      "model_module": "@jupyter-widgets/controls",
      "model_module_version": "1.5.0",
      "model_name": "ColorPickerModel",
      "state": {
       "description": "ambient",
       "disabled": false,
       "layout": "IPY_MODEL_4b847adc42dd44cc8851741209771151",
       "style": "IPY_MODEL_b581d53322d94699a5a19e271a34211d",
       "value": "#195717"
      }
     },
     "b499e72891ff4bec921524030fddfd1a": {
      "model_module": "@jupyter-widgets/controls",
      "model_module_version": "1.5.0",
      "model_name": "ButtonModel",
      "state": {
       "description": "Delete",
       "layout": "IPY_MODEL_bae60be6bd344003a67e00a65860979c",
       "style": "IPY_MODEL_b29e027dac7d4d1bbc8688b18af21982"
      }
     },
     "b4b34b837b2e417eb78863606b1d6e8d": {
      "model_module": "@jupyter-widgets/controls",
      "model_module_version": "1.5.0",
      "model_name": "ButtonStyleModel",
      "state": {}
     },
     "b4eb01c447064278a10e95e371e491b5": {
      "model_module": "@jupyter-widgets/controls",
      "model_module_version": "1.5.0",
      "model_name": "ButtonModel",
      "state": {
       "description": "Save changes",
       "layout": "IPY_MODEL_ba0d08e405e743aa9fc38c0d108f065b",
       "style": "IPY_MODEL_bb92e0f3b2e842e0ab29b1bbcaf44ed8"
      }
     },
     "b4f90847a77b4195b5dc4d2c29806c64": {
      "model_module": "@jupyter-widgets/controls",
      "model_module_version": "1.5.0",
      "model_name": "BoundedIntTextModel",
      "state": {
       "description": "step",
       "layout": "IPY_MODEL_5f0d4143620941798573a504d9e748b1",
       "min": 1,
       "style": "IPY_MODEL_c0409f72c596451b915072be0153fdf9",
       "value": 1
      }
     },
     "b51a86b67c8543e0ac2c5effb4cc963d": {
      "model_module": "@jupyter-widgets/base",
      "model_module_version": "1.2.0",
      "model_name": "LayoutModel",
      "state": {}
     },
     "b52d8d1f7a39435a937737cba39c4169": {
      "model_module": "@jupyter-widgets/controls",
      "model_module_version": "1.5.0",
      "model_name": "HBoxModel",
      "state": {
       "children": [
        "IPY_MODEL_c309dadcba5d4757ad170bafede09c29",
        "IPY_MODEL_e20a8ad2869c4320906c5ccb5a2616cb",
        "IPY_MODEL_62252cd6e6f64fb7aa4f68ce3e71f4b1",
        "IPY_MODEL_88b25b3d6bed47aabbf857ba0829ae88"
       ],
       "layout": "IPY_MODEL_964212339a614dc4b244dd85464c155d"
      }
     },
     "b5307711b6f34b428ecdd5e474394193": {
      "model_module": "@jupyter-widgets/base",
      "model_module_version": "1.2.0",
      "model_name": "LayoutModel",
      "state": {}
     },
     "b55b4107cfc640d6b6bf9af9105fd14b": {
      "model_module": "@jupyter-widgets/controls",
      "model_module_version": "1.5.0",
      "model_name": "ButtonStyleModel",
      "state": {}
     },
     "b56edccf4b9f4bbebbfc5493c9f62610": {
      "model_module": "@jupyter-widgets/base",
      "model_module_version": "1.2.0",
      "model_name": "LayoutModel",
      "state": {}
     },
     "b57c6dbb68c64afbb95b8d317eff0d77": {
      "model_module": "@jupyter-widgets/controls",
      "model_module_version": "1.5.0",
      "model_name": "TabModel",
      "state": {
       "layout": "IPY_MODEL_20e3dd12ae594b74880fcf2f3311b803"
      }
     },
     "b581d53322d94699a5a19e271a34211d": {
      "model_module": "@jupyter-widgets/controls",
      "model_module_version": "1.5.0",
      "model_name": "DescriptionStyleModel",
      "state": {
       "description_width": ""
      }
     },
     "b5ad4c581bca4efb9e0e4e91dd0fc2fd": {
      "model_module": "@jupyter-widgets/base",
      "model_module_version": "1.2.0",
      "model_name": "LayoutModel",
      "state": {}
     },
     "b5d23766ee1b4de98cd72e67ca0961f4": {
      "model_module": "@jupyter-widgets/controls",
      "model_module_version": "1.5.0",
      "model_name": "DropdownModel",
      "state": {
       "_options_labels": [
        "Integer",
        "Float",
        "Bool"
       ],
       "index": 0,
       "layout": "IPY_MODEL_7293a88c1ab941aabcecd4f6d4f03a08",
       "style": "IPY_MODEL_fc285204d80d4fe587b6c0d1e1042610"
      }
     },
     "b5f4711335994c13acf965c77d3f280c": {
      "model_module": "pgljupyter",
      "model_module_version": "^0.2.0",
      "model_name": "IntEditorModel",
      "state": {
       "_model_module_version": "^0.2.0",
       "_view_module_version": "^0.2.0",
       "children": [
        "IPY_MODEL_cda9dd84098c48b3889ef275f23747f1",
        "IPY_MODEL_d07b6d687bcc4acda6e1bcec90664db4"
       ],
       "layout": "IPY_MODEL_886b3608c74d4c488a0749ac1feb2b7e"
      }
     },
     "b609d0249e3d49ada716ca64850e65b8": {
      "model_module": "@jupyter-widgets/base",
      "model_module_version": "1.2.0",
      "model_name": "LayoutModel",
      "state": {}
     },
     "b618285ed5684282bcdc1d912a0170cc": {
      "model_module": "@jupyter-widgets/controls",
      "model_module_version": "1.5.0",
      "model_name": "DescriptionStyleModel",
      "state": {
       "description_width": ""
      }
     },
     "b6232427abaa44ee8f8af67967fd5908": {
      "model_module": "@jupyter-widgets/controls",
      "model_module_version": "1.5.0",
      "model_name": "FloatSliderModel",
      "state": {
       "description": "diffuse",
       "layout": "IPY_MODEL_d01eaf873daa42fc915fce3a3a19ba71",
       "max": 3,
       "step": 0.1,
       "style": "IPY_MODEL_d93f65b8733e49b29dc3b7e7a44ec509",
       "value": 1
      }
     },
     "b64a0b633c4c488bb06c6634159a6227": {
      "model_module": "@jupyter-widgets/base",
      "model_module_version": "1.2.0",
      "model_name": "LayoutModel",
      "state": {}
     },
     "b67e23aadfc0447c98ae6280c6d11af4": {
      "model_module": "@jupyter-widgets/controls",
      "model_module_version": "1.5.0",
      "model_name": "HBoxModel",
      "state": {
       "children": [
        "IPY_MODEL_eba49d4701c34c69a1a52005a55e913e",
        "IPY_MODEL_fece1e7f13bd475fac0ed48c8e36b25b"
       ],
       "layout": "IPY_MODEL_b16bc4eeda684baab51f644ed6537a07"
      }
     },
     "b70440f46d284109b251b83b4efe6e79": {
      "model_module": "@jupyter-widgets/controls",
      "model_module_version": "1.5.0",
      "model_name": "DescriptionStyleModel",
      "state": {
       "description_width": ""
      }
     },
     "b73fc88a750b4f94b4788c5589d4400d": {
      "model_module": "@jupyter-widgets/base",
      "model_module_version": "1.2.0",
      "model_name": "LayoutModel",
      "state": {}
     },
     "b763b1260b354b23ae6671768bc4a076": {
      "model_module": "@jupyter-widgets/base",
      "model_module_version": "1.2.0",
      "model_name": "LayoutModel",
      "state": {
       "margin": "20px 0px"
      }
     },
     "b78a37695bbf435fb731861c038b885f": {
      "model_module": "@jupyter-widgets/controls",
      "model_module_version": "1.5.0",
      "model_name": "HBoxModel",
      "state": {
       "children": [
        "IPY_MODEL_fb273117bed744e4a7d3e39c85368d3d",
        "IPY_MODEL_de17ce4b402f484dad854027cadfb9d2",
        "IPY_MODEL_2d7812945748435ea206c4b8b1341c7c",
        "IPY_MODEL_ba5d5391b210400f916720a6327a4648"
       ],
       "layout": "IPY_MODEL_6f5e6f5355bd440d8af5ee837dac75a9"
      }
     },
     "b7b39fab097644ca98be08e07da74097": {
      "model_module": "@jupyter-widgets/controls",
      "model_module_version": "1.5.0",
      "model_name": "HBoxModel",
      "state": {
       "children": [
        "IPY_MODEL_37a6f13ee0d84c41bf5e2718b03b869b",
        "IPY_MODEL_d3229b2421464e3e8771d1719478cafd"
       ],
       "layout": "IPY_MODEL_06e3dd0a8b534013bd1cb1d04dbd5286"
      }
     },
     "b7c61d98c8974e3eab2560fcaf559828": {
      "model_module": "@jupyter-widgets/base",
      "model_module_version": "1.2.0",
      "model_name": "LayoutModel",
      "state": {}
     },
     "b7eb7c1fbc2c4fbab9ae3ae154813316": {
      "model_module": "@jupyter-widgets/base",
      "model_module_version": "1.2.0",
      "model_name": "LayoutModel",
      "state": {
       "margin": "20px 0px"
      }
     },
     "b7f1e2be6da44fbcaa0cb8e574a361c3": {
      "model_module": "@jupyter-widgets/base",
      "model_module_version": "1.2.0",
      "model_name": "LayoutModel",
      "state": {}
     },
     "b7fff26df0ad46bbaeeb12519d1a0352": {
      "model_module": "@jupyter-widgets/base",
      "model_module_version": "1.2.0",
      "model_name": "LayoutModel",
      "state": {}
     },
     "b83043512c0f4a2d9f6e344f6ba2039e": {
      "model_module": "@jupyter-widgets/controls",
      "model_module_version": "1.5.0",
      "model_name": "ButtonModel",
      "state": {
       "description": "Delete",
       "layout": "IPY_MODEL_9ed51db8130848ad90da4bdd175506a3",
       "style": "IPY_MODEL_6cafa8125cbe44e2b212a499900a8f16"
      }
     },
     "b88afe6051704699a445a1ca92a8653e": {
      "model_module": "@jupyter-widgets/controls",
      "model_module_version": "1.5.0",
      "model_name": "SliderStyleModel",
      "state": {
       "description_width": ""
      }
     },
     "b896d4c5ba084261b9772c2ec6244463": {
      "model_module": "@jupyter-widgets/base",
      "model_module_version": "1.2.0",
      "model_name": "LayoutModel",
      "state": {}
     },
     "b8a8455ce5b040d0b828e4487621af24": {
      "model_module": "@jupyter-widgets/controls",
      "model_module_version": "1.5.0",
      "model_name": "DescriptionStyleModel",
      "state": {
       "description_width": ""
      }
     },
     "b8ad8d8c9f124093b14f64a259771967": {
      "model_module": "@jupyter-widgets/base",
      "model_module_version": "1.2.0",
      "model_name": "LayoutModel",
      "state": {}
     },
     "b8b9b3ffeaac416c9b974d5332062d10": {
      "model_module": "@jupyter-widgets/controls",
      "model_module_version": "1.5.0",
      "model_name": "VBoxModel",
      "state": {
       "children": [
        "IPY_MODEL_1333161370364dc18b62b527843bccdf",
        "IPY_MODEL_a03e944e51cb40c5810fc9d0fa1bbb94"
       ],
       "layout": "IPY_MODEL_b349ed08d7d84db7be931975d0f29cc6"
      }
     },
     "b8c6aa5fe700489f83372cd01f2b146f": {
      "model_module": "@jupyter-widgets/controls",
      "model_module_version": "1.5.0",
      "model_name": "DescriptionStyleModel",
      "state": {
       "description_width": ""
      }
     },
     "b8c7f3e772e0418984b752d8cabfe954": {
      "model_module": "@jupyter-widgets/base",
      "model_module_version": "1.2.0",
      "model_name": "LayoutModel",
      "state": {}
     },
     "b8d2ea5b6d2a40cda4d35f962c17e998": {
      "model_module": "@jupyter-widgets/base",
      "model_module_version": "1.2.0",
      "model_name": "LayoutModel",
      "state": {}
     },
     "b8d47ef44074438281319294176af51b": {
      "model_module": "@jupyter-widgets/base",
      "model_module_version": "1.2.0",
      "model_name": "LayoutModel",
      "state": {}
     },
     "b8f9b126dfec4211a4b352568394eb93": {
      "model_module": "@jupyter-widgets/base",
      "model_module_version": "1.2.0",
      "model_name": "LayoutModel",
      "state": {}
     },
     "b9187b3d01e648a38efb74ee0b7e94b9": {
      "model_module": "@jupyter-widgets/controls",
      "model_module_version": "1.5.0",
      "model_name": "TextModel",
      "state": {
       "continuous_update": false,
       "description": "name",
       "layout": "IPY_MODEL_64fef5ffe23a4d7f84f3b9902ddf596b",
       "style": "IPY_MODEL_ff19056acbcf40a6834375d3cb7b1e9c",
       "value": "leaf_old"
      }
     },
     "b948a49b7df74974bc59fba0d18708ef": {
      "model_module": "@jupyter-widgets/base",
      "model_module_version": "1.2.0",
      "model_name": "LayoutModel",
      "state": {}
     },
     "b97945cdd79940218cc6b9ce0f099d89": {
      "model_module": "@jupyter-widgets/controls",
      "model_module_version": "1.5.0",
      "model_name": "DropdownModel",
      "state": {
       "index": null,
       "layout": "IPY_MODEL_9e900280d0514e8d81562cb4284c52dd",
       "style": "IPY_MODEL_496e48f80ba34d7389289f84ed07049f"
      }
     },
     "b97cf4f067b743d2b430bd97bc89e312": {
      "model_module": "@jupyter-widgets/controls",
      "model_module_version": "1.5.0",
      "model_name": "VBoxModel",
      "state": {
       "children": [
        "IPY_MODEL_f33af95ef58846bf8df866296877a85b",
        "IPY_MODEL_6bdedae54c80433d896fd303f7e37987",
        "IPY_MODEL_42a66a116d6e4ad2babe8908a1d40481",
        "IPY_MODEL_1544c4aba24c44af809a65633d48cc8e",
        "IPY_MODEL_a3671b271bf948d2aaa3826c21d26b20"
       ],
       "layout": "IPY_MODEL_b29aa72a95854be7aa69fb3b924ac504"
      }
     },
     "b9a7dd3f00544db199e86604e6f76867": {
      "model_module": "@jupyter-widgets/controls",
      "model_module_version": "1.5.0",
      "model_name": "BoundedIntTextModel",
      "state": {
       "description": "index",
       "layout": "IPY_MODEL_45a3b4944c1a4688b18a9e80c13972c0",
       "style": "IPY_MODEL_eabf4766db6045c488a2e23c2d898e82",
       "value": 2
      }
     },
     "b9b1d7bb539941cd99ecc58e604d0784": {
      "model_module": "@jupyter-widgets/controls",
      "model_module_version": "1.5.0",
      "model_name": "DescriptionStyleModel",
      "state": {
       "description_width": ""
      }
     },
     "b9ebb3597e8346f8a3fc4ed986a97a1b": {
      "model_module": "@jupyter-widgets/base",
      "model_module_version": "1.2.0",
      "model_name": "LayoutModel",
      "state": {}
     },
     "b9fcc4919c8b40f2a8d2e8ea3fad4478": {
      "model_module": "@jupyter-widgets/controls",
      "model_module_version": "1.5.0",
      "model_name": "SliderStyleModel",
      "state": {
       "description_width": ""
      }
     },
     "ba0d08e405e743aa9fc38c0d108f065b": {
      "model_module": "@jupyter-widgets/base",
      "model_module_version": "1.2.0",
      "model_name": "LayoutModel",
      "state": {}
     },
     "ba11bb824352454c9ac4abadef095063": {
      "model_module": "@jupyter-widgets/controls",
      "model_module_version": "1.5.0",
      "model_name": "TextModel",
      "state": {
       "continuous_update": false,
       "description": "name",
       "layout": "IPY_MODEL_59c4f363387c4603894fb415c0d36967",
       "style": "IPY_MODEL_39501af7b4a946cb85b28be8f27f4a40",
       "value": "leafduration"
      }
     },
     "ba2927804c224adb95a5bde918123c5b": {
      "model_module": "@jupyter-widgets/controls",
      "model_module_version": "1.5.0",
      "model_name": "CheckboxModel",
      "state": {
       "description": "Auto save",
       "disabled": false,
       "layout": "IPY_MODEL_64f9dc0574df4a11af6125d753e638a4",
       "style": "IPY_MODEL_44ee20673cb54cb197bb19275c2ee931",
       "value": false
      }
     },
     "ba3a3559ee5e49c19408ce2e75b666f1": {
      "model_module": "@jupyter-widgets/base",
      "model_module_version": "1.2.0",
      "model_name": "LayoutModel",
      "state": {}
     },
     "ba5d5391b210400f916720a6327a4648": {
      "model_module": "pgljupyter",
      "model_module_version": "^0.1.19",
      "model_name": "MaterialEditorModel",
      "state": {
       "_model_module_version": "^0.1.19",
       "_view_module_version": "^0.1.19",
       "children": [
        "IPY_MODEL_3e64b59aa9974065a16ce4e79ea27464",
        "IPY_MODEL_56d367a9d5614e55bed35e4d81b7eef8",
        "IPY_MODEL_ed976a91034f48c1a0bd19c114a4740d",
        "IPY_MODEL_630f51ddc6474d56ac2b11c221db9313",
        "IPY_MODEL_64fb29f193384a4e8f752c45b4c4b1ca",
        "IPY_MODEL_9c9faa69b3cc422bacb248629847951b",
        "IPY_MODEL_96b49dfc62ee4b54b6911cc9519f3adf",
        "IPY_MODEL_fef140b17815482fac4c6efc6accb2db"
       ],
       "layout": "IPY_MODEL_4a2ccff224ef48f09723ba6a231d6640"
      }
     },
     "ba5e485f797f45a793e7c0053d26227b": {
      "model_module": "@jupyter-widgets/controls",
      "model_module_version": "1.5.0",
      "model_name": "SliderStyleModel",
      "state": {
       "description_width": ""
      }
     },
     "ba8e3775748c410583ae69a234f084fd": {
      "model_module": "@jupyter-widgets/controls",
      "model_module_version": "1.5.0",
      "model_name": "VBoxModel",
      "state": {
       "children": [
        "IPY_MODEL_1e182d826be744dba3ea4c48b973b242",
        "IPY_MODEL_838c2e96b44f4e398b804eaa39f05912",
        "IPY_MODEL_efb139d7a3194536b561efe32dfd2630",
        "IPY_MODEL_737e4a4107604e689afd07fac4b3e826",
        "IPY_MODEL_9b9062181b2349279a58cedf3d1a123f"
       ],
       "layout": "IPY_MODEL_cfc1ca4715e642c7b9f1d42760c731fd"
      }
     },
     "baaa42ae12f948eab87555a7fbda06c9": {
      "model_module": "@jupyter-widgets/controls",
      "model_module_version": "1.5.0",
      "model_name": "HBoxModel",
      "state": {
       "children": [
        "IPY_MODEL_38aff3c9c69e426985154cc4165b3f46",
        "IPY_MODEL_e8ec467c663c43b680bf26b13a9a4041"
       ],
       "layout": "IPY_MODEL_341481874f4a40c88fa0bc3937bf1f74"
      }
     },
     "bac8604d77704199a0f58325e3b25b59": {
      "model_module": "@jupyter-widgets/controls",
      "model_module_version": "1.5.0",
      "model_name": "DescriptionStyleModel",
      "state": {
       "description_width": ""
      }
     },
     "bad4e236bef945b193cd8662cba5516a": {
      "model_module": "@jupyter-widgets/controls",
      "model_module_version": "1.5.0",
      "model_name": "SliderStyleModel",
      "state": {
       "description_width": ""
      }
     },
     "badf1d6936f34af5a14df64809ef893c": {
      "model_module": "@jupyter-widgets/controls",
      "model_module_version": "1.5.0",
      "model_name": "HBoxModel",
      "state": {
       "children": [
        "IPY_MODEL_bdac6d00efda4f16bee09beeff1d0317",
        "IPY_MODEL_1d7324e6216945c694b7879142e82cce"
       ],
       "layout": "IPY_MODEL_6e86329f62f04d64897ff3b96a1bfe58"
      }
     },
     "bae60be6bd344003a67e00a65860979c": {
      "model_module": "@jupyter-widgets/base",
      "model_module_version": "1.2.0",
      "model_name": "LayoutModel",
      "state": {}
     },
     "baf1a60a7c1b4d32906c8ce7421ac654": {
      "model_module": "@jupyter-widgets/controls",
      "model_module_version": "1.5.0",
      "model_name": "ButtonModel",
      "state": {
       "description": "Add",
       "layout": "IPY_MODEL_9c9be4e906924b7ca4fc59cedc2f1e32",
       "style": "IPY_MODEL_8f06c2ae91ad40a682161b87d6e730b4"
      }
     },
     "bb16c1d4c8a841829bfb8da15b3bea9a": {
      "model_module": "@jupyter-widgets/controls",
      "model_module_version": "1.5.0",
      "model_name": "SliderStyleModel",
      "state": {
       "description_width": ""
      }
     },
     "bb3613145b68440ba42bf478df5b13af": {
      "model_module": "@jupyter-widgets/controls",
      "model_module_version": "1.5.0",
      "model_name": "DescriptionStyleModel",
      "state": {
       "description_width": ""
      }
     },
     "bb79433b06b94630b6f77fbc405d30c3": {
      "model_module": "@jupyter-widgets/base",
      "model_module_version": "1.2.0",
      "model_name": "LayoutModel",
      "state": {}
     },
     "bb92e0f3b2e842e0ab29b1bbcaf44ed8": {
      "model_module": "@jupyter-widgets/controls",
      "model_module_version": "1.5.0",
      "model_name": "ButtonStyleModel",
      "state": {}
     },
     "bba064c217a24b0f9b5d380aaa6fea52": {
      "model_module": "@jupyter-widgets/controls",
      "model_module_version": "1.5.0",
      "model_name": "HBoxModel",
      "state": {
       "children": [
        "IPY_MODEL_7c9ff33ce6ef4aa9ac024f1cf91f4faf",
        "IPY_MODEL_83b3943961434027b9a8d49bdef39171",
        "IPY_MODEL_f78af31ccb8c4fa6988f852a049c17d8",
        "IPY_MODEL_c9bef065e2504444a9ee87abecefe691"
       ],
       "layout": "IPY_MODEL_f54b6bb1cd9047f2913448b18542023e"
      }
     },
     "bbc20920f34a4a74ae6269cb6b203707": {
      "model_module": "@jupyter-widgets/controls",
      "model_module_version": "1.5.0",
      "model_name": "FloatSliderModel",
      "state": {
       "description": "transparency",
       "layout": "IPY_MODEL_ed7d66b5a93a41909abdbcdcb3f73f67",
       "max": 1,
       "step": 0.1,
       "style": "IPY_MODEL_f20f31a04ca646aead57a9fa9a0eab65"
      }
     },
     "bc101f934e6546c8b4a4399a8ff52dd9": {
      "model_module": "@jupyter-widgets/controls",
      "model_module_version": "1.5.0",
      "model_name": "SliderStyleModel",
      "state": {
       "description_width": ""
      }
     },
     "bc2caf9b3fc84da494330dba24816842": {
      "model_module": "@jupyter-widgets/controls",
      "model_module_version": "1.5.0",
      "model_name": "ButtonModel",
      "state": {
       "description": "Delete",
       "layout": "IPY_MODEL_0d8106747f5f4d0a81928341852045a2",
       "style": "IPY_MODEL_3ec386de663b4617bc9f49b851f4ac02"
      }
     },
     "bc42d877cd3c4649bef7e1b74ed18b6e": {
      "model_module": "@jupyter-widgets/base",
      "model_module_version": "1.2.0",
      "model_name": "LayoutModel",
      "state": {}
     },
     "bc4bbf97cace49f2830fcdf2421eabb0": {
      "model_module": "@jupyter-widgets/base",
      "model_module_version": "1.2.0",
      "model_name": "LayoutModel",
      "state": {}
     },
     "bc60e7667a584052943e93872a6708a3": {
      "model_module": "@jupyter-widgets/base",
      "model_module_version": "1.2.0",
      "model_name": "LayoutModel",
      "state": {}
     },
     "bc6a9e91763e4425a42d8b1641580ff4": {
      "model_module": "@jupyter-widgets/controls",
      "model_module_version": "1.5.0",
      "model_name": "TextModel",
      "state": {
       "layout": "IPY_MODEL_8bd7cf6dc07d437190fbda31a59b43c4",
       "placeholder": "category name",
       "style": "IPY_MODEL_768416184c784ccc90f3432b6d9b15da"
      }
     },
     "bc6cacb17412447096141b192ffe383d": {
      "model_module": "@jupyter-widgets/base",
      "model_module_version": "1.2.0",
      "model_name": "LayoutModel",
      "state": {}
     },
     "bc6ff6dbd47e43719f4d3510291ab07c": {
      "model_module": "@jupyter-widgets/base",
      "model_module_version": "1.2.0",
      "model_name": "LayoutModel",
      "state": {}
     },
     "bca351d97c6d48f9814da71e4418e3a3": {
      "model_module": "@jupyter-widgets/base",
      "model_module_version": "1.2.0",
      "model_name": "LayoutModel",
      "state": {}
     },
     "bcaba5e2353e4a19b1cee8ab746c814d": {
      "model_module": "@jupyter-widgets/base",
      "model_module_version": "1.2.0",
      "model_name": "LayoutModel",
      "state": {}
     },
     "bcb7465a37394dbabd8f197ae65f2662": {
      "model_module": "@jupyter-widgets/base",
      "model_module_version": "1.2.0",
      "model_name": "LayoutModel",
      "state": {}
     },
     "bcb9c01e8d5e4ef6a75414069738d87f": {
      "model_module": "pgljupyter",
      "model_module_version": "^0.1.17",
      "model_name": "FloatEditorModel",
      "state": {
       "_model_module_version": "^0.1.17",
       "_view_module_version": "^0.1.17",
       "children": [
        "IPY_MODEL_da94d7f0e6e045988d94aba69d5be576",
        "IPY_MODEL_c2a6d9ce18fc4ac0bc1a7f90b4c5116c"
       ],
       "layout": "IPY_MODEL_ffc34902c36642e1969fa8c466aeb653"
      }
     },
     "bcf4fc941c344389979acd078603c0fc": {
      "model_module": "@jupyter-widgets/base",
      "model_module_version": "1.2.0",
      "model_name": "LayoutModel",
      "state": {}
     },
     "bcf7fee88c72467fbcc5a469b43e9f92": {
      "model_module": "@jupyter-widgets/base",
      "model_module_version": "1.2.0",
      "model_name": "LayoutModel",
      "state": {}
     },
     "bcfc6c652c144bec9a22752018e37d3d": {
      "model_module": "@jupyter-widgets/controls",
      "model_module_version": "1.5.0",
      "model_name": "DropdownModel",
      "state": {
       "index": null,
       "layout": "IPY_MODEL_bc6cacb17412447096141b192ffe383d",
       "style": "IPY_MODEL_7acb0757f3e34fd699c20c4cd8fc383f"
      }
     },
     "bd21842443764a4e9cfc0fe5e99adc99": {
      "model_module": "@jupyter-widgets/controls",
      "model_module_version": "1.5.0",
      "model_name": "HBoxModel",
      "state": {
       "children": [
        "IPY_MODEL_f2282812a130441eac41b660ee49477d",
        "IPY_MODEL_ba2927804c224adb95a5bde918123c5b"
       ],
       "layout": "IPY_MODEL_62867ab47038465d8944dcad2437cbc9"
      }
     },
     "bd75e9ca86e44f438e2c480a32fa8470": {
      "model_module": "@jupyter-widgets/controls",
      "model_module_version": "1.5.0",
      "model_name": "SliderStyleModel",
      "state": {
       "description_width": ""
      }
     },
     "bd975fbe82284673a970cc17143dddb9": {
      "model_module": "@jupyter-widgets/controls",
      "model_module_version": "1.5.0",
      "model_name": "DropdownModel",
      "state": {
       "_options_labels": [
        "Integer",
        "Float",
        "Bool"
       ],
       "index": 0,
       "layout": "IPY_MODEL_155e496650f34366b813ae47225f42d5",
       "style": "IPY_MODEL_e6991f813efb4b118467f99c0776efcd"
      }
     },
     "bdac6d00efda4f16bee09beeff1d0317": {
      "model_module": "@jupyter-widgets/controls",
      "model_module_version": "1.5.0",
      "model_name": "ButtonModel",
      "state": {
       "description": "Delete",
       "layout": "IPY_MODEL_b8f9b126dfec4211a4b352568394eb93",
       "style": "IPY_MODEL_21dc5393f9364b34b280fae10a6852f9"
      }
     },
     "bdcbb93f812947e88d3b05e0e12e3467": {
      "model_module": "@jupyter-widgets/base",
      "model_module_version": "1.2.0",
      "model_name": "LayoutModel",
      "state": {}
     },
     "bdd912ccd9594f2c93aaed30b1a57ee8": {
      "model_module": "@jupyter-widgets/controls",
      "model_module_version": "1.5.0",
      "model_name": "DropdownModel",
      "state": {
       "index": null,
       "layout": "IPY_MODEL_1e71076b6d304240bdd062f2d5156785",
       "style": "IPY_MODEL_5e9c1818473b44dab49b3d26bf241c9d"
      }
     },
     "be34e970bcfe4196ae35d41580213f9a": {
      "model_module": "@jupyter-widgets/controls",
      "model_module_version": "1.5.0",
      "model_name": "ColorPickerModel",
      "state": {
       "description": "ambient",
       "disabled": false,
       "layout": "IPY_MODEL_1eafac7d519a4739b0a5ec9f2e1a0356",
       "style": "IPY_MODEL_46bb048d9eec4d478fec36bfaa6b5a6b",
       "value": "#195717"
      }
     },
     "be51b261106b43ffb83f192c209c691e": {
      "model_module": "@jupyter-widgets/controls",
      "model_module_version": "1.5.0",
      "model_name": "ColorPickerModel",
      "state": {
       "description": "ambient",
       "disabled": false,
       "layout": "IPY_MODEL_f5eb433a652144f68dc06a51734bf8aa",
       "style": "IPY_MODEL_f7734ac97c2a419a80f3d26934e193d0",
       "value": "#0fc4db"
      }
     },
     "be52d9cdb49d41ef9f7664b51577a733": {
      "model_module": "@jupyter-widgets/base",
      "model_module_version": "1.2.0",
      "model_name": "LayoutModel",
      "state": {}
     },
     "be75d5dbdd5641339fe24f8c4f6ca207": {
      "model_module": "@jupyter-widgets/controls",
      "model_module_version": "1.5.0",
      "model_name": "DropdownModel",
      "state": {
       "_options_labels": [
        "NurbsCurve2D",
        "BezierCurve2D",
        "Polyline2D",
        "Function"
       ],
       "index": 0,
       "layout": "IPY_MODEL_62011f6d9ab4417da126fa460c091385",
       "style": "IPY_MODEL_a2c6eda68e01466896e29101678f2ecc"
      }
     },
     "bea75cda8f8442a1a38a4e847733c703": {
      "model_module": "@jupyter-widgets/controls",
      "model_module_version": "1.5.0",
      "model_name": "BoundedIntTextModel",
      "state": {
       "description": "index",
       "layout": "IPY_MODEL_305673ca6b654c1c8dcdccefd7e9a70a",
       "style": "IPY_MODEL_e45efbec269d4f03b8dd09502f95fedc",
       "value": 4
      }
     },
     "beaddf86b7f44cc299563ba4d42805ac": {
      "model_module": "@jupyter-widgets/controls",
      "model_module_version": "1.5.0",
      "model_name": "ButtonModel",
      "state": {
       "description": "Delete",
       "layout": "IPY_MODEL_25c2402de33e45e390315509afa77feb",
       "style": "IPY_MODEL_8bbd3656628c4c6e8afd4b8861674066"
      }
     },
     "bec3c9f59a484a5f81d56950adfbfbfd": {
      "model_module": "@jupyter-widgets/base",
      "model_module_version": "1.2.0",
      "model_name": "LayoutModel",
      "state": {}
     },
     "bed12060ceba4494bf43652e512c3823": {
      "model_module": "@jupyter-widgets/controls",
      "model_module_version": "1.5.0",
      "model_name": "TextModel",
      "state": {
       "continuous_update": false,
       "description": "name",
       "layout": "IPY_MODEL_0e592e8a9b8343179820de7ac2999dbb",
       "style": "IPY_MODEL_ca11567bb72b468da1d353634229db6b",
       "value": "trunk"
      }
     },
     "bee6c3276d1d45d3afbfa6bbc7f3dac1": {
      "model_module": "@jupyter-widgets/controls",
      "model_module_version": "1.5.0",
      "model_name": "ButtonStyleModel",
      "state": {}
     },
     "bf0625eebb3744fc8cc55567e985236f": {
      "model_module": "@jupyter-widgets/controls",
      "model_module_version": "1.5.0",
      "model_name": "FloatSliderModel",
      "state": {
       "description": "shininess",
       "layout": "IPY_MODEL_06c676714abc45c2bd668d409b3f913f",
       "max": 1,
       "step": 0.1,
       "style": "IPY_MODEL_dc9722bd3a6e4f1e855fb518b2065abe",
       "value": 0.2
      }
     },
     "bf10c1c91f744db1b7cbf9962b0fb4a1": {
      "model_module": "@jupyter-widgets/base",
      "model_module_version": "1.2.0",
      "model_name": "LayoutModel",
      "state": {}
     },
     "bf1fdb5bb36e4e1a926148fdc953e325": {
      "model_module": "@jupyter-widgets/controls",
      "model_module_version": "1.5.0",
      "model_name": "ButtonStyleModel",
      "state": {}
     },
     "bf215b8633cf4c8e9ddb25f302c62afb": {
      "model_module": "@jupyter-widgets/controls",
      "model_module_version": "1.5.0",
      "model_name": "ButtonStyleModel",
      "state": {}
     },
     "bf5f584ba47f4eb58e2144997c9fbd8f": {
      "model_module": "@jupyter-widgets/controls",
      "model_module_version": "1.5.0",
      "model_name": "DescriptionStyleModel",
      "state": {
       "description_width": ""
      }
     },
     "bf6182a681a644ffb5f47c17cb2d1bed": {
      "model_module": "@jupyter-widgets/controls",
      "model_module_version": "1.5.0",
      "model_name": "ButtonStyleModel",
      "state": {}
     },
     "bf9f735211574d32bf9d5fa02ec1e786": {
      "model_module": "@jupyter-widgets/controls",
      "model_module_version": "1.5.0",
      "model_name": "HBoxModel",
      "state": {
       "children": [
        "IPY_MODEL_b1ed67a808ae4d98902e313123dd2c75",
        "IPY_MODEL_e647273f61494efb92b293f226b212ce"
       ],
       "layout": "IPY_MODEL_3423cf0a4514403f822864a725d3fedc"
      }
     },
     "bfa2cd7f0c5143b98b10a45ec7d2d66d": {
      "model_module": "@jupyter-widgets/controls",
      "model_module_version": "1.5.0",
      "model_name": "BoundedIntTextModel",
      "state": {
       "description": "index",
       "layout": "IPY_MODEL_856cb4dc10fd40959afd4f2ed68f4da6",
       "style": "IPY_MODEL_391878e8ba0540f5adaa617056b8dd47",
       "value": 2
      }
     },
     "bfabacffa42444aaafe06f4ea52048a4": {
      "model_module": "@jupyter-widgets/controls",
      "model_module_version": "1.5.0",
      "model_name": "FloatSliderModel",
      "state": {
       "continuous_update": false,
       "description": "transparency",
       "layout": "IPY_MODEL_46559724ab7140ba983352954fb841c1",
       "max": 1,
       "step": 0.1,
       "style": "IPY_MODEL_582aab0227c542c3b12dbbe1af118de6"
      }
     },
     "bfb30d87706146bc8fe2542c4dec80e3": {
      "model_module": "pgljupyter",
      "model_module_version": "^0.1.21",
      "model_name": "ParameterEditorModel",
      "state": {
       "_model_module_version": "^0.1.21",
       "_view_module_version": "^0.1.21",
       "children": [
        "IPY_MODEL_1e131dd0699142ff8d201517f327a01e"
       ],
       "layout": "IPY_MODEL_e9bf0cd054d84ef78d0da14f7ed9cea5"
      }
     },
     "bfcd0c0f65914aef9be1c321c3bcf1e0": {
      "model_module": "@jupyter-widgets/controls",
      "model_module_version": "1.5.0",
      "model_name": "DescriptionStyleModel",
      "state": {
       "description_width": ""
      }
     },
     "bfcf3e600cd241bc9d5160e197b1e911": {
      "model_module": "@jupyter-widgets/base",
      "model_module_version": "1.2.0",
      "model_name": "LayoutModel",
      "state": {}
     },
     "c0409f72c596451b915072be0153fdf9": {
      "model_module": "@jupyter-widgets/controls",
      "model_module_version": "1.5.0",
      "model_name": "DescriptionStyleModel",
      "state": {
       "description_width": ""
      }
     },
     "c0716141b1a941c88943b77a968d0bcb": {
      "model_module": "@jupyter-widgets/base",
      "model_module_version": "1.2.0",
      "model_name": "LayoutModel",
      "state": {}
     },
     "c076c7f8110443d8b16ad88e24d4c9c2": {
      "model_module": "@jupyter-widgets/controls",
      "model_module_version": "1.5.0",
      "model_name": "SliderStyleModel",
      "state": {
       "description_width": ""
      }
     },
     "c079194f982146b3907f1743d3b21acd": {
      "model_module": "@jupyter-widgets/controls",
      "model_module_version": "1.5.0",
      "model_name": "DropdownModel",
      "state": {
       "_options_labels": [
        "NurbsCurve2D",
        "BezierCurve2D",
        "Polyline2D",
        "Function"
       ],
       "index": 0,
       "layout": "IPY_MODEL_9fd3d652ee284bd4a3d837a4c638a0ff",
       "style": "IPY_MODEL_62e7fd6e389c4ae59e571c4fcb34e5c0"
      }
     },
     "c0a048ed609e4aceb6a259def78278e2": {
      "model_module": "@jupyter-widgets/controls",
      "model_module_version": "1.5.0",
      "model_name": "TextModel",
      "state": {
       "layout": "IPY_MODEL_1b6051bae24c473598c952d51984d1ee",
       "placeholder": "category name",
       "style": "IPY_MODEL_93a5e2d0c70d421d81cf898af8d464df"
      }
     },
     "c0bb2a0d577641b58e46f24746ba8a03": {
      "model_module": "@jupyter-widgets/controls",
      "model_module_version": "1.5.0",
      "model_name": "SliderStyleModel",
      "state": {
       "description_width": ""
      }
     },
     "c0e6e3c25e6e41948722f8a330ddc4e1": {
      "model_module": "@jupyter-widgets/controls",
      "model_module_version": "1.5.0",
      "model_name": "FloatSliderModel",
      "state": {
       "description": "diffuse",
       "layout": "IPY_MODEL_ec128f27e5d548fd89d35f652fb3d014",
       "max": 3,
       "step": 0.1,
       "style": "IPY_MODEL_b9fcc4919c8b40f2a8d2e8ea3fad4478",
       "value": 1
      }
     },
     "c11321e762b3422997689f94db4a71c8": {
      "model_module": "@jupyter-widgets/controls",
      "model_module_version": "1.5.0",
      "model_name": "ColorPickerModel",
      "state": {
       "description": "emission",
       "disabled": false,
       "layout": "IPY_MODEL_382ba098f6cc4adf8bfb135a9de7b6d8",
       "style": "IPY_MODEL_0ce5322222f04cda8b64b0849f810223",
       "value": "#000000"
      }
     },
     "c120885553c04d129fd38676ed6234d2": {
      "model_module": "@jupyter-widgets/controls",
      "model_module_version": "1.5.0",
      "model_name": "DescriptionStyleModel",
      "state": {
       "description_width": ""
      }
     },
     "c156b4effd8047eb86722833ed8a0f8e": {
      "model_module": "@jupyter-widgets/base",
      "model_module_version": "1.2.0",
      "model_name": "LayoutModel",
      "state": {}
     },
     "c16429a9bfff45a981471a788dca62c2": {
      "model_module": "@jupyter-widgets/controls",
      "model_module_version": "1.5.0",
      "model_name": "FloatSliderModel",
      "state": {
       "description": "shininess",
       "layout": "IPY_MODEL_ecd6712976814a878c2eb22824a5e5e9",
       "max": 1,
       "step": 0.1,
       "style": "IPY_MODEL_6a96352f36b9452bba44e1ee4b108426",
       "value": 0.2
      }
     },
     "c1729e1e6a704ee9982e5f868755dfc6": {
      "model_module": "@jupyter-widgets/controls",
      "model_module_version": "1.5.0",
      "model_name": "DescriptionStyleModel",
      "state": {
       "description_width": ""
      }
     },
     "c1733f50531e4767a40e92700519d3e1": {
      "model_module": "@jupyter-widgets/controls",
      "model_module_version": "1.5.0",
      "model_name": "VBoxModel",
      "state": {
       "children": [
        "IPY_MODEL_181af5a1b3fa4b279cd968fb4614425b",
        "IPY_MODEL_9e08c85091ae4652b970aefe883adffe",
        "IPY_MODEL_27fe3c9c89974787b0edc4789c341ca9",
        "IPY_MODEL_f628bcfc5a584627bfe3fcf55fe6a1b4",
        "IPY_MODEL_64d7cfa5db9342919ab9a345850a143f"
       ],
       "layout": "IPY_MODEL_c4b86685c2464c519bc82e0e2a9d486c"
      }
     },
     "c190a593c1ed4ea199fb8b572fe94562": {
      "model_module": "@jupyter-widgets/controls",
      "model_module_version": "1.5.0",
      "model_name": "DescriptionStyleModel",
      "state": {
       "description_width": ""
      }
     },
     "c1a7e756fd674170a661ab6dcc62f7a9": {
      "model_module": "@jupyter-widgets/controls",
      "model_module_version": "1.5.0",
      "model_name": "FloatSliderModel",
      "state": {
       "description": "diffuse",
       "layout": "IPY_MODEL_f8b573f681b34435b46c31918778cf1a",
       "max": 3,
       "step": 0.1,
       "style": "IPY_MODEL_dbf29d67c32f4897a7101f3492b6f2df",
       "value": 1
      }
     },
     "c1f8e654bd764ed1b77cc56f2508694d": {
      "model_module": "@jupyter-widgets/controls",
      "model_module_version": "1.5.0",
      "model_name": "DescriptionStyleModel",
      "state": {
       "description_width": ""
      }
     },
     "c215c775706940698bf97b3b703c91da": {
      "model_module": "@jupyter-widgets/controls",
      "model_module_version": "1.5.0",
      "model_name": "ColorPickerModel",
      "state": {
       "description": "emission",
       "disabled": false,
       "layout": "IPY_MODEL_59e6e480e2f044e3973bd8d2328b0a68",
       "style": "IPY_MODEL_2f7bae47a5d04c279483d29ce1fb515d",
       "value": "#000000"
      }
     },
     "c2205a0d7c964b6c8ed4a89cd19b8f92": {
      "model_module": "@jupyter-widgets/controls",
      "model_module_version": "1.5.0",
      "model_name": "ColorPickerModel",
      "state": {
       "description": "ambient",
       "disabled": false,
       "layout": "IPY_MODEL_c156b4effd8047eb86722833ed8a0f8e",
       "style": "IPY_MODEL_a21046bdb21740aeae992e0143e91153",
       "value": "#e1a014"
      }
     },
     "c25725e9ed4543cba7cfc3aee18d110d": {
      "model_module": "@jupyter-widgets/controls",
      "model_module_version": "1.5.0",
      "model_name": "DescriptionStyleModel",
      "state": {
       "description_width": ""
      }
     },
     "c2578ef26c0743838357a06ac7dbb03e": {
      "model_module": "@jupyter-widgets/base",
      "model_module_version": "1.2.0",
      "model_name": "LayoutModel",
      "state": {}
     },
     "c28c1957d1634127975fa331e2198a31": {
      "model_module": "@jupyter-widgets/controls",
      "model_module_version": "1.5.0",
      "model_name": "DescriptionStyleModel",
      "state": {
       "description_width": ""
      }
     },
     "c29fffdc637c4b74935a820089942936": {
      "model_module": "@jupyter-widgets/controls",
      "model_module_version": "1.5.0",
      "model_name": "HBoxModel",
      "state": {
       "children": [
        "IPY_MODEL_d9b886e295724cc9a420de8dcc17e338",
        "IPY_MODEL_7f28069d37a34840971aedd32085c8f9"
       ],
       "layout": "IPY_MODEL_a2e0faf740134dcb8588672a0eb3e8d8"
      }
     },
     "c2a6d9ce18fc4ac0bc1a7f90b4c5116c": {
      "model_module": "@jupyter-widgets/controls",
      "model_module_version": "1.5.0",
      "model_name": "FloatSliderModel",
      "state": {
       "description": "value",
       "layout": "IPY_MODEL_6c671f207c164abd949a12ac8032908b",
       "max": 0.1,
       "min": 0.01,
       "step": 0.01,
       "style": "IPY_MODEL_6313452555004e3e8cd4af4b429d6c81",
       "value": 0.02
      }
     },
     "c2be0d36854f4826b190f2aef55fd686": {
      "model_module": "@jupyter-widgets/controls",
      "model_module_version": "1.5.0",
      "model_name": "ButtonModel",
      "state": {
       "description": "Delete",
       "layout": "IPY_MODEL_29cf0466a11e48fc973f7029133b4c1c",
       "style": "IPY_MODEL_557b13d22d9c4523aede128ecebc8ac7"
      }
     },
     "c2c1faa3a7104893aba1b9a986c72e7f": {
      "model_module": "@jupyter-widgets/controls",
      "model_module_version": "1.5.0",
      "model_name": "TabModel",
      "state": {
       "layout": "IPY_MODEL_0e698e6988a94950922b8014c320bdf8"
      }
     },
     "c2ea397318574d91a49746ced9e8db1a": {
      "model_module": "@jupyter-widgets/base",
      "model_module_version": "1.2.0",
      "model_name": "LayoutModel",
      "state": {}
     },
     "c30638fef6f54cf1961713315e8da2f9": {
      "model_module": "@jupyter-widgets/controls",
      "model_module_version": "1.5.0",
      "model_name": "DescriptionStyleModel",
      "state": {
       "description_width": ""
      }
     },
     "c309dadcba5d4757ad170bafede09c29": {
      "model_module": "pgljupyter",
      "model_module_version": "^0.1.17",
      "model_name": "MaterialEditorModel",
      "state": {
       "_model_module_version": "^0.1.17",
       "_view_module_version": "^0.1.17",
       "children": [
        "IPY_MODEL_243831084f114d97bd1e5d3e35197ff6",
        "IPY_MODEL_de26906445994c7e8243365b107e8044",
        "IPY_MODEL_f958a1e7a32245119bf98c95905da1a2",
        "IPY_MODEL_70dda571646341ceb6f35058be924baf",
        "IPY_MODEL_c0e6e3c25e6e41948722f8a330ddc4e1",
        "IPY_MODEL_ae72d17e3fb94a56a3727653a69248a4",
        "IPY_MODEL_2249a5a5d0f24085af3136bbb4f3f425"
       ],
       "layout": "IPY_MODEL_134a756a9b454b73bb8ed6d12d756e98"
      }
     },
     "c311f2512bd54982b3579b77887bb9f8": {
      "model_module": "@jupyter-widgets/controls",
      "model_module_version": "1.5.0",
      "model_name": "IntSliderModel",
      "state": {
       "description": "value",
       "layout": "IPY_MODEL_fb261447b1394430bbc4cbcda7f7c31a",
       "max": 10,
       "min": 1,
       "style": "IPY_MODEL_5c8b02bacbff4f469a89e2d1ea4bf18e",
       "value": 3
      }
     },
     "c32f6b4c4d3c4559935e3f52d16dc798": {
      "model_module": "@jupyter-widgets/base",
      "model_module_version": "1.2.0",
      "model_name": "LayoutModel",
      "state": {}
     },
     "c361327190724646be840782bc716cef": {
      "model_module": "@jupyter-widgets/controls",
      "model_module_version": "1.5.0",
      "model_name": "VBoxModel",
      "state": {
       "children": [
        "IPY_MODEL_0df3c48cd89940ce80485ec6fb57722c",
        "IPY_MODEL_e24becef77854391b6cd6c67e04932e8"
       ],
       "layout": "IPY_MODEL_eb11e6bb87f04e778a49e0a3916ee734"
      }
     },
     "c3c827131f134d53a63ac1630295a9db": {
      "model_module": "@jupyter-widgets/controls",
      "model_module_version": "1.5.0",
      "model_name": "ColorPickerModel",
      "state": {
       "description": "specular",
       "disabled": false,
       "layout": "IPY_MODEL_47fb3c80b04646738a440b8943ebe585",
       "style": "IPY_MODEL_d9fed144986740a4aebc4a2d4217ab60",
       "value": "#282828"
      }
     },
     "c3f4c1f812d844ea9207b9e5e852348d": {
      "model_module": "@jupyter-widgets/controls",
      "model_module_version": "1.5.0",
      "model_name": "ColorPickerModel",
      "state": {
       "description": "specular",
       "disabled": false,
       "layout": "IPY_MODEL_c9f408cad5994e8ab4dbb398970c8e82",
       "style": "IPY_MODEL_a9cadb58b2d74d899f90724daa0dbc03",
       "value": "#282828"
      }
     },
     "c43e0238c1ef4e7c983ad07ad7529348": {
      "model_module": "@jupyter-widgets/base",
      "model_module_version": "1.2.0",
      "model_name": "LayoutModel",
      "state": {}
     },
     "c47d49a7c60647cb85c5eb15764ce0cf": {
      "model_module": "@jupyter-widgets/base",
      "model_module_version": "1.2.0",
      "model_name": "LayoutModel",
      "state": {}
     },
     "c48e782f1bef445e9f2d0c4e1632f795": {
      "model_module": "@jupyter-widgets/base",
      "model_module_version": "1.2.0",
      "model_name": "LayoutModel",
      "state": {}
     },
     "c4b86685c2464c519bc82e0e2a9d486c": {
      "model_module": "@jupyter-widgets/base",
      "model_module_version": "1.2.0",
      "model_name": "LayoutModel",
      "state": {}
     },
     "c4ed48b837534de7b3ebc8b317ef0a11": {
      "model_module": "@jupyter-widgets/controls",
      "model_module_version": "1.5.0",
      "model_name": "DescriptionStyleModel",
      "state": {
       "description_width": ""
      }
     },
     "c54af388f2644be9bbacd4f598e6ceaa": {
      "model_module": "@jupyter-widgets/controls",
      "model_module_version": "1.5.0",
      "model_name": "TextModel",
      "state": {
       "continuous_update": false,
       "description": "name",
       "layout": "IPY_MODEL_dfe63aa9d45245879bd179fdae112be6",
       "style": "IPY_MODEL_01b4759293cd4876b08c36080cc6c88b",
       "value": "nb_axes"
      }
     },
     "c54dbf897e88456f9d68e9e0b6f32806": {
      "model_module": "@jupyter-widgets/controls",
      "model_module_version": "1.5.0",
      "model_name": "DescriptionStyleModel",
      "state": {
       "description_width": ""
      }
     },
     "c568de927fe14c14ac939845f5cfc2a7": {
      "model_module": "@jupyter-widgets/controls",
      "model_module_version": "1.5.0",
      "model_name": "SliderStyleModel",
      "state": {
       "description_width": ""
      }
     },
     "c5ef80a74b76476ab2ab7654fd9a2aae": {
      "model_module": "@jupyter-widgets/controls",
      "model_module_version": "1.5.0",
      "model_name": "TextModel",
      "state": {
       "continuous_update": false,
       "description": "name",
       "layout": "IPY_MODEL_8ebbdf1fb8e54a828e60d7ac7f9605d3",
       "style": "IPY_MODEL_0098827af4e640a7995f79067eabb137",
       "value": "maxorder"
      }
     },
     "c668486775d54df3a202a26b6d1a94af": {
      "model_module": "@jupyter-widgets/base",
      "model_module_version": "1.2.0",
      "model_name": "LayoutModel",
      "state": {}
     },
     "c670633e3aa5429fb74ad03495d1835c": {
      "model_module": "@jupyter-widgets/controls",
      "model_module_version": "1.5.0",
      "model_name": "HBoxModel",
      "state": {
       "children": [
        "IPY_MODEL_d00d708bc83a43c486f075d9361c9002",
        "IPY_MODEL_ec264ee7c2014d25b4a56adf37235cd5"
       ],
       "layout": "IPY_MODEL_9b28113ac4cf4246b8f51027152a28ae"
      }
     },
     "c68f788cbf434b1b86545d771587773e": {
      "model_module": "@jupyter-widgets/base",
      "model_module_version": "1.2.0",
      "model_name": "LayoutModel",
      "state": {}
     },
     "c6a591bed4c246eaa6f122a5fb74d701": {
      "model_module": "@jupyter-widgets/base",
      "model_module_version": "1.2.0",
      "model_name": "LayoutModel",
      "state": {}
     },
     "c70724b373544707a8ceb6ea34ead215": {
      "model_module": "@jupyter-widgets/base",
      "model_module_version": "1.2.0",
      "model_name": "LayoutModel",
      "state": {}
     },
     "c737fed3f4b647319d521b5a01ed5013": {
      "model_module": "@jupyter-widgets/base",
      "model_module_version": "1.2.0",
      "model_name": "LayoutModel",
      "state": {}
     },
     "c7392a724df448aeb54bda6da04bb735": {
      "model_module": "@jupyter-widgets/base",
      "model_module_version": "1.2.0",
      "model_name": "LayoutModel",
      "state": {}
     },
     "c753a38f00e84158ab81183ed86947d4": {
      "model_module": "@jupyter-widgets/controls",
      "model_module_version": "1.5.0",
      "model_name": "ButtonModel",
      "state": {
       "description": "Add",
       "layout": "IPY_MODEL_b56edccf4b9f4bbebbfc5493c9f62610",
       "style": "IPY_MODEL_e849efdb9162462ebac0eda40b42e9b0"
      }
     },
     "c76ff38eb79648c091c2640ae5686f89": {
      "model_module": "@jupyter-widgets/controls",
      "model_module_version": "1.5.0",
      "model_name": "FloatSliderModel",
      "state": {
       "description": "transparency",
       "layout": "IPY_MODEL_4d79e8bd62ba46e7b8991120fe395616",
       "max": 1,
       "step": 0.1,
       "style": "IPY_MODEL_a9b011b81d9a47ae956fb42dd48f7577"
      }
     },
     "c7ce13c027424623b6f2e99ab754ce1b": {
      "model_module": "@jupyter-widgets/controls",
      "model_module_version": "1.5.0",
      "model_name": "ButtonStyleModel",
      "state": {}
     },
     "c7ea2a8eaf6f4fd6ba043daec10a8f1a": {
      "model_module": "@jupyter-widgets/base",
      "model_module_version": "1.2.0",
      "model_name": "LayoutModel",
      "state": {}
     },
     "c7f7b7c639f04c7a812a812bc95f2f4a": {
      "model_module": "@jupyter-widgets/controls",
      "model_module_version": "1.5.0",
      "model_name": "ButtonStyleModel",
      "state": {}
     },
     "c7fdf9479d19465286070c71ea3e9462": {
      "model_module": "@jupyter-widgets/controls",
      "model_module_version": "1.5.0",
      "model_name": "SliderStyleModel",
      "state": {
       "description_width": ""
      }
     },
     "c84fe53e0e9a4df391e82723c5e179d5": {
      "model_module": "@jupyter-widgets/controls",
      "model_module_version": "1.5.0",
      "model_name": "SliderStyleModel",
      "state": {
       "description_width": ""
      }
     },
     "c857186aabb743a182bad020b5b61e91": {
      "model_module": "@jupyter-widgets/controls",
      "model_module_version": "1.5.0",
      "model_name": "ButtonModel",
      "state": {
       "description": "Delete category",
       "layout": "IPY_MODEL_3178a3216d144ea499adf4148f81828a",
       "style": "IPY_MODEL_1d631b91d9ac4f29a2da89915f36246d"
      }
     },
     "c86dfb91c7754e40aff8205f0595f499": {
      "model_module": "@jupyter-widgets/controls",
      "model_module_version": "1.5.0",
      "model_name": "FloatSliderModel",
      "state": {
       "description": "shininess",
       "layout": "IPY_MODEL_2c2396952b064b95b30ec4636f7a5104",
       "max": 1,
       "step": 0.1,
       "style": "IPY_MODEL_0fbcef905dc549ebb51d1bcd20ade1b3",
       "value": 0.2
      }
     },
     "c874010bc6f24cc38736c49375396273": {
      "model_module": "@jupyter-widgets/controls",
      "model_module_version": "1.5.0",
      "model_name": "FloatSliderModel",
      "state": {
       "description": "shininess",
       "layout": "IPY_MODEL_7a33b0c7ad914ade99bfb96985353f2e",
       "max": 1,
       "step": 0.1,
       "style": "IPY_MODEL_96760736adb540eab397a4254d806359",
       "value": 0.2
      }
     },
     "c87de82df61849479c94ddeef1b62236": {
      "model_module": "@jupyter-widgets/controls",
      "model_module_version": "1.5.0",
      "model_name": "TabModel",
      "state": {
       "_titles": {
        "0": "leuwenberg.json"
       },
       "children": [
        "IPY_MODEL_855e56574bc4405fb85a9d92a7326cfa"
       ],
       "layout": "IPY_MODEL_769de7cf8d7e429d8f80a5713fb7ebfa"
      }
     },
     "c885c505f74c4f13b9663c38cb480f8a": {
      "model_module": "@jupyter-widgets/base",
      "model_module_version": "1.2.0",
      "model_name": "LayoutModel",
      "state": {}
     },
     "c8bd3e3f13474b0baac9eb113f5ce252": {
      "model_module": "@jupyter-widgets/base",
      "model_module_version": "1.2.0",
      "model_name": "LayoutModel",
      "state": {}
     },
     "c8ca31ca5bd148e6a5aa1524e6d99e3f": {
      "model_module": "@jupyter-widgets/controls",
      "model_module_version": "1.5.0",
      "model_name": "DescriptionStyleModel",
      "state": {
       "description_width": ""
      }
     },
     "c8d3f70598d54c238929a83e3bcb3334": {
      "model_module": "@jupyter-widgets/controls",
      "model_module_version": "1.5.0",
      "model_name": "DescriptionStyleModel",
      "state": {
       "description_width": ""
      }
     },
     "c908184eb23d4c2496f39acbf94a858a": {
      "model_module": "@jupyter-widgets/base",
      "model_module_version": "1.2.0",
      "model_name": "LayoutModel",
      "state": {}
     },
     "c92427536cb94849b746848ce431f79c": {
      "model_module": "@jupyter-widgets/base",
      "model_module_version": "1.2.0",
      "model_name": "LayoutModel",
      "state": {}
     },
     "c92b975754c040e5b82b402ea1415e65": {
      "model_module": "@jupyter-widgets/controls",
      "model_module_version": "1.5.0",
      "model_name": "ColorPickerModel",
      "state": {
       "description": "specular",
       "disabled": false,
       "layout": "IPY_MODEL_896ad6ec098a405a80ae6f82cca58a0c",
       "style": "IPY_MODEL_ed9c4819f169408997cc14e89f892d4d",
       "value": "#282828"
      }
     },
     "c9403f1b437748eaa3f2b265b7d6eaa2": {
      "model_module": "@jupyter-widgets/controls",
      "model_module_version": "1.5.0",
      "model_name": "ColorPickerModel",
      "state": {
       "description": "ambient",
       "disabled": false,
       "layout": "IPY_MODEL_cef95e99bff14a7892ad7b7e082815a3",
       "style": "IPY_MODEL_5631cbab764947158f1da6a147458613",
       "value": "#e1a014"
      }
     },
     "c989202804bb452e8cb9723017e5f6c3": {
      "model_module": "@jupyter-widgets/base",
      "model_module_version": "1.2.0",
      "model_name": "LayoutModel",
      "state": {}
     },
     "c98bc4fd0fb74e1583e73ae62e4ec124": {
      "model_module": "@jupyter-widgets/controls",
      "model_module_version": "1.5.0",
      "model_name": "ButtonStyleModel",
      "state": {}
     },
     "c9baeb3cc9b94afca6784ad73de3b963": {
      "model_module": "@jupyter-widgets/base",
      "model_module_version": "1.2.0",
      "model_name": "LayoutModel",
      "state": {
       "margin": "20px 0px"
      }
     },
     "c9bef065e2504444a9ee87abecefe691": {
      "model_module": "pgljupyter",
      "model_module_version": "^0.1.21",
      "model_name": "MaterialEditorModel",
      "state": {
       "_model_module_version": "^0.1.21",
       "_view_module_version": "^0.1.21",
       "children": [
        "IPY_MODEL_de319ccb71084e70b9dbfd5cfb7f274a",
        "IPY_MODEL_7c0c38291061419390dbeba93ef4ef19",
        "IPY_MODEL_c9403f1b437748eaa3f2b265b7d6eaa2",
        "IPY_MODEL_b336f9abf432475a859c3a01ea152da7",
        "IPY_MODEL_3e44ac9e61c14a0f9579e3363460f583",
        "IPY_MODEL_60b6d845ad24428db8160a19a54d242d",
        "IPY_MODEL_d64b99f37a81429489c488b69a00175d",
        "IPY_MODEL_cf824a36611440baadda6efc8be404cc"
       ],
       "layout": "IPY_MODEL_ad770f779d7142d692b8057c7c5825cf"
      }
     },
     "c9e51a7855744cacbf121c9bb896cf32": {
      "model_module": "@jupyter-widgets/base",
      "model_module_version": "1.2.0",
      "model_name": "LayoutModel",
      "state": {}
     },
     "c9ee8ed99d854415b137aeef8b399bf7": {
      "model_module": "@jupyter-widgets/controls",
      "model_module_version": "1.5.0",
      "model_name": "DescriptionStyleModel",
      "state": {
       "description_width": ""
      }
     },
     "c9f408cad5994e8ab4dbb398970c8e82": {
      "model_module": "@jupyter-widgets/base",
      "model_module_version": "1.2.0",
      "model_name": "LayoutModel",
      "state": {}
     },
     "ca048b3e6ffe42779d97a92813a975b0": {
      "model_module": "@jupyter-widgets/controls",
      "model_module_version": "1.5.0",
      "model_name": "BoundedIntTextModel",
      "state": {
       "description": "index",
       "layout": "IPY_MODEL_efecd650a0b549cfb8d04768a7af3883",
       "style": "IPY_MODEL_1eb0713d17fb4a92b6d7cfab6060154c",
       "value": 1
      }
     },
     "ca11567bb72b468da1d353634229db6b": {
      "model_module": "@jupyter-widgets/controls",
      "model_module_version": "1.5.0",
      "model_name": "DescriptionStyleModel",
      "state": {
       "description_width": ""
      }
     },
     "ca31eefba9934ba0853aeee9ed1c6164": {
      "model_module": "@jupyter-widgets/controls",
      "model_module_version": "1.5.0",
      "model_name": "DescriptionStyleModel",
      "state": {
       "description_width": ""
      }
     },
     "ca53e0658bf34086ba83cddc03f09176": {
      "model_module": "@jupyter-widgets/controls",
      "model_module_version": "1.5.0",
      "model_name": "SliderStyleModel",
      "state": {
       "description_width": ""
      }
     },
     "ca7aee704c7f4c709cbfb43965044d9e": {
      "model_module": "@jupyter-widgets/controls",
      "model_module_version": "1.5.0",
      "model_name": "ButtonStyleModel",
      "state": {}
     },
     "ca93be8a390a4842a5a88b86b5f0c740": {
      "model_module": "@jupyter-widgets/controls",
      "model_module_version": "1.5.0",
      "model_name": "IntSliderModel",
      "state": {
       "description": "value",
       "layout": "IPY_MODEL_3ba3327a9ad340168a7a06f365fdced1",
       "max": 10,
       "min": 1,
       "style": "IPY_MODEL_1adccbe353a046ea9bf4ed81f2cba08d",
       "value": 3
      }
     },
     "cb2c668918b54c28a23bfa9edc932df0": {
      "model_module": "@jupyter-widgets/base",
      "model_module_version": "1.2.0",
      "model_name": "LayoutModel",
      "state": {}
     },
     "cb43d93a31474ef68c27ec960b1e17ad": {
      "model_module": "@jupyter-widgets/base",
      "model_module_version": "1.2.0",
      "model_name": "LayoutModel",
      "state": {}
     },
     "cb7d447aaf2c4c759979e1f891e6d461": {
      "model_module": "@jupyter-widgets/controls",
      "model_module_version": "1.5.0",
      "model_name": "ColorPickerModel",
      "state": {
       "description": "emission",
       "disabled": false,
       "layout": "IPY_MODEL_455f8aeaffa441bf93d43f30ccfb8f01",
       "style": "IPY_MODEL_80486992e7b749219293ac12cc88f982",
       "value": "#000000"
      }
     },
     "cb8ca0e6e0eb421686668ef1c62fece3": {
      "model_module": "@jupyter-widgets/base",
      "model_module_version": "1.2.0",
      "model_name": "LayoutModel",
      "state": {}
     },
     "cbb885bb9b4c46c4a535abf50628efc5": {
      "model_module": "@jupyter-widgets/controls",
      "model_module_version": "1.5.0",
      "model_name": "HBoxModel",
      "state": {
       "layout": "IPY_MODEL_964212339a614dc4b244dd85464c155d"
      }
     },
     "cbc8b4e533c94b8597e45a4ac84149b8": {
      "model_module": "@jupyter-widgets/controls",
      "model_module_version": "1.5.0",
      "model_name": "DropdownModel",
      "state": {
       "_options_labels": [
        "leafduration",
        "leafold",
        "maxorder",
        "radinc",
        "nb_axes"
       ],
       "index": 0,
       "layout": "IPY_MODEL_b8d47ef44074438281319294176af51b",
       "style": "IPY_MODEL_5952c0e964b14034832f8d689c94cd56"
      }
     },
     "cbdaf49adba648288d71c4ee0c85a46d": {
      "model_module": "@jupyter-widgets/controls",
      "model_module_version": "1.5.0",
      "model_name": "ButtonModel",
      "state": {
       "description": "Delete",
       "layout": "IPY_MODEL_e996a0616fe3456f83d3a47b2d6444d3",
       "style": "IPY_MODEL_e0b543b076714cf5958478e4889a5cb7"
      }
     },
     "cbe89d5aedbd45519b776332dff4658c": {
      "model_module": "@jupyter-widgets/controls",
      "model_module_version": "1.5.0",
      "model_name": "HBoxModel",
      "state": {
       "children": [
        "IPY_MODEL_755c1c70762c49c99b070ee87d978fe3"
       ],
       "layout": "IPY_MODEL_3bc19bb63ddf48d997c4e036a6b93e14"
      }
     },
     "cc14692e35cc4df3a41f6c4a0b9ab26e": {
      "model_module": "@jupyter-widgets/controls",
      "model_module_version": "1.5.0",
      "model_name": "SliderStyleModel",
      "state": {
       "description_width": ""
      }
     },
     "cc25751e00dd443fb5153b58575d586f": {
      "model_module": "@jupyter-widgets/controls",
      "model_module_version": "1.5.0",
      "model_name": "ButtonStyleModel",
      "state": {}
     },
     "cc343dc00b354cd18fece388a4875e4c": {
      "model_module": "pgljupyter",
      "model_module_version": "^0.1.21",
      "model_name": "IntEditorModel",
      "state": {
       "_model_module_version": "^0.1.21",
       "_view_module_version": "^0.1.21",
       "children": [
        "IPY_MODEL_902e29cc535749e796ee3a937c3dfd21",
        "IPY_MODEL_cf70e5ab01a742c8abccfa36d455b40f"
       ],
       "layout": "IPY_MODEL_fe3f4751df8748c2bbaad9e702ecd866"
      }
     },
     "cc658d72aeb9448c92ed6b2cedd5b4c2": {
      "model_module": "@jupyter-widgets/controls",
      "model_module_version": "1.5.0",
      "model_name": "DescriptionStyleModel",
      "state": {
       "description_width": ""
      }
     },
     "cc6d0e94c93b4978adf6227cfb533d2c": {
      "model_module": "@jupyter-widgets/controls",
      "model_module_version": "1.5.0",
      "model_name": "DescriptionStyleModel",
      "state": {
       "description_width": ""
      }
     },
     "cca2bc234f7546b6ab053ec14a62865d": {
      "model_module": "pgljupyter",
      "model_module_version": "^0.1.17",
      "model_name": "IntEditorModel",
      "state": {
       "_model_module_version": "^0.1.17",
       "_view_module_version": "^0.1.17",
       "children": [
        "IPY_MODEL_c5ef80a74b76476ab2ab7654fd9a2aae",
        "IPY_MODEL_683514619a284a17be83f3e12928bc6a"
       ],
       "layout": "IPY_MODEL_35888e4f3f5048409ae7317289d152bd"
      }
     },
     "ccb212c6dfcc4c1d92cc6abceb4d2737": {
      "model_module": "@jupyter-widgets/controls",
      "model_module_version": "1.5.0",
      "model_name": "HBoxModel",
      "state": {
       "children": [
        "IPY_MODEL_5ccfe2f5d1bc472faf8aa7f50bf0ab1d",
        "IPY_MODEL_49d68010fc084f1ebd5a1e73fb6c31af",
        "IPY_MODEL_e3e60ccbc1cb456a81c849bf7a485b87",
        "IPY_MODEL_87914f94bb81462d992aeaaef5f740be"
       ],
       "layout": "IPY_MODEL_8d56c586bca3464d8c5cb36ae761ba46"
      }
     },
     "ccb39defb4b54d8591cbedd607b9aa56": {
      "model_module": "@jupyter-widgets/base",
      "model_module_version": "1.2.0",
      "model_name": "LayoutModel",
      "state": {}
     },
     "ccd2ea5a8e31427bb33242becf4077fa": {
      "model_module": "@jupyter-widgets/base",
      "model_module_version": "1.2.0",
      "model_name": "LayoutModel",
      "state": {}
     },
     "cce99130437343edbb73e295b4bb4a02": {
      "model_module": "@jupyter-widgets/controls",
      "model_module_version": "1.5.0",
      "model_name": "DropdownModel",
      "state": {
       "index": null,
       "layout": "IPY_MODEL_814dac1493d8493abe1be47f92709960",
       "style": "IPY_MODEL_e1a057438d6b4569b6ab77b9fa61b360"
      }
     },
     "ccf0f2ce22544625b858407af5c61f95": {
      "model_module": "@jupyter-widgets/base",
      "model_module_version": "1.2.0",
      "model_name": "LayoutModel",
      "state": {}
     },
     "ccf905a2150245e9ad7bfe85dc989fc8": {
      "model_module": "@jupyter-widgets/base",
      "model_module_version": "1.2.0",
      "model_name": "LayoutModel",
      "state": {}
     },
     "cd18808436ce4ac78c1eb074bdea5bc5": {
      "model_module": "@jupyter-widgets/controls",
      "model_module_version": "1.5.0",
      "model_name": "FloatSliderModel",
      "state": {
       "continuous_update": false,
       "description": "diffuse",
       "layout": "IPY_MODEL_f744f73abc8b4e43bcabffd1e5617d58",
       "max": 3,
       "step": 0.1,
       "style": "IPY_MODEL_0aebf2695c55434aac60a9421030c373",
       "value": 1
      }
     },
     "cd1d503025f94455898cda591460f5da": {
      "model_module": "@jupyter-widgets/controls",
      "model_module_version": "1.5.0",
      "model_name": "DropdownModel",
      "state": {
       "_options_labels": [
        "NurbsCurve2D",
        "BezierCurve2D",
        "Polyline2D",
        "Function"
       ],
       "index": 0,
       "layout": "IPY_MODEL_3761ab3b962b4bdc83a0b5c3edaaf2f4",
       "style": "IPY_MODEL_ec565a4c65ef47b7b5c481d2e487b68f"
      }
     },
     "cd7bfb5080ac406ca64676e932e517e1": {
      "model_module": "@jupyter-widgets/controls",
      "model_module_version": "1.5.0",
      "model_name": "ButtonModel",
      "state": {
       "description": "Delete",
       "layout": "IPY_MODEL_4b7afeaad0934ef3b8ed7e9d8d2cd9c9",
       "style": "IPY_MODEL_f10e1a78bef24b7a80af155ce5e761cd"
      }
     },
     "cd863832ae4f4c2a9fb4238d4fe72b7d": {
      "model_module": "@jupyter-widgets/controls",
      "model_module_version": "1.5.0",
      "model_name": "IntTextModel",
      "state": {
       "description": "min",
       "layout": "IPY_MODEL_67c7aedfc8f04a9bb8e92c4fbabb0fa3",
       "step": 1,
       "style": "IPY_MODEL_15cc82a7eb6848f88869d829430b0385",
       "value": 1
      }
     },
     "cda9dd84098c48b3889ef275f23747f1": {
      "model_module": "@jupyter-widgets/controls",
      "model_module_version": "1.5.0",
      "model_name": "TextModel",
      "state": {
       "continuous_update": false,
       "description": "name",
       "layout": "IPY_MODEL_d8b198bfac424258a47a890f63440c67",
       "style": "IPY_MODEL_4dd92aefda304f2781e1837f27d5ddf7",
       "value": "leafold"
      }
     },
     "cdf37350d48b41aa95e2f22bc8635d1f": {
      "model_module": "@jupyter-widgets/base",
      "model_module_version": "1.2.0",
      "model_name": "LayoutModel",
      "state": {
       "margin": "20px 0px"
      }
     },
     "ce0a26bba3a94e90ad2deec291c5620a": {
      "model_module": "@jupyter-widgets/base",
      "model_module_version": "1.2.0",
      "model_name": "LayoutModel",
      "state": {}
     },
     "ce0fb06d58634cb9b41ec68d1e1dc70d": {
      "model_module": "@jupyter-widgets/controls",
      "model_module_version": "1.5.0",
      "model_name": "TextModel",
      "state": {
       "continuous_update": false,
       "description": "name",
       "layout": "IPY_MODEL_6f1858b8e9c6421b9b4fe2362c1009c7",
       "style": "IPY_MODEL_ca31eefba9934ba0853aeee9ed1c6164",
       "value": "leaf_new"
      }
     },
     "ce2c33204f164aad889970e5a43d3a08": {
      "model_module": "@jupyter-widgets/controls",
      "model_module_version": "1.5.0",
      "model_name": "HBoxModel",
      "state": {
       "children": [
        "IPY_MODEL_1fcf90f890c6426ab939a569108497cd",
        "IPY_MODEL_7f20014dd702433aad34bf992652d5b2"
       ],
       "layout": "IPY_MODEL_4958d672242649e6ba8c129a89e468d4"
      }
     },
     "ce2ea4fd167e4cb2b2f137651b8ac0c7": {
      "model_module": "@jupyter-widgets/controls",
      "model_module_version": "1.5.0",
      "model_name": "SliderStyleModel",
      "state": {
       "description_width": ""
      }
     },
     "ce67773475a240888ab3908bc46155d6": {
      "model_module": "@jupyter-widgets/controls",
      "model_module_version": "1.5.0",
      "model_name": "ButtonModel",
      "state": {
       "description": "Delete",
       "layout": "IPY_MODEL_4ddda9a00bbf42d6aacbcebecf226354",
       "style": "IPY_MODEL_e7db5ec1554041c2a2c5b821407a6039"
      }
     },
     "ce70308ac20f4bb987e9cff5c5bdd36c": {
      "model_module": "@jupyter-widgets/controls",
      "model_module_version": "1.5.0",
      "model_name": "DescriptionStyleModel",
      "state": {
       "description_width": ""
      }
     },
     "ce7e6e96ec964535b8172165fd984f5a": {
      "model_module": "@jupyter-widgets/controls",
      "model_module_version": "1.5.0",
      "model_name": "ButtonStyleModel",
      "state": {}
     },
     "ce95b26aa02f45a485c1255eae9a21fa": {
      "model_module": "@jupyter-widgets/controls",
      "model_module_version": "1.5.0",
      "model_name": "SliderStyleModel",
      "state": {
       "description_width": ""
      }
     },
     "cec3e99efbcc48f4949ee3f961d09c72": {
      "model_module": "@jupyter-widgets/controls",
      "model_module_version": "1.5.0",
      "model_name": "DescriptionStyleModel",
      "state": {
       "description_width": ""
      }
     },
     "cef95e99bff14a7892ad7b7e082815a3": {
      "model_module": "@jupyter-widgets/base",
      "model_module_version": "1.2.0",
      "model_name": "LayoutModel",
      "state": {}
     },
     "ceffb090a5a74d579c94f7381b9a47f0": {
      "model_module": "@jupyter-widgets/base",
      "model_module_version": "1.2.0",
      "model_name": "LayoutModel",
      "state": {}
     },
     "cf2d00fcb37046cca0b8754d884949a8": {
      "model_module": "@jupyter-widgets/controls",
      "model_module_version": "1.5.0",
      "model_name": "IntSliderModel",
      "state": {
       "description": "value",
       "layout": "IPY_MODEL_440acb6e8011430aa874cae6aefacb36",
       "max": 10,
       "min": 1,
       "style": "IPY_MODEL_88f3d087a0de45da8bfd2c33963d9fb3",
       "value": 5
      }
     },
     "cf673dfbe5eb413c96fdeb2659cfc128": {
      "model_module": "@jupyter-widgets/controls",
      "model_module_version": "1.5.0",
      "model_name": "SliderStyleModel",
      "state": {
       "description_width": ""
      }
     },
     "cf70e5ab01a742c8abccfa36d455b40f": {
      "model_module": "@jupyter-widgets/controls",
      "model_module_version": "1.5.0",
      "model_name": "IntSliderModel",
      "state": {
       "description": "value",
       "layout": "IPY_MODEL_4c0cd242021b4387b84906f781be597f",
       "max": 5,
       "min": 1,
       "style": "IPY_MODEL_83eb13eb355a4ed79a83c524a5fe5344",
       "value": 4
      }
     },
     "cf824a36611440baadda6efc8be404cc": {
      "model_module": "@jupyter-widgets/controls",
      "model_module_version": "1.5.0",
      "model_name": "FloatSliderModel",
      "state": {
       "description": "shininess",
       "layout": "IPY_MODEL_1841107c669d487a88dba8bee46180f8",
       "max": 1,
       "step": 0.1,
       "style": "IPY_MODEL_228bc3eabbcd41b0903a627cadc7111d",
       "value": 0.2
      }
     },
     "cfc1ca4715e642c7b9f1d42760c731fd": {
      "model_module": "@jupyter-widgets/base",
      "model_module_version": "1.2.0",
      "model_name": "LayoutModel",
      "state": {}
     },
     "cffb33bebb154befa460f5be28ee06de": {
      "model_module": "@jupyter-widgets/base",
      "model_module_version": "1.2.0",
      "model_name": "LayoutModel",
      "state": {}
     },
     "cffe896bba6b4be9a72a337ec2eeabfd": {
      "model_module": "@jupyter-widgets/base",
      "model_module_version": "1.2.0",
      "model_name": "LayoutModel",
      "state": {}
     },
     "d0007b5c1cf14819b87f34bbcb148b93": {
      "model_module": "@jupyter-widgets/controls",
      "model_module_version": "1.5.0",
      "model_name": "SliderStyleModel",
      "state": {
       "description_width": ""
      }
     },
     "d007a3afb7ef4e6ab1691e067fa2adc5": {
      "model_module": "@jupyter-widgets/base",
      "model_module_version": "1.2.0",
      "model_name": "LayoutModel",
      "state": {}
     },
     "d00bef684863448d8a69284c4b80ac23": {
      "model_module": "@jupyter-widgets/controls",
      "model_module_version": "1.5.0",
      "model_name": "DescriptionStyleModel",
      "state": {
       "description_width": ""
      }
     },
     "d00cdabea4394c67b9d4871ff44824df": {
      "model_module": "@jupyter-widgets/base",
      "model_module_version": "1.2.0",
      "model_name": "LayoutModel",
      "state": {
       "margin": "10px 10px"
      }
     },
     "d00d708bc83a43c486f075d9361c9002": {
      "model_module": "@jupyter-widgets/controls",
      "model_module_version": "1.5.0",
      "model_name": "ButtonModel",
      "state": {
       "description": "Delete",
       "layout": "IPY_MODEL_ccf0f2ce22544625b858407af5c61f95",
       "style": "IPY_MODEL_bf215b8633cf4c8e9ddb25f302c62afb"
      }
     },
     "d015b65324534f50aa5675640c1f43ab": {
      "model_module": "@jupyter-widgets/controls",
      "model_module_version": "1.5.0",
      "model_name": "HBoxModel",
      "state": {
       "children": [
        "IPY_MODEL_acb4f93525d14ffabe3e2bba3cae48a6",
        "IPY_MODEL_133803d2a9f74591a327cf95a74cdd6a"
       ],
       "layout": "IPY_MODEL_5a6aab1bb709492da4f69389f9069c24"
      }
     },
     "d01eaf873daa42fc915fce3a3a19ba71": {
      "model_module": "@jupyter-widgets/base",
      "model_module_version": "1.2.0",
      "model_name": "LayoutModel",
      "state": {}
     },
     "d03612b14f984819821e89add2e8abfb": {
      "model_module": "@jupyter-widgets/base",
      "model_module_version": "1.2.0",
      "model_name": "LayoutModel",
      "state": {}
     },
     "d07b6d687bcc4acda6e1bcec90664db4": {
      "model_module": "@jupyter-widgets/controls",
      "model_module_version": "1.5.0",
      "model_name": "IntSliderModel",
      "state": {
       "continuous_update": false,
       "description": "value",
       "layout": "IPY_MODEL_685616a6a5014c418cc61d6e755db1e7",
       "max": 10,
       "min": 1,
       "style": "IPY_MODEL_ecd10be312514a0fb8642421d88c44eb",
       "value": 2
      }
     },
     "d08d83f130d445aa9c9e3e4d3eb779f5": {
      "model_module": "@jupyter-widgets/controls",
      "model_module_version": "1.5.0",
      "model_name": "ButtonModel",
      "state": {
       "description": "Add category",
       "layout": "IPY_MODEL_5050ca46763b42f48c282cd082ef9b5e",
       "style": "IPY_MODEL_de6204ad1dc341c3909e295e0a51ec00"
      }
     },
     "d0a6d8e803054098abe932e3805dde62": {
      "model_module": "@jupyter-widgets/base",
      "model_module_version": "1.2.0",
      "model_name": "LayoutModel",
      "state": {}
     },
     "d10a3a68a0474f01aa5b6d5cfdb8ebe8": {
      "model_module": "@jupyter-widgets/controls",
      "model_module_version": "1.5.0",
      "model_name": "FloatSliderModel",
      "state": {
       "description": "transparency",
       "layout": "IPY_MODEL_c47d49a7c60647cb85c5eb15764ce0cf",
       "max": 1,
       "step": 0.1,
       "style": "IPY_MODEL_33df28684ad348f5b03827854e48c752"
      }
     },
     "d10f09db7b844047b372a716b8a9dd49": {
      "model_module": "@jupyter-widgets/controls",
      "model_module_version": "1.5.0",
      "model_name": "SliderStyleModel",
      "state": {
       "description_width": ""
      }
     },
     "d11c5f9a64894e40b64687ac16f2ba0a": {
      "model_module": "@jupyter-widgets/controls",
      "model_module_version": "1.5.0",
      "model_name": "FloatSliderModel",
      "state": {
       "description": "diffuse",
       "layout": "IPY_MODEL_b5307711b6f34b428ecdd5e474394193",
       "max": 3,
       "step": 0.1,
       "style": "IPY_MODEL_66319b5fedf94e328a2169cc85e30ee7",
       "value": 1
      }
     },
     "d152ff0131e44467aa1643fe2974e1b9": {
      "model_module": "@jupyter-widgets/controls",
      "model_module_version": "1.5.0",
      "model_name": "DescriptionStyleModel",
      "state": {
       "description_width": ""
      }
     },
     "d17ee3bf95d444e6a5dc0e77911f5b59": {
      "model_module": "@jupyter-widgets/controls",
      "model_module_version": "1.5.0",
      "model_name": "ColorPickerModel",
      "state": {
       "description": "specular",
       "disabled": false,
       "layout": "IPY_MODEL_0af1bb03cbd844ea9bfc0d9b864d0f8d",
       "style": "IPY_MODEL_64f0f3be71ea49f6b0bf5f7a3382814b",
       "value": "#282828"
      }
     },
     "d18e48c309db4852aa5cdc3da1012b6e": {
      "model_module": "@jupyter-widgets/base",
      "model_module_version": "1.2.0",
      "model_name": "LayoutModel",
      "state": {}
     },
     "d1a8424f341d4ea494d8618314235a18": {
      "model_module": "@jupyter-widgets/base",
      "model_module_version": "1.2.0",
      "model_name": "LayoutModel",
      "state": {}
     },
     "d1e4b02c15bb44948c22e7d933636530": {
      "model_module": "@jupyter-widgets/controls",
      "model_module_version": "1.5.0",
      "model_name": "TextModel",
      "state": {
       "layout": "IPY_MODEL_82ee84b51f34452cb28a4d5fbd6a6bec",
       "placeholder": "category name",
       "style": "IPY_MODEL_b70440f46d284109b251b83b4efe6e79"
      }
     },
     "d1f553a8e0e14ca8939fd7facfe7bdd0": {
      "model_module": "@jupyter-widgets/controls",
      "model_module_version": "1.5.0",
      "model_name": "BoundedIntTextModel",
      "state": {
       "description": "index",
       "layout": "IPY_MODEL_65bee35e74e7441d98cbdeb5de6d8221",
       "style": "IPY_MODEL_113da8bbf28f4da4a88ba0f9cabd4ebb",
       "value": 2
      }
     },
     "d24455fb0aa04c15978bcf82f484ec0d": {
      "model_module": "@jupyter-widgets/controls",
      "model_module_version": "1.5.0",
      "model_name": "FloatSliderModel",
      "state": {
       "description": "shininess",
       "layout": "IPY_MODEL_89e834b8c10e40a390db5fd0665c3d45",
       "max": 1,
       "step": 0.1,
       "style": "IPY_MODEL_b0e8fa40069c4769bfca38d467a34243",
       "value": 0.2
      }
     },
     "d24ed236d364492488ac20992dc448f3": {
      "model_module": "@jupyter-widgets/controls",
      "model_module_version": "1.5.0",
      "model_name": "SliderStyleModel",
      "state": {
       "description_width": ""
      }
     },
     "d28067c4931743aca1bc823ffb01f353": {
      "model_module": "@jupyter-widgets/controls",
      "model_module_version": "1.5.0",
      "model_name": "ColorPickerModel",
      "state": {
       "description": "ambient",
       "disabled": false,
       "layout": "IPY_MODEL_30f8fe4f47224d6abe3cbbfae3e4ee75",
       "style": "IPY_MODEL_3ea576de71e344fc8f076693910052c2",
       "value": "#195717"
      }
     },
     "d2ae08c8938f40e28ea77f61a5b50c80": {
      "model_module": "@jupyter-widgets/controls",
      "model_module_version": "1.5.0",
      "model_name": "ButtonStyleModel",
      "state": {}
     },
     "d2bb46fece49444493085b0de0cbeb64": {
      "model_module": "@jupyter-widgets/controls",
      "model_module_version": "1.5.0",
      "model_name": "SliderStyleModel",
      "state": {
       "description_width": ""
      }
     },
     "d2f53457da264365a8ca7a5c85a6b381": {
      "model_module": "@jupyter-widgets/controls",
      "model_module_version": "1.5.0",
      "model_name": "ColorPickerModel",
      "state": {
       "description": "emission",
       "disabled": false,
       "layout": "IPY_MODEL_d7b73a835c6a400fa37fb014990bed66",
       "style": "IPY_MODEL_f0677d8a64674b559e7f258cf8fa5541",
       "value": "#000000"
      }
     },
     "d30ebfc6c53341ae9babc1bd412860bb": {
      "model_module": "@jupyter-widgets/controls",
      "model_module_version": "1.5.0",
      "model_name": "DescriptionStyleModel",
      "state": {
       "description_width": ""
      }
     },
     "d3229b2421464e3e8771d1719478cafd": {
      "model_module": "@jupyter-widgets/controls",
      "model_module_version": "1.5.0",
      "model_name": "DropdownModel",
      "state": {
       "_options_labels": [
        "Integer",
        "Float",
        "Bool"
       ],
       "index": 0,
       "layout": "IPY_MODEL_6498ae65f15544e3aa9711e23376ad90",
       "style": "IPY_MODEL_5a27138e81a3410884a9215f1d6fa8d6"
      }
     },
     "d323d6b67e114f9199d968a403d35954": {
      "model_module": "@jupyter-widgets/base",
      "model_module_version": "1.2.0",
      "model_name": "LayoutModel",
      "state": {}
     },
     "d3295221ce1f424ebee2f857573f74f6": {
      "model_module": "@jupyter-widgets/controls",
      "model_module_version": "1.5.0",
      "model_name": "DropdownModel",
      "state": {
       "_options_labels": [
        "NurbsCurve2D",
        "BezierCurve2D",
        "Polyline2D",
        "Function"
       ],
       "index": 0,
       "layout": "IPY_MODEL_0b0218a48fab482ca3ef910ddb9948e7",
       "style": "IPY_MODEL_0b86b005791f45fb93ef1e515e62e1e2"
      }
     },
     "d32aaba5fabf43e1a51a446cc716f021": {
      "model_module": "@jupyter-widgets/controls",
      "model_module_version": "1.5.0",
      "model_name": "ButtonStyleModel",
      "state": {}
     },
     "d3311825194e40848ec86c6df05ec71f": {
      "model_module": "@jupyter-widgets/base",
      "model_module_version": "1.2.0",
      "model_name": "LayoutModel",
      "state": {
       "margin": "20px 0px"
      }
     },
     "d35e87005bca48c5862abf4e837a1469": {
      "model_module": "@jupyter-widgets/base",
      "model_module_version": "1.2.0",
      "model_name": "LayoutModel",
      "state": {}
     },
     "d36a68cedc804dc0b13148f20e8408ad": {
      "model_module": "@jupyter-widgets/base",
      "model_module_version": "1.2.0",
      "model_name": "LayoutModel",
      "state": {}
     },
     "d3b85fda8a3a4608a7bd96283095fedd": {
      "model_module": "@jupyter-widgets/base",
      "model_module_version": "1.2.0",
      "model_name": "LayoutModel",
      "state": {}
     },
     "d3c8eaeaa4374bc98c5ce17157ddbceb": {
      "model_module": "@jupyter-widgets/base",
      "model_module_version": "1.2.0",
      "model_name": "LayoutModel",
      "state": {}
     },
     "d3ca847489164ca4957ed12a3dbe22f6": {
      "model_module": "@jupyter-widgets/base",
      "model_module_version": "1.2.0",
      "model_name": "LayoutModel",
      "state": {}
     },
     "d3d0321f778b46a983a5df14ef76dfa1": {
      "model_module": "@jupyter-widgets/controls",
      "model_module_version": "1.5.0",
      "model_name": "IntSliderModel",
      "state": {
       "description": "value",
       "layout": "IPY_MODEL_a88837dec5b742f6a10d5977330bd661",
       "max": 5,
       "min": 1,
       "style": "IPY_MODEL_bd75e9ca86e44f438e2c480a32fa8470",
       "value": 4
      }
     },
     "d40cd5784b9640ce86140f6d8eb19ad7": {
      "model_module": "@jupyter-widgets/controls",
      "model_module_version": "1.5.0",
      "model_name": "DescriptionStyleModel",
      "state": {
       "description_width": ""
      }
     },
     "d424753ad3c64d0f984ef5b30358ea64": {
      "model_module": "@jupyter-widgets/controls",
      "model_module_version": "1.5.0",
      "model_name": "TabModel",
      "state": {
       "layout": "IPY_MODEL_8f76a051af3b4aafaab23bc142f7301f"
      }
     },
     "d42dda3cd9cf477195bbad7f92515edb": {
      "model_module": "@jupyter-widgets/controls",
      "model_module_version": "1.5.0",
      "model_name": "ButtonStyleModel",
      "state": {}
     },
     "d436543783c8447f81f559995965920f": {
      "model_module": "@jupyter-widgets/base",
      "model_module_version": "1.2.0",
      "model_name": "LayoutModel",
      "state": {}
     },
     "d4426702c7c94b0aac24491668d12154": {
      "model_module": "@jupyter-widgets/base",
      "model_module_version": "1.2.0",
      "model_name": "LayoutModel",
      "state": {}
     },
     "d472e1655a9444f0b18024002a8daeb0": {
      "model_module": "@jupyter-widgets/base",
      "model_module_version": "1.2.0",
      "model_name": "LayoutModel",
      "state": {
       "margin": "20px 0px"
      }
     },
     "d4a3882e55824a1d825972ac5448b018": {
      "model_module": "@jupyter-widgets/controls",
      "model_module_version": "1.5.0",
      "model_name": "HBoxModel",
      "state": {
       "children": [
        "IPY_MODEL_f365e1e598254f48b575a161866cb1f1",
        "IPY_MODEL_1030b8cd0553429ca4407dc816bce54f",
        "IPY_MODEL_621e07a0b5ec49b6b5a0a7168a74a2d5"
       ],
       "layout": "IPY_MODEL_79cc09f67f094bd29d9ce3042a56b272"
      }
     },
     "d4db273c64d04656a9b57533239e7872": {
      "model_module": "@jupyter-widgets/controls",
      "model_module_version": "1.5.0",
      "model_name": "TextModel",
      "state": {
       "continuous_update": false,
       "description": "name",
       "layout": "IPY_MODEL_5c2170886bb84b0fb0345314e6a3925d",
       "style": "IPY_MODEL_9824adc57ba049e4afcc27d45ea5872d",
       "value": "color_1"
      }
     },
     "d4ef39502216401ca3c2e7381d844b04": {
      "model_module": "@jupyter-widgets/base",
      "model_module_version": "1.2.0",
      "model_name": "LayoutModel",
      "state": {}
     },
     "d4fcee8507e649a6822506b7eaf235b2": {
      "model_module": "@jupyter-widgets/base",
      "model_module_version": "1.2.0",
      "model_name": "LayoutModel",
      "state": {}
     },
     "d522f154218a4d53baef2b0682693996": {
      "model_module": "@jupyter-widgets/base",
      "model_module_version": "1.2.0",
      "model_name": "LayoutModel",
      "state": {}
     },
     "d52fb0d8ec634c9e8f5209c9cbd03a9e": {
      "model_module": "@jupyter-widgets/base",
      "model_module_version": "1.2.0",
      "model_name": "LayoutModel",
      "state": {}
     },
     "d52fd3cce3b24ccfb6f4046c55f71e0a": {
      "model_module": "@jupyter-widgets/controls",
      "model_module_version": "1.5.0",
      "model_name": "ColorPickerModel",
      "state": {
       "description": "emission",
       "disabled": false,
       "layout": "IPY_MODEL_a52d14ce28c94f17afce4575f5ea57dd",
       "style": "IPY_MODEL_ed774bc03b0a4afcae5f17c89042e491",
       "value": "#000000"
      }
     },
     "d533d0f7e8d44a358083da646ae1b1c9": {
      "model_module": "@jupyter-widgets/controls",
      "model_module_version": "1.5.0",
      "model_name": "TextModel",
      "state": {
       "continuous_update": false,
       "description": "name",
       "layout": "IPY_MODEL_a19a36aed4ac40049951a2984ceedf3b",
       "style": "IPY_MODEL_83cf2697568b4f3fa8e2fa044d788093",
       "value": "radinc"
      }
     },
     "d5451f4d3ae8401ab534c5136e99f785": {
      "model_module": "@jupyter-widgets/controls",
      "model_module_version": "1.5.0",
      "model_name": "DropdownModel",
      "state": {
       "_options_labels": [
        "maxorder",
        "radinc",
        "nb_axes"
       ],
       "index": 0,
       "layout": "IPY_MODEL_024c0a7ea2924ff5a9d4b4e8dd33f20f",
       "style": "IPY_MODEL_0d2e16e55e4f4049983e0cbb83eb2316"
      }
     },
     "d56364ff1cc441588f37f856b104fb7f": {
      "model_module": "@jupyter-widgets/base",
      "model_module_version": "1.2.0",
      "model_name": "LayoutModel",
      "state": {}
     },
     "d563b21fb0e44bff9f75ce1b0e25866e": {
      "model_module": "@jupyter-widgets/controls",
      "model_module_version": "1.5.0",
      "model_name": "ButtonStyleModel",
      "state": {}
     },
     "d57615a69c10480d8db062fc5e36385d": {
      "model_module": "@jupyter-widgets/controls",
      "model_module_version": "1.5.0",
      "model_name": "DescriptionStyleModel",
      "state": {
       "description_width": ""
      }
     },
     "d57e2be537e04b77bd713ec999a5c5a4": {
      "model_module": "@jupyter-widgets/controls",
      "model_module_version": "1.5.0",
      "model_name": "SliderStyleModel",
      "state": {
       "description_width": ""
      }
     },
     "d5962bdf3e204a32a0c5f001c01c8af8": {
      "model_module": "@jupyter-widgets/controls",
      "model_module_version": "1.5.0",
      "model_name": "DescriptionStyleModel",
      "state": {
       "description_width": ""
      }
     },
     "d59eedfe91e040bd83b09d32a1718f4b": {
      "model_module": "@jupyter-widgets/controls",
      "model_module_version": "1.5.0",
      "model_name": "SliderStyleModel",
      "state": {
       "description_width": ""
      }
     },
     "d5bad5e9916e489c92ca26665824ec2d": {
      "model_module": "@jupyter-widgets/controls",
      "model_module_version": "1.5.0",
      "model_name": "SliderStyleModel",
      "state": {
       "description_width": ""
      }
     },
     "d5cd15e37f944ccfa4bf1cdd3348f4c7": {
      "model_module": "@jupyter-widgets/controls",
      "model_module_version": "1.5.0",
      "model_name": "SliderStyleModel",
      "state": {
       "description_width": ""
      }
     },
     "d5cd4fb599cb46fc948cd99e2e1b54e4": {
      "model_module": "@jupyter-widgets/base",
      "model_module_version": "1.2.0",
      "model_name": "LayoutModel",
      "state": {}
     },
     "d64b99f37a81429489c488b69a00175d": {
      "model_module": "@jupyter-widgets/controls",
      "model_module_version": "1.5.0",
      "model_name": "FloatSliderModel",
      "state": {
       "description": "transparency",
       "layout": "IPY_MODEL_51298c491bb74c49aa13975c0b81b43a",
       "max": 1,
       "step": 0.1,
       "style": "IPY_MODEL_d24ed236d364492488ac20992dc448f3"
      }
     },
     "d6e29de606464a1eada931b449337734": {
      "model_module": "@jupyter-widgets/controls",
      "model_module_version": "1.5.0",
      "model_name": "DescriptionStyleModel",
      "state": {
       "description_width": ""
      }
     },
     "d734a536300949189433eec18ebe49d5": {
      "model_module": "@jupyter-widgets/controls",
      "model_module_version": "1.5.0",
      "model_name": "IntSliderModel",
      "state": {
       "description": "value",
       "layout": "IPY_MODEL_973da0ef21a546739fbc9361cd34bfe5",
       "max": 10,
       "min": 1,
       "style": "IPY_MODEL_d5bad5e9916e489c92ca26665824ec2d",
       "value": 2
      }
     },
     "d77925c6797142988e94711a23d04d7b": {
      "model_module": "@jupyter-widgets/base",
      "model_module_version": "1.2.0",
      "model_name": "LayoutModel",
      "state": {}
     },
     "d77d077081bb4eb8baa6f71acfaca80d": {
      "model_module": "@jupyter-widgets/controls",
      "model_module_version": "1.5.0",
      "model_name": "HBoxModel",
      "state": {
       "children": [
        "IPY_MODEL_ec25e9001eaf45e69cf86327398a4adc",
        "IPY_MODEL_1a768dffa91045cdbec62fd051859942"
       ],
       "layout": "IPY_MODEL_f7ff34c66d4b431c8d7a458913ac23de"
      }
     },
     "d79e5da1ec2d4eff8b5b67ab8d2838d8": {
      "model_module": "pgljupyter",
      "model_module_version": "^0.1.17",
      "model_name": "IntEditorModel",
      "state": {
       "_model_module_version": "^0.1.17",
       "_view_module_version": "^0.1.17",
       "children": [
        "IPY_MODEL_b026cfdea7f24109b3207938d8293f82",
        "IPY_MODEL_fa78c56a5cee470db3de6e4fe2ec4481"
       ],
       "layout": "IPY_MODEL_1aeee9874bc84466bbeb7bfb15647305"
      }
     },
     "d7b73a835c6a400fa37fb014990bed66": {
      "model_module": "@jupyter-widgets/base",
      "model_module_version": "1.2.0",
      "model_name": "LayoutModel",
      "state": {}
     },
     "d7e2fe307b4148cfac6f5e85faa87f8d": {
      "model_module": "pgljupyter",
      "model_module_version": "^0.1.21",
      "model_name": "MaterialEditorModel",
      "state": {
       "_model_module_version": "^0.1.21",
       "_view_module_version": "^0.1.21",
       "children": [
        "IPY_MODEL_399fc3d82a3b4cb6984cdc1806f6c118",
        "IPY_MODEL_203079255d89445eaa5a11bb556a37d5",
        "IPY_MODEL_058c249a39c04bedbadbabfd56c8cbca",
        "IPY_MODEL_a6b2268c582b4593aeb1fd6140283cda",
        "IPY_MODEL_fcc4f1c9cd4740db81b92272d44020c6",
        "IPY_MODEL_5d665054e5a24fcc86e9f3d114ca7382",
        "IPY_MODEL_455ba0e06d5247ffb20550cc7189a0a9",
        "IPY_MODEL_e64b8d9963944b6982872e56c1d1076b"
       ],
       "layout": "IPY_MODEL_fe21590a178c49c09a36c5fb9b0fb406"
      }
     },
     "d823d7a84c874bdfa2e19e5a2952a317": {
      "model_module": "@jupyter-widgets/base",
      "model_module_version": "1.2.0",
      "model_name": "LayoutModel",
      "state": {}
     },
     "d826944e71484a12ba8264f9980eaa85": {
      "model_module": "@jupyter-widgets/controls",
      "model_module_version": "1.5.0",
      "model_name": "DescriptionStyleModel",
      "state": {
       "description_width": ""
      }
     },
     "d8984fabe4b64cf5badca23730a3e99f": {
      "model_module": "@jupyter-widgets/controls",
      "model_module_version": "1.5.0",
      "model_name": "TextModel",
      "state": {
       "continuous_update": false,
       "description": "name",
       "layout": "IPY_MODEL_e292b053762d44a8b5698ced23674c83",
       "style": "IPY_MODEL_5c8ee91aecec463e82900f71a4a9e81d",
       "value": "trunk"
      }
     },
     "d8b198bfac424258a47a890f63440c67": {
      "model_module": "@jupyter-widgets/base",
      "model_module_version": "1.2.0",
      "model_name": "LayoutModel",
      "state": {}
     },
     "d8b7d3f852be4323a7cb38d583268863": {
      "model_module": "@jupyter-widgets/base",
      "model_module_version": "1.2.0",
      "model_name": "LayoutModel",
      "state": {}
     },
     "d8d73c6794a64b41a4b085d7b2422110": {
      "model_module": "@jupyter-widgets/base",
      "model_module_version": "1.2.0",
      "model_name": "LayoutModel",
      "state": {}
     },
     "d8dd6096e07649cb8ceb51b260ceb49f": {
      "model_module": "@jupyter-widgets/controls",
      "model_module_version": "1.5.0",
      "model_name": "DescriptionStyleModel",
      "state": {
       "description_width": ""
      }
     },
     "d91926552cc04101b20b93a25091f15a": {
      "model_module": "@jupyter-widgets/controls",
      "model_module_version": "1.5.0",
      "model_name": "TextModel",
      "state": {
       "continuous_update": false,
       "description": "name",
       "layout": "IPY_MODEL_255de9b06ec0472aaa589e58b2badd2d",
       "style": "IPY_MODEL_a01d9dc1f8e34f3296fd8d2ea826ec8c",
       "value": "radinc"
      }
     },
     "d91ab3eec5c24eb6a0c9226f899b6e7a": {
      "model_module": "@jupyter-widgets/controls",
      "model_module_version": "1.5.0",
      "model_name": "HBoxModel",
      "state": {
       "children": [
        "IPY_MODEL_0e54aa9513264caeb2d9412ade1c3ad8",
        "IPY_MODEL_216b5684e13748dbbbd395dfcfccad08"
       ],
       "layout": "IPY_MODEL_3bc19bb63ddf48d997c4e036a6b93e14"
      }
     },
     "d93f65b8733e49b29dc3b7e7a44ec509": {
      "model_module": "@jupyter-widgets/controls",
      "model_module_version": "1.5.0",
      "model_name": "SliderStyleModel",
      "state": {
       "description_width": ""
      }
     },
     "d94927052fb046c4b476563ba1404936": {
      "model_module": "@jupyter-widgets/controls",
      "model_module_version": "1.5.0",
      "model_name": "ButtonModel",
      "state": {
       "description": "Delete",
       "layout": "IPY_MODEL_2e291dc0a02b4b878cc21b93ac478bfd",
       "style": "IPY_MODEL_18abd2b200874f98af3b0f2c86c1a019"
      }
     },
     "d96933ee81db49b7a9317685439d454c": {
      "model_module": "@jupyter-widgets/controls",
      "model_module_version": "1.5.0",
      "model_name": "DescriptionStyleModel",
      "state": {
       "description_width": ""
      }
     },
     "d96944e0d08c4a04aa0b00a6367b12c9": {
      "model_module": "@jupyter-widgets/base",
      "model_module_version": "1.2.0",
      "model_name": "LayoutModel",
      "state": {}
     },
     "d978d64c481643da8a0c61fcd3e368e3": {
      "model_module": "@jupyter-widgets/base",
      "model_module_version": "1.2.0",
      "model_name": "LayoutModel",
      "state": {}
     },
     "d98400c8547342cb8a67ecbb1f113126": {
      "model_module": "@jupyter-widgets/controls",
      "model_module_version": "1.5.0",
      "model_name": "DescriptionStyleModel",
      "state": {
       "description_width": ""
      }
     },
     "d9b886e295724cc9a420de8dcc17e338": {
      "model_module": "@jupyter-widgets/controls",
      "model_module_version": "1.5.0",
      "model_name": "ButtonModel",
      "state": {
       "description": "Add",
       "layout": "IPY_MODEL_3eaf0cde17004332ab35b0f57fc0d75b",
       "style": "IPY_MODEL_09d6bc5c5f48421884c5070738ff6283"
      }
     },
     "d9ccb67aeb914dbebc9157bdfb5dc23d": {
      "model_module": "@jupyter-widgets/base",
      "model_module_version": "1.2.0",
      "model_name": "LayoutModel",
      "state": {}
     },
     "d9d4c404d76e436f8e9995638352fdaa": {
      "model_module": "@jupyter-widgets/controls",
      "model_module_version": "1.5.0",
      "model_name": "ButtonStyleModel",
      "state": {}
     },
     "d9fb92da354f41de80d8aed312a46ccd": {
      "model_module": "@jupyter-widgets/controls",
      "model_module_version": "1.5.0",
      "model_name": "ButtonStyleModel",
      "state": {}
     },
     "d9fed144986740a4aebc4a2d4217ab60": {
      "model_module": "@jupyter-widgets/controls",
      "model_module_version": "1.5.0",
      "model_name": "DescriptionStyleModel",
      "state": {
       "description_width": ""
      }
     },
     "da13191a83f844c595b3cff32e04df31": {
      "model_module": "@jupyter-widgets/controls",
      "model_module_version": "1.5.0",
      "model_name": "ButtonModel",
      "state": {
       "description": "Add",
       "layout": "IPY_MODEL_5b833389726149e891e43233e262af30",
       "style": "IPY_MODEL_11d8025c13d9418dab33da381333379c"
      }
     },
     "da90b6b6b6334b2d8566268731ae92f4": {
      "model_module": "@jupyter-widgets/controls",
      "model_module_version": "1.5.0",
      "model_name": "DropdownModel",
      "state": {
       "_options_labels": [
        "leafduration",
        "leafold",
        "maxorder",
        "radinc",
        "nb_axes"
       ],
       "index": 0,
       "layout": "IPY_MODEL_ae707f5167d74fc69acaaf741eb5e5de",
       "style": "IPY_MODEL_d826944e71484a12ba8264f9980eaa85"
      }
     },
     "da94d7f0e6e045988d94aba69d5be576": {
      "model_module": "@jupyter-widgets/controls",
      "model_module_version": "1.5.0",
      "model_name": "TextModel",
      "state": {
       "continuous_update": false,
       "description": "name",
       "layout": "IPY_MODEL_36cefaebd481433a986da12e8f4ca923",
       "style": "IPY_MODEL_4700fadcbf6740eeacfb5f4d5442bcc5",
       "value": "radinc"
      }
     },
     "dab8e9c05b4743e0910867303374e23e": {
      "model_module": "pgljupyter",
      "model_module_version": "^0.1.16",
      "model_name": "MaterialEditorModel",
      "state": {
       "_model_module_version": "^0.1.16",
       "_view_module_version": "^0.1.16",
       "children": [
        "IPY_MODEL_677b6979d18a4369b43c7d2c7055d352",
        "IPY_MODEL_1f8ab0fca1c04c59ba41957779688c40",
        "IPY_MODEL_9db215c1ff3242bab8eb9533ae4c1142",
        "IPY_MODEL_7820f3eb666143e08c9689ceabf9f92e",
        "IPY_MODEL_2cbe2b9f20a14b2c9ff7c42cc96e34c6",
        "IPY_MODEL_00d6b976c7584356bc8ace10cc276390",
        "IPY_MODEL_5d1acbde1263434ca0516af8b1e818ec",
        "IPY_MODEL_c16429a9bfff45a981471a788dca62c2"
       ],
       "layout": "IPY_MODEL_9b3e11ebb803450b986ba009cd7271d1"
      }
     },
     "dad1575e212b4ec78e51228ec3ee5775": {
      "model_module": "@jupyter-widgets/controls",
      "model_module_version": "1.5.0",
      "model_name": "BoundedIntTextModel",
      "state": {
       "description": "index",
       "layout": "IPY_MODEL_ceffb090a5a74d579c94f7381b9a47f0",
       "style": "IPY_MODEL_6cc1f038278244dfa83d00a7f7e12088",
       "value": 3
      }
     },
     "dae8d0d2b5a24ba3a4caef5ae026ea60": {
      "model_module": "@jupyter-widgets/base",
      "model_module_version": "1.2.0",
      "model_name": "LayoutModel",
      "state": {}
     },
     "daf71e2b2a7543cb8dcc73b7d06ecdcf": {
      "model_module": "@jupyter-widgets/controls",
      "model_module_version": "1.5.0",
      "model_name": "TextModel",
      "state": {
       "continuous_update": false,
       "description": "name",
       "layout": "IPY_MODEL_7b34d047a75145ef93c9d2ba934f66f1",
       "style": "IPY_MODEL_61604db4d90b46a3a0031ae5119c1516",
       "value": "leafduration"
      }
     },
     "db23eda7382441b68d87f582fc44c2e1": {
      "model_module": "@jupyter-widgets/controls",
      "model_module_version": "1.5.0",
      "model_name": "TextModel",
      "state": {
       "continuous_update": false,
       "description": "name",
       "layout": "IPY_MODEL_3eb5de6cfa8c4221935e7232c267b322",
       "style": "IPY_MODEL_7be0e86f808844688593b2ba1a25b20d",
       "value": "leaf_new"
      }
     },
     "db5323087b2145deaac82eae65704511": {
      "model_module": "pgljupyter",
      "model_module_version": "^0.1.21",
      "model_name": "LsystemWidgetModel",
      "state": {
       "_model_module_version": "^0.1.21",
       "_view_module_version": "^0.1.21",
       "axes_helper": false,
       "derivationLength": 42,
       "layout": "IPY_MODEL_37a93703112240f1b4ba6fd167b2abd8",
       "light_helper": false,
       "plane": true,
       "size_display": [
        400,
        400
       ],
       "size_world": 50
      }
     },
     "db5f6dc768de4f52af107562f58156fb": {
      "model_module": "@jupyter-widgets/controls",
      "model_module_version": "1.5.0",
      "model_name": "ButtonModel",
      "state": {
       "description": "Add",
       "layout": "IPY_MODEL_207d2c2ed4094de6aa559901cd22e572",
       "style": "IPY_MODEL_2d9fad0b565a4646b1f726689ed625fc"
      }
     },
     "db946cbbdb794b6498a7220ba95a9042": {
      "model_module": "@jupyter-widgets/base",
      "model_module_version": "1.2.0",
      "model_name": "LayoutModel",
      "state": {}
     },
     "db9ed437c56e4afcaea7ce8551e64a91": {
      "model_module": "@jupyter-widgets/controls",
      "model_module_version": "1.5.0",
      "model_name": "TextModel",
      "state": {
       "continuous_update": false,
       "description": "name",
       "layout": "IPY_MODEL_65dc7f4bbf724d46a564ee783e7d55ea",
       "style": "IPY_MODEL_12b07df7fcbf4176ac7229ec42a4a560",
       "value": "maxorder"
      }
     },
     "dbbb98e68fb84fce957f5e756020dae8": {
      "model_module": "pgljupyter",
      "model_module_version": "^0.2.0",
      "model_name": "MaterialEditorModel",
      "state": {
       "_model_module_version": "^0.2.0",
       "_view_module_version": "^0.2.0",
       "children": [
        "IPY_MODEL_b9187b3d01e648a38efb74ee0b7e94b9",
        "IPY_MODEL_dc1ef78af5234098ac8a751f55731b43",
        "IPY_MODEL_f8f1b22537ea4775b6a66c4cf9a93b36",
        "IPY_MODEL_42899300951d4816b38de19a05816be9",
        "IPY_MODEL_fb75e480e9124ea2828f538298ff8011",
        "IPY_MODEL_f061060e4659478abd495ee2273bc6da",
        "IPY_MODEL_05501bf0102f432f9032303e1f125371",
        "IPY_MODEL_1e5b82c3498a414dbfb5116f2d3569b5"
       ],
       "layout": "IPY_MODEL_d00cdabea4394c67b9d4871ff44824df"
      }
     },
     "dbf29d67c32f4897a7101f3492b6f2df": {
      "model_module": "@jupyter-widgets/controls",
      "model_module_version": "1.5.0",
      "model_name": "SliderStyleModel",
      "state": {
       "description_width": ""
      }
     },
     "dc1ef78af5234098ac8a751f55731b43": {
      "model_module": "@jupyter-widgets/controls",
      "model_module_version": "1.5.0",
      "model_name": "BoundedIntTextModel",
      "state": {
       "description": "index",
       "layout": "IPY_MODEL_3ef4d136b1234440b78e643c65466054",
       "style": "IPY_MODEL_837f5389dc8e4059a6ec5a95193f8e96",
       "value": 4
      }
     },
     "dc1fc436f2d640ee97620d714ae2e02e": {
      "model_module": "@jupyter-widgets/controls",
      "model_module_version": "1.5.0",
      "model_name": "SliderStyleModel",
      "state": {
       "description_width": ""
      }
     },
     "dc53693171ca4e6f859008d9f7934f2e": {
      "model_module": "@jupyter-widgets/controls",
      "model_module_version": "1.5.0",
      "model_name": "SliderStyleModel",
      "state": {
       "description_width": ""
      }
     },
     "dc6fe4ae93724ee697ccb6414fa8bd2b": {
      "model_module": "@jupyter-widgets/base",
      "model_module_version": "1.2.0",
      "model_name": "LayoutModel",
      "state": {}
     },
     "dc891aa6241b421da0cabf4ab08e3d0e": {
      "model_module": "@jupyter-widgets/controls",
      "model_module_version": "1.5.0",
      "model_name": "TabModel",
      "state": {
       "_titles": {
        "0": "leuwenberg.json"
       },
       "children": [
        "IPY_MODEL_405490f3003747ea84770f0ca8eba3fa"
       ],
       "layout": "IPY_MODEL_d36a68cedc804dc0b13148f20e8408ad"
      }
     },
     "dc9722bd3a6e4f1e855fb518b2065abe": {
      "model_module": "@jupyter-widgets/controls",
      "model_module_version": "1.5.0",
      "model_name": "SliderStyleModel",
      "state": {
       "description_width": ""
      }
     },
     "dc9e29879357411bbba01c813ba6f9f4": {
      "model_module": "@jupyter-widgets/base",
      "model_module_version": "1.2.0",
      "model_name": "LayoutModel",
      "state": {}
     },
     "dcadae9267644afd89d13029c062ea5a": {
      "model_module": "@jupyter-widgets/base",
      "model_module_version": "1.2.0",
      "model_name": "LayoutModel",
      "state": {}
     },
     "dcc995adc6dd4fe097aab757670954b6": {
      "model_module": "@jupyter-widgets/controls",
      "model_module_version": "1.5.0",
      "model_name": "SliderStyleModel",
      "state": {
       "description_width": ""
      }
     },
     "dd0076f5130e4b019ecac08f8ecf14e6": {
      "model_module": "@jupyter-widgets/base",
      "model_module_version": "1.2.0",
      "model_name": "LayoutModel",
      "state": {}
     },
     "dd0ff9c59cde46bcb7cc5f4ac4df69e9": {
      "model_module": "@jupyter-widgets/controls",
      "model_module_version": "1.5.0",
      "model_name": "HBoxModel",
      "state": {
       "children": [
        "IPY_MODEL_eeda36683653443fb2968b0128f1e43c",
        "IPY_MODEL_1447d28562564ca58b3037339e1fd56a",
        "IPY_MODEL_378af3a8594449d3a050f6c1b0b0503f",
        "IPY_MODEL_f99d51312e7442a1b3f60bf6fe6b16a1"
       ],
       "layout": "IPY_MODEL_5ffcfabea4324e77ba7847c89942d8f5"
      }
     },
     "dd2cc788345348a793f5a93c9e888de3": {
      "model_module": "@jupyter-widgets/base",
      "model_module_version": "1.2.0",
      "model_name": "LayoutModel",
      "state": {}
     },
     "dd63929993a7401ab626cf49aa8e47ec": {
      "model_module": "@jupyter-widgets/controls",
      "model_module_version": "1.5.0",
      "model_name": "HBoxModel",
      "state": {
       "children": [
        "IPY_MODEL_36206315b4434144abd918600eba897c",
        "IPY_MODEL_f4bdb1ac62ae4f1ba65cb9bfe80e8b50",
        "IPY_MODEL_04fd9850624b45509d3404170dfb2b93"
       ],
       "layout": "IPY_MODEL_77fc433d7ea240f0b05864afbc6f627a"
      }
     },
     "dd665a625d6d4bd4adf8224a8f2126ec": {
      "model_module": "@jupyter-widgets/base",
      "model_module_version": "1.2.0",
      "model_name": "LayoutModel",
      "state": {}
     },
     "dd91341438fb460cb5355fac879a754e": {
      "model_module": "@jupyter-widgets/controls",
      "model_module_version": "1.5.0",
      "model_name": "ButtonStyleModel",
      "state": {}
     },
     "ddc34eb399b046ce9c7bbcc7bcce04e5": {
      "model_module": "pgljupyter",
      "model_module_version": "^0.1.17",
      "model_name": "IntEditorModel",
      "state": {
       "_model_module_version": "^0.1.17",
       "_view_module_version": "^0.1.17",
       "children": [
        "IPY_MODEL_daf71e2b2a7543cb8dcc73b7d06ecdcf",
        "IPY_MODEL_8e59f23a67514549b0b971a20c8f5644"
       ],
       "layout": "IPY_MODEL_8ab5ba176a154599b445e9556a8031de"
      }
     },
     "dde1071f08f442b987043d10dc31e5dd": {
      "model_module": "@jupyter-widgets/controls",
      "model_module_version": "1.5.0",
      "model_name": "DescriptionStyleModel",
      "state": {
       "description_width": ""
      }
     },
     "de0166a69e364f30890e136c6a843c04": {
      "model_module": "@jupyter-widgets/base",
      "model_module_version": "1.2.0",
      "model_name": "LayoutModel",
      "state": {}
     },
     "de14ab107bb9470f974458da57567aeb": {
      "model_module": "@jupyter-widgets/controls",
      "model_module_version": "1.5.0",
      "model_name": "FloatSliderModel",
      "state": {
       "continuous_update": false,
       "description": "diffuse",
       "layout": "IPY_MODEL_ede64f804344425291e343f1d105c792",
       "max": 3,
       "step": 0.1,
       "style": "IPY_MODEL_df5d8e2022524ba68333e874d0e5efd4",
       "value": 1
      }
     },
     "de17ce4b402f484dad854027cadfb9d2": {
      "model_module": "pgljupyter",
      "model_module_version": "^0.1.19",
      "model_name": "MaterialEditorModel",
      "state": {
       "_model_module_version": "^0.1.19",
       "_view_module_version": "^0.1.19",
       "children": [
        "IPY_MODEL_db23eda7382441b68d87f582fc44c2e1",
        "IPY_MODEL_e7f5ee21dad84e169e218eb28ecfd188",
        "IPY_MODEL_b3b4369a077e494799fb62f23eb0eb47",
        "IPY_MODEL_8ea211ca5b9b4eeba00a371c1b423cca",
        "IPY_MODEL_30d04e67afa2429b8229a2e9aae7d544",
        "IPY_MODEL_0bfc733f831346d3bfd46bb08e6ed994",
        "IPY_MODEL_bbc20920f34a4a74ae6269cb6b203707",
        "IPY_MODEL_af05852e0c454d1081c694c61e2c259d"
       ],
       "layout": "IPY_MODEL_3a06d16c9b3e4435a1ad65bd71604d2e"
      }
     },
     "de26906445994c7e8243365b107e8044": {
      "model_module": "@jupyter-widgets/controls",
      "model_module_version": "1.5.0",
      "model_name": "ColorPickerModel",
      "state": {
       "description": "ambient",
       "disabled": false,
       "layout": "IPY_MODEL_86bbd8bd12314be19909ccb111382a66",
       "style": "IPY_MODEL_5ef60586f6624e7a921466efb2d8a645",
       "value": "#5b4534"
      }
     },
     "de29d9fc92c645568318b3cac8e85baf": {
      "model_module": "@jupyter-widgets/controls",
      "model_module_version": "1.5.0",
      "model_name": "ButtonModel",
      "state": {
       "description": "Delete",
       "layout": "IPY_MODEL_fdc7cdfb71c14e9f9ae8327b7e4919ce",
       "style": "IPY_MODEL_0adb42962e0d46d8a508e6187f7b3e19"
      }
     },
     "de319ccb71084e70b9dbfd5cfb7f274a": {
      "model_module": "@jupyter-widgets/controls",
      "model_module_version": "1.5.0",
      "model_name": "TextModel",
      "state": {
       "continuous_update": false,
       "description": "name",
       "layout": "IPY_MODEL_9b30eab18de94dffbe1a6d676db8158c",
       "style": "IPY_MODEL_27341d701b39454692c62d6ea10319c8",
       "value": "leaf_old"
      }
     },
     "de4816681729453fbf133b79ff9974ac": {
      "model_module": "@jupyter-widgets/controls",
      "model_module_version": "1.5.0",
      "model_name": "BoundedIntTextModel",
      "state": {
       "description": "index",
       "layout": "IPY_MODEL_e46e9699d55948368197d7e8ce85a0a3",
       "style": "IPY_MODEL_60ff2d33083e41a7a9c77037399cc0c7",
       "value": 1
      }
     },
     "de5d2848f27a47be8ceb96df0723fd13": {
      "model_module": "@jupyter-widgets/controls",
      "model_module_version": "1.5.0",
      "model_name": "FloatSliderModel",
      "state": {
       "description": "shininess",
       "layout": "IPY_MODEL_077634b564d442178969045cbf0cef71",
       "max": 1,
       "step": 0.1,
       "style": "IPY_MODEL_662e56ddae0f4169b110443342d419e9",
       "value": 0.2
      }
     },
     "de6204ad1dc341c3909e295e0a51ec00": {
      "model_module": "@jupyter-widgets/controls",
      "model_module_version": "1.5.0",
      "model_name": "ButtonStyleModel",
      "state": {}
     },
     "de6e4ed7a8b84bef9620c99266ab0373": {
      "model_module": "@jupyter-widgets/controls",
      "model_module_version": "1.5.0",
      "model_name": "SliderStyleModel",
      "state": {
       "description_width": ""
      }
     },
     "dea1d7f7b1f545688d4cb2183ee25745": {
      "model_module": "@jupyter-widgets/base",
      "model_module_version": "1.2.0",
      "model_name": "LayoutModel",
      "state": {}
     },
     "deee13f28dc04426826d2dcb4eb4b80e": {
      "model_module": "pgljupyter",
      "model_module_version": "^0.1.17",
      "model_name": "IntEditorModel",
      "state": {
       "_model_module_version": "^0.1.17",
       "_view_module_version": "^0.1.17",
       "children": [
        "IPY_MODEL_6836f870173f481c896bba938c011cdd",
        "IPY_MODEL_cf2d00fcb37046cca0b8754d884949a8"
       ],
       "layout": "IPY_MODEL_6213afc08dc747abb3101b3b00eff81e"
      }
     },
     "df4b301f82c143b6ba68f23b7ee4a4e7": {
      "model_module": "@jupyter-widgets/base",
      "model_module_version": "1.2.0",
      "model_name": "LayoutModel",
      "state": {}
     },
     "df5d8e2022524ba68333e874d0e5efd4": {
      "model_module": "@jupyter-widgets/controls",
      "model_module_version": "1.5.0",
      "model_name": "SliderStyleModel",
      "state": {
       "description_width": ""
      }
     },
     "df696dde9f0e41c2be1075f4577638d5": {
      "model_module": "@jupyter-widgets/base",
      "model_module_version": "1.2.0",
      "model_name": "LayoutModel",
      "state": {}
     },
     "df83175491804b5cb47348424a380b78": {
      "model_module": "@jupyter-widgets/base",
      "model_module_version": "1.2.0",
      "model_name": "LayoutModel",
      "state": {}
     },
     "df8389dbdb414385b534fd6eb31d6a1e": {
      "model_module": "@jupyter-widgets/controls",
      "model_module_version": "1.5.0",
      "model_name": "DescriptionStyleModel",
      "state": {
       "description_width": ""
      }
     },
     "df94b893e16e4d64bc1d78383241b66f": {
      "model_module": "@jupyter-widgets/base",
      "model_module_version": "1.2.0",
      "model_name": "LayoutModel",
      "state": {}
     },
     "dfbf3f0450ae43368952951aba7baba3": {
      "model_module": "@jupyter-widgets/controls",
      "model_module_version": "1.5.0",
      "model_name": "DescriptionStyleModel",
      "state": {
       "description_width": ""
      }
     },
     "dfccc42a1e8f4f4abdf4c85dd83fbdf3": {
      "model_module": "@jupyter-widgets/controls",
      "model_module_version": "1.5.0",
      "model_name": "ButtonStyleModel",
      "state": {}
     },
     "dfd5a1256a954e379bc5aff58a8db58a": {
      "model_module": "pgljupyter",
      "model_module_version": "^0.1.16",
      "model_name": "ParameterEditorModel",
      "state": {
       "_model_module_version": "^0.1.16",
       "_view_module_version": "^0.1.16",
       "children": [
        "IPY_MODEL_50c897762f9846d38e9f8e2de2d19de2"
       ],
       "layout": "IPY_MODEL_d3ca847489164ca4957ed12a3dbe22f6"
      }
     },
     "dfe63aa9d45245879bd179fdae112be6": {
      "model_module": "@jupyter-widgets/base",
      "model_module_version": "1.2.0",
      "model_name": "LayoutModel",
      "state": {}
     },
     "e01ac84da5b94b36859436d3ee12a19e": {
      "model_module": "@jupyter-widgets/base",
      "model_module_version": "1.2.0",
      "model_name": "LayoutModel",
      "state": {}
     },
     "e070c2aed84b414abe7cc619e00e66a3": {
      "model_module": "pgljupyter",
      "model_module_version": "^0.1.19",
      "model_name": "FloatEditorModel",
      "state": {
       "_model_module_version": "^0.1.19",
       "_view_module_version": "^0.1.19",
       "children": [
        "IPY_MODEL_d533d0f7e8d44a358083da646ae1b1c9",
        "IPY_MODEL_4d1d2003f29c41ff8de536581cacd952"
       ],
       "layout": "IPY_MODEL_a4413d9c30754ab7a29140a77c7d2e8f"
      }
     },
     "e0797b2efbd349b591c26c07ddceb9b9": {
      "model_module": "@jupyter-widgets/controls",
      "model_module_version": "1.5.0",
      "model_name": "TextModel",
      "state": {
       "continuous_update": false,
       "description": "name",
       "layout": "IPY_MODEL_bca351d97c6d48f9814da71e4418e3a3",
       "style": "IPY_MODEL_9425b43dcbad4491bb621b1c588f23a2",
       "value": "apex"
      }
     },
     "e084bfa6a964476eace5b955c0359580": {
      "model_module": "@jupyter-widgets/controls",
      "model_module_version": "1.5.0",
      "model_name": "DescriptionStyleModel",
      "state": {
       "description_width": ""
      }
     },
     "e0b3bfd022cf45e4a94fa38c5088e074": {
      "model_module": "@jupyter-widgets/base",
      "model_module_version": "1.2.0",
      "model_name": "LayoutModel",
      "state": {}
     },
     "e0b543b076714cf5958478e4889a5cb7": {
      "model_module": "@jupyter-widgets/controls",
      "model_module_version": "1.5.0",
      "model_name": "ButtonStyleModel",
      "state": {}
     },
     "e0c35736a89f424aa92cf4bb65dd15cd": {
      "model_module": "@jupyter-widgets/controls",
      "model_module_version": "1.5.0",
      "model_name": "DescriptionStyleModel",
      "state": {
       "description_width": ""
      }
     },
     "e0f1782f2a614b3fa512c8365f125d2a": {
      "model_module": "@jupyter-widgets/controls",
      "model_module_version": "1.5.0",
      "model_name": "ColorPickerModel",
      "state": {
       "description": "specular",
       "disabled": false,
       "layout": "IPY_MODEL_bc6ff6dbd47e43719f4d3510291ab07c",
       "style": "IPY_MODEL_fb890f35eb7342de80f4cca03a20aba6",
       "value": "#282828"
      }
     },
     "e11fae69c776418190ad9c7973e97a8d": {
      "model_module": "@jupyter-widgets/base",
      "model_module_version": "1.2.0",
      "model_name": "LayoutModel",
      "state": {
       "margin": "20px 0px"
      }
     },
     "e133259e943747ddbb36e06ec4bf3308": {
      "model_module": "@jupyter-widgets/controls",
      "model_module_version": "1.5.0",
      "model_name": "HBoxModel",
      "state": {
       "children": [
        "IPY_MODEL_c2be0d36854f4826b190f2aef55fd686",
        "IPY_MODEL_9a39bcbc02c34c958a3a2bea5ded14be"
       ],
       "layout": "IPY_MODEL_91ac8e1f9a054b498098ec7954dfe608"
      }
     },
     "e1404da5bac34c6d89711e040aeabc76": {
      "model_module": "pgljupyter",
      "model_module_version": "^0.1.19",
      "model_name": "LsystemWidgetModel",
      "state": {
       "_model_module_version": "^0.1.19",
       "_view_module_version": "^0.1.19",
       "axes_helper": false,
       "derivationLength": 42,
       "layout": "IPY_MODEL_c885c505f74c4f13b9663c38cb480f8a",
       "light_helper": false,
       "plane": true,
       "size_display": [
        600,
        400
       ],
       "size_world": 50
      }
     },
     "e14b8d9da9d94827aa6e7a2c4a59032a": {
      "model_module": "@jupyter-widgets/base",
      "model_module_version": "1.2.0",
      "model_name": "LayoutModel",
      "state": {
       "margin": "20px 0px"
      }
     },
     "e14de5b08dfe4ad19aaeed9488ebd7af": {
      "model_module": "@jupyter-widgets/controls",
      "model_module_version": "1.5.0",
      "model_name": "DescriptionStyleModel",
      "state": {
       "description_width": ""
      }
     },
     "e15fba46cf5946eeb499bb44c328da38": {
      "model_module": "@jupyter-widgets/controls",
      "model_module_version": "1.5.0",
      "model_name": "HBoxModel",
      "state": {
       "layout": "IPY_MODEL_f54b6bb1cd9047f2913448b18542023e"
      }
     },
     "e18491acb9394f188ffa2c3096839935": {
      "model_module": "@jupyter-widgets/base",
      "model_module_version": "1.2.0",
      "model_name": "LayoutModel",
      "state": {
       "margin": "20px 0px"
      }
     },
     "e1a057438d6b4569b6ab77b9fa61b360": {
      "model_module": "@jupyter-widgets/controls",
      "model_module_version": "1.5.0",
      "model_name": "DescriptionStyleModel",
      "state": {
       "description_width": ""
      }
     },
     "e1ad944eafa344f19b268b968727ebe2": {
      "model_module": "@jupyter-widgets/controls",
      "model_module_version": "1.5.0",
      "model_name": "DescriptionStyleModel",
      "state": {
       "description_width": ""
      }
     },
     "e1dcb78514e94e8ba1b4d9d3d4a8e9c9": {
      "model_module": "pgljupyter",
      "model_module_version": "^0.1.17",
      "model_name": "IntEditorModel",
      "state": {
       "_model_module_version": "^0.1.17",
       "_view_module_version": "^0.1.17",
       "children": [
        "IPY_MODEL_4933c3be1ca74d3b87e7deac4ab3fa84",
        "IPY_MODEL_f07a901e6ad14b95a2d72d3015de3a12"
       ],
       "layout": "IPY_MODEL_726ea6227a9140b58c2e2db0b3c05e1f"
      }
     },
     "e20a8ad2869c4320906c5ccb5a2616cb": {
      "model_module": "pgljupyter",
      "model_module_version": "^0.1.17",
      "model_name": "MaterialEditorModel",
      "state": {
       "_model_module_version": "^0.1.17",
       "_view_module_version": "^0.1.17",
       "children": [
        "IPY_MODEL_bfa2cd7f0c5143b98b10a45ec7d2d66d",
        "IPY_MODEL_f5730ea7e7c64ddd832fe8d4f113f656",
        "IPY_MODEL_8796df0ffb5a4d59acfa5e829c472f45",
        "IPY_MODEL_e85c510e27f640a8b1ccdded38f8d8b3",
        "IPY_MODEL_7d0e2b7c25dc4c5799f79fba3304581d",
        "IPY_MODEL_59f8c5abaa8146ce8df8fc46c0f10acb",
        "IPY_MODEL_8c69ffac5b3b44b286de8bc58ff44b45"
       ],
       "layout": "IPY_MODEL_194ad744cbd346c59d513770c2a47af7"
      }
     },
     "e248c6cad0a7477090a5f66a3ae950b9": {
      "model_module": "@jupyter-widgets/controls",
      "model_module_version": "1.5.0",
      "model_name": "DescriptionStyleModel",
      "state": {
       "description_width": ""
      }
     },
     "e24becef77854391b6cd6c67e04932e8": {
      "model_module": "@jupyter-widgets/controls",
      "model_module_version": "1.5.0",
      "model_name": "HBoxModel",
      "state": {
       "children": [
        "IPY_MODEL_273d55f5f31d4648966c52a36a8bc18e",
        "IPY_MODEL_e3ec34b11df74def9f03dc88695a2134",
        "IPY_MODEL_17de7061fc71420fb27975958a62c182",
        "IPY_MODEL_d7e2fe307b4148cfac6f5e85faa87f8d"
       ],
       "layout": "IPY_MODEL_a9b7a5bea64640859355bc1f3bd40aed"
      }
     },
     "e26b5a72c4804b45ac1297a1057354a5": {
      "model_module": "@jupyter-widgets/base",
      "model_module_version": "1.2.0",
      "model_name": "LayoutModel",
      "state": {}
     },
     "e292b053762d44a8b5698ced23674c83": {
      "model_module": "@jupyter-widgets/base",
      "model_module_version": "1.2.0",
      "model_name": "LayoutModel",
      "state": {}
     },
     "e2959aa92f7d44c2a5d6d06683c7f898": {
      "model_module": "@jupyter-widgets/controls",
      "model_module_version": "1.5.0",
      "model_name": "DescriptionStyleModel",
      "state": {
       "description_width": ""
      }
     },
     "e29b2ad0e6b8400997e87c1b714baead": {
      "model_module": "@jupyter-widgets/controls",
      "model_module_version": "1.5.0",
      "model_name": "DescriptionStyleModel",
      "state": {
       "description_width": ""
      }
     },
     "e29bcf91cb1e4caebd131a237b84ab1c": {
      "model_module": "@jupyter-widgets/controls",
      "model_module_version": "1.5.0",
      "model_name": "HBoxModel",
      "state": {
       "children": [
        "IPY_MODEL_2c7e43047da344c297659bb5c7099369",
        "IPY_MODEL_f6729743e45f4de5a242dd5d165d2def"
       ],
       "layout": "IPY_MODEL_5a6aab1bb709492da4f69389f9069c24"
      }
     },
     "e2b4d21119d04c5993eb5c2b5a4963b5": {
      "model_module": "@jupyter-widgets/controls",
      "model_module_version": "1.5.0",
      "model_name": "CheckboxModel",
      "state": {
       "description": "Auto save",
       "disabled": false,
       "layout": "IPY_MODEL_42f86bc00ec5429c81b76ab0e86707fb",
       "style": "IPY_MODEL_06d9cff05cf34ec997de5253b4ff518b",
       "value": false
      }
     },
     "e2b7f42fba7146f9bd943e2d6c422529": {
      "model_module": "@jupyter-widgets/controls",
      "model_module_version": "1.5.0",
      "model_name": "DropdownModel",
      "state": {
       "_options_labels": [
        "NurbsCurve2D",
        "BezierCurve2D",
        "Polyline2D",
        "Function"
       ],
       "index": 0,
       "layout": "IPY_MODEL_8f003cdb574545128b2ee385bb6fff88",
       "style": "IPY_MODEL_d30ebfc6c53341ae9babc1bd412860bb"
      }
     },
     "e2c963c5cf35423c8c5649096e21e578": {
      "model_module": "@jupyter-widgets/base",
      "model_module_version": "1.2.0",
      "model_name": "LayoutModel",
      "state": {}
     },
     "e2d47736c0754f9393bb161a36bacf08": {
      "model_module": "@jupyter-widgets/controls",
      "model_module_version": "1.5.0",
      "model_name": "DescriptionStyleModel",
      "state": {
       "description_width": ""
      }
     },
     "e2de1706c64a496781bb68ab5f7e1f36": {
      "model_module": "@jupyter-widgets/controls",
      "model_module_version": "1.5.0",
      "model_name": "SliderStyleModel",
      "state": {
       "description_width": ""
      }
     },
     "e31340ac99da4ee18383b2d4c477aeb3": {
      "model_module": "@jupyter-widgets/controls",
      "model_module_version": "1.5.0",
      "model_name": "ButtonModel",
      "state": {
       "description": "Save changes",
       "layout": "IPY_MODEL_1324cf2f342444ac9b195b6b763a321b",
       "style": "IPY_MODEL_bf6182a681a644ffb5f47c17cb2d1bed"
      }
     },
     "e313ecd7771845129142078320e10db3": {
      "model_module": "@jupyter-widgets/controls",
      "model_module_version": "1.5.0",
      "model_name": "ButtonStyleModel",
      "state": {}
     },
     "e34f318fa38c48f0a73bd526ad11af14": {
      "model_module": "@jupyter-widgets/controls",
      "model_module_version": "1.5.0",
      "model_name": "ButtonStyleModel",
      "state": {}
     },
     "e398a8e953fe495eb8604e9e87b8bb52": {
      "model_module": "@jupyter-widgets/base",
      "model_module_version": "1.2.0",
      "model_name": "LayoutModel",
      "state": {}
     },
     "e39dd960334045baa4c5674dbf8c74ab": {
      "model_module": "@jupyter-widgets/controls",
      "model_module_version": "1.5.0",
      "model_name": "ColorPickerModel",
      "state": {
       "description": "specular",
       "disabled": false,
       "layout": "IPY_MODEL_06f8a562f9034b0ba639a25d04acfbdb",
       "style": "IPY_MODEL_b8c6aa5fe700489f83372cd01f2b146f",
       "value": "#282828"
      }
     },
     "e39e2498279249fda7dc6eebafd8b0bb": {
      "model_module": "@jupyter-widgets/controls",
      "model_module_version": "1.5.0",
      "model_name": "DescriptionStyleModel",
      "state": {
       "description_width": ""
      }
     },
     "e3e60ccbc1cb456a81c849bf7a485b87": {
      "model_module": "pgljupyter",
      "model_module_version": "^0.1.17",
      "model_name": "MaterialEditorModel",
      "state": {
       "_model_module_version": "^0.1.17",
       "_view_module_version": "^0.1.17",
       "children": [
        "IPY_MODEL_0241bcf8e4d449588382dcfa0fadf1f7",
        "IPY_MODEL_1e6010c917c4441f8d05dacd1cf3a5ba",
        "IPY_MODEL_37bad97f36864d09b884b5b159f845c5",
        "IPY_MODEL_6af77e29019b4e689db91f5541c76b14",
        "IPY_MODEL_ffd2e60a3312408a8134cc48bad3dece",
        "IPY_MODEL_0108f7fc56644931b6e9ab7e757df267",
        "IPY_MODEL_ae65c9b1a7014f46b4d4736a9946ae5f"
       ],
       "layout": "IPY_MODEL_fa6085381b324435aa9032f0b10413fd"
      }
     },
     "e3ec34b11df74def9f03dc88695a2134": {
      "model_module": "pgljupyter",
      "model_module_version": "^0.1.21",
      "model_name": "MaterialEditorModel",
      "state": {
       "_model_module_version": "^0.1.21",
       "_view_module_version": "^0.1.21",
       "children": [
        "IPY_MODEL_33ecac72bc1645e0b487c066dc742e70",
        "IPY_MODEL_8941e806cfbc4ef79a7ebe1a33c9c387",
        "IPY_MODEL_fb0c1e5b61d44683adf9f59f2d517439",
        "IPY_MODEL_c3f4c1f812d844ea9207b9e5e852348d",
        "IPY_MODEL_fcb10f0aee304daf943e423fda4b86f2",
        "IPY_MODEL_e47a5e4d527f4a4b854d6b623726ae1b",
        "IPY_MODEL_fc127ff6172e4b0984f4d7a91e171c32",
        "IPY_MODEL_e42d49eb989a4968b069bd8144730392"
       ],
       "layout": "IPY_MODEL_1042939b8e694adbb61cbf705e83ecb6"
      }
     },
     "e41cb6704a0a4c06a028ae53e9f988ee": {
      "model_module": "@jupyter-widgets/controls",
      "model_module_version": "1.5.0",
      "model_name": "DescriptionStyleModel",
      "state": {
       "description_width": ""
      }
     },
     "e42d49eb989a4968b069bd8144730392": {
      "model_module": "@jupyter-widgets/controls",
      "model_module_version": "1.5.0",
      "model_name": "FloatSliderModel",
      "state": {
       "description": "shininess",
       "layout": "IPY_MODEL_83ef4ea6f520490ea97b0fec684c68ff",
       "max": 1,
       "step": 0.1,
       "style": "IPY_MODEL_d10f09db7b844047b372a716b8a9dd49",
       "value": 0.2
      }
     },
     "e44d5599b2144e3c955924c9a83a3864": {
      "model_module": "@jupyter-widgets/base",
      "model_module_version": "1.2.0",
      "model_name": "LayoutModel",
      "state": {}
     },
     "e45efbec269d4f03b8dd09502f95fedc": {
      "model_module": "@jupyter-widgets/controls",
      "model_module_version": "1.5.0",
      "model_name": "DescriptionStyleModel",
      "state": {
       "description_width": ""
      }
     },
     "e46e9699d55948368197d7e8ce85a0a3": {
      "model_module": "@jupyter-widgets/base",
      "model_module_version": "1.2.0",
      "model_name": "LayoutModel",
      "state": {}
     },
     "e47a5e4d527f4a4b854d6b623726ae1b": {
      "model_module": "@jupyter-widgets/controls",
      "model_module_version": "1.5.0",
      "model_name": "FloatSliderModel",
      "state": {
       "description": "diffuse",
       "layout": "IPY_MODEL_0152374133564b448491bef7e0098d98",
       "max": 3,
       "step": 0.1,
       "style": "IPY_MODEL_84167ac2f5b54a72a1dcecd5e7898942",
       "value": 1
      }
     },
     "e483f04bf9ee473983a54480be56ae94": {
      "model_module": "@jupyter-widgets/base",
      "model_module_version": "1.2.0",
      "model_name": "LayoutModel",
      "state": {}
     },
     "e4b212a605144a07b42605253ab3a016": {
      "model_module": "@jupyter-widgets/base",
      "model_module_version": "1.2.0",
      "model_name": "LayoutModel",
      "state": {}
     },
     "e4bcad903cd24e668755c12c6ad16d21": {
      "model_module": "@jupyter-widgets/controls",
      "model_module_version": "1.5.0",
      "model_name": "DescriptionStyleModel",
      "state": {
       "description_width": ""
      }
     },
     "e4e8b085a5c24ad6a92920665a7ee169": {
      "model_module": "@jupyter-widgets/controls",
      "model_module_version": "1.5.0",
      "model_name": "SliderStyleModel",
      "state": {
       "description_width": ""
      }
     },
     "e4f1064e7adb4c35be9fbfc786d26ca6": {
      "model_module": "@jupyter-widgets/controls",
      "model_module_version": "1.5.0",
      "model_name": "FloatSliderModel",
      "state": {
       "description": "value",
       "layout": "IPY_MODEL_f809bb47cbf94d079b9331253cf0b41b",
       "max": 0.1,
       "min": 0.01,
       "step": 0.01,
       "style": "IPY_MODEL_25389c05c9a74d9a98ad640a1da0dc90",
       "value": 0.02
      }
     },
     "e4ff954f4c8a42249bb72fd9a209830d": {
      "model_module": "pgljupyter",
      "model_module_version": "^0.1.21",
      "model_name": "IntEditorModel",
      "state": {
       "_model_module_version": "^0.1.21",
       "_view_module_version": "^0.1.21",
       "children": [
        "IPY_MODEL_4d9c47832bb743058b80a0b7ef230074",
        "IPY_MODEL_283766ded61e469895271b99cd20aee7"
       ],
       "layout": "IPY_MODEL_2b06ff77988044cbbe92812f8d420a23"
      }
     },
     "e53a81fe5d75435cb12952d290d8bed4": {
      "model_module": "@jupyter-widgets/base",
      "model_module_version": "1.2.0",
      "model_name": "LayoutModel",
      "state": {}
     },
     "e54d243ca25f4afebedf9a6e4d26c2b5": {
      "model_module": "@jupyter-widgets/base",
      "model_module_version": "1.2.0",
      "model_name": "LayoutModel",
      "state": {}
     },
     "e5dac1ed4b934727b6efb2c2f6bbcf39": {
      "model_module": "pgljupyter",
      "model_module_version": "^0.1.17",
      "model_name": "FloatEditorModel",
      "state": {
       "_model_module_version": "^0.1.17",
       "_view_module_version": "^0.1.17",
       "children": [
        "IPY_MODEL_55f0f039861f4c7cb7fc94899c53e0f6",
        "IPY_MODEL_e4f1064e7adb4c35be9fbfc786d26ca6"
       ],
       "layout": "IPY_MODEL_85fb0b1c46a34071837318e83df4549c"
      }
     },
     "e635d4b4c4cd44f2a336ab38518f4c9b": {
      "model_module": "@jupyter-widgets/controls",
      "model_module_version": "1.5.0",
      "model_name": "DescriptionStyleModel",
      "state": {
       "description_width": ""
      }
     },
     "e6443316e4e84f1e846bdb3a768365cf": {
      "model_module": "@jupyter-widgets/base",
      "model_module_version": "1.2.0",
      "model_name": "LayoutModel",
      "state": {}
     },
     "e647273f61494efb92b293f226b212ce": {
      "model_module": "@jupyter-widgets/controls",
      "model_module_version": "1.5.0",
      "model_name": "DropdownModel",
      "state": {
       "_options_labels": [
        "color_1",
        "color_2",
        "color_3",
        "color_4"
       ],
       "index": 0,
       "layout": "IPY_MODEL_3b6eb237ab884fc6a9851aa3c2d821fe",
       "style": "IPY_MODEL_9cbbf712b5e546d7b39a41428b0aa2f1"
      }
     },
     "e64b8d9963944b6982872e56c1d1076b": {
      "model_module": "@jupyter-widgets/controls",
      "model_module_version": "1.5.0",
      "model_name": "FloatSliderModel",
      "state": {
       "description": "shininess",
       "layout": "IPY_MODEL_157fba29a18141ceb228302c5bccb5bb",
       "max": 1,
       "step": 0.1,
       "style": "IPY_MODEL_6d9cd9fec46242309f65481bd57e1ab6",
       "value": 0.2
      }
     },
     "e64e7fd9b956422fbe051812aeedf4f5": {
      "model_module": "@jupyter-widgets/controls",
      "model_module_version": "1.5.0",
      "model_name": "TabModel",
      "state": {
       "layout": "IPY_MODEL_01a9830728ff43debfe68c7ed9c0c0f1"
      }
     },
     "e663a3b5cc3842119f7132689bc988a4": {
      "model_module": "@jupyter-widgets/controls",
      "model_module_version": "1.5.0",
      "model_name": "TabModel",
      "state": {
       "layout": "IPY_MODEL_5c2e84642c5d485189990628bfa497c8"
      }
     },
     "e66efffcd57d411fa07184989115562f": {
      "model_module": "@jupyter-widgets/controls",
      "model_module_version": "1.5.0",
      "model_name": "DescriptionStyleModel",
      "state": {
       "description_width": ""
      }
     },
     "e680e9e7158f4d5ba01b3c57bc8e6eda": {
      "model_module": "@jupyter-widgets/controls",
      "model_module_version": "1.5.0",
      "model_name": "BoundedIntTextModel",
      "state": {
       "description": "index",
       "layout": "IPY_MODEL_64ae4c28e393410383055e93b56575a7",
       "style": "IPY_MODEL_4c1b928d9c39493b83808770f5705abb",
       "value": 1
      }
     },
     "e6991f813efb4b118467f99c0776efcd": {
      "model_module": "@jupyter-widgets/controls",
      "model_module_version": "1.5.0",
      "model_name": "DescriptionStyleModel",
      "state": {
       "description_width": ""
      }
     },
     "e6ea0f1df0864495a18ce55e8ee48a88": {
      "model_module": "@jupyter-widgets/controls",
      "model_module_version": "1.5.0",
      "model_name": "SliderStyleModel",
      "state": {
       "description_width": ""
      }
     },
     "e72c590e7a184b6fb4ad01d25e4545a9": {
      "model_module": "@jupyter-widgets/controls",
      "model_module_version": "1.5.0",
      "model_name": "FloatSliderModel",
      "state": {
       "description": "shininess",
       "layout": "IPY_MODEL_18a4cfa16bc946538d5790374028d641",
       "max": 1,
       "step": 0.1,
       "style": "IPY_MODEL_16f7bc26a9f3423a8cdb0ee883e8baf3",
       "value": 0.2
      }
     },
     "e7d2527d8a7e4fe289643a418f22fbe9": {
      "model_module": "@jupyter-widgets/base",
      "model_module_version": "1.2.0",
      "model_name": "LayoutModel",
      "state": {}
     },
     "e7db5ec1554041c2a2c5b821407a6039": {
      "model_module": "@jupyter-widgets/controls",
      "model_module_version": "1.5.0",
      "model_name": "ButtonStyleModel",
      "state": {}
     },
     "e7e58753b42f479c87b45106eebaf7d8": {
      "model_module": "@jupyter-widgets/controls",
      "model_module_version": "1.5.0",
      "model_name": "HBoxModel",
      "state": {
       "children": [
        "IPY_MODEL_a5fa387b659b43e6811c5b2786ac85cd",
        "IPY_MODEL_e133259e943747ddbb36e06ec4bf3308"
       ],
       "layout": "IPY_MODEL_0edf0711fcd443488bc2bd1811f52c38"
      }
     },
     "e7f5ee21dad84e169e218eb28ecfd188": {
      "model_module": "@jupyter-widgets/controls",
      "model_module_version": "1.5.0",
      "model_name": "BoundedIntTextModel",
      "state": {
       "description": "index",
       "layout": "IPY_MODEL_94cfe289c61c4e35b29a1d6056c480fc",
       "style": "IPY_MODEL_09fefb88b02d40be9097130da4296139",
       "value": 2
      }
     },
     "e7fc586047f245ce97a55030431cb070": {
      "model_module": "@jupyter-widgets/controls",
      "model_module_version": "1.5.0",
      "model_name": "SliderStyleModel",
      "state": {
       "description_width": ""
      }
     },
     "e801703ebaf5452e9d7d9e5fc1f6b6d2": {
      "model_module": "@jupyter-widgets/controls",
      "model_module_version": "1.5.0",
      "model_name": "HBoxModel",
      "state": {
       "children": [
        "IPY_MODEL_e4ff954f4c8a42249bb72fd9a209830d",
        "IPY_MODEL_4cbdfd51fc7a4d0aa56146812cc120e6"
       ],
       "layout": "IPY_MODEL_f54b6bb1cd9047f2913448b18542023e"
      }
     },
     "e812837d2b0f440e9038a8b882215c27": {
      "model_module": "@jupyter-widgets/controls",
      "model_module_version": "1.5.0",
      "model_name": "SliderStyleModel",
      "state": {
       "description_width": ""
      }
     },
     "e82e92b531174bbab4c8ec367cfabcd1": {
      "model_module": "@jupyter-widgets/controls",
      "model_module_version": "1.5.0",
      "model_name": "DescriptionStyleModel",
      "state": {
       "description_width": ""
      }
     },
     "e8499e7bab6246a0ad0a4f30d14ddbb3": {
      "model_module": "@jupyter-widgets/base",
      "model_module_version": "1.2.0",
      "model_name": "LayoutModel",
      "state": {}
     },
     "e849efdb9162462ebac0eda40b42e9b0": {
      "model_module": "@jupyter-widgets/controls",
      "model_module_version": "1.5.0",
      "model_name": "ButtonStyleModel",
      "state": {}
     },
     "e85c510e27f640a8b1ccdded38f8d8b3": {
      "model_module": "@jupyter-widgets/controls",
      "model_module_version": "1.5.0",
      "model_name": "ColorPickerModel",
      "state": {
       "description": "emission",
       "disabled": false,
       "layout": "IPY_MODEL_c2578ef26c0743838357a06ac7dbb03e",
       "style": "IPY_MODEL_015a0162e977482199ff9aa70a46096a",
       "value": "#000000"
      }
     },
     "e881f4d66fc34fa5a8bf3f637ac484f2": {
      "model_module": "@jupyter-widgets/base",
      "model_module_version": "1.2.0",
      "model_name": "LayoutModel",
      "state": {}
     },
     "e894d4c3a4fb4f25a3f9d4c94d93edc4": {
      "model_module": "@jupyter-widgets/base",
      "model_module_version": "1.2.0",
      "model_name": "LayoutModel",
      "state": {}
     },
     "e8a23a012cbf4853a330e912e3cad92f": {
      "model_module": "@jupyter-widgets/controls",
      "model_module_version": "1.5.0",
      "model_name": "HBoxModel",
      "state": {
       "children": [
        "IPY_MODEL_553432c4114a47d4a9edc9bea81bf73d",
        "IPY_MODEL_fed9460058884e208750ebcd25227db9"
       ],
       "layout": "IPY_MODEL_3f7ba822c536404481bce2f09c84de9d"
      }
     },
     "e8ec467c663c43b680bf26b13a9a4041": {
      "model_module": "@jupyter-widgets/controls",
      "model_module_version": "1.5.0",
      "model_name": "DropdownModel",
      "state": {
       "_options_labels": [
        "Color"
       ],
       "index": 0,
       "layout": "IPY_MODEL_df94b893e16e4d64bc1d78383241b66f",
       "style": "IPY_MODEL_594bc8d80195422f85abbd36476b4550"
      }
     },
     "e9582f1549fd47149a0a82f1ee63f055": {
      "model_module": "@jupyter-widgets/controls",
      "model_module_version": "1.5.0",
      "model_name": "DescriptionStyleModel",
      "state": {
       "description_width": ""
      }
     },
     "e984cba6c0f84ad5a3546c38b70bc438": {
      "model_module": "@jupyter-widgets/controls",
      "model_module_version": "1.5.0",
      "model_name": "FloatSliderModel",
      "state": {
       "description": "diffuse",
       "layout": "IPY_MODEL_36dae7e778b4478990ee42ee7dd61824",
       "max": 3,
       "step": 0.1,
       "style": "IPY_MODEL_5c020f6de4b0494db643bad3b0644d25",
       "value": 1
      }
     },
     "e996a0616fe3456f83d3a47b2d6444d3": {
      "model_module": "@jupyter-widgets/base",
      "model_module_version": "1.2.0",
      "model_name": "LayoutModel",
      "state": {}
     },
     "e9ac5fcbb97347d7a1f9f9cc7558252d": {
      "model_module": "@jupyter-widgets/controls",
      "model_module_version": "1.5.0",
      "model_name": "HBoxModel",
      "state": {
       "children": [
        "IPY_MODEL_fab3da10c1de4f6599d1614193ca639f",
        "IPY_MODEL_7aab530945c249e3a941d757c0ccee92"
       ],
       "layout": "IPY_MODEL_d978d64c481643da8a0c61fcd3e368e3"
      }
     },
     "e9ae0484fe6e4a418480439841c599c2": {
      "model_module": "@jupyter-widgets/controls",
      "model_module_version": "1.5.0",
      "model_name": "ButtonStyleModel",
      "state": {}
     },
     "e9bf0cd054d84ef78d0da14f7ed9cea5": {
      "model_module": "@jupyter-widgets/base",
      "model_module_version": "1.2.0",
      "model_name": "LayoutModel",
      "state": {}
     },
     "e9c513a4f98a4afd87ad87a4ddd1d942": {
      "model_module": "@jupyter-widgets/controls",
      "model_module_version": "1.5.0",
      "model_name": "DropdownModel",
      "state": {
       "_options_labels": [
        "NurbsCurve2D",
        "BezierCurve2D",
        "Polyline2D",
        "Function"
       ],
       "index": 0,
       "layout": "IPY_MODEL_376831fff5bc48dfb1fa24e507142fcf",
       "style": "IPY_MODEL_70345d5e492f4c59a07d9d7fe6543942"
      }
     },
     "e9daa491099b49fc9c13441be4dd0053": {
      "model_module": "@jupyter-widgets/base",
      "model_module_version": "1.2.0",
      "model_name": "LayoutModel",
      "state": {}
     },
     "e9e462dbc66b4f12b3954106b87e846a": {
      "model_module": "@jupyter-widgets/controls",
      "model_module_version": "1.5.0",
      "model_name": "TextModel",
      "state": {
       "continuous_update": false,
       "description": "name",
       "layout": "IPY_MODEL_a5dda22448ef440894f70c195c7f9911",
       "style": "IPY_MODEL_a56afbd1a4e74ddb9b19fb5de0bcf2b0",
       "value": "apex"
      }
     },
     "ea2eda2ed0bb482faa1ed22e03e210b0": {
      "model_module": "@jupyter-widgets/base",
      "model_module_version": "1.2.0",
      "model_name": "LayoutModel",
      "state": {
       "margin": "20px 0px"
      }
     },
     "ea37aa48e5954c09acb575e2396d3c05": {
      "model_module": "@jupyter-widgets/base",
      "model_module_version": "1.2.0",
      "model_name": "LayoutModel",
      "state": {}
     },
     "ea9d8d6b50034a3a9fb9e57b9e304732": {
      "model_module": "@jupyter-widgets/controls",
      "model_module_version": "1.5.0",
      "model_name": "IntTextModel",
      "state": {
       "description": "min",
       "layout": "IPY_MODEL_a928100a1a7543c1a952e02f63653d38",
       "step": 1,
       "style": "IPY_MODEL_cc6d0e94c93b4978adf6227cfb533d2c",
       "value": 1
      }
     },
     "eaaaa57114b946fbab2baeb544020004": {
      "model_module": "@jupyter-widgets/controls",
      "model_module_version": "1.5.0",
      "model_name": "ColorPickerModel",
      "state": {
       "description": "specular",
       "disabled": false,
       "layout": "IPY_MODEL_bc60e7667a584052943e93872a6708a3",
       "style": "IPY_MODEL_7b9e45d54fb2440c8e5f7a9a8b7f932b",
       "value": "#282828"
      }
     },
     "eabf4766db6045c488a2e23c2d898e82": {
      "model_module": "@jupyter-widgets/controls",
      "model_module_version": "1.5.0",
      "model_name": "DescriptionStyleModel",
      "state": {
       "description_width": ""
      }
     },
     "eac0f378daf14e768b562dc92a52bd46": {
      "model_module": "@jupyter-widgets/controls",
      "model_module_version": "1.5.0",
      "model_name": "IntTextModel",
      "state": {
       "description": "min",
       "layout": "IPY_MODEL_5b5cffc519364c9fbd2a8e2332a75c62",
       "step": 1,
       "style": "IPY_MODEL_c8d3f70598d54c238929a83e3bcb3334",
       "value": 1
      }
     },
     "eacdf3892401422d966ce9bdf9102e5d": {
      "model_module": "@jupyter-widgets/controls",
      "model_module_version": "1.5.0",
      "model_name": "SliderStyleModel",
      "state": {
       "description_width": ""
      }
     },
     "eb11e6bb87f04e778a49e0a3916ee734": {
      "model_module": "@jupyter-widgets/base",
      "model_module_version": "1.2.0",
      "model_name": "LayoutModel",
      "state": {}
     },
     "eb1b16194a974b38b9619ef00779fa26": {
      "model_module": "@jupyter-widgets/controls",
      "model_module_version": "1.5.0",
      "model_name": "VBoxModel",
      "state": {
       "children": [
        "IPY_MODEL_700dd60141fd4249986e07f948bfdfa6",
        "IPY_MODEL_dd0ff9c59cde46bcb7cc5f4ac4df69e9"
       ],
       "layout": "IPY_MODEL_244a6d6ecfca4f0f98bc8b06b8f66d0f"
      }
     },
     "eb38eb2960ba4c56b249425bdddbb378": {
      "model_module": "@jupyter-widgets/controls",
      "model_module_version": "1.5.0",
      "model_name": "SliderStyleModel",
      "state": {
       "description_width": ""
      }
     },
     "eb97bfba7a244317a71b5c4fedafbbe8": {
      "model_module": "@jupyter-widgets/controls",
      "model_module_version": "1.5.0",
      "model_name": "ButtonStyleModel",
      "state": {}
     },
     "eb9c25defb924bd4a139c44c404e7001": {
      "model_module": "@jupyter-widgets/controls",
      "model_module_version": "1.5.0",
      "model_name": "ButtonModel",
      "state": {
       "description": "Add category",
       "layout": "IPY_MODEL_5635bd2a1dbe4760b5638e8c865b2550",
       "style": "IPY_MODEL_6d5e3a1f1f6e4037b118fad920b662c6"
      }
     },
     "eba49d4701c34c69a1a52005a55e913e": {
      "model_module": "@jupyter-widgets/controls",
      "model_module_version": "1.5.0",
      "model_name": "ButtonModel",
      "state": {
       "description": "Add",
       "layout": "IPY_MODEL_9e0dbc685d844cfd942dcb418366010a",
       "style": "IPY_MODEL_42507f01d821430991d4d3162cf5c980"
      }
     },
     "eba7cf85bd6046aca8a8d6411fcef311": {
      "model_module": "@jupyter-widgets/base",
      "model_module_version": "1.2.0",
      "model_name": "LayoutModel",
      "state": {
       "margin": "20px 0px"
      }
     },
     "ebac3b19d9ab409d9c42b53d972811e3": {
      "model_module": "@jupyter-widgets/controls",
      "model_module_version": "1.5.0",
      "model_name": "HBoxModel",
      "state": {
       "children": [
        "IPY_MODEL_e1dcb78514e94e8ba1b4d9d3d4a8e9c9",
        "IPY_MODEL_3152de1fa1164856a37a0aa90a315025",
        "IPY_MODEL_deee13f28dc04426826d2dcb4eb4b80e",
        "IPY_MODEL_e5dac1ed4b934727b6efb2c2f6bbcf39",
        "IPY_MODEL_d79e5da1ec2d4eff8b5b67ab8d2838d8"
       ],
       "layout": "IPY_MODEL_964212339a614dc4b244dd85464c155d"
      }
     },
     "ebe128ea294142459765d6098ca68e1a": {
      "model_module": "@jupyter-widgets/controls",
      "model_module_version": "1.5.0",
      "model_name": "FloatSliderModel",
      "state": {
       "description": "diffuse",
       "layout": "IPY_MODEL_3581f98b0e0b489eb1e8d1ffb45828de",
       "max": 3,
       "step": 0.1,
       "style": "IPY_MODEL_2171707fa97347488af43fe88a591d0f",
       "value": 1
      }
     },
     "ebed741c1929494990122e2d3b4f9648": {
      "model_module": "@jupyter-widgets/controls",
      "model_module_version": "1.5.0",
      "model_name": "SliderStyleModel",
      "state": {
       "description_width": ""
      }
     },
     "ec0d311430274174ad6f8002cc5ab013": {
      "model_module": "@jupyter-widgets/controls",
      "model_module_version": "1.5.0",
      "model_name": "ButtonModel",
      "state": {
       "description": "Add category",
       "layout": "IPY_MODEL_8cca7f8fad02405fb87c0732c5a43356",
       "style": "IPY_MODEL_70cd0cda1a844c278ad4555f50d5490a"
      }
     },
     "ec128f27e5d548fd89d35f652fb3d014": {
      "model_module": "@jupyter-widgets/base",
      "model_module_version": "1.2.0",
      "model_name": "LayoutModel",
      "state": {}
     },
     "ec25e9001eaf45e69cf86327398a4adc": {
      "model_module": "@jupyter-widgets/controls",
      "model_module_version": "1.5.0",
      "model_name": "HBoxModel",
      "state": {
       "children": [
        "IPY_MODEL_428b97f3a6fc42759d90478a7ffb3457",
        "IPY_MODEL_bd975fbe82284673a970cc17143dddb9"
       ],
       "layout": "IPY_MODEL_0c4ef21d02cd4d5098cab60592f95c54"
      }
     },
     "ec264ee7c2014d25b4a56adf37235cd5": {
      "model_module": "@jupyter-widgets/controls",
      "model_module_version": "1.5.0",
      "model_name": "DropdownModel",
      "state": {
       "index": null,
       "layout": "IPY_MODEL_b281607fe98d48e3934d05bec3d79698",
       "style": "IPY_MODEL_11a1fde1334e44b3bc445b44cfccd1ee"
      }
     },
     "ec565a4c65ef47b7b5c481d2e487b68f": {
      "model_module": "@jupyter-widgets/controls",
      "model_module_version": "1.5.0",
      "model_name": "DescriptionStyleModel",
      "state": {
       "description_width": ""
      }
     },
     "ec80a43c5a3b4523b4da1e7a74a8af65": {
      "model_module": "@jupyter-widgets/base",
      "model_module_version": "1.2.0",
      "model_name": "LayoutModel",
      "state": {}
     },
     "ec8cfa6373cf4330ae76df7ac5a2dfab": {
      "model_module": "pgljupyter",
      "model_module_version": "^0.1.21",
      "model_name": "IntEditorModel",
      "state": {
       "_model_module_version": "^0.1.21",
       "_view_module_version": "^0.1.21",
       "children": [
        "IPY_MODEL_2ed237c444f041958ac480d559718a9b",
        "IPY_MODEL_ca93be8a390a4842a5a88b86b5f0c740"
       ],
       "layout": "IPY_MODEL_057fc401feeb40d0858ffb015d0b71f2"
      }
     },
     "ecd0c12b3b9e479fb4a4bdfdcb2c2842": {
      "model_module": "@jupyter-widgets/controls",
      "model_module_version": "1.5.0",
      "model_name": "IntTextModel",
      "state": {
       "description": "max",
       "layout": "IPY_MODEL_973162b76dea4a2bbb3e36144ea6db25",
       "step": 1,
       "style": "IPY_MODEL_ed253fc3290f4b25b35b8dcd2674306e",
       "value": 10
      }
     },
     "ecd10be312514a0fb8642421d88c44eb": {
      "model_module": "@jupyter-widgets/controls",
      "model_module_version": "1.5.0",
      "model_name": "SliderStyleModel",
      "state": {
       "description_width": ""
      }
     },
     "ecd6712976814a878c2eb22824a5e5e9": {
      "model_module": "@jupyter-widgets/base",
      "model_module_version": "1.2.0",
      "model_name": "LayoutModel",
      "state": {}
     },
     "ed253fc3290f4b25b35b8dcd2674306e": {
      "model_module": "@jupyter-widgets/controls",
      "model_module_version": "1.5.0",
      "model_name": "DescriptionStyleModel",
      "state": {
       "description_width": ""
      }
     },
     "ed2e1c85dc804578834fe3b7f594baa4": {
      "model_module": "@jupyter-widgets/base",
      "model_module_version": "1.2.0",
      "model_name": "LayoutModel",
      "state": {}
     },
     "ed4b23b4eff1497396c94a783926d260": {
      "model_module": "@jupyter-widgets/controls",
      "model_module_version": "1.5.0",
      "model_name": "SliderStyleModel",
      "state": {
       "description_width": ""
      }
     },
     "ed6a7f88ae4744d49b47dd18c74fab70": {
      "model_module": "@jupyter-widgets/controls",
      "model_module_version": "1.5.0",
      "model_name": "ButtonModel",
      "state": {
       "description": "Delete",
       "layout": "IPY_MODEL_51ac257bcf38442c82fc060061bddd6c",
       "style": "IPY_MODEL_33e248224d044ba185e32bc6cddc3055"
      }
     },
     "ed774bc03b0a4afcae5f17c89042e491": {
      "model_module": "@jupyter-widgets/controls",
      "model_module_version": "1.5.0",
      "model_name": "DescriptionStyleModel",
      "state": {
       "description_width": ""
      }
     },
     "ed7d66b5a93a41909abdbcdcb3f73f67": {
      "model_module": "@jupyter-widgets/base",
      "model_module_version": "1.2.0",
      "model_name": "LayoutModel",
      "state": {}
     },
     "ed878756b8fb401389ecaf5b518387e3": {
      "model_module": "@jupyter-widgets/controls",
      "model_module_version": "1.5.0",
      "model_name": "ColorPickerModel",
      "state": {
       "description": "ambient",
       "disabled": false,
       "layout": "IPY_MODEL_8ade179874b44ec4a7a9a96454510c3e",
       "style": "IPY_MODEL_74dde666b12e4ccdbc62eb47f41ed106",
       "value": "#0fc4db"
      }
     },
     "ed976a91034f48c1a0bd19c114a4740d": {
      "model_module": "@jupyter-widgets/controls",
      "model_module_version": "1.5.0",
      "model_name": "ColorPickerModel",
      "state": {
       "description": "ambient",
       "disabled": false,
       "layout": "IPY_MODEL_0b974aa9e4cb4b4d87d799dd6e18b83c",
       "style": "IPY_MODEL_846dacb512d34d31960acd0764831033",
       "value": "#e1a014"
      }
     },
     "ed9c4819f169408997cc14e89f892d4d": {
      "model_module": "@jupyter-widgets/controls",
      "model_module_version": "1.5.0",
      "model_name": "DescriptionStyleModel",
      "state": {
       "description_width": ""
      }
     },
     "edccc23ee7c94c62b87b7ae6355454e4": {
      "model_module": "@jupyter-widgets/base",
      "model_module_version": "1.2.0",
      "model_name": "LayoutModel",
      "state": {}
     },
     "ede64f804344425291e343f1d105c792": {
      "model_module": "@jupyter-widgets/base",
      "model_module_version": "1.2.0",
      "model_name": "LayoutModel",
      "state": {}
     },
     "edf855758a43462cb032faf769489da2": {
      "model_module": "@jupyter-widgets/controls",
      "model_module_version": "1.5.0",
      "model_name": "SliderStyleModel",
      "state": {
       "description_width": ""
      }
     },
     "edf9693f28bf40b480d44c9fe1f0e7bd": {
      "model_module": "@jupyter-widgets/controls",
      "model_module_version": "1.5.0",
      "model_name": "VBoxModel",
      "state": {
       "children": [
        "IPY_MODEL_6bbc88a5645f4f34bc382a3d79ab54d0",
        "IPY_MODEL_ccb212c6dfcc4c1d92cc6abceb4d2737"
       ],
       "layout": "IPY_MODEL_2340039821ec4848ab8a9b6c4eb0a864"
      }
     },
     "ee257afeb107428795eb942a17db9082": {
      "model_module": "@jupyter-widgets/base",
      "model_module_version": "1.2.0",
      "model_name": "LayoutModel",
      "state": {}
     },
     "ee264b2062824fd5b777853c7f930800": {
      "model_module": "@jupyter-widgets/controls",
      "model_module_version": "1.5.0",
      "model_name": "BoundedIntTextModel",
      "state": {
       "description": "index",
       "layout": "IPY_MODEL_ac370811477146a592129af91bec1989",
       "style": "IPY_MODEL_794d157bf0ff435fa7c3c39274a2f7b7",
       "value": 3
      }
     },
     "ee807aaf7dd849e494a1bea9e632bb51": {
      "model_module": "@jupyter-widgets/base",
      "model_module_version": "1.2.0",
      "model_name": "LayoutModel",
      "state": {}
     },
     "eeda36683653443fb2968b0128f1e43c": {
      "model_module": "pgljupyter",
      "model_module_version": "^0.1.21",
      "model_name": "MaterialEditorModel",
      "state": {
       "_model_module_version": "^0.1.21",
       "_view_module_version": "^0.1.21",
       "children": [
        "IPY_MODEL_d8984fabe4b64cf5badca23730a3e99f",
        "IPY_MODEL_3996353c8b94465d86afb685abf7e620",
        "IPY_MODEL_605b3dff17be4529b97af57e3cdd4848",
        "IPY_MODEL_043c34dc906e4167928f4d176318bc85",
        "IPY_MODEL_571f6b30eb9047efac0f6cc30752eb09",
        "IPY_MODEL_5f9f275715734a318f7526209e87fd1d",
        "IPY_MODEL_8428793621cc40e99f94653249403223",
        "IPY_MODEL_9a57f9c762704968844cf5cf71803d87"
       ],
       "layout": "IPY_MODEL_8526b634b49f4f3dbb3f18145fa06a71"
      }
     },
     "eeed912523954cc783b4b1ea61c53646": {
      "model_module": "@jupyter-widgets/base",
      "model_module_version": "1.2.0",
      "model_name": "LayoutModel",
      "state": {}
     },
     "ef02132854ed4c2993d244c63b2f1da8": {
      "model_module": "@jupyter-widgets/controls",
      "model_module_version": "1.5.0",
      "model_name": "SliderStyleModel",
      "state": {
       "description_width": ""
      }
     },
     "ef04cc1a511e4bb3a4e5a70581a7c48d": {
      "model_module": "@jupyter-widgets/base",
      "model_module_version": "1.2.0",
      "model_name": "LayoutModel",
      "state": {}
     },
     "ef1d08148f6a452081c3eb7924ab9c8f": {
      "model_module": "@jupyter-widgets/controls",
      "model_module_version": "1.5.0",
      "model_name": "ButtonStyleModel",
      "state": {}
     },
     "ef248a12bce040c9b9d1143f988a7f70": {
      "model_module": "@jupyter-widgets/controls",
      "model_module_version": "1.5.0",
      "model_name": "DescriptionStyleModel",
      "state": {
       "description_width": ""
      }
     },
     "ef454af4562b438db936e7f40a5e2935": {
      "model_module": "@jupyter-widgets/controls",
      "model_module_version": "1.5.0",
      "model_name": "SliderStyleModel",
      "state": {
       "description_width": ""
      }
     },
     "ef4b1309dfd142598b1a811f4f4940d6": {
      "model_module": "pgljupyter",
      "model_module_version": "^0.2.0",
      "model_name": "MaterialEditorModel",
      "state": {
       "_model_module_version": "^0.2.0",
       "_view_module_version": "^0.2.0",
       "children": [
        "IPY_MODEL_03d211779e87416689565221e4907777",
        "IPY_MODEL_1f9354edd99a419791b8098ce14a9959",
        "IPY_MODEL_be51b261106b43ffb83f192c209c691e",
        "IPY_MODEL_e39dd960334045baa4c5674dbf8c74ab",
        "IPY_MODEL_7df5c0ee266b450db5777d1e698953b4",
        "IPY_MODEL_de14ab107bb9470f974458da57567aeb",
        "IPY_MODEL_bfabacffa42444aaafe06f4ea52048a4",
        "IPY_MODEL_225a25286ce64ac499f5f3306b5b2a61"
       ],
       "layout": "IPY_MODEL_6f8caadf4ec44ff08a9be51eeb0f01f2"
      }
     },
     "ef5333f5371043d19deb770e002aef6f": {
      "model_module": "@jupyter-widgets/controls",
      "model_module_version": "1.5.0",
      "model_name": "DropdownModel",
      "state": {
       "_options_labels": [
        "NurbsCurve2D",
        "BezierCurve2D",
        "Polyline2D",
        "Function"
       ],
       "index": 0,
       "layout": "IPY_MODEL_c48e782f1bef445e9f2d0c4e1632f795",
       "style": "IPY_MODEL_b0816a0d3a1147ec9177057aeccf2636"
      }
     },
     "ef8bbf3c99984ea7a0ada6febc787943": {
      "model_module": "@jupyter-widgets/base",
      "model_module_version": "1.2.0",
      "model_name": "LayoutModel",
      "state": {}
     },
     "efb139d7a3194536b561efe32dfd2630": {
      "model_module": "@jupyter-widgets/controls",
      "model_module_version": "1.5.0",
      "model_name": "HBoxModel",
      "state": {
       "children": [
        "IPY_MODEL_33f1c8621f03490ab5245ccf59e30f24",
        "IPY_MODEL_68d71aa0477142e7b5ac9a9e6cd735b0",
        "IPY_MODEL_5301dbd8a23f4528acd9e2c505d69fa9"
       ],
       "layout": "IPY_MODEL_5ffcfabea4324e77ba7847c89942d8f5"
      }
     },
     "efecd650a0b549cfb8d04768a7af3883": {
      "model_module": "@jupyter-widgets/base",
      "model_module_version": "1.2.0",
      "model_name": "LayoutModel",
      "state": {}
     },
     "f00939b02b1b481eaf4beed6c5699d1f": {
      "model_module": "@jupyter-widgets/controls",
      "model_module_version": "1.5.0",
      "model_name": "FloatSliderModel",
      "state": {
       "description": "shininess",
       "layout": "IPY_MODEL_ef04cc1a511e4bb3a4e5a70581a7c48d",
       "max": 1,
       "step": 0.1,
       "style": "IPY_MODEL_ef454af4562b438db936e7f40a5e2935",
       "value": 0.2
      }
     },
     "f0360e90f8844f669efb780ee3af11e8": {
      "model_module": "@jupyter-widgets/controls",
      "model_module_version": "1.5.0",
      "model_name": "DescriptionStyleModel",
      "state": {
       "description_width": ""
      }
     },
     "f048e5d7bba14e4aa6363ca4631d0493": {
      "model_module": "@jupyter-widgets/controls",
      "model_module_version": "1.5.0",
      "model_name": "ButtonModel",
      "state": {
       "description": "Apply changes",
       "layout": "IPY_MODEL_4cd38825a8884057bf5bc40058c1ffbc",
       "style": "IPY_MODEL_38fbe02c165042b8b77cbdcdf4e4c685"
      }
     },
     "f061060e4659478abd495ee2273bc6da": {
      "model_module": "@jupyter-widgets/controls",
      "model_module_version": "1.5.0",
      "model_name": "FloatSliderModel",
      "state": {
       "continuous_update": false,
       "description": "diffuse",
       "layout": "IPY_MODEL_abe0069c61354de2ab4d964025267f8b",
       "max": 3,
       "step": 0.1,
       "style": "IPY_MODEL_ebed741c1929494990122e2d3b4f9648",
       "value": 1
      }
     },
     "f0677d8a64674b559e7f258cf8fa5541": {
      "model_module": "@jupyter-widgets/controls",
      "model_module_version": "1.5.0",
      "model_name": "DescriptionStyleModel",
      "state": {
       "description_width": ""
      }
     },
     "f06f7a31a7f6416183260274d8da1272": {
      "model_module": "@jupyter-widgets/base",
      "model_module_version": "1.2.0",
      "model_name": "LayoutModel",
      "state": {
       "margin": "20px 0px"
      }
     },
     "f07a901e6ad14b95a2d72d3015de3a12": {
      "model_module": "@jupyter-widgets/controls",
      "model_module_version": "1.5.0",
      "model_name": "IntSliderModel",
      "state": {
       "description": "value",
       "layout": "IPY_MODEL_38e26cd9e23545518709851cba698d94",
       "max": 10,
       "min": 1,
       "style": "IPY_MODEL_c84fe53e0e9a4df391e82723c5e179d5",
       "value": 3
      }
     },
     "f07ec7a47aa64a3a83eebeecca3f4573": {
      "model_module": "@jupyter-widgets/controls",
      "model_module_version": "1.5.0",
      "model_name": "IntSliderModel",
      "state": {
       "description": "value",
       "layout": "IPY_MODEL_1f72998eed09408198e3afb7711fce67",
       "max": 10,
       "min": 1,
       "style": "IPY_MODEL_7ff69b0f459c406da1dcf1b6b9ea1d85",
       "value": 5
      }
     },
     "f091e8ee938040379301180a6b5f8ece": {
      "model_module": "pgljupyter",
      "model_module_version": "^0.1.16",
      "model_name": "MaterialEditorModel",
      "state": {
       "_model_module_version": "^0.1.16",
       "_view_module_version": "^0.1.16",
       "children": [
        "IPY_MODEL_6b7f50760bbe40128e53e8730548a7c5",
        "IPY_MODEL_af4039e9ddde442ba446084c54416900",
        "IPY_MODEL_80301650537045819e119da69d2e1eaf",
        "IPY_MODEL_d17ee3bf95d444e6a5dc0e77911f5b59",
        "IPY_MODEL_cb7d447aaf2c4c759979e1f891e6d461",
        "IPY_MODEL_e984cba6c0f84ad5a3546c38b70bc438",
        "IPY_MODEL_89a945aee0754e80a2eee46f61496ba5",
        "IPY_MODEL_fa3fcbaf866c47d0a6ee55fb9125c3d4"
       ],
       "layout": "IPY_MODEL_92978dae10c04f879b6b666ba80d5835"
      }
     },
     "f09ec2f11f444eed8d6fdf286e95dc1c": {
      "model_module": "@jupyter-widgets/base",
      "model_module_version": "1.2.0",
      "model_name": "LayoutModel",
      "state": {
       "margin": "20px 0px"
      }
     },
     "f0d18c7a33314b93b6a2c556090ad031": {
      "model_module": "@jupyter-widgets/controls",
      "model_module_version": "1.5.0",
      "model_name": "DescriptionStyleModel",
      "state": {
       "description_width": ""
      }
     },
     "f0ece62107884815b66732681cf6a81c": {
      "model_module": "@jupyter-widgets/base",
      "model_module_version": "1.2.0",
      "model_name": "LayoutModel",
      "state": {}
     },
     "f10e1a78bef24b7a80af155ce5e761cd": {
      "model_module": "@jupyter-widgets/controls",
      "model_module_version": "1.5.0",
      "model_name": "ButtonStyleModel",
      "state": {}
     },
     "f12070df747f4997bb07a8795782dbf5": {
      "model_module": "@jupyter-widgets/controls",
      "model_module_version": "1.5.0",
      "model_name": "ButtonModel",
      "state": {
       "description": "Add",
       "layout": "IPY_MODEL_45f98c4f44d14504a22ffa36469c7310",
       "style": "IPY_MODEL_9fa90f82578d4c6cbf8256092d7543fa"
      }
     },
     "f1428e6f50564af3a3f0c5aaf828bea6": {
      "model_module": "@jupyter-widgets/controls",
      "model_module_version": "1.5.0",
      "model_name": "ColorPickerModel",
      "state": {
       "description": "ambient",
       "disabled": false,
       "layout": "IPY_MODEL_146d5fefc3734a85bff00f69249efbfc",
       "style": "IPY_MODEL_2e7935d872574becb340ab330a27a50f",
       "value": "#5b4534"
      }
     },
     "f142e994cc534a86867a64e2eda8db55": {
      "model_module": "@jupyter-widgets/controls",
      "model_module_version": "1.5.0",
      "model_name": "HBoxModel",
      "state": {
       "children": [
        "IPY_MODEL_cbdaf49adba648288d71c4ee0c85a46d",
        "IPY_MODEL_96ef1dd3e38b40a6b4b6aa0a8d3bcca5"
       ],
       "layout": "IPY_MODEL_266957bdee4c488d96db5cfceab4b072"
      }
     },
     "f147ffdfc6994c26b4177e9b873ebcc9": {
      "model_module": "pgljupyter",
      "model_module_version": "^0.1.17",
      "model_name": "IntEditorModel",
      "state": {
       "_model_module_version": "^0.1.17",
       "_view_module_version": "^0.1.17",
       "children": [
        "IPY_MODEL_445f90f4d3de40cb874172bbb0b2c38d",
        "IPY_MODEL_004fe4bded924a9a932e3394f3befd69"
       ],
       "layout": "IPY_MODEL_80b56e6d76c34f719488204e0bf1de2d"
      }
     },
     "f1784203f14e47b2863da9024e9cac9a": {
      "model_module": "@jupyter-widgets/controls",
      "model_module_version": "1.5.0",
      "model_name": "SliderStyleModel",
      "state": {
       "description_width": ""
      }
     },
     "f1b271a66d614793b1839806e98da617": {
      "model_module": "@jupyter-widgets/base",
      "model_module_version": "1.2.0",
      "model_name": "LayoutModel",
      "state": {
       "margin": "10px 10px"
      }
     },
     "f1c6aa52cc2a40a396a24165e1c5bf64": {
      "model_module": "@jupyter-widgets/controls",
      "model_module_version": "1.5.0",
      "model_name": "DescriptionStyleModel",
      "state": {
       "description_width": ""
      }
     },
     "f20f31a04ca646aead57a9fa9a0eab65": {
      "model_module": "@jupyter-widgets/controls",
      "model_module_version": "1.5.0",
      "model_name": "SliderStyleModel",
      "state": {
       "description_width": ""
      }
     },
     "f223c7d886294225be0b4cb6d842a989": {
      "model_module": "@jupyter-widgets/controls",
      "model_module_version": "1.5.0",
      "model_name": "SliderStyleModel",
      "state": {
       "description_width": ""
      }
     },
     "f2282812a130441eac41b660ee49477d": {
      "model_module": "@jupyter-widgets/controls",
      "model_module_version": "1.5.0",
      "model_name": "ButtonModel",
      "state": {
       "description": "Save changes",
       "layout": "IPY_MODEL_37be1e18450a48628dc1cfe7889e3ae0",
       "style": "IPY_MODEL_ae49ac24f7d94cbea0a0b653a87d4b7d"
      }
     },
     "f26688f6c93d449ca3039c51f092914f": {
      "model_module": "@jupyter-widgets/controls",
      "model_module_version": "1.5.0",
      "model_name": "ButtonStyleModel",
      "state": {}
     },
     "f2740e7d55304da5b92addaba9f46791": {
      "model_module": "@jupyter-widgets/controls",
      "model_module_version": "1.5.0",
      "model_name": "TextModel",
      "state": {
       "continuous_update": false,
       "description": "name",
       "layout": "IPY_MODEL_9915bfe8a73a4ccab7d287b3385f6115",
       "style": "IPY_MODEL_6ffd3972526c43f5977af4b0b2029a29",
       "value": "apex"
      }
     },
     "f2a5aa5ff05a4e369a4aa1886f23f400": {
      "model_module": "@jupyter-widgets/controls",
      "model_module_version": "1.5.0",
      "model_name": "SliderStyleModel",
      "state": {
       "description_width": ""
      }
     },
     "f2c1729018b749dc825f727cf95f0163": {
      "model_module": "@jupyter-widgets/controls",
      "model_module_version": "1.5.0",
      "model_name": "TextModel",
      "state": {
       "layout": "IPY_MODEL_a0c0376ddf624c66a5d12384bfc7b96f",
       "placeholder": "category name",
       "style": "IPY_MODEL_6275cdb1a22040fd844c2deb6ab44a03"
      }
     },
     "f2ce19fc1a01412bb35dc2f4381a068b": {
      "model_module": "@jupyter-widgets/controls",
      "model_module_version": "1.5.0",
      "model_name": "DescriptionStyleModel",
      "state": {
       "description_width": ""
      }
     },
     "f2cedfd93f164c5997b034682b7dd6d1": {
      "model_module": "@jupyter-widgets/base",
      "model_module_version": "1.2.0",
      "model_name": "LayoutModel",
      "state": {}
     },
     "f33af95ef58846bf8df866296877a85b": {
      "model_module": "@jupyter-widgets/controls",
      "model_module_version": "1.5.0",
      "model_name": "HBoxModel",
      "state": {
       "children": [
        "IPY_MODEL_585fc48c58fd48cb974017172fb63f8c"
       ],
       "layout": "IPY_MODEL_5a6aab1bb709492da4f69389f9069c24"
      }
     },
     "f364d80a738d4f4a84c272cef9cd3e68": {
      "model_module": "@jupyter-widgets/controls",
      "model_module_version": "1.5.0",
      "model_name": "TextModel",
      "state": {
       "continuous_update": false,
       "description": "name",
       "layout": "IPY_MODEL_c70724b373544707a8ceb6ea34ead215",
       "style": "IPY_MODEL_f5bfbe34070d48409e2eb89df0aaa1dc",
       "value": "color_2"
      }
     },
     "f365e1e598254f48b575a161866cb1f1": {
      "model_module": "@jupyter-widgets/controls",
      "model_module_version": "1.5.0",
      "model_name": "HBoxModel",
      "state": {
       "children": [
        "IPY_MODEL_f048e5d7bba14e4aa6363ca4631d0493",
        "IPY_MODEL_4714391555864c2d8b0f394fb88fc2e4"
       ],
       "layout": "IPY_MODEL_e398a8e953fe495eb8604e9e87b8bb52"
      }
     },
     "f3a5d74515114615b5d451bc8e5d23f5": {
      "model_module": "@jupyter-widgets/controls",
      "model_module_version": "1.5.0",
      "model_name": "ButtonStyleModel",
      "state": {}
     },
     "f3b5f46f7b7c466baaef384604030357": {
      "model_module": "@jupyter-widgets/base",
      "model_module_version": "1.2.0",
      "model_name": "LayoutModel",
      "state": {}
     },
     "f3c024e88d6640b3b187291687dc790d": {
      "model_module": "@jupyter-widgets/base",
      "model_module_version": "1.2.0",
      "model_name": "LayoutModel",
      "state": {}
     },
     "f3d619e4ec8a4de8bac00cda89fa6f4f": {
      "model_module": "@jupyter-widgets/controls",
      "model_module_version": "1.5.0",
      "model_name": "DescriptionStyleModel",
      "state": {
       "description_width": ""
      }
     },
     "f3ecc66415384a3b93c8afe5ca93b8f6": {
      "model_module": "@jupyter-widgets/base",
      "model_module_version": "1.2.0",
      "model_name": "LayoutModel",
      "state": {}
     },
     "f3f2dbabf14c4ce7bc023cc0ac7e2774": {
      "model_module": "@jupyter-widgets/base",
      "model_module_version": "1.2.0",
      "model_name": "LayoutModel",
      "state": {}
     },
     "f41d2bc09ad24d97b1e0e97f75537487": {
      "model_module": "@jupyter-widgets/base",
      "model_module_version": "1.2.0",
      "model_name": "LayoutModel",
      "state": {}
     },
     "f41ebca09dd94958b840510087992ffe": {
      "model_module": "@jupyter-widgets/base",
      "model_module_version": "1.2.0",
      "model_name": "LayoutModel",
      "state": {
       "margin": "20px 0px"
      }
     },
     "f4bdb1ac62ae4f1ba65cb9bfe80e8b50": {
      "model_module": "@jupyter-widgets/controls",
      "model_module_version": "1.5.0",
      "model_name": "HBoxModel",
      "state": {
       "children": [
        "IPY_MODEL_b4eb01c447064278a10e95e371e491b5",
        "IPY_MODEL_368bf31b2cd549b2949bece28e1205ad"
       ],
       "layout": "IPY_MODEL_3859230710584fe98955e85d63f45d07"
      }
     },
     "f4f2faa3af214fe2ad81b69860fda065": {
      "model_module": "@jupyter-widgets/base",
      "model_module_version": "1.2.0",
      "model_name": "LayoutModel",
      "state": {}
     },
     "f4f80c8cf6b444139f0df44cf6b171cc": {
      "model_module": "@jupyter-widgets/controls",
      "model_module_version": "1.5.0",
      "model_name": "ColorPickerModel",
      "state": {
       "description": "ambient",
       "disabled": false,
       "layout": "IPY_MODEL_b609d0249e3d49ada716ca64850e65b8",
       "style": "IPY_MODEL_57ba92c34a3c4d26a6098635e1484968",
       "value": "#5b4534"
      }
     },
     "f4fc311f40184f1cb5a43ab2a5f5d676": {
      "model_module": "@jupyter-widgets/base",
      "model_module_version": "1.2.0",
      "model_name": "LayoutModel",
      "state": {}
     },
     "f54b6bb1cd9047f2913448b18542023e": {
      "model_module": "@jupyter-widgets/base",
      "model_module_version": "1.2.0",
      "model_name": "LayoutModel",
      "state": {
       "flex_flow": "row wrap",
       "margin": "20px"
      }
     },
     "f5730ea7e7c64ddd832fe8d4f113f656": {
      "model_module": "@jupyter-widgets/controls",
      "model_module_version": "1.5.0",
      "model_name": "ColorPickerModel",
      "state": {
       "description": "ambient",
       "disabled": false,
       "layout": "IPY_MODEL_a5264762497747948922c606524ae042",
       "style": "IPY_MODEL_4045fe6afc194dcaa3f2c54427fa1745",
       "value": "#195717"
      }
     },
     "f5bfbe34070d48409e2eb89df0aaa1dc": {
      "model_module": "@jupyter-widgets/controls",
      "model_module_version": "1.5.0",
      "model_name": "DescriptionStyleModel",
      "state": {
       "description_width": ""
      }
     },
     "f5c031c73e2d41bf8b06494de1a94e89": {
      "model_module": "@jupyter-widgets/controls",
      "model_module_version": "1.5.0",
      "model_name": "ButtonStyleModel",
      "state": {}
     },
     "f5d36d54332540779b373371ce91389e": {
      "model_module": "@jupyter-widgets/base",
      "model_module_version": "1.2.0",
      "model_name": "LayoutModel",
      "state": {
       "flex_flow": "row wrap"
      }
     },
     "f5eb433a652144f68dc06a51734bf8aa": {
      "model_module": "@jupyter-widgets/base",
      "model_module_version": "1.2.0",
      "model_name": "LayoutModel",
      "state": {}
     },
     "f600a6ae2e384964b8cef48223b138d5": {
      "model_module": "@jupyter-widgets/controls",
      "model_module_version": "1.5.0",
      "model_name": "TextModel",
      "state": {
       "continuous_update": false,
       "description": "name",
       "layout": "IPY_MODEL_1910124b79a9485da861e6e0c1762d37",
       "style": "IPY_MODEL_fc73aa7236da431dac7ba2b4a124ad11",
       "value": "trunk"
      }
     },
     "f628bcfc5a584627bfe3fcf55fe6a1b4": {
      "model_module": "@jupyter-widgets/controls",
      "model_module_version": "1.5.0",
      "model_name": "HBoxModel",
      "state": {
       "children": [
        "IPY_MODEL_34e774049b6c47ed934645d1f5622147",
        "IPY_MODEL_0225ffc1c00e4e10854402feed083775"
       ],
       "layout": "IPY_MODEL_3bc19bb63ddf48d997c4e036a6b93e14"
      }
     },
     "f63891c4f64f4653a78aca23c81afe25": {
      "model_module": "@jupyter-widgets/base",
      "model_module_version": "1.2.0",
      "model_name": "LayoutModel",
      "state": {
       "margin": "10px 10px"
      }
     },
     "f6729743e45f4de5a242dd5d165d2def": {
      "model_module": "@jupyter-widgets/controls",
      "model_module_version": "1.5.0",
      "model_name": "HBoxModel",
      "state": {
       "children": [
        "IPY_MODEL_beaddf86b7f44cc299563ba4d42805ac",
        "IPY_MODEL_28691dd4baba4a50be1bed6f5dc13469"
       ],
       "layout": "IPY_MODEL_9686a9ec1f724f7b9f1afc42c755dcf4"
      }
     },
     "f6831da68c52444e88220f9ed6ef5b40": {
      "model_module": "@jupyter-widgets/controls",
      "model_module_version": "1.5.0",
      "model_name": "DescriptionStyleModel",
      "state": {
       "description_width": ""
      }
     },
     "f6877ba37bef4c718f9ad54a1dee9c7e": {
      "model_module": "@jupyter-widgets/controls",
      "model_module_version": "1.5.0",
      "model_name": "VBoxModel",
      "state": {
       "children": [
        "IPY_MODEL_5872ea4882c74993af9862d9a8bfcb9f",
        "IPY_MODEL_20298b4a168141e9be68094a28287409",
        "IPY_MODEL_ebac3b19d9ab409d9c42b53d972811e3",
        "IPY_MODEL_e7e58753b42f479c87b45106eebaf7d8",
        "IPY_MODEL_cbb885bb9b4c46c4a535abf50628efc5"
       ],
       "layout": "IPY_MODEL_c2ea397318574d91a49746ced9e8db1a"
      }
     },
     "f68ee7a1ff1f4c219cab354f0604eedb": {
      "model_module": "@jupyter-widgets/controls",
      "model_module_version": "1.5.0",
      "model_name": "TextModel",
      "state": {
       "continuous_update": false,
       "description": "name",
       "layout": "IPY_MODEL_4324f2529e09415dadc3370833a9cf89",
       "style": "IPY_MODEL_49bae710026d4abebe418948abc24209",
       "value": "leafduration"
      }
     },
     "f68ef37f8ced4c228aca91904f273ad4": {
      "model_module": "@jupyter-widgets/controls",
      "model_module_version": "1.5.0",
      "model_name": "DescriptionStyleModel",
      "state": {
       "description_width": ""
      }
     },
     "f6bd143eb72a4021a9ee1d0db9b45016": {
      "model_module": "@jupyter-widgets/controls",
      "model_module_version": "1.5.0",
      "model_name": "FloatTextModel",
      "state": {
       "description": "min",
       "layout": "IPY_MODEL_340f0dbc98ff42bda049e2e8bbb7b838",
       "step": null,
       "style": "IPY_MODEL_7ee5793271fa419b8cf938c7cdd42829",
       "value": 0.01
      }
     },
     "f6c4882c37f6475dbcdbc12bd7155a7c": {
      "model_module": "@jupyter-widgets/base",
      "model_module_version": "1.2.0",
      "model_name": "LayoutModel",
      "state": {}
     },
     "f6d0532b4d034ab5add8a942c8036f27": {
      "model_module": "@jupyter-widgets/controls",
      "model_module_version": "1.5.0",
      "model_name": "SliderStyleModel",
      "state": {
       "description_width": ""
      }
     },
     "f6f979e7e2c640148f7ccf33cc3b0980": {
      "model_module": "@jupyter-widgets/base",
      "model_module_version": "1.2.0",
      "model_name": "LayoutModel",
      "state": {
       "margin": "20px 0px"
      }
     },
     "f744f73abc8b4e43bcabffd1e5617d58": {
      "model_module": "@jupyter-widgets/base",
      "model_module_version": "1.2.0",
      "model_name": "LayoutModel",
      "state": {}
     },
     "f760108295804b51a12e98b907147ca4": {
      "model_module": "@jupyter-widgets/controls",
      "model_module_version": "1.5.0",
      "model_name": "HBoxModel",
      "state": {
       "children": [
        "IPY_MODEL_060b0a3a5fe149d88da37110e7fd99dd",
        "IPY_MODEL_f2c1729018b749dc825f727cf95f0163"
       ],
       "layout": "IPY_MODEL_1cf4a392c16e40a5af323f7c787ca26d"
      }
     },
     "f7734ac97c2a419a80f3d26934e193d0": {
      "model_module": "@jupyter-widgets/controls",
      "model_module_version": "1.5.0",
      "model_name": "DescriptionStyleModel",
      "state": {
       "description_width": ""
      }
     },
     "f780df8385f34042a1e45373f0ef9cbc": {
      "model_module": "@jupyter-widgets/controls",
      "model_module_version": "1.5.0",
      "model_name": "DescriptionStyleModel",
      "state": {
       "description_width": ""
      }
     },
     "f786377f3c8f4c4db4d47255efae9e90": {
      "model_module": "@jupyter-widgets/base",
      "model_module_version": "1.2.0",
      "model_name": "LayoutModel",
      "state": {}
     },
     "f78af31ccb8c4fa6988f852a049c17d8": {
      "model_module": "pgljupyter",
      "model_module_version": "^0.1.21",
      "model_name": "MaterialEditorModel",
      "state": {
       "_model_module_version": "^0.1.21",
       "_view_module_version": "^0.1.21",
       "children": [
        "IPY_MODEL_e0797b2efbd349b591c26c07ddceb9b9",
        "IPY_MODEL_b3ab021d6df046ceb59289797f1e4f25",
        "IPY_MODEL_1381a5f505a041c5a6944ee0787a8c0c",
        "IPY_MODEL_86e5d6226409410ea3e7aff87df7c57d",
        "IPY_MODEL_304e2cc8f62a4765b62a59138286ab58",
        "IPY_MODEL_1ef74d1c41b24007821a052f50da2c9f",
        "IPY_MODEL_850aea0efb99435baa77c0a116afa497",
        "IPY_MODEL_2ba15c3936ee4dd3a35e1ac8b8710c9d"
       ],
       "layout": "IPY_MODEL_d472e1655a9444f0b18024002a8daeb0"
      }
     },
     "f7a150d82f6d40e4934ef1a89819382f": {
      "model_module": "@jupyter-widgets/base",
      "model_module_version": "1.2.0",
      "model_name": "LayoutModel",
      "state": {}
     },
     "f7ff34c66d4b431c8d7a458913ac23de": {
      "model_module": "@jupyter-widgets/base",
      "model_module_version": "1.2.0",
      "model_name": "LayoutModel",
      "state": {
       "flex_flow": "row wrap",
       "margin": "20px"
      }
     },
     "f809bb47cbf94d079b9331253cf0b41b": {
      "model_module": "@jupyter-widgets/base",
      "model_module_version": "1.2.0",
      "model_name": "LayoutModel",
      "state": {}
     },
     "f826609262fd40cb852fc2f4bd691b74": {
      "model_module": "@jupyter-widgets/base",
      "model_module_version": "1.2.0",
      "model_name": "LayoutModel",
      "state": {}
     },
     "f834a6370cbe4f55b43168d73475ea6e": {
      "model_module": "@jupyter-widgets/controls",
      "model_module_version": "1.5.0",
      "model_name": "HBoxModel",
      "state": {
       "children": [
        "IPY_MODEL_aa07377abfb5489ca39018eb747fddb6",
        "IPY_MODEL_58b01411a162470783fbaaa91028104c"
       ],
       "layout": "IPY_MODEL_7e4f103663654092a3b6f3f18908d2a4"
      }
     },
     "f836fd487d254139a4843f0eab8c88da": {
      "model_module": "@jupyter-widgets/controls",
      "model_module_version": "1.5.0",
      "model_name": "DescriptionStyleModel",
      "state": {
       "description_width": ""
      }
     },
     "f83dfb11eba54161877d623ec09906b5": {
      "model_module": "@jupyter-widgets/base",
      "model_module_version": "1.2.0",
      "model_name": "LayoutModel",
      "state": {
       "flex_flow": "row wrap"
      }
     },
     "f84fb842bfdc4ca69b673ea45abcdf91": {
      "model_module": "@jupyter-widgets/base",
      "model_module_version": "1.2.0",
      "model_name": "LayoutModel",
      "state": {
       "flex_flow": "row wrap",
       "margin": "20px"
      }
     },
     "f869d0c8c4644edf9a72e7f0721d5ba9": {
      "model_module": "@jupyter-widgets/base",
      "model_module_version": "1.2.0",
      "model_name": "LayoutModel",
      "state": {}
     },
     "f8b573f681b34435b46c31918778cf1a": {
      "model_module": "@jupyter-widgets/base",
      "model_module_version": "1.2.0",
      "model_name": "LayoutModel",
      "state": {}
     },
     "f8bb53ae98a6404eb9fbd8309f221e79": {
      "model_module": "@jupyter-widgets/controls",
      "model_module_version": "1.5.0",
      "model_name": "DescriptionStyleModel",
      "state": {
       "description_width": ""
      }
     },
     "f8bc8a94e6fc4a96a7ccd3d239c789b6": {
      "model_module": "@jupyter-widgets/base",
      "model_module_version": "1.2.0",
      "model_name": "LayoutModel",
      "state": {}
     },
     "f8c2776590214d378e6d1f0790fa3fda": {
      "model_module": "@jupyter-widgets/controls",
      "model_module_version": "1.5.0",
      "model_name": "ButtonStyleModel",
      "state": {}
     },
     "f8e8217ad4ff42db874a2be04d88d09c": {
      "model_module": "@jupyter-widgets/base",
      "model_module_version": "1.2.0",
      "model_name": "LayoutModel",
      "state": {}
     },
     "f8f1b22537ea4775b6a66c4cf9a93b36": {
      "model_module": "@jupyter-widgets/controls",
      "model_module_version": "1.5.0",
      "model_name": "ColorPickerModel",
      "state": {
       "description": "ambient",
       "disabled": false,
       "layout": "IPY_MODEL_ce0a26bba3a94e90ad2deec291c5620a",
       "style": "IPY_MODEL_d00bef684863448d8a69284c4b80ac23",
       "value": "#e1a014"
      }
     },
     "f958a1e7a32245119bf98c95905da1a2": {
      "model_module": "@jupyter-widgets/controls",
      "model_module_version": "1.5.0",
      "model_name": "ColorPickerModel",
      "state": {
       "description": "specular",
       "disabled": false,
       "layout": "IPY_MODEL_9b552c4d5fcb4cb5a27ef472c8be80f2",
       "style": "IPY_MODEL_537f1d906667422699e2fce4b5f31496",
       "value": "#282828"
      }
     },
     "f99d51312e7442a1b3f60bf6fe6b16a1": {
      "model_module": "pgljupyter",
      "model_module_version": "^0.1.21",
      "model_name": "MaterialEditorModel",
      "state": {
       "_model_module_version": "^0.1.21",
       "_view_module_version": "^0.1.21",
       "children": [
        "IPY_MODEL_24ef567daf684583a1b9719c63a29065",
        "IPY_MODEL_bea75cda8f8442a1a38a4e847733c703",
        "IPY_MODEL_c2205a0d7c964b6c8ed4a89cd19b8f92",
        "IPY_MODEL_891e2f6c24e942aa819fd94be0793970",
        "IPY_MODEL_d52fd3cce3b24ccfb6f4046c55f71e0a",
        "IPY_MODEL_d11c5f9a64894e40b64687ac16f2ba0a",
        "IPY_MODEL_c76ff38eb79648c091c2640ae5686f89",
        "IPY_MODEL_f00939b02b1b481eaf4beed6c5699d1f"
       ],
       "layout": "IPY_MODEL_51585e2af8b345d584039f57e61a325f"
      }
     },
     "f9d90d05276440c2b0ff25f4cf787f32": {
      "model_module": "@jupyter-widgets/controls",
      "model_module_version": "1.5.0",
      "model_name": "DescriptionStyleModel",
      "state": {
       "description_width": ""
      }
     },
     "f9ee036e79134257a314bedd8f10beed": {
      "model_module": "@jupyter-widgets/controls",
      "model_module_version": "1.5.0",
      "model_name": "HBoxModel",
      "state": {
       "children": [
        "IPY_MODEL_40b8836f5c9a48a5a579b8ab931ba7aa",
        "IPY_MODEL_0dfd63902b034d3a9cf7782c9e751b71"
       ],
       "layout": "IPY_MODEL_9424c3010f3348a9bc112e2fabf01dd9"
      }
     },
     "fa3fcbaf866c47d0a6ee55fb9125c3d4": {
      "model_module": "@jupyter-widgets/controls",
      "model_module_version": "1.5.0",
      "model_name": "FloatSliderModel",
      "state": {
       "description": "shininess",
       "layout": "IPY_MODEL_0493264d976c421cbf4fe203f92091da",
       "max": 1,
       "step": 0.1,
       "style": "IPY_MODEL_19c0e5bf37c2495dba13da8f747c69e9",
       "value": 0.2
      }
     },
     "fa6085381b324435aa9032f0b10413fd": {
      "model_module": "@jupyter-widgets/base",
      "model_module_version": "1.2.0",
      "model_name": "LayoutModel",
      "state": {
       "margin": "20px 0px"
      }
     },
     "fa78c56a5cee470db3de6e4fe2ec4481": {
      "model_module": "@jupyter-widgets/controls",
      "model_module_version": "1.5.0",
      "model_name": "IntSliderModel",
      "state": {
       "description": "value",
       "layout": "IPY_MODEL_9e9b6175f07b4b388b45284c5be91fe8",
       "max": 7,
       "min": 1,
       "style": "IPY_MODEL_200bbcd159c24386b1e2e9fe9c914ff7",
       "value": 3
      }
     },
     "fab3da10c1de4f6599d1614193ca639f": {
      "model_module": "@jupyter-widgets/controls",
      "model_module_version": "1.5.0",
      "model_name": "ButtonModel",
      "state": {
       "description": "Add",
       "layout": "IPY_MODEL_2e48c81795b64dcba33d064847595389",
       "style": "IPY_MODEL_e313ecd7771845129142078320e10db3"
      }
     },
     "fafd54646a864f0485ae172b9494da07": {
      "model_module": "@jupyter-widgets/controls",
      "model_module_version": "1.5.0",
      "model_name": "ButtonModel",
      "state": {
       "description": "Save changes",
       "layout": "IPY_MODEL_8c8cef7c9f7e4f1e84b0cd4319df23e7",
       "style": "IPY_MODEL_ad4777c7b26e4dc686420550608d2f12"
      }
     },
     "fb0c1e5b61d44683adf9f59f2d517439": {
      "model_module": "@jupyter-widgets/controls",
      "model_module_version": "1.5.0",
      "model_name": "ColorPickerModel",
      "state": {
       "description": "ambient",
       "disabled": false,
       "layout": "IPY_MODEL_c9e51a7855744cacbf121c9bb896cf32",
       "style": "IPY_MODEL_7cf3624548d34c2082dbac79e56a76bf",
       "value": "#195717"
      }
     },
     "fb1b6686319348cb96f3381131e638e7": {
      "model_module": "@jupyter-widgets/base",
      "model_module_version": "1.2.0",
      "model_name": "LayoutModel",
      "state": {}
     },
     "fb261447b1394430bbc4cbcda7f7c31a": {
      "model_module": "@jupyter-widgets/base",
      "model_module_version": "1.2.0",
      "model_name": "LayoutModel",
      "state": {}
     },
     "fb273117bed744e4a7d3e39c85368d3d": {
      "model_module": "pgljupyter",
      "model_module_version": "^0.1.19",
      "model_name": "MaterialEditorModel",
      "state": {
       "_model_module_version": "^0.1.19",
       "_view_module_version": "^0.1.19",
       "children": [
        "IPY_MODEL_bed12060ceba4494bf43652e512c3823",
        "IPY_MODEL_2bc76f78cd2740a6bbf7d58fd5b203a9",
        "IPY_MODEL_60b848e0a9d44febb7a1d3a68a4ed857",
        "IPY_MODEL_c92b975754c040e5b82b402ea1415e65",
        "IPY_MODEL_c215c775706940698bf97b3b703c91da",
        "IPY_MODEL_170f6b615a774635b281c9b6e87c2707",
        "IPY_MODEL_171326388f714eb48b0fdd7eb080c8b2",
        "IPY_MODEL_3c36699284b54bd483272ff26ed52203"
       ],
       "layout": "IPY_MODEL_1e3f2f62b72846cc8fb09a7e9d3f906d"
      }
     },
     "fb438b1cc1484336bb3533aa50de8e15": {
      "model_module": "@jupyter-widgets/base",
      "model_module_version": "1.2.0",
      "model_name": "LayoutModel",
      "state": {}
     },
     "fb7448a3ff6c4be5826e460f9f0e1ac3": {
      "model_module": "@jupyter-widgets/controls",
      "model_module_version": "1.5.0",
      "model_name": "SliderStyleModel",
      "state": {
       "description_width": ""
      }
     },
     "fb75e480e9124ea2828f538298ff8011": {
      "model_module": "@jupyter-widgets/controls",
      "model_module_version": "1.5.0",
      "model_name": "ColorPickerModel",
      "state": {
       "description": "emission",
       "disabled": false,
       "layout": "IPY_MODEL_1094bc7683de416b8ecf8f3d91396c29",
       "style": "IPY_MODEL_a26c18948d244e01af01c6897788165c",
       "value": "#000000"
      }
     },
     "fb7df1f7b61a4ed2818a12f94a3168c4": {
      "model_module": "@jupyter-widgets/controls",
      "model_module_version": "1.5.0",
      "model_name": "DescriptionStyleModel",
      "state": {
       "description_width": ""
      }
     },
     "fb890f35eb7342de80f4cca03a20aba6": {
      "model_module": "@jupyter-widgets/controls",
      "model_module_version": "1.5.0",
      "model_name": "DescriptionStyleModel",
      "state": {
       "description_width": ""
      }
     },
     "fbc28d4867664e83b912b970159719cf": {
      "model_module": "@jupyter-widgets/controls",
      "model_module_version": "1.5.0",
      "model_name": "ColorPickerModel",
      "state": {
       "description": "emission",
       "disabled": false,
       "layout": "IPY_MODEL_6791d50a53e24801abf8906493e8c15d",
       "style": "IPY_MODEL_df8389dbdb414385b534fd6eb31d6a1e",
       "value": "#000000"
      }
     },
     "fc127ff6172e4b0984f4d7a91e171c32": {
      "model_module": "@jupyter-widgets/controls",
      "model_module_version": "1.5.0",
      "model_name": "FloatSliderModel",
      "state": {
       "description": "transparency",
       "layout": "IPY_MODEL_97afb2960e67464ebd0ea7e768317b03",
       "max": 1,
       "step": 0.1,
       "style": "IPY_MODEL_8345834e21f741efb76cf84afc82297c"
      }
     },
     "fc285204d80d4fe587b6c0d1e1042610": {
      "model_module": "@jupyter-widgets/controls",
      "model_module_version": "1.5.0",
      "model_name": "DescriptionStyleModel",
      "state": {
       "description_width": ""
      }
     },
     "fc73aa7236da431dac7ba2b4a124ad11": {
      "model_module": "@jupyter-widgets/controls",
      "model_module_version": "1.5.0",
      "model_name": "DescriptionStyleModel",
      "state": {
       "description_width": ""
      }
     },
     "fc7845240a5a42389a89509a28eb34dd": {
      "model_module": "@jupyter-widgets/controls",
      "model_module_version": "1.5.0",
      "model_name": "DescriptionStyleModel",
      "state": {
       "description_width": ""
      }
     },
     "fc7a4aec149a4cf08600950691200520": {
      "model_module": "@jupyter-widgets/base",
      "model_module_version": "1.2.0",
      "model_name": "LayoutModel",
      "state": {}
     },
     "fcb10f0aee304daf943e423fda4b86f2": {
      "model_module": "@jupyter-widgets/controls",
      "model_module_version": "1.5.0",
      "model_name": "ColorPickerModel",
      "state": {
       "description": "emission",
       "disabled": false,
       "layout": "IPY_MODEL_b2f08df3f7bb4655984473bbce30d2a8",
       "style": "IPY_MODEL_b1bea4580daf4865a4ab65528a99b960",
       "value": "#000000"
      }
     },
     "fcb828149d8b4587a737cf0adaca9f9c": {
      "model_module": "@jupyter-widgets/base",
      "model_module_version": "1.2.0",
      "model_name": "LayoutModel",
      "state": {}
     },
     "fcc4f1c9cd4740db81b92272d44020c6": {
      "model_module": "@jupyter-widgets/controls",
      "model_module_version": "1.5.0",
      "model_name": "ColorPickerModel",
      "state": {
       "description": "emission",
       "disabled": false,
       "layout": "IPY_MODEL_932905fe953a416bb495d9f6c2ffa4fe",
       "style": "IPY_MODEL_a8635d0de8634cffa50f768817ef709b",
       "value": "#000000"
      }
     },
     "fcdb0e54646c4bbbb1485f7cb42b4bbc": {
      "model_module": "@jupyter-widgets/controls",
      "model_module_version": "1.5.0",
      "model_name": "ButtonModel",
      "state": {
       "description": "Add",
       "layout": "IPY_MODEL_028403f5d1004d399f4c48bedf82c508",
       "style": "IPY_MODEL_c7ce13c027424623b6f2e99ab754ce1b"
      }
     },
     "fce01e4c69184a6aa0107d409c41700a": {
      "model_module": "@jupyter-widgets/controls",
      "model_module_version": "1.5.0",
      "model_name": "DescriptionStyleModel",
      "state": {
       "description_width": ""
      }
     },
     "fd08b70fb3e142cb98e6e66d7a86f160": {
      "model_module": "@jupyter-widgets/controls",
      "model_module_version": "1.5.0",
      "model_name": "DescriptionStyleModel",
      "state": {
       "description_width": ""
      }
     },
     "fd123b157eeb4540a7cc729aaa32ef3f": {
      "model_module": "@jupyter-widgets/controls",
      "model_module_version": "1.5.0",
      "model_name": "ButtonModel",
      "state": {
       "description": "Apply changes",
       "layout": "IPY_MODEL_8b9d8ab9579d479587514dba40ca7bcd",
       "style": "IPY_MODEL_907af94c6c2443389979483218e080ca"
      }
     },
     "fd273ce6761742148ac89669bc64d98d": {
      "model_module": "@jupyter-widgets/base",
      "model_module_version": "1.2.0",
      "model_name": "LayoutModel",
      "state": {
       "margin": "20px 0px"
      }
     },
     "fd39d26e27d246b281772663c5b0b1c0": {
      "model_module": "@jupyter-widgets/controls",
      "model_module_version": "1.5.0",
      "model_name": "DescriptionStyleModel",
      "state": {
       "description_width": ""
      }
     },
     "fd50b55e03484806aa3cae2a2541a1d3": {
      "model_module": "@jupyter-widgets/base",
      "model_module_version": "1.2.0",
      "model_name": "LayoutModel",
      "state": {}
     },
     "fdc7cdfb71c14e9f9ae8327b7e4919ce": {
      "model_module": "@jupyter-widgets/base",
      "model_module_version": "1.2.0",
      "model_name": "LayoutModel",
      "state": {}
     },
     "fdd783e8cd6f4152908064599bd69390": {
      "model_module": "@jupyter-widgets/base",
      "model_module_version": "1.2.0",
      "model_name": "LayoutModel",
      "state": {}
     },
     "fdfa37b789c94f49849c21a3d2bec28a": {
      "model_module": "@jupyter-widgets/base",
      "model_module_version": "1.2.0",
      "model_name": "LayoutModel",
      "state": {}
     },
     "fe19d3f5e3dc4cd99368775b1f16b8cc": {
      "model_module": "@jupyter-widgets/controls",
      "model_module_version": "1.5.0",
      "model_name": "ButtonStyleModel",
      "state": {}
     },
     "fe1ca6c5f8b149d586fe37d3f4c8d5df": {
      "model_module": "@jupyter-widgets/controls",
      "model_module_version": "1.5.0",
      "model_name": "ColorPickerModel",
      "state": {
       "description": "emission",
       "disabled": false,
       "layout": "IPY_MODEL_3ba93cb374114bc4a5fdc1c020fb99d2",
       "style": "IPY_MODEL_3036777e7fe24a1599267429c31acd12",
       "value": "#000000"
      }
     },
     "fe21590a178c49c09a36c5fb9b0fb406": {
      "model_module": "@jupyter-widgets/base",
      "model_module_version": "1.2.0",
      "model_name": "LayoutModel",
      "state": {
       "margin": "20px 0px"
      }
     },
     "fe39b8c3b9064292a4c361b7263a6c84": {
      "model_module": "@jupyter-widgets/controls",
      "model_module_version": "1.5.0",
      "model_name": "BoundedIntTextModel",
      "state": {
       "description": "index",
       "layout": "IPY_MODEL_2efed7a1fa88483699467354d3562b8e",
       "style": "IPY_MODEL_d152ff0131e44467aa1643fe2974e1b9",
       "value": 1
      }
     },
     "fe3f4751df8748c2bbaad9e702ecd866": {
      "model_module": "@jupyter-widgets/base",
      "model_module_version": "1.2.0",
      "model_name": "LayoutModel",
      "state": {
       "margin": "20px 0px"
      }
     },
     "fe47d6fcca4343b9b6744ef3bf3370a2": {
      "model_module": "@jupyter-widgets/controls",
      "model_module_version": "1.5.0",
      "model_name": "DescriptionStyleModel",
      "state": {
       "description_width": ""
      }
     },
     "fe6fc9b954504ac48e9ea7a8339c409b": {
      "model_module": "@jupyter-widgets/controls",
      "model_module_version": "1.5.0",
      "model_name": "FloatSliderModel",
      "state": {
       "description": "transparency",
       "layout": "IPY_MODEL_71bc512b2098424d90eb915826bf82e4",
       "max": 1,
       "step": 0.1,
       "style": "IPY_MODEL_94fe467575e84f10afa968e472e6294b"
      }
     },
     "fe77130544c74fea9c083f6b668bcfaf": {
      "model_module": "@jupyter-widgets/controls",
      "model_module_version": "1.5.0",
      "model_name": "DescriptionStyleModel",
      "state": {
       "description_width": ""
      }
     },
     "fe924468805c4aa4b1a13f57e745e092": {
      "model_module": "@jupyter-widgets/base",
      "model_module_version": "1.2.0",
      "model_name": "LayoutModel",
      "state": {}
     },
     "fe9595ab730a4f21a90e37b95c64eb35": {
      "model_module": "@jupyter-widgets/base",
      "model_module_version": "1.2.0",
      "model_name": "LayoutModel",
      "state": {}
     },
     "fece1e7f13bd475fac0ed48c8e36b25b": {
      "model_module": "@jupyter-widgets/controls",
      "model_module_version": "1.5.0",
      "model_name": "DropdownModel",
      "state": {
       "_options_labels": [
        "NurbsCurve2D",
        "BezierCurve2D",
        "Polyline2D",
        "Function"
       ],
       "index": 0,
       "layout": "IPY_MODEL_f3f2dbabf14c4ce7bc023cc0ac7e2774",
       "style": "IPY_MODEL_6eb1ab587c7b4b10b6c7a97e430683cf"
      }
     },
     "fed9460058884e208750ebcd25227db9": {
      "model_module": "@jupyter-widgets/controls",
      "model_module_version": "1.5.0",
      "model_name": "CheckboxModel",
      "state": {
       "description": "Auto apply",
       "disabled": false,
       "layout": "IPY_MODEL_7684bf627af64c99a1beb3e9c3800d93",
       "style": "IPY_MODEL_1f1df1d84cbd4198a124c637fd5a7782",
       "value": false
      }
     },
     "fef140b17815482fac4c6efc6accb2db": {
      "model_module": "@jupyter-widgets/controls",
      "model_module_version": "1.5.0",
      "model_name": "FloatSliderModel",
      "state": {
       "description": "shininess",
       "layout": "IPY_MODEL_23b2d84440ff41cdb3f1251c2c430172",
       "max": 1,
       "step": 0.1,
       "style": "IPY_MODEL_e7fc586047f245ce97a55030431cb070",
       "value": 0.2
      }
     },
     "fef2dad388044251aeb285ace627b9c7": {
      "model_module": "@jupyter-widgets/base",
      "model_module_version": "1.2.0",
      "model_name": "LayoutModel",
      "state": {}
     },
     "ff19056acbcf40a6834375d3cb7b1e9c": {
      "model_module": "@jupyter-widgets/controls",
      "model_module_version": "1.5.0",
      "model_name": "DescriptionStyleModel",
      "state": {
       "description_width": ""
      }
     },
     "ff9430da97704faca4a5581d596a9844": {
      "model_module": "@jupyter-widgets/base",
      "model_module_version": "1.2.0",
      "model_name": "LayoutModel",
      "state": {}
     },
     "ff98df5ff2474c69a7b7ac98b28b5e0f": {
      "model_module": "@jupyter-widgets/controls",
      "model_module_version": "1.5.0",
      "model_name": "ButtonModel",
      "state": {
       "description": "Delete",
       "layout": "IPY_MODEL_3adc644fd9d942919096f3806a27c8f1",
       "style": "IPY_MODEL_3b114d7895634592920f7407242e59d9"
      }
     },
     "ffa7968d5369463eadff716d61ff8c15": {
      "model_module": "@jupyter-widgets/base",
      "model_module_version": "1.2.0",
      "model_name": "LayoutModel",
      "state": {}
     },
     "ffc34902c36642e1969fa8c466aeb653": {
      "model_module": "@jupyter-widgets/base",
      "model_module_version": "1.2.0",
      "model_name": "LayoutModel",
      "state": {
       "margin": "20px 0px"
      }
     },
     "ffd2e60a3312408a8134cc48bad3dece": {
      "model_module": "@jupyter-widgets/controls",
      "model_module_version": "1.5.0",
      "model_name": "FloatSliderModel",
      "state": {
       "description": "diffuse",
       "layout": "IPY_MODEL_9e2c5933bf4e4702ae54e16799be5b86",
       "max": 3,
       "step": 0.1,
       "style": "IPY_MODEL_1b23eb33720947ad81bbf0cc81ea07cf",
       "value": 1
      }
     },
     "ffd47b6cfe404097909f5f4870a7fc67": {
      "model_module": "@jupyter-widgets/controls",
      "model_module_version": "1.5.0",
      "model_name": "DescriptionStyleModel",
      "state": {
       "description_width": ""
      }
     },
     "ffe3a14526fc4001b47eb439d2875e4a": {
      "model_module": "@jupyter-widgets/controls",
      "model_module_version": "1.5.0",
      "model_name": "SliderStyleModel",
      "state": {
       "description_width": ""
      }
     },
     "fffdce2dbd3c478e87ffe3ab55ccfcaf": {
      "model_module": "@jupyter-widgets/base",
      "model_module_version": "1.2.0",
      "model_name": "LayoutModel",
      "state": {}
     }
    },
    "version_major": 2,
    "version_minor": 0
   }
  }
 },
 "nbformat": 4,
 "nbformat_minor": 4
}
