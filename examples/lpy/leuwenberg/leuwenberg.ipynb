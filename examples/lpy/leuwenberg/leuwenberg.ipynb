{
 "cells": [
  {
   "cell_type": "code",
   "execution_count": 1,
   "metadata": {},
   "outputs": [],
   "source": [
    "from pgljupyter import LsystemWidget"
   ]
  },
  {
   "cell_type": "code",
   "execution_count": 2,
   "metadata": {},
   "outputs": [],
   "source": [
    "lw = LsystemWidget('leuwenberg.lpy', unit='m', size_world=50, animate=True)"
   ]
  },
  {
   "cell_type": "code",
   "execution_count": 3,
   "metadata": {},
   "outputs": [
    {
     "data": {
      "application/vnd.jupyter.widget-view+json": {
       "model_id": "a1b5f9ced38f46e9b91b625024aaf0c5",
       "version_major": 2,
       "version_minor": 0
      },
      "text/plain": [
       "LsystemWidget(animate=True, derivationLength=41, scene={'data': b'x\\xdaSLrw\\xf5\\xf7e`Pp\\xe0\\xe5RPVVde```be\\x08…"
      ]
     },
     "metadata": {},
     "output_type": "display_data"
    }
   ],
   "source": [
    "lw"
   ]
  },
  {
   "cell_type": "code",
   "execution_count": null,
   "metadata": {},
   "outputs": [],
   "source": [
    "lw.editor"
   ]
  },
  {
   "cell_type": "code",
   "execution_count": null,
   "metadata": {},
   "outputs": [],
   "source": []
  }
 ],
 "metadata": {
  "kernelspec": {
   "display_name": "Python 3",
   "language": "python",
   "name": "python3"
  },
  "language_info": {
   "codemirror_mode": {
    "name": "ipython",
    "version": 3
   },
   "file_extension": ".py",
   "mimetype": "text/x-python",
   "name": "python",
   "nbconvert_exporter": "python",
   "pygments_lexer": "ipython3",
   "version": "3.8.5"
  },
  "widgets": {
   "application/vnd.jupyter.widget-state+json": {
    "state": {
     "006c860d83bb44f197de8a363c8000ca": {
      "model_module": "@jupyter-widgets/base",
      "model_module_version": "1.2.0",
      "model_name": "LayoutModel",
      "state": {}
     },
     "00cac5436c8e487dae18a9ff4734dbaf": {
      "model_module": "@jupyter-widgets/controls",
      "model_module_version": "1.5.0",
      "model_name": "ButtonStyleModel",
      "state": {}
     },
     "011e5223efa649b9bf1d2bed8747815d": {
      "model_module": "@jupyter-widgets/controls",
      "model_module_version": "1.5.0",
      "model_name": "DescriptionStyleModel",
      "state": {
       "description_width": ""
      }
     },
     "01552cc098bb4739882f3ec4dc719ec8": {
      "model_module": "@jupyter-widgets/controls",
      "model_module_version": "1.5.0",
      "model_name": "DropdownModel",
      "state": {
       "_options_labels": [
        "NurbsCurve2D",
        "BezierCurve2D",
        "Polyline2D",
        "Function"
       ],
       "index": 0,
       "layout": "IPY_MODEL_4dcf6f69930d49be872b838aed6b60ef",
       "style": "IPY_MODEL_c3bb6e2e3a964b54bae4688c732ce7f1"
      }
     },
     "01a4c9607cdf48b8898781b301081a28": {
      "model_module": "@jupyter-widgets/controls",
      "model_module_version": "1.5.0",
      "model_name": "VBoxModel",
      "state": {
       "children": [
        "IPY_MODEL_c25b4590b0ae444281e4de1577dba820",
        "IPY_MODEL_29fc71175e7a45d6b518dc6b0b3abe69"
       ],
       "layout": "IPY_MODEL_88d679242d4e47da83d942cd3e60dc38"
      }
     },
     "01c976d04d3844679724e474809c158b": {
      "model_module": "@jupyter-widgets/base",
      "model_module_version": "1.2.0",
      "model_name": "LayoutModel",
      "state": {}
     },
     "01d156abe9e64f279c9e54ff54687842": {
      "model_module": "@jupyter-widgets/controls",
      "model_module_version": "1.5.0",
      "model_name": "DescriptionStyleModel",
      "state": {
       "description_width": ""
      }
     },
     "01f8e7becffd4b2dab6e12674ca3f07f": {
      "model_module": "@jupyter-widgets/controls",
      "model_module_version": "1.5.0",
      "model_name": "SliderStyleModel",
      "state": {
       "description_width": ""
      }
     },
     "024a1bedd40241b69d18bf5622dad7ab": {
      "model_module": "@jupyter-widgets/controls",
      "model_module_version": "1.5.0",
      "model_name": "DescriptionStyleModel",
      "state": {
       "description_width": ""
      }
     },
     "02a74f7bceb840a7a578defaea9f85bd": {
      "model_module": "@jupyter-widgets/base",
      "model_module_version": "1.2.0",
      "model_name": "LayoutModel",
      "state": {
       "margin": "20px 0px"
      }
     },
     "02acf25050254dd985fdf1102b507140": {
      "model_module": "@jupyter-widgets/controls",
      "model_module_version": "1.5.0",
      "model_name": "HBoxModel",
      "state": {
       "children": [
        "IPY_MODEL_b9cc05f666bc435cbe476ef8e9e4fbec",
        "IPY_MODEL_8c6d842e752a4b18b7ab2cfa3594f105"
       ],
       "layout": "IPY_MODEL_aba6237376814db3825fb7a05b492cc1"
      }
     },
     "02bb664da5f046189a579eed3aa3964f": {
      "model_module": "@jupyter-widgets/controls",
      "model_module_version": "1.5.0",
      "model_name": "IntTextModel",
      "state": {
       "description": "min",
       "layout": "IPY_MODEL_660de94f0adc4a67ad18f37582679166",
       "step": 1,
       "style": "IPY_MODEL_154d67d33ca541a4bcb159be9177f601",
       "value": 1
      }
     },
     "02bf8ebed60641da9aac3f46aa09b284": {
      "model_module": "@jupyter-widgets/controls",
      "model_module_version": "1.5.0",
      "model_name": "TextModel",
      "state": {
       "continuous_update": false,
       "description": "name",
       "layout": "IPY_MODEL_3fe29caf9acb479c9e156fc6416900ee",
       "style": "IPY_MODEL_b7601ada32964215b08802b99d20b892",
       "value": "nb_axes"
      }
     },
     "02cbf32df22e4d48bb67b3a4b211d2e7": {
      "model_module": "@jupyter-widgets/base",
      "model_module_version": "1.2.0",
      "model_name": "LayoutModel",
      "state": {}
     },
     "02dfbd0f3f494360ad5c3be0612bc61f": {
      "model_module": "@jupyter-widgets/base",
      "model_module_version": "1.2.0",
      "model_name": "LayoutModel",
      "state": {}
     },
     "034ed870191544c4b7837fbbd29c712d": {
      "model_module": "@jupyter-widgets/controls",
      "model_module_version": "1.5.0",
      "model_name": "ButtonModel",
      "state": {
       "description": "Delete",
       "layout": "IPY_MODEL_b81af8cd3ac248688134ee4c10479ba6",
       "style": "IPY_MODEL_d736f9ff59474e2fbde6d727a08f13f6"
      }
     },
     "0363dd6f49f04bb58c913c0d2c5c903b": {
      "model_module": "@jupyter-widgets/controls",
      "model_module_version": "1.5.0",
      "model_name": "VBoxModel",
      "state": {
       "children": [
        "IPY_MODEL_b0e428650bcd4920989735f0790ab5a4",
        "IPY_MODEL_40af17acda92411d80109dc43358e774"
       ],
       "layout": "IPY_MODEL_80cb56e577a544b7b67854bd62adcbe8"
      }
     },
     "037f7d5ac4284833bf9e8272d25a243e": {
      "model_module": "@jupyter-widgets/controls",
      "model_module_version": "1.5.0",
      "model_name": "ButtonStyleModel",
      "state": {}
     },
     "038dd9c257d341c099569c1521bb00f1": {
      "model_module": "@jupyter-widgets/controls",
      "model_module_version": "1.5.0",
      "model_name": "TabModel",
      "state": {
       "_titles": {
        "0": "leuwenberg.json"
       },
       "children": [
        "IPY_MODEL_da7312441c124645a859a4440c5e690a"
       ],
       "layout": "IPY_MODEL_3e05ba6b58e74c328014b35717708836"
      }
     },
     "03b8f58d0d4748bc8c70bc4cbd010c81": {
      "model_module": "@jupyter-widgets/controls",
      "model_module_version": "1.5.0",
      "model_name": "DescriptionStyleModel",
      "state": {
       "description_width": ""
      }
     },
     "0405e697af844b2ea91e99af5ca06901": {
      "model_module": "@jupyter-widgets/controls",
      "model_module_version": "1.5.0",
      "model_name": "DescriptionStyleModel",
      "state": {
       "description_width": ""
      }
     },
     "048bb63b5aac4025b904ec1e7f139797": {
      "model_module": "@jupyter-widgets/base",
      "model_module_version": "1.2.0",
      "model_name": "LayoutModel",
      "state": {}
     },
     "04e56f0541674c39a651dd9c50a6c8f2": {
      "model_module": "@jupyter-widgets/controls",
      "model_module_version": "1.5.0",
      "model_name": "DescriptionStyleModel",
      "state": {
       "description_width": ""
      }
     },
     "04e75893469a40c59769c30734490d10": {
      "model_module": "@jupyter-widgets/controls",
      "model_module_version": "1.5.0",
      "model_name": "DescriptionStyleModel",
      "state": {
       "description_width": ""
      }
     },
     "0517c90068cf49819b0878b929df6a97": {
      "model_module": "@jupyter-widgets/controls",
      "model_module_version": "1.5.0",
      "model_name": "TextModel",
      "state": {
       "continuous_update": false,
       "description": "name",
       "layout": "IPY_MODEL_574863a6cad34aef8e40d8339970a06e",
       "style": "IPY_MODEL_a5cb51dbbce1400eae12508087a76361",
       "value": "NurbsCurve2D_0"
      }
     },
     "05309ec65eeb47319dd90200e4ded550": {
      "model_module": "@jupyter-widgets/controls",
      "model_module_version": "1.5.0",
      "model_name": "DropdownModel",
      "state": {
       "_options_labels": [
        "NurbsCurve2D"
       ],
       "index": 0,
       "layout": "IPY_MODEL_493d5a5387c94ff6bb50e2aaa48fcbf4",
       "style": "IPY_MODEL_7b202b2c87bf4343b5cfdad8b03600b6"
      }
     },
     "0584709e6b43421cac48ecdf7b92801e": {
      "model_module": "@jupyter-widgets/base",
      "model_module_version": "1.2.0",
      "model_name": "LayoutModel",
      "state": {}
     },
     "059cd3ead9c84420a00546dd6da8188f": {
      "model_module": "@jupyter-widgets/controls",
      "model_module_version": "1.5.0",
      "model_name": "HBoxModel",
      "state": {
       "children": [
        "IPY_MODEL_3feee74276d3421fae01be462715ffc8",
        "IPY_MODEL_fef5842bd92e42159dc06e93194ba888"
       ],
       "layout": "IPY_MODEL_1aaed1264b7e4af38e5dfa20e770f4aa"
      }
     },
     "05baa82cf2bd4d19ae29886c495c838c": {
      "model_module": "@jupyter-widgets/controls",
      "model_module_version": "1.5.0",
      "model_name": "FloatTextModel",
      "state": {
       "description": "max",
       "layout": "IPY_MODEL_fa5ab9a9bee44bd487e3af93b6960686",
       "step": null,
       "style": "IPY_MODEL_f3edf20f06664802b1ed1a7f3e4d9d75",
       "value": 0.1
      }
     },
     "05c793cf33424025941cb184db923fea": {
      "model_module": "@jupyter-widgets/controls",
      "model_module_version": "1.5.0",
      "model_name": "DescriptionStyleModel",
      "state": {
       "description_width": ""
      }
     },
     "06cce5f559ff492daf7de0450f9ce4cc": {
      "model_module": "@jupyter-widgets/base",
      "model_module_version": "1.2.0",
      "model_name": "LayoutModel",
      "state": {}
     },
     "0714f35b18a44fbaaa6d2aa26b46616e": {
      "model_module": "pgljupyter",
      "model_module_version": "^0.1.2",
      "model_name": "CurveEditorModel",
      "state": {
       "_model_module_version": "^0.1.2",
       "_view_module_version": "^0.1.2",
       "children": [
        "IPY_MODEL_a87b550ba97246eabb2a2332372e8cb5",
        "IPY_MODEL_617dd871b3974aa984eea01a4c161657"
       ],
       "layout": "IPY_MODEL_e1ab7903552947558c2f9def1fa24f2a"
      }
     },
     "07222ec0cc5f4b80ac8b7e5edc408fd8": {
      "model_module": "@jupyter-widgets/controls",
      "model_module_version": "1.5.0",
      "model_name": "DescriptionStyleModel",
      "state": {
       "description_width": ""
      }
     },
     "07424825f5c943b4b27c37d747ec046a": {
      "model_module": "@jupyter-widgets/controls",
      "model_module_version": "1.5.0",
      "model_name": "BoundedIntTextModel",
      "state": {
       "description": "step",
       "layout": "IPY_MODEL_2d70beccf69c4efc9a83cd358de0d9d2",
       "min": 1,
       "style": "IPY_MODEL_d18872a2ef9b47d0aacc9fc86e75a003",
       "value": 1
      }
     },
     "07be53bbb9d944eabc52ffbee52e5bac": {
      "model_module": "@jupyter-widgets/base",
      "model_module_version": "1.2.0",
      "model_name": "LayoutModel",
      "state": {}
     },
     "07d9bb8ab52941bd8dcb93c7cdc8d27a": {
      "model_module": "@jupyter-widgets/base",
      "model_module_version": "1.2.0",
      "model_name": "LayoutModel",
      "state": {}
     },
     "08205c4815754438a774f886dc48c434": {
      "model_module": "@jupyter-widgets/controls",
      "model_module_version": "1.5.0",
      "model_name": "ColorPickerModel",
      "state": {
       "description": "specular",
       "disabled": false,
       "layout": "IPY_MODEL_99302e31763945609667a0e4acb70120",
       "style": "IPY_MODEL_86d0c2f7ea1b44e6908bfd682ece3329",
       "value": "#478f9f"
      }
     },
     "0842b7cc38b84096bcf7901c1b64f401": {
      "model_module": "pgljupyter",
      "model_module_version": "^0.1.2",
      "model_name": "_CurveEditorModel",
      "state": {
       "_model_module_version": "^0.1.2",
       "_view_module_version": "^0.1.2",
       "control_points": [
        [
         -0.5,
         0
        ],
        [
         -0.2318181818181818,
         0.2909090909090909
        ],
        [
         0.22272727272727277,
         -0.15909090909090906
        ],
        [
         0.5,
         0
        ]
       ],
       "curve_type": "Polyline2D",
       "layout": "IPY_MODEL_c93fac566bbf44a09ddc34c6f6532ae3"
      }
     },
     "085cf00af7e74f6a8bdf8faa2bd45c79": {
      "model_module": "@jupyter-widgets/base",
      "model_module_version": "1.2.0",
      "model_name": "LayoutModel",
      "state": {}
     },
     "08a4960b5d9a400f9e7acdae1bc9b992": {
      "model_module": "@jupyter-widgets/base",
      "model_module_version": "1.2.0",
      "model_name": "LayoutModel",
      "state": {}
     },
     "08ea1418a4b2409ba8dd9cedfd95eebc": {
      "model_module": "@jupyter-widgets/base",
      "model_module_version": "1.2.0",
      "model_name": "LayoutModel",
      "state": {}
     },
     "0902933020a846afa086a4dc7ee249a4": {
      "model_module": "@jupyter-widgets/controls",
      "model_module_version": "1.5.0",
      "model_name": "HBoxModel",
      "state": {
       "children": [
        "IPY_MODEL_82677ec5f54f4726a069d2eae97e6773",
        "IPY_MODEL_02acf25050254dd985fdf1102b507140"
       ],
       "layout": "IPY_MODEL_1aaed1264b7e4af38e5dfa20e770f4aa"
      }
     },
     "096a27de4fb74defab7139814791f0a3": {
      "model_module": "@jupyter-widgets/controls",
      "model_module_version": "1.5.0",
      "model_name": "FloatSliderModel",
      "state": {
       "description": "diffuse",
       "layout": "IPY_MODEL_08ea1418a4b2409ba8dd9cedfd95eebc",
       "max": 1,
       "step": 0.1,
       "style": "IPY_MODEL_6e422346b87a4c5b92c0c8c310df3122",
       "value": 1
      }
     },
     "0a24786ecfbe4e24a5250a48a1b6d358": {
      "model_module": "@jupyter-widgets/controls",
      "model_module_version": "1.5.0",
      "model_name": "DescriptionStyleModel",
      "state": {
       "description_width": ""
      }
     },
     "0a2938deb20642c5988031f8dc64848d": {
      "model_module": "@jupyter-widgets/controls",
      "model_module_version": "1.5.0",
      "model_name": "TextModel",
      "state": {
       "continuous_update": false,
       "description": "name",
       "layout": "IPY_MODEL_4bbbae79a86144d493f18b5c2c7594dc",
       "style": "IPY_MODEL_5869b36a3dbb49e7ac247b1feb7974f0",
       "value": "leafold"
      }
     },
     "0a2a346a9e664a96a6f6cb0da81b7342": {
      "model_module": "@jupyter-widgets/controls",
      "model_module_version": "1.5.0",
      "model_name": "DescriptionStyleModel",
      "state": {
       "description_width": ""
      }
     },
     "0a63f463c5d8470ebb1e732d48fd1d86": {
      "model_module": "@jupyter-widgets/base",
      "model_module_version": "1.2.0",
      "model_name": "LayoutModel",
      "state": {}
     },
     "0aa1b06dc5f043478644fff372f306a6": {
      "model_module": "@jupyter-widgets/base",
      "model_module_version": "1.2.0",
      "model_name": "LayoutModel",
      "state": {}
     },
     "0ad52567a05440bfa1b7f62f0dcd33e5": {
      "model_module": "@jupyter-widgets/controls",
      "model_module_version": "1.5.0",
      "model_name": "TextModel",
      "state": {
       "continuous_update": false,
       "description": "name",
       "layout": "IPY_MODEL_d0f01479a05d433d9dea0f06d6e5c866",
       "style": "IPY_MODEL_275ac823b0bb4043b623929cb56cc202",
       "value": "leafold"
      }
     },
     "0b38fbfb4d1f4b9995215a9f3e2c4a51": {
      "model_module": "@jupyter-widgets/base",
      "model_module_version": "1.2.0",
      "model_name": "LayoutModel",
      "state": {}
     },
     "0b4645fbad8a429ea2d3c445d6b538cc": {
      "model_module": "@jupyter-widgets/base",
      "model_module_version": "1.2.0",
      "model_name": "LayoutModel",
      "state": {}
     },
     "0b4c4d71ec8e44e68cc9250e5069637a": {
      "model_module": "@jupyter-widgets/base",
      "model_module_version": "1.2.0",
      "model_name": "LayoutModel",
      "state": {}
     },
     "0c10f805bff84441b05ffd189a5c8661": {
      "model_module": "@jupyter-widgets/controls",
      "model_module_version": "1.5.0",
      "model_name": "DescriptionStyleModel",
      "state": {
       "description_width": ""
      }
     },
     "0c82adbe02b14ee888134148a12ab08a": {
      "model_module": "@jupyter-widgets/controls",
      "model_module_version": "1.5.0",
      "model_name": "HBoxModel",
      "state": {
       "layout": "IPY_MODEL_fe0cdcc6562e4d7b98662c718d50f517"
      }
     },
     "0cbe358ee0dd4965a43e04c56c73e8c6": {
      "model_module": "@jupyter-widgets/base",
      "model_module_version": "1.2.0",
      "model_name": "LayoutModel",
      "state": {}
     },
     "0cc395aa40e94b989a548febcfdb5e05": {
      "model_module": "@jupyter-widgets/controls",
      "model_module_version": "1.5.0",
      "model_name": "IntSliderModel",
      "state": {
       "description": "value",
       "layout": "IPY_MODEL_b48db2e5fcaa41a3b57d77147d5c6ee4",
       "max": 10,
       "min": 1,
       "style": "IPY_MODEL_ab025d81fa764c8aa87ff6d432656adf",
       "value": 6
      }
     },
     "0ce72c849bc04be1ace040e227e17d68": {
      "model_module": "@jupyter-widgets/controls",
      "model_module_version": "1.5.0",
      "model_name": "BoundedIntTextModel",
      "state": {
       "description": "index",
       "layout": "IPY_MODEL_f87af6e13bdd4e268f395b44ce991bbf",
       "style": "IPY_MODEL_dc1c563d342944eaa299bfa37de8cde0",
       "value": 1
      }
     },
     "0cf9ede31aee4c9dad31d76457db7941": {
      "model_module": "@jupyter-widgets/base",
      "model_module_version": "1.2.0",
      "model_name": "LayoutModel",
      "state": {}
     },
     "0d4aef8d0e3947f39cd16894ccb136e4": {
      "model_module": "@jupyter-widgets/base",
      "model_module_version": "1.2.0",
      "model_name": "LayoutModel",
      "state": {}
     },
     "0e05773846dd43f0a96847656f764a7b": {
      "model_module": "@jupyter-widgets/controls",
      "model_module_version": "1.5.0",
      "model_name": "SliderStyleModel",
      "state": {
       "description_width": ""
      }
     },
     "0e22aeb0f36947afb43a810578887e6e": {
      "model_module": "@jupyter-widgets/base",
      "model_module_version": "1.2.0",
      "model_name": "LayoutModel",
      "state": {}
     },
     "0e232481024146b19ac53c3590e4a691": {
      "model_module": "@jupyter-widgets/base",
      "model_module_version": "1.2.0",
      "model_name": "LayoutModel",
      "state": {}
     },
     "0e561db39e6d403fab220679e082dae5": {
      "model_module": "@jupyter-widgets/controls",
      "model_module_version": "1.5.0",
      "model_name": "DescriptionStyleModel",
      "state": {
       "description_width": ""
      }
     },
     "0e7521f16ae74e2a84f8a00ec22a1258": {
      "model_module": "@jupyter-widgets/controls",
      "model_module_version": "1.5.0",
      "model_name": "ButtonStyleModel",
      "state": {}
     },
     "0e9c1105c42e4e7787c3c15d410f7b5c": {
      "model_module": "@jupyter-widgets/controls",
      "model_module_version": "1.5.0",
      "model_name": "ButtonStyleModel",
      "state": {}
     },
     "0ed76f9058054c2e872da6c9c3e56420": {
      "model_module": "@jupyter-widgets/base",
      "model_module_version": "1.2.0",
      "model_name": "LayoutModel",
      "state": {}
     },
     "0ef6e123ddf3495bb17340ee09e66755": {
      "model_module": "@jupyter-widgets/controls",
      "model_module_version": "1.5.0",
      "model_name": "FloatSliderModel",
      "state": {
       "description": "diffuse",
       "layout": "IPY_MODEL_9533a3e0ce41459f818837dd25b5e7bf",
       "max": 1,
       "step": 0.1,
       "style": "IPY_MODEL_1387a98a11014992b1d98d822b029511",
       "value": 1
      }
     },
     "0effd504a4974e6abb5357847527ec57": {
      "model_module": "@jupyter-widgets/base",
      "model_module_version": "1.2.0",
      "model_name": "LayoutModel",
      "state": {}
     },
     "0f8c2f3fd66b445cb01eca6fb7b40014": {
      "model_module": "@jupyter-widgets/base",
      "model_module_version": "1.2.0",
      "model_name": "LayoutModel",
      "state": {
       "margin": "20px 0px"
      }
     },
     "0fac894dada84693a4a032abae38a833": {
      "model_module": "@jupyter-widgets/base",
      "model_module_version": "1.2.0",
      "model_name": "LayoutModel",
      "state": {}
     },
     "0fc05305117943d28f9afe7ecc9aa553": {
      "model_module": "@jupyter-widgets/base",
      "model_module_version": "1.2.0",
      "model_name": "LayoutModel",
      "state": {}
     },
     "1011fc19b1da457cba092f3ff3475f19": {
      "model_module": "@jupyter-widgets/controls",
      "model_module_version": "1.5.0",
      "model_name": "DescriptionStyleModel",
      "state": {
       "description_width": ""
      }
     },
     "1025d095d9fd45ac972ac75098ab94e7": {
      "model_module": "@jupyter-widgets/controls",
      "model_module_version": "1.5.0",
      "model_name": "DescriptionStyleModel",
      "state": {
       "description_width": ""
      }
     },
     "104352056e5f44cfaf9dcfd6016912fa": {
      "model_module": "@jupyter-widgets/controls",
      "model_module_version": "1.5.0",
      "model_name": "IntTextModel",
      "state": {
       "description": "min",
       "layout": "IPY_MODEL_c3adb797a20341a3acbdfcff67be93eb",
       "step": 1,
       "style": "IPY_MODEL_588d64f172f4413783d455778353f9b9",
       "value": 1
      }
     },
     "10589094c39140b8919a9555a61f9f09": {
      "model_module": "@jupyter-widgets/base",
      "model_module_version": "1.2.0",
      "model_name": "LayoutModel",
      "state": {}
     },
     "10893dfae19b4de6a2046bb69cc1f99d": {
      "model_module": "@jupyter-widgets/base",
      "model_module_version": "1.2.0",
      "model_name": "LayoutModel",
      "state": {}
     },
     "11666e3ab0134886a3a2bd9c01bc5605": {
      "model_module": "@jupyter-widgets/controls",
      "model_module_version": "1.5.0",
      "model_name": "ButtonStyleModel",
      "state": {}
     },
     "1197ccef20ad42c09a38c91de1f4c7e7": {
      "model_module": "@jupyter-widgets/base",
      "model_module_version": "1.2.0",
      "model_name": "LayoutModel",
      "state": {}
     },
     "1199b29ae2c043a9970f55d5b94d1758": {
      "model_module": "@jupyter-widgets/controls",
      "model_module_version": "1.5.0",
      "model_name": "DescriptionStyleModel",
      "state": {
       "description_width": ""
      }
     },
     "11c65fd9468f412f9b63e9f47a99b801": {
      "model_module": "@jupyter-widgets/controls",
      "model_module_version": "1.5.0",
      "model_name": "ButtonModel",
      "state": {
       "description": "Delete",
       "layout": "IPY_MODEL_b37521b60a7647d9899e3d42829b78ef",
       "style": "IPY_MODEL_11666e3ab0134886a3a2bd9c01bc5605"
      }
     },
     "11eb943263dd4960811ae0dbed24247c": {
      "model_module": "@jupyter-widgets/controls",
      "model_module_version": "1.5.0",
      "model_name": "HBoxModel",
      "state": {
       "children": [
        "IPY_MODEL_24004e8b0cf046d9b7bafca13b3868f6",
        "IPY_MODEL_e7d57c4c8c8a4814a66792e624eab80b",
        "IPY_MODEL_8924e7490b8d474abb523195f04639b9",
        "IPY_MODEL_aed6ac227b8f4daf8ad908b7f8fa98f3"
       ],
       "layout": "IPY_MODEL_f56daa410ee44854874b448e60b2c3c9"
      }
     },
     "1253cd622c1c482c89f69b0f741abc8e": {
      "model_module": "pgljupyter",
      "model_module_version": "^0.1.2",
      "model_name": "CurveEditorModel",
      "state": {
       "_model_module_version": "^0.1.2",
       "_view_module_version": "^0.1.2",
       "children": [
        "IPY_MODEL_d7491fcbf98547ae97e45969885079fc",
        "IPY_MODEL_0842b7cc38b84096bcf7901c1b64f401"
       ],
       "layout": "IPY_MODEL_7a66ebfca84d4999a5bee673f10e7c52"
      }
     },
     "12b092c41ce34f619a03357203c1a0cc": {
      "model_module": "@jupyter-widgets/controls",
      "model_module_version": "1.5.0",
      "model_name": "TextModel",
      "state": {
       "continuous_update": false,
       "description": "name",
       "layout": "IPY_MODEL_02cbf32df22e4d48bb67b3a4b211d2e7",
       "style": "IPY_MODEL_200f96bdd5bc4d3597c28abbe9aaf953",
       "value": "leafduration"
      }
     },
     "12bff2a628604b9eb7d4bf50dfd9fb0a": {
      "model_module": "pgljupyter",
      "model_module_version": "^0.1.14",
      "model_name": "IntEditorModel",
      "state": {
       "_model_module_version": "^0.1.14",
       "_view_module_version": "^0.1.14",
       "children": [
        "IPY_MODEL_2a740364a2104b03a11e1170744d7e9d",
        "IPY_MODEL_6ca82095fc0d4e50a0b01f7e9feaae50",
        "IPY_MODEL_92a49b08882b4b28ae92e9d4b56b4441",
        "IPY_MODEL_a76b498b5d11439291fcd0c672943363",
        "IPY_MODEL_1cd1e989add64aaaaeb949cbed8d98b6"
       ],
       "layout": "IPY_MODEL_45249b3ec9cf468b928f4b5e1c4e6691"
      }
     },
     "12d98c8458334e21a9e3cd6b09cec97d": {
      "model_module": "@jupyter-widgets/base",
      "model_module_version": "1.2.0",
      "model_name": "LayoutModel",
      "state": {}
     },
     "12f7c4ba0f6d4b888ba73f16f369a10a": {
      "model_module": "@jupyter-widgets/controls",
      "model_module_version": "1.5.0",
      "model_name": "SliderStyleModel",
      "state": {
       "description_width": ""
      }
     },
     "1387a98a11014992b1d98d822b029511": {
      "model_module": "@jupyter-widgets/controls",
      "model_module_version": "1.5.0",
      "model_name": "SliderStyleModel",
      "state": {
       "description_width": ""
      }
     },
     "138e5976c87e467db45a4df41b5803ab": {
      "model_module": "@jupyter-widgets/controls",
      "model_module_version": "1.5.0",
      "model_name": "DescriptionStyleModel",
      "state": {
       "description_width": ""
      }
     },
     "13f0d0a4d0aa4c2785e171b7994d4969": {
      "model_module": "@jupyter-widgets/controls",
      "model_module_version": "1.5.0",
      "model_name": "CheckboxModel",
      "state": {
       "description": "Auto apply",
       "disabled": false,
       "layout": "IPY_MODEL_23d2d9d7755548eba8e69ea035c03d9a",
       "style": "IPY_MODEL_e4d183dca0944a01b23d4f4e77be074e",
       "value": false
      }
     },
     "14817bde845446ec9c7495a6741273f0": {
      "model_module": "@jupyter-widgets/controls",
      "model_module_version": "1.5.0",
      "model_name": "ColorPickerModel",
      "state": {
       "description": "ambient",
       "disabled": false,
       "layout": "IPY_MODEL_bd68f36a479d4228921e20a022470d19",
       "style": "IPY_MODEL_dcc692a1e723402b8515dab5a7fae469",
       "value": "#5b4534"
      }
     },
     "1481ac602d8941e0885c08d06e6e0e82": {
      "model_module": "@jupyter-widgets/controls",
      "model_module_version": "1.5.0",
      "model_name": "DescriptionStyleModel",
      "state": {
       "description_width": ""
      }
     },
     "14a44227159b47778c370ebd1c39ce7d": {
      "model_module": "@jupyter-widgets/controls",
      "model_module_version": "1.5.0",
      "model_name": "DescriptionStyleModel",
      "state": {
       "description_width": ""
      }
     },
     "14b6bd5944294c1584714b8a69fb3b44": {
      "model_module": "@jupyter-widgets/controls",
      "model_module_version": "1.5.0",
      "model_name": "DescriptionStyleModel",
      "state": {
       "description_width": ""
      }
     },
     "1528398a025c46599e2ad6d8bc592960": {
      "model_module": "@jupyter-widgets/controls",
      "model_module_version": "1.5.0",
      "model_name": "ButtonStyleModel",
      "state": {}
     },
     "1530bfd1074a4e8fbad49b4df4e964b5": {
      "model_module": "@jupyter-widgets/base",
      "model_module_version": "1.2.0",
      "model_name": "LayoutModel",
      "state": {}
     },
     "154d67d33ca541a4bcb159be9177f601": {
      "model_module": "@jupyter-widgets/controls",
      "model_module_version": "1.5.0",
      "model_name": "DescriptionStyleModel",
      "state": {
       "description_width": ""
      }
     },
     "15897f39c9c241c994c93955c340fb6b": {
      "model_module": "@jupyter-widgets/controls",
      "model_module_version": "1.5.0",
      "model_name": "ButtonModel",
      "state": {
       "description": "Add",
       "layout": "IPY_MODEL_471581ae848649c4b2d3b9f91531c7c1",
       "style": "IPY_MODEL_6fa1a051eef947a3b163d4793ac7cd99"
      }
     },
     "1589dbc794cb4fdbb7b00fed8ec48fbc": {
      "model_module": "@jupyter-widgets/controls",
      "model_module_version": "1.5.0",
      "model_name": "FloatTextModel",
      "state": {
       "description": "min",
       "layout": "IPY_MODEL_4496978ebaf74413b5605902d2da87b2",
       "step": null,
       "style": "IPY_MODEL_201f90f3a31f4794a7a9e3bb7865bed4",
       "value": 0.01
      }
     },
     "1680908bd17c4edeb5c4ae807790a86e": {
      "model_module": "@jupyter-widgets/controls",
      "model_module_version": "1.5.0",
      "model_name": "FloatSliderModel",
      "state": {
       "description": "transparency",
       "layout": "IPY_MODEL_6d4e317147e84ef3b9b7c3f7e4942242",
       "max": 1,
       "step": 0.1,
       "style": "IPY_MODEL_ef252b502441432d8ac2b0627de04cbc"
      }
     },
     "16e49243964a48618d68e8e278e7d9bd": {
      "model_module": "@jupyter-widgets/controls",
      "model_module_version": "1.5.0",
      "model_name": "DescriptionStyleModel",
      "state": {
       "description_width": ""
      }
     },
     "173645c006e54ca09cd20c3bf28eb540": {
      "model_module": "@jupyter-widgets/controls",
      "model_module_version": "1.5.0",
      "model_name": "ButtonModel",
      "state": {
       "description": "Add",
       "layout": "IPY_MODEL_5d8aae870bc94dcea2e224eec7234ffb",
       "style": "IPY_MODEL_a760a9622c8243c3b985b4c992cfd505"
      }
     },
     "175d04d73b0f432ebe88e418f42348fe": {
      "model_module": "@jupyter-widgets/controls",
      "model_module_version": "1.5.0",
      "model_name": "FloatSliderModel",
      "state": {
       "description": "diffuse",
       "layout": "IPY_MODEL_c3d84a4110fe40599578882c9599c41f",
       "max": 1,
       "step": 0.1,
       "style": "IPY_MODEL_f07b9cc7bedd486eab67bbefbe1b3a81",
       "value": 1
      }
     },
     "177cde17762546bcb143df6017c2bd65": {
      "model_module": "@jupyter-widgets/controls",
      "model_module_version": "1.5.0",
      "model_name": "BoundedIntTextModel",
      "state": {
       "description": "step",
       "layout": "IPY_MODEL_2022b212d13347cba9b3da0111411722",
       "min": 1,
       "style": "IPY_MODEL_5d0e1dc0975846b6b54717b2447cc767",
       "value": 1
      }
     },
     "1786a5b630e24873893aa84cb0714b47": {
      "model_module": "@jupyter-widgets/base",
      "model_module_version": "1.2.0",
      "model_name": "LayoutModel",
      "state": {
       "margin": "20px 0px"
      }
     },
     "17ca4c748f7a4d0cb35375a65128cde3": {
      "model_module": "@jupyter-widgets/base",
      "model_module_version": "1.2.0",
      "model_name": "LayoutModel",
      "state": {}
     },
     "1834dc530a084c8498f3cad2f679f317": {
      "model_module": "@jupyter-widgets/base",
      "model_module_version": "1.2.0",
      "model_name": "LayoutModel",
      "state": {
       "margin": "20px 0px"
      }
     },
     "1887cc7298b24d14826641b5481a0943": {
      "model_module": "@jupyter-widgets/controls",
      "model_module_version": "1.5.0",
      "model_name": "ButtonModel",
      "state": {
       "description": "Delete",
       "layout": "IPY_MODEL_1eb772eb43724a548d4285e75d7af08e",
       "style": "IPY_MODEL_85a4b553864b446484511bd08e7f28b4"
      }
     },
     "18f4a9848e8748e0b6f14cc8ad8b33d1": {
      "model_module": "@jupyter-widgets/controls",
      "model_module_version": "1.5.0",
      "model_name": "DescriptionStyleModel",
      "state": {
       "description_width": ""
      }
     },
     "19496a4bd7a1437684fa4fc33a581b5a": {
      "model_module": "@jupyter-widgets/controls",
      "model_module_version": "1.5.0",
      "model_name": "BoundedIntTextModel",
      "state": {
       "description": "index",
       "layout": "IPY_MODEL_aeb91fa0b8734177b8d24b6923d62633",
       "style": "IPY_MODEL_e553c2f8eeb9415c82b98e1a6115e9d8",
       "value": 2
      }
     },
     "19db9ae357b3453fbd2da22eadb8956e": {
      "model_module": "@jupyter-widgets/base",
      "model_module_version": "1.2.0",
      "model_name": "LayoutModel",
      "state": {}
     },
     "19ebea118db54d3a98ecb0009e792ed9": {
      "model_module": "@jupyter-widgets/controls",
      "model_module_version": "1.5.0",
      "model_name": "TextModel",
      "state": {
       "continuous_update": false,
       "description": "name",
       "layout": "IPY_MODEL_e9a35bdd82414d47ad0f97d860c1798a",
       "style": "IPY_MODEL_60af561202804091b4f43cb7d49813b4",
       "value": "color_4"
      }
     },
     "1a27b21bce904332a4684e5393644e7e": {
      "model_module": "@jupyter-widgets/controls",
      "model_module_version": "1.5.0",
      "model_name": "BoundedIntTextModel",
      "state": {
       "description": "index",
       "layout": "IPY_MODEL_a1c5657c57dd4420947b7a9efdc5fd3e",
       "style": "IPY_MODEL_30e2a75e992f460bb155f12690c18296",
       "value": 4
      }
     },
     "1a360a5c3c3e466d911a03a19d817dca": {
      "model_module": "@jupyter-widgets/controls",
      "model_module_version": "1.5.0",
      "model_name": "DropdownModel",
      "state": {
       "_options_labels": [
        "Color"
       ],
       "index": 0,
       "layout": "IPY_MODEL_a3715a6606264b1385e17c255e8e7b7d",
       "style": "IPY_MODEL_d5ed232c37c645d287f93804c2a7a50c"
      }
     },
     "1a573eadc9614551b2751a0416609504": {
      "model_module": "@jupyter-widgets/base",
      "model_module_version": "1.2.0",
      "model_name": "LayoutModel",
      "state": {}
     },
     "1aaed1264b7e4af38e5dfa20e770f4aa": {
      "model_module": "@jupyter-widgets/base",
      "model_module_version": "1.2.0",
      "model_name": "LayoutModel",
      "state": {
       "flex_flow": "row wrap",
       "margin": "20px"
      }
     },
     "1aaf66a79c4a4516be6c818d516db912": {
      "model_module": "@jupyter-widgets/base",
      "model_module_version": "1.2.0",
      "model_name": "LayoutModel",
      "state": {}
     },
     "1ad9140c1875480d863b5acb4704479b": {
      "model_module": "@jupyter-widgets/controls",
      "model_module_version": "1.5.0",
      "model_name": "FloatSliderModel",
      "state": {
       "description": "shininess",
       "layout": "IPY_MODEL_8bf9b39e28e14f21bbc488f01e8d389d",
       "max": 1,
       "step": 0.1,
       "style": "IPY_MODEL_5c5d43ff238d401bb3938a61a166e488",
       "value": 0.2
      }
     },
     "1b028107b51247fa803a26d5565694cb": {
      "model_module": "@jupyter-widgets/base",
      "model_module_version": "1.2.0",
      "model_name": "LayoutModel",
      "state": {}
     },
     "1b226e991f4a4f2d924d9603e31020a1": {
      "model_module": "@jupyter-widgets/controls",
      "model_module_version": "1.5.0",
      "model_name": "SliderStyleModel",
      "state": {
       "description_width": ""
      }
     },
     "1b4d26f7fa1e425fa0fa1b21020be265": {
      "model_module": "@jupyter-widgets/controls",
      "model_module_version": "1.5.0",
      "model_name": "DescriptionStyleModel",
      "state": {
       "description_width": ""
      }
     },
     "1b7eb2c7a1744177a4f8587caf59f856": {
      "model_module": "@jupyter-widgets/controls",
      "model_module_version": "1.5.0",
      "model_name": "DescriptionStyleModel",
      "state": {
       "description_width": ""
      }
     },
     "1bb3336d4bef4979b9bb018af7f4fdc4": {
      "model_module": "@jupyter-widgets/controls",
      "model_module_version": "1.5.0",
      "model_name": "IntTextModel",
      "state": {
       "description": "max",
       "layout": "IPY_MODEL_8815d743dee0457d8be8b0a8c46923f3",
       "step": 1,
       "style": "IPY_MODEL_0c10f805bff84441b05ffd189a5c8661",
       "value": 10
      }
     },
     "1bc3f0f3b6b74005b830717c2c436ca2": {
      "model_module": "@jupyter-widgets/base",
      "model_module_version": "1.2.0",
      "model_name": "LayoutModel",
      "state": {}
     },
     "1bcadc721303432abe9c782e04d39bdb": {
      "model_module": "@jupyter-widgets/base",
      "model_module_version": "1.2.0",
      "model_name": "LayoutModel",
      "state": {
       "flex_flow": "row wrap",
       "margin": "20px"
      }
     },
     "1c12d2076c114cc18effe90b27c58098": {
      "model_module": "@jupyter-widgets/controls",
      "model_module_version": "1.5.0",
      "model_name": "BoundedIntTextModel",
      "state": {
       "description": "step",
       "layout": "IPY_MODEL_d305647879de4f31a874fda6cab632eb",
       "min": 1,
       "style": "IPY_MODEL_c5ed3c7a721e4e818c8d622ff9e795f8",
       "value": 1
      }
     },
     "1c3d38ee1f964fde95a7170d37019f06": {
      "model_module": "@jupyter-widgets/controls",
      "model_module_version": "1.5.0",
      "model_name": "DescriptionStyleModel",
      "state": {
       "description_width": ""
      }
     },
     "1c7cf59a39db4f008dda191639910e38": {
      "model_module": "@jupyter-widgets/base",
      "model_module_version": "1.2.0",
      "model_name": "LayoutModel",
      "state": {}
     },
     "1ca38f8de5c14488a96798aa1fb3bff0": {
      "model_module": "@jupyter-widgets/controls",
      "model_module_version": "1.5.0",
      "model_name": "SliderStyleModel",
      "state": {
       "description_width": ""
      }
     },
     "1cd1e989add64aaaaeb949cbed8d98b6": {
      "model_module": "@jupyter-widgets/controls",
      "model_module_version": "1.5.0",
      "model_name": "BoundedIntTextModel",
      "state": {
       "description": "step",
       "layout": "IPY_MODEL_81991c46676647618c0846129eb9253f",
       "min": 1,
       "style": "IPY_MODEL_1b4d26f7fa1e425fa0fa1b21020be265",
       "value": 1
      }
     },
     "1d143d9919154875be616ca354e10d87": {
      "model_module": "@jupyter-widgets/controls",
      "model_module_version": "1.5.0",
      "model_name": "ColorPickerModel",
      "state": {
       "description": "specular",
       "disabled": false,
       "layout": "IPY_MODEL_8424cbe703b64aaab52fcf022d5b86ef",
       "style": "IPY_MODEL_33394aa92a6949c79333b95fb9d93703",
       "value": "#282828"
      }
     },
     "1d3a1be6a6084091b6a39ee2a8027c89": {
      "model_module": "@jupyter-widgets/base",
      "model_module_version": "1.2.0",
      "model_name": "LayoutModel",
      "state": {}
     },
     "1dbafdd152c84ab4b7288ac443955d83": {
      "model_module": "@jupyter-widgets/base",
      "model_module_version": "1.2.0",
      "model_name": "LayoutModel",
      "state": {
       "flex_flow": "row wrap",
       "margin": "20px"
      }
     },
     "1e15a8c6ff044705997b5c5ab448dee7": {
      "model_module": "@jupyter-widgets/controls",
      "model_module_version": "1.5.0",
      "model_name": "SliderStyleModel",
      "state": {
       "description_width": ""
      }
     },
     "1eb772eb43724a548d4285e75d7af08e": {
      "model_module": "@jupyter-widgets/base",
      "model_module_version": "1.2.0",
      "model_name": "LayoutModel",
      "state": {}
     },
     "1ebb908f33104722a8ca0ebea0830367": {
      "model_module": "@jupyter-widgets/base",
      "model_module_version": "1.2.0",
      "model_name": "LayoutModel",
      "state": {}
     },
     "1ed24c18a95c414f91f22ce72969f31c": {
      "model_module": "@jupyter-widgets/controls",
      "model_module_version": "1.5.0",
      "model_name": "ColorPickerModel",
      "state": {
       "description": "ambient",
       "disabled": false,
       "layout": "IPY_MODEL_275214da944c4d078e8bb8463ecf5b08",
       "style": "IPY_MODEL_6619d75e6a884ddf96b7d93f22aa80d4",
       "value": "#604d3e"
      }
     },
     "1f47862cd7004f6ea8e431b00a2deb36": {
      "model_module": "@jupyter-widgets/base",
      "model_module_version": "1.2.0",
      "model_name": "LayoutModel",
      "state": {}
     },
     "1f678338b62947efb94d704316f3494d": {
      "model_module": "@jupyter-widgets/base",
      "model_module_version": "1.2.0",
      "model_name": "LayoutModel",
      "state": {}
     },
     "1f77c70eec134463b17b0f169c5122e1": {
      "model_module": "@jupyter-widgets/controls",
      "model_module_version": "1.5.0",
      "model_name": "DescriptionStyleModel",
      "state": {
       "description_width": ""
      }
     },
     "1fafc7f599424b7e8f7a15a3d0aafb6a": {
      "model_module": "@jupyter-widgets/controls",
      "model_module_version": "1.5.0",
      "model_name": "SliderStyleModel",
      "state": {
       "description_width": ""
      }
     },
     "1fb14ba911fa4fa5b21eea1cc9d40b13": {
      "model_module": "@jupyter-widgets/controls",
      "model_module_version": "1.5.0",
      "model_name": "DescriptionStyleModel",
      "state": {
       "description_width": ""
      }
     },
     "200f96bdd5bc4d3597c28abbe9aaf953": {
      "model_module": "@jupyter-widgets/controls",
      "model_module_version": "1.5.0",
      "model_name": "DescriptionStyleModel",
      "state": {
       "description_width": ""
      }
     },
     "201f1a1a76c240bd9efc0e2bb60a3035": {
      "model_module": "@jupyter-widgets/base",
      "model_module_version": "1.2.0",
      "model_name": "LayoutModel",
      "state": {}
     },
     "201f90f3a31f4794a7a9e3bb7865bed4": {
      "model_module": "@jupyter-widgets/controls",
      "model_module_version": "1.5.0",
      "model_name": "DescriptionStyleModel",
      "state": {
       "description_width": ""
      }
     },
     "2022b212d13347cba9b3da0111411722": {
      "model_module": "@jupyter-widgets/base",
      "model_module_version": "1.2.0",
      "model_name": "LayoutModel",
      "state": {}
     },
     "203e1864fde243a6bd46c139d099522f": {
      "model_module": "@jupyter-widgets/base",
      "model_module_version": "1.2.0",
      "model_name": "LayoutModel",
      "state": {}
     },
     "211408af89d24d7c9bb69141f6af9aba": {
      "model_module": "@jupyter-widgets/controls",
      "model_module_version": "1.5.0",
      "model_name": "FloatSliderModel",
      "state": {
       "description": "diffuse",
       "layout": "IPY_MODEL_762f4772b96f45b3861fb3b080efd6f8",
       "max": 1,
       "step": 0.1,
       "style": "IPY_MODEL_a84c14a67ee845cd8c615ce128d6aaae",
       "value": 0.75
      }
     },
     "211b1b5d82264938ace5ce2c20caba9b": {
      "model_module": "@jupyter-widgets/base",
      "model_module_version": "1.2.0",
      "model_name": "LayoutModel",
      "state": {}
     },
     "2136a52566524809a3c3b6695553bde5": {
      "model_module": "@jupyter-widgets/base",
      "model_module_version": "1.2.0",
      "model_name": "LayoutModel",
      "state": {}
     },
     "2194feb6dbbb416e9d612f19ffdf48e9": {
      "model_module": "@jupyter-widgets/base",
      "model_module_version": "1.2.0",
      "model_name": "LayoutModel",
      "state": {
       "margin": "20px 0px"
      }
     },
     "21efdec5b75d4c6ebabf51119098e5d0": {
      "model_module": "@jupyter-widgets/controls",
      "model_module_version": "1.5.0",
      "model_name": "HBoxModel",
      "state": {
       "children": [
        "IPY_MODEL_ac41cf70afd04e33b260be8bd483f310",
        "IPY_MODEL_05309ec65eeb47319dd90200e4ded550",
        "IPY_MODEL_50b5640fcf26472bb3b7a44f52d8e1e5",
        "IPY_MODEL_a86058cee658486fb13a7beca648314b"
       ],
       "layout": "IPY_MODEL_2c758a39f7fc445fb36328a5392bc3cb"
      }
     },
     "222c986241f440b09ecf8838dee277bb": {
      "model_module": "@jupyter-widgets/controls",
      "model_module_version": "1.5.0",
      "model_name": "ButtonStyleModel",
      "state": {}
     },
     "2238306649c540a699db292dd4180023": {
      "model_module": "@jupyter-widgets/controls",
      "model_module_version": "1.5.0",
      "model_name": "HBoxModel",
      "state": {
       "children": [
        "IPY_MODEL_e5933bb77a9d413a9d681c31c7d59d46",
        "IPY_MODEL_3b8c17e62aa54d2eb6ba0c7aa6a6135d",
        "IPY_MODEL_bad45027440c49c0b95e906436475efe",
        "IPY_MODEL_273cbe6b28fb4b79b92e7a0eab879227"
       ],
       "layout": "IPY_MODEL_f56daa410ee44854874b448e60b2c3c9"
      }
     },
     "2299fe15e03b48dda7759b4bf26db86e": {
      "model_module": "@jupyter-widgets/base",
      "model_module_version": "1.2.0",
      "model_name": "LayoutModel",
      "state": {}
     },
     "22a9a3fd9c4947de8e9b52c24d8c16d8": {
      "model_module": "@jupyter-widgets/base",
      "model_module_version": "1.2.0",
      "model_name": "LayoutModel",
      "state": {}
     },
     "2324b9eea997437aa217c0493ef8036f": {
      "model_module": "@jupyter-widgets/base",
      "model_module_version": "1.2.0",
      "model_name": "LayoutModel",
      "state": {}
     },
     "234ac662616e4f3c84f2599e188d95c4": {
      "model_module": "@jupyter-widgets/controls",
      "model_module_version": "1.5.0",
      "model_name": "ButtonModel",
      "state": {
       "description": "Apply changes",
       "layout": "IPY_MODEL_d00076ceaaef4f90ae6dfca78cb58bba",
       "style": "IPY_MODEL_42053ffc262a4b7ca6d5549dd52e5f82"
      }
     },
     "23af8b0d7caf49ffbd9434df59f8adcc": {
      "model_module": "@jupyter-widgets/controls",
      "model_module_version": "1.5.0",
      "model_name": "DescriptionStyleModel",
      "state": {
       "description_width": ""
      }
     },
     "23d2d9d7755548eba8e69ea035c03d9a": {
      "model_module": "@jupyter-widgets/base",
      "model_module_version": "1.2.0",
      "model_name": "LayoutModel",
      "state": {}
     },
     "24004e8b0cf046d9b7bafca13b3868f6": {
      "model_module": "@jupyter-widgets/controls",
      "model_module_version": "1.5.0",
      "model_name": "ButtonModel",
      "state": {
       "description": "Add",
       "layout": "IPY_MODEL_f74b91788cb546d0976cda4bc856aef6",
       "style": "IPY_MODEL_6f131f3f67634df98fb30f26c0ba3c14"
      }
     },
     "24445bf8451e470e934c4470d4f8e0a7": {
      "model_module": "@jupyter-widgets/controls",
      "model_module_version": "1.5.0",
      "model_name": "IntSliderModel",
      "state": {
       "description": "value",
       "layout": "IPY_MODEL_d51b50f6f7064d6b8575587fb3b196c4",
       "max": 10,
       "min": 1,
       "style": "IPY_MODEL_e124b9fefb784a3bad65373e1ef9c403",
       "value": 3
      }
     },
     "2495a1e49dc3483c8f52e5cebbef0755": {
      "model_module": "@jupyter-widgets/base",
      "model_module_version": "1.2.0",
      "model_name": "LayoutModel",
      "state": {}
     },
     "2501c08878e54350abc0a9ac884118f1": {
      "model_module": "@jupyter-widgets/base",
      "model_module_version": "1.2.0",
      "model_name": "LayoutModel",
      "state": {
       "margin": "20px 0px"
      }
     },
     "252030f955ba480a8f2671f0f6470f4f": {
      "model_module": "@jupyter-widgets/base",
      "model_module_version": "1.2.0",
      "model_name": "LayoutModel",
      "state": {}
     },
     "25596c60b781494ba65f65b159bd60c0": {
      "model_module": "@jupyter-widgets/base",
      "model_module_version": "1.2.0",
      "model_name": "LayoutModel",
      "state": {
       "flex_flow": "row wrap"
      }
     },
     "26313b1b0e774a5c9296c77a9fb42f6f": {
      "model_module": "@jupyter-widgets/base",
      "model_module_version": "1.2.0",
      "model_name": "LayoutModel",
      "state": {}
     },
     "26661f90cfc247b4aa51a0584e2d50c9": {
      "model_module": "@jupyter-widgets/controls",
      "model_module_version": "1.5.0",
      "model_name": "DropdownModel",
      "state": {
       "_options_labels": [
        "NurbsCurve2D_0"
       ],
       "index": 0,
       "layout": "IPY_MODEL_c27b4929616a4cc9afc6b2486b6203ab",
       "style": "IPY_MODEL_6b42ee7a9908446f983fc6c0005656ad"
      }
     },
     "2683a2486a9548ee9a92b323137c1a9a": {
      "model_module": "@jupyter-widgets/controls",
      "model_module_version": "1.5.0",
      "model_name": "SliderStyleModel",
      "state": {
       "description_width": ""
      }
     },
     "26f6320010f14927813d14ad09e8177b": {
      "model_module": "@jupyter-widgets/controls",
      "model_module_version": "1.5.0",
      "model_name": "SliderStyleModel",
      "state": {
       "description_width": ""
      }
     },
     "273cbe6b28fb4b79b92e7a0eab879227": {
      "model_module": "@jupyter-widgets/controls",
      "model_module_version": "1.5.0",
      "model_name": "DropdownModel",
      "state": {
       "index": null,
       "layout": "IPY_MODEL_0e22aeb0f36947afb43a810578887e6e",
       "style": "IPY_MODEL_6509e7284ebf48ea8852e819d225daf6"
      }
     },
     "275214da944c4d078e8bb8463ecf5b08": {
      "model_module": "@jupyter-widgets/base",
      "model_module_version": "1.2.0",
      "model_name": "LayoutModel",
      "state": {}
     },
     "275ac823b0bb4043b623929cb56cc202": {
      "model_module": "@jupyter-widgets/controls",
      "model_module_version": "1.5.0",
      "model_name": "DescriptionStyleModel",
      "state": {
       "description_width": ""
      }
     },
     "279f04df2dff4359be95f440892277cc": {
      "model_module": "@jupyter-widgets/controls",
      "model_module_version": "1.5.0",
      "model_name": "DescriptionStyleModel",
      "state": {
       "description_width": ""
      }
     },
     "27b8afa3d3b7447fa483906e22e6634d": {
      "model_module": "@jupyter-widgets/base",
      "model_module_version": "1.2.0",
      "model_name": "LayoutModel",
      "state": {}
     },
     "27f3e2e5bd414ac1ad3c19f37247942e": {
      "model_module": "@jupyter-widgets/controls",
      "model_module_version": "1.5.0",
      "model_name": "VBoxModel",
      "state": {
       "children": [
        "IPY_MODEL_7370d67c85ca45f99ec4b794aa6baea5",
        "IPY_MODEL_d2d0f917b45743ff9dc2a32c8add385a"
       ],
       "layout": "IPY_MODEL_a738593252204a498e2380d3e629bc1e"
      }
     },
     "28e28f98ef9542749eeea320db4cb0e4": {
      "model_module": "@jupyter-widgets/controls",
      "model_module_version": "1.5.0",
      "model_name": "VBoxModel",
      "state": {
       "children": [
        "IPY_MODEL_b6648dd35f9448fc8d6cfd44efbdc5c5",
        "IPY_MODEL_84e87897d7924c9c8a3252b0e40e3dd5"
       ],
       "layout": "IPY_MODEL_37b62d5540e449ff914f8373be62480c"
      }
     },
     "29155f13bef442a393b221b6846bc956": {
      "model_module": "@jupyter-widgets/controls",
      "model_module_version": "1.5.0",
      "model_name": "VBoxModel",
      "state": {
       "children": [
        "IPY_MODEL_e22c85174a2a4a7ba7797cf1f39856bf",
        "IPY_MODEL_abf78bc88b79468b8725660268e79352"
       ],
       "layout": "IPY_MODEL_507a380126584a23acf72009229e0b78"
      }
     },
     "29d3147695a947d7b6e87a4ef6e81299": {
      "model_module": "@jupyter-widgets/controls",
      "model_module_version": "1.5.0",
      "model_name": "HBoxModel",
      "state": {
       "children": [
        "IPY_MODEL_ca44b44f93e146c989a42fb6089dfaa7",
        "IPY_MODEL_b8bd681b6b634a61860c93bb9163f073"
       ],
       "layout": "IPY_MODEL_c6ff09a6e9d847ac858da09d3835cffa"
      }
     },
     "29fc71175e7a45d6b518dc6b0b3abe69": {
      "model_module": "@jupyter-widgets/controls",
      "model_module_version": "1.5.0",
      "model_name": "HBoxModel",
      "state": {
       "children": [
        "IPY_MODEL_b8492b7b01134d7b9aeaebc3e86f5d87"
       ],
       "layout": "IPY_MODEL_1dbafdd152c84ab4b7288ac443955d83"
      }
     },
     "2a34b0987a734577a8bdcadf7269f14f": {
      "model_module": "@jupyter-widgets/base",
      "model_module_version": "1.2.0",
      "model_name": "LayoutModel",
      "state": {}
     },
     "2a5edf3ba1ac483c8ba70c9b29627380": {
      "model_module": "@jupyter-widgets/base",
      "model_module_version": "1.2.0",
      "model_name": "LayoutModel",
      "state": {}
     },
     "2a6e6d5a527b40b79b823a50c67ef83a": {
      "model_module": "@jupyter-widgets/controls",
      "model_module_version": "1.5.0",
      "model_name": "ColorPickerModel",
      "state": {
       "description": "ambient",
       "disabled": false,
       "layout": "IPY_MODEL_8312daa4c523419b93c5a7a2515d20db",
       "style": "IPY_MODEL_04e75893469a40c59769c30734490d10",
       "value": "#0fc4db"
      }
     },
     "2a71d1ea3cce494aab3efb0a5f5f35b8": {
      "model_module": "@jupyter-widgets/base",
      "model_module_version": "1.2.0",
      "model_name": "LayoutModel",
      "state": {}
     },
     "2a740364a2104b03a11e1170744d7e9d": {
      "model_module": "@jupyter-widgets/controls",
      "model_module_version": "1.5.0",
      "model_name": "TextModel",
      "state": {
       "continuous_update": false,
       "description": "name",
       "layout": "IPY_MODEL_d2d0c85bed704b318b91afa64fd018fe",
       "style": "IPY_MODEL_502e8a7f883742d0a593c735da02e62c",
       "value": "maxorder"
      }
     },
     "2adcf24dbf2748e089fcbf19dc0f7b33": {
      "model_module": "@jupyter-widgets/controls",
      "model_module_version": "1.5.0",
      "model_name": "ButtonModel",
      "state": {
       "description": "Add",
       "layout": "IPY_MODEL_2495a1e49dc3483c8f52e5cebbef0755",
       "style": "IPY_MODEL_c80db8f4cb9841beba01c1bd2287e051"
      }
     },
     "2b3bf360eab343d593671b7dbea90bd5": {
      "model_module": "@jupyter-widgets/controls",
      "model_module_version": "1.5.0",
      "model_name": "SliderStyleModel",
      "state": {
       "description_width": ""
      }
     },
     "2b6d029d3363436bb4c3867096c43514": {
      "model_module": "@jupyter-widgets/controls",
      "model_module_version": "1.5.0",
      "model_name": "HBoxModel",
      "state": {
       "children": [
        "IPY_MODEL_5eed3d4518234051843f485cc369deff",
        "IPY_MODEL_b4c6640b003145ab863dc22afc0d6b9e",
        "IPY_MODEL_da84931aef8d4c1d954b95f4636a7360",
        "IPY_MODEL_43c13428f9a944b8a460d54eae5ad873"
       ],
       "layout": "IPY_MODEL_1dbafdd152c84ab4b7288ac443955d83"
      }
     },
     "2bca4224925b40e1bfb042986738be02": {
      "model_module": "@jupyter-widgets/controls",
      "model_module_version": "1.5.0",
      "model_name": "SliderStyleModel",
      "state": {
       "description_width": ""
      }
     },
     "2bf3331faa364b30ad1034ed79e8c07a": {
      "model_module": "@jupyter-widgets/base",
      "model_module_version": "1.2.0",
      "model_name": "LayoutModel",
      "state": {}
     },
     "2bfa67229dbb4f5f80d1bc638f650d11": {
      "model_module": "@jupyter-widgets/controls",
      "model_module_version": "1.5.0",
      "model_name": "ButtonModel",
      "state": {
       "description": "Delete",
       "layout": "IPY_MODEL_37544c0854f2465d8f2d8bfc47041e72",
       "style": "IPY_MODEL_0e7521f16ae74e2a84f8a00ec22a1258"
      }
     },
     "2c459c82701d4343a44e9daf1dc0cd65": {
      "model_module": "@jupyter-widgets/base",
      "model_module_version": "1.2.0",
      "model_name": "LayoutModel",
      "state": {}
     },
     "2c57289cdf1c49ea9d82954b2c37a542": {
      "model_module": "@jupyter-widgets/base",
      "model_module_version": "1.2.0",
      "model_name": "LayoutModel",
      "state": {}
     },
     "2c70894a80f745f89888ecb61c4430a7": {
      "model_module": "@jupyter-widgets/controls",
      "model_module_version": "1.5.0",
      "model_name": "SliderStyleModel",
      "state": {
       "description_width": ""
      }
     },
     "2c758a39f7fc445fb36328a5392bc3cb": {
      "model_module": "@jupyter-widgets/base",
      "model_module_version": "1.2.0",
      "model_name": "LayoutModel",
      "state": {
       "flex_flow": "row wrap",
       "margin": "20px"
      }
     },
     "2d27d7c14ef54df7bced5f710b9e0cce": {
      "model_module": "@jupyter-widgets/base",
      "model_module_version": "1.2.0",
      "model_name": "LayoutModel",
      "state": {}
     },
     "2d70beccf69c4efc9a83cd358de0d9d2": {
      "model_module": "@jupyter-widgets/base",
      "model_module_version": "1.2.0",
      "model_name": "LayoutModel",
      "state": {}
     },
     "2daaf6242ed9461985d9559a718b68a5": {
      "model_module": "pgljupyter",
      "model_module_version": "^0.1.2",
      "model_name": "MaterialEditorModel",
      "state": {
       "_model_module_version": "^0.1.2",
       "_view_module_version": "^0.1.2",
       "children": [
        "IPY_MODEL_ac11ecf003394e96b2227d751ad7d1b9",
        "IPY_MODEL_547c418d86ec4fce8644a63a4d9fad45",
        "IPY_MODEL_70f7a900cde34f19a9c40852e3201de6",
        "IPY_MODEL_08205c4815754438a774f886dc48c434",
        "IPY_MODEL_da3a03d419374886b33c4a33c7123acc",
        "IPY_MODEL_cffbe228dd7a4cb6b6b3ec214974be09",
        "IPY_MODEL_e8085364e31d455da333f395d8708b18",
        "IPY_MODEL_b6fac6ee8b314c10a5156acd259cdf9e"
       ],
       "layout": "IPY_MODEL_5a20bedfc3174238b2ea8c131168e933"
      }
     },
     "2dabfefd7ddd4f7eac82d3513cf3d4c1": {
      "model_module": "@jupyter-widgets/controls",
      "model_module_version": "1.5.0",
      "model_name": "VBoxModel",
      "state": {
       "children": [
        "IPY_MODEL_5242056fc3e74012833d1c34f09631be",
        "IPY_MODEL_a3021cfb00c34844be2cc4431cd9b620"
       ],
       "layout": "IPY_MODEL_3dd277d92fe4450ea1bc4361fbcac098"
      }
     },
     "2e56050c32b84200b373f0971cae23c6": {
      "model_module": "@jupyter-widgets/controls",
      "model_module_version": "1.5.0",
      "model_name": "FloatSliderModel",
      "state": {
       "description": "shininess",
       "layout": "IPY_MODEL_9d71deb7f39d4c19bde81bd5bdac01ce",
       "max": 1,
       "step": 0.1,
       "style": "IPY_MODEL_f7545150d64f4c3b923ca1dbaec773d1",
       "value": 0.2
      }
     },
     "2e6ef9314d67449c8deb0a7297c93ab3": {
      "model_module": "@jupyter-widgets/base",
      "model_module_version": "1.2.0",
      "model_name": "LayoutModel",
      "state": {}
     },
     "2e6fdecb680e44eab31fbab1ebfe7703": {
      "model_module": "@jupyter-widgets/base",
      "model_module_version": "1.2.0",
      "model_name": "LayoutModel",
      "state": {}
     },
     "2ecc06fc96384fc582bbc1690d7ec0f0": {
      "model_module": "@jupyter-widgets/base",
      "model_module_version": "1.2.0",
      "model_name": "LayoutModel",
      "state": {
       "margin": "20px 0px"
      }
     },
     "2efa585c55484aaba68ded69cdb81b15": {
      "model_module": "@jupyter-widgets/base",
      "model_module_version": "1.2.0",
      "model_name": "LayoutModel",
      "state": {}
     },
     "2f2ae84d6e0a4ce28cb9b46fe5dc6734": {
      "model_module": "@jupyter-widgets/controls",
      "model_module_version": "1.5.0",
      "model_name": "DescriptionStyleModel",
      "state": {
       "description_width": ""
      }
     },
     "2ff2e549a4684de5a2db6f29b2366fd5": {
      "model_module": "@jupyter-widgets/controls",
      "model_module_version": "1.5.0",
      "model_name": "DescriptionStyleModel",
      "state": {
       "description_width": ""
      }
     },
     "2ff6e1288e264c2584f333513837f75c": {
      "model_module": "@jupyter-widgets/controls",
      "model_module_version": "1.5.0",
      "model_name": "DescriptionStyleModel",
      "state": {
       "description_width": ""
      }
     },
     "3026ebc9a30243b1bc25015d05d6c0c7": {
      "model_module": "@jupyter-widgets/controls",
      "model_module_version": "1.5.0",
      "model_name": "DescriptionStyleModel",
      "state": {
       "description_width": ""
      }
     },
     "30913895a05c4efe9297847d5ea8e81b": {
      "model_module": "@jupyter-widgets/controls",
      "model_module_version": "1.5.0",
      "model_name": "DescriptionStyleModel",
      "state": {
       "description_width": ""
      }
     },
     "30ab17fe198743bcad37c908631443f3": {
      "model_module": "@jupyter-widgets/controls",
      "model_module_version": "1.5.0",
      "model_name": "ButtonModel",
      "state": {
       "description": "Add",
       "layout": "IPY_MODEL_37787ec969d64182bb9c4ecfb9659757",
       "style": "IPY_MODEL_8b631c32026a41418173e79115085831"
      }
     },
     "30adb877ae0c4ea3b12a4f4ae638e37d": {
      "model_module": "@jupyter-widgets/controls",
      "model_module_version": "1.5.0",
      "model_name": "DescriptionStyleModel",
      "state": {
       "description_width": ""
      }
     },
     "30c661fbb27140d0a16de353c96e7fc7": {
      "model_module": "@jupyter-widgets/base",
      "model_module_version": "1.2.0",
      "model_name": "LayoutModel",
      "state": {}
     },
     "30e2a75e992f460bb155f12690c18296": {
      "model_module": "@jupyter-widgets/controls",
      "model_module_version": "1.5.0",
      "model_name": "DescriptionStyleModel",
      "state": {
       "description_width": ""
      }
     },
     "30ea0fffbfc14c498f33c0844ae5ecc8": {
      "model_module": "@jupyter-widgets/controls",
      "model_module_version": "1.5.0",
      "model_name": "DescriptionStyleModel",
      "state": {
       "description_width": ""
      }
     },
     "30ea76a55acd406bad8fb7188aff0f41": {
      "model_module": "@jupyter-widgets/controls",
      "model_module_version": "1.5.0",
      "model_name": "SliderStyleModel",
      "state": {
       "description_width": ""
      }
     },
     "3133bec14cff4f2a890c142d85f7eb53": {
      "model_module": "@jupyter-widgets/controls",
      "model_module_version": "1.5.0",
      "model_name": "DescriptionStyleModel",
      "state": {
       "description_width": ""
      }
     },
     "314d95cfe7894a9fb7f7430e808bd058": {
      "model_module": "@jupyter-widgets/controls",
      "model_module_version": "1.5.0",
      "model_name": "ButtonModel",
      "state": {
       "description": "Add category",
       "layout": "IPY_MODEL_d94bccd4ec6140aca10be69aef8e0149",
       "style": "IPY_MODEL_31dcfd2e4ff041afa26e524ddfc02716"
      }
     },
     "31863837aa4a409080cc105e487d8989": {
      "model_module": "@jupyter-widgets/controls",
      "model_module_version": "1.5.0",
      "model_name": "FloatSliderModel",
      "state": {
       "description": "diffuse",
       "layout": "IPY_MODEL_59e4ce096db041599800b92606fb73a5",
       "max": 1,
       "step": 0.1,
       "style": "IPY_MODEL_db083b36502a43eab0cf563b9bd73746",
       "value": 1
      }
     },
     "31dcfd2e4ff041afa26e524ddfc02716": {
      "model_module": "@jupyter-widgets/controls",
      "model_module_version": "1.5.0",
      "model_name": "ButtonStyleModel",
      "state": {}
     },
     "3207925224d34f6c8bf84a40588fed58": {
      "model_module": "@jupyter-widgets/controls",
      "model_module_version": "1.5.0",
      "model_name": "ButtonStyleModel",
      "state": {}
     },
     "32a2d5151e844f398dfd8a2f28a391ff": {
      "model_module": "@jupyter-widgets/controls",
      "model_module_version": "1.5.0",
      "model_name": "TextModel",
      "state": {
       "continuous_update": false,
       "description": "name",
       "layout": "IPY_MODEL_5cb242cfc7614b3eb4c7b8c0e9c5c193",
       "style": "IPY_MODEL_b7774c37d9944fe09f8d1efd519c29b8",
       "value": "leafduration"
      }
     },
     "33394aa92a6949c79333b95fb9d93703": {
      "model_module": "@jupyter-widgets/controls",
      "model_module_version": "1.5.0",
      "model_name": "DescriptionStyleModel",
      "state": {
       "description_width": ""
      }
     },
     "339bb7c5bbd24525889f6050716638c6": {
      "model_module": "@jupyter-widgets/controls",
      "model_module_version": "1.5.0",
      "model_name": "DescriptionStyleModel",
      "state": {
       "description_width": ""
      }
     },
     "33a31a3d3fcc46a9b9009df9149904a8": {
      "model_module": "@jupyter-widgets/controls",
      "model_module_version": "1.5.0",
      "model_name": "DescriptionStyleModel",
      "state": {
       "description_width": ""
      }
     },
     "33ec9c5667a5451786a5c5e914e5dc10": {
      "model_module": "@jupyter-widgets/base",
      "model_module_version": "1.2.0",
      "model_name": "LayoutModel",
      "state": {}
     },
     "343fdbc8ac9046f0be92ef520dcb07c7": {
      "model_module": "@jupyter-widgets/base",
      "model_module_version": "1.2.0",
      "model_name": "LayoutModel",
      "state": {}
     },
     "344c460570104014b79dad6a65f1bc15": {
      "model_module": "pgljupyter",
      "model_module_version": "^0.1.14",
      "model_name": "MaterialEditorModel",
      "state": {
       "_model_module_version": "^0.1.14",
       "_view_module_version": "^0.1.14",
       "children": [
        "IPY_MODEL_843d75cb83854ccca588873a9ace951c",
        "IPY_MODEL_d8136ba8b0b94a508316083bd66d429c",
        "IPY_MODEL_8885c255856b479881029363d8cf8481",
        "IPY_MODEL_bb74a2e2f3f744c0880c5874c444c364",
        "IPY_MODEL_62f37a5d014644cda8ab470a0f963659",
        "IPY_MODEL_1680908bd17c4edeb5c4ae807790a86e",
        "IPY_MODEL_2e56050c32b84200b373f0971cae23c6"
       ],
       "layout": "IPY_MODEL_8a45f1793c654ff1b7f7ad2acc463549"
      }
     },
     "347acaa63eae4e00a4da54a4e5aa293d": {
      "model_module": "@jupyter-widgets/controls",
      "model_module_version": "1.5.0",
      "model_name": "VBoxModel",
      "state": {
       "children": [
        "IPY_MODEL_f54dce5c967d42ddacd908ff611f1d2e",
        "IPY_MODEL_60c75cd30cc5440faf0dcf062f8f9255"
       ],
       "layout": "IPY_MODEL_cbbda54c90744c78b5a9088ce7e16dcb"
      }
     },
     "3483198dc61e4fb6a5fd59a5c83502d5": {
      "model_module": "@jupyter-widgets/controls",
      "model_module_version": "1.5.0",
      "model_name": "FloatSliderModel",
      "state": {
       "description": "shininess",
       "layout": "IPY_MODEL_0fac894dada84693a4a032abae38a833",
       "max": 1,
       "step": 0.1,
       "style": "IPY_MODEL_b1bd5bda1f924269b6906dd5b73f60f1",
       "value": 0.2
      }
     },
     "34a7af6b22db40fbbd501ad6986ec371": {
      "model_module": "@jupyter-widgets/controls",
      "model_module_version": "1.5.0",
      "model_name": "TextModel",
      "state": {
       "continuous_update": false,
       "description": "name",
       "layout": "IPY_MODEL_ebb168363859428c910fbb683a4d6956",
       "style": "IPY_MODEL_c7e96683ccf54521ad82e02910c90b3d",
       "value": "radinc"
      }
     },
     "34c506a5fd4c4cb994b86db5544979d4": {
      "model_module": "@jupyter-widgets/controls",
      "model_module_version": "1.5.0",
      "model_name": "DescriptionStyleModel",
      "state": {
       "description_width": ""
      }
     },
     "35010fbf5ea3493e9cbc7122e28e5c50": {
      "model_module": "@jupyter-widgets/base",
      "model_module_version": "1.2.0",
      "model_name": "LayoutModel",
      "state": {}
     },
     "352845e9ebe34d14891bd5826b4a2e08": {
      "model_module": "pgljupyter",
      "model_module_version": "^0.1.2",
      "model_name": "MaterialEditorModel",
      "state": {
       "_model_module_version": "^0.1.2",
       "_view_module_version": "^0.1.2",
       "children": [
        "IPY_MODEL_94fe16f4b7b148129026cb2da6d29ef1",
        "IPY_MODEL_1a27b21bce904332a4684e5393644e7e",
        "IPY_MODEL_eb925bb2ec044a0e94904c75d2959be6",
        "IPY_MODEL_aa6f5555faa44f4db554da680a607f63",
        "IPY_MODEL_6368053aed524502b45b99eae25e4e13",
        "IPY_MODEL_175d04d73b0f432ebe88e418f42348fe",
        "IPY_MODEL_b22403f438214a4b8f36317185bdab34",
        "IPY_MODEL_a181f8277527484f82f484b081a7ac2c"
       ],
       "layout": "IPY_MODEL_8dee69fccbb14c7c82aaa8587be93b6d"
      }
     },
     "357b13a66a54461f85c83b5b839d7d28": {
      "model_module": "@jupyter-widgets/controls",
      "model_module_version": "1.5.0",
      "model_name": "IntTextModel",
      "state": {
       "description": "min",
       "layout": "IPY_MODEL_53ec91f57093422daaabbfa341b1878b",
       "step": 1,
       "style": "IPY_MODEL_8a8f9cbb663e4d42a10e4e70f2a1cd17",
       "value": 1
      }
     },
     "358645419ea648e0a94f01980055f440": {
      "model_module": "@jupyter-widgets/base",
      "model_module_version": "1.2.0",
      "model_name": "LayoutModel",
      "state": {}
     },
     "35f6cf9c439d4fa8ae1b7d5de389c9af": {
      "model_module": "@jupyter-widgets/base",
      "model_module_version": "1.2.0",
      "model_name": "LayoutModel",
      "state": {}
     },
     "35fe5bcb32a344c1839ffc661e5b7fe4": {
      "model_module": "@jupyter-widgets/controls",
      "model_module_version": "1.5.0",
      "model_name": "ColorPickerModel",
      "state": {
       "description": "emission",
       "disabled": false,
       "layout": "IPY_MODEL_b2f63634bfd94d23a4133da2a39d0f87",
       "style": "IPY_MODEL_4f232ac5610c453da6bbff0d94f89765",
       "value": "#000000"
      }
     },
     "3612f7a7682b474f93b17b5d79359613": {
      "model_module": "@jupyter-widgets/controls",
      "model_module_version": "1.5.0",
      "model_name": "DescriptionStyleModel",
      "state": {
       "description_width": ""
      }
     },
     "364a0d3467624371a6bdd269466b5c04": {
      "model_module": "@jupyter-widgets/base",
      "model_module_version": "1.2.0",
      "model_name": "LayoutModel",
      "state": {
       "margin": "20px 0px"
      }
     },
     "36b8f608b82b478f82ede67b0c91fb67": {
      "model_module": "@jupyter-widgets/base",
      "model_module_version": "1.2.0",
      "model_name": "LayoutModel",
      "state": {
       "margin": "20px 0px"
      }
     },
     "37544c0854f2465d8f2d8bfc47041e72": {
      "model_module": "@jupyter-widgets/base",
      "model_module_version": "1.2.0",
      "model_name": "LayoutModel",
      "state": {}
     },
     "37787ec969d64182bb9c4ecfb9659757": {
      "model_module": "@jupyter-widgets/base",
      "model_module_version": "1.2.0",
      "model_name": "LayoutModel",
      "state": {}
     },
     "37884d0f8d42498e8a2b7303f8a9a0ef": {
      "model_module": "@jupyter-widgets/controls",
      "model_module_version": "1.5.0",
      "model_name": "BoundedFloatTextModel",
      "state": {
       "description": "step",
       "layout": "IPY_MODEL_b92546feb77a4e4aaff221af4a8fbabe",
       "max": 1,
       "min": 0.01,
       "step": 0.01,
       "style": "IPY_MODEL_e202f552d4a24fbbae5bf3a8236edbdd",
       "value": 0.01
      }
     },
     "37b62d5540e449ff914f8373be62480c": {
      "model_module": "@jupyter-widgets/base",
      "model_module_version": "1.2.0",
      "model_name": "LayoutModel",
      "state": {}
     },
     "37cc370812764135a78e918e9a54c255": {
      "model_module": "@jupyter-widgets/controls",
      "model_module_version": "1.5.0",
      "model_name": "ColorPickerModel",
      "state": {
       "description": "specular",
       "disabled": false,
       "layout": "IPY_MODEL_e932545f5a6741aba1e8ae82ce2fcd9d",
       "style": "IPY_MODEL_452cb761aa3c45988ae224ff962dda55",
       "value": "#282828"
      }
     },
     "3828bc81eaf447458079ef13d518f1d6": {
      "model_module": "@jupyter-widgets/base",
      "model_module_version": "1.2.0",
      "model_name": "LayoutModel",
      "state": {}
     },
     "3886c91004eb40b4ae526623f839f5a3": {
      "model_module": "@jupyter-widgets/base",
      "model_module_version": "1.2.0",
      "model_name": "LayoutModel",
      "state": {}
     },
     "38aedb1b56ff4907af35973d88c28785": {
      "model_module": "@jupyter-widgets/base",
      "model_module_version": "1.2.0",
      "model_name": "LayoutModel",
      "state": {}
     },
     "38b3bc34ec4749ce97f6df8128c8b58b": {
      "model_module": "@jupyter-widgets/controls",
      "model_module_version": "1.5.0",
      "model_name": "ButtonStyleModel",
      "state": {}
     },
     "38ddb4788197471db84a1a58ec09b8b2": {
      "model_module": "@jupyter-widgets/base",
      "model_module_version": "1.2.0",
      "model_name": "LayoutModel",
      "state": {}
     },
     "39315f2410f14e9294c5a154543f6ae9": {
      "model_module": "@jupyter-widgets/controls",
      "model_module_version": "1.5.0",
      "model_name": "ColorPickerModel",
      "state": {
       "description": "specular",
       "disabled": false,
       "layout": "IPY_MODEL_06cce5f559ff492daf7de0450f9ce4cc",
       "style": "IPY_MODEL_bf8c52c6349d45b7bd06b4eca76e2cbb",
       "value": "#282828"
      }
     },
     "39c02487d7c242b79297781e711e63fb": {
      "model_module": "@jupyter-widgets/controls",
      "model_module_version": "1.5.0",
      "model_name": "BoundedIntTextModel",
      "state": {
       "description": "step",
       "layout": "IPY_MODEL_7280887d7a1e420b80c07311475b256f",
       "min": 1,
       "style": "IPY_MODEL_e3ca09485f8f45a38649ee0f2bdcfb30",
       "value": 1
      }
     },
     "39ceb78dfb1449b399b665ad13905765": {
      "model_module": "@jupyter-widgets/base",
      "model_module_version": "1.2.0",
      "model_name": "LayoutModel",
      "state": {}
     },
     "3a51faf612714fa697dd0a09dbca2f90": {
      "model_module": "@jupyter-widgets/base",
      "model_module_version": "1.2.0",
      "model_name": "LayoutModel",
      "state": {}
     },
     "3ac048bed3cb4f37a53ad7615782b007": {
      "model_module": "@jupyter-widgets/base",
      "model_module_version": "1.2.0",
      "model_name": "LayoutModel",
      "state": {
       "margin": "20px 0px"
      }
     },
     "3b165dfd50c4467fa021eb1279eb1e9b": {
      "model_module": "@jupyter-widgets/base",
      "model_module_version": "1.2.0",
      "model_name": "LayoutModel",
      "state": {}
     },
     "3b8c17e62aa54d2eb6ba0c7aa6a6135d": {
      "model_module": "@jupyter-widgets/controls",
      "model_module_version": "1.5.0",
      "model_name": "DropdownModel",
      "state": {
       "_options_labels": [
        "NurbsCurve2D"
       ],
       "index": 0,
       "layout": "IPY_MODEL_8a552e1e88a0406f8658363c552e528f",
       "style": "IPY_MODEL_0405e697af844b2ea91e99af5ca06901"
      }
     },
     "3bccb846b4df4907997b93fed3c1a495": {
      "model_module": "@jupyter-widgets/base",
      "model_module_version": "1.2.0",
      "model_name": "LayoutModel",
      "state": {
       "margin": "20px 0px"
      }
     },
     "3bce6b106d9847ae81d706f5a7c75510": {
      "model_module": "@jupyter-widgets/controls",
      "model_module_version": "1.5.0",
      "model_name": "TextModel",
      "state": {
       "continuous_update": false,
       "description": "name",
       "layout": "IPY_MODEL_252030f955ba480a8f2671f0f6470f4f",
       "style": "IPY_MODEL_978de8ad9ea24bcea235051efc4a1a54",
       "value": "leafold"
      }
     },
     "3c075c2048614d2e8ada7b1f561f4f59": {
      "model_module": "@jupyter-widgets/controls",
      "model_module_version": "1.5.0",
      "model_name": "DescriptionStyleModel",
      "state": {
       "description_width": ""
      }
     },
     "3cf5140e8eaf4f8bb8ba9548db80111d": {
      "model_module": "pgljupyter",
      "model_module_version": "^0.1.2",
      "model_name": "_CurveEditorModel",
      "state": {
       "_model_module_version": "^0.1.2",
       "_view_module_version": "^0.1.2",
       "control_points": [
        [
         -0.5,
         0
        ],
        [
         -0.21058238636363635,
         0.3363636363636364
        ],
        [
         0.045454545454545414,
         -0.2068181818181818
        ],
        [
         0.5,
         0
        ]
       ],
       "curve_type": "BezierCurve2D",
       "layout": "IPY_MODEL_70855785526542688e78359baf1c605b"
      }
     },
     "3cfb8d16eb394aeb961b5b2fa13ef6df": {
      "model_module": "@jupyter-widgets/controls",
      "model_module_version": "1.5.0",
      "model_name": "FloatSliderModel",
      "state": {
       "description": "diffuse",
       "layout": "IPY_MODEL_0cbe358ee0dd4965a43e04c56c73e8c6",
       "max": 1,
       "step": 0.1,
       "style": "IPY_MODEL_a08868ee98f64737a3e282aeb5e9669c",
       "value": 1
      }
     },
     "3dd277d92fe4450ea1bc4361fbcac098": {
      "model_module": "@jupyter-widgets/base",
      "model_module_version": "1.2.0",
      "model_name": "LayoutModel",
      "state": {}
     },
     "3e05ba6b58e74c328014b35717708836": {
      "model_module": "@jupyter-widgets/base",
      "model_module_version": "1.2.0",
      "model_name": "LayoutModel",
      "state": {}
     },
     "3e329edb95664cb486dda3c2b3c896cf": {
      "model_module": "@jupyter-widgets/controls",
      "model_module_version": "1.5.0",
      "model_name": "FloatSliderModel",
      "state": {
       "description": "shininess",
       "layout": "IPY_MODEL_b60867a053c74a80a3f7d34c47d27946",
       "max": 1,
       "step": 0.1,
       "style": "IPY_MODEL_689ea972cbce41a8b32df7bdc67b10ae",
       "value": 0.2
      }
     },
     "3e83fe9f30584627863edeb47779fdff": {
      "model_module": "@jupyter-widgets/controls",
      "model_module_version": "1.5.0",
      "model_name": "DescriptionStyleModel",
      "state": {
       "description_width": ""
      }
     },
     "3ec6ca9ab67e4732aae15b941861a1e6": {
      "model_module": "@jupyter-widgets/controls",
      "model_module_version": "1.5.0",
      "model_name": "DescriptionStyleModel",
      "state": {
       "description_width": ""
      }
     },
     "3f0f3bb1764f476baea6463c404baeef": {
      "model_module": "@jupyter-widgets/controls",
      "model_module_version": "1.5.0",
      "model_name": "ButtonStyleModel",
      "state": {}
     },
     "3f238a5fcc604191bc5b4736381148d8": {
      "model_module": "@jupyter-widgets/base",
      "model_module_version": "1.2.0",
      "model_name": "LayoutModel",
      "state": {}
     },
     "3f61e9dd496f4505be6dc1c84aefdc57": {
      "model_module": "pgljupyter",
      "model_module_version": "^0.1.2",
      "model_name": "MaterialEditorModel",
      "state": {
       "_model_module_version": "^0.1.2",
       "_view_module_version": "^0.1.2",
       "children": [
        "IPY_MODEL_a22da95bced94b0ea758d979b05c4357",
        "IPY_MODEL_7310fb106a0148cba799629b28cfd588",
        "IPY_MODEL_d18d2324b3d64718bcd6376c175c5112",
        "IPY_MODEL_ccc3684d6a3a4acdaac7fa383e67ed43",
        "IPY_MODEL_b1cb0ecc984d47b5b601ac5ead5fda5d",
        "IPY_MODEL_096a27de4fb74defab7139814791f0a3",
        "IPY_MODEL_86b0aab187af49f1a86803563cc19ecd",
        "IPY_MODEL_6d99be388ce6453a934fe45ffafa4844"
       ],
       "layout": "IPY_MODEL_0f8c2f3fd66b445cb01eca6fb7b40014"
      }
     },
     "3fe29caf9acb479c9e156fc6416900ee": {
      "model_module": "@jupyter-widgets/base",
      "model_module_version": "1.2.0",
      "model_name": "LayoutModel",
      "state": {}
     },
     "3feee74276d3421fae01be462715ffc8": {
      "model_module": "@jupyter-widgets/controls",
      "model_module_version": "1.5.0",
      "model_name": "HBoxModel",
      "state": {
       "children": [
        "IPY_MODEL_30ab17fe198743bcad37c908631443f3",
        "IPY_MODEL_669728b8ae5a49c792ed0600cd4c0592"
       ],
       "layout": "IPY_MODEL_2a34b0987a734577a8bdcadf7269f14f"
      }
     },
     "406c4f5fcf9a45b7be0a39dfef3ec4cb": {
      "model_module": "@jupyter-widgets/controls",
      "model_module_version": "1.5.0",
      "model_name": "DescriptionStyleModel",
      "state": {
       "description_width": ""
      }
     },
     "40af17acda92411d80109dc43358e774": {
      "model_module": "@jupyter-widgets/controls",
      "model_module_version": "1.5.0",
      "model_name": "TabModel",
      "state": {
       "_titles": {
        "0": "leuwenberg.json"
       },
       "children": [
        "IPY_MODEL_d9369247700e41028695aa03301533a3"
       ],
       "layout": "IPY_MODEL_5a1fb8503b2442f9b24cb6b1fece5705"
      }
     },
     "41670547e0cb41e29a72d0cf35a2fb90": {
      "model_module": "@jupyter-widgets/base",
      "model_module_version": "1.2.0",
      "model_name": "LayoutModel",
      "state": {}
     },
     "4194c689e5fa497f9d21a411b43c0a30": {
      "model_module": "@jupyter-widgets/controls",
      "model_module_version": "1.5.0",
      "model_name": "DescriptionStyleModel",
      "state": {
       "description_width": ""
      }
     },
     "41a316cc494844f789d1f1885dfea1cc": {
      "model_module": "@jupyter-widgets/base",
      "model_module_version": "1.2.0",
      "model_name": "LayoutModel",
      "state": {}
     },
     "41a9495cc0b44ca9985500a41664b57b": {
      "model_module": "@jupyter-widgets/base",
      "model_module_version": "1.2.0",
      "model_name": "LayoutModel",
      "state": {}
     },
     "42053ffc262a4b7ca6d5549dd52e5f82": {
      "model_module": "@jupyter-widgets/controls",
      "model_module_version": "1.5.0",
      "model_name": "ButtonStyleModel",
      "state": {}
     },
     "425f0c41e24249038f40431856835760": {
      "model_module": "@jupyter-widgets/base",
      "model_module_version": "1.2.0",
      "model_name": "LayoutModel",
      "state": {}
     },
     "427d650961a94ebc940f5d364721d046": {
      "model_module": "@jupyter-widgets/controls",
      "model_module_version": "1.5.0",
      "model_name": "BoundedIntTextModel",
      "state": {
       "description": "step",
       "layout": "IPY_MODEL_a66d925434884203a2d16ec0b78649fa",
       "min": 1,
       "style": "IPY_MODEL_6123c57c0dbe4538b3dd7c1dd9f725aa",
       "value": 1
      }
     },
     "428c2ac17d184a2c9179180861f4e079": {
      "model_module": "@jupyter-widgets/controls",
      "model_module_version": "1.5.0",
      "model_name": "DescriptionStyleModel",
      "state": {
       "description_width": ""
      }
     },
     "428c33889979493ca7367d4a363d4e8e": {
      "model_module": "@jupyter-widgets/base",
      "model_module_version": "1.2.0",
      "model_name": "LayoutModel",
      "state": {}
     },
     "43ba10cfef5647dcacc79b7e087bba31": {
      "model_module": "@jupyter-widgets/controls",
      "model_module_version": "1.5.0",
      "model_name": "SliderStyleModel",
      "state": {
       "description_width": ""
      }
     },
     "43c13428f9a944b8a460d54eae5ad873": {
      "model_module": "pgljupyter",
      "model_module_version": "^0.1.2",
      "model_name": "FloatEditorModel",
      "state": {
       "_model_module_version": "^0.1.2",
       "_view_module_version": "^0.1.2",
       "children": [
        "IPY_MODEL_34a7af6b22db40fbbd501ad6986ec371",
        "IPY_MODEL_afd9593ec0b84617b0ed87c718ceb620",
        "IPY_MODEL_d8d05d5a29a74efe9d2384ef9c0949d6",
        "IPY_MODEL_05baa82cf2bd4d19ae29886c495c838c",
        "IPY_MODEL_d0804158d8994796a57cce09e55d1e9d"
       ],
       "layout": "IPY_MODEL_b25e2955a34f4430becede98d6b4bc0e"
      }
     },
     "44285d7230f445bf98197d64a341fe02": {
      "model_module": "@jupyter-widgets/controls",
      "model_module_version": "1.5.0",
      "model_name": "TextModel",
      "state": {
       "continuous_update": false,
       "description": "name",
       "layout": "IPY_MODEL_9f247c4d28cb495a854778e40397c2d2",
       "style": "IPY_MODEL_33a31a3d3fcc46a9b9009df9149904a8",
       "value": "nb_axes"
      }
     },
     "4452954c947d4500a16a79d71d3c2e7b": {
      "model_module": "pgljupyter",
      "model_module_version": "^0.1.2",
      "model_name": "CurveEditorModel",
      "state": {
       "_model_module_version": "^0.1.2",
       "_view_module_version": "^0.1.2",
       "children": [
        "IPY_MODEL_d3548b90ef3247ad9a07bc040218e2ba",
        "IPY_MODEL_9dded11f5a544de8be867b50bfcc065d"
       ],
       "layout": "IPY_MODEL_1834dc530a084c8498f3cad2f679f317"
      }
     },
     "4496978ebaf74413b5605902d2da87b2": {
      "model_module": "@jupyter-widgets/base",
      "model_module_version": "1.2.0",
      "model_name": "LayoutModel",
      "state": {}
     },
     "45249b3ec9cf468b928f4b5e1c4e6691": {
      "model_module": "@jupyter-widgets/base",
      "model_module_version": "1.2.0",
      "model_name": "LayoutModel",
      "state": {
       "margin": "20px 0px"
      }
     },
     "452cb761aa3c45988ae224ff962dda55": {
      "model_module": "@jupyter-widgets/controls",
      "model_module_version": "1.5.0",
      "model_name": "DescriptionStyleModel",
      "state": {
       "description_width": ""
      }
     },
     "4582f038b2014974a160502d5dbeaf9d": {
      "model_module": "@jupyter-widgets/controls",
      "model_module_version": "1.5.0",
      "model_name": "TextModel",
      "state": {
       "continuous_update": false,
       "description": "name",
       "layout": "IPY_MODEL_3f238a5fcc604191bc5b4736381148d8",
       "style": "IPY_MODEL_d02de77550284a6da1474d5305e95a37",
       "value": "leafold"
      }
     },
     "459840c1039c40659fd49f4c086acc29": {
      "model_module": "@jupyter-widgets/controls",
      "model_module_version": "1.5.0",
      "model_name": "FloatSliderModel",
      "state": {
       "description": "transparency",
       "layout": "IPY_MODEL_7bfa05f9b9ea414c9d631dd7c3d53fb0",
       "max": 1,
       "step": 0.1,
       "style": "IPY_MODEL_94e00aab9f27448caa364586229589bf"
      }
     },
     "45fda64537864956b96ca712540b6091": {
      "model_module": "@jupyter-widgets/controls",
      "model_module_version": "1.5.0",
      "model_name": "FloatSliderModel",
      "state": {
       "description": "shininess",
       "layout": "IPY_MODEL_2bf3331faa364b30ad1034ed79e8c07a",
       "max": 1,
       "step": 0.1,
       "style": "IPY_MODEL_4ace57041c8b423a83c531503ab0e2fd",
       "value": 0.2
      }
     },
     "46bdc2ae0d2545468a3d1f00ad7a90d8": {
      "model_module": "@jupyter-widgets/controls",
      "model_module_version": "1.5.0",
      "model_name": "ButtonModel",
      "state": {
       "description": "Delete category",
       "layout": "IPY_MODEL_085cf00af7e74f6a8bdf8faa2bd45c79",
       "style": "IPY_MODEL_eeb63f88ae9c40f29096db1ae83b5a51"
      }
     },
     "46d4a42297fb4b649abab841c2500d21": {
      "model_module": "@jupyter-widgets/controls",
      "model_module_version": "1.5.0",
      "model_name": "DescriptionStyleModel",
      "state": {
       "description_width": ""
      }
     },
     "471581ae848649c4b2d3b9f91531c7c1": {
      "model_module": "@jupyter-widgets/base",
      "model_module_version": "1.2.0",
      "model_name": "LayoutModel",
      "state": {}
     },
     "4715df1b0b834bf098b71011425a052b": {
      "model_module": "@jupyter-widgets/controls",
      "model_module_version": "1.5.0",
      "model_name": "BoundedFloatTextModel",
      "state": {
       "description": "step",
       "layout": "IPY_MODEL_1197ccef20ad42c09a38c91de1f4c7e7",
       "max": 1,
       "min": 0.01,
       "step": 0.01,
       "style": "IPY_MODEL_742dfafade604ead88df5aeb395d062f",
       "value": 0.01
      }
     },
     "47214f6427f7418fbaf69a73417a8a32": {
      "model_module": "@jupyter-widgets/base",
      "model_module_version": "1.2.0",
      "model_name": "LayoutModel",
      "state": {}
     },
     "47a0a6cf6ba74bd2a755cd7fb7f79fbd": {
      "model_module": "@jupyter-widgets/base",
      "model_module_version": "1.2.0",
      "model_name": "LayoutModel",
      "state": {}
     },
     "47afa44d41864f5d83f07650c61ec59f": {
      "model_module": "@jupyter-widgets/controls",
      "model_module_version": "1.5.0",
      "model_name": "SliderStyleModel",
      "state": {
       "description_width": ""
      }
     },
     "48bdb719082748ef91def7da3aa3a65a": {
      "model_module": "@jupyter-widgets/controls",
      "model_module_version": "1.5.0",
      "model_name": "DescriptionStyleModel",
      "state": {
       "description_width": ""
      }
     },
     "48c1f53971054738990806ae620d7667": {
      "model_module": "@jupyter-widgets/controls",
      "model_module_version": "1.5.0",
      "model_name": "CheckboxModel",
      "state": {
       "description": "Auto save",
       "disabled": false,
       "layout": "IPY_MODEL_3828bc81eaf447458079ef13d518f1d6",
       "style": "IPY_MODEL_6666188aa3f4449999d1694b25ad41ee",
       "value": false
      }
     },
     "4919409bbefe4b55b628a112688032dd": {
      "model_module": "@jupyter-widgets/base",
      "model_module_version": "1.2.0",
      "model_name": "LayoutModel",
      "state": {
       "flex_flow": "row wrap"
      }
     },
     "493d5a5387c94ff6bb50e2aaa48fcbf4": {
      "model_module": "@jupyter-widgets/base",
      "model_module_version": "1.2.0",
      "model_name": "LayoutModel",
      "state": {}
     },
     "49a1436ad4014b5a8af052e018127e24": {
      "model_module": "@jupyter-widgets/controls",
      "model_module_version": "1.5.0",
      "model_name": "FloatSliderModel",
      "state": {
       "description": "transparency",
       "layout": "IPY_MODEL_e814128cb3ca406599575becc4a69bc2",
       "max": 1,
       "step": 0.1,
       "style": "IPY_MODEL_c13f341ad092459384f2c9ee63f72ecf"
      }
     },
     "49d765156c8d405a9d5045aaad000d89": {
      "model_module": "@jupyter-widgets/controls",
      "model_module_version": "1.5.0",
      "model_name": "FloatSliderModel",
      "state": {
       "description": "transparency",
       "layout": "IPY_MODEL_6810e648aef64abea58b5d98674de0b8",
       "max": 1,
       "step": 0.1,
       "style": "IPY_MODEL_43ba10cfef5647dcacc79b7e087bba31"
      }
     },
     "49dbac54c4d6481ba32cd961140796cc": {
      "model_module": "@jupyter-widgets/base",
      "model_module_version": "1.2.0",
      "model_name": "LayoutModel",
      "state": {}
     },
     "4a7a99489c5a42579c34d1355f0f4a43": {
      "model_module": "@jupyter-widgets/base",
      "model_module_version": "1.2.0",
      "model_name": "LayoutModel",
      "state": {
       "margin": "20px 0px"
      }
     },
     "4a918c9202a0476caad374619efcf855": {
      "model_module": "@jupyter-widgets/controls",
      "model_module_version": "1.5.0",
      "model_name": "HBoxModel",
      "state": {
       "children": [
        "IPY_MODEL_9d6be6a3893b409585f8da9214f2401d",
        "IPY_MODEL_a0da1a97ad364133b23633c7924c8382"
       ],
       "layout": "IPY_MODEL_63b4947d7fa1417cae7c1d3f084d49d5"
      }
     },
     "4ab95f25721548e9a6f9af0e22f82169": {
      "model_module": "@jupyter-widgets/base",
      "model_module_version": "1.2.0",
      "model_name": "LayoutModel",
      "state": {}
     },
     "4acc7b98a51f43498f9bddac5e91d64d": {
      "model_module": "@jupyter-widgets/controls",
      "model_module_version": "1.5.0",
      "model_name": "DescriptionStyleModel",
      "state": {
       "description_width": ""
      }
     },
     "4acdde3cfbf843c8afbee44ec9794ebd": {
      "model_module": "@jupyter-widgets/controls",
      "model_module_version": "1.5.0",
      "model_name": "DescriptionStyleModel",
      "state": {
       "description_width": ""
      }
     },
     "4ace57041c8b423a83c531503ab0e2fd": {
      "model_module": "@jupyter-widgets/controls",
      "model_module_version": "1.5.0",
      "model_name": "SliderStyleModel",
      "state": {
       "description_width": ""
      }
     },
     "4ade1c185619410ba023ba5776236f1d": {
      "model_module": "@jupyter-widgets/controls",
      "model_module_version": "1.5.0",
      "model_name": "ButtonStyleModel",
      "state": {}
     },
     "4b062199493449db918342e17a6ad7bc": {
      "model_module": "@jupyter-widgets/controls",
      "model_module_version": "1.5.0",
      "model_name": "VBoxModel",
      "state": {
       "children": [
        "IPY_MODEL_c6a2f506d2404d8088d464eb5aac551f",
        "IPY_MODEL_d0db5afd7c894db69b4bee3c7f83608a",
        "IPY_MODEL_68c85118ad164578b30b1f973b2d8833",
        "IPY_MODEL_059cd3ead9c84420a00546dd6da8188f",
        "IPY_MODEL_c5f1bf80981a4895b92f6fc2fecafac2"
       ],
       "layout": "IPY_MODEL_516f3839490b488c85bfa092f7f73e64"
      }
     },
     "4b3a9d9aa43144fca24393575055b6a0": {
      "model_module": "@jupyter-widgets/base",
      "model_module_version": "1.2.0",
      "model_name": "LayoutModel",
      "state": {
       "margin": "20px 0px"
      }
     },
     "4b64ee9c6a43480d901f5465b9f72678": {
      "model_module": "@jupyter-widgets/controls",
      "model_module_version": "1.5.0",
      "model_name": "ButtonStyleModel",
      "state": {}
     },
     "4b68990f7c95481cba2019dad4acc95d": {
      "model_module": "@jupyter-widgets/base",
      "model_module_version": "1.2.0",
      "model_name": "LayoutModel",
      "state": {}
     },
     "4bbbae79a86144d493f18b5c2c7594dc": {
      "model_module": "@jupyter-widgets/base",
      "model_module_version": "1.2.0",
      "model_name": "LayoutModel",
      "state": {}
     },
     "4bc1579957df4870a26abbbe1e8fbf81": {
      "model_module": "@jupyter-widgets/base",
      "model_module_version": "1.2.0",
      "model_name": "LayoutModel",
      "state": {}
     },
     "4c33b2ff3f1c47ffb18a56039702b03b": {
      "model_module": "@jupyter-widgets/base",
      "model_module_version": "1.2.0",
      "model_name": "LayoutModel",
      "state": {}
     },
     "4c8db41d749847e5a3305abcaf3731a3": {
      "model_module": "@jupyter-widgets/controls",
      "model_module_version": "1.5.0",
      "model_name": "IntTextModel",
      "state": {
       "description": "min",
       "layout": "IPY_MODEL_1d3a1be6a6084091b6a39ee2a8027c89",
       "step": 1,
       "style": "IPY_MODEL_0a24786ecfbe4e24a5250a48a1b6d358",
       "value": 1
      }
     },
     "4ccd58c794d4443dbe55872516e36d08": {
      "model_module": "@jupyter-widgets/controls",
      "model_module_version": "1.5.0",
      "model_name": "FloatSliderModel",
      "state": {
       "description": "shininess",
       "layout": "IPY_MODEL_e0d3b484200b4472a943c361ea5e1294",
       "max": 1,
       "step": 0.1,
       "style": "IPY_MODEL_54b30b3e72bb46fda919a34e55895666",
       "value": 0.7
      }
     },
     "4d1384563f59422491a12fe1ae288581": {
      "model_module": "@jupyter-widgets/controls",
      "model_module_version": "1.5.0",
      "model_name": "HBoxModel",
      "state": {
       "children": [
        "IPY_MODEL_1887cc7298b24d14826641b5481a0943",
        "IPY_MODEL_8521421917f24da6b6dadd3024bc4b3c"
       ],
       "layout": "IPY_MODEL_8a8447a78e8d49cbbb6bc89f112759f5"
      }
     },
     "4db88b4aa5fb42a5b872196a8c76eb37": {
      "model_module": "pgljupyter",
      "model_module_version": "^0.1.2",
      "model_name": "_CurveEditorModel",
      "state": {
       "_model_module_version": "^0.1.2",
       "_view_module_version": "^0.1.2",
       "control_points": [
        [
         -0.5,
         0
        ],
        [
         -0.25,
         0.25
        ],
        [
         0.11363636363636365,
         -0.19545454545454544
        ],
        [
         0.25,
         0.25
        ],
        [
         0.5,
         0
        ]
       ],
       "curve_type": "NurbsCurve2D",
       "is_function": true,
       "layout": "IPY_MODEL_10589094c39140b8919a9555a61f9f09"
      }
     },
     "4dbbec1ba4df4a18a3c1e89398b3495e": {
      "model_module": "@jupyter-widgets/controls",
      "model_module_version": "1.5.0",
      "model_name": "SliderStyleModel",
      "state": {
       "description_width": ""
      }
     },
     "4dcf6f69930d49be872b838aed6b60ef": {
      "model_module": "@jupyter-widgets/base",
      "model_module_version": "1.2.0",
      "model_name": "LayoutModel",
      "state": {}
     },
     "4ded6f0e10d44e918caea6634ec2fab5": {
      "model_module": "@jupyter-widgets/base",
      "model_module_version": "1.2.0",
      "model_name": "LayoutModel",
      "state": {
       "margin": "20px 0px"
      }
     },
     "4e5a818d53444e98a18796f935a62117": {
      "model_module": "@jupyter-widgets/controls",
      "model_module_version": "1.5.0",
      "model_name": "DescriptionStyleModel",
      "state": {
       "description_width": ""
      }
     },
     "4e8d1d5dc75349a687367ab1a1036add": {
      "model_module": "pgljupyter",
      "model_module_version": "^0.1.14",
      "model_name": "MaterialEditorModel",
      "state": {
       "_model_module_version": "^0.1.14",
       "_view_module_version": "^0.1.14",
       "children": [
        "IPY_MODEL_ec6f227e1d1849c6b081b477e8c87086",
        "IPY_MODEL_c2d5788df88a4bffa01ec27cdf0aec8e",
        "IPY_MODEL_90a47df4dba34d57b516a9080888680e",
        "IPY_MODEL_d753d848f55f4e2b94e8fb42928aeb59",
        "IPY_MODEL_98f8b3c6f7c54cba99d0142498298b0a",
        "IPY_MODEL_d883946023a44ed59423d05c961e71b3",
        "IPY_MODEL_8708b4f84f454407bc516fc2e9b1e14b"
       ],
       "layout": "IPY_MODEL_3ac048bed3cb4f37a53ad7615782b007"
      }
     },
     "4eadb4503064446aaa9b09de3bbf33b3": {
      "model_module": "@jupyter-widgets/controls",
      "model_module_version": "1.5.0",
      "model_name": "HBoxModel",
      "state": {
       "layout": "IPY_MODEL_bb156c39f7374a1b9165dded955416f5"
      }
     },
     "4ebaed4962d34cb98cda2e52d678023a": {
      "model_module": "@jupyter-widgets/controls",
      "model_module_version": "1.5.0",
      "model_name": "DescriptionStyleModel",
      "state": {
       "description_width": ""
      }
     },
     "4ed43592321843ef9520c615cdd77876": {
      "model_module": "@jupyter-widgets/controls",
      "model_module_version": "1.5.0",
      "model_name": "FloatSliderModel",
      "state": {
       "description": "diffuse",
       "layout": "IPY_MODEL_f53d50f573ea4c8196171420178e0463",
       "max": 1,
       "step": 0.1,
       "style": "IPY_MODEL_26f6320010f14927813d14ad09e8177b"
      }
     },
     "4f1619fba91b4d7cb40cab3f9cfbda3e": {
      "model_module": "@jupyter-widgets/controls",
      "model_module_version": "1.5.0",
      "model_name": "DescriptionStyleModel",
      "state": {
       "description_width": ""
      }
     },
     "4f232ac5610c453da6bbff0d94f89765": {
      "model_module": "@jupyter-widgets/controls",
      "model_module_version": "1.5.0",
      "model_name": "DescriptionStyleModel",
      "state": {
       "description_width": ""
      }
     },
     "4f287b2a341448d9a798e24f4f22f436": {
      "model_module": "@jupyter-widgets/controls",
      "model_module_version": "1.5.0",
      "model_name": "IntTextModel",
      "state": {
       "description": "max",
       "layout": "IPY_MODEL_c8945ff55f3e4299bc6baee965a89100",
       "step": 1,
       "style": "IPY_MODEL_8298bb29a5c745799439a58c350b6a9a",
       "value": 10
      }
     },
     "4f98121246334297a02fb360aff2e606": {
      "model_module": "@jupyter-widgets/controls",
      "model_module_version": "1.5.0",
      "model_name": "IntTextModel",
      "state": {
       "description": "max",
       "layout": "IPY_MODEL_19db9ae357b3453fbd2da22eadb8956e",
       "step": 1,
       "style": "IPY_MODEL_6f8bb26a5dc749afa2ac8bd008a7e44c",
       "value": 10
      }
     },
     "4fdb3bdbb0884b1b9b70d74186e0ee51": {
      "model_module": "pgljupyter",
      "model_module_version": "^0.1.14",
      "model_name": "MaterialEditorModel",
      "state": {
       "_model_module_version": "^0.1.14",
       "_view_module_version": "^0.1.14",
       "children": [
        "IPY_MODEL_5addc8ec08bb40b083f5cbde80d8ec5a",
        "IPY_MODEL_d0bdbc64800d4d82b5dc67febea65a36",
        "IPY_MODEL_14817bde845446ec9c7495a6741273f0",
        "IPY_MODEL_1d143d9919154875be616ca354e10d87",
        "IPY_MODEL_35fe5bcb32a344c1839ffc661e5b7fe4",
        "IPY_MODEL_49a1436ad4014b5a8af052e018127e24",
        "IPY_MODEL_3e329edb95664cb486dda3c2b3c896cf"
       ],
       "layout": "IPY_MODEL_364a0d3467624371a6bdd269466b5c04"
      }
     },
     "501ea1908aad438daf66b1b6172aba6c": {
      "model_module": "@jupyter-widgets/base",
      "model_module_version": "1.2.0",
      "model_name": "LayoutModel",
      "state": {}
     },
     "5028f9bf49fb443a9a1cbb1892e2eaa5": {
      "model_module": "@jupyter-widgets/controls",
      "model_module_version": "1.5.0",
      "model_name": "DescriptionStyleModel",
      "state": {
       "description_width": ""
      }
     },
     "502e8a7f883742d0a593c735da02e62c": {
      "model_module": "@jupyter-widgets/controls",
      "model_module_version": "1.5.0",
      "model_name": "DescriptionStyleModel",
      "state": {
       "description_width": ""
      }
     },
     "5033c64811d044d4bfb1668fefbe13dd": {
      "model_module": "@jupyter-widgets/controls",
      "model_module_version": "1.5.0",
      "model_name": "DescriptionStyleModel",
      "state": {
       "description_width": ""
      }
     },
     "507a380126584a23acf72009229e0b78": {
      "model_module": "@jupyter-widgets/base",
      "model_module_version": "1.2.0",
      "model_name": "LayoutModel",
      "state": {}
     },
     "50b5640fcf26472bb3b7a44f52d8e1e5": {
      "model_module": "@jupyter-widgets/controls",
      "model_module_version": "1.5.0",
      "model_name": "ButtonModel",
      "state": {
       "description": "Delete",
       "layout": "IPY_MODEL_02dfbd0f3f494360ad5c3be0612bc61f",
       "style": "IPY_MODEL_b667c2ac1f16455daba01fec1e350f9a"
      }
     },
     "50f6ca45ee7c4be8ab97d014e4b3619d": {
      "model_module": "@jupyter-widgets/controls",
      "model_module_version": "1.5.0",
      "model_name": "HBoxModel",
      "state": {
       "children": [
        "IPY_MODEL_76828b02847f49ffabf74ca1c0f2de97",
        "IPY_MODEL_5cc64d948421470ca2d0fdfbabb9f894",
        "IPY_MODEL_97b1c094320146c1bccde87922ad76ab",
        "IPY_MODEL_ec24f35bb3fa42c4a49afed0c7c8655d"
       ],
       "layout": "IPY_MODEL_2c758a39f7fc445fb36328a5392bc3cb"
      }
     },
     "514cfc19ebf74685ab74dd7b7a22c471": {
      "model_module": "@jupyter-widgets/controls",
      "model_module_version": "1.5.0",
      "model_name": "SliderStyleModel",
      "state": {
       "description_width": ""
      }
     },
     "516f3839490b488c85bfa092f7f73e64": {
      "model_module": "@jupyter-widgets/base",
      "model_module_version": "1.2.0",
      "model_name": "LayoutModel",
      "state": {}
     },
     "51e4a756a4174e399005475e57e78c22": {
      "model_module": "@jupyter-widgets/base",
      "model_module_version": "1.2.0",
      "model_name": "LayoutModel",
      "state": {}
     },
     "5242056fc3e74012833d1c34f09631be": {
      "model_module": "@jupyter-widgets/controls",
      "model_module_version": "1.5.0",
      "model_name": "HBoxModel",
      "state": {
       "children": [
        "IPY_MODEL_4a918c9202a0476caad374619efcf855",
        "IPY_MODEL_9866af8bed034a5794d5192397982b56"
       ],
       "layout": "IPY_MODEL_1bcadc721303432abe9c782e04d39bdb"
      }
     },
     "525695082907441b9d5fe716c55b2141": {
      "model_module": "@jupyter-widgets/controls",
      "model_module_version": "1.5.0",
      "model_name": "IntTextModel",
      "state": {
       "description": "min",
       "layout": "IPY_MODEL_77bd1f060fa34f0f829dcac933f97e94",
       "step": 1,
       "style": "IPY_MODEL_9e81f7640e8f4efe9c6911df87f9bc06",
       "value": 1
      }
     },
     "52ca1ed525844e04951491c3bedc20bd": {
      "model_module": "pgljupyter",
      "model_module_version": "^0.1.2",
      "model_name": "ParameterEditorModel",
      "state": {
       "_model_module_version": "^0.1.2",
       "_view_module_version": "^0.1.2",
       "children": [
        "IPY_MODEL_0363dd6f49f04bb58c913c0d2c5c903b"
       ],
       "layout": "IPY_MODEL_84896375a43b4ce3b3339763cff16672"
      }
     },
     "52cf68e476164b149a0ae8a47536c3d5": {
      "model_module": "@jupyter-widgets/controls",
      "model_module_version": "1.5.0",
      "model_name": "IntTextModel",
      "state": {
       "description": "min",
       "layout": "IPY_MODEL_a0e11695f24944bf94fad5b77ca3bcf3",
       "step": 1,
       "style": "IPY_MODEL_1011fc19b1da457cba092f3ff3475f19",
       "value": 1
      }
     },
     "52d545c83d3e481487b0166b187bf347": {
      "model_module": "@jupyter-widgets/controls",
      "model_module_version": "1.5.0",
      "model_name": "TabModel",
      "state": {
       "layout": "IPY_MODEL_a68b7fc99f404294906f8f19e3fbcf4a"
      }
     },
     "52ed3b29cc924319aa39707f79b42d17": {
      "model_module": "@jupyter-widgets/base",
      "model_module_version": "1.2.0",
      "model_name": "LayoutModel",
      "state": {}
     },
     "535753bdefa642f2833596ad6d1dcf7b": {
      "model_module": "@jupyter-widgets/controls",
      "model_module_version": "1.5.0",
      "model_name": "DescriptionStyleModel",
      "state": {
       "description_width": ""
      }
     },
     "53ec91f57093422daaabbfa341b1878b": {
      "model_module": "@jupyter-widgets/base",
      "model_module_version": "1.2.0",
      "model_name": "LayoutModel",
      "state": {}
     },
     "53f6270f491843a0b16c33aa8def5354": {
      "model_module": "@jupyter-widgets/base",
      "model_module_version": "1.2.0",
      "model_name": "LayoutModel",
      "state": {}
     },
     "543e057f74d34186b9646b8011bf4a79": {
      "model_module": "@jupyter-widgets/base",
      "model_module_version": "1.2.0",
      "model_name": "LayoutModel",
      "state": {}
     },
     "54769b26134a4b46a9dd5a9fb3fe96f0": {
      "model_module": "@jupyter-widgets/controls",
      "model_module_version": "1.5.0",
      "model_name": "HBoxModel",
      "state": {
       "layout": "IPY_MODEL_1dbafdd152c84ab4b7288ac443955d83"
      }
     },
     "547c418d86ec4fce8644a63a4d9fad45": {
      "model_module": "@jupyter-widgets/controls",
      "model_module_version": "1.5.0",
      "model_name": "BoundedIntTextModel",
      "state": {
       "description": "index",
       "layout": "IPY_MODEL_c0a0b6ba4761420fa5e80e161bdb896d",
       "style": "IPY_MODEL_fd7d330ce7384b0b8b5b1d06fe02e1b5",
       "value": 4
      }
     },
     "54b30b3e72bb46fda919a34e55895666": {
      "model_module": "@jupyter-widgets/controls",
      "model_module_version": "1.5.0",
      "model_name": "SliderStyleModel",
      "state": {
       "description_width": ""
      }
     },
     "54e18e6488554c9eb34ba05898de159c": {
      "model_module": "@jupyter-widgets/controls",
      "model_module_version": "1.5.0",
      "model_name": "DescriptionStyleModel",
      "state": {
       "description_width": ""
      }
     },
     "55dd24f2a4134bb8918a6c13a35703b2": {
      "model_module": "@jupyter-widgets/controls",
      "model_module_version": "1.5.0",
      "model_name": "SliderStyleModel",
      "state": {
       "description_width": ""
      }
     },
     "55e50482ddd14ec08b2e2699040ec3a6": {
      "model_module": "@jupyter-widgets/controls",
      "model_module_version": "1.5.0",
      "model_name": "FloatSliderModel",
      "state": {
       "description": "diffuse",
       "layout": "IPY_MODEL_ee2e3e4b8e134b2f9faf01615d057f6b",
       "max": 1,
       "step": 0.1,
       "style": "IPY_MODEL_2b3bf360eab343d593671b7dbea90bd5",
       "value": 1
      }
     },
     "564a42c5a9ca42cb9b9795167a4f42b8": {
      "model_module": "@jupyter-widgets/base",
      "model_module_version": "1.2.0",
      "model_name": "LayoutModel",
      "state": {}
     },
     "56fd1fd2e814475eb612902882576a7b": {
      "model_module": "@jupyter-widgets/controls",
      "model_module_version": "1.5.0",
      "model_name": "HBoxModel",
      "state": {
       "children": [
        "IPY_MODEL_234ac662616e4f3c84f2599e188d95c4",
        "IPY_MODEL_13f0d0a4d0aa4c2785e171b7994d4969"
       ],
       "layout": "IPY_MODEL_5a6b22aae267432c961ea45f4625682b"
      }
     },
     "572b9fffa5a14e6fa1858cfc214e58b6": {
      "model_module": "@jupyter-widgets/controls",
      "model_module_version": "1.5.0",
      "model_name": "SliderStyleModel",
      "state": {
       "description_width": ""
      }
     },
     "574863a6cad34aef8e40d8339970a06e": {
      "model_module": "@jupyter-widgets/base",
      "model_module_version": "1.2.0",
      "model_name": "LayoutModel",
      "state": {}
     },
     "578316b91d17484a80132ba6fadd8e4d": {
      "model_module": "@jupyter-widgets/controls",
      "model_module_version": "1.5.0",
      "model_name": "ButtonModel",
      "state": {
       "description": "Save changes",
       "layout": "IPY_MODEL_1bc3f0f3b6b74005b830717c2c436ca2",
       "style": "IPY_MODEL_d3ba0204db55482095d75dd306143739"
      }
     },
     "5783a1ffec3a4cf7831b22bbadf5558d": {
      "model_module": "@jupyter-widgets/controls",
      "model_module_version": "1.5.0",
      "model_name": "ButtonModel",
      "state": {
       "description": "Add",
       "layout": "IPY_MODEL_1f678338b62947efb94d704316f3494d",
       "style": "IPY_MODEL_632f8ed8e8d54c0fb211a3f817e5249b"
      }
     },
     "57a7f707d08c4c63bf3ba337a4ba07e7": {
      "model_module": "@jupyter-widgets/base",
      "model_module_version": "1.2.0",
      "model_name": "LayoutModel",
      "state": {}
     },
     "5869b36a3dbb49e7ac247b1feb7974f0": {
      "model_module": "@jupyter-widgets/controls",
      "model_module_version": "1.5.0",
      "model_name": "DescriptionStyleModel",
      "state": {
       "description_width": ""
      }
     },
     "587b1dffe6b24823be3ef953d7ec9603": {
      "model_module": "@jupyter-widgets/base",
      "model_module_version": "1.2.0",
      "model_name": "LayoutModel",
      "state": {}
     },
     "587dd5a4d2b8417b9922df6385c8d282": {
      "model_module": "pgljupyter",
      "model_module_version": "^0.1.2",
      "model_name": "ParameterEditorModel",
      "state": {
       "_model_module_version": "^0.1.2",
       "_view_module_version": "^0.1.2",
       "children": [
        "IPY_MODEL_95ba0750d90d46549f250d00ed29fe90"
       ],
       "layout": "IPY_MODEL_9a5bea988e4b44239c09cfdf7b695751"
      }
     },
     "588d64f172f4413783d455778353f9b9": {
      "model_module": "@jupyter-widgets/controls",
      "model_module_version": "1.5.0",
      "model_name": "DescriptionStyleModel",
      "state": {
       "description_width": ""
      }
     },
     "591b3c54a7984fc298dcb80aab4e9c80": {
      "model_module": "@jupyter-widgets/base",
      "model_module_version": "1.2.0",
      "model_name": "LayoutModel",
      "state": {}
     },
     "593c45add93e470fa160defc86ae8503": {
      "model_module": "@jupyter-widgets/controls",
      "model_module_version": "1.5.0",
      "model_name": "ButtonModel",
      "state": {
       "description": "Save changes",
       "disabled": true,
       "layout": "IPY_MODEL_006c860d83bb44f197de8a363c8000ca",
       "style": "IPY_MODEL_73f500e006d84a9c84319ee4b2755109"
      }
     },
     "5965992f600047acaf09d3042fa191f5": {
      "model_module": "@jupyter-widgets/controls",
      "model_module_version": "1.5.0",
      "model_name": "DescriptionStyleModel",
      "state": {
       "description_width": ""
      }
     },
     "59e4ce096db041599800b92606fb73a5": {
      "model_module": "@jupyter-widgets/base",
      "model_module_version": "1.2.0",
      "model_name": "LayoutModel",
      "state": {}
     },
     "5a1fb8503b2442f9b24cb6b1fece5705": {
      "model_module": "@jupyter-widgets/base",
      "model_module_version": "1.2.0",
      "model_name": "LayoutModel",
      "state": {}
     },
     "5a20bedfc3174238b2ea8c131168e933": {
      "model_module": "@jupyter-widgets/base",
      "model_module_version": "1.2.0",
      "model_name": "LayoutModel",
      "state": {
       "margin": "20px 0px"
      }
     },
     "5a27be4bb9c048a2bb54f5eb48c09787": {
      "model_module": "@jupyter-widgets/controls",
      "model_module_version": "1.5.0",
      "model_name": "DescriptionStyleModel",
      "state": {
       "description_width": ""
      }
     },
     "5a2e5528074949ac9f2d0bd4dfa6342a": {
      "model_module": "@jupyter-widgets/controls",
      "model_module_version": "1.5.0",
      "model_name": "ButtonStyleModel",
      "state": {}
     },
     "5a6b22aae267432c961ea45f4625682b": {
      "model_module": "@jupyter-widgets/base",
      "model_module_version": "1.2.0",
      "model_name": "LayoutModel",
      "state": {}
     },
     "5ab9113113e04cbc8f728a3925f24dc8": {
      "model_module": "@jupyter-widgets/base",
      "model_module_version": "1.2.0",
      "model_name": "LayoutModel",
      "state": {}
     },
     "5addc8ec08bb40b083f5cbde80d8ec5a": {
      "model_module": "@jupyter-widgets/controls",
      "model_module_version": "1.5.0",
      "model_name": "TextModel",
      "state": {
       "continuous_update": false,
       "description": "name",
       "layout": "IPY_MODEL_c09ac5f419df40aa9d1c27db2f5b8fe2",
       "style": "IPY_MODEL_c4e9c941f22141baa6941a4cac591ea8",
       "value": "color_1"
      }
     },
     "5b0cb2a6a992436289ac3a0b8e7bae75": {
      "model_module": "@jupyter-widgets/base",
      "model_module_version": "1.2.0",
      "model_name": "LayoutModel",
      "state": {
       "margin": "20px 0px"
      }
     },
     "5bb3e8d0cda8438b902ddf054f47aca2": {
      "model_module": "@jupyter-widgets/controls",
      "model_module_version": "1.5.0",
      "model_name": "DropdownModel",
      "state": {
       "_options_labels": [
        "color_1",
        "color_2",
        "color_4"
       ],
       "index": 0,
       "layout": "IPY_MODEL_c95cf67e99be4e26a62abb82e9ca131b",
       "style": "IPY_MODEL_b8edda361f7c45fca84ae1034a46206a"
      }
     },
     "5be4664a6e1f4328bbc274b21c1c5c15": {
      "model_module": "@jupyter-widgets/controls",
      "model_module_version": "1.5.0",
      "model_name": "BoundedIntTextModel",
      "state": {
       "description": "step",
       "layout": "IPY_MODEL_52ed3b29cc924319aa39707f79b42d17",
       "min": 1,
       "style": "IPY_MODEL_2ff2e549a4684de5a2db6f29b2366fd5",
       "value": 1
      }
     },
     "5c04a7bab5654a89bb57cca666a4c17e": {
      "model_module": "@jupyter-widgets/base",
      "model_module_version": "1.2.0",
      "model_name": "LayoutModel",
      "state": {}
     },
     "5c5d43ff238d401bb3938a61a166e488": {
      "model_module": "@jupyter-widgets/controls",
      "model_module_version": "1.5.0",
      "model_name": "SliderStyleModel",
      "state": {
       "description_width": ""
      }
     },
     "5c79a794e9ac4cbfb81e5ba98a148a97": {
      "model_module": "@jupyter-widgets/controls",
      "model_module_version": "1.5.0",
      "model_name": "DropdownModel",
      "state": {
       "_options_labels": [
        "Integer",
        "Float",
        "Bool"
       ],
       "index": 0,
       "layout": "IPY_MODEL_3a51faf612714fa697dd0a09dbca2f90",
       "style": "IPY_MODEL_84e2779eec6247e788956dd1ebf9ea54"
      }
     },
     "5cb242cfc7614b3eb4c7b8c0e9c5c193": {
      "model_module": "@jupyter-widgets/base",
      "model_module_version": "1.2.0",
      "model_name": "LayoutModel",
      "state": {}
     },
     "5cc64d948421470ca2d0fdfbabb9f894": {
      "model_module": "@jupyter-widgets/controls",
      "model_module_version": "1.5.0",
      "model_name": "DropdownModel",
      "state": {
       "_options_labels": [
        "Integer",
        "Float",
        "Bool"
       ],
       "index": 0,
       "layout": "IPY_MODEL_6d9c7f7305ad4ec4afff7c03238f241a",
       "style": "IPY_MODEL_952046052d024f28bf70c8a76f65f14a"
      }
     },
     "5cf887d3feab499d9c355b88d984835c": {
      "model_module": "@jupyter-widgets/controls",
      "model_module_version": "1.5.0",
      "model_name": "ColorPickerModel",
      "state": {
       "description": "specular",
       "disabled": false,
       "layout": "IPY_MODEL_954794a6a3d042c395cc18311c564ac2",
       "style": "IPY_MODEL_72b34f3219da475383427c0f92144518",
       "value": "#282828"
      }
     },
     "5d0e1dc0975846b6b54717b2447cc767": {
      "model_module": "@jupyter-widgets/controls",
      "model_module_version": "1.5.0",
      "model_name": "DescriptionStyleModel",
      "state": {
       "description_width": ""
      }
     },
     "5d5b275d15b946cbbaaf085b88ac6394": {
      "model_module": "@jupyter-widgets/base",
      "model_module_version": "1.2.0",
      "model_name": "LayoutModel",
      "state": {}
     },
     "5d8aae870bc94dcea2e224eec7234ffb": {
      "model_module": "@jupyter-widgets/base",
      "model_module_version": "1.2.0",
      "model_name": "LayoutModel",
      "state": {}
     },
     "5d943e0e9e654ffd89088143a379e75e": {
      "model_module": "@jupyter-widgets/base",
      "model_module_version": "1.2.0",
      "model_name": "LayoutModel",
      "state": {}
     },
     "5dfb04fd42f143819e97dabdc39b2d5f": {
      "model_module": "@jupyter-widgets/controls",
      "model_module_version": "1.5.0",
      "model_name": "SliderStyleModel",
      "state": {
       "description_width": ""
      }
     },
     "5e00d7802e284e14b7b04901ce63c863": {
      "model_module": "@jupyter-widgets/controls",
      "model_module_version": "1.5.0",
      "model_name": "DropdownModel",
      "state": {
       "_options_labels": [
        "color_1",
        "color_2",
        "color_3",
        "color_4"
       ],
       "index": 0,
       "layout": "IPY_MODEL_627c271f78834217bc20d170efbb89bc",
       "style": "IPY_MODEL_e4c4383d338c4f9f97d40c892dd6df0b"
      }
     },
     "5e191573a5924d1887ed7d21c6786fdf": {
      "model_module": "@jupyter-widgets/controls",
      "model_module_version": "1.5.0",
      "model_name": "CheckboxModel",
      "state": {
       "description": "Auto save",
       "disabled": false,
       "layout": "IPY_MODEL_ad94bfff93e04101a47bfab77c5253cf",
       "style": "IPY_MODEL_a0eb9b213db94887a716ff41a5edf851",
       "value": true
      }
     },
     "5e420e22516544c99e03c561351caa77": {
      "model_module": "@jupyter-widgets/controls",
      "model_module_version": "1.5.0",
      "model_name": "IntTextModel",
      "state": {
       "description": "max",
       "layout": "IPY_MODEL_0fc05305117943d28f9afe7ecc9aa553",
       "step": 1,
       "style": "IPY_MODEL_3e83fe9f30584627863edeb47779fdff",
       "value": 10
      }
     },
     "5eed3d4518234051843f485cc369deff": {
      "model_module": "pgljupyter",
      "model_module_version": "^0.1.2",
      "model_name": "IntEditorModel",
      "state": {
       "_model_module_version": "^0.1.2",
       "_view_module_version": "^0.1.2",
       "children": [
        "IPY_MODEL_c580a4d8ab98468a9d0492ff60aa2379",
        "IPY_MODEL_dc93e065fc0b494a9a9f6ed34b82a08a",
        "IPY_MODEL_aa93ebe5f3724dc68c642492005612b9",
        "IPY_MODEL_be32dc92ecd64abcb793bf8183527506",
        "IPY_MODEL_78b7a0be83c644fdb993627391ce7ebf"
       ],
       "layout": "IPY_MODEL_5b0cb2a6a992436289ac3a0b8e7bae75"
      }
     },
     "5faadf4842f04521928328410e1fa0d9": {
      "model_module": "@jupyter-widgets/base",
      "model_module_version": "1.2.0",
      "model_name": "LayoutModel",
      "state": {}
     },
     "5fcc45e79e4548fd9842f2b10f8450e1": {
      "model_module": "pgljupyter",
      "model_module_version": "^0.1.2",
      "model_name": "_CurveEditorModel",
      "state": {
       "_model_module_version": "^0.1.2",
       "_view_module_version": "^0.1.2",
       "control_points": [
        [
         -0.5,
         0
        ],
        [
         -0.35,
         0.23636363636363636
        ],
        [
         -0.09545454545454546,
         0.3318181818181818
        ],
        [
         0.19545454545454544,
         0.1409090909090909
        ],
        [
         -0.02727272727272731,
         0.04545454545454544
        ]
       ],
       "curve_type": "NurbsCurve2D",
       "layout": "IPY_MODEL_9a8af2a83e724b998e08021ea97d1c9b"
      }
     },
     "600fc76dfafc45f08e55eb4bb9f99a20": {
      "model_module": "pgljupyter",
      "model_module_version": "^0.1.2",
      "model_name": "LsystemWidgetModel",
      "state": {
       "_model_module_version": "^0.1.2",
       "_view_module_version": "^0.1.2",
       "axes_helper": false,
       "derivationLength": 45,
       "layout": "IPY_MODEL_8f477e2e294f4e3492be7dbd7786b8fb",
       "light_helper": false,
       "plane": true,
       "size_display": [
        400,
        400
       ],
       "size_world": [
        10,
        10,
        10
       ],
       "unit": 1
      }
     },
     "60af561202804091b4f43cb7d49813b4": {
      "model_module": "@jupyter-widgets/controls",
      "model_module_version": "1.5.0",
      "model_name": "DescriptionStyleModel",
      "state": {
       "description_width": ""
      }
     },
     "60c75cd30cc5440faf0dcf062f8f9255": {
      "model_module": "@jupyter-widgets/controls",
      "model_module_version": "1.5.0",
      "model_name": "HBoxModel",
      "state": {
       "children": [
        "IPY_MODEL_6a6f615de03a4649af512f135b152984",
        "IPY_MODEL_c46f5ff856fd462f9aa4c788ae2e855f",
        "IPY_MODEL_2daaf6242ed9461985d9559a718b68a5"
       ],
       "layout": "IPY_MODEL_1dbafdd152c84ab4b7288ac443955d83"
      }
     },
     "610f7650b05c421c99fd9175cb6f82c4": {
      "model_module": "@jupyter-widgets/controls",
      "model_module_version": "1.5.0",
      "model_name": "DescriptionStyleModel",
      "state": {
       "description_width": ""
      }
     },
     "6120d60994144590bb1063cb54022e89": {
      "model_module": "@jupyter-widgets/controls",
      "model_module_version": "1.5.0",
      "model_name": "ColorPickerModel",
      "state": {
       "description": "specular",
       "disabled": false,
       "layout": "IPY_MODEL_78d652192b4b4743bc2c5517507e5afc",
       "style": "IPY_MODEL_138e5976c87e467db45a4df41b5803ab",
       "value": "#478f9f"
      }
     },
     "6123c57c0dbe4538b3dd7c1dd9f725aa": {
      "model_module": "@jupyter-widgets/controls",
      "model_module_version": "1.5.0",
      "model_name": "DescriptionStyleModel",
      "state": {
       "description_width": ""
      }
     },
     "613323765a7743b8bbb7355e6b86eebd": {
      "model_module": "@jupyter-widgets/base",
      "model_module_version": "1.2.0",
      "model_name": "LayoutModel",
      "state": {}
     },
     "617dd871b3974aa984eea01a4c161657": {
      "model_module": "pgljupyter",
      "model_module_version": "^0.1.2",
      "model_name": "_CurveEditorModel",
      "state": {
       "_model_module_version": "^0.1.2",
       "_view_module_version": "^0.1.2",
       "control_points": [
        [
         -0.5,
         0
        ],
        [
         -0.25,
         0.25
        ],
        [
         0,
         -0.25
        ],
        [
         0.25,
         0.25
        ],
        [
         0.5,
         0
        ]
       ],
       "curve_type": "NurbsCurve2D",
       "layout": "IPY_MODEL_b0c4b4c1dd984e44aaa7bb43a9eaa03f"
      }
     },
     "6194e43fb489473e9bd1e1543e91458e": {
      "model_module": "@jupyter-widgets/controls",
      "model_module_version": "1.5.0",
      "model_name": "BoundedIntTextModel",
      "state": {
       "description": "step",
       "layout": "IPY_MODEL_b25daccebff14d03b80eed1aa3954352",
       "min": 1,
       "style": "IPY_MODEL_ff9fd4d06cd7454f8709e4a0d31e4552",
       "value": 1
      }
     },
     "61c449b60b4c4a21be0c707bc74e9bf8": {
      "model_module": "pgljupyter",
      "model_module_version": "^0.1.14",
      "model_name": "IntEditorModel",
      "state": {
       "_model_module_version": "^0.1.14",
       "_view_module_version": "^0.1.14",
       "children": [
        "IPY_MODEL_02bf8ebed60641da9aac3f46aa09b284",
        "IPY_MODEL_9bd9905846784bc8b237e6b1ea5cc92a",
        "IPY_MODEL_f51d23fb95a149d58c45b9418439c024",
        "IPY_MODEL_bb64343143ba4af99b7584a1195309c2",
        "IPY_MODEL_6e6a8a280e2c4c7fa8cdd2b6dc2c04f4"
       ],
       "layout": "IPY_MODEL_69e50aa4f1084091a6c98ab0fd6c4c8c"
      }
     },
     "6200925a216c48bbb2cf86af35d60198": {
      "model_module": "@jupyter-widgets/controls",
      "model_module_version": "1.5.0",
      "model_name": "TextModel",
      "state": {
       "layout": "IPY_MODEL_4c33b2ff3f1c47ffb18a56039702b03b",
       "placeholder": "category name",
       "style": "IPY_MODEL_3026ebc9a30243b1bc25015d05d6c0c7"
      }
     },
     "6222902e646a4c918719f62a19ad6f37": {
      "model_module": "@jupyter-widgets/base",
      "model_module_version": "1.2.0",
      "model_name": "LayoutModel",
      "state": {}
     },
     "623430f9ad264a569f56254963833d42": {
      "model_module": "@jupyter-widgets/controls",
      "model_module_version": "1.5.0",
      "model_name": "TextModel",
      "state": {
       "continuous_update": false,
       "description": "name",
       "layout": "IPY_MODEL_763e8c82a8a341a1b6a154f9b443d6ad",
       "style": "IPY_MODEL_f378e5f9f0b6407c8d4b7b8343855811",
       "value": "NurbsCurve2D_0"
      }
     },
     "627c271f78834217bc20d170efbb89bc": {
      "model_module": "@jupyter-widgets/base",
      "model_module_version": "1.2.0",
      "model_name": "LayoutModel",
      "state": {}
     },
     "629054a4b105496a857a543e7ed22ae8": {
      "model_module": "@jupyter-widgets/controls",
      "model_module_version": "1.5.0",
      "model_name": "DescriptionStyleModel",
      "state": {
       "description_width": ""
      }
     },
     "62deae52a33f40b6b13beb81801d5430": {
      "model_module": "@jupyter-widgets/base",
      "model_module_version": "1.2.0",
      "model_name": "LayoutModel",
      "state": {}
     },
     "62ec89cc0dd34f1285be7721c7c1a81f": {
      "model_module": "@jupyter-widgets/controls",
      "model_module_version": "1.5.0",
      "model_name": "HBoxModel",
      "state": {
       "children": [
        "IPY_MODEL_d9b71651e2e4497eb40d4f0bf556527f",
        "IPY_MODEL_f3d860caabce4e098008ac83f4020283"
       ],
       "layout": "IPY_MODEL_1bcadc721303432abe9c782e04d39bdb"
      }
     },
     "62f37a5d014644cda8ab470a0f963659": {
      "model_module": "@jupyter-widgets/controls",
      "model_module_version": "1.5.0",
      "model_name": "ColorPickerModel",
      "state": {
       "description": "emission",
       "disabled": false,
       "layout": "IPY_MODEL_63858c739e8d463fbb7c8014ff721408",
       "style": "IPY_MODEL_aa7c73dab4c545fe9da210d0936d71ea",
       "value": "#000000"
      }
     },
     "632f8ed8e8d54c0fb211a3f817e5249b": {
      "model_module": "@jupyter-widgets/controls",
      "model_module_version": "1.5.0",
      "model_name": "ButtonStyleModel",
      "state": {}
     },
     "635084b479ec47388dd7721df70a9b3d": {
      "model_module": "@jupyter-widgets/base",
      "model_module_version": "1.2.0",
      "model_name": "LayoutModel",
      "state": {}
     },
     "6368053aed524502b45b99eae25e4e13": {
      "model_module": "@jupyter-widgets/controls",
      "model_module_version": "1.5.0",
      "model_name": "ColorPickerModel",
      "state": {
       "description": "emission",
       "disabled": false,
       "layout": "IPY_MODEL_786ed63a12464723a7f0b5d57199c2f7",
       "style": "IPY_MODEL_a20e2dbbc07b4e4b9085d82841a24a03",
       "value": "#1f48db"
      }
     },
     "63858c739e8d463fbb7c8014ff721408": {
      "model_module": "@jupyter-widgets/base",
      "model_module_version": "1.2.0",
      "model_name": "LayoutModel",
      "state": {}
     },
     "638d9ba87d3344748959003409004080": {
      "model_module": "@jupyter-widgets/controls",
      "model_module_version": "1.5.0",
      "model_name": "HBoxModel",
      "state": {
       "children": [
        "IPY_MODEL_a394a4809f7e46e99c7060e9050094ba",
        "IPY_MODEL_fe2b1c6cc94d41b8835500aa026cf33d",
        "IPY_MODEL_e6f7999a813c4addbdf894e262c9168f",
        "IPY_MODEL_4e8d1d5dc75349a687367ab1a1036add"
       ],
       "layout": "IPY_MODEL_bb156c39f7374a1b9165dded955416f5"
      }
     },
     "63b4947d7fa1417cae7c1d3f084d49d5": {
      "model_module": "@jupyter-widgets/base",
      "model_module_version": "1.2.0",
      "model_name": "LayoutModel",
      "state": {}
     },
     "63dff80e781144f5a477c6d40a00509b": {
      "model_module": "@jupyter-widgets/base",
      "model_module_version": "1.2.0",
      "model_name": "LayoutModel",
      "state": {}
     },
     "64120dfb80a645d68606e0062c5c563c": {
      "model_module": "@jupyter-widgets/controls",
      "model_module_version": "1.5.0",
      "model_name": "IntSliderModel",
      "state": {
       "description": "value",
       "layout": "IPY_MODEL_564a42c5a9ca42cb9b9795167a4f42b8",
       "max": 10,
       "min": 1,
       "style": "IPY_MODEL_8183e159292c422d80f970aecd1f0626",
       "value": 5
      }
     },
     "64284312bcd04c15829fdb46e542237c": {
      "model_module": "@jupyter-widgets/controls",
      "model_module_version": "1.5.0",
      "model_name": "ColorPickerModel",
      "state": {
       "description": "specular",
       "disabled": false,
       "layout": "IPY_MODEL_0e232481024146b19ac53c3590e4a691",
       "style": "IPY_MODEL_34c506a5fd4c4cb994b86db5544979d4",
       "value": "#478f9f"
      }
     },
     "64361cb80cfa475a80c48db48ff0a302": {
      "model_module": "@jupyter-widgets/base",
      "model_module_version": "1.2.0",
      "model_name": "LayoutModel",
      "state": {}
     },
     "64988f0b5e374ed49f93bfb333503a97": {
      "model_module": "@jupyter-widgets/controls",
      "model_module_version": "1.5.0",
      "model_name": "DescriptionStyleModel",
      "state": {
       "description_width": ""
      }
     },
     "649d1541de7b46a0b1ee576e245cf092": {
      "model_module": "@jupyter-widgets/base",
      "model_module_version": "1.2.0",
      "model_name": "LayoutModel",
      "state": {}
     },
     "6509e7284ebf48ea8852e819d225daf6": {
      "model_module": "@jupyter-widgets/controls",
      "model_module_version": "1.5.0",
      "model_name": "DescriptionStyleModel",
      "state": {
       "description_width": ""
      }
     },
     "6526d94e31d541bf82341883da088798": {
      "model_module": "@jupyter-widgets/base",
      "model_module_version": "1.2.0",
      "model_name": "LayoutModel",
      "state": {}
     },
     "65731830c54441e598c43d1764a538a2": {
      "model_module": "@jupyter-widgets/base",
      "model_module_version": "1.2.0",
      "model_name": "LayoutModel",
      "state": {}
     },
     "65bdf3a7d2c248919a89fc3a98dfb617": {
      "model_module": "@jupyter-widgets/controls",
      "model_module_version": "1.5.0",
      "model_name": "DescriptionStyleModel",
      "state": {
       "description_width": ""
      }
     },
     "65fe108d37ac4ca49def87c269901bf1": {
      "model_module": "@jupyter-widgets/controls",
      "model_module_version": "1.5.0",
      "model_name": "DescriptionStyleModel",
      "state": {
       "description_width": ""
      }
     },
     "660849255c0f44c4bfdc973e0a97035b": {
      "model_module": "@jupyter-widgets/controls",
      "model_module_version": "1.5.0",
      "model_name": "BoundedIntTextModel",
      "state": {
       "description": "index",
       "layout": "IPY_MODEL_db2c3d17ca504ca5b12bf8431213c47a",
       "style": "IPY_MODEL_14b6bd5944294c1584714b8a69fb3b44",
       "value": 1
      }
     },
     "660de94f0adc4a67ad18f37582679166": {
      "model_module": "@jupyter-widgets/base",
      "model_module_version": "1.2.0",
      "model_name": "LayoutModel",
      "state": {}
     },
     "6619d75e6a884ddf96b7d93f22aa80d4": {
      "model_module": "@jupyter-widgets/controls",
      "model_module_version": "1.5.0",
      "model_name": "DescriptionStyleModel",
      "state": {
       "description_width": ""
      }
     },
     "6655a1fa38d14dc0990e87852b5b4bda": {
      "model_module": "@jupyter-widgets/base",
      "model_module_version": "1.2.0",
      "model_name": "LayoutModel",
      "state": {}
     },
     "6666188aa3f4449999d1694b25ad41ee": {
      "model_module": "@jupyter-widgets/controls",
      "model_module_version": "1.5.0",
      "model_name": "DescriptionStyleModel",
      "state": {
       "description_width": ""
      }
     },
     "669728b8ae5a49c792ed0600cd4c0592": {
      "model_module": "@jupyter-widgets/controls",
      "model_module_version": "1.5.0",
      "model_name": "DropdownModel",
      "state": {
       "_options_labels": [
        "NurbsCurve2D",
        "BezierCurve2D",
        "Polyline2D",
        "Function"
       ],
       "index": 0,
       "layout": "IPY_MODEL_5ab9113113e04cbc8f728a3925f24dc8",
       "style": "IPY_MODEL_01d156abe9e64f279c9e54ff54687842"
      }
     },
     "66a38512e5894ad4bab41ae44113531a": {
      "model_module": "@jupyter-widgets/controls",
      "model_module_version": "1.5.0",
      "model_name": "FloatSliderModel",
      "state": {
       "description": "diffuse",
       "layout": "IPY_MODEL_0b4645fbad8a429ea2d3c445d6b538cc",
       "max": 1,
       "step": 0.1,
       "style": "IPY_MODEL_70123862f7fe40a699367ba39c451ea9",
       "value": 0.75
      }
     },
     "671a0c1d002f4c0797ca8a6ade723793": {
      "model_module": "@jupyter-widgets/controls",
      "model_module_version": "1.5.0",
      "model_name": "HBoxModel",
      "state": {
       "children": [
        "IPY_MODEL_314d95cfe7894a9fb7f7430e808bd058",
        "IPY_MODEL_a190af397e0f4f46aeea69950b5d083b"
       ],
       "layout": "IPY_MODEL_1b028107b51247fa803a26d5565694cb"
      }
     },
     "677f5c34bf3d4ae78e59a950c381d3d9": {
      "model_module": "@jupyter-widgets/controls",
      "model_module_version": "1.5.0",
      "model_name": "AccordionModel",
      "state": {
       "_titles": {
        "0": "scalars",
        "1": "materials",
        "2": "functions",
        "3": "curves"
       },
       "children": [
        "IPY_MODEL_c8f45965b1124a4a90d52cde0a186035",
        "IPY_MODEL_28e28f98ef9542749eeea320db4cb0e4",
        "IPY_MODEL_b9eb8d3f8c6a4b18a72f185724416aa4",
        "IPY_MODEL_27f3e2e5bd414ac1ad3c19f37247942e"
       ],
       "layout": "IPY_MODEL_201f1a1a76c240bd9efc0e2bb60a3035",
       "selected_index": 3
      }
     },
     "67822b865e28401295637b483ee8afb1": {
      "model_module": "@jupyter-widgets/controls",
      "model_module_version": "1.5.0",
      "model_name": "DescriptionStyleModel",
      "state": {
       "description_width": ""
      }
     },
     "6810e648aef64abea58b5d98674de0b8": {
      "model_module": "@jupyter-widgets/base",
      "model_module_version": "1.2.0",
      "model_name": "LayoutModel",
      "state": {}
     },
     "68706a1111d3487ebdb00d305a329564": {
      "model_module": "@jupyter-widgets/base",
      "model_module_version": "1.2.0",
      "model_name": "LayoutModel",
      "state": {}
     },
     "687474b07fcc40819ab28dec21c46a25": {
      "model_module": "@jupyter-widgets/controls",
      "model_module_version": "1.5.0",
      "model_name": "DescriptionStyleModel",
      "state": {
       "description_width": ""
      }
     },
     "688fe3d73f9c4ca091ec59245c5a6eb0": {
      "model_module": "@jupyter-widgets/controls",
      "model_module_version": "1.5.0",
      "model_name": "ColorPickerModel",
      "state": {
       "description": "ambient",
       "disabled": false,
       "layout": "IPY_MODEL_63dff80e781144f5a477c6d40a00509b",
       "style": "IPY_MODEL_a129fee5fb204685b9447aa4f41bcb91",
       "value": "#0fc4db"
      }
     },
     "689ea972cbce41a8b32df7bdc67b10ae": {
      "model_module": "@jupyter-widgets/controls",
      "model_module_version": "1.5.0",
      "model_name": "SliderStyleModel",
      "state": {
       "description_width": ""
      }
     },
     "68a999f616cb409eaf56145edc21d134": {
      "model_module": "@jupyter-widgets/controls",
      "model_module_version": "1.5.0",
      "model_name": "ButtonModel",
      "state": {
       "description": "Add",
       "layout": "IPY_MODEL_fe83071c6a9940158069480e78541e89",
       "style": "IPY_MODEL_1528398a025c46599e2ad6d8bc592960"
      }
     },
     "68c85118ad164578b30b1f973b2d8833": {
      "model_module": "@jupyter-widgets/controls",
      "model_module_version": "1.5.0",
      "model_name": "HBoxModel",
      "state": {
       "children": [
        "IPY_MODEL_704b5687cf6043b9a36027c87dea4c23",
        "IPY_MODEL_776b2221bf7e44479f62266f542cfc6f",
        "IPY_MODEL_12bff2a628604b9eb7d4bf50dfd9fb0a",
        "IPY_MODEL_c093b97b12b746008d103f1518ae45cd",
        "IPY_MODEL_9db181b7271b4352b441e0f4f37bd23c"
       ],
       "layout": "IPY_MODEL_bb156c39f7374a1b9165dded955416f5"
      }
     },
     "68e4bdf17af9497eb7aa9c99b80ac715": {
      "model_module": "@jupyter-widgets/controls",
      "model_module_version": "1.5.0",
      "model_name": "IntSliderModel",
      "state": {
       "description": "value",
       "layout": "IPY_MODEL_ed77f043f57c453185e88f41eb97980c",
       "max": 10,
       "min": 1,
       "style": "IPY_MODEL_bed3960f239c45c989041abe69ed15fd",
       "value": 8
      }
     },
     "690f42ae5a094b499d0de205cfa3414f": {
      "model_module": "@jupyter-widgets/controls",
      "model_module_version": "1.5.0",
      "model_name": "DescriptionStyleModel",
      "state": {
       "description_width": ""
      }
     },
     "69530d9f948a4c63820584df4fd3e4bd": {
      "model_module": "@jupyter-widgets/controls",
      "model_module_version": "1.5.0",
      "model_name": "SliderStyleModel",
      "state": {
       "description_width": ""
      }
     },
     "69e50aa4f1084091a6c98ab0fd6c4c8c": {
      "model_module": "@jupyter-widgets/base",
      "model_module_version": "1.2.0",
      "model_name": "LayoutModel",
      "state": {
       "margin": "20px 0px"
      }
     },
     "6a29a2123883407c9f1782ab4ccc29a2": {
      "model_module": "@jupyter-widgets/controls",
      "model_module_version": "1.5.0",
      "model_name": "DescriptionStyleModel",
      "state": {
       "description_width": ""
      }
     },
     "6a3b11bd161e4211822cbde9cb732600": {
      "model_module": "@jupyter-widgets/base",
      "model_module_version": "1.2.0",
      "model_name": "LayoutModel",
      "state": {}
     },
     "6a6f615de03a4649af512f135b152984": {
      "model_module": "pgljupyter",
      "model_module_version": "^0.1.2",
      "model_name": "MaterialEditorModel",
      "state": {
       "_model_module_version": "^0.1.2",
       "_view_module_version": "^0.1.2",
       "children": [
        "IPY_MODEL_c46c96224a2c4453bc909a37698703a4",
        "IPY_MODEL_0ce72c849bc04be1ace040e227e17d68",
        "IPY_MODEL_1ed24c18a95c414f91f22ce72969f31c",
        "IPY_MODEL_64284312bcd04c15829fdb46e542237c",
        "IPY_MODEL_f9f743e89f6a4cc3af534e5d9f0f052d",
        "IPY_MODEL_6bfb2d182dcd4ae2be5bd9a133edb487",
        "IPY_MODEL_ba414c61699f4ef78a51f82ac1b8dfdd",
        "IPY_MODEL_4ccd58c794d4443dbe55872516e36d08"
       ],
       "layout": "IPY_MODEL_36b8f608b82b478f82ede67b0c91fb67"
      }
     },
     "6aa4b4a1ca5f4731b9f8343c79a14cc1": {
      "model_module": "@jupyter-widgets/base",
      "model_module_version": "1.2.0",
      "model_name": "LayoutModel",
      "state": {}
     },
     "6acfc62982814cd49fffa4d2886d0761": {
      "model_module": "@jupyter-widgets/controls",
      "model_module_version": "1.5.0",
      "model_name": "DescriptionStyleModel",
      "state": {
       "description_width": ""
      }
     },
     "6b15f8d6e02b41eb95f65eb9f6095ea1": {
      "model_module": "@jupyter-widgets/controls",
      "model_module_version": "1.5.0",
      "model_name": "VBoxModel",
      "state": {
       "children": [
        "IPY_MODEL_a1efa36e0b01442da3c74bf7f3c75557",
        "IPY_MODEL_984b9c846c2745a480a2020feaa5cb7e"
       ],
       "layout": "IPY_MODEL_613323765a7743b8bbb7355e6b86eebd"
      }
     },
     "6b2707d91e9942bc8b595dfd3b63cc46": {
      "model_module": "pgljupyter",
      "model_module_version": "^0.1.2",
      "model_name": "_CurveEditorModel",
      "state": {
       "_model_module_version": "^0.1.2",
       "_view_module_version": "^0.1.2",
       "control_points": [
        [
         -0.5,
         0
        ],
        [
         -0.16818181818181818,
         0.3909090909090909
        ],
        [
         0.14396306818181814,
         -0.19545454545454544
        ],
        [
         0.5,
         0
        ]
       ],
       "curve_type": "Polyline2D",
       "layout": "IPY_MODEL_a8fd500864cb4891bf6ee0c6efef290e"
      }
     },
     "6b42ee7a9908446f983fc6c0005656ad": {
      "model_module": "@jupyter-widgets/controls",
      "model_module_version": "1.5.0",
      "model_name": "DescriptionStyleModel",
      "state": {
       "description_width": ""
      }
     },
     "6bb8958c70624458abcfedad592ad4c1": {
      "model_module": "@jupyter-widgets/base",
      "model_module_version": "1.2.0",
      "model_name": "LayoutModel",
      "state": {}
     },
     "6bfb2d182dcd4ae2be5bd9a133edb487": {
      "model_module": "@jupyter-widgets/controls",
      "model_module_version": "1.5.0",
      "model_name": "FloatSliderModel",
      "state": {
       "description": "diffuse",
       "layout": "IPY_MODEL_2324b9eea997437aa217c0493ef8036f",
       "max": 1,
       "step": 0.1,
       "style": "IPY_MODEL_7e46666caca84af194dd3330296034d5"
      }
     },
     "6c376598cf884f69ac27c0f80c3af2d6": {
      "model_module": "@jupyter-widgets/controls",
      "model_module_version": "1.5.0",
      "model_name": "DescriptionStyleModel",
      "state": {
       "description_width": ""
      }
     },
     "6ca82095fc0d4e50a0b01f7e9feaae50": {
      "model_module": "@jupyter-widgets/controls",
      "model_module_version": "1.5.0",
      "model_name": "IntSliderModel",
      "state": {
       "description": "value",
       "layout": "IPY_MODEL_9d061706ffbf41e982e7f6df952182f7",
       "max": 10,
       "min": 1,
       "style": "IPY_MODEL_7824555fb45941e0b6b357551c9ae5a1",
       "value": 5
      }
     },
     "6d4e317147e84ef3b9b7c3f7e4942242": {
      "model_module": "@jupyter-widgets/base",
      "model_module_version": "1.2.0",
      "model_name": "LayoutModel",
      "state": {}
     },
     "6d6a59f4c0714f90bac64afd6f756b8f": {
      "model_module": "@jupyter-widgets/base",
      "model_module_version": "1.2.0",
      "model_name": "LayoutModel",
      "state": {}
     },
     "6d99be388ce6453a934fe45ffafa4844": {
      "model_module": "@jupyter-widgets/controls",
      "model_module_version": "1.5.0",
      "model_name": "FloatSliderModel",
      "state": {
       "description": "shininess",
       "layout": "IPY_MODEL_9c51672f28084fde83f4d2dabbb178c3",
       "max": 1,
       "step": 0.1,
       "style": "IPY_MODEL_1b226e991f4a4f2d924d9603e31020a1",
       "value": 0.5
      }
     },
     "6d9c7f7305ad4ec4afff7c03238f241a": {
      "model_module": "@jupyter-widgets/base",
      "model_module_version": "1.2.0",
      "model_name": "LayoutModel",
      "state": {}
     },
     "6dc3e3b550c74007b302d87b5f0cd2f3": {
      "model_module": "pgljupyter",
      "model_module_version": "^0.1.14",
      "model_name": "ParameterEditorModel",
      "state": {
       "_model_module_version": "^0.1.14",
       "_view_module_version": "^0.1.14",
       "children": [
        "IPY_MODEL_6b15f8d6e02b41eb95f65eb9f6095ea1"
       ],
       "layout": "IPY_MODEL_8d97a9c3a929427aacfe6a6892edf62f"
      }
     },
     "6e0f7e8afc03421ca9ad35239807478d": {
      "model_module": "@jupyter-widgets/controls",
      "model_module_version": "1.5.0",
      "model_name": "ButtonStyleModel",
      "state": {}
     },
     "6e11d8ccf94543318b7616f0c8477a37": {
      "model_module": "@jupyter-widgets/base",
      "model_module_version": "1.2.0",
      "model_name": "LayoutModel",
      "state": {}
     },
     "6e422346b87a4c5b92c0c8c310df3122": {
      "model_module": "@jupyter-widgets/controls",
      "model_module_version": "1.5.0",
      "model_name": "SliderStyleModel",
      "state": {
       "description_width": ""
      }
     },
     "6e6a8a280e2c4c7fa8cdd2b6dc2c04f4": {
      "model_module": "@jupyter-widgets/controls",
      "model_module_version": "1.5.0",
      "model_name": "BoundedIntTextModel",
      "state": {
       "description": "step",
       "layout": "IPY_MODEL_64361cb80cfa475a80c48db48ff0a302",
       "min": 1,
       "style": "IPY_MODEL_687474b07fcc40819ab28dec21c46a25",
       "value": 1
      }
     },
     "6f131f3f67634df98fb30f26c0ba3c14": {
      "model_module": "@jupyter-widgets/controls",
      "model_module_version": "1.5.0",
      "model_name": "ButtonStyleModel",
      "state": {}
     },
     "6f893e36888d4e3c99302a27181e8d73": {
      "model_module": "@jupyter-widgets/controls",
      "model_module_version": "1.5.0",
      "model_name": "IntTextModel",
      "state": {
       "description": "max",
       "layout": "IPY_MODEL_bf235c94995349428ea2e10535856d69",
       "step": 1,
       "style": "IPY_MODEL_23af8b0d7caf49ffbd9434df59f8adcc",
       "value": 10
      }
     },
     "6f8bb26a5dc749afa2ac8bd008a7e44c": {
      "model_module": "@jupyter-widgets/controls",
      "model_module_version": "1.5.0",
      "model_name": "DescriptionStyleModel",
      "state": {
       "description_width": ""
      }
     },
     "6fa1a051eef947a3b163d4793ac7cd99": {
      "model_module": "@jupyter-widgets/controls",
      "model_module_version": "1.5.0",
      "model_name": "ButtonStyleModel",
      "state": {}
     },
     "6fa92963778b454f99a4c7b548144df1": {
      "model_module": "@jupyter-widgets/controls",
      "model_module_version": "1.5.0",
      "model_name": "ColorPickerModel",
      "state": {
       "description": "ambient",
       "disabled": false,
       "layout": "IPY_MODEL_9885be8a805844de97c0070041224d3e",
       "style": "IPY_MODEL_731c21cb9ed54a6a8fe43c2a969ef1a9",
       "value": "#195717"
      }
     },
     "6fc632d1cfd8481b9c8ba384537006eb": {
      "model_module": "@jupyter-widgets/controls",
      "model_module_version": "1.5.0",
      "model_name": "IntTextModel",
      "state": {
       "description": "min",
       "layout": "IPY_MODEL_a6befcf863454381b47e53dc980c2920",
       "step": 1,
       "style": "IPY_MODEL_4e5a818d53444e98a18796f935a62117",
       "value": 1
      }
     },
     "6fd435da494e4788b2340331b704c70e": {
      "model_module": "@jupyter-widgets/base",
      "model_module_version": "1.2.0",
      "model_name": "LayoutModel",
      "state": {}
     },
     "7007a25b0d9d449f82f3f6c626257ee5": {
      "model_module": "@jupyter-widgets/base",
      "model_module_version": "1.2.0",
      "model_name": "LayoutModel",
      "state": {}
     },
     "70123862f7fe40a699367ba39c451ea9": {
      "model_module": "@jupyter-widgets/controls",
      "model_module_version": "1.5.0",
      "model_name": "SliderStyleModel",
      "state": {
       "description_width": ""
      }
     },
     "7047220ba1fd43f9b2dfff397b099bdc": {
      "model_module": "@jupyter-widgets/controls",
      "model_module_version": "1.5.0",
      "model_name": "ButtonModel",
      "state": {
       "description": "Delete category",
       "layout": "IPY_MODEL_83f45740b1f44611bf05389b4d7fcd7d",
       "style": "IPY_MODEL_92d3290df9ab4916ac33eac813c835b3"
      }
     },
     "704b5687cf6043b9a36027c87dea4c23": {
      "model_module": "pgljupyter",
      "model_module_version": "^0.1.14",
      "model_name": "IntEditorModel",
      "state": {
       "_model_module_version": "^0.1.14",
       "_view_module_version": "^0.1.14",
       "children": [
        "IPY_MODEL_32a2d5151e844f398dfd8a2f28a391ff",
        "IPY_MODEL_dbaf90d5970446e487e5f643041a9b19",
        "IPY_MODEL_104352056e5f44cfaf9dcfd6016912fa",
        "IPY_MODEL_c858e86399cd448783684aee36ababb6",
        "IPY_MODEL_731557268ca54591ad3d06382bc1dd72"
       ],
       "layout": "IPY_MODEL_4a7a99489c5a42579c34d1355f0f4a43"
      }
     },
     "70855785526542688e78359baf1c605b": {
      "model_module": "@jupyter-widgets/base",
      "model_module_version": "1.2.0",
      "model_name": "LayoutModel",
      "state": {}
     },
     "70972b2e88b34ba6b003969d33df59c3": {
      "model_module": "@jupyter-widgets/controls",
      "model_module_version": "1.5.0",
      "model_name": "ButtonModel",
      "state": {
       "description": "Delete",
       "layout": "IPY_MODEL_f495b3330b9a4aab9c573969d8966f83",
       "style": "IPY_MODEL_037f7d5ac4284833bf9e8272d25a243e"
      }
     },
     "70f7a900cde34f19a9c40852e3201de6": {
      "model_module": "@jupyter-widgets/controls",
      "model_module_version": "1.5.0",
      "model_name": "ColorPickerModel",
      "state": {
       "description": "ambient",
       "disabled": false,
       "layout": "IPY_MODEL_8b5a4b520c81467f891fd15960b777f4",
       "style": "IPY_MODEL_df95ab311aec4dfa843cb14b58334dec",
       "value": "#e1a014"
      }
     },
     "71261e9f7d8f47419e3b3ac7fdc33b05": {
      "model_module": "@jupyter-widgets/controls",
      "model_module_version": "1.5.0",
      "model_name": "DescriptionStyleModel",
      "state": {
       "description_width": ""
      }
     },
     "7142a8e5c26347e685210d598d474900": {
      "model_module": "pgljupyter",
      "model_module_version": "^0.1.14",
      "model_name": "LsystemWidgetModel",
      "state": {
       "_model_module_version": "^0.1.14",
       "_view_module_version": "^0.1.14",
       "axes_helper": false,
       "derivationLength": 41,
       "layout": "IPY_MODEL_d7535aae702241fd86b607045fa0824f",
       "light_helper": false,
       "plane": true,
       "size_display": [
        400,
        400
       ],
       "size_world": 50
      }
     },
     "715cfdcd6c964bef8eb9f15d8cbf8678": {
      "model_module": "@jupyter-widgets/controls",
      "model_module_version": "1.5.0",
      "model_name": "FloatSliderModel",
      "state": {
       "description": "transparency",
       "layout": "IPY_MODEL_1530bfd1074a4e8fbad49b4df4e964b5",
       "max": 1,
       "step": 0.1,
       "style": "IPY_MODEL_b39464d608c9476b884a194019aeea92"
      }
     },
     "71ec069b5c5a40f4bc2771f12be256d7": {
      "model_module": "pgljupyter",
      "model_module_version": "^0.1.14",
      "model_name": "FloatEditorModel",
      "state": {
       "_model_module_version": "^0.1.14",
       "_view_module_version": "^0.1.14",
       "children": [
        "IPY_MODEL_d39751d2609b4f59a787ccca0b261c85",
        "IPY_MODEL_d24c239178c94a64be7dc46a5528b939",
        "IPY_MODEL_1589dbc794cb4fdbb7b00fed8ec48fbc",
        "IPY_MODEL_ccc4235534b24b6b896c41aa2f030e7e",
        "IPY_MODEL_37884d0f8d42498e8a2b7303f8a9a0ef"
       ],
       "layout": "IPY_MODEL_c955c4f8ceab4fe6911f95c106cb4893"
      }
     },
     "7232c740023240b0b1c44beed3ceaa3f": {
      "model_module": "@jupyter-widgets/controls",
      "model_module_version": "1.5.0",
      "model_name": "DescriptionStyleModel",
      "state": {
       "description_width": ""
      }
     },
     "7280887d7a1e420b80c07311475b256f": {
      "model_module": "@jupyter-widgets/base",
      "model_module_version": "1.2.0",
      "model_name": "LayoutModel",
      "state": {}
     },
     "72b34f3219da475383427c0f92144518": {
      "model_module": "@jupyter-widgets/controls",
      "model_module_version": "1.5.0",
      "model_name": "DescriptionStyleModel",
      "state": {
       "description_width": ""
      }
     },
     "72b92e3f68504ee5bfa8a858755f2904": {
      "model_module": "@jupyter-widgets/controls",
      "model_module_version": "1.5.0",
      "model_name": "HBoxModel",
      "state": {
       "children": [
        "IPY_MODEL_d8ee38d058ef449f841da3a733066985",
        "IPY_MODEL_6200925a216c48bbb2cf86af35d60198"
       ],
       "layout": "IPY_MODEL_501ea1908aad438daf66b1b6172aba6c"
      }
     },
     "72bc1e35e1b440dab2d04d8572c085d8": {
      "model_module": "@jupyter-widgets/base",
      "model_module_version": "1.2.0",
      "model_name": "LayoutModel",
      "state": {}
     },
     "7310fb106a0148cba799629b28cfd588": {
      "model_module": "@jupyter-widgets/controls",
      "model_module_version": "1.5.0",
      "model_name": "BoundedIntTextModel",
      "state": {
       "description": "index",
       "layout": "IPY_MODEL_2299fe15e03b48dda7759b4bf26db86e",
       "style": "IPY_MODEL_eeab74f6f1a84721a8eb814d0d0499fc",
       "value": 2
      }
     },
     "731557268ca54591ad3d06382bc1dd72": {
      "model_module": "@jupyter-widgets/controls",
      "model_module_version": "1.5.0",
      "model_name": "BoundedIntTextModel",
      "state": {
       "description": "step",
       "layout": "IPY_MODEL_38aedb1b56ff4907af35973d88c28785",
       "min": 1,
       "style": "IPY_MODEL_873fc331b8844a1093445796e7b51b73",
       "value": 1
      }
     },
     "731c21cb9ed54a6a8fe43c2a969ef1a9": {
      "model_module": "@jupyter-widgets/controls",
      "model_module_version": "1.5.0",
      "model_name": "DescriptionStyleModel",
      "state": {
       "description_width": ""
      }
     },
     "7370d67c85ca45f99ec4b794aa6baea5": {
      "model_module": "@jupyter-widgets/controls",
      "model_module_version": "1.5.0",
      "model_name": "HBoxModel",
      "state": {
       "children": [
        "IPY_MODEL_68a999f616cb409eaf56145edc21d134",
        "IPY_MODEL_965bd59a86534e949f83f3fe45f31fe8",
        "IPY_MODEL_a20b73a02aa64f1aa2635be402379fd2",
        "IPY_MODEL_26661f90cfc247b4aa51a0584e2d50c9"
       ],
       "layout": "IPY_MODEL_2c758a39f7fc445fb36328a5392bc3cb"
      }
     },
     "738f9659f28b43cf9dd1fbc37d0b8b4c": {
      "model_module": "@jupyter-widgets/controls",
      "model_module_version": "1.5.0",
      "model_name": "DescriptionStyleModel",
      "state": {
       "description_width": ""
      }
     },
     "73d991583598443f90d6d52a35fb8498": {
      "model_module": "@jupyter-widgets/controls",
      "model_module_version": "1.5.0",
      "model_name": "ButtonStyleModel",
      "state": {}
     },
     "73df2c6eb8684e3e8dcd2a48cb263e44": {
      "model_module": "@jupyter-widgets/controls",
      "model_module_version": "1.5.0",
      "model_name": "HBoxModel",
      "state": {
       "children": [
        "IPY_MODEL_2adcf24dbf2748e089fcbf19dc0f7b33",
        "IPY_MODEL_90b847efdfb849b8b6736e210159423b"
       ],
       "layout": "IPY_MODEL_b1cb4ff3cba944be84994facb1138eb0"
      }
     },
     "73f500e006d84a9c84319ee4b2755109": {
      "model_module": "@jupyter-widgets/controls",
      "model_module_version": "1.5.0",
      "model_name": "ButtonStyleModel",
      "state": {}
     },
     "742dc244110b4bdd8c1040e6d4201803": {
      "model_module": "@jupyter-widgets/base",
      "model_module_version": "1.2.0",
      "model_name": "LayoutModel",
      "state": {}
     },
     "742dfafade604ead88df5aeb395d062f": {
      "model_module": "@jupyter-widgets/controls",
      "model_module_version": "1.5.0",
      "model_name": "DescriptionStyleModel",
      "state": {
       "description_width": ""
      }
     },
     "74a7a5c1fee64445b64d9944194e45ee": {
      "model_module": "@jupyter-widgets/base",
      "model_module_version": "1.2.0",
      "model_name": "LayoutModel",
      "state": {}
     },
     "751d8cfde9de463ca66613cc8a84cff9": {
      "model_module": "@jupyter-widgets/base",
      "model_module_version": "1.2.0",
      "model_name": "LayoutModel",
      "state": {}
     },
     "754e023037f44be6a00d8aae974857c5": {
      "model_module": "@jupyter-widgets/base",
      "model_module_version": "1.2.0",
      "model_name": "LayoutModel",
      "state": {}
     },
     "75d3e76ba91f4678a3a3444870c33a8e": {
      "model_module": "@jupyter-widgets/controls",
      "model_module_version": "1.5.0",
      "model_name": "SliderStyleModel",
      "state": {
       "description_width": ""
      }
     },
     "75e4bd3534f543b4899c48d354a9a7b6": {
      "model_module": "@jupyter-widgets/controls",
      "model_module_version": "1.5.0",
      "model_name": "TabModel",
      "state": {
       "_titles": {
        "0": "leuwenberg.json"
       },
       "children": [
        "IPY_MODEL_677f5c34bf3d4ae78e59a950c381d3d9"
       ],
       "layout": "IPY_MODEL_57a7f707d08c4c63bf3ba337a4ba07e7"
      }
     },
     "75f428afc0a3423fb7e534bdd51258c5": {
      "model_module": "@jupyter-widgets/controls",
      "model_module_version": "1.5.0",
      "model_name": "DescriptionStyleModel",
      "state": {
       "description_width": ""
      }
     },
     "7603ec0ea97040b8b5273ff4abfa9ec8": {
      "model_module": "@jupyter-widgets/controls",
      "model_module_version": "1.5.0",
      "model_name": "DescriptionStyleModel",
      "state": {
       "description_width": ""
      }
     },
     "762f4772b96f45b3861fb3b080efd6f8": {
      "model_module": "@jupyter-widgets/base",
      "model_module_version": "1.2.0",
      "model_name": "LayoutModel",
      "state": {}
     },
     "763e8c82a8a341a1b6a154f9b443d6ad": {
      "model_module": "@jupyter-widgets/base",
      "model_module_version": "1.2.0",
      "model_name": "LayoutModel",
      "state": {}
     },
     "7648ce6823ed4b309447f2f29b6af72b": {
      "model_module": "@jupyter-widgets/base",
      "model_module_version": "1.2.0",
      "model_name": "LayoutModel",
      "state": {}
     },
     "76828b02847f49ffabf74ca1c0f2de97": {
      "model_module": "@jupyter-widgets/controls",
      "model_module_version": "1.5.0",
      "model_name": "ButtonModel",
      "state": {
       "description": "Add",
       "layout": "IPY_MODEL_1f47862cd7004f6ea8e431b00a2deb36",
       "style": "IPY_MODEL_38b3bc34ec4749ce97f6df8128c8b58b"
      }
     },
     "76ad72ce11b4453696a91154127944b3": {
      "model_module": "@jupyter-widgets/controls",
      "model_module_version": "1.5.0",
      "model_name": "IntSliderModel",
      "state": {
       "description": "value",
       "layout": "IPY_MODEL_6a3b11bd161e4211822cbde9cb732600",
       "max": 10,
       "min": 1,
       "style": "IPY_MODEL_69530d9f948a4c63820584df4fd3e4bd",
       "value": 3
      }
     },
     "76df08ea6d28482b8c1f8e499825360f": {
      "model_module": "@jupyter-widgets/base",
      "model_module_version": "1.2.0",
      "model_name": "LayoutModel",
      "state": {}
     },
     "76eb2c1bc07d4ea9a83be96441994d41": {
      "model_module": "@jupyter-widgets/controls",
      "model_module_version": "1.5.0",
      "model_name": "FloatSliderModel",
      "state": {
       "description": "value",
       "layout": "IPY_MODEL_aef7e904684f43a8b6c25721b13dcde7",
       "max": 0.1,
       "min": 0.01,
       "step": 0.01,
       "style": "IPY_MODEL_7a50e24de956432bb20ad024aa3b3415",
       "value": 0.04
      }
     },
     "7729d9315d7748298125e0baab4aba88": {
      "model_module": "@jupyter-widgets/controls",
      "model_module_version": "1.5.0",
      "model_name": "ColorPickerModel",
      "state": {
       "description": "ambient",
       "disabled": false,
       "layout": "IPY_MODEL_bb1d7bbeb2da4eb7b42b416ef2832725",
       "style": "IPY_MODEL_65fe108d37ac4ca49def87c269901bf1",
       "value": "#5b4534"
      }
     },
     "776b2221bf7e44479f62266f542cfc6f": {
      "model_module": "pgljupyter",
      "model_module_version": "^0.1.14",
      "model_name": "IntEditorModel",
      "state": {
       "_model_module_version": "^0.1.14",
       "_view_module_version": "^0.1.14",
       "children": [
        "IPY_MODEL_0ad52567a05440bfa1b7f62f0dcd33e5",
        "IPY_MODEL_c017faf3374c49f2a7f2173c394bb4b5",
        "IPY_MODEL_fb008d8d2c234664ba3ae188ecac3d55",
        "IPY_MODEL_6f893e36888d4e3c99302a27181e8d73",
        "IPY_MODEL_db9786a656f34ac28c504fcbba72adc2"
       ],
       "layout": "IPY_MODEL_2194feb6dbbb416e9d612f19ffdf48e9"
      }
     },
     "776b369c935b4b23a7d6651a4cec65fa": {
      "model_module": "@jupyter-widgets/controls",
      "model_module_version": "1.5.0",
      "model_name": "DescriptionStyleModel",
      "state": {
       "description_width": ""
      }
     },
     "777034ee9c8848ce81cea022bafe8d9a": {
      "model_module": "@jupyter-widgets/controls",
      "model_module_version": "1.5.0",
      "model_name": "IntSliderModel",
      "state": {
       "description": "value",
       "layout": "IPY_MODEL_8e5923306b2d46e79d08c87828fc0a9b",
       "max": 10,
       "min": 1,
       "style": "IPY_MODEL_4dbbec1ba4df4a18a3c1e89398b3495e",
       "value": 6
      }
     },
     "77bd1f060fa34f0f829dcac933f97e94": {
      "model_module": "@jupyter-widgets/base",
      "model_module_version": "1.2.0",
      "model_name": "LayoutModel",
      "state": {}
     },
     "77c5487882eb4763a09bbeab234f0123": {
      "model_module": "@jupyter-widgets/controls",
      "model_module_version": "1.5.0",
      "model_name": "TextModel",
      "state": {
       "continuous_update": false,
       "description": "name",
       "layout": "IPY_MODEL_635084b479ec47388dd7721df70a9b3d",
       "style": "IPY_MODEL_96ef03696a734da89b39db7fbc0c836b",
       "value": "color_1"
      }
     },
     "77d9a753e60f49d284845127d2f81ee7": {
      "model_module": "@jupyter-widgets/controls",
      "model_module_version": "1.5.0",
      "model_name": "DropdownModel",
      "state": {
       "_options_labels": [
        "BezierCurve2D_0"
       ],
       "index": 0,
       "layout": "IPY_MODEL_1ebb908f33104722a8ca0ebea0830367",
       "style": "IPY_MODEL_3c075c2048614d2e8ada7b1f561f4f59"
      }
     },
     "7824555fb45941e0b6b357551c9ae5a1": {
      "model_module": "@jupyter-widgets/controls",
      "model_module_version": "1.5.0",
      "model_name": "SliderStyleModel",
      "state": {
       "description_width": ""
      }
     },
     "786ed63a12464723a7f0b5d57199c2f7": {
      "model_module": "@jupyter-widgets/base",
      "model_module_version": "1.2.0",
      "model_name": "LayoutModel",
      "state": {}
     },
     "789bdbd0a60b48409d2c13fe0b83d44f": {
      "model_module": "@jupyter-widgets/controls",
      "model_module_version": "1.5.0",
      "model_name": "DescriptionStyleModel",
      "state": {
       "description_width": ""
      }
     },
     "78b7a0be83c644fdb993627391ce7ebf": {
      "model_module": "@jupyter-widgets/controls",
      "model_module_version": "1.5.0",
      "model_name": "BoundedIntTextModel",
      "state": {
       "description": "step",
       "layout": "IPY_MODEL_c364d57ad62144c597636d4d7ea2924a",
       "min": 1,
       "style": "IPY_MODEL_c4b619d3bd944779b7f7722cb12920fb",
       "value": 1
      }
     },
     "78b86b9374f94e7eba45a65f52ac1a7b": {
      "model_module": "@jupyter-widgets/controls",
      "model_module_version": "1.5.0",
      "model_name": "DescriptionStyleModel",
      "state": {
       "description_width": ""
      }
     },
     "78ba74ff3c3846c2b2a4b37a28c0386a": {
      "model_module": "pgljupyter",
      "model_module_version": "^0.1.2",
      "model_name": "_CurveEditorModel",
      "state": {
       "_model_module_version": "^0.1.2",
       "_view_module_version": "^0.1.2",
       "control_points": [
        [
         -0.5,
         0
        ],
        [
         -0.25,
         0.25
        ],
        [
         0.14090909090909087,
         -0.25
        ],
        [
         0.25,
         0.25
        ],
        [
         0.5,
         0
        ]
       ],
       "curve_type": "NurbsCurve2D",
       "layout": "IPY_MODEL_94187a47d018456e86f4065c54af4476"
      }
     },
     "78d652192b4b4743bc2c5517507e5afc": {
      "model_module": "@jupyter-widgets/base",
      "model_module_version": "1.2.0",
      "model_name": "LayoutModel",
      "state": {}
     },
     "79d35b0ae3834d72bf0fc00bd6bb6b3f": {
      "model_module": "@jupyter-widgets/controls",
      "model_module_version": "1.5.0",
      "model_name": "ButtonModel",
      "state": {
       "description": "Save changes",
       "layout": "IPY_MODEL_aa5bb824fdb14cf4b6208c7625b7eee4",
       "style": "IPY_MODEL_c9b3d84283d549a89ea8b9880ebdc2f1"
      }
     },
     "79f69624a792402dbdf38b37ead2de78": {
      "model_module": "@jupyter-widgets/base",
      "model_module_version": "1.2.0",
      "model_name": "LayoutModel",
      "state": {
       "margin": "20px 0px"
      }
     },
     "7a50e24de956432bb20ad024aa3b3415": {
      "model_module": "@jupyter-widgets/controls",
      "model_module_version": "1.5.0",
      "model_name": "SliderStyleModel",
      "state": {
       "description_width": ""
      }
     },
     "7a5b3aee649441e48ddff80092199efc": {
      "model_module": "@jupyter-widgets/controls",
      "model_module_version": "1.5.0",
      "model_name": "DescriptionStyleModel",
      "state": {
       "description_width": ""
      }
     },
     "7a66ebfca84d4999a5bee673f10e7c52": {
      "model_module": "@jupyter-widgets/base",
      "model_module_version": "1.2.0",
      "model_name": "LayoutModel",
      "state": {
       "margin": "20px 0px"
      }
     },
     "7b202b2c87bf4343b5cfdad8b03600b6": {
      "model_module": "@jupyter-widgets/controls",
      "model_module_version": "1.5.0",
      "model_name": "DescriptionStyleModel",
      "state": {
       "description_width": ""
      }
     },
     "7b2d939afa8b479993e42340a13c22b4": {
      "model_module": "@jupyter-widgets/controls",
      "model_module_version": "1.5.0",
      "model_name": "FloatSliderModel",
      "state": {
       "description": "transparency",
       "layout": "IPY_MODEL_953d2782c14249fb88a4123469f963a7",
       "max": 1,
       "step": 0.1,
       "style": "IPY_MODEL_1e15a8c6ff044705997b5c5ab448dee7"
      }
     },
     "7b4fab502eb240a5a01f3789709c84a7": {
      "model_module": "@jupyter-widgets/controls",
      "model_module_version": "1.5.0",
      "model_name": "DescriptionStyleModel",
      "state": {
       "description_width": ""
      }
     },
     "7bfa05f9b9ea414c9d631dd7c3d53fb0": {
      "model_module": "@jupyter-widgets/base",
      "model_module_version": "1.2.0",
      "model_name": "LayoutModel",
      "state": {}
     },
     "7c66b5d7e49e46b4af1106c7070d7f40": {
      "model_module": "@jupyter-widgets/controls",
      "model_module_version": "1.5.0",
      "model_name": "IntTextModel",
      "state": {
       "description": "min",
       "layout": "IPY_MODEL_543e057f74d34186b9646b8011bf4a79",
       "step": 1,
       "style": "IPY_MODEL_85677fd06b73443990c58ca29a1a3daa",
       "value": 1
      }
     },
     "7c69b2f86976482cbd21d7c6e466e3cb": {
      "model_module": "pgljupyter",
      "model_module_version": "^0.1.2",
      "model_name": "MaterialEditorModel",
      "state": {
       "_model_module_version": "^0.1.2",
       "_view_module_version": "^0.1.2",
       "children": [
        "IPY_MODEL_d106d73f1f0f40bfb9afee106236b6d3",
        "IPY_MODEL_660849255c0f44c4bfdc973e0a97035b",
        "IPY_MODEL_f34b929398a24b469d2d633e8cbf34a2",
        "IPY_MODEL_6120d60994144590bb1063cb54022e89",
        "IPY_MODEL_c0fbb256fc224c9aba81c3735c246735",
        "IPY_MODEL_ba7234dd0ed3424baa06f9cffa1d96b3",
        "IPY_MODEL_715cfdcd6c964bef8eb9f15d8cbf8678",
        "IPY_MODEL_f388e0efafe1495e96c319279c5f947b"
       ],
       "layout": "IPY_MODEL_88b333a59afe4d6e9c5d36241456007e"
      }
     },
     "7d0aa3defdad47d7902e5aa71a0cc6f8": {
      "model_module": "@jupyter-widgets/controls",
      "model_module_version": "1.5.0",
      "model_name": "HBoxModel",
      "state": {
       "children": [
        "IPY_MODEL_79d35b0ae3834d72bf0fc00bd6bb6b3f",
        "IPY_MODEL_d7a6727bd2324bc1ae4f77eb2d08a957"
       ],
       "layout": "IPY_MODEL_a0210880ef26449bb40373ad5494792c"
      }
     },
     "7d429314117b4b3890e68477bc181f56": {
      "model_module": "@jupyter-widgets/base",
      "model_module_version": "1.2.0",
      "model_name": "LayoutModel",
      "state": {}
     },
     "7d5bfc8e9e2e4f8384bba4411ca671f6": {
      "model_module": "@jupyter-widgets/controls",
      "model_module_version": "1.5.0",
      "model_name": "SliderStyleModel",
      "state": {
       "description_width": ""
      }
     },
     "7d94c059507f42e4aa7fdbe39beb4a2a": {
      "model_module": "@jupyter-widgets/base",
      "model_module_version": "1.2.0",
      "model_name": "LayoutModel",
      "state": {}
     },
     "7e460e2c624a46e587a98cece718fc66": {
      "model_module": "@jupyter-widgets/controls",
      "model_module_version": "1.5.0",
      "model_name": "CheckboxModel",
      "state": {
       "description": "Auto apply",
       "disabled": false,
       "layout": "IPY_MODEL_9448d6a702534361b5d706b498ea40f0",
       "style": "IPY_MODEL_85965b3e10d44bd6bdcb57123716575c",
       "value": true
      }
     },
     "7e46666caca84af194dd3330296034d5": {
      "model_module": "@jupyter-widgets/controls",
      "model_module_version": "1.5.0",
      "model_name": "SliderStyleModel",
      "state": {
       "description_width": ""
      }
     },
     "7e4d389d197f4497ac9605341767eb5f": {
      "model_module": "@jupyter-widgets/controls",
      "model_module_version": "1.5.0",
      "model_name": "ButtonModel",
      "state": {
       "description": "Delete",
       "layout": "IPY_MODEL_dd756382441c405cb77e16e203e7f887",
       "style": "IPY_MODEL_73d991583598443f90d6d52a35fb8498"
      }
     },
     "7e6cd9f3d4774f2a8db233e3574f2d46": {
      "model_module": "@jupyter-widgets/base",
      "model_module_version": "1.2.0",
      "model_name": "LayoutModel",
      "state": {}
     },
     "7e8efbd96371439c93796aa025dc2459": {
      "model_module": "@jupyter-widgets/base",
      "model_module_version": "1.2.0",
      "model_name": "LayoutModel",
      "state": {}
     },
     "7f2b172d2c374e0f9b79d7569d333c05": {
      "model_module": "@jupyter-widgets/controls",
      "model_module_version": "1.5.0",
      "model_name": "VBoxModel",
      "state": {
       "children": [
        "IPY_MODEL_0902933020a846afa086a4dc7ee249a4",
        "IPY_MODEL_638d9ba87d3344748959003409004080"
       ],
       "layout": "IPY_MODEL_a9d9270dee474b0897f2b76e239d91ef"
      }
     },
     "7f8de41401344dabb9b01b6451648c89": {
      "model_module": "@jupyter-widgets/controls",
      "model_module_version": "1.5.0",
      "model_name": "SliderStyleModel",
      "state": {
       "description_width": ""
      }
     },
     "7f9d5e5a52b14a618ba808a1e81f5e6c": {
      "model_module": "@jupyter-widgets/controls",
      "model_module_version": "1.5.0",
      "model_name": "DescriptionStyleModel",
      "state": {
       "description_width": ""
      }
     },
     "7faa1f82e8654be1a5b9b8f2a4aeda47": {
      "model_module": "@jupyter-widgets/controls",
      "model_module_version": "1.5.0",
      "model_name": "DescriptionStyleModel",
      "state": {
       "description_width": ""
      }
     },
     "7fd4070bf1f748a6978285867f3fd655": {
      "model_module": "@jupyter-widgets/controls",
      "model_module_version": "1.5.0",
      "model_name": "ButtonModel",
      "state": {
       "description": "Delete",
       "layout": "IPY_MODEL_6bb8958c70624458abcfedad592ad4c1",
       "style": "IPY_MODEL_0e9c1105c42e4e7787c3c15d410f7b5c"
      }
     },
     "805ea2c62cea4f389e8cdcaf4d3fa2cb": {
      "model_module": "@jupyter-widgets/controls",
      "model_module_version": "1.5.0",
      "model_name": "TextModel",
      "state": {
       "continuous_update": false,
       "description": "name",
       "layout": "IPY_MODEL_c8be64049f5843ebac39f11d40e1b397",
       "style": "IPY_MODEL_9c16367664874458a94374612eb9b248",
       "value": "maxorder"
      }
     },
     "80cb56e577a544b7b67854bd62adcbe8": {
      "model_module": "@jupyter-widgets/base",
      "model_module_version": "1.2.0",
      "model_name": "LayoutModel",
      "state": {}
     },
     "81191aa42cfb44e0b8d68cc02a030a4e": {
      "model_module": "@jupyter-widgets/controls",
      "model_module_version": "1.5.0",
      "model_name": "FloatSliderModel",
      "state": {
       "description": "diffuse",
       "layout": "IPY_MODEL_d5b0b4a76e704be7aa8f297878b58d36",
       "max": 1,
       "step": 0.1,
       "style": "IPY_MODEL_2683a2486a9548ee9a92b323137c1a9a"
      }
     },
     "8183e159292c422d80f970aecd1f0626": {
      "model_module": "@jupyter-widgets/controls",
      "model_module_version": "1.5.0",
      "model_name": "SliderStyleModel",
      "state": {
       "description_width": ""
      }
     },
     "81991c46676647618c0846129eb9253f": {
      "model_module": "@jupyter-widgets/base",
      "model_module_version": "1.2.0",
      "model_name": "LayoutModel",
      "state": {}
     },
     "823f7f7401fd4f2db5bafaecaddc2207": {
      "model_module": "@jupyter-widgets/controls",
      "model_module_version": "1.5.0",
      "model_name": "TextModel",
      "state": {
       "continuous_update": false,
       "description": "name",
       "layout": "IPY_MODEL_048bb63b5aac4025b904ec1e7f139797",
       "style": "IPY_MODEL_ab0ba13d49e44f81b2dbd8ef218fc16b",
       "value": "color_3"
      }
     },
     "82677ec5f54f4726a069d2eae97e6773": {
      "model_module": "@jupyter-widgets/controls",
      "model_module_version": "1.5.0",
      "model_name": "HBoxModel",
      "state": {
       "children": [
        "IPY_MODEL_5783a1ffec3a4cf7831b22bbadf5558d",
        "IPY_MODEL_f98f574b894146bdac3cc74bf1517323"
       ],
       "layout": "IPY_MODEL_5faadf4842f04521928328410e1fa0d9"
      }
     },
     "8272e23ce2dd4623b003ba31c98874b1": {
      "model_module": "@jupyter-widgets/controls",
      "model_module_version": "1.5.0",
      "model_name": "DescriptionStyleModel",
      "state": {
       "description_width": ""
      }
     },
     "8298bb29a5c745799439a58c350b6a9a": {
      "model_module": "@jupyter-widgets/controls",
      "model_module_version": "1.5.0",
      "model_name": "DescriptionStyleModel",
      "state": {
       "description_width": ""
      }
     },
     "8312daa4c523419b93c5a7a2515d20db": {
      "model_module": "@jupyter-widgets/base",
      "model_module_version": "1.2.0",
      "model_name": "LayoutModel",
      "state": {}
     },
     "8340bbc94563495b96eb035f3a6d25fb": {
      "model_module": "pgljupyter",
      "model_module_version": "^0.1.2",
      "model_name": "CurveEditorModel",
      "state": {
       "_model_module_version": "^0.1.2",
       "_view_module_version": "^0.1.2",
       "children": [
        "IPY_MODEL_a089aeec89724239b6aca2b404740c1a",
        "IPY_MODEL_6b2707d91e9942bc8b595dfd3b63cc46"
       ],
       "layout": "IPY_MODEL_86f586d03aa4459a9864f424c3e6d555"
      }
     },
     "83d7b86e973542519d6227d6627a1f24": {
      "model_module": "@jupyter-widgets/controls",
      "model_module_version": "1.5.0",
      "model_name": "TextModel",
      "state": {
       "continuous_update": false,
       "description": "name",
       "layout": "IPY_MODEL_b9c9fba7050d4389adc593900e168832",
       "style": "IPY_MODEL_629054a4b105496a857a543e7ed22ae8",
       "value": "radinc"
      }
     },
     "83f45740b1f44611bf05389b4d7fcd7d": {
      "model_module": "@jupyter-widgets/base",
      "model_module_version": "1.2.0",
      "model_name": "LayoutModel",
      "state": {}
     },
     "8414c7b941434c7eb8a7d5c1f8c42b9d": {
      "model_module": "@jupyter-widgets/base",
      "model_module_version": "1.2.0",
      "model_name": "LayoutModel",
      "state": {
       "margin": "20px 0px"
      }
     },
     "841b03bc73504e9fbcd2a2521c5eac54": {
      "model_module": "@jupyter-widgets/controls",
      "model_module_version": "1.5.0",
      "model_name": "TextModel",
      "state": {
       "continuous_update": false,
       "description": "name",
       "layout": "IPY_MODEL_6aa4b4a1ca5f4731b9f8343c79a14cc1",
       "style": "IPY_MODEL_67822b865e28401295637b483ee8afb1",
       "value": "color_3"
      }
     },
     "8424cbe703b64aaab52fcf022d5b86ef": {
      "model_module": "@jupyter-widgets/base",
      "model_module_version": "1.2.0",
      "model_name": "LayoutModel",
      "state": {}
     },
     "8439c9e53b6b4164b3ca468f9cc930d2": {
      "model_module": "@jupyter-widgets/controls",
      "model_module_version": "1.5.0",
      "model_name": "DescriptionStyleModel",
      "state": {
       "description_width": ""
      }
     },
     "843d75cb83854ccca588873a9ace951c": {
      "model_module": "@jupyter-widgets/controls",
      "model_module_version": "1.5.0",
      "model_name": "TextModel",
      "state": {
       "continuous_update": false,
       "description": "name",
       "layout": "IPY_MODEL_f3575942fc0a42a398ac1f9fa3cd7631",
       "style": "IPY_MODEL_71261e9f7d8f47419e3b3ac7fdc33b05",
       "value": "color_2"
      }
     },
     "84896375a43b4ce3b3339763cff16672": {
      "model_module": "@jupyter-widgets/base",
      "model_module_version": "1.2.0",
      "model_name": "LayoutModel",
      "state": {}
     },
     "84e2779eec6247e788956dd1ebf9ea54": {
      "model_module": "@jupyter-widgets/controls",
      "model_module_version": "1.5.0",
      "model_name": "DescriptionStyleModel",
      "state": {
       "description_width": ""
      }
     },
     "84e87897d7924c9c8a3252b0e40e3dd5": {
      "model_module": "@jupyter-widgets/controls",
      "model_module_version": "1.5.0",
      "model_name": "HBoxModel",
      "state": {
       "children": [
        "IPY_MODEL_7c69b2f86976482cbd21d7c6e466e3cb",
        "IPY_MODEL_3f61e9dd496f4505be6dc1c84aefdc57",
        "IPY_MODEL_352845e9ebe34d14891bd5826b4a2e08"
       ],
       "layout": "IPY_MODEL_fe0cdcc6562e4d7b98662c718d50f517"
      }
     },
     "8521421917f24da6b6dadd3024bc4b3c": {
      "model_module": "@jupyter-widgets/controls",
      "model_module_version": "1.5.0",
      "model_name": "DropdownModel",
      "state": {
       "_options_labels": [
        "leafduration",
        "leafold",
        "maxorder",
        "radinc",
        "nb_axes"
       ],
       "index": 0,
       "layout": "IPY_MODEL_8f01abad88d94ccbbc92059d66638e59",
       "style": "IPY_MODEL_1199b29ae2c043a9970f55d5b94d1758"
      }
     },
     "8554cceab3924e6b9e50c79f303173aa": {
      "model_module": "@jupyter-widgets/controls",
      "model_module_version": "1.5.0",
      "model_name": "SliderStyleModel",
      "state": {
       "description_width": ""
      }
     },
     "85677fd06b73443990c58ca29a1a3daa": {
      "model_module": "@jupyter-widgets/controls",
      "model_module_version": "1.5.0",
      "model_name": "DescriptionStyleModel",
      "state": {
       "description_width": ""
      }
     },
     "85965b3e10d44bd6bdcb57123716575c": {
      "model_module": "@jupyter-widgets/controls",
      "model_module_version": "1.5.0",
      "model_name": "DescriptionStyleModel",
      "state": {
       "description_width": ""
      }
     },
     "85a4b553864b446484511bd08e7f28b4": {
      "model_module": "@jupyter-widgets/controls",
      "model_module_version": "1.5.0",
      "model_name": "ButtonStyleModel",
      "state": {}
     },
     "86b0aab187af49f1a86803563cc19ecd": {
      "model_module": "@jupyter-widgets/controls",
      "model_module_version": "1.5.0",
      "model_name": "FloatSliderModel",
      "state": {
       "description": "transparency",
       "layout": "IPY_MODEL_0effd504a4974e6abb5357847527ec57",
       "max": 1,
       "step": 0.1,
       "style": "IPY_MODEL_d95a440053a049df933468128decce4b",
       "value": 1
      }
     },
     "86d0c2f7ea1b44e6908bfd682ece3329": {
      "model_module": "@jupyter-widgets/controls",
      "model_module_version": "1.5.0",
      "model_name": "DescriptionStyleModel",
      "state": {
       "description_width": ""
      }
     },
     "86f586d03aa4459a9864f424c3e6d555": {
      "model_module": "@jupyter-widgets/base",
      "model_module_version": "1.2.0",
      "model_name": "LayoutModel",
      "state": {
       "margin": "20px 0px"
      }
     },
     "86f7b3b61bdf4991a46b8cca9a382724": {
      "model_module": "@jupyter-widgets/controls",
      "model_module_version": "1.5.0",
      "model_name": "DropdownModel",
      "state": {
       "index": null,
       "layout": "IPY_MODEL_4bc1579957df4870a26abbbe1e8fbf81",
       "style": "IPY_MODEL_18f4a9848e8748e0b6f14cc8ad8b33d1"
      }
     },
     "8708b4f84f454407bc516fc2e9b1e14b": {
      "model_module": "@jupyter-widgets/controls",
      "model_module_version": "1.5.0",
      "model_name": "FloatSliderModel",
      "state": {
       "description": "shininess",
       "layout": "IPY_MODEL_ae863b42db2c40eeaa8a064f1de6d54e",
       "max": 1,
       "step": 0.1,
       "style": "IPY_MODEL_1ca38f8de5c14488a96798aa1fb3bff0",
       "value": 0.2
      }
     },
     "8715186e0e7149e8864eac82b62a522d": {
      "model_module": "@jupyter-widgets/base",
      "model_module_version": "1.2.0",
      "model_name": "LayoutModel",
      "state": {}
     },
     "8732af9403aa4f6ca1b7e62ca4e29c09": {
      "model_module": "@jupyter-widgets/base",
      "model_module_version": "1.2.0",
      "model_name": "LayoutModel",
      "state": {}
     },
     "873fc331b8844a1093445796e7b51b73": {
      "model_module": "@jupyter-widgets/controls",
      "model_module_version": "1.5.0",
      "model_name": "DescriptionStyleModel",
      "state": {
       "description_width": ""
      }
     },
     "87cef65f3ccb4e37b6f6da063e0b9e6e": {
      "model_module": "@jupyter-widgets/controls",
      "model_module_version": "1.5.0",
      "model_name": "ColorPickerModel",
      "state": {
       "description": "ambient",
       "disabled": false,
       "layout": "IPY_MODEL_0b4c4d71ec8e44e68cc9250e5069637a",
       "style": "IPY_MODEL_4f1619fba91b4d7cb40cab3f9cfbda3e",
       "value": "#e1a014"
      }
     },
     "8815d743dee0457d8be8b0a8c46923f3": {
      "model_module": "@jupyter-widgets/base",
      "model_module_version": "1.2.0",
      "model_name": "LayoutModel",
      "state": {}
     },
     "88798602d5504c9aaa7f098f2ba700a6": {
      "model_module": "@jupyter-widgets/base",
      "model_module_version": "1.2.0",
      "model_name": "LayoutModel",
      "state": {}
     },
     "8885c255856b479881029363d8cf8481": {
      "model_module": "@jupyter-widgets/controls",
      "model_module_version": "1.5.0",
      "model_name": "ColorPickerModel",
      "state": {
       "description": "ambient",
       "disabled": false,
       "layout": "IPY_MODEL_995085a578004bfe81660f47cb338b16",
       "style": "IPY_MODEL_16e49243964a48618d68e8e278e7d9bd",
       "value": "#195717"
      }
     },
     "88b333a59afe4d6e9c5d36241456007e": {
      "model_module": "@jupyter-widgets/base",
      "model_module_version": "1.2.0",
      "model_name": "LayoutModel",
      "state": {
       "margin": "20px 0px"
      }
     },
     "88d679242d4e47da83d942cd3e60dc38": {
      "model_module": "@jupyter-widgets/base",
      "model_module_version": "1.2.0",
      "model_name": "LayoutModel",
      "state": {}
     },
     "8924e7490b8d474abb523195f04639b9": {
      "model_module": "@jupyter-widgets/controls",
      "model_module_version": "1.5.0",
      "model_name": "ButtonModel",
      "state": {
       "description": "Delete",
       "layout": "IPY_MODEL_0b38fbfb4d1f4b9995215a9f3e2c4a51",
       "style": "IPY_MODEL_222c986241f440b09ecf8838dee277bb"
      }
     },
     "896f19e84d5e466e801cd444150b1553": {
      "model_module": "pgljupyter",
      "model_module_version": "^0.1.2",
      "model_name": "LsystemWidgetModel",
      "state": {
       "_model_module_version": "^0.1.2",
       "_view_module_version": "^0.1.2",
       "axes_helper": false,
       "derivationLength": 45,
       "layout": "IPY_MODEL_d93ddd2368b84814a30872f4a70db859",
       "light_helper": false,
       "plane": true,
       "size_display": [
        400,
        400
       ],
       "size_world": [
        10,
        10,
        10
       ],
       "unit": 1
      }
     },
     "89e50adf10a84ea9ab3997fe944f3854": {
      "model_module": "@jupyter-widgets/controls",
      "model_module_version": "1.5.0",
      "model_name": "FloatTextModel",
      "state": {
       "description": "min",
       "layout": "IPY_MODEL_22a9a3fd9c4947de8e9b52c24d8c16d8",
       "step": null,
       "style": "IPY_MODEL_738f9659f28b43cf9dd1fbc37d0b8b4c",
       "value": 0.01
      }
     },
     "89fc6b596d6c4c578cd11a671c085644": {
      "model_module": "@jupyter-widgets/base",
      "model_module_version": "1.2.0",
      "model_name": "LayoutModel",
      "state": {}
     },
     "8a45f1793c654ff1b7f7ad2acc463549": {
      "model_module": "@jupyter-widgets/base",
      "model_module_version": "1.2.0",
      "model_name": "LayoutModel",
      "state": {
       "margin": "20px 0px"
      }
     },
     "8a552e1e88a0406f8658363c552e528f": {
      "model_module": "@jupyter-widgets/base",
      "model_module_version": "1.2.0",
      "model_name": "LayoutModel",
      "state": {}
     },
     "8a8447a78e8d49cbbb6bc89f112759f5": {
      "model_module": "@jupyter-widgets/base",
      "model_module_version": "1.2.0",
      "model_name": "LayoutModel",
      "state": {}
     },
     "8a8f9cbb663e4d42a10e4e70f2a1cd17": {
      "model_module": "@jupyter-widgets/controls",
      "model_module_version": "1.5.0",
      "model_name": "DescriptionStyleModel",
      "state": {
       "description_width": ""
      }
     },
     "8b57ad46d5bd48cca26846608c950e2f": {
      "model_module": "@jupyter-widgets/controls",
      "model_module_version": "1.5.0",
      "model_name": "DescriptionStyleModel",
      "state": {
       "description_width": ""
      }
     },
     "8b5a4b520c81467f891fd15960b777f4": {
      "model_module": "@jupyter-widgets/base",
      "model_module_version": "1.2.0",
      "model_name": "LayoutModel",
      "state": {}
     },
     "8b631c32026a41418173e79115085831": {
      "model_module": "@jupyter-widgets/controls",
      "model_module_version": "1.5.0",
      "model_name": "ButtonStyleModel",
      "state": {}
     },
     "8bf9b39e28e14f21bbc488f01e8d389d": {
      "model_module": "@jupyter-widgets/base",
      "model_module_version": "1.2.0",
      "model_name": "LayoutModel",
      "state": {}
     },
     "8c6d842e752a4b18b7ab2cfa3594f105": {
      "model_module": "@jupyter-widgets/controls",
      "model_module_version": "1.5.0",
      "model_name": "DropdownModel",
      "state": {
       "_options_labels": [
        "color_1",
        "color_2",
        "color_3",
        "color_4"
       ],
       "index": 0,
       "layout": "IPY_MODEL_a7a8b5c3470447899106f38cf7d60475",
       "style": "IPY_MODEL_48bdb719082748ef91def7da3aa3a65a"
      }
     },
     "8cf47a3dc0f145878200852cb8e2324d": {
      "model_module": "@jupyter-widgets/controls",
      "model_module_version": "1.5.0",
      "model_name": "DescriptionStyleModel",
      "state": {
       "description_width": ""
      }
     },
     "8d6db19d3f094f5eadeb4f40df7ac00f": {
      "model_module": "@jupyter-widgets/controls",
      "model_module_version": "1.5.0",
      "model_name": "DescriptionStyleModel",
      "state": {
       "description_width": ""
      }
     },
     "8d72828213d54034baa081e13312c7e8": {
      "model_module": "@jupyter-widgets/base",
      "model_module_version": "1.2.0",
      "model_name": "LayoutModel",
      "state": {}
     },
     "8d97a9c3a929427aacfe6a6892edf62f": {
      "model_module": "@jupyter-widgets/base",
      "model_module_version": "1.2.0",
      "model_name": "LayoutModel",
      "state": {}
     },
     "8dee69fccbb14c7c82aaa8587be93b6d": {
      "model_module": "@jupyter-widgets/base",
      "model_module_version": "1.2.0",
      "model_name": "LayoutModel",
      "state": {
       "margin": "20px 0px"
      }
     },
     "8e5923306b2d46e79d08c87828fc0a9b": {
      "model_module": "@jupyter-widgets/base",
      "model_module_version": "1.2.0",
      "model_name": "LayoutModel",
      "state": {}
     },
     "8e9eadb874e74667b49b67960eb2b573": {
      "model_module": "@jupyter-widgets/controls",
      "model_module_version": "1.5.0",
      "model_name": "HBoxModel",
      "state": {
       "layout": "IPY_MODEL_fdc392c7cf9844a2b7daa72c52be63a0"
      }
     },
     "8ecf3ecac7e449ec9e63fe3f86b2d2b3": {
      "model_module": "pgljupyter",
      "model_module_version": "^0.1.14",
      "model_name": "ParameterEditorModel",
      "state": {
       "_model_module_version": "^0.1.14",
       "_view_module_version": "^0.1.14",
       "children": [
        "IPY_MODEL_e5e553e6acfa43be9690659edc56b638"
       ],
       "layout": "IPY_MODEL_7d429314117b4b3890e68477bc181f56"
      }
     },
     "8f01abad88d94ccbbc92059d66638e59": {
      "model_module": "@jupyter-widgets/base",
      "model_module_version": "1.2.0",
      "model_name": "LayoutModel",
      "state": {}
     },
     "8f1da4b76f6c40d9add8f34cb84ac141": {
      "model_module": "@jupyter-widgets/base",
      "model_module_version": "1.2.0",
      "model_name": "LayoutModel",
      "state": {
       "margin": "20px 0px"
      }
     },
     "8f477e2e294f4e3492be7dbd7786b8fb": {
      "model_module": "@jupyter-widgets/base",
      "model_module_version": "1.2.0",
      "model_name": "LayoutModel",
      "state": {}
     },
     "901d53fddd3948458282a32dd2f4b5a7": {
      "model_module": "@jupyter-widgets/controls",
      "model_module_version": "1.5.0",
      "model_name": "TextModel",
      "state": {
       "continuous_update": false,
       "description": "name",
       "layout": "IPY_MODEL_c7a7a50eab4e4e22960d00e9cf2bd872",
       "style": "IPY_MODEL_5965992f600047acaf09d3042fa191f5",
       "value": "BezierCurve2D_1"
      }
     },
     "903d502a98cd44ecb5657e2156e9559c": {
      "model_module": "@jupyter-widgets/controls",
      "model_module_version": "1.5.0",
      "model_name": "HBoxModel",
      "state": {
       "children": [
        "IPY_MODEL_f38ce8becd2f403f81f14f057115a3b5",
        "IPY_MODEL_7e460e2c624a46e587a98cece718fc66",
        "IPY_MODEL_593c45add93e470fa160defc86ae8503",
        "IPY_MODEL_5e191573a5924d1887ed7d21c6786fdf"
       ],
       "layout": "IPY_MODEL_25596c60b781494ba65f65b159bd60c0"
      }
     },
     "90a47df4dba34d57b516a9080888680e": {
      "model_module": "@jupyter-widgets/controls",
      "model_module_version": "1.5.0",
      "model_name": "ColorPickerModel",
      "state": {
       "description": "ambient",
       "disabled": false,
       "layout": "IPY_MODEL_754e023037f44be6a00d8aae974857c5",
       "style": "IPY_MODEL_fa2ab2109edb48bb9783d6353f95f9f5",
       "value": "#e1a014"
      }
     },
     "90b847efdfb849b8b6736e210159423b": {
      "model_module": "@jupyter-widgets/controls",
      "model_module_version": "1.5.0",
      "model_name": "DropdownModel",
      "state": {
       "_options_labels": [
        "Integer",
        "Float",
        "Bool"
       ],
       "index": 0,
       "layout": "IPY_MODEL_cbe03dab15774ad68ea1b7df1e69258a",
       "style": "IPY_MODEL_46d4a42297fb4b649abab841c2500d21"
      }
     },
     "90dd86fb627e4aa088f052bdc9ec27f9": {
      "model_module": "pgljupyter",
      "model_module_version": "^0.1.2",
      "model_name": "CurveEditorModel",
      "state": {
       "_model_module_version": "^0.1.2",
       "_view_module_version": "^0.1.2",
       "children": [
        "IPY_MODEL_901d53fddd3948458282a32dd2f4b5a7",
        "IPY_MODEL_3cf5140e8eaf4f8bb8ba9548db80111d"
       ],
       "layout": "IPY_MODEL_9321351e06944678b9228d00a620d928"
      }
     },
     "928bf1d863cd4c3d85d3366fa681a4d0": {
      "model_module": "@jupyter-widgets/base",
      "model_module_version": "1.2.0",
      "model_name": "LayoutModel",
      "state": {}
     },
     "92a49b08882b4b28ae92e9d4b56b4441": {
      "model_module": "@jupyter-widgets/controls",
      "model_module_version": "1.5.0",
      "model_name": "IntTextModel",
      "state": {
       "description": "min",
       "layout": "IPY_MODEL_b59c29281333436899408f2669df3b50",
       "step": 1,
       "style": "IPY_MODEL_f91d2ac41e5c4dfaa339b47ecbc48765",
       "value": 1
      }
     },
     "92d3290df9ab4916ac33eac813c835b3": {
      "model_module": "@jupyter-widgets/controls",
      "model_module_version": "1.5.0",
      "model_name": "ButtonStyleModel",
      "state": {}
     },
     "930cf2be63434311b69954fea28519d9": {
      "model_module": "@jupyter-widgets/controls",
      "model_module_version": "1.5.0",
      "model_name": "FloatSliderModel",
      "state": {
       "description": "shininess",
       "layout": "IPY_MODEL_3b165dfd50c4467fa021eb1279eb1e9b",
       "max": 1,
       "step": 0.1,
       "style": "IPY_MODEL_b5ccc25be6cb483bbe8c790ab85792d5",
       "value": 0.2
      }
     },
     "9321351e06944678b9228d00a620d928": {
      "model_module": "@jupyter-widgets/base",
      "model_module_version": "1.2.0",
      "model_name": "LayoutModel",
      "state": {
       "margin": "20px 0px"
      }
     },
     "94187a47d018456e86f4065c54af4476": {
      "model_module": "@jupyter-widgets/base",
      "model_module_version": "1.2.0",
      "model_name": "LayoutModel",
      "state": {}
     },
     "9448d6a702534361b5d706b498ea40f0": {
      "model_module": "@jupyter-widgets/base",
      "model_module_version": "1.2.0",
      "model_name": "LayoutModel",
      "state": {}
     },
     "949b9f6b0655431baaa842ca0fba7158": {
      "model_module": "@jupyter-widgets/controls",
      "model_module_version": "1.5.0",
      "model_name": "DropdownModel",
      "state": {
       "_options_labels": [
        "NurbsCurve2D",
        "BezierCurve2D",
        "Polyline2D"
       ],
       "index": 1,
       "layout": "IPY_MODEL_db4c3609b3594e998f5efdb2721b2014",
       "style": "IPY_MODEL_f79988204f874b4b990f329de61ad10e"
      }
     },
     "94ac578565f043d688bf9cd62d6d8553": {
      "model_module": "@jupyter-widgets/controls",
      "model_module_version": "1.5.0",
      "model_name": "DescriptionStyleModel",
      "state": {
       "description_width": ""
      }
     },
     "94e00aab9f27448caa364586229589bf": {
      "model_module": "@jupyter-widgets/controls",
      "model_module_version": "1.5.0",
      "model_name": "SliderStyleModel",
      "state": {
       "description_width": ""
      }
     },
     "94e25902e4724aa0a4d73938e6e56102": {
      "model_module": "@jupyter-widgets/controls",
      "model_module_version": "1.5.0",
      "model_name": "DescriptionStyleModel",
      "state": {
       "description_width": ""
      }
     },
     "94fe16f4b7b148129026cb2da6d29ef1": {
      "model_module": "@jupyter-widgets/controls",
      "model_module_version": "1.5.0",
      "model_name": "TextModel",
      "state": {
       "continuous_update": false,
       "description": "name",
       "layout": "IPY_MODEL_9c7b8466e8e340feb151320d1ae35860",
       "style": "IPY_MODEL_8272e23ce2dd4623b003ba31c98874b1",
       "value": "color_4"
      }
     },
     "951341cbaf1647c1b78a3d6afe8b8158": {
      "model_module": "@jupyter-widgets/base",
      "model_module_version": "1.2.0",
      "model_name": "LayoutModel",
      "state": {}
     },
     "952046052d024f28bf70c8a76f65f14a": {
      "model_module": "@jupyter-widgets/controls",
      "model_module_version": "1.5.0",
      "model_name": "DescriptionStyleModel",
      "state": {
       "description_width": ""
      }
     },
     "952fbb7f027f4f5d9239e048df0be058": {
      "model_module": "@jupyter-widgets/base",
      "model_module_version": "1.2.0",
      "model_name": "LayoutModel",
      "state": {}
     },
     "9533a3e0ce41459f818837dd25b5e7bf": {
      "model_module": "@jupyter-widgets/base",
      "model_module_version": "1.2.0",
      "model_name": "LayoutModel",
      "state": {}
     },
     "953d2782c14249fb88a4123469f963a7": {
      "model_module": "@jupyter-widgets/base",
      "model_module_version": "1.2.0",
      "model_name": "LayoutModel",
      "state": {}
     },
     "954794a6a3d042c395cc18311c564ac2": {
      "model_module": "@jupyter-widgets/base",
      "model_module_version": "1.2.0",
      "model_name": "LayoutModel",
      "state": {}
     },
     "95ba0750d90d46549f250d00ed29fe90": {
      "model_module": "@jupyter-widgets/controls",
      "model_module_version": "1.5.0",
      "model_name": "VBoxModel",
      "state": {
       "children": [
        "IPY_MODEL_903d502a98cd44ecb5657e2156e9559c",
        "IPY_MODEL_75e4bd3534f543b4899c48d354a9a7b6"
       ],
       "layout": "IPY_MODEL_01c976d04d3844679724e474809c158b"
      }
     },
     "95eef6992b7847359034cb5d069ebfa2": {
      "model_module": "@jupyter-widgets/base",
      "model_module_version": "1.2.0",
      "model_name": "LayoutModel",
      "state": {}
     },
     "965bd59a86534e949f83f3fe45f31fe8": {
      "model_module": "@jupyter-widgets/controls",
      "model_module_version": "1.5.0",
      "model_name": "DropdownModel",
      "state": {
       "_options_labels": [
        "NurbsCurve2D",
        "BezierCurve2D",
        "Polyline2D"
       ],
       "index": 0,
       "layout": "IPY_MODEL_0d4aef8d0e3947f39cd16894ccb136e4",
       "style": "IPY_MODEL_30ea0fffbfc14c498f33c0844ae5ecc8"
      }
     },
     "966bb16d1bfb45d88640e227702886a8": {
      "model_module": "@jupyter-widgets/controls",
      "model_module_version": "1.5.0",
      "model_name": "TextModel",
      "state": {
       "continuous_update": false,
       "description": "name",
       "layout": "IPY_MODEL_cf3db1034fd8432aa3704c829a0ecdf4",
       "style": "IPY_MODEL_a5e6cb9ccab74844b1a7f7ff16c4b40d",
       "value": "leafduration"
      }
     },
     "96bc270eb98e480d869226e5c3773f39": {
      "model_module": "@jupyter-widgets/controls",
      "model_module_version": "1.5.0",
      "model_name": "BoundedIntTextModel",
      "state": {
       "description": "index",
       "layout": "IPY_MODEL_ad8a030a3fcc472689e91a373593e67a",
       "style": "IPY_MODEL_04e56f0541674c39a651dd9c50a6c8f2",
       "value": 3
      }
     },
     "96ef03696a734da89b39db7fbc0c836b": {
      "model_module": "@jupyter-widgets/controls",
      "model_module_version": "1.5.0",
      "model_name": "DescriptionStyleModel",
      "state": {
       "description_width": ""
      }
     },
     "978de8ad9ea24bcea235051efc4a1a54": {
      "model_module": "@jupyter-widgets/controls",
      "model_module_version": "1.5.0",
      "model_name": "DescriptionStyleModel",
      "state": {
       "description_width": ""
      }
     },
     "97b1c094320146c1bccde87922ad76ab": {
      "model_module": "@jupyter-widgets/controls",
      "model_module_version": "1.5.0",
      "model_name": "ButtonModel",
      "state": {
       "description": "Delete",
       "layout": "IPY_MODEL_da2af70e6cb54a87bfe8aba01f079232",
       "style": "IPY_MODEL_3207925224d34f6c8bf84a40588fed58"
      }
     },
     "97d0ec30cb08453f949f7b6111f45ad9": {
      "model_module": "@jupyter-widgets/controls",
      "model_module_version": "1.5.0",
      "model_name": "ColorPickerModel",
      "state": {
       "description": "emission",
       "disabled": false,
       "layout": "IPY_MODEL_2d27d7c14ef54df7bced5f710b9e0cce",
       "style": "IPY_MODEL_8d6db19d3f094f5eadeb4f40df7ac00f",
       "value": "#000000"
      }
     },
     "984b9c846c2745a480a2020feaa5cb7e": {
      "model_module": "@jupyter-widgets/controls",
      "model_module_version": "1.5.0",
      "model_name": "TabModel",
      "state": {
       "_titles": {
        "0": "leuwenberg.json"
       },
       "children": [
        "IPY_MODEL_ce6b286f2d3f44b0950e6aad6008ca4a"
       ],
       "layout": "IPY_MODEL_9946cf58e54c47ec8aa5016cd7cf912a"
      }
     },
     "9866af8bed034a5794d5192397982b56": {
      "model_module": "@jupyter-widgets/controls",
      "model_module_version": "1.5.0",
      "model_name": "HBoxModel",
      "state": {
       "children": [
        "IPY_MODEL_2bfa67229dbb4f5f80d1bc638f650d11",
        "IPY_MODEL_5e00d7802e284e14b7b04901ce63c863"
       ],
       "layout": "IPY_MODEL_ba29b80240fa409fbf8bfc9edf0f136d"
      }
     },
     "987ee76d11d2433cacbdfd03b1954503": {
      "model_module": "@jupyter-widgets/controls",
      "model_module_version": "1.5.0",
      "model_name": "HBoxModel",
      "state": {
       "children": [
        "IPY_MODEL_a971f194088a4a4e858765df3db9ae8c",
        "IPY_MODEL_c2003da65dea4a289b43039e5a8549af",
        "IPY_MODEL_dd8cbc2eaaeb415dbc538b88d4e53a59",
        "IPY_MODEL_ba6c79c2e43840c9810fa60662097b5b"
       ],
       "layout": "IPY_MODEL_fe0cdcc6562e4d7b98662c718d50f517"
      }
     },
     "9885be8a805844de97c0070041224d3e": {
      "model_module": "@jupyter-widgets/base",
      "model_module_version": "1.2.0",
      "model_name": "LayoutModel",
      "state": {}
     },
     "98bc50eea37a458ebc2807a2cfa4a66e": {
      "model_module": "@jupyter-widgets/base",
      "model_module_version": "1.2.0",
      "model_name": "LayoutModel",
      "state": {}
     },
     "98f8b3c6f7c54cba99d0142498298b0a": {
      "model_module": "@jupyter-widgets/controls",
      "model_module_version": "1.5.0",
      "model_name": "ColorPickerModel",
      "state": {
       "description": "emission",
       "disabled": false,
       "layout": "IPY_MODEL_dc6aaa49edae4ee0a2076a316cb680a5",
       "style": "IPY_MODEL_c254b77e53f94f28a27b56e3c2dfc626",
       "value": "#000000"
      }
     },
     "99302e31763945609667a0e4acb70120": {
      "model_module": "@jupyter-widgets/base",
      "model_module_version": "1.2.0",
      "model_name": "LayoutModel",
      "state": {}
     },
     "9946cf58e54c47ec8aa5016cd7cf912a": {
      "model_module": "@jupyter-widgets/base",
      "model_module_version": "1.2.0",
      "model_name": "LayoutModel",
      "state": {}
     },
     "995085a578004bfe81660f47cb338b16": {
      "model_module": "@jupyter-widgets/base",
      "model_module_version": "1.2.0",
      "model_name": "LayoutModel",
      "state": {}
     },
     "996caf2446e9407b9b792dca3f37a21f": {
      "model_module": "@jupyter-widgets/base",
      "model_module_version": "1.2.0",
      "model_name": "LayoutModel",
      "state": {
       "margin": "20px 0px"
      }
     },
     "9996de42de804a72bd10c312732d93ad": {
      "model_module": "@jupyter-widgets/base",
      "model_module_version": "1.2.0",
      "model_name": "LayoutModel",
      "state": {
       "margin": "20px 0px"
      }
     },
     "9a4d28e6d7344830967b6574699ba3f3": {
      "model_module": "@jupyter-widgets/base",
      "model_module_version": "1.2.0",
      "model_name": "LayoutModel",
      "state": {}
     },
     "9a5bea988e4b44239c09cfdf7b695751": {
      "model_module": "@jupyter-widgets/base",
      "model_module_version": "1.2.0",
      "model_name": "LayoutModel",
      "state": {}
     },
     "9a65dcb16d534e78b9be4268f18e0189": {
      "model_module": "@jupyter-widgets/controls",
      "model_module_version": "1.5.0",
      "model_name": "ButtonModel",
      "state": {
       "description": "Delete",
       "layout": "IPY_MODEL_b68cdefd785942a1917c99c36362d78d",
       "style": "IPY_MODEL_f6f69156ecf34f9596a623ebda071f85"
      }
     },
     "9a73cdea2faf406f84e9aada3788b63e": {
      "model_module": "@jupyter-widgets/base",
      "model_module_version": "1.2.0",
      "model_name": "LayoutModel",
      "state": {}
     },
     "9a8af2a83e724b998e08021ea97d1c9b": {
      "model_module": "@jupyter-widgets/base",
      "model_module_version": "1.2.0",
      "model_name": "LayoutModel",
      "state": {}
     },
     "9bd9905846784bc8b237e6b1ea5cc92a": {
      "model_module": "@jupyter-widgets/controls",
      "model_module_version": "1.5.0",
      "model_name": "IntSliderModel",
      "state": {
       "description": "value",
       "layout": "IPY_MODEL_591b3c54a7984fc298dcb80aab4e9c80",
       "max": 7,
       "min": 1,
       "style": "IPY_MODEL_572b9fffa5a14e6fa1858cfc214e58b6",
       "value": 3
      }
     },
     "9bf14f73f0b04eb1b7814b57cd8c2439": {
      "model_module": "@jupyter-widgets/base",
      "model_module_version": "1.2.0",
      "model_name": "LayoutModel",
      "state": {}
     },
     "9c0cf9efa1154e3d8f992ee0f7cd1a7d": {
      "model_module": "@jupyter-widgets/controls",
      "model_module_version": "1.5.0",
      "model_name": "DescriptionStyleModel",
      "state": {
       "description_width": ""
      }
     },
     "9c16367664874458a94374612eb9b248": {
      "model_module": "@jupyter-widgets/controls",
      "model_module_version": "1.5.0",
      "model_name": "DescriptionStyleModel",
      "state": {
       "description_width": ""
      }
     },
     "9c51672f28084fde83f4d2dabbb178c3": {
      "model_module": "@jupyter-widgets/base",
      "model_module_version": "1.2.0",
      "model_name": "LayoutModel",
      "state": {}
     },
     "9c7b8466e8e340feb151320d1ae35860": {
      "model_module": "@jupyter-widgets/base",
      "model_module_version": "1.2.0",
      "model_name": "LayoutModel",
      "state": {}
     },
     "9ce783ec3f44497c8f06f6875c974f8b": {
      "model_module": "@jupyter-widgets/base",
      "model_module_version": "1.2.0",
      "model_name": "LayoutModel",
      "state": {}
     },
     "9d061706ffbf41e982e7f6df952182f7": {
      "model_module": "@jupyter-widgets/base",
      "model_module_version": "1.2.0",
      "model_name": "LayoutModel",
      "state": {}
     },
     "9d6be6a3893b409585f8da9214f2401d": {
      "model_module": "@jupyter-widgets/controls",
      "model_module_version": "1.5.0",
      "model_name": "ButtonModel",
      "state": {
       "description": "Add",
       "layout": "IPY_MODEL_e7029c8f593c45218835e45c08d07b99",
       "style": "IPY_MODEL_de0b48a6cb134fff9766d15989761c4a"
      }
     },
     "9d71deb7f39d4c19bde81bd5bdac01ce": {
      "model_module": "@jupyter-widgets/base",
      "model_module_version": "1.2.0",
      "model_name": "LayoutModel",
      "state": {}
     },
     "9db181b7271b4352b441e0f4f37bd23c": {
      "model_module": "pgljupyter",
      "model_module_version": "^0.1.14",
      "model_name": "IntEditorModel",
      "state": {
       "_model_module_version": "^0.1.14",
       "_view_module_version": "^0.1.14",
       "children": [
        "IPY_MODEL_44285d7230f445bf98197d64a341fe02",
        "IPY_MODEL_a3e8616ef3484652b66e586e372cf935",
        "IPY_MODEL_6fc632d1cfd8481b9c8ba384537006eb",
        "IPY_MODEL_9f5c908025a747acb5fd3bd294dfb2d5",
        "IPY_MODEL_1c12d2076c114cc18effe90b27c58098"
       ],
       "layout": "IPY_MODEL_df58d07e8a294d0fa7e7066be5191571"
      }
     },
     "9db3dcf7c0de4e979b7a513e3e5f5cca": {
      "model_module": "@jupyter-widgets/controls",
      "model_module_version": "1.5.0",
      "model_name": "FloatSliderModel",
      "state": {
       "description": "transparency",
       "layout": "IPY_MODEL_951341cbaf1647c1b78a3d6afe8b8158",
       "max": 1,
       "step": 0.1,
       "style": "IPY_MODEL_7f8de41401344dabb9b01b6451648c89"
      }
     },
     "9dded11f5a544de8be867b50bfcc065d": {
      "model_module": "pgljupyter",
      "model_module_version": "^0.1.2",
      "model_name": "_CurveEditorModel",
      "state": {
       "_model_module_version": "^0.1.2",
       "_view_module_version": "^0.1.2",
       "control_points": [
        [
         -0.5,
         0
        ],
        [
         -0.25,
         0.25
        ],
        [
         0.09999999999999998,
         -0.24545454545454548
        ],
        [
         0.5,
         0
        ]
       ],
       "curve_type": "BezierCurve2D",
       "layout": "IPY_MODEL_27b8afa3d3b7447fa483906e22e6634d"
      }
     },
     "9e81f7640e8f4efe9c6911df87f9bc06": {
      "model_module": "@jupyter-widgets/controls",
      "model_module_version": "1.5.0",
      "model_name": "DescriptionStyleModel",
      "state": {
       "description_width": ""
      }
     },
     "9ebf7b617c234218af7ba728f2d46257": {
      "model_module": "@jupyter-widgets/controls",
      "model_module_version": "1.5.0",
      "model_name": "DropdownModel",
      "state": {
       "_options_labels": [
        "leafduration",
        "leafold",
        "maxorder",
        "radinc",
        "nb_axes"
       ],
       "index": 0,
       "layout": "IPY_MODEL_6e11d8ccf94543318b7616f0c8477a37",
       "style": "IPY_MODEL_7a5b3aee649441e48ddff80092199efc"
      }
     },
     "9f247c4d28cb495a854778e40397c2d2": {
      "model_module": "@jupyter-widgets/base",
      "model_module_version": "1.2.0",
      "model_name": "LayoutModel",
      "state": {}
     },
     "9f523c556c1a4ecd9ecc999e2932fbbc": {
      "model_module": "@jupyter-widgets/controls",
      "model_module_version": "1.5.0",
      "model_name": "DescriptionStyleModel",
      "state": {
       "description_width": ""
      }
     },
     "9f5c908025a747acb5fd3bd294dfb2d5": {
      "model_module": "@jupyter-widgets/controls",
      "model_module_version": "1.5.0",
      "model_name": "IntTextModel",
      "state": {
       "description": "max",
       "layout": "IPY_MODEL_b3d224479410442194b1e9d296127e75",
       "step": 1,
       "style": "IPY_MODEL_c3bc80a9a77b4b0092ea7f621e786a19",
       "value": 7
      }
     },
     "9ff657d902b547bc986a4fc628dd6afe": {
      "model_module": "@jupyter-widgets/controls",
      "model_module_version": "1.5.0",
      "model_name": "ColorPickerModel",
      "state": {
       "description": "specular",
       "disabled": false,
       "layout": "IPY_MODEL_53f6270f491843a0b16c33aa8def5354",
       "style": "IPY_MODEL_db31d87ca5bd458cb9dc6cdc2b581278",
       "value": "#282828"
      }
     },
     "a012abcd6bc74010a12be773710adbaa": {
      "model_module": "@jupyter-widgets/controls",
      "model_module_version": "1.5.0",
      "model_name": "BoundedIntTextModel",
      "state": {
       "description": "step",
       "layout": "IPY_MODEL_a7032f292a0342ee971f1f7e97fa91aa",
       "min": 1,
       "style": "IPY_MODEL_f1b9ba91cef44e479644b35df0a07274",
       "value": 1
      }
     },
     "a0210880ef26449bb40373ad5494792c": {
      "model_module": "@jupyter-widgets/base",
      "model_module_version": "1.2.0",
      "model_name": "LayoutModel",
      "state": {}
     },
     "a08868ee98f64737a3e282aeb5e9669c": {
      "model_module": "@jupyter-widgets/controls",
      "model_module_version": "1.5.0",
      "model_name": "SliderStyleModel",
      "state": {
       "description_width": ""
      }
     },
     "a089aeec89724239b6aca2b404740c1a": {
      "model_module": "@jupyter-widgets/controls",
      "model_module_version": "1.5.0",
      "model_name": "TextModel",
      "state": {
       "continuous_update": false,
       "description": "name",
       "layout": "IPY_MODEL_47214f6427f7418fbaf69a73417a8a32",
       "style": "IPY_MODEL_8cf47a3dc0f145878200852cb8e2324d",
       "value": "Polyline2D_2"
      }
     },
     "a0da1a97ad364133b23633c7924c8382": {
      "model_module": "@jupyter-widgets/controls",
      "model_module_version": "1.5.0",
      "model_name": "DropdownModel",
      "state": {
       "_options_labels": [
        "Color"
       ],
       "index": 0,
       "layout": "IPY_MODEL_7648ce6823ed4b309447f2f29b6af72b",
       "style": "IPY_MODEL_789bdbd0a60b48409d2c13fe0b83d44f"
      }
     },
     "a0e11695f24944bf94fad5b77ca3bcf3": {
      "model_module": "@jupyter-widgets/base",
      "model_module_version": "1.2.0",
      "model_name": "LayoutModel",
      "state": {}
     },
     "a0eb9b213db94887a716ff41a5edf851": {
      "model_module": "@jupyter-widgets/controls",
      "model_module_version": "1.5.0",
      "model_name": "DescriptionStyleModel",
      "state": {
       "description_width": ""
      }
     },
     "a129fee5fb204685b9447aa4f41bcb91": {
      "model_module": "@jupyter-widgets/controls",
      "model_module_version": "1.5.0",
      "model_name": "DescriptionStyleModel",
      "state": {
       "description_width": ""
      }
     },
     "a181f8277527484f82f484b081a7ac2c": {
      "model_module": "@jupyter-widgets/controls",
      "model_module_version": "1.5.0",
      "model_name": "FloatSliderModel",
      "state": {
       "description": "shininess",
       "layout": "IPY_MODEL_d9fa64f9080840b4a4fcc76aa6cfd4ba",
       "max": 1,
       "step": 0.1,
       "style": "IPY_MODEL_0e05773846dd43f0a96847656f764a7b",
       "value": 0.5
      }
     },
     "a190af397e0f4f46aeea69950b5d083b": {
      "model_module": "@jupyter-widgets/controls",
      "model_module_version": "1.5.0",
      "model_name": "TextModel",
      "state": {
       "layout": "IPY_MODEL_c6ad612c926543f7b21ea0b593cf326e",
       "placeholder": "category name",
       "style": "IPY_MODEL_03b8f58d0d4748bc8c70bc4cbd010c81"
      }
     },
     "a1b5f9ced38f46e9b91b625024aaf0c5": {
      "buffers": [
       {
        "data": "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",
        "encoding": "base64",
        "path": [
         "scene",
         "data"
        ]
       }
      ],
      "model_module": "pgljupyter",
      "model_module_version": "^0.1.14",
      "model_name": "LsystemWidgetModel",
      "state": {
       "_model_module_version": "^0.1.14",
       "_view_module_version": "^0.1.14",
       "axes_helper": false,
       "derivationLength": 41,
       "layout": "IPY_MODEL_2e6ef9314d67449c8deb0a7297c93ab3",
       "light_helper": false,
       "plane": true,
       "scene": {
        "derivationStep": 40,
        "id": 40,
        "scene": "<openalea.plantgl.scenegraph._pglsg.Scene object at 0x7f331db10670>"
       },
       "size_display": [
        400,
        400
       ],
       "size_world": 50
      }
     },
     "a1c5657c57dd4420947b7a9efdc5fd3e": {
      "model_module": "@jupyter-widgets/base",
      "model_module_version": "1.2.0",
      "model_name": "LayoutModel",
      "state": {}
     },
     "a1efa36e0b01442da3c74bf7f3c75557": {
      "model_module": "@jupyter-widgets/controls",
      "model_module_version": "1.5.0",
      "model_name": "HBoxModel",
      "state": {
       "children": [
        "IPY_MODEL_56fd1fd2e814475eb612902882576a7b",
        "IPY_MODEL_7d0aa3defdad47d7902e5aa71a0cc6f8",
        "IPY_MODEL_72b92e3f68504ee5bfa8a858755f2904"
       ],
       "layout": "IPY_MODEL_4919409bbefe4b55b628a112688032dd"
      }
     },
     "a20b73a02aa64f1aa2635be402379fd2": {
      "model_module": "@jupyter-widgets/controls",
      "model_module_version": "1.5.0",
      "model_name": "ButtonModel",
      "state": {
       "description": "Delete",
       "layout": "IPY_MODEL_2136a52566524809a3c3b6695553bde5",
       "style": "IPY_MODEL_e83dc2353dde47c89a318c26129fe28f"
      }
     },
     "a20e2dbbc07b4e4b9085d82841a24a03": {
      "model_module": "@jupyter-widgets/controls",
      "model_module_version": "1.5.0",
      "model_name": "DescriptionStyleModel",
      "state": {
       "description_width": ""
      }
     },
     "a22da95bced94b0ea758d979b05c4357": {
      "model_module": "@jupyter-widgets/controls",
      "model_module_version": "1.5.0",
      "model_name": "TextModel",
      "state": {
       "continuous_update": false,
       "description": "name",
       "layout": "IPY_MODEL_6655a1fa38d14dc0990e87852b5b4bda",
       "style": "IPY_MODEL_406c4f5fcf9a45b7be0a39dfef3ec4cb",
       "value": "color_2"
      }
     },
     "a2abd3ec2fca4609bcee49dddfbc868d": {
      "model_module": "@jupyter-widgets/base",
      "model_module_version": "1.2.0",
      "model_name": "LayoutModel",
      "state": {
       "margin": "20px 0px"
      }
     },
     "a3021cfb00c34844be2cc4431cd9b620": {
      "model_module": "@jupyter-widgets/controls",
      "model_module_version": "1.5.0",
      "model_name": "HBoxModel",
      "state": {
       "children": [
        "IPY_MODEL_4fdb3bdbb0884b1b9b70d74186e0ee51",
        "IPY_MODEL_344c460570104014b79dad6a65f1bc15",
        "IPY_MODEL_bd918bcabb7b410f9fbcbc61aac64b22",
        "IPY_MODEL_cd2d35d7469f4efdbbe25618df80a599"
       ],
       "layout": "IPY_MODEL_fdc392c7cf9844a2b7daa72c52be63a0"
      }
     },
     "a3715a6606264b1385e17c255e8e7b7d": {
      "model_module": "@jupyter-widgets/base",
      "model_module_version": "1.2.0",
      "model_name": "LayoutModel",
      "state": {}
     },
     "a394a4809f7e46e99c7060e9050094ba": {
      "model_module": "pgljupyter",
      "model_module_version": "^0.1.14",
      "model_name": "MaterialEditorModel",
      "state": {
       "_model_module_version": "^0.1.14",
       "_view_module_version": "^0.1.14",
       "children": [
        "IPY_MODEL_77c5487882eb4763a09bbeab234f0123",
        "IPY_MODEL_b5e60a6347b3449f91b071f338336469",
        "IPY_MODEL_7729d9315d7748298125e0baab4aba88",
        "IPY_MODEL_39315f2410f14e9294c5a154543f6ae9",
        "IPY_MODEL_aa15607f4ae340169fc7bf77525b6075",
        "IPY_MODEL_7b2d939afa8b479993e42340a13c22b4",
        "IPY_MODEL_1ad9140c1875480d863b5acb4704479b"
       ],
       "layout": "IPY_MODEL_d5a4b1a1337c4f988951f8e89f721b21"
      }
     },
     "a3db6e2b61f04f2c9ec6de7408f07917": {
      "model_module": "@jupyter-widgets/base",
      "model_module_version": "1.2.0",
      "model_name": "LayoutModel",
      "state": {}
     },
     "a3e8616ef3484652b66e586e372cf935": {
      "model_module": "@jupyter-widgets/controls",
      "model_module_version": "1.5.0",
      "model_name": "IntSliderModel",
      "state": {
       "description": "value",
       "layout": "IPY_MODEL_928bf1d863cd4c3d85d3366fa681a4d0",
       "max": 7,
       "min": 1,
       "style": "IPY_MODEL_c14e13ed098c4bf6850d070eab738e5e",
       "value": 3
      }
     },
     "a3f16a6cbca94073ba02caf0836ffa22": {
      "model_module": "@jupyter-widgets/controls",
      "model_module_version": "1.5.0",
      "model_name": "IntTextModel",
      "state": {
       "description": "max",
       "layout": "IPY_MODEL_751d8cfde9de463ca66613cc8a84cff9",
       "step": 1,
       "style": "IPY_MODEL_fec716c199b242e0a5c931895ec485ac",
       "value": 10
      }
     },
     "a48d0b634a9545879f969cffc6d24b13": {
      "model_module": "@jupyter-widgets/controls",
      "model_module_version": "1.5.0",
      "model_name": "DescriptionStyleModel",
      "state": {
       "description_width": ""
      }
     },
     "a4e9e5b5bf4c4bf3a00c49b819e7d1f8": {
      "model_module": "pgljupyter",
      "model_module_version": "^0.1.2",
      "model_name": "_CurveEditorModel",
      "state": {
       "_model_module_version": "^0.1.2",
       "_view_module_version": "^0.1.2",
       "control_points": [
        [
         -0.5,
         0
        ],
        [
         -0.25,
         0.25
        ],
        [
         0.25,
         -0.25
        ],
        [
         0.5,
         0
        ]
       ],
       "curve_type": "BezierCurve2D",
       "layout": "IPY_MODEL_c35deb0d32c14e22aa1a65baa1a7913e"
      }
     },
     "a4fa7ee9cac145eeaefbeb889426714b": {
      "model_module": "@jupyter-widgets/controls",
      "model_module_version": "1.5.0",
      "model_name": "HBoxModel",
      "state": {
       "children": [
        "IPY_MODEL_73df2c6eb8684e3e8dcd2a48cb263e44",
        "IPY_MODEL_a9a81efb6b904f15a06869cb88fe2660"
       ],
       "layout": "IPY_MODEL_1bcadc721303432abe9c782e04d39bdb"
      }
     },
     "a5b19a4d1f704db9af915e12ec2ced02": {
      "model_module": "@jupyter-widgets/base",
      "model_module_version": "1.2.0",
      "model_name": "LayoutModel",
      "state": {}
     },
     "a5b43622c08f430fa687e80bb00d1299": {
      "model_module": "@jupyter-widgets/controls",
      "model_module_version": "1.5.0",
      "model_name": "TextModel",
      "state": {
       "continuous_update": false,
       "description": "name",
       "layout": "IPY_MODEL_88798602d5504c9aaa7f098f2ba700a6",
       "style": "IPY_MODEL_8439c9e53b6b4164b3ca468f9cc930d2",
       "value": "color_2"
      }
     },
     "a5cb51dbbce1400eae12508087a76361": {
      "model_module": "@jupyter-widgets/controls",
      "model_module_version": "1.5.0",
      "model_name": "DescriptionStyleModel",
      "state": {
       "description_width": ""
      }
     },
     "a5e6cb9ccab74844b1a7f7ff16c4b40d": {
      "model_module": "@jupyter-widgets/controls",
      "model_module_version": "1.5.0",
      "model_name": "DescriptionStyleModel",
      "state": {
       "description_width": ""
      }
     },
     "a66d925434884203a2d16ec0b78649fa": {
      "model_module": "@jupyter-widgets/base",
      "model_module_version": "1.2.0",
      "model_name": "LayoutModel",
      "state": {}
     },
     "a68b7fc99f404294906f8f19e3fbcf4a": {
      "model_module": "@jupyter-widgets/base",
      "model_module_version": "1.2.0",
      "model_name": "LayoutModel",
      "state": {}
     },
     "a6b539cc15804907989b197d4b2cbdbe": {
      "model_module": "@jupyter-widgets/base",
      "model_module_version": "1.2.0",
      "model_name": "LayoutModel",
      "state": {}
     },
     "a6befcf863454381b47e53dc980c2920": {
      "model_module": "@jupyter-widgets/base",
      "model_module_version": "1.2.0",
      "model_name": "LayoutModel",
      "state": {}
     },
     "a6f916165dd04f2081284a6f756f7d03": {
      "model_module": "@jupyter-widgets/base",
      "model_module_version": "1.2.0",
      "model_name": "LayoutModel",
      "state": {
       "margin": "20px 0px"
      }
     },
     "a7032f292a0342ee971f1f7e97fa91aa": {
      "model_module": "@jupyter-widgets/base",
      "model_module_version": "1.2.0",
      "model_name": "LayoutModel",
      "state": {}
     },
     "a738593252204a498e2380d3e629bc1e": {
      "model_module": "@jupyter-widgets/base",
      "model_module_version": "1.2.0",
      "model_name": "LayoutModel",
      "state": {}
     },
     "a760a9622c8243c3b985b4c992cfd505": {
      "model_module": "@jupyter-widgets/controls",
      "model_module_version": "1.5.0",
      "model_name": "ButtonStyleModel",
      "state": {}
     },
     "a76b498b5d11439291fcd0c672943363": {
      "model_module": "@jupyter-widgets/controls",
      "model_module_version": "1.5.0",
      "model_name": "IntTextModel",
      "state": {
       "description": "max",
       "layout": "IPY_MODEL_f2909bc6d4ee462c956bfd2358ba855f",
       "step": 1,
       "style": "IPY_MODEL_e1d8481c897f4febb51664392ed71944",
       "value": 10
      }
     },
     "a76bae76a03543469d6f1e10f6d263cb": {
      "model_module": "@jupyter-widgets/base",
      "model_module_version": "1.2.0",
      "model_name": "LayoutModel",
      "state": {}
     },
     "a7a1a0e06ab8458e8a7a1156342615ba": {
      "model_module": "@jupyter-widgets/controls",
      "model_module_version": "1.5.0",
      "model_name": "ColorPickerModel",
      "state": {
       "description": "emission",
       "disabled": false,
       "layout": "IPY_MODEL_47a0a6cf6ba74bd2a755cd7fb7f79fbd",
       "style": "IPY_MODEL_1c3d38ee1f964fde95a7170d37019f06",
       "value": "#000000"
      }
     },
     "a7a8b5c3470447899106f38cf7d60475": {
      "model_module": "@jupyter-widgets/base",
      "model_module_version": "1.2.0",
      "model_name": "LayoutModel",
      "state": {}
     },
     "a84c14a67ee845cd8c615ce128d6aaae": {
      "model_module": "@jupyter-widgets/controls",
      "model_module_version": "1.5.0",
      "model_name": "SliderStyleModel",
      "state": {
       "description_width": ""
      }
     },
     "a86058cee658486fb13a7beca648314b": {
      "model_module": "@jupyter-widgets/controls",
      "model_module_version": "1.5.0",
      "model_name": "DropdownModel",
      "state": {
       "index": null,
       "layout": "IPY_MODEL_41a9495cc0b44ca9985500a41664b57b",
       "style": "IPY_MODEL_af0a704ee4c24337bbfb456cb197479e"
      }
     },
     "a87b550ba97246eabb2a2332372e8cb5": {
      "model_module": "@jupyter-widgets/controls",
      "model_module_version": "1.5.0",
      "model_name": "TextModel",
      "state": {
       "continuous_update": false,
       "description": "name",
       "layout": "IPY_MODEL_bca8e12aa85b43d199fddf7fd3c74ae8",
       "style": "IPY_MODEL_7faa1f82e8654be1a5b9b8f2a4aeda47",
       "value": "NurbsCurve2D_0"
      }
     },
     "a8fd500864cb4891bf6ee0c6efef290e": {
      "model_module": "@jupyter-widgets/base",
      "model_module_version": "1.2.0",
      "model_name": "LayoutModel",
      "state": {}
     },
     "a91469a2c4e9407db0966ebd0b17cd0c": {
      "model_module": "@jupyter-widgets/controls",
      "model_module_version": "1.5.0",
      "model_name": "SliderStyleModel",
      "state": {
       "description_width": ""
      }
     },
     "a92de081e50c476496f3c9802b37b1a6": {
      "model_module": "@jupyter-widgets/controls",
      "model_module_version": "1.5.0",
      "model_name": "ButtonModel",
      "state": {
       "description": "Add",
       "layout": "IPY_MODEL_bf9041858b814903a58aa446f72e476b",
       "style": "IPY_MODEL_4b64ee9c6a43480d901f5465b9f72678"
      }
     },
     "a95a95b9099e4f979166e656f93776ee": {
      "model_module": "@jupyter-widgets/controls",
      "model_module_version": "1.5.0",
      "model_name": "HBoxModel",
      "state": {
       "layout": "IPY_MODEL_1aaed1264b7e4af38e5dfa20e770f4aa"
      }
     },
     "a971f194088a4a4e858765df3db9ae8c": {
      "model_module": "pgljupyter",
      "model_module_version": "^0.1.2",
      "model_name": "IntEditorModel",
      "state": {
       "_model_module_version": "^0.1.2",
       "_view_module_version": "^0.1.2",
       "children": [
        "IPY_MODEL_966bb16d1bfb45d88640e227702886a8",
        "IPY_MODEL_68e4bdf17af9497eb7aa9c99b80ac715",
        "IPY_MODEL_52cf68e476164b149a0ae8a47536c3d5",
        "IPY_MODEL_4f287b2a341448d9a798e24f4f22f436",
        "IPY_MODEL_427d650961a94ebc940f5d364721d046"
       ],
       "layout": "IPY_MODEL_1786a5b630e24873893aa84cb0714b47"
      }
     },
     "a9a81efb6b904f15a06869cb88fe2660": {
      "model_module": "@jupyter-widgets/controls",
      "model_module_version": "1.5.0",
      "model_name": "HBoxModel",
      "state": {
       "children": [
        "IPY_MODEL_70972b2e88b34ba6b003969d33df59c3",
        "IPY_MODEL_9ebf7b617c234218af7ba728f2d46257"
       ],
       "layout": "IPY_MODEL_ffda3c9b61de46869c7716efaf6f4d94"
      }
     },
     "a9baac29908349669249c48305c9d374": {
      "model_module": "@jupyter-widgets/base",
      "model_module_version": "1.2.0",
      "model_name": "LayoutModel",
      "state": {}
     },
     "a9d9270dee474b0897f2b76e239d91ef": {
      "model_module": "@jupyter-widgets/base",
      "model_module_version": "1.2.0",
      "model_name": "LayoutModel",
      "state": {}
     },
     "aa15607f4ae340169fc7bf77525b6075": {
      "model_module": "@jupyter-widgets/controls",
      "model_module_version": "1.5.0",
      "model_name": "ColorPickerModel",
      "state": {
       "description": "emission",
       "disabled": false,
       "layout": "IPY_MODEL_e4ed2a8cf83f4a3f8f4c15b9e43983af",
       "style": "IPY_MODEL_6acfc62982814cd49fffa4d2886d0761",
       "value": "#000000"
      }
     },
     "aa5bb824fdb14cf4b6208c7625b7eee4": {
      "model_module": "@jupyter-widgets/base",
      "model_module_version": "1.2.0",
      "model_name": "LayoutModel",
      "state": {}
     },
     "aa6f5555faa44f4db554da680a607f63": {
      "model_module": "@jupyter-widgets/controls",
      "model_module_version": "1.5.0",
      "model_name": "ColorPickerModel",
      "state": {
       "description": "specular",
       "disabled": false,
       "layout": "IPY_MODEL_a3db6e2b61f04f2c9ec6de7408f07917",
       "style": "IPY_MODEL_f571b090508244a7b467737c415e2fad",
       "value": "#478f9f"
      }
     },
     "aa7c73dab4c545fe9da210d0936d71ea": {
      "model_module": "@jupyter-widgets/controls",
      "model_module_version": "1.5.0",
      "model_name": "DescriptionStyleModel",
      "state": {
       "description_width": ""
      }
     },
     "aa93ebe5f3724dc68c642492005612b9": {
      "model_module": "@jupyter-widgets/controls",
      "model_module_version": "1.5.0",
      "model_name": "IntTextModel",
      "state": {
       "description": "min",
       "layout": "IPY_MODEL_d99be6308dbb4e52b17a52b5673e464c",
       "step": 1,
       "style": "IPY_MODEL_d28cf98e61a04f9898b7af2e4bd9189c",
       "value": 1
      }
     },
     "aaf44ccfe11a475080cbf66f9f2f4a8e": {
      "model_module": "@jupyter-widgets/controls",
      "model_module_version": "1.5.0",
      "model_name": "FloatTextModel",
      "state": {
       "description": "max",
       "layout": "IPY_MODEL_c67c734b0758494aac08caae5fd90d3d",
       "step": null,
       "style": "IPY_MODEL_0e561db39e6d403fab220679e082dae5",
       "value": 0.1
      }
     },
     "ab025d81fa764c8aa87ff6d432656adf": {
      "model_module": "@jupyter-widgets/controls",
      "model_module_version": "1.5.0",
      "model_name": "SliderStyleModel",
      "state": {
       "description_width": ""
      }
     },
     "ab0ba13d49e44f81b2dbd8ef218fc16b": {
      "model_module": "@jupyter-widgets/controls",
      "model_module_version": "1.5.0",
      "model_name": "DescriptionStyleModel",
      "state": {
       "description_width": ""
      }
     },
     "ab842bdc36b84649bdf23c718ad661b1": {
      "model_module": "@jupyter-widgets/base",
      "model_module_version": "1.2.0",
      "model_name": "LayoutModel",
      "state": {}
     },
     "ab9f0e6d00d74bc594f608b5d3037e65": {
      "model_module": "pgljupyter",
      "model_module_version": "^0.1.2",
      "model_name": "CurveEditorModel",
      "state": {
       "_model_module_version": "^0.1.2",
       "_view_module_version": "^0.1.2",
       "children": [
        "IPY_MODEL_623430f9ad264a569f56254963833d42",
        "IPY_MODEL_4db88b4aa5fb42a5b872196a8c76eb37"
       ],
       "layout": "IPY_MODEL_b4a5d81b90c74f3eb364ea05b146719e"
      }
     },
     "aba6237376814db3825fb7a05b492cc1": {
      "model_module": "@jupyter-widgets/base",
      "model_module_version": "1.2.0",
      "model_name": "LayoutModel",
      "state": {}
     },
     "abdee7edd55249719f1a4066ecbd2150": {
      "model_module": "@jupyter-widgets/controls",
      "model_module_version": "1.5.0",
      "model_name": "IntTextModel",
      "state": {
       "description": "min",
       "layout": "IPY_MODEL_89fc6b596d6c4c578cd11a671c085644",
       "step": 1,
       "style": "IPY_MODEL_4acdde3cfbf843c8afbee44ec9794ebd",
       "value": 1
      }
     },
     "abf78bc88b79468b8725660268e79352": {
      "model_module": "@jupyter-widgets/controls",
      "model_module_version": "1.5.0",
      "model_name": "HBoxModel",
      "state": {
       "layout": "IPY_MODEL_fdc392c7cf9844a2b7daa72c52be63a0"
      }
     },
     "ac11ecf003394e96b2227d751ad7d1b9": {
      "model_module": "@jupyter-widgets/controls",
      "model_module_version": "1.5.0",
      "model_name": "TextModel",
      "state": {
       "continuous_update": false,
       "description": "name",
       "layout": "IPY_MODEL_6fd435da494e4788b2340331b704c70e",
       "style": "IPY_MODEL_6c376598cf884f69ac27c0f80c3af2d6",
       "value": "color_4"
      }
     },
     "ac41cf70afd04e33b260be8bd483f310": {
      "model_module": "@jupyter-widgets/controls",
      "model_module_version": "1.5.0",
      "model_name": "ButtonModel",
      "state": {
       "description": "Add",
       "layout": "IPY_MODEL_cfbecb2c7a9b44b5b54e471e21bb5013",
       "style": "IPY_MODEL_5a2e5528074949ac9f2d0bd4dfa6342a"
      }
     },
     "aca6b402cb5e487192c6f29eaf19b583": {
      "model_module": "@jupyter-widgets/controls",
      "model_module_version": "1.5.0",
      "model_name": "IntSliderModel",
      "state": {
       "description": "value",
       "layout": "IPY_MODEL_0584709e6b43421cac48ecdf7b92801e",
       "max": 10,
       "min": 1,
       "style": "IPY_MODEL_1fafc7f599424b7e8f7a15a3d0aafb6a",
       "value": 3
      }
     },
     "acc99657a447459fb7ad63d61ff18c6d": {
      "model_module": "@jupyter-widgets/controls",
      "model_module_version": "1.5.0",
      "model_name": "ColorPickerModel",
      "state": {
       "description": "specular",
       "disabled": false,
       "layout": "IPY_MODEL_2c57289cdf1c49ea9d82954b2c37a542",
       "style": "IPY_MODEL_14a44227159b47778c370ebd1c39ce7d",
       "value": "#478f9f"
      }
     },
     "ad8a030a3fcc472689e91a373593e67a": {
      "model_module": "@jupyter-widgets/base",
      "model_module_version": "1.2.0",
      "model_name": "LayoutModel",
      "state": {}
     },
     "ad94bfff93e04101a47bfab77c5253cf": {
      "model_module": "@jupyter-widgets/base",
      "model_module_version": "1.2.0",
      "model_name": "LayoutModel",
      "state": {}
     },
     "ada6219a139e4a9d814db5c5ba74a114": {
      "model_module": "@jupyter-widgets/base",
      "model_module_version": "1.2.0",
      "model_name": "LayoutModel",
      "state": {}
     },
     "ae7c5771004247ee9c8be8424303a978": {
      "model_module": "@jupyter-widgets/controls",
      "model_module_version": "1.5.0",
      "model_name": "DescriptionStyleModel",
      "state": {
       "description_width": ""
      }
     },
     "ae863b42db2c40eeaa8a064f1de6d54e": {
      "model_module": "@jupyter-widgets/base",
      "model_module_version": "1.2.0",
      "model_name": "LayoutModel",
      "state": {}
     },
     "aea1d0cbebf84d70ad94fd9b58353cdc": {
      "model_module": "@jupyter-widgets/base",
      "model_module_version": "1.2.0",
      "model_name": "LayoutModel",
      "state": {}
     },
     "aeaf1361f90748f78e6b1f091cf6e50e": {
      "model_module": "@jupyter-widgets/base",
      "model_module_version": "1.2.0",
      "model_name": "LayoutModel",
      "state": {}
     },
     "aeb91fa0b8734177b8d24b6923d62633": {
      "model_module": "@jupyter-widgets/base",
      "model_module_version": "1.2.0",
      "model_name": "LayoutModel",
      "state": {}
     },
     "aed6ac227b8f4daf8ad908b7f8fa98f3": {
      "model_module": "@jupyter-widgets/controls",
      "model_module_version": "1.5.0",
      "model_name": "DropdownModel",
      "state": {
       "_options_labels": [
        "leafduration",
        "leafold",
        "maxorder",
        "radinc"
       ],
       "index": 0,
       "layout": "IPY_MODEL_b33f3cfa85a5426f8cc43e30755f6cb2",
       "style": "IPY_MODEL_7f9d5e5a52b14a618ba808a1e81f5e6c"
      }
     },
     "aef7e904684f43a8b6c25721b13dcde7": {
      "model_module": "@jupyter-widgets/base",
      "model_module_version": "1.2.0",
      "model_name": "LayoutModel",
      "state": {}
     },
     "af0a704ee4c24337bbfb456cb197479e": {
      "model_module": "@jupyter-widgets/controls",
      "model_module_version": "1.5.0",
      "model_name": "DescriptionStyleModel",
      "state": {
       "description_width": ""
      }
     },
     "af3693c497854f00a5f5bf1ffa333511": {
      "model_module": "@jupyter-widgets/base",
      "model_module_version": "1.2.0",
      "model_name": "LayoutModel",
      "state": {}
     },
     "afd9593ec0b84617b0ed87c718ceb620": {
      "model_module": "@jupyter-widgets/controls",
      "model_module_version": "1.5.0",
      "model_name": "FloatSliderModel",
      "state": {
       "description": "value",
       "layout": "IPY_MODEL_9a4d28e6d7344830967b6574699ba3f3",
       "max": 0.1,
       "min": 0.01,
       "step": 0.01,
       "style": "IPY_MODEL_2bca4224925b40e1bfb042986738be02",
       "value": 0.04
      }
     },
     "b0640f81165841e19fa32c937422c2a4": {
      "model_module": "@jupyter-widgets/base",
      "model_module_version": "1.2.0",
      "model_name": "LayoutModel",
      "state": {}
     },
     "b0c4b4c1dd984e44aaa7bb43a9eaa03f": {
      "model_module": "@jupyter-widgets/base",
      "model_module_version": "1.2.0",
      "model_name": "LayoutModel",
      "state": {}
     },
     "b0e428650bcd4920989735f0790ab5a4": {
      "model_module": "@jupyter-widgets/controls",
      "model_module_version": "1.5.0",
      "model_name": "HBoxModel",
      "state": {
       "children": [
        "IPY_MODEL_f38ce8becd2f403f81f14f057115a3b5",
        "IPY_MODEL_7e460e2c624a46e587a98cece718fc66",
        "IPY_MODEL_593c45add93e470fa160defc86ae8503",
        "IPY_MODEL_5e191573a5924d1887ed7d21c6786fdf"
       ],
       "layout": "IPY_MODEL_bbd47564228f4942bcd590a50a8e0bdb"
      }
     },
     "b139e2d1758644fabc8d862eb9e6e9ed": {
      "model_module": "@jupyter-widgets/controls",
      "model_module_version": "1.5.0",
      "model_name": "ButtonStyleModel",
      "state": {}
     },
     "b1bd5bda1f924269b6906dd5b73f60f1": {
      "model_module": "@jupyter-widgets/controls",
      "model_module_version": "1.5.0",
      "model_name": "SliderStyleModel",
      "state": {
       "description_width": ""
      }
     },
     "b1cb0ecc984d47b5b601ac5ead5fda5d": {
      "model_module": "@jupyter-widgets/controls",
      "model_module_version": "1.5.0",
      "model_name": "ColorPickerModel",
      "state": {
       "description": "emission",
       "disabled": false,
       "layout": "IPY_MODEL_5d943e0e9e654ffd89088143a379e75e",
       "style": "IPY_MODEL_6a29a2123883407c9f1782ab4ccc29a2",
       "value": "#1f48db"
      }
     },
     "b1cb4ff3cba944be84994facb1138eb0": {
      "model_module": "@jupyter-widgets/base",
      "model_module_version": "1.2.0",
      "model_name": "LayoutModel",
      "state": {}
     },
     "b21f74bd92b84e09bf6f607288d6ca02": {
      "model_module": "@jupyter-widgets/controls",
      "model_module_version": "1.5.0",
      "model_name": "FloatSliderModel",
      "state": {
       "description": "transparency",
       "layout": "IPY_MODEL_10893dfae19b4de6a2046bb69cc1f99d",
       "max": 1,
       "step": 0.1,
       "style": "IPY_MODEL_f79cbb65addd4b239b22ebb3e4edaceb"
      }
     },
     "b22403f438214a4b8f36317185bdab34": {
      "model_module": "@jupyter-widgets/controls",
      "model_module_version": "1.5.0",
      "model_name": "FloatSliderModel",
      "state": {
       "description": "transparency",
       "layout": "IPY_MODEL_e4bda8110a6f4eb5951c91a6a55e12fc",
       "max": 1,
       "step": 0.1,
       "style": "IPY_MODEL_a91469a2c4e9407db0966ebd0b17cd0c",
       "value": 1
      }
     },
     "b25daccebff14d03b80eed1aa3954352": {
      "model_module": "@jupyter-widgets/base",
      "model_module_version": "1.2.0",
      "model_name": "LayoutModel",
      "state": {}
     },
     "b25e2955a34f4430becede98d6b4bc0e": {
      "model_module": "@jupyter-widgets/base",
      "model_module_version": "1.2.0",
      "model_name": "LayoutModel",
      "state": {
       "margin": "20px 0px"
      }
     },
     "b2f63634bfd94d23a4133da2a39d0f87": {
      "model_module": "@jupyter-widgets/base",
      "model_module_version": "1.2.0",
      "model_name": "LayoutModel",
      "state": {}
     },
     "b33f3cfa85a5426f8cc43e30755f6cb2": {
      "model_module": "@jupyter-widgets/base",
      "model_module_version": "1.2.0",
      "model_name": "LayoutModel",
      "state": {}
     },
     "b37521b60a7647d9899e3d42829b78ef": {
      "model_module": "@jupyter-widgets/base",
      "model_module_version": "1.2.0",
      "model_name": "LayoutModel",
      "state": {}
     },
     "b39464d608c9476b884a194019aeea92": {
      "model_module": "@jupyter-widgets/controls",
      "model_module_version": "1.5.0",
      "model_name": "SliderStyleModel",
      "state": {
       "description_width": ""
      }
     },
     "b3d224479410442194b1e9d296127e75": {
      "model_module": "@jupyter-widgets/base",
      "model_module_version": "1.2.0",
      "model_name": "LayoutModel",
      "state": {}
     },
     "b48db2e5fcaa41a3b57d77147d5c6ee4": {
      "model_module": "@jupyter-widgets/base",
      "model_module_version": "1.2.0",
      "model_name": "LayoutModel",
      "state": {}
     },
     "b4a5d81b90c74f3eb364ea05b146719e": {
      "model_module": "@jupyter-widgets/base",
      "model_module_version": "1.2.0",
      "model_name": "LayoutModel",
      "state": {
       "margin": "20px 0px"
      }
     },
     "b4c6640b003145ab863dc22afc0d6b9e": {
      "model_module": "pgljupyter",
      "model_module_version": "^0.1.2",
      "model_name": "IntEditorModel",
      "state": {
       "_model_module_version": "^0.1.2",
       "_view_module_version": "^0.1.2",
       "children": [
        "IPY_MODEL_0a2938deb20642c5988031f8dc64848d",
        "IPY_MODEL_24445bf8451e470e934c4470d4f8e0a7",
        "IPY_MODEL_4c8db41d749847e5a3305abcaf3731a3",
        "IPY_MODEL_5e420e22516544c99e03c561351caa77",
        "IPY_MODEL_5be4664a6e1f4328bbc274b21c1c5c15"
       ],
       "layout": "IPY_MODEL_2501c08878e54350abc0a9ac884118f1"
      }
     },
     "b59c29281333436899408f2669df3b50": {
      "model_module": "@jupyter-widgets/base",
      "model_module_version": "1.2.0",
      "model_name": "LayoutModel",
      "state": {}
     },
     "b5ccc25be6cb483bbe8c790ab85792d5": {
      "model_module": "@jupyter-widgets/controls",
      "model_module_version": "1.5.0",
      "model_name": "SliderStyleModel",
      "state": {
       "description_width": ""
      }
     },
     "b5e60a6347b3449f91b071f338336469": {
      "model_module": "@jupyter-widgets/controls",
      "model_module_version": "1.5.0",
      "model_name": "BoundedIntTextModel",
      "state": {
       "description": "index",
       "layout": "IPY_MODEL_7e6cd9f3d4774f2a8db233e3574f2d46",
       "style": "IPY_MODEL_7b4fab502eb240a5a01f3789709c84a7",
       "value": 1
      }
     },
     "b60867a053c74a80a3f7d34c47d27946": {
      "model_module": "@jupyter-widgets/base",
      "model_module_version": "1.2.0",
      "model_name": "LayoutModel",
      "state": {}
     },
     "b6648dd35f9448fc8d6cfd44efbdc5c5": {
      "model_module": "@jupyter-widgets/controls",
      "model_module_version": "1.5.0",
      "model_name": "HBoxModel",
      "state": {
       "children": [
        "IPY_MODEL_a92de081e50c476496f3c9802b37b1a6",
        "IPY_MODEL_b76a98a7e2324f6fb6a20f6e4b7a1fbd",
        "IPY_MODEL_11c65fd9468f412f9b63e9f47a99b801",
        "IPY_MODEL_5bb3e8d0cda8438b902ddf054f47aca2"
       ],
       "layout": "IPY_MODEL_2c758a39f7fc445fb36328a5392bc3cb"
      }
     },
     "b667c2ac1f16455daba01fec1e350f9a": {
      "model_module": "@jupyter-widgets/controls",
      "model_module_version": "1.5.0",
      "model_name": "ButtonStyleModel",
      "state": {}
     },
     "b68cdefd785942a1917c99c36362d78d": {
      "model_module": "@jupyter-widgets/base",
      "model_module_version": "1.2.0",
      "model_name": "LayoutModel",
      "state": {}
     },
     "b68eb2858dea4541b4543e7f82a86952": {
      "model_module": "@jupyter-widgets/controls",
      "model_module_version": "1.5.0",
      "model_name": "IntTextModel",
      "state": {
       "description": "max",
       "layout": "IPY_MODEL_fd0abaa1c37f4431b5d5a18b4c3a0ec0",
       "step": 1,
       "style": "IPY_MODEL_cb1ed0f6320b4333aa7297d8a7ce168f",
       "value": 10
      }
     },
     "b6fac6ee8b314c10a5156acd259cdf9e": {
      "model_module": "@jupyter-widgets/controls",
      "model_module_version": "1.5.0",
      "model_name": "FloatSliderModel",
      "state": {
       "description": "shininess",
       "layout": "IPY_MODEL_d0b7820ad886441a910a69125aae845b",
       "max": 1,
       "step": 0.1,
       "style": "IPY_MODEL_d73cf1873c014373bc2c1fe5aecbf45f",
       "value": 0.5
      }
     },
     "b7601ada32964215b08802b99d20b892": {
      "model_module": "@jupyter-widgets/controls",
      "model_module_version": "1.5.0",
      "model_name": "DescriptionStyleModel",
      "state": {
       "description_width": ""
      }
     },
     "b76a98a7e2324f6fb6a20f6e4b7a1fbd": {
      "model_module": "@jupyter-widgets/controls",
      "model_module_version": "1.5.0",
      "model_name": "DropdownModel",
      "state": {
       "_options_labels": [
        "Color"
       ],
       "index": 0,
       "layout": "IPY_MODEL_2a71d1ea3cce494aab3efb0a5f5f35b8",
       "style": "IPY_MODEL_8b57ad46d5bd48cca26846608c950e2f"
      }
     },
     "b7774c37d9944fe09f8d1efd519c29b8": {
      "model_module": "@jupyter-widgets/controls",
      "model_module_version": "1.5.0",
      "model_name": "DescriptionStyleModel",
      "state": {
       "description_width": ""
      }
     },
     "b81af8cd3ac248688134ee4c10479ba6": {
      "model_module": "@jupyter-widgets/base",
      "model_module_version": "1.2.0",
      "model_name": "LayoutModel",
      "state": {}
     },
     "b8492b7b01134d7b9aeaebc3e86f5d87": {
      "model_module": "pgljupyter",
      "model_module_version": "^0.1.2",
      "model_name": "CurveEditorModel",
      "state": {
       "_model_module_version": "^0.1.2",
       "_view_module_version": "^0.1.2",
       "children": [
        "IPY_MODEL_d15825d831bc479e9ba631b888bce268",
        "IPY_MODEL_a4e9e5b5bf4c4bf3a00c49b819e7d1f8"
       ],
       "layout": "IPY_MODEL_a6f916165dd04f2081284a6f756f7d03"
      }
     },
     "b882c7f790744974bc9b924e675cb756": {
      "model_module": "@jupyter-widgets/base",
      "model_module_version": "1.2.0",
      "model_name": "LayoutModel",
      "state": {}
     },
     "b8a341e1224a48b5bd5cc9f85ff9b22c": {
      "model_module": "@jupyter-widgets/controls",
      "model_module_version": "1.5.0",
      "model_name": "FloatSliderModel",
      "state": {
       "description": "shininess",
       "layout": "IPY_MODEL_17ca4c748f7a4d0cb35375a65128cde3",
       "max": 1,
       "step": 0.1,
       "style": "IPY_MODEL_d81d61ea7b9e45c684accc7eca1f8bd0",
       "value": 0.2
      }
     },
     "b8bd681b6b634a61860c93bb9163f073": {
      "model_module": "@jupyter-widgets/controls",
      "model_module_version": "1.5.0",
      "model_name": "CheckboxModel",
      "state": {
       "description": "Auto apply",
       "disabled": false,
       "layout": "IPY_MODEL_af3693c497854f00a5f5bf1ffa333511",
       "style": "IPY_MODEL_279f04df2dff4359be95f440892277cc",
       "value": false
      }
     },
     "b8edda361f7c45fca84ae1034a46206a": {
      "model_module": "@jupyter-widgets/controls",
      "model_module_version": "1.5.0",
      "model_name": "DescriptionStyleModel",
      "state": {
       "description_width": ""
      }
     },
     "b92546feb77a4e4aaff221af4a8fbabe": {
      "model_module": "@jupyter-widgets/base",
      "model_module_version": "1.2.0",
      "model_name": "LayoutModel",
      "state": {}
     },
     "b947c8dbfdf949bc8bec1b73362d16c9": {
      "model_module": "@jupyter-widgets/controls",
      "model_module_version": "1.5.0",
      "model_name": "DescriptionStyleModel",
      "state": {
       "description_width": ""
      }
     },
     "b9c9fba7050d4389adc593900e168832": {
      "model_module": "@jupyter-widgets/base",
      "model_module_version": "1.2.0",
      "model_name": "LayoutModel",
      "state": {}
     },
     "b9cc05f666bc435cbe476ef8e9e4fbec": {
      "model_module": "@jupyter-widgets/controls",
      "model_module_version": "1.5.0",
      "model_name": "ButtonModel",
      "state": {
       "description": "Delete",
       "layout": "IPY_MODEL_3886c91004eb40b4ae526623f839f5a3",
       "style": "IPY_MODEL_3f0f3bb1764f476baea6463c404baeef"
      }
     },
     "b9eb8d3f8c6a4b18a72f185724416aa4": {
      "model_module": "@jupyter-widgets/controls",
      "model_module_version": "1.5.0",
      "model_name": "VBoxModel",
      "state": {
       "children": [
        "IPY_MODEL_21efdec5b75d4c6ebabf51119098e5d0",
        "IPY_MODEL_0c82adbe02b14ee888134148a12ab08a"
       ],
       "layout": "IPY_MODEL_ceb520bee04442219db5910700063143"
      }
     },
     "ba29b80240fa409fbf8bfc9edf0f136d": {
      "model_module": "@jupyter-widgets/base",
      "model_module_version": "1.2.0",
      "model_name": "LayoutModel",
      "state": {}
     },
     "ba414c61699f4ef78a51f82ac1b8dfdd": {
      "model_module": "@jupyter-widgets/controls",
      "model_module_version": "1.5.0",
      "model_name": "FloatSliderModel",
      "state": {
       "description": "transparency",
       "layout": "IPY_MODEL_41670547e0cb41e29a72d0cf35a2fb90",
       "max": 1,
       "step": 0.1,
       "style": "IPY_MODEL_8554cceab3924e6b9e50c79f303173aa"
      }
     },
     "ba6c79c2e43840c9810fa60662097b5b": {
      "model_module": "pgljupyter",
      "model_module_version": "^0.1.2",
      "model_name": "FloatEditorModel",
      "state": {
       "_model_module_version": "^0.1.2",
       "_view_module_version": "^0.1.2",
       "children": [
        "IPY_MODEL_f877f58a4a8f446bae74488efbef66b0",
        "IPY_MODEL_76eb2c1bc07d4ea9a83be96441994d41",
        "IPY_MODEL_89e50adf10a84ea9ab3997fe944f3854",
        "IPY_MODEL_c2a5dd075265401189b7b6fd47c34c17",
        "IPY_MODEL_fdc322002e0147a3b3a787527f552f68"
       ],
       "layout": "IPY_MODEL_9996de42de804a72bd10c312732d93ad"
      }
     },
     "ba7234dd0ed3424baa06f9cffa1d96b3": {
      "model_module": "@jupyter-widgets/controls",
      "model_module_version": "1.5.0",
      "model_name": "FloatSliderModel",
      "state": {
       "description": "diffuse",
       "layout": "IPY_MODEL_0a63f463c5d8470ebb1e732d48fd1d86",
       "max": 1,
       "step": 0.1,
       "style": "IPY_MODEL_bc847ec8847947ff8d70439e40edc100"
      }
     },
     "babb93ef0b924d3f89a84509076d9730": {
      "model_module": "@jupyter-widgets/controls",
      "model_module_version": "1.5.0",
      "model_name": "DropdownModel",
      "state": {
       "index": null,
       "layout": "IPY_MODEL_9bf14f73f0b04eb1b7814b57cd8c2439",
       "style": "IPY_MODEL_ae7c5771004247ee9c8be8424303a978"
      }
     },
     "bad45027440c49c0b95e906436475efe": {
      "model_module": "@jupyter-widgets/controls",
      "model_module_version": "1.5.0",
      "model_name": "ButtonModel",
      "state": {
       "description": "Delete",
       "layout": "IPY_MODEL_c0916f5a0946411c9908967b1e233df2",
       "style": "IPY_MODEL_00cac5436c8e487dae18a9ff4734dbaf"
      }
     },
     "bb156c39f7374a1b9165dded955416f5": {
      "model_module": "@jupyter-widgets/base",
      "model_module_version": "1.2.0",
      "model_name": "LayoutModel",
      "state": {
       "flex_flow": "row wrap",
       "margin": "20px"
      }
     },
     "bb1d7bbeb2da4eb7b42b416ef2832725": {
      "model_module": "@jupyter-widgets/base",
      "model_module_version": "1.2.0",
      "model_name": "LayoutModel",
      "state": {}
     },
     "bb5cb6be24e84a2f9a01b764426581ca": {
      "model_module": "@jupyter-widgets/controls",
      "model_module_version": "1.5.0",
      "model_name": "DescriptionStyleModel",
      "state": {
       "description_width": ""
      }
     },
     "bb64343143ba4af99b7584a1195309c2": {
      "model_module": "@jupyter-widgets/controls",
      "model_module_version": "1.5.0",
      "model_name": "IntTextModel",
      "state": {
       "description": "max",
       "layout": "IPY_MODEL_5c04a7bab5654a89bb57cca666a4c17e",
       "step": 1,
       "style": "IPY_MODEL_78b86b9374f94e7eba45a65f52ac1a7b",
       "value": 7
      }
     },
     "bb74a2e2f3f744c0880c5874c444c364": {
      "model_module": "@jupyter-widgets/controls",
      "model_module_version": "1.5.0",
      "model_name": "ColorPickerModel",
      "state": {
       "description": "specular",
       "disabled": false,
       "layout": "IPY_MODEL_f16cdc3e967e4e5181ff48b1be8bffe5",
       "style": "IPY_MODEL_fbd3c620d7bd47818d5487d92b540c7d",
       "value": "#282828"
      }
     },
     "bbd47564228f4942bcd590a50a8e0bdb": {
      "model_module": "@jupyter-widgets/base",
      "model_module_version": "1.2.0",
      "model_name": "LayoutModel",
      "state": {
       "flex_flow": "row wrap"
      }
     },
     "bc0183c58b444802a552b4adb9c91726": {
      "model_module": "@jupyter-widgets/controls",
      "model_module_version": "1.5.0",
      "model_name": "SliderStyleModel",
      "state": {
       "description_width": ""
      }
     },
     "bc847ec8847947ff8d70439e40edc100": {
      "model_module": "@jupyter-widgets/controls",
      "model_module_version": "1.5.0",
      "model_name": "SliderStyleModel",
      "state": {
       "description_width": ""
      }
     },
     "bca8e12aa85b43d199fddf7fd3c74ae8": {
      "model_module": "@jupyter-widgets/base",
      "model_module_version": "1.2.0",
      "model_name": "LayoutModel",
      "state": {}
     },
     "bd68f36a479d4228921e20a022470d19": {
      "model_module": "@jupyter-widgets/base",
      "model_module_version": "1.2.0",
      "model_name": "LayoutModel",
      "state": {}
     },
     "bd918bcabb7b410f9fbcbc61aac64b22": {
      "model_module": "pgljupyter",
      "model_module_version": "^0.1.14",
      "model_name": "MaterialEditorModel",
      "state": {
       "_model_module_version": "^0.1.14",
       "_view_module_version": "^0.1.14",
       "children": [
        "IPY_MODEL_841b03bc73504e9fbcd2a2521c5eac54",
        "IPY_MODEL_96bc270eb98e480d869226e5c3773f39",
        "IPY_MODEL_2a6e6d5a527b40b79b823a50c67ef83a",
        "IPY_MODEL_37cc370812764135a78e918e9a54c255",
        "IPY_MODEL_fdd80fe99a2c4941b1f17d90ef2bd04f",
        "IPY_MODEL_b21f74bd92b84e09bf6f607288d6ca02",
        "IPY_MODEL_930cf2be63434311b69954fea28519d9"
       ],
       "layout": "IPY_MODEL_4ded6f0e10d44e918caea6634ec2fab5"
      }
     },
     "bdb41a94c2ae42e29d602a43de19b7e5": {
      "model_module": "@jupyter-widgets/controls",
      "model_module_version": "1.5.0",
      "model_name": "TextModel",
      "state": {
       "continuous_update": false,
       "description": "name",
       "layout": "IPY_MODEL_b0640f81165841e19fa32c937422c2a4",
       "style": "IPY_MODEL_64988f0b5e374ed49f93bfb333503a97",
       "value": "color_2"
      }
     },
     "be32dc92ecd64abcb793bf8183527506": {
      "model_module": "@jupyter-widgets/controls",
      "model_module_version": "1.5.0",
      "model_name": "IntTextModel",
      "state": {
       "description": "max",
       "layout": "IPY_MODEL_35010fbf5ea3493e9cbc7122e28e5c50",
       "step": 1,
       "style": "IPY_MODEL_bb5cb6be24e84a2f9a01b764426581ca",
       "value": 10
      }
     },
     "bed3960f239c45c989041abe69ed15fd": {
      "model_module": "@jupyter-widgets/controls",
      "model_module_version": "1.5.0",
      "model_name": "SliderStyleModel",
      "state": {
       "description_width": ""
      }
     },
     "beffbb3f77dd4d94aef20d7baaf0b0b4": {
      "model_module": "@jupyter-widgets/controls",
      "model_module_version": "1.5.0",
      "model_name": "HBoxModel",
      "state": {
       "children": [
        "IPY_MODEL_29d3147695a947d7b6e87a4ef6e81299",
        "IPY_MODEL_e3071eba15a74f3fb224da653c0acb19",
        "IPY_MODEL_671a0c1d002f4c0797ca8a6ade723793"
       ],
       "layout": "IPY_MODEL_f6b8371c97d6438d81a54fc86fdfb536"
      }
     },
     "bf235c94995349428ea2e10535856d69": {
      "model_module": "@jupyter-widgets/base",
      "model_module_version": "1.2.0",
      "model_name": "LayoutModel",
      "state": {}
     },
     "bf8c52c6349d45b7bd06b4eca76e2cbb": {
      "model_module": "@jupyter-widgets/controls",
      "model_module_version": "1.5.0",
      "model_name": "DescriptionStyleModel",
      "state": {
       "description_width": ""
      }
     },
     "bf9041858b814903a58aa446f72e476b": {
      "model_module": "@jupyter-widgets/base",
      "model_module_version": "1.2.0",
      "model_name": "LayoutModel",
      "state": {}
     },
     "bf95968a03ca41a0a35c4849e88e5a39": {
      "model_module": "@jupyter-widgets/base",
      "model_module_version": "1.2.0",
      "model_name": "LayoutModel",
      "state": {}
     },
     "bfa18b0f774b4adcb58dd18072b212e7": {
      "model_module": "@jupyter-widgets/controls",
      "model_module_version": "1.5.0",
      "model_name": "TabModel",
      "state": {
       "layout": "IPY_MODEL_aea1d0cbebf84d70ad94fd9b58353cdc"
      }
     },
     "bfebe2c916cd4f94ba35b732dbd68fc0": {
      "model_module": "@jupyter-widgets/controls",
      "model_module_version": "1.5.0",
      "model_name": "BoundedIntTextModel",
      "state": {
       "description": "index",
       "layout": "IPY_MODEL_a9baac29908349669249c48305c9d374",
       "style": "IPY_MODEL_94e25902e4724aa0a4d73938e6e56102",
       "value": 3
      }
     },
     "c017faf3374c49f2a7f2173c394bb4b5": {
      "model_module": "@jupyter-widgets/controls",
      "model_module_version": "1.5.0",
      "model_name": "IntSliderModel",
      "state": {
       "description": "value",
       "layout": "IPY_MODEL_9ce783ec3f44497c8f06f6875c974f8b",
       "max": 10,
       "min": 1,
       "style": "IPY_MODEL_7d5bfc8e9e2e4f8384bba4411ca671f6",
       "value": 2
      }
     },
     "c0916f5a0946411c9908967b1e233df2": {
      "model_module": "@jupyter-widgets/base",
      "model_module_version": "1.2.0",
      "model_name": "LayoutModel",
      "state": {}
     },
     "c093b97b12b746008d103f1518ae45cd": {
      "model_module": "pgljupyter",
      "model_module_version": "^0.1.14",
      "model_name": "FloatEditorModel",
      "state": {
       "_model_module_version": "^0.1.14",
       "_view_module_version": "^0.1.14",
       "children": [
        "IPY_MODEL_83d7b86e973542519d6227d6627a1f24",
        "IPY_MODEL_c8dca327c4774628aef62c0fd7ccd439",
        "IPY_MODEL_c579b1759bdb4b61a9c98aab238009fe",
        "IPY_MODEL_aaf44ccfe11a475080cbf66f9f2f4a8e",
        "IPY_MODEL_4715df1b0b834bf098b71011425a052b"
       ],
       "layout": "IPY_MODEL_a2abd3ec2fca4609bcee49dddfbc868d"
      }
     },
     "c09ac5f419df40aa9d1c27db2f5b8fe2": {
      "model_module": "@jupyter-widgets/base",
      "model_module_version": "1.2.0",
      "model_name": "LayoutModel",
      "state": {}
     },
     "c0a0b6ba4761420fa5e80e161bdb896d": {
      "model_module": "@jupyter-widgets/base",
      "model_module_version": "1.2.0",
      "model_name": "LayoutModel",
      "state": {}
     },
     "c0f4f90eb6b24c6c84973b9bd9db179d": {
      "model_module": "@jupyter-widgets/base",
      "model_module_version": "1.2.0",
      "model_name": "LayoutModel",
      "state": {}
     },
     "c0fbb256fc224c9aba81c3735c246735": {
      "model_module": "@jupyter-widgets/controls",
      "model_module_version": "1.5.0",
      "model_name": "ColorPickerModel",
      "state": {
       "description": "emission",
       "disabled": false,
       "layout": "IPY_MODEL_de40add93b8a4b35b57878f54f78831a",
       "style": "IPY_MODEL_94ac578565f043d688bf9cd62d6d8553",
       "value": "#1f48db"
      }
     },
     "c13f341ad092459384f2c9ee63f72ecf": {
      "model_module": "@jupyter-widgets/controls",
      "model_module_version": "1.5.0",
      "model_name": "SliderStyleModel",
      "state": {
       "description_width": ""
      }
     },
     "c14e13ed098c4bf6850d070eab738e5e": {
      "model_module": "@jupyter-widgets/controls",
      "model_module_version": "1.5.0",
      "model_name": "SliderStyleModel",
      "state": {
       "description_width": ""
      }
     },
     "c19ba1d02b874e30b0117e9a6459e5d3": {
      "model_module": "pgljupyter",
      "model_module_version": "^0.1.14",
      "model_name": "IntEditorModel",
      "state": {
       "_model_module_version": "^0.1.14",
       "_view_module_version": "^0.1.14",
       "children": [
        "IPY_MODEL_4582f038b2014974a160502d5dbeaf9d",
        "IPY_MODEL_cb9753792ecd4e86867efea2e0b84d64",
        "IPY_MODEL_c971b518ed994a17abe4aa40fc59ef1e",
        "IPY_MODEL_b68eb2858dea4541b4543e7f82a86952",
        "IPY_MODEL_177cde17762546bcb143df6017c2bd65"
       ],
       "layout": "IPY_MODEL_79f69624a792402dbdf38b37ead2de78"
      }
     },
     "c2003da65dea4a289b43039e5a8549af": {
      "model_module": "pgljupyter",
      "model_module_version": "^0.1.2",
      "model_name": "IntEditorModel",
      "state": {
       "_model_module_version": "^0.1.2",
       "_view_module_version": "^0.1.2",
       "children": [
        "IPY_MODEL_3bce6b106d9847ae81d706f5a7c75510",
        "IPY_MODEL_aca6b402cb5e487192c6f29eaf19b583",
        "IPY_MODEL_7c66b5d7e49e46b4af1106c7070d7f40",
        "IPY_MODEL_dc97f2b89053407e94e886a87cb5eb6b",
        "IPY_MODEL_39c02487d7c242b79297781e711e63fb"
       ],
       "layout": "IPY_MODEL_d5ae3967657a47518c7f4f1765127239"
      }
     },
     "c254b77e53f94f28a27b56e3c2dfc626": {
      "model_module": "@jupyter-widgets/controls",
      "model_module_version": "1.5.0",
      "model_name": "DescriptionStyleModel",
      "state": {
       "description_width": ""
      }
     },
     "c25b4590b0ae444281e4de1577dba820": {
      "model_module": "@jupyter-widgets/controls",
      "model_module_version": "1.5.0",
      "model_name": "HBoxModel",
      "state": {
       "children": [
        "IPY_MODEL_15897f39c9c241c994c93955c340fb6b",
        "IPY_MODEL_949b9f6b0655431baaa842ca0fba7158",
        "IPY_MODEL_9a65dcb16d534e78b9be4268f18e0189",
        "IPY_MODEL_77d9a753e60f49d284845127d2f81ee7"
       ],
       "layout": "IPY_MODEL_f56daa410ee44854874b448e60b2c3c9"
      }
     },
     "c27b4929616a4cc9afc6b2486b6203ab": {
      "model_module": "@jupyter-widgets/base",
      "model_module_version": "1.2.0",
      "model_name": "LayoutModel",
      "state": {}
     },
     "c2a5dd075265401189b7b6fd47c34c17": {
      "model_module": "@jupyter-widgets/controls",
      "model_module_version": "1.5.0",
      "model_name": "FloatTextModel",
      "state": {
       "description": "max",
       "layout": "IPY_MODEL_95eef6992b7847359034cb5d069ebfa2",
       "step": null,
       "style": "IPY_MODEL_5a27be4bb9c048a2bb54f5eb48c09787",
       "value": 0.1
      }
     },
     "c2d5788df88a4bffa01ec27cdf0aec8e": {
      "model_module": "@jupyter-widgets/controls",
      "model_module_version": "1.5.0",
      "model_name": "BoundedIntTextModel",
      "state": {
       "description": "index",
       "layout": "IPY_MODEL_07be53bbb9d944eabc52ffbee52e5bac",
       "style": "IPY_MODEL_eb2e69115216423890bbf2deae806d03",
       "value": 4
      }
     },
     "c2f52039c5e94671870caf9530fd4b32": {
      "model_module": "@jupyter-widgets/base",
      "model_module_version": "1.2.0",
      "model_name": "LayoutModel",
      "state": {}
     },
     "c35deb0d32c14e22aa1a65baa1a7913e": {
      "model_module": "@jupyter-widgets/base",
      "model_module_version": "1.2.0",
      "model_name": "LayoutModel",
      "state": {}
     },
     "c364d57ad62144c597636d4d7ea2924a": {
      "model_module": "@jupyter-widgets/base",
      "model_module_version": "1.2.0",
      "model_name": "LayoutModel",
      "state": {}
     },
     "c3adb797a20341a3acbdfcff67be93eb": {
      "model_module": "@jupyter-widgets/base",
      "model_module_version": "1.2.0",
      "model_name": "LayoutModel",
      "state": {}
     },
     "c3bb6e2e3a964b54bae4688c732ce7f1": {
      "model_module": "@jupyter-widgets/controls",
      "model_module_version": "1.5.0",
      "model_name": "DescriptionStyleModel",
      "state": {
       "description_width": ""
      }
     },
     "c3bc80a9a77b4b0092ea7f621e786a19": {
      "model_module": "@jupyter-widgets/controls",
      "model_module_version": "1.5.0",
      "model_name": "DescriptionStyleModel",
      "state": {
       "description_width": ""
      }
     },
     "c3d84a4110fe40599578882c9599c41f": {
      "model_module": "@jupyter-widgets/base",
      "model_module_version": "1.2.0",
      "model_name": "LayoutModel",
      "state": {}
     },
     "c40d91bd421049d38bc8e192e39e9122": {
      "model_module": "@jupyter-widgets/base",
      "model_module_version": "1.2.0",
      "model_name": "LayoutModel",
      "state": {}
     },
     "c46c96224a2c4453bc909a37698703a4": {
      "model_module": "@jupyter-widgets/controls",
      "model_module_version": "1.5.0",
      "model_name": "TextModel",
      "state": {
       "continuous_update": false,
       "description": "name",
       "layout": "IPY_MODEL_bf95968a03ca41a0a35c4849e88e5a39",
       "style": "IPY_MODEL_65bdf3a7d2c248919a89fc3a98dfb617",
       "value": "color_1"
      }
     },
     "c46f5ff856fd462f9aa4c788ae2e855f": {
      "model_module": "pgljupyter",
      "model_module_version": "^0.1.2",
      "model_name": "MaterialEditorModel",
      "state": {
       "_model_module_version": "^0.1.2",
       "_view_module_version": "^0.1.2",
       "children": [
        "IPY_MODEL_bdb41a94c2ae42e29d602a43de19b7e5",
        "IPY_MODEL_db99c174f80c4e11afb1a06e36228357",
        "IPY_MODEL_d934065c2df0404c8065622ee241dd96",
        "IPY_MODEL_acc99657a447459fb7ad63d61ff18c6d",
        "IPY_MODEL_f185c916dcb14fa48e134838b90ee266",
        "IPY_MODEL_55e50482ddd14ec08b2e2699040ec3a6",
        "IPY_MODEL_e38a5927e6934a1eb8de6edff55adc76",
        "IPY_MODEL_e9a9f6fca3b84589a232b1138b72fa62"
       ],
       "layout": "IPY_MODEL_3bccb846b4df4907997b93fed3c1a495"
      }
     },
     "c4b619d3bd944779b7f7722cb12920fb": {
      "model_module": "@jupyter-widgets/controls",
      "model_module_version": "1.5.0",
      "model_name": "DescriptionStyleModel",
      "state": {
       "description_width": ""
      }
     },
     "c4e9c941f22141baa6941a4cac591ea8": {
      "model_module": "@jupyter-widgets/controls",
      "model_module_version": "1.5.0",
      "model_name": "DescriptionStyleModel",
      "state": {
       "description_width": ""
      }
     },
     "c55c011e738a41e3bfd9ff758ced3850": {
      "model_module": "@jupyter-widgets/base",
      "model_module_version": "1.2.0",
      "model_name": "LayoutModel",
      "state": {
       "margin": "20px 0px"
      }
     },
     "c579b1759bdb4b61a9c98aab238009fe": {
      "model_module": "@jupyter-widgets/controls",
      "model_module_version": "1.5.0",
      "model_name": "FloatTextModel",
      "state": {
       "description": "min",
       "layout": "IPY_MODEL_9a73cdea2faf406f84e9aada3788b63e",
       "step": null,
       "style": "IPY_MODEL_4acc7b98a51f43498f9bddac5e91d64d",
       "value": 0.01
      }
     },
     "c580a4d8ab98468a9d0492ff60aa2379": {
      "model_module": "@jupyter-widgets/controls",
      "model_module_version": "1.5.0",
      "model_name": "TextModel",
      "state": {
       "continuous_update": false,
       "description": "name",
       "layout": "IPY_MODEL_952fbb7f027f4f5d9239e048df0be058",
       "style": "IPY_MODEL_024a1bedd40241b69d18bf5622dad7ab",
       "value": "leafduration"
      }
     },
     "c5ed3c7a721e4e818c8d622ff9e795f8": {
      "model_module": "@jupyter-widgets/controls",
      "model_module_version": "1.5.0",
      "model_name": "DescriptionStyleModel",
      "state": {
       "description_width": ""
      }
     },
     "c5f1bf80981a4895b92f6fc2fecafac2": {
      "model_module": "@jupyter-widgets/controls",
      "model_module_version": "1.5.0",
      "model_name": "HBoxModel",
      "state": {
       "layout": "IPY_MODEL_bb156c39f7374a1b9165dded955416f5"
      }
     },
     "c67c734b0758494aac08caae5fd90d3d": {
      "model_module": "@jupyter-widgets/base",
      "model_module_version": "1.2.0",
      "model_name": "LayoutModel",
      "state": {}
     },
     "c6a2f506d2404d8088d464eb5aac551f": {
      "model_module": "@jupyter-widgets/controls",
      "model_module_version": "1.5.0",
      "model_name": "HBoxModel",
      "state": {
       "children": [
        "IPY_MODEL_7047220ba1fd43f9b2dfff397b099bdc"
       ],
       "layout": "IPY_MODEL_1aaed1264b7e4af38e5dfa20e770f4aa"
      }
     },
     "c6a312a270f14428b4ad614b9369cd85": {
      "model_module": "@jupyter-widgets/controls",
      "model_module_version": "1.5.0",
      "model_name": "DropdownModel",
      "state": {
       "_options_labels": [
        "color_1",
        "color_2",
        "color_4"
       ],
       "index": 0,
       "layout": "IPY_MODEL_8732af9403aa4f6ca1b7e62ca4e29c09",
       "style": "IPY_MODEL_7603ec0ea97040b8b5273ff4abfa9ec8"
      }
     },
     "c6ad612c926543f7b21ea0b593cf326e": {
      "model_module": "@jupyter-widgets/base",
      "model_module_version": "1.2.0",
      "model_name": "LayoutModel",
      "state": {}
     },
     "c6ff09a6e9d847ac858da09d3835cffa": {
      "model_module": "@jupyter-widgets/base",
      "model_module_version": "1.2.0",
      "model_name": "LayoutModel",
      "state": {}
     },
     "c77747e99e2248869202f774aa46d72e": {
      "model_module": "@jupyter-widgets/controls",
      "model_module_version": "1.5.0",
      "model_name": "SliderStyleModel",
      "state": {
       "description_width": ""
      }
     },
     "c7a7a50eab4e4e22960d00e9cf2bd872": {
      "model_module": "@jupyter-widgets/base",
      "model_module_version": "1.2.0",
      "model_name": "LayoutModel",
      "state": {}
     },
     "c7e96683ccf54521ad82e02910c90b3d": {
      "model_module": "@jupyter-widgets/controls",
      "model_module_version": "1.5.0",
      "model_name": "DescriptionStyleModel",
      "state": {
       "description_width": ""
      }
     },
     "c80db8f4cb9841beba01c1bd2287e051": {
      "model_module": "@jupyter-widgets/controls",
      "model_module_version": "1.5.0",
      "model_name": "ButtonStyleModel",
      "state": {}
     },
     "c858e86399cd448783684aee36ababb6": {
      "model_module": "@jupyter-widgets/controls",
      "model_module_version": "1.5.0",
      "model_name": "IntTextModel",
      "state": {
       "description": "max",
       "layout": "IPY_MODEL_8715186e0e7149e8864eac82b62a522d",
       "step": 1,
       "style": "IPY_MODEL_0a2a346a9e664a96a6f6cb0da81b7342",
       "value": 10
      }
     },
     "c860bd1554b0472c85eb2f103d5645a6": {
      "model_module": "@jupyter-widgets/base",
      "model_module_version": "1.2.0",
      "model_name": "LayoutModel",
      "state": {}
     },
     "c8945ff55f3e4299bc6baee965a89100": {
      "model_module": "@jupyter-widgets/base",
      "model_module_version": "1.2.0",
      "model_name": "LayoutModel",
      "state": {}
     },
     "c8be64049f5843ebac39f11d40e1b397": {
      "model_module": "@jupyter-widgets/base",
      "model_module_version": "1.2.0",
      "model_name": "LayoutModel",
      "state": {}
     },
     "c8dca327c4774628aef62c0fd7ccd439": {
      "model_module": "@jupyter-widgets/controls",
      "model_module_version": "1.5.0",
      "model_name": "FloatSliderModel",
      "state": {
       "description": "value",
       "layout": "IPY_MODEL_74a7a5c1fee64445b64d9944194e45ee",
       "max": 0.1,
       "min": 0.01,
       "step": 0.01,
       "style": "IPY_MODEL_2c70894a80f745f89888ecb61c4430a7",
       "value": 0.02
      }
     },
     "c8f45965b1124a4a90d52cde0a186035": {
      "model_module": "@jupyter-widgets/controls",
      "model_module_version": "1.5.0",
      "model_name": "VBoxModel",
      "state": {
       "children": [
        "IPY_MODEL_50f6ca45ee7c4be8ab97d014e4b3619d",
        "IPY_MODEL_987ee76d11d2433cacbdfd03b1954503"
       ],
       "layout": "IPY_MODEL_343fdbc8ac9046f0be92ef520dcb07c7"
      }
     },
     "c8f7c0c083654692bcaf39f7ed6f4596": {
      "model_module": "@jupyter-widgets/controls",
      "model_module_version": "1.5.0",
      "model_name": "ButtonStyleModel",
      "state": {}
     },
     "c93fac566bbf44a09ddc34c6f6532ae3": {
      "model_module": "@jupyter-widgets/base",
      "model_module_version": "1.2.0",
      "model_name": "LayoutModel",
      "state": {}
     },
     "c955c4f8ceab4fe6911f95c106cb4893": {
      "model_module": "@jupyter-widgets/base",
      "model_module_version": "1.2.0",
      "model_name": "LayoutModel",
      "state": {
       "margin": "20px 0px"
      }
     },
     "c95cf67e99be4e26a62abb82e9ca131b": {
      "model_module": "@jupyter-widgets/base",
      "model_module_version": "1.2.0",
      "model_name": "LayoutModel",
      "state": {}
     },
     "c971b518ed994a17abe4aa40fc59ef1e": {
      "model_module": "@jupyter-widgets/controls",
      "model_module_version": "1.5.0",
      "model_name": "IntTextModel",
      "state": {
       "description": "min",
       "layout": "IPY_MODEL_fb6fdce322514387af4f9d06ea315c68",
       "step": 1,
       "style": "IPY_MODEL_05c793cf33424025941cb184db923fea",
       "value": 1
      }
     },
     "c9b3d84283d549a89ea8b9880ebdc2f1": {
      "model_module": "@jupyter-widgets/controls",
      "model_module_version": "1.5.0",
      "model_name": "ButtonStyleModel",
      "state": {}
     },
     "ca44b44f93e146c989a42fb6089dfaa7": {
      "model_module": "@jupyter-widgets/controls",
      "model_module_version": "1.5.0",
      "model_name": "ButtonModel",
      "state": {
       "description": "Apply changes",
       "layout": "IPY_MODEL_08a4960b5d9a400f9e7acdae1bc9b992",
       "style": "IPY_MODEL_d3f300a384ae46c6a00252b5d97c075f"
      }
     },
     "ca9265ffa8ce4dd7bf69074d9f41f030": {
      "model_module": "@jupyter-widgets/base",
      "model_module_version": "1.2.0",
      "model_name": "LayoutModel",
      "state": {
       "margin": "20px 0px"
      }
     },
     "cb1ed0f6320b4333aa7297d8a7ce168f": {
      "model_module": "@jupyter-widgets/controls",
      "model_module_version": "1.5.0",
      "model_name": "DescriptionStyleModel",
      "state": {
       "description_width": ""
      }
     },
     "cb4b61bb039c4f84b2600a719affce27": {
      "model_module": "@jupyter-widgets/controls",
      "model_module_version": "1.5.0",
      "model_name": "TabModel",
      "state": {
       "layout": "IPY_MODEL_49dbac54c4d6481ba32cd961140796cc"
      }
     },
     "cb9753792ecd4e86867efea2e0b84d64": {
      "model_module": "@jupyter-widgets/controls",
      "model_module_version": "1.5.0",
      "model_name": "IntSliderModel",
      "state": {
       "description": "value",
       "layout": "IPY_MODEL_aeaf1361f90748f78e6b1f091cf6e50e",
       "max": 10,
       "min": 1,
       "style": "IPY_MODEL_55dd24f2a4134bb8918a6c13a35703b2",
       "value": 2
      }
     },
     "cbbda54c90744c78b5a9088ce7e16dcb": {
      "model_module": "@jupyter-widgets/base",
      "model_module_version": "1.2.0",
      "model_name": "LayoutModel",
      "state": {}
     },
     "cbe03dab15774ad68ea1b7df1e69258a": {
      "model_module": "@jupyter-widgets/base",
      "model_module_version": "1.2.0",
      "model_name": "LayoutModel",
      "state": {}
     },
     "cc5772a12a73485e9db4d560e6ed99e5": {
      "model_module": "@jupyter-widgets/controls",
      "model_module_version": "1.5.0",
      "model_name": "DescriptionStyleModel",
      "state": {
       "description_width": ""
      }
     },
     "cc5944add9d34806bcf3e19b3041f41d": {
      "model_module": "@jupyter-widgets/controls",
      "model_module_version": "1.5.0",
      "model_name": "DescriptionStyleModel",
      "state": {
       "description_width": ""
      }
     },
     "ccc3684d6a3a4acdaac7fa383e67ed43": {
      "model_module": "@jupyter-widgets/controls",
      "model_module_version": "1.5.0",
      "model_name": "ColorPickerModel",
      "state": {
       "description": "specular",
       "disabled": false,
       "layout": "IPY_MODEL_203e1864fde243a6bd46c139d099522f",
       "style": "IPY_MODEL_4ebaed4962d34cb98cda2e52d678023a",
       "value": "#478f9f"
      }
     },
     "ccc4235534b24b6b896c41aa2f030e7e": {
      "model_module": "@jupyter-widgets/controls",
      "model_module_version": "1.5.0",
      "model_name": "FloatTextModel",
      "state": {
       "description": "max",
       "layout": "IPY_MODEL_f94496cb3e8f4929a17732ebf63fdc5d",
       "step": null,
       "style": "IPY_MODEL_011e5223efa649b9bf1d2bed8747815d",
       "value": 0.1
      }
     },
     "cce511266ccf40529e09ddb0d1439957": {
      "model_module": "@jupyter-widgets/controls",
      "model_module_version": "1.5.0",
      "model_name": "HBoxModel",
      "state": {
       "children": [
        "IPY_MODEL_173645c006e54ca09cd20c3bf28eb540",
        "IPY_MODEL_5c79a794e9ac4cbfb81e5ba98a148a97"
       ],
       "layout": "IPY_MODEL_ecf696d417284f0cb878728b147b5e1a"
      }
     },
     "cceb5c3176fc4d4391580243e90f5c8d": {
      "model_module": "@jupyter-widgets/controls",
      "model_module_version": "1.5.0",
      "model_name": "BoundedIntTextModel",
      "state": {
       "description": "step",
       "layout": "IPY_MODEL_41a316cc494844f789d1f1885dfea1cc",
       "min": 1,
       "style": "IPY_MODEL_30adb877ae0c4ea3b12a4f4ae638e37d",
       "value": 1
      }
     },
     "cd2d35d7469f4efdbbe25618df80a599": {
      "model_module": "pgljupyter",
      "model_module_version": "^0.1.14",
      "model_name": "MaterialEditorModel",
      "state": {
       "_model_module_version": "^0.1.14",
       "_view_module_version": "^0.1.14",
       "children": [
        "IPY_MODEL_19ebea118db54d3a98ecb0009e792ed9",
        "IPY_MODEL_dfb6de20b2d040d389489361ab6b5b90",
        "IPY_MODEL_87cef65f3ccb4e37b6f6da063e0b9e6e",
        "IPY_MODEL_9ff657d902b547bc986a4fc628dd6afe",
        "IPY_MODEL_cd3a829f4eac40fda62e9aee322229b2",
        "IPY_MODEL_9db3dcf7c0de4e979b7a513e3e5f5cca",
        "IPY_MODEL_45fda64537864956b96ca712540b6091"
       ],
       "layout": "IPY_MODEL_ca9265ffa8ce4dd7bf69074d9f41f030"
      }
     },
     "cd3a829f4eac40fda62e9aee322229b2": {
      "model_module": "@jupyter-widgets/controls",
      "model_module_version": "1.5.0",
      "model_name": "ColorPickerModel",
      "state": {
       "description": "emission",
       "disabled": false,
       "layout": "IPY_MODEL_c0f4f90eb6b24c6c84973b9bd9db179d",
       "style": "IPY_MODEL_de4f8356b53a4020880a9d2e97d68ef3",
       "value": "#000000"
      }
     },
     "cd50187ae39d47d09352eac31cabf72a": {
      "model_module": "@jupyter-widgets/base",
      "model_module_version": "1.2.0",
      "model_name": "LayoutModel",
      "state": {}
     },
     "ce6940ed041f4eda99eda29b263f0e11": {
      "model_module": "@jupyter-widgets/controls",
      "model_module_version": "1.5.0",
      "model_name": "SliderStyleModel",
      "state": {
       "description_width": ""
      }
     },
     "ce6b286f2d3f44b0950e6aad6008ca4a": {
      "model_module": "@jupyter-widgets/controls",
      "model_module_version": "1.5.0",
      "model_name": "AccordionModel",
      "state": {
       "_titles": {
        "0": "options",
        "1": "materials",
        "2": "leaf"
       },
       "children": [
        "IPY_MODEL_d708fb57001d4f8ea81f2ede20e3146a",
        "IPY_MODEL_7f2b172d2c374e0f9b79d7569d333c05",
        "IPY_MODEL_4b062199493449db918342e17a6ad7bc"
       ],
       "layout": "IPY_MODEL_dbad586bb58147e6897aca87cba5932c"
      }
     },
     "ceb520bee04442219db5910700063143": {
      "model_module": "@jupyter-widgets/base",
      "model_module_version": "1.2.0",
      "model_name": "LayoutModel",
      "state": {}
     },
     "cf3db1034fd8432aa3704c829a0ecdf4": {
      "model_module": "@jupyter-widgets/base",
      "model_module_version": "1.2.0",
      "model_name": "LayoutModel",
      "state": {}
     },
     "cf6091e0273242ae91488af7bed1c9b8": {
      "model_module": "@jupyter-widgets/controls",
      "model_module_version": "1.5.0",
      "model_name": "TextModel",
      "state": {
       "continuous_update": false,
       "description": "name",
       "layout": "IPY_MODEL_6222902e646a4c918719f62a19ad6f37",
       "style": "IPY_MODEL_1481ac602d8941e0885c08d06e6e0e82",
       "value": "maxorder"
      }
     },
     "cfbecb2c7a9b44b5b54e471e21bb5013": {
      "model_module": "@jupyter-widgets/base",
      "model_module_version": "1.2.0",
      "model_name": "LayoutModel",
      "state": {}
     },
     "cffbe228dd7a4cb6b6b3ec214974be09": {
      "model_module": "@jupyter-widgets/controls",
      "model_module_version": "1.5.0",
      "model_name": "FloatSliderModel",
      "state": {
       "description": "diffuse",
       "layout": "IPY_MODEL_1c7cf59a39db4f008dda191639910e38",
       "max": 1,
       "step": 0.1,
       "style": "IPY_MODEL_514cfc19ebf74685ab74dd7b7a22c471",
       "value": 1
      }
     },
     "d00076ceaaef4f90ae6dfca78cb58bba": {
      "model_module": "@jupyter-widgets/base",
      "model_module_version": "1.2.0",
      "model_name": "LayoutModel",
      "state": {}
     },
     "d02de77550284a6da1474d5305e95a37": {
      "model_module": "@jupyter-widgets/controls",
      "model_module_version": "1.5.0",
      "model_name": "DescriptionStyleModel",
      "state": {
       "description_width": ""
      }
     },
     "d0804158d8994796a57cce09e55d1e9d": {
      "model_module": "@jupyter-widgets/controls",
      "model_module_version": "1.5.0",
      "model_name": "BoundedFloatTextModel",
      "state": {
       "description": "step",
       "layout": "IPY_MODEL_72bc1e35e1b440dab2d04d8572c085d8",
       "max": 1,
       "min": 0.01,
       "step": 0.01,
       "style": "IPY_MODEL_3133bec14cff4f2a890c142d85f7eb53",
       "value": 0.01
      }
     },
     "d0b7820ad886441a910a69125aae845b": {
      "model_module": "@jupyter-widgets/base",
      "model_module_version": "1.2.0",
      "model_name": "LayoutModel",
      "state": {}
     },
     "d0bdbc64800d4d82b5dc67febea65a36": {
      "model_module": "@jupyter-widgets/controls",
      "model_module_version": "1.5.0",
      "model_name": "BoundedIntTextModel",
      "state": {
       "description": "index",
       "layout": "IPY_MODEL_eb67f0405c4a4a21ac1e3795da1d65b8",
       "style": "IPY_MODEL_1f77c70eec134463b17b0f169c5122e1",
       "value": 1
      }
     },
     "d0db5afd7c894db69b4bee3c7f83608a": {
      "model_module": "@jupyter-widgets/controls",
      "model_module_version": "1.5.0",
      "model_name": "HBoxModel",
      "state": {
       "children": [
        "IPY_MODEL_cce511266ccf40529e09ddb0d1439957",
        "IPY_MODEL_4d1384563f59422491a12fe1ae288581"
       ],
       "layout": "IPY_MODEL_1aaed1264b7e4af38e5dfa20e770f4aa"
      }
     },
     "d0f01479a05d433d9dea0f06d6e5c866": {
      "model_module": "@jupyter-widgets/base",
      "model_module_version": "1.2.0",
      "model_name": "LayoutModel",
      "state": {}
     },
     "d106d73f1f0f40bfb9afee106236b6d3": {
      "model_module": "@jupyter-widgets/controls",
      "model_module_version": "1.5.0",
      "model_name": "TextModel",
      "state": {
       "continuous_update": false,
       "description": "name",
       "layout": "IPY_MODEL_5d5b275d15b946cbbaaf085b88ac6394",
       "style": "IPY_MODEL_1b7eb2c7a1744177a4f8587caf59f856",
       "value": "color_1"
      }
     },
     "d11ae994789144a783cc4f4ae6406755": {
      "model_module": "@jupyter-widgets/base",
      "model_module_version": "1.2.0",
      "model_name": "LayoutModel",
      "state": {
       "margin": "20px 0px"
      }
     },
     "d15825d831bc479e9ba631b888bce268": {
      "model_module": "@jupyter-widgets/controls",
      "model_module_version": "1.5.0",
      "model_name": "TextModel",
      "state": {
       "continuous_update": false,
       "description": "name",
       "layout": "IPY_MODEL_98bc50eea37a458ebc2807a2cfa4a66e",
       "style": "IPY_MODEL_e726edc415ce408287086d7be2efd682",
       "value": "BezierCurve2D_0"
      }
     },
     "d18872a2ef9b47d0aacc9fc86e75a003": {
      "model_module": "@jupyter-widgets/controls",
      "model_module_version": "1.5.0",
      "model_name": "DescriptionStyleModel",
      "state": {
       "description_width": ""
      }
     },
     "d18d2324b3d64718bcd6376c175c5112": {
      "model_module": "@jupyter-widgets/controls",
      "model_module_version": "1.5.0",
      "model_name": "ColorPickerModel",
      "state": {
       "description": "ambient",
       "disabled": false,
       "layout": "IPY_MODEL_0cf9ede31aee4c9dad31d76457db7941",
       "style": "IPY_MODEL_428c2ac17d184a2c9179180861f4e079",
       "value": "#c25173"
      }
     },
     "d24c239178c94a64be7dc46a5528b939": {
      "model_module": "@jupyter-widgets/controls",
      "model_module_version": "1.5.0",
      "model_name": "FloatSliderModel",
      "state": {
       "description": "value",
       "layout": "IPY_MODEL_1aaf66a79c4a4516be6c818d516db912",
       "max": 0.1,
       "min": 0.01,
       "step": 0.01,
       "style": "IPY_MODEL_ce6940ed041f4eda99eda29b263f0e11",
       "value": 0.02
      }
     },
     "d28cf98e61a04f9898b7af2e4bd9189c": {
      "model_module": "@jupyter-widgets/controls",
      "model_module_version": "1.5.0",
      "model_name": "DescriptionStyleModel",
      "state": {
       "description_width": ""
      }
     },
     "d2d0c85bed704b318b91afa64fd018fe": {
      "model_module": "@jupyter-widgets/base",
      "model_module_version": "1.2.0",
      "model_name": "LayoutModel",
      "state": {}
     },
     "d2d0f917b45743ff9dc2a32c8add385a": {
      "model_module": "@jupyter-widgets/controls",
      "model_module_version": "1.5.0",
      "model_name": "HBoxModel",
      "state": {
       "children": [
        "IPY_MODEL_0714f35b18a44fbaaa6d2aa26b46616e"
       ],
       "layout": "IPY_MODEL_fe0cdcc6562e4d7b98662c718d50f517"
      }
     },
     "d305647879de4f31a874fda6cab632eb": {
      "model_module": "@jupyter-widgets/base",
      "model_module_version": "1.2.0",
      "model_name": "LayoutModel",
      "state": {}
     },
     "d3548b90ef3247ad9a07bc040218e2ba": {
      "model_module": "@jupyter-widgets/controls",
      "model_module_version": "1.5.0",
      "model_name": "TextModel",
      "state": {
       "continuous_update": false,
       "description": "name",
       "layout": "IPY_MODEL_6d6a59f4c0714f90bac64afd6f756b8f",
       "style": "IPY_MODEL_1fb14ba911fa4fa5b21eea1cc9d40b13",
       "value": "BezierCurve2D_2"
      }
     },
     "d39751d2609b4f59a787ccca0b261c85": {
      "model_module": "@jupyter-widgets/controls",
      "model_module_version": "1.5.0",
      "model_name": "TextModel",
      "state": {
       "continuous_update": false,
       "description": "name",
       "layout": "IPY_MODEL_ada6219a139e4a9d814db5c5ba74a114",
       "style": "IPY_MODEL_9f523c556c1a4ecd9ecc999e2932fbbc",
       "value": "radinc"
      }
     },
     "d3ba0204db55482095d75dd306143739": {
      "model_module": "@jupyter-widgets/controls",
      "model_module_version": "1.5.0",
      "model_name": "ButtonStyleModel",
      "state": {}
     },
     "d3f300a384ae46c6a00252b5d97c075f": {
      "model_module": "@jupyter-widgets/controls",
      "model_module_version": "1.5.0",
      "model_name": "ButtonStyleModel",
      "state": {}
     },
     "d51b50f6f7064d6b8575587fb3b196c4": {
      "model_module": "@jupyter-widgets/base",
      "model_module_version": "1.2.0",
      "model_name": "LayoutModel",
      "state": {}
     },
     "d52a4a8134f1480391b2605634851c73": {
      "model_module": "@jupyter-widgets/controls",
      "model_module_version": "1.5.0",
      "model_name": "DescriptionStyleModel",
      "state": {
       "description_width": ""
      }
     },
     "d5974bbba58d48d682cb09b34e264de7": {
      "model_module": "@jupyter-widgets/base",
      "model_module_version": "1.2.0",
      "model_name": "LayoutModel",
      "state": {}
     },
     "d5a4b1a1337c4f988951f8e89f721b21": {
      "model_module": "@jupyter-widgets/base",
      "model_module_version": "1.2.0",
      "model_name": "LayoutModel",
      "state": {
       "margin": "20px 0px"
      }
     },
     "d5ae3967657a47518c7f4f1765127239": {
      "model_module": "@jupyter-widgets/base",
      "model_module_version": "1.2.0",
      "model_name": "LayoutModel",
      "state": {
       "margin": "20px 0px"
      }
     },
     "d5b0b4a76e704be7aa8f297878b58d36": {
      "model_module": "@jupyter-widgets/base",
      "model_module_version": "1.2.0",
      "model_name": "LayoutModel",
      "state": {}
     },
     "d5ed232c37c645d287f93804c2a7a50c": {
      "model_module": "@jupyter-widgets/controls",
      "model_module_version": "1.5.0",
      "model_name": "DescriptionStyleModel",
      "state": {
       "description_width": ""
      }
     },
     "d708fb57001d4f8ea81f2ede20e3146a": {
      "model_module": "@jupyter-widgets/controls",
      "model_module_version": "1.5.0",
      "model_name": "VBoxModel",
      "state": {
       "children": [
        "IPY_MODEL_a95a95b9099e4f979166e656f93776ee",
        "IPY_MODEL_4eadb4503064446aaa9b09de3bbf33b3"
       ],
       "layout": "IPY_MODEL_742dc244110b4bdd8c1040e6d4201803"
      }
     },
     "d736f9ff59474e2fbde6d727a08f13f6": {
      "model_module": "@jupyter-widgets/controls",
      "model_module_version": "1.5.0",
      "model_name": "ButtonStyleModel",
      "state": {}
     },
     "d73cf1873c014373bc2c1fe5aecbf45f": {
      "model_module": "@jupyter-widgets/controls",
      "model_module_version": "1.5.0",
      "model_name": "SliderStyleModel",
      "state": {
       "description_width": ""
      }
     },
     "d7491fcbf98547ae97e45969885079fc": {
      "model_module": "@jupyter-widgets/controls",
      "model_module_version": "1.5.0",
      "model_name": "TextModel",
      "state": {
       "continuous_update": false,
       "description": "name",
       "layout": "IPY_MODEL_f90a42a43b1f4bed81fc082672b8e388",
       "style": "IPY_MODEL_cc5772a12a73485e9db4d560e6ed99e5",
       "value": "Polyline2D_0"
      }
     },
     "d7535aae702241fd86b607045fa0824f": {
      "model_module": "@jupyter-widgets/base",
      "model_module_version": "1.2.0",
      "model_name": "LayoutModel",
      "state": {}
     },
     "d753d848f55f4e2b94e8fb42928aeb59": {
      "model_module": "@jupyter-widgets/controls",
      "model_module_version": "1.5.0",
      "model_name": "ColorPickerModel",
      "state": {
       "description": "specular",
       "disabled": false,
       "layout": "IPY_MODEL_fb23ff6df53c4979935c5cfe3bf1f9b7",
       "style": "IPY_MODEL_2ff6e1288e264c2584f333513837f75c",
       "value": "#282828"
      }
     },
     "d791db9c9abd4f01b6f0fc0e44c489d8": {
      "model_module": "@jupyter-widgets/controls",
      "model_module_version": "1.5.0",
      "model_name": "TextModel",
      "state": {
       "continuous_update": false,
       "description": "name",
       "layout": "IPY_MODEL_cd50187ae39d47d09352eac31cabf72a",
       "style": "IPY_MODEL_5028f9bf49fb443a9a1cbb1892e2eaa5",
       "value": "maxorder"
      }
     },
     "d7a6727bd2324bc1ae4f77eb2d08a957": {
      "model_module": "@jupyter-widgets/controls",
      "model_module_version": "1.5.0",
      "model_name": "CheckboxModel",
      "state": {
       "description": "Auto save",
       "disabled": false,
       "layout": "IPY_MODEL_deaf1e6127c04a738ef764a2542eff1b",
       "style": "IPY_MODEL_a48d0b634a9545879f969cffc6d24b13",
       "value": false
      }
     },
     "d8136ba8b0b94a508316083bd66d429c": {
      "model_module": "@jupyter-widgets/controls",
      "model_module_version": "1.5.0",
      "model_name": "BoundedIntTextModel",
      "state": {
       "description": "index",
       "layout": "IPY_MODEL_12d98c8458334e21a9e3cd6b09cec97d",
       "style": "IPY_MODEL_610f7650b05c421c99fd9175cb6f82c4",
       "value": 2
      }
     },
     "d815cf04fa1e4602a3eae7b84a7a88e8": {
      "model_module": "@jupyter-widgets/controls",
      "model_module_version": "1.5.0",
      "model_name": "ButtonStyleModel",
      "state": {}
     },
     "d81d61ea7b9e45c684accc7eca1f8bd0": {
      "model_module": "@jupyter-widgets/controls",
      "model_module_version": "1.5.0",
      "model_name": "SliderStyleModel",
      "state": {
       "description_width": ""
      }
     },
     "d883946023a44ed59423d05c961e71b3": {
      "model_module": "@jupyter-widgets/controls",
      "model_module_version": "1.5.0",
      "model_name": "FloatSliderModel",
      "state": {
       "description": "transparency",
       "layout": "IPY_MODEL_65731830c54441e598c43d1764a538a2",
       "max": 1,
       "step": 0.1,
       "style": "IPY_MODEL_01f8e7becffd4b2dab6e12674ca3f07f"
      }
     },
     "d8d05d5a29a74efe9d2384ef9c0949d6": {
      "model_module": "@jupyter-widgets/controls",
      "model_module_version": "1.5.0",
      "model_name": "FloatTextModel",
      "state": {
       "description": "min",
       "layout": "IPY_MODEL_c860bd1554b0472c85eb2f103d5645a6",
       "step": null,
       "style": "IPY_MODEL_75f428afc0a3423fb7e534bdd51258c5",
       "value": 0.01
      }
     },
     "d8ee38d058ef449f841da3a733066985": {
      "model_module": "@jupyter-widgets/controls",
      "model_module_version": "1.5.0",
      "model_name": "ButtonModel",
      "state": {
       "description": "Add category",
       "layout": "IPY_MODEL_7e8efbd96371439c93796aa025dc2459",
       "style": "IPY_MODEL_6e0f7e8afc03421ca9ad35239807478d"
      }
     },
     "d934065c2df0404c8065622ee241dd96": {
      "model_module": "@jupyter-widgets/controls",
      "model_module_version": "1.5.0",
      "model_name": "ColorPickerModel",
      "state": {
       "description": "ambient",
       "disabled": false,
       "layout": "IPY_MODEL_fdaf5fa5a54f4007a8756ffb7b209215",
       "style": "IPY_MODEL_690f42ae5a094b499d0de205cfa3414f",
       "value": "#c25173"
      }
     },
     "d9369247700e41028695aa03301533a3": {
      "model_module": "@jupyter-widgets/controls",
      "model_module_version": "1.5.0",
      "model_name": "AccordionModel",
      "state": {
       "_titles": {
        "0": "scalars",
        "1": "materials",
        "2": "functions",
        "3": "curves"
       },
       "children": [
        "IPY_MODEL_f039ea0c32604272aa1c50f111f7a4c9",
        "IPY_MODEL_347acaa63eae4e00a4da54a4e5aa293d",
        "IPY_MODEL_dba8e0ab6061420e8b48f4b135b91803",
        "IPY_MODEL_01a4c9607cdf48b8898781b301081a28"
       ],
       "layout": "IPY_MODEL_2efa585c55484aaba68ded69cdb81b15",
       "selected_index": null
      }
     },
     "d93ddd2368b84814a30872f4a70db859": {
      "model_module": "@jupyter-widgets/base",
      "model_module_version": "1.2.0",
      "model_name": "LayoutModel",
      "state": {}
     },
     "d94bccd4ec6140aca10be69aef8e0149": {
      "model_module": "@jupyter-widgets/base",
      "model_module_version": "1.2.0",
      "model_name": "LayoutModel",
      "state": {}
     },
     "d95a440053a049df933468128decce4b": {
      "model_module": "@jupyter-widgets/controls",
      "model_module_version": "1.5.0",
      "model_name": "SliderStyleModel",
      "state": {
       "description_width": ""
      }
     },
     "d99be6308dbb4e52b17a52b5673e464c": {
      "model_module": "@jupyter-widgets/base",
      "model_module_version": "1.2.0",
      "model_name": "LayoutModel",
      "state": {}
     },
     "d9b71651e2e4497eb40d4f0bf556527f": {
      "model_module": "@jupyter-widgets/controls",
      "model_module_version": "1.5.0",
      "model_name": "HBoxModel",
      "state": {
       "children": [
        "IPY_MODEL_dc46966f56364b3d88a735f76b6d6252",
        "IPY_MODEL_01552cc098bb4739882f3ec4dc719ec8"
       ],
       "layout": "IPY_MODEL_38ddb4788197471db84a1a58ec09b8b2"
      }
     },
     "d9fa64f9080840b4a4fcc76aa6cfd4ba": {
      "model_module": "@jupyter-widgets/base",
      "model_module_version": "1.2.0",
      "model_name": "LayoutModel",
      "state": {}
     },
     "da2af70e6cb54a87bfe8aba01f079232": {
      "model_module": "@jupyter-widgets/base",
      "model_module_version": "1.2.0",
      "model_name": "LayoutModel",
      "state": {}
     },
     "da3a03d419374886b33c4a33c7123acc": {
      "model_module": "@jupyter-widgets/controls",
      "model_module_version": "1.5.0",
      "model_name": "ColorPickerModel",
      "state": {
       "description": "emission",
       "disabled": false,
       "layout": "IPY_MODEL_30c661fbb27140d0a16de353c96e7fc7",
       "style": "IPY_MODEL_30913895a05c4efe9297847d5ea8e81b",
       "value": "#1f48db"
      }
     },
     "da5895349d2b44149c25926ea9102116": {
      "model_module": "@jupyter-widgets/controls",
      "model_module_version": "1.5.0",
      "model_name": "IntTextModel",
      "state": {
       "description": "max",
       "layout": "IPY_MODEL_e6ea0b5e2d744d0ca6bd14b27c292d5e",
       "step": 1,
       "style": "IPY_MODEL_b947c8dbfdf949bc8bec1b73362d16c9",
       "value": 10
      }
     },
     "da7312441c124645a859a4440c5e690a": {
      "model_module": "@jupyter-widgets/controls",
      "model_module_version": "1.5.0",
      "model_name": "AccordionModel",
      "state": {
       "_titles": {
        "0": "options",
        "1": "materials",
        "2": "leaf"
       },
       "children": [
        "IPY_MODEL_29155f13bef442a393b221b6846bc956",
        "IPY_MODEL_2dabfefd7ddd4f7eac82d3513cf3d4c1",
        "IPY_MODEL_dc78887cbf65451da414929cd7c91b7c"
       ],
       "layout": "IPY_MODEL_62deae52a33f40b6b13beb81801d5430"
      }
     },
     "da84931aef8d4c1d954b95f4636a7360": {
      "model_module": "pgljupyter",
      "model_module_version": "^0.1.2",
      "model_name": "IntEditorModel",
      "state": {
       "_model_module_version": "^0.1.2",
       "_view_module_version": "^0.1.2",
       "children": [
        "IPY_MODEL_805ea2c62cea4f389e8cdcaf4d3fa2cb",
        "IPY_MODEL_0cc395aa40e94b989a548febcfdb5e05",
        "IPY_MODEL_525695082907441b9d5fe716c55b2141",
        "IPY_MODEL_1bb3336d4bef4979b9bb018af7f4fdc4",
        "IPY_MODEL_07424825f5c943b4b27c37d747ec046a"
       ],
       "layout": "IPY_MODEL_4b3a9d9aa43144fca24393575055b6a0"
      }
     },
     "dabcaf8551834d1191d28e9c7931d628": {
      "model_module": "pgljupyter",
      "model_module_version": "^0.1.14",
      "model_name": "IntEditorModel",
      "state": {
       "_model_module_version": "^0.1.14",
       "_view_module_version": "^0.1.14",
       "children": [
        "IPY_MODEL_12b092c41ce34f619a03357203c1a0cc",
        "IPY_MODEL_76ad72ce11b4453696a91154127944b3",
        "IPY_MODEL_357b13a66a54461f85c83b5b839d7d28",
        "IPY_MODEL_a3f16a6cbca94073ba02caf0836ffa22",
        "IPY_MODEL_a012abcd6bc74010a12be773710adbaa"
       ],
       "layout": "IPY_MODEL_8414c7b941434c7eb8a7d5c1f8c42b9d"
      }
     },
     "db083b36502a43eab0cf563b9bd73746": {
      "model_module": "@jupyter-widgets/controls",
      "model_module_version": "1.5.0",
      "model_name": "SliderStyleModel",
      "state": {
       "description_width": ""
      }
     },
     "db2c3d17ca504ca5b12bf8431213c47a": {
      "model_module": "@jupyter-widgets/base",
      "model_module_version": "1.2.0",
      "model_name": "LayoutModel",
      "state": {}
     },
     "db31d87ca5bd458cb9dc6cdc2b581278": {
      "model_module": "@jupyter-widgets/controls",
      "model_module_version": "1.5.0",
      "model_name": "DescriptionStyleModel",
      "state": {
       "description_width": ""
      }
     },
     "db4c3609b3594e998f5efdb2721b2014": {
      "model_module": "@jupyter-widgets/base",
      "model_module_version": "1.2.0",
      "model_name": "LayoutModel",
      "state": {}
     },
     "db9786a656f34ac28c504fcbba72adc2": {
      "model_module": "@jupyter-widgets/controls",
      "model_module_version": "1.5.0",
      "model_name": "BoundedIntTextModel",
      "state": {
       "description": "step",
       "layout": "IPY_MODEL_0aa1b06dc5f043478644fff372f306a6",
       "min": 1,
       "style": "IPY_MODEL_d52a4a8134f1480391b2605634851c73",
       "value": 1
      }
     },
     "db99c174f80c4e11afb1a06e36228357": {
      "model_module": "@jupyter-widgets/controls",
      "model_module_version": "1.5.0",
      "model_name": "BoundedIntTextModel",
      "state": {
       "description": "index",
       "layout": "IPY_MODEL_07d9bb8ab52941bd8dcb93c7cdc8d27a",
       "style": "IPY_MODEL_2f2ae84d6e0a4ce28cb9b46fe5dc6734",
       "value": 2
      }
     },
     "dba8e0ab6061420e8b48f4b135b91803": {
      "model_module": "@jupyter-widgets/controls",
      "model_module_version": "1.5.0",
      "model_name": "VBoxModel",
      "state": {
       "children": [
        "IPY_MODEL_2238306649c540a699db292dd4180023",
        "IPY_MODEL_54769b26134a4b46a9dd5a9fb3fe96f0"
       ],
       "layout": "IPY_MODEL_c2f52039c5e94671870caf9530fd4b32"
      }
     },
     "dbad586bb58147e6897aca87cba5932c": {
      "model_module": "@jupyter-widgets/base",
      "model_module_version": "1.2.0",
      "model_name": "LayoutModel",
      "state": {}
     },
     "dbaf90d5970446e487e5f643041a9b19": {
      "model_module": "@jupyter-widgets/controls",
      "model_module_version": "1.5.0",
      "model_name": "IntSliderModel",
      "state": {
       "description": "value",
       "layout": "IPY_MODEL_587b1dffe6b24823be3ef953d7ec9603",
       "max": 10,
       "min": 1,
       "style": "IPY_MODEL_47afa44d41864f5d83f07650c61ec59f",
       "value": 3
      }
     },
     "dc1c563d342944eaa299bfa37de8cde0": {
      "model_module": "@jupyter-widgets/controls",
      "model_module_version": "1.5.0",
      "model_name": "DescriptionStyleModel",
      "state": {
       "description_width": ""
      }
     },
     "dc46966f56364b3d88a735f76b6d6252": {
      "model_module": "@jupyter-widgets/controls",
      "model_module_version": "1.5.0",
      "model_name": "ButtonModel",
      "state": {
       "description": "Add",
       "layout": "IPY_MODEL_a5b19a4d1f704db9af915e12ec2ced02",
       "style": "IPY_MODEL_4ade1c185619410ba023ba5776236f1d"
      }
     },
     "dc6aaa49edae4ee0a2076a316cb680a5": {
      "model_module": "@jupyter-widgets/base",
      "model_module_version": "1.2.0",
      "model_name": "LayoutModel",
      "state": {}
     },
     "dc78887cbf65451da414929cd7c91b7c": {
      "model_module": "@jupyter-widgets/controls",
      "model_module_version": "1.5.0",
      "model_name": "VBoxModel",
      "state": {
       "children": [
        "IPY_MODEL_ee6320aebd6c4f979ca54ea3eb66adf6",
        "IPY_MODEL_a4fa7ee9cac145eeaefbeb889426714b",
        "IPY_MODEL_fc4a3b0a28974c0387dfb19294949f65",
        "IPY_MODEL_62ec89cc0dd34f1285be7721c7c1a81f",
        "IPY_MODEL_8e9eadb874e74667b49b67960eb2b573"
       ],
       "layout": "IPY_MODEL_68706a1111d3487ebdb00d305a329564"
      }
     },
     "dc93e065fc0b494a9a9f6ed34b82a08a": {
      "model_module": "@jupyter-widgets/controls",
      "model_module_version": "1.5.0",
      "model_name": "IntSliderModel",
      "state": {
       "description": "value",
       "layout": "IPY_MODEL_26313b1b0e774a5c9296c77a9fb42f6f",
       "max": 10,
       "min": 1,
       "style": "IPY_MODEL_12f7c4ba0f6d4b888ba73f16f369a10a",
       "value": 8
      }
     },
     "dc97f2b89053407e94e886a87cb5eb6b": {
      "model_module": "@jupyter-widgets/controls",
      "model_module_version": "1.5.0",
      "model_name": "IntTextModel",
      "state": {
       "description": "max",
       "layout": "IPY_MODEL_2e6fdecb680e44eab31fbab1ebfe7703",
       "step": 1,
       "style": "IPY_MODEL_776b369c935b4b23a7d6651a4cec65fa",
       "value": 10
      }
     },
     "dcc692a1e723402b8515dab5a7fae469": {
      "model_module": "@jupyter-widgets/controls",
      "model_module_version": "1.5.0",
      "model_name": "DescriptionStyleModel",
      "state": {
       "description_width": ""
      }
     },
     "dd756382441c405cb77e16e203e7f887": {
      "model_module": "@jupyter-widgets/base",
      "model_module_version": "1.2.0",
      "model_name": "LayoutModel",
      "state": {}
     },
     "dd8cbc2eaaeb415dbc538b88d4e53a59": {
      "model_module": "pgljupyter",
      "model_module_version": "^0.1.2",
      "model_name": "IntEditorModel",
      "state": {
       "_model_module_version": "^0.1.2",
       "_view_module_version": "^0.1.2",
       "children": [
        "IPY_MODEL_cf6091e0273242ae91488af7bed1c9b8",
        "IPY_MODEL_777034ee9c8848ce81cea022bafe8d9a",
        "IPY_MODEL_abdee7edd55249719f1a4066ecbd2150",
        "IPY_MODEL_4f98121246334297a02fb360aff2e606",
        "IPY_MODEL_cceb5c3176fc4d4391580243e90f5c8d"
       ],
       "layout": "IPY_MODEL_02a74f7bceb840a7a578defaea9f85bd"
      }
     },
     "de0b48a6cb134fff9766d15989761c4a": {
      "model_module": "@jupyter-widgets/controls",
      "model_module_version": "1.5.0",
      "model_name": "ButtonStyleModel",
      "state": {}
     },
     "de40add93b8a4b35b57878f54f78831a": {
      "model_module": "@jupyter-widgets/base",
      "model_module_version": "1.2.0",
      "model_name": "LayoutModel",
      "state": {}
     },
     "de4f8356b53a4020880a9d2e97d68ef3": {
      "model_module": "@jupyter-widgets/controls",
      "model_module_version": "1.5.0",
      "model_name": "DescriptionStyleModel",
      "state": {
       "description_width": ""
      }
     },
     "deaf1e6127c04a738ef764a2542eff1b": {
      "model_module": "@jupyter-widgets/base",
      "model_module_version": "1.2.0",
      "model_name": "LayoutModel",
      "state": {}
     },
     "df58d07e8a294d0fa7e7066be5191571": {
      "model_module": "@jupyter-widgets/base",
      "model_module_version": "1.2.0",
      "model_name": "LayoutModel",
      "state": {
       "margin": "20px 0px"
      }
     },
     "df95ab311aec4dfa843cb14b58334dec": {
      "model_module": "@jupyter-widgets/controls",
      "model_module_version": "1.5.0",
      "model_name": "DescriptionStyleModel",
      "state": {
       "description_width": ""
      }
     },
     "dfb6de20b2d040d389489361ab6b5b90": {
      "model_module": "@jupyter-widgets/controls",
      "model_module_version": "1.5.0",
      "model_name": "BoundedIntTextModel",
      "state": {
       "description": "index",
       "layout": "IPY_MODEL_6526d94e31d541bf82341883da088798",
       "style": "IPY_MODEL_f7bc81beab154e9e9e68dc0ef851e9f4",
       "value": 4
      }
     },
     "dfd526526e204be88fd05e05ac6a58cf": {
      "model_module": "@jupyter-widgets/base",
      "model_module_version": "1.2.0",
      "model_name": "LayoutModel",
      "state": {}
     },
     "e0d3b484200b4472a943c361ea5e1294": {
      "model_module": "@jupyter-widgets/base",
      "model_module_version": "1.2.0",
      "model_name": "LayoutModel",
      "state": {}
     },
     "e0fe7799410b49c6918278e53e30b819": {
      "model_module": "pgljupyter",
      "model_module_version": "^0.1.2",
      "model_name": "CurveEditorModel",
      "state": {
       "_model_module_version": "^0.1.2",
       "_view_module_version": "^0.1.2",
       "children": [
        "IPY_MODEL_ea4c650ac81c44fdaf31b1d9eebdfd74",
        "IPY_MODEL_5fcc45e79e4548fd9842f2b10f8450e1"
       ],
       "layout": "IPY_MODEL_996caf2446e9407b9b792dca3f37a21f"
      }
     },
     "e124b9fefb784a3bad65373e1ef9c403": {
      "model_module": "@jupyter-widgets/controls",
      "model_module_version": "1.5.0",
      "model_name": "SliderStyleModel",
      "state": {
       "description_width": ""
      }
     },
     "e156370312ca44d5b9eaffa7beeb1c52": {
      "model_module": "@jupyter-widgets/controls",
      "model_module_version": "1.5.0",
      "model_name": "ButtonModel",
      "state": {
       "description": "Add",
       "layout": "IPY_MODEL_a76bae76a03543469d6f1e10f6d263cb",
       "style": "IPY_MODEL_d815cf04fa1e4602a3eae7b84a7a88e8"
      }
     },
     "e1ab7903552947558c2f9def1fa24f2a": {
      "model_module": "@jupyter-widgets/base",
      "model_module_version": "1.2.0",
      "model_name": "LayoutModel",
      "state": {
       "margin": "20px 0px"
      }
     },
     "e1d8481c897f4febb51664392ed71944": {
      "model_module": "@jupyter-widgets/controls",
      "model_module_version": "1.5.0",
      "model_name": "DescriptionStyleModel",
      "state": {
       "description_width": ""
      }
     },
     "e202f552d4a24fbbae5bf3a8236edbdd": {
      "model_module": "@jupyter-widgets/controls",
      "model_module_version": "1.5.0",
      "model_name": "DescriptionStyleModel",
      "state": {
       "description_width": ""
      }
     },
     "e22c85174a2a4a7ba7797cf1f39856bf": {
      "model_module": "@jupyter-widgets/controls",
      "model_module_version": "1.5.0",
      "model_name": "HBoxModel",
      "state": {
       "layout": "IPY_MODEL_1bcadc721303432abe9c782e04d39bdb"
      }
     },
     "e3071eba15a74f3fb224da653c0acb19": {
      "model_module": "@jupyter-widgets/controls",
      "model_module_version": "1.5.0",
      "model_name": "HBoxModel",
      "state": {
       "children": [
        "IPY_MODEL_578316b91d17484a80132ba6fadd8e4d",
        "IPY_MODEL_48c1f53971054738990806ae620d7667"
       ],
       "layout": "IPY_MODEL_d5974bbba58d48d682cb09b34e264de7"
      }
     },
     "e38a5927e6934a1eb8de6edff55adc76": {
      "model_module": "@jupyter-widgets/controls",
      "model_module_version": "1.5.0",
      "model_name": "FloatSliderModel",
      "state": {
       "description": "transparency",
       "layout": "IPY_MODEL_8d72828213d54034baa081e13312c7e8",
       "max": 1,
       "step": 0.1,
       "style": "IPY_MODEL_c77747e99e2248869202f774aa46d72e",
       "value": 1
      }
     },
     "e3ca09485f8f45a38649ee0f2bdcfb30": {
      "model_module": "@jupyter-widgets/controls",
      "model_module_version": "1.5.0",
      "model_name": "DescriptionStyleModel",
      "state": {
       "description_width": ""
      }
     },
     "e4bda8110a6f4eb5951c91a6a55e12fc": {
      "model_module": "@jupyter-widgets/base",
      "model_module_version": "1.2.0",
      "model_name": "LayoutModel",
      "state": {}
     },
     "e4c4383d338c4f9f97d40c892dd6df0b": {
      "model_module": "@jupyter-widgets/controls",
      "model_module_version": "1.5.0",
      "model_name": "DescriptionStyleModel",
      "state": {
       "description_width": ""
      }
     },
     "e4d183dca0944a01b23d4f4e77be074e": {
      "model_module": "@jupyter-widgets/controls",
      "model_module_version": "1.5.0",
      "model_name": "DescriptionStyleModel",
      "state": {
       "description_width": ""
      }
     },
     "e4ed2a8cf83f4a3f8f4c15b9e43983af": {
      "model_module": "@jupyter-widgets/base",
      "model_module_version": "1.2.0",
      "model_name": "LayoutModel",
      "state": {}
     },
     "e553c2f8eeb9415c82b98e1a6115e9d8": {
      "model_module": "@jupyter-widgets/controls",
      "model_module_version": "1.5.0",
      "model_name": "DescriptionStyleModel",
      "state": {
       "description_width": ""
      }
     },
     "e5933bb77a9d413a9d681c31c7d59d46": {
      "model_module": "@jupyter-widgets/controls",
      "model_module_version": "1.5.0",
      "model_name": "ButtonModel",
      "state": {
       "description": "Add",
       "layout": "IPY_MODEL_211b1b5d82264938ace5ce2c20caba9b",
       "style": "IPY_MODEL_c8f7c0c083654692bcaf39f7ed6f4596"
      }
     },
     "e5e3ace6dc704e5aafec173d9f05163d": {
      "model_module": "@jupyter-widgets/controls",
      "model_module_version": "1.5.0",
      "model_name": "FloatSliderModel",
      "state": {
       "description": "diffuse",
       "layout": "IPY_MODEL_76df08ea6d28482b8c1f8e499825360f",
       "max": 1,
       "step": 0.1,
       "style": "IPY_MODEL_5dfb04fd42f143819e97dabdc39b2d5f",
       "value": 1
      }
     },
     "e5e553e6acfa43be9690659edc56b638": {
      "model_module": "@jupyter-widgets/controls",
      "model_module_version": "1.5.0",
      "model_name": "VBoxModel",
      "state": {
       "children": [
        "IPY_MODEL_beffbb3f77dd4d94aef20d7baaf0b0b4",
        "IPY_MODEL_038dd9c257d341c099569c1521bb00f1"
       ],
       "layout": "IPY_MODEL_358645419ea648e0a94f01980055f440"
      }
     },
     "e6ea0b5e2d744d0ca6bd14b27c292d5e": {
      "model_module": "@jupyter-widgets/base",
      "model_module_version": "1.2.0",
      "model_name": "LayoutModel",
      "state": {}
     },
     "e6f7999a813c4addbdf894e262c9168f": {
      "model_module": "pgljupyter",
      "model_module_version": "^0.1.14",
      "model_name": "MaterialEditorModel",
      "state": {
       "_model_module_version": "^0.1.14",
       "_view_module_version": "^0.1.14",
       "children": [
        "IPY_MODEL_823f7f7401fd4f2db5bafaecaddc2207",
        "IPY_MODEL_bfebe2c916cd4f94ba35b732dbd68fc0",
        "IPY_MODEL_688fe3d73f9c4ca091ec59245c5a6eb0",
        "IPY_MODEL_f5a61e07ca2547a48dc488b02d2e4866",
        "IPY_MODEL_97d0ec30cb08453f949f7b6111f45ad9",
        "IPY_MODEL_49d765156c8d405a9d5045aaad000d89",
        "IPY_MODEL_b8a341e1224a48b5bd5cc9f85ff9b22c"
       ],
       "layout": "IPY_MODEL_d11ae994789144a783cc4f4ae6406755"
      }
     },
     "e7029c8f593c45218835e45c08d07b99": {
      "model_module": "@jupyter-widgets/base",
      "model_module_version": "1.2.0",
      "model_name": "LayoutModel",
      "state": {}
     },
     "e726edc415ce408287086d7be2efd682": {
      "model_module": "@jupyter-widgets/controls",
      "model_module_version": "1.5.0",
      "model_name": "DescriptionStyleModel",
      "state": {
       "description_width": ""
      }
     },
     "e7d57c4c8c8a4814a66792e624eab80b": {
      "model_module": "@jupyter-widgets/controls",
      "model_module_version": "1.5.0",
      "model_name": "DropdownModel",
      "state": {
       "_options_labels": [
        "Integer",
        "Float",
        "Bool"
       ],
       "index": 0,
       "layout": "IPY_MODEL_c40d91bd421049d38bc8e192e39e9122",
       "style": "IPY_MODEL_07222ec0cc5f4b80ac8b7e5edc408fd8"
      }
     },
     "e8085364e31d455da333f395d8708b18": {
      "model_module": "@jupyter-widgets/controls",
      "model_module_version": "1.5.0",
      "model_name": "FloatSliderModel",
      "state": {
       "description": "transparency",
       "layout": "IPY_MODEL_ab842bdc36b84649bdf23c718ad661b1",
       "max": 1,
       "step": 0.1,
       "style": "IPY_MODEL_30ea76a55acd406bad8fb7188aff0f41",
       "value": 1
      }
     },
     "e814128cb3ca406599575becc4a69bc2": {
      "model_module": "@jupyter-widgets/base",
      "model_module_version": "1.2.0",
      "model_name": "LayoutModel",
      "state": {}
     },
     "e83dc2353dde47c89a318c26129fe28f": {
      "model_module": "@jupyter-widgets/controls",
      "model_module_version": "1.5.0",
      "model_name": "ButtonStyleModel",
      "state": {}
     },
     "e932545f5a6741aba1e8ae82ce2fcd9d": {
      "model_module": "@jupyter-widgets/base",
      "model_module_version": "1.2.0",
      "model_name": "LayoutModel",
      "state": {}
     },
     "e9a35bdd82414d47ad0f97d860c1798a": {
      "model_module": "@jupyter-widgets/base",
      "model_module_version": "1.2.0",
      "model_name": "LayoutModel",
      "state": {}
     },
     "e9a9f6fca3b84589a232b1138b72fa62": {
      "model_module": "@jupyter-widgets/controls",
      "model_module_version": "1.5.0",
      "model_name": "FloatSliderModel",
      "state": {
       "description": "shininess",
       "layout": "IPY_MODEL_1a573eadc9614551b2751a0416609504",
       "max": 1,
       "step": 0.1,
       "style": "IPY_MODEL_bc0183c58b444802a552b4adb9c91726",
       "value": 0.5
      }
     },
     "ea4c650ac81c44fdaf31b1d9eebdfd74": {
      "model_module": "@jupyter-widgets/controls",
      "model_module_version": "1.5.0",
      "model_name": "TextModel",
      "state": {
       "continuous_update": false,
       "description": "name",
       "layout": "IPY_MODEL_4ab95f25721548e9a6f9af0e22f82169",
       "style": "IPY_MODEL_1025d095d9fd45ac972ac75098ab94e7",
       "value": "NurbsCurve2D_1"
      }
     },
     "ea7885aa88c346e4ad852d6891676205": {
      "model_module": "@jupyter-widgets/base",
      "model_module_version": "1.2.0",
      "model_name": "LayoutModel",
      "state": {}
     },
     "ea946b50bbd743e3a866b07dd18678df": {
      "model_module": "pgljupyter",
      "model_module_version": "^0.1.2",
      "model_name": "CurveEditorModel",
      "state": {
       "_model_module_version": "^0.1.2",
       "_view_module_version": "^0.1.2",
       "children": [
        "IPY_MODEL_0517c90068cf49819b0878b929df6a97",
        "IPY_MODEL_78ba74ff3c3846c2b2a4b37a28c0386a"
       ],
       "layout": "IPY_MODEL_c55c011e738a41e3bfd9ff758ced3850"
      }
     },
     "eb2e69115216423890bbf2deae806d03": {
      "model_module": "@jupyter-widgets/controls",
      "model_module_version": "1.5.0",
      "model_name": "DescriptionStyleModel",
      "state": {
       "description_width": ""
      }
     },
     "eb67f0405c4a4a21ac1e3795da1d65b8": {
      "model_module": "@jupyter-widgets/base",
      "model_module_version": "1.2.0",
      "model_name": "LayoutModel",
      "state": {}
     },
     "eb925bb2ec044a0e94904c75d2959be6": {
      "model_module": "@jupyter-widgets/controls",
      "model_module_version": "1.5.0",
      "model_name": "ColorPickerModel",
      "state": {
       "description": "ambient",
       "disabled": false,
       "layout": "IPY_MODEL_649d1541de7b46a0b1ee576e245cf092",
       "style": "IPY_MODEL_339bb7c5bbd24525889f6050716638c6",
       "value": "#e1a014"
      }
     },
     "ebb168363859428c910fbb683a4d6956": {
      "model_module": "@jupyter-widgets/base",
      "model_module_version": "1.2.0",
      "model_name": "LayoutModel",
      "state": {}
     },
     "ec24f35bb3fa42c4a49afed0c7c8655d": {
      "model_module": "@jupyter-widgets/controls",
      "model_module_version": "1.5.0",
      "model_name": "DropdownModel",
      "state": {
       "_options_labels": [
        "leafduration",
        "leafold",
        "maxorder",
        "radinc"
       ],
       "index": 0,
       "layout": "IPY_MODEL_7d94c059507f42e4aa7fdbe39beb4a2a",
       "style": "IPY_MODEL_5033c64811d044d4bfb1668fefbe13dd"
      }
     },
     "ec674bd006ba488bbcb7fb4fcf6d4c3b": {
      "model_module": "@jupyter-widgets/controls",
      "model_module_version": "1.5.0",
      "model_name": "DescriptionStyleModel",
      "state": {
       "description_width": ""
      }
     },
     "ec6f227e1d1849c6b081b477e8c87086": {
      "model_module": "@jupyter-widgets/controls",
      "model_module_version": "1.5.0",
      "model_name": "TextModel",
      "state": {
       "continuous_update": false,
       "description": "name",
       "layout": "IPY_MODEL_dfd526526e204be88fd05e05ac6a58cf",
       "style": "IPY_MODEL_fa8055adf8ff43bfa13760cfa502d0d1",
       "value": "color_4"
      }
     },
     "ecf696d417284f0cb878728b147b5e1a": {
      "model_module": "@jupyter-widgets/base",
      "model_module_version": "1.2.0",
      "model_name": "LayoutModel",
      "state": {}
     },
     "ed77f043f57c453185e88f41eb97980c": {
      "model_module": "@jupyter-widgets/base",
      "model_module_version": "1.2.0",
      "model_name": "LayoutModel",
      "state": {}
     },
     "ee2e3e4b8e134b2f9faf01615d057f6b": {
      "model_module": "@jupyter-widgets/base",
      "model_module_version": "1.2.0",
      "model_name": "LayoutModel",
      "state": {}
     },
     "ee6320aebd6c4f979ca54ea3eb66adf6": {
      "model_module": "@jupyter-widgets/controls",
      "model_module_version": "1.5.0",
      "model_name": "HBoxModel",
      "state": {
       "children": [
        "IPY_MODEL_46bdc2ae0d2545468a3d1f00ad7a90d8"
       ],
       "layout": "IPY_MODEL_1bcadc721303432abe9c782e04d39bdb"
      }
     },
     "eeab74f6f1a84721a8eb814d0d0499fc": {
      "model_module": "@jupyter-widgets/controls",
      "model_module_version": "1.5.0",
      "model_name": "DescriptionStyleModel",
      "state": {
       "description_width": ""
      }
     },
     "eeb63f88ae9c40f29096db1ae83b5a51": {
      "model_module": "@jupyter-widgets/controls",
      "model_module_version": "1.5.0",
      "model_name": "ButtonStyleModel",
      "state": {}
     },
     "ef252b502441432d8ac2b0627de04cbc": {
      "model_module": "@jupyter-widgets/controls",
      "model_module_version": "1.5.0",
      "model_name": "SliderStyleModel",
      "state": {
       "description_width": ""
      }
     },
     "f039ea0c32604272aa1c50f111f7a4c9": {
      "model_module": "@jupyter-widgets/controls",
      "model_module_version": "1.5.0",
      "model_name": "VBoxModel",
      "state": {
       "children": [
        "IPY_MODEL_11eb943263dd4960811ae0dbed24247c",
        "IPY_MODEL_2b6d029d3363436bb4c3867096c43514"
       ],
       "layout": "IPY_MODEL_b882c7f790744974bc9b924e675cb756"
      }
     },
     "f07b9cc7bedd486eab67bbefbe1b3a81": {
      "model_module": "@jupyter-widgets/controls",
      "model_module_version": "1.5.0",
      "model_name": "SliderStyleModel",
      "state": {
       "description_width": ""
      }
     },
     "f0caa55e5c1c4f47b491d8bc9349488f": {
      "model_module": "@jupyter-widgets/controls",
      "model_module_version": "1.5.0",
      "model_name": "DescriptionStyleModel",
      "state": {
       "description_width": ""
      }
     },
     "f16cdc3e967e4e5181ff48b1be8bffe5": {
      "model_module": "@jupyter-widgets/base",
      "model_module_version": "1.2.0",
      "model_name": "LayoutModel",
      "state": {}
     },
     "f185c916dcb14fa48e134838b90ee266": {
      "model_module": "@jupyter-widgets/controls",
      "model_module_version": "1.5.0",
      "model_name": "ColorPickerModel",
      "state": {
       "description": "emission",
       "disabled": false,
       "layout": "IPY_MODEL_7007a25b0d9d449f82f3f6c626257ee5",
       "style": "IPY_MODEL_cc5944add9d34806bcf3e19b3041f41d",
       "value": "#1f48db"
      }
     },
     "f1b9ba91cef44e479644b35df0a07274": {
      "model_module": "@jupyter-widgets/controls",
      "model_module_version": "1.5.0",
      "model_name": "DescriptionStyleModel",
      "state": {
       "description_width": ""
      }
     },
     "f2909bc6d4ee462c956bfd2358ba855f": {
      "model_module": "@jupyter-widgets/base",
      "model_module_version": "1.2.0",
      "model_name": "LayoutModel",
      "state": {}
     },
     "f34b929398a24b469d2d633e8cbf34a2": {
      "model_module": "@jupyter-widgets/controls",
      "model_module_version": "1.5.0",
      "model_name": "ColorPickerModel",
      "state": {
       "description": "ambient",
       "disabled": false,
       "layout": "IPY_MODEL_425f0c41e24249038f40431856835760",
       "style": "IPY_MODEL_54e18e6488554c9eb34ba05898de159c",
       "value": "#604d3e"
      }
     },
     "f3575942fc0a42a398ac1f9fa3cd7631": {
      "model_module": "@jupyter-widgets/base",
      "model_module_version": "1.2.0",
      "model_name": "LayoutModel",
      "state": {}
     },
     "f378e5f9f0b6407c8d4b7b8343855811": {
      "model_module": "@jupyter-widgets/controls",
      "model_module_version": "1.5.0",
      "model_name": "DescriptionStyleModel",
      "state": {
       "description_width": ""
      }
     },
     "f388e0efafe1495e96c319279c5f947b": {
      "model_module": "@jupyter-widgets/controls",
      "model_module_version": "1.5.0",
      "model_name": "FloatSliderModel",
      "state": {
       "description": "shininess",
       "layout": "IPY_MODEL_35f6cf9c439d4fa8ae1b7d5de389c9af",
       "max": 1,
       "step": 0.1,
       "style": "IPY_MODEL_75d3e76ba91f4678a3a3444870c33a8e",
       "value": 0.7
      }
     },
     "f38ce8becd2f403f81f14f057115a3b5": {
      "model_module": "@jupyter-widgets/controls",
      "model_module_version": "1.5.0",
      "model_name": "ButtonModel",
      "state": {
       "description": "Apply changes",
       "disabled": true,
       "layout": "IPY_MODEL_0ed76f9058054c2e872da6c9c3e56420",
       "style": "IPY_MODEL_b139e2d1758644fabc8d862eb9e6e9ed"
      }
     },
     "f3d860caabce4e098008ac83f4020283": {
      "model_module": "@jupyter-widgets/controls",
      "model_module_version": "1.5.0",
      "model_name": "HBoxModel",
      "state": {
       "children": [
        "IPY_MODEL_7e4d389d197f4497ac9605341767eb5f",
        "IPY_MODEL_86f7b3b61bdf4991a46b8cca9a382724"
       ],
       "layout": "IPY_MODEL_428c33889979493ca7367d4a363d4e8e"
      }
     },
     "f3edf20f06664802b1ed1a7f3e4d9d75": {
      "model_module": "@jupyter-widgets/controls",
      "model_module_version": "1.5.0",
      "model_name": "DescriptionStyleModel",
      "state": {
       "description_width": ""
      }
     },
     "f495b3330b9a4aab9c573969d8966f83": {
      "model_module": "@jupyter-widgets/base",
      "model_module_version": "1.2.0",
      "model_name": "LayoutModel",
      "state": {}
     },
     "f51d23fb95a149d58c45b9418439c024": {
      "model_module": "@jupyter-widgets/controls",
      "model_module_version": "1.5.0",
      "model_name": "IntTextModel",
      "state": {
       "description": "min",
       "layout": "IPY_MODEL_51e4a756a4174e399005475e57e78c22",
       "step": 1,
       "style": "IPY_MODEL_7232c740023240b0b1c44beed3ceaa3f",
       "value": 1
      }
     },
     "f53d50f573ea4c8196171420178e0463": {
      "model_module": "@jupyter-widgets/base",
      "model_module_version": "1.2.0",
      "model_name": "LayoutModel",
      "state": {}
     },
     "f54dce5c967d42ddacd908ff611f1d2e": {
      "model_module": "@jupyter-widgets/controls",
      "model_module_version": "1.5.0",
      "model_name": "HBoxModel",
      "state": {
       "children": [
        "IPY_MODEL_e156370312ca44d5b9eaffa7beeb1c52",
        "IPY_MODEL_1a360a5c3c3e466d911a03a19d817dca",
        "IPY_MODEL_7fd4070bf1f748a6978285867f3fd655",
        "IPY_MODEL_c6a312a270f14428b4ad614b9369cd85"
       ],
       "layout": "IPY_MODEL_f56daa410ee44854874b448e60b2c3c9"
      }
     },
     "f56daa410ee44854874b448e60b2c3c9": {
      "model_module": "@jupyter-widgets/base",
      "model_module_version": "1.2.0",
      "model_name": "LayoutModel",
      "state": {
       "flex_flow": "row wrap",
       "margin": "20px"
      }
     },
     "f571b090508244a7b467737c415e2fad": {
      "model_module": "@jupyter-widgets/controls",
      "model_module_version": "1.5.0",
      "model_name": "DescriptionStyleModel",
      "state": {
       "description_width": ""
      }
     },
     "f5a61e07ca2547a48dc488b02d2e4866": {
      "model_module": "@jupyter-widgets/controls",
      "model_module_version": "1.5.0",
      "model_name": "ColorPickerModel",
      "state": {
       "description": "specular",
       "disabled": false,
       "layout": "IPY_MODEL_4b68990f7c95481cba2019dad4acc95d",
       "style": "IPY_MODEL_3612f7a7682b474f93b17b5d79359613",
       "value": "#282828"
      }
     },
     "f6b8371c97d6438d81a54fc86fdfb536": {
      "model_module": "@jupyter-widgets/base",
      "model_module_version": "1.2.0",
      "model_name": "LayoutModel",
      "state": {
       "flex_flow": "row wrap"
      }
     },
     "f6f05266241f4d77a16801297c843107": {
      "model_module": "pgljupyter",
      "model_module_version": "^0.1.14",
      "model_name": "IntEditorModel",
      "state": {
       "_model_module_version": "^0.1.14",
       "_view_module_version": "^0.1.14",
       "children": [
        "IPY_MODEL_d791db9c9abd4f01b6f0fc0e44c489d8",
        "IPY_MODEL_64120dfb80a645d68606e0062c5c563c",
        "IPY_MODEL_02bb664da5f046189a579eed3aa3964f",
        "IPY_MODEL_da5895349d2b44149c25926ea9102116",
        "IPY_MODEL_6194e43fb489473e9bd1e1543e91458e"
       ],
       "layout": "IPY_MODEL_2ecc06fc96384fc582bbc1690d7ec0f0"
      }
     },
     "f6f69156ecf34f9596a623ebda071f85": {
      "model_module": "@jupyter-widgets/controls",
      "model_module_version": "1.5.0",
      "model_name": "ButtonStyleModel",
      "state": {}
     },
     "f74b91788cb546d0976cda4bc856aef6": {
      "model_module": "@jupyter-widgets/base",
      "model_module_version": "1.2.0",
      "model_name": "LayoutModel",
      "state": {}
     },
     "f7545150d64f4c3b923ca1dbaec773d1": {
      "model_module": "@jupyter-widgets/controls",
      "model_module_version": "1.5.0",
      "model_name": "SliderStyleModel",
      "state": {
       "description_width": ""
      }
     },
     "f79988204f874b4b990f329de61ad10e": {
      "model_module": "@jupyter-widgets/controls",
      "model_module_version": "1.5.0",
      "model_name": "DescriptionStyleModel",
      "state": {
       "description_width": ""
      }
     },
     "f79cbb65addd4b239b22ebb3e4edaceb": {
      "model_module": "@jupyter-widgets/controls",
      "model_module_version": "1.5.0",
      "model_name": "SliderStyleModel",
      "state": {
       "description_width": ""
      }
     },
     "f7bc81beab154e9e9e68dc0ef851e9f4": {
      "model_module": "@jupyter-widgets/controls",
      "model_module_version": "1.5.0",
      "model_name": "DescriptionStyleModel",
      "state": {
       "description_width": ""
      }
     },
     "f877f58a4a8f446bae74488efbef66b0": {
      "model_module": "@jupyter-widgets/controls",
      "model_module_version": "1.5.0",
      "model_name": "TextModel",
      "state": {
       "continuous_update": false,
       "description": "name",
       "layout": "IPY_MODEL_2c459c82701d4343a44e9daf1dc0cd65",
       "style": "IPY_MODEL_4194c689e5fa497f9d21a411b43c0a30",
       "value": "radinc"
      }
     },
     "f87af6e13bdd4e268f395b44ce991bbf": {
      "model_module": "@jupyter-widgets/base",
      "model_module_version": "1.2.0",
      "model_name": "LayoutModel",
      "state": {}
     },
     "f90a42a43b1f4bed81fc082672b8e388": {
      "model_module": "@jupyter-widgets/base",
      "model_module_version": "1.2.0",
      "model_name": "LayoutModel",
      "state": {}
     },
     "f9142146147f42268f4e4b4b13e85c5f": {
      "model_module": "@jupyter-widgets/base",
      "model_module_version": "1.2.0",
      "model_name": "LayoutModel",
      "state": {}
     },
     "f91d2ac41e5c4dfaa339b47ecbc48765": {
      "model_module": "@jupyter-widgets/controls",
      "model_module_version": "1.5.0",
      "model_name": "DescriptionStyleModel",
      "state": {
       "description_width": ""
      }
     },
     "f94496cb3e8f4929a17732ebf63fdc5d": {
      "model_module": "@jupyter-widgets/base",
      "model_module_version": "1.2.0",
      "model_name": "LayoutModel",
      "state": {}
     },
     "f98f574b894146bdac3cc74bf1517323": {
      "model_module": "@jupyter-widgets/controls",
      "model_module_version": "1.5.0",
      "model_name": "DropdownModel",
      "state": {
       "_options_labels": [
        "Color"
       ],
       "index": 0,
       "layout": "IPY_MODEL_f9142146147f42268f4e4b4b13e85c5f",
       "style": "IPY_MODEL_ec674bd006ba488bbcb7fb4fcf6d4c3b"
      }
     },
     "f9f743e89f6a4cc3af534e5d9f0f052d": {
      "model_module": "@jupyter-widgets/controls",
      "model_module_version": "1.5.0",
      "model_name": "ColorPickerModel",
      "state": {
       "description": "emission",
       "disabled": false,
       "layout": "IPY_MODEL_33ec9c5667a5451786a5c5e914e5dc10",
       "style": "IPY_MODEL_f0caa55e5c1c4f47b491d8bc9349488f",
       "value": "#1f48db"
      }
     },
     "fa2ab2109edb48bb9783d6353f95f9f5": {
      "model_module": "@jupyter-widgets/controls",
      "model_module_version": "1.5.0",
      "model_name": "DescriptionStyleModel",
      "state": {
       "description_width": ""
      }
     },
     "fa5ab9a9bee44bd487e3af93b6960686": {
      "model_module": "@jupyter-widgets/base",
      "model_module_version": "1.2.0",
      "model_name": "LayoutModel",
      "state": {}
     },
     "fa8055adf8ff43bfa13760cfa502d0d1": {
      "model_module": "@jupyter-widgets/controls",
      "model_module_version": "1.5.0",
      "model_name": "DescriptionStyleModel",
      "state": {
       "description_width": ""
      }
     },
     "fb008d8d2c234664ba3ae188ecac3d55": {
      "model_module": "@jupyter-widgets/controls",
      "model_module_version": "1.5.0",
      "model_name": "IntTextModel",
      "state": {
       "description": "min",
       "layout": "IPY_MODEL_39ceb78dfb1449b399b665ad13905765",
       "step": 1,
       "style": "IPY_MODEL_3ec6ca9ab67e4732aae15b941861a1e6",
       "value": 1
      }
     },
     "fb23ff6df53c4979935c5cfe3bf1f9b7": {
      "model_module": "@jupyter-widgets/base",
      "model_module_version": "1.2.0",
      "model_name": "LayoutModel",
      "state": {}
     },
     "fb6fdce322514387af4f9d06ea315c68": {
      "model_module": "@jupyter-widgets/base",
      "model_module_version": "1.2.0",
      "model_name": "LayoutModel",
      "state": {}
     },
     "fbd3c620d7bd47818d5487d92b540c7d": {
      "model_module": "@jupyter-widgets/controls",
      "model_module_version": "1.5.0",
      "model_name": "DescriptionStyleModel",
      "state": {
       "description_width": ""
      }
     },
     "fc4a3b0a28974c0387dfb19294949f65": {
      "model_module": "@jupyter-widgets/controls",
      "model_module_version": "1.5.0",
      "model_name": "HBoxModel",
      "state": {
       "children": [
        "IPY_MODEL_dabcaf8551834d1191d28e9c7931d628",
        "IPY_MODEL_c19ba1d02b874e30b0117e9a6459e5d3",
        "IPY_MODEL_f6f05266241f4d77a16801297c843107",
        "IPY_MODEL_71ec069b5c5a40f4bc2771f12be256d7",
        "IPY_MODEL_61c449b60b4c4a21be0c707bc74e9bf8"
       ],
       "layout": "IPY_MODEL_fdc392c7cf9844a2b7daa72c52be63a0"
      }
     },
     "fd0abaa1c37f4431b5d5a18b4c3a0ec0": {
      "model_module": "@jupyter-widgets/base",
      "model_module_version": "1.2.0",
      "model_name": "LayoutModel",
      "state": {}
     },
     "fd7d330ce7384b0b8b5b1d06fe02e1b5": {
      "model_module": "@jupyter-widgets/controls",
      "model_module_version": "1.5.0",
      "model_name": "DescriptionStyleModel",
      "state": {
       "description_width": ""
      }
     },
     "fdaf5fa5a54f4007a8756ffb7b209215": {
      "model_module": "@jupyter-widgets/base",
      "model_module_version": "1.2.0",
      "model_name": "LayoutModel",
      "state": {}
     },
     "fdc322002e0147a3b3a787527f552f68": {
      "model_module": "@jupyter-widgets/controls",
      "model_module_version": "1.5.0",
      "model_name": "BoundedFloatTextModel",
      "state": {
       "description": "step",
       "layout": "IPY_MODEL_a6b539cc15804907989b197d4b2cbdbe",
       "max": 1,
       "min": 0.01,
       "step": 0.01,
       "style": "IPY_MODEL_9c0cf9efa1154e3d8f992ee0f7cd1a7d",
       "value": 0.01
      }
     },
     "fdc392c7cf9844a2b7daa72c52be63a0": {
      "model_module": "@jupyter-widgets/base",
      "model_module_version": "1.2.0",
      "model_name": "LayoutModel",
      "state": {
       "flex_flow": "row wrap",
       "margin": "20px"
      }
     },
     "fdd80fe99a2c4941b1f17d90ef2bd04f": {
      "model_module": "@jupyter-widgets/controls",
      "model_module_version": "1.5.0",
      "model_name": "ColorPickerModel",
      "state": {
       "description": "emission",
       "disabled": false,
       "layout": "IPY_MODEL_2a5edf3ba1ac483c8ba70c9b29627380",
       "style": "IPY_MODEL_535753bdefa642f2833596ad6d1dcf7b",
       "value": "#000000"
      }
     },
     "fe0cdcc6562e4d7b98662c718d50f517": {
      "model_module": "@jupyter-widgets/base",
      "model_module_version": "1.2.0",
      "model_name": "LayoutModel",
      "state": {
       "flex_flow": "row wrap",
       "margin": "20px"
      }
     },
     "fe2b1c6cc94d41b8835500aa026cf33d": {
      "model_module": "pgljupyter",
      "model_module_version": "^0.1.14",
      "model_name": "MaterialEditorModel",
      "state": {
       "_model_module_version": "^0.1.14",
       "_view_module_version": "^0.1.14",
       "children": [
        "IPY_MODEL_a5b43622c08f430fa687e80bb00d1299",
        "IPY_MODEL_19496a4bd7a1437684fa4fc33a581b5a",
        "IPY_MODEL_6fa92963778b454f99a4c7b548144df1",
        "IPY_MODEL_5cf887d3feab499d9c355b88d984835c",
        "IPY_MODEL_a7a1a0e06ab8458e8a7a1156342615ba",
        "IPY_MODEL_459840c1039c40659fd49f4c086acc29",
        "IPY_MODEL_3483198dc61e4fb6a5fd59a5c83502d5"
       ],
       "layout": "IPY_MODEL_8f1da4b76f6c40d9add8f34cb84ac141"
      }
     },
     "fe83071c6a9940158069480e78541e89": {
      "model_module": "@jupyter-widgets/base",
      "model_module_version": "1.2.0",
      "model_name": "LayoutModel",
      "state": {}
     },
     "fec716c199b242e0a5c931895ec485ac": {
      "model_module": "@jupyter-widgets/controls",
      "model_module_version": "1.5.0",
      "model_name": "DescriptionStyleModel",
      "state": {
       "description_width": ""
      }
     },
     "fef5842bd92e42159dc06e93194ba888": {
      "model_module": "@jupyter-widgets/controls",
      "model_module_version": "1.5.0",
      "model_name": "HBoxModel",
      "state": {
       "children": [
        "IPY_MODEL_034ed870191544c4b7837fbbd29c712d",
        "IPY_MODEL_babb93ef0b924d3f89a84509076d9730"
       ],
       "layout": "IPY_MODEL_ea7885aa88c346e4ad852d6891676205"
      }
     },
     "ff9fd4d06cd7454f8709e4a0d31e4552": {
      "model_module": "@jupyter-widgets/controls",
      "model_module_version": "1.5.0",
      "model_name": "DescriptionStyleModel",
      "state": {
       "description_width": ""
      }
     },
     "ffda3c9b61de46869c7716efaf6f4d94": {
      "model_module": "@jupyter-widgets/base",
      "model_module_version": "1.2.0",
      "model_name": "LayoutModel",
      "state": {}
     }
    },
    "version_major": 2,
    "version_minor": 0
   }
  }
 },
 "nbformat": 4,
 "nbformat_minor": 4
}
