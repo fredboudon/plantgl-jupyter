{
 "cells": [
  {
   "cell_type": "code",
   "execution_count": 1,
   "metadata": {},
   "outputs": [],
   "source": [
    "from pgljupyter import LsystemWidget"
   ]
  },
  {
   "cell_type": "code",
   "execution_count": 2,
   "metadata": {},
   "outputs": [],
   "source": [
    "lw = LsystemWidget('leuwenberg.lpy', unit='m', size_world=50, animate=True)"
   ]
  },
  {
   "cell_type": "code",
   "execution_count": 3,
   "metadata": {},
   "outputs": [
    {
     "data": {
      "application/vnd.jupyter.widget-view+json": {
       "model_id": "4f77c9429d614340bdb8d72a7fb65751",
       "version_major": 2,
       "version_minor": 0
      },
      "text/plain": [
       "LsystemWidget(animate=True, derivationLength=41, scene={'data': b'x\\xdaSLrw\\xf5\\xf7e`Pp\\xe0\\xe5RPVVde```be\\x08…"
      ]
     },
     "metadata": {},
     "output_type": "display_data"
    }
   ],
   "source": [
    "lw"
   ]
  },
  {
   "cell_type": "code",
   "execution_count": null,
   "metadata": {},
   "outputs": [],
   "source": [
    "lw.editor"
   ]
  },
  {
   "cell_type": "code",
   "execution_count": null,
   "metadata": {},
   "outputs": [],
   "source": []
  }
 ],
 "metadata": {
  "kernelspec": {
   "display_name": "Python 3",
   "language": "python",
   "name": "python3"
  },
  "language_info": {
   "codemirror_mode": {
    "name": "ipython",
    "version": 3
   },
   "file_extension": ".py",
   "mimetype": "text/x-python",
   "name": "python",
   "nbconvert_exporter": "python",
   "pygments_lexer": "ipython3",
   "version": "3.8.5"
  },
  "widgets": {
   "application/vnd.jupyter.widget-state+json": {
    "state": {
     "0003eef9dd3941f89ac65b920608e8dc": {
      "model_module": "@jupyter-widgets/controls",
      "model_module_version": "1.5.0",
      "model_name": "TextModel",
      "state": {
       "continuous_update": false,
       "description": "name",
       "layout": "IPY_MODEL_0d347c8d511c4ca99b99c3030263eb62",
       "style": "IPY_MODEL_0c375f6ffc5f415bbfbaa228315317b0",
       "value": "leafold"
      }
     },
     "00d6b976c7584356bc8ace10cc276390": {
      "model_module": "@jupyter-widgets/controls",
      "model_module_version": "1.5.0",
      "model_name": "FloatSliderModel",
      "state": {
       "description": "diffuse",
       "layout": "IPY_MODEL_d18e48c309db4852aa5cdc3da1012b6e",
       "max": 3,
       "step": 0.1,
       "style": "IPY_MODEL_5493e679c57d4a0689415a4a88aea275",
       "value": 1
      }
     },
     "026723ae658e489db0402b1860155fde": {
      "model_module": "@jupyter-widgets/base",
      "model_module_version": "1.2.0",
      "model_name": "LayoutModel",
      "state": {}
     },
     "0414cc8a90c64c448f20ab6c7de8a484": {
      "model_module": "@jupyter-widgets/controls",
      "model_module_version": "1.5.0",
      "model_name": "DropdownModel",
      "state": {
       "_options_labels": [
        "Color"
       ],
       "index": 0,
       "layout": "IPY_MODEL_d56364ff1cc441588f37f856b104fb7f",
       "style": "IPY_MODEL_69adca6b2b7d471ca668269a5c227e1f"
      }
     },
     "0493264d976c421cbf4fe203f92091da": {
      "model_module": "@jupyter-widgets/base",
      "model_module_version": "1.2.0",
      "model_name": "LayoutModel",
      "state": {}
     },
     "0499384873a04178a41a7a611d6d08dc": {
      "model_module": "@jupyter-widgets/base",
      "model_module_version": "1.2.0",
      "model_name": "LayoutModel",
      "state": {}
     },
     "05158b063b184ffe96c65e42e171536a": {
      "model_module": "@jupyter-widgets/base",
      "model_module_version": "1.2.0",
      "model_name": "LayoutModel",
      "state": {}
     },
     "06a4c0bb621c49b0a886a6f2d4b71f84": {
      "model_module": "@jupyter-widgets/controls",
      "model_module_version": "1.5.0",
      "model_name": "BoundedIntTextModel",
      "state": {
       "description": "step",
       "layout": "IPY_MODEL_7015fbbda9c047b391aecaeef63cd104",
       "min": 1,
       "style": "IPY_MODEL_1a8e5e8102f24f6788a2e4825cfd5527",
       "value": 1
      }
     },
     "09ab73e88d6a48cf971284095d2d93ee": {
      "model_module": "@jupyter-widgets/controls",
      "model_module_version": "1.5.0",
      "model_name": "SliderStyleModel",
      "state": {
       "description_width": ""
      }
     },
     "0adb42962e0d46d8a508e6187f7b3e19": {
      "model_module": "@jupyter-widgets/controls",
      "model_module_version": "1.5.0",
      "model_name": "ButtonStyleModel",
      "state": {}
     },
     "0af1bb03cbd844ea9bfc0d9b864d0f8d": {
      "model_module": "@jupyter-widgets/base",
      "model_module_version": "1.2.0",
      "model_name": "LayoutModel",
      "state": {}
     },
     "0ba2cab9cc9d4511aad569640dfc3012": {
      "model_module": "@jupyter-widgets/controls",
      "model_module_version": "1.5.0",
      "model_name": "DescriptionStyleModel",
      "state": {
       "description_width": ""
      }
     },
     "0c375f6ffc5f415bbfbaa228315317b0": {
      "model_module": "@jupyter-widgets/controls",
      "model_module_version": "1.5.0",
      "model_name": "DescriptionStyleModel",
      "state": {
       "description_width": ""
      }
     },
     "0c4ef21d02cd4d5098cab60592f95c54": {
      "model_module": "@jupyter-widgets/base",
      "model_module_version": "1.2.0",
      "model_name": "LayoutModel",
      "state": {}
     },
     "0c7c19e5f2d64c77816e00b8b2cd8eea": {
      "model_module": "@jupyter-widgets/base",
      "model_module_version": "1.2.0",
      "model_name": "LayoutModel",
      "state": {}
     },
     "0ce5322222f04cda8b64b0849f810223": {
      "model_module": "@jupyter-widgets/controls",
      "model_module_version": "1.5.0",
      "model_name": "DescriptionStyleModel",
      "state": {
       "description_width": ""
      }
     },
     "0d347c8d511c4ca99b99c3030263eb62": {
      "model_module": "@jupyter-widgets/base",
      "model_module_version": "1.2.0",
      "model_name": "LayoutModel",
      "state": {}
     },
     "0d6a37d535614710acb801033c6e1b4b": {
      "model_module": "@jupyter-widgets/base",
      "model_module_version": "1.2.0",
      "model_name": "LayoutModel",
      "state": {}
     },
     "0d8106747f5f4d0a81928341852045a2": {
      "model_module": "@jupyter-widgets/base",
      "model_module_version": "1.2.0",
      "model_name": "LayoutModel",
      "state": {}
     },
     "0e698e6988a94950922b8014c320bdf8": {
      "model_module": "@jupyter-widgets/base",
      "model_module_version": "1.2.0",
      "model_name": "LayoutModel",
      "state": {}
     },
     "0f41b5c50bdb442a8ef61d9d982b922d": {
      "model_module": "@jupyter-widgets/controls",
      "model_module_version": "1.5.0",
      "model_name": "ButtonStyleModel",
      "state": {}
     },
     "0f84ed044f5d499287d57c8c98211fae": {
      "model_module": "@jupyter-widgets/controls",
      "model_module_version": "1.5.0",
      "model_name": "IntTextModel",
      "state": {
       "description": "max",
       "layout": "IPY_MODEL_f41d2bc09ad24d97b1e0e97f75537487",
       "step": 1,
       "style": "IPY_MODEL_a2eb67920af64606babedcf49f3ac443",
       "value": 10
      }
     },
     "0fbf4f04c7844825967a392870b05c3c": {
      "model_module": "@jupyter-widgets/base",
      "model_module_version": "1.2.0",
      "model_name": "LayoutModel",
      "state": {}
     },
     "1310fd264c314fc6ba058b93e9e20982": {
      "model_module": "@jupyter-widgets/base",
      "model_module_version": "1.2.0",
      "model_name": "LayoutModel",
      "state": {}
     },
     "1333161370364dc18b62b527843bccdf": {
      "model_module": "@jupyter-widgets/controls",
      "model_module_version": "1.5.0",
      "model_name": "HBoxModel",
      "state": {
       "children": [
        "IPY_MODEL_a5d0d447b1394b03986172fc7562d1f4",
        "IPY_MODEL_9bee7a831530488d8f1b62a13071e4a1"
       ],
       "layout": "IPY_MODEL_f7ff34c66d4b431c8d7a458913ac23de"
      }
     },
     "1353b6016646410798b195d84bc20e50": {
      "model_module": "pgljupyter",
      "model_module_version": "^0.1.16.dev0",
      "model_name": "MaterialEditorModel",
      "state": {
       "_model_module_version": "^0.1.16.dev0",
       "_view_module_version": "^0.1.16.dev0",
       "children": [
        "IPY_MODEL_896cb2a6eee44f0099cfa8dd5b2da22f",
        "IPY_MODEL_ca048b3e6ffe42779d97a92813a975b0",
        "IPY_MODEL_ae40200d7fdc43a69f8f57ce27d6891b",
        "IPY_MODEL_2c07ac220de942ccb12377bf94366b14",
        "IPY_MODEL_21350d8100af4acbbbba14f68c856baa",
        "IPY_MODEL_4c6828d30e454b219dd59636daba61a2",
        "IPY_MODEL_b11599f0c8c340be874b6f91e49e147c",
        "IPY_MODEL_e72c590e7a184b6fb4ad01d25e4545a9"
       ],
       "layout": "IPY_MODEL_24700b060af14c8981e7fbfedeade0f8"
      }
     },
     "13acdf1ccc5a4999af0676c08d452094": {
      "model_module": "@jupyter-widgets/controls",
      "model_module_version": "1.5.0",
      "model_name": "SliderStyleModel",
      "state": {
       "description_width": ""
      }
     },
     "13d73679d1fc4c1dafedf885b7d2c851": {
      "model_module": "@jupyter-widgets/base",
      "model_module_version": "1.2.0",
      "model_name": "LayoutModel",
      "state": {}
     },
     "155e496650f34366b813ae47225f42d5": {
      "model_module": "@jupyter-widgets/base",
      "model_module_version": "1.2.0",
      "model_name": "LayoutModel",
      "state": {}
     },
     "15cc82a7eb6848f88869d829430b0385": {
      "model_module": "@jupyter-widgets/controls",
      "model_module_version": "1.5.0",
      "model_name": "DescriptionStyleModel",
      "state": {
       "description_width": ""
      }
     },
     "161390ba99e04b138bc28fa9c249c180": {
      "model_module": "@jupyter-widgets/controls",
      "model_module_version": "1.5.0",
      "model_name": "TextModel",
      "state": {
       "continuous_update": false,
       "description": "name",
       "layout": "IPY_MODEL_bcf7fee88c72467fbcc5a469b43e9f92",
       "style": "IPY_MODEL_7bd0ba7ae13849c1a3991f5c1fc76a3f",
       "value": "radinc"
      }
     },
     "165abbc949ef4da0be3399b1aa01ad1f": {
      "model_module": "@jupyter-widgets/controls",
      "model_module_version": "1.5.0",
      "model_name": "SliderStyleModel",
      "state": {
       "description_width": ""
      }
     },
     "16bd9822848d4ea8a76ae7ebedd16681": {
      "model_module": "@jupyter-widgets/base",
      "model_module_version": "1.2.0",
      "model_name": "LayoutModel",
      "state": {
       "margin": "20px 0px"
      }
     },
     "16f7bc26a9f3423a8cdb0ee883e8baf3": {
      "model_module": "@jupyter-widgets/controls",
      "model_module_version": "1.5.0",
      "model_name": "SliderStyleModel",
      "state": {
       "description_width": ""
      }
     },
     "18a4cfa16bc946538d5790374028d641": {
      "model_module": "@jupyter-widgets/base",
      "model_module_version": "1.2.0",
      "model_name": "LayoutModel",
      "state": {}
     },
     "18abd2b200874f98af3b0f2c86c1a019": {
      "model_module": "@jupyter-widgets/controls",
      "model_module_version": "1.5.0",
      "model_name": "ButtonStyleModel",
      "state": {}
     },
     "19c0e5bf37c2495dba13da8f747c69e9": {
      "model_module": "@jupyter-widgets/controls",
      "model_module_version": "1.5.0",
      "model_name": "SliderStyleModel",
      "state": {
       "description_width": ""
      }
     },
     "1a3a8e4cff4b498aad3788925124b846": {
      "model_module": "@jupyter-widgets/controls",
      "model_module_version": "1.5.0",
      "model_name": "HBoxModel",
      "state": {
       "layout": "IPY_MODEL_5a7768daa7114d36b770ea435fe36cec"
      }
     },
     "1a768dffa91045cdbec62fd051859942": {
      "model_module": "@jupyter-widgets/controls",
      "model_module_version": "1.5.0",
      "model_name": "HBoxModel",
      "state": {
       "children": [
        "IPY_MODEL_de29d9fc92c645568318b3cac8e85baf",
        "IPY_MODEL_cbc8b4e533c94b8597e45a4ac84149b8"
       ],
       "layout": "IPY_MODEL_1310fd264c314fc6ba058b93e9e20982"
      }
     },
     "1a8e5e8102f24f6788a2e4825cfd5527": {
      "model_module": "@jupyter-widgets/controls",
      "model_module_version": "1.5.0",
      "model_name": "DescriptionStyleModel",
      "state": {
       "description_width": ""
      }
     },
     "1b44d596a79d4717bb36340cb0ec6094": {
      "model_module": "@jupyter-widgets/base",
      "model_module_version": "1.2.0",
      "model_name": "LayoutModel",
      "state": {}
     },
     "1d1c9cc08a664ea3b55b7a47fcfdc251": {
      "model_module": "@jupyter-widgets/controls",
      "model_module_version": "1.5.0",
      "model_name": "HBoxModel",
      "state": {
       "children": [
        "IPY_MODEL_9b10fafd1dad421981300c41e7b605cc",
        "IPY_MODEL_bd21842443764a4e9cfc0fe5e99adc99",
        "IPY_MODEL_48b02d61921140799c9d50de4e6abab8"
       ],
       "layout": "IPY_MODEL_f83dfb11eba54161877d623ec09906b5"
      }
     },
     "1d6ac4f49b314f0e9fb3532cfc3b8bce": {
      "model_module": "@jupyter-widgets/controls",
      "model_module_version": "1.5.0",
      "model_name": "IntTextModel",
      "state": {
       "description": "min",
       "layout": "IPY_MODEL_2047c15e3d8f4214b541d17514096060",
       "step": 1,
       "style": "IPY_MODEL_d57615a69c10480d8db062fc5e36385d",
       "value": 1
      }
     },
     "1e71076b6d304240bdd062f2d5156785": {
      "model_module": "@jupyter-widgets/base",
      "model_module_version": "1.2.0",
      "model_name": "LayoutModel",
      "state": {}
     },
     "1eb0713d17fb4a92b6d7cfab6060154c": {
      "model_module": "@jupyter-widgets/controls",
      "model_module_version": "1.5.0",
      "model_name": "DescriptionStyleModel",
      "state": {
       "description_width": ""
      }
     },
     "1f72998eed09408198e3afb7711fce67": {
      "model_module": "@jupyter-widgets/base",
      "model_module_version": "1.2.0",
      "model_name": "LayoutModel",
      "state": {}
     },
     "1f8ab0fca1c04c59ba41957779688c40": {
      "model_module": "@jupyter-widgets/controls",
      "model_module_version": "1.5.0",
      "model_name": "BoundedIntTextModel",
      "state": {
       "description": "index",
       "layout": "IPY_MODEL_3afbf51007944e8f8954670763c456a2",
       "style": "IPY_MODEL_f1c6aa52cc2a40a396a24165e1c5bf64",
       "value": 4
      }
     },
     "203480e9c215468ea9ab336c23360aec": {
      "model_module": "@jupyter-widgets/controls",
      "model_module_version": "1.5.0",
      "model_name": "FloatSliderModel",
      "state": {
       "description": "value",
       "layout": "IPY_MODEL_6a018a7ac45f43ed9fb495ac70a32468",
       "max": 0.1,
       "min": 0.01,
       "step": 0.01,
       "style": "IPY_MODEL_cf673dfbe5eb413c96fdeb2659cfc128",
       "value": 0.02
      }
     },
     "2047c15e3d8f4214b541d17514096060": {
      "model_module": "@jupyter-widgets/base",
      "model_module_version": "1.2.0",
      "model_name": "LayoutModel",
      "state": {}
     },
     "21350d8100af4acbbbba14f68c856baa": {
      "model_module": "@jupyter-widgets/controls",
      "model_module_version": "1.5.0",
      "model_name": "ColorPickerModel",
      "state": {
       "description": "emission",
       "disabled": false,
       "layout": "IPY_MODEL_c6a591bed4c246eaa6f122a5fb74d701",
       "style": "IPY_MODEL_58b736cae95a4a3f97d710efaa4148bb",
       "value": "#000000"
      }
     },
     "215f302522a248ffb3819ec2c29f1058": {
      "model_module": "@jupyter-widgets/base",
      "model_module_version": "1.2.0",
      "model_name": "LayoutModel",
      "state": {}
     },
     "2171707fa97347488af43fe88a591d0f": {
      "model_module": "@jupyter-widgets/controls",
      "model_module_version": "1.5.0",
      "model_name": "SliderStyleModel",
      "state": {
       "description_width": ""
      }
     },
     "21f3349a602545288f617c05af0e2a85": {
      "model_module": "@jupyter-widgets/base",
      "model_module_version": "1.2.0",
      "model_name": "LayoutModel",
      "state": {}
     },
     "22f9f8931d46440d97e214fb63e75678": {
      "model_module": "@jupyter-widgets/controls",
      "model_module_version": "1.5.0",
      "model_name": "ButtonStyleModel",
      "state": {}
     },
     "240b06896b1447a29608ee2c0041a5bc": {
      "model_module": "@jupyter-widgets/controls",
      "model_module_version": "1.5.0",
      "model_name": "IntSliderModel",
      "state": {
       "description": "value",
       "layout": "IPY_MODEL_e8499e7bab6246a0ad0a4f30d14ddbb3",
       "max": 10,
       "min": 1,
       "style": "IPY_MODEL_165abbc949ef4da0be3399b1aa01ad1f",
       "value": 3
      }
     },
     "24700b060af14c8981e7fbfedeade0f8": {
      "model_module": "@jupyter-widgets/base",
      "model_module_version": "1.2.0",
      "model_name": "LayoutModel",
      "state": {
       "margin": "20px 0px"
      }
     },
     "25319b4a1c0d492ea4c44baed1f845f1": {
      "model_module": "@jupyter-widgets/base",
      "model_module_version": "1.2.0",
      "model_name": "LayoutModel",
      "state": {}
     },
     "255b3c439597483f80ed865cd04cc345": {
      "model_module": "@jupyter-widgets/base",
      "model_module_version": "1.2.0",
      "model_name": "LayoutModel",
      "state": {}
     },
     "259e1b89f75240de83d19dcd3b59bf86": {
      "model_module": "@jupyter-widgets/controls",
      "model_module_version": "1.5.0",
      "model_name": "DescriptionStyleModel",
      "state": {
       "description_width": ""
      }
     },
     "26b2b92b694649c3b974782805831251": {
      "model_module": "pgljupyter",
      "model_module_version": "^0.1.16.dev0",
      "model_name": "IntEditorModel",
      "state": {
       "_model_module_version": "^0.1.16.dev0",
       "_view_module_version": "^0.1.16.dev0",
       "children": [
        "IPY_MODEL_8e6019a49d114761a746e659cc1c48f2",
        "IPY_MODEL_5bfb433518c246f4a7cd7249ff19b64e",
        "IPY_MODEL_eac0f378daf14e768b562dc92a52bd46",
        "IPY_MODEL_aadcd785ecac49dd89e89b98cd11a5bc",
        "IPY_MODEL_71bb87308f7f413585405d1a1df6ad8f"
       ],
       "layout": "IPY_MODEL_a85f651d3d144554a4c5e5260dc4c9c3"
      }
     },
     "26dd1eed428440a1bb6365baf44e75c4": {
      "model_module": "@jupyter-widgets/controls",
      "model_module_version": "1.5.0",
      "model_name": "BoundedIntTextModel",
      "state": {
       "description": "index",
       "layout": "IPY_MODEL_3bc727a4c5e842eba687117ad175a2bc",
       "style": "IPY_MODEL_d40cd5784b9640ce86140f6d8eb19ad7",
       "value": 2
      }
     },
     "2748b3bc98584be89e557777f606f30e": {
      "model_module": "@jupyter-widgets/base",
      "model_module_version": "1.2.0",
      "model_name": "LayoutModel",
      "state": {}
     },
     "27c99d487aef426398bafe8dc27b8491": {
      "model_module": "@jupyter-widgets/base",
      "model_module_version": "1.2.0",
      "model_name": "LayoutModel",
      "state": {}
     },
     "280f5706c53c48bd96c1f0c3b5a82955": {
      "model_module": "@jupyter-widgets/controls",
      "model_module_version": "1.5.0",
      "model_name": "ColorPickerModel",
      "state": {
       "description": "specular",
       "disabled": false,
       "layout": "IPY_MODEL_47c2ee699e6a4f7c83103495961650b0",
       "style": "IPY_MODEL_b618285ed5684282bcdc1d912a0170cc",
       "value": "#282828"
      }
     },
     "29ada92f78534b5a8245a40f76bd758a": {
      "model_module": "@jupyter-widgets/base",
      "model_module_version": "1.2.0",
      "model_name": "LayoutModel",
      "state": {}
     },
     "2c07ac220de942ccb12377bf94366b14": {
      "model_module": "@jupyter-widgets/controls",
      "model_module_version": "1.5.0",
      "model_name": "ColorPickerModel",
      "state": {
       "description": "specular",
       "disabled": false,
       "layout": "IPY_MODEL_0fbf4f04c7844825967a392870b05c3c",
       "style": "IPY_MODEL_674ce701a99c4dd290082ac0ca4a9bf8",
       "value": "#282828"
      }
     },
     "2cbe2b9f20a14b2c9ff7c42cc96e34c6": {
      "model_module": "@jupyter-widgets/controls",
      "model_module_version": "1.5.0",
      "model_name": "ColorPickerModel",
      "state": {
       "description": "emission",
       "disabled": false,
       "layout": "IPY_MODEL_0499384873a04178a41a7a611d6d08dc",
       "style": "IPY_MODEL_c120885553c04d129fd38676ed6234d2",
       "value": "#000000"
      }
     },
     "2da2625474d444a4a745acca04a53c1f": {
      "model_module": "@jupyter-widgets/controls",
      "model_module_version": "1.5.0",
      "model_name": "FloatSliderModel",
      "state": {
       "description": "shininess",
       "layout": "IPY_MODEL_694aa30345644ad9836c04cf3497349c",
       "max": 1,
       "step": 0.1,
       "style": "IPY_MODEL_eb38eb2960ba4c56b249425bdddbb378",
       "value": 0.2
      }
     },
     "2de7c371544e409a8f3f128430eeced9": {
      "model_module": "@jupyter-widgets/base",
      "model_module_version": "1.2.0",
      "model_name": "LayoutModel",
      "state": {}
     },
     "2e291dc0a02b4b878cc21b93ac478bfd": {
      "model_module": "@jupyter-widgets/base",
      "model_module_version": "1.2.0",
      "model_name": "LayoutModel",
      "state": {}
     },
     "2e4a8e24f3cb480f948147e7187812ba": {
      "model_module": "@jupyter-widgets/base",
      "model_module_version": "1.2.0",
      "model_name": "LayoutModel",
      "state": {}
     },
     "2f0afcc5db404c0c9baabdd8288c7f23": {
      "model_module": "@jupyter-widgets/controls",
      "model_module_version": "1.5.0",
      "model_name": "TabModel",
      "state": {
       "_titles": {
        "0": "leuwenberg.json"
       },
       "children": [
        "IPY_MODEL_73496737da0c4b479a2e43c89062fdf3"
       ],
       "layout": "IPY_MODEL_2f120020ca8d4391a2338862187e2aa9"
      }
     },
     "2f120020ca8d4391a2338862187e2aa9": {
      "model_module": "@jupyter-widgets/base",
      "model_module_version": "1.2.0",
      "model_name": "LayoutModel",
      "state": {}
     },
     "3036709698c94d53ac94124615b9612e": {
      "model_module": "@jupyter-widgets/controls",
      "model_module_version": "1.5.0",
      "model_name": "VBoxModel",
      "state": {
       "children": [
        "IPY_MODEL_34e6f4f09b2d4c69b0edd0a18c352caf",
        "IPY_MODEL_6b64f44ea36c41a0bce14ae865b76233"
       ],
       "layout": "IPY_MODEL_82e2fd1b3d93436b87d96fe4772c750c"
      }
     },
     "340f0dbc98ff42bda049e2e8bbb7b838": {
      "model_module": "@jupyter-widgets/base",
      "model_module_version": "1.2.0",
      "model_name": "LayoutModel",
      "state": {}
     },
     "34e6f4f09b2d4c69b0edd0a18c352caf": {
      "model_module": "@jupyter-widgets/controls",
      "model_module_version": "1.5.0",
      "model_name": "HBoxModel",
      "state": {
       "layout": "IPY_MODEL_f7ff34c66d4b431c8d7a458913ac23de"
      }
     },
     "353ddb1420fc4c4b98046d215b3a0a75": {
      "model_module": "@jupyter-widgets/controls",
      "model_module_version": "1.5.0",
      "model_name": "VBoxModel",
      "state": {
       "children": [
        "IPY_MODEL_4ee93253ee1e4f019df07258a39d8b47",
        "IPY_MODEL_d77d077081bb4eb8baa6f71acfaca80d",
        "IPY_MODEL_7607d9a6764a4b5585e648fdb1289c55",
        "IPY_MODEL_35ad94a74fd54bed8475e8324c36f8d3",
        "IPY_MODEL_1a3a8e4cff4b498aad3788925124b846"
       ],
       "layout": "IPY_MODEL_ad1542a9ee5d493fb7cad40f4ec24a08"
      }
     },
     "3581f98b0e0b489eb1e8d1ffb45828de": {
      "model_module": "@jupyter-widgets/base",
      "model_module_version": "1.2.0",
      "model_name": "LayoutModel",
      "state": {}
     },
     "35ad94a74fd54bed8475e8324c36f8d3": {
      "model_module": "@jupyter-widgets/controls",
      "model_module_version": "1.5.0",
      "model_name": "HBoxModel",
      "state": {
       "children": [
        "IPY_MODEL_4846a27e60cc441d93d5c535ffde0e6e",
        "IPY_MODEL_6f0f8070aff54befb01d59fb84b450b7"
       ],
       "layout": "IPY_MODEL_f7ff34c66d4b431c8d7a458913ac23de"
      }
     },
     "36dae7e778b4478990ee42ee7dd61824": {
      "model_module": "@jupyter-widgets/base",
      "model_module_version": "1.2.0",
      "model_name": "LayoutModel",
      "state": {}
     },
     "3761ab3b962b4bdc83a0b5c3edaaf2f4": {
      "model_module": "@jupyter-widgets/base",
      "model_module_version": "1.2.0",
      "model_name": "LayoutModel",
      "state": {}
     },
     "37be1e18450a48628dc1cfe7889e3ae0": {
      "model_module": "@jupyter-widgets/base",
      "model_module_version": "1.2.0",
      "model_name": "LayoutModel",
      "state": {}
     },
     "382ba098f6cc4adf8bfb135a9de7b6d8": {
      "model_module": "@jupyter-widgets/base",
      "model_module_version": "1.2.0",
      "model_name": "LayoutModel",
      "state": {}
     },
     "38c72ff473424ad9bfe39cfda219b63e": {
      "model_module": "@jupyter-widgets/controls",
      "model_module_version": "1.5.0",
      "model_name": "DescriptionStyleModel",
      "state": {
       "description_width": ""
      }
     },
     "38f0ad6d78c543e584e0999e772ae5b0": {
      "model_module": "@jupyter-widgets/controls",
      "model_module_version": "1.5.0",
      "model_name": "DescriptionStyleModel",
      "state": {
       "description_width": ""
      }
     },
     "3afbf51007944e8f8954670763c456a2": {
      "model_module": "@jupyter-widgets/base",
      "model_module_version": "1.2.0",
      "model_name": "LayoutModel",
      "state": {}
     },
     "3bc727a4c5e842eba687117ad175a2bc": {
      "model_module": "@jupyter-widgets/base",
      "model_module_version": "1.2.0",
      "model_name": "LayoutModel",
      "state": {}
     },
     "3bc82dbd12c54e549771ee3d9cd55b1d": {
      "model_module": "@jupyter-widgets/base",
      "model_module_version": "1.2.0",
      "model_name": "LayoutModel",
      "state": {}
     },
     "3e2965ac15734eacbe93346089045d2a": {
      "model_module": "pgljupyter",
      "model_module_version": "^0.1.16.dev0",
      "model_name": "IntEditorModel",
      "state": {
       "_model_module_version": "^0.1.16.dev0",
       "_view_module_version": "^0.1.16.dev0",
       "children": [
        "IPY_MODEL_a72f273cdb3945e394051fb5a3ed72de",
        "IPY_MODEL_f07ec7a47aa64a3a83eebeecca3f4573",
        "IPY_MODEL_1d6ac4f49b314f0e9fb3532cfc3b8bce",
        "IPY_MODEL_0f84ed044f5d499287d57c8c98211fae",
        "IPY_MODEL_06a4c0bb621c49b0a886a6f2d4b71f84"
       ],
       "layout": "IPY_MODEL_16bd9822848d4ea8a76ae7ebedd16681"
      }
     },
     "3ec386de663b4617bc9f49b851f4ac02": {
      "model_module": "@jupyter-widgets/controls",
      "model_module_version": "1.5.0",
      "model_name": "ButtonStyleModel",
      "state": {}
     },
     "406538f49d474b288e16fda7dd512c69": {
      "model_module": "@jupyter-widgets/base",
      "model_module_version": "1.2.0",
      "model_name": "LayoutModel",
      "state": {}
     },
     "40ccbdcf094944daacad40f2478bd3f3": {
      "model_module": "@jupyter-widgets/controls",
      "model_module_version": "1.5.0",
      "model_name": "DescriptionStyleModel",
      "state": {
       "description_width": ""
      }
     },
     "41689189f03a44738c5a6d8d77d673f0": {
      "model_module": "@jupyter-widgets/base",
      "model_module_version": "1.2.0",
      "model_name": "LayoutModel",
      "state": {
       "margin": "20px 0px"
      }
     },
     "4195dc0db72c4f82bb9bd5eead7e9779": {
      "model_module": "@jupyter-widgets/base",
      "model_module_version": "1.2.0",
      "model_name": "LayoutModel",
      "state": {}
     },
     "421e1166bf044e938a7c55bfb05fe175": {
      "model_module": "@jupyter-widgets/controls",
      "model_module_version": "1.5.0",
      "model_name": "ButtonModel",
      "state": {
       "description": "Delete category",
       "layout": "IPY_MODEL_13d73679d1fc4c1dafedf885b7d2c851",
       "style": "IPY_MODEL_f26688f6c93d449ca3039c51f092914f"
      }
     },
     "428b97f3a6fc42759d90478a7ffb3457": {
      "model_module": "@jupyter-widgets/controls",
      "model_module_version": "1.5.0",
      "model_name": "ButtonModel",
      "state": {
       "description": "Add",
       "layout": "IPY_MODEL_f8bc8a94e6fc4a96a7ccd3d239c789b6",
       "style": "IPY_MODEL_0f41b5c50bdb442a8ef61d9d982b922d"
      }
     },
     "436612109cc345eab450803b93d883e8": {
      "model_module": "@jupyter-widgets/controls",
      "model_module_version": "1.5.0",
      "model_name": "FloatTextModel",
      "state": {
       "description": "max",
       "layout": "IPY_MODEL_8cbb1af1d0af4ff9bb22fce6efa5827f",
       "step": null,
       "style": "IPY_MODEL_83a4686453db4032b8b41676af2640e3",
       "value": 0.1
      }
     },
     "44131773a2c94fe0b4f6cf36799a8fd5": {
      "model_module": "@jupyter-widgets/base",
      "model_module_version": "1.2.0",
      "model_name": "LayoutModel",
      "state": {}
     },
     "44ee20673cb54cb197bb19275c2ee931": {
      "model_module": "@jupyter-widgets/controls",
      "model_module_version": "1.5.0",
      "model_name": "DescriptionStyleModel",
      "state": {
       "description_width": ""
      }
     },
     "455df1ed61f5486cac7c517343725455": {
      "model_module": "@jupyter-widgets/controls",
      "model_module_version": "1.5.0",
      "model_name": "DescriptionStyleModel",
      "state": {
       "description_width": ""
      }
     },
     "455f8aeaffa441bf93d43f30ccfb8f01": {
      "model_module": "@jupyter-widgets/base",
      "model_module_version": "1.2.0",
      "model_name": "LayoutModel",
      "state": {}
     },
     "47c2ee699e6a4f7c83103495961650b0": {
      "model_module": "@jupyter-widgets/base",
      "model_module_version": "1.2.0",
      "model_name": "LayoutModel",
      "state": {}
     },
     "4846a27e60cc441d93d5c535ffde0e6e": {
      "model_module": "@jupyter-widgets/controls",
      "model_module_version": "1.5.0",
      "model_name": "HBoxModel",
      "state": {
       "children": [
        "IPY_MODEL_6afde54ff02642b099358c5671f1b873",
        "IPY_MODEL_cd1d503025f94455898cda591460f5da"
       ],
       "layout": "IPY_MODEL_dae8d0d2b5a24ba3a4caef5ae026ea60"
      }
     },
     "48b02d61921140799c9d50de4e6abab8": {
      "model_module": "@jupyter-widgets/controls",
      "model_module_version": "1.5.0",
      "model_name": "HBoxModel",
      "state": {
       "children": [
        "IPY_MODEL_9f1b252d842443fc95ac8e7e4f03c95a",
        "IPY_MODEL_d1e4b02c15bb44948c22e7d933636530"
       ],
       "layout": "IPY_MODEL_56e10c5df99d4496a1c8da99197f9358"
      }
     },
     "4c6828d30e454b219dd59636daba61a2": {
      "model_module": "@jupyter-widgets/controls",
      "model_module_version": "1.5.0",
      "model_name": "FloatSliderModel",
      "state": {
       "description": "diffuse",
       "layout": "IPY_MODEL_29ada92f78534b5a8245a40f76bd758a",
       "max": 3,
       "step": 0.1,
       "style": "IPY_MODEL_5030d93db7d84db8beba5be10c0fdb22",
       "value": 1
      }
     },
     "4ee93253ee1e4f019df07258a39d8b47": {
      "model_module": "@jupyter-widgets/controls",
      "model_module_version": "1.5.0",
      "model_name": "HBoxModel",
      "state": {
       "children": [
        "IPY_MODEL_421e1166bf044e938a7c55bfb05fe175"
       ],
       "layout": "IPY_MODEL_f7ff34c66d4b431c8d7a458913ac23de"
      }
     },
     "4f77c9429d614340bdb8d72a7fb65751": {
      "buffers": [
       {
        "data": "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",
        "encoding": "base64",
        "path": [
         "scene",
         "data"
        ]
       }
      ],
      "model_module": "pgljupyter",
      "model_module_version": "^0.1.16.dev0",
      "model_name": "LsystemWidgetModel",
      "state": {
       "_model_module_version": "^0.1.16.dev0",
       "_view_module_version": "^0.1.16.dev0",
       "axes_helper": false,
       "derivationLength": 41,
       "layout": "IPY_MODEL_44131773a2c94fe0b4f6cf36799a8fd5",
       "light_helper": false,
       "plane": true,
       "scene": {
        "derivationStep": 40,
        "id": 40,
        "scene": "<openalea.plantgl.scenegraph._pglsg.Scene object at 0x7f755540de40>"
       },
       "size_display": [
        400,
        400
       ],
       "size_world": 50
      }
     },
     "5030d93db7d84db8beba5be10c0fdb22": {
      "model_module": "@jupyter-widgets/controls",
      "model_module_version": "1.5.0",
      "model_name": "SliderStyleModel",
      "state": {
       "description_width": ""
      }
     },
     "50c897762f9846d38e9f8e2de2d19de2": {
      "model_module": "@jupyter-widgets/controls",
      "model_module_version": "1.5.0",
      "model_name": "VBoxModel",
      "state": {
       "children": [
        "IPY_MODEL_1d1c9cc08a664ea3b55b7a47fcfdc251",
        "IPY_MODEL_2f0afcc5db404c0c9baabdd8288c7f23"
       ],
       "layout": "IPY_MODEL_8df2887e514042d1ac28d987a7d3f39d"
      }
     },
     "510489c076f34b2bb4ed405c0bd2e184": {
      "model_module": "@jupyter-widgets/controls",
      "model_module_version": "1.5.0",
      "model_name": "ButtonStyleModel",
      "state": {}
     },
     "5151e6200d794a008b1bd7d40fbc162c": {
      "model_module": "@jupyter-widgets/controls",
      "model_module_version": "1.5.0",
      "model_name": "TextModel",
      "state": {
       "continuous_update": false,
       "description": "name",
       "layout": "IPY_MODEL_3bc82dbd12c54e549771ee3d9cd55b1d",
       "style": "IPY_MODEL_e2959aa92f7d44c2a5d6d06683c7f898",
       "value": "leafduration"
      }
     },
     "539f9d1af9924f4db2438bbbeeb51b54": {
      "model_module": "@jupyter-widgets/base",
      "model_module_version": "1.2.0",
      "model_name": "LayoutModel",
      "state": {}
     },
     "5404c74b739a4b1f9611340837468322": {
      "model_module": "@jupyter-widgets/base",
      "model_module_version": "1.2.0",
      "model_name": "LayoutModel",
      "state": {}
     },
     "5493e679c57d4a0689415a4a88aea275": {
      "model_module": "@jupyter-widgets/controls",
      "model_module_version": "1.5.0",
      "model_name": "SliderStyleModel",
      "state": {
       "description_width": ""
      }
     },
     "5532c2cdd5f24b1ebfeff4de061e7901": {
      "model_module": "@jupyter-widgets/base",
      "model_module_version": "1.2.0",
      "model_name": "LayoutModel",
      "state": {}
     },
     "56e10c5df99d4496a1c8da99197f9358": {
      "model_module": "@jupyter-widgets/base",
      "model_module_version": "1.2.0",
      "model_name": "LayoutModel",
      "state": {}
     },
     "58b736cae95a4a3f97d710efaa4148bb": {
      "model_module": "@jupyter-widgets/controls",
      "model_module_version": "1.5.0",
      "model_name": "DescriptionStyleModel",
      "state": {
       "description_width": ""
      }
     },
     "5952c0e964b14034832f8d689c94cd56": {
      "model_module": "@jupyter-widgets/controls",
      "model_module_version": "1.5.0",
      "model_name": "DescriptionStyleModel",
      "state": {
       "description_width": ""
      }
     },
     "5a7768daa7114d36b770ea435fe36cec": {
      "model_module": "@jupyter-widgets/base",
      "model_module_version": "1.2.0",
      "model_name": "LayoutModel",
      "state": {
       "flex_flow": "row wrap",
       "margin": "20px"
      }
     },
     "5b5cffc519364c9fbd2a8e2332a75c62": {
      "model_module": "@jupyter-widgets/base",
      "model_module_version": "1.2.0",
      "model_name": "LayoutModel",
      "state": {}
     },
     "5bfb433518c246f4a7cd7249ff19b64e": {
      "model_module": "@jupyter-widgets/controls",
      "model_module_version": "1.5.0",
      "model_name": "IntSliderModel",
      "state": {
       "description": "value",
       "layout": "IPY_MODEL_f8e8217ad4ff42db874a2be04d88d09c",
       "max": 7,
       "min": 1,
       "style": "IPY_MODEL_13acdf1ccc5a4999af0676c08d452094",
       "value": 3
      }
     },
     "5c020f6de4b0494db643bad3b0644d25": {
      "model_module": "@jupyter-widgets/controls",
      "model_module_version": "1.5.0",
      "model_name": "SliderStyleModel",
      "state": {
       "description_width": ""
      }
     },
     "5c45b8f207094c259218686f4e90aff4": {
      "model_module": "@jupyter-widgets/controls",
      "model_module_version": "1.5.0",
      "model_name": "DescriptionStyleModel",
      "state": {
       "description_width": ""
      }
     },
     "5d1acbde1263434ca0516af8b1e818ec": {
      "model_module": "@jupyter-widgets/controls",
      "model_module_version": "1.5.0",
      "model_name": "FloatSliderModel",
      "state": {
       "description": "transparency",
       "layout": "IPY_MODEL_9e9532d3f9264d848c9671d25e59429b",
       "max": 1,
       "step": 0.1,
       "style": "IPY_MODEL_09ab73e88d6a48cf971284095d2d93ee"
      }
     },
     "5e82b30d25f94292a4d76ae8c23684da": {
      "model_module": "@jupyter-widgets/controls",
      "model_module_version": "1.5.0",
      "model_name": "DescriptionStyleModel",
      "state": {
       "description_width": ""
      }
     },
     "5e9c1818473b44dab49b3d26bf241c9d": {
      "model_module": "@jupyter-widgets/controls",
      "model_module_version": "1.5.0",
      "model_name": "DescriptionStyleModel",
      "state": {
       "description_width": ""
      }
     },
     "5f0d4143620941798573a504d9e748b1": {
      "model_module": "@jupyter-widgets/base",
      "model_module_version": "1.2.0",
      "model_name": "LayoutModel",
      "state": {}
     },
     "5f35732199e94b7981ff948790caec12": {
      "model_module": "@jupyter-widgets/controls",
      "model_module_version": "1.5.0",
      "model_name": "DescriptionStyleModel",
      "state": {
       "description_width": ""
      }
     },
     "5f766dc4cb8647509fa135a5358aaab0": {
      "model_module": "@jupyter-widgets/base",
      "model_module_version": "1.2.0",
      "model_name": "LayoutModel",
      "state": {}
     },
     "5fe590f048484a3ba28067befd41b28a": {
      "model_module": "@jupyter-widgets/controls",
      "model_module_version": "1.5.0",
      "model_name": "TextModel",
      "state": {
       "continuous_update": false,
       "description": "name",
       "layout": "IPY_MODEL_406538f49d474b288e16fda7dd512c69",
       "style": "IPY_MODEL_40ccbdcf094944daacad40f2478bd3f3",
       "value": "color_2"
      }
     },
     "625a97aef55748c189e2a6b3c1b5e67d": {
      "model_module": "@jupyter-widgets/base",
      "model_module_version": "1.2.0",
      "model_name": "LayoutModel",
      "state": {}
     },
     "62867ab47038465d8944dcad2437cbc9": {
      "model_module": "@jupyter-widgets/base",
      "model_module_version": "1.2.0",
      "model_name": "LayoutModel",
      "state": {}
     },
     "64635876704d46df8e253b2d4cefa598": {
      "model_module": "@jupyter-widgets/base",
      "model_module_version": "1.2.0",
      "model_name": "LayoutModel",
      "state": {}
     },
     "64f0f3be71ea49f6b0bf5f7a3382814b": {
      "model_module": "@jupyter-widgets/controls",
      "model_module_version": "1.5.0",
      "model_name": "DescriptionStyleModel",
      "state": {
       "description_width": ""
      }
     },
     "64f9dc0574df4a11af6125d753e638a4": {
      "model_module": "@jupyter-widgets/base",
      "model_module_version": "1.2.0",
      "model_name": "LayoutModel",
      "state": {}
     },
     "674ce701a99c4dd290082ac0ca4a9bf8": {
      "model_module": "@jupyter-widgets/controls",
      "model_module_version": "1.5.0",
      "model_name": "DescriptionStyleModel",
      "state": {
       "description_width": ""
      }
     },
     "677b6979d18a4369b43c7d2c7055d352": {
      "model_module": "@jupyter-widgets/controls",
      "model_module_version": "1.5.0",
      "model_name": "TextModel",
      "state": {
       "continuous_update": false,
       "description": "name",
       "layout": "IPY_MODEL_98277c35c08042f6a10536f9cec224a9",
       "style": "IPY_MODEL_83cb5d93b13c4d38906e44f6111942f3",
       "value": "color_4"
      }
     },
     "679a4e3dbf4340d084066a79f8c8540d": {
      "model_module": "@jupyter-widgets/controls",
      "model_module_version": "1.5.0",
      "model_name": "ButtonModel",
      "state": {
       "description": "Apply changes",
       "layout": "IPY_MODEL_d9ccb67aeb914dbebc9157bdfb5dc23d",
       "style": "IPY_MODEL_ef1d08148f6a452081c3eb7924ab9c8f"
      }
     },
     "67c7aedfc8f04a9bb8e92c4fbabb0fa3": {
      "model_module": "@jupyter-widgets/base",
      "model_module_version": "1.2.0",
      "model_name": "LayoutModel",
      "state": {}
     },
     "694aa30345644ad9836c04cf3497349c": {
      "model_module": "@jupyter-widgets/base",
      "model_module_version": "1.2.0",
      "model_name": "LayoutModel",
      "state": {}
     },
     "69adca6b2b7d471ca668269a5c227e1f": {
      "model_module": "@jupyter-widgets/controls",
      "model_module_version": "1.5.0",
      "model_name": "DescriptionStyleModel",
      "state": {
       "description_width": ""
      }
     },
     "6a018a7ac45f43ed9fb495ac70a32468": {
      "model_module": "@jupyter-widgets/base",
      "model_module_version": "1.2.0",
      "model_name": "LayoutModel",
      "state": {}
     },
     "6a96352f36b9452bba44e1ee4b108426": {
      "model_module": "@jupyter-widgets/controls",
      "model_module_version": "1.5.0",
      "model_name": "SliderStyleModel",
      "state": {
       "description_width": ""
      }
     },
     "6afde54ff02642b099358c5671f1b873": {
      "model_module": "@jupyter-widgets/controls",
      "model_module_version": "1.5.0",
      "model_name": "ButtonModel",
      "state": {
       "description": "Add",
       "layout": "IPY_MODEL_21f3349a602545288f617c05af0e2a85",
       "style": "IPY_MODEL_510489c076f34b2bb4ed405c0bd2e184"
      }
     },
     "6b64f44ea36c41a0bce14ae865b76233": {
      "model_module": "@jupyter-widgets/controls",
      "model_module_version": "1.5.0",
      "model_name": "HBoxModel",
      "state": {
       "layout": "IPY_MODEL_5a7768daa7114d36b770ea435fe36cec"
      }
     },
     "6b7f50760bbe40128e53e8730548a7c5": {
      "model_module": "@jupyter-widgets/controls",
      "model_module_version": "1.5.0",
      "model_name": "TextModel",
      "state": {
       "continuous_update": false,
       "description": "name",
       "layout": "IPY_MODEL_2748b3bc98584be89e557777f606f30e",
       "style": "IPY_MODEL_5e82b30d25f94292a4d76ae8c23684da",
       "value": "color_3"
      }
     },
     "6c062a627e074314b2c9f10cb62a60ff": {
      "model_module": "@jupyter-widgets/controls",
      "model_module_version": "1.5.0",
      "model_name": "DescriptionStyleModel",
      "state": {
       "description_width": ""
      }
     },
     "6e149d6140aa4abca3c6a495c874087e": {
      "model_module": "@jupyter-widgets/controls",
      "model_module_version": "1.5.0",
      "model_name": "CheckboxModel",
      "state": {
       "description": "Auto apply",
       "disabled": false,
       "layout": "IPY_MODEL_2de7c371544e409a8f3f128430eeced9",
       "style": "IPY_MODEL_6c062a627e074314b2c9f10cb62a60ff",
       "value": false
      }
     },
     "6ec1cbd07a644f899b126df86b0690ab": {
      "model_module": "@jupyter-widgets/controls",
      "model_module_version": "1.5.0",
      "model_name": "SliderStyleModel",
      "state": {
       "description_width": ""
      }
     },
     "6f0a69f339134e55b948c90d45650703": {
      "model_module": "@jupyter-widgets/base",
      "model_module_version": "1.2.0",
      "model_name": "LayoutModel",
      "state": {}
     },
     "6f0f8070aff54befb01d59fb84b450b7": {
      "model_module": "@jupyter-widgets/controls",
      "model_module_version": "1.5.0",
      "model_name": "HBoxModel",
      "state": {
       "children": [
        "IPY_MODEL_d94927052fb046c4b476563ba1404936",
        "IPY_MODEL_bdd912ccd9594f2c93aaed30b1a57ee8"
       ],
       "layout": "IPY_MODEL_5404c74b739a4b1f9611340837468322"
      }
     },
     "6fd19ee64db44d74845df2372b542b69": {
      "model_module": "@jupyter-widgets/controls",
      "model_module_version": "1.5.0",
      "model_name": "ColorPickerModel",
      "state": {
       "description": "ambient",
       "disabled": false,
       "layout": "IPY_MODEL_dc9e29879357411bbba01c813ba6f9f4",
       "style": "IPY_MODEL_72a0a0e0aead47d2aa630983d0ff942c",
       "value": "#195717"
      }
     },
     "7015fbbda9c047b391aecaeef63cd104": {
      "model_module": "@jupyter-widgets/base",
      "model_module_version": "1.2.0",
      "model_name": "LayoutModel",
      "state": {}
     },
     "715606022a044632ac89eb213623d18a": {
      "model_module": "@jupyter-widgets/controls",
      "model_module_version": "1.5.0",
      "model_name": "BoundedIntTextModel",
      "state": {
       "description": "step",
       "layout": "IPY_MODEL_5532c2cdd5f24b1ebfeff4de061e7901",
       "min": 1,
       "style": "IPY_MODEL_e41cb6704a0a4c06a028ae53e9f988ee",
       "value": 1
      }
     },
     "71bb87308f7f413585405d1a1df6ad8f": {
      "model_module": "@jupyter-widgets/controls",
      "model_module_version": "1.5.0",
      "model_name": "BoundedIntTextModel",
      "state": {
       "description": "step",
       "layout": "IPY_MODEL_d3b85fda8a3a4608a7bd96283095fedd",
       "min": 1,
       "style": "IPY_MODEL_5f35732199e94b7981ff948790caec12",
       "value": 1
      }
     },
     "72a0a0e0aead47d2aa630983d0ff942c": {
      "model_module": "@jupyter-widgets/controls",
      "model_module_version": "1.5.0",
      "model_name": "DescriptionStyleModel",
      "state": {
       "description_width": ""
      }
     },
     "73496737da0c4b479a2e43c89062fdf3": {
      "model_module": "@jupyter-widgets/controls",
      "model_module_version": "1.5.0",
      "model_name": "AccordionModel",
      "state": {
       "_titles": {
        "0": "options",
        "1": "materials",
        "2": "leaf"
       },
       "children": [
        "IPY_MODEL_3036709698c94d53ac94124615b9612e",
        "IPY_MODEL_b8b9b3ffeaac416c9b974d5332062d10",
        "IPY_MODEL_353ddb1420fc4c4b98046d215b3a0a75"
       ],
       "layout": "IPY_MODEL_1b44d596a79d4717bb36340cb0ec6094"
      }
     },
     "741f71d31ee4432f826a1a5983faff8b": {
      "model_module": "pgljupyter",
      "model_module_version": "^0.1.16.dev0",
      "model_name": "FloatEditorModel",
      "state": {
       "_model_module_version": "^0.1.16.dev0",
       "_view_module_version": "^0.1.16.dev0",
       "children": [
        "IPY_MODEL_161390ba99e04b138bc28fa9c249c180",
        "IPY_MODEL_203480e9c215468ea9ab336c23360aec",
        "IPY_MODEL_f6bd143eb72a4021a9ee1d0db9b45016",
        "IPY_MODEL_436612109cc345eab450803b93d883e8",
        "IPY_MODEL_9d12e0ef939e4807b6d9a006fce2d523"
       ],
       "layout": "IPY_MODEL_b763b1260b354b23ae6671768bc4a076"
      }
     },
     "744795a86db044f098523c400f8e0b54": {
      "model_module": "@jupyter-widgets/controls",
      "model_module_version": "1.5.0",
      "model_name": "DropdownModel",
      "state": {
       "_options_labels": [
        "color_1",
        "color_2",
        "color_3",
        "color_4"
       ],
       "index": 0,
       "layout": "IPY_MODEL_b170506f70d34c96b69cc2e6cb10b936",
       "style": "IPY_MODEL_455df1ed61f5486cac7c517343725455"
      }
     },
     "7607d9a6764a4b5585e648fdb1289c55": {
      "model_module": "@jupyter-widgets/controls",
      "model_module_version": "1.5.0",
      "model_name": "HBoxModel",
      "state": {
       "children": [
        "IPY_MODEL_79313a604b5a4876b96188649d9844ed",
        "IPY_MODEL_8e07259218964759aa0e3756812d03d4",
        "IPY_MODEL_3e2965ac15734eacbe93346089045d2a",
        "IPY_MODEL_741f71d31ee4432f826a1a5983faff8b",
        "IPY_MODEL_26b2b92b694649c3b974782805831251"
       ],
       "layout": "IPY_MODEL_5a7768daa7114d36b770ea435fe36cec"
      }
     },
     "7740beb2c49f45218e9e7fa1fe1a8432": {
      "model_module": "@jupyter-widgets/base",
      "model_module_version": "1.2.0",
      "model_name": "LayoutModel",
      "state": {}
     },
     "7820f3eb666143e08c9689ceabf9f92e": {
      "model_module": "@jupyter-widgets/controls",
      "model_module_version": "1.5.0",
      "model_name": "ColorPickerModel",
      "state": {
       "description": "specular",
       "disabled": false,
       "layout": "IPY_MODEL_fb438b1cc1484336bb3533aa50de8e15",
       "style": "IPY_MODEL_38c72ff473424ad9bfe39cfda219b63e",
       "value": "#282828"
      }
     },
     "79313a604b5a4876b96188649d9844ed": {
      "model_module": "pgljupyter",
      "model_module_version": "^0.1.16.dev0",
      "model_name": "IntEditorModel",
      "state": {
       "_model_module_version": "^0.1.16.dev0",
       "_view_module_version": "^0.1.16.dev0",
       "children": [
        "IPY_MODEL_5151e6200d794a008b1bd7d40fbc162c",
        "IPY_MODEL_240b06896b1447a29608ee2c0041a5bc",
        "IPY_MODEL_cd863832ae4f4c2a9fb4238d4fe72b7d",
        "IPY_MODEL_b233f15e47474a7198fb26deae803dcc",
        "IPY_MODEL_b4f90847a77b4195b5dc4d2c29806c64"
       ],
       "layout": "IPY_MODEL_f41ebca09dd94958b840510087992ffe"
      }
     },
     "7b577b3b68b746a29a5e6e041152e745": {
      "model_module": "@jupyter-widgets/controls",
      "model_module_version": "1.5.0",
      "model_name": "SliderStyleModel",
      "state": {
       "description_width": ""
      }
     },
     "7bd0ba7ae13849c1a3991f5c1fc76a3f": {
      "model_module": "@jupyter-widgets/controls",
      "model_module_version": "1.5.0",
      "model_name": "DescriptionStyleModel",
      "state": {
       "description_width": ""
      }
     },
     "7d00e5b6fac64279ab76b336056511c0": {
      "model_module": "pgljupyter",
      "model_module_version": "^0.1.16.dev0",
      "model_name": "MaterialEditorModel",
      "state": {
       "_model_module_version": "^0.1.16.dev0",
       "_view_module_version": "^0.1.16.dev0",
       "children": [
        "IPY_MODEL_5fe590f048484a3ba28067befd41b28a",
        "IPY_MODEL_26dd1eed428440a1bb6365baf44e75c4",
        "IPY_MODEL_6fd19ee64db44d74845df2372b542b69",
        "IPY_MODEL_280f5706c53c48bd96c1f0c3b5a82955",
        "IPY_MODEL_c11321e762b3422997689f94db4a71c8",
        "IPY_MODEL_ebe128ea294142459765d6098ca68e1a",
        "IPY_MODEL_8f0d237bd2814cfa98534d804a75bd38",
        "IPY_MODEL_2da2625474d444a4a745acca04a53c1f"
       ],
       "layout": "IPY_MODEL_b7eb7c1fbc2c4fbab9ae3ae154813316"
      }
     },
     "7ee5793271fa419b8cf938c7cdd42829": {
      "model_module": "@jupyter-widgets/controls",
      "model_module_version": "1.5.0",
      "model_name": "DescriptionStyleModel",
      "state": {
       "description_width": ""
      }
     },
     "7ff69b0f459c406da1dcf1b6b9ea1d85": {
      "model_module": "@jupyter-widgets/controls",
      "model_module_version": "1.5.0",
      "model_name": "SliderStyleModel",
      "state": {
       "description_width": ""
      }
     },
     "80301650537045819e119da69d2e1eaf": {
      "model_module": "@jupyter-widgets/controls",
      "model_module_version": "1.5.0",
      "model_name": "ColorPickerModel",
      "state": {
       "description": "ambient",
       "disabled": false,
       "layout": "IPY_MODEL_0c7c19e5f2d64c77816e00b8b2cd8eea",
       "style": "IPY_MODEL_8d847dba13ab4694a1ab9e4baa5b388d",
       "value": "#0fc4db"
      }
     },
     "80486992e7b749219293ac12cc88f982": {
      "model_module": "@jupyter-widgets/controls",
      "model_module_version": "1.5.0",
      "model_name": "DescriptionStyleModel",
      "state": {
       "description_width": ""
      }
     },
     "82e2fd1b3d93436b87d96fe4772c750c": {
      "model_module": "@jupyter-widgets/base",
      "model_module_version": "1.2.0",
      "model_name": "LayoutModel",
      "state": {}
     },
     "82ee84b51f34452cb28a4d5fbd6a6bec": {
      "model_module": "@jupyter-widgets/base",
      "model_module_version": "1.2.0",
      "model_name": "LayoutModel",
      "state": {}
     },
     "83a4686453db4032b8b41676af2640e3": {
      "model_module": "@jupyter-widgets/controls",
      "model_module_version": "1.5.0",
      "model_name": "DescriptionStyleModel",
      "state": {
       "description_width": ""
      }
     },
     "83cb5d93b13c4d38906e44f6111942f3": {
      "model_module": "@jupyter-widgets/controls",
      "model_module_version": "1.5.0",
      "model_name": "DescriptionStyleModel",
      "state": {
       "description_width": ""
      }
     },
     "896cb2a6eee44f0099cfa8dd5b2da22f": {
      "model_module": "@jupyter-widgets/controls",
      "model_module_version": "1.5.0",
      "model_name": "TextModel",
      "state": {
       "continuous_update": false,
       "description": "name",
       "layout": "IPY_MODEL_5f766dc4cb8647509fa135a5358aaab0",
       "style": "IPY_MODEL_c4ed48b837534de7b3ebc8b317ef0a11",
       "value": "color_1"
      }
     },
     "89a945aee0754e80a2eee46f61496ba5": {
      "model_module": "@jupyter-widgets/controls",
      "model_module_version": "1.5.0",
      "model_name": "FloatSliderModel",
      "state": {
       "description": "transparency",
       "layout": "IPY_MODEL_539f9d1af9924f4db2438bbbeeb51b54",
       "max": 1,
       "step": 0.1,
       "style": "IPY_MODEL_6ec1cbd07a644f899b126df86b0690ab"
      }
     },
     "8cbb1af1d0af4ff9bb22fce6efa5827f": {
      "model_module": "@jupyter-widgets/base",
      "model_module_version": "1.2.0",
      "model_name": "LayoutModel",
      "state": {}
     },
     "8d847dba13ab4694a1ab9e4baa5b388d": {
      "model_module": "@jupyter-widgets/controls",
      "model_module_version": "1.5.0",
      "model_name": "DescriptionStyleModel",
      "state": {
       "description_width": ""
      }
     },
     "8df2887e514042d1ac28d987a7d3f39d": {
      "model_module": "@jupyter-widgets/base",
      "model_module_version": "1.2.0",
      "model_name": "LayoutModel",
      "state": {}
     },
     "8e07259218964759aa0e3756812d03d4": {
      "model_module": "pgljupyter",
      "model_module_version": "^0.1.16.dev0",
      "model_name": "IntEditorModel",
      "state": {
       "_model_module_version": "^0.1.16.dev0",
       "_view_module_version": "^0.1.16.dev0",
       "children": [
        "IPY_MODEL_0003eef9dd3941f89ac65b920608e8dc",
        "IPY_MODEL_d734a536300949189433eec18ebe49d5",
        "IPY_MODEL_ea9d8d6b50034a3a9fb9e57b9e304732",
        "IPY_MODEL_ecd0c12b3b9e479fb4a4bdfdcb2c2842",
        "IPY_MODEL_715606022a044632ac89eb213623d18a"
       ],
       "layout": "IPY_MODEL_41689189f03a44738c5a6d8d77d673f0"
      }
     },
     "8e6019a49d114761a746e659cc1c48f2": {
      "model_module": "@jupyter-widgets/controls",
      "model_module_version": "1.5.0",
      "model_name": "TextModel",
      "state": {
       "continuous_update": false,
       "description": "name",
       "layout": "IPY_MODEL_7740beb2c49f45218e9e7fa1fe1a8432",
       "style": "IPY_MODEL_fc7845240a5a42389a89509a28eb34dd",
       "value": "nb_axes"
      }
     },
     "8f0d237bd2814cfa98534d804a75bd38": {
      "model_module": "@jupyter-widgets/controls",
      "model_module_version": "1.5.0",
      "model_name": "FloatSliderModel",
      "state": {
       "description": "transparency",
       "layout": "IPY_MODEL_6f0a69f339134e55b948c90d45650703",
       "max": 1,
       "step": 0.1,
       "style": "IPY_MODEL_7b577b3b68b746a29a5e6e041152e745"
      }
     },
     "92978dae10c04f879b6b666ba80d5835": {
      "model_module": "@jupyter-widgets/base",
      "model_module_version": "1.2.0",
      "model_name": "LayoutModel",
      "state": {
       "margin": "20px 0px"
      }
     },
     "96cdd7a7ccd846d3924fb1cc7ba26616": {
      "model_module": "@jupyter-widgets/controls",
      "model_module_version": "1.5.0",
      "model_name": "ButtonModel",
      "state": {
       "description": "Add",
       "layout": "IPY_MODEL_215f302522a248ffb3819ec2c29f1058",
       "style": "IPY_MODEL_fe19d3f5e3dc4cd99368775b1f16b8cc"
      }
     },
     "973162b76dea4a2bbb3e36144ea6db25": {
      "model_module": "@jupyter-widgets/base",
      "model_module_version": "1.2.0",
      "model_name": "LayoutModel",
      "state": {}
     },
     "973da0ef21a546739fbc9361cd34bfe5": {
      "model_module": "@jupyter-widgets/base",
      "model_module_version": "1.2.0",
      "model_name": "LayoutModel",
      "state": {}
     },
     "98277c35c08042f6a10536f9cec224a9": {
      "model_module": "@jupyter-widgets/base",
      "model_module_version": "1.2.0",
      "model_name": "LayoutModel",
      "state": {}
     },
     "9b10fafd1dad421981300c41e7b605cc": {
      "model_module": "@jupyter-widgets/controls",
      "model_module_version": "1.5.0",
      "model_name": "HBoxModel",
      "state": {
       "children": [
        "IPY_MODEL_679a4e3dbf4340d084066a79f8c8540d",
        "IPY_MODEL_6e149d6140aa4abca3c6a495c874087e"
       ],
       "layout": "IPY_MODEL_bb79433b06b94630b6f77fbc405d30c3"
      }
     },
     "9b3e11ebb803450b986ba009cd7271d1": {
      "model_module": "@jupyter-widgets/base",
      "model_module_version": "1.2.0",
      "model_name": "LayoutModel",
      "state": {
       "margin": "20px 0px"
      }
     },
     "9bee7a831530488d8f1b62a13071e4a1": {
      "model_module": "@jupyter-widgets/controls",
      "model_module_version": "1.5.0",
      "model_name": "HBoxModel",
      "state": {
       "children": [
        "IPY_MODEL_bc2caf9b3fc84da494330dba24816842",
        "IPY_MODEL_744795a86db044f098523c400f8e0b54"
       ],
       "layout": "IPY_MODEL_05158b063b184ffe96c65e42e171536a"
      }
     },
     "9d12e0ef939e4807b6d9a006fce2d523": {
      "model_module": "@jupyter-widgets/controls",
      "model_module_version": "1.5.0",
      "model_name": "BoundedFloatTextModel",
      "state": {
       "description": "step",
       "layout": "IPY_MODEL_255b3c439597483f80ed865cd04cc345",
       "max": 1,
       "min": 0.01,
       "step": 0.01,
       "style": "IPY_MODEL_259e1b89f75240de83d19dcd3b59bf86",
       "value": 0.01
      }
     },
     "9db215c1ff3242bab8eb9533ae4c1142": {
      "model_module": "@jupyter-widgets/controls",
      "model_module_version": "1.5.0",
      "model_name": "ColorPickerModel",
      "state": {
       "description": "ambient",
       "disabled": false,
       "layout": "IPY_MODEL_0d6a37d535614710acb801033c6e1b4b",
       "style": "IPY_MODEL_38f0ad6d78c543e584e0999e772ae5b0",
       "value": "#e1a014"
      }
     },
     "9e9532d3f9264d848c9671d25e59429b": {
      "model_module": "@jupyter-widgets/base",
      "model_module_version": "1.2.0",
      "model_name": "LayoutModel",
      "state": {}
     },
     "9f1b252d842443fc95ac8e7e4f03c95a": {
      "model_module": "@jupyter-widgets/controls",
      "model_module_version": "1.5.0",
      "model_name": "ButtonModel",
      "state": {
       "description": "Add category",
       "layout": "IPY_MODEL_25319b4a1c0d492ea4c44baed1f845f1",
       "style": "IPY_MODEL_22f9f8931d46440d97e214fb63e75678"
      }
     },
     "a03e944e51cb40c5810fc9d0fa1bbb94": {
      "model_module": "@jupyter-widgets/controls",
      "model_module_version": "1.5.0",
      "model_name": "HBoxModel",
      "state": {
       "children": [
        "IPY_MODEL_1353b6016646410798b195d84bc20e50",
        "IPY_MODEL_7d00e5b6fac64279ab76b336056511c0",
        "IPY_MODEL_f091e8ee938040379301180a6b5f8ece",
        "IPY_MODEL_dab8e9c05b4743e0910867303374e23e"
       ],
       "layout": "IPY_MODEL_5a7768daa7114d36b770ea435fe36cec"
      }
     },
     "a2eb67920af64606babedcf49f3ac443": {
      "model_module": "@jupyter-widgets/controls",
      "model_module_version": "1.5.0",
      "model_name": "DescriptionStyleModel",
      "state": {
       "description_width": ""
      }
     },
     "a5d0d447b1394b03986172fc7562d1f4": {
      "model_module": "@jupyter-widgets/controls",
      "model_module_version": "1.5.0",
      "model_name": "HBoxModel",
      "state": {
       "children": [
        "IPY_MODEL_96cdd7a7ccd846d3924fb1cc7ba26616",
        "IPY_MODEL_0414cc8a90c64c448f20ab6c7de8a484"
       ],
       "layout": "IPY_MODEL_a7a0c50477554430aa4553a8141c8cdf"
      }
     },
     "a72f273cdb3945e394051fb5a3ed72de": {
      "model_module": "@jupyter-widgets/controls",
      "model_module_version": "1.5.0",
      "model_name": "TextModel",
      "state": {
       "continuous_update": false,
       "description": "name",
       "layout": "IPY_MODEL_2e4a8e24f3cb480f948147e7187812ba",
       "style": "IPY_MODEL_5c45b8f207094c259218686f4e90aff4",
       "value": "maxorder"
      }
     },
     "a7a0c50477554430aa4553a8141c8cdf": {
      "model_module": "@jupyter-widgets/base",
      "model_module_version": "1.2.0",
      "model_name": "LayoutModel",
      "state": {}
     },
     "a85f651d3d144554a4c5e5260dc4c9c3": {
      "model_module": "@jupyter-widgets/base",
      "model_module_version": "1.2.0",
      "model_name": "LayoutModel",
      "state": {
       "margin": "20px 0px"
      }
     },
     "a928100a1a7543c1a952e02f63653d38": {
      "model_module": "@jupyter-widgets/base",
      "model_module_version": "1.2.0",
      "model_name": "LayoutModel",
      "state": {}
     },
     "aadcd785ecac49dd89e89b98cd11a5bc": {
      "model_module": "@jupyter-widgets/controls",
      "model_module_version": "1.5.0",
      "model_name": "IntTextModel",
      "state": {
       "description": "max",
       "layout": "IPY_MODEL_64635876704d46df8e253b2d4cefa598",
       "step": 1,
       "style": "IPY_MODEL_fce01e4c69184a6aa0107d409c41700a",
       "value": 7
      }
     },
     "ad1542a9ee5d493fb7cad40f4ec24a08": {
      "model_module": "@jupyter-widgets/base",
      "model_module_version": "1.2.0",
      "model_name": "LayoutModel",
      "state": {}
     },
     "ae40200d7fdc43a69f8f57ce27d6891b": {
      "model_module": "@jupyter-widgets/controls",
      "model_module_version": "1.5.0",
      "model_name": "ColorPickerModel",
      "state": {
       "description": "ambient",
       "disabled": false,
       "layout": "IPY_MODEL_27c99d487aef426398bafe8dc27b8491",
       "style": "IPY_MODEL_e4bcad903cd24e668755c12c6ad16d21",
       "value": "#5b4534"
      }
     },
     "ae49ac24f7d94cbea0a0b653a87d4b7d": {
      "model_module": "@jupyter-widgets/controls",
      "model_module_version": "1.5.0",
      "model_name": "ButtonStyleModel",
      "state": {}
     },
     "af4039e9ddde442ba446084c54416900": {
      "model_module": "@jupyter-widgets/controls",
      "model_module_version": "1.5.0",
      "model_name": "BoundedIntTextModel",
      "state": {
       "description": "index",
       "layout": "IPY_MODEL_625a97aef55748c189e2a6b3c1b5e67d",
       "style": "IPY_MODEL_0ba2cab9cc9d4511aad569640dfc3012",
       "value": 3
      }
     },
     "b11599f0c8c340be874b6f91e49e147c": {
      "model_module": "@jupyter-widgets/controls",
      "model_module_version": "1.5.0",
      "model_name": "FloatSliderModel",
      "state": {
       "description": "transparency",
       "layout": "IPY_MODEL_026723ae658e489db0402b1860155fde",
       "max": 1,
       "step": 0.1,
       "style": "IPY_MODEL_bc101f934e6546c8b4a4399a8ff52dd9"
      }
     },
     "b170506f70d34c96b69cc2e6cb10b936": {
      "model_module": "@jupyter-widgets/base",
      "model_module_version": "1.2.0",
      "model_name": "LayoutModel",
      "state": {}
     },
     "b233f15e47474a7198fb26deae803dcc": {
      "model_module": "@jupyter-widgets/controls",
      "model_module_version": "1.5.0",
      "model_name": "IntTextModel",
      "state": {
       "description": "max",
       "layout": "IPY_MODEL_4195dc0db72c4f82bb9bd5eead7e9779",
       "step": 1,
       "style": "IPY_MODEL_c1729e1e6a704ee9982e5f868755dfc6",
       "value": 10
      }
     },
     "b349ed08d7d84db7be931975d0f29cc6": {
      "model_module": "@jupyter-widgets/base",
      "model_module_version": "1.2.0",
      "model_name": "LayoutModel",
      "state": {}
     },
     "b4f90847a77b4195b5dc4d2c29806c64": {
      "model_module": "@jupyter-widgets/controls",
      "model_module_version": "1.5.0",
      "model_name": "BoundedIntTextModel",
      "state": {
       "description": "step",
       "layout": "IPY_MODEL_5f0d4143620941798573a504d9e748b1",
       "min": 1,
       "style": "IPY_MODEL_c0409f72c596451b915072be0153fdf9",
       "value": 1
      }
     },
     "b618285ed5684282bcdc1d912a0170cc": {
      "model_module": "@jupyter-widgets/controls",
      "model_module_version": "1.5.0",
      "model_name": "DescriptionStyleModel",
      "state": {
       "description_width": ""
      }
     },
     "b70440f46d284109b251b83b4efe6e79": {
      "model_module": "@jupyter-widgets/controls",
      "model_module_version": "1.5.0",
      "model_name": "DescriptionStyleModel",
      "state": {
       "description_width": ""
      }
     },
     "b763b1260b354b23ae6671768bc4a076": {
      "model_module": "@jupyter-widgets/base",
      "model_module_version": "1.2.0",
      "model_name": "LayoutModel",
      "state": {
       "margin": "20px 0px"
      }
     },
     "b7eb7c1fbc2c4fbab9ae3ae154813316": {
      "model_module": "@jupyter-widgets/base",
      "model_module_version": "1.2.0",
      "model_name": "LayoutModel",
      "state": {
       "margin": "20px 0px"
      }
     },
     "b8b9b3ffeaac416c9b974d5332062d10": {
      "model_module": "@jupyter-widgets/controls",
      "model_module_version": "1.5.0",
      "model_name": "VBoxModel",
      "state": {
       "children": [
        "IPY_MODEL_1333161370364dc18b62b527843bccdf",
        "IPY_MODEL_a03e944e51cb40c5810fc9d0fa1bbb94"
       ],
       "layout": "IPY_MODEL_b349ed08d7d84db7be931975d0f29cc6"
      }
     },
     "b8d47ef44074438281319294176af51b": {
      "model_module": "@jupyter-widgets/base",
      "model_module_version": "1.2.0",
      "model_name": "LayoutModel",
      "state": {}
     },
     "ba2927804c224adb95a5bde918123c5b": {
      "model_module": "@jupyter-widgets/controls",
      "model_module_version": "1.5.0",
      "model_name": "CheckboxModel",
      "state": {
       "description": "Auto save",
       "disabled": false,
       "layout": "IPY_MODEL_64f9dc0574df4a11af6125d753e638a4",
       "style": "IPY_MODEL_44ee20673cb54cb197bb19275c2ee931",
       "value": false
      }
     },
     "bb79433b06b94630b6f77fbc405d30c3": {
      "model_module": "@jupyter-widgets/base",
      "model_module_version": "1.2.0",
      "model_name": "LayoutModel",
      "state": {}
     },
     "bc101f934e6546c8b4a4399a8ff52dd9": {
      "model_module": "@jupyter-widgets/controls",
      "model_module_version": "1.5.0",
      "model_name": "SliderStyleModel",
      "state": {
       "description_width": ""
      }
     },
     "bc2caf9b3fc84da494330dba24816842": {
      "model_module": "@jupyter-widgets/controls",
      "model_module_version": "1.5.0",
      "model_name": "ButtonModel",
      "state": {
       "description": "Delete",
       "layout": "IPY_MODEL_0d8106747f5f4d0a81928341852045a2",
       "style": "IPY_MODEL_3ec386de663b4617bc9f49b851f4ac02"
      }
     },
     "bcf7fee88c72467fbcc5a469b43e9f92": {
      "model_module": "@jupyter-widgets/base",
      "model_module_version": "1.2.0",
      "model_name": "LayoutModel",
      "state": {}
     },
     "bd21842443764a4e9cfc0fe5e99adc99": {
      "model_module": "@jupyter-widgets/controls",
      "model_module_version": "1.5.0",
      "model_name": "HBoxModel",
      "state": {
       "children": [
        "IPY_MODEL_f2282812a130441eac41b660ee49477d",
        "IPY_MODEL_ba2927804c224adb95a5bde918123c5b"
       ],
       "layout": "IPY_MODEL_62867ab47038465d8944dcad2437cbc9"
      }
     },
     "bd975fbe82284673a970cc17143dddb9": {
      "model_module": "@jupyter-widgets/controls",
      "model_module_version": "1.5.0",
      "model_name": "DropdownModel",
      "state": {
       "_options_labels": [
        "Integer",
        "Float",
        "Bool"
       ],
       "index": 0,
       "layout": "IPY_MODEL_155e496650f34366b813ae47225f42d5",
       "style": "IPY_MODEL_e6991f813efb4b118467f99c0776efcd"
      }
     },
     "bdd912ccd9594f2c93aaed30b1a57ee8": {
      "model_module": "@jupyter-widgets/controls",
      "model_module_version": "1.5.0",
      "model_name": "DropdownModel",
      "state": {
       "index": null,
       "layout": "IPY_MODEL_1e71076b6d304240bdd062f2d5156785",
       "style": "IPY_MODEL_5e9c1818473b44dab49b3d26bf241c9d"
      }
     },
     "c0409f72c596451b915072be0153fdf9": {
      "model_module": "@jupyter-widgets/controls",
      "model_module_version": "1.5.0",
      "model_name": "DescriptionStyleModel",
      "state": {
       "description_width": ""
      }
     },
     "c11321e762b3422997689f94db4a71c8": {
      "model_module": "@jupyter-widgets/controls",
      "model_module_version": "1.5.0",
      "model_name": "ColorPickerModel",
      "state": {
       "description": "emission",
       "disabled": false,
       "layout": "IPY_MODEL_382ba098f6cc4adf8bfb135a9de7b6d8",
       "style": "IPY_MODEL_0ce5322222f04cda8b64b0849f810223",
       "value": "#000000"
      }
     },
     "c120885553c04d129fd38676ed6234d2": {
      "model_module": "@jupyter-widgets/controls",
      "model_module_version": "1.5.0",
      "model_name": "DescriptionStyleModel",
      "state": {
       "description_width": ""
      }
     },
     "c16429a9bfff45a981471a788dca62c2": {
      "model_module": "@jupyter-widgets/controls",
      "model_module_version": "1.5.0",
      "model_name": "FloatSliderModel",
      "state": {
       "description": "shininess",
       "layout": "IPY_MODEL_ecd6712976814a878c2eb22824a5e5e9",
       "max": 1,
       "step": 0.1,
       "style": "IPY_MODEL_6a96352f36b9452bba44e1ee4b108426",
       "value": 0.2
      }
     },
     "c1729e1e6a704ee9982e5f868755dfc6": {
      "model_module": "@jupyter-widgets/controls",
      "model_module_version": "1.5.0",
      "model_name": "DescriptionStyleModel",
      "state": {
       "description_width": ""
      }
     },
     "c2c1faa3a7104893aba1b9a986c72e7f": {
      "model_module": "@jupyter-widgets/controls",
      "model_module_version": "1.5.0",
      "model_name": "TabModel",
      "state": {
       "layout": "IPY_MODEL_0e698e6988a94950922b8014c320bdf8"
      }
     },
     "c4ed48b837534de7b3ebc8b317ef0a11": {
      "model_module": "@jupyter-widgets/controls",
      "model_module_version": "1.5.0",
      "model_name": "DescriptionStyleModel",
      "state": {
       "description_width": ""
      }
     },
     "c6a591bed4c246eaa6f122a5fb74d701": {
      "model_module": "@jupyter-widgets/base",
      "model_module_version": "1.2.0",
      "model_name": "LayoutModel",
      "state": {}
     },
     "c8d3f70598d54c238929a83e3bcb3334": {
      "model_module": "@jupyter-widgets/controls",
      "model_module_version": "1.5.0",
      "model_name": "DescriptionStyleModel",
      "state": {
       "description_width": ""
      }
     },
     "ca048b3e6ffe42779d97a92813a975b0": {
      "model_module": "@jupyter-widgets/controls",
      "model_module_version": "1.5.0",
      "model_name": "BoundedIntTextModel",
      "state": {
       "description": "index",
       "layout": "IPY_MODEL_efecd650a0b549cfb8d04768a7af3883",
       "style": "IPY_MODEL_1eb0713d17fb4a92b6d7cfab6060154c",
       "value": 1
      }
     },
     "cb7d447aaf2c4c759979e1f891e6d461": {
      "model_module": "@jupyter-widgets/controls",
      "model_module_version": "1.5.0",
      "model_name": "ColorPickerModel",
      "state": {
       "description": "emission",
       "disabled": false,
       "layout": "IPY_MODEL_455f8aeaffa441bf93d43f30ccfb8f01",
       "style": "IPY_MODEL_80486992e7b749219293ac12cc88f982",
       "value": "#000000"
      }
     },
     "cbc8b4e533c94b8597e45a4ac84149b8": {
      "model_module": "@jupyter-widgets/controls",
      "model_module_version": "1.5.0",
      "model_name": "DropdownModel",
      "state": {
       "_options_labels": [
        "leafduration",
        "leafold",
        "maxorder",
        "radinc",
        "nb_axes"
       ],
       "index": 0,
       "layout": "IPY_MODEL_b8d47ef44074438281319294176af51b",
       "style": "IPY_MODEL_5952c0e964b14034832f8d689c94cd56"
      }
     },
     "cc6d0e94c93b4978adf6227cfb533d2c": {
      "model_module": "@jupyter-widgets/controls",
      "model_module_version": "1.5.0",
      "model_name": "DescriptionStyleModel",
      "state": {
       "description_width": ""
      }
     },
     "cd1d503025f94455898cda591460f5da": {
      "model_module": "@jupyter-widgets/controls",
      "model_module_version": "1.5.0",
      "model_name": "DropdownModel",
      "state": {
       "_options_labels": [
        "NurbsCurve2D",
        "BezierCurve2D",
        "Polyline2D",
        "Function"
       ],
       "index": 0,
       "layout": "IPY_MODEL_3761ab3b962b4bdc83a0b5c3edaaf2f4",
       "style": "IPY_MODEL_ec565a4c65ef47b7b5c481d2e487b68f"
      }
     },
     "cd863832ae4f4c2a9fb4238d4fe72b7d": {
      "model_module": "@jupyter-widgets/controls",
      "model_module_version": "1.5.0",
      "model_name": "IntTextModel",
      "state": {
       "description": "min",
       "layout": "IPY_MODEL_67c7aedfc8f04a9bb8e92c4fbabb0fa3",
       "step": 1,
       "style": "IPY_MODEL_15cc82a7eb6848f88869d829430b0385",
       "value": 1
      }
     },
     "cf673dfbe5eb413c96fdeb2659cfc128": {
      "model_module": "@jupyter-widgets/controls",
      "model_module_version": "1.5.0",
      "model_name": "SliderStyleModel",
      "state": {
       "description_width": ""
      }
     },
     "d17ee3bf95d444e6a5dc0e77911f5b59": {
      "model_module": "@jupyter-widgets/controls",
      "model_module_version": "1.5.0",
      "model_name": "ColorPickerModel",
      "state": {
       "description": "specular",
       "disabled": false,
       "layout": "IPY_MODEL_0af1bb03cbd844ea9bfc0d9b864d0f8d",
       "style": "IPY_MODEL_64f0f3be71ea49f6b0bf5f7a3382814b",
       "value": "#282828"
      }
     },
     "d18e48c309db4852aa5cdc3da1012b6e": {
      "model_module": "@jupyter-widgets/base",
      "model_module_version": "1.2.0",
      "model_name": "LayoutModel",
      "state": {}
     },
     "d1e4b02c15bb44948c22e7d933636530": {
      "model_module": "@jupyter-widgets/controls",
      "model_module_version": "1.5.0",
      "model_name": "TextModel",
      "state": {
       "layout": "IPY_MODEL_82ee84b51f34452cb28a4d5fbd6a6bec",
       "placeholder": "category name",
       "style": "IPY_MODEL_b70440f46d284109b251b83b4efe6e79"
      }
     },
     "d3b85fda8a3a4608a7bd96283095fedd": {
      "model_module": "@jupyter-widgets/base",
      "model_module_version": "1.2.0",
      "model_name": "LayoutModel",
      "state": {}
     },
     "d3ca847489164ca4957ed12a3dbe22f6": {
      "model_module": "@jupyter-widgets/base",
      "model_module_version": "1.2.0",
      "model_name": "LayoutModel",
      "state": {}
     },
     "d40cd5784b9640ce86140f6d8eb19ad7": {
      "model_module": "@jupyter-widgets/controls",
      "model_module_version": "1.5.0",
      "model_name": "DescriptionStyleModel",
      "state": {
       "description_width": ""
      }
     },
     "d56364ff1cc441588f37f856b104fb7f": {
      "model_module": "@jupyter-widgets/base",
      "model_module_version": "1.2.0",
      "model_name": "LayoutModel",
      "state": {}
     },
     "d57615a69c10480d8db062fc5e36385d": {
      "model_module": "@jupyter-widgets/controls",
      "model_module_version": "1.5.0",
      "model_name": "DescriptionStyleModel",
      "state": {
       "description_width": ""
      }
     },
     "d5bad5e9916e489c92ca26665824ec2d": {
      "model_module": "@jupyter-widgets/controls",
      "model_module_version": "1.5.0",
      "model_name": "SliderStyleModel",
      "state": {
       "description_width": ""
      }
     },
     "d734a536300949189433eec18ebe49d5": {
      "model_module": "@jupyter-widgets/controls",
      "model_module_version": "1.5.0",
      "model_name": "IntSliderModel",
      "state": {
       "description": "value",
       "layout": "IPY_MODEL_973da0ef21a546739fbc9361cd34bfe5",
       "max": 10,
       "min": 1,
       "style": "IPY_MODEL_d5bad5e9916e489c92ca26665824ec2d",
       "value": 2
      }
     },
     "d77d077081bb4eb8baa6f71acfaca80d": {
      "model_module": "@jupyter-widgets/controls",
      "model_module_version": "1.5.0",
      "model_name": "HBoxModel",
      "state": {
       "children": [
        "IPY_MODEL_ec25e9001eaf45e69cf86327398a4adc",
        "IPY_MODEL_1a768dffa91045cdbec62fd051859942"
       ],
       "layout": "IPY_MODEL_f7ff34c66d4b431c8d7a458913ac23de"
      }
     },
     "d94927052fb046c4b476563ba1404936": {
      "model_module": "@jupyter-widgets/controls",
      "model_module_version": "1.5.0",
      "model_name": "ButtonModel",
      "state": {
       "description": "Delete",
       "layout": "IPY_MODEL_2e291dc0a02b4b878cc21b93ac478bfd",
       "style": "IPY_MODEL_18abd2b200874f98af3b0f2c86c1a019"
      }
     },
     "d9ccb67aeb914dbebc9157bdfb5dc23d": {
      "model_module": "@jupyter-widgets/base",
      "model_module_version": "1.2.0",
      "model_name": "LayoutModel",
      "state": {}
     },
     "dab8e9c05b4743e0910867303374e23e": {
      "model_module": "pgljupyter",
      "model_module_version": "^0.1.16.dev0",
      "model_name": "MaterialEditorModel",
      "state": {
       "_model_module_version": "^0.1.16.dev0",
       "_view_module_version": "^0.1.16.dev0",
       "children": [
        "IPY_MODEL_677b6979d18a4369b43c7d2c7055d352",
        "IPY_MODEL_1f8ab0fca1c04c59ba41957779688c40",
        "IPY_MODEL_9db215c1ff3242bab8eb9533ae4c1142",
        "IPY_MODEL_7820f3eb666143e08c9689ceabf9f92e",
        "IPY_MODEL_2cbe2b9f20a14b2c9ff7c42cc96e34c6",
        "IPY_MODEL_00d6b976c7584356bc8ace10cc276390",
        "IPY_MODEL_5d1acbde1263434ca0516af8b1e818ec",
        "IPY_MODEL_c16429a9bfff45a981471a788dca62c2"
       ],
       "layout": "IPY_MODEL_9b3e11ebb803450b986ba009cd7271d1"
      }
     },
     "dae8d0d2b5a24ba3a4caef5ae026ea60": {
      "model_module": "@jupyter-widgets/base",
      "model_module_version": "1.2.0",
      "model_name": "LayoutModel",
      "state": {}
     },
     "dc9e29879357411bbba01c813ba6f9f4": {
      "model_module": "@jupyter-widgets/base",
      "model_module_version": "1.2.0",
      "model_name": "LayoutModel",
      "state": {}
     },
     "de29d9fc92c645568318b3cac8e85baf": {
      "model_module": "@jupyter-widgets/controls",
      "model_module_version": "1.5.0",
      "model_name": "ButtonModel",
      "state": {
       "description": "Delete",
       "layout": "IPY_MODEL_fdc7cdfb71c14e9f9ae8327b7e4919ce",
       "style": "IPY_MODEL_0adb42962e0d46d8a508e6187f7b3e19"
      }
     },
     "dfd5a1256a954e379bc5aff58a8db58a": {
      "model_module": "pgljupyter",
      "model_module_version": "^0.1.16.dev0",
      "model_name": "ParameterEditorModel",
      "state": {
       "_model_module_version": "^0.1.16.dev0",
       "_view_module_version": "^0.1.16.dev0",
       "children": [
        "IPY_MODEL_50c897762f9846d38e9f8e2de2d19de2"
       ],
       "layout": "IPY_MODEL_d3ca847489164ca4957ed12a3dbe22f6"
      }
     },
     "e2959aa92f7d44c2a5d6d06683c7f898": {
      "model_module": "@jupyter-widgets/controls",
      "model_module_version": "1.5.0",
      "model_name": "DescriptionStyleModel",
      "state": {
       "description_width": ""
      }
     },
     "e41cb6704a0a4c06a028ae53e9f988ee": {
      "model_module": "@jupyter-widgets/controls",
      "model_module_version": "1.5.0",
      "model_name": "DescriptionStyleModel",
      "state": {
       "description_width": ""
      }
     },
     "e4bcad903cd24e668755c12c6ad16d21": {
      "model_module": "@jupyter-widgets/controls",
      "model_module_version": "1.5.0",
      "model_name": "DescriptionStyleModel",
      "state": {
       "description_width": ""
      }
     },
     "e6991f813efb4b118467f99c0776efcd": {
      "model_module": "@jupyter-widgets/controls",
      "model_module_version": "1.5.0",
      "model_name": "DescriptionStyleModel",
      "state": {
       "description_width": ""
      }
     },
     "e72c590e7a184b6fb4ad01d25e4545a9": {
      "model_module": "@jupyter-widgets/controls",
      "model_module_version": "1.5.0",
      "model_name": "FloatSliderModel",
      "state": {
       "description": "shininess",
       "layout": "IPY_MODEL_18a4cfa16bc946538d5790374028d641",
       "max": 1,
       "step": 0.1,
       "style": "IPY_MODEL_16f7bc26a9f3423a8cdb0ee883e8baf3",
       "value": 0.2
      }
     },
     "e8499e7bab6246a0ad0a4f30d14ddbb3": {
      "model_module": "@jupyter-widgets/base",
      "model_module_version": "1.2.0",
      "model_name": "LayoutModel",
      "state": {}
     },
     "e984cba6c0f84ad5a3546c38b70bc438": {
      "model_module": "@jupyter-widgets/controls",
      "model_module_version": "1.5.0",
      "model_name": "FloatSliderModel",
      "state": {
       "description": "diffuse",
       "layout": "IPY_MODEL_36dae7e778b4478990ee42ee7dd61824",
       "max": 3,
       "step": 0.1,
       "style": "IPY_MODEL_5c020f6de4b0494db643bad3b0644d25",
       "value": 1
      }
     },
     "ea9d8d6b50034a3a9fb9e57b9e304732": {
      "model_module": "@jupyter-widgets/controls",
      "model_module_version": "1.5.0",
      "model_name": "IntTextModel",
      "state": {
       "description": "min",
       "layout": "IPY_MODEL_a928100a1a7543c1a952e02f63653d38",
       "step": 1,
       "style": "IPY_MODEL_cc6d0e94c93b4978adf6227cfb533d2c",
       "value": 1
      }
     },
     "eac0f378daf14e768b562dc92a52bd46": {
      "model_module": "@jupyter-widgets/controls",
      "model_module_version": "1.5.0",
      "model_name": "IntTextModel",
      "state": {
       "description": "min",
       "layout": "IPY_MODEL_5b5cffc519364c9fbd2a8e2332a75c62",
       "step": 1,
       "style": "IPY_MODEL_c8d3f70598d54c238929a83e3bcb3334",
       "value": 1
      }
     },
     "eb38eb2960ba4c56b249425bdddbb378": {
      "model_module": "@jupyter-widgets/controls",
      "model_module_version": "1.5.0",
      "model_name": "SliderStyleModel",
      "state": {
       "description_width": ""
      }
     },
     "ebe128ea294142459765d6098ca68e1a": {
      "model_module": "@jupyter-widgets/controls",
      "model_module_version": "1.5.0",
      "model_name": "FloatSliderModel",
      "state": {
       "description": "diffuse",
       "layout": "IPY_MODEL_3581f98b0e0b489eb1e8d1ffb45828de",
       "max": 3,
       "step": 0.1,
       "style": "IPY_MODEL_2171707fa97347488af43fe88a591d0f",
       "value": 1
      }
     },
     "ec25e9001eaf45e69cf86327398a4adc": {
      "model_module": "@jupyter-widgets/controls",
      "model_module_version": "1.5.0",
      "model_name": "HBoxModel",
      "state": {
       "children": [
        "IPY_MODEL_428b97f3a6fc42759d90478a7ffb3457",
        "IPY_MODEL_bd975fbe82284673a970cc17143dddb9"
       ],
       "layout": "IPY_MODEL_0c4ef21d02cd4d5098cab60592f95c54"
      }
     },
     "ec565a4c65ef47b7b5c481d2e487b68f": {
      "model_module": "@jupyter-widgets/controls",
      "model_module_version": "1.5.0",
      "model_name": "DescriptionStyleModel",
      "state": {
       "description_width": ""
      }
     },
     "ecd0c12b3b9e479fb4a4bdfdcb2c2842": {
      "model_module": "@jupyter-widgets/controls",
      "model_module_version": "1.5.0",
      "model_name": "IntTextModel",
      "state": {
       "description": "max",
       "layout": "IPY_MODEL_973162b76dea4a2bbb3e36144ea6db25",
       "step": 1,
       "style": "IPY_MODEL_ed253fc3290f4b25b35b8dcd2674306e",
       "value": 10
      }
     },
     "ecd6712976814a878c2eb22824a5e5e9": {
      "model_module": "@jupyter-widgets/base",
      "model_module_version": "1.2.0",
      "model_name": "LayoutModel",
      "state": {}
     },
     "ed253fc3290f4b25b35b8dcd2674306e": {
      "model_module": "@jupyter-widgets/controls",
      "model_module_version": "1.5.0",
      "model_name": "DescriptionStyleModel",
      "state": {
       "description_width": ""
      }
     },
     "ef1d08148f6a452081c3eb7924ab9c8f": {
      "model_module": "@jupyter-widgets/controls",
      "model_module_version": "1.5.0",
      "model_name": "ButtonStyleModel",
      "state": {}
     },
     "efecd650a0b549cfb8d04768a7af3883": {
      "model_module": "@jupyter-widgets/base",
      "model_module_version": "1.2.0",
      "model_name": "LayoutModel",
      "state": {}
     },
     "f07ec7a47aa64a3a83eebeecca3f4573": {
      "model_module": "@jupyter-widgets/controls",
      "model_module_version": "1.5.0",
      "model_name": "IntSliderModel",
      "state": {
       "description": "value",
       "layout": "IPY_MODEL_1f72998eed09408198e3afb7711fce67",
       "max": 10,
       "min": 1,
       "style": "IPY_MODEL_7ff69b0f459c406da1dcf1b6b9ea1d85",
       "value": 5
      }
     },
     "f091e8ee938040379301180a6b5f8ece": {
      "model_module": "pgljupyter",
      "model_module_version": "^0.1.16.dev0",
      "model_name": "MaterialEditorModel",
      "state": {
       "_model_module_version": "^0.1.16.dev0",
       "_view_module_version": "^0.1.16.dev0",
       "children": [
        "IPY_MODEL_6b7f50760bbe40128e53e8730548a7c5",
        "IPY_MODEL_af4039e9ddde442ba446084c54416900",
        "IPY_MODEL_80301650537045819e119da69d2e1eaf",
        "IPY_MODEL_d17ee3bf95d444e6a5dc0e77911f5b59",
        "IPY_MODEL_cb7d447aaf2c4c759979e1f891e6d461",
        "IPY_MODEL_e984cba6c0f84ad5a3546c38b70bc438",
        "IPY_MODEL_89a945aee0754e80a2eee46f61496ba5",
        "IPY_MODEL_fa3fcbaf866c47d0a6ee55fb9125c3d4"
       ],
       "layout": "IPY_MODEL_92978dae10c04f879b6b666ba80d5835"
      }
     },
     "f1c6aa52cc2a40a396a24165e1c5bf64": {
      "model_module": "@jupyter-widgets/controls",
      "model_module_version": "1.5.0",
      "model_name": "DescriptionStyleModel",
      "state": {
       "description_width": ""
      }
     },
     "f2282812a130441eac41b660ee49477d": {
      "model_module": "@jupyter-widgets/controls",
      "model_module_version": "1.5.0",
      "model_name": "ButtonModel",
      "state": {
       "description": "Save changes",
       "layout": "IPY_MODEL_37be1e18450a48628dc1cfe7889e3ae0",
       "style": "IPY_MODEL_ae49ac24f7d94cbea0a0b653a87d4b7d"
      }
     },
     "f26688f6c93d449ca3039c51f092914f": {
      "model_module": "@jupyter-widgets/controls",
      "model_module_version": "1.5.0",
      "model_name": "ButtonStyleModel",
      "state": {}
     },
     "f41d2bc09ad24d97b1e0e97f75537487": {
      "model_module": "@jupyter-widgets/base",
      "model_module_version": "1.2.0",
      "model_name": "LayoutModel",
      "state": {}
     },
     "f41ebca09dd94958b840510087992ffe": {
      "model_module": "@jupyter-widgets/base",
      "model_module_version": "1.2.0",
      "model_name": "LayoutModel",
      "state": {
       "margin": "20px 0px"
      }
     },
     "f6bd143eb72a4021a9ee1d0db9b45016": {
      "model_module": "@jupyter-widgets/controls",
      "model_module_version": "1.5.0",
      "model_name": "FloatTextModel",
      "state": {
       "description": "min",
       "layout": "IPY_MODEL_340f0dbc98ff42bda049e2e8bbb7b838",
       "step": null,
       "style": "IPY_MODEL_7ee5793271fa419b8cf938c7cdd42829",
       "value": 0.01
      }
     },
     "f7ff34c66d4b431c8d7a458913ac23de": {
      "model_module": "@jupyter-widgets/base",
      "model_module_version": "1.2.0",
      "model_name": "LayoutModel",
      "state": {
       "flex_flow": "row wrap",
       "margin": "20px"
      }
     },
     "f83dfb11eba54161877d623ec09906b5": {
      "model_module": "@jupyter-widgets/base",
      "model_module_version": "1.2.0",
      "model_name": "LayoutModel",
      "state": {
       "flex_flow": "row wrap"
      }
     },
     "f8bc8a94e6fc4a96a7ccd3d239c789b6": {
      "model_module": "@jupyter-widgets/base",
      "model_module_version": "1.2.0",
      "model_name": "LayoutModel",
      "state": {}
     },
     "f8e8217ad4ff42db874a2be04d88d09c": {
      "model_module": "@jupyter-widgets/base",
      "model_module_version": "1.2.0",
      "model_name": "LayoutModel",
      "state": {}
     },
     "fa3fcbaf866c47d0a6ee55fb9125c3d4": {
      "model_module": "@jupyter-widgets/controls",
      "model_module_version": "1.5.0",
      "model_name": "FloatSliderModel",
      "state": {
       "description": "shininess",
       "layout": "IPY_MODEL_0493264d976c421cbf4fe203f92091da",
       "max": 1,
       "step": 0.1,
       "style": "IPY_MODEL_19c0e5bf37c2495dba13da8f747c69e9",
       "value": 0.2
      }
     },
     "fb438b1cc1484336bb3533aa50de8e15": {
      "model_module": "@jupyter-widgets/base",
      "model_module_version": "1.2.0",
      "model_name": "LayoutModel",
      "state": {}
     },
     "fc7845240a5a42389a89509a28eb34dd": {
      "model_module": "@jupyter-widgets/controls",
      "model_module_version": "1.5.0",
      "model_name": "DescriptionStyleModel",
      "state": {
       "description_width": ""
      }
     },
     "fce01e4c69184a6aa0107d409c41700a": {
      "model_module": "@jupyter-widgets/controls",
      "model_module_version": "1.5.0",
      "model_name": "DescriptionStyleModel",
      "state": {
       "description_width": ""
      }
     },
     "fdc7cdfb71c14e9f9ae8327b7e4919ce": {
      "model_module": "@jupyter-widgets/base",
      "model_module_version": "1.2.0",
      "model_name": "LayoutModel",
      "state": {}
     },
     "fe19d3f5e3dc4cd99368775b1f16b8cc": {
      "model_module": "@jupyter-widgets/controls",
      "model_module_version": "1.5.0",
      "model_name": "ButtonStyleModel",
      "state": {}
     }
    },
    "version_major": 2,
    "version_minor": 0
   }
  }
 },
 "nbformat": 4,
 "nbformat_minor": 4
}
