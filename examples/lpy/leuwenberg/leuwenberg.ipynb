{
 "cells": [
  {
   "cell_type": "code",
   "execution_count": 1,
   "metadata": {},
   "outputs": [],
   "source": [
    "from pgljupyter import LsystemWidget"
   ]
  },
  {
   "cell_type": "code",
   "execution_count": 2,
   "metadata": {},
   "outputs": [],
   "source": [
    "lw = LsystemWidget('leuwenberg.lpy', unit='m', size_world=50, animate=True)"
   ]
  },
  {
   "cell_type": "code",
   "execution_count": 3,
   "metadata": {},
   "outputs": [
    {
     "data": {
      "application/vnd.jupyter.widget-view+json": {
       "model_id": "c22f5ce3fb8c4a0d8b37bd1b2e428352",
       "version_major": 2,
       "version_minor": 0
      },
      "text/plain": [
       "LsystemWidget(animate=True, derivationLength=41, scene={'data': b'x\\xdaSLrw\\xf5\\xf7e`Pp\\xe0\\xe5RPVVde```be\\x08…"
      ]
     },
     "metadata": {},
     "output_type": "display_data"
    }
   ],
   "source": [
    "lw"
   ]
  },
  {
   "cell_type": "code",
   "execution_count": null,
   "metadata": {},
   "outputs": [],
   "source": [
    "lw.editor"
   ]
  },
  {
   "cell_type": "code",
   "execution_count": null,
   "metadata": {},
   "outputs": [],
   "source": []
  }
 ],
 "metadata": {
  "kernelspec": {
   "display_name": "Python 3",
   "language": "python",
   "name": "python3"
  },
  "language_info": {
   "codemirror_mode": {
    "name": "ipython",
    "version": 3
   },
   "file_extension": ".py",
   "mimetype": "text/x-python",
   "name": "python",
   "nbconvert_exporter": "python",
   "pygments_lexer": "ipython3",
   "version": "3.8.5"
  },
  "widgets": {
   "application/vnd.jupyter.widget-state+json": {
    "state": {
     "001bd476239c49088f30751ad638172d": {
      "model_module": "@jupyter-widgets/controls",
      "model_module_version": "1.5.0",
      "model_name": "IntSliderModel",
      "state": {
       "description": "value",
       "layout": "IPY_MODEL_a2a81572d5c148199e203c15d3709d86",
       "max": 10,
       "min": 1,
       "style": "IPY_MODEL_371f3bee91fc406e8ef326fbd6a62738",
       "value": 5
      }
     },
     "0045facf86484c20b65d50f36e706058": {
      "model_module": "@jupyter-widgets/controls",
      "model_module_version": "1.5.0",
      "model_name": "IntTextModel",
      "state": {
       "description": "min",
       "layout": "IPY_MODEL_ccba9a3859ca4b6991e1fda355529903",
       "step": 1,
       "style": "IPY_MODEL_440e9464b6eb4f4fb443c6545b37e912",
       "value": 1
      }
     },
     "006c860d83bb44f197de8a363c8000ca": {
      "model_module": "@jupyter-widgets/base",
      "model_module_version": "1.2.0",
      "model_name": "LayoutModel",
      "state": {}
     },
     "00990019601d46a0b7bcc7bab5281dc1": {
      "model_module": "@jupyter-widgets/controls",
      "model_module_version": "1.5.0",
      "model_name": "HBoxModel",
      "state": {
       "children": [
        "IPY_MODEL_0c21e5394d8b4d6b8ea913ab4463c98a",
        "IPY_MODEL_51fb96c250624e18a4669ff67b564ebd"
       ],
       "layout": "IPY_MODEL_d9f645703aac40609de27738db4e311a"
      }
     },
     "00c7cd86f3d34e1bafc6fd9d02f7d24d": {
      "model_module": "@jupyter-widgets/controls",
      "model_module_version": "1.5.0",
      "model_name": "SliderStyleModel",
      "state": {
       "description_width": ""
      }
     },
     "00c87c416f8249ebbcb715271aee375a": {
      "model_module": "@jupyter-widgets/controls",
      "model_module_version": "1.5.0",
      "model_name": "ButtonModel",
      "state": {
       "description": "Add",
       "layout": "IPY_MODEL_74248d6b4dc944ba9330addbccf1b98d",
       "style": "IPY_MODEL_dbbac5feffe44f8ea5c59ba3d0316d1e"
      }
     },
     "00c9715e89e84a8695f2a58c15fd7688": {
      "model_module": "@jupyter-widgets/controls",
      "model_module_version": "1.5.0",
      "model_name": "DescriptionStyleModel",
      "state": {
       "description_width": ""
      }
     },
     "00cac5436c8e487dae18a9ff4734dbaf": {
      "model_module": "@jupyter-widgets/controls",
      "model_module_version": "1.5.0",
      "model_name": "ButtonStyleModel",
      "state": {}
     },
     "011e5223efa649b9bf1d2bed8747815d": {
      "model_module": "@jupyter-widgets/controls",
      "model_module_version": "1.5.0",
      "model_name": "DescriptionStyleModel",
      "state": {
       "description_width": ""
      }
     },
     "0141b49d8db4402b84d8aa0642d76ab2": {
      "model_module": "@jupyter-widgets/controls",
      "model_module_version": "1.5.0",
      "model_name": "HBoxModel",
      "state": {
       "layout": "IPY_MODEL_f583c73dcf62478eaadd3ea0a6bf751a"
      }
     },
     "01552cc098bb4739882f3ec4dc719ec8": {
      "model_module": "@jupyter-widgets/controls",
      "model_module_version": "1.5.0",
      "model_name": "DropdownModel",
      "state": {
       "_options_labels": [
        "NurbsCurve2D",
        "BezierCurve2D",
        "Polyline2D",
        "Function"
       ],
       "index": 0,
       "layout": "IPY_MODEL_4dcf6f69930d49be872b838aed6b60ef",
       "style": "IPY_MODEL_c3bb6e2e3a964b54bae4688c732ce7f1"
      }
     },
     "016942bf030a4040aab3d51d5c34046b": {
      "model_module": "@jupyter-widgets/controls",
      "model_module_version": "1.5.0",
      "model_name": "HBoxModel",
      "state": {
       "layout": "IPY_MODEL_674a914ce6c54b60af42ddb5ffca3dc9"
      }
     },
     "01a4c9607cdf48b8898781b301081a28": {
      "model_module": "@jupyter-widgets/controls",
      "model_module_version": "1.5.0",
      "model_name": "VBoxModel",
      "state": {
       "children": [
        "IPY_MODEL_c25b4590b0ae444281e4de1577dba820",
        "IPY_MODEL_29fc71175e7a45d6b518dc6b0b3abe69"
       ],
       "layout": "IPY_MODEL_88d679242d4e47da83d942cd3e60dc38"
      }
     },
     "01c2c3d784ba4c3586966258acb9a965": {
      "model_module": "@jupyter-widgets/base",
      "model_module_version": "1.2.0",
      "model_name": "LayoutModel",
      "state": {}
     },
     "01c976d04d3844679724e474809c158b": {
      "model_module": "@jupyter-widgets/base",
      "model_module_version": "1.2.0",
      "model_name": "LayoutModel",
      "state": {}
     },
     "01d156abe9e64f279c9e54ff54687842": {
      "model_module": "@jupyter-widgets/controls",
      "model_module_version": "1.5.0",
      "model_name": "DescriptionStyleModel",
      "state": {
       "description_width": ""
      }
     },
     "01e77f3ba36546da9016bf31ea6782b3": {
      "model_module": "@jupyter-widgets/controls",
      "model_module_version": "1.5.0",
      "model_name": "DescriptionStyleModel",
      "state": {
       "description_width": ""
      }
     },
     "01ed8b7f59ca414aa3f811a9599fb7db": {
      "model_module": "@jupyter-widgets/base",
      "model_module_version": "1.2.0",
      "model_name": "LayoutModel",
      "state": {}
     },
     "01f8e7becffd4b2dab6e12674ca3f07f": {
      "model_module": "@jupyter-widgets/controls",
      "model_module_version": "1.5.0",
      "model_name": "SliderStyleModel",
      "state": {
       "description_width": ""
      }
     },
     "024a1bedd40241b69d18bf5622dad7ab": {
      "model_module": "@jupyter-widgets/controls",
      "model_module_version": "1.5.0",
      "model_name": "DescriptionStyleModel",
      "state": {
       "description_width": ""
      }
     },
     "0253d6810eed4a22b1f7cb1bbd8c532a": {
      "model_module": "pgljupyter",
      "model_module_version": "^0.1.15",
      "model_name": "MaterialEditorModel",
      "state": {
       "_model_module_version": "^0.1.15",
       "_view_module_version": "^0.1.15",
       "children": [
        "IPY_MODEL_220007b71ba94298b697454e18781038",
        "IPY_MODEL_78f24d72c8cb4e249853ed4debea9766",
        "IPY_MODEL_21ba68acbf6449f3afa9fdd170cb7146",
        "IPY_MODEL_5c57f1ab3f3f4907996118d55d555f37",
        "IPY_MODEL_588d844622d44aaebcb07175ecab604e",
        "IPY_MODEL_48fa7d5246f84c32983c2aa30b6a5fe3",
        "IPY_MODEL_e48e7dbe0f2d43968465040e955d8345",
        "IPY_MODEL_b7c4ee70548c46f3ae5900fd98952170"
       ],
       "layout": "IPY_MODEL_8ec00b2cc23342a09233e026086c3c27"
      }
     },
     "026b84b9fb1f459b9e926eec44ae596c": {
      "model_module": "@jupyter-widgets/controls",
      "model_module_version": "1.5.0",
      "model_name": "DescriptionStyleModel",
      "state": {
       "description_width": ""
      }
     },
     "02a74f7bceb840a7a578defaea9f85bd": {
      "model_module": "@jupyter-widgets/base",
      "model_module_version": "1.2.0",
      "model_name": "LayoutModel",
      "state": {
       "margin": "20px 0px"
      }
     },
     "02acf25050254dd985fdf1102b507140": {
      "model_module": "@jupyter-widgets/controls",
      "model_module_version": "1.5.0",
      "model_name": "HBoxModel",
      "state": {
       "children": [
        "IPY_MODEL_b9cc05f666bc435cbe476ef8e9e4fbec",
        "IPY_MODEL_8c6d842e752a4b18b7ab2cfa3594f105"
       ],
       "layout": "IPY_MODEL_aba6237376814db3825fb7a05b492cc1"
      }
     },
     "02bb664da5f046189a579eed3aa3964f": {
      "model_module": "@jupyter-widgets/controls",
      "model_module_version": "1.5.0",
      "model_name": "IntTextModel",
      "state": {
       "description": "min",
       "layout": "IPY_MODEL_660de94f0adc4a67ad18f37582679166",
       "step": 1,
       "style": "IPY_MODEL_154d67d33ca541a4bcb159be9177f601",
       "value": 1
      }
     },
     "02bf8ebed60641da9aac3f46aa09b284": {
      "model_module": "@jupyter-widgets/controls",
      "model_module_version": "1.5.0",
      "model_name": "TextModel",
      "state": {
       "continuous_update": false,
       "description": "name",
       "layout": "IPY_MODEL_3fe29caf9acb479c9e156fc6416900ee",
       "style": "IPY_MODEL_b7601ada32964215b08802b99d20b892",
       "value": "nb_axes"
      }
     },
     "02cbf32df22e4d48bb67b3a4b211d2e7": {
      "model_module": "@jupyter-widgets/base",
      "model_module_version": "1.2.0",
      "model_name": "LayoutModel",
      "state": {}
     },
     "02dfbd0f3f494360ad5c3be0612bc61f": {
      "model_module": "@jupyter-widgets/base",
      "model_module_version": "1.2.0",
      "model_name": "LayoutModel",
      "state": {}
     },
     "0326112e674944ba9a73de236d0bc716": {
      "model_module": "@jupyter-widgets/controls",
      "model_module_version": "1.5.0",
      "model_name": "HBoxModel",
      "state": {
       "children": [
        "IPY_MODEL_97e0f25e2b234a4e8f54f9c7226139d4",
        "IPY_MODEL_c045ea0a6e574fee9cb72240ae282111",
        "IPY_MODEL_b5a60422cef947149d1cba4db4f158b1",
        "IPY_MODEL_a8dd0a308b114080bb877db875d6db5d",
        "IPY_MODEL_46c02970a0b445b38cdd36e997fef5a9"
       ],
       "layout": "IPY_MODEL_ed50075832b64beaaa7bbefb48f81c6a"
      }
     },
     "0349bc0e02104c3aa8e5b711e3f64a9d": {
      "model_module": "@jupyter-widgets/base",
      "model_module_version": "1.2.0",
      "model_name": "LayoutModel",
      "state": {}
     },
     "034ed870191544c4b7837fbbd29c712d": {
      "model_module": "@jupyter-widgets/controls",
      "model_module_version": "1.5.0",
      "model_name": "ButtonModel",
      "state": {
       "description": "Delete",
       "layout": "IPY_MODEL_b81af8cd3ac248688134ee4c10479ba6",
       "style": "IPY_MODEL_d736f9ff59474e2fbde6d727a08f13f6"
      }
     },
     "0358c83a7235450eb641b2d90ea8c569": {
      "model_module": "@jupyter-widgets/controls",
      "model_module_version": "1.5.0",
      "model_name": "FloatTextModel",
      "state": {
       "description": "max",
       "layout": "IPY_MODEL_889f2425f1a345fd8139244e0dbd2e35",
       "step": null,
       "style": "IPY_MODEL_1765949b291843328e53577a6b6b2261",
       "value": 0.1
      }
     },
     "0363dd6f49f04bb58c913c0d2c5c903b": {
      "model_module": "@jupyter-widgets/controls",
      "model_module_version": "1.5.0",
      "model_name": "VBoxModel",
      "state": {
       "children": [
        "IPY_MODEL_b0e428650bcd4920989735f0790ab5a4",
        "IPY_MODEL_40af17acda92411d80109dc43358e774"
       ],
       "layout": "IPY_MODEL_80cb56e577a544b7b67854bd62adcbe8"
      }
     },
     "037f7d5ac4284833bf9e8272d25a243e": {
      "model_module": "@jupyter-widgets/controls",
      "model_module_version": "1.5.0",
      "model_name": "ButtonStyleModel",
      "state": {}
     },
     "038dd9c257d341c099569c1521bb00f1": {
      "model_module": "@jupyter-widgets/controls",
      "model_module_version": "1.5.0",
      "model_name": "TabModel",
      "state": {
       "_titles": {
        "0": "leuwenberg.json"
       },
       "children": [
        "IPY_MODEL_da7312441c124645a859a4440c5e690a"
       ],
       "layout": "IPY_MODEL_3e05ba6b58e74c328014b35717708836"
      }
     },
     "03b8f58d0d4748bc8c70bc4cbd010c81": {
      "model_module": "@jupyter-widgets/controls",
      "model_module_version": "1.5.0",
      "model_name": "DescriptionStyleModel",
      "state": {
       "description_width": ""
      }
     },
     "03c0d0c5ad8847528bb327999369da2d": {
      "model_module": "@jupyter-widgets/base",
      "model_module_version": "1.2.0",
      "model_name": "LayoutModel",
      "state": {}
     },
     "0405e697af844b2ea91e99af5ca06901": {
      "model_module": "@jupyter-widgets/controls",
      "model_module_version": "1.5.0",
      "model_name": "DescriptionStyleModel",
      "state": {
       "description_width": ""
      }
     },
     "0431312cdbd045b7941de19db65b2edb": {
      "model_module": "@jupyter-widgets/controls",
      "model_module_version": "1.5.0",
      "model_name": "SliderStyleModel",
      "state": {
       "description_width": ""
      }
     },
     "048bb63b5aac4025b904ec1e7f139797": {
      "model_module": "@jupyter-widgets/base",
      "model_module_version": "1.2.0",
      "model_name": "LayoutModel",
      "state": {}
     },
     "049e05cafeb2474591d9e039d80871b7": {
      "model_module": "@jupyter-widgets/controls",
      "model_module_version": "1.5.0",
      "model_name": "DescriptionStyleModel",
      "state": {
       "description_width": ""
      }
     },
     "04e56f0541674c39a651dd9c50a6c8f2": {
      "model_module": "@jupyter-widgets/controls",
      "model_module_version": "1.5.0",
      "model_name": "DescriptionStyleModel",
      "state": {
       "description_width": ""
      }
     },
     "04e75893469a40c59769c30734490d10": {
      "model_module": "@jupyter-widgets/controls",
      "model_module_version": "1.5.0",
      "model_name": "DescriptionStyleModel",
      "state": {
       "description_width": ""
      }
     },
     "04fbc6a2ea364e779bd42e8a60e99318": {
      "model_module": "pgljupyter",
      "model_module_version": "^0.1.15",
      "model_name": "ParameterEditorModel",
      "state": {
       "_model_module_version": "^0.1.15",
       "_view_module_version": "^0.1.15",
       "children": [
        "IPY_MODEL_4d1f844aad4a47be881a3d299b0dadd9"
       ],
       "layout": "IPY_MODEL_4f3b91fa450b4491856a9a44fb60cb84"
      }
     },
     "0517c90068cf49819b0878b929df6a97": {
      "model_module": "@jupyter-widgets/controls",
      "model_module_version": "1.5.0",
      "model_name": "TextModel",
      "state": {
       "continuous_update": false,
       "description": "name",
       "layout": "IPY_MODEL_574863a6cad34aef8e40d8339970a06e",
       "style": "IPY_MODEL_a5cb51dbbce1400eae12508087a76361",
       "value": "NurbsCurve2D_0"
      }
     },
     "05309ec65eeb47319dd90200e4ded550": {
      "model_module": "@jupyter-widgets/controls",
      "model_module_version": "1.5.0",
      "model_name": "DropdownModel",
      "state": {
       "_options_labels": [
        "NurbsCurve2D"
       ],
       "index": 0,
       "layout": "IPY_MODEL_493d5a5387c94ff6bb50e2aaa48fcbf4",
       "style": "IPY_MODEL_7b202b2c87bf4343b5cfdad8b03600b6"
      }
     },
     "0584709e6b43421cac48ecdf7b92801e": {
      "model_module": "@jupyter-widgets/base",
      "model_module_version": "1.2.0",
      "model_name": "LayoutModel",
      "state": {}
     },
     "059cd3ead9c84420a00546dd6da8188f": {
      "model_module": "@jupyter-widgets/controls",
      "model_module_version": "1.5.0",
      "model_name": "HBoxModel",
      "state": {
       "children": [
        "IPY_MODEL_3feee74276d3421fae01be462715ffc8",
        "IPY_MODEL_fef5842bd92e42159dc06e93194ba888"
       ],
       "layout": "IPY_MODEL_1aaed1264b7e4af38e5dfa20e770f4aa"
      }
     },
     "05a5529a09074ddab6d359cac1010def": {
      "model_module": "@jupyter-widgets/controls",
      "model_module_version": "1.5.0",
      "model_name": "SliderStyleModel",
      "state": {
       "description_width": ""
      }
     },
     "05baa82cf2bd4d19ae29886c495c838c": {
      "model_module": "@jupyter-widgets/controls",
      "model_module_version": "1.5.0",
      "model_name": "FloatTextModel",
      "state": {
       "description": "max",
       "layout": "IPY_MODEL_fa5ab9a9bee44bd487e3af93b6960686",
       "step": null,
       "style": "IPY_MODEL_f3edf20f06664802b1ed1a7f3e4d9d75",
       "value": 0.1
      }
     },
     "05c793cf33424025941cb184db923fea": {
      "model_module": "@jupyter-widgets/controls",
      "model_module_version": "1.5.0",
      "model_name": "DescriptionStyleModel",
      "state": {
       "description_width": ""
      }
     },
     "05ebf49d94d548c0b1db328535628615": {
      "model_module": "@jupyter-widgets/base",
      "model_module_version": "1.2.0",
      "model_name": "LayoutModel",
      "state": {}
     },
     "0639a86ff18c44a4b3981fecbdf22839": {
      "model_module": "@jupyter-widgets/base",
      "model_module_version": "1.2.0",
      "model_name": "LayoutModel",
      "state": {}
     },
     "064a6b52f9d74adca3130c88f0c1bda9": {
      "model_module": "@jupyter-widgets/base",
      "model_module_version": "1.2.0",
      "model_name": "LayoutModel",
      "state": {}
     },
     "06c3921f175e4a279d1570d00d627b90": {
      "model_module": "@jupyter-widgets/controls",
      "model_module_version": "1.5.0",
      "model_name": "BoundedFloatTextModel",
      "state": {
       "description": "step",
       "layout": "IPY_MODEL_4a6bfe8fa14e4d6d8f21ff443d32be77",
       "max": 1,
       "min": 0.01,
       "step": 0.01,
       "style": "IPY_MODEL_11565559ffb8449a8f8e8ebbdfa55ba5",
       "value": 0.01
      }
     },
     "06cce5f559ff492daf7de0450f9ce4cc": {
      "model_module": "@jupyter-widgets/base",
      "model_module_version": "1.2.0",
      "model_name": "LayoutModel",
      "state": {}
     },
     "06d0528fd9b2409ca3a927d94b16362f": {
      "model_module": "pgljupyter",
      "model_module_version": "^0.1.15",
      "model_name": "FloatEditorModel",
      "state": {
       "_model_module_version": "^0.1.15",
       "_view_module_version": "^0.1.15",
       "children": [
        "IPY_MODEL_a7ce00bc71414526bba41af08bed5fd6",
        "IPY_MODEL_475ea1005c6f4cef94b9c3bc20e288f2",
        "IPY_MODEL_520ac369d0d1424c89ceac03dedff5c3",
        "IPY_MODEL_95e39972c1d5454aa4e2c6b55635b52d",
        "IPY_MODEL_06c3921f175e4a279d1570d00d627b90"
       ],
       "layout": "IPY_MODEL_9e1e925ce96542519d387eabb9f7fec5"
      }
     },
     "0714f35b18a44fbaaa6d2aa26b46616e": {
      "model_module": "pgljupyter",
      "model_module_version": "^0.1.2",
      "model_name": "CurveEditorModel",
      "state": {
       "_model_module_version": "^0.1.2",
       "_view_module_version": "^0.1.2",
       "children": [
        "IPY_MODEL_a87b550ba97246eabb2a2332372e8cb5",
        "IPY_MODEL_617dd871b3974aa984eea01a4c161657"
       ],
       "layout": "IPY_MODEL_e1ab7903552947558c2f9def1fa24f2a"
      }
     },
     "07222ec0cc5f4b80ac8b7e5edc408fd8": {
      "model_module": "@jupyter-widgets/controls",
      "model_module_version": "1.5.0",
      "model_name": "DescriptionStyleModel",
      "state": {
       "description_width": ""
      }
     },
     "07301c2e2f0b4aea913581d68a54b94b": {
      "model_module": "@jupyter-widgets/controls",
      "model_module_version": "1.5.0",
      "model_name": "TextModel",
      "state": {
       "continuous_update": false,
       "description": "name",
       "layout": "IPY_MODEL_5890443d20694131a69ec45f02222d1e",
       "style": "IPY_MODEL_3dcdbd5eb39b48f7aa21f9fabdd84112",
       "value": "color_3"
      }
     },
     "07424825f5c943b4b27c37d747ec046a": {
      "model_module": "@jupyter-widgets/controls",
      "model_module_version": "1.5.0",
      "model_name": "BoundedIntTextModel",
      "state": {
       "description": "step",
       "layout": "IPY_MODEL_2d70beccf69c4efc9a83cd358de0d9d2",
       "min": 1,
       "style": "IPY_MODEL_d18872a2ef9b47d0aacc9fc86e75a003",
       "value": 1
      }
     },
     "07be53bbb9d944eabc52ffbee52e5bac": {
      "model_module": "@jupyter-widgets/base",
      "model_module_version": "1.2.0",
      "model_name": "LayoutModel",
      "state": {}
     },
     "07d9bb8ab52941bd8dcb93c7cdc8d27a": {
      "model_module": "@jupyter-widgets/base",
      "model_module_version": "1.2.0",
      "model_name": "LayoutModel",
      "state": {}
     },
     "07da465a707a44bba7007fc942ba1e1e": {
      "model_module": "@jupyter-widgets/controls",
      "model_module_version": "1.5.0",
      "model_name": "IntTextModel",
      "state": {
       "description": "min",
       "layout": "IPY_MODEL_c5886624cf4143238389455d0d2bb963",
       "step": 1,
       "style": "IPY_MODEL_fc5656cd150c4d5db3f3d14ac3910e17",
       "value": 1
      }
     },
     "08205c4815754438a774f886dc48c434": {
      "model_module": "@jupyter-widgets/controls",
      "model_module_version": "1.5.0",
      "model_name": "ColorPickerModel",
      "state": {
       "description": "specular",
       "disabled": false,
       "layout": "IPY_MODEL_99302e31763945609667a0e4acb70120",
       "style": "IPY_MODEL_86d0c2f7ea1b44e6908bfd682ece3329",
       "value": "#478f9f"
      }
     },
     "0842b7cc38b84096bcf7901c1b64f401": {
      "model_module": "pgljupyter",
      "model_module_version": "^0.1.2",
      "model_name": "_CurveEditorModel",
      "state": {
       "_model_module_version": "^0.1.2",
       "_view_module_version": "^0.1.2",
       "control_points": [
        [
         -0.5,
         0
        ],
        [
         -0.2318181818181818,
         0.2909090909090909
        ],
        [
         0.22272727272727277,
         -0.15909090909090906
        ],
        [
         0.5,
         0
        ]
       ],
       "curve_type": "Polyline2D",
       "layout": "IPY_MODEL_c93fac566bbf44a09ddc34c6f6532ae3"
      }
     },
     "085cf00af7e74f6a8bdf8faa2bd45c79": {
      "model_module": "@jupyter-widgets/base",
      "model_module_version": "1.2.0",
      "model_name": "LayoutModel",
      "state": {}
     },
     "0880c21f69004569ba8593338735b9c0": {
      "model_module": "@jupyter-widgets/base",
      "model_module_version": "1.2.0",
      "model_name": "LayoutModel",
      "state": {}
     },
     "08a4960b5d9a400f9e7acdae1bc9b992": {
      "model_module": "@jupyter-widgets/base",
      "model_module_version": "1.2.0",
      "model_name": "LayoutModel",
      "state": {}
     },
     "08b3b5ab4eab42188c1e39b4d8a99df7": {
      "model_module": "pgljupyter",
      "model_module_version": "^0.1.15",
      "model_name": "LsystemWidgetModel",
      "state": {
       "_model_module_version": "^0.1.15",
       "_view_module_version": "^0.1.15",
       "axes_helper": false,
       "derivationLength": 41,
       "layout": "IPY_MODEL_e1094a2947b14b6790489ebdfba93292",
       "light_helper": false,
       "plane": true,
       "size_display": [
        400,
        400
       ],
       "size_world": 50
      }
     },
     "08e20d00e2c34a6fb421d717fe339134": {
      "model_module": "@jupyter-widgets/controls",
      "model_module_version": "1.5.0",
      "model_name": "TextModel",
      "state": {
       "continuous_update": false,
       "description": "name",
       "layout": "IPY_MODEL_ada4763166004bce915b704deb037423",
       "style": "IPY_MODEL_744caf44f73348a8b278dffdcc685eb3",
       "value": "maxorder"
      }
     },
     "08e8637a13524a9b965cb1f6f184c41c": {
      "model_module": "@jupyter-widgets/base",
      "model_module_version": "1.2.0",
      "model_name": "LayoutModel",
      "state": {}
     },
     "08ea1418a4b2409ba8dd9cedfd95eebc": {
      "model_module": "@jupyter-widgets/base",
      "model_module_version": "1.2.0",
      "model_name": "LayoutModel",
      "state": {}
     },
     "0902933020a846afa086a4dc7ee249a4": {
      "model_module": "@jupyter-widgets/controls",
      "model_module_version": "1.5.0",
      "model_name": "HBoxModel",
      "state": {
       "children": [
        "IPY_MODEL_82677ec5f54f4726a069d2eae97e6773",
        "IPY_MODEL_02acf25050254dd985fdf1102b507140"
       ],
       "layout": "IPY_MODEL_1aaed1264b7e4af38e5dfa20e770f4aa"
      }
     },
     "0903b539bd9a4b7e8455db6e48fb9bd6": {
      "model_module": "@jupyter-widgets/base",
      "model_module_version": "1.2.0",
      "model_name": "LayoutModel",
      "state": {}
     },
     "092c9ca9f44c41338a8c52eb396be927": {
      "model_module": "@jupyter-widgets/controls",
      "model_module_version": "1.5.0",
      "model_name": "BoundedIntTextModel",
      "state": {
       "description": "index",
       "layout": "IPY_MODEL_79d90c55c5174d9b90d69174d388957d",
       "style": "IPY_MODEL_026b84b9fb1f459b9e926eec44ae596c",
       "value": 3
      }
     },
     "096a27de4fb74defab7139814791f0a3": {
      "model_module": "@jupyter-widgets/controls",
      "model_module_version": "1.5.0",
      "model_name": "FloatSliderModel",
      "state": {
       "description": "diffuse",
       "layout": "IPY_MODEL_08ea1418a4b2409ba8dd9cedfd95eebc",
       "max": 1,
       "step": 0.1,
       "style": "IPY_MODEL_6e422346b87a4c5b92c0c8c310df3122",
       "value": 1
      }
     },
     "09dfcde008254f4aa25bc052f1e1311c": {
      "model_module": "@jupyter-widgets/controls",
      "model_module_version": "1.5.0",
      "model_name": "DescriptionStyleModel",
      "state": {
       "description_width": ""
      }
     },
     "0a24786ecfbe4e24a5250a48a1b6d358": {
      "model_module": "@jupyter-widgets/controls",
      "model_module_version": "1.5.0",
      "model_name": "DescriptionStyleModel",
      "state": {
       "description_width": ""
      }
     },
     "0a2938deb20642c5988031f8dc64848d": {
      "model_module": "@jupyter-widgets/controls",
      "model_module_version": "1.5.0",
      "model_name": "TextModel",
      "state": {
       "continuous_update": false,
       "description": "name",
       "layout": "IPY_MODEL_4bbbae79a86144d493f18b5c2c7594dc",
       "style": "IPY_MODEL_5869b36a3dbb49e7ac247b1feb7974f0",
       "value": "leafold"
      }
     },
     "0a2a346a9e664a96a6f6cb0da81b7342": {
      "model_module": "@jupyter-widgets/controls",
      "model_module_version": "1.5.0",
      "model_name": "DescriptionStyleModel",
      "state": {
       "description_width": ""
      }
     },
     "0a355b70c57941fbb20a58855b908353": {
      "model_module": "@jupyter-widgets/controls",
      "model_module_version": "1.5.0",
      "model_name": "ButtonModel",
      "state": {
       "description": "Delete",
       "layout": "IPY_MODEL_0d61559a1e0e41aa92e8f9ac674830ad",
       "style": "IPY_MODEL_82893840318449eab8bab08d11caa85a"
      }
     },
     "0a63f463c5d8470ebb1e732d48fd1d86": {
      "model_module": "@jupyter-widgets/base",
      "model_module_version": "1.2.0",
      "model_name": "LayoutModel",
      "state": {}
     },
     "0a92216fb43946efb8d1286765de5dc5": {
      "model_module": "@jupyter-widgets/controls",
      "model_module_version": "1.5.0",
      "model_name": "SliderStyleModel",
      "state": {
       "description_width": ""
      }
     },
     "0aa1b06dc5f043478644fff372f306a6": {
      "model_module": "@jupyter-widgets/base",
      "model_module_version": "1.2.0",
      "model_name": "LayoutModel",
      "state": {}
     },
     "0abe3e3730634b64abf5f4473d043ab9": {
      "model_module": "@jupyter-widgets/controls",
      "model_module_version": "1.5.0",
      "model_name": "HBoxModel",
      "state": {
       "children": [
        "IPY_MODEL_91b64781558240098d1cd658725ac815",
        "IPY_MODEL_696f52cf344143c98b85c1ca3c6b98da",
        "IPY_MODEL_6dbfa999b4734642b016ef516b880aec",
        "IPY_MODEL_0253d6810eed4a22b1f7cb1bbd8c532a"
       ],
       "layout": "IPY_MODEL_d01d509395ce42ef85936a42ffd78529"
      }
     },
     "0acfab254b3a4c1989d616fabd521d5a": {
      "model_module": "@jupyter-widgets/base",
      "model_module_version": "1.2.0",
      "model_name": "LayoutModel",
      "state": {}
     },
     "0ad52567a05440bfa1b7f62f0dcd33e5": {
      "model_module": "@jupyter-widgets/controls",
      "model_module_version": "1.5.0",
      "model_name": "TextModel",
      "state": {
       "continuous_update": false,
       "description": "name",
       "layout": "IPY_MODEL_d0f01479a05d433d9dea0f06d6e5c866",
       "style": "IPY_MODEL_275ac823b0bb4043b623929cb56cc202",
       "value": "leafold"
      }
     },
     "0aedf9aac92e456a9cb283a8e2efc37c": {
      "model_module": "@jupyter-widgets/base",
      "model_module_version": "1.2.0",
      "model_name": "LayoutModel",
      "state": {}
     },
     "0b089ea4de8e4b229b24eea45e4b2010": {
      "model_module": "@jupyter-widgets/controls",
      "model_module_version": "1.5.0",
      "model_name": "DescriptionStyleModel",
      "state": {
       "description_width": ""
      }
     },
     "0b136b93c8f24a84900c342ce497bd23": {
      "model_module": "@jupyter-widgets/base",
      "model_module_version": "1.2.0",
      "model_name": "LayoutModel",
      "state": {}
     },
     "0b38fbfb4d1f4b9995215a9f3e2c4a51": {
      "model_module": "@jupyter-widgets/base",
      "model_module_version": "1.2.0",
      "model_name": "LayoutModel",
      "state": {}
     },
     "0b4645fbad8a429ea2d3c445d6b538cc": {
      "model_module": "@jupyter-widgets/base",
      "model_module_version": "1.2.0",
      "model_name": "LayoutModel",
      "state": {}
     },
     "0b4c4d71ec8e44e68cc9250e5069637a": {
      "model_module": "@jupyter-widgets/base",
      "model_module_version": "1.2.0",
      "model_name": "LayoutModel",
      "state": {}
     },
     "0ba7676259d7491a81763d0d58244173": {
      "model_module": "@jupyter-widgets/controls",
      "model_module_version": "1.5.0",
      "model_name": "SliderStyleModel",
      "state": {
       "description_width": ""
      }
     },
     "0ba7ad8dd4a54db89abff5406fe9bda7": {
      "model_module": "@jupyter-widgets/base",
      "model_module_version": "1.2.0",
      "model_name": "LayoutModel",
      "state": {}
     },
     "0bc628d7db4f41afab6a07764f2486e4": {
      "model_module": "@jupyter-widgets/controls",
      "model_module_version": "1.5.0",
      "model_name": "SliderStyleModel",
      "state": {
       "description_width": ""
      }
     },
     "0bfaa6a677e94a4fa0098f862918f3ac": {
      "model_module": "@jupyter-widgets/controls",
      "model_module_version": "1.5.0",
      "model_name": "TextModel",
      "state": {
       "continuous_update": false,
       "description": "name",
       "layout": "IPY_MODEL_fec46380ca9a4633be2c4ec474336cc5",
       "style": "IPY_MODEL_316c47a18f414a7cae68dc23857f0b39",
       "value": "color_2"
      }
     },
     "0c10f805bff84441b05ffd189a5c8661": {
      "model_module": "@jupyter-widgets/controls",
      "model_module_version": "1.5.0",
      "model_name": "DescriptionStyleModel",
      "state": {
       "description_width": ""
      }
     },
     "0c21e5394d8b4d6b8ea913ab4463c98a": {
      "model_module": "@jupyter-widgets/controls",
      "model_module_version": "1.5.0",
      "model_name": "ButtonModel",
      "state": {
       "description": "Add category",
       "layout": "IPY_MODEL_2b99a41fb4a94ebe9c8e27861be6beef",
       "style": "IPY_MODEL_231bfb6d54cb4676826c7eb253643aca"
      }
     },
     "0c3ed52dd9c4401a928899a1f8bd760f": {
      "model_module": "@jupyter-widgets/base",
      "model_module_version": "1.2.0",
      "model_name": "LayoutModel",
      "state": {}
     },
     "0c82adbe02b14ee888134148a12ab08a": {
      "model_module": "@jupyter-widgets/controls",
      "model_module_version": "1.5.0",
      "model_name": "HBoxModel",
      "state": {
       "layout": "IPY_MODEL_fe0cdcc6562e4d7b98662c718d50f517"
      }
     },
     "0cbe358ee0dd4965a43e04c56c73e8c6": {
      "model_module": "@jupyter-widgets/base",
      "model_module_version": "1.2.0",
      "model_name": "LayoutModel",
      "state": {}
     },
     "0cc395aa40e94b989a548febcfdb5e05": {
      "model_module": "@jupyter-widgets/controls",
      "model_module_version": "1.5.0",
      "model_name": "IntSliderModel",
      "state": {
       "description": "value",
       "layout": "IPY_MODEL_b48db2e5fcaa41a3b57d77147d5c6ee4",
       "max": 10,
       "min": 1,
       "style": "IPY_MODEL_ab025d81fa764c8aa87ff6d432656adf",
       "value": 6
      }
     },
     "0ce72c849bc04be1ace040e227e17d68": {
      "model_module": "@jupyter-widgets/controls",
      "model_module_version": "1.5.0",
      "model_name": "BoundedIntTextModel",
      "state": {
       "description": "index",
       "layout": "IPY_MODEL_f87af6e13bdd4e268f395b44ce991bbf",
       "style": "IPY_MODEL_dc1c563d342944eaa299bfa37de8cde0",
       "value": 1
      }
     },
     "0cf9ede31aee4c9dad31d76457db7941": {
      "model_module": "@jupyter-widgets/base",
      "model_module_version": "1.2.0",
      "model_name": "LayoutModel",
      "state": {}
     },
     "0d0e331a7d4f4a6991e7fd852646eded": {
      "model_module": "@jupyter-widgets/controls",
      "model_module_version": "1.5.0",
      "model_name": "SliderStyleModel",
      "state": {
       "description_width": ""
      }
     },
     "0d1986f50e824e3ab46c0c00906d8520": {
      "model_module": "@jupyter-widgets/base",
      "model_module_version": "1.2.0",
      "model_name": "LayoutModel",
      "state": {}
     },
     "0d2a0ab149344751bd1fec22deef88ae": {
      "model_module": "@jupyter-widgets/controls",
      "model_module_version": "1.5.0",
      "model_name": "FloatSliderModel",
      "state": {
       "description": "diffuse",
       "layout": "IPY_MODEL_c6e6800976414b14a781411c13bda491",
       "max": 3,
       "step": 0.1,
       "style": "IPY_MODEL_2cc020689ac54d969b675f316677121d",
       "value": 1
      }
     },
     "0d4aef8d0e3947f39cd16894ccb136e4": {
      "model_module": "@jupyter-widgets/base",
      "model_module_version": "1.2.0",
      "model_name": "LayoutModel",
      "state": {}
     },
     "0d4b6f296d4248a390005a9938d5a3fb": {
      "model_module": "@jupyter-widgets/base",
      "model_module_version": "1.2.0",
      "model_name": "LayoutModel",
      "state": {}
     },
     "0d61559a1e0e41aa92e8f9ac674830ad": {
      "model_module": "@jupyter-widgets/base",
      "model_module_version": "1.2.0",
      "model_name": "LayoutModel",
      "state": {}
     },
     "0d6e185a3f214d6c9ee50cfe165c71cc": {
      "model_module": "@jupyter-widgets/base",
      "model_module_version": "1.2.0",
      "model_name": "LayoutModel",
      "state": {}
     },
     "0d82249869a5456baf3f333224c814c4": {
      "model_module": "@jupyter-widgets/controls",
      "model_module_version": "1.5.0",
      "model_name": "DescriptionStyleModel",
      "state": {
       "description_width": ""
      }
     },
     "0de9d0bab3ea4b2aacaf915738257b82": {
      "model_module": "@jupyter-widgets/controls",
      "model_module_version": "1.5.0",
      "model_name": "FloatSliderModel",
      "state": {
       "description": "shininess",
       "layout": "IPY_MODEL_25423d7867684f20b9048daf5ead1cae",
       "max": 1,
       "step": 0.1,
       "style": "IPY_MODEL_5d57049901ac483088e46ecaa3b6c0ee",
       "value": 0.2
      }
     },
     "0df2c33bca284a19845e4bf727a89752": {
      "model_module": "@jupyter-widgets/controls",
      "model_module_version": "1.5.0",
      "model_name": "BoundedIntTextModel",
      "state": {
       "description": "index",
       "layout": "IPY_MODEL_95bb0130d18b4b6282af4217386da311",
       "style": "IPY_MODEL_52d07b17bbb84a93b79162d3fdb17736",
       "value": 1
      }
     },
     "0e05773846dd43f0a96847656f764a7b": {
      "model_module": "@jupyter-widgets/controls",
      "model_module_version": "1.5.0",
      "model_name": "SliderStyleModel",
      "state": {
       "description_width": ""
      }
     },
     "0e22aeb0f36947afb43a810578887e6e": {
      "model_module": "@jupyter-widgets/base",
      "model_module_version": "1.2.0",
      "model_name": "LayoutModel",
      "state": {}
     },
     "0e232481024146b19ac53c3590e4a691": {
      "model_module": "@jupyter-widgets/base",
      "model_module_version": "1.2.0",
      "model_name": "LayoutModel",
      "state": {}
     },
     "0e561db39e6d403fab220679e082dae5": {
      "model_module": "@jupyter-widgets/controls",
      "model_module_version": "1.5.0",
      "model_name": "DescriptionStyleModel",
      "state": {
       "description_width": ""
      }
     },
     "0e7521f16ae74e2a84f8a00ec22a1258": {
      "model_module": "@jupyter-widgets/controls",
      "model_module_version": "1.5.0",
      "model_name": "ButtonStyleModel",
      "state": {}
     },
     "0e9c1105c42e4e7787c3c15d410f7b5c": {
      "model_module": "@jupyter-widgets/controls",
      "model_module_version": "1.5.0",
      "model_name": "ButtonStyleModel",
      "state": {}
     },
     "0ecdbfbd6718464cb811eb77bb0001cb": {
      "model_module": "@jupyter-widgets/base",
      "model_module_version": "1.2.0",
      "model_name": "LayoutModel",
      "state": {}
     },
     "0ed504f05672436b8bc3cfae1bbaa9b0": {
      "model_module": "@jupyter-widgets/controls",
      "model_module_version": "1.5.0",
      "model_name": "DescriptionStyleModel",
      "state": {
       "description_width": ""
      }
     },
     "0ed76f9058054c2e872da6c9c3e56420": {
      "model_module": "@jupyter-widgets/base",
      "model_module_version": "1.2.0",
      "model_name": "LayoutModel",
      "state": {}
     },
     "0ef6e123ddf3495bb17340ee09e66755": {
      "model_module": "@jupyter-widgets/controls",
      "model_module_version": "1.5.0",
      "model_name": "FloatSliderModel",
      "state": {
       "description": "diffuse",
       "layout": "IPY_MODEL_9533a3e0ce41459f818837dd25b5e7bf",
       "max": 1,
       "step": 0.1,
       "style": "IPY_MODEL_1387a98a11014992b1d98d822b029511",
       "value": 1
      }
     },
     "0effd504a4974e6abb5357847527ec57": {
      "model_module": "@jupyter-widgets/base",
      "model_module_version": "1.2.0",
      "model_name": "LayoutModel",
      "state": {}
     },
     "0f408b78c73f41798d683d50caeb67cd": {
      "model_module": "@jupyter-widgets/controls",
      "model_module_version": "1.5.0",
      "model_name": "IntSliderModel",
      "state": {
       "description": "value",
       "layout": "IPY_MODEL_715a9f568bf44e8abdfe5cabadf5512b",
       "max": 10,
       "min": 1,
       "style": "IPY_MODEL_ed2b234caf764227b8a80db5b4127ad6",
       "value": 2
      }
     },
     "0f6363fc9ebe4294bf6a42196902ef26": {
      "model_module": "@jupyter-widgets/controls",
      "model_module_version": "1.5.0",
      "model_name": "ButtonStyleModel",
      "state": {}
     },
     "0f8c2f3fd66b445cb01eca6fb7b40014": {
      "model_module": "@jupyter-widgets/base",
      "model_module_version": "1.2.0",
      "model_name": "LayoutModel",
      "state": {
       "margin": "20px 0px"
      }
     },
     "0fac894dada84693a4a032abae38a833": {
      "model_module": "@jupyter-widgets/base",
      "model_module_version": "1.2.0",
      "model_name": "LayoutModel",
      "state": {}
     },
     "0fc05305117943d28f9afe7ecc9aa553": {
      "model_module": "@jupyter-widgets/base",
      "model_module_version": "1.2.0",
      "model_name": "LayoutModel",
      "state": {}
     },
     "1011fc19b1da457cba092f3ff3475f19": {
      "model_module": "@jupyter-widgets/controls",
      "model_module_version": "1.5.0",
      "model_name": "DescriptionStyleModel",
      "state": {
       "description_width": ""
      }
     },
     "101d0e3b26ff4aa983e0ca9673161b92": {
      "model_module": "@jupyter-widgets/controls",
      "model_module_version": "1.5.0",
      "model_name": "DescriptionStyleModel",
      "state": {
       "description_width": ""
      }
     },
     "1025d095d9fd45ac972ac75098ab94e7": {
      "model_module": "@jupyter-widgets/controls",
      "model_module_version": "1.5.0",
      "model_name": "DescriptionStyleModel",
      "state": {
       "description_width": ""
      }
     },
     "104352056e5f44cfaf9dcfd6016912fa": {
      "model_module": "@jupyter-widgets/controls",
      "model_module_version": "1.5.0",
      "model_name": "IntTextModel",
      "state": {
       "description": "min",
       "layout": "IPY_MODEL_c3adb797a20341a3acbdfcff67be93eb",
       "step": 1,
       "style": "IPY_MODEL_588d64f172f4413783d455778353f9b9",
       "value": 1
      }
     },
     "105380c6a249406d96a01024cc0298e5": {
      "model_module": "@jupyter-widgets/controls",
      "model_module_version": "1.5.0",
      "model_name": "DescriptionStyleModel",
      "state": {
       "description_width": ""
      }
     },
     "10589094c39140b8919a9555a61f9f09": {
      "model_module": "@jupyter-widgets/base",
      "model_module_version": "1.2.0",
      "model_name": "LayoutModel",
      "state": {}
     },
     "1072c1c55f7744d4b21da24d2ad6bbf9": {
      "model_module": "@jupyter-widgets/base",
      "model_module_version": "1.2.0",
      "model_name": "LayoutModel",
      "state": {}
     },
     "10893dfae19b4de6a2046bb69cc1f99d": {
      "model_module": "@jupyter-widgets/base",
      "model_module_version": "1.2.0",
      "model_name": "LayoutModel",
      "state": {}
     },
     "10ae33d3c2ef4b328d1bae3a015fb740": {
      "model_module": "@jupyter-widgets/controls",
      "model_module_version": "1.5.0",
      "model_name": "TextModel",
      "state": {
       "continuous_update": false,
       "description": "name",
       "layout": "IPY_MODEL_1219b7e3e94b4dd897566415affb257d",
       "style": "IPY_MODEL_3a3644138ae2464abb81977f0024665a",
       "value": "leafduration"
      }
     },
     "112841a62cf347b4be020a24b6c212ae": {
      "model_module": "@jupyter-widgets/base",
      "model_module_version": "1.2.0",
      "model_name": "LayoutModel",
      "state": {}
     },
     "11565559ffb8449a8f8e8ebbdfa55ba5": {
      "model_module": "@jupyter-widgets/controls",
      "model_module_version": "1.5.0",
      "model_name": "DescriptionStyleModel",
      "state": {
       "description_width": ""
      }
     },
     "115c4d2a4acf46039c293faf949b633c": {
      "model_module": "@jupyter-widgets/controls",
      "model_module_version": "1.5.0",
      "model_name": "DescriptionStyleModel",
      "state": {
       "description_width": ""
      }
     },
     "115d104a2b0b480cbfe1c4efafecc820": {
      "model_module": "@jupyter-widgets/controls",
      "model_module_version": "1.5.0",
      "model_name": "DescriptionStyleModel",
      "state": {
       "description_width": ""
      }
     },
     "11666e3ab0134886a3a2bd9c01bc5605": {
      "model_module": "@jupyter-widgets/controls",
      "model_module_version": "1.5.0",
      "model_name": "ButtonStyleModel",
      "state": {}
     },
     "116ead00f10d4ca89d5bf693ff9e1690": {
      "model_module": "@jupyter-widgets/controls",
      "model_module_version": "1.5.0",
      "model_name": "DropdownModel",
      "state": {
       "_options_labels": [
        "leafduration",
        "leafold",
        "maxorder",
        "radinc",
        "nb_axes"
       ],
       "index": 0,
       "layout": "IPY_MODEL_44427af51cdb480bbe602ebf860ada76",
       "style": "IPY_MODEL_d8311d67673a4d1789cb438a0a68d007"
      }
     },
     "1185a17bd8db4a66b9aefc32c359538c": {
      "model_module": "@jupyter-widgets/controls",
      "model_module_version": "1.5.0",
      "model_name": "DescriptionStyleModel",
      "state": {
       "description_width": ""
      }
     },
     "1197ccef20ad42c09a38c91de1f4c7e7": {
      "model_module": "@jupyter-widgets/base",
      "model_module_version": "1.2.0",
      "model_name": "LayoutModel",
      "state": {}
     },
     "1199b29ae2c043a9970f55d5b94d1758": {
      "model_module": "@jupyter-widgets/controls",
      "model_module_version": "1.5.0",
      "model_name": "DescriptionStyleModel",
      "state": {
       "description_width": ""
      }
     },
     "11c65fd9468f412f9b63e9f47a99b801": {
      "model_module": "@jupyter-widgets/controls",
      "model_module_version": "1.5.0",
      "model_name": "ButtonModel",
      "state": {
       "description": "Delete",
       "layout": "IPY_MODEL_b37521b60a7647d9899e3d42829b78ef",
       "style": "IPY_MODEL_11666e3ab0134886a3a2bd9c01bc5605"
      }
     },
     "11d2e002a9d2426aa2b73314602d4031": {
      "model_module": "@jupyter-widgets/controls",
      "model_module_version": "1.5.0",
      "model_name": "DescriptionStyleModel",
      "state": {
       "description_width": ""
      }
     },
     "11def9fdaa784c11b3a2f18b1f48f0a9": {
      "model_module": "@jupyter-widgets/controls",
      "model_module_version": "1.5.0",
      "model_name": "TextModel",
      "state": {
       "continuous_update": false,
       "description": "name",
       "layout": "IPY_MODEL_aeecb2e7f71f4d9d95b6a7ef13e9cb33",
       "style": "IPY_MODEL_5352783281a14fcca8669fd6ae7ae3e0",
       "value": "color_3"
      }
     },
     "11eb943263dd4960811ae0dbed24247c": {
      "model_module": "@jupyter-widgets/controls",
      "model_module_version": "1.5.0",
      "model_name": "HBoxModel",
      "state": {
       "children": [
        "IPY_MODEL_24004e8b0cf046d9b7bafca13b3868f6",
        "IPY_MODEL_e7d57c4c8c8a4814a66792e624eab80b",
        "IPY_MODEL_8924e7490b8d474abb523195f04639b9",
        "IPY_MODEL_aed6ac227b8f4daf8ad908b7f8fa98f3"
       ],
       "layout": "IPY_MODEL_f56daa410ee44854874b448e60b2c3c9"
      }
     },
     "1219b7e3e94b4dd897566415affb257d": {
      "model_module": "@jupyter-widgets/base",
      "model_module_version": "1.2.0",
      "model_name": "LayoutModel",
      "state": {}
     },
     "122b9ccaf98349639dc497a0aa0de2ff": {
      "model_module": "@jupyter-widgets/controls",
      "model_module_version": "1.5.0",
      "model_name": "SliderStyleModel",
      "state": {
       "description_width": ""
      }
     },
     "1253cd622c1c482c89f69b0f741abc8e": {
      "model_module": "pgljupyter",
      "model_module_version": "^0.1.2",
      "model_name": "CurveEditorModel",
      "state": {
       "_model_module_version": "^0.1.2",
       "_view_module_version": "^0.1.2",
       "children": [
        "IPY_MODEL_d7491fcbf98547ae97e45969885079fc",
        "IPY_MODEL_0842b7cc38b84096bcf7901c1b64f401"
       ],
       "layout": "IPY_MODEL_7a66ebfca84d4999a5bee673f10e7c52"
      }
     },
     "128f91d47bf648dbb677701003fe8c5d": {
      "model_module": "@jupyter-widgets/controls",
      "model_module_version": "1.5.0",
      "model_name": "IntTextModel",
      "state": {
       "description": "max",
       "layout": "IPY_MODEL_d3b13ba67468411db6f44f89eafdb3e3",
       "step": 1,
       "style": "IPY_MODEL_99e452c25df34ce1bcd194a8877b7a0d",
       "value": 10
      }
     },
     "12b092c41ce34f619a03357203c1a0cc": {
      "model_module": "@jupyter-widgets/controls",
      "model_module_version": "1.5.0",
      "model_name": "TextModel",
      "state": {
       "continuous_update": false,
       "description": "name",
       "layout": "IPY_MODEL_02cbf32df22e4d48bb67b3a4b211d2e7",
       "style": "IPY_MODEL_200f96bdd5bc4d3597c28abbe9aaf953",
       "value": "leafduration"
      }
     },
     "12bff2a628604b9eb7d4bf50dfd9fb0a": {
      "model_module": "pgljupyter",
      "model_module_version": "^0.1.15",
      "model_name": "IntEditorModel",
      "state": {
       "_model_module_version": "^0.1.15",
       "_view_module_version": "^0.1.15",
       "children": [
        "IPY_MODEL_2a740364a2104b03a11e1170744d7e9d",
        "IPY_MODEL_6ca82095fc0d4e50a0b01f7e9feaae50",
        "IPY_MODEL_92a49b08882b4b28ae92e9d4b56b4441",
        "IPY_MODEL_a76b498b5d11439291fcd0c672943363",
        "IPY_MODEL_1cd1e989add64aaaaeb949cbed8d98b6"
       ],
       "layout": "IPY_MODEL_45249b3ec9cf468b928f4b5e1c4e6691"
      }
     },
     "12c69fce981e49a9804e97629607a8d7": {
      "model_module": "@jupyter-widgets/base",
      "model_module_version": "1.2.0",
      "model_name": "LayoutModel",
      "state": {}
     },
     "12d98c8458334e21a9e3cd6b09cec97d": {
      "model_module": "@jupyter-widgets/base",
      "model_module_version": "1.2.0",
      "model_name": "LayoutModel",
      "state": {}
     },
     "12e3cdb126484105853ce2d531a7ff0a": {
      "model_module": "@jupyter-widgets/base",
      "model_module_version": "1.2.0",
      "model_name": "LayoutModel",
      "state": {}
     },
     "12f28bc072b748dc8a06548c567c6c15": {
      "model_module": "pgljupyter",
      "model_module_version": "^0.1.15",
      "model_name": "MaterialEditorModel",
      "state": {
       "_model_module_version": "^0.1.15",
       "_view_module_version": "^0.1.15",
       "children": [
        "IPY_MODEL_bdd6729505774d588d05868cb7919c90",
        "IPY_MODEL_d093cfc89ffb40f28b4fd148eea8d057",
        "IPY_MODEL_1744aff3826146c69d628d4471422fd1",
        "IPY_MODEL_ba8c7988418a459f968d8d8398997e40",
        "IPY_MODEL_fa718cf943194fdfbcaae003b18476b4",
        "IPY_MODEL_a45ccde0af82441bb90667fe8f4e006c",
        "IPY_MODEL_192a2fcd04ef4865a86b81f16b50c11a",
        "IPY_MODEL_77b8c084665b47ef991716033ab5dc2f"
       ],
       "layout": "IPY_MODEL_dd7ac3c640654e17b4ec13dae2581a9f"
      }
     },
     "12f7c4ba0f6d4b888ba73f16f369a10a": {
      "model_module": "@jupyter-widgets/controls",
      "model_module_version": "1.5.0",
      "model_name": "SliderStyleModel",
      "state": {
       "description_width": ""
      }
     },
     "131741e3815e454a88aab69225f6d919": {
      "model_module": "@jupyter-widgets/base",
      "model_module_version": "1.2.0",
      "model_name": "LayoutModel",
      "state": {}
     },
     "1360852eaa564dba8ca4524d9ccb887e": {
      "model_module": "@jupyter-widgets/controls",
      "model_module_version": "1.5.0",
      "model_name": "HBoxModel",
      "state": {
       "children": [
        "IPY_MODEL_7fcd77b2fbfc4fd39f12c278a7b59e19",
        "IPY_MODEL_50a9553390024bc2af1ab89889123054"
       ],
       "layout": "IPY_MODEL_2c9d28ef123c4a57821f5e99b8b722ad"
      }
     },
     "1387a98a11014992b1d98d822b029511": {
      "model_module": "@jupyter-widgets/controls",
      "model_module_version": "1.5.0",
      "model_name": "SliderStyleModel",
      "state": {
       "description_width": ""
      }
     },
     "138e5976c87e467db45a4df41b5803ab": {
      "model_module": "@jupyter-widgets/controls",
      "model_module_version": "1.5.0",
      "model_name": "DescriptionStyleModel",
      "state": {
       "description_width": ""
      }
     },
     "13f0d0a4d0aa4c2785e171b7994d4969": {
      "model_module": "@jupyter-widgets/controls",
      "model_module_version": "1.5.0",
      "model_name": "CheckboxModel",
      "state": {
       "description": "Auto apply",
       "disabled": false,
       "layout": "IPY_MODEL_23d2d9d7755548eba8e69ea035c03d9a",
       "style": "IPY_MODEL_e4d183dca0944a01b23d4f4e77be074e",
       "value": false
      }
     },
     "14817bde845446ec9c7495a6741273f0": {
      "model_module": "@jupyter-widgets/controls",
      "model_module_version": "1.5.0",
      "model_name": "ColorPickerModel",
      "state": {
       "description": "ambient",
       "disabled": false,
       "layout": "IPY_MODEL_bd68f36a479d4228921e20a022470d19",
       "style": "IPY_MODEL_dcc692a1e723402b8515dab5a7fae469",
       "value": "#5b4534"
      }
     },
     "1481ac602d8941e0885c08d06e6e0e82": {
      "model_module": "@jupyter-widgets/controls",
      "model_module_version": "1.5.0",
      "model_name": "DescriptionStyleModel",
      "state": {
       "description_width": ""
      }
     },
     "14a44227159b47778c370ebd1c39ce7d": {
      "model_module": "@jupyter-widgets/controls",
      "model_module_version": "1.5.0",
      "model_name": "DescriptionStyleModel",
      "state": {
       "description_width": ""
      }
     },
     "14b6bd5944294c1584714b8a69fb3b44": {
      "model_module": "@jupyter-widgets/controls",
      "model_module_version": "1.5.0",
      "model_name": "DescriptionStyleModel",
      "state": {
       "description_width": ""
      }
     },
     "151c5acb043a4b0eabbac8165dd9cdf6": {
      "model_module": "@jupyter-widgets/controls",
      "model_module_version": "1.5.0",
      "model_name": "HBoxModel",
      "state": {
       "children": [
        "IPY_MODEL_e4c3ae23f2c148a1905e022a86917212",
        "IPY_MODEL_e8a1293c8e404f6fbab9134c12c64ea0",
        "IPY_MODEL_617cdacfed1949cab54a16c180c5110d",
        "IPY_MODEL_f0961c83040b4faa9cfb09490c929cd8"
       ],
       "layout": "IPY_MODEL_ed50075832b64beaaa7bbefb48f81c6a"
      }
     },
     "1528398a025c46599e2ad6d8bc592960": {
      "model_module": "@jupyter-widgets/controls",
      "model_module_version": "1.5.0",
      "model_name": "ButtonStyleModel",
      "state": {}
     },
     "1530bfd1074a4e8fbad49b4df4e964b5": {
      "model_module": "@jupyter-widgets/base",
      "model_module_version": "1.2.0",
      "model_name": "LayoutModel",
      "state": {}
     },
     "154d67d33ca541a4bcb159be9177f601": {
      "model_module": "@jupyter-widgets/controls",
      "model_module_version": "1.5.0",
      "model_name": "DescriptionStyleModel",
      "state": {
       "description_width": ""
      }
     },
     "155b64497634477a8edde051789b3d07": {
      "model_module": "@jupyter-widgets/controls",
      "model_module_version": "1.5.0",
      "model_name": "SliderStyleModel",
      "state": {
       "description_width": ""
      }
     },
     "15897f39c9c241c994c93955c340fb6b": {
      "model_module": "@jupyter-widgets/controls",
      "model_module_version": "1.5.0",
      "model_name": "ButtonModel",
      "state": {
       "description": "Add",
       "layout": "IPY_MODEL_471581ae848649c4b2d3b9f91531c7c1",
       "style": "IPY_MODEL_6fa1a051eef947a3b163d4793ac7cd99"
      }
     },
     "1589dbc794cb4fdbb7b00fed8ec48fbc": {
      "model_module": "@jupyter-widgets/controls",
      "model_module_version": "1.5.0",
      "model_name": "FloatTextModel",
      "state": {
       "description": "min",
       "layout": "IPY_MODEL_4496978ebaf74413b5605902d2da87b2",
       "step": null,
       "style": "IPY_MODEL_201f90f3a31f4794a7a9e3bb7865bed4",
       "value": 0.01
      }
     },
     "15ea17a853c741acb8d12d552d3d85d4": {
      "model_module": "@jupyter-widgets/base",
      "model_module_version": "1.2.0",
      "model_name": "LayoutModel",
      "state": {
       "flex_flow": "row wrap"
      }
     },
     "1616c42d4a9d4dda86ccd31e0daab07e": {
      "model_module": "@jupyter-widgets/controls",
      "model_module_version": "1.5.0",
      "model_name": "HBoxModel",
      "state": {
       "children": [
        "IPY_MODEL_2a4bbc7e6c3447c5935944e8013bf97a",
        "IPY_MODEL_732ac2d708ad47fdb574a1a8c15d0c15"
       ],
       "layout": "IPY_MODEL_dd33ed74409b4c0795183b005c20d306"
      }
     },
     "1644d0e3f19c4604936000d72890d78c": {
      "model_module": "@jupyter-widgets/base",
      "model_module_version": "1.2.0",
      "model_name": "LayoutModel",
      "state": {}
     },
     "1680908bd17c4edeb5c4ae807790a86e": {
      "model_module": "@jupyter-widgets/controls",
      "model_module_version": "1.5.0",
      "model_name": "FloatSliderModel",
      "state": {
       "description": "transparency",
       "layout": "IPY_MODEL_6d4e317147e84ef3b9b7c3f7e4942242",
       "max": 1,
       "step": 0.1,
       "style": "IPY_MODEL_ef252b502441432d8ac2b0627de04cbc"
      }
     },
     "16badc3eec1447cca3d477d3528eecd1": {
      "model_module": "pgljupyter",
      "model_module_version": "^0.1.15",
      "model_name": "MaterialEditorModel",
      "state": {
       "_model_module_version": "^0.1.15",
       "_view_module_version": "^0.1.15",
       "children": [
        "IPY_MODEL_423698a7ab364e4eb42c2c29a7b969ca",
        "IPY_MODEL_c891e998305749abb83093d677a665e5",
        "IPY_MODEL_287b5f96fec545e5932ca29a16953874",
        "IPY_MODEL_5a0fead121854d619176b7a5e567ae95",
        "IPY_MODEL_61d2c32cb28d4a9792ff4c4dc73a2009",
        "IPY_MODEL_71a043d184dc404a92ebfa20989c2d4a",
        "IPY_MODEL_f667fd72c3e54f24a96ac4d2f9881488",
        "IPY_MODEL_71233a267fbb44faa6034dd163e15eea"
       ],
       "layout": "IPY_MODEL_66e71304f5a846cc9f53b7e132633cca"
      }
     },
     "16e49243964a48618d68e8e278e7d9bd": {
      "model_module": "@jupyter-widgets/controls",
      "model_module_version": "1.5.0",
      "model_name": "DescriptionStyleModel",
      "state": {
       "description_width": ""
      }
     },
     "1710bfbff76e4626860fb689a4802505": {
      "model_module": "@jupyter-widgets/controls",
      "model_module_version": "1.5.0",
      "model_name": "HBoxModel",
      "state": {
       "layout": "IPY_MODEL_674a914ce6c54b60af42ddb5ffca3dc9"
      }
     },
     "172d24bdeae5405a87e01faf7c467b74": {
      "model_module": "@jupyter-widgets/controls",
      "model_module_version": "1.5.0",
      "model_name": "TextModel",
      "state": {
       "layout": "IPY_MODEL_72be601bf3de43f19d42560f035c724d",
       "placeholder": "category name",
       "style": "IPY_MODEL_85264ec201b444b792a8393ea0895cc6"
      }
     },
     "173645c006e54ca09cd20c3bf28eb540": {
      "model_module": "@jupyter-widgets/controls",
      "model_module_version": "1.5.0",
      "model_name": "ButtonModel",
      "state": {
       "description": "Add",
       "layout": "IPY_MODEL_5d8aae870bc94dcea2e224eec7234ffb",
       "style": "IPY_MODEL_a760a9622c8243c3b985b4c992cfd505"
      }
     },
     "1744aff3826146c69d628d4471422fd1": {
      "model_module": "@jupyter-widgets/controls",
      "model_module_version": "1.5.0",
      "model_name": "ColorPickerModel",
      "state": {
       "description": "ambient",
       "disabled": false,
       "layout": "IPY_MODEL_e700ea4270ea4836ad1de12b91071334",
       "style": "IPY_MODEL_749dc883c6d44dc582fc2c3dde92b4c3",
       "value": "#5b4534"
      }
     },
     "1757026a482e47b793487f52924295c3": {
      "model_module": "pgljupyter",
      "model_module_version": "^0.1.15",
      "model_name": "ParameterEditorModel",
      "state": {
       "_model_module_version": "^0.1.15",
       "_view_module_version": "^0.1.15",
       "children": [
        "IPY_MODEL_43549f41e5014f1b8e4085c1f75d13fd"
       ],
       "layout": "IPY_MODEL_6054b253439e485d97ecc4bcd85300d0"
      }
     },
     "175d04d73b0f432ebe88e418f42348fe": {
      "model_module": "@jupyter-widgets/controls",
      "model_module_version": "1.5.0",
      "model_name": "FloatSliderModel",
      "state": {
       "description": "diffuse",
       "layout": "IPY_MODEL_c3d84a4110fe40599578882c9599c41f",
       "max": 1,
       "step": 0.1,
       "style": "IPY_MODEL_f07b9cc7bedd486eab67bbefbe1b3a81",
       "value": 1
      }
     },
     "1765949b291843328e53577a6b6b2261": {
      "model_module": "@jupyter-widgets/controls",
      "model_module_version": "1.5.0",
      "model_name": "DescriptionStyleModel",
      "state": {
       "description_width": ""
      }
     },
     "177cde17762546bcb143df6017c2bd65": {
      "model_module": "@jupyter-widgets/controls",
      "model_module_version": "1.5.0",
      "model_name": "BoundedIntTextModel",
      "state": {
       "description": "step",
       "layout": "IPY_MODEL_2022b212d13347cba9b3da0111411722",
       "min": 1,
       "style": "IPY_MODEL_5d0e1dc0975846b6b54717b2447cc767",
       "value": 1
      }
     },
     "1786a5b630e24873893aa84cb0714b47": {
      "model_module": "@jupyter-widgets/base",
      "model_module_version": "1.2.0",
      "model_name": "LayoutModel",
      "state": {
       "margin": "20px 0px"
      }
     },
     "17ca4c748f7a4d0cb35375a65128cde3": {
      "model_module": "@jupyter-widgets/base",
      "model_module_version": "1.2.0",
      "model_name": "LayoutModel",
      "state": {}
     },
     "1834dc530a084c8498f3cad2f679f317": {
      "model_module": "@jupyter-widgets/base",
      "model_module_version": "1.2.0",
      "model_name": "LayoutModel",
      "state": {
       "margin": "20px 0px"
      }
     },
     "1847f03a7644430c938745fc3c878bb1": {
      "model_module": "@jupyter-widgets/controls",
      "model_module_version": "1.5.0",
      "model_name": "HBoxModel",
      "state": {
       "children": [
        "IPY_MODEL_1c81ebd5c1f94383b65ba393285fa079",
        "IPY_MODEL_6a859ed750ad4f4cb2637ab68be1b4e0"
       ],
       "layout": "IPY_MODEL_12c69fce981e49a9804e97629607a8d7"
      }
     },
     "1853ce433b6f4d6b8fa0157e60be1c35": {
      "model_module": "@jupyter-widgets/base",
      "model_module_version": "1.2.0",
      "model_name": "LayoutModel",
      "state": {}
     },
     "1887cc7298b24d14826641b5481a0943": {
      "model_module": "@jupyter-widgets/controls",
      "model_module_version": "1.5.0",
      "model_name": "ButtonModel",
      "state": {
       "description": "Delete",
       "layout": "IPY_MODEL_1eb772eb43724a548d4285e75d7af08e",
       "style": "IPY_MODEL_85a4b553864b446484511bd08e7f28b4"
      }
     },
     "18c0fca902124468aca6bdc66c67ae6f": {
      "model_module": "@jupyter-widgets/controls",
      "model_module_version": "1.5.0",
      "model_name": "DescriptionStyleModel",
      "state": {
       "description_width": ""
      }
     },
     "18d59d6d598e46d2b7c7efd2e6760195": {
      "model_module": "@jupyter-widgets/controls",
      "model_module_version": "1.5.0",
      "model_name": "FloatSliderModel",
      "state": {
       "description": "shininess",
       "layout": "IPY_MODEL_5573b05714a7485d8aed8b6bcd9e9e81",
       "max": 1,
       "step": 0.1,
       "style": "IPY_MODEL_e87be55322d142e4ae529a30b802cdfd",
       "value": 0.2
      }
     },
     "18f4a9848e8748e0b6f14cc8ad8b33d1": {
      "model_module": "@jupyter-widgets/controls",
      "model_module_version": "1.5.0",
      "model_name": "DescriptionStyleModel",
      "state": {
       "description_width": ""
      }
     },
     "192a2fcd04ef4865a86b81f16b50c11a": {
      "model_module": "@jupyter-widgets/controls",
      "model_module_version": "1.5.0",
      "model_name": "FloatSliderModel",
      "state": {
       "description": "transparency",
       "layout": "IPY_MODEL_c7e7ff9b699d4abd95ae1ef071326f82",
       "max": 1,
       "step": 0.1,
       "style": "IPY_MODEL_d06f15fe8d7a4d1088946a0261791dfd"
      }
     },
     "19496a4bd7a1437684fa4fc33a581b5a": {
      "model_module": "@jupyter-widgets/controls",
      "model_module_version": "1.5.0",
      "model_name": "BoundedIntTextModel",
      "state": {
       "description": "index",
       "layout": "IPY_MODEL_aeb91fa0b8734177b8d24b6923d62633",
       "style": "IPY_MODEL_e553c2f8eeb9415c82b98e1a6115e9d8",
       "value": 2
      }
     },
     "19d5ed6b5b74424fa7cdb765d4b9a589": {
      "model_module": "@jupyter-widgets/controls",
      "model_module_version": "1.5.0",
      "model_name": "DescriptionStyleModel",
      "state": {
       "description_width": ""
      }
     },
     "19db9ae357b3453fbd2da22eadb8956e": {
      "model_module": "@jupyter-widgets/base",
      "model_module_version": "1.2.0",
      "model_name": "LayoutModel",
      "state": {}
     },
     "19ebea118db54d3a98ecb0009e792ed9": {
      "model_module": "@jupyter-widgets/controls",
      "model_module_version": "1.5.0",
      "model_name": "TextModel",
      "state": {
       "continuous_update": false,
       "description": "name",
       "layout": "IPY_MODEL_e9a35bdd82414d47ad0f97d860c1798a",
       "style": "IPY_MODEL_60af561202804091b4f43cb7d49813b4",
       "value": "color_4"
      }
     },
     "1a1e15aa06554b098e2aa1bff6337778": {
      "model_module": "@jupyter-widgets/base",
      "model_module_version": "1.2.0",
      "model_name": "LayoutModel",
      "state": {}
     },
     "1a27b21bce904332a4684e5393644e7e": {
      "model_module": "@jupyter-widgets/controls",
      "model_module_version": "1.5.0",
      "model_name": "BoundedIntTextModel",
      "state": {
       "description": "index",
       "layout": "IPY_MODEL_a1c5657c57dd4420947b7a9efdc5fd3e",
       "style": "IPY_MODEL_30e2a75e992f460bb155f12690c18296",
       "value": 4
      }
     },
     "1a360a5c3c3e466d911a03a19d817dca": {
      "model_module": "@jupyter-widgets/controls",
      "model_module_version": "1.5.0",
      "model_name": "DropdownModel",
      "state": {
       "_options_labels": [
        "Color"
       ],
       "index": 0,
       "layout": "IPY_MODEL_a3715a6606264b1385e17c255e8e7b7d",
       "style": "IPY_MODEL_d5ed232c37c645d287f93804c2a7a50c"
      }
     },
     "1a573eadc9614551b2751a0416609504": {
      "model_module": "@jupyter-widgets/base",
      "model_module_version": "1.2.0",
      "model_name": "LayoutModel",
      "state": {}
     },
     "1aaed1264b7e4af38e5dfa20e770f4aa": {
      "model_module": "@jupyter-widgets/base",
      "model_module_version": "1.2.0",
      "model_name": "LayoutModel",
      "state": {
       "flex_flow": "row wrap",
       "margin": "20px"
      }
     },
     "1aaf66a79c4a4516be6c818d516db912": {
      "model_module": "@jupyter-widgets/base",
      "model_module_version": "1.2.0",
      "model_name": "LayoutModel",
      "state": {}
     },
     "1ad9140c1875480d863b5acb4704479b": {
      "model_module": "@jupyter-widgets/controls",
      "model_module_version": "1.5.0",
      "model_name": "FloatSliderModel",
      "state": {
       "description": "shininess",
       "layout": "IPY_MODEL_8bf9b39e28e14f21bbc488f01e8d389d",
       "max": 1,
       "step": 0.1,
       "style": "IPY_MODEL_5c5d43ff238d401bb3938a61a166e488",
       "value": 0.2
      }
     },
     "1ae750ea21704cbc80d8390258508557": {
      "model_module": "@jupyter-widgets/controls",
      "model_module_version": "1.5.0",
      "model_name": "DescriptionStyleModel",
      "state": {
       "description_width": ""
      }
     },
     "1b002d52de5247adb6af34b05dc2002f": {
      "model_module": "@jupyter-widgets/base",
      "model_module_version": "1.2.0",
      "model_name": "LayoutModel",
      "state": {}
     },
     "1b028107b51247fa803a26d5565694cb": {
      "model_module": "@jupyter-widgets/base",
      "model_module_version": "1.2.0",
      "model_name": "LayoutModel",
      "state": {}
     },
     "1b226e991f4a4f2d924d9603e31020a1": {
      "model_module": "@jupyter-widgets/controls",
      "model_module_version": "1.5.0",
      "model_name": "SliderStyleModel",
      "state": {
       "description_width": ""
      }
     },
     "1b36967ea1ad4834bc71752da9fa19d1": {
      "model_module": "pgljupyter",
      "model_module_version": "^0.1.15",
      "model_name": "IntEditorModel",
      "state": {
       "_model_module_version": "^0.1.15",
       "_view_module_version": "^0.1.15",
       "children": [
        "IPY_MODEL_3973432672b94efba02d662a2a55b91d",
        "IPY_MODEL_c4f4ce9c644b420c86ca6e069b2aa63c",
        "IPY_MODEL_8f71d669437c41769faf9ebe00a50053",
        "IPY_MODEL_b69676832078429ca16ba7c715fbcfd9",
        "IPY_MODEL_a1a31c19b92e4ac4a4e789ab6ae30e05"
       ],
       "layout": "IPY_MODEL_232c34088cab47a3acc7d0fe4121f3ae"
      }
     },
     "1b430d38b698418f9a7f98b42b8b6d2c": {
      "model_module": "@jupyter-widgets/base",
      "model_module_version": "1.2.0",
      "model_name": "LayoutModel",
      "state": {}
     },
     "1b4d26f7fa1e425fa0fa1b21020be265": {
      "model_module": "@jupyter-widgets/controls",
      "model_module_version": "1.5.0",
      "model_name": "DescriptionStyleModel",
      "state": {
       "description_width": ""
      }
     },
     "1b7eb2c7a1744177a4f8587caf59f856": {
      "model_module": "@jupyter-widgets/controls",
      "model_module_version": "1.5.0",
      "model_name": "DescriptionStyleModel",
      "state": {
       "description_width": ""
      }
     },
     "1b96e8d5a5974f0bbe8d407578a88e0d": {
      "model_module": "@jupyter-widgets/controls",
      "model_module_version": "1.5.0",
      "model_name": "ColorPickerModel",
      "state": {
       "description": "specular",
       "disabled": false,
       "layout": "IPY_MODEL_3dca07d7fa8a42529aad1c7d4c0b469d",
       "style": "IPY_MODEL_e6df947ce73c4eabba61af317c05a2b5",
       "value": "#282828"
      }
     },
     "1bb3336d4bef4979b9bb018af7f4fdc4": {
      "model_module": "@jupyter-widgets/controls",
      "model_module_version": "1.5.0",
      "model_name": "IntTextModel",
      "state": {
       "description": "max",
       "layout": "IPY_MODEL_8815d743dee0457d8be8b0a8c46923f3",
       "step": 1,
       "style": "IPY_MODEL_0c10f805bff84441b05ffd189a5c8661",
       "value": 10
      }
     },
     "1bc3f0f3b6b74005b830717c2c436ca2": {
      "model_module": "@jupyter-widgets/base",
      "model_module_version": "1.2.0",
      "model_name": "LayoutModel",
      "state": {}
     },
     "1bcadc721303432abe9c782e04d39bdb": {
      "model_module": "@jupyter-widgets/base",
      "model_module_version": "1.2.0",
      "model_name": "LayoutModel",
      "state": {
       "flex_flow": "row wrap",
       "margin": "20px"
      }
     },
     "1bea1a5d3faa45d7874d70b0e8b279d9": {
      "model_module": "@jupyter-widgets/controls",
      "model_module_version": "1.5.0",
      "model_name": "AccordionModel",
      "state": {
       "_titles": {
        "0": "options",
        "1": "materials",
        "2": "leaf"
       },
       "children": [
        "IPY_MODEL_b0af3de57db7456bbaebe890f80f8b5c",
        "IPY_MODEL_ccf35c3d167746278dfad83c554d0987",
        "IPY_MODEL_63f8bca011bd4353b0079cc808cb0997"
       ],
       "layout": "IPY_MODEL_ff7305ab18ce488faec2e63965eb8f66"
      }
     },
     "1c12d2076c114cc18effe90b27c58098": {
      "model_module": "@jupyter-widgets/controls",
      "model_module_version": "1.5.0",
      "model_name": "BoundedIntTextModel",
      "state": {
       "description": "step",
       "layout": "IPY_MODEL_d305647879de4f31a874fda6cab632eb",
       "min": 1,
       "style": "IPY_MODEL_c5ed3c7a721e4e818c8d622ff9e795f8",
       "value": 1
      }
     },
     "1c3d38ee1f964fde95a7170d37019f06": {
      "model_module": "@jupyter-widgets/controls",
      "model_module_version": "1.5.0",
      "model_name": "DescriptionStyleModel",
      "state": {
       "description_width": ""
      }
     },
     "1c407f550b804b298b4387b1c3ea9fbb": {
      "model_module": "@jupyter-widgets/controls",
      "model_module_version": "1.5.0",
      "model_name": "ColorPickerModel",
      "state": {
       "description": "emission",
       "disabled": false,
       "layout": "IPY_MODEL_f71c0ec700c74e548e733aac9694d998",
       "style": "IPY_MODEL_8773584cbfee41468190d5e50df8670d",
       "value": "#000000"
      }
     },
     "1c5d7ec2bb914c2abd2a11ba730acacc": {
      "model_module": "@jupyter-widgets/controls",
      "model_module_version": "1.5.0",
      "model_name": "DescriptionStyleModel",
      "state": {
       "description_width": ""
      }
     },
     "1c7cf59a39db4f008dda191639910e38": {
      "model_module": "@jupyter-widgets/base",
      "model_module_version": "1.2.0",
      "model_name": "LayoutModel",
      "state": {}
     },
     "1c81ebd5c1f94383b65ba393285fa079": {
      "model_module": "@jupyter-widgets/controls",
      "model_module_version": "1.5.0",
      "model_name": "ButtonModel",
      "state": {
       "description": "Add category",
       "layout": "IPY_MODEL_82df42b1377c4332ac07be1f007906e4",
       "style": "IPY_MODEL_0f6363fc9ebe4294bf6a42196902ef26"
      }
     },
     "1c9ae3d4b63b45b6a6e45aa235c587ac": {
      "model_module": "@jupyter-widgets/controls",
      "model_module_version": "1.5.0",
      "model_name": "DescriptionStyleModel",
      "state": {
       "description_width": ""
      }
     },
     "1ca38f8de5c14488a96798aa1fb3bff0": {
      "model_module": "@jupyter-widgets/controls",
      "model_module_version": "1.5.0",
      "model_name": "SliderStyleModel",
      "state": {
       "description_width": ""
      }
     },
     "1cd1e989add64aaaaeb949cbed8d98b6": {
      "model_module": "@jupyter-widgets/controls",
      "model_module_version": "1.5.0",
      "model_name": "BoundedIntTextModel",
      "state": {
       "description": "step",
       "layout": "IPY_MODEL_81991c46676647618c0846129eb9253f",
       "min": 1,
       "style": "IPY_MODEL_1b4d26f7fa1e425fa0fa1b21020be265",
       "value": 1
      }
     },
     "1d0f39de364f42fca2ee489b0ac61eaa": {
      "model_module": "@jupyter-widgets/controls",
      "model_module_version": "1.5.0",
      "model_name": "DescriptionStyleModel",
      "state": {
       "description_width": ""
      }
     },
     "1d143d9919154875be616ca354e10d87": {
      "model_module": "@jupyter-widgets/controls",
      "model_module_version": "1.5.0",
      "model_name": "ColorPickerModel",
      "state": {
       "description": "specular",
       "disabled": false,
       "layout": "IPY_MODEL_8424cbe703b64aaab52fcf022d5b86ef",
       "style": "IPY_MODEL_33394aa92a6949c79333b95fb9d93703",
       "value": "#282828"
      }
     },
     "1d1daa74d36e4bc0a88ba436914d181c": {
      "model_module": "@jupyter-widgets/base",
      "model_module_version": "1.2.0",
      "model_name": "LayoutModel",
      "state": {}
     },
     "1d3a1be6a6084091b6a39ee2a8027c89": {
      "model_module": "@jupyter-widgets/base",
      "model_module_version": "1.2.0",
      "model_name": "LayoutModel",
      "state": {}
     },
     "1d41b614c0244dae9bf4049687325f48": {
      "model_module": "@jupyter-widgets/controls",
      "model_module_version": "1.5.0",
      "model_name": "FloatSliderModel",
      "state": {
       "description": "diffuse",
       "layout": "IPY_MODEL_2558f532b94e4c778788bdb08ac9cdf7",
       "max": 1,
       "step": 0.1,
       "style": "IPY_MODEL_4e7474fa8fc74b8f9998ac5e83c24e80",
       "value": 0.75
      }
     },
     "1d5cc8fb7ecf4e9b9a0d3cbefdbb2500": {
      "model_module": "@jupyter-widgets/base",
      "model_module_version": "1.2.0",
      "model_name": "LayoutModel",
      "state": {}
     },
     "1d5e6591ff12419a8da36391646aedd7": {
      "model_module": "@jupyter-widgets/controls",
      "model_module_version": "1.5.0",
      "model_name": "ColorPickerModel",
      "state": {
       "description": "specular",
       "disabled": false,
       "layout": "IPY_MODEL_34cd265586674d3fb608bc937a25b4d7",
       "style": "IPY_MODEL_f6cf01e3aade4830ae01baac2d80d6f6",
       "value": "#282828"
      }
     },
     "1d65eef2360e43fca30cac701048eee9": {
      "model_module": "@jupyter-widgets/controls",
      "model_module_version": "1.5.0",
      "model_name": "BoundedIntTextModel",
      "state": {
       "description": "index",
       "layout": "IPY_MODEL_3b3da7bb8d0049d689d0a662c376bf91",
       "style": "IPY_MODEL_efa739c19ad64959884a98a140a2d912",
       "value": 2
      }
     },
     "1dbafdd152c84ab4b7288ac443955d83": {
      "model_module": "@jupyter-widgets/base",
      "model_module_version": "1.2.0",
      "model_name": "LayoutModel",
      "state": {
       "flex_flow": "row wrap",
       "margin": "20px"
      }
     },
     "1dea957490a04b95bd3d76aade790f9a": {
      "model_module": "@jupyter-widgets/base",
      "model_module_version": "1.2.0",
      "model_name": "LayoutModel",
      "state": {}
     },
     "1e15a8c6ff044705997b5c5ab448dee7": {
      "model_module": "@jupyter-widgets/controls",
      "model_module_version": "1.5.0",
      "model_name": "SliderStyleModel",
      "state": {
       "description_width": ""
      }
     },
     "1eb3a549ffad42e894ed66e7ea4047c8": {
      "model_module": "@jupyter-widgets/controls",
      "model_module_version": "1.5.0",
      "model_name": "DescriptionStyleModel",
      "state": {
       "description_width": ""
      }
     },
     "1eb772eb43724a548d4285e75d7af08e": {
      "model_module": "@jupyter-widgets/base",
      "model_module_version": "1.2.0",
      "model_name": "LayoutModel",
      "state": {}
     },
     "1ebb908f33104722a8ca0ebea0830367": {
      "model_module": "@jupyter-widgets/base",
      "model_module_version": "1.2.0",
      "model_name": "LayoutModel",
      "state": {}
     },
     "1ed24c18a95c414f91f22ce72969f31c": {
      "model_module": "@jupyter-widgets/controls",
      "model_module_version": "1.5.0",
      "model_name": "ColorPickerModel",
      "state": {
       "description": "ambient",
       "disabled": false,
       "layout": "IPY_MODEL_275214da944c4d078e8bb8463ecf5b08",
       "style": "IPY_MODEL_6619d75e6a884ddf96b7d93f22aa80d4",
       "value": "#604d3e"
      }
     },
     "1ef64fa92ef846b48fec4ed93a3e0e2d": {
      "model_module": "@jupyter-widgets/controls",
      "model_module_version": "1.5.0",
      "model_name": "TextModel",
      "state": {
       "continuous_update": false,
       "description": "name",
       "layout": "IPY_MODEL_d2b87ecb692a4dda8267a13159fde61b",
       "style": "IPY_MODEL_3482b071780649b6ae8a44751a7a0c9e",
       "value": "leafold"
      }
     },
     "1f47862cd7004f6ea8e431b00a2deb36": {
      "model_module": "@jupyter-widgets/base",
      "model_module_version": "1.2.0",
      "model_name": "LayoutModel",
      "state": {}
     },
     "1f678338b62947efb94d704316f3494d": {
      "model_module": "@jupyter-widgets/base",
      "model_module_version": "1.2.0",
      "model_name": "LayoutModel",
      "state": {}
     },
     "1f77c70eec134463b17b0f169c5122e1": {
      "model_module": "@jupyter-widgets/controls",
      "model_module_version": "1.5.0",
      "model_name": "DescriptionStyleModel",
      "state": {
       "description_width": ""
      }
     },
     "1fa05a8702394381823472ab1d4a4211": {
      "model_module": "@jupyter-widgets/controls",
      "model_module_version": "1.5.0",
      "model_name": "TextModel",
      "state": {
       "continuous_update": false,
       "description": "name",
       "layout": "IPY_MODEL_5fb7c2f63497489dab41537af8a76aae",
       "style": "IPY_MODEL_9216e47018d143289825c8fc38f1023d",
       "value": "leafold"
      }
     },
     "1fad68016eab4feb95fdddcf7e5c4337": {
      "model_module": "@jupyter-widgets/controls",
      "model_module_version": "1.5.0",
      "model_name": "HBoxModel",
      "state": {
       "children": [
        "IPY_MODEL_b812c55b291f45fd9466d5dd4dfb3d21",
        "IPY_MODEL_47cb7b4de5824b358257695b5b3b3cb0"
       ],
       "layout": "IPY_MODEL_313a554994c74febb746a1171074ba9c"
      }
     },
     "1fafc7f599424b7e8f7a15a3d0aafb6a": {
      "model_module": "@jupyter-widgets/controls",
      "model_module_version": "1.5.0",
      "model_name": "SliderStyleModel",
      "state": {
       "description_width": ""
      }
     },
     "1fb14ba911fa4fa5b21eea1cc9d40b13": {
      "model_module": "@jupyter-widgets/controls",
      "model_module_version": "1.5.0",
      "model_name": "DescriptionStyleModel",
      "state": {
       "description_width": ""
      }
     },
     "1fdacad91ce84603b5f62f7efea7f8e3": {
      "model_module": "@jupyter-widgets/controls",
      "model_module_version": "1.5.0",
      "model_name": "DescriptionStyleModel",
      "state": {
       "description_width": ""
      }
     },
     "200f96bdd5bc4d3597c28abbe9aaf953": {
      "model_module": "@jupyter-widgets/controls",
      "model_module_version": "1.5.0",
      "model_name": "DescriptionStyleModel",
      "state": {
       "description_width": ""
      }
     },
     "201f1a1a76c240bd9efc0e2bb60a3035": {
      "model_module": "@jupyter-widgets/base",
      "model_module_version": "1.2.0",
      "model_name": "LayoutModel",
      "state": {}
     },
     "201f90f3a31f4794a7a9e3bb7865bed4": {
      "model_module": "@jupyter-widgets/controls",
      "model_module_version": "1.5.0",
      "model_name": "DescriptionStyleModel",
      "state": {
       "description_width": ""
      }
     },
     "2022b212d13347cba9b3da0111411722": {
      "model_module": "@jupyter-widgets/base",
      "model_module_version": "1.2.0",
      "model_name": "LayoutModel",
      "state": {}
     },
     "202c981cf82a46ad98661f66cc81ff60": {
      "model_module": "@jupyter-widgets/controls",
      "model_module_version": "1.5.0",
      "model_name": "BoundedIntTextModel",
      "state": {
       "description": "step",
       "layout": "IPY_MODEL_eeb67fd930ca496cb5fb6bcd5f851421",
       "min": 1,
       "style": "IPY_MODEL_7c4fa848f069404db67ac61d3674988f",
       "value": 1
      }
     },
     "2036ecadb3134460b8129cedcd40c8bf": {
      "model_module": "@jupyter-widgets/base",
      "model_module_version": "1.2.0",
      "model_name": "LayoutModel",
      "state": {}
     },
     "203e1864fde243a6bd46c139d099522f": {
      "model_module": "@jupyter-widgets/base",
      "model_module_version": "1.2.0",
      "model_name": "LayoutModel",
      "state": {}
     },
     "20445554b4884e7c8d6af428872f4c15": {
      "model_module": "@jupyter-widgets/base",
      "model_module_version": "1.2.0",
      "model_name": "LayoutModel",
      "state": {}
     },
     "209ff0e3bdf043ca993fd51d452c1483": {
      "model_module": "@jupyter-widgets/controls",
      "model_module_version": "1.5.0",
      "model_name": "HBoxModel",
      "state": {
       "children": [
        "IPY_MODEL_db60469fe7b74fa6b90e527013919f6a",
        "IPY_MODEL_9466db9ebd5a43af856dc0005e0a311b"
       ],
       "layout": "IPY_MODEL_e0ad26a041054212b2d074504dff1994"
      }
     },
     "21038593f6254242adbc079301dce8ae": {
      "model_module": "@jupyter-widgets/controls",
      "model_module_version": "1.5.0",
      "model_name": "SliderStyleModel",
      "state": {
       "description_width": ""
      }
     },
     "211408af89d24d7c9bb69141f6af9aba": {
      "model_module": "@jupyter-widgets/controls",
      "model_module_version": "1.5.0",
      "model_name": "FloatSliderModel",
      "state": {
       "description": "diffuse",
       "layout": "IPY_MODEL_762f4772b96f45b3861fb3b080efd6f8",
       "max": 1,
       "step": 0.1,
       "style": "IPY_MODEL_a84c14a67ee845cd8c615ce128d6aaae",
       "value": 0.75
      }
     },
     "211b1b5d82264938ace5ce2c20caba9b": {
      "model_module": "@jupyter-widgets/base",
      "model_module_version": "1.2.0",
      "model_name": "LayoutModel",
      "state": {}
     },
     "2124f577ea8146cd94b37e5274438e2b": {
      "model_module": "@jupyter-widgets/controls",
      "model_module_version": "1.5.0",
      "model_name": "DescriptionStyleModel",
      "state": {
       "description_width": ""
      }
     },
     "2136a52566524809a3c3b6695553bde5": {
      "model_module": "@jupyter-widgets/base",
      "model_module_version": "1.2.0",
      "model_name": "LayoutModel",
      "state": {}
     },
     "213c01422c2a4b5988ffdf22d0380be5": {
      "model_module": "@jupyter-widgets/base",
      "model_module_version": "1.2.0",
      "model_name": "LayoutModel",
      "state": {
       "margin": "20px 0px"
      }
     },
     "21422f766b46433fb71ccaa39fefe8b7": {
      "model_module": "@jupyter-widgets/controls",
      "model_module_version": "1.5.0",
      "model_name": "DescriptionStyleModel",
      "state": {
       "description_width": ""
      }
     },
     "217894109630443baedd060e63c86a1b": {
      "model_module": "@jupyter-widgets/base",
      "model_module_version": "1.2.0",
      "model_name": "LayoutModel",
      "state": {}
     },
     "2194feb6dbbb416e9d612f19ffdf48e9": {
      "model_module": "@jupyter-widgets/base",
      "model_module_version": "1.2.0",
      "model_name": "LayoutModel",
      "state": {
       "margin": "20px 0px"
      }
     },
     "21aa615659f5410cb95a73ffa18be55a": {
      "model_module": "@jupyter-widgets/base",
      "model_module_version": "1.2.0",
      "model_name": "LayoutModel",
      "state": {}
     },
     "21b3220570124d98b179bdfeb5808fce": {
      "model_module": "@jupyter-widgets/controls",
      "model_module_version": "1.5.0",
      "model_name": "FloatSliderModel",
      "state": {
       "description": "transparency",
       "layout": "IPY_MODEL_efc1cd658d3f4881a655c0b83075e384",
       "max": 1,
       "step": 0.1,
       "style": "IPY_MODEL_0ba7676259d7491a81763d0d58244173"
      }
     },
     "21b39aa696ee499aa33fa0178b1a0796": {
      "model_module": "@jupyter-widgets/base",
      "model_module_version": "1.2.0",
      "model_name": "LayoutModel",
      "state": {}
     },
     "21ba68acbf6449f3afa9fdd170cb7146": {
      "model_module": "@jupyter-widgets/controls",
      "model_module_version": "1.5.0",
      "model_name": "ColorPickerModel",
      "state": {
       "description": "ambient",
       "disabled": false,
       "layout": "IPY_MODEL_a5261e48ae544df59984bbe81934b041",
       "style": "IPY_MODEL_6a0f0f1f6c834f96b804245f378aabd5",
       "value": "#e1a014"
      }
     },
     "21c27605f42644a490d05b3ed9f9cec4": {
      "model_module": "@jupyter-widgets/base",
      "model_module_version": "1.2.0",
      "model_name": "LayoutModel",
      "state": {}
     },
     "21d188d26e174cb5bc2c94e1170f4be4": {
      "model_module": "@jupyter-widgets/base",
      "model_module_version": "1.2.0",
      "model_name": "LayoutModel",
      "state": {}
     },
     "21efdec5b75d4c6ebabf51119098e5d0": {
      "model_module": "@jupyter-widgets/controls",
      "model_module_version": "1.5.0",
      "model_name": "HBoxModel",
      "state": {
       "children": [
        "IPY_MODEL_ac41cf70afd04e33b260be8bd483f310",
        "IPY_MODEL_05309ec65eeb47319dd90200e4ded550",
        "IPY_MODEL_50b5640fcf26472bb3b7a44f52d8e1e5",
        "IPY_MODEL_a86058cee658486fb13a7beca648314b"
       ],
       "layout": "IPY_MODEL_2c758a39f7fc445fb36328a5392bc3cb"
      }
     },
     "220007b71ba94298b697454e18781038": {
      "model_module": "@jupyter-widgets/controls",
      "model_module_version": "1.5.0",
      "model_name": "TextModel",
      "state": {
       "continuous_update": false,
       "description": "name",
       "layout": "IPY_MODEL_4070b6a4f5cd4f99ad07e4e2d26cb5f5",
       "style": "IPY_MODEL_ade6887f14b74780ab86dcbc4bc09726",
       "value": "color_4"
      }
     },
     "22207bcdaa0243a5938cd94e8069d066": {
      "model_module": "@jupyter-widgets/controls",
      "model_module_version": "1.5.0",
      "model_name": "ColorPickerModel",
      "state": {
       "description": "ambient",
       "disabled": false,
       "layout": "IPY_MODEL_de51563dc00a4ff9a2f1105db25b5ceb",
       "style": "IPY_MODEL_b38a81a6a6574a99887c3d1e9695f144",
       "value": "#5b4534"
      }
     },
     "222c986241f440b09ecf8838dee277bb": {
      "model_module": "@jupyter-widgets/controls",
      "model_module_version": "1.5.0",
      "model_name": "ButtonStyleModel",
      "state": {}
     },
     "2238306649c540a699db292dd4180023": {
      "model_module": "@jupyter-widgets/controls",
      "model_module_version": "1.5.0",
      "model_name": "HBoxModel",
      "state": {
       "children": [
        "IPY_MODEL_e5933bb77a9d413a9d681c31c7d59d46",
        "IPY_MODEL_3b8c17e62aa54d2eb6ba0c7aa6a6135d",
        "IPY_MODEL_bad45027440c49c0b95e906436475efe",
        "IPY_MODEL_273cbe6b28fb4b79b92e7a0eab879227"
       ],
       "layout": "IPY_MODEL_f56daa410ee44854874b448e60b2c3c9"
      }
     },
     "22619aedb7bd421c8d9b74f42a60e6b7": {
      "model_module": "@jupyter-widgets/controls",
      "model_module_version": "1.5.0",
      "model_name": "ButtonModel",
      "state": {
       "description": "Add",
       "layout": "IPY_MODEL_71c836bf55f64b2bbb865fa5c6fa1cb1",
       "style": "IPY_MODEL_f72d254be380425893735470a9d2d81a"
      }
     },
     "228d940c83b9480692074cd0d12b288c": {
      "model_module": "@jupyter-widgets/controls",
      "model_module_version": "1.5.0",
      "model_name": "HBoxModel",
      "state": {
       "children": [
        "IPY_MODEL_e4a181143ef44778a2fa43c17cd0c92d",
        "IPY_MODEL_116ead00f10d4ca89d5bf693ff9e1690"
       ],
       "layout": "IPY_MODEL_0ecdbfbd6718464cb811eb77bb0001cb"
      }
     },
     "2299fe15e03b48dda7759b4bf26db86e": {
      "model_module": "@jupyter-widgets/base",
      "model_module_version": "1.2.0",
      "model_name": "LayoutModel",
      "state": {}
     },
     "22a056bc617349faa4d46a4d6716fdc2": {
      "model_module": "@jupyter-widgets/controls",
      "model_module_version": "1.5.0",
      "model_name": "FloatSliderModel",
      "state": {
       "description": "transparency",
       "layout": "IPY_MODEL_4316ef0ebc0d4fdeaf2805c281c2673b",
       "max": 1,
       "step": 0.1,
       "style": "IPY_MODEL_598dc53fc7284c30a10048ee82300ca0"
      }
     },
     "22a9a3fd9c4947de8e9b52c24d8c16d8": {
      "model_module": "@jupyter-widgets/base",
      "model_module_version": "1.2.0",
      "model_name": "LayoutModel",
      "state": {}
     },
     "22cde582661e4b188cf32e090ffa9218": {
      "model_module": "@jupyter-widgets/controls",
      "model_module_version": "1.5.0",
      "model_name": "HBoxModel",
      "state": {
       "children": [
        "IPY_MODEL_3a127677527241e4a19ba222644d0fca",
        "IPY_MODEL_817d367bfdf8452a84d4c2c2dc99edea",
        "IPY_MODEL_00990019601d46a0b7bcc7bab5281dc1"
       ],
       "layout": "IPY_MODEL_467114e3ce3b42da87398599a547cda2"
      }
     },
     "22e0832f909840ad96eb17d5f236e6d0": {
      "model_module": "@jupyter-widgets/controls",
      "model_module_version": "1.5.0",
      "model_name": "DescriptionStyleModel",
      "state": {
       "description_width": ""
      }
     },
     "231bfb6d54cb4676826c7eb253643aca": {
      "model_module": "@jupyter-widgets/controls",
      "model_module_version": "1.5.0",
      "model_name": "ButtonStyleModel",
      "state": {}
     },
     "2324b9eea997437aa217c0493ef8036f": {
      "model_module": "@jupyter-widgets/base",
      "model_module_version": "1.2.0",
      "model_name": "LayoutModel",
      "state": {}
     },
     "232c34088cab47a3acc7d0fe4121f3ae": {
      "model_module": "@jupyter-widgets/base",
      "model_module_version": "1.2.0",
      "model_name": "LayoutModel",
      "state": {
       "margin": "20px 0px"
      }
     },
     "233ee9c66bd7470784b5e77a3bf25e16": {
      "model_module": "@jupyter-widgets/base",
      "model_module_version": "1.2.0",
      "model_name": "LayoutModel",
      "state": {
       "flex_flow": "row wrap"
      }
     },
     "234ac662616e4f3c84f2599e188d95c4": {
      "model_module": "@jupyter-widgets/controls",
      "model_module_version": "1.5.0",
      "model_name": "ButtonModel",
      "state": {
       "description": "Apply changes",
       "layout": "IPY_MODEL_d00076ceaaef4f90ae6dfca78cb58bba",
       "style": "IPY_MODEL_42053ffc262a4b7ca6d5549dd52e5f82"
      }
     },
     "23525fafaf2245ed86b04e8247b95a24": {
      "model_module": "@jupyter-widgets/controls",
      "model_module_version": "1.5.0",
      "model_name": "DescriptionStyleModel",
      "state": {
       "description_width": ""
      }
     },
     "2375686ed7e44e1eb7d760050b0e9a6a": {
      "model_module": "@jupyter-widgets/controls",
      "model_module_version": "1.5.0",
      "model_name": "DropdownModel",
      "state": {
       "_options_labels": [
        "NurbsCurve2D",
        "BezierCurve2D",
        "Polyline2D",
        "Function"
       ],
       "index": 0,
       "layout": "IPY_MODEL_5019df2f5055409298b954fb6ba8aab9",
       "style": "IPY_MODEL_757e3cef40bc47e386bb92849cf19168"
      }
     },
     "23af8b0d7caf49ffbd9434df59f8adcc": {
      "model_module": "@jupyter-widgets/controls",
      "model_module_version": "1.5.0",
      "model_name": "DescriptionStyleModel",
      "state": {
       "description_width": ""
      }
     },
     "23d2d9d7755548eba8e69ea035c03d9a": {
      "model_module": "@jupyter-widgets/base",
      "model_module_version": "1.2.0",
      "model_name": "LayoutModel",
      "state": {}
     },
     "24004e8b0cf046d9b7bafca13b3868f6": {
      "model_module": "@jupyter-widgets/controls",
      "model_module_version": "1.5.0",
      "model_name": "ButtonModel",
      "state": {
       "description": "Add",
       "layout": "IPY_MODEL_f74b91788cb546d0976cda4bc856aef6",
       "style": "IPY_MODEL_6f131f3f67634df98fb30f26c0ba3c14"
      }
     },
     "241ce9b7a9034e3abf129cd0dacfc508": {
      "model_module": "@jupyter-widgets/base",
      "model_module_version": "1.2.0",
      "model_name": "LayoutModel",
      "state": {}
     },
     "242c3fa35ec34b858d263a14452bfc98": {
      "model_module": "@jupyter-widgets/controls",
      "model_module_version": "1.5.0",
      "model_name": "IntTextModel",
      "state": {
       "description": "max",
       "layout": "IPY_MODEL_3959866573aa421fa8890bbf7b1c9ffb",
       "step": 1,
       "style": "IPY_MODEL_a1888ab73ac043cb866b6911cd451b7c",
       "value": 10
      }
     },
     "24445bf8451e470e934c4470d4f8e0a7": {
      "model_module": "@jupyter-widgets/controls",
      "model_module_version": "1.5.0",
      "model_name": "IntSliderModel",
      "state": {
       "description": "value",
       "layout": "IPY_MODEL_d51b50f6f7064d6b8575587fb3b196c4",
       "max": 10,
       "min": 1,
       "style": "IPY_MODEL_e124b9fefb784a3bad65373e1ef9c403",
       "value": 3
      }
     },
     "24722c8f0c85407d896c4e19854d6751": {
      "model_module": "@jupyter-widgets/controls",
      "model_module_version": "1.5.0",
      "model_name": "SliderStyleModel",
      "state": {
       "description_width": ""
      }
     },
     "2495a1e49dc3483c8f52e5cebbef0755": {
      "model_module": "@jupyter-widgets/base",
      "model_module_version": "1.2.0",
      "model_name": "LayoutModel",
      "state": {}
     },
     "24dc30abc7fc4c0d96dbf565c0bdece3": {
      "model_module": "@jupyter-widgets/controls",
      "model_module_version": "1.5.0",
      "model_name": "DescriptionStyleModel",
      "state": {
       "description_width": ""
      }
     },
     "24e4a38035d14572a98ca532c13ddb5f": {
      "model_module": "@jupyter-widgets/base",
      "model_module_version": "1.2.0",
      "model_name": "LayoutModel",
      "state": {}
     },
     "2501327d07114c9cb00c14a34415de94": {
      "model_module": "@jupyter-widgets/controls",
      "model_module_version": "1.5.0",
      "model_name": "HBoxModel",
      "state": {
       "children": [
        "IPY_MODEL_f827aaf867dc42d39acc8a4f592731d6",
        "IPY_MODEL_6abc2715de574965ab92bda53a467e6e"
       ],
       "layout": "IPY_MODEL_7c61330d47784b9387095b208ed7539c"
      }
     },
     "2501c08878e54350abc0a9ac884118f1": {
      "model_module": "@jupyter-widgets/base",
      "model_module_version": "1.2.0",
      "model_name": "LayoutModel",
      "state": {
       "margin": "20px 0px"
      }
     },
     "252030f955ba480a8f2671f0f6470f4f": {
      "model_module": "@jupyter-widgets/base",
      "model_module_version": "1.2.0",
      "model_name": "LayoutModel",
      "state": {}
     },
     "25423d7867684f20b9048daf5ead1cae": {
      "model_module": "@jupyter-widgets/base",
      "model_module_version": "1.2.0",
      "model_name": "LayoutModel",
      "state": {}
     },
     "254a55cdb9ff4358a3b0a0bc4472d4f1": {
      "model_module": "@jupyter-widgets/controls",
      "model_module_version": "1.5.0",
      "model_name": "HBoxModel",
      "state": {
       "children": [
        "IPY_MODEL_ae5d607b93e44d918e536afd13919f98",
        "IPY_MODEL_b9889579f56d4901a4b6f2fc55378567"
       ],
       "layout": "IPY_MODEL_e0ad26a041054212b2d074504dff1994"
      }
     },
     "2558f532b94e4c778788bdb08ac9cdf7": {
      "model_module": "@jupyter-widgets/base",
      "model_module_version": "1.2.0",
      "model_name": "LayoutModel",
      "state": {}
     },
     "25596c60b781494ba65f65b159bd60c0": {
      "model_module": "@jupyter-widgets/base",
      "model_module_version": "1.2.0",
      "model_name": "LayoutModel",
      "state": {
       "flex_flow": "row wrap"
      }
     },
     "255f0de8730f402fa921249e991e6156": {
      "model_module": "@jupyter-widgets/base",
      "model_module_version": "1.2.0",
      "model_name": "LayoutModel",
      "state": {}
     },
     "25870a12a13242dc8424cde04c151651": {
      "model_module": "@jupyter-widgets/base",
      "model_module_version": "1.2.0",
      "model_name": "LayoutModel",
      "state": {}
     },
     "25e127591ea04d8da811a2c16a107978": {
      "model_module": "@jupyter-widgets/controls",
      "model_module_version": "1.5.0",
      "model_name": "IntTextModel",
      "state": {
       "description": "min",
       "layout": "IPY_MODEL_c27684b431c64324ace0242ba7aed294",
       "step": 1,
       "style": "IPY_MODEL_66bb2017fd90445ebdec1cf0fe5b5d5b",
       "value": 1
      }
     },
     "26313b1b0e774a5c9296c77a9fb42f6f": {
      "model_module": "@jupyter-widgets/base",
      "model_module_version": "1.2.0",
      "model_name": "LayoutModel",
      "state": {}
     },
     "26661f90cfc247b4aa51a0584e2d50c9": {
      "model_module": "@jupyter-widgets/controls",
      "model_module_version": "1.5.0",
      "model_name": "DropdownModel",
      "state": {
       "_options_labels": [
        "NurbsCurve2D_0"
       ],
       "index": 0,
       "layout": "IPY_MODEL_c27b4929616a4cc9afc6b2486b6203ab",
       "style": "IPY_MODEL_6b42ee7a9908446f983fc6c0005656ad"
      }
     },
     "2683a2486a9548ee9a92b323137c1a9a": {
      "model_module": "@jupyter-widgets/controls",
      "model_module_version": "1.5.0",
      "model_name": "SliderStyleModel",
      "state": {
       "description_width": ""
      }
     },
     "26f6320010f14927813d14ad09e8177b": {
      "model_module": "@jupyter-widgets/controls",
      "model_module_version": "1.5.0",
      "model_name": "SliderStyleModel",
      "state": {
       "description_width": ""
      }
     },
     "270122cfc8bf4ceb84fe883ef50bc479": {
      "model_module": "@jupyter-widgets/controls",
      "model_module_version": "1.5.0",
      "model_name": "DescriptionStyleModel",
      "state": {
       "description_width": ""
      }
     },
     "273cbe6b28fb4b79b92e7a0eab879227": {
      "model_module": "@jupyter-widgets/controls",
      "model_module_version": "1.5.0",
      "model_name": "DropdownModel",
      "state": {
       "index": null,
       "layout": "IPY_MODEL_0e22aeb0f36947afb43a810578887e6e",
       "style": "IPY_MODEL_6509e7284ebf48ea8852e819d225daf6"
      }
     },
     "275214da944c4d078e8bb8463ecf5b08": {
      "model_module": "@jupyter-widgets/base",
      "model_module_version": "1.2.0",
      "model_name": "LayoutModel",
      "state": {}
     },
     "275ac823b0bb4043b623929cb56cc202": {
      "model_module": "@jupyter-widgets/controls",
      "model_module_version": "1.5.0",
      "model_name": "DescriptionStyleModel",
      "state": {
       "description_width": ""
      }
     },
     "276f4aa0f7004bb992c83a870983632f": {
      "model_module": "@jupyter-widgets/controls",
      "model_module_version": "1.5.0",
      "model_name": "ButtonModel",
      "state": {
       "description": "Apply changes",
       "layout": "IPY_MODEL_39eebcf57c774b4082d92b82568fd391",
       "style": "IPY_MODEL_5a6303b3dd7146c1bc4f2aee154764ff"
      }
     },
     "277e1c3b192e46bc80b2c9fdc04a3809": {
      "model_module": "@jupyter-widgets/base",
      "model_module_version": "1.2.0",
      "model_name": "LayoutModel",
      "state": {}
     },
     "279f04df2dff4359be95f440892277cc": {
      "model_module": "@jupyter-widgets/controls",
      "model_module_version": "1.5.0",
      "model_name": "DescriptionStyleModel",
      "state": {
       "description_width": ""
      }
     },
     "27a515b51aa64462b99657ee916fa20d": {
      "model_module": "@jupyter-widgets/base",
      "model_module_version": "1.2.0",
      "model_name": "LayoutModel",
      "state": {
       "margin": "20px 0px"
      }
     },
     "27b8afa3d3b7447fa483906e22e6634d": {
      "model_module": "@jupyter-widgets/base",
      "model_module_version": "1.2.0",
      "model_name": "LayoutModel",
      "state": {}
     },
     "27f3e2e5bd414ac1ad3c19f37247942e": {
      "model_module": "@jupyter-widgets/controls",
      "model_module_version": "1.5.0",
      "model_name": "VBoxModel",
      "state": {
       "children": [
        "IPY_MODEL_7370d67c85ca45f99ec4b794aa6baea5",
        "IPY_MODEL_d2d0f917b45743ff9dc2a32c8add385a"
       ],
       "layout": "IPY_MODEL_a738593252204a498e2380d3e629bc1e"
      }
     },
     "27f932eb3b3f4d889caf4060205ba549": {
      "model_module": "@jupyter-widgets/base",
      "model_module_version": "1.2.0",
      "model_name": "LayoutModel",
      "state": {}
     },
     "287b5f96fec545e5932ca29a16953874": {
      "model_module": "@jupyter-widgets/controls",
      "model_module_version": "1.5.0",
      "model_name": "ColorPickerModel",
      "state": {
       "description": "ambient",
       "disabled": false,
       "layout": "IPY_MODEL_86f240b470c34c44bce8e713787a21be",
       "style": "IPY_MODEL_2999f8d143ab4217a886dd7fa4f4c482",
       "value": "#195717"
      }
     },
     "28ddc018d2064ea18a904c73a8aacc58": {
      "model_module": "@jupyter-widgets/controls",
      "model_module_version": "1.5.0",
      "model_name": "HBoxModel",
      "state": {
       "layout": "IPY_MODEL_d01d509395ce42ef85936a42ffd78529"
      }
     },
     "28e28f98ef9542749eeea320db4cb0e4": {
      "model_module": "@jupyter-widgets/controls",
      "model_module_version": "1.5.0",
      "model_name": "VBoxModel",
      "state": {
       "children": [
        "IPY_MODEL_b6648dd35f9448fc8d6cfd44efbdc5c5",
        "IPY_MODEL_84e87897d7924c9c8a3252b0e40e3dd5"
       ],
       "layout": "IPY_MODEL_37b62d5540e449ff914f8373be62480c"
      }
     },
     "290da3774c5c4d94bd867bc43903b7f7": {
      "model_module": "@jupyter-widgets/base",
      "model_module_version": "1.2.0",
      "model_name": "LayoutModel",
      "state": {}
     },
     "2911c948a3a84327899184974941d5f4": {
      "model_module": "@jupyter-widgets/controls",
      "model_module_version": "1.5.0",
      "model_name": "HBoxModel",
      "state": {
       "children": [
        "IPY_MODEL_837e33ebc35a4a31b3ac803803d0779b"
       ],
       "layout": "IPY_MODEL_dabb1088a9ce4b0e9aa8136772d1f619"
      }
     },
     "29155f13bef442a393b221b6846bc956": {
      "model_module": "@jupyter-widgets/controls",
      "model_module_version": "1.5.0",
      "model_name": "VBoxModel",
      "state": {
       "children": [
        "IPY_MODEL_e22c85174a2a4a7ba7797cf1f39856bf",
        "IPY_MODEL_abf78bc88b79468b8725660268e79352"
       ],
       "layout": "IPY_MODEL_507a380126584a23acf72009229e0b78"
      }
     },
     "2999f8d143ab4217a886dd7fa4f4c482": {
      "model_module": "@jupyter-widgets/controls",
      "model_module_version": "1.5.0",
      "model_name": "DescriptionStyleModel",
      "state": {
       "description_width": ""
      }
     },
     "29d2f53043094121a7728b0c9bc60afb": {
      "model_module": "@jupyter-widgets/controls",
      "model_module_version": "1.5.0",
      "model_name": "ButtonStyleModel",
      "state": {}
     },
     "29d3147695a947d7b6e87a4ef6e81299": {
      "model_module": "@jupyter-widgets/controls",
      "model_module_version": "1.5.0",
      "model_name": "HBoxModel",
      "state": {
       "children": [
        "IPY_MODEL_ca44b44f93e146c989a42fb6089dfaa7",
        "IPY_MODEL_b8bd681b6b634a61860c93bb9163f073"
       ],
       "layout": "IPY_MODEL_c6ff09a6e9d847ac858da09d3835cffa"
      }
     },
     "29d422aec5fb46b79b8f52be4373b097": {
      "model_module": "@jupyter-widgets/controls",
      "model_module_version": "1.5.0",
      "model_name": "DescriptionStyleModel",
      "state": {
       "description_width": ""
      }
     },
     "29fc71175e7a45d6b518dc6b0b3abe69": {
      "model_module": "@jupyter-widgets/controls",
      "model_module_version": "1.5.0",
      "model_name": "HBoxModel",
      "state": {
       "children": [
        "IPY_MODEL_b8492b7b01134d7b9aeaebc3e86f5d87"
       ],
       "layout": "IPY_MODEL_1dbafdd152c84ab4b7288ac443955d83"
      }
     },
     "2a115957db2342d397d5486f895ffc35": {
      "model_module": "@jupyter-widgets/controls",
      "model_module_version": "1.5.0",
      "model_name": "ButtonStyleModel",
      "state": {}
     },
     "2a34b0987a734577a8bdcadf7269f14f": {
      "model_module": "@jupyter-widgets/base",
      "model_module_version": "1.2.0",
      "model_name": "LayoutModel",
      "state": {}
     },
     "2a4bbc7e6c3447c5935944e8013bf97a": {
      "model_module": "@jupyter-widgets/controls",
      "model_module_version": "1.5.0",
      "model_name": "HBoxModel",
      "state": {
       "children": [
        "IPY_MODEL_472a677be1f44cb590714223cbed0472",
        "IPY_MODEL_d6a730eacbd54a89b2ef6b5345c7107f"
       ],
       "layout": "IPY_MODEL_ddaa22057bde46fe9787ccc3be7c1bcd"
      }
     },
     "2a5edf3ba1ac483c8ba70c9b29627380": {
      "model_module": "@jupyter-widgets/base",
      "model_module_version": "1.2.0",
      "model_name": "LayoutModel",
      "state": {}
     },
     "2a6e6d5a527b40b79b823a50c67ef83a": {
      "model_module": "@jupyter-widgets/controls",
      "model_module_version": "1.5.0",
      "model_name": "ColorPickerModel",
      "state": {
       "description": "ambient",
       "disabled": false,
       "layout": "IPY_MODEL_8312daa4c523419b93c5a7a2515d20db",
       "style": "IPY_MODEL_04e75893469a40c59769c30734490d10",
       "value": "#0fc4db"
      }
     },
     "2a71d1ea3cce494aab3efb0a5f5f35b8": {
      "model_module": "@jupyter-widgets/base",
      "model_module_version": "1.2.0",
      "model_name": "LayoutModel",
      "state": {}
     },
     "2a740364a2104b03a11e1170744d7e9d": {
      "model_module": "@jupyter-widgets/controls",
      "model_module_version": "1.5.0",
      "model_name": "TextModel",
      "state": {
       "continuous_update": false,
       "description": "name",
       "layout": "IPY_MODEL_d2d0c85bed704b318b91afa64fd018fe",
       "style": "IPY_MODEL_502e8a7f883742d0a593c735da02e62c",
       "value": "maxorder"
      }
     },
     "2aa8c97dc5be40c9be16773350baf277": {
      "model_module": "@jupyter-widgets/controls",
      "model_module_version": "1.5.0",
      "model_name": "SliderStyleModel",
      "state": {
       "description_width": ""
      }
     },
     "2abf1e7a3b7b475282392c7318e476d7": {
      "model_module": "@jupyter-widgets/controls",
      "model_module_version": "1.5.0",
      "model_name": "DescriptionStyleModel",
      "state": {
       "description_width": ""
      }
     },
     "2adcf24dbf2748e089fcbf19dc0f7b33": {
      "model_module": "@jupyter-widgets/controls",
      "model_module_version": "1.5.0",
      "model_name": "ButtonModel",
      "state": {
       "description": "Add",
       "layout": "IPY_MODEL_2495a1e49dc3483c8f52e5cebbef0755",
       "style": "IPY_MODEL_c80db8f4cb9841beba01c1bd2287e051"
      }
     },
     "2ae22285ecc942b4907349eff3baada7": {
      "model_module": "@jupyter-widgets/controls",
      "model_module_version": "1.5.0",
      "model_name": "HBoxModel",
      "state": {
       "children": [
        "IPY_MODEL_f4e8ccf6e2cf46deb3665b53e5a12e1f",
        "IPY_MODEL_7812640f10094d4e846d968f36040b04"
       ],
       "layout": "IPY_MODEL_cc4283288fb542ef96f56d4d031ff9f4"
      }
     },
     "2aebfa167de449c3b4011bf94bf1f722": {
      "model_module": "@jupyter-widgets/controls",
      "model_module_version": "1.5.0",
      "model_name": "HBoxModel",
      "state": {
       "children": [
        "IPY_MODEL_12f28bc072b748dc8a06548c567c6c15",
        "IPY_MODEL_986c888bf44d46b88f2eab79ddc528f2",
        "IPY_MODEL_af87cda5427b4804a199209d0dc67cb7",
        "IPY_MODEL_bc74c2e50ad6494e89053be97a14d338"
       ],
       "layout": "IPY_MODEL_674a914ce6c54b60af42ddb5ffca3dc9"
      }
     },
     "2afc093dc510467ea61f6bf3380360fb": {
      "model_module": "@jupyter-widgets/base",
      "model_module_version": "1.2.0",
      "model_name": "LayoutModel",
      "state": {}
     },
     "2b0d195736a947c6824fe8e3dd4b371d": {
      "model_module": "@jupyter-widgets/base",
      "model_module_version": "1.2.0",
      "model_name": "LayoutModel",
      "state": {}
     },
     "2b3bf360eab343d593671b7dbea90bd5": {
      "model_module": "@jupyter-widgets/controls",
      "model_module_version": "1.5.0",
      "model_name": "SliderStyleModel",
      "state": {
       "description_width": ""
      }
     },
     "2b3f8914cd724f03828986cb86c6eb87": {
      "model_module": "@jupyter-widgets/base",
      "model_module_version": "1.2.0",
      "model_name": "LayoutModel",
      "state": {
       "margin": "20px 0px"
      }
     },
     "2b6d029d3363436bb4c3867096c43514": {
      "model_module": "@jupyter-widgets/controls",
      "model_module_version": "1.5.0",
      "model_name": "HBoxModel",
      "state": {
       "children": [
        "IPY_MODEL_5eed3d4518234051843f485cc369deff",
        "IPY_MODEL_b4c6640b003145ab863dc22afc0d6b9e",
        "IPY_MODEL_da84931aef8d4c1d954b95f4636a7360",
        "IPY_MODEL_43c13428f9a944b8a460d54eae5ad873"
       ],
       "layout": "IPY_MODEL_1dbafdd152c84ab4b7288ac443955d83"
      }
     },
     "2b712d0432934f969732b0607b9d14b4": {
      "model_module": "@jupyter-widgets/base",
      "model_module_version": "1.2.0",
      "model_name": "LayoutModel",
      "state": {}
     },
     "2b928da61c404f50b3de5d476d6923ab": {
      "model_module": "pgljupyter",
      "model_module_version": "^0.1.15",
      "model_name": "MaterialEditorModel",
      "state": {
       "_model_module_version": "^0.1.15",
       "_view_module_version": "^0.1.15",
       "children": [
        "IPY_MODEL_3bde0a80dc0a4a00a6ed1df38788b089",
        "IPY_MODEL_c35bce4db29d40f19ea650dcbe5590ed",
        "IPY_MODEL_6832e4ecd3b048738ac7cf2e43425fa0",
        "IPY_MODEL_9e95902db92541d2b2441549db2984b2",
        "IPY_MODEL_d91d15dec2c547688d7f2ff8421fc644",
        "IPY_MODEL_0d2a0ab149344751bd1fec22deef88ae",
        "IPY_MODEL_d37ba2f025014ca79fdf05a27bdbbe2f",
        "IPY_MODEL_4549005cc94d43fa8ee253c745db81e6"
       ],
       "layout": "IPY_MODEL_f1e7a72fdeab478ba0fc787565e774bd"
      }
     },
     "2b99a41fb4a94ebe9c8e27861be6beef": {
      "model_module": "@jupyter-widgets/base",
      "model_module_version": "1.2.0",
      "model_name": "LayoutModel",
      "state": {}
     },
     "2bca4224925b40e1bfb042986738be02": {
      "model_module": "@jupyter-widgets/controls",
      "model_module_version": "1.5.0",
      "model_name": "SliderStyleModel",
      "state": {
       "description_width": ""
      }
     },
     "2bf3331faa364b30ad1034ed79e8c07a": {
      "model_module": "@jupyter-widgets/base",
      "model_module_version": "1.2.0",
      "model_name": "LayoutModel",
      "state": {}
     },
     "2bfa67229dbb4f5f80d1bc638f650d11": {
      "model_module": "@jupyter-widgets/controls",
      "model_module_version": "1.5.0",
      "model_name": "ButtonModel",
      "state": {
       "description": "Delete",
       "layout": "IPY_MODEL_37544c0854f2465d8f2d8bfc47041e72",
       "style": "IPY_MODEL_0e7521f16ae74e2a84f8a00ec22a1258"
      }
     },
     "2c459c82701d4343a44e9daf1dc0cd65": {
      "model_module": "@jupyter-widgets/base",
      "model_module_version": "1.2.0",
      "model_name": "LayoutModel",
      "state": {}
     },
     "2c57289cdf1c49ea9d82954b2c37a542": {
      "model_module": "@jupyter-widgets/base",
      "model_module_version": "1.2.0",
      "model_name": "LayoutModel",
      "state": {}
     },
     "2c6626c601634ca491185a76d6409094": {
      "model_module": "@jupyter-widgets/controls",
      "model_module_version": "1.5.0",
      "model_name": "DescriptionStyleModel",
      "state": {
       "description_width": ""
      }
     },
     "2c70894a80f745f89888ecb61c4430a7": {
      "model_module": "@jupyter-widgets/controls",
      "model_module_version": "1.5.0",
      "model_name": "SliderStyleModel",
      "state": {
       "description_width": ""
      }
     },
     "2c758a39f7fc445fb36328a5392bc3cb": {
      "model_module": "@jupyter-widgets/base",
      "model_module_version": "1.2.0",
      "model_name": "LayoutModel",
      "state": {
       "flex_flow": "row wrap",
       "margin": "20px"
      }
     },
     "2c8a15976e6848598b89d289ea36058c": {
      "model_module": "@jupyter-widgets/controls",
      "model_module_version": "1.5.0",
      "model_name": "DropdownModel",
      "state": {
       "_options_labels": [
        "color_1",
        "color_2",
        "color_3",
        "color_4"
       ],
       "index": 0,
       "layout": "IPY_MODEL_82bcbeb350d44aff94d9fc2cd31553a4",
       "style": "IPY_MODEL_b9569c00d7924f5f9ae9483b5f4dd93a"
      }
     },
     "2c9d28ef123c4a57821f5e99b8b722ad": {
      "model_module": "@jupyter-widgets/base",
      "model_module_version": "1.2.0",
      "model_name": "LayoutModel",
      "state": {}
     },
     "2cc020689ac54d969b675f316677121d": {
      "model_module": "@jupyter-widgets/controls",
      "model_module_version": "1.5.0",
      "model_name": "SliderStyleModel",
      "state": {
       "description_width": ""
      }
     },
     "2ccf3b1f80ca4e8b8ea59aabfcba4e79": {
      "model_module": "@jupyter-widgets/controls",
      "model_module_version": "1.5.0",
      "model_name": "DescriptionStyleModel",
      "state": {
       "description_width": ""
      }
     },
     "2cf369aa9e7e4feb98a3ce7ecefb6745": {
      "model_module": "@jupyter-widgets/controls",
      "model_module_version": "1.5.0",
      "model_name": "DescriptionStyleModel",
      "state": {
       "description_width": ""
      }
     },
     "2d0ad52f89ef410eafad1ecd57f2cb78": {
      "model_module": "@jupyter-widgets/controls",
      "model_module_version": "1.5.0",
      "model_name": "DescriptionStyleModel",
      "state": {
       "description_width": ""
      }
     },
     "2d265faab78c49f1beb10d103398cb8c": {
      "model_module": "@jupyter-widgets/base",
      "model_module_version": "1.2.0",
      "model_name": "LayoutModel",
      "state": {}
     },
     "2d27d7c14ef54df7bced5f710b9e0cce": {
      "model_module": "@jupyter-widgets/base",
      "model_module_version": "1.2.0",
      "model_name": "LayoutModel",
      "state": {}
     },
     "2d5d68893674488ba4dd00970a3a9b81": {
      "model_module": "@jupyter-widgets/controls",
      "model_module_version": "1.5.0",
      "model_name": "HBoxModel",
      "state": {
       "children": [
        "IPY_MODEL_cf60cf7a0e9347819f5920be559bd3ab",
        "IPY_MODEL_2501327d07114c9cb00c14a34415de94",
        "IPY_MODEL_45970305473848b9995b6823545def77"
       ],
       "layout": "IPY_MODEL_c2c55fe42be74718bb320fed9bf1fdd6"
      }
     },
     "2d70beccf69c4efc9a83cd358de0d9d2": {
      "model_module": "@jupyter-widgets/base",
      "model_module_version": "1.2.0",
      "model_name": "LayoutModel",
      "state": {}
     },
     "2daaf6242ed9461985d9559a718b68a5": {
      "model_module": "pgljupyter",
      "model_module_version": "^0.1.2",
      "model_name": "MaterialEditorModel",
      "state": {
       "_model_module_version": "^0.1.2",
       "_view_module_version": "^0.1.2",
       "children": [
        "IPY_MODEL_ac11ecf003394e96b2227d751ad7d1b9",
        "IPY_MODEL_547c418d86ec4fce8644a63a4d9fad45",
        "IPY_MODEL_70f7a900cde34f19a9c40852e3201de6",
        "IPY_MODEL_08205c4815754438a774f886dc48c434",
        "IPY_MODEL_da3a03d419374886b33c4a33c7123acc",
        "IPY_MODEL_cffbe228dd7a4cb6b6b3ec214974be09",
        "IPY_MODEL_e8085364e31d455da333f395d8708b18",
        "IPY_MODEL_b6fac6ee8b314c10a5156acd259cdf9e"
       ],
       "layout": "IPY_MODEL_5a20bedfc3174238b2ea8c131168e933"
      }
     },
     "2dabfefd7ddd4f7eac82d3513cf3d4c1": {
      "model_module": "@jupyter-widgets/controls",
      "model_module_version": "1.5.0",
      "model_name": "VBoxModel",
      "state": {
       "children": [
        "IPY_MODEL_5242056fc3e74012833d1c34f09631be",
        "IPY_MODEL_a3021cfb00c34844be2cc4431cd9b620"
       ],
       "layout": "IPY_MODEL_3dd277d92fe4450ea1bc4361fbcac098"
      }
     },
     "2dfd38b8db084b6e808f2fe3885239d1": {
      "model_module": "@jupyter-widgets/controls",
      "model_module_version": "1.5.0",
      "model_name": "DescriptionStyleModel",
      "state": {
       "description_width": ""
      }
     },
     "2e3292f15e594dd89ae41056de970444": {
      "model_module": "@jupyter-widgets/controls",
      "model_module_version": "1.5.0",
      "model_name": "SliderStyleModel",
      "state": {
       "description_width": ""
      }
     },
     "2e37023dfe354314ac50106bf6b55572": {
      "model_module": "@jupyter-widgets/controls",
      "model_module_version": "1.5.0",
      "model_name": "DropdownModel",
      "state": {
       "_options_labels": [
        "Integer",
        "Float",
        "Bool"
       ],
       "index": 0,
       "layout": "IPY_MODEL_64a1e196cd8b4735b903883e27f12794",
       "style": "IPY_MODEL_270122cfc8bf4ceb84fe883ef50bc479"
      }
     },
     "2e56050c32b84200b373f0971cae23c6": {
      "model_module": "@jupyter-widgets/controls",
      "model_module_version": "1.5.0",
      "model_name": "FloatSliderModel",
      "state": {
       "description": "shininess",
       "layout": "IPY_MODEL_9d71deb7f39d4c19bde81bd5bdac01ce",
       "max": 1,
       "step": 0.1,
       "style": "IPY_MODEL_f7545150d64f4c3b923ca1dbaec773d1",
       "value": 0.2
      }
     },
     "2e6ef9314d67449c8deb0a7297c93ab3": {
      "model_module": "@jupyter-widgets/base",
      "model_module_version": "1.2.0",
      "model_name": "LayoutModel",
      "state": {}
     },
     "2e6fdecb680e44eab31fbab1ebfe7703": {
      "model_module": "@jupyter-widgets/base",
      "model_module_version": "1.2.0",
      "model_name": "LayoutModel",
      "state": {}
     },
     "2ebb0a0050144bca8f9cb9d9e1736e7a": {
      "model_module": "@jupyter-widgets/base",
      "model_module_version": "1.2.0",
      "model_name": "LayoutModel",
      "state": {}
     },
     "2ecc06fc96384fc582bbc1690d7ec0f0": {
      "model_module": "@jupyter-widgets/base",
      "model_module_version": "1.2.0",
      "model_name": "LayoutModel",
      "state": {
       "margin": "20px 0px"
      }
     },
     "2eefdb0b2e0a4d348f80f8bd096623f4": {
      "model_module": "@jupyter-widgets/controls",
      "model_module_version": "1.5.0",
      "model_name": "FloatSliderModel",
      "state": {
       "description": "value",
       "layout": "IPY_MODEL_a804c74d82784c509c274a182386649e",
       "max": 0.1,
       "min": 0.01,
       "step": 0.01,
       "style": "IPY_MODEL_7b3b11e3adb64fbc8e92adb87eb907bc",
       "value": 0.02
      }
     },
     "2efa585c55484aaba68ded69cdb81b15": {
      "model_module": "@jupyter-widgets/base",
      "model_module_version": "1.2.0",
      "model_name": "LayoutModel",
      "state": {}
     },
     "2eff3360b17e4d108ef05eb1c38b62b5": {
      "model_module": "@jupyter-widgets/controls",
      "model_module_version": "1.5.0",
      "model_name": "DropdownModel",
      "state": {
       "_options_labels": [
        "leafduration",
        "leafold",
        "maxorder",
        "radinc",
        "nb_axes"
       ],
       "index": 0,
       "layout": "IPY_MODEL_1b430d38b698418f9a7f98b42b8b6d2c",
       "style": "IPY_MODEL_1fdacad91ce84603b5f62f7efea7f8e3"
      }
     },
     "2f0ddd96b8e54c9db71f0f6742f85c4f": {
      "model_module": "@jupyter-widgets/controls",
      "model_module_version": "1.5.0",
      "model_name": "DescriptionStyleModel",
      "state": {
       "description_width": ""
      }
     },
     "2f2ae84d6e0a4ce28cb9b46fe5dc6734": {
      "model_module": "@jupyter-widgets/controls",
      "model_module_version": "1.5.0",
      "model_name": "DescriptionStyleModel",
      "state": {
       "description_width": ""
      }
     },
     "2f5416ac6bbd4e419f7a5874c1620d4b": {
      "model_module": "@jupyter-widgets/base",
      "model_module_version": "1.2.0",
      "model_name": "LayoutModel",
      "state": {}
     },
     "2f6754fd12954ab7bbbe7dd23a674b68": {
      "model_module": "@jupyter-widgets/controls",
      "model_module_version": "1.5.0",
      "model_name": "ButtonStyleModel",
      "state": {}
     },
     "2fd6bccdb8b3480f803497bd5d78509c": {
      "model_module": "@jupyter-widgets/base",
      "model_module_version": "1.2.0",
      "model_name": "LayoutModel",
      "state": {}
     },
     "2ff2e549a4684de5a2db6f29b2366fd5": {
      "model_module": "@jupyter-widgets/controls",
      "model_module_version": "1.5.0",
      "model_name": "DescriptionStyleModel",
      "state": {
       "description_width": ""
      }
     },
     "2ff6e1288e264c2584f333513837f75c": {
      "model_module": "@jupyter-widgets/controls",
      "model_module_version": "1.5.0",
      "model_name": "DescriptionStyleModel",
      "state": {
       "description_width": ""
      }
     },
     "3016eb052392407faed61d3b029819e0": {
      "model_module": "@jupyter-widgets/controls",
      "model_module_version": "1.5.0",
      "model_name": "FloatTextModel",
      "state": {
       "description": "min",
       "layout": "IPY_MODEL_eefce3da5c794e4bab16f1ccfa772834",
       "step": null,
       "style": "IPY_MODEL_ba0b1244ad6f4f9c9a71d04311449303",
       "value": 0.01
      }
     },
     "3025af6ca9bf4347aacac2bab4a9537d": {
      "model_module": "@jupyter-widgets/controls",
      "model_module_version": "1.5.0",
      "model_name": "BoundedIntTextModel",
      "state": {
       "description": "step",
       "layout": "IPY_MODEL_dd0de27d197b44f9a2e82859a8717af4",
       "min": 1,
       "style": "IPY_MODEL_ebfb220fe8ff4b69b9a9a8a6970ebef5",
       "value": 1
      }
     },
     "3026ebc9a30243b1bc25015d05d6c0c7": {
      "model_module": "@jupyter-widgets/controls",
      "model_module_version": "1.5.0",
      "model_name": "DescriptionStyleModel",
      "state": {
       "description_width": ""
      }
     },
     "3038736efee74002846c2587a995dfac": {
      "model_module": "@jupyter-widgets/controls",
      "model_module_version": "1.5.0",
      "model_name": "IntTextModel",
      "state": {
       "description": "max",
       "layout": "IPY_MODEL_622554349f6e4c379e9b6f67fcf8b442",
       "step": 1,
       "style": "IPY_MODEL_9f46013fff2144e5b16c9b4fc9a11b02",
       "value": 7
      }
     },
     "3085c048d2684e1d9e06b912c8ebe89a": {
      "model_module": "@jupyter-widgets/controls",
      "model_module_version": "1.5.0",
      "model_name": "DescriptionStyleModel",
      "state": {
       "description_width": ""
      }
     },
     "30913895a05c4efe9297847d5ea8e81b": {
      "model_module": "@jupyter-widgets/controls",
      "model_module_version": "1.5.0",
      "model_name": "DescriptionStyleModel",
      "state": {
       "description_width": ""
      }
     },
     "30ab17fe198743bcad37c908631443f3": {
      "model_module": "@jupyter-widgets/controls",
      "model_module_version": "1.5.0",
      "model_name": "ButtonModel",
      "state": {
       "description": "Add",
       "layout": "IPY_MODEL_37787ec969d64182bb9c4ecfb9659757",
       "style": "IPY_MODEL_8b631c32026a41418173e79115085831"
      }
     },
     "30adb877ae0c4ea3b12a4f4ae638e37d": {
      "model_module": "@jupyter-widgets/controls",
      "model_module_version": "1.5.0",
      "model_name": "DescriptionStyleModel",
      "state": {
       "description_width": ""
      }
     },
     "30c661fbb27140d0a16de353c96e7fc7": {
      "model_module": "@jupyter-widgets/base",
      "model_module_version": "1.2.0",
      "model_name": "LayoutModel",
      "state": {}
     },
     "30d540375e824d28a55b00e0f96c5990": {
      "model_module": "@jupyter-widgets/controls",
      "model_module_version": "1.5.0",
      "model_name": "BoundedFloatTextModel",
      "state": {
       "description": "step",
       "layout": "IPY_MODEL_b9140fd966784ca79c52a376d4a3aa01",
       "max": 1,
       "min": 0.01,
       "step": 0.01,
       "style": "IPY_MODEL_d940873967e849f1925ab23c9e4c6ca9",
       "value": 0.01
      }
     },
     "30e2a75e992f460bb155f12690c18296": {
      "model_module": "@jupyter-widgets/controls",
      "model_module_version": "1.5.0",
      "model_name": "DescriptionStyleModel",
      "state": {
       "description_width": ""
      }
     },
     "30ea0fffbfc14c498f33c0844ae5ecc8": {
      "model_module": "@jupyter-widgets/controls",
      "model_module_version": "1.5.0",
      "model_name": "DescriptionStyleModel",
      "state": {
       "description_width": ""
      }
     },
     "30ea76a55acd406bad8fb7188aff0f41": {
      "model_module": "@jupyter-widgets/controls",
      "model_module_version": "1.5.0",
      "model_name": "SliderStyleModel",
      "state": {
       "description_width": ""
      }
     },
     "3133bec14cff4f2a890c142d85f7eb53": {
      "model_module": "@jupyter-widgets/controls",
      "model_module_version": "1.5.0",
      "model_name": "DescriptionStyleModel",
      "state": {
       "description_width": ""
      }
     },
     "313a554994c74febb746a1171074ba9c": {
      "model_module": "@jupyter-widgets/base",
      "model_module_version": "1.2.0",
      "model_name": "LayoutModel",
      "state": {}
     },
     "314d95cfe7894a9fb7f7430e808bd058": {
      "model_module": "@jupyter-widgets/controls",
      "model_module_version": "1.5.0",
      "model_name": "ButtonModel",
      "state": {
       "description": "Add category",
       "layout": "IPY_MODEL_d94bccd4ec6140aca10be69aef8e0149",
       "style": "IPY_MODEL_31dcfd2e4ff041afa26e524ddfc02716"
      }
     },
     "31674b7c1dca486da959f764bf3aeb4a": {
      "model_module": "@jupyter-widgets/base",
      "model_module_version": "1.2.0",
      "model_name": "LayoutModel",
      "state": {}
     },
     "316c47a18f414a7cae68dc23857f0b39": {
      "model_module": "@jupyter-widgets/controls",
      "model_module_version": "1.5.0",
      "model_name": "DescriptionStyleModel",
      "state": {
       "description_width": ""
      }
     },
     "31863837aa4a409080cc105e487d8989": {
      "model_module": "@jupyter-widgets/controls",
      "model_module_version": "1.5.0",
      "model_name": "FloatSliderModel",
      "state": {
       "description": "diffuse",
       "layout": "IPY_MODEL_59e4ce096db041599800b92606fb73a5",
       "max": 1,
       "step": 0.1,
       "style": "IPY_MODEL_db083b36502a43eab0cf563b9bd73746",
       "value": 1
      }
     },
     "31c4fda3a0794a7391eb2cf0eb5a1277": {
      "model_module": "@jupyter-widgets/base",
      "model_module_version": "1.2.0",
      "model_name": "LayoutModel",
      "state": {
       "margin": "20px 0px"
      }
     },
     "31dcfd2e4ff041afa26e524ddfc02716": {
      "model_module": "@jupyter-widgets/controls",
      "model_module_version": "1.5.0",
      "model_name": "ButtonStyleModel",
      "state": {}
     },
     "31e77ba59ad24997839039a4c9c53e93": {
      "model_module": "@jupyter-widgets/base",
      "model_module_version": "1.2.0",
      "model_name": "LayoutModel",
      "state": {}
     },
     "31f9a3fd201f47e28c61705d7d33ef3e": {
      "model_module": "@jupyter-widgets/base",
      "model_module_version": "1.2.0",
      "model_name": "LayoutModel",
      "state": {
       "margin": "20px 0px"
      }
     },
     "3207925224d34f6c8bf84a40588fed58": {
      "model_module": "@jupyter-widgets/controls",
      "model_module_version": "1.5.0",
      "model_name": "ButtonStyleModel",
      "state": {}
     },
     "321e172e448a43c4a8b78c52972eaf6e": {
      "model_module": "@jupyter-widgets/base",
      "model_module_version": "1.2.0",
      "model_name": "LayoutModel",
      "state": {}
     },
     "3225d5f5245a46d19fe4fbe117cfd05a": {
      "model_module": "pgljupyter",
      "model_module_version": "^0.1.15",
      "model_name": "IntEditorModel",
      "state": {
       "_model_module_version": "^0.1.15",
       "_view_module_version": "^0.1.15",
       "children": [
        "IPY_MODEL_7e95fb8c88fb4b2e825686716154cda8",
        "IPY_MODEL_bdff796d4d1c463e98be79ce4c9263ae",
        "IPY_MODEL_07da465a707a44bba7007fc942ba1e1e",
        "IPY_MODEL_427d097412484fceae97c3dd6c844acc",
        "IPY_MODEL_a0717f1c4d5b4b28b2d151f0d3862401"
       ],
       "layout": "IPY_MODEL_f865b96ac53e4be18c4cb3c02857b3a8"
      }
     },
     "323e3e5a88174a1089754f4e0914934f": {
      "model_module": "@jupyter-widgets/controls",
      "model_module_version": "1.5.0",
      "model_name": "ButtonModel",
      "state": {
       "description": "Apply changes",
       "layout": "IPY_MODEL_1853ce433b6f4d6b8fa0157e60be1c35",
       "style": "IPY_MODEL_d7cdf67155a84757b92ab1857a8d07a3"
      }
     },
     "326c1176012a410595523df41d471c92": {
      "model_module": "@jupyter-widgets/controls",
      "model_module_version": "1.5.0",
      "model_name": "TabModel",
      "state": {
       "layout": "IPY_MODEL_f29f7359e581423380cb31b2ed572d95"
      }
     },
     "3279bd2d9370429ca816ae2050ac2d53": {
      "model_module": "@jupyter-widgets/controls",
      "model_module_version": "1.5.0",
      "model_name": "HBoxModel",
      "state": {
       "layout": "IPY_MODEL_e0ad26a041054212b2d074504dff1994"
      }
     },
     "32a2d5151e844f398dfd8a2f28a391ff": {
      "model_module": "@jupyter-widgets/controls",
      "model_module_version": "1.5.0",
      "model_name": "TextModel",
      "state": {
       "continuous_update": false,
       "description": "name",
       "layout": "IPY_MODEL_5cb242cfc7614b3eb4c7b8c0e9c5c193",
       "style": "IPY_MODEL_b7774c37d9944fe09f8d1efd519c29b8",
       "value": "leafduration"
      }
     },
     "32cc9d09f93f4eafbe3258d80eb67367": {
      "model_module": "@jupyter-widgets/base",
      "model_module_version": "1.2.0",
      "model_name": "LayoutModel",
      "state": {}
     },
     "3300a2c5f2e247a1aaa3e0f6ac6abad9": {
      "model_module": "@jupyter-widgets/base",
      "model_module_version": "1.2.0",
      "model_name": "LayoutModel",
      "state": {}
     },
     "33394aa92a6949c79333b95fb9d93703": {
      "model_module": "@jupyter-widgets/controls",
      "model_module_version": "1.5.0",
      "model_name": "DescriptionStyleModel",
      "state": {
       "description_width": ""
      }
     },
     "338d43dd583a46258a5c9c915eee7e50": {
      "model_module": "@jupyter-widgets/base",
      "model_module_version": "1.2.0",
      "model_name": "LayoutModel",
      "state": {}
     },
     "339136e89c5c43e8a79dd31db259bb34": {
      "model_module": "@jupyter-widgets/controls",
      "model_module_version": "1.5.0",
      "model_name": "BoundedIntTextModel",
      "state": {
       "description": "step",
       "layout": "IPY_MODEL_5a0aadd3d47a476093b8bb0ce1ad5728",
       "min": 1,
       "style": "IPY_MODEL_11d2e002a9d2426aa2b73314602d4031",
       "value": 1
      }
     },
     "339bb7c5bbd24525889f6050716638c6": {
      "model_module": "@jupyter-widgets/controls",
      "model_module_version": "1.5.0",
      "model_name": "DescriptionStyleModel",
      "state": {
       "description_width": ""
      }
     },
     "33a31a3d3fcc46a9b9009df9149904a8": {
      "model_module": "@jupyter-widgets/controls",
      "model_module_version": "1.5.0",
      "model_name": "DescriptionStyleModel",
      "state": {
       "description_width": ""
      }
     },
     "33ec9c5667a5451786a5c5e914e5dc10": {
      "model_module": "@jupyter-widgets/base",
      "model_module_version": "1.2.0",
      "model_name": "LayoutModel",
      "state": {}
     },
     "3427db4f581645ce85693cf2ff78d69b": {
      "model_module": "@jupyter-widgets/controls",
      "model_module_version": "1.5.0",
      "model_name": "ButtonModel",
      "state": {
       "description": "Save changes",
       "layout": "IPY_MODEL_6d05cd50c7ea4c40bded6d1cd1c67612",
       "style": "IPY_MODEL_ab224024e95846e0bb30efa4450f53ec"
      }
     },
     "343fdbc8ac9046f0be92ef520dcb07c7": {
      "model_module": "@jupyter-widgets/base",
      "model_module_version": "1.2.0",
      "model_name": "LayoutModel",
      "state": {}
     },
     "34435e2ce8b440f5a64afbb973ca5adc": {
      "model_module": "@jupyter-widgets/base",
      "model_module_version": "1.2.0",
      "model_name": "LayoutModel",
      "state": {}
     },
     "344c460570104014b79dad6a65f1bc15": {
      "model_module": "pgljupyter",
      "model_module_version": "^0.1.15",
      "model_name": "MaterialEditorModel",
      "state": {
       "_model_module_version": "^0.1.15",
       "_view_module_version": "^0.1.15",
       "children": [
        "IPY_MODEL_843d75cb83854ccca588873a9ace951c",
        "IPY_MODEL_d8136ba8b0b94a508316083bd66d429c",
        "IPY_MODEL_8885c255856b479881029363d8cf8481",
        "IPY_MODEL_bb74a2e2f3f744c0880c5874c444c364",
        "IPY_MODEL_62f37a5d014644cda8ab470a0f963659",
        "IPY_MODEL_1680908bd17c4edeb5c4ae807790a86e",
        "IPY_MODEL_2e56050c32b84200b373f0971cae23c6"
       ],
       "layout": "IPY_MODEL_8a45f1793c654ff1b7f7ad2acc463549"
      }
     },
     "34542b9db14a40a69b4c113983071f5f": {
      "model_module": "@jupyter-widgets/controls",
      "model_module_version": "1.5.0",
      "model_name": "DescriptionStyleModel",
      "state": {
       "description_width": ""
      }
     },
     "34735ef710b24bba8dc82b0edee69a57": {
      "model_module": "@jupyter-widgets/base",
      "model_module_version": "1.2.0",
      "model_name": "LayoutModel",
      "state": {}
     },
     "347acaa63eae4e00a4da54a4e5aa293d": {
      "model_module": "@jupyter-widgets/controls",
      "model_module_version": "1.5.0",
      "model_name": "VBoxModel",
      "state": {
       "children": [
        "IPY_MODEL_f54dce5c967d42ddacd908ff611f1d2e",
        "IPY_MODEL_60c75cd30cc5440faf0dcf062f8f9255"
       ],
       "layout": "IPY_MODEL_cbbda54c90744c78b5a9088ce7e16dcb"
      }
     },
     "3482b071780649b6ae8a44751a7a0c9e": {
      "model_module": "@jupyter-widgets/controls",
      "model_module_version": "1.5.0",
      "model_name": "DescriptionStyleModel",
      "state": {
       "description_width": ""
      }
     },
     "3483198dc61e4fb6a5fd59a5c83502d5": {
      "model_module": "@jupyter-widgets/controls",
      "model_module_version": "1.5.0",
      "model_name": "FloatSliderModel",
      "state": {
       "description": "shininess",
       "layout": "IPY_MODEL_0fac894dada84693a4a032abae38a833",
       "max": 1,
       "step": 0.1,
       "style": "IPY_MODEL_b1bd5bda1f924269b6906dd5b73f60f1",
       "value": 0.2
      }
     },
     "34a7af6b22db40fbbd501ad6986ec371": {
      "model_module": "@jupyter-widgets/controls",
      "model_module_version": "1.5.0",
      "model_name": "TextModel",
      "state": {
       "continuous_update": false,
       "description": "name",
       "layout": "IPY_MODEL_ebb168363859428c910fbb683a4d6956",
       "style": "IPY_MODEL_c7e96683ccf54521ad82e02910c90b3d",
       "value": "radinc"
      }
     },
     "34c506a5fd4c4cb994b86db5544979d4": {
      "model_module": "@jupyter-widgets/controls",
      "model_module_version": "1.5.0",
      "model_name": "DescriptionStyleModel",
      "state": {
       "description_width": ""
      }
     },
     "34cd265586674d3fb608bc937a25b4d7": {
      "model_module": "@jupyter-widgets/base",
      "model_module_version": "1.2.0",
      "model_name": "LayoutModel",
      "state": {}
     },
     "350046a661e74189b5160d9dda73f86e": {
      "model_module": "@jupyter-widgets/controls",
      "model_module_version": "1.5.0",
      "model_name": "FloatSliderModel",
      "state": {
       "description": "diffuse",
       "layout": "IPY_MODEL_b49f1cfd335044929cbc328ce2374923",
       "max": 1,
       "step": 0.1,
       "style": "IPY_MODEL_80fb9d29e96a4f77aaee4c7b4f289e4e",
       "value": 1
      }
     },
     "35010fbf5ea3493e9cbc7122e28e5c50": {
      "model_module": "@jupyter-widgets/base",
      "model_module_version": "1.2.0",
      "model_name": "LayoutModel",
      "state": {}
     },
     "352845e9ebe34d14891bd5826b4a2e08": {
      "model_module": "pgljupyter",
      "model_module_version": "^0.1.2",
      "model_name": "MaterialEditorModel",
      "state": {
       "_model_module_version": "^0.1.2",
       "_view_module_version": "^0.1.2",
       "children": [
        "IPY_MODEL_94fe16f4b7b148129026cb2da6d29ef1",
        "IPY_MODEL_1a27b21bce904332a4684e5393644e7e",
        "IPY_MODEL_eb925bb2ec044a0e94904c75d2959be6",
        "IPY_MODEL_aa6f5555faa44f4db554da680a607f63",
        "IPY_MODEL_6368053aed524502b45b99eae25e4e13",
        "IPY_MODEL_175d04d73b0f432ebe88e418f42348fe",
        "IPY_MODEL_b22403f438214a4b8f36317185bdab34",
        "IPY_MODEL_a181f8277527484f82f484b081a7ac2c"
       ],
       "layout": "IPY_MODEL_8dee69fccbb14c7c82aaa8587be93b6d"
      }
     },
     "357b13a66a54461f85c83b5b839d7d28": {
      "model_module": "@jupyter-widgets/controls",
      "model_module_version": "1.5.0",
      "model_name": "IntTextModel",
      "state": {
       "description": "min",
       "layout": "IPY_MODEL_53ec91f57093422daaabbfa341b1878b",
       "step": 1,
       "style": "IPY_MODEL_8a8f9cbb663e4d42a10e4e70f2a1cd17",
       "value": 1
      }
     },
     "358645419ea648e0a94f01980055f440": {
      "model_module": "@jupyter-widgets/base",
      "model_module_version": "1.2.0",
      "model_name": "LayoutModel",
      "state": {}
     },
     "35f6cf9c439d4fa8ae1b7d5de389c9af": {
      "model_module": "@jupyter-widgets/base",
      "model_module_version": "1.2.0",
      "model_name": "LayoutModel",
      "state": {}
     },
     "35fe5bcb32a344c1839ffc661e5b7fe4": {
      "model_module": "@jupyter-widgets/controls",
      "model_module_version": "1.5.0",
      "model_name": "ColorPickerModel",
      "state": {
       "description": "emission",
       "disabled": false,
       "layout": "IPY_MODEL_b2f63634bfd94d23a4133da2a39d0f87",
       "style": "IPY_MODEL_4f232ac5610c453da6bbff0d94f89765",
       "value": "#000000"
      }
     },
     "3612f7a7682b474f93b17b5d79359613": {
      "model_module": "@jupyter-widgets/controls",
      "model_module_version": "1.5.0",
      "model_name": "DescriptionStyleModel",
      "state": {
       "description_width": ""
      }
     },
     "362cbffce70144d6858eda282c894c9c": {
      "model_module": "@jupyter-widgets/controls",
      "model_module_version": "1.5.0",
      "model_name": "BoundedFloatTextModel",
      "state": {
       "description": "step",
       "layout": "IPY_MODEL_69f9201b0d8749718d1eaad584a7b5e3",
       "max": 1,
       "min": 0.01,
       "step": 0.01,
       "style": "IPY_MODEL_1eb3a549ffad42e894ed66e7ea4047c8",
       "value": 0.01
      }
     },
     "364a0d3467624371a6bdd269466b5c04": {
      "model_module": "@jupyter-widgets/base",
      "model_module_version": "1.2.0",
      "model_name": "LayoutModel",
      "state": {
       "margin": "20px 0px"
      }
     },
     "366af79109f740cd87594d2bcbe4e358": {
      "model_module": "@jupyter-widgets/controls",
      "model_module_version": "1.5.0",
      "model_name": "SliderStyleModel",
      "state": {
       "description_width": ""
      }
     },
     "368223e9431d47409832400746a8ab36": {
      "model_module": "@jupyter-widgets/controls",
      "model_module_version": "1.5.0",
      "model_name": "DropdownModel",
      "state": {
       "_options_labels": [
        "NurbsCurve2D",
        "BezierCurve2D",
        "Polyline2D",
        "Function"
       ],
       "index": 0,
       "layout": "IPY_MODEL_d83e72dd822f4e30a46ab2b1ccb392b9",
       "style": "IPY_MODEL_a5605f2b65904a4eb171ce60d1e2d0d4"
      }
     },
     "36b8f608b82b478f82ede67b0c91fb67": {
      "model_module": "@jupyter-widgets/base",
      "model_module_version": "1.2.0",
      "model_name": "LayoutModel",
      "state": {
       "margin": "20px 0px"
      }
     },
     "3701c95af124487b9519c1a5365f456c": {
      "model_module": "@jupyter-widgets/controls",
      "model_module_version": "1.5.0",
      "model_name": "FloatSliderModel",
      "state": {
       "description": "diffuse",
       "layout": "IPY_MODEL_44c48867d3644253bcc2828215a4b906",
       "max": 3,
       "step": 0.1,
       "style": "IPY_MODEL_8da284ec50ae4429858599e220d52cc5",
       "value": 1
      }
     },
     "371f3bee91fc406e8ef326fbd6a62738": {
      "model_module": "@jupyter-widgets/controls",
      "model_module_version": "1.5.0",
      "model_name": "SliderStyleModel",
      "state": {
       "description_width": ""
      }
     },
     "37544c0854f2465d8f2d8bfc47041e72": {
      "model_module": "@jupyter-widgets/base",
      "model_module_version": "1.2.0",
      "model_name": "LayoutModel",
      "state": {}
     },
     "3757368916f448ea8908a387c8d15320": {
      "model_module": "@jupyter-widgets/controls",
      "model_module_version": "1.5.0",
      "model_name": "ColorPickerModel",
      "state": {
       "description": "specular",
       "disabled": false,
       "layout": "IPY_MODEL_b9feeeeee9c74b51a81c432f0d6e640f",
       "style": "IPY_MODEL_3085c048d2684e1d9e06b912c8ebe89a",
       "value": "#282828"
      }
     },
     "37787ec969d64182bb9c4ecfb9659757": {
      "model_module": "@jupyter-widgets/base",
      "model_module_version": "1.2.0",
      "model_name": "LayoutModel",
      "state": {}
     },
     "37823eb05d9444858326c148bfa140cd": {
      "model_module": "@jupyter-widgets/controls",
      "model_module_version": "1.5.0",
      "model_name": "HBoxModel",
      "state": {
       "children": [
        "IPY_MODEL_d1b8dc49f1034c03b899d515253fc98d",
        "IPY_MODEL_a39d050489f04233a9588793cfc365ec"
       ],
       "layout": "IPY_MODEL_dd33ed74409b4c0795183b005c20d306"
      }
     },
     "37884d0f8d42498e8a2b7303f8a9a0ef": {
      "model_module": "@jupyter-widgets/controls",
      "model_module_version": "1.5.0",
      "model_name": "BoundedFloatTextModel",
      "state": {
       "description": "step",
       "layout": "IPY_MODEL_b92546feb77a4e4aaff221af4a8fbabe",
       "max": 1,
       "min": 0.01,
       "step": 0.01,
       "style": "IPY_MODEL_e202f552d4a24fbbae5bf3a8236edbdd",
       "value": 0.01
      }
     },
     "37b62d5540e449ff914f8373be62480c": {
      "model_module": "@jupyter-widgets/base",
      "model_module_version": "1.2.0",
      "model_name": "LayoutModel",
      "state": {}
     },
     "37b855a8b725404890c803b7c417cc7a": {
      "model_module": "@jupyter-widgets/controls",
      "model_module_version": "1.5.0",
      "model_name": "HBoxModel",
      "state": {
       "children": [
        "IPY_MODEL_60bbe853ace04a11982bbff9d3c333ed",
        "IPY_MODEL_7b086b3b3e6b4059a559100dccaad08c"
       ],
       "layout": "IPY_MODEL_400001ce26a44091af6d5aa8f6ece5c4"
      }
     },
     "37cc370812764135a78e918e9a54c255": {
      "model_module": "@jupyter-widgets/controls",
      "model_module_version": "1.5.0",
      "model_name": "ColorPickerModel",
      "state": {
       "description": "specular",
       "disabled": false,
       "layout": "IPY_MODEL_e932545f5a6741aba1e8ae82ce2fcd9d",
       "style": "IPY_MODEL_452cb761aa3c45988ae224ff962dda55",
       "value": "#282828"
      }
     },
     "3828bc81eaf447458079ef13d518f1d6": {
      "model_module": "@jupyter-widgets/base",
      "model_module_version": "1.2.0",
      "model_name": "LayoutModel",
      "state": {}
     },
     "385249429ff5457994709f2682133bb6": {
      "model_module": "@jupyter-widgets/controls",
      "model_module_version": "1.5.0",
      "model_name": "IntTextModel",
      "state": {
       "description": "max",
       "layout": "IPY_MODEL_7b1ae47aad2a4e14ab6a686d3425e034",
       "step": 1,
       "style": "IPY_MODEL_b336a5f011b742ea908cee03513fccb9",
       "value": 10
      }
     },
     "3886c91004eb40b4ae526623f839f5a3": {
      "model_module": "@jupyter-widgets/base",
      "model_module_version": "1.2.0",
      "model_name": "LayoutModel",
      "state": {}
     },
     "38aedb1b56ff4907af35973d88c28785": {
      "model_module": "@jupyter-widgets/base",
      "model_module_version": "1.2.0",
      "model_name": "LayoutModel",
      "state": {}
     },
     "38b3bc34ec4749ce97f6df8128c8b58b": {
      "model_module": "@jupyter-widgets/controls",
      "model_module_version": "1.5.0",
      "model_name": "ButtonStyleModel",
      "state": {}
     },
     "38ddb4788197471db84a1a58ec09b8b2": {
      "model_module": "@jupyter-widgets/base",
      "model_module_version": "1.2.0",
      "model_name": "LayoutModel",
      "state": {}
     },
     "392bdfe9de4a4cf89a6621b7683feb71": {
      "model_module": "@jupyter-widgets/controls",
      "model_module_version": "1.5.0",
      "model_name": "HBoxModel",
      "state": {
       "children": [
        "IPY_MODEL_3b02bc7d415540769980b1ae554f9fbf"
       ],
       "layout": "IPY_MODEL_e0ad26a041054212b2d074504dff1994"
      }
     },
     "39315f2410f14e9294c5a154543f6ae9": {
      "model_module": "@jupyter-widgets/controls",
      "model_module_version": "1.5.0",
      "model_name": "ColorPickerModel",
      "state": {
       "description": "specular",
       "disabled": false,
       "layout": "IPY_MODEL_06cce5f559ff492daf7de0450f9ce4cc",
       "style": "IPY_MODEL_bf8c52c6349d45b7bd06b4eca76e2cbb",
       "value": "#282828"
      }
     },
     "393897094f3e4470aaac2d26415261a8": {
      "model_module": "@jupyter-widgets/controls",
      "model_module_version": "1.5.0",
      "model_name": "BoundedIntTextModel",
      "state": {
       "description": "step",
       "layout": "IPY_MODEL_241ce9b7a9034e3abf129cd0dacfc508",
       "min": 1,
       "style": "IPY_MODEL_ccb5f84db0c74d6f993cdf50188c7ab4",
       "value": 1
      }
     },
     "3959866573aa421fa8890bbf7b1c9ffb": {
      "model_module": "@jupyter-widgets/base",
      "model_module_version": "1.2.0",
      "model_name": "LayoutModel",
      "state": {}
     },
     "3973432672b94efba02d662a2a55b91d": {
      "model_module": "@jupyter-widgets/controls",
      "model_module_version": "1.5.0",
      "model_name": "TextModel",
      "state": {
       "continuous_update": false,
       "description": "name",
       "layout": "IPY_MODEL_21b39aa696ee499aa33fa0178b1a0796",
       "style": "IPY_MODEL_76e9017b89ea4ce9a1b8b4258e5e6d46",
       "value": "nb_axes"
      }
     },
     "39b6cee9b96e43b683aa3b0b8d201361": {
      "model_module": "@jupyter-widgets/controls",
      "model_module_version": "1.5.0",
      "model_name": "DescriptionStyleModel",
      "state": {
       "description_width": ""
      }
     },
     "39c02487d7c242b79297781e711e63fb": {
      "model_module": "@jupyter-widgets/controls",
      "model_module_version": "1.5.0",
      "model_name": "BoundedIntTextModel",
      "state": {
       "description": "step",
       "layout": "IPY_MODEL_7280887d7a1e420b80c07311475b256f",
       "min": 1,
       "style": "IPY_MODEL_e3ca09485f8f45a38649ee0f2bdcfb30",
       "value": 1
      }
     },
     "39ceb78dfb1449b399b665ad13905765": {
      "model_module": "@jupyter-widgets/base",
      "model_module_version": "1.2.0",
      "model_name": "LayoutModel",
      "state": {}
     },
     "39eebcf57c774b4082d92b82568fd391": {
      "model_module": "@jupyter-widgets/base",
      "model_module_version": "1.2.0",
      "model_name": "LayoutModel",
      "state": {}
     },
     "3a127677527241e4a19ba222644d0fca": {
      "model_module": "@jupyter-widgets/controls",
      "model_module_version": "1.5.0",
      "model_name": "HBoxModel",
      "state": {
       "children": [
        "IPY_MODEL_4f63c4af400f4f32956d997f14285ea8",
        "IPY_MODEL_560e0fe2319c45179aec21555493a1dd"
       ],
       "layout": "IPY_MODEL_e0a18bca74904e2e92327b564140f0b1"
      }
     },
     "3a23713a62a440298a92fda6f633d4ec": {
      "model_module": "@jupyter-widgets/controls",
      "model_module_version": "1.5.0",
      "model_name": "ButtonModel",
      "state": {
       "description": "Delete",
       "layout": "IPY_MODEL_ec3d9932e7f64b71a5e77319701eb67b",
       "style": "IPY_MODEL_46fb2e05451a4a3786d99758ee653a81"
      }
     },
     "3a3644138ae2464abb81977f0024665a": {
      "model_module": "@jupyter-widgets/controls",
      "model_module_version": "1.5.0",
      "model_name": "DescriptionStyleModel",
      "state": {
       "description_width": ""
      }
     },
     "3a44342eebdf42d898c797bcc1fa6f80": {
      "model_module": "@jupyter-widgets/controls",
      "model_module_version": "1.5.0",
      "model_name": "ButtonModel",
      "state": {
       "description": "Delete category",
       "layout": "IPY_MODEL_c9f4a24c74b24825beffbc9f8ee68003",
       "style": "IPY_MODEL_9339e3265f2e4932bae217f65af8317e"
      }
     },
     "3a51faf612714fa697dd0a09dbca2f90": {
      "model_module": "@jupyter-widgets/base",
      "model_module_version": "1.2.0",
      "model_name": "LayoutModel",
      "state": {}
     },
     "3ac048bed3cb4f37a53ad7615782b007": {
      "model_module": "@jupyter-widgets/base",
      "model_module_version": "1.2.0",
      "model_name": "LayoutModel",
      "state": {
       "margin": "20px 0px"
      }
     },
     "3b02bc7d415540769980b1ae554f9fbf": {
      "model_module": "@jupyter-widgets/controls",
      "model_module_version": "1.5.0",
      "model_name": "ButtonModel",
      "state": {
       "description": "Delete category",
       "layout": "IPY_MODEL_ef1cf0d7b929400eac34f9ee80ff1da3",
       "style": "IPY_MODEL_ae70e3796269413f8f75e6b73d431a2b"
      }
     },
     "3b165dfd50c4467fa021eb1279eb1e9b": {
      "model_module": "@jupyter-widgets/base",
      "model_module_version": "1.2.0",
      "model_name": "LayoutModel",
      "state": {}
     },
     "3b3da7bb8d0049d689d0a662c376bf91": {
      "model_module": "@jupyter-widgets/base",
      "model_module_version": "1.2.0",
      "model_name": "LayoutModel",
      "state": {}
     },
     "3b8c17e62aa54d2eb6ba0c7aa6a6135d": {
      "model_module": "@jupyter-widgets/controls",
      "model_module_version": "1.5.0",
      "model_name": "DropdownModel",
      "state": {
       "_options_labels": [
        "NurbsCurve2D"
       ],
       "index": 0,
       "layout": "IPY_MODEL_8a552e1e88a0406f8658363c552e528f",
       "style": "IPY_MODEL_0405e697af844b2ea91e99af5ca06901"
      }
     },
     "3b9cdcac039a4f5eacbfd4ff00a41591": {
      "model_module": "@jupyter-widgets/base",
      "model_module_version": "1.2.0",
      "model_name": "LayoutModel",
      "state": {}
     },
     "3bb03a834d464a7c90ad352b1f4a9182": {
      "model_module": "@jupyter-widgets/base",
      "model_module_version": "1.2.0",
      "model_name": "LayoutModel",
      "state": {}
     },
     "3bccb846b4df4907997b93fed3c1a495": {
      "model_module": "@jupyter-widgets/base",
      "model_module_version": "1.2.0",
      "model_name": "LayoutModel",
      "state": {
       "margin": "20px 0px"
      }
     },
     "3bce6b106d9847ae81d706f5a7c75510": {
      "model_module": "@jupyter-widgets/controls",
      "model_module_version": "1.5.0",
      "model_name": "TextModel",
      "state": {
       "continuous_update": false,
       "description": "name",
       "layout": "IPY_MODEL_252030f955ba480a8f2671f0f6470f4f",
       "style": "IPY_MODEL_978de8ad9ea24bcea235051efc4a1a54",
       "value": "leafold"
      }
     },
     "3bde0a80dc0a4a00a6ed1df38788b089": {
      "model_module": "@jupyter-widgets/controls",
      "model_module_version": "1.5.0",
      "model_name": "TextModel",
      "state": {
       "continuous_update": false,
       "description": "name",
       "layout": "IPY_MODEL_526c5fdc0c8441b8bc0e3500631d3d93",
       "style": "IPY_MODEL_101d0e3b26ff4aa983e0ca9673161b92",
       "value": "color_1"
      }
     },
     "3be8ad00e813458cb27def9c28db81be": {
      "model_module": "@jupyter-widgets/base",
      "model_module_version": "1.2.0",
      "model_name": "LayoutModel",
      "state": {}
     },
     "3c075c2048614d2e8ada7b1f561f4f59": {
      "model_module": "@jupyter-widgets/controls",
      "model_module_version": "1.5.0",
      "model_name": "DescriptionStyleModel",
      "state": {
       "description_width": ""
      }
     },
     "3c466aaa4b874201af983ddcd5f12b3f": {
      "model_module": "@jupyter-widgets/controls",
      "model_module_version": "1.5.0",
      "model_name": "SliderStyleModel",
      "state": {
       "description_width": ""
      }
     },
     "3cdac3fb61654b188cd59f6063f7bfd5": {
      "model_module": "@jupyter-widgets/controls",
      "model_module_version": "1.5.0",
      "model_name": "IntTextModel",
      "state": {
       "description": "max",
       "layout": "IPY_MODEL_45e1ea1dbfc64beab96c70595ac656ea",
       "step": 1,
       "style": "IPY_MODEL_a3b51c86f32548c89175e0ba18a1b9f0",
       "value": 7
      }
     },
     "3cdf35cd62644896a16f3d50c9643c05": {
      "model_module": "@jupyter-widgets/controls",
      "model_module_version": "1.5.0",
      "model_name": "IntSliderModel",
      "state": {
       "description": "value",
       "layout": "IPY_MODEL_53c7e037c126404aa6bbcbbbb0ee2457",
       "max": 10,
       "min": 1,
       "style": "IPY_MODEL_f862c5c991a84f23bdbbb788c6d3d1de",
       "value": 5
      }
     },
     "3cea4d05264f4dbabd9379e5ebe7999e": {
      "model_module": "@jupyter-widgets/controls",
      "model_module_version": "1.5.0",
      "model_name": "BoundedIntTextModel",
      "state": {
       "description": "step",
       "layout": "IPY_MODEL_a038fed9b50a4a08819c2085571911c3",
       "min": 1,
       "style": "IPY_MODEL_2abf1e7a3b7b475282392c7318e476d7",
       "value": 1
      }
     },
     "3cf13761a7d44c25a3bb0b1c84021cdf": {
      "model_module": "@jupyter-widgets/base",
      "model_module_version": "1.2.0",
      "model_name": "LayoutModel",
      "state": {}
     },
     "3cf5140e8eaf4f8bb8ba9548db80111d": {
      "model_module": "pgljupyter",
      "model_module_version": "^0.1.2",
      "model_name": "_CurveEditorModel",
      "state": {
       "_model_module_version": "^0.1.2",
       "_view_module_version": "^0.1.2",
       "control_points": [
        [
         -0.5,
         0
        ],
        [
         -0.21058238636363635,
         0.3363636363636364
        ],
        [
         0.045454545454545414,
         -0.2068181818181818
        ],
        [
         0.5,
         0
        ]
       ],
       "curve_type": "BezierCurve2D",
       "layout": "IPY_MODEL_70855785526542688e78359baf1c605b"
      }
     },
     "3cfb8d16eb394aeb961b5b2fa13ef6df": {
      "model_module": "@jupyter-widgets/controls",
      "model_module_version": "1.5.0",
      "model_name": "FloatSliderModel",
      "state": {
       "description": "diffuse",
       "layout": "IPY_MODEL_0cbe358ee0dd4965a43e04c56c73e8c6",
       "max": 1,
       "step": 0.1,
       "style": "IPY_MODEL_a08868ee98f64737a3e282aeb5e9669c",
       "value": 1
      }
     },
     "3d72676596db48239fb3fce7eab36c7e": {
      "model_module": "@jupyter-widgets/controls",
      "model_module_version": "1.5.0",
      "model_name": "IntTextModel",
      "state": {
       "description": "max",
       "layout": "IPY_MODEL_7a716803844c41369cbbf514bb574785",
       "step": 1,
       "style": "IPY_MODEL_ca2f599c70464248802952afb48b4d4d",
       "value": 10
      }
     },
     "3d72caeab742456498301cbd7bdea1dc": {
      "model_module": "@jupyter-widgets/controls",
      "model_module_version": "1.5.0",
      "model_name": "HBoxModel",
      "state": {
       "children": [
        "IPY_MODEL_7996c5457da04faa9c7022caceb722c8",
        "IPY_MODEL_1fad68016eab4feb95fdddcf7e5c4337"
       ],
       "layout": "IPY_MODEL_dabb1088a9ce4b0e9aa8136772d1f619"
      }
     },
     "3dca07d7fa8a42529aad1c7d4c0b469d": {
      "model_module": "@jupyter-widgets/base",
      "model_module_version": "1.2.0",
      "model_name": "LayoutModel",
      "state": {}
     },
     "3dcdbd5eb39b48f7aa21f9fabdd84112": {
      "model_module": "@jupyter-widgets/controls",
      "model_module_version": "1.5.0",
      "model_name": "DescriptionStyleModel",
      "state": {
       "description_width": ""
      }
     },
     "3dd277d92fe4450ea1bc4361fbcac098": {
      "model_module": "@jupyter-widgets/base",
      "model_module_version": "1.2.0",
      "model_name": "LayoutModel",
      "state": {}
     },
     "3dd8567c0e7e4493a514306e4be0d559": {
      "model_module": "@jupyter-widgets/controls",
      "model_module_version": "1.5.0",
      "model_name": "DescriptionStyleModel",
      "state": {
       "description_width": ""
      }
     },
     "3e05ba6b58e74c328014b35717708836": {
      "model_module": "@jupyter-widgets/base",
      "model_module_version": "1.2.0",
      "model_name": "LayoutModel",
      "state": {}
     },
     "3e329edb95664cb486dda3c2b3c896cf": {
      "model_module": "@jupyter-widgets/controls",
      "model_module_version": "1.5.0",
      "model_name": "FloatSliderModel",
      "state": {
       "description": "shininess",
       "layout": "IPY_MODEL_b60867a053c74a80a3f7d34c47d27946",
       "max": 1,
       "step": 0.1,
       "style": "IPY_MODEL_689ea972cbce41a8b32df7bdc67b10ae",
       "value": 0.2
      }
     },
     "3e83fe9f30584627863edeb47779fdff": {
      "model_module": "@jupyter-widgets/controls",
      "model_module_version": "1.5.0",
      "model_name": "DescriptionStyleModel",
      "state": {
       "description_width": ""
      }
     },
     "3eaaa1fac4ef40d5837ac4585c09086c": {
      "model_module": "@jupyter-widgets/controls",
      "model_module_version": "1.5.0",
      "model_name": "DescriptionStyleModel",
      "state": {
       "description_width": ""
      }
     },
     "3ec6ca9ab67e4732aae15b941861a1e6": {
      "model_module": "@jupyter-widgets/controls",
      "model_module_version": "1.5.0",
      "model_name": "DescriptionStyleModel",
      "state": {
       "description_width": ""
      }
     },
     "3f0f3bb1764f476baea6463c404baeef": {
      "model_module": "@jupyter-widgets/controls",
      "model_module_version": "1.5.0",
      "model_name": "ButtonStyleModel",
      "state": {}
     },
     "3f238a5fcc604191bc5b4736381148d8": {
      "model_module": "@jupyter-widgets/base",
      "model_module_version": "1.2.0",
      "model_name": "LayoutModel",
      "state": {}
     },
     "3f61e9dd496f4505be6dc1c84aefdc57": {
      "model_module": "pgljupyter",
      "model_module_version": "^0.1.2",
      "model_name": "MaterialEditorModel",
      "state": {
       "_model_module_version": "^0.1.2",
       "_view_module_version": "^0.1.2",
       "children": [
        "IPY_MODEL_a22da95bced94b0ea758d979b05c4357",
        "IPY_MODEL_7310fb106a0148cba799629b28cfd588",
        "IPY_MODEL_d18d2324b3d64718bcd6376c175c5112",
        "IPY_MODEL_ccc3684d6a3a4acdaac7fa383e67ed43",
        "IPY_MODEL_b1cb0ecc984d47b5b601ac5ead5fda5d",
        "IPY_MODEL_096a27de4fb74defab7139814791f0a3",
        "IPY_MODEL_86b0aab187af49f1a86803563cc19ecd",
        "IPY_MODEL_6d99be388ce6453a934fe45ffafa4844"
       ],
       "layout": "IPY_MODEL_0f8c2f3fd66b445cb01eca6fb7b40014"
      }
     },
     "3fbfa747fc054513a1fcd79bd190a434": {
      "model_module": "@jupyter-widgets/controls",
      "model_module_version": "1.5.0",
      "model_name": "FloatSliderModel",
      "state": {
       "description": "shininess",
       "layout": "IPY_MODEL_eb99b9068a0b4fbea9ac1db09fa4a2b0",
       "max": 1,
       "step": 0.1,
       "style": "IPY_MODEL_0a92216fb43946efb8d1286765de5dc5",
       "value": 0.2
      }
     },
     "3fd002f5b3f64525ac31a0bb1137d898": {
      "model_module": "@jupyter-widgets/controls",
      "model_module_version": "1.5.0",
      "model_name": "BoundedIntTextModel",
      "state": {
       "description": "index",
       "layout": "IPY_MODEL_32cc9d09f93f4eafbe3258d80eb67367",
       "style": "IPY_MODEL_2dfd38b8db084b6e808f2fe3885239d1",
       "value": 4
      }
     },
     "3fe29caf9acb479c9e156fc6416900ee": {
      "model_module": "@jupyter-widgets/base",
      "model_module_version": "1.2.0",
      "model_name": "LayoutModel",
      "state": {}
     },
     "3feee74276d3421fae01be462715ffc8": {
      "model_module": "@jupyter-widgets/controls",
      "model_module_version": "1.5.0",
      "model_name": "HBoxModel",
      "state": {
       "children": [
        "IPY_MODEL_30ab17fe198743bcad37c908631443f3",
        "IPY_MODEL_669728b8ae5a49c792ed0600cd4c0592"
       ],
       "layout": "IPY_MODEL_2a34b0987a734577a8bdcadf7269f14f"
      }
     },
     "400001ce26a44091af6d5aa8f6ece5c4": {
      "model_module": "@jupyter-widgets/base",
      "model_module_version": "1.2.0",
      "model_name": "LayoutModel",
      "state": {}
     },
     "406c4f5fcf9a45b7be0a39dfef3ec4cb": {
      "model_module": "@jupyter-widgets/controls",
      "model_module_version": "1.5.0",
      "model_name": "DescriptionStyleModel",
      "state": {
       "description_width": ""
      }
     },
     "4070b6a4f5cd4f99ad07e4e2d26cb5f5": {
      "model_module": "@jupyter-widgets/base",
      "model_module_version": "1.2.0",
      "model_name": "LayoutModel",
      "state": {}
     },
     "40af17acda92411d80109dc43358e774": {
      "model_module": "@jupyter-widgets/controls",
      "model_module_version": "1.5.0",
      "model_name": "TabModel",
      "state": {
       "_titles": {
        "0": "leuwenberg.json"
       },
       "children": [
        "IPY_MODEL_d9369247700e41028695aa03301533a3"
       ],
       "layout": "IPY_MODEL_5a1fb8503b2442f9b24cb6b1fece5705"
      }
     },
     "40befa1373cb40898bdffbaa5288d934": {
      "model_module": "@jupyter-widgets/controls",
      "model_module_version": "1.5.0",
      "model_name": "FloatSliderModel",
      "state": {
       "description": "transparency",
       "layout": "IPY_MODEL_e2d4e3a129b248a38ffe2d1416c7c608",
       "max": 1,
       "step": 0.1,
       "style": "IPY_MODEL_155b64497634477a8edde051789b3d07"
      }
     },
     "412f933d3efd4826ba3db6495db8b48b": {
      "model_module": "@jupyter-widgets/controls",
      "model_module_version": "1.5.0",
      "model_name": "FloatSliderModel",
      "state": {
       "description": "diffuse",
       "layout": "IPY_MODEL_6cc2ed97b4ae4a8fa39f1b5d5e75f65c",
       "max": 3,
       "step": 0.1,
       "style": "IPY_MODEL_f3ad812ddc0346fb8c03e99609c5b08f",
       "value": 1
      }
     },
     "41670547e0cb41e29a72d0cf35a2fb90": {
      "model_module": "@jupyter-widgets/base",
      "model_module_version": "1.2.0",
      "model_name": "LayoutModel",
      "state": {}
     },
     "4179d3014a4b4af5abbc2bd84e779656": {
      "model_module": "@jupyter-widgets/controls",
      "model_module_version": "1.5.0",
      "model_name": "FloatSliderModel",
      "state": {
       "description": "diffuse",
       "layout": "IPY_MODEL_f36ebe8df9b842f4971cd6c4aa9c3d8d",
       "max": 1,
       "step": 0.1,
       "style": "IPY_MODEL_86ec7adecb9f49ce84587436150da9e1"
      }
     },
     "4194c689e5fa497f9d21a411b43c0a30": {
      "model_module": "@jupyter-widgets/controls",
      "model_module_version": "1.5.0",
      "model_name": "DescriptionStyleModel",
      "state": {
       "description_width": ""
      }
     },
     "41959d4e3d7e4b15bf2a2b544dfb8cb8": {
      "model_module": "@jupyter-widgets/base",
      "model_module_version": "1.2.0",
      "model_name": "LayoutModel",
      "state": {}
     },
     "41a316cc494844f789d1f1885dfea1cc": {
      "model_module": "@jupyter-widgets/base",
      "model_module_version": "1.2.0",
      "model_name": "LayoutModel",
      "state": {}
     },
     "41a9495cc0b44ca9985500a41664b57b": {
      "model_module": "@jupyter-widgets/base",
      "model_module_version": "1.2.0",
      "model_name": "LayoutModel",
      "state": {}
     },
     "41b11a902f0b4b40b04420b38c31311f": {
      "model_module": "@jupyter-widgets/controls",
      "model_module_version": "1.5.0",
      "model_name": "ColorPickerModel",
      "state": {
       "description": "emission",
       "disabled": false,
       "layout": "IPY_MODEL_9c1b63865e5a45d18756981388ce642e",
       "style": "IPY_MODEL_87184acfec304db28ea1dafadf28a35a",
       "value": "#000000"
      }
     },
     "42053ffc262a4b7ca6d5549dd52e5f82": {
      "model_module": "@jupyter-widgets/controls",
      "model_module_version": "1.5.0",
      "model_name": "ButtonStyleModel",
      "state": {}
     },
     "42244a39a43e44af8d0981041971bd43": {
      "model_module": "@jupyter-widgets/controls",
      "model_module_version": "1.5.0",
      "model_name": "ButtonModel",
      "state": {
       "description": "Delete",
       "layout": "IPY_MODEL_5a032c8514ac4d08912be34f2f11f8b7",
       "style": "IPY_MODEL_7cefc07d6fe842f6a3545403437ee85c"
      }
     },
     "423698a7ab364e4eb42c2c29a7b969ca": {
      "model_module": "@jupyter-widgets/controls",
      "model_module_version": "1.5.0",
      "model_name": "TextModel",
      "state": {
       "continuous_update": false,
       "description": "name",
       "layout": "IPY_MODEL_843d232c0d744220baf876a775c2e1cb",
       "style": "IPY_MODEL_95285ace6cf8407181cfa8f962493b2f",
       "value": "color_2"
      }
     },
     "425f0c41e24249038f40431856835760": {
      "model_module": "@jupyter-widgets/base",
      "model_module_version": "1.2.0",
      "model_name": "LayoutModel",
      "state": {}
     },
     "427383259b4d4535a26d6c9eb2934351": {
      "model_module": "@jupyter-widgets/controls",
      "model_module_version": "1.5.0",
      "model_name": "HBoxModel",
      "state": {
       "children": [
        "IPY_MODEL_ba4aacd962c3424bb9c0f68534aa3e0d",
        "IPY_MODEL_cd77b31c82ae4308a7dee1cb7a773029"
       ],
       "layout": "IPY_MODEL_41959d4e3d7e4b15bf2a2b544dfb8cb8"
      }
     },
     "427d097412484fceae97c3dd6c844acc": {
      "model_module": "@jupyter-widgets/controls",
      "model_module_version": "1.5.0",
      "model_name": "IntTextModel",
      "state": {
       "description": "max",
       "layout": "IPY_MODEL_277e1c3b192e46bc80b2c9fdc04a3809",
       "step": 1,
       "style": "IPY_MODEL_7b0918e49d604b81ada52763819da361",
       "value": 10
      }
     },
     "427d650961a94ebc940f5d364721d046": {
      "model_module": "@jupyter-widgets/controls",
      "model_module_version": "1.5.0",
      "model_name": "BoundedIntTextModel",
      "state": {
       "description": "step",
       "layout": "IPY_MODEL_a66d925434884203a2d16ec0b78649fa",
       "min": 1,
       "style": "IPY_MODEL_6123c57c0dbe4538b3dd7c1dd9f725aa",
       "value": 1
      }
     },
     "428c2ac17d184a2c9179180861f4e079": {
      "model_module": "@jupyter-widgets/controls",
      "model_module_version": "1.5.0",
      "model_name": "DescriptionStyleModel",
      "state": {
       "description_width": ""
      }
     },
     "428c33889979493ca7367d4a363d4e8e": {
      "model_module": "@jupyter-widgets/base",
      "model_module_version": "1.2.0",
      "model_name": "LayoutModel",
      "state": {}
     },
     "42b652c914bc4e5783ca5e279c1edf79": {
      "model_module": "@jupyter-widgets/controls",
      "model_module_version": "1.5.0",
      "model_name": "IntTextModel",
      "state": {
       "description": "max",
       "layout": "IPY_MODEL_01c2c3d784ba4c3586966258acb9a965",
       "step": 1,
       "style": "IPY_MODEL_4ce1d4b998fa4aafa836b0a353cee503",
       "value": 10
      }
     },
     "430ad03cb7ce4f0ab57a9a08ef3d88f6": {
      "model_module": "@jupyter-widgets/controls",
      "model_module_version": "1.5.0",
      "model_name": "BoundedIntTextModel",
      "state": {
       "description": "step",
       "layout": "IPY_MODEL_436084d1bc184165b5f3fd1a26ab0b3d",
       "min": 1,
       "style": "IPY_MODEL_f898b070d6ac4e47a46cbbc570057c34",
       "value": 1
      }
     },
     "43131247b7e14a68ab8fcc463f36f298": {
      "model_module": "@jupyter-widgets/base",
      "model_module_version": "1.2.0",
      "model_name": "LayoutModel",
      "state": {}
     },
     "4316ef0ebc0d4fdeaf2805c281c2673b": {
      "model_module": "@jupyter-widgets/base",
      "model_module_version": "1.2.0",
      "model_name": "LayoutModel",
      "state": {}
     },
     "434e488f2f084061b752baac7b2e3593": {
      "model_module": "@jupyter-widgets/controls",
      "model_module_version": "1.5.0",
      "model_name": "DescriptionStyleModel",
      "state": {
       "description_width": ""
      }
     },
     "43549f41e5014f1b8e4085c1f75d13fd": {
      "model_module": "@jupyter-widgets/controls",
      "model_module_version": "1.5.0",
      "model_name": "VBoxModel",
      "state": {
       "children": [
        "IPY_MODEL_fc0f9963ea854eb79fd8a7a1cc7683ef",
        "IPY_MODEL_8c797f1b8bae4158b37abc7b83f5ff4b"
       ],
       "layout": "IPY_MODEL_e3353b3f6a96456abf71214c6267576a"
      }
     },
     "436084d1bc184165b5f3fd1a26ab0b3d": {
      "model_module": "@jupyter-widgets/base",
      "model_module_version": "1.2.0",
      "model_name": "LayoutModel",
      "state": {}
     },
     "4394ce4c24694818ad5c06e15932e88b": {
      "model_module": "@jupyter-widgets/base",
      "model_module_version": "1.2.0",
      "model_name": "LayoutModel",
      "state": {
       "margin": "20px 0px"
      }
     },
     "43ba10cfef5647dcacc79b7e087bba31": {
      "model_module": "@jupyter-widgets/controls",
      "model_module_version": "1.5.0",
      "model_name": "SliderStyleModel",
      "state": {
       "description_width": ""
      }
     },
     "43c13428f9a944b8a460d54eae5ad873": {
      "model_module": "pgljupyter",
      "model_module_version": "^0.1.2",
      "model_name": "FloatEditorModel",
      "state": {
       "_model_module_version": "^0.1.2",
       "_view_module_version": "^0.1.2",
       "children": [
        "IPY_MODEL_34a7af6b22db40fbbd501ad6986ec371",
        "IPY_MODEL_afd9593ec0b84617b0ed87c718ceb620",
        "IPY_MODEL_d8d05d5a29a74efe9d2384ef9c0949d6",
        "IPY_MODEL_05baa82cf2bd4d19ae29886c495c838c",
        "IPY_MODEL_d0804158d8994796a57cce09e55d1e9d"
       ],
       "layout": "IPY_MODEL_b25e2955a34f4430becede98d6b4bc0e"
      }
     },
     "440e9464b6eb4f4fb443c6545b37e912": {
      "model_module": "@jupyter-widgets/controls",
      "model_module_version": "1.5.0",
      "model_name": "DescriptionStyleModel",
      "state": {
       "description_width": ""
      }
     },
     "44285d7230f445bf98197d64a341fe02": {
      "model_module": "@jupyter-widgets/controls",
      "model_module_version": "1.5.0",
      "model_name": "TextModel",
      "state": {
       "continuous_update": false,
       "description": "name",
       "layout": "IPY_MODEL_9f247c4d28cb495a854778e40397c2d2",
       "style": "IPY_MODEL_33a31a3d3fcc46a9b9009df9149904a8",
       "value": "nb_axes"
      }
     },
     "4436f651659b406a9729e3aea8eec212": {
      "model_module": "@jupyter-widgets/controls",
      "model_module_version": "1.5.0",
      "model_name": "SliderStyleModel",
      "state": {
       "description_width": ""
      }
     },
     "44427af51cdb480bbe602ebf860ada76": {
      "model_module": "@jupyter-widgets/base",
      "model_module_version": "1.2.0",
      "model_name": "LayoutModel",
      "state": {}
     },
     "4452954c947d4500a16a79d71d3c2e7b": {
      "model_module": "pgljupyter",
      "model_module_version": "^0.1.2",
      "model_name": "CurveEditorModel",
      "state": {
       "_model_module_version": "^0.1.2",
       "_view_module_version": "^0.1.2",
       "children": [
        "IPY_MODEL_d3548b90ef3247ad9a07bc040218e2ba",
        "IPY_MODEL_9dded11f5a544de8be867b50bfcc065d"
       ],
       "layout": "IPY_MODEL_1834dc530a084c8498f3cad2f679f317"
      }
     },
     "448c332b1c5342fd9bce0ad5b482ea89": {
      "model_module": "pgljupyter",
      "model_module_version": "^0.1.15",
      "model_name": "IntEditorModel",
      "state": {
       "_model_module_version": "^0.1.15",
       "_view_module_version": "^0.1.15",
       "children": [
        "IPY_MODEL_eaa860c3bae5461e94198d4aae2d4132",
        "IPY_MODEL_721faf8ca03f4130857ab5d1617321c1",
        "IPY_MODEL_9411d65f9b7040b2b0e3ebb42aab2427",
        "IPY_MODEL_9a87dbf353fe45c6812f7613ed5ca210",
        "IPY_MODEL_430ad03cb7ce4f0ab57a9a08ef3d88f6"
       ],
       "layout": "IPY_MODEL_8e2e88ac36b94bc5a3666e023224bcb9"
      }
     },
     "4496978ebaf74413b5605902d2da87b2": {
      "model_module": "@jupyter-widgets/base",
      "model_module_version": "1.2.0",
      "model_name": "LayoutModel",
      "state": {}
     },
     "449ac70071344a398277bc4697cee9d9": {
      "model_module": "@jupyter-widgets/controls",
      "model_module_version": "1.5.0",
      "model_name": "ButtonStyleModel",
      "state": {}
     },
     "44c48867d3644253bcc2828215a4b906": {
      "model_module": "@jupyter-widgets/base",
      "model_module_version": "1.2.0",
      "model_name": "LayoutModel",
      "state": {}
     },
     "45249b3ec9cf468b928f4b5e1c4e6691": {
      "model_module": "@jupyter-widgets/base",
      "model_module_version": "1.2.0",
      "model_name": "LayoutModel",
      "state": {
       "margin": "20px 0px"
      }
     },
     "452cb761aa3c45988ae224ff962dda55": {
      "model_module": "@jupyter-widgets/controls",
      "model_module_version": "1.5.0",
      "model_name": "DescriptionStyleModel",
      "state": {
       "description_width": ""
      }
     },
     "454744f440884dbe8fd5de90ab369132": {
      "model_module": "@jupyter-widgets/controls",
      "model_module_version": "1.5.0",
      "model_name": "HBoxModel",
      "state": {
       "layout": "IPY_MODEL_f583c73dcf62478eaadd3ea0a6bf751a"
      }
     },
     "4549005cc94d43fa8ee253c745db81e6": {
      "model_module": "@jupyter-widgets/controls",
      "model_module_version": "1.5.0",
      "model_name": "FloatSliderModel",
      "state": {
       "description": "shininess",
       "layout": "IPY_MODEL_a9e495d158fd4c2797a1660c8258b879",
       "max": 1,
       "step": 0.1,
       "style": "IPY_MODEL_d2780868916644af85bc2dde32b917dc",
       "value": 0.2
      }
     },
     "4577152e2c1e4585949677ce08cc6a38": {
      "model_module": "@jupyter-widgets/controls",
      "model_module_version": "1.5.0",
      "model_name": "DescriptionStyleModel",
      "state": {
       "description_width": ""
      }
     },
     "4582f038b2014974a160502d5dbeaf9d": {
      "model_module": "@jupyter-widgets/controls",
      "model_module_version": "1.5.0",
      "model_name": "TextModel",
      "state": {
       "continuous_update": false,
       "description": "name",
       "layout": "IPY_MODEL_3f238a5fcc604191bc5b4736381148d8",
       "style": "IPY_MODEL_d02de77550284a6da1474d5305e95a37",
       "value": "leafold"
      }
     },
     "45970305473848b9995b6823545def77": {
      "model_module": "@jupyter-widgets/controls",
      "model_module_version": "1.5.0",
      "model_name": "HBoxModel",
      "state": {
       "children": [
        "IPY_MODEL_a6154bb682994037a3e9c4cd246be6e4",
        "IPY_MODEL_172d24bdeae5405a87e01faf7c467b74"
       ],
       "layout": "IPY_MODEL_20445554b4884e7c8d6af428872f4c15"
      }
     },
     "459840c1039c40659fd49f4c086acc29": {
      "model_module": "@jupyter-widgets/controls",
      "model_module_version": "1.5.0",
      "model_name": "FloatSliderModel",
      "state": {
       "description": "transparency",
       "layout": "IPY_MODEL_7bfa05f9b9ea414c9d631dd7c3d53fb0",
       "max": 1,
       "step": 0.1,
       "style": "IPY_MODEL_94e00aab9f27448caa364586229589bf"
      }
     },
     "45d4a87bfe9d4228a79ed4d8cd154777": {
      "model_module": "@jupyter-widgets/controls",
      "model_module_version": "1.5.0",
      "model_name": "DescriptionStyleModel",
      "state": {
       "description_width": ""
      }
     },
     "45e1ea1dbfc64beab96c70595ac656ea": {
      "model_module": "@jupyter-widgets/base",
      "model_module_version": "1.2.0",
      "model_name": "LayoutModel",
      "state": {}
     },
     "45eab33145994f5ba739b30b1b0ebf80": {
      "model_module": "@jupyter-widgets/controls",
      "model_module_version": "1.5.0",
      "model_name": "DescriptionStyleModel",
      "state": {
       "description_width": ""
      }
     },
     "45fda64537864956b96ca712540b6091": {
      "model_module": "@jupyter-widgets/controls",
      "model_module_version": "1.5.0",
      "model_name": "FloatSliderModel",
      "state": {
       "description": "shininess",
       "layout": "IPY_MODEL_2bf3331faa364b30ad1034ed79e8c07a",
       "max": 1,
       "step": 0.1,
       "style": "IPY_MODEL_4ace57041c8b423a83c531503ab0e2fd",
       "value": 0.2
      }
     },
     "46417aba5b154cc0812b5f7be9e2e2f9": {
      "model_module": "@jupyter-widgets/controls",
      "model_module_version": "1.5.0",
      "model_name": "DescriptionStyleModel",
      "state": {
       "description_width": ""
      }
     },
     "4658c5b125bd4e559cc57814c7b0cd46": {
      "model_module": "@jupyter-widgets/controls",
      "model_module_version": "1.5.0",
      "model_name": "DescriptionStyleModel",
      "state": {
       "description_width": ""
      }
     },
     "467114e3ce3b42da87398599a547cda2": {
      "model_module": "@jupyter-widgets/base",
      "model_module_version": "1.2.0",
      "model_name": "LayoutModel",
      "state": {
       "flex_flow": "row wrap"
      }
     },
     "46bdc2ae0d2545468a3d1f00ad7a90d8": {
      "model_module": "@jupyter-widgets/controls",
      "model_module_version": "1.5.0",
      "model_name": "ButtonModel",
      "state": {
       "description": "Delete category",
       "layout": "IPY_MODEL_085cf00af7e74f6a8bdf8faa2bd45c79",
       "style": "IPY_MODEL_eeb63f88ae9c40f29096db1ae83b5a51"
      }
     },
     "46c02970a0b445b38cdd36e997fef5a9": {
      "model_module": "pgljupyter",
      "model_module_version": "^0.1.15",
      "model_name": "IntEditorModel",
      "state": {
       "_model_module_version": "^0.1.15",
       "_view_module_version": "^0.1.15",
       "children": [
        "IPY_MODEL_c23008d679574da89dc26ec437607d60",
        "IPY_MODEL_4ef04b643d17458ea94b3439df5b4633",
        "IPY_MODEL_9d203e25536a4c0dad39d28a5110f7cf",
        "IPY_MODEL_3cdac3fb61654b188cd59f6063f7bfd5",
        "IPY_MODEL_ec2d883dccfb49909c2358463c0faa7b"
       ],
       "layout": "IPY_MODEL_4394ce4c24694818ad5c06e15932e88b"
      }
     },
     "46c1e94970374dc1a9354bd3aa90c194": {
      "model_module": "@jupyter-widgets/base",
      "model_module_version": "1.2.0",
      "model_name": "LayoutModel",
      "state": {}
     },
     "46d1cd7f23914e049f8f2dca8181b1e4": {
      "model_module": "@jupyter-widgets/controls",
      "model_module_version": "1.5.0",
      "model_name": "DescriptionStyleModel",
      "state": {
       "description_width": ""
      }
     },
     "46d4a42297fb4b649abab841c2500d21": {
      "model_module": "@jupyter-widgets/controls",
      "model_module_version": "1.5.0",
      "model_name": "DescriptionStyleModel",
      "state": {
       "description_width": ""
      }
     },
     "46fb2e05451a4a3786d99758ee653a81": {
      "model_module": "@jupyter-widgets/controls",
      "model_module_version": "1.5.0",
      "model_name": "ButtonStyleModel",
      "state": {}
     },
     "471581ae848649c4b2d3b9f91531c7c1": {
      "model_module": "@jupyter-widgets/base",
      "model_module_version": "1.2.0",
      "model_name": "LayoutModel",
      "state": {}
     },
     "4715b92f67bf4365ba67c7f44dfa24e1": {
      "model_module": "@jupyter-widgets/base",
      "model_module_version": "1.2.0",
      "model_name": "LayoutModel",
      "state": {}
     },
     "4715df1b0b834bf098b71011425a052b": {
      "model_module": "@jupyter-widgets/controls",
      "model_module_version": "1.5.0",
      "model_name": "BoundedFloatTextModel",
      "state": {
       "description": "step",
       "layout": "IPY_MODEL_1197ccef20ad42c09a38c91de1f4c7e7",
       "max": 1,
       "min": 0.01,
       "step": 0.01,
       "style": "IPY_MODEL_742dfafade604ead88df5aeb395d062f",
       "value": 0.01
      }
     },
     "47214f6427f7418fbaf69a73417a8a32": {
      "model_module": "@jupyter-widgets/base",
      "model_module_version": "1.2.0",
      "model_name": "LayoutModel",
      "state": {}
     },
     "472a677be1f44cb590714223cbed0472": {
      "model_module": "@jupyter-widgets/controls",
      "model_module_version": "1.5.0",
      "model_name": "ButtonModel",
      "state": {
       "description": "Add",
       "layout": "IPY_MODEL_61a348d649c34723ba3ac6274b9522dd",
       "style": "IPY_MODEL_ca7c6a5029e84e83b82b6b58a837603a"
      }
     },
     "475ea1005c6f4cef94b9c3bc20e288f2": {
      "model_module": "@jupyter-widgets/controls",
      "model_module_version": "1.5.0",
      "model_name": "FloatSliderModel",
      "state": {
       "description": "value",
       "layout": "IPY_MODEL_2d265faab78c49f1beb10d103398cb8c",
       "max": 0.1,
       "min": 0.01,
       "step": 0.01,
       "style": "IPY_MODEL_f400d27020cd4b748fb4b74761f1a700",
       "value": 0.02
      }
     },
     "4761172f3749483cbbf99a49a939a346": {
      "model_module": "@jupyter-widgets/controls",
      "model_module_version": "1.5.0",
      "model_name": "BoundedIntTextModel",
      "state": {
       "description": "step",
       "layout": "IPY_MODEL_ae7f41ebd31d48658e44eb1c8fdb7355",
       "min": 1,
       "style": "IPY_MODEL_0d82249869a5456baf3f333224c814c4",
       "value": 1
      }
     },
     "47a0a6cf6ba74bd2a755cd7fb7f79fbd": {
      "model_module": "@jupyter-widgets/base",
      "model_module_version": "1.2.0",
      "model_name": "LayoutModel",
      "state": {}
     },
     "47a4fec59d7e455f92e0d2f33134871e": {
      "model_module": "@jupyter-widgets/controls",
      "model_module_version": "1.5.0",
      "model_name": "DescriptionStyleModel",
      "state": {
       "description_width": ""
      }
     },
     "47afa44d41864f5d83f07650c61ec59f": {
      "model_module": "@jupyter-widgets/controls",
      "model_module_version": "1.5.0",
      "model_name": "SliderStyleModel",
      "state": {
       "description_width": ""
      }
     },
     "47cb7b4de5824b358257695b5b3b3cb0": {
      "model_module": "@jupyter-widgets/controls",
      "model_module_version": "1.5.0",
      "model_name": "DropdownModel",
      "state": {
       "index": null,
       "layout": "IPY_MODEL_b77fc977ca7142e2b387d65726ea5b6d",
       "style": "IPY_MODEL_00c9715e89e84a8695f2a58c15fd7688"
      }
     },
     "484b8fd868c54a1682e3cd09055dd983": {
      "model_module": "@jupyter-widgets/base",
      "model_module_version": "1.2.0",
      "model_name": "LayoutModel",
      "state": {}
     },
     "48586a848e08438299ebded38fec8f84": {
      "model_module": "@jupyter-widgets/controls",
      "model_module_version": "1.5.0",
      "model_name": "TextModel",
      "state": {
       "continuous_update": false,
       "description": "name",
       "layout": "IPY_MODEL_57230574f43049439fd4745f0cb973e6",
       "style": "IPY_MODEL_049e05cafeb2474591d9e039d80871b7",
       "value": "color_3"
      }
     },
     "4889d8549d154d60ae2edc1b70593bdc": {
      "model_module": "@jupyter-widgets/base",
      "model_module_version": "1.2.0",
      "model_name": "LayoutModel",
      "state": {}
     },
     "48bdb719082748ef91def7da3aa3a65a": {
      "model_module": "@jupyter-widgets/controls",
      "model_module_version": "1.5.0",
      "model_name": "DescriptionStyleModel",
      "state": {
       "description_width": ""
      }
     },
     "48c1f53971054738990806ae620d7667": {
      "model_module": "@jupyter-widgets/controls",
      "model_module_version": "1.5.0",
      "model_name": "CheckboxModel",
      "state": {
       "description": "Auto save",
       "disabled": false,
       "layout": "IPY_MODEL_3828bc81eaf447458079ef13d518f1d6",
       "style": "IPY_MODEL_6666188aa3f4449999d1694b25ad41ee",
       "value": false
      }
     },
     "48fa7d5246f84c32983c2aa30b6a5fe3": {
      "model_module": "@jupyter-widgets/controls",
      "model_module_version": "1.5.0",
      "model_name": "FloatSliderModel",
      "state": {
       "description": "diffuse",
       "layout": "IPY_MODEL_2b0d195736a947c6824fe8e3dd4b371d",
       "max": 3,
       "step": 0.1,
       "style": "IPY_MODEL_becba79366b5420a8c53ba83c460bc64",
       "value": 1
      }
     },
     "4919409bbefe4b55b628a112688032dd": {
      "model_module": "@jupyter-widgets/base",
      "model_module_version": "1.2.0",
      "model_name": "LayoutModel",
      "state": {
       "flex_flow": "row wrap"
      }
     },
     "493d5a5387c94ff6bb50e2aaa48fcbf4": {
      "model_module": "@jupyter-widgets/base",
      "model_module_version": "1.2.0",
      "model_name": "LayoutModel",
      "state": {}
     },
     "4944abeee5e845109317d2a65436e81b": {
      "model_module": "@jupyter-widgets/base",
      "model_module_version": "1.2.0",
      "model_name": "LayoutModel",
      "state": {}
     },
     "495f10771eef4549898415516d4b7a7a": {
      "model_module": "@jupyter-widgets/controls",
      "model_module_version": "1.5.0",
      "model_name": "DescriptionStyleModel",
      "state": {
       "description_width": ""
      }
     },
     "49a1436ad4014b5a8af052e018127e24": {
      "model_module": "@jupyter-widgets/controls",
      "model_module_version": "1.5.0",
      "model_name": "FloatSliderModel",
      "state": {
       "description": "transparency",
       "layout": "IPY_MODEL_e814128cb3ca406599575becc4a69bc2",
       "max": 1,
       "step": 0.1,
       "style": "IPY_MODEL_c13f341ad092459384f2c9ee63f72ecf"
      }
     },
     "49d765156c8d405a9d5045aaad000d89": {
      "model_module": "@jupyter-widgets/controls",
      "model_module_version": "1.5.0",
      "model_name": "FloatSliderModel",
      "state": {
       "description": "transparency",
       "layout": "IPY_MODEL_6810e648aef64abea58b5d98674de0b8",
       "max": 1,
       "step": 0.1,
       "style": "IPY_MODEL_43ba10cfef5647dcacc79b7e087bba31"
      }
     },
     "49dbac54c4d6481ba32cd961140796cc": {
      "model_module": "@jupyter-widgets/base",
      "model_module_version": "1.2.0",
      "model_name": "LayoutModel",
      "state": {}
     },
     "4a5f0d59e1dc4fbfa2d0976edaa02825": {
      "model_module": "@jupyter-widgets/controls",
      "model_module_version": "1.5.0",
      "model_name": "DescriptionStyleModel",
      "state": {
       "description_width": ""
      }
     },
     "4a6bfe8fa14e4d6d8f21ff443d32be77": {
      "model_module": "@jupyter-widgets/base",
      "model_module_version": "1.2.0",
      "model_name": "LayoutModel",
      "state": {}
     },
     "4a7a99489c5a42579c34d1355f0f4a43": {
      "model_module": "@jupyter-widgets/base",
      "model_module_version": "1.2.0",
      "model_name": "LayoutModel",
      "state": {
       "margin": "20px 0px"
      }
     },
     "4a918c9202a0476caad374619efcf855": {
      "model_module": "@jupyter-widgets/controls",
      "model_module_version": "1.5.0",
      "model_name": "HBoxModel",
      "state": {
       "children": [
        "IPY_MODEL_9d6be6a3893b409585f8da9214f2401d",
        "IPY_MODEL_a0da1a97ad364133b23633c7924c8382"
       ],
       "layout": "IPY_MODEL_63b4947d7fa1417cae7c1d3f084d49d5"
      }
     },
     "4ab95f25721548e9a6f9af0e22f82169": {
      "model_module": "@jupyter-widgets/base",
      "model_module_version": "1.2.0",
      "model_name": "LayoutModel",
      "state": {}
     },
     "4aba2e85b8af42d09505d45dc60b1952": {
      "model_module": "@jupyter-widgets/controls",
      "model_module_version": "1.5.0",
      "model_name": "DescriptionStyleModel",
      "state": {
       "description_width": ""
      }
     },
     "4ac56b5ed832493daf1b1c6ea2307ae4": {
      "model_module": "@jupyter-widgets/base",
      "model_module_version": "1.2.0",
      "model_name": "LayoutModel",
      "state": {}
     },
     "4acc7b98a51f43498f9bddac5e91d64d": {
      "model_module": "@jupyter-widgets/controls",
      "model_module_version": "1.5.0",
      "model_name": "DescriptionStyleModel",
      "state": {
       "description_width": ""
      }
     },
     "4acdde3cfbf843c8afbee44ec9794ebd": {
      "model_module": "@jupyter-widgets/controls",
      "model_module_version": "1.5.0",
      "model_name": "DescriptionStyleModel",
      "state": {
       "description_width": ""
      }
     },
     "4ace57041c8b423a83c531503ab0e2fd": {
      "model_module": "@jupyter-widgets/controls",
      "model_module_version": "1.5.0",
      "model_name": "SliderStyleModel",
      "state": {
       "description_width": ""
      }
     },
     "4ade1c185619410ba023ba5776236f1d": {
      "model_module": "@jupyter-widgets/controls",
      "model_module_version": "1.5.0",
      "model_name": "ButtonStyleModel",
      "state": {}
     },
     "4b062199493449db918342e17a6ad7bc": {
      "model_module": "@jupyter-widgets/controls",
      "model_module_version": "1.5.0",
      "model_name": "VBoxModel",
      "state": {
       "children": [
        "IPY_MODEL_c6a2f506d2404d8088d464eb5aac551f",
        "IPY_MODEL_d0db5afd7c894db69b4bee3c7f83608a",
        "IPY_MODEL_68c85118ad164578b30b1f973b2d8833",
        "IPY_MODEL_059cd3ead9c84420a00546dd6da8188f",
        "IPY_MODEL_c5f1bf80981a4895b92f6fc2fecafac2"
       ],
       "layout": "IPY_MODEL_516f3839490b488c85bfa092f7f73e64"
      }
     },
     "4b3a9d9aa43144fca24393575055b6a0": {
      "model_module": "@jupyter-widgets/base",
      "model_module_version": "1.2.0",
      "model_name": "LayoutModel",
      "state": {
       "margin": "20px 0px"
      }
     },
     "4b64ee9c6a43480d901f5465b9f72678": {
      "model_module": "@jupyter-widgets/controls",
      "model_module_version": "1.5.0",
      "model_name": "ButtonStyleModel",
      "state": {}
     },
     "4b68990f7c95481cba2019dad4acc95d": {
      "model_module": "@jupyter-widgets/base",
      "model_module_version": "1.2.0",
      "model_name": "LayoutModel",
      "state": {}
     },
     "4bb5152921ff467eb98069888ebdc40f": {
      "model_module": "@jupyter-widgets/controls",
      "model_module_version": "1.5.0",
      "model_name": "SliderStyleModel",
      "state": {
       "description_width": ""
      }
     },
     "4bbbae79a86144d493f18b5c2c7594dc": {
      "model_module": "@jupyter-widgets/base",
      "model_module_version": "1.2.0",
      "model_name": "LayoutModel",
      "state": {}
     },
     "4bbf9796d2664dea8f716881991aa235": {
      "model_module": "@jupyter-widgets/controls",
      "model_module_version": "1.5.0",
      "model_name": "DescriptionStyleModel",
      "state": {
       "description_width": ""
      }
     },
     "4bc1579957df4870a26abbbe1e8fbf81": {
      "model_module": "@jupyter-widgets/base",
      "model_module_version": "1.2.0",
      "model_name": "LayoutModel",
      "state": {}
     },
     "4be148f1dade41df8aa2d9133a1bbff0": {
      "model_module": "@jupyter-widgets/controls",
      "model_module_version": "1.5.0",
      "model_name": "ButtonStyleModel",
      "state": {}
     },
     "4c154ed5ea0a4587b249ab7056c08fdc": {
      "model_module": "@jupyter-widgets/controls",
      "model_module_version": "1.5.0",
      "model_name": "HBoxModel",
      "state": {
       "children": [
        "IPY_MODEL_ba6ffbbd198d4f2e9c4f5d9e8e3ebf2d",
        "IPY_MODEL_dcea2b99d9944220b22f37d52109546b"
       ],
       "layout": "IPY_MODEL_cc4602be131e4492acb64ba68499006c"
      }
     },
     "4c33b2ff3f1c47ffb18a56039702b03b": {
      "model_module": "@jupyter-widgets/base",
      "model_module_version": "1.2.0",
      "model_name": "LayoutModel",
      "state": {}
     },
     "4c435ed771c04737948778a318d5b9c6": {
      "model_module": "@jupyter-widgets/controls",
      "model_module_version": "1.5.0",
      "model_name": "DescriptionStyleModel",
      "state": {
       "description_width": ""
      }
     },
     "4c8db41d749847e5a3305abcaf3731a3": {
      "model_module": "@jupyter-widgets/controls",
      "model_module_version": "1.5.0",
      "model_name": "IntTextModel",
      "state": {
       "description": "min",
       "layout": "IPY_MODEL_1d3a1be6a6084091b6a39ee2a8027c89",
       "step": 1,
       "style": "IPY_MODEL_0a24786ecfbe4e24a5250a48a1b6d358",
       "value": 1
      }
     },
     "4cac230d4876411e82e2ea5b2b79b111": {
      "model_module": "@jupyter-widgets/controls",
      "model_module_version": "1.5.0",
      "model_name": "HBoxModel",
      "state": {
       "children": [
        "IPY_MODEL_c6c38b9699364b648e6e76560766896f",
        "IPY_MODEL_50710a5f35964ad89d98247d33e85c08"
       ],
       "layout": "IPY_MODEL_e0ad26a041054212b2d074504dff1994"
      }
     },
     "4cc5aa1352eb432da719b2ae2e9fe4e8": {
      "model_module": "@jupyter-widgets/base",
      "model_module_version": "1.2.0",
      "model_name": "LayoutModel",
      "state": {}
     },
     "4ccd58c794d4443dbe55872516e36d08": {
      "model_module": "@jupyter-widgets/controls",
      "model_module_version": "1.5.0",
      "model_name": "FloatSliderModel",
      "state": {
       "description": "shininess",
       "layout": "IPY_MODEL_e0d3b484200b4472a943c361ea5e1294",
       "max": 1,
       "step": 0.1,
       "style": "IPY_MODEL_54b30b3e72bb46fda919a34e55895666",
       "value": 0.7
      }
     },
     "4ce1d4b998fa4aafa836b0a353cee503": {
      "model_module": "@jupyter-widgets/controls",
      "model_module_version": "1.5.0",
      "model_name": "DescriptionStyleModel",
      "state": {
       "description_width": ""
      }
     },
     "4cea94109a014432967a3e489cb42c8f": {
      "model_module": "@jupyter-widgets/controls",
      "model_module_version": "1.5.0",
      "model_name": "DescriptionStyleModel",
      "state": {
       "description_width": ""
      }
     },
     "4d1384563f59422491a12fe1ae288581": {
      "model_module": "@jupyter-widgets/controls",
      "model_module_version": "1.5.0",
      "model_name": "HBoxModel",
      "state": {
       "children": [
        "IPY_MODEL_1887cc7298b24d14826641b5481a0943",
        "IPY_MODEL_8521421917f24da6b6dadd3024bc4b3c"
       ],
       "layout": "IPY_MODEL_8a8447a78e8d49cbbb6bc89f112759f5"
      }
     },
     "4d1f844aad4a47be881a3d299b0dadd9": {
      "model_module": "@jupyter-widgets/controls",
      "model_module_version": "1.5.0",
      "model_name": "VBoxModel",
      "state": {
       "children": [
        "IPY_MODEL_666da6f2049d435a8e672be645d8678c",
        "IPY_MODEL_53574809ba6344c7a775dc59058ce88a"
       ],
       "layout": "IPY_MODEL_7931cbb1b7f84c078adc87547cd011ae"
      }
     },
     "4d2ec917d4624cc58fc5820d4c7f238b": {
      "model_module": "@jupyter-widgets/controls",
      "model_module_version": "1.5.0",
      "model_name": "DescriptionStyleModel",
      "state": {
       "description_width": ""
      }
     },
     "4d3adee22f5f4e3cb92c8ce61c1923f1": {
      "model_module": "@jupyter-widgets/controls",
      "model_module_version": "1.5.0",
      "model_name": "SliderStyleModel",
      "state": {
       "description_width": ""
      }
     },
     "4d778b7bf0634f95a71cbc70662ac093": {
      "model_module": "@jupyter-widgets/controls",
      "model_module_version": "1.5.0",
      "model_name": "DescriptionStyleModel",
      "state": {
       "description_width": ""
      }
     },
     "4db88b4aa5fb42a5b872196a8c76eb37": {
      "model_module": "pgljupyter",
      "model_module_version": "^0.1.2",
      "model_name": "_CurveEditorModel",
      "state": {
       "_model_module_version": "^0.1.2",
       "_view_module_version": "^0.1.2",
       "control_points": [
        [
         -0.5,
         0
        ],
        [
         -0.25,
         0.25
        ],
        [
         0.11363636363636365,
         -0.19545454545454544
        ],
        [
         0.25,
         0.25
        ],
        [
         0.5,
         0
        ]
       ],
       "curve_type": "NurbsCurve2D",
       "is_function": true,
       "layout": "IPY_MODEL_10589094c39140b8919a9555a61f9f09"
      }
     },
     "4dbbec1ba4df4a18a3c1e89398b3495e": {
      "model_module": "@jupyter-widgets/controls",
      "model_module_version": "1.5.0",
      "model_name": "SliderStyleModel",
      "state": {
       "description_width": ""
      }
     },
     "4dcf6f69930d49be872b838aed6b60ef": {
      "model_module": "@jupyter-widgets/base",
      "model_module_version": "1.2.0",
      "model_name": "LayoutModel",
      "state": {}
     },
     "4ded6f0e10d44e918caea6634ec2fab5": {
      "model_module": "@jupyter-widgets/base",
      "model_module_version": "1.2.0",
      "model_name": "LayoutModel",
      "state": {
       "margin": "20px 0px"
      }
     },
     "4e11d08066c84be89e1aa8c50a0556bf": {
      "model_module": "@jupyter-widgets/base",
      "model_module_version": "1.2.0",
      "model_name": "LayoutModel",
      "state": {}
     },
     "4e5a818d53444e98a18796f935a62117": {
      "model_module": "@jupyter-widgets/controls",
      "model_module_version": "1.5.0",
      "model_name": "DescriptionStyleModel",
      "state": {
       "description_width": ""
      }
     },
     "4e7474fa8fc74b8f9998ac5e83c24e80": {
      "model_module": "@jupyter-widgets/controls",
      "model_module_version": "1.5.0",
      "model_name": "SliderStyleModel",
      "state": {
       "description_width": ""
      }
     },
     "4e86c5219d294c57ab600aa584017672": {
      "model_module": "@jupyter-widgets/controls",
      "model_module_version": "1.5.0",
      "model_name": "TextModel",
      "state": {
       "continuous_update": false,
       "description": "name",
       "layout": "IPY_MODEL_72fd6442e28246fd8302b6baef0b974c",
       "style": "IPY_MODEL_1c9ae3d4b63b45b6a6e45aa235c587ac",
       "value": "nb_axes"
      }
     },
     "4e8d1d5dc75349a687367ab1a1036add": {
      "model_module": "pgljupyter",
      "model_module_version": "^0.1.15",
      "model_name": "MaterialEditorModel",
      "state": {
       "_model_module_version": "^0.1.15",
       "_view_module_version": "^0.1.15",
       "children": [
        "IPY_MODEL_ec6f227e1d1849c6b081b477e8c87086",
        "IPY_MODEL_c2d5788df88a4bffa01ec27cdf0aec8e",
        "IPY_MODEL_90a47df4dba34d57b516a9080888680e",
        "IPY_MODEL_d753d848f55f4e2b94e8fb42928aeb59",
        "IPY_MODEL_98f8b3c6f7c54cba99d0142498298b0a",
        "IPY_MODEL_d883946023a44ed59423d05c961e71b3",
        "IPY_MODEL_8708b4f84f454407bc516fc2e9b1e14b"
       ],
       "layout": "IPY_MODEL_3ac048bed3cb4f37a53ad7615782b007"
      }
     },
     "4e8f1fc2352c4d029b048059447c31f2": {
      "model_module": "@jupyter-widgets/base",
      "model_module_version": "1.2.0",
      "model_name": "LayoutModel",
      "state": {}
     },
     "4eadb4503064446aaa9b09de3bbf33b3": {
      "model_module": "@jupyter-widgets/controls",
      "model_module_version": "1.5.0",
      "model_name": "HBoxModel",
      "state": {
       "layout": "IPY_MODEL_bb156c39f7374a1b9165dded955416f5"
      }
     },
     "4ebaed4962d34cb98cda2e52d678023a": {
      "model_module": "@jupyter-widgets/controls",
      "model_module_version": "1.5.0",
      "model_name": "DescriptionStyleModel",
      "state": {
       "description_width": ""
      }
     },
     "4ed43592321843ef9520c615cdd77876": {
      "model_module": "@jupyter-widgets/controls",
      "model_module_version": "1.5.0",
      "model_name": "FloatSliderModel",
      "state": {
       "description": "diffuse",
       "layout": "IPY_MODEL_f53d50f573ea4c8196171420178e0463",
       "max": 1,
       "step": 0.1,
       "style": "IPY_MODEL_26f6320010f14927813d14ad09e8177b"
      }
     },
     "4ef04b643d17458ea94b3439df5b4633": {
      "model_module": "@jupyter-widgets/controls",
      "model_module_version": "1.5.0",
      "model_name": "IntSliderModel",
      "state": {
       "description": "value",
       "layout": "IPY_MODEL_f41b3f5d927f4b1d84b27046a1dfaa99",
       "max": 7,
       "min": 1,
       "style": "IPY_MODEL_2aa8c97dc5be40c9be16773350baf277",
       "value": 3
      }
     },
     "4f1619fba91b4d7cb40cab3f9cfbda3e": {
      "model_module": "@jupyter-widgets/controls",
      "model_module_version": "1.5.0",
      "model_name": "DescriptionStyleModel",
      "state": {
       "description_width": ""
      }
     },
     "4f1821d5546d45ccb47890ddb7721566": {
      "model_module": "@jupyter-widgets/base",
      "model_module_version": "1.2.0",
      "model_name": "LayoutModel",
      "state": {}
     },
     "4f232ac5610c453da6bbff0d94f89765": {
      "model_module": "@jupyter-widgets/controls",
      "model_module_version": "1.5.0",
      "model_name": "DescriptionStyleModel",
      "state": {
       "description_width": ""
      }
     },
     "4f287b2a341448d9a798e24f4f22f436": {
      "model_module": "@jupyter-widgets/controls",
      "model_module_version": "1.5.0",
      "model_name": "IntTextModel",
      "state": {
       "description": "max",
       "layout": "IPY_MODEL_c8945ff55f3e4299bc6baee965a89100",
       "step": 1,
       "style": "IPY_MODEL_8298bb29a5c745799439a58c350b6a9a",
       "value": 10
      }
     },
     "4f3b91fa450b4491856a9a44fb60cb84": {
      "model_module": "@jupyter-widgets/base",
      "model_module_version": "1.2.0",
      "model_name": "LayoutModel",
      "state": {}
     },
     "4f50c35ffadf4ec98dad9f907df989f7": {
      "model_module": "@jupyter-widgets/base",
      "model_module_version": "1.2.0",
      "model_name": "LayoutModel",
      "state": {}
     },
     "4f63c4af400f4f32956d997f14285ea8": {
      "model_module": "@jupyter-widgets/controls",
      "model_module_version": "1.5.0",
      "model_name": "ButtonModel",
      "state": {
       "description": "Apply changes",
       "layout": "IPY_MODEL_21d188d26e174cb5bc2c94e1170f4be4",
       "style": "IPY_MODEL_74766ce01f5f4a13831da6045f6fd823"
      }
     },
     "4f98121246334297a02fb360aff2e606": {
      "model_module": "@jupyter-widgets/controls",
      "model_module_version": "1.5.0",
      "model_name": "IntTextModel",
      "state": {
       "description": "max",
       "layout": "IPY_MODEL_19db9ae357b3453fbd2da22eadb8956e",
       "step": 1,
       "style": "IPY_MODEL_6f8bb26a5dc749afa2ac8bd008a7e44c",
       "value": 10
      }
     },
     "4fdb3bdbb0884b1b9b70d74186e0ee51": {
      "model_module": "pgljupyter",
      "model_module_version": "^0.1.15",
      "model_name": "MaterialEditorModel",
      "state": {
       "_model_module_version": "^0.1.15",
       "_view_module_version": "^0.1.15",
       "children": [
        "IPY_MODEL_5addc8ec08bb40b083f5cbde80d8ec5a",
        "IPY_MODEL_d0bdbc64800d4d82b5dc67febea65a36",
        "IPY_MODEL_14817bde845446ec9c7495a6741273f0",
        "IPY_MODEL_1d143d9919154875be616ca354e10d87",
        "IPY_MODEL_35fe5bcb32a344c1839ffc661e5b7fe4",
        "IPY_MODEL_49a1436ad4014b5a8af052e018127e24",
        "IPY_MODEL_3e329edb95664cb486dda3c2b3c896cf"
       ],
       "layout": "IPY_MODEL_364a0d3467624371a6bdd269466b5c04"
      }
     },
     "5019df2f5055409298b954fb6ba8aab9": {
      "model_module": "@jupyter-widgets/base",
      "model_module_version": "1.2.0",
      "model_name": "LayoutModel",
      "state": {}
     },
     "501b6360255940ac87c6c9cbda8af0a2": {
      "model_module": "@jupyter-widgets/base",
      "model_module_version": "1.2.0",
      "model_name": "LayoutModel",
      "state": {}
     },
     "501ea1908aad438daf66b1b6172aba6c": {
      "model_module": "@jupyter-widgets/base",
      "model_module_version": "1.2.0",
      "model_name": "LayoutModel",
      "state": {}
     },
     "5028f9bf49fb443a9a1cbb1892e2eaa5": {
      "model_module": "@jupyter-widgets/controls",
      "model_module_version": "1.5.0",
      "model_name": "DescriptionStyleModel",
      "state": {
       "description_width": ""
      }
     },
     "502e8a7f883742d0a593c735da02e62c": {
      "model_module": "@jupyter-widgets/controls",
      "model_module_version": "1.5.0",
      "model_name": "DescriptionStyleModel",
      "state": {
       "description_width": ""
      }
     },
     "502fc0257664489ca57463b9f0891d19": {
      "model_module": "@jupyter-widgets/controls",
      "model_module_version": "1.5.0",
      "model_name": "IntTextModel",
      "state": {
       "description": "min",
       "layout": "IPY_MODEL_a85fa0285fba40f3a6e4a31762022de3",
       "step": 1,
       "style": "IPY_MODEL_973b8db74a7241838bcf94e8926a691c",
       "value": 1
      }
     },
     "5033c64811d044d4bfb1668fefbe13dd": {
      "model_module": "@jupyter-widgets/controls",
      "model_module_version": "1.5.0",
      "model_name": "DescriptionStyleModel",
      "state": {
       "description_width": ""
      }
     },
     "506f2dd0d19f4e63a7a5a195b3006794": {
      "model_module": "@jupyter-widgets/controls",
      "model_module_version": "1.5.0",
      "model_name": "DescriptionStyleModel",
      "state": {
       "description_width": ""
      }
     },
     "50710a5f35964ad89d98247d33e85c08": {
      "model_module": "@jupyter-widgets/controls",
      "model_module_version": "1.5.0",
      "model_name": "HBoxModel",
      "state": {
       "children": [
        "IPY_MODEL_9d053b6a465c4595acdc3b3d0abd7e62",
        "IPY_MODEL_668afd4f05534405bbd4233ec70dac91"
       ],
       "layout": "IPY_MODEL_67d894c6449349d9a2099e85b4344600"
      }
     },
     "507a380126584a23acf72009229e0b78": {
      "model_module": "@jupyter-widgets/base",
      "model_module_version": "1.2.0",
      "model_name": "LayoutModel",
      "state": {}
     },
     "509d6c725da94626a133effd3ad1ed9f": {
      "model_module": "@jupyter-widgets/controls",
      "model_module_version": "1.5.0",
      "model_name": "DescriptionStyleModel",
      "state": {
       "description_width": ""
      }
     },
     "50a9553390024bc2af1ab89889123054": {
      "model_module": "@jupyter-widgets/controls",
      "model_module_version": "1.5.0",
      "model_name": "CheckboxModel",
      "state": {
       "description": "Auto apply",
       "disabled": false,
       "layout": "IPY_MODEL_d505b723ce5f465b8dd8e6ef3f93020a",
       "style": "IPY_MODEL_e889ca8c978743dd9db02f1470e972f4",
       "value": false
      }
     },
     "50b5640fcf26472bb3b7a44f52d8e1e5": {
      "model_module": "@jupyter-widgets/controls",
      "model_module_version": "1.5.0",
      "model_name": "ButtonModel",
      "state": {
       "description": "Delete",
       "layout": "IPY_MODEL_02dfbd0f3f494360ad5c3be0612bc61f",
       "style": "IPY_MODEL_b667c2ac1f16455daba01fec1e350f9a"
      }
     },
     "50cc71f872164213ae20fbcb6c95d452": {
      "model_module": "@jupyter-widgets/base",
      "model_module_version": "1.2.0",
      "model_name": "LayoutModel",
      "state": {}
     },
     "50f6ca45ee7c4be8ab97d014e4b3619d": {
      "model_module": "@jupyter-widgets/controls",
      "model_module_version": "1.5.0",
      "model_name": "HBoxModel",
      "state": {
       "children": [
        "IPY_MODEL_76828b02847f49ffabf74ca1c0f2de97",
        "IPY_MODEL_5cc64d948421470ca2d0fdfbabb9f894",
        "IPY_MODEL_97b1c094320146c1bccde87922ad76ab",
        "IPY_MODEL_ec24f35bb3fa42c4a49afed0c7c8655d"
       ],
       "layout": "IPY_MODEL_2c758a39f7fc445fb36328a5392bc3cb"
      }
     },
     "511f522ccc434249ad645dd21f6efcf8": {
      "model_module": "@jupyter-widgets/base",
      "model_module_version": "1.2.0",
      "model_name": "LayoutModel",
      "state": {}
     },
     "514cfc19ebf74685ab74dd7b7a22c471": {
      "model_module": "@jupyter-widgets/controls",
      "model_module_version": "1.5.0",
      "model_name": "SliderStyleModel",
      "state": {
       "description_width": ""
      }
     },
     "516f3839490b488c85bfa092f7f73e64": {
      "model_module": "@jupyter-widgets/base",
      "model_module_version": "1.2.0",
      "model_name": "LayoutModel",
      "state": {}
     },
     "51e31cb8786a40a98336a80f16ef0e7e": {
      "model_module": "@jupyter-widgets/controls",
      "model_module_version": "1.5.0",
      "model_name": "DescriptionStyleModel",
      "state": {
       "description_width": ""
      }
     },
     "51e4a756a4174e399005475e57e78c22": {
      "model_module": "@jupyter-widgets/base",
      "model_module_version": "1.2.0",
      "model_name": "LayoutModel",
      "state": {}
     },
     "51f00e75f138415597d0cda8d2d56706": {
      "model_module": "@jupyter-widgets/controls",
      "model_module_version": "1.5.0",
      "model_name": "IntSliderModel",
      "state": {
       "description": "value",
       "layout": "IPY_MODEL_b819d10f4d0f4c14aa3a15b1b1527973",
       "max": 10,
       "min": 1,
       "style": "IPY_MODEL_d921e7de9ab44ab4b2f930c3c4f1b198",
       "value": 5
      }
     },
     "51fb96c250624e18a4669ff67b564ebd": {
      "model_module": "@jupyter-widgets/controls",
      "model_module_version": "1.5.0",
      "model_name": "TextModel",
      "state": {
       "layout": "IPY_MODEL_ffc8a4fd521e4a2b8b97a1b090436919",
       "placeholder": "category name",
       "style": "IPY_MODEL_57edca78ba1a46a286ffda813dccc5d7"
      }
     },
     "52028b4c1370454080c43dcb85f45571": {
      "model_module": "@jupyter-widgets/base",
      "model_module_version": "1.2.0",
      "model_name": "LayoutModel",
      "state": {}
     },
     "520ac369d0d1424c89ceac03dedff5c3": {
      "model_module": "@jupyter-widgets/controls",
      "model_module_version": "1.5.0",
      "model_name": "FloatTextModel",
      "state": {
       "description": "min",
       "layout": "IPY_MODEL_21aa615659f5410cb95a73ffa18be55a",
       "step": null,
       "style": "IPY_MODEL_21422f766b46433fb71ccaa39fefe8b7",
       "value": 0.01
      }
     },
     "5242056fc3e74012833d1c34f09631be": {
      "model_module": "@jupyter-widgets/controls",
      "model_module_version": "1.5.0",
      "model_name": "HBoxModel",
      "state": {
       "children": [
        "IPY_MODEL_4a918c9202a0476caad374619efcf855",
        "IPY_MODEL_9866af8bed034a5794d5192397982b56"
       ],
       "layout": "IPY_MODEL_1bcadc721303432abe9c782e04d39bdb"
      }
     },
     "525695082907441b9d5fe716c55b2141": {
      "model_module": "@jupyter-widgets/controls",
      "model_module_version": "1.5.0",
      "model_name": "IntTextModel",
      "state": {
       "description": "min",
       "layout": "IPY_MODEL_77bd1f060fa34f0f829dcac933f97e94",
       "step": 1,
       "style": "IPY_MODEL_9e81f7640e8f4efe9c6911df87f9bc06",
       "value": 1
      }
     },
     "526c5fdc0c8441b8bc0e3500631d3d93": {
      "model_module": "@jupyter-widgets/base",
      "model_module_version": "1.2.0",
      "model_name": "LayoutModel",
      "state": {}
     },
     "52a9ecac00494c5ab76f71242d2d11f7": {
      "model_module": "@jupyter-widgets/base",
      "model_module_version": "1.2.0",
      "model_name": "LayoutModel",
      "state": {}
     },
     "52bc33cd44ed41c69ec16396a1435eb5": {
      "model_module": "@jupyter-widgets/base",
      "model_module_version": "1.2.0",
      "model_name": "LayoutModel",
      "state": {}
     },
     "52ca1ed525844e04951491c3bedc20bd": {
      "model_module": "pgljupyter",
      "model_module_version": "^0.1.2",
      "model_name": "ParameterEditorModel",
      "state": {
       "_model_module_version": "^0.1.2",
       "_view_module_version": "^0.1.2",
       "children": [
        "IPY_MODEL_0363dd6f49f04bb58c913c0d2c5c903b"
       ],
       "layout": "IPY_MODEL_84896375a43b4ce3b3339763cff16672"
      }
     },
     "52cf68e476164b149a0ae8a47536c3d5": {
      "model_module": "@jupyter-widgets/controls",
      "model_module_version": "1.5.0",
      "model_name": "IntTextModel",
      "state": {
       "description": "min",
       "layout": "IPY_MODEL_a0e11695f24944bf94fad5b77ca3bcf3",
       "step": 1,
       "style": "IPY_MODEL_1011fc19b1da457cba092f3ff3475f19",
       "value": 1
      }
     },
     "52d07b17bbb84a93b79162d3fdb17736": {
      "model_module": "@jupyter-widgets/controls",
      "model_module_version": "1.5.0",
      "model_name": "DescriptionStyleModel",
      "state": {
       "description_width": ""
      }
     },
     "52d545c83d3e481487b0166b187bf347": {
      "model_module": "@jupyter-widgets/controls",
      "model_module_version": "1.5.0",
      "model_name": "TabModel",
      "state": {
       "layout": "IPY_MODEL_a68b7fc99f404294906f8f19e3fbcf4a"
      }
     },
     "52ed3b29cc924319aa39707f79b42d17": {
      "model_module": "@jupyter-widgets/base",
      "model_module_version": "1.2.0",
      "model_name": "LayoutModel",
      "state": {}
     },
     "530595fa108644548cb296ac38ed0340": {
      "model_module": "@jupyter-widgets/controls",
      "model_module_version": "1.5.0",
      "model_name": "VBoxModel",
      "state": {
       "children": [
        "IPY_MODEL_2911c948a3a84327899184974941d5f4",
        "IPY_MODEL_ae1cf71b798d47ceadf61cd112b4e287",
        "IPY_MODEL_b4cf0d3e6f1c4636854a6fbc91c3f497",
        "IPY_MODEL_3d72caeab742456498301cbd7bdea1dc",
        "IPY_MODEL_0141b49d8db4402b84d8aa0642d76ab2"
       ],
       "layout": "IPY_MODEL_aac907c170c14ece87521c6f587e9a5d"
      }
     },
     "5352783281a14fcca8669fd6ae7ae3e0": {
      "model_module": "@jupyter-widgets/controls",
      "model_module_version": "1.5.0",
      "model_name": "DescriptionStyleModel",
      "state": {
       "description_width": ""
      }
     },
     "53574809ba6344c7a775dc59058ce88a": {
      "model_module": "@jupyter-widgets/controls",
      "model_module_version": "1.5.0",
      "model_name": "TabModel",
      "state": {
       "_titles": {
        "0": "leuwenberg.json"
       },
       "children": [
        "IPY_MODEL_e347dd6439354af5aaa28bcee33af287"
       ],
       "layout": "IPY_MODEL_2fd6bccdb8b3480f803497bd5d78509c"
      }
     },
     "535753bdefa642f2833596ad6d1dcf7b": {
      "model_module": "@jupyter-widgets/controls",
      "model_module_version": "1.5.0",
      "model_name": "DescriptionStyleModel",
      "state": {
       "description_width": ""
      }
     },
     "535f175086a44e38a4ff3bc2146bac45": {
      "model_module": "@jupyter-widgets/base",
      "model_module_version": "1.2.0",
      "model_name": "LayoutModel",
      "state": {}
     },
     "53c7e037c126404aa6bbcbbbb0ee2457": {
      "model_module": "@jupyter-widgets/base",
      "model_module_version": "1.2.0",
      "model_name": "LayoutModel",
      "state": {}
     },
     "53ec91f57093422daaabbfa341b1878b": {
      "model_module": "@jupyter-widgets/base",
      "model_module_version": "1.2.0",
      "model_name": "LayoutModel",
      "state": {}
     },
     "53eddd4fbf794a9cb86fcedd27f76fc2": {
      "model_module": "@jupyter-widgets/controls",
      "model_module_version": "1.5.0",
      "model_name": "DescriptionStyleModel",
      "state": {
       "description_width": ""
      }
     },
     "53f6270f491843a0b16c33aa8def5354": {
      "model_module": "@jupyter-widgets/base",
      "model_module_version": "1.2.0",
      "model_name": "LayoutModel",
      "state": {}
     },
     "543e057f74d34186b9646b8011bf4a79": {
      "model_module": "@jupyter-widgets/base",
      "model_module_version": "1.2.0",
      "model_name": "LayoutModel",
      "state": {}
     },
     "544ef79895b140a4b0fb0dfdc1b6b2af": {
      "model_module": "@jupyter-widgets/controls",
      "model_module_version": "1.5.0",
      "model_name": "VBoxModel",
      "state": {
       "children": [
        "IPY_MODEL_7b27a247822a41b1b735a90513e71645",
        "IPY_MODEL_454744f440884dbe8fd5de90ab369132"
       ],
       "layout": "IPY_MODEL_ac0112233e1849579b8f0a951fa5aedd"
      }
     },
     "5457325852c14dcfb4e6b44175374e44": {
      "model_module": "@jupyter-widgets/controls",
      "model_module_version": "1.5.0",
      "model_name": "ColorPickerModel",
      "state": {
       "description": "ambient",
       "disabled": false,
       "layout": "IPY_MODEL_a29d4a7395aa4b549095fb5baf92204f",
       "style": "IPY_MODEL_d52f4b2621de443f9085eafbc704105d",
       "value": "#195717"
      }
     },
     "54769b26134a4b46a9dd5a9fb3fe96f0": {
      "model_module": "@jupyter-widgets/controls",
      "model_module_version": "1.5.0",
      "model_name": "HBoxModel",
      "state": {
       "layout": "IPY_MODEL_1dbafdd152c84ab4b7288ac443955d83"
      }
     },
     "547c418d86ec4fce8644a63a4d9fad45": {
      "model_module": "@jupyter-widgets/controls",
      "model_module_version": "1.5.0",
      "model_name": "BoundedIntTextModel",
      "state": {
       "description": "index",
       "layout": "IPY_MODEL_c0a0b6ba4761420fa5e80e161bdb896d",
       "style": "IPY_MODEL_fd7d330ce7384b0b8b5b1d06fe02e1b5",
       "value": 4
      }
     },
     "54a6adf8fcb54c85b74207f702f9cd07": {
      "model_module": "@jupyter-widgets/controls",
      "model_module_version": "1.5.0",
      "model_name": "SliderStyleModel",
      "state": {
       "description_width": ""
      }
     },
     "54ad9817393e4b169df1b27457d4020f": {
      "model_module": "@jupyter-widgets/controls",
      "model_module_version": "1.5.0",
      "model_name": "IntSliderModel",
      "state": {
       "description": "value",
       "layout": "IPY_MODEL_5cde2326150a4c3eaa20fb3509e10083",
       "max": 7,
       "min": 1,
       "style": "IPY_MODEL_05a5529a09074ddab6d359cac1010def",
       "value": 3
      }
     },
     "54b30b3e72bb46fda919a34e55895666": {
      "model_module": "@jupyter-widgets/controls",
      "model_module_version": "1.5.0",
      "model_name": "SliderStyleModel",
      "state": {
       "description_width": ""
      }
     },
     "54b84ad583044a479b5c2ead83e9b590": {
      "model_module": "@jupyter-widgets/base",
      "model_module_version": "1.2.0",
      "model_name": "LayoutModel",
      "state": {
       "margin": "20px 0px"
      }
     },
     "54d49613f6444ddaa20a8c0f57c3d5bb": {
      "model_module": "@jupyter-widgets/base",
      "model_module_version": "1.2.0",
      "model_name": "LayoutModel",
      "state": {}
     },
     "54e18e6488554c9eb34ba05898de159c": {
      "model_module": "@jupyter-widgets/controls",
      "model_module_version": "1.5.0",
      "model_name": "DescriptionStyleModel",
      "state": {
       "description_width": ""
      }
     },
     "54ecc896d94e4bb383be5ff430e1e0a1": {
      "model_module": "@jupyter-widgets/controls",
      "model_module_version": "1.5.0",
      "model_name": "HBoxModel",
      "state": {
       "children": [
        "IPY_MODEL_5fca0bb2ecf94ad391219d5eeda1df19",
        "IPY_MODEL_9f38bd04057f4c4e980db9af3d88bb25"
       ],
       "layout": "IPY_MODEL_31e77ba59ad24997839039a4c9c53e93"
      }
     },
     "552c7863055f4159bf354b893d352d4c": {
      "model_module": "@jupyter-widgets/base",
      "model_module_version": "1.2.0",
      "model_name": "LayoutModel",
      "state": {
       "margin": "20px 0px"
      }
     },
     "556aa8c93c3644c4a4a0a5fe38dada3a": {
      "model_module": "@jupyter-widgets/base",
      "model_module_version": "1.2.0",
      "model_name": "LayoutModel",
      "state": {}
     },
     "5573b05714a7485d8aed8b6bcd9e9e81": {
      "model_module": "@jupyter-widgets/base",
      "model_module_version": "1.2.0",
      "model_name": "LayoutModel",
      "state": {}
     },
     "55dd24f2a4134bb8918a6c13a35703b2": {
      "model_module": "@jupyter-widgets/controls",
      "model_module_version": "1.5.0",
      "model_name": "SliderStyleModel",
      "state": {
       "description_width": ""
      }
     },
     "55e50482ddd14ec08b2e2699040ec3a6": {
      "model_module": "@jupyter-widgets/controls",
      "model_module_version": "1.5.0",
      "model_name": "FloatSliderModel",
      "state": {
       "description": "diffuse",
       "layout": "IPY_MODEL_ee2e3e4b8e134b2f9faf01615d057f6b",
       "max": 1,
       "step": 0.1,
       "style": "IPY_MODEL_2b3bf360eab343d593671b7dbea90bd5",
       "value": 1
      }
     },
     "560e0fe2319c45179aec21555493a1dd": {
      "model_module": "@jupyter-widgets/controls",
      "model_module_version": "1.5.0",
      "model_name": "CheckboxModel",
      "state": {
       "description": "Auto apply",
       "disabled": false,
       "layout": "IPY_MODEL_1644d0e3f19c4604936000d72890d78c",
       "style": "IPY_MODEL_dcf562ba50024580a28601b487165136",
       "value": false
      }
     },
     "563784026f3d44fa9b9bd6fd45a2f660": {
      "model_module": "@jupyter-widgets/controls",
      "model_module_version": "1.5.0",
      "model_name": "IntTextModel",
      "state": {
       "description": "min",
       "layout": "IPY_MODEL_05ebf49d94d548c0b1db328535628615",
       "step": 1,
       "style": "IPY_MODEL_115d104a2b0b480cbfe1c4efafecc820",
       "value": 1
      }
     },
     "564a42c5a9ca42cb9b9795167a4f42b8": {
      "model_module": "@jupyter-widgets/base",
      "model_module_version": "1.2.0",
      "model_name": "LayoutModel",
      "state": {}
     },
     "56554a294f004d188215acaa0db279aa": {
      "model_module": "@jupyter-widgets/controls",
      "model_module_version": "1.5.0",
      "model_name": "FloatSliderModel",
      "state": {
       "description": "transparency",
       "layout": "IPY_MODEL_0d6e185a3f214d6c9ee50cfe165c71cc",
       "max": 1,
       "step": 0.1,
       "style": "IPY_MODEL_735ef05bc52745668d4f1492b21da122"
      }
     },
     "565735071d44460084dbcc986fac2a21": {
      "model_module": "@jupyter-widgets/controls",
      "model_module_version": "1.5.0",
      "model_name": "IntSliderModel",
      "state": {
       "description": "value",
       "layout": "IPY_MODEL_d86a81dfb35f47f590e7c22764e29eb9",
       "max": 10,
       "min": 1,
       "style": "IPY_MODEL_ae73cfabbf0c449fab531100f9045c48",
       "value": 3
      }
     },
     "56fd1fd2e814475eb612902882576a7b": {
      "model_module": "@jupyter-widgets/controls",
      "model_module_version": "1.5.0",
      "model_name": "HBoxModel",
      "state": {
       "children": [
        "IPY_MODEL_234ac662616e4f3c84f2599e188d95c4",
        "IPY_MODEL_13f0d0a4d0aa4c2785e171b7994d4969"
       ],
       "layout": "IPY_MODEL_5a6b22aae267432c961ea45f4625682b"
      }
     },
     "571665d2589c4afe81d46ca91f1b0d86": {
      "model_module": "@jupyter-widgets/base",
      "model_module_version": "1.2.0",
      "model_name": "LayoutModel",
      "state": {}
     },
     "57230574f43049439fd4745f0cb973e6": {
      "model_module": "@jupyter-widgets/base",
      "model_module_version": "1.2.0",
      "model_name": "LayoutModel",
      "state": {}
     },
     "572b9fffa5a14e6fa1858cfc214e58b6": {
      "model_module": "@jupyter-widgets/controls",
      "model_module_version": "1.5.0",
      "model_name": "SliderStyleModel",
      "state": {
       "description_width": ""
      }
     },
     "574863a6cad34aef8e40d8339970a06e": {
      "model_module": "@jupyter-widgets/base",
      "model_module_version": "1.2.0",
      "model_name": "LayoutModel",
      "state": {}
     },
     "576b9f76c2554786a55aa2746dccdcd2": {
      "model_module": "@jupyter-widgets/controls",
      "model_module_version": "1.5.0",
      "model_name": "ButtonStyleModel",
      "state": {}
     },
     "578316b91d17484a80132ba6fadd8e4d": {
      "model_module": "@jupyter-widgets/controls",
      "model_module_version": "1.5.0",
      "model_name": "ButtonModel",
      "state": {
       "description": "Save changes",
       "layout": "IPY_MODEL_1bc3f0f3b6b74005b830717c2c436ca2",
       "style": "IPY_MODEL_d3ba0204db55482095d75dd306143739"
      }
     },
     "5783a1ffec3a4cf7831b22bbadf5558d": {
      "model_module": "@jupyter-widgets/controls",
      "model_module_version": "1.5.0",
      "model_name": "ButtonModel",
      "state": {
       "description": "Add",
       "layout": "IPY_MODEL_1f678338b62947efb94d704316f3494d",
       "style": "IPY_MODEL_632f8ed8e8d54c0fb211a3f817e5249b"
      }
     },
     "578796f804c94856847139aa6ff0791b": {
      "model_module": "@jupyter-widgets/base",
      "model_module_version": "1.2.0",
      "model_name": "LayoutModel",
      "state": {}
     },
     "579b04c56faf4f05b90aafb9e8676ad1": {
      "model_module": "@jupyter-widgets/controls",
      "model_module_version": "1.5.0",
      "model_name": "FloatSliderModel",
      "state": {
       "description": "shininess",
       "layout": "IPY_MODEL_1d1daa74d36e4bc0a88ba436914d181c",
       "max": 1,
       "step": 0.1,
       "style": "IPY_MODEL_4d3adee22f5f4e3cb92c8ce61c1923f1",
       "value": 0.2
      }
     },
     "57a7f707d08c4c63bf3ba337a4ba07e7": {
      "model_module": "@jupyter-widgets/base",
      "model_module_version": "1.2.0",
      "model_name": "LayoutModel",
      "state": {}
     },
     "57c821df3d834463805124e7186d4dbe": {
      "model_module": "@jupyter-widgets/controls",
      "model_module_version": "1.5.0",
      "model_name": "SliderStyleModel",
      "state": {
       "description_width": ""
      }
     },
     "57e1c7de1a0845c49fbb5b3b5a191edc": {
      "model_module": "@jupyter-widgets/base",
      "model_module_version": "1.2.0",
      "model_name": "LayoutModel",
      "state": {}
     },
     "57e58ad59edd42ff9e9f05759bd93609": {
      "model_module": "@jupyter-widgets/base",
      "model_module_version": "1.2.0",
      "model_name": "LayoutModel",
      "state": {
       "margin": "20px 0px"
      }
     },
     "57edca78ba1a46a286ffda813dccc5d7": {
      "model_module": "@jupyter-widgets/controls",
      "model_module_version": "1.5.0",
      "model_name": "DescriptionStyleModel",
      "state": {
       "description_width": ""
      }
     },
     "581ab15f304f4f8ba447fe3701cf54b1": {
      "model_module": "@jupyter-widgets/base",
      "model_module_version": "1.2.0",
      "model_name": "LayoutModel",
      "state": {}
     },
     "58530780f2564c3c99b0a91526b8644d": {
      "model_module": "@jupyter-widgets/base",
      "model_module_version": "1.2.0",
      "model_name": "LayoutModel",
      "state": {
       "margin": "20px 0px"
      }
     },
     "5869b36a3dbb49e7ac247b1feb7974f0": {
      "model_module": "@jupyter-widgets/controls",
      "model_module_version": "1.5.0",
      "model_name": "DescriptionStyleModel",
      "state": {
       "description_width": ""
      }
     },
     "587b1dffe6b24823be3ef953d7ec9603": {
      "model_module": "@jupyter-widgets/base",
      "model_module_version": "1.2.0",
      "model_name": "LayoutModel",
      "state": {}
     },
     "587dd5a4d2b8417b9922df6385c8d282": {
      "model_module": "pgljupyter",
      "model_module_version": "^0.1.2",
      "model_name": "ParameterEditorModel",
      "state": {
       "_model_module_version": "^0.1.2",
       "_view_module_version": "^0.1.2",
       "children": [
        "IPY_MODEL_95ba0750d90d46549f250d00ed29fe90"
       ],
       "layout": "IPY_MODEL_9a5bea988e4b44239c09cfdf7b695751"
      }
     },
     "588d64f172f4413783d455778353f9b9": {
      "model_module": "@jupyter-widgets/controls",
      "model_module_version": "1.5.0",
      "model_name": "DescriptionStyleModel",
      "state": {
       "description_width": ""
      }
     },
     "588d844622d44aaebcb07175ecab604e": {
      "model_module": "@jupyter-widgets/controls",
      "model_module_version": "1.5.0",
      "model_name": "ColorPickerModel",
      "state": {
       "description": "emission",
       "disabled": false,
       "layout": "IPY_MODEL_66f9086d69524b4ba2c5975000843ec2",
       "style": "IPY_MODEL_f8c2a87023874965a0621cc63e62e350",
       "value": "#000000"
      }
     },
     "5890443d20694131a69ec45f02222d1e": {
      "model_module": "@jupyter-widgets/base",
      "model_module_version": "1.2.0",
      "model_name": "LayoutModel",
      "state": {}
     },
     "58b24918f6c84d639e3451e6a319459c": {
      "model_module": "@jupyter-widgets/base",
      "model_module_version": "1.2.0",
      "model_name": "LayoutModel",
      "state": {}
     },
     "591b3c54a7984fc298dcb80aab4e9c80": {
      "model_module": "@jupyter-widgets/base",
      "model_module_version": "1.2.0",
      "model_name": "LayoutModel",
      "state": {}
     },
     "593c45add93e470fa160defc86ae8503": {
      "model_module": "@jupyter-widgets/controls",
      "model_module_version": "1.5.0",
      "model_name": "ButtonModel",
      "state": {
       "description": "Save changes",
       "disabled": true,
       "layout": "IPY_MODEL_006c860d83bb44f197de8a363c8000ca",
       "style": "IPY_MODEL_73f500e006d84a9c84319ee4b2755109"
      }
     },
     "596106a34b464f20a59828655b65d4be": {
      "model_module": "@jupyter-widgets/base",
      "model_module_version": "1.2.0",
      "model_name": "LayoutModel",
      "state": {}
     },
     "5965992f600047acaf09d3042fa191f5": {
      "model_module": "@jupyter-widgets/controls",
      "model_module_version": "1.5.0",
      "model_name": "DescriptionStyleModel",
      "state": {
       "description_width": ""
      }
     },
     "59836e1aec24461ab7fa4f029ed35364": {
      "model_module": "@jupyter-widgets/controls",
      "model_module_version": "1.5.0",
      "model_name": "DescriptionStyleModel",
      "state": {
       "description_width": ""
      }
     },
     "598dc53fc7284c30a10048ee82300ca0": {
      "model_module": "@jupyter-widgets/controls",
      "model_module_version": "1.5.0",
      "model_name": "SliderStyleModel",
      "state": {
       "description_width": ""
      }
     },
     "598dd28ba5894948a1ec690d28538832": {
      "model_module": "@jupyter-widgets/controls",
      "model_module_version": "1.5.0",
      "model_name": "IntSliderModel",
      "state": {
       "description": "value",
       "layout": "IPY_MODEL_64851e98c06f423f9f15f77da2012540",
       "max": 10,
       "min": 1,
       "style": "IPY_MODEL_fbabf205856a4193a5beae7eca7c392a",
       "value": 3
      }
     },
     "59b99a393b0e490d8dfc2a1ef11c380a": {
      "model_module": "@jupyter-widgets/controls",
      "model_module_version": "1.5.0",
      "model_name": "HBoxModel",
      "state": {
       "children": [
        "IPY_MODEL_7f9efb4f22614e7299d56d37b5857cff",
        "IPY_MODEL_93e6d6935dfc43cf8984cfeb6c95c65f"
       ],
       "layout": "IPY_MODEL_cc4283288fb542ef96f56d4d031ff9f4"
      }
     },
     "59c51570d1884b5ba5083077f9f5b157": {
      "model_module": "@jupyter-widgets/controls",
      "model_module_version": "1.5.0",
      "model_name": "BoundedIntTextModel",
      "state": {
       "description": "index",
       "layout": "IPY_MODEL_c057446521834fda9bf45c6084e8f55f",
       "style": "IPY_MODEL_ca9cabf582ce4689abcc8d1e8ca02b57",
       "value": 1
      }
     },
     "59e4ce096db041599800b92606fb73a5": {
      "model_module": "@jupyter-widgets/base",
      "model_module_version": "1.2.0",
      "model_name": "LayoutModel",
      "state": {}
     },
     "5a032c8514ac4d08912be34f2f11f8b7": {
      "model_module": "@jupyter-widgets/base",
      "model_module_version": "1.2.0",
      "model_name": "LayoutModel",
      "state": {}
     },
     "5a0aadd3d47a476093b8bb0ce1ad5728": {
      "model_module": "@jupyter-widgets/base",
      "model_module_version": "1.2.0",
      "model_name": "LayoutModel",
      "state": {}
     },
     "5a0bb9f3a4c444d397509b0db43feacb": {
      "model_module": "@jupyter-widgets/controls",
      "model_module_version": "1.5.0",
      "model_name": "BoundedIntTextModel",
      "state": {
       "description": "index",
       "layout": "IPY_MODEL_b3a95801c23f4290b028849cf85da1e0",
       "style": "IPY_MODEL_434e488f2f084061b752baac7b2e3593",
       "value": 2
      }
     },
     "5a0fead121854d619176b7a5e567ae95": {
      "model_module": "@jupyter-widgets/controls",
      "model_module_version": "1.5.0",
      "model_name": "ColorPickerModel",
      "state": {
       "description": "specular",
       "disabled": false,
       "layout": "IPY_MODEL_a552cc74d7024e1d8c5c5fbb0bd1eb0d",
       "style": "IPY_MODEL_51e31cb8786a40a98336a80f16ef0e7e",
       "value": "#282828"
      }
     },
     "5a1fb8503b2442f9b24cb6b1fece5705": {
      "model_module": "@jupyter-widgets/base",
      "model_module_version": "1.2.0",
      "model_name": "LayoutModel",
      "state": {}
     },
     "5a20bedfc3174238b2ea8c131168e933": {
      "model_module": "@jupyter-widgets/base",
      "model_module_version": "1.2.0",
      "model_name": "LayoutModel",
      "state": {
       "margin": "20px 0px"
      }
     },
     "5a27be4bb9c048a2bb54f5eb48c09787": {
      "model_module": "@jupyter-widgets/controls",
      "model_module_version": "1.5.0",
      "model_name": "DescriptionStyleModel",
      "state": {
       "description_width": ""
      }
     },
     "5a2e5528074949ac9f2d0bd4dfa6342a": {
      "model_module": "@jupyter-widgets/controls",
      "model_module_version": "1.5.0",
      "model_name": "ButtonStyleModel",
      "state": {}
     },
     "5a43420474254aeca937c8ab71d9ba90": {
      "model_module": "@jupyter-widgets/controls",
      "model_module_version": "1.5.0",
      "model_name": "HBoxModel",
      "state": {
       "children": [
        "IPY_MODEL_d3e7a44d5a14400f8d7eee683f57c955",
        "IPY_MODEL_9db05b458e3949bf97a31f45e8c89dc6",
        "IPY_MODEL_7df7f54035524ecead2a47c68a1ea08c",
        "IPY_MODEL_06d0528fd9b2409ca3a927d94b16362f",
        "IPY_MODEL_c76dfa561cce45a496716cfb3a9a1785"
       ],
       "layout": "IPY_MODEL_674a914ce6c54b60af42ddb5ffca3dc9"
      }
     },
     "5a6303b3dd7146c1bc4f2aee154764ff": {
      "model_module": "@jupyter-widgets/controls",
      "model_module_version": "1.5.0",
      "model_name": "ButtonStyleModel",
      "state": {}
     },
     "5a6b22aae267432c961ea45f4625682b": {
      "model_module": "@jupyter-widgets/base",
      "model_module_version": "1.2.0",
      "model_name": "LayoutModel",
      "state": {}
     },
     "5ab9113113e04cbc8f728a3925f24dc8": {
      "model_module": "@jupyter-widgets/base",
      "model_module_version": "1.2.0",
      "model_name": "LayoutModel",
      "state": {}
     },
     "5addc8ec08bb40b083f5cbde80d8ec5a": {
      "model_module": "@jupyter-widgets/controls",
      "model_module_version": "1.5.0",
      "model_name": "TextModel",
      "state": {
       "continuous_update": false,
       "description": "name",
       "layout": "IPY_MODEL_c09ac5f419df40aa9d1c27db2f5b8fe2",
       "style": "IPY_MODEL_c4e9c941f22141baa6941a4cac591ea8",
       "value": "color_1"
      }
     },
     "5ae87a40607a44d58d24ae55327a5f90": {
      "model_module": "@jupyter-widgets/base",
      "model_module_version": "1.2.0",
      "model_name": "LayoutModel",
      "state": {
       "margin": "20px 0px"
      }
     },
     "5afa1ae2ba5f41b9afc7f4680daad858": {
      "model_module": "pgljupyter",
      "model_module_version": "^0.1.15",
      "model_name": "FloatEditorModel",
      "state": {
       "_model_module_version": "^0.1.15",
       "_view_module_version": "^0.1.15",
       "children": [
        "IPY_MODEL_7ae2abc5edc24874800de2302f1a9f01",
        "IPY_MODEL_2eefdb0b2e0a4d348f80f8bd096623f4",
        "IPY_MODEL_bda7f707a43f4e20861d87f28a419e4a",
        "IPY_MODEL_e066c1d3b6204426b66d64b4adb12f3b",
        "IPY_MODEL_88511552317746dd8da2010faf7d056f"
       ],
       "layout": "IPY_MODEL_7d09a8280c8a41448a1aa279c835ea22"
      }
     },
     "5b0cb2a6a992436289ac3a0b8e7bae75": {
      "model_module": "@jupyter-widgets/base",
      "model_module_version": "1.2.0",
      "model_name": "LayoutModel",
      "state": {
       "margin": "20px 0px"
      }
     },
     "5b304100eebf4a1f9391c0dd6994324b": {
      "model_module": "@jupyter-widgets/controls",
      "model_module_version": "1.5.0",
      "model_name": "FloatSliderModel",
      "state": {
       "description": "transparency",
       "layout": "IPY_MODEL_b0a9193e48b440a2a8e99ad438002fd8",
       "max": 1,
       "step": 0.1,
       "style": "IPY_MODEL_122b9ccaf98349639dc497a0aa0de2ff"
      }
     },
     "5b85fc30ee064d85af2921c89cd089cf": {
      "model_module": "@jupyter-widgets/base",
      "model_module_version": "1.2.0",
      "model_name": "LayoutModel",
      "state": {
       "margin": "20px 0px"
      }
     },
     "5bb215248fb34a5dbb70380e486fe8cb": {
      "model_module": "@jupyter-widgets/controls",
      "model_module_version": "1.5.0",
      "model_name": "ButtonModel",
      "state": {
       "description": "Save changes",
       "layout": "IPY_MODEL_f818a57144e94e018fcdbfa425833f2f",
       "style": "IPY_MODEL_29d2f53043094121a7728b0c9bc60afb"
      }
     },
     "5bb3e8d0cda8438b902ddf054f47aca2": {
      "model_module": "@jupyter-widgets/controls",
      "model_module_version": "1.5.0",
      "model_name": "DropdownModel",
      "state": {
       "_options_labels": [
        "color_1",
        "color_2",
        "color_4"
       ],
       "index": 0,
       "layout": "IPY_MODEL_c95cf67e99be4e26a62abb82e9ca131b",
       "style": "IPY_MODEL_b8edda361f7c45fca84ae1034a46206a"
      }
     },
     "5be4664a6e1f4328bbc274b21c1c5c15": {
      "model_module": "@jupyter-widgets/controls",
      "model_module_version": "1.5.0",
      "model_name": "BoundedIntTextModel",
      "state": {
       "description": "step",
       "layout": "IPY_MODEL_52ed3b29cc924319aa39707f79b42d17",
       "min": 1,
       "style": "IPY_MODEL_2ff2e549a4684de5a2db6f29b2366fd5",
       "value": 1
      }
     },
     "5c04a7bab5654a89bb57cca666a4c17e": {
      "model_module": "@jupyter-widgets/base",
      "model_module_version": "1.2.0",
      "model_name": "LayoutModel",
      "state": {}
     },
     "5c063035428d484eb96aa25652f1770c": {
      "model_module": "@jupyter-widgets/controls",
      "model_module_version": "1.5.0",
      "model_name": "SliderStyleModel",
      "state": {
       "description_width": ""
      }
     },
     "5c3f4b13f486471481fb545c41b82800": {
      "model_module": "@jupyter-widgets/base",
      "model_module_version": "1.2.0",
      "model_name": "LayoutModel",
      "state": {}
     },
     "5c57f1ab3f3f4907996118d55d555f37": {
      "model_module": "@jupyter-widgets/controls",
      "model_module_version": "1.5.0",
      "model_name": "ColorPickerModel",
      "state": {
       "description": "specular",
       "disabled": false,
       "layout": "IPY_MODEL_ec57141644774181a164ad984cd577b5",
       "style": "IPY_MODEL_506f2dd0d19f4e63a7a5a195b3006794",
       "value": "#282828"
      }
     },
     "5c5d43ff238d401bb3938a61a166e488": {
      "model_module": "@jupyter-widgets/controls",
      "model_module_version": "1.5.0",
      "model_name": "SliderStyleModel",
      "state": {
       "description_width": ""
      }
     },
     "5c648fc1282e4142bf56f959ae9b8c72": {
      "model_module": "@jupyter-widgets/controls",
      "model_module_version": "1.5.0",
      "model_name": "HBoxModel",
      "state": {
       "children": [
        "IPY_MODEL_f34fa66e408c4a6f9f479f949fd16f8a",
        "IPY_MODEL_37b855a8b725404890c803b7c417cc7a"
       ],
       "layout": "IPY_MODEL_dabb1088a9ce4b0e9aa8136772d1f619"
      }
     },
     "5c79a794e9ac4cbfb81e5ba98a148a97": {
      "model_module": "@jupyter-widgets/controls",
      "model_module_version": "1.5.0",
      "model_name": "DropdownModel",
      "state": {
       "_options_labels": [
        "Integer",
        "Float",
        "Bool"
       ],
       "index": 0,
       "layout": "IPY_MODEL_3a51faf612714fa697dd0a09dbca2f90",
       "style": "IPY_MODEL_84e2779eec6247e788956dd1ebf9ea54"
      }
     },
     "5c821de64974411380cc532f054b3700": {
      "model_module": "@jupyter-widgets/controls",
      "model_module_version": "1.5.0",
      "model_name": "SliderStyleModel",
      "state": {
       "description_width": ""
      }
     },
     "5c9f5effe3d24cd2b3bbabb91c655515": {
      "model_module": "@jupyter-widgets/controls",
      "model_module_version": "1.5.0",
      "model_name": "ButtonModel",
      "state": {
       "description": "Add",
       "layout": "IPY_MODEL_2f5416ac6bbd4e419f7a5874c1620d4b",
       "style": "IPY_MODEL_b43caee4a13b4197b50e32c3155f3b33"
      }
     },
     "5cb242cfc7614b3eb4c7b8c0e9c5c193": {
      "model_module": "@jupyter-widgets/base",
      "model_module_version": "1.2.0",
      "model_name": "LayoutModel",
      "state": {}
     },
     "5cc64d948421470ca2d0fdfbabb9f894": {
      "model_module": "@jupyter-widgets/controls",
      "model_module_version": "1.5.0",
      "model_name": "DropdownModel",
      "state": {
       "_options_labels": [
        "Integer",
        "Float",
        "Bool"
       ],
       "index": 0,
       "layout": "IPY_MODEL_6d9c7f7305ad4ec4afff7c03238f241a",
       "style": "IPY_MODEL_952046052d024f28bf70c8a76f65f14a"
      }
     },
     "5cde2326150a4c3eaa20fb3509e10083": {
      "model_module": "@jupyter-widgets/base",
      "model_module_version": "1.2.0",
      "model_name": "LayoutModel",
      "state": {}
     },
     "5cf887d3feab499d9c355b88d984835c": {
      "model_module": "@jupyter-widgets/controls",
      "model_module_version": "1.5.0",
      "model_name": "ColorPickerModel",
      "state": {
       "description": "specular",
       "disabled": false,
       "layout": "IPY_MODEL_954794a6a3d042c395cc18311c564ac2",
       "style": "IPY_MODEL_72b34f3219da475383427c0f92144518",
       "value": "#282828"
      }
     },
     "5d0e1dc0975846b6b54717b2447cc767": {
      "model_module": "@jupyter-widgets/controls",
      "model_module_version": "1.5.0",
      "model_name": "DescriptionStyleModel",
      "state": {
       "description_width": ""
      }
     },
     "5d435d9b86cd4d3e9fec3dcc41b6d3fb": {
      "model_module": "@jupyter-widgets/controls",
      "model_module_version": "1.5.0",
      "model_name": "ButtonStyleModel",
      "state": {}
     },
     "5d57049901ac483088e46ecaa3b6c0ee": {
      "model_module": "@jupyter-widgets/controls",
      "model_module_version": "1.5.0",
      "model_name": "SliderStyleModel",
      "state": {
       "description_width": ""
      }
     },
     "5d5b275d15b946cbbaaf085b88ac6394": {
      "model_module": "@jupyter-widgets/base",
      "model_module_version": "1.2.0",
      "model_name": "LayoutModel",
      "state": {}
     },
     "5d8aae870bc94dcea2e224eec7234ffb": {
      "model_module": "@jupyter-widgets/base",
      "model_module_version": "1.2.0",
      "model_name": "LayoutModel",
      "state": {}
     },
     "5d943e0e9e654ffd89088143a379e75e": {
      "model_module": "@jupyter-widgets/base",
      "model_module_version": "1.2.0",
      "model_name": "LayoutModel",
      "state": {}
     },
     "5d9b71db5c2a47ec8f4893541e08cba0": {
      "model_module": "@jupyter-widgets/controls",
      "model_module_version": "1.5.0",
      "model_name": "SliderStyleModel",
      "state": {
       "description_width": ""
      }
     },
     "5dfb04fd42f143819e97dabdc39b2d5f": {
      "model_module": "@jupyter-widgets/controls",
      "model_module_version": "1.5.0",
      "model_name": "SliderStyleModel",
      "state": {
       "description_width": ""
      }
     },
     "5e00d7802e284e14b7b04901ce63c863": {
      "model_module": "@jupyter-widgets/controls",
      "model_module_version": "1.5.0",
      "model_name": "DropdownModel",
      "state": {
       "_options_labels": [
        "color_1",
        "color_2",
        "color_3",
        "color_4"
       ],
       "index": 0,
       "layout": "IPY_MODEL_627c271f78834217bc20d170efbb89bc",
       "style": "IPY_MODEL_e4c4383d338c4f9f97d40c892dd6df0b"
      }
     },
     "5e191573a5924d1887ed7d21c6786fdf": {
      "model_module": "@jupyter-widgets/controls",
      "model_module_version": "1.5.0",
      "model_name": "CheckboxModel",
      "state": {
       "description": "Auto save",
       "disabled": false,
       "layout": "IPY_MODEL_ad94bfff93e04101a47bfab77c5253cf",
       "style": "IPY_MODEL_a0eb9b213db94887a716ff41a5edf851",
       "value": true
      }
     },
     "5e2b11cec9a44206831ec220e238d0a0": {
      "model_module": "@jupyter-widgets/controls",
      "model_module_version": "1.5.0",
      "model_name": "ColorPickerModel",
      "state": {
       "description": "ambient",
       "disabled": false,
       "layout": "IPY_MODEL_d4b10aeba9954020a8ed8f827c42e3e1",
       "style": "IPY_MODEL_4aba2e85b8af42d09505d45dc60b1952",
       "value": "#0fc4db"
      }
     },
     "5e420e22516544c99e03c561351caa77": {
      "model_module": "@jupyter-widgets/controls",
      "model_module_version": "1.5.0",
      "model_name": "IntTextModel",
      "state": {
       "description": "max",
       "layout": "IPY_MODEL_0fc05305117943d28f9afe7ecc9aa553",
       "step": 1,
       "style": "IPY_MODEL_3e83fe9f30584627863edeb47779fdff",
       "value": 10
      }
     },
     "5eed3d4518234051843f485cc369deff": {
      "model_module": "pgljupyter",
      "model_module_version": "^0.1.2",
      "model_name": "IntEditorModel",
      "state": {
       "_model_module_version": "^0.1.2",
       "_view_module_version": "^0.1.2",
       "children": [
        "IPY_MODEL_c580a4d8ab98468a9d0492ff60aa2379",
        "IPY_MODEL_dc93e065fc0b494a9a9f6ed34b82a08a",
        "IPY_MODEL_aa93ebe5f3724dc68c642492005612b9",
        "IPY_MODEL_be32dc92ecd64abcb793bf8183527506",
        "IPY_MODEL_78b7a0be83c644fdb993627391ce7ebf"
       ],
       "layout": "IPY_MODEL_5b0cb2a6a992436289ac3a0b8e7bae75"
      }
     },
     "5ef19f5685044302a37b53321ff329c7": {
      "model_module": "@jupyter-widgets/controls",
      "model_module_version": "1.5.0",
      "model_name": "SliderStyleModel",
      "state": {
       "description_width": ""
      }
     },
     "5f7514ab20d747c793ca92912131c268": {
      "model_module": "@jupyter-widgets/controls",
      "model_module_version": "1.5.0",
      "model_name": "DropdownModel",
      "state": {
       "_options_labels": [
        "Color"
       ],
       "index": 0,
       "layout": "IPY_MODEL_6c705cad5dd242ed8966cda9558660d7",
       "style": "IPY_MODEL_760f01348a2d4ccaa33128fb2733a5a3"
      }
     },
     "5faadf4842f04521928328410e1fa0d9": {
      "model_module": "@jupyter-widgets/base",
      "model_module_version": "1.2.0",
      "model_name": "LayoutModel",
      "state": {}
     },
     "5fb7c2f63497489dab41537af8a76aae": {
      "model_module": "@jupyter-widgets/base",
      "model_module_version": "1.2.0",
      "model_name": "LayoutModel",
      "state": {}
     },
     "5fca0bb2ecf94ad391219d5eeda1df19": {
      "model_module": "@jupyter-widgets/controls",
      "model_module_version": "1.5.0",
      "model_name": "ButtonModel",
      "state": {
       "description": "Add",
       "layout": "IPY_MODEL_f96e0af600ef4954a3ee825bd6a3337a",
       "style": "IPY_MODEL_bc3db02e28bb4caeb6026fe5f4369a0f"
      }
     },
     "5fcc45e79e4548fd9842f2b10f8450e1": {
      "model_module": "pgljupyter",
      "model_module_version": "^0.1.2",
      "model_name": "_CurveEditorModel",
      "state": {
       "_model_module_version": "^0.1.2",
       "_view_module_version": "^0.1.2",
       "control_points": [
        [
         -0.5,
         0
        ],
        [
         -0.35,
         0.23636363636363636
        ],
        [
         -0.09545454545454546,
         0.3318181818181818
        ],
        [
         0.19545454545454544,
         0.1409090909090909
        ],
        [
         -0.02727272727272731,
         0.04545454545454544
        ]
       ],
       "curve_type": "NurbsCurve2D",
       "layout": "IPY_MODEL_9a8af2a83e724b998e08021ea97d1c9b"
      }
     },
     "600fc76dfafc45f08e55eb4bb9f99a20": {
      "model_module": "pgljupyter",
      "model_module_version": "^0.1.2",
      "model_name": "LsystemWidgetModel",
      "state": {
       "_model_module_version": "^0.1.2",
       "_view_module_version": "^0.1.2",
       "axes_helper": false,
       "derivationLength": 45,
       "layout": "IPY_MODEL_8f477e2e294f4e3492be7dbd7786b8fb",
       "light_helper": false,
       "plane": true,
       "size_display": [
        400,
        400
       ],
       "size_world": [
        10,
        10,
        10
       ],
       "unit": 1
      }
     },
     "6054b253439e485d97ecc4bcd85300d0": {
      "model_module": "@jupyter-widgets/base",
      "model_module_version": "1.2.0",
      "model_name": "LayoutModel",
      "state": {}
     },
     "6098741465594757884b0251d3d297cf": {
      "model_module": "@jupyter-widgets/controls",
      "model_module_version": "1.5.0",
      "model_name": "ColorPickerModel",
      "state": {
       "description": "emission",
       "disabled": false,
       "layout": "IPY_MODEL_9806350c89e94ad6acd3c10c59d54551",
       "style": "IPY_MODEL_79c26ceaf4b045a6a6af28da3fa4ded0",
       "value": "#000000"
      }
     },
     "60993753bd0d4ec886412fd97f18a59b": {
      "model_module": "@jupyter-widgets/controls",
      "model_module_version": "1.5.0",
      "model_name": "ButtonModel",
      "state": {
       "description": "Add",
       "layout": "IPY_MODEL_b9bd32aac27943cb82629f371e651a3f",
       "style": "IPY_MODEL_2a115957db2342d397d5486f895ffc35"
      }
     },
     "60af561202804091b4f43cb7d49813b4": {
      "model_module": "@jupyter-widgets/controls",
      "model_module_version": "1.5.0",
      "model_name": "DescriptionStyleModel",
      "state": {
       "description_width": ""
      }
     },
     "60bbe853ace04a11982bbff9d3c333ed": {
      "model_module": "@jupyter-widgets/controls",
      "model_module_version": "1.5.0",
      "model_name": "ButtonModel",
      "state": {
       "description": "Delete",
       "layout": "IPY_MODEL_6e67f05381e94d6ab0b7f83b70af6ba1",
       "style": "IPY_MODEL_6255f3e7a2e84bc1a6d7fc498ff3dba6"
      }
     },
     "60c75cd30cc5440faf0dcf062f8f9255": {
      "model_module": "@jupyter-widgets/controls",
      "model_module_version": "1.5.0",
      "model_name": "HBoxModel",
      "state": {
       "children": [
        "IPY_MODEL_6a6f615de03a4649af512f135b152984",
        "IPY_MODEL_c46f5ff856fd462f9aa4c788ae2e855f",
        "IPY_MODEL_2daaf6242ed9461985d9559a718b68a5"
       ],
       "layout": "IPY_MODEL_1dbafdd152c84ab4b7288ac443955d83"
      }
     },
     "60de4dd588524811b9f7f570333c992e": {
      "model_module": "@jupyter-widgets/controls",
      "model_module_version": "1.5.0",
      "model_name": "ColorPickerModel",
      "state": {
       "description": "emission",
       "disabled": false,
       "layout": "IPY_MODEL_bc804d01749f467fa36b4d0fc112a86f",
       "style": "IPY_MODEL_6f13c95ab522410eb45bbc852e3ad844",
       "value": "#000000"
      }
     },
     "610f7650b05c421c99fd9175cb6f82c4": {
      "model_module": "@jupyter-widgets/controls",
      "model_module_version": "1.5.0",
      "model_name": "DescriptionStyleModel",
      "state": {
       "description_width": ""
      }
     },
     "6120d60994144590bb1063cb54022e89": {
      "model_module": "@jupyter-widgets/controls",
      "model_module_version": "1.5.0",
      "model_name": "ColorPickerModel",
      "state": {
       "description": "specular",
       "disabled": false,
       "layout": "IPY_MODEL_78d652192b4b4743bc2c5517507e5afc",
       "style": "IPY_MODEL_138e5976c87e467db45a4df41b5803ab",
       "value": "#478f9f"
      }
     },
     "6123c57c0dbe4538b3dd7c1dd9f725aa": {
      "model_module": "@jupyter-widgets/controls",
      "model_module_version": "1.5.0",
      "model_name": "DescriptionStyleModel",
      "state": {
       "description_width": ""
      }
     },
     "613323765a7743b8bbb7355e6b86eebd": {
      "model_module": "@jupyter-widgets/base",
      "model_module_version": "1.2.0",
      "model_name": "LayoutModel",
      "state": {}
     },
     "616af2473b024094a88486d7024b2d12": {
      "model_module": "@jupyter-widgets/controls",
      "model_module_version": "1.5.0",
      "model_name": "ButtonModel",
      "state": {
       "description": "Add category",
       "layout": "IPY_MODEL_bc4a33b3933f4b8bb18ecb27d380ed74",
       "style": "IPY_MODEL_aa8331cd29884639b595e01bf28fd55a"
      }
     },
     "617cdacfed1949cab54a16c180c5110d": {
      "model_module": "pgljupyter",
      "model_module_version": "^0.1.15",
      "model_name": "MaterialEditorModel",
      "state": {
       "_model_module_version": "^0.1.15",
       "_view_module_version": "^0.1.15",
       "children": [
        "IPY_MODEL_48586a848e08438299ebded38fec8f84",
        "IPY_MODEL_e7259c5497f84e1aab37519dbcad93ac",
        "IPY_MODEL_cf03090252ae4c0889577f516c020b2a",
        "IPY_MODEL_b2281f0f5285481f920f4cdaaf8e1be3",
        "IPY_MODEL_1c407f550b804b298b4387b1c3ea9fbb",
        "IPY_MODEL_21b3220570124d98b179bdfeb5808fce",
        "IPY_MODEL_0de9d0bab3ea4b2aacaf915738257b82"
       ],
       "layout": "IPY_MODEL_81d2078f6d2d4f85b52040893d4bfd95"
      }
     },
     "617dd871b3974aa984eea01a4c161657": {
      "model_module": "pgljupyter",
      "model_module_version": "^0.1.2",
      "model_name": "_CurveEditorModel",
      "state": {
       "_model_module_version": "^0.1.2",
       "_view_module_version": "^0.1.2",
       "control_points": [
        [
         -0.5,
         0
        ],
        [
         -0.25,
         0.25
        ],
        [
         0,
         -0.25
        ],
        [
         0.25,
         0.25
        ],
        [
         0.5,
         0
        ]
       ],
       "curve_type": "NurbsCurve2D",
       "layout": "IPY_MODEL_b0c4b4c1dd984e44aaa7bb43a9eaa03f"
      }
     },
     "619100896f744320bed2a1dbbf0263a8": {
      "model_module": "@jupyter-widgets/controls",
      "model_module_version": "1.5.0",
      "model_name": "DescriptionStyleModel",
      "state": {
       "description_width": ""
      }
     },
     "6194e43fb489473e9bd1e1543e91458e": {
      "model_module": "@jupyter-widgets/controls",
      "model_module_version": "1.5.0",
      "model_name": "BoundedIntTextModel",
      "state": {
       "description": "step",
       "layout": "IPY_MODEL_b25daccebff14d03b80eed1aa3954352",
       "min": 1,
       "style": "IPY_MODEL_ff9fd4d06cd7454f8709e4a0d31e4552",
       "value": 1
      }
     },
     "61a348d649c34723ba3ac6274b9522dd": {
      "model_module": "@jupyter-widgets/base",
      "model_module_version": "1.2.0",
      "model_name": "LayoutModel",
      "state": {}
     },
     "61c449b60b4c4a21be0c707bc74e9bf8": {
      "model_module": "pgljupyter",
      "model_module_version": "^0.1.15",
      "model_name": "IntEditorModel",
      "state": {
       "_model_module_version": "^0.1.15",
       "_view_module_version": "^0.1.15",
       "children": [
        "IPY_MODEL_02bf8ebed60641da9aac3f46aa09b284",
        "IPY_MODEL_9bd9905846784bc8b237e6b1ea5cc92a",
        "IPY_MODEL_f51d23fb95a149d58c45b9418439c024",
        "IPY_MODEL_bb64343143ba4af99b7584a1195309c2",
        "IPY_MODEL_6e6a8a280e2c4c7fa8cdd2b6dc2c04f4"
       ],
       "layout": "IPY_MODEL_69e50aa4f1084091a6c98ab0fd6c4c8c"
      }
     },
     "61d2c32cb28d4a9792ff4c4dc73a2009": {
      "model_module": "@jupyter-widgets/controls",
      "model_module_version": "1.5.0",
      "model_name": "ColorPickerModel",
      "state": {
       "description": "emission",
       "disabled": false,
       "layout": "IPY_MODEL_bcf84129fbc7479aa24d53d686dc7155",
       "style": "IPY_MODEL_e7dc7fcd593c4e28ae3cb3fdec811293",
       "value": "#000000"
      }
     },
     "6200925a216c48bbb2cf86af35d60198": {
      "model_module": "@jupyter-widgets/controls",
      "model_module_version": "1.5.0",
      "model_name": "TextModel",
      "state": {
       "layout": "IPY_MODEL_4c33b2ff3f1c47ffb18a56039702b03b",
       "placeholder": "category name",
       "style": "IPY_MODEL_3026ebc9a30243b1bc25015d05d6c0c7"
      }
     },
     "6222902e646a4c918719f62a19ad6f37": {
      "model_module": "@jupyter-widgets/base",
      "model_module_version": "1.2.0",
      "model_name": "LayoutModel",
      "state": {}
     },
     "622554349f6e4c379e9b6f67fcf8b442": {
      "model_module": "@jupyter-widgets/base",
      "model_module_version": "1.2.0",
      "model_name": "LayoutModel",
      "state": {}
     },
     "623430f9ad264a569f56254963833d42": {
      "model_module": "@jupyter-widgets/controls",
      "model_module_version": "1.5.0",
      "model_name": "TextModel",
      "state": {
       "continuous_update": false,
       "description": "name",
       "layout": "IPY_MODEL_763e8c82a8a341a1b6a154f9b443d6ad",
       "style": "IPY_MODEL_f378e5f9f0b6407c8d4b7b8343855811",
       "value": "NurbsCurve2D_0"
      }
     },
     "623e81db71ea422db044942bcc93d00e": {
      "model_module": "@jupyter-widgets/base",
      "model_module_version": "1.2.0",
      "model_name": "LayoutModel",
      "state": {}
     },
     "6255f3e7a2e84bc1a6d7fc498ff3dba6": {
      "model_module": "@jupyter-widgets/controls",
      "model_module_version": "1.5.0",
      "model_name": "ButtonStyleModel",
      "state": {}
     },
     "62563c2f8f8c4d82b179abb13066ff9d": {
      "model_module": "@jupyter-widgets/controls",
      "model_module_version": "1.5.0",
      "model_name": "DescriptionStyleModel",
      "state": {
       "description_width": ""
      }
     },
     "6258e8c7e3a04cb5a58e1a9d20a647c3": {
      "model_module": "@jupyter-widgets/base",
      "model_module_version": "1.2.0",
      "model_name": "LayoutModel",
      "state": {}
     },
     "625d2e054f944c3d873f3838a4674302": {
      "model_module": "@jupyter-widgets/controls",
      "model_module_version": "1.5.0",
      "model_name": "DescriptionStyleModel",
      "state": {
       "description_width": ""
      }
     },
     "627c271f78834217bc20d170efbb89bc": {
      "model_module": "@jupyter-widgets/base",
      "model_module_version": "1.2.0",
      "model_name": "LayoutModel",
      "state": {}
     },
     "629054a4b105496a857a543e7ed22ae8": {
      "model_module": "@jupyter-widgets/controls",
      "model_module_version": "1.5.0",
      "model_name": "DescriptionStyleModel",
      "state": {
       "description_width": ""
      }
     },
     "62deae52a33f40b6b13beb81801d5430": {
      "model_module": "@jupyter-widgets/base",
      "model_module_version": "1.2.0",
      "model_name": "LayoutModel",
      "state": {}
     },
     "62ec89cc0dd34f1285be7721c7c1a81f": {
      "model_module": "@jupyter-widgets/controls",
      "model_module_version": "1.5.0",
      "model_name": "HBoxModel",
      "state": {
       "children": [
        "IPY_MODEL_d9b71651e2e4497eb40d4f0bf556527f",
        "IPY_MODEL_f3d860caabce4e098008ac83f4020283"
       ],
       "layout": "IPY_MODEL_1bcadc721303432abe9c782e04d39bdb"
      }
     },
     "62f37a5d014644cda8ab470a0f963659": {
      "model_module": "@jupyter-widgets/controls",
      "model_module_version": "1.5.0",
      "model_name": "ColorPickerModel",
      "state": {
       "description": "emission",
       "disabled": false,
       "layout": "IPY_MODEL_63858c739e8d463fbb7c8014ff721408",
       "style": "IPY_MODEL_aa7c73dab4c545fe9da210d0936d71ea",
       "value": "#000000"
      }
     },
     "632f8ed8e8d54c0fb211a3f817e5249b": {
      "model_module": "@jupyter-widgets/controls",
      "model_module_version": "1.5.0",
      "model_name": "ButtonStyleModel",
      "state": {}
     },
     "6337822b21ae462cae54b00f4396c33f": {
      "model_module": "@jupyter-widgets/controls",
      "model_module_version": "1.5.0",
      "model_name": "DescriptionStyleModel",
      "state": {
       "description_width": ""
      }
     },
     "635084b479ec47388dd7721df70a9b3d": {
      "model_module": "@jupyter-widgets/base",
      "model_module_version": "1.2.0",
      "model_name": "LayoutModel",
      "state": {}
     },
     "6368053aed524502b45b99eae25e4e13": {
      "model_module": "@jupyter-widgets/controls",
      "model_module_version": "1.5.0",
      "model_name": "ColorPickerModel",
      "state": {
       "description": "emission",
       "disabled": false,
       "layout": "IPY_MODEL_786ed63a12464723a7f0b5d57199c2f7",
       "style": "IPY_MODEL_a20e2dbbc07b4e4b9085d82841a24a03",
       "value": "#1f48db"
      }
     },
     "63858c739e8d463fbb7c8014ff721408": {
      "model_module": "@jupyter-widgets/base",
      "model_module_version": "1.2.0",
      "model_name": "LayoutModel",
      "state": {}
     },
     "6386bd093b594fef8960b67fe4da385a": {
      "model_module": "@jupyter-widgets/controls",
      "model_module_version": "1.5.0",
      "model_name": "CheckboxModel",
      "state": {
       "description": "Auto apply",
       "disabled": false,
       "layout": "IPY_MODEL_fcd0343807064c26802b0592e882da87",
       "style": "IPY_MODEL_2124f577ea8146cd94b37e5274438e2b",
       "value": false
      }
     },
     "638d9ba87d3344748959003409004080": {
      "model_module": "@jupyter-widgets/controls",
      "model_module_version": "1.5.0",
      "model_name": "HBoxModel",
      "state": {
       "children": [
        "IPY_MODEL_a394a4809f7e46e99c7060e9050094ba",
        "IPY_MODEL_fe2b1c6cc94d41b8835500aa026cf33d",
        "IPY_MODEL_e6f7999a813c4addbdf894e262c9168f",
        "IPY_MODEL_4e8d1d5dc75349a687367ab1a1036add"
       ],
       "layout": "IPY_MODEL_bb156c39f7374a1b9165dded955416f5"
      }
     },
     "639c7afae977402a9d6005869e8612a9": {
      "model_module": "@jupyter-widgets/base",
      "model_module_version": "1.2.0",
      "model_name": "LayoutModel",
      "state": {
       "margin": "20px 0px"
      }
     },
     "63b4947d7fa1417cae7c1d3f084d49d5": {
      "model_module": "@jupyter-widgets/base",
      "model_module_version": "1.2.0",
      "model_name": "LayoutModel",
      "state": {}
     },
     "63dff80e781144f5a477c6d40a00509b": {
      "model_module": "@jupyter-widgets/base",
      "model_module_version": "1.2.0",
      "model_name": "LayoutModel",
      "state": {}
     },
     "63f8bca011bd4353b0079cc808cb0997": {
      "model_module": "@jupyter-widgets/controls",
      "model_module_version": "1.5.0",
      "model_name": "VBoxModel",
      "state": {
       "children": [
        "IPY_MODEL_392bdfe9de4a4cf89a6621b7683feb71",
        "IPY_MODEL_254a55cdb9ff4358a3b0a0bc4472d4f1",
        "IPY_MODEL_c3ff6d394da043618f2964a7032c2178",
        "IPY_MODEL_209ff0e3bdf043ca993fd51d452c1483",
        "IPY_MODEL_6996370098ce4af28d43907de665d340"
       ],
       "layout": "IPY_MODEL_cd5def2d96ba4804bf5a48963c01a007"
      }
     },
     "64120dfb80a645d68606e0062c5c563c": {
      "model_module": "@jupyter-widgets/controls",
      "model_module_version": "1.5.0",
      "model_name": "IntSliderModel",
      "state": {
       "description": "value",
       "layout": "IPY_MODEL_564a42c5a9ca42cb9b9795167a4f42b8",
       "max": 10,
       "min": 1,
       "style": "IPY_MODEL_8183e159292c422d80f970aecd1f0626",
       "value": 5
      }
     },
     "64284312bcd04c15829fdb46e542237c": {
      "model_module": "@jupyter-widgets/controls",
      "model_module_version": "1.5.0",
      "model_name": "ColorPickerModel",
      "state": {
       "description": "specular",
       "disabled": false,
       "layout": "IPY_MODEL_0e232481024146b19ac53c3590e4a691",
       "style": "IPY_MODEL_34c506a5fd4c4cb994b86db5544979d4",
       "value": "#478f9f"
      }
     },
     "642c38824491457889d7ecaa214ec68f": {
      "model_module": "@jupyter-widgets/controls",
      "model_module_version": "1.5.0",
      "model_name": "DescriptionStyleModel",
      "state": {
       "description_width": ""
      }
     },
     "64361cb80cfa475a80c48db48ff0a302": {
      "model_module": "@jupyter-widgets/base",
      "model_module_version": "1.2.0",
      "model_name": "LayoutModel",
      "state": {}
     },
     "64851e98c06f423f9f15f77da2012540": {
      "model_module": "@jupyter-widgets/base",
      "model_module_version": "1.2.0",
      "model_name": "LayoutModel",
      "state": {}
     },
     "6495fb9303f84d9d9cd2f2cf5993fe8a": {
      "model_module": "@jupyter-widgets/controls",
      "model_module_version": "1.5.0",
      "model_name": "ColorPickerModel",
      "state": {
       "description": "emission",
       "disabled": false,
       "layout": "IPY_MODEL_9764c640c2bd4beaa84c225f30c2b73a",
       "style": "IPY_MODEL_d237add396e74f7cb0ed74f9cb41ca44",
       "value": "#000000"
      }
     },
     "64988f0b5e374ed49f93bfb333503a97": {
      "model_module": "@jupyter-widgets/controls",
      "model_module_version": "1.5.0",
      "model_name": "DescriptionStyleModel",
      "state": {
       "description_width": ""
      }
     },
     "649d1541de7b46a0b1ee576e245cf092": {
      "model_module": "@jupyter-widgets/base",
      "model_module_version": "1.2.0",
      "model_name": "LayoutModel",
      "state": {}
     },
     "64a1e196cd8b4735b903883e27f12794": {
      "model_module": "@jupyter-widgets/base",
      "model_module_version": "1.2.0",
      "model_name": "LayoutModel",
      "state": {}
     },
     "64e35a6d4466474da823d95904f32520": {
      "model_module": "@jupyter-widgets/base",
      "model_module_version": "1.2.0",
      "model_name": "LayoutModel",
      "state": {}
     },
     "6509e7284ebf48ea8852e819d225daf6": {
      "model_module": "@jupyter-widgets/controls",
      "model_module_version": "1.5.0",
      "model_name": "DescriptionStyleModel",
      "state": {
       "description_width": ""
      }
     },
     "6526d94e31d541bf82341883da088798": {
      "model_module": "@jupyter-widgets/base",
      "model_module_version": "1.2.0",
      "model_name": "LayoutModel",
      "state": {}
     },
     "655e5ae6639c46f19abdc943c9b8ebb8": {
      "model_module": "@jupyter-widgets/controls",
      "model_module_version": "1.5.0",
      "model_name": "TextModel",
      "state": {
       "continuous_update": false,
       "description": "name",
       "layout": "IPY_MODEL_338d43dd583a46258a5c9c915eee7e50",
       "style": "IPY_MODEL_34542b9db14a40a69b4c113983071f5f",
       "value": "color_2"
      }
     },
     "65731830c54441e598c43d1764a538a2": {
      "model_module": "@jupyter-widgets/base",
      "model_module_version": "1.2.0",
      "model_name": "LayoutModel",
      "state": {}
     },
     "65af0dba7c4e4c4f8189bb130541bd93": {
      "model_module": "@jupyter-widgets/controls",
      "model_module_version": "1.5.0",
      "model_name": "DescriptionStyleModel",
      "state": {
       "description_width": ""
      }
     },
     "65bdf3a7d2c248919a89fc3a98dfb617": {
      "model_module": "@jupyter-widgets/controls",
      "model_module_version": "1.5.0",
      "model_name": "DescriptionStyleModel",
      "state": {
       "description_width": ""
      }
     },
     "65fe108d37ac4ca49def87c269901bf1": {
      "model_module": "@jupyter-widgets/controls",
      "model_module_version": "1.5.0",
      "model_name": "DescriptionStyleModel",
      "state": {
       "description_width": ""
      }
     },
     "660849255c0f44c4bfdc973e0a97035b": {
      "model_module": "@jupyter-widgets/controls",
      "model_module_version": "1.5.0",
      "model_name": "BoundedIntTextModel",
      "state": {
       "description": "index",
       "layout": "IPY_MODEL_db2c3d17ca504ca5b12bf8431213c47a",
       "style": "IPY_MODEL_14b6bd5944294c1584714b8a69fb3b44",
       "value": 1
      }
     },
     "660de94f0adc4a67ad18f37582679166": {
      "model_module": "@jupyter-widgets/base",
      "model_module_version": "1.2.0",
      "model_name": "LayoutModel",
      "state": {}
     },
     "6619d75e6a884ddf96b7d93f22aa80d4": {
      "model_module": "@jupyter-widgets/controls",
      "model_module_version": "1.5.0",
      "model_name": "DescriptionStyleModel",
      "state": {
       "description_width": ""
      }
     },
     "6655a1fa38d14dc0990e87852b5b4bda": {
      "model_module": "@jupyter-widgets/base",
      "model_module_version": "1.2.0",
      "model_name": "LayoutModel",
      "state": {}
     },
     "6666188aa3f4449999d1694b25ad41ee": {
      "model_module": "@jupyter-widgets/controls",
      "model_module_version": "1.5.0",
      "model_name": "DescriptionStyleModel",
      "state": {
       "description_width": ""
      }
     },
     "666da6f2049d435a8e672be645d8678c": {
      "model_module": "@jupyter-widgets/controls",
      "model_module_version": "1.5.0",
      "model_name": "HBoxModel",
      "state": {
       "children": [
        "IPY_MODEL_1360852eaa564dba8ca4524d9ccb887e",
        "IPY_MODEL_4c154ed5ea0a4587b249ab7056c08fdc",
        "IPY_MODEL_1847f03a7644430c938745fc3c878bb1"
       ],
       "layout": "IPY_MODEL_233ee9c66bd7470784b5e77a3bf25e16"
      }
     },
     "668afd4f05534405bbd4233ec70dac91": {
      "model_module": "@jupyter-widgets/controls",
      "model_module_version": "1.5.0",
      "model_name": "DropdownModel",
      "state": {
       "_options_labels": [
        "color_1",
        "color_2",
        "color_3",
        "color_4"
       ],
       "index": 0,
       "layout": "IPY_MODEL_58b24918f6c84d639e3451e6a319459c",
       "style": "IPY_MODEL_dda3a7c45af647cd99ae90f22c07e6ee"
      }
     },
     "669728b8ae5a49c792ed0600cd4c0592": {
      "model_module": "@jupyter-widgets/controls",
      "model_module_version": "1.5.0",
      "model_name": "DropdownModel",
      "state": {
       "_options_labels": [
        "NurbsCurve2D",
        "BezierCurve2D",
        "Polyline2D",
        "Function"
       ],
       "index": 0,
       "layout": "IPY_MODEL_5ab9113113e04cbc8f728a3925f24dc8",
       "style": "IPY_MODEL_01d156abe9e64f279c9e54ff54687842"
      }
     },
     "66a38512e5894ad4bab41ae44113531a": {
      "model_module": "@jupyter-widgets/controls",
      "model_module_version": "1.5.0",
      "model_name": "FloatSliderModel",
      "state": {
       "description": "diffuse",
       "layout": "IPY_MODEL_0b4645fbad8a429ea2d3c445d6b538cc",
       "max": 1,
       "step": 0.1,
       "style": "IPY_MODEL_70123862f7fe40a699367ba39c451ea9",
       "value": 0.75
      }
     },
     "66a3c0be6b5c49b68bd45ef3678ec448": {
      "model_module": "@jupyter-widgets/controls",
      "model_module_version": "1.5.0",
      "model_name": "DescriptionStyleModel",
      "state": {
       "description_width": ""
      }
     },
     "66bb2017fd90445ebdec1cf0fe5b5d5b": {
      "model_module": "@jupyter-widgets/controls",
      "model_module_version": "1.5.0",
      "model_name": "DescriptionStyleModel",
      "state": {
       "description_width": ""
      }
     },
     "66e71304f5a846cc9f53b7e132633cca": {
      "model_module": "@jupyter-widgets/base",
      "model_module_version": "1.2.0",
      "model_name": "LayoutModel",
      "state": {
       "margin": "20px 0px"
      }
     },
     "66e96d5e03764a128d2728ad231c0fbf": {
      "model_module": "@jupyter-widgets/base",
      "model_module_version": "1.2.0",
      "model_name": "LayoutModel",
      "state": {}
     },
     "66f9086d69524b4ba2c5975000843ec2": {
      "model_module": "@jupyter-widgets/base",
      "model_module_version": "1.2.0",
      "model_name": "LayoutModel",
      "state": {}
     },
     "671a0c1d002f4c0797ca8a6ade723793": {
      "model_module": "@jupyter-widgets/controls",
      "model_module_version": "1.5.0",
      "model_name": "HBoxModel",
      "state": {
       "children": [
        "IPY_MODEL_314d95cfe7894a9fb7f7430e808bd058",
        "IPY_MODEL_a190af397e0f4f46aeea69950b5d083b"
       ],
       "layout": "IPY_MODEL_1b028107b51247fa803a26d5565694cb"
      }
     },
     "674a914ce6c54b60af42ddb5ffca3dc9": {
      "model_module": "@jupyter-widgets/base",
      "model_module_version": "1.2.0",
      "model_name": "LayoutModel",
      "state": {
       "flex_flow": "row wrap",
       "margin": "20px"
      }
     },
     "677f5c34bf3d4ae78e59a950c381d3d9": {
      "model_module": "@jupyter-widgets/controls",
      "model_module_version": "1.5.0",
      "model_name": "AccordionModel",
      "state": {
       "_titles": {
        "0": "scalars",
        "1": "materials",
        "2": "functions",
        "3": "curves"
       },
       "children": [
        "IPY_MODEL_c8f45965b1124a4a90d52cde0a186035",
        "IPY_MODEL_28e28f98ef9542749eeea320db4cb0e4",
        "IPY_MODEL_b9eb8d3f8c6a4b18a72f185724416aa4",
        "IPY_MODEL_27f3e2e5bd414ac1ad3c19f37247942e"
       ],
       "layout": "IPY_MODEL_201f1a1a76c240bd9efc0e2bb60a3035",
       "selected_index": 3
      }
     },
     "67822b865e28401295637b483ee8afb1": {
      "model_module": "@jupyter-widgets/controls",
      "model_module_version": "1.5.0",
      "model_name": "DescriptionStyleModel",
      "state": {
       "description_width": ""
      }
     },
     "67d894c6449349d9a2099e85b4344600": {
      "model_module": "@jupyter-widgets/base",
      "model_module_version": "1.2.0",
      "model_name": "LayoutModel",
      "state": {}
     },
     "6810e648aef64abea58b5d98674de0b8": {
      "model_module": "@jupyter-widgets/base",
      "model_module_version": "1.2.0",
      "model_name": "LayoutModel",
      "state": {}
     },
     "6820caa08fc448679f7639840eb42312": {
      "model_module": "@jupyter-widgets/base",
      "model_module_version": "1.2.0",
      "model_name": "LayoutModel",
      "state": {}
     },
     "6832e4ecd3b048738ac7cf2e43425fa0": {
      "model_module": "@jupyter-widgets/controls",
      "model_module_version": "1.5.0",
      "model_name": "ColorPickerModel",
      "state": {
       "description": "ambient",
       "disabled": false,
       "layout": "IPY_MODEL_d982615c412e4df78160e7f15829045f",
       "style": "IPY_MODEL_accd6ff231484e77ae01a426d7beea23",
       "value": "#5b4534"
      }
     },
     "68706a1111d3487ebdb00d305a329564": {
      "model_module": "@jupyter-widgets/base",
      "model_module_version": "1.2.0",
      "model_name": "LayoutModel",
      "state": {}
     },
     "687474b07fcc40819ab28dec21c46a25": {
      "model_module": "@jupyter-widgets/controls",
      "model_module_version": "1.5.0",
      "model_name": "DescriptionStyleModel",
      "state": {
       "description_width": ""
      }
     },
     "688fe3d73f9c4ca091ec59245c5a6eb0": {
      "model_module": "@jupyter-widgets/controls",
      "model_module_version": "1.5.0",
      "model_name": "ColorPickerModel",
      "state": {
       "description": "ambient",
       "disabled": false,
       "layout": "IPY_MODEL_63dff80e781144f5a477c6d40a00509b",
       "style": "IPY_MODEL_a129fee5fb204685b9447aa4f41bcb91",
       "value": "#0fc4db"
      }
     },
     "689ea972cbce41a8b32df7bdc67b10ae": {
      "model_module": "@jupyter-widgets/controls",
      "model_module_version": "1.5.0",
      "model_name": "SliderStyleModel",
      "state": {
       "description_width": ""
      }
     },
     "68a999f616cb409eaf56145edc21d134": {
      "model_module": "@jupyter-widgets/controls",
      "model_module_version": "1.5.0",
      "model_name": "ButtonModel",
      "state": {
       "description": "Add",
       "layout": "IPY_MODEL_fe83071c6a9940158069480e78541e89",
       "style": "IPY_MODEL_1528398a025c46599e2ad6d8bc592960"
      }
     },
     "68ab15503e7144eeaca416345a4ffac9": {
      "model_module": "@jupyter-widgets/controls",
      "model_module_version": "1.5.0",
      "model_name": "IntTextModel",
      "state": {
       "description": "min",
       "layout": "IPY_MODEL_c952ec26cc944d2c98b0609f2529feb9",
       "step": 1,
       "style": "IPY_MODEL_785d23de29b3466fb3cd97aea35503e7",
       "value": 1
      }
     },
     "68c85118ad164578b30b1f973b2d8833": {
      "model_module": "@jupyter-widgets/controls",
      "model_module_version": "1.5.0",
      "model_name": "HBoxModel",
      "state": {
       "children": [
        "IPY_MODEL_704b5687cf6043b9a36027c87dea4c23",
        "IPY_MODEL_776b2221bf7e44479f62266f542cfc6f",
        "IPY_MODEL_12bff2a628604b9eb7d4bf50dfd9fb0a",
        "IPY_MODEL_c093b97b12b746008d103f1518ae45cd",
        "IPY_MODEL_9db181b7271b4352b441e0f4f37bd23c"
       ],
       "layout": "IPY_MODEL_bb156c39f7374a1b9165dded955416f5"
      }
     },
     "68d4d32522324167853f19a5446c3d0c": {
      "model_module": "@jupyter-widgets/controls",
      "model_module_version": "1.5.0",
      "model_name": "DescriptionStyleModel",
      "state": {
       "description_width": ""
      }
     },
     "68e4a880f26d4dce885c78be2c855d92": {
      "model_module": "@jupyter-widgets/base",
      "model_module_version": "1.2.0",
      "model_name": "LayoutModel",
      "state": {}
     },
     "68e4bdf17af9497eb7aa9c99b80ac715": {
      "model_module": "@jupyter-widgets/controls",
      "model_module_version": "1.5.0",
      "model_name": "IntSliderModel",
      "state": {
       "description": "value",
       "layout": "IPY_MODEL_ed77f043f57c453185e88f41eb97980c",
       "max": 10,
       "min": 1,
       "style": "IPY_MODEL_bed3960f239c45c989041abe69ed15fd",
       "value": 8
      }
     },
     "690f42ae5a094b499d0de205cfa3414f": {
      "model_module": "@jupyter-widgets/controls",
      "model_module_version": "1.5.0",
      "model_name": "DescriptionStyleModel",
      "state": {
       "description_width": ""
      }
     },
     "6936b2bdebaf451c9767cd63f4c5a6be": {
      "model_module": "@jupyter-widgets/base",
      "model_module_version": "1.2.0",
      "model_name": "LayoutModel",
      "state": {}
     },
     "69530d9f948a4c63820584df4fd3e4bd": {
      "model_module": "@jupyter-widgets/controls",
      "model_module_version": "1.5.0",
      "model_name": "SliderStyleModel",
      "state": {
       "description_width": ""
      }
     },
     "696580c1daba4b0e9e966e2c447797b3": {
      "model_module": "@jupyter-widgets/base",
      "model_module_version": "1.2.0",
      "model_name": "LayoutModel",
      "state": {
       "margin": "20px 0px"
      }
     },
     "696f52cf344143c98b85c1ca3c6b98da": {
      "model_module": "pgljupyter",
      "model_module_version": "^0.1.15",
      "model_name": "MaterialEditorModel",
      "state": {
       "_model_module_version": "^0.1.15",
       "_view_module_version": "^0.1.15",
       "children": [
        "IPY_MODEL_655e5ae6639c46f19abdc943c9b8ebb8",
        "IPY_MODEL_1d65eef2360e43fca30cac701048eee9",
        "IPY_MODEL_d31ee638a5b34098ba43d2055040308f",
        "IPY_MODEL_c3efd574ad8847a59f4ac4729385aed9",
        "IPY_MODEL_d221c96f27ea44ba828372754d931a94",
        "IPY_MODEL_8c2c0a343fea428f8bb2311430031840",
        "IPY_MODEL_b7b357a66639420aa908d043de1e82b4",
        "IPY_MODEL_9f0e59d54aa449baa97a3a96ec3347ad"
       ],
       "layout": "IPY_MODEL_27a515b51aa64462b99657ee916fa20d"
      }
     },
     "6996370098ce4af28d43907de665d340": {
      "model_module": "@jupyter-widgets/controls",
      "model_module_version": "1.5.0",
      "model_name": "HBoxModel",
      "state": {
       "layout": "IPY_MODEL_d01d509395ce42ef85936a42ffd78529"
      }
     },
     "6999e8f3921f428c8e628c70705e7d0b": {
      "model_module": "@jupyter-widgets/base",
      "model_module_version": "1.2.0",
      "model_name": "LayoutModel",
      "state": {}
     },
     "69e50aa4f1084091a6c98ab0fd6c4c8c": {
      "model_module": "@jupyter-widgets/base",
      "model_module_version": "1.2.0",
      "model_name": "LayoutModel",
      "state": {
       "margin": "20px 0px"
      }
     },
     "69f9201b0d8749718d1eaad584a7b5e3": {
      "model_module": "@jupyter-widgets/base",
      "model_module_version": "1.2.0",
      "model_name": "LayoutModel",
      "state": {}
     },
     "6a0f0f1f6c834f96b804245f378aabd5": {
      "model_module": "@jupyter-widgets/controls",
      "model_module_version": "1.5.0",
      "model_name": "DescriptionStyleModel",
      "state": {
       "description_width": ""
      }
     },
     "6a29a2123883407c9f1782ab4ccc29a2": {
      "model_module": "@jupyter-widgets/controls",
      "model_module_version": "1.5.0",
      "model_name": "DescriptionStyleModel",
      "state": {
       "description_width": ""
      }
     },
     "6a3b11bd161e4211822cbde9cb732600": {
      "model_module": "@jupyter-widgets/base",
      "model_module_version": "1.2.0",
      "model_name": "LayoutModel",
      "state": {}
     },
     "6a6f615de03a4649af512f135b152984": {
      "model_module": "pgljupyter",
      "model_module_version": "^0.1.2",
      "model_name": "MaterialEditorModel",
      "state": {
       "_model_module_version": "^0.1.2",
       "_view_module_version": "^0.1.2",
       "children": [
        "IPY_MODEL_c46c96224a2c4453bc909a37698703a4",
        "IPY_MODEL_0ce72c849bc04be1ace040e227e17d68",
        "IPY_MODEL_1ed24c18a95c414f91f22ce72969f31c",
        "IPY_MODEL_64284312bcd04c15829fdb46e542237c",
        "IPY_MODEL_f9f743e89f6a4cc3af534e5d9f0f052d",
        "IPY_MODEL_6bfb2d182dcd4ae2be5bd9a133edb487",
        "IPY_MODEL_ba414c61699f4ef78a51f82ac1b8dfdd",
        "IPY_MODEL_4ccd58c794d4443dbe55872516e36d08"
       ],
       "layout": "IPY_MODEL_36b8f608b82b478f82ede67b0c91fb67"
      }
     },
     "6a859ed750ad4f4cb2637ab68be1b4e0": {
      "model_module": "@jupyter-widgets/controls",
      "model_module_version": "1.5.0",
      "model_name": "TextModel",
      "state": {
       "layout": "IPY_MODEL_f16d898eef7442f096ef8c1367ad56e9",
       "placeholder": "category name",
       "style": "IPY_MODEL_53eddd4fbf794a9cb86fcedd27f76fc2"
      }
     },
     "6aa4b4a1ca5f4731b9f8343c79a14cc1": {
      "model_module": "@jupyter-widgets/base",
      "model_module_version": "1.2.0",
      "model_name": "LayoutModel",
      "state": {}
     },
     "6abc2715de574965ab92bda53a467e6e": {
      "model_module": "@jupyter-widgets/controls",
      "model_module_version": "1.5.0",
      "model_name": "CheckboxModel",
      "state": {
       "description": "Auto save",
       "disabled": false,
       "layout": "IPY_MODEL_68e4a880f26d4dce885c78be2c855d92",
       "style": "IPY_MODEL_d7f70790051840ab9d1dcb8f3c7c3bbf",
       "value": false
      }
     },
     "6acc49b72cf6431e86b1641f7e432a4a": {
      "model_module": "@jupyter-widgets/controls",
      "model_module_version": "1.5.0",
      "model_name": "IntTextModel",
      "state": {
       "description": "max",
       "layout": "IPY_MODEL_e44c3a9a37614eeb88bf81b14bbc07fd",
       "step": 1,
       "style": "IPY_MODEL_6337822b21ae462cae54b00f4396c33f",
       "value": 10
      }
     },
     "6acfc62982814cd49fffa4d2886d0761": {
      "model_module": "@jupyter-widgets/controls",
      "model_module_version": "1.5.0",
      "model_name": "DescriptionStyleModel",
      "state": {
       "description_width": ""
      }
     },
     "6b15f8d6e02b41eb95f65eb9f6095ea1": {
      "model_module": "@jupyter-widgets/controls",
      "model_module_version": "1.5.0",
      "model_name": "VBoxModel",
      "state": {
       "children": [
        "IPY_MODEL_a1efa36e0b01442da3c74bf7f3c75557",
        "IPY_MODEL_984b9c846c2745a480a2020feaa5cb7e"
       ],
       "layout": "IPY_MODEL_613323765a7743b8bbb7355e6b86eebd"
      }
     },
     "6b2707d91e9942bc8b595dfd3b63cc46": {
      "model_module": "pgljupyter",
      "model_module_version": "^0.1.2",
      "model_name": "_CurveEditorModel",
      "state": {
       "_model_module_version": "^0.1.2",
       "_view_module_version": "^0.1.2",
       "control_points": [
        [
         -0.5,
         0
        ],
        [
         -0.16818181818181818,
         0.3909090909090909
        ],
        [
         0.14396306818181814,
         -0.19545454545454544
        ],
        [
         0.5,
         0
        ]
       ],
       "curve_type": "Polyline2D",
       "layout": "IPY_MODEL_a8fd500864cb4891bf6ee0c6efef290e"
      }
     },
     "6b42ee7a9908446f983fc6c0005656ad": {
      "model_module": "@jupyter-widgets/controls",
      "model_module_version": "1.5.0",
      "model_name": "DescriptionStyleModel",
      "state": {
       "description_width": ""
      }
     },
     "6b84efe2fa5a4bfe948eaa3c3d48f63c": {
      "model_module": "@jupyter-widgets/base",
      "model_module_version": "1.2.0",
      "model_name": "LayoutModel",
      "state": {}
     },
     "6bb8958c70624458abcfedad592ad4c1": {
      "model_module": "@jupyter-widgets/base",
      "model_module_version": "1.2.0",
      "model_name": "LayoutModel",
      "state": {}
     },
     "6bc71166486f4e74904e84efc935c284": {
      "model_module": "@jupyter-widgets/base",
      "model_module_version": "1.2.0",
      "model_name": "LayoutModel",
      "state": {}
     },
     "6bfb2d182dcd4ae2be5bd9a133edb487": {
      "model_module": "@jupyter-widgets/controls",
      "model_module_version": "1.5.0",
      "model_name": "FloatSliderModel",
      "state": {
       "description": "diffuse",
       "layout": "IPY_MODEL_2324b9eea997437aa217c0493ef8036f",
       "max": 1,
       "step": 0.1,
       "style": "IPY_MODEL_7e46666caca84af194dd3330296034d5"
      }
     },
     "6c376598cf884f69ac27c0f80c3af2d6": {
      "model_module": "@jupyter-widgets/controls",
      "model_module_version": "1.5.0",
      "model_name": "DescriptionStyleModel",
      "state": {
       "description_width": ""
      }
     },
     "6c705cad5dd242ed8966cda9558660d7": {
      "model_module": "@jupyter-widgets/base",
      "model_module_version": "1.2.0",
      "model_name": "LayoutModel",
      "state": {}
     },
     "6c8f46368fb049cd93f5bb84e0359711": {
      "model_module": "@jupyter-widgets/base",
      "model_module_version": "1.2.0",
      "model_name": "LayoutModel",
      "state": {}
     },
     "6ca82095fc0d4e50a0b01f7e9feaae50": {
      "model_module": "@jupyter-widgets/controls",
      "model_module_version": "1.5.0",
      "model_name": "IntSliderModel",
      "state": {
       "description": "value",
       "layout": "IPY_MODEL_9d061706ffbf41e982e7f6df952182f7",
       "max": 10,
       "min": 1,
       "style": "IPY_MODEL_7824555fb45941e0b6b357551c9ae5a1",
       "value": 5
      }
     },
     "6cc2ed97b4ae4a8fa39f1b5d5e75f65c": {
      "model_module": "@jupyter-widgets/base",
      "model_module_version": "1.2.0",
      "model_name": "LayoutModel",
      "state": {}
     },
     "6cf7e2888639439eba947cbc9d3a0949": {
      "model_module": "@jupyter-widgets/controls",
      "model_module_version": "1.5.0",
      "model_name": "FloatSliderModel",
      "state": {
       "description": "shininess",
       "layout": "IPY_MODEL_e4281dffb1a34b929dccf11abee4c9b0",
       "max": 1,
       "step": 0.1,
       "style": "IPY_MODEL_7c82d49c39a14f0cbb1f4d90c317ffe0",
       "value": 0.2
      }
     },
     "6d05cd50c7ea4c40bded6d1cd1c67612": {
      "model_module": "@jupyter-widgets/base",
      "model_module_version": "1.2.0",
      "model_name": "LayoutModel",
      "state": {}
     },
     "6d16c5f570c847eb99b3c515f6c79c4e": {
      "model_module": "@jupyter-widgets/controls",
      "model_module_version": "1.5.0",
      "model_name": "CheckboxModel",
      "state": {
       "description": "Auto apply",
       "disabled": false,
       "layout": "IPY_MODEL_b1719c458848436b8cc931c5f6bdb47b",
       "style": "IPY_MODEL_ccb74ec1a70948178488184669ebc272",
       "value": false
      }
     },
     "6d3395160271438dbd2244ebe44f69f9": {
      "model_module": "@jupyter-widgets/base",
      "model_module_version": "1.2.0",
      "model_name": "LayoutModel",
      "state": {}
     },
     "6d4e317147e84ef3b9b7c3f7e4942242": {
      "model_module": "@jupyter-widgets/base",
      "model_module_version": "1.2.0",
      "model_name": "LayoutModel",
      "state": {}
     },
     "6d6a59f4c0714f90bac64afd6f756b8f": {
      "model_module": "@jupyter-widgets/base",
      "model_module_version": "1.2.0",
      "model_name": "LayoutModel",
      "state": {}
     },
     "6d99be388ce6453a934fe45ffafa4844": {
      "model_module": "@jupyter-widgets/controls",
      "model_module_version": "1.5.0",
      "model_name": "FloatSliderModel",
      "state": {
       "description": "shininess",
       "layout": "IPY_MODEL_9c51672f28084fde83f4d2dabbb178c3",
       "max": 1,
       "step": 0.1,
       "style": "IPY_MODEL_1b226e991f4a4f2d924d9603e31020a1",
       "value": 0.5
      }
     },
     "6d9c7f7305ad4ec4afff7c03238f241a": {
      "model_module": "@jupyter-widgets/base",
      "model_module_version": "1.2.0",
      "model_name": "LayoutModel",
      "state": {}
     },
     "6da0a15be161456784a4a7303ba1ab3f": {
      "model_module": "@jupyter-widgets/controls",
      "model_module_version": "1.5.0",
      "model_name": "DescriptionStyleModel",
      "state": {
       "description_width": ""
      }
     },
     "6dbfa999b4734642b016ef516b880aec": {
      "model_module": "pgljupyter",
      "model_module_version": "^0.1.15",
      "model_name": "MaterialEditorModel",
      "state": {
       "_model_module_version": "^0.1.15",
       "_view_module_version": "^0.1.15",
       "children": [
        "IPY_MODEL_b52df46c588c4e5899d77c91baf1eadf",
        "IPY_MODEL_092c9ca9f44c41338a8c52eb396be927",
        "IPY_MODEL_5e2b11cec9a44206831ec220e238d0a0",
        "IPY_MODEL_1b96e8d5a5974f0bbe8d407578a88e0d",
        "IPY_MODEL_b12f427d3540413bbf6ece88eca81e0b",
        "IPY_MODEL_c2ce09edde6e4e3ca2bd4250c827a441",
        "IPY_MODEL_d7e8964841944bb7bf9fb48687e5045d",
        "IPY_MODEL_c9446f7f3a74486bb158aa9b2d79808d"
       ],
       "layout": "IPY_MODEL_5ae87a40607a44d58d24ae55327a5f90"
      }
     },
     "6dc2c51b810b4edba7a9863f0a39d3d7": {
      "model_module": "@jupyter-widgets/base",
      "model_module_version": "1.2.0",
      "model_name": "LayoutModel",
      "state": {}
     },
     "6dc3e3b550c74007b302d87b5f0cd2f3": {
      "model_module": "pgljupyter",
      "model_module_version": "^0.1.15",
      "model_name": "ParameterEditorModel",
      "state": {
       "_model_module_version": "^0.1.15",
       "_view_module_version": "^0.1.15",
       "children": [
        "IPY_MODEL_6b15f8d6e02b41eb95f65eb9f6095ea1"
       ],
       "layout": "IPY_MODEL_8d97a9c3a929427aacfe6a6892edf62f"
      }
     },
     "6e0f7e8afc03421ca9ad35239807478d": {
      "model_module": "@jupyter-widgets/controls",
      "model_module_version": "1.5.0",
      "model_name": "ButtonStyleModel",
      "state": {}
     },
     "6e11d8ccf94543318b7616f0c8477a37": {
      "model_module": "@jupyter-widgets/base",
      "model_module_version": "1.2.0",
      "model_name": "LayoutModel",
      "state": {}
     },
     "6e422346b87a4c5b92c0c8c310df3122": {
      "model_module": "@jupyter-widgets/controls",
      "model_module_version": "1.5.0",
      "model_name": "SliderStyleModel",
      "state": {
       "description_width": ""
      }
     },
     "6e67f05381e94d6ab0b7f83b70af6ba1": {
      "model_module": "@jupyter-widgets/base",
      "model_module_version": "1.2.0",
      "model_name": "LayoutModel",
      "state": {}
     },
     "6e6a8a280e2c4c7fa8cdd2b6dc2c04f4": {
      "model_module": "@jupyter-widgets/controls",
      "model_module_version": "1.5.0",
      "model_name": "BoundedIntTextModel",
      "state": {
       "description": "step",
       "layout": "IPY_MODEL_64361cb80cfa475a80c48db48ff0a302",
       "min": 1,
       "style": "IPY_MODEL_687474b07fcc40819ab28dec21c46a25",
       "value": 1
      }
     },
     "6e8218f320834baf90af54ad486ded45": {
      "model_module": "@jupyter-widgets/controls",
      "model_module_version": "1.5.0",
      "model_name": "DescriptionStyleModel",
      "state": {
       "description_width": ""
      }
     },
     "6e85a9dd258a4f508f3a7f21debce42f": {
      "model_module": "@jupyter-widgets/controls",
      "model_module_version": "1.5.0",
      "model_name": "FloatSliderModel",
      "state": {
       "description": "shininess",
       "layout": "IPY_MODEL_131741e3815e454a88aab69225f6d919",
       "max": 1,
       "step": 0.1,
       "style": "IPY_MODEL_da4128fa63254e7b93c26fadfff2b431",
       "value": 0.2
      }
     },
     "6e970e583a50462dbbf8ebe3b831e5d1": {
      "model_module": "@jupyter-widgets/controls",
      "model_module_version": "1.5.0",
      "model_name": "ButtonStyleModel",
      "state": {}
     },
     "6ed29dae7ad341a6ad80045bd0362e46": {
      "model_module": "@jupyter-widgets/base",
      "model_module_version": "1.2.0",
      "model_name": "LayoutModel",
      "state": {}
     },
     "6f131f3f67634df98fb30f26c0ba3c14": {
      "model_module": "@jupyter-widgets/controls",
      "model_module_version": "1.5.0",
      "model_name": "ButtonStyleModel",
      "state": {}
     },
     "6f13c95ab522410eb45bbc852e3ad844": {
      "model_module": "@jupyter-widgets/controls",
      "model_module_version": "1.5.0",
      "model_name": "DescriptionStyleModel",
      "state": {
       "description_width": ""
      }
     },
     "6f25ff80d18b497dab70adf180a22628": {
      "model_module": "@jupyter-widgets/base",
      "model_module_version": "1.2.0",
      "model_name": "LayoutModel",
      "state": {}
     },
     "6f2e26f0127f4983ba530655f3eb5810": {
      "model_module": "@jupyter-widgets/controls",
      "model_module_version": "1.5.0",
      "model_name": "VBoxModel",
      "state": {
       "children": [
        "IPY_MODEL_dd102dc49a7246f4bde5beafb66f73bc",
        "IPY_MODEL_1616c42d4a9d4dda86ccd31e0daab07e",
        "IPY_MODEL_0326112e674944ba9a73de236d0bc716",
        "IPY_MODEL_37823eb05d9444858326c148bfa140cd",
        "IPY_MODEL_ce51dd8b382a4194b2f5ee5f72c7f056"
       ],
       "layout": "IPY_MODEL_f1da8e947dae44a7b24d03068a46ef84"
      }
     },
     "6f539d4cdab744ea9d9895e511212303": {
      "model_module": "@jupyter-widgets/controls",
      "model_module_version": "1.5.0",
      "model_name": "DropdownModel",
      "state": {
       "_options_labels": [
        "color_1",
        "color_2",
        "color_3",
        "color_4"
       ],
       "index": 0,
       "layout": "IPY_MODEL_ff07acf7d8d740d297d0a9e9e460d4d5",
       "style": "IPY_MODEL_46d1cd7f23914e049f8f2dca8181b1e4"
      }
     },
     "6f61998e94984f5c87005739e4ef1539": {
      "model_module": "@jupyter-widgets/controls",
      "model_module_version": "1.5.0",
      "model_name": "TextModel",
      "state": {
       "continuous_update": false,
       "description": "name",
       "layout": "IPY_MODEL_8c7a3e34a4ef4101aa1d4fafbdcc25e2",
       "style": "IPY_MODEL_a9de39515aed485b9417c2f9782f5039",
       "value": "color_2"
      }
     },
     "6f63a1e67a7d40ad9e69ec8974d7d02c": {
      "model_module": "@jupyter-widgets/base",
      "model_module_version": "1.2.0",
      "model_name": "LayoutModel",
      "state": {}
     },
     "6f893e36888d4e3c99302a27181e8d73": {
      "model_module": "@jupyter-widgets/controls",
      "model_module_version": "1.5.0",
      "model_name": "IntTextModel",
      "state": {
       "description": "max",
       "layout": "IPY_MODEL_bf235c94995349428ea2e10535856d69",
       "step": 1,
       "style": "IPY_MODEL_23af8b0d7caf49ffbd9434df59f8adcc",
       "value": 10
      }
     },
     "6f8bb26a5dc749afa2ac8bd008a7e44c": {
      "model_module": "@jupyter-widgets/controls",
      "model_module_version": "1.5.0",
      "model_name": "DescriptionStyleModel",
      "state": {
       "description_width": ""
      }
     },
     "6f93ee510b5e4f889fd2191aac41b887": {
      "model_module": "pgljupyter",
      "model_module_version": "^0.1.15",
      "model_name": "IntEditorModel",
      "state": {
       "_model_module_version": "^0.1.15",
       "_view_module_version": "^0.1.15",
       "children": [
        "IPY_MODEL_c66dd1f8649e4afe9c667c49135f0bb8",
        "IPY_MODEL_598dd28ba5894948a1ec690d28538832",
        "IPY_MODEL_d5f309adf9e849bf92d01e5c8f037e3f",
        "IPY_MODEL_b6c5410c931b4da89d3dece6dee21bba",
        "IPY_MODEL_bdaca1a7ffe740419604d77cc687c673"
       ],
       "layout": "IPY_MODEL_696580c1daba4b0e9e966e2c447797b3"
      }
     },
     "6fa1a051eef947a3b163d4793ac7cd99": {
      "model_module": "@jupyter-widgets/controls",
      "model_module_version": "1.5.0",
      "model_name": "ButtonStyleModel",
      "state": {}
     },
     "6fa92963778b454f99a4c7b548144df1": {
      "model_module": "@jupyter-widgets/controls",
      "model_module_version": "1.5.0",
      "model_name": "ColorPickerModel",
      "state": {
       "description": "ambient",
       "disabled": false,
       "layout": "IPY_MODEL_9885be8a805844de97c0070041224d3e",
       "style": "IPY_MODEL_731c21cb9ed54a6a8fe43c2a969ef1a9",
       "value": "#195717"
      }
     },
     "6fc632d1cfd8481b9c8ba384537006eb": {
      "model_module": "@jupyter-widgets/controls",
      "model_module_version": "1.5.0",
      "model_name": "IntTextModel",
      "state": {
       "description": "min",
       "layout": "IPY_MODEL_a6befcf863454381b47e53dc980c2920",
       "step": 1,
       "style": "IPY_MODEL_4e5a818d53444e98a18796f935a62117",
       "value": 1
      }
     },
     "6fd435da494e4788b2340331b704c70e": {
      "model_module": "@jupyter-widgets/base",
      "model_module_version": "1.2.0",
      "model_name": "LayoutModel",
      "state": {}
     },
     "7007a25b0d9d449f82f3f6c626257ee5": {
      "model_module": "@jupyter-widgets/base",
      "model_module_version": "1.2.0",
      "model_name": "LayoutModel",
      "state": {}
     },
     "70123862f7fe40a699367ba39c451ea9": {
      "model_module": "@jupyter-widgets/controls",
      "model_module_version": "1.5.0",
      "model_name": "SliderStyleModel",
      "state": {
       "description_width": ""
      }
     },
     "7047220ba1fd43f9b2dfff397b099bdc": {
      "model_module": "@jupyter-widgets/controls",
      "model_module_version": "1.5.0",
      "model_name": "ButtonModel",
      "state": {
       "description": "Delete category",
       "layout": "IPY_MODEL_83f45740b1f44611bf05389b4d7fcd7d",
       "style": "IPY_MODEL_92d3290df9ab4916ac33eac813c835b3"
      }
     },
     "704b5687cf6043b9a36027c87dea4c23": {
      "model_module": "pgljupyter",
      "model_module_version": "^0.1.15",
      "model_name": "IntEditorModel",
      "state": {
       "_model_module_version": "^0.1.15",
       "_view_module_version": "^0.1.15",
       "children": [
        "IPY_MODEL_32a2d5151e844f398dfd8a2f28a391ff",
        "IPY_MODEL_dbaf90d5970446e487e5f643041a9b19",
        "IPY_MODEL_104352056e5f44cfaf9dcfd6016912fa",
        "IPY_MODEL_c858e86399cd448783684aee36ababb6",
        "IPY_MODEL_731557268ca54591ad3d06382bc1dd72"
       ],
       "layout": "IPY_MODEL_4a7a99489c5a42579c34d1355f0f4a43"
      }
     },
     "70855785526542688e78359baf1c605b": {
      "model_module": "@jupyter-widgets/base",
      "model_module_version": "1.2.0",
      "model_name": "LayoutModel",
      "state": {}
     },
     "70972b2e88b34ba6b003969d33df59c3": {
      "model_module": "@jupyter-widgets/controls",
      "model_module_version": "1.5.0",
      "model_name": "ButtonModel",
      "state": {
       "description": "Delete",
       "layout": "IPY_MODEL_f495b3330b9a4aab9c573969d8966f83",
       "style": "IPY_MODEL_037f7d5ac4284833bf9e8272d25a243e"
      }
     },
     "70f7a900cde34f19a9c40852e3201de6": {
      "model_module": "@jupyter-widgets/controls",
      "model_module_version": "1.5.0",
      "model_name": "ColorPickerModel",
      "state": {
       "description": "ambient",
       "disabled": false,
       "layout": "IPY_MODEL_8b5a4b520c81467f891fd15960b777f4",
       "style": "IPY_MODEL_df95ab311aec4dfa843cb14b58334dec",
       "value": "#e1a014"
      }
     },
     "71233a267fbb44faa6034dd163e15eea": {
      "model_module": "@jupyter-widgets/controls",
      "model_module_version": "1.5.0",
      "model_name": "FloatSliderModel",
      "state": {
       "description": "shininess",
       "layout": "IPY_MODEL_ce8a4696cfdc4fd180d8314621de40b0",
       "max": 1,
       "step": 0.1,
       "style": "IPY_MODEL_4436f651659b406a9729e3aea8eec212",
       "value": 0.2
      }
     },
     "71261e9f7d8f47419e3b3ac7fdc33b05": {
      "model_module": "@jupyter-widgets/controls",
      "model_module_version": "1.5.0",
      "model_name": "DescriptionStyleModel",
      "state": {
       "description_width": ""
      }
     },
     "7132269619cf4705b3ad89f7dbc818fb": {
      "model_module": "@jupyter-widgets/base",
      "model_module_version": "1.2.0",
      "model_name": "LayoutModel",
      "state": {}
     },
     "7142a8e5c26347e685210d598d474900": {
      "model_module": "pgljupyter",
      "model_module_version": "^0.1.15",
      "model_name": "LsystemWidgetModel",
      "state": {
       "_model_module_version": "^0.1.15",
       "_view_module_version": "^0.1.15",
       "axes_helper": false,
       "derivationLength": 41,
       "layout": "IPY_MODEL_d7535aae702241fd86b607045fa0824f",
       "light_helper": false,
       "plane": true,
       "size_display": [
        400,
        400
       ],
       "size_world": 50
      }
     },
     "715a9f568bf44e8abdfe5cabadf5512b": {
      "model_module": "@jupyter-widgets/base",
      "model_module_version": "1.2.0",
      "model_name": "LayoutModel",
      "state": {}
     },
     "715cfdcd6c964bef8eb9f15d8cbf8678": {
      "model_module": "@jupyter-widgets/controls",
      "model_module_version": "1.5.0",
      "model_name": "FloatSliderModel",
      "state": {
       "description": "transparency",
       "layout": "IPY_MODEL_1530bfd1074a4e8fbad49b4df4e964b5",
       "max": 1,
       "step": 0.1,
       "style": "IPY_MODEL_b39464d608c9476b884a194019aeea92"
      }
     },
     "71a043d184dc404a92ebfa20989c2d4a": {
      "model_module": "@jupyter-widgets/controls",
      "model_module_version": "1.5.0",
      "model_name": "FloatSliderModel",
      "state": {
       "description": "diffuse",
       "layout": "IPY_MODEL_0880c21f69004569ba8593338735b9c0",
       "max": 3,
       "step": 0.1,
       "style": "IPY_MODEL_e2bbf9fe0170439da72f2ae72ece5ca5",
       "value": 1
      }
     },
     "71c836bf55f64b2bbb865fa5c6fa1cb1": {
      "model_module": "@jupyter-widgets/base",
      "model_module_version": "1.2.0",
      "model_name": "LayoutModel",
      "state": {}
     },
     "71e5aaaeae2b47ecb5990ba6df41ea28": {
      "model_module": "@jupyter-widgets/controls",
      "model_module_version": "1.5.0",
      "model_name": "IntTextModel",
      "state": {
       "description": "max",
       "layout": "IPY_MODEL_8290cfc85fd84d76bd4f364c71183f26",
       "step": 1,
       "style": "IPY_MODEL_66a3c0be6b5c49b68bd45ef3678ec448",
       "value": 7
      }
     },
     "71ec069b5c5a40f4bc2771f12be256d7": {
      "model_module": "pgljupyter",
      "model_module_version": "^0.1.15",
      "model_name": "FloatEditorModel",
      "state": {
       "_model_module_version": "^0.1.15",
       "_view_module_version": "^0.1.15",
       "children": [
        "IPY_MODEL_d39751d2609b4f59a787ccca0b261c85",
        "IPY_MODEL_d24c239178c94a64be7dc46a5528b939",
        "IPY_MODEL_1589dbc794cb4fdbb7b00fed8ec48fbc",
        "IPY_MODEL_ccc4235534b24b6b896c41aa2f030e7e",
        "IPY_MODEL_37884d0f8d42498e8a2b7303f8a9a0ef"
       ],
       "layout": "IPY_MODEL_c955c4f8ceab4fe6911f95c106cb4893"
      }
     },
     "721faf8ca03f4130857ab5d1617321c1": {
      "model_module": "@jupyter-widgets/controls",
      "model_module_version": "1.5.0",
      "model_name": "IntSliderModel",
      "state": {
       "description": "value",
       "layout": "IPY_MODEL_fa23b677d26f447e91c4048538471bdf",
       "max": 10,
       "min": 1,
       "style": "IPY_MODEL_950ee4909fc04e6f82dcd0ea22a1dd7a",
       "value": 5
      }
     },
     "7232c740023240b0b1c44beed3ceaa3f": {
      "model_module": "@jupyter-widgets/controls",
      "model_module_version": "1.5.0",
      "model_name": "DescriptionStyleModel",
      "state": {
       "description_width": ""
      }
     },
     "72690964c2d542f989364ef1807c14c7": {
      "model_module": "@jupyter-widgets/controls",
      "model_module_version": "1.5.0",
      "model_name": "SliderStyleModel",
      "state": {
       "description_width": ""
      }
     },
     "7280887d7a1e420b80c07311475b256f": {
      "model_module": "@jupyter-widgets/base",
      "model_module_version": "1.2.0",
      "model_name": "LayoutModel",
      "state": {}
     },
     "72879cfc45364484960de5dd40e8ff0b": {
      "model_module": "@jupyter-widgets/controls",
      "model_module_version": "1.5.0",
      "model_name": "DescriptionStyleModel",
      "state": {
       "description_width": ""
      }
     },
     "72b34f3219da475383427c0f92144518": {
      "model_module": "@jupyter-widgets/controls",
      "model_module_version": "1.5.0",
      "model_name": "DescriptionStyleModel",
      "state": {
       "description_width": ""
      }
     },
     "72b8684135dd416f94baf40edb814e3c": {
      "model_module": "@jupyter-widgets/controls",
      "model_module_version": "1.5.0",
      "model_name": "DropdownModel",
      "state": {
       "index": null,
       "layout": "IPY_MODEL_988574f2589141d28a2282d4e2df9970",
       "style": "IPY_MODEL_84f35eba94fc41069978ad0c897ae0d2"
      }
     },
     "72b92e3f68504ee5bfa8a858755f2904": {
      "model_module": "@jupyter-widgets/controls",
      "model_module_version": "1.5.0",
      "model_name": "HBoxModel",
      "state": {
       "children": [
        "IPY_MODEL_d8ee38d058ef449f841da3a733066985",
        "IPY_MODEL_6200925a216c48bbb2cf86af35d60198"
       ],
       "layout": "IPY_MODEL_501ea1908aad438daf66b1b6172aba6c"
      }
     },
     "72bc1e35e1b440dab2d04d8572c085d8": {
      "model_module": "@jupyter-widgets/base",
      "model_module_version": "1.2.0",
      "model_name": "LayoutModel",
      "state": {}
     },
     "72be601bf3de43f19d42560f035c724d": {
      "model_module": "@jupyter-widgets/base",
      "model_module_version": "1.2.0",
      "model_name": "LayoutModel",
      "state": {}
     },
     "72fd6442e28246fd8302b6baef0b974c": {
      "model_module": "@jupyter-widgets/base",
      "model_module_version": "1.2.0",
      "model_name": "LayoutModel",
      "state": {}
     },
     "7306c7cd9e344cf288f50aac06a52e87": {
      "model_module": "@jupyter-widgets/controls",
      "model_module_version": "1.5.0",
      "model_name": "ColorPickerModel",
      "state": {
       "description": "emission",
       "disabled": false,
       "layout": "IPY_MODEL_a65812490b194127898400aa6bef5cbe",
       "style": "IPY_MODEL_ed2fcea7452a4f02aae7bd7281aaacdb",
       "value": "#000000"
      }
     },
     "7310fb106a0148cba799629b28cfd588": {
      "model_module": "@jupyter-widgets/controls",
      "model_module_version": "1.5.0",
      "model_name": "BoundedIntTextModel",
      "state": {
       "description": "index",
       "layout": "IPY_MODEL_2299fe15e03b48dda7759b4bf26db86e",
       "style": "IPY_MODEL_eeab74f6f1a84721a8eb814d0d0499fc",
       "value": 2
      }
     },
     "731557268ca54591ad3d06382bc1dd72": {
      "model_module": "@jupyter-widgets/controls",
      "model_module_version": "1.5.0",
      "model_name": "BoundedIntTextModel",
      "state": {
       "description": "step",
       "layout": "IPY_MODEL_38aedb1b56ff4907af35973d88c28785",
       "min": 1,
       "style": "IPY_MODEL_873fc331b8844a1093445796e7b51b73",
       "value": 1
      }
     },
     "731640e7f76045109b5a9990c6f50e16": {
      "model_module": "@jupyter-widgets/controls",
      "model_module_version": "1.5.0",
      "model_name": "SliderStyleModel",
      "state": {
       "description_width": ""
      }
     },
     "731c21cb9ed54a6a8fe43c2a969ef1a9": {
      "model_module": "@jupyter-widgets/controls",
      "model_module_version": "1.5.0",
      "model_name": "DescriptionStyleModel",
      "state": {
       "description_width": ""
      }
     },
     "732ac2d708ad47fdb574a1a8c15d0c15": {
      "model_module": "@jupyter-widgets/controls",
      "model_module_version": "1.5.0",
      "model_name": "HBoxModel",
      "state": {
       "children": [
        "IPY_MODEL_957c5740794142d5b25a7b7ebca09e73",
        "IPY_MODEL_ac9001fa2c8f46b1aaff8f7ac358cd53"
       ],
       "layout": "IPY_MODEL_3bb03a834d464a7c90ad352b1f4a9182"
      }
     },
     "734527008e9c44a8881b1f91f2e2b004": {
      "model_module": "@jupyter-widgets/controls",
      "model_module_version": "1.5.0",
      "model_name": "DescriptionStyleModel",
      "state": {
       "description_width": ""
      }
     },
     "735ef05bc52745668d4f1492b21da122": {
      "model_module": "@jupyter-widgets/controls",
      "model_module_version": "1.5.0",
      "model_name": "SliderStyleModel",
      "state": {
       "description_width": ""
      }
     },
     "736695f2521444c8893f255602eba8b3": {
      "model_module": "@jupyter-widgets/base",
      "model_module_version": "1.2.0",
      "model_name": "LayoutModel",
      "state": {}
     },
     "7370d67c85ca45f99ec4b794aa6baea5": {
      "model_module": "@jupyter-widgets/controls",
      "model_module_version": "1.5.0",
      "model_name": "HBoxModel",
      "state": {
       "children": [
        "IPY_MODEL_68a999f616cb409eaf56145edc21d134",
        "IPY_MODEL_965bd59a86534e949f83f3fe45f31fe8",
        "IPY_MODEL_a20b73a02aa64f1aa2635be402379fd2",
        "IPY_MODEL_26661f90cfc247b4aa51a0584e2d50c9"
       ],
       "layout": "IPY_MODEL_2c758a39f7fc445fb36328a5392bc3cb"
      }
     },
     "738f9659f28b43cf9dd1fbc37d0b8b4c": {
      "model_module": "@jupyter-widgets/controls",
      "model_module_version": "1.5.0",
      "model_name": "DescriptionStyleModel",
      "state": {
       "description_width": ""
      }
     },
     "73cb0a4634a249e9a1568b2f36553f56": {
      "model_module": "@jupyter-widgets/controls",
      "model_module_version": "1.5.0",
      "model_name": "FloatSliderModel",
      "state": {
       "description": "shininess",
       "layout": "IPY_MODEL_ff70e06eddb24184be77e7212da054cd",
       "max": 1,
       "step": 0.1,
       "style": "IPY_MODEL_bf2939e8c5d94e33badfeac8e600c7c9",
       "value": 0.2
      }
     },
     "73d991583598443f90d6d52a35fb8498": {
      "model_module": "@jupyter-widgets/controls",
      "model_module_version": "1.5.0",
      "model_name": "ButtonStyleModel",
      "state": {}
     },
     "73df2c6eb8684e3e8dcd2a48cb263e44": {
      "model_module": "@jupyter-widgets/controls",
      "model_module_version": "1.5.0",
      "model_name": "HBoxModel",
      "state": {
       "children": [
        "IPY_MODEL_2adcf24dbf2748e089fcbf19dc0f7b33",
        "IPY_MODEL_90b847efdfb849b8b6736e210159423b"
       ],
       "layout": "IPY_MODEL_b1cb4ff3cba944be84994facb1138eb0"
      }
     },
     "73f500e006d84a9c84319ee4b2755109": {
      "model_module": "@jupyter-widgets/controls",
      "model_module_version": "1.5.0",
      "model_name": "ButtonStyleModel",
      "state": {}
     },
     "74248d6b4dc944ba9330addbccf1b98d": {
      "model_module": "@jupyter-widgets/base",
      "model_module_version": "1.2.0",
      "model_name": "LayoutModel",
      "state": {}
     },
     "742dc244110b4bdd8c1040e6d4201803": {
      "model_module": "@jupyter-widgets/base",
      "model_module_version": "1.2.0",
      "model_name": "LayoutModel",
      "state": {}
     },
     "742dfafade604ead88df5aeb395d062f": {
      "model_module": "@jupyter-widgets/controls",
      "model_module_version": "1.5.0",
      "model_name": "DescriptionStyleModel",
      "state": {
       "description_width": ""
      }
     },
     "744caf44f73348a8b278dffdcc685eb3": {
      "model_module": "@jupyter-widgets/controls",
      "model_module_version": "1.5.0",
      "model_name": "DescriptionStyleModel",
      "state": {
       "description_width": ""
      }
     },
     "7456408b397549b4b4ff9f8ec2085ddd": {
      "model_module": "@jupyter-widgets/controls",
      "model_module_version": "1.5.0",
      "model_name": "BoundedIntTextModel",
      "state": {
       "description": "step",
       "layout": "IPY_MODEL_ede139d17a224f4eaf938988b8eddaee",
       "min": 1,
       "style": "IPY_MODEL_4cea94109a014432967a3e489cb42c8f",
       "value": 1
      }
     },
     "74766ce01f5f4a13831da6045f6fd823": {
      "model_module": "@jupyter-widgets/controls",
      "model_module_version": "1.5.0",
      "model_name": "ButtonStyleModel",
      "state": {}
     },
     "749dc883c6d44dc582fc2c3dde92b4c3": {
      "model_module": "@jupyter-widgets/controls",
      "model_module_version": "1.5.0",
      "model_name": "DescriptionStyleModel",
      "state": {
       "description_width": ""
      }
     },
     "74a7a5c1fee64445b64d9944194e45ee": {
      "model_module": "@jupyter-widgets/base",
      "model_module_version": "1.2.0",
      "model_name": "LayoutModel",
      "state": {}
     },
     "74c56f8bb37a47bc9c2065f85914f50e": {
      "model_module": "@jupyter-widgets/controls",
      "model_module_version": "1.5.0",
      "model_name": "ColorPickerModel",
      "state": {
       "description": "emission",
       "disabled": false,
       "layout": "IPY_MODEL_7dbaeaa866be480799d2d32171076f19",
       "style": "IPY_MODEL_1ae750ea21704cbc80d8390258508557",
       "value": "#000000"
      }
     },
     "751d8cfde9de463ca66613cc8a84cff9": {
      "model_module": "@jupyter-widgets/base",
      "model_module_version": "1.2.0",
      "model_name": "LayoutModel",
      "state": {}
     },
     "753c6e52572e43189e0c5cb7b2ac8422": {
      "model_module": "@jupyter-widgets/controls",
      "model_module_version": "1.5.0",
      "model_name": "DescriptionStyleModel",
      "state": {
       "description_width": ""
      }
     },
     "75489105bbe640099468411966b1f9ed": {
      "model_module": "@jupyter-widgets/base",
      "model_module_version": "1.2.0",
      "model_name": "LayoutModel",
      "state": {}
     },
     "754e023037f44be6a00d8aae974857c5": {
      "model_module": "@jupyter-widgets/base",
      "model_module_version": "1.2.0",
      "model_name": "LayoutModel",
      "state": {}
     },
     "7560fad3906c4968aa818e6a8112cbbf": {
      "model_module": "@jupyter-widgets/controls",
      "model_module_version": "1.5.0",
      "model_name": "ColorPickerModel",
      "state": {
       "description": "emission",
       "disabled": false,
       "layout": "IPY_MODEL_34435e2ce8b440f5a64afbb973ca5adc",
       "style": "IPY_MODEL_8314e2b3954741eb835d04cfb76835c4",
       "value": "#000000"
      }
     },
     "757e3cef40bc47e386bb92849cf19168": {
      "model_module": "@jupyter-widgets/controls",
      "model_module_version": "1.5.0",
      "model_name": "DescriptionStyleModel",
      "state": {
       "description_width": ""
      }
     },
     "75d3e76ba91f4678a3a3444870c33a8e": {
      "model_module": "@jupyter-widgets/controls",
      "model_module_version": "1.5.0",
      "model_name": "SliderStyleModel",
      "state": {
       "description_width": ""
      }
     },
     "75e4bd3534f543b4899c48d354a9a7b6": {
      "model_module": "@jupyter-widgets/controls",
      "model_module_version": "1.5.0",
      "model_name": "TabModel",
      "state": {
       "_titles": {
        "0": "leuwenberg.json"
       },
       "children": [
        "IPY_MODEL_677f5c34bf3d4ae78e59a950c381d3d9"
       ],
       "layout": "IPY_MODEL_57a7f707d08c4c63bf3ba337a4ba07e7"
      }
     },
     "75f428afc0a3423fb7e534bdd51258c5": {
      "model_module": "@jupyter-widgets/controls",
      "model_module_version": "1.5.0",
      "model_name": "DescriptionStyleModel",
      "state": {
       "description_width": ""
      }
     },
     "7603ec0ea97040b8b5273ff4abfa9ec8": {
      "model_module": "@jupyter-widgets/controls",
      "model_module_version": "1.5.0",
      "model_name": "DescriptionStyleModel",
      "state": {
       "description_width": ""
      }
     },
     "760f01348a2d4ccaa33128fb2733a5a3": {
      "model_module": "@jupyter-widgets/controls",
      "model_module_version": "1.5.0",
      "model_name": "DescriptionStyleModel",
      "state": {
       "description_width": ""
      }
     },
     "762f4772b96f45b3861fb3b080efd6f8": {
      "model_module": "@jupyter-widgets/base",
      "model_module_version": "1.2.0",
      "model_name": "LayoutModel",
      "state": {}
     },
     "763e8c82a8a341a1b6a154f9b443d6ad": {
      "model_module": "@jupyter-widgets/base",
      "model_module_version": "1.2.0",
      "model_name": "LayoutModel",
      "state": {}
     },
     "7648ce6823ed4b309447f2f29b6af72b": {
      "model_module": "@jupyter-widgets/base",
      "model_module_version": "1.2.0",
      "model_name": "LayoutModel",
      "state": {}
     },
     "76828b02847f49ffabf74ca1c0f2de97": {
      "model_module": "@jupyter-widgets/controls",
      "model_module_version": "1.5.0",
      "model_name": "ButtonModel",
      "state": {
       "description": "Add",
       "layout": "IPY_MODEL_1f47862cd7004f6ea8e431b00a2deb36",
       "style": "IPY_MODEL_38b3bc34ec4749ce97f6df8128c8b58b"
      }
     },
     "76ad72ce11b4453696a91154127944b3": {
      "model_module": "@jupyter-widgets/controls",
      "model_module_version": "1.5.0",
      "model_name": "IntSliderModel",
      "state": {
       "description": "value",
       "layout": "IPY_MODEL_6a3b11bd161e4211822cbde9cb732600",
       "max": 10,
       "min": 1,
       "style": "IPY_MODEL_69530d9f948a4c63820584df4fd3e4bd",
       "value": 3
      }
     },
     "76b456a5347145908129db10f9e3168b": {
      "model_module": "@jupyter-widgets/base",
      "model_module_version": "1.2.0",
      "model_name": "LayoutModel",
      "state": {}
     },
     "76b7f66ed13046279d88e0b04ff28b85": {
      "model_module": "@jupyter-widgets/controls",
      "model_module_version": "1.5.0",
      "model_name": "ButtonStyleModel",
      "state": {}
     },
     "76df08ea6d28482b8c1f8e499825360f": {
      "model_module": "@jupyter-widgets/base",
      "model_module_version": "1.2.0",
      "model_name": "LayoutModel",
      "state": {}
     },
     "76e9017b89ea4ce9a1b8b4258e5e6d46": {
      "model_module": "@jupyter-widgets/controls",
      "model_module_version": "1.5.0",
      "model_name": "DescriptionStyleModel",
      "state": {
       "description_width": ""
      }
     },
     "76eb2c1bc07d4ea9a83be96441994d41": {
      "model_module": "@jupyter-widgets/controls",
      "model_module_version": "1.5.0",
      "model_name": "FloatSliderModel",
      "state": {
       "description": "value",
       "layout": "IPY_MODEL_aef7e904684f43a8b6c25721b13dcde7",
       "max": 0.1,
       "min": 0.01,
       "step": 0.01,
       "style": "IPY_MODEL_7a50e24de956432bb20ad024aa3b3415",
       "value": 0.04
      }
     },
     "77166008be3547cb846da94d834a8803": {
      "model_module": "@jupyter-widgets/base",
      "model_module_version": "1.2.0",
      "model_name": "LayoutModel",
      "state": {}
     },
     "7729d9315d7748298125e0baab4aba88": {
      "model_module": "@jupyter-widgets/controls",
      "model_module_version": "1.5.0",
      "model_name": "ColorPickerModel",
      "state": {
       "description": "ambient",
       "disabled": false,
       "layout": "IPY_MODEL_bb1d7bbeb2da4eb7b42b416ef2832725",
       "style": "IPY_MODEL_65fe108d37ac4ca49def87c269901bf1",
       "value": "#5b4534"
      }
     },
     "7742cfb35734493cbf05cc730f9d0db7": {
      "model_module": "@jupyter-widgets/controls",
      "model_module_version": "1.5.0",
      "model_name": "DescriptionStyleModel",
      "state": {
       "description_width": ""
      }
     },
     "776b2221bf7e44479f62266f542cfc6f": {
      "model_module": "pgljupyter",
      "model_module_version": "^0.1.15",
      "model_name": "IntEditorModel",
      "state": {
       "_model_module_version": "^0.1.15",
       "_view_module_version": "^0.1.15",
       "children": [
        "IPY_MODEL_0ad52567a05440bfa1b7f62f0dcd33e5",
        "IPY_MODEL_c017faf3374c49f2a7f2173c394bb4b5",
        "IPY_MODEL_fb008d8d2c234664ba3ae188ecac3d55",
        "IPY_MODEL_6f893e36888d4e3c99302a27181e8d73",
        "IPY_MODEL_db9786a656f34ac28c504fcbba72adc2"
       ],
       "layout": "IPY_MODEL_2194feb6dbbb416e9d612f19ffdf48e9"
      }
     },
     "776b369c935b4b23a7d6651a4cec65fa": {
      "model_module": "@jupyter-widgets/controls",
      "model_module_version": "1.5.0",
      "model_name": "DescriptionStyleModel",
      "state": {
       "description_width": ""
      }
     },
     "777034ee9c8848ce81cea022bafe8d9a": {
      "model_module": "@jupyter-widgets/controls",
      "model_module_version": "1.5.0",
      "model_name": "IntSliderModel",
      "state": {
       "description": "value",
       "layout": "IPY_MODEL_8e5923306b2d46e79d08c87828fc0a9b",
       "max": 10,
       "min": 1,
       "style": "IPY_MODEL_4dbbec1ba4df4a18a3c1e89398b3495e",
       "value": 6
      }
     },
     "777919b484434f37ac5fea24df97caa4": {
      "model_module": "@jupyter-widgets/controls",
      "model_module_version": "1.5.0",
      "model_name": "DescriptionStyleModel",
      "state": {
       "description_width": ""
      }
     },
     "77b8c084665b47ef991716033ab5dc2f": {
      "model_module": "@jupyter-widgets/controls",
      "model_module_version": "1.5.0",
      "model_name": "FloatSliderModel",
      "state": {
       "description": "shininess",
       "layout": "IPY_MODEL_6258e8c7e3a04cb5a58e1a9d20a647c3",
       "max": 1,
       "step": 0.1,
       "style": "IPY_MODEL_0431312cdbd045b7941de19db65b2edb",
       "value": 0.2
      }
     },
     "77bd1f060fa34f0f829dcac933f97e94": {
      "model_module": "@jupyter-widgets/base",
      "model_module_version": "1.2.0",
      "model_name": "LayoutModel",
      "state": {}
     },
     "77c5487882eb4763a09bbeab234f0123": {
      "model_module": "@jupyter-widgets/controls",
      "model_module_version": "1.5.0",
      "model_name": "TextModel",
      "state": {
       "continuous_update": false,
       "description": "name",
       "layout": "IPY_MODEL_635084b479ec47388dd7721df70a9b3d",
       "style": "IPY_MODEL_96ef03696a734da89b39db7fbc0c836b",
       "value": "color_1"
      }
     },
     "77d9a753e60f49d284845127d2f81ee7": {
      "model_module": "@jupyter-widgets/controls",
      "model_module_version": "1.5.0",
      "model_name": "DropdownModel",
      "state": {
       "_options_labels": [
        "BezierCurve2D_0"
       ],
       "index": 0,
       "layout": "IPY_MODEL_1ebb908f33104722a8ca0ebea0830367",
       "style": "IPY_MODEL_3c075c2048614d2e8ada7b1f561f4f59"
      }
     },
     "77e80799913c40caafb6699455389847": {
      "model_module": "@jupyter-widgets/base",
      "model_module_version": "1.2.0",
      "model_name": "LayoutModel",
      "state": {}
     },
     "7812640f10094d4e846d968f36040b04": {
      "model_module": "@jupyter-widgets/controls",
      "model_module_version": "1.5.0",
      "model_name": "HBoxModel",
      "state": {
       "children": [
        "IPY_MODEL_be607878d70f429fb4aabbe48e3cd7e8",
        "IPY_MODEL_6f539d4cdab744ea9d9895e511212303"
       ],
       "layout": "IPY_MODEL_43131247b7e14a68ab8fcc463f36f298"
      }
     },
     "781cd7a79eca47c28f53b15c879b677d": {
      "model_module": "@jupyter-widgets/controls",
      "model_module_version": "1.5.0",
      "model_name": "DescriptionStyleModel",
      "state": {
       "description_width": ""
      }
     },
     "7824555fb45941e0b6b357551c9ae5a1": {
      "model_module": "@jupyter-widgets/controls",
      "model_module_version": "1.5.0",
      "model_name": "SliderStyleModel",
      "state": {
       "description_width": ""
      }
     },
     "785d23de29b3466fb3cd97aea35503e7": {
      "model_module": "@jupyter-widgets/controls",
      "model_module_version": "1.5.0",
      "model_name": "DescriptionStyleModel",
      "state": {
       "description_width": ""
      }
     },
     "786ed63a12464723a7f0b5d57199c2f7": {
      "model_module": "@jupyter-widgets/base",
      "model_module_version": "1.2.0",
      "model_name": "LayoutModel",
      "state": {}
     },
     "788c89f910634db6a21f126c748a161f": {
      "model_module": "@jupyter-widgets/base",
      "model_module_version": "1.2.0",
      "model_name": "LayoutModel",
      "state": {}
     },
     "789bdbd0a60b48409d2c13fe0b83d44f": {
      "model_module": "@jupyter-widgets/controls",
      "model_module_version": "1.5.0",
      "model_name": "DescriptionStyleModel",
      "state": {
       "description_width": ""
      }
     },
     "78b19aed7eaf4199ba9a01b4c50dbe06": {
      "model_module": "@jupyter-widgets/controls",
      "model_module_version": "1.5.0",
      "model_name": "DescriptionStyleModel",
      "state": {
       "description_width": ""
      }
     },
     "78b7a0be83c644fdb993627391ce7ebf": {
      "model_module": "@jupyter-widgets/controls",
      "model_module_version": "1.5.0",
      "model_name": "BoundedIntTextModel",
      "state": {
       "description": "step",
       "layout": "IPY_MODEL_c364d57ad62144c597636d4d7ea2924a",
       "min": 1,
       "style": "IPY_MODEL_c4b619d3bd944779b7f7722cb12920fb",
       "value": 1
      }
     },
     "78b86b9374f94e7eba45a65f52ac1a7b": {
      "model_module": "@jupyter-widgets/controls",
      "model_module_version": "1.5.0",
      "model_name": "DescriptionStyleModel",
      "state": {
       "description_width": ""
      }
     },
     "78ba74ff3c3846c2b2a4b37a28c0386a": {
      "model_module": "pgljupyter",
      "model_module_version": "^0.1.2",
      "model_name": "_CurveEditorModel",
      "state": {
       "_model_module_version": "^0.1.2",
       "_view_module_version": "^0.1.2",
       "control_points": [
        [
         -0.5,
         0
        ],
        [
         -0.25,
         0.25
        ],
        [
         0.14090909090909087,
         -0.25
        ],
        [
         0.25,
         0.25
        ],
        [
         0.5,
         0
        ]
       ],
       "curve_type": "NurbsCurve2D",
       "layout": "IPY_MODEL_94187a47d018456e86f4065c54af4476"
      }
     },
     "78d652192b4b4743bc2c5517507e5afc": {
      "model_module": "@jupyter-widgets/base",
      "model_module_version": "1.2.0",
      "model_name": "LayoutModel",
      "state": {}
     },
     "78d92e5d82564d4594d2286ba7300926": {
      "model_module": "@jupyter-widgets/controls",
      "model_module_version": "1.5.0",
      "model_name": "ButtonModel",
      "state": {
       "description": "Add",
       "layout": "IPY_MODEL_903ae2b1ef9741f6869a2d2602191809",
       "style": "IPY_MODEL_8d37c763f09141d59794272e850d5266"
      }
     },
     "78f24d72c8cb4e249853ed4debea9766": {
      "model_module": "@jupyter-widgets/controls",
      "model_module_version": "1.5.0",
      "model_name": "BoundedIntTextModel",
      "state": {
       "description": "index",
       "layout": "IPY_MODEL_bb8a30568c6048a59d821335540ce809",
       "style": "IPY_MODEL_c2114085ac424d39b17282ed0dcbc9ce",
       "value": 4
      }
     },
     "7931cbb1b7f84c078adc87547cd011ae": {
      "model_module": "@jupyter-widgets/base",
      "model_module_version": "1.2.0",
      "model_name": "LayoutModel",
      "state": {}
     },
     "794f6f1b6edd418abffa16e0fa20374c": {
      "model_module": "@jupyter-widgets/base",
      "model_module_version": "1.2.0",
      "model_name": "LayoutModel",
      "state": {}
     },
     "7996c5457da04faa9c7022caceb722c8": {
      "model_module": "@jupyter-widgets/controls",
      "model_module_version": "1.5.0",
      "model_name": "HBoxModel",
      "state": {
       "children": [
        "IPY_MODEL_abf0a46c9a5b4b2699f0df6ddb1da7c2",
        "IPY_MODEL_2375686ed7e44e1eb7d760050b0e9a6a"
       ],
       "layout": "IPY_MODEL_b1ba8d4719be41f1a6ba3f667428e52a"
      }
     },
     "799b1a0506734fb59e1283ef6dff6ff9": {
      "model_module": "@jupyter-widgets/base",
      "model_module_version": "1.2.0",
      "model_name": "LayoutModel",
      "state": {}
     },
     "79af79be92984ceb9c491a37fa49a1bd": {
      "model_module": "@jupyter-widgets/base",
      "model_module_version": "1.2.0",
      "model_name": "LayoutModel",
      "state": {}
     },
     "79c26ceaf4b045a6a6af28da3fa4ded0": {
      "model_module": "@jupyter-widgets/controls",
      "model_module_version": "1.5.0",
      "model_name": "DescriptionStyleModel",
      "state": {
       "description_width": ""
      }
     },
     "79d35b0ae3834d72bf0fc00bd6bb6b3f": {
      "model_module": "@jupyter-widgets/controls",
      "model_module_version": "1.5.0",
      "model_name": "ButtonModel",
      "state": {
       "description": "Save changes",
       "layout": "IPY_MODEL_aa5bb824fdb14cf4b6208c7625b7eee4",
       "style": "IPY_MODEL_c9b3d84283d549a89ea8b9880ebdc2f1"
      }
     },
     "79d90c55c5174d9b90d69174d388957d": {
      "model_module": "@jupyter-widgets/base",
      "model_module_version": "1.2.0",
      "model_name": "LayoutModel",
      "state": {}
     },
     "79dd1c0621ca47ccb59bad5e2e6dd81d": {
      "model_module": "@jupyter-widgets/base",
      "model_module_version": "1.2.0",
      "model_name": "LayoutModel",
      "state": {}
     },
     "79f69624a792402dbdf38b37ead2de78": {
      "model_module": "@jupyter-widgets/base",
      "model_module_version": "1.2.0",
      "model_name": "LayoutModel",
      "state": {
       "margin": "20px 0px"
      }
     },
     "7a50e24de956432bb20ad024aa3b3415": {
      "model_module": "@jupyter-widgets/controls",
      "model_module_version": "1.5.0",
      "model_name": "SliderStyleModel",
      "state": {
       "description_width": ""
      }
     },
     "7a5b3aee649441e48ddff80092199efc": {
      "model_module": "@jupyter-widgets/controls",
      "model_module_version": "1.5.0",
      "model_name": "DescriptionStyleModel",
      "state": {
       "description_width": ""
      }
     },
     "7a66ebfca84d4999a5bee673f10e7c52": {
      "model_module": "@jupyter-widgets/base",
      "model_module_version": "1.2.0",
      "model_name": "LayoutModel",
      "state": {
       "margin": "20px 0px"
      }
     },
     "7a716803844c41369cbbf514bb574785": {
      "model_module": "@jupyter-widgets/base",
      "model_module_version": "1.2.0",
      "model_name": "LayoutModel",
      "state": {}
     },
     "7a8585011f854dc1930227524179b047": {
      "model_module": "@jupyter-widgets/controls",
      "model_module_version": "1.5.0",
      "model_name": "VBoxModel",
      "state": {
       "children": [
        "IPY_MODEL_22cde582661e4b188cf32e090ffa9218",
        "IPY_MODEL_82e3b40e19274adc88496d1ba0562f3a"
       ],
       "layout": "IPY_MODEL_57e1c7de1a0845c49fbb5b3b5a191edc"
      }
     },
     "7ae2abc5edc24874800de2302f1a9f01": {
      "model_module": "@jupyter-widgets/controls",
      "model_module_version": "1.5.0",
      "model_name": "TextModel",
      "state": {
       "continuous_update": false,
       "description": "name",
       "layout": "IPY_MODEL_7ccf838ad05645209133ae3700155034",
       "style": "IPY_MODEL_c1e7f4bdc13c4456b991d269e33bdbb6",
       "value": "radinc"
      }
     },
     "7b086b3b3e6b4059a559100dccaad08c": {
      "model_module": "@jupyter-widgets/controls",
      "model_module_version": "1.5.0",
      "model_name": "DropdownModel",
      "state": {
       "_options_labels": [
        "color_1",
        "color_2",
        "color_3",
        "color_4"
       ],
       "index": 0,
       "layout": "IPY_MODEL_f02351ba59774c3eb858b316333d763c",
       "style": "IPY_MODEL_2ccf3b1f80ca4e8b8ea59aabfcba4e79"
      }
     },
     "7b0918e49d604b81ada52763819da361": {
      "model_module": "@jupyter-widgets/controls",
      "model_module_version": "1.5.0",
      "model_name": "DescriptionStyleModel",
      "state": {
       "description_width": ""
      }
     },
     "7b1ae47aad2a4e14ab6a686d3425e034": {
      "model_module": "@jupyter-widgets/base",
      "model_module_version": "1.2.0",
      "model_name": "LayoutModel",
      "state": {}
     },
     "7b202b2c87bf4343b5cfdad8b03600b6": {
      "model_module": "@jupyter-widgets/controls",
      "model_module_version": "1.5.0",
      "model_name": "DescriptionStyleModel",
      "state": {
       "description_width": ""
      }
     },
     "7b27a247822a41b1b735a90513e71645": {
      "model_module": "@jupyter-widgets/controls",
      "model_module_version": "1.5.0",
      "model_name": "HBoxModel",
      "state": {
       "layout": "IPY_MODEL_dabb1088a9ce4b0e9aa8136772d1f619"
      }
     },
     "7b2cfb5993a747b281510bb6228c6f9b": {
      "model_module": "@jupyter-widgets/base",
      "model_module_version": "1.2.0",
      "model_name": "LayoutModel",
      "state": {}
     },
     "7b2d939afa8b479993e42340a13c22b4": {
      "model_module": "@jupyter-widgets/controls",
      "model_module_version": "1.5.0",
      "model_name": "FloatSliderModel",
      "state": {
       "description": "transparency",
       "layout": "IPY_MODEL_953d2782c14249fb88a4123469f963a7",
       "max": 1,
       "step": 0.1,
       "style": "IPY_MODEL_1e15a8c6ff044705997b5c5ab448dee7"
      }
     },
     "7b3b11e3adb64fbc8e92adb87eb907bc": {
      "model_module": "@jupyter-widgets/controls",
      "model_module_version": "1.5.0",
      "model_name": "SliderStyleModel",
      "state": {
       "description_width": ""
      }
     },
     "7b4fab502eb240a5a01f3789709c84a7": {
      "model_module": "@jupyter-widgets/controls",
      "model_module_version": "1.5.0",
      "model_name": "DescriptionStyleModel",
      "state": {
       "description_width": ""
      }
     },
     "7b607c75281c43c2bde3dc6e253574f6": {
      "model_module": "@jupyter-widgets/controls",
      "model_module_version": "1.5.0",
      "model_name": "TextModel",
      "state": {
       "continuous_update": false,
       "description": "name",
       "layout": "IPY_MODEL_4f1821d5546d45ccb47890ddb7721566",
       "style": "IPY_MODEL_1185a17bd8db4a66b9aefc32c359538c",
       "value": "maxorder"
      }
     },
     "7b7886b88e8e4d58ab7b9728ba3e2c52": {
      "model_module": "@jupyter-widgets/controls",
      "model_module_version": "1.5.0",
      "model_name": "HBoxModel",
      "state": {
       "children": [
        "IPY_MODEL_427383259b4d4535a26d6c9eb2934351",
        "IPY_MODEL_228d940c83b9480692074cd0d12b288c"
       ],
       "layout": "IPY_MODEL_cc4283288fb542ef96f56d4d031ff9f4"
      }
     },
     "7bfa05f9b9ea414c9d631dd7c3d53fb0": {
      "model_module": "@jupyter-widgets/base",
      "model_module_version": "1.2.0",
      "model_name": "LayoutModel",
      "state": {}
     },
     "7c4a45c48a7d4bf38fb9fc2599e065d0": {
      "model_module": "@jupyter-widgets/controls",
      "model_module_version": "1.5.0",
      "model_name": "DescriptionStyleModel",
      "state": {
       "description_width": ""
      }
     },
     "7c4fa848f069404db67ac61d3674988f": {
      "model_module": "@jupyter-widgets/controls",
      "model_module_version": "1.5.0",
      "model_name": "DescriptionStyleModel",
      "state": {
       "description_width": ""
      }
     },
     "7c5a4939c76b4d36b39af71d91193c9c": {
      "model_module": "@jupyter-widgets/controls",
      "model_module_version": "1.5.0",
      "model_name": "IntTextModel",
      "state": {
       "description": "min",
       "layout": "IPY_MODEL_c7c0e4666bd242f7a9f59e8dd06e6176",
       "step": 1,
       "style": "IPY_MODEL_7742cfb35734493cbf05cc730f9d0db7",
       "value": 1
      }
     },
     "7c61330d47784b9387095b208ed7539c": {
      "model_module": "@jupyter-widgets/base",
      "model_module_version": "1.2.0",
      "model_name": "LayoutModel",
      "state": {}
     },
     "7c66b5d7e49e46b4af1106c7070d7f40": {
      "model_module": "@jupyter-widgets/controls",
      "model_module_version": "1.5.0",
      "model_name": "IntTextModel",
      "state": {
       "description": "min",
       "layout": "IPY_MODEL_543e057f74d34186b9646b8011bf4a79",
       "step": 1,
       "style": "IPY_MODEL_85677fd06b73443990c58ca29a1a3daa",
       "value": 1
      }
     },
     "7c69b2f86976482cbd21d7c6e466e3cb": {
      "model_module": "pgljupyter",
      "model_module_version": "^0.1.2",
      "model_name": "MaterialEditorModel",
      "state": {
       "_model_module_version": "^0.1.2",
       "_view_module_version": "^0.1.2",
       "children": [
        "IPY_MODEL_d106d73f1f0f40bfb9afee106236b6d3",
        "IPY_MODEL_660849255c0f44c4bfdc973e0a97035b",
        "IPY_MODEL_f34b929398a24b469d2d633e8cbf34a2",
        "IPY_MODEL_6120d60994144590bb1063cb54022e89",
        "IPY_MODEL_c0fbb256fc224c9aba81c3735c246735",
        "IPY_MODEL_ba7234dd0ed3424baa06f9cffa1d96b3",
        "IPY_MODEL_715cfdcd6c964bef8eb9f15d8cbf8678",
        "IPY_MODEL_f388e0efafe1495e96c319279c5f947b"
       ],
       "layout": "IPY_MODEL_88b333a59afe4d6e9c5d36241456007e"
      }
     },
     "7c82d49c39a14f0cbb1f4d90c317ffe0": {
      "model_module": "@jupyter-widgets/controls",
      "model_module_version": "1.5.0",
      "model_name": "SliderStyleModel",
      "state": {
       "description_width": ""
      }
     },
     "7cc006922f5147caa3f67c5cc4e09442": {
      "model_module": "@jupyter-widgets/base",
      "model_module_version": "1.2.0",
      "model_name": "LayoutModel",
      "state": {}
     },
     "7ccf838ad05645209133ae3700155034": {
      "model_module": "@jupyter-widgets/base",
      "model_module_version": "1.2.0",
      "model_name": "LayoutModel",
      "state": {}
     },
     "7cefc07d6fe842f6a3545403437ee85c": {
      "model_module": "@jupyter-widgets/controls",
      "model_module_version": "1.5.0",
      "model_name": "ButtonStyleModel",
      "state": {}
     },
     "7d09a8280c8a41448a1aa279c835ea22": {
      "model_module": "@jupyter-widgets/base",
      "model_module_version": "1.2.0",
      "model_name": "LayoutModel",
      "state": {
       "margin": "20px 0px"
      }
     },
     "7d0aa3defdad47d7902e5aa71a0cc6f8": {
      "model_module": "@jupyter-widgets/controls",
      "model_module_version": "1.5.0",
      "model_name": "HBoxModel",
      "state": {
       "children": [
        "IPY_MODEL_79d35b0ae3834d72bf0fc00bd6bb6b3f",
        "IPY_MODEL_d7a6727bd2324bc1ae4f77eb2d08a957"
       ],
       "layout": "IPY_MODEL_a0210880ef26449bb40373ad5494792c"
      }
     },
     "7d36203470c942a9aae57f7e5f42e9e5": {
      "model_module": "@jupyter-widgets/controls",
      "model_module_version": "1.5.0",
      "model_name": "ColorPickerModel",
      "state": {
       "description": "ambient",
       "disabled": false,
       "layout": "IPY_MODEL_b8685b63aa004aa18f0587705b0e350f",
       "style": "IPY_MODEL_830faea2c26f4fbe85ec3bd08ef032da",
       "value": "#0fc4db"
      }
     },
     "7d429314117b4b3890e68477bc181f56": {
      "model_module": "@jupyter-widgets/base",
      "model_module_version": "1.2.0",
      "model_name": "LayoutModel",
      "state": {}
     },
     "7d4964c39942453d80f2b8c6293410d3": {
      "model_module": "@jupyter-widgets/controls",
      "model_module_version": "1.5.0",
      "model_name": "ColorPickerModel",
      "state": {
       "description": "emission",
       "disabled": false,
       "layout": "IPY_MODEL_0903b539bd9a4b7e8455db6e48fb9bd6",
       "style": "IPY_MODEL_2d0ad52f89ef410eafad1ecd57f2cb78",
       "value": "#000000"
      }
     },
     "7d5bfc8e9e2e4f8384bba4411ca671f6": {
      "model_module": "@jupyter-widgets/controls",
      "model_module_version": "1.5.0",
      "model_name": "SliderStyleModel",
      "state": {
       "description_width": ""
      }
     },
     "7d6e0d1c007243f8a056cdb3d4ae86eb": {
      "model_module": "@jupyter-widgets/controls",
      "model_module_version": "1.5.0",
      "model_name": "ColorPickerModel",
      "state": {
       "description": "ambient",
       "disabled": false,
       "layout": "IPY_MODEL_a55696c4a4b047579f70788cff884ccb",
       "style": "IPY_MODEL_2c6626c601634ca491185a76d6409094",
       "value": "#e1a014"
      }
     },
     "7d94c059507f42e4aa7fdbe39beb4a2a": {
      "model_module": "@jupyter-widgets/base",
      "model_module_version": "1.2.0",
      "model_name": "LayoutModel",
      "state": {}
     },
     "7db211d4f55a4b929b4d71d4bd1279c9": {
      "model_module": "@jupyter-widgets/controls",
      "model_module_version": "1.5.0",
      "model_name": "DescriptionStyleModel",
      "state": {
       "description_width": ""
      }
     },
     "7dbaeaa866be480799d2d32171076f19": {
      "model_module": "@jupyter-widgets/base",
      "model_module_version": "1.2.0",
      "model_name": "LayoutModel",
      "state": {}
     },
     "7dc8ea8bc0484a72b1e8d6f23141bfad": {
      "model_module": "@jupyter-widgets/controls",
      "model_module_version": "1.5.0",
      "model_name": "IntTextModel",
      "state": {
       "description": "min",
       "layout": "IPY_MODEL_794f6f1b6edd418abffa16e0fa20374c",
       "step": 1,
       "style": "IPY_MODEL_62563c2f8f8c4d82b179abb13066ff9d",
       "value": 1
      }
     },
     "7df7f54035524ecead2a47c68a1ea08c": {
      "model_module": "pgljupyter",
      "model_module_version": "^0.1.15",
      "model_name": "IntEditorModel",
      "state": {
       "_model_module_version": "^0.1.15",
       "_view_module_version": "^0.1.15",
       "children": [
        "IPY_MODEL_9100c35a50564d3c900c9dcb83a05534",
        "IPY_MODEL_51f00e75f138415597d0cda8d2d56706",
        "IPY_MODEL_ebd256da8214403389c5b73cf9740f4e",
        "IPY_MODEL_fcfec323fe52477b97c6accbb5509824",
        "IPY_MODEL_339136e89c5c43e8a79dd31db259bb34"
       ],
       "layout": "IPY_MODEL_31c4fda3a0794a7391eb2cf0eb5a1277"
      }
     },
     "7e460e2c624a46e587a98cece718fc66": {
      "model_module": "@jupyter-widgets/controls",
      "model_module_version": "1.5.0",
      "model_name": "CheckboxModel",
      "state": {
       "description": "Auto apply",
       "disabled": false,
       "layout": "IPY_MODEL_9448d6a702534361b5d706b498ea40f0",
       "style": "IPY_MODEL_85965b3e10d44bd6bdcb57123716575c",
       "value": true
      }
     },
     "7e46666caca84af194dd3330296034d5": {
      "model_module": "@jupyter-widgets/controls",
      "model_module_version": "1.5.0",
      "model_name": "SliderStyleModel",
      "state": {
       "description_width": ""
      }
     },
     "7e4d389d197f4497ac9605341767eb5f": {
      "model_module": "@jupyter-widgets/controls",
      "model_module_version": "1.5.0",
      "model_name": "ButtonModel",
      "state": {
       "description": "Delete",
       "layout": "IPY_MODEL_dd756382441c405cb77e16e203e7f887",
       "style": "IPY_MODEL_73d991583598443f90d6d52a35fb8498"
      }
     },
     "7e6cd9f3d4774f2a8db233e3574f2d46": {
      "model_module": "@jupyter-widgets/base",
      "model_module_version": "1.2.0",
      "model_name": "LayoutModel",
      "state": {}
     },
     "7e8efbd96371439c93796aa025dc2459": {
      "model_module": "@jupyter-widgets/base",
      "model_module_version": "1.2.0",
      "model_name": "LayoutModel",
      "state": {}
     },
     "7e95fb8c88fb4b2e825686716154cda8": {
      "model_module": "@jupyter-widgets/controls",
      "model_module_version": "1.5.0",
      "model_name": "TextModel",
      "state": {
       "continuous_update": false,
       "description": "name",
       "layout": "IPY_MODEL_a7a131bced9a42b49711fc20fa79f7d4",
       "style": "IPY_MODEL_cea4e9c5bd25408f8d9b47275e81aaee",
       "value": "leafold"
      }
     },
     "7eb14e9122f64d8682bea8e8ecb06f61": {
      "model_module": "@jupyter-widgets/controls",
      "model_module_version": "1.5.0",
      "model_name": "ColorPickerModel",
      "state": {
       "description": "specular",
       "disabled": false,
       "layout": "IPY_MODEL_3be8ad00e813458cb27def9c28db81be",
       "style": "IPY_MODEL_caec7bae73bd4fbd973ba9a19a666fc3",
       "value": "#282828"
      }
     },
     "7f2b172d2c374e0f9b79d7569d333c05": {
      "model_module": "@jupyter-widgets/controls",
      "model_module_version": "1.5.0",
      "model_name": "VBoxModel",
      "state": {
       "children": [
        "IPY_MODEL_0902933020a846afa086a4dc7ee249a4",
        "IPY_MODEL_638d9ba87d3344748959003409004080"
       ],
       "layout": "IPY_MODEL_a9d9270dee474b0897f2b76e239d91ef"
      }
     },
     "7f53e5ca1f0244ada7d80c2b4e4b53eb": {
      "model_module": "@jupyter-widgets/controls",
      "model_module_version": "1.5.0",
      "model_name": "DropdownModel",
      "state": {
       "_options_labels": [
        "leafduration",
        "leafold",
        "maxorder",
        "radinc",
        "nb_axes"
       ],
       "index": 0,
       "layout": "IPY_MODEL_4e11d08066c84be89e1aa8c50a0556bf",
       "style": "IPY_MODEL_1c5d7ec2bb914c2abd2a11ba730acacc"
      }
     },
     "7f8475ed0c08474794060b94cee35a9a": {
      "model_module": "@jupyter-widgets/controls",
      "model_module_version": "1.5.0",
      "model_name": "SliderStyleModel",
      "state": {
       "description_width": ""
      }
     },
     "7f8de41401344dabb9b01b6451648c89": {
      "model_module": "@jupyter-widgets/controls",
      "model_module_version": "1.5.0",
      "model_name": "SliderStyleModel",
      "state": {
       "description_width": ""
      }
     },
     "7f9d5e5a52b14a618ba808a1e81f5e6c": {
      "model_module": "@jupyter-widgets/controls",
      "model_module_version": "1.5.0",
      "model_name": "DescriptionStyleModel",
      "state": {
       "description_width": ""
      }
     },
     "7f9efb4f22614e7299d56d37b5857cff": {
      "model_module": "@jupyter-widgets/controls",
      "model_module_version": "1.5.0",
      "model_name": "HBoxModel",
      "state": {
       "children": [
        "IPY_MODEL_78d92e5d82564d4594d2286ba7300926",
        "IPY_MODEL_ea5ec10b12f04116a2a2777b6a3e3bf7"
       ],
       "layout": "IPY_MODEL_b2acd01961af49679eef6d310d8f46dc"
      }
     },
     "7faa1f82e8654be1a5b9b8f2a4aeda47": {
      "model_module": "@jupyter-widgets/controls",
      "model_module_version": "1.5.0",
      "model_name": "DescriptionStyleModel",
      "state": {
       "description_width": ""
      }
     },
     "7fad6b6076bd4790919771a5e26e7023": {
      "model_module": "@jupyter-widgets/base",
      "model_module_version": "1.2.0",
      "model_name": "LayoutModel",
      "state": {
       "margin": "20px 0px"
      }
     },
     "7fcd77b2fbfc4fd39f12c278a7b59e19": {
      "model_module": "@jupyter-widgets/controls",
      "model_module_version": "1.5.0",
      "model_name": "ButtonModel",
      "state": {
       "description": "Apply changes",
       "layout": "IPY_MODEL_9821d2ec86744cb48ceb8614fb8e625a",
       "style": "IPY_MODEL_95287b3f031d4e6cb5514b1ca68b7868"
      }
     },
     "7fd4070bf1f748a6978285867f3fd655": {
      "model_module": "@jupyter-widgets/controls",
      "model_module_version": "1.5.0",
      "model_name": "ButtonModel",
      "state": {
       "description": "Delete",
       "layout": "IPY_MODEL_6bb8958c70624458abcfedad592ad4c1",
       "style": "IPY_MODEL_0e9c1105c42e4e7787c3c15d410f7b5c"
      }
     },
     "8049a4ac11de4b46bb8341fd52e04977": {
      "model_module": "@jupyter-widgets/controls",
      "model_module_version": "1.5.0",
      "model_name": "IntTextModel",
      "state": {
       "description": "max",
       "layout": "IPY_MODEL_ef19f1dbae9d4c869792da9140316bf3",
       "step": 1,
       "style": "IPY_MODEL_4bbf9796d2664dea8f716881991aa235",
       "value": 10
      }
     },
     "805ea2c62cea4f389e8cdcaf4d3fa2cb": {
      "model_module": "@jupyter-widgets/controls",
      "model_module_version": "1.5.0",
      "model_name": "TextModel",
      "state": {
       "continuous_update": false,
       "description": "name",
       "layout": "IPY_MODEL_c8be64049f5843ebac39f11d40e1b397",
       "style": "IPY_MODEL_9c16367664874458a94374612eb9b248",
       "value": "maxorder"
      }
     },
     "80cb56e577a544b7b67854bd62adcbe8": {
      "model_module": "@jupyter-widgets/base",
      "model_module_version": "1.2.0",
      "model_name": "LayoutModel",
      "state": {}
     },
     "80f2a2ed8df7483eb3fbb0fbe7df57ac": {
      "model_module": "@jupyter-widgets/controls",
      "model_module_version": "1.5.0",
      "model_name": "DropdownModel",
      "state": {
       "index": null,
       "layout": "IPY_MODEL_6bc71166486f4e74904e84efc935c284",
       "style": "IPY_MODEL_e27e310bc1fb461e9c092cb5a0110240"
      }
     },
     "80fb9d29e96a4f77aaee4c7b4f289e4e": {
      "model_module": "@jupyter-widgets/controls",
      "model_module_version": "1.5.0",
      "model_name": "SliderStyleModel",
      "state": {
       "description_width": ""
      }
     },
     "81191aa42cfb44e0b8d68cc02a030a4e": {
      "model_module": "@jupyter-widgets/controls",
      "model_module_version": "1.5.0",
      "model_name": "FloatSliderModel",
      "state": {
       "description": "diffuse",
       "layout": "IPY_MODEL_d5b0b4a76e704be7aa8f297878b58d36",
       "max": 1,
       "step": 0.1,
       "style": "IPY_MODEL_2683a2486a9548ee9a92b323137c1a9a"
      }
     },
     "8154928a111b46ea9836ba5ad734e0b3": {
      "model_module": "@jupyter-widgets/controls",
      "model_module_version": "1.5.0",
      "model_name": "DescriptionStyleModel",
      "state": {
       "description_width": ""
      }
     },
     "817d367bfdf8452a84d4c2c2dc99edea": {
      "model_module": "@jupyter-widgets/controls",
      "model_module_version": "1.5.0",
      "model_name": "HBoxModel",
      "state": {
       "children": [
        "IPY_MODEL_5bb215248fb34a5dbb70380e486fe8cb",
        "IPY_MODEL_c961a3a7629a4474841b429fa6de9808"
       ],
       "layout": "IPY_MODEL_a83956a5f0d64c5d88bc437eb1c9f386"
      }
     },
     "8183e159292c422d80f970aecd1f0626": {
      "model_module": "@jupyter-widgets/controls",
      "model_module_version": "1.5.0",
      "model_name": "SliderStyleModel",
      "state": {
       "description_width": ""
      }
     },
     "8194d34e0bf54ff2bf85fb985b7bfbdd": {
      "model_module": "@jupyter-widgets/controls",
      "model_module_version": "1.5.0",
      "model_name": "DescriptionStyleModel",
      "state": {
       "description_width": ""
      }
     },
     "81991c46676647618c0846129eb9253f": {
      "model_module": "@jupyter-widgets/base",
      "model_module_version": "1.2.0",
      "model_name": "LayoutModel",
      "state": {}
     },
     "81d2078f6d2d4f85b52040893d4bfd95": {
      "model_module": "@jupyter-widgets/base",
      "model_module_version": "1.2.0",
      "model_name": "LayoutModel",
      "state": {
       "margin": "20px 0px"
      }
     },
     "8235132049f4487c9cc2c569e3afbe7a": {
      "model_module": "@jupyter-widgets/controls",
      "model_module_version": "1.5.0",
      "model_name": "VBoxModel",
      "state": {
       "children": [
        "IPY_MODEL_93812f2c085246638005a129d8c27d3d",
        "IPY_MODEL_7b7886b88e8e4d58ab7b9728ba3e2c52",
        "IPY_MODEL_5a43420474254aeca937c8ab71d9ba90",
        "IPY_MODEL_59b99a393b0e490d8dfc2a1ef11c380a",
        "IPY_MODEL_016942bf030a4040aab3d51d5c34046b"
       ],
       "layout": "IPY_MODEL_6b84efe2fa5a4bfe948eaa3c3d48f63c"
      }
     },
     "823f7f7401fd4f2db5bafaecaddc2207": {
      "model_module": "@jupyter-widgets/controls",
      "model_module_version": "1.5.0",
      "model_name": "TextModel",
      "state": {
       "continuous_update": false,
       "description": "name",
       "layout": "IPY_MODEL_048bb63b5aac4025b904ec1e7f139797",
       "style": "IPY_MODEL_ab0ba13d49e44f81b2dbd8ef218fc16b",
       "value": "color_3"
      }
     },
     "82677ec5f54f4726a069d2eae97e6773": {
      "model_module": "@jupyter-widgets/controls",
      "model_module_version": "1.5.0",
      "model_name": "HBoxModel",
      "state": {
       "children": [
        "IPY_MODEL_5783a1ffec3a4cf7831b22bbadf5558d",
        "IPY_MODEL_f98f574b894146bdac3cc74bf1517323"
       ],
       "layout": "IPY_MODEL_5faadf4842f04521928328410e1fa0d9"
      }
     },
     "8272e23ce2dd4623b003ba31c98874b1": {
      "model_module": "@jupyter-widgets/controls",
      "model_module_version": "1.5.0",
      "model_name": "DescriptionStyleModel",
      "state": {
       "description_width": ""
      }
     },
     "8286e2d0306a4eefaea0c8d3c095dbd8": {
      "model_module": "@jupyter-widgets/base",
      "model_module_version": "1.2.0",
      "model_name": "LayoutModel",
      "state": {}
     },
     "82893840318449eab8bab08d11caa85a": {
      "model_module": "@jupyter-widgets/controls",
      "model_module_version": "1.5.0",
      "model_name": "ButtonStyleModel",
      "state": {}
     },
     "8290cfc85fd84d76bd4f364c71183f26": {
      "model_module": "@jupyter-widgets/base",
      "model_module_version": "1.2.0",
      "model_name": "LayoutModel",
      "state": {}
     },
     "8298bb29a5c745799439a58c350b6a9a": {
      "model_module": "@jupyter-widgets/controls",
      "model_module_version": "1.5.0",
      "model_name": "DescriptionStyleModel",
      "state": {
       "description_width": ""
      }
     },
     "82bcbeb350d44aff94d9fc2cd31553a4": {
      "model_module": "@jupyter-widgets/base",
      "model_module_version": "1.2.0",
      "model_name": "LayoutModel",
      "state": {}
     },
     "82df42b1377c4332ac07be1f007906e4": {
      "model_module": "@jupyter-widgets/base",
      "model_module_version": "1.2.0",
      "model_name": "LayoutModel",
      "state": {}
     },
     "82e3b40e19274adc88496d1ba0562f3a": {
      "model_module": "@jupyter-widgets/controls",
      "model_module_version": "1.5.0",
      "model_name": "TabModel",
      "state": {
       "_titles": {
        "0": "leuwenberg.json"
       },
       "children": [
        "IPY_MODEL_d6fc03777b284cc0a6b118d3c2cc3efd"
       ],
       "layout": "IPY_MODEL_2b712d0432934f969732b0607b9d14b4"
      }
     },
     "82e6eba101ad4e6d908e636f05271500": {
      "model_module": "@jupyter-widgets/controls",
      "model_module_version": "1.5.0",
      "model_name": "ButtonStyleModel",
      "state": {}
     },
     "830faea2c26f4fbe85ec3bd08ef032da": {
      "model_module": "@jupyter-widgets/controls",
      "model_module_version": "1.5.0",
      "model_name": "DescriptionStyleModel",
      "state": {
       "description_width": ""
      }
     },
     "8312daa4c523419b93c5a7a2515d20db": {
      "model_module": "@jupyter-widgets/base",
      "model_module_version": "1.2.0",
      "model_name": "LayoutModel",
      "state": {}
     },
     "8314e2b3954741eb835d04cfb76835c4": {
      "model_module": "@jupyter-widgets/controls",
      "model_module_version": "1.5.0",
      "model_name": "DescriptionStyleModel",
      "state": {
       "description_width": ""
      }
     },
     "8340bbc94563495b96eb035f3a6d25fb": {
      "model_module": "pgljupyter",
      "model_module_version": "^0.1.2",
      "model_name": "CurveEditorModel",
      "state": {
       "_model_module_version": "^0.1.2",
       "_view_module_version": "^0.1.2",
       "children": [
        "IPY_MODEL_a089aeec89724239b6aca2b404740c1a",
        "IPY_MODEL_6b2707d91e9942bc8b595dfd3b63cc46"
       ],
       "layout": "IPY_MODEL_86f586d03aa4459a9864f424c3e6d555"
      }
     },
     "837c4c361b574f31b9a8285667187515": {
      "model_module": "pgljupyter",
      "model_module_version": "^0.1.15",
      "model_name": "IntEditorModel",
      "state": {
       "_model_module_version": "^0.1.15",
       "_view_module_version": "^0.1.15",
       "children": [
        "IPY_MODEL_1fa05a8702394381823472ab1d4a4211",
        "IPY_MODEL_0f408b78c73f41798d683d50caeb67cd",
        "IPY_MODEL_d85e5539f82e4f07a2d29f5cf88a5a95",
        "IPY_MODEL_8049a4ac11de4b46bb8341fd52e04977",
        "IPY_MODEL_202c981cf82a46ad98661f66cc81ff60"
       ],
       "layout": "IPY_MODEL_dad6e4d1e14943d7b1173fbdad07f14d"
      }
     },
     "837e33ebc35a4a31b3ac803803d0779b": {
      "model_module": "@jupyter-widgets/controls",
      "model_module_version": "1.5.0",
      "model_name": "ButtonModel",
      "state": {
       "description": "Delete category",
       "layout": "IPY_MODEL_e9c9719a96954391b16735052984d157",
       "style": "IPY_MODEL_852b23fba33a46c18a6d931b726574dd"
      }
     },
     "83b37f20276f46f2aef238cc38a564a4": {
      "model_module": "@jupyter-widgets/controls",
      "model_module_version": "1.5.0",
      "model_name": "DescriptionStyleModel",
      "state": {
       "description_width": ""
      }
     },
     "83b6503ca459477ca4b512f54b246da1": {
      "model_module": "@jupyter-widgets/controls",
      "model_module_version": "1.5.0",
      "model_name": "DescriptionStyleModel",
      "state": {
       "description_width": ""
      }
     },
     "83d7b86e973542519d6227d6627a1f24": {
      "model_module": "@jupyter-widgets/controls",
      "model_module_version": "1.5.0",
      "model_name": "TextModel",
      "state": {
       "continuous_update": false,
       "description": "name",
       "layout": "IPY_MODEL_b9c9fba7050d4389adc593900e168832",
       "style": "IPY_MODEL_629054a4b105496a857a543e7ed22ae8",
       "value": "radinc"
      }
     },
     "83f45740b1f44611bf05389b4d7fcd7d": {
      "model_module": "@jupyter-widgets/base",
      "model_module_version": "1.2.0",
      "model_name": "LayoutModel",
      "state": {}
     },
     "8414c7b941434c7eb8a7d5c1f8c42b9d": {
      "model_module": "@jupyter-widgets/base",
      "model_module_version": "1.2.0",
      "model_name": "LayoutModel",
      "state": {
       "margin": "20px 0px"
      }
     },
     "841b03bc73504e9fbcd2a2521c5eac54": {
      "model_module": "@jupyter-widgets/controls",
      "model_module_version": "1.5.0",
      "model_name": "TextModel",
      "state": {
       "continuous_update": false,
       "description": "name",
       "layout": "IPY_MODEL_6aa4b4a1ca5f4731b9f8343c79a14cc1",
       "style": "IPY_MODEL_67822b865e28401295637b483ee8afb1",
       "value": "color_3"
      }
     },
     "8424cbe703b64aaab52fcf022d5b86ef": {
      "model_module": "@jupyter-widgets/base",
      "model_module_version": "1.2.0",
      "model_name": "LayoutModel",
      "state": {}
     },
     "8439c9e53b6b4164b3ca468f9cc930d2": {
      "model_module": "@jupyter-widgets/controls",
      "model_module_version": "1.5.0",
      "model_name": "DescriptionStyleModel",
      "state": {
       "description_width": ""
      }
     },
     "843d232c0d744220baf876a775c2e1cb": {
      "model_module": "@jupyter-widgets/base",
      "model_module_version": "1.2.0",
      "model_name": "LayoutModel",
      "state": {}
     },
     "843d75cb83854ccca588873a9ace951c": {
      "model_module": "@jupyter-widgets/controls",
      "model_module_version": "1.5.0",
      "model_name": "TextModel",
      "state": {
       "continuous_update": false,
       "description": "name",
       "layout": "IPY_MODEL_f3575942fc0a42a398ac1f9fa3cd7631",
       "style": "IPY_MODEL_71261e9f7d8f47419e3b3ac7fdc33b05",
       "value": "color_2"
      }
     },
     "845de4e4e95548b0805406145afd481e": {
      "model_module": "@jupyter-widgets/base",
      "model_module_version": "1.2.0",
      "model_name": "LayoutModel",
      "state": {}
     },
     "84896375a43b4ce3b3339763cff16672": {
      "model_module": "@jupyter-widgets/base",
      "model_module_version": "1.2.0",
      "model_name": "LayoutModel",
      "state": {}
     },
     "84e2779eec6247e788956dd1ebf9ea54": {
      "model_module": "@jupyter-widgets/controls",
      "model_module_version": "1.5.0",
      "model_name": "DescriptionStyleModel",
      "state": {
       "description_width": ""
      }
     },
     "84e87897d7924c9c8a3252b0e40e3dd5": {
      "model_module": "@jupyter-widgets/controls",
      "model_module_version": "1.5.0",
      "model_name": "HBoxModel",
      "state": {
       "children": [
        "IPY_MODEL_7c69b2f86976482cbd21d7c6e466e3cb",
        "IPY_MODEL_3f61e9dd496f4505be6dc1c84aefdc57",
        "IPY_MODEL_352845e9ebe34d14891bd5826b4a2e08"
       ],
       "layout": "IPY_MODEL_fe0cdcc6562e4d7b98662c718d50f517"
      }
     },
     "84f35eba94fc41069978ad0c897ae0d2": {
      "model_module": "@jupyter-widgets/controls",
      "model_module_version": "1.5.0",
      "model_name": "DescriptionStyleModel",
      "state": {
       "description_width": ""
      }
     },
     "8521421917f24da6b6dadd3024bc4b3c": {
      "model_module": "@jupyter-widgets/controls",
      "model_module_version": "1.5.0",
      "model_name": "DropdownModel",
      "state": {
       "_options_labels": [
        "leafduration",
        "leafold",
        "maxorder",
        "radinc",
        "nb_axes"
       ],
       "index": 0,
       "layout": "IPY_MODEL_8f01abad88d94ccbbc92059d66638e59",
       "style": "IPY_MODEL_1199b29ae2c043a9970f55d5b94d1758"
      }
     },
     "85264ec201b444b792a8393ea0895cc6": {
      "model_module": "@jupyter-widgets/controls",
      "model_module_version": "1.5.0",
      "model_name": "DescriptionStyleModel",
      "state": {
       "description_width": ""
      }
     },
     "852b23fba33a46c18a6d931b726574dd": {
      "model_module": "@jupyter-widgets/controls",
      "model_module_version": "1.5.0",
      "model_name": "ButtonStyleModel",
      "state": {}
     },
     "8554cceab3924e6b9e50c79f303173aa": {
      "model_module": "@jupyter-widgets/controls",
      "model_module_version": "1.5.0",
      "model_name": "SliderStyleModel",
      "state": {
       "description_width": ""
      }
     },
     "85677fd06b73443990c58ca29a1a3daa": {
      "model_module": "@jupyter-widgets/controls",
      "model_module_version": "1.5.0",
      "model_name": "DescriptionStyleModel",
      "state": {
       "description_width": ""
      }
     },
     "85965b3e10d44bd6bdcb57123716575c": {
      "model_module": "@jupyter-widgets/controls",
      "model_module_version": "1.5.0",
      "model_name": "DescriptionStyleModel",
      "state": {
       "description_width": ""
      }
     },
     "85a4b553864b446484511bd08e7f28b4": {
      "model_module": "@jupyter-widgets/controls",
      "model_module_version": "1.5.0",
      "model_name": "ButtonStyleModel",
      "state": {}
     },
     "85ab499a2fe04d21937c2c28c5ef4d22": {
      "model_module": "@jupyter-widgets/controls",
      "model_module_version": "1.5.0",
      "model_name": "TextModel",
      "state": {
       "continuous_update": false,
       "description": "name",
       "layout": "IPY_MODEL_217894109630443baedd060e63c86a1b",
       "style": "IPY_MODEL_8194d34e0bf54ff2bf85fb985b7bfbdd",
       "value": "leafduration"
      }
     },
     "86295b84a165413ea7ef826d237a689c": {
      "model_module": "@jupyter-widgets/controls",
      "model_module_version": "1.5.0",
      "model_name": "IntSliderModel",
      "state": {
       "description": "value",
       "layout": "IPY_MODEL_cd5fd6e6cc8c417b8c075165320f590d",
       "max": 10,
       "min": 1,
       "style": "IPY_MODEL_c27317c83cbe4275a1d3c9a07f6a58b5",
       "value": 2
      }
     },
     "8645b89eac654b8fa6aa028b35d139fc": {
      "model_module": "@jupyter-widgets/base",
      "model_module_version": "1.2.0",
      "model_name": "LayoutModel",
      "state": {}
     },
     "86b0aab187af49f1a86803563cc19ecd": {
      "model_module": "@jupyter-widgets/controls",
      "model_module_version": "1.5.0",
      "model_name": "FloatSliderModel",
      "state": {
       "description": "transparency",
       "layout": "IPY_MODEL_0effd504a4974e6abb5357847527ec57",
       "max": 1,
       "step": 0.1,
       "style": "IPY_MODEL_d95a440053a049df933468128decce4b",
       "value": 1
      }
     },
     "86c5f3b7d3e0490e9bd4a6de2a87d9bf": {
      "model_module": "@jupyter-widgets/controls",
      "model_module_version": "1.5.0",
      "model_name": "BoundedIntTextModel",
      "state": {
       "description": "step",
       "layout": "IPY_MODEL_c3737459de684a5d85dbac7589a486e2",
       "min": 1,
       "style": "IPY_MODEL_89878f2818a543e382e83359a77af522",
       "value": 1
      }
     },
     "86d0c2f7ea1b44e6908bfd682ece3329": {
      "model_module": "@jupyter-widgets/controls",
      "model_module_version": "1.5.0",
      "model_name": "DescriptionStyleModel",
      "state": {
       "description_width": ""
      }
     },
     "86ec7adecb9f49ce84587436150da9e1": {
      "model_module": "@jupyter-widgets/controls",
      "model_module_version": "1.5.0",
      "model_name": "SliderStyleModel",
      "state": {
       "description_width": ""
      }
     },
     "86f240b470c34c44bce8e713787a21be": {
      "model_module": "@jupyter-widgets/base",
      "model_module_version": "1.2.0",
      "model_name": "LayoutModel",
      "state": {}
     },
     "86f586d03aa4459a9864f424c3e6d555": {
      "model_module": "@jupyter-widgets/base",
      "model_module_version": "1.2.0",
      "model_name": "LayoutModel",
      "state": {
       "margin": "20px 0px"
      }
     },
     "86f7b3b61bdf4991a46b8cca9a382724": {
      "model_module": "@jupyter-widgets/controls",
      "model_module_version": "1.5.0",
      "model_name": "DropdownModel",
      "state": {
       "index": null,
       "layout": "IPY_MODEL_4bc1579957df4870a26abbbe1e8fbf81",
       "style": "IPY_MODEL_18f4a9848e8748e0b6f14cc8ad8b33d1"
      }
     },
     "8708b4f84f454407bc516fc2e9b1e14b": {
      "model_module": "@jupyter-widgets/controls",
      "model_module_version": "1.5.0",
      "model_name": "FloatSliderModel",
      "state": {
       "description": "shininess",
       "layout": "IPY_MODEL_ae863b42db2c40eeaa8a064f1de6d54e",
       "max": 1,
       "step": 0.1,
       "style": "IPY_MODEL_1ca38f8de5c14488a96798aa1fb3bff0",
       "value": 0.2
      }
     },
     "8715186e0e7149e8864eac82b62a522d": {
      "model_module": "@jupyter-widgets/base",
      "model_module_version": "1.2.0",
      "model_name": "LayoutModel",
      "state": {}
     },
     "87184acfec304db28ea1dafadf28a35a": {
      "model_module": "@jupyter-widgets/controls",
      "model_module_version": "1.5.0",
      "model_name": "DescriptionStyleModel",
      "state": {
       "description_width": ""
      }
     },
     "872a1a061232412ca2b86a3ac2ee98b2": {
      "model_module": "@jupyter-widgets/base",
      "model_module_version": "1.2.0",
      "model_name": "LayoutModel",
      "state": {}
     },
     "8732af9403aa4f6ca1b7e62ca4e29c09": {
      "model_module": "@jupyter-widgets/base",
      "model_module_version": "1.2.0",
      "model_name": "LayoutModel",
      "state": {}
     },
     "873fc331b8844a1093445796e7b51b73": {
      "model_module": "@jupyter-widgets/controls",
      "model_module_version": "1.5.0",
      "model_name": "DescriptionStyleModel",
      "state": {
       "description_width": ""
      }
     },
     "8773584cbfee41468190d5e50df8670d": {
      "model_module": "@jupyter-widgets/controls",
      "model_module_version": "1.5.0",
      "model_name": "DescriptionStyleModel",
      "state": {
       "description_width": ""
      }
     },
     "879565f61b064a7989de660cb8f1e795": {
      "model_module": "@jupyter-widgets/controls",
      "model_module_version": "1.5.0",
      "model_name": "DescriptionStyleModel",
      "state": {
       "description_width": ""
      }
     },
     "87bdb0b7f51f4dc09e8d567a4290ec36": {
      "model_module": "@jupyter-widgets/controls",
      "model_module_version": "1.5.0",
      "model_name": "ButtonStyleModel",
      "state": {}
     },
     "87ce8cc41c754ca18695a557906ccd97": {
      "model_module": "@jupyter-widgets/base",
      "model_module_version": "1.2.0",
      "model_name": "LayoutModel",
      "state": {}
     },
     "87cef65f3ccb4e37b6f6da063e0b9e6e": {
      "model_module": "@jupyter-widgets/controls",
      "model_module_version": "1.5.0",
      "model_name": "ColorPickerModel",
      "state": {
       "description": "ambient",
       "disabled": false,
       "layout": "IPY_MODEL_0b4c4d71ec8e44e68cc9250e5069637a",
       "style": "IPY_MODEL_4f1619fba91b4d7cb40cab3f9cfbda3e",
       "value": "#e1a014"
      }
     },
     "8815d743dee0457d8be8b0a8c46923f3": {
      "model_module": "@jupyter-widgets/base",
      "model_module_version": "1.2.0",
      "model_name": "LayoutModel",
      "state": {}
     },
     "88511552317746dd8da2010faf7d056f": {
      "model_module": "@jupyter-widgets/controls",
      "model_module_version": "1.5.0",
      "model_name": "BoundedFloatTextModel",
      "state": {
       "description": "step",
       "layout": "IPY_MODEL_31674b7c1dca486da959f764bf3aeb4a",
       "max": 1,
       "min": 0.01,
       "step": 0.01,
       "style": "IPY_MODEL_45d4a87bfe9d4228a79ed4d8cd154777",
       "value": 0.01
      }
     },
     "886c6ac66fa04e40ae0bbe94a3f1b24d": {
      "model_module": "@jupyter-widgets/base",
      "model_module_version": "1.2.0",
      "model_name": "LayoutModel",
      "state": {}
     },
     "88798602d5504c9aaa7f098f2ba700a6": {
      "model_module": "@jupyter-widgets/base",
      "model_module_version": "1.2.0",
      "model_name": "LayoutModel",
      "state": {}
     },
     "8885c255856b479881029363d8cf8481": {
      "model_module": "@jupyter-widgets/controls",
      "model_module_version": "1.5.0",
      "model_name": "ColorPickerModel",
      "state": {
       "description": "ambient",
       "disabled": false,
       "layout": "IPY_MODEL_995085a578004bfe81660f47cb338b16",
       "style": "IPY_MODEL_16e49243964a48618d68e8e278e7d9bd",
       "value": "#195717"
      }
     },
     "889f2425f1a345fd8139244e0dbd2e35": {
      "model_module": "@jupyter-widgets/base",
      "model_module_version": "1.2.0",
      "model_name": "LayoutModel",
      "state": {}
     },
     "88b333a59afe4d6e9c5d36241456007e": {
      "model_module": "@jupyter-widgets/base",
      "model_module_version": "1.2.0",
      "model_name": "LayoutModel",
      "state": {
       "margin": "20px 0px"
      }
     },
     "88cf6a95751f41cb9e9075a94dc6374b": {
      "model_module": "@jupyter-widgets/controls",
      "model_module_version": "1.5.0",
      "model_name": "DescriptionStyleModel",
      "state": {
       "description_width": ""
      }
     },
     "88d679242d4e47da83d942cd3e60dc38": {
      "model_module": "@jupyter-widgets/base",
      "model_module_version": "1.2.0",
      "model_name": "LayoutModel",
      "state": {}
     },
     "8924e7490b8d474abb523195f04639b9": {
      "model_module": "@jupyter-widgets/controls",
      "model_module_version": "1.5.0",
      "model_name": "ButtonModel",
      "state": {
       "description": "Delete",
       "layout": "IPY_MODEL_0b38fbfb4d1f4b9995215a9f3e2c4a51",
       "style": "IPY_MODEL_222c986241f440b09ecf8838dee277bb"
      }
     },
     "896f19e84d5e466e801cd444150b1553": {
      "model_module": "pgljupyter",
      "model_module_version": "^0.1.2",
      "model_name": "LsystemWidgetModel",
      "state": {
       "_model_module_version": "^0.1.2",
       "_view_module_version": "^0.1.2",
       "axes_helper": false,
       "derivationLength": 45,
       "layout": "IPY_MODEL_d93ddd2368b84814a30872f4a70db859",
       "light_helper": false,
       "plane": true,
       "size_display": [
        400,
        400
       ],
       "size_world": [
        10,
        10,
        10
       ],
       "unit": 1
      }
     },
     "898355a66cbc459ba97285702f3bd65c": {
      "model_module": "@jupyter-widgets/controls",
      "model_module_version": "1.5.0",
      "model_name": "DescriptionStyleModel",
      "state": {
       "description_width": ""
      }
     },
     "89878f2818a543e382e83359a77af522": {
      "model_module": "@jupyter-widgets/controls",
      "model_module_version": "1.5.0",
      "model_name": "DescriptionStyleModel",
      "state": {
       "description_width": ""
      }
     },
     "89b6301374784af2ad12bd1f64c5bd4e": {
      "model_module": "@jupyter-widgets/base",
      "model_module_version": "1.2.0",
      "model_name": "LayoutModel",
      "state": {}
     },
     "89e50adf10a84ea9ab3997fe944f3854": {
      "model_module": "@jupyter-widgets/controls",
      "model_module_version": "1.5.0",
      "model_name": "FloatTextModel",
      "state": {
       "description": "min",
       "layout": "IPY_MODEL_22a9a3fd9c4947de8e9b52c24d8c16d8",
       "step": null,
       "style": "IPY_MODEL_738f9659f28b43cf9dd1fbc37d0b8b4c",
       "value": 0.01
      }
     },
     "89fc6b596d6c4c578cd11a671c085644": {
      "model_module": "@jupyter-widgets/base",
      "model_module_version": "1.2.0",
      "model_name": "LayoutModel",
      "state": {}
     },
     "8a45f1793c654ff1b7f7ad2acc463549": {
      "model_module": "@jupyter-widgets/base",
      "model_module_version": "1.2.0",
      "model_name": "LayoutModel",
      "state": {
       "margin": "20px 0px"
      }
     },
     "8a552e1e88a0406f8658363c552e528f": {
      "model_module": "@jupyter-widgets/base",
      "model_module_version": "1.2.0",
      "model_name": "LayoutModel",
      "state": {}
     },
     "8a8447a78e8d49cbbb6bc89f112759f5": {
      "model_module": "@jupyter-widgets/base",
      "model_module_version": "1.2.0",
      "model_name": "LayoutModel",
      "state": {}
     },
     "8a8f9cbb663e4d42a10e4e70f2a1cd17": {
      "model_module": "@jupyter-widgets/controls",
      "model_module_version": "1.5.0",
      "model_name": "DescriptionStyleModel",
      "state": {
       "description_width": ""
      }
     },
     "8ad51eb776394b4a93dbc7a1dfb9d73e": {
      "model_module": "@jupyter-widgets/controls",
      "model_module_version": "1.5.0",
      "model_name": "ColorPickerModel",
      "state": {
       "description": "ambient",
       "disabled": false,
       "layout": "IPY_MODEL_0d1986f50e824e3ab46c0c00906d8520",
       "style": "IPY_MODEL_19d5ed6b5b74424fa7cdb765d4b9a589",
       "value": "#5b4534"
      }
     },
     "8b2c0e30f10b4eb494458134d6e3d6ac": {
      "model_module": "@jupyter-widgets/controls",
      "model_module_version": "1.5.0",
      "model_name": "TabModel",
      "state": {
       "layout": "IPY_MODEL_bf6afae350cf4c75abb82cfc7b68b427"
      }
     },
     "8b57ad46d5bd48cca26846608c950e2f": {
      "model_module": "@jupyter-widgets/controls",
      "model_module_version": "1.5.0",
      "model_name": "DescriptionStyleModel",
      "state": {
       "description_width": ""
      }
     },
     "8b5a4b520c81467f891fd15960b777f4": {
      "model_module": "@jupyter-widgets/base",
      "model_module_version": "1.2.0",
      "model_name": "LayoutModel",
      "state": {}
     },
     "8b631c32026a41418173e79115085831": {
      "model_module": "@jupyter-widgets/controls",
      "model_module_version": "1.5.0",
      "model_name": "ButtonStyleModel",
      "state": {}
     },
     "8bf9b39e28e14f21bbc488f01e8d389d": {
      "model_module": "@jupyter-widgets/base",
      "model_module_version": "1.2.0",
      "model_name": "LayoutModel",
      "state": {}
     },
     "8c16d45c44b04a998919f8f73467a9c0": {
      "model_module": "@jupyter-widgets/controls",
      "model_module_version": "1.5.0",
      "model_name": "IntSliderModel",
      "state": {
       "description": "value",
       "layout": "IPY_MODEL_a068cf14443c4f5e942c301e7cfd9994",
       "max": 7,
       "min": 1,
       "style": "IPY_MODEL_ce92b96c597d4e2c9afa5c61681631d7",
       "value": 3
      }
     },
     "8c2c0a343fea428f8bb2311430031840": {
      "model_module": "@jupyter-widgets/controls",
      "model_module_version": "1.5.0",
      "model_name": "FloatSliderModel",
      "state": {
       "description": "diffuse",
       "layout": "IPY_MODEL_9d8182993fed4c9cbc71982f47d6d867",
       "max": 3,
       "step": 0.1,
       "style": "IPY_MODEL_54a6adf8fcb54c85b74207f702f9cd07",
       "value": 1
      }
     },
     "8c62da042dd6442d92b2bb7026266ad6": {
      "model_module": "pgljupyter",
      "model_module_version": "^0.1.15",
      "model_name": "LsystemWidgetModel",
      "state": {
       "_model_module_version": "^0.1.15",
       "_view_module_version": "^0.1.15",
       "axes_helper": false,
       "derivationLength": 41,
       "layout": "IPY_MODEL_ce227c9996044887815635ea59975f6c",
       "light_helper": false,
       "plane": true,
       "size_display": [
        400,
        400
       ],
       "size_world": 50
      }
     },
     "8c6d842e752a4b18b7ab2cfa3594f105": {
      "model_module": "@jupyter-widgets/controls",
      "model_module_version": "1.5.0",
      "model_name": "DropdownModel",
      "state": {
       "_options_labels": [
        "color_1",
        "color_2",
        "color_3",
        "color_4"
       ],
       "index": 0,
       "layout": "IPY_MODEL_a7a8b5c3470447899106f38cf7d60475",
       "style": "IPY_MODEL_48bdb719082748ef91def7da3aa3a65a"
      }
     },
     "8c797f1b8bae4158b37abc7b83f5ff4b": {
      "model_module": "@jupyter-widgets/controls",
      "model_module_version": "1.5.0",
      "model_name": "TabModel",
      "state": {
       "_titles": {
        "0": "leuwenberg.json"
       },
       "children": [
        "IPY_MODEL_1bea1a5d3faa45d7874d70b0e8b279d9"
       ],
       "layout": "IPY_MODEL_1a1e15aa06554b098e2aa1bff6337778"
      }
     },
     "8c7a3e34a4ef4101aa1d4fafbdcc25e2": {
      "model_module": "@jupyter-widgets/base",
      "model_module_version": "1.2.0",
      "model_name": "LayoutModel",
      "state": {}
     },
     "8cf47a3dc0f145878200852cb8e2324d": {
      "model_module": "@jupyter-widgets/controls",
      "model_module_version": "1.5.0",
      "model_name": "DescriptionStyleModel",
      "state": {
       "description_width": ""
      }
     },
     "8d37c763f09141d59794272e850d5266": {
      "model_module": "@jupyter-widgets/controls",
      "model_module_version": "1.5.0",
      "model_name": "ButtonStyleModel",
      "state": {}
     },
     "8d6db19d3f094f5eadeb4f40df7ac00f": {
      "model_module": "@jupyter-widgets/controls",
      "model_module_version": "1.5.0",
      "model_name": "DescriptionStyleModel",
      "state": {
       "description_width": ""
      }
     },
     "8d72828213d54034baa081e13312c7e8": {
      "model_module": "@jupyter-widgets/base",
      "model_module_version": "1.2.0",
      "model_name": "LayoutModel",
      "state": {}
     },
     "8d97a9c3a929427aacfe6a6892edf62f": {
      "model_module": "@jupyter-widgets/base",
      "model_module_version": "1.2.0",
      "model_name": "LayoutModel",
      "state": {}
     },
     "8da284ec50ae4429858599e220d52cc5": {
      "model_module": "@jupyter-widgets/controls",
      "model_module_version": "1.5.0",
      "model_name": "SliderStyleModel",
      "state": {
       "description_width": ""
      }
     },
     "8dee69fccbb14c7c82aaa8587be93b6d": {
      "model_module": "@jupyter-widgets/base",
      "model_module_version": "1.2.0",
      "model_name": "LayoutModel",
      "state": {
       "margin": "20px 0px"
      }
     },
     "8e2e88ac36b94bc5a3666e023224bcb9": {
      "model_module": "@jupyter-widgets/base",
      "model_module_version": "1.2.0",
      "model_name": "LayoutModel",
      "state": {
       "margin": "20px 0px"
      }
     },
     "8e4a08bb730b480399348f035c0fb923": {
      "model_module": "@jupyter-widgets/controls",
      "model_module_version": "1.5.0",
      "model_name": "HBoxModel",
      "state": {
       "children": [
        "IPY_MODEL_936f0e7167dc479c802e269f1eb415e2",
        "IPY_MODEL_2c8a15976e6848598b89d289ea36058c"
       ],
       "layout": "IPY_MODEL_0c3ed52dd9c4401a928899a1f8bd760f"
      }
     },
     "8e5923306b2d46e79d08c87828fc0a9b": {
      "model_module": "@jupyter-widgets/base",
      "model_module_version": "1.2.0",
      "model_name": "LayoutModel",
      "state": {}
     },
     "8e77588d968a4b249de499478881d35b": {
      "model_module": "@jupyter-widgets/controls",
      "model_module_version": "1.5.0",
      "model_name": "DescriptionStyleModel",
      "state": {
       "description_width": ""
      }
     },
     "8e9eadb874e74667b49b67960eb2b573": {
      "model_module": "@jupyter-widgets/controls",
      "model_module_version": "1.5.0",
      "model_name": "HBoxModel",
      "state": {
       "layout": "IPY_MODEL_fdc392c7cf9844a2b7daa72c52be63a0"
      }
     },
     "8ebe91de6cbe4ba086b2a7c90771dca1": {
      "model_module": "pgljupyter",
      "model_module_version": "^0.1.15",
      "model_name": "MaterialEditorModel",
      "state": {
       "_model_module_version": "^0.1.15",
       "_view_module_version": "^0.1.15",
       "children": [
        "IPY_MODEL_07301c2e2f0b4aea913581d68a54b94b",
        "IPY_MODEL_b4deb4068e1e42e2b30d7c28bf65b5b3",
        "IPY_MODEL_b4826374de34493ea4493a423ea453fe",
        "IPY_MODEL_ff27aee2ba404d839aca903bd596fdf3",
        "IPY_MODEL_74c56f8bb37a47bc9c2065f85914f50e",
        "IPY_MODEL_e5f2a00f0c414126bf3ef2ee0b39a77e",
        "IPY_MODEL_bb1440d617e748a699d8c51fe00b9f81",
        "IPY_MODEL_579b04c56faf4f05b90aafb9e8676ad1"
       ],
       "layout": "IPY_MODEL_b9584c01989d435794a5113b99e6824c"
      }
     },
     "8ec00b2cc23342a09233e026086c3c27": {
      "model_module": "@jupyter-widgets/base",
      "model_module_version": "1.2.0",
      "model_name": "LayoutModel",
      "state": {
       "margin": "20px 0px"
      }
     },
     "8ecf3ecac7e449ec9e63fe3f86b2d2b3": {
      "model_module": "pgljupyter",
      "model_module_version": "^0.1.15",
      "model_name": "ParameterEditorModel",
      "state": {
       "_model_module_version": "^0.1.15",
       "_view_module_version": "^0.1.15",
       "children": [
        "IPY_MODEL_e5e553e6acfa43be9690659edc56b638"
       ],
       "layout": "IPY_MODEL_7d429314117b4b3890e68477bc181f56"
      }
     },
     "8f01abad88d94ccbbc92059d66638e59": {
      "model_module": "@jupyter-widgets/base",
      "model_module_version": "1.2.0",
      "model_name": "LayoutModel",
      "state": {}
     },
     "8f1da4b76f6c40d9add8f34cb84ac141": {
      "model_module": "@jupyter-widgets/base",
      "model_module_version": "1.2.0",
      "model_name": "LayoutModel",
      "state": {
       "margin": "20px 0px"
      }
     },
     "8f477e2e294f4e3492be7dbd7786b8fb": {
      "model_module": "@jupyter-widgets/base",
      "model_module_version": "1.2.0",
      "model_name": "LayoutModel",
      "state": {}
     },
     "8f6f200a9dd741ac804162aa7fea3943": {
      "model_module": "@jupyter-widgets/base",
      "model_module_version": "1.2.0",
      "model_name": "LayoutModel",
      "state": {}
     },
     "8f71d669437c41769faf9ebe00a50053": {
      "model_module": "@jupyter-widgets/controls",
      "model_module_version": "1.5.0",
      "model_name": "IntTextModel",
      "state": {
       "description": "min",
       "layout": "IPY_MODEL_596106a34b464f20a59828655b65d4be",
       "step": 1,
       "style": "IPY_MODEL_22e0832f909840ad96eb17d5f236e6d0",
       "value": 1
      }
     },
     "8fa6258413c44ba99f2a4ee088967e6f": {
      "model_module": "@jupyter-widgets/controls",
      "model_module_version": "1.5.0",
      "model_name": "DescriptionStyleModel",
      "state": {
       "description_width": ""
      }
     },
     "8fab1ce95cf643a1ba1209b68a0f92dc": {
      "model_module": "@jupyter-widgets/controls",
      "model_module_version": "1.5.0",
      "model_name": "BoundedIntTextModel",
      "state": {
       "description": "step",
       "layout": "IPY_MODEL_9cfe6dbf2ac647be93f71e8fc4921e44",
       "min": 1,
       "style": "IPY_MODEL_ef73a2427adb469087394b4317751b74",
       "value": 1
      }
     },
     "90168c6c44fa4abe993133e42012c922": {
      "model_module": "@jupyter-widgets/controls",
      "model_module_version": "1.5.0",
      "model_name": "TextModel",
      "state": {
       "continuous_update": false,
       "description": "name",
       "layout": "IPY_MODEL_a33eff41ada84b4fb639dda3c18a9e63",
       "style": "IPY_MODEL_8fa6258413c44ba99f2a4ee088967e6f",
       "value": "color_4"
      }
     },
     "901d53fddd3948458282a32dd2f4b5a7": {
      "model_module": "@jupyter-widgets/controls",
      "model_module_version": "1.5.0",
      "model_name": "TextModel",
      "state": {
       "continuous_update": false,
       "description": "name",
       "layout": "IPY_MODEL_c7a7a50eab4e4e22960d00e9cf2bd872",
       "style": "IPY_MODEL_5965992f600047acaf09d3042fa191f5",
       "value": "BezierCurve2D_1"
      }
     },
     "903ae2b1ef9741f6869a2d2602191809": {
      "model_module": "@jupyter-widgets/base",
      "model_module_version": "1.2.0",
      "model_name": "LayoutModel",
      "state": {}
     },
     "903d502a98cd44ecb5657e2156e9559c": {
      "model_module": "@jupyter-widgets/controls",
      "model_module_version": "1.5.0",
      "model_name": "HBoxModel",
      "state": {
       "children": [
        "IPY_MODEL_f38ce8becd2f403f81f14f057115a3b5",
        "IPY_MODEL_7e460e2c624a46e587a98cece718fc66",
        "IPY_MODEL_593c45add93e470fa160defc86ae8503",
        "IPY_MODEL_5e191573a5924d1887ed7d21c6786fdf"
       ],
       "layout": "IPY_MODEL_25596c60b781494ba65f65b159bd60c0"
      }
     },
     "90a47df4dba34d57b516a9080888680e": {
      "model_module": "@jupyter-widgets/controls",
      "model_module_version": "1.5.0",
      "model_name": "ColorPickerModel",
      "state": {
       "description": "ambient",
       "disabled": false,
       "layout": "IPY_MODEL_754e023037f44be6a00d8aae974857c5",
       "style": "IPY_MODEL_fa2ab2109edb48bb9783d6353f95f9f5",
       "value": "#e1a014"
      }
     },
     "90b847efdfb849b8b6736e210159423b": {
      "model_module": "@jupyter-widgets/controls",
      "model_module_version": "1.5.0",
      "model_name": "DropdownModel",
      "state": {
       "_options_labels": [
        "Integer",
        "Float",
        "Bool"
       ],
       "index": 0,
       "layout": "IPY_MODEL_cbe03dab15774ad68ea1b7df1e69258a",
       "style": "IPY_MODEL_46d4a42297fb4b649abab841c2500d21"
      }
     },
     "90dd86fb627e4aa088f052bdc9ec27f9": {
      "model_module": "pgljupyter",
      "model_module_version": "^0.1.2",
      "model_name": "CurveEditorModel",
      "state": {
       "_model_module_version": "^0.1.2",
       "_view_module_version": "^0.1.2",
       "children": [
        "IPY_MODEL_901d53fddd3948458282a32dd2f4b5a7",
        "IPY_MODEL_3cf5140e8eaf4f8bb8ba9548db80111d"
       ],
       "layout": "IPY_MODEL_9321351e06944678b9228d00a620d928"
      }
     },
     "9100c35a50564d3c900c9dcb83a05534": {
      "model_module": "@jupyter-widgets/controls",
      "model_module_version": "1.5.0",
      "model_name": "TextModel",
      "state": {
       "continuous_update": false,
       "description": "name",
       "layout": "IPY_MODEL_46c1e94970374dc1a9354bd3aa90c194",
       "style": "IPY_MODEL_509d6c725da94626a133effd3ad1ed9f",
       "value": "maxorder"
      }
     },
     "910acf8275e644cea6a9caabffacd4f6": {
      "model_module": "@jupyter-widgets/controls",
      "model_module_version": "1.5.0",
      "model_name": "SliderStyleModel",
      "state": {
       "description_width": ""
      }
     },
     "913ad06167d5449280a1f2f6fa81f16f": {
      "model_module": "@jupyter-widgets/controls",
      "model_module_version": "1.5.0",
      "model_name": "TextModel",
      "state": {
       "continuous_update": false,
       "description": "name",
       "layout": "IPY_MODEL_8645b89eac654b8fa6aa028b35d139fc",
       "style": "IPY_MODEL_c38f18c5852b410b9ca5057a1a6d512c",
       "value": "leafold"
      }
     },
     "918dba89046f4c0684a87756dce40407": {
      "model_module": "@jupyter-widgets/controls",
      "model_module_version": "1.5.0",
      "model_name": "DescriptionStyleModel",
      "state": {
       "description_width": ""
      }
     },
     "91b64781558240098d1cd658725ac815": {
      "model_module": "pgljupyter",
      "model_module_version": "^0.1.15",
      "model_name": "MaterialEditorModel",
      "state": {
       "_model_module_version": "^0.1.15",
       "_view_module_version": "^0.1.15",
       "children": [
        "IPY_MODEL_d0b33d7de44046969c0b58c9f4f3db65",
        "IPY_MODEL_0df2c33bca284a19845e4bf727a89752",
        "IPY_MODEL_22207bcdaa0243a5938cd94e8069d066",
        "IPY_MODEL_d1053430fd9d434e80ee9be41c53ac30",
        "IPY_MODEL_6098741465594757884b0251d3d297cf",
        "IPY_MODEL_c98e790221124b0899117288fd3be6d4",
        "IPY_MODEL_c025bae705654e3e8fd0e50a76ef051a",
        "IPY_MODEL_9ded347ef9c24c6b9bd9c638a491b333"
       ],
       "layout": "IPY_MODEL_a4d6402bee1d45c983bd03659ef99af2"
      }
     },
     "9216e47018d143289825c8fc38f1023d": {
      "model_module": "@jupyter-widgets/controls",
      "model_module_version": "1.5.0",
      "model_name": "DescriptionStyleModel",
      "state": {
       "description_width": ""
      }
     },
     "9232a91d889e42d19f0c0899a0415e70": {
      "model_module": "@jupyter-widgets/controls",
      "model_module_version": "1.5.0",
      "model_name": "ButtonStyleModel",
      "state": {}
     },
     "928bf1d863cd4c3d85d3366fa681a4d0": {
      "model_module": "@jupyter-widgets/base",
      "model_module_version": "1.2.0",
      "model_name": "LayoutModel",
      "state": {}
     },
     "92a49b08882b4b28ae92e9d4b56b4441": {
      "model_module": "@jupyter-widgets/controls",
      "model_module_version": "1.5.0",
      "model_name": "IntTextModel",
      "state": {
       "description": "min",
       "layout": "IPY_MODEL_b59c29281333436899408f2669df3b50",
       "step": 1,
       "style": "IPY_MODEL_f91d2ac41e5c4dfaa339b47ecbc48765",
       "value": 1
      }
     },
     "92cc0394e9f64a1688c6f0b178b48c58": {
      "model_module": "@jupyter-widgets/controls",
      "model_module_version": "1.5.0",
      "model_name": "TextModel",
      "state": {
       "layout": "IPY_MODEL_54d49613f6444ddaa20a8c0f57c3d5bb",
       "placeholder": "category name",
       "style": "IPY_MODEL_9455478d6e644b04bc8ac1015a97e137"
      }
     },
     "92d3290df9ab4916ac33eac813c835b3": {
      "model_module": "@jupyter-widgets/controls",
      "model_module_version": "1.5.0",
      "model_name": "ButtonStyleModel",
      "state": {}
     },
     "92f199335646482097a81e6f6bca5eb5": {
      "model_module": "@jupyter-widgets/controls",
      "model_module_version": "1.5.0",
      "model_name": "DropdownModel",
      "state": {
       "index": null,
       "layout": "IPY_MODEL_b2dd0bcc35f94d0d88468a98b500d7af",
       "style": "IPY_MODEL_24dc30abc7fc4c0d96dbf565c0bdece3"
      }
     },
     "930cf2be63434311b69954fea28519d9": {
      "model_module": "@jupyter-widgets/controls",
      "model_module_version": "1.5.0",
      "model_name": "FloatSliderModel",
      "state": {
       "description": "shininess",
       "layout": "IPY_MODEL_3b165dfd50c4467fa021eb1279eb1e9b",
       "max": 1,
       "step": 0.1,
       "style": "IPY_MODEL_b5ccc25be6cb483bbe8c790ab85792d5",
       "value": 0.2
      }
     },
     "930f0ee8812644898f0b1679116f4fb2": {
      "model_module": "@jupyter-widgets/controls",
      "model_module_version": "1.5.0",
      "model_name": "FloatSliderModel",
      "state": {
       "description": "diffuse",
       "layout": "IPY_MODEL_965909a07304436d98f0087adc6ffd14",
       "max": 1,
       "step": 0.1,
       "style": "IPY_MODEL_57c821df3d834463805124e7186d4dbe",
       "value": 1
      }
     },
     "9321351e06944678b9228d00a620d928": {
      "model_module": "@jupyter-widgets/base",
      "model_module_version": "1.2.0",
      "model_name": "LayoutModel",
      "state": {
       "margin": "20px 0px"
      }
     },
     "9339e3265f2e4932bae217f65af8317e": {
      "model_module": "@jupyter-widgets/controls",
      "model_module_version": "1.5.0",
      "model_name": "ButtonStyleModel",
      "state": {}
     },
     "936f0e7167dc479c802e269f1eb415e2": {
      "model_module": "@jupyter-widgets/controls",
      "model_module_version": "1.5.0",
      "model_name": "ButtonModel",
      "state": {
       "description": "Delete",
       "layout": "IPY_MODEL_cc6a0f0ef8ca472b9113262cccfa8bfa",
       "style": "IPY_MODEL_5d435d9b86cd4d3e9fec3dcc41b6d3fb"
      }
     },
     "93812f2c085246638005a129d8c27d3d": {
      "model_module": "@jupyter-widgets/controls",
      "model_module_version": "1.5.0",
      "model_name": "HBoxModel",
      "state": {
       "children": [
        "IPY_MODEL_3a44342eebdf42d898c797bcc1fa6f80"
       ],
       "layout": "IPY_MODEL_cc4283288fb542ef96f56d4d031ff9f4"
      }
     },
     "93b63bef746a41dcbb7302092d06416d": {
      "model_module": "@jupyter-widgets/controls",
      "model_module_version": "1.5.0",
      "model_name": "TextModel",
      "state": {
       "continuous_update": false,
       "description": "name",
       "layout": "IPY_MODEL_34735ef710b24bba8dc82b0edee69a57",
       "style": "IPY_MODEL_a1605ccb69a04fb8a8727b34e2c9884e",
       "value": "radinc"
      }
     },
     "93e6d6935dfc43cf8984cfeb6c95c65f": {
      "model_module": "@jupyter-widgets/controls",
      "model_module_version": "1.5.0",
      "model_name": "HBoxModel",
      "state": {
       "children": [
        "IPY_MODEL_bfebed0daad143708203e46686ecbbaf",
        "IPY_MODEL_92f199335646482097a81e6f6bca5eb5"
       ],
       "layout": "IPY_MODEL_79af79be92984ceb9c491a37fa49a1bd"
      }
     },
     "9411d65f9b7040b2b0e3ebb42aab2427": {
      "model_module": "@jupyter-widgets/controls",
      "model_module_version": "1.5.0",
      "model_name": "IntTextModel",
      "state": {
       "description": "min",
       "layout": "IPY_MODEL_aac476e6fb0647a88cda4a28164bedd6",
       "step": 1,
       "style": "IPY_MODEL_47a4fec59d7e455f92e0d2f33134871e",
       "value": 1
      }
     },
     "94187a47d018456e86f4065c54af4476": {
      "model_module": "@jupyter-widgets/base",
      "model_module_version": "1.2.0",
      "model_name": "LayoutModel",
      "state": {}
     },
     "9448d6a702534361b5d706b498ea40f0": {
      "model_module": "@jupyter-widgets/base",
      "model_module_version": "1.2.0",
      "model_name": "LayoutModel",
      "state": {}
     },
     "9455478d6e644b04bc8ac1015a97e137": {
      "model_module": "@jupyter-widgets/controls",
      "model_module_version": "1.5.0",
      "model_name": "DescriptionStyleModel",
      "state": {
       "description_width": ""
      }
     },
     "9466db9ebd5a43af856dc0005e0a311b": {
      "model_module": "@jupyter-widgets/controls",
      "model_module_version": "1.5.0",
      "model_name": "HBoxModel",
      "state": {
       "children": [
        "IPY_MODEL_a718aedbd0634dd995dd3d6dfbb2973c",
        "IPY_MODEL_72b8684135dd416f94baf40edb814e3c"
       ],
       "layout": "IPY_MODEL_4cc5aa1352eb432da719b2ae2e9fe4e8"
      }
     },
     "949b9f6b0655431baaa842ca0fba7158": {
      "model_module": "@jupyter-widgets/controls",
      "model_module_version": "1.5.0",
      "model_name": "DropdownModel",
      "state": {
       "_options_labels": [
        "NurbsCurve2D",
        "BezierCurve2D",
        "Polyline2D"
       ],
       "index": 1,
       "layout": "IPY_MODEL_db4c3609b3594e998f5efdb2721b2014",
       "style": "IPY_MODEL_f79988204f874b4b990f329de61ad10e"
      }
     },
     "94ac578565f043d688bf9cd62d6d8553": {
      "model_module": "@jupyter-widgets/controls",
      "model_module_version": "1.5.0",
      "model_name": "DescriptionStyleModel",
      "state": {
       "description_width": ""
      }
     },
     "94e00aab9f27448caa364586229589bf": {
      "model_module": "@jupyter-widgets/controls",
      "model_module_version": "1.5.0",
      "model_name": "SliderStyleModel",
      "state": {
       "description_width": ""
      }
     },
     "94e25902e4724aa0a4d73938e6e56102": {
      "model_module": "@jupyter-widgets/controls",
      "model_module_version": "1.5.0",
      "model_name": "DescriptionStyleModel",
      "state": {
       "description_width": ""
      }
     },
     "94fe16f4b7b148129026cb2da6d29ef1": {
      "model_module": "@jupyter-widgets/controls",
      "model_module_version": "1.5.0",
      "model_name": "TextModel",
      "state": {
       "continuous_update": false,
       "description": "name",
       "layout": "IPY_MODEL_9c7b8466e8e340feb151320d1ae35860",
       "style": "IPY_MODEL_8272e23ce2dd4623b003ba31c98874b1",
       "value": "color_4"
      }
     },
     "950ee4909fc04e6f82dcd0ea22a1dd7a": {
      "model_module": "@jupyter-widgets/controls",
      "model_module_version": "1.5.0",
      "model_name": "SliderStyleModel",
      "state": {
       "description_width": ""
      }
     },
     "951341cbaf1647c1b78a3d6afe8b8158": {
      "model_module": "@jupyter-widgets/base",
      "model_module_version": "1.2.0",
      "model_name": "LayoutModel",
      "state": {}
     },
     "952046052d024f28bf70c8a76f65f14a": {
      "model_module": "@jupyter-widgets/controls",
      "model_module_version": "1.5.0",
      "model_name": "DescriptionStyleModel",
      "state": {
       "description_width": ""
      }
     },
     "95285ace6cf8407181cfa8f962493b2f": {
      "model_module": "@jupyter-widgets/controls",
      "model_module_version": "1.5.0",
      "model_name": "DescriptionStyleModel",
      "state": {
       "description_width": ""
      }
     },
     "95287b3f031d4e6cb5514b1ca68b7868": {
      "model_module": "@jupyter-widgets/controls",
      "model_module_version": "1.5.0",
      "model_name": "ButtonStyleModel",
      "state": {}
     },
     "952fbb7f027f4f5d9239e048df0be058": {
      "model_module": "@jupyter-widgets/base",
      "model_module_version": "1.2.0",
      "model_name": "LayoutModel",
      "state": {}
     },
     "9533a3e0ce41459f818837dd25b5e7bf": {
      "model_module": "@jupyter-widgets/base",
      "model_module_version": "1.2.0",
      "model_name": "LayoutModel",
      "state": {}
     },
     "953d2782c14249fb88a4123469f963a7": {
      "model_module": "@jupyter-widgets/base",
      "model_module_version": "1.2.0",
      "model_name": "LayoutModel",
      "state": {}
     },
     "954794a6a3d042c395cc18311c564ac2": {
      "model_module": "@jupyter-widgets/base",
      "model_module_version": "1.2.0",
      "model_name": "LayoutModel",
      "state": {}
     },
     "957c5740794142d5b25a7b7ebca09e73": {
      "model_module": "@jupyter-widgets/controls",
      "model_module_version": "1.5.0",
      "model_name": "ButtonModel",
      "state": {
       "description": "Delete",
       "layout": "IPY_MODEL_2ebb0a0050144bca8f9cb9d9e1736e7a",
       "style": "IPY_MODEL_dd72025c1e3449dcbda94bf41b2283c2"
      }
     },
     "95ae58d84e044423a3a651eb6653142e": {
      "model_module": "@jupyter-widgets/controls",
      "model_module_version": "1.5.0",
      "model_name": "SliderStyleModel",
      "state": {
       "description_width": ""
      }
     },
     "95ba0750d90d46549f250d00ed29fe90": {
      "model_module": "@jupyter-widgets/controls",
      "model_module_version": "1.5.0",
      "model_name": "VBoxModel",
      "state": {
       "children": [
        "IPY_MODEL_903d502a98cd44ecb5657e2156e9559c",
        "IPY_MODEL_75e4bd3534f543b4899c48d354a9a7b6"
       ],
       "layout": "IPY_MODEL_01c976d04d3844679724e474809c158b"
      }
     },
     "95bb0130d18b4b6282af4217386da311": {
      "model_module": "@jupyter-widgets/base",
      "model_module_version": "1.2.0",
      "model_name": "LayoutModel",
      "state": {}
     },
     "95e39972c1d5454aa4e2c6b55635b52d": {
      "model_module": "@jupyter-widgets/controls",
      "model_module_version": "1.5.0",
      "model_name": "FloatTextModel",
      "state": {
       "description": "max",
       "layout": "IPY_MODEL_52bc33cd44ed41c69ec16396a1435eb5",
       "step": null,
       "style": "IPY_MODEL_c04bb9ece02a4264a46297bbe97a5744",
       "value": 0.1
      }
     },
     "95eef6992b7847359034cb5d069ebfa2": {
      "model_module": "@jupyter-widgets/base",
      "model_module_version": "1.2.0",
      "model_name": "LayoutModel",
      "state": {}
     },
     "965909a07304436d98f0087adc6ffd14": {
      "model_module": "@jupyter-widgets/base",
      "model_module_version": "1.2.0",
      "model_name": "LayoutModel",
      "state": {}
     },
     "965bd59a86534e949f83f3fe45f31fe8": {
      "model_module": "@jupyter-widgets/controls",
      "model_module_version": "1.5.0",
      "model_name": "DropdownModel",
      "state": {
       "_options_labels": [
        "NurbsCurve2D",
        "BezierCurve2D",
        "Polyline2D"
       ],
       "index": 0,
       "layout": "IPY_MODEL_0d4aef8d0e3947f39cd16894ccb136e4",
       "style": "IPY_MODEL_30ea0fffbfc14c498f33c0844ae5ecc8"
      }
     },
     "966bb16d1bfb45d88640e227702886a8": {
      "model_module": "@jupyter-widgets/controls",
      "model_module_version": "1.5.0",
      "model_name": "TextModel",
      "state": {
       "continuous_update": false,
       "description": "name",
       "layout": "IPY_MODEL_cf3db1034fd8432aa3704c829a0ecdf4",
       "style": "IPY_MODEL_a5e6cb9ccab74844b1a7f7ff16c4b40d",
       "value": "leafduration"
      }
     },
     "9675bb7133ff49a8b250e10b29a2f905": {
      "model_module": "@jupyter-widgets/base",
      "model_module_version": "1.2.0",
      "model_name": "LayoutModel",
      "state": {}
     },
     "96bc270eb98e480d869226e5c3773f39": {
      "model_module": "@jupyter-widgets/controls",
      "model_module_version": "1.5.0",
      "model_name": "BoundedIntTextModel",
      "state": {
       "description": "index",
       "layout": "IPY_MODEL_ad8a030a3fcc472689e91a373593e67a",
       "style": "IPY_MODEL_04e56f0541674c39a651dd9c50a6c8f2",
       "value": 3
      }
     },
     "96ef03696a734da89b39db7fbc0c836b": {
      "model_module": "@jupyter-widgets/controls",
      "model_module_version": "1.5.0",
      "model_name": "DescriptionStyleModel",
      "state": {
       "description_width": ""
      }
     },
     "973b8db74a7241838bcf94e8926a691c": {
      "model_module": "@jupyter-widgets/controls",
      "model_module_version": "1.5.0",
      "model_name": "DescriptionStyleModel",
      "state": {
       "description_width": ""
      }
     },
     "9759350451f2440eb8c617e8c4db008e": {
      "model_module": "@jupyter-widgets/controls",
      "model_module_version": "1.5.0",
      "model_name": "VBoxModel",
      "state": {
       "children": [
        "IPY_MODEL_e8399564e03e4c88bfaaaad19c92859c",
        "IPY_MODEL_d1b0d3e3255c4c5094a200be37f42f8f"
       ],
       "layout": "IPY_MODEL_064a6b52f9d74adca3130c88f0c1bda9"
      }
     },
     "9764c640c2bd4beaa84c225f30c2b73a": {
      "model_module": "@jupyter-widgets/base",
      "model_module_version": "1.2.0",
      "model_name": "LayoutModel",
      "state": {}
     },
     "978de8ad9ea24bcea235051efc4a1a54": {
      "model_module": "@jupyter-widgets/controls",
      "model_module_version": "1.5.0",
      "model_name": "DescriptionStyleModel",
      "state": {
       "description_width": ""
      }
     },
     "97b1c094320146c1bccde87922ad76ab": {
      "model_module": "@jupyter-widgets/controls",
      "model_module_version": "1.5.0",
      "model_name": "ButtonModel",
      "state": {
       "description": "Delete",
       "layout": "IPY_MODEL_da2af70e6cb54a87bfe8aba01f079232",
       "style": "IPY_MODEL_3207925224d34f6c8bf84a40588fed58"
      }
     },
     "97d0ec30cb08453f949f7b6111f45ad9": {
      "model_module": "@jupyter-widgets/controls",
      "model_module_version": "1.5.0",
      "model_name": "ColorPickerModel",
      "state": {
       "description": "emission",
       "disabled": false,
       "layout": "IPY_MODEL_2d27d7c14ef54df7bced5f710b9e0cce",
       "style": "IPY_MODEL_8d6db19d3f094f5eadeb4f40df7ac00f",
       "value": "#000000"
      }
     },
     "97e0f25e2b234a4e8f54f9c7226139d4": {
      "model_module": "pgljupyter",
      "model_module_version": "^0.1.15",
      "model_name": "IntEditorModel",
      "state": {
       "_model_module_version": "^0.1.15",
       "_view_module_version": "^0.1.15",
       "children": [
        "IPY_MODEL_10ae33d3c2ef4b328d1bae3a015fb740",
        "IPY_MODEL_565735071d44460084dbcc986fac2a21",
        "IPY_MODEL_f20df92cf03a414892fbe668a47eff5a",
        "IPY_MODEL_3d72676596db48239fb3fce7eab36c7e",
        "IPY_MODEL_393897094f3e4470aaac2d26415261a8"
       ],
       "layout": "IPY_MODEL_57e58ad59edd42ff9e9f05759bd93609"
      }
     },
     "97f580382c1d48bbb5becd2c31670cc3": {
      "model_module": "@jupyter-widgets/base",
      "model_module_version": "1.2.0",
      "model_name": "LayoutModel",
      "state": {}
     },
     "9806350c89e94ad6acd3c10c59d54551": {
      "model_module": "@jupyter-widgets/base",
      "model_module_version": "1.2.0",
      "model_name": "LayoutModel",
      "state": {}
     },
     "9821d2ec86744cb48ceb8614fb8e625a": {
      "model_module": "@jupyter-widgets/base",
      "model_module_version": "1.2.0",
      "model_name": "LayoutModel",
      "state": {}
     },
     "984b9c846c2745a480a2020feaa5cb7e": {
      "model_module": "@jupyter-widgets/controls",
      "model_module_version": "1.5.0",
      "model_name": "TabModel",
      "state": {
       "_titles": {
        "0": "leuwenberg.json"
       },
       "children": [
        "IPY_MODEL_ce6b286f2d3f44b0950e6aad6008ca4a"
       ],
       "layout": "IPY_MODEL_9946cf58e54c47ec8aa5016cd7cf912a"
      }
     },
     "9866af8bed034a5794d5192397982b56": {
      "model_module": "@jupyter-widgets/controls",
      "model_module_version": "1.5.0",
      "model_name": "HBoxModel",
      "state": {
       "children": [
        "IPY_MODEL_2bfa67229dbb4f5f80d1bc638f650d11",
        "IPY_MODEL_5e00d7802e284e14b7b04901ce63c863"
       ],
       "layout": "IPY_MODEL_ba29b80240fa409fbf8bfc9edf0f136d"
      }
     },
     "986c888bf44d46b88f2eab79ddc528f2": {
      "model_module": "pgljupyter",
      "model_module_version": "^0.1.15",
      "model_name": "MaterialEditorModel",
      "state": {
       "_model_module_version": "^0.1.15",
       "_view_module_version": "^0.1.15",
       "children": [
        "IPY_MODEL_0bfaa6a677e94a4fa0098f862918f3ac",
        "IPY_MODEL_f08bb17a99d94871b84ebfee1d3d2bcd",
        "IPY_MODEL_5457325852c14dcfb4e6b44175374e44",
        "IPY_MODEL_7eb14e9122f64d8682bea8e8ecb06f61",
        "IPY_MODEL_a487decfa1924bf49ed56b54e9209a3e",
        "IPY_MODEL_3701c95af124487b9519c1a5365f456c",
        "IPY_MODEL_e3eceff915e34d34a13ed1eb03df363a",
        "IPY_MODEL_3fbfa747fc054513a1fcd79bd190a434"
       ],
       "layout": "IPY_MODEL_5b85fc30ee064d85af2921c89cd089cf"
      }
     },
     "987ee76d11d2433cacbdfd03b1954503": {
      "model_module": "@jupyter-widgets/controls",
      "model_module_version": "1.5.0",
      "model_name": "HBoxModel",
      "state": {
       "children": [
        "IPY_MODEL_a971f194088a4a4e858765df3db9ae8c",
        "IPY_MODEL_c2003da65dea4a289b43039e5a8549af",
        "IPY_MODEL_dd8cbc2eaaeb415dbc538b88d4e53a59",
        "IPY_MODEL_ba6c79c2e43840c9810fa60662097b5b"
       ],
       "layout": "IPY_MODEL_fe0cdcc6562e4d7b98662c718d50f517"
      }
     },
     "988574f2589141d28a2282d4e2df9970": {
      "model_module": "@jupyter-widgets/base",
      "model_module_version": "1.2.0",
      "model_name": "LayoutModel",
      "state": {}
     },
     "9885be8a805844de97c0070041224d3e": {
      "model_module": "@jupyter-widgets/base",
      "model_module_version": "1.2.0",
      "model_name": "LayoutModel",
      "state": {}
     },
     "98aa5571686a4f67bacd8fedb3e6193b": {
      "model_module": "@jupyter-widgets/controls",
      "model_module_version": "1.5.0",
      "model_name": "DropdownModel",
      "state": {
       "_options_labels": [
        "NurbsCurve2D",
        "BezierCurve2D",
        "Polyline2D",
        "Function"
       ],
       "index": 0,
       "layout": "IPY_MODEL_4889d8549d154d60ae2edc1b70593bdc",
       "style": "IPY_MODEL_642c38824491457889d7ecaa214ec68f"
      }
     },
     "98bc50eea37a458ebc2807a2cfa4a66e": {
      "model_module": "@jupyter-widgets/base",
      "model_module_version": "1.2.0",
      "model_name": "LayoutModel",
      "state": {}
     },
     "98f8b3c6f7c54cba99d0142498298b0a": {
      "model_module": "@jupyter-widgets/controls",
      "model_module_version": "1.5.0",
      "model_name": "ColorPickerModel",
      "state": {
       "description": "emission",
       "disabled": false,
       "layout": "IPY_MODEL_dc6aaa49edae4ee0a2076a316cb680a5",
       "style": "IPY_MODEL_c254b77e53f94f28a27b56e3c2dfc626",
       "value": "#000000"
      }
     },
     "99302e31763945609667a0e4acb70120": {
      "model_module": "@jupyter-widgets/base",
      "model_module_version": "1.2.0",
      "model_name": "LayoutModel",
      "state": {}
     },
     "9946cf58e54c47ec8aa5016cd7cf912a": {
      "model_module": "@jupyter-widgets/base",
      "model_module_version": "1.2.0",
      "model_name": "LayoutModel",
      "state": {}
     },
     "995085a578004bfe81660f47cb338b16": {
      "model_module": "@jupyter-widgets/base",
      "model_module_version": "1.2.0",
      "model_name": "LayoutModel",
      "state": {}
     },
     "996caf2446e9407b9b792dca3f37a21f": {
      "model_module": "@jupyter-widgets/base",
      "model_module_version": "1.2.0",
      "model_name": "LayoutModel",
      "state": {
       "margin": "20px 0px"
      }
     },
     "9996de42de804a72bd10c312732d93ad": {
      "model_module": "@jupyter-widgets/base",
      "model_module_version": "1.2.0",
      "model_name": "LayoutModel",
      "state": {
       "margin": "20px 0px"
      }
     },
     "99b18e548973437d99ad5d2dfb6334bf": {
      "model_module": "@jupyter-widgets/base",
      "model_module_version": "1.2.0",
      "model_name": "LayoutModel",
      "state": {}
     },
     "99e452c25df34ce1bcd194a8877b7a0d": {
      "model_module": "@jupyter-widgets/controls",
      "model_module_version": "1.5.0",
      "model_name": "DescriptionStyleModel",
      "state": {
       "description_width": ""
      }
     },
     "9a4d28e6d7344830967b6574699ba3f3": {
      "model_module": "@jupyter-widgets/base",
      "model_module_version": "1.2.0",
      "model_name": "LayoutModel",
      "state": {}
     },
     "9a5bea988e4b44239c09cfdf7b695751": {
      "model_module": "@jupyter-widgets/base",
      "model_module_version": "1.2.0",
      "model_name": "LayoutModel",
      "state": {}
     },
     "9a65dcb16d534e78b9be4268f18e0189": {
      "model_module": "@jupyter-widgets/controls",
      "model_module_version": "1.5.0",
      "model_name": "ButtonModel",
      "state": {
       "description": "Delete",
       "layout": "IPY_MODEL_b68cdefd785942a1917c99c36362d78d",
       "style": "IPY_MODEL_f6f69156ecf34f9596a623ebda071f85"
      }
     },
     "9a73cdea2faf406f84e9aada3788b63e": {
      "model_module": "@jupyter-widgets/base",
      "model_module_version": "1.2.0",
      "model_name": "LayoutModel",
      "state": {}
     },
     "9a74ab9f1da84b0586d435c3c625a816": {
      "model_module": "@jupyter-widgets/base",
      "model_module_version": "1.2.0",
      "model_name": "LayoutModel",
      "state": {}
     },
     "9a87dbf353fe45c6812f7613ed5ca210": {
      "model_module": "@jupyter-widgets/controls",
      "model_module_version": "1.5.0",
      "model_name": "IntTextModel",
      "state": {
       "description": "max",
       "layout": "IPY_MODEL_ff32b591081843aca203760cd73a12ce",
       "step": 1,
       "style": "IPY_MODEL_af6731bf41c34325aeacf8a2495d698b",
       "value": 10
      }
     },
     "9a8af2a83e724b998e08021ea97d1c9b": {
      "model_module": "@jupyter-widgets/base",
      "model_module_version": "1.2.0",
      "model_name": "LayoutModel",
      "state": {}
     },
     "9aea6b75d73e4d2684deee5c1dd34aca": {
      "model_module": "@jupyter-widgets/controls",
      "model_module_version": "1.5.0",
      "model_name": "IntSliderModel",
      "state": {
       "description": "value",
       "layout": "IPY_MODEL_1d5cc8fb7ecf4e9b9a0d3cbefdbb2500",
       "max": 10,
       "min": 1,
       "style": "IPY_MODEL_ae67205fcc534e048878fcdc3c1f385d",
       "value": 3
      }
     },
     "9bd9905846784bc8b237e6b1ea5cc92a": {
      "model_module": "@jupyter-widgets/controls",
      "model_module_version": "1.5.0",
      "model_name": "IntSliderModel",
      "state": {
       "description": "value",
       "layout": "IPY_MODEL_591b3c54a7984fc298dcb80aab4e9c80",
       "max": 7,
       "min": 1,
       "style": "IPY_MODEL_572b9fffa5a14e6fa1858cfc214e58b6",
       "value": 3
      }
     },
     "9bf14f73f0b04eb1b7814b57cd8c2439": {
      "model_module": "@jupyter-widgets/base",
      "model_module_version": "1.2.0",
      "model_name": "LayoutModel",
      "state": {}
     },
     "9c0cf9efa1154e3d8f992ee0f7cd1a7d": {
      "model_module": "@jupyter-widgets/controls",
      "model_module_version": "1.5.0",
      "model_name": "DescriptionStyleModel",
      "state": {
       "description_width": ""
      }
     },
     "9c16367664874458a94374612eb9b248": {
      "model_module": "@jupyter-widgets/controls",
      "model_module_version": "1.5.0",
      "model_name": "DescriptionStyleModel",
      "state": {
       "description_width": ""
      }
     },
     "9c1b63865e5a45d18756981388ce642e": {
      "model_module": "@jupyter-widgets/base",
      "model_module_version": "1.2.0",
      "model_name": "LayoutModel",
      "state": {}
     },
     "9c38da186c4448ecaecd2835ccd29123": {
      "model_module": "@jupyter-widgets/base",
      "model_module_version": "1.2.0",
      "model_name": "LayoutModel",
      "state": {}
     },
     "9c51672f28084fde83f4d2dabbb178c3": {
      "model_module": "@jupyter-widgets/base",
      "model_module_version": "1.2.0",
      "model_name": "LayoutModel",
      "state": {}
     },
     "9c6b880b1a53474ab6464e8633c03bf4": {
      "model_module": "@jupyter-widgets/base",
      "model_module_version": "1.2.0",
      "model_name": "LayoutModel",
      "state": {}
     },
     "9c7b8466e8e340feb151320d1ae35860": {
      "model_module": "@jupyter-widgets/base",
      "model_module_version": "1.2.0",
      "model_name": "LayoutModel",
      "state": {}
     },
     "9c8cdc43a25b4c16bc93f4221370cb53": {
      "model_module": "@jupyter-widgets/controls",
      "model_module_version": "1.5.0",
      "model_name": "HBoxModel",
      "state": {
       "children": [
        "IPY_MODEL_616af2473b024094a88486d7024b2d12",
        "IPY_MODEL_92cc0394e9f64a1688c6f0b178b48c58"
       ],
       "layout": "IPY_MODEL_fb9cba96dac54522bc0e98f70b1d97dc"
      }
     },
     "9ce783ec3f44497c8f06f6875c974f8b": {
      "model_module": "@jupyter-widgets/base",
      "model_module_version": "1.2.0",
      "model_name": "LayoutModel",
      "state": {}
     },
     "9cfe6dbf2ac647be93f71e8fc4921e44": {
      "model_module": "@jupyter-widgets/base",
      "model_module_version": "1.2.0",
      "model_name": "LayoutModel",
      "state": {}
     },
     "9d0464bc0e594d5faebf526eada8f2ca": {
      "model_module": "@jupyter-widgets/controls",
      "model_module_version": "1.5.0",
      "model_name": "FloatSliderModel",
      "state": {
       "description": "diffuse",
       "layout": "IPY_MODEL_79dd1c0621ca47ccb59bad5e2e6dd81d",
       "max": 3,
       "step": 0.1,
       "style": "IPY_MODEL_4bb5152921ff467eb98069888ebdc40f",
       "value": 1
      }
     },
     "9d053b6a465c4595acdc3b3d0abd7e62": {
      "model_module": "@jupyter-widgets/controls",
      "model_module_version": "1.5.0",
      "model_name": "ButtonModel",
      "state": {
       "description": "Delete",
       "layout": "IPY_MODEL_b2c0a0802b554dda8306361882d5ad6a",
       "style": "IPY_MODEL_82e6eba101ad4e6d908e636f05271500"
      }
     },
     "9d061706ffbf41e982e7f6df952182f7": {
      "model_module": "@jupyter-widgets/base",
      "model_module_version": "1.2.0",
      "model_name": "LayoutModel",
      "state": {}
     },
     "9d203e25536a4c0dad39d28a5110f7cf": {
      "model_module": "@jupyter-widgets/controls",
      "model_module_version": "1.5.0",
      "model_name": "IntTextModel",
      "state": {
       "description": "min",
       "layout": "IPY_MODEL_d542516dd18148069a1bba5df7e807ab",
       "step": 1,
       "style": "IPY_MODEL_4577152e2c1e4585949677ce08cc6a38",
       "value": 1
      }
     },
     "9d6be6a3893b409585f8da9214f2401d": {
      "model_module": "@jupyter-widgets/controls",
      "model_module_version": "1.5.0",
      "model_name": "ButtonModel",
      "state": {
       "description": "Add",
       "layout": "IPY_MODEL_e7029c8f593c45218835e45c08d07b99",
       "style": "IPY_MODEL_de0b48a6cb134fff9766d15989761c4a"
      }
     },
     "9d71deb7f39d4c19bde81bd5bdac01ce": {
      "model_module": "@jupyter-widgets/base",
      "model_module_version": "1.2.0",
      "model_name": "LayoutModel",
      "state": {}
     },
     "9d8182993fed4c9cbc71982f47d6d867": {
      "model_module": "@jupyter-widgets/base",
      "model_module_version": "1.2.0",
      "model_name": "LayoutModel",
      "state": {}
     },
     "9db05b458e3949bf97a31f45e8c89dc6": {
      "model_module": "pgljupyter",
      "model_module_version": "^0.1.15",
      "model_name": "IntEditorModel",
      "state": {
       "_model_module_version": "^0.1.15",
       "_view_module_version": "^0.1.15",
       "children": [
        "IPY_MODEL_913ad06167d5449280a1f2f6fa81f16f",
        "IPY_MODEL_86295b84a165413ea7ef826d237a689c",
        "IPY_MODEL_563784026f3d44fa9b9bd6fd45a2f660",
        "IPY_MODEL_42b652c914bc4e5783ca5e279c1edf79",
        "IPY_MODEL_8fab1ce95cf643a1ba1209b68a0f92dc"
       ],
       "layout": "IPY_MODEL_ac98a737775b4b64bdc401980b05b4ff"
      }
     },
     "9db181b7271b4352b441e0f4f37bd23c": {
      "model_module": "pgljupyter",
      "model_module_version": "^0.1.15",
      "model_name": "IntEditorModel",
      "state": {
       "_model_module_version": "^0.1.15",
       "_view_module_version": "^0.1.15",
       "children": [
        "IPY_MODEL_44285d7230f445bf98197d64a341fe02",
        "IPY_MODEL_a3e8616ef3484652b66e586e372cf935",
        "IPY_MODEL_6fc632d1cfd8481b9c8ba384537006eb",
        "IPY_MODEL_9f5c908025a747acb5fd3bd294dfb2d5",
        "IPY_MODEL_1c12d2076c114cc18effe90b27c58098"
       ],
       "layout": "IPY_MODEL_df58d07e8a294d0fa7e7066be5191571"
      }
     },
     "9db3dcf7c0de4e979b7a513e3e5f5cca": {
      "model_module": "@jupyter-widgets/controls",
      "model_module_version": "1.5.0",
      "model_name": "FloatSliderModel",
      "state": {
       "description": "transparency",
       "layout": "IPY_MODEL_951341cbaf1647c1b78a3d6afe8b8158",
       "max": 1,
       "step": 0.1,
       "style": "IPY_MODEL_7f8de41401344dabb9b01b6451648c89"
      }
     },
     "9dc55b5ed6bf407e8fface8d54fec80d": {
      "model_module": "@jupyter-widgets/base",
      "model_module_version": "1.2.0",
      "model_name": "LayoutModel",
      "state": {}
     },
     "9dded11f5a544de8be867b50bfcc065d": {
      "model_module": "pgljupyter",
      "model_module_version": "^0.1.2",
      "model_name": "_CurveEditorModel",
      "state": {
       "_model_module_version": "^0.1.2",
       "_view_module_version": "^0.1.2",
       "control_points": [
        [
         -0.5,
         0
        ],
        [
         -0.25,
         0.25
        ],
        [
         0.09999999999999998,
         -0.24545454545454548
        ],
        [
         0.5,
         0
        ]
       ],
       "curve_type": "BezierCurve2D",
       "layout": "IPY_MODEL_27b8afa3d3b7447fa483906e22e6634d"
      }
     },
     "9ded347ef9c24c6b9bd9c638a491b333": {
      "model_module": "@jupyter-widgets/controls",
      "model_module_version": "1.5.0",
      "model_name": "FloatSliderModel",
      "state": {
       "description": "shininess",
       "layout": "IPY_MODEL_845de4e4e95548b0805406145afd481e",
       "max": 1,
       "step": 0.1,
       "style": "IPY_MODEL_d9dbfab934ee4dcea49088b5b3989c55",
       "value": 0.2
      }
     },
     "9e1e925ce96542519d387eabb9f7fec5": {
      "model_module": "@jupyter-widgets/base",
      "model_module_version": "1.2.0",
      "model_name": "LayoutModel",
      "state": {
       "margin": "20px 0px"
      }
     },
     "9e81f7640e8f4efe9c6911df87f9bc06": {
      "model_module": "@jupyter-widgets/controls",
      "model_module_version": "1.5.0",
      "model_name": "DescriptionStyleModel",
      "state": {
       "description_width": ""
      }
     },
     "9e95902db92541d2b2441549db2984b2": {
      "model_module": "@jupyter-widgets/controls",
      "model_module_version": "1.5.0",
      "model_name": "ColorPickerModel",
      "state": {
       "description": "specular",
       "disabled": false,
       "layout": "IPY_MODEL_bf9950bb98a24547bdb444bd6d822fa9",
       "style": "IPY_MODEL_ef558da6c2a04fbdb600d75ee54915bd",
       "value": "#282828"
      }
     },
     "9ebf7b617c234218af7ba728f2d46257": {
      "model_module": "@jupyter-widgets/controls",
      "model_module_version": "1.5.0",
      "model_name": "DropdownModel",
      "state": {
       "_options_labels": [
        "leafduration",
        "leafold",
        "maxorder",
        "radinc",
        "nb_axes"
       ],
       "index": 0,
       "layout": "IPY_MODEL_6e11d8ccf94543318b7616f0c8477a37",
       "style": "IPY_MODEL_7a5b3aee649441e48ddff80092199efc"
      }
     },
     "9ec36ca54cbe40d8b97fcb364a821f9c": {
      "model_module": "@jupyter-widgets/base",
      "model_module_version": "1.2.0",
      "model_name": "LayoutModel",
      "state": {}
     },
     "9f0e59d54aa449baa97a3a96ec3347ad": {
      "model_module": "@jupyter-widgets/controls",
      "model_module_version": "1.5.0",
      "model_name": "FloatSliderModel",
      "state": {
       "description": "shininess",
       "layout": "IPY_MODEL_d26c025202ff4643b74386ab5d8d0cdc",
       "max": 1,
       "step": 0.1,
       "style": "IPY_MODEL_5d9b71db5c2a47ec8f4893541e08cba0",
       "value": 0.2
      }
     },
     "9f247c4d28cb495a854778e40397c2d2": {
      "model_module": "@jupyter-widgets/base",
      "model_module_version": "1.2.0",
      "model_name": "LayoutModel",
      "state": {}
     },
     "9f38bd04057f4c4e980db9af3d88bb25": {
      "model_module": "@jupyter-widgets/controls",
      "model_module_version": "1.5.0",
      "model_name": "DropdownModel",
      "state": {
       "_options_labels": [
        "Color"
       ],
       "index": 0,
       "layout": "IPY_MODEL_6820caa08fc448679f7639840eb42312",
       "style": "IPY_MODEL_b129245b32f4409aa855c6b713567799"
      }
     },
     "9f46013fff2144e5b16c9b4fc9a11b02": {
      "model_module": "@jupyter-widgets/controls",
      "model_module_version": "1.5.0",
      "model_name": "DescriptionStyleModel",
      "state": {
       "description_width": ""
      }
     },
     "9f523c556c1a4ecd9ecc999e2932fbbc": {
      "model_module": "@jupyter-widgets/controls",
      "model_module_version": "1.5.0",
      "model_name": "DescriptionStyleModel",
      "state": {
       "description_width": ""
      }
     },
     "9f5c908025a747acb5fd3bd294dfb2d5": {
      "model_module": "@jupyter-widgets/controls",
      "model_module_version": "1.5.0",
      "model_name": "IntTextModel",
      "state": {
       "description": "max",
       "layout": "IPY_MODEL_b3d224479410442194b1e9d296127e75",
       "step": 1,
       "style": "IPY_MODEL_c3bc80a9a77b4b0092ea7f621e786a19",
       "value": 7
      }
     },
     "9f75d26dfb8541e1965ecc4f65fb733d": {
      "model_module": "@jupyter-widgets/base",
      "model_module_version": "1.2.0",
      "model_name": "LayoutModel",
      "state": {}
     },
     "9ff657d902b547bc986a4fc628dd6afe": {
      "model_module": "@jupyter-widgets/controls",
      "model_module_version": "1.5.0",
      "model_name": "ColorPickerModel",
      "state": {
       "description": "specular",
       "disabled": false,
       "layout": "IPY_MODEL_53f6270f491843a0b16c33aa8def5354",
       "style": "IPY_MODEL_db31d87ca5bd458cb9dc6cdc2b581278",
       "value": "#282828"
      }
     },
     "a012abcd6bc74010a12be773710adbaa": {
      "model_module": "@jupyter-widgets/controls",
      "model_module_version": "1.5.0",
      "model_name": "BoundedIntTextModel",
      "state": {
       "description": "step",
       "layout": "IPY_MODEL_a7032f292a0342ee971f1f7e97fa91aa",
       "min": 1,
       "style": "IPY_MODEL_f1b9ba91cef44e479644b35df0a07274",
       "value": 1
      }
     },
     "a0210880ef26449bb40373ad5494792c": {
      "model_module": "@jupyter-widgets/base",
      "model_module_version": "1.2.0",
      "model_name": "LayoutModel",
      "state": {}
     },
     "a038fed9b50a4a08819c2085571911c3": {
      "model_module": "@jupyter-widgets/base",
      "model_module_version": "1.2.0",
      "model_name": "LayoutModel",
      "state": {}
     },
     "a068cf14443c4f5e942c301e7cfd9994": {
      "model_module": "@jupyter-widgets/base",
      "model_module_version": "1.2.0",
      "model_name": "LayoutModel",
      "state": {}
     },
     "a0717f1c4d5b4b28b2d151f0d3862401": {
      "model_module": "@jupyter-widgets/controls",
      "model_module_version": "1.5.0",
      "model_name": "BoundedIntTextModel",
      "state": {
       "description": "step",
       "layout": "IPY_MODEL_64e35a6d4466474da823d95904f32520",
       "min": 1,
       "style": "IPY_MODEL_f06586f4c2ea4c57a5da31e998c66fc4",
       "value": 1
      }
     },
     "a08868ee98f64737a3e282aeb5e9669c": {
      "model_module": "@jupyter-widgets/controls",
      "model_module_version": "1.5.0",
      "model_name": "SliderStyleModel",
      "state": {
       "description_width": ""
      }
     },
     "a089aeec89724239b6aca2b404740c1a": {
      "model_module": "@jupyter-widgets/controls",
      "model_module_version": "1.5.0",
      "model_name": "TextModel",
      "state": {
       "continuous_update": false,
       "description": "name",
       "layout": "IPY_MODEL_47214f6427f7418fbaf69a73417a8a32",
       "style": "IPY_MODEL_8cf47a3dc0f145878200852cb8e2324d",
       "value": "Polyline2D_2"
      }
     },
     "a0da1a97ad364133b23633c7924c8382": {
      "model_module": "@jupyter-widgets/controls",
      "model_module_version": "1.5.0",
      "model_name": "DropdownModel",
      "state": {
       "_options_labels": [
        "Color"
       ],
       "index": 0,
       "layout": "IPY_MODEL_7648ce6823ed4b309447f2f29b6af72b",
       "style": "IPY_MODEL_789bdbd0a60b48409d2c13fe0b83d44f"
      }
     },
     "a0e11695f24944bf94fad5b77ca3bcf3": {
      "model_module": "@jupyter-widgets/base",
      "model_module_version": "1.2.0",
      "model_name": "LayoutModel",
      "state": {}
     },
     "a0eb9b213db94887a716ff41a5edf851": {
      "model_module": "@jupyter-widgets/controls",
      "model_module_version": "1.5.0",
      "model_name": "DescriptionStyleModel",
      "state": {
       "description_width": ""
      }
     },
     "a10dd2c3e3d64492a8c48c2892026661": {
      "model_module": "@jupyter-widgets/controls",
      "model_module_version": "1.5.0",
      "model_name": "DescriptionStyleModel",
      "state": {
       "description_width": ""
      }
     },
     "a129fee5fb204685b9447aa4f41bcb91": {
      "model_module": "@jupyter-widgets/controls",
      "model_module_version": "1.5.0",
      "model_name": "DescriptionStyleModel",
      "state": {
       "description_width": ""
      }
     },
     "a15ec5c9e1e940f2b66d7ec3e2c6b27c": {
      "model_module": "@jupyter-widgets/controls",
      "model_module_version": "1.5.0",
      "model_name": "IntSliderModel",
      "state": {
       "description": "value",
       "layout": "IPY_MODEL_eccd43c489a64d5aa4b4c024b715aa19",
       "max": 10,
       "min": 1,
       "style": "IPY_MODEL_b5231bbd9aa841e3876437f9394ab620",
       "value": 2
      }
     },
     "a1605ccb69a04fb8a8727b34e2c9884e": {
      "model_module": "@jupyter-widgets/controls",
      "model_module_version": "1.5.0",
      "model_name": "DescriptionStyleModel",
      "state": {
       "description_width": ""
      }
     },
     "a181f8277527484f82f484b081a7ac2c": {
      "model_module": "@jupyter-widgets/controls",
      "model_module_version": "1.5.0",
      "model_name": "FloatSliderModel",
      "state": {
       "description": "shininess",
       "layout": "IPY_MODEL_d9fa64f9080840b4a4fcc76aa6cfd4ba",
       "max": 1,
       "step": 0.1,
       "style": "IPY_MODEL_0e05773846dd43f0a96847656f764a7b",
       "value": 0.5
      }
     },
     "a1888ab73ac043cb866b6911cd451b7c": {
      "model_module": "@jupyter-widgets/controls",
      "model_module_version": "1.5.0",
      "model_name": "DescriptionStyleModel",
      "state": {
       "description_width": ""
      }
     },
     "a190af397e0f4f46aeea69950b5d083b": {
      "model_module": "@jupyter-widgets/controls",
      "model_module_version": "1.5.0",
      "model_name": "TextModel",
      "state": {
       "layout": "IPY_MODEL_c6ad612c926543f7b21ea0b593cf326e",
       "placeholder": "category name",
       "style": "IPY_MODEL_03b8f58d0d4748bc8c70bc4cbd010c81"
      }
     },
     "a1a31c19b92e4ac4a4e789ab6ae30e05": {
      "model_module": "@jupyter-widgets/controls",
      "model_module_version": "1.5.0",
      "model_name": "BoundedIntTextModel",
      "state": {
       "description": "step",
       "layout": "IPY_MODEL_12e3cdb126484105853ce2d531a7ff0a",
       "min": 1,
       "style": "IPY_MODEL_4658c5b125bd4e559cc57814c7b0cd46",
       "value": 1
      }
     },
     "a1b5f9ced38f46e9b91b625024aaf0c5": {
      "model_module": "pgljupyter",
      "model_module_version": "^0.1.15",
      "model_name": "LsystemWidgetModel",
      "state": {
       "_model_module_version": "^0.1.15",
       "_view_module_version": "^0.1.15",
       "axes_helper": false,
       "derivationLength": 41,
       "layout": "IPY_MODEL_2e6ef9314d67449c8deb0a7297c93ab3",
       "light_helper": false,
       "plane": true,
       "size_display": [
        400,
        400
       ],
       "size_world": 50
      }
     },
     "a1c5657c57dd4420947b7a9efdc5fd3e": {
      "model_module": "@jupyter-widgets/base",
      "model_module_version": "1.2.0",
      "model_name": "LayoutModel",
      "state": {}
     },
     "a1efa36e0b01442da3c74bf7f3c75557": {
      "model_module": "@jupyter-widgets/controls",
      "model_module_version": "1.5.0",
      "model_name": "HBoxModel",
      "state": {
       "children": [
        "IPY_MODEL_56fd1fd2e814475eb612902882576a7b",
        "IPY_MODEL_7d0aa3defdad47d7902e5aa71a0cc6f8",
        "IPY_MODEL_72b92e3f68504ee5bfa8a858755f2904"
       ],
       "layout": "IPY_MODEL_4919409bbefe4b55b628a112688032dd"
      }
     },
     "a20b73a02aa64f1aa2635be402379fd2": {
      "model_module": "@jupyter-widgets/controls",
      "model_module_version": "1.5.0",
      "model_name": "ButtonModel",
      "state": {
       "description": "Delete",
       "layout": "IPY_MODEL_2136a52566524809a3c3b6695553bde5",
       "style": "IPY_MODEL_e83dc2353dde47c89a318c26129fe28f"
      }
     },
     "a20e2dbbc07b4e4b9085d82841a24a03": {
      "model_module": "@jupyter-widgets/controls",
      "model_module_version": "1.5.0",
      "model_name": "DescriptionStyleModel",
      "state": {
       "description_width": ""
      }
     },
     "a22da95bced94b0ea758d979b05c4357": {
      "model_module": "@jupyter-widgets/controls",
      "model_module_version": "1.5.0",
      "model_name": "TextModel",
      "state": {
       "continuous_update": false,
       "description": "name",
       "layout": "IPY_MODEL_6655a1fa38d14dc0990e87852b5b4bda",
       "style": "IPY_MODEL_406c4f5fcf9a45b7be0a39dfef3ec4cb",
       "value": "color_2"
      }
     },
     "a23073ceec6a47929aa7b3d0538b3483": {
      "model_module": "@jupyter-widgets/controls",
      "model_module_version": "1.5.0",
      "model_name": "HBoxModel",
      "state": {
       "children": [
        "IPY_MODEL_54ecc896d94e4bb383be5ff430e1e0a1",
        "IPY_MODEL_8e4a08bb730b480399348f035c0fb923"
       ],
       "layout": "IPY_MODEL_dd33ed74409b4c0795183b005c20d306"
      }
     },
     "a29d4a7395aa4b549095fb5baf92204f": {
      "model_module": "@jupyter-widgets/base",
      "model_module_version": "1.2.0",
      "model_name": "LayoutModel",
      "state": {}
     },
     "a2a81572d5c148199e203c15d3709d86": {
      "model_module": "@jupyter-widgets/base",
      "model_module_version": "1.2.0",
      "model_name": "LayoutModel",
      "state": {}
     },
     "a2abd3ec2fca4609bcee49dddfbc868d": {
      "model_module": "@jupyter-widgets/base",
      "model_module_version": "1.2.0",
      "model_name": "LayoutModel",
      "state": {
       "margin": "20px 0px"
      }
     },
     "a3021cfb00c34844be2cc4431cd9b620": {
      "model_module": "@jupyter-widgets/controls",
      "model_module_version": "1.5.0",
      "model_name": "HBoxModel",
      "state": {
       "children": [
        "IPY_MODEL_4fdb3bdbb0884b1b9b70d74186e0ee51",
        "IPY_MODEL_344c460570104014b79dad6a65f1bc15",
        "IPY_MODEL_bd918bcabb7b410f9fbcbc61aac64b22",
        "IPY_MODEL_cd2d35d7469f4efdbbe25618df80a599"
       ],
       "layout": "IPY_MODEL_fdc392c7cf9844a2b7daa72c52be63a0"
      }
     },
     "a33eff41ada84b4fb639dda3c18a9e63": {
      "model_module": "@jupyter-widgets/base",
      "model_module_version": "1.2.0",
      "model_name": "LayoutModel",
      "state": {}
     },
     "a3715a6606264b1385e17c255e8e7b7d": {
      "model_module": "@jupyter-widgets/base",
      "model_module_version": "1.2.0",
      "model_name": "LayoutModel",
      "state": {}
     },
     "a394a4809f7e46e99c7060e9050094ba": {
      "model_module": "pgljupyter",
      "model_module_version": "^0.1.15",
      "model_name": "MaterialEditorModel",
      "state": {
       "_model_module_version": "^0.1.15",
       "_view_module_version": "^0.1.15",
       "children": [
        "IPY_MODEL_77c5487882eb4763a09bbeab234f0123",
        "IPY_MODEL_b5e60a6347b3449f91b071f338336469",
        "IPY_MODEL_7729d9315d7748298125e0baab4aba88",
        "IPY_MODEL_39315f2410f14e9294c5a154543f6ae9",
        "IPY_MODEL_aa15607f4ae340169fc7bf77525b6075",
        "IPY_MODEL_7b2d939afa8b479993e42340a13c22b4",
        "IPY_MODEL_1ad9140c1875480d863b5acb4704479b"
       ],
       "layout": "IPY_MODEL_d5a4b1a1337c4f988951f8e89f721b21"
      }
     },
     "a39d050489f04233a9588793cfc365ec": {
      "model_module": "@jupyter-widgets/controls",
      "model_module_version": "1.5.0",
      "model_name": "HBoxModel",
      "state": {
       "children": [
        "IPY_MODEL_0a355b70c57941fbb20a58855b908353",
        "IPY_MODEL_80f2a2ed8df7483eb3fbb0fbe7df57ac"
       ],
       "layout": "IPY_MODEL_24e4a38035d14572a98ca532c13ddb5f"
      }
     },
     "a3ae1e2ede8b4b82825fc38288065775": {
      "model_module": "@jupyter-widgets/controls",
      "model_module_version": "1.5.0",
      "model_name": "BoundedIntTextModel",
      "state": {
       "description": "index",
       "layout": "IPY_MODEL_e8c7e96d2aa44c5d9a4ad938b6afa6b7",
       "style": "IPY_MODEL_e4d3e4ea1a5a409a99f97e15fc9c10ff",
       "value": 4
      }
     },
     "a3b51c86f32548c89175e0ba18a1b9f0": {
      "model_module": "@jupyter-widgets/controls",
      "model_module_version": "1.5.0",
      "model_name": "DescriptionStyleModel",
      "state": {
       "description_width": ""
      }
     },
     "a3db6e2b61f04f2c9ec6de7408f07917": {
      "model_module": "@jupyter-widgets/base",
      "model_module_version": "1.2.0",
      "model_name": "LayoutModel",
      "state": {}
     },
     "a3e8616ef3484652b66e586e372cf935": {
      "model_module": "@jupyter-widgets/controls",
      "model_module_version": "1.5.0",
      "model_name": "IntSliderModel",
      "state": {
       "description": "value",
       "layout": "IPY_MODEL_928bf1d863cd4c3d85d3366fa681a4d0",
       "max": 7,
       "min": 1,
       "style": "IPY_MODEL_c14e13ed098c4bf6850d070eab738e5e",
       "value": 3
      }
     },
     "a3f16a6cbca94073ba02caf0836ffa22": {
      "model_module": "@jupyter-widgets/controls",
      "model_module_version": "1.5.0",
      "model_name": "IntTextModel",
      "state": {
       "description": "max",
       "layout": "IPY_MODEL_751d8cfde9de463ca66613cc8a84cff9",
       "step": 1,
       "style": "IPY_MODEL_fec716c199b242e0a5c931895ec485ac",
       "value": 10
      }
     },
     "a45ccde0af82441bb90667fe8f4e006c": {
      "model_module": "@jupyter-widgets/controls",
      "model_module_version": "1.5.0",
      "model_name": "FloatSliderModel",
      "state": {
       "description": "diffuse",
       "layout": "IPY_MODEL_f0778204596642f8bae6c72e2df8fbfd",
       "max": 3,
       "step": 0.1,
       "style": "IPY_MODEL_95ae58d84e044423a3a651eb6653142e",
       "value": 1
      }
     },
     "a487decfa1924bf49ed56b54e9209a3e": {
      "model_module": "@jupyter-widgets/controls",
      "model_module_version": "1.5.0",
      "model_name": "ColorPickerModel",
      "state": {
       "description": "emission",
       "disabled": false,
       "layout": "IPY_MODEL_6d3395160271438dbd2244ebe44f69f9",
       "style": "IPY_MODEL_78b19aed7eaf4199ba9a01b4c50dbe06",
       "value": "#000000"
      }
     },
     "a48d0b634a9545879f969cffc6d24b13": {
      "model_module": "@jupyter-widgets/controls",
      "model_module_version": "1.5.0",
      "model_name": "DescriptionStyleModel",
      "state": {
       "description_width": ""
      }
     },
     "a4d6402bee1d45c983bd03659ef99af2": {
      "model_module": "@jupyter-widgets/base",
      "model_module_version": "1.2.0",
      "model_name": "LayoutModel",
      "state": {
       "margin": "20px 0px"
      }
     },
     "a4e9e5b5bf4c4bf3a00c49b819e7d1f8": {
      "model_module": "pgljupyter",
      "model_module_version": "^0.1.2",
      "model_name": "_CurveEditorModel",
      "state": {
       "_model_module_version": "^0.1.2",
       "_view_module_version": "^0.1.2",
       "control_points": [
        [
         -0.5,
         0
        ],
        [
         -0.25,
         0.25
        ],
        [
         0.25,
         -0.25
        ],
        [
         0.5,
         0
        ]
       ],
       "curve_type": "BezierCurve2D",
       "layout": "IPY_MODEL_c35deb0d32c14e22aa1a65baa1a7913e"
      }
     },
     "a4fa7ee9cac145eeaefbeb889426714b": {
      "model_module": "@jupyter-widgets/controls",
      "model_module_version": "1.5.0",
      "model_name": "HBoxModel",
      "state": {
       "children": [
        "IPY_MODEL_73df2c6eb8684e3e8dcd2a48cb263e44",
        "IPY_MODEL_a9a81efb6b904f15a06869cb88fe2660"
       ],
       "layout": "IPY_MODEL_1bcadc721303432abe9c782e04d39bdb"
      }
     },
     "a5261e48ae544df59984bbe81934b041": {
      "model_module": "@jupyter-widgets/base",
      "model_module_version": "1.2.0",
      "model_name": "LayoutModel",
      "state": {}
     },
     "a552cc74d7024e1d8c5c5fbb0bd1eb0d": {
      "model_module": "@jupyter-widgets/base",
      "model_module_version": "1.2.0",
      "model_name": "LayoutModel",
      "state": {}
     },
     "a55696c4a4b047579f70788cff884ccb": {
      "model_module": "@jupyter-widgets/base",
      "model_module_version": "1.2.0",
      "model_name": "LayoutModel",
      "state": {}
     },
     "a5605f2b65904a4eb171ce60d1e2d0d4": {
      "model_module": "@jupyter-widgets/controls",
      "model_module_version": "1.5.0",
      "model_name": "DescriptionStyleModel",
      "state": {
       "description_width": ""
      }
     },
     "a59e5569de764aa9b4bf18540d79b93e": {
      "model_module": "@jupyter-widgets/base",
      "model_module_version": "1.2.0",
      "model_name": "LayoutModel",
      "state": {}
     },
     "a5b19a4d1f704db9af915e12ec2ced02": {
      "model_module": "@jupyter-widgets/base",
      "model_module_version": "1.2.0",
      "model_name": "LayoutModel",
      "state": {}
     },
     "a5b43622c08f430fa687e80bb00d1299": {
      "model_module": "@jupyter-widgets/controls",
      "model_module_version": "1.5.0",
      "model_name": "TextModel",
      "state": {
       "continuous_update": false,
       "description": "name",
       "layout": "IPY_MODEL_88798602d5504c9aaa7f098f2ba700a6",
       "style": "IPY_MODEL_8439c9e53b6b4164b3ca468f9cc930d2",
       "value": "color_2"
      }
     },
     "a5cb51dbbce1400eae12508087a76361": {
      "model_module": "@jupyter-widgets/controls",
      "model_module_version": "1.5.0",
      "model_name": "DescriptionStyleModel",
      "state": {
       "description_width": ""
      }
     },
     "a5e6cb9ccab74844b1a7f7ff16c4b40d": {
      "model_module": "@jupyter-widgets/controls",
      "model_module_version": "1.5.0",
      "model_name": "DescriptionStyleModel",
      "state": {
       "description_width": ""
      }
     },
     "a6154bb682994037a3e9c4cd246be6e4": {
      "model_module": "@jupyter-widgets/controls",
      "model_module_version": "1.5.0",
      "model_name": "ButtonModel",
      "state": {
       "description": "Add category",
       "layout": "IPY_MODEL_788c89f910634db6a21f126c748a161f",
       "style": "IPY_MODEL_2f6754fd12954ab7bbbe7dd23a674b68"
      }
     },
     "a64f0b1c1ea04ed59af32c0ce42b97d8": {
      "model_module": "@jupyter-widgets/base",
      "model_module_version": "1.2.0",
      "model_name": "LayoutModel",
      "state": {}
     },
     "a65812490b194127898400aa6bef5cbe": {
      "model_module": "@jupyter-widgets/base",
      "model_module_version": "1.2.0",
      "model_name": "LayoutModel",
      "state": {}
     },
     "a66d925434884203a2d16ec0b78649fa": {
      "model_module": "@jupyter-widgets/base",
      "model_module_version": "1.2.0",
      "model_name": "LayoutModel",
      "state": {}
     },
     "a68b7fc99f404294906f8f19e3fbcf4a": {
      "model_module": "@jupyter-widgets/base",
      "model_module_version": "1.2.0",
      "model_name": "LayoutModel",
      "state": {}
     },
     "a6b539cc15804907989b197d4b2cbdbe": {
      "model_module": "@jupyter-widgets/base",
      "model_module_version": "1.2.0",
      "model_name": "LayoutModel",
      "state": {}
     },
     "a6befcf863454381b47e53dc980c2920": {
      "model_module": "@jupyter-widgets/base",
      "model_module_version": "1.2.0",
      "model_name": "LayoutModel",
      "state": {}
     },
     "a6f916165dd04f2081284a6f756f7d03": {
      "model_module": "@jupyter-widgets/base",
      "model_module_version": "1.2.0",
      "model_name": "LayoutModel",
      "state": {
       "margin": "20px 0px"
      }
     },
     "a7032f292a0342ee971f1f7e97fa91aa": {
      "model_module": "@jupyter-widgets/base",
      "model_module_version": "1.2.0",
      "model_name": "LayoutModel",
      "state": {}
     },
     "a718aedbd0634dd995dd3d6dfbb2973c": {
      "model_module": "@jupyter-widgets/controls",
      "model_module_version": "1.5.0",
      "model_name": "ButtonModel",
      "state": {
       "description": "Delete",
       "layout": "IPY_MODEL_99b18e548973437d99ad5d2dfb6334bf",
       "style": "IPY_MODEL_6e970e583a50462dbbf8ebe3b831e5d1"
      }
     },
     "a738593252204a498e2380d3e629bc1e": {
      "model_module": "@jupyter-widgets/base",
      "model_module_version": "1.2.0",
      "model_name": "LayoutModel",
      "state": {}
     },
     "a760a9622c8243c3b985b4c992cfd505": {
      "model_module": "@jupyter-widgets/controls",
      "model_module_version": "1.5.0",
      "model_name": "ButtonStyleModel",
      "state": {}
     },
     "a76b498b5d11439291fcd0c672943363": {
      "model_module": "@jupyter-widgets/controls",
      "model_module_version": "1.5.0",
      "model_name": "IntTextModel",
      "state": {
       "description": "max",
       "layout": "IPY_MODEL_f2909bc6d4ee462c956bfd2358ba855f",
       "step": 1,
       "style": "IPY_MODEL_e1d8481c897f4febb51664392ed71944",
       "value": 10
      }
     },
     "a76bae76a03543469d6f1e10f6d263cb": {
      "model_module": "@jupyter-widgets/base",
      "model_module_version": "1.2.0",
      "model_name": "LayoutModel",
      "state": {}
     },
     "a77c5ee800e747c4a1d77db52f6429f7": {
      "model_module": "@jupyter-widgets/controls",
      "model_module_version": "1.5.0",
      "model_name": "BoundedIntTextModel",
      "state": {
       "description": "step",
       "layout": "IPY_MODEL_d84a161ff02b4918b478c296ddf83163",
       "min": 1,
       "style": "IPY_MODEL_8154928a111b46ea9836ba5ad734e0b3",
       "value": 1
      }
     },
     "a7a131bced9a42b49711fc20fa79f7d4": {
      "model_module": "@jupyter-widgets/base",
      "model_module_version": "1.2.0",
      "model_name": "LayoutModel",
      "state": {}
     },
     "a7a1a0e06ab8458e8a7a1156342615ba": {
      "model_module": "@jupyter-widgets/controls",
      "model_module_version": "1.5.0",
      "model_name": "ColorPickerModel",
      "state": {
       "description": "emission",
       "disabled": false,
       "layout": "IPY_MODEL_47a0a6cf6ba74bd2a755cd7fb7f79fbd",
       "style": "IPY_MODEL_1c3d38ee1f964fde95a7170d37019f06",
       "value": "#000000"
      }
     },
     "a7a8b5c3470447899106f38cf7d60475": {
      "model_module": "@jupyter-widgets/base",
      "model_module_version": "1.2.0",
      "model_name": "LayoutModel",
      "state": {}
     },
     "a7ce00bc71414526bba41af08bed5fd6": {
      "model_module": "@jupyter-widgets/controls",
      "model_module_version": "1.5.0",
      "model_name": "TextModel",
      "state": {
       "continuous_update": false,
       "description": "name",
       "layout": "IPY_MODEL_9c6b880b1a53474ab6464e8633c03bf4",
       "style": "IPY_MODEL_da2aaa1ea0664242966e071b924dd707",
       "value": "radinc"
      }
     },
     "a804c74d82784c509c274a182386649e": {
      "model_module": "@jupyter-widgets/base",
      "model_module_version": "1.2.0",
      "model_name": "LayoutModel",
      "state": {}
     },
     "a83956a5f0d64c5d88bc437eb1c9f386": {
      "model_module": "@jupyter-widgets/base",
      "model_module_version": "1.2.0",
      "model_name": "LayoutModel",
      "state": {}
     },
     "a84c14a67ee845cd8c615ce128d6aaae": {
      "model_module": "@jupyter-widgets/controls",
      "model_module_version": "1.5.0",
      "model_name": "SliderStyleModel",
      "state": {
       "description_width": ""
      }
     },
     "a850fe02b9594a28849403f9d7294577": {
      "model_module": "@jupyter-widgets/controls",
      "model_module_version": "1.5.0",
      "model_name": "FloatSliderModel",
      "state": {
       "description": "value",
       "layout": "IPY_MODEL_556aa8c93c3644c4a4a0a5fe38dada3a",
       "max": 0.1,
       "min": 0.01,
       "step": 0.01,
       "style": "IPY_MODEL_910acf8275e644cea6a9caabffacd4f6",
       "value": 0.02
      }
     },
     "a85fa0285fba40f3a6e4a31762022de3": {
      "model_module": "@jupyter-widgets/base",
      "model_module_version": "1.2.0",
      "model_name": "LayoutModel",
      "state": {}
     },
     "a86058cee658486fb13a7beca648314b": {
      "model_module": "@jupyter-widgets/controls",
      "model_module_version": "1.5.0",
      "model_name": "DropdownModel",
      "state": {
       "index": null,
       "layout": "IPY_MODEL_41a9495cc0b44ca9985500a41664b57b",
       "style": "IPY_MODEL_af0a704ee4c24337bbfb456cb197479e"
      }
     },
     "a87b550ba97246eabb2a2332372e8cb5": {
      "model_module": "@jupyter-widgets/controls",
      "model_module_version": "1.5.0",
      "model_name": "TextModel",
      "state": {
       "continuous_update": false,
       "description": "name",
       "layout": "IPY_MODEL_bca8e12aa85b43d199fddf7fd3c74ae8",
       "style": "IPY_MODEL_7faa1f82e8654be1a5b9b8f2a4aeda47",
       "value": "NurbsCurve2D_0"
      }
     },
     "a8afcf5904674e9cb3c15c68fee60178": {
      "model_module": "@jupyter-widgets/base",
      "model_module_version": "1.2.0",
      "model_name": "LayoutModel",
      "state": {}
     },
     "a8dd0a308b114080bb877db875d6db5d": {
      "model_module": "pgljupyter",
      "model_module_version": "^0.1.15",
      "model_name": "FloatEditorModel",
      "state": {
       "_model_module_version": "^0.1.15",
       "_view_module_version": "^0.1.15",
       "children": [
        "IPY_MODEL_bacd8b83f09a41338127a969c8b6dbd0",
        "IPY_MODEL_a850fe02b9594a28849403f9d7294577",
        "IPY_MODEL_c52577bffe0f49609cd040959ba01617",
        "IPY_MODEL_0358c83a7235450eb641b2d90ea8c569",
        "IPY_MODEL_362cbffce70144d6858eda282c894c9c"
       ],
       "layout": "IPY_MODEL_639c7afae977402a9d6005869e8612a9"
      }
     },
     "a8fd500864cb4891bf6ee0c6efef290e": {
      "model_module": "@jupyter-widgets/base",
      "model_module_version": "1.2.0",
      "model_name": "LayoutModel",
      "state": {}
     },
     "a91469a2c4e9407db0966ebd0b17cd0c": {
      "model_module": "@jupyter-widgets/controls",
      "model_module_version": "1.5.0",
      "model_name": "SliderStyleModel",
      "state": {
       "description_width": ""
      }
     },
     "a92de081e50c476496f3c9802b37b1a6": {
      "model_module": "@jupyter-widgets/controls",
      "model_module_version": "1.5.0",
      "model_name": "ButtonModel",
      "state": {
       "description": "Add",
       "layout": "IPY_MODEL_bf9041858b814903a58aa446f72e476b",
       "style": "IPY_MODEL_4b64ee9c6a43480d901f5465b9f72678"
      }
     },
     "a948b974861e418b8d3b789987e17acd": {
      "model_module": "@jupyter-widgets/base",
      "model_module_version": "1.2.0",
      "model_name": "LayoutModel",
      "state": {}
     },
     "a95a95b9099e4f979166e656f93776ee": {
      "model_module": "@jupyter-widgets/controls",
      "model_module_version": "1.5.0",
      "model_name": "HBoxModel",
      "state": {
       "layout": "IPY_MODEL_1aaed1264b7e4af38e5dfa20e770f4aa"
      }
     },
     "a971f194088a4a4e858765df3db9ae8c": {
      "model_module": "pgljupyter",
      "model_module_version": "^0.1.2",
      "model_name": "IntEditorModel",
      "state": {
       "_model_module_version": "^0.1.2",
       "_view_module_version": "^0.1.2",
       "children": [
        "IPY_MODEL_966bb16d1bfb45d88640e227702886a8",
        "IPY_MODEL_68e4bdf17af9497eb7aa9c99b80ac715",
        "IPY_MODEL_52cf68e476164b149a0ae8a47536c3d5",
        "IPY_MODEL_4f287b2a341448d9a798e24f4f22f436",
        "IPY_MODEL_427d650961a94ebc940f5d364721d046"
       ],
       "layout": "IPY_MODEL_1786a5b630e24873893aa84cb0714b47"
      }
     },
     "a9a81efb6b904f15a06869cb88fe2660": {
      "model_module": "@jupyter-widgets/controls",
      "model_module_version": "1.5.0",
      "model_name": "HBoxModel",
      "state": {
       "children": [
        "IPY_MODEL_70972b2e88b34ba6b003969d33df59c3",
        "IPY_MODEL_9ebf7b617c234218af7ba728f2d46257"
       ],
       "layout": "IPY_MODEL_ffda3c9b61de46869c7716efaf6f4d94"
      }
     },
     "a9baac29908349669249c48305c9d374": {
      "model_module": "@jupyter-widgets/base",
      "model_module_version": "1.2.0",
      "model_name": "LayoutModel",
      "state": {}
     },
     "a9d9270dee474b0897f2b76e239d91ef": {
      "model_module": "@jupyter-widgets/base",
      "model_module_version": "1.2.0",
      "model_name": "LayoutModel",
      "state": {}
     },
     "a9de39515aed485b9417c2f9782f5039": {
      "model_module": "@jupyter-widgets/controls",
      "model_module_version": "1.5.0",
      "model_name": "DescriptionStyleModel",
      "state": {
       "description_width": ""
      }
     },
     "a9e495d158fd4c2797a1660c8258b879": {
      "model_module": "@jupyter-widgets/base",
      "model_module_version": "1.2.0",
      "model_name": "LayoutModel",
      "state": {}
     },
     "aa07da9e8f924a6e8831867ca6cdb0b1": {
      "model_module": "@jupyter-widgets/base",
      "model_module_version": "1.2.0",
      "model_name": "LayoutModel",
      "state": {
       "margin": "20px 0px"
      }
     },
     "aa15607f4ae340169fc7bf77525b6075": {
      "model_module": "@jupyter-widgets/controls",
      "model_module_version": "1.5.0",
      "model_name": "ColorPickerModel",
      "state": {
       "description": "emission",
       "disabled": false,
       "layout": "IPY_MODEL_e4ed2a8cf83f4a3f8f4c15b9e43983af",
       "style": "IPY_MODEL_6acfc62982814cd49fffa4d2886d0761",
       "value": "#000000"
      }
     },
     "aa5bb824fdb14cf4b6208c7625b7eee4": {
      "model_module": "@jupyter-widgets/base",
      "model_module_version": "1.2.0",
      "model_name": "LayoutModel",
      "state": {}
     },
     "aa6f5555faa44f4db554da680a607f63": {
      "model_module": "@jupyter-widgets/controls",
      "model_module_version": "1.5.0",
      "model_name": "ColorPickerModel",
      "state": {
       "description": "specular",
       "disabled": false,
       "layout": "IPY_MODEL_a3db6e2b61f04f2c9ec6de7408f07917",
       "style": "IPY_MODEL_f571b090508244a7b467737c415e2fad",
       "value": "#478f9f"
      }
     },
     "aa7c73dab4c545fe9da210d0936d71ea": {
      "model_module": "@jupyter-widgets/controls",
      "model_module_version": "1.5.0",
      "model_name": "DescriptionStyleModel",
      "state": {
       "description_width": ""
      }
     },
     "aa8331cd29884639b595e01bf28fd55a": {
      "model_module": "@jupyter-widgets/controls",
      "model_module_version": "1.5.0",
      "model_name": "ButtonStyleModel",
      "state": {}
     },
     "aa93ebe5f3724dc68c642492005612b9": {
      "model_module": "@jupyter-widgets/controls",
      "model_module_version": "1.5.0",
      "model_name": "IntTextModel",
      "state": {
       "description": "min",
       "layout": "IPY_MODEL_d99be6308dbb4e52b17a52b5673e464c",
       "step": 1,
       "style": "IPY_MODEL_d28cf98e61a04f9898b7af2e4bd9189c",
       "value": 1
      }
     },
     "aac476e6fb0647a88cda4a28164bedd6": {
      "model_module": "@jupyter-widgets/base",
      "model_module_version": "1.2.0",
      "model_name": "LayoutModel",
      "state": {}
     },
     "aac907c170c14ece87521c6f587e9a5d": {
      "model_module": "@jupyter-widgets/base",
      "model_module_version": "1.2.0",
      "model_name": "LayoutModel",
      "state": {}
     },
     "aaf44ccfe11a475080cbf66f9f2f4a8e": {
      "model_module": "@jupyter-widgets/controls",
      "model_module_version": "1.5.0",
      "model_name": "FloatTextModel",
      "state": {
       "description": "max",
       "layout": "IPY_MODEL_c67c734b0758494aac08caae5fd90d3d",
       "step": null,
       "style": "IPY_MODEL_0e561db39e6d403fab220679e082dae5",
       "value": 0.1
      }
     },
     "ab025d81fa764c8aa87ff6d432656adf": {
      "model_module": "@jupyter-widgets/controls",
      "model_module_version": "1.5.0",
      "model_name": "SliderStyleModel",
      "state": {
       "description_width": ""
      }
     },
     "ab069354bb214619b4497523c36e7456": {
      "model_module": "@jupyter-widgets/controls",
      "model_module_version": "1.5.0",
      "model_name": "SliderStyleModel",
      "state": {
       "description_width": ""
      }
     },
     "ab0ba13d49e44f81b2dbd8ef218fc16b": {
      "model_module": "@jupyter-widgets/controls",
      "model_module_version": "1.5.0",
      "model_name": "DescriptionStyleModel",
      "state": {
       "description_width": ""
      }
     },
     "ab224024e95846e0bb30efa4450f53ec": {
      "model_module": "@jupyter-widgets/controls",
      "model_module_version": "1.5.0",
      "model_name": "ButtonStyleModel",
      "state": {}
     },
     "ab764aa485e744edb49ba613cdf360e2": {
      "model_module": "@jupyter-widgets/controls",
      "model_module_version": "1.5.0",
      "model_name": "DescriptionStyleModel",
      "state": {
       "description_width": ""
      }
     },
     "ab842bdc36b84649bdf23c718ad661b1": {
      "model_module": "@jupyter-widgets/base",
      "model_module_version": "1.2.0",
      "model_name": "LayoutModel",
      "state": {}
     },
     "ab9f0e6d00d74bc594f608b5d3037e65": {
      "model_module": "pgljupyter",
      "model_module_version": "^0.1.2",
      "model_name": "CurveEditorModel",
      "state": {
       "_model_module_version": "^0.1.2",
       "_view_module_version": "^0.1.2",
       "children": [
        "IPY_MODEL_623430f9ad264a569f56254963833d42",
        "IPY_MODEL_4db88b4aa5fb42a5b872196a8c76eb37"
       ],
       "layout": "IPY_MODEL_b4a5d81b90c74f3eb364ea05b146719e"
      }
     },
     "aba6237376814db3825fb7a05b492cc1": {
      "model_module": "@jupyter-widgets/base",
      "model_module_version": "1.2.0",
      "model_name": "LayoutModel",
      "state": {}
     },
     "abdee7edd55249719f1a4066ecbd2150": {
      "model_module": "@jupyter-widgets/controls",
      "model_module_version": "1.5.0",
      "model_name": "IntTextModel",
      "state": {
       "description": "min",
       "layout": "IPY_MODEL_89fc6b596d6c4c578cd11a671c085644",
       "step": 1,
       "style": "IPY_MODEL_4acdde3cfbf843c8afbee44ec9794ebd",
       "value": 1
      }
     },
     "abf0a46c9a5b4b2699f0df6ddb1da7c2": {
      "model_module": "@jupyter-widgets/controls",
      "model_module_version": "1.5.0",
      "model_name": "ButtonModel",
      "state": {
       "description": "Add",
       "layout": "IPY_MODEL_f41c54d468654857b16a0a99c09cac60",
       "style": "IPY_MODEL_bb7de7d1d43c4ef4a5a3c4d323dbac72"
      }
     },
     "abf78bc88b79468b8725660268e79352": {
      "model_module": "@jupyter-widgets/controls",
      "model_module_version": "1.5.0",
      "model_name": "HBoxModel",
      "state": {
       "layout": "IPY_MODEL_fdc392c7cf9844a2b7daa72c52be63a0"
      }
     },
     "ac0112233e1849579b8f0a951fa5aedd": {
      "model_module": "@jupyter-widgets/base",
      "model_module_version": "1.2.0",
      "model_name": "LayoutModel",
      "state": {}
     },
     "ac11ecf003394e96b2227d751ad7d1b9": {
      "model_module": "@jupyter-widgets/controls",
      "model_module_version": "1.5.0",
      "model_name": "TextModel",
      "state": {
       "continuous_update": false,
       "description": "name",
       "layout": "IPY_MODEL_6fd435da494e4788b2340331b704c70e",
       "style": "IPY_MODEL_6c376598cf884f69ac27c0f80c3af2d6",
       "value": "color_4"
      }
     },
     "ac3abe166c9442db82810a6a190b5ccb": {
      "model_module": "@jupyter-widgets/controls",
      "model_module_version": "1.5.0",
      "model_name": "DescriptionStyleModel",
      "state": {
       "description_width": ""
      }
     },
     "ac41cf70afd04e33b260be8bd483f310": {
      "model_module": "@jupyter-widgets/controls",
      "model_module_version": "1.5.0",
      "model_name": "ButtonModel",
      "state": {
       "description": "Add",
       "layout": "IPY_MODEL_cfbecb2c7a9b44b5b54e471e21bb5013",
       "style": "IPY_MODEL_5a2e5528074949ac9f2d0bd4dfa6342a"
      }
     },
     "ac9001fa2c8f46b1aaff8f7ac358cd53": {
      "model_module": "@jupyter-widgets/controls",
      "model_module_version": "1.5.0",
      "model_name": "DropdownModel",
      "state": {
       "_options_labels": [
        "leafduration",
        "leafold",
        "maxorder",
        "radinc",
        "nb_axes"
       ],
       "index": 0,
       "layout": "IPY_MODEL_6f63a1e67a7d40ad9e69ec8974d7d02c",
       "style": "IPY_MODEL_09dfcde008254f4aa25bc052f1e1311c"
      }
     },
     "ac98a737775b4b64bdc401980b05b4ff": {
      "model_module": "@jupyter-widgets/base",
      "model_module_version": "1.2.0",
      "model_name": "LayoutModel",
      "state": {
       "margin": "20px 0px"
      }
     },
     "aca6b402cb5e487192c6f29eaf19b583": {
      "model_module": "@jupyter-widgets/controls",
      "model_module_version": "1.5.0",
      "model_name": "IntSliderModel",
      "state": {
       "description": "value",
       "layout": "IPY_MODEL_0584709e6b43421cac48ecdf7b92801e",
       "max": 10,
       "min": 1,
       "style": "IPY_MODEL_1fafc7f599424b7e8f7a15a3d0aafb6a",
       "value": 3
      }
     },
     "acc99657a447459fb7ad63d61ff18c6d": {
      "model_module": "@jupyter-widgets/controls",
      "model_module_version": "1.5.0",
      "model_name": "ColorPickerModel",
      "state": {
       "description": "specular",
       "disabled": false,
       "layout": "IPY_MODEL_2c57289cdf1c49ea9d82954b2c37a542",
       "style": "IPY_MODEL_14a44227159b47778c370ebd1c39ce7d",
       "value": "#478f9f"
      }
     },
     "accd6ff231484e77ae01a426d7beea23": {
      "model_module": "@jupyter-widgets/controls",
      "model_module_version": "1.5.0",
      "model_name": "DescriptionStyleModel",
      "state": {
       "description_width": ""
      }
     },
     "acde296c5a674e53ac3ed5f620670605": {
      "model_module": "@jupyter-widgets/base",
      "model_module_version": "1.2.0",
      "model_name": "LayoutModel",
      "state": {}
     },
     "ad8a030a3fcc472689e91a373593e67a": {
      "model_module": "@jupyter-widgets/base",
      "model_module_version": "1.2.0",
      "model_name": "LayoutModel",
      "state": {}
     },
     "ad94bfff93e04101a47bfab77c5253cf": {
      "model_module": "@jupyter-widgets/base",
      "model_module_version": "1.2.0",
      "model_name": "LayoutModel",
      "state": {}
     },
     "ada4763166004bce915b704deb037423": {
      "model_module": "@jupyter-widgets/base",
      "model_module_version": "1.2.0",
      "model_name": "LayoutModel",
      "state": {}
     },
     "ada6219a139e4a9d814db5c5ba74a114": {
      "model_module": "@jupyter-widgets/base",
      "model_module_version": "1.2.0",
      "model_name": "LayoutModel",
      "state": {}
     },
     "adca9ba348e94354a3cf31ef02d84a10": {
      "model_module": "@jupyter-widgets/controls",
      "model_module_version": "1.5.0",
      "model_name": "FloatSliderModel",
      "state": {
       "description": "transparency",
       "layout": "IPY_MODEL_e9776a2fa8824edb88f935c9499d6e4a",
       "max": 1,
       "step": 0.1,
       "style": "IPY_MODEL_2e3292f15e594dd89ae41056de970444"
      }
     },
     "ade6887f14b74780ab86dcbc4bc09726": {
      "model_module": "@jupyter-widgets/controls",
      "model_module_version": "1.5.0",
      "model_name": "DescriptionStyleModel",
      "state": {
       "description_width": ""
      }
     },
     "ae0cd3db0be74674bec6f501767f7650": {
      "model_module": "@jupyter-widgets/controls",
      "model_module_version": "1.5.0",
      "model_name": "HBoxModel",
      "state": {
       "children": [
        "IPY_MODEL_00c87c416f8249ebbcb715271aee375a",
        "IPY_MODEL_2e37023dfe354314ac50106bf6b55572"
       ],
       "layout": "IPY_MODEL_d110a24946b54060b063dbb92bfc069a"
      }
     },
     "ae1cf71b798d47ceadf61cd112b4e287": {
      "model_module": "@jupyter-widgets/controls",
      "model_module_version": "1.5.0",
      "model_name": "HBoxModel",
      "state": {
       "children": [
        "IPY_MODEL_ae0cd3db0be74674bec6f501767f7650",
        "IPY_MODEL_eb213cce123c4addb00b6c03aa7ded4d"
       ],
       "layout": "IPY_MODEL_dabb1088a9ce4b0e9aa8136772d1f619"
      }
     },
     "ae5d607b93e44d918e536afd13919f98": {
      "model_module": "@jupyter-widgets/controls",
      "model_module_version": "1.5.0",
      "model_name": "HBoxModel",
      "state": {
       "children": [
        "IPY_MODEL_22619aedb7bd421c8d9b74f42a60e6b7",
        "IPY_MODEL_c91d82e662a14543b921aa179443c76c"
       ],
       "layout": "IPY_MODEL_e5d600174e1840fd85e552b015fefa98"
      }
     },
     "ae67205fcc534e048878fcdc3c1f385d": {
      "model_module": "@jupyter-widgets/controls",
      "model_module_version": "1.5.0",
      "model_name": "SliderStyleModel",
      "state": {
       "description_width": ""
      }
     },
     "ae70e3796269413f8f75e6b73d431a2b": {
      "model_module": "@jupyter-widgets/controls",
      "model_module_version": "1.5.0",
      "model_name": "ButtonStyleModel",
      "state": {}
     },
     "ae73cfabbf0c449fab531100f9045c48": {
      "model_module": "@jupyter-widgets/controls",
      "model_module_version": "1.5.0",
      "model_name": "SliderStyleModel",
      "state": {
       "description_width": ""
      }
     },
     "ae7c5771004247ee9c8be8424303a978": {
      "model_module": "@jupyter-widgets/controls",
      "model_module_version": "1.5.0",
      "model_name": "DescriptionStyleModel",
      "state": {
       "description_width": ""
      }
     },
     "ae7f41ebd31d48658e44eb1c8fdb7355": {
      "model_module": "@jupyter-widgets/base",
      "model_module_version": "1.2.0",
      "model_name": "LayoutModel",
      "state": {}
     },
     "ae863b42db2c40eeaa8a064f1de6d54e": {
      "model_module": "@jupyter-widgets/base",
      "model_module_version": "1.2.0",
      "model_name": "LayoutModel",
      "state": {}
     },
     "aea1d0cbebf84d70ad94fd9b58353cdc": {
      "model_module": "@jupyter-widgets/base",
      "model_module_version": "1.2.0",
      "model_name": "LayoutModel",
      "state": {}
     },
     "aeaf1361f90748f78e6b1f091cf6e50e": {
      "model_module": "@jupyter-widgets/base",
      "model_module_version": "1.2.0",
      "model_name": "LayoutModel",
      "state": {}
     },
     "aeb91fa0b8734177b8d24b6923d62633": {
      "model_module": "@jupyter-widgets/base",
      "model_module_version": "1.2.0",
      "model_name": "LayoutModel",
      "state": {}
     },
     "aed6ac227b8f4daf8ad908b7f8fa98f3": {
      "model_module": "@jupyter-widgets/controls",
      "model_module_version": "1.5.0",
      "model_name": "DropdownModel",
      "state": {
       "_options_labels": [
        "leafduration",
        "leafold",
        "maxorder",
        "radinc"
       ],
       "index": 0,
       "layout": "IPY_MODEL_b33f3cfa85a5426f8cc43e30755f6cb2",
       "style": "IPY_MODEL_7f9d5e5a52b14a618ba808a1e81f5e6c"
      }
     },
     "aeecb2e7f71f4d9d95b6a7ef13e9cb33": {
      "model_module": "@jupyter-widgets/base",
      "model_module_version": "1.2.0",
      "model_name": "LayoutModel",
      "state": {}
     },
     "aef7e904684f43a8b6c25721b13dcde7": {
      "model_module": "@jupyter-widgets/base",
      "model_module_version": "1.2.0",
      "model_name": "LayoutModel",
      "state": {}
     },
     "af0a704ee4c24337bbfb456cb197479e": {
      "model_module": "@jupyter-widgets/controls",
      "model_module_version": "1.5.0",
      "model_name": "DescriptionStyleModel",
      "state": {
       "description_width": ""
      }
     },
     "af3693c497854f00a5f5bf1ffa333511": {
      "model_module": "@jupyter-widgets/base",
      "model_module_version": "1.2.0",
      "model_name": "LayoutModel",
      "state": {}
     },
     "af6731bf41c34325aeacf8a2495d698b": {
      "model_module": "@jupyter-widgets/controls",
      "model_module_version": "1.5.0",
      "model_name": "DescriptionStyleModel",
      "state": {
       "description_width": ""
      }
     },
     "af87cda5427b4804a199209d0dc67cb7": {
      "model_module": "pgljupyter",
      "model_module_version": "^0.1.15",
      "model_name": "MaterialEditorModel",
      "state": {
       "_model_module_version": "^0.1.15",
       "_view_module_version": "^0.1.15",
       "children": [
        "IPY_MODEL_11def9fdaa784c11b3a2f18b1f48f0a9",
        "IPY_MODEL_d2a17160a0324c03858c22890d9aa766",
        "IPY_MODEL_7d36203470c942a9aae57f7e5f42e9e5",
        "IPY_MODEL_d3d1b7a831274a7e84079a9f237031f5",
        "IPY_MODEL_7306c7cd9e344cf288f50aac06a52e87",
        "IPY_MODEL_412f933d3efd4826ba3db6495db8b48b",
        "IPY_MODEL_56554a294f004d188215acaa0db279aa",
        "IPY_MODEL_c7fdfd3aef21492c964131a50d3def86"
       ],
       "layout": "IPY_MODEL_d2910492dd2c4b0882f8068e482016ed"
      }
     },
     "af9687bc3935460dba4220cc22e7558b": {
      "model_module": "@jupyter-widgets/controls",
      "model_module_version": "1.5.0",
      "model_name": "ButtonModel",
      "state": {
       "description": "Add",
       "layout": "IPY_MODEL_de936a5db9144991901ed6d1825827c1",
       "style": "IPY_MODEL_ef18229753c341b4962d7bb849727b97"
      }
     },
     "afd9593ec0b84617b0ed87c718ceb620": {
      "model_module": "@jupyter-widgets/controls",
      "model_module_version": "1.5.0",
      "model_name": "FloatSliderModel",
      "state": {
       "description": "value",
       "layout": "IPY_MODEL_9a4d28e6d7344830967b6574699ba3f3",
       "max": 0.1,
       "min": 0.01,
       "step": 0.01,
       "style": "IPY_MODEL_2bca4224925b40e1bfb042986738be02",
       "value": 0.04
      }
     },
     "afe6e6c4152e44c2934a927db152b864": {
      "model_module": "@jupyter-widgets/base",
      "model_module_version": "1.2.0",
      "model_name": "LayoutModel",
      "state": {}
     },
     "b0640f81165841e19fa32c937422c2a4": {
      "model_module": "@jupyter-widgets/base",
      "model_module_version": "1.2.0",
      "model_name": "LayoutModel",
      "state": {}
     },
     "b0a9193e48b440a2a8e99ad438002fd8": {
      "model_module": "@jupyter-widgets/base",
      "model_module_version": "1.2.0",
      "model_name": "LayoutModel",
      "state": {}
     },
     "b0af3de57db7456bbaebe890f80f8b5c": {
      "model_module": "@jupyter-widgets/controls",
      "model_module_version": "1.5.0",
      "model_name": "VBoxModel",
      "state": {
       "children": [
        "IPY_MODEL_3279bd2d9370429ca816ae2050ac2d53",
        "IPY_MODEL_28ddc018d2064ea18a904c73a8aacc58"
       ],
       "layout": "IPY_MODEL_77e80799913c40caafb6699455389847"
      }
     },
     "b0c4b4c1dd984e44aaa7bb43a9eaa03f": {
      "model_module": "@jupyter-widgets/base",
      "model_module_version": "1.2.0",
      "model_name": "LayoutModel",
      "state": {}
     },
     "b0e428650bcd4920989735f0790ab5a4": {
      "model_module": "@jupyter-widgets/controls",
      "model_module_version": "1.5.0",
      "model_name": "HBoxModel",
      "state": {
       "children": [
        "IPY_MODEL_f38ce8becd2f403f81f14f057115a3b5",
        "IPY_MODEL_7e460e2c624a46e587a98cece718fc66",
        "IPY_MODEL_593c45add93e470fa160defc86ae8503",
        "IPY_MODEL_5e191573a5924d1887ed7d21c6786fdf"
       ],
       "layout": "IPY_MODEL_bbd47564228f4942bcd590a50a8e0bdb"
      }
     },
     "b129245b32f4409aa855c6b713567799": {
      "model_module": "@jupyter-widgets/controls",
      "model_module_version": "1.5.0",
      "model_name": "DescriptionStyleModel",
      "state": {
       "description_width": ""
      }
     },
     "b12f427d3540413bbf6ece88eca81e0b": {
      "model_module": "@jupyter-widgets/controls",
      "model_module_version": "1.5.0",
      "model_name": "ColorPickerModel",
      "state": {
       "description": "emission",
       "disabled": false,
       "layout": "IPY_MODEL_4715b92f67bf4365ba67c7f44dfa24e1",
       "style": "IPY_MODEL_777919b484434f37ac5fea24df97caa4",
       "value": "#000000"
      }
     },
     "b139e2d1758644fabc8d862eb9e6e9ed": {
      "model_module": "@jupyter-widgets/controls",
      "model_module_version": "1.5.0",
      "model_name": "ButtonStyleModel",
      "state": {}
     },
     "b1719c458848436b8cc931c5f6bdb47b": {
      "model_module": "@jupyter-widgets/base",
      "model_module_version": "1.2.0",
      "model_name": "LayoutModel",
      "state": {}
     },
     "b1ba8d4719be41f1a6ba3f667428e52a": {
      "model_module": "@jupyter-widgets/base",
      "model_module_version": "1.2.0",
      "model_name": "LayoutModel",
      "state": {}
     },
     "b1bd5bda1f924269b6906dd5b73f60f1": {
      "model_module": "@jupyter-widgets/controls",
      "model_module_version": "1.5.0",
      "model_name": "SliderStyleModel",
      "state": {
       "description_width": ""
      }
     },
     "b1c38ae7c29041cbb1275ecdd7cb624e": {
      "model_module": "@jupyter-widgets/controls",
      "model_module_version": "1.5.0",
      "model_name": "DescriptionStyleModel",
      "state": {
       "description_width": ""
      }
     },
     "b1cb0ecc984d47b5b601ac5ead5fda5d": {
      "model_module": "@jupyter-widgets/controls",
      "model_module_version": "1.5.0",
      "model_name": "ColorPickerModel",
      "state": {
       "description": "emission",
       "disabled": false,
       "layout": "IPY_MODEL_5d943e0e9e654ffd89088143a379e75e",
       "style": "IPY_MODEL_6a29a2123883407c9f1782ab4ccc29a2",
       "value": "#1f48db"
      }
     },
     "b1cb4ff3cba944be84994facb1138eb0": {
      "model_module": "@jupyter-widgets/base",
      "model_module_version": "1.2.0",
      "model_name": "LayoutModel",
      "state": {}
     },
     "b1e0eb55856c4f2282b3459ced3f0f85": {
      "model_module": "@jupyter-widgets/controls",
      "model_module_version": "1.5.0",
      "model_name": "ColorPickerModel",
      "state": {
       "description": "specular",
       "disabled": false,
       "layout": "IPY_MODEL_c645f0ca552c4eb6937cd767d2e42b1f",
       "style": "IPY_MODEL_ac3abe166c9442db82810a6a190b5ccb",
       "value": "#282828"
      }
     },
     "b21f74bd92b84e09bf6f607288d6ca02": {
      "model_module": "@jupyter-widgets/controls",
      "model_module_version": "1.5.0",
      "model_name": "FloatSliderModel",
      "state": {
       "description": "transparency",
       "layout": "IPY_MODEL_10893dfae19b4de6a2046bb69cc1f99d",
       "max": 1,
       "step": 0.1,
       "style": "IPY_MODEL_f79cbb65addd4b239b22ebb3e4edaceb"
      }
     },
     "b22403f438214a4b8f36317185bdab34": {
      "model_module": "@jupyter-widgets/controls",
      "model_module_version": "1.5.0",
      "model_name": "FloatSliderModel",
      "state": {
       "description": "transparency",
       "layout": "IPY_MODEL_e4bda8110a6f4eb5951c91a6a55e12fc",
       "max": 1,
       "step": 0.1,
       "style": "IPY_MODEL_a91469a2c4e9407db0966ebd0b17cd0c",
       "value": 1
      }
     },
     "b2281f0f5285481f920f4cdaaf8e1be3": {
      "model_module": "@jupyter-widgets/controls",
      "model_module_version": "1.5.0",
      "model_name": "ColorPickerModel",
      "state": {
       "description": "specular",
       "disabled": false,
       "layout": "IPY_MODEL_f424905e64c84299b6b947f512059f73",
       "style": "IPY_MODEL_4d778b7bf0634f95a71cbc70662ac093",
       "value": "#282828"
      }
     },
     "b239ac29db3549aea52e1133876809c1": {
      "model_module": "pgljupyter",
      "model_module_version": "^0.1.15",
      "model_name": "ParameterEditorModel",
      "state": {
       "_model_module_version": "^0.1.15",
       "_view_module_version": "^0.1.15",
       "children": [
        "IPY_MODEL_7a8585011f854dc1930227524179b047"
       ],
       "layout": "IPY_MODEL_df929577f3684b25ba32fb1fc5b12d69"
      }
     },
     "b25daccebff14d03b80eed1aa3954352": {
      "model_module": "@jupyter-widgets/base",
      "model_module_version": "1.2.0",
      "model_name": "LayoutModel",
      "state": {}
     },
     "b25e2955a34f4430becede98d6b4bc0e": {
      "model_module": "@jupyter-widgets/base",
      "model_module_version": "1.2.0",
      "model_name": "LayoutModel",
      "state": {
       "margin": "20px 0px"
      }
     },
     "b2acd01961af49679eef6d310d8f46dc": {
      "model_module": "@jupyter-widgets/base",
      "model_module_version": "1.2.0",
      "model_name": "LayoutModel",
      "state": {}
     },
     "b2c0a0802b554dda8306361882d5ad6a": {
      "model_module": "@jupyter-widgets/base",
      "model_module_version": "1.2.0",
      "model_name": "LayoutModel",
      "state": {}
     },
     "b2dd0bcc35f94d0d88468a98b500d7af": {
      "model_module": "@jupyter-widgets/base",
      "model_module_version": "1.2.0",
      "model_name": "LayoutModel",
      "state": {}
     },
     "b2e30f96700b45548b178b27fa395d8f": {
      "model_module": "@jupyter-widgets/controls",
      "model_module_version": "1.5.0",
      "model_name": "HBoxModel",
      "state": {
       "layout": "IPY_MODEL_cc4283288fb542ef96f56d4d031ff9f4"
      }
     },
     "b2f63634bfd94d23a4133da2a39d0f87": {
      "model_module": "@jupyter-widgets/base",
      "model_module_version": "1.2.0",
      "model_name": "LayoutModel",
      "state": {}
     },
     "b31bd99a0d854bcc8d07ba07dd80bc78": {
      "model_module": "pgljupyter",
      "model_module_version": "^0.1.15",
      "model_name": "FloatEditorModel",
      "state": {
       "_model_module_version": "^0.1.15",
       "_view_module_version": "^0.1.15",
       "children": [
        "IPY_MODEL_93b63bef746a41dcbb7302092d06416d",
        "IPY_MODEL_bf7f053bdf694d5d97ee1d55a9c94740",
        "IPY_MODEL_3016eb052392407faed61d3b029819e0",
        "IPY_MODEL_c1ab926bf0374e5bab8c14b9771dedb9",
        "IPY_MODEL_30d540375e824d28a55b00e0f96c5990"
       ],
       "layout": "IPY_MODEL_7fad6b6076bd4790919771a5e26e7023"
      }
     },
     "b336a5f011b742ea908cee03513fccb9": {
      "model_module": "@jupyter-widgets/controls",
      "model_module_version": "1.5.0",
      "model_name": "DescriptionStyleModel",
      "state": {
       "description_width": ""
      }
     },
     "b33f3cfa85a5426f8cc43e30755f6cb2": {
      "model_module": "@jupyter-widgets/base",
      "model_module_version": "1.2.0",
      "model_name": "LayoutModel",
      "state": {}
     },
     "b37521b60a7647d9899e3d42829b78ef": {
      "model_module": "@jupyter-widgets/base",
      "model_module_version": "1.2.0",
      "model_name": "LayoutModel",
      "state": {}
     },
     "b38a81a6a6574a99887c3d1e9695f144": {
      "model_module": "@jupyter-widgets/controls",
      "model_module_version": "1.5.0",
      "model_name": "DescriptionStyleModel",
      "state": {
       "description_width": ""
      }
     },
     "b39464d608c9476b884a194019aeea92": {
      "model_module": "@jupyter-widgets/controls",
      "model_module_version": "1.5.0",
      "model_name": "SliderStyleModel",
      "state": {
       "description_width": ""
      }
     },
     "b3a95801c23f4290b028849cf85da1e0": {
      "model_module": "@jupyter-widgets/base",
      "model_module_version": "1.2.0",
      "model_name": "LayoutModel",
      "state": {}
     },
     "b3d224479410442194b1e9d296127e75": {
      "model_module": "@jupyter-widgets/base",
      "model_module_version": "1.2.0",
      "model_name": "LayoutModel",
      "state": {}
     },
     "b4106cfbe2bd43b7b529f0bfbe6fa595": {
      "model_module": "@jupyter-widgets/controls",
      "model_module_version": "1.5.0",
      "model_name": "TextModel",
      "state": {
       "continuous_update": false,
       "description": "name",
       "layout": "IPY_MODEL_8286e2d0306a4eefaea0c8d3c095dbd8",
       "style": "IPY_MODEL_bb26f459471d4b68bfb22bcdd7d7ce69",
       "value": "color_4"
      }
     },
     "b43caee4a13b4197b50e32c3155f3b33": {
      "model_module": "@jupyter-widgets/controls",
      "model_module_version": "1.5.0",
      "model_name": "ButtonStyleModel",
      "state": {}
     },
     "b4826374de34493ea4493a423ea453fe": {
      "model_module": "@jupyter-widgets/controls",
      "model_module_version": "1.5.0",
      "model_name": "ColorPickerModel",
      "state": {
       "description": "ambient",
       "disabled": false,
       "layout": "IPY_MODEL_77166008be3547cb846da94d834a8803",
       "style": "IPY_MODEL_879565f61b064a7989de660cb8f1e795",
       "value": "#0fc4db"
      }
     },
     "b48db2e5fcaa41a3b57d77147d5c6ee4": {
      "model_module": "@jupyter-widgets/base",
      "model_module_version": "1.2.0",
      "model_name": "LayoutModel",
      "state": {}
     },
     "b49f1cfd335044929cbc328ce2374923": {
      "model_module": "@jupyter-widgets/base",
      "model_module_version": "1.2.0",
      "model_name": "LayoutModel",
      "state": {}
     },
     "b4a5d81b90c74f3eb364ea05b146719e": {
      "model_module": "@jupyter-widgets/base",
      "model_module_version": "1.2.0",
      "model_name": "LayoutModel",
      "state": {
       "margin": "20px 0px"
      }
     },
     "b4c6640b003145ab863dc22afc0d6b9e": {
      "model_module": "pgljupyter",
      "model_module_version": "^0.1.2",
      "model_name": "IntEditorModel",
      "state": {
       "_model_module_version": "^0.1.2",
       "_view_module_version": "^0.1.2",
       "children": [
        "IPY_MODEL_0a2938deb20642c5988031f8dc64848d",
        "IPY_MODEL_24445bf8451e470e934c4470d4f8e0a7",
        "IPY_MODEL_4c8db41d749847e5a3305abcaf3731a3",
        "IPY_MODEL_5e420e22516544c99e03c561351caa77",
        "IPY_MODEL_5be4664a6e1f4328bbc274b21c1c5c15"
       ],
       "layout": "IPY_MODEL_2501c08878e54350abc0a9ac884118f1"
      }
     },
     "b4cf0d3e6f1c4636854a6fbc91c3f497": {
      "model_module": "@jupyter-widgets/controls",
      "model_module_version": "1.5.0",
      "model_name": "HBoxModel",
      "state": {
       "children": [
        "IPY_MODEL_6f93ee510b5e4f889fd2191aac41b887",
        "IPY_MODEL_837c4c361b574f31b9a8285667187515",
        "IPY_MODEL_448c332b1c5342fd9bce0ad5b482ea89",
        "IPY_MODEL_5afa1ae2ba5f41b9afc7f4680daad858",
        "IPY_MODEL_f1e16786cc5b40aa94cea837022e185b"
       ],
       "layout": "IPY_MODEL_f583c73dcf62478eaadd3ea0a6bf751a"
      }
     },
     "b4deb4068e1e42e2b30d7c28bf65b5b3": {
      "model_module": "@jupyter-widgets/controls",
      "model_module_version": "1.5.0",
      "model_name": "BoundedIntTextModel",
      "state": {
       "description": "index",
       "layout": "IPY_MODEL_c2aaeb4db7fb4ab18acbf54b13800b48",
       "style": "IPY_MODEL_3dd8567c0e7e4493a514306e4be0d559",
       "value": 3
      }
     },
     "b5231bbd9aa841e3876437f9394ab620": {
      "model_module": "@jupyter-widgets/controls",
      "model_module_version": "1.5.0",
      "model_name": "SliderStyleModel",
      "state": {
       "description_width": ""
      }
     },
     "b52df46c588c4e5899d77c91baf1eadf": {
      "model_module": "@jupyter-widgets/controls",
      "model_module_version": "1.5.0",
      "model_name": "TextModel",
      "state": {
       "continuous_update": false,
       "description": "name",
       "layout": "IPY_MODEL_9a74ab9f1da84b0586d435c3c625a816",
       "style": "IPY_MODEL_b5a2a141791f4a82ade833a09c033878",
       "value": "color_3"
      }
     },
     "b59c29281333436899408f2669df3b50": {
      "model_module": "@jupyter-widgets/base",
      "model_module_version": "1.2.0",
      "model_name": "LayoutModel",
      "state": {}
     },
     "b5a2a141791f4a82ade833a09c033878": {
      "model_module": "@jupyter-widgets/controls",
      "model_module_version": "1.5.0",
      "model_name": "DescriptionStyleModel",
      "state": {
       "description_width": ""
      }
     },
     "b5a60422cef947149d1cba4db4f158b1": {
      "model_module": "pgljupyter",
      "model_module_version": "^0.1.15",
      "model_name": "IntEditorModel",
      "state": {
       "_model_module_version": "^0.1.15",
       "_view_module_version": "^0.1.15",
       "children": [
        "IPY_MODEL_7b607c75281c43c2bde3dc6e253574f6",
        "IPY_MODEL_001bd476239c49088f30751ad638172d",
        "IPY_MODEL_7dc8ea8bc0484a72b1e8d6f23141bfad",
        "IPY_MODEL_6acc49b72cf6431e86b1641f7e432a4a",
        "IPY_MODEL_c3e606921e3541b182127b4a5dc44b20"
       ],
       "layout": "IPY_MODEL_2b3f8914cd724f03828986cb86c6eb87"
      }
     },
     "b5ccc25be6cb483bbe8c790ab85792d5": {
      "model_module": "@jupyter-widgets/controls",
      "model_module_version": "1.5.0",
      "model_name": "SliderStyleModel",
      "state": {
       "description_width": ""
      }
     },
     "b5e60a6347b3449f91b071f338336469": {
      "model_module": "@jupyter-widgets/controls",
      "model_module_version": "1.5.0",
      "model_name": "BoundedIntTextModel",
      "state": {
       "description": "index",
       "layout": "IPY_MODEL_7e6cd9f3d4774f2a8db233e3574f2d46",
       "style": "IPY_MODEL_7b4fab502eb240a5a01f3789709c84a7",
       "value": 1
      }
     },
     "b60867a053c74a80a3f7d34c47d27946": {
      "model_module": "@jupyter-widgets/base",
      "model_module_version": "1.2.0",
      "model_name": "LayoutModel",
      "state": {}
     },
     "b6648dd35f9448fc8d6cfd44efbdc5c5": {
      "model_module": "@jupyter-widgets/controls",
      "model_module_version": "1.5.0",
      "model_name": "HBoxModel",
      "state": {
       "children": [
        "IPY_MODEL_a92de081e50c476496f3c9802b37b1a6",
        "IPY_MODEL_b76a98a7e2324f6fb6a20f6e4b7a1fbd",
        "IPY_MODEL_11c65fd9468f412f9b63e9f47a99b801",
        "IPY_MODEL_5bb3e8d0cda8438b902ddf054f47aca2"
       ],
       "layout": "IPY_MODEL_2c758a39f7fc445fb36328a5392bc3cb"
      }
     },
     "b667c2ac1f16455daba01fec1e350f9a": {
      "model_module": "@jupyter-widgets/controls",
      "model_module_version": "1.5.0",
      "model_name": "ButtonStyleModel",
      "state": {}
     },
     "b68cdefd785942a1917c99c36362d78d": {
      "model_module": "@jupyter-widgets/base",
      "model_module_version": "1.2.0",
      "model_name": "LayoutModel",
      "state": {}
     },
     "b68eb2858dea4541b4543e7f82a86952": {
      "model_module": "@jupyter-widgets/controls",
      "model_module_version": "1.5.0",
      "model_name": "IntTextModel",
      "state": {
       "description": "max",
       "layout": "IPY_MODEL_fd0abaa1c37f4431b5d5a18b4c3a0ec0",
       "step": 1,
       "style": "IPY_MODEL_cb1ed0f6320b4333aa7297d8a7ce168f",
       "value": 10
      }
     },
     "b69676832078429ca16ba7c715fbcfd9": {
      "model_module": "@jupyter-widgets/controls",
      "model_module_version": "1.5.0",
      "model_name": "IntTextModel",
      "state": {
       "description": "max",
       "layout": "IPY_MODEL_255f0de8730f402fa921249e991e6156",
       "step": 1,
       "style": "IPY_MODEL_6e8218f320834baf90af54ad486ded45",
       "value": 7
      }
     },
     "b6b1e4f8d249488db5919eef7318300b": {
      "model_module": "@jupyter-widgets/controls",
      "model_module_version": "1.5.0",
      "model_name": "DescriptionStyleModel",
      "state": {
       "description_width": ""
      }
     },
     "b6b202d696eb4461a098c904fe501f29": {
      "model_module": "@jupyter-widgets/base",
      "model_module_version": "1.2.0",
      "model_name": "LayoutModel",
      "state": {}
     },
     "b6c5410c931b4da89d3dece6dee21bba": {
      "model_module": "@jupyter-widgets/controls",
      "model_module_version": "1.5.0",
      "model_name": "IntTextModel",
      "state": {
       "description": "max",
       "layout": "IPY_MODEL_9dc55b5ed6bf407e8fface8d54fec80d",
       "step": 1,
       "style": "IPY_MODEL_b1c38ae7c29041cbb1275ecdd7cb624e",
       "value": 10
      }
     },
     "b6fac6ee8b314c10a5156acd259cdf9e": {
      "model_module": "@jupyter-widgets/controls",
      "model_module_version": "1.5.0",
      "model_name": "FloatSliderModel",
      "state": {
       "description": "shininess",
       "layout": "IPY_MODEL_d0b7820ad886441a910a69125aae845b",
       "max": 1,
       "step": 0.1,
       "style": "IPY_MODEL_d73cf1873c014373bc2c1fe5aecbf45f",
       "value": 0.5
      }
     },
     "b73530eb6f3847eb9cbea73e2f680102": {
      "model_module": "@jupyter-widgets/controls",
      "model_module_version": "1.5.0",
      "model_name": "TabModel",
      "state": {
       "layout": "IPY_MODEL_3b9cdcac039a4f5eacbfd4ff00a41591"
      }
     },
     "b7601ada32964215b08802b99d20b892": {
      "model_module": "@jupyter-widgets/controls",
      "model_module_version": "1.5.0",
      "model_name": "DescriptionStyleModel",
      "state": {
       "description_width": ""
      }
     },
     "b76a98a7e2324f6fb6a20f6e4b7a1fbd": {
      "model_module": "@jupyter-widgets/controls",
      "model_module_version": "1.5.0",
      "model_name": "DropdownModel",
      "state": {
       "_options_labels": [
        "Color"
       ],
       "index": 0,
       "layout": "IPY_MODEL_2a71d1ea3cce494aab3efb0a5f5f35b8",
       "style": "IPY_MODEL_8b57ad46d5bd48cca26846608c950e2f"
      }
     },
     "b7774c37d9944fe09f8d1efd519c29b8": {
      "model_module": "@jupyter-widgets/controls",
      "model_module_version": "1.5.0",
      "model_name": "DescriptionStyleModel",
      "state": {
       "description_width": ""
      }
     },
     "b77fc977ca7142e2b387d65726ea5b6d": {
      "model_module": "@jupyter-widgets/base",
      "model_module_version": "1.2.0",
      "model_name": "LayoutModel",
      "state": {}
     },
     "b7b357a66639420aa908d043de1e82b4": {
      "model_module": "@jupyter-widgets/controls",
      "model_module_version": "1.5.0",
      "model_name": "FloatSliderModel",
      "state": {
       "description": "transparency",
       "layout": "IPY_MODEL_5c3f4b13f486471481fb545c41b82800",
       "max": 1,
       "step": 0.1,
       "style": "IPY_MODEL_f993148f64c44025b729c63a6e4d3ca2"
      }
     },
     "b7c4ee70548c46f3ae5900fd98952170": {
      "model_module": "@jupyter-widgets/controls",
      "model_module_version": "1.5.0",
      "model_name": "FloatSliderModel",
      "state": {
       "description": "shininess",
       "layout": "IPY_MODEL_a59e5569de764aa9b4bf18540d79b93e",
       "max": 1,
       "step": 0.1,
       "style": "IPY_MODEL_ea6e9d165e2848e68644773992116562",
       "value": 0.2
      }
     },
     "b812c55b291f45fd9466d5dd4dfb3d21": {
      "model_module": "@jupyter-widgets/controls",
      "model_module_version": "1.5.0",
      "model_name": "ButtonModel",
      "state": {
       "description": "Delete",
       "layout": "IPY_MODEL_e26f8c78c9d141418e8ddc90782f721b",
       "style": "IPY_MODEL_9232a91d889e42d19f0c0899a0415e70"
      }
     },
     "b819d10f4d0f4c14aa3a15b1b1527973": {
      "model_module": "@jupyter-widgets/base",
      "model_module_version": "1.2.0",
      "model_name": "LayoutModel",
      "state": {}
     },
     "b81af8cd3ac248688134ee4c10479ba6": {
      "model_module": "@jupyter-widgets/base",
      "model_module_version": "1.2.0",
      "model_name": "LayoutModel",
      "state": {}
     },
     "b829829f906848c5aaa40579a8addb02": {
      "model_module": "@jupyter-widgets/base",
      "model_module_version": "1.2.0",
      "model_name": "LayoutModel",
      "state": {}
     },
     "b8492b7b01134d7b9aeaebc3e86f5d87": {
      "model_module": "pgljupyter",
      "model_module_version": "^0.1.2",
      "model_name": "CurveEditorModel",
      "state": {
       "_model_module_version": "^0.1.2",
       "_view_module_version": "^0.1.2",
       "children": [
        "IPY_MODEL_d15825d831bc479e9ba631b888bce268",
        "IPY_MODEL_a4e9e5b5bf4c4bf3a00c49b819e7d1f8"
       ],
       "layout": "IPY_MODEL_a6f916165dd04f2081284a6f756f7d03"
      }
     },
     "b8685b63aa004aa18f0587705b0e350f": {
      "model_module": "@jupyter-widgets/base",
      "model_module_version": "1.2.0",
      "model_name": "LayoutModel",
      "state": {}
     },
     "b882c7f790744974bc9b924e675cb756": {
      "model_module": "@jupyter-widgets/base",
      "model_module_version": "1.2.0",
      "model_name": "LayoutModel",
      "state": {}
     },
     "b8a341e1224a48b5bd5cc9f85ff9b22c": {
      "model_module": "@jupyter-widgets/controls",
      "model_module_version": "1.5.0",
      "model_name": "FloatSliderModel",
      "state": {
       "description": "shininess",
       "layout": "IPY_MODEL_17ca4c748f7a4d0cb35375a65128cde3",
       "max": 1,
       "step": 0.1,
       "style": "IPY_MODEL_d81d61ea7b9e45c684accc7eca1f8bd0",
       "value": 0.2
      }
     },
     "b8bd681b6b634a61860c93bb9163f073": {
      "model_module": "@jupyter-widgets/controls",
      "model_module_version": "1.5.0",
      "model_name": "CheckboxModel",
      "state": {
       "description": "Auto apply",
       "disabled": false,
       "layout": "IPY_MODEL_af3693c497854f00a5f5bf1ffa333511",
       "style": "IPY_MODEL_279f04df2dff4359be95f440892277cc",
       "value": false
      }
     },
     "b8edda361f7c45fca84ae1034a46206a": {
      "model_module": "@jupyter-widgets/controls",
      "model_module_version": "1.5.0",
      "model_name": "DescriptionStyleModel",
      "state": {
       "description_width": ""
      }
     },
     "b91214a0c6054504a3947fa034b9ca06": {
      "model_module": "@jupyter-widgets/base",
      "model_module_version": "1.2.0",
      "model_name": "LayoutModel",
      "state": {}
     },
     "b9140fd966784ca79c52a376d4a3aa01": {
      "model_module": "@jupyter-widgets/base",
      "model_module_version": "1.2.0",
      "model_name": "LayoutModel",
      "state": {}
     },
     "b92546feb77a4e4aaff221af4a8fbabe": {
      "model_module": "@jupyter-widgets/base",
      "model_module_version": "1.2.0",
      "model_name": "LayoutModel",
      "state": {}
     },
     "b947c8dbfdf949bc8bec1b73362d16c9": {
      "model_module": "@jupyter-widgets/controls",
      "model_module_version": "1.5.0",
      "model_name": "DescriptionStyleModel",
      "state": {
       "description_width": ""
      }
     },
     "b9569c00d7924f5f9ae9483b5f4dd93a": {
      "model_module": "@jupyter-widgets/controls",
      "model_module_version": "1.5.0",
      "model_name": "DescriptionStyleModel",
      "state": {
       "description_width": ""
      }
     },
     "b9584c01989d435794a5113b99e6824c": {
      "model_module": "@jupyter-widgets/base",
      "model_module_version": "1.2.0",
      "model_name": "LayoutModel",
      "state": {
       "margin": "20px 0px"
      }
     },
     "b9889579f56d4901a4b6f2fc55378567": {
      "model_module": "@jupyter-widgets/controls",
      "model_module_version": "1.5.0",
      "model_name": "HBoxModel",
      "state": {
       "children": [
        "IPY_MODEL_3a23713a62a440298a92fda6f633d4ec",
        "IPY_MODEL_2eff3360b17e4d108ef05eb1c38b62b5"
       ],
       "layout": "IPY_MODEL_fafaba522c1d4a27adbb8b25d90161ad"
      }
     },
     "b9bd32aac27943cb82629f371e651a3f": {
      "model_module": "@jupyter-widgets/base",
      "model_module_version": "1.2.0",
      "model_name": "LayoutModel",
      "state": {}
     },
     "b9c9fba7050d4389adc593900e168832": {
      "model_module": "@jupyter-widgets/base",
      "model_module_version": "1.2.0",
      "model_name": "LayoutModel",
      "state": {}
     },
     "b9cc05f666bc435cbe476ef8e9e4fbec": {
      "model_module": "@jupyter-widgets/controls",
      "model_module_version": "1.5.0",
      "model_name": "ButtonModel",
      "state": {
       "description": "Delete",
       "layout": "IPY_MODEL_3886c91004eb40b4ae526623f839f5a3",
       "style": "IPY_MODEL_3f0f3bb1764f476baea6463c404baeef"
      }
     },
     "b9eb8d3f8c6a4b18a72f185724416aa4": {
      "model_module": "@jupyter-widgets/controls",
      "model_module_version": "1.5.0",
      "model_name": "VBoxModel",
      "state": {
       "children": [
        "IPY_MODEL_21efdec5b75d4c6ebabf51119098e5d0",
        "IPY_MODEL_0c82adbe02b14ee888134148a12ab08a"
       ],
       "layout": "IPY_MODEL_ceb520bee04442219db5910700063143"
      }
     },
     "b9feeeeee9c74b51a81c432f0d6e640f": {
      "model_module": "@jupyter-widgets/base",
      "model_module_version": "1.2.0",
      "model_name": "LayoutModel",
      "state": {}
     },
     "ba0b1244ad6f4f9c9a71d04311449303": {
      "model_module": "@jupyter-widgets/controls",
      "model_module_version": "1.5.0",
      "model_name": "DescriptionStyleModel",
      "state": {
       "description_width": ""
      }
     },
     "ba29b80240fa409fbf8bfc9edf0f136d": {
      "model_module": "@jupyter-widgets/base",
      "model_module_version": "1.2.0",
      "model_name": "LayoutModel",
      "state": {}
     },
     "ba414c61699f4ef78a51f82ac1b8dfdd": {
      "model_module": "@jupyter-widgets/controls",
      "model_module_version": "1.5.0",
      "model_name": "FloatSliderModel",
      "state": {
       "description": "transparency",
       "layout": "IPY_MODEL_41670547e0cb41e29a72d0cf35a2fb90",
       "max": 1,
       "step": 0.1,
       "style": "IPY_MODEL_8554cceab3924e6b9e50c79f303173aa"
      }
     },
     "ba48b67039584cd4a738aff600735696": {
      "model_module": "@jupyter-widgets/base",
      "model_module_version": "1.2.0",
      "model_name": "LayoutModel",
      "state": {}
     },
     "ba4aacd962c3424bb9c0f68534aa3e0d": {
      "model_module": "@jupyter-widgets/controls",
      "model_module_version": "1.5.0",
      "model_name": "ButtonModel",
      "state": {
       "description": "Add",
       "layout": "IPY_MODEL_0ba7ad8dd4a54db89abff5406fe9bda7",
       "style": "IPY_MODEL_449ac70071344a398277bc4697cee9d9"
      }
     },
     "ba6c79c2e43840c9810fa60662097b5b": {
      "model_module": "pgljupyter",
      "model_module_version": "^0.1.2",
      "model_name": "FloatEditorModel",
      "state": {
       "_model_module_version": "^0.1.2",
       "_view_module_version": "^0.1.2",
       "children": [
        "IPY_MODEL_f877f58a4a8f446bae74488efbef66b0",
        "IPY_MODEL_76eb2c1bc07d4ea9a83be96441994d41",
        "IPY_MODEL_89e50adf10a84ea9ab3997fe944f3854",
        "IPY_MODEL_c2a5dd075265401189b7b6fd47c34c17",
        "IPY_MODEL_fdc322002e0147a3b3a787527f552f68"
       ],
       "layout": "IPY_MODEL_9996de42de804a72bd10c312732d93ad"
      }
     },
     "ba6ffbbd198d4f2e9c4f5d9e8e3ebf2d": {
      "model_module": "@jupyter-widgets/controls",
      "model_module_version": "1.5.0",
      "model_name": "ButtonModel",
      "state": {
       "description": "Save changes",
       "layout": "IPY_MODEL_112841a62cf347b4be020a24b6c212ae",
       "style": "IPY_MODEL_87bdb0b7f51f4dc09e8d567a4290ec36"
      }
     },
     "ba7234dd0ed3424baa06f9cffa1d96b3": {
      "model_module": "@jupyter-widgets/controls",
      "model_module_version": "1.5.0",
      "model_name": "FloatSliderModel",
      "state": {
       "description": "diffuse",
       "layout": "IPY_MODEL_0a63f463c5d8470ebb1e732d48fd1d86",
       "max": 1,
       "step": 0.1,
       "style": "IPY_MODEL_bc847ec8847947ff8d70439e40edc100"
      }
     },
     "ba8c7988418a459f968d8d8398997e40": {
      "model_module": "@jupyter-widgets/controls",
      "model_module_version": "1.5.0",
      "model_name": "ColorPickerModel",
      "state": {
       "description": "specular",
       "disabled": false,
       "layout": "IPY_MODEL_75489105bbe640099468411966b1f9ed",
       "style": "IPY_MODEL_2f0ddd96b8e54c9db71f0f6742f85c4f",
       "value": "#282828"
      }
     },
     "babb93ef0b924d3f89a84509076d9730": {
      "model_module": "@jupyter-widgets/controls",
      "model_module_version": "1.5.0",
      "model_name": "DropdownModel",
      "state": {
       "index": null,
       "layout": "IPY_MODEL_9bf14f73f0b04eb1b7814b57cd8c2439",
       "style": "IPY_MODEL_ae7c5771004247ee9c8be8424303a978"
      }
     },
     "bacd8b83f09a41338127a969c8b6dbd0": {
      "model_module": "@jupyter-widgets/controls",
      "model_module_version": "1.5.0",
      "model_name": "TextModel",
      "state": {
       "continuous_update": false,
       "description": "name",
       "layout": "IPY_MODEL_3300a2c5f2e247a1aaa3e0f6ac6abad9",
       "style": "IPY_MODEL_45eab33145994f5ba739b30b1b0ebf80",
       "value": "radinc"
      }
     },
     "bad45027440c49c0b95e906436475efe": {
      "model_module": "@jupyter-widgets/controls",
      "model_module_version": "1.5.0",
      "model_name": "ButtonModel",
      "state": {
       "description": "Delete",
       "layout": "IPY_MODEL_c0916f5a0946411c9908967b1e233df2",
       "style": "IPY_MODEL_00cac5436c8e487dae18a9ff4734dbaf"
      }
     },
     "bb1440d617e748a699d8c51fe00b9f81": {
      "model_module": "@jupyter-widgets/controls",
      "model_module_version": "1.5.0",
      "model_name": "FloatSliderModel",
      "state": {
       "description": "transparency",
       "layout": "IPY_MODEL_50cc71f872164213ae20fbcb6c95d452",
       "max": 1,
       "step": 0.1,
       "style": "IPY_MODEL_21038593f6254242adbc079301dce8ae"
      }
     },
     "bb156c39f7374a1b9165dded955416f5": {
      "model_module": "@jupyter-widgets/base",
      "model_module_version": "1.2.0",
      "model_name": "LayoutModel",
      "state": {
       "flex_flow": "row wrap",
       "margin": "20px"
      }
     },
     "bb1d7bbeb2da4eb7b42b416ef2832725": {
      "model_module": "@jupyter-widgets/base",
      "model_module_version": "1.2.0",
      "model_name": "LayoutModel",
      "state": {}
     },
     "bb26f459471d4b68bfb22bcdd7d7ce69": {
      "model_module": "@jupyter-widgets/controls",
      "model_module_version": "1.5.0",
      "model_name": "DescriptionStyleModel",
      "state": {
       "description_width": ""
      }
     },
     "bb5ac557aecb46c7a9fb3b7bdbb416bb": {
      "model_module": "@jupyter-widgets/controls",
      "model_module_version": "1.5.0",
      "model_name": "ColorPickerModel",
      "state": {
       "description": "specular",
       "disabled": false,
       "layout": "IPY_MODEL_bda0bf5780334cc294b54dd95d1ad3fd",
       "style": "IPY_MODEL_c14b7af0f5dd4f9ab3cc35a9918c0542",
       "value": "#282828"
      }
     },
     "bb5cb6be24e84a2f9a01b764426581ca": {
      "model_module": "@jupyter-widgets/controls",
      "model_module_version": "1.5.0",
      "model_name": "DescriptionStyleModel",
      "state": {
       "description_width": ""
      }
     },
     "bb64343143ba4af99b7584a1195309c2": {
      "model_module": "@jupyter-widgets/controls",
      "model_module_version": "1.5.0",
      "model_name": "IntTextModel",
      "state": {
       "description": "max",
       "layout": "IPY_MODEL_5c04a7bab5654a89bb57cca666a4c17e",
       "step": 1,
       "style": "IPY_MODEL_78b86b9374f94e7eba45a65f52ac1a7b",
       "value": 7
      }
     },
     "bb74a2e2f3f744c0880c5874c444c364": {
      "model_module": "@jupyter-widgets/controls",
      "model_module_version": "1.5.0",
      "model_name": "ColorPickerModel",
      "state": {
       "description": "specular",
       "disabled": false,
       "layout": "IPY_MODEL_f16cdc3e967e4e5181ff48b1be8bffe5",
       "style": "IPY_MODEL_fbd3c620d7bd47818d5487d92b540c7d",
       "value": "#282828"
      }
     },
     "bb7de7d1d43c4ef4a5a3c4d323dbac72": {
      "model_module": "@jupyter-widgets/controls",
      "model_module_version": "1.5.0",
      "model_name": "ButtonStyleModel",
      "state": {}
     },
     "bb8a30568c6048a59d821335540ce809": {
      "model_module": "@jupyter-widgets/base",
      "model_module_version": "1.2.0",
      "model_name": "LayoutModel",
      "state": {}
     },
     "bbd47564228f4942bcd590a50a8e0bdb": {
      "model_module": "@jupyter-widgets/base",
      "model_module_version": "1.2.0",
      "model_name": "LayoutModel",
      "state": {
       "flex_flow": "row wrap"
      }
     },
     "bc0183c58b444802a552b4adb9c91726": {
      "model_module": "@jupyter-widgets/controls",
      "model_module_version": "1.5.0",
      "model_name": "SliderStyleModel",
      "state": {
       "description_width": ""
      }
     },
     "bc3a69f7dd4a4502ac15812f3b77ce57": {
      "model_module": "@jupyter-widgets/controls",
      "model_module_version": "1.5.0",
      "model_name": "ColorPickerModel",
      "state": {
       "description": "ambient",
       "disabled": false,
       "layout": "IPY_MODEL_9c38da186c4448ecaecd2835ccd29123",
       "style": "IPY_MODEL_d818d18293d24cafa4ca4dbd101d4e2e",
       "value": "#195717"
      }
     },
     "bc3db02e28bb4caeb6026fe5f4369a0f": {
      "model_module": "@jupyter-widgets/controls",
      "model_module_version": "1.5.0",
      "model_name": "ButtonStyleModel",
      "state": {}
     },
     "bc4a33b3933f4b8bb18ecb27d380ed74": {
      "model_module": "@jupyter-widgets/base",
      "model_module_version": "1.2.0",
      "model_name": "LayoutModel",
      "state": {}
     },
     "bc74c2e50ad6494e89053be97a14d338": {
      "model_module": "pgljupyter",
      "model_module_version": "^0.1.15",
      "model_name": "MaterialEditorModel",
      "state": {
       "_model_module_version": "^0.1.15",
       "_view_module_version": "^0.1.15",
       "children": [
        "IPY_MODEL_90168c6c44fa4abe993133e42012c922",
        "IPY_MODEL_3fd002f5b3f64525ac31a0bb1137d898",
        "IPY_MODEL_f26fe519d6d446a8a98080c39f0f708a",
        "IPY_MODEL_b1e0eb55856c4f2282b3459ced3f0f85",
        "IPY_MODEL_7560fad3906c4968aa818e6a8112cbbf",
        "IPY_MODEL_9d0464bc0e594d5faebf526eada8f2ca",
        "IPY_MODEL_40befa1373cb40898bdffbaa5288d934",
        "IPY_MODEL_73cb0a4634a249e9a1568b2f36553f56"
       ],
       "layout": "IPY_MODEL_213c01422c2a4b5988ffdf22d0380be5"
      }
     },
     "bc804d01749f467fa36b4d0fc112a86f": {
      "model_module": "@jupyter-widgets/base",
      "model_module_version": "1.2.0",
      "model_name": "LayoutModel",
      "state": {}
     },
     "bc847ec8847947ff8d70439e40edc100": {
      "model_module": "@jupyter-widgets/controls",
      "model_module_version": "1.5.0",
      "model_name": "SliderStyleModel",
      "state": {
       "description_width": ""
      }
     },
     "bc8843dead4445a69000087749f7c98e": {
      "model_module": "@jupyter-widgets/controls",
      "model_module_version": "1.5.0",
      "model_name": "FloatSliderModel",
      "state": {
       "description": "shininess",
       "layout": "IPY_MODEL_b829829f906848c5aaa40579a8addb02",
       "max": 1,
       "step": 0.1,
       "style": "IPY_MODEL_5c063035428d484eb96aa25652f1770c",
       "value": 0.2
      }
     },
     "bca8e12aa85b43d199fddf7fd3c74ae8": {
      "model_module": "@jupyter-widgets/base",
      "model_module_version": "1.2.0",
      "model_name": "LayoutModel",
      "state": {}
     },
     "bcf84129fbc7479aa24d53d686dc7155": {
      "model_module": "@jupyter-widgets/base",
      "model_module_version": "1.2.0",
      "model_name": "LayoutModel",
      "state": {}
     },
     "bd68f36a479d4228921e20a022470d19": {
      "model_module": "@jupyter-widgets/base",
      "model_module_version": "1.2.0",
      "model_name": "LayoutModel",
      "state": {}
     },
     "bd918bcabb7b410f9fbcbc61aac64b22": {
      "model_module": "pgljupyter",
      "model_module_version": "^0.1.15",
      "model_name": "MaterialEditorModel",
      "state": {
       "_model_module_version": "^0.1.15",
       "_view_module_version": "^0.1.15",
       "children": [
        "IPY_MODEL_841b03bc73504e9fbcd2a2521c5eac54",
        "IPY_MODEL_96bc270eb98e480d869226e5c3773f39",
        "IPY_MODEL_2a6e6d5a527b40b79b823a50c67ef83a",
        "IPY_MODEL_37cc370812764135a78e918e9a54c255",
        "IPY_MODEL_fdd80fe99a2c4941b1f17d90ef2bd04f",
        "IPY_MODEL_b21f74bd92b84e09bf6f607288d6ca02",
        "IPY_MODEL_930cf2be63434311b69954fea28519d9"
       ],
       "layout": "IPY_MODEL_4ded6f0e10d44e918caea6634ec2fab5"
      }
     },
     "bda0bf5780334cc294b54dd95d1ad3fd": {
      "model_module": "@jupyter-widgets/base",
      "model_module_version": "1.2.0",
      "model_name": "LayoutModel",
      "state": {}
     },
     "bda7f707a43f4e20861d87f28a419e4a": {
      "model_module": "@jupyter-widgets/controls",
      "model_module_version": "1.5.0",
      "model_name": "FloatTextModel",
      "state": {
       "description": "min",
       "layout": "IPY_MODEL_8f6f200a9dd741ac804162aa7fea3943",
       "step": null,
       "style": "IPY_MODEL_898355a66cbc459ba97285702f3bd65c",
       "value": 0.01
      }
     },
     "bdaca1a7ffe740419604d77cc687c673": {
      "model_module": "@jupyter-widgets/controls",
      "model_module_version": "1.5.0",
      "model_name": "BoundedIntTextModel",
      "state": {
       "description": "step",
       "layout": "IPY_MODEL_e9a28764da86462989ec78c491d605f4",
       "min": 1,
       "style": "IPY_MODEL_01e77f3ba36546da9016bf31ea6782b3",
       "value": 1
      }
     },
     "bdb41a94c2ae42e29d602a43de19b7e5": {
      "model_module": "@jupyter-widgets/controls",
      "model_module_version": "1.5.0",
      "model_name": "TextModel",
      "state": {
       "continuous_update": false,
       "description": "name",
       "layout": "IPY_MODEL_b0640f81165841e19fa32c937422c2a4",
       "style": "IPY_MODEL_64988f0b5e374ed49f93bfb333503a97",
       "value": "color_2"
      }
     },
     "bdd6729505774d588d05868cb7919c90": {
      "model_module": "@jupyter-widgets/controls",
      "model_module_version": "1.5.0",
      "model_name": "TextModel",
      "state": {
       "continuous_update": false,
       "description": "name",
       "layout": "IPY_MODEL_b91214a0c6054504a3947fa034b9ca06",
       "style": "IPY_MODEL_fddcfcc5c09443beb47c1e41084c0dc9",
       "value": "color_1"
      }
     },
     "bdff796d4d1c463e98be79ce4c9263ae": {
      "model_module": "@jupyter-widgets/controls",
      "model_module_version": "1.5.0",
      "model_name": "IntSliderModel",
      "state": {
       "description": "value",
       "layout": "IPY_MODEL_ee361a77d4824d0090d2e6da39e424c3",
       "max": 10,
       "min": 1,
       "style": "IPY_MODEL_d2b38160a90f4cd990c20f241d313f47",
       "value": 2
      }
     },
     "be32dc92ecd64abcb793bf8183527506": {
      "model_module": "@jupyter-widgets/controls",
      "model_module_version": "1.5.0",
      "model_name": "IntTextModel",
      "state": {
       "description": "max",
       "layout": "IPY_MODEL_35010fbf5ea3493e9cbc7122e28e5c50",
       "step": 1,
       "style": "IPY_MODEL_bb5cb6be24e84a2f9a01b764426581ca",
       "value": 10
      }
     },
     "be607878d70f429fb4aabbe48e3cd7e8": {
      "model_module": "@jupyter-widgets/controls",
      "model_module_version": "1.5.0",
      "model_name": "ButtonModel",
      "state": {
       "description": "Delete",
       "layout": "IPY_MODEL_97f580382c1d48bbb5becd2c31670cc3",
       "style": "IPY_MODEL_4be148f1dade41df8aa2d9133a1bbff0"
      }
     },
     "be9b24ff08554d7997be29d68bd63a62": {
      "model_module": "@jupyter-widgets/base",
      "model_module_version": "1.2.0",
      "model_name": "LayoutModel",
      "state": {
       "margin": "20px 0px"
      }
     },
     "becba79366b5420a8c53ba83c460bc64": {
      "model_module": "@jupyter-widgets/controls",
      "model_module_version": "1.5.0",
      "model_name": "SliderStyleModel",
      "state": {
       "description_width": ""
      }
     },
     "bed3960f239c45c989041abe69ed15fd": {
      "model_module": "@jupyter-widgets/controls",
      "model_module_version": "1.5.0",
      "model_name": "SliderStyleModel",
      "state": {
       "description_width": ""
      }
     },
     "beffbb3f77dd4d94aef20d7baaf0b0b4": {
      "model_module": "@jupyter-widgets/controls",
      "model_module_version": "1.5.0",
      "model_name": "HBoxModel",
      "state": {
       "children": [
        "IPY_MODEL_29d3147695a947d7b6e87a4ef6e81299",
        "IPY_MODEL_e3071eba15a74f3fb224da653c0acb19",
        "IPY_MODEL_671a0c1d002f4c0797ca8a6ade723793"
       ],
       "layout": "IPY_MODEL_f6b8371c97d6438d81a54fc86fdfb536"
      }
     },
     "bf235c94995349428ea2e10535856d69": {
      "model_module": "@jupyter-widgets/base",
      "model_module_version": "1.2.0",
      "model_name": "LayoutModel",
      "state": {}
     },
     "bf2939e8c5d94e33badfeac8e600c7c9": {
      "model_module": "@jupyter-widgets/controls",
      "model_module_version": "1.5.0",
      "model_name": "SliderStyleModel",
      "state": {
       "description_width": ""
      }
     },
     "bf6afae350cf4c75abb82cfc7b68b427": {
      "model_module": "@jupyter-widgets/base",
      "model_module_version": "1.2.0",
      "model_name": "LayoutModel",
      "state": {}
     },
     "bf7f053bdf694d5d97ee1d55a9c94740": {
      "model_module": "@jupyter-widgets/controls",
      "model_module_version": "1.5.0",
      "model_name": "FloatSliderModel",
      "state": {
       "description": "value",
       "layout": "IPY_MODEL_872a1a061232412ca2b86a3ac2ee98b2",
       "max": 0.1,
       "min": 0.01,
       "step": 0.01,
       "style": "IPY_MODEL_5c821de64974411380cc532f054b3700",
       "value": 0.02
      }
     },
     "bf8c52c6349d45b7bd06b4eca76e2cbb": {
      "model_module": "@jupyter-widgets/controls",
      "model_module_version": "1.5.0",
      "model_name": "DescriptionStyleModel",
      "state": {
       "description_width": ""
      }
     },
     "bf9041858b814903a58aa446f72e476b": {
      "model_module": "@jupyter-widgets/base",
      "model_module_version": "1.2.0",
      "model_name": "LayoutModel",
      "state": {}
     },
     "bf95968a03ca41a0a35c4849e88e5a39": {
      "model_module": "@jupyter-widgets/base",
      "model_module_version": "1.2.0",
      "model_name": "LayoutModel",
      "state": {}
     },
     "bf9950bb98a24547bdb444bd6d822fa9": {
      "model_module": "@jupyter-widgets/base",
      "model_module_version": "1.2.0",
      "model_name": "LayoutModel",
      "state": {}
     },
     "bfa18b0f774b4adcb58dd18072b212e7": {
      "model_module": "@jupyter-widgets/controls",
      "model_module_version": "1.5.0",
      "model_name": "TabModel",
      "state": {
       "layout": "IPY_MODEL_aea1d0cbebf84d70ad94fd9b58353cdc"
      }
     },
     "bfaae4b39100470dae3b22b4727ea927": {
      "model_module": "@jupyter-widgets/base",
      "model_module_version": "1.2.0",
      "model_name": "LayoutModel",
      "state": {}
     },
     "bfe567c9819d4bdd84a22fb6e9490570": {
      "model_module": "@jupyter-widgets/controls",
      "model_module_version": "1.5.0",
      "model_name": "DropdownModel",
      "state": {
       "_options_labels": [
        "Color"
       ],
       "index": 0,
       "layout": "IPY_MODEL_d2261bba28f74ddbb698ad360fb1fd47",
       "style": "IPY_MODEL_68d4d32522324167853f19a5446c3d0c"
      }
     },
     "bfebe2c916cd4f94ba35b732dbd68fc0": {
      "model_module": "@jupyter-widgets/controls",
      "model_module_version": "1.5.0",
      "model_name": "BoundedIntTextModel",
      "state": {
       "description": "index",
       "layout": "IPY_MODEL_a9baac29908349669249c48305c9d374",
       "style": "IPY_MODEL_94e25902e4724aa0a4d73938e6e56102",
       "value": 3
      }
     },
     "bfebed0daad143708203e46686ecbbaf": {
      "model_module": "@jupyter-widgets/controls",
      "model_module_version": "1.5.0",
      "model_name": "ButtonModel",
      "state": {
       "description": "Delete",
       "layout": "IPY_MODEL_0acfab254b3a4c1989d616fabd521d5a",
       "style": "IPY_MODEL_d58bfb8653ba4ad4b40f998f0e98a696"
      }
     },
     "c017faf3374c49f2a7f2173c394bb4b5": {
      "model_module": "@jupyter-widgets/controls",
      "model_module_version": "1.5.0",
      "model_name": "IntSliderModel",
      "state": {
       "description": "value",
       "layout": "IPY_MODEL_9ce783ec3f44497c8f06f6875c974f8b",
       "max": 10,
       "min": 1,
       "style": "IPY_MODEL_7d5bfc8e9e2e4f8384bba4411ca671f6",
       "value": 2
      }
     },
     "c025bae705654e3e8fd0e50a76ef051a": {
      "model_module": "@jupyter-widgets/controls",
      "model_module_version": "1.5.0",
      "model_name": "FloatSliderModel",
      "state": {
       "description": "transparency",
       "layout": "IPY_MODEL_511f522ccc434249ad645dd21f6efcf8",
       "max": 1,
       "step": 0.1,
       "style": "IPY_MODEL_7f8475ed0c08474794060b94cee35a9a"
      }
     },
     "c02e8c51acb34c9b8b213918ea70a048": {
      "model_module": "@jupyter-widgets/controls",
      "model_module_version": "1.5.0",
      "model_name": "ColorPickerModel",
      "state": {
       "description": "ambient",
       "disabled": false,
       "layout": "IPY_MODEL_c71ea082e11e407881eae565b120a4eb",
       "style": "IPY_MODEL_1d0f39de364f42fca2ee489b0ac61eaa",
       "value": "#e1a014"
      }
     },
     "c045ea0a6e574fee9cb72240ae282111": {
      "model_module": "pgljupyter",
      "model_module_version": "^0.1.15",
      "model_name": "IntEditorModel",
      "state": {
       "_model_module_version": "^0.1.15",
       "_view_module_version": "^0.1.15",
       "children": [
        "IPY_MODEL_1ef64fa92ef846b48fec4ed93a3e0e2d",
        "IPY_MODEL_a15ec5c9e1e940f2b66d7ec3e2c6b27c",
        "IPY_MODEL_502fc0257664489ca57463b9f0891d19",
        "IPY_MODEL_128f91d47bf648dbb677701003fe8c5d",
        "IPY_MODEL_3cea4d05264f4dbabd9379e5ebe7999e"
       ],
       "layout": "IPY_MODEL_54b84ad583044a479b5c2ead83e9b590"
      }
     },
     "c04bb9ece02a4264a46297bbe97a5744": {
      "model_module": "@jupyter-widgets/controls",
      "model_module_version": "1.5.0",
      "model_name": "DescriptionStyleModel",
      "state": {
       "description_width": ""
      }
     },
     "c057446521834fda9bf45c6084e8f55f": {
      "model_module": "@jupyter-widgets/base",
      "model_module_version": "1.2.0",
      "model_name": "LayoutModel",
      "state": {}
     },
     "c0916f5a0946411c9908967b1e233df2": {
      "model_module": "@jupyter-widgets/base",
      "model_module_version": "1.2.0",
      "model_name": "LayoutModel",
      "state": {}
     },
     "c093b97b12b746008d103f1518ae45cd": {
      "model_module": "pgljupyter",
      "model_module_version": "^0.1.15",
      "model_name": "FloatEditorModel",
      "state": {
       "_model_module_version": "^0.1.15",
       "_view_module_version": "^0.1.15",
       "children": [
        "IPY_MODEL_83d7b86e973542519d6227d6627a1f24",
        "IPY_MODEL_c8dca327c4774628aef62c0fd7ccd439",
        "IPY_MODEL_c579b1759bdb4b61a9c98aab238009fe",
        "IPY_MODEL_aaf44ccfe11a475080cbf66f9f2f4a8e",
        "IPY_MODEL_4715df1b0b834bf098b71011425a052b"
       ],
       "layout": "IPY_MODEL_a2abd3ec2fca4609bcee49dddfbc868d"
      }
     },
     "c09ac5f419df40aa9d1c27db2f5b8fe2": {
      "model_module": "@jupyter-widgets/base",
      "model_module_version": "1.2.0",
      "model_name": "LayoutModel",
      "state": {}
     },
     "c0a0b6ba4761420fa5e80e161bdb896d": {
      "model_module": "@jupyter-widgets/base",
      "model_module_version": "1.2.0",
      "model_name": "LayoutModel",
      "state": {}
     },
     "c0f4f90eb6b24c6c84973b9bd9db179d": {
      "model_module": "@jupyter-widgets/base",
      "model_module_version": "1.2.0",
      "model_name": "LayoutModel",
      "state": {}
     },
     "c0fbb256fc224c9aba81c3735c246735": {
      "model_module": "@jupyter-widgets/controls",
      "model_module_version": "1.5.0",
      "model_name": "ColorPickerModel",
      "state": {
       "description": "emission",
       "disabled": false,
       "layout": "IPY_MODEL_de40add93b8a4b35b57878f54f78831a",
       "style": "IPY_MODEL_94ac578565f043d688bf9cd62d6d8553",
       "value": "#1f48db"
      }
     },
     "c1075cacaa5f496c9da35abb6ef955f8": {
      "model_module": "@jupyter-widgets/base",
      "model_module_version": "1.2.0",
      "model_name": "LayoutModel",
      "state": {}
     },
     "c1116c71e9014c2eaad9ce73d9a71d81": {
      "model_module": "@jupyter-widgets/controls",
      "model_module_version": "1.5.0",
      "model_name": "SliderStyleModel",
      "state": {
       "description_width": ""
      }
     },
     "c120cfee4a0c40ea8c50d6a043297475": {
      "model_module": "@jupyter-widgets/controls",
      "model_module_version": "1.5.0",
      "model_name": "DescriptionStyleModel",
      "state": {
       "description_width": ""
      }
     },
     "c13f341ad092459384f2c9ee63f72ecf": {
      "model_module": "@jupyter-widgets/controls",
      "model_module_version": "1.5.0",
      "model_name": "SliderStyleModel",
      "state": {
       "description_width": ""
      }
     },
     "c14b7af0f5dd4f9ab3cc35a9918c0542": {
      "model_module": "@jupyter-widgets/controls",
      "model_module_version": "1.5.0",
      "model_name": "DescriptionStyleModel",
      "state": {
       "description_width": ""
      }
     },
     "c14e13ed098c4bf6850d070eab738e5e": {
      "model_module": "@jupyter-widgets/controls",
      "model_module_version": "1.5.0",
      "model_name": "SliderStyleModel",
      "state": {
       "description_width": ""
      }
     },
     "c16082e6d3a645f7b19cfe14354458e0": {
      "model_module": "@jupyter-widgets/base",
      "model_module_version": "1.2.0",
      "model_name": "LayoutModel",
      "state": {}
     },
     "c19ba1d02b874e30b0117e9a6459e5d3": {
      "model_module": "pgljupyter",
      "model_module_version": "^0.1.15",
      "model_name": "IntEditorModel",
      "state": {
       "_model_module_version": "^0.1.15",
       "_view_module_version": "^0.1.15",
       "children": [
        "IPY_MODEL_4582f038b2014974a160502d5dbeaf9d",
        "IPY_MODEL_cb9753792ecd4e86867efea2e0b84d64",
        "IPY_MODEL_c971b518ed994a17abe4aa40fc59ef1e",
        "IPY_MODEL_b68eb2858dea4541b4543e7f82a86952",
        "IPY_MODEL_177cde17762546bcb143df6017c2bd65"
       ],
       "layout": "IPY_MODEL_79f69624a792402dbdf38b37ead2de78"
      }
     },
     "c1ab926bf0374e5bab8c14b9771dedb9": {
      "model_module": "@jupyter-widgets/controls",
      "model_module_version": "1.5.0",
      "model_name": "FloatTextModel",
      "state": {
       "description": "max",
       "layout": "IPY_MODEL_66e96d5e03764a128d2728ad231c0fbf",
       "step": null,
       "style": "IPY_MODEL_e295311571c847198be6ba0736a5c38f",
       "value": 0.1
      }
     },
     "c1e7f4bdc13c4456b991d269e33bdbb6": {
      "model_module": "@jupyter-widgets/controls",
      "model_module_version": "1.5.0",
      "model_name": "DescriptionStyleModel",
      "state": {
       "description_width": ""
      }
     },
     "c2003da65dea4a289b43039e5a8549af": {
      "model_module": "pgljupyter",
      "model_module_version": "^0.1.2",
      "model_name": "IntEditorModel",
      "state": {
       "_model_module_version": "^0.1.2",
       "_view_module_version": "^0.1.2",
       "children": [
        "IPY_MODEL_3bce6b106d9847ae81d706f5a7c75510",
        "IPY_MODEL_aca6b402cb5e487192c6f29eaf19b583",
        "IPY_MODEL_7c66b5d7e49e46b4af1106c7070d7f40",
        "IPY_MODEL_dc97f2b89053407e94e886a87cb5eb6b",
        "IPY_MODEL_39c02487d7c242b79297781e711e63fb"
       ],
       "layout": "IPY_MODEL_d5ae3967657a47518c7f4f1765127239"
      }
     },
     "c2114085ac424d39b17282ed0dcbc9ce": {
      "model_module": "@jupyter-widgets/controls",
      "model_module_version": "1.5.0",
      "model_name": "DescriptionStyleModel",
      "state": {
       "description_width": ""
      }
     },
     "c22f5ce3fb8c4a0d8b37bd1b2e428352": {
      "buffers": [
       {
        "data": "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",
        "encoding": "base64",
        "path": [
         "scene",
         "data"
        ]
       }
      ],
      "model_module": "pgljupyter",
      "model_module_version": "^0.1.15",
      "model_name": "LsystemWidgetModel",
      "state": {
       "_model_module_version": "^0.1.15",
       "_view_module_version": "^0.1.15",
       "axes_helper": false,
       "derivationLength": 41,
       "layout": "IPY_MODEL_6c8f46368fb049cd93f5bb84e0359711",
       "light_helper": false,
       "plane": true,
       "scene": {
        "derivationStep": 40,
        "id": 40,
        "scene": "<openalea.plantgl.scenegraph._pglsg.Scene object at 0x7f254522f530>"
       },
       "size_display": [
        400,
        400
       ],
       "size_world": 50
      }
     },
     "c23008d679574da89dc26ec437607d60": {
      "model_module": "@jupyter-widgets/controls",
      "model_module_version": "1.5.0",
      "model_name": "TextModel",
      "state": {
       "continuous_update": false,
       "description": "name",
       "layout": "IPY_MODEL_89b6301374784af2ad12bd1f64c5bd4e",
       "style": "IPY_MODEL_23525fafaf2245ed86b04e8247b95a24",
       "value": "nb_axes"
      }
     },
     "c254b77e53f94f28a27b56e3c2dfc626": {
      "model_module": "@jupyter-widgets/controls",
      "model_module_version": "1.5.0",
      "model_name": "DescriptionStyleModel",
      "state": {
       "description_width": ""
      }
     },
     "c25b4590b0ae444281e4de1577dba820": {
      "model_module": "@jupyter-widgets/controls",
      "model_module_version": "1.5.0",
      "model_name": "HBoxModel",
      "state": {
       "children": [
        "IPY_MODEL_15897f39c9c241c994c93955c340fb6b",
        "IPY_MODEL_949b9f6b0655431baaa842ca0fba7158",
        "IPY_MODEL_9a65dcb16d534e78b9be4268f18e0189",
        "IPY_MODEL_77d9a753e60f49d284845127d2f81ee7"
       ],
       "layout": "IPY_MODEL_f56daa410ee44854874b448e60b2c3c9"
      }
     },
     "c27317c83cbe4275a1d3c9a07f6a58b5": {
      "model_module": "@jupyter-widgets/controls",
      "model_module_version": "1.5.0",
      "model_name": "SliderStyleModel",
      "state": {
       "description_width": ""
      }
     },
     "c27684b431c64324ace0242ba7aed294": {
      "model_module": "@jupyter-widgets/base",
      "model_module_version": "1.2.0",
      "model_name": "LayoutModel",
      "state": {}
     },
     "c27b4929616a4cc9afc6b2486b6203ab": {
      "model_module": "@jupyter-widgets/base",
      "model_module_version": "1.2.0",
      "model_name": "LayoutModel",
      "state": {}
     },
     "c2a5dd075265401189b7b6fd47c34c17": {
      "model_module": "@jupyter-widgets/controls",
      "model_module_version": "1.5.0",
      "model_name": "FloatTextModel",
      "state": {
       "description": "max",
       "layout": "IPY_MODEL_95eef6992b7847359034cb5d069ebfa2",
       "step": null,
       "style": "IPY_MODEL_5a27be4bb9c048a2bb54f5eb48c09787",
       "value": 0.1
      }
     },
     "c2aaeb4db7fb4ab18acbf54b13800b48": {
      "model_module": "@jupyter-widgets/base",
      "model_module_version": "1.2.0",
      "model_name": "LayoutModel",
      "state": {}
     },
     "c2c55fe42be74718bb320fed9bf1fdd6": {
      "model_module": "@jupyter-widgets/base",
      "model_module_version": "1.2.0",
      "model_name": "LayoutModel",
      "state": {
       "flex_flow": "row wrap"
      }
     },
     "c2ce09edde6e4e3ca2bd4250c827a441": {
      "model_module": "@jupyter-widgets/controls",
      "model_module_version": "1.5.0",
      "model_name": "FloatSliderModel",
      "state": {
       "description": "diffuse",
       "layout": "IPY_MODEL_da9404d5d45342f59651013fc4d315cc",
       "max": 3,
       "step": 0.1,
       "style": "IPY_MODEL_ab069354bb214619b4497523c36e7456",
       "value": 1
      }
     },
     "c2d5788df88a4bffa01ec27cdf0aec8e": {
      "model_module": "@jupyter-widgets/controls",
      "model_module_version": "1.5.0",
      "model_name": "BoundedIntTextModel",
      "state": {
       "description": "index",
       "layout": "IPY_MODEL_07be53bbb9d944eabc52ffbee52e5bac",
       "style": "IPY_MODEL_eb2e69115216423890bbf2deae806d03",
       "value": 4
      }
     },
     "c2f2d37ab5a2472baa131ece956b5501": {
      "model_module": "@jupyter-widgets/controls",
      "model_module_version": "1.5.0",
      "model_name": "DescriptionStyleModel",
      "state": {
       "description_width": ""
      }
     },
     "c2f52039c5e94671870caf9530fd4b32": {
      "model_module": "@jupyter-widgets/base",
      "model_module_version": "1.2.0",
      "model_name": "LayoutModel",
      "state": {}
     },
     "c3416d5695684eee827d3fa2904cd093": {
      "model_module": "@jupyter-widgets/controls",
      "model_module_version": "1.5.0",
      "model_name": "DescriptionStyleModel",
      "state": {
       "description_width": ""
      }
     },
     "c3417a7d05fe42e69a6cad29a8dc60b6": {
      "model_module": "@jupyter-widgets/base",
      "model_module_version": "1.2.0",
      "model_name": "LayoutModel",
      "state": {}
     },
     "c35bce4db29d40f19ea650dcbe5590ed": {
      "model_module": "@jupyter-widgets/controls",
      "model_module_version": "1.5.0",
      "model_name": "BoundedIntTextModel",
      "state": {
       "description": "index",
       "layout": "IPY_MODEL_321e172e448a43c4a8b78c52972eaf6e",
       "style": "IPY_MODEL_4d2ec917d4624cc58fc5820d4c7f238b",
       "value": 1
      }
     },
     "c35deb0d32c14e22aa1a65baa1a7913e": {
      "model_module": "@jupyter-widgets/base",
      "model_module_version": "1.2.0",
      "model_name": "LayoutModel",
      "state": {}
     },
     "c364d57ad62144c597636d4d7ea2924a": {
      "model_module": "@jupyter-widgets/base",
      "model_module_version": "1.2.0",
      "model_name": "LayoutModel",
      "state": {}
     },
     "c3737459de684a5d85dbac7589a486e2": {
      "model_module": "@jupyter-widgets/base",
      "model_module_version": "1.2.0",
      "model_name": "LayoutModel",
      "state": {}
     },
     "c38f18c5852b410b9ca5057a1a6d512c": {
      "model_module": "@jupyter-widgets/controls",
      "model_module_version": "1.5.0",
      "model_name": "DescriptionStyleModel",
      "state": {
       "description_width": ""
      }
     },
     "c3adb797a20341a3acbdfcff67be93eb": {
      "model_module": "@jupyter-widgets/base",
      "model_module_version": "1.2.0",
      "model_name": "LayoutModel",
      "state": {}
     },
     "c3bb6e2e3a964b54bae4688c732ce7f1": {
      "model_module": "@jupyter-widgets/controls",
      "model_module_version": "1.5.0",
      "model_name": "DescriptionStyleModel",
      "state": {
       "description_width": ""
      }
     },
     "c3bc80a9a77b4b0092ea7f621e786a19": {
      "model_module": "@jupyter-widgets/controls",
      "model_module_version": "1.5.0",
      "model_name": "DescriptionStyleModel",
      "state": {
       "description_width": ""
      }
     },
     "c3d84a4110fe40599578882c9599c41f": {
      "model_module": "@jupyter-widgets/base",
      "model_module_version": "1.2.0",
      "model_name": "LayoutModel",
      "state": {}
     },
     "c3e606921e3541b182127b4a5dc44b20": {
      "model_module": "@jupyter-widgets/controls",
      "model_module_version": "1.5.0",
      "model_name": "BoundedIntTextModel",
      "state": {
       "description": "step",
       "layout": "IPY_MODEL_4944abeee5e845109317d2a65436e81b",
       "min": 1,
       "style": "IPY_MODEL_f2f138d092e349ff9f1591f7b5cb6e5c",
       "value": 1
      }
     },
     "c3efd574ad8847a59f4ac4729385aed9": {
      "model_module": "@jupyter-widgets/controls",
      "model_module_version": "1.5.0",
      "model_name": "ColorPickerModel",
      "state": {
       "description": "specular",
       "disabled": false,
       "layout": "IPY_MODEL_e6f811646f71496a9bc1332ef63bb6fa",
       "style": "IPY_MODEL_8e77588d968a4b249de499478881d35b",
       "value": "#282828"
      }
     },
     "c3ff6d394da043618f2964a7032c2178": {
      "model_module": "@jupyter-widgets/controls",
      "model_module_version": "1.5.0",
      "model_name": "HBoxModel",
      "state": {
       "children": [
        "IPY_MODEL_dd8f3f0b92cf451cb2bcd0943c9f343e",
        "IPY_MODEL_3225d5f5245a46d19fe4fbe117cfd05a",
        "IPY_MODEL_ddfa585acc054f87a20eb6fbdd7f0ffd",
        "IPY_MODEL_b31bd99a0d854bcc8d07ba07dd80bc78",
        "IPY_MODEL_1b36967ea1ad4834bc71752da9fa19d1"
       ],
       "layout": "IPY_MODEL_d01d509395ce42ef85936a42ffd78529"
      }
     },
     "c40d91bd421049d38bc8e192e39e9122": {
      "model_module": "@jupyter-widgets/base",
      "model_module_version": "1.2.0",
      "model_name": "LayoutModel",
      "state": {}
     },
     "c4426b210bc545edbd3b739bedb1a427": {
      "model_module": "@jupyter-widgets/controls",
      "model_module_version": "1.5.0",
      "model_name": "FloatSliderModel",
      "state": {
       "description": "transparency",
       "layout": "IPY_MODEL_4ac56b5ed832493daf1b1c6ea2307ae4",
       "max": 1,
       "step": 0.1,
       "style": "IPY_MODEL_72690964c2d542f989364ef1807c14c7"
      }
     },
     "c46c96224a2c4453bc909a37698703a4": {
      "model_module": "@jupyter-widgets/controls",
      "model_module_version": "1.5.0",
      "model_name": "TextModel",
      "state": {
       "continuous_update": false,
       "description": "name",
       "layout": "IPY_MODEL_bf95968a03ca41a0a35c4849e88e5a39",
       "style": "IPY_MODEL_65bdf3a7d2c248919a89fc3a98dfb617",
       "value": "color_1"
      }
     },
     "c46f5ff856fd462f9aa4c788ae2e855f": {
      "model_module": "pgljupyter",
      "model_module_version": "^0.1.2",
      "model_name": "MaterialEditorModel",
      "state": {
       "_model_module_version": "^0.1.2",
       "_view_module_version": "^0.1.2",
       "children": [
        "IPY_MODEL_bdb41a94c2ae42e29d602a43de19b7e5",
        "IPY_MODEL_db99c174f80c4e11afb1a06e36228357",
        "IPY_MODEL_d934065c2df0404c8065622ee241dd96",
        "IPY_MODEL_acc99657a447459fb7ad63d61ff18c6d",
        "IPY_MODEL_f185c916dcb14fa48e134838b90ee266",
        "IPY_MODEL_55e50482ddd14ec08b2e2699040ec3a6",
        "IPY_MODEL_e38a5927e6934a1eb8de6edff55adc76",
        "IPY_MODEL_e9a9f6fca3b84589a232b1138b72fa62"
       ],
       "layout": "IPY_MODEL_3bccb846b4df4907997b93fed3c1a495"
      }
     },
     "c4b619d3bd944779b7f7722cb12920fb": {
      "model_module": "@jupyter-widgets/controls",
      "model_module_version": "1.5.0",
      "model_name": "DescriptionStyleModel",
      "state": {
       "description_width": ""
      }
     },
     "c4e9c941f22141baa6941a4cac591ea8": {
      "model_module": "@jupyter-widgets/controls",
      "model_module_version": "1.5.0",
      "model_name": "DescriptionStyleModel",
      "state": {
       "description_width": ""
      }
     },
     "c4f4ce9c644b420c86ca6e069b2aa63c": {
      "model_module": "@jupyter-widgets/controls",
      "model_module_version": "1.5.0",
      "model_name": "IntSliderModel",
      "state": {
       "description": "value",
       "layout": "IPY_MODEL_9ec36ca54cbe40d8b97fcb364a821f9c",
       "max": 7,
       "min": 1,
       "style": "IPY_MODEL_24722c8f0c85407d896c4e19854d6751",
       "value": 3
      }
     },
     "c5040cfaa88648f8b0b6678f5fcac0f7": {
      "model_module": "@jupyter-widgets/controls",
      "model_module_version": "1.5.0",
      "model_name": "DescriptionStyleModel",
      "state": {
       "description_width": ""
      }
     },
     "c52577bffe0f49609cd040959ba01617": {
      "model_module": "@jupyter-widgets/controls",
      "model_module_version": "1.5.0",
      "model_name": "FloatTextModel",
      "state": {
       "description": "min",
       "layout": "IPY_MODEL_d3bce69b896a4632abd986c9aaad2c7b",
       "step": null,
       "style": "IPY_MODEL_39b6cee9b96e43b683aa3b0b8d201361",
       "value": 0.01
      }
     },
     "c55c011e738a41e3bfd9ff758ced3850": {
      "model_module": "@jupyter-widgets/base",
      "model_module_version": "1.2.0",
      "model_name": "LayoutModel",
      "state": {
       "margin": "20px 0px"
      }
     },
     "c579b1759bdb4b61a9c98aab238009fe": {
      "model_module": "@jupyter-widgets/controls",
      "model_module_version": "1.5.0",
      "model_name": "FloatTextModel",
      "state": {
       "description": "min",
       "layout": "IPY_MODEL_9a73cdea2faf406f84e9aada3788b63e",
       "step": null,
       "style": "IPY_MODEL_4acc7b98a51f43498f9bddac5e91d64d",
       "value": 0.01
      }
     },
     "c580a4d8ab98468a9d0492ff60aa2379": {
      "model_module": "@jupyter-widgets/controls",
      "model_module_version": "1.5.0",
      "model_name": "TextModel",
      "state": {
       "continuous_update": false,
       "description": "name",
       "layout": "IPY_MODEL_952fbb7f027f4f5d9239e048df0be058",
       "style": "IPY_MODEL_024a1bedd40241b69d18bf5622dad7ab",
       "value": "leafduration"
      }
     },
     "c5886624cf4143238389455d0d2bb963": {
      "model_module": "@jupyter-widgets/base",
      "model_module_version": "1.2.0",
      "model_name": "LayoutModel",
      "state": {}
     },
     "c5ed3c7a721e4e818c8d622ff9e795f8": {
      "model_module": "@jupyter-widgets/controls",
      "model_module_version": "1.5.0",
      "model_name": "DescriptionStyleModel",
      "state": {
       "description_width": ""
      }
     },
     "c5f1bf80981a4895b92f6fc2fecafac2": {
      "model_module": "@jupyter-widgets/controls",
      "model_module_version": "1.5.0",
      "model_name": "HBoxModel",
      "state": {
       "layout": "IPY_MODEL_bb156c39f7374a1b9165dded955416f5"
      }
     },
     "c6335a0511b842129859372124e60a0d": {
      "model_module": "@jupyter-widgets/base",
      "model_module_version": "1.2.0",
      "model_name": "LayoutModel",
      "state": {}
     },
     "c645f0ca552c4eb6937cd767d2e42b1f": {
      "model_module": "@jupyter-widgets/base",
      "model_module_version": "1.2.0",
      "model_name": "LayoutModel",
      "state": {}
     },
     "c66dd1f8649e4afe9c667c49135f0bb8": {
      "model_module": "@jupyter-widgets/controls",
      "model_module_version": "1.5.0",
      "model_name": "TextModel",
      "state": {
       "continuous_update": false,
       "description": "name",
       "layout": "IPY_MODEL_eaab227e7cbe45788ad1bca396e9f0d4",
       "style": "IPY_MODEL_f7895d6d86cb4e638e1bd75e543ce840",
       "value": "leafduration"
      }
     },
     "c67c734b0758494aac08caae5fd90d3d": {
      "model_module": "@jupyter-widgets/base",
      "model_module_version": "1.2.0",
      "model_name": "LayoutModel",
      "state": {}
     },
     "c68e18b7abbf42d491025817e12ebeb3": {
      "model_module": "@jupyter-widgets/base",
      "model_module_version": "1.2.0",
      "model_name": "LayoutModel",
      "state": {}
     },
     "c6a2f506d2404d8088d464eb5aac551f": {
      "model_module": "@jupyter-widgets/controls",
      "model_module_version": "1.5.0",
      "model_name": "HBoxModel",
      "state": {
       "children": [
        "IPY_MODEL_7047220ba1fd43f9b2dfff397b099bdc"
       ],
       "layout": "IPY_MODEL_1aaed1264b7e4af38e5dfa20e770f4aa"
      }
     },
     "c6a312a270f14428b4ad614b9369cd85": {
      "model_module": "@jupyter-widgets/controls",
      "model_module_version": "1.5.0",
      "model_name": "DropdownModel",
      "state": {
       "_options_labels": [
        "color_1",
        "color_2",
        "color_4"
       ],
       "index": 0,
       "layout": "IPY_MODEL_8732af9403aa4f6ca1b7e62ca4e29c09",
       "style": "IPY_MODEL_7603ec0ea97040b8b5273ff4abfa9ec8"
      }
     },
     "c6ad612c926543f7b21ea0b593cf326e": {
      "model_module": "@jupyter-widgets/base",
      "model_module_version": "1.2.0",
      "model_name": "LayoutModel",
      "state": {}
     },
     "c6c38b9699364b648e6e76560766896f": {
      "model_module": "@jupyter-widgets/controls",
      "model_module_version": "1.5.0",
      "model_name": "HBoxModel",
      "state": {
       "children": [
        "IPY_MODEL_f7eed8321fe64ad6a15c126052b79807",
        "IPY_MODEL_bfe567c9819d4bdd84a22fb6e9490570"
       ],
       "layout": "IPY_MODEL_bfaae4b39100470dae3b22b4727ea927"
      }
     },
     "c6e6800976414b14a781411c13bda491": {
      "model_module": "@jupyter-widgets/base",
      "model_module_version": "1.2.0",
      "model_name": "LayoutModel",
      "state": {}
     },
     "c6fa05055ebe4ca88351d49c8f65e6b2": {
      "model_module": "@jupyter-widgets/base",
      "model_module_version": "1.2.0",
      "model_name": "LayoutModel",
      "state": {}
     },
     "c6ff09a6e9d847ac858da09d3835cffa": {
      "model_module": "@jupyter-widgets/base",
      "model_module_version": "1.2.0",
      "model_name": "LayoutModel",
      "state": {}
     },
     "c71ea082e11e407881eae565b120a4eb": {
      "model_module": "@jupyter-widgets/base",
      "model_module_version": "1.2.0",
      "model_name": "LayoutModel",
      "state": {}
     },
     "c76dfa561cce45a496716cfb3a9a1785": {
      "model_module": "pgljupyter",
      "model_module_version": "^0.1.15",
      "model_name": "IntEditorModel",
      "state": {
       "_model_module_version": "^0.1.15",
       "_view_module_version": "^0.1.15",
       "children": [
        "IPY_MODEL_cbfa9e8726e44ff6a2bc04d0a564e979",
        "IPY_MODEL_54ad9817393e4b169df1b27457d4020f",
        "IPY_MODEL_7c5a4939c76b4d36b39af71d91193c9c",
        "IPY_MODEL_3038736efee74002846c2587a995dfac",
        "IPY_MODEL_86c5f3b7d3e0490e9bd4a6de2a87d9bf"
       ],
       "layout": "IPY_MODEL_d0d2cdbb1c684dc7a15ef80b87f68bfd"
      }
     },
     "c77747e99e2248869202f774aa46d72e": {
      "model_module": "@jupyter-widgets/controls",
      "model_module_version": "1.5.0",
      "model_name": "SliderStyleModel",
      "state": {
       "description_width": ""
      }
     },
     "c7a7a50eab4e4e22960d00e9cf2bd872": {
      "model_module": "@jupyter-widgets/base",
      "model_module_version": "1.2.0",
      "model_name": "LayoutModel",
      "state": {}
     },
     "c7c0e4666bd242f7a9f59e8dd06e6176": {
      "model_module": "@jupyter-widgets/base",
      "model_module_version": "1.2.0",
      "model_name": "LayoutModel",
      "state": {}
     },
     "c7e7ff9b699d4abd95ae1ef071326f82": {
      "model_module": "@jupyter-widgets/base",
      "model_module_version": "1.2.0",
      "model_name": "LayoutModel",
      "state": {}
     },
     "c7e96683ccf54521ad82e02910c90b3d": {
      "model_module": "@jupyter-widgets/controls",
      "model_module_version": "1.5.0",
      "model_name": "DescriptionStyleModel",
      "state": {
       "description_width": ""
      }
     },
     "c7fdfd3aef21492c964131a50d3def86": {
      "model_module": "@jupyter-widgets/controls",
      "model_module_version": "1.5.0",
      "model_name": "FloatSliderModel",
      "state": {
       "description": "shininess",
       "layout": "IPY_MODEL_9675bb7133ff49a8b250e10b29a2f905",
       "max": 1,
       "step": 0.1,
       "style": "IPY_MODEL_731640e7f76045109b5a9990c6f50e16",
       "value": 0.2
      }
     },
     "c80db8f4cb9841beba01c1bd2287e051": {
      "model_module": "@jupyter-widgets/controls",
      "model_module_version": "1.5.0",
      "model_name": "ButtonStyleModel",
      "state": {}
     },
     "c858e86399cd448783684aee36ababb6": {
      "model_module": "@jupyter-widgets/controls",
      "model_module_version": "1.5.0",
      "model_name": "IntTextModel",
      "state": {
       "description": "max",
       "layout": "IPY_MODEL_8715186e0e7149e8864eac82b62a522d",
       "step": 1,
       "style": "IPY_MODEL_0a2a346a9e664a96a6f6cb0da81b7342",
       "value": 10
      }
     },
     "c860bd1554b0472c85eb2f103d5645a6": {
      "model_module": "@jupyter-widgets/base",
      "model_module_version": "1.2.0",
      "model_name": "LayoutModel",
      "state": {}
     },
     "c88d821ebcd64c5ca5b75142a3ecf5fb": {
      "model_module": "@jupyter-widgets/controls",
      "model_module_version": "1.5.0",
      "model_name": "IntTextModel",
      "state": {
       "description": "min",
       "layout": "IPY_MODEL_08e8637a13524a9b965cb1f6f184c41c",
       "step": 1,
       "style": "IPY_MODEL_4c435ed771c04737948778a318d5b9c6",
       "value": 1
      }
     },
     "c891e998305749abb83093d677a665e5": {
      "model_module": "@jupyter-widgets/controls",
      "model_module_version": "1.5.0",
      "model_name": "BoundedIntTextModel",
      "state": {
       "description": "index",
       "layout": "IPY_MODEL_d800638cf86c44d2856f075d009e2196",
       "style": "IPY_MODEL_495f10771eef4549898415516d4b7a7a",
       "value": 2
      }
     },
     "c8945ff55f3e4299bc6baee965a89100": {
      "model_module": "@jupyter-widgets/base",
      "model_module_version": "1.2.0",
      "model_name": "LayoutModel",
      "state": {}
     },
     "c8be64049f5843ebac39f11d40e1b397": {
      "model_module": "@jupyter-widgets/base",
      "model_module_version": "1.2.0",
      "model_name": "LayoutModel",
      "state": {}
     },
     "c8dca327c4774628aef62c0fd7ccd439": {
      "model_module": "@jupyter-widgets/controls",
      "model_module_version": "1.5.0",
      "model_name": "FloatSliderModel",
      "state": {
       "description": "value",
       "layout": "IPY_MODEL_74a7a5c1fee64445b64d9944194e45ee",
       "max": 0.1,
       "min": 0.01,
       "step": 0.01,
       "style": "IPY_MODEL_2c70894a80f745f89888ecb61c4430a7",
       "value": 0.02
      }
     },
     "c8f45965b1124a4a90d52cde0a186035": {
      "model_module": "@jupyter-widgets/controls",
      "model_module_version": "1.5.0",
      "model_name": "VBoxModel",
      "state": {
       "children": [
        "IPY_MODEL_50f6ca45ee7c4be8ab97d014e4b3619d",
        "IPY_MODEL_987ee76d11d2433cacbdfd03b1954503"
       ],
       "layout": "IPY_MODEL_343fdbc8ac9046f0be92ef520dcb07c7"
      }
     },
     "c8f7c0c083654692bcaf39f7ed6f4596": {
      "model_module": "@jupyter-widgets/controls",
      "model_module_version": "1.5.0",
      "model_name": "ButtonStyleModel",
      "state": {}
     },
     "c91d82e662a14543b921aa179443c76c": {
      "model_module": "@jupyter-widgets/controls",
      "model_module_version": "1.5.0",
      "model_name": "DropdownModel",
      "state": {
       "_options_labels": [
        "Integer",
        "Float",
        "Bool"
       ],
       "index": 0,
       "layout": "IPY_MODEL_501b6360255940ac87c6c9cbda8af0a2",
       "style": "IPY_MODEL_46417aba5b154cc0812b5f7be9e2e2f9"
      }
     },
     "c93a01e115b54104b8df7ac5949f9bc5": {
      "model_module": "@jupyter-widgets/base",
      "model_module_version": "1.2.0",
      "model_name": "LayoutModel",
      "state": {}
     },
     "c93fac566bbf44a09ddc34c6f6532ae3": {
      "model_module": "@jupyter-widgets/base",
      "model_module_version": "1.2.0",
      "model_name": "LayoutModel",
      "state": {}
     },
     "c9446f7f3a74486bb158aa9b2d79808d": {
      "model_module": "@jupyter-widgets/controls",
      "model_module_version": "1.5.0",
      "model_name": "FloatSliderModel",
      "state": {
       "description": "shininess",
       "layout": "IPY_MODEL_6f25ff80d18b497dab70adf180a22628",
       "max": 1,
       "step": 0.1,
       "style": "IPY_MODEL_f4c2e147e2f4447fbb5155443442850f",
       "value": 0.2
      }
     },
     "c952ec26cc944d2c98b0609f2529feb9": {
      "model_module": "@jupyter-widgets/base",
      "model_module_version": "1.2.0",
      "model_name": "LayoutModel",
      "state": {}
     },
     "c955c4f8ceab4fe6911f95c106cb4893": {
      "model_module": "@jupyter-widgets/base",
      "model_module_version": "1.2.0",
      "model_name": "LayoutModel",
      "state": {
       "margin": "20px 0px"
      }
     },
     "c95cf67e99be4e26a62abb82e9ca131b": {
      "model_module": "@jupyter-widgets/base",
      "model_module_version": "1.2.0",
      "model_name": "LayoutModel",
      "state": {}
     },
     "c961a3a7629a4474841b429fa6de9808": {
      "model_module": "@jupyter-widgets/controls",
      "model_module_version": "1.5.0",
      "model_name": "CheckboxModel",
      "state": {
       "description": "Auto save",
       "disabled": false,
       "layout": "IPY_MODEL_d0d0915bc5b14024959aa9c636b516fc",
       "style": "IPY_MODEL_a10dd2c3e3d64492a8c48c2892026661",
       "value": false
      }
     },
     "c971b518ed994a17abe4aa40fc59ef1e": {
      "model_module": "@jupyter-widgets/controls",
      "model_module_version": "1.5.0",
      "model_name": "IntTextModel",
      "state": {
       "description": "min",
       "layout": "IPY_MODEL_fb6fdce322514387af4f9d06ea315c68",
       "step": 1,
       "style": "IPY_MODEL_05c793cf33424025941cb184db923fea",
       "value": 1
      }
     },
     "c98e790221124b0899117288fd3be6d4": {
      "model_module": "@jupyter-widgets/controls",
      "model_module_version": "1.5.0",
      "model_name": "FloatSliderModel",
      "state": {
       "description": "diffuse",
       "layout": "IPY_MODEL_52a9ecac00494c5ab76f71242d2d11f7",
       "max": 3,
       "step": 0.1,
       "style": "IPY_MODEL_ce20d6d3245e4dbbb50be8f02baa45e4",
       "value": 1
      }
     },
     "c9b3d84283d549a89ea8b9880ebdc2f1": {
      "model_module": "@jupyter-widgets/controls",
      "model_module_version": "1.5.0",
      "model_name": "ButtonStyleModel",
      "state": {}
     },
     "c9f4a24c74b24825beffbc9f8ee68003": {
      "model_module": "@jupyter-widgets/base",
      "model_module_version": "1.2.0",
      "model_name": "LayoutModel",
      "state": {}
     },
     "ca2f599c70464248802952afb48b4d4d": {
      "model_module": "@jupyter-widgets/controls",
      "model_module_version": "1.5.0",
      "model_name": "DescriptionStyleModel",
      "state": {
       "description_width": ""
      }
     },
     "ca44b44f93e146c989a42fb6089dfaa7": {
      "model_module": "@jupyter-widgets/controls",
      "model_module_version": "1.5.0",
      "model_name": "ButtonModel",
      "state": {
       "description": "Apply changes",
       "layout": "IPY_MODEL_08a4960b5d9a400f9e7acdae1bc9b992",
       "style": "IPY_MODEL_d3f300a384ae46c6a00252b5d97c075f"
      }
     },
     "ca7c6a5029e84e83b82b6b58a837603a": {
      "model_module": "@jupyter-widgets/controls",
      "model_module_version": "1.5.0",
      "model_name": "ButtonStyleModel",
      "state": {}
     },
     "ca9265ffa8ce4dd7bf69074d9f41f030": {
      "model_module": "@jupyter-widgets/base",
      "model_module_version": "1.2.0",
      "model_name": "LayoutModel",
      "state": {
       "margin": "20px 0px"
      }
     },
     "ca9cabf582ce4689abcc8d1e8ca02b57": {
      "model_module": "@jupyter-widgets/controls",
      "model_module_version": "1.5.0",
      "model_name": "DescriptionStyleModel",
      "state": {
       "description_width": ""
      }
     },
     "caec7bae73bd4fbd973ba9a19a666fc3": {
      "model_module": "@jupyter-widgets/controls",
      "model_module_version": "1.5.0",
      "model_name": "DescriptionStyleModel",
      "state": {
       "description_width": ""
      }
     },
     "cb1ed0f6320b4333aa7297d8a7ce168f": {
      "model_module": "@jupyter-widgets/controls",
      "model_module_version": "1.5.0",
      "model_name": "DescriptionStyleModel",
      "state": {
       "description_width": ""
      }
     },
     "cb4b61bb039c4f84b2600a719affce27": {
      "model_module": "@jupyter-widgets/controls",
      "model_module_version": "1.5.0",
      "model_name": "TabModel",
      "state": {
       "layout": "IPY_MODEL_49dbac54c4d6481ba32cd961140796cc"
      }
     },
     "cb9753792ecd4e86867efea2e0b84d64": {
      "model_module": "@jupyter-widgets/controls",
      "model_module_version": "1.5.0",
      "model_name": "IntSliderModel",
      "state": {
       "description": "value",
       "layout": "IPY_MODEL_aeaf1361f90748f78e6b1f091cf6e50e",
       "max": 10,
       "min": 1,
       "style": "IPY_MODEL_55dd24f2a4134bb8918a6c13a35703b2",
       "value": 2
      }
     },
     "cb9f6cf0c0f24e83957f2c3bb7715de6": {
      "model_module": "@jupyter-widgets/controls",
      "model_module_version": "1.5.0",
      "model_name": "SliderStyleModel",
      "state": {
       "description_width": ""
      }
     },
     "cbbda54c90744c78b5a9088ce7e16dcb": {
      "model_module": "@jupyter-widgets/base",
      "model_module_version": "1.2.0",
      "model_name": "LayoutModel",
      "state": {}
     },
     "cbe03dab15774ad68ea1b7df1e69258a": {
      "model_module": "@jupyter-widgets/base",
      "model_module_version": "1.2.0",
      "model_name": "LayoutModel",
      "state": {}
     },
     "cbfa9e8726e44ff6a2bc04d0a564e979": {
      "model_module": "@jupyter-widgets/controls",
      "model_module_version": "1.5.0",
      "model_name": "TextModel",
      "state": {
       "continuous_update": false,
       "description": "name",
       "layout": "IPY_MODEL_e11b0a98678d45d3b8910465d0aa3c42",
       "style": "IPY_MODEL_734527008e9c44a8881b1f91f2e2b004",
       "value": "nb_axes"
      }
     },
     "cbfe8564d5954bddaedc64017700d210": {
      "model_module": "@jupyter-widgets/base",
      "model_module_version": "1.2.0",
      "model_name": "LayoutModel",
      "state": {}
     },
     "cc4283288fb542ef96f56d4d031ff9f4": {
      "model_module": "@jupyter-widgets/base",
      "model_module_version": "1.2.0",
      "model_name": "LayoutModel",
      "state": {
       "flex_flow": "row wrap",
       "margin": "20px"
      }
     },
     "cc4602be131e4492acb64ba68499006c": {
      "model_module": "@jupyter-widgets/base",
      "model_module_version": "1.2.0",
      "model_name": "LayoutModel",
      "state": {}
     },
     "cc5772a12a73485e9db4d560e6ed99e5": {
      "model_module": "@jupyter-widgets/controls",
      "model_module_version": "1.5.0",
      "model_name": "DescriptionStyleModel",
      "state": {
       "description_width": ""
      }
     },
     "cc5944add9d34806bcf3e19b3041f41d": {
      "model_module": "@jupyter-widgets/controls",
      "model_module_version": "1.5.0",
      "model_name": "DescriptionStyleModel",
      "state": {
       "description_width": ""
      }
     },
     "cc6a0f0ef8ca472b9113262cccfa8bfa": {
      "model_module": "@jupyter-widgets/base",
      "model_module_version": "1.2.0",
      "model_name": "LayoutModel",
      "state": {}
     },
     "ccb5f84db0c74d6f993cdf50188c7ab4": {
      "model_module": "@jupyter-widgets/controls",
      "model_module_version": "1.5.0",
      "model_name": "DescriptionStyleModel",
      "state": {
       "description_width": ""
      }
     },
     "ccb74ec1a70948178488184669ebc272": {
      "model_module": "@jupyter-widgets/controls",
      "model_module_version": "1.5.0",
      "model_name": "DescriptionStyleModel",
      "state": {
       "description_width": ""
      }
     },
     "ccba9a3859ca4b6991e1fda355529903": {
      "model_module": "@jupyter-widgets/base",
      "model_module_version": "1.2.0",
      "model_name": "LayoutModel",
      "state": {}
     },
     "ccc3684d6a3a4acdaac7fa383e67ed43": {
      "model_module": "@jupyter-widgets/controls",
      "model_module_version": "1.5.0",
      "model_name": "ColorPickerModel",
      "state": {
       "description": "specular",
       "disabled": false,
       "layout": "IPY_MODEL_203e1864fde243a6bd46c139d099522f",
       "style": "IPY_MODEL_4ebaed4962d34cb98cda2e52d678023a",
       "value": "#478f9f"
      }
     },
     "ccc4235534b24b6b896c41aa2f030e7e": {
      "model_module": "@jupyter-widgets/controls",
      "model_module_version": "1.5.0",
      "model_name": "FloatTextModel",
      "state": {
       "description": "max",
       "layout": "IPY_MODEL_f94496cb3e8f4929a17732ebf63fdc5d",
       "step": null,
       "style": "IPY_MODEL_011e5223efa649b9bf1d2bed8747815d",
       "value": 0.1
      }
     },
     "cce511266ccf40529e09ddb0d1439957": {
      "model_module": "@jupyter-widgets/controls",
      "model_module_version": "1.5.0",
      "model_name": "HBoxModel",
      "state": {
       "children": [
        "IPY_MODEL_173645c006e54ca09cd20c3bf28eb540",
        "IPY_MODEL_5c79a794e9ac4cbfb81e5ba98a148a97"
       ],
       "layout": "IPY_MODEL_ecf696d417284f0cb878728b147b5e1a"
      }
     },
     "cceb5c3176fc4d4391580243e90f5c8d": {
      "model_module": "@jupyter-widgets/controls",
      "model_module_version": "1.5.0",
      "model_name": "BoundedIntTextModel",
      "state": {
       "description": "step",
       "layout": "IPY_MODEL_41a316cc494844f789d1f1885dfea1cc",
       "min": 1,
       "style": "IPY_MODEL_30adb877ae0c4ea3b12a4f4ae638e37d",
       "value": 1
      }
     },
     "ccf35c3d167746278dfad83c554d0987": {
      "model_module": "@jupyter-widgets/controls",
      "model_module_version": "1.5.0",
      "model_name": "VBoxModel",
      "state": {
       "children": [
        "IPY_MODEL_4cac230d4876411e82e2ea5b2b79b111",
        "IPY_MODEL_0abe3e3730634b64abf5f4473d043ab9"
       ],
       "layout": "IPY_MODEL_cbfe8564d5954bddaedc64017700d210"
      }
     },
     "cd2d35d7469f4efdbbe25618df80a599": {
      "model_module": "pgljupyter",
      "model_module_version": "^0.1.15",
      "model_name": "MaterialEditorModel",
      "state": {
       "_model_module_version": "^0.1.15",
       "_view_module_version": "^0.1.15",
       "children": [
        "IPY_MODEL_19ebea118db54d3a98ecb0009e792ed9",
        "IPY_MODEL_dfb6de20b2d040d389489361ab6b5b90",
        "IPY_MODEL_87cef65f3ccb4e37b6f6da063e0b9e6e",
        "IPY_MODEL_9ff657d902b547bc986a4fc628dd6afe",
        "IPY_MODEL_cd3a829f4eac40fda62e9aee322229b2",
        "IPY_MODEL_9db3dcf7c0de4e979b7a513e3e5f5cca",
        "IPY_MODEL_45fda64537864956b96ca712540b6091"
       ],
       "layout": "IPY_MODEL_ca9265ffa8ce4dd7bf69074d9f41f030"
      }
     },
     "cd3a829f4eac40fda62e9aee322229b2": {
      "model_module": "@jupyter-widgets/controls",
      "model_module_version": "1.5.0",
      "model_name": "ColorPickerModel",
      "state": {
       "description": "emission",
       "disabled": false,
       "layout": "IPY_MODEL_c0f4f90eb6b24c6c84973b9bd9db179d",
       "style": "IPY_MODEL_de4f8356b53a4020880a9d2e97d68ef3",
       "value": "#000000"
      }
     },
     "cd50187ae39d47d09352eac31cabf72a": {
      "model_module": "@jupyter-widgets/base",
      "model_module_version": "1.2.0",
      "model_name": "LayoutModel",
      "state": {}
     },
     "cd5def2d96ba4804bf5a48963c01a007": {
      "model_module": "@jupyter-widgets/base",
      "model_module_version": "1.2.0",
      "model_name": "LayoutModel",
      "state": {}
     },
     "cd5fd6e6cc8c417b8c075165320f590d": {
      "model_module": "@jupyter-widgets/base",
      "model_module_version": "1.2.0",
      "model_name": "LayoutModel",
      "state": {}
     },
     "cd77b31c82ae4308a7dee1cb7a773029": {
      "model_module": "@jupyter-widgets/controls",
      "model_module_version": "1.5.0",
      "model_name": "DropdownModel",
      "state": {
       "_options_labels": [
        "Integer",
        "Float",
        "Bool"
       ],
       "index": 0,
       "layout": "IPY_MODEL_acde296c5a674e53ac3ed5f620670605",
       "style": "IPY_MODEL_88cf6a95751f41cb9e9075a94dc6374b"
      }
     },
     "ce20d6d3245e4dbbb50be8f02baa45e4": {
      "model_module": "@jupyter-widgets/controls",
      "model_module_version": "1.5.0",
      "model_name": "SliderStyleModel",
      "state": {
       "description_width": ""
      }
     },
     "ce227c9996044887815635ea59975f6c": {
      "model_module": "@jupyter-widgets/base",
      "model_module_version": "1.2.0",
      "model_name": "LayoutModel",
      "state": {}
     },
     "ce32b0018ce54d10822b9f7228f05020": {
      "model_module": "@jupyter-widgets/controls",
      "model_module_version": "1.5.0",
      "model_name": "HBoxModel",
      "state": {
       "children": [
        "IPY_MODEL_2b928da61c404f50b3de5d476d6923ab",
        "IPY_MODEL_16badc3eec1447cca3d477d3528eecd1",
        "IPY_MODEL_8ebe91de6cbe4ba086b2a7c90771dca1",
        "IPY_MODEL_d6805da4e05e45dbaaa41839b177cddc"
       ],
       "layout": "IPY_MODEL_f583c73dcf62478eaadd3ea0a6bf751a"
      }
     },
     "ce51dd8b382a4194b2f5ee5f72c7f056": {
      "model_module": "@jupyter-widgets/controls",
      "model_module_version": "1.5.0",
      "model_name": "HBoxModel",
      "state": {
       "layout": "IPY_MODEL_ed50075832b64beaaa7bbefb48f81c6a"
      }
     },
     "ce6940ed041f4eda99eda29b263f0e11": {
      "model_module": "@jupyter-widgets/controls",
      "model_module_version": "1.5.0",
      "model_name": "SliderStyleModel",
      "state": {
       "description_width": ""
      }
     },
     "ce6b286f2d3f44b0950e6aad6008ca4a": {
      "model_module": "@jupyter-widgets/controls",
      "model_module_version": "1.5.0",
      "model_name": "AccordionModel",
      "state": {
       "_titles": {
        "0": "options",
        "1": "materials",
        "2": "leaf"
       },
       "children": [
        "IPY_MODEL_d708fb57001d4f8ea81f2ede20e3146a",
        "IPY_MODEL_7f2b172d2c374e0f9b79d7569d333c05",
        "IPY_MODEL_4b062199493449db918342e17a6ad7bc"
       ],
       "layout": "IPY_MODEL_dbad586bb58147e6897aca87cba5932c"
      }
     },
     "ce8a4696cfdc4fd180d8314621de40b0": {
      "model_module": "@jupyter-widgets/base",
      "model_module_version": "1.2.0",
      "model_name": "LayoutModel",
      "state": {}
     },
     "ce92b96c597d4e2c9afa5c61681631d7": {
      "model_module": "@jupyter-widgets/controls",
      "model_module_version": "1.5.0",
      "model_name": "SliderStyleModel",
      "state": {
       "description_width": ""
      }
     },
     "cea4e9c5bd25408f8d9b47275e81aaee": {
      "model_module": "@jupyter-widgets/controls",
      "model_module_version": "1.5.0",
      "model_name": "DescriptionStyleModel",
      "state": {
       "description_width": ""
      }
     },
     "ceb520bee04442219db5910700063143": {
      "model_module": "@jupyter-widgets/base",
      "model_module_version": "1.2.0",
      "model_name": "LayoutModel",
      "state": {}
     },
     "cf03090252ae4c0889577f516c020b2a": {
      "model_module": "@jupyter-widgets/controls",
      "model_module_version": "1.5.0",
      "model_name": "ColorPickerModel",
      "state": {
       "description": "ambient",
       "disabled": false,
       "layout": "IPY_MODEL_c6fa05055ebe4ca88351d49c8f65e6b2",
       "style": "IPY_MODEL_115c4d2a4acf46039c293faf949b633c",
       "value": "#0fc4db"
      }
     },
     "cf3db1034fd8432aa3704c829a0ecdf4": {
      "model_module": "@jupyter-widgets/base",
      "model_module_version": "1.2.0",
      "model_name": "LayoutModel",
      "state": {}
     },
     "cf6091e0273242ae91488af7bed1c9b8": {
      "model_module": "@jupyter-widgets/controls",
      "model_module_version": "1.5.0",
      "model_name": "TextModel",
      "state": {
       "continuous_update": false,
       "description": "name",
       "layout": "IPY_MODEL_6222902e646a4c918719f62a19ad6f37",
       "style": "IPY_MODEL_1481ac602d8941e0885c08d06e6e0e82",
       "value": "maxorder"
      }
     },
     "cf60cf7a0e9347819f5920be559bd3ab": {
      "model_module": "@jupyter-widgets/controls",
      "model_module_version": "1.5.0",
      "model_name": "HBoxModel",
      "state": {
       "children": [
        "IPY_MODEL_276f4aa0f7004bb992c83a870983632f",
        "IPY_MODEL_6d16c5f570c847eb99b3c515f6c79c4e"
       ],
       "layout": "IPY_MODEL_d123a76804b24dce80e8768f4e66926d"
      }
     },
     "cfbecb2c7a9b44b5b54e471e21bb5013": {
      "model_module": "@jupyter-widgets/base",
      "model_module_version": "1.2.0",
      "model_name": "LayoutModel",
      "state": {}
     },
     "cfce14a323b04509bf9e64471c2a7c91": {
      "model_module": "pgljupyter",
      "model_module_version": "^0.1.15",
      "model_name": "ParameterEditorModel",
      "state": {
       "_model_module_version": "^0.1.15",
       "_view_module_version": "^0.1.15",
       "children": [
        "IPY_MODEL_d1521986876749ac8f8a1129d2384b12"
       ],
       "layout": "IPY_MODEL_1b002d52de5247adb6af34b05dc2002f"
      }
     },
     "cffbe228dd7a4cb6b6b3ec214974be09": {
      "model_module": "@jupyter-widgets/controls",
      "model_module_version": "1.5.0",
      "model_name": "FloatSliderModel",
      "state": {
       "description": "diffuse",
       "layout": "IPY_MODEL_1c7cf59a39db4f008dda191639910e38",
       "max": 1,
       "step": 0.1,
       "style": "IPY_MODEL_514cfc19ebf74685ab74dd7b7a22c471",
       "value": 1
      }
     },
     "d00076ceaaef4f90ae6dfca78cb58bba": {
      "model_module": "@jupyter-widgets/base",
      "model_module_version": "1.2.0",
      "model_name": "LayoutModel",
      "state": {}
     },
     "d01d509395ce42ef85936a42ffd78529": {
      "model_module": "@jupyter-widgets/base",
      "model_module_version": "1.2.0",
      "model_name": "LayoutModel",
      "state": {
       "flex_flow": "row wrap",
       "margin": "20px"
      }
     },
     "d02de77550284a6da1474d5305e95a37": {
      "model_module": "@jupyter-widgets/controls",
      "model_module_version": "1.5.0",
      "model_name": "DescriptionStyleModel",
      "state": {
       "description_width": ""
      }
     },
     "d06f15fe8d7a4d1088946a0261791dfd": {
      "model_module": "@jupyter-widgets/controls",
      "model_module_version": "1.5.0",
      "model_name": "SliderStyleModel",
      "state": {
       "description_width": ""
      }
     },
     "d0804158d8994796a57cce09e55d1e9d": {
      "model_module": "@jupyter-widgets/controls",
      "model_module_version": "1.5.0",
      "model_name": "BoundedFloatTextModel",
      "state": {
       "description": "step",
       "layout": "IPY_MODEL_72bc1e35e1b440dab2d04d8572c085d8",
       "max": 1,
       "min": 0.01,
       "step": 0.01,
       "style": "IPY_MODEL_3133bec14cff4f2a890c142d85f7eb53",
       "value": 0.01
      }
     },
     "d093cfc89ffb40f28b4fd148eea8d057": {
      "model_module": "@jupyter-widgets/controls",
      "model_module_version": "1.5.0",
      "model_name": "BoundedIntTextModel",
      "state": {
       "description": "index",
       "layout": "IPY_MODEL_886c6ac66fa04e40ae0bbe94a3f1b24d",
       "style": "IPY_MODEL_f6d426e7318b4c73859aaccd8c0c7b2f",
       "value": 1
      }
     },
     "d0b33d7de44046969c0b58c9f4f3db65": {
      "model_module": "@jupyter-widgets/controls",
      "model_module_version": "1.5.0",
      "model_name": "TextModel",
      "state": {
       "continuous_update": false,
       "description": "name",
       "layout": "IPY_MODEL_0349bc0e02104c3aa8e5b711e3f64a9d",
       "style": "IPY_MODEL_ab764aa485e744edb49ba613cdf360e2",
       "value": "color_1"
      }
     },
     "d0b7820ad886441a910a69125aae845b": {
      "model_module": "@jupyter-widgets/base",
      "model_module_version": "1.2.0",
      "model_name": "LayoutModel",
      "state": {}
     },
     "d0bdbc64800d4d82b5dc67febea65a36": {
      "model_module": "@jupyter-widgets/controls",
      "model_module_version": "1.5.0",
      "model_name": "BoundedIntTextModel",
      "state": {
       "description": "index",
       "layout": "IPY_MODEL_eb67f0405c4a4a21ac1e3795da1d65b8",
       "style": "IPY_MODEL_1f77c70eec134463b17b0f169c5122e1",
       "value": 1
      }
     },
     "d0d0915bc5b14024959aa9c636b516fc": {
      "model_module": "@jupyter-widgets/base",
      "model_module_version": "1.2.0",
      "model_name": "LayoutModel",
      "state": {}
     },
     "d0d2cdbb1c684dc7a15ef80b87f68bfd": {
      "model_module": "@jupyter-widgets/base",
      "model_module_version": "1.2.0",
      "model_name": "LayoutModel",
      "state": {
       "margin": "20px 0px"
      }
     },
     "d0db5afd7c894db69b4bee3c7f83608a": {
      "model_module": "@jupyter-widgets/controls",
      "model_module_version": "1.5.0",
      "model_name": "HBoxModel",
      "state": {
       "children": [
        "IPY_MODEL_cce511266ccf40529e09ddb0d1439957",
        "IPY_MODEL_4d1384563f59422491a12fe1ae288581"
       ],
       "layout": "IPY_MODEL_1aaed1264b7e4af38e5dfa20e770f4aa"
      }
     },
     "d0ec2f38f17a4341b610533ca10507f5": {
      "model_module": "@jupyter-widgets/base",
      "model_module_version": "1.2.0",
      "model_name": "LayoutModel",
      "state": {
       "margin": "20px 0px"
      }
     },
     "d0f01479a05d433d9dea0f06d6e5c866": {
      "model_module": "@jupyter-widgets/base",
      "model_module_version": "1.2.0",
      "model_name": "LayoutModel",
      "state": {}
     },
     "d1053430fd9d434e80ee9be41c53ac30": {
      "model_module": "@jupyter-widgets/controls",
      "model_module_version": "1.5.0",
      "model_name": "ColorPickerModel",
      "state": {
       "description": "specular",
       "disabled": false,
       "layout": "IPY_MODEL_e263953a6db44964a7d275e264b6be36",
       "style": "IPY_MODEL_72879cfc45364484960de5dd40e8ff0b",
       "value": "#282828"
      }
     },
     "d106d73f1f0f40bfb9afee106236b6d3": {
      "model_module": "@jupyter-widgets/controls",
      "model_module_version": "1.5.0",
      "model_name": "TextModel",
      "state": {
       "continuous_update": false,
       "description": "name",
       "layout": "IPY_MODEL_5d5b275d15b946cbbaaf085b88ac6394",
       "style": "IPY_MODEL_1b7eb2c7a1744177a4f8587caf59f856",
       "value": "color_1"
      }
     },
     "d110a24946b54060b063dbb92bfc069a": {
      "model_module": "@jupyter-widgets/base",
      "model_module_version": "1.2.0",
      "model_name": "LayoutModel",
      "state": {}
     },
     "d11ae994789144a783cc4f4ae6406755": {
      "model_module": "@jupyter-widgets/base",
      "model_module_version": "1.2.0",
      "model_name": "LayoutModel",
      "state": {
       "margin": "20px 0px"
      }
     },
     "d123a76804b24dce80e8768f4e66926d": {
      "model_module": "@jupyter-widgets/base",
      "model_module_version": "1.2.0",
      "model_name": "LayoutModel",
      "state": {}
     },
     "d1521986876749ac8f8a1129d2384b12": {
      "model_module": "@jupyter-widgets/controls",
      "model_module_version": "1.5.0",
      "model_name": "VBoxModel",
      "state": {
       "children": [
        "IPY_MODEL_2d5d68893674488ba4dd00970a3a9b81",
        "IPY_MODEL_df586ff38e6d4b7999878b6b5fd724cc"
       ],
       "layout": "IPY_MODEL_db6605a6e0ee4f75925ce15c464030e2"
      }
     },
     "d15825d831bc479e9ba631b888bce268": {
      "model_module": "@jupyter-widgets/controls",
      "model_module_version": "1.5.0",
      "model_name": "TextModel",
      "state": {
       "continuous_update": false,
       "description": "name",
       "layout": "IPY_MODEL_98bc50eea37a458ebc2807a2cfa4a66e",
       "style": "IPY_MODEL_e726edc415ce408287086d7be2efd682",
       "value": "BezierCurve2D_0"
      }
     },
     "d18872a2ef9b47d0aacc9fc86e75a003": {
      "model_module": "@jupyter-widgets/controls",
      "model_module_version": "1.5.0",
      "model_name": "DescriptionStyleModel",
      "state": {
       "description_width": ""
      }
     },
     "d18d2324b3d64718bcd6376c175c5112": {
      "model_module": "@jupyter-widgets/controls",
      "model_module_version": "1.5.0",
      "model_name": "ColorPickerModel",
      "state": {
       "description": "ambient",
       "disabled": false,
       "layout": "IPY_MODEL_0cf9ede31aee4c9dad31d76457db7941",
       "style": "IPY_MODEL_428c2ac17d184a2c9179180861f4e079",
       "value": "#c25173"
      }
     },
     "d1b0d3e3255c4c5094a200be37f42f8f": {
      "model_module": "@jupyter-widgets/controls",
      "model_module_version": "1.5.0",
      "model_name": "HBoxModel",
      "state": {
       "layout": "IPY_MODEL_ed50075832b64beaaa7bbefb48f81c6a"
      }
     },
     "d1b8dc49f1034c03b899d515253fc98d": {
      "model_module": "@jupyter-widgets/controls",
      "model_module_version": "1.5.0",
      "model_name": "HBoxModel",
      "state": {
       "children": [
        "IPY_MODEL_af9687bc3935460dba4220cc22e7558b",
        "IPY_MODEL_368223e9431d47409832400746a8ab36"
       ],
       "layout": "IPY_MODEL_fe5d4924783740e99fb2a712c58dc4bc"
      }
     },
     "d221c96f27ea44ba828372754d931a94": {
      "model_module": "@jupyter-widgets/controls",
      "model_module_version": "1.5.0",
      "model_name": "ColorPickerModel",
      "state": {
       "description": "emission",
       "disabled": false,
       "layout": "IPY_MODEL_3cf13761a7d44c25a3bb0b1c84021cdf",
       "style": "IPY_MODEL_29d422aec5fb46b79b8f52be4373b097",
       "value": "#000000"
      }
     },
     "d2261bba28f74ddbb698ad360fb1fd47": {
      "model_module": "@jupyter-widgets/base",
      "model_module_version": "1.2.0",
      "model_name": "LayoutModel",
      "state": {}
     },
     "d237add396e74f7cb0ed74f9cb41ca44": {
      "model_module": "@jupyter-widgets/controls",
      "model_module_version": "1.5.0",
      "model_name": "DescriptionStyleModel",
      "state": {
       "description_width": ""
      }
     },
     "d24c239178c94a64be7dc46a5528b939": {
      "model_module": "@jupyter-widgets/controls",
      "model_module_version": "1.5.0",
      "model_name": "FloatSliderModel",
      "state": {
       "description": "value",
       "layout": "IPY_MODEL_1aaf66a79c4a4516be6c818d516db912",
       "max": 0.1,
       "min": 0.01,
       "step": 0.01,
       "style": "IPY_MODEL_ce6940ed041f4eda99eda29b263f0e11",
       "value": 0.02
      }
     },
     "d26c025202ff4643b74386ab5d8d0cdc": {
      "model_module": "@jupyter-widgets/base",
      "model_module_version": "1.2.0",
      "model_name": "LayoutModel",
      "state": {}
     },
     "d2780868916644af85bc2dde32b917dc": {
      "model_module": "@jupyter-widgets/controls",
      "model_module_version": "1.5.0",
      "model_name": "SliderStyleModel",
      "state": {
       "description_width": ""
      }
     },
     "d2812f3cd2b94243b167660180ef795f": {
      "model_module": "@jupyter-widgets/controls",
      "model_module_version": "1.5.0",
      "model_name": "DescriptionStyleModel",
      "state": {
       "description_width": ""
      }
     },
     "d28cf98e61a04f9898b7af2e4bd9189c": {
      "model_module": "@jupyter-widgets/controls",
      "model_module_version": "1.5.0",
      "model_name": "DescriptionStyleModel",
      "state": {
       "description_width": ""
      }
     },
     "d2910492dd2c4b0882f8068e482016ed": {
      "model_module": "@jupyter-widgets/base",
      "model_module_version": "1.2.0",
      "model_name": "LayoutModel",
      "state": {
       "margin": "20px 0px"
      }
     },
     "d2a17160a0324c03858c22890d9aa766": {
      "model_module": "@jupyter-widgets/controls",
      "model_module_version": "1.5.0",
      "model_name": "BoundedIntTextModel",
      "state": {
       "description": "index",
       "layout": "IPY_MODEL_6ed29dae7ad341a6ad80045bd0362e46",
       "style": "IPY_MODEL_4a5f0d59e1dc4fbfa2d0976edaa02825",
       "value": 3
      }
     },
     "d2b38160a90f4cd990c20f241d313f47": {
      "model_module": "@jupyter-widgets/controls",
      "model_module_version": "1.5.0",
      "model_name": "SliderStyleModel",
      "state": {
       "description_width": ""
      }
     },
     "d2b87ecb692a4dda8267a13159fde61b": {
      "model_module": "@jupyter-widgets/base",
      "model_module_version": "1.2.0",
      "model_name": "LayoutModel",
      "state": {}
     },
     "d2d0c85bed704b318b91afa64fd018fe": {
      "model_module": "@jupyter-widgets/base",
      "model_module_version": "1.2.0",
      "model_name": "LayoutModel",
      "state": {}
     },
     "d2d0f917b45743ff9dc2a32c8add385a": {
      "model_module": "@jupyter-widgets/controls",
      "model_module_version": "1.5.0",
      "model_name": "HBoxModel",
      "state": {
       "children": [
        "IPY_MODEL_0714f35b18a44fbaaa6d2aa26b46616e"
       ],
       "layout": "IPY_MODEL_fe0cdcc6562e4d7b98662c718d50f517"
      }
     },
     "d305647879de4f31a874fda6cab632eb": {
      "model_module": "@jupyter-widgets/base",
      "model_module_version": "1.2.0",
      "model_name": "LayoutModel",
      "state": {}
     },
     "d31ee638a5b34098ba43d2055040308f": {
      "model_module": "@jupyter-widgets/controls",
      "model_module_version": "1.5.0",
      "model_name": "ColorPickerModel",
      "state": {
       "description": "ambient",
       "disabled": false,
       "layout": "IPY_MODEL_27f932eb3b3f4d889caf4060205ba549",
       "style": "IPY_MODEL_105380c6a249406d96a01024cc0298e5",
       "value": "#195717"
      }
     },
     "d3548b90ef3247ad9a07bc040218e2ba": {
      "model_module": "@jupyter-widgets/controls",
      "model_module_version": "1.5.0",
      "model_name": "TextModel",
      "state": {
       "continuous_update": false,
       "description": "name",
       "layout": "IPY_MODEL_6d6a59f4c0714f90bac64afd6f756b8f",
       "style": "IPY_MODEL_1fb14ba911fa4fa5b21eea1cc9d40b13",
       "value": "BezierCurve2D_2"
      }
     },
     "d37ba2f025014ca79fdf05a27bdbbe2f": {
      "model_module": "@jupyter-widgets/controls",
      "model_module_version": "1.5.0",
      "model_name": "FloatSliderModel",
      "state": {
       "description": "transparency",
       "layout": "IPY_MODEL_4e8f1fc2352c4d029b048059447c31f2",
       "max": 1,
       "step": 0.1,
       "style": "IPY_MODEL_00c7cd86f3d34e1bafc6fd9d02f7d24d"
      }
     },
     "d39751d2609b4f59a787ccca0b261c85": {
      "model_module": "@jupyter-widgets/controls",
      "model_module_version": "1.5.0",
      "model_name": "TextModel",
      "state": {
       "continuous_update": false,
       "description": "name",
       "layout": "IPY_MODEL_ada6219a139e4a9d814db5c5ba74a114",
       "style": "IPY_MODEL_9f523c556c1a4ecd9ecc999e2932fbbc",
       "value": "radinc"
      }
     },
     "d3b13ba67468411db6f44f89eafdb3e3": {
      "model_module": "@jupyter-widgets/base",
      "model_module_version": "1.2.0",
      "model_name": "LayoutModel",
      "state": {}
     },
     "d3ba0204db55482095d75dd306143739": {
      "model_module": "@jupyter-widgets/controls",
      "model_module_version": "1.5.0",
      "model_name": "ButtonStyleModel",
      "state": {}
     },
     "d3bce69b896a4632abd986c9aaad2c7b": {
      "model_module": "@jupyter-widgets/base",
      "model_module_version": "1.2.0",
      "model_name": "LayoutModel",
      "state": {}
     },
     "d3d1b7a831274a7e84079a9f237031f5": {
      "model_module": "@jupyter-widgets/controls",
      "model_module_version": "1.5.0",
      "model_name": "ColorPickerModel",
      "state": {
       "description": "specular",
       "disabled": false,
       "layout": "IPY_MODEL_0b136b93c8f24a84900c342ce497bd23",
       "style": "IPY_MODEL_d894a0bba7694394abc41df118ceb182",
       "value": "#282828"
      }
     },
     "d3d970b567e94c44bde3be02c211095b": {
      "model_module": "@jupyter-widgets/base",
      "model_module_version": "1.2.0",
      "model_name": "LayoutModel",
      "state": {}
     },
     "d3e7a44d5a14400f8d7eee683f57c955": {
      "model_module": "pgljupyter",
      "model_module_version": "^0.1.15",
      "model_name": "IntEditorModel",
      "state": {
       "_model_module_version": "^0.1.15",
       "_view_module_version": "^0.1.15",
       "children": [
        "IPY_MODEL_d81342e61ace400fb93584b9cab69879",
        "IPY_MODEL_edd9461361e74679be5e9cea2a33c6f9",
        "IPY_MODEL_0045facf86484c20b65d50f36e706058",
        "IPY_MODEL_385249429ff5457994709f2682133bb6",
        "IPY_MODEL_a77c5ee800e747c4a1d77db52f6429f7"
       ],
       "layout": "IPY_MODEL_31f9a3fd201f47e28c61705d7d33ef3e"
      }
     },
     "d3f300a384ae46c6a00252b5d97c075f": {
      "model_module": "@jupyter-widgets/controls",
      "model_module_version": "1.5.0",
      "model_name": "ButtonStyleModel",
      "state": {}
     },
     "d46a755e298045b68acd5711b60f99df": {
      "model_module": "@jupyter-widgets/controls",
      "model_module_version": "1.5.0",
      "model_name": "DropdownModel",
      "state": {
       "_options_labels": [
        "Color"
       ],
       "index": 0,
       "layout": "IPY_MODEL_d50b0bf8ef2144bba6111d403191db88",
       "style": "IPY_MODEL_65af0dba7c4e4c4f8189bb130541bd93"
      }
     },
     "d4b10aeba9954020a8ed8f827c42e3e1": {
      "model_module": "@jupyter-widgets/base",
      "model_module_version": "1.2.0",
      "model_name": "LayoutModel",
      "state": {}
     },
     "d505b723ce5f465b8dd8e6ef3f93020a": {
      "model_module": "@jupyter-widgets/base",
      "model_module_version": "1.2.0",
      "model_name": "LayoutModel",
      "state": {}
     },
     "d50b0bf8ef2144bba6111d403191db88": {
      "model_module": "@jupyter-widgets/base",
      "model_module_version": "1.2.0",
      "model_name": "LayoutModel",
      "state": {}
     },
     "d51b50f6f7064d6b8575587fb3b196c4": {
      "model_module": "@jupyter-widgets/base",
      "model_module_version": "1.2.0",
      "model_name": "LayoutModel",
      "state": {}
     },
     "d52733beff484a4bbc5178e5dc98c84f": {
      "model_module": "@jupyter-widgets/base",
      "model_module_version": "1.2.0",
      "model_name": "LayoutModel",
      "state": {}
     },
     "d52a4a8134f1480391b2605634851c73": {
      "model_module": "@jupyter-widgets/controls",
      "model_module_version": "1.5.0",
      "model_name": "DescriptionStyleModel",
      "state": {
       "description_width": ""
      }
     },
     "d52f4b2621de443f9085eafbc704105d": {
      "model_module": "@jupyter-widgets/controls",
      "model_module_version": "1.5.0",
      "model_name": "DescriptionStyleModel",
      "state": {
       "description_width": ""
      }
     },
     "d542516dd18148069a1bba5df7e807ab": {
      "model_module": "@jupyter-widgets/base",
      "model_module_version": "1.2.0",
      "model_name": "LayoutModel",
      "state": {}
     },
     "d58bfb8653ba4ad4b40f998f0e98a696": {
      "model_module": "@jupyter-widgets/controls",
      "model_module_version": "1.5.0",
      "model_name": "ButtonStyleModel",
      "state": {}
     },
     "d5974bbba58d48d682cb09b34e264de7": {
      "model_module": "@jupyter-widgets/base",
      "model_module_version": "1.2.0",
      "model_name": "LayoutModel",
      "state": {}
     },
     "d5a4b1a1337c4f988951f8e89f721b21": {
      "model_module": "@jupyter-widgets/base",
      "model_module_version": "1.2.0",
      "model_name": "LayoutModel",
      "state": {
       "margin": "20px 0px"
      }
     },
     "d5ae3967657a47518c7f4f1765127239": {
      "model_module": "@jupyter-widgets/base",
      "model_module_version": "1.2.0",
      "model_name": "LayoutModel",
      "state": {
       "margin": "20px 0px"
      }
     },
     "d5b0b4a76e704be7aa8f297878b58d36": {
      "model_module": "@jupyter-widgets/base",
      "model_module_version": "1.2.0",
      "model_name": "LayoutModel",
      "state": {}
     },
     "d5ed232c37c645d287f93804c2a7a50c": {
      "model_module": "@jupyter-widgets/controls",
      "model_module_version": "1.5.0",
      "model_name": "DescriptionStyleModel",
      "state": {
       "description_width": ""
      }
     },
     "d5f309adf9e849bf92d01e5c8f037e3f": {
      "model_module": "@jupyter-widgets/controls",
      "model_module_version": "1.5.0",
      "model_name": "IntTextModel",
      "state": {
       "description": "min",
       "layout": "IPY_MODEL_afe6e6c4152e44c2934a927db152b864",
       "step": 1,
       "style": "IPY_MODEL_83b37f20276f46f2aef238cc38a564a4",
       "value": 1
      }
     },
     "d6805da4e05e45dbaaa41839b177cddc": {
      "model_module": "pgljupyter",
      "model_module_version": "^0.1.15",
      "model_name": "MaterialEditorModel",
      "state": {
       "_model_module_version": "^0.1.15",
       "_view_module_version": "^0.1.15",
       "children": [
        "IPY_MODEL_b4106cfbe2bd43b7b529f0bfbe6fa595",
        "IPY_MODEL_a3ae1e2ede8b4b82825fc38288065775",
        "IPY_MODEL_7d6e0d1c007243f8a056cdb3d4ae86eb",
        "IPY_MODEL_1d5e6591ff12419a8da36391646aedd7",
        "IPY_MODEL_60de4dd588524811b9f7f570333c992e",
        "IPY_MODEL_f38021c8f47c4e1f869bdaa5c8385528",
        "IPY_MODEL_c4426b210bc545edbd3b739bedb1a427",
        "IPY_MODEL_18d59d6d598e46d2b7c7efd2e6760195"
       ],
       "layout": "IPY_MODEL_be9b24ff08554d7997be29d68bd63a62"
      }
     },
     "d6a730eacbd54a89b2ef6b5345c7107f": {
      "model_module": "@jupyter-widgets/controls",
      "model_module_version": "1.5.0",
      "model_name": "DropdownModel",
      "state": {
       "_options_labels": [
        "Integer",
        "Float",
        "Bool"
       ],
       "index": 0,
       "layout": "IPY_MODEL_484b8fd868c54a1682e3cd09055dd983",
       "style": "IPY_MODEL_753c6e52572e43189e0c5cb7b2ac8422"
      }
     },
     "d6fc03777b284cc0a6b118d3c2cc3efd": {
      "model_module": "@jupyter-widgets/controls",
      "model_module_version": "1.5.0",
      "model_name": "AccordionModel",
      "state": {
       "_titles": {
        "0": "options",
        "1": "materials",
        "2": "leaf"
       },
       "children": [
        "IPY_MODEL_544ef79895b140a4b0fb0dfdc1b6b2af",
        "IPY_MODEL_e2fd87fed5a7413f93165197a21bba75",
        "IPY_MODEL_530595fa108644548cb296ac38ed0340"
       ],
       "layout": "IPY_MODEL_6999e8f3921f428c8e628c70705e7d0b"
      }
     },
     "d708fb57001d4f8ea81f2ede20e3146a": {
      "model_module": "@jupyter-widgets/controls",
      "model_module_version": "1.5.0",
      "model_name": "VBoxModel",
      "state": {
       "children": [
        "IPY_MODEL_a95a95b9099e4f979166e656f93776ee",
        "IPY_MODEL_4eadb4503064446aaa9b09de3bbf33b3"
       ],
       "layout": "IPY_MODEL_742dc244110b4bdd8c1040e6d4201803"
      }
     },
     "d736f9ff59474e2fbde6d727a08f13f6": {
      "model_module": "@jupyter-widgets/controls",
      "model_module_version": "1.5.0",
      "model_name": "ButtonStyleModel",
      "state": {}
     },
     "d73cf1873c014373bc2c1fe5aecbf45f": {
      "model_module": "@jupyter-widgets/controls",
      "model_module_version": "1.5.0",
      "model_name": "SliderStyleModel",
      "state": {
       "description_width": ""
      }
     },
     "d7491fcbf98547ae97e45969885079fc": {
      "model_module": "@jupyter-widgets/controls",
      "model_module_version": "1.5.0",
      "model_name": "TextModel",
      "state": {
       "continuous_update": false,
       "description": "name",
       "layout": "IPY_MODEL_f90a42a43b1f4bed81fc082672b8e388",
       "style": "IPY_MODEL_cc5772a12a73485e9db4d560e6ed99e5",
       "value": "Polyline2D_0"
      }
     },
     "d7535aae702241fd86b607045fa0824f": {
      "model_module": "@jupyter-widgets/base",
      "model_module_version": "1.2.0",
      "model_name": "LayoutModel",
      "state": {}
     },
     "d753d848f55f4e2b94e8fb42928aeb59": {
      "model_module": "@jupyter-widgets/controls",
      "model_module_version": "1.5.0",
      "model_name": "ColorPickerModel",
      "state": {
       "description": "specular",
       "disabled": false,
       "layout": "IPY_MODEL_fb23ff6df53c4979935c5cfe3bf1f9b7",
       "style": "IPY_MODEL_2ff6e1288e264c2584f333513837f75c",
       "value": "#282828"
      }
     },
     "d78fbcd4a00a4766a04a3fdcc4928a96": {
      "model_module": "@jupyter-widgets/controls",
      "model_module_version": "1.5.0",
      "model_name": "ButtonModel",
      "state": {
       "description": "Delete category",
       "layout": "IPY_MODEL_a8afcf5904674e9cb3c15c68fee60178",
       "style": "IPY_MODEL_f4a50f5f272f4c2ba5416d82cc779470"
      }
     },
     "d791db9c9abd4f01b6f0fc0e44c489d8": {
      "model_module": "@jupyter-widgets/controls",
      "model_module_version": "1.5.0",
      "model_name": "TextModel",
      "state": {
       "continuous_update": false,
       "description": "name",
       "layout": "IPY_MODEL_cd50187ae39d47d09352eac31cabf72a",
       "style": "IPY_MODEL_5028f9bf49fb443a9a1cbb1892e2eaa5",
       "value": "maxorder"
      }
     },
     "d7a6727bd2324bc1ae4f77eb2d08a957": {
      "model_module": "@jupyter-widgets/controls",
      "model_module_version": "1.5.0",
      "model_name": "CheckboxModel",
      "state": {
       "description": "Auto save",
       "disabled": false,
       "layout": "IPY_MODEL_deaf1e6127c04a738ef764a2542eff1b",
       "style": "IPY_MODEL_a48d0b634a9545879f969cffc6d24b13",
       "value": false
      }
     },
     "d7cdf67155a84757b92ab1857a8d07a3": {
      "model_module": "@jupyter-widgets/controls",
      "model_module_version": "1.5.0",
      "model_name": "ButtonStyleModel",
      "state": {}
     },
     "d7e8964841944bb7bf9fb48687e5045d": {
      "model_module": "@jupyter-widgets/controls",
      "model_module_version": "1.5.0",
      "model_name": "FloatSliderModel",
      "state": {
       "description": "transparency",
       "layout": "IPY_MODEL_799b1a0506734fb59e1283ef6dff6ff9",
       "max": 1,
       "step": 0.1,
       "style": "IPY_MODEL_0d0e331a7d4f4a6991e7fd852646eded"
      }
     },
     "d7f70790051840ab9d1dcb8f3c7c3bbf": {
      "model_module": "@jupyter-widgets/controls",
      "model_module_version": "1.5.0",
      "model_name": "DescriptionStyleModel",
      "state": {
       "description_width": ""
      }
     },
     "d800638cf86c44d2856f075d009e2196": {
      "model_module": "@jupyter-widgets/base",
      "model_module_version": "1.2.0",
      "model_name": "LayoutModel",
      "state": {}
     },
     "d81342e61ace400fb93584b9cab69879": {
      "model_module": "@jupyter-widgets/controls",
      "model_module_version": "1.5.0",
      "model_name": "TextModel",
      "state": {
       "continuous_update": false,
       "description": "name",
       "layout": "IPY_MODEL_6dc2c51b810b4edba7a9863f0a39d3d7",
       "style": "IPY_MODEL_c120cfee4a0c40ea8c50d6a043297475",
       "value": "leafduration"
      }
     },
     "d8136ba8b0b94a508316083bd66d429c": {
      "model_module": "@jupyter-widgets/controls",
      "model_module_version": "1.5.0",
      "model_name": "BoundedIntTextModel",
      "state": {
       "description": "index",
       "layout": "IPY_MODEL_12d98c8458334e21a9e3cd6b09cec97d",
       "style": "IPY_MODEL_610f7650b05c421c99fd9175cb6f82c4",
       "value": 2
      }
     },
     "d815cf04fa1e4602a3eae7b84a7a88e8": {
      "model_module": "@jupyter-widgets/controls",
      "model_module_version": "1.5.0",
      "model_name": "ButtonStyleModel",
      "state": {}
     },
     "d818d18293d24cafa4ca4dbd101d4e2e": {
      "model_module": "@jupyter-widgets/controls",
      "model_module_version": "1.5.0",
      "model_name": "DescriptionStyleModel",
      "state": {
       "description_width": ""
      }
     },
     "d81d61ea7b9e45c684accc7eca1f8bd0": {
      "model_module": "@jupyter-widgets/controls",
      "model_module_version": "1.5.0",
      "model_name": "SliderStyleModel",
      "state": {
       "description_width": ""
      }
     },
     "d8311d67673a4d1789cb438a0a68d007": {
      "model_module": "@jupyter-widgets/controls",
      "model_module_version": "1.5.0",
      "model_name": "DescriptionStyleModel",
      "state": {
       "description_width": ""
      }
     },
     "d83e72dd822f4e30a46ab2b1ccb392b9": {
      "model_module": "@jupyter-widgets/base",
      "model_module_version": "1.2.0",
      "model_name": "LayoutModel",
      "state": {}
     },
     "d84a161ff02b4918b478c296ddf83163": {
      "model_module": "@jupyter-widgets/base",
      "model_module_version": "1.2.0",
      "model_name": "LayoutModel",
      "state": {}
     },
     "d85e5539f82e4f07a2d29f5cf88a5a95": {
      "model_module": "@jupyter-widgets/controls",
      "model_module_version": "1.5.0",
      "model_name": "IntTextModel",
      "state": {
       "description": "min",
       "layout": "IPY_MODEL_290da3774c5c4d94bd867bc43903b7f7",
       "step": 1,
       "style": "IPY_MODEL_2cf369aa9e7e4feb98a3ce7ecefb6745",
       "value": 1
      }
     },
     "d86a81dfb35f47f590e7c22764e29eb9": {
      "model_module": "@jupyter-widgets/base",
      "model_module_version": "1.2.0",
      "model_name": "LayoutModel",
      "state": {}
     },
     "d883946023a44ed59423d05c961e71b3": {
      "model_module": "@jupyter-widgets/controls",
      "model_module_version": "1.5.0",
      "model_name": "FloatSliderModel",
      "state": {
       "description": "transparency",
       "layout": "IPY_MODEL_65731830c54441e598c43d1764a538a2",
       "max": 1,
       "step": 0.1,
       "style": "IPY_MODEL_01f8e7becffd4b2dab6e12674ca3f07f"
      }
     },
     "d894a0bba7694394abc41df118ceb182": {
      "model_module": "@jupyter-widgets/controls",
      "model_module_version": "1.5.0",
      "model_name": "DescriptionStyleModel",
      "state": {
       "description_width": ""
      }
     },
     "d8d05d5a29a74efe9d2384ef9c0949d6": {
      "model_module": "@jupyter-widgets/controls",
      "model_module_version": "1.5.0",
      "model_name": "FloatTextModel",
      "state": {
       "description": "min",
       "layout": "IPY_MODEL_c860bd1554b0472c85eb2f103d5645a6",
       "step": null,
       "style": "IPY_MODEL_75f428afc0a3423fb7e534bdd51258c5",
       "value": 0.01
      }
     },
     "d8ee38d058ef449f841da3a733066985": {
      "model_module": "@jupyter-widgets/controls",
      "model_module_version": "1.5.0",
      "model_name": "ButtonModel",
      "state": {
       "description": "Add category",
       "layout": "IPY_MODEL_7e8efbd96371439c93796aa025dc2459",
       "style": "IPY_MODEL_6e0f7e8afc03421ca9ad35239807478d"
      }
     },
     "d91d15dec2c547688d7f2ff8421fc644": {
      "model_module": "@jupyter-widgets/controls",
      "model_module_version": "1.5.0",
      "model_name": "ColorPickerModel",
      "state": {
       "description": "emission",
       "disabled": false,
       "layout": "IPY_MODEL_25870a12a13242dc8424cde04c151651",
       "style": "IPY_MODEL_c2f2d37ab5a2472baa131ece956b5501",
       "value": "#000000"
      }
     },
     "d921e7de9ab44ab4b2f930c3c4f1b198": {
      "model_module": "@jupyter-widgets/controls",
      "model_module_version": "1.5.0",
      "model_name": "SliderStyleModel",
      "state": {
       "description_width": ""
      }
     },
     "d934065c2df0404c8065622ee241dd96": {
      "model_module": "@jupyter-widgets/controls",
      "model_module_version": "1.5.0",
      "model_name": "ColorPickerModel",
      "state": {
       "description": "ambient",
       "disabled": false,
       "layout": "IPY_MODEL_fdaf5fa5a54f4007a8756ffb7b209215",
       "style": "IPY_MODEL_690f42ae5a094b499d0de205cfa3414f",
       "value": "#c25173"
      }
     },
     "d9369247700e41028695aa03301533a3": {
      "model_module": "@jupyter-widgets/controls",
      "model_module_version": "1.5.0",
      "model_name": "AccordionModel",
      "state": {
       "_titles": {
        "0": "scalars",
        "1": "materials",
        "2": "functions",
        "3": "curves"
       },
       "children": [
        "IPY_MODEL_f039ea0c32604272aa1c50f111f7a4c9",
        "IPY_MODEL_347acaa63eae4e00a4da54a4e5aa293d",
        "IPY_MODEL_dba8e0ab6061420e8b48f4b135b91803",
        "IPY_MODEL_01a4c9607cdf48b8898781b301081a28"
       ],
       "layout": "IPY_MODEL_2efa585c55484aaba68ded69cdb81b15",
       "selected_index": null
      }
     },
     "d93ddd2368b84814a30872f4a70db859": {
      "model_module": "@jupyter-widgets/base",
      "model_module_version": "1.2.0",
      "model_name": "LayoutModel",
      "state": {}
     },
     "d940873967e849f1925ab23c9e4c6ca9": {
      "model_module": "@jupyter-widgets/controls",
      "model_module_version": "1.5.0",
      "model_name": "DescriptionStyleModel",
      "state": {
       "description_width": ""
      }
     },
     "d94bccd4ec6140aca10be69aef8e0149": {
      "model_module": "@jupyter-widgets/base",
      "model_module_version": "1.2.0",
      "model_name": "LayoutModel",
      "state": {}
     },
     "d95a440053a049df933468128decce4b": {
      "model_module": "@jupyter-widgets/controls",
      "model_module_version": "1.5.0",
      "model_name": "SliderStyleModel",
      "state": {
       "description_width": ""
      }
     },
     "d982615c412e4df78160e7f15829045f": {
      "model_module": "@jupyter-widgets/base",
      "model_module_version": "1.2.0",
      "model_name": "LayoutModel",
      "state": {}
     },
     "d99be6308dbb4e52b17a52b5673e464c": {
      "model_module": "@jupyter-widgets/base",
      "model_module_version": "1.2.0",
      "model_name": "LayoutModel",
      "state": {}
     },
     "d9b71651e2e4497eb40d4f0bf556527f": {
      "model_module": "@jupyter-widgets/controls",
      "model_module_version": "1.5.0",
      "model_name": "HBoxModel",
      "state": {
       "children": [
        "IPY_MODEL_dc46966f56364b3d88a735f76b6d6252",
        "IPY_MODEL_01552cc098bb4739882f3ec4dc719ec8"
       ],
       "layout": "IPY_MODEL_38ddb4788197471db84a1a58ec09b8b2"
      }
     },
     "d9dbfab934ee4dcea49088b5b3989c55": {
      "model_module": "@jupyter-widgets/controls",
      "model_module_version": "1.5.0",
      "model_name": "SliderStyleModel",
      "state": {
       "description_width": ""
      }
     },
     "d9f645703aac40609de27738db4e311a": {
      "model_module": "@jupyter-widgets/base",
      "model_module_version": "1.2.0",
      "model_name": "LayoutModel",
      "state": {}
     },
     "d9fa64f9080840b4a4fcc76aa6cfd4ba": {
      "model_module": "@jupyter-widgets/base",
      "model_module_version": "1.2.0",
      "model_name": "LayoutModel",
      "state": {}
     },
     "da2aaa1ea0664242966e071b924dd707": {
      "model_module": "@jupyter-widgets/controls",
      "model_module_version": "1.5.0",
      "model_name": "DescriptionStyleModel",
      "state": {
       "description_width": ""
      }
     },
     "da2af70e6cb54a87bfe8aba01f079232": {
      "model_module": "@jupyter-widgets/base",
      "model_module_version": "1.2.0",
      "model_name": "LayoutModel",
      "state": {}
     },
     "da3a03d419374886b33c4a33c7123acc": {
      "model_module": "@jupyter-widgets/controls",
      "model_module_version": "1.5.0",
      "model_name": "ColorPickerModel",
      "state": {
       "description": "emission",
       "disabled": false,
       "layout": "IPY_MODEL_30c661fbb27140d0a16de353c96e7fc7",
       "style": "IPY_MODEL_30913895a05c4efe9297847d5ea8e81b",
       "value": "#1f48db"
      }
     },
     "da4128fa63254e7b93c26fadfff2b431": {
      "model_module": "@jupyter-widgets/controls",
      "model_module_version": "1.5.0",
      "model_name": "SliderStyleModel",
      "state": {
       "description_width": ""
      }
     },
     "da5895349d2b44149c25926ea9102116": {
      "model_module": "@jupyter-widgets/controls",
      "model_module_version": "1.5.0",
      "model_name": "IntTextModel",
      "state": {
       "description": "max",
       "layout": "IPY_MODEL_e6ea0b5e2d744d0ca6bd14b27c292d5e",
       "step": 1,
       "style": "IPY_MODEL_b947c8dbfdf949bc8bec1b73362d16c9",
       "value": 10
      }
     },
     "da7312441c124645a859a4440c5e690a": {
      "model_module": "@jupyter-widgets/controls",
      "model_module_version": "1.5.0",
      "model_name": "AccordionModel",
      "state": {
       "_titles": {
        "0": "options",
        "1": "materials",
        "2": "leaf"
       },
       "children": [
        "IPY_MODEL_29155f13bef442a393b221b6846bc956",
        "IPY_MODEL_2dabfefd7ddd4f7eac82d3513cf3d4c1",
        "IPY_MODEL_dc78887cbf65451da414929cd7c91b7c"
       ],
       "layout": "IPY_MODEL_62deae52a33f40b6b13beb81801d5430"
      }
     },
     "da84931aef8d4c1d954b95f4636a7360": {
      "model_module": "pgljupyter",
      "model_module_version": "^0.1.2",
      "model_name": "IntEditorModel",
      "state": {
       "_model_module_version": "^0.1.2",
       "_view_module_version": "^0.1.2",
       "children": [
        "IPY_MODEL_805ea2c62cea4f389e8cdcaf4d3fa2cb",
        "IPY_MODEL_0cc395aa40e94b989a548febcfdb5e05",
        "IPY_MODEL_525695082907441b9d5fe716c55b2141",
        "IPY_MODEL_1bb3336d4bef4979b9bb018af7f4fdc4",
        "IPY_MODEL_07424825f5c943b4b27c37d747ec046a"
       ],
       "layout": "IPY_MODEL_4b3a9d9aa43144fca24393575055b6a0"
      }
     },
     "da9404d5d45342f59651013fc4d315cc": {
      "model_module": "@jupyter-widgets/base",
      "model_module_version": "1.2.0",
      "model_name": "LayoutModel",
      "state": {}
     },
     "dabb1088a9ce4b0e9aa8136772d1f619": {
      "model_module": "@jupyter-widgets/base",
      "model_module_version": "1.2.0",
      "model_name": "LayoutModel",
      "state": {
       "flex_flow": "row wrap",
       "margin": "20px"
      }
     },
     "dabcaf8551834d1191d28e9c7931d628": {
      "model_module": "pgljupyter",
      "model_module_version": "^0.1.15",
      "model_name": "IntEditorModel",
      "state": {
       "_model_module_version": "^0.1.15",
       "_view_module_version": "^0.1.15",
       "children": [
        "IPY_MODEL_12b092c41ce34f619a03357203c1a0cc",
        "IPY_MODEL_76ad72ce11b4453696a91154127944b3",
        "IPY_MODEL_357b13a66a54461f85c83b5b839d7d28",
        "IPY_MODEL_a3f16a6cbca94073ba02caf0836ffa22",
        "IPY_MODEL_a012abcd6bc74010a12be773710adbaa"
       ],
       "layout": "IPY_MODEL_8414c7b941434c7eb8a7d5c1f8c42b9d"
      }
     },
     "dad6e4d1e14943d7b1173fbdad07f14d": {
      "model_module": "@jupyter-widgets/base",
      "model_module_version": "1.2.0",
      "model_name": "LayoutModel",
      "state": {
       "margin": "20px 0px"
      }
     },
     "dadc3eec1d7541bca25ddfd26cddbf9c": {
      "model_module": "@jupyter-widgets/base",
      "model_module_version": "1.2.0",
      "model_name": "LayoutModel",
      "state": {}
     },
     "db083b36502a43eab0cf563b9bd73746": {
      "model_module": "@jupyter-widgets/controls",
      "model_module_version": "1.5.0",
      "model_name": "SliderStyleModel",
      "state": {
       "description_width": ""
      }
     },
     "db2c3d17ca504ca5b12bf8431213c47a": {
      "model_module": "@jupyter-widgets/base",
      "model_module_version": "1.2.0",
      "model_name": "LayoutModel",
      "state": {}
     },
     "db31d87ca5bd458cb9dc6cdc2b581278": {
      "model_module": "@jupyter-widgets/controls",
      "model_module_version": "1.5.0",
      "model_name": "DescriptionStyleModel",
      "state": {
       "description_width": ""
      }
     },
     "db4c3609b3594e998f5efdb2721b2014": {
      "model_module": "@jupyter-widgets/base",
      "model_module_version": "1.2.0",
      "model_name": "LayoutModel",
      "state": {}
     },
     "db60469fe7b74fa6b90e527013919f6a": {
      "model_module": "@jupyter-widgets/controls",
      "model_module_version": "1.5.0",
      "model_name": "HBoxModel",
      "state": {
       "children": [
        "IPY_MODEL_60993753bd0d4ec886412fd97f18a59b",
        "IPY_MODEL_98aa5571686a4f67bacd8fedb3e6193b"
       ],
       "layout": "IPY_MODEL_7b2cfb5993a747b281510bb6228c6f9b"
      }
     },
     "db6605a6e0ee4f75925ce15c464030e2": {
      "model_module": "@jupyter-widgets/base",
      "model_module_version": "1.2.0",
      "model_name": "LayoutModel",
      "state": {}
     },
     "db9786a656f34ac28c504fcbba72adc2": {
      "model_module": "@jupyter-widgets/controls",
      "model_module_version": "1.5.0",
      "model_name": "BoundedIntTextModel",
      "state": {
       "description": "step",
       "layout": "IPY_MODEL_0aa1b06dc5f043478644fff372f306a6",
       "min": 1,
       "style": "IPY_MODEL_d52a4a8134f1480391b2605634851c73",
       "value": 1
      }
     },
     "db99c174f80c4e11afb1a06e36228357": {
      "model_module": "@jupyter-widgets/controls",
      "model_module_version": "1.5.0",
      "model_name": "BoundedIntTextModel",
      "state": {
       "description": "index",
       "layout": "IPY_MODEL_07d9bb8ab52941bd8dcb93c7cdc8d27a",
       "style": "IPY_MODEL_2f2ae84d6e0a4ce28cb9b46fe5dc6734",
       "value": 2
      }
     },
     "dba8e0ab6061420e8b48f4b135b91803": {
      "model_module": "@jupyter-widgets/controls",
      "model_module_version": "1.5.0",
      "model_name": "VBoxModel",
      "state": {
       "children": [
        "IPY_MODEL_2238306649c540a699db292dd4180023",
        "IPY_MODEL_54769b26134a4b46a9dd5a9fb3fe96f0"
       ],
       "layout": "IPY_MODEL_c2f52039c5e94671870caf9530fd4b32"
      }
     },
     "dbad586bb58147e6897aca87cba5932c": {
      "model_module": "@jupyter-widgets/base",
      "model_module_version": "1.2.0",
      "model_name": "LayoutModel",
      "state": {}
     },
     "dbaf90d5970446e487e5f643041a9b19": {
      "model_module": "@jupyter-widgets/controls",
      "model_module_version": "1.5.0",
      "model_name": "IntSliderModel",
      "state": {
       "description": "value",
       "layout": "IPY_MODEL_587b1dffe6b24823be3ef953d7ec9603",
       "max": 10,
       "min": 1,
       "style": "IPY_MODEL_47afa44d41864f5d83f07650c61ec59f",
       "value": 3
      }
     },
     "dbbac5feffe44f8ea5c59ba3d0316d1e": {
      "model_module": "@jupyter-widgets/controls",
      "model_module_version": "1.5.0",
      "model_name": "ButtonStyleModel",
      "state": {}
     },
     "dc1c563d342944eaa299bfa37de8cde0": {
      "model_module": "@jupyter-widgets/controls",
      "model_module_version": "1.5.0",
      "model_name": "DescriptionStyleModel",
      "state": {
       "description_width": ""
      }
     },
     "dc46966f56364b3d88a735f76b6d6252": {
      "model_module": "@jupyter-widgets/controls",
      "model_module_version": "1.5.0",
      "model_name": "ButtonModel",
      "state": {
       "description": "Add",
       "layout": "IPY_MODEL_a5b19a4d1f704db9af915e12ec2ced02",
       "style": "IPY_MODEL_4ade1c185619410ba023ba5776236f1d"
      }
     },
     "dc6aaa49edae4ee0a2076a316cb680a5": {
      "model_module": "@jupyter-widgets/base",
      "model_module_version": "1.2.0",
      "model_name": "LayoutModel",
      "state": {}
     },
     "dc78887cbf65451da414929cd7c91b7c": {
      "model_module": "@jupyter-widgets/controls",
      "model_module_version": "1.5.0",
      "model_name": "VBoxModel",
      "state": {
       "children": [
        "IPY_MODEL_ee6320aebd6c4f979ca54ea3eb66adf6",
        "IPY_MODEL_a4fa7ee9cac145eeaefbeb889426714b",
        "IPY_MODEL_fc4a3b0a28974c0387dfb19294949f65",
        "IPY_MODEL_62ec89cc0dd34f1285be7721c7c1a81f",
        "IPY_MODEL_8e9eadb874e74667b49b67960eb2b573"
       ],
       "layout": "IPY_MODEL_68706a1111d3487ebdb00d305a329564"
      }
     },
     "dc93e065fc0b494a9a9f6ed34b82a08a": {
      "model_module": "@jupyter-widgets/controls",
      "model_module_version": "1.5.0",
      "model_name": "IntSliderModel",
      "state": {
       "description": "value",
       "layout": "IPY_MODEL_26313b1b0e774a5c9296c77a9fb42f6f",
       "max": 10,
       "min": 1,
       "style": "IPY_MODEL_12f7c4ba0f6d4b888ba73f16f369a10a",
       "value": 8
      }
     },
     "dc97f2b89053407e94e886a87cb5eb6b": {
      "model_module": "@jupyter-widgets/controls",
      "model_module_version": "1.5.0",
      "model_name": "IntTextModel",
      "state": {
       "description": "max",
       "layout": "IPY_MODEL_2e6fdecb680e44eab31fbab1ebfe7703",
       "step": 1,
       "style": "IPY_MODEL_776b369c935b4b23a7d6651a4cec65fa",
       "value": 10
      }
     },
     "dcc692a1e723402b8515dab5a7fae469": {
      "model_module": "@jupyter-widgets/controls",
      "model_module_version": "1.5.0",
      "model_name": "DescriptionStyleModel",
      "state": {
       "description_width": ""
      }
     },
     "dcea2b99d9944220b22f37d52109546b": {
      "model_module": "@jupyter-widgets/controls",
      "model_module_version": "1.5.0",
      "model_name": "CheckboxModel",
      "state": {
       "description": "Auto save",
       "disabled": false,
       "layout": "IPY_MODEL_1dea957490a04b95bd3d76aade790f9a",
       "style": "IPY_MODEL_ed01fbfb9d7e43889b4d42efd27eb828",
       "value": false
      }
     },
     "dcf562ba50024580a28601b487165136": {
      "model_module": "@jupyter-widgets/controls",
      "model_module_version": "1.5.0",
      "model_name": "DescriptionStyleModel",
      "state": {
       "description_width": ""
      }
     },
     "dcfb48abfda54a35af7971ad239e0221": {
      "model_module": "@jupyter-widgets/controls",
      "model_module_version": "1.5.0",
      "model_name": "ButtonStyleModel",
      "state": {}
     },
     "dd0de27d197b44f9a2e82859a8717af4": {
      "model_module": "@jupyter-widgets/base",
      "model_module_version": "1.2.0",
      "model_name": "LayoutModel",
      "state": {}
     },
     "dd102dc49a7246f4bde5beafb66f73bc": {
      "model_module": "@jupyter-widgets/controls",
      "model_module_version": "1.5.0",
      "model_name": "HBoxModel",
      "state": {
       "children": [
        "IPY_MODEL_d78fbcd4a00a4766a04a3fdcc4928a96"
       ],
       "layout": "IPY_MODEL_dd33ed74409b4c0795183b005c20d306"
      }
     },
     "dd33ed74409b4c0795183b005c20d306": {
      "model_module": "@jupyter-widgets/base",
      "model_module_version": "1.2.0",
      "model_name": "LayoutModel",
      "state": {
       "flex_flow": "row wrap",
       "margin": "20px"
      }
     },
     "dd72025c1e3449dcbda94bf41b2283c2": {
      "model_module": "@jupyter-widgets/controls",
      "model_module_version": "1.5.0",
      "model_name": "ButtonStyleModel",
      "state": {}
     },
     "dd756382441c405cb77e16e203e7f887": {
      "model_module": "@jupyter-widgets/base",
      "model_module_version": "1.2.0",
      "model_name": "LayoutModel",
      "state": {}
     },
     "dd7ac3c640654e17b4ec13dae2581a9f": {
      "model_module": "@jupyter-widgets/base",
      "model_module_version": "1.2.0",
      "model_name": "LayoutModel",
      "state": {
       "margin": "20px 0px"
      }
     },
     "dd8cbc2eaaeb415dbc538b88d4e53a59": {
      "model_module": "pgljupyter",
      "model_module_version": "^0.1.2",
      "model_name": "IntEditorModel",
      "state": {
       "_model_module_version": "^0.1.2",
       "_view_module_version": "^0.1.2",
       "children": [
        "IPY_MODEL_cf6091e0273242ae91488af7bed1c9b8",
        "IPY_MODEL_777034ee9c8848ce81cea022bafe8d9a",
        "IPY_MODEL_abdee7edd55249719f1a4066ecbd2150",
        "IPY_MODEL_4f98121246334297a02fb360aff2e606",
        "IPY_MODEL_cceb5c3176fc4d4391580243e90f5c8d"
       ],
       "layout": "IPY_MODEL_02a74f7bceb840a7a578defaea9f85bd"
      }
     },
     "dd8f3f0b92cf451cb2bcd0943c9f343e": {
      "model_module": "pgljupyter",
      "model_module_version": "^0.1.15",
      "model_name": "IntEditorModel",
      "state": {
       "_model_module_version": "^0.1.15",
       "_view_module_version": "^0.1.15",
       "children": [
        "IPY_MODEL_85ab499a2fe04d21937c2c28c5ef4d22",
        "IPY_MODEL_9aea6b75d73e4d2684deee5c1dd34aca",
        "IPY_MODEL_c88d821ebcd64c5ca5b75142a3ecf5fb",
        "IPY_MODEL_242c3fa35ec34b858d263a14452bfc98",
        "IPY_MODEL_3025af6ca9bf4347aacac2bab4a9537d"
       ],
       "layout": "IPY_MODEL_58530780f2564c3c99b0a91526b8644d"
      }
     },
     "dda3a7c45af647cd99ae90f22c07e6ee": {
      "model_module": "@jupyter-widgets/controls",
      "model_module_version": "1.5.0",
      "model_name": "DescriptionStyleModel",
      "state": {
       "description_width": ""
      }
     },
     "ddaa22057bde46fe9787ccc3be7c1bcd": {
      "model_module": "@jupyter-widgets/base",
      "model_module_version": "1.2.0",
      "model_name": "LayoutModel",
      "state": {}
     },
     "ddfa585acc054f87a20eb6fbdd7f0ffd": {
      "model_module": "pgljupyter",
      "model_module_version": "^0.1.15",
      "model_name": "IntEditorModel",
      "state": {
       "_model_module_version": "^0.1.15",
       "_view_module_version": "^0.1.15",
       "children": [
        "IPY_MODEL_08e20d00e2c34a6fb421d717fe339134",
        "IPY_MODEL_3cdf35cd62644896a16f3d50c9643c05",
        "IPY_MODEL_68ab15503e7144eeaca416345a4ffac9",
        "IPY_MODEL_f9f2a1c00c914a7896133bc92644cc0c",
        "IPY_MODEL_7456408b397549b4b4ff9f8ec2085ddd"
       ],
       "layout": "IPY_MODEL_aa07da9e8f924a6e8831867ca6cdb0b1"
      }
     },
     "de0b48a6cb134fff9766d15989761c4a": {
      "model_module": "@jupyter-widgets/controls",
      "model_module_version": "1.5.0",
      "model_name": "ButtonStyleModel",
      "state": {}
     },
     "de40add93b8a4b35b57878f54f78831a": {
      "model_module": "@jupyter-widgets/base",
      "model_module_version": "1.2.0",
      "model_name": "LayoutModel",
      "state": {}
     },
     "de4f8356b53a4020880a9d2e97d68ef3": {
      "model_module": "@jupyter-widgets/controls",
      "model_module_version": "1.5.0",
      "model_name": "DescriptionStyleModel",
      "state": {
       "description_width": ""
      }
     },
     "de51563dc00a4ff9a2f1105db25b5ceb": {
      "model_module": "@jupyter-widgets/base",
      "model_module_version": "1.2.0",
      "model_name": "LayoutModel",
      "state": {}
     },
     "de520af63f894e46b2ba1a7b22de2f61": {
      "model_module": "@jupyter-widgets/base",
      "model_module_version": "1.2.0",
      "model_name": "LayoutModel",
      "state": {}
     },
     "de936a5db9144991901ed6d1825827c1": {
      "model_module": "@jupyter-widgets/base",
      "model_module_version": "1.2.0",
      "model_name": "LayoutModel",
      "state": {}
     },
     "deaf1e6127c04a738ef764a2542eff1b": {
      "model_module": "@jupyter-widgets/base",
      "model_module_version": "1.2.0",
      "model_name": "LayoutModel",
      "state": {}
     },
     "df586ff38e6d4b7999878b6b5fd724cc": {
      "model_module": "@jupyter-widgets/controls",
      "model_module_version": "1.5.0",
      "model_name": "TabModel",
      "state": {
       "_titles": {
        "0": "leuwenberg.json"
       },
       "children": [
        "IPY_MODEL_ed7d8c3f1ace494db1bedeb30e2083f7"
       ],
       "layout": "IPY_MODEL_d52733beff484a4bbc5178e5dc98c84f"
      }
     },
     "df58d07e8a294d0fa7e7066be5191571": {
      "model_module": "@jupyter-widgets/base",
      "model_module_version": "1.2.0",
      "model_name": "LayoutModel",
      "state": {
       "margin": "20px 0px"
      }
     },
     "df929577f3684b25ba32fb1fc5b12d69": {
      "model_module": "@jupyter-widgets/base",
      "model_module_version": "1.2.0",
      "model_name": "LayoutModel",
      "state": {}
     },
     "df95ab311aec4dfa843cb14b58334dec": {
      "model_module": "@jupyter-widgets/controls",
      "model_module_version": "1.5.0",
      "model_name": "DescriptionStyleModel",
      "state": {
       "description_width": ""
      }
     },
     "dfb6de20b2d040d389489361ab6b5b90": {
      "model_module": "@jupyter-widgets/controls",
      "model_module_version": "1.5.0",
      "model_name": "BoundedIntTextModel",
      "state": {
       "description": "index",
       "layout": "IPY_MODEL_6526d94e31d541bf82341883da088798",
       "style": "IPY_MODEL_f7bc81beab154e9e9e68dc0ef851e9f4",
       "value": 4
      }
     },
     "dfd526526e204be88fd05e05ac6a58cf": {
      "model_module": "@jupyter-widgets/base",
      "model_module_version": "1.2.0",
      "model_name": "LayoutModel",
      "state": {}
     },
     "e066c1d3b6204426b66d64b4adb12f3b": {
      "model_module": "@jupyter-widgets/controls",
      "model_module_version": "1.5.0",
      "model_name": "FloatTextModel",
      "state": {
       "description": "max",
       "layout": "IPY_MODEL_6936b2bdebaf451c9767cd63f4c5a6be",
       "step": null,
       "style": "IPY_MODEL_d2812f3cd2b94243b167660180ef795f",
       "value": 0.1
      }
     },
     "e0a18bca74904e2e92327b564140f0b1": {
      "model_module": "@jupyter-widgets/base",
      "model_module_version": "1.2.0",
      "model_name": "LayoutModel",
      "state": {}
     },
     "e0ad26a041054212b2d074504dff1994": {
      "model_module": "@jupyter-widgets/base",
      "model_module_version": "1.2.0",
      "model_name": "LayoutModel",
      "state": {
       "flex_flow": "row wrap",
       "margin": "20px"
      }
     },
     "e0d3b484200b4472a943c361ea5e1294": {
      "model_module": "@jupyter-widgets/base",
      "model_module_version": "1.2.0",
      "model_name": "LayoutModel",
      "state": {}
     },
     "e0fe7799410b49c6918278e53e30b819": {
      "model_module": "pgljupyter",
      "model_module_version": "^0.1.2",
      "model_name": "CurveEditorModel",
      "state": {
       "_model_module_version": "^0.1.2",
       "_view_module_version": "^0.1.2",
       "children": [
        "IPY_MODEL_ea4c650ac81c44fdaf31b1d9eebdfd74",
        "IPY_MODEL_5fcc45e79e4548fd9842f2b10f8450e1"
       ],
       "layout": "IPY_MODEL_996caf2446e9407b9b792dca3f37a21f"
      }
     },
     "e1094a2947b14b6790489ebdfba93292": {
      "model_module": "@jupyter-widgets/base",
      "model_module_version": "1.2.0",
      "model_name": "LayoutModel",
      "state": {}
     },
     "e11b0a98678d45d3b8910465d0aa3c42": {
      "model_module": "@jupyter-widgets/base",
      "model_module_version": "1.2.0",
      "model_name": "LayoutModel",
      "state": {}
     },
     "e124b9fefb784a3bad65373e1ef9c403": {
      "model_module": "@jupyter-widgets/controls",
      "model_module_version": "1.5.0",
      "model_name": "SliderStyleModel",
      "state": {
       "description_width": ""
      }
     },
     "e156370312ca44d5b9eaffa7beeb1c52": {
      "model_module": "@jupyter-widgets/controls",
      "model_module_version": "1.5.0",
      "model_name": "ButtonModel",
      "state": {
       "description": "Add",
       "layout": "IPY_MODEL_a76bae76a03543469d6f1e10f6d263cb",
       "style": "IPY_MODEL_d815cf04fa1e4602a3eae7b84a7a88e8"
      }
     },
     "e19f14bb08ff456580c755956fa0c7e1": {
      "model_module": "@jupyter-widgets/controls",
      "model_module_version": "1.5.0",
      "model_name": "DescriptionStyleModel",
      "state": {
       "description_width": ""
      }
     },
     "e1ab7903552947558c2f9def1fa24f2a": {
      "model_module": "@jupyter-widgets/base",
      "model_module_version": "1.2.0",
      "model_name": "LayoutModel",
      "state": {
       "margin": "20px 0px"
      }
     },
     "e1d8481c897f4febb51664392ed71944": {
      "model_module": "@jupyter-widgets/controls",
      "model_module_version": "1.5.0",
      "model_name": "DescriptionStyleModel",
      "state": {
       "description_width": ""
      }
     },
     "e202f552d4a24fbbae5bf3a8236edbdd": {
      "model_module": "@jupyter-widgets/controls",
      "model_module_version": "1.5.0",
      "model_name": "DescriptionStyleModel",
      "state": {
       "description_width": ""
      }
     },
     "e22c85174a2a4a7ba7797cf1f39856bf": {
      "model_module": "@jupyter-widgets/controls",
      "model_module_version": "1.5.0",
      "model_name": "HBoxModel",
      "state": {
       "layout": "IPY_MODEL_1bcadc721303432abe9c782e04d39bdb"
      }
     },
     "e263953a6db44964a7d275e264b6be36": {
      "model_module": "@jupyter-widgets/base",
      "model_module_version": "1.2.0",
      "model_name": "LayoutModel",
      "state": {}
     },
     "e26f8c78c9d141418e8ddc90782f721b": {
      "model_module": "@jupyter-widgets/base",
      "model_module_version": "1.2.0",
      "model_name": "LayoutModel",
      "state": {}
     },
     "e27e310bc1fb461e9c092cb5a0110240": {
      "model_module": "@jupyter-widgets/controls",
      "model_module_version": "1.5.0",
      "model_name": "DescriptionStyleModel",
      "state": {
       "description_width": ""
      }
     },
     "e295311571c847198be6ba0736a5c38f": {
      "model_module": "@jupyter-widgets/controls",
      "model_module_version": "1.5.0",
      "model_name": "DescriptionStyleModel",
      "state": {
       "description_width": ""
      }
     },
     "e2bbf9fe0170439da72f2ae72ece5ca5": {
      "model_module": "@jupyter-widgets/controls",
      "model_module_version": "1.5.0",
      "model_name": "SliderStyleModel",
      "state": {
       "description_width": ""
      }
     },
     "e2c4c643271949e28d30a7ca76ab93b5": {
      "model_module": "@jupyter-widgets/controls",
      "model_module_version": "1.5.0",
      "model_name": "TabModel",
      "state": {
       "layout": "IPY_MODEL_01ed8b7f59ca414aa3f811a9599fb7db"
      }
     },
     "e2d4e3a129b248a38ffe2d1416c7c608": {
      "model_module": "@jupyter-widgets/base",
      "model_module_version": "1.2.0",
      "model_name": "LayoutModel",
      "state": {}
     },
     "e2fd87fed5a7413f93165197a21bba75": {
      "model_module": "@jupyter-widgets/controls",
      "model_module_version": "1.5.0",
      "model_name": "VBoxModel",
      "state": {
       "children": [
        "IPY_MODEL_5c648fc1282e4142bf56f959ae9b8c72",
        "IPY_MODEL_ce32b0018ce54d10822b9f7228f05020"
       ],
       "layout": "IPY_MODEL_eb80862c178e400bb5151a7942ab2b57"
      }
     },
     "e3071eba15a74f3fb224da653c0acb19": {
      "model_module": "@jupyter-widgets/controls",
      "model_module_version": "1.5.0",
      "model_name": "HBoxModel",
      "state": {
       "children": [
        "IPY_MODEL_578316b91d17484a80132ba6fadd8e4d",
        "IPY_MODEL_48c1f53971054738990806ae620d7667"
       ],
       "layout": "IPY_MODEL_d5974bbba58d48d682cb09b34e264de7"
      }
     },
     "e3353b3f6a96456abf71214c6267576a": {
      "model_module": "@jupyter-widgets/base",
      "model_module_version": "1.2.0",
      "model_name": "LayoutModel",
      "state": {}
     },
     "e347dd6439354af5aaa28bcee33af287": {
      "model_module": "@jupyter-widgets/controls",
      "model_module_version": "1.5.0",
      "model_name": "AccordionModel",
      "state": {
       "_titles": {
        "0": "options",
        "1": "materials",
        "2": "leaf"
       },
       "children": [
        "IPY_MODEL_fa4cc27419564b1fbe3f9b5d8348df68",
        "IPY_MODEL_f29a3635a6dc46878f4ee4a1ca23ab7b",
        "IPY_MODEL_8235132049f4487c9cc2c569e3afbe7a"
       ],
       "layout": "IPY_MODEL_ef15d964e6a54da3b1bc50086a840e35"
      }
     },
     "e37d89d33f5247fabb4c5bd3180c3585": {
      "model_module": "@jupyter-widgets/controls",
      "model_module_version": "1.5.0",
      "model_name": "BoundedIntTextModel",
      "state": {
       "description": "index",
       "layout": "IPY_MODEL_4f50c35ffadf4ec98dad9f907df989f7",
       "style": "IPY_MODEL_83b6503ca459477ca4b512f54b246da1",
       "value": 4
      }
     },
     "e38a5927e6934a1eb8de6edff55adc76": {
      "model_module": "@jupyter-widgets/controls",
      "model_module_version": "1.5.0",
      "model_name": "FloatSliderModel",
      "state": {
       "description": "transparency",
       "layout": "IPY_MODEL_8d72828213d54034baa081e13312c7e8",
       "max": 1,
       "step": 0.1,
       "style": "IPY_MODEL_c77747e99e2248869202f774aa46d72e",
       "value": 1
      }
     },
     "e3ca09485f8f45a38649ee0f2bdcfb30": {
      "model_module": "@jupyter-widgets/controls",
      "model_module_version": "1.5.0",
      "model_name": "DescriptionStyleModel",
      "state": {
       "description_width": ""
      }
     },
     "e3eceff915e34d34a13ed1eb03df363a": {
      "model_module": "@jupyter-widgets/controls",
      "model_module_version": "1.5.0",
      "model_name": "FloatSliderModel",
      "state": {
       "description": "transparency",
       "layout": "IPY_MODEL_c16082e6d3a645f7b19cfe14354458e0",
       "max": 1,
       "step": 0.1,
       "style": "IPY_MODEL_c1116c71e9014c2eaad9ce73d9a71d81"
      }
     },
     "e4281dffb1a34b929dccf11abee4c9b0": {
      "model_module": "@jupyter-widgets/base",
      "model_module_version": "1.2.0",
      "model_name": "LayoutModel",
      "state": {}
     },
     "e44c3a9a37614eeb88bf81b14bbc07fd": {
      "model_module": "@jupyter-widgets/base",
      "model_module_version": "1.2.0",
      "model_name": "LayoutModel",
      "state": {}
     },
     "e48e7dbe0f2d43968465040e955d8345": {
      "model_module": "@jupyter-widgets/controls",
      "model_module_version": "1.5.0",
      "model_name": "FloatSliderModel",
      "state": {
       "description": "transparency",
       "layout": "IPY_MODEL_571665d2589c4afe81d46ca91f1b0d86",
       "max": 1,
       "step": 0.1,
       "style": "IPY_MODEL_366af79109f740cd87594d2bcbe4e358"
      }
     },
     "e4a181143ef44778a2fa43c17cd0c92d": {
      "model_module": "@jupyter-widgets/controls",
      "model_module_version": "1.5.0",
      "model_name": "ButtonModel",
      "state": {
       "description": "Delete",
       "layout": "IPY_MODEL_0aedf9aac92e456a9cb283a8e2efc37c",
       "style": "IPY_MODEL_fd317e6d2b9f4d93ac40d840048b2cf1"
      }
     },
     "e4bda8110a6f4eb5951c91a6a55e12fc": {
      "model_module": "@jupyter-widgets/base",
      "model_module_version": "1.2.0",
      "model_name": "LayoutModel",
      "state": {}
     },
     "e4c3ae23f2c148a1905e022a86917212": {
      "model_module": "pgljupyter",
      "model_module_version": "^0.1.15",
      "model_name": "MaterialEditorModel",
      "state": {
       "_model_module_version": "^0.1.15",
       "_view_module_version": "^0.1.15",
       "children": [
        "IPY_MODEL_ff8282e99e1b4b10835d79c69aa461af",
        "IPY_MODEL_59c51570d1884b5ba5083077f9f5b157",
        "IPY_MODEL_8ad51eb776394b4a93dbc7a1dfb9d73e",
        "IPY_MODEL_3757368916f448ea8908a387c8d15320",
        "IPY_MODEL_7d4964c39942453d80f2b8c6293410d3",
        "IPY_MODEL_5b304100eebf4a1f9391c0dd6994324b",
        "IPY_MODEL_6cf7e2888639439eba947cbc9d3a0949"
       ],
       "layout": "IPY_MODEL_f0f0dc70897a49ec9f905e9fe61d4c36"
      }
     },
     "e4c4383d338c4f9f97d40c892dd6df0b": {
      "model_module": "@jupyter-widgets/controls",
      "model_module_version": "1.5.0",
      "model_name": "DescriptionStyleModel",
      "state": {
       "description_width": ""
      }
     },
     "e4d183dca0944a01b23d4f4e77be074e": {
      "model_module": "@jupyter-widgets/controls",
      "model_module_version": "1.5.0",
      "model_name": "DescriptionStyleModel",
      "state": {
       "description_width": ""
      }
     },
     "e4d3e4ea1a5a409a99f97e15fc9c10ff": {
      "model_module": "@jupyter-widgets/controls",
      "model_module_version": "1.5.0",
      "model_name": "DescriptionStyleModel",
      "state": {
       "description_width": ""
      }
     },
     "e4ed2a8cf83f4a3f8f4c15b9e43983af": {
      "model_module": "@jupyter-widgets/base",
      "model_module_version": "1.2.0",
      "model_name": "LayoutModel",
      "state": {}
     },
     "e4ef16ba9f8d4ae8825c801d11eb33ba": {
      "model_module": "@jupyter-widgets/controls",
      "model_module_version": "1.5.0",
      "model_name": "TextModel",
      "state": {
       "continuous_update": false,
       "description": "name",
       "layout": "IPY_MODEL_ba48b67039584cd4a738aff600735696",
       "style": "IPY_MODEL_e19f14bb08ff456580c755956fa0c7e1",
       "value": "color_4"
      }
     },
     "e4ff7fb07ae2410da15e26183976c224": {
      "model_module": "pgljupyter",
      "model_module_version": "^0.1.15",
      "model_name": "LsystemWidgetModel",
      "state": {
       "_model_module_version": "^0.1.15",
       "_view_module_version": "^0.1.15",
       "axes_helper": false,
       "derivationLength": 41,
       "layout": "IPY_MODEL_e566957532ca4ae7abdc6ab937dceb88",
       "light_helper": false,
       "plane": true,
       "size_display": [
        400,
        400
       ],
       "size_world": 50
      }
     },
     "e553c2f8eeb9415c82b98e1a6115e9d8": {
      "model_module": "@jupyter-widgets/controls",
      "model_module_version": "1.5.0",
      "model_name": "DescriptionStyleModel",
      "state": {
       "description_width": ""
      }
     },
     "e566957532ca4ae7abdc6ab937dceb88": {
      "model_module": "@jupyter-widgets/base",
      "model_module_version": "1.2.0",
      "model_name": "LayoutModel",
      "state": {}
     },
     "e5933bb77a9d413a9d681c31c7d59d46": {
      "model_module": "@jupyter-widgets/controls",
      "model_module_version": "1.5.0",
      "model_name": "ButtonModel",
      "state": {
       "description": "Add",
       "layout": "IPY_MODEL_211b1b5d82264938ace5ce2c20caba9b",
       "style": "IPY_MODEL_c8f7c0c083654692bcaf39f7ed6f4596"
      }
     },
     "e5d600174e1840fd85e552b015fefa98": {
      "model_module": "@jupyter-widgets/base",
      "model_module_version": "1.2.0",
      "model_name": "LayoutModel",
      "state": {}
     },
     "e5e3ace6dc704e5aafec173d9f05163d": {
      "model_module": "@jupyter-widgets/controls",
      "model_module_version": "1.5.0",
      "model_name": "FloatSliderModel",
      "state": {
       "description": "diffuse",
       "layout": "IPY_MODEL_76df08ea6d28482b8c1f8e499825360f",
       "max": 1,
       "step": 0.1,
       "style": "IPY_MODEL_5dfb04fd42f143819e97dabdc39b2d5f",
       "value": 1
      }
     },
     "e5e553e6acfa43be9690659edc56b638": {
      "model_module": "@jupyter-widgets/controls",
      "model_module_version": "1.5.0",
      "model_name": "VBoxModel",
      "state": {
       "children": [
        "IPY_MODEL_beffbb3f77dd4d94aef20d7baaf0b0b4",
        "IPY_MODEL_038dd9c257d341c099569c1521bb00f1"
       ],
       "layout": "IPY_MODEL_358645419ea648e0a94f01980055f440"
      }
     },
     "e5f2a00f0c414126bf3ef2ee0b39a77e": {
      "model_module": "@jupyter-widgets/controls",
      "model_module_version": "1.5.0",
      "model_name": "FloatSliderModel",
      "state": {
       "description": "diffuse",
       "layout": "IPY_MODEL_b6b202d696eb4461a098c904fe501f29",
       "max": 3,
       "step": 0.1,
       "style": "IPY_MODEL_5ef19f5685044302a37b53321ff329c7",
       "value": 1
      }
     },
     "e6df947ce73c4eabba61af317c05a2b5": {
      "model_module": "@jupyter-widgets/controls",
      "model_module_version": "1.5.0",
      "model_name": "DescriptionStyleModel",
      "state": {
       "description_width": ""
      }
     },
     "e6ea0b5e2d744d0ca6bd14b27c292d5e": {
      "model_module": "@jupyter-widgets/base",
      "model_module_version": "1.2.0",
      "model_name": "LayoutModel",
      "state": {}
     },
     "e6f7999a813c4addbdf894e262c9168f": {
      "model_module": "pgljupyter",
      "model_module_version": "^0.1.15",
      "model_name": "MaterialEditorModel",
      "state": {
       "_model_module_version": "^0.1.15",
       "_view_module_version": "^0.1.15",
       "children": [
        "IPY_MODEL_823f7f7401fd4f2db5bafaecaddc2207",
        "IPY_MODEL_bfebe2c916cd4f94ba35b732dbd68fc0",
        "IPY_MODEL_688fe3d73f9c4ca091ec59245c5a6eb0",
        "IPY_MODEL_f5a61e07ca2547a48dc488b02d2e4866",
        "IPY_MODEL_97d0ec30cb08453f949f7b6111f45ad9",
        "IPY_MODEL_49d765156c8d405a9d5045aaad000d89",
        "IPY_MODEL_b8a341e1224a48b5bd5cc9f85ff9b22c"
       ],
       "layout": "IPY_MODEL_d11ae994789144a783cc4f4ae6406755"
      }
     },
     "e6f811646f71496a9bc1332ef63bb6fa": {
      "model_module": "@jupyter-widgets/base",
      "model_module_version": "1.2.0",
      "model_name": "LayoutModel",
      "state": {}
     },
     "e700ea4270ea4836ad1de12b91071334": {
      "model_module": "@jupyter-widgets/base",
      "model_module_version": "1.2.0",
      "model_name": "LayoutModel",
      "state": {}
     },
     "e7029c8f593c45218835e45c08d07b99": {
      "model_module": "@jupyter-widgets/base",
      "model_module_version": "1.2.0",
      "model_name": "LayoutModel",
      "state": {}
     },
     "e7259c5497f84e1aab37519dbcad93ac": {
      "model_module": "@jupyter-widgets/controls",
      "model_module_version": "1.5.0",
      "model_name": "BoundedIntTextModel",
      "state": {
       "description": "index",
       "layout": "IPY_MODEL_87ce8cc41c754ca18695a557906ccd97",
       "style": "IPY_MODEL_781cd7a79eca47c28f53b15c879b677d",
       "value": 3
      }
     },
     "e726edc415ce408287086d7be2efd682": {
      "model_module": "@jupyter-widgets/controls",
      "model_module_version": "1.5.0",
      "model_name": "DescriptionStyleModel",
      "state": {
       "description_width": ""
      }
     },
     "e7d57c4c8c8a4814a66792e624eab80b": {
      "model_module": "@jupyter-widgets/controls",
      "model_module_version": "1.5.0",
      "model_name": "DropdownModel",
      "state": {
       "_options_labels": [
        "Integer",
        "Float",
        "Bool"
       ],
       "index": 0,
       "layout": "IPY_MODEL_c40d91bd421049d38bc8e192e39e9122",
       "style": "IPY_MODEL_07222ec0cc5f4b80ac8b7e5edc408fd8"
      }
     },
     "e7dc7fcd593c4e28ae3cb3fdec811293": {
      "model_module": "@jupyter-widgets/controls",
      "model_module_version": "1.5.0",
      "model_name": "DescriptionStyleModel",
      "state": {
       "description_width": ""
      }
     },
     "e8085364e31d455da333f395d8708b18": {
      "model_module": "@jupyter-widgets/controls",
      "model_module_version": "1.5.0",
      "model_name": "FloatSliderModel",
      "state": {
       "description": "transparency",
       "layout": "IPY_MODEL_ab842bdc36b84649bdf23c718ad661b1",
       "max": 1,
       "step": 0.1,
       "style": "IPY_MODEL_30ea76a55acd406bad8fb7188aff0f41",
       "value": 1
      }
     },
     "e814128cb3ca406599575becc4a69bc2": {
      "model_module": "@jupyter-widgets/base",
      "model_module_version": "1.2.0",
      "model_name": "LayoutModel",
      "state": {}
     },
     "e8399564e03e4c88bfaaaad19c92859c": {
      "model_module": "@jupyter-widgets/controls",
      "model_module_version": "1.5.0",
      "model_name": "HBoxModel",
      "state": {
       "layout": "IPY_MODEL_dd33ed74409b4c0795183b005c20d306"
      }
     },
     "e83dc2353dde47c89a318c26129fe28f": {
      "model_module": "@jupyter-widgets/controls",
      "model_module_version": "1.5.0",
      "model_name": "ButtonStyleModel",
      "state": {}
     },
     "e87be55322d142e4ae529a30b802cdfd": {
      "model_module": "@jupyter-widgets/controls",
      "model_module_version": "1.5.0",
      "model_name": "SliderStyleModel",
      "state": {
       "description_width": ""
      }
     },
     "e889ca8c978743dd9db02f1470e972f4": {
      "model_module": "@jupyter-widgets/controls",
      "model_module_version": "1.5.0",
      "model_name": "DescriptionStyleModel",
      "state": {
       "description_width": ""
      }
     },
     "e8a1293c8e404f6fbab9134c12c64ea0": {
      "model_module": "pgljupyter",
      "model_module_version": "^0.1.15",
      "model_name": "MaterialEditorModel",
      "state": {
       "_model_module_version": "^0.1.15",
       "_view_module_version": "^0.1.15",
       "children": [
        "IPY_MODEL_6f61998e94984f5c87005739e4ef1539",
        "IPY_MODEL_5a0bb9f3a4c444d397509b0db43feacb",
        "IPY_MODEL_bc3a69f7dd4a4502ac15812f3b77ce57",
        "IPY_MODEL_e991c2116460414daf97e00a6b182f02",
        "IPY_MODEL_41b11a902f0b4b40b04420b38c31311f",
        "IPY_MODEL_22a056bc617349faa4d46a4d6716fdc2",
        "IPY_MODEL_bc8843dead4445a69000087749f7c98e"
       ],
       "layout": "IPY_MODEL_d0ec2f38f17a4341b610533ca10507f5"
      }
     },
     "e8c7e96d2aa44c5d9a4ad938b6afa6b7": {
      "model_module": "@jupyter-widgets/base",
      "model_module_version": "1.2.0",
      "model_name": "LayoutModel",
      "state": {}
     },
     "e932545f5a6741aba1e8ae82ce2fcd9d": {
      "model_module": "@jupyter-widgets/base",
      "model_module_version": "1.2.0",
      "model_name": "LayoutModel",
      "state": {}
     },
     "e9776a2fa8824edb88f935c9499d6e4a": {
      "model_module": "@jupyter-widgets/base",
      "model_module_version": "1.2.0",
      "model_name": "LayoutModel",
      "state": {}
     },
     "e991c2116460414daf97e00a6b182f02": {
      "model_module": "@jupyter-widgets/controls",
      "model_module_version": "1.5.0",
      "model_name": "ColorPickerModel",
      "state": {
       "description": "specular",
       "disabled": false,
       "layout": "IPY_MODEL_fb8fa78d37ab4f5eabf718eac7a950f5",
       "style": "IPY_MODEL_0ed504f05672436b8bc3cfae1bbaa9b0",
       "value": "#282828"
      }
     },
     "e9a28764da86462989ec78c491d605f4": {
      "model_module": "@jupyter-widgets/base",
      "model_module_version": "1.2.0",
      "model_name": "LayoutModel",
      "state": {}
     },
     "e9a35bdd82414d47ad0f97d860c1798a": {
      "model_module": "@jupyter-widgets/base",
      "model_module_version": "1.2.0",
      "model_name": "LayoutModel",
      "state": {}
     },
     "e9a9f6fca3b84589a232b1138b72fa62": {
      "model_module": "@jupyter-widgets/controls",
      "model_module_version": "1.5.0",
      "model_name": "FloatSliderModel",
      "state": {
       "description": "shininess",
       "layout": "IPY_MODEL_1a573eadc9614551b2751a0416609504",
       "max": 1,
       "step": 0.1,
       "style": "IPY_MODEL_bc0183c58b444802a552b4adb9c91726",
       "value": 0.5
      }
     },
     "e9c9719a96954391b16735052984d157": {
      "model_module": "@jupyter-widgets/base",
      "model_module_version": "1.2.0",
      "model_name": "LayoutModel",
      "state": {}
     },
     "ea4c650ac81c44fdaf31b1d9eebdfd74": {
      "model_module": "@jupyter-widgets/controls",
      "model_module_version": "1.5.0",
      "model_name": "TextModel",
      "state": {
       "continuous_update": false,
       "description": "name",
       "layout": "IPY_MODEL_4ab95f25721548e9a6f9af0e22f82169",
       "style": "IPY_MODEL_1025d095d9fd45ac972ac75098ab94e7",
       "value": "NurbsCurve2D_1"
      }
     },
     "ea5ec10b12f04116a2a2777b6a3e3bf7": {
      "model_module": "@jupyter-widgets/controls",
      "model_module_version": "1.5.0",
      "model_name": "DropdownModel",
      "state": {
       "_options_labels": [
        "NurbsCurve2D",
        "BezierCurve2D",
        "Polyline2D",
        "Function"
       ],
       "index": 0,
       "layout": "IPY_MODEL_0639a86ff18c44a4b3981fecbdf22839",
       "style": "IPY_MODEL_6da0a15be161456784a4a7303ba1ab3f"
      }
     },
     "ea6e9d165e2848e68644773992116562": {
      "model_module": "@jupyter-widgets/controls",
      "model_module_version": "1.5.0",
      "model_name": "SliderStyleModel",
      "state": {
       "description_width": ""
      }
     },
     "ea7885aa88c346e4ad852d6891676205": {
      "model_module": "@jupyter-widgets/base",
      "model_module_version": "1.2.0",
      "model_name": "LayoutModel",
      "state": {}
     },
     "ea946b50bbd743e3a866b07dd18678df": {
      "model_module": "pgljupyter",
      "model_module_version": "^0.1.2",
      "model_name": "CurveEditorModel",
      "state": {
       "_model_module_version": "^0.1.2",
       "_view_module_version": "^0.1.2",
       "children": [
        "IPY_MODEL_0517c90068cf49819b0878b929df6a97",
        "IPY_MODEL_78ba74ff3c3846c2b2a4b37a28c0386a"
       ],
       "layout": "IPY_MODEL_c55c011e738a41e3bfd9ff758ced3850"
      }
     },
     "eaa860c3bae5461e94198d4aae2d4132": {
      "model_module": "@jupyter-widgets/controls",
      "model_module_version": "1.5.0",
      "model_name": "TextModel",
      "state": {
       "continuous_update": false,
       "description": "name",
       "layout": "IPY_MODEL_535f175086a44e38a4ff3bc2146bac45",
       "style": "IPY_MODEL_c3416d5695684eee827d3fa2904cd093",
       "value": "maxorder"
      }
     },
     "eaab227e7cbe45788ad1bca396e9f0d4": {
      "model_module": "@jupyter-widgets/base",
      "model_module_version": "1.2.0",
      "model_name": "LayoutModel",
      "state": {}
     },
     "eb213cce123c4addb00b6c03aa7ded4d": {
      "model_module": "@jupyter-widgets/controls",
      "model_module_version": "1.5.0",
      "model_name": "HBoxModel",
      "state": {
       "children": [
        "IPY_MODEL_42244a39a43e44af8d0981041971bd43",
        "IPY_MODEL_7f53e5ca1f0244ada7d80c2b4e4b53eb"
       ],
       "layout": "IPY_MODEL_7132269619cf4705b3ad89f7dbc818fb"
      }
     },
     "eb2e69115216423890bbf2deae806d03": {
      "model_module": "@jupyter-widgets/controls",
      "model_module_version": "1.5.0",
      "model_name": "DescriptionStyleModel",
      "state": {
       "description_width": ""
      }
     },
     "eb67f0405c4a4a21ac1e3795da1d65b8": {
      "model_module": "@jupyter-widgets/base",
      "model_module_version": "1.2.0",
      "model_name": "LayoutModel",
      "state": {}
     },
     "eb80862c178e400bb5151a7942ab2b57": {
      "model_module": "@jupyter-widgets/base",
      "model_module_version": "1.2.0",
      "model_name": "LayoutModel",
      "state": {}
     },
     "eb925bb2ec044a0e94904c75d2959be6": {
      "model_module": "@jupyter-widgets/controls",
      "model_module_version": "1.5.0",
      "model_name": "ColorPickerModel",
      "state": {
       "description": "ambient",
       "disabled": false,
       "layout": "IPY_MODEL_649d1541de7b46a0b1ee576e245cf092",
       "style": "IPY_MODEL_339bb7c5bbd24525889f6050716638c6",
       "value": "#e1a014"
      }
     },
     "eb99b9068a0b4fbea9ac1db09fa4a2b0": {
      "model_module": "@jupyter-widgets/base",
      "model_module_version": "1.2.0",
      "model_name": "LayoutModel",
      "state": {}
     },
     "ebb168363859428c910fbb683a4d6956": {
      "model_module": "@jupyter-widgets/base",
      "model_module_version": "1.2.0",
      "model_name": "LayoutModel",
      "state": {}
     },
     "ebd256da8214403389c5b73cf9740f4e": {
      "model_module": "@jupyter-widgets/controls",
      "model_module_version": "1.5.0",
      "model_name": "IntTextModel",
      "state": {
       "description": "min",
       "layout": "IPY_MODEL_2036ecadb3134460b8129cedcd40c8bf",
       "step": 1,
       "style": "IPY_MODEL_625d2e054f944c3d873f3838a4674302",
       "value": 1
      }
     },
     "ebfb220fe8ff4b69b9a9a8a6970ebef5": {
      "model_module": "@jupyter-widgets/controls",
      "model_module_version": "1.5.0",
      "model_name": "DescriptionStyleModel",
      "state": {
       "description_width": ""
      }
     },
     "ec24f35bb3fa42c4a49afed0c7c8655d": {
      "model_module": "@jupyter-widgets/controls",
      "model_module_version": "1.5.0",
      "model_name": "DropdownModel",
      "state": {
       "_options_labels": [
        "leafduration",
        "leafold",
        "maxorder",
        "radinc"
       ],
       "index": 0,
       "layout": "IPY_MODEL_7d94c059507f42e4aa7fdbe39beb4a2a",
       "style": "IPY_MODEL_5033c64811d044d4bfb1668fefbe13dd"
      }
     },
     "ec2d883dccfb49909c2358463c0faa7b": {
      "model_module": "@jupyter-widgets/controls",
      "model_module_version": "1.5.0",
      "model_name": "BoundedIntTextModel",
      "state": {
       "description": "step",
       "layout": "IPY_MODEL_581ab15f304f4f8ba447fe3701cf54b1",
       "min": 1,
       "style": "IPY_MODEL_18c0fca902124468aca6bdc66c67ae6f",
       "value": 1
      }
     },
     "ec3d9932e7f64b71a5e77319701eb67b": {
      "model_module": "@jupyter-widgets/base",
      "model_module_version": "1.2.0",
      "model_name": "LayoutModel",
      "state": {}
     },
     "ec57141644774181a164ad984cd577b5": {
      "model_module": "@jupyter-widgets/base",
      "model_module_version": "1.2.0",
      "model_name": "LayoutModel",
      "state": {}
     },
     "ec674bd006ba488bbcb7fb4fcf6d4c3b": {
      "model_module": "@jupyter-widgets/controls",
      "model_module_version": "1.5.0",
      "model_name": "DescriptionStyleModel",
      "state": {
       "description_width": ""
      }
     },
     "ec6f227e1d1849c6b081b477e8c87086": {
      "model_module": "@jupyter-widgets/controls",
      "model_module_version": "1.5.0",
      "model_name": "TextModel",
      "state": {
       "continuous_update": false,
       "description": "name",
       "layout": "IPY_MODEL_dfd526526e204be88fd05e05ac6a58cf",
       "style": "IPY_MODEL_fa8055adf8ff43bfa13760cfa502d0d1",
       "value": "color_4"
      }
     },
     "eccd43c489a64d5aa4b4c024b715aa19": {
      "model_module": "@jupyter-widgets/base",
      "model_module_version": "1.2.0",
      "model_name": "LayoutModel",
      "state": {}
     },
     "ecf696d417284f0cb878728b147b5e1a": {
      "model_module": "@jupyter-widgets/base",
      "model_module_version": "1.2.0",
      "model_name": "LayoutModel",
      "state": {}
     },
     "ed01fbfb9d7e43889b4d42efd27eb828": {
      "model_module": "@jupyter-widgets/controls",
      "model_module_version": "1.5.0",
      "model_name": "DescriptionStyleModel",
      "state": {
       "description_width": ""
      }
     },
     "ed2b234caf764227b8a80db5b4127ad6": {
      "model_module": "@jupyter-widgets/controls",
      "model_module_version": "1.5.0",
      "model_name": "SliderStyleModel",
      "state": {
       "description_width": ""
      }
     },
     "ed2fcea7452a4f02aae7bd7281aaacdb": {
      "model_module": "@jupyter-widgets/controls",
      "model_module_version": "1.5.0",
      "model_name": "DescriptionStyleModel",
      "state": {
       "description_width": ""
      }
     },
     "ed50075832b64beaaa7bbefb48f81c6a": {
      "model_module": "@jupyter-widgets/base",
      "model_module_version": "1.2.0",
      "model_name": "LayoutModel",
      "state": {
       "flex_flow": "row wrap",
       "margin": "20px"
      }
     },
     "ed77f043f57c453185e88f41eb97980c": {
      "model_module": "@jupyter-widgets/base",
      "model_module_version": "1.2.0",
      "model_name": "LayoutModel",
      "state": {}
     },
     "ed7d8c3f1ace494db1bedeb30e2083f7": {
      "model_module": "@jupyter-widgets/controls",
      "model_module_version": "1.5.0",
      "model_name": "AccordionModel",
      "state": {
       "_titles": {
        "0": "options",
        "1": "materials",
        "2": "leaf"
       },
       "children": [
        "IPY_MODEL_9759350451f2440eb8c617e8c4db008e",
        "IPY_MODEL_f04de95740a2422499f536046c2c6e6a",
        "IPY_MODEL_6f2e26f0127f4983ba530655f3eb5810"
       ],
       "layout": "IPY_MODEL_dadc3eec1d7541bca25ddfd26cddbf9c"
      }
     },
     "edd9461361e74679be5e9cea2a33c6f9": {
      "model_module": "@jupyter-widgets/controls",
      "model_module_version": "1.5.0",
      "model_name": "IntSliderModel",
      "state": {
       "description": "value",
       "layout": "IPY_MODEL_76b456a5347145908129db10f9e3168b",
       "max": 10,
       "min": 1,
       "style": "IPY_MODEL_0bc628d7db4f41afab6a07764f2486e4",
       "value": 3
      }
     },
     "ede139d17a224f4eaf938988b8eddaee": {
      "model_module": "@jupyter-widgets/base",
      "model_module_version": "1.2.0",
      "model_name": "LayoutModel",
      "state": {}
     },
     "ee26da2cc073490d8f9bc0220dd5fea8": {
      "model_module": "@jupyter-widgets/controls",
      "model_module_version": "1.5.0",
      "model_name": "HBoxModel",
      "state": {
       "children": [
        "IPY_MODEL_3427db4f581645ce85693cf2ff78d69b",
        "IPY_MODEL_f8bdf44c03c8407ab64a4676246f6563"
       ],
       "layout": "IPY_MODEL_7cc006922f5147caa3f67c5cc4e09442"
      }
     },
     "ee2e3e4b8e134b2f9faf01615d057f6b": {
      "model_module": "@jupyter-widgets/base",
      "model_module_version": "1.2.0",
      "model_name": "LayoutModel",
      "state": {}
     },
     "ee361a77d4824d0090d2e6da39e424c3": {
      "model_module": "@jupyter-widgets/base",
      "model_module_version": "1.2.0",
      "model_name": "LayoutModel",
      "state": {}
     },
     "ee6320aebd6c4f979ca54ea3eb66adf6": {
      "model_module": "@jupyter-widgets/controls",
      "model_module_version": "1.5.0",
      "model_name": "HBoxModel",
      "state": {
       "children": [
        "IPY_MODEL_46bdc2ae0d2545468a3d1f00ad7a90d8"
       ],
       "layout": "IPY_MODEL_1bcadc721303432abe9c782e04d39bdb"
      }
     },
     "eeab74f6f1a84721a8eb814d0d0499fc": {
      "model_module": "@jupyter-widgets/controls",
      "model_module_version": "1.5.0",
      "model_name": "DescriptionStyleModel",
      "state": {
       "description_width": ""
      }
     },
     "eeb63f88ae9c40f29096db1ae83b5a51": {
      "model_module": "@jupyter-widgets/controls",
      "model_module_version": "1.5.0",
      "model_name": "ButtonStyleModel",
      "state": {}
     },
     "eeb67fd930ca496cb5fb6bcd5f851421": {
      "model_module": "@jupyter-widgets/base",
      "model_module_version": "1.2.0",
      "model_name": "LayoutModel",
      "state": {}
     },
     "eefce3da5c794e4bab16f1ccfa772834": {
      "model_module": "@jupyter-widgets/base",
      "model_module_version": "1.2.0",
      "model_name": "LayoutModel",
      "state": {}
     },
     "ef15d964e6a54da3b1bc50086a840e35": {
      "model_module": "@jupyter-widgets/base",
      "model_module_version": "1.2.0",
      "model_name": "LayoutModel",
      "state": {}
     },
     "ef18229753c341b4962d7bb849727b97": {
      "model_module": "@jupyter-widgets/controls",
      "model_module_version": "1.5.0",
      "model_name": "ButtonStyleModel",
      "state": {}
     },
     "ef19f1dbae9d4c869792da9140316bf3": {
      "model_module": "@jupyter-widgets/base",
      "model_module_version": "1.2.0",
      "model_name": "LayoutModel",
      "state": {}
     },
     "ef1cf0d7b929400eac34f9ee80ff1da3": {
      "model_module": "@jupyter-widgets/base",
      "model_module_version": "1.2.0",
      "model_name": "LayoutModel",
      "state": {}
     },
     "ef252b502441432d8ac2b0627de04cbc": {
      "model_module": "@jupyter-widgets/controls",
      "model_module_version": "1.5.0",
      "model_name": "SliderStyleModel",
      "state": {
       "description_width": ""
      }
     },
     "ef558da6c2a04fbdb600d75ee54915bd": {
      "model_module": "@jupyter-widgets/controls",
      "model_module_version": "1.5.0",
      "model_name": "DescriptionStyleModel",
      "state": {
       "description_width": ""
      }
     },
     "ef73a2427adb469087394b4317751b74": {
      "model_module": "@jupyter-widgets/controls",
      "model_module_version": "1.5.0",
      "model_name": "DescriptionStyleModel",
      "state": {
       "description_width": ""
      }
     },
     "efa739c19ad64959884a98a140a2d912": {
      "model_module": "@jupyter-widgets/controls",
      "model_module_version": "1.5.0",
      "model_name": "DescriptionStyleModel",
      "state": {
       "description_width": ""
      }
     },
     "efc1cd658d3f4881a655c0b83075e384": {
      "model_module": "@jupyter-widgets/base",
      "model_module_version": "1.2.0",
      "model_name": "LayoutModel",
      "state": {}
     },
     "f02351ba59774c3eb858b316333d763c": {
      "model_module": "@jupyter-widgets/base",
      "model_module_version": "1.2.0",
      "model_name": "LayoutModel",
      "state": {}
     },
     "f039ea0c32604272aa1c50f111f7a4c9": {
      "model_module": "@jupyter-widgets/controls",
      "model_module_version": "1.5.0",
      "model_name": "VBoxModel",
      "state": {
       "children": [
        "IPY_MODEL_11eb943263dd4960811ae0dbed24247c",
        "IPY_MODEL_2b6d029d3363436bb4c3867096c43514"
       ],
       "layout": "IPY_MODEL_b882c7f790744974bc9b924e675cb756"
      }
     },
     "f04de95740a2422499f536046c2c6e6a": {
      "model_module": "@jupyter-widgets/controls",
      "model_module_version": "1.5.0",
      "model_name": "VBoxModel",
      "state": {
       "children": [
        "IPY_MODEL_a23073ceec6a47929aa7b3d0538b3483",
        "IPY_MODEL_151c5acb043a4b0eabbac8165dd9cdf6"
       ],
       "layout": "IPY_MODEL_21c27605f42644a490d05b3ed9f9cec4"
      }
     },
     "f06586f4c2ea4c57a5da31e998c66fc4": {
      "model_module": "@jupyter-widgets/controls",
      "model_module_version": "1.5.0",
      "model_name": "DescriptionStyleModel",
      "state": {
       "description_width": ""
      }
     },
     "f0778204596642f8bae6c72e2df8fbfd": {
      "model_module": "@jupyter-widgets/base",
      "model_module_version": "1.2.0",
      "model_name": "LayoutModel",
      "state": {}
     },
     "f07b9cc7bedd486eab67bbefbe1b3a81": {
      "model_module": "@jupyter-widgets/controls",
      "model_module_version": "1.5.0",
      "model_name": "SliderStyleModel",
      "state": {
       "description_width": ""
      }
     },
     "f08bb17a99d94871b84ebfee1d3d2bcd": {
      "model_module": "@jupyter-widgets/controls",
      "model_module_version": "1.5.0",
      "model_name": "BoundedIntTextModel",
      "state": {
       "description": "index",
       "layout": "IPY_MODEL_736695f2521444c8893f255602eba8b3",
       "style": "IPY_MODEL_b6b1e4f8d249488db5919eef7318300b",
       "value": 2
      }
     },
     "f0961c83040b4faa9cfb09490c929cd8": {
      "model_module": "pgljupyter",
      "model_module_version": "^0.1.15",
      "model_name": "MaterialEditorModel",
      "state": {
       "_model_module_version": "^0.1.15",
       "_view_module_version": "^0.1.15",
       "children": [
        "IPY_MODEL_e4ef16ba9f8d4ae8825c801d11eb33ba",
        "IPY_MODEL_e37d89d33f5247fabb4c5bd3180c3585",
        "IPY_MODEL_c02e8c51acb34c9b8b213918ea70a048",
        "IPY_MODEL_bb5ac557aecb46c7a9fb3b7bdbb416bb",
        "IPY_MODEL_6495fb9303f84d9d9cd2f2cf5993fe8a",
        "IPY_MODEL_adca9ba348e94354a3cf31ef02d84a10",
        "IPY_MODEL_6e85a9dd258a4f508f3a7f21debce42f"
       ],
       "layout": "IPY_MODEL_fd617d728797461ca9d92339725aed47"
      }
     },
     "f0caa55e5c1c4f47b491d8bc9349488f": {
      "model_module": "@jupyter-widgets/controls",
      "model_module_version": "1.5.0",
      "model_name": "DescriptionStyleModel",
      "state": {
       "description_width": ""
      }
     },
     "f0f0dc70897a49ec9f905e9fe61d4c36": {
      "model_module": "@jupyter-widgets/base",
      "model_module_version": "1.2.0",
      "model_name": "LayoutModel",
      "state": {
       "margin": "20px 0px"
      }
     },
     "f16cdc3e967e4e5181ff48b1be8bffe5": {
      "model_module": "@jupyter-widgets/base",
      "model_module_version": "1.2.0",
      "model_name": "LayoutModel",
      "state": {}
     },
     "f16d898eef7442f096ef8c1367ad56e9": {
      "model_module": "@jupyter-widgets/base",
      "model_module_version": "1.2.0",
      "model_name": "LayoutModel",
      "state": {}
     },
     "f185c916dcb14fa48e134838b90ee266": {
      "model_module": "@jupyter-widgets/controls",
      "model_module_version": "1.5.0",
      "model_name": "ColorPickerModel",
      "state": {
       "description": "emission",
       "disabled": false,
       "layout": "IPY_MODEL_7007a25b0d9d449f82f3f6c626257ee5",
       "style": "IPY_MODEL_cc5944add9d34806bcf3e19b3041f41d",
       "value": "#1f48db"
      }
     },
     "f1b9ba91cef44e479644b35df0a07274": {
      "model_module": "@jupyter-widgets/controls",
      "model_module_version": "1.5.0",
      "model_name": "DescriptionStyleModel",
      "state": {
       "description_width": ""
      }
     },
     "f1da8e947dae44a7b24d03068a46ef84": {
      "model_module": "@jupyter-widgets/base",
      "model_module_version": "1.2.0",
      "model_name": "LayoutModel",
      "state": {}
     },
     "f1e16786cc5b40aa94cea837022e185b": {
      "model_module": "pgljupyter",
      "model_module_version": "^0.1.15",
      "model_name": "IntEditorModel",
      "state": {
       "_model_module_version": "^0.1.15",
       "_view_module_version": "^0.1.15",
       "children": [
        "IPY_MODEL_4e86c5219d294c57ab600aa584017672",
        "IPY_MODEL_8c16d45c44b04a998919f8f73467a9c0",
        "IPY_MODEL_25e127591ea04d8da811a2c16a107978",
        "IPY_MODEL_71e5aaaeae2b47ecb5990ba6df41ea28",
        "IPY_MODEL_4761172f3749483cbbf99a49a939a346"
       ],
       "layout": "IPY_MODEL_552c7863055f4159bf354b893d352d4c"
      }
     },
     "f1e7a72fdeab478ba0fc787565e774bd": {
      "model_module": "@jupyter-widgets/base",
      "model_module_version": "1.2.0",
      "model_name": "LayoutModel",
      "state": {
       "margin": "20px 0px"
      }
     },
     "f20df92cf03a414892fbe668a47eff5a": {
      "model_module": "@jupyter-widgets/controls",
      "model_module_version": "1.5.0",
      "model_name": "IntTextModel",
      "state": {
       "description": "min",
       "layout": "IPY_MODEL_d3d970b567e94c44bde3be02c211095b",
       "step": 1,
       "style": "IPY_MODEL_7db211d4f55a4b929b4d71d4bd1279c9",
       "value": 1
      }
     },
     "f26fe519d6d446a8a98080c39f0f708a": {
      "model_module": "@jupyter-widgets/controls",
      "model_module_version": "1.5.0",
      "model_name": "ColorPickerModel",
      "state": {
       "description": "ambient",
       "disabled": false,
       "layout": "IPY_MODEL_623e81db71ea422db044942bcc93d00e",
       "style": "IPY_MODEL_0b089ea4de8e4b229b24eea45e4b2010",
       "value": "#e1a014"
      }
     },
     "f2909bc6d4ee462c956bfd2358ba855f": {
      "model_module": "@jupyter-widgets/base",
      "model_module_version": "1.2.0",
      "model_name": "LayoutModel",
      "state": {}
     },
     "f29a3635a6dc46878f4ee4a1ca23ab7b": {
      "model_module": "@jupyter-widgets/controls",
      "model_module_version": "1.5.0",
      "model_name": "VBoxModel",
      "state": {
       "children": [
        "IPY_MODEL_2ae22285ecc942b4907349eff3baada7",
        "IPY_MODEL_2aebfa167de449c3b4011bf94bf1f722"
       ],
       "layout": "IPY_MODEL_a64f0b1c1ea04ed59af32c0ce42b97d8"
      }
     },
     "f29f7359e581423380cb31b2ed572d95": {
      "model_module": "@jupyter-widgets/base",
      "model_module_version": "1.2.0",
      "model_name": "LayoutModel",
      "state": {}
     },
     "f2f138d092e349ff9f1591f7b5cb6e5c": {
      "model_module": "@jupyter-widgets/controls",
      "model_module_version": "1.5.0",
      "model_name": "DescriptionStyleModel",
      "state": {
       "description_width": ""
      }
     },
     "f34b929398a24b469d2d633e8cbf34a2": {
      "model_module": "@jupyter-widgets/controls",
      "model_module_version": "1.5.0",
      "model_name": "ColorPickerModel",
      "state": {
       "description": "ambient",
       "disabled": false,
       "layout": "IPY_MODEL_425f0c41e24249038f40431856835760",
       "style": "IPY_MODEL_54e18e6488554c9eb34ba05898de159c",
       "value": "#604d3e"
      }
     },
     "f34fa66e408c4a6f9f479f949fd16f8a": {
      "model_module": "@jupyter-widgets/controls",
      "model_module_version": "1.5.0",
      "model_name": "HBoxModel",
      "state": {
       "children": [
        "IPY_MODEL_5c9f5effe3d24cd2b3bbabb91c655515",
        "IPY_MODEL_d46a755e298045b68acd5711b60f99df"
       ],
       "layout": "IPY_MODEL_de520af63f894e46b2ba1a7b22de2f61"
      }
     },
     "f3575942fc0a42a398ac1f9fa3cd7631": {
      "model_module": "@jupyter-widgets/base",
      "model_module_version": "1.2.0",
      "model_name": "LayoutModel",
      "state": {}
     },
     "f36ebe8df9b842f4971cd6c4aa9c3d8d": {
      "model_module": "@jupyter-widgets/base",
      "model_module_version": "1.2.0",
      "model_name": "LayoutModel",
      "state": {}
     },
     "f378e5f9f0b6407c8d4b7b8343855811": {
      "model_module": "@jupyter-widgets/controls",
      "model_module_version": "1.5.0",
      "model_name": "DescriptionStyleModel",
      "state": {
       "description_width": ""
      }
     },
     "f38021c8f47c4e1f869bdaa5c8385528": {
      "model_module": "@jupyter-widgets/controls",
      "model_module_version": "1.5.0",
      "model_name": "FloatSliderModel",
      "state": {
       "description": "diffuse",
       "layout": "IPY_MODEL_f4ed63a3d13247009d86c067b7e5ca49",
       "max": 3,
       "step": 0.1,
       "style": "IPY_MODEL_3c466aaa4b874201af983ddcd5f12b3f",
       "value": 1
      }
     },
     "f388e0efafe1495e96c319279c5f947b": {
      "model_module": "@jupyter-widgets/controls",
      "model_module_version": "1.5.0",
      "model_name": "FloatSliderModel",
      "state": {
       "description": "shininess",
       "layout": "IPY_MODEL_35f6cf9c439d4fa8ae1b7d5de389c9af",
       "max": 1,
       "step": 0.1,
       "style": "IPY_MODEL_75d3e76ba91f4678a3a3444870c33a8e",
       "value": 0.7
      }
     },
     "f38ce8becd2f403f81f14f057115a3b5": {
      "model_module": "@jupyter-widgets/controls",
      "model_module_version": "1.5.0",
      "model_name": "ButtonModel",
      "state": {
       "description": "Apply changes",
       "disabled": true,
       "layout": "IPY_MODEL_0ed76f9058054c2e872da6c9c3e56420",
       "style": "IPY_MODEL_b139e2d1758644fabc8d862eb9e6e9ed"
      }
     },
     "f3ad812ddc0346fb8c03e99609c5b08f": {
      "model_module": "@jupyter-widgets/controls",
      "model_module_version": "1.5.0",
      "model_name": "SliderStyleModel",
      "state": {
       "description_width": ""
      }
     },
     "f3d860caabce4e098008ac83f4020283": {
      "model_module": "@jupyter-widgets/controls",
      "model_module_version": "1.5.0",
      "model_name": "HBoxModel",
      "state": {
       "children": [
        "IPY_MODEL_7e4d389d197f4497ac9605341767eb5f",
        "IPY_MODEL_86f7b3b61bdf4991a46b8cca9a382724"
       ],
       "layout": "IPY_MODEL_428c33889979493ca7367d4a363d4e8e"
      }
     },
     "f3edf20f06664802b1ed1a7f3e4d9d75": {
      "model_module": "@jupyter-widgets/controls",
      "model_module_version": "1.5.0",
      "model_name": "DescriptionStyleModel",
      "state": {
       "description_width": ""
      }
     },
     "f400d27020cd4b748fb4b74761f1a700": {
      "model_module": "@jupyter-widgets/controls",
      "model_module_version": "1.5.0",
      "model_name": "SliderStyleModel",
      "state": {
       "description_width": ""
      }
     },
     "f41b3f5d927f4b1d84b27046a1dfaa99": {
      "model_module": "@jupyter-widgets/base",
      "model_module_version": "1.2.0",
      "model_name": "LayoutModel",
      "state": {}
     },
     "f41c54d468654857b16a0a99c09cac60": {
      "model_module": "@jupyter-widgets/base",
      "model_module_version": "1.2.0",
      "model_name": "LayoutModel",
      "state": {}
     },
     "f424905e64c84299b6b947f512059f73": {
      "model_module": "@jupyter-widgets/base",
      "model_module_version": "1.2.0",
      "model_name": "LayoutModel",
      "state": {}
     },
     "f495b3330b9a4aab9c573969d8966f83": {
      "model_module": "@jupyter-widgets/base",
      "model_module_version": "1.2.0",
      "model_name": "LayoutModel",
      "state": {}
     },
     "f4a50f5f272f4c2ba5416d82cc779470": {
      "model_module": "@jupyter-widgets/controls",
      "model_module_version": "1.5.0",
      "model_name": "ButtonStyleModel",
      "state": {}
     },
     "f4c2e147e2f4447fbb5155443442850f": {
      "model_module": "@jupyter-widgets/controls",
      "model_module_version": "1.5.0",
      "model_name": "SliderStyleModel",
      "state": {
       "description_width": ""
      }
     },
     "f4e8ccf6e2cf46deb3665b53e5a12e1f": {
      "model_module": "@jupyter-widgets/controls",
      "model_module_version": "1.5.0",
      "model_name": "HBoxModel",
      "state": {
       "children": [
        "IPY_MODEL_fa41d04cf7844777abd00b008324ee63",
        "IPY_MODEL_5f7514ab20d747c793ca92912131c268"
       ],
       "layout": "IPY_MODEL_1072c1c55f7744d4b21da24d2ad6bbf9"
      }
     },
     "f4ed63a3d13247009d86c067b7e5ca49": {
      "model_module": "@jupyter-widgets/base",
      "model_module_version": "1.2.0",
      "model_name": "LayoutModel",
      "state": {}
     },
     "f51d23fb95a149d58c45b9418439c024": {
      "model_module": "@jupyter-widgets/controls",
      "model_module_version": "1.5.0",
      "model_name": "IntTextModel",
      "state": {
       "description": "min",
       "layout": "IPY_MODEL_51e4a756a4174e399005475e57e78c22",
       "step": 1,
       "style": "IPY_MODEL_7232c740023240b0b1c44beed3ceaa3f",
       "value": 1
      }
     },
     "f53d50f573ea4c8196171420178e0463": {
      "model_module": "@jupyter-widgets/base",
      "model_module_version": "1.2.0",
      "model_name": "LayoutModel",
      "state": {}
     },
     "f54dce5c967d42ddacd908ff611f1d2e": {
      "model_module": "@jupyter-widgets/controls",
      "model_module_version": "1.5.0",
      "model_name": "HBoxModel",
      "state": {
       "children": [
        "IPY_MODEL_e156370312ca44d5b9eaffa7beeb1c52",
        "IPY_MODEL_1a360a5c3c3e466d911a03a19d817dca",
        "IPY_MODEL_7fd4070bf1f748a6978285867f3fd655",
        "IPY_MODEL_c6a312a270f14428b4ad614b9369cd85"
       ],
       "layout": "IPY_MODEL_f56daa410ee44854874b448e60b2c3c9"
      }
     },
     "f56daa410ee44854874b448e60b2c3c9": {
      "model_module": "@jupyter-widgets/base",
      "model_module_version": "1.2.0",
      "model_name": "LayoutModel",
      "state": {
       "flex_flow": "row wrap",
       "margin": "20px"
      }
     },
     "f571b090508244a7b467737c415e2fad": {
      "model_module": "@jupyter-widgets/controls",
      "model_module_version": "1.5.0",
      "model_name": "DescriptionStyleModel",
      "state": {
       "description_width": ""
      }
     },
     "f583c73dcf62478eaadd3ea0a6bf751a": {
      "model_module": "@jupyter-widgets/base",
      "model_module_version": "1.2.0",
      "model_name": "LayoutModel",
      "state": {
       "flex_flow": "row wrap",
       "margin": "20px"
      }
     },
     "f5a61e07ca2547a48dc488b02d2e4866": {
      "model_module": "@jupyter-widgets/controls",
      "model_module_version": "1.5.0",
      "model_name": "ColorPickerModel",
      "state": {
       "description": "specular",
       "disabled": false,
       "layout": "IPY_MODEL_4b68990f7c95481cba2019dad4acc95d",
       "style": "IPY_MODEL_3612f7a7682b474f93b17b5d79359613",
       "value": "#282828"
      }
     },
     "f667fd72c3e54f24a96ac4d2f9881488": {
      "model_module": "@jupyter-widgets/controls",
      "model_module_version": "1.5.0",
      "model_name": "FloatSliderModel",
      "state": {
       "description": "transparency",
       "layout": "IPY_MODEL_9f75d26dfb8541e1965ecc4f65fb733d",
       "max": 1,
       "step": 0.1,
       "style": "IPY_MODEL_cb9f6cf0c0f24e83957f2c3bb7715de6"
      }
     },
     "f6b8371c97d6438d81a54fc86fdfb536": {
      "model_module": "@jupyter-widgets/base",
      "model_module_version": "1.2.0",
      "model_name": "LayoutModel",
      "state": {
       "flex_flow": "row wrap"
      }
     },
     "f6cf01e3aade4830ae01baac2d80d6f6": {
      "model_module": "@jupyter-widgets/controls",
      "model_module_version": "1.5.0",
      "model_name": "DescriptionStyleModel",
      "state": {
       "description_width": ""
      }
     },
     "f6d426e7318b4c73859aaccd8c0c7b2f": {
      "model_module": "@jupyter-widgets/controls",
      "model_module_version": "1.5.0",
      "model_name": "DescriptionStyleModel",
      "state": {
       "description_width": ""
      }
     },
     "f6f05266241f4d77a16801297c843107": {
      "model_module": "pgljupyter",
      "model_module_version": "^0.1.15",
      "model_name": "IntEditorModel",
      "state": {
       "_model_module_version": "^0.1.15",
       "_view_module_version": "^0.1.15",
       "children": [
        "IPY_MODEL_d791db9c9abd4f01b6f0fc0e44c489d8",
        "IPY_MODEL_64120dfb80a645d68606e0062c5c563c",
        "IPY_MODEL_02bb664da5f046189a579eed3aa3964f",
        "IPY_MODEL_da5895349d2b44149c25926ea9102116",
        "IPY_MODEL_6194e43fb489473e9bd1e1543e91458e"
       ],
       "layout": "IPY_MODEL_2ecc06fc96384fc582bbc1690d7ec0f0"
      }
     },
     "f6f69156ecf34f9596a623ebda071f85": {
      "model_module": "@jupyter-widgets/controls",
      "model_module_version": "1.5.0",
      "model_name": "ButtonStyleModel",
      "state": {}
     },
     "f71c0ec700c74e548e733aac9694d998": {
      "model_module": "@jupyter-widgets/base",
      "model_module_version": "1.2.0",
      "model_name": "LayoutModel",
      "state": {}
     },
     "f72d254be380425893735470a9d2d81a": {
      "model_module": "@jupyter-widgets/controls",
      "model_module_version": "1.5.0",
      "model_name": "ButtonStyleModel",
      "state": {}
     },
     "f74b91788cb546d0976cda4bc856aef6": {
      "model_module": "@jupyter-widgets/base",
      "model_module_version": "1.2.0",
      "model_name": "LayoutModel",
      "state": {}
     },
     "f7545150d64f4c3b923ca1dbaec773d1": {
      "model_module": "@jupyter-widgets/controls",
      "model_module_version": "1.5.0",
      "model_name": "SliderStyleModel",
      "state": {
       "description_width": ""
      }
     },
     "f7895d6d86cb4e638e1bd75e543ce840": {
      "model_module": "@jupyter-widgets/controls",
      "model_module_version": "1.5.0",
      "model_name": "DescriptionStyleModel",
      "state": {
       "description_width": ""
      }
     },
     "f79988204f874b4b990f329de61ad10e": {
      "model_module": "@jupyter-widgets/controls",
      "model_module_version": "1.5.0",
      "model_name": "DescriptionStyleModel",
      "state": {
       "description_width": ""
      }
     },
     "f79cbb65addd4b239b22ebb3e4edaceb": {
      "model_module": "@jupyter-widgets/controls",
      "model_module_version": "1.5.0",
      "model_name": "SliderStyleModel",
      "state": {
       "description_width": ""
      }
     },
     "f7bc81beab154e9e9e68dc0ef851e9f4": {
      "model_module": "@jupyter-widgets/controls",
      "model_module_version": "1.5.0",
      "model_name": "DescriptionStyleModel",
      "state": {
       "description_width": ""
      }
     },
     "f7eed8321fe64ad6a15c126052b79807": {
      "model_module": "@jupyter-widgets/controls",
      "model_module_version": "1.5.0",
      "model_name": "ButtonModel",
      "state": {
       "description": "Add",
       "layout": "IPY_MODEL_2afc093dc510467ea61f6bf3380360fb",
       "style": "IPY_MODEL_76b7f66ed13046279d88e0b04ff28b85"
      }
     },
     "f818a57144e94e018fcdbfa425833f2f": {
      "model_module": "@jupyter-widgets/base",
      "model_module_version": "1.2.0",
      "model_name": "LayoutModel",
      "state": {}
     },
     "f827aaf867dc42d39acc8a4f592731d6": {
      "model_module": "@jupyter-widgets/controls",
      "model_module_version": "1.5.0",
      "model_name": "ButtonModel",
      "state": {
       "description": "Save changes",
       "layout": "IPY_MODEL_a948b974861e418b8d3b789987e17acd",
       "style": "IPY_MODEL_576b9f76c2554786a55aa2746dccdcd2"
      }
     },
     "f862c5c991a84f23bdbbb788c6d3d1de": {
      "model_module": "@jupyter-widgets/controls",
      "model_module_version": "1.5.0",
      "model_name": "SliderStyleModel",
      "state": {
       "description_width": ""
      }
     },
     "f865b96ac53e4be18c4cb3c02857b3a8": {
      "model_module": "@jupyter-widgets/base",
      "model_module_version": "1.2.0",
      "model_name": "LayoutModel",
      "state": {
       "margin": "20px 0px"
      }
     },
     "f877f58a4a8f446bae74488efbef66b0": {
      "model_module": "@jupyter-widgets/controls",
      "model_module_version": "1.5.0",
      "model_name": "TextModel",
      "state": {
       "continuous_update": false,
       "description": "name",
       "layout": "IPY_MODEL_2c459c82701d4343a44e9daf1dc0cd65",
       "style": "IPY_MODEL_4194c689e5fa497f9d21a411b43c0a30",
       "value": "radinc"
      }
     },
     "f87af6e13bdd4e268f395b44ce991bbf": {
      "model_module": "@jupyter-widgets/base",
      "model_module_version": "1.2.0",
      "model_name": "LayoutModel",
      "state": {}
     },
     "f898b070d6ac4e47a46cbbc570057c34": {
      "model_module": "@jupyter-widgets/controls",
      "model_module_version": "1.5.0",
      "model_name": "DescriptionStyleModel",
      "state": {
       "description_width": ""
      }
     },
     "f8bdf44c03c8407ab64a4676246f6563": {
      "model_module": "@jupyter-widgets/controls",
      "model_module_version": "1.5.0",
      "model_name": "CheckboxModel",
      "state": {
       "description": "Auto save",
       "disabled": false,
       "layout": "IPY_MODEL_0d4b6f296d4248a390005a9938d5a3fb",
       "style": "IPY_MODEL_59836e1aec24461ab7fa4f029ed35364",
       "value": false
      }
     },
     "f8c2a87023874965a0621cc63e62e350": {
      "model_module": "@jupyter-widgets/controls",
      "model_module_version": "1.5.0",
      "model_name": "DescriptionStyleModel",
      "state": {
       "description_width": ""
      }
     },
     "f8f028e01983452ea7e6cb21ec0180e0": {
      "model_module": "@jupyter-widgets/controls",
      "model_module_version": "1.5.0",
      "model_name": "HBoxModel",
      "state": {
       "children": [
        "IPY_MODEL_323e3e5a88174a1089754f4e0914934f",
        "IPY_MODEL_6386bd093b594fef8960b67fe4da385a"
       ],
       "layout": "IPY_MODEL_c68e18b7abbf42d491025817e12ebeb3"
      }
     },
     "f90a42a43b1f4bed81fc082672b8e388": {
      "model_module": "@jupyter-widgets/base",
      "model_module_version": "1.2.0",
      "model_name": "LayoutModel",
      "state": {}
     },
     "f9142146147f42268f4e4b4b13e85c5f": {
      "model_module": "@jupyter-widgets/base",
      "model_module_version": "1.2.0",
      "model_name": "LayoutModel",
      "state": {}
     },
     "f91d2ac41e5c4dfaa339b47ecbc48765": {
      "model_module": "@jupyter-widgets/controls",
      "model_module_version": "1.5.0",
      "model_name": "DescriptionStyleModel",
      "state": {
       "description_width": ""
      }
     },
     "f94496cb3e8f4929a17732ebf63fdc5d": {
      "model_module": "@jupyter-widgets/base",
      "model_module_version": "1.2.0",
      "model_name": "LayoutModel",
      "state": {}
     },
     "f96e0af600ef4954a3ee825bd6a3337a": {
      "model_module": "@jupyter-widgets/base",
      "model_module_version": "1.2.0",
      "model_name": "LayoutModel",
      "state": {}
     },
     "f98f574b894146bdac3cc74bf1517323": {
      "model_module": "@jupyter-widgets/controls",
      "model_module_version": "1.5.0",
      "model_name": "DropdownModel",
      "state": {
       "_options_labels": [
        "Color"
       ],
       "index": 0,
       "layout": "IPY_MODEL_f9142146147f42268f4e4b4b13e85c5f",
       "style": "IPY_MODEL_ec674bd006ba488bbcb7fb4fcf6d4c3b"
      }
     },
     "f993148f64c44025b729c63a6e4d3ca2": {
      "model_module": "@jupyter-widgets/controls",
      "model_module_version": "1.5.0",
      "model_name": "SliderStyleModel",
      "state": {
       "description_width": ""
      }
     },
     "f9f2a1c00c914a7896133bc92644cc0c": {
      "model_module": "@jupyter-widgets/controls",
      "model_module_version": "1.5.0",
      "model_name": "IntTextModel",
      "state": {
       "description": "max",
       "layout": "IPY_MODEL_c1075cacaa5f496c9da35abb6ef955f8",
       "step": 1,
       "style": "IPY_MODEL_619100896f744320bed2a1dbbf0263a8",
       "value": 10
      }
     },
     "f9f743e89f6a4cc3af534e5d9f0f052d": {
      "model_module": "@jupyter-widgets/controls",
      "model_module_version": "1.5.0",
      "model_name": "ColorPickerModel",
      "state": {
       "description": "emission",
       "disabled": false,
       "layout": "IPY_MODEL_33ec9c5667a5451786a5c5e914e5dc10",
       "style": "IPY_MODEL_f0caa55e5c1c4f47b491d8bc9349488f",
       "value": "#1f48db"
      }
     },
     "fa23b677d26f447e91c4048538471bdf": {
      "model_module": "@jupyter-widgets/base",
      "model_module_version": "1.2.0",
      "model_name": "LayoutModel",
      "state": {}
     },
     "fa2ab2109edb48bb9783d6353f95f9f5": {
      "model_module": "@jupyter-widgets/controls",
      "model_module_version": "1.5.0",
      "model_name": "DescriptionStyleModel",
      "state": {
       "description_width": ""
      }
     },
     "fa41d04cf7844777abd00b008324ee63": {
      "model_module": "@jupyter-widgets/controls",
      "model_module_version": "1.5.0",
      "model_name": "ButtonModel",
      "state": {
       "description": "Add",
       "layout": "IPY_MODEL_578796f804c94856847139aa6ff0791b",
       "style": "IPY_MODEL_dcfb48abfda54a35af7971ad239e0221"
      }
     },
     "fa4cc27419564b1fbe3f9b5d8348df68": {
      "model_module": "@jupyter-widgets/controls",
      "model_module_version": "1.5.0",
      "model_name": "VBoxModel",
      "state": {
       "children": [
        "IPY_MODEL_b2e30f96700b45548b178b27fa395d8f",
        "IPY_MODEL_1710bfbff76e4626860fb689a4802505"
       ],
       "layout": "IPY_MODEL_c3417a7d05fe42e69a6cad29a8dc60b6"
      }
     },
     "fa5ab9a9bee44bd487e3af93b6960686": {
      "model_module": "@jupyter-widgets/base",
      "model_module_version": "1.2.0",
      "model_name": "LayoutModel",
      "state": {}
     },
     "fa718cf943194fdfbcaae003b18476b4": {
      "model_module": "@jupyter-widgets/controls",
      "model_module_version": "1.5.0",
      "model_name": "ColorPickerModel",
      "state": {
       "description": "emission",
       "disabled": false,
       "layout": "IPY_MODEL_52028b4c1370454080c43dcb85f45571",
       "style": "IPY_MODEL_3eaaa1fac4ef40d5837ac4585c09086c",
       "value": "#000000"
      }
     },
     "fa8055adf8ff43bfa13760cfa502d0d1": {
      "model_module": "@jupyter-widgets/controls",
      "model_module_version": "1.5.0",
      "model_name": "DescriptionStyleModel",
      "state": {
       "description_width": ""
      }
     },
     "fafaba522c1d4a27adbb8b25d90161ad": {
      "model_module": "@jupyter-widgets/base",
      "model_module_version": "1.2.0",
      "model_name": "LayoutModel",
      "state": {}
     },
     "fb008d8d2c234664ba3ae188ecac3d55": {
      "model_module": "@jupyter-widgets/controls",
      "model_module_version": "1.5.0",
      "model_name": "IntTextModel",
      "state": {
       "description": "min",
       "layout": "IPY_MODEL_39ceb78dfb1449b399b665ad13905765",
       "step": 1,
       "style": "IPY_MODEL_3ec6ca9ab67e4732aae15b941861a1e6",
       "value": 1
      }
     },
     "fb23ff6df53c4979935c5cfe3bf1f9b7": {
      "model_module": "@jupyter-widgets/base",
      "model_module_version": "1.2.0",
      "model_name": "LayoutModel",
      "state": {}
     },
     "fb6fdce322514387af4f9d06ea315c68": {
      "model_module": "@jupyter-widgets/base",
      "model_module_version": "1.2.0",
      "model_name": "LayoutModel",
      "state": {}
     },
     "fb8fa78d37ab4f5eabf718eac7a950f5": {
      "model_module": "@jupyter-widgets/base",
      "model_module_version": "1.2.0",
      "model_name": "LayoutModel",
      "state": {}
     },
     "fb9cba96dac54522bc0e98f70b1d97dc": {
      "model_module": "@jupyter-widgets/base",
      "model_module_version": "1.2.0",
      "model_name": "LayoutModel",
      "state": {}
     },
     "fbabf205856a4193a5beae7eca7c392a": {
      "model_module": "@jupyter-widgets/controls",
      "model_module_version": "1.5.0",
      "model_name": "SliderStyleModel",
      "state": {
       "description_width": ""
      }
     },
     "fbd3c620d7bd47818d5487d92b540c7d": {
      "model_module": "@jupyter-widgets/controls",
      "model_module_version": "1.5.0",
      "model_name": "DescriptionStyleModel",
      "state": {
       "description_width": ""
      }
     },
     "fc0f9963ea854eb79fd8a7a1cc7683ef": {
      "model_module": "@jupyter-widgets/controls",
      "model_module_version": "1.5.0",
      "model_name": "HBoxModel",
      "state": {
       "children": [
        "IPY_MODEL_f8f028e01983452ea7e6cb21ec0180e0",
        "IPY_MODEL_ee26da2cc073490d8f9bc0220dd5fea8",
        "IPY_MODEL_9c8cdc43a25b4c16bc93f4221370cb53"
       ],
       "layout": "IPY_MODEL_15ea17a853c741acb8d12d552d3d85d4"
      }
     },
     "fc4a3b0a28974c0387dfb19294949f65": {
      "model_module": "@jupyter-widgets/controls",
      "model_module_version": "1.5.0",
      "model_name": "HBoxModel",
      "state": {
       "children": [
        "IPY_MODEL_dabcaf8551834d1191d28e9c7931d628",
        "IPY_MODEL_c19ba1d02b874e30b0117e9a6459e5d3",
        "IPY_MODEL_f6f05266241f4d77a16801297c843107",
        "IPY_MODEL_71ec069b5c5a40f4bc2771f12be256d7",
        "IPY_MODEL_61c449b60b4c4a21be0c707bc74e9bf8"
       ],
       "layout": "IPY_MODEL_fdc392c7cf9844a2b7daa72c52be63a0"
      }
     },
     "fc5656cd150c4d5db3f3d14ac3910e17": {
      "model_module": "@jupyter-widgets/controls",
      "model_module_version": "1.5.0",
      "model_name": "DescriptionStyleModel",
      "state": {
       "description_width": ""
      }
     },
     "fcd0343807064c26802b0592e882da87": {
      "model_module": "@jupyter-widgets/base",
      "model_module_version": "1.2.0",
      "model_name": "LayoutModel",
      "state": {}
     },
     "fcfec323fe52477b97c6accbb5509824": {
      "model_module": "@jupyter-widgets/controls",
      "model_module_version": "1.5.0",
      "model_name": "IntTextModel",
      "state": {
       "description": "max",
       "layout": "IPY_MODEL_c93a01e115b54104b8df7ac5949f9bc5",
       "step": 1,
       "style": "IPY_MODEL_918dba89046f4c0684a87756dce40407",
       "value": 10
      }
     },
     "fd0abaa1c37f4431b5d5a18b4c3a0ec0": {
      "model_module": "@jupyter-widgets/base",
      "model_module_version": "1.2.0",
      "model_name": "LayoutModel",
      "state": {}
     },
     "fd317e6d2b9f4d93ac40d840048b2cf1": {
      "model_module": "@jupyter-widgets/controls",
      "model_module_version": "1.5.0",
      "model_name": "ButtonStyleModel",
      "state": {}
     },
     "fd617d728797461ca9d92339725aed47": {
      "model_module": "@jupyter-widgets/base",
      "model_module_version": "1.2.0",
      "model_name": "LayoutModel",
      "state": {
       "margin": "20px 0px"
      }
     },
     "fd7d330ce7384b0b8b5b1d06fe02e1b5": {
      "model_module": "@jupyter-widgets/controls",
      "model_module_version": "1.5.0",
      "model_name": "DescriptionStyleModel",
      "state": {
       "description_width": ""
      }
     },
     "fdaf5fa5a54f4007a8756ffb7b209215": {
      "model_module": "@jupyter-widgets/base",
      "model_module_version": "1.2.0",
      "model_name": "LayoutModel",
      "state": {}
     },
     "fdc322002e0147a3b3a787527f552f68": {
      "model_module": "@jupyter-widgets/controls",
      "model_module_version": "1.5.0",
      "model_name": "BoundedFloatTextModel",
      "state": {
       "description": "step",
       "layout": "IPY_MODEL_a6b539cc15804907989b197d4b2cbdbe",
       "max": 1,
       "min": 0.01,
       "step": 0.01,
       "style": "IPY_MODEL_9c0cf9efa1154e3d8f992ee0f7cd1a7d",
       "value": 0.01
      }
     },
     "fdc392c7cf9844a2b7daa72c52be63a0": {
      "model_module": "@jupyter-widgets/base",
      "model_module_version": "1.2.0",
      "model_name": "LayoutModel",
      "state": {
       "flex_flow": "row wrap",
       "margin": "20px"
      }
     },
     "fdd80fe99a2c4941b1f17d90ef2bd04f": {
      "model_module": "@jupyter-widgets/controls",
      "model_module_version": "1.5.0",
      "model_name": "ColorPickerModel",
      "state": {
       "description": "emission",
       "disabled": false,
       "layout": "IPY_MODEL_2a5edf3ba1ac483c8ba70c9b29627380",
       "style": "IPY_MODEL_535753bdefa642f2833596ad6d1dcf7b",
       "value": "#000000"
      }
     },
     "fddcfcc5c09443beb47c1e41084c0dc9": {
      "model_module": "@jupyter-widgets/controls",
      "model_module_version": "1.5.0",
      "model_name": "DescriptionStyleModel",
      "state": {
       "description_width": ""
      }
     },
     "fe0cdcc6562e4d7b98662c718d50f517": {
      "model_module": "@jupyter-widgets/base",
      "model_module_version": "1.2.0",
      "model_name": "LayoutModel",
      "state": {
       "flex_flow": "row wrap",
       "margin": "20px"
      }
     },
     "fe2b1c6cc94d41b8835500aa026cf33d": {
      "model_module": "pgljupyter",
      "model_module_version": "^0.1.15",
      "model_name": "MaterialEditorModel",
      "state": {
       "_model_module_version": "^0.1.15",
       "_view_module_version": "^0.1.15",
       "children": [
        "IPY_MODEL_a5b43622c08f430fa687e80bb00d1299",
        "IPY_MODEL_19496a4bd7a1437684fa4fc33a581b5a",
        "IPY_MODEL_6fa92963778b454f99a4c7b548144df1",
        "IPY_MODEL_5cf887d3feab499d9c355b88d984835c",
        "IPY_MODEL_a7a1a0e06ab8458e8a7a1156342615ba",
        "IPY_MODEL_459840c1039c40659fd49f4c086acc29",
        "IPY_MODEL_3483198dc61e4fb6a5fd59a5c83502d5"
       ],
       "layout": "IPY_MODEL_8f1da4b76f6c40d9add8f34cb84ac141"
      }
     },
     "fe5d4924783740e99fb2a712c58dc4bc": {
      "model_module": "@jupyter-widgets/base",
      "model_module_version": "1.2.0",
      "model_name": "LayoutModel",
      "state": {}
     },
     "fe83071c6a9940158069480e78541e89": {
      "model_module": "@jupyter-widgets/base",
      "model_module_version": "1.2.0",
      "model_name": "LayoutModel",
      "state": {}
     },
     "fec46380ca9a4633be2c4ec474336cc5": {
      "model_module": "@jupyter-widgets/base",
      "model_module_version": "1.2.0",
      "model_name": "LayoutModel",
      "state": {}
     },
     "fec716c199b242e0a5c931895ec485ac": {
      "model_module": "@jupyter-widgets/controls",
      "model_module_version": "1.5.0",
      "model_name": "DescriptionStyleModel",
      "state": {
       "description_width": ""
      }
     },
     "fef5842bd92e42159dc06e93194ba888": {
      "model_module": "@jupyter-widgets/controls",
      "model_module_version": "1.5.0",
      "model_name": "HBoxModel",
      "state": {
       "children": [
        "IPY_MODEL_034ed870191544c4b7837fbbd29c712d",
        "IPY_MODEL_babb93ef0b924d3f89a84509076d9730"
       ],
       "layout": "IPY_MODEL_ea7885aa88c346e4ad852d6891676205"
      }
     },
     "ff07acf7d8d740d297d0a9e9e460d4d5": {
      "model_module": "@jupyter-widgets/base",
      "model_module_version": "1.2.0",
      "model_name": "LayoutModel",
      "state": {}
     },
     "ff27aee2ba404d839aca903bd596fdf3": {
      "model_module": "@jupyter-widgets/controls",
      "model_module_version": "1.5.0",
      "model_name": "ColorPickerModel",
      "state": {
       "description": "specular",
       "disabled": false,
       "layout": "IPY_MODEL_03c0d0c5ad8847528bb327999369da2d",
       "style": "IPY_MODEL_7c4a45c48a7d4bf38fb9fc2599e065d0",
       "value": "#282828"
      }
     },
     "ff32b591081843aca203760cd73a12ce": {
      "model_module": "@jupyter-widgets/base",
      "model_module_version": "1.2.0",
      "model_name": "LayoutModel",
      "state": {}
     },
     "ff70e06eddb24184be77e7212da054cd": {
      "model_module": "@jupyter-widgets/base",
      "model_module_version": "1.2.0",
      "model_name": "LayoutModel",
      "state": {}
     },
     "ff7305ab18ce488faec2e63965eb8f66": {
      "model_module": "@jupyter-widgets/base",
      "model_module_version": "1.2.0",
      "model_name": "LayoutModel",
      "state": {}
     },
     "ff8282e99e1b4b10835d79c69aa461af": {
      "model_module": "@jupyter-widgets/controls",
      "model_module_version": "1.5.0",
      "model_name": "TextModel",
      "state": {
       "continuous_update": false,
       "description": "name",
       "layout": "IPY_MODEL_c6335a0511b842129859372124e60a0d",
       "style": "IPY_MODEL_c5040cfaa88648f8b0b6678f5fcac0f7",
       "value": "color_1"
      }
     },
     "ff9fd4d06cd7454f8709e4a0d31e4552": {
      "model_module": "@jupyter-widgets/controls",
      "model_module_version": "1.5.0",
      "model_name": "DescriptionStyleModel",
      "state": {
       "description_width": ""
      }
     },
     "ffc8a4fd521e4a2b8b97a1b090436919": {
      "model_module": "@jupyter-widgets/base",
      "model_module_version": "1.2.0",
      "model_name": "LayoutModel",
      "state": {}
     },
     "ffda3c9b61de46869c7716efaf6f4d94": {
      "model_module": "@jupyter-widgets/base",
      "model_module_version": "1.2.0",
      "model_name": "LayoutModel",
      "state": {}
     }
    },
    "version_major": 2,
    "version_minor": 0
   }
  }
 },
 "nbformat": 4,
 "nbformat_minor": 4
}
