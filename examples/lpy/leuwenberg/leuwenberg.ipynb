{
 "cells": [
  {
   "cell_type": "code",
   "execution_count": 1,
   "metadata": {},
   "outputs": [],
   "source": [
    "from pgljupyter import LsystemWidget"
   ]
  },
  {
   "cell_type": "code",
   "execution_count": 2,
   "metadata": {},
   "outputs": [],
   "source": [
    "lw = LsystemWidget(\n",
    "    'leuwenberg.lpy',\n",
    "    unit='m',\n",
    "    size_display=(600, 400),\n",
    "    size_world=50,\n",
    "    animate=True\n",
    ")"
   ]
  },
  {
   "cell_type": "code",
   "execution_count": 3,
   "metadata": {},
   "outputs": [
    {
     "data": {
      "application/vnd.jupyter.widget-view+json": {
       "model_id": "1f988ffc0e7b40b082d3138d2807b589",
       "version_major": 2,
       "version_minor": 0
      },
      "text/plain": [
       "LsystemWidget(animate=True, derivationLength=42, scene={'data': b\"x\\xdaSLrw\\xf5\\xf7e`Pp\\xe0\\xe5RPVVde```be\\x08…"
      ]
     },
     "metadata": {},
     "output_type": "display_data"
    }
   ],
   "source": [
    "lw"
   ]
  },
  {
   "cell_type": "code",
   "execution_count": 4,
   "metadata": {},
   "outputs": [
    {
     "data": {
      "application/vnd.jupyter.widget-view+json": {
       "model_id": "44a7ea617520422c865c09c741aa91e4",
       "version_major": 2,
       "version_minor": 0
      },
      "text/plain": [
       "ParameterEditor(children=(VBox(children=(HBox(children=(HBox(children=(Button(description='Apply changes', sty…"
      ]
     },
     "metadata": {},
     "output_type": "display_data"
    }
   ],
   "source": [
    "lw.editor"
   ]
  },
  {
   "cell_type": "code",
   "execution_count": null,
   "metadata": {},
   "outputs": [],
   "source": []
  }
 ],
 "metadata": {
  "kernelspec": {
   "display_name": "Python 3",
   "language": "python",
   "name": "python3"
  },
  "language_info": {
   "codemirror_mode": {
    "name": "ipython",
    "version": 3
   },
   "file_extension": ".py",
   "mimetype": "text/x-python",
   "name": "python",
   "nbconvert_exporter": "python",
   "pygments_lexer": "ipython3",
   "version": "3.9.2"
  },
  "widgets": {
   "application/vnd.jupyter.widget-state+json": {
    "state": {
     "00e4debe8c1544d59db97007ecb12f17": {
      "model_module": "@jupyter-widgets/base",
      "model_module_version": "1.2.0",
      "model_name": "LayoutModel",
      "state": {}
     },
     "02b06c82ada5440d8c1e120154619aec": {
      "model_module": "@jupyter-widgets/controls",
      "model_module_version": "1.5.0",
      "model_name": "FloatSliderModel",
      "state": {
       "continuous_update": false,
       "description": "diffuse",
       "layout": "IPY_MODEL_821e7d28aa904088b1abada6ac3a0ad7",
       "max": 3,
       "step": 0.1,
       "style": "IPY_MODEL_3cdc8f22ef2845d5828fceb9bbf394fd",
       "value": 1
      }
     },
     "02bd0be06b36411994405e4d1ef9d7dc": {
      "model_module": "@jupyter-widgets/controls",
      "model_module_version": "1.5.0",
      "model_name": "SliderStyleModel",
      "state": {
       "description_width": ""
      }
     },
     "0307af1b686c45ba8d56153ddbcbfdbf": {
      "model_module": "pgljupyter",
      "model_module_version": "^1.0.3",
      "model_name": "MaterialEditorModel",
      "state": {
       "_model_module_version": "^1.0.3",
       "_view_module_version": "^1.0.3",
       "children": [
        "IPY_MODEL_6341bb99947043279d12a87beeb0cdbc",
        "IPY_MODEL_2d85a12bbd7442858b16cc09931a4860",
        "IPY_MODEL_35ee7645e29a4fb7a64f3f59ed764fab",
        "IPY_MODEL_0eb24fe8bc0b4017b81b95ad5a178491",
        "IPY_MODEL_df9d9b0ae123419c831c09a7cf16074b",
        "IPY_MODEL_5558af09e5d2473384938ab00c1b1d5e",
        "IPY_MODEL_7f51a974d3cf4d68b870a6e3b5f0ba3e"
       ],
       "layout": "IPY_MODEL_3c3ba716d741413a8eff558c3a289b5f"
      }
     },
     "03616674bbc64a7fb9efdb9a439945e3": {
      "model_module": "@jupyter-widgets/base",
      "model_module_version": "1.2.0",
      "model_name": "LayoutModel",
      "state": {}
     },
     "041acc0e8ccc4125b36b35a8f86b8d64": {
      "model_module": "@jupyter-widgets/base",
      "model_module_version": "1.2.0",
      "model_name": "LayoutModel",
      "state": {}
     },
     "05c3179159564ea180fdc2f7e9ff2683": {
      "model_module": "@jupyter-widgets/controls",
      "model_module_version": "1.5.0",
      "model_name": "ButtonModel",
      "state": {
       "description": "Save changes",
       "layout": "IPY_MODEL_2dcce41d6dcf46ab9d7fea4fee9f0802",
       "style": "IPY_MODEL_742133c822e74aaeabf2f68610bd19ba"
      }
     },
     "05ca3a66889f49d1afcfc3dec807686a": {
      "model_module": "@jupyter-widgets/base",
      "model_module_version": "1.2.0",
      "model_name": "LayoutModel",
      "state": {
       "flex_flow": "row wrap",
       "margin": "20px"
      }
     },
     "071abbf4f4364918b0b27b2a9b04be9e": {
      "model_module": "pgljupyter",
      "model_module_version": "^1.0.3",
      "model_name": "IntEditorModel",
      "state": {
       "_model_module_version": "^1.0.3",
       "_view_module_version": "^1.0.3",
       "children": [
        "IPY_MODEL_aa26b31021ad459d832272b6661ba7a4",
        "IPY_MODEL_6d4491b629a14bf1b0efe0169dc78769"
       ],
       "layout": "IPY_MODEL_77944407d4844ee585bfa157c4030ff9"
      }
     },
     "083e2819b943419c8b82ad4ceb3b9f78": {
      "model_module": "@jupyter-widgets/controls",
      "model_module_version": "1.5.0",
      "model_name": "VBoxModel",
      "state": {
       "children": [
        "IPY_MODEL_684a510a245642f19245182ae6c91f21",
        "IPY_MODEL_bfa683c041064647abea7397b367a143",
        "IPY_MODEL_8deeb26a9ce44a6a8a70211f65f98932",
        "IPY_MODEL_a62a0ffa8c75420a83a70023b17e47cb"
       ],
       "layout": "IPY_MODEL_e4648200344b43c582af18c84c106844"
      }
     },
     "08b96bd1bf3843a28844c762a16fb1f4": {
      "model_module": "@jupyter-widgets/base",
      "model_module_version": "1.2.0",
      "model_name": "LayoutModel",
      "state": {}
     },
     "09433429bae249fca63d378a13f8af16": {
      "model_module": "@jupyter-widgets/base",
      "model_module_version": "1.2.0",
      "model_name": "LayoutModel",
      "state": {}
     },
     "0a1c3efdfd0248be9d1c6c672da7fbb5": {
      "model_module": "@jupyter-widgets/base",
      "model_module_version": "1.2.0",
      "model_name": "LayoutModel",
      "state": {
       "margin": "10px 10px"
      }
     },
     "0a455e64c736446a8770708470f7d8f1": {
      "model_module": "@jupyter-widgets/base",
      "model_module_version": "1.2.0",
      "model_name": "LayoutModel",
      "state": {
       "margin": "5px"
      }
     },
     "0c75db4309074c55bee79ff4e0826c05": {
      "model_module": "@jupyter-widgets/controls",
      "model_module_version": "1.5.0",
      "model_name": "DescriptionStyleModel",
      "state": {
       "description_width": ""
      }
     },
     "0cfa674f2f874c53af4576f92712122b": {
      "model_module": "@jupyter-widgets/base",
      "model_module_version": "1.2.0",
      "model_name": "LayoutModel",
      "state": {}
     },
     "0e87ae5e53eb4915a310d38f4c4a308d": {
      "model_module": "@jupyter-widgets/controls",
      "model_module_version": "1.5.0",
      "model_name": "DescriptionStyleModel",
      "state": {
       "description_width": ""
      }
     },
     "0eb24fe8bc0b4017b81b95ad5a178491": {
      "model_module": "@jupyter-widgets/controls",
      "model_module_version": "1.5.0",
      "model_name": "ColorPickerModel",
      "state": {
       "description": "emission",
       "disabled": false,
       "layout": "IPY_MODEL_a980782b298846938993372df5548276",
       "style": "IPY_MODEL_9458d0feea0d4220a150907b1bc68a78",
       "value": "#000000"
      }
     },
     "1337b8e35e1d4905a5ad7920097a7db5": {
      "model_module": "@jupyter-widgets/controls",
      "model_module_version": "1.5.0",
      "model_name": "VBoxModel",
      "state": {
       "children": [
        "IPY_MODEL_c0c61bcc97b24068b80d23fe87c95d78",
        "IPY_MODEL_38644bddadf947ce83fdeb1e89d2592e"
       ],
       "layout": "IPY_MODEL_0a455e64c736446a8770708470f7d8f1"
      }
     },
     "136d49f05d4a46eca3ab7ecad818d880": {
      "model_module": "@jupyter-widgets/controls",
      "model_module_version": "1.5.0",
      "model_name": "DescriptionStyleModel",
      "state": {
       "description_width": ""
      }
     },
     "16b6ca717944410c85a5df85fabe61a9": {
      "model_module": "@jupyter-widgets/base",
      "model_module_version": "1.2.0",
      "model_name": "LayoutModel",
      "state": {}
     },
     "175731baa7eb47739ace4c0eac520aaf": {
      "model_module": "@jupyter-widgets/controls",
      "model_module_version": "1.5.0",
      "model_name": "ColorPickerModel",
      "state": {
       "description": "emission",
       "disabled": false,
       "layout": "IPY_MODEL_677e4d80dbed43c99f54ccae1e1d4185",
       "style": "IPY_MODEL_1cb0cfa97add40038212b8b0849f96e0",
       "value": "#000000"
      }
     },
     "19e0e7ea694e46e0bba58b9905082213": {
      "model_module": "@jupyter-widgets/base",
      "model_module_version": "1.2.0",
      "model_name": "LayoutModel",
      "state": {}
     },
     "1b05f72c34c74f05ab7b15ef9aa54d17": {
      "model_module": "@jupyter-widgets/controls",
      "model_module_version": "1.5.0",
      "model_name": "HBoxModel",
      "state": {
       "children": [
        "IPY_MODEL_c2c56c4bb3b74d2f92d8dfcead024fbe",
        "IPY_MODEL_0307af1b686c45ba8d56153ddbcbfdbf",
        "IPY_MODEL_fdc37c9f228c4c3986e154ceac05bce0",
        "IPY_MODEL_5175d0c94ebb4e9fb75c3bffcc993c0d"
       ],
       "layout": "IPY_MODEL_05ca3a66889f49d1afcfc3dec807686a"
      }
     },
     "1b2ba50e2e244ac4960ae009e8e75491": {
      "model_module": "@jupyter-widgets/controls",
      "model_module_version": "1.5.0",
      "model_name": "IntSliderModel",
      "state": {
       "continuous_update": false,
       "description": "value",
       "layout": "IPY_MODEL_297073b83cd14670a976ebdac00ed1e1",
       "max": 10,
       "min": 1,
       "style": "IPY_MODEL_81c3541e3ce14d89b3ede83e484fa67a",
       "value": 3
      }
     },
     "1b83cc8b6910455a9cdd305bf1b97143": {
      "model_module": "@jupyter-widgets/base",
      "model_module_version": "1.2.0",
      "model_name": "LayoutModel",
      "state": {}
     },
     "1c2e8b953d9b46448468da190f3448b9": {
      "model_module": "@jupyter-widgets/controls",
      "model_module_version": "1.5.0",
      "model_name": "HBoxModel",
      "state": {
       "layout": "IPY_MODEL_05ca3a66889f49d1afcfc3dec807686a"
      }
     },
     "1cb0cfa97add40038212b8b0849f96e0": {
      "model_module": "@jupyter-widgets/controls",
      "model_module_version": "1.5.0",
      "model_name": "DescriptionStyleModel",
      "state": {
       "description_width": ""
      }
     },
     "1cbe309fe77d4cfda23c03ef8c1dfdfe": {
      "model_module": "@jupyter-widgets/controls",
      "model_module_version": "1.5.0",
      "model_name": "TextModel",
      "state": {
       "continuous_update": false,
       "description": "name",
       "layout": "IPY_MODEL_ac16d3ea6f3544a6bab92ea6bc2af45f",
       "style": "IPY_MODEL_ff4f4bf7dd6a46d9a669cb005d6114d5",
       "value": "leaf_new"
      }
     },
     "1d3a0b0502ee4abcbdef5774bb9af4ba": {
      "model_module": "@jupyter-widgets/controls",
      "model_module_version": "1.5.0",
      "model_name": "ColorPickerModel",
      "state": {
       "description": "specular",
       "disabled": false,
       "layout": "IPY_MODEL_df7a3ac59da5475492f808e38b5b08e8",
       "style": "IPY_MODEL_2b6188073fe94feab6b66306afcc622c",
       "value": "#282828"
      }
     },
     "1e743f95e61744d0a1c7f3bd6c849092": {
      "model_module": "@jupyter-widgets/base",
      "model_module_version": "1.2.0",
      "model_name": "LayoutModel",
      "state": {}
     },
     "1edb7de4e8b84a3fa6d10ea8bf98ed86": {
      "model_module": "@jupyter-widgets/controls",
      "model_module_version": "1.5.0",
      "model_name": "DescriptionStyleModel",
      "state": {
       "description_width": ""
      }
     },
     "1f988ffc0e7b40b082d3138d2807b589": {
      "buffers": [
       {
        "data": "eNq8nQd8FMX3wJOQ0JsU6SD86JCwu7eV5HZu6b333nsPvRdpSpMmRelNIICI0nJbAFGQJk2K0ptS/6B05T9zLjeTI9xN1s8n/H4rF+Due/PezJs3897MK9qpetX6dcPCPvJkyfjR//5XNFNYWFhEVFjjHh0HdH2TISwsTfqwuh0Hdx3Us2OfSPhXWdKHVR7Rp2e/Ll0HNYU/5swQVnX44EFD4nv279c0PCwsT/qw+oN6du03uGuXDenDwvKnD2vQvw/6913R3xZKG9a4c8c+Xbs0hX9XGP4woEfXQV3R53yUMazJoI794vtAVJeN8G/h92gCmf269+nauOvgMPgnJTP6P4urgj6tKPp6EfnCGtfQGlStWaW9xLRXeM7lEmSG4RiJY6rBD0bPR2G+X70ixlvo9w8uxWl5/v2jsEdrFTf8zcjWrS2osG4ciJ/9zeaK7Zp5C9l/HzYevH2KhoXVyPnbkDfp0oUl+QXC3vk1Xt+0caOKX5cl/s14+/V4Ff85er1RTWv/iwj4hNuv09g/o1+R9s/oV5T9M/qV1v45zH4f+hlqrU/Xjt3a9+/TxWwweoh8dUUuhC5dunREflJgLM8wjMhLrOiCv1FKzGtLzAghsXAkr3DEJ7XksrUkSSzHiYxcE76nJmZm7jbBx6xdMPotM2LvzOI+SY0pUAU44HCKIrhECk6VQlt9Wts+e4BBzRH9HFmRXTJfB76nDuacSpzk41Q9Xsgvw6WrJyCOcTVNE9D5xGCfDPWvF+jvY77VZr+uw0706T5Uztc8z1ttJvNFZEaBalVEui+i21/EoPki4QhPMhV/4wVOVBSuPnxPfcw8+fcUH7Mzm80vZG+B+j5l5h3xIUg5R2EYlnWJFJyonGfR0A77e9FYg5YjukgOwzPom3LIzv379gJobJVpM1tFz5bqHX1Pm9mVfE/GX/7ne3YVjvI9R48ccaPHJhvov/nxkM1b8t/BNeJYG21ozDjf68Hn6mjkoCM7Kak/sr2+YV8yLOz54rTDMhAm5kmkANCDdIr+DL420M/oq8TPdiXYPxsLN02JRn9m/3vj7fvD00SFQcver/eJj/oNlVtX5d/tcrJfLbIg8ZzEtYTva4nVUufEFCtx1hXjca+m/i7X5Kdi6tY0cWDLndKg2VU3OLwhncFMOKnSjjfMVHgXD8cbBbPh8eIGZBqfv2itOmEqnL+dEhxerNgGvqcNZs6UPrU+iixmatMb+JnP0zUE4aN3qs0Sb6vP5OcqUkOu2+0NZ0yW5SiYO/Nn1kucH22MbbTU64gp+GXrYl0sx7SH72lP2EzPHKvniHrm0T9r+Zmei0vUe+H5QWIVN4ieXgCsLykbmfptVmmHXFImx4oUzIKf1DQg0+g4PaPqiCm/NZWs4JJEke8E39MJM+efXWDN+HuweX1fFT/zdGw7sGrhC3eD9k/p9BmUKQsiBXP78y26sK638c8LTXfClDmSKYlMo9QxZ3kLTLIOp+lhgKktNXI8kn2W1CvZdp/pCUfGLBwZHsJdYRkZT7WsKMpyH/hv+2ARxiybaa2a8GX0qWd9/SL84baGrBmY9eysT4T7H8jRUIQh3IjkoKIiMZwgMnRQw4aqjqAs+7alLkbmWUnsD9/UH0OzZlhgNa9+PVp8Gu+HChPHgMnbx2/uOimrei//FmTzjQyZC0U7hDIyQwH9Z2khY1JLNjrn3prAGZTHZs7XRQfBNw3C0Kr7v7A+P5k9pln+4X7owxLNfDp9Prmr/mDSx+qj/2sV/Ue1YSG8ieShrCLLLo4OathQ1RlU8vdeXmJ4VhwC3zQEQ5tvXWPNOVsupnOTkX7ovdZ9QYXsWzf1P2LQ6TQYlJcVTqaAQl0alWqWiIa6BY6gjL8jCSzsSiLfNXXMztNlU6wNicWiM4ndNHJYkh2XVC3Z+CBmh8MylBkXHBjj4L8d947HAQI8DmB7HLrtcYDQHkeyUBn6odACUECha6XbrpXhCOpi/C2VZPi7OBG+aeI7PocnGT9Ht/0cHbmTKbJ1SaEcz1BAbUcH2I6OA6jf0YfuHActwGT4psnveB2eAK8D2F6HbnsdILTX8V4oHIwUUOhe6bZ7ZTiDitjAyixcc0+Db5r2jt/hScbX8dq+TmjxBocqDE8BtZ0dYDs7KYdyDAmVGXl4qno7gPB2AOHteAhvx0N4O57kvB3suwl4WIhQb5yMWvK/gNYUmXxXRQ/8pr5nzQCv7xmVa4vvabRrme952+r3tGbrhmq+1uSvPl2b2r6+7/WEzyZqnTa09L2udXW4FtGmq+81Mqh63UG+19qcLhopiSBG1KX4XVHYBxle/tRWjt0jyI95u4JHvQC9QL0gy79/lv7okTpu36ZbmsiwjgO6Dj+xptvQuGwHLnbPuAAkz2NkSWRFBvE+xbwda/9dTS+83yJZnt3rIE59+xQOC/ux7rahaX09EHFJnuif8xSFZ1mZXwnfvRLzKs7oYf2eYZ+5cvxMf4/fXaOoN9fKlmBmv7Tg9el40L9zZdUVHa9TW7GkUE5mKKDV085RIdSYcP+66gzKY3stumSJWwPftAZD/xna3frzr6vmB+0wtN8P59V2ebqBuex5b4c9w3S0kKnbdbjhEKqIMgV0262M4FhsE6PA1Iy6Myie+BVeEV3cevim9QS0Wg+r7V9h1pthGKrfLK2izeQCPz5WS2UdDtDW6NDOw3RqK5YUCsc9BbTKV1+60X7suIh/nEElbDpZjucZZiN800YMLfqil/W/ndmt9McwtNfGIgBtyH4aV4ROvCGgikgBXfv7Vyrand09+CuvI6jAk1AXwy9BLsZ/nCTgN0Fr8/LwmwDCrO6oN8Bqy35sVh0+S/tsYm+r94pVZtnLMzVyWJIdl1Qt2fggZlXGswTvcrECtwNxsQxfNhlsffRqkbm8/5d+GXqrxOqHE6PB/byiIVytCK5nywWW999D7yYSUIVVRJGngFaM/kuve6q5O7FpB+AMip0nVhTgYNyJ/EAMzT98uJV35zrzZes1fuhn3XOCn/4pBqbWTWMc6V4GvFFijYpPSusOoXAwUkAvhqVRK4+74G3YZzRwBhVJh1gSuD3wTXswdNnjMdabnt+Z6b/f6IcmrMjsPdChFrgxtaBxXC8Lis55rE6TctI7TxgqMwwjuUQK6L4vPzJq9xnk/eZANeAMqhBQVlI4FFnyYujx5hOtu7/8YDaZuw1PJfvLg9q1osHjwQt1KvEGh8qyTAEdNa+991j/afrvLYYCR1DJRUJFRUxIHbOTfvFAa0KvmWaX/As1cliSHZdULdn4IGZHwTJkBUZguR/QrheWYbXzU6yt59qbSrG5fhmyJxnfjk31cMYA88eraPPkQOx4L/W4SArlWZECesjsZ6Admyw/ztGdQDmGw4t/F/QlmcPwTYcJCzB9ljXiUTPzYub5fuiLet0A2rEZu60rmhnVDvnbRiMdOYTCxT8FNKu3soF2bNqIlVVnULwRz/AiFO9R5P9i6LPaC61pJ5ua7tcLsONRWAYbVw5LzHiKNcru/iQu6uk4sKPlJ3tpx0UAFHYkCuivmYcaEBo3pfhM3RlUxlCJZTj+BHzTCQxVI5dZH01qY76687kfeurPGgBFLD/tVYNOp8GhcAlEAd11t5NxCJxQP6vfSXUCZXEQCUIZhZPN1DE7q78Za0X3HGCuqzxHI4cl2XFJ1ZKNf7/Z4VhChrzs4pgL8N9ewDK89ed4n4WLdU3EexmzmgLoeHhdUzKDo6Meq8jxWJCxLPUqIADKcTwF9KMvGORiGRH7RcMRlGOxi8XB6YL5Db7pNwydkX6Kz37fKoT3bYv8BHzezpl7FVU4SRlwkgJwklKdQSVGECmgZaK/0ZG3M8HTz3AG5UmoS+GuwDddwdCSQz/1zU492g3Ei6yivQF0PNzH2R/VyrVWq8jxyFeiEfUqgIBCnaLdVQro9fhJOnSxjO+aZjWcQYktXRF6WMx19KkY+qb0Z765t33NXn7o8YuxPm/npz97eanEGxzKCyIFtPWrNzrydr540shwBMWRJATlRP5U6pid8l8O93k7fdJP08hhSXZcUrVk44N4OzzZHB6anZmpsxW35Lva1oQsg4wed6ZrZz5uZA3Icc9YbH2i9XzRynrzbTlz0PFPtWx/drEuJbYx72aZqZGiCGJFXQzZHFnkb9naebs1RnzM2y5BdgNy3f3OtlzgxhhJg0PcxXKIdgvT0r4eYp3JP9scFD07JC2ZTblwtCX3DlTgSCh0Fl/Dt73G0BU5G1ob8k2LUeYm4u39LnvR7h+o/KCGgbZzr+doV75Px3PU67YAqMgwdFDVhgJnUAFDFbQB8AYNagy9UbSOtWjMspi/ow/4oUdvNVGrdi6acK37SKPovujyqBtGVYyJdgjleJkC6lVVoP+aK7pEnXLAGdQ/D8suuObg+YjwsDD02NBmuWpa627viGmT/ogfml8s49Mp2vC8W3sUeNLqYPn+nStTr9sCoCLP0EFVGwocQfG2LoSysiBGQWAUhn75tLpVM+KnmPZpTvuhFQZdUQvOzJDQLk83Op0GhyoCRwGtUiobqLa3dPSx2CbAEZQXSCgcM3/BN935jxMF/Ca+hDf4TRIIyyo37GDFDFRi6k3fom0629z6vFiXmAKNvtXIYUl2XFK1ZOODWFaJmCgEiZHlbFB+2cKJXJEevuhQx/s7/DJ8HB+NgrbGYrW0MWPUPRUFbdvmFOldxSRQlINJAS3arBxKiAO5p99yO4MS+/EKSmfIAYE5MDRv/n6+2FedkrvxaqZshC9SPGZADaPQN80AA1czw/pmAg6hMsNQQCeM2eJFkeLxLdKqzqASzjdkXYzE5YbA3Bh6qt1gX2Tv7AuvH3r4/movihT/MbS2MfVbS0VB24XFc9O7ikmhrChTQLsIlVBSHLiVY7zqCIq3dSEUZVbmhcC8GDq4yShf3PKzpvv90J6dM/oixX3zNaXTaXAoVCoFlP2jpS9SvPiH9aojKI4mISgny+nDU8XspAnr4osUs+2/1shhSXZcUrVk44OYHYUhUtBZOB0Xg80phmXYLtd4yzPxi+jpNRL8MuQ2tUU5VL6NlJbPZ8X9WeGbhKin4+gtQFIodDzooIYNTXQGxfnZcA3Hs2IJCCyBoSUzTLPWj8oV/UXhLUnyzb1fVNyYd8SHTkECy1GACl3qaTx5PDvhEDhB778pIgESZI4vDSGlMWjD6dnW9ftrytW/uxX3/6gWPt2VGFNdn9uym865f0hoOGAE/UhPClU4hg5q2FDVGVQhFvqow5SDwHKESFt+bn3cavrmA+u3Jzn48aDh+s1jClRxCoLDgQLUpuBo407DfgmnT7D0fppMdhKRYcUCqWNGWpcZYMVcexNdvU+CRg4zslOSKiQb/H4z4mKIzHpGdomyAJsjvONIGAGOBLAdCa/tSBgpcSQCoJzEUUChy6TaLhNwBGU5AqoIMi9DoPyOI2Em472otvdi/NzkxwQ46TiFijJDAbW9F8P2XhxABWKmY6FHGguBse84EmaAIwFsR0K3HQkjJY5EAJSVeQoodJnctssEnEFlAsrxDKNCoPqOI2Em4724be8ltHhDQBWRAmp7L4btvaQcynAk1MXwManqvRiE92IQ3otJeC8m4b2YIbwXV5LmSBxzJ3V21xKy1LBy/VAmuj74TKvRsbZVfsHa6Fk5FmvHFzawHl95FP1y1Qqtw5Lmlnkqf8y3p9ZrpCiCWFG8ia7wLqgcRrO1Y3cJ8mPedgnUDYY1SuPrBuQ6OuTuWgBNEDhE03AHXLO5i3XLqBGT/8bXIWm0u2su3kVCJZ5vDoHNwwPTzjwBaWe6nXam22lnekrSzgKgMs9QQHfXKOq2E+wMZ1DsKLEKXF3LrSCwVXhg2pknmVw3w851U1Eea0oCsQFQUeQpoHauG7Bz3RxAFQLq4jm+LQS2DQ9MO9MC0s68dtqZbqeduVOSdhYAFTiGAqrfLK3bCXbOoAIRE+XQIbcOENghPDDtTEsm182wc91Cizc4lGNFCqid6wbsXLeUQ3EWNoIyHN8AAiuH/+cwDErNTkD78e+GYTxErpuHyHXzELluHiLXTSNy3bTguW4ukZQh2v7pBZvSKzwwEOsJCMSqdiD2bfTXSEkgNgAqMTwF9PSspoYdcjacQYmsCE5kFa4vBPYNDwzEepKJ/hp29BfY8RPdIZSTZQqoHf1129FfB1AiuM5JDCMPgMAB4YGBWE9AIFa1A7HADsTqKQnEklBWkUWZBqoX7W3YIWfdERRv00KoojB8PATGhwcGYj3JRH8NO/obWrxBoByDflFA7eivakd/Uw7F0SHUUrjO6Zw6ZseO/nqI6K+HiP56iOivh4j+eoJHf10y6z+5AMeF7OLGwKaMCQ9MO/MEpJ0BO+1MtdPOjJSknQVAJZdIAWVPMoadYAecQXkCKrMiMx4Cx4cHpp15ksl10+1cN/0EXM2kJMk+AMoJIgXUznUz7Fw3B1CJgKLM/kkQOCk8MO3ME5B2Buy0M9VOOzNSknYWAJU4mQJapbBs2Al2wBHUv00rc+iErcJNgcAp4YFpZ55kct0MO9cttHiDQ3lZpoDauW66neuWcqg/OuSDQq0OTR2zY+e6eYhcNw+R6+Yhct08RK6bJ3iuG8+QMlRYlzgHNmVOeGCSvScgyV61k+zfZvYbKUmyD4DCxSsF1FslVrWPEwBnUBeG+lJP50HgvPDAJHtPMpn9hp3Zb9gJ2U6hgshQQO3Mfred2e8AShyLlFiZ4xdC4MLwwCR7T0CSPbCT7N9m9uspSbIPgEI/gAKasCKz2z5OAJxBFQLqgr13MQQuDg9Msvckk9lv2Jn9ocUbHAqXWRRQO7NftTP7Uwx14UgRgsIhMz11zI6d2e8hMvs9RGa/h8js9xCZ/Z7gmf1QakRz0CILNSX1ct0AkesGiFw3D5Hr5iFy3TzBc914lrhFRxJ4Rv7C1k7SXDdPMrluhp195l93h9yNC6DBoYZoX4QH5rp5ksl1e4cWfDcuH+FuE0yREXmkrOyEwtL5FFYOoOdp6YK+5+rIXL7n6JHMvgf2Pd9T4+pLFT1vFZyM4tDHVT/5M0okD8tYYoZWbvtD860Se7VP51Po2uZTtWuePL7XWdtNga9L+V+3Lib5/w3ZAYIpkSeb6OKYZXaftMVKfszbgB4SJXpBqTjCCfVd8YAIy7DiLvSu5yOcVj9JlkC7dcoLLAkSeXk/hOzHoNezLpqfd2WshybuIV92vx43uU8U+KJtK2DW3ax2iK8Dusa/oV5kB0AlnqeAzv2oLoBQY1ufhbozKClSQRbEgxB4EEOtrcfM3yfGWp+/8os0rM+ZQjrIPRSMf9NTRSd3Ud5nlVLZDIdQReAooGjrFNnbu/frGs6ghF+PTs4xhyDwEIbe7LPfzP+4uvXh8Sl+6NODV9zzapcHl9VYMHP8JbV4gaJAf1ic2tvFUAn+hs63U0AfFZMBhBp92jG6I6hIJOtwkksSj0DgEQzt9H+7zW8nNbVa1Z7kh+a6vDwx17lx4Hrk/Tgq8QaH8hJHAY396bU6v90j/X9dYg1HUJ4noZzMJELg1v84q6MNepTBjtImiWlwTYsX5qwDha0GPy3Rhp7/Hb4uaf2ReYFGDkuy45KqJRsfxIJKpAzRYuIsbMpZLMMatY6Y9Z5EW93Z1X4Z5ohva4xmw8BXzN+J9fI+VdlqLYDy9QB6bzcpFHpGFNBJW75Ua+8/pc9v1ho4g5JhIrSYOA+B5zF07vpdJvtKsqanX4+32X4er9f7sB9IX3y6fmJpVvDd2O3ebH0bGw6hcDFBAXVvqg/qzy+in6+RHTiD4vs+4ZQFvY1fIfBXDE3Tcr3ZdVBla+os7Nd/KwCjTrqyoEjhcPehpkXBzVIsOOrZQe9iJ4WKskwBXdC9kjpkZ04junVt4AyqEFAB9qTLEHiZSFdascgsHd3AuvctTjXbub2591WRMeCcnI1Op0GhIsMwFNBto1WQrvYPesWwTMAR1H//qK+lMiMfTx2zIzy9aqaZUML6Ic9yjRyWZMclVUs2PojZkUkZonsWf4dN+Z1Ij8iSxYqcUM5a/HCdX4Y1Mn8aV7HuIfVu895G1KsJeni+LgDsMOktQFKoIMoUUHZ+CwNC9Xodd6mOoP6DlggqKwp3DwLvYWjj4bms4fG8xfXf7If2jhzluxTlnxx7dKQj89pJn46cQRVGlimgb45mNUb9Oss7ZGdj4AyKd/cVWVJE+SEEPsTQP+UC1rbHqrVoAM44aHemhrdC/AfgYK1Gxidn9urreA1cjqNP2E0KleEihwI6Ykt1A0KNqOpTVGdQmYAq0Ad4DIGPMfQzoaj1xdla1rYr3+KAWIEH7mvdR4LL4xk6nQaHwkFDAV1eIr0xUlqmLztXEziCyhwJZWX+WuqYnbW5oqwR7uLWobQrNXJYkh2XVC3Z+PebHYE4aq0ojCKJr2FTXmMZHtuay0IWrui4eX4Zfn2rB4COh7oo8wfe+d//pCPHY1+endTrnQAo7KQU0H0LdujQxTKqtqllOIKyxAVQCkoFewOBbzC09+giFrLfnk5z/NB6PbeqyNtZUDS9CicpA05SbjhJAYdQnmEooDPmNjaQt1N/XEbDGdS/snP5pkY+IgKuwSPweqdSGQvNTqW+xgkUqlUPQMcD1Hzw3Fs9LLuBHI8Z625TRzIDoKLMUEB/rTVehy6WUa0+bziDSgQUzmZiFARGYeiD31gLzb1Fhn7qh3b4J6+KvJ1tF3rupRJvcChUKwV0e1wNA3k7Y/O80B1B/feE/ttShvkrdcxO1bQZLOTt3Hu1UCOHJdlxSdWSjQ/i7bjI5ohwFYCasiL8v22dvqc5ymdprB0XVpqLby/XquYIs0bWN0ymwZfaZeGVWSzHJZMdvVSr3PO5WT3hb3PhoCVal0PPzBKns1pNpSUaKYogVtR/nSJqjsSKcvqIf7XzNrWQ+Ji3XYLsBuS6O+QOXAANDjVES487YNWPXpr7E0tadXMvDUmj3Y0TeI6EyhJXGAILY+iHdSaZ1RadMKXD3/uhw28OMSJWTVb7pf3eO2DvOHVIydLA9T/65PMAKHSgKKBfFfgQjLj4VL26uiRwBiUcKBe6a60oBBbF0HbH65u38x03V9855If2KJzdSFdhocodq2p8Oc9Qvapq5EyT1SkUrlApoLUH9AYIVvDSE7czKDEPu9BmcXEILI6hbaWC5o/yCbPpqmN+6MFlnYzL3x9Vzx/qr5/c9oeaOXs5kC/Nh9TrtgAoz4oU0GenI8DSnVvU6X/VBI6gAjEPu9C+eCkILIWhhcueN1Y/OmVWvnkK7690TdRjpV/Vaxkb0+k0OFTiZArohZ97gyote6mg1ErVEdRFdiRJcIl5IDBjxH+bKOA30dGhdPhNSMvaQ/KauepcND9eamitriw3uS2nzUPN9mnksCQ7LqlasvFBLCt5bacL/o9jYVNYLMOpnsPmmLGmuWTvURx7njhfT7sms3F2SQ0ja9Zf9FVZ64Neu0/Su4pJoZwiUkAzfpzPGDZVd7cdURs4g/LEBaWoJBMPgTyGLq91zPRc2mkebHfGD13f6Ko3bZHK6t3dI4xh33cGMet+V1eslBIdQtEdF6GhHapt0LPUKw32zo8GzqASCVVYToJACUOzfH7CzPbldvNL929+6Mu7+/V5q7z69IQWxrljt/QJV9qDmuUleldRxJEHkUOXP1BARx4PN/pk3ebNPqM1cATFZbYglIdecUUIrIihGQv9bL48ts3MVfGmH7oue2s9vNFh9fn2LnQ6DQ7lRZ4C+iTHcH1p89fqj4+aAkdQIpoEoZzElU0dsxMz7YD5W5sjpjrwoEYOS7LjkqolGx/E7MikDFFWcRXYlCpYhi/Y2+biP8ItK/9BvwzvDpbB+i0e9acLZY19w1gjV3NW3Z3XRT8dJ4UyikgBVZp9rXfv1c/Y773ldgZ1EVAJ+pbVIbA6hjbI+tzc+nFm60Kbw37ohuyL3WGnCoMNv1Y3SB05hIqsSAH9bWwz4+mrtMYfS7KrzqAiAUX7jrUgsBaG1r0TYaVV8lgDxON+aDo5G9h4vIlar2ddI7ZFI+N0ExDX6toH9NNxEija66CAXtnl1jcMijfuLRqjOoMS27roeCpXFwLrYmjZYumt7y8Vtd7Mx/eTPNidXy+6ICO4621Mp9PgUIWTKaADJ0rG/dEFjR93blIdQSUXCZVcojt1zM6DUafMwSUfml3G79PIYUl2XFK1ZOODmB2FlCEncHJz2JTmWIbT3CvMMc8yWO3K6NjxyFrXvW3FOLDu9uq467Fm4qvtCXHSZfqLAgKgvIujgC78sxlYfDSjMWTXm0QnUJEh9uN5lyyIrSCwFYa23/SZObFYXmvnLQx9vdrS9xVTwINHOdHMaMBJSoeTVJxDqCJwFFB3mZMqP76+MfLGGd0ZVCCggouT20JgWwyNbTrJvJa2pFV6qYlt3ZMe7uJ3RoL7uyrpJ+O+cU+rU13vkH8ktQUIgKIjaqGhitgUZMmd1jilSqozqExARZFnOkBgBwxdfb2Xubi/y4rx4BO+pSp+oetTc4IzuSvR6TQ4FFoACmidDTfUXjk6GNmjVN0JVCCjSbwo8HyD1DE7+U9vMX8c9sx81FXXyGFJdlxStWTjg21f+ZvDoWQ8mUdNSYXduHodH5v1T20wFe9abULbK6ZH3G5uvLtJO9L6Z3P7Za/ZvPV2LX7B92bJ1T+ZW57s0khRvL85on/THTVHhs5bZ1s7dpcgP+ZtlyC7AbnuDrkbF0CTGB7ROmNa5/S7zU8/um72f7gvJI12N050uUiorIgjIHAEhhbrJFp7DoeZ5+fijbGl2crongyqMd9d0kjo+Zc6/XwaEH9XoLfZSaHQgaKA3nlWxoBQMHb7LrczqIihMiqQNRoCR2No9Rux1t2dXxhlNuCNMWtPpO+gzbwfqqCUJuCp2D46JYHbAKgiMhTQiZ2We1FdOaHOPbczqEJAOVGWx0HgOAy9LFWyrvWKNBJb4I2xqJXzvAMPFDQeflLTyB5/WEWFSbvkoN8YC4BKMk8B3fKDZkAo2Dyrp+oIyhP2RkZVlSdC4EQMPVilpnVx2iF3wly8MbZsXxbQdVJWPWu5RnQ6DQFVRApo7IRmOqorVyBiueoIypEdyaUw/CAI7Brxn8M2BvwmCWj/nrCs54vFWB8WHmQeGWJoQw+y1qx1ktmp9D6NHJZkxyVVSzY+iGUVSBkKksjMgE2ZgWW46H5da2eWgeY39/FtJX/UawPupIswpm3M5864Pqv7uzGDErP9nAJXMSkU+hUU0HHH2hnKr6/0sGOJic6gAoay6AbN2RA4G0MP/dbWOtBygJl+BXYVvVsagvYjJifGHMthNLhZxHfZetGsfRMdQqEDRQH9I6KHEX+Pi03T5ZzuDCoTUI5hxbkQOBdD033c18o1o7+5riZ2FRstag6m748wzOuM3uBpE33kymqJxTqlwFVMCmVZjgJ6O08r43mXl/qqHUB1BBWJmZp1QU98AQQuIDrSmtHWrvX9TP4Gnqkf3y8Fpt+emdi/vEan0+BQ6IlTQL01RxkL4i/HthtQWXcE5cmOhE73TE4ds1PtkdtS1w406wu6Rg5LsuOSqiUbH8TsSKQMBUaWl8OmLMcy7PJAtFpt2Gb+/BI7Hm1XR4PBDxXwSL7hfV7okYpucBnzD0tvAZJAUZifAnqgY34VQo1OW8oBZ1CeOA8uKKK8CgJXYejGLXHW4XKHTEbFG2NlJ6cFVQptVV39q/sSuFt1PJSQkqT8pFB0LIYCev63g150EdzIXjlVZ1CJgEo8z6yFwLUYekSpbO3655L5IA/eGJMOVQFdXHkA32mUblbar6KzQLyend4CJIUKLpECOrzMMDeEGj+/qQscQfG2LoeKE/LyBgjcgKEnhtayLh79P3P6ELwxNrFdVhCV86y7fI7GdDoNDnXxPAW0xO0eOrqYccTazaojqMiTUFbgFqWO2bmblbOe/bzAzNtun0YOS7LjkqolGx/E7CikDBWGkbfDpmzHMrzfqYjPwj1fjsOAty99rUPHQ23Vvo7R6XxPgBwPk6W/5DIpFF1RSgH94NJ3KnSxQLFNNYAzKN6Phws7jhW/hcBvMbTUt/l99rtRNRwG3FOlm4q8nc97jEAzYyI6bg8nqTiHUBfLUUAvV4wFyNspuTAGOIPi/XhJYeAiaxcE7sLQNffz+GanqFI4DPgoc24dOh7qjLJtjNF5RwPkeJzdTX/5ZQAULrIooFUzFVGhiwWaDG0BnEGJKqK+G032QuBeDP3nwzy+uTe8OA4Dtu12R0XezuHsXeh0GgKqiBTQtf0zAeTtXNvaDDiCEtEkZNcZflPqmJ0CN0v4vJ2yDQ9q5LAkOy6pWrLxwbavyOa4oFHtmjq7ceO7ZLKKN59rLtyxViu/LafVttUU89SFTdqCJgUtd/HR5i+Vtms6U8JKGxdvVji9SyNF8f7mSHjTnf33gJhua8fuEuTHvO0SZDcg190hd+MCaHCoIZqOabeXclah2QPNJQf3haTR7sZJHE9CFUk8DYGnMXTBpE4Wyof5bDo+NHossRFKU9M3T1isXryXHaA0tRtp6A+NJoUKjMRRQN/cvKlHrJqs/76/leEMikvkiCy6IOEXCPyFCNzW6G+hbJ9Ce/Gh0WOd+wKUG/cqXz9HgdukULRCpYCeu3tHRzurpa/UcxSilohaLHBEQgf1AgRewNCRV0ZbKJdp7GR8aPTjyn1Qmpq+ZLGo/lRJ96WpZXhDf2g0ACrzDAX02xGZUUKePvKrWMMZ1EVABVTKCgJ/w9D8MyZbKFPrwHN8bVv3p90Ayo0zx0W6nQRuA6DQVaSAfpr5fwbKjft2aJyjELXEkh2Jh0udoxBo/vewjX//nrCsw1x1LBRk+HztEi1yfzML5cZNvDRfI4cl2XFJ1ZKND2JZeVKGosyKt2FTbmMZDn9cz0IRonGd8TGKTyvOVRcfzQhe1q4Flo/pD1DgNu+cHfQWIClU4hgK6IEjeVGI2hjUp4jbGVQkoHA1zv8RgXa+/NDKmRtbKP71U018jKLsgGiAosXXu2VQizdZq6OUJqtSE8MhlOMZCmimmP6+aPH1MRkMZ1CFgCpQwvch8D6GRtxsYaHo3pwl+BgF//WfapbcacGoKTxYMa49QIHbRvdvULuKAVCJ5SigH+0prBe/M9KIvva32xGUKAElcihf5BEEPsLQ7t06WCh2maUDPkbxSGwIULS4R8vZe6jEGxSKyllSQP/+ZWksihbXWvxMdwR1iWRLZRd3JXXMTs31dSwULT53caFGDkuy45KqJRsfxOyIpAxRnOolbMpLLMOLnRpYKB/mq+P40OjQEscTu/fqB0al36PHTu8BUJrarjv7qA+NBkAFhaOAVlu5XV+/xaM3TNcbOIMKBJSHjsffEPg3hp4p0tRC2T7TGuBDo0xxDqDcuFzybt1JUn4AlGU5CuiMJrEqyo1r2bsJcAaVCajAy3JYGnRC3Q+N/6S1L5fpw0b40GjPbMXVDYPiQabBU/WzWZsBlKYW1TEz/XScFCrIPAX0q6PpjY3Hm+h5vQ2BIyhRAkqEnZdh0kBgGgyVPunsy9SqaOFDo51PNAIoN+76z9G6k6T8QKgiUkBHHI/2oty4YfVrAUdQgexIosTwT1LH7CzuWtdCuXGjb6zQyGFJdlxStWTjg5gdmZShLIhMFii/LFiGz550tlD2796/VuH9jJJpwLCpurfj7FbGsOcZAErKP/87/RUZAVBe5Cmg/U80NdKuyQyyzj8U5wzKE1BFluXsEJgdQ6+3Hmih3OYLFrZ1p/IMAugkwLRLU9AkpaLsEjhJAYdQReYpoHX6hBvoJECuDNmAMyjhkKOb75icEJgTQ+9OHmehzO1IN74i48CD/KBP1m3u/EtqGULHTSpKyq/19TfUV2QEQHlBpICeXdTXmLfKq/b9JL/XEVQhVnYuOBq5DyHwQwyNKDzVQnnpj1viKzIuzO4B0EkAz7xMdDoNDoX2lgLqKlrBQCcBuq3NABxBJZ6ECpKYNk2qmJ3GE5pb6CRAydvLNHJYkh2XVC3Z+GDbV2RzeJdLNFNnN65wtRwWyo2bVf1LrXXBohbKjWvVe6nW4GIFC+XG5Wm1RNtZS7VQbtwveZZopCiCNIe4ghE2R+H5fLZ27C5BfszbLkF2A3LdHXo3LglNgEMN0fLhDniuVGML5cYNuxeaRn1vHCuSUJFhkLZS8Za/fefOmKja18tVM7XJzy5C4f5lbLk9WxPz3DC1KS5z3B9ztZN5H5jCgh7mw+ULtXJnX5gVBs4wz75YopE9IJgWiandBX0nsUCafzulLVfyY/xX4xGyTNF54wCaLPKIVgBrsfaNtNbQ2ZvNUe1WhaTRalF2EQ6/S2IZ3gOBHgzt8ssHHiv+WczZHJYfumN5Q6QYcLj1HPXytnV6lrHNNqOi0LTzUQCUYxg6KLChujMoKV4UB6sMgZUxtO3ABp6lk9NUyNATb5APHB5vGEvKJ6CrTFClYNQlW/z8Y3mHUJ6RKaBIn6gITok65QxnUMLh51lOZqpBYDUMnZhvmqeRmrnCJ9/h/KZLF9v4dPrj/CVudEdUxQO7Ny1LO47aDQ6AuiSRDgpsqNcRlCiDLvJouVoTAmti6Me5NngS9+WukOYfDN2Sr6UxKN6VgEq0UYk3OBQuzCmgF9J3AicXbSiPbgB0BOUEEsorogKB5dP8t+kefpMEhITfZDMxP3YeeEk9uutSTKcKP2jpN2wEB/7v95glCfs1cliSHZdULdn491tWWSBlyLsErjFsSmMsQ6HtQoBKkWZ/9ZNfhmkv+ioEG3MaHHE/31naQBWCy61IT28BkkKhOaeAFvynnBtVE3zeIxo4gxKODZyZZaYZBDbD0JhnpwEqtFqmJM6FkRMVA5UlPtz9QwPdiJn/15PlMz6p5hQqSSIF9K+Xz92oLPHhZYfczqCEw8+jtJSWENgSQ7+vlNWDyshW//4kzuMYUwdVCDbezOu8d7Mro4EqBB86dZl6ezMAyvEyBTTzp9Eqqia47Gx14AgqEg4/j5arbSCwDYYufSV4UJHcxYfP4qsrhlU1UFni3beL0Ok0OBQ6XBTQrcOXqqgs8d2fRqmOoDzZkVABzjqpY3Zy1a0MUFninA0OaeSwJDsuqVqy8UHMjkTIUGA4ju8Gm9INy7DsnjluSTwUU/M6lmGHkueQw2b8lLmNMSHPWCPd0M0JSJHU4yIpFM7HdFCvDQXOoMSSQGAFgesJgT2TQi83PAChl/zXRyNgZK59m3/5pq3hEAQ7CSXo9cniCRAE6EHEekNApcP6QEgfDOpWuqqae/D+mKjTt5ITo093EbFfIzG6qft/UijLMXRQN6m7lEOJOJGA1sL9IbA/hqKBUnrFwZgKnz/wi7TYGda4b+ZLQEVKHYJ4F0cBav7RTD3n4oub0aXY9LaL7CTQfWHap44ZQeoZlPVkzMzHxzRymJGdklQh2eAgZkQm5YZuEBgBmzLiHUfCCHAkvLYjYdiOhJEiRyIAyjAUUOgyAdtl8jqCKsRKTZCg5kZD4Oh3HAkzGe9Ftb0Xwxw7KwFOOsAhVOAYCqjtvRi29+IASjjYAjrqNw4Cx73jSJgBjoRuOxKG7UgYKXIkkkIVhaOAQpcJ2C5TrDMosVITGY6RJ0LgxHccCTMZ78Vtey+hxRsc6mJ4CqjtvRi295JyqMyRUJblBqWq92IQ3otBeC8m4b2YhPdihvBeWLI5rCxxqCmF0vy3PdL3NGfyk/FmbJbOMfmmfadlz1XZPFhhSszlrLu0P4W0ZuH9S2O8U/doaXotMuo9+Dqm8u9ebdvgrXpimx9jppfcp5GieH9zFIZYjomoeuZkWzvE7PP2Y/y7lrAbxHUduQl1A3IdHXJ3LYAGhxqiTcY0cXsjcPbW7zHHvzkUkka7u6YQpWtE0cXK/FIIXIqhC4b0M1Ep0tKncBMv7P0/X1niiif7qXluZtJRheBz5+kryQVAOZmhgNZYE2mgssSbvjS9zqC4sKvMS3B5sgwCl2Homlz9TVRodWtVDP3g5ggvKkscXvmSjo70cnL7aHT21CFUETgKKDo/jOICy/ZlMZxBFQKqwAX9SghciaH1vuxnojKyp7Zi6Ph2YQYqS5zY7nBc14ZZdVQhuEqZMdSeWgAULugpoL2rv/SVJc7f/w+3IyhRBl0WGDhk1kDgGgxt9UFfExXJfZMND5kS4k4vKkt84EkxOvEGhbKMLFNAleeVvKgs8d89EnRHUFYkWwon//kQOPU/ThTwmxjwmyTAb6ISlvVyeC8T1Xc6++NP2rh9fUxUlrhos0MaOSzJjkuqlmx8EMvKkzJEt01tgU3ZgmU4aexXJirO9Z2Gz2CzHSoCVJa43uCD3oP9CxqoZl7WVhnpLUBSKHRRKaCHchbzlSWO+KYqcAYVCCjPyMzXEPg1hrI5TBOVHlt34Bd8b2GmySoq1LfhomLEdt7nRdVkR9wo7xTKSiIFdHv9oQYq1Peq03jVGVQmoPAXtwMCd2Doeu8pExVWW/ztr37ojT65ACpL/PxJTX3lkBoGqpl3t/Ex+nGRFAoX9xTQl57nOipLPKxje+AIStznCecRWeR3QuBODD0l3DBR2bjt4dfwDQLpV8ahQn3128bR6TQ4VBEZCuiu8u0NVKjvk5EnVUdQF9mRREmU16eO2TnQYo6JCvWFqcc1cliSHZdULdn4IGZHJGWIsuos2BSLWLeVaGmiUqTcjxf8Mtx7y1JRWeIzV7oanT/J6UUVgg8pk+in46RQgZMpoOdmFUS1kPXXoBJwBuUJqAIdjwMQeABDyzRuYKJCq1NX4N5yolikjm5LmZu5N5oZjQ5Vv/bpyBFURLeTU0C/XHLFjcoSjz5QHTiDSgSU5Tn+Bwj8AUPr9K5uojKyNWf84Yf+csxQUVniNo37GtViiuxFh35Kz59Jfa4+ACpwDAX08JJCqBZy4qTtNYEjKFEbCvZdySUehsDDGDpvtmqiIrmg72M/tP3nt7yoLLGVpy6dToNDZRdHAXWzESoqSzzs8+7AEVQgOxIn8sye1DE7242OJipLHFv0lEYOS7LjkqolGx/E7MikDNFF4qdhU05jGY6J/d1AFm51S7xdZNZqhBwPt7ftB8Y3o66oyPHYWpChn44DoAxDAW35j4JcLPCb8KvXGdRFQAWZ43+BwF8wdHOWMQay37OL4u2imy1v6cjb6d3oIzQzutG5ejhJAYdQdBYtNPS7oWMB8nauPfk+0RmUcMhFVDn7AgRewNC9p3voaHb6eAo+tPziOm+gssQ9J/FGvkrFfRWCH/XOTz8dJ4W6FI4C+tnnBZGLBV7/9iTOGZRY2UFnh5F/g8DfiC3AprdUNPfOGHUe27p0nXXk7QhbXHQ6DQ6VGJ4COml6PEDezpGFhVVHUInsSHBtxx1NHbPz1Ylon7fTWjmqkcOS7LikasnGB9u+IpojMZzETU2d3bgtYeNMVJa4fcHdWr58o0xUlrj3gkRNAENNVJb49U1T+3jyABOVJV7y9/caKYogzVE4sjmyzFyxtfP2hjLiY/xeN9ENyHV36N24JDQWDjVEu4JpWcxuJipLPHjLsZC04LtxBfxQlmF5kirI/FNIfErsF20rYHX7TdgyYh6moh0UFM17tFZxox2Ub9/kTKiwLtQVV++nijJDRzVsqtchlfChJBdcL76AxBeY+tW6ctaYiElbmhXzT1ARaF/s5bou0aFvmHk/CS4SKUho2693s9UJFQZd0elJHDHpSoJLEl9DymtM6tE61ppW+6stBb86gYu9rmzp019+sYxvV7NdiU4Jd2uPCmGg30/lJY6OathU1SGVNC+iKMtvIPENpj6cW8vaJR3d8rKofzslokSdcuCTT4pFoxRupyRJ5ilI17qPNA4uXZ9w9FYTnZ7EkD0F+RIPIeXaf5wBYDfybcyPPLuwPGEyn955Zi67PWJzrU4nNO27TFb8moMJG/45ppGjjeyZpBbJFgeaTLI9LlJyMs/LGSLDwtBjS67F9kgLxX5qrcBBrUtx5VFIFoTN/s6bN/MLFYVk555lUzDeklJdAkdBbfJrbhUFgn9cXwY4pBLOkYR2oDNDYmZMPT88o4ViW1lMvM525c4AUCS45sHKxpNvGhoNG/6YcOdMDsdUWeIoqBf37fSiUHAuOY3qkEq4RzLL8XI2SMyGqedyfGCh2N2ZoZf91IqNq6CwLOh+tYteM+yIisKy4Zs/SME4TEp18TwFdXqmZm4UDK6UtQ5wRiW3bWVOEJkckJgDU4t1z2uh2OSa7TdwJVvvBwBFg4/8rwGdXkNQRUGkoFYY21VH4eBXl1erzqhkvAiunkQ+IjJV7M/ejW9MFA+uUeqURo5OsveS2iVbH8z+CKQUeRfHFITtKYilmKfHRbPmnDIx+RMu4TOsngQd+WTpctUxUGrgodw3on/P8mMKZuGkVI7j6aiqTQUOqcReqYy2ootAYhFMzbHwpHkw95CYA22JTKw9w9SOf/fcXLfrcGPB1Xs+NeXuyUU7pUo8T0FF6aTj296JLnaGBQ6pxLY7dBk5phgkFsPU2fOPms3PLI6ZWcWflxVWfU9Gn15zv2hloDReMT4ypjXzUQpm56RUjhXpqKpNBc6o5P6trxOXgMQSmPrV0CNmHmZ7TL3KT/3U+e0eqYV/nFD+QvpOdHoNQRU4mYKKUr9XRh+K3pKvJXBGJQNHsuxyiblTx/48vXPb/G3wmujf6/+ikaOT7L2kdsnWB7M/EiFFhWEVrgJsT4V3PBEQ4Inotidi2J4ISJknkpTKKCIFFXpdhu11uR1SiVWcgvakOUjk3vFEPMn4P7rt/4DJmT+IgTMWcEoVWZGCavs/wPZ/nFAJP11BuTICJArveCKeAE/Ea3sihu2JgJR5IkmoLgYOy9BU6HUZttelOqOSG7kK72J4GRLldzwRTzL+j9f2f0JLOASVZxgKqu3/ANv/cUAlI0jwBSOXTlX/BxD+DyD8Hw/h/3gI/8eTnP9DbiKRzUG3+F5LnR24dUO/NPOeKxZzqcwercg/O81v2pyKzrta13YUP2Eu2dAxese1/Zoy66bpGT66/MbThzRSFMHMKbnTroiCJMba6rE7Bfk5bxfiqCMM6bs0GnWE92y7vReBtvkQIhb3u7Kfhlk/fPpyc/6vTiWLoN5rYxmBJHEy0xBSGkYGZqGZAVlowM5Cc9tZaGroLLT3U12SSEG9sPf/VDvhTndIJTwnVH9cbgKJTSID89DMZJLfgJ38ZpzsfIgiMvt+KlwvUlDt7DfDzn5zQCXrsHAo+aU5JDaPDMxEswIy0VQ7E81rZ6J5Q2eivZ/KSRwFdXy7MGAn3SU6pBIXLfuu62kFia0iA3PRrGQS4ICdABdawiGogsxTUO0MOMPOgEs5lVFkkupSuFqQ6I78z9EZAL+Kb5v+3eiMSaTAmUQKnEmkwJlECpxFpMBZyaXAkVLkSCmig4FdYFu6RAYGaM2AAK1hB2jddoAWhA7Qvp8K3UQKqlmrEbBj0cAhVSKoqGBId0jsHhkYojWTiQsDOy7stSMrjqmixFFQ7cCw1w4MO6C6iIu7XSgLphck9ooMDNKaAUFaww7SJtpBWjV0kPb9VJbnKagvrvPAjkcDh1SiEpTv3p6+kNg3MjBMayYTGwZ2bDi0hENQeUGkoNrBYd0ODjugshJJ5US+berYHzs6bBLRYZOIDptEdNgkosNmctFhsj08KUV0cnAYbMuwyMC8NDMgL82w89LeJsOB0Hlp76cyHE9B3XvL0u0UPOCQSpRfgn4IL4+ExJGRgZlpZjLpcKqdDgfmTImKCZ2H/36qwPMUVDsfDtj5cE6oRCUvF0qHGQOJYyIDc9PMgNw0w85Ne5sQB0Lnpr2XKjKsSEH95Zih22l4wBmVLAnlkjgXNx4Sx0cGZqeZyaTEATslLrSEQ1BdnExBtXPiVDsnzgGVrEXnkuCPA1LH/thJcSaRFGcSSXEmkRRnEklxZnJJcWR7RFKKaFXyCWzLJ5GB6fhmQDo+sNPxDTsdH4ROx38/Fa5iKahsh4qGffLA7ZBK1GHiGRfHzITEmZGBCflmMqcAgH0KwG0nbwOnVJ4VKaj2MQCvfQzACZXw03lU/WEOJM6JDEzJNwNS8lU7Jd+wU/LV0Cn576fKskxBvdEnl2GfPlCdUcnaULyLZfh5kDgvMjAp30zmJACwTwKElnAIKscwFFT7KIBuHwVwQCWL0vHQsZUnpY79sc8CmMRZAJM4C2ASZwFM4iyAmdxZgCQ7TWR7eEmUUVtSLz3OINLjDCI9ziTS40wiPc5MLj0uSa8gVnY8yj1aaOsnaX6cmUx+HLAz1vyr8tAbdQE4OOAQbmFkYIKcmUyC3Ds46gIbCuGD8yI0pEhfqXilX8s3e816f8VEX/jnM01kvjJrndsUvWvYIm3d5sXmo7Ovoh8NXa5d3jrTXF/sfzEnrq7TVnafbG5OUzUm3RdbNLIPBNWjSLZRlOVFdr+0BUt+zlvBImGOGBDlEybFqeP34lAiM8Itwnp8NGiMGZFjUEzRsXtC4qg3XznWRVIFl+iFRC+mvp510fy8K6M9NHHRkrkf1TUm94kytvVZqJp1N6sd4usYXePf0LvGAVTRxVFQv+x+PRFSwRdtWxkOqaSEUYk7ExJNTLW2HjN/nxirff4Kly3pc6aQDnIPNca/6em7JHThpikURYTfT4XzPwV1262MAKUk3L1f13BIJZYBApyouP2QuB9Tb/bZb+Z/XF378DguXPKomGzMq13e6NOOUWeOv+S7SUF/WJx+aR5AlRmZgvr04BUvpILLaqzhjEpWS/fd93MQEg9iaqf/221+O6mp1qr2JJx2eXl5Yq5z44zrkffjqCQcggqX7RTU2J9eqygl4X9dYg1nVIboTQKncPJ3kPhV5H8vrQW/SmBprTUtXpizDhTWGvy0RBt6/nf4uqT2R+YFGjk6yd5LapdsfRAjy7lIKaLyUCdgW05gKR7bmsuq9yRaKzoOVy/Zt2CHOpoNM6q2qQXmf/+TzlZrYezLszMFliApFZp2CurXt3oYtfefUhdl/sDtkEo4OoLIstwpSDyFqb1HF7HYV5Lm6YTrl9TruVWt92E/Y0HR9OqJpVnBd2O3u7P1bWw4pXKMTEGdMbexUX9+EbX+uIyGQyqxDBAkQebPQuJZwhJUKmN1HVRZK/U1rmDya63xap10ZY1q9XlQPSy7cbMUa8xYd5t+GRBAFWWGgqpa9YwhO3OCmg+eu51ReWIZ4LsQ6DwknsfUB7+xVunoBlqRobiGSYd/8qqviowxtl3ouZdKwiGocNlOQd0eV8NIV/sHdWyeF7ozKickaSvDHEod+1M1bQYrzYQS2r1XCzVydJK9l9Qu2fpg9kcgpCgyoiBeh225jqU4OEsWK3JCOW3xQ3zLPju/BahY95Ber+MuPerVBD08XxcD7DDpQ6MBVEFkKKg1Mn+aCKnq3ea9gUMqsVIQWeiK3ILEW5jaeHgua3g8r3H9cSGT3pGjVHQE458ce3SkphVjZyWk6NBHUio0PwwF9c3RrMaoX2e5h+xsDBxSiQWK6OIF8XdI/B1T/5QLWNseq9qiAbiUyYgt1UGF+A+MqOpT9E/O7NXX8ZpxOS5TCmbnpFRB4Cio7c7UcEMqOFirEXBGFYmQk4gW0Pcg8R6mfiYUtb44W0vbdgUXMylT4IEbHc24PJ6h02sIKvw/BXV5ifTGSGmZuuxcTeCMypO9iRcl7tfUsT9rc0VZI9zFtUNpV2rk6CR7L6ldsvXB7I9ESlEUOPkpbMtTLMUatY6YyNZ1Z1fjENqWL3Xoiejzm7U26uV9qiJPRPl6QAosQVIq7+IoqDni2wLodYGvmL/jHFKJVZ+Ibn56AYkvMHXu+l0msuXT06/3U4//PF5H/k/64tPRjGWgy7/hjAWcUhWBo6C6N9UHyP85XyM7cEgl/HRRcXHya0h8jalpWq430Vw1dRauabKgeyUdeiJGdOvaxqGmRQHyRI56dtCnZgRQeY6noH4rAAC9LlCkcLjXIZVY9UmMyDNvIPENpm5YschEc/G9b3FVk53bm3uR/3NOzkan1xBUySVSULeNVgHyfyqGZQLOqKKLpAo8/zB17I/w9KqJ/J8f8izXyNFJ9l5Su2Trg21y4YIgcEDKPCuitiyJ/M/VVJJrj10Ew4OKYFTNEWaNrG94mAZfapeFV2axHJc87OilWuWez83qCX97Fg5aonU59MwscTqr1lRaopGyCGZPZaLcsIySkyKi/tXP21Q34nP8AWaiJ5Cr8tCbdgE4heERDj02rupHL839iSW1urmXhsRRb9q5GKLSsIxulc0LiXmjAisNewIqDat2pWFgVxo2Qlcafj+VVTgK6rHERoZdVFl3SJUIqgytSwFILBAVWGvYk0yBY90ucKzadU8Mp1RWZCiodoVj3a5w7IDKEtOyhOJJhSGxcFRgtWFPQLVhYFcbBna1YSN0teEgVEWkoH5cuY9hF1bWHVJJQ8oLLFcUEotGBdYb9iRT5Fi3ixyHlnAIqsjIFFS7yrFuVzlOOZUjoyUSD43sB5AYGfWfK3DpdgUu8G4FLg9R5thDlDn2EGWOPUSZYw9R5tiTXJljUoocKUWRk7hysC3logKL8HkCivABuwhfol2EzwhdhO/9VFYSKahtS6Yx7HqDwCEVu1SCbyEZA4kxUYFl+DzJ1P7T7dp/ul09y3BKhQtJCqpd/M+wi/85oSoElVc4mYVENiqwEJ8noBAfsAvxue1CfEboQnzvpQoMx1NQDzzIb9g1B4EzKrEFLKBLhRkeEvmowFJ8nmTq/+l2/b/QEg5BdblECqpdAFC3CwA6oLJkbxJZni+eOvbHrgDoISoAeogKgB6iAqCHqADoSa4CINkenpSizDCMCtuiRgXWHtYCag+rdu1hw649rIeuPfxeqgR9PQrq0BLH4+wyy6pDqkBQ0UJSg0QtKrD6sJZMyWPDLnnsV5NTKlxIUlDtmsfArnnshIq37wWJgYqtAolVogLrD2sB9YeBXX/YsOsPJ4auPxyEqogU1J7Ziut2qWXVGZXYAhYkjmW56pBYPSqwArGWTNljwy57HFrCIagcI1NQ7brHwK577IBKhKAglWFFKXXsj1342EMUPtaIwscaUfhYIwofa8kVPibbI5JSdMkS1xC2pSGWol3bXUO13f0z1pG83m0rxhmD+hTxLh/TH7zanpCYd86OFKyEklIlSaSgflpxrr74aEbwsnYtwyGVJ6gCXJM0gcQmmGrXrtdQ7fq31LIDosG+YopxvVsG1a4eqoYuQxyEqogU1Ewx/VV+fH1wfUwGwyFVIqiiKHHNIbE5MTvfbGFdS1tSm7MEhw8/2lNYLX5npBF97W/vinHtwbQ61dVG92/Qhw8DqJIoU1D5r//Us+ROC0ZN4Q1nVGILWJDQXfGtILEVpnbv1sFa3N+lZemAw4ePxIZAn5rT6NFy9h4qCQenytDEU1D//mVpbK8cHUCtxc90Z1SB7E1wPS/XSh37U3N9HevHYc885y4u1MjRSfZeUrtk64NucpHtUUReRm1JhU07uwSyhyiB7CFKIHuIEsgeogSyJ7kSyEl6BV7ZCTIDPY62tn6S1kD2JFMDWbWrEvtX5aE37QJwcMAhXNuowCLInmSKIL+Do9+0UwSSqohMPCTGY2qxTqK153CY5/zc7/3UO8/KAE8GFYzdvsub0PMvdfr5NEb8XSEFS7okVJYRRArq0mxlVEg15rtLAodUwqWSUZbSUEgciqnVb8Rad3d+AcpswAdTrT2RAB3zmfdDFcMXG+x8KGUx36RUlAdGQUXHnFEWpVDnntsRlWeIaRmlUHIjIHEEpl6WKlnXekWCxBY4/3bLDxoYeKAg2Dyrp549/rD6JFIwuuT4kH5JF0CF/6OgRq2c54ZU4+EnNYFDKmF4ULoEPxoSR2PqwSo1rYvTDnkT5uJDG8v2ZQEoPzVruUZ0eg1BZUWGgho7oZl+r3Vfo0DEctUR1SWTvQndGdEHEttH/edID4BfJTqgzvz5YjHWh4UHeY4MMbShB1lr1jrJ06n0Po0cnWTvJbVLtj6IkeVZUoqSzPFTYFumYCne71TE2plloOf58qP46oFL3+l30kWAYptqGJ3O9wTfjRkUZ7In6N3HAKrEyRTU25e+VpVfX6mt2tcBDqmES+W7g2c6JE7H1FLf5rcOtBzgaVQNH8LdU6Wb2n7E5LjPe4wwGtwsEoeuhS+atW+iUyrHyxTUyxVjQfw9bm/JhTHAGZUjXCqFETl+BiTOwNQ19/NYuWb090SV+s1PrZqpiD59fwRoMrSFMTrvaDByZbW4s7tZevcxgAoXdRTUR5lzq8+7vFRnlG0DHFKJmVthFZc4GxJnY+o/H+axdq3v5wkvfhNvAXe7o06/PTPucPYudHoNTuUYF0dBXds/E1gQf3nvta3NgDMqI5FtlXlmXOrYnwI3S1jq2oGesg0PauToJHsvqV2y9cHsj4uUoktUxMWwLYuxFLs8EK1WG7Z5fn6JPZEDHfPrgx8qRqct5YznhR6pw/pmAmP+ScFlXIFUhqGgtl0dbUAqeCTfcDukEhuuCtrS/gISv8DUjVvirMPlDnkY9TBeNE9OC6oU2qq7+lf35YY/nPdBTIpy/gOoLMdQUM//dtDbpiAci71yqg6pxPY9XIso4nJIXI6pR5TK1q5/Lnke5MEXWQwvM8zbxZXH+PlNXcOstF9FZ5F4PXsKfIKkVDgsKajSoSoGpAK+0yjVGZXcAlbQ+nUVJK7C1BNDa1kXj/6fZ/qQ09jDbJcVROU86y2fozGdXkNQFYanoJa43UMvdKknGLF2s+qMSoagFEliubmpY3/uZuWsZz8v8ORtt08jRyfZe0ntkq0PZn8EUoqKIMqbYVs2Yykuul/XZ+u+ue/1S3HcsXYAeiJ62LHEuIzrs7qRJ5Lt5xRcrh5A5SWOgvpHvTYG9LqMaRvzeR1S8aoPmjxZEbdC4lZMPfRbW58tT79C91O9WxoC5P/EHMuB5slEdAkAnLHinFIVhaOg/hHRw0D+T5ou53SHVJmgci5R3g6J2zE13cd9fXPVupom9jDztALQE9FX7QB6g6dNdOSJFOs0MgWWICmVF3kKaqNFzQ3odRnmdUZ1RiW2gEUGNpX5FhK/JXrTmtG+uZi/sc9PfXy/FED+T//yGp1eQ1AlSaSgemuOMpD/025AZd0ZlSd7E/wvvzZ17E+1R26f/1Nf0DVydJK9l9Qu2fqgm1xkewQXz7dPnU278V0yWcWbz/Us3LFWK78tp9W21RTPqQubtAVNClru4qM9v1TarulMCSttXLynwuldGimLYPaU2KKH7VEEbpetn7cXjhKf87ZXkD2BXJWH3rRLihPhjwi3C+NuL+WsQrMHepYc3BcSR71px8siSRUF8RgkHsPUD+tMMlFWjXQYu49fFfgQ5bypV1eXNAbsHaeinDfX/8QUmO+kVEngKKjDbw4BEasmq/3Sfu92SFUIKirK9zMk/oyp7Y7XN1HW0Oo7ePusR+HsBsq0445VNRzFfAOocCFJQa09oLcvElnw0hO3M6qCp2WRZXhePg2JpzG1rVTQRFlRTVfh7bNnpyNQzps6/a+axsltf/hy3vKlScn2WVKqwPMU1IPLOqH8PvX8of6qQypheNAxc+YXSPwFUwuXPW+grK/KN/H22aSuiTrKtLuWsbHhKOYbQJUFkYJ64efeAGXagVIrVWdUIikcUkWR/wES9/z3SI9/v58wsj0kr4miEh8vNbRWV5abKNPuULN9Gjk6yd5LapdsfRAjK/hvKfXt3UuifBW25SqW4jT3ChNFldqVwS7Vwj+bGYuPZjSG7HoTdz3WTEQxX+lyCtzHAKos8hTUjFnrovg2WHd7daJDqkxQUWzwBiTewNT2mz4zUdRs5y1Mfb3a0lGk+cGjnMaw7zsDlBu1YqWU6JQKhwcF1V3mpC/SPPLGGd0ZFd9SyqK5U+BuQ+JtTI1tOslEUcHSS7H7qIhNjSy50xqnVEk/GfeNG8V8O+RPgfsYQBV5mYL625Me3uJ3RoL7uyqpDqk4b5xBEwv/ByT+gamrr/cyUdQzxrPfTy1V8QsdRZrP5K5Ep9cQVEVkKKh1NtxQUaQ5e5SqO6LyikxS4Xi9kDr2J//pLSaKND/qqmvk6CR7L6ldsvXB7A9HSpGDPsGfsC1/Yim+YG+bKKvGyn8Q99NmX6vde/Uz9ntvefcNYw2U87Y7rysFliApVeBkCurdwbKxfotH/elCWeCQKhFUF3Ron0HiMyLnP+tzE2UNXWiDt882ZF/sRpl2G36t7iznPymVZ3iZgvrb2GYGyrT7Y0l2Z+cbBHxLKaQKPMe/hMSXmFr3ToQvK2qAiLfPruxyqxsGxRv3Fo3RY1s0MlDOW6trKbhBP4AqcAwFNZ2czdh4vIlar2dd4JDqIqii5BL/hsS/MbVssfS+rK838/H22YPd+XWUaXfX29hZzn8AVXZxFNSBEyUDZdr9uHOT6ozKkr0Juj/M/dSxPw9GnTJRpl2X8fs0cnSSvZfULtn6YPaHJ6Uo84qYDpLRY0txquewibKKl+zF4cOMH+cDw6bq7rYjahtZs/6io5z/XrtP0ocPA6kMQ0G9OHG+mnZNZuPskhrAIVUkqIrM8RkhMSOmLq91zERZ0wfb4fDh+kZXveikwd3dI9A8aaAUFThjxTmlKhxDQe1QbYOOThrsnR8NHFIVTJVYThGzQGIWTM3y+QkTZYV/6cbhw5HHw0GfrNu82We0Ns4du6WjnP+a5SX68GEA1aVwFNSXd/er81Z59ekJLYAzKt4ChlS0yM0OidkxNWOhn02U9Z6rIg4frsveWkcnDZ5v70Kn1xBUieEpqE9yDNfRSYMfHzUFzqgukaQKLIcsRSrYn5hpB0x00kAdeFAjRyfZe0ntkq0PuslFtgdVE9iTOpt29To+NlGmneJdq01oe8VEmXYb727SjrT+2USZds1bb9fiF3xvoky7LU92aaQsgtlTQSDbI8tMTls/byuUEp/ztleQPYFclYfetEuKQ6dxES4n7oSd0+82UaZd/4f7QuLoC4pIMkmFfRIpLBUvJ9x37ozZcMAI8HLVTG3ys4tmRNhfYMvt2ZqY54apTXF5xv0xVzuZ94EpLOjhebh8oVbu7AuzwsAZnrMvlmhkJwiqSGKil9Bh3Nxp/+2YtmTJz/HfoEdIM2XnnANwMsMgXG6syNo30lpDZ2/2jGq3KiQuuCLzYSo59tDUhFQYTqgxg0+NmwB6oB3xPUsWt/Q9k+829D0D3bV8D7QvvqfG1Yq+x+Vy+Z633SAZtWYII3+10CbkGev76+gnLbXu6ivf6zwn22qv2yk+1T+b2Vnjrg70vb6bvbeWp9Q83+ta6mDt4YONvteZn4zV2t83fK/LTZqskd0mqLrJmUuSRCZP2n+79NvURuJzyBrN6AWtikmE7BJlhMiDVbz3wAUf4sWQ2ckiqMenyJJWARWCrg8p9THp7NxvYnpFjLc+uBTn70zoS6PC2qg4zM7Xr0pVWDcOoDIt1C5HABU65PRULyoO45BK2CL0f7kRJDbC1N2Tv43J3G2CVbtgNB44Z7tt3juzOEDFYVCfjJ/9zWbEckplZZ6CWn79X5uqFNqqouIwzqgcsb0kuxhBbAqJTTF1+9FdMacSJ1lVjxdKIuGlqyeoV9M0Adc+GFW284nBQP96Ab17FUCFC2p6qg6phkMqsUUho5ICLSCxBabGtfPGnPx7itWZzeanDqry2WZvgfoAXXpPJeEQVLi8o6BqpT7cFJXzrPvvRWMNZ1Ryi1RGRRtqQGJs2v/m1CEe/CrlCYOLPub6gW9i8pYcb4041kYb+Xp7zNCYcdbgc3U0cnSSvZfULtn6IMZUdJFSFF0M3wmSO2EpoqJzdU5MsR73auqXIipE2eSnYuqWO6UBKgnZ7KobMBNO0h/kDKByjExHBQ2PFzc+f9FadUglJm4Z3bTbFRK7YioqqjdT+tTSpjfwU1EhyufpGoJmibfVF2mU8s/k52qu2+0Np1SJkymoqBDlzvyZ9bGNlnqdUXlie0lWWIbvAYk9MBUVDczsmWMd/bOWn4oKUXouLlETq7gBKgkZPb0AyNRvM/1B8gAqxzB0VFDwk5pGx+kZVYdUYotCQSUFekNib0xFRRHnn11gXd9XxU9FhShPx7YDDdo/pdNrCCpc3lFQUSHK7c+36P+80HRnVHKLVEFFG1qnjv1BhSjzFphkgaktNXJ0kr2X1C7Z+mD2RyClyLGSOASSh2ApTqy5PCZm2Uzr1LO+5Ixl/HBbA7OendXHDumSYEuRPuQdQGVkhp5qQKrqkEo48YpLYPjhkDgcU8+DRTFZMyywxKfx+M7boQc2oXoE6NQI+ugzc2LKZshcKNopVWQYCurqkn9u/mdpISPn3prAIZXwoBVekcRRkDgKU4eOmxdTdf8XVrP8w5NI+GGJZgAVc/osZlDCg0kfq6isEv3oSEIVGImjp6ISUqozqkhsLykiJ8tjIXEspo7K/1lM861rrM5NRuLLEAYM2XyvdV/fKS8qCYegumSegpqQ07sZ6tRAxZycUcktUgWttfuljv1ZMGFDzNNlU6xMYjeNHJ1k7yW1S7Y+mP2RSCnKDC9Pg+RpSTwR4z2eCICeiA49ESPlnkgSKrqHkY6KvC4del2GQyqx6lMUlyR+ComfJvFEzGT8H/Wt/zPwREdk9fSUWb2kVF7iKKjQ/zHe+j8OqdhPZxnoqcuzIHFWEk/EfI8nAqAnokNPxEi5J5KUqvA8HRV5XTr0ugxnVJklqBxco3wGiZ8l8UTMZPwf91v/h0rCIaicIFJQof9jvPV/nFFx+ShEZUR+Qqr5Pwbh/xiE/2MS/o9J+D8mhf8jKGR7XDLHo7aUT/vfNtXf054qzT+N2bqhmpW/+nTtTfxnMVPb17cmfDZR27FxUUynDS2tWleHaxcvr4iJaNPVZ1uL/flVjF53kKXN6aKRsghmT/FxfBblErq4+bZ+3l7WRXyOfwTkjyn/tieQq/LQG3UBODjgEG4+xlVO2BWzY+0ka+H9FiFx1Jt2Ei48gWpnQ0O6ERI3YurvGfZ5Ks7oYa0cj2+pQLWyd9co6p3ZLy3o37my/vp0PHBFx9PHRAOo0JDSUUH1tHPUCfevqw6pCkGVXDyfAIkJmPrnX1f/n7fzgJKiWN8+gsAmkKRERbhk2KW7p6cDy3RNA5JzziAgOYNkJEmSjIAECUpU2AXJYacDILpkSRIkSFbiH1SSwlc1d3b77bnLTk37nb3n7jl6zr372wpd9dT7vlWP9+WQbmbu9haVPJLe94dzylz2nO/Fq0sVOu4eqtX7KAxv8CAqzzMUVBKAJWYxhSdHac6oLAeoMp5dmzBxk0Vt92cm9WX17uaroRaVhEO1G2WUwj8+Uiq1b+4pnXMYGtJ5KH34LIjKCTwdFVX7ZqlnTOaXTqlg4cGfjsRswcQtFvU/O3KpxZ71NCOOWtTRhavpPb8tiqZVLkrXwyGoblGgoG6e1R+t/u0bZdfgb3yOqIIsQyqWyisxccG/3DTwn7KB+BLhPwVen2jHfurdWr+/+cGwmWqvFV9754zvZZa7PEOFXyecvXB0YevTWWRFDvYix/GMD5N9QFK9WOh93nSwubzfUstNNSlW91WL1+4VEIhXpO7+tRJa3m83vXwMorI8T0ElvpiVYv/Ukpp1RA6pQFKxLrcgGZhoWNQCO9Z4Cw0bZj5vsyqVeuhlcX1Ot7xocr0sOrnYeLhbWVTpcRnNKVUQeApq1THnPRcyZVEa9R6FnFFdQFKxboZn9mHiPov6qsd277JHo82I78Hrjx1r6wkrYnzXJxchXpHaMa0cmiLmpZdUQVTcWgoq8cXcu/R9fcv+6sghFezcrOBycwcw8YBFvfPzD95jLcabTedusqi1Y/W++yqgR4MXaFQ9HILK8xIF9Wi/KcrIzzv4fms5BDmjsnA2CVgqb8+Y9WdczxneiEUDzC6FFqjw64SzF44ubH166w8PexH/cMcx+bjVixvPdvBWPzfJlIvPTe1FEl5hTzCoxhuM/nv1oTqaN1bZHz+WPn0YRGVYgY6qJRt99Rw/ztYcUkVAxQKTOYmJJy3q8IfNvYWmzjQvxMyz3vc9rGvP6ndFn2z6SPOeGJiQMkxOqW6XQEElAbucvqp6W6Gq4ozqtsL3vIsYkJ3BxDMWdcqJZt4ndRaYnr/np1KJV3a19yQUdZLVycMO5XZ9Vnlrq8/20H8ddqokMXTUpF9ihuiTSszQHFJdgEqK4s9h4jmwm01o61XeXGa+uP1FKrXA8Hf0k3/URNN61qQb1xBUVuYoqMnouLbzTid9ToNOijMqSEGRtjJMcsasP7E9+ntXbvnEXFN1tgq/Tjh74ejC1qe3/giwF4l5yjVMvmZXIjf/GGvGu8ZDJeI5NbMZck2K8SuRIyMfKfOjyoVxOrBTRYGhoGLVhd7/ktEy7/uv6nJAFQCVvH1yExNv2pXI9IhJ5s13R9j0T9FDCJ2+W4k87KDjHUvHO5bilMpJDAWV6J+ysVu0cd6+ukOqpdPxQiu4hd8w8Te7Eik1ZJrZvf0AqER8WrFe6Bj7o0KUSNXaK5WCJRuHcSaxU0U3R0HFqgtdGzRB294sp+6MCkLAPM/KgnQXE+/alcirMnPMDrV62vTPsQvx6NAfPX1UPZw+lYTPKKhE/7R58Ur78nFj3RkVpKBwWyWR+yXj9E+FpcPM3hFTVPh1wtkLRxe2Pt0gF2yPS3BxCzImaDcux0C0eHsds/vtqWr/PHfR6U8bm4vMz9RX28p7ezxrbQ48Nk29lNTW+9YfXcw7OfDZEvRFeuspCNHzeFrwzIPA+KREIMDvSfVQATMBnspDB+2CcPiDI7gHFu50oVnebH9/bA6MnRUSRx+0k0VIxUoua/ZMmchPgDpu37oKK/I2MuW5SbbcYJEue7Sq92vqOa5FJJAseO8Pz4ZxpLNRyZGOnqpgKnJElRggqXhBZrkITIywqOWe/rHherG65j+x+6380s6csUduNlWIEx751VWkrLFZK8XFOqSKDCNRUJ/Pa5FA6tlL1i2PHFLBtsyTCspoTIy2qFmHLk9onq+W2TbisK2HCwllNRKUvVs/PuFOnZH+oCz1khZElVwcPVUhQVmHVLDwuBmGl3JiYk6L6sryImHpXzXMDlmsi1Q9O++vUHHgFb9zJVUPh6Di9lJQv3zQmtT0o/9WxTqgijKcTbLs5l7iFeL//n2mR8d/SgL+UxLAInsw/o04qVFHs/7URPVV7fmx68+0MAs33qbCrxPOXji6sPXpLLISC3uR+IEXwD1YILst5xu3rLv54b2ttkzzo0Gx2iLlvznf6SPvKu3yhvGQRRBVZDk6ql6seXn97ak3PQ6pQFK5XaxLINcMCme35XwLFOpr1i21y5Zp3lkuMxrdv6b+gpuX8O6W5oi8NueUyrk4CirJNI8bnegb2zKb4ozKAUnlJjZK72Hie9ltOd+T7QebZ575bJnmg/dW+n4fUsef8528zVQWlHibXj4GUUWGp6PqXdxV9Jt5xioOqWDndpP3H4thYrHstpzv4KYjzTnN9tkyzT06R6E+BZvRjWv6VIFhBQoqyTSzv7fSFv2wVnFGZeBsckscnzt7hqw/JNOcJVMXk+3wnQq/Tjh74ejC1qe3/rhgL5J7K+Vxe8pbvfjxtOlx7fONNafWTLDVhnPr2yES5OnSbXNsq6cz/a930n8ddqpb4umpOgnyOKRKgCpjJRKHiXEW9eAHG+JKRU4xv3wvMZU6o9+0lIp0f234rVszEs5mnpLglMoyPAW19p87Y9+91EMnQR5nVMv7nMWrDy8xLCayFvUX5oe4dadmmQ3ubLT1MJu1JSo5uoZWr/lPsXNbddUa9R8exkpgp+L5RE/VMVVxSOUBFUsEjsdE3qI+vPFLXKlWX5j7125OpY5dfKx84AYJ3biGoEqSREGt1H5lbNsio/RTx1nNGRWkoDBVkIUSGbP+XP+zYVybsv3NGr0TVPh1wtkLRxe2Pr31xw17kdi4Kbg9ik2JoNcoEYSViI/U/IevROxUvH3QUYnqUrDqQg6p4NQnkJC2iomqTYl409A/Wor+2fr8XizesXS8YzmmyqJAQSU3DVL0jzOqAHS6QBJ51TCxmk2JeF+jRBBWIqTSDoWvROxUfASjoxLV5cGqCzmkglOfIGJuDUysYVMi3jT0jy9F/1D1cAiqKDAUVHLTIEX/OKPycDaJbkESM0z/IKB/ENA/XqB/vED/eCn0jyjC9hDzuP/LmKDdDLZvXEKOmmYDNEftNKF2XM0P65gz8yxSmQoV4o4taGg+/3qFum953riOi1uY206uVWFfpLeewhC9IMsuoXZgfFLUBvg9qY91LaufOhPgqTx00M6GE8krgQRX25qEi/M+jF21oYtZ6Pp3IXHUQTtJkiBV4JmOmNgxO6x5M15T86aNu3dN69e5qhJ2zVsQVXQJdFRS3+eZ0Teb7owqA0nlfxujMyZ2zg5r3ow0Ku1QSqXdzslzws/5BlHxyFJQyaMNKZV2DqlgWxZJmWhXTOyaHda8ma+pefONyfxSIxePw655C6K6OYmOSur7tMI/PnJKBQuP6Mat7YGJPbLDmjczjUo7lFJpR9XDIagSz1BQyXXnlEo7Z1QJziY3lj6tMLFu9n+3aeA/JTYl3m/P9Big0s4AlXYGqLQzQKWdCSrtTIpKO5mBvSi6GX4Qbsug7DDna7wm56tk3ieQTDMKO+cbROUZiYIayG/rrkkxujMqCySV/1GAIZg4JDvM+RppZJpRUKY5vJq3ICqxxwpNrTrmvC8o0xwuFUgqiXEx/HBMHJ4d5nyN1+R8le3NcpKaNyXsnG8QlWcYCmogv60fY3/UHFLBzi2x+Cg5ChNHZYc5XyONTDMKyjSHV/MWRBVZjoJ6tN8ULSjTHCYVpqAk1s0xvTNm/RnXc4YBMs0GyDQbINNsgEyzQZFpljnYiy6XKEzCbZmUHda8Ga+peUM5fpztv8gYds1bEJWTGDoqqe/Ta7zBIIdUEHCViMaciolTs8OaNyONSjslpdLuIXMyNuya/yCqxDAUVHJ9MqXSzhnVBcL3ksCKwnRMnJ4d1rwZr6l5Q5NKzFDIS+5h17wFUTmRo6OS+j496iSLHFJBCFgiD23NwsRZ2WHNm5FGpR1KqbSj6uEQVCyAKKjJ6LiSUmnnjApTUJLokrkxGbP+xPbob4BKOwNU2hmg0s4AlXYGRaWdzMNeJDZui3BbFtmVyGtq/pWkZh39SiTsmv8gKl7GKaiB+w3KvQL/VV0OqODUJ5OQ9peY+KVdiaRx0wAF3TQIr+YtiCqIHAWV6J+gmwZhUt1Ap8scw0vLMXG5XYm8puYfbdlfndS8KWHX/AdRWZ6noAbuN3iuTy6CHFLBqU92uQTma0z82q5E0rhpgIJuGoRX8xZE5d0CBZXon6CbBmFSYQoKL/cCPzfj9A+4aWCAmwYGuGlggJsGBsVNA0mA7SHmcaQtGVNpp4NKOx1U2hmg0s4AlXYGRaWdDEP0sltwcasD42NV2hlpVNqlzgR4Kg8dtLPjBPzBEdzq7LDSzkij0i5NHHXQzi0xkMpJEhmwgtn+f705+T+DR37d4vJ548jDf+TRv+tFy8SV3/zAIANZ8pYnrmeH7ObqFpNVFNc07qo3v5mz/SQ1dkVP/M+l/f+8atDYuDbFRf//Bk6CdAdShm2UeX5tYGIGehb+npSeLbY3YX1Kb4Z3z9mOE91ujuDWWgOZL3l23Ple9c1TymchcdQDKcsCpIoydxgTD1vULz5i1L9nXjAeGNb0mdg7q76027XKX7ZrjToOqqsb9TYoHw16FcbZ3E6VJImOiua+Xw9t6r1Ac0hN6WFRFl2ci+GPYeIxEPMdH6+aG48aX7ywehi9PUTvffpdbeyrHkoBoUQsiYuGZZgdROUZhoJKxpREX+/cq6c7oXIMwwEqecn3BCaesKiFHtVQb/TeZ7xzbFIq9fM6FfS/DlzxXFbiUYnCxfQZYy8p2oMS1No4mOoSJDoqelhcQr3bM5pDqhtQsahjTmPiaYu6bUIztdP/7TJa15lgxfLPjtHzXV6edO3Ne5WpejgEVXILFNR57R8q8Yf+Vv7TJV53QmVlCc4mtyDw32Pizn+5++M/JYFUcQbZxM3c/566quUzo+GhxerM/aXUIed+M36Pma/CrxPOXji6sPWvX2Q5hoW9KLo55jJuy2WrF+s/jlVr1j5sdGNXpvbiKDaTnmdQO/0b5p8ktnpLvX6BvxT5u/4K/ddhp/IcT0Gts++kMiFxqTKveRvkkCoBqiTx0lVMvGpR2ReiOnftTmNqxFrrcbB3+urHfhqrRZSYqm3/ZLPn+JKc6K0+TXSnVLyNUVAbzCuqeNY3QOdq5kLOqKnPlGIqTx6xu4GJNyzqRwOrqllarTUmz7TOAXWzl9O3uZFe9L03PDdKs3pys2LoiHerQv9N2qk8K1BQP96RF83vVkWJbVMHOaTygMpixXcbE29b1DKxDdV1KxYad7dZBXAvio7Wd2xu4TsrvUU3riGoIidRULPX+UHZNEpBlTJFI2dURoJUt0s4mzHrT5ZxJVX3X78aP+RfrsKvE85eOLqw9emtPy7Yiy6XzD3CbXlk9eKb48qrg3PkMBc9WGMVftVL1mrGTKt8p0Uv/Y2CXfSsL8ZpaKsRxkpgp3KyQEdV2Hl43flwp+KQKgIqL3LMn5j4p0UdNohXmwzLZ3L9Ntjeeen15kjlZZ7dWq6LrtRhckqVWIGCOvKXmZ5XR3LqH+9ogpxRU58pJVRyC/cpJj61qJseKeofUmFzYX+rlqHioNx6+9M1fQdqN9bX8Kr+2ek92uXK9AXFwVR8LKKjouGJNfSsNSYpDqkuQCUZzBeY+MKifnmmtjrHXczcdGVbKpVcASpb+L7n8liGblxDUAWGoaCOEJcpy0tG6MvO1kLOqBycTSRveidj1p/hnhLq6nxZzeRsX6nw64SzF44ubH16648b9iJ5GShrRKZM5AcokaMb85nFxnwOlYj23c3uaGFMbh9RIvO+P6Ttzb9Do/867FRWkCioWHWhvfO3ah+0ra07pAoW1c24ZS4CEyMibEqk16iiprfTbJv+qd9jozK/WISCdywf3rF0vGMhp1RBkiioRP9Mn9tEbzAmSndIBTrdTW7hRmNidIRNidyoUtYs/d0MqER0xayPat1/6iNKpEamXPr0Nbc0+q/DTmUFhoKKVRf6pfZYrXoDXndGFcCpz00ymDkxMWeETYncv8iaRYdMs+mfji8LKJvO99hD1cMhqHg7o6AS/bO5ck39k/zPNGdUHs4mkjd9mXH654NskebdFwtU+HXC2QtHF7Y+vSCXCNtDLq+StnyT/d9FX1/THmLQQoxaiEnLiAa694M8mUym4VK1eJ5L3svuFwY7aolaI+Efb9UeT40FAxerJU/lVLskPzGaieT8afVFeuup4IbtEXgpd8R/xycwK+DvSZkVcCbAU3nIoF0QTsAfHMHltibhvqRS6gfvPzfqvb0kJI42aMcxkgipeCEtjYmlLSqx4yW2vNAwO/PXE7VhNz7W+2b73kfMsolpdjiG2cFUvJBSUIdf+Ev7pvA76NeVpZAzqgwkFYmyMOUwsZxFJXbDxHYYGmYTi25i1U1susnNY+KoFY5hZDBVcAsUVGIARKy6iU23QyrYlgXyiF0sJsZaVGKnTGyVoWH25e+PaAeWddLPJffTiFk2Mc0OxzA7mMpLDAV1yY5E7cmpzGjqn7WQQypYePx3XxhMZCwqsYsmttHQMJtYdBOrbmLTTdXDIaiizFFQiUU3seomNt3OqBJjayvDvI+JeSP+3aZBvKbIlCN+U2CRJXZmxNaMWJoRi25i1U1suuHXCWcvHF3Y+nQWWZaBvUgSn5VwWypZvUjs6IgtHTSMzLYqBl0YP087s7imTswiiWlkOIaRwVSXwFBQh07WfFGfFtTbDa+DHFKBpBLIg1keTPRYVGK3R2z3oGEksagkVpXEppKYKhNz5XAMs4OpksRQUIlFJbGqJDaVzqgskFQCecTOi4lei0rsBImtIDSM/Pxrn/L8zj5iGKkTs0hiGhmOYWQw1eXmKKi9c27yjDj2hp5rehvkkAp2bv/dl6qYWNWiErtEYpsIDSOJRSWxqiQ2lVQ9HIIqCDwFlVhUEqtKYlPpiMrAFJSAj82cK2PWH2JRSawqiU0l/Drh7IWjC1uf3vrDwV4k93zq4bbUs3qR2PESW15omL020avdGSyhQ+fL+c2yiWl2OIbZwVTOxVFQu/Xsi+Tm32n7fDc9Dqkg4CqSB7MaYmJDi0rshontMDTM9lt051rkITbdcJicUvFZkoJKLLqJVTex6XZGdYHwvUj+iCaY2MSiEjtlYqsMDbO/PdZUyy69her3qOc3yyam2eEYZgdTOY6noK4bOAhd2enR7i4crTikghAweXObaY6JzS0qsYsmttHQMJtYdBOrbmLTTdXDIahul0BBJRbdxKqb2HQ7o8IUlOjCja2eMesPsegmVt3Epht+nXD2wtGFrU9v/eFhL7o5humI29IRKJEnkeoUzwqjfVkttRc3rRijR+Ws51lza2XlF5sTkq7FG0ni5TFhrAR2KsvwFNRFR6LQgj+ao493vkpySAWnPlFwc1LnCGJka/koFS+gdlg/x9hx06LuLS7rf680tfsP8/q9bYnHbTiG2cFUgeMpqPzYBshT9oQy4vppzRnVDXS6KDEM0xUTu1rUq9lKqfHNJhhllhip1BK3R+gXH3f33NtZRZtSt4ZyovIWT8dCI8JYCYKoskBBzfF2NiQLzdBJRVQcUsGpT5RdLNcDE3uA3ayfS115racR57VuHGuT8+qlK32pnX67Ct24hqDyjERB7ZmnI6q77rqSK6uiOaPCFBQ+87FCq4xZf34c+sRb6FSi8fAjTYVfJ5y9cHRh69MNcoH24AkjCqQtGRC0IxbdxKqb2HQTi25i1U1suolFN7HqJjbdxKKbWHUTm27YF+mtpzBEL7Fuie8dGJ+U0jfwe1JmBZwJ8FQeOmhnx5GYAMH1tnDEoptYdUOb7tfhqIN2lk23n8pJ0nhMHG9Rdx/M5C3eSTDPzbXCZ95IBS15q6w2z1NKn3oui57Q409l0B13GMu3neqSeDqqfvtJWf2TzTs9zqgSkFQSjw+SEzFxokW9s+NLVON6vFl2XbLtno+5+030+Q/VdOPkvPBzvkFUfJCkoLrHj9bHd1ruc9e963FIBduyJDASMwUTp4Dlu+eb6LJYxUxqaYXPBuwvgrJ+9bnvwWe19MdvuvVcgw4qXfKEET4LorKiQEfVE39Q9Q0zeygOqXDhIXdfpmHiNIt6YUqy70C1WmbCXCt8RmwNl+3NgXKWb0w3riGovCRRUO+26aPHj2uuFc68XHFGFeFsEjlZGImJff/lpoH/lNR4P1hk33lvoPdc8Tjz8Me6OnON6B1ygDU7ldmrwq8Tzl44urD16S2yMuxFcuNmPm7LfKsXd+QY4F14r5655Z71nMrt7JnR7/XboinfFvRsHz2wctTanJ63fgpHPtqpjFugoMq/vFDGHG2vZzqalOSIyjFAUskkpL0QExda1P2t+nuTL7YzI1ZY8rHD8ImVfYmNUNzRPP5X7hveKFq5WM4+SU6pblGgoA66y+35PXN3PUuXs5pDKpBUMiu7uSWYuARsntP7ebN/2sdcU8uSj1P3ZUaNF7ZAxjVGG/FV9coN/2qqFe8Uhny0U8ntIgrq0y7PlVv5W+tfb0WKQyrYuf13X5Zh4jKLunNtX+/CVaNM/rq1c0+9NaPyo3ulUb8KKt24hqC6BIaCOn/Q5T2+WiP19v2rao6oLExBYX0uSDMzZv1RVg/wVn/oMRu4NRV+nXD2wtGFrU9n/eFY2Ivkns863JZ1Vi+2XrfJ2+W+YP703FIigx/IeruVseihdN1HnnZ8+u5DZfRLNoyVwEblZU6io6L9HxZSOiWWRw6pIOAqk5D2ekxcb1EPlk/2fptY2WQUK3xW7d2NWrmJ2ZCrXw0908L74df8B1F5XqKgti0yCp27eMA3omdexRmVA+F7ojH5RExMBF/Hy0vew3JV835+K3zWxZVfF5OrIb7TSP/dO6PKPoXXcoWxEtipeAWio6JhZYd6fnpVDzmkghCwLLMu4TtM/A4okSP/5z0+pLY59WMrfJY17xnf+PY5UYU8TejGNQSVc3EU1Hcv9UAlb3XXhq/eoDijwhSUjDdR5quMWX+e/DTfeycnZxZov1eFXyecvXB0YevTW39cVi9KDCPJwh7clj12JXKvU1Hz6fIjUIloty59p7XuUFcnSqTTuR7IYI/Tpw+DqQxDQcWqS899abtSfH1N5JAqASoJaWuYqNmVSOlthczG1U/b9M/ual2VL7oPJ/skwjtWEt6xKjulujiGgkr0z+VK8ajUgjjkjMqzgOoSZMHERNOuRFbdy29mLX0RKhHtYczb2vRybXWiREYVGIXO7GLp04dBVLwAUVCx6tI/iC6qNB3SEjmk8oDqxvNpPybutyuRl+/kN98occOmf9p1va0czNWFblxDUFmGp6AS/bO6XzS6urE5ckbl4GziZZbbmnH6p/CNkma5RgdU+HXC2QtHF7Y+3SAXbI8giFzfjAnalWgx1zu2S7S5YOtqtV3rSd4Km/KaJ8+vVz0lRnnnNy1i/lxls5qt8iCvxpQ0K57aqcK+SG89BSF6iRE5ifkhMD6BWQF/T+peCGYCPJWHDtpZOImTJJIRILgfLNy7swZ4by3hzMUH9obEUQftOMs4iFAlVriIiRftNW/zJ3Qy50ydBWvelKNJjdGGcYsUUvN24W4udD3LqzCWbzsVT30KauavJyqvbtzQftvXWndGtYyDMFUSJf4KJl6x17w1rNnPfHfPZ7ZKu6Od+6AXBfs6y/kGUSWJoaASytk7t7UyV+rrDqluiyozAiNdw8Rr9pq3EVdGmZ9MnARr3pRPq/ZGixcJCql5O1RFUyJfhXFRNYgqMjwF9fL3R5Rtw2P0Ed/E6w6pEqCyWCrfxMSb9pq3QtMnmvufjrdV2nX7qysyxrzpcZTztVM5hhUoqKTSblrMf/RtQyo7y29zAgfbig8jZzAx+d9nelLj/UGZnqGuuuYXqxf7K+3e3NfcHH9pngq/Tjh74ejC1qe3yEqwF12CxDzEbXloz/kOe1TfHNP5c5jz1adVmqs8r1MbkZzv8tH9UIHZW8NYCexUt8RTUDetGIP2Hy7gGdi7qMcZ1XqmFFOJuHmMiY/tOd+qMU3MQ7Vm2zLN5frHomtdIxVSG1Wi6WrNrNJUd0rF4oaCSjLN0XH9lGujI3WHVB5QBV5i/sLEv+w538w3WpqzF8+AOV+d/+4PZeQkHpGc74oxHVDje9fDkI92qlsUKKglbo9A7+9+T4u9+o/HIRXs3P786zNMfGbP+Xbr2tHM0XGaLdP8UGiEureatZuqh0NQ8cZCQSWZ5n9+XhJfe9ETzRlVgrNJxIeR3zJm/SGZ5lpr65pnLyxQ4dcJZy8cXdj6dNYfFwN7UXa7uSyRmTKRH1DzdqFTQ/ObY2tgzZs+pOSxpJERuzVS8xY/tTvaeXsv/UXVICrvFiioaxO9SvWvNmuNsvdCzqjWM6Uc8RORmGyYmC3SVvN2umgzc0rDDbZKO6YEh/JJuzRHNf9BVDxnKKik0m5603ilVa+myCHVBaicy81FYmJkpK3mbdBnbcx3Gn8Ha970Hm+VUKIHT9ZIzduZnPho92EM/e4cROV5iYL67bGmyjdHIvQCvkbIIVUAVGL0HoOJMZG2mjfxs85mJXObrdKu8/HG6NpPsZqjmv8gqigwFFRSaTf8WKxvaIPayBmVgbPJ5RakvzNm/SGVdos+qmeOur5ChV8nnL1wdGHr01t/ONiLbp7j38E9+E6kreb/yePO5p4/v4Y1/552pbKgD2e19t80GPo0Ep37LYyHOoKoLk6ioGZbFaP3O95MzzkvubJDqgyogujmCmJiwUhbzf+1NgPM8+Ya202Dk/kHoimXJvlro/COpeAdCzmlSrxEQSU3Der2fkPPF/kWcka1ninFVAmf7otgYpFIW83/nYljzDc938Kaf9/++4VQocW1/TcN3B+uV2p/t4X+oY4gqotjKKiff+3Tzizso/f5rJDPIdUNqMTovSgmFo201fxnfm+y+ahVgu2mwflZ3ZH382i6cQ1BFVwcBZXcNHAVq6h3XR2JnFFZOJtknmfeisyQ9YfcNGgyroVZ6tYyFX6dcPbC0YWtTzfIBdrDshzDJGdcpd171fOYM2ss9VfatSlSzGzda4m/0q7hhYpm/taL/ZV2O2or5s/5F6uwL9JbT63HI0l7JEYqHhgfUGmX8ntg6VvKTICn8tBBOzuOZAQIrnikrdLubOkm5tC7oXH0b9oJLKTyAk8GLAMfJ2zUfzjae/a08fzrGWrmTH+iiU8uGIm3ZqnqJJdXyH/dGPP7XNU9v7v3RIH7xoPlC9SKA6Z7y595Zpx5tliFkyC9geTBRs+68MwsEfnfiRnoWfh7UnoW9mZ495yDcCInEVwJayCHzNrgrXM9mzmy/dchcdTRV5fl50OosiDVwsRaFrXOhIiNXX7O7T2Tx7Q58G5d3kg/2Ga2Mnvr6gqXN63RyFOf9HuTjcozAk9PRZiqOaNKsIdJQV9dTKxrUd89/PbGdgMaeiN7WOH05JdjYwcMG6SPEJcRBzo0dFXf2JY//VjBKZUTOQrq1Ea/bAj4OesOqeAcwBLv3waY2MCini1cYuP4glO8n23XbD186UJb/cd5iz1T2z0tT27RL8s2JgxtbKdyPENPRZjqc0gFWpIl+3BjTGxsUS/FuzZ+mm+dN8tLi2osGBObWLCV3w+YqodDUPH3SkE9Pec/CecjOqF57R9qzqginE1E6VTBRHfkv/cTw39KAv5TNoDd8p+F1xI7D7ikdKr4g1rm9tPEiHXfosUJ+1T4dcLZC0cXtj69RVYGvcjhBYhri9vSNtLmrOxutwDlenHI5iyY7UJ5fXbDw35n5ac7yujlV0SEsRLYqZws0FH1Ii/Le552j0UOqUDpkKwM0wETO0TanJXjnpxCZUsds/k5S0myfrDbO3rs/WIJJQoXQ1GPqzumEivr0FTi5/zn86eeg8uSPY6oPAPOARzPylwnTOwUaXNW/r5KTm+N70/YnAVvja6rv/q88x7irLzBFaUnn7xMHwcNonKSREfVY6bFKsvO1EAOqeAcwJEXXj7CxI8ibc7KS164vYsOnrH5OXcf+oG+61ZRunENQRUYhoJK/Jw3Dlui3Dk0UnFEdUlwNrl5RmqWMesP8XPOV68qytswWYVfJ5y9cHRh69NZf3gW9qLICXw/3JZ+Vi8qbxxMLLd7tqfWtTM2B96Opc56DsW01ePfPBc7Lv8nOvGnpP867FRWkOipPkxFDqngqMBJbpkbiIkDLerNIt8HqJes3Oi9HLFkh/55Szu/72/bExsT/v6sSAWnVEGSKKjntjdKoSJnVA4cUFwMVpgfY+LHFrXy0u8Tu5b5QMl66mZaPawLyRdTethD/03aqazA0FPJbEIOqTyg4qODMAwTh1nUFmMP+b+jil/cT6Xue69lbPHTrE5WPKoeDkHlRY6Cun1attgW78/Q0NtDkDMqI0EqJzHdM2b9WSie8o/cjEdHVfh1wtkLRxe2Pr31xwV7EQ+eMB63ZbxNiaDXKBEfViJEv6KwlUgQleEZOipRXQirLp9DKjj1uXhe4Cdi4kSbEvGmoX+0FP1zXPs2ljxfjncs5JSKN0oKKvFzTtE/zqjwNO9yyy5hCiZOsSkR72uUiIaVCPkuUfhKxEYVGBdHRyWqC2HVFe+QCk59LpHjpWmYOM2mRLxp6B9fiv6h6uEQVDyfKKjEzzlF/zijcnA2iaybG5lh+gcB/YOA/vEC/eMF+sdLoX9cbtgeSWY50pZSkf/aGiat9mxeHJE48fFYo+CU7WrHP2sk5spX1bicc6faqdKniX+4sxm+ybvVdnNWJWbpuVCv+ptPdX+6P3HT4I3a1FJ7VdgX6a2nPDjZuWQ3x8wMjE9gVsDfk1oMXnd2hZSZAE/loYN2NhzP4A+O4GZauI7/eZwobG6Mjm1JDomjDtrxggSpeCFdhYmrIm3OyvM/7muUOfmDzc/5/J7/0yqd6KsQZ+X8N6K1s+eGhbF826l4IaWj6jVXvamvX2r4nFFFIKmw5nBxazFxbaTNWXlVvn7Gxg9+sPk5574x3PdG1Uta0VxfJrjHj0YfTcipOaW6OYmCSoKv5J7zsr05dIdUsC3z5E73t5j4baTNWbn+0r7GyY0/2Pycx7bPpCe1P1iZOCt/1CinVq3s6DAOknaqy83RUfVeNZ5rhfr97nFIBQsP73YLUgImJkTanJVb5+5jvHor2ebnXFLY4dv/uDhdD4egCgJPQSV+zvLTKr5/uidozqgwW8K7sVReiomz/+Wmgf+UWHK1nlz+DvITu/xGT+PMj4f8fs5j9vY2ijVPVuHXCWcvHF3Y+vQWWQn2oujipB24LTsibc6CEz75xtiunrT5ObMdK6H6gw/4iLPggX5F9Jyto8JYCexUzsVRUImfc3Le4nrmLR8gZ1QZSCqePFO6GxN3R9qcBdk8hrFm/882P8ML0ROVdRdkvwNvfOe9vuHXKzimim6Ogkr8DDc3GKK/6DRWcUgFksrN4NOVDxN9kTZnwbW+k8aibb/Y/Jyv986Hnj6u5XdW/urjmvqdJkfD+DrsVI7jKajEz/m596k29MMOyCEV7NxuFitnAxONSJuz4En3dWPzG1dtfobxEV9VbtCuMt24hqC6XQIFlfgZ7qzQQf9sxAnFGRWmoNwslsqbMmb9IX6G+1vONjIpx1T4dcLZC0cXtj6d9cfNwF50cQxzELflYKTNWTmuZCuD+/G8zc95z01TOX3lI504K3f+LK8vWZ5AvzsHUVmGp6MqZ2cWQX+jKsghFQRc3TxWIkcw8UikzVm5bJOGxuQVV23vvBwv/qY2N6aX3n/XxdRhckoVOJ6CSvycly6+4hm1vwZyRmVB+J5EtJnjmHg80uasXLdXDaPW9N9tfs4/H9WVtk36+O/eVY8ruqfMvBn0rwAEU2WBjlr54OJ30YTNtZBDKggBu0UXy53ExJORNmflz2cpBurzyObn3OGLmz4zfz26cQ1B5RmJgkr8nD1sZmXoF92QIyoPU1BukWOFfRmz/hA/5836h0Z8sZMq/Drh7IWjC1uf3vrDwV6UGZG7iNty0a5ERsf/pq9sdczm52zUbqz72uX2+zlvGXlF2ViEod+d7VRS+k5BJX7OrV7K6KL7F59DqnXqc7vJQ4xXMPGKXYlsyDFan1XshE3/3Gh1U+vV+H2/nzPesTx4x0KOqbJAQSX6Z/uQT9DVx98nOaO6WEAl90evYeI1uxLZc6q79umk0zY/52fXeL3HBN7v51ywSgn0sFch+t05iCoKEgWV+DnP+QLvKxcfV3ZI5QFVlCX+JibetCuR75vdVKaPPGfTPwezd9bciS66cU2fKjESQ0El+mfC1EHo8IL3FGdUFs4mclHlTMbpn2+Oxxpt5CMq/Drh7IWjC1ufbpALtofcbZqdMUE7Um6VmGmM0aHILr+fc8GCI41e85P8fs5uNMT4+4bh93P+dGJ/Y/E/36uwL9JbT0GIHm/A+Oe3wPgAP+eU3wMNllNmAjyVhw7aBeHwB0dwv0Xa/JxzGF2NwYlHQ+Kog3Zuy3yY86sM5hUmvrKog4r/GLdqU2Fz+OdHbblBEuB5uFr2nK77Vmyl9s09FdeE8UyXncoyboGeqmOqzxkV3BHF/yxzUuaoTJnIT4DKd38R982a8mbz4tZWlfDZFyklu/6MZM1KxxNGnFmwwSHVxXA8BdWz8VAsMeCrOPCK5pAKtmVRYlkuKyZmtag7Wr9TsXubeLPIN8dtPUwCsoWEstrl6oNi+3Wuqt2pMzKM5dtO5RiJnqpjquKQCkLAIgnHRmBihEX9e01sxQdza5vPi1khmLVL2yeUrFveX2hM1cMhqFiDUFAnfHoylhjwHbnZVHNGdXOQ6uKkp/irufPvMz0I/ymx+E+pABbZmuM8cX/dfmLU7nRcPb328zh1e7S57uVRFX6dcPbC0YWtT2+RBbfFZYnleCkP7sE8Ubacb8vNb5q1V5yxZZovVa6AMs3a7s/5Foh5psw9E8YzXUFU1s3RUVHTX95WflxbFjmjgjuiMl4MROFtTHw7ypbzPTcsysxhnLdlml1vR6JaB6rqN9+5F/t4SyP99uk8jqlYPlJQSab5wt4dvnxSFsUhFYTvJZ7hpQKYWCDKlvM9mye3eXrIZVumuVKTaqjbr100kvOtlemw8saGMN7WD6KyPE9HRVOjm3uq5KyLHFJBCFhyuwSmMCYWjrLlfIt3K2Cu2nzdlmne4cuNDv+nId24hqDyboGCSjLNFT/5SHtxeaXijApTUJKbE/joqAxZf0imec+3r4yapU+q8OuEsxeOLmx9euuPDHtRZDmmJG5PSasXH+wcsSF/9wtGoYRLttrw6d4ELXu+unqOrdkSSa/+luPHMMJndirWBPRUBVORI6oA74hKEtbrZTCxjEXdaO5NyLPghLG/nVUH1rBI3goddw9V6n00zF+RvutqTNzbPbhYp1Q3z1NQszd9M5F8i8VPs8ghFYTvJVnmmPKYWN6iLh32n8RZ844YM6rdt/Vwjd1R2tvPWuvdlhVKJKtgG+Z9+vC9jSozDCvQUxVMRQ6pIATsv20Vh4lxFnXlX00Tvxly2Khf9a9U6uR8ZzbMa/9QOR/RiW5cQ1CxEqGgdn5yJYHsnYkFWyFHVDdMQcks6xLey5j15/ilFbF/3b5l/NbgZxV+nXD2wtGFrU9n/RHgbXGZ/FfC7ZFsSkR/jRLRsBLx3xQJW4kEUSVZoKMS1aVj1eVxSAUBV5l3cUw8JsbblIiRhv5RUvRPw37/ScQ7FsI7FnJK5VmBgkpuGqToH2dUDuh02S3KnIKJik2JGK9RIj6sRPwVsGErkSCqJEl0VKK6dKy6FIdUcOqTRZbhVUxUbUrESEP/eFL0D1UPh6ByDENBJTcNUvSPMypMQckiw0hshukfHegfHegfA+gfA+gfg0b/uGB7JFGQ7mRM0G7xF40S1gxZalwqu1v95MXuCkVf7jAKrNTU2mW2xG4tcdzYenWfOis+d5w884bx7alkFfZFeuspCNHLsuwShWqB8QnMCvh7UmZFlMtISJkJ8FQeOmgXhMMfHMFVsyZhiVVN4spNy2QW+uZkSBx10E5INQ6SXAxDHpdtjYmto2DNm/c1NW9o/VLDQ0IsYde8BVFZUaCjkvo+pdKJvppDqgtQyXvz7TCxXRSsefOmUWmnp1Tanfv5z/BzvkFUfJCkoJIwYUqlnUNq6rbMuoi2YTpiYscoWPOmvqbmTSnU73cfCYmGXfMWRMUHSToqqe9DSe0PJjmkyoBKrh12xsTOUbDmTU2j0k5PqbSj6uEQVIkVKKibZ/VHKZV2zqhWUTihChzfBBOrR/27TQP/Kanxfnumxwsq7byg0s4LKu28oNJOBZV2KkWlnSDAXiSSqg9uS58omPP1vibnq190/+K59lY+PeycbxAVy0cKaiC/jXztciNnVOuZUkx1izzfHxP7R8GcrzeNTLMelGkOr+YtiCrxDAW16pjznqBMc7hUN6CSiohBmDgoCuZ8va/J+ep/X3ycVGz2Iy3snG8QFX8gFNRAfhv1mMAjh1QJUCU3Jw3BxCFRMOfrTSPTrAdlmsOreQui4pWAgnq03xQlKNMcJlWAs0nCn07XjFl/xvWc4QWZZi/INHtBptkLMs1eikyzIIFe5BhOksbitoyNgjVv3tfUvOl/oyqk0k4Pu+YtiMrKHB2V1Pdpp698hJxRrWdKMZXFJ/cJmDghCta8edOotNNSKu2mGIUTw675D6KKLEdBfbnkXT2l0s4hlQdUFyNJkzBxUhSsefO+puZNn7C5lt/lJ+yatyAq/j7oqKS+T2vbpA9ySBUBlecZZiomTo2CNW/eNCrt9JRKO6oeDkWVBQpqMjqupVTaOaNKcDbxLoYfnjHrT2yP/l5QaecFlXZeUGnnBZV2XopKO5GBvYg/SeZz3JbP7UrkNTX/KPOWD0ilnR52zX8QlRF4CmrgfoNef/ABjzOq9UwpphIPvgWYuMCuRNK4aaAH3TQIr+YtiIoFEAWV6J+gmwbhUoFOJ1FRZhEmLrIrkdfU/CtDP+xAKu20sGv+7VTilEdBDdxv0J8+rqU4pIJTn4vBB7AvMfFLuxJJ46aBHnTTILyatyCqS5AoqET/BN00CJPKMJDKisL0jNM/4KaBF9w08IKbBl5w08BLcdNAcMH2sLJLIG3JmEo7BCrtEKi084JKOy+otPNSVNqJLDjZuTg3zy8PjI9VaedNo9IudSbAU3nooJ0d58IfHMEtj4KVdt40Ku3SxNG/acdzkMoxDBmwDHycsCjaFNvq1R7j/Ms56oh/MscKzDfGzqEL1UI55mxYs2GR8XDIcrVU1jEJlzfOMI7/uka9e/VowlfdJhrZv0xU4SRIbyA5FrZRcgtfBSZmoGfh70np2Ykt26f2Znj3nO048nQDwX1lDWSjigUTHw4cbRT7ZHdIHPVAim4JUkWGP4CJByzqFx8x5t8zLxgPDMukZWLvrGju+/X0Tb0XKB0H1UVGvQ3KR4PCMGkJokoMQ0fVl3a7lvRlu9a6M6oAe5gY0iRjYjKI+Y6PN82NR40vXlgmLeQZld6n39XGvuqhHLi6PnxnZTuVJFkoqB13D9U23YxCd+7V0x1SwTnARQxpDmPiYYta6FEN80bvfcY7xyyTls/rVEAPi0t67/aMQp6tmjH2kqI9CMOkJYgqiwIdVf/rwBXfZSVed0gFWpIn+/AxTDxmUbdNaGZ2+r9dRus6E6xY/tkxKN/l5UnX3rxXmaqHQ1Dx90pBJY8Sxh/6W/lPl3jdGdXNQipeNXRM3Pwvd3/8p6TlJzZz/3vmqpbPjIaHFqsz95cyh5z7zfg9Zr4Kv044e+Howtant8iKsBc5lpPO4bacs3qx/uNY8+jGfGaxMZZJyyg2E9o7f6vyQdvaiK3eEs37/pC2N/+OMFYCO5VxcRTUOvtOat/d7K4vjMntcUaVgNLhyTs5v2DiLxaVfSGavUYVNb2dLJOW+u/0RfV7bFTmF4tQyLOdx5fkRG/1aaI7pbrdHAW1wbyi2vS5TfQGY6J0h1RwDuCJY+1lTLxsUT8aWNW8UaWsWfo7y6SlbvZy6JfaY5XqDXh0ozSLamTKpU9fcyuMc4CNStx5Kagf78irK2Z9vdb9px6HVHAOIBc5mauYeNWiloltaN6/yJpFh1gmLS+KjkYdXxZQNp3vsYeqh0NQ8YZGQc1e5wdtc+Wa+if5n2nOqCKcTQLL8ycyZv3JMq6k+UG2SPPuiwUq/Drh7IWjC1uf3vojw17EQoS5i9ty1+rFN8eVNwfnyGEuemAZB1Sql6yw81qi+h/u1N4o2AVlfTFOQ1sN+tyonUq83emoWs2YaUl3WvRCDqngqMCTcvsHmPjAog4bxJtNhuUzuX4bbO+89HpzpPIyz25t9rYt4TsrB1F5jqegjvxlpu/VkZz6xzuaIEdUiQEHFDdxrH2EiY8s6qZHivmHVNhc2N8yaak4KDcanlgDZa0xSVvDq+iz03u0y5Wj6XfnYKos0FH19qdreg7UbowcUkHOyc2xLPcnJv5pUb88U9uc4y5mbrpimbRc7TYClS1833N5LEM3riGoHCNRUMkT38tLRujLztZCjqiiJEMqwwo3Mmb9Ge4pYa7Ol9VMzvaVCr9OOHvh6MLWp7P+SCzsRZckcq9wW17ZlUjN2oeNbuxKqESUCYlLtXnN2+hEidQv8JcifxeGSUsQVRQFCipWXXqeQe3QN8w/lR1SwanPf885c3SmTOQHKJG5a3caUyPW2vTPsZ/GahElppIdy4N3LB3vWMgxVRYoqET/eNY3QOdq5kLOqPA077/nnBUTs0bblEiWVmuNyTO/hUoEze9WRYttU0cnSiS5WTF0xLuVvjYjiCoKEgUVqy59mxuhou+94XNIBac+/z3nCEyMiLYpkXUrFhp3tyXY9M+OzS18Z6W36MY1fSq550xBJfpn0ygFVcoUjZxRGTibyD3npxmnf9x//Wr8kH+5Cr9OOHvh6MLWp6d/XLA95J4zacvKqH8XfX1Ne7ae/8pIcfMY0UA3PsiTyWQaLlWL57lkXHa/MNhRS9QaCf8YVXs8NRYMXKyWPJXT7JL8xGgmkvOn1RfpraccONn57zlHR/93fAKzAv6e1CdzwUyAp/LQQbsgHP7gCC7amoT7kkqZH7z/3Kj39pKQOOqgncSDTVAgfj7FMLFYNHRWNl7jrKz8tq81+rhUGRS2s3IwVRYoqAEXaX3DuEWaM6obSCrBxQpSCUwsEQ2dlY00/JyVID/n8JwFg6icwFNQCSXIzzlcKtiWBV6WudKYWDoaOisbr3FWRiO+iUcxucqjsJ2V7VSsWiUKasBFWl+8SNAcUsHCIwguhi+HieWiobOykYafsxLk5xyes2AQlWcYCmq1Vj2VID/nMKkwWyIIWCoXwsQc0f9f/MT8xkR2PzED+DkbwM/ZAH7OBvBzNoCfs0Hh5ywJsBclRuB53BY+GjoLGq9xFkQ55yUnfZ2zAQrbWdBOxUdoiYIacFHUP5zVGjmjikBSCbJL5kRMFKOhs6CRhp+hEuRnGJ6zchCVlyQKao76ZVCQn2G4VCCpREYS+EqYWCkaOgsar3EWRH0+K+QZd6UDCttZMIgqCwwFNeCiqBdaXBs5pIKdW+RYUfBgoicaOgsaafgZKkF+huE5KwdROZGjoC5p8bcS5GcYJhWmoES8/DCxGbP+XGx72AB+hgbwMzSAn6EB/AwNCj9DSYK96JJdQg3clhrR0FnZfI2zstIoey89XwtWCdtZOYgq8QwFNeAiXXlkxG7FGVUGAVeR3FGvjYm1o6GzspmGnzMK8nOG5oNhU7G0paD+9SKbHuTnHC4VhO9FQXQJ9TCxXjR0VjZf46yMCvga6aeaosphOysHUSUXR0ENuEhr0YMnKw6pIAQsSgwvNcTEhtHQWdlMw88ZBfk5p9/DIagsz1NQ740qogf5OYdJhSkokTwv482Y9WdwqQcG8HM2gZ+zCfycTeDnbFL4OcsM7EVZYqTWuC2tgRJ5EmmmeNen9OKmFWPQ/sMFfAN7F/W92JxQefnofqjA7K30J6EgqshyFNRFR6L0aZXmas/r1NYdUsGpTyL3uNphYjuLOr54AbNqTBPzUC0rfbi3uIzK9Y9F17pGKnjH0sJ2Vg6ici6OgsqPbaBHx/VTro2O1J1RWaDTJU5gpI6Y2NGiXs1Wysx8o6U5e7GVPixxewR6f/d7SuzVf3xT6tbQVozpgBrfu06fPgyiigxPQc3xdjad/+4PbeQkXndIBac+CctapjMmdga7WT+X2a1rRzNHRyt9qE3Oix4KjVD3VrN2U/Vw+lSeYQUKas88HfV/fl4SX3vRE80RVYIpKAn3Md8kY9afH4c+MWqtrWuevbBAhV8nnL1wdGHr0w1ywfa43RJP2pIBQbsGJ9cZwM/ZAH7OBvBzNoCfs0Hh5yzDED0WqzLXNTA+lp+zkYafsxZksOw/lYcO2gXh8AdHcF2joZ+zkYafc5o46qCdzDOQinfiUZg4yqLuPpjJKN5JMM/N/T6V6o1U9NtPyqJPNu/0TT2XBSX0+FMZdMdNf6QLosoyR0dFS94qq8zzlEIOqUBSSRI+SI7BxDEW9c6OL/Ua1+PNsuuSbfd8zN1vos9/qKYbi++Hn/MNouKDJAWVFD2Te87uunc9DqlgW8Z7tCSNx8TxYPnu+aZ+WaxiJrW0CnAH7C+iJ/6gog0ze2iP33SjXIMOKl3yvEN/pAuiihJPR0VZv/rc8+CzWsghFSw8eMtgmImYONGiXpiS7DlQrZaZMNe6tUFKypftzYFylm9MN66hqLJAQb3bpg+KH9dcK5x5ueKM6gKzSWZlhv8YE7v/y00D/ymp8X6wyL7z3kDjXPE48/DHujpzjWgMOcCancrsVeHXCWcvHF3Y+vQWWXhbnLwlwczCbZll9eKOHAOMe52Kmk+XH7F8lLJn1nNf2q4VX19T3z56YFKncz2QwR4PQz7aqYLAU1DlX15oty59p7TuUBc5o8I7ojIJac/FxLkWdX+r/kbpbYXMxtWtW7gdhk9M2l2tq/JF9+H+V+4b3ihauVjOPklOqazEU1AH3eXiL1eKR6UWxCGHVCCp8L8IzHxMnA82z+n9jFX38ptZS1+0zM/3ZdY/iC6qNR3SUh/xVfWkUQVGoTO72DDko52KsRTUp12eaw9j3laml2uLHFLBzi2LksgtxMSFFnXn2r7Gy3fym2+UuGG19daMpHZdbysHc3WhG9cQVPyvFNT5gy7Hr+4Xja5ubI6cUWEKShZFUZiSMeuPsnqAUfhGSbNcowMq/Drh7IWjC1uf3voDb4vLxEL+a9yWr61ebL1uk9HlvmD+9NxSIoMfyGj/h4W0Tonl9aF9ovWn7z5URr8M45muIKrbJdBR9XYrY/WH0nWPMyq4I8ozJKS9GhNXW9SD5ZONbxMrm4xy0EozvbtRKTcxG3L1q6GPqVgiMeyafzuVPERNQW1bZJR+7uIB34ieeRWHVB5QiXvcOkxcB76Ol5eMw3JV835+6yWLLq78aFjZob6fXtXz370zquxTeC1XGLuznermJDqqLiZX0/lOIxWHVBFQXSLPr8fE9UCJHPk/4/iQ2ubUj0+lUrPmPeMZ3z4nqpCnCd24hqDiYzMF9d1LPfSSt7prw1dvUJxRRTibXAIvLcmY9efJT/ONOzk5s0D7vSr8OuHshaMLW5/e+iPDXiQW8ttwW7bZlcjCe/XMLfd8UIkoY462R5mOJlUmSiRqbU7PWz+F8Ux7EJVnJAoqVl3o9/pt9SnfFvQ5oZIXrQCVhLR3YuJOuxJJvtjOjFih2fSPL7ERijuax//2AN6xkvCOVdkpVeYkCirRP79n7q5n6XJWc0h1AarkYvg9mLjHrkSyf9rHXFPLgEpEuZW/Nfp6K9KIEmn4V1OteKcR1CtBMBUv8hRUrLpQ44UtdOMaozikCoAqC6ygYaJmVyILV40y+et7bfrn0b3SqF8FlW5cQ1BFlqOgEv3jqzVSb9+/quaESp6chVQ3xyRmnP6p/tBjNnBrKvw64eyFowtbn976w4H2sH5b9YwJ2pVoMdcY2yXaXLB1tdqu9SSjwqa85snz61VPiVHG/KZFzJ+rbFazVR5kaExJs+KpnSrsi9e3B88KGbZHkiQzMD6BWQF/T+peCGYCPJWHDNoF4Tj8wRGcaeHenTXAuLWEMxcf2BsSRxu0czEuFlLdMvczJv5sr3l7p+4EQzz4Pax5074p/I7+68pSOql5679njOL6jxDG8m2nCpJEQc389URt2I2PUd9s33scUoGkIi/nMecx8by95q39sQbGytvJtkq77u/l0rmjH+hOcr7BVHyQpKCS4Gud/r1QkUuPPQ6pYFtmBaypLmLiRXvNWzuxiNHs66Ow5k17ciqzPvXPWjqpeTux6XelYJZ3wli+7VReYiiol78/oh1Y1gmdS+6nOKPycOERBVm4golX7DVv75U7p1e9cdJWaTfhoyTtalQT3UnON5gqyhwFlVTanf+pF0Klv1KcUTne1laGOY6J+/59pic13h+U6eku+oxPl+j+SrvWV5Ybyc33qvDrhLMXji5sfXqLrBv2IrFT/h235Xd7zneKZ4XRvqwGc75owR/N9Y93vqpMcr7X4o0k8XI48tFOdQkMBXXTijF6VM56vjW3ViY5pAJJxZGQ9j1MvGfP+XZYP8fYcVOzZZr/Xmlq9x/mJTlfZej3ndGKr8Qkp1RJYiioJNPsKXtCGXH9tOaQCiQVx3Fu4SEmPrTnfOObTTDKLDFgzhfJQjP9pCJqJOd7ovIWT8dC4chHO9Xl5iioJW6P0C8+7u67t7OK4pAKdm4MFaTHmPjYnvNdea2nEefdZ8s0l670pXb67Sp04xqCKgg8BZVkmuuuu67kyqpozqg8nE0uXuSuZcz6QzLNhU4lGg8/0lT4dcLZC0cXtj699UeAveh2cdI/uC3/2GvenrG3DLPQAVjzhuTm3yn7fDd9pOZt71BW31XAFcZKYKdyLo6CujbRq90ZLOmHzpdDzqjgmVKeIyHtTDH4/xZjq3lrmPOpcb7tQVul3bpcizzrfqnhqOY/mCq6OQoqqbS7+Elz/ffFuRSHVDegSvg0kgUTs8TYat7q3c5s9heOwZo3dGWnR7m7cLRGat7iWzbWW1/NHcZKYKdyHE9B/fZYUy279JZev0c95JAqAarM80w2TMwWY6t5K1c8wnw175St0u7+rkLaHV8TRzX/wVS3S6Cgkkq7AeNF/ccd6xVnVAHOJtnF839lzPpDKu3ujzxpdBm7V4VfJ5y9cHRh69Nbf8AzpbyL3HTKhXswV4yt5n+y96CxeM8RWPPvi/q0IGo3vI5Oav5z5vxZ67nrhEb/ddipLMNTULOtikEXxs9TziyuiZxRwTOlvIuEtPNiYt4YW83/8tpHjQPtT9tuGqxt/Kvvzq7h/po3vGPpeMeq7JQqcDwFldw06Fh9nbZnXixySLV0uv/FPv4dTHwnxlbzn+OL48ZSz0VY8+8ZcewNlGt6G53U/J89elOrVUHU6L8OOxVPJwrq51/7lOd39ilTE1oih1QRUHmXSyiIiQVjbDX/Ue/+ZOSrdMN202BNrjba081d6MY1BBUPLQWV3DR4nGeY9uPDZsgZFaSgyMs6PBMZkyHrD7lpEDdlv6EMOKDCrxPOXji6sPXprT8sbA8+TjL7Mq7Srv6HjwzZt9pfaTeu3RXj2zvr/ZV2h9v8ZLRos9lfaTdo/vdG4uOdKuyLdNrDghA9uYrGSEUC4wMq7VJ+Dyx9S5kJ8FQeOmhnxxFDOoIrEmOrtOscscvo92BvSBz9m3acC1I5gScDloGPEzbqP1zfe/a08fzrGWrmTH/qE59cMBJvzVLVSS5DyH/dGPP7XNU9v7txosB948HyBWrFAdON8meeGWeeLVbhJEh3IDnYRplj3ov578QM9Cz8PSk9C3szrHvOQTjywDzBvWcN5JBZG4w617OZI9t/HRJHO5CsW4BfnyRyDBnENzJZAxnpH8j1iPzglcT/s3hRK//PxDuN/D8DPLX9P3iF8f/U/LWS/8flcvl/UiZCYIXTwcBGZoL/aakelzZXGJf/Ez32cSu1l8zEdlNe6PlPtFNrZR0f+3d72Xgyo7P6au03sdyvA4w7uXqp8/scjc1f+nOjtjJY3ZL8IPbB/W+NmMefqBOXZYvrcE83yk+YqMKJk+6Aw72L3Ah8P+a/kzowAvD3pJ6if5m3IaXXSdPwvN1A2kgz4ADnL2EguPetAS85sGDcnv3njWcfzwqJow63swIDqbzAt8TElha1Z+ax6pm5roq5L1VOpRIL7RQTb2KhPTj3lg2V2jf3UYuRIKpbYOionhQTb4dUsEqRM5jQBhPbWNSYruPUXRPdFesUiU2l7plRQl965uaG0YWr4UXIFRuYr2OdUmWWo6BWe3ejVmHtxxs2z+qvO6QKgMqLEt8eE9tb1JNJE9TNR6SKHxx71xIjK8dppId/zdIUdT4+WG92aeUG7bv59MIriCpJDB1VCVB1h1QZUAW8G32IiR9a1BP/TFIrt/dU7My+ZS2VhRvoA6vlTigw/B26cQ1BdQkSBTVr3jM+tfSC9f8s/ER3RnXD2SSwotAIE6vF/Du5h/+UhP9yUxdi8msKlBqrXtvvqjj8aFt1SNwYdcTfXMXBZ+uq8OuEsxeOLmx9eousCHtRYlxcL9yWXlYv1j0+yW/Y+6hns9RebHqouEbsJBNvl0HNf/UQE0vEjDuh0H8dNqoouwQKaqNjJRCxzvziWRvFGVUCWzpPgvx9MbGvRZ0hTvMbEqtTG1p1E9kb6cTEu3nSLeWJ9FQ7PTuuXL5bHXSnVN4tUFB3FIpRiJHsJ42X+BxSrcAT62YkFzcAEweAVc8722+4fOSP2tYtiAuLNWInmVTNg2KnFiYmlii67waF/uuwU2VOoqAW+awWItaZH06NUhxSJUAlbm+DMXGwRZ13Zr7fUPra3mqp1FPx7XVi4t2ww1904xqCig9+FNTNTxMVYvz88pmqOaOC4CmmMrzUJWPWnwKFJ/hNvNHkVir8OuHshaMLW5/e+iPDXnTJDP8JbssnVi/GLZuhbn/GVTz5pE9qL/5wSyWrtj7zyRl/LxZ5OTkB9yJ9MjyIKjESHRUFqIojKscAce8mQf5xmDjOouaMnK/uX8dXFP4alELNTN4633Dv6oZwnAiDSS5OoiC9XPIu8i6euCHvnlrhtAmoZje5WfYppnxqkT7Y96VaeKtYsXmhYak9+aBkc//4EXel+xM+1RZu+zTh9+pD6ZPeQVSJYeioKEBVHFJBgMktMawwGRMnW9QWG1epRXNVrti56YjUXr3bpo+uLs6V0O+wrjglsSxHQSLj1qSJtp6MI/16IsOZQk7VQzNmPflr2SS1QwJXMVroqsKvDc5MOIqwxemsJxwLe04WRWEObsuc/1EWepCy0APKQgsoCz0sZRFExROSgopVlBJQUbozKqivYwUStJ+HifP+R1kYaegZJaBnlO21hDBXMTuVYxgKakDP6AE944QKdLfAuUXhC0z84n+UhRGkLPSAstACykIPS1kEUQWRo6BiFaUEVJTukApOcQK5TboYExf/j7Iw0tAznoCeCd3DIaiyxFNQA3pGD+gZB1QWziYS1vssQ/WMDvSMDvSMAfSMAfSMEUrP8LA9brzLk7a4Y/5d+Pw17dm4rrparUV0xUI1pqqTOzRQXw3KXXHcnPFqp3Wt1K3fFqhY+9dhaua2H6kXLr/vX1u1egPV4n+UrajO7qLCvkhvPQUX71mBeKUtDYxPipMX+D0ps4LMhLuFEiuQmQBP2aGDcEE4/MER3FILt3X1BLVqglRxwb2WIXHUQTgOWEywgogX0i2YuMWiVpre3W/A+9VY6z2KXTWLeYgp94y+2dDfpwbpxB7bFTuIPvsZRMULKQW1RrbZGjHlHnfvmuKQCqSTIDMitx0Tt1vUl0O6+Q2Gc7e3qH1/OKcRU+657Dlfx91DlSpS1th6H9HbgAdTWUGioG66GaWT4GrhyVGaQyrYlkXyOPkuTNwFqNW7+w2UXw21qNqNMhoJcRb+8ZFSOucwndhjD+k8lD4cFkSVZY6CWu2bpT4Szh2T+aVDKgzpiuRx8iRMTLKoxZ719BtERxy1qD2/LaoTU+5plYvS9XAIqovhKairf/tGI6bcuwZ/43NG5XlIxfJ4AyYu/5ebBnEgwn9KAv5T4EWJrfX7+43QPhg2U50zvpfflLvc5Rkq/Drh7IWjC1uf3iIrwl50Yf14ALflAMhcNx3sN6Bb3m+pFUCtFq8QU+57BQTd/Wslvynl8n67w5CPdqokchTUSrF/KsSUO6lZR+SQCiSVSB4nT8bEZItaaNgwv8He8zarUqlzuuXViSnl5HpZ9MPdyvrNmys9LqM5pbpkjoJ6IVMWjZhSNuo9CjmkAkklksfJD2PiYYu67NFov4FgxPfWO48JK2I8xJT7+uQi+jGtnN+UcoqYNwxJZadKAk9B3bv0fURMubfsr44cUsHOLZLHyY9h4jGLeqzFeL9BYtO5m6x9ZV8FnZhSPhq8QKPq4RBU3FwK6sjPO3iIKeVvLYcgZ1SYUhLJ8+96xqw/EYsG+E0puxRaoMKvE85eOLqw9emtPxLsRdwc5hxuyzmrF6ufm+Q34JWLz03tRfYE4w+l1HiD0dG8sRqxx94fP5Y+HRhEFXmegpps9EUkbJTjx9maM6oMAqhEjEi/YOIvYCWYOtNvMHwhZl4q9Vn9rjp5rOeTTR+RfVLr+MGn/mFySuUEnoKa01cVEVPutkJVxSEVhOMlDGUuY+Jli/qkzgK/gbLn7/mWEnlP0okpd9RJVi+367MkcqNsa6vP9tB/HXaq6BIoqL/EDEHElHtSiRmaQyoI6Uou2c1dxcSrFlV5c5nfIPrF7S9SqSf/qKkTU+5pPWvSjWv6VJ7hJQrqzjudEDHlntOgk+KMClNKEvHpPJEx68/KLZ/4TbnXVJ2twq8Tzl44urD16aw/Lgb2oltkubu4LXetXrz5x1j/Whfvst4oPzWzmU5MuV2TYtCRkY80okTmR5WjPx0EUfHZloL6/pcMUV0o8z5Bd0aF9XWSyPDMA0x8YFGnR0zyr+U3300N7WYqegj59c/pu5UUvGMh8pQD3rEUp1TWJVBQy8ZuUYj+GeftqzukAp0uSW6We4SJjyxqqSHT/HtV9/YDrPNXsV46MeU+xv6oVK29UiNKpGDJxvSngyCqwEgU1GuDJijElHt7s5y6Qyo49UmyxPF/YuKfFvVVmTn+vbhDrZ6p1GMX4v3659AfPX1UPRyCKnMMBbXNi1cK0T9fPm6sO6PC9JIki5x0I2PWnwpLh/n1T++IKSr8OuHshaMLW5+e/gG3j1mZ5SVpecYE7RZvr+M35e5+e6p6+tPGflPuReZnao9nrf2m3AOPTVPf+qOL35T7To4ZKuyL9NZTGKL3Px/3NDA+KVE08HtSZgWcCfBUHjpoF4TDHxzBPQWXXP7+WCWm3ANjZ4XEUQftoCE3pkoMkxP/qeQnQF2Rt5FakFsaJ89NsjICXfaQWie96v2aOon+fqi2Tuj94Vn6I10wVRboqFqAihxSgaSSeXyoy42JuS3q9WJ11ZK+MXH/xO5PzQceudlUcxV5WuFqtxG6UxI+PFKQSLX6klIzEkrWLY/CIIHtVxbcMpcPU/JZpOb5aqk1W9aOaxtxOLUnCwll/eNHAq936ozUmZ1TE0gIlH7pslMFSaKjagEqckaFoV6ZuF/mx8T8FnXpXzXUDm8UjuuQJfVqVOaKA69ocqteFUjg1SGJuHtSkEhV/rM5k/zlyvQkF5wp5MSfHVOe/8tN4MWr9v74fdZKcQlg0ZQadVQ//ONiXP2pier6My3UQ9uT4go33qbCrw3OTDiKsMXpLZqw9FrGU4MvhttTLAeoCenuzxJ9eG9r6sx4NCiW5HDRIqWMPn3kXY3kcNvlDeMJiiCqW5AoqMWalyeVcPrbU296HFIticQxJERdAhNLWNQChfr6s2B1S+2yji3lMvszx6P719Tf3dJcv3R2V8LQPtHIIZVlJImCOm50oodkjse2zKY4pIqAyvECXxoTS1vUk+0H+7N8Z55Z71EdvLfSQzLHvw+po0/eZmokh7ugxNthfId2qltgKKhd3FVIJZx+M89YxRkVhHQ5hrhclsPEchZ1cNOR/izmnGbWFfAenaP8meM+BZvRjWsIqiRyFFT291b+zPGiH9YqzqhuOJuIKVOhjFl/smTq4s8csx2+U+HXCWcvHF3Y+vTWHwn2otuNvxbcHt7qxfb5xqq+wu9XnFrTMsrh1rcjqU4SOqnc6unMpNPLvosloRP6r8NO5XmGjooC1CSHVBegkhC1iImiRS0VOUX9dIa74pfvJdoqxl+1ykkqxvV9h3b7h+ls5ikJTqmywFBQ373UA6148mssCdg4pAqAKuGVoRImVrKo607NUneOqFmxwZ2N1teRtaV/XEuOrqHNbdVV6d7vQiy5Y0X/ddipvIujo6IAVXFIlQGVeGt6MNEDerjVF2qRJS0r7l+72XbDY3eel+tJIpKqh0NQRZ6noLYtMgqN+/xY7KnjrOaMKsLZJLvdXGzGrD9tyvZXpaERFWv0TlDh1wlnLxxd2Pr01h9gGcGRW0FSDdyeGv+jRFCQEtEDSsQXUCIoPCVip7pYjoKKVZcWUF3IEZUHl/s4loSoa2Ni7f9RIt409I8W0D+o7vHIOPJWrlOq5OIoqAH9gwL6xwnVDajkwZ96mFjvf5SIN0iJ6AElogWUCApLiQRRXQxPQcWqyxdQXcghVQJUYrjdEBMb/o8S8aahf3wB/RO6h0NQBVagoAb0Dwron/CpLhnOJjfP8d4M1T8I6B8E9I8X6B8v0D/eUPqHg+0RWYl/njFBuIQcNVVp2xsVG6A5as0P66gJtx/HzcyzSD22oKHau8vtuOdfr1A7Lm6hroz8NW7bybUq7It02sODkDvnfw6uSWB8ArMC/p6UkziZCW/8OT2WzITQgTc7gjwESxBNrIm3akMX1ejxS1yh69+liaAOtvHAGgKTeFnogSk9cgTXqhlBtWpKoFZNC9SqKWHVqgVR3TJHQd1Vs5gvUJenO6QC6cSRK7m9MbF3juBaNSONCjkUqJDTznf+MrxcbRAVHxgpqIEKOT1QIeeECrZf/B9J6oeJ/XIE16qZQbVqnkCtmhaoVfOFVasWRHVJPAVVu1FGCdTlOaSC0C2GCgwzEBMH5giuVTPTqJBDgQq50D0ciioLFNRAhZweqJBzQOXgbHK5Gb4TJjbL8a8zNAr+U/xx+v/N0BigQs4AFXIGqJAzQIWcCSrkzBAVcrwb9iJx5xyF2zIqR3Cu1gjK1WqBXG1KhhiFlasNonICT0E9NbMZCuSldYdUIJ04EqIeg4ljcgTnao00MsQokCHWA6kVzSlVlHgKaiBD7AtkiJ1QgXQiLwIw4zFxfI7gXK0RlKvVArna/8fbeUBZUTR9n5xZlqBkESRIWJiZOxH2Ts8AkpMgSAYJkrPkLJIkKZKRoEQFdgFBEPZO3wVEkoAkQRSQrMQHVKLwde877NQd1719x++s5+x7eM95zv62q3uqq6uq+4/sWq0eUa3WRRUkmYFqleyF7Lq05Y0KUr2CoImKMJEQJ+Z212qDKVSIkV0hDm/hMFRJVhmodoXYsivEHqgiXE1Ue2lw2vgfu0IcBBXiIKgQB0GFOAgqxMEwFWIRSEMIPqrOOYuMZVZud69a0NWrhu1eNd3uVUMR9aq5qLxPZqDyxzhk9+Uhj1SQWPXR1PVsQpyd292rFkyhQ063O+T0V3Ofi6xX30WVJZmBanfIIbtDzgsVpOnJQc4nzCXEubndvWpBV68atnvVdLtXDUXUq+ai8oLKQK35iorsvjzkjQpTvT6JfKMLCHFBbnevWjCFDjlkd8iFt3AYqihyDFS7Q063O+Q8UGGpyScJojolbfyP3SEXBB1yQdAhFwQdckHQIRcM0yEnatCK9IbS52Qsn+d29+oHXb36lt2r/+KGAIqoV99F5TiVgRqoWc2y7yUgj1Rw6vPR1PUqQlyV292rH0zhhgCybwggu6fbM1USVAaqfUMgYN8Q8EIFcbpP0zhxLSGuze3u1Q+6evWx3av/4oaAHlGvfghV5Mh/DNQNy3MF7HsJyCMVnPqI0+PldYS4Lre7Vz+Ywg0BZN8QCG/hMFSydzNQ7RsCln1DwAMVlpqo9gm3OG38j31DIAhuCATBDYEguCEQBDcEgmFuCBDDgfFQeXs6lrTrkMOgQw6DDrkg6JALgg65YJgOOQmm4kUyXWqcPT+hHXLBFDrkkN2ylnwqD5+oC8XRL47i4nK7O+SCKXTI/QPH/racIEEqT4JyMmGlcv3/eRUyhcmjv672sR+MRRU/qUwf5au4+Y5xucTaynQie3bIapa5Fqi86u3J5kWjoIkqn6gc1X4S+Xc5M2b570n/blNKMVcOSleF/m/gIkh1IkU4RpXjNtoL88Vj4uD3vLAstWbJXTHrqTUju58ciqPiZhS30ZnIn3o1Mgvsj65yQv8wLI55IiWRh1RZVE8S4kmH+nTmWWN+V868E3SWz5JulxIm9s6MP23XGgUbrrc6DmqAuw56zn42d1EVUWSgzn61ISZUtLH3PMsjFVpYUSX5NCGedqiJ8YeN396vZs5/4li498niOnppCB73vIdOm9iGruwbE4mktZuqSQIDlWZfqUu+cash9kgF5wCR9oyfJcSzDvVK791GkXu1zZePTHJewt97IfBJ/Ur4vF4NzRh3zipdtCS27pRmj41dVE3gGKh3S6mYUFHv9pzljQoUVgSJ7sPnCPGcQ+30v2+MrROam63rT0imFji/LLbA6bH4UqZbsUwWDkMl3ysDtdrBp9ac9nf117pUw96oQOGJUEmkc5gQE//j7k8T/eRP2eASclvZ8pExc88rZpODi8whZ34j/y5r/p5rrgm/Trh64ezC0afmZGVoRSrgcJ2M5bpjxTr1DhmN7seY3fgVyVbMN6gdGsWnw19wfyc0KvSXxddqibVN/dlj41CqoCkyA3VC3BKr/u7j+pwWbZBHKoh06HGVu0GINxzq7DXbDf6JYk7NtsbJ0v0wTm/0cl+crfRU6+jiKPz1mM3+PH2aYc9UTWag+tc1xo3nlNDP1IlGHqngHCBJqiLcJsTbDjVjqzVG14E1zMkznXPAVgmhBlkr4BKvpPfvb14SXynH4++NLeyxsYuqySoDdW636tbgbflRTJv6yCMVnAMkWl7+HyH+DzRELV9gvB7TxLy51Wl027b5bf+TEqPxaTUP27yGoQoqx0DdOErHWet/p1dNlxN5o0pwNSmcqv6aNv5H+utXI+P4MuZ3BZeZ8OuEqxfOLhx9av5HgVZUNVF8QsbyBDRY5M5tZhpf0Vx4Z3WyFevkmpZQteF+68bbvXDmJ+P19IW7YLQlGIEnCKWqospA5ee0RISqN3pnu+6NCu52CjInKMIzQnzmUJsNK2AOGySaQr/1ydRemUYmvc/yLN8Oi07ThQZjNkQiae2m+mSVgfr8+yg08ueZ/sHbmiGPVHBAkXkSYaaPIosgKpn6h1rU3HhPNxf0T+5fSNf+ZB1/lUF58d56TfGHJ3fqq0UTn4+NoHHYRVVFjoE6PK42IlSUufYk3SMV1JxkKkyWiRAzOdSPpZLmp6fqmRsvbHXqa0VvB+j1nfPjOLZ5DUPlJYGBuqxMNjRCWaovPV0XeaMqcDUJmsz9kTb+Z1WBzOZwf2lzf5bPTPh1wtULZxeOPjX/o0EriiovRxELRjlWPBxfwKS+ruTYT5KtuOlqd0wiEWtBrryBOd8e1GkksqvgtghOQqFUReAYqLvmbtFJ1IXeaFsPe6LK4G6nIMu8KOYlxLwOtdeoEib15Uanj5KpjXrEWzT+mVsym052LER2rADZsZBXqiByDNTps5shGv80HpsDe6SCOF1WZF4uQIgFHOqV6uVNuleV2+T0ZuiJjTCJRHDd2w8DtdNFIxqJTF99jb026qIqvMBA/bneOJ1EXahWYxF7pIJTn6xqglqQEAs61Nu/8Cbdi0sMmeZkLp4Vsmj8s/GnHjuZLJw6VeMEkYG6ObYOovHPmIKPLE9USYOrSVV9QtaoNPE/b2TJbtL45+aTeSb8OuHqhbMLR5+a/xHAeBRO0gQ6ls25/1v29V/Go32ckUqyGFRG5Y186cwRjbHBNVlinpeeGKXynTP4UYvNGj0eGrU3/G3MG7jI7LL/gVHmRJTZXFlkQlukMh4ZPPooUI0crog9Py/6FsHvebEq4EqAp/LwSTsXjgAproizCN949bGxO6Gs2fClxWFxzEk72Qc2QYW+Ss4RIudQX24wwai14KgBJa2pnDWVte6b5dtA/51jrcFlX8cRSVq7qLS6E55KpbuphPevK8oij1QQUim03uEjRJ9DbX+ksXGt8BEDSlp3fyUaZa0yz6JC2lQ0h4rnRCTp6KLSyzXhqfX790qiUSFtj1SwLSuS5pNlQpQdajulmLFPPWpASWsqZ01lrc/s72cd2/i7lSu6Io5I0jqUSiJ0gYFKpbuphPfUP+sib1SYAlYUQVQ1QtQc6isVzqAVd48bUNJ6QtcEvZryc5KQNpOFw1B9oshA/emHXrhmq54WFdL2RoXVErIrS0J5QiwW9d82DSriRq/HU0Uo4GS7KwGjQIOzBhUda31hmSHEnTCokDb8OuHqhbMLR5+ak5WgFTWOU2uQsdRwrDjZOGCMHhM0oKQjlXOkso6nFtXBUVE/6p9HNcYRSTqGUlWNFxioVLqSSli2G14feaSCkErlfD65FiHWcqjL6h02jHPbDCjpuKbpr/4sJWpYVEiSqq9RFbaIJK1dVNEnMFA71lqr5270OqZCkh6pIKRSeZVT6xJiXYeae/5RI8+SzQaUdKRyjlTWceqGlvj04av6+AsdcESSji6qxokMVCpdSSUso6e3Qd6oMAWsUvnKBoTYwKHmKP6D8fjwRgNKOq6ObqOnb3ogSUiSycJhqAIvM1Dv5xumL377aZKQpDcqLEGpVCA0Nm38T+Upe4xf2h4yqJAk/Drh6oWzC0efmv+Bt8JVqkXVgoylhWPFR/w1Y+Hv6U0oaU3lrKms9cGfKuBdQ3kqa21FJGntoiqqyECl0t1Uwnt34KrfIxUkXFWZRCKtCLGVQ20S9dCI/yCXCSWt10YvDKQ7/gqmQtpwmrxSfZzIQP1lTAv015MsiAppe6SC9L2qyCrXlhDbOtSG1zNQ4WMTSlpTOWsqa92oR0NcrWVTKmudEJGktYuqKDIDlUp3UwnvmwtG6x6pIAWs0ve1OhBiB4daoVQ2KuxsQknr298U0UvOzYGpkDaThVOnalSbOTx1wPsKujWqGKJC2t6osASlksHKjdPG/9weedx4r+wdgwppw68Trl44u3D0qfkfeCtc4xRJ6EHG0sOx4hT/cmP0g+xm+/KWE4lENQxsXD4Wr762IvZStWDsk80bEpTzEbxs4KLKksxAnfdHC7zw+xxo8PbnCd6o8C6oRtwP1zuKqkcnUzus+9h4v1Qhc9tVh/p0RaK+q5SGb9/NT/dJKn+sRyRp7aLyisxA9Zc/ZonjGqMRl09aHqkgTtd8kiT0I8R+DrVa8wnGxSxlzdcXBx2vd797oPT1EfjW9urWsdivAlMa1NY7FhkRgScIpcqiykDV5OY490tZ0HFd0T1Swakv6TWugYQ40KGuuNTTWNjPZ1Y2nJvF5ap+qluT8+OTL1Vnm9cwVE3mGKgN1l62eubriKIz65Y3KixBJb1x1ilt/E+RE3HGvqEPjLtdLRN+nXD1wtmFo081yQXHI0uCSseSBkm7Ru/cMxofX2tQIe3x7S4YhrzZoELah9r8YGw+HzCokPagud8aZVccNKiQNrRFKuNRYIpeo0+IDrbnx14V8Pe8WBVwJcBTefiknQtHPjiKG+zgOmf7xpj26iUDCmn/G445aQeFtAlVFblphDjNoZbqJJs7DqQzzsx20meL85TXjew6muMvizf0+NOaeiYjHnRDYnffLipxLwzU6w/KI0LFYzZv93ukgpBK08hBciYhznSotS9XM29s+xSVX+ukzxJ3ZEq65/PJdzWTbh6/mnNHZDVfF5UcJBmo73da5qdCeFKDm36PVGdb9nG87BM+JsSPHep5pbp5sWcmlNDSSZ9l/uwT/4A9xdCdD+vi6EEHrPuZJNwlXwTpMxdVEVQGatx3JiJUvH5mD90bFaSAyTFSE8U5hDjHoe6tWdc8O2V/YMNsJ322dFduTCUGoyo2ZZvX1KnkLMIxUKuNb6FTgbyiGZbp3qi8DMdKjpkfEOLQqP9c6UHkT0nK9wMne6ZUZfPlVwYahwZjc8he3py5WjE6vb7LhF8nXL1wduHoU3OyIrSiqHDiUjKWpY4VF9xqaG7LPcD46pbzbMrvjdri61kzoClfFvbnWBMV+Hr0wNg8P0QQPrqoMqcyUMcebo+0n5/o6Q4nJHikSoBKU9qfEeJnDnX/L+3MPa36G9mWO+FjIO5N3GH4xNjKh/PhJldKJL0TXzKqT4JXKjnqMFB/z9AdDbop7MzY5bTlkaoCqiJx4kpCXOlQs37QxywwvZ+xuq4TPjZd8DaeujsDCl7irCZ/vaWP+KxWbKlOEYSPLqrMcQzUawVbo4ddHuufb0G6NypIAfvI4ZWX1xDiGrCaVo4yt6/pa4iXnZ373q1yeOq1GbH9Kpls8xqGqvECAzVQdySaO+j8zvb9a1jeqD64mlRF4Oanjf+pdddv6qsGGI0ly4RfJ1y9cHbh6FPzP+C2uI/nJEXeRMayybFil9uy2XrtRuOHx04k0m5FDH7vjobvqpcDD4vftegzjqOf8RF4glCqqHIM1D3vFLEIFXWKq4g8UpMTrmRzps+RbiHELQ71y7hY80DF/QanO+mzChOz4JrF4y1fv9pJveFx17JXjqjn30XlVZGBeuaXvX76YN2Invl1j1QFUAVypttGiNsc6iGthrn92TnjdkEnfabsr4m7+ApisdNIK1h9t0UvI4lWdASeIJQqaQIDdVj5oQFCRT88b4i8UZ0UMKFScecdhLjDoR4dUs88+/3/jKmDnfTZ++2jcOb8pwKV8jVjm9cwVBLXMlDLXOuu0wcmh69ar3ujSnA1kXBI+DJt/M+NKMF88MNco1D7XSb8OuHqhbMLR5+a/1GhFSVJVveQsexxrHirU4kkX/dwmVM+vHZuk04iEat1hwa405kemEYiQf4oe/nQRRUVgYGa99zXFom6cKl1dZBHqg9QZVWTvyPE7xxqua1Fknx501pO+XBHzXctGv/M7z6c7pOx9BUAsmPFeqVqmsBAPV+1GqbxT9l5lZFHqgyoqk9WDxDiAYe68lbBpL0qczmnfHg310s6iUSs6RXa4lGFRmEaiZz6hmcvH7qooiwyUN/IWcIiURd+a0hL5JGqASoVg/6eEL93qM9eLpi0F6cv7ZQP27173aLxz4HoLmzzGoaqKDIDdVW/nJjGPxfjWyBvVAWuJk1SxUDa+J+iV8okxT8V3txrwq8Trl44u3D0qSa5wHgE3ieKQ9MmaTeuS06z9NuzjXlbVpmVNuY327WeZBz/aZ05961ipr/0KOPH6ptNiytjZokdZFQ5sd2EtkhtPE6Kno5Hk4Sj9vzYqwL+nherAq4EeCpnSNqF4Ohb6xR31MFdWyyYxWcNMBbt3RUWx5y0U3kRUmVJvkqIVx3q3AmdTNpV8/FU56Lq4YSmtOdNXz9+oX72ZjSmPW+XM0ZwUdVFVSSBgfr8yhU9w+cT9d92t8YeqSCkIgYWxN8I8TdQ863Tz6RdQ8V3OhdVD3fug2mn3ZPCfb3VfF1UcsxhoJ6+cT2pE+v1C4281bdVAWzLgiyK6k1CvOlQR1wYZdKuqDETnYuqH9ToTXve9EULZf1gdSup5y378wguqrqokigyULcOz0X7+/QRX1TDHqnQ8RDvzd0hxDsOtcj0iSbt+trz0Hlqrttf72LaaRccm8nvqebroqqSzECdlus1RDvttg6J9VbfVjm4mhRZFs8T4rH/XulJzvcDJzvU18CkVYn5qxaZmXa3MGmn3fvn5pjw64SrF84uHH0qTlb1QSsSH8s9ImN55Fhx2L1GJq0qje3sXNSYVnW2tfD7HPhx/Xpo2eh+mNZ8C320JQJPEEoVBZGBuudQIVrfRgN7l/B7pIKQysepovqUEJ861Bq5mpm0anawrnNRo0L/GEwrzZfeza6XfmuVTnujEqu/hb1SNVFkoOas3C+p0nxpdHbskQpCKp/gE7jnhPjcoWa40tKkVcGPFjkXNcRNf1i5X8qCR04S0fKxHTCt+Ta9dZk9fHRRRV5moL664xW99PURKObi335vVBHs3D7aRp4hD0HlSaZ2e7ejSaueuTs6FzXuym9iWmnu3mrWDiYLh6EqgspA/fvHxTtppbnewgeWN6oAV5NP8sn30sb/1F3TwKSV5tNn55nw64SrF84uHH1q/keCVqTi1rmIBXM5VjzbqYlJu2q+OOJcVB1S5khst5598chsO6xqU7tj2vO2/fou9ouqLqqgyQzUWp9t1tfEGfqbWXshj1QJUGUSieQhxDwO9WSJ5ibtGprSxLmoypUWMO20K6B+Y3nq+XdRVV5moE5/q5pFO+1a9XoLeaSqgKrympCPEPM51EEftknqinq5qXNRtUee0tbagYNwzvcmW6eiWmDa85b5nVwR7M6hVEFVGahffJ8NfXnkLb1Q4E3kjeqkgAlVkzjxJUJ8yaEqH3ZO6vqqmuhcVO18tCmmnXaXfoixPPX8u6gyxzFQhx+J8dNOu6GN6yFvVBGuJk3k1Mx50sT/LOza0KSddqMuLzfh1wlXL5xdOPrU/I8CrCjSu6olyHhKOFZ8cL+zSbuKd/75uZPwKJsRD51s+d+Z1RoPfZgd057/M79F8FCHi8rLKgO139HmKMvKXDhqzv5Yj1Rw6hNpSrsUIZZyqJfaDDBp1/RPiY7XO15wIKY3Daacm0R3LIu2qJAdC3mlyqrKQG3QOz2iNw0KZM+DPFJBnC6KnCyWIcQyDvXGxLEm7QrP5Hce6thzuwjuHbUxUGRRPSy9s86iPf/1Nn3F/lCHi8rLHAP11II+6JPPA1afD4sEvFFhCliUfIr8OiG+7lAzvDLZpF3v91o5D3X8NKs7pjcNjE9yss1rGCo5WDNQfSWrIHrT4N1V2ZE3KixBiZKgcoXSxv80G/+2SW8alL221IRfJ1y9cHbh6FNNcsHxUEntY2mTtHulVj6TdtrNrL3EbFOspEk77Vr3Wmw2OVvFpJ12BVsvMrfV003aafdjwUUmtEVq/hSm6EXa+lbRnh97VcDf82JVwJUAT+Xhk3ahOPoGO8VVdBbh6XLNTNppN/RmeBz7m3acDKnkh05YGj5OuOv0SePN/sPR489nmBMfnDUypPsTxV2bZcoFLxvmJJ8x9vfZ5rFCtw1pbnfjzrJ5ZsVTj4wqA6Ybpx4tMuEiSHUiJThGEl/E5Pm/hWlbFv6e5Hf7gDUju+cciqNPvVNcjDOR9S9nMYfMWm+MbP95WBzzRGqCAKkqpzYlxKYOtcuPeYNfN3gp/lS+xGTqlmVv0rnBB9p8pJ/fuFovXOFCJfrMJ/Pe5KJqnMhGxTbV8kgFFpYEjpebE2Jzh9puQJPgsnyvx2fvkZxOzzBg2CAkbFwXM0JZankl8bzAQKLzmP5XjuowRzImEO+Tw6MqtiSUlg7p/cJTgh0eVYv/8GunIerc2bZJ87dvziI/fZ6q98iilZZmGcseA4dSSQjMsVGxTQ14o/pAzCjR/bYNIbZxqB8UWBt8vqVJfMZnydQMcYVboay/rIqhKrteSeRbZCD9lK0Trv7jwA1z2t9lz9xoPFwpNHKpTyh6nv+2mxeSVya9U9ryh33rwe7XecA5q9Lw63GdqnxnZlv7Ja51J2P8og27Tfi1wZUJZxGOOBWnqYnQcorgE7qSsXR1LCe1m4ep5mr0k4PJKyPL2SRFZPRRk0P+h9teR3SuKi7PFsFXEErlfTIDtdizigGqfviwewzySAWRi6RKMtedELs71MoPTmCqKVu+rNMgoyZoiOowH+j2MqbPcDbq23pDjvu1PFNlSWag/vn4YYDqMB9Yut/vkQrienLS9gm9CLGXQ/22elSQaubW/vaY09oxugFVREbPP+m8c70vB6KKyPuPn4/g6wil8oLKQM01Lcai6odLT9VG3qgSiOtlWkbuS4h9HeriJ1KQagIvPHDKeQ9j6BuI6jB/c60E27yGoZITGwM1fthii+ow3zg4UvdG9YmQKohq+7TxPwUa1sBUhzl/k/0m/Drh6oWzC0efmv+RoRVpO+IwMpZhjhUr7PgoUPPQgbi6lxwrdix7OkCDsoO52uLxBccgdX+GylRTkv3rCKVynMpG9dtU5JEKQn9ZFH3CSEIcGUq9ee1bQj2XTKXEhB+qxvz4VTusff1z0jQ9/bBYJa9UcgBlpH69aAylIo9UcOCQJRIxjiHEMQ713dffsDrv/S4u84mrKVk4aV63VsxMLexn/zpCqMTtcWzUAJxXD1RQQ5IVgZfHE+J4h0q/o0kdj8ZVmX87mVrqJI8a6tNiqLdjsnAYqo8XGKhvvzpDv1ivRAx6aQjyRpXgaqKvSQ1IG/9DZw53PBU3495hE36dcPXC2YWjT83/KNCKqqbI08hYpv0jEkGuSMRvRyLYjkRQZJFIKFVVOQYqibqwHXUFvFFVcIpT6K2hmYQ48x+RiJFC/GPZ8Q+68GxvDNmxkFeqyHEMVDv+QXb844UK4nSFVxT5Y0L8+B+RiOGKRHQ7EsF2JIIii0RCqaoiMFBJ1IXtqKuaRyo43Sn0EsgcQpzzj0jESCH+CdjxT3gLh6HyqshAteMfZMc/HqgKXE2CpgkfpGn8g0D8g0D8Y4D4xwDxjxEu/uHgeERFEuhYquT5b9nUfxnPxPvjjC+WqxsKT/najC5QwxCnZYw7H7Xd/EPKYjTs3CouMHmHmbHnAtRbnB9X47eAufG9eD1uXTBuatldJrRFauPRwMlOodKh8+35AbvSi9/z4iROV8Kc1emSVkL4xJsLQT4yipjvIOTNTfGNDk/jjny1P0UEa7JN5Hiw2Sn0yZcNhLLBIc0d3NegmquvH//OKVPs/F+SDnPVY331gldy6lQR+fQZdpU8N5U4TAZqnZWZENVhXrckGPBIBaGTogqKsJEQNzrUlQX6GVRTNv4Nh5r3ynA/1WFOX+OcRW8Ml/lg34auE6Isr1SfrDJQ6f1kWi+gt2g9UsH2q3KcJn9FiF851EZL+hpUM/d4vEMd1z4dojrMCe0PxHZ9M0qnisg1y49mPrq5qbwmMFB71X6cpMNcpN/vfm9UmLpVqSbH14T4tUNtnbePQTWBn+dxboCXkbf5qQ7znvul2CwchipxIgNVe1jdT3WY/+6+wfJGhVUOerlNWE2IC//j5kD+FET+lBh6YRs40/PpexpUs+rUvoPm2F29DarDXLLFfhN+nXD1wtmFo/93Z0oFMsF4fLysBslYgo4VJ4z5wqCaY1+bzi1vvmNVTHWYG723N7C3XzFEFQGjWueIwBOEUskuy0Ddn79Ukg5zhq/eQB6pIHRSqSbHbkLc7VD5fEGDaqqt3vOj84BizokW1SFce1bD1Trv8lPl3OGXK3mmSprAQN3ceAiiOoRPOo3TPVJB6KRSTY69hLjXoa4JHDeoZtzCrT8nUy/3LoCpDvPD+3WtzwbXQVQR8EazwxF8HSFUmZNFBupj46FOdZiHvtMBeaPCVK9KNTn2E+J+h3pcumxQTbzN6S86LxVk+yyB6hA2bhfLNq9hqD5FZqBur9QBUR3CD0cc071RYRlJpaon36SN/9nT8iOD6hCm04+Y8OuEqxfOLhx9av5HglbUyNntOBnLcXB0K9PKoJqrwr6fkq2482qiRXWYT17oijt/mN9PFZH3axMi2J1DqFR/hIF6emYxqv6sP0XVkUcqSKxqtO3wFCGecqjlmzUxqKbs5OXOijlaKpNO32eZnasX3SfRvpczV6bT5JUqyiIDdcmiCwGqwzxqT23kkQrS9BrV5DhDiGccaoNetQ2qmVt3+u/J1B8PY4vqMLdt1gfXqlyiGr1E9PqcGQnsX0coVfPJDNQDi4pT9efYCZvrIm9UmOrVqCbHz4T4s0P9ZJZuUE1g1OdeMrXD/Kt+qsOcWLAh27yGoQqiykD18xksqsM8dH435I0KS00aVT05lDb+ZzN+x6A6zNVKHjfh1wlXL5xdOPrU/A+85a2JGi9cJWO56lhxdLXfEPV1K1o5qaNgvaY0EgkE2uXFX428YNFIJL4YF8HuHEpVeZmB2uqZRqMu/Iv0c8AjFZz6NKrJ8Rsh/uZQ1+cejagvn1XSSR1daXVVp/FPr6av0n0yQG/vkx0LeaX6fDID9eshYzCNfy7e/zbBIxXE6RrV5LhJiDcd6s4T3XW6V30wybkV/eiSiKgOc48JIi5cvXSSIvLdXkUi2J1DqSqnMlA/nl+MRl346S/3Yz1SwalPo5ocdwjxDkgJNr9q0b14+sgzjtfL2lmn8Y8U52Ob1zBUXuAYqBOmDsI0/jk07xXdGxWWmjSqenI+bfzPF0djkuKfNtr3Jvw64eqFswtHn2oyyxkPz9FE/cK0Sc7FpRtr0FapDsW+MQsXHmlQHeZecxNMCQ0xqA7z0ytB84OJ/Q2qw7zo729NaIvU/ClIxfMcfSfxnj0/L15IA78nORYHKwGeysMm6tw48sFR3D0Hlzv4rkF1mN+LOxwWx5y04x3BH0IVOI7LFk3+zGgnpbSxqFl4XZEqwz9xqDTFQgdxd5XmpymWPxfmiKmymv15rX9QNZmNimxqwCNVAVQfOUjmJMScDvWL1RXNv65qVVqUcrYqmjr7OTGBttriMq/8nbQWR5yat94jlXaqM1BpmjAq2x8xVQZesLxRHV2ZpLeSNCGKEKMcavc21cwv87SsUuyLo46k7Wetkua1iFzeoilRTnw/5kb9kezu20VVVZWNimyq7pEKHY9CjJyXEPM61Duz65nFNr9X5XFJJwVD+xA7tZyxgfYlMlk4DJV8OgzUi91GIKPP85jvr75leaKSrRhSOU5NT4h//MdNg/wpSS3J5E+pBJzsX9cfGDk3b61cr9NR0/w6pzlz9Z+V1z47bMKvE65eOLtw9Kk4WV6AVlRVWSxKxlPUsWLLzZlMWj2qt9ypi52LrURruzjdrK8DhXI9smhtd/YpPgJPEEpVZJWB+tbPL1m0orxvTXnkkeqEVORL4TXhFUJ8xaGeGZbDpNWx3EHnqO57KTumFeW6e2vg+1+9ifTb2SpfP5nPM1VQVQbq2V3b/LSiXEDNqHukaoDKy7JYkhBLOtTT+fKatPp3csj5ZGrVZjVpbRd3+7WLVTfdIYvWdtOvzxuBJwilKjLHQJ2as0WAVpSrRzVA3qggBcwnPQhcmhBLO9RS3QqZtLq5cvNlR743kBfTivKh15qwzWvqVJp4ZqBWGdNVpxXlJ+dX6N6oPFxNZDFxBdLG/+z88rlBK8p1yh034dcJVy+cXTj61PyPCK0oKj65MhlPZceKBbufNSpqOSoX2eD0e003Nui01ztrgQaY9idK7YrG/ZZ7H3v6zEWVRY6NatlU5JEqASpNafOEyDvUfPOOGe2a1I3Z0y653ytDxx1DrWc3+1ds2DWC8qiLRFgMJNrb1Wh4gTja6xUBSQUkWkIXCUV0SLPmfG+8LS5aP6Om09dVe0eOpPl76VFrTPuG5+/n4tpwr7Kn6V1U2SewUS2birxRQaqX56nos0KICogkhxwyhCLTNjSq8VeyVWm//jDupQ20f98rSRNFBhLtMC+b+HADvZMQgReDK0VVJKFc2viTv65fM1DhQZV/a/yjCb82uDLhLMIRp+ZPwK1tXuBkTjXJeMx/RBbYFVnodmSB7cgCRxZZhFIlXmCgkigK2VGU3yMVnOIEmqKuSYg1/xFZBFOIZ3Q7nsFFjklxZAdCHqkC5xMYqHY8g+14xgsVxN2Cj5zWaxNi7X9EFkFXZOG3IwtsRxY4ssgilCpxIgOVRFHIjqJ0b1SQ0uWTXtSqR4j1/hFZBFOIZ/x2PBPewmGoKi8zUO14BtvxjAeqBFcTfbOsaprGMxjEMxjEM0EQzwRBPBMME89wKhyP7FPFP9ImCbd6yBKjEt895lz5HWaJZ9sMrU+hyoVWWOaW0keNAbN7Vd5ycbepzbxivFliYeUvT+w3oS1S86cg5U5VmjWhoT0/9qqAvydZ746shGUPL2+gKwGessMn4UJx9C10imvoLMIK09KZ3Z/srlzki+NhcexJOE2CVFmTOxNi52h3D5vh6mHDdg+b3+5hsyLqYXNRFU1goP6083+W3a9neaSC0EnQyMHwXUJ8N9rdw2ak0DmH7c45dKdM3shquC4qORgyUO3OOWR3zkVOFTiwLftI0Kj2IMQe0e4eNtPVw2bZPWwBu4fNH1EPm4sqqSIDdVz7dNju10vwSAWOxyeoHNebEHtHu3vYzBQ657DdORfewuGomsxAtTvnkN05FzmVB83chKpwYltCbBz9nys3mPwpcTR//8/KjQE65wzQOWeAzjkDdM6ZoHPODNM5J/DQiqIkc0PIWIZEu2u4hquGi+wart+u4eKIarguKjkFM1CD9Zpiu16NPFJBSOWjKerhhDg82l3DNVKoHGO7cuy3Sy6eqZoqMlDtyrHfrhx7oILnQnmf4pO5UYQ4KtpdwzVcNVxk13AT7BquFVEN10Uly4mB+uiSiO16NfJIBTu3T5UVYSwhjo1213CNFCrH2K4ch7dwGKoiqwxUu3Ks25VjD1RYUvKpkiL3Sxv/Y1eODVA5NkDl2ACVYwNUjo3UK8d0JM54RCpWPZWMZWq0u4fNcPWwIbuH7UXnHI6oh81F9flkBurOq4m63a+HPFJBAlWkKerphDg92t3DZqTQOWfZnXN47WM+LqIefhdVlWQGqt05h+3OOS9UkI4X6SulswhxVrS7h81w9bAhu4ftReccjqiHzUUlUQED9cfDWLf79ZA3KkzpiqIkirMJcXa0u4fNSKFzDtudc+EtHIYqixwD1e6cs+zOOQ9UWFISyX/q+2njf+zOOQN0zhmgc84AnXMG6JwzwnTOCRK0Ir259CkZy6fR7h5+w9XDj+0efmz38OOIevhdVIFTGah8x6rIvq/g90gFpz6Rpq6XEeKyaHcPv5HCzQFs3xwI2L3eyCtVEVQGqn1zwG/fHPBCBXG6qPGc+Dkhfh7t7uE3XD38lt3Dj+0efiuiHn4XVeA4Burl3gWQfV9B90aFKWCJE3l5FSGuinb38Bsp3BzA9s2B8BYOQ5V4gYFq3xzQ7ZsDHqiwvCRxPoGbmzb+x745YICbAwa4OWCAmwMGuDlghLk5wCtwPFQim44l7TrnEOicQ6BzzgCdcwbonDPCdM4JMEUv0SdB19rzE9o5Z6TQOYftVrbkU3n4pF0ojqwGjuLWRrs754wUOuf+gWNX9lAVSCUHWDphafhIYKvnO41BT9tU/unZx6bMfWFc7Fmw8vahC8zV6xcanZt8FXN3yDLzfPwMo9m4qJijv642P+s20cjwR/H1WT+NM+EiSHUiwUYviRzHfWkvTNuy8Pe8qANSa9ZdvjiGdfJCEDKnUsSXzuTdHTjaQAvHbSg5ZkeKCOYsqw/o5xCSKqpHCOWIQ3o686wxvyuXeCfoiKLMfrUhmtg7M9rYe54ebLje6jioAeo6iF0UxU3VRJGBuqTbpVhCxZ+2a409UqFVFU6SjxHiMYeaGH/Y+O39aonznziiKL1PFtfpUyfjnvdIemH0z8I/RKRk7KaST5+BuvFqDkybDG7caog9UkG8L9Ge8ZOEeNKhXum92yhyr3biy0ccUZS7pVT0Sf1KqHd7Tp8x7pxFb7xbd9hFUdxUXuAYqH/tveAnVHxer4a9UXkQM8p0vz1NiKcdaqf/fWNsndA8sXX9CU6D5fllsQVOj0WXMt2KZbJwGCr5Rhmo1Q4+tWjzwWtdqmFPVEGTIZVENPsIcWf0f9fvIn+KW79rZctHxsw9ryQ2ObjIHHLmN/Lvsom/55prwq8Trl44u3D0qThTnwCtKAiKcJGM5aJjxcPxBcxG92MSS451RFF2zd1ijeLToTfa1kNzvj2o87Vaol0Ft0XgCUKpvCIzUDdd7Y7q7z5uLciV1++RCiIa2Sdz3BVCvOJQe40qYfJPlESjkyOK0qhHvNXo5b5obsls+tHFUfjrMZsDefo0w56pmsxAnT67GWo8p4TVeGwO7JEK4n1Z4hThOiFeB56genmz68AaieU2OaIoP9cbZzXIWgHVaiyi2umi0ZVyPJq++hp7vO+i8rLKQNUTG6HB2/Ljurcf+r1RwdOhvEzLyzcI8YZDvf0Lb74e0ySxxBBHFKXjs0LWkxKj0cafeuxksnAYqqhyDNTNsXVQ1vrfWWMKPrK8UXm4mmRBVc+mjf95I0t2M+P4Mok3n8wz4dcJVy+cXTj61PyPCK2o8qL4JxnLn44V38ud28w0vmLiwjvOQ/38nJa4asP9eqN3tluZn4zX0xfugtCWIHsN1EXlRJWBWifXtFhCtW683Qt5pIIjgayJivCQEB861GbDCpjDBomJQj9HFKVXppEWvXjxLN8Oi05TulunYyJRMnZTJVlloD7/PgqN/HlmYPC2ZsgjFRxEFCpA9YQQnzjUP9Si5sZ7euKC/o4oyvC42rjKoLwoc+1J1ocnd+qrRROdj80ZQUwQQqUXWxio7U/WCRAq3luvKfJGBc+I8oogSPIzQnzmUD+WSpqfnqqXuPGCI4pSvujtAL14cX4cxzavYag+SWCgLiuTDdFntZeerou8UcHjpTx9J5G7nTb+Z1WBzOZwf+nE/Vk+M+HXCVcvnF04+tT8jwytSB8zypaXHA3zJluxTr1DBvV13fgVTq0sbolOIhF9Tos2uFGhvywaiWib+kfgCUKoPk3gGKj5BrXDJOrCX3B/x3qkglOfIhHHkJMQczrU2Wu2G9SXT822Jpl65IdxOo1/spWeSncsRJ8RJzsW8koVRY6B6l/XGNP450ydaOSRCuJ0hQpQRRFilEPN2GqNQfeqyTMdUZS53arrJBJBMW3q4/3NS2IaiXxvbGHvwXBRyQGMgbpVQphEXbjEK+kDHqng1KeovKDmJcS8DnXt8gUG3YtvbnVEUbZtfttP45/Tah62eQ1DFQSRgbpxlI5p/FM1XU7kjSrB1aRyPiF93jTxP9Jfvxo0/vmu4DITfp1w9cLZhaNPLZmlwvFoiibQsayP/s9SLCmNx1bPCFL1jDfypTNHNMZBrskS87z0xCiV71yQH7XYrNHjoVF7w9/BeQMXmV32PzDKnIhKbK4sMqEtUvOn4HFHXqVPhRaw5+dFTxv4PcmVZLAS4Kk8fKLOhSMfHMUVcBbhG68+NnYnlE1s+NLisDj2pB3Qz+FV2iZUgRAr5HUrGQddSsaWrWSMbCVjFImSsZtKHCkD9XBCU2SrNlseqSCkUsmhR4ghxJi8biXjYAr6ybqtn2zZeinYK1XkVAaqrZ+s2/rJkVPJagVUiSfbNCFyed1KxkGXkjG2lYyRrWSMIlEydlOpbGp46gc1eiNbtdnySAWOR6Va0T5C9OV1KxkHU9BP1m395PAWDkMl0QAD1dZP1m395MipPlgVUWUSKr9GiC/n/c/6Xbqt34X+qd8VBPrJQaCfHAT6yUGgnxwE+snB1PWTRRHe8lZVgVP9ZCz+vG4lv6BLyQ/bSn4JtpIfikTJz03leYGB2q5sRmSrFiKPVBBSqZrkkw1CNPK6lfyCKegH6rZ+oG4Lb2GvVNknMFBt/UBk6wd6oYKQSuM5Tq1BiDXyupX8gi4lP2wr+fltJT8UiZKfm0pOzQzUPbeLIFu1EHmjwhSwRp1eLUKsldet5BdMQT9Qt/UDw1s4DJVMMwPV1g/Ubf1AD1RYgtIEEirLaeN/bP3AINAPDAL9wCDQDwwC/cBg6vqBVPYCjIdqUTUhY2mS161knOhSMrZsJWNsKxnrkSgZu6hUd4uBOqTMkQRbtVn3SAUJV40KbzUjxGZ53UrGiSnoJyNbPzl5mrxSJU5koNr6ydjWT/ZCBel7TVZVrgUhtsjrVjJOdCkZY1vJGNtKxrGRKBm7qZoiM1B75Cmt26rNujcqTAFrVCu6FSG2yutWMk5MQT8Z2frJ4S0chiqoKgPV1k/Gtn6yByosQWnkmCTXTRv/Y+snB4F+ciLQT04E+smJQD85MXX9ZFGEN8E1TZOEzmQsnR0r2lrxiVQrPnnHOlTIv3H5WDSwd4nAstH98JPNG2ILfbSF/STkoqqSzECdVnW2vvD7HPhx/XrYI9U59QlUjot7lxDfdag1cjUz3y9VKPFgXad8WKF/DN5VSkOX3s2u28KjViRKxm6qT5EZqDkr97PEcY3xpdHZsUeqAqiCIgk9CLEH2J2vtDQvZimb+NEip3z46o5XrNLXR6CYi38Hlo/tgKc0qG01vXWZvXzooqqiykAVN/2h534pCx45ScTeqCAFLCS9wNWbEHs71G7vdjQX9vMl5u7olA/vym9ia3J+1L3VrB1MFg5D5WWOgfr3j4t39szXEddb+MDyRhXhaqJvnLVNG/9Td00Dc9/QB8HTZ+eZ8OuEqxfOLhx9qkkuOB5JEVQ6ljRI2tn6yUGgnxwE+slBoJ8cBPrJwdT1k8mq8IHx0CdE+9nzE6qfHExBP9myBY2TT+Xhk3YOTtEk2hKhUly/vG795GAK+sn/wDEn7cRkYZ8kqsQLEwlxokMt1Uk2dxxIFzwz+9tk6vUH5bGRXcdjNm8PbOjxpzX1TEY06IYUwZEulCpzKgN1cZ7yFqGiOf6yyCNVBVTi0bgphDjFoda+XM28se1TXH6tcwM1cUcmTO/zfPJdTdobhaJ/y145opqviyopMgOV3memnZNSg5t+b9RkLRlCFagk1jRCnOZQzyvVzYs9M+GElk6jbdx3Jh6wpxheP7OHFT3ogHU/k4S65Hs5giNdKFXkOAZq5s8+CRAquvNhXeSRKgIqfcNoJiHOdKh7a9Y1z07Z798w27mdQW+K0/bxqIpN2eY1DFXhBQZqtfEt9Jtt+qCiGZbp3qiKCqnEyGMIcUDe/1zpweRPiXOJ1J8pVdl8+ZWBwUODsTlkL2/OXK0EO72+y4RfJ1y9cHbh6FNxshIHregjIdUCMpYFjhVvdSphbss9IPhw2ffOGwPnvtavZ82AS62rgzud6YG/Hj0wIcgfZQ8fXVQSPjJQr53bZGk/P7Fad2iAPFIVQBUVTlxMiIsdarmtRcw9rfoHm9ZybtvuqPmu1WH4xIT53YfjJldKJNB34ktG9UnwSlU5joF6vmo1POimUK3svMrIGzX5eVFKlXlFXkqISx3qylsFzQLT+wUzl/slmfpGzhL61N0Z8FtDWuJRhUbhEZ/VSjj1Dc8ePrqogiIwUO/mesl62OWxNb1CW+SRCnZuQSEO/zNC/MyhPnu5oLl9Td9g+tJXnBTwu9etqddmJByI7sI2r2GokioyUFf1y4nnDjpf7WJ8C+SJKmpwNdEmjY/Txv8UvVLG1FcNCFZ4c68Jv064euHswtGn5n8EaEWNfB/ryFjWOVbscls2W6/dGPzhsROJ7HmniP7eHQ11iquIHxa/aw3tkxOPfhbBc1wuKnHjDNR2K2IQoeK76mW/R6rsUKk8uRxHiHEO9cu4WPNAxf1BTj/gHJonZsE1i8frvn61k3rDKx+U4yLq+XdRZUVgoJ75Za+/bTHyLfbMr3ukaoBKQhF1EyFucqiHtBrm9mfngrcLOi9WDCs/1N/FVxD98LwhDlbfbdFLR6IVzb47u6i8KDJQlf01EaFisdNI3Rs1OQVMqeScwm0hxC0O9eiQeubZ7/8XnDr4hBNhto/CmfOf8lfK14xtXsNQRUlmoJa51l0vfq4HHr5qve6NysPV5BNkcWXa+J8bUYL54Ie5wULtd5nw64SrF84uHH1q/keEViTHL84iY7EcKy641TDJ1311K5BsxbGH22MSiejpDifE5lgTFaCRSJ4fInhe3UXlBJGB+nujtohEXWjKl4UDHqng1OejxfVEQkx0qPt/aZfky7Mtt5Kpgbg3MY1/Kh/OR/fJWHrbn+xYsV6pkigyUH/P0B3R+Cdjl9OWRyqI032KJnB7CHGPQ836QZ+kvWp13aATYRZsjUkkon++BVlN/npLp5FIqU4jIvAEIVSV42UGatMFbyMSdaHgJU73RpXAqc9Hq5bfEeJ3YDWtHJW0F4uXdyVT790qh2n806+SyTavYagkiGegBuqORDT+ad+/huWN6oOrSeN98ra08T+17vqT4p/GkmXCrxOuXji7cPSpJrnAeERO1eQBaZO0G9clp1n67dnBeVtWmZU25jfbtZ4UPP7TOnPuW8VMf+lRwR+rbzYtroyZJXZQsMqJ7Sa0RWr+VAInO5Herj9gz8+LJ0fB73mxKuBKgKfy8Em7UJxAPjiKO+Dgri0WzOKzBgQX7d0VFsectJMUGVIFTr1AiBcc6ssNJhi0q0Y54ISPXxR9mfa8Wb+uKIv77xxr0Z4332tyBO47lOrjRAbqsCuDcYbPJ1p9s3zr90gFIZVIX+G5RIiXHGr7I40N2jW04rqTPuv+SjSinXbC4Tewp5qvi0oOkgzU+v17JdGKnbvv90ZVwbYsyhzHXSXEqw61nVLMoF1RzT930mcPTmSgPW/W1D/r4mMbf0/qeSucMYL0mZuqyQzUvUs70f4+68z+frpHKnQ8io8XfiPE3xzqKxXOINr1VeOKkz6b0DVBp512F3M0w55qvi4qcXgM1J9+6IVppx0q95nujSrD1UTvh5whxEP/vdKTnO8HTra7EjBoVeKDxdhsfWGZQTvt9rfYZcKvE65eOLtw9Kk5WQ1aUeMU4T4Zy33HilP8yw1aVWpf3gmp5v3RAi38PgcavP157KVqwVha81XORxI+hlBVTZEZqDmiGtL6Nl59bUWCRyoIqSSa0v6LEP9yqB3WfWzQqtm2qw716YpEnVaab9/Nj4d+2xnT3qjlnykJnqmazED1lz+WVGkecfmk5YkqcyCkknhVER4R4iOHWq35BINWBV9f7ISPmtwc5X4pCzquK9ax2K8CtObbsUgE4aOLqskqA/WX+939pa+PwLe2V9c9UsHOLfl4VXxKiE8d6opLPQ1a9axs7E6mlqv6qU4rzSdfqs42r2GogsoxUBusvWzRSnN0Zt3yRJVgCUqi2rM308b/FDkRZ9BK892ulgm/Trh64ezC0afif2QeWpE+1JElH4HnS7biI/6aQbtqEovsddZpi01Wt5590e7A1cCuoTyiPW/fFPKxewIXVRVVBuqN91S0Js6wDv5UAXmkgoSrRFPa2Qkxu0NtEvXQoF1DP7V10mdroxcGaKfd2p9re+v5d1F9sspA/WVMC0Q77X5fFO3tfoMsgPS9pCiimIsQcznUhtczJHVF9Zed9NmF7X5r7cBB6OaC0Va1lk0R7XlrfTGCN/RdVFXkGKhZ1TzoyyNvWY16NEQeqSAFLGmcJOchxDwOtUKpbEldX8/nOOmz298U0Wmn3Y1AM289/y4qLwkM1AHvK4h22u3btk73RoUlKImcMbnnaeN/bo88btBOuy7jdpnw64SrF84uHH1q/scHrChzKi8XJhYs7FhxsnHAoF3Fi3Y65cMcHxTGQydbgXbD6+OoqB912vPf85tj7OVDF1UROAbq2ffnWFlW5kKnFtVBHqng1CfTlHYxQizmUJfVO2zQrum97Z3y4Zqmv/rpTYMb3wyn+ySiLSpkx4r1ShVEjoHasdZand402DknBnmkgjid/Am8XIIQSzjU3POPGrQrfInfKR+OOJIe947a6I+e3gafPnxVpz3/dSsp7OVDF1XhBQbq4xu7rU8+D+hTN7RE3qgwBSyLmqCWIsRSDjVH8R8M2vVeoKpTPlwd3UanNw0ebu7CNq+pU2nimYF6P98wnd402He3OfJGhSUoWVR9Qr58aeJ/Kk/ZY9CbBvqAvSb8OuHqhbMLR59qkguOR5Y04VDaJO0avXPPoJ12WmCVOb7dBYN22n15Y515qM0PBu20e7vNZnPQ3G8N2mkXd3+7CW2Rmj+FKXqZ6nOWsefnhRYp+D0vVgVcCfBUHj5p58KRD47iyjiLsHO2bwzaadfvzq6wOOaknSCrkKpKMp2wNHyEcNfpk8ab/Yfjx5/PMCc+OGtkSPcnjrs2y5QLXjbMSb7g2N9nm8cK3Takud2Dd5bNMyueemRUGTA9eOrRIhMuglQnEmz0sirxQrl8/7cwbcvC35P8gh6wZmT3nENx9GE3iivnTGT9y1nMIbPWB0e2/zwsjvk1SZ6DX5/m4wU6ienTOROZPWki1yH6QzxJ0s+iha2SfibeeDPpZ4C/XtIP8TBJP3V+rZr04/P5kn5eLATbw2EwsdnTwf9amuMLjkFHVSEm5n4rs5v+BPXSNsYUPNbOfNpeM+pmzlD5wYzOpvDrAOP5mvKVb0T3MguW+8SY26dR5Xr6e+ad218aX+3vVznX/TFmh1vYmLh0UuWKEyaacOGkOuFg76ISt1z5fP+3qF80N4LfA3WarZ8LJFmdrNsYe3jjWCY8BCerKsWVdyZ8556fjDIDF1Z+NHhWWBzzl6twwF8oPAnV3yHEdxxqybhJ8T0zjDPznotNplL5QCp/TZVa/uB8SfLXVAqbORhxUUmozk71U1Uaj1TgpRR6xbwLIXYBn1TpKfG53h1v1i8W47yV+GpMzM4ZpfHoojWTfvW8dZNigIUjpkqcyEB9x7+9Us3i8dbmWf2xNyoPEk+K5FPkboTYzaHWWvRh/PGECeYbR4qHWHjxivHWrxnfQp8eKBfT+eh72No0lz3wclFFRWCn6oSKPVJB8kKRVVnsSYg9HeqGLDPjj/09yezM50mmrr/aKiZQtDEuNPxltnkNQyUHPwbqxaq/Vsyc/1Tg7wVjsCeqDJOnikxG25oQG+b7b+EedRvkT9kAHDH9NV8enxRfqOw4c/jhtmZb/6T4IZXHmu+dbmDCrxOuXji7cPSpOFlFgFZUZUF8j4zlPceKVJCuwdFJ5r2ezZOtSEUq3zpYyoq7/jqicpEtfvVjbvwx9iueLqokqGxU/OaR0mj+oza6RyrY0hV6iW0oIQ51qFRwb4YyzTSnNkmmUpHKh1nfxC0Srunn+dcqPVAfWgWudcDeqCrHiSoDlYpUbiuSSx/TdHHAG9UHEk8qLwriCEIc4VCpoGAu4yPz+z/qJVOpSKVxdpGVUNOPqFxkzNSiOGff9exXzF1USeDYqLjYh3XRO1Nz6B6pIHmhCopPHk2Iox0qFUycc2queWlXzWQqFak8Ua09btLhL7Z5DUMlBz8GKhWp3PwwTn/2yLS8UWHyVBVkkeuTNv6HilQWKjrBRJNbmfDrhKsXzi4cfWr+R4RWFEVNnkzGMtmxYoty0+IrL51hHn/QB+5Y6LtrJp754JQ1InFJjG1F9mK4m8px7FREqLpHKgjuVTJ74oeE+KFDPbxgZnxU9rmm/NcgZ8dqXy+GShLQN87pNH1dV96QPVfxGK9UTeAYqL/3VSs+W1wc5d9ZF3mkgmhaVQRNnkGIMxyqfmJ2/Bu7PzVbFBkWYuE7ZVpgqqx0vdlHMbcnfGD9XmsoezHcRfVpAjs1SUXKG1UCiSdVlTn1I0L8yKGO2z8//u34lWbnt0YkU7uc7hxzs00fev+LbV7DUBVOZKBmOVFtPZ1TOrfeqDB5qtJT+Li08T+Pp0+J/2vpJDOn/K4Jv064euHswtGn5n9kYEWN88nqIjKWRSGRCPqXSASTSITKZaPII5FQqqAIbFQadekk6sIeqeDUp/EkZF5CiEtCIhEjhfjHehH/PNmVg3o9PTKvF0pVNIGBSuIf9CL+8UgFcbpGnxxeTojLQyIR418iEUwiESqXjSKPREKpZHtmo9KoSydRF/ZGVcCpTxNFlVtBiCtCIhEjhfgn8CL+YbJwGCo5DDFQSfyDXsQ/3qgSXE2iTxU/SbP4B4H4B4H4xwDxjwHiH4Mh/pFh05gm86JIx6Ln+2/p9n8Zz9UMb8bHr61lFqk91XwW0zp+cofG5viP3zdzp+sa32ltK7Per8PMfY0HxGdo2zXJt/puj4m3Gg40zY+6mNAWqflTRYTjIZvUant+XtzIAb/HeV08w4YXKwGeysMn7UJxCvngKG61g7s3/sP4LasmmPNutQyLY0/aaTKkEkeaQIgJDvW37LuCVad3Nz8b57xfQeWyv6lT0j+jbxbUr3MN/emJQdgXM4i9WuqiEkfKRsW1s3xkjb91SfdIBSGVRoW6MSFih/rHn78Gnw3pZuZt71Dp8+l9vztjzebPBCbdLbKh446hesOuEciDu6iKzDFQaTKWysgUnZzD8kRVOWdbljkq1L2LEHc51HZ/pkt8Vqu7+XyoQ6VJWOvK61bRffeoXHagXNQwPKTzUPb0mYtKziNsVFzziyWBsRmeeaVKgEqFur8lxG8d6mvbohNLPuppZjvsUGkStueXJfC02BJsFg5H1WQGKk3CrvrtC+ub974IeKIqqgapJFTeSohr/+OmQf6UGKpYRP4UeLGiHf9BcEuj/uYbw2aavZZ/Hvz4/V5mhfMzTPh1wtULZxeOPhUnq/LQilSo+wgZyxEQUj1ZEHz81nvmsn5LHEHVhBgUqFlNv1VIxpfyFEDSr1Xxsn472MNHF1WURQYqlcasGvOnntC8I/JIVQGVCnUfI8RjDrXQttXBIsOGmY/brEymHnxWCn3cLT+e3DAjplceD3Urj6vef93yStVUkYFaY+xPgbPpMlpv9h6FvFEFHlCpUPdJQjzpUJ/3+Dq49N5oM9u34F3IjvXQhuW5/JcnF6Ny2foRqwKeouRnD6lcVLKcGKhUGnPXklfRV3tqIY9UEVCpUPdpQjztUG/8+F3wyNvvm2/N3uhQ68Wgvrsr4XvvzbOYLByGSuJ1BurhflOskZ908P/WcgjyRuXgaqLPtOxLG/8zvueMYLaFA8wuReaZ8OuEqxfOLhx9av7HB6zIU6Hui2QsFx0rxp/uEKx1ZpKplZqdbEWa1OGPcbh2eg7T9AqaM87aU20ce/nQRfX5ZDaqvj/YF+Xe95HlkaoAKhXqvkKIVxzq8LstgkWmzjTP5prjvPx7COuPGr2Lx2zsavUvOSt5mrxSVUlmoNKkTlSgBmor19C9UUUOUKlQ93VCvO5QpxxrHnxQf57pfzo3mUrlsmu+ouIcx3lMn3yo8M2HCVtafbiT/esIpfoElY0a+3OuIWhS6RmWR6oPUKlQ9w1CvAF2swltg3qmpeaT6/OTqbRYefyPOnhazzps8xqGKoscA3U/Oqpvv9EJfdy4k+6NKsDVRIW6z6aN/4np0T+44qsx5uoaH5nw64SrF84uHH1q/keCVqRC3X+SsfwZGolc/WOcWc33PoxEAidmNse+SbmSIpHvR96z5uaoEMHpIJQqcCoDlURd+NVPOT3D7v+LujxQZUClQt0PCfFhaCQyPdsk82rxESHxT4mDCJ+8WVUnOxYiOxYiO5bulaoIKgOVxj/lY77Sxxt9sUcqiNPpc9ziE0J8EhqJlB0yzezefgCMRPxWyV74CL9Pp5FIjXorrMJlmkZwJgmlChzHQCVRF740aIL+dfMo7I0KUsBy0sOQzwjxWWgk8vz1j80OdXuGxD9HzlbDB//oGWCycBiqxAsMVBr/tHnyXP/0flPsjQpKUITqE7jbaRf/VFoyzOydbYoJv064euHswtGnmuSC46FC3WvTJmk3PvdAvOjr+mb361PN/vlu4pMfNDUXJn5oPt9aMdjjUWtz4JFp5rmEtsE8f3Qxb+QmZ0tgi9T8KUjRk/HIqpo+///Nz4sMBPg9yeoqYCXAU3n4pF0ojgp1Uxz9efHUdpFZwSxPB5sDY2aFxTEn7Ryh7iSqTxMKEmJBh/r3jYLxy/O/aWqzE0Jqg8W67NRr3K6DfzoyN4ZWwXu/czqCI10olfz/7FSLUJE3qgZCKkEiB8kihFjEob41KWv85ZINzL9j9jjXjr47tv77q29ZF7uNoL1R+KfOn27IXLVyjFcqOUgyUL95Py6GdrqXaVAReaSCbVlQeFUsTojFHWp2+V5ciwJ1zbbZDoVYuIhcXqfp0d/2bY25UX8k7te5RgRHulCqoHLsVIumgj1SoeNRRU1+lRIdaqVdZ+KW/FXb7JDRuWJV7cfF66oMvEA1LdnmNQxV0gQGaun1y5K6/ZM0Dz1RVS5krBwXTYgZ8//nSg8if0oM+VM2ACfbd5U/Xn2zo9loapzZK3eF+HWn3jaLNt1qwq8Trl44u3D0qThZDbR2k5BVkOQKZCAV8ofUfCsv7W6+c2tLSKX53qAYfaH+fzXf6SNvWu3yR/DEhYvKyxwbFZVsURG9NPWq3yMVhFQ+mtKOIcSY/CE130JF+poNyn4TUmneXiEDHt2/Dk4ccz6m+Fct8NA+OZFXqqxyDFRaaR4/Os4/rmUW3RuVByGVz8dJMkeIXP6Qmu/x9u+Zpx4FQirNB26t8P8+pH5SzXfy1kRrXumX2MNHF5W22jFRURepOrqab5zukQp2bp/ok1UfIfryh9R833trpPlx890hleYenXPgPoWbs81rGCo5NTNQaaWZ/72VvvC7NbonqqrB1USfaXktbfwPrTRnTNfF5DtsMuHXCVcvnF04+tT8jwCtKPOC6icD8TtWxP8bHt++wDhzap0NIb3hwrp2mKZb3ji1cUOrhzPpu54ReIJQKon92amIppY8UkHC1UdT2gYhGg4136gP48tmn2J++kqcc4n/aYsXHelJveHL46/FnM4wZYNXqiQJDNSnozLHFT/XA+1HRy1vVB9I3/tU8kfUIMQaDnV83Lz4tSdmmY1vxIdYmM/cEpcZXduaMOXKhtmt3tXp/S32bzKEqnGCyE5FhKp7pIIUsEigXC1CrOVQl7/zWXzZVvPNPWs2O2IKdzZXsm+QsM1rGKrPJzNQv9v3ZEPbYqPQiaO85Y0KS1AixxO/lzb+58HGtvFtyvc3a/feYMKvE65eOLtw9Kn5HxFakRz6uCZkIE1CIhH8L5EIJpFIgPb8Rx6JhFB5jRPZqDTqskjUhTxSwalPpCntZoTYLCQSCaYQ/+gv4h//imJxZMdC9B1er1RREBmo9KbBi/jHG1UCcTptPuNaEGKLkEgk+C+RCCaRCO20w5FHIi6qJrNRadQVIFEX8kgFpz5R5nmhFSG2ColEginEP/4X8Q+ThcNQBU5loNKbBi/iH29UWIKiDynJddMs/sEg/sEg/gmC+CcI4p8gQ/yjynA8iqLIdCxpkLTLfa52/IbcdczG6GPzRG0zvs479c2Z+RaaHVv544/Ma2I+/ny5ublkbHzHRW+bW4+vMaEtUvOnMEUvqj5VbGvPj70q4O95sSouL9q84cVKgKfy8Ek7F458cBTX1sE17KbHr1zfxSxyeVNYHHPSTlPgJqhxqjqQEAfmhz1vxr/0vOnjb12yaHol4p43F5VXRTYq7e8LzOibBXujqiCkkuhV4MGEODg/7HkzUui0wy867Z6iNZHXfF1UcpBkoNKkzotOO49UsC1LgqpywwhxWH7Y82b+S8+bf2yGZ1bV9i38Efe8uaiaIrNRaX+fXnTfPa9U4HgkEoMIIwlxZH7Y82am0GmHX3TaMVk4DJWYmIG6eVZ/9KLTzhtVgatJ5DS5FyG2/4+bBvlTkvP9oZUeA3TaGaDTzgCddgbotDNBp53J0GmnadCKkiYJE8lAJuaHNV/jX2q+VobdMq0044hrvi6qKskMVLu+jXyTcmEvVInjQEhFJda4KYQ4JT+s+RopVJqxq9IcUc+bm+pTZAZqjbE/+V2V5kipIKSSVEUSphHitPyw5mv8S83X+rp5FO15syKt+bqpqqgyUO36NjrC77M8UpO1kAXauKnJMwlxZn5Y8zVSqDRjV6U5op43N1XSBAbq4X5TdFelObJOOy25BPV/Y+W4MWnjf8b3nGGASrMBKs0GqDQboNJshK80SxwPrSgIkryADGRBftjzZvxLzxvOve8j/fdaQ3GkPW9uKi9zbFTa34dqp+eQR6oGqOT/iosJcXF+2PNmpNBpZ73otOv42/WIe/7dVFnlGKjPFhfHLzrtvFEdVXRClUist5QQl+aHPW/Gv/S84UmlZ+g0HRppz5ubSmI9Nirt70M5jvPII1UCVGrizwjxs/yw581IodMOv+i0Y7JwGKooiwxUmoR90WnnjcrB1UQLwx+njf+J6dHfAJ12Bui0M0CnnQE67YzwnXYS54NWVHlBXUcGsi40EvmXnn8roXnHpEgk0p5/N5XzCQxU+36DdavQ/0VdHqgqoGqiJMcRYlxoJJLCTQPsumkQUc+bmypJAgOVxj+umwYRUh1VdHIM4jRB3USIm0IjkX/p+cdf7alFe96sSHv+XVSeE0QGqn2/IXB5cjHkkSoCKn3vcwshbgmNRFK4aYBdNw0i6nlzU30+mYFK4x/XTYMIqYIKqbworky7+AfcNDDATQMD3DQwwE0Dg+GmgSbB8fg0TmyfP6067RDotEOg084AnXYG6LQzwnfakVWhgPGIEi9ss+fH6bQzUui0S14J8FQeNmnnwtEnUSluW0innZFCp12KOOaknaxwkMrLKp2wivn+/7xGmcLk0V/XLfHnOPogIH0M8FSVp3EVN98x6ES27RMV37NDVnPV25PN+FIl4i8aBc2o9pPMUg+rkH+XS/r34A1GfJtSStL/Bi6CVCdSg2NUBfEbe2HaloW/54VlF775fqUX1ozonrMLJ4s+geK+cSZyaUyr+J96NTJP6B+GxbFOpMSpMqTKinCOEM851PlducSnM88ad4LO8pnYOzNa0u1SwqftWqOOgxqgYMP1VtdBzyM4m6sg06wJ5GzORsWzX22IN/aeZ3mkgnYPTVRl8VdC/BXkfN+vlpgYf9iY/8SxMHppCOp9srg+7nkPvdfUTzfQvGgkUtpuKjmyMlDpnNLs641bDbE3qgaah0iA5RMuE+Jlh1rkXu3EK713Gy8fmZRM/aR+JfTX3guB83o1VLpoSTRj3DnLulM6gtg4lEpiDjYqvltKxb3bc5ZHKmhA0chQuWuEeM2hbp3QPLHT/74xWtef4OTyT49FBc4vi72U6VYsk4XDUEVeZqDOaX/XqnbwqfVal2rYG1WBq0kloc6PhHjgP+7+5E+JoVfrXQJyM/e8kriy5SOjycFF5sw9ZROHnPnN+D3XXBN+nXD1wtmFo0/FyfLgtrjC0Rdg/0cG8j/Hio3uxyTWqXfI6MavSLbiKD4dyjeoHfqC+zuBr9USNSr0l6Vt6s8eG0OqrGlk9hio9XcftybELbHmtGiDPFJVMFZe5NQ/CPEPh8o/URJnr9luTM22Jpna6OW+6MgP4/RspadaX4/ZHDi6OArn6dMMe6WSfYaB2nhOCcu/rjE+UycaeaOCZ0oVjlZ/HhDiA4fadWCNxIyt1hiTZzrngAZZK6CtEkIlXknvv1KOR/ubl8TfG1vYY2MXlWxoDNTB2/Ljud2qWzFt6iOPVBFQafXnMSE+dqivxzRJXLt8gXFzq9MA96TEaLRt89v+02oetnkNQyUmZqBmrf+dtXGUjqumy4k8UTkNriZa/fk9bfxPxvFlEqW/fjW+K7jMhF8nXL1wduHoU/M/ArQirf5kKpAuHf2xrZhpfMXE93LnNhfeWZ1sxaoN9+t1ck1LuPF2L5y+cBeU+cl4HW0JRuAJQqmqJLNRLX4O8TvvbNc9UhVApdWfrISY1aEOGyQmNhtWwBT6rQ9556VXppHWs3w7rGHtViZPk1eqT5EZqCN/nhl4/n0UGrytGfJGBc+UKhyt/uQgxBwOdeM9PfEPtai5oL/Ty1BlUF7U/mQd/956TfFq0UQfntypn49lbyh2U1VRZaPi4XG1Uebak3SPVKfmpPAcJ4u5CTG3Q/30VL3Ej6WS5sYLW51HJ7uNQOWL3g6cH8exzWsYKi9zDNQRylJrWZlsaOnpusgblYerSSOR7d9p43+G+0snriqQ2dyf5TMTfp1w9cLZhaNPzf+I0Io8OWQWJBYsWCAkEjkcX8AsOfYTGInom652xwty5Q3QSGTOtwf1XQW3sZ+EXFTiChioJOrCu+Zu0d9oWw97pMqASi80FCHEIgVCIpFeo0qYRqePQuKfRj3irbkls+lkx/KTHQuRHQt5pQqiykCl8c/02c1Q47E5sEeqBqiiLIjFCbF4gZBI5Er18ma5TTNgJIL0xEa47u2HARqJ1E4XjaavvsZekXVRFYFjoJKoC/9cb5xeq7GIvVHBM6UKL2k++VVKLBASidz+hTdLDJkWEv90fFbI2vhTj51MFk6dSq8dMFBp/LM5tg4aU/CR5Y3qg6tJUkUuukCaxT9vZMlu3nwyz4RfJ1y9cHbh6FNLcslwPIrMcXQsO/P/t+zrv4yHSrdQCRcq3zKiMQ6+kS+dyTVZYpbKdy54Xnpi8KMWm7U3/B2s0eOhMW/gIrPMiajELvsfGM0Vev50bJGaPwWPRyrEnXLqa/b82KsC/p4XqwKuBHgqD5+0c+HIB0dxrzmLcHdC2cQ3Xn1sNHxpcVgcc9KOV8AmyFMZPo0QNYdKhXqpYC+U0s7w+UR92JXBqG+WbwNURpvKaUcipe2mEkfKQB1+9i/9i6Iv419XlEXeqOCOqCLwvMDFEmKsQ6VCxFSQGEppU/FuKuJNBbzpzWOqtRWJlKSbKvAyA5VKA1ERbyrg7ZEKtmVB0EQRESJyqFRomQouQynt899+r+9d2gmd2d8vSUabymlHIqXtovrIoY6BunhbnP7gRAY89c+6yCMVOB5BFCS5OiFWd6hUSJoKSkMpbSreTUW8qYA3k4XDUH2SwECl4t1UxJsKeHujKnA1iWSzEgixTIH/tmlQFSq65KgSFXCyVOiMCp5RsTMq3k1FvKmAN/w64eqFswtHn5qT1aAV6b2BBmQsDRwrUqE6KlgHpSSzrMyFz74/Rz+1qA6mMpJUTjISKUkXlb5yz0AdOtny5/igMGo3vD7ySAUhlaD4RLExITZ2qFSIjwryQSlJKl5JRSypgCWVW6ayy5FIabuposgxUKl4JRWx/H+9nXd8FMX//wHpJRRJoYnwoZewt7e3t0tyOzsgVXqT3nsx9N4RBQRROkGkSRFIQEBpuZ2jiATpCFKkSFeqoIKg8Ju5b8K+9x4hN7f+HuHhPry/5plp73nPvN8zLyZgaYsqgmdK6Z5AccjNKLGZSWVCg0xwEEpJzl3pNZ7d2cekJAmTkWRykqFISQZSVYfIQe0fttk7+lhmVGBmO2STClZup+AQlZaU2NKkMiFFJqgIpSSZeCUTsWQCllwtHIQqihIHlYlXMhFLJmBpi+oAIShKpa5yrYyxP0y8kolYMgFLODvh6IW9C2ufjv0RX90WV5yiwo4+O9G6dDJbkQn1MsFeKKW9NlHX7gxVyA/nKxEmo83ktEOR0g6kUg+Ig9qr7/tEbfW1ts9702OTqgCqS3bIXSmxq0llQsRMkBhKafvFuwss9jIBb9hNdqluh8hBZeLdTMSbCXjbo756ppRR2QFaD0rsYVKZ0DITXIZS2uuPtdByKPlJoz4NCZPRZnLaoUhpB1IdisRBXTd4CLmyw6PdXTROs0mVAJW9fdKbEnubVCYkzQSloZQ2E+9mIt5MwJurhYNRVZmDysS7mYg3E/C2RxXgaFKoi9k6Y+wPE+9mIt5MwBvOTjh6Ye/C2qdnf5ygFVV29DmY1mUw8ESe5NozzbNc71jReNWKm5dPQLnDGnrX3FoV+3xLQuy1GF+s+/KEECyBlSrIEgd18ZHcZMEfrciwHS+TbFLdgMoeTB9GicNM6uTSUXs6bfhM337TpO4traJ/Vu3R7j98k62TBlO/DUVKO5DqUiQOqjSxMfFUPGmMvn7asEd99Uwpo7LbBSMpcaRJvZq93J6YllP0Ckt85itIt0eji497e+/tqGFMa1DHOBm71du56OgQLIGFyl6X4aDmC89OVLklOaW5NZtUJ6Cyt0/GUOIYsJrFOfesutZXj9bNG8fGR2+i8tU/106H1+Dr1yBUp6xwUPsW6kwarLtuFMimGfaoIhxNksMt98sY+3NwxBNf0R8T9Yc9DAxnJxy9sHdh7dM95IL1YQeurC4ZcGjHxLuZiDcT8Gbi3UzEmwl4M/FuJuLNBLyZeDcT8WYC3rAt0rOnr47oWX1klySNT+mflFEBy0kdFXAkwF158EM7K85NJxzDjTdxTLybiXhDAe/X4bgP7UwBbz9VlJR5lDjPpO46lMlXuquMz80xj8/0XBpZkr+iNs9Tjkw/9wZK6POnMeSOKwTzbaXS7SsfFd1+UhGN37LDY4/qBi6VqooOeSElLjSpd7Z/Tupcj8EV1yVb7vns2ZWVzP3+HaLXuBx6zDeA6nSIHFTX5HFoctdlHleDux6bVHNZpvtIQRLiKTEemO++Wclldw2c1No8Phu0vzjJtmKu58GMeuRxVhcqMOSQ0b1QCMdnAVSHU+ajosTvMdr4SR/NJtUNqKLTJS6lxKUm9cK0ZM+Bd+rhhDnm8VmPKWHGF3vzkbDKzfj6NQhVkhQO6t12A1DMpFZasSzLNHtU2QGpokueRYkT/+OiQf+UV+f9wMhGvDXYd650ND48jOBP1rh9ww84cNcKezGcnXD0wt6FtU/PyCqwFSWHQ1xL67LWbMXt+Qb5Ft1riLfeM59TuZ0jC/mtUXsybX0Rz7fjBiflXhvmzX8iFPfRSqW+MgdV/fm5MeFoR5TpaFKSPap5R5Q91ydJwnpKXG9S97cZ6Eu+2AHnXG66j51GTU3yJjYl0UcL+V+5b3KjZFKpsAFJdqkup8xBHXJXjPktS2/0Rvezhk2qE1Bl1SEmUGICWDxnxvlyfDAAr6lnuo/T92UhzRa9R3zXBGP0itpJTf5qoZXuGor7aKG6BUHhoD7t/sy4FdkWrdyGNJtUGVBZ9utmStxsUnesfd+36MuxWLpurtzTb81KenSvPImrgvn6NQjVKQoc1PlDLsd4641BHQfWNOxRFTia2L285Rljf7TVg3y1H3pwY5eB4eyEoxf2Lqx9OvbHKcBWZDm3u2hddpmt2HbdZl/3+zI+8cz0RIY+UFGHVVXJQ+W6l70w87TEQ2PcCwe/JQigKorCRyX7uxQ1uiZWRjapqkmli7ND9FKi16QeqpzsW58YiwXNPD57p8QmrdLU7MQZV4egKcUTQ875D6BKgsJBbV98LDl38YBndN83NXvUV8+UMqroViQfJfrA7HhxyXdYrYnvR5rHZ92dkcid/A6Ruo7x373z1dhnSEYBfksQQFUUgY9KRlYc4T3xsiGySXUBKst+3UeJ+4AncuR33/Hh9fH0YebxWbY3z3gmdwwjVQo15+vXIFSHKnJQS1zqQ8re6q2NWr1Rs0UVVdVSV0HYmjH258mJ+b47YSKO6rgXw9kJRy/sXVj79OyPCFuR5dweoXU5YvVE7nUtiZ8uOwI9Ee3Wpa+1tp0aEOaJdD3Xh/gcx/nDhwFUtyxwUKnXhQpe+tYovaEusklVAJUdaR+nxONWT6T8N0Vxs9qnLf7Prnd6Ggt7j2LrJKErVixdsWLtUukCxkFl/s/l6jGk3IJoZI/qBH66Q5Fd8ilKPGX1RL68F4mzlb8IPRHtYd5wbWal9oR5ImOjxpIzOx384cMAqtslclCp14Vq5SlptBjeGtmkgl2fg2W/nqHEM1ZP5EVEJM5c5obF/+nQ87ZxqEB3vn5Nlyqyg2cOKvN/VsflIVc3tUL2qA44mlTFLR7IOP+n2I2yuFLTAxjOTjh6Ye/C2qd7yAXqIzpkpzgxYw7tyrw3xzexex68YNtq3KHth74qm9/Ep85vwJ4yY33zWxTHP9XYgrPHDvEZQllc7ccdGLZFevYUHNE7RXbn/lxK/6SMCljOq7UQjAS4Kw9+aBeAoxOO4c6ZuBKzB/luLRFx/IG9QXHch3ZOlwqpqiQ9oMQH1py3+VO64s+mz4Y5b8bRpGZk46TFGst5u3C3ALn+RggXVa1Utm3moGZZOdV4eeOG9uu+tsQeVQYulcien39EiY+sOW9N6sbhErtnWDLtjnYbQJ4Xed9ezNdKddGNJAeVUc7eua1VuNKI2KSCZVmU3U75T0r805rzNvrKWDx+6ocw5834oGZ/Er9Y1ljO2w81DCPXyxAuqgZQ6U6Sg3r5uyPGN6PyotFfxRCbVGh4FEFSnlLiU2vOW9GZU/H+p5MtmXa9/upJfBOyemzFfAOoDknioLJMu4/z/g99MzzWXnzb6YKjya26xNuUeOG/R3penfcHRHpGOBvghavj/Zl2Wfe1wpMvzcNwdsLRC3sX1j49I+uGragqgpIlnE71cEvMd+SjRnhCt7kw5os+rj7HePZufcRivsvGxZGoT7eFYAmsVLdD5KBuXj6B7D8c5R3cv6THHlUBLhXbNcvZKDFbuCXmWzNvc/xDvU8tkeZKA6uSaz1zaSw3qkyL1dqeGi2IXaroFDmoLNKcJzrOuDYuF7FJBS4VNQWCkpMSc4ZbYr5ZbrTGn8bPgjFfJH39hzHmQwmxmO/yCZ1Is3vXQ3AfrVS3IHFQy9weTd7e9ZZW9eq/HptUsHIzUS4hDyXmCbfEfHv17Izzdf7YEml+KDclvdvM3sXVwulT2cEzB5VFmv/9acnu+oufGPaobjianIooPc8Y+8MizfXWNsBnLyzAcHbC0Qt7F9Y+PfujwlZ0yYoQTlswPNyS83ahaxP81bE1MOcNDS97LHZMzl0Gy3mLmd6b7Li9l/+iagDVpUgc1LWJulF7xRataY5+yBZVEsCBq5MdaUdRYlS4JeftdMmWeFqTjZZMO6GMSAorOw1bOf8BVIcgcVBZpt3MFjFGm34tkE0qOL6nZkERilFisXBLztuQGe1wRLOvYc4b6pO/jJFn6EcGy3k7E9aKZOuSl391DqC63DIHdf2xFsZXR3KiKG9TZJMKjoDp0FLFtyjxrXBLzpt7Rjdcfc83lky7bsebkWsnqhq2cv4DqIqicFBZpt2oY1U9IxrXR7aoThiCcrI3WMLCM8T+sEy7xT0a4rHXl2M4O+Hohb0La5+O/ZEcoBUlh8slVqD1qRBuyfl/8rgb3v3nSpjz7+1Q7g3SZXZb/02DEU9zkXO/hvBQRwBVcskc1Oxf5kVxx1uisHnJsTapYNfHkpqFypRYOdyS83+t3SB8fs8ay02DU5GDybRLH/pzo+iKZdAVC9mlqm6Zg8puGjTonxkVzpUf2aOKwE+X2D2caEqMDrfk/N+ZOgFn9ayHOf+e/feLkqLx9f03DVxdNhj1v97K/1BHAFWSFA7q3JVe7cyiAWjAjKJem1Sw66NjSZYclOgIt+T8Z3nrI/yoTYLlpsH52b2JPjcPX78GobplgYPKbho4S1VDPVfnQvaoMAQluajDUCpj7A+7adB80nu43K0vMJydcPTC3oW1T/eQC9bHTTeyFzIu0+6t2oXwJ3WW+jPt2hUvhdv2W+LPtGtyoRqObBvvz7TbXl/DP0XGY9gW6dlTeEQvuVWnLKX0D8i0Sy0Hpr6ljgS4Kw9+aGfFKXTCMZwUbsm0O1u+OR5xNziO/007lwNSXarIOiwDHydkgmd7z57Wn62chbNk+pNMfXJBT7w1G+MPnT458ro+4bc52DW/t+9k1H39wbIFuNqgmb7KZ/7Wz/wdj+EgSK8jnWChl9hlXDn8/wZmSsvCclJbFrZmaPecA3AKtWIUJ5sdOXz2Rt+717PjMR1XBsVxd6Qkg30Ae3hZbkeJ7Uzq2xGlq3X/qaDvTKE9FgXebcuaokPtPtVONs6XcHnzGo2JavOvTVaqQxX5qYRSDXtUN2hhFzv07UiJHU1q6TbVq3UY1MSXq495nL6ky5mEQSOHIPasChuXfxY5kdD6xMEqdql0M8JB9SwekqrnTGxSwT7AxXLPu1BiF5N640zzapOLTPPN+NawtPClC+3RwXnxnsIHq29kt+i/yD4hBI/cSnXKCj+VUKrXJhX4ki62DnenxO4mtVT0+9U+KLzO98YLk5p4/4eExCJt/Mp0XC0chErnKwf1vbAVVc/n7ErYI4X2qDIcTczTaUGJdcL/u54Y/VOq0j9lI1gt27W5F91t0CWja7Xv8ci+earlXLeexCfsw3B2wtELexfWPj0jq8BWdLtE4X1al/fDLcrKrg4LSIHnP1iUBbNfqIw+bXLYr6z8dHsFVHl5zhAsgZUqiRIfFRV/Udn7tHdVZJMKPB2/cMkgShwUblFWjn7yI6lY7phFz1lJUtGhXhHEPWJ61TLFSpHcj2vbpqqSxEFles5/PnvqPfRFssceVQX7APZyjDCUEoeGW5SVv6sR5qvz3UmLsuCtcQ3Qy7nddjNl5Y3O3Cj51GX+c9AAKt1k8lFR3o+rGl+cqYNsUsE+QGZh5xGUOCLcoqy85LnLt/jQGYuec+8RtdDOWyX5+jUI1S0qHFSm57xp5BLjzg9jNHtUtwqpLqfcK2PsD9NzLtywJnmzSTKGsxOOXti7sPbp2B+XAFuRHZ1PonWZZLbiuwt/iK6061NvvWtnLAq8ncud9f6Qtz1pVqBI4qTI8Yj1J/fsCKCKqsxP9VAqskkFWwWZPV31ASV+YFIfbzmQQr30irrom17MD0c/be3g1/3NcyRr9D8zilexS1UcMge1HpmfSkX2qA6wQZFl6mF+RIkfmdQZD5Kje1aoZWT78WZaLUyODS6W2sIe7tkRQBUVhZ/KRhOySQUxJ9ntEqQZlDjDpH6rn/bPo2oL77+iKgPWJ5Q+7fAruHK1cBCqLAgc1LDcSsJ7b8/S2JPftqiSCkeTWxKU0Rljf25OP+vvuVmPjmI4O+Hohb0La5+e/RFhK6qiLM2jdZln8UTIazwRD/VECPNfQ/ZEAqgOWeGjMq+LUK/La5MKdn3sJVhxISUutHgivjT8Hy3V/3moXUtgz5fTFQvZpcqKwkFles6p/o89KtzNU0srS/GUGG/xRHyv8UQ06okQNi9D9kQCqA5Z4KMyr4tQryvGJhXs+tz0P3kpJS61eCK+NPwfT6r/w9XCQah0OeOgMj3nVP/HHtUBRxPL9ZmVYf4PAf4PAf6PD/g/PuD/+Dj8H0mC9aFLh8DqooT/Z2mYtOozsqIjYerjiXqRad/i/30wtmqBwjX1y2E78JmmlaL/cGXXvR/twmN+mh79Rt9FqOavXlzuVFL05qGbtOnl9mLYFunZU6cM60P9jeUp/ZMyKmA5qaPim3Lqq5EAd+XBD+2sOOr7Cwy33MTFHM1STd7SjBzbmhwUx31o53IpkEoN6beU+G24RVl5/rD39QqnvrfoOZ/f/btW/eT7GlNWjryRRzt7LgS1vQAqNaR8VFT3y6xow1Kf1x4V3hF1Ky5Z2EmJO8MtyspfFo7TN9X63qLnXPDGKE/mmpeMKk//qOqaPI6wO7J2qbJL5qCyw1d2z5ndxLVJBcuyIjgVKYkSk8ItysqNlr6vn9r0vUXPeWLHTCip46FYpqzco2mY9k7FcfxbugCqpAh8VNSvzjOtaNxvHptUYHjopkCVCSWScIuyctuCA/SX+ZMtes5l5e2e/Y9L87VwEKpbFTmoTM9ZfVrD82/vBMMeFUZLaF0FYRMlrvyPiwb9UxLY1Xr6p2gBemKXM/fVzxz8wa/nPGFvf71Uq2QMZyccvbB3Ye3TM7LwtrjCAq7JtC7J4RZlwSnjv9K/xacses6OztVJo6EHvExZ8EBccRTWNncIlsBKdcoCB5XpOSe/WRpl2VoL2aPCO6KK5Fakw5R4ONyiLOgo5NPX7P/Jomd4Ic9UY90F1a/AG9Ntr2fU9Sq2qYoicFCZnuGWxsPR864TNZtU4FIpsuiSj1HisXCLsuBa7yl98Tc/W/Scr/cvTJ4+rudXVl4xrC660/xoCLPDSnW6RA4q03N+pj/VRnTphGxSwcqtUE9BOUmJJ8MtyoKnXNf1LZmvWvQMY3KuSGrcIZavX4NQZVnioDI9wx1VOqEZo09q9qgwBKW4qau8N2PsD9Mz3N/6Uz2TdgzD2QlHL+xdWPv07A+8La6o1Av/mdbl53CLsnJ02Ta6ePC8Rc959809xukrPQhTVu42401PsjolhNXZShWdIh/VOPtJcfIPqoFsUsGBqypQT+QyJV4OtygrV2zeRP9o+VXLOy/HS2fV5uTtR5Y3KZaY2k12qW6XyEFles5L4694x+6vg2xRZQEc36uiQ1SuUuLVcIuycoN+dfR6M3+z6Dn/dJQY7ZsP8N+9qx1dMqbCvFn8rwAEUEVR4qMmHYovQaZsqYdsUsERsOqUJOEGJd4Itygrz52t6WjAI4uec6eFNz17Ihvy9WsQKt2+cFCZnrPHkcUYsbAXskV1wRCUyvLCTmeM/WF6zltIFz2m1CkMZyccvbB3Ye3TsT8yvC2uukRBeEDr8sDqiYyL+RWtanPMoufsq98MeTsU9Os5bx1zxdhUXOBfnQOoDkHioDI95zYvVHLR9bPXJhXs+lTZJSqPKPGR1RPZmG8cml3qpMX/udHmptav2dt+PWe6YnnpioXsUmVR4qAy/+fb4ePJ1cffJdmjgmdKnaoiCMKflPin1RPZ/WNv7YMPT1v0nP++JqE+UyS/nnORGmXIw35F+VfnQKoqc1CZnvNnC+m6cvFxrE0q2PX5X/J6SolPrZ7Idy1vGjPHnLP4P4dydNNciU6+fg1ClQSFg8r8nynTh5DDC97S7FFhCMr/VtrtjPN/vjpeVW+nHsFwdsLRC3sX1j7dQy6zPpIgqG55ZcYc2jE958RME/ROxXf69ZyLFBmj95uf5NdzdqHh+j83fH495w+mDtTj//0Ow7ZIz56CI3pJYE+RPk/pH6DnnFoOFFhOHQlwVx780M6KE+mEY7jn4RY953y+nvrQxKNBcdyHdrIpPsyooqIUjMiUiX0p1L/fabrpy83F8Ki5Ry2xQXbA83C16gm/lS2hesdW3mprQnimK4BK95L8VESpXntUcEdUEpjyRGFKLGxSTxYZvumrNZVxq9LmUpX3719SU3b9EcnMmcOjR59ZsNEulW4kOahxQlgiE+CrNviKYZPqAlRqaoRISow0qY2uztzUu10MLv7VcUsLswPZonJF4+H+GQlx3Wpqd94dE4L5tlIdbpmfiihVs0mFhsdNveWilFjUpH5xaemmB3Pq42elzCOY37tsqMryGFk+I1cLB6FKisJBfbE+PJEJ8B252cKwR5XgaHKLqpybEv/975EeQv+URPqnVAFGdmfT7Jv+uv1Er9/1OF51svIm/G0evO7FUQxnJxy9sHdh7dMzsjJsRaZoVIbWp0yEJebbektWXH/5GUuk+VJsFZJp9rf+mG9U3r+NOWdCeKYrgCq4ZD4qafFzuHFwbUVkjwruiEoOdqRdnhLLR1hivudG5sb5fOctkWZneC5S70BNkrNpscTHW5ui26cL2aa63DIHlUWaL+zd7imsvKHZpEqA6qDbkUqUWCnCEvM9W6ggPj38siXSXL35O6TXL90NFvOtl+mwkXljCG/rW6kibWI+Kpmep5W3RlgDZJMKVm6HU5SlqpRYNcIS8y3dKwp/ueW6JdK83VuQHP5fE75+DUJ1ygIHlUWaq43voT2/vEqzR5XhaHI6ZKVExtgfFmnevf6lXrf8KQxnJxy9sHdh7dOzPwpsRZcgSm5aH7fZio/C5iRG9r6gF024ZMkNn6knaDkKNyAdswvRrFV/zXeQ//jMSpVUUeGnGpSK7FHBHVHJwY60q1NidZOaPVftxEILTur7O5h5YNOiT1fqvGuE0bDHSH9G+oIDamJ4H7GqXaokKRzU+V+UiWZzkeWC2aQ6AdWtiJKHEj0mNeynvxNmzzuiz3rnvqWF6+zKrYX/3ZYc/KN2NLOC7YS3+Y/vA6iqKPBTDUpFNqkyoKoOp6xTom5Sr+6Ym/DV8MN6o5p/vaJubIWqsnx/lvfP1cJBqKJT5KAOrZUzmq2d7I6DPaoCR5Mq0I1mxtifj385lPjX7Vv6r41/wnB2wtELexfWPh374wa3xSVRUFS5Pq1PfYsngl7jiWjUE2GZdihkTySQKgh8VOZ1Iep1eWxSwa5PZEfaDSmxocUT0dPwf4xU/+eGVDearliErljILtUpChxUdtMg1f+xRwXPlNL/0cnShBKbWDwR/TWeiId6IizTDoXsiQRQqQHiozKvC1GvS7NJBbs+/0tezSmxucUT0dPwf7yp/g9XCwehUn+ag8puGqT6P7aosgpHE3srrWaG+T8I+D8I+D868H904P/oPP6PCOsjy27x34w5tBs3vkLimuFL9UsVd+FJ3pmJJV9s16NWGbjjQSNxW5nj+rar+/CF5b8mqp/c0Nf/mIxhW6RnT8ERPbtfqAitUvonZVTAclJHRdHLWV+NBLgrD35oF4CjE47hWpmDsFOh/JsqfZwJF/3qVFAc96GdGwgHUaqqSP0psX8EzHnzvSbnjWxY6vOwI5aQc96sVIWuGnxUlt9nVD/5vmGTClwqUaUbyThKjIuAOW++NDLtUGqm3aNO5UOP+VqoToFuJDmo7JgwNdPOJhUsy06H2y0PpsTBETDnbc9rct6MonG/edmRaMg5bwFUxS3yUVl+H0nqeCjJJhUYHvbOvTKMEodFwJy3PWlk2qHUTDuuFg5CdSgSB3XL7IEkNdPOHtUJRxPTxelBia0j/tuiQf+U6NTzfmukxwcy7Xwg084HMu18INNuD8i028ORaed2wVaUFEmZQOsyIQLGfH2vifmii66fPdfyF0Yhx3wDqG6XyEFNiW8Tb4eCyB4VPFMqsRuN8mRKnBwBY76+NCLNKCDSHFrOWwCVLmQc1JoTznsDIs2hUoFL5XTLkjKVEqdGwJiv7zUxX/TPxcdJpT59pIUc8w2guiWJg5oS3yZ9pkjIJhWs3E667xKmUeK0CBjz9aURaUYBkebQct6sVHbwzEE9GjfNCIg0h0iFISinosjSyIyxP5P6zvKBSLMPRJp9INLsA5FmH0ek2Q2eKZVYFESYQ+syJwLmvPlek/OG/kE1WKYdCjnnLYAqixIfleX3aaev9ED2qOCZUkliR9rzKXF+BMx586WRaaelZtqNpNuckHP+A6gOSeKgvlhSAqVm2tmkguN7FikVFlHiogiY8+Z7Tc4bmrKlnl/lJ+SctwCq7JD5qCy/T2vffACySQVHwJKkOMUllLgkAua8+dLItEOpmXZcLRyEqooKBzUZHddSM+3sUWEISpLcTvnjjLE/VfsM9IFMOx/ItPOBTDsfyLTzcWTauVXYiuym02pal9VWT+Q1Of8ky9ZaLNMOhZzzH0CVVJmDmnK/ATUaesBji6qAZ0pp16misI4S11k9kTRuGqCAmwah5bxZqYrgkDmozP8JuGkQKhX46ZLqVMUNlLjB6om8JuffGNGlE8u000LO+Q+gSorCQU2534CePq6n2aSCXZ9LcAtSIiUmWj2RNG4aoICbBqHlvAVQaTdzUJn/E3DTIDSqG4agXCwb5ouM83/ATQMfuGngAzcNfOCmgY/jpgF1eEB9RKessLpkTKYdAZl2BGTa+UCmnQ9k2vk4Mu0UeETvYk+Rfp3SP2amnS+NTLtXIwHuyoMf2llxdP+qMNzXETDTzpdGpl2aOP437ZwipMpOkXVYBj5OuOHupsQ2L3fr5198hp15PkqUha/0HSMW4eyDayWu2bhYfzh8GR6SOUfi5U2z9OO/rMF3e6xNWNFrqp7j80QMB0F6HQleGpHYI5DK1pSBmdKysJzUlm1c+OCrjNXQ7jkH4OgmjuG2mh05e/P+jQ8Hj9NLjd8VFMfdkQrQ85FcLodTPkuJZ03qwh4C/ueTC/oDnynSMrV/NjLn7YZoc/8FWuchDYiv4Uajx5AQRFoCqKJT5KOipb2uxX7eoS2xR3XBFmYq0hco8QI4850cg/dsOqovfG6KtKDw4aT/6RLaxJd9tLJN/wpdWTmASjdbHNTOu0Zom2/mJnfuNSQ2qWAf4GK555co8ZJJLfqoDr7Rf58eccwUaZn7bhXysLSC+ncUNPZs1ayJlwzjQQgiLQFUSVD4qOivA1c8l7UYYpMKfEmWHSr8Qom/mNRvprTEXX/fqbd9d4p5ln92Ail8eVnstaz3YrlaOBhVlTmo8zo+1GJ++Mf4X/cYYo8qOSCVejonKHH/f1z96Z+Slp7YJ/vfwl+2/ltv8kM8/mR/OTz83K/6b3nnYzg74eiFvQtrn56RlWErii5ZuEPrcgck2T6uio9uKoxLTTBFWsY6MpG987cZtdrXR47arcm8737Q9kZuD8ESWKl0/8FBfXffKe3rm73RorwFPfao4I6oJDsVRblPifdNquO5G/cbWxLrXU2RlkYR75NGfTYZ80vl1NiznceXhJH8A5oTu1RVkTiojeeV1GbOaY4aT8hNbFLBPkCmHoLwOyX+blJ7DK6Jb9SoiMt/bYq0NMhRifxcf6JRu7GEbpR3kDqZCqCZa26FsA+wUiWXzEEdtv1NpO1phOrdf+qxSQX7AJmFnf+gxD9MaoWqTfD9iw5ccrgp0vK85DjS+UWUsfl8n91cLRyE6pYVDmqOd7/XtsTWReMj/zbsUWU4mmSXW76eMfbnjUllca3sufDd5wswnJ1w9MLehbVPz/4osBUV6te+oHV5YbZi1kmV8dB8+fDiB6ZwQPWGyYZjXmvSqMsOI3OR7iTb80ka2ubjj40GUJ1OmY+q1c37ceyd9/ohm1SwVZDpxkTITMtmX6pDO0TCzUcWxmLcRss7L/2yjjFeFNpljPzfi4SQlZUDqIpL5qCO+fkTz8sjYWjY9ubIHhU8Uyq5mSBWVlp2VpO6+ZGG/1CK4UUDTZGWakMKklGJdUi2Oh8aayRMZpzerV2OzRPC6myl0l0RHxV1PF3Xe6B+M2STCmJObtElSTlo2TlM6udn6uPPXKXw5iumSMvVXqNJxWL3vZcnCnz9GoQqSwIHdbT7C21Z2Zzoi7P1kD0qeByVUiVJeZIx9meUpwxeXTgbTs6+AsPZCUcv7F1Y+3TsjyrAVpScglSQtlXBSIsnUrf+Yb2XYxX0RIwpiUu1ea3aEeaJNIr6y1C/DkGkJYAqCgoHlXpdqNCQDuQr4d9Ym1Sw63O7ZKdYmJZdONLiicxZu0OfnnOtxf85dmKilrPMdLZieemKheiKhexS3aLCQWX+j2dDY3KubgFkjwp3824miBVJy46MtHgib7RZq3/0yXroiZD5vWpoVdu9S5gnktyyFDmib+PPzQigioLAQaVeF/rGhUjJtzJ7bVLBrs9NdyhyUVp20UiLJ7Ju+SL97jcJFv9n+5b3PGeV/Hz9GoTqcogcVOb/bB6rkeqZ8iBbVEWFo0lxikLuyAzzf1x//aJ/H7kMw9kJRy/sXVj79PwfoG0i0Z2zIrC6fBPx305fX1OfbedX6KlqHqMbE71WoUxYaLIUly50Sb/seq47xi7BdRL+1Wv2eaovGByPy/4YhrsnP9Fbutn+02yL9OwpeDyS1kdWlBIp/ZMyKmA5qaMCjgS4Kw9+aGfFOeiEY7gS5iDcl1QO13r7md4wfElQHPehnQr0fNhrz07RSct2RkJlZf01ysrGr/vaomHlKpCQlZUDqNSQclBTVKTRxkmLDXtUeEdUoftIQaZly5FQWVlPQ8/ZCNBzDk1ZMJCqyhxURgnQcw6VCpZlxcVSsmnZaiRUVtZfo6xMRn8Vg/IWqExCVlYOoLpEgYOaoiKN4hfLhk0qNDxMuzqWlh0bCZWV9TT0nI0APefQlAUDqNR+c1DfadPXCNBzDpEKoyWKTF3lKrTskpH/X/TE/MJEVj0xHeg560DPWQd6zjrQc9aBnrPOoeeswtviiiKpcm1al9qRUFlQf42yIAmbl5y0MqwxCVlZMJAqCBzUFBVF1GV2W2SPCu+I0tVflOrRsutFQmVBPQ09QyNAzzA0ZeUAqioKHNR8jSqQAD3DUKnApVIdoio3oGU3iITKgvprlAXJgBlFPZOudCIhKwsGUJ2qyEFNUVFERePrI5tUsHKrTLu6MS27cSRUFtTT0DM0AvQMQ1NWDqC6BYmDuuS9f4wAPcMQqTAEpYrUVUYZY38utj+sAz1DHegZ6kDPUAd6hjqHnqEKb4urTAOrDa1Lm0iorIxfo6xsNM3RjxR+z2GErKwcQBXdIgc1RUU6aUzOXZo9KrwjqrKLqu1p2e0jobIyTkPPmQToOUPxwZCpblXkoP71PDsK0HMOlQqO71W3Q1Y60bI7RUJlZfwaZWUS5W1KfmyBkkJWVg6gitQcBaemqEhreYZ+pNmkgiNglWlXd6Vld42Eyso4DT1nEqDnnH4LB6G63DIH9d7Y4ihAzzlEKgxB0eZWpGYZY3+GlnugAz1nDPScMdBzxkDPGXPoOavgtrhLEERJ6E/r0h94Ik9y4VTt+tRW3Lx8Atl/OMozuH9J7/MtCUnLxsWRqE+3hbATslIdksRBXXwkN/q4+hzt2bv1iU2qCqgOl6zE0bLjTOrk0lG4Zt7m+Id6Zvhwb2mVVBpYlVzrmUujK5YWsrJyAJW6zBxUaWJjlCc6zrg2LhexQ6V7SxFQnYIkDKZlDzapV7OXw1lutMafxpvhwzK3R5O3d71lVL36r3dagzra8gmdSLN717nDh4FUh1PmoOYLz46kr//QxnwoEZtUF6Cy/PRhtOxhYDWLc+JePTvjfJ3N8KHx0ZvkodyU9G4zexdXCwehSpLCQe1bqDP696clu+svfmLYoVKrB0cTeyutR8bYn4Mjnuj11jbAZy8swHB2wtELexfWPt1DLlgfmc4PVpcMOLRrfGqdDvScdaDnrAM9Zx3oOevB9ZzpqFBgfWRRGpnSP6aes56GnrMWILDs35UHPbQLwLnphGO4kZFQz1lPQ885TRzvoZ0sAOEgSnWKyie07E9M6q5DmfTSXWV8bs53r6h6Lg3dflKRjN+ywzv93Bskoc+fxpA7LsJv0qxUSZT4qGRJ/orGPE85ZJPqBFSVbiQ/o2V/ZlLvbP8c1bkegyuuS7bc89mzKyuZ+/07ZOIHxRNDjfkGUulGkoPKkp7ZPWdXg7sem1SwLDscDlGYR8ueB8x336zosrsGTmptJuAO2l8cJX6PycZP+hiPs7pIgSGHjO6FIgi/IbVSRYfMRyXZVsz1PphRD9mkAsPjECWnuJCWvdCkXpiW7D3wTj2cMMe8tcFyU9kt8rDKzfj6NQjVJSoc1LvtBpCYSa20YlmWafaoohNSnU75I1r26P+4aNA/JTr1vB8Y2Yi3BuvnSkfjw8MI/mSNWx9+wIG7VtiL4eyEoxf2Lqx9ekZWgq3IHjlaQeuywmzF7fkG6fe6lsRPlx151Yq3c2RBBS99q5XeUJd8O25wbNdzfYjPcdzgnx1WqqDKHFT15+farUtfG207NUD2qOCOqMvBjrS/pGV/aVL3txmol/+mKG5W27yF22nU1Nhd7/Q0FvYe5X/lvsmNkkmlwgYk2aXKDpmDOuSuuPty9RhSbkE0skkFLpVDVlVxLS17LVg8Z8bpX96LxNnKX3xFnb4vC6qVp6TWYnhrMnpF7dixUWPJmZ2OENxHC9UtKAoH9Wn3Z9rDvOHGzErtkU0qWLkdCvXQ19Oy15vUHWvf119EROLMZW6Ydb01K7ZDz9vGoQLd+fo1CFUSBA7q/CGXd6+Oy0OubmqF7FElOJoUUVDiM8b+aKsH6cVulMWVmh7AcHbC0Qt7F9Y+PfsDbouz9/xlaRutyzazFduu26x3vy/jE89MT2ToA5Xs71JU65pYmYwYkAc9LfHQGPfCEcLqDKkOuoVW+Kiow6qq6KFy3WOPCu6IukR2pL2dlr3dpB6qnKyvT4zFgnbIDDOV2GRUmpqdOOPqkC961osONec/kCopCge1ffGx6NzFA57Rfd/UbFIlQBUVWdpFy94FZseLS/phtSa+H2m+ZNHdGUlGVhzhOfGyof/una/GPkMyCoSwOlupqizwUZE7+R0kdR2j2aS6AVVyuGUvLdsLPJEjv+vHh9fH04f9+Iqa7c0z3skdw0iVQs35+jUIVXSLHNQSl/qgsrd6a6NWb9TsUWU4miRBERIyxv48OTFfvxMm4qiOezGcnXD0wt6FtU/P/iiwFV2qU/6e1uV7qyey6F5DvPWeF3oixoSjHUmmo0mxzBPJvTbMm//EhBAsgZVKFw8OKvW6yG+N2qNp64t47VHBHVGXyI60D9GyD1k9keSLHXDO5YbF//EmNiXRRwv53x6gK1YsXbFi7VKdssBBZf7Pb1l6oze6nzVsUoGfLioUe4SWfcTqieT4YABeU88HPRHjVmRbsnIbMpgn0uSvFlrprqNDsARWquIUOajU6yLNFr2HfNcEzSYV7Pr8L3kdp2Uft3oii74ci6Xrey3+z6N75UlcFczXr0GoDknioDL/x1tvDOo4sKZhj6rA0cTeSvNlnP9T+6EHN3YZGM5OOHph78Lap2d/HKA+TofbIY7OmEO7Mu/N0Sd2z4MXbFuNO7T9UK+y+U186vwG7CkzVp/fojj+qcYWnD12iG4IZXG1H3dg2Bbp1Qce0TvZU6SnUvonZVTAcl6thWAkwF05x6GdFUcnHMOdMnElZg/Sby0RcfyBvUFx3Id2DiAc5HI6BVH6lZb9qzXnLaLBFN196DuY86Z9VSwC/bKqHGE5bwN3TzCc/5P5zXcA1SEKHNQsK6dqI28MI+9n/85jkwpcKqdEN5J3adl3rTlvHY811lfdTrZk2vV+qwASj9YidmK+AVQX3UhyUNnh67sD+5Hilx57bFLBsuyUFYf8gJb9wJrz1sFdXG+58ijMedOe/JgFTf+zHmE5byc3/2YUeSOE47MAquoQOaiXvzuiHfiiKzmXHKfZo8IjYKfiEJVHtOxH1py3tyqdQzVvnLJk2k3pkaRdzd2c2In5BlJFUeKgsky78yf6EVR+hWaP6oCjSRGc4lVa9un/Hul5dd4fEOnp7fbqHywh/ky7tleW6cmt9mI4O+Hohb0La5+OkXVIsBVVRVH+oXX5xxrzneZZrnesaMCYL1nwRys0bMfLWBbzvRbji3VfDsF9DKC6VZGDunn5BJQ7rKFnza1VSTapwKWS2JH2S1r2S2vMt9OGz/TtNw1LpPmfVXu0+w/fZDFfY8R33cjyFe4ku1RqbDmoLNLsqXjSGH39tGGTClwqSZQVJUsUNeFRlphvTMspeoUlPhjzJarcEp3S3AaL+Z6M3ertXDQE9zGA6lYkDmqZ26PRxce9Pfd21NBsUsHKLUmCIGSjxGxRlpjvqmt99Wh9nyXSXL7659rp8Bp8/RqMqsocVBZpbrDuulEgm2bYo8IQFHsTUfozY+wPizQX/TFRf9jDwHB2wtELexfWPj3744Kt6HLLQn7agvmjLDlvfztu6XuKHoA5b0Rt9bWxz3vTy3Le9o5woJ1RzhAsgZUqyxIHdW2irt0ZqqAfzldC9qjgmVKXxI60C1FioShLzluTsKf6+faHLJl26wos9q77uY6tnP9AqkOROKgs0+7i+Fbot/gCmk0qOL6XFJcshFNieJQl563h7Sx4oHwM5ryRKzs8xt1F4wyW8xbTuhlqe7VgCJbASpVdMgd1/bEWWg4lP2rUpyGySQVHwJKquMUoSoyKsuS8VSqdE7+c96Ml0+7+zqLaHW9zWzn/gVRVVjioLNNu0GQ3Orh9g2aPCkNQkup2yzmjMsT+sEy7+2NO6d0n7sVwdsLRC3sX1j49+wOeKXW52E2n0rQ+paMsOf8f6Yf0+N1HYM6/J/cHRUiHUe8SlvMfFvaT1nfnSf7wYQCVuuoc1Oxf5iUXJs8zzsTXRfao4JlSl4sdaZelxLJRlpz/ZfWP6gc6nrbcNFjb7BfPnZ2j/DlvdMVCdMWKtUl1Ci6Zg8puGnSuvU7bPa8qskkFfjpdnp1iBUqsEGXJ+c+38Li+1HMR5vx7Rx/LTArMbEdYzv/Zoze1elXc/OHDAKpLVDioc1d6jWd39hnTE1ojm1Sw63OxF6AqU2LlKEvOf+4SJ/TC1W9YbhqsKdBOe7qlO1+/BqEqksBBZTcNHhcaqR182BLZo8IQlMslS0qxjLE/7KZB9LT9ujboAIazE45e2Luw9unZHwHWxy0JyumMy7Rr1OWRrnpX+zPtJnW4oq+/s8GfaXe43Qn9vXZb/Jl2Q+Z/pyc+3oFhW6RXH3hE72JPkUan9A/ItEstB6a+pY4EuCsPfmgXgKMTjuGioyyZdt1y7tTjHuwNiuN/087hhFTZLbIOy8DHCZsOHIX2nj2tP1s5C2fJ9Cea+uSCnnhrNsYfOnU58ro+4bc52DW/t34y6r7+YNkCXG3QTL3ymb/1M3/HYzgI0u1IsNCzC4aKEPV/AzOlZWE5qS0LWzOke86BONUpM5xgduTw2Rv1d69nx2M6rgyK4+1ISQb3lqiL6hAV1omZM5kdmcvfkRsQ+6gl8X/xi9v4v6l3mvq/QZ76/o9aGP9X95fq/s/pdPq/1IGQYuEI6NhcmeC/1vjz9VMTJkWOR1Uft8EFKmdN7KU9R5EnO+D7OWom/tNR1Z/M6oZfjhmfKP4ySL9ToB+udjI+MbL8XL2+NhTX/mlr4oP76/W8j8fj7+8lJ3a6R/TKU6ZiOHDS7XAJtoWiymLU/w3qlB6A5bwKAr/b6VWrM6NNx21VVkeeDoc4B8uapjjR7HCl8s3E3fvP638Pmx0Ul36HR72iwt52yKrMehr2dn72CuSdzDr7BnnWI/bFLz7n/2bvPe3/pt454f/GFD7q/wZ5Dvm/nj0P+L/2s/f6v2Y7DP9X95dd/s+Te7v/czq3+r+K7Tf5v9TRlcboyJ/ptf+Q+dMHfr+tm787g9+fgt+bwe/j4PdD8DsnNn9Hgd8VwG8F/K6L4ShOd5SBEyKZ3RSUov6vD94OrGJrzDOKLMVRl5YVJ0WlUVxnnO4o+X/9AMOB",
        "encoding": "base64",
        "path": [
         "scene",
         "data"
        ]
       }
      ],
      "model_module": "pgljupyter",
      "model_module_version": "^1.0.3",
      "model_name": "LsystemWidgetModel",
      "state": {
       "_model_module_version": "^1.0.3",
       "_view_module_version": "^1.0.3",
       "axes_helper": false,
       "derivationLength": 42,
       "layout": "IPY_MODEL_19e0e7ea694e46e0bba58b9905082213",
       "light_helper": false,
       "plane": true,
       "scene": {
        "derivationStep": 41,
        "id": 41,
        "scene": "<openalea.plantgl.scenegraph._pglsg.Scene object at 0x7f5570cd30a0>"
       },
       "size_display": [
        600,
        400
       ],
       "size_world": 50,
       "unit": 0
      }
     },
     "2162f25ec5ac430bb2e0b577a3d5a5db": {
      "model_module": "@jupyter-widgets/base",
      "model_module_version": "1.2.0",
      "model_name": "LayoutModel",
      "state": {}
     },
     "22abfc4835ae4681a8ce2b46369e3038": {
      "model_module": "@jupyter-widgets/controls",
      "model_module_version": "1.5.0",
      "model_name": "ButtonModel",
      "state": {
       "description": "Add category",
       "layout": "IPY_MODEL_e3a4cebb677345918732ce7f77e750af",
       "style": "IPY_MODEL_f796a9f9f7b94b618d1b63d8c0b829a0"
      }
     },
     "253e947184534d209810ae1039663e70": {
      "model_module": "@jupyter-widgets/base",
      "model_module_version": "1.2.0",
      "model_name": "LayoutModel",
      "state": {
       "margin": "10px 10px"
      }
     },
     "26870fca74c14d0fa1a5d0ee53116510": {
      "model_module": "@jupyter-widgets/base",
      "model_module_version": "1.2.0",
      "model_name": "LayoutModel",
      "state": {}
     },
     "26ad6a30f2774f1794f55ea8f6aae7f2": {
      "model_module": "@jupyter-widgets/base",
      "model_module_version": "1.2.0",
      "model_name": "LayoutModel",
      "state": {}
     },
     "26b0d4bcda344e1a99696aea80890980": {
      "model_module": "@jupyter-widgets/base",
      "model_module_version": "1.2.0",
      "model_name": "LayoutModel",
      "state": {}
     },
     "26b68cbbb6f54067ad24bcc694d73542": {
      "model_module": "@jupyter-widgets/base",
      "model_module_version": "1.2.0",
      "model_name": "LayoutModel",
      "state": {}
     },
     "26fe836eaecb473d836aa51115c28f29": {
      "model_module": "@jupyter-widgets/controls",
      "model_module_version": "1.5.0",
      "model_name": "DescriptionStyleModel",
      "state": {
       "description_width": ""
      }
     },
     "27bdb9c3116e46a7b806a8ed560ebc56": {
      "model_module": "@jupyter-widgets/base",
      "model_module_version": "1.2.0",
      "model_name": "LayoutModel",
      "state": {}
     },
     "284ea09d858846839b819825c6b413f8": {
      "model_module": "@jupyter-widgets/controls",
      "model_module_version": "1.5.0",
      "model_name": "SliderStyleModel",
      "state": {
       "description_width": ""
      }
     },
     "297073b83cd14670a976ebdac00ed1e1": {
      "model_module": "@jupyter-widgets/base",
      "model_module_version": "1.2.0",
      "model_name": "LayoutModel",
      "state": {}
     },
     "2b158a5efc7f4463bfb6c9fb4a9c0b8a": {
      "model_module": "@jupyter-widgets/base",
      "model_module_version": "1.2.0",
      "model_name": "LayoutModel",
      "state": {
       "margin": "10px 10px"
      }
     },
     "2b2124ab0431434c8b853040251c6971": {
      "model_module": "@jupyter-widgets/controls",
      "model_module_version": "1.5.0",
      "model_name": "DescriptionStyleModel",
      "state": {
       "description_width": ""
      }
     },
     "2b6188073fe94feab6b66306afcc622c": {
      "model_module": "@jupyter-widgets/controls",
      "model_module_version": "1.5.0",
      "model_name": "DescriptionStyleModel",
      "state": {
       "description_width": ""
      }
     },
     "2cd607c8204841aabe33d8d3ba5a1214": {
      "model_module": "@jupyter-widgets/controls",
      "model_module_version": "1.5.0",
      "model_name": "ButtonStyleModel",
      "state": {}
     },
     "2d85a12bbd7442858b16cc09931a4860": {
      "model_module": "@jupyter-widgets/controls",
      "model_module_version": "1.5.0",
      "model_name": "ColorPickerModel",
      "state": {
       "description": "ambient",
       "disabled": false,
       "layout": "IPY_MODEL_e478ab2593a04818b6e85a57667695fd",
       "style": "IPY_MODEL_2b2124ab0431434c8b853040251c6971",
       "value": "#195717"
      }
     },
     "2dcce41d6dcf46ab9d7fea4fee9f0802": {
      "model_module": "@jupyter-widgets/base",
      "model_module_version": "1.2.0",
      "model_name": "LayoutModel",
      "state": {}
     },
     "2f78bf9cbda8483d85d59d409bf97809": {
      "model_module": "@jupyter-widgets/controls",
      "model_module_version": "1.5.0",
      "model_name": "ButtonStyleModel",
      "state": {}
     },
     "2ff608e26d6e4d6fb7c1e68b5f91c39d": {
      "model_module": "@jupyter-widgets/controls",
      "model_module_version": "1.5.0",
      "model_name": "ColorPickerModel",
      "state": {
       "description": "emission",
       "disabled": false,
       "layout": "IPY_MODEL_f8d632eb185c4c96aa5f5b1d40b429f6",
       "style": "IPY_MODEL_f0763d842c8445ffb5dfbab713049a25",
       "value": "#000000"
      }
     },
     "305135b5b9164779a7d4debf0dc8d471": {
      "model_module": "@jupyter-widgets/base",
      "model_module_version": "1.2.0",
      "model_name": "LayoutModel",
      "state": {
       "flex_flow": "row wrap",
       "margin": "5px"
      }
     },
     "34393aac172242b5970e101380247e91": {
      "model_module": "@jupyter-widgets/base",
      "model_module_version": "1.2.0",
      "model_name": "LayoutModel",
      "state": {}
     },
     "3498164868e14e499326ac76ff6129a3": {
      "model_module": "@jupyter-widgets/base",
      "model_module_version": "1.2.0",
      "model_name": "LayoutModel",
      "state": {}
     },
     "35ee7645e29a4fb7a64f3f59ed764fab": {
      "model_module": "@jupyter-widgets/controls",
      "model_module_version": "1.5.0",
      "model_name": "ColorPickerModel",
      "state": {
       "description": "specular",
       "disabled": false,
       "layout": "IPY_MODEL_03616674bbc64a7fb9efdb9a439945e3",
       "style": "IPY_MODEL_1edb7de4e8b84a3fa6d10ea8bf98ed86",
       "value": "#282828"
      }
     },
     "38644bddadf947ce83fdeb1e89d2592e": {
      "model_module": "@jupyter-widgets/controls",
      "model_module_version": "1.5.0",
      "model_name": "AccordionModel",
      "state": {
       "_titles": {
        "0": "materials",
        "1": "leaf",
        "2": "trunk & branches"
       },
       "children": [
        "IPY_MODEL_ad96d738f3dc49968e96ca8d059bd7c5",
        "IPY_MODEL_fcde8d6a4611418ab18a58742122a79b",
        "IPY_MODEL_083e2819b943419c8b82ad4ceb3b9f78"
       ],
       "layout": "IPY_MODEL_d682fd01985a4f20ab61a825680fa4b0"
      }
     },
     "388ed070a58a4c18897abf1b33369878": {
      "model_module": "@jupyter-widgets/controls",
      "model_module_version": "1.5.0",
      "model_name": "FloatSliderModel",
      "state": {
       "continuous_update": false,
       "description": "shininess",
       "layout": "IPY_MODEL_7dd2c2d9834b45d98e5966597d51c3ef",
       "max": 1,
       "step": 0.1,
       "style": "IPY_MODEL_fb7036185bea4c6a9cfbd1f6a0fb6371",
       "value": 0.2
      }
     },
     "3bce68c60a3d41c3b5a718ad0d0530fa": {
      "model_module": "@jupyter-widgets/controls",
      "model_module_version": "1.5.0",
      "model_name": "BoundedIntTextModel",
      "state": {
       "description": "index",
       "layout": "IPY_MODEL_afbd64b3cce2488aa5a8a46b5eb293cc",
       "style": "IPY_MODEL_b2682ec79d344fc1a596037ec2ae3c5d",
       "value": 4
      }
     },
     "3be4c651b3ff4b69bf8c0cb57f621b01": {
      "model_module": "@jupyter-widgets/controls",
      "model_module_version": "1.5.0",
      "model_name": "ButtonModel",
      "state": {
       "description": "Apply changes",
       "layout": "IPY_MODEL_80cab3379a204ed2aa6b288aa6fca22e",
       "style": "IPY_MODEL_2cd607c8204841aabe33d8d3ba5a1214"
      }
     },
     "3c3ba716d741413a8eff558c3a289b5f": {
      "model_module": "@jupyter-widgets/base",
      "model_module_version": "1.2.0",
      "model_name": "LayoutModel",
      "state": {
       "margin": "10px 10px"
      }
     },
     "3cdc8f22ef2845d5828fceb9bbf394fd": {
      "model_module": "@jupyter-widgets/controls",
      "model_module_version": "1.5.0",
      "model_name": "SliderStyleModel",
      "state": {
       "description_width": ""
      }
     },
     "3e5ec86bf7c54cf187e069892e89f6a3": {
      "model_module": "@jupyter-widgets/controls",
      "model_module_version": "1.5.0",
      "model_name": "SliderStyleModel",
      "state": {
       "description_width": ""
      }
     },
     "3e863b9da7a142ab90605abf21972722": {
      "model_module": "@jupyter-widgets/base",
      "model_module_version": "1.2.0",
      "model_name": "LayoutModel",
      "state": {}
     },
     "3f597d06bdf0436aa5d4f998a0bc69b6": {
      "model_module": "@jupyter-widgets/base",
      "model_module_version": "1.2.0",
      "model_name": "LayoutModel",
      "state": {}
     },
     "4113b545043540e1bc401385ce2867f6": {
      "model_module": "@jupyter-widgets/base",
      "model_module_version": "1.2.0",
      "model_name": "LayoutModel",
      "state": {}
     },
     "42a9d3f18f8f4a58a6c70522e1b8b510": {
      "model_module": "@jupyter-widgets/controls",
      "model_module_version": "1.5.0",
      "model_name": "HBoxModel",
      "state": {
       "children": [
        "IPY_MODEL_cbf660664e424fd4a7b14059222c4b8d",
        "IPY_MODEL_a71f4a4fe95449efa819692f6ac6b2ee"
       ],
       "layout": "IPY_MODEL_27bdb9c3116e46a7b806a8ed560ebc56"
      }
     },
     "43f0fc92cc8a40eb996d421a7e9c8dcf": {
      "model_module": "@jupyter-widgets/controls",
      "model_module_version": "1.5.0",
      "model_name": "ButtonModel",
      "state": {
       "description": "Add",
       "layout": "IPY_MODEL_26ad6a30f2774f1794f55ea8f6aae7f2",
       "style": "IPY_MODEL_f131399a0d23427db2bcc5dced6327ab"
      }
     },
     "44182580197646929ac5959b6d89d68a": {
      "model_module": "@jupyter-widgets/controls",
      "model_module_version": "1.5.0",
      "model_name": "TextModel",
      "state": {
       "continuous_update": false,
       "description": "name",
       "layout": "IPY_MODEL_d345d79cef10447690718114fd0aafcf",
       "style": "IPY_MODEL_abb3c03b73dc4caf864c7d0a72058e3f",
       "value": "nb_axes"
      }
     },
     "44a7ea617520422c865c09c741aa91e4": {
      "model_module": "pgljupyter",
      "model_module_version": "^1.0.3",
      "model_name": "ParameterEditorModel",
      "state": {
       "_model_module_version": "^1.0.3",
       "_view_module_version": "^1.0.3",
       "children": [
        "IPY_MODEL_1337b8e35e1d4905a5ad7920097a7db5"
       ],
       "layout": "IPY_MODEL_a699fb4eea2c4b6197ee3a9a146b670e"
      }
     },
     "44a95ecdf5ff4007b0f87011d4a92922": {
      "model_module": "@jupyter-widgets/base",
      "model_module_version": "1.2.0",
      "model_name": "LayoutModel",
      "state": {}
     },
     "45aa94e067eb43028511471179f446d6": {
      "model_module": "@jupyter-widgets/controls",
      "model_module_version": "1.5.0",
      "model_name": "CheckboxModel",
      "state": {
       "description": "Auto apply",
       "disabled": false,
       "layout": "IPY_MODEL_829947c6fb37410fa103ae388dc167eb",
       "style": "IPY_MODEL_54e9a0df1981442a89eb029aa35ce430",
       "value": false
      }
     },
     "477496a6bc5c41438501bcaa6fd30e9f": {
      "model_module": "@jupyter-widgets/base",
      "model_module_version": "1.2.0",
      "model_name": "LayoutModel",
      "state": {
       "margin": "10px 10px"
      }
     },
     "48dac04b27f54490b2449e2b0f5af787": {
      "model_module": "@jupyter-widgets/controls",
      "model_module_version": "1.5.0",
      "model_name": "BoundedIntTextModel",
      "state": {
       "description": "index",
       "layout": "IPY_MODEL_8e8866cf67f6424cbf3f3d7fb7e17e39",
       "style": "IPY_MODEL_7078ecca717f485dac308a73f5e42052",
       "value": 3
      }
     },
     "4980f995cb634254b00820c8fcc4e2ee": {
      "model_module": "@jupyter-widgets/controls",
      "model_module_version": "1.5.0",
      "model_name": "ColorPickerModel",
      "state": {
       "description": "specular",
       "disabled": false,
       "layout": "IPY_MODEL_7f3a9e55e29b4a58af79f94ddeffaf89",
       "style": "IPY_MODEL_af4c04135dbd4c79bfbc71c037c904af",
       "value": "#000000"
      }
     },
     "4b4f44b6a0ab44be9ba3f5a20403d330": {
      "model_module": "@jupyter-widgets/base",
      "model_module_version": "1.2.0",
      "model_name": "LayoutModel",
      "state": {
       "margin": "10px 10px"
      }
     },
     "4bc0d1f1f035482e9ab4b0aa9ee42333": {
      "model_module": "@jupyter-widgets/base",
      "model_module_version": "1.2.0",
      "model_name": "LayoutModel",
      "state": {}
     },
     "4d672d6afbf24388b5cf5ee2f3e4e7ec": {
      "model_module": "@jupyter-widgets/base",
      "model_module_version": "1.2.0",
      "model_name": "LayoutModel",
      "state": {}
     },
     "4dc3755d1cef48ae8406d5e1ba31584b": {
      "model_module": "@jupyter-widgets/base",
      "model_module_version": "1.2.0",
      "model_name": "LayoutModel",
      "state": {}
     },
     "4fec24212e81407085439cbef85ba1af": {
      "model_module": "@jupyter-widgets/controls",
      "model_module_version": "1.5.0",
      "model_name": "DescriptionStyleModel",
      "state": {
       "description_width": ""
      }
     },
     "5175d0c94ebb4e9fb75c3bffcc993c0d": {
      "model_module": "pgljupyter",
      "model_module_version": "^1.0.3",
      "model_name": "MaterialEditorModel",
      "state": {
       "_model_module_version": "^1.0.3",
       "_view_module_version": "^1.0.3",
       "children": [
        "IPY_MODEL_3bce68c60a3d41c3b5a718ad0d0530fa",
        "IPY_MODEL_b4f53d84eef5460ca6039f25d22444ee",
        "IPY_MODEL_1d3a0b0502ee4abcbdef5774bb9af4ba",
        "IPY_MODEL_e6b8a920de474b8197efd26805ca34c2",
        "IPY_MODEL_02b06c82ada5440d8c1e120154619aec",
        "IPY_MODEL_d809f0a2c4b14ca1a5557ad4fed8270f",
        "IPY_MODEL_6daeb386cb2247dab0b2df9940e7838d"
       ],
       "layout": "IPY_MODEL_477496a6bc5c41438501bcaa6fd30e9f"
      }
     },
     "52ba0870bf004ce09dbc85c29bfaebec": {
      "model_module": "@jupyter-widgets/base",
      "model_module_version": "1.2.0",
      "model_name": "LayoutModel",
      "state": {}
     },
     "54d1553471864d45a313feb576af4918": {
      "model_module": "@jupyter-widgets/controls",
      "model_module_version": "1.5.0",
      "model_name": "DescriptionStyleModel",
      "state": {
       "description_width": ""
      }
     },
     "54e9a0df1981442a89eb029aa35ce430": {
      "model_module": "@jupyter-widgets/controls",
      "model_module_version": "1.5.0",
      "model_name": "DescriptionStyleModel",
      "state": {
       "description_width": ""
      }
     },
     "54fccc98eaa044b88506425e7c9ec1f3": {
      "model_module": "@jupyter-widgets/controls",
      "model_module_version": "1.5.0",
      "model_name": "FloatSliderModel",
      "state": {
       "continuous_update": false,
       "description": "diffuse",
       "layout": "IPY_MODEL_09433429bae249fca63d378a13f8af16",
       "max": 3,
       "step": 0.1,
       "style": "IPY_MODEL_bae198bd31ae4566892950030aa8f0f9",
       "value": 1
      }
     },
     "55198910c2e646cfaf2f58703380e428": {
      "model_module": "pgljupyter",
      "model_module_version": "^1.0.3",
      "model_name": "IntEditorModel",
      "state": {
       "_model_module_version": "^1.0.3",
       "_view_module_version": "^1.0.3",
       "children": [
        "IPY_MODEL_44182580197646929ac5959b6d89d68a",
        "IPY_MODEL_994aef21d4d34c4eadd8ddc89577b4d6"
       ],
       "layout": "IPY_MODEL_253e947184534d209810ae1039663e70"
      }
     },
     "5558af09e5d2473384938ab00c1b1d5e": {
      "model_module": "@jupyter-widgets/controls",
      "model_module_version": "1.5.0",
      "model_name": "FloatSliderModel",
      "state": {
       "continuous_update": false,
       "description": "transparency",
       "layout": "IPY_MODEL_3498164868e14e499326ac76ff6129a3",
       "max": 1,
       "step": 0.1,
       "style": "IPY_MODEL_ac285f85c9804342a2e99b48e9b9b3cb"
      }
     },
     "5907cc2d1c8646978795d6b8c7e28dc4": {
      "model_module": "@jupyter-widgets/controls",
      "model_module_version": "1.5.0",
      "model_name": "DescriptionStyleModel",
      "state": {
       "description_width": ""
      }
     },
     "5ce7297081734726b38fee0960ba8063": {
      "model_module": "@jupyter-widgets/controls",
      "model_module_version": "1.5.0",
      "model_name": "DropdownModel",
      "state": {
       "_options_labels": [
        "Integer",
        "Float",
        "Bool"
       ],
       "index": 0,
       "layout": "IPY_MODEL_edde7de596c746edac21f0bc0935cc5f",
       "style": "IPY_MODEL_ce5d388890b24f5ca805f2fda72e19e9"
      }
     },
     "5e34d97647d84cf9902d094e911bbcd0": {
      "model_module": "@jupyter-widgets/controls",
      "model_module_version": "1.5.0",
      "model_name": "FloatSliderModel",
      "state": {
       "continuous_update": false,
       "description": "shininess",
       "layout": "IPY_MODEL_08b96bd1bf3843a28844c762a16fb1f4",
       "max": 1,
       "step": 0.1,
       "style": "IPY_MODEL_a3ce7d6ee1bc44e6aa8882ea7061f036",
       "value": 0.2
      }
     },
     "5fb0e09cd3524b6c81f515f2e63df19e": {
      "model_module": "@jupyter-widgets/controls",
      "model_module_version": "1.5.0",
      "model_name": "SliderStyleModel",
      "state": {
       "description_width": ""
      }
     },
     "5ff8f203e7a649c3ba15eabb0f4da3ae": {
      "model_module": "@jupyter-widgets/base",
      "model_module_version": "1.2.0",
      "model_name": "LayoutModel",
      "state": {}
     },
     "60978ce1d8444f33b4c1921a3edf4b6f": {
      "model_module": "@jupyter-widgets/base",
      "model_module_version": "1.2.0",
      "model_name": "LayoutModel",
      "state": {}
     },
     "628637904e9c47d9abe8b3e817df33b4": {
      "model_module": "@jupyter-widgets/base",
      "model_module_version": "1.2.0",
      "model_name": "LayoutModel",
      "state": {}
     },
     "6341bb99947043279d12a87beeb0cdbc": {
      "model_module": "@jupyter-widgets/controls",
      "model_module_version": "1.5.0",
      "model_name": "BoundedIntTextModel",
      "state": {
       "description": "index",
       "layout": "IPY_MODEL_af4fa2bf48ac41d382620c1182dea2d2",
       "style": "IPY_MODEL_136d49f05d4a46eca3ab7ecad818d880",
       "value": 2
      }
     },
     "63bda07c759c48018686284dd5de708d": {
      "model_module": "@jupyter-widgets/controls",
      "model_module_version": "1.5.0",
      "model_name": "DropdownModel",
      "state": {
       "_options_labels": [
        "Integer",
        "Float",
        "Bool"
       ],
       "index": 0,
       "layout": "IPY_MODEL_4dc3755d1cef48ae8406d5e1ba31584b",
       "style": "IPY_MODEL_f3bc6ed5440946449e4a96b8bf64590f"
      }
     },
     "677e4d80dbed43c99f54ccae1e1d4185": {
      "model_module": "@jupyter-widgets/base",
      "model_module_version": "1.2.0",
      "model_name": "LayoutModel",
      "state": {}
     },
     "684a510a245642f19245182ae6c91f21": {
      "model_module": "@jupyter-widgets/controls",
      "model_module_version": "1.5.0",
      "model_name": "HBoxModel",
      "state": {
       "children": [
        "IPY_MODEL_73fa8a1e57594ba5a962a84753d6ec55",
        "IPY_MODEL_63bda07c759c48018686284dd5de708d"
       ],
       "layout": "IPY_MODEL_4bc0d1f1f035482e9ab4b0aa9ee42333"
      }
     },
     "694d0f36f4cb487693c0afb17d9349b7": {
      "model_module": "@jupyter-widgets/controls",
      "model_module_version": "1.5.0",
      "model_name": "TextModel",
      "state": {
       "continuous_update": false,
       "description": "name",
       "layout": "IPY_MODEL_34393aac172242b5970e101380247e91",
       "style": "IPY_MODEL_5907cc2d1c8646978795d6b8c7e28dc4",
       "value": "leaf_old"
      }
     },
     "6b39afd646254ae89df8b60f585940bc": {
      "model_module": "@jupyter-widgets/controls",
      "model_module_version": "1.5.0",
      "model_name": "ColorPickerModel",
      "state": {
       "description": "ambient",
       "disabled": false,
       "layout": "IPY_MODEL_96760b2055ec41b39a4bb03b83cf392a",
       "style": "IPY_MODEL_878d9312a952415ea68694b4d8ae6d5f",
       "value": "#0fc4db"
      }
     },
     "6d4491b629a14bf1b0efe0169dc78769": {
      "model_module": "@jupyter-widgets/controls",
      "model_module_version": "1.5.0",
      "model_name": "IntSliderModel",
      "state": {
       "continuous_update": false,
       "description": "value",
       "layout": "IPY_MODEL_c2da3a5c69054b14ab12993131e78338",
       "max": 10,
       "min": 1,
       "style": "IPY_MODEL_90cb54a8d07e46448a2eb20b7c81b764",
       "value": 2
      }
     },
     "6daeb386cb2247dab0b2df9940e7838d": {
      "model_module": "@jupyter-widgets/controls",
      "model_module_version": "1.5.0",
      "model_name": "FloatSliderModel",
      "state": {
       "continuous_update": false,
       "description": "shininess",
       "layout": "IPY_MODEL_fcbb505b92104feeb4c4c9a0f9a2670b",
       "max": 1,
       "step": 0.1,
       "style": "IPY_MODEL_5fb0e09cd3524b6c81f515f2e63df19e",
       "value": 0.2
      }
     },
     "70366e9fd9e64508867e4020fffe3207": {
      "model_module": "@jupyter-widgets/controls",
      "model_module_version": "1.5.0",
      "model_name": "BoundedIntTextModel",
      "state": {
       "description": "index",
       "layout": "IPY_MODEL_bdf611590dad4c2c8330a464fc41e261",
       "style": "IPY_MODEL_26fe836eaecb473d836aa51115c28f29",
       "value": 1
      }
     },
     "7078ecca717f485dac308a73f5e42052": {
      "model_module": "@jupyter-widgets/controls",
      "model_module_version": "1.5.0",
      "model_name": "DescriptionStyleModel",
      "state": {
       "description_width": ""
      }
     },
     "71c4c053982e45789a967cc75a7b4112": {
      "model_module": "@jupyter-widgets/base",
      "model_module_version": "1.2.0",
      "model_name": "LayoutModel",
      "state": {}
     },
     "73fa8a1e57594ba5a962a84753d6ec55": {
      "model_module": "@jupyter-widgets/controls",
      "model_module_version": "1.5.0",
      "model_name": "ButtonModel",
      "state": {
       "description": "Add",
       "layout": "IPY_MODEL_bf5de5e6f20d4d1c8001b05ccf48956e",
       "style": "IPY_MODEL_be42ddc2a668441c990b7e60edfc1c18"
      }
     },
     "742133c822e74aaeabf2f68610bd19ba": {
      "model_module": "@jupyter-widgets/controls",
      "model_module_version": "1.5.0",
      "model_name": "ButtonStyleModel",
      "state": {}
     },
     "77944407d4844ee585bfa157c4030ff9": {
      "model_module": "@jupyter-widgets/base",
      "model_module_version": "1.2.0",
      "model_name": "LayoutModel",
      "state": {
       "margin": "10px 10px"
      }
     },
     "77b60055b1934ea1be04e00c98307246": {
      "model_module": "@jupyter-widgets/controls",
      "model_module_version": "1.5.0",
      "model_name": "FloatSliderModel",
      "state": {
       "continuous_update": false,
       "description": "transparency",
       "layout": "IPY_MODEL_c188d3049a9e4136937b7eb45b063ade",
       "max": 1,
       "step": 0.1,
       "style": "IPY_MODEL_02bd0be06b36411994405e4d1ef9d7dc"
      }
     },
     "781e11d351dd4b6c8af00f2ef420f5ba": {
      "model_module": "@jupyter-widgets/base",
      "model_module_version": "1.2.0",
      "model_name": "LayoutModel",
      "state": {}
     },
     "7b4b4d39d5fa419581f93df2bd65715e": {
      "model_module": "@jupyter-widgets/controls",
      "model_module_version": "1.5.0",
      "model_name": "TextModel",
      "state": {
       "continuous_update": false,
       "description": "name",
       "layout": "IPY_MODEL_e62935dcbe0643cf975db291779cf82c",
       "style": "IPY_MODEL_54d1553471864d45a313feb576af4918",
       "value": "radinc"
      }
     },
     "7b88d3e2c63942499ee0faa58d9a3b13": {
      "model_module": "@jupyter-widgets/controls",
      "model_module_version": "1.5.0",
      "model_name": "DropdownModel",
      "state": {
       "_options_labels": [
        "Curve",
        "Function"
       ],
       "index": 0,
       "layout": "IPY_MODEL_628637904e9c47d9abe8b3e817df33b4",
       "style": "IPY_MODEL_4fec24212e81407085439cbef85ba1af"
      }
     },
     "7c5b616f33cc4bc1b4ce3f80d99f539c": {
      "model_module": "@jupyter-widgets/base",
      "model_module_version": "1.2.0",
      "model_name": "LayoutModel",
      "state": {}
     },
     "7d8965bcf8dd49dbb77f244431d55c1b": {
      "model_module": "@jupyter-widgets/controls",
      "model_module_version": "1.5.0",
      "model_name": "HBoxModel",
      "state": {
       "children": [
        "IPY_MODEL_3be4c651b3ff4b69bf8c0cb57f621b01",
        "IPY_MODEL_45aa94e067eb43028511471179f446d6"
       ],
       "layout": "IPY_MODEL_de221cf41cbb44c59aa8e6226d552fa3"
      }
     },
     "7dd2c2d9834b45d98e5966597d51c3ef": {
      "model_module": "@jupyter-widgets/base",
      "model_module_version": "1.2.0",
      "model_name": "LayoutModel",
      "state": {}
     },
     "7ef248c84c8540b9ac86b6d551cd0541": {
      "model_module": "@jupyter-widgets/controls",
      "model_module_version": "1.5.0",
      "model_name": "DescriptionStyleModel",
      "state": {
       "description_width": ""
      }
     },
     "7f3a9e55e29b4a58af79f94ddeffaf89": {
      "model_module": "@jupyter-widgets/base",
      "model_module_version": "1.2.0",
      "model_name": "LayoutModel",
      "state": {}
     },
     "7f51a974d3cf4d68b870a6e3b5f0ba3e": {
      "model_module": "@jupyter-widgets/controls",
      "model_module_version": "1.5.0",
      "model_name": "FloatSliderModel",
      "state": {
       "continuous_update": false,
       "description": "shininess",
       "layout": "IPY_MODEL_52ba0870bf004ce09dbc85c29bfaebec",
       "max": 1,
       "step": 0.1,
       "style": "IPY_MODEL_3e5ec86bf7c54cf187e069892e89f6a3",
       "value": 0.2
      }
     },
     "805489250f3c48d89a2ad0a2113f26c2": {
      "model_module": "@jupyter-widgets/controls",
      "model_module_version": "1.5.0",
      "model_name": "ButtonModel",
      "state": {
       "description": "Add",
       "layout": "IPY_MODEL_0cfa674f2f874c53af4576f92712122b",
       "style": "IPY_MODEL_2f78bf9cbda8483d85d59d409bf97809"
      }
     },
     "80cab3379a204ed2aa6b288aa6fca22e": {
      "model_module": "@jupyter-widgets/base",
      "model_module_version": "1.2.0",
      "model_name": "LayoutModel",
      "state": {}
     },
     "81c3541e3ce14d89b3ede83e484fa67a": {
      "model_module": "@jupyter-widgets/controls",
      "model_module_version": "1.5.0",
      "model_name": "SliderStyleModel",
      "state": {
       "description_width": ""
      }
     },
     "821e7d28aa904088b1abada6ac3a0ad7": {
      "model_module": "@jupyter-widgets/base",
      "model_module_version": "1.2.0",
      "model_name": "LayoutModel",
      "state": {}
     },
     "829947c6fb37410fa103ae388dc167eb": {
      "model_module": "@jupyter-widgets/base",
      "model_module_version": "1.2.0",
      "model_name": "LayoutModel",
      "state": {}
     },
     "878d9312a952415ea68694b4d8ae6d5f": {
      "model_module": "@jupyter-widgets/controls",
      "model_module_version": "1.5.0",
      "model_name": "DescriptionStyleModel",
      "state": {
       "description_width": ""
      }
     },
     "87a12e7726474f2f9bb3fcc77eef41c7": {
      "model_module": "@jupyter-widgets/base",
      "model_module_version": "1.2.0",
      "model_name": "LayoutModel",
      "state": {
       "margin": "10px 10px"
      }
     },
     "8b24f6a41b444638822f40fc76040504": {
      "model_module": "@jupyter-widgets/controls",
      "model_module_version": "1.5.0",
      "model_name": "SliderStyleModel",
      "state": {
       "description_width": ""
      }
     },
     "8da14ec75e96438fabce1b289366a387": {
      "model_module": "@jupyter-widgets/controls",
      "model_module_version": "1.5.0",
      "model_name": "CheckboxModel",
      "state": {
       "description": "Auto save",
       "disabled": false,
       "layout": "IPY_MODEL_5ff8f203e7a649c3ba15eabb0f4da3ae",
       "style": "IPY_MODEL_ca73b0777ba0437c8df09910f8d286ec",
       "value": false
      }
     },
     "8deeb26a9ce44a6a8a70211f65f98932": {
      "model_module": "@jupyter-widgets/controls",
      "model_module_version": "1.5.0",
      "model_name": "HBoxModel",
      "state": {
       "children": [
        "IPY_MODEL_a36aca9e06e749c3b3e5fbdf50860f12",
        "IPY_MODEL_7b88d3e2c63942499ee0faa58d9a3b13"
       ],
       "layout": "IPY_MODEL_7c5b616f33cc4bc1b4ce3f80d99f539c"
      }
     },
     "8e8866cf67f6424cbf3f3d7fb7e17e39": {
      "model_module": "@jupyter-widgets/base",
      "model_module_version": "1.2.0",
      "model_name": "LayoutModel",
      "state": {}
     },
     "8f9200c1d810456194e1b820db7afe4b": {
      "model_module": "@jupyter-widgets/controls",
      "model_module_version": "1.5.0",
      "model_name": "FloatSliderModel",
      "state": {
       "continuous_update": false,
       "description": "transparency",
       "layout": "IPY_MODEL_44a95ecdf5ff4007b0f87011d4a92922",
       "max": 1,
       "step": 0.1,
       "style": "IPY_MODEL_aa9acd5d720545cbb4d06b96a7271f3a"
      }
     },
     "90cb54a8d07e46448a2eb20b7c81b764": {
      "model_module": "@jupyter-widgets/controls",
      "model_module_version": "1.5.0",
      "model_name": "SliderStyleModel",
      "state": {
       "description_width": ""
      }
     },
     "90e1ff03f91e43ff86146591ef0c69d5": {
      "model_module": "@jupyter-widgets/base",
      "model_module_version": "1.2.0",
      "model_name": "LayoutModel",
      "state": {}
     },
     "9458d0feea0d4220a150907b1bc68a78": {
      "model_module": "@jupyter-widgets/controls",
      "model_module_version": "1.5.0",
      "model_name": "DescriptionStyleModel",
      "state": {
       "description_width": ""
      }
     },
     "945f4b258b7b46aebcd9e2302b756fa8": {
      "model_module": "@jupyter-widgets/controls",
      "model_module_version": "1.5.0",
      "model_name": "DescriptionStyleModel",
      "state": {
       "description_width": ""
      }
     },
     "95a5d5fbbb8c4a68bd4c48b460ba617e": {
      "model_module": "@jupyter-widgets/base",
      "model_module_version": "1.2.0",
      "model_name": "LayoutModel",
      "state": {}
     },
     "96760b2055ec41b39a4bb03b83cf392a": {
      "model_module": "@jupyter-widgets/base",
      "model_module_version": "1.2.0",
      "model_name": "LayoutModel",
      "state": {}
     },
     "977a36e7f1fe4b569bec493914b26975": {
      "model_module": "@jupyter-widgets/controls",
      "model_module_version": "1.5.0",
      "model_name": "FloatSliderModel",
      "state": {
       "continuous_update": false,
       "description": "value",
       "layout": "IPY_MODEL_dd8969add03f4abbbf678b912fe9f308",
       "max": 0.1,
       "min": 0.01,
       "step": 0.01,
       "style": "IPY_MODEL_284ea09d858846839b819825c6b413f8",
       "value": 0.03
      }
     },
     "994aef21d4d34c4eadd8ddc89577b4d6": {
      "model_module": "@jupyter-widgets/controls",
      "model_module_version": "1.5.0",
      "model_name": "IntSliderModel",
      "state": {
       "continuous_update": false,
       "description": "value",
       "layout": "IPY_MODEL_00e4debe8c1544d59db97007ecb12f17",
       "max": 5,
       "min": 1,
       "style": "IPY_MODEL_de2ff9e82b4a4be2bbd1d919452c37ee",
       "value": 4
      }
     },
     "9f2ac3bfe2d8405fbd7ef0ca226e84ed": {
      "model_module": "@jupyter-widgets/controls",
      "model_module_version": "1.5.0",
      "model_name": "IntSliderModel",
      "state": {
       "continuous_update": false,
       "description": "value",
       "layout": "IPY_MODEL_3f597d06bdf0436aa5d4f998a0bc69b6",
       "max": 10,
       "min": 1,
       "style": "IPY_MODEL_f538845f4c944d12950c67792d427a74",
       "value": 5
      }
     },
     "a36aca9e06e749c3b3e5fbdf50860f12": {
      "model_module": "@jupyter-widgets/controls",
      "model_module_version": "1.5.0",
      "model_name": "ButtonModel",
      "state": {
       "description": "Add",
       "layout": "IPY_MODEL_1b83cc8b6910455a9cdd305bf1b97143",
       "style": "IPY_MODEL_a9a4b9670dbb4bebb2019125efab8750"
      }
     },
     "a3ce7d6ee1bc44e6aa8882ea7061f036": {
      "model_module": "@jupyter-widgets/controls",
      "model_module_version": "1.5.0",
      "model_name": "SliderStyleModel",
      "state": {
       "description_width": ""
      }
     },
     "a425c51b7712408db997296e8c213f3b": {
      "model_module": "@jupyter-widgets/controls",
      "model_module_version": "1.5.0",
      "model_name": "TextModel",
      "state": {
       "continuous_update": false,
       "description": "name",
       "layout": "IPY_MODEL_4113b545043540e1bc401385ce2867f6",
       "style": "IPY_MODEL_945f4b258b7b46aebcd9e2302b756fa8",
       "value": "leafduration"
      }
     },
     "a4dbfeae6037401db747d99e25fcef71": {
      "model_module": "@jupyter-widgets/base",
      "model_module_version": "1.2.0",
      "model_name": "LayoutModel",
      "state": {}
     },
     "a5acb27503ce473c80abb553f3232ae0": {
      "model_module": "@jupyter-widgets/base",
      "model_module_version": "1.2.0",
      "model_name": "LayoutModel",
      "state": {}
     },
     "a62a0ffa8c75420a83a70023b17e47cb": {
      "model_module": "@jupyter-widgets/controls",
      "model_module_version": "1.5.0",
      "model_name": "HBoxModel",
      "state": {
       "layout": "IPY_MODEL_05ca3a66889f49d1afcfc3dec807686a"
      }
     },
     "a699fb4eea2c4b6197ee3a9a146b670e": {
      "model_module": "@jupyter-widgets/base",
      "model_module_version": "1.2.0",
      "model_name": "LayoutModel",
      "state": {}
     },
     "a71f4a4fe95449efa819692f6ac6b2ee": {
      "model_module": "@jupyter-widgets/controls",
      "model_module_version": "1.5.0",
      "model_name": "DropdownModel",
      "state": {
       "_options_labels": [
        "Curve",
        "Function"
       ],
       "index": 0,
       "layout": "IPY_MODEL_2162f25ec5ac430bb2e0b577a3d5a5db",
       "style": "IPY_MODEL_b3a5523c07b944009749e03088914c51"
      }
     },
     "a980782b298846938993372df5548276": {
      "model_module": "@jupyter-widgets/base",
      "model_module_version": "1.2.0",
      "model_name": "LayoutModel",
      "state": {}
     },
     "a9a4b9670dbb4bebb2019125efab8750": {
      "model_module": "@jupyter-widgets/controls",
      "model_module_version": "1.5.0",
      "model_name": "ButtonStyleModel",
      "state": {}
     },
     "a9fac0091e7e4820b2b70cecf06ab538": {
      "model_module": "@jupyter-widgets/controls",
      "model_module_version": "1.5.0",
      "model_name": "DescriptionStyleModel",
      "state": {
       "description_width": ""
      }
     },
     "aa26b31021ad459d832272b6661ba7a4": {
      "model_module": "@jupyter-widgets/controls",
      "model_module_version": "1.5.0",
      "model_name": "TextModel",
      "state": {
       "continuous_update": false,
       "description": "name",
       "layout": "IPY_MODEL_a4dbfeae6037401db747d99e25fcef71",
       "style": "IPY_MODEL_7ef248c84c8540b9ac86b6d551cd0541",
       "value": "leafold"
      }
     },
     "aa9acd5d720545cbb4d06b96a7271f3a": {
      "model_module": "@jupyter-widgets/controls",
      "model_module_version": "1.5.0",
      "model_name": "SliderStyleModel",
      "state": {
       "description_width": ""
      }
     },
     "aab325807a8141c7a00a8d4aafdfd59e": {
      "model_module": "@jupyter-widgets/controls",
      "model_module_version": "1.5.0",
      "model_name": "DescriptionStyleModel",
      "state": {
       "description_width": ""
      }
     },
     "abb3c03b73dc4caf864c7d0a72058e3f": {
      "model_module": "@jupyter-widgets/controls",
      "model_module_version": "1.5.0",
      "model_name": "DescriptionStyleModel",
      "state": {
       "description_width": ""
      }
     },
     "ac16d3ea6f3544a6bab92ea6bc2af45f": {
      "model_module": "@jupyter-widgets/base",
      "model_module_version": "1.2.0",
      "model_name": "LayoutModel",
      "state": {}
     },
     "ac285f85c9804342a2e99b48e9b9b3cb": {
      "model_module": "@jupyter-widgets/controls",
      "model_module_version": "1.5.0",
      "model_name": "SliderStyleModel",
      "state": {
       "description_width": ""
      }
     },
     "ad96d738f3dc49968e96ca8d059bd7c5": {
      "model_module": "@jupyter-widgets/controls",
      "model_module_version": "1.5.0",
      "model_name": "VBoxModel",
      "state": {
       "children": [
        "IPY_MODEL_c3e9075780d8406a8dce6054ac0d584a",
        "IPY_MODEL_1b05f72c34c74f05ab7b15ef9aa54d17"
       ],
       "layout": "IPY_MODEL_26b68cbbb6f54067ad24bcc694d73542"
      }
     },
     "af4c04135dbd4c79bfbc71c037c904af": {
      "model_module": "@jupyter-widgets/controls",
      "model_module_version": "1.5.0",
      "model_name": "DescriptionStyleModel",
      "state": {
       "description_width": ""
      }
     },
     "af4fa2bf48ac41d382620c1182dea2d2": {
      "model_module": "@jupyter-widgets/base",
      "model_module_version": "1.2.0",
      "model_name": "LayoutModel",
      "state": {}
     },
     "afbd64b3cce2488aa5a8a46b5eb293cc": {
      "model_module": "@jupyter-widgets/base",
      "model_module_version": "1.2.0",
      "model_name": "LayoutModel",
      "state": {}
     },
     "b2682ec79d344fc1a596037ec2ae3c5d": {
      "model_module": "@jupyter-widgets/controls",
      "model_module_version": "1.5.0",
      "model_name": "DescriptionStyleModel",
      "state": {
       "description_width": ""
      }
     },
     "b2a105fb74764042a0c5f8fc7f9f7d93": {
      "model_module": "@jupyter-widgets/base",
      "model_module_version": "1.2.0",
      "model_name": "LayoutModel",
      "state": {
       "margin": "10px 10px"
      }
     },
     "b3a5523c07b944009749e03088914c51": {
      "model_module": "@jupyter-widgets/controls",
      "model_module_version": "1.5.0",
      "model_name": "DescriptionStyleModel",
      "state": {
       "description_width": ""
      }
     },
     "b4896d33238f4933bff3b89ac9fbe2c5": {
      "model_module": "@jupyter-widgets/controls",
      "model_module_version": "1.5.0",
      "model_name": "TextModel",
      "state": {
       "layout": "IPY_MODEL_dd4fc7f7eec34dd68bb2bda476c09e8b",
       "placeholder": "category name",
       "style": "IPY_MODEL_0c75db4309074c55bee79ff4e0826c05"
      }
     },
     "b4f53d84eef5460ca6039f25d22444ee": {
      "model_module": "@jupyter-widgets/controls",
      "model_module_version": "1.5.0",
      "model_name": "ColorPickerModel",
      "state": {
       "description": "ambient",
       "disabled": false,
       "layout": "IPY_MODEL_3e863b9da7a142ab90605abf21972722",
       "style": "IPY_MODEL_e96c872767f04a92ab0a8a87b5fccf94",
       "value": "#e1a014"
      }
     },
     "b545316812fb4a9189eed15b6979dd2c": {
      "model_module": "@jupyter-widgets/controls",
      "model_module_version": "1.5.0",
      "model_name": "DescriptionStyleModel",
      "state": {
       "description_width": ""
      }
     },
     "bae198bd31ae4566892950030aa8f0f9": {
      "model_module": "@jupyter-widgets/controls",
      "model_module_version": "1.5.0",
      "model_name": "SliderStyleModel",
      "state": {
       "description_width": ""
      }
     },
     "bdf611590dad4c2c8330a464fc41e261": {
      "model_module": "@jupyter-widgets/base",
      "model_module_version": "1.2.0",
      "model_name": "LayoutModel",
      "state": {}
     },
     "be24ca90f154448a9a01fe870f65d609": {
      "model_module": "@jupyter-widgets/base",
      "model_module_version": "1.2.0",
      "model_name": "LayoutModel",
      "state": {}
     },
     "be42ddc2a668441c990b7e60edfc1c18": {
      "model_module": "@jupyter-widgets/controls",
      "model_module_version": "1.5.0",
      "model_name": "ButtonStyleModel",
      "state": {}
     },
     "bf5de5e6f20d4d1c8001b05ccf48956e": {
      "model_module": "@jupyter-widgets/base",
      "model_module_version": "1.2.0",
      "model_name": "LayoutModel",
      "state": {}
     },
     "bfa683c041064647abea7397b367a143": {
      "model_module": "@jupyter-widgets/controls",
      "model_module_version": "1.5.0",
      "model_name": "HBoxModel",
      "state": {
       "children": [
        "IPY_MODEL_d5f75b6522364a7f83022945dc48a783",
        "IPY_MODEL_c4a2a4515aa445b29cf77e74697f675a",
        "IPY_MODEL_55198910c2e646cfaf2f58703380e428"
       ],
       "layout": "IPY_MODEL_05ca3a66889f49d1afcfc3dec807686a"
      }
     },
     "c0c61bcc97b24068b80d23fe87c95d78": {
      "model_module": "@jupyter-widgets/controls",
      "model_module_version": "1.5.0",
      "model_name": "HBoxModel",
      "state": {
       "children": [
        "IPY_MODEL_7d8965bcf8dd49dbb77f244431d55c1b",
        "IPY_MODEL_d8638a4953dd464a8e963a7cb56e579a",
        "IPY_MODEL_c5ed3214ff804166b6d5e035c9c6165b"
       ],
       "layout": "IPY_MODEL_305135b5b9164779a7d4debf0dc8d471"
      }
     },
     "c188d3049a9e4136937b7eb45b063ade": {
      "model_module": "@jupyter-widgets/base",
      "model_module_version": "1.2.0",
      "model_name": "LayoutModel",
      "state": {}
     },
     "c2c56c4bb3b74d2f92d8dfcead024fbe": {
      "model_module": "pgljupyter",
      "model_module_version": "^1.0.3",
      "model_name": "MaterialEditorModel",
      "state": {
       "_model_module_version": "^1.0.3",
       "_view_module_version": "^1.0.3",
       "children": [
        "IPY_MODEL_70366e9fd9e64508867e4020fffe3207",
        "IPY_MODEL_db3e5add2c3847f48b12b372c72e0b08",
        "IPY_MODEL_ee516af6125f48d98fe0c767fabf8944",
        "IPY_MODEL_175731baa7eb47739ace4c0eac520aaf",
        "IPY_MODEL_54fccc98eaa044b88506425e7c9ec1f3",
        "IPY_MODEL_8f9200c1d810456194e1b820db7afe4b",
        "IPY_MODEL_5e34d97647d84cf9902d094e911bbcd0"
       ],
       "layout": "IPY_MODEL_4b4f44b6a0ab44be9ba3f5a20403d330"
      }
     },
     "c2da3a5c69054b14ab12993131e78338": {
      "model_module": "@jupyter-widgets/base",
      "model_module_version": "1.2.0",
      "model_name": "LayoutModel",
      "state": {}
     },
     "c3e9075780d8406a8dce6054ac0d584a": {
      "model_module": "@jupyter-widgets/controls",
      "model_module_version": "1.5.0",
      "model_name": "HBoxModel",
      "state": {
       "children": [
        "IPY_MODEL_43f0fc92cc8a40eb996d421a7e9c8dcf",
        "IPY_MODEL_c5d12562f19d46bc959971214366c320"
       ],
       "layout": "IPY_MODEL_71c4c053982e45789a967cc75a7b4112"
      }
     },
     "c4a2a4515aa445b29cf77e74697f675a": {
      "model_module": "pgljupyter",
      "model_module_version": "^1.0.3",
      "model_name": "FloatEditorModel",
      "state": {
       "_model_module_version": "^1.0.3",
       "_view_module_version": "^1.0.3",
       "children": [
        "IPY_MODEL_7b4b4d39d5fa419581f93df2bd65715e",
        "IPY_MODEL_977a36e7f1fe4b569bec493914b26975"
       ],
       "layout": "IPY_MODEL_0a1c3efdfd0248be9d1c6c672da7fbb5"
      }
     },
     "c5d12562f19d46bc959971214366c320": {
      "model_module": "@jupyter-widgets/controls",
      "model_module_version": "1.5.0",
      "model_name": "DropdownModel",
      "state": {
       "_options_labels": [
        "Color"
       ],
       "index": 0,
       "layout": "IPY_MODEL_26b0d4bcda344e1a99696aea80890980",
       "style": "IPY_MODEL_e0aaae6b1616492bb552f71dac6b3c17"
      }
     },
     "c5ed3214ff804166b6d5e035c9c6165b": {
      "model_module": "@jupyter-widgets/controls",
      "model_module_version": "1.5.0",
      "model_name": "HBoxModel",
      "state": {
       "children": [
        "IPY_MODEL_22abfc4835ae4681a8ce2b46369e3038",
        "IPY_MODEL_b4896d33238f4933bff3b89ac9fbe2c5"
       ],
       "layout": "IPY_MODEL_781e11d351dd4b6c8af00f2ef420f5ba"
      }
     },
     "ca73b0777ba0437c8df09910f8d286ec": {
      "model_module": "@jupyter-widgets/controls",
      "model_module_version": "1.5.0",
      "model_name": "DescriptionStyleModel",
      "state": {
       "description_width": ""
      }
     },
     "cbf660664e424fd4a7b14059222c4b8d": {
      "model_module": "@jupyter-widgets/controls",
      "model_module_version": "1.5.0",
      "model_name": "ButtonModel",
      "state": {
       "description": "Add",
       "layout": "IPY_MODEL_90e1ff03f91e43ff86146591ef0c69d5",
       "style": "IPY_MODEL_e0843e4b5e6a465f8de976b1bcd9c25c"
      }
     },
     "ce5d388890b24f5ca805f2fda72e19e9": {
      "model_module": "@jupyter-widgets/controls",
      "model_module_version": "1.5.0",
      "model_name": "DescriptionStyleModel",
      "state": {
       "description_width": ""
      }
     },
     "d24eff4e59f04e7388ef48a9205d4540": {
      "model_module": "@jupyter-widgets/controls",
      "model_module_version": "1.5.0",
      "model_name": "AccordionModel",
      "state": {
       "layout": "IPY_MODEL_fa00abab2c2145ef9be0f2570a32538b"
      }
     },
     "d345d79cef10447690718114fd0aafcf": {
      "model_module": "@jupyter-widgets/base",
      "model_module_version": "1.2.0",
      "model_name": "LayoutModel",
      "state": {}
     },
     "d4eecedee41c4c1c81e8cfb9e2e6c96b": {
      "model_module": "@jupyter-widgets/controls",
      "model_module_version": "1.5.0",
      "model_name": "TextModel",
      "state": {
       "continuous_update": false,
       "description": "name",
       "layout": "IPY_MODEL_a5acb27503ce473c80abb553f3232ae0",
       "style": "IPY_MODEL_b545316812fb4a9189eed15b6979dd2c",
       "value": "apex"
      }
     },
     "d5f75b6522364a7f83022945dc48a783": {
      "model_module": "pgljupyter",
      "model_module_version": "^1.0.3",
      "model_name": "IntEditorModel",
      "state": {
       "_model_module_version": "^1.0.3",
       "_view_module_version": "^1.0.3",
       "children": [
        "IPY_MODEL_d991ffc69bc944afa0b2ad63f4a7ad16",
        "IPY_MODEL_9f2ac3bfe2d8405fbd7ef0ca226e84ed"
       ],
       "layout": "IPY_MODEL_b2a105fb74764042a0c5f8fc7f9f7d93"
      }
     },
     "d682fd01985a4f20ab61a825680fa4b0": {
      "model_module": "@jupyter-widgets/base",
      "model_module_version": "1.2.0",
      "model_name": "LayoutModel",
      "state": {}
     },
     "d7ecea27b5ad4b2e9ff2744becea60e6": {
      "model_module": "@jupyter-widgets/base",
      "model_module_version": "1.2.0",
      "model_name": "LayoutModel",
      "state": {}
     },
     "d809f0a2c4b14ca1a5557ad4fed8270f": {
      "model_module": "@jupyter-widgets/controls",
      "model_module_version": "1.5.0",
      "model_name": "FloatSliderModel",
      "state": {
       "continuous_update": false,
       "description": "transparency",
       "layout": "IPY_MODEL_be24ca90f154448a9a01fe870f65d609",
       "max": 1,
       "step": 0.1,
       "style": "IPY_MODEL_8b24f6a41b444638822f40fc76040504"
      }
     },
     "d816f06830504e1a8f116a575ba1beae": {
      "model_module": "@jupyter-widgets/base",
      "model_module_version": "1.2.0",
      "model_name": "LayoutModel",
      "state": {}
     },
     "d8638a4953dd464a8e963a7cb56e579a": {
      "model_module": "@jupyter-widgets/controls",
      "model_module_version": "1.5.0",
      "model_name": "HBoxModel",
      "state": {
       "children": [
        "IPY_MODEL_05c3179159564ea180fdc2f7e9ff2683",
        "IPY_MODEL_8da14ec75e96438fabce1b289366a387"
       ],
       "layout": "IPY_MODEL_60978ce1d8444f33b4c1921a3edf4b6f"
      }
     },
     "d991ffc69bc944afa0b2ad63f4a7ad16": {
      "model_module": "@jupyter-widgets/controls",
      "model_module_version": "1.5.0",
      "model_name": "TextModel",
      "state": {
       "continuous_update": false,
       "description": "name",
       "layout": "IPY_MODEL_26870fca74c14d0fa1a5d0ee53116510",
       "style": "IPY_MODEL_0e87ae5e53eb4915a310d38f4c4a308d",
       "value": "maxorder"
      }
     },
     "db3e5add2c3847f48b12b372c72e0b08": {
      "model_module": "@jupyter-widgets/controls",
      "model_module_version": "1.5.0",
      "model_name": "ColorPickerModel",
      "state": {
       "description": "ambient",
       "disabled": false,
       "layout": "IPY_MODEL_ea9ab25fae4d41c2b127ce84bb52c94d",
       "style": "IPY_MODEL_f70a03d095dc4034afe8bb42fdb1e069",
       "value": "#5b4534"
      }
     },
     "dd4fc7f7eec34dd68bb2bda476c09e8b": {
      "model_module": "@jupyter-widgets/base",
      "model_module_version": "1.2.0",
      "model_name": "LayoutModel",
      "state": {}
     },
     "dd8969add03f4abbbf678b912fe9f308": {
      "model_module": "@jupyter-widgets/base",
      "model_module_version": "1.2.0",
      "model_name": "LayoutModel",
      "state": {}
     },
     "de221cf41cbb44c59aa8e6226d552fa3": {
      "model_module": "@jupyter-widgets/base",
      "model_module_version": "1.2.0",
      "model_name": "LayoutModel",
      "state": {}
     },
     "de2ff9e82b4a4be2bbd1d919452c37ee": {
      "model_module": "@jupyter-widgets/controls",
      "model_module_version": "1.5.0",
      "model_name": "SliderStyleModel",
      "state": {
       "description_width": ""
      }
     },
     "df7a3ac59da5475492f808e38b5b08e8": {
      "model_module": "@jupyter-widgets/base",
      "model_module_version": "1.2.0",
      "model_name": "LayoutModel",
      "state": {}
     },
     "df9d9b0ae123419c831c09a7cf16074b": {
      "model_module": "@jupyter-widgets/controls",
      "model_module_version": "1.5.0",
      "model_name": "FloatSliderModel",
      "state": {
       "continuous_update": false,
       "description": "diffuse",
       "layout": "IPY_MODEL_d816f06830504e1a8f116a575ba1beae",
       "max": 3,
       "step": 0.1,
       "style": "IPY_MODEL_feac149858d24147af8147d1560033f9",
       "value": 1
      }
     },
     "e0843e4b5e6a465f8de976b1bcd9c25c": {
      "model_module": "@jupyter-widgets/controls",
      "model_module_version": "1.5.0",
      "model_name": "ButtonStyleModel",
      "state": {}
     },
     "e0aaae6b1616492bb552f71dac6b3c17": {
      "model_module": "@jupyter-widgets/controls",
      "model_module_version": "1.5.0",
      "model_name": "DescriptionStyleModel",
      "state": {
       "description_width": ""
      }
     },
     "e3a4cebb677345918732ce7f77e750af": {
      "model_module": "@jupyter-widgets/base",
      "model_module_version": "1.2.0",
      "model_name": "LayoutModel",
      "state": {}
     },
     "e4648200344b43c582af18c84c106844": {
      "model_module": "@jupyter-widgets/base",
      "model_module_version": "1.2.0",
      "model_name": "LayoutModel",
      "state": {}
     },
     "e478ab2593a04818b6e85a57667695fd": {
      "model_module": "@jupyter-widgets/base",
      "model_module_version": "1.2.0",
      "model_name": "LayoutModel",
      "state": {}
     },
     "e62935dcbe0643cf975db291779cf82c": {
      "model_module": "@jupyter-widgets/base",
      "model_module_version": "1.2.0",
      "model_name": "LayoutModel",
      "state": {}
     },
     "e6b8a920de474b8197efd26805ca34c2": {
      "model_module": "@jupyter-widgets/controls",
      "model_module_version": "1.5.0",
      "model_name": "ColorPickerModel",
      "state": {
       "description": "emission",
       "disabled": false,
       "layout": "IPY_MODEL_1e743f95e61744d0a1c7f3bd6c849092",
       "style": "IPY_MODEL_e711916ae2b34974a1043c189b60ce9d",
       "value": "#000000"
      }
     },
     "e711916ae2b34974a1043c189b60ce9d": {
      "model_module": "@jupyter-widgets/controls",
      "model_module_version": "1.5.0",
      "model_name": "DescriptionStyleModel",
      "state": {
       "description_width": ""
      }
     },
     "e96c872767f04a92ab0a8a87b5fccf94": {
      "model_module": "@jupyter-widgets/controls",
      "model_module_version": "1.5.0",
      "model_name": "DescriptionStyleModel",
      "state": {
       "description_width": ""
      }
     },
     "ea9ab25fae4d41c2b127ce84bb52c94d": {
      "model_module": "@jupyter-widgets/base",
      "model_module_version": "1.2.0",
      "model_name": "LayoutModel",
      "state": {}
     },
     "eb3d2698e6bd47ca887511122ab9a8cf": {
      "model_module": "@jupyter-widgets/controls",
      "model_module_version": "1.5.0",
      "model_name": "HBoxModel",
      "state": {
       "children": [
        "IPY_MODEL_ec8b07c973fb4356981938d22c7dccb4",
        "IPY_MODEL_071abbf4f4364918b0b27b2a9b04be9e"
       ],
       "layout": "IPY_MODEL_05ca3a66889f49d1afcfc3dec807686a"
      }
     },
     "ec8b07c973fb4356981938d22c7dccb4": {
      "model_module": "pgljupyter",
      "model_module_version": "^1.0.3",
      "model_name": "IntEditorModel",
      "state": {
       "_model_module_version": "^1.0.3",
       "_view_module_version": "^1.0.3",
       "children": [
        "IPY_MODEL_a425c51b7712408db997296e8c213f3b",
        "IPY_MODEL_1b2ba50e2e244ac4960ae009e8e75491"
       ],
       "layout": "IPY_MODEL_87a12e7726474f2f9bb3fcc77eef41c7"
      }
     },
     "edde7de596c746edac21f0bc0935cc5f": {
      "model_module": "@jupyter-widgets/base",
      "model_module_version": "1.2.0",
      "model_name": "LayoutModel",
      "state": {}
     },
     "ee516af6125f48d98fe0c767fabf8944": {
      "model_module": "@jupyter-widgets/controls",
      "model_module_version": "1.5.0",
      "model_name": "ColorPickerModel",
      "state": {
       "description": "specular",
       "disabled": false,
       "layout": "IPY_MODEL_16b6ca717944410c85a5df85fabe61a9",
       "style": "IPY_MODEL_aab325807a8141c7a00a8d4aafdfd59e",
       "value": "#282828"
      }
     },
     "f0380310fe90428ab6f1d5c90ad6238e": {
      "model_module": "@jupyter-widgets/controls",
      "model_module_version": "1.5.0",
      "model_name": "FloatSliderModel",
      "state": {
       "continuous_update": false,
       "description": "diffuse",
       "layout": "IPY_MODEL_4d672d6afbf24388b5cf5ee2f3e4e7ec",
       "max": 3,
       "step": 0.1,
       "style": "IPY_MODEL_f06b60165cdf4da8b03aefaa46b3864c",
       "value": 1.1643835616438356
      }
     },
     "f06b60165cdf4da8b03aefaa46b3864c": {
      "model_module": "@jupyter-widgets/controls",
      "model_module_version": "1.5.0",
      "model_name": "SliderStyleModel",
      "state": {
       "description_width": ""
      }
     },
     "f0763d842c8445ffb5dfbab713049a25": {
      "model_module": "@jupyter-widgets/controls",
      "model_module_version": "1.5.0",
      "model_name": "DescriptionStyleModel",
      "state": {
       "description_width": ""
      }
     },
     "f131399a0d23427db2bcc5dced6327ab": {
      "model_module": "@jupyter-widgets/controls",
      "model_module_version": "1.5.0",
      "model_name": "ButtonStyleModel",
      "state": {}
     },
     "f3bc6ed5440946449e4a96b8bf64590f": {
      "model_module": "@jupyter-widgets/controls",
      "model_module_version": "1.5.0",
      "model_name": "DescriptionStyleModel",
      "state": {
       "description_width": ""
      }
     },
     "f3f377f05164495c89c11b01154b5deb": {
      "model_module": "@jupyter-widgets/controls",
      "model_module_version": "1.5.0",
      "model_name": "TextModel",
      "state": {
       "continuous_update": false,
       "description": "name",
       "layout": "IPY_MODEL_95a5d5fbbb8c4a68bd4c48b460ba617e",
       "style": "IPY_MODEL_a9fac0091e7e4820b2b70cecf06ab538",
       "value": "trunk"
      }
     },
     "f538845f4c944d12950c67792d427a74": {
      "model_module": "@jupyter-widgets/controls",
      "model_module_version": "1.5.0",
      "model_name": "SliderStyleModel",
      "state": {
       "description_width": ""
      }
     },
     "f70a03d095dc4034afe8bb42fdb1e069": {
      "model_module": "@jupyter-widgets/controls",
      "model_module_version": "1.5.0",
      "model_name": "DescriptionStyleModel",
      "state": {
       "description_width": ""
      }
     },
     "f796a9f9f7b94b618d1b63d8c0b829a0": {
      "model_module": "@jupyter-widgets/controls",
      "model_module_version": "1.5.0",
      "model_name": "ButtonStyleModel",
      "state": {}
     },
     "f8d632eb185c4c96aa5f5b1d40b429f6": {
      "model_module": "@jupyter-widgets/base",
      "model_module_version": "1.2.0",
      "model_name": "LayoutModel",
      "state": {}
     },
     "f8eaa0b1f1b543b9a0a10bc6a4bc4310": {
      "model_module": "@jupyter-widgets/controls",
      "model_module_version": "1.5.0",
      "model_name": "HBoxModel",
      "state": {
       "children": [
        "IPY_MODEL_805489250f3c48d89a2ad0a2113f26c2",
        "IPY_MODEL_5ce7297081734726b38fee0960ba8063"
       ],
       "layout": "IPY_MODEL_041acc0e8ccc4125b36b35a8f86b8d64"
      }
     },
     "fa00abab2c2145ef9be0f2570a32538b": {
      "model_module": "@jupyter-widgets/base",
      "model_module_version": "1.2.0",
      "model_name": "LayoutModel",
      "state": {}
     },
     "fb7036185bea4c6a9cfbd1f6a0fb6371": {
      "model_module": "@jupyter-widgets/controls",
      "model_module_version": "1.5.0",
      "model_name": "SliderStyleModel",
      "state": {
       "description_width": ""
      }
     },
     "fcbb505b92104feeb4c4c9a0f9a2670b": {
      "model_module": "@jupyter-widgets/base",
      "model_module_version": "1.2.0",
      "model_name": "LayoutModel",
      "state": {}
     },
     "fcde8d6a4611418ab18a58742122a79b": {
      "model_module": "@jupyter-widgets/controls",
      "model_module_version": "1.5.0",
      "model_name": "VBoxModel",
      "state": {
       "children": [
        "IPY_MODEL_f8eaa0b1f1b543b9a0a10bc6a4bc4310",
        "IPY_MODEL_eb3d2698e6bd47ca887511122ab9a8cf",
        "IPY_MODEL_42a9d3f18f8f4a58a6c70522e1b8b510",
        "IPY_MODEL_1c2e8b953d9b46448468da190f3448b9"
       ],
       "layout": "IPY_MODEL_d7ecea27b5ad4b2e9ff2744becea60e6"
      }
     },
     "fdc37c9f228c4c3986e154ceac05bce0": {
      "model_module": "pgljupyter",
      "model_module_version": "^1.0.3",
      "model_name": "MaterialEditorModel",
      "state": {
       "_model_module_version": "^1.0.3",
       "_view_module_version": "^1.0.3",
       "children": [
        "IPY_MODEL_48dac04b27f54490b2449e2b0f5af787",
        "IPY_MODEL_6b39afd646254ae89df8b60f585940bc",
        "IPY_MODEL_4980f995cb634254b00820c8fcc4e2ee",
        "IPY_MODEL_2ff608e26d6e4d6fb7c1e68b5f91c39d",
        "IPY_MODEL_f0380310fe90428ab6f1d5c90ad6238e",
        "IPY_MODEL_77b60055b1934ea1be04e00c98307246",
        "IPY_MODEL_388ed070a58a4c18897abf1b33369878"
       ],
       "layout": "IPY_MODEL_2b158a5efc7f4463bfb6c9fb4a9c0b8a"
      }
     },
     "feac149858d24147af8147d1560033f9": {
      "model_module": "@jupyter-widgets/controls",
      "model_module_version": "1.5.0",
      "model_name": "SliderStyleModel",
      "state": {
       "description_width": ""
      }
     },
     "ff4f4bf7dd6a46d9a669cb005d6114d5": {
      "model_module": "@jupyter-widgets/controls",
      "model_module_version": "1.5.0",
      "model_name": "DescriptionStyleModel",
      "state": {
       "description_width": ""
      }
     }
    },
    "version_major": 2,
    "version_minor": 0
   }
  }
 },
 "nbformat": 4,
 "nbformat_minor": 4
}
