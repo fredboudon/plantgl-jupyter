{
 "cells": [
  {
   "cell_type": "code",
   "execution_count": 1,
   "metadata": {},
   "outputs": [],
   "source": [
    "from pgljupyter import LsystemWidget"
   ]
  },
  {
   "cell_type": "code",
   "execution_count": 2,
   "metadata": {},
   "outputs": [],
   "source": [
    "lw = LsystemWidget(\n",
    "    'leuwenberg.lpy',\n",
    "    unit='m',\n",
    "    size_display=(600, 400),\n",
    "    size_world=50,\n",
    "    animate=True\n",
    ")"
   ]
  },
  {
   "cell_type": "code",
   "execution_count": 3,
   "metadata": {},
   "outputs": [
    {
     "data": {
      "application/vnd.jupyter.widget-view+json": {
       "model_id": "077938163fff41738b2f1b91caff4566",
       "version_major": 2,
       "version_minor": 0
      },
      "text/plain": [
       "LsystemWidget(animate=True, derivationLength=42, scene={'data': b'x\\xdaSLrw\\xf5\\xf7e`Pp\\xe0\\xe5RPVVde```be\\x08…"
      ]
     },
     "metadata": {},
     "output_type": "display_data"
    }
   ],
   "source": [
    "lw"
   ]
  },
  {
   "cell_type": "code",
   "execution_count": null,
   "metadata": {},
   "outputs": [],
   "source": [
    "lw.editor"
   ]
  },
  {
   "cell_type": "code",
   "execution_count": null,
   "metadata": {},
   "outputs": [],
   "source": []
  }
 ],
 "metadata": {
  "kernelspec": {
   "display_name": "Python 3",
   "language": "python",
   "name": "python3"
  },
  "language_info": {
   "codemirror_mode": {
    "name": "ipython",
    "version": 3
   },
   "file_extension": ".py",
   "mimetype": "text/x-python",
   "name": "python",
   "nbconvert_exporter": "python",
   "pygments_lexer": "ipython3",
   "version": "3.9.0"
  },
  "widgets": {
   "application/vnd.jupyter.widget-state+json": {
    "state": {
     "0003eef9dd3941f89ac65b920608e8dc": {
      "model_module": "@jupyter-widgets/controls",
      "model_module_version": "1.5.0",
      "model_name": "TextModel",
      "state": {
       "continuous_update": false,
       "description": "name",
       "layout": "IPY_MODEL_0d347c8d511c4ca99b99c3030263eb62",
       "style": "IPY_MODEL_0c375f6ffc5f415bbfbaa228315317b0",
       "value": "leafold"
      }
     },
     "0008873d24ed4fa3b871bc34051bd716": {
      "model_module": "@jupyter-widgets/controls",
      "model_module_version": "1.5.0",
      "model_name": "TextModel",
      "state": {
       "continuous_update": false,
       "description": "name",
       "layout": "IPY_MODEL_67555ffb059840dd83d40a952b22cf1d",
       "style": "IPY_MODEL_bfcd0c0f65914aef9be1c321c3bcf1e0",
       "value": "leafold"
      }
     },
     "0010fef821bc48b083984f720d45fe40": {
      "model_module": "@jupyter-widgets/controls",
      "model_module_version": "1.5.0",
      "model_name": "SliderStyleModel",
      "state": {
       "description_width": ""
      }
     },
     "004fe4bded924a9a932e3394f3befd69": {
      "model_module": "@jupyter-widgets/controls",
      "model_module_version": "1.5.0",
      "model_name": "IntSliderModel",
      "state": {
       "description": "value",
       "layout": "IPY_MODEL_66d7a1826e15429d8f8f2cf795ccb6c1",
       "max": 10,
       "min": 1,
       "style": "IPY_MODEL_d59eedfe91e040bd83b09d32a1718f4b",
       "value": 2
      }
     },
     "007b8ebb7e7d4caaad2e0c237439f3d5": {
      "model_module": "@jupyter-widgets/controls",
      "model_module_version": "1.5.0",
      "model_name": "DropdownModel",
      "state": {
       "_options_labels": [
        "trunk",
        "leaf_new",
        "apex",
        "leaf_old"
       ],
       "index": 0,
       "layout": "IPY_MODEL_e881f4d66fc34fa5a8bf3f637ac484f2",
       "style": "IPY_MODEL_e14de5b08dfe4ad19aaeed9488ebd7af"
      }
     },
     "0095f53d7b9d447db6885939bd2cb620": {
      "model_module": "@jupyter-widgets/controls",
      "model_module_version": "1.5.0",
      "model_name": "DescriptionStyleModel",
      "state": {
       "description_width": ""
      }
     },
     "0098827af4e640a7995f79067eabb137": {
      "model_module": "@jupyter-widgets/controls",
      "model_module_version": "1.5.0",
      "model_name": "DescriptionStyleModel",
      "state": {
       "description_width": ""
      }
     },
     "00ad07d5386546a4b8de16b613f3ede9": {
      "model_module": "@jupyter-widgets/base",
      "model_module_version": "1.2.0",
      "model_name": "LayoutModel",
      "state": {}
     },
     "00bb2ace9ccc420b945abb4154686ffa": {
      "model_module": "@jupyter-widgets/base",
      "model_module_version": "1.2.0",
      "model_name": "LayoutModel",
      "state": {}
     },
     "00d6b976c7584356bc8ace10cc276390": {
      "model_module": "@jupyter-widgets/controls",
      "model_module_version": "1.5.0",
      "model_name": "FloatSliderModel",
      "state": {
       "description": "diffuse",
       "layout": "IPY_MODEL_d18e48c309db4852aa5cdc3da1012b6e",
       "max": 3,
       "step": 0.1,
       "style": "IPY_MODEL_5493e679c57d4a0689415a4a88aea275",
       "value": 1
      }
     },
     "0108f7fc56644931b6e9ab7e757df267": {
      "model_module": "@jupyter-widgets/controls",
      "model_module_version": "1.5.0",
      "model_name": "FloatSliderModel",
      "state": {
       "description": "transparency",
       "layout": "IPY_MODEL_9d18be69857d479da54872b16cad623b",
       "max": 1,
       "step": 0.1,
       "style": "IPY_MODEL_90f65d5e0f7d4ba297b91d7381a9b694"
      }
     },
     "011ce44503944280b182ae4896255436": {
      "model_module": "@jupyter-widgets/controls",
      "model_module_version": "1.5.0",
      "model_name": "TextModel",
      "state": {
       "continuous_update": false,
       "description": "name",
       "layout": "IPY_MODEL_ae7405118e3c4d1eb3b6136ced72cdaa",
       "style": "IPY_MODEL_38b48b5a419947838acd630c8ce98df2",
       "value": "leafold"
      }
     },
     "0152374133564b448491bef7e0098d98": {
      "model_module": "@jupyter-widgets/base",
      "model_module_version": "1.2.0",
      "model_name": "LayoutModel",
      "state": {}
     },
     "015a0162e977482199ff9aa70a46096a": {
      "model_module": "@jupyter-widgets/controls",
      "model_module_version": "1.5.0",
      "model_name": "DescriptionStyleModel",
      "state": {
       "description_width": ""
      }
     },
     "0176e28a1109422494c3cddf25a960f7": {
      "model_module": "@jupyter-widgets/base",
      "model_module_version": "1.2.0",
      "model_name": "LayoutModel",
      "state": {}
     },
     "017aca05c9214cc1929d2b6eae6e156e": {
      "model_module": "@jupyter-widgets/base",
      "model_module_version": "1.2.0",
      "model_name": "LayoutModel",
      "state": {}
     },
     "01a9830728ff43debfe68c7ed9c0c0f1": {
      "model_module": "@jupyter-widgets/base",
      "model_module_version": "1.2.0",
      "model_name": "LayoutModel",
      "state": {}
     },
     "01b4759293cd4876b08c36080cc6c88b": {
      "model_module": "@jupyter-widgets/controls",
      "model_module_version": "1.5.0",
      "model_name": "DescriptionStyleModel",
      "state": {
       "description_width": ""
      }
     },
     "0225ffc1c00e4e10854402feed083775": {
      "model_module": "@jupyter-widgets/controls",
      "model_module_version": "1.5.0",
      "model_name": "HBoxModel",
      "state": {
       "children": [
        "IPY_MODEL_b499e72891ff4bec921524030fddfd1a",
        "IPY_MODEL_bcfc6c652c144bec9a22752018e37d3d"
       ],
       "layout": "IPY_MODEL_00ad07d5386546a4b8de16b613f3ede9"
      }
     },
     "0241bcf8e4d449588382dcfa0fadf1f7": {
      "model_module": "@jupyter-widgets/controls",
      "model_module_version": "1.5.0",
      "model_name": "BoundedIntTextModel",
      "state": {
       "description": "index",
       "layout": "IPY_MODEL_3bd8c5155e614aa49b91b3ee03106bb8",
       "style": "IPY_MODEL_8b50cab205524c5684de777fe16b12c6",
       "value": 3
      }
     },
     "024c0a7ea2924ff5a9d4b4e8dd33f20f": {
      "model_module": "@jupyter-widgets/base",
      "model_module_version": "1.2.0",
      "model_name": "LayoutModel",
      "state": {}
     },
     "0263367b3ff344bcaffd73258d997ec2": {
      "model_module": "@jupyter-widgets/base",
      "model_module_version": "1.2.0",
      "model_name": "LayoutModel",
      "state": {}
     },
     "0265533bc3464ca7a91abeccee38a36a": {
      "model_module": "@jupyter-widgets/controls",
      "model_module_version": "1.5.0",
      "model_name": "DescriptionStyleModel",
      "state": {
       "description_width": ""
      }
     },
     "026723ae658e489db0402b1860155fde": {
      "model_module": "@jupyter-widgets/base",
      "model_module_version": "1.2.0",
      "model_name": "LayoutModel",
      "state": {}
     },
     "028403f5d1004d399f4c48bedf82c508": {
      "model_module": "@jupyter-widgets/base",
      "model_module_version": "1.2.0",
      "model_name": "LayoutModel",
      "state": {}
     },
     "02a0a641a80b42a6abd95b43fd404dce": {
      "model_module": "@jupyter-widgets/controls",
      "model_module_version": "1.5.0",
      "model_name": "HBoxModel",
      "state": {
       "children": [
        "IPY_MODEL_96a5793689434924ae2e18ffeb1734a9",
        "IPY_MODEL_404f3dcf0b4b4baeb1e9d23f637e521e"
       ],
       "layout": "IPY_MODEL_dd665a625d6d4bd4adf8224a8f2126ec"
      }
     },
     "02a935317d5e4652b323d2ec7d9e44eb": {
      "model_module": "@jupyter-widgets/controls",
      "model_module_version": "1.5.0",
      "model_name": "DropdownModel",
      "state": {
       "_options_labels": [
        "leafduration",
        "leafold"
       ],
       "index": 0,
       "layout": "IPY_MODEL_7c495f80dfa7400dbddaade48310293e",
       "style": "IPY_MODEL_7854ff74524f4fe689ec29f12ee822fa"
      }
     },
     "02cd8be6c855476f923f34ecaade3abd": {
      "model_module": "@jupyter-widgets/base",
      "model_module_version": "1.2.0",
      "model_name": "LayoutModel",
      "state": {}
     },
     "02e2b611d447416aad39778127a3a98f": {
      "model_module": "@jupyter-widgets/base",
      "model_module_version": "1.2.0",
      "model_name": "LayoutModel",
      "state": {}
     },
     "0300001a45404b209a36c5be9117a9b4": {
      "model_module": "@jupyter-widgets/controls",
      "model_module_version": "1.5.0",
      "model_name": "AccordionModel",
      "state": {
       "_titles": {
        "0": "materials",
        "1": "leaf"
       },
       "children": [
        "IPY_MODEL_edf9693f28bf40b480d44c9fe1f0e7bd",
        "IPY_MODEL_93e9e1a13f404740b06bcbb3b04fbbe8"
       ],
       "layout": "IPY_MODEL_83d1112a98b24ad985e153a4de2805d3"
      }
     },
     "0334631308f04e7f9b0a5109546e80e5": {
      "model_module": "@jupyter-widgets/base",
      "model_module_version": "1.2.0",
      "model_name": "LayoutModel",
      "state": {}
     },
     "0366a0590c4e4687a64fd5d1d1a58442": {
      "model_module": "@jupyter-widgets/controls",
      "model_module_version": "1.5.0",
      "model_name": "DescriptionStyleModel",
      "state": {
       "description_width": ""
      }
     },
     "0374667b4982433588ab814caec15c06": {
      "model_module": "@jupyter-widgets/controls",
      "model_module_version": "1.5.0",
      "model_name": "TextModel",
      "state": {
       "continuous_update": false,
       "description": "name",
       "layout": "IPY_MODEL_0c214a765182457a8496273eb3ddc16b",
       "style": "IPY_MODEL_400c5e9aded44fda90d2ab16b75fd897",
       "value": "leaf_new"
      }
     },
     "039429b73bae419cac4d3913fcdbfdbc": {
      "model_module": "pgljupyter",
      "model_module_version": "^0.1.21",
      "model_name": "IntEditorModel",
      "state": {
       "_model_module_version": "^0.1.21",
       "_view_module_version": "^0.1.21",
       "children": [
        "IPY_MODEL_310624f7b16b4f028b5ca1be66aaddee",
        "IPY_MODEL_058f89ece3f44754b73b35d4bbeebeea"
       ],
       "layout": "IPY_MODEL_cdf37350d48b41aa95e2f22bc8635d1f"
      }
     },
     "03ab5d400c7b448cbd80354c73a71b69": {
      "model_module": "@jupyter-widgets/controls",
      "model_module_version": "1.5.0",
      "model_name": "ButtonModel",
      "state": {
       "description": "Delete",
       "layout": "IPY_MODEL_9fafbd4bd5c347e4855e7442dafe12b9",
       "style": "IPY_MODEL_d9fb92da354f41de80d8aed312a46ccd"
      }
     },
     "03b7ff59bdfb45ae9fec96faf9e7b637": {
      "model_module": "@jupyter-widgets/controls",
      "model_module_version": "1.5.0",
      "model_name": "DescriptionStyleModel",
      "state": {
       "description_width": ""
      }
     },
     "03d211779e87416689565221e4907777": {
      "model_module": "@jupyter-widgets/controls",
      "model_module_version": "1.5.0",
      "model_name": "TextModel",
      "state": {
       "continuous_update": false,
       "description": "name",
       "layout": "IPY_MODEL_22c1a3a0307f4a4ca0dc0ac94efedfc6",
       "style": "IPY_MODEL_316543aadacb4f0ca44a827843561364",
       "value": "apex"
      }
     },
     "03dfd11a2f0b4fb391e312128903d288": {
      "model_module": "@jupyter-widgets/base",
      "model_module_version": "1.2.0",
      "model_name": "LayoutModel",
      "state": {}
     },
     "0414cc8a90c64c448f20ab6c7de8a484": {
      "model_module": "@jupyter-widgets/controls",
      "model_module_version": "1.5.0",
      "model_name": "DropdownModel",
      "state": {
       "_options_labels": [
        "Color"
       ],
       "index": 0,
       "layout": "IPY_MODEL_d56364ff1cc441588f37f856b104fb7f",
       "style": "IPY_MODEL_69adca6b2b7d471ca668269a5c227e1f"
      }
     },
     "043c34dc906e4167928f4d176318bc85": {
      "model_module": "@jupyter-widgets/controls",
      "model_module_version": "1.5.0",
      "model_name": "ColorPickerModel",
      "state": {
       "description": "specular",
       "disabled": false,
       "layout": "IPY_MODEL_914f2d720e814344b6090277a3ff863a",
       "style": "IPY_MODEL_0e6cde1ebdac4f53af7c24a9ba0b8c11",
       "value": "#282828"
      }
     },
     "044e7d5484c34640988858fe96fcfdd6": {
      "model_module": "@jupyter-widgets/controls",
      "model_module_version": "1.5.0",
      "model_name": "DropdownModel",
      "state": {
       "_options_labels": [
        "NurbsCurve2D",
        "BezierCurve2D",
        "Polyline2D",
        "Function"
       ],
       "index": 0,
       "layout": "IPY_MODEL_29963b5130614ef58373b07536e44942",
       "style": "IPY_MODEL_8eb293d9f1ca49e4a0d8a5d438b925e5"
      }
     },
     "0493264d976c421cbf4fe203f92091da": {
      "model_module": "@jupyter-widgets/base",
      "model_module_version": "1.2.0",
      "model_name": "LayoutModel",
      "state": {}
     },
     "0499384873a04178a41a7a611d6d08dc": {
      "model_module": "@jupyter-widgets/base",
      "model_module_version": "1.2.0",
      "model_name": "LayoutModel",
      "state": {}
     },
     "04bf48cf21fd4ef3b2fc2c87f891da0a": {
      "model_module": "@jupyter-widgets/base",
      "model_module_version": "1.2.0",
      "model_name": "LayoutModel",
      "state": {}
     },
     "04c46391563944e09f827e89ec2715fa": {
      "model_module": "@jupyter-widgets/base",
      "model_module_version": "1.2.0",
      "model_name": "LayoutModel",
      "state": {}
     },
     "04cbb9188a174a70bb551de95a1ec0a3": {
      "model_module": "@jupyter-widgets/controls",
      "model_module_version": "1.5.0",
      "model_name": "ButtonModel",
      "state": {
       "description": "Apply changes",
       "layout": "IPY_MODEL_ef8bbf3c99984ea7a0ada6febc787943",
       "style": "IPY_MODEL_cc25751e00dd443fb5153b58575d586f"
      }
     },
     "04fd9850624b45509d3404170dfb2b93": {
      "model_module": "@jupyter-widgets/controls",
      "model_module_version": "1.5.0",
      "model_name": "HBoxModel",
      "state": {
       "children": [
        "IPY_MODEL_83f82817d8894598b39eea4838260197",
        "IPY_MODEL_3bcea9f32a2f480c95fd4897749b2ca9"
       ],
       "layout": "IPY_MODEL_df696dde9f0e41c2be1075f4577638d5"
      }
     },
     "0514c99c868447989415c25ff4d7162a": {
      "model_module": "@jupyter-widgets/base",
      "model_module_version": "1.2.0",
      "model_name": "LayoutModel",
      "state": {}
     },
     "05158b063b184ffe96c65e42e171536a": {
      "model_module": "@jupyter-widgets/base",
      "model_module_version": "1.2.0",
      "model_name": "LayoutModel",
      "state": {}
     },
     "051a9805455147b1a54b2d1bd43938df": {
      "model_module": "@jupyter-widgets/controls",
      "model_module_version": "1.5.0",
      "model_name": "DropdownModel",
      "state": {
       "index": null,
       "layout": "IPY_MODEL_e44d5599b2144e3c955924c9a83a3864",
       "style": "IPY_MODEL_7e68dfe58d664750b2bb1842543ce27f"
      }
     },
     "054fbc31ce3b4cf6a57028accfa151be": {
      "model_module": "@jupyter-widgets/controls",
      "model_module_version": "1.5.0",
      "model_name": "ColorPickerModel",
      "state": {
       "description": "specular",
       "disabled": false,
       "layout": "IPY_MODEL_2ca190b4488b4a8bb87918abe0375319",
       "style": "IPY_MODEL_ff5127363d6d492f818c224dc47740c1",
       "value": "#282828"
      }
     },
     "05501bf0102f432f9032303e1f125371": {
      "model_module": "@jupyter-widgets/controls",
      "model_module_version": "1.5.0",
      "model_name": "FloatSliderModel",
      "state": {
       "continuous_update": false,
       "description": "transparency",
       "layout": "IPY_MODEL_eeed912523954cc783b4b1ea61c53646",
       "max": 1,
       "step": 0.1,
       "style": "IPY_MODEL_fb7448a3ff6c4be5826e460f9f0e1ac3"
      }
     },
     "055dec0cea5041829e855a22e1086bb8": {
      "model_module": "@jupyter-widgets/base",
      "model_module_version": "1.2.0",
      "model_name": "LayoutModel",
      "state": {}
     },
     "057fc401feeb40d0858ffb015d0b71f2": {
      "model_module": "@jupyter-widgets/base",
      "model_module_version": "1.2.0",
      "model_name": "LayoutModel",
      "state": {
       "margin": "20px 0px"
      }
     },
     "058c249a39c04bedbadbabfd56c8cbca": {
      "model_module": "@jupyter-widgets/controls",
      "model_module_version": "1.5.0",
      "model_name": "ColorPickerModel",
      "state": {
       "description": "ambient",
       "disabled": false,
       "layout": "IPY_MODEL_16cce7023d354ddfba60e067833ebb2b",
       "style": "IPY_MODEL_f9d90d05276440c2b0ff25f4cf787f32",
       "value": "#e1a014"
      }
     },
     "058d703b09ba41a9b1d198d969f79a5d": {
      "model_module": "@jupyter-widgets/controls",
      "model_module_version": "1.5.0",
      "model_name": "TextModel",
      "state": {
       "continuous_update": false,
       "description": "name",
       "layout": "IPY_MODEL_591eb893dd5047febc3e0e1715c027d8",
       "style": "IPY_MODEL_09c7f894138a4a89baf5dd67159d2b84",
       "value": "trunk"
      }
     },
     "058f89ece3f44754b73b35d4bbeebeea": {
      "model_module": "@jupyter-widgets/controls",
      "model_module_version": "1.5.0",
      "model_name": "IntSliderModel",
      "state": {
       "description": "value",
       "layout": "IPY_MODEL_28dbfeb66b4146699787fc4516f4869c",
       "max": 10,
       "min": 1,
       "style": "IPY_MODEL_6606341d02fc439dbd25cdd30951c0c4",
       "value": 2
      }
     },
     "0591c8acf0eb4465b794ad9f2b0d4eaf": {
      "model_module": "@jupyter-widgets/base",
      "model_module_version": "1.2.0",
      "model_name": "LayoutModel",
      "state": {}
     },
     "05a5ce6fe609440eaac4fb1a88000fa7": {
      "model_module": "@jupyter-widgets/controls",
      "model_module_version": "1.5.0",
      "model_name": "DescriptionStyleModel",
      "state": {
       "description_width": ""
      }
     },
     "05c8647075de4344b4300ae9892bd659": {
      "model_module": "@jupyter-widgets/base",
      "model_module_version": "1.2.0",
      "model_name": "LayoutModel",
      "state": {}
     },
     "060b0a3a5fe149d88da37110e7fd99dd": {
      "model_module": "@jupyter-widgets/controls",
      "model_module_version": "1.5.0",
      "model_name": "ButtonModel",
      "state": {
       "description": "Add category",
       "layout": "IPY_MODEL_203311275276426398b1e3c34669b385",
       "style": "IPY_MODEL_dd91341438fb460cb5355fac879a754e"
      }
     },
     "065f562240b640f2ae0d150761123893": {
      "model_module": "@jupyter-widgets/controls",
      "model_module_version": "1.5.0",
      "model_name": "SliderStyleModel",
      "state": {
       "description_width": ""
      }
     },
     "06a41e2a55a840a8a25c81d98d0aa2db": {
      "model_module": "@jupyter-widgets/controls",
      "model_module_version": "1.5.0",
      "model_name": "IntSliderModel",
      "state": {
       "continuous_update": false,
       "description": "value",
       "layout": "IPY_MODEL_4139a554a5614b34a822d21737401026",
       "max": 5,
       "min": 1,
       "style": "IPY_MODEL_c568de927fe14c14ac939845f5cfc2a7",
       "value": 4
      }
     },
     "06a4c0bb621c49b0a886a6f2d4b71f84": {
      "model_module": "@jupyter-widgets/controls",
      "model_module_version": "1.5.0",
      "model_name": "BoundedIntTextModel",
      "state": {
       "description": "step",
       "layout": "IPY_MODEL_7015fbbda9c047b391aecaeef63cd104",
       "min": 1,
       "style": "IPY_MODEL_1a8e5e8102f24f6788a2e4825cfd5527",
       "value": 1
      }
     },
     "06abffea9b7d4b2b9dd4f1088f2d8320": {
      "model_module": "@jupyter-widgets/base",
      "model_module_version": "1.2.0",
      "model_name": "LayoutModel",
      "state": {}
     },
     "06c676714abc45c2bd668d409b3f913f": {
      "model_module": "@jupyter-widgets/base",
      "model_module_version": "1.2.0",
      "model_name": "LayoutModel",
      "state": {}
     },
     "06d9cff05cf34ec997de5253b4ff518b": {
      "model_module": "@jupyter-widgets/controls",
      "model_module_version": "1.5.0",
      "model_name": "DescriptionStyleModel",
      "state": {
       "description_width": ""
      }
     },
     "06da4c288f8b48efae9708615015dd07": {
      "model_module": "@jupyter-widgets/controls",
      "model_module_version": "1.5.0",
      "model_name": "ColorPickerModel",
      "state": {
       "description": "emission",
       "disabled": false,
       "layout": "IPY_MODEL_b2dff12eb7f74161896fad4ff14e216e",
       "style": "IPY_MODEL_5b06ffa55f8c4305b3bf43c5d33fe5f6",
       "value": "#000000"
      }
     },
     "06e3dd0a8b534013bd1cb1d04dbd5286": {
      "model_module": "@jupyter-widgets/base",
      "model_module_version": "1.2.0",
      "model_name": "LayoutModel",
      "state": {}
     },
     "06f8a562f9034b0ba639a25d04acfbdb": {
      "model_module": "@jupyter-widgets/base",
      "model_module_version": "1.2.0",
      "model_name": "LayoutModel",
      "state": {}
     },
     "0728179a541f413fa5aae643b0fd424c": {
      "model_module": "@jupyter-widgets/base",
      "model_module_version": "1.2.0",
      "model_name": "LayoutModel",
      "state": {}
     },
     "072d929f682548cd881fd3470c9a36d3": {
      "model_module": "@jupyter-widgets/controls",
      "model_module_version": "1.5.0",
      "model_name": "TabModel",
      "state": {
       "_titles": {
        "0": "leuwenberg.json"
       },
       "children": [
        "IPY_MODEL_6995c922c85748798aa9771f2292b294"
       ],
       "layout": "IPY_MODEL_6d6eb3e3ec334446bb6f3806b0c2bd8d"
      }
     },
     "073e68fdf4bb4b29bb59ccff5283b84c": {
      "model_module": "@jupyter-widgets/controls",
      "model_module_version": "1.5.0",
      "model_name": "HBoxModel",
      "state": {
       "children": [
        "IPY_MODEL_b300f6ae7aff47e3967651381d75ee22",
        "IPY_MODEL_edf5b3db672b4d20a4fa33621e0812cd"
       ],
       "layout": "IPY_MODEL_829e9c1e2c174d779a805f9e3886a3a5"
      }
     },
     "077634b564d442178969045cbf0cef71": {
      "model_module": "@jupyter-widgets/base",
      "model_module_version": "1.2.0",
      "model_name": "LayoutModel",
      "state": {}
     },
     "077938163fff41738b2f1b91caff4566": {
      "buffers": [
       {
        "data": "eNq8nQd4FMX7x5NA6E2KdBCkQ8Lu3u7eLuF2bum99957D70XaUoTASlKbwIBRJSW29kFREGaNClKb0r9g9KF/8z9lpvJES6T9XnC85yGcve5ae9+533fmbdIp+pV69cNC/vImznDRx9/XCRjWFhYRGRY4x4dB3R9kz4sLFW6sLodB3cd1LNjn9TorzKnC6s8ok/Pfl26DmqKfpsjfVjV4YMHDYnt2b9f0/CwsNzpwuoP6tm13+CuXdanCwvLly6sQf8++N93xX9bME1Y484d+3Tt0hT9XSH0mwE9ug7qij/nowxhTQZ17BfbB6G6bEB/i75HE8Ts171P18ZdB4ehPymRIfBZQhX8aUXw14vIG9a4ht6gas0q7d1ce1UUXJzgVlVBUN1yNfTB+PVRmP9Xr4jxFv7/Bxcr6rn/90dhD9eoHvQ/mLVbW1B+7TgQO/u7TRXaNfMVtP8+bDx4+yoSFrbzu+htb9KmDUvwC4S982u8sXHDBo38XIb6N+Ptn8dr5M/xzxu0NPa/iECvcPvnVPbv8a/U9u/xr0j79/hXGvv3Yfb78O/RqPXp2rFb+/59uhwfEb1NubI8J0aXKlUqsQ5T3BwvKhzH1mE+u8NgEh0WjrsrHONppustk+ckQZW5mug9NQkzU7cJfmbtAlFvmRF7Zhbzd9SY/FVA8jkukXcLssjAqVJwi3/Qts0eAJk58luOpPKSSxXqoPfUIZyT8ZP8nKrHCgb6cMmqCZgDr6RqAjofH+zvQ+Pb+cb7mG8Hs1/XYR3qoMHM2zx3IoOZ4IuIisL2RQz7i0CWLxKO8TRTDTBFXlUUpT56T33CPPHvFD+zM5810Mm+/PX9g5lnxIcg+RzFLbjdAgsnMscZvLLD/l04FrJyZBfNkV0C/qYCNnP/e3t+vLRKt5mt4dfm6h39rzazK/lfGX772P/aWSjS/zpy+LAHv2wyxP/NR1ZsnhL/W1wjjrbRh0aP8/88+GwdnV509CSlx49ur3/VlwgLS3dvy7b0lIV5nFoC+IXHFP8Z+hni3+OvEjvbFWf/Hi7YOCUK/5n97+Hb94enigxDhr1f7wbzpm9TWlcV351yChl+1SVxgtgSva8lGZY6x6dY8bMuw0e9mgamXJNfimpbUlUEm2+XAs2ueMCh9WkhN+GExrreCFOVVJWXFQZmw2PFIGLCL5+31pwwVeEtU+bQ2pKVNug9bQhzpvsz66PURU19eoMA81nahiB89A6tWfwt7anyTMPDkPNWe+iMKcsiA3NHvkxG8XOj4dhGS3yOmFLgAcqJnCIq7dF72lM20zvH6jminnnk71oBpvfCYu1ueD4QX8UDoqbnB+tKKDBjv00a65ILMP0rm5NkBmaBT2tCxIQdp2fQHDGVwLx1o1bycif0nk6EOe/MfGvGv4PNa3urBJinYtqBlQueexq0f8I2niGYnMKLIgNz27PNhrS2N3z9XDecMBWBbqdb4BqljDnLk3+SdShVDwimttTp9UjPWXpc6bb7TU84Nmbh2PBE5Au0hudIFyouxS0JfdC/7UO6MHrpTGvlhK+jTj7tG+jCn27p2JqBWU/P+Ltw330lCnVhEjIicajbJbo5kQ0KbajmCMrzgUWBzI0kKP3Rm/oTaJb0863m1a9FyU9iA1Bp4hgwedv4TV0nZdHu5tuMbT5Mn6lglEOoLIgM0NdLCsJJLfmoHHtqAmdQkTxCZNElK4PQmwYRaNV9X1lfnsgW3Szf8AD0QfFm/jF9NrmrcX/SJ9rD/2sV9Ve1YUmoifdCRVlkg0IbqjmDugMPLhH9RhSHoDcNIdDmW1Zbc86Uje7cZGQAerd1X1A+25aN/Q9DtjENDVVEjgGKxhJWqlk8Co0tcATleBoqi0rXlDE7T5ZOsdbHF43KKHfT6WVJT1x6aOnGhzA7QqAPJVmUXG55HPq3495RHCBIcQBbcRi24gBJK47EoSKPtmciAxRJK8OWVtAR1BXYD8o850IyeyJ608R3NIc3EZ1j2DrHwHIyWbaOQCWREwVBZIDaQgfYQscBlAh92c3JijIZvWnyO6rDG6Q6gK06DFt1gKRVR6JQ2S1JblVggCJ5ZdjyCjqDBraFsuzmEXQaetO0d3SHNxGt47O1TtLdGxqK9oUMUFvsAFvsJB8qcDRUVuXhKap2AKV2AKV2vJTa8VJqx5uY2iHaTaKWhYA21wJuycdBrSk8+Y6GX+ib+l+rB/j8r1E5N/tfjXYu9b/etvo9rdmyvpq/NfmqT9entq/v/3nC5xP1Tutb+n+udWW4HtGmq/9nbFCNuoP8P+tzuuh0T4Qwoi5qq4g214r4mT049oygP+btDh7PAvwDngWZ//dn6Y4cruPx+9xSpQ7rOKDr8A5oYVfMuv9C9wzzQeI8VVY5WZIx7zPC277mf7vpBfdaJMqzZx3CaW9fhcLCaoirtqXxz8AOQQZF5invi8vFCyvQu1cQXoUZPaw/0+81V4yfGZjxu2oU8eVc0RLM7JcGvDoVC/p3rqy5omINZiuWEIp2bAzQ6mnmaAgKJ9y7pjmDEvGkIM0ocKvRm1YT6Ouh3a2//7liftCOQPv9dE5rl7sbmMuf83XYPczAG5m6XYdDh1CBlxmgW29mAEdjmsD8UzMYzqBusgXnXUg8rUNvWkdBq/Ww2v4TZr0ZRqDGjVIa9iXn//mRVjLLcIBdo0M7DzOYrVhCqOqSGaBVvvnag/2x4yJeO4MSR7DMcaLIyxvQmzYQaJHnvayPd2Sz0h0l0F4bCgPskP2sYmG27g0NlXiBAbrmz2807J3dNfgbnyOoJNJQl8AtxhLjPz4k0DfBe/Ny6JsAyqxurzfAast/YlYdPkv/fGJvq/fylWaZSzN1elnSE5ceWrrxIcyqwlFeBdHlkrdjLunDF00GWx+9XGgu6/91oA99VWKMQ/FR4F4eGUpXKoBrWXOCZf13s8vEhFBB5BigFaL+MeqebO6Jb9oBOIO6CJTHBn0H1oEEmm/4cCvPjrXmi9arA9DPu+cAv7wuCqbWTQUPdy8N3qgxsMLjUoZDqFsSGKAXwlJplced9zXsMxo4gxJHviJxIsftRm/aTaBLH42x3vT8wUz344YANG55Jt/+DrXA9akF4DGjDCgy55E2zZ2DXTwFQVWZAbr3649g7T6DfN/trwacQSlRwKOfRBxZ8hHoseYTrTu//WQ2mbuVPEr2lQO1a0WBR4MXGEzdGxoqCRwDdNQX7X1H+08z/mwxFDiCkmgUhroEJS5lzE66RQOtCb1mml3yLdDpZUlPXHpo6caHMDsq1Ycij+boT9jrRfqw2rkp1paz7U216NxAH/InOL/Hpno4B8G88Rp2nuyPGe9jXhcJoJwqigzQg2Y/iD02mX+eYziBChxxw4u8pHDKIfSmQ5QFmD7LGvGwmXkh07wA9Hm9bgB7bMZu7YqfjFqHfG2j8Bg5hKqcyADN4qsMscemjVxZcwaVyO5UFThVPoL1L4E+rb3Amnaiqel5NZ8Ij0IK2LBiWHyGkzwss+vTipFPxoHtLT/dw7ougqBol8MA/T3TUIigFacUm2k4gwZcuooiybxbPo7edJxAtdRLrY8mtTFf3v4yAD35dw2AI5af9arBNqahoYJbYIDuvNMJHgTHtc/rd9KcQHkSRMJQTuHMlDE7q74ba0X1HGCurTxHp5clPXHpoaUb/36zI/CBPpQVtL93CefRvz1P+vDm3+P9Fi7GNZH4MmY1BUh4+FxTMoEjox5pWHjMz1CGeRcQBJVcMgP0o684LLFgxD4ZOoIKxBev+COrf6A3/UGgM9JN8dvvmwWJ37bwL8Cvdk7fraChhxREDymAHlKaQyja2TFAS0d9Z2C1M8HbDzqDilT8T0AT9TJ602UCLTH0M//TqUe7gWSTVaQ3QMLDc4z/Watca5WGhUfe4o2YdwFBULRMGKDXYicZSGLBH5pmgc6gbgqKBlW8hj+VQN+U+tz/7G1fs1cAeuxCjF/t/PJ3Lx9T94aGoj0PA7T1yzcGVjtfPW4EHUGpSBKCipxyMmXMTrmvh/vVTp9003R6WdITlx5auvEh1I7IE8eiiEO3M1PGFbf4h9rWhMyDYI/b0/XTnzSyBmS/CxdZn+o9n7ey3nxf1hx07DM9699drIvxbcw7mWfqdFeEsKKUlx81B21qbtqj89Y1Rn3M2ylBTwN63/2OWy7YMZaQpvIuGdNuElqaV0Os0/lmm4OiZidJS8QpF45dcu9AJUpACS5RUV6ht70i0OU5Glrr806LVufGE/d+lz3Y+wcq368BsTv3WvZ25fp0PMu8bwuCSorIBtVsKHAGlYgoRts2VXiDFzWBXi9Sx1o4Zmn0v1H7A9AjN5toVTsXibvafSQssjeqHJ6GkRWio5xBJU5RGKA+TQPG7zmjitcpC5xBFQoqo2kbER4Whl82tFnOmtbaW9uj26Q7HIDmk0v7xxQ7PO/UHgUetzpQrn/nysz7tiCoIipsUM2GAkdQ4taVVRXpHC4SASMJ9Osn1a2aEb9Et091KgAtP+iyVmBm+rh2ubuxjWlIKM7DYYBWKZkVVNtTKupoTBPgCCpKdEvRuvkHven2f3xQoG/iT3hD3ySOsqxKww5W9EA1ut70zfrGM82tL4t2ic7f6HudXpb0xKWHlm58CMvq5impKCu8nBX1X9ZwKlekhz861PHe9kAfPoqNwkFbuEgrBWeMuqvhoG3bHDK7VEwIdQscA7RIs7I4IQ7kmn7T4wwqUlD8SMyOgNkJNE++fv7YV50Su8hupkyEP1I8ZkANWPC7ZoBDu5lhfTMCh1BB5BigE8Zs9uFI8fgWaTRnUEpAKQLaLOZCwFwEerLdYH9k78xzXwB66N4qH44U/zW0Npz6vaXhoO2CYrnYpWJCKJKoDNAuUiWcFAduZh+vOYISt66sKCrac+RBwDwEOrjJKH/c8vOm+wLQnp0z+CPFffM2ZRvT0FC052CA8n+19EeKF/20TnMElSn5r7hcqpAuPEXMTqqwLv5IMd/+W51elvTEpYeWbnwIs6NSfahySOUXRc0pSvqwXc7xlnfiV1HTa8QF+lDY2BbnUPkdKS2fzar4d/nv4iKfjGO3AAmhssixQaENjXcGfetGVTlFEkWFK46AxQm0RPpp1rpROaO+KrQ5Qb6576sKG/KM+NApSHLLDKCCF3vCx49mxx0Ex9n1mypTIEmVhFIIUoqA1p+abV27t7ps/TtbyPyPbOEfu+JjqhtzW3YzBM9PcQ0HjGBf6QmgMicqbFBoQzVnUJVa6ZLqkssiYFmqS1t+aX3Savqm/eu2JTj4cb/huk1j8ldxCJI5l8AAalNgNLzdsF/cqeM8u04j0SHcIkXk8qeMGWldeoAVffVNVPU+cTq9zOhJSQ8h3eD3mxEXR/cbPvwgoeZI7wgJGCQkgC0kfLaQgMkREkFQySUzQJFk0mzJBBxBecot6hbRDFEQUHlHSJiJqBfNVi/w1yY/x6GHjlMoj/6XNNRWL9BWLw6gEgWVJE6MQcCYd4SEGSQkgC0kDFtIwOQIiSCozHEMUCSZPLZkAs6glH/djWWwhoDaO0LCTES9eGz1knT3vh+KDy/IvMwAtdULtNVL8qEkOoShksBFp6h6gZR6gZR6MSn1YlLqxUxCvbjo5qi8It5OGe9aXOYaVs6fSkfVB5/rNTrWtsrNXxM1K/si/diCBtajyw+jXqxcrndY3NwyT+aL/v7kOp3uihBWVKB9n6pbFXR7dOwpQX/M2ymBp8GwRqn804DeRyfpXUtAUzgXJ2KaTibg6k1drJuwRnS+698mSWP1rrlEFw0VVbk5AjYPD0478walnRl22plhp50ZyUk7C4JKqsAA3VWjiMdOsIPOoDIVP1NQS1shYKvw4LQzbyK5btDOddNwHmtyArFBUNRSBqid6wbsXDcHUHLC0q+ZuLYI2DY8OO1MD0o789lpZ4adduZJTtpZEFTkZQaocaOUYSfYOYNKlL2R0CaC64CAHcKD0870RHLdoJ3rlnT3hoYimcMAtXPdgJ3rlnyoS6a7V+KFBghYOfw/h2FwanYc9se/G4bxUrluXirXzUvlunmpXDedynXTQ+e6uWS6D9EDnuuFmtIrPDgQ6w0KxGp2IPZt9BcmJxAbBOU5kQF6alZTaIecoTOoRENVTuyLgH3DgwOx3kSiv9CO/gI7fmIkH4rTpSVZVBigdvTXY0d/HUAVAkW/UbgBCDggPDgQ6w0KxGp2IBbYgVgjOYHYIKjqlhmgRpHe0A45G46gATcthiq8KsQiYGx4cCDWm0j0F9rR36S7NzQU2QEGqB391ezob/KhkkRDOVXunDJmx47+eqnor5eK/nqp6K+Xiv56Q0d/0VhRzVFVSRiDmjImPDjtzBuUdgbstDPNTjuDyUk7C4IqkswA5U9w0E6wA86gIoEi6eqWxyPg+PDgtDNvIrluhp3rZhxHu5nkJNkHQZHBY4DauW7QznVzAHUTqMILojIJASeFB6edeYPSzoCddqbZaWcwOWlnQVCXKDJAqxRSoJ1gBxxBA25aDBXQZnwKAk4JD0478yaS6wbtXLekuzc0VJZkBqid62bYuW7Jh7pFGirK4tCUMTt2rpuXynXzUrluXirXzUvlunlD57qJHHU3j8ijxTgHNWVOeHCSvTcoyV6zk+zfZvbD5CTZB0FlhWOA+qrEaPZxAuAM6qKgLiSxvkDAL8KDk+y9iWT2QzuzH9oJ2U6hSEwyQO3Mfo+d2e8AKlNQHFVYgIALwoOT7L1BSfbATrJ/m9lvJCfJPggquwUGaNzyTB77OAFwBqV2djhBhFuEgIvCg5PsvYlk9kM7sz/p7g0NRbqOAWpn9mt2Zn+yoS6VnkiSKMnTU8bs2Jn9Xiqz30tl9nupzH4vldnvDZ3Z7xJcVB8KaHuMm5JyuW6AynUDVK6bl8p181K5bt7QuW4i7XSXXLwkfGWPTsJcN28iuW7Qzj4L7LuT9MYF0WRZxLSvwoNz3byJ5Lq9QwvtjctLyW2aqXAKHqxs1ICl9Q9YWYBfT0oV8L+ujMzpfx05nMn/QnPP/6px5YWGX28HOJGBwx9X/cSvOJE8LEPxGXrZbQ/Mt4PYq31a/4CuaT5Vv+rN7f85S7sp6OeSgZ9bF3UH/g09AUINokg1EV/XsdSek3a30h/zNqCHuxL/wDhwNEHi3AImLCUDd753PT/hlPZpogRW16ko8TTIxQv7EGQfAb2adcH8sitnPTDJDPm6+7WKk/tEgq/atgJm3U1ah9g6oGvsG+ZNNgWVkY2UeZkBOvejugBB4dY+CwxnUJE6w4LvrzqAgAcI1Npy1PxzYoz15ctAl4b1OV3QALmGgvFvemr45C7O+6xSMit0CHXLHAMUu06xvb1zry50BnVTUJfsEg4i4EECvdFnn5nvUXXrw2NTAtAnBy57vqhdDlzSYsDM8Re1YvmLAONBMWa1GwR1CwoD9GFRBSAo7NOOMxxBZaLrFVF1ueXDCHiYQDv93y7z+0lNrVa1JwWgOS8ti895dhy4lvpeRabuDQ0V3QIDNOaXV9q8dg+Nj7vEQEdQUaShgsLFI+CW//hUxw56nMGO0yapx+DqFs/NWfsLWQ1+WawPPfcn+rmE9Vem+Tq9LOmJSw8t3fgQFtRN9aHEo0l6BjXlDOnDGrUOm/UeR1nd+VWBPswe2xaO5sPAN9y/8fXyPNH4ai2A+u0AdrWbEMqJHAN00uavtdr7ThrzmrUGzqB04g7eBZ5DwHMEOnfdTpN/6bamp1tH3Gy/jjfqfdgPpCs23Ti+JAv4Yew2X9a+jaFDKNpkM0A9G+uD+vMKG+dqZAPOoHQSD74o4HcE/J1AU7VcZ3YdVNmaOovo+u8lAOukLQMKFwr3HGxaBNwoyYMj3u3sEjsBFGdOMEDnd6+kDdmRA0a1rg2cQVUisV0yLyiXEPASla60fKFZKqqBdfd7kmq2Y1tz38vCY8BZJSvbmIaGCoLIAN06WgNpa/9kVAjLCBxB5QRpZ6ilx1LG7EhPrpipJhS3fsq9TKeXJT1x6aGlGx/C7Ch0H7qR5PkTNeVPKj0ic2Yr9YSy1qIHawN9WCPTZxUr1D2o3WneG0a+nGCE5+0CwHaT3QIkhLpVgQHKz2sBEdSo13Gn5ghKDloiqCrw8l0EvEugjYfntIbHipbQf1MA2jv1KP+lKK+z7zbwGJlXT/jHyCEUiUkG6JsjWeCo32f5huxoDJxBJXK5m+RWZeUBAj4g0L+V/NbWR5q1cADJOGh3uoavfOwH4ECtRvDT03uMtaIOLlVkT9hNCFU4WWSAjthcHSIojKw+RXMGVSgo1gCPEPARgX4uFbG+OlPL2nr5exIQy3/fc7X7SHBpPMc2pqGhSGIxQJcVTwdHupcaS8/WBI6g5J5QDOUV8WrKmJ01OSOtEZ5i1sE0K3R6WdITlx5auvHvNzsSR/WhjIXHK9SUV6QPj27JaWELV2TcF4E+/PZmD4CEh7Yw0we+eT/+YmDhsTf3Dub9TkIovp2AAbp3/nYDSSxYtU0t6AjKUzctyoJLVt4g4BsC7T26sIXtt7fTnAC0Xs8tGlY784uk09BDCqKHlAc9pIBDKJJYDNAZcxtDrHbqj8sAnUFFCooPz0ZEoD14BNnvVCpt4adTyW9JAoVm1QNIeICa95/5qodlg1h4zFh7izmSKdFuAdmtCCzQ32uNN5DEgtXqi9AZ1E1B8T3MkQgYSaD3/+At/OwtPPSzALTD6zwaVjtbz/fcw9S9oaFog8AA3VaxBsRqZ2zu54YjKEc5Q2Q0ruI/KWN2qqZJb2G1c/flAp1elvTEpYeWbnwIteOimuPm3JyIm7I8/L+5Tt/THPXzVNb28yvMRbeW6VWzh1kj60OTa/C1fkl6aRbNftHkRy/RK/d8ZlaP+9dcMGix3uXgU7P4qSxWU/dine6KEFaUXKeImsMjdZEu4n+j8za1kPqYt1OCngb0vjtJD1wQDS01TEtHJmDVj16Y++JLWHVzLUmSxuqNk0Q6JVvgeLkQAhYi0A/rTDKrLTxuug/9GIAOvzEERqycrPVL86NvwJ5x2pASpYDrY/bk8yAozwsM0G/yfwhGXHiiXVlVAjiDkowiReFljiuCgEUItN2x+uatvMfMVbcPBqA9CmWDacsv0ISjVeHXX0DNp2kwR6osjqGqzACtPaA3wLACFx97nEEVCuoSBbEYAhYj0LbuAubPynGz6cqjAeiBpZ3gpR+PaOcO9jdObP1Ly5StLMib6kPmfVsQFE1mBujTUxFgyY7N2vR/agJHUIm6rkMR3S65JAKWJNBCZc7BVQ9PmpVvnCT+la7xRoz7d+1qhsZsYxoaqrgEBuj5X3uDKi17aaDkCs0R1EVPJCQ4uNwImCHivz0o0Dcx8KF09E1oy9rD7TNz1rlgfrIE6q0uLzOFzafMg8326vSypCcuPbR040NYVpnuQ1lUZR41hSd9ONV7yBwz1jQX7zlCYs8T5xlpVmeCZxbXgFmy/GaszFIf9Np1gl0qBkE5jgGa4ZO8cNhUw9N2RG3gDEoLKB5JcREBRQJdVuuo6b24wzzQ7nQAuq7RFV+awpW1O7tGwGE/dgbRa//Ulq9wxzuEChzHAO1Qbb2RuV4psGdeFHAGpQWUILllNwK6CTTzl8fNrF9vM7/2/BGAvrizz/hipc+YHtcCnj1605hwuT2oWc7NLhUTQmW3wAAdeSwc9smy1ZdtRmvgCOqmntSyC/2nAgJWINAMBX81XxzdauascCMAXZuttRHe6JD2bFsXtjENDVUVkQH6OPtwY0nzV9rPD5sCR1CJnkgutyqUSRmzEz1tv/lHm8OmNvCATi9LeuLSQ0s3PoTZUeg+xAm+VVBTqpA+fM7fMhf9FW5Z+Q4E+vDOYAWs2+zVfjlfBu4dxsOczXltVx4X++M4IVSSBAao2uxbo3uvfnCf76bHGZTKyeDxRVbVEbA6gTbI8szc8kkm63ybQwHo+myLPGEnC4H1v1eH9Bg5hAq8zAD9Y2wz+ORlGvjX4myaMyiV3MPLkirUQsBaBFr3doSVRs1tDZCPBaBplaxgw7EmWr2edWFMi0bwVBNQsdXVD9gfxwmhsqIwQC/v9BjrB8XCuwvHaM6glFuXxznxdRGwLoGWKZrO+vFiEevNPHI/yf1d+Ywi8zOAO77GbGMaEqpwHMcAHTjRDe+NLgB/3rFRcwR10xPJrXCKJ2XMzv1RJ83BJR6YXcbv1ellSU9cemjpxocwOyrdh6osi81RU5qTPpzmWW6OeZrealfaIMIjS13P1uXjwNpbqypeizHjX26Lq+i+xH5RQBBUkhUG6IK/m4FFRzLAITvfxDuBytTBTE7gVFVohYCtCLT9xs/NiUXzWDtuEuirVZaxt6gK7j/MgZ+MED2kDPSQqugMynOKwgD1lD6hiePrw5HXTxvOoESQuxWcstkWAdsSaEzTSebVNCWsUktMYuse9/AUuz0S3NtZyThR8TvPtDrVjQ75RjJbgCAo0nUMUFVuCjLnSgNPam7NGVShoPhm9A4I2IFAV13rZS7q77KiveSEb8kKXxnG1BzgdK5KbGMaGooeYAzQOuuva72yd4DZIjXDCVSiokkIivq3QcqYnXynNps/D3tqPuxq6PSypCcuPbR040O5r+jm4KtPcVNSwBtXr+Mjs/7J9abqW6NPaHvZ9MrbzA13NuqHW/9qbrvkM5u33qbHzv/RLLHqF3Pz45063RXvb45MXanoxndLKZ3t0bGnBP0xb6cEPQ3ofXeS3riENHzUDtM6E1rndLvMzz66ZvZ/sDdJGqs3TiblcTDUpQojEHAEgRbtJFu7D4WZ5+YSx9iSrKUNb3oNzvOUgHE9/9Gmn0sFYu9I7DY7IVRUFAbo7aelIYKCsdt2epxBSRaFLPKKJI9GwNEEWv16jHVnx1ew9HriGLN2p/YftPnipyo4pQl4K7SPSk7gNgiqSgIDdGKnZT5cV06qc9fjDKpSUJescOMQcByBXnJXsq72Sg3jWxDHWOSKL3wD9xeADz6tCbPFHtJwYdIu2dkdY0FQt1tmgG7+SYcICjbN6qk5ggbcuhiKL2KciIATCfRAlZrWhWkHPXFziWNs6d7MoOukLEaWso3YxjQkFOfZM0BjJjQzcF25/BHLNEdQgZ5IoqLKgxCwa8R/DttA9E3isP+esqznikZbHxYaZB4eAvWhB3hr1lq32anUXp1elvTEpYeWbnwIyyrRfYjvlZyBmjKD9OHCe3WtHZkHmt/dI7eV/FWvDbidNgJO25DXk2FdFs8PYwbFZ/01GVIxIRTtxhmg4462g+rvL42wo/HxzqDUwUwR7Su42Qg4m0AP/tHW2t9ygJluOZGKvs0NQfsRk+Ojj2aHDW4U9l+2XiRL33iHUN4tM0D/iugBY+8KMam6nDWcQakTvqIqScJcBJxLoGk/6WvlnNHfXFuTSMVGC5uD6fsioHmNMxo8aWKMXFEtvminZEjFhFDUWAbordyt4LMuL4yV24HmCCpTB0WRAZDF+Qg4n5pIq0dbO9f1M8Xr5En96F5JMP3WzPj+5XS2MQ0NVWWOAeqrOQrOj70U025AZcMRVKTPp3NuWZmcMman2kOPpa0ZaNaXDJ1elvTEpYeWbnwIs0MfzZYEWRCXoaYsI33Y5b5stVq/1fz1BREebVdFgcEPVPBQue57VvChhm9wGfOaZ7cACaGSoDBA93fMpyEo7LS5LHAGpQ5mSi4kPFYi4EoC3bC5onWo7EGT04hjrMzkNKBKwS2aq391fwJ3q44H45KTlJ8QKnKiwgA998cBH74IbmSvHJozKHXCV5LRHnUNAq4h0MNqZWvn64vm/dzEMeY+WAV0ceUGYqdRhllpn4bPAolGNnYLkBCqCgoDdHjpYR4Ehb++qQscQRXqhK+E739dj4DrCfT40FrWhSP/Z04fQhxjE9tlAZE5znjKZW/MNqahoYLIMUCL3+ph4IsZR6zZpDmCyvREUtBEWpgyZudOFsF6+ut8M0+7vTq9LOmJSw8t3fgQZodc26lKoqBw3DbUlG2kD+91Kuy3cM+WkTDgrYvfGkh4aK3a14GdzvUEWHiYPPsll7KaYOBcLpkB+sHFHzQksUDRjTWAM6iLainOpf4eAb8n0JLf5/Pb70bVSBhwd5VuGlY7X/YYgZ+M8fi4PXpIVXQIFQSRAXqpQgzAaqfEgmjgDCpTUHzf3k4E3Emgq+/l9j+dIkuSMODDTLkMJDy0GWXawNF5RgMsPM7sYr/8MhiqygzQqhkLa0higSZDWwBnUJWCyiov7EHAPQT6+sPc/mdveDESBmzb7baG1c6hbF3YxjQk1M1xCgN0Tf+MAKudq1uaAUdQhZ5I+CrxjSljdvLfKO5XO2UaHtDpZUlPXHpo6caHcl/RzVEkt9w1Zbxx47tktIo1n2su2L5GL7c1h9W21RTz5PmN+vwmBSxPsdHmb5W26QZX3EpTMdYsf2qnTnfF+5vjJk531BycMG3Yo2NPCfpj3k4JehrQ++4kvXFBNLTUMM0gtFtLBKvg7IHm4gN7k6SxeuPcpEQOhiqKcgoBTxHo/EmdLJwP8/l0cmj0aHwjnKZmbJqwSLtwNxvAaWrXU7EfGg2CqorIAH1z44YRsXKy8ee+VtAZ1E2gEvbG/YaAv1GB2xr9LZztU3APOTR6tHNfgHPjXubt5yhwGwRFopgBevbObQN7VktdrucoRO12UQ9/CXvjziPgeQIdeXm0hXOZxk4mh0Y/qdwHp6kZixfJ2i+VDH+aWvo37IdGg6But8wA/X5EJpyQZ4z8JgY6g1L2Bs8k4Q8E/INA882YbOFMrf3PyLVt3Z90Azg3zhyX2uMkcJsQir1xDNDPMn0McW7c90MrOgpRu3l6ImFv3BEENP972Cbgv6cs6zBXHQsHGb5cs1hPva+ZhXPjJl6cp9PLkp649NDSjQ9hWUW6D7E37hZqyi3Sh8Mf1bNwhGhcZ3KM4rMKc7VFRzKAF7VrgWVj+gMcuM0zZzu7BUgIRbsoBuj+w3lwiBoO6lPY4wxKCShcWJL7KwJ7vgLQypkaWzj+9UtNcoyizIAogKPF17ql14o1WWPglCarUhPoEMq7ZQZoxuj+/mjxtTHpoTMoJaAk7I27h4D3CDTiRgsLR/fmLCbHKMRv/9Yy50oDRk0RwfJx7QEO3Da6d51ZKgZBZVFhgH60u5BR7PZIGHX1X48jKO3WVfBdCw8R8CGBdu/WwcKxy8wdyDGKh3JDgKPFPVrO3s3UvaGhvCowQP/9bUkMjhbXWvTUcASlo0mopRx3OWXMTs11dSwcLT57YYFOL0t64tJDSzc+hNmR6T6UkAZ4gZrygvThhU4NLJwP880xcmh0aPFj8d179QOj0u02Yqb3ADhNbeftvcyHRoOgbpljgFZbsc1Yt9lrNEzbGziDUm5UfNJC/BcB/yXQ04WbWjjbZ1oDcmiUKyYAnBuXU9llOEnKD4IKCscAndEkRsO5cS17NwHOoJQ/3p/xGJYKn1APQGM/be3PZfqwETk02jNrMW39oFiQcfBU40yWZgCnqUV2zMT+OE4IRWuTAfrNkXRww7EmRh5fQ+AISrt1FVxIKxUCpiJQ96ed/ZlaFSxyaLTz8UYA58Zd+zXKcJKUnwCqcpwsMkBHHIvy4dy4YfVrAUdQOpqk4NsiH6eM2VnUta6Fc+NGX1+u08uSnrj00NKND2F26Gs+VR4tjMyo/zKTPnz6uLOFs3/3/LOS+DNKpALDphq+jrNbwWHP0gOclH/uT/YrMoKgsktggPY/3hSmWZ0JZJl3sKIzKOVGVV2cJGdDwGwEeq31QAvnNp+3iK07mXsQwCcBpl2cgh9SGs4uQQ8p4BDKSwIDtE6fcIhPAuRMnxU4g1L+eFWUBCUHAuYg0DuTx1k4czu1h1yRsf9+PtAny1ZPvsW1oNRxo4aT8mt9+x3zFRlBUFkQGaBnFvaFX6z0aX0/zedzBKXduiquf/MhAn5IoBGFplo4L/1RS3JFxvnZPQA+CeD9IiPbmIaGqi6ZAeoqUh7ikwDd1qQHjqB0NEmV3KKYJlWKmJ3GE5pb+CRAiVtLdXpZ0hOXHlq68aHcV3Rz3BInminjjStULbuFc+NmVf9ab12giIVz41r1XqI3uFDewrlxuVst1nfU0iycG/db7sU63RUhmkMV65JVheeFvPbo2FOC/pi3U4KeBvS+O2lvXEIaWmqYlpdMwLMlG1s4N27Y3aRpzPfG8TINRSoDj1YK3vK39+xpE1f7erFypj756QXUuf/Azbdm63Lu66Y+xWWO+2uufiLPfVOa38N8sGyBXvbMc7P8wBnmmeeLdXoGhBpF6tGuop/E/Kn+NyntfqU/JnA1HtWXyTpvTNPcaPfiEjAtPxnF2tfTWENnbzJHtVuZJI11FBWXQEMFt+BFQC+BdvntA68V+zT6THYrAN2+rCEeGHCo9Rzt0ta1RuaxzTbhotCsz6MgqEtW2KDAhhrOoHT3CqLCVUbAygTadmAD75LJqcqn70kc5AOHx0K4uFwcvsoEVwrGU7LFrz+XcwhFGyoGKB5PXASneJ2y0BlUoaCiKCrVELAagU7MO83bSMtU/tMfSH7TxQtt/GP687zFHnxHVIX9uzYuTTOOWQYHQSVRZIMCG+pzBBV5Coq3qzURsCaBfpJzvTd+b67yqV4T6Oa8LeGgWFccLtHG1L2hoWhjzgA9n64TOLFwfTl8A6AjqEBPJAnXLUfAcqn+2+MefZM4jETfZBP1fOw88KJ2ZOfF6E7lf9LTrd8A9v/fn9GL4/bp9LKkJy49tHTj329ZFYnuQ1wwrDFqSmPSh1LbBQCXIs328pdAH6a54K8QDOc0OOx5tqMUxBWCyy5Px24BEkKROWeAFnhd1oOrCT7rEQWcQUUKis+nN0PAZgQa/fQUwIVWS5cguTBKvApxWeJD3T+E+EbMfL+fKJfhcTWnUFUUGaD/vHjmwWWJDy096HEGJYLfzeN6TS0RsCWB/lgpixeXka3+4wmSxzGmDq4QDN980XnPJlcGiCsEHzx5idm9GQRFooQBmumzKA1XE1x6pjpwBKXu/3TzeLvaBgHbEOiSl5IXF8lddOgMubpiWFWIyxLvulWYbUxDQ9HGnAG6ZfgSDZclvvPLKM0RlLp0FEEll1wnZcxOzrqVAS5LnKPBQZ1elvTEpYeWbnwIs+Om+xBXWe6GmtKN9GGZ3XM8bvlgdM1rpA87lDiLBRv8JVMbOCH3WJh26KY4PJDM6yIhVFBlNqjPhgJnUBcFFd0C1xMBeyaEXmq4H0EvBq6PxsDUOfdu+u27ttAhSOFlRtCrE8XiEAiwg2QKJPOq0AdB+hBQt1JVtVyD90VHnrqZWDf6xy4i5lvcjR7m+Z8QKigKG9RDj13yoSoFxXvh/gjYn0DxQim1/EB0+S/vB7q06Gke3jPzxuEipQ5BMscxgJp/NNPIsejCJnwpNrvtoieJW+SU9iljRvDwDMpyInrmo6M6vczoSUkPId3gEGZEoftNFWRxBGrKiHeEBAwSEj5bSEBbSMBkCYmEUF5WGKBIMgFbMvkcQVVqpybgEpejEXD0O0LCTES9aLZ6gebYWXHooQMcQmVFYYDa6gXa6sUBlBLYAqKK4xBw3DtCwgwSEoYtJKAtJGCyhERCKC9zDFAkmYAtmWKcQamdmuByueWJCDjxHSFhJqJePLZ6Sbp7Q0PRA4kBaqsXaKuX5EMVeiK5BIUblKLqBVLqBVLqxaTUi0mpFzMJ9cLTzUGPBQ43pWCq/+YjfU9zJj8eb8Zk7hydd9oPeraclc0D5adEX8qyU/9bSmMW2rck2jd1t56q10JY7/630ZX/9OlbB28x4tv8HD29xF6d7or3N0fleLo5sqhMtkeHevq8/ZiA1xJNg4pdR27E04DeRyfpXUtIk9FSw7TJhCZvawTO3Pwz+th3B5OksXrXVMFFQ12SsAQBlxDo/CH9TFyKtNRJ0sTze/7PX5a4wol+Wu4bGQ1cIfjsOfZKckFQUVQYoDVWp4a4LPHGr02fMygllAR8FcJSBFxKoKtz9jdxodUtVQn0gxsjfLgscXjliwY+0iso7aPw2VOHULT5Y4Di88M4LrB0b2boDEo9h10cL4orEHAFgdb7up+Jy8ie3EKg49uFQVyWOL7doYpdG2YxcIXgKqXHMCu1IKggcgzQ3tVf+MsS5+v/l8cRlHbTunhRklcj4GoCbfVBXxMXyX2TlSyZ4vIOHy5LvP9xUbbuDQ2VJIEBqj6r5MNlif/tEWc4glKxDAR1ydw8BJz6Hx8U6JtA9E3i0DfRKMt6KbyXies7nfn5F33c3j4mLktcpNlBnV6W9MSlh5ZufAjLKtJ96EK6YjNqymbSh5PGfmPi4lw/6OQMNt+hAsBliesNPuA70L8AxDXzsrTKwG4BEkJ5gWOAHsxR1F+WOOK7qsAZlBJQLux1/hYBvyVQPrtp4tJja/f/Ru4tzDhZw4X61l9QYUznvT5cTXbE9XJOobLIMUC31R8KcaG+l53Ga86gCqmuI+H7PLcj4HYCXec7aeLCaou+/z0Avd4nJ8BliZ89rmmsGFID4pp5dxofZV8XCaHoqckAfeF9ZuCyxMM6tgeOoHRtKAnf57kDAXcQ6EnpuonLxm0Lv0puEEi3oiIu1Fe/bUW2MQ0NVQWFAbqzXHuIC/V9OvKE5ghKLhHFULdLXpcyZmd/izkmLtQXph3T6WVJT1x6aOnGhzA7Mt2H+OY3CzXFovZtxVuauBSp8PP5QB/uuWlpuCzx6ctdYedPc/hwheCD6iT2x3FCqKjKDNCzswrgWsjGK1AJOINSRb0ktypw+xFwP4GWbtzAxIVWpy4ns+V40dQGvi1lbqbe+MkIO1T91j9GzqAKx8sM0K8XX/bgssSj91cHzqBUUS9JdanCTwj4E4HW6V3dxGVka874KwD97SjUcFniNo37wmrRhffgQz+l5s1kPlcfBBUVhQF6aHFBXAs5ftK2msARlNznKYsyjmEeQsBDBPrFbM3ERXJB30cBaPsvb/pwWWIrd122MQ0NVTiOAerhIzRclnjYl92BIyhdkk7mEHZ3ypidbbCjicsSxxQ5qdPLkp649NDSjQ9hdhS6D3Hxh1OoKadIH46J+RNiC7eqJXEXmbUaYeHh8bX9AH436rKGhceWAhz74zgh1CUrDNCWr1UsscAf0u8+Z1AXBcW3v/6GgL8R6KbMYyC237OLEHfRjZY3Dax2ejf6CD8ZPfhcPXpIAYdQRVEYoD8MHQuw2rn6+Md4Z1CZgkpoF3seAc8T6J5TPQz8dPpkCjm0/PyaCHFZ4p6TRJi3UjF/heCHvfOxP44TQtEugAH6+ZcFsMQCr/54XNEZVKWgsuSW/0DAPygXYNObGn72zhh1jti6tJ0NrHakzS62MQ0Nld0CA3TS9FiA1c7hBYU0R1A3PZHwbT9HUsbsfHM8yq92WqtHdHpZ0hOXHlq68aHcV3Rz8NUPU1PGG7c5bJyJyxK3L7BLz5t3lInLEveeH69LYKiJyxK/umHqn0weYOKyxIv//VGnuyJEc8hdi7g5iqhctkfn7Q1l1McEVDc1Deh9d9LeuAQ0FS01TLtMaJnNbiYuSzx489EkaaG9cfkDUJ7j6QcfPvX1BBGfUP6irfmtbn9Im0d8QajYg4KjeQ/XqB7sQfn+TY648muTuuLq/VQ08dmo0Kb6HFIpDeXm0X7xOSI+J9Rv1pa1xkRM2tysaOABFYH9Yi/WdolK+oaZ95PQJpGBhN1+vZutiis/6LLBThKoh67b5RLFV4jyipB6tI6xptX+ZnOBb46TYq8rWvrHL59c2u/VbFe8U9yd2qOSMNDvp4oix0aFNlVzSKXMixs9juQ3iPiGUB/MrWXtdB/Z/KJIwJ0SUbxOWfDpp0WjcAq3U5JbEhhIV7uPhAeWrIs7crOJwU7i6JmCrwV5gChX/+MTAE0jv2N+5JkF5SiT+eT2U3PprRGbanU6rus/ZLRiVx+IW//6qE6vNnpm0qNItzjYZNLtcdE9J4u8nD51WBh+2T3XYltqC8d+ai0nQa2LFcvhkCwIm/2DL0+m5xoOyc49wydjvSWkugSOgdrk91waDgT/vK40cEilxJHb7RbFTIiYiVDPDc9g4dhWZpPss1250gMcCa55oDJ8/F1D2LDhz3G3T2d3TFVEjoF6Ye8OHw4F51RSaQ6plDxy49KZWRExK6Gezf6BhWN3p4deClArNK6Cw7Kg+5UuRs2wwxoOy4Zv+iAZ6zAh1cULDNTpGZt5cDC4UpY6wBlVpJ7ECicJSnZEzE6oRbvnsXBscvW266SSre8DgKPBhz9uwDauSVDRro2BWn5sVwOHg19eWqU5owoyTRVdQkTqFLE/eza8MXE8uEbJkzq9OunZS48u3fpQ9keie1EQFKUAak8B0ou5e1wwa84pHZ0v7iI5w+qNM7AmS5uzDsSpgQdzXY/6M/PPyXgKJ6TyqsBG1WwqcEilfKUKdkUXRsTChJp9wQnzQK4h0fvbUplYu4dpHf/tualu1+Fw/pW7/mHK1VOIckp18wIDFaeTjm97O6roaR44pFJudwXf2lEUEYsS6ux5R8zmpxdFz6wSyMsKq747g39ccz1vBXEarxybOro191Eyns4JqbwislE1mwqcUWn/rb8IVHFELE6o3ww9bObmtkXXq/wkQJ3X7qFW6OcJ5c6n68Q2rklRVZmBilO/V0QdjNqctyVwRhXp2SS7ODFXytifJ7dvmX8MXh31Z/3fdHp10rOXHl269aHsj5vuRVzDrzxqT/l3lAgIUiKGrUSgrURA8pRIQioniwxUpLqgrbo8DqnULk7BPmkBEYV3lIg3Ef1j2PoHTM70QTR6YgGnVEkRGai2/gG2/nFCpXS6ii/TlRBRekeJeIOUiM9WItBWIiB5SiQBFZkjmYGKVBe0VZfmjEo7clVBcAsKIirvKBFvIvrHZ+ufpHs4CapLVhiotv4Btv5xQKUjSEjWuuVSKap/AKV/AKV/vJT+8VL6x5uY/qGdSHRzXKpLvpoyHri1Q78285wtGn2x9G698Osd5ndtTkblWWXo24sdNxev7xi1/eo+XZ11w/QOH11uw6mDOt0Vocwp7WlXcTJDjD089qSgP+ftRhxPhCF9l0ThifAet9t7ERJaYxgRQ+Zdmc/CrJ8+e7Ep3zcnE0Uw+9p4TqJJgqg0RJSGqYOz0MygLDRgZ6F57Cw0LekstPdTXaLIQD2/5/80O+HOcEillJPqRvvFJojYJHVwHpqZSPIbsJPf4InOBxkis++nov0iA9XOfoN29psDKk89fVVcC7w5IjZPHZyJZgVloml2JprPzkTzJZ2J9n4q75IZqOPbhQE76S7eIZUYGInjXJLQChFbpQ7ORbMSSYADdgJc0j2cBFUUFQaqnQEH7Qy45FM5VaGpgiTXQkRP6v8cnQHoq/jd9O9GZ0wqBc6kUuBMKgXOpFLgLCoFzkosBY7uRYHuRVzTugtqS5fUwQFaMyhAC+0ArccO0IKkA7Tvp3K8zEA1azUCdiwaOKS6KSr2UHdHxO6pg0O0ZiJxYWDHhX12ZMUxVXLJDFQ7MOyzA8MOqOTuTkRFOlHohYi9UgcHac2gIC20g7TxdpBWSzpI+14qWh8KA/X5NRHY8WjgkEoyuV0qPpPSFxH7pg4O05qJxIaBHRtOuoeToKJdHQPVDg4bdnDYAZV3U1RelZW2KWN/7OiwSUWHTSo6bFLRYZOKDpuJRYfp9oh0L7oUQRyG2jIsdXBemhmUlwbtvLS3yXAg6by091PRZoaBuuemZdgpeMAhVaao+GDKSEQcmTo4M81MJB1Os9PhwJwpkdFJ5+G/n4o0AQPVzocDdj6cE6pKUWWJF8Yg4pjUwblpZlBuGrRz094mxIGkc9PeT5U5hYH621Fo2Gl4wBmVusbTpbrRHB6PiONTB2enmYmkxAE7JS7pHk6CiuweA9XOidPsnDgHVBc9m9xo5QxIGftjJ8WZVFKcSSXFmVRSnEklxZmJJcXR7ZHpXsSeo09RWz5NHZyObwal4wM7HR/a6fgg6XT891NFRWGg8h0qQPvkgcchlSTkixyHNMFMRJyZOjgh30zkFACwTwF47ORt4JDKI03AQLWPAfjsYwBOqApFFVyKOAcR56QOTsk3g1LyNTslH9op+VrSKfnvp4oKx0C93icntE8faM6o1H2eIueSVfkLRPwidXBSvpnISQBgnwRIuoeToCIDxEC1jwIY9lEAB1RJStBWjpuUMvbHPgtgUmcBTOosgEmdBTCpswBmYmcBEnia6PbgZErclpRLj4NUehyk0uNMKj3OpNLjzMTS4xLMCpFuD9KnC+zxSZgfZyaSHwfsjLXArjxpR11CHI5WY9yC1MEJcmYiCXLv4JgLbKhuGioLIh6vFLzSr+WbPWa9f6Kjzr/+XJe5b8xaZzdG7Ry2UF+7aZH58MzLqIdDl+mXtsw01xX9OPr4lbX6iu6TzU2pqkan/WqzTs+BkOMoU23E9z4vtOel3bH057ztWNyZIwZE+juT4dTx+3GKomDcQjKODweNMSOyD4ouMnZ3kjhm56vAuyiqwguKDxF9hPpq1gXzy66c/sAkRUvmflQXTu4TCbf2WaCZdTdpHWLrwK6xb9ilcRBVEEQG6tfdr8UjKviqbSvokEr1ME6Okk1ENAnV2nLU/HNijP7lS1K2pM/pggbINRSOf9PTf0nogo1TGIoIv58qugQG6tabGQBOSbhzry50SFUpKvq/uA8R9xHqjT77zHyPqusfHiOFSx4WVeAXtcvBPu04beb4i/6bFIwHxdi35kFUpLAYqE8OXPYhKrikxUBnVEGgqDjh4wAiHiDUTv+3y/x+UlO9Ve1JJO3y0rL4nGfHwWup71Vk6uEkqG5eYKDG/PJKwykJH3eJgc6oHD2b8OHOHxDxm9T/vbQW+irBpbVWt3huztpfSG/wy2J96Lk/0c8l9L8yzdfp1UnPXnp06daHMLKCi+5FyeWWj6O2HCe9eHRLTqve4yi9yDhSvWTv/O3aaD4MVm1TC8z78ReDr9YC7s29IxmWICEVmXYG6rc3e8Da+05qCzN94HFIpYQOL7s58SQiniTU3qMLW/xLt+7tROqX1Ou5Rav3YT84v0g67fiSLOCHsds8Wfs2hk6pCscxUGfMbQzrzyus1R+XATqkUtsAHtdqOYOIZyhLUKm01XVQZb3kt6SCye+1xmt10paB1eqLoHpYNnijJA9nrL3Fvg0IogpugYGqWfXgkB05QM37zzzOqNQ1nyKPt7LnEPEcod7/g7dKRTXQCw8lNUw6vM6jvSw8Bm4933MPUw8nQUXbdgbqtoo1YNraP2ljcz83nFEFejbhU54HU8b+VE2T3ko1obh+9+UCnV6d9OylR5dufSj7Q930KQqoU5VrqC3XSC8OzpzZSj2hrL7oAblln5/XAlSoe9Co13GnEflyghGetwsE20320GgQFVkgBmqNTJ/FI6p2p3lv4JBK7RQEfMXwTUS8SaiNh+e0hseKutCfFDLpnXqUho9gvM6+28DDtHzsrLhkHfoIospugYH65kgWOOr3WZ4hOxoDh1RqgyLgEsp/IuKfhPq3kt/a+kjTFw4gpUxGbK4Oysd+ACOrTzE+Pb3HWCvq8FLFjMl4Oiek8qLIQG13uoYHUcGBWo2AMyp136co4A30XUS8S6ifS0Wsr87U0rdeJsVMSue/78FHMy6N59jGNQmqKMkM1GXF08GR7qXa0rM1gTOqSM8mfNzz95SxP2tyRlojPMX0g2lW6PTqpGcvPbp060PZHzfdi0hEck9QW56QXqxR67CJbV13fhUJoW3+2kBKxJjXrDWsl+eJhpWI+u2AZFiChFROEBmo2WPbAqS6wDfcvxUdUqldn6CIovIcEZ8T6tx1O01sy6enWxegHvt1vIH1T7pi0/ETC+LLv9ETCzilSqLIQPVsrA+w/jlXIxtwSKV0uqCqAvcKEV8RaqqW60z8rJo6i9Q0md+9koGUCIxqXRsebFoEYCVyxLudPTUjAdXFcbzMQP1eAgCpLlC4ULjPIZXa9bmwuH6DiG8Idf3yhSZ+Ft/9nlQ12bGtuQ/rn7NKVrZxTYLqEhQG6tbRGsD6p0JYRuCMSt1Piqhot/kgZeyP9OSKifXPT7mX6fTqpGcvPbp060M5ueia3y6ckIbbsjj1f66mklh77CIYXlwEo2r2MGtkfejlGnytX5JemkWzX/Tyo5folXs+M6vH/etdMGix3uXgU7P4qSx6U/dine6LUPZUEej2uGUuIvJ/4/M21Y36nECAmZoJ9K48aaddQhzecGAcftm4qh+9MPfFl9Dr5lqSJI7ZaefiRJoqymIeRMwTGVxp2BtUaVizKw0Du9IwTLrS8PupkswxUI/GN4J2UWXDIZUqEYvDHUp+RMwfGVxr2JtIgWPDLnCs2XVPoFMq6mEGql3h2LArHDug8tRjWRQ4jiuEiIUig6sNe4OqDQO72jCwqw3DpKsNh6CqMgP1k8p9oF1Y2XBIpQypiG+BK4KIRSKD6w17EylybNhFjpPu4SSoIqcwUO0qx4Zd5Tj5VIGOloj4lr0PEDF15H+uwGXYFbjAuxW4vFSZYy9V5thLlTn2UmWOvVSZY29iZY7pXhToXpQ4t1AWtaVsZHARPm9QET5gF+GLt4vwwaSL8L2XKqpumYHatkQqaNcbBA6plKTCN/hx0YgYHRlchs+bSO0/w679Z9jVs6BjqiozUO3if9Au/ueESkkq0a0gOYCIfGRwIT5vUCE+YBfi89iF+GDShfjeT1VlhYG6/34+aNccBM6otAtYVHm0HUFEMTK4FJ83kfp/hl3/L+keToIqKBwD1S4AaNgFAB1Q6RCUqHKKUixl7I9dAdBLVQD0UhUAvVQFQC9VAdCbWAVAuj3kTDjqQkFSBQ21RYsMrj2sB9Ue1uzaw9CuPWwkXXv4/VS0JhmoQ4sfq2iXWdYcUiWKinN7dUTUI4OrD+uJlDyGdsnjwDA5pIpoI8lAtWseA7vmsROqQlEl1NgqiFglMrj+sB5UfxjY9YehXX84Pun6w++niorCQO2ZtZhhl1rWnFHJNaKIioNB1RGxemRwBWI9kbLH0C57nHQPJ0FVOI6Batc9BnbdYwdUFz2bcE6qO2Xsj1342EsVPtapwsc6VfhYpwof64kVPqbbI9O9iPdfDVFbGpJetGu767i2e+CJdTiPb+vycXBQn8K+ZWP6g5fb4uLzzNmejJ1QQiraCTFQP6sw11h0JAN4UbsWdEgVKSpOsm2CiE0I1a5dr+Pa9W+pZQZEgb1FVXitW3rNrh6qJV2G+P1URVEYqBmj+2vi+Prg2pj00CGV7PoElRdksTkiNqeezjdaWFfTlNDnLCbhw492F9KK3R4Jo67+61s+rj2YVqe61ujedfbwYRDVJXMMVPHbv43MudKAUVNE6IxK7hNFVBwMaoWIrQi1e7cO1qL+Lj1zBxI+fCg3BMbUHLBHy9m7mXo4CarsFhio//62JKZX9g6g1qKnhjOqJNJUUeFqpYz9qbmujvXzsKfesxcW6PTqpGcvPbp060M6uej24PAWbksKOO3sEsheqgSylyqB7KVKIHupEsjexEogJ5gVLro9iqi0tccnYQ1kbyI1kDW7KnFgV5600y4hDsfLMK5tZHARZG8iRZDfwbE77VSJpkqSEIuIsYRatJNs7T4U5j0398cA9fbT0sCbXgNjt+30xfX8R5t+LhWMvSMlY0uXkCqLCgN1SdbSGqLCeZ4SwCGVklQqLto5FBGHEmr16zHWnR1fgdLrycFUa3dqgI/5fPFTFeiPDXY+mLyYbxBV5mUGKj7mjLMopTp3PY6oIkc9llXVJYojEHEEoV5yV7Ku9koN4luQ/NvNP+lg4P4CYNOsnka22EPa49QS7JL9Q/YtXRBVFDkGauSKLzyICh98WhM4pBLD4+I4WZJHI+JoQj1QpaZ1YdpBX9xccmhj6d7MAOenZinbiG1ck6Ci6cRAjZnQzLjbui/MH7FMc0R1KQpNlWSuDyK2j/zPkR6AvkpUUJ35c0WjrQ8LDfIeHgL1oQd4a9Zat7dTqb06vTrp2UuPLt36EEZW5OleFERenoLaMoX04r1Oha0dmQd6ny07Qq4euPiDcTttBCi6sQbsdK4n+GHMoIomf5xdPgZRXQLHQL118VtN/f2l1qp9HeCQ6qaoLrcoTkfE6YRa8vt81v6WA7yNqpFDuLurdNPaj5hc8cseI2CDG4Ur4mvhi2TpG++UirbNDNRLFWJA7F1hT4kF0cAZlVw6iqiSwMszEHEGoa6+l9vKOaO/N7LkHwFq1YyFjen7IkCToS3g6DyjwcgV1Sqe2cWzy8cgqosXGKgPM+XSnnV5oc0o0wY4pLooqiwJymxEnE2orz/Mbe1c188bXuwGcQF3u61NvzWz4qFsXdjGNQmqLIgM1DX9M4L5sZf2XN3SDDijcvRskkWXMC5l7E/+G8Utbc1Ab5mGB3R6ddKzlx5duvWh7I+L7kUF7WAXobYsIr3Y5b5stVq/1fvrC6JE9nfMZwx+oMJOm8vCZwUfasP6ZgRjXifjMq4gKq8KDNS2q6IgooKHynWPQ6pMUVWkRL5CxK8IdcPmitahsge9nHaIbJonpwFVCm4xXP2r+3PDH3zxQXSycv6DqG5eYKCe++OAr00BtBZ75dAcUlVCxVfNKMsQcRmhHlYrWztfX/Tez00ushheepiviys3/PVNXWhW2qfhs0iikS0ZmiAhlVdEBqr7YBWIqEDsNEpzRqVcwC7/+YaViLiSUI8PrWVdOPJ/3ulDThGF2S4LiMxxxlcue2O2cU2KqsoM1OK3ehgFL/YEI9Zs0pxRBZmmujhxbsrYnztZBOvpr/O9edrt1enVSc9eenTp1oeyPxLdi0j+cJtQWzaRXlx4r67f1n13zxfoxXFH2wGkRIywo/EVM6zL4sFKJOuvybhcPYiK7DgD9a96bSBSXXDahrw+h1SJomKX9hZE3EKoB/9o67fl6ZYbAapvc0OA9U/00ez4ORmPLwFAT6yKTqmSIjJQ/4roAbH+SdXlrOGQSul0XlZlbhsibiPUtJ/09T+r1tY0icLM3QogJWKs3A6MBk+aGFiJFO00MhmWIAHVjbYHDNRGC5tDpLqgeY3TnFEpF7DLf77he0T8nppNq0f7n8Xi9b0B6qN7JQHWP/3L6WzjmgTVJSsMVF/NURDrn3YDKhvOqCI9m/AJkjUpY3+qPfT49U99ydDp1UnPXnp06daHdHLR7VFV9LBOGafd+C4ZrWLN53oXbF+jl9uaw2rbaor35PmN+vwmBSxPsdHe3ypt0w2uuJWmYqy3/KmdOt0Xoewp5aJH2zpJFHfa4/P2wlHqc97OCnom0LvypJ12CXH4zk+M20lwt5YIVsHZA72LD+xNEsfstBMVmaYKonIUEY8S6od1Jpk4q8Z9iMjHb/J/iHPetCurSsABe8ZpOOfN9bGcDPOdkOoSRQbq8BtDQMTKyVq/ND96HFIpSSXgLKVfEfFXQm13rL6Js4ZW3Sbusx6FskGcaSccrQodxXyDqEhpMFBrD+jtj0QWuPjY44yqUo9lf4HsU4h4ilDbuguYOCuq6UriPnt6KgLnvGnT/6kJT2z9y5/zljdVctxnCam8S2agHljaCef3aecO9tccUinD4y8t/Rsi/kaohcqcgzjrq/IN4j6b1DXewJl2VzM0ho5ivkFUUVQYqOd/7Q1wph0ouUJzRnXTs0kWJPknRNz93yM9AX8/ZWR7uH0mjkp8sgTqrS4vM3Gm3cFme3V6ddKzlx5duvUhjKzE0b2o8LxwBbXlCunFaZ7lJo4qtStNJNWCv5vBRUcywCE731S8FmPG45iv+1Iy5GMQleNlBmqGLHVxfBusvbUq3iGVklQCdmlfR8TrhNp+4+cmjprtuEmor1ZZBo4033+YAw77sTPAuVHLV7jjnVIll8xA9ZQ+4Y80j7x+2nBG5SlJ5cL3EN1CxFuEGtN0komjgqWWEPmoyk1h5lxp4EnNbZyo+J0Hx3w75EuGfExIxfcQMVD/eNzDV+z2SHBvZyXNIZV6crsEQRD/QsS/CHXVtV4mjnpGe/cFqCUrfGXgSPPpXJXYxjUJKlIoDNQ6669rONKcLVIzHFFFKgSFy2kLyvmUsT/5Tm02caT5YVdDp1cnPXvp0aVbH8r+CHQvulRF/Bu15W/Si8/5WybOqrHyHSDztNm3Wvde/eA+303f3mE8xDlvu/K4kmEJElIVRWGg3hmswHWbvdov58sAh1TK4erCLu2niPiUyvnP8szEWUPn2xD32fpsizw4027979Wd5fwHUUVOYaD+MbYZxJl2fy3O5ux8g+Si3Pcu2a2ILxDxBaHWvR3hz4oaIBP32eWdHm39oFh4d+EYI6ZFI4hz3lpdTcYN+kFUReEYqGmVrHDDsSZavZ51gUMq5QJ2KZwq/4uI/xJqmaLp/Flfb+YR99n9XfkMnGl3x9fYWc5/EJVXBQbqwIluiDPtft6xUXNGpUNQqK0cdy9l7M/9USdNnGnXZfxenV6d9OylR5dufSj7I9K9qCqSnBaR8cvuxaneQybOKl68h4QPM3ySFwybanjajqgNs2T5zcA5/712nWAPHwZR3TLHQL0wcZ6WZnUmeGZxDeCQSu36ROzSzoCIGQh1Wa2jJs6aPtCOhA/XNbriwycN7uwagZ+TEKeooCdWRadUpPYYqB2qrTfwSYM986KAQyql00VBluTMiJiZUDN/edzEWeFfe0j4cOSxcNAny1Zfthmt4dmjNw2c81+znJs9fBhEdUsCA/XFnX3aFyt9xvS4FsAZlXYBiy5VVrIhYjZCzVDwVxNnveesQMKHa7O1NvBJg2fburCNa2gqdjwzUB9nH27gkwY/P2wKnFHpEJToUtwCthQpYH+ip+038UkDbeABnV6d9OylR5dufUgnF90eSXYJu1PGaVev4yMTZ9qpvjX6hLaXTZxpt+HORv1w619NnGnXvPU2PXb+jybOtNv8eKdO90Uoe0q76HEJdC6HPT5vK5RSn/N2VtAzgd6VJ+20C8KhBYdxOcgk7Jxul4kz7fo/2Jskjr2giDsgwt2yGyl/Dg9YCl5OuPfsabPhgBHgxcqZ+uSnF8yIsH/A5luzdTn3dVOf4vKO+2uufiLPfVOa38P7YNkCveyZ52b5gTO8Z54v1ulJEHIg3XQb0YMxV5r/TUy7Z+nPCdygR/Vm8s45J8ThE2kYl4sMZO3raayhszd5R7VbmSQu9EDmJVSZZqJnBB7CcGoY0/uHcSPAL2RH/K/Fi1r6X5PvNPS/Bnpq+V/IvvhfNa5U8L/QvsL/ejsNEhnW9GH0rxb6hNxj/X8d9bil3l176f8594m2+qt2qn/on87srAtXBvp/vpOtt5675Bf+n2tpg/UH9zf4f870eKze/h70/1x20mSdnjYhh1ul+kISBTF3mv9N6bepjdTn0DWa8Q+sQ0wjZM4lYERuMsR79p/3I54PmZ0ognl9yrxEk0SOq48o9QnpzNzvontFjLc+uFgxMJnwl8aFtXFxmB2vXpYsv3YcwGVamCVHMFWV2ak+XBzGIZW2RQqygI0QsRGh7pr8fXSmbhOs2gWiyMI5023TnpnFAC4Og+dk7OzvNmGWU6oiKgzUcuv+2Vil4BYNF4dxRhV4QlU4t8A1RcSmhLrtyM7ok/GTrKrHCibo4SWrJmhXUjUBVz8YVabz8cHA+HY+u7wKoiq8zE41EBU6pIoUVRA4pQUitiDUiu180Sf+nWJ15rMGqIOqfL7Jl78+wJfeM/VwElQXJzJQ9ZIfbozMccbz78Kx0BmVU2gqzws1EDEmzX8TdZiHvko5yuDij7m2/7voPCXGWyOOttFHvtoWPTR6nDX4bB2dXp307KVHl259CGMqu+hexIK8EyJ3Ir2Ii87VOT7FetSraaAXcSHKJr8U1TbfLgVwSchmVzyAm3CC/SBnEBVJYzYqaHisGPzyeWvNIZV6cCuSoMpdEbEroeKiejPdn1n69AYBKi5E+SxtQ9As/pb2PJVa7qnyTMt5qz10SnWpAgMVF6LckS+TMbbREp8zqshRVGTjlR6I2INQcdHATN451pG/awWouBCl98JiLb6KB+CSkFHT84OM/TaxHyQPoiqyyEYFBT6tCTtOz6A5pLooKjJ7XG9E7E2ouCjivDPzrWt7qwSouBDlqZh2oEH7J2zjmgSVd8sMVFyIctuzzcbr57rhjCrQs8mtKmLrlLE/uBBlnvyTLDC1pU6vTnr20qNLtz6U/ZHoXkTN4YYg8hDSixNrLouOXjrTOvm0L/3Egj/d0sGsp2eMsUO6xNm9yB7yDqIiEc9OhYiqOaRSIl7F1SGGI+JwQj0HFkZnST/fkp/Ekjtvh+7fiOsR4FMj+KNPz4kukz5TwSinVEEWGairSvy96fWSgjDHnprAIZVS0CqCcqMQcRShDh33RXTVfV9ZzfINT9DDD4o3A7iY0+fRg+LuT/pEw2WV2FdHQqrbJbNTcQkpzRk1UL4FU12qJIxFxLGEOirf59HNt6y2OjcZSS5DGDBk093Wff2nvJh6ODQV3+rJQI3L4duExhTiYk7OqCI9m/Beu1/K2J/5E9ZHP1k6xcood9Pp1UnPXnp06daHsj9uuhclNy9MQ+RpCZQIfI8SAUiJGEiJwOQrkYRUmZfZqFh1GUh1QYdUatenujmR+wwRP0ugRMxE9I/2Vv8MPN4RWz0jeVYvIZV3yQxUpH/gW/3jkErpdFWReGEWIs5KoETM9ygRgJSIgZQITL4SSUhFmwU2KlZdBlJd0BlVoXZ9qqoI4ueI+HkCJWImon88b/UPUw8nQVUFjoGK9A98q3+cUWV6NqluQZmQYvoHUvoHUvrHpPSPSekfk0H/SCQ1zO3meFFRcFvKpflvTvX3tKdK88+it6yvZuWrPl1/E/t59NT29a0Jn0/Ut29YGN1pfUur1pXh+oVLy6Mj2nT129aif38TbdQdZOlzuuh0X4Syp+Q4PmoPvkBvnj0+by/roj4nsALyRZd7OxPoXXnSjrogHFpwGDeP4CrH7YzevmaSteBeiyRxzE47NydTVBcypBsQcQOh/pl+r7fCjB7WivHklgpcK3tXjSK+mf3SgP6dKxuvTsUCV1Qse0w0iIoMKRsVVE8zR5tw75rmkKpSVFzDNQ4R4wj173+ueF8P7W590I5Q8SXp/X46p83lz/levrlYrsPuYUbdrsmoDR5E5TmRgYodsLhYTP6pGQxnVF6gqP/P23lASVGsfR9BYHdZkKRkES4Zduk0PT0s0zUNSM45g4DknKMkSZIRkCBBiQq7IDnsdABElyxJggTJSnxBJSl8VXNnt5/uu+zUtN9Zz9nrvee87/620lP/ruep+osSz23GxM0mtd2fGZRX1bsbr4eZVHIcqt4sIxf68bFcqX1zb+kcw9HQzsPoj89sVA8n0VFRtW+WecdmfOWUCgOPxArCVkzcalL/szOnUux5TyPimEkdU6ia1vPbomh65aJ0PRyCygkMBXXL7P5ozW/fyLsHf+N3RMUbBaRiqbwKExf+y00D/ykbiS8R/lPg9Yl27Ke+bfX7Gx8On6X0Wvm1b+6EXka5KzMVuDrh7IWjC1ufRpB1c7AXiZ28H5P9QFK9XOR70XSwsaLfMtNNNTFG81eLU+/nF4lXpOb6tRJa0W8PvXy0USVGoqASX8xKMX+qic06IodUU1K5WfKgto6JuknNv3Otr+Dw4caLNqtTqIdfFdfmdsuDptTLpJGLjUe6lUWVnpRRnVJ5TqKgVh17wXsxQya5Ue/RyBmVZwGVwwp9PybuN6mve+zwLX88xoj4Hrz+2LG2Fr8y2n9jSmHiFakeV8uhqe489JLKRpUYhoJKfDH3LftA23qgOnJIBTs3ecJDPIiJB03q3Z9/8B1vMcFoOm+zSa0do/XdXwE9HrxQperhEFQ8nyiox/pNlUd93sH/W8uhyBmVhbOJvFu4I33iz/ieM30RiwcYXQouVODqhLMXji5sfVrxR4C96HK7xROYfMLsxU3nOviqn59seIrPS+lFcrzCnmRQjbcY7ffqwzQ0f5x8IG4cffrQRhUlho6qJul9tew/zlEdUt2A6sZK5BQmnjKpIx419xWcNsu4GD3ffN/3iKY+r98VfbL5Y9V3cmB88jA5pXIMQ0ElB3Y5/FW1tmJV2RnVxQCq5HKLZzHxrEmderKZ72mdhYb37wUpVOKVXe19CUWdYjXysEO53Z9V3tbqs730q8NKFd0cHTXxl+ih2uQSM1WHVB5Qyat65zHxPNjNJrb1yW8vN17e+SKFmn/Ee9qpP2qi6T1r0o1rCKpHEiioSeiEuutuJ21ug06yMyoPZxN5tzApfeJPTI/+vlVbPzHWVp2jwNUJZy8cXdj6tOKPCHqRY0VBuo7J161K5NYf44w4fgJUIt7Ts5ohfnJ0QIkcHfVYXhBVLoyvAyvV5eIoqFh1oQ++ZNSM+/+ruhxQwVcfR57yuoWJt6xKZEbEZONWkZEW/VP0MEJn7lUiDztoeMfS8I4lO6TyjJujoBL9UzZmqzre11dzSAU6nRMEQfoNE3+zKpFSQ6cb3dsPgErErxbrhY6zP8pEiVStvUouULJxGN8kVqpLECioWHWh64Mmqjua5dCcUcERsJs8Ocncw8R7ViXyusxco0Otnhb9c/xiHDr8R08/VQ+HoEoukYJK9E+bl6/VL5801pxRXXA2uURR+CX99E+FZcON3hFTFbg64eyFowtbn+YhF2yPW+CEhelzaDc++0C0ZEcdo/udaUr/3PfQmU8bG4uNz5TX28v7ejxvbQw8Pl25nNjW984fXYy72fG3JeiLtOIpOKIn3s489zA4PsknEOD3pHiogJkAv8pDH9rZcHjBEdxDE3em4Gxflr+HGANjZofE0R/aedyQ6ubFzFkzZCA/Qer4/esrrMzTyPDMS7TkBgt32atWfVBTy349Ip5kwXt/dC6MTzorVeI5eqqMqcgRFX/DmVQcvRkhAhMjTGq5Z39svFGsrvFPzAEzv7QrR8zRW01l4oRHfnUVKXNM5kqxMU6p+H9SUF/MbxFP6tlL1i2PHFLBtsxzLk7KhonZTGrmYSvim+etZbSNOGLp4YJiWZUcyt6rHxd/t86owKEsdUizUUVOoKfK5FDWIRUEHp68qpcDE3OYVD7Ty/hlf9UwOmQyL1L17HygQsWBVwPOlVQ9HILq4UUK6pcPW5OafvTfqlgHVLcHzibybuErHCH+799nejT8p8TjPyUeBNlDcW/FSo06GvWnJSivay+I2XC2hVGo8XYFrk44e+HowtanEWQlFvaiS2SY/LgH82e15Hxjl3c3Prq/zZJpfjwoRl0s/zfnO2PUPbldnjAesrBRXYxAR9WKNS+vvTvtltchFUgqnhxpk2sGhbJacr75C/Y16pbabck07yqXEY3pX1N7yc2PL7K1OSKvzTmkEidHCirJNI8fk+Af1zKL7IzKAUlFliTzPia+n9WS8z3VfrBx9rnfkmk+dH+V//ehdQI53ynbDXlhiXfp5aOd6hHpqFoXVxXtVu5xskMq2Ll58qpeMUwsltWS8x3cdJQxt9l+S6a5R+co1KdAM7pxDUGVGImCSjLN7O+t1MU/rJOdUWEKiifvFubKmi7xh2SaM2XoYrAdvlPg6oSzF44ubH1a8YcHvSiwgpsrj9tT3uzFIdNnxLbPO86YVjPeUhvObWiHyCFPl25bYlo9mxV4vZN+dVipvFukp2rkkMchFRy4CuRIOxYTY03qoQ83xpaKnGp8+X5CCnVmv+nJFemB2vDbt2fGn8s4Nd4x1SNSUGv/uSumyOUeGjnkcUYVwPG9IHBujsVE1qT+wvwQu/70bKPB3U2WHmYzt0Qlx9RQ6zX/KWZeq65qo/4jwogEViovSvRUDVNlh1RwBCyQV/UETBRM6qObv8SWavWFcWDdlhTquCXHywdvkNCNawiqKDEU1ErtV8W0LTxaO32CVZ1RYQpKIO8Wlkif+HPjz4axbcr2N2r0jlfg6oSzF44ubH1a8cc0nnC7PKKbY2TcHtmiRNAblAjCSsRPav7DVyJWKtbpdFSiumSsupBDqhtQScJZwUTFokR8qegfNVn/bHtxPwbvWBresRxTWUGgoJKbBsn6xxlVZADV4+KYaphYzaJEfG9QIggrEVJph8JXIlYq3p3pqER1ebHqQg6poG6cYfDXfA1MrGFRIr5U9I8/Wf9Q9XAIKlbTFFRy0yBZ/zijghQUpmIZ7043/YOA/kFA//iA/vEB/eOj0D9uN2wPeTn4/9Ln0G4m2zc2PntNowGaq3SaWDu25kd1jFm5FytMhQqxxxc2NF58vVLZvyJPbMclLYztp9YpsC/SiqfgiF5keJYRagfHJ1ltgN+T8ljX8vopMwF+lYc+tLPh8IIjuNrmJFyS51HM6o1djII3vguJoz60kyQJUrH074iJHbPCmjf9DTVv6vj719V+navKYde82ageRqCjkvo+78y+WTRnVA8oqGVIVr0zJnbOCmve9FQq7VBypd2uKXPDz/naqJKbo6CSRxuSK+0cUsEFQIbEl66Y2DUrrHkz3lDz5h+b8ZVKLh6HXfNmp3pEOiqp71ML/fjYKRUGHtzfXA9M7JEV1rwZqVTaoeRKO6oeTpvqwZsVBZVcd06utHNGhUXhDP5fYitMrJv1320a+E+JST7vt2Z6dFBpp4NKOx1U2umg0s4AlXYGRaWdhwG9yDJYtQ7CbRmUFeZ89TfkfOWM+0WSaUZh53xtVJdbpKAG89saPzlac0ZlweVNljiuD8XEoVlhzldPJdOMbJnm8Gre7FSPSEGtOvaC35ZpDpcKJBXLC25uBCaOyApzvvobcr7yjmY5SM2bHHbO10bFX5IU1GB+WzvO/qg6pIKdmxXckjAaE0dnhTlfPZVMM7JlmsOrebNRJYmhoB7rN1W1ZZrDpDJwNgmiJPVOn/gzvudMHWSadZBp1kGmWQeZZp0i0+zhYC+KLkGYjNsyOSusedPfUPOGsv84J3CRMeyaNxtVECQ6Kqnv02q8xSCHVHB5kyWO69MwcVpWWPOmp1JpJydX2j1iTsWEXfNvo3pEiYJKrk8mV9o5o/LgAiBLHiWbgYkzssKaN/0NNW9ocomZMnnJPeyaNxtVEBg6Kqnv06JOscghFVzZ4ohR3mxMnJ0V1rzpqVTaoeRKO6oeDkF1uzgKahI6ISdX2jmjghQUprpEZmz6xJ+YHv11UGmng0o7HVTa6aDSTqeotPMIsBeJUd5i3JbFViXyhpp/ObFZx4ASCbvm30blOYaCGrzfIN/P/1/V5YAKvvo4knD+EhO/tCqRVG4aINtNg/Bq3mxUSWAoqET/2G4ahEl1AZ3OEaO8FZi4wqpE3lDzj7YeqE5q3uSwa/5tVJ7lKKjB+w3eG1MKI4dU8NXHEaO8rzHxa6sSSeWmAbLdNAiv5s1GFTmBgkr0j+2mQZhUHs4mYpQ3L/30D7hpoIObBjq4aaCDmwY6xU0DSYTtIS8Hk7akT6WdBirtNFBpp4NKOx1U2ukUlXYe+HYgh0UxsyY4PmalnZ5KpV3KTIBf5aEP7aw4Yl1GcGuywko7PZVKu1Rx1Id2LomBVMElkgErkOX/15uT/zN45NctKZ8nljz8Rx79u1G0TGz5LQ91MpAlb3tje3bIaqxpMUVBsU1jr/nyGTnaT1ZiVvbE/7104L+vHjQutk1xd+D/Bk6CNAcSbPQ8w7LcuuDEDPYs/D3JPVtsX/yG5N4M756zDefmGIJbZw5k3qQ5sRd61TdOy5+FxFEPpMcjQqpHZI5g4hGT+sXHjPL3rIv6Q92cPpN6Z9aWdbte+ct2rVHHQXU1vd5G+eNBr8P4NrdQibsRHRXN+6Ae2tx7oeqQCnuYZ0XpOCYeB2e+E+IUY9Mx/YuXZg+jd4dqvc8UUce97iHnF0vEkHPRsAyzbVQcsSmoZEzJ6evd+/U0J1SOYcB3AE+8d05i4kmTWvBxDeVm7/36e8cnp1A/r1NB++vgVe8VOQ6VKFRMmznusqw+LEGtje1ULOvoqOhRcQn1bs+oDqlAS/JkHz6DiWdM6vaJzZRO/7dbb11nonmWf26slvfKisTrb9+vTNXDIah4vVJQ57d/JMcd/lv+T5c4zQmV9UhwNhGl8z0m7vqXuz/+U+JJFafNJm7WgfeV1S2f6w0PL1FmHSilDD3/m/579AIFrk44e+Howta/OchyDHymlJewOL6C23LF7MX6T2KUmrWP6N3YVSm9OJrNoOUe1E77hvknka3eUquf/y/Z811/mX51WKl4l6ag1tl/Sp6YsEye37wNckgFSidQWncNE6+ZVPalW5m3bpc+LWKd+TjYe3214z+NUyNKTFN3fLLFe2JpDvROnyaaU6rESBTUBvOLyt4NDdD5mjmRMyp8pjTwuv9NTLxpUj8eWFXJ1GqdPmWW+R1QN2s5bbsLaUXff8t7szSrJTUrho76tsn0a9JK5SSGgjpkZx60oFsVOaZNHeSQCr4DBJJ2voOJd0xqmZiGyvqVi/R7280CuJdFx2g7t7Twn5PeoRvXEFSXh6OgZq3zg7x5tIwqZciGnFHh46gCsQQ+lz7xJ9P4korrr1/1H/KtUODqhLMXji5sfVrxBz5TKuBuFB/jtjw2e/Ht8eWVwdmzG4sfrjULv+olqTWjp1e+26KX9laBLlrml+NVtE0PIxJYqazI0FFldj6OOx/tkh1SwadCoLTuT0z806QOHyQoTYbnNbh+Gy3vvPR6e5T8KvceNeclPmWYnFJFiaGgjvpllvf10RzakJ1NkDMqfKZUIIa1zzDxmUnd/FhW/pAKGYv6m7UMFQfl0tqfqek/WLuxtlZQtM/O7FWvVKYvKLZTWRdHR0UjEmpomWtMlh1SQc5JIIa1LzHxpUn98mxtZa6rmLH56vYUKrkCVLbQA++VcQzduIagCqJAQR3pXi6vKBmhLT9XCzmjwsdRBWIJfDd94s8IbwllTd7MRlKWrxS4OuHshaMLW59W/IHPlLoYvGVljsiQgfwAJXJsU16j2NjPoRJRv7vVHS2KzuUnSmT+94fVffl2qvSrw0pleI6CilUX2rdgm/ph29qaQyr46nOxOBZEYGJEhEWJ9Bpd1PB1mmPRP/V7bJIXFIuQ8Y7lxzuWhncs5JTqcnEUVKJ/ZsxrojUYG6U5pAKd7uI8nJQNE7NFWJTIzSpljdLfzYRKRJON+qjWg2d+okRqZMipzVh7W6VfHRYq/pdAQcWqC/1Se5xavYGgOaPCZ0qJWQOTAxNzRFiUyINLrFF06HSL/un4Kr+8+UKPvVQ9HILK8yIFleifLZVrap/ke646o8LHUV0CKwiv0k//fJgl0rj3cqECVyecvXB0YevTOuRyw/a4PIxA2vJN1n93+vqG9hCDFmLUQkxaRjbQfB/mzmAwDZcpxXNf9l1xvdTZ0UuVGvH/+Kr2eKYvHLhEKXk6h9Il6anezE2+P82+SCuewscjXXi9c7ki/js+wVkBf0/yrIAzAX6Vhzy0s+HIfTSCy2VOwv2JpZQPP3ih13t3aUgc7aEdx0huSMWBtDQmljapxI6X2PJCw+yMX09Sh98covXN8r2fmGUT0+xwDLPtVBxIKagjLv6lflPoPfTrqlLIGRXcERVd+L8J5TCxnEkldsPEdhgaZhOLbmLVTWy6yc1j4qgVjmGkneriGAoqMQAiVt3EptshFWzLIrFfj8HEGJNK7JSJrTI0zL7y/VH14PJO2vmkfioxyyam2eEYZtupvCBQUJfuTFCfns6Ipv1ZCzmkgsBDnKsZBhMZk0rsooltNDTMJhbdxKqb2HRT9XAIKo4QFFRi0U2suolNtzMqzJaIHJbKH2Binoh/t2kQryky5YjfFAiyxM6M2JoRSzNi0U2suolNN1ydcPbC0YWtTyPIsgzsRYHnmEq4LZXMXiR2dMSWDhpGZlkdjS5OmK+eXVJTI2aRxDQyHMNIO5XjBArqsCmqP+rTAlq7EXWQQyqQVHi+CJIXE70mldjtEds9aBhJLCqJVSWxqSSmysRcORzDbDvVLQgUVGJRSawqiU2lMyp4plQU3SzH+DDRZ1KJnSCxFYSGkZ9/7Zdf3N1PDCM1YhZJTCPDMYy0UzlWpKD2zrHZO/L4W1rOGW2QQyrYuUUJT+KqmFjVpBK7RGKbCA0jiUUlsaokNpVUPRyC6uIkCiqxqCRWlcSm0hGVgSkoUcJSmU+f+EMsKolVJbGphKsTzl44urD1acUfDnqbMayHq4fbUs/sRWLHS2x5oWH2ugSfenewhA5fKBcwyyam2eEYZtupeCuhoHbr2Rd5mn+n7vff8jqkQm8zFiuRhpjY0KQSu2FiOwwNswMW3TkXe4lNNxwmp1SRFSmoxKKbWHUTm25nVPOZUum/Pj9NMLGJSSV2ysRWGRpmf3u8qZpVegfV71EvYJZNTLPDMcy2U/EXEQV1/cBB6Oour3pv0RjZIVUAVFL20hwTm5tUYhdNbKOhYTax6CZW3cSmm6qHQ1Dxf1JQiUU3seomNt3OqGYKilDxyqmePvGHWHQTq25i0w1XJ5y9cHRh69OKPwLsRXIhtiNuS0egRJ5GKlO9K/X2ZdWUXty8cqwWlaOed+3tVZVfbolPvB6nJ7qvjA0jElipkkukoC4+GoUW/tEcDdn1OtEh1W1SJZJS6xxBjGxNH6Xi+ZUOG+bqO2+Z1H3FPdrfqwz1waM8AW9b4nEbjmG2ncq7RQqqMK4B8pY9KY+8cUZ1RjWfKcX/EMPsrpjY1aRey1JKiWs2US+zVE+hlrgzUrv0pLv3/q4q6tS6NeSTlbd6OxYcGUYksFIlQaKgZn83C/KIzdAp2S07pPKASgyze2BiD7Cb9eOVVdd76rE+88axOiWPVrrSl+qZd6vQjWsIKisyFNSeuTuiuutvyDkzy6ozKg9nE3FAbJU+8efHYU99BU8n6I8+VhW4OuHshaMLW5/mIRdsj8vNSaQt6XBoRyy6iVU3sekmFt3EqpvYdBOLbmLVTWy6iUU3seomNt2wL9KKp+YRPf5HxPq0d3B8kkvfwO9JnhVwJsCv8tCHdjYcXnAE19vEEYtuYtUNbbrfhKM+tAM23SR+MwIzARMnmNQ9hzL4incSjfPzzOMzX6SMlr5TVp3vLaVNO59Ji+/xpzzoriuM8G2lsrxIR9XuPC2rfbJll9cZVQKSSiI3Uydh4iSTenfnl6jGjTij7Pokyz0fY8/b6PMfqmn6qfnh53xtVJYRKKiuCWO0CZ1W+F1173kdUsG27CEPRkzFxKkgfPd8G11xVzESW5rHZwMOFEaZv/rc//CzWtqTt11azkGH5C65wzg+s1E9nERH1RJ+ULSNs3rIDqkg8HiIIpmOidNN6sWpSf6D1WoZ8fPM4zNia7h8X3aUo3xjunENQeUEhoJ6r00fLW58c7VQxhWyM6qbhVRGkEZhYt9/uWngPyXlvB8E2ffeH+g7XzzWODJEU2atdfuGHmSNTmX2KXB1wtkLRxe2Pq0g64G9SF48WIDbssDsxZ3ZB/gW3a9nbL1vPqdyJ2tG9Hv9tmjqtwW8O8YMrBy1Lof3nZ/CkY9WqsRIFFTPLy/lscfaaxmOJSY6onIMkFQeUoe6CBMXmdQDrfr7ki61MyJWmvKxw4hJlf0JjVDssdyBV+4b3ixauViOPolOqTwnUVAH3eP2/p6xu5apyznVIRVIKo+IN5almLgUbJ4z+vmyftrHWFvLlI/T9mdEjRe1QPp1Rh35VfXKDf9qqhbvFIZ8tFElhqGgPuvyQr6dr7X29TYkO6SCndsjMay4HBOXm9Rd6/r6Fq0ebQg3zJ172u2ZlR/fL436VVDoxjUElWU5CuqCQVf2+muN0tr3r6o6orIeOJvcOALNSp/4I68Z4Kv+yGs0cKkKXJ1w9sLRha1PI/5wLOxFj9strsdtWW/2Yuv1m31dHojGTy9MJTL4oUdrtyoGPZJu+MnTjs+KPJLHvGLDiARWKp6odFR04KOCcqeE8sghNeXAFW/OLFYiGzBxg0k9VD7J921CZYORzeOzakU2qeUmZUF8vxpahkUPwq/5t1FxOKKgti08Gp2/dNA/smce2RnVfKYUU8kz9wmYmABWx6vLviOeqsaDfObxWRc+n+ZOqoaETqMCd+/0KvtlQc0ZRiSwUkU3R0dFw8sO8/70uh5ySHUBKo+n1HeY+B1QIkf/z3diaG1j2hDz+CxznrP+Ce1zoAq5m9CNawiqRxIoqEUu90Alb3dXR6zZKDujMnA28TgAfZU+8efpTwt8d3NwRv72+xS4OuHshaMLW59W/OFhL5JE3l7clr1WJXK/U1Hj2YqjUImoty9/p7buUFcjSqTT+R5IZ0/Qpw9tVJeLo6Bi1aXlurxDLr6hJnJIlQCVHGmrmKhalUjp7QWNxtXPWPTPnmpd5S+6jyD7JMI7ViLesSo7pLoZN0dBJfrnSqU4VGphLHJGNZ8pJZ9fgiAZmGhYlcjq+/mMzKUvQSWiPop+V51Rrq1GlMjo/KPR2d0sffrQRnUJAgUVqy7tw2xF5aZDWyKHVAFQ8bAyBzDxgFWJvHovn/FWiZsW/dOu6x35UM4udOMagiq5RAoq0T9r+mVD1zY1R86oHJxNHlEUtqWf/il0s6RRrtFBBa5OOHvh6MLWp3nIBdrDsgIn9E2fQ7sSLeb5xnXJZizctkZp13qyr8LmPMapCxsUb4nRvgVNCxs/V9miZKk8yKcyJY2Kp3cpsC/SiqfgiN6DxQbP/RAcn+CsgL8nZS8EMwF+lYc+tLPh8IIjuB9MXJHZA3y3l3LGkoP7QuKoD+040QOpbl68hImXrDVvCyZ2MuZOmw1r3uRjiY3RxvGLZVLzdvFeTnQj0+swwreVKvEcBTXj15Pk1zdvqr/tb605o7qBpGIF/CF5FROvWmveGtbsZxTZ+5ml0u5Y5z7oZYG+znK+Nir+kKSgEsq5u3fUMlfraw6pYFtmyTXK65h43VrzNvLqaOOTSZNhzZv8adXeaMliUSY1b4erqHLk6zAuqtqoIidQUK98f1TePiJaG/lNnOaQCgOPWxKYW5h4y1rzVnDGJOPAswmWSrtuf3VF+ti3vY5yvjaqhxcpqKTSbnr0f7TtQys7y29zIpxN5Nnys5iY9O8zPSnn/bZMzzC+rvHFmiWBSru39zc3Jlyer8DVCWcvHF3Y+rSCrAR70SMyzCPclkfWnO/wx/WNsZ0/hzlfbXqlefKLOrURyfmuGNMP5Z+zLYxIYKW6GIGCunnlWHTgSH7vwN5Fvc6oHiCpOHKk/QQTn1hzvlWjmxiHa82xZJrL9Y9B17tGyqQ2qkTTNapRpanmkMoynEBBJZnmbLH95OtjIjWHVCCpyIk28xcm/mXN+Wa82dKYs2QmzPlqwnd/yKMmC4jkfFeO7YAa378Rhny0UT0iBbXEnZHogz3vqzHX/vE6pIKdm+PdLPccE59bc77dunY0snecbsk0PxIboe6tZu+h6uEQVImRKKgk0/zPz0vjai9+qjqjSnA2kSeUf0uf+EMyzbXW1TXOXVyowNUJZy8cXdj6NOIPz8BedAluLlNkhgzkB9S8XezU0Pjm+FpY86YNLXk8cVTEHpXUvMVN64523dlHf1HVRuXdIgV1XYJPrv7VFrVR1l7IGdV8phRTyZF2FkzMEmmpeTtTtJkxteFGS6UdU4JDeaXdqqOafzvVI1JQSaXdjKZxcqteTZFDKg+o5BplJCZGRlpq3gZ91sZ4r/F3sOZN6/FOCTnb4CkqqXk7mwN/2n0UTb8726i8KFFQvz3eVP7maISW398IOaSKgOpxSUI0JkZHWmre3J91NioZ2y2Vdp1PNEbXf4pRHdX826h4OlFQSaXdiOMx/mENaiNnVAbOJo8gSX+nT/whlXaLP65njL6xUoGrE85eOLqw9WnFHw70Ik/upryHe/C9SEvN/9MnnY29f34Na/697UplQh/Nbh24aTDsWSQ6/1sYD3XYqJwgUVCzrI7W+p1opuWYn1TZIRV89fHkSLsAJhaItNT8X28zwLhgrLXcNDiVbyCaenlyoDYK71gy3rGQU6pblCio5KZB3d5vaXkj30HOqDzQ6Ty5RlkYEwtHWmr+704aa7zt/RbW/PsPPCiICi6pHbhp4Ppog1z7u630D3XYqFh2UVA//9qvnl3UR+vzWUG/Qyr46uNdgkssiolFIy01/xnfn2I8bhVvuWlwYXZ35Ps8G924hqC6XBwFldw04ItV1LquiUTOqDAFxbt4kXknMl3iD7lp0GR8C6PU7eUKXJ1w9sLRha1P85ALtofciElKv0q796vnNmbVWBaotGtTuJjRutfSQKVdw4sVjXytlwQq7XbWlo2f8y1RYF+kFU/hET1P7GqLB8cHVNol/x5Y+pY8E+BXeehDOytOwguO4IpHWirtzpVuYgy7FxpH/6adyEIqLwlkwNLxccJG/UegfefO6C++nqlkzPAnmvT0op5we7aiTOZ9Yr4b+tjf5ymuBd19J/M/0B+uWKhUHDDDV/7sc/3s8yUKnARpDaQANnpSzMOUiPzvxAz2LPw9yT0LezO8e842nChIBFfCHMihszf66tzIYoxq/3VIHPXpK+92Q6okSbUwsZZJrTMxYlOXn3P5zuY2LA6821Y00g61mSPP2bamwpXNa1Xy1Cf93mSleiSBnoowVXVGlUAPC+Sial1MrGtSixx5d1O7AQ19kT3M4/SkV+NiBgwfpI10LycOdGjY6r4xLX/6sYJTKnl8NTR1WqNfNgb9nDWHVPAdIJDa8waY2MCknitUYtOEAlN9n+1QLT18+WJb7cf5S7zT2j0rT27RL88yNgxtbKWyIkNPRZjqd0gFWlIg+3BjTGxsUi/H8Zs+zbvel+mVSdUXjo1JKNAq4AdM1cMhqHi9UlDPzP1P/IWITmh++0eqM6obziaidKpgoivy3/uJ4T8lHv8pG8Fu+c+i6wmdB1yWO1X8QSlz51lCxPpv0ZL4/QpcnXD2wtGFrU8ryHpgL7rxl0Bb3Ja2kRZnZVe7hSjny8MWZ8EsF8trcxoeCTgrP9tZRiu/MiKMSGClcqxIR9UKvyrvfdY9BjmkAqUjSCIO+JjYIdLirBz79DQqW+q4xc9ZSvRoh7q9p8U8KBZfolAxFPWkumOqmxcpqMTP+c8Xz7yHlid5HVEFBnwHuMjLvp0wsVOkxVn5+yo5fDW+P2lxFrw9pq72+vPOe4mz8kY+Sks6dYX+HNRG5RiJjqpFT4+Rl5+tgRxSwXeAi6SdP8bEjyMtzspLX7p8iw+dtfg5dx/2obb7dlG6cQ1BdXEMBZX4OW8avlS+e3iU7IjKSx5I5TmpWfrEH+LnnLdeVZSnYZICVyecvXB0YevTiD8CC3uRZyWhH25LP7MX5bcOJZTbM8db6/pZiwNvx1LnvIej22pxb5+PGZ/vE434U9KvDiuVkSR6qh9TkUMq+FTAWwfLDcTEgSb1VuHvg9TLZm70fvYYskP/vLVdwPe37clN8X9/VriCU6rISBTU8zsaJVORMyoHPlBcLqwwh2DiEJNaedn3CV3LfChnPn0rtR7WxKRLyT3spV+TFipuKkNPJbMJOaSCnJPLzXnE4Zg43KS2GHc4sI4qfvEghbr//ZYxxc+wGol4VD0cgsp7OArqjulZYlp8MFNF7w5FzqiMZGkrw3RPn/izyH06MHIzHx9T4OqEsxeOLmx9WvGHh71IiiYn4LZMsCgR9AYl4sdKhOhXFLYSsVIlj8jQUYnqQlh1+R1SwVcf8SEVJmHiJIsS8aWif9Rk/XNC/TaGPF+OdyzklCpIDAWV+Dkn6x9nVPg1L7KSS5yKiVMtSsT3BiWiYiVC1iUKX4lYqR4XR0clqgth1RXnkAq++kTy6P90TJxuUSK+VPSPP1n/UPVwCConChRU4uecrH+cUTk4m4iHxKh00z8I6B8E9I8P6B8f0D8+Cv3Du2B7BInnSFtKRf5ra5jU2rNlSUTCpCfj9AJTdygd/6yRkDNvVf1Kjl1Kp0qfJvzhyqL7p+xR2s1dnZCp5yKt6m9+xfXpgYTNgzep00rtU2BfpBVPUx6P9DBuF3nybFZwfIKzAv6elGLwunMqJM8E+FUe+tDOihPxZw7BzTJxHf/zJEHc0hgd35oUEkd9aCek+PkEqC5BWI2JqyMtzsoLhvTVy5z6weLnfGHv/6mVTvaVibNyvpvZ1HPnh4cRvq1U/PlKR9Vqrn5b27BM9zujptwRJVQJi9Z1mLgu0uKsvDpvP33Thz9Y/Jxz3Rzhf6vqZbVozi/jXRPGoI8n5lCdUrGSo6CSw1dyz3n5vuyaQ6pgUvEGyYvfYuK3kRZn5frL+uqnNv1g8XMe1z6Dltj+UGXirPxxoxxqtbJjwviQtFIFnqOjar1qvFAL9vvd65DqBlQWh554TIyPtDgrt87VR3/9TpLFz7mkuNN/4Elxuh4OQXULAgWV+Dl7nlXx/9M9XnVGFVlIdbm4ZZg4519uGvhPiSFX68nlb5uf2JW3eupnfzwc8HMeu6+3Xqx5kgJXJ5y9cHRh69MKshLsRR5r8p24LTsjLc6CEz/5Rt+hnLL4ObMdK6H6gw/6ibPgwX6FtRyto8KIBFYqz3IUVOLnnJSnuJZx64fIGTXljiihCm5e3IOJeyItzoJsbl1fe+Bni5/hxWyT5PUXPQEH3rjO+/wjblRwTMXbMgWV+BluaTBUe9lpnOyQygOqyDGSHxP9kRZnwXX+U/ri7b9Y/Jxv9M6Lnj2pFXBW/mpITe1uk2NhrA4rlWcECirxc37he6YO+6gDckgFO7fodnGMjol6pMVZ8JTrhr7lrWsWP8O4iK8qN2hXmW5cQ1Bx3KOgEj/DXRU6aJ+NPCk7o0pwNrnxl/vm9Ik/xM/wQMs5egb5uAJXJ5y9cHRh69OIPy4G9qKHk5hDuC2HIi3OyrElW+ncjxcsfs57bxnymasfa8RZufNnefxJnon0u7ONykoCHVU+N6sw+htVQQ6pHpPqZrASOYqJRyMtzsplmzTUp6y8Znnn5UTxt9V50b20/rsvpQyTU6qbESioxM952ZKr3tEHaiBn1JRnSgmVvOl7AhNPRFqclev2qqHXmvG7xc/552Oa3LZJn8Ddu+qxRfeWmT+T/hUAG5V1i3TUyoeWFEETt9RCDqkuQOV5D3cKE09FWpyVP58t66jPY4ufc4cvbvmNfPXoxjUEVZAkCirxc/ayGeVhX3RDjqiCB84mnvOI+9Mn/hA/5y3aR3pcsVMKXJ1w9sLRha1PK/5wsBdJ7uUSbsslqxIZE/ebtqrVcYufs167seZvlyvg57x11FV5U2GGfne2URmXSEElfs6tXnnQJdcvfodU86sPfxpIHvEqJl61KpGN2cdos4udtOifm61uqb0afxDwc8Y7lhfvWMgp1ePhKKhE/+wY+gm69uT7RGdUngVUgRel65h43apE9p7urn46+YzFz/n5dUHrMVEI+DkXqFICPepVkH53tlEFUaCgEj/nuV/gfeXSk8oOqQKgEs+oW5h4y6pEvm92S54x6rxF/xzK2ll1JfB04xqC6naLFFSifyZOG4SOLHxfdkZl4Wwirlxn00//fHMiRm/jOarA1QlnLxxd2Po0D7lge3AYF+akz6EdKbdKyDBW71B4d8DPuUCBUXqvBYkBP2cXGqr/fVMP+Dl/Oqm/vuSf7xXYF2nFU94N2+Nxcb8Fxwf4OSf/HmiwnDwT4Fd56EM7K47YahHcb5EWP+fseld9cMKxkDjqQzuXywOpokt8jYmvTeqg4j/Grt5cyBjx+TFLbpAc8Dxa4/GeqftOTKX2zb0V14bxTJeNir9z6KkapvqdUUVTUpHiM07IGJUhA/kJUoXuL2O/WVveaF7c3KriP/siuWQ3kJGsWelE/MizCzc6pWIBSUH1bjocQwz4Kg68qjqkgm3ZI7AeLjMmZjapO1u/V7F7mzij8DcnLD1MDmQLimXVK9UHxfTrXFW9W2dUGOHbSuUkiZ6qYarskAqOgD0uFyNEYGKESf17bUzFh/NqGy+KmUcw65a1jy9Zt3yg0Jiqh0NQiY1JaOrET0/FEAO+o7eaqs6oLg5SBUZ6hlfN3X+f6UH4T4nBf0oFEGRrjvfG/nXnqV670wnlzLrPY5Ud2Yz1r44pcHXC2QtHF7Y+rSDrhr2IVbiUG/dg7ihLzrfllreN2ivPWjLNlytXQBlm7wjkfPNHP5fnnQ3jmS4bleM5Oipq+su78o/ryiJnVAkcuHpIrH0XE9+NsuR8zw+PMrLrFyyZZv7dSFTrYFXt1nv3Y55sbaTdOZPbMRXHWgoqyTRf3LfTn1fKJDukmpJKYoi9YX5MzB9lyfmey53LODP0iiXTXKlJNdTt1y4qyfnWynBEfmtjGG/r26gcJ9BR0bRszb1VctRFDqluQGVxkC+EiYWiLDnf4t3yG6u33LBkmnf6c6Ej/2lIN64hqC5epKCSTHPFTz5WX15ZJTujghQUpmKRly0qXeIPyTTv/fa1XrP0KQWuTjh74ejC1qcVfzywF3mOYUri9pQ0e/HhrpEb83W/qBeMv2ypDZ/hi1ez5q2rZd+WJYH06m/Zfwzj+MxKZRmBnipjKnJEFRkGUAX8NVsGE8uY1E3GvvjcC0/qB9qZdWANC+ep0HHPMLnex8MDFem7r0XHvtuDi3FKxaqLgpq16dsJZC0WP8Mih1QeUPHfwJTHxPImddnw/yTMnn9Un1ntgaWHa+yJUt993lrrtrxgAomCbZgP6I/v7VSPSE+VMRU5pIqASqrVYzEx1qSu+qtpwjdDj+j1q/6VQp2S9+zG+e0fyRciOtGNawgqViIU1M5Pr8aTvTOhQCvkiOrywNlEauTfT5/4c+Lyypi/7tzWf2vwswJXJ5y9cHRh69OIPyILexHv0JyE2yNZlIj2BiWiYiUSuCkSthKxUiWPW6SjEtWlYdXldUg1v/okHPMYJg4T4yxKRE9F/8jJ+qdhv/8k4B0L4R0LOaZ6RAoquWmQrH+cUTkOUFnJzcmYKFuUiP4GJeLHSiRQARu2ErFRPaJERyWqS8OqS3ZIdQEqqVZXMFGxKBE9Ff3jTdY/VD0cgspJDAWV3DRI1j/OqAycTaRGnk03/aMB/aMB/aMD/aMD/aPT6B8etkeQBOlu+hzaLfmiUfzaocv0y2X3KJ+83FOh6Kudev5VqlK7zNaYbSVO6Nuu7Vdmx+WK9cy6qX97OkmBfZFWPAVH9BJLbqJVC45PcFbA35M8K6J4PT55JsCv8tCHdjYcXnAEV82chCVWN4ktNz2DUfCbUyFx1Id2ogtsgsSjjWmNia2jYM2b7w01b2jDMt1LjljCrnmzUTmXSEcl9X1ypZN9VYdUIKlY4kPVDhPbRcGaN18qlXZacqXd+Z//DD/na6PiD0kKKjkmTK60c0gF2zIbsBfDxI5RsOZNeUPNm1yw3+9+ciQads2bhYo/gASJjkrq+1Bi+0OJDqkg8HAsJwqdMbFzFKx5U1KptNOSK+2oejgElRcZCuqW2f1RcqWdM6rAQyorSk0wsXrUv9s08J+Sct5vzfT4QKWdD1Ta+UClnQ9U2img0k6hqLQTRdiL+F9CH9yWPlEw5+t7Q85Xu+T6xXv9nbxa2DlfK5XzcBIFNZjfRv52uZAzqhtIKk7gXVx/TOwfBXO+vlQyzZot0xxezZuNKggSBbXq2AteW6Y5XCqQVJwLgwdh4qAomPP1vSHnq/196UlisTmP1bBzvjaqh2MoqMH8NuoxUUAOqWDn5og/1lBMHBoFc76+VDLNmi3THF7Nm43K8RwF9Vi/qbIt0xwmVYSziTiQdU2f+DO+50wfyDT7QKbZBzLNPpBp9lFkmkUJ9iK5IjIOt2VcFKx5872h5k37G1UhlXZa2DVvdirD0FFJfZ965urHyBnVAw5ceXKkPRETJ0bBmjdfKpV2anKl3VS9UELYNf82Ks8xFNRXS4toyZV2Dqng+J5nRY84GRMnR8GaN98bat60iVtqBVx+wq55s1HdHo6OSur71LZN+iCHVHAEzPMMI03DxGlRsObNl0qlnZZcaUfVwyGoLCNQUJPQCTW50s4ZVYKzifOw3Ij0iT8xPfr7QKWdD1Ta+UClnQ9U2vkoKu3cDOxFwS1Kn+O2fG5VIm+o+UcZt35IKu20sGv+bVQsESiowfsNWv3BB73OqCz46uPJkfZCTFxoVSKp3DTQbDcNwqt5s1FZD0dBJfrHdtMgXCrQ6bzbJUqLMXGxVYm8oeZfHvZRB1Jpp4Zd82+jiqJAQQ3eb9CePaklO6SCrz5iaMR8iYlfWpVIKjcNNNtNg/Bq3mxUj1ukoBL9Y7tpECYVpqB4yS0JM9JP/4CbBj5w08AHbhr4wE0DH8VNA5EH7REYlyCQtqRPpR0ClXYIVNr5QKWdD1Ta+Sgq7dzwiF5gWRe3Ijg+ZqWdL5VKu5SZAL/KQx/a2XB4wRHciihYaedLpdIuVRz9m3YCB6kSI5EBS8fHCYuizTGtXu/VL7yaq4z8J2OMyHyj7xq2SCmYfe7GtRsX64+GrlBKZR4bf2XTTP3Er2uVe9eOxX/VbZKe9csEBU6CtAaSAxu9wAmi8FVwYgZ7Fv6e5J6d1LJ9Sm+Gd8/ZiiPX3gnuK3MgG1UskPBo4Bi92Cd7QuKoB9LtkiCVZ7mDmHjQpH7xMWP8Peui/lA3TVom9c6M5n1QT9vce6HccVBdpNfbKH88KAyTFhtVYCQ6qras2/XEL9u11pxRRdjDLhfHJGFiEjjznRBnGJuO6V+8NE1ayDMqvc8UUce97iEfvLYhfGdlG1VkRQpqxz3D1M23otDd+/U0h1TwHSC4BUk6golHTGrBxzWMm7336+8dN01aPq9TAT0qLmm92zMyebZq5rjLsvowDJMWG9UlCXRU7a+DV/1X5DjNIRVoSYHsw8cx8bhJ3T6xmdHp/3brretMNM/yz41Fea+sSLz+9v3KVD38ZqrkYV3kLUYKKnmUMO7w3/J/usRpzqguOJuI0tEwccu/3P3xn5Kan9isA+8bq1s+1xseXqLMOlDKGHr+N/336AUKXJ1w9sLRha1PK8i6QS+K5O7dedyW82Yv1n8SYxzblNcoNtY0aRnNZkD7FmyTP2xbG7HVW6L53x9W9+XbGUYksFJdLEdBrbP/lPrdre7aouhcXmdU85lSTGU9vPgLJv5iUtmXbqPX6KKGr5Np0lL/vb6ofo9N8oJiETJ5tvPE0hzonT5NNIdU4nBGQW0wv6g6Y14TrcHYKM0hlQdUEuGvYOIVk/rxwKrGzSpljdLfmSYtdbOWQ7/UHidXbyCgm6VZVCNDTm3G2tthfAdYqS5GoKAO2ZlHk436Wq0Hz7wOqSKgCm6OuYaJ10xqmZiGxoNLrFF0qGnS8rLoGNTxVX5584Uee6l6OARVYkUKatY6P6hbKtfUPsn3XHVGdcPZRArgTqZP/Mk0vqTxYZZI497LhQpcnXD2wtGFrU8r/nhgL+JuZO7httwze/Ht8eWNwdmzG4sfmsYBleolyez8lqj+R7vUtwp0QZlfjlfRNp0+N2qj8pJAR1VrRk9PvNuiF3JI9QAqjgvSQ0x8aFKHDxKMJsPzGly/jZZ3Xnq9PUp+lXuPOmf71vCdlW1UDyNQUEf9Msv/+mgObcjOJsgRVTKfKcVUcn/9MSY+NqmbH8vGH1IhY1F/06Sl4qBcaERCDZS5xmR1raCgz87sVa9Uzka/O9uovFuko2rtz9T0HqzdGDmkukyqm3F5uD8x8U+T+uXZ2sZcVzFj81XTpOVat5GobKEH3ivjGLpxDUEVJYmCSp74XlEyQlt+rhZyRHVLHkgVPOLN9Ik/I7wljDV5MxtJWb5S4OqEsxeOLmx9GvFHYmEvcryLe43b8tqqRGrWPqJ3Y1dBJSJPTFimzm/eRiNKpH7+v2TPd2GYtNionEukoGLVpeUe1A59w/xT2SFVAlRelJiM2TJkID9Aicxbt0ufFrHOon+O/zROjSgxjexYXrxjaXjHQk6pbrdIQSX6x7uhATpfMydyRjWfKcVUcn89MyZmzmZRIplardOnzPoWKhG0oFsVNaZNHY0okaRmxdBR3zb62gwblRMkCipWXdp2F0JF33/L75AqACoWBUIEJkZksyiR9SsX6fe2x1v0z84tLfznpHfoxjUE1SUyFFSifzaPllGlDNmQMyoDZ5OIJ/Gz9NM/rr9+1X/It0KBqxPOXji6sPVp6R8etodUpJG2rIr6d6evb2jPtgtf6cluHiMbaPqHuTMYTMNlSvHcl/Urrpc6O3qpUiP+H71qj2f6woFLlJKncxhdkp7qzdzk+9Psi7TiKeeG7cFRJlu2/45PcFbA35PyZC6YCfCrPPShnRXnwQuO4LKZk3B/Yinjww9e6PXeXRoSR31oJwlwEySubMUwsVg26Kysv8FZWf5tf2s0pFQZFLazso2KAykFNegirW0cv1h1RnUBSSWRD50SmFgiG3RW1lPxc5Ztfs7hOQvaqG5BoKASis3POVwq2JZJLpYrjYmls0FnZf0Nzspo5DdxKDpneRS2s7KN6hIlCmrQRVpbslhUHVJB4JEEtySUw8Ry2aCzsp6Kn7Ns83MOz1nQRpUkhoJarVVP2ebnHCZVgLNJwFK5ICZmz/b/xU8sYExk9RPTgZ+zDvycdeDnrAM/Zx34OesUfs6SCHuRPI4q4LYI2aCzoP4GZ0GUY35S4tc5GqCwnQVtVEGQKKhBF0Xto9mtkTOqG0gqCe8onBsT3dmgs6Ceip+hbPMzDM9Z2UbFIZ6Cmr1+GWTzMwyXCiQV8RYUKmFipWzQWVB/g7Mg6vNZQe/4qx1Q2M6CNqogMBTUoIuiVnBJbeSQCnZuD4P1oxcTvdmgs6Ceip+hbPMzDM9Z2UbFEp2CurTF37LNzzBMqshCKpbKMekTfy61PaIDP0Md+BnqwM9QB36GOoWfoSTBXuQEVqyB21IjG3RWNt7grCw3ytpLy9uClcN2VrZReY6hoAZdpCuPitgjO6N6wIGrh8dKpDYm1s4GnZWNVPyckc3PGZoPhk2VBIaC+tfLLJrNzzlcKji+97g4VqyHifWyQWdl4w3Oyii/v5F2uimqHLazso3KsxwFNegirWYbPEV2SAVHwB7RxUkNMbFhNuisbKTi54xsfs5p93AIqsgJFNT7owtrNj/nMKkwBeURBZ7zpU/8GVzqoQ78nA3g52wAP2cD+DkbFH7OHgb2Iimfbo3b0hookaeRRrJ3fXIvbl45Fh04kt8/sHdR/8st8ZVXjOmH8s/ZRv8lZKPiEERBXXw0SpteaZ76ok5tzSEVfPV5PCIrtsPEdiZ1QvH8RtXoJsbhWmb6cF9xDyrXPwZd7xop4x1LDdtZ2UZ1sxwFVRjXQMsW20++PiZSc0ZlTZ3OMSwjSR0xsaNJvZallJHxZktjzhIzfVjizkj0wZ735Zhr//in1q2hrhzbATW+f4M+fWij4g8ECmr2d7Nownd/qKMmC5pDqgtQOYFhOmNiZ7Cb9eONbl07Gtk7mulDdUoe9EhshLq3mr2HqodDUT0iBbVn7o7aPz8vjau9+KnqiCqBFBSm8ozQJH3iz4/Dnuq11tU1zl1cqMDVCWcvHF3Y+jQPuWB7iPMoaUs6HNo1OLVeB37OOvBz1oGfsw78nHUKP2cPOKLH7RHdXNfg+Jh+znoqfs6qzWA58FUe+tDOinPhBUdwXbNBP2c9FT/nVHHUh3Ye0ziIUHm3OBoTR5vUPYcy6MU7icb5ed+nUH2RsnbnaVn0yZZd/mnnM6H4Hn/Kg+666D/pbFTBzdFR0dJ3ysrzvaWQQyoPqOT1zLGYONak3t35pVbjRpxRdn2S5Z6Psedt9PkP1TR9yYPwc742Kv6QpKCSomdyz9lV957XIVUEVA8rShMwcQII3z3f1q64qxiJLc0C3AEHCmsJPyho46we6pO3XSjnoENyl9zv0X/S2aicKNBRUeavPvc+/KwWckgFgYcNGH1h4iSTenFqkvdgtVpG/Dzz1gYpKV++LzvKUb4x3biGoLrcIgX1Xps+KG58c7VQxhWyMyrPQyr+BhqCid3/5aaB/5SU834QZN97f6B+vniscWSIpsxa69aHHmSNTmX2KXB1wtkLRxe2Pq0g64K9yOEdfzZuy2yzF3dmH6Df71TUeLbiqOmjlDWjluvyDrX4hprajjEDEzud74F09kQY8tFKZQWBgur55aV6+/J3cusOdZEzqggkFUuOtOdh4jyTeqBVf7309oJG4+rmLdwOIyYl7qnWVf6i+4jAK/cNbxatXCxHn0SnVFEUKKiD7nFxVyrFoVILY5FDKpBUrAvLgQWYuABsnjP66avv5zMyl75kmp/vz6h9mK2o2nRoS23kV9UTR+cfjc7uZsOQj1Yqbi0F9VmXF+qj6HflGeXaIodUsHOTAj9uESYuMqm71vXVX72Xz3irxE2zrbdnJrbrekc+lLML3biGoAqCREFdMOhK3Jp+2dC1Tc2RM6oLzibyQsnU9Ik/8poBeqGbJY1yjQ4qcHXC2QtHF7Y+rfjjhr0osSz3NW7L12Yvtl6/We/yQDR+emEqkcEPPejARwXVTgnltWF9smnPijySx7wK45kuG5VhRTqq1m5VjPZIuuF1RpVYQCVH2mswcY1JPVQ+Sf82obLByIfMNFORTXK5SVkQ36+GNrZiiYSwa/5tVBcvUlDbFh6tnb900D+yZx7ZIdU8vueIAOLWY+J6sDpeXdaPeKoaD/KZL1l04fOh4WWH+X96XS9w906vsl8W1Jxh7M4WKsswEh1VcydV04ROo2SHVDeg4n+EDZi4ASiRo/+nnxha25g25HQKNXOes94J7XOgCrmb0I1rCCrPMRTUIpd7aCVvd1dHrNkoO6OCFBSmspy0NH3iz9OfFuh3c3BG/vb7FLg64eyFowtbn1b88cBe5PEE2o7bst2qRBbdr2dsve+HSkQee6w9ynAssTJRIlHrcnjf+SmMZ9ptVEmSKKhYdaHf67fVpn5bwO+EyjMM+Ooj7hfcLkzcZVUiSZfaGRErVYv+8Sc0QrHHcgfeHsA7ViLesSo7pQqMREEl+uf3jN21TF3OqQ6pQKeTN0mEvZi416pEsn7ax1hbS4dKRL6drzX6ehtSiRJp+FdTtXinkdSRwE6VJIaCilUXaryohaZfZ2SHVPDVx0mMR1QxUbUqkUWrRxvCjX0W/fP4fmnUr4JCN64hqKyHo6AS/eOvNUpr37+q6oSKVw5jaSvDJKSf/qn+yGs0cKkKXJ1w9sLRha1PK/5wsD0et8h0T59DuxIt5unjumQzFm5bo7RrPVmvsDmPcerCBsVbYrS+oGlh4+cqW5QslQfpKlPSqHh6lwL74s3twbMCfNnxDC9KRnB8grMC/p6UvRDMBPhVHvLQzo7DC47gDBNXZPYA/fZSzlhycF9IHO2hHW4W2AR5lnFzP2Piz9aat/fqTtTdh76HNW/qN4Xe035dVUojNW/9946V+f+IYYRvK5UVJQpqxq8nqcNvDkF9s3zvdUgFkorn8YfkBUy8YK15a3+8gb7qTpKl0q77+zk17tiHmpOcr52KPyQpqOTwtU7/Xqjw5Sdeh1SwLfOCJAqXMPGSteatnbuw3uzrY7DmTX16OqM27c9aGql5O7n5d7lApvfCCN9WqkdkKKhXvj+qHlzeCZ1P6ic7o8IjYF5k3eJVTLxqrXl7v9x5rerNU5ZKu4kfJ6rXoppoTnK+dirn5iiopNLuwk+9ECr9leyMysHZJBJ7Q0zc/+8zPSnn/bZMT3e3X/90qRaotGt9dYWe1HyfAlcnnL1wdGHr0wqyLtiLbg8v/o7b8rs15zvVu1JvX1aFOV+08I/m2pBdryuTnO/1OD3RfSUc+WilSgJDQd28cqwWlaOef+3tVYkOqUBS8eRI+z4m3rfmfDtsmKvvvKVaMs1/rzLUB4/ykJyvPOz7zmjlV+5Ep1Q8ZyioJNPsLXtSHnnjjOqQCiSVwLh58REmPrLmfOOaTdTLLNVhzhd5xGbaKdmtkpzvycpbvR0LhiMfrVSJ5yioJe6M1C496e6/v6uK7JAKdm6BYwTpCSY+seZ8V13vqcf69lsyzaUrfameebcK3biGoLKCQEElmea662/IOTPLqjMqTEEJpIbpevrEH5JpLng6QX/0sarA1QlnLxxd2Pq04o8Ie5GXGOkf3JZ/rDVvz9nbulHwIKx5Q57m38n7/bf8pOZt3zBW252fDyMSWKlulqOgrkvwqXcHS9rhC+WQM6obHLgK5Eg7QzT+f4u21Lw1zPFMv9D2kKXSbn3Oxd71v9RwVPNvp3I8R0EllXaXPmmu/b4kp+yQCo7vBRFvlJkwMVO0peat3p2MRn/xOKx5Q1d3eeV7i8aopOYtrmVjrfW1XGFEAivVzQgU1G+PN1WzSu9o9XvUQw6p4AhYcOPvsCyYmCXaUvNWrniE8Xr+aUul3YPdBdW7/iaOav5tVHLwTEEllXYDJri1H3dukJ1RYQpKcEuc8Ff6xB9Safdg1Cm9y7h9ClydcPbC0YWtTyv+SLAXyU2nnLgHc0Zbav6n+A7pS/YehTX//qhPC6B2I+popOY/R46f1Z67T6r0q8NKdUkCBTXL6mh0ccJ8+eySmsgZ1QO++lzkSDsPJuaJttT8r6h9TD/Y/ozlpsG6xr/67+4eEah5wzuWhnesyk6pLCNQUMlNg47V16t758cgh1Sg08k9VeY9THwv2lLzn/2LE/oy7yVY8+8defwtlHNGG43U/J87dkutVcGt0q8OK9XlFimon3/tl1/c3S9Pi2+JHFLBV58Li3iuACYWiLbU/EcV+UnPW+mm5abB2pxt1GdbutCNawiqJEkUVHLT4Enu4eqPj5ohZ1SYgnLxokeMjE6X+ENuGsROPaDLAw4qcHXC2QtHF7Y+rfjDwvYQB4796VdpV/+jx7rHvyZQaTe+3VX927sbApV2R9r8pLdosyVQaTdowfd6wpNdCuyLNNrDwiN6l8iIQuHg+IBKu+TfA0vfkmcC/CoPfWhnw+EFR3CFoy2Vdp0jduv9Hu4LiaN/047jIdXNMWTA0vFxwkb9R2j7zp3RX3w9U8mY4U9t0tOLesLt2YoymdfFfDf0sb/PU1wLuusn8z/QH65YqFQcMEMvf/a5fvb5EgVOgjQHEmz0LjfvFt+P/u/EDPYs/D3JPQt7M6x7znacRxII7n1zIIfO3qjXuZHFGNX+65A42oFkXSJcfRLrFskgvpXBHMjIwEBuQOQHR5LAz5LFrQI/k+42CvwM8NYO/OAIE/ip+WulwA/P84Gf5IkQjHAaGNjIDPCflsoJaUuF8fk+0WKetFJ6eZiYbvJLLd/JdkqtzBNi/m7v0Z/O7Ky8XvdNDPfrAP1uzl7Kgj7HYvKV/lyvLQ9WtiY9jHn44Fs9+sknyqTlWWI73Nf08hMnKXDipDngcO8i1+Q+iP7vpA6OAPw9KV/Rv8zfmNzrpGl43m4kbaQZcIjzuFwcwX1gDnjJgQVi9x64oD8fMjskjvq4nRVhvPBgqd4SE1ua1J4Zxyln5/EVc12unEIlFtrJJt7EQntwrq0bK7Vv7qcWIxaqyGCpTkf1Jpt4O6SCKCVyOGq1wcQ2JjW663hl9yRXxTqFY1Koe2eW0JadvbVxTKFqOAjxMcH5Os4plRclCmq1IpvUCuuGbNwyu7/mkAoOnkSBE5j2mNjepJ5KnKhsOSpV/PB4EVOMrBqvkh7+NVNT1PnEYK3Z5VUb1e8W0AsvG5XnRTqqHKRqDqng8AJveZz0ESZ+ZFJP/jNZqdzeW7Ez+44ZKgs10AZWyxWff8R7dOMagoo//CiomfOc9SulF274Z9EnmjMqPDwVXSLPNcLEatH/Tu7hPyX+v9yUQEx+Tf5S45TrB/iKI461VYbGjlVG/s1VHHyurgJXJ5y9cHRh69MKsm7Yi+TV1F64Lb3MXqx7YnLAsPdxz2Ypvdj0cHGV2Ekm3CmDmv/qJSaWiBl/UqZfHVYq7+EoqI2Ol0DEOvOL521kZ1QJbOmiJLFiX0zsa1JnuqcHDImVaQ3NuomsjTRi4t088bb8VHqmnpkTWy7v7Q6aU6qH5SioOwtGy8RI9pPGS/0OqeDgyY3/UxqAiQNA1PPNCRguH/2jtnkL4uISldhJJlbzophphYiJJcrWd6NMvzqsVF4SKKiFP6uFiHXmR9OiZIdUcHjhxnsbMxgTB5vU+WcXBAylr++rlkI9HddeIybeDTv8RTeuoagekYK65VmCTIyfXz1XVGdUeHjqJsXPXdIn/uQvNDFg4o2mtFLg6oSzF44ubH1a8ccDexFvWMwnuC2fmL0Yu3ymsuM5V/HU0z4pvfjDbYVEbW3W07OBXiz8ako87kX6ZLiNirdKOioKUmVHVI4B4t5NHkUZj4njTWqOyAXKgfVCRfGvQcnUjOSt8433r20Mx4nQTnJLAgXp1dIiyLdk0sY8e2uF0yagmt3Ey/JTTPnUJH24/0ul0DZ3xeYFh6f05MOSzQPjR9yVHkz8VF20/dP436sPo09626j4k5eOioJU2SEVHDC5cbdyUzBxikltsWm1UjRn5Yqdm45M6dV7bfpoypKc8f2OaLJTkkuUKEhk3Jo0UTeQcaSPJ/Aw1E2+qoelTzz5a/lkpUM8VzGb2FWBqw3OTDiKsMVpxBOOhT1H3qyYi9sy93+UhWZTFlpQWahBZaGFpSxsVJYXKahYRclBFaU5o8L6Ook8cjIfE+f/j7LQU9EzclDPyDtqiWFGMSsVa2AKalDPaEE944SaorvdvMQxHvELTPzif5SFblMWWlBZqEFloYWlLGxU1sNRULGKkoMqSnNIFQGVvCS+BBOX/I+y0FPRM96gngndwyGoWFlQUIN6RgvqGQfUFKeoAJVnuc/SVc9oQM9oQM/oQM/oQM/oofSMANvjYtwcaYsr+t8dn7+hPZvWV1eqtchWsWCNacqUDg2U14NyVRw/d4LSaX0rZdu3+SvW/nW4krHtx8rFKx8EYqtab6BS/I+yFZU5XRTYF2nFU/PiPWmPKDHLguOT7OQFfk/yrCAz4V7BhApkJsCv7NCHcFYcMQ4juGUmbtuaiUrVeKniwvstQ+KoD+G4FIuJAFXkhK2YuNWkVprRPWDA+9U48z2K3TWLeYkp98y+WdDfpwdpxB6bjxlEn/20Ud0cQ0GtkWWOSky5x9+/LjukCoAquTzcDkzcYVJfDe0WMBjO1d6k9v3hvEpMueex5/0d9wyTq0iZY+p9TG8Dbqdi6UtB3XwrSiOHq4WmRKkOqW6T6mEEVtyNibsBtXr3gIHy62EmVb1ZRiVHnIV+fCyXzjFcI/bYQzsPoz8Os1FdLEdBrfbNMj85zh2b8ZVDqggCD3niWkrExESTWux5z4BBdMQxk9rz26IaMeWeXrkoXQ+HoEqcQEFd89s3KjHl3j34G78zqiBAqshzGzFxxb/cNIgDEf5T4vGfAi9KbKvfP2CE9uHwWcrcCb0CptzlrsxU4OqEsxeOLmx9WkHWDXuRFyTpIG7LQZC5bjo4YEC3ot8y8wC1WpxMTLnv5xc116+VAqaUK/rtCUM+Wqm8h6OgVor5Uyam3InNOiKHVCCpPMTEIwkTk0xqweHDAwZ7L9qsTqHO7ZZHI6aUU+pl0o50Kxswb670pIzqlOphOQrqxQyZVGJK2aj3aOSQCiSVR+Qk6QgmHjGpyx+PCRgIRnxvvvMYvzLaS0y5b0wprB1XywVMKae684QhqaxUXhIoqPuWfYCIKffWA9WRQyrYucldH+Y4Jh43qcdbTAgYJDadt9ncV/ZX0Igp5ePBC1WqHg5F9YgU1FGfd/ASU8rfWg5FzqginE1uLJW19Ik/EYsHBEwpuxRcqMDVCWcvHF3Y+rTijwR7kVSEn8dtOW/2YvXzkwMGvJ7i81J6kT3JBI5SarzFaGj+OJXYYx+IG0efDrRROVGgoCbpfRE5Nsr+4xzVGdWTcoDqFhhi4vELJv4CIsG0WQGD4YvR81Ooz+t31chjPZ9s/pjsk2rHDz8NDJNTqlsSKKg5/FURMeVuK1aVHVJdgMqxInMFE6+Y1Kd1FgYMlL1/LzCVyPuSRky5o06xWrndnyWSG2XbWn22l351WKmcS6Sg/hI9FBFT7sklZqoOqRKgkpfEr2HiNZMqv708YBD98s4XKdRTf9TUiCn39J416cY1BBV/H1FQd93thIgp99wGnWRnVAnOJp53iyfTJ/6s2vpJwJR7bdU5ClydcPbC0YWtTyP+8AzsRVIRfg+35Z7Zi7f+GBeIdXG8+Ub56VnNNGLKzU+ORkdHPVaJElkQVY7+68BGZXmRgvrBlwxRXSjjflFzRjXr6zCVmHg8xMSHJnVGxORALL9VJOVoN0PRwyigf87cqyTjHQuRpxzwjiU7pWIsBbVszFaZ6J/xvr6aQ6oAqBLDc48x8bFJLTV0emCv6t5+gPn9VayXRky5j7M/ylVrr1KJEilQsjH914GNynISBfX6oIkyMeXe0SyH5pDqBlTykvifmPinSX1dZm5gL+5Qq2cK9fjFuID+OfxHTz9VD4egCgJDQW3z8rVM9M+XTxprzqgMnE2k2P9m+sSfCsuGB/RP74ipClydcPbC0YWtT0v/8KA9LKlDX5E+h3ZLdtQJmHJ3vzNNOfNp44Ap92LjM6XH89YBU+6Bx6cr7/zRJWDKfTf7TAX2RVrx1DyiJ+0RWfFZcHyST9HA70meFXAmwK/y0Id2Vhx5N4XgnoFLLn8PUYgp98CY2SFx1Id2piF3gIr/iBz4TyU/QerKPI2UAtyyWM+8RDMj0GUvqXXSqj6oqZHT34+U1vG9PzpH/0lnowqsSEdVg1TkkAokFSvgD8lcmJjLpN4oVlcp6R8b+0/MgZR84NFbTVW+8LMK17qN1JyS8McjBYlUqy8tNTO+ZN3yKAwS2H7xHGW5vJiS1yQ1z1tLqdmydmzbiCMpPVlQLBsYP3LwerfOKI3ZNS2eHIHShy4rlWMkOqoapCJnVBcMMG6BE/JhYj6TuuyvGkqHtwrFdsiUcjUqY8WBV1VPq14VyMGrU5KLYyhIpCr/+dzJgXJlehIPZ4obi9KsmPLiX24CL1+3D5zfZ64UGw+CptSoo/LRH5di609LUDacbaEc3pEYW6jxdgWuNjgz4SjCFqcVNEXYc8S1phhuT7HsoCakeyBL9NH9bSkz4/GgGJLDRYvlMtqMUfdUksNtlyeMJyhsVEaSKKjFmpcnlXDau9NueR1SgUQiDwJzJTCxhEnNX7BvIAtWt9Ru87OlXMZA5nhM/5paka3NtcvndscP65MNOaWKjERBHT8mwUsyx+NaZpEdUoFE4liPJJTGxNIm9VT7wYEs39nn5ntUh+6v8pLM8e9D62hTthsqyeEuLPFuGOvQQsVhhqGgdnFVIZVw2q3c42RnVHCki//FecRymFjOpA5uOiqQxZzbzLwC3qNzVCBz3KdAM7pxDUHlPRwFlf29VSBzvPiHdbIzqkuwtJVhCqZP/MmUoUsgc8x2+E6BqxPOXji6sPVpxR8J9qKLcYkCbo9g9mL7vOMUf6EPKk6raRrlcBvakVQnOTqp3OrZrMQzy7+LIUcn9KvDQiUPtNBRUZCa6JDKAyo5onZjotukloqcqnw601Xxy/cTLBXjr1vlIBXj2v7DewLDdC7j1HinVEFiKKhFLvdAK5/+GkMObBxSRUB1Sy6xEiZWMqnrT89Wdo2sWbHB3U3m6sjcMjCuJcfUUOe16ip373cxhtyxol8dVqrHxdFRUZAqO6R6AJW8DO7FRC/o4VZfKIWXtqx4YN0Wyw2PPblfbSCJSKoeDkHFI0tBbVt4NBr/+fGY0ydY1RnVDWeTh3FzMekTf9qU7a9IwyIq1ugdr8DVCWcvHF3Y+rTijwf0Io+/6qUauD01/keJIJsS0YJKxB9UIig8JWKlSjxHQcWqSw2qLuSIKjDgK44nR9S1MbH2/ygRXyr6Rw3qH1T3RGQseSvXKZV3cRTUoP5BQf3jhAp0Op61nFQPE+v9jxLx2ZSIFlQialCJoLCUiI0qcQIFFasuf1B1IYdU8HVHStiYhpjY8H+UiC8V/eMP6p/QPRyCyvIiBTWof1BQ/4RP5WFKiRc8guBLV/2DgP5BQP/4gP7xAf3jC6V/ONge8lTKi/Q5hIvPXlORtr9VsQGaq9T8qI4Sf+dJ7Kzci5XjCxsqvbvciX3x9Uql45IWyqrIX2O3n1qnwL5Ioz0CPHLHmwXLNQmOT3BWwN+T/CVOZsJbf86IITMh9MGbDYEXGUE0MSfe6o1dFL3HL7EFb3yXKoL6sE3gwWbHk7ddemBKj+z2WjXdVqsmB2vV1GCtmhxWrZqNyrIcBXV3zWL+YF2e5pAKpBPenyShNyb2zm6vVdNTqZBDwQo59ULnL8PL1VqoAoM/GCmowQo5LVgh54QKtl+BlRipHyb2y26vVTNstWreYK2aGqxV84dVq2ajehiBgqreLCMH6/IcUuHRrYDXIzMQEwdmt9eqGalUyKFghVzoHg5B5ViRghqskNOCFXIOqBycTeSRyE6Y2Cz7v87QyPhPCZzT/2+GRgcVcjqokNNBhZwOKuQMUCFnhKiQE1ywF4mL9WjcltHZ7bla3ZarVYO52uQMMQorV2ujuiWBgnp6VjMUzEtrDqlAOgnkiHosJo7Nbs/V6qlkiFEwQ6wFUyuqUyrPCBTUYIbYH8wQO6EC6SS4RYmZgIkTsttztbotV6sGc7UomKuVw8rV2qhut0hBVYv1QsG8tOqMCo96Bcnj4SZh4qTs9lytnkqGGAUzxKF7OG0qOWCmoAYzxGowQ+yACtNIeLl6xCHpE3+CGWIdZIh1kCHWQYZYBxliPUSGWHCDXnQRF+vZuC2zs9tr1XRbrZoWrFWTg7VqKKxaNRtVdIkUVPYkg4J1ecghFRysusjR9TxMnJfdXqump1IhJwcr5OQPsl8Or1bfRmXdIgU1WCGHghVyTqjgmN7Fu1zc/+PtPKCkKL79T84sS1AyCBIk7NLd093TAztdXeQMgiAZJEjOkrNIkqAiGQlKVNhdQBCEna5ZQCQJSBJEAclK/IFKFP5V+2a377TrTk3zP/vO4f39n/POfLZuVd+6de+t+s6nxPl57b1qfluvGgn0qumBXjUUVq+ajarKGge1dikNBfrykDMqTPUq7AXwRZS4KK+9V82fSoccCnTIhbZwCKpHFTiogQ45PdAh54AKS00K21imp4//CXTI+UGHnB90yPlBh5wfdMj5Q3TIyR5oRXZD6Qs6li/y2nv1/bZefTPQq598QwCF1atvoyqSxkH11a5hBu4lIIdUcOpTWOp6DSWuyWvv1fenckMABW4IoEBPt1OqJsgaBzVwQ8AXuCHghAridIX+l7yeEtfntffq+229+iTQq598Q0APq1ffRqU+noMauzKPL3AvATmkglOfyl4A30CJG/Lae/X9qdwQQIEbAqEtHIKquSQOauCGgBm4IeCACktN7NFBYWn6+J/ADQE/uCHgBzcE/OCGgB/cEPCHuCEgi3A8TDubjSX9OuQI6JAjoEPODzrk/KBDzh+iQ06BqXh62BG0uMD8BHfI+VPpkEOBlrWUU3noRJ0NRz84hovLa++Q86fSIfcvHP/bcpICqaoqswkrm+f/z6uQqUwe+7l6x380llT5NJo9yldly13jSun10Wwi+3TOjstf90WveXsavmQUxij6ZHREp6n0vyviqJV/JP13+7JuvHpohmrs/wYugjQnEmz0quyShE2BhZn8mDj4nWTLMmuW2R21kVkzvPvJNpxH0hhukzWRP/dtigsdiKx2Uv8wJI57IhUZnANURVS1U5R4yqI+m3POWNhDwHf91vJZ1vNywpR+WclnHdshf5ONZpehjUmPoS/4z+Y2qqTKHNS5rzUhlIo29VtgOqRCC7MHSc5Q4hmLmhh/xPj9/Rp44VPLwv1OldTRK8PJxBe9ddbENmL1gKhwJK3tVNktcVBZ9pW55Ju3mxCHVHAOUFnP+DlKPGdRr/bbYxS7Xw+/enSq9RL+vou+TxtVJRf0Gmj2xPNmueJliHm3HH9sbKPKssBBvVdWI5SK+nUSTGdUBcSSbrYPn6fE8xa16/++NbZNboXbNZqcQi10YUVMoTMTyOUst2O4LByCSr9XDmqNQ8/MeZ3u6a93r0GcUV0ypNJI5wglJr7k7s8S/fRPibUJua1u89iYs7cUbn5oCR5+9nf63xXwH3nmY/h1wtULZxeOPi0nq0IrSopHukHHcsOyYv2Gh42mD6JwT3FVihULDO2IxooZyJfCPwlNi/xtinXbEM/mQfyxsY1Kg1YO6uS4ZWajPSf0ea3bI4dUEOmwlwmFm5R406LOXbfDEJ+68Ywc66ws3Y8T9aavDiA5ys0wjy2NIN+M3+LN178lcUiVBVHloHo3NCPN5pXWz9aPRA6p4BzgVuhg71DiHYuaue06o8eQWnjaHOscsE1BqHH2yqR0qYzeA63KkKsVRfKDsZU/NrZRZU3joM7vWdMctr0gimrfCDmkgnOAm5WX/0eJ/wMNUSsXGW9ENce3tlmNbtu3vO19WnocOaPl45vXEFRNEDiom8bqJHuj7/XqGXIjZ1QFriamdfJb+vgf5e/fjMyTyuPvC6/A8OuEqxfOLhx9Wv7HDa2o0cDrKR3LU9BgkTcvzjKpCl58d22KFevnmZlQvckB8+bbfUnWp5P0jEW7E7TVH4YnCKa6VI2DKs5rgyhVb/rODt0ZFd7tdHvcHuk5JT63qC1HFsIjh8pYGrgxhdo3y5ik91meF9hpsmm62Hh8bDiS1naqpmkc1Bc/RKAxv8zxDtveEjmkggOKJtIIM2MEXQQRKdQ/teJ4030dLxqU0r+QodOp+t5qQ/OTfQ1bkA9P7dLXyphciAmjcdhGdakCB3VUXD1EqShrvam6QyqoOWlMiSMLJWaxqJ8oZfBnpxviTRe3WfW14nd87PrOhYkC37yGoKpuiYO6onwONNq9XF9+pgFyRnVLkCprwp/p43/WFMqKR3nL4QPZPsfw64SrF84uHH1a/gfe8tbYs9oR1IIRlhWPxBfCzNeVmfBpihU3X+tFaCRiLsqT3zfvu0M6i0R2F94exkkomCrJAgd19/ytOo26UJ0ODYkjqgrvdmp0r5bzU2J+i9p3bGnMfLnR9eMUatPe8SaLf+aXyaHTHQvRHctHdyzklOpWBQ7qrLktEYt/mk3IRRxSQZyuuakrKESJhSzq1ZqVMNurKm62ejP0xKaERiKkwZ1HvnoZIhGLRGatvc5fG7VRJZfEQf2l4USdRl2objOZOKSCU5+mybJWmBILW9Q7v4qY7cWlh8+0MhfPi5gs/tn0c+9dXBYOQaXHbA7qlpj6iMU/4ws/Nh1RFQ9cTZpLkbJHpIv/qZMtJ2bxz62nCzD8OuHqhbMLR5+W/5HAeDyCKEpsLFvyvlz29T/G4/kkM5NkMZiMSp0CGfDoZsQQmi/DF5SnRtkC5w1x7FJcq/cjo17sP8aCIUtw9wMPjfInI3Ar9xIMbZHGeFTw6KPMOueFYoH5Se5bBL+TvCrgSoCn8tBJu2AcuyrMcMWsRVjntSfGnoQKuMkrS0PiuJN2qkuCVOpIBUoULOqrjScbdRcdM6CkNZOzZrLWA7J95xu0a4I5rMIbJCxJaxuVvcMUmsqku5mE92+rKiCHVBBSedgf4aJEl0XtdLSZcb3oUQNKWvcqFYmyV1tgMiFtJprDxHPCknS0Ud2SxkFtNKhvEo0JaTukgm3ZwwSyVEpULWpHdwljv3bMgJLWTM6ayVqfPTDQPL7pDzNPZBUSlqS1jaooEgeVSXczCe8ZfzVAzqgwBexR6QHWQ4kei1qq8lm06t4JA0paT+6RoNdw/5IkpM1l4RBUTZU5qD//2JfUbtvHZELazqiwWuJRaahciRJLRLzcpsFE3Nj1eKYIBZxsL7fPKNT4nMFEx9pdXGFIcScNJqQNv064euHswtGn5WThTXCPpkhaLTqWWpYVpxkHjXHj/QaUdGRyjkzW8fSS+iQi4if9i4hmJCxJRxtVdkkcVCZdySQsO45qhBxSQUjloYNV61JiXYu6ouERwzi/3YCSjuta/ObNVrqWyYQkmfoaU2ELS9LaRvUoEge1S931et6mbxAmJOmQaoVUiiC6JK0BJTawqHkXHjPyLdtiQElHJufIZB1nxLYhZ45c0ydd7EzCknS0UelphIPKpCuZhGXkrPbIGRWkgBVBoltoY0psbFFzlfzReHJkkwElHddGttcztjiYJCTJZeEQVLdL5aA+KDBSX/r2syQhSWdUUIKiVBoqx6SP/4mevtf4tcNhgwlJwq8Trl44u3D0afkfN7Qiu9LQmo6ltWXFx+J1Y/EfGTGUtGZy1kzW+tDPlcnuESKTtTbDkrS2UV2CzEFl0t1MwnuP75rXIdUFqEwBqy0ltrWozSMeGfEf5MFQ0np95GJfhhOlCBPShtPklKpJMgf11/Gt0d9PsyEmpO2QqgIqjd2FDpTYwaI2uZGJCR9jKGnN5KyZrHXT3k1IjTYtmKx1QliS1naqR+WgMuluJuF9a9E43SHVA6iaIkqdKbGzRa1cNgcTdsZQ0vrOt8X0MvNzESakzWXhEFRV0Diog993o9tjSyAmpO2MqsLVpMmi2ix9/M+dMSeM9yrcNZiQNvw64eqFswtHn5b/AbfCFZG6cak3HUtvy4rTvSuNcQ9z4k6VTCsSiWji27RyAll7fVXM5Rr+mKdbYhPcF8J42cBGpQcwDuqCP1uTxT/kQsN2vEhwRgV3QRWRKWD1i2Dq0SnUzhs+Md4vWwRvv2ZRn61K1HeX9ZA79wqyfZLJH+thSVrbqR6Vg+qtdNyUJzZDo6+cMh1SFUB1UV8wkBIHWtQarSYbl7JVwG8s9Vte70EvX7kbo8ntHTXN4zFf+6Y3rqd3KTY6DE8QTBVVjYPqUVuRvK9kQyd0t+6QqgEqe41rCCUOsairLvcxFg904WjDullcsfpnujmtIDn1Sk2+eQ1BlTWBg9p4/RWzT4EuKDKrbjqjanA1sTfOuqaP/yl2Ms7YP+Khca+HieHXCVcvnF04+jSTXHA8qiBrbCzpkLRr+s59o9mJ9QYT0p7U8aJhqFsMJqR9uP2PxpYLPoMJaQ+d/51RYdUhgwlpQ1ukMR43SNHT8aiKOiwwP4FVAX8neVXAlQBP5aGTdsE4N/3gGG6YheuW41tj5muXDSik/V847qQdENJmVJcqzKTEmRa1bFcV7zyYwTg710qfLc1XSTdy6mietwKJ7f2XOeNsZjL0psLvvm1UWVE5qDceVkKUSsZv2eF1SAUhleihB8k5lDjHota7UgPf3P4ZqrTeSp8l7sySdM/n0+9rJ908fi33zvBqvjYqPUhyUN/vusLLhPCUxre8DqlgW5ZEUZE+ocRPLOoFd018qU8WlNDGSp9l/fxT7+C9JdDdDxuQyKEHzQdZFNK9QBjpMxtVkjUOatz3GFEq2Tint+6MClLAiiTJqjyPEudZ1H21G+Bz0w/4Yuda6bPlu/MSJjEYUaUF37yGoDIxstDUGpNa60wgr3imFbozqqhCKt1EPqDEEREvXelB9E9JyvcDJ3u2bDR+tdQQ4/AwgofvE/GctW6j6xu7Mfw64eqFswtHn5aTlaEVZTp7y+lYlltWXHS7Cd6ed7Dx9W3r2ZQ/mnYgN7JnQtO/KurNtS7C9824ITH5fgwjfLRRRUnjoE440gl5fnmqZziSkOCQCkIqiaW0P6fEzy3qgV874r1tBxk5Vlrhoy/uTdJ51JSY6CMFSPOrpZPeiS8T0T/BKVWVNQ7qH5l6oaG3pF2Zu58xHVJBSMX0eOXVlLjaomb/oD8uNGugsbaBFT62WPQ2mbEnE/JfFszmf7+lj/68bkzZrmGEjzaqKAkc1OuF26FH3Z/oX2xFujMqSAErkuZyqesocR1YTavH4h3rBhjyFWvnvn+7IplxfXbMwKqYb15DUGWXxEH1NRiD5g+9sKvToFqmM6oLriZNkoWF6eN/6t7zYn3NYKOZYmL4dcLVC2cXjj4t/wNuiysuQfCom+lYNltW7H5Hxe3WbzJ+fGJFIh1XRZH37nrIPe2K71HJeyZ7xnHcczEMT2CjCgIHde87xUxKRV3jqiCHVJBwdbGU9lZK3GpRv4qLwQerHDAE3UqfVZ6SjdQuGW+6BtZL6g2Pu54zOqyefxtVkQQO6tlf93nZg3Wj+xTUHVJB+p4pr6jbKXG7RT3sqYV3PD9v3Clspc/cB2qT7q7CRO46xvTX3GOyy0iyGRmGJwimejwSB3VkpRE+SkU/vmiCnFFhCtglS4K2kxJ3WtRjwxvicz/8z5gxzEqfvd8pgmQteNpXtUBLvnkNQXUJMge1/PVeOntgctSajbozqgJXkyyK0lfp439uRkj44Y/zjSKddmP4dcLVC2cXjj4t/6NBKyoeVdtLx7LXsuLtrqWTfN2jFVb58Pr5zTqNRMx2nRuTrmd7ExaJ+MVj/OVDG1VzSxzU/Oe/MWnURcpuqI8cUsGpj50V1O8p8XuLWnFbsSRf3qKuVT7cWftdk8U/C3uNYvtkDHsFgO5YMU6pLo/EQb1QvQZh8U+FBdHIIRXE6S7NrWoHKfGgRV19u3DSXpW1olU+vJfnFZ1GIuasyh3I2CJjCYtETn8r8pcPbVRNlTmodXKXNmnURd4a3gY5pIJTX9JLXj9Q4g8W9fmrhZP24ozlrPJhx3dvmCz+ORjZnW9eQ1BFt8pBXTMwN2Hxz6X41sgZFZagkt5K86WP/yl+tXxS/FP5zX0Yfp1w9cLZhaNPM8kFxsNe6pdHpE/SbmL33Ljc23ONBVvX4KqbCuKO7aYaJ37egOe/VQJ7y401fqq5BZtCeZwtZqhR7eQODG2R1nhgil5mT44eC8xPYFXA30leFXAlwFM5R9IuGEc/OIY7ZuGuL5VwyY8GG0v27Q6J407aaUDwR6E7r6Jeo8RrFnX+5K6YddV8MsO6qHokoQXredM3Tlqsn7sVSVjP25XMYVxUtVFpJMdBfXH1qp7piyn673vaEYdUEFLJCj1I/k6Jv4Oab/2BmHUNldxlXVQ90q0/YZ12T4sOcFbztVHpQZKDeubmjaROrDcuNnVW39aArowiq5qs3aLEWxZ19MWxmHVFjZ9iXVT9oFY/1vOmL1ms6odqmkk9bzlfhHFR1Ub1yDIHdduoPKy/Tx/9ZQ3ikAodjyaqwl1KvGtRi82aglnX195H1lNzPf9+l7BOO/+ELF5HNV8bVVJUDurMPK8j1mm3bXiMs/q2JsDVpAmqfIESj798pScl3w+c7AhXY8yqEgvXLMFZ9rTGrNPu/fPzMPw64eqFswtHn4aT1VzQivSUIzymY3lsWXHk/aaYVZUmdLMuasysPtdc/EMu8qRRQ7Ri3EDCar5FPt4ahicIpmqSzEHde7gIq2+jIf1Kex1SQUilsJT2M0p8ZlFr5WmJWdXsUAProkblQVGEVZovv5tTL/fWGp31RiXWfIs4pbpkmYOaO3pgUqX58ricxCEVhFSK5JaEF5T4wqJmutoGs6rgx0usixry5j/NvK9kI2OmymjlhM6E1Xxb3L7CHz7aqNQVcFBf21lKL3djNIq69I/XGRWmgGn86JIy5aOofCnUnu92wazqmbeLdVHjnvomYZXmXm0/2sll4RBUUdI4qP/8tHQXqzQ3XPzQdEaFJSgatbrU++njfxqsa4xZpfnMuQUYfp1w9cLZhaNPy/8o0IoKDcLyUAvmsax4rmtzzLpqvjxqXVQdXv5oTM8+A8iYHDvNGjN6EdbztuPGbv6Lqjaq6lE5qHU/36KvizP0N7P3RQ6pIOGqsJR2PkrMZ1FPlW6FWdfQ9ObWRVWhnERYp10h7VvTUc+/jSqJKgd11ls1TNZp17bvW8ghFaTvFU3xSAUosYBFHfph+6SuqFdbWBdVe+crZ64fMpTkfm+aeTqiNWE9b1nfyRPG7hxMVTWNg/rlDznQV0ff0ov43kTOqDAFrHg8gvwKJb5iUd0fdkvq+qqeaF1U7XasBWGddpd/jDId9fwHUVWWeOagjjoa5WWddiOaNUTOqLAEpXg0QcuaL138z+IeTTDrtBt7ZSWGXydcvXB24ejT8j/WM6Wax00HJJem4yltWfHhg26YdRXv+usLK+FRITMZMc30vvNROzLiUU7Cev7P/h7GQx02qqZpHNSBx1qhbKvzkIh5B2IcUmVAZa/6l6XEshb1cvvBmHVN/5xoeb0ThYcQdtNg+vmpbMcyWYsK3bGQU6osaBzUxv0yInbToFDOfMgh1Q2omluTy1NieYt6c8oEzLrCs3ithzr23ilG+kVs8hVb0pAo72wwWc9/w81f8z/UYaNqmsBBPb2oP/r0C5/Z/8NiPmdUKwWs0S9S8KhvUOIbFjVTqWmYdb3fb2s91PHzR70Iu2lgfJqbb15DUEWPxEF1lamG2E2Dd9fkRM6oqhw0VkEokj7+p+WktzG7aVDh+nIMv064euHswtGnmeSC42F3Ho+nT9KuVN0CmHXazam3DLcvUQazTrt2fZfi5ueqYdZpV7jdEry9oY5Zp91PhZdgaIu0/KmVoqfjYU0tVQLzE1gV8HeSVwVcCfBUHjppZ8PRNclwVaxFeKZiS8w67UbcCo3jf9NOUAGVKRSwCUvHxwl3nzllvDloFHryxWw85eE5I1OGv1Dc9Y+wWviKgae6jAl/zMXHi9wxlPm9jLsrFuAqpx8b1QbPMk4/XoLhIkhzIhU4RlUTovL938IMWBb+Tsq7fcCa4d1zDsaxDlqGi7ImstGVbHj4RxuNMZ2+CInjnkiPpdvDqPTE2oISW1jU7j/l93/T+JX40wUSU6hbV7zJ5oYcbP+xfmHTWr1o5YtV2TOf3HuTjapKMh+VBKimQyq0sOp2qa0osZVF7Ti4uX9FgTfic/ZOSadnGjxyKJI2bYga7V5uOiVpLomDxOYx428C02EOZ0waIGluQW5DKW0s0vtFp/s7P64R/+E3VkPU+XMdkuZv/7wlXvY8Vb8xxasuzzaBPwa2UekuxEclAarPGdUFYkYP22/bU2J7i/pBofX+F1ubx2d+nkLNFFe0Lcr+65ooprLrlET/Nwfp5xxdSc2fhsTO63SPP3PjERVIopFLI0rR873cbl5EXZ30TmmbH/dvBLtft8HnzaqjbsR1rfY9zrH+K1L3bub4JbF7MPza4MqEswhHnIbT9MjQcqJHkXrQsfSwLKd0XECY5mrk00MpKyPbuSRFZPRx88PeR9vfQGyuqqzMEcZXEEzVFJWDWuJ5FR9TP3zUKwo5pILIhXVgC70osZdFjX54kjBN2UoVrAYZLcGDmA7zwZ6vEvYMZ9MB7WJzPajrmOpyqxzUv5488jEd5oPLD3gdUkFcT/8/itSXEvta1O9qRviZZm69745brR3jGjNFZPTi0267NrpyIaaIfODEhTC+jmCqJmsc1Dwzo0ymfrj8dD3kjKqAuN7D3v8eQIkDLOrSp4qfaQIvPnjaeg9jRB3EdJi/vV6ab15DUEVV4KDGj1xqMh3mm4fG6M6oLriaWMtOp/TxP4Wa1CJMh7lg8wMYfp1w9cLZhaNPy/+o0IpMVG8kHctIy4qVd37sq334YFyDy5YVu1Q442NB2aE8HcikwuORdiBTNNOU5P86gqluSeOjegNU5JAKQn/q9hRpDCWOCabeuv4dpZ5PoTJiwo/Vo376uiPxfPNL0jQ9+7BEVadUSdY4qd8sGc+oyCE15cBBd0mBRozjKXG8RX33jTpmt33fx2U9eS01CyfN67YqWZmFvfxfRzDVLQl8VB+cVwdUD6CKHpc6iRInWVT2HU3tciyu2sI7KdSyp0TURJ8Zxbwdl4XTpkqCS+Kgvv3abP1Sw9JR6JXhyBnVeuyUjVWThcHp43/YzJEup+Nm3z+C4dcJVy+cXTj6tPyPG1rRpXrUmXQsM/8ViSBbJOINRCIkEImg8CIRG1UQOKg06iKBqMvnjGrd+aRU1s0yhxLn/CsSMVKJf8xA/IMuPt8XRXcs5JQqSgIHNRD/oED844SqAKoqe9RPKPGTf0Uihi0S0QORCAlEIii8SCSYqngkDiqNukgg6qrhkKoBqlsTtHmUOO9fkYiRSvzjC8Q/oS0cguoRZA5qIP5BgfjHAdUNV5PbLUofpGv8g0D8g0D8Y4D4xwDxjxEq/hHgeGj8LLGxVMv3ctnU/xjPlAcTjS9XarFFp3+DIwvVMuSZmeMuROzAfyrZjCbd2sb5pu3EmfssQv3khXG1fvfhTe/F63Eb/HEzKuzG0BZpjcd6DJKe+Fk77sLA/IBdKfl3kk/ibCXMW5shaSWETrzZEPQjY4iFFkLd0oLc7Pws7ujXB1JF8CbbZEEEm50oUocZSymxFmn+sAEG01x948T3Vpli1/+SdJirHx+gF76aW2eKyGfO8qvk2anUYXJQ66/OgpgO84Zlfp9DKgidRHZ7ZBMlbrKoqwsNNJimbHwdi5r/6igv02HOWOu8yW4Ml/9gf2yPyRGmQ6pL0DQOKrufzOoF7BatQyrYfkXW//c1JX5tUZsuG2AwzdwT8RZ1YqcMiOkwJ3Q6GNPjzQidKSLXrjSO++hmp3pEiYPat96TJB3mYgP/8DqjSsDBiKooad9Q4jcWtV3+/gbTBH6Rz7oBXl7d7mU6zHsflOWzcAiqJMkcVM+jml6mw/xPr1jTGVWAq0mlIfFaSlz8kpsD/VMQ/VOi2IVt4EwvZOxjMM2q0/sP4Qm7+xlMh7lM6wMYfp1w9cLZhaP/b2fK+sLAeFh11k/H4resOHn8lwbTHPsGW7e8xS7VCdNhbvrePt++gSUQUwSMaJcrDE8QTHV7JA7qgYJlk3SYM31dBzmkgtBJ9EiiuocS91hUsYDfYJpqa/f+ZD2gmHuKyXQI15/zkBrddnuZcu6oK1UdU12ixEHd0mw4YjqET7tO1B1SQegkCaqm7aPEfRZ1ne+EwTTjFm/7JYV6pV8hwnSYHz1oYH4+rD5iioA3Wx4J4+sIpro1mYP6xHikMx3mEe90Rs6oMtitJYmeyg9Q4gGLekK5YjBNvC0ZL1kvFeT4PIHpEDbrGMM3r6GoHpWDuqNqZ8R0CD8cfVx3RpXAapJEGhJ/mz7+Z2+bjw2mQ5hBP4rh1wlXL5xdOPq0/I8Crehyq8IJOpYT4OhWvq3BNFel/T+nWHHXtUST6TCfutiDdPuwoJcpIh/wTA5jdw6mqqrMQT0zpwRTf9afoZrIIVUGVIVGIqcp8bRFrdSyucE0ZaettFbMsbJZdPY+y9w8fdk+ifa/mjWaTZNTqqjJHNRlSy76mA7z2L31kEOqG1BVRRXOUuJZi9q4bz2DaeY2mPVHCvWnI8RkOswdWvYndaNL12CXiN6YNzuB/+sIplIsB/XgkpJM/Tlm8pYGyBnVSvVSqltzS79Q4i8W9dOPdINpAqP+91OonRde8zId5sTCTfjmNQTVo2ocVK+YyWQ6zCMW9kTOqDJcTW63Wz2cPv5nC3nHYDrMNcqcwPDrhKsXzi4cfVr+xw2t6FFd0jU6lmuWFcfV+B0xX7eqrZU68jdswSIRn69jfvL1mIsmi0TiSwhh7M7BVMWlclDbPvewqIv8qvzic0gFpz4X3bCE3ynxd4u6Me84xHz5R2Ws1NHVttd0Fv/0bfEa2yd97PY+3bGQQyo9TKsc1G+Gjycs/rn04LsEh1QQp7sk2SXdosRbFnXXyV4626s+mGrdin58WUZMh7n3ZJkUrVkuSRH5Xt9iYezOwVRF0jionywswaIu8uzXBzEOqeDU53K5ZfkuJd4FKcFW10y2F88ac9byetm76Sz+UeJcfPMagqrJAgd18oyhhMU/hxeU0p1RVbiaXKqsXUgf//Plsaik+Ke95wcMv064euHswtGnmcyC41FkQVucPsm5uAwTDNYq1bnEt7ho0TEG02HuOz8BK2i4wXSYn1314w+mDDKYDvOSf77D0BZp+VOYimcqQOr9wPwkv5AGficlFgcrAZ7KQybq7Dj6wTHcfQuX1/+uwXSY34s7EhLHnbQTBRlS3ZKQI5L+mZFWSmlTcVx0Q7Fqoz61qCzFwgZxb43Hy1Isfy3OFVVtLf/zWnaqJqp8VBSg+hxSQUjlYrdHclNibov65doq+O9rnmqty1pbFUud/ZKYwFptSflS/yStxdGnF2x0SqUHSQ4qSxNG5PgzqtqQi6Yzqgi2ZXZIkCIoMcKi9mpfA3+Vr021El8esyRtP2+bNK/F1EomS4kK8vtRNxuN4XffNqoqaHxUFKDqDqnA8ciiJsn5KTG/Rb07tyEuseW9ak/KWCkY1ofYtc3sWNaXyGXhEFSPJHBQL/UcjYz+L6J+uPaW6YgqeNyQ6pa0jJT450tuGvRPSWpJpn9KVeBk/77x0Mi9ZVt0w67HMP4mN56z9q/o9c+PYPh1wtULZxeOPg0nK0rQii5Fk4vT8RS3rNhmSxbMqkcNV1p1sfMxVVltl2T46BtfkTyPTVbbnXtaDMMTBFNlTeOgvvXLKyarKO9fVwk5pIKQSmYp7VKUWMqinh2ZC7PqWF6/dVR3vZKTsIpyg321yIOv30T6nRzRN04VcEpVBEHjoJ7bvd3LKsqFtMy6QyoIqWSVxlRlKLGMRT1TID9m1b9Twy+kUKu3rM1qu6Tnb93NBhkOm6y2m3Fj/jA8QTBV1gQO6ozcrX2solwzojFyRoUpYNmtetRylFjOopbtWQSz6ubqLVcs+V5ffsIqyodfb843ryGobo/EQa02vofOKspPL6zSnVFhCUpmEl6F0sf/7PrqhcEqyvUrnsDw64SrF84uHH1a/keGVvTIihpNxxNtWbFwr3NGFU+u6GKxVr/XLCNWZ73e2Qs1Jqw/UelYPO73vPv502c2Kg0u+ahmgIocUkHCVWEpbZESRYtaYMFxo2PzBlF7O6b0e2XqsnOE+fzWoCpNeoRRHrWRNE3gILHerqajCsWxXq8wSCBNn/S2r0wpskX6aN4Pxtvyko2za1t9XfV25kqav1cetyOsb3jhASGuvfAaf5reRnUpEh/VDFCRMypM9SouRdXclOgGkeTww4ZUbGZs01p/p1iV9euPFF6JZf37TkmqKnOQWId5hcRHsexOQhheDK4Ul+yWKqaPP/n7xnUDFR0a/XuznzD82uDKhLMIR5yWP1Gh5dhzlpiOB/8rsiC2yEIPRBYkEFmQ8CKLYKrkkjioNIpCgSjK65AKTnEKS1HXpsTa/4os/KnEM3ogniHFjitxdAdCTqluReKgBuIZEohnnFBB3K1ooqTVo8R6/4os/LbIwhuILEggsiDhRRbBVEmSOag0ikKBKEp3RoUpXcUjy0JDSmz4r8jCn0o84w3EM6EtHIJKvQ4HNRDPkEA844AKS0qKxyXL1dM1niEgniEgnvGDeMYP4hl/iHhG0MB4VHoel/9MnyTc2uHLjKpir6jzlXbi0s+3G57+RaKLrDLx1nLHjMFz+0ZvvbQHe+ZcNd4svTj6q5MHMLRFWv4UptxV0S1KTQLzE1gV8HdS9O7oSljx6EosWwnwlB06CReMk+gHx3BNrEVYeWYG3OvpnuhiX54IieNPwnkUSKWffTdK7BZp72EzbD1sJNDD5g30sJlh9bDZqIoocVB/3vU/M9CvZzqkgtBJZbJB71Liu5H2HjYjlc45EuicQ3fL5w+vhmuj0oMhBzXQOYcCnXPhUyUBbMuqKglab0rsHWnvYcO2HjYz0MPmC/SwecPqYbNRXYLMQZ3YKQMJ9OslOKRCx0N3ZaEfJfaLtPew4VQ650igcy60hUNQVVHloAY651Cgcy58qgibuVW3LMkdKLFZ5EtXbgj9U+JY/v7flRsDdM4ZoHPOAJ1zBuicw6BzDofonJNEaEWPpAnD6ViGR9pruIathosCNVxvoIZLwqrh2qiiJnNQ/Q1bkEC9GjmkgpDKzVLUoyhxVKS9hmukUjkmgcqxN1BycUx1CzIHNVA59gYqxw6oEgip3NT9CGMpcWykvYZr2Gq4KFDDTQjUcM2warg2quhWOaiPL8skUK9GDqlg53a7XB5pAiVOiLTXcI1UKsckUDkObeEQVFnTOKiByrEeqBw7oMKSktsledSB6eN/ApVjA1SODVA5NkDl2ACVYyPtyjEdCbSiIirSDDqWGZH2HjbD1sOGAj1syZ1zJKweNhuVniU5qLuuJeqBfj3kkAoSqG6Wop5FibMi7T1sRiqdc2agc46sfyLGhdXDb6MqbpWDGuicI4HOOSdUkI53uz2K9BElfhRp72EzbD1sKNDDltw5R8LqYQumaoKscVB/OkL0QL8eckaFKV23R1LluZQ4N9Lew2ak0jlHAp1zoS0cgupSBQ5qoHPODHTOOaDCkpLbI6ra++njfwKdcwbonDNA55wBOucM0DlnhOickxRgRY3dXPqMjuWzSHsPv2Hr4SeBHn4S6OEnYfXwB1MFGnZxUMUu1VHgvoLXIRWc+jSWul5BiSsi7T38Rio3B0jg5oAv0OuNnFLpAYyDGrg54A3cHHBCBXG65qLcLyjxi0h7D79h6+E3Az38JNDDb4bVw2+jeiSBg3qlXyEUuK+gO6PCFLCmiC51DSWuibT38Bup3BwggZsDoS0cgiq5JA5q4OaAHrg54IAKy0uaIsjC/PTxP4GbAwa4OWCAmwMGuDlggJsDRoibA6IbjkfVBIGNJf065xDonEOgc84AnXMG6JwzQnTOSTBFr7EnQdcH5ie4c85IpXOOBFrZUk7loZN2Nhz94BhufaS9c85IpXPuXzh+ZQ8NBOEaUwpgE5aOjwS2fbHLGPqsffTPzz/BqvClcalP4egdIxbhtRsXG92afx11b/gKfCF+ttFyYkTUsd/W4s97TjEy/VlyY/bP4jBcBGlOpArHSI+QXwUWZsCy8HeS64DMmg1WLo3inTyIYO9MMcRX1uTdGzLOQIsnxpYZvzNVBHeW1SW4IElRtaOUctQiPZtzzljYQ0i867dEUea+1gRN6ZcVbeq3QPc32Wh2GdoY9RjKL4pip6qqzEFd1vNyDKWSzzq2Iw6pwKoe0e1Wj1PicYuaGH/E+P39GokLn1qiKP1OldTZUycTX/ROemH0r6I/hqVkbKfS9cJB3XQtF2FNBjdvNyEOqSDe97Ce8VOUeMqiXu23xyh2v17iq0ctUZR7ZTX0aaOqqF8nQZ898bzJbrybd/lFUexUTRY4qH/vu+ilVHJBr0GcUUUQM3rYfnuGEs9Y1K7/+9bYNrlVYrtGk60GywsrYgqdmYAuZ7kdw2XhEFT6jXJQaxx6ZrLmg9e71yCOqJIHriYW0eynxF2RL6/fRf8Uu37X6jaPjTl7SyU2P7QEDz/7O/3vCol/5JmP4dcJVy+cXTj6NJypC97y9qgej3SJjuWSZcUj8YVw0wdRiWUmWKIou+dvNceKGVCdDg3RvO8O6WLdNmh34e1heIJgKvVAHNTN13qhRntOmIvy5Pc6pIKIxqO5JOEqJV61qH3HlsbiU3ei0dUSRWnaO95s+uoANL9MDv3Y0gjyzfgtvnz9WxKnVFlUOaiz5rZEzeaVNptNyEUcUkG87/HQ+OMGJd4AnqBmJdxjSK3EipstUZRfGk40G2evjOo2k1G9DJHoakURzVp7nT/et1E1TeOg6olN0bDtBUmDO4+8zqjW06EekT3yId+kxJsW9c6vIn4jqnli6eGWKEqX50XMp6XHoU0/997FZeEQVEkQOKhbYuqj7I2+N8cXfmw6o1qPlzKqIGjn0sf/1MmWE2eeVD7x1tMFGH6dcPXC2YWjT8v/yNCKTADvLzqWvywrvpc3L84yqUri4rvWQ/3ivDakepMDetN3dphZn07SMxbtjtBWP38N1EZ1qxoHtX6emTGUat58uy9ySJUBlXXnP6LERxa15chCeORQOVEaaImi9M0yxmQXL54X2Gmyacpw+0xUOErGdqqkaRzUFz9EoDG/zPEN294SOaS6AVWhEeZTSnxqUf/UiuNN9/XERYMsUZRRcfVItaH5UdZ6U80PT+3S18oYXYjJHUZMEEx1qwIHtdOp+j5KJfsatkDOqNYzopSqetzqc0p8blE/Ucrgz043TNx00RJFqVT8jo9dvLgwUeCb17SpbsEtcVBXlM+B2LPay880QM6oLriaVHrEvJM+/mdNoax4lLdc4oFsn2P4dcLVC2cXjj4t/6NCK2pul5ojPz0a5k+xYv2Ghw3m63qKq6xaWdwynUYi+rzW7UnTIn+bLBLxbB4UhicIpqqywEEtMLQjoVEX+VL4J8Yh1Tr10V1SUOXclJjbos5dt8NgvnxGjnUp1KM/TtRZ/JOj3Ay2YyH2jDjdsZBTqqgKHFTvhmaExT9n60cih1QVUEXFpUZQYoRFzdx2ncH2qmlzLFGU+T1r6jQSQVHtG5EDrcoQFon8YGzl78GwUVWXxEHdpiBCoy5SulRGn0OqB1AlTdbyU2J+i7p+5SKD7cW3tlmiKNu3vO1l8c8ZLR/fvIagemSZg7pprE5Y/FM9Q27kjKrA1SS5FSlj/nTxP8rfvxks/vm+8AoMv064euHswtGnlczS4HiYUiwby8bIl5ZiSW08AfUMP1PPqFMgAx7djPiF5svwBeWpUbbAeb84dimu1fuRUS/2H/+CIUtw9wMPjfInIxJbuZdgaIu0/Cl43JF+djQsLhSYn+SeNvA7KZVksBLgqTx0os6Gox8cwxWyFmGd154YexIqJDZ5ZWlIHH/SzgM2QZG9Vl6ZEivntysZ+21KxmZAyRgFlIxROErGdirlclCPJLRAAdVm0yEVhFSiJrikKEqMym9XMvanop+sB/STzYBeCnFKpU6NgxrQT9YD+snhU2UBbMuiR1NUgRKF/HYlY79NyZgElIxRQMkYhaNkbKd6FImD+kGtfiig2mw6pALHI9H1pLko0ZXfrmTsT0U/WQ/oJ4e2cAiqpMoc1IB+sh7QTw6f6gJVEUqlofLrlPhq/pfW79ID+l3o3/pdfqCf7Af6yX6gn+wH+sl+oJ/sT1s/WZZFaEXJI2leOhZvfruSn9+m5EcCSn4JASU/FI6Sn52quSQOascKmVFAtRA5pIKQSpIlRTUo0chvV/Lzp6IfqAf0A/WA8BZxSnUpEgc1oB+IAvqBTqggpJIUt6TVosRa+e1Kfn6bkh8JKPl5A0p+KBwlPztVk2QO6t47xVBAtRA5o4IUMI3jBFmoS4l189uV/Pyp6AfqAf3A0BYOQRVdKgc1oB+oB/QDHVAFuJpUGiqr6eN/AvqBfqAf6Af6gX6gH+gH+oH+tPUDZdkFrci0qJrTsTTPb1cyTrQpGZsBJWMSUDLWw1EytlPpkuGgDi9/NCGg2qw7pIKEq0ug4JaU2DK/Xck4MRX9ZBTQT06ZJqdUSZI5qAH9ZBLQT3ZC1QCVBphCa0psnd+uZJxoUzImASVjElAyjglHyfhfVI/KQe2dr5weUG3WnVFhCtgl0RXVlhLb5rcrGSemop+MAvrJoS2cNtUlCBoHNaCfTAL6yQ6oElxNkiaqDdLH/wT0k/1APzkR6CcnAv3kRKCfnJi2frIsK9CKsuqWutGxdLOsGNCKT2Ra8Sk71uEi3k0rJ6Ah/Ur7VowbSJ5uiY0p8vFW/pOQjaq4VQ7qzOpz9cU/5CJPGjUkDqng1MdkRoR3KfFdi1orT0v8ftkiiYcaWOXDyoOiyO6yHnT53Zx6QHjUDEfJ+F9Uj8pBzR090JQnNiOXx+UkDqkgTne5ZbfUmxJ7g935aht8KVuFxI+XWOXD13aWMsvdGI2iLv3jWzmhM5neuJ7Z4vYV/vKhjaqoGgdV3vynnveVbGTMVJk4o8IUcNILXP0osZ9F7fluF7x4oCsxbxerfHhPfZOY0wqiXm0/2sll4RBUunVzUP/5aemuPgW6kIaLH5rOqLAElfTGWYf08T8N1jXG+0c89J85twDDrxOuXji7cPRpJrnAeNiTrRobSzok7QL6yX6gn+wH+sl+oJ/sB/rJ/rT1k+mqACc7mZXrBgbmJ1g/2Z+KfrIZEDROOZWHTtrZcPSDY7iB+e36yf5U9JP/heNO2slA2IdS3aowhRKnWNSyXVW882AG/9m536VQbzysRIycOhm/ZYcvtvdf5oyzmdHQm0oYR7pgqqaoHNSl+SqZlIrmeSsgh1QQUrEkqTadEqdb1HpXauCb2z8jldZbN1ATd2Yh7D7Pp9/XZr1RKPL3nNFh1XxtVHqQ5KCy+8ysc1JpfMvrjAq0ZERZURRpJiXOtKgX3DXxpT5ZSEIbq9E27ntMBu8tQTbO6W1GDj1oPsiioO4FXg3jSBdMVWWNg5r18099lIruftgAOaRCx6NqqjyHEudY1H21G+Bz0w94Y+datzPYTXHWPh5RpQXfvIagelSBg1pjUmv9Vvv+qHimFbozqhuuJtWtauMpcXD+l670EPqnxNlE6s+WjcavlhriPzyM4OH7RDxnrdvf9Y3dGH6dcPXC2YWjT8PJKgK0oqZK8iI6lkWWFW93LY235x3sf7TiB+uNgfPf6DeyZyJlN9QnXc/2Jt+MG5LgF4/xh482qiJpHNTr5zebnl+emu06N0YOqSCkkllKeyklLrWoFbcVw3vbDvK3qGvdtt1Z+12z86gpCQt7jSLNr5ZOYO/El4non+CMqgiCrHFQL1SvQYbekmpUWBCNnFHB86KiIsqSvJwSl1vU1bcL40KzBvqzVvw1hVond2l9xp5M5K3hbcjYImPJ6M/rJpz+VuQPH21URRI4qPfyvGI+6v7EnFW5A3JIBTu3Irld6ueU+LlFff5qYbxj3QB/xnJXrRTwuzfMGddnJxyM7M43ryGomkvioK4ZmJvMH3qhxqX41sgRVYYlKEVSZeGT9PE/xa+Wx/qawf7Kb+7D8OuEqxfOLhx9Wv5Hglakw1M30LFssKzY/Y6K263f5P/xiRWJ7H2nmP7eXQ/qGleFPCp5zxzRPzcZ9zyM57jsVEHgoHZcFYUoldzTrngdUkHCVWEp7ThKjLOoX8XF4INVDvgF/aB1aJ6SjdQuGa+7BtZL6g2PPqTGhdXzb6N6JIGDevbXfd4OJei32Keg7pAK0veKW/Komylxs0U97KmFdzw/779T2HqxYmSlEd7ursLoxxdNiL/mHpNdOpLNSP7d2UZ1eSQOqvtAbUSpRO46RndGhSlgRVMFbSslbrWox4Y3xOd++J9/xrCTVoTZKYJkLXjaW7VAS755DUF1CzIHtfz1XnrJ873JqDUbdWdUWIJSNEWUVqeP/7kZIeGHP873F+m0G8OvE65eOLtw9Gn5n5Rb4ex6pEa9uEnHYlpWXHS7SZKv+/q2L8WKE450IjQS0TMcSYjJtS7CxyKRfD+G8by6jUp3LA7qH007IBp1oelfFfU5pCoWlT3SLyRSYqJFPfBrxyRfnmOlmUL1xb1JWPwTfaQA2ydj2G1/umPFOKVKispB/SNTL8Tin8zdz5gOqRqgsp63vZS416Jm/6B/0l61toHfijALtyM0EtG/2IrM5n+/pbNIpGzX0WF4gmAqPeFyUFssehvRqAv5Lwu6M2pKCphRWc/b95T4PVhNq8cm7cXyld0p1Pu3KxIW/wysivnmNW2qS5AFDqqvwRjE4p9Og2qZzqguuJpYV+H29PE/de95k+KfZoqJ4dcJVy+cXTj6NJNccDwy3TsGp0/SbmL33Ljc23P9C7auwVU3FcQd2031n/h5A57/VgnsLTfW/1PNLdgUyuNsMUP91U7uwNAWafnTlBQ9G48iierBwPwkPzkKfid5VcCVAE/loZN2Nhz94BjuoIW7vlTCJT8a7F+yb3dIHHfSTkkR/Emi0pDqIiVetKivNp5ssK4a90ErfPyy+Kus5838bVUFMmjXBJP1vLleV8Nw30FU5r85qCOvDiOZvphiDsj2ndch1QOoTCr0MiVetqidjjYzWNfQqhtW+qxXqUjEOu2kI3WIo5qvjerRZA5qo0F9k2glzj/wOqNqYFtWPW5RukaJ1yxqR3cJg3VFtfrCSp89PJmJ9byZM/5qQI5v+iOp561o5jDSZzaqJmgc1H3Lu7L+PvPsgYG6QypwPG72kMvvlPi7RS1V+SxiXV+1rlrps8k9EnTWaXcpV0viqOZro4qSwEH9+ce+hHXaoYqf686oKlhNbvZ8zFlKPPzylZ6UfD9wsr3cPoNVJT5YSnC7iysM1ml3oPVuDL9OuHrh7MLRp+VkPdCKkluTH9CxPLCsON270mBVpU6VrJBqwZ+t0eIfcqFhO17EXK7hj2E1X/eFcMLHYKqqaRzUXBFNWH2brL2+KsEhFYRUbpkumb8p8W+L2nnDJwarmm2/ZlGfrUrUWaX5zr2CZMR33QjrjVr5uTvBKVUSNA6qt9LxpErz6CunTEdUVQAhlVtRNPkxJT62qDVaTTZYVfCNpVb46FFbobyvZEMndLd5POZrH6v5dikWRvhoo6qawEH99UEvb7kbo8ntHTV1h1Swc7vZZetnlPjMoq663MdgVc9oY08KtWL1z3RWaT71Sk2+eQ1B9XgkDmrj9VdMVmmOzKqbjqiKpgWNVRBupY//KXYyzmCV5ns9TAy/Trh64ezC0afhf1QRWpFGQGq2AhReIMWKj8XrBuuqSSy2z1qnrTebPfsMQHt813y7R4iI9bx9W8TF7wlsVEUVOKg339PQujjDPPRzZeSQ6gZUD41EclJiTovaPOKRwbqGfu5gpc/WRy72sU679b/Uc9bzH0Sl60UTOKi/jm+NWKfdH0sind1vUFOeI2VUVkDMQ4l5LGqTG5mSuqIGqVb67OIOr7l+yFB0a9E4s0abFoj1vLW7FMYb+jaqokgc1OxaPvTV0bfMpr2bIIdUF6Cyy9b5KDGfRa1cNkdS19eLeVb67M63xXTWaXfT19JZz7+NSk98HNTB77sR67Tbv32D7owqwNUkqW7pRfr4nztjThis0677xN0Yfp1w9cLZhaNPy/+4oBVlRdKKUgsWtaw4zThosK7iJbus8mGuD4qSEdNMX8dRjUhExE866/nv8+1x/vKhjSq7JA7quffnmdlW50Gnl9RHDqng1KfR+FktQYklLOqKhkcM1jW9r5NVPlzX4jcvu2lw89tRbJ9ErEWF7lgxTqkeReKgdqm7Xmc3DXbNi0IOqSBO19wuSStNiaUtat6FxwzWFb7Ma5UPRx/NSPpFbPJGzmpPzhy5prOe/wZV3fzlQxtVlmQO6pObe8xPv/DpM2LbIGdUmALW2GXrspRY1qLmKvmjwbreC1W3yodrI9vr7KbBoy3d+eY1BNXtUjmoDwqM1NlNg/33WiFnVAmuJk2R5QIF0sX/RE/fa7CbBvrgfRh+nXD1wtmFo08zyQXGw0S15cPpk7Rr+s59g3XaeXxr8KSOFw3WaffVzQ34cPsfDdZp93b7LXjo/O8M1mkX92AHhrZIy5/CFD17jkwqH5ifZC1S8DvJqwKuBHgqD520C8ax3gSGK28twm45vjVYp93Au7tD4riTdvTACqn0nMMmLB0fIdx95pTx5qBR5MkXs/GUh+eMTBn+InHXP8Jq4SsGnuryT/hjLj5e5I6hzO/lv7tiAa5y+rFRbfAs/+nHSzBcBGlOJNjoPUyTpWKB/1uYAcvC30l5QQ9YM7x7zjac5pIYrqI1kY2uZMPDP9roH9Ppi5A47tckRQF+ffT/kdkkZsxgTWTOpIncgNg/6kmS/i1Z3Dbp35Sbbyb9G+xtmPSPepikf/V/q570z+VyJf1LXggBD0fAxObMAP+nDZ5UeDw6pklRUQ/a4p76U9TXsymq8PGO+Fknj9Ega6boh7O7Yem3wcaLdZWib0b2xYUrfmrM7980uqH+Hr575yvj6wMDo/M8GI873ybGlOVTo6tMnoLhwklzwj3QFm6PVKnA/y3q5OZG8DtQp9n8pVCS1em6jQoMbyLPhEMc65tguErWhO/a+7NRfsji6MfDPgqJ4/5y3QL0FzIN1d+hxHcsapm4qfF9Mk3E+c/HpFCZfCCTv2ZKLX8KriT5ayaFzR2M2Kh0h+anepkqjUMq9FJuURK6U2J38EmVmx6f591JuFGJKOutxNeionbNLkfGFa+d9NMLNkyNAhYOmyqJKgf1He+OqrVLxptbPhpEnFFFkHjysNCgJyX2tKh1l3wYfyJhMq5ztGSQhZeummT+lvkt9NnBilHdjr1HzM3z+QMvG1XUZH6qTqnEIdVKXngE9ghUH0rsY1Fjs82JP/7PVNxNzJdC3XitbZSveDNSZNSrfPMagkoPfhzUS9V/q5K14GnfP4vGE0dUFSRPPazhUWhHiU0KvFy4x9wG/VNigSNmP/PVianxRSpMxKOOdMAdvFPjh0dPwO+daYzh1wlXL5xdOPo0nKxbglaUXC71PTqW9ywrMkG6xsem4vt9WqVYkYlUvnWorBl34w3E5CJb/+YlwqTj/Fc8bVRJFvio5M2j5dDCx+11h1Q3oDI50xGUOMKiMsG92e6ZGM9onkJlIpWPsr9JWidc1y+Ir1d9qD0yC13vTJxS3arAQWUilduL5dHHt1jqc0Z1CYDKXk0dTYmjLSoTFMxjfIx/+LNhCpWJVBrnlpgJtb2IyUVGzShOcg/YyH/F3EaVXBIflZT4sAF6Z0Yu3SHVBahM1m0cJY6zqEwwcd7p+fjy7topVCZSebJGJ9K889988xqCSg9+HFQmUrnlUZz+/DE2nVFFuJpUlyL1Tx//w0QqixSfjNG0thh+nXD1wtmFo0/L/8jQipokaNPoWKZZVmxdcWZ89PLZ+MTD/nDHQt9fx2TOw9Pm6MRlUQEr8hfDbVRRlPipiFJ1h1QVUJm06YeU+KFFPbJoTnxEzvlY/XuotWN1ahjFJAnYG+dsmr5poMbmzFMyyilVdUkc1D8GaFWeLy2JCu5qgBxSrWg66ek7bTYlzrao+sm58XX2fIZbFxsZZOG75VsTpqx0o+XHUXcmf2D+UXcEfzHcRhUFmZ+apCLljKpIgEqdnvAxJX5sUSceWBj/dvxq3O2t0SnU7me6Rd1q35/d/+Kb1xBUWVQ5qNlO1tjI5pTNrTMqSJ6yN2kkeWL6+J8ns6bH/718Ks6tvovh1wlXL5xdOPq0/I8KrSgLmrCEjmVJUCSC/iMSITQSYXLZKPxIJIjq8mgyH5VFXTqNuohDqgKoCh3sMkpcFhSJGKnEP2Zy/PN0dy7m9fTwvF4wVRFkDiqNf1By/OOQCuJ0kb2aupISVwZFIsZ/RCKERiJMLhuFH4kEUz1ulY/Koi6dRl3EGdUtAqomeqRVlLgqKBIxUol/fMnxD5eFQ1AlTeOg0vgHJcc/zqgKXE0a3c8+Tbf4B4H4B4H4xwDxjwHiH4Mj/lE1OB72AB4bi17g5dLt/zGea5nejI9fXxcXqzcDP49qFz+tczM86ZP3cd4MPeK7rm+LG/42Eu9vNjg+U4ceSb7VdWd8vNlkCMYfd8fQFmn5Uzc42UmCrMprA/OTfCMH/I71unim2OSVAE/loZN2Nhz94BhurYW7P+nD+K1rJuMFt9uExPEn7TxgE5TYrpFAiQkW9fecu/3VZ/XCn0+03q9gctnf1i/jnT0gGxrYrZb+7ORQ4ooayl8ttVGpI+WjknrZPjYn3b6sO6SCkEpy0fMroURiUf/86zf/8+E9cf5OFpU9nz7g+7PmXPGsb+q9YrFddo7Qm/QIQx7cRqWHaA4qS8YyGZni03KZjqiaALZlSZEEYTcl7raoHf/KkPi8bi/8YoRFZUlY8+obZvH995lctq9ixEgyvNsI/vSZnepR+aik9pfLfBMyPXdKBY5HUhVR+o4Sv7Oor2+PTCzzuA/OccSisiRsn69Kk5kxpfksHIKqChoHlSVh1/z+pfnte1/6HFHdGlxNKg2Vt1Hi+pfcNOifEsUUi+ifAi9WdBQ/8G9tOgjXGTkH9135hf+T9/viyhdmY/h1wtULZxeOPg0nq4nQiprklo7SsRwFIdXTRf4nb72HVwxcZgmqJkQhX+0a+u0iKrmcrxBSfqtOVgzcyR8+2qiiW+WgMmnM6lF/6QmtuiCHVBBS0W9DEI5T4nGLWmT7Wn+xkSPxk/arU6iHnpdFn/QsSKY1yUzYlcfDPSuR6g/eMB1TPSoHtdaEn33nMmQ23+w3FjmjSiCkcrFXU09R4imL+qL3N/7l98fhHN+BdyG7NESxK/N4r0wrweSy9aNmZTLdXZA/pLJRabDMQWXSmLuXvYa+3lsXOaSCndsluTT5DCWesag3f/ref/Tt9/FbczdZ1IZRaMCequT+ewtMLguHoFJ/xEE9MnC6OebTzt7f2wxHzqigBEWpNFTenz7+Z1Kf2f4ciwfj7sUWYPh1wtULZxeOPi3/44JWlEVZvkTHcsmyYvyZzv66Z6diT9m5KVZkSR3xuEDqZRQIS6+geRPNvTUm8pcPbVRB1vio+gH/AJR3/8emQypIuLoUGolcpcSrFnXUvdb+YjPm4HN55lkv/x4m+uOm75Lxm3qYg8p8lDJNTqmKqnFQWVInwlcLdVBr6c6oMkjfu9irqTco8YZFnX68lf9howXY+2x+CpXJZdcupZFcJ0TCnnyo/O2HCVvbfriL/+sIorJ3afmoMb/kGY6mlpttOqSCFLBLkxT1JiXeBLvZ5A5+Pcty/PTGwhQqK1ae+LM+mdmnPt+8hqC6FImDegAd03fc7Io+adZVd0aFJSiXJqrCufTxP1G9B/lXfT0er631MYZfJ1y9cHbh6NPyPwqwoiwIovoXHctfwZHItT8n4hqu92Ek4js5pxVxTc2TFIn8MOa+OT9X5TBOB5Dq8tDjJgeVRl3ktc8EPdOe/4u6HFDBqU8WXbL8iBIfBUcis3JMxddKjg6Kf0ofQuTUreo63bEQ3bEQ3bF0p1RZFjioLP6pFPW1PskYQBxSQZwus1dTn1Li0+BIpMLwmbhXp8EwEvGaZfqSo+J+nUUitRquMouWbxHGmSSY6hElDiqNusjloZP1b1pFEGdUmAKWZVHSnlPi8+BI5MUbn+DODfoExT9Hz9Ugh/7s4+OycAiqJMkcVBb/tH/6Qv/sQQvijApLUEyRQLqTfvFP1WUjcb8c0zH8OuHqhbMLR59mkguOR3F7pPXpk7SblHcIWfJNI9zrxgw8qMAtcuqDFnhx4of4xbYq/t6P2+EhR2fi8wkd/Pn+7I5v5qVnS2CLtPwpTNHLKvWoGQv+3/wkZyDA76Soq4CVAE/loZN2Nhz94BiO/Ut+arvYR/5sz4bhIVEfhcRxJ+0soW5GdYuCXJgSC1vUf24Wjl9Z8E3smZsQVBss0X2XXutOffLz0flRrAre750zYRzpgqmSIPBTTUpFzqgeEFLJHnqQLEaJxSzqW1Ozx18p0xj/E7XXunb0/fGNP1x7y7zUczTrjSI/d/ssNmv16CinVHqQ5KB++35cFOt0L9+4CnJIBduywrS1S1JiSYuaU70f17pQA9whx+EgCxdTK+ksPfr7/m1RNxuNIQO71QrjSBdMpdEAP9VkqWCHVOB4FEkStNcY0aJW3X02btnf9XDnzNYVqxo/Ld1QbchFpmnJN68hqC5B5qCW27giqds/SfPQEVUTIFUUpUhKzFzwpSs9iP4pUfRPiQVOdsAab7z2ZhfcdEYc7pu3cvyG02/j4i22Yfh1wtULZxeOPg0n6xGgFV0eVatMB1K5YFDNN3p5L/zO7a1Bleb7Q6P0xfr/1XxnjblldiwYxhMXNqrmlvioqEzrKuiVGde8DqkgpFJYSjuKEqMKBtV8ixQbgBtX+Dao0ryjciYyblB9kjj+QlTJr1uTEf1zI6dUl0fioLJK86Rxcd6JbbLpzqgiCKkU9mqqQIlCwaCa74lO7+HTj31BleaDt1d5/xjeKKnmO21bormg3Cv84aONyu5YcVFRd6UmulZgou6QCnZuRRM0wUWJroJBNd/33hqDP2m1J6jS3LtbLtK/aCu+eQ1BFd0qB5VVmsU/2uqLv1+nO6JqsASlsGdaXk8f/8MqzZkzdMdi580Yfp1w9cLZhaNPy/9I0Ip0OIKXDsRrWZH8b1R8p0IT8Yz6sUG94dKGjoSlW+qc3hTb9tEc9q5nGJ4gmOqWZX4qYqklh1SQcFVZStugRMOiFhj7YXyFnNPxZ6XirEv8z1ond6Qn9YavjL8edSbT9FinVEmVOajPxmaNK3m+NzqAjpnOqC6QvlfZq6m1KLGWRZ0UtyB+/cmPcLOb8UEWFrO2IeXH1TMnT78aO7ftuzq7v8X/TQZT3S6Vn4ooVXdIBSlg1UXDgrqUWNeirnzn8/gKbRfiveu2WGIKd7dUDdwg4ZvXtKks8cxB/X7/09gOJcaik8dE0xkVlqBUl6aoavr4n4ebOsS3rzQI1+sXi+HXCVcvnF04+rT8jwytqLhFqTkdSPOgSIT8RyRCaCTiYz3/4UciwVRVVPmoLOoyadSFHFLBqU9lKe2WlNgyKBLxpxL/6Mnxj3dViTi6YyH2Dq9TquhSOajspkFy/OOMqoA4XWWvpramxNZBkYj/PyIRQiMR1mlHwo9EgqmqoPFRWdTlo1EXckgFpz7Vo0lyW0psGxSJ+FOJf7zJ8Q+XhUNQPZLAQWU3DZLjH2dUWIJSPW5Ja5Bu8Q8B8Q8B8Y8fxD9+EP/4OeIfTQXjcYv0fMnGkg5Ju7zn68XH5q2Pm6FP8Ml6OL7+O43wnAKLcZe23vijC5rjJ1+sxFvKxMR3WfI23nZiHYa2SMufwhS9W6Jz1CEwP4FVAX8neVVcWbIlNnklwFN56KSdDUc/OIbrYOGa9NTjV2/sjotd2RwSx52087g1SNUEYQglDikIe96M/+h50yfdvmyy9ErYPW92qkflo7L+Pt/sAdmIM6oGQio36yUeRonDCsKeNyOVTjuS3Gn3DK0Lv+Zro9KDJAeVJXWSO+0cUsG27GbPjI6kxJEFYc8b/o+eN++ETM/N6p1ae8PuebNRVU3jo7L+Pr34/vtOqdDxuD2CPIYSxxSEPW84lU47ktxpx2XhtKn0wxE4qFs+GoSSO+2cUWFTuJtitb6U2OklNw36p6Tk+4MrPQbotDNAp50BOu0M0GmHQacd5ui083igFT2qKk+hA5lSENZ8jf+o+ZqZ9qis0kzCrvnaqIqqcVAD9W3kmpqHOKEqggBCKo2ltKdT4vSCsOZrpFJpJrZKc1g9bzaqKGgaB7XWhJ+9tkpzuFQQUtEwTpVnUuLMgrDma/xHzdf8plUE63kzw6352qmKKnBQA/VtdFTcbzqkWju3m/patzqHEucUhDVfI5VKM7FVmsPqebNTVbfEQT0ycLpuqzSH12nnASUoSpU1YXz6+J9JfWYboNJsgEqzASrNBqg0G6ErzYogQitqLpe6iA5kUUHY82b8R88bybv/Y/2PuiNIuD1vdqokC3xU1t+H6mUUkEOqB1CZr11KiUsLwp43I5VOOzO5067L7zfC7vm3U92qwEF9vrQkSe60c0aVrPS9WxPpUX05JS4vCHvejP/oeSNTy83WWTo03J43O1VySXxU1t+Hcp0QkUOqAqiSLGufU+LnBWHPm5FKpx1J7rTjsnAIqiLLHFSWhE3utHNGBSUoSnUp0ifp43+ieg8yQKedATrtDNBpZ4BOOyN0p50iuKAV2VvRG+hANgRHIv/R828mtOqSFImE2/Nvp4qixEEN3G8wbxf5v6jLAVUDVEVxqXGUGBcciaRy04DYbhqE1fNmp6ouiYPK4h/bTYMwqbIIqG5B0DZT4ubgSOQ/ev7J13vrsp43M9yefztVFGQOauB+g+/KtBLIIVUGVM0lCVspcWtwJJLKTQNiu2kQVs+bnSqLKgeVxT+2mwZhUiW4mjRJklenX/wDbhoY4KaBAW4aGOCmgcFx08CjwPGwF6o7FUyvTjsEOu0Q6LQzQKedATrtjNCddnRVWCc7t0dQPNL2wPxYnXZGKp12KSsBnspDJu1sOPYeBsNtD+q0M1LptEsVx520U90CpEqyxiasSoH/P69RpjJ57Od6Jv4Sxx4EZI8Bnq72LK7KlrsGm8gO/SPi+3TOjte8PQ3Hly0df8kojCM6TcVlH1Wj/10x6b+HxRrx7cu6k/5v4CJIcyI9cIweQf42sDADloW/k2zZxW++XzXZmmHdc7bhJEWUGO5bayKXR7WN/7lvU3xS/zAkjnciFUFTIdWtSOcp8bxFXdhDSHw255xx128tnyn9sqJlPS8nfNaxHeoytDHyN9lo9hj6IoyzuUUV6UmEns35qGTua03Ipn4LTIdUD6Bq9JT8GyX+BnK+79dITIw/Yix8alkYvTIc9TtVUp/4orfed8ZnsSwvGo6Utp1KT8kcVDanLPt683YT4ozqkSyqJNDY+AolXrGoxe7XS7zab4/x6tGpKdRPG1VFf++76Lug10DlipdBsyeeN8275cKIjYOpqizwUcm9shrp10kwHVIVQJUEl3SdEq9b1G2TWyV2/d+3RrtGk61c/pkJqNCFFTGXs9yO4bJwCKooaRzUeZ3umTUOPTNf716DOKO6wWqSRI9L/YkSD77k7k//lCh2td4mIDdnb6nE1W0eG80PLcFz9lZIHH72d+OPPPMx/Drh6oWzC0efhpMVBWhF9gLs/+hA/mdZsemDqMT6DQ8bPcVVKVYcK2ZABYZ2RF8K/ySIddugpkX+Nj2bB/HHxjaq6lE5qI32nDAnxy0z57VujxxSNUClDl74kxL/tKjiU3fi3HU7jBk51qVQm746AB39caKeo9wM85vxW3zHlkaQfP1bEqdUSVQ5qM3mlTa9G5qRs/UjkTOq9UwppbLqz0NKfGhRewyplZi57Tpj2hzrHNA4e2W0TUGodKmM3qsVRXSgVRnyg7GVPza2UVVN46AO216QzO9Z04xq3wg5pMqAyqo/TyjxiUV9I6p54vqVi4xb26wGuKelx6HtW972ntHy8c1r2lRW/eGgZm/0vblprE6qZ8iNHFEFD1xNrPrzR/r4n8yTyicqf/9mfF94BYZfJ1y9cHbh6NPyPxK0IstIZimUIQP7F7BilklVEt/Lmxcvvrs2xYrVmxzQ6+eZmXDz7b4kY9HuKOvTSTra6g/DEwRTFVXjo5riPOp33tmhO6S6LaqLVX+yU2J2izpyqJzYcmQhLA3cGPTOS98sY8znBXaaIzuuTpkmh1RW/eGgjvllju/FDxFo2PaWyBnVeqaUUln1Jxcl5rKom+7riX9qxfGiQVYvQ7Wh+VGnU/W9+xq2IGtljD48tUu/EMPfUGynKqrARyWj4uqhrPWm6g6pLkB1ud1qXkrMa1E/O90w8ROlDN50cZv16GTP0ahS8Tu+CxMFvnkNQdXcEgd1tHu5uaJ8DrT8TAPkjCrC1eRSNeGf9PE/o7zlEtcUyooPZPscw68Trl44u3D0afkfGVqRZSQLUwsWLhQUiRyJL4TLTPgURiL65mu9yKI8+X0sEpn33SF9d+Ht/CchG1WWBQ4qjbrI7vlb9TodGhKHVHDqc7ELDcUosVihoEik79jS2Oj6cVD807R3vDm/TA6d7lheumMhumMhp1SPKnBQWfwza25L1GxCLuKQCuJ0F6vqlaTEkoWCIpGrNSvhiptnw0gE6YlNSYM7j3wsEqmXIRLNWnudvyJro8ouiYNKoy7yS8OJet1mMnFGVcCpz+VRZe01RiwUFInc+VXEpYfPDIp/ujwvYm76ufcuLguHoLplmYPK4p8tMfXR+MKPTWdUF1xN7OJTZKF0i3/qZMuJbz1dgOHXCVcvnF04+rSSXCoYjyy6RImNZVfBl8u+/sd4mHQLk3Bh8i2jmxF/nQIZsNB8GS5b4Lz/gvLUEMcuxfVi//HX6v3IWDBkCS5/MiKx+4GHRis3O39atkjLnyoKHI9HEl4PzE9gVcDfSV4VcCXAU3nopF0wTqIfHMO9bi3CPQkVEuu89sRo8srSkDjupJ3odkMqdaQeSvRYVCbUywR7oZR2pi+m6COvDkMDsn3nYzLaTE47HCltO5U6Ug7qqHN/618Wf5X8tqoCckbVQEgly5pLiqHEGIvKhIiZIDGU0mbi3UzEmwl4s5vHTGsrHClJO9UjaRxUJg3ERLyZgLdDKtiWZVVVVESJyKIyoWUmuAyltC9894O+b3lXdPbAwCQZbSanHY6Utp3qViQO6tLtcfrDk5nIjL8aIIdU6HjcHlWrSYk1LSoTkmaC0lBKm4l3MxFvJuDNZeG0qZqgyhxUJt7NRLyZgLczqhuuJjcNlSVKLF/o5TYNpkLFlhxTogJOlgmdMcEzJnbGxLuZiDcT8IZfJ1y9cHbh6NNysh5oRdY+3ZiOpbFlRSZUxwTroJRkttV5yLn35+mnl9QnTEaSyUmGIyVpp6ouiYM6YprpzfVBUdRxVCPkkApCKpY4VJtRYjOLyoT4mCAflJJk4pVMxJIJWDK5ZSa7HI6Utp1KYx0OKhOvZCKWTMDSEVUSQEilSIqktaDEFhaVCQ0ywUEoJfnpFz7zyc09TEqSMBlJJicZjpSknapKMge1X8Qm3+ijGVHkrPbIIdXauemxXZO1VpTYyqIyIUUmqAilJJl4JROxZAKWXBYOQfXIMgeViVcyEUsmYOmIKsISlOKioXKd9PE/TLySiVgyAUv4dcLVC2cXjj4N/yOJ0IosudOZjqWzZUUm1MsEe6GU9v/r7bzjoyj+/w9IL6FICk2ED72Evd29LSS3s0MH6SDSm/RipPcuCkhRpAaRJkUgAQEFIbdzFNEgHUGKgNKVKqg0hd/MfRPuvfcIydz6e0Qfq/fXPDPtPe+Z93vmtTbRNG4O1cgPZ6sQJqPN5LRDkdIOptINLAe1d793iN7mS2Ov95rHIVUDVBYg6U6J3QNUJkTMBImhlLZfvLvQYi8T8Ibd5JSqaRoHlYl3MxFvJuDtjBp4ppRSqSmQe1JizwCVCS0zwWUopb3+SGsjl1aQNO3bhDAZbSanHYqUdjBVUgQO6rrBQ8gvOzzGrUXjDIdUGVBZynYfSuwToDIhaSYoDaW0mXg3E/FmAt5cLZwBVVFFDioT72Yi3kzA2xlVgKOJpWy3zRz7w8S7mYg3E/CGsxOOXti7sPbp2R8JtiI73BlM6zIYeCIP8+ye5lludq5svWjFzcsnoLxhTbxrrq+KfbolIfZyjC9WvTghBEtgp4qywEFdfCgvWfBnGzJsx/Mkh1QVUFmAZBglDgtQJ5eN2t1lw8fm9msB6p6yOvpn1W7jzr1X2TppMfXbUKS0g6mqInBQ5YnNiKfycWv0lZOWM2rgmVKXS2ZDdSQljgxQL+WssDvmzSlmpSW+wCtIN0aj8w/6eG/vqGVNa1zfOh671du1+OgQLIGdKkoiB7VAeE6iK2+SE4ZqOKRKgMpStsdQ4hiwmsVJu1dd7mdGm4Ebx9YHr6KKNT81TobX4uvXDKhuWeag9ivSlTRed8UqlMOwnFFBCIpS6crSP3Psz/cjHvqK/5ho3utpYTg74eiFvQtrn+4hF6wPS55mdcmEQzsm3s1EvJmANxPvZiLeTMCbiXczEW8m4M3Eu5mINxPwhm2Rnj0FR/S0PqoojE/pn5RRActJHRVwJMBdecaHdnYckzBkuPEBHBPvZiLeUMD7ZTjuQzsg4M2odMrNo8R5AerOA1l8Zbsr+MzcwPGZmccgSwpWNuZ5KpDpZ15BCX3/sobcdIdgvu1UuhTzUdGNh5XR+C07PM6oKnCpZFXSxYWUuDBAvbn9U1L/SgyuvC7Zds9n987s5JPv6hCz1sXQY75BVFnTOKjuyePQ5O7LPO7GtzwOqWBZlnXRpcRTYjww3/2yk4tqLZzUNnB8NmhfSZJjxSeeuzMakgfZ3ajQkANWjyIhHJ8FUSWXyEdFid9htHF2X8MhFRgeN92sa0spcWmAem5asmd/nYY4YW7g+KznlDDrsz0FSFjVlnz9mgFVEWUO6q0OA1HMpDZGiWzLDGdUxQWpsiTOosSJ/3HRoH/Ki/N+YGQjXhvsO1M2Gh8cRvDsNapv+H4X7l5pD4azE45e2Luw9ukZWQ22IlMoWEvrsjbQitsLDPItut0Eb70deE7lRq5s5PemHcm09cU8X48bnJR3bZi34LFQ3Ec71aWLHFT956fWhMOdUZbDSUnOqDpwqeiOzqWsp8T1Aeq+du/6ks93wrmXB9zHLqOmJnkTW5Dow0X8r9w3v1o6qUzYwCSnVNUlclCH3BJjfs/WB73S47TlkApcKrdb0LQESkwAi+fMOF+u9wbiNQ0D7uP0vdlIy0VvEd9lwRq9ol5S879bG2W7h+I+2qkuTeagPurxxLoe2R6t3IYMh1SwcrvZK8abKXFzgLpj7Tu+RZ+PxfKVwMo9/fqspPu3K5K4apivXzOi6goHdf6QizHehmNQ53drW86oGhxNiiTIyzPH/hirB/nq3fPgZm4Lw9kJRy/sXVj7dOyPJMBWZAoFO2lddgZasf26zb4edxR87EnAExl6V0edVlUn97QrXvbCzKNS96xxz1z8liCIKigyH5Xs61bc6p5YFTmk6oCqU0/ES4neAPVA1WTf+sRYLBiB47M6pTYZVabmJFJcfYKmlEwMOec/iOrWZA5qx5JjyZnz+z2j+71qOKMGnil10U7VFcFHiT4wO55d8B3Ua+M7kYHjsx5SJFKT6xC5+xj/3Ttfrb2WbBXitwR2KgvL8FHJyMojvMeeN0EOqeAIWKHbSnEvJe4FnsihP3xHhzfC04cFjs9yvHrKM7lzGKlWpBVfv2ZAlRSNg1rqQl9S/nofY9TqjYYjqghCUJTqUpWtmWN/Hh6b77sZJuKoznswnJ1w9MLehbVPz/6IsBWZQsEhWpdDdk/kdvfS+NGyQ9ATMa5f+NJo36UxYZ5I9zN9ic91lD98aKdKuqRwUKnXhQpf+Noqu6EBckgFuz6FHWkfpcSjdk+k4lfFcct6J23+z846vayFfUaxdZLQFSuWrlixTqmyW+GgMv/nYs0YUmFBNHJGlYCfriiaJJ6gxBN2T+Tz25E4R8Xz0BMx7uUPN2ZW6UiYJzI2aiw59Y2LP3wYRNVFjYNKvS5UN19pq/XwtsghFez6FM0ly6co8ZTdE3kWEYmzlrtq83869bphHSjUg69fM6CKssBBZf7P6rh85NKmNsgZFYagFE2Qtf2Z5/+UuFoeV2mxH8PZCUcv7F1Y+3QPuWB9dE3QJmbOoV25t+b6JvbIhxdsW407tX/fV23zq/jE2Q3YU26sb37rkvinWltwztghPksoj2v8uAPDtkjPnsIjelWQXcqZlP5JGRWwnBdrIRgJcFee8aFdEI5OOIY7E8CVmjPId32JiOP378kQx31oJ7nBIqi6XKJwlxLv2nPe5k/pjj+ePgfmvFmHk1qSjZMWGyzn7dytQuTKKyFcVA2iii6Fg5pt5VTr+dWrxm972xNnVAW4VKpEN5L3KfG+PeeteYM4XGrXDFum3eG3B5Knxd5xFvMNotKNJAeVUU7fvGFU+qUpcUgFy7LKntr/ixL/sue8jf5lLB4/9X2Y82a9V3sAiV+sGCzn7YdalpXneQgXVe1UtyBoHNSL3x6yvhqVH43+IoY4pALDo1KvVX5EiY/sOW/FZ07F+x5NtmXa9f67F/FNyO5xFPMNokqiwEFlmXYf5v8f+mp4rLP4tuSGo0lxidoNSjz33yM9L877gyI9I6TGeOHqeH+mXfa9bfDkC/MwnJ1w9MLehbVPz8iqsBWZQkG2cDrVw20x35H3m+IJb38CY77ow5pzrSdvNEIs5rtsXByJ+mhbCJbATtU0jYO6efkEsu9glHfwgNIeZ1QNuFQqO9LOQYk5wm0x39r5W+EfGn5kizRXebc6udwrj8Fyo8q1Xm3srtWaOKXKgsZBZZHmfNFx1uVxeYhDKnCpNPYCUm5KzB1ui/lmu9oWfxQ/C8Z8kfzln9aY92XEYr7LJ3QhLW9fCcF9tFM1TeCglrsxmry+8zWj+qV/PQ6pYOXW2CvG+SgxX7gt5tu7V1dcoOuHtkjzPaUF6dNuzk6uFs6A6tJFDiqLNP/705JdjRY/tJxRYQiK1lUQnmaO/WGR5oZrG+PT5xZgODvh6IW9C2ufnv3RYSsyhYJw2oLh4bact3Pdm+MvjqyBOW9oePkjsWNy77RYzlvM9D5kx409/BdVg6iqInBQ1yaaVr0VW4wWufojR1RZAAeuGjvSjqLEqHBbztvJ0m/iac032jLthHIiKap9YznK+Q+iiprAQWWZdjNbx1jt+rdGDqng+F5jNw1KUGKJcFvO25AZHXBEyy9hzhvqW7CclW/oBxbLeTsV1obk6Jaff3UOoqpukYO6/khr64tDuVGUtwVySAVHwBq7afAaJb4Wbst5U2e8jWvu/sqWaff20Zbk8rHqlqOcfzuVHTxzUFmm3agj1T0jmjVCjqgSDEFp7KZBWHim2B+Wabe4ZxM89spyDGcnHL2wd2Ht07E/sgu2IrtpUInWp1K4Lef/4YO38a6/VsKcf2+nCq+QbnPa+28ajHiUh5z5LYSHOoKo1HnloOb8PD+KO/omCpuXHOuQCnZ9LFFbqUqJVcNtOf+XOwzCZ3evsd00OBE5mEy78L4/N4quWBZdsZBTqsstclDZTYPGA7KionkKImdUEfjpOrtpEE2J0eG2nP+bUyfg7J71MOffs+9OcVI8vpH/poG72war0Zdb+R/qCKIqosxB/WSl1zi1aCAaOKO41yEV7Pp06oMJLkp0hdty/rO99gG+3y7BdtPg7Jw+xPwkH1+/ZkDVJYWDym4aSGVqoF6r8yBnVBiC0tlNgzKZY3/YTYNWk97CFa5/huHshKMX9i6sfbqHXLA+brcgn8u8TLvX6hXBs+sv9WfadShZBrfvv8Sfadf8XA0c2T7en2m3vZGBf4qMx7At0rOn8IieyaaJckr/gEy71HJg6lvqSIC78owP7YJwdMIxnBxuy7Q7XbEVHnErYxz/m3ZuF6SqisY6LBMfJ2SCZ3tOnzSfrJyFs2X5i0x9eM5MvD4H4/clnxJ5xZzw+1zsnt/Hdzzqjnl32QJcY9BMX9VTj81Tj+MxHATpdSR4acSlq7IoK+H/NzBTWhaWk9qysDVDu+dsx2mCJDKcEujI4XM2+t64khOP6bwyQxx3R8qKCqmiKnagxA4B6usRZWv0+Kmw71SR3TYF3m3LWqADHT4yjjcrkHBx8xqDiWrzr012qqRo/FRCqZYzKrgjSveNsiZ0psTOAWrZdjVrdBrU3Jenb+A4fUm3UwmDRg5B7FkVNi7/KnYsoe2x76s5pbpVhYPqWTwkVc+ZOKRKgMpyz7tRYrcA9eqpVjUmF5vmm/G1ZWvhC+c6ou/nxXuKfl9zI7tF/1nOCSF45HaqW5b5qYRSvQ6pCqCydbgHJfYIUMtEv1PjvaLrfK88C1AT7/yQkFisnV+ZjquF06eyYDcH9a2wFdXP5u5O2COFzqgKHE3M02lNifXD/7ueGP1TqtM/ZSNYLTu0ux399qALVvca3+GR/fLVyL1uPYlP2Ivh7ISjF/YurH16RlaDrehWdOUdWpd3wm3Kyu5OC0ihpz/YlAVznquKPmp+0K+s/Gh7JVR1ee4QLEEQVRD4qKjks6reR32qI4dUHVBVOisHUeKgcJuycvTDH0nlCkdses5ako4O9I4g6ojp1cuVKEPyPqjnmEo/DirTc/7rySPvgc+SPc6o4JlSUdBkXRlKiUPDbcrK39YK89X/9rhNWfD6uMbo+Sdv72LKyhulvCj5xEX+c9AgqlsX+ago/4fVrc9O1UcOqW5AZWHnEZQ4ItymrLzkqdu3+MApm55znxF10TfXS/P1awZUXZA5qEzPedPIJdbNH8YYzqgqHE06HU69M8f+MD3nok1qk1ebJ2M4O+Hohb0La5+O/XGD2+IiSwLVJtG6TAq04hsLf4iusvMjb8PLp2wKvF0rnPb+kL8jaVmoWOKkyPGI9Sf37AiiyqrIT/VQKnJI1QCVCfK9R4nvBagPtuxPoV54QV30VW/mh6Oftnby6/7mO5Q9+p8ZJas5peq6yEFtSOanUpEzKnimVHTJ1MP8gBI/CFBn3E2O7lWprpXjx2tptTA5MrhEagt7uGdHEFVWZH4qG03IIVUGVDqEhRmUOCNA/do86Z9HNRbeeUHVBq5PKHvS5Vdw5WrhDKiqqnBQw/JqCW+9PstgT347oso6HE1utyaPzhz7c236aX/Pzbp/GMPZCUcv7F1Y+/TsjwhbUZVlYR6tyzybJ0Je4ol4qCdCmP8asicSRJVkmY/KvC5CvS6vQ6oKqJqqaAspcaHNE/Gl4f8Yqf7PPeNyAnu+nK5YyClVU2QOKtNzTvV/nFHBbl5kGzAhnhLjbZ6I7yWeiEE9EcLmZcieSBBVkhQ+KvO6CPW6YhxSwa6PTUpxKSUutXkivjT8H0+q/8PVwhlQFVnjoDI951T/xxkVPI5KqbJbmZVp/g8B/g8B/o8P+D8+4P/4OPwfWYb1kWg7srpo4f9ZGiat+oys7EqY+mCiWWza1/h/742tXqhobfNi2A58qkWV6D/dOU3vBzvxmJ+mR7/SbxGq/ZsXVziRFL156CZjeoU9GLZFevYUPB5J66OJ8vKU/kkZFbCc1FHxVQX9xUiAu/KMD+3sOJlOOIZbHsDFHM5WQ9nSkhzZmpwhjvvQzu3WIJUa0q8p8etwm7Ly/GHvmJVOfGfTcz676w+j5vF3DKasHHk1n3H6TAhqe0FUakj5qKjB59nRhqU+rzMquCMqiooqKd9Q4jfhNmXlz4vGmZvqfmfTcy58dZQna+0LVrVHf1Z3Tx5H2B1Zp1RNEjmo7PCV3XNmN3EdUsGyLGpuRUiixKRwm7Jy06XvmCc2fWfTc57YOQtK6nwglikr92wRZtSpPI5/SxdEVdwKHxX1r//EKB73u8chFRoeXVNFQokk3Kas3L7wQPN5wWSbnnN5Zbtn34OyfC2cAVVXNA4q03PWH9Xy/NsnwXJGdcPRpFNXeRMlrvyPiwb9UxLY1Xr6pxhBemIXs/YzT33/g1/PecKeAWaZNskYzk44emHvwtqnZ2TBbXFRcimSmEzrkhxuUxacMv4L82t8wqbn7OpakzQdut/LlAX3x5VEYe3zhmAJ7FRqejmoTM85+dWyKNvWusgZFdwRpeujrggHKfFguE1Z0FXEZ67Z95NNz/BcvqnWunO6X4E35u09nlFXqjmlSoJb4aAyPcMtzYajp90nGg6pwKWimwJJPEKJR8JtyoJrvSfMxV/9bNNzvjKgKHn0oKFfWXnFsAboZqvDIcwOO9UtahxUpuf8xHxkjOjWBTmkgpVbctOd13FKPB5uUxY84b5ibsl6yaZnGJN7RVKzTrF8/ZoBVZMFDirTM9xRrQuaMfq44YwKQ1AStffansyxP0zPcF/bj8wsxhEMZyccvbB3Ye3Tsz86bEXVLcg/07r8HG5TVo4u384Uvz9r03PedW23dfKXnoQpK78941VPsj4lhNXZTpUFjY9qnZ5dkvyDaiGHVHDgKjHhzYuUeDHcpqxcuVVz84Pll2zvvBwtm92Ym78/Wd68RGJqNzml6qLGQWV6zkvjf/GO3VcfOaIq4JlSumOWBPkSJV4KtykrN+5f32w483ebnvNPh4nVsdVA/927etGlYyrNm8X/CkAQVRYEPmrSgfhSZMqWhsghFRwByy7FpVylxKvhNmXlT+YYJhp436bn3GXhNc/uyCZ8/ZoBVXWJHFSm5+xxZbNGLOyNHFHdMAQlu9yicDJz7A/Tc95CupkxZU5gODvh6IW9C2ufjv1RXLAVJUlV7tK63LV7IuNifkOr2h2x6Tn7GrVE3k6F/XrOW8f8Ym0qKfCvzkFUURM4qEzPud0znZx3/+x1SAW7PllWBfk+Jd63eyIbC4xDc8oct/k/V9tdM/q3fN2v50xXLC9dsZBTqiYIHFTm/3w9fDy59ODbJGdU8EypKCsuVfmLEv+yeyK7fuxjvPf+SZue8+PLMuo7RfbrORerVY7c61+cf3UOooqqyEFles4fL6TryvkHsQ6pYNfnf8nrESU+snsi3755zZo55ozN/zmQ623DnSjx9WsGVOoAcVCZ/zNl+hBycMFrhjMqDEH530q7kXn+zxdHq5sd9EMYzk44emHvwtqne8gF66NTg7oycw7tmJ5zYpYJZpeS3/j1nIsVG2P2n5/k13N2o+HmP1d9fj3n96a+a8b/+y2GbZGePYVH9DJ7ivRpSv8APefUcqDAcupIgLvyjA/tbDi3QCccwz0Nt+k5F/D1MocmHs4Qx31opwDhIEqVFblwRJYs7EuhPq7TYtPnm0vgUZ8ctsUG2QHPvdW6J/x6joSandt4a6wJ4ZmuICqdCvxURKleZ1RwR1RkL5KKRSmxaIB6vNjwTV+sqYrblA0sVfkf/5qasuuPSGbNGh49+tSCjU6pdCPJQY0TwhKZAF+Nwb9YDqlgWWY54UokJUYGqE0vzdzUp0MMLvnFUVsLswPZ4kpl696+GQlxb9c2br4xJgTzbadKbpGfiijVcEgFhsftditacUosHqB+dmHpprtzG+EnZQJHMH9021Cd5TGyfEauFs6AqigyB/XZ+vBEJsB36FpryxlVhqPJLatiXkr8979Hegj9UxLpn1INGNlvWuTc9PeNh2aj7kfxquNVN+Gv8+F1zw5jODvh6IW9C2ufnpFVYCuq1H8sR+tTLsIW8227JTtutPyULdJ8IbYayTLna3/MNyr/Y2vuqRCe6QqiipLIRyWtfw63vl9bGTmjgjuiopsdaVekxIoRtpjvmZF5cQHfWVukWQrPQxrur01ytyiR+GBrC3TjZBHHVNUtclBZpPncnu2eotorhkMqcKkUwSVqVSixSoQt5nu6SGF8cvhFW6S5Zqs6pPevPSwW822Y5aCVdWMIb+sHUUVR5qOS6fnaeGuFNUYOqWDlVlyyLFSnxOoRtphv2d5R+PMtV2yR5u3ewuTg/5rz9WsGVLekcFBZpLnG+J7G04urDGdUGIJSXJIsl8oc+8MizbvWPzcbVDyB4eyEoxf2Lqx9evZHg60oiYKg0vqogVa8HzY3MbLPObN4wgVbbvhMM8HIVbQx6ZxTiGat+luB7/mPz4KoTBuKm2pRKnJGBXdERYUdadekxJoBas489RKLLDhu7usUyAObFn2yStedI6wmPUf6M9IX7NcTw/uK1Z1S6V6Lgzr/s3LRbC6yXDCHVHB8ryiCIHgo0ROghv30OGHOvEPmrDp3bC1cf2deI/xxe/L9n/WimRXsILzOf3wfTNUVfqpFqcghFRwBK6rkEk1KNAPUSzs+Sfhi+EGzae2/X1A3tkHVWb4/y/vnauEMqLKgcVCH1s0dzdZOdsfBGRWGoBRVdClC5tifD389kPj3jevmb81+wnB2wtELexfWPh37owqwFXVBFRvR+jSyeSLoJZ6IQT0RlmmHQvZE7FSN7m35qMzrQtTr8jikgl2fyo60m1BiE5snYqbh/1ip/s9VuUE0XbEIXbGQY6qucFDZTYNU/8cZFTxTKqouTRWbU2JzmydivsQT8VBPhGXaoZA9kSCqrmh8VOZ1Iep1GQ6pYNfnf8mrFSW2snkiZhr+jzfV/+Fq4QyooiZwUNlNg1T/xxFVgSEo/1tptTPN/0HA/0HA/zGB/2MC/8fk8X9EWB9Zk7V/M+fQbtz4Solrhi81L1TeiSd5ZyaWfrbdjFpl4c7fW4nbyh01t13ai88t/y1Rn33VXP9jMoZtkZ49hUf0KnuKtE1K/6SMClhO6qgofjH7i5EAd+UZH9oF4eiEY7g2gUHYpUjBTVU+zIKLf3EiQxz3oZ0KhINEVaFr4ABKHBABc958L8l5IxuW+jzsiCXknLcgquhW+Kgsv8+qefwdyyEVuFSqRjeScZQYFwFz3nxpZNqh1Ey7+10qhh7zDaLSjSQHlR0TpmbaOaSCZVnVdbc4mBIHR8Cct90vyXmzisf97mVHoiHnvNmoGruBzEdl+X0kqfOBJIdUYHg0tjMYRonDImDO2+40Mu1QaqYdVwtnQJUUgYO6Zc67JDXTzhkVJoVr7FHbnpTYNuK/LRr0T4lOPe+3R3p8INPOBzLtfCDTzgcy7XaDTLvdHJl2qhu2Iv2fPIHWZUIEjPn6XhLzRefdP3suFyyKQo752qmiLmoc1JT4NvF2KoycUcEzpaLGjrQnU+LkCBjz9aURaUZBkebQct6CqLKscVBrTzjrDYo0h0oFLpXm1kR5KiVOjYAxX99LYr7on/MPksp8dN8IOeYbRNVFgYOaEt8mfafIyCEVrNyaSk3BNEqcFgFjvr40Is0oKNIcWs5bEFWURA7q4bhpVlCkOUQqDEFpbOc1MnPsz6R+s3wg0uwDkWYfiDT7QKTZxxFpVlXYipqmK3NpXeZGwJw330ty3tA/qBbLtEMh57wFUwWBj8ry+4yTv/REzqjgmVJRZ0fa8ylxfgTMefOlkWlnpGbajaTbnJBz/oOokihwUJ8tKYVSM+0cUsHxve5SdGURJS6KgDlvvpfkvKEpWxr6VX5CznkLoqq6yEdl+X1Gx1YDkUMqOALWJUHQllDikgiY8+ZLI9MOpWbacbVwBlSXIHNQk9FRIzXTzhkVhqB09p8PM8f+VO/7rg9k2vlApp0PZNr5QKadjyPTTtVhK7KbTqtpXVbbPZGX5PyTbFvrskw7FHLOfxBVUUUOasr9BtR06H6PI6oGnill9wx0ZR0lrrN7ImncNEBBNw1Cy3kLorp0kYPK/J+gmwahUoGfrqtuRdtAiRvsnshLcv6tEd26sEw7I+Sc/yCqosgc1JT7DejRg4aGQyrY9elsOUukxES7J5LGTQMUdNMgtJy3ICqtLQeV+T9BNw1Co6owBKVr1OB/lnn+D7hp4AM3DXzgpoEP3DTwcdw0UMVAfejK4ZZlVpfMybQjINOOgEw7H8i084FMOx9Hpp0GjuglgT1F+mVK/wQy7XxpZNq9GAlwV57xoV0Qjk44hvsyAmba+dLItEsTx/+mnSRCKnuFPTxTHyfccGtTYrvnu8yzzz7GUr4PEhXhC3PHiEU45+C6iWs2LjbvDV+Gh2TNlXhx0yzz6K9r8K2eaxNW9J5q5vo0EcNBkF5HgpdG2LGAIm9NGZgpLQvLSW3ZZkW/f5GxGto9ZztOElSR4bYGOnLO5n0b7w0eZ5YZvzNDHHdHakDPh1Ill3iaEk8HqAt7Cvif2efMu76ASMvUATnI3NeboM0DFhhdhzQmviYbrZ5DQhBpCaLKgsZHRUt7X479tFN74ozqhi3MVKTPUeI5cOY7OQbv3nTYXPg0INKCwoeTASdLGROf9zXKt/g7dGXlIKriUjioXXeOMDZfy0tu3m5CHFJlQGW55xco8UKAWvx+fXx1wF4z4khApOWTN6qRe2U1NKCzYLBnq2ZNvGBZd0MQaQmi0n7mo6K/9//iuWjEEIdUFVDZOvwrJf4aoH415U3c/Y9vzPZvTAmc5Z+eQIpeXBZ7OfvtWK4WTp/Kgt0c1Hmd7xkxP/xj/a9HDHFGleFoYp7OMUrc9x9Xf/qnpKUnNnvfa/jzto/N5j/E49n7KuDhZ34zf88/H8PZCUcv7F1Y+/SMLLgtTndwqqTcpHW5CZJsH1THhzcVxWUmBERaxrqykD3zt1l1OzZCrnptybxvfzD2RG4PwRLYqYoscFDf2HvC+PJaH7Qof2GPMyq4I0oNLcXeocQ7AarrqYr7jy2Nze4BkZamEe+Qpn03WfPL5DbYs51Hl4SRggNbEadUlyJwUJvNK23MnNsKNZuQlzikSoAquSXlD0r8I0DtObg2vlqrMq74ZUCkpXGuKuTnRhOtes1kdLWii9TPUgjNXHM9hH2AnapIIgd12PZXkbG7KWp455HHIVUBVBZ2/pMS/wxQK1Vvju+cd+HSwwMiLU9LjyNdn0VZm8/23cXVwhlQdVnmoOZ64ztjS2wDND7yseWMqsDRJKtu8Urm2J9XJpXHdXPmwbeeLsBwdsLRC3sX1j49+6PBVlQUQXtG6/Is0IrZJ1XFQwsUwIvvBoQDajZJtlzz2pKm3XZYWYv1IDmeTjLQNh9/bDSI6naJfFSjQf4PY2++1R85pIKtAtOmUrLSstmX6tAOkXGrkUWxGLfR9s5L/+xjrGdFdloj//csIWRlZTuVPbrNQR3z82zP80NhaNj2VsgZFTxTKrmYIFZ2Wnb2AHXzfQP/qZXAi94NiLTUGFKYjEqsT3LUf99aI2My4+Qu42JsvhBWZzvVLch8VNT5ZAPv/kYtkUNqIOYkidQREXLRsnMFqJ+eaoQ/dpfBm38JiLRc6j2aVC5xx3txosDXrxlQNZfCQR2tfmYsK58bfXa6IXJGBY+jUqoiyg8zx/6M8pTDq4vmwMk5V2A4O+Hohb0La5+O/dEF2IqirAmFaVsVjrR5Ig0aHTR7u1ZBT8SakrjUmNemA2GeSNOovy39yxBEWoKokiZzUKnXhYoM6US+EP6NdUgFuz4KFbSitOyikTZPZO7aHeb03Gtt/s+RYxON3OWmsxXLS1csRFcs5JSqCzIHlfk/ng3NyJkGhZAzKtzNs3tyQiQtOzLS5om80m6t+cHs9dATIfN71zKqd3iDME8k+c0y5JC5jT83I4gqqQoHlXpd6Cs3IqVfy+p1SAW7PlFx62JxWnbxSJsnsm75IvPWVwk2/2f7lrc8p7WCfP2aAVXRNA4q8382jzVIzSz5kCOqpsPRpMi6kjcy0/wf99+/mt9FLsNwdsLRC3sX1j49/0eE9dFEt8Lq8lXEfzt9fUl9tp1dYaaqeYxuRsy6RbJgoflSXLbIBfOi+6npGrsE10/416zd95G5YHA8Lv9jGO6R/NB8U2X7z0BbpGdPweORtD6aIpdK6Z+UUQHLSR0VcCTAXXnGh3Z2nE4nHMOVCgzCvUkVcN3Xn5hNwpdkiOM+tNMluAiy19AlWrYUCZWVzZcoK1u/7W2PhlWoREJWVg6iUkPKQU1RkUYbJy22nFHBHVGJeq2qotCylUiorGymoedsBek5h6YsGETVVJGDyihBes6hUsGyLEmKIOi0bD0SKiubL1FWJqO/iEH5C1UlISsrB1N1hYOaoiKN4hcrlkMqMDwS066OpWXHRkJlZTMNPWcrSM85NGVBO5VpV3NQ67TrZwXpOYdIhdESSaaucjVadunI/y96Yn5hIruemAn0nE2g52wCPWcT6DmbQM/Z5NBz1t2wFRVFFevRutSLhMqC5kuUBUnYvOSklWHNSMjKgkFUt6pwUFNUFFG3Oe2RMyq4IypRn1UQGtKyG0ZCZUEzDT1DK0jPMDRl5WCqrnBQCzStRIL0DEOlApdK0mVVbEzLbhwJlQXNlygLkoEzinsm/dKFhKwsGER1KxoHNUVFERWPb4QcUsHKLTPt6ma07GaRUFnQTEPP0ArSMwxNWTmIqmkCB3XJW/9YQXqGIVJhCEoWqKuMMsf+nO940AR6hibQMzSBnqEJ9AxNDj1DXYWtyDSw2tG6tIuEysr4JcrKVotc/UnRt1xWyMrKQVRZ1jioKSrSSWNy7zScUcEdUUmWqCfSkZbdMRIqK+M09JxJkJ4zFB8MmaorGgf176c5UZCec6hUcHwvuyVZ7kLL7hIJlZXxS5SVSZS3BfmxNUoKWVk5iCrLAgc1RUXayDf0A8MhFRwBy0y7ujstu3skVFbGaeg5kyA95/RbOAOq6hY5qLfHlkRBes4hUmEISqZVFVpmjv0ZWuGuCfScMdBzxkDPGQM9Z8yh56zrsBU12aUMoHUZADyRh3lwqnZ9aituXj6B7DsY5Rk8oLT36ZaEpGXj4kjUR9tC2AnZqZIocFAXH8qLPqw513jyRiPikAp2fbKuynIcLTsuQJ1cNgrXzt8K/9AwED7cU1YnVd6tTi73ymPQFcsIWVk5iKrJAgdVntgM5YuOsy6Py0OcUOl+C/jpbhYrHUzLHhygXspZAWe72hZ/FB8IH5a7MZq8vvM1q/qlf73TGtc3lk/oQlrevsIdPgymSi6Rg1ogPCeSv/zTGPO+TBxSwa7P/5LXMFr2MLCaxUm4d6+uuEDXQPjQ+uBVck9pQfq0m7OTq4UzoCqizEHtV6Qr+venJbsaLX5oOaFSq6dDqiyJPTPH/nw/4qHZcG1jfPrcAgxnJxy9sHdh7dM95IL1kV26yOqSCYd2zU6sM4Geswn0nE2g52wCPWczYz1nOio0WB+6yRqZ0j8BPWczDT1nI0hg2b8rz/DQLgjnphOO4UZGQj1nMw095zRxvId2igCEgyjVLcizadmzA9SdB7KYZbsr+Mzcb19QzTwGuvGwMhm/ZYd3+plXSELfv6whN92E36TZqbTufFSypGBla56nAnJIBS6VW6UbyY9p2R8HqDe3f4rqX4nBldcl2+757N6ZnXzyXR0y8b2SiaHGfIOpdCPJQWVJz+yes7vxLY9DKliW3bqoK/No2fOA+e6XHV1Ua+GktoEE3EH7SqLE7zDZOLuv9SC7mxQacsDqUSSC8BtSO1XSRT4qybHiE+/dGQ2RQyowPIqgCNpCWvbCAPXctGTv/joNccLcwK0NlpvKbpGHVW3J168ZUFVB5qDe6jCQxExqY5TItsxwRhUlSKXuwAe07NH/cdGgf0p06nk/MLIRrw02z5SNxgeHETx7jWoO3+/C3SvtwXB2wtELexfWPj0jK8NWFCVFW0HrsiLQitsLDDJvdy+NHy079KIVb+TKhgpf+Noou6EB+Xrc4NjuZ/oSn+uoxT877FRRFTmo+s9PjesXvrTad2mMnFHBHVFJYUfan9OyPw9Q97V716z4VXHcsl7gFm6XUVNjd9bpZS3sM8r/yn3zq6WTyoQNTHJKVXWRgzrklrjrYs0YUmFBNHJIBS6V4nYp2lpa9lqweM6MMz+/HYlzVDz/gjp9bzZUN19po/XwtmT0inqxY6PGklPfuEJwH+1UUZE5qI96PDHu5Q+3ZlbpiBxSwcqtKNRTWE/LXh+g7lj7jvksIhJnLXc1UNfrs2I79bphHSjUg69fM6C6VYWDOn/IxV2r4/KRS5vaIGdUGIJSFEmT4zPH/hirB5klrpbHVVrsx3B2wtELexfWPj37o8BW1ERZ2Ebrsi3Qiu3XbTZ73FHwsScBT2ToXZ3s61bc6J5YlYwYmA89KnXPGvfMFcLqbKe6ZJmPijqtqo7uaVc8zqjgjii1PtQT2U7L3h6gHqiabK5PjMWCcSAQZiq1yaoyNSeR4uqTz3o1jA415z+YSucHB7VjybHozPn9ntH9XjUcUsHxveoSZGEnLXsnmB3PLpgH9dr4TmTgJYseUiQZWXmE59jzJv67d75aey3ZKhTC6myn0vryUZGaXAfJ3ccYDqngCFgV6V7SS8v2Ak/k0B/m0eGN8PRhP76g5nj1lHdy5zBSrUgrvn7NgCrLGge11IW+qPz1Psao1RsNZ1QYglJF0a0kZI79eXhsvnkzTMRRnfdgODvh6IW9C2ufnv3RYCvKLpf4Ha3Ld3ZPZNHtJnjrbS/0RKwJhzuTLIeTYpknkndtmLfgsQkhWAI7VXApHFTqdZHfm3ZE09YX8zqjgjuiksqOtA/Qsg/YPZHk851w7uWWzf/xJrYg0YeL+N8eoCtWLF2xYp1S3ZLCQWX+z+/Z+qBXepy2HFKBn64quks8RMs+ZPdEcr03EK9p6IOeiHU9sj1ZuQ1ZzBNp/ndro2z30SFYAhtVFQSNg0q9LtJy0VvId1kwHFLBrs//ktdRWvZRuyey6POxWL6yx+b/3L9dkcRVw3z9mgFVEgUOKvN/vA3HoM7v1racUWEIyv9Wmi/z/J969zy4mdvCcHbC0Qt7F9Y+PfvjgvVhl9RHZ86hXbm35poTe+TDC7atxp3av29W2/wqPnF2A/aUG2vOb10S/1RrC84ZO8S0hPK4xo87MGyL9OoDj+g19hTpiZT+SRkVsJwXayEYCXBXznFoZ8O56IRjuBMBXKk5g8zrS0Qcv39PhjjuQzsXEA6iVFEQfqNl/2bPeYtoPMVUD3wLc96ML0pEoF9XVSAs5+3dXRMs6X8Kv/kOpuoKBzXbyqnGyKvDyDs5v/U4pAKXSpPoRvIWLfuWPeet85Fm5qobybZMuz6vFULi4brEScw3mEo3khxUdvj6xrv9SckLDzwOqWBZ1mRdF+/Ssu/ac946qSXNN1cehjlvxsMfs6HpfzUkLOft+ObfrWKvhHB8Zqe6BU3joF789pCx/7Pu5ExynOGMCo+ANUUS5Pu07Pv2nLfXqpxBta+esGXaTemZZFzK24o4ifkGU2VB4KCyTLuzx/oTVHGF4YwKk8I1RRS0S7Tsk/890vPivD8o0tNH9ZrvLSH+TLv2vywzk9vswXB2wtELexfWPh0j65JhK2qCIv9D6/KPPeY7zbPc7FzZgjFfsuDPNmjYjuexLOZ7OcYXq14MwX20U1Vd0Tiom5dPQHnDmnjWXF+V5JAKXCqNHWk/p2U/t8d8u2z42Nx+zbJFmv9Ztdu4c+9VFvO1Rnz7Nlm+Qk1ySpU1jYPKIs2eyset0VdOWg6pwKXSBTo/skVREx5li/nGvDnFrLTEB2O+RFfeRCcM1WIx3+OxW71di4fgPgZRdUXgoJa7MRqdf9DHc3tHLcMhFazcuuhSlRyUmCPKFvNddbmfGW3utUWaK9b81DgZXouvXzOgiqrIQWWR5sbrrliFchiWMyoMQenU/Ah/ZY79YZHm4j8mmvd6WhjOTjh6Ye/C2qdnf9ywFem/SkHaggWjbDlvj13Xzd3F98OcN6K3+dLa673mZTlve0a40DdRUgiWwE7VZIGDujbRNG4O1dAPZ6sgZ1TwTKmksyPtIpRYJMqW89Y87JF5tuMBW6bdukKLvet+ru8o5z+YKikCB5Vl2p0f3wb9Hl/IcEgFx/e6okpKOCWGR9ly3prcyIbfVY7AnDfyyw6PdWvROIvlvMW0bYnaXyocgiWwU6m3x0Fdf6S1kUsriJr2bYIcUsERsE53KloUJUZF2XLeqpTNjZ/P+9GWaXfnm+LGTW8rRzn/wVSXLHNQWabdoMkq+n77BsMZFYagdJWO4txRmWJ/WKbdnTEnzB4T92A4O+Hohb0La5+e/VFhK7KbTmVpfcpG2XL+PzAPmPG7DsGcf0/e94qRTqPeICznPyzsJ6PfN8f5w4dBVNUlclBzfp6fnJs8zzoV3wA5o4JnSmWBHWmXp8TyUbac/2WNDpv7O5+03TRY2/JXz81vRvlz3uiKheiKFeuUKkoiB5XdNOhab52xa1515JAqA6qoCFolSqwUZcv5L7DwqLnUcx7m/HtHH8lKCs3sQFjO/+nD14yG1VT+8GEQVRVkDuonK73Wk5t7rekJbZFDqgqozCuoSolVo2w5/3lLHTOL1rxqu2mwplAH49GWHnz9mj6VHTxzUNlNgwdFRhrf33sTOaOqcDRJmiiXyBz7w24aRE/bZxqD9mM4O+Hohb0La5+e/RFgfdxuTT6ZeZl2TbvdN3Xvan+m3aROv5jrb27wZ9od7HDMfKvDFn+m3ZD535qJD3Zg2Bbp1Qcc0csCe4o0OqV/QKZdajkw9S11JMBdecaHdkE4OuEYLjrKlmn3du5vzLi7ezLE8b9p55IgVZM11mGZ+Dhhi3dHoT2nT5pPVs7C2bL8haY+PGcmXp+D8fuSqUReMSf8Phe75/cxj0fdMe8uW4BrDJppVj312Dz1OB7DQZBuR4qgjqqbzvCo/xuYKS0Ly0ltWdiaId1zDsJpLpfIcEKgI4fP2Wi+cSUnHtN5ZYY43o6UFTecfZokyKwTs2YJdGQef0duQOyjlsT/xS9u5/+m3mzh/wZ5Gvk/amH8X4Nfa/o/SZL8X+pASLFwBHRsnizwn7b40/VTEyZFjkfVH7TDhapmT+xtPEWRxzvhO7lqJ/7TWTcfznobPx8zPlH8dZB5s1B/XON4fGJkxU/MRsZQXO+nrYl376w38z8Yj7+7nZzY5TYxq06ZiuHASbfD4drFnpsTo/5vUKf0ACznRRD4jS4vWp0ZbTpuq7M68nS4DadoAsOJgQ7Xql5L3LXvrPl42JwMcel3eNQLKuxtXVNF1tOwtwuyVyBvZjXZN8izHrEvfvEZ/zdnz0n/N/XmMf83puhh/zfIc8D/9eq13/91nLPH/7XcYfm/Br/u9H+evNv9nyRt9X+VO27yf6mjK43RUTDLS/9BgZ8+8Pt1M/C7K/j9Efi9Gfw+Cn7fA79z48DvKPC7Evitgd8NMBzF6Y6ywAmR7GI3BeWo/+uD14Or2BbzjCJYHHNpWXFyVBrFdcXpjpL/Bz/KMVk=",
        "encoding": "base64",
        "path": [
         "scene",
         "data"
        ]
       }
      ],
      "model_module": "pgljupyter",
      "model_module_version": "^0.2.1",
      "model_name": "LsystemWidgetModel",
      "state": {
       "_model_module_version": "^0.2.1",
       "_view_module_version": "^0.2.1",
       "axes_helper": false,
       "derivationLength": 42,
       "layout": "IPY_MODEL_422a089830fa4be990f7d2e682534182",
       "light_helper": false,
       "plane": true,
       "scene": {
        "derivationStep": 41,
        "id": 41,
        "scene": "<openalea.plantgl.scenegraph._pglsg.Scene object at 0x7f8b86a49c10>"
       },
       "size_display": [
        600,
        400
       ],
       "size_world": 50,
       "unit": 0
      }
     },
     "077c655a00ab41bb91239523d5e0bf21": {
      "model_module": "@jupyter-widgets/controls",
      "model_module_version": "1.5.0",
      "model_name": "ColorPickerModel",
      "state": {
       "description": "emission",
       "disabled": false,
       "layout": "IPY_MODEL_b5ad4c581bca4efb9e0e4e91dd0fc2fd",
       "style": "IPY_MODEL_3b8516e57df04b72aa4033410b7cc6fb",
       "value": "#000000"
      }
     },
     "079c5f2baafc43b7b370beb033b53a66": {
      "model_module": "@jupyter-widgets/base",
      "model_module_version": "1.2.0",
      "model_name": "LayoutModel",
      "state": {}
     },
     "07fb05e1465a436cb2c1b6e04d7bcaca": {
      "model_module": "@jupyter-widgets/controls",
      "model_module_version": "1.5.0",
      "model_name": "HBoxModel",
      "state": {
       "children": [
        "IPY_MODEL_2cabd356816143a89ce79e41bd309ed4",
        "IPY_MODEL_5f2b9448d4664b19bc2be431e51cf147"
       ],
       "layout": "IPY_MODEL_f84fb842bfdc4ca69b673ea45abcdf91"
      }
     },
     "0878b557ddb746429eeb675a0056475d": {
      "model_module": "@jupyter-widgets/base",
      "model_module_version": "1.2.0",
      "model_name": "LayoutModel",
      "state": {}
     },
     "08a086db9f984b649195bfba6e845663": {
      "model_module": "@jupyter-widgets/base",
      "model_module_version": "1.2.0",
      "model_name": "LayoutModel",
      "state": {}
     },
     "08c9c604a4d44fa3be0d38a0cee344e7": {
      "model_module": "@jupyter-widgets/controls",
      "model_module_version": "1.5.0",
      "model_name": "ButtonModel",
      "state": {
       "description": "Apply changes",
       "layout": "IPY_MODEL_0878b557ddb746429eeb675a0056475d",
       "style": "IPY_MODEL_a9567de3ebd14a1ea85f21b1ea294e13"
      }
     },
     "096662ccdbc443409d73c22d5e8dd3d3": {
      "model_module": "@jupyter-widgets/base",
      "model_module_version": "1.2.0",
      "model_name": "LayoutModel",
      "state": {
       "margin": "10px 10px"
      }
     },
     "09963fa2ce5e420ab1d9fea614e93db0": {
      "model_module": "pgljupyter",
      "model_module_version": "^0.1.21",
      "model_name": "ParameterEditorModel",
      "state": {
       "_model_module_version": "^0.1.21",
       "_view_module_version": "^0.1.21",
       "children": [
        "IPY_MODEL_49142d5fe84f451ca57bf7979546be3b"
       ],
       "layout": "IPY_MODEL_72233f9b078644c7b23019e335582338"
      }
     },
     "09ab73e88d6a48cf971284095d2d93ee": {
      "model_module": "@jupyter-widgets/controls",
      "model_module_version": "1.5.0",
      "model_name": "SliderStyleModel",
      "state": {
       "description_width": ""
      }
     },
     "09b8c80f45194de3b8dde10dedf91332": {
      "model_module": "@jupyter-widgets/controls",
      "model_module_version": "1.5.0",
      "model_name": "SliderStyleModel",
      "state": {
       "description_width": ""
      }
     },
     "09b9272d2fe1478a8549297784bc14dc": {
      "model_module": "@jupyter-widgets/base",
      "model_module_version": "1.2.0",
      "model_name": "LayoutModel",
      "state": {}
     },
     "09c7f894138a4a89baf5dd67159d2b84": {
      "model_module": "@jupyter-widgets/controls",
      "model_module_version": "1.5.0",
      "model_name": "DescriptionStyleModel",
      "state": {
       "description_width": ""
      }
     },
     "09d6bc5c5f48421884c5070738ff6283": {
      "model_module": "@jupyter-widgets/controls",
      "model_module_version": "1.5.0",
      "model_name": "ButtonStyleModel",
      "state": {}
     },
     "09f0b20c3d9a4a7b8d6f767b7e7153d6": {
      "model_module": "@jupyter-widgets/base",
      "model_module_version": "1.2.0",
      "model_name": "LayoutModel",
      "state": {}
     },
     "09fe84e4c04243fdb4d5769ae0bf8f00": {
      "model_module": "@jupyter-widgets/base",
      "model_module_version": "1.2.0",
      "model_name": "LayoutModel",
      "state": {}
     },
     "09fefb88b02d40be9097130da4296139": {
      "model_module": "@jupyter-widgets/controls",
      "model_module_version": "1.5.0",
      "model_name": "DescriptionStyleModel",
      "state": {
       "description_width": ""
      }
     },
     "0a200097686c4829bf34b9b3a60ec5a8": {
      "model_module": "@jupyter-widgets/controls",
      "model_module_version": "1.5.0",
      "model_name": "DescriptionStyleModel",
      "state": {
       "description_width": ""
      }
     },
     "0a40116d2d3a429698a87f2d38fdcbf3": {
      "model_module": "@jupyter-widgets/base",
      "model_module_version": "1.2.0",
      "model_name": "LayoutModel",
      "state": {}
     },
     "0a5f03bd97534a8ca13154d454ca0303": {
      "model_module": "@jupyter-widgets/base",
      "model_module_version": "1.2.0",
      "model_name": "LayoutModel",
      "state": {}
     },
     "0a605ffb4f624917ba41278f33b71117": {
      "model_module": "@jupyter-widgets/base",
      "model_module_version": "1.2.0",
      "model_name": "LayoutModel",
      "state": {
       "margin": "10px 10px"
      }
     },
     "0a6d0b4bd02e4ac1817c689e8e7470fa": {
      "model_module": "@jupyter-widgets/base",
      "model_module_version": "1.2.0",
      "model_name": "LayoutModel",
      "state": {}
     },
     "0a8707e65f2346558a9ab598cc46de95": {
      "model_module": "@jupyter-widgets/controls",
      "model_module_version": "1.5.0",
      "model_name": "DescriptionStyleModel",
      "state": {
       "description_width": ""
      }
     },
     "0aafc59276204d4698648b7214e955f0": {
      "model_module": "@jupyter-widgets/controls",
      "model_module_version": "1.5.0",
      "model_name": "FloatSliderModel",
      "state": {
       "description": "shininess",
       "layout": "IPY_MODEL_8f5d620157024ed59ea59efe6b680541",
       "max": 1,
       "step": 0.1,
       "style": "IPY_MODEL_edf855758a43462cb032faf769489da2",
       "value": 0.2
      }
     },
     "0ad76cfac5bf42b888ea2df3009775c8": {
      "model_module": "@jupyter-widgets/controls",
      "model_module_version": "1.5.0",
      "model_name": "TextModel",
      "state": {
       "continuous_update": false,
       "description": "name",
       "layout": "IPY_MODEL_246aab4cbf43464abba1e73dd3237707",
       "style": "IPY_MODEL_51cda50444954095a823aa105a82bfa7",
       "value": "apex"
      }
     },
     "0adb42962e0d46d8a508e6187f7b3e19": {
      "model_module": "@jupyter-widgets/controls",
      "model_module_version": "1.5.0",
      "model_name": "ButtonStyleModel",
      "state": {}
     },
     "0aea6c9bfdb24c3a9046b8a0c0ca6aa6": {
      "model_module": "@jupyter-widgets/controls",
      "model_module_version": "1.5.0",
      "model_name": "SliderStyleModel",
      "state": {
       "description_width": ""
      }
     },
     "0aebf2695c55434aac60a9421030c373": {
      "model_module": "@jupyter-widgets/controls",
      "model_module_version": "1.5.0",
      "model_name": "SliderStyleModel",
      "state": {
       "description_width": ""
      }
     },
     "0af1bb03cbd844ea9bfc0d9b864d0f8d": {
      "model_module": "@jupyter-widgets/base",
      "model_module_version": "1.2.0",
      "model_name": "LayoutModel",
      "state": {}
     },
     "0b0218a48fab482ca3ef910ddb9948e7": {
      "model_module": "@jupyter-widgets/base",
      "model_module_version": "1.2.0",
      "model_name": "LayoutModel",
      "state": {}
     },
     "0b86b005791f45fb93ef1e515e62e1e2": {
      "model_module": "@jupyter-widgets/controls",
      "model_module_version": "1.5.0",
      "model_name": "DescriptionStyleModel",
      "state": {
       "description_width": ""
      }
     },
     "0b93168b9537476da57b957c67d41cc5": {
      "model_module": "@jupyter-widgets/controls",
      "model_module_version": "1.5.0",
      "model_name": "SliderStyleModel",
      "state": {
       "description_width": ""
      }
     },
     "0b974aa9e4cb4b4d87d799dd6e18b83c": {
      "model_module": "@jupyter-widgets/base",
      "model_module_version": "1.2.0",
      "model_name": "LayoutModel",
      "state": {}
     },
     "0ba2cab9cc9d4511aad569640dfc3012": {
      "model_module": "@jupyter-widgets/controls",
      "model_module_version": "1.5.0",
      "model_name": "DescriptionStyleModel",
      "state": {
       "description_width": ""
      }
     },
     "0bfc733f831346d3bfd46bb08e6ed994": {
      "model_module": "@jupyter-widgets/controls",
      "model_module_version": "1.5.0",
      "model_name": "FloatSliderModel",
      "state": {
       "description": "diffuse",
       "layout": "IPY_MODEL_8929ac5c489944b49d22387a7dca08f4",
       "max": 3,
       "step": 0.1,
       "style": "IPY_MODEL_6b54e408638a4d85935aa261112cb2bb",
       "value": 1
      }
     },
     "0c214a765182457a8496273eb3ddc16b": {
      "model_module": "@jupyter-widgets/base",
      "model_module_version": "1.2.0",
      "model_name": "LayoutModel",
      "state": {}
     },
     "0c240000ec0a4039a85b00acba556d7e": {
      "model_module": "@jupyter-widgets/controls",
      "model_module_version": "1.5.0",
      "model_name": "TextModel",
      "state": {
       "layout": "IPY_MODEL_994ff1c50b4e44a6bb5d4ae45fea71f2",
       "placeholder": "category name",
       "style": "IPY_MODEL_e66efffcd57d411fa07184989115562f"
      }
     },
     "0c2bee5a70fb46b2acac86b96cb0aab2": {
      "model_module": "@jupyter-widgets/controls",
      "model_module_version": "1.5.0",
      "model_name": "HBoxModel",
      "state": {
       "children": [
        "IPY_MODEL_7cdabb93fcbc40419bf289a63174c418",
        "IPY_MODEL_a168b04a2dbf49739b7e62715ebafb2f"
       ],
       "layout": "IPY_MODEL_4d77f69f74244057baec36b232f87f78"
      }
     },
     "0c375f6ffc5f415bbfbaa228315317b0": {
      "model_module": "@jupyter-widgets/controls",
      "model_module_version": "1.5.0",
      "model_name": "DescriptionStyleModel",
      "state": {
       "description_width": ""
      }
     },
     "0c3945d18ad84ce68b356bc7fec1acc8": {
      "model_module": "@jupyter-widgets/controls",
      "model_module_version": "1.5.0",
      "model_name": "ButtonModel",
      "state": {
       "description": "Delete",
       "layout": "IPY_MODEL_68a0a5b32660431c972bf9ccdf174f33",
       "style": "IPY_MODEL_5dec0cf2269d486da8492dee4e84b3f8"
      }
     },
     "0c3bbdec026d428494f07dd37de034a8": {
      "model_module": "@jupyter-widgets/controls",
      "model_module_version": "1.5.0",
      "model_name": "HBoxModel",
      "state": {
       "children": [
        "IPY_MODEL_9f2dbce166f945239d5998018bbaae65",
        "IPY_MODEL_5eac464e5de54b27a961eb229e40565b"
       ],
       "layout": "IPY_MODEL_fcb828149d8b4587a737cf0adaca9f9c"
      }
     },
     "0c45408378854d9db7aa0e37104b7d14": {
      "model_module": "@jupyter-widgets/controls",
      "model_module_version": "1.5.0",
      "model_name": "SliderStyleModel",
      "state": {
       "description_width": ""
      }
     },
     "0c4ef21d02cd4d5098cab60592f95c54": {
      "model_module": "@jupyter-widgets/base",
      "model_module_version": "1.2.0",
      "model_name": "LayoutModel",
      "state": {}
     },
     "0c7c19e5f2d64c77816e00b8b2cd8eea": {
      "model_module": "@jupyter-widgets/base",
      "model_module_version": "1.2.0",
      "model_name": "LayoutModel",
      "state": {}
     },
     "0c8a2a58cf5a4f328c2bf47875084bee": {
      "model_module": "@jupyter-widgets/base",
      "model_module_version": "1.2.0",
      "model_name": "LayoutModel",
      "state": {}
     },
     "0ca1da812e904b3597a1f8d0066aa817": {
      "model_module": "@jupyter-widgets/controls",
      "model_module_version": "1.5.0",
      "model_name": "IntSliderModel",
      "state": {
       "description": "value",
       "layout": "IPY_MODEL_3fb78370b75d48e69e4114fc1065c34c",
       "max": 10,
       "min": 1,
       "style": "IPY_MODEL_ef02132854ed4c2993d244c63b2f1da8",
       "value": 2
      }
     },
     "0cb243c061d34b35a8ad51de93b3548a": {
      "model_module": "@jupyter-widgets/controls",
      "model_module_version": "1.5.0",
      "model_name": "DescriptionStyleModel",
      "state": {
       "description_width": ""
      }
     },
     "0cb6db6109a04c959a1aa9f31415ddf1": {
      "model_module": "@jupyter-widgets/controls",
      "model_module_version": "1.5.0",
      "model_name": "ColorPickerModel",
      "state": {
       "description": "ambient",
       "disabled": false,
       "layout": "IPY_MODEL_d77925c6797142988e94711a23d04d7b",
       "style": "IPY_MODEL_9baabb8054da4869a9a5271e3cb0fc84",
       "value": "#0fc4db"
      }
     },
     "0ce5322222f04cda8b64b0849f810223": {
      "model_module": "@jupyter-widgets/controls",
      "model_module_version": "1.5.0",
      "model_name": "DescriptionStyleModel",
      "state": {
       "description_width": ""
      }
     },
     "0cf1ba00ad3c4151acf3b5aaf9391ece": {
      "model_module": "@jupyter-widgets/controls",
      "model_module_version": "1.5.0",
      "model_name": "DescriptionStyleModel",
      "state": {
       "description_width": ""
      }
     },
     "0d137c7adb8f46d4a424e69649dea26f": {
      "model_module": "@jupyter-widgets/controls",
      "model_module_version": "1.5.0",
      "model_name": "ButtonModel",
      "state": {
       "description": "Add category",
       "layout": "IPY_MODEL_afdd149476764870a23c9d46dfe6ec0b",
       "style": "IPY_MODEL_1d2e9bf12109429982866039d15abe82"
      }
     },
     "0d2e16e55e4f4049983e0cbb83eb2316": {
      "model_module": "@jupyter-widgets/controls",
      "model_module_version": "1.5.0",
      "model_name": "DescriptionStyleModel",
      "state": {
       "description_width": ""
      }
     },
     "0d310866a28c4c1ab0562409f5a1baa5": {
      "model_module": "@jupyter-widgets/controls",
      "model_module_version": "1.5.0",
      "model_name": "TextModel",
      "state": {
       "continuous_update": false,
       "description": "name",
       "layout": "IPY_MODEL_ec80a43c5a3b4523b4da1e7a74a8af65",
       "style": "IPY_MODEL_2db8651a2bd342e7b9af50736d9bfac4",
       "value": "nb_axes"
      }
     },
     "0d347c8d511c4ca99b99c3030263eb62": {
      "model_module": "@jupyter-widgets/base",
      "model_module_version": "1.2.0",
      "model_name": "LayoutModel",
      "state": {}
     },
     "0d6a37d535614710acb801033c6e1b4b": {
      "model_module": "@jupyter-widgets/base",
      "model_module_version": "1.2.0",
      "model_name": "LayoutModel",
      "state": {}
     },
     "0d8106747f5f4d0a81928341852045a2": {
      "model_module": "@jupyter-widgets/base",
      "model_module_version": "1.2.0",
      "model_name": "LayoutModel",
      "state": {}
     },
     "0d9fd6ec11924ab2913f7e03abfb6b50": {
      "model_module": "@jupyter-widgets/base",
      "model_module_version": "1.2.0",
      "model_name": "LayoutModel",
      "state": {}
     },
     "0da3b2dee6664cc7b1a2fa15b9e6ce36": {
      "model_module": "@jupyter-widgets/controls",
      "model_module_version": "1.5.0",
      "model_name": "DescriptionStyleModel",
      "state": {
       "description_width": ""
      }
     },
     "0daf2556cff5466a8f88c6b061377e55": {
      "model_module": "@jupyter-widgets/base",
      "model_module_version": "1.2.0",
      "model_name": "LayoutModel",
      "state": {}
     },
     "0dd2e4883c6742ebb5b505b2aecc37c1": {
      "model_module": "@jupyter-widgets/controls",
      "model_module_version": "1.5.0",
      "model_name": "DescriptionStyleModel",
      "state": {
       "description_width": ""
      }
     },
     "0ddc4da3ab684f75a000be5326010a3f": {
      "model_module": "@jupyter-widgets/controls",
      "model_module_version": "1.5.0",
      "model_name": "ButtonModel",
      "state": {
       "description": "Delete",
       "layout": "IPY_MODEL_df83175491804b5cb47348424a380b78",
       "style": "IPY_MODEL_1145eb1b6344415fbe5da4345ed32841"
      }
     },
     "0df3c48cd89940ce80485ec6fb57722c": {
      "model_module": "@jupyter-widgets/controls",
      "model_module_version": "1.5.0",
      "model_name": "HBoxModel",
      "state": {
       "children": [
        "IPY_MODEL_e9ac5fcbb97347d7a1f9f9cc7558252d",
        "IPY_MODEL_f9ee036e79134257a314bedd8f10beed"
       ],
       "layout": "IPY_MODEL_78dff3c9b0ab4092885a4681b708b9c4"
      }
     },
     "0dfd63902b034d3a9cf7782c9e751b71": {
      "model_module": "@jupyter-widgets/controls",
      "model_module_version": "1.5.0",
      "model_name": "DropdownModel",
      "state": {
       "_options_labels": [
        "trunk",
        "leaf_new",
        "apex",
        "leaf_old"
       ],
       "index": 0,
       "layout": "IPY_MODEL_d03612b14f984819821e89add2e8abfb",
       "style": "IPY_MODEL_81614fbd057b49b38cf6c260521fd79e"
      }
     },
     "0e1758e5f97c4775894b0a98513a546f": {
      "model_module": "@jupyter-widgets/controls",
      "model_module_version": "1.5.0",
      "model_name": "ButtonModel",
      "state": {
       "description": "Add",
       "layout": "IPY_MODEL_2fa0e323165245eba4d3e15b8215c92f",
       "style": "IPY_MODEL_d32aaba5fabf43e1a51a446cc716f021"
      }
     },
     "0e54aa9513264caeb2d9412ade1c3ad8": {
      "model_module": "@jupyter-widgets/controls",
      "model_module_version": "1.5.0",
      "model_name": "HBoxModel",
      "state": {
       "children": [
        "IPY_MODEL_62ecce380a4540f0ac0dd9486d3912a5",
        "IPY_MODEL_392b749f9bc940b58e80d0758f80a01e"
       ],
       "layout": "IPY_MODEL_c0716141b1a941c88943b77a968d0bcb"
      }
     },
     "0e592e8a9b8343179820de7ac2999dbb": {
      "model_module": "@jupyter-widgets/base",
      "model_module_version": "1.2.0",
      "model_name": "LayoutModel",
      "state": {}
     },
     "0e698e6988a94950922b8014c320bdf8": {
      "model_module": "@jupyter-widgets/base",
      "model_module_version": "1.2.0",
      "model_name": "LayoutModel",
      "state": {}
     },
     "0e6cde1ebdac4f53af7c24a9ba0b8c11": {
      "model_module": "@jupyter-widgets/controls",
      "model_module_version": "1.5.0",
      "model_name": "DescriptionStyleModel",
      "state": {
       "description_width": ""
      }
     },
     "0e83125bafcd45128549f748b59b3649": {
      "model_module": "@jupyter-widgets/base",
      "model_module_version": "1.2.0",
      "model_name": "LayoutModel",
      "state": {}
     },
     "0ebdabd5351f4a218569ece12d364cf5": {
      "model_module": "@jupyter-widgets/controls",
      "model_module_version": "1.5.0",
      "model_name": "ButtonModel",
      "state": {
       "description": "Delete category",
       "layout": "IPY_MODEL_468860202d6c4c5cbdaf75ab248c2dfa",
       "style": "IPY_MODEL_68be4ec169ab4ce9929d4231bbdfaad7"
      }
     },
     "0ec5645a3bf34b6a84616a6784979782": {
      "model_module": "@jupyter-widgets/base",
      "model_module_version": "1.2.0",
      "model_name": "LayoutModel",
      "state": {}
     },
     "0ed16efb5f4744e8a4b925f5d886aad4": {
      "model_module": "@jupyter-widgets/base",
      "model_module_version": "1.2.0",
      "model_name": "LayoutModel",
      "state": {}
     },
     "0edf0711fcd443488bc2bd1811f52c38": {
      "model_module": "@jupyter-widgets/base",
      "model_module_version": "1.2.0",
      "model_name": "LayoutModel",
      "state": {
       "flex_flow": "row wrap",
       "margin": "20px"
      }
     },
     "0f0d4a7590e043609aea67d90c471282": {
      "model_module": "@jupyter-widgets/base",
      "model_module_version": "1.2.0",
      "model_name": "LayoutModel",
      "state": {}
     },
     "0f1c0fcb8f9f4d159e1c377af1f3d791": {
      "model_module": "@jupyter-widgets/controls",
      "model_module_version": "1.5.0",
      "model_name": "ColorPickerModel",
      "state": {
       "description": "specular",
       "disabled": false,
       "layout": "IPY_MODEL_ce04f919741b465f88d9b2b13fe7aeb5",
       "style": "IPY_MODEL_28a05ce0d8c24017b029c6f3618ad10e",
       "value": "#282828"
      }
     },
     "0f1c7f54ceca4762b4413f4b8a852a84": {
      "model_module": "@jupyter-widgets/base",
      "model_module_version": "1.2.0",
      "model_name": "LayoutModel",
      "state": {}
     },
     "0f3555076683451287b13688376b8b4e": {
      "model_module": "@jupyter-widgets/base",
      "model_module_version": "1.2.0",
      "model_name": "LayoutModel",
      "state": {}
     },
     "0f40c1df13784f579067a2bd0aaa9d35": {
      "model_module": "@jupyter-widgets/base",
      "model_module_version": "1.2.0",
      "model_name": "LayoutModel",
      "state": {}
     },
     "0f41b5c50bdb442a8ef61d9d982b922d": {
      "model_module": "@jupyter-widgets/controls",
      "model_module_version": "1.5.0",
      "model_name": "ButtonStyleModel",
      "state": {}
     },
     "0f79a7c69fb34b2d9f55d3a3cfb5c585": {
      "model_module": "@jupyter-widgets/base",
      "model_module_version": "1.2.0",
      "model_name": "LayoutModel",
      "state": {}
     },
     "0f84ed044f5d499287d57c8c98211fae": {
      "model_module": "@jupyter-widgets/controls",
      "model_module_version": "1.5.0",
      "model_name": "IntTextModel",
      "state": {
       "description": "max",
       "layout": "IPY_MODEL_f41d2bc09ad24d97b1e0e97f75537487",
       "step": 1,
       "style": "IPY_MODEL_a2eb67920af64606babedcf49f3ac443",
       "value": 10
      }
     },
     "0fa6ede50ab0406a9807f2c9a03af12c": {
      "model_module": "@jupyter-widgets/controls",
      "model_module_version": "1.5.0",
      "model_name": "ButtonStyleModel",
      "state": {}
     },
     "0fbcef905dc549ebb51d1bcd20ade1b3": {
      "model_module": "@jupyter-widgets/controls",
      "model_module_version": "1.5.0",
      "model_name": "SliderStyleModel",
      "state": {
       "description_width": ""
      }
     },
     "0fbe18420d274425a435684457ded224": {
      "model_module": "@jupyter-widgets/base",
      "model_module_version": "1.2.0",
      "model_name": "LayoutModel",
      "state": {}
     },
     "0fbf4f04c7844825967a392870b05c3c": {
      "model_module": "@jupyter-widgets/base",
      "model_module_version": "1.2.0",
      "model_name": "LayoutModel",
      "state": {}
     },
     "10052b125cad43d289bb2ecbb7d56d4f": {
      "model_module": "@jupyter-widgets/base",
      "model_module_version": "1.2.0",
      "model_name": "LayoutModel",
      "state": {}
     },
     "1007569cd12243d8a1f1fc57a3f99da4": {
      "model_module": "@jupyter-widgets/controls",
      "model_module_version": "1.5.0",
      "model_name": "HBoxModel",
      "state": {
       "children": [
        "IPY_MODEL_104f9f95fbc94a96ba69a4016d5d9d90",
        "IPY_MODEL_4bf0c1f1957b48469384dbe0faad91c2",
        "IPY_MODEL_ef4b1309dfd142598b1a811f4f4940d6",
        "IPY_MODEL_dbbb98e68fb84fce957f5e756020dae8"
       ],
       "layout": "IPY_MODEL_8b9a41a0b095405186d1eec77ac0c839"
      }
     },
     "10203e2cc2ca454cbb746ee2e79b4d81": {
      "model_module": "@jupyter-widgets/controls",
      "model_module_version": "1.5.0",
      "model_name": "SliderStyleModel",
      "state": {
       "description_width": ""
      }
     },
     "1030b8cd0553429ca4407dc816bce54f": {
      "model_module": "@jupyter-widgets/controls",
      "model_module_version": "1.5.0",
      "model_name": "HBoxModel",
      "state": {
       "children": [
        "IPY_MODEL_e31340ac99da4ee18383b2d4c477aeb3",
        "IPY_MODEL_e2b4d21119d04c5993eb5c2b5a4963b5"
       ],
       "layout": "IPY_MODEL_3018078f147c4a62b9d1295467e67bb7"
      }
     },
     "1042939b8e694adbb61cbf705e83ecb6": {
      "model_module": "@jupyter-widgets/base",
      "model_module_version": "1.2.0",
      "model_name": "LayoutModel",
      "state": {
       "margin": "20px 0px"
      }
     },
     "1049120221a44f9698ad8be47c2dd830": {
      "model_module": "@jupyter-widgets/base",
      "model_module_version": "1.2.0",
      "model_name": "LayoutModel",
      "state": {}
     },
     "104f9f95fbc94a96ba69a4016d5d9d90": {
      "model_module": "pgljupyter",
      "model_module_version": "^0.2.0",
      "model_name": "MaterialEditorModel",
      "state": {
       "_model_module_version": "^0.2.0",
       "_view_module_version": "^0.2.0",
       "children": [
        "IPY_MODEL_058d703b09ba41a9b1d198d969f79a5d",
        "IPY_MODEL_e680e9e7158f4d5ba01b3c57bc8e6eda",
        "IPY_MODEL_f1428e6f50564af3a3f0c5aaf828bea6",
        "IPY_MODEL_eaaaa57114b946fbab2baeb544020004",
        "IPY_MODEL_5bcfd5e078c1498f87372ade701de97b",
        "IPY_MODEL_afd785204163490f861f01a8a6ebf525",
        "IPY_MODEL_18ad88abe6924cd5b9deb571f448c0d9",
        "IPY_MODEL_4b1277c24015447389de967d778203f6"
       ],
       "layout": "IPY_MODEL_8a1bab7df8174d92a085bbafd83e109a"
      }
     },
     "108922b827644af8bb2cbc253487a299": {
      "model_module": "@jupyter-widgets/controls",
      "model_module_version": "1.5.0",
      "model_name": "DropdownModel",
      "state": {
       "_options_labels": [
        "Integer",
        "Float",
        "Bool"
       ],
       "index": 0,
       "layout": "IPY_MODEL_61aa44c1636a4cd09ae7ed5cc9c03f6e",
       "style": "IPY_MODEL_6b7acd15cd974cd5ac238690be64c77a"
      }
     },
     "108ef55307894e36a7d0991d0cc2911b": {
      "model_module": "@jupyter-widgets/base",
      "model_module_version": "1.2.0",
      "model_name": "LayoutModel",
      "state": {}
     },
     "1094bc7683de416b8ecf8f3d91396c29": {
      "model_module": "@jupyter-widgets/base",
      "model_module_version": "1.2.0",
      "model_name": "LayoutModel",
      "state": {}
     },
     "10b64056ecc44e09b5e4933d6dbe52e2": {
      "model_module": "@jupyter-widgets/base",
      "model_module_version": "1.2.0",
      "model_name": "LayoutModel",
      "state": {}
     },
     "10cf3b81371e442e9ea401ba90dc6424": {
      "model_module": "@jupyter-widgets/controls",
      "model_module_version": "1.5.0",
      "model_name": "ButtonStyleModel",
      "state": {}
     },
     "10e49c1b087741ec82ee7a6b15af0af6": {
      "model_module": "@jupyter-widgets/base",
      "model_module_version": "1.2.0",
      "model_name": "LayoutModel",
      "state": {}
     },
     "10eedcd3140b473ba6462b56101c8dd6": {
      "model_module": "@jupyter-widgets/controls",
      "model_module_version": "1.5.0",
      "model_name": "DescriptionStyleModel",
      "state": {
       "description_width": ""
      }
     },
     "110ae91fb5c943dab79aeb29f57c0fcc": {
      "model_module": "@jupyter-widgets/controls",
      "model_module_version": "1.5.0",
      "model_name": "ButtonStyleModel",
      "state": {}
     },
     "113715feff46405a9f829a04036857fc": {
      "model_module": "@jupyter-widgets/controls",
      "model_module_version": "1.5.0",
      "model_name": "VBoxModel",
      "state": {
       "children": [
        "IPY_MODEL_d4a3882e55824a1d825972ac5448b018",
        "IPY_MODEL_072d929f682548cd881fd3470c9a36d3"
       ],
       "layout": "IPY_MODEL_d1a8424f341d4ea494d8618314235a18"
      }
     },
     "113da8bbf28f4da4a88ba0f9cabd4ebb": {
      "model_module": "@jupyter-widgets/controls",
      "model_module_version": "1.5.0",
      "model_name": "DescriptionStyleModel",
      "state": {
       "description_width": ""
      }
     },
     "1145eb1b6344415fbe5da4345ed32841": {
      "model_module": "@jupyter-widgets/controls",
      "model_module_version": "1.5.0",
      "model_name": "ButtonStyleModel",
      "state": {}
     },
     "1152c997b1494538a94716f205e4dedd": {
      "model_module": "@jupyter-widgets/base",
      "model_module_version": "1.2.0",
      "model_name": "LayoutModel",
      "state": {}
     },
     "1165440a552f44e8874ff2662c8016cf": {
      "model_module": "@jupyter-widgets/controls",
      "model_module_version": "1.5.0",
      "model_name": "SliderStyleModel",
      "state": {
       "description_width": ""
      }
     },
     "117c3751605b49da9649139f8f836205": {
      "model_module": "@jupyter-widgets/controls",
      "model_module_version": "1.5.0",
      "model_name": "FloatSliderModel",
      "state": {
       "description": "diffuse",
       "layout": "IPY_MODEL_29c4bd8332b8480e91c8c5587019d711",
       "max": 3,
       "step": 0.1,
       "style": "IPY_MODEL_68b2471e08bd43108da250cbe509f4c8",
       "value": 1
      }
     },
     "11a1fde1334e44b3bc445b44cfccd1ee": {
      "model_module": "@jupyter-widgets/controls",
      "model_module_version": "1.5.0",
      "model_name": "DescriptionStyleModel",
      "state": {
       "description_width": ""
      }
     },
     "11c371c9845b4b36a2e2cf814146ef9b": {
      "model_module": "@jupyter-widgets/base",
      "model_module_version": "1.2.0",
      "model_name": "LayoutModel",
      "state": {}
     },
     "11d8025c13d9418dab33da381333379c": {
      "model_module": "@jupyter-widgets/controls",
      "model_module_version": "1.5.0",
      "model_name": "ButtonStyleModel",
      "state": {}
     },
     "1252932a3a30469f9a39f40e32962dd6": {
      "model_module": "@jupyter-widgets/base",
      "model_module_version": "1.2.0",
      "model_name": "LayoutModel",
      "state": {}
     },
     "1275eb348c0a4e6db6b624f9b0a3b83c": {
      "model_module": "@jupyter-widgets/controls",
      "model_module_version": "1.5.0",
      "model_name": "TextModel",
      "state": {
       "continuous_update": false,
       "description": "name",
       "layout": "IPY_MODEL_ccf905a2150245e9ad7bfe85dc989fc8",
       "style": "IPY_MODEL_5fecbf4165e74b528112846ca520f4fb",
       "value": "maxorder"
      }
     },
     "129b9808260140be91fe527eb514555e": {
      "model_module": "@jupyter-widgets/controls",
      "model_module_version": "1.5.0",
      "model_name": "HBoxModel",
      "state": {
       "children": [
        "IPY_MODEL_893cf04f7b474264b2019b1d9ef10da0"
       ],
       "layout": "IPY_MODEL_4d77f69f74244057baec36b232f87f78"
      }
     },
     "12aad91498d74df1bdd0076e69f17c4b": {
      "model_module": "@jupyter-widgets/controls",
      "model_module_version": "1.5.0",
      "model_name": "ButtonModel",
      "state": {
       "description": "Apply changes",
       "layout": "IPY_MODEL_079c5f2baafc43b7b370beb033b53a66",
       "style": "IPY_MODEL_afcbfc1dce2a47f394db93b89601a5e4"
      }
     },
     "12b07df7fcbf4176ac7229ec42a4a560": {
      "model_module": "@jupyter-widgets/controls",
      "model_module_version": "1.5.0",
      "model_name": "DescriptionStyleModel",
      "state": {
       "description_width": ""
      }
     },
     "12cadca31b544ca58152aeb5769e58dd": {
      "model_module": "@jupyter-widgets/controls",
      "model_module_version": "1.5.0",
      "model_name": "CheckboxModel",
      "state": {
       "description": "Auto save",
       "disabled": false,
       "layout": "IPY_MODEL_ba4da6910bf6402bb88b95374971ce7a",
       "style": "IPY_MODEL_7dc232b7e4a7477b98bda8c99e3b8692",
       "value": false
      }
     },
     "12e643a8ee7244a48d10e4c9dc50c23c": {
      "model_module": "@jupyter-widgets/base",
      "model_module_version": "1.2.0",
      "model_name": "LayoutModel",
      "state": {
       "margin": "20px 0px"
      }
     },
     "13011f0d15864a1ba3f2543ade23483a": {
      "model_module": "@jupyter-widgets/controls",
      "model_module_version": "1.5.0",
      "model_name": "ButtonModel",
      "state": {
       "description": "Add",
       "layout": "IPY_MODEL_afd16820af884a958cef4c29e98f66cd",
       "style": "IPY_MODEL_d42dda3cd9cf477195bbad7f92515edb"
      }
     },
     "1310fd264c314fc6ba058b93e9e20982": {
      "model_module": "@jupyter-widgets/base",
      "model_module_version": "1.2.0",
      "model_name": "LayoutModel",
      "state": {}
     },
     "1324cf2f342444ac9b195b6b763a321b": {
      "model_module": "@jupyter-widgets/base",
      "model_module_version": "1.2.0",
      "model_name": "LayoutModel",
      "state": {}
     },
     "1333161370364dc18b62b527843bccdf": {
      "model_module": "@jupyter-widgets/controls",
      "model_module_version": "1.5.0",
      "model_name": "HBoxModel",
      "state": {
       "children": [
        "IPY_MODEL_a5d0d447b1394b03986172fc7562d1f4",
        "IPY_MODEL_9bee7a831530488d8f1b62a13071e4a1"
       ],
       "layout": "IPY_MODEL_f7ff34c66d4b431c8d7a458913ac23de"
      }
     },
     "133803d2a9f74591a327cf95a74cdd6a": {
      "model_module": "@jupyter-widgets/controls",
      "model_module_version": "1.5.0",
      "model_name": "HBoxModel",
      "state": {
       "children": [
        "IPY_MODEL_4bd32345c7094c9b83e1d6211f92d7df",
        "IPY_MODEL_7b502ee9562a44e597515087db33b653"
       ],
       "layout": "IPY_MODEL_03dfd11a2f0b4fb391e312128903d288"
      }
     },
     "134a756a9b454b73bb8ed6d12d756e98": {
      "model_module": "@jupyter-widgets/base",
      "model_module_version": "1.2.0",
      "model_name": "LayoutModel",
      "state": {
       "margin": "20px 0px"
      }
     },
     "1353b6016646410798b195d84bc20e50": {
      "model_module": "pgljupyter",
      "model_module_version": "^0.1.16",
      "model_name": "MaterialEditorModel",
      "state": {
       "_model_module_version": "^0.1.16",
       "_view_module_version": "^0.1.16",
       "children": [
        "IPY_MODEL_896cb2a6eee44f0099cfa8dd5b2da22f",
        "IPY_MODEL_ca048b3e6ffe42779d97a92813a975b0",
        "IPY_MODEL_ae40200d7fdc43a69f8f57ce27d6891b",
        "IPY_MODEL_2c07ac220de942ccb12377bf94366b14",
        "IPY_MODEL_21350d8100af4acbbbba14f68c856baa",
        "IPY_MODEL_4c6828d30e454b219dd59636daba61a2",
        "IPY_MODEL_b11599f0c8c340be874b6f91e49e147c",
        "IPY_MODEL_e72c590e7a184b6fb4ad01d25e4545a9"
       ],
       "layout": "IPY_MODEL_24700b060af14c8981e7fbfedeade0f8"
      }
     },
     "13642e1addcd465cbd7d516a101c2713": {
      "model_module": "@jupyter-widgets/base",
      "model_module_version": "1.2.0",
      "model_name": "LayoutModel",
      "state": {}
     },
     "137cbe8acae84e968a221cf773fdf8fd": {
      "model_module": "@jupyter-widgets/controls",
      "model_module_version": "1.5.0",
      "model_name": "HBoxModel",
      "state": {
       "children": [
        "IPY_MODEL_1cce361553fe4e3384705e13f5a70ce3",
        "IPY_MODEL_42bdc25840194831ac110172cc330d2c",
        "IPY_MODEL_f760108295804b51a12e98b907147ca4"
       ],
       "layout": "IPY_MODEL_44f1703909314fab8a00501069423623"
      }
     },
     "1381a5f505a041c5a6944ee0787a8c0c": {
      "model_module": "@jupyter-widgets/controls",
      "model_module_version": "1.5.0",
      "model_name": "ColorPickerModel",
      "state": {
       "description": "ambient",
       "disabled": false,
       "layout": "IPY_MODEL_92616f968bf649ad919cbb41d7425b65",
       "style": "IPY_MODEL_d6e29de606464a1eada931b449337734",
       "value": "#0fc4db"
      }
     },
     "1383a9a33ebb42e3a5b808f0ae358111": {
      "model_module": "@jupyter-widgets/controls",
      "model_module_version": "1.5.0",
      "model_name": "SliderStyleModel",
      "state": {
       "description_width": ""
      }
     },
     "13a0291b64394f9fbddc873faa6e5498": {
      "model_module": "@jupyter-widgets/controls",
      "model_module_version": "1.5.0",
      "model_name": "ButtonStyleModel",
      "state": {}
     },
     "13acdf1ccc5a4999af0676c08d452094": {
      "model_module": "@jupyter-widgets/controls",
      "model_module_version": "1.5.0",
      "model_name": "SliderStyleModel",
      "state": {
       "description_width": ""
      }
     },
     "13ae418bba3b47449bcffe9f4ff9b1d0": {
      "model_module": "@jupyter-widgets/base",
      "model_module_version": "1.2.0",
      "model_name": "LayoutModel",
      "state": {}
     },
     "13b719143ac7434582f81b16c18d6b4e": {
      "model_module": "@jupyter-widgets/controls",
      "model_module_version": "1.5.0",
      "model_name": "ColorPickerModel",
      "state": {
       "description": "emission",
       "disabled": false,
       "layout": "IPY_MODEL_289af199b7494ce2935204247e9a8c74",
       "style": "IPY_MODEL_aff7649e3cd94b0e93b9db47ae177a91",
       "value": "#000000"
      }
     },
     "13ba8e749f2441f7b7dfcbe5210b62c8": {
      "model_module": "@jupyter-widgets/base",
      "model_module_version": "1.2.0",
      "model_name": "LayoutModel",
      "state": {
       "margin": "20px 0px"
      }
     },
     "13c19586c17d41a298a7f79468b7e17a": {
      "model_module": "@jupyter-widgets/controls",
      "model_module_version": "1.5.0",
      "model_name": "DescriptionStyleModel",
      "state": {
       "description_width": ""
      }
     },
     "13d73679d1fc4c1dafedf885b7d2c851": {
      "model_module": "@jupyter-widgets/base",
      "model_module_version": "1.2.0",
      "model_name": "LayoutModel",
      "state": {}
     },
     "13ef4f1f81a4430aa1f08839e278e50f": {
      "model_module": "@jupyter-widgets/controls",
      "model_module_version": "1.5.0",
      "model_name": "HBoxModel",
      "state": {
       "children": [
        "IPY_MODEL_0ddc4da3ab684f75a000be5326010a3f",
        "IPY_MODEL_76962f026cd343edbb2be1f47b259f8e"
       ],
       "layout": "IPY_MODEL_60649db2aa41400c8d032bf13c68e453"
      }
     },
     "13f6cb3231334246af2b1e8b585d86fc": {
      "model_module": "@jupyter-widgets/controls",
      "model_module_version": "1.5.0",
      "model_name": "DescriptionStyleModel",
      "state": {
       "description_width": ""
      }
     },
     "1447d28562564ca58b3037339e1fd56a": {
      "model_module": "pgljupyter",
      "model_module_version": "^0.1.21",
      "model_name": "MaterialEditorModel",
      "state": {
       "_model_module_version": "^0.1.21",
       "_view_module_version": "^0.1.21",
       "children": [
        "IPY_MODEL_0374667b4982433588ab814caec15c06",
        "IPY_MODEL_9bbd113d7ca4432ebc3257210c3b4bba",
        "IPY_MODEL_8ab7595e734d49a0932417703969c091",
        "IPY_MODEL_4cc61bf11bdd449f8a15ee9f20326662",
        "IPY_MODEL_31747047bcce495c891518d32e015bdf",
        "IPY_MODEL_3dd16cc1b856454dbc171795cd01dddd",
        "IPY_MODEL_2d488102b5284d38b5c87aa63c4159cf",
        "IPY_MODEL_de5d2848f27a47be8ceb96df0723fd13"
       ],
       "layout": "IPY_MODEL_18b3bc8296b946b6ae24be81e0736f6e"
      }
     },
     "146d5fefc3734a85bff00f69249efbfc": {
      "model_module": "@jupyter-widgets/base",
      "model_module_version": "1.2.0",
      "model_name": "LayoutModel",
      "state": {}
     },
     "1495c1165fc748ae8bb58d756996d706": {
      "model_module": "@jupyter-widgets/controls",
      "model_module_version": "1.5.0",
      "model_name": "IntSliderModel",
      "state": {
       "description": "value",
       "layout": "IPY_MODEL_6c9077201cf9427b930095c29dff128d",
       "max": 10,
       "min": 1,
       "style": "IPY_MODEL_9b8436ae14f84fa29eae52599733cb23",
       "value": 5
      }
     },
     "1516995799ac4dad8abfd5b9e3a965b1": {
      "model_module": "@jupyter-widgets/controls",
      "model_module_version": "1.5.0",
      "model_name": "DescriptionStyleModel",
      "state": {
       "description_width": ""
      }
     },
     "15300167b1664d9682018422b0697519": {
      "model_module": "pgljupyter",
      "model_module_version": "^0.1.19",
      "model_name": "IntEditorModel",
      "state": {
       "_model_module_version": "^0.1.19",
       "_view_module_version": "^0.1.19",
       "children": [
        "IPY_MODEL_af8a50225a5b459392ad1828e64b9479",
        "IPY_MODEL_32834c0308ce4413b19627f02762d646"
       ],
       "layout": "IPY_MODEL_aab0b96dd9704dec8bee7aca21e55121"
      }
     },
     "153641213cab4e3888f2df8ffe4df5e6": {
      "model_module": "@jupyter-widgets/controls",
      "model_module_version": "1.5.0",
      "model_name": "ButtonModel",
      "state": {
       "description": "Delete category",
       "layout": "IPY_MODEL_47cab6d01e35497189f8f2866f69ad79",
       "style": "IPY_MODEL_333c1c1af63143dfb66f43fe624cc4ba"
      }
     },
     "1544c4aba24c44af809a65633d48cc8e": {
      "model_module": "@jupyter-widgets/controls",
      "model_module_version": "1.5.0",
      "model_name": "HBoxModel",
      "state": {
       "children": [
        "IPY_MODEL_c29fffdc637c4b74935a820089942936",
        "IPY_MODEL_2e9b3567dc074850a4457cea55ff8a2b"
       ],
       "layout": "IPY_MODEL_5a6aab1bb709492da4f69389f9069c24"
      }
     },
     "1558078ff54b40aa9edd4a561283c2a3": {
      "model_module": "@jupyter-widgets/controls",
      "model_module_version": "1.5.0",
      "model_name": "DescriptionStyleModel",
      "state": {
       "description_width": ""
      }
     },
     "155e496650f34366b813ae47225f42d5": {
      "model_module": "@jupyter-widgets/base",
      "model_module_version": "1.2.0",
      "model_name": "LayoutModel",
      "state": {}
     },
     "157fba29a18141ceb228302c5bccb5bb": {
      "model_module": "@jupyter-widgets/base",
      "model_module_version": "1.2.0",
      "model_name": "LayoutModel",
      "state": {}
     },
     "15ac7abd32994b22882527528e46a15c": {
      "model_module": "@jupyter-widgets/base",
      "model_module_version": "1.2.0",
      "model_name": "LayoutModel",
      "state": {}
     },
     "15c2dd748e27429b8b7bf9eec53d186c": {
      "model_module": "@jupyter-widgets/controls",
      "model_module_version": "1.5.0",
      "model_name": "HBoxModel",
      "state": {
       "children": [
        "IPY_MODEL_37d590580784486799b82835c1490cd0",
        "IPY_MODEL_7eb67cc5e07d4226b2341c889e12afdc",
        "IPY_MODEL_6c692b6a751b4f9a87b763ae9a055554"
       ],
       "layout": "IPY_MODEL_a9b7a5bea64640859355bc1f3bd40aed"
      }
     },
     "15cc82a7eb6848f88869d829430b0385": {
      "model_module": "@jupyter-widgets/controls",
      "model_module_version": "1.5.0",
      "model_name": "DescriptionStyleModel",
      "state": {
       "description_width": ""
      }
     },
     "160584d7549b440497e447884ae62452": {
      "model_module": "@jupyter-widgets/controls",
      "model_module_version": "1.5.0",
      "model_name": "DescriptionStyleModel",
      "state": {
       "description_width": ""
      }
     },
     "161390ba99e04b138bc28fa9c249c180": {
      "model_module": "@jupyter-widgets/controls",
      "model_module_version": "1.5.0",
      "model_name": "TextModel",
      "state": {
       "continuous_update": false,
       "description": "name",
       "layout": "IPY_MODEL_bcf7fee88c72467fbcc5a469b43e9f92",
       "style": "IPY_MODEL_7bd0ba7ae13849c1a3991f5c1fc76a3f",
       "value": "radinc"
      }
     },
     "1624262f28254a519733973a8caf8b9e": {
      "model_module": "@jupyter-widgets/controls",
      "model_module_version": "1.5.0",
      "model_name": "HBoxModel",
      "state": {
       "children": [
        "IPY_MODEL_0ebdabd5351f4a218569ece12d364cf5"
       ],
       "layout": "IPY_MODEL_7e4f103663654092a3b6f3f18908d2a4"
      }
     },
     "16282a7986064a8cb8770ae63961ce8e": {
      "model_module": "@jupyter-widgets/controls",
      "model_module_version": "1.5.0",
      "model_name": "CheckboxModel",
      "state": {
       "description": "Auto save",
       "disabled": false,
       "layout": "IPY_MODEL_8d0e659919a7446eae15c51f51434cbc",
       "style": "IPY_MODEL_ce70308ac20f4bb987e9cff5c5bdd36c",
       "value": false
      }
     },
     "1638da2fcccf476fa58af010604ee1e2": {
      "model_module": "@jupyter-widgets/controls",
      "model_module_version": "1.5.0",
      "model_name": "TabModel",
      "state": {
       "_titles": {
        "0": "leuwenberg.json"
       },
       "children": [
        "IPY_MODEL_9ff1c9457cb74aa3a67133ab431c26fa"
       ],
       "layout": "IPY_MODEL_a748a5f3be3444728407cba1e18220ed"
      }
     },
     "164bcfa6695d41c4828175244e8404ae": {
      "model_module": "@jupyter-widgets/controls",
      "model_module_version": "1.5.0",
      "model_name": "DescriptionStyleModel",
      "state": {
       "description_width": ""
      }
     },
     "165abbc949ef4da0be3399b1aa01ad1f": {
      "model_module": "@jupyter-widgets/controls",
      "model_module_version": "1.5.0",
      "model_name": "SliderStyleModel",
      "state": {
       "description_width": ""
      }
     },
     "1661cac0b09040e580c551e124e4a559": {
      "model_module": "@jupyter-widgets/controls",
      "model_module_version": "1.5.0",
      "model_name": "DescriptionStyleModel",
      "state": {
       "description_width": ""
      }
     },
     "16bd9822848d4ea8a76ae7ebedd16681": {
      "model_module": "@jupyter-widgets/base",
      "model_module_version": "1.2.0",
      "model_name": "LayoutModel",
      "state": {
       "margin": "20px 0px"
      }
     },
     "16cce7023d354ddfba60e067833ebb2b": {
      "model_module": "@jupyter-widgets/base",
      "model_module_version": "1.2.0",
      "model_name": "LayoutModel",
      "state": {}
     },
     "16f7bc26a9f3423a8cdb0ee883e8baf3": {
      "model_module": "@jupyter-widgets/controls",
      "model_module_version": "1.5.0",
      "model_name": "SliderStyleModel",
      "state": {
       "description_width": ""
      }
     },
     "170f6b615a774635b281c9b6e87c2707": {
      "model_module": "@jupyter-widgets/controls",
      "model_module_version": "1.5.0",
      "model_name": "FloatSliderModel",
      "state": {
       "description": "diffuse",
       "layout": "IPY_MODEL_5b940c3879e64cf98347973d19dcff84",
       "max": 3,
       "step": 0.1,
       "style": "IPY_MODEL_e4e8b085a5c24ad6a92920665a7ee169",
       "value": 1
      }
     },
     "171326388f714eb48b0fdd7eb080c8b2": {
      "model_module": "@jupyter-widgets/controls",
      "model_module_version": "1.5.0",
      "model_name": "FloatSliderModel",
      "state": {
       "description": "transparency",
       "layout": "IPY_MODEL_be52d9cdb49d41ef9f7664b51577a733",
       "max": 1,
       "step": 0.1,
       "style": "IPY_MODEL_0c45408378854d9db7aa0e37104b7d14"
      }
     },
     "178a6cb4a45b40af811fc096f2974764": {
      "model_module": "@jupyter-widgets/base",
      "model_module_version": "1.2.0",
      "model_name": "LayoutModel",
      "state": {}
     },
     "1794d4df7a97448fbd037a3c64194322": {
      "model_module": "@jupyter-widgets/controls",
      "model_module_version": "1.5.0",
      "model_name": "TextModel",
      "state": {
       "continuous_update": false,
       "description": "name",
       "layout": "IPY_MODEL_c6c86d448caa42fba4a0572e54d93f97",
       "style": "IPY_MODEL_a7c69b809d4642a18995e3906e60c2e9",
       "value": "trunk"
      }
     },
     "17a8887bab0d48dda0b6eb417e76dbac": {
      "model_module": "@jupyter-widgets/controls",
      "model_module_version": "1.5.0",
      "model_name": "DescriptionStyleModel",
      "state": {
       "description_width": ""
      }
     },
     "17dc7d6946fa4dcb97123fb2091496ed": {
      "model_module": "@jupyter-widgets/controls",
      "model_module_version": "1.5.0",
      "model_name": "DescriptionStyleModel",
      "state": {
       "description_width": ""
      }
     },
     "17de7061fc71420fb27975958a62c182": {
      "model_module": "pgljupyter",
      "model_module_version": "^0.1.21",
      "model_name": "MaterialEditorModel",
      "state": {
       "_model_module_version": "^0.1.21",
       "_view_module_version": "^0.1.21",
       "children": [
        "IPY_MODEL_408d582856e84421a763fa391a9130a8",
        "IPY_MODEL_ee264b2062824fd5b777853c7f930800",
        "IPY_MODEL_916e7d074de94e13a2e0ee223e0b2d15",
        "IPY_MODEL_e0f1782f2a614b3fa512c8365f125d2a",
        "IPY_MODEL_2e21adf4c8bb4fac95416edb37f93844",
        "IPY_MODEL_117c3751605b49da9649139f8f836205",
        "IPY_MODEL_1e78178572d64dcdb6056a7128c73f73",
        "IPY_MODEL_0aafc59276204d4698648b7214e955f0"
       ],
       "layout": "IPY_MODEL_12e643a8ee7244a48d10e4c9dc50c23c"
      }
     },
     "181662f4cedf410dac5bab4e1bf8645f": {
      "model_module": "@jupyter-widgets/base",
      "model_module_version": "1.2.0",
      "model_name": "LayoutModel",
      "state": {}
     },
     "181af5a1b3fa4b279cd968fb4614425b": {
      "model_module": "@jupyter-widgets/controls",
      "model_module_version": "1.5.0",
      "model_name": "HBoxModel",
      "state": {
       "children": [
        "IPY_MODEL_8518727b6ec245b1946e9a567ad7db89"
       ],
       "layout": "IPY_MODEL_3bc19bb63ddf48d997c4e036a6b93e14"
      }
     },
     "1841107c669d487a88dba8bee46180f8": {
      "model_module": "@jupyter-widgets/base",
      "model_module_version": "1.2.0",
      "model_name": "LayoutModel",
      "state": {}
     },
     "184575d290844eb0802b2744b027c06f": {
      "model_module": "@jupyter-widgets/controls",
      "model_module_version": "1.5.0",
      "model_name": "DescriptionStyleModel",
      "state": {
       "description_width": ""
      }
     },
     "18970ad154f744218a7766a73f316ff9": {
      "model_module": "@jupyter-widgets/controls",
      "model_module_version": "1.5.0",
      "model_name": "HBoxModel",
      "state": {
       "layout": "IPY_MODEL_beda81a3b0ac4e599adfa39835831fd8"
      }
     },
     "18a4cfa16bc946538d5790374028d641": {
      "model_module": "@jupyter-widgets/base",
      "model_module_version": "1.2.0",
      "model_name": "LayoutModel",
      "state": {}
     },
     "18abd2b200874f98af3b0f2c86c1a019": {
      "model_module": "@jupyter-widgets/controls",
      "model_module_version": "1.5.0",
      "model_name": "ButtonStyleModel",
      "state": {}
     },
     "18ad88abe6924cd5b9deb571f448c0d9": {
      "model_module": "@jupyter-widgets/controls",
      "model_module_version": "1.5.0",
      "model_name": "FloatSliderModel",
      "state": {
       "continuous_update": false,
       "description": "transparency",
       "layout": "IPY_MODEL_b1bd370223104c85b1afb7e06afc9a79",
       "max": 1,
       "step": 0.1,
       "style": "IPY_MODEL_6562e328352c4da9bcc65510d48fe34e"
      }
     },
     "18b3bc8296b946b6ae24be81e0736f6e": {
      "model_module": "@jupyter-widgets/base",
      "model_module_version": "1.2.0",
      "model_name": "LayoutModel",
      "state": {
       "margin": "20px 0px"
      }
     },
     "18e073fa77914b8ab317a620c3d55cff": {
      "model_module": "@jupyter-widgets/base",
      "model_module_version": "1.2.0",
      "model_name": "LayoutModel",
      "state": {}
     },
     "18f2aa4406d94deaab24b3b2e2829509": {
      "model_module": "@jupyter-widgets/base",
      "model_module_version": "1.2.0",
      "model_name": "LayoutModel",
      "state": {}
     },
     "18f33fdb355044e1b8ef1b21e2934a1e": {
      "model_module": "@jupyter-widgets/controls",
      "model_module_version": "1.5.0",
      "model_name": "DropdownModel",
      "state": {
       "_options_labels": [
        "Color"
       ],
       "index": 0,
       "layout": "IPY_MODEL_0ed16efb5f4744e8a4b925f5d886aad4",
       "style": "IPY_MODEL_1661cac0b09040e580c551e124e4a559"
      }
     },
     "18fd2dd4be65499b91b7d984d3f28244": {
      "model_module": "@jupyter-widgets/controls",
      "model_module_version": "1.5.0",
      "model_name": "TabModel",
      "state": {
       "_titles": {
        "0": "leuwenberg.json"
       },
       "children": [
        "IPY_MODEL_53095037c0fc41f0ad798cc1f327c12f"
       ],
       "layout": "IPY_MODEL_37cb01c9b3e84e9da135afac63cb3f28"
      }
     },
     "19090cc962c44b2c96cca28e1478b8e6": {
      "model_module": "@jupyter-widgets/controls",
      "model_module_version": "1.5.0",
      "model_name": "ColorPickerModel",
      "state": {
       "description": "ambient",
       "disabled": false,
       "layout": "IPY_MODEL_ffc132e59542416ca2badbf734657ea6",
       "style": "IPY_MODEL_fabe495affa744c7b2aa42df32036e77",
       "value": "#0fc4db"
      }
     },
     "190f9a77b410464d8397db246bf8a588": {
      "model_module": "@jupyter-widgets/controls",
      "model_module_version": "1.5.0",
      "model_name": "TextModel",
      "state": {
       "continuous_update": false,
       "description": "name",
       "layout": "IPY_MODEL_3195adc8fefb45378839f142bc7b7fdc",
       "style": "IPY_MODEL_3324d05d1f6847678f57a1016eafaa0e",
       "value": "color_4"
      }
     },
     "1910124b79a9485da861e6e0c1762d37": {
      "model_module": "@jupyter-widgets/base",
      "model_module_version": "1.2.0",
      "model_name": "LayoutModel",
      "state": {}
     },
     "191825b282e743a3933ee5f99483f66e": {
      "model_module": "@jupyter-widgets/base",
      "model_module_version": "1.2.0",
      "model_name": "LayoutModel",
      "state": {}
     },
     "194ad744cbd346c59d513770c2a47af7": {
      "model_module": "@jupyter-widgets/base",
      "model_module_version": "1.2.0",
      "model_name": "LayoutModel",
      "state": {
       "margin": "20px 0px"
      }
     },
     "197cf1dcd4204da1b4aa7c6ddffd697e": {
      "model_module": "@jupyter-widgets/controls",
      "model_module_version": "1.5.0",
      "model_name": "SliderStyleModel",
      "state": {
       "description_width": ""
      }
     },
     "19c0e5bf37c2495dba13da8f747c69e9": {
      "model_module": "@jupyter-widgets/controls",
      "model_module_version": "1.5.0",
      "model_name": "SliderStyleModel",
      "state": {
       "description_width": ""
      }
     },
     "1a30bd6297ea496caffb74eca89f7301": {
      "model_module": "@jupyter-widgets/controls",
      "model_module_version": "1.5.0",
      "model_name": "ColorPickerModel",
      "state": {
       "description": "specular",
       "disabled": false,
       "layout": "IPY_MODEL_7712426c5f4b4063af82886fae09a405",
       "style": "IPY_MODEL_22b0b08845a841bcab00137e9e0e416b",
       "value": "#282828"
      }
     },
     "1a39600936bd4b199a960b5ddd12c3ef": {
      "model_module": "@jupyter-widgets/controls",
      "model_module_version": "1.5.0",
      "model_name": "ButtonModel",
      "state": {
       "description": "Add",
       "layout": "IPY_MODEL_4fbf2b45694848a9aa03aadb8fb5d86c",
       "style": "IPY_MODEL_49abdf9d78524715a97cc756c7cc26ee"
      }
     },
     "1a3a8e4cff4b498aad3788925124b846": {
      "model_module": "@jupyter-widgets/controls",
      "model_module_version": "1.5.0",
      "model_name": "HBoxModel",
      "state": {
       "layout": "IPY_MODEL_5a7768daa7114d36b770ea435fe36cec"
      }
     },
     "1a721c069cf7486786794ba616d6c038": {
      "model_module": "@jupyter-widgets/controls",
      "model_module_version": "1.5.0",
      "model_name": "DescriptionStyleModel",
      "state": {
       "description_width": ""
      }
     },
     "1a768dffa91045cdbec62fd051859942": {
      "model_module": "@jupyter-widgets/controls",
      "model_module_version": "1.5.0",
      "model_name": "HBoxModel",
      "state": {
       "children": [
        "IPY_MODEL_de29d9fc92c645568318b3cac8e85baf",
        "IPY_MODEL_cbc8b4e533c94b8597e45a4ac84149b8"
       ],
       "layout": "IPY_MODEL_1310fd264c314fc6ba058b93e9e20982"
      }
     },
     "1a8e5e8102f24f6788a2e4825cfd5527": {
      "model_module": "@jupyter-widgets/controls",
      "model_module_version": "1.5.0",
      "model_name": "DescriptionStyleModel",
      "state": {
       "description_width": ""
      }
     },
     "1a901903106b4de5881749108bd6c41d": {
      "model_module": "@jupyter-widgets/base",
      "model_module_version": "1.2.0",
      "model_name": "LayoutModel",
      "state": {}
     },
     "1abe21887ea247a8852a934bfc85700a": {
      "model_module": "@jupyter-widgets/controls",
      "model_module_version": "1.5.0",
      "model_name": "SliderStyleModel",
      "state": {
       "description_width": ""
      }
     },
     "1adccbe353a046ea9bf4ed81f2cba08d": {
      "model_module": "@jupyter-widgets/controls",
      "model_module_version": "1.5.0",
      "model_name": "SliderStyleModel",
      "state": {
       "description_width": ""
      }
     },
     "1ae92564132343389b54704803f15403": {
      "model_module": "@jupyter-widgets/controls",
      "model_module_version": "1.5.0",
      "model_name": "HBoxModel",
      "state": {
       "children": [
        "IPY_MODEL_ff98df5ff2474c69a7b7ac98b28b5e0f",
        "IPY_MODEL_53e9fb96eb5c4e49af7c1126d83fd454"
       ],
       "layout": "IPY_MODEL_4474832739d44029bfbe0a393192f09b"
      }
     },
     "1aeee9874bc84466bbeb7bfb15647305": {
      "model_module": "@jupyter-widgets/base",
      "model_module_version": "1.2.0",
      "model_name": "LayoutModel",
      "state": {
       "margin": "20px 0px"
      }
     },
     "1b23eb33720947ad81bbf0cc81ea07cf": {
      "model_module": "@jupyter-widgets/controls",
      "model_module_version": "1.5.0",
      "model_name": "SliderStyleModel",
      "state": {
       "description_width": ""
      }
     },
     "1b44d596a79d4717bb36340cb0ec6094": {
      "model_module": "@jupyter-widgets/base",
      "model_module_version": "1.2.0",
      "model_name": "LayoutModel",
      "state": {}
     },
     "1b5446a7b8594571b37b59d8d9494810": {
      "model_module": "@jupyter-widgets/base",
      "model_module_version": "1.2.0",
      "model_name": "LayoutModel",
      "state": {}
     },
     "1b6051bae24c473598c952d51984d1ee": {
      "model_module": "@jupyter-widgets/base",
      "model_module_version": "1.2.0",
      "model_name": "LayoutModel",
      "state": {}
     },
     "1ba576c964e04fcc9564738165478fa9": {
      "model_module": "@jupyter-widgets/controls",
      "model_module_version": "1.5.0",
      "model_name": "ColorPickerModel",
      "state": {
       "description": "emission",
       "disabled": false,
       "layout": "IPY_MODEL_3f61cdd903854973b64323bcb9460db9",
       "style": "IPY_MODEL_52dcae81806547998911759447c74096",
       "value": "#000000"
      }
     },
     "1bd27105bfe744bdbb177dc19d1cf75d": {
      "model_module": "@jupyter-widgets/controls",
      "model_module_version": "1.5.0",
      "model_name": "HBoxModel",
      "state": {
       "layout": "IPY_MODEL_a9b7a5bea64640859355bc1f3bd40aed"
      }
     },
     "1bf3eb867db745b39087e47d083ee70c": {
      "model_module": "@jupyter-widgets/controls",
      "model_module_version": "1.5.0",
      "model_name": "TextModel",
      "state": {
       "continuous_update": false,
       "description": "name",
       "layout": "IPY_MODEL_98388df207bd4a559bfd30c5445ef20d",
       "style": "IPY_MODEL_13c19586c17d41a298a7f79468b7e17a",
       "value": "maxorder"
      }
     },
     "1bf7a6bbfe66414e863baaaffb726bb7": {
      "model_module": "@jupyter-widgets/base",
      "model_module_version": "1.2.0",
      "model_name": "LayoutModel",
      "state": {}
     },
     "1c3ad41458c64c129919cde932065b83": {
      "model_module": "@jupyter-widgets/controls",
      "model_module_version": "1.5.0",
      "model_name": "TextModel",
      "state": {
       "continuous_update": false,
       "description": "name",
       "layout": "IPY_MODEL_b7f1e2be6da44fbcaa0cb8e574a361c3",
       "style": "IPY_MODEL_6fdc9886fdbf46dda46199abcd2ce19a",
       "value": "leafold"
      }
     },
     "1c64de6d810040e6a876cf03d544910b": {
      "model_module": "@jupyter-widgets/controls",
      "model_module_version": "1.5.0",
      "model_name": "HBoxModel",
      "state": {
       "children": [
        "IPY_MODEL_2aa3ae383fe546ccba78dde66139f07e",
        "IPY_MODEL_31ff80b71d0e49b293026e52abfdb4bc"
       ],
       "layout": "IPY_MODEL_78dff3c9b0ab4092885a4681b708b9c4"
      }
     },
     "1c6b5e326e8d49b2a591f19e3efcbb8c": {
      "model_module": "@jupyter-widgets/controls",
      "model_module_version": "1.5.0",
      "model_name": "SliderStyleModel",
      "state": {
       "description_width": ""
      }
     },
     "1cce361553fe4e3384705e13f5a70ce3": {
      "model_module": "@jupyter-widgets/controls",
      "model_module_version": "1.5.0",
      "model_name": "HBoxModel",
      "state": {
       "children": [
        "IPY_MODEL_8760bd037eeb40d88f785a795b4cfa32",
        "IPY_MODEL_5ca98085c6bf49aca459dd565f93cd38"
       ],
       "layout": "IPY_MODEL_bc4bbf97cace49f2830fcdf2421eabb0"
      }
     },
     "1cd5706a6a4243ac8ad1c187de2f837d": {
      "model_module": "@jupyter-widgets/controls",
      "model_module_version": "1.5.0",
      "model_name": "HBoxModel",
      "state": {
       "children": [
        "IPY_MODEL_b9210e32a6c5490eac6e58429f1c0424",
        "IPY_MODEL_108922b827644af8bb2cbc253487a299"
       ],
       "layout": "IPY_MODEL_23725a5265544a0ea04ac9d249258b6d"
      }
     },
     "1cf4a392c16e40a5af323f7c787ca26d": {
      "model_module": "@jupyter-widgets/base",
      "model_module_version": "1.2.0",
      "model_name": "LayoutModel",
      "state": {}
     },
     "1d0360b6845d4690bf38dacaa972c227": {
      "model_module": "@jupyter-widgets/base",
      "model_module_version": "1.2.0",
      "model_name": "LayoutModel",
      "state": {}
     },
     "1d1181a2fd7a41b6942a8f000b3d75bd": {
      "model_module": "@jupyter-widgets/base",
      "model_module_version": "1.2.0",
      "model_name": "LayoutModel",
      "state": {}
     },
     "1d1c9cc08a664ea3b55b7a47fcfdc251": {
      "model_module": "@jupyter-widgets/controls",
      "model_module_version": "1.5.0",
      "model_name": "HBoxModel",
      "state": {
       "children": [
        "IPY_MODEL_9b10fafd1dad421981300c41e7b605cc",
        "IPY_MODEL_bd21842443764a4e9cfc0fe5e99adc99",
        "IPY_MODEL_48b02d61921140799c9d50de4e6abab8"
       ],
       "layout": "IPY_MODEL_f83dfb11eba54161877d623ec09906b5"
      }
     },
     "1d2c3e8ff93a461893bd0cf380e5598b": {
      "model_module": "@jupyter-widgets/base",
      "model_module_version": "1.2.0",
      "model_name": "LayoutModel",
      "state": {}
     },
     "1d2e9bf12109429982866039d15abe82": {
      "model_module": "@jupyter-widgets/controls",
      "model_module_version": "1.5.0",
      "model_name": "ButtonStyleModel",
      "state": {}
     },
     "1d5f2c59ce754ba49f0d39e7f3b334c9": {
      "model_module": "@jupyter-widgets/controls",
      "model_module_version": "1.5.0",
      "model_name": "ColorPickerModel",
      "state": {
       "description": "ambient",
       "disabled": false,
       "layout": "IPY_MODEL_74c752eed76b48ae90146bc27d79ccff",
       "style": "IPY_MODEL_f39bbffe9e8a4cf8bc7048c825bb7715",
       "value": "#5b4534"
      }
     },
     "1d631b91d9ac4f29a2da89915f36246d": {
      "model_module": "@jupyter-widgets/controls",
      "model_module_version": "1.5.0",
      "model_name": "ButtonStyleModel",
      "state": {}
     },
     "1d6ac4f49b314f0e9fb3532cfc3b8bce": {
      "model_module": "@jupyter-widgets/controls",
      "model_module_version": "1.5.0",
      "model_name": "IntTextModel",
      "state": {
       "description": "min",
       "layout": "IPY_MODEL_2047c15e3d8f4214b541d17514096060",
       "step": 1,
       "style": "IPY_MODEL_d57615a69c10480d8db062fc5e36385d",
       "value": 1
      }
     },
     "1d7324e6216945c694b7879142e82cce": {
      "model_module": "@jupyter-widgets/controls",
      "model_module_version": "1.5.0",
      "model_name": "DropdownModel",
      "state": {
       "_options_labels": [
        "maxorder",
        "radinc",
        "nb_axes"
       ],
       "index": 0,
       "layout": "IPY_MODEL_b9ebb3597e8346f8a3fc4ed986a97a1b",
       "style": "IPY_MODEL_90f3796014fb441682830e036d391913"
      }
     },
     "1e0a5f037309498087dedcf18b77314b": {
      "model_module": "@jupyter-widgets/base",
      "model_module_version": "1.2.0",
      "model_name": "LayoutModel",
      "state": {}
     },
     "1e131dd0699142ff8d201517f327a01e": {
      "model_module": "@jupyter-widgets/controls",
      "model_module_version": "1.5.0",
      "model_name": "VBoxModel",
      "state": {
       "children": [
        "IPY_MODEL_83ffa7e6fb914aec8162938aaf8fbf5d",
        "IPY_MODEL_1638da2fcccf476fa58af010604ee1e2"
       ],
       "layout": "IPY_MODEL_552cab5a34bb42878921b10d86c06c8d"
      }
     },
     "1e182d826be744dba3ea4c48b973b242": {
      "model_module": "@jupyter-widgets/controls",
      "model_module_version": "1.5.0",
      "model_name": "HBoxModel",
      "state": {
       "children": [
        "IPY_MODEL_8b815e58fddc4a559d96a5bea9398873"
       ],
       "layout": "IPY_MODEL_f84fb842bfdc4ca69b673ea45abcdf91"
      }
     },
     "1e3f2f62b72846cc8fb09a7e9d3f906d": {
      "model_module": "@jupyter-widgets/base",
      "model_module_version": "1.2.0",
      "model_name": "LayoutModel",
      "state": {
       "margin": "20px 0px"
      }
     },
     "1e5af16da1b3427d83bc2e4cf9a49852": {
      "model_module": "@jupyter-widgets/controls",
      "model_module_version": "1.5.0",
      "model_name": "ButtonModel",
      "state": {
       "description": "Delete",
       "layout": "IPY_MODEL_6cb02b695e9b429fb82b362a464e95d4",
       "style": "IPY_MODEL_403ce4d89d824f1c8e0c931714a623aa"
      }
     },
     "1e5b82c3498a414dbfb5116f2d3569b5": {
      "model_module": "@jupyter-widgets/controls",
      "model_module_version": "1.5.0",
      "model_name": "FloatSliderModel",
      "state": {
       "continuous_update": false,
       "description": "shininess",
       "layout": "IPY_MODEL_5c6ace0f578c42b9979bc855a04653e3",
       "max": 1,
       "step": 0.1,
       "style": "IPY_MODEL_89db33f980cb4aa4bf951958b1be4cdf",
       "value": 0.2
      }
     },
     "1e6010c917c4441f8d05dacd1cf3a5ba": {
      "model_module": "@jupyter-widgets/controls",
      "model_module_version": "1.5.0",
      "model_name": "ColorPickerModel",
      "state": {
       "description": "ambient",
       "disabled": false,
       "layout": "IPY_MODEL_619d054879f142ab8a22cb911c74fa09",
       "style": "IPY_MODEL_269d4a9ce92344b6b1ca56cee70b6700",
       "value": "#0fc4db"
      }
     },
     "1e71076b6d304240bdd062f2d5156785": {
      "model_module": "@jupyter-widgets/base",
      "model_module_version": "1.2.0",
      "model_name": "LayoutModel",
      "state": {}
     },
     "1e78178572d64dcdb6056a7128c73f73": {
      "model_module": "@jupyter-widgets/controls",
      "model_module_version": "1.5.0",
      "model_name": "FloatSliderModel",
      "state": {
       "description": "transparency",
       "layout": "IPY_MODEL_6ab377277f3f47c19b9225d757195275",
       "max": 1,
       "step": 0.1,
       "style": "IPY_MODEL_0010fef821bc48b083984f720d45fe40"
      }
     },
     "1e923ca9d3ec4aaf9602202ba9e7cb20": {
      "model_module": "@jupyter-widgets/base",
      "model_module_version": "1.2.0",
      "model_name": "LayoutModel",
      "state": {}
     },
     "1ea1b9374e5d4145bcc362d9bb9d3624": {
      "model_module": "@jupyter-widgets/controls",
      "model_module_version": "1.5.0",
      "model_name": "DropdownModel",
      "state": {
       "_options_labels": [
        "Color"
       ],
       "index": 0,
       "layout": "IPY_MODEL_f869d0c8c4644edf9a72e7f0721d5ba9",
       "style": "IPY_MODEL_24d9e6cddd2d4972974ebbd3a1c6bd3e"
      }
     },
     "1ea7dc68a20e4fa3ae2f532556b651d0": {
      "model_module": "@jupyter-widgets/controls",
      "model_module_version": "1.5.0",
      "model_name": "ColorPickerModel",
      "state": {
       "description": "ambient",
       "disabled": false,
       "layout": "IPY_MODEL_f4f2faa3af214fe2ad81b69860fda065",
       "style": "IPY_MODEL_906dd31da0b74225aefcd7029f7939cc",
       "value": "#e1a014"
      }
     },
     "1eafac7d519a4739b0a5ec9f2e1a0356": {
      "model_module": "@jupyter-widgets/base",
      "model_module_version": "1.2.0",
      "model_name": "LayoutModel",
      "state": {}
     },
     "1eb0713d17fb4a92b6d7cfab6060154c": {
      "model_module": "@jupyter-widgets/controls",
      "model_module_version": "1.5.0",
      "model_name": "DescriptionStyleModel",
      "state": {
       "description_width": ""
      }
     },
     "1ed4e731b536479d92c45a6c18f3559e": {
      "model_module": "@jupyter-widgets/controls",
      "model_module_version": "1.5.0",
      "model_name": "HBoxModel",
      "state": {
       "children": [
        "IPY_MODEL_5d6050d7def2462992a2c0be1241bbe2",
        "IPY_MODEL_b39e37f7a4514c6dbdf47b7cacbbd714"
       ],
       "layout": "IPY_MODEL_3bc19bb63ddf48d997c4e036a6b93e14"
      }
     },
     "1ef74d1c41b24007821a052f50da2c9f": {
      "model_module": "@jupyter-widgets/controls",
      "model_module_version": "1.5.0",
      "model_name": "FloatSliderModel",
      "state": {
       "description": "diffuse",
       "layout": "IPY_MODEL_60f7d6ccd61f493dadbfcf94d366711a",
       "max": 3,
       "step": 0.1,
       "style": "IPY_MODEL_0aea6c9bfdb24c3a9046b8a0c0ca6aa6",
       "value": 1
      }
     },
     "1f1a2d37c7574d4cb2156e5fb0d10923": {
      "model_module": "@jupyter-widgets/base",
      "model_module_version": "1.2.0",
      "model_name": "LayoutModel",
      "state": {}
     },
     "1f1df1d84cbd4198a124c637fd5a7782": {
      "model_module": "@jupyter-widgets/controls",
      "model_module_version": "1.5.0",
      "model_name": "DescriptionStyleModel",
      "state": {
       "description_width": ""
      }
     },
     "1f53359d42784ba0a3451ee526d47c0f": {
      "model_module": "@jupyter-widgets/controls",
      "model_module_version": "1.5.0",
      "model_name": "HBoxModel",
      "state": {
       "children": [
        "IPY_MODEL_826dcf09a36b44db93daf5f8ada9b810",
        "IPY_MODEL_4dccc1a6b2aa4555ba52f45eb750b218",
        "IPY_MODEL_89db582de4224ed0b196b8f2a9d544c4"
       ],
       "layout": "IPY_MODEL_8b9a41a0b095405186d1eec77ac0c839"
      }
     },
     "1f72998eed09408198e3afb7711fce67": {
      "model_module": "@jupyter-widgets/base",
      "model_module_version": "1.2.0",
      "model_name": "LayoutModel",
      "state": {}
     },
     "1f88c16815df476d8f718a32226dcb4a": {
      "model_module": "@jupyter-widgets/controls",
      "model_module_version": "1.5.0",
      "model_name": "DescriptionStyleModel",
      "state": {
       "description_width": ""
      }
     },
     "1f8ab0fca1c04c59ba41957779688c40": {
      "model_module": "@jupyter-widgets/controls",
      "model_module_version": "1.5.0",
      "model_name": "BoundedIntTextModel",
      "state": {
       "description": "index",
       "layout": "IPY_MODEL_3afbf51007944e8f8954670763c456a2",
       "style": "IPY_MODEL_f1c6aa52cc2a40a396a24165e1c5bf64",
       "value": 4
      }
     },
     "1f9354edd99a419791b8098ce14a9959": {
      "model_module": "@jupyter-widgets/controls",
      "model_module_version": "1.5.0",
      "model_name": "BoundedIntTextModel",
      "state": {
       "description": "index",
       "layout": "IPY_MODEL_7929a2686ff24e638383a6c077619e2f",
       "style": "IPY_MODEL_685ee14868fa4a14911917cadbe67018",
       "value": 3
      }
     },
     "1fac97fbb78942428b45f4a29eff0181": {
      "model_module": "@jupyter-widgets/controls",
      "model_module_version": "1.5.0",
      "model_name": "SliderStyleModel",
      "state": {
       "description_width": ""
      }
     },
     "1fbbf5e052d94a73b8637548af5f55ea": {
      "model_module": "@jupyter-widgets/controls",
      "model_module_version": "1.5.0",
      "model_name": "TextModel",
      "state": {
       "continuous_update": false,
       "description": "name",
       "layout": "IPY_MODEL_6f2b90d0eaeb458c92aa8d4c7eda4de5",
       "style": "IPY_MODEL_8e85538f1c7348e88888e73f57ac653a",
       "value": "radinc"
      }
     },
     "1fc7b2d61c8248a78f6d173ef2c25c28": {
      "model_module": "@jupyter-widgets/controls",
      "model_module_version": "1.5.0",
      "model_name": "DescriptionStyleModel",
      "state": {
       "description_width": ""
      }
     },
     "1fcf90f890c6426ab939a569108497cd": {
      "model_module": "@jupyter-widgets/controls",
      "model_module_version": "1.5.0",
      "model_name": "ButtonModel",
      "state": {
       "description": "Add",
       "layout": "IPY_MODEL_edccc23ee7c94c62b87b7ae6355454e4",
       "style": "IPY_MODEL_879fcdce8800437ebdb114cb02a43a8e"
      }
     },
     "1fecb403a3cb45fcb068b9e94cc7e044": {
      "model_module": "@jupyter-widgets/controls",
      "model_module_version": "1.5.0",
      "model_name": "ButtonStyleModel",
      "state": {}
     },
     "200bbcd159c24386b1e2e9fe9c914ff7": {
      "model_module": "@jupyter-widgets/controls",
      "model_module_version": "1.5.0",
      "model_name": "SliderStyleModel",
      "state": {
       "description_width": ""
      }
     },
     "200e396776fd4859b251083ea338dbc3": {
      "model_module": "@jupyter-widgets/controls",
      "model_module_version": "1.5.0",
      "model_name": "VBoxModel",
      "state": {
       "children": [
        "IPY_MODEL_3a91f9dd6dd840dfa42d860498e26055",
        "IPY_MODEL_e29bcf91cb1e4caebd131a237b84ab1c",
        "IPY_MODEL_86ad7647a23949bbb9260384e6040155",
        "IPY_MODEL_d015b65324534f50aa5675640c1f43ab",
        "IPY_MODEL_300d90438a1445f4819171e16fa9d386"
       ],
       "layout": "IPY_MODEL_3242767a029c4316a2ec4ab31704f3d8"
      }
     },
     "20298b4a168141e9be68094a28287409": {
      "model_module": "@jupyter-widgets/controls",
      "model_module_version": "1.5.0",
      "model_name": "HBoxModel",
      "state": {
       "children": [
        "IPY_MODEL_5adffba729714082b4c0b93187c64244",
        "IPY_MODEL_41173f204e7842519840674a61a7e434"
       ],
       "layout": "IPY_MODEL_0edf0711fcd443488bc2bd1811f52c38"
      }
     },
     "203079255d89445eaa5a11bb556a37d5": {
      "model_module": "@jupyter-widgets/controls",
      "model_module_version": "1.5.0",
      "model_name": "BoundedIntTextModel",
      "state": {
       "description": "index",
       "layout": "IPY_MODEL_cb43d93a31474ef68c27ec960b1e17ad",
       "style": "IPY_MODEL_05a5ce6fe609440eaac4fb1a88000fa7",
       "value": 4
      }
     },
     "203311275276426398b1e3c34669b385": {
      "model_module": "@jupyter-widgets/base",
      "model_module_version": "1.2.0",
      "model_name": "LayoutModel",
      "state": {}
     },
     "203480e9c215468ea9ab336c23360aec": {
      "model_module": "@jupyter-widgets/controls",
      "model_module_version": "1.5.0",
      "model_name": "FloatSliderModel",
      "state": {
       "description": "value",
       "layout": "IPY_MODEL_6a018a7ac45f43ed9fb495ac70a32468",
       "max": 0.1,
       "min": 0.01,
       "step": 0.01,
       "style": "IPY_MODEL_cf673dfbe5eb413c96fdeb2659cfc128",
       "value": 0.02
      }
     },
     "2047c15e3d8f4214b541d17514096060": {
      "model_module": "@jupyter-widgets/base",
      "model_module_version": "1.2.0",
      "model_name": "LayoutModel",
      "state": {}
     },
     "20524a3cbd284565b43899cfff3eabbb": {
      "model_module": "@jupyter-widgets/base",
      "model_module_version": "1.2.0",
      "model_name": "LayoutModel",
      "state": {
       "margin": "20px 0px"
      }
     },
     "207d2c2ed4094de6aa559901cd22e572": {
      "model_module": "@jupyter-widgets/base",
      "model_module_version": "1.2.0",
      "model_name": "LayoutModel",
      "state": {}
     },
     "208de69f01e844309a09e7a6c6150e42": {
      "model_module": "@jupyter-widgets/controls",
      "model_module_version": "1.5.0",
      "model_name": "TextModel",
      "state": {
       "continuous_update": false,
       "description": "name",
       "layout": "IPY_MODEL_9f81c34fd48c46a38082ef22fe436144",
       "style": "IPY_MODEL_98aa41c6eb644b028a4c3b34c61591da",
       "value": "trunk"
      }
     },
     "209c033af72d44e3a0b13ab8001e5335": {
      "model_module": "@jupyter-widgets/base",
      "model_module_version": "1.2.0",
      "model_name": "LayoutModel",
      "state": {}
     },
     "20ab7410ec8c4e87a7028f3830335948": {
      "model_module": "@jupyter-widgets/base",
      "model_module_version": "1.2.0",
      "model_name": "LayoutModel",
      "state": {}
     },
     "20b13acc67a845f6956f498c04e38806": {
      "model_module": "@jupyter-widgets/base",
      "model_module_version": "1.2.0",
      "model_name": "LayoutModel",
      "state": {}
     },
     "20b1952b21434151a833e0b22eb08f81": {
      "model_module": "@jupyter-widgets/controls",
      "model_module_version": "1.5.0",
      "model_name": "DescriptionStyleModel",
      "state": {
       "description_width": ""
      }
     },
     "20e00e78d72c45a192c02ce598d26a33": {
      "model_module": "@jupyter-widgets/controls",
      "model_module_version": "1.5.0",
      "model_name": "FloatSliderModel",
      "state": {
       "description": "value",
       "layout": "IPY_MODEL_80e9653aa5df4aec98e4b796abfbd551",
       "max": 0.1,
       "min": 0.01,
       "step": 0.01,
       "style": "IPY_MODEL_7ae3718b0ae34394a27bdb7f6b8e878f",
       "value": 0.03
      }
     },
     "20e3dd12ae594b74880fcf2f3311b803": {
      "model_module": "@jupyter-widgets/base",
      "model_module_version": "1.2.0",
      "model_name": "LayoutModel",
      "state": {}
     },
     "20e92cd381cd4543b11477c4b28a2822": {
      "model_module": "@jupyter-widgets/base",
      "model_module_version": "1.2.0",
      "model_name": "LayoutModel",
      "state": {}
     },
     "20f26d89736d43d19f678d93232feee7": {
      "model_module": "@jupyter-widgets/controls",
      "model_module_version": "1.5.0",
      "model_name": "DescriptionStyleModel",
      "state": {
       "description_width": ""
      }
     },
     "211d7215642f4e8382341b62266fd175": {
      "model_module": "@jupyter-widgets/controls",
      "model_module_version": "1.5.0",
      "model_name": "FloatSliderModel",
      "state": {
       "continuous_update": false,
       "description": "diffuse",
       "layout": "IPY_MODEL_00bb2ace9ccc420b945abb4154686ffa",
       "max": 3,
       "step": 0.1,
       "style": "IPY_MODEL_6e12820d82904853ba99b14e152dd048",
       "value": 1
      }
     },
     "2132082f200f4a239684d6e5b976b196": {
      "model_module": "@jupyter-widgets/base",
      "model_module_version": "1.2.0",
      "model_name": "LayoutModel",
      "state": {}
     },
     "21350d8100af4acbbbba14f68c856baa": {
      "model_module": "@jupyter-widgets/controls",
      "model_module_version": "1.5.0",
      "model_name": "ColorPickerModel",
      "state": {
       "description": "emission",
       "disabled": false,
       "layout": "IPY_MODEL_c6a591bed4c246eaa6f122a5fb74d701",
       "style": "IPY_MODEL_58b736cae95a4a3f97d710efaa4148bb",
       "value": "#000000"
      }
     },
     "21584ab197984ba29419802ea60fc1c8": {
      "model_module": "@jupyter-widgets/controls",
      "model_module_version": "1.5.0",
      "model_name": "VBoxModel",
      "state": {
       "children": [
        "IPY_MODEL_0c2bee5a70fb46b2acac86b96cb0aab2",
        "IPY_MODEL_bba064c217a24b0f9b5d380aaa6fea52"
       ],
       "layout": "IPY_MODEL_1e923ca9d3ec4aaf9602202ba9e7cb20"
      }
     },
     "215f302522a248ffb3819ec2c29f1058": {
      "model_module": "@jupyter-widgets/base",
      "model_module_version": "1.2.0",
      "model_name": "LayoutModel",
      "state": {}
     },
     "21681404317b48249d8e358124b22d13": {
      "model_module": "@jupyter-widgets/controls",
      "model_module_version": "1.5.0",
      "model_name": "DropdownModel",
      "state": {
       "_options_labels": [
        "trunk",
        "leaf_new",
        "apex",
        "leaf_old"
       ],
       "index": 0,
       "layout": "IPY_MODEL_bf10c1c91f744db1b7cbf9962b0fb4a1",
       "style": "IPY_MODEL_3cc05422b64343cab04ad8a0ddc1d880"
      }
     },
     "216b5684e13748dbbbd395dfcfccad08": {
      "model_module": "@jupyter-widgets/controls",
      "model_module_version": "1.5.0",
      "model_name": "HBoxModel",
      "state": {
       "children": [
        "IPY_MODEL_78a56862f5a740aaa2c18c802f594ae3",
        "IPY_MODEL_ac03182339fd4bdbbfe98a64ba6760a0"
       ],
       "layout": "IPY_MODEL_940c9355e89a41248908d024561c2082"
      }
     },
     "2171707fa97347488af43fe88a591d0f": {
      "model_module": "@jupyter-widgets/controls",
      "model_module_version": "1.5.0",
      "model_name": "SliderStyleModel",
      "state": {
       "description_width": ""
      }
     },
     "21dc5393f9364b34b280fae10a6852f9": {
      "model_module": "@jupyter-widgets/controls",
      "model_module_version": "1.5.0",
      "model_name": "ButtonStyleModel",
      "state": {}
     },
     "21f3349a602545288f617c05af0e2a85": {
      "model_module": "@jupyter-widgets/base",
      "model_module_version": "1.2.0",
      "model_name": "LayoutModel",
      "state": {}
     },
     "221397e9ebd543a29b72321488035216": {
      "model_module": "@jupyter-widgets/controls",
      "model_module_version": "1.5.0",
      "model_name": "HBoxModel",
      "state": {
       "children": [
        "IPY_MODEL_34039ec0ba934c63862e396616b031ef",
        "IPY_MODEL_bc6a9e91763e4425a42d8b1641580ff4"
       ],
       "layout": "IPY_MODEL_3000a614557743cbb42abf392046434f"
      }
     },
     "221ff8ea7a8240c4978f750044c1a1b6": {
      "model_module": "@jupyter-widgets/controls",
      "model_module_version": "1.5.0",
      "model_name": "DescriptionStyleModel",
      "state": {
       "description_width": ""
      }
     },
     "2249a5a5d0f24085af3136bbb4f3f425": {
      "model_module": "@jupyter-widgets/controls",
      "model_module_version": "1.5.0",
      "model_name": "FloatSliderModel",
      "state": {
       "description": "shininess",
       "layout": "IPY_MODEL_d323d6b67e114f9199d968a403d35954",
       "max": 1,
       "step": 0.1,
       "style": "IPY_MODEL_abcc393b17f24dc9b7fecb97fc241a9d",
       "value": 0.2
      }
     },
     "225a25286ce64ac499f5f3306b5b2a61": {
      "model_module": "@jupyter-widgets/controls",
      "model_module_version": "1.5.0",
      "model_name": "FloatSliderModel",
      "state": {
       "continuous_update": false,
       "description": "shininess",
       "layout": "IPY_MODEL_bec3c9f59a484a5f81d56950adfbfbfd",
       "max": 1,
       "step": 0.1,
       "style": "IPY_MODEL_1abe21887ea247a8852a934bfc85700a",
       "value": 0.2
      }
     },
     "227e62b2d511415dbb0e7c79cc99f8ca": {
      "model_module": "@jupyter-widgets/controls",
      "model_module_version": "1.5.0",
      "model_name": "SliderStyleModel",
      "state": {
       "description_width": ""
      }
     },
     "22836115f66046069dfdd261f534a787": {
      "model_module": "pgljupyter",
      "model_module_version": "^0.1.19",
      "model_name": "ParameterEditorModel",
      "state": {
       "_model_module_version": "^0.1.19",
       "_view_module_version": "^0.1.19",
       "children": [
        "IPY_MODEL_a177c650942f473394de06d06b3caca8"
       ],
       "layout": "IPY_MODEL_614b17aa8cbd4c59bdc4c77fdfbbc42b"
      }
     },
     "228bc3eabbcd41b0903a627cadc7111d": {
      "model_module": "@jupyter-widgets/controls",
      "model_module_version": "1.5.0",
      "model_name": "SliderStyleModel",
      "state": {
       "description_width": ""
      }
     },
     "22b0b08845a841bcab00137e9e0e416b": {
      "model_module": "@jupyter-widgets/controls",
      "model_module_version": "1.5.0",
      "model_name": "DescriptionStyleModel",
      "state": {
       "description_width": ""
      }
     },
     "22c1a3a0307f4a4ca0dc0ac94efedfc6": {
      "model_module": "@jupyter-widgets/base",
      "model_module_version": "1.2.0",
      "model_name": "LayoutModel",
      "state": {}
     },
     "22cd6b280ddd41f3b8849de884f36712": {
      "model_module": "@jupyter-widgets/controls",
      "model_module_version": "1.5.0",
      "model_name": "IntSliderModel",
      "state": {
       "continuous_update": false,
       "description": "value",
       "layout": "IPY_MODEL_18e073fa77914b8ab317a620c3d55cff",
       "max": 10,
       "min": 1,
       "style": "IPY_MODEL_d2bb46fece49444493085b0de0cbeb64",
       "value": 5
      }
     },
     "22f9f8931d46440d97e214fb63e75678": {
      "model_module": "@jupyter-widgets/controls",
      "model_module_version": "1.5.0",
      "model_name": "ButtonStyleModel",
      "state": {}
     },
     "233d83e71b4344838e3144dcacea3eeb": {
      "model_module": "@jupyter-widgets/base",
      "model_module_version": "1.2.0",
      "model_name": "LayoutModel",
      "state": {}
     },
     "2340039821ec4848ab8a9b6c4eb0a864": {
      "model_module": "@jupyter-widgets/base",
      "model_module_version": "1.2.0",
      "model_name": "LayoutModel",
      "state": {}
     },
     "23725a5265544a0ea04ac9d249258b6d": {
      "model_module": "@jupyter-widgets/base",
      "model_module_version": "1.2.0",
      "model_name": "LayoutModel",
      "state": {}
     },
     "237ab4ee0a704fc893b1f93fa8d1b2d4": {
      "model_module": "@jupyter-widgets/base",
      "model_module_version": "1.2.0",
      "model_name": "LayoutModel",
      "state": {}
     },
     "238dd52d41fd42ba8fc8d39b45ea27f2": {
      "model_module": "@jupyter-widgets/controls",
      "model_module_version": "1.5.0",
      "model_name": "DropdownModel",
      "state": {
       "_options_labels": [
        "Integer",
        "Float",
        "Bool"
       ],
       "index": 0,
       "layout": "IPY_MODEL_427e64e328734c2ea2a19855b06e1544",
       "style": "IPY_MODEL_59df3630aa8946ea91c52b602ac78c54"
      }
     },
     "23b2d84440ff41cdb3f1251c2c430172": {
      "model_module": "@jupyter-widgets/base",
      "model_module_version": "1.2.0",
      "model_name": "LayoutModel",
      "state": {}
     },
     "23b71bd3d43a46858d0d86b6e18210b8": {
      "model_module": "@jupyter-widgets/controls",
      "model_module_version": "1.5.0",
      "model_name": "FloatSliderModel",
      "state": {
       "continuous_update": false,
       "description": "transparency",
       "layout": "IPY_MODEL_25b516f199484db586951c2701376b7e",
       "max": 1,
       "step": 0.1,
       "style": "IPY_MODEL_227e62b2d511415dbb0e7c79cc99f8ca"
      }
     },
     "240b06896b1447a29608ee2c0041a5bc": {
      "model_module": "@jupyter-widgets/controls",
      "model_module_version": "1.5.0",
      "model_name": "IntSliderModel",
      "state": {
       "description": "value",
       "layout": "IPY_MODEL_e8499e7bab6246a0ad0a4f30d14ddbb3",
       "max": 10,
       "min": 1,
       "style": "IPY_MODEL_165abbc949ef4da0be3399b1aa01ad1f",
       "value": 3
      }
     },
     "243831084f114d97bd1e5d3e35197ff6": {
      "model_module": "@jupyter-widgets/controls",
      "model_module_version": "1.5.0",
      "model_name": "BoundedIntTextModel",
      "state": {
       "description": "index",
       "layout": "IPY_MODEL_178a6cb4a45b40af811fc096f2974764",
       "style": "IPY_MODEL_801c9757e2284ae99ecc9a5a8bffc9da",
       "value": 1
      }
     },
     "244a6d6ecfca4f0f98bc8b06b8f66d0f": {
      "model_module": "@jupyter-widgets/base",
      "model_module_version": "1.2.0",
      "model_name": "LayoutModel",
      "state": {}
     },
     "246aab4cbf43464abba1e73dd3237707": {
      "model_module": "@jupyter-widgets/base",
      "model_module_version": "1.2.0",
      "model_name": "LayoutModel",
      "state": {}
     },
     "24700b060af14c8981e7fbfedeade0f8": {
      "model_module": "@jupyter-widgets/base",
      "model_module_version": "1.2.0",
      "model_name": "LayoutModel",
      "state": {
       "margin": "20px 0px"
      }
     },
     "24758aaf99ef4e2d83b824c7757e578a": {
      "model_module": "@jupyter-widgets/controls",
      "model_module_version": "1.5.0",
      "model_name": "ButtonStyleModel",
      "state": {}
     },
     "24a1bfdc32d74c199de35114b8b6abd6": {
      "model_module": "@jupyter-widgets/controls",
      "model_module_version": "1.5.0",
      "model_name": "TextModel",
      "state": {
       "continuous_update": false,
       "description": "name",
       "layout": "IPY_MODEL_cf9ba375ce514d6186594235d174e6fa",
       "style": "IPY_MODEL_9a41a01617a04615af343d69236d1e69",
       "value": "leaf_new"
      }
     },
     "24d9e6cddd2d4972974ebbd3a1c6bd3e": {
      "model_module": "@jupyter-widgets/controls",
      "model_module_version": "1.5.0",
      "model_name": "DescriptionStyleModel",
      "state": {
       "description_width": ""
      }
     },
     "24ef567daf684583a1b9719c63a29065": {
      "model_module": "@jupyter-widgets/controls",
      "model_module_version": "1.5.0",
      "model_name": "TextModel",
      "state": {
       "continuous_update": false,
       "description": "name",
       "layout": "IPY_MODEL_c8bd3e3f13474b0baac9eb113f5ce252",
       "style": "IPY_MODEL_9b2cf354612745219cec51fc673564b0",
       "value": "leaf_old"
      }
     },
     "25319b4a1c0d492ea4c44baed1f845f1": {
      "model_module": "@jupyter-widgets/base",
      "model_module_version": "1.2.0",
      "model_name": "LayoutModel",
      "state": {}
     },
     "25389c05c9a74d9a98ad640a1da0dc90": {
      "model_module": "@jupyter-widgets/controls",
      "model_module_version": "1.5.0",
      "model_name": "SliderStyleModel",
      "state": {
       "description_width": ""
      }
     },
     "255b3c439597483f80ed865cd04cc345": {
      "model_module": "@jupyter-widgets/base",
      "model_module_version": "1.2.0",
      "model_name": "LayoutModel",
      "state": {}
     },
     "255de9b06ec0472aaa589e58b2badd2d": {
      "model_module": "@jupyter-widgets/base",
      "model_module_version": "1.2.0",
      "model_name": "LayoutModel",
      "state": {}
     },
     "256f56f78e9543718e49f07029f8099c": {
      "model_module": "@jupyter-widgets/base",
      "model_module_version": "1.2.0",
      "model_name": "LayoutModel",
      "state": {}
     },
     "259e1b89f75240de83d19dcd3b59bf86": {
      "model_module": "@jupyter-widgets/controls",
      "model_module_version": "1.5.0",
      "model_name": "DescriptionStyleModel",
      "state": {
       "description_width": ""
      }
     },
     "25b516f199484db586951c2701376b7e": {
      "model_module": "@jupyter-widgets/base",
      "model_module_version": "1.2.0",
      "model_name": "LayoutModel",
      "state": {}
     },
     "25c2402de33e45e390315509afa77feb": {
      "model_module": "@jupyter-widgets/base",
      "model_module_version": "1.2.0",
      "model_name": "LayoutModel",
      "state": {}
     },
     "25d0de7e5f6b4377b1b18a37159afc24": {
      "model_module": "@jupyter-widgets/base",
      "model_module_version": "1.2.0",
      "model_name": "LayoutModel",
      "state": {}
     },
     "25d30d60259b4572b8731631d759ac9a": {
      "model_module": "@jupyter-widgets/base",
      "model_module_version": "1.2.0",
      "model_name": "LayoutModel",
      "state": {}
     },
     "262f578dc1b641d1a439f9d7bdb2b833": {
      "model_module": "@jupyter-widgets/controls",
      "model_module_version": "1.5.0",
      "model_name": "ButtonStyleModel",
      "state": {}
     },
     "266957bdee4c488d96db5cfceab4b072": {
      "model_module": "@jupyter-widgets/base",
      "model_module_version": "1.2.0",
      "model_name": "LayoutModel",
      "state": {}
     },
     "269d4a9ce92344b6b1ca56cee70b6700": {
      "model_module": "@jupyter-widgets/controls",
      "model_module_version": "1.5.0",
      "model_name": "DescriptionStyleModel",
      "state": {
       "description_width": ""
      }
     },
     "26b2b92b694649c3b974782805831251": {
      "model_module": "pgljupyter",
      "model_module_version": "^0.1.16",
      "model_name": "IntEditorModel",
      "state": {
       "_model_module_version": "^0.1.16",
       "_view_module_version": "^0.1.16",
       "children": [
        "IPY_MODEL_8e6019a49d114761a746e659cc1c48f2",
        "IPY_MODEL_5bfb433518c246f4a7cd7249ff19b64e",
        "IPY_MODEL_eac0f378daf14e768b562dc92a52bd46",
        "IPY_MODEL_aadcd785ecac49dd89e89b98cd11a5bc",
        "IPY_MODEL_71bb87308f7f413585405d1a1df6ad8f"
       ],
       "layout": "IPY_MODEL_a85f651d3d144554a4c5e5260dc4c9c3"
      }
     },
     "26b6ef9844df45fa90eceb06b5d3540f": {
      "model_module": "@jupyter-widgets/controls",
      "model_module_version": "1.5.0",
      "model_name": "DescriptionStyleModel",
      "state": {
       "description_width": ""
      }
     },
     "26b81cebc41f40ae83461cad70dcfba8": {
      "model_module": "@jupyter-widgets/controls",
      "model_module_version": "1.5.0",
      "model_name": "ButtonStyleModel",
      "state": {}
     },
     "26dd1eed428440a1bb6365baf44e75c4": {
      "model_module": "@jupyter-widgets/controls",
      "model_module_version": "1.5.0",
      "model_name": "BoundedIntTextModel",
      "state": {
       "description": "index",
       "layout": "IPY_MODEL_3bc727a4c5e842eba687117ad175a2bc",
       "style": "IPY_MODEL_d40cd5784b9640ce86140f6d8eb19ad7",
       "value": 2
      }
     },
     "26f268ff43434d3f8fd6c6ac3775b9a3": {
      "model_module": "@jupyter-widgets/controls",
      "model_module_version": "1.5.0",
      "model_name": "FloatSliderModel",
      "state": {
       "description": "transparency",
       "layout": "IPY_MODEL_e4b212a605144a07b42605253ab3a016",
       "max": 1,
       "step": 0.1,
       "style": "IPY_MODEL_4c81abb4c66846b5a198148d5fde3afe"
      }
     },
     "2709472ca87f4725b5c5062de9bf1341": {
      "model_module": "@jupyter-widgets/base",
      "model_module_version": "1.2.0",
      "model_name": "LayoutModel",
      "state": {}
     },
     "2718cbd168e24762a6996c846ee444dd": {
      "model_module": "@jupyter-widgets/controls",
      "model_module_version": "1.5.0",
      "model_name": "VBoxModel",
      "state": {
       "children": [
        "IPY_MODEL_129b9808260140be91fe527eb514555e",
        "IPY_MODEL_885caec9d1dd43c096b9a173555e99ba",
        "IPY_MODEL_e801703ebaf5452e9d7d9e5fc1f6b6d2",
        "IPY_MODEL_a6ba6d086bb947a9a81c7c00b649099a",
        "IPY_MODEL_e15fba46cf5946eeb499bb44c328da38"
       ],
       "layout": "IPY_MODEL_2770585a31af4e729bfb171d1f970cd6"
      }
     },
     "2718d36a76b14abe8337699015ee06ad": {
      "model_module": "@jupyter-widgets/controls",
      "model_module_version": "1.5.0",
      "model_name": "ButtonStyleModel",
      "state": {}
     },
     "2719d1e459504afd8a880d0568a15e88": {
      "model_module": "@jupyter-widgets/controls",
      "model_module_version": "1.5.0",
      "model_name": "IntSliderModel",
      "state": {
       "description": "value",
       "layout": "IPY_MODEL_b238a4f955c2461f89027d080a34f27a",
       "max": 10,
       "min": 1,
       "style": "IPY_MODEL_f2a5aa5ff05a4e369a4aa1886f23f400",
       "value": 2
      }
     },
     "27341d701b39454692c62d6ea10319c8": {
      "model_module": "@jupyter-widgets/controls",
      "model_module_version": "1.5.0",
      "model_name": "DescriptionStyleModel",
      "state": {
       "description_width": ""
      }
     },
     "2734669ed71e445c9b770b3e6d70465e": {
      "model_module": "@jupyter-widgets/controls",
      "model_module_version": "1.5.0",
      "model_name": "SliderStyleModel",
      "state": {
       "description_width": ""
      }
     },
     "273d55f5f31d4648966c52a36a8bc18e": {
      "model_module": "pgljupyter",
      "model_module_version": "^0.1.21",
      "model_name": "MaterialEditorModel",
      "state": {
       "_model_module_version": "^0.1.21",
       "_view_module_version": "^0.1.21",
       "children": [
        "IPY_MODEL_208de69f01e844309a09e7a6c6150e42",
        "IPY_MODEL_9bc9c3338eea4c8c86654a7b2ab4b2be",
        "IPY_MODEL_5fd9a8d12c4d45588031973ef01650c0",
        "IPY_MODEL_92d4898f94824292b0826fcacbbe587f",
        "IPY_MODEL_62fff4b10d2c498fa7de85b618a36351",
        "IPY_MODEL_4e7c5a348d354d778c2e8fac651d24ae",
        "IPY_MODEL_26f268ff43434d3f8fd6c6ac3775b9a3",
        "IPY_MODEL_d24455fb0aa04c15978bcf82f484ec0d"
       ],
       "layout": "IPY_MODEL_7c3d32abecd84c22aa8e83abca17afd6"
      }
     },
     "2748b3bc98584be89e557777f606f30e": {
      "model_module": "@jupyter-widgets/base",
      "model_module_version": "1.2.0",
      "model_name": "LayoutModel",
      "state": {}
     },
     "2770585a31af4e729bfb171d1f970cd6": {
      "model_module": "@jupyter-widgets/base",
      "model_module_version": "1.2.0",
      "model_name": "LayoutModel",
      "state": {}
     },
     "27c99d487aef426398bafe8dc27b8491": {
      "model_module": "@jupyter-widgets/base",
      "model_module_version": "1.2.0",
      "model_name": "LayoutModel",
      "state": {}
     },
     "27db93bf65524d2284a49781056a9a62": {
      "model_module": "@jupyter-widgets/controls",
      "model_module_version": "1.5.0",
      "model_name": "ColorPickerModel",
      "state": {
       "description": "emission",
       "disabled": false,
       "layout": "IPY_MODEL_e59ef7e3da2d431aa71e18e3821cfa08",
       "style": "IPY_MODEL_3db911a62ff849f586c69fb2aeb16264",
       "value": "#000000"
      }
     },
     "27f197b4f13d478283479e8a52271d78": {
      "model_module": "@jupyter-widgets/controls",
      "model_module_version": "1.5.0",
      "model_name": "ButtonModel",
      "state": {
       "description": "Save changes",
       "layout": "IPY_MODEL_f826609262fd40cb852fc2f4bd691b74",
       "style": "IPY_MODEL_dfccc42a1e8f4f4abdf4c85dd83fbdf3"
      }
     },
     "27fe3c9c89974787b0edc4789c341ca9": {
      "model_module": "@jupyter-widgets/controls",
      "model_module_version": "1.5.0",
      "model_name": "HBoxModel",
      "state": {
       "children": [
        "IPY_MODEL_2c3d5b9c67304c348b4eb5bcf90e2211",
        "IPY_MODEL_b5f4711335994c13acf965c77d3f280c"
       ],
       "layout": "IPY_MODEL_8b9a41a0b095405186d1eec77ac0c839"
      }
     },
     "280f5706c53c48bd96c1f0c3b5a82955": {
      "model_module": "@jupyter-widgets/controls",
      "model_module_version": "1.5.0",
      "model_name": "ColorPickerModel",
      "state": {
       "description": "specular",
       "disabled": false,
       "layout": "IPY_MODEL_47c2ee699e6a4f7c83103495961650b0",
       "style": "IPY_MODEL_b618285ed5684282bcdc1d912a0170cc",
       "value": "#282828"
      }
     },
     "283766ded61e469895271b99cd20aee7": {
      "model_module": "@jupyter-widgets/controls",
      "model_module_version": "1.5.0",
      "model_name": "IntSliderModel",
      "state": {
       "description": "value",
       "layout": "IPY_MODEL_858878c7e61544b790ca64ba3754be3a",
       "max": 10,
       "min": 1,
       "style": "IPY_MODEL_1c6b5e326e8d49b2a591f19e3efcbb8c",
       "value": 3
      }
     },
     "28501e07ca81424ba924d3f88696843a": {
      "model_module": "@jupyter-widgets/controls",
      "model_module_version": "1.5.0",
      "model_name": "ButtonStyleModel",
      "state": {}
     },
     "286459ac772e4d45a1cdf2d3de2f2641": {
      "model_module": "@jupyter-widgets/controls",
      "model_module_version": "1.5.0",
      "model_name": "HBoxModel",
      "state": {
       "children": [
        "IPY_MODEL_7fa3fc5095444041b8bf59eb82ee0f1b",
        "IPY_MODEL_c670633e3aa5429fb74ad03495d1835c"
       ],
       "layout": "IPY_MODEL_78dff3c9b0ab4092885a4681b708b9c4"
      }
     },
     "28691dd4baba4a50be1bed6f5dc13469": {
      "model_module": "@jupyter-widgets/controls",
      "model_module_version": "1.5.0",
      "model_name": "DropdownModel",
      "state": {
       "_options_labels": [
        "maxorder",
        "radinc",
        "nb_axes"
       ],
       "index": 0,
       "layout": "IPY_MODEL_3e88ff73b7174894a74048caac61d6dd",
       "style": "IPY_MODEL_e635d4b4c4cd44f2a336ab38518f4c9b"
      }
     },
     "28941cfcc3894fe3a6bb53b671b1fbf1": {
      "model_module": "@jupyter-widgets/controls",
      "model_module_version": "1.5.0",
      "model_name": "DescriptionStyleModel",
      "state": {
       "description_width": ""
      }
     },
     "289af199b7494ce2935204247e9a8c74": {
      "model_module": "@jupyter-widgets/base",
      "model_module_version": "1.2.0",
      "model_name": "LayoutModel",
      "state": {}
     },
     "28a05ce0d8c24017b029c6f3618ad10e": {
      "model_module": "@jupyter-widgets/controls",
      "model_module_version": "1.5.0",
      "model_name": "DescriptionStyleModel",
      "state": {
       "description_width": ""
      }
     },
     "28ac8517ff6543888b7ae35a5a88a964": {
      "model_module": "@jupyter-widgets/base",
      "model_module_version": "1.2.0",
      "model_name": "LayoutModel",
      "state": {}
     },
     "28dbfeb66b4146699787fc4516f4869c": {
      "model_module": "@jupyter-widgets/base",
      "model_module_version": "1.2.0",
      "model_name": "LayoutModel",
      "state": {}
     },
     "29064321623c4d5898f0497a0e6f1a9b": {
      "model_module": "@jupyter-widgets/controls",
      "model_module_version": "1.5.0",
      "model_name": "TextModel",
      "state": {
       "continuous_update": false,
       "description": "name",
       "layout": "IPY_MODEL_a9df16e35c5f405d9c104c38009649b4",
       "style": "IPY_MODEL_2f3becaa6f924668b1467b326723563f",
       "value": "nb_axes"
      }
     },
     "2924304826be4bcbbec3dd2b0c517649": {
      "model_module": "@jupyter-widgets/base",
      "model_module_version": "1.2.0",
      "model_name": "LayoutModel",
      "state": {}
     },
     "29918fb80a9848de89cb62bc4cb1cf45": {
      "model_module": "pgljupyter",
      "model_module_version": "^0.2.1",
      "model_name": "IntEditorModel",
      "state": {
       "_model_module_version": "^0.2.1",
       "_view_module_version": "^0.2.1",
       "children": [
        "IPY_MODEL_fe74346422b14408b4205e6f263ffe4f",
        "IPY_MODEL_d807d0ad6ae64aefa2b06fb075a472d5"
       ],
       "layout": "IPY_MODEL_ce2ea377b89d4a4daac61d7b0d613233"
      }
     },
     "29963b5130614ef58373b07536e44942": {
      "model_module": "@jupyter-widgets/base",
      "model_module_version": "1.2.0",
      "model_name": "LayoutModel",
      "state": {}
     },
     "29ada92f78534b5a8245a40f76bd758a": {
      "model_module": "@jupyter-widgets/base",
      "model_module_version": "1.2.0",
      "model_name": "LayoutModel",
      "state": {}
     },
     "29c4bd8332b8480e91c8c5587019d711": {
      "model_module": "@jupyter-widgets/base",
      "model_module_version": "1.2.0",
      "model_name": "LayoutModel",
      "state": {}
     },
     "29cb9888dbcc4dc9bc915fc90fd8998a": {
      "model_module": "@jupyter-widgets/base",
      "model_module_version": "1.2.0",
      "model_name": "LayoutModel",
      "state": {}
     },
     "29cf0466a11e48fc973f7029133b4c1c": {
      "model_module": "@jupyter-widgets/base",
      "model_module_version": "1.2.0",
      "model_name": "LayoutModel",
      "state": {}
     },
     "29f083c6202b4e71911388db0eb926e4": {
      "model_module": "@jupyter-widgets/controls",
      "model_module_version": "1.5.0",
      "model_name": "FloatSliderModel",
      "state": {
       "description": "diffuse",
       "layout": "IPY_MODEL_1a901903106b4de5881749108bd6c41d",
       "max": 3,
       "step": 0.1,
       "style": "IPY_MODEL_e2de1706c64a496781bb68ab5f7e1f36",
       "value": 1
      }
     },
     "2a3d358efbf34acb9c7a60be2b6f23ae": {
      "model_module": "@jupyter-widgets/controls",
      "model_module_version": "1.5.0",
      "model_name": "DescriptionStyleModel",
      "state": {
       "description_width": ""
      }
     },
     "2a4657dcf6134dbf9171718197e5e80f": {
      "model_module": "@jupyter-widgets/base",
      "model_module_version": "1.2.0",
      "model_name": "LayoutModel",
      "state": {}
     },
     "2a605d1454bf4acca4cac90df2e78bf1": {
      "model_module": "@jupyter-widgets/controls",
      "model_module_version": "1.5.0",
      "model_name": "ButtonStyleModel",
      "state": {}
     },
     "2aa3ae383fe546ccba78dde66139f07e": {
      "model_module": "@jupyter-widgets/controls",
      "model_module_version": "1.5.0",
      "model_name": "HBoxModel",
      "state": {
       "children": [
        "IPY_MODEL_baf1a60a7c1b4d32906c8ce7421ac654",
        "IPY_MODEL_8b39ce9f414948e2acb5c8cfdcf3d6a8"
       ],
       "layout": "IPY_MODEL_48081768731e4a308ef6582f5108536e"
      }
     },
     "2b06ff77988044cbbe92812f8d420a23": {
      "model_module": "@jupyter-widgets/base",
      "model_module_version": "1.2.0",
      "model_name": "LayoutModel",
      "state": {
       "margin": "20px 0px"
      }
     },
     "2b0ed78f41644859a87787f1255e1b81": {
      "model_module": "@jupyter-widgets/controls",
      "model_module_version": "1.5.0",
      "model_name": "DescriptionStyleModel",
      "state": {
       "description_width": ""
      }
     },
     "2b2537aec03a486682b37fa201430b15": {
      "model_module": "@jupyter-widgets/controls",
      "model_module_version": "1.5.0",
      "model_name": "DescriptionStyleModel",
      "state": {
       "description_width": ""
      }
     },
     "2b3aa6ff79cb4ab0a903470dc0cbc38c": {
      "model_module": "@jupyter-widgets/controls",
      "model_module_version": "1.5.0",
      "model_name": "ButtonModel",
      "state": {
       "description": "Add",
       "layout": "IPY_MODEL_5a36ed8d8d52493a85069ee7e9740581",
       "style": "IPY_MODEL_ca7aee704c7f4c709cbfb43965044d9e"
      }
     },
     "2b6bcb5538be448e892da6df8ef5fc7b": {
      "model_module": "@jupyter-widgets/base",
      "model_module_version": "1.2.0",
      "model_name": "LayoutModel",
      "state": {}
     },
     "2b91b62c30f74a2d80349a21cd49380b": {
      "model_module": "@jupyter-widgets/controls",
      "model_module_version": "1.5.0",
      "model_name": "HBoxModel",
      "state": {
       "children": [
        "IPY_MODEL_9334138484854b40a86080f1b61c3cbf",
        "IPY_MODEL_2ebfcf29b8b347bcbb892e15552a4724"
       ],
       "layout": "IPY_MODEL_37ab0aab470c48e49c20c495f371e4d0"
      }
     },
     "2ba15c3936ee4dd3a35e1ac8b8710c9d": {
      "model_module": "@jupyter-widgets/controls",
      "model_module_version": "1.5.0",
      "model_name": "FloatSliderModel",
      "state": {
       "description": "shininess",
       "layout": "IPY_MODEL_6568a84592d945ddaf5e6c0dc6c917c1",
       "max": 1,
       "step": 0.1,
       "style": "IPY_MODEL_c076c7f8110443d8b16ad88e24d4c9c2",
       "value": 0.2
      }
     },
     "2bc76f78cd2740a6bbf7d58fd5b203a9": {
      "model_module": "@jupyter-widgets/controls",
      "model_module_version": "1.5.0",
      "model_name": "BoundedIntTextModel",
      "state": {
       "description": "index",
       "layout": "IPY_MODEL_0263367b3ff344bcaffd73258d997ec2",
       "style": "IPY_MODEL_20f26d89736d43d19f678d93232feee7",
       "value": 1
      }
     },
     "2bc9612a3671413583aacf103d7434c3": {
      "model_module": "@jupyter-widgets/controls",
      "model_module_version": "1.5.0",
      "model_name": "HBoxModel",
      "state": {
       "children": [
        "IPY_MODEL_eb9c25defb924bd4a139c44c404e7001",
        "IPY_MODEL_81cddc7ae49e4648a2c274c8e34674fa"
       ],
       "layout": "IPY_MODEL_4b4fb8f835ff4f25801bdcf57fb1eba4"
      }
     },
     "2bf17ef5037e47f2a920e8d7811f8932": {
      "model_module": "@jupyter-widgets/base",
      "model_module_version": "1.2.0",
      "model_name": "LayoutModel",
      "state": {}
     },
     "2c07ac220de942ccb12377bf94366b14": {
      "model_module": "@jupyter-widgets/controls",
      "model_module_version": "1.5.0",
      "model_name": "ColorPickerModel",
      "state": {
       "description": "specular",
       "disabled": false,
       "layout": "IPY_MODEL_0fbf4f04c7844825967a392870b05c3c",
       "style": "IPY_MODEL_674ce701a99c4dd290082ac0ca4a9bf8",
       "value": "#282828"
      }
     },
     "2c2396952b064b95b30ec4636f7a5104": {
      "model_module": "@jupyter-widgets/base",
      "model_module_version": "1.2.0",
      "model_name": "LayoutModel",
      "state": {}
     },
     "2c3d5b9c67304c348b4eb5bcf90e2211": {
      "model_module": "pgljupyter",
      "model_module_version": "^0.2.0",
      "model_name": "IntEditorModel",
      "state": {
       "_model_module_version": "^0.2.0",
       "_view_module_version": "^0.2.0",
       "children": [
        "IPY_MODEL_f68ee7a1ff1f4c219cab354f0604eedb",
        "IPY_MODEL_400f8b7ad23543b7ae90c9244d04af9e"
       ],
       "layout": "IPY_MODEL_f63891c4f64f4653a78aca23c81afe25"
      }
     },
     "2c4a0f6f749e428e81918dc2b18b6073": {
      "model_module": "@jupyter-widgets/base",
      "model_module_version": "1.2.0",
      "model_name": "LayoutModel",
      "state": {}
     },
     "2c4f8c87f0eb4c48a1315f8f85b34133": {
      "model_module": "@jupyter-widgets/controls",
      "model_module_version": "1.5.0",
      "model_name": "IntSliderModel",
      "state": {
       "description": "value",
       "layout": "IPY_MODEL_90b38a086b7a4c3dacb0a705e9da7c93",
       "max": 10,
       "min": 1,
       "style": "IPY_MODEL_d57e2be537e04b77bd713ec999a5c5a4",
       "value": 5
      }
     },
     "2c72ff2950854494b63f8872eabd3dac": {
      "model_module": "@jupyter-widgets/base",
      "model_module_version": "1.2.0",
      "model_name": "LayoutModel",
      "state": {}
     },
     "2c7e43047da344c297659bb5c7099369": {
      "model_module": "@jupyter-widgets/controls",
      "model_module_version": "1.5.0",
      "model_name": "HBoxModel",
      "state": {
       "children": [
        "IPY_MODEL_50df7fad8d974b4992fd0cea68bec79c",
        "IPY_MODEL_95e1beb5a96b4e808db8fc25b38b38b1"
       ],
       "layout": "IPY_MODEL_1252932a3a30469f9a39f40e32962dd6"
      }
     },
     "2ca190b4488b4a8bb87918abe0375319": {
      "model_module": "@jupyter-widgets/base",
      "model_module_version": "1.2.0",
      "model_name": "LayoutModel",
      "state": {}
     },
     "2ca34fe9924a49fc83bddc7127569de5": {
      "model_module": "@jupyter-widgets/controls",
      "model_module_version": "1.5.0",
      "model_name": "FloatSliderModel",
      "state": {
       "description": "transparency",
       "layout": "IPY_MODEL_7ca3a8c138b64f70941125a4b01033f9",
       "max": 1,
       "step": 0.1,
       "style": "IPY_MODEL_e812837d2b0f440e9038a8b882215c27"
      }
     },
     "2cabd356816143a89ce79e41bd309ed4": {
      "model_module": "@jupyter-widgets/controls",
      "model_module_version": "1.5.0",
      "model_name": "HBoxModel",
      "state": {
       "children": [
        "IPY_MODEL_665a21b5b0a24ed98abe27fb4169edb8",
        "IPY_MODEL_e9c513a4f98a4afd87ad87a4ddd1d942"
       ],
       "layout": "IPY_MODEL_a0afcc87243542eeaf16398cb75a5821"
      }
     },
     "2cbe2b9f20a14b2c9ff7c42cc96e34c6": {
      "model_module": "@jupyter-widgets/controls",
      "model_module_version": "1.5.0",
      "model_name": "ColorPickerModel",
      "state": {
       "description": "emission",
       "disabled": false,
       "layout": "IPY_MODEL_0499384873a04178a41a7a611d6d08dc",
       "style": "IPY_MODEL_c120885553c04d129fd38676ed6234d2",
       "value": "#000000"
      }
     },
     "2cebf6544aeb43e5867b20b905a27538": {
      "model_module": "@jupyter-widgets/controls",
      "model_module_version": "1.5.0",
      "model_name": "ButtonModel",
      "state": {
       "description": "Add",
       "layout": "IPY_MODEL_52ed086a39d24a57919b206846df9aba",
       "style": "IPY_MODEL_f3a5d74515114615b5d451bc8e5d23f5"
      }
     },
     "2cf86b3c818d4ae9854cb7c3aba3e9e5": {
      "model_module": "@jupyter-widgets/base",
      "model_module_version": "1.2.0",
      "model_name": "LayoutModel",
      "state": {}
     },
     "2d0c3904e1ae45eaa6ffc4291f335b1f": {
      "model_module": "@jupyter-widgets/controls",
      "model_module_version": "1.5.0",
      "model_name": "ButtonStyleModel",
      "state": {}
     },
     "2d215d5802a64161ad4658212812c5f3": {
      "model_module": "@jupyter-widgets/controls",
      "model_module_version": "1.5.0",
      "model_name": "HBoxModel",
      "state": {
       "children": [
        "IPY_MODEL_88f44b81f9624f8db9eb6600e3fb96e4"
       ],
       "layout": "IPY_MODEL_4d77f69f74244057baec36b232f87f78"
      }
     },
     "2d488102b5284d38b5c87aa63c4159cf": {
      "model_module": "@jupyter-widgets/controls",
      "model_module_version": "1.5.0",
      "model_name": "FloatSliderModel",
      "state": {
       "description": "transparency",
       "layout": "IPY_MODEL_18f2aa4406d94deaab24b3b2e2829509",
       "max": 1,
       "step": 0.1,
       "style": "IPY_MODEL_ba5e485f797f45a793e7c0053d26227b"
      }
     },
     "2d5a147118f043b0bedacc46a82c83fb": {
      "model_module": "@jupyter-widgets/controls",
      "model_module_version": "1.5.0",
      "model_name": "SliderStyleModel",
      "state": {
       "description_width": ""
      }
     },
     "2d633741e82e4a00811c61de610e3b6b": {
      "model_module": "@jupyter-widgets/controls",
      "model_module_version": "1.5.0",
      "model_name": "DescriptionStyleModel",
      "state": {
       "description_width": ""
      }
     },
     "2d7812945748435ea206c4b8b1341c7c": {
      "model_module": "pgljupyter",
      "model_module_version": "^0.1.19",
      "model_name": "MaterialEditorModel",
      "state": {
       "_model_module_version": "^0.1.19",
       "_view_module_version": "^0.1.19",
       "children": [
        "IPY_MODEL_e9e462dbc66b4f12b3954106b87e846a",
        "IPY_MODEL_9d85129303a24583bb579ed66f0f17c6",
        "IPY_MODEL_4afd330d8b794b27b31b952402605af2",
        "IPY_MODEL_1a30bd6297ea496caffb74eca89f7301",
        "IPY_MODEL_55fd0718c41b435db5caa06ebb66c4d3",
        "IPY_MODEL_3823b97d96004b689f2595044278fc3f",
        "IPY_MODEL_2ca34fe9924a49fc83bddc7127569de5",
        "IPY_MODEL_7ec9db9a54454f7cb858727c3b9c3b2c"
       ],
       "layout": "IPY_MODEL_13ba8e749f2441f7b7dfcbe5210b62c8"
      }
     },
     "2d9fad0b565a4646b1f726689ed625fc": {
      "model_module": "@jupyter-widgets/controls",
      "model_module_version": "1.5.0",
      "model_name": "ButtonStyleModel",
      "state": {}
     },
     "2da2625474d444a4a745acca04a53c1f": {
      "model_module": "@jupyter-widgets/controls",
      "model_module_version": "1.5.0",
      "model_name": "FloatSliderModel",
      "state": {
       "description": "shininess",
       "layout": "IPY_MODEL_694aa30345644ad9836c04cf3497349c",
       "max": 1,
       "step": 0.1,
       "style": "IPY_MODEL_eb38eb2960ba4c56b249425bdddbb378",
       "value": 0.2
      }
     },
     "2db2bcd91a494d90ae05ccff343b9cd8": {
      "model_module": "@jupyter-widgets/controls",
      "model_module_version": "1.5.0",
      "model_name": "FloatSliderModel",
      "state": {
       "continuous_update": false,
       "description": "transparency",
       "layout": "IPY_MODEL_e0334feb269f4bd48324305953a1e6ae",
       "max": 1,
       "step": 0.1,
       "style": "IPY_MODEL_5eb52801b444455c89501750f354aefb"
      }
     },
     "2db2f596971f45688e65a9abdd337586": {
      "model_module": "@jupyter-widgets/controls",
      "model_module_version": "1.5.0",
      "model_name": "IntSliderModel",
      "state": {
       "description": "value",
       "layout": "IPY_MODEL_720602bd96314ddbb7e19314e2bb1ac7",
       "max": 7,
       "min": 1,
       "style": "IPY_MODEL_10203e2cc2ca454cbb746ee2e79b4d81",
       "value": 3
      }
     },
     "2db8651a2bd342e7b9af50736d9bfac4": {
      "model_module": "@jupyter-widgets/controls",
      "model_module_version": "1.5.0",
      "model_name": "DescriptionStyleModel",
      "state": {
       "description_width": ""
      }
     },
     "2ddb53f89ba24d29879e06aa20312c33": {
      "model_module": "@jupyter-widgets/controls",
      "model_module_version": "1.5.0",
      "model_name": "VBoxModel",
      "state": {
       "children": [
        "IPY_MODEL_76a7891c95b448d2af9b34121cc3d931",
        "IPY_MODEL_6ae70c48f5bb42129c7504bfebdb6214",
        "IPY_MODEL_5f98c0fc4bc74bb18355255bc02aa93c",
        "IPY_MODEL_07fb05e1465a436cb2c1b6e04d7bcaca",
        "IPY_MODEL_754eef940be14d05ae2afa1c1b3f2e0d"
       ],
       "layout": "IPY_MODEL_415d5dcf24dc4e0f9ab09bc6e94846fa"
      }
     },
     "2de7c371544e409a8f3f128430eeced9": {
      "model_module": "@jupyter-widgets/base",
      "model_module_version": "1.2.0",
      "model_name": "LayoutModel",
      "state": {}
     },
     "2dfab165a38a474a9e9817abcac0b323": {
      "model_module": "@jupyter-widgets/controls",
      "model_module_version": "1.5.0",
      "model_name": "FloatSliderModel",
      "state": {
       "continuous_update": false,
       "description": "shininess",
       "layout": "IPY_MODEL_7546d76713104ae7b74c0753c1993f60",
       "max": 1,
       "step": 0.1,
       "style": "IPY_MODEL_9cf65854b2c54adb984d11e458529a82",
       "value": 0.2
      }
     },
     "2e21adf4c8bb4fac95416edb37f93844": {
      "model_module": "@jupyter-widgets/controls",
      "model_module_version": "1.5.0",
      "model_name": "ColorPickerModel",
      "state": {
       "description": "emission",
       "disabled": false,
       "layout": "IPY_MODEL_09b9272d2fe1478a8549297784bc14dc",
       "style": "IPY_MODEL_dde1071f08f442b987043d10dc31e5dd",
       "value": "#000000"
      }
     },
     "2e291dc0a02b4b878cc21b93ac478bfd": {
      "model_module": "@jupyter-widgets/base",
      "model_module_version": "1.2.0",
      "model_name": "LayoutModel",
      "state": {}
     },
     "2e48c81795b64dcba33d064847595389": {
      "model_module": "@jupyter-widgets/base",
      "model_module_version": "1.2.0",
      "model_name": "LayoutModel",
      "state": {}
     },
     "2e4a8e24f3cb480f948147e7187812ba": {
      "model_module": "@jupyter-widgets/base",
      "model_module_version": "1.2.0",
      "model_name": "LayoutModel",
      "state": {}
     },
     "2e66c83f178e446bb6cf343405d98cf0": {
      "model_module": "@jupyter-widgets/controls",
      "model_module_version": "1.5.0",
      "model_name": "DescriptionStyleModel",
      "state": {
       "description_width": ""
      }
     },
     "2e7935d872574becb340ab330a27a50f": {
      "model_module": "@jupyter-widgets/controls",
      "model_module_version": "1.5.0",
      "model_name": "DescriptionStyleModel",
      "state": {
       "description_width": ""
      }
     },
     "2e83ffb67736453ba28acc20275e238f": {
      "model_module": "@jupyter-widgets/base",
      "model_module_version": "1.2.0",
      "model_name": "LayoutModel",
      "state": {}
     },
     "2e9b3567dc074850a4457cea55ff8a2b": {
      "model_module": "@jupyter-widgets/controls",
      "model_module_version": "1.5.0",
      "model_name": "HBoxModel",
      "state": {
       "children": [
        "IPY_MODEL_cd7bfb5080ac406ca64676e932e517e1",
        "IPY_MODEL_48dad82cb0874a77af8613d9cc02e5b8"
       ],
       "layout": "IPY_MODEL_69c450ec1a01424db338088654b05a79"
      }
     },
     "2ebfcf29b8b347bcbb892e15552a4724": {
      "model_module": "@jupyter-widgets/controls",
      "model_module_version": "1.5.0",
      "model_name": "DropdownModel",
      "state": {
       "_options_labels": [
        "Integer",
        "Float",
        "Bool"
       ],
       "index": 0,
       "layout": "IPY_MODEL_530074057fcd4130a243bde3a073669b",
       "style": "IPY_MODEL_e248c6cad0a7477090a5f66a3ae950b9"
      }
     },
     "2ed237c444f041958ac480d559718a9b": {
      "model_module": "@jupyter-widgets/controls",
      "model_module_version": "1.5.0",
      "model_name": "TextModel",
      "state": {
       "continuous_update": false,
       "description": "name",
       "layout": "IPY_MODEL_c32f6b4c4d3c4559935e3f52d16dc798",
       "style": "IPY_MODEL_8f87f71addf8423b8fb30f7dbf62cc02",
       "value": "leafduration"
      }
     },
     "2efed7a1fa88483699467354d3562b8e": {
      "model_module": "@jupyter-widgets/base",
      "model_module_version": "1.2.0",
      "model_name": "LayoutModel",
      "state": {}
     },
     "2f0afcc5db404c0c9baabdd8288c7f23": {
      "model_module": "@jupyter-widgets/controls",
      "model_module_version": "1.5.0",
      "model_name": "TabModel",
      "state": {
       "_titles": {
        "0": "leuwenberg.json"
       },
       "children": [
        "IPY_MODEL_73496737da0c4b479a2e43c89062fdf3"
       ],
       "layout": "IPY_MODEL_2f120020ca8d4391a2338862187e2aa9"
      }
     },
     "2f120020ca8d4391a2338862187e2aa9": {
      "model_module": "@jupyter-widgets/base",
      "model_module_version": "1.2.0",
      "model_name": "LayoutModel",
      "state": {}
     },
     "2f17b1525d00451c858cb41c69112c69": {
      "model_module": "@jupyter-widgets/controls",
      "model_module_version": "1.5.0",
      "model_name": "ButtonStyleModel",
      "state": {}
     },
     "2f2a18791e474473882476c2b545f886": {
      "model_module": "@jupyter-widgets/controls",
      "model_module_version": "1.5.0",
      "model_name": "BoundedIntTextModel",
      "state": {
       "description": "index",
       "layout": "IPY_MODEL_4ba98a3088f249428269655303174413",
       "style": "IPY_MODEL_604d1a618d0d48e8ba8e49ac54668dfb",
       "value": 4
      }
     },
     "2f3becaa6f924668b1467b326723563f": {
      "model_module": "@jupyter-widgets/controls",
      "model_module_version": "1.5.0",
      "model_name": "DescriptionStyleModel",
      "state": {
       "description_width": ""
      }
     },
     "2f44d75cf5a94a1f952b35bf8347abb8": {
      "model_module": "@jupyter-widgets/controls",
      "model_module_version": "1.5.0",
      "model_name": "TextModel",
      "state": {
       "continuous_update": false,
       "description": "name",
       "layout": "IPY_MODEL_436fd876208e40f2bed14a468634cd12",
       "style": "IPY_MODEL_34cde60d4db54699b827b7171ab0d6da",
       "value": "leafold"
      }
     },
     "2f51d20deae646bdaa692fb60662aa04": {
      "model_module": "@jupyter-widgets/controls",
      "model_module_version": "1.5.0",
      "model_name": "ButtonStyleModel",
      "state": {}
     },
     "2f62c1ab623c4435ae109ecf1f320711": {
      "model_module": "@jupyter-widgets/base",
      "model_module_version": "1.2.0",
      "model_name": "LayoutModel",
      "state": {}
     },
     "2f7990fb68574e08a097ad24e9646305": {
      "model_module": "@jupyter-widgets/controls",
      "model_module_version": "1.5.0",
      "model_name": "ButtonStyleModel",
      "state": {}
     },
     "2f7bae47a5d04c279483d29ce1fb515d": {
      "model_module": "@jupyter-widgets/controls",
      "model_module_version": "1.5.0",
      "model_name": "DescriptionStyleModel",
      "state": {
       "description_width": ""
      }
     },
     "2fa0e323165245eba4d3e15b8215c92f": {
      "model_module": "@jupyter-widgets/base",
      "model_module_version": "1.2.0",
      "model_name": "LayoutModel",
      "state": {}
     },
     "2fbe66108ef0435abf2f0ae7d1785c48": {
      "model_module": "@jupyter-widgets/controls",
      "model_module_version": "1.5.0",
      "model_name": "ButtonStyleModel",
      "state": {}
     },
     "3000a614557743cbb42abf392046434f": {
      "model_module": "@jupyter-widgets/base",
      "model_module_version": "1.2.0",
      "model_name": "LayoutModel",
      "state": {}
     },
     "300d90438a1445f4819171e16fa9d386": {
      "model_module": "@jupyter-widgets/controls",
      "model_module_version": "1.5.0",
      "model_name": "HBoxModel",
      "state": {
       "layout": "IPY_MODEL_6f5e6f5355bd440d8af5ee837dac75a9"
      }
     },
     "3018078f147c4a62b9d1295467e67bb7": {
      "model_module": "@jupyter-widgets/base",
      "model_module_version": "1.2.0",
      "model_name": "LayoutModel",
      "state": {}
     },
     "30356a9a3f9349bfad41280603e63f1b": {
      "model_module": "@jupyter-widgets/controls",
      "model_module_version": "1.5.0",
      "model_name": "FloatSliderModel",
      "state": {
       "description": "shininess",
       "layout": "IPY_MODEL_15ac7abd32994b22882527528e46a15c",
       "max": 1,
       "step": 0.1,
       "style": "IPY_MODEL_197cf1dcd4204da1b4aa7c6ddffd697e",
       "value": 0.2
      }
     },
     "3036709698c94d53ac94124615b9612e": {
      "model_module": "@jupyter-widgets/controls",
      "model_module_version": "1.5.0",
      "model_name": "VBoxModel",
      "state": {
       "children": [
        "IPY_MODEL_34e6f4f09b2d4c69b0edd0a18c352caf",
        "IPY_MODEL_6b64f44ea36c41a0bce14ae865b76233"
       ],
       "layout": "IPY_MODEL_82e2fd1b3d93436b87d96fe4772c750c"
      }
     },
     "3036777e7fe24a1599267429c31acd12": {
      "model_module": "@jupyter-widgets/controls",
      "model_module_version": "1.5.0",
      "model_name": "DescriptionStyleModel",
      "state": {
       "description_width": ""
      }
     },
     "30473609ffbf4e1781ef3e743132ea77": {
      "model_module": "@jupyter-widgets/controls",
      "model_module_version": "1.5.0",
      "model_name": "ColorPickerModel",
      "state": {
       "description": "specular",
       "disabled": false,
       "layout": "IPY_MODEL_d4ef39502216401ca3c2e7381d844b04",
       "style": "IPY_MODEL_38271c79a85044a1a2f372e45b7f3762",
       "value": "#282828"
      }
     },
     "304e2cc8f62a4765b62a59138286ab58": {
      "model_module": "@jupyter-widgets/controls",
      "model_module_version": "1.5.0",
      "model_name": "ColorPickerModel",
      "state": {
       "description": "emission",
       "disabled": false,
       "layout": "IPY_MODEL_bcf4fc941c344389979acd078603c0fc",
       "style": "IPY_MODEL_c9ee8ed99d854415b137aeef8b399bf7",
       "value": "#000000"
      }
     },
     "305673ca6b654c1c8dcdccefd7e9a70a": {
      "model_module": "@jupyter-widgets/base",
      "model_module_version": "1.2.0",
      "model_name": "LayoutModel",
      "state": {}
     },
     "30d04e67afa2429b8229a2e9aae7d544": {
      "model_module": "@jupyter-widgets/controls",
      "model_module_version": "1.5.0",
      "model_name": "ColorPickerModel",
      "state": {
       "description": "emission",
       "disabled": false,
       "layout": "IPY_MODEL_6dcf6d518b354f35a404160bd83b6ff7",
       "style": "IPY_MODEL_13f6cb3231334246af2b1e8b585d86fc",
       "value": "#000000"
      }
     },
     "30d8f21dda4646f0acb3611afa8c89a6": {
      "model_module": "@jupyter-widgets/controls",
      "model_module_version": "1.5.0",
      "model_name": "SliderStyleModel",
      "state": {
       "description_width": ""
      }
     },
     "30f8fe4f47224d6abe3cbbfae3e4ee75": {
      "model_module": "@jupyter-widgets/base",
      "model_module_version": "1.2.0",
      "model_name": "LayoutModel",
      "state": {}
     },
     "30fc1196fdfd42ed9a9f045bd8dae1e5": {
      "model_module": "@jupyter-widgets/controls",
      "model_module_version": "1.5.0",
      "model_name": "TextModel",
      "state": {
       "layout": "IPY_MODEL_25d0de7e5f6b4377b1b18a37159afc24",
       "placeholder": "category name",
       "style": "IPY_MODEL_cc658d72aeb9448c92ed6b2cedd5b4c2"
      }
     },
     "310624f7b16b4f028b5ca1be66aaddee": {
      "model_module": "@jupyter-widgets/controls",
      "model_module_version": "1.5.0",
      "model_name": "TextModel",
      "state": {
       "continuous_update": false,
       "description": "name",
       "layout": "IPY_MODEL_b8c7f3e772e0418984b752d8cabfe954",
       "style": "IPY_MODEL_dfbf3f0450ae43368952951aba7baba3",
       "value": "leafold"
      }
     },
     "3118b20c6b1b41b095139fadd7aa0f5e": {
      "model_module": "@jupyter-widgets/controls",
      "model_module_version": "1.5.0",
      "model_name": "HBoxModel",
      "state": {
       "children": [
        "IPY_MODEL_fd123b157eeb4540a7cc729aaa32ef3f",
        "IPY_MODEL_a2b015214e0846d9ac5d81a1bebac7b4"
       ],
       "layout": "IPY_MODEL_c668486775d54df3a202a26b6d1a94af"
      }
     },
     "311ce300b7c84bb79c37a6974f900649": {
      "model_module": "@jupyter-widgets/controls",
      "model_module_version": "1.5.0",
      "model_name": "ButtonModel",
      "state": {
       "description": "Delete",
       "layout": "IPY_MODEL_d007a3afb7ef4e6ab1691e067fa2adc5",
       "style": "IPY_MODEL_7878f40721f94603b8bcdf02db2a6f8c"
      }
     },
     "31516d112bb34f208b3e2ebaa6a85f0f": {
      "model_module": "@jupyter-widgets/controls",
      "model_module_version": "1.5.0",
      "model_name": "SliderStyleModel",
      "state": {
       "description_width": ""
      }
     },
     "3152de1fa1164856a37a0aa90a315025": {
      "model_module": "pgljupyter",
      "model_module_version": "^0.1.17",
      "model_name": "IntEditorModel",
      "state": {
       "_model_module_version": "^0.1.17",
       "_view_module_version": "^0.1.17",
       "children": [
        "IPY_MODEL_526eb050a3ef4576aa3195631f16da0b",
        "IPY_MODEL_4720179570ea4e868498362e539111b3"
       ],
       "layout": "IPY_MODEL_d3311825194e40848ec86c6df05ec71f"
      }
     },
     "316543aadacb4f0ca44a827843561364": {
      "model_module": "@jupyter-widgets/controls",
      "model_module_version": "1.5.0",
      "model_name": "DescriptionStyleModel",
      "state": {
       "description_width": ""
      }
     },
     "31732b3ef50740ba848f6bc135cf9542": {
      "model_module": "@jupyter-widgets/controls",
      "model_module_version": "1.5.0",
      "model_name": "HBoxModel",
      "state": {
       "children": [
        "IPY_MODEL_0d137c7adb8f46d4a424e69649dea26f",
        "IPY_MODEL_0c240000ec0a4039a85b00acba556d7e"
       ],
       "layout": "IPY_MODEL_5d592cc939754fea80d73face4c60e8f"
      }
     },
     "31747047bcce495c891518d32e015bdf": {
      "model_module": "@jupyter-widgets/controls",
      "model_module_version": "1.5.0",
      "model_name": "ColorPickerModel",
      "state": {
       "description": "emission",
       "disabled": false,
       "layout": "IPY_MODEL_40ca5fd3b43d4d15a3135eeef5886fc1",
       "style": "IPY_MODEL_184575d290844eb0802b2744b027c06f",
       "value": "#000000"
      }
     },
     "3178a3216d144ea499adf4148f81828a": {
      "model_module": "@jupyter-widgets/base",
      "model_module_version": "1.2.0",
      "model_name": "LayoutModel",
      "state": {}
     },
     "3195adc8fefb45378839f142bc7b7fdc": {
      "model_module": "@jupyter-widgets/base",
      "model_module_version": "1.2.0",
      "model_name": "LayoutModel",
      "state": {}
     },
     "31e5447b555c40528ae38c2d4c949f9f": {
      "model_module": "@jupyter-widgets/controls",
      "model_module_version": "1.5.0",
      "model_name": "ButtonStyleModel",
      "state": {}
     },
     "31f8f240a62d42c994ef77ad3eff9028": {
      "model_module": "@jupyter-widgets/controls",
      "model_module_version": "1.5.0",
      "model_name": "DescriptionStyleModel",
      "state": {
       "description_width": ""
      }
     },
     "31ff80b71d0e49b293026e52abfdb4bc": {
      "model_module": "@jupyter-widgets/controls",
      "model_module_version": "1.5.0",
      "model_name": "HBoxModel",
      "state": {
       "children": [
        "IPY_MODEL_98fe3261f12c4e249958290f37ba93d2",
        "IPY_MODEL_02a935317d5e4652b323d2ec7d9e44eb"
       ],
       "layout": "IPY_MODEL_20ab7410ec8c4e87a7028f3830335948"
      }
     },
     "3242767a029c4316a2ec4ab31704f3d8": {
      "model_module": "@jupyter-widgets/base",
      "model_module_version": "1.2.0",
      "model_name": "LayoutModel",
      "state": {}
     },
     "325f707370a740838e0eb29d03bfca53": {
      "model_module": "@jupyter-widgets/base",
      "model_module_version": "1.2.0",
      "model_name": "LayoutModel",
      "state": {
       "margin": "10px 10px"
      }
     },
     "32834c0308ce4413b19627f02762d646": {
      "model_module": "@jupyter-widgets/controls",
      "model_module_version": "1.5.0",
      "model_name": "IntSliderModel",
      "state": {
       "description": "value",
       "layout": "IPY_MODEL_c43e0238c1ef4e7c983ad07ad7529348",
       "max": 10,
       "min": 1,
       "style": "IPY_MODEL_86b075a727d1420b8b8e02e04c401dbf",
       "value": 3
      }
     },
     "32f9213597194d8bb44e46d1c99c84fb": {
      "model_module": "@jupyter-widgets/base",
      "model_module_version": "1.2.0",
      "model_name": "LayoutModel",
      "state": {}
     },
     "3324d05d1f6847678f57a1016eafaa0e": {
      "model_module": "@jupyter-widgets/controls",
      "model_module_version": "1.5.0",
      "model_name": "DescriptionStyleModel",
      "state": {
       "description_width": ""
      }
     },
     "33370c23f7f94edbae64929f7be4a58c": {
      "model_module": "@jupyter-widgets/base",
      "model_module_version": "1.2.0",
      "model_name": "LayoutModel",
      "state": {
       "margin": "20px 0px"
      }
     },
     "333c1c1af63143dfb66f43fe624cc4ba": {
      "model_module": "@jupyter-widgets/controls",
      "model_module_version": "1.5.0",
      "model_name": "ButtonStyleModel",
      "state": {}
     },
     "3370ab19ca7d4eb6bd833095110e8888": {
      "model_module": "@jupyter-widgets/controls",
      "model_module_version": "1.5.0",
      "model_name": "HBoxModel",
      "state": {
       "children": [
        "IPY_MODEL_db5f6dc768de4f52af107562f58156fb",
        "IPY_MODEL_ef5333f5371043d19deb770e002aef6f"
       ],
       "layout": "IPY_MODEL_4ef238a8a44a43369f6ff4c32bb90c5c"
      }
     },
     "33a25a7f6c774d99a2ad689dcc5a28a6": {
      "model_module": "@jupyter-widgets/controls",
      "model_module_version": "1.5.0",
      "model_name": "ButtonStyleModel",
      "state": {}
     },
     "33df28684ad348f5b03827854e48c752": {
      "model_module": "@jupyter-widgets/controls",
      "model_module_version": "1.5.0",
      "model_name": "SliderStyleModel",
      "state": {
       "description_width": ""
      }
     },
     "33e248224d044ba185e32bc6cddc3055": {
      "model_module": "@jupyter-widgets/controls",
      "model_module_version": "1.5.0",
      "model_name": "ButtonStyleModel",
      "state": {}
     },
     "33ecac72bc1645e0b487c066dc742e70": {
      "model_module": "@jupyter-widgets/controls",
      "model_module_version": "1.5.0",
      "model_name": "TextModel",
      "state": {
       "continuous_update": false,
       "description": "name",
       "layout": "IPY_MODEL_407661e8679b4f3b9602e2daaddae72e",
       "style": "IPY_MODEL_a6a5cc76976d4a088ca7e7f307750adf",
       "value": "leaf_new"
      }
     },
     "33f1c8621f03490ab5245ccf59e30f24": {
      "model_module": "pgljupyter",
      "model_module_version": "^0.1.21",
      "model_name": "IntEditorModel",
      "state": {
       "_model_module_version": "^0.1.21",
       "_view_module_version": "^0.1.21",
       "children": [
        "IPY_MODEL_97f9054a19b94f649c2c43daf746d8ad",
        "IPY_MODEL_556f03c0e652466698acdf9d3ef53d64"
       ],
       "layout": "IPY_MODEL_f09ec2f11f444eed8d6fdf286e95dc1c"
      }
     },
     "34039ec0ba934c63862e396616b031ef": {
      "model_module": "@jupyter-widgets/controls",
      "model_module_version": "1.5.0",
      "model_name": "ButtonModel",
      "state": {
       "description": "Add category",
       "layout": "IPY_MODEL_f3b5f46f7b7c466baaef384604030357",
       "style": "IPY_MODEL_54afde6385054afa854c63b78d32c519"
      }
     },
     "340f0dbc98ff42bda049e2e8bbb7b838": {
      "model_module": "@jupyter-widgets/base",
      "model_module_version": "1.2.0",
      "model_name": "LayoutModel",
      "state": {}
     },
     "341481874f4a40c88fa0bc3937bf1f74": {
      "model_module": "@jupyter-widgets/base",
      "model_module_version": "1.2.0",
      "model_name": "LayoutModel",
      "state": {}
     },
     "3423cf0a4514403f822864a725d3fedc": {
      "model_module": "@jupyter-widgets/base",
      "model_module_version": "1.2.0",
      "model_name": "LayoutModel",
      "state": {}
     },
     "3431b524e8b5496f8fc9b98497689096": {
      "model_module": "@jupyter-widgets/base",
      "model_module_version": "1.2.0",
      "model_name": "LayoutModel",
      "state": {}
     },
     "344335e7670a495595018a08fc546dec": {
      "model_module": "@jupyter-widgets/base",
      "model_module_version": "1.2.0",
      "model_name": "LayoutModel",
      "state": {}
     },
     "34b21a5ef5e44d00aead2cf328363863": {
      "model_module": "@jupyter-widgets/base",
      "model_module_version": "1.2.0",
      "model_name": "LayoutModel",
      "state": {
       "flex_flow": "row wrap",
       "margin": "5px"
      }
     },
     "34cde60d4db54699b827b7171ab0d6da": {
      "model_module": "@jupyter-widgets/controls",
      "model_module_version": "1.5.0",
      "model_name": "DescriptionStyleModel",
      "state": {
       "description_width": ""
      }
     },
     "34e6f4f09b2d4c69b0edd0a18c352caf": {
      "model_module": "@jupyter-widgets/controls",
      "model_module_version": "1.5.0",
      "model_name": "HBoxModel",
      "state": {
       "layout": "IPY_MODEL_f7ff34c66d4b431c8d7a458913ac23de"
      }
     },
     "34e774049b6c47ed934645d1f5622147": {
      "model_module": "@jupyter-widgets/controls",
      "model_module_version": "1.5.0",
      "model_name": "HBoxModel",
      "state": {
       "children": [
        "IPY_MODEL_2b3aa6ff79cb4ab0a903470dc0cbc38c",
        "IPY_MODEL_a2722c80c6f648fb816f1a687cdea421"
       ],
       "layout": "IPY_MODEL_415d6b0d9bed4445a277087d157d19f9"
      }
     },
     "352b11aaadc949e5b6d43b2af8c9c8bf": {
      "model_module": "@jupyter-widgets/controls",
      "model_module_version": "1.5.0",
      "model_name": "DescriptionStyleModel",
      "state": {
       "description_width": ""
      }
     },
     "353ddb1420fc4c4b98046d215b3a0a75": {
      "model_module": "@jupyter-widgets/controls",
      "model_module_version": "1.5.0",
      "model_name": "VBoxModel",
      "state": {
       "children": [
        "IPY_MODEL_4ee93253ee1e4f019df07258a39d8b47",
        "IPY_MODEL_d77d077081bb4eb8baa6f71acfaca80d",
        "IPY_MODEL_7607d9a6764a4b5585e648fdb1289c55",
        "IPY_MODEL_35ad94a74fd54bed8475e8324c36f8d3",
        "IPY_MODEL_1a3a8e4cff4b498aad3788925124b846"
       ],
       "layout": "IPY_MODEL_ad1542a9ee5d493fb7cad40f4ec24a08"
      }
     },
     "355ffe1500f74edb94926757da953874": {
      "model_module": "@jupyter-widgets/base",
      "model_module_version": "1.2.0",
      "model_name": "LayoutModel",
      "state": {}
     },
     "3581f98b0e0b489eb1e8d1ffb45828de": {
      "model_module": "@jupyter-widgets/base",
      "model_module_version": "1.2.0",
      "model_name": "LayoutModel",
      "state": {}
     },
     "35888e4f3f5048409ae7317289d152bd": {
      "model_module": "@jupyter-widgets/base",
      "model_module_version": "1.2.0",
      "model_name": "LayoutModel",
      "state": {
       "margin": "20px 0px"
      }
     },
     "35ad94a74fd54bed8475e8324c36f8d3": {
      "model_module": "@jupyter-widgets/controls",
      "model_module_version": "1.5.0",
      "model_name": "HBoxModel",
      "state": {
       "children": [
        "IPY_MODEL_4846a27e60cc441d93d5c535ffde0e6e",
        "IPY_MODEL_6f0f8070aff54befb01d59fb84b450b7"
       ],
       "layout": "IPY_MODEL_f7ff34c66d4b431c8d7a458913ac23de"
      }
     },
     "35d7a6de78294f0a93e1067f36baf237": {
      "model_module": "@jupyter-widgets/controls",
      "model_module_version": "1.5.0",
      "model_name": "ButtonModel",
      "state": {
       "description": "Delete category",
       "layout": "IPY_MODEL_0f40c1df13784f579067a2bd0aaa9d35",
       "style": "IPY_MODEL_6d4072720b9f49d79f96a3e2beff6e17"
      }
     },
     "35de142236d6430682387800cc229756": {
      "model_module": "@jupyter-widgets/controls",
      "model_module_version": "1.5.0",
      "model_name": "VBoxModel",
      "state": {
       "children": [
        "IPY_MODEL_417217b16fe444758f93fa05fe33456f",
        "IPY_MODEL_b52d8d1f7a39435a937737cba39c4169"
       ],
       "layout": "IPY_MODEL_63354b64c5c6445686dd6064588bcd06"
      }
     },
     "36206315b4434144abd918600eba897c": {
      "model_module": "@jupyter-widgets/controls",
      "model_module_version": "1.5.0",
      "model_name": "HBoxModel",
      "state": {
       "children": [
        "IPY_MODEL_08c9c604a4d44fa3be0d38a0cee344e7",
        "IPY_MODEL_ae6582bcdffa4a9ea49948fb8e79804f"
       ],
       "layout": "IPY_MODEL_aee7a263a0f64a1fbea2c127454b5880"
      }
     },
     "365ec1034d8846dc934c13bdd628212a": {
      "model_module": "@jupyter-widgets/base",
      "model_module_version": "1.2.0",
      "model_name": "LayoutModel",
      "state": {}
     },
     "368bf31b2cd549b2949bece28e1205ad": {
      "model_module": "@jupyter-widgets/controls",
      "model_module_version": "1.5.0",
      "model_name": "CheckboxModel",
      "state": {
       "description": "Auto save",
       "disabled": false,
       "layout": "IPY_MODEL_2c4a0f6f749e428e81918dc2b18b6073",
       "style": "IPY_MODEL_fb7df1f7b61a4ed2818a12f94a3168c4",
       "value": false
      }
     },
     "36a0f787f1b14b6a9e881d9b89dbe6f9": {
      "model_module": "@jupyter-widgets/controls",
      "model_module_version": "1.5.0",
      "model_name": "ButtonStyleModel",
      "state": {}
     },
     "36cefaebd481433a986da12e8f4ca923": {
      "model_module": "@jupyter-widgets/base",
      "model_module_version": "1.2.0",
      "model_name": "LayoutModel",
      "state": {}
     },
     "36dae7e778b4478990ee42ee7dd61824": {
      "model_module": "@jupyter-widgets/base",
      "model_module_version": "1.2.0",
      "model_name": "LayoutModel",
      "state": {}
     },
     "37056445934e4abba973138c48789f20": {
      "model_module": "@jupyter-widgets/controls",
      "model_module_version": "1.5.0",
      "model_name": "DescriptionStyleModel",
      "state": {
       "description_width": ""
      }
     },
     "3761ab3b962b4bdc83a0b5c3edaaf2f4": {
      "model_module": "@jupyter-widgets/base",
      "model_module_version": "1.2.0",
      "model_name": "LayoutModel",
      "state": {}
     },
     "376831fff5bc48dfb1fa24e507142fcf": {
      "model_module": "@jupyter-widgets/base",
      "model_module_version": "1.2.0",
      "model_name": "LayoutModel",
      "state": {}
     },
     "37879d9e49a1465b90640413a0a2437d": {
      "model_module": "@jupyter-widgets/controls",
      "model_module_version": "1.5.0",
      "model_name": "ButtonModel",
      "state": {
       "description": "Add",
       "layout": "IPY_MODEL_191825b282e743a3933ee5f99483f66e",
       "style": "IPY_MODEL_bfb787064e074e0290be7e465144f82d"
      }
     },
     "378af3a8594449d3a050f6c1b0b0503f": {
      "model_module": "pgljupyter",
      "model_module_version": "^0.1.21",
      "model_name": "MaterialEditorModel",
      "state": {
       "_model_module_version": "^0.1.21",
       "_view_module_version": "^0.1.21",
       "children": [
        "IPY_MODEL_f2740e7d55304da5b92addaba9f46791",
        "IPY_MODEL_dad1575e212b4ec78e51228ec3ee5775",
        "IPY_MODEL_0cb6db6109a04c959a1aa9f31415ddf1",
        "IPY_MODEL_68ae407b0f17478b8bba349c2b362287",
        "IPY_MODEL_3a935c95cbe5483ba3edcdaa0e5c5948",
        "IPY_MODEL_b6232427abaa44ee8f8af67967fd5908",
        "IPY_MODEL_983ff0bf760d4a3595c58dc8bec1ee06",
        "IPY_MODEL_30356a9a3f9349bfad41280603e63f1b"
       ],
       "layout": "IPY_MODEL_f6f979e7e2c640148f7ccf33cc3b0980"
      }
     },
     "37a6f13ee0d84c41bf5e2718b03b869b": {
      "model_module": "@jupyter-widgets/controls",
      "model_module_version": "1.5.0",
      "model_name": "ButtonModel",
      "state": {
       "description": "Add",
       "layout": "IPY_MODEL_7c1611d1648a473b93d3600459b16a6f",
       "style": "IPY_MODEL_931cc338e78d449da79227e3e8bbf56f"
      }
     },
     "37a93703112240f1b4ba6fd167b2abd8": {
      "model_module": "@jupyter-widgets/base",
      "model_module_version": "1.2.0",
      "model_name": "LayoutModel",
      "state": {}
     },
     "37ab0aab470c48e49c20c495f371e4d0": {
      "model_module": "@jupyter-widgets/base",
      "model_module_version": "1.2.0",
      "model_name": "LayoutModel",
      "state": {}
     },
     "37b2865fee2b4a02bc2013f64eaefc86": {
      "model_module": "@jupyter-widgets/base",
      "model_module_version": "1.2.0",
      "model_name": "LayoutModel",
      "state": {
       "flex_flow": "row wrap"
      }
     },
     "37bad97f36864d09b884b5b159f845c5": {
      "model_module": "@jupyter-widgets/controls",
      "model_module_version": "1.5.0",
      "model_name": "ColorPickerModel",
      "state": {
       "description": "specular",
       "disabled": false,
       "layout": "IPY_MODEL_8ed6d95dd9ef49ee8cf874817418fc76",
       "style": "IPY_MODEL_e9582f1549fd47149a0a82f1ee63f055",
       "value": "#282828"
      }
     },
     "37be1e18450a48628dc1cfe7889e3ae0": {
      "model_module": "@jupyter-widgets/base",
      "model_module_version": "1.2.0",
      "model_name": "LayoutModel",
      "state": {}
     },
     "37cb01c9b3e84e9da135afac63cb3f28": {
      "model_module": "@jupyter-widgets/base",
      "model_module_version": "1.2.0",
      "model_name": "LayoutModel",
      "state": {}
     },
     "37d590580784486799b82835c1490cd0": {
      "model_module": "pgljupyter",
      "model_module_version": "^0.1.21",
      "model_name": "IntEditorModel",
      "state": {
       "_model_module_version": "^0.1.21",
       "_view_module_version": "^0.1.21",
       "children": [
        "IPY_MODEL_db9ed437c56e4afcaea7ce8551e64a91",
        "IPY_MODEL_1495c1165fc748ae8bb58d756996d706"
       ],
       "layout": "IPY_MODEL_e18491acb9394f188ffa2c3096839935"
      }
     },
     "3823b97d96004b689f2595044278fc3f": {
      "model_module": "@jupyter-widgets/controls",
      "model_module_version": "1.5.0",
      "model_name": "FloatSliderModel",
      "state": {
       "description": "diffuse",
       "layout": "IPY_MODEL_c908184eb23d4c2496f39acbf94a858a",
       "max": 3,
       "step": 0.1,
       "style": "IPY_MODEL_bad4e236bef945b193cd8662cba5516a",
       "value": 1
      }
     },
     "38271c79a85044a1a2f372e45b7f3762": {
      "model_module": "@jupyter-widgets/controls",
      "model_module_version": "1.5.0",
      "model_name": "DescriptionStyleModel",
      "state": {
       "description_width": ""
      }
     },
     "382ba098f6cc4adf8bfb135a9de7b6d8": {
      "model_module": "@jupyter-widgets/base",
      "model_module_version": "1.2.0",
      "model_name": "LayoutModel",
      "state": {}
     },
     "3859230710584fe98955e85d63f45d07": {
      "model_module": "@jupyter-widgets/base",
      "model_module_version": "1.2.0",
      "model_name": "LayoutModel",
      "state": {}
     },
     "389eb0cbb654471c99cf1959bd534089": {
      "model_module": "@jupyter-widgets/base",
      "model_module_version": "1.2.0",
      "model_name": "LayoutModel",
      "state": {
       "margin": "10px 10px"
      }
     },
     "38af2c3340fa4dccbe1fe87f084d021e": {
      "model_module": "@jupyter-widgets/controls",
      "model_module_version": "1.5.0",
      "model_name": "ColorPickerModel",
      "state": {
       "description": "specular",
       "disabled": false,
       "layout": "IPY_MODEL_a4330bdab939492fbed45caab83a37b0",
       "style": "IPY_MODEL_e1ad944eafa344f19b268b968727ebe2",
       "value": "#282828"
      }
     },
     "38aff3c9c69e426985154cc4165b3f46": {
      "model_module": "@jupyter-widgets/controls",
      "model_module_version": "1.5.0",
      "model_name": "ButtonModel",
      "state": {
       "description": "Add",
       "layout": "IPY_MODEL_6a95929048464d27b92643ff9e093d6b",
       "style": "IPY_MODEL_718976f5e4da429abce9bf4719b35303"
      }
     },
     "38b48b5a419947838acd630c8ce98df2": {
      "model_module": "@jupyter-widgets/controls",
      "model_module_version": "1.5.0",
      "model_name": "DescriptionStyleModel",
      "state": {
       "description_width": ""
      }
     },
     "38c72ff473424ad9bfe39cfda219b63e": {
      "model_module": "@jupyter-widgets/controls",
      "model_module_version": "1.5.0",
      "model_name": "DescriptionStyleModel",
      "state": {
       "description_width": ""
      }
     },
     "38e26cd9e23545518709851cba698d94": {
      "model_module": "@jupyter-widgets/base",
      "model_module_version": "1.2.0",
      "model_name": "LayoutModel",
      "state": {}
     },
     "38e8fc2ebd144c09b3718418fd4d321e": {
      "model_module": "@jupyter-widgets/controls",
      "model_module_version": "1.5.0",
      "model_name": "HBoxModel",
      "state": {
       "children": [
        "IPY_MODEL_82321aeab55d4ce7b6539f3d6b31b441",
        "IPY_MODEL_16282a7986064a8cb8770ae63961ce8e"
       ],
       "layout": "IPY_MODEL_dd2cc788345348a793f5a93c9e888de3"
      }
     },
     "38f0ad6d78c543e584e0999e772ae5b0": {
      "model_module": "@jupyter-widgets/controls",
      "model_module_version": "1.5.0",
      "model_name": "DescriptionStyleModel",
      "state": {
       "description_width": ""
      }
     },
     "38fbe02c165042b8b77cbdcdf4e4c685": {
      "model_module": "@jupyter-widgets/controls",
      "model_module_version": "1.5.0",
      "model_name": "ButtonStyleModel",
      "state": {}
     },
     "3906a75a08ed413aba2363f7e4fa3366": {
      "model_module": "@jupyter-widgets/controls",
      "model_module_version": "1.5.0",
      "model_name": "TextModel",
      "state": {
       "continuous_update": false,
       "description": "name",
       "layout": "IPY_MODEL_4b2b575ede144d15b37a9b26cc73c875",
       "style": "IPY_MODEL_504c852fdd62470d9fce5fbb9e9e18bc",
       "value": "maxorder"
      }
     },
     "39084374a571435e824d7618f816aad4": {
      "model_module": "@jupyter-widgets/base",
      "model_module_version": "1.2.0",
      "model_name": "LayoutModel",
      "state": {}
     },
     "390ec84636c54a9186e42f79fc5c39a9": {
      "model_module": "@jupyter-widgets/controls",
      "model_module_version": "1.5.0",
      "model_name": "VBoxModel",
      "state": {
       "children": [
        "IPY_MODEL_5eff584d0b2b41aeb1390c34883b3952",
        "IPY_MODEL_b78a37695bbf435fb731861c038b885f"
       ],
       "layout": "IPY_MODEL_256f56f78e9543718e49f07029f8099c"
      }
     },
     "391878e8ba0540f5adaa617056b8dd47": {
      "model_module": "@jupyter-widgets/controls",
      "model_module_version": "1.5.0",
      "model_name": "DescriptionStyleModel",
      "state": {
       "description_width": ""
      }
     },
     "392b749f9bc940b58e80d0758f80a01e": {
      "model_module": "@jupyter-widgets/controls",
      "model_module_version": "1.5.0",
      "model_name": "DropdownModel",
      "state": {
       "_options_labels": [
        "Integer",
        "Float",
        "Bool"
       ],
       "index": 0,
       "layout": "IPY_MODEL_a85c018ff0064956bb30f7fd2e8e7010",
       "style": "IPY_MODEL_e2d47736c0754f9393bb161a36bacf08"
      }
     },
     "39501af7b4a946cb85b28be8f27f4a40": {
      "model_module": "@jupyter-widgets/controls",
      "model_module_version": "1.5.0",
      "model_name": "DescriptionStyleModel",
      "state": {
       "description_width": ""
      }
     },
     "39673705b4d84c069ca1a6657eb8f990": {
      "model_module": "@jupyter-widgets/controls",
      "model_module_version": "1.5.0",
      "model_name": "HBoxModel",
      "state": {
       "children": [
        "IPY_MODEL_9336475c41b04917b6232a0edb005a93",
        "IPY_MODEL_8dc6ee1f98924f36a4f725dce1c1a48e",
        "IPY_MODEL_a085b26b82394122981b56abf14b25c8"
       ],
       "layout": "IPY_MODEL_beda81a3b0ac4e599adfa39835831fd8"
      }
     },
     "3969e43bd2ff40cd9083e491f4ee8a61": {
      "model_module": "@jupyter-widgets/controls",
      "model_module_version": "1.5.0",
      "model_name": "TextModel",
      "state": {
       "continuous_update": false,
       "description": "name",
       "layout": "IPY_MODEL_2f62c1ab623c4435ae109ecf1f320711",
       "style": "IPY_MODEL_8f51043f8eec495db2aa437cf47dd5d0",
       "value": "radinc"
      }
     },
     "3996353c8b94465d86afb685abf7e620": {
      "model_module": "@jupyter-widgets/controls",
      "model_module_version": "1.5.0",
      "model_name": "BoundedIntTextModel",
      "state": {
       "description": "index",
       "layout": "IPY_MODEL_0176e28a1109422494c3cddf25a960f7",
       "style": "IPY_MODEL_c28c1957d1634127975fa331e2198a31",
       "value": 1
      }
     },
     "399fc3d82a3b4cb6984cdc1806f6c118": {
      "model_module": "@jupyter-widgets/controls",
      "model_module_version": "1.5.0",
      "model_name": "TextModel",
      "state": {
       "continuous_update": false,
       "description": "name",
       "layout": "IPY_MODEL_b3845888ce8d4ad4986e97d2f893e730",
       "style": "IPY_MODEL_6d1a398411bc4c81808725799dd684d4",
       "value": "leaf_old"
      }
     },
     "39b48239860647a19accd22046ec23a9": {
      "model_module": "@jupyter-widgets/base",
      "model_module_version": "1.2.0",
      "model_name": "LayoutModel",
      "state": {}
     },
     "3a06d16c9b3e4435a1ad65bd71604d2e": {
      "model_module": "@jupyter-widgets/base",
      "model_module_version": "1.2.0",
      "model_name": "LayoutModel",
      "state": {
       "margin": "20px 0px"
      }
     },
     "3a4d7583f96549b292246bd41fa724e0": {
      "model_module": "@jupyter-widgets/base",
      "model_module_version": "1.2.0",
      "model_name": "LayoutModel",
      "state": {
       "margin": "10px 10px"
      }
     },
     "3a51d9ee339344e6b46407a0fea33199": {
      "model_module": "@jupyter-widgets/controls",
      "model_module_version": "1.5.0",
      "model_name": "DescriptionStyleModel",
      "state": {
       "description_width": ""
      }
     },
     "3a91f9dd6dd840dfa42d860498e26055": {
      "model_module": "@jupyter-widgets/controls",
      "model_module_version": "1.5.0",
      "model_name": "HBoxModel",
      "state": {
       "children": [
        "IPY_MODEL_35d7a6de78294f0a93e1067f36baf237"
       ],
       "layout": "IPY_MODEL_5a6aab1bb709492da4f69389f9069c24"
      }
     },
     "3a935c95cbe5483ba3edcdaa0e5c5948": {
      "model_module": "@jupyter-widgets/controls",
      "model_module_version": "1.5.0",
      "model_name": "ColorPickerModel",
      "state": {
       "description": "emission",
       "disabled": false,
       "layout": "IPY_MODEL_bc42d877cd3c4649bef7e1b74ed18b6e",
       "style": "IPY_MODEL_f3d619e4ec8a4de8bac00cda89fa6f4f",
       "value": "#000000"
      }
     },
     "3adc644fd9d942919096f3806a27c8f1": {
      "model_module": "@jupyter-widgets/base",
      "model_module_version": "1.2.0",
      "model_name": "LayoutModel",
      "state": {}
     },
     "3af78c5ade4d410a8a1156f28dde5870": {
      "model_module": "@jupyter-widgets/base",
      "model_module_version": "1.2.0",
      "model_name": "LayoutModel",
      "state": {}
     },
     "3afbf51007944e8f8954670763c456a2": {
      "model_module": "@jupyter-widgets/base",
      "model_module_version": "1.2.0",
      "model_name": "LayoutModel",
      "state": {}
     },
     "3b114d7895634592920f7407242e59d9": {
      "model_module": "@jupyter-widgets/controls",
      "model_module_version": "1.5.0",
      "model_name": "ButtonStyleModel",
      "state": {}
     },
     "3b219881f6e14b5fbcc7d8e04501fcc9": {
      "model_module": "@jupyter-widgets/base",
      "model_module_version": "1.2.0",
      "model_name": "LayoutModel",
      "state": {}
     },
     "3b280508434144bfb2cc499f02a544f3": {
      "model_module": "@jupyter-widgets/base",
      "model_module_version": "1.2.0",
      "model_name": "LayoutModel",
      "state": {
       "margin": "20px 0px"
      }
     },
     "3b3e23c52c034fbba7d416e65c71d04a": {
      "model_module": "@jupyter-widgets/controls",
      "model_module_version": "1.5.0",
      "model_name": "ButtonStyleModel",
      "state": {}
     },
     "3b4a50bb20de416aaf7650c47c84598b": {
      "model_module": "@jupyter-widgets/base",
      "model_module_version": "1.2.0",
      "model_name": "LayoutModel",
      "state": {}
     },
     "3b6e5ecfd1944c16b6776d9fc68b197f": {
      "model_module": "@jupyter-widgets/controls",
      "model_module_version": "1.5.0",
      "model_name": "ColorPickerModel",
      "state": {
       "description": "emission",
       "disabled": false,
       "layout": "IPY_MODEL_02cd8be6c855476f923f34ecaade3abd",
       "style": "IPY_MODEL_b0278727c6984480ae67b3caa91c5c28",
       "value": "#000000"
      }
     },
     "3b6eb237ab884fc6a9851aa3c2d821fe": {
      "model_module": "@jupyter-widgets/base",
      "model_module_version": "1.2.0",
      "model_name": "LayoutModel",
      "state": {}
     },
     "3b8516e57df04b72aa4033410b7cc6fb": {
      "model_module": "@jupyter-widgets/controls",
      "model_module_version": "1.5.0",
      "model_name": "DescriptionStyleModel",
      "state": {
       "description_width": ""
      }
     },
     "3ba3327a9ad340168a7a06f365fdced1": {
      "model_module": "@jupyter-widgets/base",
      "model_module_version": "1.2.0",
      "model_name": "LayoutModel",
      "state": {}
     },
     "3ba93cb374114bc4a5fdc1c020fb99d2": {
      "model_module": "@jupyter-widgets/base",
      "model_module_version": "1.2.0",
      "model_name": "LayoutModel",
      "state": {}
     },
     "3bc19bb63ddf48d997c4e036a6b93e14": {
      "model_module": "@jupyter-widgets/base",
      "model_module_version": "1.2.0",
      "model_name": "LayoutModel",
      "state": {
       "flex_flow": "row wrap",
       "margin": "20px"
      }
     },
     "3bc727a4c5e842eba687117ad175a2bc": {
      "model_module": "@jupyter-widgets/base",
      "model_module_version": "1.2.0",
      "model_name": "LayoutModel",
      "state": {}
     },
     "3bc82dbd12c54e549771ee3d9cd55b1d": {
      "model_module": "@jupyter-widgets/base",
      "model_module_version": "1.2.0",
      "model_name": "LayoutModel",
      "state": {}
     },
     "3bcea9f32a2f480c95fd4897749b2ca9": {
      "model_module": "@jupyter-widgets/controls",
      "model_module_version": "1.5.0",
      "model_name": "TextModel",
      "state": {
       "layout": "IPY_MODEL_ee257afeb107428795eb942a17db9082",
       "placeholder": "category name",
       "style": "IPY_MODEL_f6831da68c52444e88220f9ed6ef5b40"
      }
     },
     "3bd8c5155e614aa49b91b3ee03106bb8": {
      "model_module": "@jupyter-widgets/base",
      "model_module_version": "1.2.0",
      "model_name": "LayoutModel",
      "state": {}
     },
     "3bfa6951bf14499b94b0918f6e25a705": {
      "model_module": "@jupyter-widgets/controls",
      "model_module_version": "1.5.0",
      "model_name": "VBoxModel",
      "state": {
       "children": [
        "IPY_MODEL_1cd5706a6a4243ac8ad1c187de2f837d",
        "IPY_MODEL_4947c3b5ad3d4d9b835c11bf006ebb62",
        "IPY_MODEL_073e68fdf4bb4b29bb59ccff5283b84c",
        "IPY_MODEL_18970ad154f744218a7766a73f316ff9"
       ],
       "layout": "IPY_MODEL_ea10a6cdd63b4e39ba3f583b9cff48af"
      }
     },
     "3c1dda887f9844a29ce769e7d165e0ce": {
      "model_module": "@jupyter-widgets/controls",
      "model_module_version": "1.5.0",
      "model_name": "BoundedIntTextModel",
      "state": {
       "description": "index",
       "layout": "IPY_MODEL_e582615548da4d08901688208d12a911",
       "style": "IPY_MODEL_1a721c069cf7486786794ba616d6c038",
       "value": 1
      }
     },
     "3c36699284b54bd483272ff26ed52203": {
      "model_module": "@jupyter-widgets/controls",
      "model_module_version": "1.5.0",
      "model_name": "FloatSliderModel",
      "state": {
       "description": "shininess",
       "layout": "IPY_MODEL_5c675aab59fb4845aac7b8dac885e566",
       "max": 1,
       "step": 0.1,
       "style": "IPY_MODEL_ca53e0658bf34086ba83cddc03f09176",
       "value": 0.2
      }
     },
     "3c896b356b9b402f8ae6e80bf9405ba7": {
      "model_module": "@jupyter-widgets/base",
      "model_module_version": "1.2.0",
      "model_name": "LayoutModel",
      "state": {}
     },
     "3c9570eda3684eab96511e129bb5cee0": {
      "model_module": "pgljupyter",
      "model_module_version": "^0.1.17",
      "model_name": "IntEditorModel",
      "state": {
       "_model_module_version": "^0.1.17",
       "_view_module_version": "^0.1.17",
       "children": [
        "IPY_MODEL_424624df5c714774b94c513145e29a9c",
        "IPY_MODEL_2db2f596971f45688e65a9abdd337586"
       ],
       "layout": "IPY_MODEL_e14b8d9da9d94827aa6e7a2c4a59032a"
      }
     },
     "3cb28559df4b4b6280518ded5fdd05f3": {
      "model_module": "@jupyter-widgets/controls",
      "model_module_version": "1.5.0",
      "model_name": "HBoxModel",
      "state": {
       "children": [
        "IPY_MODEL_ce67773475a240888ab3908bc46155d6",
        "IPY_MODEL_ad9de9c14c0d4f65a2c07f0bd3a3e163"
       ],
       "layout": "IPY_MODEL_5b44b2e1d2044e9f82167f906dbaa2f5"
      }
     },
     "3cc05422b64343cab04ad8a0ddc1d880": {
      "model_module": "@jupyter-widgets/controls",
      "model_module_version": "1.5.0",
      "model_name": "DescriptionStyleModel",
      "state": {
       "description_width": ""
      }
     },
     "3d255227d42d45b7a955570c70d7636b": {
      "model_module": "pgljupyter",
      "model_module_version": "^0.1.21",
      "model_name": "LsystemWidgetModel",
      "state": {
       "_model_module_version": "^0.1.21",
       "_view_module_version": "^0.1.21",
       "axes_helper": false,
       "derivationLength": 42,
       "layout": "IPY_MODEL_02e2b611d447416aad39778127a3a98f",
       "light_helper": false,
       "plane": true,
       "size_display": [
        600,
        400
       ],
       "size_world": 50
      }
     },
     "3d3a7aadae0f44908db525c928187d5f": {
      "model_module": "@jupyter-widgets/controls",
      "model_module_version": "1.5.0",
      "model_name": "DescriptionStyleModel",
      "state": {
       "description_width": ""
      }
     },
     "3d43a66e7ba84d16b260aa7cd202f863": {
      "model_module": "@jupyter-widgets/controls",
      "model_module_version": "1.5.0",
      "model_name": "FloatSliderModel",
      "state": {
       "description": "value",
       "layout": "IPY_MODEL_5e62aae65cb548bcbf53bb19b6810b3b",
       "max": 0.1,
       "min": 0.01,
       "step": 0.01,
       "style": "IPY_MODEL_a0702378d919446e8e9b36d5aac020a8",
       "value": 0.03
      }
     },
     "3db911a62ff849f586c69fb2aeb16264": {
      "model_module": "@jupyter-widgets/controls",
      "model_module_version": "1.5.0",
      "model_name": "DescriptionStyleModel",
      "state": {
       "description_width": ""
      }
     },
     "3dd16cc1b856454dbc171795cd01dddd": {
      "model_module": "@jupyter-widgets/controls",
      "model_module_version": "1.5.0",
      "model_name": "FloatSliderModel",
      "state": {
       "description": "diffuse",
       "layout": "IPY_MODEL_45b176cc871b4434a95e3623b873c4fa",
       "max": 3,
       "step": 0.1,
       "style": "IPY_MODEL_d0007b5c1cf14819b87f34bbcb148b93",
       "value": 1
      }
     },
     "3dda600e26ba44f9a458b8f113ced26f": {
      "model_module": "@jupyter-widgets/controls",
      "model_module_version": "1.5.0",
      "model_name": "SliderStyleModel",
      "state": {
       "description_width": ""
      }
     },
     "3de3b034852b47c9a285b62f838b9986": {
      "model_module": "@jupyter-widgets/controls",
      "model_module_version": "1.5.0",
      "model_name": "DescriptionStyleModel",
      "state": {
       "description_width": ""
      }
     },
     "3e2965ac15734eacbe93346089045d2a": {
      "model_module": "pgljupyter",
      "model_module_version": "^0.1.16",
      "model_name": "IntEditorModel",
      "state": {
       "_model_module_version": "^0.1.16",
       "_view_module_version": "^0.1.16",
       "children": [
        "IPY_MODEL_a72f273cdb3945e394051fb5a3ed72de",
        "IPY_MODEL_f07ec7a47aa64a3a83eebeecca3f4573",
        "IPY_MODEL_1d6ac4f49b314f0e9fb3532cfc3b8bce",
        "IPY_MODEL_0f84ed044f5d499287d57c8c98211fae",
        "IPY_MODEL_06a4c0bb621c49b0a886a6f2d4b71f84"
       ],
       "layout": "IPY_MODEL_16bd9822848d4ea8a76ae7ebedd16681"
      }
     },
     "3e44ac9e61c14a0f9579e3363460f583": {
      "model_module": "@jupyter-widgets/controls",
      "model_module_version": "1.5.0",
      "model_name": "ColorPickerModel",
      "state": {
       "description": "emission",
       "disabled": false,
       "layout": "IPY_MODEL_4885badfb81242a3a0e907414c08b51f",
       "style": "IPY_MODEL_0a8707e65f2346558a9ab598cc46de95",
       "value": "#000000"
      }
     },
     "3e6433047ff24d7993bc94f867353b36": {
      "model_module": "@jupyter-widgets/controls",
      "model_module_version": "1.5.0",
      "model_name": "VBoxModel",
      "state": {
       "children": [
        "IPY_MODEL_cbe89d5aedbd45519b776332dff4658c",
        "IPY_MODEL_d91ab3eec5c24eb6a0c9226f899b6e7a",
        "IPY_MODEL_1f53359d42784ba0a3451ee526d47c0f",
        "IPY_MODEL_9d1b1500742c4f999e573ae2bbe82138",
        "IPY_MODEL_7143e8b98f0d40c895aacadcde1ca010"
       ],
       "layout": "IPY_MODEL_108ef55307894e36a7d0991d0cc2911b"
      }
     },
     "3e64b59aa9974065a16ce4e79ea27464": {
      "model_module": "@jupyter-widgets/controls",
      "model_module_version": "1.5.0",
      "model_name": "TextModel",
      "state": {
       "continuous_update": false,
       "description": "name",
       "layout": "IPY_MODEL_5da6a4695aee4e9ab96fad51b59727c6",
       "style": "IPY_MODEL_63c9d2863df64449a1d81b197959dbbe",
       "value": "leaf_old"
      }
     },
     "3e88ff73b7174894a74048caac61d6dd": {
      "model_module": "@jupyter-widgets/base",
      "model_module_version": "1.2.0",
      "model_name": "LayoutModel",
      "state": {}
     },
     "3ea576de71e344fc8f076693910052c2": {
      "model_module": "@jupyter-widgets/controls",
      "model_module_version": "1.5.0",
      "model_name": "DescriptionStyleModel",
      "state": {
       "description_width": ""
      }
     },
     "3eaf0cde17004332ab35b0f57fc0d75b": {
      "model_module": "@jupyter-widgets/base",
      "model_module_version": "1.2.0",
      "model_name": "LayoutModel",
      "state": {}
     },
     "3eb5de6cfa8c4221935e7232c267b322": {
      "model_module": "@jupyter-widgets/base",
      "model_module_version": "1.2.0",
      "model_name": "LayoutModel",
      "state": {}
     },
     "3ec386de663b4617bc9f49b851f4ac02": {
      "model_module": "@jupyter-widgets/controls",
      "model_module_version": "1.5.0",
      "model_name": "ButtonStyleModel",
      "state": {}
     },
     "3ee6dd285a9442a8ba3ad4c5af7b0fbd": {
      "model_module": "@jupyter-widgets/base",
      "model_module_version": "1.2.0",
      "model_name": "LayoutModel",
      "state": {}
     },
     "3eebd7d76fd1439fb7e9a86462a20975": {
      "model_module": "@jupyter-widgets/controls",
      "model_module_version": "1.5.0",
      "model_name": "ButtonStyleModel",
      "state": {}
     },
     "3ef4d136b1234440b78e643c65466054": {
      "model_module": "@jupyter-widgets/base",
      "model_module_version": "1.2.0",
      "model_name": "LayoutModel",
      "state": {}
     },
     "3f1c5cb37d464c0c965c97fc3a1e7f60": {
      "model_module": "@jupyter-widgets/controls",
      "model_module_version": "1.5.0",
      "model_name": "DropdownModel",
      "state": {
       "_options_labels": [
        "Color"
       ],
       "index": 0,
       "layout": "IPY_MODEL_04c46391563944e09f827e89ec2715fa",
       "style": "IPY_MODEL_352b11aaadc949e5b6d43b2af8c9c8bf"
      }
     },
     "3f1ceb1b479240d594f1881f8013d88a": {
      "model_module": "@jupyter-widgets/base",
      "model_module_version": "1.2.0",
      "model_name": "LayoutModel",
      "state": {}
     },
     "3f61cdd903854973b64323bcb9460db9": {
      "model_module": "@jupyter-widgets/base",
      "model_module_version": "1.2.0",
      "model_name": "LayoutModel",
      "state": {}
     },
     "3f7ba822c536404481bce2f09c84de9d": {
      "model_module": "@jupyter-widgets/base",
      "model_module_version": "1.2.0",
      "model_name": "LayoutModel",
      "state": {}
     },
     "3f825ff8d4504d48af191b22309753ef": {
      "model_module": "@jupyter-widgets/base",
      "model_module_version": "1.2.0",
      "model_name": "LayoutModel",
      "state": {
       "margin": "10px 10px"
      }
     },
     "3f9a1ab9b1b04ceb9f3c4d04a7d00904": {
      "model_module": "@jupyter-widgets/controls",
      "model_module_version": "1.5.0",
      "model_name": "TextModel",
      "state": {
       "continuous_update": false,
       "description": "name",
       "layout": "IPY_MODEL_3f1ceb1b479240d594f1881f8013d88a",
       "style": "IPY_MODEL_ac71f1c55d9948e19e588813ff85983b",
       "value": "color_1"
      }
     },
     "3fb78370b75d48e69e4114fc1065c34c": {
      "model_module": "@jupyter-widgets/base",
      "model_module_version": "1.2.0",
      "model_name": "LayoutModel",
      "state": {}
     },
     "400c5e9aded44fda90d2ab16b75fd897": {
      "model_module": "@jupyter-widgets/controls",
      "model_module_version": "1.5.0",
      "model_name": "DescriptionStyleModel",
      "state": {
       "description_width": ""
      }
     },
     "400f8b7ad23543b7ae90c9244d04af9e": {
      "model_module": "@jupyter-widgets/controls",
      "model_module_version": "1.5.0",
      "model_name": "IntSliderModel",
      "state": {
       "continuous_update": false,
       "description": "value",
       "layout": "IPY_MODEL_62490f1dbb784fd99ea1745ade98c707",
       "max": 10,
       "min": 1,
       "style": "IPY_MODEL_8ceaba1a99674153b22a56b7b4a60bca",
       "value": 3
      }
     },
     "403ce4d89d824f1c8e0c931714a623aa": {
      "model_module": "@jupyter-widgets/controls",
      "model_module_version": "1.5.0",
      "model_name": "ButtonStyleModel",
      "state": {}
     },
     "4045fe6afc194dcaa3f2c54427fa1745": {
      "model_module": "@jupyter-widgets/controls",
      "model_module_version": "1.5.0",
      "model_name": "DescriptionStyleModel",
      "state": {
       "description_width": ""
      }
     },
     "404f3dcf0b4b4baeb1e9d23f637e521e": {
      "model_module": "@jupyter-widgets/controls",
      "model_module_version": "1.5.0",
      "model_name": "DropdownModel",
      "state": {
       "_options_labels": [
        "Integer",
        "Float",
        "Bool"
       ],
       "index": 0,
       "layout": "IPY_MODEL_dea1d7f7b1f545688d4cb2183ee25745",
       "style": "IPY_MODEL_fd39d26e27d246b281772663c5b0b1c0"
      }
     },
     "405490f3003747ea84770f0ca8eba3fa": {
      "model_module": "@jupyter-widgets/controls",
      "model_module_version": "1.5.0",
      "model_name": "AccordionModel",
      "state": {
       "_titles": {
        "0": "materials",
        "1": "leaf",
        "2": "trunk & branches"
       },
       "children": [
        "IPY_MODEL_21584ab197984ba29419802ea60fc1c8",
        "IPY_MODEL_2718cbd168e24762a6996c846ee444dd",
        "IPY_MODEL_b44429e02b1c4c018efe9629e58572c3"
       ],
       "layout": "IPY_MODEL_0a40116d2d3a429698a87f2d38fdcbf3"
      }
     },
     "406538f49d474b288e16fda7dd512c69": {
      "model_module": "@jupyter-widgets/base",
      "model_module_version": "1.2.0",
      "model_name": "LayoutModel",
      "state": {}
     },
     "407103a332f345d8bf4ea5aa6a021916": {
      "model_module": "@jupyter-widgets/controls",
      "model_module_version": "1.5.0",
      "model_name": "FloatSliderModel",
      "state": {
       "continuous_update": false,
       "description": "shininess",
       "layout": "IPY_MODEL_5727c411e1d34981bcc0790c12d7bcf9",
       "max": 1,
       "step": 0.1,
       "style": "IPY_MODEL_5313a6c7af9a419392d903b7d51fe041",
       "value": 0.2
      }
     },
     "407661e8679b4f3b9602e2daaddae72e": {
      "model_module": "@jupyter-widgets/base",
      "model_module_version": "1.2.0",
      "model_name": "LayoutModel",
      "state": {}
     },
     "407e1eb8df67478aa2edf212374198dd": {
      "model_module": "@jupyter-widgets/controls",
      "model_module_version": "1.5.0",
      "model_name": "HBoxModel",
      "state": {
       "children": [
        "IPY_MODEL_586fe9088889439284707fb54ba3ec23",
        "IPY_MODEL_b97945cdd79940218cc6b9ce0f099d89"
       ],
       "layout": "IPY_MODEL_d4fcee8507e649a6822506b7eaf235b2"
      }
     },
     "408d582856e84421a763fa391a9130a8": {
      "model_module": "@jupyter-widgets/controls",
      "model_module_version": "1.5.0",
      "model_name": "TextModel",
      "state": {
       "continuous_update": false,
       "description": "name",
       "layout": "IPY_MODEL_45975a20708e4eefa5f5626f0c67680a",
       "style": "IPY_MODEL_e084bfa6a964476eace5b955c0359580",
       "value": "apex"
      }
     },
     "40b8836f5c9a48a5a579b8ab931ba7aa": {
      "model_module": "@jupyter-widgets/controls",
      "model_module_version": "1.5.0",
      "model_name": "ButtonModel",
      "state": {
       "description": "Delete",
       "layout": "IPY_MODEL_20b13acc67a845f6956f498c04e38806",
       "style": "IPY_MODEL_3eebd7d76fd1439fb7e9a86462a20975"
      }
     },
     "40ca5fd3b43d4d15a3135eeef5886fc1": {
      "model_module": "@jupyter-widgets/base",
      "model_module_version": "1.2.0",
      "model_name": "LayoutModel",
      "state": {}
     },
     "40ccbdcf094944daacad40f2478bd3f3": {
      "model_module": "@jupyter-widgets/controls",
      "model_module_version": "1.5.0",
      "model_name": "DescriptionStyleModel",
      "state": {
       "description_width": ""
      }
     },
     "40d3cad94876411eb2c2b28bed44d044": {
      "model_module": "@jupyter-widgets/base",
      "model_module_version": "1.2.0",
      "model_name": "LayoutModel",
      "state": {}
     },
     "40f1350ba3a44edfae82ea6bfb8f5198": {
      "model_module": "@jupyter-widgets/base",
      "model_module_version": "1.2.0",
      "model_name": "LayoutModel",
      "state": {
       "flex_flow": "row wrap"
      }
     },
     "41173f204e7842519840674a61a7e434": {
      "model_module": "@jupyter-widgets/controls",
      "model_module_version": "1.5.0",
      "model_name": "HBoxModel",
      "state": {
       "children": [
        "IPY_MODEL_9b9a7369a8eb4f5da61755ac616f74c3",
        "IPY_MODEL_da90b6b6b6334b2d8566268731ae92f4"
       ],
       "layout": "IPY_MODEL_3c896b356b9b402f8ae6e80bf9405ba7"
      }
     },
     "412179f6bd604205b92bdae0de4bf43b": {
      "model_module": "@jupyter-widgets/controls",
      "model_module_version": "1.5.0",
      "model_name": "DescriptionStyleModel",
      "state": {
       "description_width": ""
      }
     },
     "41374977018a4cc590e2913add7f287a": {
      "model_module": "@jupyter-widgets/controls",
      "model_module_version": "1.5.0",
      "model_name": "FloatSliderModel",
      "state": {
       "description": "diffuse",
       "layout": "IPY_MODEL_2e83ffb67736453ba28acc20275e238f",
       "max": 3,
       "step": 0.1,
       "style": "IPY_MODEL_bb16c1d4c8a841829bfb8da15b3bea9a",
       "value": 1
      }
     },
     "4139a554a5614b34a822d21737401026": {
      "model_module": "@jupyter-widgets/base",
      "model_module_version": "1.2.0",
      "model_name": "LayoutModel",
      "state": {}
     },
     "415d5dcf24dc4e0f9ab09bc6e94846fa": {
      "model_module": "@jupyter-widgets/base",
      "model_module_version": "1.2.0",
      "model_name": "LayoutModel",
      "state": {}
     },
     "415d6b0d9bed4445a277087d157d19f9": {
      "model_module": "@jupyter-widgets/base",
      "model_module_version": "1.2.0",
      "model_name": "LayoutModel",
      "state": {}
     },
     "41689189f03a44738c5a6d8d77d673f0": {
      "model_module": "@jupyter-widgets/base",
      "model_module_version": "1.2.0",
      "model_name": "LayoutModel",
      "state": {
       "margin": "20px 0px"
      }
     },
     "417217b16fe444758f93fa05fe33456f": {
      "model_module": "@jupyter-widgets/controls",
      "model_module_version": "1.5.0",
      "model_name": "HBoxModel",
      "state": {
       "children": [
        "IPY_MODEL_4c59ca8cf18245f5a14540938a82f127",
        "IPY_MODEL_bf9f735211574d32bf9d5fa02ec1e786"
       ],
       "layout": "IPY_MODEL_0edf0711fcd443488bc2bd1811f52c38"
      }
     },
     "417e8e140cdf4466b6d508d357de4584": {
      "model_module": "@jupyter-widgets/controls",
      "model_module_version": "1.5.0",
      "model_name": "ButtonModel",
      "state": {
       "description": "Save changes",
       "layout": "IPY_MODEL_c989202804bb452e8cb9723017e5f6c3",
       "style": "IPY_MODEL_6b8f0820ce5e43c796130647fa6eec1e"
      }
     },
     "41950fdf84d549fc8cd6a73a994fcf80": {
      "model_module": "@jupyter-widgets/controls",
      "model_module_version": "1.5.0",
      "model_name": "TextModel",
      "state": {
       "continuous_update": false,
       "description": "name",
       "layout": "IPY_MODEL_f5dded7baa7c457f98e4a59af1aaf345",
       "style": "IPY_MODEL_0da3b2dee6664cc7b1a2fa15b9e6ce36",
       "value": "nb_axes"
      }
     },
     "4195dc0db72c4f82bb9bd5eead7e9779": {
      "model_module": "@jupyter-widgets/base",
      "model_module_version": "1.2.0",
      "model_name": "LayoutModel",
      "state": {}
     },
     "41cc1db02ba64e62b40ee9b19a788ac1": {
      "model_module": "@jupyter-widgets/base",
      "model_module_version": "1.2.0",
      "model_name": "LayoutModel",
      "state": {}
     },
     "42034042a60e4aeca328639d577fac4f": {
      "model_module": "@jupyter-widgets/controls",
      "model_module_version": "1.5.0",
      "model_name": "DescriptionStyleModel",
      "state": {
       "description_width": ""
      }
     },
     "420996a05f2145c5a74e2b63f347a71e": {
      "model_module": "pgljupyter",
      "model_module_version": "^0.2.1",
      "model_name": "ParameterEditorModel",
      "state": {
       "_model_module_version": "^0.2.1",
       "_view_module_version": "^0.2.1",
       "children": [
        "IPY_MODEL_b8253aa04c244134b8f94e3caa61eaa2"
       ],
       "layout": "IPY_MODEL_1d0360b6845d4690bf38dacaa972c227"
      }
     },
     "421e1166bf044e938a7c55bfb05fe175": {
      "model_module": "@jupyter-widgets/controls",
      "model_module_version": "1.5.0",
      "model_name": "ButtonModel",
      "state": {
       "description": "Delete category",
       "layout": "IPY_MODEL_13d73679d1fc4c1dafedf885b7d2c851",
       "style": "IPY_MODEL_f26688f6c93d449ca3039c51f092914f"
      }
     },
     "422906e6ad3a4693856635f6a1bc322e": {
      "model_module": "@jupyter-widgets/controls",
      "model_module_version": "1.5.0",
      "model_name": "DescriptionStyleModel",
      "state": {
       "description_width": ""
      }
     },
     "422a089830fa4be990f7d2e682534182": {
      "model_module": "@jupyter-widgets/base",
      "model_module_version": "1.2.0",
      "model_name": "LayoutModel",
      "state": {}
     },
     "42311b25a5ce4d1788e339ad94a4f81c": {
      "model_module": "@jupyter-widgets/controls",
      "model_module_version": "1.5.0",
      "model_name": "HBoxModel",
      "state": {
       "children": [
        "IPY_MODEL_704c51f2b4274443ae0128fcab864aca",
        "IPY_MODEL_7b1f4521fe574a5e82c85c51dbb7d298",
        "IPY_MODEL_cc343dc00b354cd18fece388a4875e4c"
       ],
       "layout": "IPY_MODEL_f54b6bb1cd9047f2913448b18542023e"
      }
     },
     "424624df5c714774b94c513145e29a9c": {
      "model_module": "@jupyter-widgets/controls",
      "model_module_version": "1.5.0",
      "model_name": "TextModel",
      "state": {
       "continuous_update": false,
       "description": "name",
       "layout": "IPY_MODEL_7b4693667f2d4338a8c79a9c6641cc55",
       "style": "IPY_MODEL_b8a8455ce5b040d0b828e4487621af24",
       "value": "nb_axes"
      }
     },
     "42507f01d821430991d4d3162cf5c980": {
      "model_module": "@jupyter-widgets/controls",
      "model_module_version": "1.5.0",
      "model_name": "ButtonStyleModel",
      "state": {}
     },
     "42699632d8cb4a18b19918bc9af6af56": {
      "model_module": "@jupyter-widgets/controls",
      "model_module_version": "1.5.0",
      "model_name": "VBoxModel",
      "state": {
       "children": [
        "IPY_MODEL_1ed4e731b536479d92c45a6c18f3559e",
        "IPY_MODEL_1007569cd12243d8a1f1fc57a3f99da4"
       ],
       "layout": "IPY_MODEL_017aca05c9214cc1929d2b6eae6e156e"
      }
     },
     "42733af347b24deeb6820dafdba23586": {
      "model_module": "@jupyter-widgets/controls",
      "model_module_version": "1.5.0",
      "model_name": "CheckboxModel",
      "state": {
       "description": "Auto save",
       "disabled": false,
       "layout": "IPY_MODEL_d0a6d8e803054098abe932e3805dde62",
       "style": "IPY_MODEL_841666774d4c43d9ae6d7eaf452a6732",
       "value": false
      }
     },
     "427e64e328734c2ea2a19855b06e1544": {
      "model_module": "@jupyter-widgets/base",
      "model_module_version": "1.2.0",
      "model_name": "LayoutModel",
      "state": {}
     },
     "42899300951d4816b38de19a05816be9": {
      "model_module": "@jupyter-widgets/controls",
      "model_module_version": "1.5.0",
      "model_name": "ColorPickerModel",
      "state": {
       "description": "specular",
       "disabled": false,
       "layout": "IPY_MODEL_aa1527d107974d47bd2fd0186635a413",
       "style": "IPY_MODEL_83a85ac4e24a46dcb16123312e23679a",
       "value": "#282828"
      }
     },
     "428b97f3a6fc42759d90478a7ffb3457": {
      "model_module": "@jupyter-widgets/controls",
      "model_module_version": "1.5.0",
      "model_name": "ButtonModel",
      "state": {
       "description": "Add",
       "layout": "IPY_MODEL_f8bc8a94e6fc4a96a7ccd3d239c789b6",
       "style": "IPY_MODEL_0f41b5c50bdb442a8ef61d9d982b922d"
      }
     },
     "42a63d59593845ca8d64fb7a3a398a5a": {
      "model_module": "@jupyter-widgets/controls",
      "model_module_version": "1.5.0",
      "model_name": "ButtonModel",
      "state": {
       "description": "Add",
       "layout": "IPY_MODEL_bfcf3e600cd241bc9d5160e197b1e911",
       "style": "IPY_MODEL_d9d4c404d76e436f8e9995638352fdaa"
      }
     },
     "42a66a116d6e4ad2babe8908a1d40481": {
      "model_module": "@jupyter-widgets/controls",
      "model_module_version": "1.5.0",
      "model_name": "HBoxModel",
      "state": {
       "children": [
        "IPY_MODEL_15300167b1664d9682018422b0697519",
        "IPY_MODEL_4d2f274f932b4ef0994b8ac525736c86"
       ],
       "layout": "IPY_MODEL_6f5e6f5355bd440d8af5ee837dac75a9"
      }
     },
     "42bd288f8f7a49258f239061878469ab": {
      "model_module": "@jupyter-widgets/controls",
      "model_module_version": "1.5.0",
      "model_name": "FloatSliderModel",
      "state": {
       "continuous_update": false,
       "description": "shininess",
       "layout": "IPY_MODEL_e00c9b4660724449996a9caf91ac6f11",
       "max": 1,
       "step": 0.1,
       "style": "IPY_MODEL_9339d52d22ba42b4b13936f99523dc0d",
       "value": 0.2
      }
     },
     "42bdc25840194831ac110172cc330d2c": {
      "model_module": "@jupyter-widgets/controls",
      "model_module_version": "1.5.0",
      "model_name": "HBoxModel",
      "state": {
       "children": [
        "IPY_MODEL_fafd54646a864f0485ae172b9494da07",
        "IPY_MODEL_5cdf0a890d1f47459e533b95f5fa6d12"
       ],
       "layout": "IPY_MODEL_7c6bc321cc134eba81eea73eeb840f28"
      }
     },
     "42c627ff3d74409cbca15e800caf7190": {
      "model_module": "@jupyter-widgets/controls",
      "model_module_version": "1.5.0",
      "model_name": "HBoxModel",
      "state": {
       "children": [
        "IPY_MODEL_311ce300b7c84bb79c37a6974f900649",
        "IPY_MODEL_a02f0afc7f6946cfbda70b9cb2bee9f9"
       ],
       "layout": "IPY_MODEL_ad0d38c2c2774e369fd4428f472136f0"
      }
     },
     "42e7b3c15d994cd6b5e009744d25d2cf": {
      "model_module": "@jupyter-widgets/base",
      "model_module_version": "1.2.0",
      "model_name": "LayoutModel",
      "state": {}
     },
     "42f6a0ce6998407886d1d89c57494c7e": {
      "model_module": "@jupyter-widgets/controls",
      "model_module_version": "1.5.0",
      "model_name": "DescriptionStyleModel",
      "state": {
       "description_width": ""
      }
     },
     "42f86bc00ec5429c81b76ab0e86707fb": {
      "model_module": "@jupyter-widgets/base",
      "model_module_version": "1.2.0",
      "model_name": "LayoutModel",
      "state": {}
     },
     "431315f0bf144d2fa04d6ffc24c515f9": {
      "model_module": "@jupyter-widgets/base",
      "model_module_version": "1.2.0",
      "model_name": "LayoutModel",
      "state": {}
     },
     "4324f2529e09415dadc3370833a9cf89": {
      "model_module": "@jupyter-widgets/base",
      "model_module_version": "1.2.0",
      "model_name": "LayoutModel",
      "state": {}
     },
     "436612109cc345eab450803b93d883e8": {
      "model_module": "@jupyter-widgets/controls",
      "model_module_version": "1.5.0",
      "model_name": "FloatTextModel",
      "state": {
       "description": "max",
       "layout": "IPY_MODEL_8cbb1af1d0af4ff9bb22fce6efa5827f",
       "step": null,
       "style": "IPY_MODEL_83a4686453db4032b8b41676af2640e3",
       "value": 0.1
      }
     },
     "436fd876208e40f2bed14a468634cd12": {
      "model_module": "@jupyter-widgets/base",
      "model_module_version": "1.2.0",
      "model_name": "LayoutModel",
      "state": {}
     },
     "4372a40b5e864ae785c713790258dbe4": {
      "model_module": "@jupyter-widgets/controls",
      "model_module_version": "1.5.0",
      "model_name": "ButtonModel",
      "state": {
       "description": "Delete",
       "layout": "IPY_MODEL_2b6bcb5538be448e892da6df8ef5fc7b",
       "style": "IPY_MODEL_9961b6fd43374fabbaa82d99027e4bb1"
      }
     },
     "43a396464ca047eb82af9b0128d1a7b9": {
      "model_module": "@jupyter-widgets/base",
      "model_module_version": "1.2.0",
      "model_name": "LayoutModel",
      "state": {}
     },
     "440acb6e8011430aa874cae6aefacb36": {
      "model_module": "@jupyter-widgets/base",
      "model_module_version": "1.2.0",
      "model_name": "LayoutModel",
      "state": {}
     },
     "44131773a2c94fe0b4f6cf36799a8fd5": {
      "model_module": "@jupyter-widgets/base",
      "model_module_version": "1.2.0",
      "model_name": "LayoutModel",
      "state": {}
     },
     "445f90f4d3de40cb874172bbb0b2c38d": {
      "model_module": "@jupyter-widgets/controls",
      "model_module_version": "1.5.0",
      "model_name": "TextModel",
      "state": {
       "continuous_update": false,
       "description": "name",
       "layout": "IPY_MODEL_3b4a50bb20de416aaf7650c47c84598b",
       "style": "IPY_MODEL_a986327c2f5f410491da6da14c2b9def",
       "value": "leafold"
      }
     },
     "446d0c4274894c3b975472f4d7fb6e63": {
      "model_module": "@jupyter-widgets/controls",
      "model_module_version": "1.5.0",
      "model_name": "ColorPickerModel",
      "state": {
       "description": "emission",
       "disabled": false,
       "layout": "IPY_MODEL_ea37aa48e5954c09acb575e2396d3c05",
       "style": "IPY_MODEL_53d7302061eb4c8dab94848618029115",
       "value": "#000000"
      }
     },
     "4474832739d44029bfbe0a393192f09b": {
      "model_module": "@jupyter-widgets/base",
      "model_module_version": "1.2.0",
      "model_name": "LayoutModel",
      "state": {}
     },
     "449c85b1a2fd45ca80ed62dfbe241426": {
      "model_module": "@jupyter-widgets/controls",
      "model_module_version": "1.5.0",
      "model_name": "FloatSliderModel",
      "state": {
       "continuous_update": false,
       "description": "value",
       "layout": "IPY_MODEL_0e83125bafcd45128549f748b59b3649",
       "max": 0.1,
       "min": 0.01,
       "step": 0.01,
       "style": "IPY_MODEL_985068152a494f6a9cd086225e496a1c",
       "value": 0.03
      }
     },
     "44dcb9bfe777455c977cdf1b2466d6c4": {
      "model_module": "@jupyter-widgets/base",
      "model_module_version": "1.2.0",
      "model_name": "LayoutModel",
      "state": {}
     },
     "44ee20673cb54cb197bb19275c2ee931": {
      "model_module": "@jupyter-widgets/controls",
      "model_module_version": "1.5.0",
      "model_name": "DescriptionStyleModel",
      "state": {
       "description_width": ""
      }
     },
     "44f1703909314fab8a00501069423623": {
      "model_module": "@jupyter-widgets/base",
      "model_module_version": "1.2.0",
      "model_name": "LayoutModel",
      "state": {
       "flex_flow": "row wrap"
      }
     },
     "44f5b99592c446f1b50b0f9407cf4305": {
      "model_module": "@jupyter-widgets/controls",
      "model_module_version": "1.5.0",
      "model_name": "TabModel",
      "state": {
       "layout": "IPY_MODEL_ad28097795614babac3adcc76c9b471c"
      }
     },
     "45109e056cae4646bd13589740cb2e07": {
      "model_module": "@jupyter-widgets/controls",
      "model_module_version": "1.5.0",
      "model_name": "ButtonModel",
      "state": {
       "description": "Add",
       "layout": "IPY_MODEL_fdd783e8cd6f4152908064599bd69390",
       "style": "IPY_MODEL_b4b34b837b2e417eb78863606b1d6e8d"
      }
     },
     "451a764b5b1b439ba89df9ed30ab7521": {
      "model_module": "@jupyter-widgets/base",
      "model_module_version": "1.2.0",
      "model_name": "LayoutModel",
      "state": {}
     },
     "455ba0e06d5247ffb20550cc7189a0a9": {
      "model_module": "@jupyter-widgets/controls",
      "model_module_version": "1.5.0",
      "model_name": "FloatSliderModel",
      "state": {
       "description": "transparency",
       "layout": "IPY_MODEL_6ecb092e2f024e54ab3e5a0f2fecdaa1",
       "max": 1,
       "step": 0.1,
       "style": "IPY_MODEL_b88afe6051704699a445a1ca92a8653e"
      }
     },
     "455df1ed61f5486cac7c517343725455": {
      "model_module": "@jupyter-widgets/controls",
      "model_module_version": "1.5.0",
      "model_name": "DescriptionStyleModel",
      "state": {
       "description_width": ""
      }
     },
     "455f8aeaffa441bf93d43f30ccfb8f01": {
      "model_module": "@jupyter-widgets/base",
      "model_module_version": "1.2.0",
      "model_name": "LayoutModel",
      "state": {}
     },
     "4588b0c67ae24d139bd2cbf03d663247": {
      "model_module": "pgljupyter",
      "model_module_version": "^0.2.1",
      "model_name": "MaterialEditorModel",
      "state": {
       "_model_module_version": "^0.2.1",
       "_view_module_version": "^0.2.1",
       "children": [
        "IPY_MODEL_b3f52b7d738c482db304933fd63d29e6",
        "IPY_MODEL_dd4dba293426449aa06a3fde18521edd",
        "IPY_MODEL_0f1c0fcb8f9f4d159e1c377af1f3d791",
        "IPY_MODEL_7295156e70a548268ebc0dc7495620f9",
        "IPY_MODEL_211d7215642f4e8382341b62266fd175",
        "IPY_MODEL_89cbe63d546f406ca712a5c299db1759",
        "IPY_MODEL_2dfab165a38a474a9e9817abcac0b323"
       ],
       "layout": "IPY_MODEL_b37a03133cc343a7988916dcce1b09e5"
      }
     },
     "458fbc06550843999bb8f82e518d7bba": {
      "model_module": "pgljupyter",
      "model_module_version": "^0.1.21",
      "model_name": "ParameterEditorModel",
      "state": {
       "_model_module_version": "^0.1.21",
       "_view_module_version": "^0.1.21",
       "children": [
        "IPY_MODEL_963604a85f104c0ea8afa21693108092"
       ],
       "layout": "IPY_MODEL_a4c87564910c4791b7ebc8217ae6af21"
      }
     },
     "45975a20708e4eefa5f5626f0c67680a": {
      "model_module": "@jupyter-widgets/base",
      "model_module_version": "1.2.0",
      "model_name": "LayoutModel",
      "state": {}
     },
     "459815904a114cb9b092e8b2c8f014dd": {
      "model_module": "@jupyter-widgets/base",
      "model_module_version": "1.2.0",
      "model_name": "LayoutModel",
      "state": {
       "margin": "20px 0px"
      }
     },
     "45a3b4944c1a4688b18a9e80c13972c0": {
      "model_module": "@jupyter-widgets/base",
      "model_module_version": "1.2.0",
      "model_name": "LayoutModel",
      "state": {}
     },
     "45b176cc871b4434a95e3623b873c4fa": {
      "model_module": "@jupyter-widgets/base",
      "model_module_version": "1.2.0",
      "model_name": "LayoutModel",
      "state": {}
     },
     "45f98c4f44d14504a22ffa36469c7310": {
      "model_module": "@jupyter-widgets/base",
      "model_module_version": "1.2.0",
      "model_name": "LayoutModel",
      "state": {}
     },
     "4623abe30f8746eb94835fdc33c089af": {
      "model_module": "@jupyter-widgets/controls",
      "model_module_version": "1.5.0",
      "model_name": "SliderStyleModel",
      "state": {
       "description_width": ""
      }
     },
     "46559724ab7140ba983352954fb841c1": {
      "model_module": "@jupyter-widgets/base",
      "model_module_version": "1.2.0",
      "model_name": "LayoutModel",
      "state": {}
     },
     "466cc074ebc9465d93833472fef33beb": {
      "model_module": "@jupyter-widgets/base",
      "model_module_version": "1.2.0",
      "model_name": "LayoutModel",
      "state": {}
     },
     "468860202d6c4c5cbdaf75ab248c2dfa": {
      "model_module": "@jupyter-widgets/base",
      "model_module_version": "1.2.0",
      "model_name": "LayoutModel",
      "state": {}
     },
     "46bb048d9eec4d478fec36bfaa6b5a6b": {
      "model_module": "@jupyter-widgets/controls",
      "model_module_version": "1.5.0",
      "model_name": "DescriptionStyleModel",
      "state": {
       "description_width": ""
      }
     },
     "46dc8db3a2314364aef4e0c8d1978932": {
      "model_module": "@jupyter-widgets/controls",
      "model_module_version": "1.5.0",
      "model_name": "IntSliderModel",
      "state": {
       "description": "value",
       "layout": "IPY_MODEL_fb1b6686319348cb96f3381131e638e7",
       "max": 5,
       "min": 1,
       "style": "IPY_MODEL_0b93168b9537476da57b957c67d41cc5",
       "value": 4
      }
     },
     "4700fadcbf6740eeacfb5f4d5442bcc5": {
      "model_module": "@jupyter-widgets/controls",
      "model_module_version": "1.5.0",
      "model_name": "DescriptionStyleModel",
      "state": {
       "description_width": ""
      }
     },
     "4714391555864c2d8b0f394fb88fc2e4": {
      "model_module": "@jupyter-widgets/controls",
      "model_module_version": "1.5.0",
      "model_name": "CheckboxModel",
      "state": {
       "description": "Auto apply",
       "disabled": false,
       "layout": "IPY_MODEL_5f40ab866c114047b0d20c588be213e6",
       "style": "IPY_MODEL_849c2ebb88204ff3a3491bcf597bb0c2",
       "value": false
      }
     },
     "4720179570ea4e868498362e539111b3": {
      "model_module": "@jupyter-widgets/controls",
      "model_module_version": "1.5.0",
      "model_name": "IntSliderModel",
      "state": {
       "description": "value",
       "layout": "IPY_MODEL_c737fed3f4b647319d521b5a01ed5013",
       "max": 10,
       "min": 1,
       "style": "IPY_MODEL_f6d0532b4d034ab5add8a942c8036f27",
       "value": 2
      }
     },
     "473617a3b3a74ffb93086ff4b9f2d61a": {
      "model_module": "@jupyter-widgets/base",
      "model_module_version": "1.2.0",
      "model_name": "LayoutModel",
      "state": {}
     },
     "47a676e89113488bb3cee21941e5aba5": {
      "model_module": "@jupyter-widgets/base",
      "model_module_version": "1.2.0",
      "model_name": "LayoutModel",
      "state": {}
     },
     "47aa29b5402a42eebe90191e43a7f163": {
      "model_module": "@jupyter-widgets/controls",
      "model_module_version": "1.5.0",
      "model_name": "DescriptionStyleModel",
      "state": {
       "description_width": ""
      }
     },
     "47c2ee699e6a4f7c83103495961650b0": {
      "model_module": "@jupyter-widgets/base",
      "model_module_version": "1.2.0",
      "model_name": "LayoutModel",
      "state": {}
     },
     "47c4dd25604a48a1b5557177fd515750": {
      "model_module": "@jupyter-widgets/base",
      "model_module_version": "1.2.0",
      "model_name": "LayoutModel",
      "state": {}
     },
     "47cab6d01e35497189f8f2866f69ad79": {
      "model_module": "@jupyter-widgets/base",
      "model_module_version": "1.2.0",
      "model_name": "LayoutModel",
      "state": {}
     },
     "47fb3c80b04646738a440b8943ebe585": {
      "model_module": "@jupyter-widgets/base",
      "model_module_version": "1.2.0",
      "model_name": "LayoutModel",
      "state": {}
     },
     "48081768731e4a308ef6582f5108536e": {
      "model_module": "@jupyter-widgets/base",
      "model_module_version": "1.2.0",
      "model_name": "LayoutModel",
      "state": {}
     },
     "481a58dae7e14912a728666f6352c9b3": {
      "model_module": "@jupyter-widgets/base",
      "model_module_version": "1.2.0",
      "model_name": "LayoutModel",
      "state": {}
     },
     "481cf82ea8244cf4b9b9b31187903bc6": {
      "model_module": "@jupyter-widgets/base",
      "model_module_version": "1.2.0",
      "model_name": "LayoutModel",
      "state": {}
     },
     "4846a27e60cc441d93d5c535ffde0e6e": {
      "model_module": "@jupyter-widgets/controls",
      "model_module_version": "1.5.0",
      "model_name": "HBoxModel",
      "state": {
       "children": [
        "IPY_MODEL_6afde54ff02642b099358c5671f1b873",
        "IPY_MODEL_cd1d503025f94455898cda591460f5da"
       ],
       "layout": "IPY_MODEL_dae8d0d2b5a24ba3a4caef5ae026ea60"
      }
     },
     "4885badfb81242a3a0e907414c08b51f": {
      "model_module": "@jupyter-widgets/base",
      "model_module_version": "1.2.0",
      "model_name": "LayoutModel",
      "state": {}
     },
     "48a9dc8b95d14018a1273a4583c91c32": {
      "model_module": "@jupyter-widgets/base",
      "model_module_version": "1.2.0",
      "model_name": "LayoutModel",
      "state": {}
     },
     "48b02d61921140799c9d50de4e6abab8": {
      "model_module": "@jupyter-widgets/controls",
      "model_module_version": "1.5.0",
      "model_name": "HBoxModel",
      "state": {
       "children": [
        "IPY_MODEL_9f1b252d842443fc95ac8e7e4f03c95a",
        "IPY_MODEL_d1e4b02c15bb44948c22e7d933636530"
       ],
       "layout": "IPY_MODEL_56e10c5df99d4496a1c8da99197f9358"
      }
     },
     "48dad82cb0874a77af8613d9cc02e5b8": {
      "model_module": "@jupyter-widgets/controls",
      "model_module_version": "1.5.0",
      "model_name": "DropdownModel",
      "state": {
       "index": null,
       "layout": "IPY_MODEL_93b7d193d72342788a68a1d372519ba3",
       "style": "IPY_MODEL_03b7ff59bdfb45ae9fec96faf9e7b637"
      }
     },
     "49141dde33e641a3896a5be922942e3a": {
      "model_module": "@jupyter-widgets/controls",
      "model_module_version": "1.5.0",
      "model_name": "ColorPickerModel",
      "state": {
       "description": "specular",
       "disabled": false,
       "layout": "IPY_MODEL_7bcbf2c5d38b4c07bfe83a6b2a477e24",
       "style": "IPY_MODEL_d894f81338df4a7997bee79a0e19735c",
       "value": "#000000"
      }
     },
     "49142d5fe84f451ca57bf7979546be3b": {
      "model_module": "@jupyter-widgets/controls",
      "model_module_version": "1.5.0",
      "model_name": "VBoxModel",
      "state": {
       "children": [
        "IPY_MODEL_7b26c458dc7d4deba33285df9fe694dc",
        "IPY_MODEL_dc891aa6241b421da0cabf4ab08e3d0e"
       ],
       "layout": "IPY_MODEL_181662f4cedf410dac5bab4e1bf8645f"
      }
     },
     "4928061e04e84f6ea5f8e22041842c65": {
      "model_module": "@jupyter-widgets/controls",
      "model_module_version": "1.5.0",
      "model_name": "FloatSliderModel",
      "state": {
       "description": "diffuse",
       "layout": "IPY_MODEL_9d3e8bfa637b4501a40010eae48c2c9e",
       "max": 3,
       "step": 0.1,
       "style": "IPY_MODEL_f223c7d886294225be0b4cb6d842a989",
       "value": 1
      }
     },
     "49306a0c91164b7a808f80e189b3a9ee": {
      "model_module": "@jupyter-widgets/base",
      "model_module_version": "1.2.0",
      "model_name": "LayoutModel",
      "state": {
       "margin": "20px 0px"
      }
     },
     "4933c3be1ca74d3b87e7deac4ab3fa84": {
      "model_module": "@jupyter-widgets/controls",
      "model_module_version": "1.5.0",
      "model_name": "TextModel",
      "state": {
       "continuous_update": false,
       "description": "name",
       "layout": "IPY_MODEL_998772480aac452387c45481c4a8859d",
       "style": "IPY_MODEL_2b2537aec03a486682b37fa201430b15",
       "value": "leafduration"
      }
     },
     "4947c3b5ad3d4d9b835c11bf006ebb62": {
      "model_module": "@jupyter-widgets/controls",
      "model_module_version": "1.5.0",
      "model_name": "HBoxModel",
      "state": {
       "children": [
        "IPY_MODEL_29918fb80a9848de89cb62bc4cb1cf45",
        "IPY_MODEL_8da5a23cbcfe4a32abff9982c0d9ba9b"
       ],
       "layout": "IPY_MODEL_beda81a3b0ac4e599adfa39835831fd8"
      }
     },
     "4958d672242649e6ba8c129a89e468d4": {
      "model_module": "@jupyter-widgets/base",
      "model_module_version": "1.2.0",
      "model_name": "LayoutModel",
      "state": {}
     },
     "496e48f80ba34d7389289f84ed07049f": {
      "model_module": "@jupyter-widgets/controls",
      "model_module_version": "1.5.0",
      "model_name": "DescriptionStyleModel",
      "state": {
       "description_width": ""
      }
     },
     "498f774db8944cf9acb68dfb080f9434": {
      "model_module": "@jupyter-widgets/base",
      "model_module_version": "1.2.0",
      "model_name": "LayoutModel",
      "state": {}
     },
     "49a7444e59d04369babbc00ebc4fd1d6": {
      "model_module": "@jupyter-widgets/controls",
      "model_module_version": "1.5.0",
      "model_name": "ColorPickerModel",
      "state": {
       "description": "specular",
       "disabled": false,
       "layout": "IPY_MODEL_db946cbbdb794b6498a7220ba95a9042",
       "style": "IPY_MODEL_f0360e90f8844f669efb780ee3af11e8",
       "value": "#282828"
      }
     },
     "49abdf9d78524715a97cc756c7cc26ee": {
      "model_module": "@jupyter-widgets/controls",
      "model_module_version": "1.5.0",
      "model_name": "ButtonStyleModel",
      "state": {}
     },
     "49bae710026d4abebe418948abc24209": {
      "model_module": "@jupyter-widgets/controls",
      "model_module_version": "1.5.0",
      "model_name": "DescriptionStyleModel",
      "state": {
       "description_width": ""
      }
     },
     "49c13f7f61b74fdeb6c2e02c3d02da5a": {
      "model_module": "@jupyter-widgets/controls",
      "model_module_version": "1.5.0",
      "model_name": "HBoxModel",
      "state": {
       "children": [
        "IPY_MODEL_e8a23a012cbf4853a330e912e3cad92f",
        "IPY_MODEL_9d1c471f6aa5499386c9cee5a496cdfc",
        "IPY_MODEL_221397e9ebd543a29b72321488035216"
       ],
       "layout": "IPY_MODEL_7d638b1bb84145df842f1629b3b977bb"
      }
     },
     "49d68010fc084f1ebd5a1e73fb6c31af": {
      "model_module": "pgljupyter",
      "model_module_version": "^0.1.17",
      "model_name": "MaterialEditorModel",
      "state": {
       "_model_module_version": "^0.1.17",
       "_view_module_version": "^0.1.17",
       "children": [
        "IPY_MODEL_d1f553a8e0e14ca8939fd7facfe7bdd0",
        "IPY_MODEL_b483a839a4094147ab01f3c7d19bb1ac",
        "IPY_MODEL_9991cdc311734263a5179071275bff7c",
        "IPY_MODEL_06da4c288f8b48efae9708615015dd07",
        "IPY_MODEL_4928061e04e84f6ea5f8e22041842c65",
        "IPY_MODEL_67461a76be584a8b8d2fa4e2f8aa7d24",
        "IPY_MODEL_5728fafc0bd4433f81791185f2f8a527"
       ],
       "layout": "IPY_MODEL_3b280508434144bfb2cc499f02a544f3"
      }
     },
     "49d8421d6f4e4d488db1bd655f89a30e": {
      "model_module": "@jupyter-widgets/base",
      "model_module_version": "1.2.0",
      "model_name": "LayoutModel",
      "state": {}
     },
     "4a28f656400b498e9b4a70690a4229a8": {
      "model_module": "@jupyter-widgets/controls",
      "model_module_version": "1.5.0",
      "model_name": "DescriptionStyleModel",
      "state": {
       "description_width": ""
      }
     },
     "4a2ccff224ef48f09723ba6a231d6640": {
      "model_module": "@jupyter-widgets/base",
      "model_module_version": "1.2.0",
      "model_name": "LayoutModel",
      "state": {
       "margin": "20px 0px"
      }
     },
     "4a48e3b56b974227bcbb4111eb32acbb": {
      "model_module": "@jupyter-widgets/controls",
      "model_module_version": "1.5.0",
      "model_name": "SliderStyleModel",
      "state": {
       "description_width": ""
      }
     },
     "4a8af0be878b499d97a7bae1ed0009d0": {
      "model_module": "@jupyter-widgets/controls",
      "model_module_version": "1.5.0",
      "model_name": "DescriptionStyleModel",
      "state": {
       "description_width": ""
      }
     },
     "4ad56d578f64435bb7040e6288f8436f": {
      "model_module": "@jupyter-widgets/controls",
      "model_module_version": "1.5.0",
      "model_name": "SliderStyleModel",
      "state": {
       "description_width": ""
      }
     },
     "4afd330d8b794b27b31b952402605af2": {
      "model_module": "@jupyter-widgets/controls",
      "model_module_version": "1.5.0",
      "model_name": "ColorPickerModel",
      "state": {
       "description": "ambient",
       "disabled": false,
       "layout": "IPY_MODEL_6122fb292c0c44039d410f9afbe16534",
       "style": "IPY_MODEL_bf5f584ba47f4eb58e2144997c9fbd8f",
       "value": "#0fc4db"
      }
     },
     "4b1277c24015447389de967d778203f6": {
      "model_module": "@jupyter-widgets/controls",
      "model_module_version": "1.5.0",
      "model_name": "FloatSliderModel",
      "state": {
       "continuous_update": false,
       "description": "shininess",
       "layout": "IPY_MODEL_e9daa491099b49fc9c13441be4dd0053",
       "max": 1,
       "step": 0.1,
       "style": "IPY_MODEL_53d9d8555112435ca7e994d55ff432d5",
       "value": 0.2
      }
     },
     "4b2b575ede144d15b37a9b26cc73c875": {
      "model_module": "@jupyter-widgets/base",
      "model_module_version": "1.2.0",
      "model_name": "LayoutModel",
      "state": {}
     },
     "4b3dbea0b86d4ee298e367fc30300406": {
      "model_module": "@jupyter-widgets/controls",
      "model_module_version": "1.5.0",
      "model_name": "SliderStyleModel",
      "state": {
       "description_width": ""
      }
     },
     "4b4fb8f835ff4f25801bdcf57fb1eba4": {
      "model_module": "@jupyter-widgets/base",
      "model_module_version": "1.2.0",
      "model_name": "LayoutModel",
      "state": {}
     },
     "4b7afeaad0934ef3b8ed7e9d8d2cd9c9": {
      "model_module": "@jupyter-widgets/base",
      "model_module_version": "1.2.0",
      "model_name": "LayoutModel",
      "state": {}
     },
     "4b847adc42dd44cc8851741209771151": {
      "model_module": "@jupyter-widgets/base",
      "model_module_version": "1.2.0",
      "model_name": "LayoutModel",
      "state": {}
     },
     "4b95e9dc9d3e4efbb9ed6d24b62872e9": {
      "model_module": "@jupyter-widgets/base",
      "model_module_version": "1.2.0",
      "model_name": "LayoutModel",
      "state": {}
     },
     "4ba98a3088f249428269655303174413": {
      "model_module": "@jupyter-widgets/base",
      "model_module_version": "1.2.0",
      "model_name": "LayoutModel",
      "state": {}
     },
     "4bc9266c4ade4f44b0254d1815a8b47b": {
      "model_module": "@jupyter-widgets/controls",
      "model_module_version": "1.5.0",
      "model_name": "ColorPickerModel",
      "state": {
       "description": "emission",
       "disabled": false,
       "layout": "IPY_MODEL_1e0a5f037309498087dedcf18b77314b",
       "style": "IPY_MODEL_1516995799ac4dad8abfd5b9e3a965b1",
       "value": "#000000"
      }
     },
     "4bd32345c7094c9b83e1d6211f92d7df": {
      "model_module": "@jupyter-widgets/controls",
      "model_module_version": "1.5.0",
      "model_name": "ButtonModel",
      "state": {
       "description": "Delete",
       "layout": "IPY_MODEL_29cb9888dbcc4dc9bc915fc90fd8998a",
       "style": "IPY_MODEL_ce7e6e96ec964535b8172165fd984f5a"
      }
     },
     "4be4fe9b98574f5e94986b02b8c225cb": {
      "model_module": "@jupyter-widgets/base",
      "model_module_version": "1.2.0",
      "model_name": "LayoutModel",
      "state": {}
     },
     "4bf0c1f1957b48469384dbe0faad91c2": {
      "model_module": "pgljupyter",
      "model_module_version": "^0.2.0",
      "model_name": "MaterialEditorModel",
      "state": {
       "_model_module_version": "^0.2.0",
       "_view_module_version": "^0.2.0",
       "children": [
        "IPY_MODEL_94d95cd1937246618d8bd9dde60c742b",
        "IPY_MODEL_b9a7dd3f00544db199e86604e6f76867",
        "IPY_MODEL_d28067c4931743aca1bc823ffb01f353",
        "IPY_MODEL_49a7444e59d04369babbc00ebc4fd1d6",
        "IPY_MODEL_fbc28d4867664e83b912b970159719cf",
        "IPY_MODEL_cd18808436ce4ac78c1eb074bdea5bc5",
        "IPY_MODEL_23b71bd3d43a46858d0d86b6e18210b8",
        "IPY_MODEL_407103a332f345d8bf4ea5aa6a021916"
       ],
       "layout": "IPY_MODEL_0a605ffb4f624917ba41278f33b71117"
      }
     },
     "4bfa6e2f73c74bffa75861116f13ec31": {
      "model_module": "@jupyter-widgets/controls",
      "model_module_version": "1.5.0",
      "model_name": "DescriptionStyleModel",
      "state": {
       "description_width": ""
      }
     },
     "4c0cd242021b4387b84906f781be597f": {
      "model_module": "@jupyter-widgets/base",
      "model_module_version": "1.2.0",
      "model_name": "LayoutModel",
      "state": {}
     },
     "4c1b928d9c39493b83808770f5705abb": {
      "model_module": "@jupyter-widgets/controls",
      "model_module_version": "1.5.0",
      "model_name": "DescriptionStyleModel",
      "state": {
       "description_width": ""
      }
     },
     "4c44f5e9ec414505a6576ceb754bc067": {
      "model_module": "@jupyter-widgets/base",
      "model_module_version": "1.2.0",
      "model_name": "LayoutModel",
      "state": {}
     },
     "4c5968a8f0d144c9a301e734cf566a5a": {
      "model_module": "@jupyter-widgets/base",
      "model_module_version": "1.2.0",
      "model_name": "LayoutModel",
      "state": {}
     },
     "4c59ca8cf18245f5a14540938a82f127": {
      "model_module": "@jupyter-widgets/controls",
      "model_module_version": "1.5.0",
      "model_name": "HBoxModel",
      "state": {
       "children": [
        "IPY_MODEL_fcdb0e54646c4bbbb1485f7cb42b4bbc",
        "IPY_MODEL_b3beeeb252564f9193c765e7fe7136a4"
       ],
       "layout": "IPY_MODEL_a0c58eb759874d7aabec070d0f8f4e28"
      }
     },
     "4c6828d30e454b219dd59636daba61a2": {
      "model_module": "@jupyter-widgets/controls",
      "model_module_version": "1.5.0",
      "model_name": "FloatSliderModel",
      "state": {
       "description": "diffuse",
       "layout": "IPY_MODEL_29ada92f78534b5a8245a40f76bd758a",
       "max": 3,
       "step": 0.1,
       "style": "IPY_MODEL_5030d93db7d84db8beba5be10c0fdb22",
       "value": 1
      }
     },
     "4c81abb4c66846b5a198148d5fde3afe": {
      "model_module": "@jupyter-widgets/controls",
      "model_module_version": "1.5.0",
      "model_name": "SliderStyleModel",
      "state": {
       "description_width": ""
      }
     },
     "4c9d04011f15472db454f026ea6b3c07": {
      "model_module": "@jupyter-widgets/base",
      "model_module_version": "1.2.0",
      "model_name": "LayoutModel",
      "state": {}
     },
     "4c9de94bf18940cfa243f8ce5bd981ff": {
      "model_module": "@jupyter-widgets/controls",
      "model_module_version": "1.5.0",
      "model_name": "TabModel",
      "state": {
       "layout": "IPY_MODEL_d823d7a84c874bdfa2e19e5a2952a317"
      }
     },
     "4ca74ce323174e558e881e7f83c25b30": {
      "model_module": "@jupyter-widgets/controls",
      "model_module_version": "1.5.0",
      "model_name": "ButtonModel",
      "state": {
       "description": "Add",
       "layout": "IPY_MODEL_c7392a724df448aeb54bda6da04bb735",
       "style": "IPY_MODEL_986f1e0e898f4259af59feb5928fa85f"
      }
     },
     "4cbdfd51fc7a4d0aa56146812cc120e6": {
      "model_module": "pgljupyter",
      "model_module_version": "^0.1.21",
      "model_name": "IntEditorModel",
      "state": {
       "_model_module_version": "^0.1.21",
       "_view_module_version": "^0.1.21",
       "children": [
        "IPY_MODEL_2f44d75cf5a94a1f952b35bf8347abb8",
        "IPY_MODEL_0ca1da812e904b3597a1f8d0066aa817"
       ],
       "layout": "IPY_MODEL_f06f7a31a7f6416183260274d8da1272"
      }
     },
     "4cc61bf11bdd449f8a15ee9f20326662": {
      "model_module": "@jupyter-widgets/controls",
      "model_module_version": "1.5.0",
      "model_name": "ColorPickerModel",
      "state": {
       "description": "specular",
       "disabled": false,
       "layout": "IPY_MODEL_32f9213597194d8bb44e46d1c99c84fb",
       "style": "IPY_MODEL_7c4db97ead9f439e8fe449d24de9b82d",
       "value": "#282828"
      }
     },
     "4cd38825a8884057bf5bc40058c1ffbc": {
      "model_module": "@jupyter-widgets/base",
      "model_module_version": "1.2.0",
      "model_name": "LayoutModel",
      "state": {}
     },
     "4d1b7f47fb8742fc8f79ea08ede8715b": {
      "model_module": "@jupyter-widgets/controls",
      "model_module_version": "1.5.0",
      "model_name": "DescriptionStyleModel",
      "state": {
       "description_width": ""
      }
     },
     "4d1d2003f29c41ff8de536581cacd952": {
      "model_module": "@jupyter-widgets/controls",
      "model_module_version": "1.5.0",
      "model_name": "FloatSliderModel",
      "state": {
       "description": "value",
       "layout": "IPY_MODEL_4b95e9dc9d3e4efbb9ed6d24b62872e9",
       "max": 0.1,
       "min": 0.01,
       "step": 0.01,
       "style": "IPY_MODEL_1165440a552f44e8874ff2662c8016cf",
       "value": 0.03
      }
     },
     "4d2f274f932b4ef0994b8ac525736c86": {
      "model_module": "pgljupyter",
      "model_module_version": "^0.1.19",
      "model_name": "IntEditorModel",
      "state": {
       "_model_module_version": "^0.1.19",
       "_view_module_version": "^0.1.19",
       "children": [
        "IPY_MODEL_0008873d24ed4fa3b871bc34051bd716",
        "IPY_MODEL_7f4e36825ae64c65830760a42614b069"
       ],
       "layout": "IPY_MODEL_8b961dc464fe4120b95633845d5c9860"
      }
     },
     "4d5e57a20ec8434da60157436d715a78": {
      "model_module": "@jupyter-widgets/controls",
      "model_module_version": "1.5.0",
      "model_name": "SliderStyleModel",
      "state": {
       "description_width": ""
      }
     },
     "4d61064357674c97bb169c5602e69545": {
      "model_module": "@jupyter-widgets/base",
      "model_module_version": "1.2.0",
      "model_name": "LayoutModel",
      "state": {}
     },
     "4d77f69f74244057baec36b232f87f78": {
      "model_module": "@jupyter-widgets/base",
      "model_module_version": "1.2.0",
      "model_name": "LayoutModel",
      "state": {
       "flex_flow": "row wrap",
       "margin": "20px"
      }
     },
     "4d79e8bd62ba46e7b8991120fe395616": {
      "model_module": "@jupyter-widgets/base",
      "model_module_version": "1.2.0",
      "model_name": "LayoutModel",
      "state": {}
     },
     "4d9c47832bb743058b80a0b7ef230074": {
      "model_module": "@jupyter-widgets/controls",
      "model_module_version": "1.5.0",
      "model_name": "TextModel",
      "state": {
       "continuous_update": false,
       "description": "name",
       "layout": "IPY_MODEL_e2c963c5cf35423c8c5649096e21e578",
       "style": "IPY_MODEL_9912022f5d81416fae20d7fb32ee621a",
       "value": "leafduration"
      }
     },
     "4dbcb1266bf2455cbfa6f83b1f69516a": {
      "model_module": "@jupyter-widgets/controls",
      "model_module_version": "1.5.0",
      "model_name": "ButtonModel",
      "state": {
       "description": "Add",
       "layout": "IPY_MODEL_b8ad8d8c9f124093b14f64a259771967",
       "style": "IPY_MODEL_f5c031c73e2d41bf8b06494de1a94e89"
      }
     },
     "4dccc1a6b2aa4555ba52f45eb750b218": {
      "model_module": "pgljupyter",
      "model_module_version": "^0.2.0",
      "model_name": "FloatEditorModel",
      "state": {
       "_model_module_version": "^0.2.0",
       "_view_module_version": "^0.2.0",
       "children": [
        "IPY_MODEL_1fbbf5e052d94a73b8637548af5f55ea",
        "IPY_MODEL_449c85b1a2fd45ca80ed62dfbe241426"
       ],
       "layout": "IPY_MODEL_f1b271a66d614793b1839806e98da617"
      }
     },
     "4dd92aefda304f2781e1837f27d5ddf7": {
      "model_module": "@jupyter-widgets/controls",
      "model_module_version": "1.5.0",
      "model_name": "DescriptionStyleModel",
      "state": {
       "description_width": ""
      }
     },
     "4ddda9a00bbf42d6aacbcebecf226354": {
      "model_module": "@jupyter-widgets/base",
      "model_module_version": "1.2.0",
      "model_name": "LayoutModel",
      "state": {}
     },
     "4e7c5a348d354d778c2e8fac651d24ae": {
      "model_module": "@jupyter-widgets/controls",
      "model_module_version": "1.5.0",
      "model_name": "FloatSliderModel",
      "state": {
       "description": "diffuse",
       "layout": "IPY_MODEL_57dca5ae89cf4763919d1cd33c070eed",
       "max": 3,
       "step": 0.1,
       "style": "IPY_MODEL_eacdf3892401422d966ce9bdf9102e5d",
       "value": 1
      }
     },
     "4ee93253ee1e4f019df07258a39d8b47": {
      "model_module": "@jupyter-widgets/controls",
      "model_module_version": "1.5.0",
      "model_name": "HBoxModel",
      "state": {
       "children": [
        "IPY_MODEL_421e1166bf044e938a7c55bfb05fe175"
       ],
       "layout": "IPY_MODEL_f7ff34c66d4b431c8d7a458913ac23de"
      }
     },
     "4ef238a8a44a43369f6ff4c32bb90c5c": {
      "model_module": "@jupyter-widgets/base",
      "model_module_version": "1.2.0",
      "model_name": "LayoutModel",
      "state": {}
     },
     "4f04e84e06f04f2187ac0562bd5d7982": {
      "model_module": "@jupyter-widgets/base",
      "model_module_version": "1.2.0",
      "model_name": "LayoutModel",
      "state": {
       "margin": "20px 0px"
      }
     },
     "4f2e7e2a7b8a4fccaec815c1a8349f02": {
      "model_module": "@jupyter-widgets/base",
      "model_module_version": "1.2.0",
      "model_name": "LayoutModel",
      "state": {}
     },
     "4f4c3d6a0c30403289cf9f2587fca3e3": {
      "model_module": "pgljupyter",
      "model_module_version": "^0.1.17",
      "model_name": "ParameterEditorModel",
      "state": {
       "_model_module_version": "^0.1.17",
       "_view_module_version": "^0.1.17",
       "children": [
        "IPY_MODEL_56ca9cfe6576423da575a7edfbeda8a1"
       ],
       "layout": "IPY_MODEL_70f57e2c0344454288ed8ac17019df5e"
      }
     },
     "4f77c9429d614340bdb8d72a7fb65751": {
      "model_module": "pgljupyter",
      "model_module_version": "^0.1.16",
      "model_name": "LsystemWidgetModel",
      "state": {
       "_model_module_version": "^0.1.16",
       "_view_module_version": "^0.1.16",
       "axes_helper": false,
       "derivationLength": 41,
       "layout": "IPY_MODEL_44131773a2c94fe0b4f6cf36799a8fd5",
       "light_helper": false,
       "plane": true,
       "size_display": [
        400,
        400
       ],
       "size_world": 50
      }
     },
     "4fbf2b45694848a9aa03aadb8fb5d86c": {
      "model_module": "@jupyter-widgets/base",
      "model_module_version": "1.2.0",
      "model_name": "LayoutModel",
      "state": {}
     },
     "4fc5a93183974ef7a0ffc455f26cf5b2": {
      "model_module": "@jupyter-widgets/controls",
      "model_module_version": "1.5.0",
      "model_name": "DropdownModel",
      "state": {
       "_options_labels": [
        "Integer",
        "Float",
        "Bool"
       ],
       "index": 0,
       "layout": "IPY_MODEL_80efb8f4c6684f20b4c989fce0774f42",
       "style": "IPY_MODEL_b7ee510171464d8aad3ad8bd77727ec8"
      }
     },
     "5030d93db7d84db8beba5be10c0fdb22": {
      "model_module": "@jupyter-widgets/controls",
      "model_module_version": "1.5.0",
      "model_name": "SliderStyleModel",
      "state": {
       "description_width": ""
      }
     },
     "504c852fdd62470d9fce5fbb9e9e18bc": {
      "model_module": "@jupyter-widgets/controls",
      "model_module_version": "1.5.0",
      "model_name": "DescriptionStyleModel",
      "state": {
       "description_width": ""
      }
     },
     "5050ca46763b42f48c282cd082ef9b5e": {
      "model_module": "@jupyter-widgets/base",
      "model_module_version": "1.2.0",
      "model_name": "LayoutModel",
      "state": {}
     },
     "507c278a49a4489790e00ac34fb9023e": {
      "model_module": "@jupyter-widgets/controls",
      "model_module_version": "1.5.0",
      "model_name": "TabModel",
      "state": {
       "layout": "IPY_MODEL_ba3a3559ee5e49c19408ce2e75b666f1"
      }
     },
     "508279fbea164298875606d6a77639f3": {
      "model_module": "@jupyter-widgets/controls",
      "model_module_version": "1.5.0",
      "model_name": "SliderStyleModel",
      "state": {
       "description_width": ""
      }
     },
     "50c897762f9846d38e9f8e2de2d19de2": {
      "model_module": "@jupyter-widgets/controls",
      "model_module_version": "1.5.0",
      "model_name": "VBoxModel",
      "state": {
       "children": [
        "IPY_MODEL_1d1c9cc08a664ea3b55b7a47fcfdc251",
        "IPY_MODEL_2f0afcc5db404c0c9baabdd8288c7f23"
       ],
       "layout": "IPY_MODEL_8df2887e514042d1ac28d987a7d3f39d"
      }
     },
     "50df7fad8d974b4992fd0cea68bec79c": {
      "model_module": "@jupyter-widgets/controls",
      "model_module_version": "1.5.0",
      "model_name": "ButtonModel",
      "state": {
       "description": "Add",
       "layout": "IPY_MODEL_56fc22890f4a4ca080684ec9625a905f",
       "style": "IPY_MODEL_110ae91fb5c943dab79aeb29f57c0fcc"
      }
     },
     "510489c076f34b2bb4ed405c0bd2e184": {
      "model_module": "@jupyter-widgets/controls",
      "model_module_version": "1.5.0",
      "model_name": "ButtonStyleModel",
      "state": {}
     },
     "511b50eabb754bf2b6d8a531f4b77a56": {
      "model_module": "@jupyter-widgets/base",
      "model_module_version": "1.2.0",
      "model_name": "LayoutModel",
      "state": {}
     },
     "51298c491bb74c49aa13975c0b81b43a": {
      "model_module": "@jupyter-widgets/base",
      "model_module_version": "1.2.0",
      "model_name": "LayoutModel",
      "state": {}
     },
     "5151e6200d794a008b1bd7d40fbc162c": {
      "model_module": "@jupyter-widgets/controls",
      "model_module_version": "1.5.0",
      "model_name": "TextModel",
      "state": {
       "continuous_update": false,
       "description": "name",
       "layout": "IPY_MODEL_3bc82dbd12c54e549771ee3d9cd55b1d",
       "style": "IPY_MODEL_e2959aa92f7d44c2a5d6d06683c7f898",
       "value": "leafduration"
      }
     },
     "51585e2af8b345d584039f57e61a325f": {
      "model_module": "@jupyter-widgets/base",
      "model_module_version": "1.2.0",
      "model_name": "LayoutModel",
      "state": {
       "margin": "20px 0px"
      }
     },
     "51920d8d6d7c4da288410f94a97533ff": {
      "model_module": "@jupyter-widgets/controls",
      "model_module_version": "1.5.0",
      "model_name": "FloatSliderModel",
      "state": {
       "description": "value",
       "layout": "IPY_MODEL_e483f04bf9ee473983a54480be56ae94",
       "max": 0.1,
       "min": 0.01,
       "step": 0.01,
       "style": "IPY_MODEL_31516d112bb34f208b3e2ebaa6a85f0f",
       "value": 0.03
      }
     },
     "51ac257bcf38442c82fc060061bddd6c": {
      "model_module": "@jupyter-widgets/base",
      "model_module_version": "1.2.0",
      "model_name": "LayoutModel",
      "state": {}
     },
     "51cda50444954095a823aa105a82bfa7": {
      "model_module": "@jupyter-widgets/controls",
      "model_module_version": "1.5.0",
      "model_name": "DescriptionStyleModel",
      "state": {
       "description_width": ""
      }
     },
     "51cef2aa605e461f8d0f1f518f7427c4": {
      "model_module": "@jupyter-widgets/controls",
      "model_module_version": "1.5.0",
      "model_name": "ButtonModel",
      "state": {
       "description": "Delete",
       "layout": "IPY_MODEL_ac5bccc43bad4cf1b629ee62e886ec74",
       "style": "IPY_MODEL_36a0f787f1b14b6a9e881d9b89dbe6f9"
      }
     },
     "51deaef56dce430dae6fc3f320f5ae3e": {
      "model_module": "@jupyter-widgets/controls",
      "model_module_version": "1.5.0",
      "model_name": "BoundedIntTextModel",
      "state": {
       "description": "index",
       "layout": "IPY_MODEL_dd0076f5130e4b019ecac08f8ecf14e6",
       "style": "IPY_MODEL_54b4b06b01a146878a34d785819acd4e",
       "value": 3
      }
     },
     "526eb050a3ef4576aa3195631f16da0b": {
      "model_module": "@jupyter-widgets/controls",
      "model_module_version": "1.5.0",
      "model_name": "TextModel",
      "state": {
       "continuous_update": false,
       "description": "name",
       "layout": "IPY_MODEL_abb8dd22248e47baa61d0443c5c01957",
       "style": "IPY_MODEL_37056445934e4abba973138c48789f20",
       "value": "leafold"
      }
     },
     "5299f053912947b1b3e3594359641a4f": {
      "model_module": "@jupyter-widgets/controls",
      "model_module_version": "1.5.0",
      "model_name": "VBoxModel",
      "state": {
       "children": [
        "IPY_MODEL_95b0aad19c7f4e6d83f1dc61e03069e9",
        "IPY_MODEL_6ca8a058608e461981d02fe06f909f06"
       ],
       "layout": "IPY_MODEL_3431b524e8b5496f8fc9b98497689096"
      }
     },
     "529e918b5e134ca5a4af51bf8651b987": {
      "model_module": "@jupyter-widgets/controls",
      "model_module_version": "1.5.0",
      "model_name": "DropdownModel",
      "state": {
       "index": null,
       "layout": "IPY_MODEL_d8b7d3f852be4323a7cb38d583268863",
       "style": "IPY_MODEL_2b0ed78f41644859a87787f1255e1b81"
      }
     },
     "52dcae81806547998911759447c74096": {
      "model_module": "@jupyter-widgets/controls",
      "model_module_version": "1.5.0",
      "model_name": "DescriptionStyleModel",
      "state": {
       "description_width": ""
      }
     },
     "52ed086a39d24a57919b206846df9aba": {
      "model_module": "@jupyter-widgets/base",
      "model_module_version": "1.2.0",
      "model_name": "LayoutModel",
      "state": {}
     },
     "530074057fcd4130a243bde3a073669b": {
      "model_module": "@jupyter-widgets/base",
      "model_module_version": "1.2.0",
      "model_name": "LayoutModel",
      "state": {}
     },
     "5301dbd8a23f4528acd9e2c505d69fa9": {
      "model_module": "pgljupyter",
      "model_module_version": "^0.1.21",
      "model_name": "IntEditorModel",
      "state": {
       "_model_module_version": "^0.1.21",
       "_view_module_version": "^0.1.21",
       "children": [
        "IPY_MODEL_c54af388f2644be9bbacd4f598e6ceaa",
        "IPY_MODEL_46dc8db3a2314364aef4e0c8d1978932"
       ],
       "layout": "IPY_MODEL_5da34500d955448089199df04319e205"
      }
     },
     "53095037c0fc41f0ad798cc1f327c12f": {
      "model_module": "@jupyter-widgets/controls",
      "model_module_version": "1.5.0",
      "model_name": "AccordionModel",
      "state": {
       "_titles": {
        "0": "materials",
        "1": "leaf",
        "2": "trunk & branches"
       },
       "children": [
        "IPY_MODEL_c361327190724646be840782bc716cef",
        "IPY_MODEL_9773821d863c41edbda8c72cf73d3bc6",
        "IPY_MODEL_8e7f32c1ba3149af89ee115dcce7233a"
       ],
       "layout": "IPY_MODEL_5f2ecb128cba4ce0ae2ed4b650b085bd"
      }
     },
     "5313a6c7af9a419392d903b7d51fe041": {
      "model_module": "@jupyter-widgets/controls",
      "model_module_version": "1.5.0",
      "model_name": "SliderStyleModel",
      "state": {
       "description_width": ""
      }
     },
     "532de40e1e6e4c23ab096d1f722eec8e": {
      "model_module": "@jupyter-widgets/controls",
      "model_module_version": "1.5.0",
      "model_name": "TextModel",
      "state": {
       "continuous_update": false,
       "description": "name",
       "layout": "IPY_MODEL_ae4d134d971f4987931606497b35a672",
       "style": "IPY_MODEL_f361c3d1f27243faaa2f2f23c17328ad",
       "value": "maxorder"
      }
     },
     "53592ff1413b4aadb82fbe457a467666": {
      "model_module": "@jupyter-widgets/controls",
      "model_module_version": "1.5.0",
      "model_name": "HBoxModel",
      "state": {
       "children": [
        "IPY_MODEL_b248996a41fc4f39b8f71cd98044d51f",
        "IPY_MODEL_badf1d6936f34af5a14df64809ef893c"
       ],
       "layout": "IPY_MODEL_4d77f69f74244057baec36b232f87f78"
      }
     },
     "536987696dc742f1b1bc51ca8d040a1d": {
      "model_module": "@jupyter-widgets/controls",
      "model_module_version": "1.5.0",
      "model_name": "FloatSliderModel",
      "state": {
       "description": "shininess",
       "layout": "IPY_MODEL_209c033af72d44e3a0b13ab8001e5335",
       "max": 1,
       "step": 0.1,
       "style": "IPY_MODEL_94dd3b9fa9fc40afbb444d490ee4bac3",
       "value": 0.2
      }
     },
     "537f1d906667422699e2fce4b5f31496": {
      "model_module": "@jupyter-widgets/controls",
      "model_module_version": "1.5.0",
      "model_name": "DescriptionStyleModel",
      "state": {
       "description_width": ""
      }
     },
     "539f9d1af9924f4db2438bbbeeb51b54": {
      "model_module": "@jupyter-widgets/base",
      "model_module_version": "1.2.0",
      "model_name": "LayoutModel",
      "state": {}
     },
     "53c5b2262f9846a5adfdd7d45ce21b69": {
      "model_module": "@jupyter-widgets/controls",
      "model_module_version": "1.5.0",
      "model_name": "SliderStyleModel",
      "state": {
       "description_width": ""
      }
     },
     "53d7302061eb4c8dab94848618029115": {
      "model_module": "@jupyter-widgets/controls",
      "model_module_version": "1.5.0",
      "model_name": "DescriptionStyleModel",
      "state": {
       "description_width": ""
      }
     },
     "53d9d8555112435ca7e994d55ff432d5": {
      "model_module": "@jupyter-widgets/controls",
      "model_module_version": "1.5.0",
      "model_name": "SliderStyleModel",
      "state": {
       "description_width": ""
      }
     },
     "53e9fb96eb5c4e49af7c1126d83fd454": {
      "model_module": "@jupyter-widgets/controls",
      "model_module_version": "1.5.0",
      "model_name": "DropdownModel",
      "state": {
       "_options_labels": [
        "leafduration",
        "leafold"
       ],
       "index": 0,
       "layout": "IPY_MODEL_0f3555076683451287b13688376b8b4e",
       "style": "IPY_MODEL_bb3613145b68440ba42bf478df5b13af"
      }
     },
     "53fb38767b68423da5f1235c3745ccaf": {
      "model_module": "@jupyter-widgets/base",
      "model_module_version": "1.2.0",
      "model_name": "LayoutModel",
      "state": {}
     },
     "5404c74b739a4b1f9611340837468322": {
      "model_module": "@jupyter-widgets/base",
      "model_module_version": "1.2.0",
      "model_name": "LayoutModel",
      "state": {}
     },
     "543008b05d50479590c3d4e3bc492779": {
      "model_module": "@jupyter-widgets/controls",
      "model_module_version": "1.5.0",
      "model_name": "IntSliderModel",
      "state": {
       "description": "value",
       "layout": "IPY_MODEL_cffb33bebb154befa460f5be28ee06de",
       "max": 5,
       "min": 1,
       "style": "IPY_MODEL_4ad56d578f64435bb7040e6288f8436f",
       "value": 4
      }
     },
     "5493e679c57d4a0689415a4a88aea275": {
      "model_module": "@jupyter-widgets/controls",
      "model_module_version": "1.5.0",
      "model_name": "SliderStyleModel",
      "state": {
       "description_width": ""
      }
     },
     "54afde6385054afa854c63b78d32c519": {
      "model_module": "@jupyter-widgets/controls",
      "model_module_version": "1.5.0",
      "model_name": "ButtonStyleModel",
      "state": {}
     },
     "54b4b06b01a146878a34d785819acd4e": {
      "model_module": "@jupyter-widgets/controls",
      "model_module_version": "1.5.0",
      "model_name": "DescriptionStyleModel",
      "state": {
       "description_width": ""
      }
     },
     "54d1e2ab11364b3286e48fbc06e2c9dc": {
      "model_module": "@jupyter-widgets/controls",
      "model_module_version": "1.5.0",
      "model_name": "SliderStyleModel",
      "state": {
       "description_width": ""
      }
     },
     "552cab5a34bb42878921b10d86c06c8d": {
      "model_module": "@jupyter-widgets/base",
      "model_module_version": "1.2.0",
      "model_name": "LayoutModel",
      "state": {}
     },
     "5532c2cdd5f24b1ebfeff4de061e7901": {
      "model_module": "@jupyter-widgets/base",
      "model_module_version": "1.2.0",
      "model_name": "LayoutModel",
      "state": {}
     },
     "553432c4114a47d4a9edc9bea81bf73d": {
      "model_module": "@jupyter-widgets/controls",
      "model_module_version": "1.5.0",
      "model_name": "ButtonModel",
      "state": {
       "description": "Apply changes",
       "layout": "IPY_MODEL_f3ecc66415384a3b93c8afe5ca93b8f6",
       "style": "IPY_MODEL_c7f7b7c639f04c7a812a812bc95f2f4a"
      }
     },
     "55370126029743f4b725a902460e704f": {
      "model_module": "@jupyter-widgets/base",
      "model_module_version": "1.2.0",
      "model_name": "LayoutModel",
      "state": {}
     },
     "554ebc2fe70b441697fdba4d2a6f87c0": {
      "model_module": "@jupyter-widgets/base",
      "model_module_version": "1.2.0",
      "model_name": "LayoutModel",
      "state": {}
     },
     "556f03c0e652466698acdf9d3ef53d64": {
      "model_module": "@jupyter-widgets/controls",
      "model_module_version": "1.5.0",
      "model_name": "IntSliderModel",
      "state": {
       "description": "value",
       "layout": "IPY_MODEL_7e6af95120bf4e8eab6ad088d08bf589",
       "max": 10,
       "min": 1,
       "style": "IPY_MODEL_53c5b2262f9846a5adfdd7d45ce21b69",
       "value": 5
      }
     },
     "557b13d22d9c4523aede128ecebc8ac7": {
      "model_module": "@jupyter-widgets/controls",
      "model_module_version": "1.5.0",
      "model_name": "ButtonStyleModel",
      "state": {}
     },
     "55f0f039861f4c7cb7fc94899c53e0f6": {
      "model_module": "@jupyter-widgets/controls",
      "model_module_version": "1.5.0",
      "model_name": "TextModel",
      "state": {
       "continuous_update": false,
       "description": "name",
       "layout": "IPY_MODEL_ff9430da97704faca4a5581d596a9844",
       "style": "IPY_MODEL_f2ce19fc1a01412bb35dc2f4381a068b",
       "value": "radinc"
      }
     },
     "55fd0718c41b435db5caa06ebb66c4d3": {
      "model_module": "@jupyter-widgets/controls",
      "model_module_version": "1.5.0",
      "model_name": "ColorPickerModel",
      "state": {
       "description": "emission",
       "disabled": false,
       "layout": "IPY_MODEL_858855a4ca644ef8a5a68f4bd31e1d6b",
       "style": "IPY_MODEL_86875997079c4f0caf76384b93b1c407",
       "value": "#000000"
      }
     },
     "5631cbab764947158f1da6a147458613": {
      "model_module": "@jupyter-widgets/controls",
      "model_module_version": "1.5.0",
      "model_name": "DescriptionStyleModel",
      "state": {
       "description_width": ""
      }
     },
     "5635bd2a1dbe4760b5638e8c865b2550": {
      "model_module": "@jupyter-widgets/base",
      "model_module_version": "1.2.0",
      "model_name": "LayoutModel",
      "state": {}
     },
     "5683515fa2d0458db36f542630cf452a": {
      "model_module": "@jupyter-widgets/base",
      "model_module_version": "1.2.0",
      "model_name": "LayoutModel",
      "state": {}
     },
     "56b19567ca7740f28a2059eaf32f3238": {
      "model_module": "pgljupyter",
      "model_module_version": "^0.1.17",
      "model_name": "LsystemWidgetModel",
      "state": {
       "_model_module_version": "^0.1.17",
       "_view_module_version": "^0.1.17",
       "axes_helper": false,
       "derivationLength": 42,
       "layout": "IPY_MODEL_62f06f01a47f4f6c8c42d71dcba612c6",
       "light_helper": false,
       "plane": true,
       "size_display": [
        400,
        400
       ],
       "size_world": 50
      }
     },
     "56ca9cfe6576423da575a7edfbeda8a1": {
      "model_module": "@jupyter-widgets/controls",
      "model_module_version": "1.5.0",
      "model_name": "VBoxModel",
      "state": {
       "children": [
        "IPY_MODEL_aa34cffd296144adbb84e44628679faa",
        "IPY_MODEL_59e73575073a4d21bccbb7110cf6091a"
       ],
       "layout": "IPY_MODEL_926c57076840440cba5b8c4fd41d9d43"
      }
     },
     "56d367a9d5614e55bed35e4d81b7eef8": {
      "model_module": "@jupyter-widgets/controls",
      "model_module_version": "1.5.0",
      "model_name": "BoundedIntTextModel",
      "state": {
       "description": "index",
       "layout": "IPY_MODEL_9543ce5168bb44ca89a3b02cbe5bca8f",
       "style": "IPY_MODEL_b12f527165d943288688f616f1f609c8",
       "value": 4
      }
     },
     "56e10c5df99d4496a1c8da99197f9358": {
      "model_module": "@jupyter-widgets/base",
      "model_module_version": "1.2.0",
      "model_name": "LayoutModel",
      "state": {}
     },
     "56fc22890f4a4ca080684ec9625a905f": {
      "model_module": "@jupyter-widgets/base",
      "model_module_version": "1.2.0",
      "model_name": "LayoutModel",
      "state": {}
     },
     "571f6b30eb9047efac0f6cc30752eb09": {
      "model_module": "@jupyter-widgets/controls",
      "model_module_version": "1.5.0",
      "model_name": "ColorPickerModel",
      "state": {
       "description": "emission",
       "disabled": false,
       "layout": "IPY_MODEL_706b28339ad7452ea4636ed8533aa145",
       "style": "IPY_MODEL_f780df8385f34042a1e45373f0ef9cbc",
       "value": "#000000"
      }
     },
     "5727c411e1d34981bcc0790c12d7bcf9": {
      "model_module": "@jupyter-widgets/base",
      "model_module_version": "1.2.0",
      "model_name": "LayoutModel",
      "state": {}
     },
     "5728fafc0bd4433f81791185f2f8a527": {
      "model_module": "@jupyter-widgets/controls",
      "model_module_version": "1.5.0",
      "model_name": "FloatSliderModel",
      "state": {
       "description": "shininess",
       "layout": "IPY_MODEL_55370126029743f4b725a902460e704f",
       "max": 1,
       "step": 0.1,
       "style": "IPY_MODEL_c0bb2a0d577641b58e46f24746ba8a03",
       "value": 0.2
      }
     },
     "572e0da3d2544045bfacaba0b1ccb706": {
      "model_module": "@jupyter-widgets/base",
      "model_module_version": "1.2.0",
      "model_name": "LayoutModel",
      "state": {}
     },
     "57495b8ed5ac4554811c23e6cec15699": {
      "model_module": "@jupyter-widgets/base",
      "model_module_version": "1.2.0",
      "model_name": "LayoutModel",
      "state": {}
     },
     "578fb4eed7ef4f93987a87d21a5b0d9f": {
      "model_module": "@jupyter-widgets/controls",
      "model_module_version": "1.5.0",
      "model_name": "HBoxModel",
      "state": {
       "children": [
        "IPY_MODEL_12aad91498d74df1bdd0076e69f17c4b",
        "IPY_MODEL_8df39cc78b7c43f7be9d191b5a4256de"
       ],
       "layout": "IPY_MODEL_b7c61d98c8974e3eab2560fcaf559828"
      }
     },
     "57a89ac8289041f2b6d724e4b866dc0a": {
      "model_module": "@jupyter-widgets/base",
      "model_module_version": "1.2.0",
      "model_name": "LayoutModel",
      "state": {}
     },
     "57ba92c34a3c4d26a6098635e1484968": {
      "model_module": "@jupyter-widgets/controls",
      "model_module_version": "1.5.0",
      "model_name": "DescriptionStyleModel",
      "state": {
       "description_width": ""
      }
     },
     "57dca5ae89cf4763919d1cd33c070eed": {
      "model_module": "@jupyter-widgets/base",
      "model_module_version": "1.2.0",
      "model_name": "LayoutModel",
      "state": {}
     },
     "57f9e7baa3ba4c54a8e29fd55fd21d1f": {
      "model_module": "@jupyter-widgets/controls",
      "model_module_version": "1.5.0",
      "model_name": "HBoxModel",
      "state": {
       "children": [
        "IPY_MODEL_4ca74ce323174e558e881e7f83c25b30",
        "IPY_MODEL_c079194f982146b3907f1743d3b21acd"
       ],
       "layout": "IPY_MODEL_b51a86b67c8543e0ac2c5effb4cc963d"
      }
     },
     "5810bb174d1946e8b3d0386797351339": {
      "model_module": "@jupyter-widgets/controls",
      "model_module_version": "1.5.0",
      "model_name": "DescriptionStyleModel",
      "state": {
       "description_width": ""
      }
     },
     "582aab0227c542c3b12dbbe1af118de6": {
      "model_module": "@jupyter-widgets/controls",
      "model_module_version": "1.5.0",
      "model_name": "SliderStyleModel",
      "state": {
       "description_width": ""
      }
     },
     "58569d21975b4ecb94c1b21ac30e0823": {
      "model_module": "@jupyter-widgets/controls",
      "model_module_version": "1.5.0",
      "model_name": "HBoxModel",
      "state": {
       "children": [
        "IPY_MODEL_ec8cfa6373cf4330ae76df7ac5a2dfab",
        "IPY_MODEL_039429b73bae419cac4d3913fcdbfdbc"
       ],
       "layout": "IPY_MODEL_a9b7a5bea64640859355bc1f3bd40aed"
      }
     },
     "585fc48c58fd48cb974017172fb63f8c": {
      "model_module": "@jupyter-widgets/controls",
      "model_module_version": "1.5.0",
      "model_name": "ButtonModel",
      "state": {
       "description": "Delete category",
       "layout": "IPY_MODEL_ed2e1c85dc804578834fe3b7f594baa4",
       "style": "IPY_MODEL_31e5447b555c40528ae38c2d4c949f9f"
      }
     },
     "586fe9088889439284707fb54ba3ec23": {
      "model_module": "@jupyter-widgets/controls",
      "model_module_version": "1.5.0",
      "model_name": "ButtonModel",
      "state": {
       "description": "Delete",
       "layout": "IPY_MODEL_a5a3a25a887b433b95152afe55d8192d",
       "style": "IPY_MODEL_26b81cebc41f40ae83461cad70dcfba8"
      }
     },
     "5872ea4882c74993af9862d9a8bfcb9f": {
      "model_module": "@jupyter-widgets/controls",
      "model_module_version": "1.5.0",
      "model_name": "HBoxModel",
      "state": {
       "children": [
        "IPY_MODEL_153641213cab4e3888f2df8ffe4df5e6"
       ],
       "layout": "IPY_MODEL_0edf0711fcd443488bc2bd1811f52c38"
      }
     },
     "58b01411a162470783fbaaa91028104c": {
      "model_module": "@jupyter-widgets/controls",
      "model_module_version": "1.5.0",
      "model_name": "HBoxModel",
      "state": {
       "children": [
        "IPY_MODEL_1e5af16da1b3427d83bc2e4cf9a49852",
        "IPY_MODEL_529e918b5e134ca5a4af51bf8651b987"
       ],
       "layout": "IPY_MODEL_233d83e71b4344838e3144dcacea3eeb"
      }
     },
     "58b736cae95a4a3f97d710efaa4148bb": {
      "model_module": "@jupyter-widgets/controls",
      "model_module_version": "1.5.0",
      "model_name": "DescriptionStyleModel",
      "state": {
       "description_width": ""
      }
     },
     "5917a07df85e4f07849b2dc44475a30a": {
      "model_module": "@jupyter-widgets/controls",
      "model_module_version": "1.5.0",
      "model_name": "ButtonModel",
      "state": {
       "description": "Delete category",
       "layout": "IPY_MODEL_20e92cd381cd4543b11477c4b28a2822",
       "style": "IPY_MODEL_2718d36a76b14abe8337699015ee06ad"
      }
     },
     "591eb893dd5047febc3e0e1715c027d8": {
      "model_module": "@jupyter-widgets/base",
      "model_module_version": "1.2.0",
      "model_name": "LayoutModel",
      "state": {}
     },
     "5928a2bcfbe548e18f97420df1c311fd": {
      "model_module": "@jupyter-widgets/base",
      "model_module_version": "1.2.0",
      "model_name": "LayoutModel",
      "state": {}
     },
     "594bc8d80195422f85abbd36476b4550": {
      "model_module": "@jupyter-widgets/controls",
      "model_module_version": "1.5.0",
      "model_name": "DescriptionStyleModel",
      "state": {
       "description_width": ""
      }
     },
     "5952c0e964b14034832f8d689c94cd56": {
      "model_module": "@jupyter-widgets/controls",
      "model_module_version": "1.5.0",
      "model_name": "DescriptionStyleModel",
      "state": {
       "description_width": ""
      }
     },
     "5952ccf95fff4114ac955e73f1021bc8": {
      "model_module": "@jupyter-widgets/base",
      "model_module_version": "1.2.0",
      "model_name": "LayoutModel",
      "state": {}
     },
     "59b6d90878cc4434b2cd7ffe61e22f6b": {
      "model_module": "@jupyter-widgets/base",
      "model_module_version": "1.2.0",
      "model_name": "LayoutModel",
      "state": {}
     },
     "59b8490222d449ec873f6dd426630d90": {
      "model_module": "@jupyter-widgets/base",
      "model_module_version": "1.2.0",
      "model_name": "LayoutModel",
      "state": {}
     },
     "59c4f363387c4603894fb415c0d36967": {
      "model_module": "@jupyter-widgets/base",
      "model_module_version": "1.2.0",
      "model_name": "LayoutModel",
      "state": {}
     },
     "59df3630aa8946ea91c52b602ac78c54": {
      "model_module": "@jupyter-widgets/controls",
      "model_module_version": "1.5.0",
      "model_name": "DescriptionStyleModel",
      "state": {
       "description_width": ""
      }
     },
     "59e6e480e2f044e3973bd8d2328b0a68": {
      "model_module": "@jupyter-widgets/base",
      "model_module_version": "1.2.0",
      "model_name": "LayoutModel",
      "state": {}
     },
     "59e73575073a4d21bccbb7110cf6091a": {
      "model_module": "@jupyter-widgets/controls",
      "model_module_version": "1.5.0",
      "model_name": "TabModel",
      "state": {
       "_titles": {
        "0": "leuwenberg.json"
       },
       "children": [
        "IPY_MODEL_0300001a45404b209a36c5be9117a9b4"
       ],
       "layout": "IPY_MODEL_5f1c7016d47f4e318a32653fe7356e2b"
      }
     },
     "59f8c5abaa8146ce8df8fc46c0f10acb": {
      "model_module": "@jupyter-widgets/controls",
      "model_module_version": "1.5.0",
      "model_name": "FloatSliderModel",
      "state": {
       "description": "transparency",
       "layout": "IPY_MODEL_abee62d144eb46f6a0854e2c779344fc",
       "max": 1,
       "step": 0.1,
       "style": "IPY_MODEL_61c5a99dc07f47fdb21721b1b101776a"
      }
     },
     "5a27138e81a3410884a9215f1d6fa8d6": {
      "model_module": "@jupyter-widgets/controls",
      "model_module_version": "1.5.0",
      "model_name": "DescriptionStyleModel",
      "state": {
       "description_width": ""
      }
     },
     "5a36ed8d8d52493a85069ee7e9740581": {
      "model_module": "@jupyter-widgets/base",
      "model_module_version": "1.2.0",
      "model_name": "LayoutModel",
      "state": {}
     },
     "5a437245895546a8b255d8ddb00b3da0": {
      "model_module": "@jupyter-widgets/controls",
      "model_module_version": "1.5.0",
      "model_name": "DropdownModel",
      "state": {
       "_options_labels": [
        "Integer",
        "Float",
        "Bool"
       ],
       "index": 0,
       "layout": "IPY_MODEL_71477cc008b246dda88280fd345c2937",
       "style": "IPY_MODEL_3d3a7aadae0f44908db525c928187d5f"
      }
     },
     "5a6aab1bb709492da4f69389f9069c24": {
      "model_module": "@jupyter-widgets/base",
      "model_module_version": "1.2.0",
      "model_name": "LayoutModel",
      "state": {
       "flex_flow": "row wrap",
       "margin": "20px"
      }
     },
     "5a7768daa7114d36b770ea435fe36cec": {
      "model_module": "@jupyter-widgets/base",
      "model_module_version": "1.2.0",
      "model_name": "LayoutModel",
      "state": {
       "flex_flow": "row wrap",
       "margin": "20px"
      }
     },
     "5a9efa5a617d42df8d7bb8d365c3e0a8": {
      "model_module": "@jupyter-widgets/base",
      "model_module_version": "1.2.0",
      "model_name": "LayoutModel",
      "state": {
       "margin": "20px 0px"
      }
     },
     "5adffba729714082b4c0b93187c64244": {
      "model_module": "@jupyter-widgets/controls",
      "model_module_version": "1.5.0",
      "model_name": "HBoxModel",
      "state": {
       "children": [
        "IPY_MODEL_a74641fad73f460aaf67830e96175f14",
        "IPY_MODEL_af04d4dbb9ee467196d914b3d6ff7677"
       ],
       "layout": "IPY_MODEL_39084374a571435e824d7618f816aad4"
      }
     },
     "5b06ffa55f8c4305b3bf43c5d33fe5f6": {
      "model_module": "@jupyter-widgets/controls",
      "model_module_version": "1.5.0",
      "model_name": "DescriptionStyleModel",
      "state": {
       "description_width": ""
      }
     },
     "5b1b435a21944230a9b5808558c607c5": {
      "model_module": "@jupyter-widgets/controls",
      "model_module_version": "1.5.0",
      "model_name": "IntSliderModel",
      "state": {
       "continuous_update": false,
       "description": "value",
       "layout": "IPY_MODEL_572e0da3d2544045bfacaba0b1ccb706",
       "max": 10,
       "min": 1,
       "style": "IPY_MODEL_cf57978a60ad48b18979556c092b9202",
       "value": 2
      }
     },
     "5b44b2e1d2044e9f82167f906dbaa2f5": {
      "model_module": "@jupyter-widgets/base",
      "model_module_version": "1.2.0",
      "model_name": "LayoutModel",
      "state": {}
     },
     "5b47c57ba4054f2cb4b24da0e4c82165": {
      "model_module": "@jupyter-widgets/controls",
      "model_module_version": "1.5.0",
      "model_name": "ButtonModel",
      "state": {
       "description": "Add category",
       "layout": "IPY_MODEL_d0c39abacd814f009bd439fddb3ae05c",
       "style": "IPY_MODEL_8baf0acb70dc45388e9cbd0d7281af9a"
      }
     },
     "5b5cffc519364c9fbd2a8e2332a75c62": {
      "model_module": "@jupyter-widgets/base",
      "model_module_version": "1.2.0",
      "model_name": "LayoutModel",
      "state": {}
     },
     "5b833389726149e891e43233e262af30": {
      "model_module": "@jupyter-widgets/base",
      "model_module_version": "1.2.0",
      "model_name": "LayoutModel",
      "state": {}
     },
     "5b940c3879e64cf98347973d19dcff84": {
      "model_module": "@jupyter-widgets/base",
      "model_module_version": "1.2.0",
      "model_name": "LayoutModel",
      "state": {}
     },
     "5bcfd5e078c1498f87372ade701de97b": {
      "model_module": "@jupyter-widgets/controls",
      "model_module_version": "1.5.0",
      "model_name": "ColorPickerModel",
      "state": {
       "description": "emission",
       "disabled": false,
       "layout": "IPY_MODEL_e6443316e4e84f1e846bdb3a768365cf",
       "style": "IPY_MODEL_95a95cfc47e54d0ab882efb98310c995",
       "value": "#000000"
      }
     },
     "5bfb433518c246f4a7cd7249ff19b64e": {
      "model_module": "@jupyter-widgets/controls",
      "model_module_version": "1.5.0",
      "model_name": "IntSliderModel",
      "state": {
       "description": "value",
       "layout": "IPY_MODEL_f8e8217ad4ff42db874a2be04d88d09c",
       "max": 7,
       "min": 1,
       "style": "IPY_MODEL_13acdf1ccc5a4999af0676c08d452094",
       "value": 3
      }
     },
     "5c020f6de4b0494db643bad3b0644d25": {
      "model_module": "@jupyter-widgets/controls",
      "model_module_version": "1.5.0",
      "model_name": "SliderStyleModel",
      "state": {
       "description_width": ""
      }
     },
     "5c0d7f4b7f914f719c8266137f7d0017": {
      "model_module": "@jupyter-widgets/controls",
      "model_module_version": "1.5.0",
      "model_name": "DropdownModel",
      "state": {
       "_options_labels": [
        "Integer",
        "Float",
        "Bool"
       ],
       "index": 0,
       "layout": "IPY_MODEL_0728179a541f413fa5aae643b0fd424c",
       "style": "IPY_MODEL_8249d03607ce403b941353f80011ee8b"
      }
     },
     "5c2170886bb84b0fb0345314e6a3925d": {
      "model_module": "@jupyter-widgets/base",
      "model_module_version": "1.2.0",
      "model_name": "LayoutModel",
      "state": {}
     },
     "5c2e84642c5d485189990628bfa497c8": {
      "model_module": "@jupyter-widgets/base",
      "model_module_version": "1.2.0",
      "model_name": "LayoutModel",
      "state": {}
     },
     "5c45b8f207094c259218686f4e90aff4": {
      "model_module": "@jupyter-widgets/controls",
      "model_module_version": "1.5.0",
      "model_name": "DescriptionStyleModel",
      "state": {
       "description_width": ""
      }
     },
     "5c5ed1c8b6824f9b8f4256546f9f98d3": {
      "model_module": "@jupyter-widgets/base",
      "model_module_version": "1.2.0",
      "model_name": "LayoutModel",
      "state": {}
     },
     "5c675aab59fb4845aac7b8dac885e566": {
      "model_module": "@jupyter-widgets/base",
      "model_module_version": "1.2.0",
      "model_name": "LayoutModel",
      "state": {}
     },
     "5c6ace0f578c42b9979bc855a04653e3": {
      "model_module": "@jupyter-widgets/base",
      "model_module_version": "1.2.0",
      "model_name": "LayoutModel",
      "state": {}
     },
     "5c7ea0ef330d498b91b01ff20701afc6": {
      "model_module": "@jupyter-widgets/controls",
      "model_module_version": "1.5.0",
      "model_name": "AccordionModel",
      "state": {
       "_titles": {
        "0": "materials",
        "1": "leaf"
       },
       "children": [
        "IPY_MODEL_35de142236d6430682387800cc229756",
        "IPY_MODEL_f6877ba37bef4c718f9ad54a1dee9c7e"
       ],
       "layout": "IPY_MODEL_48a9dc8b95d14018a1273a4583c91c32"
      }
     },
     "5c8b02bacbff4f469a89e2d1ea4bf18e": {
      "model_module": "@jupyter-widgets/controls",
      "model_module_version": "1.5.0",
      "model_name": "SliderStyleModel",
      "state": {
       "description_width": ""
      }
     },
     "5c8ee91aecec463e82900f71a4a9e81d": {
      "model_module": "@jupyter-widgets/controls",
      "model_module_version": "1.5.0",
      "model_name": "DescriptionStyleModel",
      "state": {
       "description_width": ""
      }
     },
     "5ca98085c6bf49aca459dd565f93cd38": {
      "model_module": "@jupyter-widgets/controls",
      "model_module_version": "1.5.0",
      "model_name": "CheckboxModel",
      "state": {
       "description": "Auto apply",
       "disabled": false,
       "layout": "IPY_MODEL_8299462a02d34ce7a919b316de08ed30",
       "style": "IPY_MODEL_28941cfcc3894fe3a6bb53b671b1fbf1",
       "value": false
      }
     },
     "5cb0a8f02ad04b5f9796ec72a576b675": {
      "model_module": "@jupyter-widgets/controls",
      "model_module_version": "1.5.0",
      "model_name": "DescriptionStyleModel",
      "state": {
       "description_width": ""
      }
     },
     "5ccfe2f5d1bc472faf8aa7f50bf0ab1d": {
      "model_module": "pgljupyter",
      "model_module_version": "^0.1.17",
      "model_name": "MaterialEditorModel",
      "state": {
       "_model_module_version": "^0.1.17",
       "_view_module_version": "^0.1.17",
       "children": [
        "IPY_MODEL_fe39b8c3b9064292a4c361b7263a6c84",
        "IPY_MODEL_9d4b9a9b3979406d872e9b0718717eb7",
        "IPY_MODEL_38af2c3340fa4dccbe1fe87f084d021e",
        "IPY_MODEL_077c655a00ab41bb91239523d5e0bf21",
        "IPY_MODEL_9a9dd7b9393e473ab51a5616b57ee709",
        "IPY_MODEL_5e1cd39cfa88428c865ac3fe8ce37706",
        "IPY_MODEL_7b56ea7a659047479a11f64be222d2ea"
       ],
       "layout": "IPY_MODEL_5a9efa5a617d42df8d7bb8d365c3e0a8"
      }
     },
     "5cd5315f340348038cd38a661f3e0383": {
      "model_module": "@jupyter-widgets/base",
      "model_module_version": "1.2.0",
      "model_name": "LayoutModel",
      "state": {}
     },
     "5cdf0a890d1f47459e533b95f5fa6d12": {
      "model_module": "@jupyter-widgets/controls",
      "model_module_version": "1.5.0",
      "model_name": "CheckboxModel",
      "state": {
       "description": "Auto save",
       "disabled": false,
       "layout": "IPY_MODEL_473617a3b3a74ffb93086ff4b9f2d61a",
       "style": "IPY_MODEL_31f8f240a62d42c994ef77ad3eff9028",
       "value": false
      }
     },
     "5d1acbde1263434ca0516af8b1e818ec": {
      "model_module": "@jupyter-widgets/controls",
      "model_module_version": "1.5.0",
      "model_name": "FloatSliderModel",
      "state": {
       "description": "transparency",
       "layout": "IPY_MODEL_9e9532d3f9264d848c9671d25e59429b",
       "max": 1,
       "step": 0.1,
       "style": "IPY_MODEL_09ab73e88d6a48cf971284095d2d93ee"
      }
     },
     "5d416a34f993487a93cb14b0054ea4ea": {
      "model_module": "@jupyter-widgets/base",
      "model_module_version": "1.2.0",
      "model_name": "LayoutModel",
      "state": {}
     },
     "5d56f12735114a72b59aee0792d5ab99": {
      "model_module": "@jupyter-widgets/controls",
      "model_module_version": "1.5.0",
      "model_name": "SliderStyleModel",
      "state": {
       "description_width": ""
      }
     },
     "5d592cc939754fea80d73face4c60e8f": {
      "model_module": "@jupyter-widgets/base",
      "model_module_version": "1.2.0",
      "model_name": "LayoutModel",
      "state": {}
     },
     "5d6050d7def2462992a2c0be1241bbe2": {
      "model_module": "@jupyter-widgets/controls",
      "model_module_version": "1.5.0",
      "model_name": "HBoxModel",
      "state": {
       "children": [
        "IPY_MODEL_9c1c587b0f2d4e4ab57cdc4be496188a",
        "IPY_MODEL_18f33fdb355044e1b8ef1b21e2934a1e"
       ],
       "layout": "IPY_MODEL_fc7a4aec149a4cf08600950691200520"
      }
     },
     "5d665054e5a24fcc86e9f3d114ca7382": {
      "model_module": "@jupyter-widgets/controls",
      "model_module_version": "1.5.0",
      "model_name": "FloatSliderModel",
      "state": {
       "description": "diffuse",
       "layout": "IPY_MODEL_7a99d133c96c4e7bac722c58641e6bc6",
       "max": 3,
       "step": 0.1,
       "style": "IPY_MODEL_a301eb5668924f298fa462fb2ee4e2dc",
       "value": 1
      }
     },
     "5d6b91526f5c4f069888276c86e31117": {
      "model_module": "@jupyter-widgets/base",
      "model_module_version": "1.2.0",
      "model_name": "LayoutModel",
      "state": {}
     },
     "5d6e79af49c540d687173491bdf52613": {
      "model_module": "@jupyter-widgets/controls",
      "model_module_version": "1.5.0",
      "model_name": "HBoxModel",
      "state": {
       "children": [
        "IPY_MODEL_4372a40b5e864ae785c713790258dbe4",
        "IPY_MODEL_662a8bc5b57b429b8272a6397296a547"
       ],
       "layout": "IPY_MODEL_ccd2ea5a8e31427bb33242becf4077fa"
      }
     },
     "5da34500d955448089199df04319e205": {
      "model_module": "@jupyter-widgets/base",
      "model_module_version": "1.2.0",
      "model_name": "LayoutModel",
      "state": {
       "margin": "20px 0px"
      }
     },
     "5da6a4695aee4e9ab96fad51b59727c6": {
      "model_module": "@jupyter-widgets/base",
      "model_module_version": "1.2.0",
      "model_name": "LayoutModel",
      "state": {}
     },
     "5dec0cf2269d486da8492dee4e84b3f8": {
      "model_module": "@jupyter-widgets/controls",
      "model_module_version": "1.5.0",
      "model_name": "ButtonStyleModel",
      "state": {}
     },
     "5e1cd39cfa88428c865ac3fe8ce37706": {
      "model_module": "@jupyter-widgets/controls",
      "model_module_version": "1.5.0",
      "model_name": "FloatSliderModel",
      "state": {
       "description": "transparency",
       "layout": "IPY_MODEL_d436543783c8447f81f559995965920f",
       "max": 1,
       "step": 0.1,
       "style": "IPY_MODEL_e6ea0f1df0864495a18ce55e8ee48a88"
      }
     },
     "5e62aae65cb548bcbf53bb19b6810b3b": {
      "model_module": "@jupyter-widgets/base",
      "model_module_version": "1.2.0",
      "model_name": "LayoutModel",
      "state": {}
     },
     "5e82b30d25f94292a4d76ae8c23684da": {
      "model_module": "@jupyter-widgets/controls",
      "model_module_version": "1.5.0",
      "model_name": "DescriptionStyleModel",
      "state": {
       "description_width": ""
      }
     },
     "5e9c1818473b44dab49b3d26bf241c9d": {
      "model_module": "@jupyter-widgets/controls",
      "model_module_version": "1.5.0",
      "model_name": "DescriptionStyleModel",
      "state": {
       "description_width": ""
      }
     },
     "5eac464e5de54b27a961eb229e40565b": {
      "model_module": "@jupyter-widgets/controls",
      "model_module_version": "1.5.0",
      "model_name": "CheckboxModel",
      "state": {
       "description": "Auto save",
       "disabled": false,
       "layout": "IPY_MODEL_8c00dd94f504489eb79f75cdf4d9b736",
       "style": "IPY_MODEL_c54dbf897e88456f9d68e9e0b6f32806",
       "value": false
      }
     },
     "5eb1286657904a1f934287d83f9626b3": {
      "model_module": "pgljupyter",
      "model_module_version": "^0.2.1",
      "model_name": "LsystemWidgetModel",
      "state": {
       "_model_module_version": "^0.2.1",
       "_view_module_version": "^0.2.1",
       "axes_helper": false,
       "derivationLength": 42,
       "layout": "IPY_MODEL_a75434c3fb8d4eec8cc250448d6fe60e",
       "light_helper": false,
       "plane": true,
       "size_display": [
        600,
        400
       ],
       "size_world": 50,
       "unit": 0
      }
     },
     "5eb52801b444455c89501750f354aefb": {
      "model_module": "@jupyter-widgets/controls",
      "model_module_version": "1.5.0",
      "model_name": "SliderStyleModel",
      "state": {
       "description_width": ""
      }
     },
     "5ef60586f6624e7a921466efb2d8a645": {
      "model_module": "@jupyter-widgets/controls",
      "model_module_version": "1.5.0",
      "model_name": "DescriptionStyleModel",
      "state": {
       "description_width": ""
      }
     },
     "5eff584d0b2b41aeb1390c34883b3952": {
      "model_module": "@jupyter-widgets/controls",
      "model_module_version": "1.5.0",
      "model_name": "HBoxModel",
      "state": {
       "children": [
        "IPY_MODEL_baaa42ae12f948eab87555a7fbda06c9",
        "IPY_MODEL_8c34ccd1ce0c4bdea50769e26de587f7"
       ],
       "layout": "IPY_MODEL_5a6aab1bb709492da4f69389f9069c24"
      }
     },
     "5f0d4143620941798573a504d9e748b1": {
      "model_module": "@jupyter-widgets/base",
      "model_module_version": "1.2.0",
      "model_name": "LayoutModel",
      "state": {}
     },
     "5f1c7016d47f4e318a32653fe7356e2b": {
      "model_module": "@jupyter-widgets/base",
      "model_module_version": "1.2.0",
      "model_name": "LayoutModel",
      "state": {}
     },
     "5f2b9448d4664b19bc2be431e51cf147": {
      "model_module": "@jupyter-widgets/controls",
      "model_module_version": "1.5.0",
      "model_name": "HBoxModel",
      "state": {
       "children": [
        "IPY_MODEL_03ab5d400c7b448cbd80354c73a71b69",
        "IPY_MODEL_a1b5b03ee7734374841f6ac59804c61a"
       ],
       "layout": "IPY_MODEL_5c5ed1c8b6824f9b8f4256546f9f98d3"
      }
     },
     "5f2ecb128cba4ce0ae2ed4b650b085bd": {
      "model_module": "@jupyter-widgets/base",
      "model_module_version": "1.2.0",
      "model_name": "LayoutModel",
      "state": {}
     },
     "5f35732199e94b7981ff948790caec12": {
      "model_module": "@jupyter-widgets/controls",
      "model_module_version": "1.5.0",
      "model_name": "DescriptionStyleModel",
      "state": {
       "description_width": ""
      }
     },
     "5f40ab866c114047b0d20c588be213e6": {
      "model_module": "@jupyter-widgets/base",
      "model_module_version": "1.2.0",
      "model_name": "LayoutModel",
      "state": {}
     },
     "5f766dc4cb8647509fa135a5358aaab0": {
      "model_module": "@jupyter-widgets/base",
      "model_module_version": "1.2.0",
      "model_name": "LayoutModel",
      "state": {}
     },
     "5f98c0fc4bc74bb18355255bc02aa93c": {
      "model_module": "@jupyter-widgets/controls",
      "model_module_version": "1.5.0",
      "model_name": "HBoxModel",
      "state": {
       "children": [
        "IPY_MODEL_b24854e612f64308b2856ad9bbda0e0c",
        "IPY_MODEL_602b9967919e4d9095cb2458ac6260f2"
       ],
       "layout": "IPY_MODEL_5ffcfabea4324e77ba7847c89942d8f5"
      }
     },
     "5f9f275715734a318f7526209e87fd1d": {
      "model_module": "@jupyter-widgets/controls",
      "model_module_version": "1.5.0",
      "model_name": "FloatSliderModel",
      "state": {
       "description": "diffuse",
       "layout": "IPY_MODEL_481cf82ea8244cf4b9b9b31187903bc6",
       "max": 3,
       "step": 0.1,
       "style": "IPY_MODEL_dc1fc436f2d640ee97620d714ae2e02e",
       "value": 1
      }
     },
     "5fd9a8d12c4d45588031973ef01650c0": {
      "model_module": "@jupyter-widgets/controls",
      "model_module_version": "1.5.0",
      "model_name": "ColorPickerModel",
      "state": {
       "description": "ambient",
       "disabled": false,
       "layout": "IPY_MODEL_09fe84e4c04243fdb4d5769ae0bf8f00",
       "style": "IPY_MODEL_c1f8e654bd764ed1b77cc56f2508694d",
       "value": "#5b4534"
      }
     },
     "5fe590f048484a3ba28067befd41b28a": {
      "model_module": "@jupyter-widgets/controls",
      "model_module_version": "1.5.0",
      "model_name": "TextModel",
      "state": {
       "continuous_update": false,
       "description": "name",
       "layout": "IPY_MODEL_406538f49d474b288e16fda7dd512c69",
       "style": "IPY_MODEL_40ccbdcf094944daacad40f2478bd3f3",
       "value": "color_2"
      }
     },
     "5fecbf4165e74b528112846ca520f4fb": {
      "model_module": "@jupyter-widgets/controls",
      "model_module_version": "1.5.0",
      "model_name": "DescriptionStyleModel",
      "state": {
       "description_width": ""
      }
     },
     "5ff34a5ba40947528a3fd4746d51a7c9": {
      "model_module": "@jupyter-widgets/controls",
      "model_module_version": "1.5.0",
      "model_name": "DescriptionStyleModel",
      "state": {
       "description_width": ""
      }
     },
     "5ffcfabea4324e77ba7847c89942d8f5": {
      "model_module": "@jupyter-widgets/base",
      "model_module_version": "1.2.0",
      "model_name": "LayoutModel",
      "state": {
       "flex_flow": "row wrap",
       "margin": "20px"
      }
     },
     "602b9967919e4d9095cb2458ac6260f2": {
      "model_module": "pgljupyter",
      "model_module_version": "^0.1.21",
      "model_name": "IntEditorModel",
      "state": {
       "_model_module_version": "^0.1.21",
       "_view_module_version": "^0.1.21",
       "children": [
        "IPY_MODEL_1c3ad41458c64c129919cde932065b83",
        "IPY_MODEL_2719d1e459504afd8a880d0568a15e88"
       ],
       "layout": "IPY_MODEL_e11fae69c776418190ad9c7973e97a8d"
      }
     },
     "604d1a618d0d48e8ba8e49ac54668dfb": {
      "model_module": "@jupyter-widgets/controls",
      "model_module_version": "1.5.0",
      "model_name": "DescriptionStyleModel",
      "state": {
       "description_width": ""
      }
     },
     "605b3dff17be4529b97af57e3cdd4848": {
      "model_module": "@jupyter-widgets/controls",
      "model_module_version": "1.5.0",
      "model_name": "ColorPickerModel",
      "state": {
       "description": "ambient",
       "disabled": false,
       "layout": "IPY_MODEL_62a2b76231e9443483317376953ca3cc",
       "style": "IPY_MODEL_85f2f816a3ad4019b0f5b00681e76aad",
       "value": "#5b4534"
      }
     },
     "60649db2aa41400c8d032bf13c68e453": {
      "model_module": "@jupyter-widgets/base",
      "model_module_version": "1.2.0",
      "model_name": "LayoutModel",
      "state": {}
     },
     "60ac7f4f415242edae5ed4861310d5d1": {
      "model_module": "@jupyter-widgets/controls",
      "model_module_version": "1.5.0",
      "model_name": "SliderStyleModel",
      "state": {
       "description_width": ""
      }
     },
     "60b6d845ad24428db8160a19a54d242d": {
      "model_module": "@jupyter-widgets/controls",
      "model_module_version": "1.5.0",
      "model_name": "FloatSliderModel",
      "state": {
       "description": "diffuse",
       "layout": "IPY_MODEL_af62057272d64d6c8173cc755a1345c8",
       "max": 3,
       "step": 0.1,
       "style": "IPY_MODEL_4623abe30f8746eb94835fdc33c089af",
       "value": 1
      }
     },
     "60b848e0a9d44febb7a1d3a68a4ed857": {
      "model_module": "@jupyter-widgets/controls",
      "model_module_version": "1.5.0",
      "model_name": "ColorPickerModel",
      "state": {
       "description": "ambient",
       "disabled": false,
       "layout": "IPY_MODEL_466cc074ebc9465d93833472fef33beb",
       "style": "IPY_MODEL_9995b849589e4f8a87cd74cb1555ef93",
       "value": "#5b4534"
      }
     },
     "60f7d6ccd61f493dadbfcf94d366711a": {
      "model_module": "@jupyter-widgets/base",
      "model_module_version": "1.2.0",
      "model_name": "LayoutModel",
      "state": {}
     },
     "60ff2d33083e41a7a9c77037399cc0c7": {
      "model_module": "@jupyter-widgets/controls",
      "model_module_version": "1.5.0",
      "model_name": "DescriptionStyleModel",
      "state": {
       "description_width": ""
      }
     },
     "6122fb292c0c44039d410f9afbe16534": {
      "model_module": "@jupyter-widgets/base",
      "model_module_version": "1.2.0",
      "model_name": "LayoutModel",
      "state": {}
     },
     "613b92ffca5244b6a9fe92b6eac0bfb3": {
      "model_module": "@jupyter-widgets/controls",
      "model_module_version": "1.5.0",
      "model_name": "ColorPickerModel",
      "state": {
       "description": "ambient",
       "disabled": false,
       "layout": "IPY_MODEL_fd50b55e03484806aa3cae2a2541a1d3",
       "style": "IPY_MODEL_fe77130544c74fea9c083f6b668bcfaf",
       "value": "#e1a014"
      }
     },
     "614b17aa8cbd4c59bdc4c77fdfbbc42b": {
      "model_module": "@jupyter-widgets/base",
      "model_module_version": "1.2.0",
      "model_name": "LayoutModel",
      "state": {}
     },
     "61604db4d90b46a3a0031ae5119c1516": {
      "model_module": "@jupyter-widgets/controls",
      "model_module_version": "1.5.0",
      "model_name": "DescriptionStyleModel",
      "state": {
       "description_width": ""
      }
     },
     "619d054879f142ab8a22cb911c74fa09": {
      "model_module": "@jupyter-widgets/base",
      "model_module_version": "1.2.0",
      "model_name": "LayoutModel",
      "state": {}
     },
     "61aa44c1636a4cd09ae7ed5cc9c03f6e": {
      "model_module": "@jupyter-widgets/base",
      "model_module_version": "1.2.0",
      "model_name": "LayoutModel",
      "state": {}
     },
     "61c5a99dc07f47fdb21721b1b101776a": {
      "model_module": "@jupyter-widgets/controls",
      "model_module_version": "1.5.0",
      "model_name": "SliderStyleModel",
      "state": {
       "description_width": ""
      }
     },
     "62011f6d9ab4417da126fa460c091385": {
      "model_module": "@jupyter-widgets/base",
      "model_module_version": "1.2.0",
      "model_name": "LayoutModel",
      "state": {}
     },
     "6213afc08dc747abb3101b3b00eff81e": {
      "model_module": "@jupyter-widgets/base",
      "model_module_version": "1.2.0",
      "model_name": "LayoutModel",
      "state": {
       "margin": "20px 0px"
      }
     },
     "621e07a0b5ec49b6b5a0a7168a74a2d5": {
      "model_module": "@jupyter-widgets/controls",
      "model_module_version": "1.5.0",
      "model_name": "HBoxModel",
      "state": {
       "children": [
        "IPY_MODEL_d08d83f130d445aa9c9e3e4d3eb779f5",
        "IPY_MODEL_30fc1196fdfd42ed9a9f045bd8dae1e5"
       ],
       "layout": "IPY_MODEL_4c44f5e9ec414505a6576ceb754bc067"
      }
     },
     "62252cd6e6f64fb7aa4f68ce3e71f4b1": {
      "model_module": "pgljupyter",
      "model_module_version": "^0.1.17",
      "model_name": "MaterialEditorModel",
      "state": {
       "_model_module_version": "^0.1.17",
       "_view_module_version": "^0.1.17",
       "children": [
        "IPY_MODEL_51deaef56dce430dae6fc3f320f5ae3e",
        "IPY_MODEL_ed878756b8fb401389ecaf5b518387e3",
        "IPY_MODEL_a05c2a0fc34b4dfe85701e30e5a55732",
        "IPY_MODEL_13b719143ac7434582f81b16c18d6b4e",
        "IPY_MODEL_41374977018a4cc590e2913add7f287a",
        "IPY_MODEL_a2eafcfa36b44a6ba3e34657e64cec7a",
        "IPY_MODEL_bf0625eebb3744fc8cc55567e985236f"
       ],
       "layout": "IPY_MODEL_fd273ce6761742148ac89669bc64d98d"
      }
     },
     "62490f1dbb784fd99ea1745ade98c707": {
      "model_module": "@jupyter-widgets/base",
      "model_module_version": "1.2.0",
      "model_name": "LayoutModel",
      "state": {}
     },
     "625a97aef55748c189e2a6b3c1b5e67d": {
      "model_module": "@jupyter-widgets/base",
      "model_module_version": "1.2.0",
      "model_name": "LayoutModel",
      "state": {}
     },
     "62654c9673d340d8900c5a80c17c2a95": {
      "model_module": "@jupyter-widgets/controls",
      "model_module_version": "1.5.0",
      "model_name": "TextModel",
      "state": {
       "continuous_update": false,
       "description": "name",
       "layout": "IPY_MODEL_878758e0a9094b4bac55d6b303131041",
       "style": "IPY_MODEL_5ff34a5ba40947528a3fd4746d51a7c9",
       "value": "radinc"
      }
     },
     "6275cdb1a22040fd844c2deb6ab44a03": {
      "model_module": "@jupyter-widgets/controls",
      "model_module_version": "1.5.0",
      "model_name": "DescriptionStyleModel",
      "state": {
       "description_width": ""
      }
     },
     "62867ab47038465d8944dcad2437cbc9": {
      "model_module": "@jupyter-widgets/base",
      "model_module_version": "1.2.0",
      "model_name": "LayoutModel",
      "state": {}
     },
     "62a2b76231e9443483317376953ca3cc": {
      "model_module": "@jupyter-widgets/base",
      "model_module_version": "1.2.0",
      "model_name": "LayoutModel",
      "state": {}
     },
     "62b5bc6403144408b19fd4a789c19c72": {
      "model_module": "@jupyter-widgets/controls",
      "model_module_version": "1.5.0",
      "model_name": "ColorPickerModel",
      "state": {
       "description": "specular",
       "disabled": false,
       "layout": "IPY_MODEL_76fa5974fc594088898aeca9c0523cbd",
       "style": "IPY_MODEL_ffd47b6cfe404097909f5f4870a7fc67",
       "value": "#282828"
      }
     },
     "62e7fd6e389c4ae59e571c4fcb34e5c0": {
      "model_module": "@jupyter-widgets/controls",
      "model_module_version": "1.5.0",
      "model_name": "DescriptionStyleModel",
      "state": {
       "description_width": ""
      }
     },
     "62ecce380a4540f0ac0dd9486d3912a5": {
      "model_module": "@jupyter-widgets/controls",
      "model_module_version": "1.5.0",
      "model_name": "ButtonModel",
      "state": {
       "description": "Add",
       "layout": "IPY_MODEL_2709472ca87f4725b5c5062de9bf1341",
       "style": "IPY_MODEL_2a605d1454bf4acca4cac90df2e78bf1"
      }
     },
     "62f06f01a47f4f6c8c42d71dcba612c6": {
      "model_module": "@jupyter-widgets/base",
      "model_module_version": "1.2.0",
      "model_name": "LayoutModel",
      "state": {}
     },
     "62fff4b10d2c498fa7de85b618a36351": {
      "model_module": "@jupyter-widgets/controls",
      "model_module_version": "1.5.0",
      "model_name": "ColorPickerModel",
      "state": {
       "description": "emission",
       "disabled": false,
       "layout": "IPY_MODEL_7b1a55ba2ac3453b99b92e17130c6a1e",
       "style": "IPY_MODEL_e0c35736a89f424aa92cf4bb65dd15cd",
       "value": "#000000"
      }
     },
     "630f51ddc6474d56ac2b11c221db9313": {
      "model_module": "@jupyter-widgets/controls",
      "model_module_version": "1.5.0",
      "model_name": "ColorPickerModel",
      "state": {
       "description": "specular",
       "disabled": false,
       "layout": "IPY_MODEL_e894d4c3a4fb4f25a3f9d4c94d93edc4",
       "style": "IPY_MODEL_71181c0856bf4f019a94995d5325d299",
       "value": "#282828"
      }
     },
     "6313452555004e3e8cd4af4b429d6c81": {
      "model_module": "@jupyter-widgets/controls",
      "model_module_version": "1.5.0",
      "model_name": "SliderStyleModel",
      "state": {
       "description_width": ""
      }
     },
     "6322774f3a5e4d0cad43bc9ac0f77d3f": {
      "model_module": "@jupyter-widgets/controls",
      "model_module_version": "1.5.0",
      "model_name": "HBoxModel",
      "state": {
       "children": [
        "IPY_MODEL_ddc34eb399b046ce9c7bbcc7bcce04e5",
        "IPY_MODEL_f147ffdfc6994c26b4177e9b873ebcc9",
        "IPY_MODEL_cca2bc234f7546b6ab053ec14a62865d",
        "IPY_MODEL_bcb9c01e8d5e4ef6a75414069738d87f",
        "IPY_MODEL_3c9570eda3684eab96511e129bb5cee0"
       ],
       "layout": "IPY_MODEL_8d56c586bca3464d8c5cb36ae761ba46"
      }
     },
     "63354b64c5c6445686dd6064588bcd06": {
      "model_module": "@jupyter-widgets/base",
      "model_module_version": "1.2.0",
      "model_name": "LayoutModel",
      "state": {}
     },
     "63c9d2863df64449a1d81b197959dbbe": {
      "model_module": "@jupyter-widgets/controls",
      "model_module_version": "1.5.0",
      "model_name": "DescriptionStyleModel",
      "state": {
       "description_width": ""
      }
     },
     "63ec99422d324062aa029ae26fb392cf": {
      "model_module": "@jupyter-widgets/controls",
      "model_module_version": "1.5.0",
      "model_name": "TextModel",
      "state": {
       "continuous_update": false,
       "description": "name",
       "layout": "IPY_MODEL_5683515fa2d0458db36f542630cf452a",
       "style": "IPY_MODEL_e29b2ad0e6b8400997e87c1b714baead",
       "value": "color_4"
      }
     },
     "641c05b7ca444b45815f98e53b6c6ac7": {
      "model_module": "@jupyter-widgets/controls",
      "model_module_version": "1.5.0",
      "model_name": "ButtonModel",
      "state": {
       "description": "Delete",
       "layout": "IPY_MODEL_344335e7670a495595018a08fc546dec",
       "style": "IPY_MODEL_2fbe66108ef0435abf2f0ae7d1785c48"
      }
     },
     "64635876704d46df8e253b2d4cefa598": {
      "model_module": "@jupyter-widgets/base",
      "model_module_version": "1.2.0",
      "model_name": "LayoutModel",
      "state": {}
     },
     "6498ae65f15544e3aa9711e23376ad90": {
      "model_module": "@jupyter-widgets/base",
      "model_module_version": "1.2.0",
      "model_name": "LayoutModel",
      "state": {}
     },
     "649b808e83854530a387af7bc18abe1e": {
      "model_module": "@jupyter-widgets/base",
      "model_module_version": "1.2.0",
      "model_name": "LayoutModel",
      "state": {}
     },
     "64ae4c28e393410383055e93b56575a7": {
      "model_module": "@jupyter-widgets/base",
      "model_module_version": "1.2.0",
      "model_name": "LayoutModel",
      "state": {}
     },
     "64d7cfa5db9342919ab9a345850a143f": {
      "model_module": "@jupyter-widgets/controls",
      "model_module_version": "1.5.0",
      "model_name": "HBoxModel",
      "state": {
       "layout": "IPY_MODEL_8b9a41a0b095405186d1eec77ac0c839"
      }
     },
     "64ddded86cc94f2aaa65c66efd8404cd": {
      "model_module": "@jupyter-widgets/controls",
      "model_module_version": "1.5.0",
      "model_name": "HBoxModel",
      "state": {
       "children": [
        "IPY_MODEL_ec0d311430274174ad6f8002cc5ab013",
        "IPY_MODEL_c0a048ed609e4aceb6a259def78278e2"
       ],
       "layout": "IPY_MODEL_b64a0b633c4c488bb06c6634159a6227"
      }
     },
     "64eb6ce77bf6462698b988007f7d6518": {
      "model_module": "@jupyter-widgets/controls",
      "model_module_version": "1.5.0",
      "model_name": "DescriptionStyleModel",
      "state": {
       "description_width": ""
      }
     },
     "64f0f3be71ea49f6b0bf5f7a3382814b": {
      "model_module": "@jupyter-widgets/controls",
      "model_module_version": "1.5.0",
      "model_name": "DescriptionStyleModel",
      "state": {
       "description_width": ""
      }
     },
     "64f9dc0574df4a11af6125d753e638a4": {
      "model_module": "@jupyter-widgets/base",
      "model_module_version": "1.2.0",
      "model_name": "LayoutModel",
      "state": {}
     },
     "64fb29f193384a4e8f752c45b4c4b1ca": {
      "model_module": "@jupyter-widgets/controls",
      "model_module_version": "1.5.0",
      "model_name": "ColorPickerModel",
      "state": {
       "description": "emission",
       "disabled": false,
       "layout": "IPY_MODEL_68cfd084a9b844c7b9f46de98db14296",
       "style": "IPY_MODEL_9d7be6be4d2747209818d0df34b5332e",
       "value": "#000000"
      }
     },
     "64fef5ffe23a4d7f84f3b9902ddf596b": {
      "model_module": "@jupyter-widgets/base",
      "model_module_version": "1.2.0",
      "model_name": "LayoutModel",
      "state": {}
     },
     "650123fe060f4b61948a2ff7625b787d": {
      "model_module": "pgljupyter",
      "model_module_version": "^0.2.0",
      "model_name": "LsystemWidgetModel",
      "state": {
       "_model_module_version": "^0.2.0",
       "_view_module_version": "^0.2.0",
       "axes_helper": false,
       "derivationLength": 42,
       "layout": "IPY_MODEL_f0ece62107884815b66732681cf6a81c",
       "light_helper": false,
       "plane": true,
       "progress": 1,
       "size_display": [
        600,
        400
       ],
       "size_world": 50,
       "unit": 0
      }
     },
     "654d2eb5f16d49b5ab06dc88a4ca0fb2": {
      "model_module": "@jupyter-widgets/base",
      "model_module_version": "1.2.0",
      "model_name": "LayoutModel",
      "state": {}
     },
     "6562e328352c4da9bcc65510d48fe34e": {
      "model_module": "@jupyter-widgets/controls",
      "model_module_version": "1.5.0",
      "model_name": "SliderStyleModel",
      "state": {
       "description_width": ""
      }
     },
     "6568a84592d945ddaf5e6c0dc6c917c1": {
      "model_module": "@jupyter-widgets/base",
      "model_module_version": "1.2.0",
      "model_name": "LayoutModel",
      "state": {}
     },
     "65bee35e74e7441d98cbdeb5de6d8221": {
      "model_module": "@jupyter-widgets/base",
      "model_module_version": "1.2.0",
      "model_name": "LayoutModel",
      "state": {}
     },
     "65cb7b1023ae4f4aae41fd3b1473e716": {
      "model_module": "@jupyter-widgets/base",
      "model_module_version": "1.2.0",
      "model_name": "LayoutModel",
      "state": {
       "margin": "20px 0px"
      }
     },
     "65dc7f4bbf724d46a564ee783e7d55ea": {
      "model_module": "@jupyter-widgets/base",
      "model_module_version": "1.2.0",
      "model_name": "LayoutModel",
      "state": {}
     },
     "65e9c69006e0410082732dcb581d48b9": {
      "model_module": "@jupyter-widgets/controls",
      "model_module_version": "1.5.0",
      "model_name": "DescriptionStyleModel",
      "state": {
       "description_width": ""
      }
     },
     "6606341d02fc439dbd25cdd30951c0c4": {
      "model_module": "@jupyter-widgets/controls",
      "model_module_version": "1.5.0",
      "model_name": "SliderStyleModel",
      "state": {
       "description_width": ""
      }
     },
     "66091ec822434a4c9a8462ca501dd60b": {
      "model_module": "@jupyter-widgets/base",
      "model_module_version": "1.2.0",
      "model_name": "LayoutModel",
      "state": {}
     },
     "662a8bc5b57b429b8272a6397296a547": {
      "model_module": "@jupyter-widgets/controls",
      "model_module_version": "1.5.0",
      "model_name": "DropdownModel",
      "state": {
       "index": null,
       "layout": "IPY_MODEL_49d8421d6f4e4d488db1bd655f89a30e",
       "style": "IPY_MODEL_4a8af0be878b499d97a7bae1ed0009d0"
      }
     },
     "662e56ddae0f4169b110443342d419e9": {
      "model_module": "@jupyter-widgets/controls",
      "model_module_version": "1.5.0",
      "model_name": "SliderStyleModel",
      "state": {
       "description_width": ""
      }
     },
     "66319b5fedf94e328a2169cc85e30ee7": {
      "model_module": "@jupyter-widgets/controls",
      "model_module_version": "1.5.0",
      "model_name": "SliderStyleModel",
      "state": {
       "description_width": ""
      }
     },
     "665a21b5b0a24ed98abe27fb4169edb8": {
      "model_module": "@jupyter-widgets/controls",
      "model_module_version": "1.5.0",
      "model_name": "ButtonModel",
      "state": {
       "description": "Add",
       "layout": "IPY_MODEL_b3b90cf0e5714dfabfdcf4452cc02351",
       "style": "IPY_MODEL_f8c2776590214d378e6d1f0790fa3fda"
      }
     },
     "66cfa3a226224323bc89e5cd0184f515": {
      "model_module": "@jupyter-widgets/base",
      "model_module_version": "1.2.0",
      "model_name": "LayoutModel",
      "state": {}
     },
     "66d7a1826e15429d8f8f2cf795ccb6c1": {
      "model_module": "@jupyter-widgets/base",
      "model_module_version": "1.2.0",
      "model_name": "LayoutModel",
      "state": {}
     },
     "66fa4e9da6b44b09825dd443d011b2d2": {
      "model_module": "@jupyter-widgets/base",
      "model_module_version": "1.2.0",
      "model_name": "LayoutModel",
      "state": {}
     },
     "67461a76be584a8b8d2fa4e2f8aa7d24": {
      "model_module": "@jupyter-widgets/controls",
      "model_module_version": "1.5.0",
      "model_name": "FloatSliderModel",
      "state": {
       "description": "transparency",
       "layout": "IPY_MODEL_b7fff26df0ad46bbaeeb12519d1a0352",
       "max": 1,
       "step": 0.1,
       "style": "IPY_MODEL_30d8f21dda4646f0acb3611afa8c89a6"
      }
     },
     "674ce701a99c4dd290082ac0ca4a9bf8": {
      "model_module": "@jupyter-widgets/controls",
      "model_module_version": "1.5.0",
      "model_name": "DescriptionStyleModel",
      "state": {
       "description_width": ""
      }
     },
     "67555ffb059840dd83d40a952b22cf1d": {
      "model_module": "@jupyter-widgets/base",
      "model_module_version": "1.2.0",
      "model_name": "LayoutModel",
      "state": {}
     },
     "676ef09cd4844c10ba6f4f53d5d24356": {
      "model_module": "@jupyter-widgets/base",
      "model_module_version": "1.2.0",
      "model_name": "LayoutModel",
      "state": {}
     },
     "677b6979d18a4369b43c7d2c7055d352": {
      "model_module": "@jupyter-widgets/controls",
      "model_module_version": "1.5.0",
      "model_name": "TextModel",
      "state": {
       "continuous_update": false,
       "description": "name",
       "layout": "IPY_MODEL_98277c35c08042f6a10536f9cec224a9",
       "style": "IPY_MODEL_83cb5d93b13c4d38906e44f6111942f3",
       "value": "color_4"
      }
     },
     "6791d50a53e24801abf8906493e8c15d": {
      "model_module": "@jupyter-widgets/base",
      "model_module_version": "1.2.0",
      "model_name": "LayoutModel",
      "state": {}
     },
     "679a4e3dbf4340d084066a79f8c8540d": {
      "model_module": "@jupyter-widgets/controls",
      "model_module_version": "1.5.0",
      "model_name": "ButtonModel",
      "state": {
       "description": "Apply changes",
       "layout": "IPY_MODEL_d9ccb67aeb914dbebc9157bdfb5dc23d",
       "style": "IPY_MODEL_ef1d08148f6a452081c3eb7924ab9c8f"
      }
     },
     "67c7aedfc8f04a9bb8e92c4fbabb0fa3": {
      "model_module": "@jupyter-widgets/base",
      "model_module_version": "1.2.0",
      "model_name": "LayoutModel",
      "state": {}
     },
     "67f4e04d08034151b0a50c7edf65de73": {
      "model_module": "@jupyter-widgets/controls",
      "model_module_version": "1.5.0",
      "model_name": "SliderStyleModel",
      "state": {
       "description_width": ""
      }
     },
     "680aa46b15e744f299dca56301948859": {
      "model_module": "@jupyter-widgets/controls",
      "model_module_version": "1.5.0",
      "model_name": "FloatSliderModel",
      "state": {
       "continuous_update": false,
       "description": "diffuse",
       "layout": "IPY_MODEL_66fa4e9da6b44b09825dd443d011b2d2",
       "max": 3,
       "step": 0.1,
       "style": "IPY_MODEL_2734669ed71e445c9b770b3e6d70465e",
       "value": 1.1643835616438356
      }
     },
     "68232feda0524251afd1ce7f9e13de48": {
      "model_module": "@jupyter-widgets/controls",
      "model_module_version": "1.5.0",
      "model_name": "ButtonModel",
      "state": {
       "description": "Delete",
       "layout": "IPY_MODEL_c92427536cb94849b746848ce431f79c",
       "style": "IPY_MODEL_b55b4107cfc640d6b6bf9af9105fd14b"
      }
     },
     "683514619a284a17be83f3e12928bc6a": {
      "model_module": "@jupyter-widgets/controls",
      "model_module_version": "1.5.0",
      "model_name": "IntSliderModel",
      "state": {
       "description": "value",
       "layout": "IPY_MODEL_ac6f0bb182d14b43a5412de39ac1d15a",
       "max": 10,
       "min": 1,
       "style": "IPY_MODEL_ce95b26aa02f45a485c1255eae9a21fa",
       "value": 5
      }
     },
     "6836f870173f481c896bba938c011cdd": {
      "model_module": "@jupyter-widgets/controls",
      "model_module_version": "1.5.0",
      "model_name": "TextModel",
      "state": {
       "continuous_update": false,
       "description": "name",
       "layout": "IPY_MODEL_8b24ac74c0944cd48267de6d5fe2be88",
       "style": "IPY_MODEL_1fc7b2d61c8248a78f6d173ef2c25c28",
       "value": "maxorder"
      }
     },
     "684c8f4df8674412aedac32f204f41a4": {
      "model_module": "@jupyter-widgets/controls",
      "model_module_version": "1.5.0",
      "model_name": "HBoxModel",
      "state": {
       "children": [
        "IPY_MODEL_7d994118bafc4c709d4e82c6555c0cdf"
       ],
       "layout": "IPY_MODEL_78dff3c9b0ab4092885a4681b708b9c4"
      }
     },
     "685616a6a5014c418cc61d6e755db1e7": {
      "model_module": "@jupyter-widgets/base",
      "model_module_version": "1.2.0",
      "model_name": "LayoutModel",
      "state": {}
     },
     "685ee14868fa4a14911917cadbe67018": {
      "model_module": "@jupyter-widgets/controls",
      "model_module_version": "1.5.0",
      "model_name": "DescriptionStyleModel",
      "state": {
       "description_width": ""
      }
     },
     "685f741bdde24dd9b6568dc83684456f": {
      "model_module": "@jupyter-widgets/controls",
      "model_module_version": "1.5.0",
      "model_name": "HBoxModel",
      "state": {
       "children": [
        "IPY_MODEL_4dbcb1266bf2455cbfa6f83b1f69516a",
        "IPY_MODEL_1ea1b9374e5d4145bcc362d9bb9d3624"
       ],
       "layout": "IPY_MODEL_10b64056ecc44e09b5e4933d6dbe52e2"
      }
     },
     "688c7ab900f64a39a92145e2304afd5e": {
      "model_module": "@jupyter-widgets/base",
      "model_module_version": "1.2.0",
      "model_name": "LayoutModel",
      "state": {}
     },
     "68a0a5b32660431c972bf9ccdf174f33": {
      "model_module": "@jupyter-widgets/base",
      "model_module_version": "1.2.0",
      "model_name": "LayoutModel",
      "state": {}
     },
     "68ae407b0f17478b8bba349c2b362287": {
      "model_module": "@jupyter-widgets/controls",
      "model_module_version": "1.5.0",
      "model_name": "ColorPickerModel",
      "state": {
       "description": "specular",
       "disabled": false,
       "layout": "IPY_MODEL_9adab8c2be424a5f8a9aa5ef3f26e6dd",
       "style": "IPY_MODEL_2d633741e82e4a00811c61de610e3b6b",
       "value": "#282828"
      }
     },
     "68b2471e08bd43108da250cbe509f4c8": {
      "model_module": "@jupyter-widgets/controls",
      "model_module_version": "1.5.0",
      "model_name": "SliderStyleModel",
      "state": {
       "description_width": ""
      }
     },
     "68be4ec169ab4ce9929d4231bbdfaad7": {
      "model_module": "@jupyter-widgets/controls",
      "model_module_version": "1.5.0",
      "model_name": "ButtonStyleModel",
      "state": {}
     },
     "68cfd084a9b844c7b9f46de98db14296": {
      "model_module": "@jupyter-widgets/base",
      "model_module_version": "1.2.0",
      "model_name": "LayoutModel",
      "state": {}
     },
     "68d71aa0477142e7b5ac9a9e6cd735b0": {
      "model_module": "pgljupyter",
      "model_module_version": "^0.1.21",
      "model_name": "FloatEditorModel",
      "state": {
       "_model_module_version": "^0.1.21",
       "_view_module_version": "^0.1.21",
       "children": [
        "IPY_MODEL_d91926552cc04101b20b93a25091f15a",
        "IPY_MODEL_3d43a66e7ba84d16b260aa7cd202f863"
       ],
       "layout": "IPY_MODEL_49306a0c91164b7a808f80e189b3a9ee"
      }
     },
     "690ece26089849d296129aedbf2fd7db": {
      "model_module": "@jupyter-widgets/controls",
      "model_module_version": "1.5.0",
      "model_name": "ButtonModel",
      "state": {
       "description": "Delete",
       "layout": "IPY_MODEL_b948a49b7df74974bc59fba0d18708ef",
       "style": "IPY_MODEL_742b7af996de41e68d2fba76c3bf71d8"
      }
     },
     "694aa30345644ad9836c04cf3497349c": {
      "model_module": "@jupyter-widgets/base",
      "model_module_version": "1.2.0",
      "model_name": "LayoutModel",
      "state": {}
     },
     "6995c922c85748798aa9771f2292b294": {
      "model_module": "@jupyter-widgets/controls",
      "model_module_version": "1.5.0",
      "model_name": "AccordionModel",
      "state": {
       "_titles": {
        "0": "materials",
        "1": "leaf",
        "2": "trunk & branches"
       },
       "children": [
        "IPY_MODEL_42699632d8cb4a18b19918bc9af6af56",
        "IPY_MODEL_c1733f50531e4767a40e92700519d3e1",
        "IPY_MODEL_3e6433047ff24d7993bc94f867353b36"
       ],
       "layout": "IPY_MODEL_cb2c668918b54c28a23bfa9edc932df0"
      }
     },
     "699fdd8b68ce4088bee5ea97075c85ef": {
      "model_module": "@jupyter-widgets/controls",
      "model_module_version": "1.5.0",
      "model_name": "HBoxModel",
      "state": {
       "children": [
        "IPY_MODEL_51cef2aa605e461f8d0f1f518f7427c4",
        "IPY_MODEL_a2621c9fa86a4cef802aae2710c3be5f"
       ],
       "layout": "IPY_MODEL_bdcbb93f812947e88d3b05e0e12e3467"
      }
     },
     "69adca6b2b7d471ca668269a5c227e1f": {
      "model_module": "@jupyter-widgets/controls",
      "model_module_version": "1.5.0",
      "model_name": "DescriptionStyleModel",
      "state": {
       "description_width": ""
      }
     },
     "69c450ec1a01424db338088654b05a79": {
      "model_module": "@jupyter-widgets/base",
      "model_module_version": "1.2.0",
      "model_name": "LayoutModel",
      "state": {}
     },
     "6a018a7ac45f43ed9fb495ac70a32468": {
      "model_module": "@jupyter-widgets/base",
      "model_module_version": "1.2.0",
      "model_name": "LayoutModel",
      "state": {}
     },
     "6a7bd7c65aec4e98adca9b17ad4b90de": {
      "model_module": "@jupyter-widgets/controls",
      "model_module_version": "1.5.0",
      "model_name": "DropdownModel",
      "state": {
       "_options_labels": [
        "Curve",
        "Function"
       ],
       "index": 0,
       "layout": "IPY_MODEL_f9cdfe3ea04d40f2bb27a0971e3774f3",
       "style": "IPY_MODEL_42034042a60e4aeca328639d577fac4f"
      }
     },
     "6a803bbc6c7d42418bcd85246ea9c67f": {
      "model_module": "@jupyter-widgets/controls",
      "model_module_version": "1.5.0",
      "model_name": "CheckboxModel",
      "state": {
       "description": "Auto apply",
       "disabled": false,
       "layout": "IPY_MODEL_0fbe18420d274425a435684457ded224",
       "style": "IPY_MODEL_7fe6db45180c4a278bb47c95f2296790",
       "value": false
      }
     },
     "6a9570578894414ebd3507f4aa341efc": {
      "model_module": "pgljupyter",
      "model_module_version": "^0.1.21",
      "model_name": "LsystemWidgetModel",
      "state": {
       "_model_module_version": "^0.1.21",
       "_view_module_version": "^0.1.21",
       "axes_helper": false,
       "derivationLength": 42,
       "layout": "IPY_MODEL_d52fb0d8ec634c9e8f5209c9cbd03a9e",
       "light_helper": false,
       "plane": true,
       "size_display": [
        600,
        400
       ],
       "size_world": 50
      }
     },
     "6a95929048464d27b92643ff9e093d6b": {
      "model_module": "@jupyter-widgets/base",
      "model_module_version": "1.2.0",
      "model_name": "LayoutModel",
      "state": {}
     },
     "6a96352f36b9452bba44e1ee4b108426": {
      "model_module": "@jupyter-widgets/controls",
      "model_module_version": "1.5.0",
      "model_name": "SliderStyleModel",
      "state": {
       "description_width": ""
      }
     },
     "6ab377277f3f47c19b9225d757195275": {
      "model_module": "@jupyter-widgets/base",
      "model_module_version": "1.2.0",
      "model_name": "LayoutModel",
      "state": {}
     },
     "6ae70c48f5bb42129c7504bfebdb6214": {
      "model_module": "@jupyter-widgets/controls",
      "model_module_version": "1.5.0",
      "model_name": "HBoxModel",
      "state": {
       "children": [
        "IPY_MODEL_b7b39fab097644ca98be08e07da74097",
        "IPY_MODEL_1ae92564132343389b54704803f15403"
       ],
       "layout": "IPY_MODEL_f84fb842bfdc4ca69b673ea45abcdf91"
      }
     },
     "6af77e29019b4e689db91f5541c76b14": {
      "model_module": "@jupyter-widgets/controls",
      "model_module_version": "1.5.0",
      "model_name": "ColorPickerModel",
      "state": {
       "description": "emission",
       "disabled": false,
       "layout": "IPY_MODEL_055dec0cea5041829e855a22e1086bb8",
       "style": "IPY_MODEL_cec3e99efbcc48f4949ee3f961d09c72",
       "value": "#000000"
      }
     },
     "6afde54ff02642b099358c5671f1b873": {
      "model_module": "@jupyter-widgets/controls",
      "model_module_version": "1.5.0",
      "model_name": "ButtonModel",
      "state": {
       "description": "Add",
       "layout": "IPY_MODEL_21f3349a602545288f617c05af0e2a85",
       "style": "IPY_MODEL_510489c076f34b2bb4ed405c0bd2e184"
      }
     },
     "6b54e408638a4d85935aa261112cb2bb": {
      "model_module": "@jupyter-widgets/controls",
      "model_module_version": "1.5.0",
      "model_name": "SliderStyleModel",
      "state": {
       "description_width": ""
      }
     },
     "6b64f44ea36c41a0bce14ae865b76233": {
      "model_module": "@jupyter-widgets/controls",
      "model_module_version": "1.5.0",
      "model_name": "HBoxModel",
      "state": {
       "layout": "IPY_MODEL_5a7768daa7114d36b770ea435fe36cec"
      }
     },
     "6b7acd15cd974cd5ac238690be64c77a": {
      "model_module": "@jupyter-widgets/controls",
      "model_module_version": "1.5.0",
      "model_name": "DescriptionStyleModel",
      "state": {
       "description_width": ""
      }
     },
     "6b7f50760bbe40128e53e8730548a7c5": {
      "model_module": "@jupyter-widgets/controls",
      "model_module_version": "1.5.0",
      "model_name": "TextModel",
      "state": {
       "continuous_update": false,
       "description": "name",
       "layout": "IPY_MODEL_2748b3bc98584be89e557777f606f30e",
       "style": "IPY_MODEL_5e82b30d25f94292a4d76ae8c23684da",
       "value": "color_3"
      }
     },
     "6b8f0820ce5e43c796130647fa6eec1e": {
      "model_module": "@jupyter-widgets/controls",
      "model_module_version": "1.5.0",
      "model_name": "ButtonStyleModel",
      "state": {}
     },
     "6b9b12000c3449fd833f068eef7fefa7": {
      "model_module": "@jupyter-widgets/base",
      "model_module_version": "1.2.0",
      "model_name": "LayoutModel",
      "state": {}
     },
     "6baaf717d33f4125b9871fa60bac0a2f": {
      "model_module": "@jupyter-widgets/controls",
      "model_module_version": "1.5.0",
      "model_name": "TextModel",
      "state": {
       "continuous_update": false,
       "description": "name",
       "layout": "IPY_MODEL_dc6fe4ae93724ee697ccb6414fa8bd2b",
       "style": "IPY_MODEL_f8bb53ae98a6404eb9fbd8309f221e79",
       "value": "color_2"
      }
     },
     "6bbc88a5645f4f34bc382a3d79ab54d0": {
      "model_module": "@jupyter-widgets/controls",
      "model_module_version": "1.5.0",
      "model_name": "HBoxModel",
      "state": {
       "children": [
        "IPY_MODEL_b0fb1ac3eab4429faa1c3064bf965e64",
        "IPY_MODEL_13ef4f1f81a4430aa1f08839e278e50f"
       ],
       "layout": "IPY_MODEL_7e4f103663654092a3b6f3f18908d2a4"
      }
     },
     "6bdedae54c80433d896fd303f7e37987": {
      "model_module": "@jupyter-widgets/controls",
      "model_module_version": "1.5.0",
      "model_name": "HBoxModel",
      "state": {
       "children": [
        "IPY_MODEL_746de6547f2f4d878ec09579509f5e7d",
        "IPY_MODEL_699fdd8b68ce4088bee5ea97075c85ef"
       ],
       "layout": "IPY_MODEL_5a6aab1bb709492da4f69389f9069c24"
      }
     },
     "6be8b624abb24c98af91054c27cba856": {
      "model_module": "@jupyter-widgets/controls",
      "model_module_version": "1.5.0",
      "model_name": "ButtonStyleModel",
      "state": {}
     },
     "6c062a627e074314b2c9f10cb62a60ff": {
      "model_module": "@jupyter-widgets/controls",
      "model_module_version": "1.5.0",
      "model_name": "DescriptionStyleModel",
      "state": {
       "description_width": ""
      }
     },
     "6c671f207c164abd949a12ac8032908b": {
      "model_module": "@jupyter-widgets/base",
      "model_module_version": "1.2.0",
      "model_name": "LayoutModel",
      "state": {}
     },
     "6c692b6a751b4f9a87b763ae9a055554": {
      "model_module": "pgljupyter",
      "model_module_version": "^0.1.21",
      "model_name": "IntEditorModel",
      "state": {
       "_model_module_version": "^0.1.21",
       "_view_module_version": "^0.1.21",
       "children": [
        "IPY_MODEL_0d310866a28c4c1ab0562409f5a1baa5",
        "IPY_MODEL_543008b05d50479590c3d4e3bc492779"
       ],
       "layout": "IPY_MODEL_459815904a114cb9b092e8b2c8f014dd"
      }
     },
     "6c9077201cf9427b930095c29dff128d": {
      "model_module": "@jupyter-widgets/base",
      "model_module_version": "1.2.0",
      "model_name": "LayoutModel",
      "state": {}
     },
     "6ca8a058608e461981d02fe06f909f06": {
      "model_module": "@jupyter-widgets/controls",
      "model_module_version": "1.5.0",
      "model_name": "HBoxModel",
      "state": {
       "children": [
        "IPY_MODEL_cb337314fb0342319d43e07dbd615d49",
        "IPY_MODEL_eb31c3d44dcd4a13a2391ca1073df790",
        "IPY_MODEL_b772c331ff074286b1bbeb652d501059",
        "IPY_MODEL_4588b0c67ae24d139bd2cbf03d663247"
       ],
       "layout": "IPY_MODEL_beda81a3b0ac4e599adfa39835831fd8"
      }
     },
     "6cafa8125cbe44e2b212a499900a8f16": {
      "model_module": "@jupyter-widgets/controls",
      "model_module_version": "1.5.0",
      "model_name": "ButtonStyleModel",
      "state": {}
     },
     "6cb02b695e9b429fb82b362a464e95d4": {
      "model_module": "@jupyter-widgets/base",
      "model_module_version": "1.2.0",
      "model_name": "LayoutModel",
      "state": {}
     },
     "6cc1f038278244dfa83d00a7f7e12088": {
      "model_module": "@jupyter-widgets/controls",
      "model_module_version": "1.5.0",
      "model_name": "DescriptionStyleModel",
      "state": {
       "description_width": ""
      }
     },
     "6d1a398411bc4c81808725799dd684d4": {
      "model_module": "@jupyter-widgets/controls",
      "model_module_version": "1.5.0",
      "model_name": "DescriptionStyleModel",
      "state": {
       "description_width": ""
      }
     },
     "6d4072720b9f49d79f96a3e2beff6e17": {
      "model_module": "@jupyter-widgets/controls",
      "model_module_version": "1.5.0",
      "model_name": "ButtonStyleModel",
      "state": {}
     },
     "6d5e3a1f1f6e4037b118fad920b662c6": {
      "model_module": "@jupyter-widgets/controls",
      "model_module_version": "1.5.0",
      "model_name": "ButtonStyleModel",
      "state": {}
     },
     "6d6eb3e3ec334446bb6f3806b0c2bd8d": {
      "model_module": "@jupyter-widgets/base",
      "model_module_version": "1.2.0",
      "model_name": "LayoutModel",
      "state": {}
     },
     "6d8d2b229cc647d08308701c382a11a7": {
      "model_module": "@jupyter-widgets/base",
      "model_module_version": "1.2.0",
      "model_name": "LayoutModel",
      "state": {}
     },
     "6d9cd9fec46242309f65481bd57e1ab6": {
      "model_module": "@jupyter-widgets/controls",
      "model_module_version": "1.5.0",
      "model_name": "SliderStyleModel",
      "state": {
       "description_width": ""
      }
     },
     "6dc7af3ab18949c5af3d4e2a41944457": {
      "model_module": "@jupyter-widgets/controls",
      "model_module_version": "1.5.0",
      "model_name": "DescriptionStyleModel",
      "state": {
       "description_width": ""
      }
     },
     "6dcf6d518b354f35a404160bd83b6ff7": {
      "model_module": "@jupyter-widgets/base",
      "model_module_version": "1.2.0",
      "model_name": "LayoutModel",
      "state": {}
     },
     "6e12820d82904853ba99b14e152dd048": {
      "model_module": "@jupyter-widgets/controls",
      "model_module_version": "1.5.0",
      "model_name": "SliderStyleModel",
      "state": {
       "description_width": ""
      }
     },
     "6e149d6140aa4abca3c6a495c874087e": {
      "model_module": "@jupyter-widgets/controls",
      "model_module_version": "1.5.0",
      "model_name": "CheckboxModel",
      "state": {
       "description": "Auto apply",
       "disabled": false,
       "layout": "IPY_MODEL_2de7c371544e409a8f3f128430eeced9",
       "style": "IPY_MODEL_6c062a627e074314b2c9f10cb62a60ff",
       "value": false
      }
     },
     "6e86329f62f04d64897ff3b96a1bfe58": {
      "model_module": "@jupyter-widgets/base",
      "model_module_version": "1.2.0",
      "model_name": "LayoutModel",
      "state": {}
     },
     "6e8f2645636c4ac295e87f14ded69195": {
      "model_module": "@jupyter-widgets/controls",
      "model_module_version": "1.5.0",
      "model_name": "TextModel",
      "state": {
       "continuous_update": false,
       "description": "name",
       "layout": "IPY_MODEL_8eb5ff0503844639a05f7383adbfb05c",
       "style": "IPY_MODEL_e7a273e212634592bc26c6eb3096364d",
       "value": "leaf_old"
      }
     },
     "6eb1ab587c7b4b10b6c7a97e430683cf": {
      "model_module": "@jupyter-widgets/controls",
      "model_module_version": "1.5.0",
      "model_name": "DescriptionStyleModel",
      "state": {
       "description_width": ""
      }
     },
     "6ec1cbd07a644f899b126df86b0690ab": {
      "model_module": "@jupyter-widgets/controls",
      "model_module_version": "1.5.0",
      "model_name": "SliderStyleModel",
      "state": {
       "description_width": ""
      }
     },
     "6ecb092e2f024e54ab3e5a0f2fecdaa1": {
      "model_module": "@jupyter-widgets/base",
      "model_module_version": "1.2.0",
      "model_name": "LayoutModel",
      "state": {}
     },
     "6f0a69f339134e55b948c90d45650703": {
      "model_module": "@jupyter-widgets/base",
      "model_module_version": "1.2.0",
      "model_name": "LayoutModel",
      "state": {}
     },
     "6f0f8070aff54befb01d59fb84b450b7": {
      "model_module": "@jupyter-widgets/controls",
      "model_module_version": "1.5.0",
      "model_name": "HBoxModel",
      "state": {
       "children": [
        "IPY_MODEL_d94927052fb046c4b476563ba1404936",
        "IPY_MODEL_bdd912ccd9594f2c93aaed30b1a57ee8"
       ],
       "layout": "IPY_MODEL_5404c74b739a4b1f9611340837468322"
      }
     },
     "6f100fcdb69247f5bfc0c8803ddbae68": {
      "model_module": "@jupyter-widgets/base",
      "model_module_version": "1.2.0",
      "model_name": "LayoutModel",
      "state": {
       "margin": "20px 0px"
      }
     },
     "6f1858b8e9c6421b9b4fe2362c1009c7": {
      "model_module": "@jupyter-widgets/base",
      "model_module_version": "1.2.0",
      "model_name": "LayoutModel",
      "state": {}
     },
     "6f2b90d0eaeb458c92aa8d4c7eda4de5": {
      "model_module": "@jupyter-widgets/base",
      "model_module_version": "1.2.0",
      "model_name": "LayoutModel",
      "state": {}
     },
     "6f5e6f5355bd440d8af5ee837dac75a9": {
      "model_module": "@jupyter-widgets/base",
      "model_module_version": "1.2.0",
      "model_name": "LayoutModel",
      "state": {
       "flex_flow": "row wrap",
       "margin": "20px"
      }
     },
     "6f8caadf4ec44ff08a9be51eeb0f01f2": {
      "model_module": "@jupyter-widgets/base",
      "model_module_version": "1.2.0",
      "model_name": "LayoutModel",
      "state": {
       "margin": "10px 10px"
      }
     },
     "6fd19ee64db44d74845df2372b542b69": {
      "model_module": "@jupyter-widgets/controls",
      "model_module_version": "1.5.0",
      "model_name": "ColorPickerModel",
      "state": {
       "description": "ambient",
       "disabled": false,
       "layout": "IPY_MODEL_dc9e29879357411bbba01c813ba6f9f4",
       "style": "IPY_MODEL_72a0a0e0aead47d2aa630983d0ff942c",
       "value": "#195717"
      }
     },
     "6fdc9886fdbf46dda46199abcd2ce19a": {
      "model_module": "@jupyter-widgets/controls",
      "model_module_version": "1.5.0",
      "model_name": "DescriptionStyleModel",
      "state": {
       "description_width": ""
      }
     },
     "6ff5f5b575424b1aadc6de709ae0596e": {
      "model_module": "@jupyter-widgets/controls",
      "model_module_version": "1.5.0",
      "model_name": "HBoxModel",
      "state": {
       "children": [
        "IPY_MODEL_ed6a7f88ae4744d49b47dd18c74fab70",
        "IPY_MODEL_a12bf960042943e8b1e8bbee51abb425"
       ],
       "layout": "IPY_MODEL_d522f154218a4d53baef2b0682693996"
      }
     },
     "6ffd3972526c43f5977af4b0b2029a29": {
      "model_module": "@jupyter-widgets/controls",
      "model_module_version": "1.5.0",
      "model_name": "DescriptionStyleModel",
      "state": {
       "description_width": ""
      }
     },
     "700dd60141fd4249986e07f948bfdfa6": {
      "model_module": "@jupyter-widgets/controls",
      "model_module_version": "1.5.0",
      "model_name": "HBoxModel",
      "state": {
       "children": [
        "IPY_MODEL_685f741bdde24dd9b6568dc83684456f",
        "IPY_MODEL_7c750cbcded74037bf60b8b54b2a479b"
       ],
       "layout": "IPY_MODEL_f84fb842bfdc4ca69b673ea45abcdf91"
      }
     },
     "7015fbbda9c047b391aecaeef63cd104": {
      "model_module": "@jupyter-widgets/base",
      "model_module_version": "1.2.0",
      "model_name": "LayoutModel",
      "state": {}
     },
     "70345d5e492f4c59a07d9d7fe6543942": {
      "model_module": "@jupyter-widgets/controls",
      "model_module_version": "1.5.0",
      "model_name": "DescriptionStyleModel",
      "state": {
       "description_width": ""
      }
     },
     "704c51f2b4274443ae0128fcab864aca": {
      "model_module": "pgljupyter",
      "model_module_version": "^0.1.21",
      "model_name": "IntEditorModel",
      "state": {
       "_model_module_version": "^0.1.21",
       "_view_module_version": "^0.1.21",
       "children": [
        "IPY_MODEL_3906a75a08ed413aba2363f7e4fa3366",
        "IPY_MODEL_2c4f8c87f0eb4c48a1315f8f85b34133"
       ],
       "layout": "IPY_MODEL_eba7cf85bd6046aca8a8d6411fcef311"
      }
     },
     "70551849ae9141f5a0454038fa931d31": {
      "model_module": "@jupyter-widgets/controls",
      "model_module_version": "1.5.0",
      "model_name": "ButtonStyleModel",
      "state": {}
     },
     "706b28339ad7452ea4636ed8533aa145": {
      "model_module": "@jupyter-widgets/base",
      "model_module_version": "1.2.0",
      "model_name": "LayoutModel",
      "state": {}
     },
     "70cd0cda1a844c278ad4555f50d5490a": {
      "model_module": "@jupyter-widgets/controls",
      "model_module_version": "1.5.0",
      "model_name": "ButtonStyleModel",
      "state": {}
     },
     "70dda571646341ceb6f35058be924baf": {
      "model_module": "@jupyter-widgets/controls",
      "model_module_version": "1.5.0",
      "model_name": "ColorPickerModel",
      "state": {
       "description": "emission",
       "disabled": false,
       "layout": "IPY_MODEL_13642e1addcd465cbd7d516a101c2713",
       "style": "IPY_MODEL_b042067711c749ddbe44af8d0b266773",
       "value": "#000000"
      }
     },
     "70f57e2c0344454288ed8ac17019df5e": {
      "model_module": "@jupyter-widgets/base",
      "model_module_version": "1.2.0",
      "model_name": "LayoutModel",
      "state": {}
     },
     "71181c0856bf4f019a94995d5325d299": {
      "model_module": "@jupyter-widgets/controls",
      "model_module_version": "1.5.0",
      "model_name": "DescriptionStyleModel",
      "state": {
       "description_width": ""
      }
     },
     "7143e8b98f0d40c895aacadcde1ca010": {
      "model_module": "@jupyter-widgets/controls",
      "model_module_version": "1.5.0",
      "model_name": "HBoxModel",
      "state": {
       "layout": "IPY_MODEL_8b9a41a0b095405186d1eec77ac0c839"
      }
     },
     "71477cc008b246dda88280fd345c2937": {
      "model_module": "@jupyter-widgets/base",
      "model_module_version": "1.2.0",
      "model_name": "LayoutModel",
      "state": {}
     },
     "715606022a044632ac89eb213623d18a": {
      "model_module": "@jupyter-widgets/controls",
      "model_module_version": "1.5.0",
      "model_name": "BoundedIntTextModel",
      "state": {
       "description": "step",
       "layout": "IPY_MODEL_5532c2cdd5f24b1ebfeff4de061e7901",
       "min": 1,
       "style": "IPY_MODEL_e41cb6704a0a4c06a028ae53e9f988ee",
       "value": 1
      }
     },
     "718976f5e4da429abce9bf4719b35303": {
      "model_module": "@jupyter-widgets/controls",
      "model_module_version": "1.5.0",
      "model_name": "ButtonStyleModel",
      "state": {}
     },
     "71bb87308f7f413585405d1a1df6ad8f": {
      "model_module": "@jupyter-widgets/controls",
      "model_module_version": "1.5.0",
      "model_name": "BoundedIntTextModel",
      "state": {
       "description": "step",
       "layout": "IPY_MODEL_d3b85fda8a3a4608a7bd96283095fedd",
       "min": 1,
       "style": "IPY_MODEL_5f35732199e94b7981ff948790caec12",
       "value": 1
      }
     },
     "71bc512b2098424d90eb915826bf82e4": {
      "model_module": "@jupyter-widgets/base",
      "model_module_version": "1.2.0",
      "model_name": "LayoutModel",
      "state": {}
     },
     "720602bd96314ddbb7e19314e2bb1ac7": {
      "model_module": "@jupyter-widgets/base",
      "model_module_version": "1.2.0",
      "model_name": "LayoutModel",
      "state": {}
     },
     "72233f9b078644c7b23019e335582338": {
      "model_module": "@jupyter-widgets/base",
      "model_module_version": "1.2.0",
      "model_name": "LayoutModel",
      "state": {}
     },
     "726ea6227a9140b58c2e2db0b3c05e1f": {
      "model_module": "@jupyter-widgets/base",
      "model_module_version": "1.2.0",
      "model_name": "LayoutModel",
      "state": {
       "margin": "20px 0px"
      }
     },
     "727da00b96284e60887f830c92663006": {
      "model_module": "@jupyter-widgets/controls",
      "model_module_version": "1.5.0",
      "model_name": "HBoxModel",
      "state": {
       "children": [
        "IPY_MODEL_04cbb9188a174a70bb551de95a1ec0a3",
        "IPY_MODEL_9c81b23cc78347d3b3f5498f783fd5c4"
       ],
       "layout": "IPY_MODEL_fe9595ab730a4f21a90e37b95c64eb35"
      }
     },
     "7293a88c1ab941aabcecd4f6d4f03a08": {
      "model_module": "@jupyter-widgets/base",
      "model_module_version": "1.2.0",
      "model_name": "LayoutModel",
      "state": {}
     },
     "7295156e70a548268ebc0dc7495620f9": {
      "model_module": "@jupyter-widgets/controls",
      "model_module_version": "1.5.0",
      "model_name": "ColorPickerModel",
      "state": {
       "description": "emission",
       "disabled": false,
       "layout": "IPY_MODEL_9a13b45d2bde411991cd2067c9e84185",
       "style": "IPY_MODEL_a8369538a32943eb99a2eec1eabbfcba",
       "value": "#000000"
      }
     },
     "72a0a0e0aead47d2aa630983d0ff942c": {
      "model_module": "@jupyter-widgets/controls",
      "model_module_version": "1.5.0",
      "model_name": "DescriptionStyleModel",
      "state": {
       "description_width": ""
      }
     },
     "73496737da0c4b479a2e43c89062fdf3": {
      "model_module": "@jupyter-widgets/controls",
      "model_module_version": "1.5.0",
      "model_name": "AccordionModel",
      "state": {
       "_titles": {
        "0": "options",
        "1": "materials",
        "2": "leaf"
       },
       "children": [
        "IPY_MODEL_3036709698c94d53ac94124615b9612e",
        "IPY_MODEL_b8b9b3ffeaac416c9b974d5332062d10",
        "IPY_MODEL_353ddb1420fc4c4b98046d215b3a0a75"
       ],
       "layout": "IPY_MODEL_1b44d596a79d4717bb36340cb0ec6094"
      }
     },
     "737e4a4107604e689afd07fac4b3e826": {
      "model_module": "@jupyter-widgets/controls",
      "model_module_version": "1.5.0",
      "model_name": "HBoxModel",
      "state": {
       "children": [
        "IPY_MODEL_ce2c33204f164aad889970e5a43d3a08",
        "IPY_MODEL_ab189c2f0b2140e991588634d1926a8d"
       ],
       "layout": "IPY_MODEL_f84fb842bfdc4ca69b673ea45abcdf91"
      }
     },
     "739e971cac0b4afb9648797358bad379": {
      "model_module": "pgljupyter",
      "model_module_version": "^0.2.0",
      "model_name": "ParameterEditorModel",
      "state": {
       "_model_module_version": "^0.2.0",
       "_view_module_version": "^0.2.0",
       "children": [
        "IPY_MODEL_113715feff46405a9f829a04036857fc"
       ],
       "layout": "IPY_MODEL_9c9e8e570eeb465eb30c7eb226f210ab"
      }
     },
     "73c2343975874c018e3bdb7a49cd342d": {
      "model_module": "@jupyter-widgets/controls",
      "model_module_version": "1.5.0",
      "model_name": "DropdownModel",
      "state": {
       "_options_labels": [
        "trunk",
        "leaf_new",
        "apex",
        "leaf_old"
       ],
       "index": 0,
       "layout": "IPY_MODEL_25d30d60259b4572b8731631d759ac9a",
       "style": "IPY_MODEL_0a200097686c4829bf34b9b3a60ec5a8"
      }
     },
     "73f23e73ddf440029997bd7411d5ebcb": {
      "model_module": "@jupyter-widgets/controls",
      "model_module_version": "1.5.0",
      "model_name": "HBoxModel",
      "state": {
       "children": [
        "IPY_MODEL_782bd34cf5564501951efef7290ab675",
        "IPY_MODEL_d3295221ce1f424ebee2f857573f74f6"
       ],
       "layout": "IPY_MODEL_a74963dac2344d5ab99396cfdd373704"
      }
     },
     "741f71d31ee4432f826a1a5983faff8b": {
      "model_module": "pgljupyter",
      "model_module_version": "^0.1.16",
      "model_name": "FloatEditorModel",
      "state": {
       "_model_module_version": "^0.1.16",
       "_view_module_version": "^0.1.16",
       "children": [
        "IPY_MODEL_161390ba99e04b138bc28fa9c249c180",
        "IPY_MODEL_203480e9c215468ea9ab336c23360aec",
        "IPY_MODEL_f6bd143eb72a4021a9ee1d0db9b45016",
        "IPY_MODEL_436612109cc345eab450803b93d883e8",
        "IPY_MODEL_9d12e0ef939e4807b6d9a006fce2d523"
       ],
       "layout": "IPY_MODEL_b763b1260b354b23ae6671768bc4a076"
      }
     },
     "742b7af996de41e68d2fba76c3bf71d8": {
      "model_module": "@jupyter-widgets/controls",
      "model_module_version": "1.5.0",
      "model_name": "ButtonStyleModel",
      "state": {}
     },
     "743b4d10e04e429daa73128e21f65475": {
      "model_module": "@jupyter-widgets/controls",
      "model_module_version": "1.5.0",
      "model_name": "BoundedIntTextModel",
      "state": {
       "description": "index",
       "layout": "IPY_MODEL_f3c024e88d6640b3b187291687dc790d",
       "style": "IPY_MODEL_2a3d358efbf34acb9c7a60be2b6f23ae",
       "value": 4
      }
     },
     "744795a86db044f098523c400f8e0b54": {
      "model_module": "@jupyter-widgets/controls",
      "model_module_version": "1.5.0",
      "model_name": "DropdownModel",
      "state": {
       "_options_labels": [
        "color_1",
        "color_2",
        "color_3",
        "color_4"
       ],
       "index": 0,
       "layout": "IPY_MODEL_b170506f70d34c96b69cc2e6cb10b936",
       "style": "IPY_MODEL_455df1ed61f5486cac7c517343725455"
      }
     },
     "745b3376562c41a59ce78b7fb72eac55": {
      "model_module": "@jupyter-widgets/controls",
      "model_module_version": "1.5.0",
      "model_name": "FloatSliderModel",
      "state": {
       "description": "shininess",
       "layout": "IPY_MODEL_2cf86b3c818d4ae9854cb7c3aba3e9e5",
       "max": 1,
       "step": 0.1,
       "style": "IPY_MODEL_cc14692e35cc4df3a41f6c4a0b9ab26e",
       "value": 0.2
      }
     },
     "746de6547f2f4d878ec09579509f5e7d": {
      "model_module": "@jupyter-widgets/controls",
      "model_module_version": "1.5.0",
      "model_name": "HBoxModel",
      "state": {
       "children": [
        "IPY_MODEL_2cebf6544aeb43e5867b20b905a27538",
        "IPY_MODEL_b5d23766ee1b4de98cd72e67ca0961f4"
       ],
       "layout": "IPY_MODEL_fdfa37b789c94f49849c21a3d2bec28a"
      }
     },
     "74bb39c50046421c8cf174ea8b853142": {
      "model_module": "@jupyter-widgets/controls",
      "model_module_version": "1.5.0",
      "model_name": "HBoxModel",
      "state": {
       "layout": "IPY_MODEL_8d56c586bca3464d8c5cb36ae761ba46"
      }
     },
     "74c752eed76b48ae90146bc27d79ccff": {
      "model_module": "@jupyter-widgets/base",
      "model_module_version": "1.2.0",
      "model_name": "LayoutModel",
      "state": {}
     },
     "74dde666b12e4ccdbc62eb47f41ed106": {
      "model_module": "@jupyter-widgets/controls",
      "model_module_version": "1.5.0",
      "model_name": "DescriptionStyleModel",
      "state": {
       "description_width": ""
      }
     },
     "7546d76713104ae7b74c0753c1993f60": {
      "model_module": "@jupyter-widgets/base",
      "model_module_version": "1.2.0",
      "model_name": "LayoutModel",
      "state": {}
     },
     "754a8ec29fb14d7087455060f4d25989": {
      "model_module": "@jupyter-widgets/controls",
      "model_module_version": "1.5.0",
      "model_name": "DescriptionStyleModel",
      "state": {
       "description_width": ""
      }
     },
     "754eef940be14d05ae2afa1c1b3f2e0d": {
      "model_module": "@jupyter-widgets/controls",
      "model_module_version": "1.5.0",
      "model_name": "HBoxModel",
      "state": {
       "layout": "IPY_MODEL_5ffcfabea4324e77ba7847c89942d8f5"
      }
     },
     "755c1c70762c49c99b070ee87d978fe3": {
      "model_module": "@jupyter-widgets/controls",
      "model_module_version": "1.5.0",
      "model_name": "ButtonModel",
      "state": {
       "description": "Delete category",
       "layout": "IPY_MODEL_2924304826be4bcbbec3dd2b0c517649",
       "style": "IPY_MODEL_bee6c3276d1d45d3afbfa6bbc7f3dac1"
      }
     },
     "7607d9a6764a4b5585e648fdb1289c55": {
      "model_module": "@jupyter-widgets/controls",
      "model_module_version": "1.5.0",
      "model_name": "HBoxModel",
      "state": {
       "children": [
        "IPY_MODEL_79313a604b5a4876b96188649d9844ed",
        "IPY_MODEL_8e07259218964759aa0e3756812d03d4",
        "IPY_MODEL_3e2965ac15734eacbe93346089045d2a",
        "IPY_MODEL_741f71d31ee4432f826a1a5983faff8b",
        "IPY_MODEL_26b2b92b694649c3b974782805831251"
       ],
       "layout": "IPY_MODEL_5a7768daa7114d36b770ea435fe36cec"
      }
     },
     "7617d72cccfc41a58f0f4a371a7c97e0": {
      "model_module": "@jupyter-widgets/base",
      "model_module_version": "1.2.0",
      "model_name": "LayoutModel",
      "state": {}
     },
     "761fbbca71f145a5969c4290b8309933": {
      "model_module": "@jupyter-widgets/base",
      "model_module_version": "1.2.0",
      "model_name": "LayoutModel",
      "state": {
       "margin": "20px 0px"
      }
     },
     "767069b5239041d1a94bed85e955db0b": {
      "model_module": "@jupyter-widgets/controls",
      "model_module_version": "1.5.0",
      "model_name": "HBoxModel",
      "state": {
       "children": [
        "IPY_MODEL_2b91b62c30f74a2d80349a21cd49380b",
        "IPY_MODEL_f142e994cc534a86867a64e2eda8db55"
       ],
       "layout": "IPY_MODEL_7e4f103663654092a3b6f3f18908d2a4"
      }
     },
     "768416184c784ccc90f3432b6d9b15da": {
      "model_module": "@jupyter-widgets/controls",
      "model_module_version": "1.5.0",
      "model_name": "DescriptionStyleModel",
      "state": {
       "description_width": ""
      }
     },
     "7684bf627af64c99a1beb3e9c3800d93": {
      "model_module": "@jupyter-widgets/base",
      "model_module_version": "1.2.0",
      "model_name": "LayoutModel",
      "state": {}
     },
     "76962f026cd343edbb2be1f47b259f8e": {
      "model_module": "@jupyter-widgets/controls",
      "model_module_version": "1.5.0",
      "model_name": "DropdownModel",
      "state": {
       "_options_labels": [
        "color_1",
        "color_2",
        "color_3",
        "color_4"
       ],
       "index": 0,
       "layout": "IPY_MODEL_41cc1db02ba64e62b40ee9b19a788ac1",
       "style": "IPY_MODEL_164bcfa6695d41c4828175244e8404ae"
      }
     },
     "769de7cf8d7e429d8f80a5713fb7ebfa": {
      "model_module": "@jupyter-widgets/base",
      "model_module_version": "1.2.0",
      "model_name": "LayoutModel",
      "state": {}
     },
     "76a7891c95b448d2af9b34121cc3d931": {
      "model_module": "@jupyter-widgets/controls",
      "model_module_version": "1.5.0",
      "model_name": "HBoxModel",
      "state": {
       "children": [
        "IPY_MODEL_c857186aabb743a182bad020b5b61e91"
       ],
       "layout": "IPY_MODEL_f84fb842bfdc4ca69b673ea45abcdf91"
      }
     },
     "76ebe3b2efb042b0b745b891af6193b3": {
      "model_module": "@jupyter-widgets/controls",
      "model_module_version": "1.5.0",
      "model_name": "DescriptionStyleModel",
      "state": {
       "description_width": ""
      }
     },
     "76fa5974fc594088898aeca9c0523cbd": {
      "model_module": "@jupyter-widgets/base",
      "model_module_version": "1.2.0",
      "model_name": "LayoutModel",
      "state": {}
     },
     "7712426c5f4b4063af82886fae09a405": {
      "model_module": "@jupyter-widgets/base",
      "model_module_version": "1.2.0",
      "model_name": "LayoutModel",
      "state": {}
     },
     "7740beb2c49f45218e9e7fa1fe1a8432": {
      "model_module": "@jupyter-widgets/base",
      "model_module_version": "1.2.0",
      "model_name": "LayoutModel",
      "state": {}
     },
     "77bb0a66c7374c4d92144e5900b028a0": {
      "model_module": "@jupyter-widgets/controls",
      "model_module_version": "1.5.0",
      "model_name": "HBoxModel",
      "state": {
       "children": [
        "IPY_MODEL_af76f68e255a49a9a097846d5b100896",
        "IPY_MODEL_93d66b3b8d5148e096acb7c3b08dcb94"
       ],
       "layout": "IPY_MODEL_78dff3c9b0ab4092885a4681b708b9c4"
      }
     },
     "77fc433d7ea240f0b05864afbc6f627a": {
      "model_module": "@jupyter-widgets/base",
      "model_module_version": "1.2.0",
      "model_name": "LayoutModel",
      "state": {
       "flex_flow": "row wrap"
      }
     },
     "7820f3eb666143e08c9689ceabf9f92e": {
      "model_module": "@jupyter-widgets/controls",
      "model_module_version": "1.5.0",
      "model_name": "ColorPickerModel",
      "state": {
       "description": "specular",
       "disabled": false,
       "layout": "IPY_MODEL_fb438b1cc1484336bb3533aa50de8e15",
       "style": "IPY_MODEL_38c72ff473424ad9bfe39cfda219b63e",
       "value": "#282828"
      }
     },
     "782bd34cf5564501951efef7290ab675": {
      "model_module": "@jupyter-widgets/controls",
      "model_module_version": "1.5.0",
      "model_name": "ButtonModel",
      "state": {
       "description": "Add",
       "layout": "IPY_MODEL_b896d4c5ba084261b9772c2ec6244463",
       "style": "IPY_MODEL_2d0c3904e1ae45eaa6ffc4291f335b1f"
      }
     },
     "7844922bdc964f79876f85b1d4fdf8b4": {
      "model_module": "@jupyter-widgets/controls",
      "model_module_version": "1.5.0",
      "model_name": "DescriptionStyleModel",
      "state": {
       "description_width": ""
      }
     },
     "7847f6e3bd894ee48f1555c248f27c90": {
      "model_module": "@jupyter-widgets/controls",
      "model_module_version": "1.5.0",
      "model_name": "DropdownModel",
      "state": {
       "_options_labels": [
        "Integer",
        "Float",
        "Bool"
       ],
       "index": 0,
       "layout": "IPY_MODEL_d35e87005bca48c5862abf4e837a1469",
       "style": "IPY_MODEL_3de3b034852b47c9a285b62f838b9986"
      }
     },
     "7854ff74524f4fe689ec29f12ee822fa": {
      "model_module": "@jupyter-widgets/controls",
      "model_module_version": "1.5.0",
      "model_name": "DescriptionStyleModel",
      "state": {
       "description_width": ""
      }
     },
     "7878f40721f94603b8bcdf02db2a6f8c": {
      "model_module": "@jupyter-widgets/controls",
      "model_module_version": "1.5.0",
      "model_name": "ButtonStyleModel",
      "state": {}
     },
     "7884a3eaafaf49dc94a54da2f8369143": {
      "model_module": "@jupyter-widgets/controls",
      "model_module_version": "1.5.0",
      "model_name": "ButtonModel",
      "state": {
       "description": "Save changes",
       "layout": "IPY_MODEL_10e49c1b087741ec82ee7a6b15af0af6",
       "style": "IPY_MODEL_1fecb403a3cb45fcb068b9e94cc7e044"
      }
     },
     "78a56862f5a740aaa2c18c802f594ae3": {
      "model_module": "@jupyter-widgets/controls",
      "model_module_version": "1.5.0",
      "model_name": "ButtonModel",
      "state": {
       "description": "Delete",
       "layout": "IPY_MODEL_e26b5a72c4804b45ac1297a1057354a5",
       "style": "IPY_MODEL_70551849ae9141f5a0454038fa931d31"
      }
     },
     "78dff3c9b0ab4092885a4681b708b9c4": {
      "model_module": "@jupyter-widgets/base",
      "model_module_version": "1.2.0",
      "model_name": "LayoutModel",
      "state": {
       "flex_flow": "row wrap",
       "margin": "20px"
      }
     },
     "78f64a9316a54addbb907fdb74325de3": {
      "model_module": "@jupyter-widgets/base",
      "model_module_version": "1.2.0",
      "model_name": "LayoutModel",
      "state": {}
     },
     "7929a2686ff24e638383a6c077619e2f": {
      "model_module": "@jupyter-widgets/base",
      "model_module_version": "1.2.0",
      "model_name": "LayoutModel",
      "state": {}
     },
     "79313a604b5a4876b96188649d9844ed": {
      "model_module": "pgljupyter",
      "model_module_version": "^0.1.16",
      "model_name": "IntEditorModel",
      "state": {
       "_model_module_version": "^0.1.16",
       "_view_module_version": "^0.1.16",
       "children": [
        "IPY_MODEL_5151e6200d794a008b1bd7d40fbc162c",
        "IPY_MODEL_240b06896b1447a29608ee2c0041a5bc",
        "IPY_MODEL_cd863832ae4f4c2a9fb4238d4fe72b7d",
        "IPY_MODEL_b233f15e47474a7198fb26deae803dcc",
        "IPY_MODEL_b4f90847a77b4195b5dc4d2c29806c64"
       ],
       "layout": "IPY_MODEL_f41ebca09dd94958b840510087992ffe"
      }
     },
     "794d157bf0ff435fa7c3c39274a2f7b7": {
      "model_module": "@jupyter-widgets/controls",
      "model_module_version": "1.5.0",
      "model_name": "DescriptionStyleModel",
      "state": {
       "description_width": ""
      }
     },
     "797b6487137c40879ec2abec33dc8535": {
      "model_module": "@jupyter-widgets/base",
      "model_module_version": "1.2.0",
      "model_name": "LayoutModel",
      "state": {}
     },
     "79cc09f67f094bd29d9ce3042a56b272": {
      "model_module": "@jupyter-widgets/base",
      "model_module_version": "1.2.0",
      "model_name": "LayoutModel",
      "state": {
       "flex_flow": "row wrap"
      }
     },
     "7a33b0c7ad914ade99bfb96985353f2e": {
      "model_module": "@jupyter-widgets/base",
      "model_module_version": "1.2.0",
      "model_name": "LayoutModel",
      "state": {}
     },
     "7a99d133c96c4e7bac722c58641e6bc6": {
      "model_module": "@jupyter-widgets/base",
      "model_module_version": "1.2.0",
      "model_name": "LayoutModel",
      "state": {}
     },
     "7aab530945c249e3a941d757c0ccee92": {
      "model_module": "@jupyter-widgets/controls",
      "model_module_version": "1.5.0",
      "model_name": "DropdownModel",
      "state": {
       "_options_labels": [
        "Color"
       ],
       "index": 0,
       "layout": "IPY_MODEL_908f4ca4949b494db14fc5156aab2cd9",
       "style": "IPY_MODEL_aef6b743295f42189e95981f47848542"
      }
     },
     "7ab21dc191f244d38e02875852ce1635": {
      "model_module": "@jupyter-widgets/base",
      "model_module_version": "1.2.0",
      "model_name": "LayoutModel",
      "state": {}
     },
     "7acb0757f3e34fd699c20c4cd8fc383f": {
      "model_module": "@jupyter-widgets/controls",
      "model_module_version": "1.5.0",
      "model_name": "DescriptionStyleModel",
      "state": {
       "description_width": ""
      }
     },
     "7adadb4124b24f179bc60882cf6ae00a": {
      "model_module": "@jupyter-widgets/base",
      "model_module_version": "1.2.0",
      "model_name": "LayoutModel",
      "state": {}
     },
     "7ae3718b0ae34394a27bdb7f6b8e878f": {
      "model_module": "@jupyter-widgets/controls",
      "model_module_version": "1.5.0",
      "model_name": "SliderStyleModel",
      "state": {
       "description_width": ""
      }
     },
     "7b1a55ba2ac3453b99b92e17130c6a1e": {
      "model_module": "@jupyter-widgets/base",
      "model_module_version": "1.2.0",
      "model_name": "LayoutModel",
      "state": {}
     },
     "7b1f4521fe574a5e82c85c51dbb7d298": {
      "model_module": "pgljupyter",
      "model_module_version": "^0.1.21",
      "model_name": "FloatEditorModel",
      "state": {
       "_model_module_version": "^0.1.21",
       "_view_module_version": "^0.1.21",
       "children": [
        "IPY_MODEL_99a8e99bf57142b881b83b3908b78915",
        "IPY_MODEL_51920d8d6d7c4da288410f94a97533ff"
       ],
       "layout": "IPY_MODEL_ea2eda2ed0bb482faa1ed22e03e210b0"
      }
     },
     "7b26c458dc7d4deba33285df9fe694dc": {
      "model_module": "@jupyter-widgets/controls",
      "model_module_version": "1.5.0",
      "model_name": "HBoxModel",
      "state": {
       "children": [
        "IPY_MODEL_727da00b96284e60887f830c92663006",
        "IPY_MODEL_0c3bbdec026d428494f07dd37de034a8",
        "IPY_MODEL_2bc9612a3671413583aacf103d7434c3"
       ],
       "layout": "IPY_MODEL_f5d36d54332540779b373371ce91389e"
      }
     },
     "7b34d047a75145ef93c9d2ba934f66f1": {
      "model_module": "@jupyter-widgets/base",
      "model_module_version": "1.2.0",
      "model_name": "LayoutModel",
      "state": {}
     },
     "7b4693667f2d4338a8c79a9c6641cc55": {
      "model_module": "@jupyter-widgets/base",
      "model_module_version": "1.2.0",
      "model_name": "LayoutModel",
      "state": {}
     },
     "7b502ee9562a44e597515087db33b653": {
      "model_module": "@jupyter-widgets/controls",
      "model_module_version": "1.5.0",
      "model_name": "DropdownModel",
      "state": {
       "index": null,
       "layout": "IPY_MODEL_43a396464ca047eb82af9b0128d1a7b9",
       "style": "IPY_MODEL_fd08b70fb3e142cb98e6e66d7a86f160"
      }
     },
     "7b56ea7a659047479a11f64be222d2ea": {
      "model_module": "@jupyter-widgets/controls",
      "model_module_version": "1.5.0",
      "model_name": "FloatSliderModel",
      "state": {
       "description": "shininess",
       "layout": "IPY_MODEL_5d6b91526f5c4f069888276c86e31117",
       "max": 1,
       "step": 0.1,
       "style": "IPY_MODEL_1fac97fbb78942428b45f4a29eff0181",
       "value": 0.2
      }
     },
     "7b577b3b68b746a29a5e6e041152e745": {
      "model_module": "@jupyter-widgets/controls",
      "model_module_version": "1.5.0",
      "model_name": "SliderStyleModel",
      "state": {
       "description_width": ""
      }
     },
     "7b9e45d54fb2440c8e5f7a9a8b7f932b": {
      "model_module": "@jupyter-widgets/controls",
      "model_module_version": "1.5.0",
      "model_name": "DescriptionStyleModel",
      "state": {
       "description_width": ""
      }
     },
     "7bcbf2c5d38b4c07bfe83a6b2a477e24": {
      "model_module": "@jupyter-widgets/base",
      "model_module_version": "1.2.0",
      "model_name": "LayoutModel",
      "state": {}
     },
     "7bd0ba7ae13849c1a3991f5c1fc76a3f": {
      "model_module": "@jupyter-widgets/controls",
      "model_module_version": "1.5.0",
      "model_name": "DescriptionStyleModel",
      "state": {
       "description_width": ""
      }
     },
     "7be0e86f808844688593b2ba1a25b20d": {
      "model_module": "@jupyter-widgets/controls",
      "model_module_version": "1.5.0",
      "model_name": "DescriptionStyleModel",
      "state": {
       "description_width": ""
      }
     },
     "7c0c38291061419390dbeba93ef4ef19": {
      "model_module": "@jupyter-widgets/controls",
      "model_module_version": "1.5.0",
      "model_name": "BoundedIntTextModel",
      "state": {
       "description": "index",
       "layout": "IPY_MODEL_fef2dad388044251aeb285ace627b9c7",
       "style": "IPY_MODEL_0dd2e4883c6742ebb5b505b2aecc37c1",
       "value": 4
      }
     },
     "7c1611d1648a473b93d3600459b16a6f": {
      "model_module": "@jupyter-widgets/base",
      "model_module_version": "1.2.0",
      "model_name": "LayoutModel",
      "state": {}
     },
     "7c17c74742454474b761cde4913067d3": {
      "model_module": "@jupyter-widgets/base",
      "model_module_version": "1.2.0",
      "model_name": "LayoutModel",
      "state": {}
     },
     "7c3d32abecd84c22aa8e83abca17afd6": {
      "model_module": "@jupyter-widgets/base",
      "model_module_version": "1.2.0",
      "model_name": "LayoutModel",
      "state": {
       "margin": "20px 0px"
      }
     },
     "7c495f80dfa7400dbddaade48310293e": {
      "model_module": "@jupyter-widgets/base",
      "model_module_version": "1.2.0",
      "model_name": "LayoutModel",
      "state": {}
     },
     "7c4db97ead9f439e8fe449d24de9b82d": {
      "model_module": "@jupyter-widgets/controls",
      "model_module_version": "1.5.0",
      "model_name": "DescriptionStyleModel",
      "state": {
       "description_width": ""
      }
     },
     "7c6bc321cc134eba81eea73eeb840f28": {
      "model_module": "@jupyter-widgets/base",
      "model_module_version": "1.2.0",
      "model_name": "LayoutModel",
      "state": {}
     },
     "7c7176c2637047769f684c2d030b2393": {
      "model_module": "@jupyter-widgets/controls",
      "model_module_version": "1.5.0",
      "model_name": "ButtonModel",
      "state": {
       "description": "Add",
       "layout": "IPY_MODEL_28ac8517ff6543888b7ae35a5a88a964",
       "style": "IPY_MODEL_33a25a7f6c774d99a2ad689dcc5a28a6"
      }
     },
     "7c750cbcded74037bf60b8b54b2a479b": {
      "model_module": "@jupyter-widgets/controls",
      "model_module_version": "1.5.0",
      "model_name": "HBoxModel",
      "state": {
       "children": [
        "IPY_MODEL_9312767b442f47bc9228a5a34c6c8271",
        "IPY_MODEL_007b8ebb7e7d4caaad2e0c237439f3d5"
       ],
       "layout": "IPY_MODEL_11c371c9845b4b36a2e2cf814146ef9b"
      }
     },
     "7c9ff33ce6ef4aa9ac024f1cf91f4faf": {
      "model_module": "pgljupyter",
      "model_module_version": "^0.1.21",
      "model_name": "MaterialEditorModel",
      "state": {
       "_model_module_version": "^0.1.21",
       "_view_module_version": "^0.1.21",
       "children": [
        "IPY_MODEL_f600a6ae2e384964b8cef48223b138d5",
        "IPY_MODEL_de4816681729453fbf133b79ff9974ac",
        "IPY_MODEL_f4f80c8cf6b444139f0df44cf6b171cc",
        "IPY_MODEL_c3c827131f134d53a63ac1630295a9db",
        "IPY_MODEL_3b6e5ecfd1944c16b6776d9fc68b197f",
        "IPY_MODEL_c1a7e756fd674170a661ab6dcc62f7a9",
        "IPY_MODEL_85903b91b9dd494fbb3a0709f0684652",
        "IPY_MODEL_c874010bc6f24cc38736c49375396273"
       ],
       "layout": "IPY_MODEL_33370c23f7f94edbae64929f7be4a58c"
      }
     },
     "7ca3a8c138b64f70941125a4b01033f9": {
      "model_module": "@jupyter-widgets/base",
      "model_module_version": "1.2.0",
      "model_name": "LayoutModel",
      "state": {}
     },
     "7cdabb93fcbc40419bf289a63174c418": {
      "model_module": "@jupyter-widgets/controls",
      "model_module_version": "1.5.0",
      "model_name": "HBoxModel",
      "state": {
       "children": [
        "IPY_MODEL_a1906644e02d4f33ae8f642c8841461f",
        "IPY_MODEL_930ad9faa5584ea6b9760fd12a63f4ea"
       ],
       "layout": "IPY_MODEL_f2cedfd93f164c5997b034682b7dd6d1"
      }
     },
     "7cf3624548d34c2082dbac79e56a76bf": {
      "model_module": "@jupyter-widgets/controls",
      "model_module_version": "1.5.0",
      "model_name": "DescriptionStyleModel",
      "state": {
       "description_width": ""
      }
     },
     "7d00e5b6fac64279ab76b336056511c0": {
      "model_module": "pgljupyter",
      "model_module_version": "^0.1.16",
      "model_name": "MaterialEditorModel",
      "state": {
       "_model_module_version": "^0.1.16",
       "_view_module_version": "^0.1.16",
       "children": [
        "IPY_MODEL_5fe590f048484a3ba28067befd41b28a",
        "IPY_MODEL_26dd1eed428440a1bb6365baf44e75c4",
        "IPY_MODEL_6fd19ee64db44d74845df2372b542b69",
        "IPY_MODEL_280f5706c53c48bd96c1f0c3b5a82955",
        "IPY_MODEL_c11321e762b3422997689f94db4a71c8",
        "IPY_MODEL_ebe128ea294142459765d6098ca68e1a",
        "IPY_MODEL_8f0d237bd2814cfa98534d804a75bd38",
        "IPY_MODEL_2da2625474d444a4a745acca04a53c1f"
       ],
       "layout": "IPY_MODEL_b7eb7c1fbc2c4fbab9ae3ae154813316"
      }
     },
     "7d0e2b7c25dc4c5799f79fba3304581d": {
      "model_module": "@jupyter-widgets/controls",
      "model_module_version": "1.5.0",
      "model_name": "FloatSliderModel",
      "state": {
       "description": "diffuse",
       "layout": "IPY_MODEL_0f0d4a7590e043609aea67d90c471282",
       "max": 3,
       "step": 0.1,
       "style": "IPY_MODEL_ed4b23b4eff1497396c94a783926d260",
       "value": 1
      }
     },
     "7d2e845e73b1485f8bc25daf4a45ab0a": {
      "model_module": "@jupyter-widgets/controls",
      "model_module_version": "1.5.0",
      "model_name": "FloatSliderModel",
      "state": {
       "continuous_update": false,
       "description": "transparency",
       "layout": "IPY_MODEL_acc97d84a9664d0c9e91d402a7ed8664",
       "max": 1,
       "step": 0.1,
       "style": "IPY_MODEL_af4f5f203b3a4a908b181abbdacbe8ab"
      }
     },
     "7d4841eb52e849b792078e35434add1c": {
      "model_module": "@jupyter-widgets/base",
      "model_module_version": "1.2.0",
      "model_name": "LayoutModel",
      "state": {}
     },
     "7d638b1bb84145df842f1629b3b977bb": {
      "model_module": "@jupyter-widgets/base",
      "model_module_version": "1.2.0",
      "model_name": "LayoutModel",
      "state": {
       "flex_flow": "row wrap"
      }
     },
     "7d8071eaf7bf4f66bad90564ee5855bb": {
      "model_module": "pgljupyter",
      "model_module_version": "^0.1.19",
      "model_name": "IntEditorModel",
      "state": {
       "_model_module_version": "^0.1.19",
       "_view_module_version": "^0.1.19",
       "children": [
        "IPY_MODEL_ae6fd33e7b08418d94791d38e5190ea4",
        "IPY_MODEL_d3d0321f778b46a983a5df14ef76dfa1"
       ],
       "layout": "IPY_MODEL_a4778b701d8d479488af98ccfba9a85d"
      }
     },
     "7d994118bafc4c709d4e82c6555c0cdf": {
      "model_module": "@jupyter-widgets/controls",
      "model_module_version": "1.5.0",
      "model_name": "ButtonModel",
      "state": {
       "description": "Delete category",
       "layout": "IPY_MODEL_0a5f03bd97534a8ca13154d454ca0303",
       "style": "IPY_MODEL_3b3e23c52c034fbba7d416e65c71d04a"
      }
     },
     "7dc232b7e4a7477b98bda8c99e3b8692": {
      "model_module": "@jupyter-widgets/controls",
      "model_module_version": "1.5.0",
      "model_name": "DescriptionStyleModel",
      "state": {
       "description_width": ""
      }
     },
     "7df5c0ee266b450db5777d1e698953b4": {
      "model_module": "@jupyter-widgets/controls",
      "model_module_version": "1.5.0",
      "model_name": "ColorPickerModel",
      "state": {
       "description": "emission",
       "disabled": false,
       "layout": "IPY_MODEL_0334631308f04e7f9b0a5109546e80e5",
       "style": "IPY_MODEL_93982537a3414c03934ba0943cc75f50",
       "value": "#000000"
      }
     },
     "7e1a9142f68a44bb85b87c9ed44b26f9": {
      "model_module": "@jupyter-widgets/base",
      "model_module_version": "1.2.0",
      "model_name": "LayoutModel",
      "state": {}
     },
     "7e4f103663654092a3b6f3f18908d2a4": {
      "model_module": "@jupyter-widgets/base",
      "model_module_version": "1.2.0",
      "model_name": "LayoutModel",
      "state": {
       "flex_flow": "row wrap",
       "margin": "20px"
      }
     },
     "7e68dfe58d664750b2bb1842543ce27f": {
      "model_module": "@jupyter-widgets/controls",
      "model_module_version": "1.5.0",
      "model_name": "DescriptionStyleModel",
      "state": {
       "description_width": ""
      }
     },
     "7e6af95120bf4e8eab6ad088d08bf589": {
      "model_module": "@jupyter-widgets/base",
      "model_module_version": "1.2.0",
      "model_name": "LayoutModel",
      "state": {}
     },
     "7eb67cc5e07d4226b2341c889e12afdc": {
      "model_module": "pgljupyter",
      "model_module_version": "^0.1.21",
      "model_name": "FloatEditorModel",
      "state": {
       "_model_module_version": "^0.1.21",
       "_view_module_version": "^0.1.21",
       "children": [
        "IPY_MODEL_3969e43bd2ff40cd9083e491f4ee8a61",
        "IPY_MODEL_20e00e78d72c45a192c02ce598d26a33"
       ],
       "layout": "IPY_MODEL_6f100fcdb69247f5bfc0c8803ddbae68"
      }
     },
     "7ec9db9a54454f7cb858727c3b9c3b2c": {
      "model_module": "@jupyter-widgets/controls",
      "model_module_version": "1.5.0",
      "model_name": "FloatSliderModel",
      "state": {
       "description": "shininess",
       "layout": "IPY_MODEL_8fa2131f64aa4931a8055494da690356",
       "max": 1,
       "step": 0.1,
       "style": "IPY_MODEL_54d1e2ab11364b3286e48fbc06e2c9dc",
       "value": 0.2
      }
     },
     "7ee5793271fa419b8cf938c7cdd42829": {
      "model_module": "@jupyter-widgets/controls",
      "model_module_version": "1.5.0",
      "model_name": "DescriptionStyleModel",
      "state": {
       "description_width": ""
      }
     },
     "7f20014dd702433aad34bf992652d5b2": {
      "model_module": "@jupyter-widgets/controls",
      "model_module_version": "1.5.0",
      "model_name": "DropdownModel",
      "state": {
       "_options_labels": [
        "NurbsCurve2D",
        "BezierCurve2D",
        "Polyline2D",
        "Function"
       ],
       "index": 0,
       "layout": "IPY_MODEL_0514c99c868447989415c25ff4d7162a",
       "style": "IPY_MODEL_4d1b7f47fb8742fc8f79ea08ede8715b"
      }
     },
     "7f28069d37a34840971aedd32085c8f9": {
      "model_module": "@jupyter-widgets/controls",
      "model_module_version": "1.5.0",
      "model_name": "DropdownModel",
      "state": {
       "_options_labels": [
        "NurbsCurve2D",
        "BezierCurve2D",
        "Polyline2D",
        "Function"
       ],
       "index": 0,
       "layout": "IPY_MODEL_4f2e7e2a7b8a4fccaec815c1a8349f02",
       "style": "IPY_MODEL_0cf1ba00ad3c4151acf3b5aaf9391ece"
      }
     },
     "7f4e36825ae64c65830760a42614b069": {
      "model_module": "@jupyter-widgets/controls",
      "model_module_version": "1.5.0",
      "model_name": "IntSliderModel",
      "state": {
       "description": "value",
       "layout": "IPY_MODEL_f786377f3c8f4c4db4d47255efae9e90",
       "max": 10,
       "min": 1,
       "style": "IPY_MODEL_ffe3a14526fc4001b47eb439d2875e4a",
       "value": 2
      }
     },
     "7fa3fc5095444041b8bf59eb82ee0f1b": {
      "model_module": "@jupyter-widgets/controls",
      "model_module_version": "1.5.0",
      "model_name": "HBoxModel",
      "state": {
       "children": [
        "IPY_MODEL_da13191a83f844c595b3cff32e04df31",
        "IPY_MODEL_044e7d5484c34640988858fe96fcfdd6"
       ],
       "layout": "IPY_MODEL_57495b8ed5ac4554811c23e6cec15699"
      }
     },
     "7fe6db45180c4a278bb47c95f2296790": {
      "model_module": "@jupyter-widgets/controls",
      "model_module_version": "1.5.0",
      "model_name": "DescriptionStyleModel",
      "state": {
       "description_width": ""
      }
     },
     "7ff69b0f459c406da1dcf1b6b9ea1d85": {
      "model_module": "@jupyter-widgets/controls",
      "model_module_version": "1.5.0",
      "model_name": "SliderStyleModel",
      "state": {
       "description_width": ""
      }
     },
     "8012ed3ed86e4af7aa93a0d0174addd1": {
      "model_module": "@jupyter-widgets/controls",
      "model_module_version": "1.5.0",
      "model_name": "FloatSliderModel",
      "state": {
       "description": "diffuse",
       "layout": "IPY_MODEL_cb8ca0e6e0eb421686668ef1c62fece3",
       "max": 3,
       "step": 0.1,
       "style": "IPY_MODEL_dc53693171ca4e6f859008d9f7934f2e",
       "value": 1
      }
     },
     "801c820f9e6246b9b3ed03e09a503e66": {
      "model_module": "@jupyter-widgets/base",
      "model_module_version": "1.2.0",
      "model_name": "LayoutModel",
      "state": {}
     },
     "801c8a29e9dd44cb8eb5afda3eb484c0": {
      "model_module": "@jupyter-widgets/controls",
      "model_module_version": "1.5.0",
      "model_name": "ButtonModel",
      "state": {
       "description": "Add",
       "layout": "IPY_MODEL_0591c8acf0eb4465b794ad9f2b0d4eaf",
       "style": "IPY_MODEL_2f51d20deae646bdaa692fb60662aa04"
      }
     },
     "801c9757e2284ae99ecc9a5a8bffc9da": {
      "model_module": "@jupyter-widgets/controls",
      "model_module_version": "1.5.0",
      "model_name": "DescriptionStyleModel",
      "state": {
       "description_width": ""
      }
     },
     "80301650537045819e119da69d2e1eaf": {
      "model_module": "@jupyter-widgets/controls",
      "model_module_version": "1.5.0",
      "model_name": "ColorPickerModel",
      "state": {
       "description": "ambient",
       "disabled": false,
       "layout": "IPY_MODEL_0c7c19e5f2d64c77816e00b8b2cd8eea",
       "style": "IPY_MODEL_8d847dba13ab4694a1ab9e4baa5b388d",
       "value": "#0fc4db"
      }
     },
     "80486992e7b749219293ac12cc88f982": {
      "model_module": "@jupyter-widgets/controls",
      "model_module_version": "1.5.0",
      "model_name": "DescriptionStyleModel",
      "state": {
       "description_width": ""
      }
     },
     "809eaaa517c44dacbd10399efe1c86c8": {
      "model_module": "@jupyter-widgets/controls",
      "model_module_version": "1.5.0",
      "model_name": "HBoxModel",
      "state": {
       "children": [
        "IPY_MODEL_5917a07df85e4f07849b2dc44475a30a"
       ],
       "layout": "IPY_MODEL_78dff3c9b0ab4092885a4681b708b9c4"
      }
     },
     "80b56e6d76c34f719488204e0bf1de2d": {
      "model_module": "@jupyter-widgets/base",
      "model_module_version": "1.2.0",
      "model_name": "LayoutModel",
      "state": {
       "margin": "20px 0px"
      }
     },
     "80e9653aa5df4aec98e4b796abfbd551": {
      "model_module": "@jupyter-widgets/base",
      "model_module_version": "1.2.0",
      "model_name": "LayoutModel",
      "state": {}
     },
     "80efb8f4c6684f20b4c989fce0774f42": {
      "model_module": "@jupyter-widgets/base",
      "model_module_version": "1.2.0",
      "model_name": "LayoutModel",
      "state": {}
     },
     "814dac1493d8493abe1be47f92709960": {
      "model_module": "@jupyter-widgets/base",
      "model_module_version": "1.2.0",
      "model_name": "LayoutModel",
      "state": {}
     },
     "81614fbd057b49b38cf6c260521fd79e": {
      "model_module": "@jupyter-widgets/controls",
      "model_module_version": "1.5.0",
      "model_name": "DescriptionStyleModel",
      "state": {
       "description_width": ""
      }
     },
     "81b18d0fb7524952b85175ffd2632d16": {
      "model_module": "@jupyter-widgets/base",
      "model_module_version": "1.2.0",
      "model_name": "LayoutModel",
      "state": {}
     },
     "81cddc7ae49e4648a2c274c8e34674fa": {
      "model_module": "@jupyter-widgets/controls",
      "model_module_version": "1.5.0",
      "model_name": "TextModel",
      "state": {
       "layout": "IPY_MODEL_c68f788cbf434b1b86545d771587773e",
       "placeholder": "category name",
       "style": "IPY_MODEL_f0d18c7a33314b93b6a2c556090ad031"
      }
     },
     "82321aeab55d4ce7b6539f3d6b31b441": {
      "model_module": "@jupyter-widgets/controls",
      "model_module_version": "1.5.0",
      "model_name": "ButtonModel",
      "state": {
       "description": "Save changes",
       "layout": "IPY_MODEL_aa7970d024354752a90a19d52ffb4ba6",
       "style": "IPY_MODEL_85eb508330e2453aa477fcf14a6e834d"
      }
     },
     "8249d03607ce403b941353f80011ee8b": {
      "model_module": "@jupyter-widgets/controls",
      "model_module_version": "1.5.0",
      "model_name": "DescriptionStyleModel",
      "state": {
       "description_width": ""
      }
     },
     "826dcf09a36b44db93daf5f8ada9b810": {
      "model_module": "pgljupyter",
      "model_module_version": "^0.2.0",
      "model_name": "IntEditorModel",
      "state": {
       "_model_module_version": "^0.2.0",
       "_view_module_version": "^0.2.0",
       "children": [
        "IPY_MODEL_1275eb348c0a4e6db6b624f9b0a3b83c",
        "IPY_MODEL_22cd6b280ddd41f3b8849de884f36712"
       ],
       "layout": "IPY_MODEL_325f707370a740838e0eb29d03bfca53"
      }
     },
     "8278afc954514651bbf571d8a24293c1": {
      "model_module": "@jupyter-widgets/controls",
      "model_module_version": "1.5.0",
      "model_name": "DescriptionStyleModel",
      "state": {
       "description_width": ""
      }
     },
     "8283081be3d348eea1bc8c13afea1b04": {
      "model_module": "@jupyter-widgets/controls",
      "model_module_version": "1.5.0",
      "model_name": "DescriptionStyleModel",
      "state": {
       "description_width": ""
      }
     },
     "828d3e3e411644a9b5c4e0826dfbbe20": {
      "model_module": "@jupyter-widgets/controls",
      "model_module_version": "1.5.0",
      "model_name": "FloatSliderModel",
      "state": {
       "continuous_update": false,
       "description": "transparency",
       "layout": "IPY_MODEL_fc52cb14eb6140eea012a400a4676ee5",
       "max": 1,
       "step": 0.1,
       "style": "IPY_MODEL_e0548aa1706343c780e3f535a8579f70"
      }
     },
     "8299462a02d34ce7a919b316de08ed30": {
      "model_module": "@jupyter-widgets/base",
      "model_module_version": "1.2.0",
      "model_name": "LayoutModel",
      "state": {}
     },
     "829e9c1e2c174d779a805f9e3886a3a5": {
      "model_module": "@jupyter-widgets/base",
      "model_module_version": "1.2.0",
      "model_name": "LayoutModel",
      "state": {}
     },
     "82af52da979c4a56a699978b44bb9fb5": {
      "model_module": "@jupyter-widgets/base",
      "model_module_version": "1.2.0",
      "model_name": "LayoutModel",
      "state": {}
     },
     "82e2fd1b3d93436b87d96fe4772c750c": {
      "model_module": "@jupyter-widgets/base",
      "model_module_version": "1.2.0",
      "model_name": "LayoutModel",
      "state": {}
     },
     "82ee84b51f34452cb28a4d5fbd6a6bec": {
      "model_module": "@jupyter-widgets/base",
      "model_module_version": "1.2.0",
      "model_name": "LayoutModel",
      "state": {}
     },
     "8345834e21f741efb76cf84afc82297c": {
      "model_module": "@jupyter-widgets/controls",
      "model_module_version": "1.5.0",
      "model_name": "SliderStyleModel",
      "state": {
       "description_width": ""
      }
     },
     "837f5389dc8e4059a6ec5a95193f8e96": {
      "model_module": "@jupyter-widgets/controls",
      "model_module_version": "1.5.0",
      "model_name": "DescriptionStyleModel",
      "state": {
       "description_width": ""
      }
     },
     "8385988dc1324faabaa3e51b770405fa": {
      "model_module": "@jupyter-widgets/controls",
      "model_module_version": "1.5.0",
      "model_name": "ButtonStyleModel",
      "state": {}
     },
     "838c2e96b44f4e398b804eaa39f05912": {
      "model_module": "@jupyter-widgets/controls",
      "model_module_version": "1.5.0",
      "model_name": "HBoxModel",
      "state": {
       "children": [
        "IPY_MODEL_02a0a641a80b42a6abd95b43fd404dce",
        "IPY_MODEL_6ff5f5b575424b1aadc6de709ae0596e"
       ],
       "layout": "IPY_MODEL_f84fb842bfdc4ca69b673ea45abcdf91"
      }
     },
     "83a4686453db4032b8b41676af2640e3": {
      "model_module": "@jupyter-widgets/controls",
      "model_module_version": "1.5.0",
      "model_name": "DescriptionStyleModel",
      "state": {
       "description_width": ""
      }
     },
     "83a6e5298a59417faf5cae364d0e23e8": {
      "model_module": "@jupyter-widgets/controls",
      "model_module_version": "1.5.0",
      "model_name": "SliderStyleModel",
      "state": {
       "description_width": ""
      }
     },
     "83a85ac4e24a46dcb16123312e23679a": {
      "model_module": "@jupyter-widgets/controls",
      "model_module_version": "1.5.0",
      "model_name": "DescriptionStyleModel",
      "state": {
       "description_width": ""
      }
     },
     "83b3943961434027b9a8d49bdef39171": {
      "model_module": "pgljupyter",
      "model_module_version": "^0.1.21",
      "model_name": "MaterialEditorModel",
      "state": {
       "_model_module_version": "^0.1.21",
       "_view_module_version": "^0.1.21",
       "children": [
        "IPY_MODEL_ce0fb06d58634cb9b41ec68d1e1dc70d",
        "IPY_MODEL_b4468c2736f440b4bd4d58112d80f1f3",
        "IPY_MODEL_be34e970bcfe4196ae35d41580213f9a",
        "IPY_MODEL_a14d2f25db9a4ee09e33307c1cc7015b",
        "IPY_MODEL_fe1ca6c5f8b149d586fe37d3f4c8d5df",
        "IPY_MODEL_af3d20d491c44d098b64367717540ebe",
        "IPY_MODEL_b0587fd4b5de40ff83b94fd445197b2a",
        "IPY_MODEL_745b3376562c41a59ce78b7fb72eac55"
       ],
       "layout": "IPY_MODEL_65cb7b1023ae4f4aae41fd3b1473e716"
      }
     },
     "83cb5d93b13c4d38906e44f6111942f3": {
      "model_module": "@jupyter-widgets/controls",
      "model_module_version": "1.5.0",
      "model_name": "DescriptionStyleModel",
      "state": {
       "description_width": ""
      }
     },
     "83cf2697568b4f3fa8e2fa044d788093": {
      "model_module": "@jupyter-widgets/controls",
      "model_module_version": "1.5.0",
      "model_name": "DescriptionStyleModel",
      "state": {
       "description_width": ""
      }
     },
     "83d1112a98b24ad985e153a4de2805d3": {
      "model_module": "@jupyter-widgets/base",
      "model_module_version": "1.2.0",
      "model_name": "LayoutModel",
      "state": {}
     },
     "83eb13eb355a4ed79a83c524a5fe5344": {
      "model_module": "@jupyter-widgets/controls",
      "model_module_version": "1.5.0",
      "model_name": "SliderStyleModel",
      "state": {
       "description_width": ""
      }
     },
     "83ef4ea6f520490ea97b0fec684c68ff": {
      "model_module": "@jupyter-widgets/base",
      "model_module_version": "1.2.0",
      "model_name": "LayoutModel",
      "state": {}
     },
     "83f82817d8894598b39eea4838260197": {
      "model_module": "@jupyter-widgets/controls",
      "model_module_version": "1.5.0",
      "model_name": "ButtonModel",
      "state": {
       "description": "Add category",
       "layout": "IPY_MODEL_0c8a2a58cf5a4f328c2bf47875084bee",
       "style": "IPY_MODEL_6be8b624abb24c98af91054c27cba856"
      }
     },
     "83ffa7e6fb914aec8162938aaf8fbf5d": {
      "model_module": "@jupyter-widgets/controls",
      "model_module_version": "1.5.0",
      "model_name": "HBoxModel",
      "state": {
       "children": [
        "IPY_MODEL_578fb4eed7ef4f93987a87d21a5b0d9f",
        "IPY_MODEL_38e8fc2ebd144c09b3718418fd4d321e",
        "IPY_MODEL_31732b3ef50740ba848f6bc135cf9542"
       ],
       "layout": "IPY_MODEL_40f1350ba3a44edfae82ea6bfb8f5198"
      }
     },
     "841666774d4c43d9ae6d7eaf452a6732": {
      "model_module": "@jupyter-widgets/controls",
      "model_module_version": "1.5.0",
      "model_name": "DescriptionStyleModel",
      "state": {
       "description_width": ""
      }
     },
     "84167ac2f5b54a72a1dcecd5e7898942": {
      "model_module": "@jupyter-widgets/controls",
      "model_module_version": "1.5.0",
      "model_name": "SliderStyleModel",
      "state": {
       "description_width": ""
      }
     },
     "8428793621cc40e99f94653249403223": {
      "model_module": "@jupyter-widgets/controls",
      "model_module_version": "1.5.0",
      "model_name": "FloatSliderModel",
      "state": {
       "description": "transparency",
       "layout": "IPY_MODEL_ad3d079ffbc74588a5348a5d3706dafd",
       "max": 1,
       "step": 0.1,
       "style": "IPY_MODEL_93dfc5ebdc024eacb5219441abe21f32"
      }
     },
     "844d30039767419a89704c52fe806d6c": {
      "model_module": "@jupyter-widgets/base",
      "model_module_version": "1.2.0",
      "model_name": "LayoutModel",
      "state": {}
     },
     "846dacb512d34d31960acd0764831033": {
      "model_module": "@jupyter-widgets/controls",
      "model_module_version": "1.5.0",
      "model_name": "DescriptionStyleModel",
      "state": {
       "description_width": ""
      }
     },
     "849c2ebb88204ff3a3491bcf597bb0c2": {
      "model_module": "@jupyter-widgets/controls",
      "model_module_version": "1.5.0",
      "model_name": "DescriptionStyleModel",
      "state": {
       "description_width": ""
      }
     },
     "84c796b6ce3746e1aafccca2c6759aac": {
      "model_module": "@jupyter-widgets/base",
      "model_module_version": "1.2.0",
      "model_name": "LayoutModel",
      "state": {}
     },
     "8509fa5265184f5db62a735f298cb753": {
      "model_module": "@jupyter-widgets/controls",
      "model_module_version": "1.5.0",
      "model_name": "HBoxModel",
      "state": {
       "children": [
        "IPY_MODEL_13011f0d15864a1ba3f2543ade23483a",
        "IPY_MODEL_5c0d7f4b7f914f719c8266137f7d0017"
       ],
       "layout": "IPY_MODEL_4d61064357674c97bb169c5602e69545"
      }
     },
     "850aea0efb99435baa77c0a116afa497": {
      "model_module": "@jupyter-widgets/controls",
      "model_module_version": "1.5.0",
      "model_name": "FloatSliderModel",
      "state": {
       "description": "transparency",
       "layout": "IPY_MODEL_498f774db8944cf9acb68dfb080f9434",
       "max": 1,
       "step": 0.1,
       "style": "IPY_MODEL_83a6e5298a59417faf5cae364d0e23e8"
      }
     },
     "8518727b6ec245b1946e9a567ad7db89": {
      "model_module": "@jupyter-widgets/controls",
      "model_module_version": "1.5.0",
      "model_name": "ButtonModel",
      "state": {
       "description": "Delete category",
       "layout": "IPY_MODEL_d3c8eaeaa4374bc98c5ce17157ddbceb",
       "style": "IPY_MODEL_ad50679b7e994d5493d14f7e8f237201"
      }
     },
     "8526b634b49f4f3dbb3f18145fa06a71": {
      "model_module": "@jupyter-widgets/base",
      "model_module_version": "1.2.0",
      "model_name": "LayoutModel",
      "state": {
       "margin": "20px 0px"
      }
     },
     "8537d8915e4e42dbaa546751f3ccd759": {
      "model_module": "@jupyter-widgets/controls",
      "model_module_version": "1.5.0",
      "model_name": "DescriptionStyleModel",
      "state": {
       "description_width": ""
      }
     },
     "855e56574bc4405fb85a9d92a7326cfa": {
      "model_module": "@jupyter-widgets/controls",
      "model_module_version": "1.5.0",
      "model_name": "AccordionModel",
      "state": {
       "_titles": {
        "0": "materials",
        "1": "leaf",
        "2": "trunk & branches"
       },
       "children": [
        "IPY_MODEL_390ec84636c54a9186e42f79fc5c39a9",
        "IPY_MODEL_b97cf4f067b743d2b430bd97bc89e312",
        "IPY_MODEL_200e396776fd4859b251083ea338dbc3"
       ],
       "layout": "IPY_MODEL_92745359b08f4ccb920907d11ee886b9"
      }
     },
     "856cb4dc10fd40959afd4f2ed68f4da6": {
      "model_module": "@jupyter-widgets/base",
      "model_module_version": "1.2.0",
      "model_name": "LayoutModel",
      "state": {}
     },
     "858855a4ca644ef8a5a68f4bd31e1d6b": {
      "model_module": "@jupyter-widgets/base",
      "model_module_version": "1.2.0",
      "model_name": "LayoutModel",
      "state": {}
     },
     "858878c7e61544b790ca64ba3754be3a": {
      "model_module": "@jupyter-widgets/base",
      "model_module_version": "1.2.0",
      "model_name": "LayoutModel",
      "state": {}
     },
     "85903b91b9dd494fbb3a0709f0684652": {
      "model_module": "@jupyter-widgets/controls",
      "model_module_version": "1.5.0",
      "model_name": "FloatSliderModel",
      "state": {
       "description": "transparency",
       "layout": "IPY_MODEL_9b789e08ff1c46f1bb9f707c180a4903",
       "max": 1,
       "step": 0.1,
       "style": "IPY_MODEL_9e28d980a69940b8887b30e5d2ab7eba"
      }
     },
     "85eb508330e2453aa477fcf14a6e834d": {
      "model_module": "@jupyter-widgets/controls",
      "model_module_version": "1.5.0",
      "model_name": "ButtonStyleModel",
      "state": {}
     },
     "85f2f816a3ad4019b0f5b00681e76aad": {
      "model_module": "@jupyter-widgets/controls",
      "model_module_version": "1.5.0",
      "model_name": "DescriptionStyleModel",
      "state": {
       "description_width": ""
      }
     },
     "85fb0b1c46a34071837318e83df4549c": {
      "model_module": "@jupyter-widgets/base",
      "model_module_version": "1.2.0",
      "model_name": "LayoutModel",
      "state": {
       "margin": "20px 0px"
      }
     },
     "862e6be63a4c4ec7a41e281d8b696e8d": {
      "model_module": "@jupyter-widgets/controls",
      "model_module_version": "1.5.0",
      "model_name": "ButtonModel",
      "state": {
       "description": "Delete",
       "layout": "IPY_MODEL_47a676e89113488bb3cee21941e5aba5",
       "style": "IPY_MODEL_262f578dc1b641d1a439f9d7bdb2b833"
      }
     },
     "86875997079c4f0caf76384b93b1c407": {
      "model_module": "@jupyter-widgets/controls",
      "model_module_version": "1.5.0",
      "model_name": "DescriptionStyleModel",
      "state": {
       "description_width": ""
      }
     },
     "8688606d2e9e400dbdbdb02bf5459c6a": {
      "model_module": "@jupyter-widgets/base",
      "model_module_version": "1.2.0",
      "model_name": "LayoutModel",
      "state": {}
     },
     "86ad7647a23949bbb9260384e6040155": {
      "model_module": "@jupyter-widgets/controls",
      "model_module_version": "1.5.0",
      "model_name": "HBoxModel",
      "state": {
       "children": [
        "IPY_MODEL_98b3dcd8990146f594f7c54e237135e5",
        "IPY_MODEL_e070c2aed84b414abe7cc619e00e66a3",
        "IPY_MODEL_7d8071eaf7bf4f66bad90564ee5855bb"
       ],
       "layout": "IPY_MODEL_6f5e6f5355bd440d8af5ee837dac75a9"
      }
     },
     "86b075a727d1420b8b8e02e04c401dbf": {
      "model_module": "@jupyter-widgets/controls",
      "model_module_version": "1.5.0",
      "model_name": "SliderStyleModel",
      "state": {
       "description_width": ""
      }
     },
     "86bbd8bd12314be19909ccb111382a66": {
      "model_module": "@jupyter-widgets/base",
      "model_module_version": "1.2.0",
      "model_name": "LayoutModel",
      "state": {}
     },
     "86e5d6226409410ea3e7aff87df7c57d": {
      "model_module": "@jupyter-widgets/controls",
      "model_module_version": "1.5.0",
      "model_name": "ColorPickerModel",
      "state": {
       "description": "specular",
       "disabled": false,
       "layout": "IPY_MODEL_ab0f9f99791b40059d4d3534b8def2a1",
       "style": "IPY_MODEL_26b6ef9844df45fa90eceb06b5d3540f",
       "value": "#282828"
      }
     },
     "8734cecea0d346a39c3e758fb2f6d6a5": {
      "model_module": "@jupyter-widgets/base",
      "model_module_version": "1.2.0",
      "model_name": "LayoutModel",
      "state": {}
     },
     "8760bd037eeb40d88f785a795b4cfa32": {
      "model_module": "@jupyter-widgets/controls",
      "model_module_version": "1.5.0",
      "model_name": "ButtonModel",
      "state": {
       "description": "Apply changes",
       "layout": "IPY_MODEL_9263d72547104120b8476c3b55758aeb",
       "style": "IPY_MODEL_e34f318fa38c48f0a73bd526ad11af14"
      }
     },
     "878758e0a9094b4bac55d6b303131041": {
      "model_module": "@jupyter-widgets/base",
      "model_module_version": "1.2.0",
      "model_name": "LayoutModel",
      "state": {}
     },
     "87914f94bb81462d992aeaaef5f740be": {
      "model_module": "pgljupyter",
      "model_module_version": "^0.1.17",
      "model_name": "MaterialEditorModel",
      "state": {
       "_model_module_version": "^0.1.17",
       "_view_module_version": "^0.1.17",
       "children": [
        "IPY_MODEL_2f2a18791e474473882476c2b545f886",
        "IPY_MODEL_613b92ffca5244b6a9fe92b6eac0bfb3",
        "IPY_MODEL_62b5bc6403144408b19fd4a789c19c72",
        "IPY_MODEL_d2f53457da264365a8ca7a5c85a6b381",
        "IPY_MODEL_29f083c6202b4e71911388db0eb926e4",
        "IPY_MODEL_fe6fc9b954504ac48e9ea7a8339c409b",
        "IPY_MODEL_c86dfb91c7754e40aff8205f0595f499"
       ],
       "layout": "IPY_MODEL_761fbbca71f145a5969c4290b8309933"
      }
     },
     "8796df0ffb5a4d59acfa5e829c472f45": {
      "model_module": "@jupyter-widgets/controls",
      "model_module_version": "1.5.0",
      "model_name": "ColorPickerModel",
      "state": {
       "description": "specular",
       "disabled": false,
       "layout": "IPY_MODEL_b2bf5842fee641abb921c9ea89fc6361",
       "style": "IPY_MODEL_e82e92b531174bbab4c8ec367cfabcd1",
       "value": "#282828"
      }
     },
     "879fcdce8800437ebdb114cb02a43a8e": {
      "model_module": "@jupyter-widgets/controls",
      "model_module_version": "1.5.0",
      "model_name": "ButtonStyleModel",
      "state": {}
     },
     "87ee29c4de584540885b2b7ebd0acba1": {
      "model_module": "@jupyter-widgets/controls",
      "model_module_version": "1.5.0",
      "model_name": "FloatSliderModel",
      "state": {
       "continuous_update": false,
       "description": "shininess",
       "layout": "IPY_MODEL_82af52da979c4a56a699978b44bb9fb5",
       "max": 1,
       "step": 0.1,
       "style": "IPY_MODEL_4d5e57a20ec8434da60157436d715a78",
       "value": 0.2
      }
     },
     "880c764b514b41d49c7a1d6be07c9ee7": {
      "model_module": "@jupyter-widgets/controls",
      "model_module_version": "1.5.0",
      "model_name": "ButtonModel",
      "state": {
       "description": "Delete",
       "layout": "IPY_MODEL_0a6d0b4bd02e4ac1817c689e8e7470fa",
       "style": "IPY_MODEL_e9ae0484fe6e4a418480439841c599c2"
      }
     },
     "881dbc552f174448b5366e6842c3fce5": {
      "model_module": "@jupyter-widgets/controls",
      "model_module_version": "1.5.0",
      "model_name": "DescriptionStyleModel",
      "state": {
       "description_width": ""
      }
     },
     "885caec9d1dd43c096b9a173555e99ba": {
      "model_module": "@jupyter-widgets/controls",
      "model_module_version": "1.5.0",
      "model_name": "HBoxModel",
      "state": {
       "children": [
        "IPY_MODEL_8509fa5265184f5db62a735f298cb753",
        "IPY_MODEL_42c627ff3d74409cbca15e800caf7190"
       ],
       "layout": "IPY_MODEL_4d77f69f74244057baec36b232f87f78"
      }
     },
     "885d034f6340467e9f3d03862ecdc212": {
      "model_module": "@jupyter-widgets/controls",
      "model_module_version": "1.5.0",
      "model_name": "DescriptionStyleModel",
      "state": {
       "description_width": ""
      }
     },
     "886b3608c74d4c488a0749ac1feb2b7e": {
      "model_module": "@jupyter-widgets/base",
      "model_module_version": "1.2.0",
      "model_name": "LayoutModel",
      "state": {
       "margin": "10px 10px"
      }
     },
     "88a10cf316df4647bd53d535728a4d82": {
      "model_module": "@jupyter-widgets/base",
      "model_module_version": "1.2.0",
      "model_name": "LayoutModel",
      "state": {}
     },
     "88b25b3d6bed47aabbf857ba0829ae88": {
      "model_module": "pgljupyter",
      "model_module_version": "^0.1.17",
      "model_name": "MaterialEditorModel",
      "state": {
       "_model_module_version": "^0.1.17",
       "_view_module_version": "^0.1.17",
       "children": [
        "IPY_MODEL_743b4d10e04e429daa73128e21f65475",
        "IPY_MODEL_1ea7dc68a20e4fa3ae2f532556b651d0",
        "IPY_MODEL_30473609ffbf4e1781ef3e743132ea77",
        "IPY_MODEL_446d0c4274894c3b975472f4d7fb6e63",
        "IPY_MODEL_8012ed3ed86e4af7aa93a0d0174addd1",
        "IPY_MODEL_d10a3a68a0474f01aa5b6d5cfdb8ebe8",
        "IPY_MODEL_536987696dc742f1b1bc51ca8d040a1d"
       ],
       "layout": "IPY_MODEL_4f04e84e06f04f2187ac0562bd5d7982"
      }
     },
     "88f3d087a0de45da8bfd2c33963d9fb3": {
      "model_module": "@jupyter-widgets/controls",
      "model_module_version": "1.5.0",
      "model_name": "SliderStyleModel",
      "state": {
       "description_width": ""
      }
     },
     "88f44b81f9624f8db9eb6600e3fb96e4": {
      "model_module": "@jupyter-widgets/controls",
      "model_module_version": "1.5.0",
      "model_name": "ButtonModel",
      "state": {
       "description": "Delete category",
       "layout": "IPY_MODEL_8d73e5bd9d02455d95cfcec70fbbd004",
       "style": "IPY_MODEL_0fa6ede50ab0406a9807f2c9a03af12c"
      }
     },
     "891e2f6c24e942aa819fd94be0793970": {
      "model_module": "@jupyter-widgets/controls",
      "model_module_version": "1.5.0",
      "model_name": "ColorPickerModel",
      "state": {
       "description": "specular",
       "disabled": false,
       "layout": "IPY_MODEL_3ee6dd285a9442a8ba3ad4c5af7b0fbd",
       "style": "IPY_MODEL_64eb6ce77bf6462698b988007f7d6518",
       "value": "#282828"
      }
     },
     "891e76f968664a06abd63d33a670c328": {
      "model_module": "@jupyter-widgets/controls",
      "model_module_version": "1.5.0",
      "model_name": "HBoxModel",
      "state": {
       "children": [
        "IPY_MODEL_b91c1fa0a059467da7b43d3770c3e9ab",
        "IPY_MODEL_6a803bbc6c7d42418bcd85246ea9c67f"
       ],
       "layout": "IPY_MODEL_a50990076fda416c96589b159085117c"
      }
     },
     "8929ac5c489944b49d22387a7dca08f4": {
      "model_module": "@jupyter-widgets/base",
      "model_module_version": "1.2.0",
      "model_name": "LayoutModel",
      "state": {}
     },
     "893cf04f7b474264b2019b1d9ef10da0": {
      "model_module": "@jupyter-widgets/controls",
      "model_module_version": "1.5.0",
      "model_name": "ButtonModel",
      "state": {
       "description": "Delete category",
       "layout": "IPY_MODEL_1d2c3e8ff93a461893bd0cf380e5598b",
       "style": "IPY_MODEL_bf1fdb5bb36e4e1a926148fdc953e325"
      }
     },
     "8941e806cfbc4ef79a7ebe1a33c9c387": {
      "model_module": "@jupyter-widgets/controls",
      "model_module_version": "1.5.0",
      "model_name": "BoundedIntTextModel",
      "state": {
       "description": "index",
       "layout": "IPY_MODEL_04bf48cf21fd4ef3b2fc2c87f891da0a",
       "style": "IPY_MODEL_65e9c69006e0410082732dcb581d48b9",
       "value": 2
      }
     },
     "896ad6ec098a405a80ae6f82cca58a0c": {
      "model_module": "@jupyter-widgets/base",
      "model_module_version": "1.2.0",
      "model_name": "LayoutModel",
      "state": {}
     },
     "896cb2a6eee44f0099cfa8dd5b2da22f": {
      "model_module": "@jupyter-widgets/controls",
      "model_module_version": "1.5.0",
      "model_name": "TextModel",
      "state": {
       "continuous_update": false,
       "description": "name",
       "layout": "IPY_MODEL_5f766dc4cb8647509fa135a5358aaab0",
       "style": "IPY_MODEL_c4ed48b837534de7b3ebc8b317ef0a11",
       "value": "color_1"
      }
     },
     "89a945aee0754e80a2eee46f61496ba5": {
      "model_module": "@jupyter-widgets/controls",
      "model_module_version": "1.5.0",
      "model_name": "FloatSliderModel",
      "state": {
       "description": "transparency",
       "layout": "IPY_MODEL_539f9d1af9924f4db2438bbbeeb51b54",
       "max": 1,
       "step": 0.1,
       "style": "IPY_MODEL_6ec1cbd07a644f899b126df86b0690ab"
      }
     },
     "89abd2f5d7a24df6bcce9045e015f6b6": {
      "model_module": "@jupyter-widgets/controls",
      "model_module_version": "1.5.0",
      "model_name": "DescriptionStyleModel",
      "state": {
       "description_width": ""
      }
     },
     "89cbe63d546f406ca712a5c299db1759": {
      "model_module": "@jupyter-widgets/controls",
      "model_module_version": "1.5.0",
      "model_name": "FloatSliderModel",
      "state": {
       "continuous_update": false,
       "description": "transparency",
       "layout": "IPY_MODEL_3b219881f6e14b5fbcc7d8e04501fcc9",
       "max": 1,
       "step": 0.1,
       "style": "IPY_MODEL_60ac7f4f415242edae5ed4861310d5d1"
      }
     },
     "89db33f980cb4aa4bf951958b1be4cdf": {
      "model_module": "@jupyter-widgets/controls",
      "model_module_version": "1.5.0",
      "model_name": "SliderStyleModel",
      "state": {
       "description_width": ""
      }
     },
     "89db582de4224ed0b196b8f2a9d544c4": {
      "model_module": "pgljupyter",
      "model_module_version": "^0.2.0",
      "model_name": "IntEditorModel",
      "state": {
       "_model_module_version": "^0.2.0",
       "_view_module_version": "^0.2.0",
       "children": [
        "IPY_MODEL_29064321623c4d5898f0497a0e6f1a9b",
        "IPY_MODEL_06a41e2a55a840a8a25c81d98d0aa2db"
       ],
       "layout": "IPY_MODEL_096662ccdbc443409d73c22d5e8dd3d3"
      }
     },
     "89e834b8c10e40a390db5fd0665c3d45": {
      "model_module": "@jupyter-widgets/base",
      "model_module_version": "1.2.0",
      "model_name": "LayoutModel",
      "state": {}
     },
     "8a1bab7df8174d92a085bbafd83e109a": {
      "model_module": "@jupyter-widgets/base",
      "model_module_version": "1.2.0",
      "model_name": "LayoutModel",
      "state": {
       "margin": "10px 10px"
      }
     },
     "8a5b39fddbde4ba3bee746d6c937b664": {
      "model_module": "@jupyter-widgets/controls",
      "model_module_version": "1.5.0",
      "model_name": "TextModel",
      "state": {
       "continuous_update": false,
       "description": "name",
       "layout": "IPY_MODEL_0ec5645a3bf34b6a84616a6784979782",
       "style": "IPY_MODEL_c190a593c1ed4ea199fb8b572fe94562",
       "value": "color_3"
      }
     },
     "8aae296581c643e2a94a84c43a578fda": {
      "model_module": "@jupyter-widgets/base",
      "model_module_version": "1.2.0",
      "model_name": "LayoutModel",
      "state": {}
     },
     "8ab5ba176a154599b445e9556a8031de": {
      "model_module": "@jupyter-widgets/base",
      "model_module_version": "1.2.0",
      "model_name": "LayoutModel",
      "state": {
       "margin": "20px 0px"
      }
     },
     "8ab7595e734d49a0932417703969c091": {
      "model_module": "@jupyter-widgets/controls",
      "model_module_version": "1.5.0",
      "model_name": "ColorPickerModel",
      "state": {
       "description": "ambient",
       "disabled": false,
       "layout": "IPY_MODEL_797b6487137c40879ec2abec33dc8535",
       "style": "IPY_MODEL_881dbc552f174448b5366e6842c3fce5",
       "value": "#195717"
      }
     },
     "8ade179874b44ec4a7a9a96454510c3e": {
      "model_module": "@jupyter-widgets/base",
      "model_module_version": "1.2.0",
      "model_name": "LayoutModel",
      "state": {}
     },
     "8b24ac74c0944cd48267de6d5fe2be88": {
      "model_module": "@jupyter-widgets/base",
      "model_module_version": "1.2.0",
      "model_name": "LayoutModel",
      "state": {}
     },
     "8b33865f7edf4592b76de465d9ef7865": {
      "model_module": "@jupyter-widgets/base",
      "model_module_version": "1.2.0",
      "model_name": "LayoutModel",
      "state": {}
     },
     "8b39ce9f414948e2acb5c8cfdcf3d6a8": {
      "model_module": "@jupyter-widgets/controls",
      "model_module_version": "1.5.0",
      "model_name": "DropdownModel",
      "state": {
       "_options_labels": [
        "Integer",
        "Float",
        "Bool"
       ],
       "index": 0,
       "layout": "IPY_MODEL_bcb7465a37394dbabd8f197ae65f2662",
       "style": "IPY_MODEL_8537d8915e4e42dbaa546751f3ccd759"
      }
     },
     "8b43f3f764b3434fbc0675fd7f1f079d": {
      "model_module": "@jupyter-widgets/base",
      "model_module_version": "1.2.0",
      "model_name": "LayoutModel",
      "state": {}
     },
     "8b50cab205524c5684de777fe16b12c6": {
      "model_module": "@jupyter-widgets/controls",
      "model_module_version": "1.5.0",
      "model_name": "DescriptionStyleModel",
      "state": {
       "description_width": ""
      }
     },
     "8b815e58fddc4a559d96a5bea9398873": {
      "model_module": "@jupyter-widgets/controls",
      "model_module_version": "1.5.0",
      "model_name": "ButtonModel",
      "state": {
       "description": "Delete category",
       "layout": "IPY_MODEL_b4172c0a847a4c1d89dd93e6e188edcf",
       "style": "IPY_MODEL_d2ae08c8938f40e28ea77f61a5b50c80"
      }
     },
     "8b961dc464fe4120b95633845d5c9860": {
      "model_module": "@jupyter-widgets/base",
      "model_module_version": "1.2.0",
      "model_name": "LayoutModel",
      "state": {
       "margin": "20px 0px"
      }
     },
     "8b9a41a0b095405186d1eec77ac0c839": {
      "model_module": "@jupyter-widgets/base",
      "model_module_version": "1.2.0",
      "model_name": "LayoutModel",
      "state": {
       "flex_flow": "row wrap",
       "margin": "20px"
      }
     },
     "8b9d8ab9579d479587514dba40ca7bcd": {
      "model_module": "@jupyter-widgets/base",
      "model_module_version": "1.2.0",
      "model_name": "LayoutModel",
      "state": {}
     },
     "8baf0acb70dc45388e9cbd0d7281af9a": {
      "model_module": "@jupyter-widgets/controls",
      "model_module_version": "1.5.0",
      "model_name": "ButtonStyleModel",
      "state": {}
     },
     "8bbd3656628c4c6e8afd4b8861674066": {
      "model_module": "@jupyter-widgets/controls",
      "model_module_version": "1.5.0",
      "model_name": "ButtonStyleModel",
      "state": {}
     },
     "8bd7cf6dc07d437190fbda31a59b43c4": {
      "model_module": "@jupyter-widgets/base",
      "model_module_version": "1.2.0",
      "model_name": "LayoutModel",
      "state": {}
     },
     "8be95b6e2c4341088b47d9a41a5e1916": {
      "model_module": "@jupyter-widgets/controls",
      "model_module_version": "1.5.0",
      "model_name": "VBoxModel",
      "state": {
       "children": [
        "IPY_MODEL_49c13f7f61b74fdeb6c2e02c3d02da5a",
        "IPY_MODEL_939594c53ae64a0e89243eda3899ab0b"
       ],
       "layout": "IPY_MODEL_a547bbd798964d08896ad103a8c35c97"
      }
     },
     "8c00dd94f504489eb79f75cdf4d9b736": {
      "model_module": "@jupyter-widgets/base",
      "model_module_version": "1.2.0",
      "model_name": "LayoutModel",
      "state": {}
     },
     "8c34ccd1ce0c4bdea50769e26de587f7": {
      "model_module": "@jupyter-widgets/controls",
      "model_module_version": "1.5.0",
      "model_name": "HBoxModel",
      "state": {
       "children": [
        "IPY_MODEL_641c05b7ca444b45815f98e53b6c6ac7",
        "IPY_MODEL_9ca461330d2145f89ba7e4575a975a1e"
       ],
       "layout": "IPY_MODEL_e7d2527d8a7e4fe289643a418f22fbe9"
      }
     },
     "8c69ffac5b3b44b286de8bc58ff44b45": {
      "model_module": "@jupyter-widgets/controls",
      "model_module_version": "1.5.0",
      "model_name": "FloatSliderModel",
      "state": {
       "description": "shininess",
       "layout": "IPY_MODEL_09f0b20c3d9a4a7b8d6f767b7e7153d6",
       "max": 1,
       "step": 0.1,
       "style": "IPY_MODEL_2d5a147118f043b0bedacc46a82c83fb",
       "value": 0.2
      }
     },
     "8c8cef7c9f7e4f1e84b0cd4319df23e7": {
      "model_module": "@jupyter-widgets/base",
      "model_module_version": "1.2.0",
      "model_name": "LayoutModel",
      "state": {}
     },
     "8cbb1af1d0af4ff9bb22fce6efa5827f": {
      "model_module": "@jupyter-widgets/base",
      "model_module_version": "1.2.0",
      "model_name": "LayoutModel",
      "state": {}
     },
     "8cca7f8fad02405fb87c0732c5a43356": {
      "model_module": "@jupyter-widgets/base",
      "model_module_version": "1.2.0",
      "model_name": "LayoutModel",
      "state": {}
     },
     "8ceaba1a99674153b22a56b7b4a60bca": {
      "model_module": "@jupyter-widgets/controls",
      "model_module_version": "1.5.0",
      "model_name": "SliderStyleModel",
      "state": {
       "description_width": ""
      }
     },
     "8d0e659919a7446eae15c51f51434cbc": {
      "model_module": "@jupyter-widgets/base",
      "model_module_version": "1.2.0",
      "model_name": "LayoutModel",
      "state": {}
     },
     "8d56c586bca3464d8c5cb36ae761ba46": {
      "model_module": "@jupyter-widgets/base",
      "model_module_version": "1.2.0",
      "model_name": "LayoutModel",
      "state": {
       "flex_flow": "row wrap",
       "margin": "20px"
      }
     },
     "8d73e5bd9d02455d95cfcec70fbbd004": {
      "model_module": "@jupyter-widgets/base",
      "model_module_version": "1.2.0",
      "model_name": "LayoutModel",
      "state": {}
     },
     "8d847dba13ab4694a1ab9e4baa5b388d": {
      "model_module": "@jupyter-widgets/controls",
      "model_module_version": "1.5.0",
      "model_name": "DescriptionStyleModel",
      "state": {
       "description_width": ""
      }
     },
     "8d88b9af599a473ba627da0a2a18a784": {
      "model_module": "@jupyter-widgets/base",
      "model_module_version": "1.2.0",
      "model_name": "LayoutModel",
      "state": {}
     },
     "8da5a23cbcfe4a32abff9982c0d9ba9b": {
      "model_module": "pgljupyter",
      "model_module_version": "^0.2.1",
      "model_name": "IntEditorModel",
      "state": {
       "_model_module_version": "^0.2.1",
       "_view_module_version": "^0.2.1",
       "children": [
        "IPY_MODEL_011ce44503944280b182ae4896255436",
        "IPY_MODEL_5b1b435a21944230a9b5808558c607c5"
       ],
       "layout": "IPY_MODEL_b93a88085e08459fb569918bd68b30f2"
      }
     },
     "8dbe9ada148e4dc9b4e602bbf6b21b62": {
      "model_module": "@jupyter-widgets/base",
      "model_module_version": "1.2.0",
      "model_name": "LayoutModel",
      "state": {
       "margin": "10px 10px"
      }
     },
     "8dc6ee1f98924f36a4f725dce1c1a48e": {
      "model_module": "pgljupyter",
      "model_module_version": "^0.2.1",
      "model_name": "FloatEditorModel",
      "state": {
       "_model_module_version": "^0.2.1",
       "_view_module_version": "^0.2.1",
       "children": [
        "IPY_MODEL_62654c9673d340d8900c5a80c17c2a95",
        "IPY_MODEL_ee4407294be54086bbd26a4a233c1f1d"
       ],
       "layout": "IPY_MODEL_fe56fa65b8da4ba39b6b1d1d00656f39"
      }
     },
     "8df2887e514042d1ac28d987a7d3f39d": {
      "model_module": "@jupyter-widgets/base",
      "model_module_version": "1.2.0",
      "model_name": "LayoutModel",
      "state": {}
     },
     "8df39cc78b7c43f7be9d191b5a4256de": {
      "model_module": "@jupyter-widgets/controls",
      "model_module_version": "1.5.0",
      "model_name": "CheckboxModel",
      "state": {
       "description": "Auto apply",
       "disabled": false,
       "layout": "IPY_MODEL_8d88b9af599a473ba627da0a2a18a784",
       "style": "IPY_MODEL_1f88c16815df476d8f718a32226dcb4a",
       "value": false
      }
     },
     "8e07259218964759aa0e3756812d03d4": {
      "model_module": "pgljupyter",
      "model_module_version": "^0.1.16",
      "model_name": "IntEditorModel",
      "state": {
       "_model_module_version": "^0.1.16",
       "_view_module_version": "^0.1.16",
       "children": [
        "IPY_MODEL_0003eef9dd3941f89ac65b920608e8dc",
        "IPY_MODEL_d734a536300949189433eec18ebe49d5",
        "IPY_MODEL_ea9d8d6b50034a3a9fb9e57b9e304732",
        "IPY_MODEL_ecd0c12b3b9e479fb4a4bdfdcb2c2842",
        "IPY_MODEL_715606022a044632ac89eb213623d18a"
       ],
       "layout": "IPY_MODEL_41689189f03a44738c5a6d8d77d673f0"
      }
     },
     "8e22cddd14fe4b4bae63e877798b91cf": {
      "model_module": "@jupyter-widgets/controls",
      "model_module_version": "1.5.0",
      "model_name": "TextModel",
      "state": {
       "continuous_update": false,
       "description": "name",
       "layout": "IPY_MODEL_e0b3bfd022cf45e4a94fa38c5088e074",
       "style": "IPY_MODEL_aa87d9baf2e54afbbf8a7787e01bc39c",
       "value": "color_3"
      }
     },
     "8e4723856ef545059ac8d8e784b37a8e": {
      "model_module": "@jupyter-widgets/base",
      "model_module_version": "1.2.0",
      "model_name": "LayoutModel",
      "state": {}
     },
     "8e59f23a67514549b0b971a20c8f5644": {
      "model_module": "@jupyter-widgets/controls",
      "model_module_version": "1.5.0",
      "model_name": "IntSliderModel",
      "state": {
       "description": "value",
       "layout": "IPY_MODEL_66cfa3a226224323bc89e5cd0184f515",
       "max": 10,
       "min": 1,
       "style": "IPY_MODEL_67f4e04d08034151b0a50c7edf65de73",
       "value": 3
      }
     },
     "8e6019a49d114761a746e659cc1c48f2": {
      "model_module": "@jupyter-widgets/controls",
      "model_module_version": "1.5.0",
      "model_name": "TextModel",
      "state": {
       "continuous_update": false,
       "description": "name",
       "layout": "IPY_MODEL_7740beb2c49f45218e9e7fa1fe1a8432",
       "style": "IPY_MODEL_fc7845240a5a42389a89509a28eb34dd",
       "value": "nb_axes"
      }
     },
     "8e7f32c1ba3149af89ee115dcce7233a": {
      "model_module": "@jupyter-widgets/controls",
      "model_module_version": "1.5.0",
      "model_name": "VBoxModel",
      "state": {
       "children": [
        "IPY_MODEL_809eaaa517c44dacbd10399efe1c86c8",
        "IPY_MODEL_77bb0a66c7374c4d92144e5900b028a0",
        "IPY_MODEL_15c2dd748e27429b8b7bf9eec53d186c",
        "IPY_MODEL_286459ac772e4d45a1cdf2d3de2f2641",
        "IPY_MODEL_1bd27105bfe744bdbb177dc19d1cf75d"
       ],
       "layout": "IPY_MODEL_78f64a9316a54addbb907fdb74325de3"
      }
     },
     "8e85538f1c7348e88888e73f57ac653a": {
      "model_module": "@jupyter-widgets/controls",
      "model_module_version": "1.5.0",
      "model_name": "DescriptionStyleModel",
      "state": {
       "description_width": ""
      }
     },
     "8ea211ca5b9b4eeba00a371c1b423cca": {
      "model_module": "@jupyter-widgets/controls",
      "model_module_version": "1.5.0",
      "model_name": "ColorPickerModel",
      "state": {
       "description": "specular",
       "disabled": false,
       "layout": "IPY_MODEL_d5cd4fb599cb46fc948cd99e2e1b54e4",
       "style": "IPY_MODEL_42f6a0ce6998407886d1d89c57494c7e",
       "value": "#282828"
      }
     },
     "8ea71b896634471bb39f8656b8e7fc01": {
      "model_module": "@jupyter-widgets/controls",
      "model_module_version": "1.5.0",
      "model_name": "FloatSliderModel",
      "state": {
       "continuous_update": false,
       "description": "diffuse",
       "layout": "IPY_MODEL_ffb5310a7ee74b4b99b4d4eb5146d133",
       "max": 3,
       "step": 0.1,
       "style": "IPY_MODEL_1383a9a33ebb42e3a5b808f0ae358111",
       "value": 1
      }
     },
     "8eb293d9f1ca49e4a0d8a5d438b925e5": {
      "model_module": "@jupyter-widgets/controls",
      "model_module_version": "1.5.0",
      "model_name": "DescriptionStyleModel",
      "state": {
       "description_width": ""
      }
     },
     "8eb5ff0503844639a05f7383adbfb05c": {
      "model_module": "@jupyter-widgets/base",
      "model_module_version": "1.2.0",
      "model_name": "LayoutModel",
      "state": {}
     },
     "8ebbdf1fb8e54a828e60d7ac7f9605d3": {
      "model_module": "@jupyter-widgets/base",
      "model_module_version": "1.2.0",
      "model_name": "LayoutModel",
      "state": {}
     },
     "8ed6d95dd9ef49ee8cf874817418fc76": {
      "model_module": "@jupyter-widgets/base",
      "model_module_version": "1.2.0",
      "model_name": "LayoutModel",
      "state": {}
     },
     "8f003cdb574545128b2ee385bb6fff88": {
      "model_module": "@jupyter-widgets/base",
      "model_module_version": "1.2.0",
      "model_name": "LayoutModel",
      "state": {}
     },
     "8f06c2ae91ad40a682161b87d6e730b4": {
      "model_module": "@jupyter-widgets/controls",
      "model_module_version": "1.5.0",
      "model_name": "ButtonStyleModel",
      "state": {}
     },
     "8f0d237bd2814cfa98534d804a75bd38": {
      "model_module": "@jupyter-widgets/controls",
      "model_module_version": "1.5.0",
      "model_name": "FloatSliderModel",
      "state": {
       "description": "transparency",
       "layout": "IPY_MODEL_6f0a69f339134e55b948c90d45650703",
       "max": 1,
       "step": 0.1,
       "style": "IPY_MODEL_7b577b3b68b746a29a5e6e041152e745"
      }
     },
     "8f4c0103e27f4574ba684259337a9d96": {
      "model_module": "@jupyter-widgets/controls",
      "model_module_version": "1.5.0",
      "model_name": "HBoxModel",
      "state": {
       "children": [
        "IPY_MODEL_417e8e140cdf4466b6d508d357de4584",
        "IPY_MODEL_9925cbd3ea0647db80ef2a633272125b"
       ],
       "layout": "IPY_MODEL_431315f0bf144d2fa04d6ffc24c515f9"
      }
     },
     "8f51043f8eec495db2aa437cf47dd5d0": {
      "model_module": "@jupyter-widgets/controls",
      "model_module_version": "1.5.0",
      "model_name": "DescriptionStyleModel",
      "state": {
       "description_width": ""
      }
     },
     "8f5d620157024ed59ea59efe6b680541": {
      "model_module": "@jupyter-widgets/base",
      "model_module_version": "1.2.0",
      "model_name": "LayoutModel",
      "state": {}
     },
     "8f76a051af3b4aafaab23bc142f7301f": {
      "model_module": "@jupyter-widgets/base",
      "model_module_version": "1.2.0",
      "model_name": "LayoutModel",
      "state": {}
     },
     "8f87f71addf8423b8fb30f7dbf62cc02": {
      "model_module": "@jupyter-widgets/controls",
      "model_module_version": "1.5.0",
      "model_name": "DescriptionStyleModel",
      "state": {
       "description_width": ""
      }
     },
     "8fa2131f64aa4931a8055494da690356": {
      "model_module": "@jupyter-widgets/base",
      "model_module_version": "1.2.0",
      "model_name": "LayoutModel",
      "state": {}
     },
     "902e29cc535749e796ee3a937c3dfd21": {
      "model_module": "@jupyter-widgets/controls",
      "model_module_version": "1.5.0",
      "model_name": "TextModel",
      "state": {
       "continuous_update": false,
       "description": "name",
       "layout": "IPY_MODEL_59b6d90878cc4434b2cd7ffe61e22f6b",
       "style": "IPY_MODEL_5cb0a8f02ad04b5f9796ec72a576b675",
       "value": "nb_axes"
      }
     },
     "906dd31da0b74225aefcd7029f7939cc": {
      "model_module": "@jupyter-widgets/controls",
      "model_module_version": "1.5.0",
      "model_name": "DescriptionStyleModel",
      "state": {
       "description_width": ""
      }
     },
     "907af94c6c2443389979483218e080ca": {
      "model_module": "@jupyter-widgets/controls",
      "model_module_version": "1.5.0",
      "model_name": "ButtonStyleModel",
      "state": {}
     },
     "908f4ca4949b494db14fc5156aab2cd9": {
      "model_module": "@jupyter-widgets/base",
      "model_module_version": "1.2.0",
      "model_name": "LayoutModel",
      "state": {}
     },
     "90b38a086b7a4c3dacb0a705e9da7c93": {
      "model_module": "@jupyter-widgets/base",
      "model_module_version": "1.2.0",
      "model_name": "LayoutModel",
      "state": {}
     },
     "90f363a2c49a484a843ce9189c500501": {
      "model_module": "@jupyter-widgets/base",
      "model_module_version": "1.2.0",
      "model_name": "LayoutModel",
      "state": {}
     },
     "90f3796014fb441682830e036d391913": {
      "model_module": "@jupyter-widgets/controls",
      "model_module_version": "1.5.0",
      "model_name": "DescriptionStyleModel",
      "state": {
       "description_width": ""
      }
     },
     "90f65d5e0f7d4ba297b91d7381a9b694": {
      "model_module": "@jupyter-widgets/controls",
      "model_module_version": "1.5.0",
      "model_name": "SliderStyleModel",
      "state": {
       "description_width": ""
      }
     },
     "914f2d720e814344b6090277a3ff863a": {
      "model_module": "@jupyter-widgets/base",
      "model_module_version": "1.2.0",
      "model_name": "LayoutModel",
      "state": {}
     },
     "916e7d074de94e13a2e0ee223e0b2d15": {
      "model_module": "@jupyter-widgets/controls",
      "model_module_version": "1.5.0",
      "model_name": "ColorPickerModel",
      "state": {
       "description": "ambient",
       "disabled": false,
       "layout": "IPY_MODEL_977fea6ecad74993b1e7f4b53f05bd3d",
       "style": "IPY_MODEL_4bfa6e2f73c74bffa75861116f13ec31",
       "value": "#0fc4db"
      }
     },
     "91ac8e1f9a054b498098ec7954dfe608": {
      "model_module": "@jupyter-widgets/base",
      "model_module_version": "1.2.0",
      "model_name": "LayoutModel",
      "state": {}
     },
     "9205b342fe2d42118f3ab706062aa484": {
      "model_module": "@jupyter-widgets/base",
      "model_module_version": "1.2.0",
      "model_name": "LayoutModel",
      "state": {}
     },
     "9242e4b52d1c46328eae0b31e19984e1": {
      "model_module": "@jupyter-widgets/base",
      "model_module_version": "1.2.0",
      "model_name": "LayoutModel",
      "state": {}
     },
     "92616f968bf649ad919cbb41d7425b65": {
      "model_module": "@jupyter-widgets/base",
      "model_module_version": "1.2.0",
      "model_name": "LayoutModel",
      "state": {}
     },
     "9263d72547104120b8476c3b55758aeb": {
      "model_module": "@jupyter-widgets/base",
      "model_module_version": "1.2.0",
      "model_name": "LayoutModel",
      "state": {}
     },
     "926c57076840440cba5b8c4fd41d9d43": {
      "model_module": "@jupyter-widgets/base",
      "model_module_version": "1.2.0",
      "model_name": "LayoutModel",
      "state": {}
     },
     "92745359b08f4ccb920907d11ee886b9": {
      "model_module": "@jupyter-widgets/base",
      "model_module_version": "1.2.0",
      "model_name": "LayoutModel",
      "state": {}
     },
     "929050373f6242689705691232ea479b": {
      "model_module": "@jupyter-widgets/controls",
      "model_module_version": "1.5.0",
      "model_name": "SliderStyleModel",
      "state": {
       "description_width": ""
      }
     },
     "92978dae10c04f879b6b666ba80d5835": {
      "model_module": "@jupyter-widgets/base",
      "model_module_version": "1.2.0",
      "model_name": "LayoutModel",
      "state": {
       "margin": "20px 0px"
      }
     },
     "92d4898f94824292b0826fcacbbe587f": {
      "model_module": "@jupyter-widgets/controls",
      "model_module_version": "1.5.0",
      "model_name": "ColorPickerModel",
      "state": {
       "description": "specular",
       "disabled": false,
       "layout": "IPY_MODEL_b018f27f56ef47b8b8c77c757b918855",
       "style": "IPY_MODEL_bac8604d77704199a0f58325e3b25b59",
       "value": "#282828"
      }
     },
     "930ad9faa5584ea6b9760fd12a63f4ea": {
      "model_module": "@jupyter-widgets/controls",
      "model_module_version": "1.5.0",
      "model_name": "DropdownModel",
      "state": {
       "_options_labels": [
        "Color"
       ],
       "index": 0,
       "layout": "IPY_MODEL_59b8490222d449ec873f6dd426630d90",
       "style": "IPY_MODEL_0366a0590c4e4687a64fd5d1d1a58442"
      }
     },
     "9312767b442f47bc9228a5a34c6c8271": {
      "model_module": "@jupyter-widgets/controls",
      "model_module_version": "1.5.0",
      "model_name": "ButtonModel",
      "state": {
       "description": "Delete",
       "layout": "IPY_MODEL_fe924468805c4aa4b1a13f57e745e092",
       "style": "IPY_MODEL_9a1e1906710e483a890168686eb48dea"
      }
     },
     "931cc338e78d449da79227e3e8bbf56f": {
      "model_module": "@jupyter-widgets/controls",
      "model_module_version": "1.5.0",
      "model_name": "ButtonStyleModel",
      "state": {}
     },
     "9323e0d993094b5598ad0290264509ac": {
      "model_module": "@jupyter-widgets/base",
      "model_module_version": "1.2.0",
      "model_name": "LayoutModel",
      "state": {}
     },
     "932905fe953a416bb495d9f6c2ffa4fe": {
      "model_module": "@jupyter-widgets/base",
      "model_module_version": "1.2.0",
      "model_name": "LayoutModel",
      "state": {}
     },
     "9334138484854b40a86080f1b61c3cbf": {
      "model_module": "@jupyter-widgets/controls",
      "model_module_version": "1.5.0",
      "model_name": "ButtonModel",
      "state": {
       "description": "Add",
       "layout": "IPY_MODEL_47c4dd25604a48a1b5557177fd515750",
       "style": "IPY_MODEL_28501e07ca81424ba924d3f88696843a"
      }
     },
     "9336475c41b04917b6232a0edb005a93": {
      "model_module": "pgljupyter",
      "model_module_version": "^0.2.1",
      "model_name": "IntEditorModel",
      "state": {
       "_model_module_version": "^0.2.1",
       "_view_module_version": "^0.2.1",
       "children": [
        "IPY_MODEL_532de40e1e6e4c23ab096d1f722eec8e",
        "IPY_MODEL_e1ce6edaef8b46f29e736418d0fb5a2a"
       ],
       "layout": "IPY_MODEL_3a4d7583f96549b292246bd41fa724e0"
      }
     },
     "9339d52d22ba42b4b13936f99523dc0d": {
      "model_module": "@jupyter-widgets/controls",
      "model_module_version": "1.5.0",
      "model_name": "SliderStyleModel",
      "state": {
       "description_width": ""
      }
     },
     "939594c53ae64a0e89243eda3899ab0b": {
      "model_module": "@jupyter-widgets/controls",
      "model_module_version": "1.5.0",
      "model_name": "TabModel",
      "state": {
       "_titles": {
        "0": "leuwenberg.json"
       },
       "children": [
        "IPY_MODEL_5c7ea0ef330d498b91b01ff20701afc6"
       ],
       "layout": "IPY_MODEL_40d3cad94876411eb2c2b28bed44d044"
      }
     },
     "93982537a3414c03934ba0943cc75f50": {
      "model_module": "@jupyter-widgets/controls",
      "model_module_version": "1.5.0",
      "model_name": "DescriptionStyleModel",
      "state": {
       "description_width": ""
      }
     },
     "93a5e2d0c70d421d81cf898af8d464df": {
      "model_module": "@jupyter-widgets/controls",
      "model_module_version": "1.5.0",
      "model_name": "DescriptionStyleModel",
      "state": {
       "description_width": ""
      }
     },
     "93b7d193d72342788a68a1d372519ba3": {
      "model_module": "@jupyter-widgets/base",
      "model_module_version": "1.2.0",
      "model_name": "LayoutModel",
      "state": {}
     },
     "93d66b3b8d5148e096acb7c3b08dcb94": {
      "model_module": "@jupyter-widgets/controls",
      "model_module_version": "1.5.0",
      "model_name": "HBoxModel",
      "state": {
       "children": [
        "IPY_MODEL_0c3945d18ad84ce68b356bc7fec1acc8",
        "IPY_MODEL_d5451f4d3ae8401ab534c5136e99f785"
       ],
       "layout": "IPY_MODEL_801c820f9e6246b9b3ed03e09a503e66"
      }
     },
     "93dfc5ebdc024eacb5219441abe21f32": {
      "model_module": "@jupyter-widgets/controls",
      "model_module_version": "1.5.0",
      "model_name": "SliderStyleModel",
      "state": {
       "description_width": ""
      }
     },
     "93e9e1a13f404740b06bcbb3b04fbbe8": {
      "model_module": "@jupyter-widgets/controls",
      "model_module_version": "1.5.0",
      "model_name": "VBoxModel",
      "state": {
       "children": [
        "IPY_MODEL_1624262f28254a519733973a8caf8b9e",
        "IPY_MODEL_767069b5239041d1a94bed85e955db0b",
        "IPY_MODEL_6322774f3a5e4d0cad43bc9ac0f77d3f",
        "IPY_MODEL_f834a6370cbe4f55b43168d73475ea6e",
        "IPY_MODEL_74bb39c50046421c8cf174ea8b853142"
       ],
       "layout": "IPY_MODEL_39b48239860647a19accd22046ec23a9"
      }
     },
     "940c9355e89a41248908d024561c2082": {
      "model_module": "@jupyter-widgets/base",
      "model_module_version": "1.2.0",
      "model_name": "LayoutModel",
      "state": {}
     },
     "9424c3010f3348a9bc112e2fabf01dd9": {
      "model_module": "@jupyter-widgets/base",
      "model_module_version": "1.2.0",
      "model_name": "LayoutModel",
      "state": {}
     },
     "9425b43dcbad4491bb621b1c588f23a2": {
      "model_module": "@jupyter-widgets/controls",
      "model_module_version": "1.5.0",
      "model_name": "DescriptionStyleModel",
      "state": {
       "description_width": ""
      }
     },
     "94cfe289c61c4e35b29a1d6056c480fc": {
      "model_module": "@jupyter-widgets/base",
      "model_module_version": "1.2.0",
      "model_name": "LayoutModel",
      "state": {}
     },
     "94d95cd1937246618d8bd9dde60c742b": {
      "model_module": "@jupyter-widgets/controls",
      "model_module_version": "1.5.0",
      "model_name": "TextModel",
      "state": {
       "continuous_update": false,
       "description": "name",
       "layout": "IPY_MODEL_f4fc311f40184f1cb5a43ab2a5f5d676",
       "style": "IPY_MODEL_2e66c83f178e446bb6cf343405d98cf0",
       "value": "leaf_new"
      }
     },
     "94dd3b9fa9fc40afbb444d490ee4bac3": {
      "model_module": "@jupyter-widgets/controls",
      "model_module_version": "1.5.0",
      "model_name": "SliderStyleModel",
      "state": {
       "description_width": ""
      }
     },
     "94fe467575e84f10afa968e472e6294b": {
      "model_module": "@jupyter-widgets/controls",
      "model_module_version": "1.5.0",
      "model_name": "SliderStyleModel",
      "state": {
       "description_width": ""
      }
     },
     "953ba707a655461f95ad063f5a6f574b": {
      "model_module": "@jupyter-widgets/base",
      "model_module_version": "1.2.0",
      "model_name": "LayoutModel",
      "state": {}
     },
     "9543ce5168bb44ca89a3b02cbe5bca8f": {
      "model_module": "@jupyter-widgets/base",
      "model_module_version": "1.2.0",
      "model_name": "LayoutModel",
      "state": {}
     },
     "95a95cfc47e54d0ab882efb98310c995": {
      "model_module": "@jupyter-widgets/controls",
      "model_module_version": "1.5.0",
      "model_name": "DescriptionStyleModel",
      "state": {
       "description_width": ""
      }
     },
     "95b0aad19c7f4e6d83f1dc61e03069e9": {
      "model_module": "@jupyter-widgets/controls",
      "model_module_version": "1.5.0",
      "model_name": "HBoxModel",
      "state": {
       "children": [
        "IPY_MODEL_37879d9e49a1465b90640413a0a2437d",
        "IPY_MODEL_c644d04f28154a62948cef48924abe65"
       ],
       "layout": "IPY_MODEL_e602407038a947619959238020b703ea"
      }
     },
     "95e1beb5a96b4e808db8fc25b38b38b1": {
      "model_module": "@jupyter-widgets/controls",
      "model_module_version": "1.5.0",
      "model_name": "DropdownModel",
      "state": {
       "_options_labels": [
        "Integer",
        "Float",
        "Bool"
       ],
       "index": 0,
       "layout": "IPY_MODEL_6b9b12000c3449fd833f068eef7fefa7",
       "style": "IPY_MODEL_76ebe3b2efb042b0b745b891af6193b3"
      }
     },
     "963604a85f104c0ea8afa21693108092": {
      "model_module": "@jupyter-widgets/controls",
      "model_module_version": "1.5.0",
      "model_name": "VBoxModel",
      "state": {
       "children": [
        "IPY_MODEL_dd63929993a7401ab626cf49aa8e47ec",
        "IPY_MODEL_18fd2dd4be65499b91b7d984d3f28244"
       ],
       "layout": "IPY_MODEL_ae33a6518f6c4bd7ac1c3d19f27164ee"
      }
     },
     "963d126402964be48e58d85e7d4149c1": {
      "model_module": "@jupyter-widgets/controls",
      "model_module_version": "1.5.0",
      "model_name": "DescriptionStyleModel",
      "state": {
       "description_width": ""
      }
     },
     "964212339a614dc4b244dd85464c155d": {
      "model_module": "@jupyter-widgets/base",
      "model_module_version": "1.2.0",
      "model_name": "LayoutModel",
      "state": {
       "flex_flow": "row wrap",
       "margin": "20px"
      }
     },
     "96590a29bbfc445eb609ca3f432dbce8": {
      "model_module": "@jupyter-widgets/controls",
      "model_module_version": "1.5.0",
      "model_name": "IntSliderModel",
      "state": {
       "continuous_update": false,
       "description": "value",
       "layout": "IPY_MODEL_9730dfd5d19248f89d7451dd6688e7d5",
       "max": 5,
       "min": 1,
       "style": "IPY_MODEL_e347dc0bc2e64bd4a58931e25e8a84f3",
       "value": 4
      }
     },
     "96760736adb540eab397a4254d806359": {
      "model_module": "@jupyter-widgets/controls",
      "model_module_version": "1.5.0",
      "model_name": "SliderStyleModel",
      "state": {
       "description_width": ""
      }
     },
     "9686a9ec1f724f7b9f1afc42c755dcf4": {
      "model_module": "@jupyter-widgets/base",
      "model_module_version": "1.2.0",
      "model_name": "LayoutModel",
      "state": {}
     },
     "96a5793689434924ae2e18ffeb1734a9": {
      "model_module": "@jupyter-widgets/controls",
      "model_module_version": "1.5.0",
      "model_name": "ButtonModel",
      "state": {
       "description": "Add",
       "layout": "IPY_MODEL_7e1a9142f68a44bb85b87c9ed44b26f9",
       "style": "IPY_MODEL_c98bc4fd0fb74e1583e73ae62e4ec124"
      }
     },
     "96afe5493961435384ee8a08653ee502": {
      "model_module": "@jupyter-widgets/base",
      "model_module_version": "1.2.0",
      "model_name": "LayoutModel",
      "state": {}
     },
     "96b49dfc62ee4b54b6911cc9519f3adf": {
      "model_module": "@jupyter-widgets/controls",
      "model_module_version": "1.5.0",
      "model_name": "FloatSliderModel",
      "state": {
       "description": "transparency",
       "layout": "IPY_MODEL_5cd5315f340348038cd38a661f3e0383",
       "max": 1,
       "step": 0.1,
       "style": "IPY_MODEL_ce2ea4fd167e4cb2b2f137651b8ac0c7"
      }
     },
     "96cdd7a7ccd846d3924fb1cc7ba26616": {
      "model_module": "@jupyter-widgets/controls",
      "model_module_version": "1.5.0",
      "model_name": "ButtonModel",
      "state": {
       "description": "Add",
       "layout": "IPY_MODEL_215f302522a248ffb3819ec2c29f1058",
       "style": "IPY_MODEL_fe19d3f5e3dc4cd99368775b1f16b8cc"
      }
     },
     "96ef1dd3e38b40a6b4b6aa0a8d3bcca5": {
      "model_module": "@jupyter-widgets/controls",
      "model_module_version": "1.5.0",
      "model_name": "DropdownModel",
      "state": {
       "_options_labels": [
        "leafduration",
        "leafold",
        "maxorder",
        "radinc",
        "nb_axes"
       ],
       "index": 0,
       "layout": "IPY_MODEL_b349b6082b68436a830311e2652d9b99",
       "style": "IPY_MODEL_0095f53d7b9d447db6885939bd2cb620"
      }
     },
     "9730dfd5d19248f89d7451dd6688e7d5": {
      "model_module": "@jupyter-widgets/base",
      "model_module_version": "1.2.0",
      "model_name": "LayoutModel",
      "state": {}
     },
     "973162b76dea4a2bbb3e36144ea6db25": {
      "model_module": "@jupyter-widgets/base",
      "model_module_version": "1.2.0",
      "model_name": "LayoutModel",
      "state": {}
     },
     "973da0ef21a546739fbc9361cd34bfe5": {
      "model_module": "@jupyter-widgets/base",
      "model_module_version": "1.2.0",
      "model_name": "LayoutModel",
      "state": {}
     },
     "9773821d863c41edbda8c72cf73d3bc6": {
      "model_module": "@jupyter-widgets/controls",
      "model_module_version": "1.5.0",
      "model_name": "VBoxModel",
      "state": {
       "children": [
        "IPY_MODEL_684c8f4df8674412aedac32f204f41a4",
        "IPY_MODEL_1c64de6d810040e6a876cf03d544910b",
        "IPY_MODEL_58569d21975b4ecb94c1b21ac30e0823",
        "IPY_MODEL_a8e1694a081f4cdeac229c2c58ebc71b",
        "IPY_MODEL_b025d2c3b32b46ee9877ca8fabce0c2d"
       ],
       "layout": "IPY_MODEL_2132082f200f4a239684d6e5b976b196"
      }
     },
     "977fea6ecad74993b1e7f4b53f05bd3d": {
      "model_module": "@jupyter-widgets/base",
      "model_module_version": "1.2.0",
      "model_name": "LayoutModel",
      "state": {}
     },
     "97afb2960e67464ebd0ea7e768317b03": {
      "model_module": "@jupyter-widgets/base",
      "model_module_version": "1.2.0",
      "model_name": "LayoutModel",
      "state": {}
     },
     "97f9054a19b94f649c2c43daf746d8ad": {
      "model_module": "@jupyter-widgets/controls",
      "model_module_version": "1.5.0",
      "model_name": "TextModel",
      "state": {
       "continuous_update": false,
       "description": "name",
       "layout": "IPY_MODEL_365ec1034d8846dc934c13bdd628212a",
       "style": "IPY_MODEL_fe47d6fcca4343b9b6744ef3bf3370a2",
       "value": "maxorder"
      }
     },
     "9824adc57ba049e4afcc27d45ea5872d": {
      "model_module": "@jupyter-widgets/controls",
      "model_module_version": "1.5.0",
      "model_name": "DescriptionStyleModel",
      "state": {
       "description_width": ""
      }
     },
     "98277c35c08042f6a10536f9cec224a9": {
      "model_module": "@jupyter-widgets/base",
      "model_module_version": "1.2.0",
      "model_name": "LayoutModel",
      "state": {}
     },
     "98388df207bd4a559bfd30c5445ef20d": {
      "model_module": "@jupyter-widgets/base",
      "model_module_version": "1.2.0",
      "model_name": "LayoutModel",
      "state": {}
     },
     "983ff0bf760d4a3595c58dc8bec1ee06": {
      "model_module": "@jupyter-widgets/controls",
      "model_module_version": "1.5.0",
      "model_name": "FloatSliderModel",
      "state": {
       "description": "transparency",
       "layout": "IPY_MODEL_10052b125cad43d289bb2ecbb7d56d4f",
       "max": 1,
       "step": 0.1,
       "style": "IPY_MODEL_998e4a990bb5494382d67f8d49b65c19"
      }
     },
     "985068152a494f6a9cd086225e496a1c": {
      "model_module": "@jupyter-widgets/controls",
      "model_module_version": "1.5.0",
      "model_name": "SliderStyleModel",
      "state": {
       "description_width": ""
      }
     },
     "986f1e0e898f4259af59feb5928fa85f": {
      "model_module": "@jupyter-widgets/controls",
      "model_module_version": "1.5.0",
      "model_name": "ButtonStyleModel",
      "state": {}
     },
     "98aa41c6eb644b028a4c3b34c61591da": {
      "model_module": "@jupyter-widgets/controls",
      "model_module_version": "1.5.0",
      "model_name": "DescriptionStyleModel",
      "state": {
       "description_width": ""
      }
     },
     "98b3dcd8990146f594f7c54e237135e5": {
      "model_module": "pgljupyter",
      "model_module_version": "^0.1.19",
      "model_name": "IntEditorModel",
      "state": {
       "_model_module_version": "^0.1.19",
       "_view_module_version": "^0.1.19",
       "children": [
        "IPY_MODEL_1bf3eb867db745b39087e47d083ee70c",
        "IPY_MODEL_a7c7cb1ea21d4cc2ad1a8aa92bdc5b43"
       ],
       "layout": "IPY_MODEL_c9baeb3cc9b94afca6784ad73de3b963"
      }
     },
     "98b7c7ca7bc448ae81cc72e9e30aa98c": {
      "model_module": "@jupyter-widgets/controls",
      "model_module_version": "1.5.0",
      "model_name": "HBoxModel",
      "state": {
       "children": [
        "IPY_MODEL_801c8a29e9dd44cb8eb5afda3eb484c0",
        "IPY_MODEL_6a7bd7c65aec4e98adca9b17ad4b90de"
       ],
       "layout": "IPY_MODEL_bd6c191bf42247f4a626e8079fccd019"
      }
     },
     "98e62b318b7c483cb6d8f8cd5917ff1b": {
      "model_module": "pgljupyter",
      "model_module_version": "^0.1.17",
      "model_name": "ParameterEditorModel",
      "state": {
       "_model_module_version": "^0.1.17",
       "_view_module_version": "^0.1.17",
       "children": [
        "IPY_MODEL_8be95b6e2c4341088b47d9a41a5e1916"
       ],
       "layout": "IPY_MODEL_4be4fe9b98574f5e94986b02b8c225cb"
      }
     },
     "98fe3261f12c4e249958290f37ba93d2": {
      "model_module": "@jupyter-widgets/controls",
      "model_module_version": "1.5.0",
      "model_name": "ButtonModel",
      "state": {
       "description": "Delete",
       "layout": "IPY_MODEL_0daf2556cff5466a8f88c6b061377e55",
       "style": "IPY_MODEL_d563b21fb0e44bff9f75ce1b0e25866e"
      }
     },
     "9912022f5d81416fae20d7fb32ee621a": {
      "model_module": "@jupyter-widgets/controls",
      "model_module_version": "1.5.0",
      "model_name": "DescriptionStyleModel",
      "state": {
       "description_width": ""
      }
     },
     "9915bfe8a73a4ccab7d287b3385f6115": {
      "model_module": "@jupyter-widgets/base",
      "model_module_version": "1.2.0",
      "model_name": "LayoutModel",
      "state": {}
     },
     "991d20b434f14f32ba0b5c3eb2836f02": {
      "model_module": "@jupyter-widgets/base",
      "model_module_version": "1.2.0",
      "model_name": "LayoutModel",
      "state": {}
     },
     "9925cbd3ea0647db80ef2a633272125b": {
      "model_module": "@jupyter-widgets/controls",
      "model_module_version": "1.5.0",
      "model_name": "CheckboxModel",
      "state": {
       "description": "Auto save",
       "disabled": false,
       "layout": "IPY_MODEL_42e7b3c15d994cd6b5e009744d25d2cf",
       "style": "IPY_MODEL_e39e2498279249fda7dc6eebafd8b0bb",
       "value": false
      }
     },
     "994ff1c50b4e44a6bb5d4ae45fea71f2": {
      "model_module": "@jupyter-widgets/base",
      "model_module_version": "1.2.0",
      "model_name": "LayoutModel",
      "state": {}
     },
     "9961b6fd43374fabbaa82d99027e4bb1": {
      "model_module": "@jupyter-widgets/controls",
      "model_module_version": "1.5.0",
      "model_name": "ButtonStyleModel",
      "state": {}
     },
     "998772480aac452387c45481c4a8859d": {
      "model_module": "@jupyter-widgets/base",
      "model_module_version": "1.2.0",
      "model_name": "LayoutModel",
      "state": {}
     },
     "998e4a990bb5494382d67f8d49b65c19": {
      "model_module": "@jupyter-widgets/controls",
      "model_module_version": "1.5.0",
      "model_name": "SliderStyleModel",
      "state": {
       "description_width": ""
      }
     },
     "9991cdc311734263a5179071275bff7c": {
      "model_module": "@jupyter-widgets/controls",
      "model_module_version": "1.5.0",
      "model_name": "ColorPickerModel",
      "state": {
       "description": "specular",
       "disabled": false,
       "layout": "IPY_MODEL_5d416a34f993487a93cb14b0054ea4ea",
       "style": "IPY_MODEL_160584d7549b440497e447884ae62452",
       "value": "#282828"
      }
     },
     "9995b849589e4f8a87cd74cb1555ef93": {
      "model_module": "@jupyter-widgets/controls",
      "model_module_version": "1.5.0",
      "model_name": "DescriptionStyleModel",
      "state": {
       "description_width": ""
      }
     },
     "99a8e99bf57142b881b83b3908b78915": {
      "model_module": "@jupyter-widgets/controls",
      "model_module_version": "1.5.0",
      "model_name": "TextModel",
      "state": {
       "continuous_update": false,
       "description": "name",
       "layout": "IPY_MODEL_1d1181a2fd7a41b6942a8f000b3d75bd",
       "style": "IPY_MODEL_d98400c8547342cb8a67ecbb1f113126",
       "value": "radinc"
      }
     },
     "9a13b45d2bde411991cd2067c9e84185": {
      "model_module": "@jupyter-widgets/base",
      "model_module_version": "1.2.0",
      "model_name": "LayoutModel",
      "state": {}
     },
     "9a1e1906710e483a890168686eb48dea": {
      "model_module": "@jupyter-widgets/controls",
      "model_module_version": "1.5.0",
      "model_name": "ButtonStyleModel",
      "state": {}
     },
     "9a39bcbc02c34c958a3a2bea5ded14be": {
      "model_module": "@jupyter-widgets/controls",
      "model_module_version": "1.5.0",
      "model_name": "DropdownModel",
      "state": {
       "index": null,
       "layout": "IPY_MODEL_554ebc2fe70b441697fdba4d2a6f87c0",
       "style": "IPY_MODEL_d5962bdf3e204a32a0c5f001c01c8af8"
      }
     },
     "9a41a01617a04615af343d69236d1e69": {
      "model_module": "@jupyter-widgets/controls",
      "model_module_version": "1.5.0",
      "model_name": "DescriptionStyleModel",
      "state": {
       "description_width": ""
      }
     },
     "9a57f9c762704968844cf5cf71803d87": {
      "model_module": "@jupyter-widgets/controls",
      "model_module_version": "1.5.0",
      "model_name": "FloatSliderModel",
      "state": {
       "description": "shininess",
       "layout": "IPY_MODEL_ffa7968d5369463eadff716d61ff8c15",
       "max": 1,
       "step": 0.1,
       "style": "IPY_MODEL_3dda600e26ba44f9a458b8f113ced26f",
       "value": 0.2
      }
     },
     "9a9dd7b9393e473ab51a5616b57ee709": {
      "model_module": "@jupyter-widgets/controls",
      "model_module_version": "1.5.0",
      "model_name": "FloatSliderModel",
      "state": {
       "description": "diffuse",
       "layout": "IPY_MODEL_0f79a7c69fb34b2d9f55d3a3cfb5c585",
       "max": 3,
       "step": 0.1,
       "style": "IPY_MODEL_5d56f12735114a72b59aee0792d5ab99",
       "value": 1
      }
     },
     "9adab8c2be424a5f8a9aa5ef3f26e6dd": {
      "model_module": "@jupyter-widgets/base",
      "model_module_version": "1.2.0",
      "model_name": "LayoutModel",
      "state": {}
     },
     "9b10fafd1dad421981300c41e7b605cc": {
      "model_module": "@jupyter-widgets/controls",
      "model_module_version": "1.5.0",
      "model_name": "HBoxModel",
      "state": {
       "children": [
        "IPY_MODEL_679a4e3dbf4340d084066a79f8c8540d",
        "IPY_MODEL_6e149d6140aa4abca3c6a495c874087e"
       ],
       "layout": "IPY_MODEL_bb79433b06b94630b6f77fbc405d30c3"
      }
     },
     "9b28113ac4cf4246b8f51027152a28ae": {
      "model_module": "@jupyter-widgets/base",
      "model_module_version": "1.2.0",
      "model_name": "LayoutModel",
      "state": {}
     },
     "9b2cf354612745219cec51fc673564b0": {
      "model_module": "@jupyter-widgets/controls",
      "model_module_version": "1.5.0",
      "model_name": "DescriptionStyleModel",
      "state": {
       "description_width": ""
      }
     },
     "9b30eab18de94dffbe1a6d676db8158c": {
      "model_module": "@jupyter-widgets/base",
      "model_module_version": "1.2.0",
      "model_name": "LayoutModel",
      "state": {}
     },
     "9b3e11ebb803450b986ba009cd7271d1": {
      "model_module": "@jupyter-widgets/base",
      "model_module_version": "1.2.0",
      "model_name": "LayoutModel",
      "state": {
       "margin": "20px 0px"
      }
     },
     "9b552c4d5fcb4cb5a27ef472c8be80f2": {
      "model_module": "@jupyter-widgets/base",
      "model_module_version": "1.2.0",
      "model_name": "LayoutModel",
      "state": {}
     },
     "9b789e08ff1c46f1bb9f707c180a4903": {
      "model_module": "@jupyter-widgets/base",
      "model_module_version": "1.2.0",
      "model_name": "LayoutModel",
      "state": {}
     },
     "9b8436ae14f84fa29eae52599733cb23": {
      "model_module": "@jupyter-widgets/controls",
      "model_module_version": "1.5.0",
      "model_name": "SliderStyleModel",
      "state": {
       "description_width": ""
      }
     },
     "9b9062181b2349279a58cedf3d1a123f": {
      "model_module": "@jupyter-widgets/controls",
      "model_module_version": "1.5.0",
      "model_name": "HBoxModel",
      "state": {
       "layout": "IPY_MODEL_5ffcfabea4324e77ba7847c89942d8f5"
      }
     },
     "9b9a7369a8eb4f5da61755ac616f74c3": {
      "model_module": "@jupyter-widgets/controls",
      "model_module_version": "1.5.0",
      "model_name": "ButtonModel",
      "state": {
       "description": "Delete",
       "layout": "IPY_MODEL_8688606d2e9e400dbdbdb02bf5459c6a",
       "style": "IPY_MODEL_8385988dc1324faabaa3e51b770405fa"
      }
     },
     "9baabb8054da4869a9a5271e3cb0fc84": {
      "model_module": "@jupyter-widgets/controls",
      "model_module_version": "1.5.0",
      "model_name": "DescriptionStyleModel",
      "state": {
       "description_width": ""
      }
     },
     "9bbd113d7ca4432ebc3257210c3b4bba": {
      "model_module": "@jupyter-widgets/controls",
      "model_module_version": "1.5.0",
      "model_name": "BoundedIntTextModel",
      "state": {
       "description": "index",
       "layout": "IPY_MODEL_90f363a2c49a484a843ce9189c500501",
       "style": "IPY_MODEL_6dc7af3ab18949c5af3d4e2a41944457",
       "value": 2
      }
     },
     "9bc9c3338eea4c8c86654a7b2ab4b2be": {
      "model_module": "@jupyter-widgets/controls",
      "model_module_version": "1.5.0",
      "model_name": "BoundedIntTextModel",
      "state": {
       "description": "index",
       "layout": "IPY_MODEL_9d44e4d7b6b5496abd6950c0d6063e41",
       "style": "IPY_MODEL_c30638fef6f54cf1961713315e8da2f9",
       "value": 1
      }
     },
     "9bee7a831530488d8f1b62a13071e4a1": {
      "model_module": "@jupyter-widgets/controls",
      "model_module_version": "1.5.0",
      "model_name": "HBoxModel",
      "state": {
       "children": [
        "IPY_MODEL_bc2caf9b3fc84da494330dba24816842",
        "IPY_MODEL_744795a86db044f098523c400f8e0b54"
       ],
       "layout": "IPY_MODEL_05158b063b184ffe96c65e42e171536a"
      }
     },
     "9c1c587b0f2d4e4ab57cdc4be496188a": {
      "model_module": "@jupyter-widgets/controls",
      "model_module_version": "1.5.0",
      "model_name": "ButtonModel",
      "state": {
       "description": "Add",
       "layout": "IPY_MODEL_05c8647075de4344b4300ae9892bd659",
       "style": "IPY_MODEL_24758aaf99ef4e2d83b824c7757e578a"
      }
     },
     "9c81b23cc78347d3b3f5498f783fd5c4": {
      "model_module": "@jupyter-widgets/controls",
      "model_module_version": "1.5.0",
      "model_name": "CheckboxModel",
      "state": {
       "description": "Auto apply",
       "disabled": false,
       "layout": "IPY_MODEL_9fa3784e27c34e6ba76a8dc86ca4931f",
       "style": "IPY_MODEL_ef248a12bce040c9b9d1143f988a7f70",
       "value": false
      }
     },
     "9c9be4e906924b7ca4fc59cedc2f1e32": {
      "model_module": "@jupyter-widgets/base",
      "model_module_version": "1.2.0",
      "model_name": "LayoutModel",
      "state": {}
     },
     "9c9e8e570eeb465eb30c7eb226f210ab": {
      "model_module": "@jupyter-widgets/base",
      "model_module_version": "1.2.0",
      "model_name": "LayoutModel",
      "state": {}
     },
     "9c9faa69b3cc422bacb248629847951b": {
      "model_module": "@jupyter-widgets/controls",
      "model_module_version": "1.5.0",
      "model_name": "FloatSliderModel",
      "state": {
       "description": "diffuse",
       "layout": "IPY_MODEL_fffdce2dbd3c478e87ffe3ab55ccfcaf",
       "max": 3,
       "step": 0.1,
       "style": "IPY_MODEL_c7fdf9479d19465286070c71ea3e9462",
       "value": 1
      }
     },
     "9ca461330d2145f89ba7e4575a975a1e": {
      "model_module": "@jupyter-widgets/controls",
      "model_module_version": "1.5.0",
      "model_name": "DropdownModel",
      "state": {
       "_options_labels": [
        "trunk",
        "leaf_new",
        "apex",
        "leaf_old"
       ],
       "index": 0,
       "layout": "IPY_MODEL_7ab21dc191f244d38e02875852ce1635",
       "style": "IPY_MODEL_17dc7d6946fa4dcb97123fb2091496ed"
      }
     },
     "9cbbf712b5e546d7b39a41428b0aa2f1": {
      "model_module": "@jupyter-widgets/controls",
      "model_module_version": "1.5.0",
      "model_name": "DescriptionStyleModel",
      "state": {
       "description_width": ""
      }
     },
     "9cf65854b2c54adb984d11e458529a82": {
      "model_module": "@jupyter-widgets/controls",
      "model_module_version": "1.5.0",
      "model_name": "SliderStyleModel",
      "state": {
       "description_width": ""
      }
     },
     "9d12e0ef939e4807b6d9a006fce2d523": {
      "model_module": "@jupyter-widgets/controls",
      "model_module_version": "1.5.0",
      "model_name": "BoundedFloatTextModel",
      "state": {
       "description": "step",
       "layout": "IPY_MODEL_255b3c439597483f80ed865cd04cc345",
       "max": 1,
       "min": 0.01,
       "step": 0.01,
       "style": "IPY_MODEL_259e1b89f75240de83d19dcd3b59bf86",
       "value": 0.01
      }
     },
     "9d18be69857d479da54872b16cad623b": {
      "model_module": "@jupyter-widgets/base",
      "model_module_version": "1.2.0",
      "model_name": "LayoutModel",
      "state": {}
     },
     "9d1b1500742c4f999e573ae2bbe82138": {
      "model_module": "@jupyter-widgets/controls",
      "model_module_version": "1.5.0",
      "model_name": "HBoxModel",
      "state": {
       "children": [
        "IPY_MODEL_57f9e7baa3ba4c54a8e29fd55fd21d1f",
        "IPY_MODEL_aa8e6862821c4fb5a1517274a9313944"
       ],
       "layout": "IPY_MODEL_3bc19bb63ddf48d997c4e036a6b93e14"
      }
     },
     "9d1c471f6aa5499386c9cee5a496cdfc": {
      "model_module": "@jupyter-widgets/controls",
      "model_module_version": "1.5.0",
      "model_name": "HBoxModel",
      "state": {
       "children": [
        "IPY_MODEL_27f197b4f13d478283479e8a52271d78",
        "IPY_MODEL_42733af347b24deeb6820dafdba23586"
       ],
       "layout": "IPY_MODEL_8b43f3f764b3434fbc0675fd7f1f079d"
      }
     },
     "9d3e8bfa637b4501a40010eae48c2c9e": {
      "model_module": "@jupyter-widgets/base",
      "model_module_version": "1.2.0",
      "model_name": "LayoutModel",
      "state": {}
     },
     "9d44e4d7b6b5496abd6950c0d6063e41": {
      "model_module": "@jupyter-widgets/base",
      "model_module_version": "1.2.0",
      "model_name": "LayoutModel",
      "state": {}
     },
     "9d4b9a9b3979406d872e9b0718717eb7": {
      "model_module": "@jupyter-widgets/controls",
      "model_module_version": "1.5.0",
      "model_name": "ColorPickerModel",
      "state": {
       "description": "ambient",
       "disabled": false,
       "layout": "IPY_MODEL_08a086db9f984b649195bfba6e845663",
       "style": "IPY_MODEL_7844922bdc964f79876f85b1d4fdf8b4",
       "value": "#5b4534"
      }
     },
     "9d7be6be4d2747209818d0df34b5332e": {
      "model_module": "@jupyter-widgets/controls",
      "model_module_version": "1.5.0",
      "model_name": "DescriptionStyleModel",
      "state": {
       "description_width": ""
      }
     },
     "9d85129303a24583bb579ed66f0f17c6": {
      "model_module": "@jupyter-widgets/controls",
      "model_module_version": "1.5.0",
      "model_name": "BoundedIntTextModel",
      "state": {
       "description": "index",
       "layout": "IPY_MODEL_9323e0d993094b5598ad0290264509ac",
       "style": "IPY_MODEL_c25725e9ed4543cba7cfc3aee18d110d",
       "value": 3
      }
     },
     "9db215c1ff3242bab8eb9533ae4c1142": {
      "model_module": "@jupyter-widgets/controls",
      "model_module_version": "1.5.0",
      "model_name": "ColorPickerModel",
      "state": {
       "description": "ambient",
       "disabled": false,
       "layout": "IPY_MODEL_0d6a37d535614710acb801033c6e1b4b",
       "style": "IPY_MODEL_38f0ad6d78c543e584e0999e772ae5b0",
       "value": "#e1a014"
      }
     },
     "9e08c85091ae4652b970aefe883adffe": {
      "model_module": "@jupyter-widgets/controls",
      "model_module_version": "1.5.0",
      "model_name": "HBoxModel",
      "state": {
       "children": [
        "IPY_MODEL_b3d9969700604879a7e1ef7be2ac166b",
        "IPY_MODEL_3cb28559df4b4b6280518ded5fdd05f3"
       ],
       "layout": "IPY_MODEL_3bc19bb63ddf48d997c4e036a6b93e14"
      }
     },
     "9e0dbc685d844cfd942dcb418366010a": {
      "model_module": "@jupyter-widgets/base",
      "model_module_version": "1.2.0",
      "model_name": "LayoutModel",
      "state": {}
     },
     "9e28d980a69940b8887b30e5d2ab7eba": {
      "model_module": "@jupyter-widgets/controls",
      "model_module_version": "1.5.0",
      "model_name": "SliderStyleModel",
      "state": {
       "description_width": ""
      }
     },
     "9e2c5933bf4e4702ae54e16799be5b86": {
      "model_module": "@jupyter-widgets/base",
      "model_module_version": "1.2.0",
      "model_name": "LayoutModel",
      "state": {}
     },
     "9e900280d0514e8d81562cb4284c52dd": {
      "model_module": "@jupyter-widgets/base",
      "model_module_version": "1.2.0",
      "model_name": "LayoutModel",
      "state": {}
     },
     "9e9532d3f9264d848c9671d25e59429b": {
      "model_module": "@jupyter-widgets/base",
      "model_module_version": "1.2.0",
      "model_name": "LayoutModel",
      "state": {}
     },
     "9e9b6175f07b4b388b45284c5be91fe8": {
      "model_module": "@jupyter-widgets/base",
      "model_module_version": "1.2.0",
      "model_name": "LayoutModel",
      "state": {}
     },
     "9ed51db8130848ad90da4bdd175506a3": {
      "model_module": "@jupyter-widgets/base",
      "model_module_version": "1.2.0",
      "model_name": "LayoutModel",
      "state": {}
     },
     "9ee5d720dcae4c069102652434c21d39": {
      "model_module": "@jupyter-widgets/controls",
      "model_module_version": "1.5.0",
      "model_name": "HBoxModel",
      "state": {
       "children": [
        "IPY_MODEL_7884a3eaafaf49dc94a54da2f8369143",
        "IPY_MODEL_12cadca31b544ca58152aeb5769e58dd"
       ],
       "layout": "IPY_MODEL_f33321dfdd1e448eacd73ae8c3951fdf"
      }
     },
     "9f1b252d842443fc95ac8e7e4f03c95a": {
      "model_module": "@jupyter-widgets/controls",
      "model_module_version": "1.5.0",
      "model_name": "ButtonModel",
      "state": {
       "description": "Add category",
       "layout": "IPY_MODEL_25319b4a1c0d492ea4c44baed1f845f1",
       "style": "IPY_MODEL_22f9f8931d46440d97e214fb63e75678"
      }
     },
     "9f2dbce166f945239d5998018bbaae65": {
      "model_module": "@jupyter-widgets/controls",
      "model_module_version": "1.5.0",
      "model_name": "ButtonModel",
      "state": {
       "description": "Save changes",
       "layout": "IPY_MODEL_1b5446a7b8594571b37b59d8d9494810",
       "style": "IPY_MODEL_10cf3b81371e442e9ea401ba90dc6424"
      }
     },
     "9f354ca43c3848c8a0a6e0d4c83d58ba": {
      "model_module": "@jupyter-widgets/controls",
      "model_module_version": "1.5.0",
      "model_name": "HBoxModel",
      "state": {
       "children": [
        "IPY_MODEL_b83043512c0f4a2d9f6e344f6ba2039e",
        "IPY_MODEL_cce99130437343edbb73e295b4bb4a02"
       ],
       "layout": "IPY_MODEL_81b18d0fb7524952b85175ffd2632d16"
      }
     },
     "9f81c34fd48c46a38082ef22fe436144": {
      "model_module": "@jupyter-widgets/base",
      "model_module_version": "1.2.0",
      "model_name": "LayoutModel",
      "state": {}
     },
     "9fa3784e27c34e6ba76a8dc86ca4931f": {
      "model_module": "@jupyter-widgets/base",
      "model_module_version": "1.2.0",
      "model_name": "LayoutModel",
      "state": {}
     },
     "9fa90f82578d4c6cbf8256092d7543fa": {
      "model_module": "@jupyter-widgets/controls",
      "model_module_version": "1.5.0",
      "model_name": "ButtonStyleModel",
      "state": {}
     },
     "9fafbd4bd5c347e4855e7442dafe12b9": {
      "model_module": "@jupyter-widgets/base",
      "model_module_version": "1.2.0",
      "model_name": "LayoutModel",
      "state": {}
     },
     "9fc74170bac440199e6a488d96a62828": {
      "model_module": "@jupyter-widgets/base",
      "model_module_version": "1.2.0",
      "model_name": "LayoutModel",
      "state": {}
     },
     "9fd3d652ee284bd4a3d837a4c638a0ff": {
      "model_module": "@jupyter-widgets/base",
      "model_module_version": "1.2.0",
      "model_name": "LayoutModel",
      "state": {}
     },
     "9ff1c9457cb74aa3a67133ab431c26fa": {
      "model_module": "@jupyter-widgets/controls",
      "model_module_version": "1.5.0",
      "model_name": "AccordionModel",
      "state": {
       "_titles": {
        "0": "materials",
        "1": "leaf",
        "2": "trunk & branches"
       },
       "children": [
        "IPY_MODEL_eb1b16194a974b38b9619ef00779fa26",
        "IPY_MODEL_2ddb53f89ba24d29879e06aa20312c33",
        "IPY_MODEL_ba8e3775748c410583ae69a234f084fd"
       ],
       "layout": "IPY_MODEL_481a58dae7e14912a728666f6352c9b3"
      }
     },
     "a01d9dc1f8e34f3296fd8d2ea826ec8c": {
      "model_module": "@jupyter-widgets/controls",
      "model_module_version": "1.5.0",
      "model_name": "DescriptionStyleModel",
      "state": {
       "description_width": ""
      }
     },
     "a02f0afc7f6946cfbda70b9cb2bee9f9": {
      "model_module": "@jupyter-widgets/controls",
      "model_module_version": "1.5.0",
      "model_name": "DropdownModel",
      "state": {
       "_options_labels": [
        "leafduration",
        "leafold"
       ],
       "index": 0,
       "layout": "IPY_MODEL_de0166a69e364f30890e136c6a843c04",
       "style": "IPY_MODEL_17a8887bab0d48dda0b6eb417e76dbac"
      }
     },
     "a03e944e51cb40c5810fc9d0fa1bbb94": {
      "model_module": "@jupyter-widgets/controls",
      "model_module_version": "1.5.0",
      "model_name": "HBoxModel",
      "state": {
       "children": [
        "IPY_MODEL_1353b6016646410798b195d84bc20e50",
        "IPY_MODEL_7d00e5b6fac64279ab76b336056511c0",
        "IPY_MODEL_f091e8ee938040379301180a6b5f8ece",
        "IPY_MODEL_dab8e9c05b4743e0910867303374e23e"
       ],
       "layout": "IPY_MODEL_5a7768daa7114d36b770ea435fe36cec"
      }
     },
     "a040e564c6074eea9a319635ee6a8b65": {
      "model_module": "@jupyter-widgets/controls",
      "model_module_version": "1.5.0",
      "model_name": "BoundedIntTextModel",
      "state": {
       "description": "index",
       "layout": "IPY_MODEL_8b33865f7edf4592b76de465d9ef7865",
       "style": "IPY_MODEL_e9a1aafd1830458180b559384bc673de",
       "value": 3
      }
     },
     "a05c2a0fc34b4dfe85701e30e5a55732": {
      "model_module": "@jupyter-widgets/controls",
      "model_module_version": "1.5.0",
      "model_name": "ColorPickerModel",
      "state": {
       "description": "specular",
       "disabled": false,
       "layout": "IPY_MODEL_d4426702c7c94b0aac24491668d12154",
       "style": "IPY_MODEL_89abd2f5d7a24df6bcce9045e015f6b6",
       "value": "#282828"
      }
     },
     "a0702378d919446e8e9b36d5aac020a8": {
      "model_module": "@jupyter-widgets/controls",
      "model_module_version": "1.5.0",
      "model_name": "SliderStyleModel",
      "state": {
       "description_width": ""
      }
     },
     "a085b26b82394122981b56abf14b25c8": {
      "model_module": "pgljupyter",
      "model_module_version": "^0.2.1",
      "model_name": "IntEditorModel",
      "state": {
       "_model_module_version": "^0.2.1",
       "_view_module_version": "^0.2.1",
       "children": [
        "IPY_MODEL_41950fdf84d549fc8cd6a73a994fcf80",
        "IPY_MODEL_96590a29bbfc445eb609ca3f432dbce8"
       ],
       "layout": "IPY_MODEL_3f825ff8d4504d48af191b22309753ef"
      }
     },
     "a0afcc87243542eeaf16398cb75a5821": {
      "model_module": "@jupyter-widgets/base",
      "model_module_version": "1.2.0",
      "model_name": "LayoutModel",
      "state": {}
     },
     "a0c0376ddf624c66a5d12384bfc7b96f": {
      "model_module": "@jupyter-widgets/base",
      "model_module_version": "1.2.0",
      "model_name": "LayoutModel",
      "state": {}
     },
     "a0c58eb759874d7aabec070d0f8f4e28": {
      "model_module": "@jupyter-widgets/base",
      "model_module_version": "1.2.0",
      "model_name": "LayoutModel",
      "state": {}
     },
     "a12bf960042943e8b1e8bbee51abb425": {
      "model_module": "@jupyter-widgets/controls",
      "model_module_version": "1.5.0",
      "model_name": "DropdownModel",
      "state": {
       "_options_labels": [
        "maxorder",
        "radinc",
        "nb_axes"
       ],
       "index": 0,
       "layout": "IPY_MODEL_7adadb4124b24f179bc60882cf6ae00a",
       "style": "IPY_MODEL_b9b1d7bb539941cd99ecc58e604d0784"
      }
     },
     "a143a5b673a2495e928dd346cefa7981": {
      "model_module": "@jupyter-widgets/controls",
      "model_module_version": "1.5.0",
      "model_name": "HBoxModel",
      "state": {
       "children": [
        "IPY_MODEL_b67e23aadfc0447c98ae6280c6d11af4",
        "IPY_MODEL_407e1eb8df67478aa2edf212374198dd"
       ],
       "layout": "IPY_MODEL_4d77f69f74244057baec36b232f87f78"
      }
     },
     "a14d2f25db9a4ee09e33307c1cc7015b": {
      "model_module": "@jupyter-widgets/controls",
      "model_module_version": "1.5.0",
      "model_name": "ColorPickerModel",
      "state": {
       "description": "specular",
       "disabled": false,
       "layout": "IPY_MODEL_ae2120fec28e429792294924ef4e7252",
       "style": "IPY_MODEL_0cb243c061d34b35a8ad51de93b3548a",
       "value": "#282828"
      }
     },
     "a15f82e8dd1a43408a5d120bd20123be": {
      "model_module": "@jupyter-widgets/controls",
      "model_module_version": "1.5.0",
      "model_name": "SliderStyleModel",
      "state": {
       "description_width": ""
      }
     },
     "a168b04a2dbf49739b7e62715ebafb2f": {
      "model_module": "@jupyter-widgets/controls",
      "model_module_version": "1.5.0",
      "model_name": "HBoxModel",
      "state": {
       "children": [
        "IPY_MODEL_862e6be63a4c4ec7a41e281d8b696e8d",
        "IPY_MODEL_73c2343975874c018e3bdb7a49cd342d"
       ],
       "layout": "IPY_MODEL_ee807aaf7dd849e494a1bea9e632bb51"
      }
     },
     "a177c650942f473394de06d06b3caca8": {
      "model_module": "@jupyter-widgets/controls",
      "model_module_version": "1.5.0",
      "model_name": "VBoxModel",
      "state": {
       "children": [
        "IPY_MODEL_137cbe8acae84e968a221cf773fdf8fd",
        "IPY_MODEL_c87de82df61849479c94ddeef1b62236"
       ],
       "layout": "IPY_MODEL_f6c4882c37f6475dbcdbc12bd7155a7c"
      }
     },
     "a1906644e02d4f33ae8f642c8841461f": {
      "model_module": "@jupyter-widgets/controls",
      "model_module_version": "1.5.0",
      "model_name": "ButtonModel",
      "state": {
       "description": "Add",
       "layout": "IPY_MODEL_9242e4b52d1c46328eae0b31e19984e1",
       "style": "IPY_MODEL_2f17b1525d00451c858cb41c69112c69"
      }
     },
     "a19a36aed4ac40049951a2984ceedf3b": {
      "model_module": "@jupyter-widgets/base",
      "model_module_version": "1.2.0",
      "model_name": "LayoutModel",
      "state": {}
     },
     "a1b5b03ee7734374841f6ac59804c61a": {
      "model_module": "@jupyter-widgets/controls",
      "model_module_version": "1.5.0",
      "model_name": "DropdownModel",
      "state": {
       "index": null,
       "layout": "IPY_MODEL_ccb39defb4b54d8591cbedd607b9aa56",
       "style": "IPY_MODEL_f68ef37f8ced4c228aca91904f273ad4"
      }
     },
     "a1ffee932cdc470b822651ca6ffd387e": {
      "model_module": "@jupyter-widgets/controls",
      "model_module_version": "1.5.0",
      "model_name": "FloatSliderModel",
      "state": {
       "continuous_update": false,
       "description": "shininess",
       "layout": "IPY_MODEL_237ab4ee0a704fc893b1f93fa8d1b2d4",
       "max": 1,
       "step": 0.1,
       "style": "IPY_MODEL_508279fbea164298875606d6a77639f3",
       "value": 0.2
      }
     },
     "a21046bdb21740aeae992e0143e91153": {
      "model_module": "@jupyter-widgets/controls",
      "model_module_version": "1.5.0",
      "model_name": "DescriptionStyleModel",
      "state": {
       "description_width": ""
      }
     },
     "a2621c9fa86a4cef802aae2710c3be5f": {
      "model_module": "@jupyter-widgets/controls",
      "model_module_version": "1.5.0",
      "model_name": "DropdownModel",
      "state": {
       "_options_labels": [
        "leafduration",
        "leafold"
       ],
       "index": 0,
       "layout": "IPY_MODEL_6d8d2b229cc647d08308701c382a11a7",
       "style": "IPY_MODEL_221ff8ea7a8240c4978f750044c1a1b6"
      }
     },
     "a26c18948d244e01af01c6897788165c": {
      "model_module": "@jupyter-widgets/controls",
      "model_module_version": "1.5.0",
      "model_name": "DescriptionStyleModel",
      "state": {
       "description_width": ""
      }
     },
     "a2722c80c6f648fb816f1a687cdea421": {
      "model_module": "@jupyter-widgets/controls",
      "model_module_version": "1.5.0",
      "model_name": "DropdownModel",
      "state": {
       "_options_labels": [
        "NurbsCurve2D",
        "BezierCurve2D",
        "Polyline2D",
        "Function"
       ],
       "index": 0,
       "layout": "IPY_MODEL_355ffe1500f74edb94926757da953874",
       "style": "IPY_MODEL_f836fd487d254139a4843f0eab8c88da"
      }
     },
     "a2b015214e0846d9ac5d81a1bebac7b4": {
      "model_module": "@jupyter-widgets/controls",
      "model_module_version": "1.5.0",
      "model_name": "CheckboxModel",
      "state": {
       "description": "Auto apply",
       "disabled": false,
       "layout": "IPY_MODEL_b40339e839344d96ba6ff6a53935e92b",
       "style": "IPY_MODEL_754a8ec29fb14d7087455060f4d25989",
       "value": false
      }
     },
     "a2c6eda68e01466896e29101678f2ecc": {
      "model_module": "@jupyter-widgets/controls",
      "model_module_version": "1.5.0",
      "model_name": "DescriptionStyleModel",
      "state": {
       "description_width": ""
      }
     },
     "a2c8f4caf0534767b4ee6a45ae3ec430": {
      "model_module": "@jupyter-widgets/controls",
      "model_module_version": "1.5.0",
      "model_name": "DropdownModel",
      "state": {
       "index": null,
       "layout": "IPY_MODEL_2bf17ef5037e47f2a920e8d7811f8932",
       "style": "IPY_MODEL_d96933ee81db49b7a9317685439d454c"
      }
     },
     "a2e0faf740134dcb8588672a0eb3e8d8": {
      "model_module": "@jupyter-widgets/base",
      "model_module_version": "1.2.0",
      "model_name": "LayoutModel",
      "state": {}
     },
     "a2e742f0ad8747ec88f5cf551a3b5224": {
      "model_module": "@jupyter-widgets/controls",
      "model_module_version": "1.5.0",
      "model_name": "HBoxModel",
      "state": {
       "layout": "IPY_MODEL_f54b6bb1cd9047f2913448b18542023e"
      }
     },
     "a2eafcfa36b44a6ba3e34657e64cec7a": {
      "model_module": "@jupyter-widgets/controls",
      "model_module_version": "1.5.0",
      "model_name": "FloatSliderModel",
      "state": {
       "description": "transparency",
       "layout": "IPY_MODEL_e01ac84da5b94b36859436d3ee12a19e",
       "max": 1,
       "step": 0.1,
       "style": "IPY_MODEL_dcc995adc6dd4fe097aab757670954b6"
      }
     },
     "a2eb67920af64606babedcf49f3ac443": {
      "model_module": "@jupyter-widgets/controls",
      "model_module_version": "1.5.0",
      "model_name": "DescriptionStyleModel",
      "state": {
       "description_width": ""
      }
     },
     "a301eb5668924f298fa462fb2ee4e2dc": {
      "model_module": "@jupyter-widgets/controls",
      "model_module_version": "1.5.0",
      "model_name": "SliderStyleModel",
      "state": {
       "description_width": ""
      }
     },
     "a31211d14aba43bd91f322ef00703313": {
      "model_module": "@jupyter-widgets/controls",
      "model_module_version": "1.5.0",
      "model_name": "FloatSliderModel",
      "state": {
       "continuous_update": false,
       "description": "diffuse",
       "layout": "IPY_MODEL_688c7ab900f64a39a92145e2304afd5e",
       "max": 3,
       "step": 0.1,
       "style": "IPY_MODEL_4b3dbea0b86d4ee298e367fc30300406",
       "value": 1
      }
     },
     "a3671b271bf948d2aaa3826c21d26b20": {
      "model_module": "@jupyter-widgets/controls",
      "model_module_version": "1.5.0",
      "model_name": "HBoxModel",
      "state": {
       "layout": "IPY_MODEL_6f5e6f5355bd440d8af5ee837dac75a9"
      }
     },
     "a3aa80b4b3224cfa978751461082efdd": {
      "model_module": "@jupyter-widgets/controls",
      "model_module_version": "1.5.0",
      "model_name": "DescriptionStyleModel",
      "state": {
       "description_width": ""
      }
     },
     "a4330bdab939492fbed45caab83a37b0": {
      "model_module": "@jupyter-widgets/base",
      "model_module_version": "1.2.0",
      "model_name": "LayoutModel",
      "state": {}
     },
     "a4413d9c30754ab7a29140a77c7d2e8f": {
      "model_module": "@jupyter-widgets/base",
      "model_module_version": "1.2.0",
      "model_name": "LayoutModel",
      "state": {
       "margin": "20px 0px"
      }
     },
     "a4778b701d8d479488af98ccfba9a85d": {
      "model_module": "@jupyter-widgets/base",
      "model_module_version": "1.2.0",
      "model_name": "LayoutModel",
      "state": {
       "margin": "20px 0px"
      }
     },
     "a4c87564910c4791b7ebc8217ae6af21": {
      "model_module": "@jupyter-widgets/base",
      "model_module_version": "1.2.0",
      "model_name": "LayoutModel",
      "state": {}
     },
     "a50990076fda416c96589b159085117c": {
      "model_module": "@jupyter-widgets/base",
      "model_module_version": "1.2.0",
      "model_name": "LayoutModel",
      "state": {}
     },
     "a5264762497747948922c606524ae042": {
      "model_module": "@jupyter-widgets/base",
      "model_module_version": "1.2.0",
      "model_name": "LayoutModel",
      "state": {}
     },
     "a52d14ce28c94f17afce4575f5ea57dd": {
      "model_module": "@jupyter-widgets/base",
      "model_module_version": "1.2.0",
      "model_name": "LayoutModel",
      "state": {}
     },
     "a547bbd798964d08896ad103a8c35c97": {
      "model_module": "@jupyter-widgets/base",
      "model_module_version": "1.2.0",
      "model_name": "LayoutModel",
      "state": {}
     },
     "a56afbd1a4e74ddb9b19fb5de0bcf2b0": {
      "model_module": "@jupyter-widgets/controls",
      "model_module_version": "1.5.0",
      "model_name": "DescriptionStyleModel",
      "state": {
       "description_width": ""
      }
     },
     "a5a3a25a887b433b95152afe55d8192d": {
      "model_module": "@jupyter-widgets/base",
      "model_module_version": "1.2.0",
      "model_name": "LayoutModel",
      "state": {}
     },
     "a5d0d447b1394b03986172fc7562d1f4": {
      "model_module": "@jupyter-widgets/controls",
      "model_module_version": "1.5.0",
      "model_name": "HBoxModel",
      "state": {
       "children": [
        "IPY_MODEL_96cdd7a7ccd846d3924fb1cc7ba26616",
        "IPY_MODEL_0414cc8a90c64c448f20ab6c7de8a484"
       ],
       "layout": "IPY_MODEL_a7a0c50477554430aa4553a8141c8cdf"
      }
     },
     "a5d5405acf374b40a9d6a683b655ac55": {
      "model_module": "@jupyter-widgets/controls",
      "model_module_version": "1.5.0",
      "model_name": "DescriptionStyleModel",
      "state": {
       "description_width": ""
      }
     },
     "a5dda22448ef440894f70c195c7f9911": {
      "model_module": "@jupyter-widgets/base",
      "model_module_version": "1.2.0",
      "model_name": "LayoutModel",
      "state": {}
     },
     "a5fa387b659b43e6811c5b2786ac85cd": {
      "model_module": "@jupyter-widgets/controls",
      "model_module_version": "1.5.0",
      "model_name": "HBoxModel",
      "state": {
       "children": [
        "IPY_MODEL_45109e056cae4646bd13589740cb2e07",
        "IPY_MODEL_ad7052f26bac417382466038fda4af38"
       ],
       "layout": "IPY_MODEL_2c72ff2950854494b63f8872eabd3dac"
      }
     },
     "a6a5cc76976d4a088ca7e7f307750adf": {
      "model_module": "@jupyter-widgets/controls",
      "model_module_version": "1.5.0",
      "model_name": "DescriptionStyleModel",
      "state": {
       "description_width": ""
      }
     },
     "a6b2268c582b4593aeb1fd6140283cda": {
      "model_module": "@jupyter-widgets/controls",
      "model_module_version": "1.5.0",
      "model_name": "ColorPickerModel",
      "state": {
       "description": "specular",
       "disabled": false,
       "layout": "IPY_MODEL_e53a81fe5d75435cb12952d290d8bed4",
       "style": "IPY_MODEL_0265533bc3464ca7a91abeccee38a36a",
       "value": "#282828"
      }
     },
     "a6ba6d086bb947a9a81c7c00b649099a": {
      "model_module": "@jupyter-widgets/controls",
      "model_module_version": "1.5.0",
      "model_name": "HBoxModel",
      "state": {
       "children": [
        "IPY_MODEL_73f23e73ddf440029997bd7411d5ebcb",
        "IPY_MODEL_9f354ca43c3848c8a0a6e0d4c83d58ba"
       ],
       "layout": "IPY_MODEL_4d77f69f74244057baec36b232f87f78"
      }
     },
     "a72f273cdb3945e394051fb5a3ed72de": {
      "model_module": "@jupyter-widgets/controls",
      "model_module_version": "1.5.0",
      "model_name": "TextModel",
      "state": {
       "continuous_update": false,
       "description": "name",
       "layout": "IPY_MODEL_2e4a8e24f3cb480f948147e7187812ba",
       "style": "IPY_MODEL_5c45b8f207094c259218686f4e90aff4",
       "value": "maxorder"
      }
     },
     "a74641fad73f460aaf67830e96175f14": {
      "model_module": "@jupyter-widgets/controls",
      "model_module_version": "1.5.0",
      "model_name": "ButtonModel",
      "state": {
       "description": "Add",
       "layout": "IPY_MODEL_8e4723856ef545059ac8d8e784b37a8e",
       "style": "IPY_MODEL_2f7990fb68574e08a097ad24e9646305"
      }
     },
     "a748a5f3be3444728407cba1e18220ed": {
      "model_module": "@jupyter-widgets/base",
      "model_module_version": "1.2.0",
      "model_name": "LayoutModel",
      "state": {}
     },
     "a74963dac2344d5ab99396cfdd373704": {
      "model_module": "@jupyter-widgets/base",
      "model_module_version": "1.2.0",
      "model_name": "LayoutModel",
      "state": {}
     },
     "a75434c3fb8d4eec8cc250448d6fe60e": {
      "model_module": "@jupyter-widgets/base",
      "model_module_version": "1.2.0",
      "model_name": "LayoutModel",
      "state": {}
     },
     "a7a0c50477554430aa4553a8141c8cdf": {
      "model_module": "@jupyter-widgets/base",
      "model_module_version": "1.2.0",
      "model_name": "LayoutModel",
      "state": {}
     },
     "a7c69b809d4642a18995e3906e60c2e9": {
      "model_module": "@jupyter-widgets/controls",
      "model_module_version": "1.5.0",
      "model_name": "DescriptionStyleModel",
      "state": {
       "description_width": ""
      }
     },
     "a7c7cb1ea21d4cc2ad1a8aa92bdc5b43": {
      "model_module": "@jupyter-widgets/controls",
      "model_module_version": "1.5.0",
      "model_name": "IntSliderModel",
      "state": {
       "description": "value",
       "layout": "IPY_MODEL_4c9d04011f15472db454f026ea6b3c07",
       "max": 10,
       "min": 1,
       "style": "IPY_MODEL_f1784203f14e47b2863da9024e9cac9a",
       "value": 5
      }
     },
     "a8369538a32943eb99a2eec1eabbfcba": {
      "model_module": "@jupyter-widgets/controls",
      "model_module_version": "1.5.0",
      "model_name": "DescriptionStyleModel",
      "state": {
       "description_width": ""
      }
     },
     "a85c018ff0064956bb30f7fd2e8e7010": {
      "model_module": "@jupyter-widgets/base",
      "model_module_version": "1.2.0",
      "model_name": "LayoutModel",
      "state": {}
     },
     "a85f651d3d144554a4c5e5260dc4c9c3": {
      "model_module": "@jupyter-widgets/base",
      "model_module_version": "1.2.0",
      "model_name": "LayoutModel",
      "state": {
       "margin": "20px 0px"
      }
     },
     "a8635d0de8634cffa50f768817ef709b": {
      "model_module": "@jupyter-widgets/controls",
      "model_module_version": "1.5.0",
      "model_name": "DescriptionStyleModel",
      "state": {
       "description_width": ""
      }
     },
     "a88837dec5b742f6a10d5977330bd661": {
      "model_module": "@jupyter-widgets/base",
      "model_module_version": "1.2.0",
      "model_name": "LayoutModel",
      "state": {}
     },
     "a8e1694a081f4cdeac229c2c58ebc71b": {
      "model_module": "@jupyter-widgets/controls",
      "model_module_version": "1.5.0",
      "model_name": "HBoxModel",
      "state": {
       "children": [
        "IPY_MODEL_3370ab19ca7d4eb6bd833095110e8888",
        "IPY_MODEL_5d6e79af49c540d687173491bdf52613"
       ],
       "layout": "IPY_MODEL_78dff3c9b0ab4092885a4681b708b9c4"
      }
     },
     "a928100a1a7543c1a952e02f63653d38": {
      "model_module": "@jupyter-widgets/base",
      "model_module_version": "1.2.0",
      "model_name": "LayoutModel",
      "state": {}
     },
     "a930375536a646e7ae094ba7aef7b12c": {
      "model_module": "@jupyter-widgets/controls",
      "model_module_version": "1.5.0",
      "model_name": "DescriptionStyleModel",
      "state": {
       "description_width": ""
      }
     },
     "a9567de3ebd14a1ea85f21b1ea294e13": {
      "model_module": "@jupyter-widgets/controls",
      "model_module_version": "1.5.0",
      "model_name": "ButtonStyleModel",
      "state": {}
     },
     "a986327c2f5f410491da6da14c2b9def": {
      "model_module": "@jupyter-widgets/controls",
      "model_module_version": "1.5.0",
      "model_name": "DescriptionStyleModel",
      "state": {
       "description_width": ""
      }
     },
     "a9b011b81d9a47ae956fb42dd48f7577": {
      "model_module": "@jupyter-widgets/controls",
      "model_module_version": "1.5.0",
      "model_name": "SliderStyleModel",
      "state": {
       "description_width": ""
      }
     },
     "a9b7a5bea64640859355bc1f3bd40aed": {
      "model_module": "@jupyter-widgets/base",
      "model_module_version": "1.2.0",
      "model_name": "LayoutModel",
      "state": {
       "flex_flow": "row wrap",
       "margin": "20px"
      }
     },
     "a9cadb58b2d74d899f90724daa0dbc03": {
      "model_module": "@jupyter-widgets/controls",
      "model_module_version": "1.5.0",
      "model_name": "DescriptionStyleModel",
      "state": {
       "description_width": ""
      }
     },
     "a9df16e35c5f405d9c104c38009649b4": {
      "model_module": "@jupyter-widgets/base",
      "model_module_version": "1.2.0",
      "model_name": "LayoutModel",
      "state": {}
     },
     "aa07377abfb5489ca39018eb747fddb6": {
      "model_module": "@jupyter-widgets/controls",
      "model_module_version": "1.5.0",
      "model_name": "HBoxModel",
      "state": {
       "children": [
        "IPY_MODEL_1a39600936bd4b199a960b5ddd12c3ef",
        "IPY_MODEL_e2b7f42fba7146f9bd943e2d6c422529"
       ],
       "layout": "IPY_MODEL_3af78c5ade4d410a8a1156f28dde5870"
      }
     },
     "aa1527d107974d47bd2fd0186635a413": {
      "model_module": "@jupyter-widgets/base",
      "model_module_version": "1.2.0",
      "model_name": "LayoutModel",
      "state": {}
     },
     "aa34cffd296144adbb84e44628679faa": {
      "model_module": "@jupyter-widgets/controls",
      "model_module_version": "1.5.0",
      "model_name": "HBoxModel",
      "state": {
       "children": [
        "IPY_MODEL_3118b20c6b1b41b095139fadd7aa0f5e",
        "IPY_MODEL_8f4c0103e27f4574ba684259337a9d96",
        "IPY_MODEL_64ddded86cc94f2aaa65c66efd8404cd"
       ],
       "layout": "IPY_MODEL_37b2865fee2b4a02bc2013f64eaefc86"
      }
     },
     "aa7970d024354752a90a19d52ffb4ba6": {
      "model_module": "@jupyter-widgets/base",
      "model_module_version": "1.2.0",
      "model_name": "LayoutModel",
      "state": {}
     },
     "aa87d9baf2e54afbbf8a7787e01bc39c": {
      "model_module": "@jupyter-widgets/controls",
      "model_module_version": "1.5.0",
      "model_name": "DescriptionStyleModel",
      "state": {
       "description_width": ""
      }
     },
     "aa8e6862821c4fb5a1517274a9313944": {
      "model_module": "@jupyter-widgets/controls",
      "model_module_version": "1.5.0",
      "model_name": "HBoxModel",
      "state": {
       "children": [
        "IPY_MODEL_880c764b514b41d49c7a1d6be07c9ee7",
        "IPY_MODEL_051a9805455147b1a54b2d1bd43938df"
       ],
       "layout": "IPY_MODEL_57a89ac8289041f2b6d724e4b866dc0a"
      }
     },
     "aab0b96dd9704dec8bee7aca21e55121": {
      "model_module": "@jupyter-widgets/base",
      "model_module_version": "1.2.0",
      "model_name": "LayoutModel",
      "state": {
       "margin": "20px 0px"
      }
     },
     "aadcd785ecac49dd89e89b98cd11a5bc": {
      "model_module": "@jupyter-widgets/controls",
      "model_module_version": "1.5.0",
      "model_name": "IntTextModel",
      "state": {
       "description": "max",
       "layout": "IPY_MODEL_64635876704d46df8e253b2d4cefa598",
       "step": 1,
       "style": "IPY_MODEL_fce01e4c69184a6aa0107d409c41700a",
       "value": 7
      }
     },
     "ab0f9f99791b40059d4d3534b8def2a1": {
      "model_module": "@jupyter-widgets/base",
      "model_module_version": "1.2.0",
      "model_name": "LayoutModel",
      "state": {}
     },
     "ab189c2f0b2140e991588634d1926a8d": {
      "model_module": "@jupyter-widgets/controls",
      "model_module_version": "1.5.0",
      "model_name": "HBoxModel",
      "state": {
       "children": [
        "IPY_MODEL_690ece26089849d296129aedbf2fd7db",
        "IPY_MODEL_a2c8f4caf0534767b4ee6a45ae3ec430"
       ],
       "layout": "IPY_MODEL_b73fc88a750b4f94b4788c5589d4400d"
      }
     },
     "ab4f041476074245bb025f46b65ac937": {
      "model_module": "@jupyter-widgets/controls",
      "model_module_version": "1.5.0",
      "model_name": "SliderStyleModel",
      "state": {
       "description_width": ""
      }
     },
     "abb8dd22248e47baa61d0443c5c01957": {
      "model_module": "@jupyter-widgets/base",
      "model_module_version": "1.2.0",
      "model_name": "LayoutModel",
      "state": {}
     },
     "abbcb03a36494939be94896a2e4392f4": {
      "model_module": "@jupyter-widgets/base",
      "model_module_version": "1.2.0",
      "model_name": "LayoutModel",
      "state": {}
     },
     "abcc393b17f24dc9b7fecb97fc241a9d": {
      "model_module": "@jupyter-widgets/controls",
      "model_module_version": "1.5.0",
      "model_name": "SliderStyleModel",
      "state": {
       "description_width": ""
      }
     },
     "abe0069c61354de2ab4d964025267f8b": {
      "model_module": "@jupyter-widgets/base",
      "model_module_version": "1.2.0",
      "model_name": "LayoutModel",
      "state": {}
     },
     "abee62d144eb46f6a0854e2c779344fc": {
      "model_module": "@jupyter-widgets/base",
      "model_module_version": "1.2.0",
      "model_name": "LayoutModel",
      "state": {}
     },
     "ac02225f960447eeae02499089883af1": {
      "model_module": "@jupyter-widgets/controls",
      "model_module_version": "1.5.0",
      "model_name": "HBoxModel",
      "state": {
       "children": [
        "IPY_MODEL_5b47c57ba4054f2cb4b24da0e4c82165",
        "IPY_MODEL_b741836b6ca8482f8ea62062dd249a99"
       ],
       "layout": "IPY_MODEL_4c5968a8f0d144c9a301e734cf566a5a"
      }
     },
     "ac03182339fd4bdbbfe98a64ba6760a0": {
      "model_module": "@jupyter-widgets/controls",
      "model_module_version": "1.5.0",
      "model_name": "DropdownModel",
      "state": {
       "_options_labels": [
        "maxorder",
        "radinc",
        "nb_axes"
       ],
       "index": 0,
       "layout": "IPY_MODEL_e54d243ca25f4afebedf9a6e4d26c2b5",
       "style": "IPY_MODEL_412179f6bd604205b92bdae0de4bf43b"
      }
     },
     "ac370811477146a592129af91bec1989": {
      "model_module": "@jupyter-widgets/base",
      "model_module_version": "1.2.0",
      "model_name": "LayoutModel",
      "state": {}
     },
     "ac5bccc43bad4cf1b629ee62e886ec74": {
      "model_module": "@jupyter-widgets/base",
      "model_module_version": "1.2.0",
      "model_name": "LayoutModel",
      "state": {}
     },
     "ac6f0bb182d14b43a5412de39ac1d15a": {
      "model_module": "@jupyter-widgets/base",
      "model_module_version": "1.2.0",
      "model_name": "LayoutModel",
      "state": {}
     },
     "ac71f1c55d9948e19e588813ff85983b": {
      "model_module": "@jupyter-widgets/controls",
      "model_module_version": "1.5.0",
      "model_name": "DescriptionStyleModel",
      "state": {
       "description_width": ""
      }
     },
     "acb4f93525d14ffabe3e2bba3cae48a6": {
      "model_module": "@jupyter-widgets/controls",
      "model_module_version": "1.5.0",
      "model_name": "HBoxModel",
      "state": {
       "children": [
        "IPY_MODEL_42a63d59593845ca8d64fb7a3a398a5a",
        "IPY_MODEL_be75d5dbdd5641339fe24f8c4f6ca207"
       ],
       "layout": "IPY_MODEL_676ef09cd4844c10ba6f4f53d5d24356"
      }
     },
     "acc97d84a9664d0c9e91d402a7ed8664": {
      "model_module": "@jupyter-widgets/base",
      "model_module_version": "1.2.0",
      "model_name": "LayoutModel",
      "state": {}
     },
     "ad03daafcaac42e2a0ebee47af0af3de": {
      "model_module": "@jupyter-widgets/controls",
      "model_module_version": "1.5.0",
      "model_name": "HBoxModel",
      "state": {
       "layout": "IPY_MODEL_beda81a3b0ac4e599adfa39835831fd8"
      }
     },
     "ad0d38c2c2774e369fd4428f472136f0": {
      "model_module": "@jupyter-widgets/base",
      "model_module_version": "1.2.0",
      "model_name": "LayoutModel",
      "state": {}
     },
     "ad1542a9ee5d493fb7cad40f4ec24a08": {
      "model_module": "@jupyter-widgets/base",
      "model_module_version": "1.2.0",
      "model_name": "LayoutModel",
      "state": {}
     },
     "ad28097795614babac3adcc76c9b471c": {
      "model_module": "@jupyter-widgets/base",
      "model_module_version": "1.2.0",
      "model_name": "LayoutModel",
      "state": {}
     },
     "ad3d079ffbc74588a5348a5d3706dafd": {
      "model_module": "@jupyter-widgets/base",
      "model_module_version": "1.2.0",
      "model_name": "LayoutModel",
      "state": {}
     },
     "ad4777c7b26e4dc686420550608d2f12": {
      "model_module": "@jupyter-widgets/controls",
      "model_module_version": "1.5.0",
      "model_name": "ButtonStyleModel",
      "state": {}
     },
     "ad50679b7e994d5493d14f7e8f237201": {
      "model_module": "@jupyter-widgets/controls",
      "model_module_version": "1.5.0",
      "model_name": "ButtonStyleModel",
      "state": {}
     },
     "ad7052f26bac417382466038fda4af38": {
      "model_module": "@jupyter-widgets/controls",
      "model_module_version": "1.5.0",
      "model_name": "DropdownModel",
      "state": {
       "_options_labels": [
        "NurbsCurve2D",
        "BezierCurve2D",
        "Polyline2D",
        "Function"
       ],
       "index": 0,
       "layout": "IPY_MODEL_f7a150d82f6d40e4934ef1a89819382f",
       "style": "IPY_MODEL_885d034f6340467e9f3d03862ecdc212"
      }
     },
     "ad770f779d7142d692b8057c7c5825cf": {
      "model_module": "@jupyter-widgets/base",
      "model_module_version": "1.2.0",
      "model_name": "LayoutModel",
      "state": {
       "margin": "20px 0px"
      }
     },
     "ad9de9c14c0d4f65a2c07f0bd3a3e163": {
      "model_module": "@jupyter-widgets/controls",
      "model_module_version": "1.5.0",
      "model_name": "DropdownModel",
      "state": {
       "_options_labels": [
        "leafduration",
        "leafold"
       ],
       "index": 0,
       "layout": "IPY_MODEL_7c17c74742454474b761cde4913067d3",
       "style": "IPY_MODEL_a930375536a646e7ae094ba7aef7b12c"
      }
     },
     "ae2120fec28e429792294924ef4e7252": {
      "model_module": "@jupyter-widgets/base",
      "model_module_version": "1.2.0",
      "model_name": "LayoutModel",
      "state": {}
     },
     "ae33a6518f6c4bd7ac1c3d19f27164ee": {
      "model_module": "@jupyter-widgets/base",
      "model_module_version": "1.2.0",
      "model_name": "LayoutModel",
      "state": {}
     },
     "ae40200d7fdc43a69f8f57ce27d6891b": {
      "model_module": "@jupyter-widgets/controls",
      "model_module_version": "1.5.0",
      "model_name": "ColorPickerModel",
      "state": {
       "description": "ambient",
       "disabled": false,
       "layout": "IPY_MODEL_27c99d487aef426398bafe8dc27b8491",
       "style": "IPY_MODEL_e4bcad903cd24e668755c12c6ad16d21",
       "value": "#5b4534"
      }
     },
     "ae49ac24f7d94cbea0a0b653a87d4b7d": {
      "model_module": "@jupyter-widgets/controls",
      "model_module_version": "1.5.0",
      "model_name": "ButtonStyleModel",
      "state": {}
     },
     "ae4d134d971f4987931606497b35a672": {
      "model_module": "@jupyter-widgets/base",
      "model_module_version": "1.2.0",
      "model_name": "LayoutModel",
      "state": {}
     },
     "ae6582bcdffa4a9ea49948fb8e79804f": {
      "model_module": "@jupyter-widgets/controls",
      "model_module_version": "1.5.0",
      "model_name": "CheckboxModel",
      "state": {
       "description": "Auto apply",
       "disabled": false,
       "layout": "IPY_MODEL_d8d73c6794a64b41a4b085d7b2422110",
       "style": "IPY_MODEL_5810bb174d1946e8b3d0386797351339",
       "value": false
      }
     },
     "ae65c9b1a7014f46b4d4736a9946ae5f": {
      "model_module": "@jupyter-widgets/controls",
      "model_module_version": "1.5.0",
      "model_name": "FloatSliderModel",
      "state": {
       "description": "shininess",
       "layout": "IPY_MODEL_c7ea2a8eaf6f4fd6ba043daec10a8f1a",
       "max": 1,
       "step": 0.1,
       "style": "IPY_MODEL_4a48e3b56b974227bcbb4111eb32acbb",
       "value": 0.2
      }
     },
     "ae6fd33e7b08418d94791d38e5190ea4": {
      "model_module": "@jupyter-widgets/controls",
      "model_module_version": "1.5.0",
      "model_name": "TextModel",
      "state": {
       "continuous_update": false,
       "description": "name",
       "layout": "IPY_MODEL_991d20b434f14f32ba0b5c3eb2836f02",
       "style": "IPY_MODEL_963d126402964be48e58d85e7d4149c1",
       "value": "nb_axes"
      }
     },
     "ae707f5167d74fc69acaaf741eb5e5de": {
      "model_module": "@jupyter-widgets/base",
      "model_module_version": "1.2.0",
      "model_name": "LayoutModel",
      "state": {}
     },
     "ae72d17e3fb94a56a3727653a69248a4": {
      "model_module": "@jupyter-widgets/controls",
      "model_module_version": "1.5.0",
      "model_name": "FloatSliderModel",
      "state": {
       "description": "transparency",
       "layout": "IPY_MODEL_5952ccf95fff4114ac955e73f1021bc8",
       "max": 1,
       "step": 0.1,
       "style": "IPY_MODEL_a15f82e8dd1a43408a5d120bd20123be"
      }
     },
     "ae7405118e3c4d1eb3b6136ced72cdaa": {
      "model_module": "@jupyter-widgets/base",
      "model_module_version": "1.2.0",
      "model_name": "LayoutModel",
      "state": {}
     },
     "aee7a263a0f64a1fbea2c127454b5880": {
      "model_module": "@jupyter-widgets/base",
      "model_module_version": "1.2.0",
      "model_name": "LayoutModel",
      "state": {}
     },
     "aef6b743295f42189e95981f47848542": {
      "model_module": "@jupyter-widgets/controls",
      "model_module_version": "1.5.0",
      "model_name": "DescriptionStyleModel",
      "state": {
       "description_width": ""
      }
     },
     "af04d4dbb9ee467196d914b3d6ff7677": {
      "model_module": "@jupyter-widgets/controls",
      "model_module_version": "1.5.0",
      "model_name": "DropdownModel",
      "state": {
       "_options_labels": [
        "Integer",
        "Float",
        "Bool"
       ],
       "index": 0,
       "layout": "IPY_MODEL_88a10cf316df4647bd53d535728a4d82",
       "style": "IPY_MODEL_8283081be3d348eea1bc8c13afea1b04"
      }
     },
     "af05852e0c454d1081c694c61e2c259d": {
      "model_module": "@jupyter-widgets/controls",
      "model_module_version": "1.5.0",
      "model_name": "FloatSliderModel",
      "state": {
       "description": "shininess",
       "layout": "IPY_MODEL_2a4657dcf6134dbf9171718197e5e80f",
       "max": 1,
       "step": 0.1,
       "style": "IPY_MODEL_065f562240b640f2ae0d150761123893",
       "value": 0.2
      }
     },
     "af3d20d491c44d098b64367717540ebe": {
      "model_module": "@jupyter-widgets/controls",
      "model_module_version": "1.5.0",
      "model_name": "FloatSliderModel",
      "state": {
       "description": "diffuse",
       "layout": "IPY_MODEL_844d30039767419a89704c52fe806d6c",
       "max": 3,
       "step": 0.1,
       "style": "IPY_MODEL_09b8c80f45194de3b8dde10dedf91332",
       "value": 1
      }
     },
     "af4039e9ddde442ba446084c54416900": {
      "model_module": "@jupyter-widgets/controls",
      "model_module_version": "1.5.0",
      "model_name": "BoundedIntTextModel",
      "state": {
       "description": "index",
       "layout": "IPY_MODEL_625a97aef55748c189e2a6b3c1b5e67d",
       "style": "IPY_MODEL_0ba2cab9cc9d4511aad569640dfc3012",
       "value": 3
      }
     },
     "af4f5f203b3a4a908b181abbdacbe8ab": {
      "model_module": "@jupyter-widgets/controls",
      "model_module_version": "1.5.0",
      "model_name": "SliderStyleModel",
      "state": {
       "description_width": ""
      }
     },
     "af62057272d64d6c8173cc755a1345c8": {
      "model_module": "@jupyter-widgets/base",
      "model_module_version": "1.2.0",
      "model_name": "LayoutModel",
      "state": {}
     },
     "af76f68e255a49a9a097846d5b100896": {
      "model_module": "@jupyter-widgets/controls",
      "model_module_version": "1.5.0",
      "model_name": "HBoxModel",
      "state": {
       "children": [
        "IPY_MODEL_0e1758e5f97c4775894b0a98513a546f",
        "IPY_MODEL_7847f6e3bd894ee48f1555c248f27c90"
       ],
       "layout": "IPY_MODEL_953ba707a655461f95ad063f5a6f574b"
      }
     },
     "af8a50225a5b459392ad1828e64b9479": {
      "model_module": "@jupyter-widgets/controls",
      "model_module_version": "1.5.0",
      "model_name": "TextModel",
      "state": {
       "continuous_update": false,
       "description": "name",
       "layout": "IPY_MODEL_649b808e83854530a387af7bc18abe1e",
       "style": "IPY_MODEL_8278afc954514651bbf571d8a24293c1",
       "value": "leafduration"
      }
     },
     "afcbfc1dce2a47f394db93b89601a5e4": {
      "model_module": "@jupyter-widgets/controls",
      "model_module_version": "1.5.0",
      "model_name": "ButtonStyleModel",
      "state": {}
     },
     "afd16820af884a958cef4c29e98f66cd": {
      "model_module": "@jupyter-widgets/base",
      "model_module_version": "1.2.0",
      "model_name": "LayoutModel",
      "state": {}
     },
     "afd785204163490f861f01a8a6ebf525": {
      "model_module": "@jupyter-widgets/controls",
      "model_module_version": "1.5.0",
      "model_name": "FloatSliderModel",
      "state": {
       "continuous_update": false,
       "description": "diffuse",
       "layout": "IPY_MODEL_bcaba5e2353e4a19b1cee8ab746c814d",
       "max": 3,
       "step": 0.1,
       "style": "IPY_MODEL_de6e4ed7a8b84bef9620c99266ab0373",
       "value": 1
      }
     },
     "afdd149476764870a23c9d46dfe6ec0b": {
      "model_module": "@jupyter-widgets/base",
      "model_module_version": "1.2.0",
      "model_name": "LayoutModel",
      "state": {}
     },
     "aff7649e3cd94b0e93b9db47ae177a91": {
      "model_module": "@jupyter-widgets/controls",
      "model_module_version": "1.5.0",
      "model_name": "DescriptionStyleModel",
      "state": {
       "description_width": ""
      }
     },
     "b018f27f56ef47b8b8c77c757b918855": {
      "model_module": "@jupyter-widgets/base",
      "model_module_version": "1.2.0",
      "model_name": "LayoutModel",
      "state": {}
     },
     "b025d2c3b32b46ee9877ca8fabce0c2d": {
      "model_module": "@jupyter-widgets/controls",
      "model_module_version": "1.5.0",
      "model_name": "HBoxModel",
      "state": {
       "layout": "IPY_MODEL_a9b7a5bea64640859355bc1f3bd40aed"
      }
     },
     "b026cfdea7f24109b3207938d8293f82": {
      "model_module": "@jupyter-widgets/controls",
      "model_module_version": "1.5.0",
      "model_name": "TextModel",
      "state": {
       "continuous_update": false,
       "description": "name",
       "layout": "IPY_MODEL_9205b342fe2d42118f3ab706062aa484",
       "style": "IPY_MODEL_a3aa80b4b3224cfa978751461082efdd",
       "value": "nb_axes"
      }
     },
     "b0278727c6984480ae67b3caa91c5c28": {
      "model_module": "@jupyter-widgets/controls",
      "model_module_version": "1.5.0",
      "model_name": "DescriptionStyleModel",
      "state": {
       "description_width": ""
      }
     },
     "b042067711c749ddbe44af8d0b266773": {
      "model_module": "@jupyter-widgets/controls",
      "model_module_version": "1.5.0",
      "model_name": "DescriptionStyleModel",
      "state": {
       "description_width": ""
      }
     },
     "b0587fd4b5de40ff83b94fd445197b2a": {
      "model_module": "@jupyter-widgets/controls",
      "model_module_version": "1.5.0",
      "model_name": "FloatSliderModel",
      "state": {
       "description": "transparency",
       "layout": "IPY_MODEL_abbcb03a36494939be94896a2e4392f4",
       "max": 1,
       "step": 0.1,
       "style": "IPY_MODEL_d5cd15e37f944ccfa4bf1cdd3348f4c7"
      }
     },
     "b0816a0d3a1147ec9177057aeccf2636": {
      "model_module": "@jupyter-widgets/controls",
      "model_module_version": "1.5.0",
      "model_name": "DescriptionStyleModel",
      "state": {
       "description_width": ""
      }
     },
     "b0e8fa40069c4769bfca38d467a34243": {
      "model_module": "@jupyter-widgets/controls",
      "model_module_version": "1.5.0",
      "model_name": "SliderStyleModel",
      "state": {
       "description_width": ""
      }
     },
     "b0fb1ac3eab4429faa1c3064bf965e64": {
      "model_module": "@jupyter-widgets/controls",
      "model_module_version": "1.5.0",
      "model_name": "HBoxModel",
      "state": {
       "children": [
        "IPY_MODEL_7c7176c2637047769f684c2d030b2393",
        "IPY_MODEL_3f1c5cb37d464c0c965c97fc3a1e7f60"
       ],
       "layout": "IPY_MODEL_df4b301f82c143b6ba68f23b7ee4a4e7"
      }
     },
     "b11599f0c8c340be874b6f91e49e147c": {
      "model_module": "@jupyter-widgets/controls",
      "model_module_version": "1.5.0",
      "model_name": "FloatSliderModel",
      "state": {
       "description": "transparency",
       "layout": "IPY_MODEL_026723ae658e489db0402b1860155fde",
       "max": 1,
       "step": 0.1,
       "style": "IPY_MODEL_bc101f934e6546c8b4a4399a8ff52dd9"
      }
     },
     "b12f527165d943288688f616f1f609c8": {
      "model_module": "@jupyter-widgets/controls",
      "model_module_version": "1.5.0",
      "model_name": "DescriptionStyleModel",
      "state": {
       "description_width": ""
      }
     },
     "b16bc4eeda684baab51f644ed6537a07": {
      "model_module": "@jupyter-widgets/base",
      "model_module_version": "1.2.0",
      "model_name": "LayoutModel",
      "state": {}
     },
     "b170506f70d34c96b69cc2e6cb10b936": {
      "model_module": "@jupyter-widgets/base",
      "model_module_version": "1.2.0",
      "model_name": "LayoutModel",
      "state": {}
     },
     "b184382198c246fbb6c014da8ef2f3e0": {
      "model_module": "@jupyter-widgets/base",
      "model_module_version": "1.2.0",
      "model_name": "LayoutModel",
      "state": {}
     },
     "b1bd370223104c85b1afb7e06afc9a79": {
      "model_module": "@jupyter-widgets/base",
      "model_module_version": "1.2.0",
      "model_name": "LayoutModel",
      "state": {}
     },
     "b1bea4580daf4865a4ab65528a99b960": {
      "model_module": "@jupyter-widgets/controls",
      "model_module_version": "1.5.0",
      "model_name": "DescriptionStyleModel",
      "state": {
       "description_width": ""
      }
     },
     "b1ed67a808ae4d98902e313123dd2c75": {
      "model_module": "@jupyter-widgets/controls",
      "model_module_version": "1.5.0",
      "model_name": "ButtonModel",
      "state": {
       "description": "Delete",
       "layout": "IPY_MODEL_d96944e0d08c4a04aa0b00a6367b12c9",
       "style": "IPY_MODEL_eb97bfba7a244317a71b5c4fedafbbe8"
      }
     },
     "b233f15e47474a7198fb26deae803dcc": {
      "model_module": "@jupyter-widgets/controls",
      "model_module_version": "1.5.0",
      "model_name": "IntTextModel",
      "state": {
       "description": "max",
       "layout": "IPY_MODEL_4195dc0db72c4f82bb9bd5eead7e9779",
       "step": 1,
       "style": "IPY_MODEL_c1729e1e6a704ee9982e5f868755dfc6",
       "value": 10
      }
     },
     "b238a4f955c2461f89027d080a34f27a": {
      "model_module": "@jupyter-widgets/base",
      "model_module_version": "1.2.0",
      "model_name": "LayoutModel",
      "state": {}
     },
     "b24854e612f64308b2856ad9bbda0e0c": {
      "model_module": "pgljupyter",
      "model_module_version": "^0.1.21",
      "model_name": "IntEditorModel",
      "state": {
       "_model_module_version": "^0.1.21",
       "_view_module_version": "^0.1.21",
       "children": [
        "IPY_MODEL_ba11bb824352454c9ac4abadef095063",
        "IPY_MODEL_c311f2512bd54982b3579b77887bb9f8"
       ],
       "layout": "IPY_MODEL_20524a3cbd284565b43899cfff3eabbb"
      }
     },
     "b248996a41fc4f39b8f71cd98044d51f": {
      "model_module": "@jupyter-widgets/controls",
      "model_module_version": "1.5.0",
      "model_name": "HBoxModel",
      "state": {
       "children": [
        "IPY_MODEL_f12070df747f4997bb07a8795782dbf5",
        "IPY_MODEL_238dd52d41fd42ba8fc8d39b45ea27f2"
       ],
       "layout": "IPY_MODEL_84c796b6ce3746e1aafccca2c6759aac"
      }
     },
     "b281607fe98d48e3934d05bec3d79698": {
      "model_module": "@jupyter-widgets/base",
      "model_module_version": "1.2.0",
      "model_name": "LayoutModel",
      "state": {}
     },
     "b29aa72a95854be7aa69fb3b924ac504": {
      "model_module": "@jupyter-widgets/base",
      "model_module_version": "1.2.0",
      "model_name": "LayoutModel",
      "state": {}
     },
     "b29e027dac7d4d1bbc8688b18af21982": {
      "model_module": "@jupyter-widgets/controls",
      "model_module_version": "1.5.0",
      "model_name": "ButtonStyleModel",
      "state": {}
     },
     "b2bf5842fee641abb921c9ea89fc6361": {
      "model_module": "@jupyter-widgets/base",
      "model_module_version": "1.2.0",
      "model_name": "LayoutModel",
      "state": {}
     },
     "b2dff12eb7f74161896fad4ff14e216e": {
      "model_module": "@jupyter-widgets/base",
      "model_module_version": "1.2.0",
      "model_name": "LayoutModel",
      "state": {}
     },
     "b2f08df3f7bb4655984473bbce30d2a8": {
      "model_module": "@jupyter-widgets/base",
      "model_module_version": "1.2.0",
      "model_name": "LayoutModel",
      "state": {}
     },
     "b300f6ae7aff47e3967651381d75ee22": {
      "model_module": "@jupyter-widgets/controls",
      "model_module_version": "1.5.0",
      "model_name": "ButtonModel",
      "state": {
       "description": "Add",
       "layout": "IPY_MODEL_1f1a2d37c7574d4cb2156e5fb0d10923",
       "style": "IPY_MODEL_13a0291b64394f9fbddc873faa6e5498"
      }
     },
     "b336f9abf432475a859c3a01ea152da7": {
      "model_module": "@jupyter-widgets/controls",
      "model_module_version": "1.5.0",
      "model_name": "ColorPickerModel",
      "state": {
       "description": "specular",
       "disabled": false,
       "layout": "IPY_MODEL_7d4841eb52e849b792078e35434add1c",
       "style": "IPY_MODEL_4a28f656400b498e9b4a70690a4229a8",
       "value": "#282828"
      }
     },
     "b3415d0e07044c3c90903ed545d57994": {
      "model_module": "pgljupyter",
      "model_module_version": "^0.1.17",
      "model_name": "LsystemWidgetModel",
      "state": {
       "_model_module_version": "^0.1.17",
       "_view_module_version": "^0.1.17",
       "axes_helper": false,
       "derivationLength": 42,
       "layout": "IPY_MODEL_cffe896bba6b4be9a72a337ec2eeabfd",
       "light_helper": false,
       "plane": true,
       "size_display": [
        400,
        400
       ],
       "size_world": 50
      }
     },
     "b349b6082b68436a830311e2652d9b99": {
      "model_module": "@jupyter-widgets/base",
      "model_module_version": "1.2.0",
      "model_name": "LayoutModel",
      "state": {}
     },
     "b349ed08d7d84db7be931975d0f29cc6": {
      "model_module": "@jupyter-widgets/base",
      "model_module_version": "1.2.0",
      "model_name": "LayoutModel",
      "state": {}
     },
     "b37a03133cc343a7988916dcce1b09e5": {
      "model_module": "@jupyter-widgets/base",
      "model_module_version": "1.2.0",
      "model_name": "LayoutModel",
      "state": {
       "margin": "10px 10px"
      }
     },
     "b3845888ce8d4ad4986e97d2f893e730": {
      "model_module": "@jupyter-widgets/base",
      "model_module_version": "1.2.0",
      "model_name": "LayoutModel",
      "state": {}
     },
     "b39e37f7a4514c6dbdf47b7cacbbd714": {
      "model_module": "@jupyter-widgets/controls",
      "model_module_version": "1.5.0",
      "model_name": "HBoxModel",
      "state": {
       "children": [
        "IPY_MODEL_68232feda0524251afd1ce7f9e13de48",
        "IPY_MODEL_21681404317b48249d8e358124b22d13"
       ],
       "layout": "IPY_MODEL_8734cecea0d346a39c3e758fb2f6d6a5"
      }
     },
     "b3ab021d6df046ceb59289797f1e4f25": {
      "model_module": "@jupyter-widgets/controls",
      "model_module_version": "1.5.0",
      "model_name": "BoundedIntTextModel",
      "state": {
       "description": "index",
       "layout": "IPY_MODEL_8aae296581c643e2a94a84c43a578fda",
       "style": "IPY_MODEL_d8dd6096e07649cb8ceb51b260ceb49f",
       "value": 3
      }
     },
     "b3b4369a077e494799fb62f23eb0eb47": {
      "model_module": "@jupyter-widgets/controls",
      "model_module_version": "1.5.0",
      "model_name": "ColorPickerModel",
      "state": {
       "description": "ambient",
       "disabled": false,
       "layout": "IPY_MODEL_13ae418bba3b47449bcffe9f4ff9b1d0",
       "style": "IPY_MODEL_20b1952b21434151a833e0b22eb08f81",
       "value": "#195717"
      }
     },
     "b3b90cf0e5714dfabfdcf4452cc02351": {
      "model_module": "@jupyter-widgets/base",
      "model_module_version": "1.2.0",
      "model_name": "LayoutModel",
      "state": {}
     },
     "b3beeeb252564f9193c765e7fe7136a4": {
      "model_module": "@jupyter-widgets/controls",
      "model_module_version": "1.5.0",
      "model_name": "DropdownModel",
      "state": {
       "_options_labels": [
        "Color"
       ],
       "index": 0,
       "layout": "IPY_MODEL_1049120221a44f9698ad8be47c2dd830",
       "style": "IPY_MODEL_c8ca31ca5bd148e6a5aa1524e6d99e3f"
      }
     },
     "b3d9969700604879a7e1ef7be2ac166b": {
      "model_module": "@jupyter-widgets/controls",
      "model_module_version": "1.5.0",
      "model_name": "HBoxModel",
      "state": {
       "children": [
        "IPY_MODEL_c753a38f00e84158ab81183ed86947d4",
        "IPY_MODEL_5a437245895546a8b255d8ddb00b3da0"
       ],
       "layout": "IPY_MODEL_dcadae9267644afd89d13029c062ea5a"
      }
     },
     "b3f52b7d738c482db304933fd63d29e6": {
      "model_module": "@jupyter-widgets/controls",
      "model_module_version": "1.5.0",
      "model_name": "BoundedIntTextModel",
      "state": {
       "description": "index",
       "layout": "IPY_MODEL_b403f39859f042e7ad9649f0715e8d03",
       "style": "IPY_MODEL_10eedcd3140b473ba6462b56101c8dd6",
       "value": 4
      }
     },
     "b40339e839344d96ba6ff6a53935e92b": {
      "model_module": "@jupyter-widgets/base",
      "model_module_version": "1.2.0",
      "model_name": "LayoutModel",
      "state": {}
     },
     "b403f39859f042e7ad9649f0715e8d03": {
      "model_module": "@jupyter-widgets/base",
      "model_module_version": "1.2.0",
      "model_name": "LayoutModel",
      "state": {}
     },
     "b4172c0a847a4c1d89dd93e6e188edcf": {
      "model_module": "@jupyter-widgets/base",
      "model_module_version": "1.2.0",
      "model_name": "LayoutModel",
      "state": {}
     },
     "b44429e02b1c4c018efe9629e58572c3": {
      "model_module": "@jupyter-widgets/controls",
      "model_module_version": "1.5.0",
      "model_name": "VBoxModel",
      "state": {
       "children": [
        "IPY_MODEL_2d215d5802a64161ad4658212812c5f3",
        "IPY_MODEL_53592ff1413b4aadb82fbe457a467666",
        "IPY_MODEL_42311b25a5ce4d1788e339ad94a4f81c",
        "IPY_MODEL_a143a5b673a2495e928dd346cefa7981",
        "IPY_MODEL_a2e742f0ad8747ec88f5cf551a3b5224"
       ],
       "layout": "IPY_MODEL_b8d2ea5b6d2a40cda4d35f962c17e998"
      }
     },
     "b4468c2736f440b4bd4d58112d80f1f3": {
      "model_module": "@jupyter-widgets/controls",
      "model_module_version": "1.5.0",
      "model_name": "BoundedIntTextModel",
      "state": {
       "description": "index",
       "layout": "IPY_MODEL_b184382198c246fbb6c014da8ef2f3e0",
       "style": "IPY_MODEL_1558078ff54b40aa9edd4a561283c2a3",
       "value": 2
      }
     },
     "b483a839a4094147ab01f3c7d19bb1ac": {
      "model_module": "@jupyter-widgets/controls",
      "model_module_version": "1.5.0",
      "model_name": "ColorPickerModel",
      "state": {
       "description": "ambient",
       "disabled": false,
       "layout": "IPY_MODEL_4b847adc42dd44cc8851741209771151",
       "style": "IPY_MODEL_b581d53322d94699a5a19e271a34211d",
       "value": "#195717"
      }
     },
     "b499e72891ff4bec921524030fddfd1a": {
      "model_module": "@jupyter-widgets/controls",
      "model_module_version": "1.5.0",
      "model_name": "ButtonModel",
      "state": {
       "description": "Delete",
       "layout": "IPY_MODEL_bae60be6bd344003a67e00a65860979c",
       "style": "IPY_MODEL_b29e027dac7d4d1bbc8688b18af21982"
      }
     },
     "b4b34b837b2e417eb78863606b1d6e8d": {
      "model_module": "@jupyter-widgets/controls",
      "model_module_version": "1.5.0",
      "model_name": "ButtonStyleModel",
      "state": {}
     },
     "b4eb01c447064278a10e95e371e491b5": {
      "model_module": "@jupyter-widgets/controls",
      "model_module_version": "1.5.0",
      "model_name": "ButtonModel",
      "state": {
       "description": "Save changes",
       "layout": "IPY_MODEL_ba0d08e405e743aa9fc38c0d108f065b",
       "style": "IPY_MODEL_bb92e0f3b2e842e0ab29b1bbcaf44ed8"
      }
     },
     "b4f90847a77b4195b5dc4d2c29806c64": {
      "model_module": "@jupyter-widgets/controls",
      "model_module_version": "1.5.0",
      "model_name": "BoundedIntTextModel",
      "state": {
       "description": "step",
       "layout": "IPY_MODEL_5f0d4143620941798573a504d9e748b1",
       "min": 1,
       "style": "IPY_MODEL_c0409f72c596451b915072be0153fdf9",
       "value": 1
      }
     },
     "b51a86b67c8543e0ac2c5effb4cc963d": {
      "model_module": "@jupyter-widgets/base",
      "model_module_version": "1.2.0",
      "model_name": "LayoutModel",
      "state": {}
     },
     "b52d8d1f7a39435a937737cba39c4169": {
      "model_module": "@jupyter-widgets/controls",
      "model_module_version": "1.5.0",
      "model_name": "HBoxModel",
      "state": {
       "children": [
        "IPY_MODEL_c309dadcba5d4757ad170bafede09c29",
        "IPY_MODEL_e20a8ad2869c4320906c5ccb5a2616cb",
        "IPY_MODEL_62252cd6e6f64fb7aa4f68ce3e71f4b1",
        "IPY_MODEL_88b25b3d6bed47aabbf857ba0829ae88"
       ],
       "layout": "IPY_MODEL_964212339a614dc4b244dd85464c155d"
      }
     },
     "b5307711b6f34b428ecdd5e474394193": {
      "model_module": "@jupyter-widgets/base",
      "model_module_version": "1.2.0",
      "model_name": "LayoutModel",
      "state": {}
     },
     "b55b4107cfc640d6b6bf9af9105fd14b": {
      "model_module": "@jupyter-widgets/controls",
      "model_module_version": "1.5.0",
      "model_name": "ButtonStyleModel",
      "state": {}
     },
     "b56edccf4b9f4bbebbfc5493c9f62610": {
      "model_module": "@jupyter-widgets/base",
      "model_module_version": "1.2.0",
      "model_name": "LayoutModel",
      "state": {}
     },
     "b57c6dbb68c64afbb95b8d317eff0d77": {
      "model_module": "@jupyter-widgets/controls",
      "model_module_version": "1.5.0",
      "model_name": "TabModel",
      "state": {
       "layout": "IPY_MODEL_20e3dd12ae594b74880fcf2f3311b803"
      }
     },
     "b581d53322d94699a5a19e271a34211d": {
      "model_module": "@jupyter-widgets/controls",
      "model_module_version": "1.5.0",
      "model_name": "DescriptionStyleModel",
      "state": {
       "description_width": ""
      }
     },
     "b5ad4c581bca4efb9e0e4e91dd0fc2fd": {
      "model_module": "@jupyter-widgets/base",
      "model_module_version": "1.2.0",
      "model_name": "LayoutModel",
      "state": {}
     },
     "b5d23766ee1b4de98cd72e67ca0961f4": {
      "model_module": "@jupyter-widgets/controls",
      "model_module_version": "1.5.0",
      "model_name": "DropdownModel",
      "state": {
       "_options_labels": [
        "Integer",
        "Float",
        "Bool"
       ],
       "index": 0,
       "layout": "IPY_MODEL_7293a88c1ab941aabcecd4f6d4f03a08",
       "style": "IPY_MODEL_fc285204d80d4fe587b6c0d1e1042610"
      }
     },
     "b5f4711335994c13acf965c77d3f280c": {
      "model_module": "pgljupyter",
      "model_module_version": "^0.2.0",
      "model_name": "IntEditorModel",
      "state": {
       "_model_module_version": "^0.2.0",
       "_view_module_version": "^0.2.0",
       "children": [
        "IPY_MODEL_cda9dd84098c48b3889ef275f23747f1",
        "IPY_MODEL_d07b6d687bcc4acda6e1bcec90664db4"
       ],
       "layout": "IPY_MODEL_886b3608c74d4c488a0749ac1feb2b7e"
      }
     },
     "b609d0249e3d49ada716ca64850e65b8": {
      "model_module": "@jupyter-widgets/base",
      "model_module_version": "1.2.0",
      "model_name": "LayoutModel",
      "state": {}
     },
     "b618285ed5684282bcdc1d912a0170cc": {
      "model_module": "@jupyter-widgets/controls",
      "model_module_version": "1.5.0",
      "model_name": "DescriptionStyleModel",
      "state": {
       "description_width": ""
      }
     },
     "b6232427abaa44ee8f8af67967fd5908": {
      "model_module": "@jupyter-widgets/controls",
      "model_module_version": "1.5.0",
      "model_name": "FloatSliderModel",
      "state": {
       "description": "diffuse",
       "layout": "IPY_MODEL_d01eaf873daa42fc915fce3a3a19ba71",
       "max": 3,
       "step": 0.1,
       "style": "IPY_MODEL_d93f65b8733e49b29dc3b7e7a44ec509",
       "value": 1
      }
     },
     "b62aea2317d74e02a1572c094ee5bc2d": {
      "model_module": "@jupyter-widgets/controls",
      "model_module_version": "1.5.0",
      "model_name": "DescriptionStyleModel",
      "state": {
       "description_width": ""
      }
     },
     "b64a0b633c4c488bb06c6634159a6227": {
      "model_module": "@jupyter-widgets/base",
      "model_module_version": "1.2.0",
      "model_name": "LayoutModel",
      "state": {}
     },
     "b67e23aadfc0447c98ae6280c6d11af4": {
      "model_module": "@jupyter-widgets/controls",
      "model_module_version": "1.5.0",
      "model_name": "HBoxModel",
      "state": {
       "children": [
        "IPY_MODEL_eba49d4701c34c69a1a52005a55e913e",
        "IPY_MODEL_fece1e7f13bd475fac0ed48c8e36b25b"
       ],
       "layout": "IPY_MODEL_b16bc4eeda684baab51f644ed6537a07"
      }
     },
     "b70440f46d284109b251b83b4efe6e79": {
      "model_module": "@jupyter-widgets/controls",
      "model_module_version": "1.5.0",
      "model_name": "DescriptionStyleModel",
      "state": {
       "description_width": ""
      }
     },
     "b73fc88a750b4f94b4788c5589d4400d": {
      "model_module": "@jupyter-widgets/base",
      "model_module_version": "1.2.0",
      "model_name": "LayoutModel",
      "state": {}
     },
     "b741836b6ca8482f8ea62062dd249a99": {
      "model_module": "@jupyter-widgets/controls",
      "model_module_version": "1.5.0",
      "model_name": "TextModel",
      "state": {
       "layout": "IPY_MODEL_53fb38767b68423da5f1235c3745ccaf",
       "placeholder": "category name",
       "style": "IPY_MODEL_422906e6ad3a4693856635f6a1bc322e"
      }
     },
     "b763b1260b354b23ae6671768bc4a076": {
      "model_module": "@jupyter-widgets/base",
      "model_module_version": "1.2.0",
      "model_name": "LayoutModel",
      "state": {
       "margin": "20px 0px"
      }
     },
     "b772c331ff074286b1bbeb652d501059": {
      "model_module": "pgljupyter",
      "model_module_version": "^0.2.1",
      "model_name": "MaterialEditorModel",
      "state": {
       "_model_module_version": "^0.2.1",
       "_view_module_version": "^0.2.1",
       "children": [
        "IPY_MODEL_a040e564c6074eea9a319635ee6a8b65",
        "IPY_MODEL_19090cc962c44b2c96cca28e1478b8e6",
        "IPY_MODEL_49141dde33e641a3896a5be922942e3a",
        "IPY_MODEL_1ba576c964e04fcc9564738165478fa9",
        "IPY_MODEL_680aa46b15e744f299dca56301948859",
        "IPY_MODEL_2db2bcd91a494d90ae05ccff343b9cd8",
        "IPY_MODEL_87ee29c4de584540885b2b7ebd0acba1"
       ],
       "layout": "IPY_MODEL_389eb0cbb654471c99cf1959bd534089"
      }
     },
     "b78a37695bbf435fb731861c038b885f": {
      "model_module": "@jupyter-widgets/controls",
      "model_module_version": "1.5.0",
      "model_name": "HBoxModel",
      "state": {
       "children": [
        "IPY_MODEL_fb273117bed744e4a7d3e39c85368d3d",
        "IPY_MODEL_de17ce4b402f484dad854027cadfb9d2",
        "IPY_MODEL_2d7812945748435ea206c4b8b1341c7c",
        "IPY_MODEL_ba5d5391b210400f916720a6327a4648"
       ],
       "layout": "IPY_MODEL_6f5e6f5355bd440d8af5ee837dac75a9"
      }
     },
     "b7b39fab097644ca98be08e07da74097": {
      "model_module": "@jupyter-widgets/controls",
      "model_module_version": "1.5.0",
      "model_name": "HBoxModel",
      "state": {
       "children": [
        "IPY_MODEL_37a6f13ee0d84c41bf5e2718b03b869b",
        "IPY_MODEL_d3229b2421464e3e8771d1719478cafd"
       ],
       "layout": "IPY_MODEL_06e3dd0a8b534013bd1cb1d04dbd5286"
      }
     },
     "b7c61d98c8974e3eab2560fcaf559828": {
      "model_module": "@jupyter-widgets/base",
      "model_module_version": "1.2.0",
      "model_name": "LayoutModel",
      "state": {}
     },
     "b7eb7c1fbc2c4fbab9ae3ae154813316": {
      "model_module": "@jupyter-widgets/base",
      "model_module_version": "1.2.0",
      "model_name": "LayoutModel",
      "state": {
       "margin": "20px 0px"
      }
     },
     "b7ee510171464d8aad3ad8bd77727ec8": {
      "model_module": "@jupyter-widgets/controls",
      "model_module_version": "1.5.0",
      "model_name": "DescriptionStyleModel",
      "state": {
       "description_width": ""
      }
     },
     "b7f1e2be6da44fbcaa0cb8e574a361c3": {
      "model_module": "@jupyter-widgets/base",
      "model_module_version": "1.2.0",
      "model_name": "LayoutModel",
      "state": {}
     },
     "b7fff26df0ad46bbaeeb12519d1a0352": {
      "model_module": "@jupyter-widgets/base",
      "model_module_version": "1.2.0",
      "model_name": "LayoutModel",
      "state": {}
     },
     "b8253aa04c244134b8f94e3caa61eaa2": {
      "model_module": "@jupyter-widgets/controls",
      "model_module_version": "1.5.0",
      "model_name": "VBoxModel",
      "state": {
       "children": [
        "IPY_MODEL_e58e8545927242ee9ce38aecbe123d5a",
        "IPY_MODEL_dc88e7dd6e5746a8887723eccc89c28c"
       ],
       "layout": "IPY_MODEL_bc00a0b7263744aabd90536b9ab45bb9"
      }
     },
     "b827f66cc57143ecb4fb1662a9a1f67a": {
      "model_module": "@jupyter-widgets/controls",
      "model_module_version": "1.5.0",
      "model_name": "DescriptionStyleModel",
      "state": {
       "description_width": ""
      }
     },
     "b83043512c0f4a2d9f6e344f6ba2039e": {
      "model_module": "@jupyter-widgets/controls",
      "model_module_version": "1.5.0",
      "model_name": "ButtonModel",
      "state": {
       "description": "Delete",
       "layout": "IPY_MODEL_9ed51db8130848ad90da4bdd175506a3",
       "style": "IPY_MODEL_6cafa8125cbe44e2b212a499900a8f16"
      }
     },
     "b88afe6051704699a445a1ca92a8653e": {
      "model_module": "@jupyter-widgets/controls",
      "model_module_version": "1.5.0",
      "model_name": "SliderStyleModel",
      "state": {
       "description_width": ""
      }
     },
     "b896d4c5ba084261b9772c2ec6244463": {
      "model_module": "@jupyter-widgets/base",
      "model_module_version": "1.2.0",
      "model_name": "LayoutModel",
      "state": {}
     },
     "b8a8455ce5b040d0b828e4487621af24": {
      "model_module": "@jupyter-widgets/controls",
      "model_module_version": "1.5.0",
      "model_name": "DescriptionStyleModel",
      "state": {
       "description_width": ""
      }
     },
     "b8ad8d8c9f124093b14f64a259771967": {
      "model_module": "@jupyter-widgets/base",
      "model_module_version": "1.2.0",
      "model_name": "LayoutModel",
      "state": {}
     },
     "b8b9b3ffeaac416c9b974d5332062d10": {
      "model_module": "@jupyter-widgets/controls",
      "model_module_version": "1.5.0",
      "model_name": "VBoxModel",
      "state": {
       "children": [
        "IPY_MODEL_1333161370364dc18b62b527843bccdf",
        "IPY_MODEL_a03e944e51cb40c5810fc9d0fa1bbb94"
       ],
       "layout": "IPY_MODEL_b349ed08d7d84db7be931975d0f29cc6"
      }
     },
     "b8c6aa5fe700489f83372cd01f2b146f": {
      "model_module": "@jupyter-widgets/controls",
      "model_module_version": "1.5.0",
      "model_name": "DescriptionStyleModel",
      "state": {
       "description_width": ""
      }
     },
     "b8c7f3e772e0418984b752d8cabfe954": {
      "model_module": "@jupyter-widgets/base",
      "model_module_version": "1.2.0",
      "model_name": "LayoutModel",
      "state": {}
     },
     "b8d2ea5b6d2a40cda4d35f962c17e998": {
      "model_module": "@jupyter-widgets/base",
      "model_module_version": "1.2.0",
      "model_name": "LayoutModel",
      "state": {}
     },
     "b8d47ef44074438281319294176af51b": {
      "model_module": "@jupyter-widgets/base",
      "model_module_version": "1.2.0",
      "model_name": "LayoutModel",
      "state": {}
     },
     "b8f9b126dfec4211a4b352568394eb93": {
      "model_module": "@jupyter-widgets/base",
      "model_module_version": "1.2.0",
      "model_name": "LayoutModel",
      "state": {}
     },
     "b9187b3d01e648a38efb74ee0b7e94b9": {
      "model_module": "@jupyter-widgets/controls",
      "model_module_version": "1.5.0",
      "model_name": "TextModel",
      "state": {
       "continuous_update": false,
       "description": "name",
       "layout": "IPY_MODEL_64fef5ffe23a4d7f84f3b9902ddf596b",
       "style": "IPY_MODEL_ff19056acbcf40a6834375d3cb7b1e9c",
       "value": "leaf_old"
      }
     },
     "b91c1fa0a059467da7b43d3770c3e9ab": {
      "model_module": "@jupyter-widgets/controls",
      "model_module_version": "1.5.0",
      "model_name": "ButtonModel",
      "state": {
       "description": "Apply changes",
       "layout": "IPY_MODEL_654d2eb5f16d49b5ab06dc88a4ca0fb2",
       "style": "IPY_MODEL_d20a66ab54df4e01a70a778bfa48d5d0"
      }
     },
     "b9210e32a6c5490eac6e58429f1c0424": {
      "model_module": "@jupyter-widgets/controls",
      "model_module_version": "1.5.0",
      "model_name": "ButtonModel",
      "state": {
       "description": "Add",
       "layout": "IPY_MODEL_d9543fcbcba34908b7e5c4d4b1a82e38",
       "style": "IPY_MODEL_f715948c10e742b18dc5ac8de145f2e7"
      }
     },
     "b93a88085e08459fb569918bd68b30f2": {
      "model_module": "@jupyter-widgets/base",
      "model_module_version": "1.2.0",
      "model_name": "LayoutModel",
      "state": {
       "margin": "10px 10px"
      }
     },
     "b948a49b7df74974bc59fba0d18708ef": {
      "model_module": "@jupyter-widgets/base",
      "model_module_version": "1.2.0",
      "model_name": "LayoutModel",
      "state": {}
     },
     "b97945cdd79940218cc6b9ce0f099d89": {
      "model_module": "@jupyter-widgets/controls",
      "model_module_version": "1.5.0",
      "model_name": "DropdownModel",
      "state": {
       "index": null,
       "layout": "IPY_MODEL_9e900280d0514e8d81562cb4284c52dd",
       "style": "IPY_MODEL_496e48f80ba34d7389289f84ed07049f"
      }
     },
     "b97cf4f067b743d2b430bd97bc89e312": {
      "model_module": "@jupyter-widgets/controls",
      "model_module_version": "1.5.0",
      "model_name": "VBoxModel",
      "state": {
       "children": [
        "IPY_MODEL_f33af95ef58846bf8df866296877a85b",
        "IPY_MODEL_6bdedae54c80433d896fd303f7e37987",
        "IPY_MODEL_42a66a116d6e4ad2babe8908a1d40481",
        "IPY_MODEL_1544c4aba24c44af809a65633d48cc8e",
        "IPY_MODEL_a3671b271bf948d2aaa3826c21d26b20"
       ],
       "layout": "IPY_MODEL_b29aa72a95854be7aa69fb3b924ac504"
      }
     },
     "b9a7dd3f00544db199e86604e6f76867": {
      "model_module": "@jupyter-widgets/controls",
      "model_module_version": "1.5.0",
      "model_name": "BoundedIntTextModel",
      "state": {
       "description": "index",
       "layout": "IPY_MODEL_45a3b4944c1a4688b18a9e80c13972c0",
       "style": "IPY_MODEL_eabf4766db6045c488a2e23c2d898e82",
       "value": 2
      }
     },
     "b9b1d7bb539941cd99ecc58e604d0784": {
      "model_module": "@jupyter-widgets/controls",
      "model_module_version": "1.5.0",
      "model_name": "DescriptionStyleModel",
      "state": {
       "description_width": ""
      }
     },
     "b9ebb3597e8346f8a3fc4ed986a97a1b": {
      "model_module": "@jupyter-widgets/base",
      "model_module_version": "1.2.0",
      "model_name": "LayoutModel",
      "state": {}
     },
     "b9fcc4919c8b40f2a8d2e8ea3fad4478": {
      "model_module": "@jupyter-widgets/controls",
      "model_module_version": "1.5.0",
      "model_name": "SliderStyleModel",
      "state": {
       "description_width": ""
      }
     },
     "ba0d08e405e743aa9fc38c0d108f065b": {
      "model_module": "@jupyter-widgets/base",
      "model_module_version": "1.2.0",
      "model_name": "LayoutModel",
      "state": {}
     },
     "ba11bb824352454c9ac4abadef095063": {
      "model_module": "@jupyter-widgets/controls",
      "model_module_version": "1.5.0",
      "model_name": "TextModel",
      "state": {
       "continuous_update": false,
       "description": "name",
       "layout": "IPY_MODEL_59c4f363387c4603894fb415c0d36967",
       "style": "IPY_MODEL_39501af7b4a946cb85b28be8f27f4a40",
       "value": "leafduration"
      }
     },
     "ba1e9384615a48df95687266f1dddd8e": {
      "model_module": "@jupyter-widgets/base",
      "model_module_version": "1.2.0",
      "model_name": "LayoutModel",
      "state": {}
     },
     "ba2927804c224adb95a5bde918123c5b": {
      "model_module": "@jupyter-widgets/controls",
      "model_module_version": "1.5.0",
      "model_name": "CheckboxModel",
      "state": {
       "description": "Auto save",
       "disabled": false,
       "layout": "IPY_MODEL_64f9dc0574df4a11af6125d753e638a4",
       "style": "IPY_MODEL_44ee20673cb54cb197bb19275c2ee931",
       "value": false
      }
     },
     "ba3a3559ee5e49c19408ce2e75b666f1": {
      "model_module": "@jupyter-widgets/base",
      "model_module_version": "1.2.0",
      "model_name": "LayoutModel",
      "state": {}
     },
     "ba4da6910bf6402bb88b95374971ce7a": {
      "model_module": "@jupyter-widgets/base",
      "model_module_version": "1.2.0",
      "model_name": "LayoutModel",
      "state": {}
     },
     "ba5d5391b210400f916720a6327a4648": {
      "model_module": "pgljupyter",
      "model_module_version": "^0.1.19",
      "model_name": "MaterialEditorModel",
      "state": {
       "_model_module_version": "^0.1.19",
       "_view_module_version": "^0.1.19",
       "children": [
        "IPY_MODEL_3e64b59aa9974065a16ce4e79ea27464",
        "IPY_MODEL_56d367a9d5614e55bed35e4d81b7eef8",
        "IPY_MODEL_ed976a91034f48c1a0bd19c114a4740d",
        "IPY_MODEL_630f51ddc6474d56ac2b11c221db9313",
        "IPY_MODEL_64fb29f193384a4e8f752c45b4c4b1ca",
        "IPY_MODEL_9c9faa69b3cc422bacb248629847951b",
        "IPY_MODEL_96b49dfc62ee4b54b6911cc9519f3adf",
        "IPY_MODEL_fef140b17815482fac4c6efc6accb2db"
       ],
       "layout": "IPY_MODEL_4a2ccff224ef48f09723ba6a231d6640"
      }
     },
     "ba5e485f797f45a793e7c0053d26227b": {
      "model_module": "@jupyter-widgets/controls",
      "model_module_version": "1.5.0",
      "model_name": "SliderStyleModel",
      "state": {
       "description_width": ""
      }
     },
     "ba8e3775748c410583ae69a234f084fd": {
      "model_module": "@jupyter-widgets/controls",
      "model_module_version": "1.5.0",
      "model_name": "VBoxModel",
      "state": {
       "children": [
        "IPY_MODEL_1e182d826be744dba3ea4c48b973b242",
        "IPY_MODEL_838c2e96b44f4e398b804eaa39f05912",
        "IPY_MODEL_efb139d7a3194536b561efe32dfd2630",
        "IPY_MODEL_737e4a4107604e689afd07fac4b3e826",
        "IPY_MODEL_9b9062181b2349279a58cedf3d1a123f"
       ],
       "layout": "IPY_MODEL_cfc1ca4715e642c7b9f1d42760c731fd"
      }
     },
     "baaa42ae12f948eab87555a7fbda06c9": {
      "model_module": "@jupyter-widgets/controls",
      "model_module_version": "1.5.0",
      "model_name": "HBoxModel",
      "state": {
       "children": [
        "IPY_MODEL_38aff3c9c69e426985154cc4165b3f46",
        "IPY_MODEL_e8ec467c663c43b680bf26b13a9a4041"
       ],
       "layout": "IPY_MODEL_341481874f4a40c88fa0bc3937bf1f74"
      }
     },
     "bac8604d77704199a0f58325e3b25b59": {
      "model_module": "@jupyter-widgets/controls",
      "model_module_version": "1.5.0",
      "model_name": "DescriptionStyleModel",
      "state": {
       "description_width": ""
      }
     },
     "bad4e236bef945b193cd8662cba5516a": {
      "model_module": "@jupyter-widgets/controls",
      "model_module_version": "1.5.0",
      "model_name": "SliderStyleModel",
      "state": {
       "description_width": ""
      }
     },
     "badf1d6936f34af5a14df64809ef893c": {
      "model_module": "@jupyter-widgets/controls",
      "model_module_version": "1.5.0",
      "model_name": "HBoxModel",
      "state": {
       "children": [
        "IPY_MODEL_bdac6d00efda4f16bee09beeff1d0317",
        "IPY_MODEL_1d7324e6216945c694b7879142e82cce"
       ],
       "layout": "IPY_MODEL_6e86329f62f04d64897ff3b96a1bfe58"
      }
     },
     "bae60be6bd344003a67e00a65860979c": {
      "model_module": "@jupyter-widgets/base",
      "model_module_version": "1.2.0",
      "model_name": "LayoutModel",
      "state": {}
     },
     "baf1a60a7c1b4d32906c8ce7421ac654": {
      "model_module": "@jupyter-widgets/controls",
      "model_module_version": "1.5.0",
      "model_name": "ButtonModel",
      "state": {
       "description": "Add",
       "layout": "IPY_MODEL_9c9be4e906924b7ca4fc59cedc2f1e32",
       "style": "IPY_MODEL_8f06c2ae91ad40a682161b87d6e730b4"
      }
     },
     "bb16c1d4c8a841829bfb8da15b3bea9a": {
      "model_module": "@jupyter-widgets/controls",
      "model_module_version": "1.5.0",
      "model_name": "SliderStyleModel",
      "state": {
       "description_width": ""
      }
     },
     "bb3613145b68440ba42bf478df5b13af": {
      "model_module": "@jupyter-widgets/controls",
      "model_module_version": "1.5.0",
      "model_name": "DescriptionStyleModel",
      "state": {
       "description_width": ""
      }
     },
     "bb41eaa28ea549b288100a2d424675a8": {
      "model_module": "@jupyter-widgets/controls",
      "model_module_version": "1.5.0",
      "model_name": "DescriptionStyleModel",
      "state": {
       "description_width": ""
      }
     },
     "bb79433b06b94630b6f77fbc405d30c3": {
      "model_module": "@jupyter-widgets/base",
      "model_module_version": "1.2.0",
      "model_name": "LayoutModel",
      "state": {}
     },
     "bb92e0f3b2e842e0ab29b1bbcaf44ed8": {
      "model_module": "@jupyter-widgets/controls",
      "model_module_version": "1.5.0",
      "model_name": "ButtonStyleModel",
      "state": {}
     },
     "bba064c217a24b0f9b5d380aaa6fea52": {
      "model_module": "@jupyter-widgets/controls",
      "model_module_version": "1.5.0",
      "model_name": "HBoxModel",
      "state": {
       "children": [
        "IPY_MODEL_7c9ff33ce6ef4aa9ac024f1cf91f4faf",
        "IPY_MODEL_83b3943961434027b9a8d49bdef39171",
        "IPY_MODEL_f78af31ccb8c4fa6988f852a049c17d8",
        "IPY_MODEL_c9bef065e2504444a9ee87abecefe691"
       ],
       "layout": "IPY_MODEL_f54b6bb1cd9047f2913448b18542023e"
      }
     },
     "bbc20920f34a4a74ae6269cb6b203707": {
      "model_module": "@jupyter-widgets/controls",
      "model_module_version": "1.5.0",
      "model_name": "FloatSliderModel",
      "state": {
       "description": "transparency",
       "layout": "IPY_MODEL_ed7d66b5a93a41909abdbcdcb3f73f67",
       "max": 1,
       "step": 0.1,
       "style": "IPY_MODEL_f20f31a04ca646aead57a9fa9a0eab65"
      }
     },
     "bc00a0b7263744aabd90536b9ab45bb9": {
      "model_module": "@jupyter-widgets/base",
      "model_module_version": "1.2.0",
      "model_name": "LayoutModel",
      "state": {
       "margin": "5px"
      }
     },
     "bc101f934e6546c8b4a4399a8ff52dd9": {
      "model_module": "@jupyter-widgets/controls",
      "model_module_version": "1.5.0",
      "model_name": "SliderStyleModel",
      "state": {
       "description_width": ""
      }
     },
     "bc2caf9b3fc84da494330dba24816842": {
      "model_module": "@jupyter-widgets/controls",
      "model_module_version": "1.5.0",
      "model_name": "ButtonModel",
      "state": {
       "description": "Delete",
       "layout": "IPY_MODEL_0d8106747f5f4d0a81928341852045a2",
       "style": "IPY_MODEL_3ec386de663b4617bc9f49b851f4ac02"
      }
     },
     "bc42d877cd3c4649bef7e1b74ed18b6e": {
      "model_module": "@jupyter-widgets/base",
      "model_module_version": "1.2.0",
      "model_name": "LayoutModel",
      "state": {}
     },
     "bc4bbf97cace49f2830fcdf2421eabb0": {
      "model_module": "@jupyter-widgets/base",
      "model_module_version": "1.2.0",
      "model_name": "LayoutModel",
      "state": {}
     },
     "bc60e7667a584052943e93872a6708a3": {
      "model_module": "@jupyter-widgets/base",
      "model_module_version": "1.2.0",
      "model_name": "LayoutModel",
      "state": {}
     },
     "bc6a9e91763e4425a42d8b1641580ff4": {
      "model_module": "@jupyter-widgets/controls",
      "model_module_version": "1.5.0",
      "model_name": "TextModel",
      "state": {
       "layout": "IPY_MODEL_8bd7cf6dc07d437190fbda31a59b43c4",
       "placeholder": "category name",
       "style": "IPY_MODEL_768416184c784ccc90f3432b6d9b15da"
      }
     },
     "bc6cacb17412447096141b192ffe383d": {
      "model_module": "@jupyter-widgets/base",
      "model_module_version": "1.2.0",
      "model_name": "LayoutModel",
      "state": {}
     },
     "bc6ff6dbd47e43719f4d3510291ab07c": {
      "model_module": "@jupyter-widgets/base",
      "model_module_version": "1.2.0",
      "model_name": "LayoutModel",
      "state": {}
     },
     "bc951223545d4d44b3f16e02818f7e03": {
      "model_module": "@jupyter-widgets/controls",
      "model_module_version": "1.5.0",
      "model_name": "DescriptionStyleModel",
      "state": {
       "description_width": ""
      }
     },
     "bca351d97c6d48f9814da71e4418e3a3": {
      "model_module": "@jupyter-widgets/base",
      "model_module_version": "1.2.0",
      "model_name": "LayoutModel",
      "state": {}
     },
     "bcaba5e2353e4a19b1cee8ab746c814d": {
      "model_module": "@jupyter-widgets/base",
      "model_module_version": "1.2.0",
      "model_name": "LayoutModel",
      "state": {}
     },
     "bcb7465a37394dbabd8f197ae65f2662": {
      "model_module": "@jupyter-widgets/base",
      "model_module_version": "1.2.0",
      "model_name": "LayoutModel",
      "state": {}
     },
     "bcb9c01e8d5e4ef6a75414069738d87f": {
      "model_module": "pgljupyter",
      "model_module_version": "^0.1.17",
      "model_name": "FloatEditorModel",
      "state": {
       "_model_module_version": "^0.1.17",
       "_view_module_version": "^0.1.17",
       "children": [
        "IPY_MODEL_da94d7f0e6e045988d94aba69d5be576",
        "IPY_MODEL_c2a6d9ce18fc4ac0bc1a7f90b4c5116c"
       ],
       "layout": "IPY_MODEL_ffc34902c36642e1969fa8c466aeb653"
      }
     },
     "bcf4fc941c344389979acd078603c0fc": {
      "model_module": "@jupyter-widgets/base",
      "model_module_version": "1.2.0",
      "model_name": "LayoutModel",
      "state": {}
     },
     "bcf7fee88c72467fbcc5a469b43e9f92": {
      "model_module": "@jupyter-widgets/base",
      "model_module_version": "1.2.0",
      "model_name": "LayoutModel",
      "state": {}
     },
     "bcfc6c652c144bec9a22752018e37d3d": {
      "model_module": "@jupyter-widgets/controls",
      "model_module_version": "1.5.0",
      "model_name": "DropdownModel",
      "state": {
       "index": null,
       "layout": "IPY_MODEL_bc6cacb17412447096141b192ffe383d",
       "style": "IPY_MODEL_7acb0757f3e34fd699c20c4cd8fc383f"
      }
     },
     "bd21842443764a4e9cfc0fe5e99adc99": {
      "model_module": "@jupyter-widgets/controls",
      "model_module_version": "1.5.0",
      "model_name": "HBoxModel",
      "state": {
       "children": [
        "IPY_MODEL_f2282812a130441eac41b660ee49477d",
        "IPY_MODEL_ba2927804c224adb95a5bde918123c5b"
       ],
       "layout": "IPY_MODEL_62867ab47038465d8944dcad2437cbc9"
      }
     },
     "bd6c191bf42247f4a626e8079fccd019": {
      "model_module": "@jupyter-widgets/base",
      "model_module_version": "1.2.0",
      "model_name": "LayoutModel",
      "state": {}
     },
     "bd75e9ca86e44f438e2c480a32fa8470": {
      "model_module": "@jupyter-widgets/controls",
      "model_module_version": "1.5.0",
      "model_name": "SliderStyleModel",
      "state": {
       "description_width": ""
      }
     },
     "bd975fbe82284673a970cc17143dddb9": {
      "model_module": "@jupyter-widgets/controls",
      "model_module_version": "1.5.0",
      "model_name": "DropdownModel",
      "state": {
       "_options_labels": [
        "Integer",
        "Float",
        "Bool"
       ],
       "index": 0,
       "layout": "IPY_MODEL_155e496650f34366b813ae47225f42d5",
       "style": "IPY_MODEL_e6991f813efb4b118467f99c0776efcd"
      }
     },
     "bdac6d00efda4f16bee09beeff1d0317": {
      "model_module": "@jupyter-widgets/controls",
      "model_module_version": "1.5.0",
      "model_name": "ButtonModel",
      "state": {
       "description": "Delete",
       "layout": "IPY_MODEL_b8f9b126dfec4211a4b352568394eb93",
       "style": "IPY_MODEL_21dc5393f9364b34b280fae10a6852f9"
      }
     },
     "bdcbb93f812947e88d3b05e0e12e3467": {
      "model_module": "@jupyter-widgets/base",
      "model_module_version": "1.2.0",
      "model_name": "LayoutModel",
      "state": {}
     },
     "bdd912ccd9594f2c93aaed30b1a57ee8": {
      "model_module": "@jupyter-widgets/controls",
      "model_module_version": "1.5.0",
      "model_name": "DropdownModel",
      "state": {
       "index": null,
       "layout": "IPY_MODEL_1e71076b6d304240bdd062f2d5156785",
       "style": "IPY_MODEL_5e9c1818473b44dab49b3d26bf241c9d"
      }
     },
     "be34e970bcfe4196ae35d41580213f9a": {
      "model_module": "@jupyter-widgets/controls",
      "model_module_version": "1.5.0",
      "model_name": "ColorPickerModel",
      "state": {
       "description": "ambient",
       "disabled": false,
       "layout": "IPY_MODEL_1eafac7d519a4739b0a5ec9f2e1a0356",
       "style": "IPY_MODEL_46bb048d9eec4d478fec36bfaa6b5a6b",
       "value": "#195717"
      }
     },
     "be51b261106b43ffb83f192c209c691e": {
      "model_module": "@jupyter-widgets/controls",
      "model_module_version": "1.5.0",
      "model_name": "ColorPickerModel",
      "state": {
       "description": "ambient",
       "disabled": false,
       "layout": "IPY_MODEL_f5eb433a652144f68dc06a51734bf8aa",
       "style": "IPY_MODEL_f7734ac97c2a419a80f3d26934e193d0",
       "value": "#0fc4db"
      }
     },
     "be52d9cdb49d41ef9f7664b51577a733": {
      "model_module": "@jupyter-widgets/base",
      "model_module_version": "1.2.0",
      "model_name": "LayoutModel",
      "state": {}
     },
     "be75d5dbdd5641339fe24f8c4f6ca207": {
      "model_module": "@jupyter-widgets/controls",
      "model_module_version": "1.5.0",
      "model_name": "DropdownModel",
      "state": {
       "_options_labels": [
        "NurbsCurve2D",
        "BezierCurve2D",
        "Polyline2D",
        "Function"
       ],
       "index": 0,
       "layout": "IPY_MODEL_62011f6d9ab4417da126fa460c091385",
       "style": "IPY_MODEL_a2c6eda68e01466896e29101678f2ecc"
      }
     },
     "bea75cda8f8442a1a38a4e847733c703": {
      "model_module": "@jupyter-widgets/controls",
      "model_module_version": "1.5.0",
      "model_name": "BoundedIntTextModel",
      "state": {
       "description": "index",
       "layout": "IPY_MODEL_305673ca6b654c1c8dcdccefd7e9a70a",
       "style": "IPY_MODEL_e45efbec269d4f03b8dd09502f95fedc",
       "value": 4
      }
     },
     "beaddf86b7f44cc299563ba4d42805ac": {
      "model_module": "@jupyter-widgets/controls",
      "model_module_version": "1.5.0",
      "model_name": "ButtonModel",
      "state": {
       "description": "Delete",
       "layout": "IPY_MODEL_25c2402de33e45e390315509afa77feb",
       "style": "IPY_MODEL_8bbd3656628c4c6e8afd4b8861674066"
      }
     },
     "bec3c9f59a484a5f81d56950adfbfbfd": {
      "model_module": "@jupyter-widgets/base",
      "model_module_version": "1.2.0",
      "model_name": "LayoutModel",
      "state": {}
     },
     "bed12060ceba4494bf43652e512c3823": {
      "model_module": "@jupyter-widgets/controls",
      "model_module_version": "1.5.0",
      "model_name": "TextModel",
      "state": {
       "continuous_update": false,
       "description": "name",
       "layout": "IPY_MODEL_0e592e8a9b8343179820de7ac2999dbb",
       "style": "IPY_MODEL_ca11567bb72b468da1d353634229db6b",
       "value": "trunk"
      }
     },
     "beda81a3b0ac4e599adfa39835831fd8": {
      "model_module": "@jupyter-widgets/base",
      "model_module_version": "1.2.0",
      "model_name": "LayoutModel",
      "state": {
       "flex_flow": "row wrap",
       "margin": "20px"
      }
     },
     "bee6c3276d1d45d3afbfa6bbc7f3dac1": {
      "model_module": "@jupyter-widgets/controls",
      "model_module_version": "1.5.0",
      "model_name": "ButtonStyleModel",
      "state": {}
     },
     "bf0625eebb3744fc8cc55567e985236f": {
      "model_module": "@jupyter-widgets/controls",
      "model_module_version": "1.5.0",
      "model_name": "FloatSliderModel",
      "state": {
       "description": "shininess",
       "layout": "IPY_MODEL_06c676714abc45c2bd668d409b3f913f",
       "max": 1,
       "step": 0.1,
       "style": "IPY_MODEL_dc9722bd3a6e4f1e855fb518b2065abe",
       "value": 0.2
      }
     },
     "bf10c1c91f744db1b7cbf9962b0fb4a1": {
      "model_module": "@jupyter-widgets/base",
      "model_module_version": "1.2.0",
      "model_name": "LayoutModel",
      "state": {}
     },
     "bf1fdb5bb36e4e1a926148fdc953e325": {
      "model_module": "@jupyter-widgets/controls",
      "model_module_version": "1.5.0",
      "model_name": "ButtonStyleModel",
      "state": {}
     },
     "bf215b8633cf4c8e9ddb25f302c62afb": {
      "model_module": "@jupyter-widgets/controls",
      "model_module_version": "1.5.0",
      "model_name": "ButtonStyleModel",
      "state": {}
     },
     "bf5f584ba47f4eb58e2144997c9fbd8f": {
      "model_module": "@jupyter-widgets/controls",
      "model_module_version": "1.5.0",
      "model_name": "DescriptionStyleModel",
      "state": {
       "description_width": ""
      }
     },
     "bf6182a681a644ffb5f47c17cb2d1bed": {
      "model_module": "@jupyter-widgets/controls",
      "model_module_version": "1.5.0",
      "model_name": "ButtonStyleModel",
      "state": {}
     },
     "bf9f735211574d32bf9d5fa02ec1e786": {
      "model_module": "@jupyter-widgets/controls",
      "model_module_version": "1.5.0",
      "model_name": "HBoxModel",
      "state": {
       "children": [
        "IPY_MODEL_b1ed67a808ae4d98902e313123dd2c75",
        "IPY_MODEL_e647273f61494efb92b293f226b212ce"
       ],
       "layout": "IPY_MODEL_3423cf0a4514403f822864a725d3fedc"
      }
     },
     "bfa2cd7f0c5143b98b10a45ec7d2d66d": {
      "model_module": "@jupyter-widgets/controls",
      "model_module_version": "1.5.0",
      "model_name": "BoundedIntTextModel",
      "state": {
       "description": "index",
       "layout": "IPY_MODEL_856cb4dc10fd40959afd4f2ed68f4da6",
       "style": "IPY_MODEL_391878e8ba0540f5adaa617056b8dd47",
       "value": 2
      }
     },
     "bfabacffa42444aaafe06f4ea52048a4": {
      "model_module": "@jupyter-widgets/controls",
      "model_module_version": "1.5.0",
      "model_name": "FloatSliderModel",
      "state": {
       "continuous_update": false,
       "description": "transparency",
       "layout": "IPY_MODEL_46559724ab7140ba983352954fb841c1",
       "max": 1,
       "step": 0.1,
       "style": "IPY_MODEL_582aab0227c542c3b12dbbe1af118de6"
      }
     },
     "bfb30d87706146bc8fe2542c4dec80e3": {
      "model_module": "pgljupyter",
      "model_module_version": "^0.1.21",
      "model_name": "ParameterEditorModel",
      "state": {
       "_model_module_version": "^0.1.21",
       "_view_module_version": "^0.1.21",
       "children": [
        "IPY_MODEL_1e131dd0699142ff8d201517f327a01e"
       ],
       "layout": "IPY_MODEL_e9bf0cd054d84ef78d0da14f7ed9cea5"
      }
     },
     "bfb787064e074e0290be7e465144f82d": {
      "model_module": "@jupyter-widgets/controls",
      "model_module_version": "1.5.0",
      "model_name": "ButtonStyleModel",
      "state": {}
     },
     "bfcd0c0f65914aef9be1c321c3bcf1e0": {
      "model_module": "@jupyter-widgets/controls",
      "model_module_version": "1.5.0",
      "model_name": "DescriptionStyleModel",
      "state": {
       "description_width": ""
      }
     },
     "bfcf3e600cd241bc9d5160e197b1e911": {
      "model_module": "@jupyter-widgets/base",
      "model_module_version": "1.2.0",
      "model_name": "LayoutModel",
      "state": {}
     },
     "c0409f72c596451b915072be0153fdf9": {
      "model_module": "@jupyter-widgets/controls",
      "model_module_version": "1.5.0",
      "model_name": "DescriptionStyleModel",
      "state": {
       "description_width": ""
      }
     },
     "c0716141b1a941c88943b77a968d0bcb": {
      "model_module": "@jupyter-widgets/base",
      "model_module_version": "1.2.0",
      "model_name": "LayoutModel",
      "state": {}
     },
     "c076c7f8110443d8b16ad88e24d4c9c2": {
      "model_module": "@jupyter-widgets/controls",
      "model_module_version": "1.5.0",
      "model_name": "SliderStyleModel",
      "state": {
       "description_width": ""
      }
     },
     "c079194f982146b3907f1743d3b21acd": {
      "model_module": "@jupyter-widgets/controls",
      "model_module_version": "1.5.0",
      "model_name": "DropdownModel",
      "state": {
       "_options_labels": [
        "NurbsCurve2D",
        "BezierCurve2D",
        "Polyline2D",
        "Function"
       ],
       "index": 0,
       "layout": "IPY_MODEL_9fd3d652ee284bd4a3d837a4c638a0ff",
       "style": "IPY_MODEL_62e7fd6e389c4ae59e571c4fcb34e5c0"
      }
     },
     "c0a048ed609e4aceb6a259def78278e2": {
      "model_module": "@jupyter-widgets/controls",
      "model_module_version": "1.5.0",
      "model_name": "TextModel",
      "state": {
       "layout": "IPY_MODEL_1b6051bae24c473598c952d51984d1ee",
       "placeholder": "category name",
       "style": "IPY_MODEL_93a5e2d0c70d421d81cf898af8d464df"
      }
     },
     "c0bb2a0d577641b58e46f24746ba8a03": {
      "model_module": "@jupyter-widgets/controls",
      "model_module_version": "1.5.0",
      "model_name": "SliderStyleModel",
      "state": {
       "description_width": ""
      }
     },
     "c0e6e3c25e6e41948722f8a330ddc4e1": {
      "model_module": "@jupyter-widgets/controls",
      "model_module_version": "1.5.0",
      "model_name": "FloatSliderModel",
      "state": {
       "description": "diffuse",
       "layout": "IPY_MODEL_ec128f27e5d548fd89d35f652fb3d014",
       "max": 3,
       "step": 0.1,
       "style": "IPY_MODEL_b9fcc4919c8b40f2a8d2e8ea3fad4478",
       "value": 1
      }
     },
     "c11321e762b3422997689f94db4a71c8": {
      "model_module": "@jupyter-widgets/controls",
      "model_module_version": "1.5.0",
      "model_name": "ColorPickerModel",
      "state": {
       "description": "emission",
       "disabled": false,
       "layout": "IPY_MODEL_382ba098f6cc4adf8bfb135a9de7b6d8",
       "style": "IPY_MODEL_0ce5322222f04cda8b64b0849f810223",
       "value": "#000000"
      }
     },
     "c120885553c04d129fd38676ed6234d2": {
      "model_module": "@jupyter-widgets/controls",
      "model_module_version": "1.5.0",
      "model_name": "DescriptionStyleModel",
      "state": {
       "description_width": ""
      }
     },
     "c156b4effd8047eb86722833ed8a0f8e": {
      "model_module": "@jupyter-widgets/base",
      "model_module_version": "1.2.0",
      "model_name": "LayoutModel",
      "state": {}
     },
     "c16429a9bfff45a981471a788dca62c2": {
      "model_module": "@jupyter-widgets/controls",
      "model_module_version": "1.5.0",
      "model_name": "FloatSliderModel",
      "state": {
       "description": "shininess",
       "layout": "IPY_MODEL_ecd6712976814a878c2eb22824a5e5e9",
       "max": 1,
       "step": 0.1,
       "style": "IPY_MODEL_6a96352f36b9452bba44e1ee4b108426",
       "value": 0.2
      }
     },
     "c1729e1e6a704ee9982e5f868755dfc6": {
      "model_module": "@jupyter-widgets/controls",
      "model_module_version": "1.5.0",
      "model_name": "DescriptionStyleModel",
      "state": {
       "description_width": ""
      }
     },
     "c1733f50531e4767a40e92700519d3e1": {
      "model_module": "@jupyter-widgets/controls",
      "model_module_version": "1.5.0",
      "model_name": "VBoxModel",
      "state": {
       "children": [
        "IPY_MODEL_181af5a1b3fa4b279cd968fb4614425b",
        "IPY_MODEL_9e08c85091ae4652b970aefe883adffe",
        "IPY_MODEL_27fe3c9c89974787b0edc4789c341ca9",
        "IPY_MODEL_f628bcfc5a584627bfe3fcf55fe6a1b4",
        "IPY_MODEL_64d7cfa5db9342919ab9a345850a143f"
       ],
       "layout": "IPY_MODEL_c4b86685c2464c519bc82e0e2a9d486c"
      }
     },
     "c190a593c1ed4ea199fb8b572fe94562": {
      "model_module": "@jupyter-widgets/controls",
      "model_module_version": "1.5.0",
      "model_name": "DescriptionStyleModel",
      "state": {
       "description_width": ""
      }
     },
     "c1a7e756fd674170a661ab6dcc62f7a9": {
      "model_module": "@jupyter-widgets/controls",
      "model_module_version": "1.5.0",
      "model_name": "FloatSliderModel",
      "state": {
       "description": "diffuse",
       "layout": "IPY_MODEL_f8b573f681b34435b46c31918778cf1a",
       "max": 3,
       "step": 0.1,
       "style": "IPY_MODEL_dbf29d67c32f4897a7101f3492b6f2df",
       "value": 1
      }
     },
     "c1f8e654bd764ed1b77cc56f2508694d": {
      "model_module": "@jupyter-widgets/controls",
      "model_module_version": "1.5.0",
      "model_name": "DescriptionStyleModel",
      "state": {
       "description_width": ""
      }
     },
     "c215c775706940698bf97b3b703c91da": {
      "model_module": "@jupyter-widgets/controls",
      "model_module_version": "1.5.0",
      "model_name": "ColorPickerModel",
      "state": {
       "description": "emission",
       "disabled": false,
       "layout": "IPY_MODEL_59e6e480e2f044e3973bd8d2328b0a68",
       "style": "IPY_MODEL_2f7bae47a5d04c279483d29ce1fb515d",
       "value": "#000000"
      }
     },
     "c2205a0d7c964b6c8ed4a89cd19b8f92": {
      "model_module": "@jupyter-widgets/controls",
      "model_module_version": "1.5.0",
      "model_name": "ColorPickerModel",
      "state": {
       "description": "ambient",
       "disabled": false,
       "layout": "IPY_MODEL_c156b4effd8047eb86722833ed8a0f8e",
       "style": "IPY_MODEL_a21046bdb21740aeae992e0143e91153",
       "value": "#e1a014"
      }
     },
     "c25725e9ed4543cba7cfc3aee18d110d": {
      "model_module": "@jupyter-widgets/controls",
      "model_module_version": "1.5.0",
      "model_name": "DescriptionStyleModel",
      "state": {
       "description_width": ""
      }
     },
     "c2578ef26c0743838357a06ac7dbb03e": {
      "model_module": "@jupyter-widgets/base",
      "model_module_version": "1.2.0",
      "model_name": "LayoutModel",
      "state": {}
     },
     "c28c1957d1634127975fa331e2198a31": {
      "model_module": "@jupyter-widgets/controls",
      "model_module_version": "1.5.0",
      "model_name": "DescriptionStyleModel",
      "state": {
       "description_width": ""
      }
     },
     "c29fffdc637c4b74935a820089942936": {
      "model_module": "@jupyter-widgets/controls",
      "model_module_version": "1.5.0",
      "model_name": "HBoxModel",
      "state": {
       "children": [
        "IPY_MODEL_d9b886e295724cc9a420de8dcc17e338",
        "IPY_MODEL_7f28069d37a34840971aedd32085c8f9"
       ],
       "layout": "IPY_MODEL_a2e0faf740134dcb8588672a0eb3e8d8"
      }
     },
     "c2a6d9ce18fc4ac0bc1a7f90b4c5116c": {
      "model_module": "@jupyter-widgets/controls",
      "model_module_version": "1.5.0",
      "model_name": "FloatSliderModel",
      "state": {
       "description": "value",
       "layout": "IPY_MODEL_6c671f207c164abd949a12ac8032908b",
       "max": 0.1,
       "min": 0.01,
       "step": 0.01,
       "style": "IPY_MODEL_6313452555004e3e8cd4af4b429d6c81",
       "value": 0.02
      }
     },
     "c2be0d36854f4826b190f2aef55fd686": {
      "model_module": "@jupyter-widgets/controls",
      "model_module_version": "1.5.0",
      "model_name": "ButtonModel",
      "state": {
       "description": "Delete",
       "layout": "IPY_MODEL_29cf0466a11e48fc973f7029133b4c1c",
       "style": "IPY_MODEL_557b13d22d9c4523aede128ecebc8ac7"
      }
     },
     "c2c1faa3a7104893aba1b9a986c72e7f": {
      "model_module": "@jupyter-widgets/controls",
      "model_module_version": "1.5.0",
      "model_name": "TabModel",
      "state": {
       "layout": "IPY_MODEL_0e698e6988a94950922b8014c320bdf8"
      }
     },
     "c2ea397318574d91a49746ced9e8db1a": {
      "model_module": "@jupyter-widgets/base",
      "model_module_version": "1.2.0",
      "model_name": "LayoutModel",
      "state": {}
     },
     "c30638fef6f54cf1961713315e8da2f9": {
      "model_module": "@jupyter-widgets/controls",
      "model_module_version": "1.5.0",
      "model_name": "DescriptionStyleModel",
      "state": {
       "description_width": ""
      }
     },
     "c309dadcba5d4757ad170bafede09c29": {
      "model_module": "pgljupyter",
      "model_module_version": "^0.1.17",
      "model_name": "MaterialEditorModel",
      "state": {
       "_model_module_version": "^0.1.17",
       "_view_module_version": "^0.1.17",
       "children": [
        "IPY_MODEL_243831084f114d97bd1e5d3e35197ff6",
        "IPY_MODEL_de26906445994c7e8243365b107e8044",
        "IPY_MODEL_f958a1e7a32245119bf98c95905da1a2",
        "IPY_MODEL_70dda571646341ceb6f35058be924baf",
        "IPY_MODEL_c0e6e3c25e6e41948722f8a330ddc4e1",
        "IPY_MODEL_ae72d17e3fb94a56a3727653a69248a4",
        "IPY_MODEL_2249a5a5d0f24085af3136bbb4f3f425"
       ],
       "layout": "IPY_MODEL_134a756a9b454b73bb8ed6d12d756e98"
      }
     },
     "c311f2512bd54982b3579b77887bb9f8": {
      "model_module": "@jupyter-widgets/controls",
      "model_module_version": "1.5.0",
      "model_name": "IntSliderModel",
      "state": {
       "description": "value",
       "layout": "IPY_MODEL_fb261447b1394430bbc4cbcda7f7c31a",
       "max": 10,
       "min": 1,
       "style": "IPY_MODEL_5c8b02bacbff4f469a89e2d1ea4bf18e",
       "value": 3
      }
     },
     "c32f6b4c4d3c4559935e3f52d16dc798": {
      "model_module": "@jupyter-widgets/base",
      "model_module_version": "1.2.0",
      "model_name": "LayoutModel",
      "state": {}
     },
     "c361327190724646be840782bc716cef": {
      "model_module": "@jupyter-widgets/controls",
      "model_module_version": "1.5.0",
      "model_name": "VBoxModel",
      "state": {
       "children": [
        "IPY_MODEL_0df3c48cd89940ce80485ec6fb57722c",
        "IPY_MODEL_e24becef77854391b6cd6c67e04932e8"
       ],
       "layout": "IPY_MODEL_eb11e6bb87f04e778a49e0a3916ee734"
      }
     },
     "c3c827131f134d53a63ac1630295a9db": {
      "model_module": "@jupyter-widgets/controls",
      "model_module_version": "1.5.0",
      "model_name": "ColorPickerModel",
      "state": {
       "description": "specular",
       "disabled": false,
       "layout": "IPY_MODEL_47fb3c80b04646738a440b8943ebe585",
       "style": "IPY_MODEL_d9fed144986740a4aebc4a2d4217ab60",
       "value": "#282828"
      }
     },
     "c3f4c1f812d844ea9207b9e5e852348d": {
      "model_module": "@jupyter-widgets/controls",
      "model_module_version": "1.5.0",
      "model_name": "ColorPickerModel",
      "state": {
       "description": "specular",
       "disabled": false,
       "layout": "IPY_MODEL_c9f408cad5994e8ab4dbb398970c8e82",
       "style": "IPY_MODEL_a9cadb58b2d74d899f90724daa0dbc03",
       "value": "#282828"
      }
     },
     "c43e0238c1ef4e7c983ad07ad7529348": {
      "model_module": "@jupyter-widgets/base",
      "model_module_version": "1.2.0",
      "model_name": "LayoutModel",
      "state": {}
     },
     "c47d49a7c60647cb85c5eb15764ce0cf": {
      "model_module": "@jupyter-widgets/base",
      "model_module_version": "1.2.0",
      "model_name": "LayoutModel",
      "state": {}
     },
     "c48e782f1bef445e9f2d0c4e1632f795": {
      "model_module": "@jupyter-widgets/base",
      "model_module_version": "1.2.0",
      "model_name": "LayoutModel",
      "state": {}
     },
     "c4b86685c2464c519bc82e0e2a9d486c": {
      "model_module": "@jupyter-widgets/base",
      "model_module_version": "1.2.0",
      "model_name": "LayoutModel",
      "state": {}
     },
     "c4ed48b837534de7b3ebc8b317ef0a11": {
      "model_module": "@jupyter-widgets/controls",
      "model_module_version": "1.5.0",
      "model_name": "DescriptionStyleModel",
      "state": {
       "description_width": ""
      }
     },
     "c54af388f2644be9bbacd4f598e6ceaa": {
      "model_module": "@jupyter-widgets/controls",
      "model_module_version": "1.5.0",
      "model_name": "TextModel",
      "state": {
       "continuous_update": false,
       "description": "name",
       "layout": "IPY_MODEL_dfe63aa9d45245879bd179fdae112be6",
       "style": "IPY_MODEL_01b4759293cd4876b08c36080cc6c88b",
       "value": "nb_axes"
      }
     },
     "c54dbf897e88456f9d68e9e0b6f32806": {
      "model_module": "@jupyter-widgets/controls",
      "model_module_version": "1.5.0",
      "model_name": "DescriptionStyleModel",
      "state": {
       "description_width": ""
      }
     },
     "c568de927fe14c14ac939845f5cfc2a7": {
      "model_module": "@jupyter-widgets/controls",
      "model_module_version": "1.5.0",
      "model_name": "SliderStyleModel",
      "state": {
       "description_width": ""
      }
     },
     "c5ef80a74b76476ab2ab7654fd9a2aae": {
      "model_module": "@jupyter-widgets/controls",
      "model_module_version": "1.5.0",
      "model_name": "TextModel",
      "state": {
       "continuous_update": false,
       "description": "name",
       "layout": "IPY_MODEL_8ebbdf1fb8e54a828e60d7ac7f9605d3",
       "style": "IPY_MODEL_0098827af4e640a7995f79067eabb137",
       "value": "maxorder"
      }
     },
     "c644d04f28154a62948cef48924abe65": {
      "model_module": "@jupyter-widgets/controls",
      "model_module_version": "1.5.0",
      "model_name": "DropdownModel",
      "state": {
       "_options_labels": [
        "Color"
       ],
       "index": 0,
       "layout": "IPY_MODEL_0d9fd6ec11924ab2913f7e03abfb6b50",
       "style": "IPY_MODEL_bc951223545d4d44b3f16e02818f7e03"
      }
     },
     "c668486775d54df3a202a26b6d1a94af": {
      "model_module": "@jupyter-widgets/base",
      "model_module_version": "1.2.0",
      "model_name": "LayoutModel",
      "state": {}
     },
     "c670633e3aa5429fb74ad03495d1835c": {
      "model_module": "@jupyter-widgets/controls",
      "model_module_version": "1.5.0",
      "model_name": "HBoxModel",
      "state": {
       "children": [
        "IPY_MODEL_d00d708bc83a43c486f075d9361c9002",
        "IPY_MODEL_ec264ee7c2014d25b4a56adf37235cd5"
       ],
       "layout": "IPY_MODEL_9b28113ac4cf4246b8f51027152a28ae"
      }
     },
     "c68f788cbf434b1b86545d771587773e": {
      "model_module": "@jupyter-widgets/base",
      "model_module_version": "1.2.0",
      "model_name": "LayoutModel",
      "state": {}
     },
     "c6a591bed4c246eaa6f122a5fb74d701": {
      "model_module": "@jupyter-widgets/base",
      "model_module_version": "1.2.0",
      "model_name": "LayoutModel",
      "state": {}
     },
     "c6c86d448caa42fba4a0572e54d93f97": {
      "model_module": "@jupyter-widgets/base",
      "model_module_version": "1.2.0",
      "model_name": "LayoutModel",
      "state": {}
     },
     "c70724b373544707a8ceb6ea34ead215": {
      "model_module": "@jupyter-widgets/base",
      "model_module_version": "1.2.0",
      "model_name": "LayoutModel",
      "state": {}
     },
     "c737fed3f4b647319d521b5a01ed5013": {
      "model_module": "@jupyter-widgets/base",
      "model_module_version": "1.2.0",
      "model_name": "LayoutModel",
      "state": {}
     },
     "c7392a724df448aeb54bda6da04bb735": {
      "model_module": "@jupyter-widgets/base",
      "model_module_version": "1.2.0",
      "model_name": "LayoutModel",
      "state": {}
     },
     "c753a38f00e84158ab81183ed86947d4": {
      "model_module": "@jupyter-widgets/controls",
      "model_module_version": "1.5.0",
      "model_name": "ButtonModel",
      "state": {
       "description": "Add",
       "layout": "IPY_MODEL_b56edccf4b9f4bbebbfc5493c9f62610",
       "style": "IPY_MODEL_e849efdb9162462ebac0eda40b42e9b0"
      }
     },
     "c76ff38eb79648c091c2640ae5686f89": {
      "model_module": "@jupyter-widgets/controls",
      "model_module_version": "1.5.0",
      "model_name": "FloatSliderModel",
      "state": {
       "description": "transparency",
       "layout": "IPY_MODEL_4d79e8bd62ba46e7b8991120fe395616",
       "max": 1,
       "step": 0.1,
       "style": "IPY_MODEL_a9b011b81d9a47ae956fb42dd48f7577"
      }
     },
     "c7ce13c027424623b6f2e99ab754ce1b": {
      "model_module": "@jupyter-widgets/controls",
      "model_module_version": "1.5.0",
      "model_name": "ButtonStyleModel",
      "state": {}
     },
     "c7ea2a8eaf6f4fd6ba043daec10a8f1a": {
      "model_module": "@jupyter-widgets/base",
      "model_module_version": "1.2.0",
      "model_name": "LayoutModel",
      "state": {}
     },
     "c7f7b7c639f04c7a812a812bc95f2f4a": {
      "model_module": "@jupyter-widgets/controls",
      "model_module_version": "1.5.0",
      "model_name": "ButtonStyleModel",
      "state": {}
     },
     "c7fdf9479d19465286070c71ea3e9462": {
      "model_module": "@jupyter-widgets/controls",
      "model_module_version": "1.5.0",
      "model_name": "SliderStyleModel",
      "state": {
       "description_width": ""
      }
     },
     "c84fe53e0e9a4df391e82723c5e179d5": {
      "model_module": "@jupyter-widgets/controls",
      "model_module_version": "1.5.0",
      "model_name": "SliderStyleModel",
      "state": {
       "description_width": ""
      }
     },
     "c857186aabb743a182bad020b5b61e91": {
      "model_module": "@jupyter-widgets/controls",
      "model_module_version": "1.5.0",
      "model_name": "ButtonModel",
      "state": {
       "description": "Delete category",
       "layout": "IPY_MODEL_3178a3216d144ea499adf4148f81828a",
       "style": "IPY_MODEL_1d631b91d9ac4f29a2da89915f36246d"
      }
     },
     "c86dfb91c7754e40aff8205f0595f499": {
      "model_module": "@jupyter-widgets/controls",
      "model_module_version": "1.5.0",
      "model_name": "FloatSliderModel",
      "state": {
       "description": "shininess",
       "layout": "IPY_MODEL_2c2396952b064b95b30ec4636f7a5104",
       "max": 1,
       "step": 0.1,
       "style": "IPY_MODEL_0fbcef905dc549ebb51d1bcd20ade1b3",
       "value": 0.2
      }
     },
     "c874010bc6f24cc38736c49375396273": {
      "model_module": "@jupyter-widgets/controls",
      "model_module_version": "1.5.0",
      "model_name": "FloatSliderModel",
      "state": {
       "description": "shininess",
       "layout": "IPY_MODEL_7a33b0c7ad914ade99bfb96985353f2e",
       "max": 1,
       "step": 0.1,
       "style": "IPY_MODEL_96760736adb540eab397a4254d806359",
       "value": 0.2
      }
     },
     "c87de82df61849479c94ddeef1b62236": {
      "model_module": "@jupyter-widgets/controls",
      "model_module_version": "1.5.0",
      "model_name": "TabModel",
      "state": {
       "_titles": {
        "0": "leuwenberg.json"
       },
       "children": [
        "IPY_MODEL_855e56574bc4405fb85a9d92a7326cfa"
       ],
       "layout": "IPY_MODEL_769de7cf8d7e429d8f80a5713fb7ebfa"
      }
     },
     "c885c505f74c4f13b9663c38cb480f8a": {
      "model_module": "@jupyter-widgets/base",
      "model_module_version": "1.2.0",
      "model_name": "LayoutModel",
      "state": {}
     },
     "c8b617f6b250449eb06f31d25f258913": {
      "model_module": "@jupyter-widgets/base",
      "model_module_version": "1.2.0",
      "model_name": "LayoutModel",
      "state": {}
     },
     "c8bd3e3f13474b0baac9eb113f5ce252": {
      "model_module": "@jupyter-widgets/base",
      "model_module_version": "1.2.0",
      "model_name": "LayoutModel",
      "state": {}
     },
     "c8ca31ca5bd148e6a5aa1524e6d99e3f": {
      "model_module": "@jupyter-widgets/controls",
      "model_module_version": "1.5.0",
      "model_name": "DescriptionStyleModel",
      "state": {
       "description_width": ""
      }
     },
     "c8d3f70598d54c238929a83e3bcb3334": {
      "model_module": "@jupyter-widgets/controls",
      "model_module_version": "1.5.0",
      "model_name": "DescriptionStyleModel",
      "state": {
       "description_width": ""
      }
     },
     "c908184eb23d4c2496f39acbf94a858a": {
      "model_module": "@jupyter-widgets/base",
      "model_module_version": "1.2.0",
      "model_name": "LayoutModel",
      "state": {}
     },
     "c92427536cb94849b746848ce431f79c": {
      "model_module": "@jupyter-widgets/base",
      "model_module_version": "1.2.0",
      "model_name": "LayoutModel",
      "state": {}
     },
     "c92b975754c040e5b82b402ea1415e65": {
      "model_module": "@jupyter-widgets/controls",
      "model_module_version": "1.5.0",
      "model_name": "ColorPickerModel",
      "state": {
       "description": "specular",
       "disabled": false,
       "layout": "IPY_MODEL_896ad6ec098a405a80ae6f82cca58a0c",
       "style": "IPY_MODEL_ed9c4819f169408997cc14e89f892d4d",
       "value": "#282828"
      }
     },
     "c9403f1b437748eaa3f2b265b7d6eaa2": {
      "model_module": "@jupyter-widgets/controls",
      "model_module_version": "1.5.0",
      "model_name": "ColorPickerModel",
      "state": {
       "description": "ambient",
       "disabled": false,
       "layout": "IPY_MODEL_cef95e99bff14a7892ad7b7e082815a3",
       "style": "IPY_MODEL_5631cbab764947158f1da6a147458613",
       "value": "#e1a014"
      }
     },
     "c989202804bb452e8cb9723017e5f6c3": {
      "model_module": "@jupyter-widgets/base",
      "model_module_version": "1.2.0",
      "model_name": "LayoutModel",
      "state": {}
     },
     "c98bc4fd0fb74e1583e73ae62e4ec124": {
      "model_module": "@jupyter-widgets/controls",
      "model_module_version": "1.5.0",
      "model_name": "ButtonStyleModel",
      "state": {}
     },
     "c9baeb3cc9b94afca6784ad73de3b963": {
      "model_module": "@jupyter-widgets/base",
      "model_module_version": "1.2.0",
      "model_name": "LayoutModel",
      "state": {
       "margin": "20px 0px"
      }
     },
     "c9bef065e2504444a9ee87abecefe691": {
      "model_module": "pgljupyter",
      "model_module_version": "^0.1.21",
      "model_name": "MaterialEditorModel",
      "state": {
       "_model_module_version": "^0.1.21",
       "_view_module_version": "^0.1.21",
       "children": [
        "IPY_MODEL_de319ccb71084e70b9dbfd5cfb7f274a",
        "IPY_MODEL_7c0c38291061419390dbeba93ef4ef19",
        "IPY_MODEL_c9403f1b437748eaa3f2b265b7d6eaa2",
        "IPY_MODEL_b336f9abf432475a859c3a01ea152da7",
        "IPY_MODEL_3e44ac9e61c14a0f9579e3363460f583",
        "IPY_MODEL_60b6d845ad24428db8160a19a54d242d",
        "IPY_MODEL_d64b99f37a81429489c488b69a00175d",
        "IPY_MODEL_cf824a36611440baadda6efc8be404cc"
       ],
       "layout": "IPY_MODEL_ad770f779d7142d692b8057c7c5825cf"
      }
     },
     "c9e51a7855744cacbf121c9bb896cf32": {
      "model_module": "@jupyter-widgets/base",
      "model_module_version": "1.2.0",
      "model_name": "LayoutModel",
      "state": {}
     },
     "c9ee8ed99d854415b137aeef8b399bf7": {
      "model_module": "@jupyter-widgets/controls",
      "model_module_version": "1.5.0",
      "model_name": "DescriptionStyleModel",
      "state": {
       "description_width": ""
      }
     },
     "c9f408cad5994e8ab4dbb398970c8e82": {
      "model_module": "@jupyter-widgets/base",
      "model_module_version": "1.2.0",
      "model_name": "LayoutModel",
      "state": {}
     },
     "ca048b3e6ffe42779d97a92813a975b0": {
      "model_module": "@jupyter-widgets/controls",
      "model_module_version": "1.5.0",
      "model_name": "BoundedIntTextModel",
      "state": {
       "description": "index",
       "layout": "IPY_MODEL_efecd650a0b549cfb8d04768a7af3883",
       "style": "IPY_MODEL_1eb0713d17fb4a92b6d7cfab6060154c",
       "value": 1
      }
     },
     "ca11567bb72b468da1d353634229db6b": {
      "model_module": "@jupyter-widgets/controls",
      "model_module_version": "1.5.0",
      "model_name": "DescriptionStyleModel",
      "state": {
       "description_width": ""
      }
     },
     "ca31eefba9934ba0853aeee9ed1c6164": {
      "model_module": "@jupyter-widgets/controls",
      "model_module_version": "1.5.0",
      "model_name": "DescriptionStyleModel",
      "state": {
       "description_width": ""
      }
     },
     "ca53e0658bf34086ba83cddc03f09176": {
      "model_module": "@jupyter-widgets/controls",
      "model_module_version": "1.5.0",
      "model_name": "SliderStyleModel",
      "state": {
       "description_width": ""
      }
     },
     "ca5ba3f95ee64141b74fbaec9701abb9": {
      "model_module": "@jupyter-widgets/controls",
      "model_module_version": "1.5.0",
      "model_name": "ColorPickerModel",
      "state": {
       "description": "specular",
       "disabled": false,
       "layout": "IPY_MODEL_1bf7a6bbfe66414e863baaaffb726bb7",
       "style": "IPY_MODEL_bb41eaa28ea549b288100a2d424675a8",
       "value": "#282828"
      }
     },
     "ca7aee704c7f4c709cbfb43965044d9e": {
      "model_module": "@jupyter-widgets/controls",
      "model_module_version": "1.5.0",
      "model_name": "ButtonStyleModel",
      "state": {}
     },
     "ca93be8a390a4842a5a88b86b5f0c740": {
      "model_module": "@jupyter-widgets/controls",
      "model_module_version": "1.5.0",
      "model_name": "IntSliderModel",
      "state": {
       "description": "value",
       "layout": "IPY_MODEL_3ba3327a9ad340168a7a06f365fdced1",
       "max": 10,
       "min": 1,
       "style": "IPY_MODEL_1adccbe353a046ea9bf4ed81f2cba08d",
       "value": 3
      }
     },
     "cb2c668918b54c28a23bfa9edc932df0": {
      "model_module": "@jupyter-widgets/base",
      "model_module_version": "1.2.0",
      "model_name": "LayoutModel",
      "state": {}
     },
     "cb337314fb0342319d43e07dbd615d49": {
      "model_module": "pgljupyter",
      "model_module_version": "^0.2.1",
      "model_name": "MaterialEditorModel",
      "state": {
       "_model_module_version": "^0.2.1",
       "_view_module_version": "^0.2.1",
       "children": [
        "IPY_MODEL_3c1dda887f9844a29ce769e7d165e0ce",
        "IPY_MODEL_1d5f2c59ce754ba49f0d39e7f3b334c9",
        "IPY_MODEL_ca5ba3f95ee64141b74fbaec9701abb9",
        "IPY_MODEL_4bc9266c4ade4f44b0254d1815a8b47b",
        "IPY_MODEL_a31211d14aba43bd91f322ef00703313",
        "IPY_MODEL_828d3e3e411644a9b5c4e0826dfbbe20",
        "IPY_MODEL_42bd288f8f7a49258f239061878469ab"
       ],
       "layout": "IPY_MODEL_ea1b5ac016dc411dbd2d4587c631ef91"
      }
     },
     "cb43d93a31474ef68c27ec960b1e17ad": {
      "model_module": "@jupyter-widgets/base",
      "model_module_version": "1.2.0",
      "model_name": "LayoutModel",
      "state": {}
     },
     "cb7d447aaf2c4c759979e1f891e6d461": {
      "model_module": "@jupyter-widgets/controls",
      "model_module_version": "1.5.0",
      "model_name": "ColorPickerModel",
      "state": {
       "description": "emission",
       "disabled": false,
       "layout": "IPY_MODEL_455f8aeaffa441bf93d43f30ccfb8f01",
       "style": "IPY_MODEL_80486992e7b749219293ac12cc88f982",
       "value": "#000000"
      }
     },
     "cb8ca0e6e0eb421686668ef1c62fece3": {
      "model_module": "@jupyter-widgets/base",
      "model_module_version": "1.2.0",
      "model_name": "LayoutModel",
      "state": {}
     },
     "cbb885bb9b4c46c4a535abf50628efc5": {
      "model_module": "@jupyter-widgets/controls",
      "model_module_version": "1.5.0",
      "model_name": "HBoxModel",
      "state": {
       "layout": "IPY_MODEL_964212339a614dc4b244dd85464c155d"
      }
     },
     "cbc8b4e533c94b8597e45a4ac84149b8": {
      "model_module": "@jupyter-widgets/controls",
      "model_module_version": "1.5.0",
      "model_name": "DropdownModel",
      "state": {
       "_options_labels": [
        "leafduration",
        "leafold",
        "maxorder",
        "radinc",
        "nb_axes"
       ],
       "index": 0,
       "layout": "IPY_MODEL_b8d47ef44074438281319294176af51b",
       "style": "IPY_MODEL_5952c0e964b14034832f8d689c94cd56"
      }
     },
     "cbdaf49adba648288d71c4ee0c85a46d": {
      "model_module": "@jupyter-widgets/controls",
      "model_module_version": "1.5.0",
      "model_name": "ButtonModel",
      "state": {
       "description": "Delete",
       "layout": "IPY_MODEL_e996a0616fe3456f83d3a47b2d6444d3",
       "style": "IPY_MODEL_e0b543b076714cf5958478e4889a5cb7"
      }
     },
     "cbe89d5aedbd45519b776332dff4658c": {
      "model_module": "@jupyter-widgets/controls",
      "model_module_version": "1.5.0",
      "model_name": "HBoxModel",
      "state": {
       "children": [
        "IPY_MODEL_755c1c70762c49c99b070ee87d978fe3"
       ],
       "layout": "IPY_MODEL_3bc19bb63ddf48d997c4e036a6b93e14"
      }
     },
     "cc14692e35cc4df3a41f6c4a0b9ab26e": {
      "model_module": "@jupyter-widgets/controls",
      "model_module_version": "1.5.0",
      "model_name": "SliderStyleModel",
      "state": {
       "description_width": ""
      }
     },
     "cc25751e00dd443fb5153b58575d586f": {
      "model_module": "@jupyter-widgets/controls",
      "model_module_version": "1.5.0",
      "model_name": "ButtonStyleModel",
      "state": {}
     },
     "cc343dc00b354cd18fece388a4875e4c": {
      "model_module": "pgljupyter",
      "model_module_version": "^0.1.21",
      "model_name": "IntEditorModel",
      "state": {
       "_model_module_version": "^0.1.21",
       "_view_module_version": "^0.1.21",
       "children": [
        "IPY_MODEL_902e29cc535749e796ee3a937c3dfd21",
        "IPY_MODEL_cf70e5ab01a742c8abccfa36d455b40f"
       ],
       "layout": "IPY_MODEL_fe3f4751df8748c2bbaad9e702ecd866"
      }
     },
     "cc658d72aeb9448c92ed6b2cedd5b4c2": {
      "model_module": "@jupyter-widgets/controls",
      "model_module_version": "1.5.0",
      "model_name": "DescriptionStyleModel",
      "state": {
       "description_width": ""
      }
     },
     "cc6d0e94c93b4978adf6227cfb533d2c": {
      "model_module": "@jupyter-widgets/controls",
      "model_module_version": "1.5.0",
      "model_name": "DescriptionStyleModel",
      "state": {
       "description_width": ""
      }
     },
     "cca2bc234f7546b6ab053ec14a62865d": {
      "model_module": "pgljupyter",
      "model_module_version": "^0.1.17",
      "model_name": "IntEditorModel",
      "state": {
       "_model_module_version": "^0.1.17",
       "_view_module_version": "^0.1.17",
       "children": [
        "IPY_MODEL_c5ef80a74b76476ab2ab7654fd9a2aae",
        "IPY_MODEL_683514619a284a17be83f3e12928bc6a"
       ],
       "layout": "IPY_MODEL_35888e4f3f5048409ae7317289d152bd"
      }
     },
     "ccb212c6dfcc4c1d92cc6abceb4d2737": {
      "model_module": "@jupyter-widgets/controls",
      "model_module_version": "1.5.0",
      "model_name": "HBoxModel",
      "state": {
       "children": [
        "IPY_MODEL_5ccfe2f5d1bc472faf8aa7f50bf0ab1d",
        "IPY_MODEL_49d68010fc084f1ebd5a1e73fb6c31af",
        "IPY_MODEL_e3e60ccbc1cb456a81c849bf7a485b87",
        "IPY_MODEL_87914f94bb81462d992aeaaef5f740be"
       ],
       "layout": "IPY_MODEL_8d56c586bca3464d8c5cb36ae761ba46"
      }
     },
     "ccb39defb4b54d8591cbedd607b9aa56": {
      "model_module": "@jupyter-widgets/base",
      "model_module_version": "1.2.0",
      "model_name": "LayoutModel",
      "state": {}
     },
     "ccd2ea5a8e31427bb33242becf4077fa": {
      "model_module": "@jupyter-widgets/base",
      "model_module_version": "1.2.0",
      "model_name": "LayoutModel",
      "state": {}
     },
     "cce99130437343edbb73e295b4bb4a02": {
      "model_module": "@jupyter-widgets/controls",
      "model_module_version": "1.5.0",
      "model_name": "DropdownModel",
      "state": {
       "index": null,
       "layout": "IPY_MODEL_814dac1493d8493abe1be47f92709960",
       "style": "IPY_MODEL_e1a057438d6b4569b6ab77b9fa61b360"
      }
     },
     "ccf0f2ce22544625b858407af5c61f95": {
      "model_module": "@jupyter-widgets/base",
      "model_module_version": "1.2.0",
      "model_name": "LayoutModel",
      "state": {}
     },
     "ccf905a2150245e9ad7bfe85dc989fc8": {
      "model_module": "@jupyter-widgets/base",
      "model_module_version": "1.2.0",
      "model_name": "LayoutModel",
      "state": {}
     },
     "cd18808436ce4ac78c1eb074bdea5bc5": {
      "model_module": "@jupyter-widgets/controls",
      "model_module_version": "1.5.0",
      "model_name": "FloatSliderModel",
      "state": {
       "continuous_update": false,
       "description": "diffuse",
       "layout": "IPY_MODEL_f744f73abc8b4e43bcabffd1e5617d58",
       "max": 3,
       "step": 0.1,
       "style": "IPY_MODEL_0aebf2695c55434aac60a9421030c373",
       "value": 1
      }
     },
     "cd1d503025f94455898cda591460f5da": {
      "model_module": "@jupyter-widgets/controls",
      "model_module_version": "1.5.0",
      "model_name": "DropdownModel",
      "state": {
       "_options_labels": [
        "NurbsCurve2D",
        "BezierCurve2D",
        "Polyline2D",
        "Function"
       ],
       "index": 0,
       "layout": "IPY_MODEL_3761ab3b962b4bdc83a0b5c3edaaf2f4",
       "style": "IPY_MODEL_ec565a4c65ef47b7b5c481d2e487b68f"
      }
     },
     "cd5272fa329a4d0ab916e533af42221b": {
      "model_module": "@jupyter-widgets/controls",
      "model_module_version": "1.5.0",
      "model_name": "VBoxModel",
      "state": {
       "children": [
        "IPY_MODEL_cd7e042e69a5464eade0c46b4321c71a",
        "IPY_MODEL_39673705b4d84c069ca1a6657eb8f990",
        "IPY_MODEL_98b7c7ca7bc448ae81cc72e9e30aa98c",
        "IPY_MODEL_ad03daafcaac42e2a0ebee47af0af3de"
       ],
       "layout": "IPY_MODEL_96afe5493961435384ee8a08653ee502"
      }
     },
     "cd7bfb5080ac406ca64676e932e517e1": {
      "model_module": "@jupyter-widgets/controls",
      "model_module_version": "1.5.0",
      "model_name": "ButtonModel",
      "state": {
       "description": "Delete",
       "layout": "IPY_MODEL_4b7afeaad0934ef3b8ed7e9d8d2cd9c9",
       "style": "IPY_MODEL_f10e1a78bef24b7a80af155ce5e761cd"
      }
     },
     "cd7e042e69a5464eade0c46b4321c71a": {
      "model_module": "@jupyter-widgets/controls",
      "model_module_version": "1.5.0",
      "model_name": "HBoxModel",
      "state": {
       "children": [
        "IPY_MODEL_df77cda8b4f54f06bd05eebfbdec3e5f",
        "IPY_MODEL_4fc5a93183974ef7a0ffc455f26cf5b2"
       ],
       "layout": "IPY_MODEL_44dcb9bfe777455c977cdf1b2466d6c4"
      }
     },
     "cd863832ae4f4c2a9fb4238d4fe72b7d": {
      "model_module": "@jupyter-widgets/controls",
      "model_module_version": "1.5.0",
      "model_name": "IntTextModel",
      "state": {
       "description": "min",
       "layout": "IPY_MODEL_67c7aedfc8f04a9bb8e92c4fbabb0fa3",
       "step": 1,
       "style": "IPY_MODEL_15cc82a7eb6848f88869d829430b0385",
       "value": 1
      }
     },
     "cda9dd84098c48b3889ef275f23747f1": {
      "model_module": "@jupyter-widgets/controls",
      "model_module_version": "1.5.0",
      "model_name": "TextModel",
      "state": {
       "continuous_update": false,
       "description": "name",
       "layout": "IPY_MODEL_d8b198bfac424258a47a890f63440c67",
       "style": "IPY_MODEL_4dd92aefda304f2781e1837f27d5ddf7",
       "value": "leafold"
      }
     },
     "cdf37350d48b41aa95e2f22bc8635d1f": {
      "model_module": "@jupyter-widgets/base",
      "model_module_version": "1.2.0",
      "model_name": "LayoutModel",
      "state": {
       "margin": "20px 0px"
      }
     },
     "ce04f919741b465f88d9b2b13fe7aeb5": {
      "model_module": "@jupyter-widgets/base",
      "model_module_version": "1.2.0",
      "model_name": "LayoutModel",
      "state": {}
     },
     "ce0a26bba3a94e90ad2deec291c5620a": {
      "model_module": "@jupyter-widgets/base",
      "model_module_version": "1.2.0",
      "model_name": "LayoutModel",
      "state": {}
     },
     "ce0fb06d58634cb9b41ec68d1e1dc70d": {
      "model_module": "@jupyter-widgets/controls",
      "model_module_version": "1.5.0",
      "model_name": "TextModel",
      "state": {
       "continuous_update": false,
       "description": "name",
       "layout": "IPY_MODEL_6f1858b8e9c6421b9b4fe2362c1009c7",
       "style": "IPY_MODEL_ca31eefba9934ba0853aeee9ed1c6164",
       "value": "leaf_new"
      }
     },
     "ce2c33204f164aad889970e5a43d3a08": {
      "model_module": "@jupyter-widgets/controls",
      "model_module_version": "1.5.0",
      "model_name": "HBoxModel",
      "state": {
       "children": [
        "IPY_MODEL_1fcf90f890c6426ab939a569108497cd",
        "IPY_MODEL_7f20014dd702433aad34bf992652d5b2"
       ],
       "layout": "IPY_MODEL_4958d672242649e6ba8c129a89e468d4"
      }
     },
     "ce2ea377b89d4a4daac61d7b0d613233": {
      "model_module": "@jupyter-widgets/base",
      "model_module_version": "1.2.0",
      "model_name": "LayoutModel",
      "state": {
       "margin": "10px 10px"
      }
     },
     "ce2ea4fd167e4cb2b2f137651b8ac0c7": {
      "model_module": "@jupyter-widgets/controls",
      "model_module_version": "1.5.0",
      "model_name": "SliderStyleModel",
      "state": {
       "description_width": ""
      }
     },
     "ce67773475a240888ab3908bc46155d6": {
      "model_module": "@jupyter-widgets/controls",
      "model_module_version": "1.5.0",
      "model_name": "ButtonModel",
      "state": {
       "description": "Delete",
       "layout": "IPY_MODEL_4ddda9a00bbf42d6aacbcebecf226354",
       "style": "IPY_MODEL_e7db5ec1554041c2a2c5b821407a6039"
      }
     },
     "ce70308ac20f4bb987e9cff5c5bdd36c": {
      "model_module": "@jupyter-widgets/controls",
      "model_module_version": "1.5.0",
      "model_name": "DescriptionStyleModel",
      "state": {
       "description_width": ""
      }
     },
     "ce7e6e96ec964535b8172165fd984f5a": {
      "model_module": "@jupyter-widgets/controls",
      "model_module_version": "1.5.0",
      "model_name": "ButtonStyleModel",
      "state": {}
     },
     "ce95b26aa02f45a485c1255eae9a21fa": {
      "model_module": "@jupyter-widgets/controls",
      "model_module_version": "1.5.0",
      "model_name": "SliderStyleModel",
      "state": {
       "description_width": ""
      }
     },
     "cec3e99efbcc48f4949ee3f961d09c72": {
      "model_module": "@jupyter-widgets/controls",
      "model_module_version": "1.5.0",
      "model_name": "DescriptionStyleModel",
      "state": {
       "description_width": ""
      }
     },
     "cef95e99bff14a7892ad7b7e082815a3": {
      "model_module": "@jupyter-widgets/base",
      "model_module_version": "1.2.0",
      "model_name": "LayoutModel",
      "state": {}
     },
     "ceffb090a5a74d579c94f7381b9a47f0": {
      "model_module": "@jupyter-widgets/base",
      "model_module_version": "1.2.0",
      "model_name": "LayoutModel",
      "state": {}
     },
     "cf2d00fcb37046cca0b8754d884949a8": {
      "model_module": "@jupyter-widgets/controls",
      "model_module_version": "1.5.0",
      "model_name": "IntSliderModel",
      "state": {
       "description": "value",
       "layout": "IPY_MODEL_440acb6e8011430aa874cae6aefacb36",
       "max": 10,
       "min": 1,
       "style": "IPY_MODEL_88f3d087a0de45da8bfd2c33963d9fb3",
       "value": 5
      }
     },
     "cf57978a60ad48b18979556c092b9202": {
      "model_module": "@jupyter-widgets/controls",
      "model_module_version": "1.5.0",
      "model_name": "SliderStyleModel",
      "state": {
       "description_width": ""
      }
     },
     "cf673dfbe5eb413c96fdeb2659cfc128": {
      "model_module": "@jupyter-widgets/controls",
      "model_module_version": "1.5.0",
      "model_name": "SliderStyleModel",
      "state": {
       "description_width": ""
      }
     },
     "cf70e5ab01a742c8abccfa36d455b40f": {
      "model_module": "@jupyter-widgets/controls",
      "model_module_version": "1.5.0",
      "model_name": "IntSliderModel",
      "state": {
       "description": "value",
       "layout": "IPY_MODEL_4c0cd242021b4387b84906f781be597f",
       "max": 5,
       "min": 1,
       "style": "IPY_MODEL_83eb13eb355a4ed79a83c524a5fe5344",
       "value": 4
      }
     },
     "cf824a36611440baadda6efc8be404cc": {
      "model_module": "@jupyter-widgets/controls",
      "model_module_version": "1.5.0",
      "model_name": "FloatSliderModel",
      "state": {
       "description": "shininess",
       "layout": "IPY_MODEL_1841107c669d487a88dba8bee46180f8",
       "max": 1,
       "step": 0.1,
       "style": "IPY_MODEL_228bc3eabbcd41b0903a627cadc7111d",
       "value": 0.2
      }
     },
     "cf9ba375ce514d6186594235d174e6fa": {
      "model_module": "@jupyter-widgets/base",
      "model_module_version": "1.2.0",
      "model_name": "LayoutModel",
      "state": {}
     },
     "cfc1ca4715e642c7b9f1d42760c731fd": {
      "model_module": "@jupyter-widgets/base",
      "model_module_version": "1.2.0",
      "model_name": "LayoutModel",
      "state": {}
     },
     "cffb33bebb154befa460f5be28ee06de": {
      "model_module": "@jupyter-widgets/base",
      "model_module_version": "1.2.0",
      "model_name": "LayoutModel",
      "state": {}
     },
     "cffe896bba6b4be9a72a337ec2eeabfd": {
      "model_module": "@jupyter-widgets/base",
      "model_module_version": "1.2.0",
      "model_name": "LayoutModel",
      "state": {}
     },
     "d0007b5c1cf14819b87f34bbcb148b93": {
      "model_module": "@jupyter-widgets/controls",
      "model_module_version": "1.5.0",
      "model_name": "SliderStyleModel",
      "state": {
       "description_width": ""
      }
     },
     "d007a3afb7ef4e6ab1691e067fa2adc5": {
      "model_module": "@jupyter-widgets/base",
      "model_module_version": "1.2.0",
      "model_name": "LayoutModel",
      "state": {}
     },
     "d00bef684863448d8a69284c4b80ac23": {
      "model_module": "@jupyter-widgets/controls",
      "model_module_version": "1.5.0",
      "model_name": "DescriptionStyleModel",
      "state": {
       "description_width": ""
      }
     },
     "d00cdabea4394c67b9d4871ff44824df": {
      "model_module": "@jupyter-widgets/base",
      "model_module_version": "1.2.0",
      "model_name": "LayoutModel",
      "state": {
       "margin": "10px 10px"
      }
     },
     "d00d708bc83a43c486f075d9361c9002": {
      "model_module": "@jupyter-widgets/controls",
      "model_module_version": "1.5.0",
      "model_name": "ButtonModel",
      "state": {
       "description": "Delete",
       "layout": "IPY_MODEL_ccf0f2ce22544625b858407af5c61f95",
       "style": "IPY_MODEL_bf215b8633cf4c8e9ddb25f302c62afb"
      }
     },
     "d015b65324534f50aa5675640c1f43ab": {
      "model_module": "@jupyter-widgets/controls",
      "model_module_version": "1.5.0",
      "model_name": "HBoxModel",
      "state": {
       "children": [
        "IPY_MODEL_acb4f93525d14ffabe3e2bba3cae48a6",
        "IPY_MODEL_133803d2a9f74591a327cf95a74cdd6a"
       ],
       "layout": "IPY_MODEL_5a6aab1bb709492da4f69389f9069c24"
      }
     },
     "d01eaf873daa42fc915fce3a3a19ba71": {
      "model_module": "@jupyter-widgets/base",
      "model_module_version": "1.2.0",
      "model_name": "LayoutModel",
      "state": {}
     },
     "d03612b14f984819821e89add2e8abfb": {
      "model_module": "@jupyter-widgets/base",
      "model_module_version": "1.2.0",
      "model_name": "LayoutModel",
      "state": {}
     },
     "d07b6d687bcc4acda6e1bcec90664db4": {
      "model_module": "@jupyter-widgets/controls",
      "model_module_version": "1.5.0",
      "model_name": "IntSliderModel",
      "state": {
       "continuous_update": false,
       "description": "value",
       "layout": "IPY_MODEL_685616a6a5014c418cc61d6e755db1e7",
       "max": 10,
       "min": 1,
       "style": "IPY_MODEL_ecd10be312514a0fb8642421d88c44eb",
       "value": 2
      }
     },
     "d08d83f130d445aa9c9e3e4d3eb779f5": {
      "model_module": "@jupyter-widgets/controls",
      "model_module_version": "1.5.0",
      "model_name": "ButtonModel",
      "state": {
       "description": "Add category",
       "layout": "IPY_MODEL_5050ca46763b42f48c282cd082ef9b5e",
       "style": "IPY_MODEL_de6204ad1dc341c3909e295e0a51ec00"
      }
     },
     "d0a6d8e803054098abe932e3805dde62": {
      "model_module": "@jupyter-widgets/base",
      "model_module_version": "1.2.0",
      "model_name": "LayoutModel",
      "state": {}
     },
     "d0c39abacd814f009bd439fddb3ae05c": {
      "model_module": "@jupyter-widgets/base",
      "model_module_version": "1.2.0",
      "model_name": "LayoutModel",
      "state": {}
     },
     "d10a3a68a0474f01aa5b6d5cfdb8ebe8": {
      "model_module": "@jupyter-widgets/controls",
      "model_module_version": "1.5.0",
      "model_name": "FloatSliderModel",
      "state": {
       "description": "transparency",
       "layout": "IPY_MODEL_c47d49a7c60647cb85c5eb15764ce0cf",
       "max": 1,
       "step": 0.1,
       "style": "IPY_MODEL_33df28684ad348f5b03827854e48c752"
      }
     },
     "d10f09db7b844047b372a716b8a9dd49": {
      "model_module": "@jupyter-widgets/controls",
      "model_module_version": "1.5.0",
      "model_name": "SliderStyleModel",
      "state": {
       "description_width": ""
      }
     },
     "d11c5f9a64894e40b64687ac16f2ba0a": {
      "model_module": "@jupyter-widgets/controls",
      "model_module_version": "1.5.0",
      "model_name": "FloatSliderModel",
      "state": {
       "description": "diffuse",
       "layout": "IPY_MODEL_b5307711b6f34b428ecdd5e474394193",
       "max": 3,
       "step": 0.1,
       "style": "IPY_MODEL_66319b5fedf94e328a2169cc85e30ee7",
       "value": 1
      }
     },
     "d152ff0131e44467aa1643fe2974e1b9": {
      "model_module": "@jupyter-widgets/controls",
      "model_module_version": "1.5.0",
      "model_name": "DescriptionStyleModel",
      "state": {
       "description_width": ""
      }
     },
     "d17ee3bf95d444e6a5dc0e77911f5b59": {
      "model_module": "@jupyter-widgets/controls",
      "model_module_version": "1.5.0",
      "model_name": "ColorPickerModel",
      "state": {
       "description": "specular",
       "disabled": false,
       "layout": "IPY_MODEL_0af1bb03cbd844ea9bfc0d9b864d0f8d",
       "style": "IPY_MODEL_64f0f3be71ea49f6b0bf5f7a3382814b",
       "value": "#282828"
      }
     },
     "d18e48c309db4852aa5cdc3da1012b6e": {
      "model_module": "@jupyter-widgets/base",
      "model_module_version": "1.2.0",
      "model_name": "LayoutModel",
      "state": {}
     },
     "d1a8424f341d4ea494d8618314235a18": {
      "model_module": "@jupyter-widgets/base",
      "model_module_version": "1.2.0",
      "model_name": "LayoutModel",
      "state": {}
     },
     "d1e4b02c15bb44948c22e7d933636530": {
      "model_module": "@jupyter-widgets/controls",
      "model_module_version": "1.5.0",
      "model_name": "TextModel",
      "state": {
       "layout": "IPY_MODEL_82ee84b51f34452cb28a4d5fbd6a6bec",
       "placeholder": "category name",
       "style": "IPY_MODEL_b70440f46d284109b251b83b4efe6e79"
      }
     },
     "d1f553a8e0e14ca8939fd7facfe7bdd0": {
      "model_module": "@jupyter-widgets/controls",
      "model_module_version": "1.5.0",
      "model_name": "BoundedIntTextModel",
      "state": {
       "description": "index",
       "layout": "IPY_MODEL_65bee35e74e7441d98cbdeb5de6d8221",
       "style": "IPY_MODEL_113da8bbf28f4da4a88ba0f9cabd4ebb",
       "value": 2
      }
     },
     "d20a66ab54df4e01a70a778bfa48d5d0": {
      "model_module": "@jupyter-widgets/controls",
      "model_module_version": "1.5.0",
      "model_name": "ButtonStyleModel",
      "state": {}
     },
     "d24455fb0aa04c15978bcf82f484ec0d": {
      "model_module": "@jupyter-widgets/controls",
      "model_module_version": "1.5.0",
      "model_name": "FloatSliderModel",
      "state": {
       "description": "shininess",
       "layout": "IPY_MODEL_89e834b8c10e40a390db5fd0665c3d45",
       "max": 1,
       "step": 0.1,
       "style": "IPY_MODEL_b0e8fa40069c4769bfca38d467a34243",
       "value": 0.2
      }
     },
     "d24ed236d364492488ac20992dc448f3": {
      "model_module": "@jupyter-widgets/controls",
      "model_module_version": "1.5.0",
      "model_name": "SliderStyleModel",
      "state": {
       "description_width": ""
      }
     },
     "d28067c4931743aca1bc823ffb01f353": {
      "model_module": "@jupyter-widgets/controls",
      "model_module_version": "1.5.0",
      "model_name": "ColorPickerModel",
      "state": {
       "description": "ambient",
       "disabled": false,
       "layout": "IPY_MODEL_30f8fe4f47224d6abe3cbbfae3e4ee75",
       "style": "IPY_MODEL_3ea576de71e344fc8f076693910052c2",
       "value": "#195717"
      }
     },
     "d2ae08c8938f40e28ea77f61a5b50c80": {
      "model_module": "@jupyter-widgets/controls",
      "model_module_version": "1.5.0",
      "model_name": "ButtonStyleModel",
      "state": {}
     },
     "d2bb46fece49444493085b0de0cbeb64": {
      "model_module": "@jupyter-widgets/controls",
      "model_module_version": "1.5.0",
      "model_name": "SliderStyleModel",
      "state": {
       "description_width": ""
      }
     },
     "d2f53457da264365a8ca7a5c85a6b381": {
      "model_module": "@jupyter-widgets/controls",
      "model_module_version": "1.5.0",
      "model_name": "ColorPickerModel",
      "state": {
       "description": "emission",
       "disabled": false,
       "layout": "IPY_MODEL_d7b73a835c6a400fa37fb014990bed66",
       "style": "IPY_MODEL_f0677d8a64674b559e7f258cf8fa5541",
       "value": "#000000"
      }
     },
     "d30ebfc6c53341ae9babc1bd412860bb": {
      "model_module": "@jupyter-widgets/controls",
      "model_module_version": "1.5.0",
      "model_name": "DescriptionStyleModel",
      "state": {
       "description_width": ""
      }
     },
     "d3229b2421464e3e8771d1719478cafd": {
      "model_module": "@jupyter-widgets/controls",
      "model_module_version": "1.5.0",
      "model_name": "DropdownModel",
      "state": {
       "_options_labels": [
        "Integer",
        "Float",
        "Bool"
       ],
       "index": 0,
       "layout": "IPY_MODEL_6498ae65f15544e3aa9711e23376ad90",
       "style": "IPY_MODEL_5a27138e81a3410884a9215f1d6fa8d6"
      }
     },
     "d323d6b67e114f9199d968a403d35954": {
      "model_module": "@jupyter-widgets/base",
      "model_module_version": "1.2.0",
      "model_name": "LayoutModel",
      "state": {}
     },
     "d3295221ce1f424ebee2f857573f74f6": {
      "model_module": "@jupyter-widgets/controls",
      "model_module_version": "1.5.0",
      "model_name": "DropdownModel",
      "state": {
       "_options_labels": [
        "NurbsCurve2D",
        "BezierCurve2D",
        "Polyline2D",
        "Function"
       ],
       "index": 0,
       "layout": "IPY_MODEL_0b0218a48fab482ca3ef910ddb9948e7",
       "style": "IPY_MODEL_0b86b005791f45fb93ef1e515e62e1e2"
      }
     },
     "d32aaba5fabf43e1a51a446cc716f021": {
      "model_module": "@jupyter-widgets/controls",
      "model_module_version": "1.5.0",
      "model_name": "ButtonStyleModel",
      "state": {}
     },
     "d3311825194e40848ec86c6df05ec71f": {
      "model_module": "@jupyter-widgets/base",
      "model_module_version": "1.2.0",
      "model_name": "LayoutModel",
      "state": {
       "margin": "20px 0px"
      }
     },
     "d35e87005bca48c5862abf4e837a1469": {
      "model_module": "@jupyter-widgets/base",
      "model_module_version": "1.2.0",
      "model_name": "LayoutModel",
      "state": {}
     },
     "d36a68cedc804dc0b13148f20e8408ad": {
      "model_module": "@jupyter-widgets/base",
      "model_module_version": "1.2.0",
      "model_name": "LayoutModel",
      "state": {}
     },
     "d3b85fda8a3a4608a7bd96283095fedd": {
      "model_module": "@jupyter-widgets/base",
      "model_module_version": "1.2.0",
      "model_name": "LayoutModel",
      "state": {}
     },
     "d3c8eaeaa4374bc98c5ce17157ddbceb": {
      "model_module": "@jupyter-widgets/base",
      "model_module_version": "1.2.0",
      "model_name": "LayoutModel",
      "state": {}
     },
     "d3ca847489164ca4957ed12a3dbe22f6": {
      "model_module": "@jupyter-widgets/base",
      "model_module_version": "1.2.0",
      "model_name": "LayoutModel",
      "state": {}
     },
     "d3d0321f778b46a983a5df14ef76dfa1": {
      "model_module": "@jupyter-widgets/controls",
      "model_module_version": "1.5.0",
      "model_name": "IntSliderModel",
      "state": {
       "description": "value",
       "layout": "IPY_MODEL_a88837dec5b742f6a10d5977330bd661",
       "max": 5,
       "min": 1,
       "style": "IPY_MODEL_bd75e9ca86e44f438e2c480a32fa8470",
       "value": 4
      }
     },
     "d40cd5784b9640ce86140f6d8eb19ad7": {
      "model_module": "@jupyter-widgets/controls",
      "model_module_version": "1.5.0",
      "model_name": "DescriptionStyleModel",
      "state": {
       "description_width": ""
      }
     },
     "d424753ad3c64d0f984ef5b30358ea64": {
      "model_module": "@jupyter-widgets/controls",
      "model_module_version": "1.5.0",
      "model_name": "TabModel",
      "state": {
       "layout": "IPY_MODEL_8f76a051af3b4aafaab23bc142f7301f"
      }
     },
     "d42dda3cd9cf477195bbad7f92515edb": {
      "model_module": "@jupyter-widgets/controls",
      "model_module_version": "1.5.0",
      "model_name": "ButtonStyleModel",
      "state": {}
     },
     "d436543783c8447f81f559995965920f": {
      "model_module": "@jupyter-widgets/base",
      "model_module_version": "1.2.0",
      "model_name": "LayoutModel",
      "state": {}
     },
     "d4426702c7c94b0aac24491668d12154": {
      "model_module": "@jupyter-widgets/base",
      "model_module_version": "1.2.0",
      "model_name": "LayoutModel",
      "state": {}
     },
     "d472e1655a9444f0b18024002a8daeb0": {
      "model_module": "@jupyter-widgets/base",
      "model_module_version": "1.2.0",
      "model_name": "LayoutModel",
      "state": {
       "margin": "20px 0px"
      }
     },
     "d4a3882e55824a1d825972ac5448b018": {
      "model_module": "@jupyter-widgets/controls",
      "model_module_version": "1.5.0",
      "model_name": "HBoxModel",
      "state": {
       "children": [
        "IPY_MODEL_f365e1e598254f48b575a161866cb1f1",
        "IPY_MODEL_1030b8cd0553429ca4407dc816bce54f",
        "IPY_MODEL_621e07a0b5ec49b6b5a0a7168a74a2d5"
       ],
       "layout": "IPY_MODEL_79cc09f67f094bd29d9ce3042a56b272"
      }
     },
     "d4db273c64d04656a9b57533239e7872": {
      "model_module": "@jupyter-widgets/controls",
      "model_module_version": "1.5.0",
      "model_name": "TextModel",
      "state": {
       "continuous_update": false,
       "description": "name",
       "layout": "IPY_MODEL_5c2170886bb84b0fb0345314e6a3925d",
       "style": "IPY_MODEL_9824adc57ba049e4afcc27d45ea5872d",
       "value": "color_1"
      }
     },
     "d4ef39502216401ca3c2e7381d844b04": {
      "model_module": "@jupyter-widgets/base",
      "model_module_version": "1.2.0",
      "model_name": "LayoutModel",
      "state": {}
     },
     "d4fcee8507e649a6822506b7eaf235b2": {
      "model_module": "@jupyter-widgets/base",
      "model_module_version": "1.2.0",
      "model_name": "LayoutModel",
      "state": {}
     },
     "d522f154218a4d53baef2b0682693996": {
      "model_module": "@jupyter-widgets/base",
      "model_module_version": "1.2.0",
      "model_name": "LayoutModel",
      "state": {}
     },
     "d52fb0d8ec634c9e8f5209c9cbd03a9e": {
      "model_module": "@jupyter-widgets/base",
      "model_module_version": "1.2.0",
      "model_name": "LayoutModel",
      "state": {}
     },
     "d52fd3cce3b24ccfb6f4046c55f71e0a": {
      "model_module": "@jupyter-widgets/controls",
      "model_module_version": "1.5.0",
      "model_name": "ColorPickerModel",
      "state": {
       "description": "emission",
       "disabled": false,
       "layout": "IPY_MODEL_a52d14ce28c94f17afce4575f5ea57dd",
       "style": "IPY_MODEL_ed774bc03b0a4afcae5f17c89042e491",
       "value": "#000000"
      }
     },
     "d533d0f7e8d44a358083da646ae1b1c9": {
      "model_module": "@jupyter-widgets/controls",
      "model_module_version": "1.5.0",
      "model_name": "TextModel",
      "state": {
       "continuous_update": false,
       "description": "name",
       "layout": "IPY_MODEL_a19a36aed4ac40049951a2984ceedf3b",
       "style": "IPY_MODEL_83cf2697568b4f3fa8e2fa044d788093",
       "value": "radinc"
      }
     },
     "d5451f4d3ae8401ab534c5136e99f785": {
      "model_module": "@jupyter-widgets/controls",
      "model_module_version": "1.5.0",
      "model_name": "DropdownModel",
      "state": {
       "_options_labels": [
        "maxorder",
        "radinc",
        "nb_axes"
       ],
       "index": 0,
       "layout": "IPY_MODEL_024c0a7ea2924ff5a9d4b4e8dd33f20f",
       "style": "IPY_MODEL_0d2e16e55e4f4049983e0cbb83eb2316"
      }
     },
     "d56364ff1cc441588f37f856b104fb7f": {
      "model_module": "@jupyter-widgets/base",
      "model_module_version": "1.2.0",
      "model_name": "LayoutModel",
      "state": {}
     },
     "d563b21fb0e44bff9f75ce1b0e25866e": {
      "model_module": "@jupyter-widgets/controls",
      "model_module_version": "1.5.0",
      "model_name": "ButtonStyleModel",
      "state": {}
     },
     "d57615a69c10480d8db062fc5e36385d": {
      "model_module": "@jupyter-widgets/controls",
      "model_module_version": "1.5.0",
      "model_name": "DescriptionStyleModel",
      "state": {
       "description_width": ""
      }
     },
     "d57e2be537e04b77bd713ec999a5c5a4": {
      "model_module": "@jupyter-widgets/controls",
      "model_module_version": "1.5.0",
      "model_name": "SliderStyleModel",
      "state": {
       "description_width": ""
      }
     },
     "d5962bdf3e204a32a0c5f001c01c8af8": {
      "model_module": "@jupyter-widgets/controls",
      "model_module_version": "1.5.0",
      "model_name": "DescriptionStyleModel",
      "state": {
       "description_width": ""
      }
     },
     "d59eedfe91e040bd83b09d32a1718f4b": {
      "model_module": "@jupyter-widgets/controls",
      "model_module_version": "1.5.0",
      "model_name": "SliderStyleModel",
      "state": {
       "description_width": ""
      }
     },
     "d5bad5e9916e489c92ca26665824ec2d": {
      "model_module": "@jupyter-widgets/controls",
      "model_module_version": "1.5.0",
      "model_name": "SliderStyleModel",
      "state": {
       "description_width": ""
      }
     },
     "d5cd15e37f944ccfa4bf1cdd3348f4c7": {
      "model_module": "@jupyter-widgets/controls",
      "model_module_version": "1.5.0",
      "model_name": "SliderStyleModel",
      "state": {
       "description_width": ""
      }
     },
     "d5cd4fb599cb46fc948cd99e2e1b54e4": {
      "model_module": "@jupyter-widgets/base",
      "model_module_version": "1.2.0",
      "model_name": "LayoutModel",
      "state": {}
     },
     "d5e71a2070914d33ad663f7fd0332839": {
      "model_module": "@jupyter-widgets/controls",
      "model_module_version": "1.5.0",
      "model_name": "ButtonStyleModel",
      "state": {}
     },
     "d64b99f37a81429489c488b69a00175d": {
      "model_module": "@jupyter-widgets/controls",
      "model_module_version": "1.5.0",
      "model_name": "FloatSliderModel",
      "state": {
       "description": "transparency",
       "layout": "IPY_MODEL_51298c491bb74c49aa13975c0b81b43a",
       "max": 1,
       "step": 0.1,
       "style": "IPY_MODEL_d24ed236d364492488ac20992dc448f3"
      }
     },
     "d6e29de606464a1eada931b449337734": {
      "model_module": "@jupyter-widgets/controls",
      "model_module_version": "1.5.0",
      "model_name": "DescriptionStyleModel",
      "state": {
       "description_width": ""
      }
     },
     "d734a536300949189433eec18ebe49d5": {
      "model_module": "@jupyter-widgets/controls",
      "model_module_version": "1.5.0",
      "model_name": "IntSliderModel",
      "state": {
       "description": "value",
       "layout": "IPY_MODEL_973da0ef21a546739fbc9361cd34bfe5",
       "max": 10,
       "min": 1,
       "style": "IPY_MODEL_d5bad5e9916e489c92ca26665824ec2d",
       "value": 2
      }
     },
     "d77925c6797142988e94711a23d04d7b": {
      "model_module": "@jupyter-widgets/base",
      "model_module_version": "1.2.0",
      "model_name": "LayoutModel",
      "state": {}
     },
     "d77d077081bb4eb8baa6f71acfaca80d": {
      "model_module": "@jupyter-widgets/controls",
      "model_module_version": "1.5.0",
      "model_name": "HBoxModel",
      "state": {
       "children": [
        "IPY_MODEL_ec25e9001eaf45e69cf86327398a4adc",
        "IPY_MODEL_1a768dffa91045cdbec62fd051859942"
       ],
       "layout": "IPY_MODEL_f7ff34c66d4b431c8d7a458913ac23de"
      }
     },
     "d79e5da1ec2d4eff8b5b67ab8d2838d8": {
      "model_module": "pgljupyter",
      "model_module_version": "^0.1.17",
      "model_name": "IntEditorModel",
      "state": {
       "_model_module_version": "^0.1.17",
       "_view_module_version": "^0.1.17",
       "children": [
        "IPY_MODEL_b026cfdea7f24109b3207938d8293f82",
        "IPY_MODEL_fa78c56a5cee470db3de6e4fe2ec4481"
       ],
       "layout": "IPY_MODEL_1aeee9874bc84466bbeb7bfb15647305"
      }
     },
     "d7b73a835c6a400fa37fb014990bed66": {
      "model_module": "@jupyter-widgets/base",
      "model_module_version": "1.2.0",
      "model_name": "LayoutModel",
      "state": {}
     },
     "d7e2fe307b4148cfac6f5e85faa87f8d": {
      "model_module": "pgljupyter",
      "model_module_version": "^0.1.21",
      "model_name": "MaterialEditorModel",
      "state": {
       "_model_module_version": "^0.1.21",
       "_view_module_version": "^0.1.21",
       "children": [
        "IPY_MODEL_399fc3d82a3b4cb6984cdc1806f6c118",
        "IPY_MODEL_203079255d89445eaa5a11bb556a37d5",
        "IPY_MODEL_058c249a39c04bedbadbabfd56c8cbca",
        "IPY_MODEL_a6b2268c582b4593aeb1fd6140283cda",
        "IPY_MODEL_fcc4f1c9cd4740db81b92272d44020c6",
        "IPY_MODEL_5d665054e5a24fcc86e9f3d114ca7382",
        "IPY_MODEL_455ba0e06d5247ffb20550cc7189a0a9",
        "IPY_MODEL_e64b8d9963944b6982872e56c1d1076b"
       ],
       "layout": "IPY_MODEL_fe21590a178c49c09a36c5fb9b0fb406"
      }
     },
     "d807d0ad6ae64aefa2b06fb075a472d5": {
      "model_module": "@jupyter-widgets/controls",
      "model_module_version": "1.5.0",
      "model_name": "IntSliderModel",
      "state": {
       "continuous_update": false,
       "description": "value",
       "layout": "IPY_MODEL_451a764b5b1b439ba89df9ed30ab7521",
       "max": 10,
       "min": 1,
       "style": "IPY_MODEL_929050373f6242689705691232ea479b",
       "value": 3
      }
     },
     "d823d7a84c874bdfa2e19e5a2952a317": {
      "model_module": "@jupyter-widgets/base",
      "model_module_version": "1.2.0",
      "model_name": "LayoutModel",
      "state": {}
     },
     "d826944e71484a12ba8264f9980eaa85": {
      "model_module": "@jupyter-widgets/controls",
      "model_module_version": "1.5.0",
      "model_name": "DescriptionStyleModel",
      "state": {
       "description_width": ""
      }
     },
     "d894f81338df4a7997bee79a0e19735c": {
      "model_module": "@jupyter-widgets/controls",
      "model_module_version": "1.5.0",
      "model_name": "DescriptionStyleModel",
      "state": {
       "description_width": ""
      }
     },
     "d8984fabe4b64cf5badca23730a3e99f": {
      "model_module": "@jupyter-widgets/controls",
      "model_module_version": "1.5.0",
      "model_name": "TextModel",
      "state": {
       "continuous_update": false,
       "description": "name",
       "layout": "IPY_MODEL_e292b053762d44a8b5698ced23674c83",
       "style": "IPY_MODEL_5c8ee91aecec463e82900f71a4a9e81d",
       "value": "trunk"
      }
     },
     "d8b198bfac424258a47a890f63440c67": {
      "model_module": "@jupyter-widgets/base",
      "model_module_version": "1.2.0",
      "model_name": "LayoutModel",
      "state": {}
     },
     "d8b7d3f852be4323a7cb38d583268863": {
      "model_module": "@jupyter-widgets/base",
      "model_module_version": "1.2.0",
      "model_name": "LayoutModel",
      "state": {}
     },
     "d8d73c6794a64b41a4b085d7b2422110": {
      "model_module": "@jupyter-widgets/base",
      "model_module_version": "1.2.0",
      "model_name": "LayoutModel",
      "state": {}
     },
     "d8dd6096e07649cb8ceb51b260ceb49f": {
      "model_module": "@jupyter-widgets/controls",
      "model_module_version": "1.5.0",
      "model_name": "DescriptionStyleModel",
      "state": {
       "description_width": ""
      }
     },
     "d91926552cc04101b20b93a25091f15a": {
      "model_module": "@jupyter-widgets/controls",
      "model_module_version": "1.5.0",
      "model_name": "TextModel",
      "state": {
       "continuous_update": false,
       "description": "name",
       "layout": "IPY_MODEL_255de9b06ec0472aaa589e58b2badd2d",
       "style": "IPY_MODEL_a01d9dc1f8e34f3296fd8d2ea826ec8c",
       "value": "radinc"
      }
     },
     "d91ab3eec5c24eb6a0c9226f899b6e7a": {
      "model_module": "@jupyter-widgets/controls",
      "model_module_version": "1.5.0",
      "model_name": "HBoxModel",
      "state": {
       "children": [
        "IPY_MODEL_0e54aa9513264caeb2d9412ade1c3ad8",
        "IPY_MODEL_216b5684e13748dbbbd395dfcfccad08"
       ],
       "layout": "IPY_MODEL_3bc19bb63ddf48d997c4e036a6b93e14"
      }
     },
     "d93f65b8733e49b29dc3b7e7a44ec509": {
      "model_module": "@jupyter-widgets/controls",
      "model_module_version": "1.5.0",
      "model_name": "SliderStyleModel",
      "state": {
       "description_width": ""
      }
     },
     "d94927052fb046c4b476563ba1404936": {
      "model_module": "@jupyter-widgets/controls",
      "model_module_version": "1.5.0",
      "model_name": "ButtonModel",
      "state": {
       "description": "Delete",
       "layout": "IPY_MODEL_2e291dc0a02b4b878cc21b93ac478bfd",
       "style": "IPY_MODEL_18abd2b200874f98af3b0f2c86c1a019"
      }
     },
     "d9543fcbcba34908b7e5c4d4b1a82e38": {
      "model_module": "@jupyter-widgets/base",
      "model_module_version": "1.2.0",
      "model_name": "LayoutModel",
      "state": {}
     },
     "d96933ee81db49b7a9317685439d454c": {
      "model_module": "@jupyter-widgets/controls",
      "model_module_version": "1.5.0",
      "model_name": "DescriptionStyleModel",
      "state": {
       "description_width": ""
      }
     },
     "d96944e0d08c4a04aa0b00a6367b12c9": {
      "model_module": "@jupyter-widgets/base",
      "model_module_version": "1.2.0",
      "model_name": "LayoutModel",
      "state": {}
     },
     "d978d64c481643da8a0c61fcd3e368e3": {
      "model_module": "@jupyter-widgets/base",
      "model_module_version": "1.2.0",
      "model_name": "LayoutModel",
      "state": {}
     },
     "d98400c8547342cb8a67ecbb1f113126": {
      "model_module": "@jupyter-widgets/controls",
      "model_module_version": "1.5.0",
      "model_name": "DescriptionStyleModel",
      "state": {
       "description_width": ""
      }
     },
     "d9b886e295724cc9a420de8dcc17e338": {
      "model_module": "@jupyter-widgets/controls",
      "model_module_version": "1.5.0",
      "model_name": "ButtonModel",
      "state": {
       "description": "Add",
       "layout": "IPY_MODEL_3eaf0cde17004332ab35b0f57fc0d75b",
       "style": "IPY_MODEL_09d6bc5c5f48421884c5070738ff6283"
      }
     },
     "d9ccb67aeb914dbebc9157bdfb5dc23d": {
      "model_module": "@jupyter-widgets/base",
      "model_module_version": "1.2.0",
      "model_name": "LayoutModel",
      "state": {}
     },
     "d9d4c404d76e436f8e9995638352fdaa": {
      "model_module": "@jupyter-widgets/controls",
      "model_module_version": "1.5.0",
      "model_name": "ButtonStyleModel",
      "state": {}
     },
     "d9fb92da354f41de80d8aed312a46ccd": {
      "model_module": "@jupyter-widgets/controls",
      "model_module_version": "1.5.0",
      "model_name": "ButtonStyleModel",
      "state": {}
     },
     "d9fed144986740a4aebc4a2d4217ab60": {
      "model_module": "@jupyter-widgets/controls",
      "model_module_version": "1.5.0",
      "model_name": "DescriptionStyleModel",
      "state": {
       "description_width": ""
      }
     },
     "da13191a83f844c595b3cff32e04df31": {
      "model_module": "@jupyter-widgets/controls",
      "model_module_version": "1.5.0",
      "model_name": "ButtonModel",
      "state": {
       "description": "Add",
       "layout": "IPY_MODEL_5b833389726149e891e43233e262af30",
       "style": "IPY_MODEL_11d8025c13d9418dab33da381333379c"
      }
     },
     "da90b6b6b6334b2d8566268731ae92f4": {
      "model_module": "@jupyter-widgets/controls",
      "model_module_version": "1.5.0",
      "model_name": "DropdownModel",
      "state": {
       "_options_labels": [
        "leafduration",
        "leafold",
        "maxorder",
        "radinc",
        "nb_axes"
       ],
       "index": 0,
       "layout": "IPY_MODEL_ae707f5167d74fc69acaaf741eb5e5de",
       "style": "IPY_MODEL_d826944e71484a12ba8264f9980eaa85"
      }
     },
     "da94d7f0e6e045988d94aba69d5be576": {
      "model_module": "@jupyter-widgets/controls",
      "model_module_version": "1.5.0",
      "model_name": "TextModel",
      "state": {
       "continuous_update": false,
       "description": "name",
       "layout": "IPY_MODEL_36cefaebd481433a986da12e8f4ca923",
       "style": "IPY_MODEL_4700fadcbf6740eeacfb5f4d5442bcc5",
       "value": "radinc"
      }
     },
     "dab8e9c05b4743e0910867303374e23e": {
      "model_module": "pgljupyter",
      "model_module_version": "^0.1.16",
      "model_name": "MaterialEditorModel",
      "state": {
       "_model_module_version": "^0.1.16",
       "_view_module_version": "^0.1.16",
       "children": [
        "IPY_MODEL_677b6979d18a4369b43c7d2c7055d352",
        "IPY_MODEL_1f8ab0fca1c04c59ba41957779688c40",
        "IPY_MODEL_9db215c1ff3242bab8eb9533ae4c1142",
        "IPY_MODEL_7820f3eb666143e08c9689ceabf9f92e",
        "IPY_MODEL_2cbe2b9f20a14b2c9ff7c42cc96e34c6",
        "IPY_MODEL_00d6b976c7584356bc8ace10cc276390",
        "IPY_MODEL_5d1acbde1263434ca0516af8b1e818ec",
        "IPY_MODEL_c16429a9bfff45a981471a788dca62c2"
       ],
       "layout": "IPY_MODEL_9b3e11ebb803450b986ba009cd7271d1"
      }
     },
     "dad1575e212b4ec78e51228ec3ee5775": {
      "model_module": "@jupyter-widgets/controls",
      "model_module_version": "1.5.0",
      "model_name": "BoundedIntTextModel",
      "state": {
       "description": "index",
       "layout": "IPY_MODEL_ceffb090a5a74d579c94f7381b9a47f0",
       "style": "IPY_MODEL_6cc1f038278244dfa83d00a7f7e12088",
       "value": 3
      }
     },
     "dae8d0d2b5a24ba3a4caef5ae026ea60": {
      "model_module": "@jupyter-widgets/base",
      "model_module_version": "1.2.0",
      "model_name": "LayoutModel",
      "state": {}
     },
     "daf71e2b2a7543cb8dcc73b7d06ecdcf": {
      "model_module": "@jupyter-widgets/controls",
      "model_module_version": "1.5.0",
      "model_name": "TextModel",
      "state": {
       "continuous_update": false,
       "description": "name",
       "layout": "IPY_MODEL_7b34d047a75145ef93c9d2ba934f66f1",
       "style": "IPY_MODEL_61604db4d90b46a3a0031ae5119c1516",
       "value": "leafduration"
      }
     },
     "db23eda7382441b68d87f582fc44c2e1": {
      "model_module": "@jupyter-widgets/controls",
      "model_module_version": "1.5.0",
      "model_name": "TextModel",
      "state": {
       "continuous_update": false,
       "description": "name",
       "layout": "IPY_MODEL_3eb5de6cfa8c4221935e7232c267b322",
       "style": "IPY_MODEL_7be0e86f808844688593b2ba1a25b20d",
       "value": "leaf_new"
      }
     },
     "db5323087b2145deaac82eae65704511": {
      "model_module": "pgljupyter",
      "model_module_version": "^0.1.21",
      "model_name": "LsystemWidgetModel",
      "state": {
       "_model_module_version": "^0.1.21",
       "_view_module_version": "^0.1.21",
       "axes_helper": false,
       "derivationLength": 42,
       "layout": "IPY_MODEL_37a93703112240f1b4ba6fd167b2abd8",
       "light_helper": false,
       "plane": true,
       "size_display": [
        400,
        400
       ],
       "size_world": 50
      }
     },
     "db5f6dc768de4f52af107562f58156fb": {
      "model_module": "@jupyter-widgets/controls",
      "model_module_version": "1.5.0",
      "model_name": "ButtonModel",
      "state": {
       "description": "Add",
       "layout": "IPY_MODEL_207d2c2ed4094de6aa559901cd22e572",
       "style": "IPY_MODEL_2d9fad0b565a4646b1f726689ed625fc"
      }
     },
     "db946cbbdb794b6498a7220ba95a9042": {
      "model_module": "@jupyter-widgets/base",
      "model_module_version": "1.2.0",
      "model_name": "LayoutModel",
      "state": {}
     },
     "db9ed437c56e4afcaea7ce8551e64a91": {
      "model_module": "@jupyter-widgets/controls",
      "model_module_version": "1.5.0",
      "model_name": "TextModel",
      "state": {
       "continuous_update": false,
       "description": "name",
       "layout": "IPY_MODEL_65dc7f4bbf724d46a564ee783e7d55ea",
       "style": "IPY_MODEL_12b07df7fcbf4176ac7229ec42a4a560",
       "value": "maxorder"
      }
     },
     "dbbb98e68fb84fce957f5e756020dae8": {
      "model_module": "pgljupyter",
      "model_module_version": "^0.2.0",
      "model_name": "MaterialEditorModel",
      "state": {
       "_model_module_version": "^0.2.0",
       "_view_module_version": "^0.2.0",
       "children": [
        "IPY_MODEL_b9187b3d01e648a38efb74ee0b7e94b9",
        "IPY_MODEL_dc1ef78af5234098ac8a751f55731b43",
        "IPY_MODEL_f8f1b22537ea4775b6a66c4cf9a93b36",
        "IPY_MODEL_42899300951d4816b38de19a05816be9",
        "IPY_MODEL_fb75e480e9124ea2828f538298ff8011",
        "IPY_MODEL_f061060e4659478abd495ee2273bc6da",
        "IPY_MODEL_05501bf0102f432f9032303e1f125371",
        "IPY_MODEL_1e5b82c3498a414dbfb5116f2d3569b5"
       ],
       "layout": "IPY_MODEL_d00cdabea4394c67b9d4871ff44824df"
      }
     },
     "dbf29d67c32f4897a7101f3492b6f2df": {
      "model_module": "@jupyter-widgets/controls",
      "model_module_version": "1.5.0",
      "model_name": "SliderStyleModel",
      "state": {
       "description_width": ""
      }
     },
     "dc1ef78af5234098ac8a751f55731b43": {
      "model_module": "@jupyter-widgets/controls",
      "model_module_version": "1.5.0",
      "model_name": "BoundedIntTextModel",
      "state": {
       "description": "index",
       "layout": "IPY_MODEL_3ef4d136b1234440b78e643c65466054",
       "style": "IPY_MODEL_837f5389dc8e4059a6ec5a95193f8e96",
       "value": 4
      }
     },
     "dc1fc436f2d640ee97620d714ae2e02e": {
      "model_module": "@jupyter-widgets/controls",
      "model_module_version": "1.5.0",
      "model_name": "SliderStyleModel",
      "state": {
       "description_width": ""
      }
     },
     "dc53693171ca4e6f859008d9f7934f2e": {
      "model_module": "@jupyter-widgets/controls",
      "model_module_version": "1.5.0",
      "model_name": "SliderStyleModel",
      "state": {
       "description_width": ""
      }
     },
     "dc6fe4ae93724ee697ccb6414fa8bd2b": {
      "model_module": "@jupyter-widgets/base",
      "model_module_version": "1.2.0",
      "model_name": "LayoutModel",
      "state": {}
     },
     "dc88e7dd6e5746a8887723eccc89c28c": {
      "model_module": "@jupyter-widgets/controls",
      "model_module_version": "1.5.0",
      "model_name": "AccordionModel",
      "state": {
       "_titles": {
        "0": "materials",
        "1": "leaf",
        "2": "trunk & branches"
       },
       "children": [
        "IPY_MODEL_5299f053912947b1b3e3594359641a4f",
        "IPY_MODEL_3bfa6951bf14499b94b0918f6e25a705",
        "IPY_MODEL_cd5272fa329a4d0ab916e533af42221b"
       ],
       "layout": "IPY_MODEL_1152c997b1494538a94716f205e4dedd"
      }
     },
     "dc891aa6241b421da0cabf4ab08e3d0e": {
      "model_module": "@jupyter-widgets/controls",
      "model_module_version": "1.5.0",
      "model_name": "TabModel",
      "state": {
       "_titles": {
        "0": "leuwenberg.json"
       },
       "children": [
        "IPY_MODEL_405490f3003747ea84770f0ca8eba3fa"
       ],
       "layout": "IPY_MODEL_d36a68cedc804dc0b13148f20e8408ad"
      }
     },
     "dc9722bd3a6e4f1e855fb518b2065abe": {
      "model_module": "@jupyter-widgets/controls",
      "model_module_version": "1.5.0",
      "model_name": "SliderStyleModel",
      "state": {
       "description_width": ""
      }
     },
     "dc9e29879357411bbba01c813ba6f9f4": {
      "model_module": "@jupyter-widgets/base",
      "model_module_version": "1.2.0",
      "model_name": "LayoutModel",
      "state": {}
     },
     "dcadae9267644afd89d13029c062ea5a": {
      "model_module": "@jupyter-widgets/base",
      "model_module_version": "1.2.0",
      "model_name": "LayoutModel",
      "state": {}
     },
     "dcc995adc6dd4fe097aab757670954b6": {
      "model_module": "@jupyter-widgets/controls",
      "model_module_version": "1.5.0",
      "model_name": "SliderStyleModel",
      "state": {
       "description_width": ""
      }
     },
     "dd0076f5130e4b019ecac08f8ecf14e6": {
      "model_module": "@jupyter-widgets/base",
      "model_module_version": "1.2.0",
      "model_name": "LayoutModel",
      "state": {}
     },
     "dd0ff9c59cde46bcb7cc5f4ac4df69e9": {
      "model_module": "@jupyter-widgets/controls",
      "model_module_version": "1.5.0",
      "model_name": "HBoxModel",
      "state": {
       "children": [
        "IPY_MODEL_eeda36683653443fb2968b0128f1e43c",
        "IPY_MODEL_1447d28562564ca58b3037339e1fd56a",
        "IPY_MODEL_378af3a8594449d3a050f6c1b0b0503f",
        "IPY_MODEL_f99d51312e7442a1b3f60bf6fe6b16a1"
       ],
       "layout": "IPY_MODEL_5ffcfabea4324e77ba7847c89942d8f5"
      }
     },
     "dd2cc788345348a793f5a93c9e888de3": {
      "model_module": "@jupyter-widgets/base",
      "model_module_version": "1.2.0",
      "model_name": "LayoutModel",
      "state": {}
     },
     "dd4dba293426449aa06a3fde18521edd": {
      "model_module": "@jupyter-widgets/controls",
      "model_module_version": "1.5.0",
      "model_name": "ColorPickerModel",
      "state": {
       "description": "ambient",
       "disabled": false,
       "layout": "IPY_MODEL_9fc74170bac440199e6a488d96a62828",
       "style": "IPY_MODEL_a5d5405acf374b40a9d6a683b655ac55",
       "value": "#e1a014"
      }
     },
     "dd63929993a7401ab626cf49aa8e47ec": {
      "model_module": "@jupyter-widgets/controls",
      "model_module_version": "1.5.0",
      "model_name": "HBoxModel",
      "state": {
       "children": [
        "IPY_MODEL_36206315b4434144abd918600eba897c",
        "IPY_MODEL_f4bdb1ac62ae4f1ba65cb9bfe80e8b50",
        "IPY_MODEL_04fd9850624b45509d3404170dfb2b93"
       ],
       "layout": "IPY_MODEL_77fc433d7ea240f0b05864afbc6f627a"
      }
     },
     "dd665a625d6d4bd4adf8224a8f2126ec": {
      "model_module": "@jupyter-widgets/base",
      "model_module_version": "1.2.0",
      "model_name": "LayoutModel",
      "state": {}
     },
     "dd91341438fb460cb5355fac879a754e": {
      "model_module": "@jupyter-widgets/controls",
      "model_module_version": "1.5.0",
      "model_name": "ButtonStyleModel",
      "state": {}
     },
     "ddc34eb399b046ce9c7bbcc7bcce04e5": {
      "model_module": "pgljupyter",
      "model_module_version": "^0.1.17",
      "model_name": "IntEditorModel",
      "state": {
       "_model_module_version": "^0.1.17",
       "_view_module_version": "^0.1.17",
       "children": [
        "IPY_MODEL_daf71e2b2a7543cb8dcc73b7d06ecdcf",
        "IPY_MODEL_8e59f23a67514549b0b971a20c8f5644"
       ],
       "layout": "IPY_MODEL_8ab5ba176a154599b445e9556a8031de"
      }
     },
     "dde1071f08f442b987043d10dc31e5dd": {
      "model_module": "@jupyter-widgets/controls",
      "model_module_version": "1.5.0",
      "model_name": "DescriptionStyleModel",
      "state": {
       "description_width": ""
      }
     },
     "de0166a69e364f30890e136c6a843c04": {
      "model_module": "@jupyter-widgets/base",
      "model_module_version": "1.2.0",
      "model_name": "LayoutModel",
      "state": {}
     },
     "de14ab107bb9470f974458da57567aeb": {
      "model_module": "@jupyter-widgets/controls",
      "model_module_version": "1.5.0",
      "model_name": "FloatSliderModel",
      "state": {
       "continuous_update": false,
       "description": "diffuse",
       "layout": "IPY_MODEL_ede64f804344425291e343f1d105c792",
       "max": 3,
       "step": 0.1,
       "style": "IPY_MODEL_df5d8e2022524ba68333e874d0e5efd4",
       "value": 1
      }
     },
     "de17ce4b402f484dad854027cadfb9d2": {
      "model_module": "pgljupyter",
      "model_module_version": "^0.1.19",
      "model_name": "MaterialEditorModel",
      "state": {
       "_model_module_version": "^0.1.19",
       "_view_module_version": "^0.1.19",
       "children": [
        "IPY_MODEL_db23eda7382441b68d87f582fc44c2e1",
        "IPY_MODEL_e7f5ee21dad84e169e218eb28ecfd188",
        "IPY_MODEL_b3b4369a077e494799fb62f23eb0eb47",
        "IPY_MODEL_8ea211ca5b9b4eeba00a371c1b423cca",
        "IPY_MODEL_30d04e67afa2429b8229a2e9aae7d544",
        "IPY_MODEL_0bfc733f831346d3bfd46bb08e6ed994",
        "IPY_MODEL_bbc20920f34a4a74ae6269cb6b203707",
        "IPY_MODEL_af05852e0c454d1081c694c61e2c259d"
       ],
       "layout": "IPY_MODEL_3a06d16c9b3e4435a1ad65bd71604d2e"
      }
     },
     "de26906445994c7e8243365b107e8044": {
      "model_module": "@jupyter-widgets/controls",
      "model_module_version": "1.5.0",
      "model_name": "ColorPickerModel",
      "state": {
       "description": "ambient",
       "disabled": false,
       "layout": "IPY_MODEL_86bbd8bd12314be19909ccb111382a66",
       "style": "IPY_MODEL_5ef60586f6624e7a921466efb2d8a645",
       "value": "#5b4534"
      }
     },
     "de29d9fc92c645568318b3cac8e85baf": {
      "model_module": "@jupyter-widgets/controls",
      "model_module_version": "1.5.0",
      "model_name": "ButtonModel",
      "state": {
       "description": "Delete",
       "layout": "IPY_MODEL_fdc7cdfb71c14e9f9ae8327b7e4919ce",
       "style": "IPY_MODEL_0adb42962e0d46d8a508e6187f7b3e19"
      }
     },
     "de319ccb71084e70b9dbfd5cfb7f274a": {
      "model_module": "@jupyter-widgets/controls",
      "model_module_version": "1.5.0",
      "model_name": "TextModel",
      "state": {
       "continuous_update": false,
       "description": "name",
       "layout": "IPY_MODEL_9b30eab18de94dffbe1a6d676db8158c",
       "style": "IPY_MODEL_27341d701b39454692c62d6ea10319c8",
       "value": "leaf_old"
      }
     },
     "de4816681729453fbf133b79ff9974ac": {
      "model_module": "@jupyter-widgets/controls",
      "model_module_version": "1.5.0",
      "model_name": "BoundedIntTextModel",
      "state": {
       "description": "index",
       "layout": "IPY_MODEL_e46e9699d55948368197d7e8ce85a0a3",
       "style": "IPY_MODEL_60ff2d33083e41a7a9c77037399cc0c7",
       "value": 1
      }
     },
     "de5d2848f27a47be8ceb96df0723fd13": {
      "model_module": "@jupyter-widgets/controls",
      "model_module_version": "1.5.0",
      "model_name": "FloatSliderModel",
      "state": {
       "description": "shininess",
       "layout": "IPY_MODEL_077634b564d442178969045cbf0cef71",
       "max": 1,
       "step": 0.1,
       "style": "IPY_MODEL_662e56ddae0f4169b110443342d419e9",
       "value": 0.2
      }
     },
     "de6204ad1dc341c3909e295e0a51ec00": {
      "model_module": "@jupyter-widgets/controls",
      "model_module_version": "1.5.0",
      "model_name": "ButtonStyleModel",
      "state": {}
     },
     "de6e4ed7a8b84bef9620c99266ab0373": {
      "model_module": "@jupyter-widgets/controls",
      "model_module_version": "1.5.0",
      "model_name": "SliderStyleModel",
      "state": {
       "description_width": ""
      }
     },
     "dea1d7f7b1f545688d4cb2183ee25745": {
      "model_module": "@jupyter-widgets/base",
      "model_module_version": "1.2.0",
      "model_name": "LayoutModel",
      "state": {}
     },
     "deee13f28dc04426826d2dcb4eb4b80e": {
      "model_module": "pgljupyter",
      "model_module_version": "^0.1.17",
      "model_name": "IntEditorModel",
      "state": {
       "_model_module_version": "^0.1.17",
       "_view_module_version": "^0.1.17",
       "children": [
        "IPY_MODEL_6836f870173f481c896bba938c011cdd",
        "IPY_MODEL_cf2d00fcb37046cca0b8754d884949a8"
       ],
       "layout": "IPY_MODEL_6213afc08dc747abb3101b3b00eff81e"
      }
     },
     "df4b301f82c143b6ba68f23b7ee4a4e7": {
      "model_module": "@jupyter-widgets/base",
      "model_module_version": "1.2.0",
      "model_name": "LayoutModel",
      "state": {}
     },
     "df5d8e2022524ba68333e874d0e5efd4": {
      "model_module": "@jupyter-widgets/controls",
      "model_module_version": "1.5.0",
      "model_name": "SliderStyleModel",
      "state": {
       "description_width": ""
      }
     },
     "df696dde9f0e41c2be1075f4577638d5": {
      "model_module": "@jupyter-widgets/base",
      "model_module_version": "1.2.0",
      "model_name": "LayoutModel",
      "state": {}
     },
     "df77cda8b4f54f06bd05eebfbdec3e5f": {
      "model_module": "@jupyter-widgets/controls",
      "model_module_version": "1.5.0",
      "model_name": "ButtonModel",
      "state": {
       "description": "Add",
       "layout": "IPY_MODEL_511b50eabb754bf2b6d8a531f4b77a56",
       "style": "IPY_MODEL_d5e71a2070914d33ad663f7fd0332839"
      }
     },
     "df83175491804b5cb47348424a380b78": {
      "model_module": "@jupyter-widgets/base",
      "model_module_version": "1.2.0",
      "model_name": "LayoutModel",
      "state": {}
     },
     "df8389dbdb414385b534fd6eb31d6a1e": {
      "model_module": "@jupyter-widgets/controls",
      "model_module_version": "1.5.0",
      "model_name": "DescriptionStyleModel",
      "state": {
       "description_width": ""
      }
     },
     "df94b893e16e4d64bc1d78383241b66f": {
      "model_module": "@jupyter-widgets/base",
      "model_module_version": "1.2.0",
      "model_name": "LayoutModel",
      "state": {}
     },
     "dfbf3f0450ae43368952951aba7baba3": {
      "model_module": "@jupyter-widgets/controls",
      "model_module_version": "1.5.0",
      "model_name": "DescriptionStyleModel",
      "state": {
       "description_width": ""
      }
     },
     "dfccc42a1e8f4f4abdf4c85dd83fbdf3": {
      "model_module": "@jupyter-widgets/controls",
      "model_module_version": "1.5.0",
      "model_name": "ButtonStyleModel",
      "state": {}
     },
     "dfd5a1256a954e379bc5aff58a8db58a": {
      "model_module": "pgljupyter",
      "model_module_version": "^0.1.16",
      "model_name": "ParameterEditorModel",
      "state": {
       "_model_module_version": "^0.1.16",
       "_view_module_version": "^0.1.16",
       "children": [
        "IPY_MODEL_50c897762f9846d38e9f8e2de2d19de2"
       ],
       "layout": "IPY_MODEL_d3ca847489164ca4957ed12a3dbe22f6"
      }
     },
     "dfe63aa9d45245879bd179fdae112be6": {
      "model_module": "@jupyter-widgets/base",
      "model_module_version": "1.2.0",
      "model_name": "LayoutModel",
      "state": {}
     },
     "dfea7aeb2b32411c9ff47ef3be7f2740": {
      "model_module": "@jupyter-widgets/controls",
      "model_module_version": "1.5.0",
      "model_name": "BoundedIntTextModel",
      "state": {
       "description": "index",
       "layout": "IPY_MODEL_7617d72cccfc41a58f0f4a371a7c97e0",
       "style": "IPY_MODEL_b62aea2317d74e02a1572c094ee5bc2d",
       "value": 2
      }
     },
     "e00c9b4660724449996a9caf91ac6f11": {
      "model_module": "@jupyter-widgets/base",
      "model_module_version": "1.2.0",
      "model_name": "LayoutModel",
      "state": {}
     },
     "e01ac84da5b94b36859436d3ee12a19e": {
      "model_module": "@jupyter-widgets/base",
      "model_module_version": "1.2.0",
      "model_name": "LayoutModel",
      "state": {}
     },
     "e0334feb269f4bd48324305953a1e6ae": {
      "model_module": "@jupyter-widgets/base",
      "model_module_version": "1.2.0",
      "model_name": "LayoutModel",
      "state": {}
     },
     "e0548aa1706343c780e3f535a8579f70": {
      "model_module": "@jupyter-widgets/controls",
      "model_module_version": "1.5.0",
      "model_name": "SliderStyleModel",
      "state": {
       "description_width": ""
      }
     },
     "e070c2aed84b414abe7cc619e00e66a3": {
      "model_module": "pgljupyter",
      "model_module_version": "^0.1.19",
      "model_name": "FloatEditorModel",
      "state": {
       "_model_module_version": "^0.1.19",
       "_view_module_version": "^0.1.19",
       "children": [
        "IPY_MODEL_d533d0f7e8d44a358083da646ae1b1c9",
        "IPY_MODEL_4d1d2003f29c41ff8de536581cacd952"
       ],
       "layout": "IPY_MODEL_a4413d9c30754ab7a29140a77c7d2e8f"
      }
     },
     "e0797b2efbd349b591c26c07ddceb9b9": {
      "model_module": "@jupyter-widgets/controls",
      "model_module_version": "1.5.0",
      "model_name": "TextModel",
      "state": {
       "continuous_update": false,
       "description": "name",
       "layout": "IPY_MODEL_bca351d97c6d48f9814da71e4418e3a3",
       "style": "IPY_MODEL_9425b43dcbad4491bb621b1c588f23a2",
       "value": "apex"
      }
     },
     "e084bfa6a964476eace5b955c0359580": {
      "model_module": "@jupyter-widgets/controls",
      "model_module_version": "1.5.0",
      "model_name": "DescriptionStyleModel",
      "state": {
       "description_width": ""
      }
     },
     "e0b3bfd022cf45e4a94fa38c5088e074": {
      "model_module": "@jupyter-widgets/base",
      "model_module_version": "1.2.0",
      "model_name": "LayoutModel",
      "state": {}
     },
     "e0b543b076714cf5958478e4889a5cb7": {
      "model_module": "@jupyter-widgets/controls",
      "model_module_version": "1.5.0",
      "model_name": "ButtonStyleModel",
      "state": {}
     },
     "e0c35736a89f424aa92cf4bb65dd15cd": {
      "model_module": "@jupyter-widgets/controls",
      "model_module_version": "1.5.0",
      "model_name": "DescriptionStyleModel",
      "state": {
       "description_width": ""
      }
     },
     "e0f1782f2a614b3fa512c8365f125d2a": {
      "model_module": "@jupyter-widgets/controls",
      "model_module_version": "1.5.0",
      "model_name": "ColorPickerModel",
      "state": {
       "description": "specular",
       "disabled": false,
       "layout": "IPY_MODEL_bc6ff6dbd47e43719f4d3510291ab07c",
       "style": "IPY_MODEL_fb890f35eb7342de80f4cca03a20aba6",
       "value": "#282828"
      }
     },
     "e11fae69c776418190ad9c7973e97a8d": {
      "model_module": "@jupyter-widgets/base",
      "model_module_version": "1.2.0",
      "model_name": "LayoutModel",
      "state": {
       "margin": "20px 0px"
      }
     },
     "e133259e943747ddbb36e06ec4bf3308": {
      "model_module": "@jupyter-widgets/controls",
      "model_module_version": "1.5.0",
      "model_name": "HBoxModel",
      "state": {
       "children": [
        "IPY_MODEL_c2be0d36854f4826b190f2aef55fd686",
        "IPY_MODEL_9a39bcbc02c34c958a3a2bea5ded14be"
       ],
       "layout": "IPY_MODEL_91ac8e1f9a054b498098ec7954dfe608"
      }
     },
     "e1404da5bac34c6d89711e040aeabc76": {
      "model_module": "pgljupyter",
      "model_module_version": "^0.1.19",
      "model_name": "LsystemWidgetModel",
      "state": {
       "_model_module_version": "^0.1.19",
       "_view_module_version": "^0.1.19",
       "axes_helper": false,
       "derivationLength": 42,
       "layout": "IPY_MODEL_c885c505f74c4f13b9663c38cb480f8a",
       "light_helper": false,
       "plane": true,
       "size_display": [
        600,
        400
       ],
       "size_world": 50
      }
     },
     "e14b8d9da9d94827aa6e7a2c4a59032a": {
      "model_module": "@jupyter-widgets/base",
      "model_module_version": "1.2.0",
      "model_name": "LayoutModel",
      "state": {
       "margin": "20px 0px"
      }
     },
     "e14de5b08dfe4ad19aaeed9488ebd7af": {
      "model_module": "@jupyter-widgets/controls",
      "model_module_version": "1.5.0",
      "model_name": "DescriptionStyleModel",
      "state": {
       "description_width": ""
      }
     },
     "e15fba46cf5946eeb499bb44c328da38": {
      "model_module": "@jupyter-widgets/controls",
      "model_module_version": "1.5.0",
      "model_name": "HBoxModel",
      "state": {
       "layout": "IPY_MODEL_f54b6bb1cd9047f2913448b18542023e"
      }
     },
     "e18491acb9394f188ffa2c3096839935": {
      "model_module": "@jupyter-widgets/base",
      "model_module_version": "1.2.0",
      "model_name": "LayoutModel",
      "state": {
       "margin": "20px 0px"
      }
     },
     "e1a057438d6b4569b6ab77b9fa61b360": {
      "model_module": "@jupyter-widgets/controls",
      "model_module_version": "1.5.0",
      "model_name": "DescriptionStyleModel",
      "state": {
       "description_width": ""
      }
     },
     "e1ad944eafa344f19b268b968727ebe2": {
      "model_module": "@jupyter-widgets/controls",
      "model_module_version": "1.5.0",
      "model_name": "DescriptionStyleModel",
      "state": {
       "description_width": ""
      }
     },
     "e1ce6edaef8b46f29e736418d0fb5a2a": {
      "model_module": "@jupyter-widgets/controls",
      "model_module_version": "1.5.0",
      "model_name": "IntSliderModel",
      "state": {
       "continuous_update": false,
       "description": "value",
       "layout": "IPY_MODEL_0f1c7f54ceca4762b4413f4b8a852a84",
       "max": 10,
       "min": 1,
       "style": "IPY_MODEL_e77c72e76c4a4fdab70ad30c593abe81",
       "value": 5
      }
     },
     "e1dcb78514e94e8ba1b4d9d3d4a8e9c9": {
      "model_module": "pgljupyter",
      "model_module_version": "^0.1.17",
      "model_name": "IntEditorModel",
      "state": {
       "_model_module_version": "^0.1.17",
       "_view_module_version": "^0.1.17",
       "children": [
        "IPY_MODEL_4933c3be1ca74d3b87e7deac4ab3fa84",
        "IPY_MODEL_f07a901e6ad14b95a2d72d3015de3a12"
       ],
       "layout": "IPY_MODEL_726ea6227a9140b58c2e2db0b3c05e1f"
      }
     },
     "e20a8ad2869c4320906c5ccb5a2616cb": {
      "model_module": "pgljupyter",
      "model_module_version": "^0.1.17",
      "model_name": "MaterialEditorModel",
      "state": {
       "_model_module_version": "^0.1.17",
       "_view_module_version": "^0.1.17",
       "children": [
        "IPY_MODEL_bfa2cd7f0c5143b98b10a45ec7d2d66d",
        "IPY_MODEL_f5730ea7e7c64ddd832fe8d4f113f656",
        "IPY_MODEL_8796df0ffb5a4d59acfa5e829c472f45",
        "IPY_MODEL_e85c510e27f640a8b1ccdded38f8d8b3",
        "IPY_MODEL_7d0e2b7c25dc4c5799f79fba3304581d",
        "IPY_MODEL_59f8c5abaa8146ce8df8fc46c0f10acb",
        "IPY_MODEL_8c69ffac5b3b44b286de8bc58ff44b45"
       ],
       "layout": "IPY_MODEL_194ad744cbd346c59d513770c2a47af7"
      }
     },
     "e248c6cad0a7477090a5f66a3ae950b9": {
      "model_module": "@jupyter-widgets/controls",
      "model_module_version": "1.5.0",
      "model_name": "DescriptionStyleModel",
      "state": {
       "description_width": ""
      }
     },
     "e24becef77854391b6cd6c67e04932e8": {
      "model_module": "@jupyter-widgets/controls",
      "model_module_version": "1.5.0",
      "model_name": "HBoxModel",
      "state": {
       "children": [
        "IPY_MODEL_273d55f5f31d4648966c52a36a8bc18e",
        "IPY_MODEL_e3ec34b11df74def9f03dc88695a2134",
        "IPY_MODEL_17de7061fc71420fb27975958a62c182",
        "IPY_MODEL_d7e2fe307b4148cfac6f5e85faa87f8d"
       ],
       "layout": "IPY_MODEL_a9b7a5bea64640859355bc1f3bd40aed"
      }
     },
     "e26b5a72c4804b45ac1297a1057354a5": {
      "model_module": "@jupyter-widgets/base",
      "model_module_version": "1.2.0",
      "model_name": "LayoutModel",
      "state": {}
     },
     "e292b053762d44a8b5698ced23674c83": {
      "model_module": "@jupyter-widgets/base",
      "model_module_version": "1.2.0",
      "model_name": "LayoutModel",
      "state": {}
     },
     "e2959aa92f7d44c2a5d6d06683c7f898": {
      "model_module": "@jupyter-widgets/controls",
      "model_module_version": "1.5.0",
      "model_name": "DescriptionStyleModel",
      "state": {
       "description_width": ""
      }
     },
     "e29b2ad0e6b8400997e87c1b714baead": {
      "model_module": "@jupyter-widgets/controls",
      "model_module_version": "1.5.0",
      "model_name": "DescriptionStyleModel",
      "state": {
       "description_width": ""
      }
     },
     "e29bcf91cb1e4caebd131a237b84ab1c": {
      "model_module": "@jupyter-widgets/controls",
      "model_module_version": "1.5.0",
      "model_name": "HBoxModel",
      "state": {
       "children": [
        "IPY_MODEL_2c7e43047da344c297659bb5c7099369",
        "IPY_MODEL_f6729743e45f4de5a242dd5d165d2def"
       ],
       "layout": "IPY_MODEL_5a6aab1bb709492da4f69389f9069c24"
      }
     },
     "e2b4d21119d04c5993eb5c2b5a4963b5": {
      "model_module": "@jupyter-widgets/controls",
      "model_module_version": "1.5.0",
      "model_name": "CheckboxModel",
      "state": {
       "description": "Auto save",
       "disabled": false,
       "layout": "IPY_MODEL_42f86bc00ec5429c81b76ab0e86707fb",
       "style": "IPY_MODEL_06d9cff05cf34ec997de5253b4ff518b",
       "value": false
      }
     },
     "e2b7f42fba7146f9bd943e2d6c422529": {
      "model_module": "@jupyter-widgets/controls",
      "model_module_version": "1.5.0",
      "model_name": "DropdownModel",
      "state": {
       "_options_labels": [
        "NurbsCurve2D",
        "BezierCurve2D",
        "Polyline2D",
        "Function"
       ],
       "index": 0,
       "layout": "IPY_MODEL_8f003cdb574545128b2ee385bb6fff88",
       "style": "IPY_MODEL_d30ebfc6c53341ae9babc1bd412860bb"
      }
     },
     "e2c963c5cf35423c8c5649096e21e578": {
      "model_module": "@jupyter-widgets/base",
      "model_module_version": "1.2.0",
      "model_name": "LayoutModel",
      "state": {}
     },
     "e2d47736c0754f9393bb161a36bacf08": {
      "model_module": "@jupyter-widgets/controls",
      "model_module_version": "1.5.0",
      "model_name": "DescriptionStyleModel",
      "state": {
       "description_width": ""
      }
     },
     "e2de1706c64a496781bb68ab5f7e1f36": {
      "model_module": "@jupyter-widgets/controls",
      "model_module_version": "1.5.0",
      "model_name": "SliderStyleModel",
      "state": {
       "description_width": ""
      }
     },
     "e31340ac99da4ee18383b2d4c477aeb3": {
      "model_module": "@jupyter-widgets/controls",
      "model_module_version": "1.5.0",
      "model_name": "ButtonModel",
      "state": {
       "description": "Save changes",
       "layout": "IPY_MODEL_1324cf2f342444ac9b195b6b763a321b",
       "style": "IPY_MODEL_bf6182a681a644ffb5f47c17cb2d1bed"
      }
     },
     "e313ecd7771845129142078320e10db3": {
      "model_module": "@jupyter-widgets/controls",
      "model_module_version": "1.5.0",
      "model_name": "ButtonStyleModel",
      "state": {}
     },
     "e330c1aec978469ea32f85890d6a0fe6": {
      "model_module": "@jupyter-widgets/controls",
      "model_module_version": "1.5.0",
      "model_name": "AccordionModel",
      "state": {
       "layout": "IPY_MODEL_66091ec822434a4c9a8462ca501dd60b"
      }
     },
     "e347dc0bc2e64bd4a58931e25e8a84f3": {
      "model_module": "@jupyter-widgets/controls",
      "model_module_version": "1.5.0",
      "model_name": "SliderStyleModel",
      "state": {
       "description_width": ""
      }
     },
     "e34f318fa38c48f0a73bd526ad11af14": {
      "model_module": "@jupyter-widgets/controls",
      "model_module_version": "1.5.0",
      "model_name": "ButtonStyleModel",
      "state": {}
     },
     "e398a8e953fe495eb8604e9e87b8bb52": {
      "model_module": "@jupyter-widgets/base",
      "model_module_version": "1.2.0",
      "model_name": "LayoutModel",
      "state": {}
     },
     "e39dd960334045baa4c5674dbf8c74ab": {
      "model_module": "@jupyter-widgets/controls",
      "model_module_version": "1.5.0",
      "model_name": "ColorPickerModel",
      "state": {
       "description": "specular",
       "disabled": false,
       "layout": "IPY_MODEL_06f8a562f9034b0ba639a25d04acfbdb",
       "style": "IPY_MODEL_b8c6aa5fe700489f83372cd01f2b146f",
       "value": "#282828"
      }
     },
     "e39e2498279249fda7dc6eebafd8b0bb": {
      "model_module": "@jupyter-widgets/controls",
      "model_module_version": "1.5.0",
      "model_name": "DescriptionStyleModel",
      "state": {
       "description_width": ""
      }
     },
     "e3e60ccbc1cb456a81c849bf7a485b87": {
      "model_module": "pgljupyter",
      "model_module_version": "^0.1.17",
      "model_name": "MaterialEditorModel",
      "state": {
       "_model_module_version": "^0.1.17",
       "_view_module_version": "^0.1.17",
       "children": [
        "IPY_MODEL_0241bcf8e4d449588382dcfa0fadf1f7",
        "IPY_MODEL_1e6010c917c4441f8d05dacd1cf3a5ba",
        "IPY_MODEL_37bad97f36864d09b884b5b159f845c5",
        "IPY_MODEL_6af77e29019b4e689db91f5541c76b14",
        "IPY_MODEL_ffd2e60a3312408a8134cc48bad3dece",
        "IPY_MODEL_0108f7fc56644931b6e9ab7e757df267",
        "IPY_MODEL_ae65c9b1a7014f46b4d4736a9946ae5f"
       ],
       "layout": "IPY_MODEL_fa6085381b324435aa9032f0b10413fd"
      }
     },
     "e3ec34b11df74def9f03dc88695a2134": {
      "model_module": "pgljupyter",
      "model_module_version": "^0.1.21",
      "model_name": "MaterialEditorModel",
      "state": {
       "_model_module_version": "^0.1.21",
       "_view_module_version": "^0.1.21",
       "children": [
        "IPY_MODEL_33ecac72bc1645e0b487c066dc742e70",
        "IPY_MODEL_8941e806cfbc4ef79a7ebe1a33c9c387",
        "IPY_MODEL_fb0c1e5b61d44683adf9f59f2d517439",
        "IPY_MODEL_c3f4c1f812d844ea9207b9e5e852348d",
        "IPY_MODEL_fcb10f0aee304daf943e423fda4b86f2",
        "IPY_MODEL_e47a5e4d527f4a4b854d6b623726ae1b",
        "IPY_MODEL_fc127ff6172e4b0984f4d7a91e171c32",
        "IPY_MODEL_e42d49eb989a4968b069bd8144730392"
       ],
       "layout": "IPY_MODEL_1042939b8e694adbb61cbf705e83ecb6"
      }
     },
     "e41cb6704a0a4c06a028ae53e9f988ee": {
      "model_module": "@jupyter-widgets/controls",
      "model_module_version": "1.5.0",
      "model_name": "DescriptionStyleModel",
      "state": {
       "description_width": ""
      }
     },
     "e42d49eb989a4968b069bd8144730392": {
      "model_module": "@jupyter-widgets/controls",
      "model_module_version": "1.5.0",
      "model_name": "FloatSliderModel",
      "state": {
       "description": "shininess",
       "layout": "IPY_MODEL_83ef4ea6f520490ea97b0fec684c68ff",
       "max": 1,
       "step": 0.1,
       "style": "IPY_MODEL_d10f09db7b844047b372a716b8a9dd49",
       "value": 0.2
      }
     },
     "e44d5599b2144e3c955924c9a83a3864": {
      "model_module": "@jupyter-widgets/base",
      "model_module_version": "1.2.0",
      "model_name": "LayoutModel",
      "state": {}
     },
     "e45efbec269d4f03b8dd09502f95fedc": {
      "model_module": "@jupyter-widgets/controls",
      "model_module_version": "1.5.0",
      "model_name": "DescriptionStyleModel",
      "state": {
       "description_width": ""
      }
     },
     "e46e9699d55948368197d7e8ce85a0a3": {
      "model_module": "@jupyter-widgets/base",
      "model_module_version": "1.2.0",
      "model_name": "LayoutModel",
      "state": {}
     },
     "e47a5e4d527f4a4b854d6b623726ae1b": {
      "model_module": "@jupyter-widgets/controls",
      "model_module_version": "1.5.0",
      "model_name": "FloatSliderModel",
      "state": {
       "description": "diffuse",
       "layout": "IPY_MODEL_0152374133564b448491bef7e0098d98",
       "max": 3,
       "step": 0.1,
       "style": "IPY_MODEL_84167ac2f5b54a72a1dcecd5e7898942",
       "value": 1
      }
     },
     "e483f04bf9ee473983a54480be56ae94": {
      "model_module": "@jupyter-widgets/base",
      "model_module_version": "1.2.0",
      "model_name": "LayoutModel",
      "state": {}
     },
     "e4b212a605144a07b42605253ab3a016": {
      "model_module": "@jupyter-widgets/base",
      "model_module_version": "1.2.0",
      "model_name": "LayoutModel",
      "state": {}
     },
     "e4bcad903cd24e668755c12c6ad16d21": {
      "model_module": "@jupyter-widgets/controls",
      "model_module_version": "1.5.0",
      "model_name": "DescriptionStyleModel",
      "state": {
       "description_width": ""
      }
     },
     "e4e8b085a5c24ad6a92920665a7ee169": {
      "model_module": "@jupyter-widgets/controls",
      "model_module_version": "1.5.0",
      "model_name": "SliderStyleModel",
      "state": {
       "description_width": ""
      }
     },
     "e4f1064e7adb4c35be9fbfc786d26ca6": {
      "model_module": "@jupyter-widgets/controls",
      "model_module_version": "1.5.0",
      "model_name": "FloatSliderModel",
      "state": {
       "description": "value",
       "layout": "IPY_MODEL_f809bb47cbf94d079b9331253cf0b41b",
       "max": 0.1,
       "min": 0.01,
       "step": 0.01,
       "style": "IPY_MODEL_25389c05c9a74d9a98ad640a1da0dc90",
       "value": 0.02
      }
     },
     "e4ff954f4c8a42249bb72fd9a209830d": {
      "model_module": "pgljupyter",
      "model_module_version": "^0.1.21",
      "model_name": "IntEditorModel",
      "state": {
       "_model_module_version": "^0.1.21",
       "_view_module_version": "^0.1.21",
       "children": [
        "IPY_MODEL_4d9c47832bb743058b80a0b7ef230074",
        "IPY_MODEL_283766ded61e469895271b99cd20aee7"
       ],
       "layout": "IPY_MODEL_2b06ff77988044cbbe92812f8d420a23"
      }
     },
     "e53a81fe5d75435cb12952d290d8bed4": {
      "model_module": "@jupyter-widgets/base",
      "model_module_version": "1.2.0",
      "model_name": "LayoutModel",
      "state": {}
     },
     "e54d243ca25f4afebedf9a6e4d26c2b5": {
      "model_module": "@jupyter-widgets/base",
      "model_module_version": "1.2.0",
      "model_name": "LayoutModel",
      "state": {}
     },
     "e582615548da4d08901688208d12a911": {
      "model_module": "@jupyter-widgets/base",
      "model_module_version": "1.2.0",
      "model_name": "LayoutModel",
      "state": {}
     },
     "e58e8545927242ee9ce38aecbe123d5a": {
      "model_module": "@jupyter-widgets/controls",
      "model_module_version": "1.5.0",
      "model_name": "HBoxModel",
      "state": {
       "children": [
        "IPY_MODEL_891e76f968664a06abd63d33a670c328",
        "IPY_MODEL_9ee5d720dcae4c069102652434c21d39",
        "IPY_MODEL_ac02225f960447eeae02499089883af1"
       ],
       "layout": "IPY_MODEL_34b21a5ef5e44d00aead2cf328363863"
      }
     },
     "e59ef7e3da2d431aa71e18e3821cfa08": {
      "model_module": "@jupyter-widgets/base",
      "model_module_version": "1.2.0",
      "model_name": "LayoutModel",
      "state": {}
     },
     "e5dac1ed4b934727b6efb2c2f6bbcf39": {
      "model_module": "pgljupyter",
      "model_module_version": "^0.1.17",
      "model_name": "FloatEditorModel",
      "state": {
       "_model_module_version": "^0.1.17",
       "_view_module_version": "^0.1.17",
       "children": [
        "IPY_MODEL_55f0f039861f4c7cb7fc94899c53e0f6",
        "IPY_MODEL_e4f1064e7adb4c35be9fbfc786d26ca6"
       ],
       "layout": "IPY_MODEL_85fb0b1c46a34071837318e83df4549c"
      }
     },
     "e602407038a947619959238020b703ea": {
      "model_module": "@jupyter-widgets/base",
      "model_module_version": "1.2.0",
      "model_name": "LayoutModel",
      "state": {}
     },
     "e635d4b4c4cd44f2a336ab38518f4c9b": {
      "model_module": "@jupyter-widgets/controls",
      "model_module_version": "1.5.0",
      "model_name": "DescriptionStyleModel",
      "state": {
       "description_width": ""
      }
     },
     "e6443316e4e84f1e846bdb3a768365cf": {
      "model_module": "@jupyter-widgets/base",
      "model_module_version": "1.2.0",
      "model_name": "LayoutModel",
      "state": {}
     },
     "e647273f61494efb92b293f226b212ce": {
      "model_module": "@jupyter-widgets/controls",
      "model_module_version": "1.5.0",
      "model_name": "DropdownModel",
      "state": {
       "_options_labels": [
        "color_1",
        "color_2",
        "color_3",
        "color_4"
       ],
       "index": 0,
       "layout": "IPY_MODEL_3b6eb237ab884fc6a9851aa3c2d821fe",
       "style": "IPY_MODEL_9cbbf712b5e546d7b39a41428b0aa2f1"
      }
     },
     "e64b8d9963944b6982872e56c1d1076b": {
      "model_module": "@jupyter-widgets/controls",
      "model_module_version": "1.5.0",
      "model_name": "FloatSliderModel",
      "state": {
       "description": "shininess",
       "layout": "IPY_MODEL_157fba29a18141ceb228302c5bccb5bb",
       "max": 1,
       "step": 0.1,
       "style": "IPY_MODEL_6d9cd9fec46242309f65481bd57e1ab6",
       "value": 0.2
      }
     },
     "e64e7fd9b956422fbe051812aeedf4f5": {
      "model_module": "@jupyter-widgets/controls",
      "model_module_version": "1.5.0",
      "model_name": "TabModel",
      "state": {
       "layout": "IPY_MODEL_01a9830728ff43debfe68c7ed9c0c0f1"
      }
     },
     "e663a3b5cc3842119f7132689bc988a4": {
      "model_module": "@jupyter-widgets/controls",
      "model_module_version": "1.5.0",
      "model_name": "TabModel",
      "state": {
       "layout": "IPY_MODEL_5c2e84642c5d485189990628bfa497c8"
      }
     },
     "e66efffcd57d411fa07184989115562f": {
      "model_module": "@jupyter-widgets/controls",
      "model_module_version": "1.5.0",
      "model_name": "DescriptionStyleModel",
      "state": {
       "description_width": ""
      }
     },
     "e680e9e7158f4d5ba01b3c57bc8e6eda": {
      "model_module": "@jupyter-widgets/controls",
      "model_module_version": "1.5.0",
      "model_name": "BoundedIntTextModel",
      "state": {
       "description": "index",
       "layout": "IPY_MODEL_64ae4c28e393410383055e93b56575a7",
       "style": "IPY_MODEL_4c1b928d9c39493b83808770f5705abb",
       "value": 1
      }
     },
     "e6991f813efb4b118467f99c0776efcd": {
      "model_module": "@jupyter-widgets/controls",
      "model_module_version": "1.5.0",
      "model_name": "DescriptionStyleModel",
      "state": {
       "description_width": ""
      }
     },
     "e6ea0f1df0864495a18ce55e8ee48a88": {
      "model_module": "@jupyter-widgets/controls",
      "model_module_version": "1.5.0",
      "model_name": "SliderStyleModel",
      "state": {
       "description_width": ""
      }
     },
     "e72c590e7a184b6fb4ad01d25e4545a9": {
      "model_module": "@jupyter-widgets/controls",
      "model_module_version": "1.5.0",
      "model_name": "FloatSliderModel",
      "state": {
       "description": "shininess",
       "layout": "IPY_MODEL_18a4cfa16bc946538d5790374028d641",
       "max": 1,
       "step": 0.1,
       "style": "IPY_MODEL_16f7bc26a9f3423a8cdb0ee883e8baf3",
       "value": 0.2
      }
     },
     "e77c72e76c4a4fdab70ad30c593abe81": {
      "model_module": "@jupyter-widgets/controls",
      "model_module_version": "1.5.0",
      "model_name": "SliderStyleModel",
      "state": {
       "description_width": ""
      }
     },
     "e7a273e212634592bc26c6eb3096364d": {
      "model_module": "@jupyter-widgets/controls",
      "model_module_version": "1.5.0",
      "model_name": "DescriptionStyleModel",
      "state": {
       "description_width": ""
      }
     },
     "e7d2527d8a7e4fe289643a418f22fbe9": {
      "model_module": "@jupyter-widgets/base",
      "model_module_version": "1.2.0",
      "model_name": "LayoutModel",
      "state": {}
     },
     "e7db5ec1554041c2a2c5b821407a6039": {
      "model_module": "@jupyter-widgets/controls",
      "model_module_version": "1.5.0",
      "model_name": "ButtonStyleModel",
      "state": {}
     },
     "e7e58753b42f479c87b45106eebaf7d8": {
      "model_module": "@jupyter-widgets/controls",
      "model_module_version": "1.5.0",
      "model_name": "HBoxModel",
      "state": {
       "children": [
        "IPY_MODEL_a5fa387b659b43e6811c5b2786ac85cd",
        "IPY_MODEL_e133259e943747ddbb36e06ec4bf3308"
       ],
       "layout": "IPY_MODEL_0edf0711fcd443488bc2bd1811f52c38"
      }
     },
     "e7f5ee21dad84e169e218eb28ecfd188": {
      "model_module": "@jupyter-widgets/controls",
      "model_module_version": "1.5.0",
      "model_name": "BoundedIntTextModel",
      "state": {
       "description": "index",
       "layout": "IPY_MODEL_94cfe289c61c4e35b29a1d6056c480fc",
       "style": "IPY_MODEL_09fefb88b02d40be9097130da4296139",
       "value": 2
      }
     },
     "e7fc586047f245ce97a55030431cb070": {
      "model_module": "@jupyter-widgets/controls",
      "model_module_version": "1.5.0",
      "model_name": "SliderStyleModel",
      "state": {
       "description_width": ""
      }
     },
     "e7fdfcd88e3648a689dd2402599626bb": {
      "model_module": "@jupyter-widgets/controls",
      "model_module_version": "1.5.0",
      "model_name": "ColorPickerModel",
      "state": {
       "description": "ambient",
       "disabled": false,
       "layout": "IPY_MODEL_5928a2bcfbe548e18f97420df1c311fd",
       "style": "IPY_MODEL_3a51d9ee339344e6b46407a0fea33199",
       "value": "#195717"
      }
     },
     "e801703ebaf5452e9d7d9e5fc1f6b6d2": {
      "model_module": "@jupyter-widgets/controls",
      "model_module_version": "1.5.0",
      "model_name": "HBoxModel",
      "state": {
       "children": [
        "IPY_MODEL_e4ff954f4c8a42249bb72fd9a209830d",
        "IPY_MODEL_4cbdfd51fc7a4d0aa56146812cc120e6"
       ],
       "layout": "IPY_MODEL_f54b6bb1cd9047f2913448b18542023e"
      }
     },
     "e812837d2b0f440e9038a8b882215c27": {
      "model_module": "@jupyter-widgets/controls",
      "model_module_version": "1.5.0",
      "model_name": "SliderStyleModel",
      "state": {
       "description_width": ""
      }
     },
     "e82e92b531174bbab4c8ec367cfabcd1": {
      "model_module": "@jupyter-widgets/controls",
      "model_module_version": "1.5.0",
      "model_name": "DescriptionStyleModel",
      "state": {
       "description_width": ""
      }
     },
     "e8499e7bab6246a0ad0a4f30d14ddbb3": {
      "model_module": "@jupyter-widgets/base",
      "model_module_version": "1.2.0",
      "model_name": "LayoutModel",
      "state": {}
     },
     "e849efdb9162462ebac0eda40b42e9b0": {
      "model_module": "@jupyter-widgets/controls",
      "model_module_version": "1.5.0",
      "model_name": "ButtonStyleModel",
      "state": {}
     },
     "e85c510e27f640a8b1ccdded38f8d8b3": {
      "model_module": "@jupyter-widgets/controls",
      "model_module_version": "1.5.0",
      "model_name": "ColorPickerModel",
      "state": {
       "description": "emission",
       "disabled": false,
       "layout": "IPY_MODEL_c2578ef26c0743838357a06ac7dbb03e",
       "style": "IPY_MODEL_015a0162e977482199ff9aa70a46096a",
       "value": "#000000"
      }
     },
     "e881f4d66fc34fa5a8bf3f637ac484f2": {
      "model_module": "@jupyter-widgets/base",
      "model_module_version": "1.2.0",
      "model_name": "LayoutModel",
      "state": {}
     },
     "e894d4c3a4fb4f25a3f9d4c94d93edc4": {
      "model_module": "@jupyter-widgets/base",
      "model_module_version": "1.2.0",
      "model_name": "LayoutModel",
      "state": {}
     },
     "e8a23a012cbf4853a330e912e3cad92f": {
      "model_module": "@jupyter-widgets/controls",
      "model_module_version": "1.5.0",
      "model_name": "HBoxModel",
      "state": {
       "children": [
        "IPY_MODEL_553432c4114a47d4a9edc9bea81bf73d",
        "IPY_MODEL_fed9460058884e208750ebcd25227db9"
       ],
       "layout": "IPY_MODEL_3f7ba822c536404481bce2f09c84de9d"
      }
     },
     "e8ec467c663c43b680bf26b13a9a4041": {
      "model_module": "@jupyter-widgets/controls",
      "model_module_version": "1.5.0",
      "model_name": "DropdownModel",
      "state": {
       "_options_labels": [
        "Color"
       ],
       "index": 0,
       "layout": "IPY_MODEL_df94b893e16e4d64bc1d78383241b66f",
       "style": "IPY_MODEL_594bc8d80195422f85abbd36476b4550"
      }
     },
     "e9582f1549fd47149a0a82f1ee63f055": {
      "model_module": "@jupyter-widgets/controls",
      "model_module_version": "1.5.0",
      "model_name": "DescriptionStyleModel",
      "state": {
       "description_width": ""
      }
     },
     "e984cba6c0f84ad5a3546c38b70bc438": {
      "model_module": "@jupyter-widgets/controls",
      "model_module_version": "1.5.0",
      "model_name": "FloatSliderModel",
      "state": {
       "description": "diffuse",
       "layout": "IPY_MODEL_36dae7e778b4478990ee42ee7dd61824",
       "max": 3,
       "step": 0.1,
       "style": "IPY_MODEL_5c020f6de4b0494db643bad3b0644d25",
       "value": 1
      }
     },
     "e996a0616fe3456f83d3a47b2d6444d3": {
      "model_module": "@jupyter-widgets/base",
      "model_module_version": "1.2.0",
      "model_name": "LayoutModel",
      "state": {}
     },
     "e9a1aafd1830458180b559384bc673de": {
      "model_module": "@jupyter-widgets/controls",
      "model_module_version": "1.5.0",
      "model_name": "DescriptionStyleModel",
      "state": {
       "description_width": ""
      }
     },
     "e9ac5fcbb97347d7a1f9f9cc7558252d": {
      "model_module": "@jupyter-widgets/controls",
      "model_module_version": "1.5.0",
      "model_name": "HBoxModel",
      "state": {
       "children": [
        "IPY_MODEL_fab3da10c1de4f6599d1614193ca639f",
        "IPY_MODEL_7aab530945c249e3a941d757c0ccee92"
       ],
       "layout": "IPY_MODEL_d978d64c481643da8a0c61fcd3e368e3"
      }
     },
     "e9ae0484fe6e4a418480439841c599c2": {
      "model_module": "@jupyter-widgets/controls",
      "model_module_version": "1.5.0",
      "model_name": "ButtonStyleModel",
      "state": {}
     },
     "e9bf0cd054d84ef78d0da14f7ed9cea5": {
      "model_module": "@jupyter-widgets/base",
      "model_module_version": "1.2.0",
      "model_name": "LayoutModel",
      "state": {}
     },
     "e9c513a4f98a4afd87ad87a4ddd1d942": {
      "model_module": "@jupyter-widgets/controls",
      "model_module_version": "1.5.0",
      "model_name": "DropdownModel",
      "state": {
       "_options_labels": [
        "NurbsCurve2D",
        "BezierCurve2D",
        "Polyline2D",
        "Function"
       ],
       "index": 0,
       "layout": "IPY_MODEL_376831fff5bc48dfb1fa24e507142fcf",
       "style": "IPY_MODEL_70345d5e492f4c59a07d9d7fe6543942"
      }
     },
     "e9daa491099b49fc9c13441be4dd0053": {
      "model_module": "@jupyter-widgets/base",
      "model_module_version": "1.2.0",
      "model_name": "LayoutModel",
      "state": {}
     },
     "e9e462dbc66b4f12b3954106b87e846a": {
      "model_module": "@jupyter-widgets/controls",
      "model_module_version": "1.5.0",
      "model_name": "TextModel",
      "state": {
       "continuous_update": false,
       "description": "name",
       "layout": "IPY_MODEL_a5dda22448ef440894f70c195c7f9911",
       "style": "IPY_MODEL_a56afbd1a4e74ddb9b19fb5de0bcf2b0",
       "value": "apex"
      }
     },
     "ea10a6cdd63b4e39ba3f583b9cff48af": {
      "model_module": "@jupyter-widgets/base",
      "model_module_version": "1.2.0",
      "model_name": "LayoutModel",
      "state": {}
     },
     "ea1b5ac016dc411dbd2d4587c631ef91": {
      "model_module": "@jupyter-widgets/base",
      "model_module_version": "1.2.0",
      "model_name": "LayoutModel",
      "state": {
       "margin": "10px 10px"
      }
     },
     "ea2eda2ed0bb482faa1ed22e03e210b0": {
      "model_module": "@jupyter-widgets/base",
      "model_module_version": "1.2.0",
      "model_name": "LayoutModel",
      "state": {
       "margin": "20px 0px"
      }
     },
     "ea37aa48e5954c09acb575e2396d3c05": {
      "model_module": "@jupyter-widgets/base",
      "model_module_version": "1.2.0",
      "model_name": "LayoutModel",
      "state": {}
     },
     "ea9d8d6b50034a3a9fb9e57b9e304732": {
      "model_module": "@jupyter-widgets/controls",
      "model_module_version": "1.5.0",
      "model_name": "IntTextModel",
      "state": {
       "description": "min",
       "layout": "IPY_MODEL_a928100a1a7543c1a952e02f63653d38",
       "step": 1,
       "style": "IPY_MODEL_cc6d0e94c93b4978adf6227cfb533d2c",
       "value": 1
      }
     },
     "eaaaa57114b946fbab2baeb544020004": {
      "model_module": "@jupyter-widgets/controls",
      "model_module_version": "1.5.0",
      "model_name": "ColorPickerModel",
      "state": {
       "description": "specular",
       "disabled": false,
       "layout": "IPY_MODEL_bc60e7667a584052943e93872a6708a3",
       "style": "IPY_MODEL_7b9e45d54fb2440c8e5f7a9a8b7f932b",
       "value": "#282828"
      }
     },
     "eabf4766db6045c488a2e23c2d898e82": {
      "model_module": "@jupyter-widgets/controls",
      "model_module_version": "1.5.0",
      "model_name": "DescriptionStyleModel",
      "state": {
       "description_width": ""
      }
     },
     "eac0f378daf14e768b562dc92a52bd46": {
      "model_module": "@jupyter-widgets/controls",
      "model_module_version": "1.5.0",
      "model_name": "IntTextModel",
      "state": {
       "description": "min",
       "layout": "IPY_MODEL_5b5cffc519364c9fbd2a8e2332a75c62",
       "step": 1,
       "style": "IPY_MODEL_c8d3f70598d54c238929a83e3bcb3334",
       "value": 1
      }
     },
     "eacdf3892401422d966ce9bdf9102e5d": {
      "model_module": "@jupyter-widgets/controls",
      "model_module_version": "1.5.0",
      "model_name": "SliderStyleModel",
      "state": {
       "description_width": ""
      }
     },
     "eb11e6bb87f04e778a49e0a3916ee734": {
      "model_module": "@jupyter-widgets/base",
      "model_module_version": "1.2.0",
      "model_name": "LayoutModel",
      "state": {}
     },
     "eb1b16194a974b38b9619ef00779fa26": {
      "model_module": "@jupyter-widgets/controls",
      "model_module_version": "1.5.0",
      "model_name": "VBoxModel",
      "state": {
       "children": [
        "IPY_MODEL_700dd60141fd4249986e07f948bfdfa6",
        "IPY_MODEL_dd0ff9c59cde46bcb7cc5f4ac4df69e9"
       ],
       "layout": "IPY_MODEL_244a6d6ecfca4f0f98bc8b06b8f66d0f"
      }
     },
     "eb31c3d44dcd4a13a2391ca1073df790": {
      "model_module": "pgljupyter",
      "model_module_version": "^0.2.1",
      "model_name": "MaterialEditorModel",
      "state": {
       "_model_module_version": "^0.2.1",
       "_view_module_version": "^0.2.1",
       "children": [
        "IPY_MODEL_dfea7aeb2b32411c9ff47ef3be7f2740",
        "IPY_MODEL_e7fdfcd88e3648a689dd2402599626bb",
        "IPY_MODEL_054fbc31ce3b4cf6a57028accfa151be",
        "IPY_MODEL_27db93bf65524d2284a49781056a9a62",
        "IPY_MODEL_8ea71b896634471bb39f8656b8e7fc01",
        "IPY_MODEL_7d2e845e73b1485f8bc25daf4a45ab0a",
        "IPY_MODEL_a1ffee932cdc470b822651ca6ffd387e"
       ],
       "layout": "IPY_MODEL_8dbe9ada148e4dc9b4e602bbf6b21b62"
      }
     },
     "eb38eb2960ba4c56b249425bdddbb378": {
      "model_module": "@jupyter-widgets/controls",
      "model_module_version": "1.5.0",
      "model_name": "SliderStyleModel",
      "state": {
       "description_width": ""
      }
     },
     "eb97bfba7a244317a71b5c4fedafbbe8": {
      "model_module": "@jupyter-widgets/controls",
      "model_module_version": "1.5.0",
      "model_name": "ButtonStyleModel",
      "state": {}
     },
     "eb9c25defb924bd4a139c44c404e7001": {
      "model_module": "@jupyter-widgets/controls",
      "model_module_version": "1.5.0",
      "model_name": "ButtonModel",
      "state": {
       "description": "Add category",
       "layout": "IPY_MODEL_5635bd2a1dbe4760b5638e8c865b2550",
       "style": "IPY_MODEL_6d5e3a1f1f6e4037b118fad920b662c6"
      }
     },
     "eba49d4701c34c69a1a52005a55e913e": {
      "model_module": "@jupyter-widgets/controls",
      "model_module_version": "1.5.0",
      "model_name": "ButtonModel",
      "state": {
       "description": "Add",
       "layout": "IPY_MODEL_9e0dbc685d844cfd942dcb418366010a",
       "style": "IPY_MODEL_42507f01d821430991d4d3162cf5c980"
      }
     },
     "eba7cf85bd6046aca8a8d6411fcef311": {
      "model_module": "@jupyter-widgets/base",
      "model_module_version": "1.2.0",
      "model_name": "LayoutModel",
      "state": {
       "margin": "20px 0px"
      }
     },
     "ebac3b19d9ab409d9c42b53d972811e3": {
      "model_module": "@jupyter-widgets/controls",
      "model_module_version": "1.5.0",
      "model_name": "HBoxModel",
      "state": {
       "children": [
        "IPY_MODEL_e1dcb78514e94e8ba1b4d9d3d4a8e9c9",
        "IPY_MODEL_3152de1fa1164856a37a0aa90a315025",
        "IPY_MODEL_deee13f28dc04426826d2dcb4eb4b80e",
        "IPY_MODEL_e5dac1ed4b934727b6efb2c2f6bbcf39",
        "IPY_MODEL_d79e5da1ec2d4eff8b5b67ab8d2838d8"
       ],
       "layout": "IPY_MODEL_964212339a614dc4b244dd85464c155d"
      }
     },
     "ebe128ea294142459765d6098ca68e1a": {
      "model_module": "@jupyter-widgets/controls",
      "model_module_version": "1.5.0",
      "model_name": "FloatSliderModel",
      "state": {
       "description": "diffuse",
       "layout": "IPY_MODEL_3581f98b0e0b489eb1e8d1ffb45828de",
       "max": 3,
       "step": 0.1,
       "style": "IPY_MODEL_2171707fa97347488af43fe88a591d0f",
       "value": 1
      }
     },
     "ebed741c1929494990122e2d3b4f9648": {
      "model_module": "@jupyter-widgets/controls",
      "model_module_version": "1.5.0",
      "model_name": "SliderStyleModel",
      "state": {
       "description_width": ""
      }
     },
     "ec0d311430274174ad6f8002cc5ab013": {
      "model_module": "@jupyter-widgets/controls",
      "model_module_version": "1.5.0",
      "model_name": "ButtonModel",
      "state": {
       "description": "Add category",
       "layout": "IPY_MODEL_8cca7f8fad02405fb87c0732c5a43356",
       "style": "IPY_MODEL_70cd0cda1a844c278ad4555f50d5490a"
      }
     },
     "ec128f27e5d548fd89d35f652fb3d014": {
      "model_module": "@jupyter-widgets/base",
      "model_module_version": "1.2.0",
      "model_name": "LayoutModel",
      "state": {}
     },
     "ec25e9001eaf45e69cf86327398a4adc": {
      "model_module": "@jupyter-widgets/controls",
      "model_module_version": "1.5.0",
      "model_name": "HBoxModel",
      "state": {
       "children": [
        "IPY_MODEL_428b97f3a6fc42759d90478a7ffb3457",
        "IPY_MODEL_bd975fbe82284673a970cc17143dddb9"
       ],
       "layout": "IPY_MODEL_0c4ef21d02cd4d5098cab60592f95c54"
      }
     },
     "ec264ee7c2014d25b4a56adf37235cd5": {
      "model_module": "@jupyter-widgets/controls",
      "model_module_version": "1.5.0",
      "model_name": "DropdownModel",
      "state": {
       "index": null,
       "layout": "IPY_MODEL_b281607fe98d48e3934d05bec3d79698",
       "style": "IPY_MODEL_11a1fde1334e44b3bc445b44cfccd1ee"
      }
     },
     "ec565a4c65ef47b7b5c481d2e487b68f": {
      "model_module": "@jupyter-widgets/controls",
      "model_module_version": "1.5.0",
      "model_name": "DescriptionStyleModel",
      "state": {
       "description_width": ""
      }
     },
     "ec80a43c5a3b4523b4da1e7a74a8af65": {
      "model_module": "@jupyter-widgets/base",
      "model_module_version": "1.2.0",
      "model_name": "LayoutModel",
      "state": {}
     },
     "ec8cfa6373cf4330ae76df7ac5a2dfab": {
      "model_module": "pgljupyter",
      "model_module_version": "^0.1.21",
      "model_name": "IntEditorModel",
      "state": {
       "_model_module_version": "^0.1.21",
       "_view_module_version": "^0.1.21",
       "children": [
        "IPY_MODEL_2ed237c444f041958ac480d559718a9b",
        "IPY_MODEL_ca93be8a390a4842a5a88b86b5f0c740"
       ],
       "layout": "IPY_MODEL_057fc401feeb40d0858ffb015d0b71f2"
      }
     },
     "ecd0c12b3b9e479fb4a4bdfdcb2c2842": {
      "model_module": "@jupyter-widgets/controls",
      "model_module_version": "1.5.0",
      "model_name": "IntTextModel",
      "state": {
       "description": "max",
       "layout": "IPY_MODEL_973162b76dea4a2bbb3e36144ea6db25",
       "step": 1,
       "style": "IPY_MODEL_ed253fc3290f4b25b35b8dcd2674306e",
       "value": 10
      }
     },
     "ecd10be312514a0fb8642421d88c44eb": {
      "model_module": "@jupyter-widgets/controls",
      "model_module_version": "1.5.0",
      "model_name": "SliderStyleModel",
      "state": {
       "description_width": ""
      }
     },
     "ecd6712976814a878c2eb22824a5e5e9": {
      "model_module": "@jupyter-widgets/base",
      "model_module_version": "1.2.0",
      "model_name": "LayoutModel",
      "state": {}
     },
     "ed253fc3290f4b25b35b8dcd2674306e": {
      "model_module": "@jupyter-widgets/controls",
      "model_module_version": "1.5.0",
      "model_name": "DescriptionStyleModel",
      "state": {
       "description_width": ""
      }
     },
     "ed2e1c85dc804578834fe3b7f594baa4": {
      "model_module": "@jupyter-widgets/base",
      "model_module_version": "1.2.0",
      "model_name": "LayoutModel",
      "state": {}
     },
     "ed4b23b4eff1497396c94a783926d260": {
      "model_module": "@jupyter-widgets/controls",
      "model_module_version": "1.5.0",
      "model_name": "SliderStyleModel",
      "state": {
       "description_width": ""
      }
     },
     "ed6a7f88ae4744d49b47dd18c74fab70": {
      "model_module": "@jupyter-widgets/controls",
      "model_module_version": "1.5.0",
      "model_name": "ButtonModel",
      "state": {
       "description": "Delete",
       "layout": "IPY_MODEL_51ac257bcf38442c82fc060061bddd6c",
       "style": "IPY_MODEL_33e248224d044ba185e32bc6cddc3055"
      }
     },
     "ed774bc03b0a4afcae5f17c89042e491": {
      "model_module": "@jupyter-widgets/controls",
      "model_module_version": "1.5.0",
      "model_name": "DescriptionStyleModel",
      "state": {
       "description_width": ""
      }
     },
     "ed7d66b5a93a41909abdbcdcb3f73f67": {
      "model_module": "@jupyter-widgets/base",
      "model_module_version": "1.2.0",
      "model_name": "LayoutModel",
      "state": {}
     },
     "ed878756b8fb401389ecaf5b518387e3": {
      "model_module": "@jupyter-widgets/controls",
      "model_module_version": "1.5.0",
      "model_name": "ColorPickerModel",
      "state": {
       "description": "ambient",
       "disabled": false,
       "layout": "IPY_MODEL_8ade179874b44ec4a7a9a96454510c3e",
       "style": "IPY_MODEL_74dde666b12e4ccdbc62eb47f41ed106",
       "value": "#0fc4db"
      }
     },
     "ed976a91034f48c1a0bd19c114a4740d": {
      "model_module": "@jupyter-widgets/controls",
      "model_module_version": "1.5.0",
      "model_name": "ColorPickerModel",
      "state": {
       "description": "ambient",
       "disabled": false,
       "layout": "IPY_MODEL_0b974aa9e4cb4b4d87d799dd6e18b83c",
       "style": "IPY_MODEL_846dacb512d34d31960acd0764831033",
       "value": "#e1a014"
      }
     },
     "ed9c4819f169408997cc14e89f892d4d": {
      "model_module": "@jupyter-widgets/controls",
      "model_module_version": "1.5.0",
      "model_name": "DescriptionStyleModel",
      "state": {
       "description_width": ""
      }
     },
     "edccc23ee7c94c62b87b7ae6355454e4": {
      "model_module": "@jupyter-widgets/base",
      "model_module_version": "1.2.0",
      "model_name": "LayoutModel",
      "state": {}
     },
     "ede64f804344425291e343f1d105c792": {
      "model_module": "@jupyter-widgets/base",
      "model_module_version": "1.2.0",
      "model_name": "LayoutModel",
      "state": {}
     },
     "edf5b3db672b4d20a4fa33621e0812cd": {
      "model_module": "@jupyter-widgets/controls",
      "model_module_version": "1.5.0",
      "model_name": "DropdownModel",
      "state": {
       "_options_labels": [
        "Curve",
        "Function"
       ],
       "index": 0,
       "layout": "IPY_MODEL_06abffea9b7d4b2b9dd4f1088f2d8320",
       "style": "IPY_MODEL_b827f66cc57143ecb4fb1662a9a1f67a"
      }
     },
     "edf855758a43462cb032faf769489da2": {
      "model_module": "@jupyter-widgets/controls",
      "model_module_version": "1.5.0",
      "model_name": "SliderStyleModel",
      "state": {
       "description_width": ""
      }
     },
     "edf9693f28bf40b480d44c9fe1f0e7bd": {
      "model_module": "@jupyter-widgets/controls",
      "model_module_version": "1.5.0",
      "model_name": "VBoxModel",
      "state": {
       "children": [
        "IPY_MODEL_6bbc88a5645f4f34bc382a3d79ab54d0",
        "IPY_MODEL_ccb212c6dfcc4c1d92cc6abceb4d2737"
       ],
       "layout": "IPY_MODEL_2340039821ec4848ab8a9b6c4eb0a864"
      }
     },
     "ee257afeb107428795eb942a17db9082": {
      "model_module": "@jupyter-widgets/base",
      "model_module_version": "1.2.0",
      "model_name": "LayoutModel",
      "state": {}
     },
     "ee264b2062824fd5b777853c7f930800": {
      "model_module": "@jupyter-widgets/controls",
      "model_module_version": "1.5.0",
      "model_name": "BoundedIntTextModel",
      "state": {
       "description": "index",
       "layout": "IPY_MODEL_ac370811477146a592129af91bec1989",
       "style": "IPY_MODEL_794d157bf0ff435fa7c3c39274a2f7b7",
       "value": 3
      }
     },
     "ee4407294be54086bbd26a4a233c1f1d": {
      "model_module": "@jupyter-widgets/controls",
      "model_module_version": "1.5.0",
      "model_name": "FloatSliderModel",
      "state": {
       "continuous_update": false,
       "description": "value",
       "layout": "IPY_MODEL_c8b617f6b250449eb06f31d25f258913",
       "max": 0.1,
       "min": 0.01,
       "step": 0.01,
       "style": "IPY_MODEL_ab4f041476074245bb025f46b65ac937",
       "value": 0.03
      }
     },
     "ee807aaf7dd849e494a1bea9e632bb51": {
      "model_module": "@jupyter-widgets/base",
      "model_module_version": "1.2.0",
      "model_name": "LayoutModel",
      "state": {}
     },
     "eeda36683653443fb2968b0128f1e43c": {
      "model_module": "pgljupyter",
      "model_module_version": "^0.1.21",
      "model_name": "MaterialEditorModel",
      "state": {
       "_model_module_version": "^0.1.21",
       "_view_module_version": "^0.1.21",
       "children": [
        "IPY_MODEL_d8984fabe4b64cf5badca23730a3e99f",
        "IPY_MODEL_3996353c8b94465d86afb685abf7e620",
        "IPY_MODEL_605b3dff17be4529b97af57e3cdd4848",
        "IPY_MODEL_043c34dc906e4167928f4d176318bc85",
        "IPY_MODEL_571f6b30eb9047efac0f6cc30752eb09",
        "IPY_MODEL_5f9f275715734a318f7526209e87fd1d",
        "IPY_MODEL_8428793621cc40e99f94653249403223",
        "IPY_MODEL_9a57f9c762704968844cf5cf71803d87"
       ],
       "layout": "IPY_MODEL_8526b634b49f4f3dbb3f18145fa06a71"
      }
     },
     "eeed912523954cc783b4b1ea61c53646": {
      "model_module": "@jupyter-widgets/base",
      "model_module_version": "1.2.0",
      "model_name": "LayoutModel",
      "state": {}
     },
     "ef02132854ed4c2993d244c63b2f1da8": {
      "model_module": "@jupyter-widgets/controls",
      "model_module_version": "1.5.0",
      "model_name": "SliderStyleModel",
      "state": {
       "description_width": ""
      }
     },
     "ef04cc1a511e4bb3a4e5a70581a7c48d": {
      "model_module": "@jupyter-widgets/base",
      "model_module_version": "1.2.0",
      "model_name": "LayoutModel",
      "state": {}
     },
     "ef1d08148f6a452081c3eb7924ab9c8f": {
      "model_module": "@jupyter-widgets/controls",
      "model_module_version": "1.5.0",
      "model_name": "ButtonStyleModel",
      "state": {}
     },
     "ef248a12bce040c9b9d1143f988a7f70": {
      "model_module": "@jupyter-widgets/controls",
      "model_module_version": "1.5.0",
      "model_name": "DescriptionStyleModel",
      "state": {
       "description_width": ""
      }
     },
     "ef454af4562b438db936e7f40a5e2935": {
      "model_module": "@jupyter-widgets/controls",
      "model_module_version": "1.5.0",
      "model_name": "SliderStyleModel",
      "state": {
       "description_width": ""
      }
     },
     "ef4b1309dfd142598b1a811f4f4940d6": {
      "model_module": "pgljupyter",
      "model_module_version": "^0.2.0",
      "model_name": "MaterialEditorModel",
      "state": {
       "_model_module_version": "^0.2.0",
       "_view_module_version": "^0.2.0",
       "children": [
        "IPY_MODEL_03d211779e87416689565221e4907777",
        "IPY_MODEL_1f9354edd99a419791b8098ce14a9959",
        "IPY_MODEL_be51b261106b43ffb83f192c209c691e",
        "IPY_MODEL_e39dd960334045baa4c5674dbf8c74ab",
        "IPY_MODEL_7df5c0ee266b450db5777d1e698953b4",
        "IPY_MODEL_de14ab107bb9470f974458da57567aeb",
        "IPY_MODEL_bfabacffa42444aaafe06f4ea52048a4",
        "IPY_MODEL_225a25286ce64ac499f5f3306b5b2a61"
       ],
       "layout": "IPY_MODEL_6f8caadf4ec44ff08a9be51eeb0f01f2"
      }
     },
     "ef5333f5371043d19deb770e002aef6f": {
      "model_module": "@jupyter-widgets/controls",
      "model_module_version": "1.5.0",
      "model_name": "DropdownModel",
      "state": {
       "_options_labels": [
        "NurbsCurve2D",
        "BezierCurve2D",
        "Polyline2D",
        "Function"
       ],
       "index": 0,
       "layout": "IPY_MODEL_c48e782f1bef445e9f2d0c4e1632f795",
       "style": "IPY_MODEL_b0816a0d3a1147ec9177057aeccf2636"
      }
     },
     "ef8bbf3c99984ea7a0ada6febc787943": {
      "model_module": "@jupyter-widgets/base",
      "model_module_version": "1.2.0",
      "model_name": "LayoutModel",
      "state": {}
     },
     "efb139d7a3194536b561efe32dfd2630": {
      "model_module": "@jupyter-widgets/controls",
      "model_module_version": "1.5.0",
      "model_name": "HBoxModel",
      "state": {
       "children": [
        "IPY_MODEL_33f1c8621f03490ab5245ccf59e30f24",
        "IPY_MODEL_68d71aa0477142e7b5ac9a9e6cd735b0",
        "IPY_MODEL_5301dbd8a23f4528acd9e2c505d69fa9"
       ],
       "layout": "IPY_MODEL_5ffcfabea4324e77ba7847c89942d8f5"
      }
     },
     "efecd650a0b549cfb8d04768a7af3883": {
      "model_module": "@jupyter-widgets/base",
      "model_module_version": "1.2.0",
      "model_name": "LayoutModel",
      "state": {}
     },
     "f00939b02b1b481eaf4beed6c5699d1f": {
      "model_module": "@jupyter-widgets/controls",
      "model_module_version": "1.5.0",
      "model_name": "FloatSliderModel",
      "state": {
       "description": "shininess",
       "layout": "IPY_MODEL_ef04cc1a511e4bb3a4e5a70581a7c48d",
       "max": 1,
       "step": 0.1,
       "style": "IPY_MODEL_ef454af4562b438db936e7f40a5e2935",
       "value": 0.2
      }
     },
     "f0360e90f8844f669efb780ee3af11e8": {
      "model_module": "@jupyter-widgets/controls",
      "model_module_version": "1.5.0",
      "model_name": "DescriptionStyleModel",
      "state": {
       "description_width": ""
      }
     },
     "f048e5d7bba14e4aa6363ca4631d0493": {
      "model_module": "@jupyter-widgets/controls",
      "model_module_version": "1.5.0",
      "model_name": "ButtonModel",
      "state": {
       "description": "Apply changes",
       "layout": "IPY_MODEL_4cd38825a8884057bf5bc40058c1ffbc",
       "style": "IPY_MODEL_38fbe02c165042b8b77cbdcdf4e4c685"
      }
     },
     "f061060e4659478abd495ee2273bc6da": {
      "model_module": "@jupyter-widgets/controls",
      "model_module_version": "1.5.0",
      "model_name": "FloatSliderModel",
      "state": {
       "continuous_update": false,
       "description": "diffuse",
       "layout": "IPY_MODEL_abe0069c61354de2ab4d964025267f8b",
       "max": 3,
       "step": 0.1,
       "style": "IPY_MODEL_ebed741c1929494990122e2d3b4f9648",
       "value": 1
      }
     },
     "f0677d8a64674b559e7f258cf8fa5541": {
      "model_module": "@jupyter-widgets/controls",
      "model_module_version": "1.5.0",
      "model_name": "DescriptionStyleModel",
      "state": {
       "description_width": ""
      }
     },
     "f06f7a31a7f6416183260274d8da1272": {
      "model_module": "@jupyter-widgets/base",
      "model_module_version": "1.2.0",
      "model_name": "LayoutModel",
      "state": {
       "margin": "20px 0px"
      }
     },
     "f07a901e6ad14b95a2d72d3015de3a12": {
      "model_module": "@jupyter-widgets/controls",
      "model_module_version": "1.5.0",
      "model_name": "IntSliderModel",
      "state": {
       "description": "value",
       "layout": "IPY_MODEL_38e26cd9e23545518709851cba698d94",
       "max": 10,
       "min": 1,
       "style": "IPY_MODEL_c84fe53e0e9a4df391e82723c5e179d5",
       "value": 3
      }
     },
     "f07ec7a47aa64a3a83eebeecca3f4573": {
      "model_module": "@jupyter-widgets/controls",
      "model_module_version": "1.5.0",
      "model_name": "IntSliderModel",
      "state": {
       "description": "value",
       "layout": "IPY_MODEL_1f72998eed09408198e3afb7711fce67",
       "max": 10,
       "min": 1,
       "style": "IPY_MODEL_7ff69b0f459c406da1dcf1b6b9ea1d85",
       "value": 5
      }
     },
     "f091e8ee938040379301180a6b5f8ece": {
      "model_module": "pgljupyter",
      "model_module_version": "^0.1.16",
      "model_name": "MaterialEditorModel",
      "state": {
       "_model_module_version": "^0.1.16",
       "_view_module_version": "^0.1.16",
       "children": [
        "IPY_MODEL_6b7f50760bbe40128e53e8730548a7c5",
        "IPY_MODEL_af4039e9ddde442ba446084c54416900",
        "IPY_MODEL_80301650537045819e119da69d2e1eaf",
        "IPY_MODEL_d17ee3bf95d444e6a5dc0e77911f5b59",
        "IPY_MODEL_cb7d447aaf2c4c759979e1f891e6d461",
        "IPY_MODEL_e984cba6c0f84ad5a3546c38b70bc438",
        "IPY_MODEL_89a945aee0754e80a2eee46f61496ba5",
        "IPY_MODEL_fa3fcbaf866c47d0a6ee55fb9125c3d4"
       ],
       "layout": "IPY_MODEL_92978dae10c04f879b6b666ba80d5835"
      }
     },
     "f09ec2f11f444eed8d6fdf286e95dc1c": {
      "model_module": "@jupyter-widgets/base",
      "model_module_version": "1.2.0",
      "model_name": "LayoutModel",
      "state": {
       "margin": "20px 0px"
      }
     },
     "f0d18c7a33314b93b6a2c556090ad031": {
      "model_module": "@jupyter-widgets/controls",
      "model_module_version": "1.5.0",
      "model_name": "DescriptionStyleModel",
      "state": {
       "description_width": ""
      }
     },
     "f0ece62107884815b66732681cf6a81c": {
      "model_module": "@jupyter-widgets/base",
      "model_module_version": "1.2.0",
      "model_name": "LayoutModel",
      "state": {}
     },
     "f10e1a78bef24b7a80af155ce5e761cd": {
      "model_module": "@jupyter-widgets/controls",
      "model_module_version": "1.5.0",
      "model_name": "ButtonStyleModel",
      "state": {}
     },
     "f12070df747f4997bb07a8795782dbf5": {
      "model_module": "@jupyter-widgets/controls",
      "model_module_version": "1.5.0",
      "model_name": "ButtonModel",
      "state": {
       "description": "Add",
       "layout": "IPY_MODEL_45f98c4f44d14504a22ffa36469c7310",
       "style": "IPY_MODEL_9fa90f82578d4c6cbf8256092d7543fa"
      }
     },
     "f1428e6f50564af3a3f0c5aaf828bea6": {
      "model_module": "@jupyter-widgets/controls",
      "model_module_version": "1.5.0",
      "model_name": "ColorPickerModel",
      "state": {
       "description": "ambient",
       "disabled": false,
       "layout": "IPY_MODEL_146d5fefc3734a85bff00f69249efbfc",
       "style": "IPY_MODEL_2e7935d872574becb340ab330a27a50f",
       "value": "#5b4534"
      }
     },
     "f142e994cc534a86867a64e2eda8db55": {
      "model_module": "@jupyter-widgets/controls",
      "model_module_version": "1.5.0",
      "model_name": "HBoxModel",
      "state": {
       "children": [
        "IPY_MODEL_cbdaf49adba648288d71c4ee0c85a46d",
        "IPY_MODEL_96ef1dd3e38b40a6b4b6aa0a8d3bcca5"
       ],
       "layout": "IPY_MODEL_266957bdee4c488d96db5cfceab4b072"
      }
     },
     "f147ffdfc6994c26b4177e9b873ebcc9": {
      "model_module": "pgljupyter",
      "model_module_version": "^0.1.17",
      "model_name": "IntEditorModel",
      "state": {
       "_model_module_version": "^0.1.17",
       "_view_module_version": "^0.1.17",
       "children": [
        "IPY_MODEL_445f90f4d3de40cb874172bbb0b2c38d",
        "IPY_MODEL_004fe4bded924a9a932e3394f3befd69"
       ],
       "layout": "IPY_MODEL_80b56e6d76c34f719488204e0bf1de2d"
      }
     },
     "f1784203f14e47b2863da9024e9cac9a": {
      "model_module": "@jupyter-widgets/controls",
      "model_module_version": "1.5.0",
      "model_name": "SliderStyleModel",
      "state": {
       "description_width": ""
      }
     },
     "f1b271a66d614793b1839806e98da617": {
      "model_module": "@jupyter-widgets/base",
      "model_module_version": "1.2.0",
      "model_name": "LayoutModel",
      "state": {
       "margin": "10px 10px"
      }
     },
     "f1c6aa52cc2a40a396a24165e1c5bf64": {
      "model_module": "@jupyter-widgets/controls",
      "model_module_version": "1.5.0",
      "model_name": "DescriptionStyleModel",
      "state": {
       "description_width": ""
      }
     },
     "f20f31a04ca646aead57a9fa9a0eab65": {
      "model_module": "@jupyter-widgets/controls",
      "model_module_version": "1.5.0",
      "model_name": "SliderStyleModel",
      "state": {
       "description_width": ""
      }
     },
     "f223c7d886294225be0b4cb6d842a989": {
      "model_module": "@jupyter-widgets/controls",
      "model_module_version": "1.5.0",
      "model_name": "SliderStyleModel",
      "state": {
       "description_width": ""
      }
     },
     "f2282812a130441eac41b660ee49477d": {
      "model_module": "@jupyter-widgets/controls",
      "model_module_version": "1.5.0",
      "model_name": "ButtonModel",
      "state": {
       "description": "Save changes",
       "layout": "IPY_MODEL_37be1e18450a48628dc1cfe7889e3ae0",
       "style": "IPY_MODEL_ae49ac24f7d94cbea0a0b653a87d4b7d"
      }
     },
     "f26688f6c93d449ca3039c51f092914f": {
      "model_module": "@jupyter-widgets/controls",
      "model_module_version": "1.5.0",
      "model_name": "ButtonStyleModel",
      "state": {}
     },
     "f2740e7d55304da5b92addaba9f46791": {
      "model_module": "@jupyter-widgets/controls",
      "model_module_version": "1.5.0",
      "model_name": "TextModel",
      "state": {
       "continuous_update": false,
       "description": "name",
       "layout": "IPY_MODEL_9915bfe8a73a4ccab7d287b3385f6115",
       "style": "IPY_MODEL_6ffd3972526c43f5977af4b0b2029a29",
       "value": "apex"
      }
     },
     "f2a5aa5ff05a4e369a4aa1886f23f400": {
      "model_module": "@jupyter-widgets/controls",
      "model_module_version": "1.5.0",
      "model_name": "SliderStyleModel",
      "state": {
       "description_width": ""
      }
     },
     "f2c1729018b749dc825f727cf95f0163": {
      "model_module": "@jupyter-widgets/controls",
      "model_module_version": "1.5.0",
      "model_name": "TextModel",
      "state": {
       "layout": "IPY_MODEL_a0c0376ddf624c66a5d12384bfc7b96f",
       "placeholder": "category name",
       "style": "IPY_MODEL_6275cdb1a22040fd844c2deb6ab44a03"
      }
     },
     "f2ce19fc1a01412bb35dc2f4381a068b": {
      "model_module": "@jupyter-widgets/controls",
      "model_module_version": "1.5.0",
      "model_name": "DescriptionStyleModel",
      "state": {
       "description_width": ""
      }
     },
     "f2cedfd93f164c5997b034682b7dd6d1": {
      "model_module": "@jupyter-widgets/base",
      "model_module_version": "1.2.0",
      "model_name": "LayoutModel",
      "state": {}
     },
     "f33321dfdd1e448eacd73ae8c3951fdf": {
      "model_module": "@jupyter-widgets/base",
      "model_module_version": "1.2.0",
      "model_name": "LayoutModel",
      "state": {}
     },
     "f33af95ef58846bf8df866296877a85b": {
      "model_module": "@jupyter-widgets/controls",
      "model_module_version": "1.5.0",
      "model_name": "HBoxModel",
      "state": {
       "children": [
        "IPY_MODEL_585fc48c58fd48cb974017172fb63f8c"
       ],
       "layout": "IPY_MODEL_5a6aab1bb709492da4f69389f9069c24"
      }
     },
     "f361c3d1f27243faaa2f2f23c17328ad": {
      "model_module": "@jupyter-widgets/controls",
      "model_module_version": "1.5.0",
      "model_name": "DescriptionStyleModel",
      "state": {
       "description_width": ""
      }
     },
     "f364d80a738d4f4a84c272cef9cd3e68": {
      "model_module": "@jupyter-widgets/controls",
      "model_module_version": "1.5.0",
      "model_name": "TextModel",
      "state": {
       "continuous_update": false,
       "description": "name",
       "layout": "IPY_MODEL_c70724b373544707a8ceb6ea34ead215",
       "style": "IPY_MODEL_f5bfbe34070d48409e2eb89df0aaa1dc",
       "value": "color_2"
      }
     },
     "f365e1e598254f48b575a161866cb1f1": {
      "model_module": "@jupyter-widgets/controls",
      "model_module_version": "1.5.0",
      "model_name": "HBoxModel",
      "state": {
       "children": [
        "IPY_MODEL_f048e5d7bba14e4aa6363ca4631d0493",
        "IPY_MODEL_4714391555864c2d8b0f394fb88fc2e4"
       ],
       "layout": "IPY_MODEL_e398a8e953fe495eb8604e9e87b8bb52"
      }
     },
     "f39bbffe9e8a4cf8bc7048c825bb7715": {
      "model_module": "@jupyter-widgets/controls",
      "model_module_version": "1.5.0",
      "model_name": "DescriptionStyleModel",
      "state": {
       "description_width": ""
      }
     },
     "f3a5d74515114615b5d451bc8e5d23f5": {
      "model_module": "@jupyter-widgets/controls",
      "model_module_version": "1.5.0",
      "model_name": "ButtonStyleModel",
      "state": {}
     },
     "f3b5f46f7b7c466baaef384604030357": {
      "model_module": "@jupyter-widgets/base",
      "model_module_version": "1.2.0",
      "model_name": "LayoutModel",
      "state": {}
     },
     "f3c024e88d6640b3b187291687dc790d": {
      "model_module": "@jupyter-widgets/base",
      "model_module_version": "1.2.0",
      "model_name": "LayoutModel",
      "state": {}
     },
     "f3d619e4ec8a4de8bac00cda89fa6f4f": {
      "model_module": "@jupyter-widgets/controls",
      "model_module_version": "1.5.0",
      "model_name": "DescriptionStyleModel",
      "state": {
       "description_width": ""
      }
     },
     "f3ecc66415384a3b93c8afe5ca93b8f6": {
      "model_module": "@jupyter-widgets/base",
      "model_module_version": "1.2.0",
      "model_name": "LayoutModel",
      "state": {}
     },
     "f3f2dbabf14c4ce7bc023cc0ac7e2774": {
      "model_module": "@jupyter-widgets/base",
      "model_module_version": "1.2.0",
      "model_name": "LayoutModel",
      "state": {}
     },
     "f41d2bc09ad24d97b1e0e97f75537487": {
      "model_module": "@jupyter-widgets/base",
      "model_module_version": "1.2.0",
      "model_name": "LayoutModel",
      "state": {}
     },
     "f41ebca09dd94958b840510087992ffe": {
      "model_module": "@jupyter-widgets/base",
      "model_module_version": "1.2.0",
      "model_name": "LayoutModel",
      "state": {
       "margin": "20px 0px"
      }
     },
     "f4bdb1ac62ae4f1ba65cb9bfe80e8b50": {
      "model_module": "@jupyter-widgets/controls",
      "model_module_version": "1.5.0",
      "model_name": "HBoxModel",
      "state": {
       "children": [
        "IPY_MODEL_b4eb01c447064278a10e95e371e491b5",
        "IPY_MODEL_368bf31b2cd549b2949bece28e1205ad"
       ],
       "layout": "IPY_MODEL_3859230710584fe98955e85d63f45d07"
      }
     },
     "f4f2faa3af214fe2ad81b69860fda065": {
      "model_module": "@jupyter-widgets/base",
      "model_module_version": "1.2.0",
      "model_name": "LayoutModel",
      "state": {}
     },
     "f4f80c8cf6b444139f0df44cf6b171cc": {
      "model_module": "@jupyter-widgets/controls",
      "model_module_version": "1.5.0",
      "model_name": "ColorPickerModel",
      "state": {
       "description": "ambient",
       "disabled": false,
       "layout": "IPY_MODEL_b609d0249e3d49ada716ca64850e65b8",
       "style": "IPY_MODEL_57ba92c34a3c4d26a6098635e1484968",
       "value": "#5b4534"
      }
     },
     "f4fc311f40184f1cb5a43ab2a5f5d676": {
      "model_module": "@jupyter-widgets/base",
      "model_module_version": "1.2.0",
      "model_name": "LayoutModel",
      "state": {}
     },
     "f54b6bb1cd9047f2913448b18542023e": {
      "model_module": "@jupyter-widgets/base",
      "model_module_version": "1.2.0",
      "model_name": "LayoutModel",
      "state": {
       "flex_flow": "row wrap",
       "margin": "20px"
      }
     },
     "f5730ea7e7c64ddd832fe8d4f113f656": {
      "model_module": "@jupyter-widgets/controls",
      "model_module_version": "1.5.0",
      "model_name": "ColorPickerModel",
      "state": {
       "description": "ambient",
       "disabled": false,
       "layout": "IPY_MODEL_a5264762497747948922c606524ae042",
       "style": "IPY_MODEL_4045fe6afc194dcaa3f2c54427fa1745",
       "value": "#195717"
      }
     },
     "f5bfbe34070d48409e2eb89df0aaa1dc": {
      "model_module": "@jupyter-widgets/controls",
      "model_module_version": "1.5.0",
      "model_name": "DescriptionStyleModel",
      "state": {
       "description_width": ""
      }
     },
     "f5c031c73e2d41bf8b06494de1a94e89": {
      "model_module": "@jupyter-widgets/controls",
      "model_module_version": "1.5.0",
      "model_name": "ButtonStyleModel",
      "state": {}
     },
     "f5d36d54332540779b373371ce91389e": {
      "model_module": "@jupyter-widgets/base",
      "model_module_version": "1.2.0",
      "model_name": "LayoutModel",
      "state": {
       "flex_flow": "row wrap"
      }
     },
     "f5dded7baa7c457f98e4a59af1aaf345": {
      "model_module": "@jupyter-widgets/base",
      "model_module_version": "1.2.0",
      "model_name": "LayoutModel",
      "state": {}
     },
     "f5eb433a652144f68dc06a51734bf8aa": {
      "model_module": "@jupyter-widgets/base",
      "model_module_version": "1.2.0",
      "model_name": "LayoutModel",
      "state": {}
     },
     "f600a6ae2e384964b8cef48223b138d5": {
      "model_module": "@jupyter-widgets/controls",
      "model_module_version": "1.5.0",
      "model_name": "TextModel",
      "state": {
       "continuous_update": false,
       "description": "name",
       "layout": "IPY_MODEL_1910124b79a9485da861e6e0c1762d37",
       "style": "IPY_MODEL_fc73aa7236da431dac7ba2b4a124ad11",
       "value": "trunk"
      }
     },
     "f628bcfc5a584627bfe3fcf55fe6a1b4": {
      "model_module": "@jupyter-widgets/controls",
      "model_module_version": "1.5.0",
      "model_name": "HBoxModel",
      "state": {
       "children": [
        "IPY_MODEL_34e774049b6c47ed934645d1f5622147",
        "IPY_MODEL_0225ffc1c00e4e10854402feed083775"
       ],
       "layout": "IPY_MODEL_3bc19bb63ddf48d997c4e036a6b93e14"
      }
     },
     "f63891c4f64f4653a78aca23c81afe25": {
      "model_module": "@jupyter-widgets/base",
      "model_module_version": "1.2.0",
      "model_name": "LayoutModel",
      "state": {
       "margin": "10px 10px"
      }
     },
     "f6729743e45f4de5a242dd5d165d2def": {
      "model_module": "@jupyter-widgets/controls",
      "model_module_version": "1.5.0",
      "model_name": "HBoxModel",
      "state": {
       "children": [
        "IPY_MODEL_beaddf86b7f44cc299563ba4d42805ac",
        "IPY_MODEL_28691dd4baba4a50be1bed6f5dc13469"
       ],
       "layout": "IPY_MODEL_9686a9ec1f724f7b9f1afc42c755dcf4"
      }
     },
     "f6831da68c52444e88220f9ed6ef5b40": {
      "model_module": "@jupyter-widgets/controls",
      "model_module_version": "1.5.0",
      "model_name": "DescriptionStyleModel",
      "state": {
       "description_width": ""
      }
     },
     "f6877ba37bef4c718f9ad54a1dee9c7e": {
      "model_module": "@jupyter-widgets/controls",
      "model_module_version": "1.5.0",
      "model_name": "VBoxModel",
      "state": {
       "children": [
        "IPY_MODEL_5872ea4882c74993af9862d9a8bfcb9f",
        "IPY_MODEL_20298b4a168141e9be68094a28287409",
        "IPY_MODEL_ebac3b19d9ab409d9c42b53d972811e3",
        "IPY_MODEL_e7e58753b42f479c87b45106eebaf7d8",
        "IPY_MODEL_cbb885bb9b4c46c4a535abf50628efc5"
       ],
       "layout": "IPY_MODEL_c2ea397318574d91a49746ced9e8db1a"
      }
     },
     "f68ee7a1ff1f4c219cab354f0604eedb": {
      "model_module": "@jupyter-widgets/controls",
      "model_module_version": "1.5.0",
      "model_name": "TextModel",
      "state": {
       "continuous_update": false,
       "description": "name",
       "layout": "IPY_MODEL_4324f2529e09415dadc3370833a9cf89",
       "style": "IPY_MODEL_49bae710026d4abebe418948abc24209",
       "value": "leafduration"
      }
     },
     "f68ef37f8ced4c228aca91904f273ad4": {
      "model_module": "@jupyter-widgets/controls",
      "model_module_version": "1.5.0",
      "model_name": "DescriptionStyleModel",
      "state": {
       "description_width": ""
      }
     },
     "f6bd143eb72a4021a9ee1d0db9b45016": {
      "model_module": "@jupyter-widgets/controls",
      "model_module_version": "1.5.0",
      "model_name": "FloatTextModel",
      "state": {
       "description": "min",
       "layout": "IPY_MODEL_340f0dbc98ff42bda049e2e8bbb7b838",
       "step": null,
       "style": "IPY_MODEL_7ee5793271fa419b8cf938c7cdd42829",
       "value": 0.01
      }
     },
     "f6c4882c37f6475dbcdbc12bd7155a7c": {
      "model_module": "@jupyter-widgets/base",
      "model_module_version": "1.2.0",
      "model_name": "LayoutModel",
      "state": {}
     },
     "f6d0532b4d034ab5add8a942c8036f27": {
      "model_module": "@jupyter-widgets/controls",
      "model_module_version": "1.5.0",
      "model_name": "SliderStyleModel",
      "state": {
       "description_width": ""
      }
     },
     "f6f979e7e2c640148f7ccf33cc3b0980": {
      "model_module": "@jupyter-widgets/base",
      "model_module_version": "1.2.0",
      "model_name": "LayoutModel",
      "state": {
       "margin": "20px 0px"
      }
     },
     "f715948c10e742b18dc5ac8de145f2e7": {
      "model_module": "@jupyter-widgets/controls",
      "model_module_version": "1.5.0",
      "model_name": "ButtonStyleModel",
      "state": {}
     },
     "f744f73abc8b4e43bcabffd1e5617d58": {
      "model_module": "@jupyter-widgets/base",
      "model_module_version": "1.2.0",
      "model_name": "LayoutModel",
      "state": {}
     },
     "f760108295804b51a12e98b907147ca4": {
      "model_module": "@jupyter-widgets/controls",
      "model_module_version": "1.5.0",
      "model_name": "HBoxModel",
      "state": {
       "children": [
        "IPY_MODEL_060b0a3a5fe149d88da37110e7fd99dd",
        "IPY_MODEL_f2c1729018b749dc825f727cf95f0163"
       ],
       "layout": "IPY_MODEL_1cf4a392c16e40a5af323f7c787ca26d"
      }
     },
     "f7734ac97c2a419a80f3d26934e193d0": {
      "model_module": "@jupyter-widgets/controls",
      "model_module_version": "1.5.0",
      "model_name": "DescriptionStyleModel",
      "state": {
       "description_width": ""
      }
     },
     "f780df8385f34042a1e45373f0ef9cbc": {
      "model_module": "@jupyter-widgets/controls",
      "model_module_version": "1.5.0",
      "model_name": "DescriptionStyleModel",
      "state": {
       "description_width": ""
      }
     },
     "f786377f3c8f4c4db4d47255efae9e90": {
      "model_module": "@jupyter-widgets/base",
      "model_module_version": "1.2.0",
      "model_name": "LayoutModel",
      "state": {}
     },
     "f78af31ccb8c4fa6988f852a049c17d8": {
      "model_module": "pgljupyter",
      "model_module_version": "^0.1.21",
      "model_name": "MaterialEditorModel",
      "state": {
       "_model_module_version": "^0.1.21",
       "_view_module_version": "^0.1.21",
       "children": [
        "IPY_MODEL_e0797b2efbd349b591c26c07ddceb9b9",
        "IPY_MODEL_b3ab021d6df046ceb59289797f1e4f25",
        "IPY_MODEL_1381a5f505a041c5a6944ee0787a8c0c",
        "IPY_MODEL_86e5d6226409410ea3e7aff87df7c57d",
        "IPY_MODEL_304e2cc8f62a4765b62a59138286ab58",
        "IPY_MODEL_1ef74d1c41b24007821a052f50da2c9f",
        "IPY_MODEL_850aea0efb99435baa77c0a116afa497",
        "IPY_MODEL_2ba15c3936ee4dd3a35e1ac8b8710c9d"
       ],
       "layout": "IPY_MODEL_d472e1655a9444f0b18024002a8daeb0"
      }
     },
     "f7a150d82f6d40e4934ef1a89819382f": {
      "model_module": "@jupyter-widgets/base",
      "model_module_version": "1.2.0",
      "model_name": "LayoutModel",
      "state": {}
     },
     "f7ff34c66d4b431c8d7a458913ac23de": {
      "model_module": "@jupyter-widgets/base",
      "model_module_version": "1.2.0",
      "model_name": "LayoutModel",
      "state": {
       "flex_flow": "row wrap",
       "margin": "20px"
      }
     },
     "f809bb47cbf94d079b9331253cf0b41b": {
      "model_module": "@jupyter-widgets/base",
      "model_module_version": "1.2.0",
      "model_name": "LayoutModel",
      "state": {}
     },
     "f826609262fd40cb852fc2f4bd691b74": {
      "model_module": "@jupyter-widgets/base",
      "model_module_version": "1.2.0",
      "model_name": "LayoutModel",
      "state": {}
     },
     "f834a6370cbe4f55b43168d73475ea6e": {
      "model_module": "@jupyter-widgets/controls",
      "model_module_version": "1.5.0",
      "model_name": "HBoxModel",
      "state": {
       "children": [
        "IPY_MODEL_aa07377abfb5489ca39018eb747fddb6",
        "IPY_MODEL_58b01411a162470783fbaaa91028104c"
       ],
       "layout": "IPY_MODEL_7e4f103663654092a3b6f3f18908d2a4"
      }
     },
     "f836fd487d254139a4843f0eab8c88da": {
      "model_module": "@jupyter-widgets/controls",
      "model_module_version": "1.5.0",
      "model_name": "DescriptionStyleModel",
      "state": {
       "description_width": ""
      }
     },
     "f83dfb11eba54161877d623ec09906b5": {
      "model_module": "@jupyter-widgets/base",
      "model_module_version": "1.2.0",
      "model_name": "LayoutModel",
      "state": {
       "flex_flow": "row wrap"
      }
     },
     "f84fb842bfdc4ca69b673ea45abcdf91": {
      "model_module": "@jupyter-widgets/base",
      "model_module_version": "1.2.0",
      "model_name": "LayoutModel",
      "state": {
       "flex_flow": "row wrap",
       "margin": "20px"
      }
     },
     "f869d0c8c4644edf9a72e7f0721d5ba9": {
      "model_module": "@jupyter-widgets/base",
      "model_module_version": "1.2.0",
      "model_name": "LayoutModel",
      "state": {}
     },
     "f8b573f681b34435b46c31918778cf1a": {
      "model_module": "@jupyter-widgets/base",
      "model_module_version": "1.2.0",
      "model_name": "LayoutModel",
      "state": {}
     },
     "f8bb53ae98a6404eb9fbd8309f221e79": {
      "model_module": "@jupyter-widgets/controls",
      "model_module_version": "1.5.0",
      "model_name": "DescriptionStyleModel",
      "state": {
       "description_width": ""
      }
     },
     "f8bc8a94e6fc4a96a7ccd3d239c789b6": {
      "model_module": "@jupyter-widgets/base",
      "model_module_version": "1.2.0",
      "model_name": "LayoutModel",
      "state": {}
     },
     "f8c2776590214d378e6d1f0790fa3fda": {
      "model_module": "@jupyter-widgets/controls",
      "model_module_version": "1.5.0",
      "model_name": "ButtonStyleModel",
      "state": {}
     },
     "f8e8217ad4ff42db874a2be04d88d09c": {
      "model_module": "@jupyter-widgets/base",
      "model_module_version": "1.2.0",
      "model_name": "LayoutModel",
      "state": {}
     },
     "f8f1b22537ea4775b6a66c4cf9a93b36": {
      "model_module": "@jupyter-widgets/controls",
      "model_module_version": "1.5.0",
      "model_name": "ColorPickerModel",
      "state": {
       "description": "ambient",
       "disabled": false,
       "layout": "IPY_MODEL_ce0a26bba3a94e90ad2deec291c5620a",
       "style": "IPY_MODEL_d00bef684863448d8a69284c4b80ac23",
       "value": "#e1a014"
      }
     },
     "f958a1e7a32245119bf98c95905da1a2": {
      "model_module": "@jupyter-widgets/controls",
      "model_module_version": "1.5.0",
      "model_name": "ColorPickerModel",
      "state": {
       "description": "specular",
       "disabled": false,
       "layout": "IPY_MODEL_9b552c4d5fcb4cb5a27ef472c8be80f2",
       "style": "IPY_MODEL_537f1d906667422699e2fce4b5f31496",
       "value": "#282828"
      }
     },
     "f99d51312e7442a1b3f60bf6fe6b16a1": {
      "model_module": "pgljupyter",
      "model_module_version": "^0.1.21",
      "model_name": "MaterialEditorModel",
      "state": {
       "_model_module_version": "^0.1.21",
       "_view_module_version": "^0.1.21",
       "children": [
        "IPY_MODEL_24ef567daf684583a1b9719c63a29065",
        "IPY_MODEL_bea75cda8f8442a1a38a4e847733c703",
        "IPY_MODEL_c2205a0d7c964b6c8ed4a89cd19b8f92",
        "IPY_MODEL_891e2f6c24e942aa819fd94be0793970",
        "IPY_MODEL_d52fd3cce3b24ccfb6f4046c55f71e0a",
        "IPY_MODEL_d11c5f9a64894e40b64687ac16f2ba0a",
        "IPY_MODEL_c76ff38eb79648c091c2640ae5686f89",
        "IPY_MODEL_f00939b02b1b481eaf4beed6c5699d1f"
       ],
       "layout": "IPY_MODEL_51585e2af8b345d584039f57e61a325f"
      }
     },
     "f9cdfe3ea04d40f2bb27a0971e3774f3": {
      "model_module": "@jupyter-widgets/base",
      "model_module_version": "1.2.0",
      "model_name": "LayoutModel",
      "state": {}
     },
     "f9d90d05276440c2b0ff25f4cf787f32": {
      "model_module": "@jupyter-widgets/controls",
      "model_module_version": "1.5.0",
      "model_name": "DescriptionStyleModel",
      "state": {
       "description_width": ""
      }
     },
     "f9ee036e79134257a314bedd8f10beed": {
      "model_module": "@jupyter-widgets/controls",
      "model_module_version": "1.5.0",
      "model_name": "HBoxModel",
      "state": {
       "children": [
        "IPY_MODEL_40b8836f5c9a48a5a579b8ab931ba7aa",
        "IPY_MODEL_0dfd63902b034d3a9cf7782c9e751b71"
       ],
       "layout": "IPY_MODEL_9424c3010f3348a9bc112e2fabf01dd9"
      }
     },
     "fa3fcbaf866c47d0a6ee55fb9125c3d4": {
      "model_module": "@jupyter-widgets/controls",
      "model_module_version": "1.5.0",
      "model_name": "FloatSliderModel",
      "state": {
       "description": "shininess",
       "layout": "IPY_MODEL_0493264d976c421cbf4fe203f92091da",
       "max": 1,
       "step": 0.1,
       "style": "IPY_MODEL_19c0e5bf37c2495dba13da8f747c69e9",
       "value": 0.2
      }
     },
     "fa6085381b324435aa9032f0b10413fd": {
      "model_module": "@jupyter-widgets/base",
      "model_module_version": "1.2.0",
      "model_name": "LayoutModel",
      "state": {
       "margin": "20px 0px"
      }
     },
     "fa78c56a5cee470db3de6e4fe2ec4481": {
      "model_module": "@jupyter-widgets/controls",
      "model_module_version": "1.5.0",
      "model_name": "IntSliderModel",
      "state": {
       "description": "value",
       "layout": "IPY_MODEL_9e9b6175f07b4b388b45284c5be91fe8",
       "max": 7,
       "min": 1,
       "style": "IPY_MODEL_200bbcd159c24386b1e2e9fe9c914ff7",
       "value": 3
      }
     },
     "fab3da10c1de4f6599d1614193ca639f": {
      "model_module": "@jupyter-widgets/controls",
      "model_module_version": "1.5.0",
      "model_name": "ButtonModel",
      "state": {
       "description": "Add",
       "layout": "IPY_MODEL_2e48c81795b64dcba33d064847595389",
       "style": "IPY_MODEL_e313ecd7771845129142078320e10db3"
      }
     },
     "fabe495affa744c7b2aa42df32036e77": {
      "model_module": "@jupyter-widgets/controls",
      "model_module_version": "1.5.0",
      "model_name": "DescriptionStyleModel",
      "state": {
       "description_width": ""
      }
     },
     "fafd54646a864f0485ae172b9494da07": {
      "model_module": "@jupyter-widgets/controls",
      "model_module_version": "1.5.0",
      "model_name": "ButtonModel",
      "state": {
       "description": "Save changes",
       "layout": "IPY_MODEL_8c8cef7c9f7e4f1e84b0cd4319df23e7",
       "style": "IPY_MODEL_ad4777c7b26e4dc686420550608d2f12"
      }
     },
     "fb0c1e5b61d44683adf9f59f2d517439": {
      "model_module": "@jupyter-widgets/controls",
      "model_module_version": "1.5.0",
      "model_name": "ColorPickerModel",
      "state": {
       "description": "ambient",
       "disabled": false,
       "layout": "IPY_MODEL_c9e51a7855744cacbf121c9bb896cf32",
       "style": "IPY_MODEL_7cf3624548d34c2082dbac79e56a76bf",
       "value": "#195717"
      }
     },
     "fb1b6686319348cb96f3381131e638e7": {
      "model_module": "@jupyter-widgets/base",
      "model_module_version": "1.2.0",
      "model_name": "LayoutModel",
      "state": {}
     },
     "fb261447b1394430bbc4cbcda7f7c31a": {
      "model_module": "@jupyter-widgets/base",
      "model_module_version": "1.2.0",
      "model_name": "LayoutModel",
      "state": {}
     },
     "fb273117bed744e4a7d3e39c85368d3d": {
      "model_module": "pgljupyter",
      "model_module_version": "^0.1.19",
      "model_name": "MaterialEditorModel",
      "state": {
       "_model_module_version": "^0.1.19",
       "_view_module_version": "^0.1.19",
       "children": [
        "IPY_MODEL_bed12060ceba4494bf43652e512c3823",
        "IPY_MODEL_2bc76f78cd2740a6bbf7d58fd5b203a9",
        "IPY_MODEL_60b848e0a9d44febb7a1d3a68a4ed857",
        "IPY_MODEL_c92b975754c040e5b82b402ea1415e65",
        "IPY_MODEL_c215c775706940698bf97b3b703c91da",
        "IPY_MODEL_170f6b615a774635b281c9b6e87c2707",
        "IPY_MODEL_171326388f714eb48b0fdd7eb080c8b2",
        "IPY_MODEL_3c36699284b54bd483272ff26ed52203"
       ],
       "layout": "IPY_MODEL_1e3f2f62b72846cc8fb09a7e9d3f906d"
      }
     },
     "fb438b1cc1484336bb3533aa50de8e15": {
      "model_module": "@jupyter-widgets/base",
      "model_module_version": "1.2.0",
      "model_name": "LayoutModel",
      "state": {}
     },
     "fb7448a3ff6c4be5826e460f9f0e1ac3": {
      "model_module": "@jupyter-widgets/controls",
      "model_module_version": "1.5.0",
      "model_name": "SliderStyleModel",
      "state": {
       "description_width": ""
      }
     },
     "fb75e480e9124ea2828f538298ff8011": {
      "model_module": "@jupyter-widgets/controls",
      "model_module_version": "1.5.0",
      "model_name": "ColorPickerModel",
      "state": {
       "description": "emission",
       "disabled": false,
       "layout": "IPY_MODEL_1094bc7683de416b8ecf8f3d91396c29",
       "style": "IPY_MODEL_a26c18948d244e01af01c6897788165c",
       "value": "#000000"
      }
     },
     "fb7df1f7b61a4ed2818a12f94a3168c4": {
      "model_module": "@jupyter-widgets/controls",
      "model_module_version": "1.5.0",
      "model_name": "DescriptionStyleModel",
      "state": {
       "description_width": ""
      }
     },
     "fb890f35eb7342de80f4cca03a20aba6": {
      "model_module": "@jupyter-widgets/controls",
      "model_module_version": "1.5.0",
      "model_name": "DescriptionStyleModel",
      "state": {
       "description_width": ""
      }
     },
     "fbc28d4867664e83b912b970159719cf": {
      "model_module": "@jupyter-widgets/controls",
      "model_module_version": "1.5.0",
      "model_name": "ColorPickerModel",
      "state": {
       "description": "emission",
       "disabled": false,
       "layout": "IPY_MODEL_6791d50a53e24801abf8906493e8c15d",
       "style": "IPY_MODEL_df8389dbdb414385b534fd6eb31d6a1e",
       "value": "#000000"
      }
     },
     "fc127ff6172e4b0984f4d7a91e171c32": {
      "model_module": "@jupyter-widgets/controls",
      "model_module_version": "1.5.0",
      "model_name": "FloatSliderModel",
      "state": {
       "description": "transparency",
       "layout": "IPY_MODEL_97afb2960e67464ebd0ea7e768317b03",
       "max": 1,
       "step": 0.1,
       "style": "IPY_MODEL_8345834e21f741efb76cf84afc82297c"
      }
     },
     "fc285204d80d4fe587b6c0d1e1042610": {
      "model_module": "@jupyter-widgets/controls",
      "model_module_version": "1.5.0",
      "model_name": "DescriptionStyleModel",
      "state": {
       "description_width": ""
      }
     },
     "fc52cb14eb6140eea012a400a4676ee5": {
      "model_module": "@jupyter-widgets/base",
      "model_module_version": "1.2.0",
      "model_name": "LayoutModel",
      "state": {}
     },
     "fc73aa7236da431dac7ba2b4a124ad11": {
      "model_module": "@jupyter-widgets/controls",
      "model_module_version": "1.5.0",
      "model_name": "DescriptionStyleModel",
      "state": {
       "description_width": ""
      }
     },
     "fc7845240a5a42389a89509a28eb34dd": {
      "model_module": "@jupyter-widgets/controls",
      "model_module_version": "1.5.0",
      "model_name": "DescriptionStyleModel",
      "state": {
       "description_width": ""
      }
     },
     "fc7a4aec149a4cf08600950691200520": {
      "model_module": "@jupyter-widgets/base",
      "model_module_version": "1.2.0",
      "model_name": "LayoutModel",
      "state": {}
     },
     "fcb10f0aee304daf943e423fda4b86f2": {
      "model_module": "@jupyter-widgets/controls",
      "model_module_version": "1.5.0",
      "model_name": "ColorPickerModel",
      "state": {
       "description": "emission",
       "disabled": false,
       "layout": "IPY_MODEL_b2f08df3f7bb4655984473bbce30d2a8",
       "style": "IPY_MODEL_b1bea4580daf4865a4ab65528a99b960",
       "value": "#000000"
      }
     },
     "fcb828149d8b4587a737cf0adaca9f9c": {
      "model_module": "@jupyter-widgets/base",
      "model_module_version": "1.2.0",
      "model_name": "LayoutModel",
      "state": {}
     },
     "fcc4f1c9cd4740db81b92272d44020c6": {
      "model_module": "@jupyter-widgets/controls",
      "model_module_version": "1.5.0",
      "model_name": "ColorPickerModel",
      "state": {
       "description": "emission",
       "disabled": false,
       "layout": "IPY_MODEL_932905fe953a416bb495d9f6c2ffa4fe",
       "style": "IPY_MODEL_a8635d0de8634cffa50f768817ef709b",
       "value": "#000000"
      }
     },
     "fcdb0e54646c4bbbb1485f7cb42b4bbc": {
      "model_module": "@jupyter-widgets/controls",
      "model_module_version": "1.5.0",
      "model_name": "ButtonModel",
      "state": {
       "description": "Add",
       "layout": "IPY_MODEL_028403f5d1004d399f4c48bedf82c508",
       "style": "IPY_MODEL_c7ce13c027424623b6f2e99ab754ce1b"
      }
     },
     "fce01e4c69184a6aa0107d409c41700a": {
      "model_module": "@jupyter-widgets/controls",
      "model_module_version": "1.5.0",
      "model_name": "DescriptionStyleModel",
      "state": {
       "description_width": ""
      }
     },
     "fd08b70fb3e142cb98e6e66d7a86f160": {
      "model_module": "@jupyter-widgets/controls",
      "model_module_version": "1.5.0",
      "model_name": "DescriptionStyleModel",
      "state": {
       "description_width": ""
      }
     },
     "fd123b157eeb4540a7cc729aaa32ef3f": {
      "model_module": "@jupyter-widgets/controls",
      "model_module_version": "1.5.0",
      "model_name": "ButtonModel",
      "state": {
       "description": "Apply changes",
       "layout": "IPY_MODEL_8b9d8ab9579d479587514dba40ca7bcd",
       "style": "IPY_MODEL_907af94c6c2443389979483218e080ca"
      }
     },
     "fd273ce6761742148ac89669bc64d98d": {
      "model_module": "@jupyter-widgets/base",
      "model_module_version": "1.2.0",
      "model_name": "LayoutModel",
      "state": {
       "margin": "20px 0px"
      }
     },
     "fd39d26e27d246b281772663c5b0b1c0": {
      "model_module": "@jupyter-widgets/controls",
      "model_module_version": "1.5.0",
      "model_name": "DescriptionStyleModel",
      "state": {
       "description_width": ""
      }
     },
     "fd50b55e03484806aa3cae2a2541a1d3": {
      "model_module": "@jupyter-widgets/base",
      "model_module_version": "1.2.0",
      "model_name": "LayoutModel",
      "state": {}
     },
     "fdc7cdfb71c14e9f9ae8327b7e4919ce": {
      "model_module": "@jupyter-widgets/base",
      "model_module_version": "1.2.0",
      "model_name": "LayoutModel",
      "state": {}
     },
     "fdd783e8cd6f4152908064599bd69390": {
      "model_module": "@jupyter-widgets/base",
      "model_module_version": "1.2.0",
      "model_name": "LayoutModel",
      "state": {}
     },
     "fdfa37b789c94f49849c21a3d2bec28a": {
      "model_module": "@jupyter-widgets/base",
      "model_module_version": "1.2.0",
      "model_name": "LayoutModel",
      "state": {}
     },
     "fe19d3f5e3dc4cd99368775b1f16b8cc": {
      "model_module": "@jupyter-widgets/controls",
      "model_module_version": "1.5.0",
      "model_name": "ButtonStyleModel",
      "state": {}
     },
     "fe1ca6c5f8b149d586fe37d3f4c8d5df": {
      "model_module": "@jupyter-widgets/controls",
      "model_module_version": "1.5.0",
      "model_name": "ColorPickerModel",
      "state": {
       "description": "emission",
       "disabled": false,
       "layout": "IPY_MODEL_3ba93cb374114bc4a5fdc1c020fb99d2",
       "style": "IPY_MODEL_3036777e7fe24a1599267429c31acd12",
       "value": "#000000"
      }
     },
     "fe21590a178c49c09a36c5fb9b0fb406": {
      "model_module": "@jupyter-widgets/base",
      "model_module_version": "1.2.0",
      "model_name": "LayoutModel",
      "state": {
       "margin": "20px 0px"
      }
     },
     "fe39b8c3b9064292a4c361b7263a6c84": {
      "model_module": "@jupyter-widgets/controls",
      "model_module_version": "1.5.0",
      "model_name": "BoundedIntTextModel",
      "state": {
       "description": "index",
       "layout": "IPY_MODEL_2efed7a1fa88483699467354d3562b8e",
       "style": "IPY_MODEL_d152ff0131e44467aa1643fe2974e1b9",
       "value": 1
      }
     },
     "fe3f4751df8748c2bbaad9e702ecd866": {
      "model_module": "@jupyter-widgets/base",
      "model_module_version": "1.2.0",
      "model_name": "LayoutModel",
      "state": {
       "margin": "20px 0px"
      }
     },
     "fe47d6fcca4343b9b6744ef3bf3370a2": {
      "model_module": "@jupyter-widgets/controls",
      "model_module_version": "1.5.0",
      "model_name": "DescriptionStyleModel",
      "state": {
       "description_width": ""
      }
     },
     "fe56fa65b8da4ba39b6b1d1d00656f39": {
      "model_module": "@jupyter-widgets/base",
      "model_module_version": "1.2.0",
      "model_name": "LayoutModel",
      "state": {
       "margin": "10px 10px"
      }
     },
     "fe6fc9b954504ac48e9ea7a8339c409b": {
      "model_module": "@jupyter-widgets/controls",
      "model_module_version": "1.5.0",
      "model_name": "FloatSliderModel",
      "state": {
       "description": "transparency",
       "layout": "IPY_MODEL_71bc512b2098424d90eb915826bf82e4",
       "max": 1,
       "step": 0.1,
       "style": "IPY_MODEL_94fe467575e84f10afa968e472e6294b"
      }
     },
     "fe74346422b14408b4205e6f263ffe4f": {
      "model_module": "@jupyter-widgets/controls",
      "model_module_version": "1.5.0",
      "model_name": "TextModel",
      "state": {
       "continuous_update": false,
       "description": "name",
       "layout": "IPY_MODEL_ba1e9384615a48df95687266f1dddd8e",
       "style": "IPY_MODEL_47aa29b5402a42eebe90191e43a7f163",
       "value": "leafduration"
      }
     },
     "fe77130544c74fea9c083f6b668bcfaf": {
      "model_module": "@jupyter-widgets/controls",
      "model_module_version": "1.5.0",
      "model_name": "DescriptionStyleModel",
      "state": {
       "description_width": ""
      }
     },
     "fe924468805c4aa4b1a13f57e745e092": {
      "model_module": "@jupyter-widgets/base",
      "model_module_version": "1.2.0",
      "model_name": "LayoutModel",
      "state": {}
     },
     "fe9595ab730a4f21a90e37b95c64eb35": {
      "model_module": "@jupyter-widgets/base",
      "model_module_version": "1.2.0",
      "model_name": "LayoutModel",
      "state": {}
     },
     "fece1e7f13bd475fac0ed48c8e36b25b": {
      "model_module": "@jupyter-widgets/controls",
      "model_module_version": "1.5.0",
      "model_name": "DropdownModel",
      "state": {
       "_options_labels": [
        "NurbsCurve2D",
        "BezierCurve2D",
        "Polyline2D",
        "Function"
       ],
       "index": 0,
       "layout": "IPY_MODEL_f3f2dbabf14c4ce7bc023cc0ac7e2774",
       "style": "IPY_MODEL_6eb1ab587c7b4b10b6c7a97e430683cf"
      }
     },
     "fed9460058884e208750ebcd25227db9": {
      "model_module": "@jupyter-widgets/controls",
      "model_module_version": "1.5.0",
      "model_name": "CheckboxModel",
      "state": {
       "description": "Auto apply",
       "disabled": false,
       "layout": "IPY_MODEL_7684bf627af64c99a1beb3e9c3800d93",
       "style": "IPY_MODEL_1f1df1d84cbd4198a124c637fd5a7782",
       "value": false
      }
     },
     "fef140b17815482fac4c6efc6accb2db": {
      "model_module": "@jupyter-widgets/controls",
      "model_module_version": "1.5.0",
      "model_name": "FloatSliderModel",
      "state": {
       "description": "shininess",
       "layout": "IPY_MODEL_23b2d84440ff41cdb3f1251c2c430172",
       "max": 1,
       "step": 0.1,
       "style": "IPY_MODEL_e7fc586047f245ce97a55030431cb070",
       "value": 0.2
      }
     },
     "fef2dad388044251aeb285ace627b9c7": {
      "model_module": "@jupyter-widgets/base",
      "model_module_version": "1.2.0",
      "model_name": "LayoutModel",
      "state": {}
     },
     "ff19056acbcf40a6834375d3cb7b1e9c": {
      "model_module": "@jupyter-widgets/controls",
      "model_module_version": "1.5.0",
      "model_name": "DescriptionStyleModel",
      "state": {
       "description_width": ""
      }
     },
     "ff5127363d6d492f818c224dc47740c1": {
      "model_module": "@jupyter-widgets/controls",
      "model_module_version": "1.5.0",
      "model_name": "DescriptionStyleModel",
      "state": {
       "description_width": ""
      }
     },
     "ff9430da97704faca4a5581d596a9844": {
      "model_module": "@jupyter-widgets/base",
      "model_module_version": "1.2.0",
      "model_name": "LayoutModel",
      "state": {}
     },
     "ff98df5ff2474c69a7b7ac98b28b5e0f": {
      "model_module": "@jupyter-widgets/controls",
      "model_module_version": "1.5.0",
      "model_name": "ButtonModel",
      "state": {
       "description": "Delete",
       "layout": "IPY_MODEL_3adc644fd9d942919096f3806a27c8f1",
       "style": "IPY_MODEL_3b114d7895634592920f7407242e59d9"
      }
     },
     "ffa7968d5369463eadff716d61ff8c15": {
      "model_module": "@jupyter-widgets/base",
      "model_module_version": "1.2.0",
      "model_name": "LayoutModel",
      "state": {}
     },
     "ffb5310a7ee74b4b99b4d4eb5146d133": {
      "model_module": "@jupyter-widgets/base",
      "model_module_version": "1.2.0",
      "model_name": "LayoutModel",
      "state": {}
     },
     "ffc132e59542416ca2badbf734657ea6": {
      "model_module": "@jupyter-widgets/base",
      "model_module_version": "1.2.0",
      "model_name": "LayoutModel",
      "state": {}
     },
     "ffc34902c36642e1969fa8c466aeb653": {
      "model_module": "@jupyter-widgets/base",
      "model_module_version": "1.2.0",
      "model_name": "LayoutModel",
      "state": {
       "margin": "20px 0px"
      }
     },
     "ffd2e60a3312408a8134cc48bad3dece": {
      "model_module": "@jupyter-widgets/controls",
      "model_module_version": "1.5.0",
      "model_name": "FloatSliderModel",
      "state": {
       "description": "diffuse",
       "layout": "IPY_MODEL_9e2c5933bf4e4702ae54e16799be5b86",
       "max": 3,
       "step": 0.1,
       "style": "IPY_MODEL_1b23eb33720947ad81bbf0cc81ea07cf",
       "value": 1
      }
     },
     "ffd47b6cfe404097909f5f4870a7fc67": {
      "model_module": "@jupyter-widgets/controls",
      "model_module_version": "1.5.0",
      "model_name": "DescriptionStyleModel",
      "state": {
       "description_width": ""
      }
     },
     "ffe3a14526fc4001b47eb439d2875e4a": {
      "model_module": "@jupyter-widgets/controls",
      "model_module_version": "1.5.0",
      "model_name": "SliderStyleModel",
      "state": {
       "description_width": ""
      }
     },
     "fffdce2dbd3c478e87ffe3ab55ccfcaf": {
      "model_module": "@jupyter-widgets/base",
      "model_module_version": "1.2.0",
      "model_name": "LayoutModel",
      "state": {}
     }
    },
    "version_major": 2,
    "version_minor": 0
   }
  }
 },
 "nbformat": 4,
 "nbformat_minor": 4
}
