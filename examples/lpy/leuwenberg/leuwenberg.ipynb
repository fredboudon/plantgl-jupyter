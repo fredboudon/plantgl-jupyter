{
 "cells": [
  {
   "cell_type": "code",
   "execution_count": 1,
   "metadata": {},
   "outputs": [],
   "source": [
    "from pgljupyter import LsystemWidget"
   ]
  },
  {
   "cell_type": "code",
   "execution_count": 2,
   "metadata": {},
   "outputs": [],
   "source": [
    "lw = LsystemWidget('leuwenberg.lpy',\n",
    "    unit='m',\n",
    "    size_display=(600, 400),\n",
    "    size_world=50, animate=True\n",
    ")"
   ]
  },
  {
   "cell_type": "code",
   "execution_count": 3,
   "metadata": {},
   "outputs": [
    {
     "data": {
      "application/vnd.jupyter.widget-view+json": {
       "model_id": "6a9570578894414ebd3507f4aa341efc",
       "version_major": 2,
       "version_minor": 0
      },
      "text/plain": [
       "LsystemWidget(animate=True, derivationLength=42, scene={'data': b'x\\xdaSLrw\\xf5\\xf7e`Pp\\xe0\\xe5RPVVde```be\\x08…"
      ]
     },
     "metadata": {},
     "output_type": "display_data"
    }
   ],
   "source": [
    "lw"
   ]
  },
  {
   "cell_type": "code",
   "execution_count": 4,
   "metadata": {},
   "outputs": [
    {
     "data": {
      "application/vnd.jupyter.widget-view+json": {
       "model_id": "09963fa2ce5e420ab1d9fea614e93db0",
       "version_major": 2,
       "version_minor": 0
      },
      "text/plain": [
       "ParameterEditor(children=(VBox(children=(HBox(children=(HBox(children=(Button(description='Apply changes', sty…"
      ]
     },
     "metadata": {},
     "output_type": "display_data"
    }
   ],
   "source": [
    "lw.editor"
   ]
  },
  {
   "cell_type": "code",
   "execution_count": null,
   "metadata": {},
   "outputs": [],
   "source": []
  }
 ],
 "metadata": {
  "kernelspec": {
   "display_name": "Python 3",
   "language": "python",
   "name": "python3"
  },
  "language_info": {
   "codemirror_mode": {
    "name": "ipython",
    "version": 3
   },
   "file_extension": ".py",
   "mimetype": "text/x-python",
   "name": "python",
   "nbconvert_exporter": "python",
   "pygments_lexer": "ipython3",
   "version": "3.8.5"
  },
  "widgets": {
   "application/vnd.jupyter.widget-state+json": {
    "state": {
     "0003eef9dd3941f89ac65b920608e8dc": {
      "model_module": "@jupyter-widgets/controls",
      "model_module_version": "1.5.0",
      "model_name": "TextModel",
      "state": {
       "continuous_update": false,
       "description": "name",
       "layout": "IPY_MODEL_0d347c8d511c4ca99b99c3030263eb62",
       "style": "IPY_MODEL_0c375f6ffc5f415bbfbaa228315317b0",
       "value": "leafold"
      }
     },
     "0010fef821bc48b083984f720d45fe40": {
      "model_module": "@jupyter-widgets/controls",
      "model_module_version": "1.5.0",
      "model_name": "SliderStyleModel",
      "state": {
       "description_width": ""
      }
     },
     "004fe4bded924a9a932e3394f3befd69": {
      "model_module": "@jupyter-widgets/controls",
      "model_module_version": "1.5.0",
      "model_name": "IntSliderModel",
      "state": {
       "description": "value",
       "layout": "IPY_MODEL_66d7a1826e15429d8f8f2cf795ccb6c1",
       "max": 10,
       "min": 1,
       "style": "IPY_MODEL_d59eedfe91e040bd83b09d32a1718f4b",
       "value": 2
      }
     },
     "0095f53d7b9d447db6885939bd2cb620": {
      "model_module": "@jupyter-widgets/controls",
      "model_module_version": "1.5.0",
      "model_name": "DescriptionStyleModel",
      "state": {
       "description_width": ""
      }
     },
     "0098827af4e640a7995f79067eabb137": {
      "model_module": "@jupyter-widgets/controls",
      "model_module_version": "1.5.0",
      "model_name": "DescriptionStyleModel",
      "state": {
       "description_width": ""
      }
     },
     "00d6b976c7584356bc8ace10cc276390": {
      "model_module": "@jupyter-widgets/controls",
      "model_module_version": "1.5.0",
      "model_name": "FloatSliderModel",
      "state": {
       "description": "diffuse",
       "layout": "IPY_MODEL_d18e48c309db4852aa5cdc3da1012b6e",
       "max": 3,
       "step": 0.1,
       "style": "IPY_MODEL_5493e679c57d4a0689415a4a88aea275",
       "value": 1
      }
     },
     "0108f7fc56644931b6e9ab7e757df267": {
      "model_module": "@jupyter-widgets/controls",
      "model_module_version": "1.5.0",
      "model_name": "FloatSliderModel",
      "state": {
       "description": "transparency",
       "layout": "IPY_MODEL_9d18be69857d479da54872b16cad623b",
       "max": 1,
       "step": 0.1,
       "style": "IPY_MODEL_90f65d5e0f7d4ba297b91d7381a9b694"
      }
     },
     "0152374133564b448491bef7e0098d98": {
      "model_module": "@jupyter-widgets/base",
      "model_module_version": "1.2.0",
      "model_name": "LayoutModel",
      "state": {}
     },
     "015a0162e977482199ff9aa70a46096a": {
      "model_module": "@jupyter-widgets/controls",
      "model_module_version": "1.5.0",
      "model_name": "DescriptionStyleModel",
      "state": {
       "description_width": ""
      }
     },
     "01a9830728ff43debfe68c7ed9c0c0f1": {
      "model_module": "@jupyter-widgets/base",
      "model_module_version": "1.2.0",
      "model_name": "LayoutModel",
      "state": {}
     },
     "0241bcf8e4d449588382dcfa0fadf1f7": {
      "model_module": "@jupyter-widgets/controls",
      "model_module_version": "1.5.0",
      "model_name": "BoundedIntTextModel",
      "state": {
       "description": "index",
       "layout": "IPY_MODEL_3bd8c5155e614aa49b91b3ee03106bb8",
       "style": "IPY_MODEL_8b50cab205524c5684de777fe16b12c6",
       "value": 3
      }
     },
     "024c0a7ea2924ff5a9d4b4e8dd33f20f": {
      "model_module": "@jupyter-widgets/base",
      "model_module_version": "1.2.0",
      "model_name": "LayoutModel",
      "state": {}
     },
     "0265533bc3464ca7a91abeccee38a36a": {
      "model_module": "@jupyter-widgets/controls",
      "model_module_version": "1.5.0",
      "model_name": "DescriptionStyleModel",
      "state": {
       "description_width": ""
      }
     },
     "026723ae658e489db0402b1860155fde": {
      "model_module": "@jupyter-widgets/base",
      "model_module_version": "1.2.0",
      "model_name": "LayoutModel",
      "state": {}
     },
     "028403f5d1004d399f4c48bedf82c508": {
      "model_module": "@jupyter-widgets/base",
      "model_module_version": "1.2.0",
      "model_name": "LayoutModel",
      "state": {}
     },
     "02a935317d5e4652b323d2ec7d9e44eb": {
      "model_module": "@jupyter-widgets/controls",
      "model_module_version": "1.5.0",
      "model_name": "DropdownModel",
      "state": {
       "_options_labels": [
        "leafduration",
        "leafold"
       ],
       "index": 0,
       "layout": "IPY_MODEL_7c495f80dfa7400dbddaade48310293e",
       "style": "IPY_MODEL_7854ff74524f4fe689ec29f12ee822fa"
      }
     },
     "02cd8be6c855476f923f34ecaade3abd": {
      "model_module": "@jupyter-widgets/base",
      "model_module_version": "1.2.0",
      "model_name": "LayoutModel",
      "state": {}
     },
     "0300001a45404b209a36c5be9117a9b4": {
      "model_module": "@jupyter-widgets/controls",
      "model_module_version": "1.5.0",
      "model_name": "AccordionModel",
      "state": {
       "_titles": {
        "0": "materials",
        "1": "leaf"
       },
       "children": [
        "IPY_MODEL_edf9693f28bf40b480d44c9fe1f0e7bd",
        "IPY_MODEL_93e9e1a13f404740b06bcbb3b04fbbe8"
       ],
       "layout": "IPY_MODEL_83d1112a98b24ad985e153a4de2805d3"
      }
     },
     "0366a0590c4e4687a64fd5d1d1a58442": {
      "model_module": "@jupyter-widgets/controls",
      "model_module_version": "1.5.0",
      "model_name": "DescriptionStyleModel",
      "state": {
       "description_width": ""
      }
     },
     "039429b73bae419cac4d3913fcdbfdbc": {
      "model_module": "pgljupyter",
      "model_module_version": "^0.1.18",
      "model_name": "IntEditorModel",
      "state": {
       "_model_module_version": "^0.1.18",
       "_view_module_version": "^0.1.18",
       "children": [
        "IPY_MODEL_310624f7b16b4f028b5ca1be66aaddee",
        "IPY_MODEL_058f89ece3f44754b73b35d4bbeebeea"
       ],
       "layout": "IPY_MODEL_cdf37350d48b41aa95e2f22bc8635d1f"
      }
     },
     "0414cc8a90c64c448f20ab6c7de8a484": {
      "model_module": "@jupyter-widgets/controls",
      "model_module_version": "1.5.0",
      "model_name": "DropdownModel",
      "state": {
       "_options_labels": [
        "Color"
       ],
       "index": 0,
       "layout": "IPY_MODEL_d56364ff1cc441588f37f856b104fb7f",
       "style": "IPY_MODEL_69adca6b2b7d471ca668269a5c227e1f"
      }
     },
     "044e7d5484c34640988858fe96fcfdd6": {
      "model_module": "@jupyter-widgets/controls",
      "model_module_version": "1.5.0",
      "model_name": "DropdownModel",
      "state": {
       "_options_labels": [
        "NurbsCurve2D",
        "BezierCurve2D",
        "Polyline2D",
        "Function"
       ],
       "index": 0,
       "layout": "IPY_MODEL_29963b5130614ef58373b07536e44942",
       "style": "IPY_MODEL_8eb293d9f1ca49e4a0d8a5d438b925e5"
      }
     },
     "0493264d976c421cbf4fe203f92091da": {
      "model_module": "@jupyter-widgets/base",
      "model_module_version": "1.2.0",
      "model_name": "LayoutModel",
      "state": {}
     },
     "0499384873a04178a41a7a611d6d08dc": {
      "model_module": "@jupyter-widgets/base",
      "model_module_version": "1.2.0",
      "model_name": "LayoutModel",
      "state": {}
     },
     "04bf48cf21fd4ef3b2fc2c87f891da0a": {
      "model_module": "@jupyter-widgets/base",
      "model_module_version": "1.2.0",
      "model_name": "LayoutModel",
      "state": {}
     },
     "04c46391563944e09f827e89ec2715fa": {
      "model_module": "@jupyter-widgets/base",
      "model_module_version": "1.2.0",
      "model_name": "LayoutModel",
      "state": {}
     },
     "04cbb9188a174a70bb551de95a1ec0a3": {
      "model_module": "@jupyter-widgets/controls",
      "model_module_version": "1.5.0",
      "model_name": "ButtonModel",
      "state": {
       "description": "Apply changes",
       "layout": "IPY_MODEL_ef8bbf3c99984ea7a0ada6febc787943",
       "style": "IPY_MODEL_cc25751e00dd443fb5153b58575d586f"
      }
     },
     "04fd9850624b45509d3404170dfb2b93": {
      "model_module": "@jupyter-widgets/controls",
      "model_module_version": "1.5.0",
      "model_name": "HBoxModel",
      "state": {
       "children": [
        "IPY_MODEL_83f82817d8894598b39eea4838260197",
        "IPY_MODEL_3bcea9f32a2f480c95fd4897749b2ca9"
       ],
       "layout": "IPY_MODEL_df696dde9f0e41c2be1075f4577638d5"
      }
     },
     "05158b063b184ffe96c65e42e171536a": {
      "model_module": "@jupyter-widgets/base",
      "model_module_version": "1.2.0",
      "model_name": "LayoutModel",
      "state": {}
     },
     "055dec0cea5041829e855a22e1086bb8": {
      "model_module": "@jupyter-widgets/base",
      "model_module_version": "1.2.0",
      "model_name": "LayoutModel",
      "state": {}
     },
     "057fc401feeb40d0858ffb015d0b71f2": {
      "model_module": "@jupyter-widgets/base",
      "model_module_version": "1.2.0",
      "model_name": "LayoutModel",
      "state": {
       "margin": "20px 0px"
      }
     },
     "058c249a39c04bedbadbabfd56c8cbca": {
      "model_module": "@jupyter-widgets/controls",
      "model_module_version": "1.5.0",
      "model_name": "ColorPickerModel",
      "state": {
       "description": "ambient",
       "disabled": false,
       "layout": "IPY_MODEL_16cce7023d354ddfba60e067833ebb2b",
       "style": "IPY_MODEL_f9d90d05276440c2b0ff25f4cf787f32",
       "value": "#e1a014"
      }
     },
     "058f89ece3f44754b73b35d4bbeebeea": {
      "model_module": "@jupyter-widgets/controls",
      "model_module_version": "1.5.0",
      "model_name": "IntSliderModel",
      "state": {
       "description": "value",
       "layout": "IPY_MODEL_28dbfeb66b4146699787fc4516f4869c",
       "max": 10,
       "min": 1,
       "style": "IPY_MODEL_6606341d02fc439dbd25cdd30951c0c4",
       "value": 2
      }
     },
     "05a5ce6fe609440eaac4fb1a88000fa7": {
      "model_module": "@jupyter-widgets/controls",
      "model_module_version": "1.5.0",
      "model_name": "DescriptionStyleModel",
      "state": {
       "description_width": ""
      }
     },
     "06a4c0bb621c49b0a886a6f2d4b71f84": {
      "model_module": "@jupyter-widgets/controls",
      "model_module_version": "1.5.0",
      "model_name": "BoundedIntTextModel",
      "state": {
       "description": "step",
       "layout": "IPY_MODEL_7015fbbda9c047b391aecaeef63cd104",
       "min": 1,
       "style": "IPY_MODEL_1a8e5e8102f24f6788a2e4825cfd5527",
       "value": 1
      }
     },
     "06c676714abc45c2bd668d409b3f913f": {
      "model_module": "@jupyter-widgets/base",
      "model_module_version": "1.2.0",
      "model_name": "LayoutModel",
      "state": {}
     },
     "06da4c288f8b48efae9708615015dd07": {
      "model_module": "@jupyter-widgets/controls",
      "model_module_version": "1.5.0",
      "model_name": "ColorPickerModel",
      "state": {
       "description": "emission",
       "disabled": false,
       "layout": "IPY_MODEL_b2dff12eb7f74161896fad4ff14e216e",
       "style": "IPY_MODEL_5b06ffa55f8c4305b3bf43c5d33fe5f6",
       "value": "#000000"
      }
     },
     "0728179a541f413fa5aae643b0fd424c": {
      "model_module": "@jupyter-widgets/base",
      "model_module_version": "1.2.0",
      "model_name": "LayoutModel",
      "state": {}
     },
     "077c655a00ab41bb91239523d5e0bf21": {
      "model_module": "@jupyter-widgets/controls",
      "model_module_version": "1.5.0",
      "model_name": "ColorPickerModel",
      "state": {
       "description": "emission",
       "disabled": false,
       "layout": "IPY_MODEL_b5ad4c581bca4efb9e0e4e91dd0fc2fd",
       "style": "IPY_MODEL_3b8516e57df04b72aa4033410b7cc6fb",
       "value": "#000000"
      }
     },
     "0878b557ddb746429eeb675a0056475d": {
      "model_module": "@jupyter-widgets/base",
      "model_module_version": "1.2.0",
      "model_name": "LayoutModel",
      "state": {}
     },
     "08a086db9f984b649195bfba6e845663": {
      "model_module": "@jupyter-widgets/base",
      "model_module_version": "1.2.0",
      "model_name": "LayoutModel",
      "state": {}
     },
     "08c9c604a4d44fa3be0d38a0cee344e7": {
      "model_module": "@jupyter-widgets/controls",
      "model_module_version": "1.5.0",
      "model_name": "ButtonModel",
      "state": {
       "description": "Apply changes",
       "layout": "IPY_MODEL_0878b557ddb746429eeb675a0056475d",
       "style": "IPY_MODEL_a9567de3ebd14a1ea85f21b1ea294e13"
      }
     },
     "09963fa2ce5e420ab1d9fea614e93db0": {
      "model_module": "pgljupyter",
      "model_module_version": "^0.1.18",
      "model_name": "ParameterEditorModel",
      "state": {
       "_model_module_version": "^0.1.18",
       "_view_module_version": "^0.1.18",
       "children": [
        "IPY_MODEL_49142d5fe84f451ca57bf7979546be3b"
       ],
       "layout": "IPY_MODEL_72233f9b078644c7b23019e335582338"
      }
     },
     "09ab73e88d6a48cf971284095d2d93ee": {
      "model_module": "@jupyter-widgets/controls",
      "model_module_version": "1.5.0",
      "model_name": "SliderStyleModel",
      "state": {
       "description_width": ""
      }
     },
     "09b8c80f45194de3b8dde10dedf91332": {
      "model_module": "@jupyter-widgets/controls",
      "model_module_version": "1.5.0",
      "model_name": "SliderStyleModel",
      "state": {
       "description_width": ""
      }
     },
     "09b9272d2fe1478a8549297784bc14dc": {
      "model_module": "@jupyter-widgets/base",
      "model_module_version": "1.2.0",
      "model_name": "LayoutModel",
      "state": {}
     },
     "09f0b20c3d9a4a7b8d6f767b7e7153d6": {
      "model_module": "@jupyter-widgets/base",
      "model_module_version": "1.2.0",
      "model_name": "LayoutModel",
      "state": {}
     },
     "09fe84e4c04243fdb4d5769ae0bf8f00": {
      "model_module": "@jupyter-widgets/base",
      "model_module_version": "1.2.0",
      "model_name": "LayoutModel",
      "state": {}
     },
     "0a200097686c4829bf34b9b3a60ec5a8": {
      "model_module": "@jupyter-widgets/controls",
      "model_module_version": "1.5.0",
      "model_name": "DescriptionStyleModel",
      "state": {
       "description_width": ""
      }
     },
     "0a40116d2d3a429698a87f2d38fdcbf3": {
      "model_module": "@jupyter-widgets/base",
      "model_module_version": "1.2.0",
      "model_name": "LayoutModel",
      "state": {}
     },
     "0a5f03bd97534a8ca13154d454ca0303": {
      "model_module": "@jupyter-widgets/base",
      "model_module_version": "1.2.0",
      "model_name": "LayoutModel",
      "state": {}
     },
     "0a8707e65f2346558a9ab598cc46de95": {
      "model_module": "@jupyter-widgets/controls",
      "model_module_version": "1.5.0",
      "model_name": "DescriptionStyleModel",
      "state": {
       "description_width": ""
      }
     },
     "0aafc59276204d4698648b7214e955f0": {
      "model_module": "@jupyter-widgets/controls",
      "model_module_version": "1.5.0",
      "model_name": "FloatSliderModel",
      "state": {
       "description": "shininess",
       "layout": "IPY_MODEL_8f5d620157024ed59ea59efe6b680541",
       "max": 1,
       "step": 0.1,
       "style": "IPY_MODEL_edf855758a43462cb032faf769489da2",
       "value": 0.2
      }
     },
     "0adb42962e0d46d8a508e6187f7b3e19": {
      "model_module": "@jupyter-widgets/controls",
      "model_module_version": "1.5.0",
      "model_name": "ButtonStyleModel",
      "state": {}
     },
     "0aea6c9bfdb24c3a9046b8a0c0ca6aa6": {
      "model_module": "@jupyter-widgets/controls",
      "model_module_version": "1.5.0",
      "model_name": "SliderStyleModel",
      "state": {
       "description_width": ""
      }
     },
     "0af1bb03cbd844ea9bfc0d9b864d0f8d": {
      "model_module": "@jupyter-widgets/base",
      "model_module_version": "1.2.0",
      "model_name": "LayoutModel",
      "state": {}
     },
     "0b0218a48fab482ca3ef910ddb9948e7": {
      "model_module": "@jupyter-widgets/base",
      "model_module_version": "1.2.0",
      "model_name": "LayoutModel",
      "state": {}
     },
     "0b86b005791f45fb93ef1e515e62e1e2": {
      "model_module": "@jupyter-widgets/controls",
      "model_module_version": "1.5.0",
      "model_name": "DescriptionStyleModel",
      "state": {
       "description_width": ""
      }
     },
     "0ba2cab9cc9d4511aad569640dfc3012": {
      "model_module": "@jupyter-widgets/controls",
      "model_module_version": "1.5.0",
      "model_name": "DescriptionStyleModel",
      "state": {
       "description_width": ""
      }
     },
     "0c2bee5a70fb46b2acac86b96cb0aab2": {
      "model_module": "@jupyter-widgets/controls",
      "model_module_version": "1.5.0",
      "model_name": "HBoxModel",
      "state": {
       "children": [
        "IPY_MODEL_7cdabb93fcbc40419bf289a63174c418",
        "IPY_MODEL_a168b04a2dbf49739b7e62715ebafb2f"
       ],
       "layout": "IPY_MODEL_4d77f69f74244057baec36b232f87f78"
      }
     },
     "0c375f6ffc5f415bbfbaa228315317b0": {
      "model_module": "@jupyter-widgets/controls",
      "model_module_version": "1.5.0",
      "model_name": "DescriptionStyleModel",
      "state": {
       "description_width": ""
      }
     },
     "0c3945d18ad84ce68b356bc7fec1acc8": {
      "model_module": "@jupyter-widgets/controls",
      "model_module_version": "1.5.0",
      "model_name": "ButtonModel",
      "state": {
       "description": "Delete",
       "layout": "IPY_MODEL_68a0a5b32660431c972bf9ccdf174f33",
       "style": "IPY_MODEL_5dec0cf2269d486da8492dee4e84b3f8"
      }
     },
     "0c3bbdec026d428494f07dd37de034a8": {
      "model_module": "@jupyter-widgets/controls",
      "model_module_version": "1.5.0",
      "model_name": "HBoxModel",
      "state": {
       "children": [
        "IPY_MODEL_9f2dbce166f945239d5998018bbaae65",
        "IPY_MODEL_5eac464e5de54b27a961eb229e40565b"
       ],
       "layout": "IPY_MODEL_fcb828149d8b4587a737cf0adaca9f9c"
      }
     },
     "0c4ef21d02cd4d5098cab60592f95c54": {
      "model_module": "@jupyter-widgets/base",
      "model_module_version": "1.2.0",
      "model_name": "LayoutModel",
      "state": {}
     },
     "0c7c19e5f2d64c77816e00b8b2cd8eea": {
      "model_module": "@jupyter-widgets/base",
      "model_module_version": "1.2.0",
      "model_name": "LayoutModel",
      "state": {}
     },
     "0c8a2a58cf5a4f328c2bf47875084bee": {
      "model_module": "@jupyter-widgets/base",
      "model_module_version": "1.2.0",
      "model_name": "LayoutModel",
      "state": {}
     },
     "0ca1da812e904b3597a1f8d0066aa817": {
      "model_module": "@jupyter-widgets/controls",
      "model_module_version": "1.5.0",
      "model_name": "IntSliderModel",
      "state": {
       "description": "value",
       "layout": "IPY_MODEL_3fb78370b75d48e69e4114fc1065c34c",
       "max": 10,
       "min": 1,
       "style": "IPY_MODEL_ef02132854ed4c2993d244c63b2f1da8",
       "value": 2
      }
     },
     "0cb243c061d34b35a8ad51de93b3548a": {
      "model_module": "@jupyter-widgets/controls",
      "model_module_version": "1.5.0",
      "model_name": "DescriptionStyleModel",
      "state": {
       "description_width": ""
      }
     },
     "0ce5322222f04cda8b64b0849f810223": {
      "model_module": "@jupyter-widgets/controls",
      "model_module_version": "1.5.0",
      "model_name": "DescriptionStyleModel",
      "state": {
       "description_width": ""
      }
     },
     "0d2e16e55e4f4049983e0cbb83eb2316": {
      "model_module": "@jupyter-widgets/controls",
      "model_module_version": "1.5.0",
      "model_name": "DescriptionStyleModel",
      "state": {
       "description_width": ""
      }
     },
     "0d310866a28c4c1ab0562409f5a1baa5": {
      "model_module": "@jupyter-widgets/controls",
      "model_module_version": "1.5.0",
      "model_name": "TextModel",
      "state": {
       "continuous_update": false,
       "description": "name",
       "layout": "IPY_MODEL_ec80a43c5a3b4523b4da1e7a74a8af65",
       "style": "IPY_MODEL_2db8651a2bd342e7b9af50736d9bfac4",
       "value": "nb_axes"
      }
     },
     "0d347c8d511c4ca99b99c3030263eb62": {
      "model_module": "@jupyter-widgets/base",
      "model_module_version": "1.2.0",
      "model_name": "LayoutModel",
      "state": {}
     },
     "0d6a37d535614710acb801033c6e1b4b": {
      "model_module": "@jupyter-widgets/base",
      "model_module_version": "1.2.0",
      "model_name": "LayoutModel",
      "state": {}
     },
     "0d8106747f5f4d0a81928341852045a2": {
      "model_module": "@jupyter-widgets/base",
      "model_module_version": "1.2.0",
      "model_name": "LayoutModel",
      "state": {}
     },
     "0daf2556cff5466a8f88c6b061377e55": {
      "model_module": "@jupyter-widgets/base",
      "model_module_version": "1.2.0",
      "model_name": "LayoutModel",
      "state": {}
     },
     "0dd2e4883c6742ebb5b505b2aecc37c1": {
      "model_module": "@jupyter-widgets/controls",
      "model_module_version": "1.5.0",
      "model_name": "DescriptionStyleModel",
      "state": {
       "description_width": ""
      }
     },
     "0ddc4da3ab684f75a000be5326010a3f": {
      "model_module": "@jupyter-widgets/controls",
      "model_module_version": "1.5.0",
      "model_name": "ButtonModel",
      "state": {
       "description": "Delete",
       "layout": "IPY_MODEL_df83175491804b5cb47348424a380b78",
       "style": "IPY_MODEL_1145eb1b6344415fbe5da4345ed32841"
      }
     },
     "0df3c48cd89940ce80485ec6fb57722c": {
      "model_module": "@jupyter-widgets/controls",
      "model_module_version": "1.5.0",
      "model_name": "HBoxModel",
      "state": {
       "children": [
        "IPY_MODEL_e9ac5fcbb97347d7a1f9f9cc7558252d",
        "IPY_MODEL_f9ee036e79134257a314bedd8f10beed"
       ],
       "layout": "IPY_MODEL_78dff3c9b0ab4092885a4681b708b9c4"
      }
     },
     "0dfd63902b034d3a9cf7782c9e751b71": {
      "model_module": "@jupyter-widgets/controls",
      "model_module_version": "1.5.0",
      "model_name": "DropdownModel",
      "state": {
       "_options_labels": [
        "trunk",
        "leaf_new",
        "apex",
        "leaf_old"
       ],
       "index": 0,
       "layout": "IPY_MODEL_d03612b14f984819821e89add2e8abfb",
       "style": "IPY_MODEL_81614fbd057b49b38cf6c260521fd79e"
      }
     },
     "0e1758e5f97c4775894b0a98513a546f": {
      "model_module": "@jupyter-widgets/controls",
      "model_module_version": "1.5.0",
      "model_name": "ButtonModel",
      "state": {
       "description": "Add",
       "layout": "IPY_MODEL_2fa0e323165245eba4d3e15b8215c92f",
       "style": "IPY_MODEL_d32aaba5fabf43e1a51a446cc716f021"
      }
     },
     "0e698e6988a94950922b8014c320bdf8": {
      "model_module": "@jupyter-widgets/base",
      "model_module_version": "1.2.0",
      "model_name": "LayoutModel",
      "state": {}
     },
     "0ebdabd5351f4a218569ece12d364cf5": {
      "model_module": "@jupyter-widgets/controls",
      "model_module_version": "1.5.0",
      "model_name": "ButtonModel",
      "state": {
       "description": "Delete category",
       "layout": "IPY_MODEL_468860202d6c4c5cbdaf75ab248c2dfa",
       "style": "IPY_MODEL_68be4ec169ab4ce9929d4231bbdfaad7"
      }
     },
     "0ec5645a3bf34b6a84616a6784979782": {
      "model_module": "@jupyter-widgets/base",
      "model_module_version": "1.2.0",
      "model_name": "LayoutModel",
      "state": {}
     },
     "0edf0711fcd443488bc2bd1811f52c38": {
      "model_module": "@jupyter-widgets/base",
      "model_module_version": "1.2.0",
      "model_name": "LayoutModel",
      "state": {
       "flex_flow": "row wrap",
       "margin": "20px"
      }
     },
     "0f0d4a7590e043609aea67d90c471282": {
      "model_module": "@jupyter-widgets/base",
      "model_module_version": "1.2.0",
      "model_name": "LayoutModel",
      "state": {}
     },
     "0f41b5c50bdb442a8ef61d9d982b922d": {
      "model_module": "@jupyter-widgets/controls",
      "model_module_version": "1.5.0",
      "model_name": "ButtonStyleModel",
      "state": {}
     },
     "0f79a7c69fb34b2d9f55d3a3cfb5c585": {
      "model_module": "@jupyter-widgets/base",
      "model_module_version": "1.2.0",
      "model_name": "LayoutModel",
      "state": {}
     },
     "0f84ed044f5d499287d57c8c98211fae": {
      "model_module": "@jupyter-widgets/controls",
      "model_module_version": "1.5.0",
      "model_name": "IntTextModel",
      "state": {
       "description": "max",
       "layout": "IPY_MODEL_f41d2bc09ad24d97b1e0e97f75537487",
       "step": 1,
       "style": "IPY_MODEL_a2eb67920af64606babedcf49f3ac443",
       "value": 10
      }
     },
     "0fa6ede50ab0406a9807f2c9a03af12c": {
      "model_module": "@jupyter-widgets/controls",
      "model_module_version": "1.5.0",
      "model_name": "ButtonStyleModel",
      "state": {}
     },
     "0fbcef905dc549ebb51d1bcd20ade1b3": {
      "model_module": "@jupyter-widgets/controls",
      "model_module_version": "1.5.0",
      "model_name": "SliderStyleModel",
      "state": {
       "description_width": ""
      }
     },
     "0fbf4f04c7844825967a392870b05c3c": {
      "model_module": "@jupyter-widgets/base",
      "model_module_version": "1.2.0",
      "model_name": "LayoutModel",
      "state": {}
     },
     "10203e2cc2ca454cbb746ee2e79b4d81": {
      "model_module": "@jupyter-widgets/controls",
      "model_module_version": "1.5.0",
      "model_name": "SliderStyleModel",
      "state": {
       "description_width": ""
      }
     },
     "1042939b8e694adbb61cbf705e83ecb6": {
      "model_module": "@jupyter-widgets/base",
      "model_module_version": "1.2.0",
      "model_name": "LayoutModel",
      "state": {
       "margin": "20px 0px"
      }
     },
     "1049120221a44f9698ad8be47c2dd830": {
      "model_module": "@jupyter-widgets/base",
      "model_module_version": "1.2.0",
      "model_name": "LayoutModel",
      "state": {}
     },
     "10cf3b81371e442e9ea401ba90dc6424": {
      "model_module": "@jupyter-widgets/controls",
      "model_module_version": "1.5.0",
      "model_name": "ButtonStyleModel",
      "state": {}
     },
     "113da8bbf28f4da4a88ba0f9cabd4ebb": {
      "model_module": "@jupyter-widgets/controls",
      "model_module_version": "1.5.0",
      "model_name": "DescriptionStyleModel",
      "state": {
       "description_width": ""
      }
     },
     "1145eb1b6344415fbe5da4345ed32841": {
      "model_module": "@jupyter-widgets/controls",
      "model_module_version": "1.5.0",
      "model_name": "ButtonStyleModel",
      "state": {}
     },
     "117c3751605b49da9649139f8f836205": {
      "model_module": "@jupyter-widgets/controls",
      "model_module_version": "1.5.0",
      "model_name": "FloatSliderModel",
      "state": {
       "description": "diffuse",
       "layout": "IPY_MODEL_29c4bd8332b8480e91c8c5587019d711",
       "max": 3,
       "step": 0.1,
       "style": "IPY_MODEL_68b2471e08bd43108da250cbe509f4c8",
       "value": 1
      }
     },
     "11a1fde1334e44b3bc445b44cfccd1ee": {
      "model_module": "@jupyter-widgets/controls",
      "model_module_version": "1.5.0",
      "model_name": "DescriptionStyleModel",
      "state": {
       "description_width": ""
      }
     },
     "11d8025c13d9418dab33da381333379c": {
      "model_module": "@jupyter-widgets/controls",
      "model_module_version": "1.5.0",
      "model_name": "ButtonStyleModel",
      "state": {}
     },
     "129b9808260140be91fe527eb514555e": {
      "model_module": "@jupyter-widgets/controls",
      "model_module_version": "1.5.0",
      "model_name": "HBoxModel",
      "state": {
       "children": [
        "IPY_MODEL_893cf04f7b474264b2019b1d9ef10da0"
       ],
       "layout": "IPY_MODEL_4d77f69f74244057baec36b232f87f78"
      }
     },
     "12b07df7fcbf4176ac7229ec42a4a560": {
      "model_module": "@jupyter-widgets/controls",
      "model_module_version": "1.5.0",
      "model_name": "DescriptionStyleModel",
      "state": {
       "description_width": ""
      }
     },
     "12e643a8ee7244a48d10e4c9dc50c23c": {
      "model_module": "@jupyter-widgets/base",
      "model_module_version": "1.2.0",
      "model_name": "LayoutModel",
      "state": {
       "margin": "20px 0px"
      }
     },
     "13011f0d15864a1ba3f2543ade23483a": {
      "model_module": "@jupyter-widgets/controls",
      "model_module_version": "1.5.0",
      "model_name": "ButtonModel",
      "state": {
       "description": "Add",
       "layout": "IPY_MODEL_afd16820af884a958cef4c29e98f66cd",
       "style": "IPY_MODEL_d42dda3cd9cf477195bbad7f92515edb"
      }
     },
     "1310fd264c314fc6ba058b93e9e20982": {
      "model_module": "@jupyter-widgets/base",
      "model_module_version": "1.2.0",
      "model_name": "LayoutModel",
      "state": {}
     },
     "1333161370364dc18b62b527843bccdf": {
      "model_module": "@jupyter-widgets/controls",
      "model_module_version": "1.5.0",
      "model_name": "HBoxModel",
      "state": {
       "children": [
        "IPY_MODEL_a5d0d447b1394b03986172fc7562d1f4",
        "IPY_MODEL_9bee7a831530488d8f1b62a13071e4a1"
       ],
       "layout": "IPY_MODEL_f7ff34c66d4b431c8d7a458913ac23de"
      }
     },
     "134a756a9b454b73bb8ed6d12d756e98": {
      "model_module": "@jupyter-widgets/base",
      "model_module_version": "1.2.0",
      "model_name": "LayoutModel",
      "state": {
       "margin": "20px 0px"
      }
     },
     "1353b6016646410798b195d84bc20e50": {
      "model_module": "pgljupyter",
      "model_module_version": "^0.1.16",
      "model_name": "MaterialEditorModel",
      "state": {
       "_model_module_version": "^0.1.16",
       "_view_module_version": "^0.1.16",
       "children": [
        "IPY_MODEL_896cb2a6eee44f0099cfa8dd5b2da22f",
        "IPY_MODEL_ca048b3e6ffe42779d97a92813a975b0",
        "IPY_MODEL_ae40200d7fdc43a69f8f57ce27d6891b",
        "IPY_MODEL_2c07ac220de942ccb12377bf94366b14",
        "IPY_MODEL_21350d8100af4acbbbba14f68c856baa",
        "IPY_MODEL_4c6828d30e454b219dd59636daba61a2",
        "IPY_MODEL_b11599f0c8c340be874b6f91e49e147c",
        "IPY_MODEL_e72c590e7a184b6fb4ad01d25e4545a9"
       ],
       "layout": "IPY_MODEL_24700b060af14c8981e7fbfedeade0f8"
      }
     },
     "13642e1addcd465cbd7d516a101c2713": {
      "model_module": "@jupyter-widgets/base",
      "model_module_version": "1.2.0",
      "model_name": "LayoutModel",
      "state": {}
     },
     "1381a5f505a041c5a6944ee0787a8c0c": {
      "model_module": "@jupyter-widgets/controls",
      "model_module_version": "1.5.0",
      "model_name": "ColorPickerModel",
      "state": {
       "description": "ambient",
       "disabled": false,
       "layout": "IPY_MODEL_92616f968bf649ad919cbb41d7425b65",
       "style": "IPY_MODEL_d6e29de606464a1eada931b449337734",
       "value": "#0fc4db"
      }
     },
     "13acdf1ccc5a4999af0676c08d452094": {
      "model_module": "@jupyter-widgets/controls",
      "model_module_version": "1.5.0",
      "model_name": "SliderStyleModel",
      "state": {
       "description_width": ""
      }
     },
     "13b719143ac7434582f81b16c18d6b4e": {
      "model_module": "@jupyter-widgets/controls",
      "model_module_version": "1.5.0",
      "model_name": "ColorPickerModel",
      "state": {
       "description": "emission",
       "disabled": false,
       "layout": "IPY_MODEL_289af199b7494ce2935204247e9a8c74",
       "style": "IPY_MODEL_aff7649e3cd94b0e93b9db47ae177a91",
       "value": "#000000"
      }
     },
     "13d73679d1fc4c1dafedf885b7d2c851": {
      "model_module": "@jupyter-widgets/base",
      "model_module_version": "1.2.0",
      "model_name": "LayoutModel",
      "state": {}
     },
     "13ef4f1f81a4430aa1f08839e278e50f": {
      "model_module": "@jupyter-widgets/controls",
      "model_module_version": "1.5.0",
      "model_name": "HBoxModel",
      "state": {
       "children": [
        "IPY_MODEL_0ddc4da3ab684f75a000be5326010a3f",
        "IPY_MODEL_76962f026cd343edbb2be1f47b259f8e"
       ],
       "layout": "IPY_MODEL_60649db2aa41400c8d032bf13c68e453"
      }
     },
     "1495c1165fc748ae8bb58d756996d706": {
      "model_module": "@jupyter-widgets/controls",
      "model_module_version": "1.5.0",
      "model_name": "IntSliderModel",
      "state": {
       "description": "value",
       "layout": "IPY_MODEL_6c9077201cf9427b930095c29dff128d",
       "max": 10,
       "min": 1,
       "style": "IPY_MODEL_9b8436ae14f84fa29eae52599733cb23",
       "value": 5
      }
     },
     "153641213cab4e3888f2df8ffe4df5e6": {
      "model_module": "@jupyter-widgets/controls",
      "model_module_version": "1.5.0",
      "model_name": "ButtonModel",
      "state": {
       "description": "Delete category",
       "layout": "IPY_MODEL_47cab6d01e35497189f8f2866f69ad79",
       "style": "IPY_MODEL_333c1c1af63143dfb66f43fe624cc4ba"
      }
     },
     "1558078ff54b40aa9edd4a561283c2a3": {
      "model_module": "@jupyter-widgets/controls",
      "model_module_version": "1.5.0",
      "model_name": "DescriptionStyleModel",
      "state": {
       "description_width": ""
      }
     },
     "155e496650f34366b813ae47225f42d5": {
      "model_module": "@jupyter-widgets/base",
      "model_module_version": "1.2.0",
      "model_name": "LayoutModel",
      "state": {}
     },
     "157fba29a18141ceb228302c5bccb5bb": {
      "model_module": "@jupyter-widgets/base",
      "model_module_version": "1.2.0",
      "model_name": "LayoutModel",
      "state": {}
     },
     "15c2dd748e27429b8b7bf9eec53d186c": {
      "model_module": "@jupyter-widgets/controls",
      "model_module_version": "1.5.0",
      "model_name": "HBoxModel",
      "state": {
       "children": [
        "IPY_MODEL_37d590580784486799b82835c1490cd0",
        "IPY_MODEL_7eb67cc5e07d4226b2341c889e12afdc",
        "IPY_MODEL_6c692b6a751b4f9a87b763ae9a055554"
       ],
       "layout": "IPY_MODEL_a9b7a5bea64640859355bc1f3bd40aed"
      }
     },
     "15cc82a7eb6848f88869d829430b0385": {
      "model_module": "@jupyter-widgets/controls",
      "model_module_version": "1.5.0",
      "model_name": "DescriptionStyleModel",
      "state": {
       "description_width": ""
      }
     },
     "160584d7549b440497e447884ae62452": {
      "model_module": "@jupyter-widgets/controls",
      "model_module_version": "1.5.0",
      "model_name": "DescriptionStyleModel",
      "state": {
       "description_width": ""
      }
     },
     "161390ba99e04b138bc28fa9c249c180": {
      "model_module": "@jupyter-widgets/controls",
      "model_module_version": "1.5.0",
      "model_name": "TextModel",
      "state": {
       "continuous_update": false,
       "description": "name",
       "layout": "IPY_MODEL_bcf7fee88c72467fbcc5a469b43e9f92",
       "style": "IPY_MODEL_7bd0ba7ae13849c1a3991f5c1fc76a3f",
       "value": "radinc"
      }
     },
     "1624262f28254a519733973a8caf8b9e": {
      "model_module": "@jupyter-widgets/controls",
      "model_module_version": "1.5.0",
      "model_name": "HBoxModel",
      "state": {
       "children": [
        "IPY_MODEL_0ebdabd5351f4a218569ece12d364cf5"
       ],
       "layout": "IPY_MODEL_7e4f103663654092a3b6f3f18908d2a4"
      }
     },
     "164bcfa6695d41c4828175244e8404ae": {
      "model_module": "@jupyter-widgets/controls",
      "model_module_version": "1.5.0",
      "model_name": "DescriptionStyleModel",
      "state": {
       "description_width": ""
      }
     },
     "165abbc949ef4da0be3399b1aa01ad1f": {
      "model_module": "@jupyter-widgets/controls",
      "model_module_version": "1.5.0",
      "model_name": "SliderStyleModel",
      "state": {
       "description_width": ""
      }
     },
     "16bd9822848d4ea8a76ae7ebedd16681": {
      "model_module": "@jupyter-widgets/base",
      "model_module_version": "1.2.0",
      "model_name": "LayoutModel",
      "state": {
       "margin": "20px 0px"
      }
     },
     "16cce7023d354ddfba60e067833ebb2b": {
      "model_module": "@jupyter-widgets/base",
      "model_module_version": "1.2.0",
      "model_name": "LayoutModel",
      "state": {}
     },
     "16f7bc26a9f3423a8cdb0ee883e8baf3": {
      "model_module": "@jupyter-widgets/controls",
      "model_module_version": "1.5.0",
      "model_name": "SliderStyleModel",
      "state": {
       "description_width": ""
      }
     },
     "178a6cb4a45b40af811fc096f2974764": {
      "model_module": "@jupyter-widgets/base",
      "model_module_version": "1.2.0",
      "model_name": "LayoutModel",
      "state": {}
     },
     "17a8887bab0d48dda0b6eb417e76dbac": {
      "model_module": "@jupyter-widgets/controls",
      "model_module_version": "1.5.0",
      "model_name": "DescriptionStyleModel",
      "state": {
       "description_width": ""
      }
     },
     "17de7061fc71420fb27975958a62c182": {
      "model_module": "pgljupyter",
      "model_module_version": "^0.1.18",
      "model_name": "MaterialEditorModel",
      "state": {
       "_model_module_version": "^0.1.18",
       "_view_module_version": "^0.1.18",
       "children": [
        "IPY_MODEL_408d582856e84421a763fa391a9130a8",
        "IPY_MODEL_ee264b2062824fd5b777853c7f930800",
        "IPY_MODEL_916e7d074de94e13a2e0ee223e0b2d15",
        "IPY_MODEL_e0f1782f2a614b3fa512c8365f125d2a",
        "IPY_MODEL_2e21adf4c8bb4fac95416edb37f93844",
        "IPY_MODEL_117c3751605b49da9649139f8f836205",
        "IPY_MODEL_1e78178572d64dcdb6056a7128c73f73",
        "IPY_MODEL_0aafc59276204d4698648b7214e955f0"
       ],
       "layout": "IPY_MODEL_12e643a8ee7244a48d10e4c9dc50c23c"
      }
     },
     "181662f4cedf410dac5bab4e1bf8645f": {
      "model_module": "@jupyter-widgets/base",
      "model_module_version": "1.2.0",
      "model_name": "LayoutModel",
      "state": {}
     },
     "1841107c669d487a88dba8bee46180f8": {
      "model_module": "@jupyter-widgets/base",
      "model_module_version": "1.2.0",
      "model_name": "LayoutModel",
      "state": {}
     },
     "18a4cfa16bc946538d5790374028d641": {
      "model_module": "@jupyter-widgets/base",
      "model_module_version": "1.2.0",
      "model_name": "LayoutModel",
      "state": {}
     },
     "18abd2b200874f98af3b0f2c86c1a019": {
      "model_module": "@jupyter-widgets/controls",
      "model_module_version": "1.5.0",
      "model_name": "ButtonStyleModel",
      "state": {}
     },
     "18fd2dd4be65499b91b7d984d3f28244": {
      "model_module": "@jupyter-widgets/controls",
      "model_module_version": "1.5.0",
      "model_name": "TabModel",
      "state": {
       "_titles": {
        "0": "leuwenberg.json"
       },
       "children": [
        "IPY_MODEL_53095037c0fc41f0ad798cc1f327c12f"
       ],
       "layout": "IPY_MODEL_37cb01c9b3e84e9da135afac63cb3f28"
      }
     },
     "190f9a77b410464d8397db246bf8a588": {
      "model_module": "@jupyter-widgets/controls",
      "model_module_version": "1.5.0",
      "model_name": "TextModel",
      "state": {
       "continuous_update": false,
       "description": "name",
       "layout": "IPY_MODEL_3195adc8fefb45378839f142bc7b7fdc",
       "style": "IPY_MODEL_3324d05d1f6847678f57a1016eafaa0e",
       "value": "color_4"
      }
     },
     "1910124b79a9485da861e6e0c1762d37": {
      "model_module": "@jupyter-widgets/base",
      "model_module_version": "1.2.0",
      "model_name": "LayoutModel",
      "state": {}
     },
     "194ad744cbd346c59d513770c2a47af7": {
      "model_module": "@jupyter-widgets/base",
      "model_module_version": "1.2.0",
      "model_name": "LayoutModel",
      "state": {
       "margin": "20px 0px"
      }
     },
     "19c0e5bf37c2495dba13da8f747c69e9": {
      "model_module": "@jupyter-widgets/controls",
      "model_module_version": "1.5.0",
      "model_name": "SliderStyleModel",
      "state": {
       "description_width": ""
      }
     },
     "1a39600936bd4b199a960b5ddd12c3ef": {
      "model_module": "@jupyter-widgets/controls",
      "model_module_version": "1.5.0",
      "model_name": "ButtonModel",
      "state": {
       "description": "Add",
       "layout": "IPY_MODEL_4fbf2b45694848a9aa03aadb8fb5d86c",
       "style": "IPY_MODEL_49abdf9d78524715a97cc756c7cc26ee"
      }
     },
     "1a3a8e4cff4b498aad3788925124b846": {
      "model_module": "@jupyter-widgets/controls",
      "model_module_version": "1.5.0",
      "model_name": "HBoxModel",
      "state": {
       "layout": "IPY_MODEL_5a7768daa7114d36b770ea435fe36cec"
      }
     },
     "1a768dffa91045cdbec62fd051859942": {
      "model_module": "@jupyter-widgets/controls",
      "model_module_version": "1.5.0",
      "model_name": "HBoxModel",
      "state": {
       "children": [
        "IPY_MODEL_de29d9fc92c645568318b3cac8e85baf",
        "IPY_MODEL_cbc8b4e533c94b8597e45a4ac84149b8"
       ],
       "layout": "IPY_MODEL_1310fd264c314fc6ba058b93e9e20982"
      }
     },
     "1a8e5e8102f24f6788a2e4825cfd5527": {
      "model_module": "@jupyter-widgets/controls",
      "model_module_version": "1.5.0",
      "model_name": "DescriptionStyleModel",
      "state": {
       "description_width": ""
      }
     },
     "1a901903106b4de5881749108bd6c41d": {
      "model_module": "@jupyter-widgets/base",
      "model_module_version": "1.2.0",
      "model_name": "LayoutModel",
      "state": {}
     },
     "1adccbe353a046ea9bf4ed81f2cba08d": {
      "model_module": "@jupyter-widgets/controls",
      "model_module_version": "1.5.0",
      "model_name": "SliderStyleModel",
      "state": {
       "description_width": ""
      }
     },
     "1aeee9874bc84466bbeb7bfb15647305": {
      "model_module": "@jupyter-widgets/base",
      "model_module_version": "1.2.0",
      "model_name": "LayoutModel",
      "state": {
       "margin": "20px 0px"
      }
     },
     "1b23eb33720947ad81bbf0cc81ea07cf": {
      "model_module": "@jupyter-widgets/controls",
      "model_module_version": "1.5.0",
      "model_name": "SliderStyleModel",
      "state": {
       "description_width": ""
      }
     },
     "1b44d596a79d4717bb36340cb0ec6094": {
      "model_module": "@jupyter-widgets/base",
      "model_module_version": "1.2.0",
      "model_name": "LayoutModel",
      "state": {}
     },
     "1b5446a7b8594571b37b59d8d9494810": {
      "model_module": "@jupyter-widgets/base",
      "model_module_version": "1.2.0",
      "model_name": "LayoutModel",
      "state": {}
     },
     "1b6051bae24c473598c952d51984d1ee": {
      "model_module": "@jupyter-widgets/base",
      "model_module_version": "1.2.0",
      "model_name": "LayoutModel",
      "state": {}
     },
     "1bd27105bfe744bdbb177dc19d1cf75d": {
      "model_module": "@jupyter-widgets/controls",
      "model_module_version": "1.5.0",
      "model_name": "HBoxModel",
      "state": {
       "layout": "IPY_MODEL_a9b7a5bea64640859355bc1f3bd40aed"
      }
     },
     "1c64de6d810040e6a876cf03d544910b": {
      "model_module": "@jupyter-widgets/controls",
      "model_module_version": "1.5.0",
      "model_name": "HBoxModel",
      "state": {
       "children": [
        "IPY_MODEL_2aa3ae383fe546ccba78dde66139f07e",
        "IPY_MODEL_31ff80b71d0e49b293026e52abfdb4bc"
       ],
       "layout": "IPY_MODEL_78dff3c9b0ab4092885a4681b708b9c4"
      }
     },
     "1c6b5e326e8d49b2a591f19e3efcbb8c": {
      "model_module": "@jupyter-widgets/controls",
      "model_module_version": "1.5.0",
      "model_name": "SliderStyleModel",
      "state": {
       "description_width": ""
      }
     },
     "1d1181a2fd7a41b6942a8f000b3d75bd": {
      "model_module": "@jupyter-widgets/base",
      "model_module_version": "1.2.0",
      "model_name": "LayoutModel",
      "state": {}
     },
     "1d1c9cc08a664ea3b55b7a47fcfdc251": {
      "model_module": "@jupyter-widgets/controls",
      "model_module_version": "1.5.0",
      "model_name": "HBoxModel",
      "state": {
       "children": [
        "IPY_MODEL_9b10fafd1dad421981300c41e7b605cc",
        "IPY_MODEL_bd21842443764a4e9cfc0fe5e99adc99",
        "IPY_MODEL_48b02d61921140799c9d50de4e6abab8"
       ],
       "layout": "IPY_MODEL_f83dfb11eba54161877d623ec09906b5"
      }
     },
     "1d2c3e8ff93a461893bd0cf380e5598b": {
      "model_module": "@jupyter-widgets/base",
      "model_module_version": "1.2.0",
      "model_name": "LayoutModel",
      "state": {}
     },
     "1d6ac4f49b314f0e9fb3532cfc3b8bce": {
      "model_module": "@jupyter-widgets/controls",
      "model_module_version": "1.5.0",
      "model_name": "IntTextModel",
      "state": {
       "description": "min",
       "layout": "IPY_MODEL_2047c15e3d8f4214b541d17514096060",
       "step": 1,
       "style": "IPY_MODEL_d57615a69c10480d8db062fc5e36385d",
       "value": 1
      }
     },
     "1d7324e6216945c694b7879142e82cce": {
      "model_module": "@jupyter-widgets/controls",
      "model_module_version": "1.5.0",
      "model_name": "DropdownModel",
      "state": {
       "_options_labels": [
        "maxorder",
        "radinc",
        "nb_axes"
       ],
       "index": 0,
       "layout": "IPY_MODEL_b9ebb3597e8346f8a3fc4ed986a97a1b",
       "style": "IPY_MODEL_90f3796014fb441682830e036d391913"
      }
     },
     "1e5af16da1b3427d83bc2e4cf9a49852": {
      "model_module": "@jupyter-widgets/controls",
      "model_module_version": "1.5.0",
      "model_name": "ButtonModel",
      "state": {
       "description": "Delete",
       "layout": "IPY_MODEL_6cb02b695e9b429fb82b362a464e95d4",
       "style": "IPY_MODEL_403ce4d89d824f1c8e0c931714a623aa"
      }
     },
     "1e6010c917c4441f8d05dacd1cf3a5ba": {
      "model_module": "@jupyter-widgets/controls",
      "model_module_version": "1.5.0",
      "model_name": "ColorPickerModel",
      "state": {
       "description": "ambient",
       "disabled": false,
       "layout": "IPY_MODEL_619d054879f142ab8a22cb911c74fa09",
       "style": "IPY_MODEL_269d4a9ce92344b6b1ca56cee70b6700",
       "value": "#0fc4db"
      }
     },
     "1e71076b6d304240bdd062f2d5156785": {
      "model_module": "@jupyter-widgets/base",
      "model_module_version": "1.2.0",
      "model_name": "LayoutModel",
      "state": {}
     },
     "1e78178572d64dcdb6056a7128c73f73": {
      "model_module": "@jupyter-widgets/controls",
      "model_module_version": "1.5.0",
      "model_name": "FloatSliderModel",
      "state": {
       "description": "transparency",
       "layout": "IPY_MODEL_6ab377277f3f47c19b9225d757195275",
       "max": 1,
       "step": 0.1,
       "style": "IPY_MODEL_0010fef821bc48b083984f720d45fe40"
      }
     },
     "1e923ca9d3ec4aaf9602202ba9e7cb20": {
      "model_module": "@jupyter-widgets/base",
      "model_module_version": "1.2.0",
      "model_name": "LayoutModel",
      "state": {}
     },
     "1ea7dc68a20e4fa3ae2f532556b651d0": {
      "model_module": "@jupyter-widgets/controls",
      "model_module_version": "1.5.0",
      "model_name": "ColorPickerModel",
      "state": {
       "description": "ambient",
       "disabled": false,
       "layout": "IPY_MODEL_f4f2faa3af214fe2ad81b69860fda065",
       "style": "IPY_MODEL_906dd31da0b74225aefcd7029f7939cc",
       "value": "#e1a014"
      }
     },
     "1eafac7d519a4739b0a5ec9f2e1a0356": {
      "model_module": "@jupyter-widgets/base",
      "model_module_version": "1.2.0",
      "model_name": "LayoutModel",
      "state": {}
     },
     "1eb0713d17fb4a92b6d7cfab6060154c": {
      "model_module": "@jupyter-widgets/controls",
      "model_module_version": "1.5.0",
      "model_name": "DescriptionStyleModel",
      "state": {
       "description_width": ""
      }
     },
     "1ef74d1c41b24007821a052f50da2c9f": {
      "model_module": "@jupyter-widgets/controls",
      "model_module_version": "1.5.0",
      "model_name": "FloatSliderModel",
      "state": {
       "description": "diffuse",
       "layout": "IPY_MODEL_60f7d6ccd61f493dadbfcf94d366711a",
       "max": 3,
       "step": 0.1,
       "style": "IPY_MODEL_0aea6c9bfdb24c3a9046b8a0c0ca6aa6",
       "value": 1
      }
     },
     "1f1df1d84cbd4198a124c637fd5a7782": {
      "model_module": "@jupyter-widgets/controls",
      "model_module_version": "1.5.0",
      "model_name": "DescriptionStyleModel",
      "state": {
       "description_width": ""
      }
     },
     "1f72998eed09408198e3afb7711fce67": {
      "model_module": "@jupyter-widgets/base",
      "model_module_version": "1.2.0",
      "model_name": "LayoutModel",
      "state": {}
     },
     "1f8ab0fca1c04c59ba41957779688c40": {
      "model_module": "@jupyter-widgets/controls",
      "model_module_version": "1.5.0",
      "model_name": "BoundedIntTextModel",
      "state": {
       "description": "index",
       "layout": "IPY_MODEL_3afbf51007944e8f8954670763c456a2",
       "style": "IPY_MODEL_f1c6aa52cc2a40a396a24165e1c5bf64",
       "value": 4
      }
     },
     "1fac97fbb78942428b45f4a29eff0181": {
      "model_module": "@jupyter-widgets/controls",
      "model_module_version": "1.5.0",
      "model_name": "SliderStyleModel",
      "state": {
       "description_width": ""
      }
     },
     "1fc7b2d61c8248a78f6d173ef2c25c28": {
      "model_module": "@jupyter-widgets/controls",
      "model_module_version": "1.5.0",
      "model_name": "DescriptionStyleModel",
      "state": {
       "description_width": ""
      }
     },
     "200bbcd159c24386b1e2e9fe9c914ff7": {
      "model_module": "@jupyter-widgets/controls",
      "model_module_version": "1.5.0",
      "model_name": "SliderStyleModel",
      "state": {
       "description_width": ""
      }
     },
     "20298b4a168141e9be68094a28287409": {
      "model_module": "@jupyter-widgets/controls",
      "model_module_version": "1.5.0",
      "model_name": "HBoxModel",
      "state": {
       "children": [
        "IPY_MODEL_5adffba729714082b4c0b93187c64244",
        "IPY_MODEL_41173f204e7842519840674a61a7e434"
       ],
       "layout": "IPY_MODEL_0edf0711fcd443488bc2bd1811f52c38"
      }
     },
     "203079255d89445eaa5a11bb556a37d5": {
      "model_module": "@jupyter-widgets/controls",
      "model_module_version": "1.5.0",
      "model_name": "BoundedIntTextModel",
      "state": {
       "description": "index",
       "layout": "IPY_MODEL_cb43d93a31474ef68c27ec960b1e17ad",
       "style": "IPY_MODEL_05a5ce6fe609440eaac4fb1a88000fa7",
       "value": 4
      }
     },
     "203480e9c215468ea9ab336c23360aec": {
      "model_module": "@jupyter-widgets/controls",
      "model_module_version": "1.5.0",
      "model_name": "FloatSliderModel",
      "state": {
       "description": "value",
       "layout": "IPY_MODEL_6a018a7ac45f43ed9fb495ac70a32468",
       "max": 0.1,
       "min": 0.01,
       "step": 0.01,
       "style": "IPY_MODEL_cf673dfbe5eb413c96fdeb2659cfc128",
       "value": 0.02
      }
     },
     "2047c15e3d8f4214b541d17514096060": {
      "model_module": "@jupyter-widgets/base",
      "model_module_version": "1.2.0",
      "model_name": "LayoutModel",
      "state": {}
     },
     "207d2c2ed4094de6aa559901cd22e572": {
      "model_module": "@jupyter-widgets/base",
      "model_module_version": "1.2.0",
      "model_name": "LayoutModel",
      "state": {}
     },
     "208de69f01e844309a09e7a6c6150e42": {
      "model_module": "@jupyter-widgets/controls",
      "model_module_version": "1.5.0",
      "model_name": "TextModel",
      "state": {
       "continuous_update": false,
       "description": "name",
       "layout": "IPY_MODEL_9f81c34fd48c46a38082ef22fe436144",
       "style": "IPY_MODEL_98aa41c6eb644b028a4c3b34c61591da",
       "value": "trunk"
      }
     },
     "209c033af72d44e3a0b13ab8001e5335": {
      "model_module": "@jupyter-widgets/base",
      "model_module_version": "1.2.0",
      "model_name": "LayoutModel",
      "state": {}
     },
     "20ab7410ec8c4e87a7028f3830335948": {
      "model_module": "@jupyter-widgets/base",
      "model_module_version": "1.2.0",
      "model_name": "LayoutModel",
      "state": {}
     },
     "20b13acc67a845f6956f498c04e38806": {
      "model_module": "@jupyter-widgets/base",
      "model_module_version": "1.2.0",
      "model_name": "LayoutModel",
      "state": {}
     },
     "20e00e78d72c45a192c02ce598d26a33": {
      "model_module": "@jupyter-widgets/controls",
      "model_module_version": "1.5.0",
      "model_name": "FloatSliderModel",
      "state": {
       "description": "value",
       "layout": "IPY_MODEL_80e9653aa5df4aec98e4b796abfbd551",
       "max": 0.1,
       "min": 0.01,
       "step": 0.01,
       "style": "IPY_MODEL_7ae3718b0ae34394a27bdb7f6b8e878f",
       "value": 0.03
      }
     },
     "20e3dd12ae594b74880fcf2f3311b803": {
      "model_module": "@jupyter-widgets/base",
      "model_module_version": "1.2.0",
      "model_name": "LayoutModel",
      "state": {}
     },
     "20e92cd381cd4543b11477c4b28a2822": {
      "model_module": "@jupyter-widgets/base",
      "model_module_version": "1.2.0",
      "model_name": "LayoutModel",
      "state": {}
     },
     "2132082f200f4a239684d6e5b976b196": {
      "model_module": "@jupyter-widgets/base",
      "model_module_version": "1.2.0",
      "model_name": "LayoutModel",
      "state": {}
     },
     "21350d8100af4acbbbba14f68c856baa": {
      "model_module": "@jupyter-widgets/controls",
      "model_module_version": "1.5.0",
      "model_name": "ColorPickerModel",
      "state": {
       "description": "emission",
       "disabled": false,
       "layout": "IPY_MODEL_c6a591bed4c246eaa6f122a5fb74d701",
       "style": "IPY_MODEL_58b736cae95a4a3f97d710efaa4148bb",
       "value": "#000000"
      }
     },
     "21584ab197984ba29419802ea60fc1c8": {
      "model_module": "@jupyter-widgets/controls",
      "model_module_version": "1.5.0",
      "model_name": "VBoxModel",
      "state": {
       "children": [
        "IPY_MODEL_0c2bee5a70fb46b2acac86b96cb0aab2",
        "IPY_MODEL_bba064c217a24b0f9b5d380aaa6fea52"
       ],
       "layout": "IPY_MODEL_1e923ca9d3ec4aaf9602202ba9e7cb20"
      }
     },
     "215f302522a248ffb3819ec2c29f1058": {
      "model_module": "@jupyter-widgets/base",
      "model_module_version": "1.2.0",
      "model_name": "LayoutModel",
      "state": {}
     },
     "2171707fa97347488af43fe88a591d0f": {
      "model_module": "@jupyter-widgets/controls",
      "model_module_version": "1.5.0",
      "model_name": "SliderStyleModel",
      "state": {
       "description_width": ""
      }
     },
     "21dc5393f9364b34b280fae10a6852f9": {
      "model_module": "@jupyter-widgets/controls",
      "model_module_version": "1.5.0",
      "model_name": "ButtonStyleModel",
      "state": {}
     },
     "21f3349a602545288f617c05af0e2a85": {
      "model_module": "@jupyter-widgets/base",
      "model_module_version": "1.2.0",
      "model_name": "LayoutModel",
      "state": {}
     },
     "221397e9ebd543a29b72321488035216": {
      "model_module": "@jupyter-widgets/controls",
      "model_module_version": "1.5.0",
      "model_name": "HBoxModel",
      "state": {
       "children": [
        "IPY_MODEL_34039ec0ba934c63862e396616b031ef",
        "IPY_MODEL_bc6a9e91763e4425a42d8b1641580ff4"
       ],
       "layout": "IPY_MODEL_3000a614557743cbb42abf392046434f"
      }
     },
     "2249a5a5d0f24085af3136bbb4f3f425": {
      "model_module": "@jupyter-widgets/controls",
      "model_module_version": "1.5.0",
      "model_name": "FloatSliderModel",
      "state": {
       "description": "shininess",
       "layout": "IPY_MODEL_d323d6b67e114f9199d968a403d35954",
       "max": 1,
       "step": 0.1,
       "style": "IPY_MODEL_abcc393b17f24dc9b7fecb97fc241a9d",
       "value": 0.2
      }
     },
     "228bc3eabbcd41b0903a627cadc7111d": {
      "model_module": "@jupyter-widgets/controls",
      "model_module_version": "1.5.0",
      "model_name": "SliderStyleModel",
      "state": {
       "description_width": ""
      }
     },
     "22f9f8931d46440d97e214fb63e75678": {
      "model_module": "@jupyter-widgets/controls",
      "model_module_version": "1.5.0",
      "model_name": "ButtonStyleModel",
      "state": {}
     },
     "233d83e71b4344838e3144dcacea3eeb": {
      "model_module": "@jupyter-widgets/base",
      "model_module_version": "1.2.0",
      "model_name": "LayoutModel",
      "state": {}
     },
     "2340039821ec4848ab8a9b6c4eb0a864": {
      "model_module": "@jupyter-widgets/base",
      "model_module_version": "1.2.0",
      "model_name": "LayoutModel",
      "state": {}
     },
     "238dd52d41fd42ba8fc8d39b45ea27f2": {
      "model_module": "@jupyter-widgets/controls",
      "model_module_version": "1.5.0",
      "model_name": "DropdownModel",
      "state": {
       "_options_labels": [
        "Integer",
        "Float",
        "Bool"
       ],
       "index": 0,
       "layout": "IPY_MODEL_427e64e328734c2ea2a19855b06e1544",
       "style": "IPY_MODEL_59df3630aa8946ea91c52b602ac78c54"
      }
     },
     "240b06896b1447a29608ee2c0041a5bc": {
      "model_module": "@jupyter-widgets/controls",
      "model_module_version": "1.5.0",
      "model_name": "IntSliderModel",
      "state": {
       "description": "value",
       "layout": "IPY_MODEL_e8499e7bab6246a0ad0a4f30d14ddbb3",
       "max": 10,
       "min": 1,
       "style": "IPY_MODEL_165abbc949ef4da0be3399b1aa01ad1f",
       "value": 3
      }
     },
     "243831084f114d97bd1e5d3e35197ff6": {
      "model_module": "@jupyter-widgets/controls",
      "model_module_version": "1.5.0",
      "model_name": "BoundedIntTextModel",
      "state": {
       "description": "index",
       "layout": "IPY_MODEL_178a6cb4a45b40af811fc096f2974764",
       "style": "IPY_MODEL_801c9757e2284ae99ecc9a5a8bffc9da",
       "value": 1
      }
     },
     "24700b060af14c8981e7fbfedeade0f8": {
      "model_module": "@jupyter-widgets/base",
      "model_module_version": "1.2.0",
      "model_name": "LayoutModel",
      "state": {
       "margin": "20px 0px"
      }
     },
     "25319b4a1c0d492ea4c44baed1f845f1": {
      "model_module": "@jupyter-widgets/base",
      "model_module_version": "1.2.0",
      "model_name": "LayoutModel",
      "state": {}
     },
     "25389c05c9a74d9a98ad640a1da0dc90": {
      "model_module": "@jupyter-widgets/controls",
      "model_module_version": "1.5.0",
      "model_name": "SliderStyleModel",
      "state": {
       "description_width": ""
      }
     },
     "255b3c439597483f80ed865cd04cc345": {
      "model_module": "@jupyter-widgets/base",
      "model_module_version": "1.2.0",
      "model_name": "LayoutModel",
      "state": {}
     },
     "259e1b89f75240de83d19dcd3b59bf86": {
      "model_module": "@jupyter-widgets/controls",
      "model_module_version": "1.5.0",
      "model_name": "DescriptionStyleModel",
      "state": {
       "description_width": ""
      }
     },
     "25d30d60259b4572b8731631d759ac9a": {
      "model_module": "@jupyter-widgets/base",
      "model_module_version": "1.2.0",
      "model_name": "LayoutModel",
      "state": {}
     },
     "262f578dc1b641d1a439f9d7bdb2b833": {
      "model_module": "@jupyter-widgets/controls",
      "model_module_version": "1.5.0",
      "model_name": "ButtonStyleModel",
      "state": {}
     },
     "266957bdee4c488d96db5cfceab4b072": {
      "model_module": "@jupyter-widgets/base",
      "model_module_version": "1.2.0",
      "model_name": "LayoutModel",
      "state": {}
     },
     "269d4a9ce92344b6b1ca56cee70b6700": {
      "model_module": "@jupyter-widgets/controls",
      "model_module_version": "1.5.0",
      "model_name": "DescriptionStyleModel",
      "state": {
       "description_width": ""
      }
     },
     "26b2b92b694649c3b974782805831251": {
      "model_module": "pgljupyter",
      "model_module_version": "^0.1.16",
      "model_name": "IntEditorModel",
      "state": {
       "_model_module_version": "^0.1.16",
       "_view_module_version": "^0.1.16",
       "children": [
        "IPY_MODEL_8e6019a49d114761a746e659cc1c48f2",
        "IPY_MODEL_5bfb433518c246f4a7cd7249ff19b64e",
        "IPY_MODEL_eac0f378daf14e768b562dc92a52bd46",
        "IPY_MODEL_aadcd785ecac49dd89e89b98cd11a5bc",
        "IPY_MODEL_71bb87308f7f413585405d1a1df6ad8f"
       ],
       "layout": "IPY_MODEL_a85f651d3d144554a4c5e5260dc4c9c3"
      }
     },
     "26b6ef9844df45fa90eceb06b5d3540f": {
      "model_module": "@jupyter-widgets/controls",
      "model_module_version": "1.5.0",
      "model_name": "DescriptionStyleModel",
      "state": {
       "description_width": ""
      }
     },
     "26b81cebc41f40ae83461cad70dcfba8": {
      "model_module": "@jupyter-widgets/controls",
      "model_module_version": "1.5.0",
      "model_name": "ButtonStyleModel",
      "state": {}
     },
     "26dd1eed428440a1bb6365baf44e75c4": {
      "model_module": "@jupyter-widgets/controls",
      "model_module_version": "1.5.0",
      "model_name": "BoundedIntTextModel",
      "state": {
       "description": "index",
       "layout": "IPY_MODEL_3bc727a4c5e842eba687117ad175a2bc",
       "style": "IPY_MODEL_d40cd5784b9640ce86140f6d8eb19ad7",
       "value": 2
      }
     },
     "26f268ff43434d3f8fd6c6ac3775b9a3": {
      "model_module": "@jupyter-widgets/controls",
      "model_module_version": "1.5.0",
      "model_name": "FloatSliderModel",
      "state": {
       "description": "transparency",
       "layout": "IPY_MODEL_e4b212a605144a07b42605253ab3a016",
       "max": 1,
       "step": 0.1,
       "style": "IPY_MODEL_4c81abb4c66846b5a198148d5fde3afe"
      }
     },
     "2718cbd168e24762a6996c846ee444dd": {
      "model_module": "@jupyter-widgets/controls",
      "model_module_version": "1.5.0",
      "model_name": "VBoxModel",
      "state": {
       "children": [
        "IPY_MODEL_129b9808260140be91fe527eb514555e",
        "IPY_MODEL_885caec9d1dd43c096b9a173555e99ba",
        "IPY_MODEL_e801703ebaf5452e9d7d9e5fc1f6b6d2",
        "IPY_MODEL_a6ba6d086bb947a9a81c7c00b649099a",
        "IPY_MODEL_e15fba46cf5946eeb499bb44c328da38"
       ],
       "layout": "IPY_MODEL_2770585a31af4e729bfb171d1f970cd6"
      }
     },
     "2718d36a76b14abe8337699015ee06ad": {
      "model_module": "@jupyter-widgets/controls",
      "model_module_version": "1.5.0",
      "model_name": "ButtonStyleModel",
      "state": {}
     },
     "27341d701b39454692c62d6ea10319c8": {
      "model_module": "@jupyter-widgets/controls",
      "model_module_version": "1.5.0",
      "model_name": "DescriptionStyleModel",
      "state": {
       "description_width": ""
      }
     },
     "273d55f5f31d4648966c52a36a8bc18e": {
      "model_module": "pgljupyter",
      "model_module_version": "^0.1.18",
      "model_name": "MaterialEditorModel",
      "state": {
       "_model_module_version": "^0.1.18",
       "_view_module_version": "^0.1.18",
       "children": [
        "IPY_MODEL_208de69f01e844309a09e7a6c6150e42",
        "IPY_MODEL_9bc9c3338eea4c8c86654a7b2ab4b2be",
        "IPY_MODEL_5fd9a8d12c4d45588031973ef01650c0",
        "IPY_MODEL_92d4898f94824292b0826fcacbbe587f",
        "IPY_MODEL_62fff4b10d2c498fa7de85b618a36351",
        "IPY_MODEL_4e7c5a348d354d778c2e8fac651d24ae",
        "IPY_MODEL_26f268ff43434d3f8fd6c6ac3775b9a3",
        "IPY_MODEL_d24455fb0aa04c15978bcf82f484ec0d"
       ],
       "layout": "IPY_MODEL_7c3d32abecd84c22aa8e83abca17afd6"
      }
     },
     "2748b3bc98584be89e557777f606f30e": {
      "model_module": "@jupyter-widgets/base",
      "model_module_version": "1.2.0",
      "model_name": "LayoutModel",
      "state": {}
     },
     "2770585a31af4e729bfb171d1f970cd6": {
      "model_module": "@jupyter-widgets/base",
      "model_module_version": "1.2.0",
      "model_name": "LayoutModel",
      "state": {}
     },
     "27c99d487aef426398bafe8dc27b8491": {
      "model_module": "@jupyter-widgets/base",
      "model_module_version": "1.2.0",
      "model_name": "LayoutModel",
      "state": {}
     },
     "27f197b4f13d478283479e8a52271d78": {
      "model_module": "@jupyter-widgets/controls",
      "model_module_version": "1.5.0",
      "model_name": "ButtonModel",
      "state": {
       "description": "Save changes",
       "layout": "IPY_MODEL_f826609262fd40cb852fc2f4bd691b74",
       "style": "IPY_MODEL_dfccc42a1e8f4f4abdf4c85dd83fbdf3"
      }
     },
     "280f5706c53c48bd96c1f0c3b5a82955": {
      "model_module": "@jupyter-widgets/controls",
      "model_module_version": "1.5.0",
      "model_name": "ColorPickerModel",
      "state": {
       "description": "specular",
       "disabled": false,
       "layout": "IPY_MODEL_47c2ee699e6a4f7c83103495961650b0",
       "style": "IPY_MODEL_b618285ed5684282bcdc1d912a0170cc",
       "value": "#282828"
      }
     },
     "283766ded61e469895271b99cd20aee7": {
      "model_module": "@jupyter-widgets/controls",
      "model_module_version": "1.5.0",
      "model_name": "IntSliderModel",
      "state": {
       "description": "value",
       "layout": "IPY_MODEL_858878c7e61544b790ca64ba3754be3a",
       "max": 10,
       "min": 1,
       "style": "IPY_MODEL_1c6b5e326e8d49b2a591f19e3efcbb8c",
       "value": 3
      }
     },
     "28501e07ca81424ba924d3f88696843a": {
      "model_module": "@jupyter-widgets/controls",
      "model_module_version": "1.5.0",
      "model_name": "ButtonStyleModel",
      "state": {}
     },
     "286459ac772e4d45a1cdf2d3de2f2641": {
      "model_module": "@jupyter-widgets/controls",
      "model_module_version": "1.5.0",
      "model_name": "HBoxModel",
      "state": {
       "children": [
        "IPY_MODEL_7fa3fc5095444041b8bf59eb82ee0f1b",
        "IPY_MODEL_c670633e3aa5429fb74ad03495d1835c"
       ],
       "layout": "IPY_MODEL_78dff3c9b0ab4092885a4681b708b9c4"
      }
     },
     "289af199b7494ce2935204247e9a8c74": {
      "model_module": "@jupyter-widgets/base",
      "model_module_version": "1.2.0",
      "model_name": "LayoutModel",
      "state": {}
     },
     "28ac8517ff6543888b7ae35a5a88a964": {
      "model_module": "@jupyter-widgets/base",
      "model_module_version": "1.2.0",
      "model_name": "LayoutModel",
      "state": {}
     },
     "28dbfeb66b4146699787fc4516f4869c": {
      "model_module": "@jupyter-widgets/base",
      "model_module_version": "1.2.0",
      "model_name": "LayoutModel",
      "state": {}
     },
     "29963b5130614ef58373b07536e44942": {
      "model_module": "@jupyter-widgets/base",
      "model_module_version": "1.2.0",
      "model_name": "LayoutModel",
      "state": {}
     },
     "29ada92f78534b5a8245a40f76bd758a": {
      "model_module": "@jupyter-widgets/base",
      "model_module_version": "1.2.0",
      "model_name": "LayoutModel",
      "state": {}
     },
     "29c4bd8332b8480e91c8c5587019d711": {
      "model_module": "@jupyter-widgets/base",
      "model_module_version": "1.2.0",
      "model_name": "LayoutModel",
      "state": {}
     },
     "29cf0466a11e48fc973f7029133b4c1c": {
      "model_module": "@jupyter-widgets/base",
      "model_module_version": "1.2.0",
      "model_name": "LayoutModel",
      "state": {}
     },
     "29f083c6202b4e71911388db0eb926e4": {
      "model_module": "@jupyter-widgets/controls",
      "model_module_version": "1.5.0",
      "model_name": "FloatSliderModel",
      "state": {
       "description": "diffuse",
       "layout": "IPY_MODEL_1a901903106b4de5881749108bd6c41d",
       "max": 3,
       "step": 0.1,
       "style": "IPY_MODEL_e2de1706c64a496781bb68ab5f7e1f36",
       "value": 1
      }
     },
     "2a3d358efbf34acb9c7a60be2b6f23ae": {
      "model_module": "@jupyter-widgets/controls",
      "model_module_version": "1.5.0",
      "model_name": "DescriptionStyleModel",
      "state": {
       "description_width": ""
      }
     },
     "2aa3ae383fe546ccba78dde66139f07e": {
      "model_module": "@jupyter-widgets/controls",
      "model_module_version": "1.5.0",
      "model_name": "HBoxModel",
      "state": {
       "children": [
        "IPY_MODEL_baf1a60a7c1b4d32906c8ce7421ac654",
        "IPY_MODEL_8b39ce9f414948e2acb5c8cfdcf3d6a8"
       ],
       "layout": "IPY_MODEL_48081768731e4a308ef6582f5108536e"
      }
     },
     "2b06ff77988044cbbe92812f8d420a23": {
      "model_module": "@jupyter-widgets/base",
      "model_module_version": "1.2.0",
      "model_name": "LayoutModel",
      "state": {
       "margin": "20px 0px"
      }
     },
     "2b0ed78f41644859a87787f1255e1b81": {
      "model_module": "@jupyter-widgets/controls",
      "model_module_version": "1.5.0",
      "model_name": "DescriptionStyleModel",
      "state": {
       "description_width": ""
      }
     },
     "2b2537aec03a486682b37fa201430b15": {
      "model_module": "@jupyter-widgets/controls",
      "model_module_version": "1.5.0",
      "model_name": "DescriptionStyleModel",
      "state": {
       "description_width": ""
      }
     },
     "2b6bcb5538be448e892da6df8ef5fc7b": {
      "model_module": "@jupyter-widgets/base",
      "model_module_version": "1.2.0",
      "model_name": "LayoutModel",
      "state": {}
     },
     "2b91b62c30f74a2d80349a21cd49380b": {
      "model_module": "@jupyter-widgets/controls",
      "model_module_version": "1.5.0",
      "model_name": "HBoxModel",
      "state": {
       "children": [
        "IPY_MODEL_9334138484854b40a86080f1b61c3cbf",
        "IPY_MODEL_2ebfcf29b8b347bcbb892e15552a4724"
       ],
       "layout": "IPY_MODEL_37ab0aab470c48e49c20c495f371e4d0"
      }
     },
     "2ba15c3936ee4dd3a35e1ac8b8710c9d": {
      "model_module": "@jupyter-widgets/controls",
      "model_module_version": "1.5.0",
      "model_name": "FloatSliderModel",
      "state": {
       "description": "shininess",
       "layout": "IPY_MODEL_6568a84592d945ddaf5e6c0dc6c917c1",
       "max": 1,
       "step": 0.1,
       "style": "IPY_MODEL_c076c7f8110443d8b16ad88e24d4c9c2",
       "value": 0.2
      }
     },
     "2bc9612a3671413583aacf103d7434c3": {
      "model_module": "@jupyter-widgets/controls",
      "model_module_version": "1.5.0",
      "model_name": "HBoxModel",
      "state": {
       "children": [
        "IPY_MODEL_eb9c25defb924bd4a139c44c404e7001",
        "IPY_MODEL_81cddc7ae49e4648a2c274c8e34674fa"
       ],
       "layout": "IPY_MODEL_4b4fb8f835ff4f25801bdcf57fb1eba4"
      }
     },
     "2c07ac220de942ccb12377bf94366b14": {
      "model_module": "@jupyter-widgets/controls",
      "model_module_version": "1.5.0",
      "model_name": "ColorPickerModel",
      "state": {
       "description": "specular",
       "disabled": false,
       "layout": "IPY_MODEL_0fbf4f04c7844825967a392870b05c3c",
       "style": "IPY_MODEL_674ce701a99c4dd290082ac0ca4a9bf8",
       "value": "#282828"
      }
     },
     "2c2396952b064b95b30ec4636f7a5104": {
      "model_module": "@jupyter-widgets/base",
      "model_module_version": "1.2.0",
      "model_name": "LayoutModel",
      "state": {}
     },
     "2c4a0f6f749e428e81918dc2b18b6073": {
      "model_module": "@jupyter-widgets/base",
      "model_module_version": "1.2.0",
      "model_name": "LayoutModel",
      "state": {}
     },
     "2c4f8c87f0eb4c48a1315f8f85b34133": {
      "model_module": "@jupyter-widgets/controls",
      "model_module_version": "1.5.0",
      "model_name": "IntSliderModel",
      "state": {
       "description": "value",
       "layout": "IPY_MODEL_90b38a086b7a4c3dacb0a705e9da7c93",
       "max": 10,
       "min": 1,
       "style": "IPY_MODEL_d57e2be537e04b77bd713ec999a5c5a4",
       "value": 5
      }
     },
     "2c72ff2950854494b63f8872eabd3dac": {
      "model_module": "@jupyter-widgets/base",
      "model_module_version": "1.2.0",
      "model_name": "LayoutModel",
      "state": {}
     },
     "2cbe2b9f20a14b2c9ff7c42cc96e34c6": {
      "model_module": "@jupyter-widgets/controls",
      "model_module_version": "1.5.0",
      "model_name": "ColorPickerModel",
      "state": {
       "description": "emission",
       "disabled": false,
       "layout": "IPY_MODEL_0499384873a04178a41a7a611d6d08dc",
       "style": "IPY_MODEL_c120885553c04d129fd38676ed6234d2",
       "value": "#000000"
      }
     },
     "2cf86b3c818d4ae9854cb7c3aba3e9e5": {
      "model_module": "@jupyter-widgets/base",
      "model_module_version": "1.2.0",
      "model_name": "LayoutModel",
      "state": {}
     },
     "2d0c3904e1ae45eaa6ffc4291f335b1f": {
      "model_module": "@jupyter-widgets/controls",
      "model_module_version": "1.5.0",
      "model_name": "ButtonStyleModel",
      "state": {}
     },
     "2d215d5802a64161ad4658212812c5f3": {
      "model_module": "@jupyter-widgets/controls",
      "model_module_version": "1.5.0",
      "model_name": "HBoxModel",
      "state": {
       "children": [
        "IPY_MODEL_88f44b81f9624f8db9eb6600e3fb96e4"
       ],
       "layout": "IPY_MODEL_4d77f69f74244057baec36b232f87f78"
      }
     },
     "2d5a147118f043b0bedacc46a82c83fb": {
      "model_module": "@jupyter-widgets/controls",
      "model_module_version": "1.5.0",
      "model_name": "SliderStyleModel",
      "state": {
       "description_width": ""
      }
     },
     "2d9fad0b565a4646b1f726689ed625fc": {
      "model_module": "@jupyter-widgets/controls",
      "model_module_version": "1.5.0",
      "model_name": "ButtonStyleModel",
      "state": {}
     },
     "2da2625474d444a4a745acca04a53c1f": {
      "model_module": "@jupyter-widgets/controls",
      "model_module_version": "1.5.0",
      "model_name": "FloatSliderModel",
      "state": {
       "description": "shininess",
       "layout": "IPY_MODEL_694aa30345644ad9836c04cf3497349c",
       "max": 1,
       "step": 0.1,
       "style": "IPY_MODEL_eb38eb2960ba4c56b249425bdddbb378",
       "value": 0.2
      }
     },
     "2db2f596971f45688e65a9abdd337586": {
      "model_module": "@jupyter-widgets/controls",
      "model_module_version": "1.5.0",
      "model_name": "IntSliderModel",
      "state": {
       "description": "value",
       "layout": "IPY_MODEL_720602bd96314ddbb7e19314e2bb1ac7",
       "max": 7,
       "min": 1,
       "style": "IPY_MODEL_10203e2cc2ca454cbb746ee2e79b4d81",
       "value": 3
      }
     },
     "2db8651a2bd342e7b9af50736d9bfac4": {
      "model_module": "@jupyter-widgets/controls",
      "model_module_version": "1.5.0",
      "model_name": "DescriptionStyleModel",
      "state": {
       "description_width": ""
      }
     },
     "2de7c371544e409a8f3f128430eeced9": {
      "model_module": "@jupyter-widgets/base",
      "model_module_version": "1.2.0",
      "model_name": "LayoutModel",
      "state": {}
     },
     "2e21adf4c8bb4fac95416edb37f93844": {
      "model_module": "@jupyter-widgets/controls",
      "model_module_version": "1.5.0",
      "model_name": "ColorPickerModel",
      "state": {
       "description": "emission",
       "disabled": false,
       "layout": "IPY_MODEL_09b9272d2fe1478a8549297784bc14dc",
       "style": "IPY_MODEL_dde1071f08f442b987043d10dc31e5dd",
       "value": "#000000"
      }
     },
     "2e291dc0a02b4b878cc21b93ac478bfd": {
      "model_module": "@jupyter-widgets/base",
      "model_module_version": "1.2.0",
      "model_name": "LayoutModel",
      "state": {}
     },
     "2e48c81795b64dcba33d064847595389": {
      "model_module": "@jupyter-widgets/base",
      "model_module_version": "1.2.0",
      "model_name": "LayoutModel",
      "state": {}
     },
     "2e4a8e24f3cb480f948147e7187812ba": {
      "model_module": "@jupyter-widgets/base",
      "model_module_version": "1.2.0",
      "model_name": "LayoutModel",
      "state": {}
     },
     "2e83ffb67736453ba28acc20275e238f": {
      "model_module": "@jupyter-widgets/base",
      "model_module_version": "1.2.0",
      "model_name": "LayoutModel",
      "state": {}
     },
     "2ebfcf29b8b347bcbb892e15552a4724": {
      "model_module": "@jupyter-widgets/controls",
      "model_module_version": "1.5.0",
      "model_name": "DropdownModel",
      "state": {
       "_options_labels": [
        "Integer",
        "Float",
        "Bool"
       ],
       "index": 0,
       "layout": "IPY_MODEL_530074057fcd4130a243bde3a073669b",
       "style": "IPY_MODEL_e248c6cad0a7477090a5f66a3ae950b9"
      }
     },
     "2ed237c444f041958ac480d559718a9b": {
      "model_module": "@jupyter-widgets/controls",
      "model_module_version": "1.5.0",
      "model_name": "TextModel",
      "state": {
       "continuous_update": false,
       "description": "name",
       "layout": "IPY_MODEL_c32f6b4c4d3c4559935e3f52d16dc798",
       "style": "IPY_MODEL_8f87f71addf8423b8fb30f7dbf62cc02",
       "value": "leafduration"
      }
     },
     "2efed7a1fa88483699467354d3562b8e": {
      "model_module": "@jupyter-widgets/base",
      "model_module_version": "1.2.0",
      "model_name": "LayoutModel",
      "state": {}
     },
     "2f0afcc5db404c0c9baabdd8288c7f23": {
      "model_module": "@jupyter-widgets/controls",
      "model_module_version": "1.5.0",
      "model_name": "TabModel",
      "state": {
       "_titles": {
        "0": "leuwenberg.json"
       },
       "children": [
        "IPY_MODEL_73496737da0c4b479a2e43c89062fdf3"
       ],
       "layout": "IPY_MODEL_2f120020ca8d4391a2338862187e2aa9"
      }
     },
     "2f120020ca8d4391a2338862187e2aa9": {
      "model_module": "@jupyter-widgets/base",
      "model_module_version": "1.2.0",
      "model_name": "LayoutModel",
      "state": {}
     },
     "2f17b1525d00451c858cb41c69112c69": {
      "model_module": "@jupyter-widgets/controls",
      "model_module_version": "1.5.0",
      "model_name": "ButtonStyleModel",
      "state": {}
     },
     "2f2a18791e474473882476c2b545f886": {
      "model_module": "@jupyter-widgets/controls",
      "model_module_version": "1.5.0",
      "model_name": "BoundedIntTextModel",
      "state": {
       "description": "index",
       "layout": "IPY_MODEL_4ba98a3088f249428269655303174413",
       "style": "IPY_MODEL_604d1a618d0d48e8ba8e49ac54668dfb",
       "value": 4
      }
     },
     "2f44d75cf5a94a1f952b35bf8347abb8": {
      "model_module": "@jupyter-widgets/controls",
      "model_module_version": "1.5.0",
      "model_name": "TextModel",
      "state": {
       "continuous_update": false,
       "description": "name",
       "layout": "IPY_MODEL_436fd876208e40f2bed14a468634cd12",
       "style": "IPY_MODEL_34cde60d4db54699b827b7171ab0d6da",
       "value": "leafold"
      }
     },
     "2f62c1ab623c4435ae109ecf1f320711": {
      "model_module": "@jupyter-widgets/base",
      "model_module_version": "1.2.0",
      "model_name": "LayoutModel",
      "state": {}
     },
     "2f7990fb68574e08a097ad24e9646305": {
      "model_module": "@jupyter-widgets/controls",
      "model_module_version": "1.5.0",
      "model_name": "ButtonStyleModel",
      "state": {}
     },
     "2fa0e323165245eba4d3e15b8215c92f": {
      "model_module": "@jupyter-widgets/base",
      "model_module_version": "1.2.0",
      "model_name": "LayoutModel",
      "state": {}
     },
     "3000a614557743cbb42abf392046434f": {
      "model_module": "@jupyter-widgets/base",
      "model_module_version": "1.2.0",
      "model_name": "LayoutModel",
      "state": {}
     },
     "3036709698c94d53ac94124615b9612e": {
      "model_module": "@jupyter-widgets/controls",
      "model_module_version": "1.5.0",
      "model_name": "VBoxModel",
      "state": {
       "children": [
        "IPY_MODEL_34e6f4f09b2d4c69b0edd0a18c352caf",
        "IPY_MODEL_6b64f44ea36c41a0bce14ae865b76233"
       ],
       "layout": "IPY_MODEL_82e2fd1b3d93436b87d96fe4772c750c"
      }
     },
     "3036777e7fe24a1599267429c31acd12": {
      "model_module": "@jupyter-widgets/controls",
      "model_module_version": "1.5.0",
      "model_name": "DescriptionStyleModel",
      "state": {
       "description_width": ""
      }
     },
     "30473609ffbf4e1781ef3e743132ea77": {
      "model_module": "@jupyter-widgets/controls",
      "model_module_version": "1.5.0",
      "model_name": "ColorPickerModel",
      "state": {
       "description": "specular",
       "disabled": false,
       "layout": "IPY_MODEL_d4ef39502216401ca3c2e7381d844b04",
       "style": "IPY_MODEL_38271c79a85044a1a2f372e45b7f3762",
       "value": "#282828"
      }
     },
     "304e2cc8f62a4765b62a59138286ab58": {
      "model_module": "@jupyter-widgets/controls",
      "model_module_version": "1.5.0",
      "model_name": "ColorPickerModel",
      "state": {
       "description": "emission",
       "disabled": false,
       "layout": "IPY_MODEL_bcf4fc941c344389979acd078603c0fc",
       "style": "IPY_MODEL_c9ee8ed99d854415b137aeef8b399bf7",
       "value": "#000000"
      }
     },
     "30d8f21dda4646f0acb3611afa8c89a6": {
      "model_module": "@jupyter-widgets/controls",
      "model_module_version": "1.5.0",
      "model_name": "SliderStyleModel",
      "state": {
       "description_width": ""
      }
     },
     "310624f7b16b4f028b5ca1be66aaddee": {
      "model_module": "@jupyter-widgets/controls",
      "model_module_version": "1.5.0",
      "model_name": "TextModel",
      "state": {
       "continuous_update": false,
       "description": "name",
       "layout": "IPY_MODEL_b8c7f3e772e0418984b752d8cabfe954",
       "style": "IPY_MODEL_dfbf3f0450ae43368952951aba7baba3",
       "value": "leafold"
      }
     },
     "3118b20c6b1b41b095139fadd7aa0f5e": {
      "model_module": "@jupyter-widgets/controls",
      "model_module_version": "1.5.0",
      "model_name": "HBoxModel",
      "state": {
       "children": [
        "IPY_MODEL_fd123b157eeb4540a7cc729aaa32ef3f",
        "IPY_MODEL_a2b015214e0846d9ac5d81a1bebac7b4"
       ],
       "layout": "IPY_MODEL_c668486775d54df3a202a26b6d1a94af"
      }
     },
     "311ce300b7c84bb79c37a6974f900649": {
      "model_module": "@jupyter-widgets/controls",
      "model_module_version": "1.5.0",
      "model_name": "ButtonModel",
      "state": {
       "description": "Delete",
       "layout": "IPY_MODEL_d007a3afb7ef4e6ab1691e067fa2adc5",
       "style": "IPY_MODEL_7878f40721f94603b8bcdf02db2a6f8c"
      }
     },
     "31516d112bb34f208b3e2ebaa6a85f0f": {
      "model_module": "@jupyter-widgets/controls",
      "model_module_version": "1.5.0",
      "model_name": "SliderStyleModel",
      "state": {
       "description_width": ""
      }
     },
     "3152de1fa1164856a37a0aa90a315025": {
      "model_module": "pgljupyter",
      "model_module_version": "^0.1.17",
      "model_name": "IntEditorModel",
      "state": {
       "_model_module_version": "^0.1.17",
       "_view_module_version": "^0.1.17",
       "children": [
        "IPY_MODEL_526eb050a3ef4576aa3195631f16da0b",
        "IPY_MODEL_4720179570ea4e868498362e539111b3"
       ],
       "layout": "IPY_MODEL_d3311825194e40848ec86c6df05ec71f"
      }
     },
     "3195adc8fefb45378839f142bc7b7fdc": {
      "model_module": "@jupyter-widgets/base",
      "model_module_version": "1.2.0",
      "model_name": "LayoutModel",
      "state": {}
     },
     "31ff80b71d0e49b293026e52abfdb4bc": {
      "model_module": "@jupyter-widgets/controls",
      "model_module_version": "1.5.0",
      "model_name": "HBoxModel",
      "state": {
       "children": [
        "IPY_MODEL_98fe3261f12c4e249958290f37ba93d2",
        "IPY_MODEL_02a935317d5e4652b323d2ec7d9e44eb"
       ],
       "layout": "IPY_MODEL_20ab7410ec8c4e87a7028f3830335948"
      }
     },
     "3324d05d1f6847678f57a1016eafaa0e": {
      "model_module": "@jupyter-widgets/controls",
      "model_module_version": "1.5.0",
      "model_name": "DescriptionStyleModel",
      "state": {
       "description_width": ""
      }
     },
     "33370c23f7f94edbae64929f7be4a58c": {
      "model_module": "@jupyter-widgets/base",
      "model_module_version": "1.2.0",
      "model_name": "LayoutModel",
      "state": {
       "margin": "20px 0px"
      }
     },
     "333c1c1af63143dfb66f43fe624cc4ba": {
      "model_module": "@jupyter-widgets/controls",
      "model_module_version": "1.5.0",
      "model_name": "ButtonStyleModel",
      "state": {}
     },
     "3370ab19ca7d4eb6bd833095110e8888": {
      "model_module": "@jupyter-widgets/controls",
      "model_module_version": "1.5.0",
      "model_name": "HBoxModel",
      "state": {
       "children": [
        "IPY_MODEL_db5f6dc768de4f52af107562f58156fb",
        "IPY_MODEL_ef5333f5371043d19deb770e002aef6f"
       ],
       "layout": "IPY_MODEL_4ef238a8a44a43369f6ff4c32bb90c5c"
      }
     },
     "33a25a7f6c774d99a2ad689dcc5a28a6": {
      "model_module": "@jupyter-widgets/controls",
      "model_module_version": "1.5.0",
      "model_name": "ButtonStyleModel",
      "state": {}
     },
     "33df28684ad348f5b03827854e48c752": {
      "model_module": "@jupyter-widgets/controls",
      "model_module_version": "1.5.0",
      "model_name": "SliderStyleModel",
      "state": {
       "description_width": ""
      }
     },
     "33ecac72bc1645e0b487c066dc742e70": {
      "model_module": "@jupyter-widgets/controls",
      "model_module_version": "1.5.0",
      "model_name": "TextModel",
      "state": {
       "continuous_update": false,
       "description": "name",
       "layout": "IPY_MODEL_407661e8679b4f3b9602e2daaddae72e",
       "style": "IPY_MODEL_a6a5cc76976d4a088ca7e7f307750adf",
       "value": "leaf_new"
      }
     },
     "34039ec0ba934c63862e396616b031ef": {
      "model_module": "@jupyter-widgets/controls",
      "model_module_version": "1.5.0",
      "model_name": "ButtonModel",
      "state": {
       "description": "Add category",
       "layout": "IPY_MODEL_f3b5f46f7b7c466baaef384604030357",
       "style": "IPY_MODEL_54afde6385054afa854c63b78d32c519"
      }
     },
     "340f0dbc98ff42bda049e2e8bbb7b838": {
      "model_module": "@jupyter-widgets/base",
      "model_module_version": "1.2.0",
      "model_name": "LayoutModel",
      "state": {}
     },
     "3423cf0a4514403f822864a725d3fedc": {
      "model_module": "@jupyter-widgets/base",
      "model_module_version": "1.2.0",
      "model_name": "LayoutModel",
      "state": {}
     },
     "34cde60d4db54699b827b7171ab0d6da": {
      "model_module": "@jupyter-widgets/controls",
      "model_module_version": "1.5.0",
      "model_name": "DescriptionStyleModel",
      "state": {
       "description_width": ""
      }
     },
     "34e6f4f09b2d4c69b0edd0a18c352caf": {
      "model_module": "@jupyter-widgets/controls",
      "model_module_version": "1.5.0",
      "model_name": "HBoxModel",
      "state": {
       "layout": "IPY_MODEL_f7ff34c66d4b431c8d7a458913ac23de"
      }
     },
     "352b11aaadc949e5b6d43b2af8c9c8bf": {
      "model_module": "@jupyter-widgets/controls",
      "model_module_version": "1.5.0",
      "model_name": "DescriptionStyleModel",
      "state": {
       "description_width": ""
      }
     },
     "353ddb1420fc4c4b98046d215b3a0a75": {
      "model_module": "@jupyter-widgets/controls",
      "model_module_version": "1.5.0",
      "model_name": "VBoxModel",
      "state": {
       "children": [
        "IPY_MODEL_4ee93253ee1e4f019df07258a39d8b47",
        "IPY_MODEL_d77d077081bb4eb8baa6f71acfaca80d",
        "IPY_MODEL_7607d9a6764a4b5585e648fdb1289c55",
        "IPY_MODEL_35ad94a74fd54bed8475e8324c36f8d3",
        "IPY_MODEL_1a3a8e4cff4b498aad3788925124b846"
       ],
       "layout": "IPY_MODEL_ad1542a9ee5d493fb7cad40f4ec24a08"
      }
     },
     "3581f98b0e0b489eb1e8d1ffb45828de": {
      "model_module": "@jupyter-widgets/base",
      "model_module_version": "1.2.0",
      "model_name": "LayoutModel",
      "state": {}
     },
     "35888e4f3f5048409ae7317289d152bd": {
      "model_module": "@jupyter-widgets/base",
      "model_module_version": "1.2.0",
      "model_name": "LayoutModel",
      "state": {
       "margin": "20px 0px"
      }
     },
     "35ad94a74fd54bed8475e8324c36f8d3": {
      "model_module": "@jupyter-widgets/controls",
      "model_module_version": "1.5.0",
      "model_name": "HBoxModel",
      "state": {
       "children": [
        "IPY_MODEL_4846a27e60cc441d93d5c535ffde0e6e",
        "IPY_MODEL_6f0f8070aff54befb01d59fb84b450b7"
       ],
       "layout": "IPY_MODEL_f7ff34c66d4b431c8d7a458913ac23de"
      }
     },
     "35de142236d6430682387800cc229756": {
      "model_module": "@jupyter-widgets/controls",
      "model_module_version": "1.5.0",
      "model_name": "VBoxModel",
      "state": {
       "children": [
        "IPY_MODEL_417217b16fe444758f93fa05fe33456f",
        "IPY_MODEL_b52d8d1f7a39435a937737cba39c4169"
       ],
       "layout": "IPY_MODEL_63354b64c5c6445686dd6064588bcd06"
      }
     },
     "36206315b4434144abd918600eba897c": {
      "model_module": "@jupyter-widgets/controls",
      "model_module_version": "1.5.0",
      "model_name": "HBoxModel",
      "state": {
       "children": [
        "IPY_MODEL_08c9c604a4d44fa3be0d38a0cee344e7",
        "IPY_MODEL_ae6582bcdffa4a9ea49948fb8e79804f"
       ],
       "layout": "IPY_MODEL_aee7a263a0f64a1fbea2c127454b5880"
      }
     },
     "368bf31b2cd549b2949bece28e1205ad": {
      "model_module": "@jupyter-widgets/controls",
      "model_module_version": "1.5.0",
      "model_name": "CheckboxModel",
      "state": {
       "description": "Auto save",
       "disabled": false,
       "layout": "IPY_MODEL_2c4a0f6f749e428e81918dc2b18b6073",
       "style": "IPY_MODEL_fb7df1f7b61a4ed2818a12f94a3168c4",
       "value": false
      }
     },
     "36cefaebd481433a986da12e8f4ca923": {
      "model_module": "@jupyter-widgets/base",
      "model_module_version": "1.2.0",
      "model_name": "LayoutModel",
      "state": {}
     },
     "36dae7e778b4478990ee42ee7dd61824": {
      "model_module": "@jupyter-widgets/base",
      "model_module_version": "1.2.0",
      "model_name": "LayoutModel",
      "state": {}
     },
     "37056445934e4abba973138c48789f20": {
      "model_module": "@jupyter-widgets/controls",
      "model_module_version": "1.5.0",
      "model_name": "DescriptionStyleModel",
      "state": {
       "description_width": ""
      }
     },
     "3761ab3b962b4bdc83a0b5c3edaaf2f4": {
      "model_module": "@jupyter-widgets/base",
      "model_module_version": "1.2.0",
      "model_name": "LayoutModel",
      "state": {}
     },
     "37a93703112240f1b4ba6fd167b2abd8": {
      "model_module": "@jupyter-widgets/base",
      "model_module_version": "1.2.0",
      "model_name": "LayoutModel",
      "state": {}
     },
     "37ab0aab470c48e49c20c495f371e4d0": {
      "model_module": "@jupyter-widgets/base",
      "model_module_version": "1.2.0",
      "model_name": "LayoutModel",
      "state": {}
     },
     "37b2865fee2b4a02bc2013f64eaefc86": {
      "model_module": "@jupyter-widgets/base",
      "model_module_version": "1.2.0",
      "model_name": "LayoutModel",
      "state": {
       "flex_flow": "row wrap"
      }
     },
     "37bad97f36864d09b884b5b159f845c5": {
      "model_module": "@jupyter-widgets/controls",
      "model_module_version": "1.5.0",
      "model_name": "ColorPickerModel",
      "state": {
       "description": "specular",
       "disabled": false,
       "layout": "IPY_MODEL_8ed6d95dd9ef49ee8cf874817418fc76",
       "style": "IPY_MODEL_e9582f1549fd47149a0a82f1ee63f055",
       "value": "#282828"
      }
     },
     "37be1e18450a48628dc1cfe7889e3ae0": {
      "model_module": "@jupyter-widgets/base",
      "model_module_version": "1.2.0",
      "model_name": "LayoutModel",
      "state": {}
     },
     "37cb01c9b3e84e9da135afac63cb3f28": {
      "model_module": "@jupyter-widgets/base",
      "model_module_version": "1.2.0",
      "model_name": "LayoutModel",
      "state": {}
     },
     "37d590580784486799b82835c1490cd0": {
      "model_module": "pgljupyter",
      "model_module_version": "^0.1.18",
      "model_name": "IntEditorModel",
      "state": {
       "_model_module_version": "^0.1.18",
       "_view_module_version": "^0.1.18",
       "children": [
        "IPY_MODEL_db9ed437c56e4afcaea7ce8551e64a91",
        "IPY_MODEL_1495c1165fc748ae8bb58d756996d706"
       ],
       "layout": "IPY_MODEL_e18491acb9394f188ffa2c3096839935"
      }
     },
     "38271c79a85044a1a2f372e45b7f3762": {
      "model_module": "@jupyter-widgets/controls",
      "model_module_version": "1.5.0",
      "model_name": "DescriptionStyleModel",
      "state": {
       "description_width": ""
      }
     },
     "382ba098f6cc4adf8bfb135a9de7b6d8": {
      "model_module": "@jupyter-widgets/base",
      "model_module_version": "1.2.0",
      "model_name": "LayoutModel",
      "state": {}
     },
     "3859230710584fe98955e85d63f45d07": {
      "model_module": "@jupyter-widgets/base",
      "model_module_version": "1.2.0",
      "model_name": "LayoutModel",
      "state": {}
     },
     "38af2c3340fa4dccbe1fe87f084d021e": {
      "model_module": "@jupyter-widgets/controls",
      "model_module_version": "1.5.0",
      "model_name": "ColorPickerModel",
      "state": {
       "description": "specular",
       "disabled": false,
       "layout": "IPY_MODEL_a4330bdab939492fbed45caab83a37b0",
       "style": "IPY_MODEL_e1ad944eafa344f19b268b968727ebe2",
       "value": "#282828"
      }
     },
     "38c72ff473424ad9bfe39cfda219b63e": {
      "model_module": "@jupyter-widgets/controls",
      "model_module_version": "1.5.0",
      "model_name": "DescriptionStyleModel",
      "state": {
       "description_width": ""
      }
     },
     "38e26cd9e23545518709851cba698d94": {
      "model_module": "@jupyter-widgets/base",
      "model_module_version": "1.2.0",
      "model_name": "LayoutModel",
      "state": {}
     },
     "38f0ad6d78c543e584e0999e772ae5b0": {
      "model_module": "@jupyter-widgets/controls",
      "model_module_version": "1.5.0",
      "model_name": "DescriptionStyleModel",
      "state": {
       "description_width": ""
      }
     },
     "3906a75a08ed413aba2363f7e4fa3366": {
      "model_module": "@jupyter-widgets/controls",
      "model_module_version": "1.5.0",
      "model_name": "TextModel",
      "state": {
       "continuous_update": false,
       "description": "name",
       "layout": "IPY_MODEL_4b2b575ede144d15b37a9b26cc73c875",
       "style": "IPY_MODEL_504c852fdd62470d9fce5fbb9e9e18bc",
       "value": "maxorder"
      }
     },
     "39084374a571435e824d7618f816aad4": {
      "model_module": "@jupyter-widgets/base",
      "model_module_version": "1.2.0",
      "model_name": "LayoutModel",
      "state": {}
     },
     "391878e8ba0540f5adaa617056b8dd47": {
      "model_module": "@jupyter-widgets/controls",
      "model_module_version": "1.5.0",
      "model_name": "DescriptionStyleModel",
      "state": {
       "description_width": ""
      }
     },
     "3969e43bd2ff40cd9083e491f4ee8a61": {
      "model_module": "@jupyter-widgets/controls",
      "model_module_version": "1.5.0",
      "model_name": "TextModel",
      "state": {
       "continuous_update": false,
       "description": "name",
       "layout": "IPY_MODEL_2f62c1ab623c4435ae109ecf1f320711",
       "style": "IPY_MODEL_8f51043f8eec495db2aa437cf47dd5d0",
       "value": "radinc"
      }
     },
     "399fc3d82a3b4cb6984cdc1806f6c118": {
      "model_module": "@jupyter-widgets/controls",
      "model_module_version": "1.5.0",
      "model_name": "TextModel",
      "state": {
       "continuous_update": false,
       "description": "name",
       "layout": "IPY_MODEL_b3845888ce8d4ad4986e97d2f893e730",
       "style": "IPY_MODEL_6d1a398411bc4c81808725799dd684d4",
       "value": "leaf_old"
      }
     },
     "39b48239860647a19accd22046ec23a9": {
      "model_module": "@jupyter-widgets/base",
      "model_module_version": "1.2.0",
      "model_name": "LayoutModel",
      "state": {}
     },
     "3af78c5ade4d410a8a1156f28dde5870": {
      "model_module": "@jupyter-widgets/base",
      "model_module_version": "1.2.0",
      "model_name": "LayoutModel",
      "state": {}
     },
     "3afbf51007944e8f8954670763c456a2": {
      "model_module": "@jupyter-widgets/base",
      "model_module_version": "1.2.0",
      "model_name": "LayoutModel",
      "state": {}
     },
     "3b280508434144bfb2cc499f02a544f3": {
      "model_module": "@jupyter-widgets/base",
      "model_module_version": "1.2.0",
      "model_name": "LayoutModel",
      "state": {
       "margin": "20px 0px"
      }
     },
     "3b3e23c52c034fbba7d416e65c71d04a": {
      "model_module": "@jupyter-widgets/controls",
      "model_module_version": "1.5.0",
      "model_name": "ButtonStyleModel",
      "state": {}
     },
     "3b4a50bb20de416aaf7650c47c84598b": {
      "model_module": "@jupyter-widgets/base",
      "model_module_version": "1.2.0",
      "model_name": "LayoutModel",
      "state": {}
     },
     "3b6e5ecfd1944c16b6776d9fc68b197f": {
      "model_module": "@jupyter-widgets/controls",
      "model_module_version": "1.5.0",
      "model_name": "ColorPickerModel",
      "state": {
       "description": "emission",
       "disabled": false,
       "layout": "IPY_MODEL_02cd8be6c855476f923f34ecaade3abd",
       "style": "IPY_MODEL_b0278727c6984480ae67b3caa91c5c28",
       "value": "#000000"
      }
     },
     "3b6eb237ab884fc6a9851aa3c2d821fe": {
      "model_module": "@jupyter-widgets/base",
      "model_module_version": "1.2.0",
      "model_name": "LayoutModel",
      "state": {}
     },
     "3b8516e57df04b72aa4033410b7cc6fb": {
      "model_module": "@jupyter-widgets/controls",
      "model_module_version": "1.5.0",
      "model_name": "DescriptionStyleModel",
      "state": {
       "description_width": ""
      }
     },
     "3ba3327a9ad340168a7a06f365fdced1": {
      "model_module": "@jupyter-widgets/base",
      "model_module_version": "1.2.0",
      "model_name": "LayoutModel",
      "state": {}
     },
     "3ba93cb374114bc4a5fdc1c020fb99d2": {
      "model_module": "@jupyter-widgets/base",
      "model_module_version": "1.2.0",
      "model_name": "LayoutModel",
      "state": {}
     },
     "3bc727a4c5e842eba687117ad175a2bc": {
      "model_module": "@jupyter-widgets/base",
      "model_module_version": "1.2.0",
      "model_name": "LayoutModel",
      "state": {}
     },
     "3bc82dbd12c54e549771ee3d9cd55b1d": {
      "model_module": "@jupyter-widgets/base",
      "model_module_version": "1.2.0",
      "model_name": "LayoutModel",
      "state": {}
     },
     "3bcea9f32a2f480c95fd4897749b2ca9": {
      "model_module": "@jupyter-widgets/controls",
      "model_module_version": "1.5.0",
      "model_name": "TextModel",
      "state": {
       "layout": "IPY_MODEL_ee257afeb107428795eb942a17db9082",
       "placeholder": "category name",
       "style": "IPY_MODEL_f6831da68c52444e88220f9ed6ef5b40"
      }
     },
     "3bd8c5155e614aa49b91b3ee03106bb8": {
      "model_module": "@jupyter-widgets/base",
      "model_module_version": "1.2.0",
      "model_name": "LayoutModel",
      "state": {}
     },
     "3c896b356b9b402f8ae6e80bf9405ba7": {
      "model_module": "@jupyter-widgets/base",
      "model_module_version": "1.2.0",
      "model_name": "LayoutModel",
      "state": {}
     },
     "3c9570eda3684eab96511e129bb5cee0": {
      "model_module": "pgljupyter",
      "model_module_version": "^0.1.17",
      "model_name": "IntEditorModel",
      "state": {
       "_model_module_version": "^0.1.17",
       "_view_module_version": "^0.1.17",
       "children": [
        "IPY_MODEL_424624df5c714774b94c513145e29a9c",
        "IPY_MODEL_2db2f596971f45688e65a9abdd337586"
       ],
       "layout": "IPY_MODEL_e14b8d9da9d94827aa6e7a2c4a59032a"
      }
     },
     "3de3b034852b47c9a285b62f838b9986": {
      "model_module": "@jupyter-widgets/controls",
      "model_module_version": "1.5.0",
      "model_name": "DescriptionStyleModel",
      "state": {
       "description_width": ""
      }
     },
     "3e2965ac15734eacbe93346089045d2a": {
      "model_module": "pgljupyter",
      "model_module_version": "^0.1.16",
      "model_name": "IntEditorModel",
      "state": {
       "_model_module_version": "^0.1.16",
       "_view_module_version": "^0.1.16",
       "children": [
        "IPY_MODEL_a72f273cdb3945e394051fb5a3ed72de",
        "IPY_MODEL_f07ec7a47aa64a3a83eebeecca3f4573",
        "IPY_MODEL_1d6ac4f49b314f0e9fb3532cfc3b8bce",
        "IPY_MODEL_0f84ed044f5d499287d57c8c98211fae",
        "IPY_MODEL_06a4c0bb621c49b0a886a6f2d4b71f84"
       ],
       "layout": "IPY_MODEL_16bd9822848d4ea8a76ae7ebedd16681"
      }
     },
     "3e44ac9e61c14a0f9579e3363460f583": {
      "model_module": "@jupyter-widgets/controls",
      "model_module_version": "1.5.0",
      "model_name": "ColorPickerModel",
      "state": {
       "description": "emission",
       "disabled": false,
       "layout": "IPY_MODEL_4885badfb81242a3a0e907414c08b51f",
       "style": "IPY_MODEL_0a8707e65f2346558a9ab598cc46de95",
       "value": "#000000"
      }
     },
     "3ec386de663b4617bc9f49b851f4ac02": {
      "model_module": "@jupyter-widgets/controls",
      "model_module_version": "1.5.0",
      "model_name": "ButtonStyleModel",
      "state": {}
     },
     "3eebd7d76fd1439fb7e9a86462a20975": {
      "model_module": "@jupyter-widgets/controls",
      "model_module_version": "1.5.0",
      "model_name": "ButtonStyleModel",
      "state": {}
     },
     "3f1c5cb37d464c0c965c97fc3a1e7f60": {
      "model_module": "@jupyter-widgets/controls",
      "model_module_version": "1.5.0",
      "model_name": "DropdownModel",
      "state": {
       "_options_labels": [
        "Color"
       ],
       "index": 0,
       "layout": "IPY_MODEL_04c46391563944e09f827e89ec2715fa",
       "style": "IPY_MODEL_352b11aaadc949e5b6d43b2af8c9c8bf"
      }
     },
     "3f1ceb1b479240d594f1881f8013d88a": {
      "model_module": "@jupyter-widgets/base",
      "model_module_version": "1.2.0",
      "model_name": "LayoutModel",
      "state": {}
     },
     "3f7ba822c536404481bce2f09c84de9d": {
      "model_module": "@jupyter-widgets/base",
      "model_module_version": "1.2.0",
      "model_name": "LayoutModel",
      "state": {}
     },
     "3f9a1ab9b1b04ceb9f3c4d04a7d00904": {
      "model_module": "@jupyter-widgets/controls",
      "model_module_version": "1.5.0",
      "model_name": "TextModel",
      "state": {
       "continuous_update": false,
       "description": "name",
       "layout": "IPY_MODEL_3f1ceb1b479240d594f1881f8013d88a",
       "style": "IPY_MODEL_ac71f1c55d9948e19e588813ff85983b",
       "value": "color_1"
      }
     },
     "3fb78370b75d48e69e4114fc1065c34c": {
      "model_module": "@jupyter-widgets/base",
      "model_module_version": "1.2.0",
      "model_name": "LayoutModel",
      "state": {}
     },
     "403ce4d89d824f1c8e0c931714a623aa": {
      "model_module": "@jupyter-widgets/controls",
      "model_module_version": "1.5.0",
      "model_name": "ButtonStyleModel",
      "state": {}
     },
     "4045fe6afc194dcaa3f2c54427fa1745": {
      "model_module": "@jupyter-widgets/controls",
      "model_module_version": "1.5.0",
      "model_name": "DescriptionStyleModel",
      "state": {
       "description_width": ""
      }
     },
     "405490f3003747ea84770f0ca8eba3fa": {
      "model_module": "@jupyter-widgets/controls",
      "model_module_version": "1.5.0",
      "model_name": "AccordionModel",
      "state": {
       "_titles": {
        "0": "materials",
        "1": "leaf",
        "2": "trunk & branches"
       },
       "children": [
        "IPY_MODEL_21584ab197984ba29419802ea60fc1c8",
        "IPY_MODEL_2718cbd168e24762a6996c846ee444dd",
        "IPY_MODEL_b44429e02b1c4c018efe9629e58572c3"
       ],
       "layout": "IPY_MODEL_0a40116d2d3a429698a87f2d38fdcbf3"
      }
     },
     "406538f49d474b288e16fda7dd512c69": {
      "model_module": "@jupyter-widgets/base",
      "model_module_version": "1.2.0",
      "model_name": "LayoutModel",
      "state": {}
     },
     "407661e8679b4f3b9602e2daaddae72e": {
      "model_module": "@jupyter-widgets/base",
      "model_module_version": "1.2.0",
      "model_name": "LayoutModel",
      "state": {}
     },
     "407e1eb8df67478aa2edf212374198dd": {
      "model_module": "@jupyter-widgets/controls",
      "model_module_version": "1.5.0",
      "model_name": "HBoxModel",
      "state": {
       "children": [
        "IPY_MODEL_586fe9088889439284707fb54ba3ec23",
        "IPY_MODEL_b97945cdd79940218cc6b9ce0f099d89"
       ],
       "layout": "IPY_MODEL_d4fcee8507e649a6822506b7eaf235b2"
      }
     },
     "408d582856e84421a763fa391a9130a8": {
      "model_module": "@jupyter-widgets/controls",
      "model_module_version": "1.5.0",
      "model_name": "TextModel",
      "state": {
       "continuous_update": false,
       "description": "name",
       "layout": "IPY_MODEL_45975a20708e4eefa5f5626f0c67680a",
       "style": "IPY_MODEL_e084bfa6a964476eace5b955c0359580",
       "value": "apex"
      }
     },
     "40b8836f5c9a48a5a579b8ab931ba7aa": {
      "model_module": "@jupyter-widgets/controls",
      "model_module_version": "1.5.0",
      "model_name": "ButtonModel",
      "state": {
       "description": "Delete",
       "layout": "IPY_MODEL_20b13acc67a845f6956f498c04e38806",
       "style": "IPY_MODEL_3eebd7d76fd1439fb7e9a86462a20975"
      }
     },
     "40ccbdcf094944daacad40f2478bd3f3": {
      "model_module": "@jupyter-widgets/controls",
      "model_module_version": "1.5.0",
      "model_name": "DescriptionStyleModel",
      "state": {
       "description_width": ""
      }
     },
     "40d3cad94876411eb2c2b28bed44d044": {
      "model_module": "@jupyter-widgets/base",
      "model_module_version": "1.2.0",
      "model_name": "LayoutModel",
      "state": {}
     },
     "41173f204e7842519840674a61a7e434": {
      "model_module": "@jupyter-widgets/controls",
      "model_module_version": "1.5.0",
      "model_name": "HBoxModel",
      "state": {
       "children": [
        "IPY_MODEL_9b9a7369a8eb4f5da61755ac616f74c3",
        "IPY_MODEL_da90b6b6b6334b2d8566268731ae92f4"
       ],
       "layout": "IPY_MODEL_3c896b356b9b402f8ae6e80bf9405ba7"
      }
     },
     "41374977018a4cc590e2913add7f287a": {
      "model_module": "@jupyter-widgets/controls",
      "model_module_version": "1.5.0",
      "model_name": "FloatSliderModel",
      "state": {
       "description": "diffuse",
       "layout": "IPY_MODEL_2e83ffb67736453ba28acc20275e238f",
       "max": 3,
       "step": 0.1,
       "style": "IPY_MODEL_bb16c1d4c8a841829bfb8da15b3bea9a",
       "value": 1
      }
     },
     "41689189f03a44738c5a6d8d77d673f0": {
      "model_module": "@jupyter-widgets/base",
      "model_module_version": "1.2.0",
      "model_name": "LayoutModel",
      "state": {
       "margin": "20px 0px"
      }
     },
     "417217b16fe444758f93fa05fe33456f": {
      "model_module": "@jupyter-widgets/controls",
      "model_module_version": "1.5.0",
      "model_name": "HBoxModel",
      "state": {
       "children": [
        "IPY_MODEL_4c59ca8cf18245f5a14540938a82f127",
        "IPY_MODEL_bf9f735211574d32bf9d5fa02ec1e786"
       ],
       "layout": "IPY_MODEL_0edf0711fcd443488bc2bd1811f52c38"
      }
     },
     "417e8e140cdf4466b6d508d357de4584": {
      "model_module": "@jupyter-widgets/controls",
      "model_module_version": "1.5.0",
      "model_name": "ButtonModel",
      "state": {
       "description": "Save changes",
       "layout": "IPY_MODEL_c989202804bb452e8cb9723017e5f6c3",
       "style": "IPY_MODEL_6b8f0820ce5e43c796130647fa6eec1e"
      }
     },
     "4195dc0db72c4f82bb9bd5eead7e9779": {
      "model_module": "@jupyter-widgets/base",
      "model_module_version": "1.2.0",
      "model_name": "LayoutModel",
      "state": {}
     },
     "41cc1db02ba64e62b40ee9b19a788ac1": {
      "model_module": "@jupyter-widgets/base",
      "model_module_version": "1.2.0",
      "model_name": "LayoutModel",
      "state": {}
     },
     "421e1166bf044e938a7c55bfb05fe175": {
      "model_module": "@jupyter-widgets/controls",
      "model_module_version": "1.5.0",
      "model_name": "ButtonModel",
      "state": {
       "description": "Delete category",
       "layout": "IPY_MODEL_13d73679d1fc4c1dafedf885b7d2c851",
       "style": "IPY_MODEL_f26688f6c93d449ca3039c51f092914f"
      }
     },
     "42311b25a5ce4d1788e339ad94a4f81c": {
      "model_module": "@jupyter-widgets/controls",
      "model_module_version": "1.5.0",
      "model_name": "HBoxModel",
      "state": {
       "children": [
        "IPY_MODEL_704c51f2b4274443ae0128fcab864aca",
        "IPY_MODEL_7b1f4521fe574a5e82c85c51dbb7d298",
        "IPY_MODEL_cc343dc00b354cd18fece388a4875e4c"
       ],
       "layout": "IPY_MODEL_f54b6bb1cd9047f2913448b18542023e"
      }
     },
     "424624df5c714774b94c513145e29a9c": {
      "model_module": "@jupyter-widgets/controls",
      "model_module_version": "1.5.0",
      "model_name": "TextModel",
      "state": {
       "continuous_update": false,
       "description": "name",
       "layout": "IPY_MODEL_7b4693667f2d4338a8c79a9c6641cc55",
       "style": "IPY_MODEL_b8a8455ce5b040d0b828e4487621af24",
       "value": "nb_axes"
      }
     },
     "42507f01d821430991d4d3162cf5c980": {
      "model_module": "@jupyter-widgets/controls",
      "model_module_version": "1.5.0",
      "model_name": "ButtonStyleModel",
      "state": {}
     },
     "42733af347b24deeb6820dafdba23586": {
      "model_module": "@jupyter-widgets/controls",
      "model_module_version": "1.5.0",
      "model_name": "CheckboxModel",
      "state": {
       "description": "Auto save",
       "disabled": false,
       "layout": "IPY_MODEL_d0a6d8e803054098abe932e3805dde62",
       "style": "IPY_MODEL_841666774d4c43d9ae6d7eaf452a6732",
       "value": false
      }
     },
     "427e64e328734c2ea2a19855b06e1544": {
      "model_module": "@jupyter-widgets/base",
      "model_module_version": "1.2.0",
      "model_name": "LayoutModel",
      "state": {}
     },
     "428b97f3a6fc42759d90478a7ffb3457": {
      "model_module": "@jupyter-widgets/controls",
      "model_module_version": "1.5.0",
      "model_name": "ButtonModel",
      "state": {
       "description": "Add",
       "layout": "IPY_MODEL_f8bc8a94e6fc4a96a7ccd3d239c789b6",
       "style": "IPY_MODEL_0f41b5c50bdb442a8ef61d9d982b922d"
      }
     },
     "42c627ff3d74409cbca15e800caf7190": {
      "model_module": "@jupyter-widgets/controls",
      "model_module_version": "1.5.0",
      "model_name": "HBoxModel",
      "state": {
       "children": [
        "IPY_MODEL_311ce300b7c84bb79c37a6974f900649",
        "IPY_MODEL_a02f0afc7f6946cfbda70b9cb2bee9f9"
       ],
       "layout": "IPY_MODEL_ad0d38c2c2774e369fd4428f472136f0"
      }
     },
     "42e7b3c15d994cd6b5e009744d25d2cf": {
      "model_module": "@jupyter-widgets/base",
      "model_module_version": "1.2.0",
      "model_name": "LayoutModel",
      "state": {}
     },
     "431315f0bf144d2fa04d6ffc24c515f9": {
      "model_module": "@jupyter-widgets/base",
      "model_module_version": "1.2.0",
      "model_name": "LayoutModel",
      "state": {}
     },
     "436612109cc345eab450803b93d883e8": {
      "model_module": "@jupyter-widgets/controls",
      "model_module_version": "1.5.0",
      "model_name": "FloatTextModel",
      "state": {
       "description": "max",
       "layout": "IPY_MODEL_8cbb1af1d0af4ff9bb22fce6efa5827f",
       "step": null,
       "style": "IPY_MODEL_83a4686453db4032b8b41676af2640e3",
       "value": 0.1
      }
     },
     "436fd876208e40f2bed14a468634cd12": {
      "model_module": "@jupyter-widgets/base",
      "model_module_version": "1.2.0",
      "model_name": "LayoutModel",
      "state": {}
     },
     "4372a40b5e864ae785c713790258dbe4": {
      "model_module": "@jupyter-widgets/controls",
      "model_module_version": "1.5.0",
      "model_name": "ButtonModel",
      "state": {
       "description": "Delete",
       "layout": "IPY_MODEL_2b6bcb5538be448e892da6df8ef5fc7b",
       "style": "IPY_MODEL_9961b6fd43374fabbaa82d99027e4bb1"
      }
     },
     "440acb6e8011430aa874cae6aefacb36": {
      "model_module": "@jupyter-widgets/base",
      "model_module_version": "1.2.0",
      "model_name": "LayoutModel",
      "state": {}
     },
     "44131773a2c94fe0b4f6cf36799a8fd5": {
      "model_module": "@jupyter-widgets/base",
      "model_module_version": "1.2.0",
      "model_name": "LayoutModel",
      "state": {}
     },
     "445f90f4d3de40cb874172bbb0b2c38d": {
      "model_module": "@jupyter-widgets/controls",
      "model_module_version": "1.5.0",
      "model_name": "TextModel",
      "state": {
       "continuous_update": false,
       "description": "name",
       "layout": "IPY_MODEL_3b4a50bb20de416aaf7650c47c84598b",
       "style": "IPY_MODEL_a986327c2f5f410491da6da14c2b9def",
       "value": "leafold"
      }
     },
     "446d0c4274894c3b975472f4d7fb6e63": {
      "model_module": "@jupyter-widgets/controls",
      "model_module_version": "1.5.0",
      "model_name": "ColorPickerModel",
      "state": {
       "description": "emission",
       "disabled": false,
       "layout": "IPY_MODEL_ea37aa48e5954c09acb575e2396d3c05",
       "style": "IPY_MODEL_53d7302061eb4c8dab94848618029115",
       "value": "#000000"
      }
     },
     "44ee20673cb54cb197bb19275c2ee931": {
      "model_module": "@jupyter-widgets/controls",
      "model_module_version": "1.5.0",
      "model_name": "DescriptionStyleModel",
      "state": {
       "description_width": ""
      }
     },
     "44f5b99592c446f1b50b0f9407cf4305": {
      "model_module": "@jupyter-widgets/controls",
      "model_module_version": "1.5.0",
      "model_name": "TabModel",
      "state": {
       "layout": "IPY_MODEL_ad28097795614babac3adcc76c9b471c"
      }
     },
     "45109e056cae4646bd13589740cb2e07": {
      "model_module": "@jupyter-widgets/controls",
      "model_module_version": "1.5.0",
      "model_name": "ButtonModel",
      "state": {
       "description": "Add",
       "layout": "IPY_MODEL_fdd783e8cd6f4152908064599bd69390",
       "style": "IPY_MODEL_b4b34b837b2e417eb78863606b1d6e8d"
      }
     },
     "455ba0e06d5247ffb20550cc7189a0a9": {
      "model_module": "@jupyter-widgets/controls",
      "model_module_version": "1.5.0",
      "model_name": "FloatSliderModel",
      "state": {
       "description": "transparency",
       "layout": "IPY_MODEL_6ecb092e2f024e54ab3e5a0f2fecdaa1",
       "max": 1,
       "step": 0.1,
       "style": "IPY_MODEL_b88afe6051704699a445a1ca92a8653e"
      }
     },
     "455df1ed61f5486cac7c517343725455": {
      "model_module": "@jupyter-widgets/controls",
      "model_module_version": "1.5.0",
      "model_name": "DescriptionStyleModel",
      "state": {
       "description_width": ""
      }
     },
     "455f8aeaffa441bf93d43f30ccfb8f01": {
      "model_module": "@jupyter-widgets/base",
      "model_module_version": "1.2.0",
      "model_name": "LayoutModel",
      "state": {}
     },
     "458fbc06550843999bb8f82e518d7bba": {
      "model_module": "pgljupyter",
      "model_module_version": "^0.1.18",
      "model_name": "ParameterEditorModel",
      "state": {
       "_model_module_version": "^0.1.18",
       "_view_module_version": "^0.1.18",
       "children": [
        "IPY_MODEL_963604a85f104c0ea8afa21693108092"
       ],
       "layout": "IPY_MODEL_a4c87564910c4791b7ebc8217ae6af21"
      }
     },
     "45975a20708e4eefa5f5626f0c67680a": {
      "model_module": "@jupyter-widgets/base",
      "model_module_version": "1.2.0",
      "model_name": "LayoutModel",
      "state": {}
     },
     "459815904a114cb9b092e8b2c8f014dd": {
      "model_module": "@jupyter-widgets/base",
      "model_module_version": "1.2.0",
      "model_name": "LayoutModel",
      "state": {
       "margin": "20px 0px"
      }
     },
     "45f98c4f44d14504a22ffa36469c7310": {
      "model_module": "@jupyter-widgets/base",
      "model_module_version": "1.2.0",
      "model_name": "LayoutModel",
      "state": {}
     },
     "4623abe30f8746eb94835fdc33c089af": {
      "model_module": "@jupyter-widgets/controls",
      "model_module_version": "1.5.0",
      "model_name": "SliderStyleModel",
      "state": {
       "description_width": ""
      }
     },
     "468860202d6c4c5cbdaf75ab248c2dfa": {
      "model_module": "@jupyter-widgets/base",
      "model_module_version": "1.2.0",
      "model_name": "LayoutModel",
      "state": {}
     },
     "46bb048d9eec4d478fec36bfaa6b5a6b": {
      "model_module": "@jupyter-widgets/controls",
      "model_module_version": "1.5.0",
      "model_name": "DescriptionStyleModel",
      "state": {
       "description_width": ""
      }
     },
     "4700fadcbf6740eeacfb5f4d5442bcc5": {
      "model_module": "@jupyter-widgets/controls",
      "model_module_version": "1.5.0",
      "model_name": "DescriptionStyleModel",
      "state": {
       "description_width": ""
      }
     },
     "4720179570ea4e868498362e539111b3": {
      "model_module": "@jupyter-widgets/controls",
      "model_module_version": "1.5.0",
      "model_name": "IntSliderModel",
      "state": {
       "description": "value",
       "layout": "IPY_MODEL_c737fed3f4b647319d521b5a01ed5013",
       "max": 10,
       "min": 1,
       "style": "IPY_MODEL_f6d0532b4d034ab5add8a942c8036f27",
       "value": 2
      }
     },
     "47a676e89113488bb3cee21941e5aba5": {
      "model_module": "@jupyter-widgets/base",
      "model_module_version": "1.2.0",
      "model_name": "LayoutModel",
      "state": {}
     },
     "47c2ee699e6a4f7c83103495961650b0": {
      "model_module": "@jupyter-widgets/base",
      "model_module_version": "1.2.0",
      "model_name": "LayoutModel",
      "state": {}
     },
     "47c4dd25604a48a1b5557177fd515750": {
      "model_module": "@jupyter-widgets/base",
      "model_module_version": "1.2.0",
      "model_name": "LayoutModel",
      "state": {}
     },
     "47cab6d01e35497189f8f2866f69ad79": {
      "model_module": "@jupyter-widgets/base",
      "model_module_version": "1.2.0",
      "model_name": "LayoutModel",
      "state": {}
     },
     "47fb3c80b04646738a440b8943ebe585": {
      "model_module": "@jupyter-widgets/base",
      "model_module_version": "1.2.0",
      "model_name": "LayoutModel",
      "state": {}
     },
     "48081768731e4a308ef6582f5108536e": {
      "model_module": "@jupyter-widgets/base",
      "model_module_version": "1.2.0",
      "model_name": "LayoutModel",
      "state": {}
     },
     "4846a27e60cc441d93d5c535ffde0e6e": {
      "model_module": "@jupyter-widgets/controls",
      "model_module_version": "1.5.0",
      "model_name": "HBoxModel",
      "state": {
       "children": [
        "IPY_MODEL_6afde54ff02642b099358c5671f1b873",
        "IPY_MODEL_cd1d503025f94455898cda591460f5da"
       ],
       "layout": "IPY_MODEL_dae8d0d2b5a24ba3a4caef5ae026ea60"
      }
     },
     "4885badfb81242a3a0e907414c08b51f": {
      "model_module": "@jupyter-widgets/base",
      "model_module_version": "1.2.0",
      "model_name": "LayoutModel",
      "state": {}
     },
     "48a9dc8b95d14018a1273a4583c91c32": {
      "model_module": "@jupyter-widgets/base",
      "model_module_version": "1.2.0",
      "model_name": "LayoutModel",
      "state": {}
     },
     "48b02d61921140799c9d50de4e6abab8": {
      "model_module": "@jupyter-widgets/controls",
      "model_module_version": "1.5.0",
      "model_name": "HBoxModel",
      "state": {
       "children": [
        "IPY_MODEL_9f1b252d842443fc95ac8e7e4f03c95a",
        "IPY_MODEL_d1e4b02c15bb44948c22e7d933636530"
       ],
       "layout": "IPY_MODEL_56e10c5df99d4496a1c8da99197f9358"
      }
     },
     "49142d5fe84f451ca57bf7979546be3b": {
      "model_module": "@jupyter-widgets/controls",
      "model_module_version": "1.5.0",
      "model_name": "VBoxModel",
      "state": {
       "children": [
        "IPY_MODEL_7b26c458dc7d4deba33285df9fe694dc",
        "IPY_MODEL_dc891aa6241b421da0cabf4ab08e3d0e"
       ],
       "layout": "IPY_MODEL_181662f4cedf410dac5bab4e1bf8645f"
      }
     },
     "4928061e04e84f6ea5f8e22041842c65": {
      "model_module": "@jupyter-widgets/controls",
      "model_module_version": "1.5.0",
      "model_name": "FloatSliderModel",
      "state": {
       "description": "diffuse",
       "layout": "IPY_MODEL_9d3e8bfa637b4501a40010eae48c2c9e",
       "max": 3,
       "step": 0.1,
       "style": "IPY_MODEL_f223c7d886294225be0b4cb6d842a989",
       "value": 1
      }
     },
     "4933c3be1ca74d3b87e7deac4ab3fa84": {
      "model_module": "@jupyter-widgets/controls",
      "model_module_version": "1.5.0",
      "model_name": "TextModel",
      "state": {
       "continuous_update": false,
       "description": "name",
       "layout": "IPY_MODEL_998772480aac452387c45481c4a8859d",
       "style": "IPY_MODEL_2b2537aec03a486682b37fa201430b15",
       "value": "leafduration"
      }
     },
     "496e48f80ba34d7389289f84ed07049f": {
      "model_module": "@jupyter-widgets/controls",
      "model_module_version": "1.5.0",
      "model_name": "DescriptionStyleModel",
      "state": {
       "description_width": ""
      }
     },
     "498f774db8944cf9acb68dfb080f9434": {
      "model_module": "@jupyter-widgets/base",
      "model_module_version": "1.2.0",
      "model_name": "LayoutModel",
      "state": {}
     },
     "49abdf9d78524715a97cc756c7cc26ee": {
      "model_module": "@jupyter-widgets/controls",
      "model_module_version": "1.5.0",
      "model_name": "ButtonStyleModel",
      "state": {}
     },
     "49c13f7f61b74fdeb6c2e02c3d02da5a": {
      "model_module": "@jupyter-widgets/controls",
      "model_module_version": "1.5.0",
      "model_name": "HBoxModel",
      "state": {
       "children": [
        "IPY_MODEL_e8a23a012cbf4853a330e912e3cad92f",
        "IPY_MODEL_9d1c471f6aa5499386c9cee5a496cdfc",
        "IPY_MODEL_221397e9ebd543a29b72321488035216"
       ],
       "layout": "IPY_MODEL_7d638b1bb84145df842f1629b3b977bb"
      }
     },
     "49d68010fc084f1ebd5a1e73fb6c31af": {
      "model_module": "pgljupyter",
      "model_module_version": "^0.1.17",
      "model_name": "MaterialEditorModel",
      "state": {
       "_model_module_version": "^0.1.17",
       "_view_module_version": "^0.1.17",
       "children": [
        "IPY_MODEL_d1f553a8e0e14ca8939fd7facfe7bdd0",
        "IPY_MODEL_b483a839a4094147ab01f3c7d19bb1ac",
        "IPY_MODEL_9991cdc311734263a5179071275bff7c",
        "IPY_MODEL_06da4c288f8b48efae9708615015dd07",
        "IPY_MODEL_4928061e04e84f6ea5f8e22041842c65",
        "IPY_MODEL_67461a76be584a8b8d2fa4e2f8aa7d24",
        "IPY_MODEL_5728fafc0bd4433f81791185f2f8a527"
       ],
       "layout": "IPY_MODEL_3b280508434144bfb2cc499f02a544f3"
      }
     },
     "49d8421d6f4e4d488db1bd655f89a30e": {
      "model_module": "@jupyter-widgets/base",
      "model_module_version": "1.2.0",
      "model_name": "LayoutModel",
      "state": {}
     },
     "4a28f656400b498e9b4a70690a4229a8": {
      "model_module": "@jupyter-widgets/controls",
      "model_module_version": "1.5.0",
      "model_name": "DescriptionStyleModel",
      "state": {
       "description_width": ""
      }
     },
     "4a48e3b56b974227bcbb4111eb32acbb": {
      "model_module": "@jupyter-widgets/controls",
      "model_module_version": "1.5.0",
      "model_name": "SliderStyleModel",
      "state": {
       "description_width": ""
      }
     },
     "4a8af0be878b499d97a7bae1ed0009d0": {
      "model_module": "@jupyter-widgets/controls",
      "model_module_version": "1.5.0",
      "model_name": "DescriptionStyleModel",
      "state": {
       "description_width": ""
      }
     },
     "4ad56d578f64435bb7040e6288f8436f": {
      "model_module": "@jupyter-widgets/controls",
      "model_module_version": "1.5.0",
      "model_name": "SliderStyleModel",
      "state": {
       "description_width": ""
      }
     },
     "4b2b575ede144d15b37a9b26cc73c875": {
      "model_module": "@jupyter-widgets/base",
      "model_module_version": "1.2.0",
      "model_name": "LayoutModel",
      "state": {}
     },
     "4b4fb8f835ff4f25801bdcf57fb1eba4": {
      "model_module": "@jupyter-widgets/base",
      "model_module_version": "1.2.0",
      "model_name": "LayoutModel",
      "state": {}
     },
     "4b847adc42dd44cc8851741209771151": {
      "model_module": "@jupyter-widgets/base",
      "model_module_version": "1.2.0",
      "model_name": "LayoutModel",
      "state": {}
     },
     "4ba98a3088f249428269655303174413": {
      "model_module": "@jupyter-widgets/base",
      "model_module_version": "1.2.0",
      "model_name": "LayoutModel",
      "state": {}
     },
     "4be4fe9b98574f5e94986b02b8c225cb": {
      "model_module": "@jupyter-widgets/base",
      "model_module_version": "1.2.0",
      "model_name": "LayoutModel",
      "state": {}
     },
     "4bfa6e2f73c74bffa75861116f13ec31": {
      "model_module": "@jupyter-widgets/controls",
      "model_module_version": "1.5.0",
      "model_name": "DescriptionStyleModel",
      "state": {
       "description_width": ""
      }
     },
     "4c0cd242021b4387b84906f781be597f": {
      "model_module": "@jupyter-widgets/base",
      "model_module_version": "1.2.0",
      "model_name": "LayoutModel",
      "state": {}
     },
     "4c59ca8cf18245f5a14540938a82f127": {
      "model_module": "@jupyter-widgets/controls",
      "model_module_version": "1.5.0",
      "model_name": "HBoxModel",
      "state": {
       "children": [
        "IPY_MODEL_fcdb0e54646c4bbbb1485f7cb42b4bbc",
        "IPY_MODEL_b3beeeb252564f9193c765e7fe7136a4"
       ],
       "layout": "IPY_MODEL_a0c58eb759874d7aabec070d0f8f4e28"
      }
     },
     "4c6828d30e454b219dd59636daba61a2": {
      "model_module": "@jupyter-widgets/controls",
      "model_module_version": "1.5.0",
      "model_name": "FloatSliderModel",
      "state": {
       "description": "diffuse",
       "layout": "IPY_MODEL_29ada92f78534b5a8245a40f76bd758a",
       "max": 3,
       "step": 0.1,
       "style": "IPY_MODEL_5030d93db7d84db8beba5be10c0fdb22",
       "value": 1
      }
     },
     "4c81abb4c66846b5a198148d5fde3afe": {
      "model_module": "@jupyter-widgets/controls",
      "model_module_version": "1.5.0",
      "model_name": "SliderStyleModel",
      "state": {
       "description_width": ""
      }
     },
     "4cbdfd51fc7a4d0aa56146812cc120e6": {
      "model_module": "pgljupyter",
      "model_module_version": "^0.1.18",
      "model_name": "IntEditorModel",
      "state": {
       "_model_module_version": "^0.1.18",
       "_view_module_version": "^0.1.18",
       "children": [
        "IPY_MODEL_2f44d75cf5a94a1f952b35bf8347abb8",
        "IPY_MODEL_0ca1da812e904b3597a1f8d0066aa817"
       ],
       "layout": "IPY_MODEL_f06f7a31a7f6416183260274d8da1272"
      }
     },
     "4d61064357674c97bb169c5602e69545": {
      "model_module": "@jupyter-widgets/base",
      "model_module_version": "1.2.0",
      "model_name": "LayoutModel",
      "state": {}
     },
     "4d77f69f74244057baec36b232f87f78": {
      "model_module": "@jupyter-widgets/base",
      "model_module_version": "1.2.0",
      "model_name": "LayoutModel",
      "state": {
       "flex_flow": "row wrap",
       "margin": "20px"
      }
     },
     "4d9c47832bb743058b80a0b7ef230074": {
      "model_module": "@jupyter-widgets/controls",
      "model_module_version": "1.5.0",
      "model_name": "TextModel",
      "state": {
       "continuous_update": false,
       "description": "name",
       "layout": "IPY_MODEL_e2c963c5cf35423c8c5649096e21e578",
       "style": "IPY_MODEL_9912022f5d81416fae20d7fb32ee621a",
       "value": "leafduration"
      }
     },
     "4e7c5a348d354d778c2e8fac651d24ae": {
      "model_module": "@jupyter-widgets/controls",
      "model_module_version": "1.5.0",
      "model_name": "FloatSliderModel",
      "state": {
       "description": "diffuse",
       "layout": "IPY_MODEL_57dca5ae89cf4763919d1cd33c070eed",
       "max": 3,
       "step": 0.1,
       "style": "IPY_MODEL_eacdf3892401422d966ce9bdf9102e5d",
       "value": 1
      }
     },
     "4ee93253ee1e4f019df07258a39d8b47": {
      "model_module": "@jupyter-widgets/controls",
      "model_module_version": "1.5.0",
      "model_name": "HBoxModel",
      "state": {
       "children": [
        "IPY_MODEL_421e1166bf044e938a7c55bfb05fe175"
       ],
       "layout": "IPY_MODEL_f7ff34c66d4b431c8d7a458913ac23de"
      }
     },
     "4ef238a8a44a43369f6ff4c32bb90c5c": {
      "model_module": "@jupyter-widgets/base",
      "model_module_version": "1.2.0",
      "model_name": "LayoutModel",
      "state": {}
     },
     "4f04e84e06f04f2187ac0562bd5d7982": {
      "model_module": "@jupyter-widgets/base",
      "model_module_version": "1.2.0",
      "model_name": "LayoutModel",
      "state": {
       "margin": "20px 0px"
      }
     },
     "4f4c3d6a0c30403289cf9f2587fca3e3": {
      "model_module": "pgljupyter",
      "model_module_version": "^0.1.17",
      "model_name": "ParameterEditorModel",
      "state": {
       "_model_module_version": "^0.1.17",
       "_view_module_version": "^0.1.17",
       "children": [
        "IPY_MODEL_56ca9cfe6576423da575a7edfbeda8a1"
       ],
       "layout": "IPY_MODEL_70f57e2c0344454288ed8ac17019df5e"
      }
     },
     "4f77c9429d614340bdb8d72a7fb65751": {
      "model_module": "pgljupyter",
      "model_module_version": "^0.1.16",
      "model_name": "LsystemWidgetModel",
      "state": {
       "_model_module_version": "^0.1.16",
       "_view_module_version": "^0.1.16",
       "axes_helper": false,
       "derivationLength": 41,
       "layout": "IPY_MODEL_44131773a2c94fe0b4f6cf36799a8fd5",
       "light_helper": false,
       "plane": true,
       "size_display": [
        400,
        400
       ],
       "size_world": 50
      }
     },
     "4fbf2b45694848a9aa03aadb8fb5d86c": {
      "model_module": "@jupyter-widgets/base",
      "model_module_version": "1.2.0",
      "model_name": "LayoutModel",
      "state": {}
     },
     "5030d93db7d84db8beba5be10c0fdb22": {
      "model_module": "@jupyter-widgets/controls",
      "model_module_version": "1.5.0",
      "model_name": "SliderStyleModel",
      "state": {
       "description_width": ""
      }
     },
     "504c852fdd62470d9fce5fbb9e9e18bc": {
      "model_module": "@jupyter-widgets/controls",
      "model_module_version": "1.5.0",
      "model_name": "DescriptionStyleModel",
      "state": {
       "description_width": ""
      }
     },
     "50c897762f9846d38e9f8e2de2d19de2": {
      "model_module": "@jupyter-widgets/controls",
      "model_module_version": "1.5.0",
      "model_name": "VBoxModel",
      "state": {
       "children": [
        "IPY_MODEL_1d1c9cc08a664ea3b55b7a47fcfdc251",
        "IPY_MODEL_2f0afcc5db404c0c9baabdd8288c7f23"
       ],
       "layout": "IPY_MODEL_8df2887e514042d1ac28d987a7d3f39d"
      }
     },
     "510489c076f34b2bb4ed405c0bd2e184": {
      "model_module": "@jupyter-widgets/controls",
      "model_module_version": "1.5.0",
      "model_name": "ButtonStyleModel",
      "state": {}
     },
     "51298c491bb74c49aa13975c0b81b43a": {
      "model_module": "@jupyter-widgets/base",
      "model_module_version": "1.2.0",
      "model_name": "LayoutModel",
      "state": {}
     },
     "5151e6200d794a008b1bd7d40fbc162c": {
      "model_module": "@jupyter-widgets/controls",
      "model_module_version": "1.5.0",
      "model_name": "TextModel",
      "state": {
       "continuous_update": false,
       "description": "name",
       "layout": "IPY_MODEL_3bc82dbd12c54e549771ee3d9cd55b1d",
       "style": "IPY_MODEL_e2959aa92f7d44c2a5d6d06683c7f898",
       "value": "leafduration"
      }
     },
     "51920d8d6d7c4da288410f94a97533ff": {
      "model_module": "@jupyter-widgets/controls",
      "model_module_version": "1.5.0",
      "model_name": "FloatSliderModel",
      "state": {
       "description": "value",
       "layout": "IPY_MODEL_e483f04bf9ee473983a54480be56ae94",
       "max": 0.1,
       "min": 0.01,
       "step": 0.01,
       "style": "IPY_MODEL_31516d112bb34f208b3e2ebaa6a85f0f",
       "value": 0.03
      }
     },
     "51deaef56dce430dae6fc3f320f5ae3e": {
      "model_module": "@jupyter-widgets/controls",
      "model_module_version": "1.5.0",
      "model_name": "BoundedIntTextModel",
      "state": {
       "description": "index",
       "layout": "IPY_MODEL_dd0076f5130e4b019ecac08f8ecf14e6",
       "style": "IPY_MODEL_54b4b06b01a146878a34d785819acd4e",
       "value": 3
      }
     },
     "526eb050a3ef4576aa3195631f16da0b": {
      "model_module": "@jupyter-widgets/controls",
      "model_module_version": "1.5.0",
      "model_name": "TextModel",
      "state": {
       "continuous_update": false,
       "description": "name",
       "layout": "IPY_MODEL_abb8dd22248e47baa61d0443c5c01957",
       "style": "IPY_MODEL_37056445934e4abba973138c48789f20",
       "value": "leafold"
      }
     },
     "529e918b5e134ca5a4af51bf8651b987": {
      "model_module": "@jupyter-widgets/controls",
      "model_module_version": "1.5.0",
      "model_name": "DropdownModel",
      "state": {
       "index": null,
       "layout": "IPY_MODEL_d8b7d3f852be4323a7cb38d583268863",
       "style": "IPY_MODEL_2b0ed78f41644859a87787f1255e1b81"
      }
     },
     "530074057fcd4130a243bde3a073669b": {
      "model_module": "@jupyter-widgets/base",
      "model_module_version": "1.2.0",
      "model_name": "LayoutModel",
      "state": {}
     },
     "53095037c0fc41f0ad798cc1f327c12f": {
      "model_module": "@jupyter-widgets/controls",
      "model_module_version": "1.5.0",
      "model_name": "AccordionModel",
      "state": {
       "_titles": {
        "0": "materials",
        "1": "leaf",
        "2": "trunk & branches"
       },
       "children": [
        "IPY_MODEL_c361327190724646be840782bc716cef",
        "IPY_MODEL_9773821d863c41edbda8c72cf73d3bc6",
        "IPY_MODEL_8e7f32c1ba3149af89ee115dcce7233a"
       ],
       "layout": "IPY_MODEL_5f2ecb128cba4ce0ae2ed4b650b085bd"
      }
     },
     "53592ff1413b4aadb82fbe457a467666": {
      "model_module": "@jupyter-widgets/controls",
      "model_module_version": "1.5.0",
      "model_name": "HBoxModel",
      "state": {
       "children": [
        "IPY_MODEL_b248996a41fc4f39b8f71cd98044d51f",
        "IPY_MODEL_badf1d6936f34af5a14df64809ef893c"
       ],
       "layout": "IPY_MODEL_4d77f69f74244057baec36b232f87f78"
      }
     },
     "536987696dc742f1b1bc51ca8d040a1d": {
      "model_module": "@jupyter-widgets/controls",
      "model_module_version": "1.5.0",
      "model_name": "FloatSliderModel",
      "state": {
       "description": "shininess",
       "layout": "IPY_MODEL_209c033af72d44e3a0b13ab8001e5335",
       "max": 1,
       "step": 0.1,
       "style": "IPY_MODEL_94dd3b9fa9fc40afbb444d490ee4bac3",
       "value": 0.2
      }
     },
     "537f1d906667422699e2fce4b5f31496": {
      "model_module": "@jupyter-widgets/controls",
      "model_module_version": "1.5.0",
      "model_name": "DescriptionStyleModel",
      "state": {
       "description_width": ""
      }
     },
     "539f9d1af9924f4db2438bbbeeb51b54": {
      "model_module": "@jupyter-widgets/base",
      "model_module_version": "1.2.0",
      "model_name": "LayoutModel",
      "state": {}
     },
     "53d7302061eb4c8dab94848618029115": {
      "model_module": "@jupyter-widgets/controls",
      "model_module_version": "1.5.0",
      "model_name": "DescriptionStyleModel",
      "state": {
       "description_width": ""
      }
     },
     "5404c74b739a4b1f9611340837468322": {
      "model_module": "@jupyter-widgets/base",
      "model_module_version": "1.2.0",
      "model_name": "LayoutModel",
      "state": {}
     },
     "543008b05d50479590c3d4e3bc492779": {
      "model_module": "@jupyter-widgets/controls",
      "model_module_version": "1.5.0",
      "model_name": "IntSliderModel",
      "state": {
       "description": "value",
       "layout": "IPY_MODEL_cffb33bebb154befa460f5be28ee06de",
       "max": 5,
       "min": 1,
       "style": "IPY_MODEL_4ad56d578f64435bb7040e6288f8436f",
       "value": 4
      }
     },
     "5493e679c57d4a0689415a4a88aea275": {
      "model_module": "@jupyter-widgets/controls",
      "model_module_version": "1.5.0",
      "model_name": "SliderStyleModel",
      "state": {
       "description_width": ""
      }
     },
     "54afde6385054afa854c63b78d32c519": {
      "model_module": "@jupyter-widgets/controls",
      "model_module_version": "1.5.0",
      "model_name": "ButtonStyleModel",
      "state": {}
     },
     "54b4b06b01a146878a34d785819acd4e": {
      "model_module": "@jupyter-widgets/controls",
      "model_module_version": "1.5.0",
      "model_name": "DescriptionStyleModel",
      "state": {
       "description_width": ""
      }
     },
     "5532c2cdd5f24b1ebfeff4de061e7901": {
      "model_module": "@jupyter-widgets/base",
      "model_module_version": "1.2.0",
      "model_name": "LayoutModel",
      "state": {}
     },
     "553432c4114a47d4a9edc9bea81bf73d": {
      "model_module": "@jupyter-widgets/controls",
      "model_module_version": "1.5.0",
      "model_name": "ButtonModel",
      "state": {
       "description": "Apply changes",
       "layout": "IPY_MODEL_f3ecc66415384a3b93c8afe5ca93b8f6",
       "style": "IPY_MODEL_c7f7b7c639f04c7a812a812bc95f2f4a"
      }
     },
     "55370126029743f4b725a902460e704f": {
      "model_module": "@jupyter-widgets/base",
      "model_module_version": "1.2.0",
      "model_name": "LayoutModel",
      "state": {}
     },
     "554ebc2fe70b441697fdba4d2a6f87c0": {
      "model_module": "@jupyter-widgets/base",
      "model_module_version": "1.2.0",
      "model_name": "LayoutModel",
      "state": {}
     },
     "557b13d22d9c4523aede128ecebc8ac7": {
      "model_module": "@jupyter-widgets/controls",
      "model_module_version": "1.5.0",
      "model_name": "ButtonStyleModel",
      "state": {}
     },
     "55f0f039861f4c7cb7fc94899c53e0f6": {
      "model_module": "@jupyter-widgets/controls",
      "model_module_version": "1.5.0",
      "model_name": "TextModel",
      "state": {
       "continuous_update": false,
       "description": "name",
       "layout": "IPY_MODEL_ff9430da97704faca4a5581d596a9844",
       "style": "IPY_MODEL_f2ce19fc1a01412bb35dc2f4381a068b",
       "value": "radinc"
      }
     },
     "5631cbab764947158f1da6a147458613": {
      "model_module": "@jupyter-widgets/controls",
      "model_module_version": "1.5.0",
      "model_name": "DescriptionStyleModel",
      "state": {
       "description_width": ""
      }
     },
     "5635bd2a1dbe4760b5638e8c865b2550": {
      "model_module": "@jupyter-widgets/base",
      "model_module_version": "1.2.0",
      "model_name": "LayoutModel",
      "state": {}
     },
     "5683515fa2d0458db36f542630cf452a": {
      "model_module": "@jupyter-widgets/base",
      "model_module_version": "1.2.0",
      "model_name": "LayoutModel",
      "state": {}
     },
     "56b19567ca7740f28a2059eaf32f3238": {
      "model_module": "pgljupyter",
      "model_module_version": "^0.1.17",
      "model_name": "LsystemWidgetModel",
      "state": {
       "_model_module_version": "^0.1.17",
       "_view_module_version": "^0.1.17",
       "axes_helper": false,
       "derivationLength": 42,
       "layout": "IPY_MODEL_62f06f01a47f4f6c8c42d71dcba612c6",
       "light_helper": false,
       "plane": true,
       "size_display": [
        400,
        400
       ],
       "size_world": 50
      }
     },
     "56ca9cfe6576423da575a7edfbeda8a1": {
      "model_module": "@jupyter-widgets/controls",
      "model_module_version": "1.5.0",
      "model_name": "VBoxModel",
      "state": {
       "children": [
        "IPY_MODEL_aa34cffd296144adbb84e44628679faa",
        "IPY_MODEL_59e73575073a4d21bccbb7110cf6091a"
       ],
       "layout": "IPY_MODEL_926c57076840440cba5b8c4fd41d9d43"
      }
     },
     "56e10c5df99d4496a1c8da99197f9358": {
      "model_module": "@jupyter-widgets/base",
      "model_module_version": "1.2.0",
      "model_name": "LayoutModel",
      "state": {}
     },
     "5728fafc0bd4433f81791185f2f8a527": {
      "model_module": "@jupyter-widgets/controls",
      "model_module_version": "1.5.0",
      "model_name": "FloatSliderModel",
      "state": {
       "description": "shininess",
       "layout": "IPY_MODEL_55370126029743f4b725a902460e704f",
       "max": 1,
       "step": 0.1,
       "style": "IPY_MODEL_c0bb2a0d577641b58e46f24746ba8a03",
       "value": 0.2
      }
     },
     "57495b8ed5ac4554811c23e6cec15699": {
      "model_module": "@jupyter-widgets/base",
      "model_module_version": "1.2.0",
      "model_name": "LayoutModel",
      "state": {}
     },
     "57ba92c34a3c4d26a6098635e1484968": {
      "model_module": "@jupyter-widgets/controls",
      "model_module_version": "1.5.0",
      "model_name": "DescriptionStyleModel",
      "state": {
       "description_width": ""
      }
     },
     "57dca5ae89cf4763919d1cd33c070eed": {
      "model_module": "@jupyter-widgets/base",
      "model_module_version": "1.2.0",
      "model_name": "LayoutModel",
      "state": {}
     },
     "5810bb174d1946e8b3d0386797351339": {
      "model_module": "@jupyter-widgets/controls",
      "model_module_version": "1.5.0",
      "model_name": "DescriptionStyleModel",
      "state": {
       "description_width": ""
      }
     },
     "58569d21975b4ecb94c1b21ac30e0823": {
      "model_module": "@jupyter-widgets/controls",
      "model_module_version": "1.5.0",
      "model_name": "HBoxModel",
      "state": {
       "children": [
        "IPY_MODEL_ec8cfa6373cf4330ae76df7ac5a2dfab",
        "IPY_MODEL_039429b73bae419cac4d3913fcdbfdbc"
       ],
       "layout": "IPY_MODEL_a9b7a5bea64640859355bc1f3bd40aed"
      }
     },
     "586fe9088889439284707fb54ba3ec23": {
      "model_module": "@jupyter-widgets/controls",
      "model_module_version": "1.5.0",
      "model_name": "ButtonModel",
      "state": {
       "description": "Delete",
       "layout": "IPY_MODEL_a5a3a25a887b433b95152afe55d8192d",
       "style": "IPY_MODEL_26b81cebc41f40ae83461cad70dcfba8"
      }
     },
     "5872ea4882c74993af9862d9a8bfcb9f": {
      "model_module": "@jupyter-widgets/controls",
      "model_module_version": "1.5.0",
      "model_name": "HBoxModel",
      "state": {
       "children": [
        "IPY_MODEL_153641213cab4e3888f2df8ffe4df5e6"
       ],
       "layout": "IPY_MODEL_0edf0711fcd443488bc2bd1811f52c38"
      }
     },
     "58b01411a162470783fbaaa91028104c": {
      "model_module": "@jupyter-widgets/controls",
      "model_module_version": "1.5.0",
      "model_name": "HBoxModel",
      "state": {
       "children": [
        "IPY_MODEL_1e5af16da1b3427d83bc2e4cf9a49852",
        "IPY_MODEL_529e918b5e134ca5a4af51bf8651b987"
       ],
       "layout": "IPY_MODEL_233d83e71b4344838e3144dcacea3eeb"
      }
     },
     "58b736cae95a4a3f97d710efaa4148bb": {
      "model_module": "@jupyter-widgets/controls",
      "model_module_version": "1.5.0",
      "model_name": "DescriptionStyleModel",
      "state": {
       "description_width": ""
      }
     },
     "5917a07df85e4f07849b2dc44475a30a": {
      "model_module": "@jupyter-widgets/controls",
      "model_module_version": "1.5.0",
      "model_name": "ButtonModel",
      "state": {
       "description": "Delete category",
       "layout": "IPY_MODEL_20e92cd381cd4543b11477c4b28a2822",
       "style": "IPY_MODEL_2718d36a76b14abe8337699015ee06ad"
      }
     },
     "5952c0e964b14034832f8d689c94cd56": {
      "model_module": "@jupyter-widgets/controls",
      "model_module_version": "1.5.0",
      "model_name": "DescriptionStyleModel",
      "state": {
       "description_width": ""
      }
     },
     "5952ccf95fff4114ac955e73f1021bc8": {
      "model_module": "@jupyter-widgets/base",
      "model_module_version": "1.2.0",
      "model_name": "LayoutModel",
      "state": {}
     },
     "59b6d90878cc4434b2cd7ffe61e22f6b": {
      "model_module": "@jupyter-widgets/base",
      "model_module_version": "1.2.0",
      "model_name": "LayoutModel",
      "state": {}
     },
     "59b8490222d449ec873f6dd426630d90": {
      "model_module": "@jupyter-widgets/base",
      "model_module_version": "1.2.0",
      "model_name": "LayoutModel",
      "state": {}
     },
     "59df3630aa8946ea91c52b602ac78c54": {
      "model_module": "@jupyter-widgets/controls",
      "model_module_version": "1.5.0",
      "model_name": "DescriptionStyleModel",
      "state": {
       "description_width": ""
      }
     },
     "59e73575073a4d21bccbb7110cf6091a": {
      "model_module": "@jupyter-widgets/controls",
      "model_module_version": "1.5.0",
      "model_name": "TabModel",
      "state": {
       "_titles": {
        "0": "leuwenberg.json"
       },
       "children": [
        "IPY_MODEL_0300001a45404b209a36c5be9117a9b4"
       ],
       "layout": "IPY_MODEL_5f1c7016d47f4e318a32653fe7356e2b"
      }
     },
     "59f8c5abaa8146ce8df8fc46c0f10acb": {
      "model_module": "@jupyter-widgets/controls",
      "model_module_version": "1.5.0",
      "model_name": "FloatSliderModel",
      "state": {
       "description": "transparency",
       "layout": "IPY_MODEL_abee62d144eb46f6a0854e2c779344fc",
       "max": 1,
       "step": 0.1,
       "style": "IPY_MODEL_61c5a99dc07f47fdb21721b1b101776a"
      }
     },
     "5a7768daa7114d36b770ea435fe36cec": {
      "model_module": "@jupyter-widgets/base",
      "model_module_version": "1.2.0",
      "model_name": "LayoutModel",
      "state": {
       "flex_flow": "row wrap",
       "margin": "20px"
      }
     },
     "5a9efa5a617d42df8d7bb8d365c3e0a8": {
      "model_module": "@jupyter-widgets/base",
      "model_module_version": "1.2.0",
      "model_name": "LayoutModel",
      "state": {
       "margin": "20px 0px"
      }
     },
     "5adffba729714082b4c0b93187c64244": {
      "model_module": "@jupyter-widgets/controls",
      "model_module_version": "1.5.0",
      "model_name": "HBoxModel",
      "state": {
       "children": [
        "IPY_MODEL_a74641fad73f460aaf67830e96175f14",
        "IPY_MODEL_af04d4dbb9ee467196d914b3d6ff7677"
       ],
       "layout": "IPY_MODEL_39084374a571435e824d7618f816aad4"
      }
     },
     "5b06ffa55f8c4305b3bf43c5d33fe5f6": {
      "model_module": "@jupyter-widgets/controls",
      "model_module_version": "1.5.0",
      "model_name": "DescriptionStyleModel",
      "state": {
       "description_width": ""
      }
     },
     "5b5cffc519364c9fbd2a8e2332a75c62": {
      "model_module": "@jupyter-widgets/base",
      "model_module_version": "1.2.0",
      "model_name": "LayoutModel",
      "state": {}
     },
     "5b833389726149e891e43233e262af30": {
      "model_module": "@jupyter-widgets/base",
      "model_module_version": "1.2.0",
      "model_name": "LayoutModel",
      "state": {}
     },
     "5bfb433518c246f4a7cd7249ff19b64e": {
      "model_module": "@jupyter-widgets/controls",
      "model_module_version": "1.5.0",
      "model_name": "IntSliderModel",
      "state": {
       "description": "value",
       "layout": "IPY_MODEL_f8e8217ad4ff42db874a2be04d88d09c",
       "max": 7,
       "min": 1,
       "style": "IPY_MODEL_13acdf1ccc5a4999af0676c08d452094",
       "value": 3
      }
     },
     "5c020f6de4b0494db643bad3b0644d25": {
      "model_module": "@jupyter-widgets/controls",
      "model_module_version": "1.5.0",
      "model_name": "SliderStyleModel",
      "state": {
       "description_width": ""
      }
     },
     "5c0d7f4b7f914f719c8266137f7d0017": {
      "model_module": "@jupyter-widgets/controls",
      "model_module_version": "1.5.0",
      "model_name": "DropdownModel",
      "state": {
       "_options_labels": [
        "Integer",
        "Float",
        "Bool"
       ],
       "index": 0,
       "layout": "IPY_MODEL_0728179a541f413fa5aae643b0fd424c",
       "style": "IPY_MODEL_8249d03607ce403b941353f80011ee8b"
      }
     },
     "5c2170886bb84b0fb0345314e6a3925d": {
      "model_module": "@jupyter-widgets/base",
      "model_module_version": "1.2.0",
      "model_name": "LayoutModel",
      "state": {}
     },
     "5c2e84642c5d485189990628bfa497c8": {
      "model_module": "@jupyter-widgets/base",
      "model_module_version": "1.2.0",
      "model_name": "LayoutModel",
      "state": {}
     },
     "5c45b8f207094c259218686f4e90aff4": {
      "model_module": "@jupyter-widgets/controls",
      "model_module_version": "1.5.0",
      "model_name": "DescriptionStyleModel",
      "state": {
       "description_width": ""
      }
     },
     "5c7ea0ef330d498b91b01ff20701afc6": {
      "model_module": "@jupyter-widgets/controls",
      "model_module_version": "1.5.0",
      "model_name": "AccordionModel",
      "state": {
       "_titles": {
        "0": "materials",
        "1": "leaf"
       },
       "children": [
        "IPY_MODEL_35de142236d6430682387800cc229756",
        "IPY_MODEL_f6877ba37bef4c718f9ad54a1dee9c7e"
       ],
       "layout": "IPY_MODEL_48a9dc8b95d14018a1273a4583c91c32"
      }
     },
     "5cb0a8f02ad04b5f9796ec72a576b675": {
      "model_module": "@jupyter-widgets/controls",
      "model_module_version": "1.5.0",
      "model_name": "DescriptionStyleModel",
      "state": {
       "description_width": ""
      }
     },
     "5ccfe2f5d1bc472faf8aa7f50bf0ab1d": {
      "model_module": "pgljupyter",
      "model_module_version": "^0.1.17",
      "model_name": "MaterialEditorModel",
      "state": {
       "_model_module_version": "^0.1.17",
       "_view_module_version": "^0.1.17",
       "children": [
        "IPY_MODEL_fe39b8c3b9064292a4c361b7263a6c84",
        "IPY_MODEL_9d4b9a9b3979406d872e9b0718717eb7",
        "IPY_MODEL_38af2c3340fa4dccbe1fe87f084d021e",
        "IPY_MODEL_077c655a00ab41bb91239523d5e0bf21",
        "IPY_MODEL_9a9dd7b9393e473ab51a5616b57ee709",
        "IPY_MODEL_5e1cd39cfa88428c865ac3fe8ce37706",
        "IPY_MODEL_7b56ea7a659047479a11f64be222d2ea"
       ],
       "layout": "IPY_MODEL_5a9efa5a617d42df8d7bb8d365c3e0a8"
      }
     },
     "5d1acbde1263434ca0516af8b1e818ec": {
      "model_module": "@jupyter-widgets/controls",
      "model_module_version": "1.5.0",
      "model_name": "FloatSliderModel",
      "state": {
       "description": "transparency",
       "layout": "IPY_MODEL_9e9532d3f9264d848c9671d25e59429b",
       "max": 1,
       "step": 0.1,
       "style": "IPY_MODEL_09ab73e88d6a48cf971284095d2d93ee"
      }
     },
     "5d416a34f993487a93cb14b0054ea4ea": {
      "model_module": "@jupyter-widgets/base",
      "model_module_version": "1.2.0",
      "model_name": "LayoutModel",
      "state": {}
     },
     "5d56f12735114a72b59aee0792d5ab99": {
      "model_module": "@jupyter-widgets/controls",
      "model_module_version": "1.5.0",
      "model_name": "SliderStyleModel",
      "state": {
       "description_width": ""
      }
     },
     "5d665054e5a24fcc86e9f3d114ca7382": {
      "model_module": "@jupyter-widgets/controls",
      "model_module_version": "1.5.0",
      "model_name": "FloatSliderModel",
      "state": {
       "description": "diffuse",
       "layout": "IPY_MODEL_7a99d133c96c4e7bac722c58641e6bc6",
       "max": 3,
       "step": 0.1,
       "style": "IPY_MODEL_a301eb5668924f298fa462fb2ee4e2dc",
       "value": 1
      }
     },
     "5d6b91526f5c4f069888276c86e31117": {
      "model_module": "@jupyter-widgets/base",
      "model_module_version": "1.2.0",
      "model_name": "LayoutModel",
      "state": {}
     },
     "5d6e79af49c540d687173491bdf52613": {
      "model_module": "@jupyter-widgets/controls",
      "model_module_version": "1.5.0",
      "model_name": "HBoxModel",
      "state": {
       "children": [
        "IPY_MODEL_4372a40b5e864ae785c713790258dbe4",
        "IPY_MODEL_662a8bc5b57b429b8272a6397296a547"
       ],
       "layout": "IPY_MODEL_ccd2ea5a8e31427bb33242becf4077fa"
      }
     },
     "5dec0cf2269d486da8492dee4e84b3f8": {
      "model_module": "@jupyter-widgets/controls",
      "model_module_version": "1.5.0",
      "model_name": "ButtonStyleModel",
      "state": {}
     },
     "5e1cd39cfa88428c865ac3fe8ce37706": {
      "model_module": "@jupyter-widgets/controls",
      "model_module_version": "1.5.0",
      "model_name": "FloatSliderModel",
      "state": {
       "description": "transparency",
       "layout": "IPY_MODEL_d436543783c8447f81f559995965920f",
       "max": 1,
       "step": 0.1,
       "style": "IPY_MODEL_e6ea0f1df0864495a18ce55e8ee48a88"
      }
     },
     "5e82b30d25f94292a4d76ae8c23684da": {
      "model_module": "@jupyter-widgets/controls",
      "model_module_version": "1.5.0",
      "model_name": "DescriptionStyleModel",
      "state": {
       "description_width": ""
      }
     },
     "5e9c1818473b44dab49b3d26bf241c9d": {
      "model_module": "@jupyter-widgets/controls",
      "model_module_version": "1.5.0",
      "model_name": "DescriptionStyleModel",
      "state": {
       "description_width": ""
      }
     },
     "5eac464e5de54b27a961eb229e40565b": {
      "model_module": "@jupyter-widgets/controls",
      "model_module_version": "1.5.0",
      "model_name": "CheckboxModel",
      "state": {
       "description": "Auto save",
       "disabled": false,
       "layout": "IPY_MODEL_8c00dd94f504489eb79f75cdf4d9b736",
       "style": "IPY_MODEL_c54dbf897e88456f9d68e9e0b6f32806",
       "value": false
      }
     },
     "5ef60586f6624e7a921466efb2d8a645": {
      "model_module": "@jupyter-widgets/controls",
      "model_module_version": "1.5.0",
      "model_name": "DescriptionStyleModel",
      "state": {
       "description_width": ""
      }
     },
     "5f0d4143620941798573a504d9e748b1": {
      "model_module": "@jupyter-widgets/base",
      "model_module_version": "1.2.0",
      "model_name": "LayoutModel",
      "state": {}
     },
     "5f1c7016d47f4e318a32653fe7356e2b": {
      "model_module": "@jupyter-widgets/base",
      "model_module_version": "1.2.0",
      "model_name": "LayoutModel",
      "state": {}
     },
     "5f2ecb128cba4ce0ae2ed4b650b085bd": {
      "model_module": "@jupyter-widgets/base",
      "model_module_version": "1.2.0",
      "model_name": "LayoutModel",
      "state": {}
     },
     "5f35732199e94b7981ff948790caec12": {
      "model_module": "@jupyter-widgets/controls",
      "model_module_version": "1.5.0",
      "model_name": "DescriptionStyleModel",
      "state": {
       "description_width": ""
      }
     },
     "5f766dc4cb8647509fa135a5358aaab0": {
      "model_module": "@jupyter-widgets/base",
      "model_module_version": "1.2.0",
      "model_name": "LayoutModel",
      "state": {}
     },
     "5fd9a8d12c4d45588031973ef01650c0": {
      "model_module": "@jupyter-widgets/controls",
      "model_module_version": "1.5.0",
      "model_name": "ColorPickerModel",
      "state": {
       "description": "ambient",
       "disabled": false,
       "layout": "IPY_MODEL_09fe84e4c04243fdb4d5769ae0bf8f00",
       "style": "IPY_MODEL_c1f8e654bd764ed1b77cc56f2508694d",
       "value": "#5b4534"
      }
     },
     "5fe590f048484a3ba28067befd41b28a": {
      "model_module": "@jupyter-widgets/controls",
      "model_module_version": "1.5.0",
      "model_name": "TextModel",
      "state": {
       "continuous_update": false,
       "description": "name",
       "layout": "IPY_MODEL_406538f49d474b288e16fda7dd512c69",
       "style": "IPY_MODEL_40ccbdcf094944daacad40f2478bd3f3",
       "value": "color_2"
      }
     },
     "604d1a618d0d48e8ba8e49ac54668dfb": {
      "model_module": "@jupyter-widgets/controls",
      "model_module_version": "1.5.0",
      "model_name": "DescriptionStyleModel",
      "state": {
       "description_width": ""
      }
     },
     "60649db2aa41400c8d032bf13c68e453": {
      "model_module": "@jupyter-widgets/base",
      "model_module_version": "1.2.0",
      "model_name": "LayoutModel",
      "state": {}
     },
     "60b6d845ad24428db8160a19a54d242d": {
      "model_module": "@jupyter-widgets/controls",
      "model_module_version": "1.5.0",
      "model_name": "FloatSliderModel",
      "state": {
       "description": "diffuse",
       "layout": "IPY_MODEL_af62057272d64d6c8173cc755a1345c8",
       "max": 3,
       "step": 0.1,
       "style": "IPY_MODEL_4623abe30f8746eb94835fdc33c089af",
       "value": 1
      }
     },
     "60f7d6ccd61f493dadbfcf94d366711a": {
      "model_module": "@jupyter-widgets/base",
      "model_module_version": "1.2.0",
      "model_name": "LayoutModel",
      "state": {}
     },
     "60ff2d33083e41a7a9c77037399cc0c7": {
      "model_module": "@jupyter-widgets/controls",
      "model_module_version": "1.5.0",
      "model_name": "DescriptionStyleModel",
      "state": {
       "description_width": ""
      }
     },
     "613b92ffca5244b6a9fe92b6eac0bfb3": {
      "model_module": "@jupyter-widgets/controls",
      "model_module_version": "1.5.0",
      "model_name": "ColorPickerModel",
      "state": {
       "description": "ambient",
       "disabled": false,
       "layout": "IPY_MODEL_fd50b55e03484806aa3cae2a2541a1d3",
       "style": "IPY_MODEL_fe77130544c74fea9c083f6b668bcfaf",
       "value": "#e1a014"
      }
     },
     "61604db4d90b46a3a0031ae5119c1516": {
      "model_module": "@jupyter-widgets/controls",
      "model_module_version": "1.5.0",
      "model_name": "DescriptionStyleModel",
      "state": {
       "description_width": ""
      }
     },
     "619d054879f142ab8a22cb911c74fa09": {
      "model_module": "@jupyter-widgets/base",
      "model_module_version": "1.2.0",
      "model_name": "LayoutModel",
      "state": {}
     },
     "61c5a99dc07f47fdb21721b1b101776a": {
      "model_module": "@jupyter-widgets/controls",
      "model_module_version": "1.5.0",
      "model_name": "SliderStyleModel",
      "state": {
       "description_width": ""
      }
     },
     "6213afc08dc747abb3101b3b00eff81e": {
      "model_module": "@jupyter-widgets/base",
      "model_module_version": "1.2.0",
      "model_name": "LayoutModel",
      "state": {
       "margin": "20px 0px"
      }
     },
     "62252cd6e6f64fb7aa4f68ce3e71f4b1": {
      "model_module": "pgljupyter",
      "model_module_version": "^0.1.17",
      "model_name": "MaterialEditorModel",
      "state": {
       "_model_module_version": "^0.1.17",
       "_view_module_version": "^0.1.17",
       "children": [
        "IPY_MODEL_51deaef56dce430dae6fc3f320f5ae3e",
        "IPY_MODEL_ed878756b8fb401389ecaf5b518387e3",
        "IPY_MODEL_a05c2a0fc34b4dfe85701e30e5a55732",
        "IPY_MODEL_13b719143ac7434582f81b16c18d6b4e",
        "IPY_MODEL_41374977018a4cc590e2913add7f287a",
        "IPY_MODEL_a2eafcfa36b44a6ba3e34657e64cec7a",
        "IPY_MODEL_bf0625eebb3744fc8cc55567e985236f"
       ],
       "layout": "IPY_MODEL_fd273ce6761742148ac89669bc64d98d"
      }
     },
     "625a97aef55748c189e2a6b3c1b5e67d": {
      "model_module": "@jupyter-widgets/base",
      "model_module_version": "1.2.0",
      "model_name": "LayoutModel",
      "state": {}
     },
     "62867ab47038465d8944dcad2437cbc9": {
      "model_module": "@jupyter-widgets/base",
      "model_module_version": "1.2.0",
      "model_name": "LayoutModel",
      "state": {}
     },
     "62b5bc6403144408b19fd4a789c19c72": {
      "model_module": "@jupyter-widgets/controls",
      "model_module_version": "1.5.0",
      "model_name": "ColorPickerModel",
      "state": {
       "description": "specular",
       "disabled": false,
       "layout": "IPY_MODEL_76fa5974fc594088898aeca9c0523cbd",
       "style": "IPY_MODEL_ffd47b6cfe404097909f5f4870a7fc67",
       "value": "#282828"
      }
     },
     "62f06f01a47f4f6c8c42d71dcba612c6": {
      "model_module": "@jupyter-widgets/base",
      "model_module_version": "1.2.0",
      "model_name": "LayoutModel",
      "state": {}
     },
     "62fff4b10d2c498fa7de85b618a36351": {
      "model_module": "@jupyter-widgets/controls",
      "model_module_version": "1.5.0",
      "model_name": "ColorPickerModel",
      "state": {
       "description": "emission",
       "disabled": false,
       "layout": "IPY_MODEL_7b1a55ba2ac3453b99b92e17130c6a1e",
       "style": "IPY_MODEL_e0c35736a89f424aa92cf4bb65dd15cd",
       "value": "#000000"
      }
     },
     "6313452555004e3e8cd4af4b429d6c81": {
      "model_module": "@jupyter-widgets/controls",
      "model_module_version": "1.5.0",
      "model_name": "SliderStyleModel",
      "state": {
       "description_width": ""
      }
     },
     "6322774f3a5e4d0cad43bc9ac0f77d3f": {
      "model_module": "@jupyter-widgets/controls",
      "model_module_version": "1.5.0",
      "model_name": "HBoxModel",
      "state": {
       "children": [
        "IPY_MODEL_ddc34eb399b046ce9c7bbcc7bcce04e5",
        "IPY_MODEL_f147ffdfc6994c26b4177e9b873ebcc9",
        "IPY_MODEL_cca2bc234f7546b6ab053ec14a62865d",
        "IPY_MODEL_bcb9c01e8d5e4ef6a75414069738d87f",
        "IPY_MODEL_3c9570eda3684eab96511e129bb5cee0"
       ],
       "layout": "IPY_MODEL_8d56c586bca3464d8c5cb36ae761ba46"
      }
     },
     "63354b64c5c6445686dd6064588bcd06": {
      "model_module": "@jupyter-widgets/base",
      "model_module_version": "1.2.0",
      "model_name": "LayoutModel",
      "state": {}
     },
     "63ec99422d324062aa029ae26fb392cf": {
      "model_module": "@jupyter-widgets/controls",
      "model_module_version": "1.5.0",
      "model_name": "TextModel",
      "state": {
       "continuous_update": false,
       "description": "name",
       "layout": "IPY_MODEL_5683515fa2d0458db36f542630cf452a",
       "style": "IPY_MODEL_e29b2ad0e6b8400997e87c1b714baead",
       "value": "color_4"
      }
     },
     "64635876704d46df8e253b2d4cefa598": {
      "model_module": "@jupyter-widgets/base",
      "model_module_version": "1.2.0",
      "model_name": "LayoutModel",
      "state": {}
     },
     "64ddded86cc94f2aaa65c66efd8404cd": {
      "model_module": "@jupyter-widgets/controls",
      "model_module_version": "1.5.0",
      "model_name": "HBoxModel",
      "state": {
       "children": [
        "IPY_MODEL_ec0d311430274174ad6f8002cc5ab013",
        "IPY_MODEL_c0a048ed609e4aceb6a259def78278e2"
       ],
       "layout": "IPY_MODEL_b64a0b633c4c488bb06c6634159a6227"
      }
     },
     "64f0f3be71ea49f6b0bf5f7a3382814b": {
      "model_module": "@jupyter-widgets/controls",
      "model_module_version": "1.5.0",
      "model_name": "DescriptionStyleModel",
      "state": {
       "description_width": ""
      }
     },
     "64f9dc0574df4a11af6125d753e638a4": {
      "model_module": "@jupyter-widgets/base",
      "model_module_version": "1.2.0",
      "model_name": "LayoutModel",
      "state": {}
     },
     "6568a84592d945ddaf5e6c0dc6c917c1": {
      "model_module": "@jupyter-widgets/base",
      "model_module_version": "1.2.0",
      "model_name": "LayoutModel",
      "state": {}
     },
     "65bee35e74e7441d98cbdeb5de6d8221": {
      "model_module": "@jupyter-widgets/base",
      "model_module_version": "1.2.0",
      "model_name": "LayoutModel",
      "state": {}
     },
     "65cb7b1023ae4f4aae41fd3b1473e716": {
      "model_module": "@jupyter-widgets/base",
      "model_module_version": "1.2.0",
      "model_name": "LayoutModel",
      "state": {
       "margin": "20px 0px"
      }
     },
     "65dc7f4bbf724d46a564ee783e7d55ea": {
      "model_module": "@jupyter-widgets/base",
      "model_module_version": "1.2.0",
      "model_name": "LayoutModel",
      "state": {}
     },
     "65e9c69006e0410082732dcb581d48b9": {
      "model_module": "@jupyter-widgets/controls",
      "model_module_version": "1.5.0",
      "model_name": "DescriptionStyleModel",
      "state": {
       "description_width": ""
      }
     },
     "6606341d02fc439dbd25cdd30951c0c4": {
      "model_module": "@jupyter-widgets/controls",
      "model_module_version": "1.5.0",
      "model_name": "SliderStyleModel",
      "state": {
       "description_width": ""
      }
     },
     "662a8bc5b57b429b8272a6397296a547": {
      "model_module": "@jupyter-widgets/controls",
      "model_module_version": "1.5.0",
      "model_name": "DropdownModel",
      "state": {
       "index": null,
       "layout": "IPY_MODEL_49d8421d6f4e4d488db1bd655f89a30e",
       "style": "IPY_MODEL_4a8af0be878b499d97a7bae1ed0009d0"
      }
     },
     "66cfa3a226224323bc89e5cd0184f515": {
      "model_module": "@jupyter-widgets/base",
      "model_module_version": "1.2.0",
      "model_name": "LayoutModel",
      "state": {}
     },
     "66d7a1826e15429d8f8f2cf795ccb6c1": {
      "model_module": "@jupyter-widgets/base",
      "model_module_version": "1.2.0",
      "model_name": "LayoutModel",
      "state": {}
     },
     "67461a76be584a8b8d2fa4e2f8aa7d24": {
      "model_module": "@jupyter-widgets/controls",
      "model_module_version": "1.5.0",
      "model_name": "FloatSliderModel",
      "state": {
       "description": "transparency",
       "layout": "IPY_MODEL_b7fff26df0ad46bbaeeb12519d1a0352",
       "max": 1,
       "step": 0.1,
       "style": "IPY_MODEL_30d8f21dda4646f0acb3611afa8c89a6"
      }
     },
     "674ce701a99c4dd290082ac0ca4a9bf8": {
      "model_module": "@jupyter-widgets/controls",
      "model_module_version": "1.5.0",
      "model_name": "DescriptionStyleModel",
      "state": {
       "description_width": ""
      }
     },
     "677b6979d18a4369b43c7d2c7055d352": {
      "model_module": "@jupyter-widgets/controls",
      "model_module_version": "1.5.0",
      "model_name": "TextModel",
      "state": {
       "continuous_update": false,
       "description": "name",
       "layout": "IPY_MODEL_98277c35c08042f6a10536f9cec224a9",
       "style": "IPY_MODEL_83cb5d93b13c4d38906e44f6111942f3",
       "value": "color_4"
      }
     },
     "679a4e3dbf4340d084066a79f8c8540d": {
      "model_module": "@jupyter-widgets/controls",
      "model_module_version": "1.5.0",
      "model_name": "ButtonModel",
      "state": {
       "description": "Apply changes",
       "layout": "IPY_MODEL_d9ccb67aeb914dbebc9157bdfb5dc23d",
       "style": "IPY_MODEL_ef1d08148f6a452081c3eb7924ab9c8f"
      }
     },
     "67c7aedfc8f04a9bb8e92c4fbabb0fa3": {
      "model_module": "@jupyter-widgets/base",
      "model_module_version": "1.2.0",
      "model_name": "LayoutModel",
      "state": {}
     },
     "67f4e04d08034151b0a50c7edf65de73": {
      "model_module": "@jupyter-widgets/controls",
      "model_module_version": "1.5.0",
      "model_name": "SliderStyleModel",
      "state": {
       "description_width": ""
      }
     },
     "683514619a284a17be83f3e12928bc6a": {
      "model_module": "@jupyter-widgets/controls",
      "model_module_version": "1.5.0",
      "model_name": "IntSliderModel",
      "state": {
       "description": "value",
       "layout": "IPY_MODEL_ac6f0bb182d14b43a5412de39ac1d15a",
       "max": 10,
       "min": 1,
       "style": "IPY_MODEL_ce95b26aa02f45a485c1255eae9a21fa",
       "value": 5
      }
     },
     "6836f870173f481c896bba938c011cdd": {
      "model_module": "@jupyter-widgets/controls",
      "model_module_version": "1.5.0",
      "model_name": "TextModel",
      "state": {
       "continuous_update": false,
       "description": "name",
       "layout": "IPY_MODEL_8b24ac74c0944cd48267de6d5fe2be88",
       "style": "IPY_MODEL_1fc7b2d61c8248a78f6d173ef2c25c28",
       "value": "maxorder"
      }
     },
     "684c8f4df8674412aedac32f204f41a4": {
      "model_module": "@jupyter-widgets/controls",
      "model_module_version": "1.5.0",
      "model_name": "HBoxModel",
      "state": {
       "children": [
        "IPY_MODEL_7d994118bafc4c709d4e82c6555c0cdf"
       ],
       "layout": "IPY_MODEL_78dff3c9b0ab4092885a4681b708b9c4"
      }
     },
     "68a0a5b32660431c972bf9ccdf174f33": {
      "model_module": "@jupyter-widgets/base",
      "model_module_version": "1.2.0",
      "model_name": "LayoutModel",
      "state": {}
     },
     "68b2471e08bd43108da250cbe509f4c8": {
      "model_module": "@jupyter-widgets/controls",
      "model_module_version": "1.5.0",
      "model_name": "SliderStyleModel",
      "state": {
       "description_width": ""
      }
     },
     "68be4ec169ab4ce9929d4231bbdfaad7": {
      "model_module": "@jupyter-widgets/controls",
      "model_module_version": "1.5.0",
      "model_name": "ButtonStyleModel",
      "state": {}
     },
     "694aa30345644ad9836c04cf3497349c": {
      "model_module": "@jupyter-widgets/base",
      "model_module_version": "1.2.0",
      "model_name": "LayoutModel",
      "state": {}
     },
     "69adca6b2b7d471ca668269a5c227e1f": {
      "model_module": "@jupyter-widgets/controls",
      "model_module_version": "1.5.0",
      "model_name": "DescriptionStyleModel",
      "state": {
       "description_width": ""
      }
     },
     "6a018a7ac45f43ed9fb495ac70a32468": {
      "model_module": "@jupyter-widgets/base",
      "model_module_version": "1.2.0",
      "model_name": "LayoutModel",
      "state": {}
     },
     "6a9570578894414ebd3507f4aa341efc": {
      "buffers": [
       {
        "data": "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",
        "encoding": "base64",
        "path": [
         "scene",
         "data"
        ]
       }
      ],
      "model_module": "pgljupyter",
      "model_module_version": "^0.1.18",
      "model_name": "LsystemWidgetModel",
      "state": {
       "_model_module_version": "^0.1.18",
       "_view_module_version": "^0.1.18",
       "axes_helper": false,
       "derivationLength": 42,
       "layout": "IPY_MODEL_d52fb0d8ec634c9e8f5209c9cbd03a9e",
       "light_helper": false,
       "plane": true,
       "scene": {
        "derivationStep": 41,
        "id": 41,
        "scene": "<openalea.plantgl.scenegraph._pglsg.Scene object at 0x7f6a5ca37a80>"
       },
       "size_display": [
        600,
        400
       ],
       "size_world": 50
      }
     },
     "6a96352f36b9452bba44e1ee4b108426": {
      "model_module": "@jupyter-widgets/controls",
      "model_module_version": "1.5.0",
      "model_name": "SliderStyleModel",
      "state": {
       "description_width": ""
      }
     },
     "6ab377277f3f47c19b9225d757195275": {
      "model_module": "@jupyter-widgets/base",
      "model_module_version": "1.2.0",
      "model_name": "LayoutModel",
      "state": {}
     },
     "6af77e29019b4e689db91f5541c76b14": {
      "model_module": "@jupyter-widgets/controls",
      "model_module_version": "1.5.0",
      "model_name": "ColorPickerModel",
      "state": {
       "description": "emission",
       "disabled": false,
       "layout": "IPY_MODEL_055dec0cea5041829e855a22e1086bb8",
       "style": "IPY_MODEL_cec3e99efbcc48f4949ee3f961d09c72",
       "value": "#000000"
      }
     },
     "6afde54ff02642b099358c5671f1b873": {
      "model_module": "@jupyter-widgets/controls",
      "model_module_version": "1.5.0",
      "model_name": "ButtonModel",
      "state": {
       "description": "Add",
       "layout": "IPY_MODEL_21f3349a602545288f617c05af0e2a85",
       "style": "IPY_MODEL_510489c076f34b2bb4ed405c0bd2e184"
      }
     },
     "6b64f44ea36c41a0bce14ae865b76233": {
      "model_module": "@jupyter-widgets/controls",
      "model_module_version": "1.5.0",
      "model_name": "HBoxModel",
      "state": {
       "layout": "IPY_MODEL_5a7768daa7114d36b770ea435fe36cec"
      }
     },
     "6b7f50760bbe40128e53e8730548a7c5": {
      "model_module": "@jupyter-widgets/controls",
      "model_module_version": "1.5.0",
      "model_name": "TextModel",
      "state": {
       "continuous_update": false,
       "description": "name",
       "layout": "IPY_MODEL_2748b3bc98584be89e557777f606f30e",
       "style": "IPY_MODEL_5e82b30d25f94292a4d76ae8c23684da",
       "value": "color_3"
      }
     },
     "6b8f0820ce5e43c796130647fa6eec1e": {
      "model_module": "@jupyter-widgets/controls",
      "model_module_version": "1.5.0",
      "model_name": "ButtonStyleModel",
      "state": {}
     },
     "6baaf717d33f4125b9871fa60bac0a2f": {
      "model_module": "@jupyter-widgets/controls",
      "model_module_version": "1.5.0",
      "model_name": "TextModel",
      "state": {
       "continuous_update": false,
       "description": "name",
       "layout": "IPY_MODEL_dc6fe4ae93724ee697ccb6414fa8bd2b",
       "style": "IPY_MODEL_f8bb53ae98a6404eb9fbd8309f221e79",
       "value": "color_2"
      }
     },
     "6bbc88a5645f4f34bc382a3d79ab54d0": {
      "model_module": "@jupyter-widgets/controls",
      "model_module_version": "1.5.0",
      "model_name": "HBoxModel",
      "state": {
       "children": [
        "IPY_MODEL_b0fb1ac3eab4429faa1c3064bf965e64",
        "IPY_MODEL_13ef4f1f81a4430aa1f08839e278e50f"
       ],
       "layout": "IPY_MODEL_7e4f103663654092a3b6f3f18908d2a4"
      }
     },
     "6be8b624abb24c98af91054c27cba856": {
      "model_module": "@jupyter-widgets/controls",
      "model_module_version": "1.5.0",
      "model_name": "ButtonStyleModel",
      "state": {}
     },
     "6c062a627e074314b2c9f10cb62a60ff": {
      "model_module": "@jupyter-widgets/controls",
      "model_module_version": "1.5.0",
      "model_name": "DescriptionStyleModel",
      "state": {
       "description_width": ""
      }
     },
     "6c671f207c164abd949a12ac8032908b": {
      "model_module": "@jupyter-widgets/base",
      "model_module_version": "1.2.0",
      "model_name": "LayoutModel",
      "state": {}
     },
     "6c692b6a751b4f9a87b763ae9a055554": {
      "model_module": "pgljupyter",
      "model_module_version": "^0.1.18",
      "model_name": "IntEditorModel",
      "state": {
       "_model_module_version": "^0.1.18",
       "_view_module_version": "^0.1.18",
       "children": [
        "IPY_MODEL_0d310866a28c4c1ab0562409f5a1baa5",
        "IPY_MODEL_543008b05d50479590c3d4e3bc492779"
       ],
       "layout": "IPY_MODEL_459815904a114cb9b092e8b2c8f014dd"
      }
     },
     "6c9077201cf9427b930095c29dff128d": {
      "model_module": "@jupyter-widgets/base",
      "model_module_version": "1.2.0",
      "model_name": "LayoutModel",
      "state": {}
     },
     "6cafa8125cbe44e2b212a499900a8f16": {
      "model_module": "@jupyter-widgets/controls",
      "model_module_version": "1.5.0",
      "model_name": "ButtonStyleModel",
      "state": {}
     },
     "6cb02b695e9b429fb82b362a464e95d4": {
      "model_module": "@jupyter-widgets/base",
      "model_module_version": "1.2.0",
      "model_name": "LayoutModel",
      "state": {}
     },
     "6d1a398411bc4c81808725799dd684d4": {
      "model_module": "@jupyter-widgets/controls",
      "model_module_version": "1.5.0",
      "model_name": "DescriptionStyleModel",
      "state": {
       "description_width": ""
      }
     },
     "6d5e3a1f1f6e4037b118fad920b662c6": {
      "model_module": "@jupyter-widgets/controls",
      "model_module_version": "1.5.0",
      "model_name": "ButtonStyleModel",
      "state": {}
     },
     "6d9cd9fec46242309f65481bd57e1ab6": {
      "model_module": "@jupyter-widgets/controls",
      "model_module_version": "1.5.0",
      "model_name": "SliderStyleModel",
      "state": {
       "description_width": ""
      }
     },
     "6e149d6140aa4abca3c6a495c874087e": {
      "model_module": "@jupyter-widgets/controls",
      "model_module_version": "1.5.0",
      "model_name": "CheckboxModel",
      "state": {
       "description": "Auto apply",
       "disabled": false,
       "layout": "IPY_MODEL_2de7c371544e409a8f3f128430eeced9",
       "style": "IPY_MODEL_6c062a627e074314b2c9f10cb62a60ff",
       "value": false
      }
     },
     "6e86329f62f04d64897ff3b96a1bfe58": {
      "model_module": "@jupyter-widgets/base",
      "model_module_version": "1.2.0",
      "model_name": "LayoutModel",
      "state": {}
     },
     "6eb1ab587c7b4b10b6c7a97e430683cf": {
      "model_module": "@jupyter-widgets/controls",
      "model_module_version": "1.5.0",
      "model_name": "DescriptionStyleModel",
      "state": {
       "description_width": ""
      }
     },
     "6ec1cbd07a644f899b126df86b0690ab": {
      "model_module": "@jupyter-widgets/controls",
      "model_module_version": "1.5.0",
      "model_name": "SliderStyleModel",
      "state": {
       "description_width": ""
      }
     },
     "6ecb092e2f024e54ab3e5a0f2fecdaa1": {
      "model_module": "@jupyter-widgets/base",
      "model_module_version": "1.2.0",
      "model_name": "LayoutModel",
      "state": {}
     },
     "6f0a69f339134e55b948c90d45650703": {
      "model_module": "@jupyter-widgets/base",
      "model_module_version": "1.2.0",
      "model_name": "LayoutModel",
      "state": {}
     },
     "6f0f8070aff54befb01d59fb84b450b7": {
      "model_module": "@jupyter-widgets/controls",
      "model_module_version": "1.5.0",
      "model_name": "HBoxModel",
      "state": {
       "children": [
        "IPY_MODEL_d94927052fb046c4b476563ba1404936",
        "IPY_MODEL_bdd912ccd9594f2c93aaed30b1a57ee8"
       ],
       "layout": "IPY_MODEL_5404c74b739a4b1f9611340837468322"
      }
     },
     "6f100fcdb69247f5bfc0c8803ddbae68": {
      "model_module": "@jupyter-widgets/base",
      "model_module_version": "1.2.0",
      "model_name": "LayoutModel",
      "state": {
       "margin": "20px 0px"
      }
     },
     "6f1858b8e9c6421b9b4fe2362c1009c7": {
      "model_module": "@jupyter-widgets/base",
      "model_module_version": "1.2.0",
      "model_name": "LayoutModel",
      "state": {}
     },
     "6fd19ee64db44d74845df2372b542b69": {
      "model_module": "@jupyter-widgets/controls",
      "model_module_version": "1.5.0",
      "model_name": "ColorPickerModel",
      "state": {
       "description": "ambient",
       "disabled": false,
       "layout": "IPY_MODEL_dc9e29879357411bbba01c813ba6f9f4",
       "style": "IPY_MODEL_72a0a0e0aead47d2aa630983d0ff942c",
       "value": "#195717"
      }
     },
     "7015fbbda9c047b391aecaeef63cd104": {
      "model_module": "@jupyter-widgets/base",
      "model_module_version": "1.2.0",
      "model_name": "LayoutModel",
      "state": {}
     },
     "704c51f2b4274443ae0128fcab864aca": {
      "model_module": "pgljupyter",
      "model_module_version": "^0.1.18",
      "model_name": "IntEditorModel",
      "state": {
       "_model_module_version": "^0.1.18",
       "_view_module_version": "^0.1.18",
       "children": [
        "IPY_MODEL_3906a75a08ed413aba2363f7e4fa3366",
        "IPY_MODEL_2c4f8c87f0eb4c48a1315f8f85b34133"
       ],
       "layout": "IPY_MODEL_eba7cf85bd6046aca8a8d6411fcef311"
      }
     },
     "70cd0cda1a844c278ad4555f50d5490a": {
      "model_module": "@jupyter-widgets/controls",
      "model_module_version": "1.5.0",
      "model_name": "ButtonStyleModel",
      "state": {}
     },
     "70dda571646341ceb6f35058be924baf": {
      "model_module": "@jupyter-widgets/controls",
      "model_module_version": "1.5.0",
      "model_name": "ColorPickerModel",
      "state": {
       "description": "emission",
       "disabled": false,
       "layout": "IPY_MODEL_13642e1addcd465cbd7d516a101c2713",
       "style": "IPY_MODEL_b042067711c749ddbe44af8d0b266773",
       "value": "#000000"
      }
     },
     "70f57e2c0344454288ed8ac17019df5e": {
      "model_module": "@jupyter-widgets/base",
      "model_module_version": "1.2.0",
      "model_name": "LayoutModel",
      "state": {}
     },
     "715606022a044632ac89eb213623d18a": {
      "model_module": "@jupyter-widgets/controls",
      "model_module_version": "1.5.0",
      "model_name": "BoundedIntTextModel",
      "state": {
       "description": "step",
       "layout": "IPY_MODEL_5532c2cdd5f24b1ebfeff4de061e7901",
       "min": 1,
       "style": "IPY_MODEL_e41cb6704a0a4c06a028ae53e9f988ee",
       "value": 1
      }
     },
     "71bb87308f7f413585405d1a1df6ad8f": {
      "model_module": "@jupyter-widgets/controls",
      "model_module_version": "1.5.0",
      "model_name": "BoundedIntTextModel",
      "state": {
       "description": "step",
       "layout": "IPY_MODEL_d3b85fda8a3a4608a7bd96283095fedd",
       "min": 1,
       "style": "IPY_MODEL_5f35732199e94b7981ff948790caec12",
       "value": 1
      }
     },
     "71bc512b2098424d90eb915826bf82e4": {
      "model_module": "@jupyter-widgets/base",
      "model_module_version": "1.2.0",
      "model_name": "LayoutModel",
      "state": {}
     },
     "720602bd96314ddbb7e19314e2bb1ac7": {
      "model_module": "@jupyter-widgets/base",
      "model_module_version": "1.2.0",
      "model_name": "LayoutModel",
      "state": {}
     },
     "72233f9b078644c7b23019e335582338": {
      "model_module": "@jupyter-widgets/base",
      "model_module_version": "1.2.0",
      "model_name": "LayoutModel",
      "state": {}
     },
     "726ea6227a9140b58c2e2db0b3c05e1f": {
      "model_module": "@jupyter-widgets/base",
      "model_module_version": "1.2.0",
      "model_name": "LayoutModel",
      "state": {
       "margin": "20px 0px"
      }
     },
     "727da00b96284e60887f830c92663006": {
      "model_module": "@jupyter-widgets/controls",
      "model_module_version": "1.5.0",
      "model_name": "HBoxModel",
      "state": {
       "children": [
        "IPY_MODEL_04cbb9188a174a70bb551de95a1ec0a3",
        "IPY_MODEL_9c81b23cc78347d3b3f5498f783fd5c4"
       ],
       "layout": "IPY_MODEL_fe9595ab730a4f21a90e37b95c64eb35"
      }
     },
     "72a0a0e0aead47d2aa630983d0ff942c": {
      "model_module": "@jupyter-widgets/controls",
      "model_module_version": "1.5.0",
      "model_name": "DescriptionStyleModel",
      "state": {
       "description_width": ""
      }
     },
     "73496737da0c4b479a2e43c89062fdf3": {
      "model_module": "@jupyter-widgets/controls",
      "model_module_version": "1.5.0",
      "model_name": "AccordionModel",
      "state": {
       "_titles": {
        "0": "options",
        "1": "materials",
        "2": "leaf"
       },
       "children": [
        "IPY_MODEL_3036709698c94d53ac94124615b9612e",
        "IPY_MODEL_b8b9b3ffeaac416c9b974d5332062d10",
        "IPY_MODEL_353ddb1420fc4c4b98046d215b3a0a75"
       ],
       "layout": "IPY_MODEL_1b44d596a79d4717bb36340cb0ec6094"
      }
     },
     "73c2343975874c018e3bdb7a49cd342d": {
      "model_module": "@jupyter-widgets/controls",
      "model_module_version": "1.5.0",
      "model_name": "DropdownModel",
      "state": {
       "_options_labels": [
        "trunk",
        "leaf_new",
        "apex",
        "leaf_old"
       ],
       "index": 0,
       "layout": "IPY_MODEL_25d30d60259b4572b8731631d759ac9a",
       "style": "IPY_MODEL_0a200097686c4829bf34b9b3a60ec5a8"
      }
     },
     "73f23e73ddf440029997bd7411d5ebcb": {
      "model_module": "@jupyter-widgets/controls",
      "model_module_version": "1.5.0",
      "model_name": "HBoxModel",
      "state": {
       "children": [
        "IPY_MODEL_782bd34cf5564501951efef7290ab675",
        "IPY_MODEL_d3295221ce1f424ebee2f857573f74f6"
       ],
       "layout": "IPY_MODEL_a74963dac2344d5ab99396cfdd373704"
      }
     },
     "741f71d31ee4432f826a1a5983faff8b": {
      "model_module": "pgljupyter",
      "model_module_version": "^0.1.16",
      "model_name": "FloatEditorModel",
      "state": {
       "_model_module_version": "^0.1.16",
       "_view_module_version": "^0.1.16",
       "children": [
        "IPY_MODEL_161390ba99e04b138bc28fa9c249c180",
        "IPY_MODEL_203480e9c215468ea9ab336c23360aec",
        "IPY_MODEL_f6bd143eb72a4021a9ee1d0db9b45016",
        "IPY_MODEL_436612109cc345eab450803b93d883e8",
        "IPY_MODEL_9d12e0ef939e4807b6d9a006fce2d523"
       ],
       "layout": "IPY_MODEL_b763b1260b354b23ae6671768bc4a076"
      }
     },
     "743b4d10e04e429daa73128e21f65475": {
      "model_module": "@jupyter-widgets/controls",
      "model_module_version": "1.5.0",
      "model_name": "BoundedIntTextModel",
      "state": {
       "description": "index",
       "layout": "IPY_MODEL_f3c024e88d6640b3b187291687dc790d",
       "style": "IPY_MODEL_2a3d358efbf34acb9c7a60be2b6f23ae",
       "value": 4
      }
     },
     "744795a86db044f098523c400f8e0b54": {
      "model_module": "@jupyter-widgets/controls",
      "model_module_version": "1.5.0",
      "model_name": "DropdownModel",
      "state": {
       "_options_labels": [
        "color_1",
        "color_2",
        "color_3",
        "color_4"
       ],
       "index": 0,
       "layout": "IPY_MODEL_b170506f70d34c96b69cc2e6cb10b936",
       "style": "IPY_MODEL_455df1ed61f5486cac7c517343725455"
      }
     },
     "745b3376562c41a59ce78b7fb72eac55": {
      "model_module": "@jupyter-widgets/controls",
      "model_module_version": "1.5.0",
      "model_name": "FloatSliderModel",
      "state": {
       "description": "shininess",
       "layout": "IPY_MODEL_2cf86b3c818d4ae9854cb7c3aba3e9e5",
       "max": 1,
       "step": 0.1,
       "style": "IPY_MODEL_cc14692e35cc4df3a41f6c4a0b9ab26e",
       "value": 0.2
      }
     },
     "74bb39c50046421c8cf174ea8b853142": {
      "model_module": "@jupyter-widgets/controls",
      "model_module_version": "1.5.0",
      "model_name": "HBoxModel",
      "state": {
       "layout": "IPY_MODEL_8d56c586bca3464d8c5cb36ae761ba46"
      }
     },
     "74dde666b12e4ccdbc62eb47f41ed106": {
      "model_module": "@jupyter-widgets/controls",
      "model_module_version": "1.5.0",
      "model_name": "DescriptionStyleModel",
      "state": {
       "description_width": ""
      }
     },
     "754a8ec29fb14d7087455060f4d25989": {
      "model_module": "@jupyter-widgets/controls",
      "model_module_version": "1.5.0",
      "model_name": "DescriptionStyleModel",
      "state": {
       "description_width": ""
      }
     },
     "7607d9a6764a4b5585e648fdb1289c55": {
      "model_module": "@jupyter-widgets/controls",
      "model_module_version": "1.5.0",
      "model_name": "HBoxModel",
      "state": {
       "children": [
        "IPY_MODEL_79313a604b5a4876b96188649d9844ed",
        "IPY_MODEL_8e07259218964759aa0e3756812d03d4",
        "IPY_MODEL_3e2965ac15734eacbe93346089045d2a",
        "IPY_MODEL_741f71d31ee4432f826a1a5983faff8b",
        "IPY_MODEL_26b2b92b694649c3b974782805831251"
       ],
       "layout": "IPY_MODEL_5a7768daa7114d36b770ea435fe36cec"
      }
     },
     "761fbbca71f145a5969c4290b8309933": {
      "model_module": "@jupyter-widgets/base",
      "model_module_version": "1.2.0",
      "model_name": "LayoutModel",
      "state": {
       "margin": "20px 0px"
      }
     },
     "767069b5239041d1a94bed85e955db0b": {
      "model_module": "@jupyter-widgets/controls",
      "model_module_version": "1.5.0",
      "model_name": "HBoxModel",
      "state": {
       "children": [
        "IPY_MODEL_2b91b62c30f74a2d80349a21cd49380b",
        "IPY_MODEL_f142e994cc534a86867a64e2eda8db55"
       ],
       "layout": "IPY_MODEL_7e4f103663654092a3b6f3f18908d2a4"
      }
     },
     "768416184c784ccc90f3432b6d9b15da": {
      "model_module": "@jupyter-widgets/controls",
      "model_module_version": "1.5.0",
      "model_name": "DescriptionStyleModel",
      "state": {
       "description_width": ""
      }
     },
     "7684bf627af64c99a1beb3e9c3800d93": {
      "model_module": "@jupyter-widgets/base",
      "model_module_version": "1.2.0",
      "model_name": "LayoutModel",
      "state": {}
     },
     "76962f026cd343edbb2be1f47b259f8e": {
      "model_module": "@jupyter-widgets/controls",
      "model_module_version": "1.5.0",
      "model_name": "DropdownModel",
      "state": {
       "_options_labels": [
        "color_1",
        "color_2",
        "color_3",
        "color_4"
       ],
       "index": 0,
       "layout": "IPY_MODEL_41cc1db02ba64e62b40ee9b19a788ac1",
       "style": "IPY_MODEL_164bcfa6695d41c4828175244e8404ae"
      }
     },
     "76fa5974fc594088898aeca9c0523cbd": {
      "model_module": "@jupyter-widgets/base",
      "model_module_version": "1.2.0",
      "model_name": "LayoutModel",
      "state": {}
     },
     "7740beb2c49f45218e9e7fa1fe1a8432": {
      "model_module": "@jupyter-widgets/base",
      "model_module_version": "1.2.0",
      "model_name": "LayoutModel",
      "state": {}
     },
     "77bb0a66c7374c4d92144e5900b028a0": {
      "model_module": "@jupyter-widgets/controls",
      "model_module_version": "1.5.0",
      "model_name": "HBoxModel",
      "state": {
       "children": [
        "IPY_MODEL_af76f68e255a49a9a097846d5b100896",
        "IPY_MODEL_93d66b3b8d5148e096acb7c3b08dcb94"
       ],
       "layout": "IPY_MODEL_78dff3c9b0ab4092885a4681b708b9c4"
      }
     },
     "77fc433d7ea240f0b05864afbc6f627a": {
      "model_module": "@jupyter-widgets/base",
      "model_module_version": "1.2.0",
      "model_name": "LayoutModel",
      "state": {
       "flex_flow": "row wrap"
      }
     },
     "7820f3eb666143e08c9689ceabf9f92e": {
      "model_module": "@jupyter-widgets/controls",
      "model_module_version": "1.5.0",
      "model_name": "ColorPickerModel",
      "state": {
       "description": "specular",
       "disabled": false,
       "layout": "IPY_MODEL_fb438b1cc1484336bb3533aa50de8e15",
       "style": "IPY_MODEL_38c72ff473424ad9bfe39cfda219b63e",
       "value": "#282828"
      }
     },
     "782bd34cf5564501951efef7290ab675": {
      "model_module": "@jupyter-widgets/controls",
      "model_module_version": "1.5.0",
      "model_name": "ButtonModel",
      "state": {
       "description": "Add",
       "layout": "IPY_MODEL_b896d4c5ba084261b9772c2ec6244463",
       "style": "IPY_MODEL_2d0c3904e1ae45eaa6ffc4291f335b1f"
      }
     },
     "7844922bdc964f79876f85b1d4fdf8b4": {
      "model_module": "@jupyter-widgets/controls",
      "model_module_version": "1.5.0",
      "model_name": "DescriptionStyleModel",
      "state": {
       "description_width": ""
      }
     },
     "7847f6e3bd894ee48f1555c248f27c90": {
      "model_module": "@jupyter-widgets/controls",
      "model_module_version": "1.5.0",
      "model_name": "DropdownModel",
      "state": {
       "_options_labels": [
        "Integer",
        "Float",
        "Bool"
       ],
       "index": 0,
       "layout": "IPY_MODEL_d35e87005bca48c5862abf4e837a1469",
       "style": "IPY_MODEL_3de3b034852b47c9a285b62f838b9986"
      }
     },
     "7854ff74524f4fe689ec29f12ee822fa": {
      "model_module": "@jupyter-widgets/controls",
      "model_module_version": "1.5.0",
      "model_name": "DescriptionStyleModel",
      "state": {
       "description_width": ""
      }
     },
     "7878f40721f94603b8bcdf02db2a6f8c": {
      "model_module": "@jupyter-widgets/controls",
      "model_module_version": "1.5.0",
      "model_name": "ButtonStyleModel",
      "state": {}
     },
     "78dff3c9b0ab4092885a4681b708b9c4": {
      "model_module": "@jupyter-widgets/base",
      "model_module_version": "1.2.0",
      "model_name": "LayoutModel",
      "state": {
       "flex_flow": "row wrap",
       "margin": "20px"
      }
     },
     "78f64a9316a54addbb907fdb74325de3": {
      "model_module": "@jupyter-widgets/base",
      "model_module_version": "1.2.0",
      "model_name": "LayoutModel",
      "state": {}
     },
     "79313a604b5a4876b96188649d9844ed": {
      "model_module": "pgljupyter",
      "model_module_version": "^0.1.16",
      "model_name": "IntEditorModel",
      "state": {
       "_model_module_version": "^0.1.16",
       "_view_module_version": "^0.1.16",
       "children": [
        "IPY_MODEL_5151e6200d794a008b1bd7d40fbc162c",
        "IPY_MODEL_240b06896b1447a29608ee2c0041a5bc",
        "IPY_MODEL_cd863832ae4f4c2a9fb4238d4fe72b7d",
        "IPY_MODEL_b233f15e47474a7198fb26deae803dcc",
        "IPY_MODEL_b4f90847a77b4195b5dc4d2c29806c64"
       ],
       "layout": "IPY_MODEL_f41ebca09dd94958b840510087992ffe"
      }
     },
     "794d157bf0ff435fa7c3c39274a2f7b7": {
      "model_module": "@jupyter-widgets/controls",
      "model_module_version": "1.5.0",
      "model_name": "DescriptionStyleModel",
      "state": {
       "description_width": ""
      }
     },
     "7a33b0c7ad914ade99bfb96985353f2e": {
      "model_module": "@jupyter-widgets/base",
      "model_module_version": "1.2.0",
      "model_name": "LayoutModel",
      "state": {}
     },
     "7a99d133c96c4e7bac722c58641e6bc6": {
      "model_module": "@jupyter-widgets/base",
      "model_module_version": "1.2.0",
      "model_name": "LayoutModel",
      "state": {}
     },
     "7aab530945c249e3a941d757c0ccee92": {
      "model_module": "@jupyter-widgets/controls",
      "model_module_version": "1.5.0",
      "model_name": "DropdownModel",
      "state": {
       "_options_labels": [
        "Color"
       ],
       "index": 0,
       "layout": "IPY_MODEL_908f4ca4949b494db14fc5156aab2cd9",
       "style": "IPY_MODEL_aef6b743295f42189e95981f47848542"
      }
     },
     "7ae3718b0ae34394a27bdb7f6b8e878f": {
      "model_module": "@jupyter-widgets/controls",
      "model_module_version": "1.5.0",
      "model_name": "SliderStyleModel",
      "state": {
       "description_width": ""
      }
     },
     "7b1a55ba2ac3453b99b92e17130c6a1e": {
      "model_module": "@jupyter-widgets/base",
      "model_module_version": "1.2.0",
      "model_name": "LayoutModel",
      "state": {}
     },
     "7b1f4521fe574a5e82c85c51dbb7d298": {
      "model_module": "pgljupyter",
      "model_module_version": "^0.1.18",
      "model_name": "FloatEditorModel",
      "state": {
       "_model_module_version": "^0.1.18",
       "_view_module_version": "^0.1.18",
       "children": [
        "IPY_MODEL_99a8e99bf57142b881b83b3908b78915",
        "IPY_MODEL_51920d8d6d7c4da288410f94a97533ff"
       ],
       "layout": "IPY_MODEL_ea2eda2ed0bb482faa1ed22e03e210b0"
      }
     },
     "7b26c458dc7d4deba33285df9fe694dc": {
      "model_module": "@jupyter-widgets/controls",
      "model_module_version": "1.5.0",
      "model_name": "HBoxModel",
      "state": {
       "children": [
        "IPY_MODEL_727da00b96284e60887f830c92663006",
        "IPY_MODEL_0c3bbdec026d428494f07dd37de034a8",
        "IPY_MODEL_2bc9612a3671413583aacf103d7434c3"
       ],
       "layout": "IPY_MODEL_f5d36d54332540779b373371ce91389e"
      }
     },
     "7b34d047a75145ef93c9d2ba934f66f1": {
      "model_module": "@jupyter-widgets/base",
      "model_module_version": "1.2.0",
      "model_name": "LayoutModel",
      "state": {}
     },
     "7b4693667f2d4338a8c79a9c6641cc55": {
      "model_module": "@jupyter-widgets/base",
      "model_module_version": "1.2.0",
      "model_name": "LayoutModel",
      "state": {}
     },
     "7b56ea7a659047479a11f64be222d2ea": {
      "model_module": "@jupyter-widgets/controls",
      "model_module_version": "1.5.0",
      "model_name": "FloatSliderModel",
      "state": {
       "description": "shininess",
       "layout": "IPY_MODEL_5d6b91526f5c4f069888276c86e31117",
       "max": 1,
       "step": 0.1,
       "style": "IPY_MODEL_1fac97fbb78942428b45f4a29eff0181",
       "value": 0.2
      }
     },
     "7b577b3b68b746a29a5e6e041152e745": {
      "model_module": "@jupyter-widgets/controls",
      "model_module_version": "1.5.0",
      "model_name": "SliderStyleModel",
      "state": {
       "description_width": ""
      }
     },
     "7bd0ba7ae13849c1a3991f5c1fc76a3f": {
      "model_module": "@jupyter-widgets/controls",
      "model_module_version": "1.5.0",
      "model_name": "DescriptionStyleModel",
      "state": {
       "description_width": ""
      }
     },
     "7c0c38291061419390dbeba93ef4ef19": {
      "model_module": "@jupyter-widgets/controls",
      "model_module_version": "1.5.0",
      "model_name": "BoundedIntTextModel",
      "state": {
       "description": "index",
       "layout": "IPY_MODEL_fef2dad388044251aeb285ace627b9c7",
       "style": "IPY_MODEL_0dd2e4883c6742ebb5b505b2aecc37c1",
       "value": 4
      }
     },
     "7c3d32abecd84c22aa8e83abca17afd6": {
      "model_module": "@jupyter-widgets/base",
      "model_module_version": "1.2.0",
      "model_name": "LayoutModel",
      "state": {
       "margin": "20px 0px"
      }
     },
     "7c495f80dfa7400dbddaade48310293e": {
      "model_module": "@jupyter-widgets/base",
      "model_module_version": "1.2.0",
      "model_name": "LayoutModel",
      "state": {}
     },
     "7c7176c2637047769f684c2d030b2393": {
      "model_module": "@jupyter-widgets/controls",
      "model_module_version": "1.5.0",
      "model_name": "ButtonModel",
      "state": {
       "description": "Add",
       "layout": "IPY_MODEL_28ac8517ff6543888b7ae35a5a88a964",
       "style": "IPY_MODEL_33a25a7f6c774d99a2ad689dcc5a28a6"
      }
     },
     "7c9ff33ce6ef4aa9ac024f1cf91f4faf": {
      "model_module": "pgljupyter",
      "model_module_version": "^0.1.18",
      "model_name": "MaterialEditorModel",
      "state": {
       "_model_module_version": "^0.1.18",
       "_view_module_version": "^0.1.18",
       "children": [
        "IPY_MODEL_f600a6ae2e384964b8cef48223b138d5",
        "IPY_MODEL_de4816681729453fbf133b79ff9974ac",
        "IPY_MODEL_f4f80c8cf6b444139f0df44cf6b171cc",
        "IPY_MODEL_c3c827131f134d53a63ac1630295a9db",
        "IPY_MODEL_3b6e5ecfd1944c16b6776d9fc68b197f",
        "IPY_MODEL_c1a7e756fd674170a661ab6dcc62f7a9",
        "IPY_MODEL_85903b91b9dd494fbb3a0709f0684652",
        "IPY_MODEL_c874010bc6f24cc38736c49375396273"
       ],
       "layout": "IPY_MODEL_33370c23f7f94edbae64929f7be4a58c"
      }
     },
     "7cdabb93fcbc40419bf289a63174c418": {
      "model_module": "@jupyter-widgets/controls",
      "model_module_version": "1.5.0",
      "model_name": "HBoxModel",
      "state": {
       "children": [
        "IPY_MODEL_a1906644e02d4f33ae8f642c8841461f",
        "IPY_MODEL_930ad9faa5584ea6b9760fd12a63f4ea"
       ],
       "layout": "IPY_MODEL_f2cedfd93f164c5997b034682b7dd6d1"
      }
     },
     "7cf3624548d34c2082dbac79e56a76bf": {
      "model_module": "@jupyter-widgets/controls",
      "model_module_version": "1.5.0",
      "model_name": "DescriptionStyleModel",
      "state": {
       "description_width": ""
      }
     },
     "7d00e5b6fac64279ab76b336056511c0": {
      "model_module": "pgljupyter",
      "model_module_version": "^0.1.16",
      "model_name": "MaterialEditorModel",
      "state": {
       "_model_module_version": "^0.1.16",
       "_view_module_version": "^0.1.16",
       "children": [
        "IPY_MODEL_5fe590f048484a3ba28067befd41b28a",
        "IPY_MODEL_26dd1eed428440a1bb6365baf44e75c4",
        "IPY_MODEL_6fd19ee64db44d74845df2372b542b69",
        "IPY_MODEL_280f5706c53c48bd96c1f0c3b5a82955",
        "IPY_MODEL_c11321e762b3422997689f94db4a71c8",
        "IPY_MODEL_ebe128ea294142459765d6098ca68e1a",
        "IPY_MODEL_8f0d237bd2814cfa98534d804a75bd38",
        "IPY_MODEL_2da2625474d444a4a745acca04a53c1f"
       ],
       "layout": "IPY_MODEL_b7eb7c1fbc2c4fbab9ae3ae154813316"
      }
     },
     "7d0e2b7c25dc4c5799f79fba3304581d": {
      "model_module": "@jupyter-widgets/controls",
      "model_module_version": "1.5.0",
      "model_name": "FloatSliderModel",
      "state": {
       "description": "diffuse",
       "layout": "IPY_MODEL_0f0d4a7590e043609aea67d90c471282",
       "max": 3,
       "step": 0.1,
       "style": "IPY_MODEL_ed4b23b4eff1497396c94a783926d260",
       "value": 1
      }
     },
     "7d4841eb52e849b792078e35434add1c": {
      "model_module": "@jupyter-widgets/base",
      "model_module_version": "1.2.0",
      "model_name": "LayoutModel",
      "state": {}
     },
     "7d638b1bb84145df842f1629b3b977bb": {
      "model_module": "@jupyter-widgets/base",
      "model_module_version": "1.2.0",
      "model_name": "LayoutModel",
      "state": {
       "flex_flow": "row wrap"
      }
     },
     "7d994118bafc4c709d4e82c6555c0cdf": {
      "model_module": "@jupyter-widgets/controls",
      "model_module_version": "1.5.0",
      "model_name": "ButtonModel",
      "state": {
       "description": "Delete category",
       "layout": "IPY_MODEL_0a5f03bd97534a8ca13154d454ca0303",
       "style": "IPY_MODEL_3b3e23c52c034fbba7d416e65c71d04a"
      }
     },
     "7e4f103663654092a3b6f3f18908d2a4": {
      "model_module": "@jupyter-widgets/base",
      "model_module_version": "1.2.0",
      "model_name": "LayoutModel",
      "state": {
       "flex_flow": "row wrap",
       "margin": "20px"
      }
     },
     "7eb67cc5e07d4226b2341c889e12afdc": {
      "model_module": "pgljupyter",
      "model_module_version": "^0.1.18",
      "model_name": "FloatEditorModel",
      "state": {
       "_model_module_version": "^0.1.18",
       "_view_module_version": "^0.1.18",
       "children": [
        "IPY_MODEL_3969e43bd2ff40cd9083e491f4ee8a61",
        "IPY_MODEL_20e00e78d72c45a192c02ce598d26a33"
       ],
       "layout": "IPY_MODEL_6f100fcdb69247f5bfc0c8803ddbae68"
      }
     },
     "7ee5793271fa419b8cf938c7cdd42829": {
      "model_module": "@jupyter-widgets/controls",
      "model_module_version": "1.5.0",
      "model_name": "DescriptionStyleModel",
      "state": {
       "description_width": ""
      }
     },
     "7fa3fc5095444041b8bf59eb82ee0f1b": {
      "model_module": "@jupyter-widgets/controls",
      "model_module_version": "1.5.0",
      "model_name": "HBoxModel",
      "state": {
       "children": [
        "IPY_MODEL_da13191a83f844c595b3cff32e04df31",
        "IPY_MODEL_044e7d5484c34640988858fe96fcfdd6"
       ],
       "layout": "IPY_MODEL_57495b8ed5ac4554811c23e6cec15699"
      }
     },
     "7ff69b0f459c406da1dcf1b6b9ea1d85": {
      "model_module": "@jupyter-widgets/controls",
      "model_module_version": "1.5.0",
      "model_name": "SliderStyleModel",
      "state": {
       "description_width": ""
      }
     },
     "8012ed3ed86e4af7aa93a0d0174addd1": {
      "model_module": "@jupyter-widgets/controls",
      "model_module_version": "1.5.0",
      "model_name": "FloatSliderModel",
      "state": {
       "description": "diffuse",
       "layout": "IPY_MODEL_cb8ca0e6e0eb421686668ef1c62fece3",
       "max": 3,
       "step": 0.1,
       "style": "IPY_MODEL_dc53693171ca4e6f859008d9f7934f2e",
       "value": 1
      }
     },
     "801c820f9e6246b9b3ed03e09a503e66": {
      "model_module": "@jupyter-widgets/base",
      "model_module_version": "1.2.0",
      "model_name": "LayoutModel",
      "state": {}
     },
     "801c9757e2284ae99ecc9a5a8bffc9da": {
      "model_module": "@jupyter-widgets/controls",
      "model_module_version": "1.5.0",
      "model_name": "DescriptionStyleModel",
      "state": {
       "description_width": ""
      }
     },
     "80301650537045819e119da69d2e1eaf": {
      "model_module": "@jupyter-widgets/controls",
      "model_module_version": "1.5.0",
      "model_name": "ColorPickerModel",
      "state": {
       "description": "ambient",
       "disabled": false,
       "layout": "IPY_MODEL_0c7c19e5f2d64c77816e00b8b2cd8eea",
       "style": "IPY_MODEL_8d847dba13ab4694a1ab9e4baa5b388d",
       "value": "#0fc4db"
      }
     },
     "80486992e7b749219293ac12cc88f982": {
      "model_module": "@jupyter-widgets/controls",
      "model_module_version": "1.5.0",
      "model_name": "DescriptionStyleModel",
      "state": {
       "description_width": ""
      }
     },
     "809eaaa517c44dacbd10399efe1c86c8": {
      "model_module": "@jupyter-widgets/controls",
      "model_module_version": "1.5.0",
      "model_name": "HBoxModel",
      "state": {
       "children": [
        "IPY_MODEL_5917a07df85e4f07849b2dc44475a30a"
       ],
       "layout": "IPY_MODEL_78dff3c9b0ab4092885a4681b708b9c4"
      }
     },
     "80b56e6d76c34f719488204e0bf1de2d": {
      "model_module": "@jupyter-widgets/base",
      "model_module_version": "1.2.0",
      "model_name": "LayoutModel",
      "state": {
       "margin": "20px 0px"
      }
     },
     "80e9653aa5df4aec98e4b796abfbd551": {
      "model_module": "@jupyter-widgets/base",
      "model_module_version": "1.2.0",
      "model_name": "LayoutModel",
      "state": {}
     },
     "814dac1493d8493abe1be47f92709960": {
      "model_module": "@jupyter-widgets/base",
      "model_module_version": "1.2.0",
      "model_name": "LayoutModel",
      "state": {}
     },
     "81614fbd057b49b38cf6c260521fd79e": {
      "model_module": "@jupyter-widgets/controls",
      "model_module_version": "1.5.0",
      "model_name": "DescriptionStyleModel",
      "state": {
       "description_width": ""
      }
     },
     "81b18d0fb7524952b85175ffd2632d16": {
      "model_module": "@jupyter-widgets/base",
      "model_module_version": "1.2.0",
      "model_name": "LayoutModel",
      "state": {}
     },
     "81cddc7ae49e4648a2c274c8e34674fa": {
      "model_module": "@jupyter-widgets/controls",
      "model_module_version": "1.5.0",
      "model_name": "TextModel",
      "state": {
       "layout": "IPY_MODEL_c68f788cbf434b1b86545d771587773e",
       "placeholder": "category name",
       "style": "IPY_MODEL_f0d18c7a33314b93b6a2c556090ad031"
      }
     },
     "8249d03607ce403b941353f80011ee8b": {
      "model_module": "@jupyter-widgets/controls",
      "model_module_version": "1.5.0",
      "model_name": "DescriptionStyleModel",
      "state": {
       "description_width": ""
      }
     },
     "8283081be3d348eea1bc8c13afea1b04": {
      "model_module": "@jupyter-widgets/controls",
      "model_module_version": "1.5.0",
      "model_name": "DescriptionStyleModel",
      "state": {
       "description_width": ""
      }
     },
     "82e2fd1b3d93436b87d96fe4772c750c": {
      "model_module": "@jupyter-widgets/base",
      "model_module_version": "1.2.0",
      "model_name": "LayoutModel",
      "state": {}
     },
     "82ee84b51f34452cb28a4d5fbd6a6bec": {
      "model_module": "@jupyter-widgets/base",
      "model_module_version": "1.2.0",
      "model_name": "LayoutModel",
      "state": {}
     },
     "8345834e21f741efb76cf84afc82297c": {
      "model_module": "@jupyter-widgets/controls",
      "model_module_version": "1.5.0",
      "model_name": "SliderStyleModel",
      "state": {
       "description_width": ""
      }
     },
     "8385988dc1324faabaa3e51b770405fa": {
      "model_module": "@jupyter-widgets/controls",
      "model_module_version": "1.5.0",
      "model_name": "ButtonStyleModel",
      "state": {}
     },
     "83a4686453db4032b8b41676af2640e3": {
      "model_module": "@jupyter-widgets/controls",
      "model_module_version": "1.5.0",
      "model_name": "DescriptionStyleModel",
      "state": {
       "description_width": ""
      }
     },
     "83a6e5298a59417faf5cae364d0e23e8": {
      "model_module": "@jupyter-widgets/controls",
      "model_module_version": "1.5.0",
      "model_name": "SliderStyleModel",
      "state": {
       "description_width": ""
      }
     },
     "83b3943961434027b9a8d49bdef39171": {
      "model_module": "pgljupyter",
      "model_module_version": "^0.1.18",
      "model_name": "MaterialEditorModel",
      "state": {
       "_model_module_version": "^0.1.18",
       "_view_module_version": "^0.1.18",
       "children": [
        "IPY_MODEL_ce0fb06d58634cb9b41ec68d1e1dc70d",
        "IPY_MODEL_b4468c2736f440b4bd4d58112d80f1f3",
        "IPY_MODEL_be34e970bcfe4196ae35d41580213f9a",
        "IPY_MODEL_a14d2f25db9a4ee09e33307c1cc7015b",
        "IPY_MODEL_fe1ca6c5f8b149d586fe37d3f4c8d5df",
        "IPY_MODEL_af3d20d491c44d098b64367717540ebe",
        "IPY_MODEL_b0587fd4b5de40ff83b94fd445197b2a",
        "IPY_MODEL_745b3376562c41a59ce78b7fb72eac55"
       ],
       "layout": "IPY_MODEL_65cb7b1023ae4f4aae41fd3b1473e716"
      }
     },
     "83cb5d93b13c4d38906e44f6111942f3": {
      "model_module": "@jupyter-widgets/controls",
      "model_module_version": "1.5.0",
      "model_name": "DescriptionStyleModel",
      "state": {
       "description_width": ""
      }
     },
     "83d1112a98b24ad985e153a4de2805d3": {
      "model_module": "@jupyter-widgets/base",
      "model_module_version": "1.2.0",
      "model_name": "LayoutModel",
      "state": {}
     },
     "83eb13eb355a4ed79a83c524a5fe5344": {
      "model_module": "@jupyter-widgets/controls",
      "model_module_version": "1.5.0",
      "model_name": "SliderStyleModel",
      "state": {
       "description_width": ""
      }
     },
     "83ef4ea6f520490ea97b0fec684c68ff": {
      "model_module": "@jupyter-widgets/base",
      "model_module_version": "1.2.0",
      "model_name": "LayoutModel",
      "state": {}
     },
     "83f82817d8894598b39eea4838260197": {
      "model_module": "@jupyter-widgets/controls",
      "model_module_version": "1.5.0",
      "model_name": "ButtonModel",
      "state": {
       "description": "Add category",
       "layout": "IPY_MODEL_0c8a2a58cf5a4f328c2bf47875084bee",
       "style": "IPY_MODEL_6be8b624abb24c98af91054c27cba856"
      }
     },
     "841666774d4c43d9ae6d7eaf452a6732": {
      "model_module": "@jupyter-widgets/controls",
      "model_module_version": "1.5.0",
      "model_name": "DescriptionStyleModel",
      "state": {
       "description_width": ""
      }
     },
     "84167ac2f5b54a72a1dcecd5e7898942": {
      "model_module": "@jupyter-widgets/controls",
      "model_module_version": "1.5.0",
      "model_name": "SliderStyleModel",
      "state": {
       "description_width": ""
      }
     },
     "844d30039767419a89704c52fe806d6c": {
      "model_module": "@jupyter-widgets/base",
      "model_module_version": "1.2.0",
      "model_name": "LayoutModel",
      "state": {}
     },
     "84c796b6ce3746e1aafccca2c6759aac": {
      "model_module": "@jupyter-widgets/base",
      "model_module_version": "1.2.0",
      "model_name": "LayoutModel",
      "state": {}
     },
     "8509fa5265184f5db62a735f298cb753": {
      "model_module": "@jupyter-widgets/controls",
      "model_module_version": "1.5.0",
      "model_name": "HBoxModel",
      "state": {
       "children": [
        "IPY_MODEL_13011f0d15864a1ba3f2543ade23483a",
        "IPY_MODEL_5c0d7f4b7f914f719c8266137f7d0017"
       ],
       "layout": "IPY_MODEL_4d61064357674c97bb169c5602e69545"
      }
     },
     "850aea0efb99435baa77c0a116afa497": {
      "model_module": "@jupyter-widgets/controls",
      "model_module_version": "1.5.0",
      "model_name": "FloatSliderModel",
      "state": {
       "description": "transparency",
       "layout": "IPY_MODEL_498f774db8944cf9acb68dfb080f9434",
       "max": 1,
       "step": 0.1,
       "style": "IPY_MODEL_83a6e5298a59417faf5cae364d0e23e8"
      }
     },
     "8537d8915e4e42dbaa546751f3ccd759": {
      "model_module": "@jupyter-widgets/controls",
      "model_module_version": "1.5.0",
      "model_name": "DescriptionStyleModel",
      "state": {
       "description_width": ""
      }
     },
     "856cb4dc10fd40959afd4f2ed68f4da6": {
      "model_module": "@jupyter-widgets/base",
      "model_module_version": "1.2.0",
      "model_name": "LayoutModel",
      "state": {}
     },
     "858878c7e61544b790ca64ba3754be3a": {
      "model_module": "@jupyter-widgets/base",
      "model_module_version": "1.2.0",
      "model_name": "LayoutModel",
      "state": {}
     },
     "85903b91b9dd494fbb3a0709f0684652": {
      "model_module": "@jupyter-widgets/controls",
      "model_module_version": "1.5.0",
      "model_name": "FloatSliderModel",
      "state": {
       "description": "transparency",
       "layout": "IPY_MODEL_9b789e08ff1c46f1bb9f707c180a4903",
       "max": 1,
       "step": 0.1,
       "style": "IPY_MODEL_9e28d980a69940b8887b30e5d2ab7eba"
      }
     },
     "85fb0b1c46a34071837318e83df4549c": {
      "model_module": "@jupyter-widgets/base",
      "model_module_version": "1.2.0",
      "model_name": "LayoutModel",
      "state": {
       "margin": "20px 0px"
      }
     },
     "862e6be63a4c4ec7a41e281d8b696e8d": {
      "model_module": "@jupyter-widgets/controls",
      "model_module_version": "1.5.0",
      "model_name": "ButtonModel",
      "state": {
       "description": "Delete",
       "layout": "IPY_MODEL_47a676e89113488bb3cee21941e5aba5",
       "style": "IPY_MODEL_262f578dc1b641d1a439f9d7bdb2b833"
      }
     },
     "8688606d2e9e400dbdbdb02bf5459c6a": {
      "model_module": "@jupyter-widgets/base",
      "model_module_version": "1.2.0",
      "model_name": "LayoutModel",
      "state": {}
     },
     "86bbd8bd12314be19909ccb111382a66": {
      "model_module": "@jupyter-widgets/base",
      "model_module_version": "1.2.0",
      "model_name": "LayoutModel",
      "state": {}
     },
     "86e5d6226409410ea3e7aff87df7c57d": {
      "model_module": "@jupyter-widgets/controls",
      "model_module_version": "1.5.0",
      "model_name": "ColorPickerModel",
      "state": {
       "description": "specular",
       "disabled": false,
       "layout": "IPY_MODEL_ab0f9f99791b40059d4d3534b8def2a1",
       "style": "IPY_MODEL_26b6ef9844df45fa90eceb06b5d3540f",
       "value": "#282828"
      }
     },
     "87914f94bb81462d992aeaaef5f740be": {
      "model_module": "pgljupyter",
      "model_module_version": "^0.1.17",
      "model_name": "MaterialEditorModel",
      "state": {
       "_model_module_version": "^0.1.17",
       "_view_module_version": "^0.1.17",
       "children": [
        "IPY_MODEL_2f2a18791e474473882476c2b545f886",
        "IPY_MODEL_613b92ffca5244b6a9fe92b6eac0bfb3",
        "IPY_MODEL_62b5bc6403144408b19fd4a789c19c72",
        "IPY_MODEL_d2f53457da264365a8ca7a5c85a6b381",
        "IPY_MODEL_29f083c6202b4e71911388db0eb926e4",
        "IPY_MODEL_fe6fc9b954504ac48e9ea7a8339c409b",
        "IPY_MODEL_c86dfb91c7754e40aff8205f0595f499"
       ],
       "layout": "IPY_MODEL_761fbbca71f145a5969c4290b8309933"
      }
     },
     "8796df0ffb5a4d59acfa5e829c472f45": {
      "model_module": "@jupyter-widgets/controls",
      "model_module_version": "1.5.0",
      "model_name": "ColorPickerModel",
      "state": {
       "description": "specular",
       "disabled": false,
       "layout": "IPY_MODEL_b2bf5842fee641abb921c9ea89fc6361",
       "style": "IPY_MODEL_e82e92b531174bbab4c8ec367cfabcd1",
       "value": "#282828"
      }
     },
     "885caec9d1dd43c096b9a173555e99ba": {
      "model_module": "@jupyter-widgets/controls",
      "model_module_version": "1.5.0",
      "model_name": "HBoxModel",
      "state": {
       "children": [
        "IPY_MODEL_8509fa5265184f5db62a735f298cb753",
        "IPY_MODEL_42c627ff3d74409cbca15e800caf7190"
       ],
       "layout": "IPY_MODEL_4d77f69f74244057baec36b232f87f78"
      }
     },
     "885d034f6340467e9f3d03862ecdc212": {
      "model_module": "@jupyter-widgets/controls",
      "model_module_version": "1.5.0",
      "model_name": "DescriptionStyleModel",
      "state": {
       "description_width": ""
      }
     },
     "88a10cf316df4647bd53d535728a4d82": {
      "model_module": "@jupyter-widgets/base",
      "model_module_version": "1.2.0",
      "model_name": "LayoutModel",
      "state": {}
     },
     "88b25b3d6bed47aabbf857ba0829ae88": {
      "model_module": "pgljupyter",
      "model_module_version": "^0.1.17",
      "model_name": "MaterialEditorModel",
      "state": {
       "_model_module_version": "^0.1.17",
       "_view_module_version": "^0.1.17",
       "children": [
        "IPY_MODEL_743b4d10e04e429daa73128e21f65475",
        "IPY_MODEL_1ea7dc68a20e4fa3ae2f532556b651d0",
        "IPY_MODEL_30473609ffbf4e1781ef3e743132ea77",
        "IPY_MODEL_446d0c4274894c3b975472f4d7fb6e63",
        "IPY_MODEL_8012ed3ed86e4af7aa93a0d0174addd1",
        "IPY_MODEL_d10a3a68a0474f01aa5b6d5cfdb8ebe8",
        "IPY_MODEL_536987696dc742f1b1bc51ca8d040a1d"
       ],
       "layout": "IPY_MODEL_4f04e84e06f04f2187ac0562bd5d7982"
      }
     },
     "88f3d087a0de45da8bfd2c33963d9fb3": {
      "model_module": "@jupyter-widgets/controls",
      "model_module_version": "1.5.0",
      "model_name": "SliderStyleModel",
      "state": {
       "description_width": ""
      }
     },
     "88f44b81f9624f8db9eb6600e3fb96e4": {
      "model_module": "@jupyter-widgets/controls",
      "model_module_version": "1.5.0",
      "model_name": "ButtonModel",
      "state": {
       "description": "Delete category",
       "layout": "IPY_MODEL_8d73e5bd9d02455d95cfcec70fbbd004",
       "style": "IPY_MODEL_0fa6ede50ab0406a9807f2c9a03af12c"
      }
     },
     "893cf04f7b474264b2019b1d9ef10da0": {
      "model_module": "@jupyter-widgets/controls",
      "model_module_version": "1.5.0",
      "model_name": "ButtonModel",
      "state": {
       "description": "Delete category",
       "layout": "IPY_MODEL_1d2c3e8ff93a461893bd0cf380e5598b",
       "style": "IPY_MODEL_bf1fdb5bb36e4e1a926148fdc953e325"
      }
     },
     "8941e806cfbc4ef79a7ebe1a33c9c387": {
      "model_module": "@jupyter-widgets/controls",
      "model_module_version": "1.5.0",
      "model_name": "BoundedIntTextModel",
      "state": {
       "description": "index",
       "layout": "IPY_MODEL_04bf48cf21fd4ef3b2fc2c87f891da0a",
       "style": "IPY_MODEL_65e9c69006e0410082732dcb581d48b9",
       "value": 2
      }
     },
     "896cb2a6eee44f0099cfa8dd5b2da22f": {
      "model_module": "@jupyter-widgets/controls",
      "model_module_version": "1.5.0",
      "model_name": "TextModel",
      "state": {
       "continuous_update": false,
       "description": "name",
       "layout": "IPY_MODEL_5f766dc4cb8647509fa135a5358aaab0",
       "style": "IPY_MODEL_c4ed48b837534de7b3ebc8b317ef0a11",
       "value": "color_1"
      }
     },
     "89a945aee0754e80a2eee46f61496ba5": {
      "model_module": "@jupyter-widgets/controls",
      "model_module_version": "1.5.0",
      "model_name": "FloatSliderModel",
      "state": {
       "description": "transparency",
       "layout": "IPY_MODEL_539f9d1af9924f4db2438bbbeeb51b54",
       "max": 1,
       "step": 0.1,
       "style": "IPY_MODEL_6ec1cbd07a644f899b126df86b0690ab"
      }
     },
     "89abd2f5d7a24df6bcce9045e015f6b6": {
      "model_module": "@jupyter-widgets/controls",
      "model_module_version": "1.5.0",
      "model_name": "DescriptionStyleModel",
      "state": {
       "description_width": ""
      }
     },
     "89e834b8c10e40a390db5fd0665c3d45": {
      "model_module": "@jupyter-widgets/base",
      "model_module_version": "1.2.0",
      "model_name": "LayoutModel",
      "state": {}
     },
     "8a5b39fddbde4ba3bee746d6c937b664": {
      "model_module": "@jupyter-widgets/controls",
      "model_module_version": "1.5.0",
      "model_name": "TextModel",
      "state": {
       "continuous_update": false,
       "description": "name",
       "layout": "IPY_MODEL_0ec5645a3bf34b6a84616a6784979782",
       "style": "IPY_MODEL_c190a593c1ed4ea199fb8b572fe94562",
       "value": "color_3"
      }
     },
     "8aae296581c643e2a94a84c43a578fda": {
      "model_module": "@jupyter-widgets/base",
      "model_module_version": "1.2.0",
      "model_name": "LayoutModel",
      "state": {}
     },
     "8ab5ba176a154599b445e9556a8031de": {
      "model_module": "@jupyter-widgets/base",
      "model_module_version": "1.2.0",
      "model_name": "LayoutModel",
      "state": {
       "margin": "20px 0px"
      }
     },
     "8ade179874b44ec4a7a9a96454510c3e": {
      "model_module": "@jupyter-widgets/base",
      "model_module_version": "1.2.0",
      "model_name": "LayoutModel",
      "state": {}
     },
     "8b24ac74c0944cd48267de6d5fe2be88": {
      "model_module": "@jupyter-widgets/base",
      "model_module_version": "1.2.0",
      "model_name": "LayoutModel",
      "state": {}
     },
     "8b39ce9f414948e2acb5c8cfdcf3d6a8": {
      "model_module": "@jupyter-widgets/controls",
      "model_module_version": "1.5.0",
      "model_name": "DropdownModel",
      "state": {
       "_options_labels": [
        "Integer",
        "Float",
        "Bool"
       ],
       "index": 0,
       "layout": "IPY_MODEL_bcb7465a37394dbabd8f197ae65f2662",
       "style": "IPY_MODEL_8537d8915e4e42dbaa546751f3ccd759"
      }
     },
     "8b43f3f764b3434fbc0675fd7f1f079d": {
      "model_module": "@jupyter-widgets/base",
      "model_module_version": "1.2.0",
      "model_name": "LayoutModel",
      "state": {}
     },
     "8b50cab205524c5684de777fe16b12c6": {
      "model_module": "@jupyter-widgets/controls",
      "model_module_version": "1.5.0",
      "model_name": "DescriptionStyleModel",
      "state": {
       "description_width": ""
      }
     },
     "8b9d8ab9579d479587514dba40ca7bcd": {
      "model_module": "@jupyter-widgets/base",
      "model_module_version": "1.2.0",
      "model_name": "LayoutModel",
      "state": {}
     },
     "8bd7cf6dc07d437190fbda31a59b43c4": {
      "model_module": "@jupyter-widgets/base",
      "model_module_version": "1.2.0",
      "model_name": "LayoutModel",
      "state": {}
     },
     "8be95b6e2c4341088b47d9a41a5e1916": {
      "model_module": "@jupyter-widgets/controls",
      "model_module_version": "1.5.0",
      "model_name": "VBoxModel",
      "state": {
       "children": [
        "IPY_MODEL_49c13f7f61b74fdeb6c2e02c3d02da5a",
        "IPY_MODEL_939594c53ae64a0e89243eda3899ab0b"
       ],
       "layout": "IPY_MODEL_a547bbd798964d08896ad103a8c35c97"
      }
     },
     "8c00dd94f504489eb79f75cdf4d9b736": {
      "model_module": "@jupyter-widgets/base",
      "model_module_version": "1.2.0",
      "model_name": "LayoutModel",
      "state": {}
     },
     "8c69ffac5b3b44b286de8bc58ff44b45": {
      "model_module": "@jupyter-widgets/controls",
      "model_module_version": "1.5.0",
      "model_name": "FloatSliderModel",
      "state": {
       "description": "shininess",
       "layout": "IPY_MODEL_09f0b20c3d9a4a7b8d6f767b7e7153d6",
       "max": 1,
       "step": 0.1,
       "style": "IPY_MODEL_2d5a147118f043b0bedacc46a82c83fb",
       "value": 0.2
      }
     },
     "8cbb1af1d0af4ff9bb22fce6efa5827f": {
      "model_module": "@jupyter-widgets/base",
      "model_module_version": "1.2.0",
      "model_name": "LayoutModel",
      "state": {}
     },
     "8cca7f8fad02405fb87c0732c5a43356": {
      "model_module": "@jupyter-widgets/base",
      "model_module_version": "1.2.0",
      "model_name": "LayoutModel",
      "state": {}
     },
     "8d56c586bca3464d8c5cb36ae761ba46": {
      "model_module": "@jupyter-widgets/base",
      "model_module_version": "1.2.0",
      "model_name": "LayoutModel",
      "state": {
       "flex_flow": "row wrap",
       "margin": "20px"
      }
     },
     "8d73e5bd9d02455d95cfcec70fbbd004": {
      "model_module": "@jupyter-widgets/base",
      "model_module_version": "1.2.0",
      "model_name": "LayoutModel",
      "state": {}
     },
     "8d847dba13ab4694a1ab9e4baa5b388d": {
      "model_module": "@jupyter-widgets/controls",
      "model_module_version": "1.5.0",
      "model_name": "DescriptionStyleModel",
      "state": {
       "description_width": ""
      }
     },
     "8df2887e514042d1ac28d987a7d3f39d": {
      "model_module": "@jupyter-widgets/base",
      "model_module_version": "1.2.0",
      "model_name": "LayoutModel",
      "state": {}
     },
     "8e07259218964759aa0e3756812d03d4": {
      "model_module": "pgljupyter",
      "model_module_version": "^0.1.16",
      "model_name": "IntEditorModel",
      "state": {
       "_model_module_version": "^0.1.16",
       "_view_module_version": "^0.1.16",
       "children": [
        "IPY_MODEL_0003eef9dd3941f89ac65b920608e8dc",
        "IPY_MODEL_d734a536300949189433eec18ebe49d5",
        "IPY_MODEL_ea9d8d6b50034a3a9fb9e57b9e304732",
        "IPY_MODEL_ecd0c12b3b9e479fb4a4bdfdcb2c2842",
        "IPY_MODEL_715606022a044632ac89eb213623d18a"
       ],
       "layout": "IPY_MODEL_41689189f03a44738c5a6d8d77d673f0"
      }
     },
     "8e22cddd14fe4b4bae63e877798b91cf": {
      "model_module": "@jupyter-widgets/controls",
      "model_module_version": "1.5.0",
      "model_name": "TextModel",
      "state": {
       "continuous_update": false,
       "description": "name",
       "layout": "IPY_MODEL_e0b3bfd022cf45e4a94fa38c5088e074",
       "style": "IPY_MODEL_aa87d9baf2e54afbbf8a7787e01bc39c",
       "value": "color_3"
      }
     },
     "8e4723856ef545059ac8d8e784b37a8e": {
      "model_module": "@jupyter-widgets/base",
      "model_module_version": "1.2.0",
      "model_name": "LayoutModel",
      "state": {}
     },
     "8e59f23a67514549b0b971a20c8f5644": {
      "model_module": "@jupyter-widgets/controls",
      "model_module_version": "1.5.0",
      "model_name": "IntSliderModel",
      "state": {
       "description": "value",
       "layout": "IPY_MODEL_66cfa3a226224323bc89e5cd0184f515",
       "max": 10,
       "min": 1,
       "style": "IPY_MODEL_67f4e04d08034151b0a50c7edf65de73",
       "value": 3
      }
     },
     "8e6019a49d114761a746e659cc1c48f2": {
      "model_module": "@jupyter-widgets/controls",
      "model_module_version": "1.5.0",
      "model_name": "TextModel",
      "state": {
       "continuous_update": false,
       "description": "name",
       "layout": "IPY_MODEL_7740beb2c49f45218e9e7fa1fe1a8432",
       "style": "IPY_MODEL_fc7845240a5a42389a89509a28eb34dd",
       "value": "nb_axes"
      }
     },
     "8e7f32c1ba3149af89ee115dcce7233a": {
      "model_module": "@jupyter-widgets/controls",
      "model_module_version": "1.5.0",
      "model_name": "VBoxModel",
      "state": {
       "children": [
        "IPY_MODEL_809eaaa517c44dacbd10399efe1c86c8",
        "IPY_MODEL_77bb0a66c7374c4d92144e5900b028a0",
        "IPY_MODEL_15c2dd748e27429b8b7bf9eec53d186c",
        "IPY_MODEL_286459ac772e4d45a1cdf2d3de2f2641",
        "IPY_MODEL_1bd27105bfe744bdbb177dc19d1cf75d"
       ],
       "layout": "IPY_MODEL_78f64a9316a54addbb907fdb74325de3"
      }
     },
     "8eb293d9f1ca49e4a0d8a5d438b925e5": {
      "model_module": "@jupyter-widgets/controls",
      "model_module_version": "1.5.0",
      "model_name": "DescriptionStyleModel",
      "state": {
       "description_width": ""
      }
     },
     "8ebbdf1fb8e54a828e60d7ac7f9605d3": {
      "model_module": "@jupyter-widgets/base",
      "model_module_version": "1.2.0",
      "model_name": "LayoutModel",
      "state": {}
     },
     "8ed6d95dd9ef49ee8cf874817418fc76": {
      "model_module": "@jupyter-widgets/base",
      "model_module_version": "1.2.0",
      "model_name": "LayoutModel",
      "state": {}
     },
     "8f003cdb574545128b2ee385bb6fff88": {
      "model_module": "@jupyter-widgets/base",
      "model_module_version": "1.2.0",
      "model_name": "LayoutModel",
      "state": {}
     },
     "8f06c2ae91ad40a682161b87d6e730b4": {
      "model_module": "@jupyter-widgets/controls",
      "model_module_version": "1.5.0",
      "model_name": "ButtonStyleModel",
      "state": {}
     },
     "8f0d237bd2814cfa98534d804a75bd38": {
      "model_module": "@jupyter-widgets/controls",
      "model_module_version": "1.5.0",
      "model_name": "FloatSliderModel",
      "state": {
       "description": "transparency",
       "layout": "IPY_MODEL_6f0a69f339134e55b948c90d45650703",
       "max": 1,
       "step": 0.1,
       "style": "IPY_MODEL_7b577b3b68b746a29a5e6e041152e745"
      }
     },
     "8f4c0103e27f4574ba684259337a9d96": {
      "model_module": "@jupyter-widgets/controls",
      "model_module_version": "1.5.0",
      "model_name": "HBoxModel",
      "state": {
       "children": [
        "IPY_MODEL_417e8e140cdf4466b6d508d357de4584",
        "IPY_MODEL_9925cbd3ea0647db80ef2a633272125b"
       ],
       "layout": "IPY_MODEL_431315f0bf144d2fa04d6ffc24c515f9"
      }
     },
     "8f51043f8eec495db2aa437cf47dd5d0": {
      "model_module": "@jupyter-widgets/controls",
      "model_module_version": "1.5.0",
      "model_name": "DescriptionStyleModel",
      "state": {
       "description_width": ""
      }
     },
     "8f5d620157024ed59ea59efe6b680541": {
      "model_module": "@jupyter-widgets/base",
      "model_module_version": "1.2.0",
      "model_name": "LayoutModel",
      "state": {}
     },
     "8f87f71addf8423b8fb30f7dbf62cc02": {
      "model_module": "@jupyter-widgets/controls",
      "model_module_version": "1.5.0",
      "model_name": "DescriptionStyleModel",
      "state": {
       "description_width": ""
      }
     },
     "902e29cc535749e796ee3a937c3dfd21": {
      "model_module": "@jupyter-widgets/controls",
      "model_module_version": "1.5.0",
      "model_name": "TextModel",
      "state": {
       "continuous_update": false,
       "description": "name",
       "layout": "IPY_MODEL_59b6d90878cc4434b2cd7ffe61e22f6b",
       "style": "IPY_MODEL_5cb0a8f02ad04b5f9796ec72a576b675",
       "value": "nb_axes"
      }
     },
     "906dd31da0b74225aefcd7029f7939cc": {
      "model_module": "@jupyter-widgets/controls",
      "model_module_version": "1.5.0",
      "model_name": "DescriptionStyleModel",
      "state": {
       "description_width": ""
      }
     },
     "907af94c6c2443389979483218e080ca": {
      "model_module": "@jupyter-widgets/controls",
      "model_module_version": "1.5.0",
      "model_name": "ButtonStyleModel",
      "state": {}
     },
     "908f4ca4949b494db14fc5156aab2cd9": {
      "model_module": "@jupyter-widgets/base",
      "model_module_version": "1.2.0",
      "model_name": "LayoutModel",
      "state": {}
     },
     "90b38a086b7a4c3dacb0a705e9da7c93": {
      "model_module": "@jupyter-widgets/base",
      "model_module_version": "1.2.0",
      "model_name": "LayoutModel",
      "state": {}
     },
     "90f3796014fb441682830e036d391913": {
      "model_module": "@jupyter-widgets/controls",
      "model_module_version": "1.5.0",
      "model_name": "DescriptionStyleModel",
      "state": {
       "description_width": ""
      }
     },
     "90f65d5e0f7d4ba297b91d7381a9b694": {
      "model_module": "@jupyter-widgets/controls",
      "model_module_version": "1.5.0",
      "model_name": "SliderStyleModel",
      "state": {
       "description_width": ""
      }
     },
     "916e7d074de94e13a2e0ee223e0b2d15": {
      "model_module": "@jupyter-widgets/controls",
      "model_module_version": "1.5.0",
      "model_name": "ColorPickerModel",
      "state": {
       "description": "ambient",
       "disabled": false,
       "layout": "IPY_MODEL_977fea6ecad74993b1e7f4b53f05bd3d",
       "style": "IPY_MODEL_4bfa6e2f73c74bffa75861116f13ec31",
       "value": "#0fc4db"
      }
     },
     "91ac8e1f9a054b498098ec7954dfe608": {
      "model_module": "@jupyter-widgets/base",
      "model_module_version": "1.2.0",
      "model_name": "LayoutModel",
      "state": {}
     },
     "9205b342fe2d42118f3ab706062aa484": {
      "model_module": "@jupyter-widgets/base",
      "model_module_version": "1.2.0",
      "model_name": "LayoutModel",
      "state": {}
     },
     "9242e4b52d1c46328eae0b31e19984e1": {
      "model_module": "@jupyter-widgets/base",
      "model_module_version": "1.2.0",
      "model_name": "LayoutModel",
      "state": {}
     },
     "92616f968bf649ad919cbb41d7425b65": {
      "model_module": "@jupyter-widgets/base",
      "model_module_version": "1.2.0",
      "model_name": "LayoutModel",
      "state": {}
     },
     "926c57076840440cba5b8c4fd41d9d43": {
      "model_module": "@jupyter-widgets/base",
      "model_module_version": "1.2.0",
      "model_name": "LayoutModel",
      "state": {}
     },
     "92978dae10c04f879b6b666ba80d5835": {
      "model_module": "@jupyter-widgets/base",
      "model_module_version": "1.2.0",
      "model_name": "LayoutModel",
      "state": {
       "margin": "20px 0px"
      }
     },
     "92d4898f94824292b0826fcacbbe587f": {
      "model_module": "@jupyter-widgets/controls",
      "model_module_version": "1.5.0",
      "model_name": "ColorPickerModel",
      "state": {
       "description": "specular",
       "disabled": false,
       "layout": "IPY_MODEL_b018f27f56ef47b8b8c77c757b918855",
       "style": "IPY_MODEL_bac8604d77704199a0f58325e3b25b59",
       "value": "#282828"
      }
     },
     "930ad9faa5584ea6b9760fd12a63f4ea": {
      "model_module": "@jupyter-widgets/controls",
      "model_module_version": "1.5.0",
      "model_name": "DropdownModel",
      "state": {
       "_options_labels": [
        "Color"
       ],
       "index": 0,
       "layout": "IPY_MODEL_59b8490222d449ec873f6dd426630d90",
       "style": "IPY_MODEL_0366a0590c4e4687a64fd5d1d1a58442"
      }
     },
     "932905fe953a416bb495d9f6c2ffa4fe": {
      "model_module": "@jupyter-widgets/base",
      "model_module_version": "1.2.0",
      "model_name": "LayoutModel",
      "state": {}
     },
     "9334138484854b40a86080f1b61c3cbf": {
      "model_module": "@jupyter-widgets/controls",
      "model_module_version": "1.5.0",
      "model_name": "ButtonModel",
      "state": {
       "description": "Add",
       "layout": "IPY_MODEL_47c4dd25604a48a1b5557177fd515750",
       "style": "IPY_MODEL_28501e07ca81424ba924d3f88696843a"
      }
     },
     "939594c53ae64a0e89243eda3899ab0b": {
      "model_module": "@jupyter-widgets/controls",
      "model_module_version": "1.5.0",
      "model_name": "TabModel",
      "state": {
       "_titles": {
        "0": "leuwenberg.json"
       },
       "children": [
        "IPY_MODEL_5c7ea0ef330d498b91b01ff20701afc6"
       ],
       "layout": "IPY_MODEL_40d3cad94876411eb2c2b28bed44d044"
      }
     },
     "93a5e2d0c70d421d81cf898af8d464df": {
      "model_module": "@jupyter-widgets/controls",
      "model_module_version": "1.5.0",
      "model_name": "DescriptionStyleModel",
      "state": {
       "description_width": ""
      }
     },
     "93d66b3b8d5148e096acb7c3b08dcb94": {
      "model_module": "@jupyter-widgets/controls",
      "model_module_version": "1.5.0",
      "model_name": "HBoxModel",
      "state": {
       "children": [
        "IPY_MODEL_0c3945d18ad84ce68b356bc7fec1acc8",
        "IPY_MODEL_d5451f4d3ae8401ab534c5136e99f785"
       ],
       "layout": "IPY_MODEL_801c820f9e6246b9b3ed03e09a503e66"
      }
     },
     "93e9e1a13f404740b06bcbb3b04fbbe8": {
      "model_module": "@jupyter-widgets/controls",
      "model_module_version": "1.5.0",
      "model_name": "VBoxModel",
      "state": {
       "children": [
        "IPY_MODEL_1624262f28254a519733973a8caf8b9e",
        "IPY_MODEL_767069b5239041d1a94bed85e955db0b",
        "IPY_MODEL_6322774f3a5e4d0cad43bc9ac0f77d3f",
        "IPY_MODEL_f834a6370cbe4f55b43168d73475ea6e",
        "IPY_MODEL_74bb39c50046421c8cf174ea8b853142"
       ],
       "layout": "IPY_MODEL_39b48239860647a19accd22046ec23a9"
      }
     },
     "9424c3010f3348a9bc112e2fabf01dd9": {
      "model_module": "@jupyter-widgets/base",
      "model_module_version": "1.2.0",
      "model_name": "LayoutModel",
      "state": {}
     },
     "9425b43dcbad4491bb621b1c588f23a2": {
      "model_module": "@jupyter-widgets/controls",
      "model_module_version": "1.5.0",
      "model_name": "DescriptionStyleModel",
      "state": {
       "description_width": ""
      }
     },
     "94dd3b9fa9fc40afbb444d490ee4bac3": {
      "model_module": "@jupyter-widgets/controls",
      "model_module_version": "1.5.0",
      "model_name": "SliderStyleModel",
      "state": {
       "description_width": ""
      }
     },
     "94fe467575e84f10afa968e472e6294b": {
      "model_module": "@jupyter-widgets/controls",
      "model_module_version": "1.5.0",
      "model_name": "SliderStyleModel",
      "state": {
       "description_width": ""
      }
     },
     "953ba707a655461f95ad063f5a6f574b": {
      "model_module": "@jupyter-widgets/base",
      "model_module_version": "1.2.0",
      "model_name": "LayoutModel",
      "state": {}
     },
     "963604a85f104c0ea8afa21693108092": {
      "model_module": "@jupyter-widgets/controls",
      "model_module_version": "1.5.0",
      "model_name": "VBoxModel",
      "state": {
       "children": [
        "IPY_MODEL_dd63929993a7401ab626cf49aa8e47ec",
        "IPY_MODEL_18fd2dd4be65499b91b7d984d3f28244"
       ],
       "layout": "IPY_MODEL_ae33a6518f6c4bd7ac1c3d19f27164ee"
      }
     },
     "964212339a614dc4b244dd85464c155d": {
      "model_module": "@jupyter-widgets/base",
      "model_module_version": "1.2.0",
      "model_name": "LayoutModel",
      "state": {
       "flex_flow": "row wrap",
       "margin": "20px"
      }
     },
     "96760736adb540eab397a4254d806359": {
      "model_module": "@jupyter-widgets/controls",
      "model_module_version": "1.5.0",
      "model_name": "SliderStyleModel",
      "state": {
       "description_width": ""
      }
     },
     "96cdd7a7ccd846d3924fb1cc7ba26616": {
      "model_module": "@jupyter-widgets/controls",
      "model_module_version": "1.5.0",
      "model_name": "ButtonModel",
      "state": {
       "description": "Add",
       "layout": "IPY_MODEL_215f302522a248ffb3819ec2c29f1058",
       "style": "IPY_MODEL_fe19d3f5e3dc4cd99368775b1f16b8cc"
      }
     },
     "96ef1dd3e38b40a6b4b6aa0a8d3bcca5": {
      "model_module": "@jupyter-widgets/controls",
      "model_module_version": "1.5.0",
      "model_name": "DropdownModel",
      "state": {
       "_options_labels": [
        "leafduration",
        "leafold",
        "maxorder",
        "radinc",
        "nb_axes"
       ],
       "index": 0,
       "layout": "IPY_MODEL_b349b6082b68436a830311e2652d9b99",
       "style": "IPY_MODEL_0095f53d7b9d447db6885939bd2cb620"
      }
     },
     "973162b76dea4a2bbb3e36144ea6db25": {
      "model_module": "@jupyter-widgets/base",
      "model_module_version": "1.2.0",
      "model_name": "LayoutModel",
      "state": {}
     },
     "973da0ef21a546739fbc9361cd34bfe5": {
      "model_module": "@jupyter-widgets/base",
      "model_module_version": "1.2.0",
      "model_name": "LayoutModel",
      "state": {}
     },
     "9773821d863c41edbda8c72cf73d3bc6": {
      "model_module": "@jupyter-widgets/controls",
      "model_module_version": "1.5.0",
      "model_name": "VBoxModel",
      "state": {
       "children": [
        "IPY_MODEL_684c8f4df8674412aedac32f204f41a4",
        "IPY_MODEL_1c64de6d810040e6a876cf03d544910b",
        "IPY_MODEL_58569d21975b4ecb94c1b21ac30e0823",
        "IPY_MODEL_a8e1694a081f4cdeac229c2c58ebc71b",
        "IPY_MODEL_b025d2c3b32b46ee9877ca8fabce0c2d"
       ],
       "layout": "IPY_MODEL_2132082f200f4a239684d6e5b976b196"
      }
     },
     "977fea6ecad74993b1e7f4b53f05bd3d": {
      "model_module": "@jupyter-widgets/base",
      "model_module_version": "1.2.0",
      "model_name": "LayoutModel",
      "state": {}
     },
     "97afb2960e67464ebd0ea7e768317b03": {
      "model_module": "@jupyter-widgets/base",
      "model_module_version": "1.2.0",
      "model_name": "LayoutModel",
      "state": {}
     },
     "9824adc57ba049e4afcc27d45ea5872d": {
      "model_module": "@jupyter-widgets/controls",
      "model_module_version": "1.5.0",
      "model_name": "DescriptionStyleModel",
      "state": {
       "description_width": ""
      }
     },
     "98277c35c08042f6a10536f9cec224a9": {
      "model_module": "@jupyter-widgets/base",
      "model_module_version": "1.2.0",
      "model_name": "LayoutModel",
      "state": {}
     },
     "98aa41c6eb644b028a4c3b34c61591da": {
      "model_module": "@jupyter-widgets/controls",
      "model_module_version": "1.5.0",
      "model_name": "DescriptionStyleModel",
      "state": {
       "description_width": ""
      }
     },
     "98e62b318b7c483cb6d8f8cd5917ff1b": {
      "model_module": "pgljupyter",
      "model_module_version": "^0.1.17",
      "model_name": "ParameterEditorModel",
      "state": {
       "_model_module_version": "^0.1.17",
       "_view_module_version": "^0.1.17",
       "children": [
        "IPY_MODEL_8be95b6e2c4341088b47d9a41a5e1916"
       ],
       "layout": "IPY_MODEL_4be4fe9b98574f5e94986b02b8c225cb"
      }
     },
     "98fe3261f12c4e249958290f37ba93d2": {
      "model_module": "@jupyter-widgets/controls",
      "model_module_version": "1.5.0",
      "model_name": "ButtonModel",
      "state": {
       "description": "Delete",
       "layout": "IPY_MODEL_0daf2556cff5466a8f88c6b061377e55",
       "style": "IPY_MODEL_d563b21fb0e44bff9f75ce1b0e25866e"
      }
     },
     "9912022f5d81416fae20d7fb32ee621a": {
      "model_module": "@jupyter-widgets/controls",
      "model_module_version": "1.5.0",
      "model_name": "DescriptionStyleModel",
      "state": {
       "description_width": ""
      }
     },
     "9925cbd3ea0647db80ef2a633272125b": {
      "model_module": "@jupyter-widgets/controls",
      "model_module_version": "1.5.0",
      "model_name": "CheckboxModel",
      "state": {
       "description": "Auto save",
       "disabled": false,
       "layout": "IPY_MODEL_42e7b3c15d994cd6b5e009744d25d2cf",
       "style": "IPY_MODEL_e39e2498279249fda7dc6eebafd8b0bb",
       "value": false
      }
     },
     "9961b6fd43374fabbaa82d99027e4bb1": {
      "model_module": "@jupyter-widgets/controls",
      "model_module_version": "1.5.0",
      "model_name": "ButtonStyleModel",
      "state": {}
     },
     "998772480aac452387c45481c4a8859d": {
      "model_module": "@jupyter-widgets/base",
      "model_module_version": "1.2.0",
      "model_name": "LayoutModel",
      "state": {}
     },
     "9991cdc311734263a5179071275bff7c": {
      "model_module": "@jupyter-widgets/controls",
      "model_module_version": "1.5.0",
      "model_name": "ColorPickerModel",
      "state": {
       "description": "specular",
       "disabled": false,
       "layout": "IPY_MODEL_5d416a34f993487a93cb14b0054ea4ea",
       "style": "IPY_MODEL_160584d7549b440497e447884ae62452",
       "value": "#282828"
      }
     },
     "99a8e99bf57142b881b83b3908b78915": {
      "model_module": "@jupyter-widgets/controls",
      "model_module_version": "1.5.0",
      "model_name": "TextModel",
      "state": {
       "continuous_update": false,
       "description": "name",
       "layout": "IPY_MODEL_1d1181a2fd7a41b6942a8f000b3d75bd",
       "style": "IPY_MODEL_d98400c8547342cb8a67ecbb1f113126",
       "value": "radinc"
      }
     },
     "9a39bcbc02c34c958a3a2bea5ded14be": {
      "model_module": "@jupyter-widgets/controls",
      "model_module_version": "1.5.0",
      "model_name": "DropdownModel",
      "state": {
       "index": null,
       "layout": "IPY_MODEL_554ebc2fe70b441697fdba4d2a6f87c0",
       "style": "IPY_MODEL_d5962bdf3e204a32a0c5f001c01c8af8"
      }
     },
     "9a9dd7b9393e473ab51a5616b57ee709": {
      "model_module": "@jupyter-widgets/controls",
      "model_module_version": "1.5.0",
      "model_name": "FloatSliderModel",
      "state": {
       "description": "diffuse",
       "layout": "IPY_MODEL_0f79a7c69fb34b2d9f55d3a3cfb5c585",
       "max": 3,
       "step": 0.1,
       "style": "IPY_MODEL_5d56f12735114a72b59aee0792d5ab99",
       "value": 1
      }
     },
     "9b10fafd1dad421981300c41e7b605cc": {
      "model_module": "@jupyter-widgets/controls",
      "model_module_version": "1.5.0",
      "model_name": "HBoxModel",
      "state": {
       "children": [
        "IPY_MODEL_679a4e3dbf4340d084066a79f8c8540d",
        "IPY_MODEL_6e149d6140aa4abca3c6a495c874087e"
       ],
       "layout": "IPY_MODEL_bb79433b06b94630b6f77fbc405d30c3"
      }
     },
     "9b28113ac4cf4246b8f51027152a28ae": {
      "model_module": "@jupyter-widgets/base",
      "model_module_version": "1.2.0",
      "model_name": "LayoutModel",
      "state": {}
     },
     "9b30eab18de94dffbe1a6d676db8158c": {
      "model_module": "@jupyter-widgets/base",
      "model_module_version": "1.2.0",
      "model_name": "LayoutModel",
      "state": {}
     },
     "9b3e11ebb803450b986ba009cd7271d1": {
      "model_module": "@jupyter-widgets/base",
      "model_module_version": "1.2.0",
      "model_name": "LayoutModel",
      "state": {
       "margin": "20px 0px"
      }
     },
     "9b552c4d5fcb4cb5a27ef472c8be80f2": {
      "model_module": "@jupyter-widgets/base",
      "model_module_version": "1.2.0",
      "model_name": "LayoutModel",
      "state": {}
     },
     "9b789e08ff1c46f1bb9f707c180a4903": {
      "model_module": "@jupyter-widgets/base",
      "model_module_version": "1.2.0",
      "model_name": "LayoutModel",
      "state": {}
     },
     "9b8436ae14f84fa29eae52599733cb23": {
      "model_module": "@jupyter-widgets/controls",
      "model_module_version": "1.5.0",
      "model_name": "SliderStyleModel",
      "state": {
       "description_width": ""
      }
     },
     "9b9a7369a8eb4f5da61755ac616f74c3": {
      "model_module": "@jupyter-widgets/controls",
      "model_module_version": "1.5.0",
      "model_name": "ButtonModel",
      "state": {
       "description": "Delete",
       "layout": "IPY_MODEL_8688606d2e9e400dbdbdb02bf5459c6a",
       "style": "IPY_MODEL_8385988dc1324faabaa3e51b770405fa"
      }
     },
     "9bc9c3338eea4c8c86654a7b2ab4b2be": {
      "model_module": "@jupyter-widgets/controls",
      "model_module_version": "1.5.0",
      "model_name": "BoundedIntTextModel",
      "state": {
       "description": "index",
       "layout": "IPY_MODEL_9d44e4d7b6b5496abd6950c0d6063e41",
       "style": "IPY_MODEL_c30638fef6f54cf1961713315e8da2f9",
       "value": 1
      }
     },
     "9bee7a831530488d8f1b62a13071e4a1": {
      "model_module": "@jupyter-widgets/controls",
      "model_module_version": "1.5.0",
      "model_name": "HBoxModel",
      "state": {
       "children": [
        "IPY_MODEL_bc2caf9b3fc84da494330dba24816842",
        "IPY_MODEL_744795a86db044f098523c400f8e0b54"
       ],
       "layout": "IPY_MODEL_05158b063b184ffe96c65e42e171536a"
      }
     },
     "9c81b23cc78347d3b3f5498f783fd5c4": {
      "model_module": "@jupyter-widgets/controls",
      "model_module_version": "1.5.0",
      "model_name": "CheckboxModel",
      "state": {
       "description": "Auto apply",
       "disabled": false,
       "layout": "IPY_MODEL_9fa3784e27c34e6ba76a8dc86ca4931f",
       "style": "IPY_MODEL_ef248a12bce040c9b9d1143f988a7f70",
       "value": false
      }
     },
     "9c9be4e906924b7ca4fc59cedc2f1e32": {
      "model_module": "@jupyter-widgets/base",
      "model_module_version": "1.2.0",
      "model_name": "LayoutModel",
      "state": {}
     },
     "9cbbf712b5e546d7b39a41428b0aa2f1": {
      "model_module": "@jupyter-widgets/controls",
      "model_module_version": "1.5.0",
      "model_name": "DescriptionStyleModel",
      "state": {
       "description_width": ""
      }
     },
     "9d12e0ef939e4807b6d9a006fce2d523": {
      "model_module": "@jupyter-widgets/controls",
      "model_module_version": "1.5.0",
      "model_name": "BoundedFloatTextModel",
      "state": {
       "description": "step",
       "layout": "IPY_MODEL_255b3c439597483f80ed865cd04cc345",
       "max": 1,
       "min": 0.01,
       "step": 0.01,
       "style": "IPY_MODEL_259e1b89f75240de83d19dcd3b59bf86",
       "value": 0.01
      }
     },
     "9d18be69857d479da54872b16cad623b": {
      "model_module": "@jupyter-widgets/base",
      "model_module_version": "1.2.0",
      "model_name": "LayoutModel",
      "state": {}
     },
     "9d1c471f6aa5499386c9cee5a496cdfc": {
      "model_module": "@jupyter-widgets/controls",
      "model_module_version": "1.5.0",
      "model_name": "HBoxModel",
      "state": {
       "children": [
        "IPY_MODEL_27f197b4f13d478283479e8a52271d78",
        "IPY_MODEL_42733af347b24deeb6820dafdba23586"
       ],
       "layout": "IPY_MODEL_8b43f3f764b3434fbc0675fd7f1f079d"
      }
     },
     "9d3e8bfa637b4501a40010eae48c2c9e": {
      "model_module": "@jupyter-widgets/base",
      "model_module_version": "1.2.0",
      "model_name": "LayoutModel",
      "state": {}
     },
     "9d44e4d7b6b5496abd6950c0d6063e41": {
      "model_module": "@jupyter-widgets/base",
      "model_module_version": "1.2.0",
      "model_name": "LayoutModel",
      "state": {}
     },
     "9d4b9a9b3979406d872e9b0718717eb7": {
      "model_module": "@jupyter-widgets/controls",
      "model_module_version": "1.5.0",
      "model_name": "ColorPickerModel",
      "state": {
       "description": "ambient",
       "disabled": false,
       "layout": "IPY_MODEL_08a086db9f984b649195bfba6e845663",
       "style": "IPY_MODEL_7844922bdc964f79876f85b1d4fdf8b4",
       "value": "#5b4534"
      }
     },
     "9db215c1ff3242bab8eb9533ae4c1142": {
      "model_module": "@jupyter-widgets/controls",
      "model_module_version": "1.5.0",
      "model_name": "ColorPickerModel",
      "state": {
       "description": "ambient",
       "disabled": false,
       "layout": "IPY_MODEL_0d6a37d535614710acb801033c6e1b4b",
       "style": "IPY_MODEL_38f0ad6d78c543e584e0999e772ae5b0",
       "value": "#e1a014"
      }
     },
     "9e0dbc685d844cfd942dcb418366010a": {
      "model_module": "@jupyter-widgets/base",
      "model_module_version": "1.2.0",
      "model_name": "LayoutModel",
      "state": {}
     },
     "9e28d980a69940b8887b30e5d2ab7eba": {
      "model_module": "@jupyter-widgets/controls",
      "model_module_version": "1.5.0",
      "model_name": "SliderStyleModel",
      "state": {
       "description_width": ""
      }
     },
     "9e2c5933bf4e4702ae54e16799be5b86": {
      "model_module": "@jupyter-widgets/base",
      "model_module_version": "1.2.0",
      "model_name": "LayoutModel",
      "state": {}
     },
     "9e900280d0514e8d81562cb4284c52dd": {
      "model_module": "@jupyter-widgets/base",
      "model_module_version": "1.2.0",
      "model_name": "LayoutModel",
      "state": {}
     },
     "9e9532d3f9264d848c9671d25e59429b": {
      "model_module": "@jupyter-widgets/base",
      "model_module_version": "1.2.0",
      "model_name": "LayoutModel",
      "state": {}
     },
     "9e9b6175f07b4b388b45284c5be91fe8": {
      "model_module": "@jupyter-widgets/base",
      "model_module_version": "1.2.0",
      "model_name": "LayoutModel",
      "state": {}
     },
     "9ed51db8130848ad90da4bdd175506a3": {
      "model_module": "@jupyter-widgets/base",
      "model_module_version": "1.2.0",
      "model_name": "LayoutModel",
      "state": {}
     },
     "9f1b252d842443fc95ac8e7e4f03c95a": {
      "model_module": "@jupyter-widgets/controls",
      "model_module_version": "1.5.0",
      "model_name": "ButtonModel",
      "state": {
       "description": "Add category",
       "layout": "IPY_MODEL_25319b4a1c0d492ea4c44baed1f845f1",
       "style": "IPY_MODEL_22f9f8931d46440d97e214fb63e75678"
      }
     },
     "9f2dbce166f945239d5998018bbaae65": {
      "model_module": "@jupyter-widgets/controls",
      "model_module_version": "1.5.0",
      "model_name": "ButtonModel",
      "state": {
       "description": "Save changes",
       "layout": "IPY_MODEL_1b5446a7b8594571b37b59d8d9494810",
       "style": "IPY_MODEL_10cf3b81371e442e9ea401ba90dc6424"
      }
     },
     "9f354ca43c3848c8a0a6e0d4c83d58ba": {
      "model_module": "@jupyter-widgets/controls",
      "model_module_version": "1.5.0",
      "model_name": "HBoxModel",
      "state": {
       "children": [
        "IPY_MODEL_b83043512c0f4a2d9f6e344f6ba2039e",
        "IPY_MODEL_cce99130437343edbb73e295b4bb4a02"
       ],
       "layout": "IPY_MODEL_81b18d0fb7524952b85175ffd2632d16"
      }
     },
     "9f81c34fd48c46a38082ef22fe436144": {
      "model_module": "@jupyter-widgets/base",
      "model_module_version": "1.2.0",
      "model_name": "LayoutModel",
      "state": {}
     },
     "9fa3784e27c34e6ba76a8dc86ca4931f": {
      "model_module": "@jupyter-widgets/base",
      "model_module_version": "1.2.0",
      "model_name": "LayoutModel",
      "state": {}
     },
     "9fa90f82578d4c6cbf8256092d7543fa": {
      "model_module": "@jupyter-widgets/controls",
      "model_module_version": "1.5.0",
      "model_name": "ButtonStyleModel",
      "state": {}
     },
     "a02f0afc7f6946cfbda70b9cb2bee9f9": {
      "model_module": "@jupyter-widgets/controls",
      "model_module_version": "1.5.0",
      "model_name": "DropdownModel",
      "state": {
       "_options_labels": [
        "leafduration",
        "leafold"
       ],
       "index": 0,
       "layout": "IPY_MODEL_de0166a69e364f30890e136c6a843c04",
       "style": "IPY_MODEL_17a8887bab0d48dda0b6eb417e76dbac"
      }
     },
     "a03e944e51cb40c5810fc9d0fa1bbb94": {
      "model_module": "@jupyter-widgets/controls",
      "model_module_version": "1.5.0",
      "model_name": "HBoxModel",
      "state": {
       "children": [
        "IPY_MODEL_1353b6016646410798b195d84bc20e50",
        "IPY_MODEL_7d00e5b6fac64279ab76b336056511c0",
        "IPY_MODEL_f091e8ee938040379301180a6b5f8ece",
        "IPY_MODEL_dab8e9c05b4743e0910867303374e23e"
       ],
       "layout": "IPY_MODEL_5a7768daa7114d36b770ea435fe36cec"
      }
     },
     "a05c2a0fc34b4dfe85701e30e5a55732": {
      "model_module": "@jupyter-widgets/controls",
      "model_module_version": "1.5.0",
      "model_name": "ColorPickerModel",
      "state": {
       "description": "specular",
       "disabled": false,
       "layout": "IPY_MODEL_d4426702c7c94b0aac24491668d12154",
       "style": "IPY_MODEL_89abd2f5d7a24df6bcce9045e015f6b6",
       "value": "#282828"
      }
     },
     "a0c58eb759874d7aabec070d0f8f4e28": {
      "model_module": "@jupyter-widgets/base",
      "model_module_version": "1.2.0",
      "model_name": "LayoutModel",
      "state": {}
     },
     "a143a5b673a2495e928dd346cefa7981": {
      "model_module": "@jupyter-widgets/controls",
      "model_module_version": "1.5.0",
      "model_name": "HBoxModel",
      "state": {
       "children": [
        "IPY_MODEL_b67e23aadfc0447c98ae6280c6d11af4",
        "IPY_MODEL_407e1eb8df67478aa2edf212374198dd"
       ],
       "layout": "IPY_MODEL_4d77f69f74244057baec36b232f87f78"
      }
     },
     "a14d2f25db9a4ee09e33307c1cc7015b": {
      "model_module": "@jupyter-widgets/controls",
      "model_module_version": "1.5.0",
      "model_name": "ColorPickerModel",
      "state": {
       "description": "specular",
       "disabled": false,
       "layout": "IPY_MODEL_ae2120fec28e429792294924ef4e7252",
       "style": "IPY_MODEL_0cb243c061d34b35a8ad51de93b3548a",
       "value": "#282828"
      }
     },
     "a15f82e8dd1a43408a5d120bd20123be": {
      "model_module": "@jupyter-widgets/controls",
      "model_module_version": "1.5.0",
      "model_name": "SliderStyleModel",
      "state": {
       "description_width": ""
      }
     },
     "a168b04a2dbf49739b7e62715ebafb2f": {
      "model_module": "@jupyter-widgets/controls",
      "model_module_version": "1.5.0",
      "model_name": "HBoxModel",
      "state": {
       "children": [
        "IPY_MODEL_862e6be63a4c4ec7a41e281d8b696e8d",
        "IPY_MODEL_73c2343975874c018e3bdb7a49cd342d"
       ],
       "layout": "IPY_MODEL_ee807aaf7dd849e494a1bea9e632bb51"
      }
     },
     "a1906644e02d4f33ae8f642c8841461f": {
      "model_module": "@jupyter-widgets/controls",
      "model_module_version": "1.5.0",
      "model_name": "ButtonModel",
      "state": {
       "description": "Add",
       "layout": "IPY_MODEL_9242e4b52d1c46328eae0b31e19984e1",
       "style": "IPY_MODEL_2f17b1525d00451c858cb41c69112c69"
      }
     },
     "a2b015214e0846d9ac5d81a1bebac7b4": {
      "model_module": "@jupyter-widgets/controls",
      "model_module_version": "1.5.0",
      "model_name": "CheckboxModel",
      "state": {
       "description": "Auto apply",
       "disabled": false,
       "layout": "IPY_MODEL_b40339e839344d96ba6ff6a53935e92b",
       "style": "IPY_MODEL_754a8ec29fb14d7087455060f4d25989",
       "value": false
      }
     },
     "a2e742f0ad8747ec88f5cf551a3b5224": {
      "model_module": "@jupyter-widgets/controls",
      "model_module_version": "1.5.0",
      "model_name": "HBoxModel",
      "state": {
       "layout": "IPY_MODEL_f54b6bb1cd9047f2913448b18542023e"
      }
     },
     "a2eafcfa36b44a6ba3e34657e64cec7a": {
      "model_module": "@jupyter-widgets/controls",
      "model_module_version": "1.5.0",
      "model_name": "FloatSliderModel",
      "state": {
       "description": "transparency",
       "layout": "IPY_MODEL_e01ac84da5b94b36859436d3ee12a19e",
       "max": 1,
       "step": 0.1,
       "style": "IPY_MODEL_dcc995adc6dd4fe097aab757670954b6"
      }
     },
     "a2eb67920af64606babedcf49f3ac443": {
      "model_module": "@jupyter-widgets/controls",
      "model_module_version": "1.5.0",
      "model_name": "DescriptionStyleModel",
      "state": {
       "description_width": ""
      }
     },
     "a301eb5668924f298fa462fb2ee4e2dc": {
      "model_module": "@jupyter-widgets/controls",
      "model_module_version": "1.5.0",
      "model_name": "SliderStyleModel",
      "state": {
       "description_width": ""
      }
     },
     "a3aa80b4b3224cfa978751461082efdd": {
      "model_module": "@jupyter-widgets/controls",
      "model_module_version": "1.5.0",
      "model_name": "DescriptionStyleModel",
      "state": {
       "description_width": ""
      }
     },
     "a4330bdab939492fbed45caab83a37b0": {
      "model_module": "@jupyter-widgets/base",
      "model_module_version": "1.2.0",
      "model_name": "LayoutModel",
      "state": {}
     },
     "a4c87564910c4791b7ebc8217ae6af21": {
      "model_module": "@jupyter-widgets/base",
      "model_module_version": "1.2.0",
      "model_name": "LayoutModel",
      "state": {}
     },
     "a5264762497747948922c606524ae042": {
      "model_module": "@jupyter-widgets/base",
      "model_module_version": "1.2.0",
      "model_name": "LayoutModel",
      "state": {}
     },
     "a547bbd798964d08896ad103a8c35c97": {
      "model_module": "@jupyter-widgets/base",
      "model_module_version": "1.2.0",
      "model_name": "LayoutModel",
      "state": {}
     },
     "a5a3a25a887b433b95152afe55d8192d": {
      "model_module": "@jupyter-widgets/base",
      "model_module_version": "1.2.0",
      "model_name": "LayoutModel",
      "state": {}
     },
     "a5d0d447b1394b03986172fc7562d1f4": {
      "model_module": "@jupyter-widgets/controls",
      "model_module_version": "1.5.0",
      "model_name": "HBoxModel",
      "state": {
       "children": [
        "IPY_MODEL_96cdd7a7ccd846d3924fb1cc7ba26616",
        "IPY_MODEL_0414cc8a90c64c448f20ab6c7de8a484"
       ],
       "layout": "IPY_MODEL_a7a0c50477554430aa4553a8141c8cdf"
      }
     },
     "a5fa387b659b43e6811c5b2786ac85cd": {
      "model_module": "@jupyter-widgets/controls",
      "model_module_version": "1.5.0",
      "model_name": "HBoxModel",
      "state": {
       "children": [
        "IPY_MODEL_45109e056cae4646bd13589740cb2e07",
        "IPY_MODEL_ad7052f26bac417382466038fda4af38"
       ],
       "layout": "IPY_MODEL_2c72ff2950854494b63f8872eabd3dac"
      }
     },
     "a6a5cc76976d4a088ca7e7f307750adf": {
      "model_module": "@jupyter-widgets/controls",
      "model_module_version": "1.5.0",
      "model_name": "DescriptionStyleModel",
      "state": {
       "description_width": ""
      }
     },
     "a6b2268c582b4593aeb1fd6140283cda": {
      "model_module": "@jupyter-widgets/controls",
      "model_module_version": "1.5.0",
      "model_name": "ColorPickerModel",
      "state": {
       "description": "specular",
       "disabled": false,
       "layout": "IPY_MODEL_e53a81fe5d75435cb12952d290d8bed4",
       "style": "IPY_MODEL_0265533bc3464ca7a91abeccee38a36a",
       "value": "#282828"
      }
     },
     "a6ba6d086bb947a9a81c7c00b649099a": {
      "model_module": "@jupyter-widgets/controls",
      "model_module_version": "1.5.0",
      "model_name": "HBoxModel",
      "state": {
       "children": [
        "IPY_MODEL_73f23e73ddf440029997bd7411d5ebcb",
        "IPY_MODEL_9f354ca43c3848c8a0a6e0d4c83d58ba"
       ],
       "layout": "IPY_MODEL_4d77f69f74244057baec36b232f87f78"
      }
     },
     "a72f273cdb3945e394051fb5a3ed72de": {
      "model_module": "@jupyter-widgets/controls",
      "model_module_version": "1.5.0",
      "model_name": "TextModel",
      "state": {
       "continuous_update": false,
       "description": "name",
       "layout": "IPY_MODEL_2e4a8e24f3cb480f948147e7187812ba",
       "style": "IPY_MODEL_5c45b8f207094c259218686f4e90aff4",
       "value": "maxorder"
      }
     },
     "a74641fad73f460aaf67830e96175f14": {
      "model_module": "@jupyter-widgets/controls",
      "model_module_version": "1.5.0",
      "model_name": "ButtonModel",
      "state": {
       "description": "Add",
       "layout": "IPY_MODEL_8e4723856ef545059ac8d8e784b37a8e",
       "style": "IPY_MODEL_2f7990fb68574e08a097ad24e9646305"
      }
     },
     "a74963dac2344d5ab99396cfdd373704": {
      "model_module": "@jupyter-widgets/base",
      "model_module_version": "1.2.0",
      "model_name": "LayoutModel",
      "state": {}
     },
     "a7a0c50477554430aa4553a8141c8cdf": {
      "model_module": "@jupyter-widgets/base",
      "model_module_version": "1.2.0",
      "model_name": "LayoutModel",
      "state": {}
     },
     "a85f651d3d144554a4c5e5260dc4c9c3": {
      "model_module": "@jupyter-widgets/base",
      "model_module_version": "1.2.0",
      "model_name": "LayoutModel",
      "state": {
       "margin": "20px 0px"
      }
     },
     "a8635d0de8634cffa50f768817ef709b": {
      "model_module": "@jupyter-widgets/controls",
      "model_module_version": "1.5.0",
      "model_name": "DescriptionStyleModel",
      "state": {
       "description_width": ""
      }
     },
     "a8e1694a081f4cdeac229c2c58ebc71b": {
      "model_module": "@jupyter-widgets/controls",
      "model_module_version": "1.5.0",
      "model_name": "HBoxModel",
      "state": {
       "children": [
        "IPY_MODEL_3370ab19ca7d4eb6bd833095110e8888",
        "IPY_MODEL_5d6e79af49c540d687173491bdf52613"
       ],
       "layout": "IPY_MODEL_78dff3c9b0ab4092885a4681b708b9c4"
      }
     },
     "a928100a1a7543c1a952e02f63653d38": {
      "model_module": "@jupyter-widgets/base",
      "model_module_version": "1.2.0",
      "model_name": "LayoutModel",
      "state": {}
     },
     "a9567de3ebd14a1ea85f21b1ea294e13": {
      "model_module": "@jupyter-widgets/controls",
      "model_module_version": "1.5.0",
      "model_name": "ButtonStyleModel",
      "state": {}
     },
     "a986327c2f5f410491da6da14c2b9def": {
      "model_module": "@jupyter-widgets/controls",
      "model_module_version": "1.5.0",
      "model_name": "DescriptionStyleModel",
      "state": {
       "description_width": ""
      }
     },
     "a9b7a5bea64640859355bc1f3bd40aed": {
      "model_module": "@jupyter-widgets/base",
      "model_module_version": "1.2.0",
      "model_name": "LayoutModel",
      "state": {
       "flex_flow": "row wrap",
       "margin": "20px"
      }
     },
     "a9cadb58b2d74d899f90724daa0dbc03": {
      "model_module": "@jupyter-widgets/controls",
      "model_module_version": "1.5.0",
      "model_name": "DescriptionStyleModel",
      "state": {
       "description_width": ""
      }
     },
     "aa07377abfb5489ca39018eb747fddb6": {
      "model_module": "@jupyter-widgets/controls",
      "model_module_version": "1.5.0",
      "model_name": "HBoxModel",
      "state": {
       "children": [
        "IPY_MODEL_1a39600936bd4b199a960b5ddd12c3ef",
        "IPY_MODEL_e2b7f42fba7146f9bd943e2d6c422529"
       ],
       "layout": "IPY_MODEL_3af78c5ade4d410a8a1156f28dde5870"
      }
     },
     "aa34cffd296144adbb84e44628679faa": {
      "model_module": "@jupyter-widgets/controls",
      "model_module_version": "1.5.0",
      "model_name": "HBoxModel",
      "state": {
       "children": [
        "IPY_MODEL_3118b20c6b1b41b095139fadd7aa0f5e",
        "IPY_MODEL_8f4c0103e27f4574ba684259337a9d96",
        "IPY_MODEL_64ddded86cc94f2aaa65c66efd8404cd"
       ],
       "layout": "IPY_MODEL_37b2865fee2b4a02bc2013f64eaefc86"
      }
     },
     "aa87d9baf2e54afbbf8a7787e01bc39c": {
      "model_module": "@jupyter-widgets/controls",
      "model_module_version": "1.5.0",
      "model_name": "DescriptionStyleModel",
      "state": {
       "description_width": ""
      }
     },
     "aadcd785ecac49dd89e89b98cd11a5bc": {
      "model_module": "@jupyter-widgets/controls",
      "model_module_version": "1.5.0",
      "model_name": "IntTextModel",
      "state": {
       "description": "max",
       "layout": "IPY_MODEL_64635876704d46df8e253b2d4cefa598",
       "step": 1,
       "style": "IPY_MODEL_fce01e4c69184a6aa0107d409c41700a",
       "value": 7
      }
     },
     "ab0f9f99791b40059d4d3534b8def2a1": {
      "model_module": "@jupyter-widgets/base",
      "model_module_version": "1.2.0",
      "model_name": "LayoutModel",
      "state": {}
     },
     "abb8dd22248e47baa61d0443c5c01957": {
      "model_module": "@jupyter-widgets/base",
      "model_module_version": "1.2.0",
      "model_name": "LayoutModel",
      "state": {}
     },
     "abbcb03a36494939be94896a2e4392f4": {
      "model_module": "@jupyter-widgets/base",
      "model_module_version": "1.2.0",
      "model_name": "LayoutModel",
      "state": {}
     },
     "abcc393b17f24dc9b7fecb97fc241a9d": {
      "model_module": "@jupyter-widgets/controls",
      "model_module_version": "1.5.0",
      "model_name": "SliderStyleModel",
      "state": {
       "description_width": ""
      }
     },
     "abee62d144eb46f6a0854e2c779344fc": {
      "model_module": "@jupyter-widgets/base",
      "model_module_version": "1.2.0",
      "model_name": "LayoutModel",
      "state": {}
     },
     "ac370811477146a592129af91bec1989": {
      "model_module": "@jupyter-widgets/base",
      "model_module_version": "1.2.0",
      "model_name": "LayoutModel",
      "state": {}
     },
     "ac6f0bb182d14b43a5412de39ac1d15a": {
      "model_module": "@jupyter-widgets/base",
      "model_module_version": "1.2.0",
      "model_name": "LayoutModel",
      "state": {}
     },
     "ac71f1c55d9948e19e588813ff85983b": {
      "model_module": "@jupyter-widgets/controls",
      "model_module_version": "1.5.0",
      "model_name": "DescriptionStyleModel",
      "state": {
       "description_width": ""
      }
     },
     "ad0d38c2c2774e369fd4428f472136f0": {
      "model_module": "@jupyter-widgets/base",
      "model_module_version": "1.2.0",
      "model_name": "LayoutModel",
      "state": {}
     },
     "ad1542a9ee5d493fb7cad40f4ec24a08": {
      "model_module": "@jupyter-widgets/base",
      "model_module_version": "1.2.0",
      "model_name": "LayoutModel",
      "state": {}
     },
     "ad28097795614babac3adcc76c9b471c": {
      "model_module": "@jupyter-widgets/base",
      "model_module_version": "1.2.0",
      "model_name": "LayoutModel",
      "state": {}
     },
     "ad7052f26bac417382466038fda4af38": {
      "model_module": "@jupyter-widgets/controls",
      "model_module_version": "1.5.0",
      "model_name": "DropdownModel",
      "state": {
       "_options_labels": [
        "NurbsCurve2D",
        "BezierCurve2D",
        "Polyline2D",
        "Function"
       ],
       "index": 0,
       "layout": "IPY_MODEL_f7a150d82f6d40e4934ef1a89819382f",
       "style": "IPY_MODEL_885d034f6340467e9f3d03862ecdc212"
      }
     },
     "ad770f779d7142d692b8057c7c5825cf": {
      "model_module": "@jupyter-widgets/base",
      "model_module_version": "1.2.0",
      "model_name": "LayoutModel",
      "state": {
       "margin": "20px 0px"
      }
     },
     "ae2120fec28e429792294924ef4e7252": {
      "model_module": "@jupyter-widgets/base",
      "model_module_version": "1.2.0",
      "model_name": "LayoutModel",
      "state": {}
     },
     "ae33a6518f6c4bd7ac1c3d19f27164ee": {
      "model_module": "@jupyter-widgets/base",
      "model_module_version": "1.2.0",
      "model_name": "LayoutModel",
      "state": {}
     },
     "ae40200d7fdc43a69f8f57ce27d6891b": {
      "model_module": "@jupyter-widgets/controls",
      "model_module_version": "1.5.0",
      "model_name": "ColorPickerModel",
      "state": {
       "description": "ambient",
       "disabled": false,
       "layout": "IPY_MODEL_27c99d487aef426398bafe8dc27b8491",
       "style": "IPY_MODEL_e4bcad903cd24e668755c12c6ad16d21",
       "value": "#5b4534"
      }
     },
     "ae49ac24f7d94cbea0a0b653a87d4b7d": {
      "model_module": "@jupyter-widgets/controls",
      "model_module_version": "1.5.0",
      "model_name": "ButtonStyleModel",
      "state": {}
     },
     "ae6582bcdffa4a9ea49948fb8e79804f": {
      "model_module": "@jupyter-widgets/controls",
      "model_module_version": "1.5.0",
      "model_name": "CheckboxModel",
      "state": {
       "description": "Auto apply",
       "disabled": false,
       "layout": "IPY_MODEL_d8d73c6794a64b41a4b085d7b2422110",
       "style": "IPY_MODEL_5810bb174d1946e8b3d0386797351339",
       "value": false
      }
     },
     "ae65c9b1a7014f46b4d4736a9946ae5f": {
      "model_module": "@jupyter-widgets/controls",
      "model_module_version": "1.5.0",
      "model_name": "FloatSliderModel",
      "state": {
       "description": "shininess",
       "layout": "IPY_MODEL_c7ea2a8eaf6f4fd6ba043daec10a8f1a",
       "max": 1,
       "step": 0.1,
       "style": "IPY_MODEL_4a48e3b56b974227bcbb4111eb32acbb",
       "value": 0.2
      }
     },
     "ae707f5167d74fc69acaaf741eb5e5de": {
      "model_module": "@jupyter-widgets/base",
      "model_module_version": "1.2.0",
      "model_name": "LayoutModel",
      "state": {}
     },
     "ae72d17e3fb94a56a3727653a69248a4": {
      "model_module": "@jupyter-widgets/controls",
      "model_module_version": "1.5.0",
      "model_name": "FloatSliderModel",
      "state": {
       "description": "transparency",
       "layout": "IPY_MODEL_5952ccf95fff4114ac955e73f1021bc8",
       "max": 1,
       "step": 0.1,
       "style": "IPY_MODEL_a15f82e8dd1a43408a5d120bd20123be"
      }
     },
     "aee7a263a0f64a1fbea2c127454b5880": {
      "model_module": "@jupyter-widgets/base",
      "model_module_version": "1.2.0",
      "model_name": "LayoutModel",
      "state": {}
     },
     "aef6b743295f42189e95981f47848542": {
      "model_module": "@jupyter-widgets/controls",
      "model_module_version": "1.5.0",
      "model_name": "DescriptionStyleModel",
      "state": {
       "description_width": ""
      }
     },
     "af04d4dbb9ee467196d914b3d6ff7677": {
      "model_module": "@jupyter-widgets/controls",
      "model_module_version": "1.5.0",
      "model_name": "DropdownModel",
      "state": {
       "_options_labels": [
        "Integer",
        "Float",
        "Bool"
       ],
       "index": 0,
       "layout": "IPY_MODEL_88a10cf316df4647bd53d535728a4d82",
       "style": "IPY_MODEL_8283081be3d348eea1bc8c13afea1b04"
      }
     },
     "af3d20d491c44d098b64367717540ebe": {
      "model_module": "@jupyter-widgets/controls",
      "model_module_version": "1.5.0",
      "model_name": "FloatSliderModel",
      "state": {
       "description": "diffuse",
       "layout": "IPY_MODEL_844d30039767419a89704c52fe806d6c",
       "max": 3,
       "step": 0.1,
       "style": "IPY_MODEL_09b8c80f45194de3b8dde10dedf91332",
       "value": 1
      }
     },
     "af4039e9ddde442ba446084c54416900": {
      "model_module": "@jupyter-widgets/controls",
      "model_module_version": "1.5.0",
      "model_name": "BoundedIntTextModel",
      "state": {
       "description": "index",
       "layout": "IPY_MODEL_625a97aef55748c189e2a6b3c1b5e67d",
       "style": "IPY_MODEL_0ba2cab9cc9d4511aad569640dfc3012",
       "value": 3
      }
     },
     "af62057272d64d6c8173cc755a1345c8": {
      "model_module": "@jupyter-widgets/base",
      "model_module_version": "1.2.0",
      "model_name": "LayoutModel",
      "state": {}
     },
     "af76f68e255a49a9a097846d5b100896": {
      "model_module": "@jupyter-widgets/controls",
      "model_module_version": "1.5.0",
      "model_name": "HBoxModel",
      "state": {
       "children": [
        "IPY_MODEL_0e1758e5f97c4775894b0a98513a546f",
        "IPY_MODEL_7847f6e3bd894ee48f1555c248f27c90"
       ],
       "layout": "IPY_MODEL_953ba707a655461f95ad063f5a6f574b"
      }
     },
     "afd16820af884a958cef4c29e98f66cd": {
      "model_module": "@jupyter-widgets/base",
      "model_module_version": "1.2.0",
      "model_name": "LayoutModel",
      "state": {}
     },
     "aff7649e3cd94b0e93b9db47ae177a91": {
      "model_module": "@jupyter-widgets/controls",
      "model_module_version": "1.5.0",
      "model_name": "DescriptionStyleModel",
      "state": {
       "description_width": ""
      }
     },
     "b018f27f56ef47b8b8c77c757b918855": {
      "model_module": "@jupyter-widgets/base",
      "model_module_version": "1.2.0",
      "model_name": "LayoutModel",
      "state": {}
     },
     "b025d2c3b32b46ee9877ca8fabce0c2d": {
      "model_module": "@jupyter-widgets/controls",
      "model_module_version": "1.5.0",
      "model_name": "HBoxModel",
      "state": {
       "layout": "IPY_MODEL_a9b7a5bea64640859355bc1f3bd40aed"
      }
     },
     "b026cfdea7f24109b3207938d8293f82": {
      "model_module": "@jupyter-widgets/controls",
      "model_module_version": "1.5.0",
      "model_name": "TextModel",
      "state": {
       "continuous_update": false,
       "description": "name",
       "layout": "IPY_MODEL_9205b342fe2d42118f3ab706062aa484",
       "style": "IPY_MODEL_a3aa80b4b3224cfa978751461082efdd",
       "value": "nb_axes"
      }
     },
     "b0278727c6984480ae67b3caa91c5c28": {
      "model_module": "@jupyter-widgets/controls",
      "model_module_version": "1.5.0",
      "model_name": "DescriptionStyleModel",
      "state": {
       "description_width": ""
      }
     },
     "b042067711c749ddbe44af8d0b266773": {
      "model_module": "@jupyter-widgets/controls",
      "model_module_version": "1.5.0",
      "model_name": "DescriptionStyleModel",
      "state": {
       "description_width": ""
      }
     },
     "b0587fd4b5de40ff83b94fd445197b2a": {
      "model_module": "@jupyter-widgets/controls",
      "model_module_version": "1.5.0",
      "model_name": "FloatSliderModel",
      "state": {
       "description": "transparency",
       "layout": "IPY_MODEL_abbcb03a36494939be94896a2e4392f4",
       "max": 1,
       "step": 0.1,
       "style": "IPY_MODEL_d5cd15e37f944ccfa4bf1cdd3348f4c7"
      }
     },
     "b0816a0d3a1147ec9177057aeccf2636": {
      "model_module": "@jupyter-widgets/controls",
      "model_module_version": "1.5.0",
      "model_name": "DescriptionStyleModel",
      "state": {
       "description_width": ""
      }
     },
     "b0e8fa40069c4769bfca38d467a34243": {
      "model_module": "@jupyter-widgets/controls",
      "model_module_version": "1.5.0",
      "model_name": "SliderStyleModel",
      "state": {
       "description_width": ""
      }
     },
     "b0fb1ac3eab4429faa1c3064bf965e64": {
      "model_module": "@jupyter-widgets/controls",
      "model_module_version": "1.5.0",
      "model_name": "HBoxModel",
      "state": {
       "children": [
        "IPY_MODEL_7c7176c2637047769f684c2d030b2393",
        "IPY_MODEL_3f1c5cb37d464c0c965c97fc3a1e7f60"
       ],
       "layout": "IPY_MODEL_df4b301f82c143b6ba68f23b7ee4a4e7"
      }
     },
     "b11599f0c8c340be874b6f91e49e147c": {
      "model_module": "@jupyter-widgets/controls",
      "model_module_version": "1.5.0",
      "model_name": "FloatSliderModel",
      "state": {
       "description": "transparency",
       "layout": "IPY_MODEL_026723ae658e489db0402b1860155fde",
       "max": 1,
       "step": 0.1,
       "style": "IPY_MODEL_bc101f934e6546c8b4a4399a8ff52dd9"
      }
     },
     "b16bc4eeda684baab51f644ed6537a07": {
      "model_module": "@jupyter-widgets/base",
      "model_module_version": "1.2.0",
      "model_name": "LayoutModel",
      "state": {}
     },
     "b170506f70d34c96b69cc2e6cb10b936": {
      "model_module": "@jupyter-widgets/base",
      "model_module_version": "1.2.0",
      "model_name": "LayoutModel",
      "state": {}
     },
     "b184382198c246fbb6c014da8ef2f3e0": {
      "model_module": "@jupyter-widgets/base",
      "model_module_version": "1.2.0",
      "model_name": "LayoutModel",
      "state": {}
     },
     "b1bea4580daf4865a4ab65528a99b960": {
      "model_module": "@jupyter-widgets/controls",
      "model_module_version": "1.5.0",
      "model_name": "DescriptionStyleModel",
      "state": {
       "description_width": ""
      }
     },
     "b1ed67a808ae4d98902e313123dd2c75": {
      "model_module": "@jupyter-widgets/controls",
      "model_module_version": "1.5.0",
      "model_name": "ButtonModel",
      "state": {
       "description": "Delete",
       "layout": "IPY_MODEL_d96944e0d08c4a04aa0b00a6367b12c9",
       "style": "IPY_MODEL_eb97bfba7a244317a71b5c4fedafbbe8"
      }
     },
     "b233f15e47474a7198fb26deae803dcc": {
      "model_module": "@jupyter-widgets/controls",
      "model_module_version": "1.5.0",
      "model_name": "IntTextModel",
      "state": {
       "description": "max",
       "layout": "IPY_MODEL_4195dc0db72c4f82bb9bd5eead7e9779",
       "step": 1,
       "style": "IPY_MODEL_c1729e1e6a704ee9982e5f868755dfc6",
       "value": 10
      }
     },
     "b248996a41fc4f39b8f71cd98044d51f": {
      "model_module": "@jupyter-widgets/controls",
      "model_module_version": "1.5.0",
      "model_name": "HBoxModel",
      "state": {
       "children": [
        "IPY_MODEL_f12070df747f4997bb07a8795782dbf5",
        "IPY_MODEL_238dd52d41fd42ba8fc8d39b45ea27f2"
       ],
       "layout": "IPY_MODEL_84c796b6ce3746e1aafccca2c6759aac"
      }
     },
     "b281607fe98d48e3934d05bec3d79698": {
      "model_module": "@jupyter-widgets/base",
      "model_module_version": "1.2.0",
      "model_name": "LayoutModel",
      "state": {}
     },
     "b2bf5842fee641abb921c9ea89fc6361": {
      "model_module": "@jupyter-widgets/base",
      "model_module_version": "1.2.0",
      "model_name": "LayoutModel",
      "state": {}
     },
     "b2dff12eb7f74161896fad4ff14e216e": {
      "model_module": "@jupyter-widgets/base",
      "model_module_version": "1.2.0",
      "model_name": "LayoutModel",
      "state": {}
     },
     "b2f08df3f7bb4655984473bbce30d2a8": {
      "model_module": "@jupyter-widgets/base",
      "model_module_version": "1.2.0",
      "model_name": "LayoutModel",
      "state": {}
     },
     "b336f9abf432475a859c3a01ea152da7": {
      "model_module": "@jupyter-widgets/controls",
      "model_module_version": "1.5.0",
      "model_name": "ColorPickerModel",
      "state": {
       "description": "specular",
       "disabled": false,
       "layout": "IPY_MODEL_7d4841eb52e849b792078e35434add1c",
       "style": "IPY_MODEL_4a28f656400b498e9b4a70690a4229a8",
       "value": "#282828"
      }
     },
     "b3415d0e07044c3c90903ed545d57994": {
      "model_module": "pgljupyter",
      "model_module_version": "^0.1.17",
      "model_name": "LsystemWidgetModel",
      "state": {
       "_model_module_version": "^0.1.17",
       "_view_module_version": "^0.1.17",
       "axes_helper": false,
       "derivationLength": 42,
       "layout": "IPY_MODEL_cffe896bba6b4be9a72a337ec2eeabfd",
       "light_helper": false,
       "plane": true,
       "size_display": [
        400,
        400
       ],
       "size_world": 50
      }
     },
     "b349b6082b68436a830311e2652d9b99": {
      "model_module": "@jupyter-widgets/base",
      "model_module_version": "1.2.0",
      "model_name": "LayoutModel",
      "state": {}
     },
     "b349ed08d7d84db7be931975d0f29cc6": {
      "model_module": "@jupyter-widgets/base",
      "model_module_version": "1.2.0",
      "model_name": "LayoutModel",
      "state": {}
     },
     "b3845888ce8d4ad4986e97d2f893e730": {
      "model_module": "@jupyter-widgets/base",
      "model_module_version": "1.2.0",
      "model_name": "LayoutModel",
      "state": {}
     },
     "b3ab021d6df046ceb59289797f1e4f25": {
      "model_module": "@jupyter-widgets/controls",
      "model_module_version": "1.5.0",
      "model_name": "BoundedIntTextModel",
      "state": {
       "description": "index",
       "layout": "IPY_MODEL_8aae296581c643e2a94a84c43a578fda",
       "style": "IPY_MODEL_d8dd6096e07649cb8ceb51b260ceb49f",
       "value": 3
      }
     },
     "b3beeeb252564f9193c765e7fe7136a4": {
      "model_module": "@jupyter-widgets/controls",
      "model_module_version": "1.5.0",
      "model_name": "DropdownModel",
      "state": {
       "_options_labels": [
        "Color"
       ],
       "index": 0,
       "layout": "IPY_MODEL_1049120221a44f9698ad8be47c2dd830",
       "style": "IPY_MODEL_c8ca31ca5bd148e6a5aa1524e6d99e3f"
      }
     },
     "b40339e839344d96ba6ff6a53935e92b": {
      "model_module": "@jupyter-widgets/base",
      "model_module_version": "1.2.0",
      "model_name": "LayoutModel",
      "state": {}
     },
     "b44429e02b1c4c018efe9629e58572c3": {
      "model_module": "@jupyter-widgets/controls",
      "model_module_version": "1.5.0",
      "model_name": "VBoxModel",
      "state": {
       "children": [
        "IPY_MODEL_2d215d5802a64161ad4658212812c5f3",
        "IPY_MODEL_53592ff1413b4aadb82fbe457a467666",
        "IPY_MODEL_42311b25a5ce4d1788e339ad94a4f81c",
        "IPY_MODEL_a143a5b673a2495e928dd346cefa7981",
        "IPY_MODEL_a2e742f0ad8747ec88f5cf551a3b5224"
       ],
       "layout": "IPY_MODEL_b8d2ea5b6d2a40cda4d35f962c17e998"
      }
     },
     "b4468c2736f440b4bd4d58112d80f1f3": {
      "model_module": "@jupyter-widgets/controls",
      "model_module_version": "1.5.0",
      "model_name": "BoundedIntTextModel",
      "state": {
       "description": "index",
       "layout": "IPY_MODEL_b184382198c246fbb6c014da8ef2f3e0",
       "style": "IPY_MODEL_1558078ff54b40aa9edd4a561283c2a3",
       "value": 2
      }
     },
     "b483a839a4094147ab01f3c7d19bb1ac": {
      "model_module": "@jupyter-widgets/controls",
      "model_module_version": "1.5.0",
      "model_name": "ColorPickerModel",
      "state": {
       "description": "ambient",
       "disabled": false,
       "layout": "IPY_MODEL_4b847adc42dd44cc8851741209771151",
       "style": "IPY_MODEL_b581d53322d94699a5a19e271a34211d",
       "value": "#195717"
      }
     },
     "b4b34b837b2e417eb78863606b1d6e8d": {
      "model_module": "@jupyter-widgets/controls",
      "model_module_version": "1.5.0",
      "model_name": "ButtonStyleModel",
      "state": {}
     },
     "b4eb01c447064278a10e95e371e491b5": {
      "model_module": "@jupyter-widgets/controls",
      "model_module_version": "1.5.0",
      "model_name": "ButtonModel",
      "state": {
       "description": "Save changes",
       "layout": "IPY_MODEL_ba0d08e405e743aa9fc38c0d108f065b",
       "style": "IPY_MODEL_bb92e0f3b2e842e0ab29b1bbcaf44ed8"
      }
     },
     "b4f90847a77b4195b5dc4d2c29806c64": {
      "model_module": "@jupyter-widgets/controls",
      "model_module_version": "1.5.0",
      "model_name": "BoundedIntTextModel",
      "state": {
       "description": "step",
       "layout": "IPY_MODEL_5f0d4143620941798573a504d9e748b1",
       "min": 1,
       "style": "IPY_MODEL_c0409f72c596451b915072be0153fdf9",
       "value": 1
      }
     },
     "b52d8d1f7a39435a937737cba39c4169": {
      "model_module": "@jupyter-widgets/controls",
      "model_module_version": "1.5.0",
      "model_name": "HBoxModel",
      "state": {
       "children": [
        "IPY_MODEL_c309dadcba5d4757ad170bafede09c29",
        "IPY_MODEL_e20a8ad2869c4320906c5ccb5a2616cb",
        "IPY_MODEL_62252cd6e6f64fb7aa4f68ce3e71f4b1",
        "IPY_MODEL_88b25b3d6bed47aabbf857ba0829ae88"
       ],
       "layout": "IPY_MODEL_964212339a614dc4b244dd85464c155d"
      }
     },
     "b57c6dbb68c64afbb95b8d317eff0d77": {
      "model_module": "@jupyter-widgets/controls",
      "model_module_version": "1.5.0",
      "model_name": "TabModel",
      "state": {
       "layout": "IPY_MODEL_20e3dd12ae594b74880fcf2f3311b803"
      }
     },
     "b581d53322d94699a5a19e271a34211d": {
      "model_module": "@jupyter-widgets/controls",
      "model_module_version": "1.5.0",
      "model_name": "DescriptionStyleModel",
      "state": {
       "description_width": ""
      }
     },
     "b5ad4c581bca4efb9e0e4e91dd0fc2fd": {
      "model_module": "@jupyter-widgets/base",
      "model_module_version": "1.2.0",
      "model_name": "LayoutModel",
      "state": {}
     },
     "b609d0249e3d49ada716ca64850e65b8": {
      "model_module": "@jupyter-widgets/base",
      "model_module_version": "1.2.0",
      "model_name": "LayoutModel",
      "state": {}
     },
     "b618285ed5684282bcdc1d912a0170cc": {
      "model_module": "@jupyter-widgets/controls",
      "model_module_version": "1.5.0",
      "model_name": "DescriptionStyleModel",
      "state": {
       "description_width": ""
      }
     },
     "b64a0b633c4c488bb06c6634159a6227": {
      "model_module": "@jupyter-widgets/base",
      "model_module_version": "1.2.0",
      "model_name": "LayoutModel",
      "state": {}
     },
     "b67e23aadfc0447c98ae6280c6d11af4": {
      "model_module": "@jupyter-widgets/controls",
      "model_module_version": "1.5.0",
      "model_name": "HBoxModel",
      "state": {
       "children": [
        "IPY_MODEL_eba49d4701c34c69a1a52005a55e913e",
        "IPY_MODEL_fece1e7f13bd475fac0ed48c8e36b25b"
       ],
       "layout": "IPY_MODEL_b16bc4eeda684baab51f644ed6537a07"
      }
     },
     "b70440f46d284109b251b83b4efe6e79": {
      "model_module": "@jupyter-widgets/controls",
      "model_module_version": "1.5.0",
      "model_name": "DescriptionStyleModel",
      "state": {
       "description_width": ""
      }
     },
     "b763b1260b354b23ae6671768bc4a076": {
      "model_module": "@jupyter-widgets/base",
      "model_module_version": "1.2.0",
      "model_name": "LayoutModel",
      "state": {
       "margin": "20px 0px"
      }
     },
     "b7eb7c1fbc2c4fbab9ae3ae154813316": {
      "model_module": "@jupyter-widgets/base",
      "model_module_version": "1.2.0",
      "model_name": "LayoutModel",
      "state": {
       "margin": "20px 0px"
      }
     },
     "b7fff26df0ad46bbaeeb12519d1a0352": {
      "model_module": "@jupyter-widgets/base",
      "model_module_version": "1.2.0",
      "model_name": "LayoutModel",
      "state": {}
     },
     "b83043512c0f4a2d9f6e344f6ba2039e": {
      "model_module": "@jupyter-widgets/controls",
      "model_module_version": "1.5.0",
      "model_name": "ButtonModel",
      "state": {
       "description": "Delete",
       "layout": "IPY_MODEL_9ed51db8130848ad90da4bdd175506a3",
       "style": "IPY_MODEL_6cafa8125cbe44e2b212a499900a8f16"
      }
     },
     "b88afe6051704699a445a1ca92a8653e": {
      "model_module": "@jupyter-widgets/controls",
      "model_module_version": "1.5.0",
      "model_name": "SliderStyleModel",
      "state": {
       "description_width": ""
      }
     },
     "b896d4c5ba084261b9772c2ec6244463": {
      "model_module": "@jupyter-widgets/base",
      "model_module_version": "1.2.0",
      "model_name": "LayoutModel",
      "state": {}
     },
     "b8a8455ce5b040d0b828e4487621af24": {
      "model_module": "@jupyter-widgets/controls",
      "model_module_version": "1.5.0",
      "model_name": "DescriptionStyleModel",
      "state": {
       "description_width": ""
      }
     },
     "b8b9b3ffeaac416c9b974d5332062d10": {
      "model_module": "@jupyter-widgets/controls",
      "model_module_version": "1.5.0",
      "model_name": "VBoxModel",
      "state": {
       "children": [
        "IPY_MODEL_1333161370364dc18b62b527843bccdf",
        "IPY_MODEL_a03e944e51cb40c5810fc9d0fa1bbb94"
       ],
       "layout": "IPY_MODEL_b349ed08d7d84db7be931975d0f29cc6"
      }
     },
     "b8c7f3e772e0418984b752d8cabfe954": {
      "model_module": "@jupyter-widgets/base",
      "model_module_version": "1.2.0",
      "model_name": "LayoutModel",
      "state": {}
     },
     "b8d2ea5b6d2a40cda4d35f962c17e998": {
      "model_module": "@jupyter-widgets/base",
      "model_module_version": "1.2.0",
      "model_name": "LayoutModel",
      "state": {}
     },
     "b8d47ef44074438281319294176af51b": {
      "model_module": "@jupyter-widgets/base",
      "model_module_version": "1.2.0",
      "model_name": "LayoutModel",
      "state": {}
     },
     "b8f9b126dfec4211a4b352568394eb93": {
      "model_module": "@jupyter-widgets/base",
      "model_module_version": "1.2.0",
      "model_name": "LayoutModel",
      "state": {}
     },
     "b97945cdd79940218cc6b9ce0f099d89": {
      "model_module": "@jupyter-widgets/controls",
      "model_module_version": "1.5.0",
      "model_name": "DropdownModel",
      "state": {
       "index": null,
       "layout": "IPY_MODEL_9e900280d0514e8d81562cb4284c52dd",
       "style": "IPY_MODEL_496e48f80ba34d7389289f84ed07049f"
      }
     },
     "b9ebb3597e8346f8a3fc4ed986a97a1b": {
      "model_module": "@jupyter-widgets/base",
      "model_module_version": "1.2.0",
      "model_name": "LayoutModel",
      "state": {}
     },
     "b9fcc4919c8b40f2a8d2e8ea3fad4478": {
      "model_module": "@jupyter-widgets/controls",
      "model_module_version": "1.5.0",
      "model_name": "SliderStyleModel",
      "state": {
       "description_width": ""
      }
     },
     "ba0d08e405e743aa9fc38c0d108f065b": {
      "model_module": "@jupyter-widgets/base",
      "model_module_version": "1.2.0",
      "model_name": "LayoutModel",
      "state": {}
     },
     "ba2927804c224adb95a5bde918123c5b": {
      "model_module": "@jupyter-widgets/controls",
      "model_module_version": "1.5.0",
      "model_name": "CheckboxModel",
      "state": {
       "description": "Auto save",
       "disabled": false,
       "layout": "IPY_MODEL_64f9dc0574df4a11af6125d753e638a4",
       "style": "IPY_MODEL_44ee20673cb54cb197bb19275c2ee931",
       "value": false
      }
     },
     "bac8604d77704199a0f58325e3b25b59": {
      "model_module": "@jupyter-widgets/controls",
      "model_module_version": "1.5.0",
      "model_name": "DescriptionStyleModel",
      "state": {
       "description_width": ""
      }
     },
     "badf1d6936f34af5a14df64809ef893c": {
      "model_module": "@jupyter-widgets/controls",
      "model_module_version": "1.5.0",
      "model_name": "HBoxModel",
      "state": {
       "children": [
        "IPY_MODEL_bdac6d00efda4f16bee09beeff1d0317",
        "IPY_MODEL_1d7324e6216945c694b7879142e82cce"
       ],
       "layout": "IPY_MODEL_6e86329f62f04d64897ff3b96a1bfe58"
      }
     },
     "baf1a60a7c1b4d32906c8ce7421ac654": {
      "model_module": "@jupyter-widgets/controls",
      "model_module_version": "1.5.0",
      "model_name": "ButtonModel",
      "state": {
       "description": "Add",
       "layout": "IPY_MODEL_9c9be4e906924b7ca4fc59cedc2f1e32",
       "style": "IPY_MODEL_8f06c2ae91ad40a682161b87d6e730b4"
      }
     },
     "bb16c1d4c8a841829bfb8da15b3bea9a": {
      "model_module": "@jupyter-widgets/controls",
      "model_module_version": "1.5.0",
      "model_name": "SliderStyleModel",
      "state": {
       "description_width": ""
      }
     },
     "bb79433b06b94630b6f77fbc405d30c3": {
      "model_module": "@jupyter-widgets/base",
      "model_module_version": "1.2.0",
      "model_name": "LayoutModel",
      "state": {}
     },
     "bb92e0f3b2e842e0ab29b1bbcaf44ed8": {
      "model_module": "@jupyter-widgets/controls",
      "model_module_version": "1.5.0",
      "model_name": "ButtonStyleModel",
      "state": {}
     },
     "bba064c217a24b0f9b5d380aaa6fea52": {
      "model_module": "@jupyter-widgets/controls",
      "model_module_version": "1.5.0",
      "model_name": "HBoxModel",
      "state": {
       "children": [
        "IPY_MODEL_7c9ff33ce6ef4aa9ac024f1cf91f4faf",
        "IPY_MODEL_83b3943961434027b9a8d49bdef39171",
        "IPY_MODEL_f78af31ccb8c4fa6988f852a049c17d8",
        "IPY_MODEL_c9bef065e2504444a9ee87abecefe691"
       ],
       "layout": "IPY_MODEL_f54b6bb1cd9047f2913448b18542023e"
      }
     },
     "bc101f934e6546c8b4a4399a8ff52dd9": {
      "model_module": "@jupyter-widgets/controls",
      "model_module_version": "1.5.0",
      "model_name": "SliderStyleModel",
      "state": {
       "description_width": ""
      }
     },
     "bc2caf9b3fc84da494330dba24816842": {
      "model_module": "@jupyter-widgets/controls",
      "model_module_version": "1.5.0",
      "model_name": "ButtonModel",
      "state": {
       "description": "Delete",
       "layout": "IPY_MODEL_0d8106747f5f4d0a81928341852045a2",
       "style": "IPY_MODEL_3ec386de663b4617bc9f49b851f4ac02"
      }
     },
     "bc6a9e91763e4425a42d8b1641580ff4": {
      "model_module": "@jupyter-widgets/controls",
      "model_module_version": "1.5.0",
      "model_name": "TextModel",
      "state": {
       "layout": "IPY_MODEL_8bd7cf6dc07d437190fbda31a59b43c4",
       "placeholder": "category name",
       "style": "IPY_MODEL_768416184c784ccc90f3432b6d9b15da"
      }
     },
     "bc6ff6dbd47e43719f4d3510291ab07c": {
      "model_module": "@jupyter-widgets/base",
      "model_module_version": "1.2.0",
      "model_name": "LayoutModel",
      "state": {}
     },
     "bca351d97c6d48f9814da71e4418e3a3": {
      "model_module": "@jupyter-widgets/base",
      "model_module_version": "1.2.0",
      "model_name": "LayoutModel",
      "state": {}
     },
     "bcb7465a37394dbabd8f197ae65f2662": {
      "model_module": "@jupyter-widgets/base",
      "model_module_version": "1.2.0",
      "model_name": "LayoutModel",
      "state": {}
     },
     "bcb9c01e8d5e4ef6a75414069738d87f": {
      "model_module": "pgljupyter",
      "model_module_version": "^0.1.17",
      "model_name": "FloatEditorModel",
      "state": {
       "_model_module_version": "^0.1.17",
       "_view_module_version": "^0.1.17",
       "children": [
        "IPY_MODEL_da94d7f0e6e045988d94aba69d5be576",
        "IPY_MODEL_c2a6d9ce18fc4ac0bc1a7f90b4c5116c"
       ],
       "layout": "IPY_MODEL_ffc34902c36642e1969fa8c466aeb653"
      }
     },
     "bcf4fc941c344389979acd078603c0fc": {
      "model_module": "@jupyter-widgets/base",
      "model_module_version": "1.2.0",
      "model_name": "LayoutModel",
      "state": {}
     },
     "bcf7fee88c72467fbcc5a469b43e9f92": {
      "model_module": "@jupyter-widgets/base",
      "model_module_version": "1.2.0",
      "model_name": "LayoutModel",
      "state": {}
     },
     "bd21842443764a4e9cfc0fe5e99adc99": {
      "model_module": "@jupyter-widgets/controls",
      "model_module_version": "1.5.0",
      "model_name": "HBoxModel",
      "state": {
       "children": [
        "IPY_MODEL_f2282812a130441eac41b660ee49477d",
        "IPY_MODEL_ba2927804c224adb95a5bde918123c5b"
       ],
       "layout": "IPY_MODEL_62867ab47038465d8944dcad2437cbc9"
      }
     },
     "bd975fbe82284673a970cc17143dddb9": {
      "model_module": "@jupyter-widgets/controls",
      "model_module_version": "1.5.0",
      "model_name": "DropdownModel",
      "state": {
       "_options_labels": [
        "Integer",
        "Float",
        "Bool"
       ],
       "index": 0,
       "layout": "IPY_MODEL_155e496650f34366b813ae47225f42d5",
       "style": "IPY_MODEL_e6991f813efb4b118467f99c0776efcd"
      }
     },
     "bdac6d00efda4f16bee09beeff1d0317": {
      "model_module": "@jupyter-widgets/controls",
      "model_module_version": "1.5.0",
      "model_name": "ButtonModel",
      "state": {
       "description": "Delete",
       "layout": "IPY_MODEL_b8f9b126dfec4211a4b352568394eb93",
       "style": "IPY_MODEL_21dc5393f9364b34b280fae10a6852f9"
      }
     },
     "bdd912ccd9594f2c93aaed30b1a57ee8": {
      "model_module": "@jupyter-widgets/controls",
      "model_module_version": "1.5.0",
      "model_name": "DropdownModel",
      "state": {
       "index": null,
       "layout": "IPY_MODEL_1e71076b6d304240bdd062f2d5156785",
       "style": "IPY_MODEL_5e9c1818473b44dab49b3d26bf241c9d"
      }
     },
     "be34e970bcfe4196ae35d41580213f9a": {
      "model_module": "@jupyter-widgets/controls",
      "model_module_version": "1.5.0",
      "model_name": "ColorPickerModel",
      "state": {
       "description": "ambient",
       "disabled": false,
       "layout": "IPY_MODEL_1eafac7d519a4739b0a5ec9f2e1a0356",
       "style": "IPY_MODEL_46bb048d9eec4d478fec36bfaa6b5a6b",
       "value": "#195717"
      }
     },
     "bf0625eebb3744fc8cc55567e985236f": {
      "model_module": "@jupyter-widgets/controls",
      "model_module_version": "1.5.0",
      "model_name": "FloatSliderModel",
      "state": {
       "description": "shininess",
       "layout": "IPY_MODEL_06c676714abc45c2bd668d409b3f913f",
       "max": 1,
       "step": 0.1,
       "style": "IPY_MODEL_dc9722bd3a6e4f1e855fb518b2065abe",
       "value": 0.2
      }
     },
     "bf1fdb5bb36e4e1a926148fdc953e325": {
      "model_module": "@jupyter-widgets/controls",
      "model_module_version": "1.5.0",
      "model_name": "ButtonStyleModel",
      "state": {}
     },
     "bf215b8633cf4c8e9ddb25f302c62afb": {
      "model_module": "@jupyter-widgets/controls",
      "model_module_version": "1.5.0",
      "model_name": "ButtonStyleModel",
      "state": {}
     },
     "bf9f735211574d32bf9d5fa02ec1e786": {
      "model_module": "@jupyter-widgets/controls",
      "model_module_version": "1.5.0",
      "model_name": "HBoxModel",
      "state": {
       "children": [
        "IPY_MODEL_b1ed67a808ae4d98902e313123dd2c75",
        "IPY_MODEL_e647273f61494efb92b293f226b212ce"
       ],
       "layout": "IPY_MODEL_3423cf0a4514403f822864a725d3fedc"
      }
     },
     "bfa2cd7f0c5143b98b10a45ec7d2d66d": {
      "model_module": "@jupyter-widgets/controls",
      "model_module_version": "1.5.0",
      "model_name": "BoundedIntTextModel",
      "state": {
       "description": "index",
       "layout": "IPY_MODEL_856cb4dc10fd40959afd4f2ed68f4da6",
       "style": "IPY_MODEL_391878e8ba0540f5adaa617056b8dd47",
       "value": 2
      }
     },
     "c0409f72c596451b915072be0153fdf9": {
      "model_module": "@jupyter-widgets/controls",
      "model_module_version": "1.5.0",
      "model_name": "DescriptionStyleModel",
      "state": {
       "description_width": ""
      }
     },
     "c076c7f8110443d8b16ad88e24d4c9c2": {
      "model_module": "@jupyter-widgets/controls",
      "model_module_version": "1.5.0",
      "model_name": "SliderStyleModel",
      "state": {
       "description_width": ""
      }
     },
     "c0a048ed609e4aceb6a259def78278e2": {
      "model_module": "@jupyter-widgets/controls",
      "model_module_version": "1.5.0",
      "model_name": "TextModel",
      "state": {
       "layout": "IPY_MODEL_1b6051bae24c473598c952d51984d1ee",
       "placeholder": "category name",
       "style": "IPY_MODEL_93a5e2d0c70d421d81cf898af8d464df"
      }
     },
     "c0bb2a0d577641b58e46f24746ba8a03": {
      "model_module": "@jupyter-widgets/controls",
      "model_module_version": "1.5.0",
      "model_name": "SliderStyleModel",
      "state": {
       "description_width": ""
      }
     },
     "c0e6e3c25e6e41948722f8a330ddc4e1": {
      "model_module": "@jupyter-widgets/controls",
      "model_module_version": "1.5.0",
      "model_name": "FloatSliderModel",
      "state": {
       "description": "diffuse",
       "layout": "IPY_MODEL_ec128f27e5d548fd89d35f652fb3d014",
       "max": 3,
       "step": 0.1,
       "style": "IPY_MODEL_b9fcc4919c8b40f2a8d2e8ea3fad4478",
       "value": 1
      }
     },
     "c11321e762b3422997689f94db4a71c8": {
      "model_module": "@jupyter-widgets/controls",
      "model_module_version": "1.5.0",
      "model_name": "ColorPickerModel",
      "state": {
       "description": "emission",
       "disabled": false,
       "layout": "IPY_MODEL_382ba098f6cc4adf8bfb135a9de7b6d8",
       "style": "IPY_MODEL_0ce5322222f04cda8b64b0849f810223",
       "value": "#000000"
      }
     },
     "c120885553c04d129fd38676ed6234d2": {
      "model_module": "@jupyter-widgets/controls",
      "model_module_version": "1.5.0",
      "model_name": "DescriptionStyleModel",
      "state": {
       "description_width": ""
      }
     },
     "c16429a9bfff45a981471a788dca62c2": {
      "model_module": "@jupyter-widgets/controls",
      "model_module_version": "1.5.0",
      "model_name": "FloatSliderModel",
      "state": {
       "description": "shininess",
       "layout": "IPY_MODEL_ecd6712976814a878c2eb22824a5e5e9",
       "max": 1,
       "step": 0.1,
       "style": "IPY_MODEL_6a96352f36b9452bba44e1ee4b108426",
       "value": 0.2
      }
     },
     "c1729e1e6a704ee9982e5f868755dfc6": {
      "model_module": "@jupyter-widgets/controls",
      "model_module_version": "1.5.0",
      "model_name": "DescriptionStyleModel",
      "state": {
       "description_width": ""
      }
     },
     "c190a593c1ed4ea199fb8b572fe94562": {
      "model_module": "@jupyter-widgets/controls",
      "model_module_version": "1.5.0",
      "model_name": "DescriptionStyleModel",
      "state": {
       "description_width": ""
      }
     },
     "c1a7e756fd674170a661ab6dcc62f7a9": {
      "model_module": "@jupyter-widgets/controls",
      "model_module_version": "1.5.0",
      "model_name": "FloatSliderModel",
      "state": {
       "description": "diffuse",
       "layout": "IPY_MODEL_f8b573f681b34435b46c31918778cf1a",
       "max": 3,
       "step": 0.1,
       "style": "IPY_MODEL_dbf29d67c32f4897a7101f3492b6f2df",
       "value": 1
      }
     },
     "c1f8e654bd764ed1b77cc56f2508694d": {
      "model_module": "@jupyter-widgets/controls",
      "model_module_version": "1.5.0",
      "model_name": "DescriptionStyleModel",
      "state": {
       "description_width": ""
      }
     },
     "c2578ef26c0743838357a06ac7dbb03e": {
      "model_module": "@jupyter-widgets/base",
      "model_module_version": "1.2.0",
      "model_name": "LayoutModel",
      "state": {}
     },
     "c2a6d9ce18fc4ac0bc1a7f90b4c5116c": {
      "model_module": "@jupyter-widgets/controls",
      "model_module_version": "1.5.0",
      "model_name": "FloatSliderModel",
      "state": {
       "description": "value",
       "layout": "IPY_MODEL_6c671f207c164abd949a12ac8032908b",
       "max": 0.1,
       "min": 0.01,
       "step": 0.01,
       "style": "IPY_MODEL_6313452555004e3e8cd4af4b429d6c81",
       "value": 0.02
      }
     },
     "c2be0d36854f4826b190f2aef55fd686": {
      "model_module": "@jupyter-widgets/controls",
      "model_module_version": "1.5.0",
      "model_name": "ButtonModel",
      "state": {
       "description": "Delete",
       "layout": "IPY_MODEL_29cf0466a11e48fc973f7029133b4c1c",
       "style": "IPY_MODEL_557b13d22d9c4523aede128ecebc8ac7"
      }
     },
     "c2c1faa3a7104893aba1b9a986c72e7f": {
      "model_module": "@jupyter-widgets/controls",
      "model_module_version": "1.5.0",
      "model_name": "TabModel",
      "state": {
       "layout": "IPY_MODEL_0e698e6988a94950922b8014c320bdf8"
      }
     },
     "c2ea397318574d91a49746ced9e8db1a": {
      "model_module": "@jupyter-widgets/base",
      "model_module_version": "1.2.0",
      "model_name": "LayoutModel",
      "state": {}
     },
     "c30638fef6f54cf1961713315e8da2f9": {
      "model_module": "@jupyter-widgets/controls",
      "model_module_version": "1.5.0",
      "model_name": "DescriptionStyleModel",
      "state": {
       "description_width": ""
      }
     },
     "c309dadcba5d4757ad170bafede09c29": {
      "model_module": "pgljupyter",
      "model_module_version": "^0.1.17",
      "model_name": "MaterialEditorModel",
      "state": {
       "_model_module_version": "^0.1.17",
       "_view_module_version": "^0.1.17",
       "children": [
        "IPY_MODEL_243831084f114d97bd1e5d3e35197ff6",
        "IPY_MODEL_de26906445994c7e8243365b107e8044",
        "IPY_MODEL_f958a1e7a32245119bf98c95905da1a2",
        "IPY_MODEL_70dda571646341ceb6f35058be924baf",
        "IPY_MODEL_c0e6e3c25e6e41948722f8a330ddc4e1",
        "IPY_MODEL_ae72d17e3fb94a56a3727653a69248a4",
        "IPY_MODEL_2249a5a5d0f24085af3136bbb4f3f425"
       ],
       "layout": "IPY_MODEL_134a756a9b454b73bb8ed6d12d756e98"
      }
     },
     "c32f6b4c4d3c4559935e3f52d16dc798": {
      "model_module": "@jupyter-widgets/base",
      "model_module_version": "1.2.0",
      "model_name": "LayoutModel",
      "state": {}
     },
     "c361327190724646be840782bc716cef": {
      "model_module": "@jupyter-widgets/controls",
      "model_module_version": "1.5.0",
      "model_name": "VBoxModel",
      "state": {
       "children": [
        "IPY_MODEL_0df3c48cd89940ce80485ec6fb57722c",
        "IPY_MODEL_e24becef77854391b6cd6c67e04932e8"
       ],
       "layout": "IPY_MODEL_eb11e6bb87f04e778a49e0a3916ee734"
      }
     },
     "c3c827131f134d53a63ac1630295a9db": {
      "model_module": "@jupyter-widgets/controls",
      "model_module_version": "1.5.0",
      "model_name": "ColorPickerModel",
      "state": {
       "description": "specular",
       "disabled": false,
       "layout": "IPY_MODEL_47fb3c80b04646738a440b8943ebe585",
       "style": "IPY_MODEL_d9fed144986740a4aebc4a2d4217ab60",
       "value": "#282828"
      }
     },
     "c3f4c1f812d844ea9207b9e5e852348d": {
      "model_module": "@jupyter-widgets/controls",
      "model_module_version": "1.5.0",
      "model_name": "ColorPickerModel",
      "state": {
       "description": "specular",
       "disabled": false,
       "layout": "IPY_MODEL_c9f408cad5994e8ab4dbb398970c8e82",
       "style": "IPY_MODEL_a9cadb58b2d74d899f90724daa0dbc03",
       "value": "#282828"
      }
     },
     "c47d49a7c60647cb85c5eb15764ce0cf": {
      "model_module": "@jupyter-widgets/base",
      "model_module_version": "1.2.0",
      "model_name": "LayoutModel",
      "state": {}
     },
     "c48e782f1bef445e9f2d0c4e1632f795": {
      "model_module": "@jupyter-widgets/base",
      "model_module_version": "1.2.0",
      "model_name": "LayoutModel",
      "state": {}
     },
     "c4ed48b837534de7b3ebc8b317ef0a11": {
      "model_module": "@jupyter-widgets/controls",
      "model_module_version": "1.5.0",
      "model_name": "DescriptionStyleModel",
      "state": {
       "description_width": ""
      }
     },
     "c54dbf897e88456f9d68e9e0b6f32806": {
      "model_module": "@jupyter-widgets/controls",
      "model_module_version": "1.5.0",
      "model_name": "DescriptionStyleModel",
      "state": {
       "description_width": ""
      }
     },
     "c5ef80a74b76476ab2ab7654fd9a2aae": {
      "model_module": "@jupyter-widgets/controls",
      "model_module_version": "1.5.0",
      "model_name": "TextModel",
      "state": {
       "continuous_update": false,
       "description": "name",
       "layout": "IPY_MODEL_8ebbdf1fb8e54a828e60d7ac7f9605d3",
       "style": "IPY_MODEL_0098827af4e640a7995f79067eabb137",
       "value": "maxorder"
      }
     },
     "c668486775d54df3a202a26b6d1a94af": {
      "model_module": "@jupyter-widgets/base",
      "model_module_version": "1.2.0",
      "model_name": "LayoutModel",
      "state": {}
     },
     "c670633e3aa5429fb74ad03495d1835c": {
      "model_module": "@jupyter-widgets/controls",
      "model_module_version": "1.5.0",
      "model_name": "HBoxModel",
      "state": {
       "children": [
        "IPY_MODEL_d00d708bc83a43c486f075d9361c9002",
        "IPY_MODEL_ec264ee7c2014d25b4a56adf37235cd5"
       ],
       "layout": "IPY_MODEL_9b28113ac4cf4246b8f51027152a28ae"
      }
     },
     "c68f788cbf434b1b86545d771587773e": {
      "model_module": "@jupyter-widgets/base",
      "model_module_version": "1.2.0",
      "model_name": "LayoutModel",
      "state": {}
     },
     "c6a591bed4c246eaa6f122a5fb74d701": {
      "model_module": "@jupyter-widgets/base",
      "model_module_version": "1.2.0",
      "model_name": "LayoutModel",
      "state": {}
     },
     "c70724b373544707a8ceb6ea34ead215": {
      "model_module": "@jupyter-widgets/base",
      "model_module_version": "1.2.0",
      "model_name": "LayoutModel",
      "state": {}
     },
     "c737fed3f4b647319d521b5a01ed5013": {
      "model_module": "@jupyter-widgets/base",
      "model_module_version": "1.2.0",
      "model_name": "LayoutModel",
      "state": {}
     },
     "c7ce13c027424623b6f2e99ab754ce1b": {
      "model_module": "@jupyter-widgets/controls",
      "model_module_version": "1.5.0",
      "model_name": "ButtonStyleModel",
      "state": {}
     },
     "c7ea2a8eaf6f4fd6ba043daec10a8f1a": {
      "model_module": "@jupyter-widgets/base",
      "model_module_version": "1.2.0",
      "model_name": "LayoutModel",
      "state": {}
     },
     "c7f7b7c639f04c7a812a812bc95f2f4a": {
      "model_module": "@jupyter-widgets/controls",
      "model_module_version": "1.5.0",
      "model_name": "ButtonStyleModel",
      "state": {}
     },
     "c84fe53e0e9a4df391e82723c5e179d5": {
      "model_module": "@jupyter-widgets/controls",
      "model_module_version": "1.5.0",
      "model_name": "SliderStyleModel",
      "state": {
       "description_width": ""
      }
     },
     "c86dfb91c7754e40aff8205f0595f499": {
      "model_module": "@jupyter-widgets/controls",
      "model_module_version": "1.5.0",
      "model_name": "FloatSliderModel",
      "state": {
       "description": "shininess",
       "layout": "IPY_MODEL_2c2396952b064b95b30ec4636f7a5104",
       "max": 1,
       "step": 0.1,
       "style": "IPY_MODEL_0fbcef905dc549ebb51d1bcd20ade1b3",
       "value": 0.2
      }
     },
     "c874010bc6f24cc38736c49375396273": {
      "model_module": "@jupyter-widgets/controls",
      "model_module_version": "1.5.0",
      "model_name": "FloatSliderModel",
      "state": {
       "description": "shininess",
       "layout": "IPY_MODEL_7a33b0c7ad914ade99bfb96985353f2e",
       "max": 1,
       "step": 0.1,
       "style": "IPY_MODEL_96760736adb540eab397a4254d806359",
       "value": 0.2
      }
     },
     "c8ca31ca5bd148e6a5aa1524e6d99e3f": {
      "model_module": "@jupyter-widgets/controls",
      "model_module_version": "1.5.0",
      "model_name": "DescriptionStyleModel",
      "state": {
       "description_width": ""
      }
     },
     "c8d3f70598d54c238929a83e3bcb3334": {
      "model_module": "@jupyter-widgets/controls",
      "model_module_version": "1.5.0",
      "model_name": "DescriptionStyleModel",
      "state": {
       "description_width": ""
      }
     },
     "c9403f1b437748eaa3f2b265b7d6eaa2": {
      "model_module": "@jupyter-widgets/controls",
      "model_module_version": "1.5.0",
      "model_name": "ColorPickerModel",
      "state": {
       "description": "ambient",
       "disabled": false,
       "layout": "IPY_MODEL_cef95e99bff14a7892ad7b7e082815a3",
       "style": "IPY_MODEL_5631cbab764947158f1da6a147458613",
       "value": "#e1a014"
      }
     },
     "c989202804bb452e8cb9723017e5f6c3": {
      "model_module": "@jupyter-widgets/base",
      "model_module_version": "1.2.0",
      "model_name": "LayoutModel",
      "state": {}
     },
     "c9bef065e2504444a9ee87abecefe691": {
      "model_module": "pgljupyter",
      "model_module_version": "^0.1.18",
      "model_name": "MaterialEditorModel",
      "state": {
       "_model_module_version": "^0.1.18",
       "_view_module_version": "^0.1.18",
       "children": [
        "IPY_MODEL_de319ccb71084e70b9dbfd5cfb7f274a",
        "IPY_MODEL_7c0c38291061419390dbeba93ef4ef19",
        "IPY_MODEL_c9403f1b437748eaa3f2b265b7d6eaa2",
        "IPY_MODEL_b336f9abf432475a859c3a01ea152da7",
        "IPY_MODEL_3e44ac9e61c14a0f9579e3363460f583",
        "IPY_MODEL_60b6d845ad24428db8160a19a54d242d",
        "IPY_MODEL_d64b99f37a81429489c488b69a00175d",
        "IPY_MODEL_cf824a36611440baadda6efc8be404cc"
       ],
       "layout": "IPY_MODEL_ad770f779d7142d692b8057c7c5825cf"
      }
     },
     "c9e51a7855744cacbf121c9bb896cf32": {
      "model_module": "@jupyter-widgets/base",
      "model_module_version": "1.2.0",
      "model_name": "LayoutModel",
      "state": {}
     },
     "c9ee8ed99d854415b137aeef8b399bf7": {
      "model_module": "@jupyter-widgets/controls",
      "model_module_version": "1.5.0",
      "model_name": "DescriptionStyleModel",
      "state": {
       "description_width": ""
      }
     },
     "c9f408cad5994e8ab4dbb398970c8e82": {
      "model_module": "@jupyter-widgets/base",
      "model_module_version": "1.2.0",
      "model_name": "LayoutModel",
      "state": {}
     },
     "ca048b3e6ffe42779d97a92813a975b0": {
      "model_module": "@jupyter-widgets/controls",
      "model_module_version": "1.5.0",
      "model_name": "BoundedIntTextModel",
      "state": {
       "description": "index",
       "layout": "IPY_MODEL_efecd650a0b549cfb8d04768a7af3883",
       "style": "IPY_MODEL_1eb0713d17fb4a92b6d7cfab6060154c",
       "value": 1
      }
     },
     "ca31eefba9934ba0853aeee9ed1c6164": {
      "model_module": "@jupyter-widgets/controls",
      "model_module_version": "1.5.0",
      "model_name": "DescriptionStyleModel",
      "state": {
       "description_width": ""
      }
     },
     "ca93be8a390a4842a5a88b86b5f0c740": {
      "model_module": "@jupyter-widgets/controls",
      "model_module_version": "1.5.0",
      "model_name": "IntSliderModel",
      "state": {
       "description": "value",
       "layout": "IPY_MODEL_3ba3327a9ad340168a7a06f365fdced1",
       "max": 10,
       "min": 1,
       "style": "IPY_MODEL_1adccbe353a046ea9bf4ed81f2cba08d",
       "value": 3
      }
     },
     "cb43d93a31474ef68c27ec960b1e17ad": {
      "model_module": "@jupyter-widgets/base",
      "model_module_version": "1.2.0",
      "model_name": "LayoutModel",
      "state": {}
     },
     "cb7d447aaf2c4c759979e1f891e6d461": {
      "model_module": "@jupyter-widgets/controls",
      "model_module_version": "1.5.0",
      "model_name": "ColorPickerModel",
      "state": {
       "description": "emission",
       "disabled": false,
       "layout": "IPY_MODEL_455f8aeaffa441bf93d43f30ccfb8f01",
       "style": "IPY_MODEL_80486992e7b749219293ac12cc88f982",
       "value": "#000000"
      }
     },
     "cb8ca0e6e0eb421686668ef1c62fece3": {
      "model_module": "@jupyter-widgets/base",
      "model_module_version": "1.2.0",
      "model_name": "LayoutModel",
      "state": {}
     },
     "cbb885bb9b4c46c4a535abf50628efc5": {
      "model_module": "@jupyter-widgets/controls",
      "model_module_version": "1.5.0",
      "model_name": "HBoxModel",
      "state": {
       "layout": "IPY_MODEL_964212339a614dc4b244dd85464c155d"
      }
     },
     "cbc8b4e533c94b8597e45a4ac84149b8": {
      "model_module": "@jupyter-widgets/controls",
      "model_module_version": "1.5.0",
      "model_name": "DropdownModel",
      "state": {
       "_options_labels": [
        "leafduration",
        "leafold",
        "maxorder",
        "radinc",
        "nb_axes"
       ],
       "index": 0,
       "layout": "IPY_MODEL_b8d47ef44074438281319294176af51b",
       "style": "IPY_MODEL_5952c0e964b14034832f8d689c94cd56"
      }
     },
     "cbdaf49adba648288d71c4ee0c85a46d": {
      "model_module": "@jupyter-widgets/controls",
      "model_module_version": "1.5.0",
      "model_name": "ButtonModel",
      "state": {
       "description": "Delete",
       "layout": "IPY_MODEL_e996a0616fe3456f83d3a47b2d6444d3",
       "style": "IPY_MODEL_e0b543b076714cf5958478e4889a5cb7"
      }
     },
     "cc14692e35cc4df3a41f6c4a0b9ab26e": {
      "model_module": "@jupyter-widgets/controls",
      "model_module_version": "1.5.0",
      "model_name": "SliderStyleModel",
      "state": {
       "description_width": ""
      }
     },
     "cc25751e00dd443fb5153b58575d586f": {
      "model_module": "@jupyter-widgets/controls",
      "model_module_version": "1.5.0",
      "model_name": "ButtonStyleModel",
      "state": {}
     },
     "cc343dc00b354cd18fece388a4875e4c": {
      "model_module": "pgljupyter",
      "model_module_version": "^0.1.18",
      "model_name": "IntEditorModel",
      "state": {
       "_model_module_version": "^0.1.18",
       "_view_module_version": "^0.1.18",
       "children": [
        "IPY_MODEL_902e29cc535749e796ee3a937c3dfd21",
        "IPY_MODEL_cf70e5ab01a742c8abccfa36d455b40f"
       ],
       "layout": "IPY_MODEL_fe3f4751df8748c2bbaad9e702ecd866"
      }
     },
     "cc6d0e94c93b4978adf6227cfb533d2c": {
      "model_module": "@jupyter-widgets/controls",
      "model_module_version": "1.5.0",
      "model_name": "DescriptionStyleModel",
      "state": {
       "description_width": ""
      }
     },
     "cca2bc234f7546b6ab053ec14a62865d": {
      "model_module": "pgljupyter",
      "model_module_version": "^0.1.17",
      "model_name": "IntEditorModel",
      "state": {
       "_model_module_version": "^0.1.17",
       "_view_module_version": "^0.1.17",
       "children": [
        "IPY_MODEL_c5ef80a74b76476ab2ab7654fd9a2aae",
        "IPY_MODEL_683514619a284a17be83f3e12928bc6a"
       ],
       "layout": "IPY_MODEL_35888e4f3f5048409ae7317289d152bd"
      }
     },
     "ccb212c6dfcc4c1d92cc6abceb4d2737": {
      "model_module": "@jupyter-widgets/controls",
      "model_module_version": "1.5.0",
      "model_name": "HBoxModel",
      "state": {
       "children": [
        "IPY_MODEL_5ccfe2f5d1bc472faf8aa7f50bf0ab1d",
        "IPY_MODEL_49d68010fc084f1ebd5a1e73fb6c31af",
        "IPY_MODEL_e3e60ccbc1cb456a81c849bf7a485b87",
        "IPY_MODEL_87914f94bb81462d992aeaaef5f740be"
       ],
       "layout": "IPY_MODEL_8d56c586bca3464d8c5cb36ae761ba46"
      }
     },
     "ccd2ea5a8e31427bb33242becf4077fa": {
      "model_module": "@jupyter-widgets/base",
      "model_module_version": "1.2.0",
      "model_name": "LayoutModel",
      "state": {}
     },
     "cce99130437343edbb73e295b4bb4a02": {
      "model_module": "@jupyter-widgets/controls",
      "model_module_version": "1.5.0",
      "model_name": "DropdownModel",
      "state": {
       "index": null,
       "layout": "IPY_MODEL_814dac1493d8493abe1be47f92709960",
       "style": "IPY_MODEL_e1a057438d6b4569b6ab77b9fa61b360"
      }
     },
     "ccf0f2ce22544625b858407af5c61f95": {
      "model_module": "@jupyter-widgets/base",
      "model_module_version": "1.2.0",
      "model_name": "LayoutModel",
      "state": {}
     },
     "cd1d503025f94455898cda591460f5da": {
      "model_module": "@jupyter-widgets/controls",
      "model_module_version": "1.5.0",
      "model_name": "DropdownModel",
      "state": {
       "_options_labels": [
        "NurbsCurve2D",
        "BezierCurve2D",
        "Polyline2D",
        "Function"
       ],
       "index": 0,
       "layout": "IPY_MODEL_3761ab3b962b4bdc83a0b5c3edaaf2f4",
       "style": "IPY_MODEL_ec565a4c65ef47b7b5c481d2e487b68f"
      }
     },
     "cd863832ae4f4c2a9fb4238d4fe72b7d": {
      "model_module": "@jupyter-widgets/controls",
      "model_module_version": "1.5.0",
      "model_name": "IntTextModel",
      "state": {
       "description": "min",
       "layout": "IPY_MODEL_67c7aedfc8f04a9bb8e92c4fbabb0fa3",
       "step": 1,
       "style": "IPY_MODEL_15cc82a7eb6848f88869d829430b0385",
       "value": 1
      }
     },
     "cdf37350d48b41aa95e2f22bc8635d1f": {
      "model_module": "@jupyter-widgets/base",
      "model_module_version": "1.2.0",
      "model_name": "LayoutModel",
      "state": {
       "margin": "20px 0px"
      }
     },
     "ce0fb06d58634cb9b41ec68d1e1dc70d": {
      "model_module": "@jupyter-widgets/controls",
      "model_module_version": "1.5.0",
      "model_name": "TextModel",
      "state": {
       "continuous_update": false,
       "description": "name",
       "layout": "IPY_MODEL_6f1858b8e9c6421b9b4fe2362c1009c7",
       "style": "IPY_MODEL_ca31eefba9934ba0853aeee9ed1c6164",
       "value": "leaf_new"
      }
     },
     "ce95b26aa02f45a485c1255eae9a21fa": {
      "model_module": "@jupyter-widgets/controls",
      "model_module_version": "1.5.0",
      "model_name": "SliderStyleModel",
      "state": {
       "description_width": ""
      }
     },
     "cec3e99efbcc48f4949ee3f961d09c72": {
      "model_module": "@jupyter-widgets/controls",
      "model_module_version": "1.5.0",
      "model_name": "DescriptionStyleModel",
      "state": {
       "description_width": ""
      }
     },
     "cef95e99bff14a7892ad7b7e082815a3": {
      "model_module": "@jupyter-widgets/base",
      "model_module_version": "1.2.0",
      "model_name": "LayoutModel",
      "state": {}
     },
     "cf2d00fcb37046cca0b8754d884949a8": {
      "model_module": "@jupyter-widgets/controls",
      "model_module_version": "1.5.0",
      "model_name": "IntSliderModel",
      "state": {
       "description": "value",
       "layout": "IPY_MODEL_440acb6e8011430aa874cae6aefacb36",
       "max": 10,
       "min": 1,
       "style": "IPY_MODEL_88f3d087a0de45da8bfd2c33963d9fb3",
       "value": 5
      }
     },
     "cf673dfbe5eb413c96fdeb2659cfc128": {
      "model_module": "@jupyter-widgets/controls",
      "model_module_version": "1.5.0",
      "model_name": "SliderStyleModel",
      "state": {
       "description_width": ""
      }
     },
     "cf70e5ab01a742c8abccfa36d455b40f": {
      "model_module": "@jupyter-widgets/controls",
      "model_module_version": "1.5.0",
      "model_name": "IntSliderModel",
      "state": {
       "description": "value",
       "layout": "IPY_MODEL_4c0cd242021b4387b84906f781be597f",
       "max": 5,
       "min": 1,
       "style": "IPY_MODEL_83eb13eb355a4ed79a83c524a5fe5344",
       "value": 4
      }
     },
     "cf824a36611440baadda6efc8be404cc": {
      "model_module": "@jupyter-widgets/controls",
      "model_module_version": "1.5.0",
      "model_name": "FloatSliderModel",
      "state": {
       "description": "shininess",
       "layout": "IPY_MODEL_1841107c669d487a88dba8bee46180f8",
       "max": 1,
       "step": 0.1,
       "style": "IPY_MODEL_228bc3eabbcd41b0903a627cadc7111d",
       "value": 0.2
      }
     },
     "cffb33bebb154befa460f5be28ee06de": {
      "model_module": "@jupyter-widgets/base",
      "model_module_version": "1.2.0",
      "model_name": "LayoutModel",
      "state": {}
     },
     "cffe896bba6b4be9a72a337ec2eeabfd": {
      "model_module": "@jupyter-widgets/base",
      "model_module_version": "1.2.0",
      "model_name": "LayoutModel",
      "state": {}
     },
     "d007a3afb7ef4e6ab1691e067fa2adc5": {
      "model_module": "@jupyter-widgets/base",
      "model_module_version": "1.2.0",
      "model_name": "LayoutModel",
      "state": {}
     },
     "d00d708bc83a43c486f075d9361c9002": {
      "model_module": "@jupyter-widgets/controls",
      "model_module_version": "1.5.0",
      "model_name": "ButtonModel",
      "state": {
       "description": "Delete",
       "layout": "IPY_MODEL_ccf0f2ce22544625b858407af5c61f95",
       "style": "IPY_MODEL_bf215b8633cf4c8e9ddb25f302c62afb"
      }
     },
     "d03612b14f984819821e89add2e8abfb": {
      "model_module": "@jupyter-widgets/base",
      "model_module_version": "1.2.0",
      "model_name": "LayoutModel",
      "state": {}
     },
     "d0a6d8e803054098abe932e3805dde62": {
      "model_module": "@jupyter-widgets/base",
      "model_module_version": "1.2.0",
      "model_name": "LayoutModel",
      "state": {}
     },
     "d10a3a68a0474f01aa5b6d5cfdb8ebe8": {
      "model_module": "@jupyter-widgets/controls",
      "model_module_version": "1.5.0",
      "model_name": "FloatSliderModel",
      "state": {
       "description": "transparency",
       "layout": "IPY_MODEL_c47d49a7c60647cb85c5eb15764ce0cf",
       "max": 1,
       "step": 0.1,
       "style": "IPY_MODEL_33df28684ad348f5b03827854e48c752"
      }
     },
     "d10f09db7b844047b372a716b8a9dd49": {
      "model_module": "@jupyter-widgets/controls",
      "model_module_version": "1.5.0",
      "model_name": "SliderStyleModel",
      "state": {
       "description_width": ""
      }
     },
     "d152ff0131e44467aa1643fe2974e1b9": {
      "model_module": "@jupyter-widgets/controls",
      "model_module_version": "1.5.0",
      "model_name": "DescriptionStyleModel",
      "state": {
       "description_width": ""
      }
     },
     "d17ee3bf95d444e6a5dc0e77911f5b59": {
      "model_module": "@jupyter-widgets/controls",
      "model_module_version": "1.5.0",
      "model_name": "ColorPickerModel",
      "state": {
       "description": "specular",
       "disabled": false,
       "layout": "IPY_MODEL_0af1bb03cbd844ea9bfc0d9b864d0f8d",
       "style": "IPY_MODEL_64f0f3be71ea49f6b0bf5f7a3382814b",
       "value": "#282828"
      }
     },
     "d18e48c309db4852aa5cdc3da1012b6e": {
      "model_module": "@jupyter-widgets/base",
      "model_module_version": "1.2.0",
      "model_name": "LayoutModel",
      "state": {}
     },
     "d1e4b02c15bb44948c22e7d933636530": {
      "model_module": "@jupyter-widgets/controls",
      "model_module_version": "1.5.0",
      "model_name": "TextModel",
      "state": {
       "layout": "IPY_MODEL_82ee84b51f34452cb28a4d5fbd6a6bec",
       "placeholder": "category name",
       "style": "IPY_MODEL_b70440f46d284109b251b83b4efe6e79"
      }
     },
     "d1f553a8e0e14ca8939fd7facfe7bdd0": {
      "model_module": "@jupyter-widgets/controls",
      "model_module_version": "1.5.0",
      "model_name": "BoundedIntTextModel",
      "state": {
       "description": "index",
       "layout": "IPY_MODEL_65bee35e74e7441d98cbdeb5de6d8221",
       "style": "IPY_MODEL_113da8bbf28f4da4a88ba0f9cabd4ebb",
       "value": 2
      }
     },
     "d24455fb0aa04c15978bcf82f484ec0d": {
      "model_module": "@jupyter-widgets/controls",
      "model_module_version": "1.5.0",
      "model_name": "FloatSliderModel",
      "state": {
       "description": "shininess",
       "layout": "IPY_MODEL_89e834b8c10e40a390db5fd0665c3d45",
       "max": 1,
       "step": 0.1,
       "style": "IPY_MODEL_b0e8fa40069c4769bfca38d467a34243",
       "value": 0.2
      }
     },
     "d24ed236d364492488ac20992dc448f3": {
      "model_module": "@jupyter-widgets/controls",
      "model_module_version": "1.5.0",
      "model_name": "SliderStyleModel",
      "state": {
       "description_width": ""
      }
     },
     "d2f53457da264365a8ca7a5c85a6b381": {
      "model_module": "@jupyter-widgets/controls",
      "model_module_version": "1.5.0",
      "model_name": "ColorPickerModel",
      "state": {
       "description": "emission",
       "disabled": false,
       "layout": "IPY_MODEL_d7b73a835c6a400fa37fb014990bed66",
       "style": "IPY_MODEL_f0677d8a64674b559e7f258cf8fa5541",
       "value": "#000000"
      }
     },
     "d30ebfc6c53341ae9babc1bd412860bb": {
      "model_module": "@jupyter-widgets/controls",
      "model_module_version": "1.5.0",
      "model_name": "DescriptionStyleModel",
      "state": {
       "description_width": ""
      }
     },
     "d323d6b67e114f9199d968a403d35954": {
      "model_module": "@jupyter-widgets/base",
      "model_module_version": "1.2.0",
      "model_name": "LayoutModel",
      "state": {}
     },
     "d3295221ce1f424ebee2f857573f74f6": {
      "model_module": "@jupyter-widgets/controls",
      "model_module_version": "1.5.0",
      "model_name": "DropdownModel",
      "state": {
       "_options_labels": [
        "NurbsCurve2D",
        "BezierCurve2D",
        "Polyline2D",
        "Function"
       ],
       "index": 0,
       "layout": "IPY_MODEL_0b0218a48fab482ca3ef910ddb9948e7",
       "style": "IPY_MODEL_0b86b005791f45fb93ef1e515e62e1e2"
      }
     },
     "d32aaba5fabf43e1a51a446cc716f021": {
      "model_module": "@jupyter-widgets/controls",
      "model_module_version": "1.5.0",
      "model_name": "ButtonStyleModel",
      "state": {}
     },
     "d3311825194e40848ec86c6df05ec71f": {
      "model_module": "@jupyter-widgets/base",
      "model_module_version": "1.2.0",
      "model_name": "LayoutModel",
      "state": {
       "margin": "20px 0px"
      }
     },
     "d35e87005bca48c5862abf4e837a1469": {
      "model_module": "@jupyter-widgets/base",
      "model_module_version": "1.2.0",
      "model_name": "LayoutModel",
      "state": {}
     },
     "d36a68cedc804dc0b13148f20e8408ad": {
      "model_module": "@jupyter-widgets/base",
      "model_module_version": "1.2.0",
      "model_name": "LayoutModel",
      "state": {}
     },
     "d3b85fda8a3a4608a7bd96283095fedd": {
      "model_module": "@jupyter-widgets/base",
      "model_module_version": "1.2.0",
      "model_name": "LayoutModel",
      "state": {}
     },
     "d3ca847489164ca4957ed12a3dbe22f6": {
      "model_module": "@jupyter-widgets/base",
      "model_module_version": "1.2.0",
      "model_name": "LayoutModel",
      "state": {}
     },
     "d40cd5784b9640ce86140f6d8eb19ad7": {
      "model_module": "@jupyter-widgets/controls",
      "model_module_version": "1.5.0",
      "model_name": "DescriptionStyleModel",
      "state": {
       "description_width": ""
      }
     },
     "d42dda3cd9cf477195bbad7f92515edb": {
      "model_module": "@jupyter-widgets/controls",
      "model_module_version": "1.5.0",
      "model_name": "ButtonStyleModel",
      "state": {}
     },
     "d436543783c8447f81f559995965920f": {
      "model_module": "@jupyter-widgets/base",
      "model_module_version": "1.2.0",
      "model_name": "LayoutModel",
      "state": {}
     },
     "d4426702c7c94b0aac24491668d12154": {
      "model_module": "@jupyter-widgets/base",
      "model_module_version": "1.2.0",
      "model_name": "LayoutModel",
      "state": {}
     },
     "d472e1655a9444f0b18024002a8daeb0": {
      "model_module": "@jupyter-widgets/base",
      "model_module_version": "1.2.0",
      "model_name": "LayoutModel",
      "state": {
       "margin": "20px 0px"
      }
     },
     "d4db273c64d04656a9b57533239e7872": {
      "model_module": "@jupyter-widgets/controls",
      "model_module_version": "1.5.0",
      "model_name": "TextModel",
      "state": {
       "continuous_update": false,
       "description": "name",
       "layout": "IPY_MODEL_5c2170886bb84b0fb0345314e6a3925d",
       "style": "IPY_MODEL_9824adc57ba049e4afcc27d45ea5872d",
       "value": "color_1"
      }
     },
     "d4ef39502216401ca3c2e7381d844b04": {
      "model_module": "@jupyter-widgets/base",
      "model_module_version": "1.2.0",
      "model_name": "LayoutModel",
      "state": {}
     },
     "d4fcee8507e649a6822506b7eaf235b2": {
      "model_module": "@jupyter-widgets/base",
      "model_module_version": "1.2.0",
      "model_name": "LayoutModel",
      "state": {}
     },
     "d52fb0d8ec634c9e8f5209c9cbd03a9e": {
      "model_module": "@jupyter-widgets/base",
      "model_module_version": "1.2.0",
      "model_name": "LayoutModel",
      "state": {}
     },
     "d5451f4d3ae8401ab534c5136e99f785": {
      "model_module": "@jupyter-widgets/controls",
      "model_module_version": "1.5.0",
      "model_name": "DropdownModel",
      "state": {
       "_options_labels": [
        "maxorder",
        "radinc",
        "nb_axes"
       ],
       "index": 0,
       "layout": "IPY_MODEL_024c0a7ea2924ff5a9d4b4e8dd33f20f",
       "style": "IPY_MODEL_0d2e16e55e4f4049983e0cbb83eb2316"
      }
     },
     "d56364ff1cc441588f37f856b104fb7f": {
      "model_module": "@jupyter-widgets/base",
      "model_module_version": "1.2.0",
      "model_name": "LayoutModel",
      "state": {}
     },
     "d563b21fb0e44bff9f75ce1b0e25866e": {
      "model_module": "@jupyter-widgets/controls",
      "model_module_version": "1.5.0",
      "model_name": "ButtonStyleModel",
      "state": {}
     },
     "d57615a69c10480d8db062fc5e36385d": {
      "model_module": "@jupyter-widgets/controls",
      "model_module_version": "1.5.0",
      "model_name": "DescriptionStyleModel",
      "state": {
       "description_width": ""
      }
     },
     "d57e2be537e04b77bd713ec999a5c5a4": {
      "model_module": "@jupyter-widgets/controls",
      "model_module_version": "1.5.0",
      "model_name": "SliderStyleModel",
      "state": {
       "description_width": ""
      }
     },
     "d5962bdf3e204a32a0c5f001c01c8af8": {
      "model_module": "@jupyter-widgets/controls",
      "model_module_version": "1.5.0",
      "model_name": "DescriptionStyleModel",
      "state": {
       "description_width": ""
      }
     },
     "d59eedfe91e040bd83b09d32a1718f4b": {
      "model_module": "@jupyter-widgets/controls",
      "model_module_version": "1.5.0",
      "model_name": "SliderStyleModel",
      "state": {
       "description_width": ""
      }
     },
     "d5bad5e9916e489c92ca26665824ec2d": {
      "model_module": "@jupyter-widgets/controls",
      "model_module_version": "1.5.0",
      "model_name": "SliderStyleModel",
      "state": {
       "description_width": ""
      }
     },
     "d5cd15e37f944ccfa4bf1cdd3348f4c7": {
      "model_module": "@jupyter-widgets/controls",
      "model_module_version": "1.5.0",
      "model_name": "SliderStyleModel",
      "state": {
       "description_width": ""
      }
     },
     "d64b99f37a81429489c488b69a00175d": {
      "model_module": "@jupyter-widgets/controls",
      "model_module_version": "1.5.0",
      "model_name": "FloatSliderModel",
      "state": {
       "description": "transparency",
       "layout": "IPY_MODEL_51298c491bb74c49aa13975c0b81b43a",
       "max": 1,
       "step": 0.1,
       "style": "IPY_MODEL_d24ed236d364492488ac20992dc448f3"
      }
     },
     "d6e29de606464a1eada931b449337734": {
      "model_module": "@jupyter-widgets/controls",
      "model_module_version": "1.5.0",
      "model_name": "DescriptionStyleModel",
      "state": {
       "description_width": ""
      }
     },
     "d734a536300949189433eec18ebe49d5": {
      "model_module": "@jupyter-widgets/controls",
      "model_module_version": "1.5.0",
      "model_name": "IntSliderModel",
      "state": {
       "description": "value",
       "layout": "IPY_MODEL_973da0ef21a546739fbc9361cd34bfe5",
       "max": 10,
       "min": 1,
       "style": "IPY_MODEL_d5bad5e9916e489c92ca26665824ec2d",
       "value": 2
      }
     },
     "d77d077081bb4eb8baa6f71acfaca80d": {
      "model_module": "@jupyter-widgets/controls",
      "model_module_version": "1.5.0",
      "model_name": "HBoxModel",
      "state": {
       "children": [
        "IPY_MODEL_ec25e9001eaf45e69cf86327398a4adc",
        "IPY_MODEL_1a768dffa91045cdbec62fd051859942"
       ],
       "layout": "IPY_MODEL_f7ff34c66d4b431c8d7a458913ac23de"
      }
     },
     "d79e5da1ec2d4eff8b5b67ab8d2838d8": {
      "model_module": "pgljupyter",
      "model_module_version": "^0.1.17",
      "model_name": "IntEditorModel",
      "state": {
       "_model_module_version": "^0.1.17",
       "_view_module_version": "^0.1.17",
       "children": [
        "IPY_MODEL_b026cfdea7f24109b3207938d8293f82",
        "IPY_MODEL_fa78c56a5cee470db3de6e4fe2ec4481"
       ],
       "layout": "IPY_MODEL_1aeee9874bc84466bbeb7bfb15647305"
      }
     },
     "d7b73a835c6a400fa37fb014990bed66": {
      "model_module": "@jupyter-widgets/base",
      "model_module_version": "1.2.0",
      "model_name": "LayoutModel",
      "state": {}
     },
     "d7e2fe307b4148cfac6f5e85faa87f8d": {
      "model_module": "pgljupyter",
      "model_module_version": "^0.1.18",
      "model_name": "MaterialEditorModel",
      "state": {
       "_model_module_version": "^0.1.18",
       "_view_module_version": "^0.1.18",
       "children": [
        "IPY_MODEL_399fc3d82a3b4cb6984cdc1806f6c118",
        "IPY_MODEL_203079255d89445eaa5a11bb556a37d5",
        "IPY_MODEL_058c249a39c04bedbadbabfd56c8cbca",
        "IPY_MODEL_a6b2268c582b4593aeb1fd6140283cda",
        "IPY_MODEL_fcc4f1c9cd4740db81b92272d44020c6",
        "IPY_MODEL_5d665054e5a24fcc86e9f3d114ca7382",
        "IPY_MODEL_455ba0e06d5247ffb20550cc7189a0a9",
        "IPY_MODEL_e64b8d9963944b6982872e56c1d1076b"
       ],
       "layout": "IPY_MODEL_fe21590a178c49c09a36c5fb9b0fb406"
      }
     },
     "d826944e71484a12ba8264f9980eaa85": {
      "model_module": "@jupyter-widgets/controls",
      "model_module_version": "1.5.0",
      "model_name": "DescriptionStyleModel",
      "state": {
       "description_width": ""
      }
     },
     "d8b7d3f852be4323a7cb38d583268863": {
      "model_module": "@jupyter-widgets/base",
      "model_module_version": "1.2.0",
      "model_name": "LayoutModel",
      "state": {}
     },
     "d8d73c6794a64b41a4b085d7b2422110": {
      "model_module": "@jupyter-widgets/base",
      "model_module_version": "1.2.0",
      "model_name": "LayoutModel",
      "state": {}
     },
     "d8dd6096e07649cb8ceb51b260ceb49f": {
      "model_module": "@jupyter-widgets/controls",
      "model_module_version": "1.5.0",
      "model_name": "DescriptionStyleModel",
      "state": {
       "description_width": ""
      }
     },
     "d94927052fb046c4b476563ba1404936": {
      "model_module": "@jupyter-widgets/controls",
      "model_module_version": "1.5.0",
      "model_name": "ButtonModel",
      "state": {
       "description": "Delete",
       "layout": "IPY_MODEL_2e291dc0a02b4b878cc21b93ac478bfd",
       "style": "IPY_MODEL_18abd2b200874f98af3b0f2c86c1a019"
      }
     },
     "d96944e0d08c4a04aa0b00a6367b12c9": {
      "model_module": "@jupyter-widgets/base",
      "model_module_version": "1.2.0",
      "model_name": "LayoutModel",
      "state": {}
     },
     "d978d64c481643da8a0c61fcd3e368e3": {
      "model_module": "@jupyter-widgets/base",
      "model_module_version": "1.2.0",
      "model_name": "LayoutModel",
      "state": {}
     },
     "d98400c8547342cb8a67ecbb1f113126": {
      "model_module": "@jupyter-widgets/controls",
      "model_module_version": "1.5.0",
      "model_name": "DescriptionStyleModel",
      "state": {
       "description_width": ""
      }
     },
     "d9ccb67aeb914dbebc9157bdfb5dc23d": {
      "model_module": "@jupyter-widgets/base",
      "model_module_version": "1.2.0",
      "model_name": "LayoutModel",
      "state": {}
     },
     "d9fed144986740a4aebc4a2d4217ab60": {
      "model_module": "@jupyter-widgets/controls",
      "model_module_version": "1.5.0",
      "model_name": "DescriptionStyleModel",
      "state": {
       "description_width": ""
      }
     },
     "da13191a83f844c595b3cff32e04df31": {
      "model_module": "@jupyter-widgets/controls",
      "model_module_version": "1.5.0",
      "model_name": "ButtonModel",
      "state": {
       "description": "Add",
       "layout": "IPY_MODEL_5b833389726149e891e43233e262af30",
       "style": "IPY_MODEL_11d8025c13d9418dab33da381333379c"
      }
     },
     "da90b6b6b6334b2d8566268731ae92f4": {
      "model_module": "@jupyter-widgets/controls",
      "model_module_version": "1.5.0",
      "model_name": "DropdownModel",
      "state": {
       "_options_labels": [
        "leafduration",
        "leafold",
        "maxorder",
        "radinc",
        "nb_axes"
       ],
       "index": 0,
       "layout": "IPY_MODEL_ae707f5167d74fc69acaaf741eb5e5de",
       "style": "IPY_MODEL_d826944e71484a12ba8264f9980eaa85"
      }
     },
     "da94d7f0e6e045988d94aba69d5be576": {
      "model_module": "@jupyter-widgets/controls",
      "model_module_version": "1.5.0",
      "model_name": "TextModel",
      "state": {
       "continuous_update": false,
       "description": "name",
       "layout": "IPY_MODEL_36cefaebd481433a986da12e8f4ca923",
       "style": "IPY_MODEL_4700fadcbf6740eeacfb5f4d5442bcc5",
       "value": "radinc"
      }
     },
     "dab8e9c05b4743e0910867303374e23e": {
      "model_module": "pgljupyter",
      "model_module_version": "^0.1.16",
      "model_name": "MaterialEditorModel",
      "state": {
       "_model_module_version": "^0.1.16",
       "_view_module_version": "^0.1.16",
       "children": [
        "IPY_MODEL_677b6979d18a4369b43c7d2c7055d352",
        "IPY_MODEL_1f8ab0fca1c04c59ba41957779688c40",
        "IPY_MODEL_9db215c1ff3242bab8eb9533ae4c1142",
        "IPY_MODEL_7820f3eb666143e08c9689ceabf9f92e",
        "IPY_MODEL_2cbe2b9f20a14b2c9ff7c42cc96e34c6",
        "IPY_MODEL_00d6b976c7584356bc8ace10cc276390",
        "IPY_MODEL_5d1acbde1263434ca0516af8b1e818ec",
        "IPY_MODEL_c16429a9bfff45a981471a788dca62c2"
       ],
       "layout": "IPY_MODEL_9b3e11ebb803450b986ba009cd7271d1"
      }
     },
     "dae8d0d2b5a24ba3a4caef5ae026ea60": {
      "model_module": "@jupyter-widgets/base",
      "model_module_version": "1.2.0",
      "model_name": "LayoutModel",
      "state": {}
     },
     "daf71e2b2a7543cb8dcc73b7d06ecdcf": {
      "model_module": "@jupyter-widgets/controls",
      "model_module_version": "1.5.0",
      "model_name": "TextModel",
      "state": {
       "continuous_update": false,
       "description": "name",
       "layout": "IPY_MODEL_7b34d047a75145ef93c9d2ba934f66f1",
       "style": "IPY_MODEL_61604db4d90b46a3a0031ae5119c1516",
       "value": "leafduration"
      }
     },
     "db5323087b2145deaac82eae65704511": {
      "model_module": "pgljupyter",
      "model_module_version": "^0.1.18",
      "model_name": "LsystemWidgetModel",
      "state": {
       "_model_module_version": "^0.1.18",
       "_view_module_version": "^0.1.18",
       "axes_helper": false,
       "derivationLength": 42,
       "layout": "IPY_MODEL_37a93703112240f1b4ba6fd167b2abd8",
       "light_helper": false,
       "plane": true,
       "size_display": [
        400,
        400
       ],
       "size_world": 50
      }
     },
     "db5f6dc768de4f52af107562f58156fb": {
      "model_module": "@jupyter-widgets/controls",
      "model_module_version": "1.5.0",
      "model_name": "ButtonModel",
      "state": {
       "description": "Add",
       "layout": "IPY_MODEL_207d2c2ed4094de6aa559901cd22e572",
       "style": "IPY_MODEL_2d9fad0b565a4646b1f726689ed625fc"
      }
     },
     "db9ed437c56e4afcaea7ce8551e64a91": {
      "model_module": "@jupyter-widgets/controls",
      "model_module_version": "1.5.0",
      "model_name": "TextModel",
      "state": {
       "continuous_update": false,
       "description": "name",
       "layout": "IPY_MODEL_65dc7f4bbf724d46a564ee783e7d55ea",
       "style": "IPY_MODEL_12b07df7fcbf4176ac7229ec42a4a560",
       "value": "maxorder"
      }
     },
     "dbf29d67c32f4897a7101f3492b6f2df": {
      "model_module": "@jupyter-widgets/controls",
      "model_module_version": "1.5.0",
      "model_name": "SliderStyleModel",
      "state": {
       "description_width": ""
      }
     },
     "dc53693171ca4e6f859008d9f7934f2e": {
      "model_module": "@jupyter-widgets/controls",
      "model_module_version": "1.5.0",
      "model_name": "SliderStyleModel",
      "state": {
       "description_width": ""
      }
     },
     "dc6fe4ae93724ee697ccb6414fa8bd2b": {
      "model_module": "@jupyter-widgets/base",
      "model_module_version": "1.2.0",
      "model_name": "LayoutModel",
      "state": {}
     },
     "dc891aa6241b421da0cabf4ab08e3d0e": {
      "model_module": "@jupyter-widgets/controls",
      "model_module_version": "1.5.0",
      "model_name": "TabModel",
      "state": {
       "_titles": {
        "0": "leuwenberg.json"
       },
       "children": [
        "IPY_MODEL_405490f3003747ea84770f0ca8eba3fa"
       ],
       "layout": "IPY_MODEL_d36a68cedc804dc0b13148f20e8408ad"
      }
     },
     "dc9722bd3a6e4f1e855fb518b2065abe": {
      "model_module": "@jupyter-widgets/controls",
      "model_module_version": "1.5.0",
      "model_name": "SliderStyleModel",
      "state": {
       "description_width": ""
      }
     },
     "dc9e29879357411bbba01c813ba6f9f4": {
      "model_module": "@jupyter-widgets/base",
      "model_module_version": "1.2.0",
      "model_name": "LayoutModel",
      "state": {}
     },
     "dcc995adc6dd4fe097aab757670954b6": {
      "model_module": "@jupyter-widgets/controls",
      "model_module_version": "1.5.0",
      "model_name": "SliderStyleModel",
      "state": {
       "description_width": ""
      }
     },
     "dd0076f5130e4b019ecac08f8ecf14e6": {
      "model_module": "@jupyter-widgets/base",
      "model_module_version": "1.2.0",
      "model_name": "LayoutModel",
      "state": {}
     },
     "dd63929993a7401ab626cf49aa8e47ec": {
      "model_module": "@jupyter-widgets/controls",
      "model_module_version": "1.5.0",
      "model_name": "HBoxModel",
      "state": {
       "children": [
        "IPY_MODEL_36206315b4434144abd918600eba897c",
        "IPY_MODEL_f4bdb1ac62ae4f1ba65cb9bfe80e8b50",
        "IPY_MODEL_04fd9850624b45509d3404170dfb2b93"
       ],
       "layout": "IPY_MODEL_77fc433d7ea240f0b05864afbc6f627a"
      }
     },
     "ddc34eb399b046ce9c7bbcc7bcce04e5": {
      "model_module": "pgljupyter",
      "model_module_version": "^0.1.17",
      "model_name": "IntEditorModel",
      "state": {
       "_model_module_version": "^0.1.17",
       "_view_module_version": "^0.1.17",
       "children": [
        "IPY_MODEL_daf71e2b2a7543cb8dcc73b7d06ecdcf",
        "IPY_MODEL_8e59f23a67514549b0b971a20c8f5644"
       ],
       "layout": "IPY_MODEL_8ab5ba176a154599b445e9556a8031de"
      }
     },
     "dde1071f08f442b987043d10dc31e5dd": {
      "model_module": "@jupyter-widgets/controls",
      "model_module_version": "1.5.0",
      "model_name": "DescriptionStyleModel",
      "state": {
       "description_width": ""
      }
     },
     "de0166a69e364f30890e136c6a843c04": {
      "model_module": "@jupyter-widgets/base",
      "model_module_version": "1.2.0",
      "model_name": "LayoutModel",
      "state": {}
     },
     "de26906445994c7e8243365b107e8044": {
      "model_module": "@jupyter-widgets/controls",
      "model_module_version": "1.5.0",
      "model_name": "ColorPickerModel",
      "state": {
       "description": "ambient",
       "disabled": false,
       "layout": "IPY_MODEL_86bbd8bd12314be19909ccb111382a66",
       "style": "IPY_MODEL_5ef60586f6624e7a921466efb2d8a645",
       "value": "#5b4534"
      }
     },
     "de29d9fc92c645568318b3cac8e85baf": {
      "model_module": "@jupyter-widgets/controls",
      "model_module_version": "1.5.0",
      "model_name": "ButtonModel",
      "state": {
       "description": "Delete",
       "layout": "IPY_MODEL_fdc7cdfb71c14e9f9ae8327b7e4919ce",
       "style": "IPY_MODEL_0adb42962e0d46d8a508e6187f7b3e19"
      }
     },
     "de319ccb71084e70b9dbfd5cfb7f274a": {
      "model_module": "@jupyter-widgets/controls",
      "model_module_version": "1.5.0",
      "model_name": "TextModel",
      "state": {
       "continuous_update": false,
       "description": "name",
       "layout": "IPY_MODEL_9b30eab18de94dffbe1a6d676db8158c",
       "style": "IPY_MODEL_27341d701b39454692c62d6ea10319c8",
       "value": "leaf_old"
      }
     },
     "de4816681729453fbf133b79ff9974ac": {
      "model_module": "@jupyter-widgets/controls",
      "model_module_version": "1.5.0",
      "model_name": "BoundedIntTextModel",
      "state": {
       "description": "index",
       "layout": "IPY_MODEL_e46e9699d55948368197d7e8ce85a0a3",
       "style": "IPY_MODEL_60ff2d33083e41a7a9c77037399cc0c7",
       "value": 1
      }
     },
     "deee13f28dc04426826d2dcb4eb4b80e": {
      "model_module": "pgljupyter",
      "model_module_version": "^0.1.17",
      "model_name": "IntEditorModel",
      "state": {
       "_model_module_version": "^0.1.17",
       "_view_module_version": "^0.1.17",
       "children": [
        "IPY_MODEL_6836f870173f481c896bba938c011cdd",
        "IPY_MODEL_cf2d00fcb37046cca0b8754d884949a8"
       ],
       "layout": "IPY_MODEL_6213afc08dc747abb3101b3b00eff81e"
      }
     },
     "df4b301f82c143b6ba68f23b7ee4a4e7": {
      "model_module": "@jupyter-widgets/base",
      "model_module_version": "1.2.0",
      "model_name": "LayoutModel",
      "state": {}
     },
     "df696dde9f0e41c2be1075f4577638d5": {
      "model_module": "@jupyter-widgets/base",
      "model_module_version": "1.2.0",
      "model_name": "LayoutModel",
      "state": {}
     },
     "df83175491804b5cb47348424a380b78": {
      "model_module": "@jupyter-widgets/base",
      "model_module_version": "1.2.0",
      "model_name": "LayoutModel",
      "state": {}
     },
     "dfbf3f0450ae43368952951aba7baba3": {
      "model_module": "@jupyter-widgets/controls",
      "model_module_version": "1.5.0",
      "model_name": "DescriptionStyleModel",
      "state": {
       "description_width": ""
      }
     },
     "dfccc42a1e8f4f4abdf4c85dd83fbdf3": {
      "model_module": "@jupyter-widgets/controls",
      "model_module_version": "1.5.0",
      "model_name": "ButtonStyleModel",
      "state": {}
     },
     "dfd5a1256a954e379bc5aff58a8db58a": {
      "model_module": "pgljupyter",
      "model_module_version": "^0.1.16",
      "model_name": "ParameterEditorModel",
      "state": {
       "_model_module_version": "^0.1.16",
       "_view_module_version": "^0.1.16",
       "children": [
        "IPY_MODEL_50c897762f9846d38e9f8e2de2d19de2"
       ],
       "layout": "IPY_MODEL_d3ca847489164ca4957ed12a3dbe22f6"
      }
     },
     "e01ac84da5b94b36859436d3ee12a19e": {
      "model_module": "@jupyter-widgets/base",
      "model_module_version": "1.2.0",
      "model_name": "LayoutModel",
      "state": {}
     },
     "e0797b2efbd349b591c26c07ddceb9b9": {
      "model_module": "@jupyter-widgets/controls",
      "model_module_version": "1.5.0",
      "model_name": "TextModel",
      "state": {
       "continuous_update": false,
       "description": "name",
       "layout": "IPY_MODEL_bca351d97c6d48f9814da71e4418e3a3",
       "style": "IPY_MODEL_9425b43dcbad4491bb621b1c588f23a2",
       "value": "apex"
      }
     },
     "e084bfa6a964476eace5b955c0359580": {
      "model_module": "@jupyter-widgets/controls",
      "model_module_version": "1.5.0",
      "model_name": "DescriptionStyleModel",
      "state": {
       "description_width": ""
      }
     },
     "e0b3bfd022cf45e4a94fa38c5088e074": {
      "model_module": "@jupyter-widgets/base",
      "model_module_version": "1.2.0",
      "model_name": "LayoutModel",
      "state": {}
     },
     "e0b543b076714cf5958478e4889a5cb7": {
      "model_module": "@jupyter-widgets/controls",
      "model_module_version": "1.5.0",
      "model_name": "ButtonStyleModel",
      "state": {}
     },
     "e0c35736a89f424aa92cf4bb65dd15cd": {
      "model_module": "@jupyter-widgets/controls",
      "model_module_version": "1.5.0",
      "model_name": "DescriptionStyleModel",
      "state": {
       "description_width": ""
      }
     },
     "e0f1782f2a614b3fa512c8365f125d2a": {
      "model_module": "@jupyter-widgets/controls",
      "model_module_version": "1.5.0",
      "model_name": "ColorPickerModel",
      "state": {
       "description": "specular",
       "disabled": false,
       "layout": "IPY_MODEL_bc6ff6dbd47e43719f4d3510291ab07c",
       "style": "IPY_MODEL_fb890f35eb7342de80f4cca03a20aba6",
       "value": "#282828"
      }
     },
     "e133259e943747ddbb36e06ec4bf3308": {
      "model_module": "@jupyter-widgets/controls",
      "model_module_version": "1.5.0",
      "model_name": "HBoxModel",
      "state": {
       "children": [
        "IPY_MODEL_c2be0d36854f4826b190f2aef55fd686",
        "IPY_MODEL_9a39bcbc02c34c958a3a2bea5ded14be"
       ],
       "layout": "IPY_MODEL_91ac8e1f9a054b498098ec7954dfe608"
      }
     },
     "e14b8d9da9d94827aa6e7a2c4a59032a": {
      "model_module": "@jupyter-widgets/base",
      "model_module_version": "1.2.0",
      "model_name": "LayoutModel",
      "state": {
       "margin": "20px 0px"
      }
     },
     "e15fba46cf5946eeb499bb44c328da38": {
      "model_module": "@jupyter-widgets/controls",
      "model_module_version": "1.5.0",
      "model_name": "HBoxModel",
      "state": {
       "layout": "IPY_MODEL_f54b6bb1cd9047f2913448b18542023e"
      }
     },
     "e18491acb9394f188ffa2c3096839935": {
      "model_module": "@jupyter-widgets/base",
      "model_module_version": "1.2.0",
      "model_name": "LayoutModel",
      "state": {
       "margin": "20px 0px"
      }
     },
     "e1a057438d6b4569b6ab77b9fa61b360": {
      "model_module": "@jupyter-widgets/controls",
      "model_module_version": "1.5.0",
      "model_name": "DescriptionStyleModel",
      "state": {
       "description_width": ""
      }
     },
     "e1ad944eafa344f19b268b968727ebe2": {
      "model_module": "@jupyter-widgets/controls",
      "model_module_version": "1.5.0",
      "model_name": "DescriptionStyleModel",
      "state": {
       "description_width": ""
      }
     },
     "e1dcb78514e94e8ba1b4d9d3d4a8e9c9": {
      "model_module": "pgljupyter",
      "model_module_version": "^0.1.17",
      "model_name": "IntEditorModel",
      "state": {
       "_model_module_version": "^0.1.17",
       "_view_module_version": "^0.1.17",
       "children": [
        "IPY_MODEL_4933c3be1ca74d3b87e7deac4ab3fa84",
        "IPY_MODEL_f07a901e6ad14b95a2d72d3015de3a12"
       ],
       "layout": "IPY_MODEL_726ea6227a9140b58c2e2db0b3c05e1f"
      }
     },
     "e20a8ad2869c4320906c5ccb5a2616cb": {
      "model_module": "pgljupyter",
      "model_module_version": "^0.1.17",
      "model_name": "MaterialEditorModel",
      "state": {
       "_model_module_version": "^0.1.17",
       "_view_module_version": "^0.1.17",
       "children": [
        "IPY_MODEL_bfa2cd7f0c5143b98b10a45ec7d2d66d",
        "IPY_MODEL_f5730ea7e7c64ddd832fe8d4f113f656",
        "IPY_MODEL_8796df0ffb5a4d59acfa5e829c472f45",
        "IPY_MODEL_e85c510e27f640a8b1ccdded38f8d8b3",
        "IPY_MODEL_7d0e2b7c25dc4c5799f79fba3304581d",
        "IPY_MODEL_59f8c5abaa8146ce8df8fc46c0f10acb",
        "IPY_MODEL_8c69ffac5b3b44b286de8bc58ff44b45"
       ],
       "layout": "IPY_MODEL_194ad744cbd346c59d513770c2a47af7"
      }
     },
     "e248c6cad0a7477090a5f66a3ae950b9": {
      "model_module": "@jupyter-widgets/controls",
      "model_module_version": "1.5.0",
      "model_name": "DescriptionStyleModel",
      "state": {
       "description_width": ""
      }
     },
     "e24becef77854391b6cd6c67e04932e8": {
      "model_module": "@jupyter-widgets/controls",
      "model_module_version": "1.5.0",
      "model_name": "HBoxModel",
      "state": {
       "children": [
        "IPY_MODEL_273d55f5f31d4648966c52a36a8bc18e",
        "IPY_MODEL_e3ec34b11df74def9f03dc88695a2134",
        "IPY_MODEL_17de7061fc71420fb27975958a62c182",
        "IPY_MODEL_d7e2fe307b4148cfac6f5e85faa87f8d"
       ],
       "layout": "IPY_MODEL_a9b7a5bea64640859355bc1f3bd40aed"
      }
     },
     "e2959aa92f7d44c2a5d6d06683c7f898": {
      "model_module": "@jupyter-widgets/controls",
      "model_module_version": "1.5.0",
      "model_name": "DescriptionStyleModel",
      "state": {
       "description_width": ""
      }
     },
     "e29b2ad0e6b8400997e87c1b714baead": {
      "model_module": "@jupyter-widgets/controls",
      "model_module_version": "1.5.0",
      "model_name": "DescriptionStyleModel",
      "state": {
       "description_width": ""
      }
     },
     "e2b7f42fba7146f9bd943e2d6c422529": {
      "model_module": "@jupyter-widgets/controls",
      "model_module_version": "1.5.0",
      "model_name": "DropdownModel",
      "state": {
       "_options_labels": [
        "NurbsCurve2D",
        "BezierCurve2D",
        "Polyline2D",
        "Function"
       ],
       "index": 0,
       "layout": "IPY_MODEL_8f003cdb574545128b2ee385bb6fff88",
       "style": "IPY_MODEL_d30ebfc6c53341ae9babc1bd412860bb"
      }
     },
     "e2c963c5cf35423c8c5649096e21e578": {
      "model_module": "@jupyter-widgets/base",
      "model_module_version": "1.2.0",
      "model_name": "LayoutModel",
      "state": {}
     },
     "e2de1706c64a496781bb68ab5f7e1f36": {
      "model_module": "@jupyter-widgets/controls",
      "model_module_version": "1.5.0",
      "model_name": "SliderStyleModel",
      "state": {
       "description_width": ""
      }
     },
     "e313ecd7771845129142078320e10db3": {
      "model_module": "@jupyter-widgets/controls",
      "model_module_version": "1.5.0",
      "model_name": "ButtonStyleModel",
      "state": {}
     },
     "e39e2498279249fda7dc6eebafd8b0bb": {
      "model_module": "@jupyter-widgets/controls",
      "model_module_version": "1.5.0",
      "model_name": "DescriptionStyleModel",
      "state": {
       "description_width": ""
      }
     },
     "e3e60ccbc1cb456a81c849bf7a485b87": {
      "model_module": "pgljupyter",
      "model_module_version": "^0.1.17",
      "model_name": "MaterialEditorModel",
      "state": {
       "_model_module_version": "^0.1.17",
       "_view_module_version": "^0.1.17",
       "children": [
        "IPY_MODEL_0241bcf8e4d449588382dcfa0fadf1f7",
        "IPY_MODEL_1e6010c917c4441f8d05dacd1cf3a5ba",
        "IPY_MODEL_37bad97f36864d09b884b5b159f845c5",
        "IPY_MODEL_6af77e29019b4e689db91f5541c76b14",
        "IPY_MODEL_ffd2e60a3312408a8134cc48bad3dece",
        "IPY_MODEL_0108f7fc56644931b6e9ab7e757df267",
        "IPY_MODEL_ae65c9b1a7014f46b4d4736a9946ae5f"
       ],
       "layout": "IPY_MODEL_fa6085381b324435aa9032f0b10413fd"
      }
     },
     "e3ec34b11df74def9f03dc88695a2134": {
      "model_module": "pgljupyter",
      "model_module_version": "^0.1.18",
      "model_name": "MaterialEditorModel",
      "state": {
       "_model_module_version": "^0.1.18",
       "_view_module_version": "^0.1.18",
       "children": [
        "IPY_MODEL_33ecac72bc1645e0b487c066dc742e70",
        "IPY_MODEL_8941e806cfbc4ef79a7ebe1a33c9c387",
        "IPY_MODEL_fb0c1e5b61d44683adf9f59f2d517439",
        "IPY_MODEL_c3f4c1f812d844ea9207b9e5e852348d",
        "IPY_MODEL_fcb10f0aee304daf943e423fda4b86f2",
        "IPY_MODEL_e47a5e4d527f4a4b854d6b623726ae1b",
        "IPY_MODEL_fc127ff6172e4b0984f4d7a91e171c32",
        "IPY_MODEL_e42d49eb989a4968b069bd8144730392"
       ],
       "layout": "IPY_MODEL_1042939b8e694adbb61cbf705e83ecb6"
      }
     },
     "e41cb6704a0a4c06a028ae53e9f988ee": {
      "model_module": "@jupyter-widgets/controls",
      "model_module_version": "1.5.0",
      "model_name": "DescriptionStyleModel",
      "state": {
       "description_width": ""
      }
     },
     "e42d49eb989a4968b069bd8144730392": {
      "model_module": "@jupyter-widgets/controls",
      "model_module_version": "1.5.0",
      "model_name": "FloatSliderModel",
      "state": {
       "description": "shininess",
       "layout": "IPY_MODEL_83ef4ea6f520490ea97b0fec684c68ff",
       "max": 1,
       "step": 0.1,
       "style": "IPY_MODEL_d10f09db7b844047b372a716b8a9dd49",
       "value": 0.2
      }
     },
     "e46e9699d55948368197d7e8ce85a0a3": {
      "model_module": "@jupyter-widgets/base",
      "model_module_version": "1.2.0",
      "model_name": "LayoutModel",
      "state": {}
     },
     "e47a5e4d527f4a4b854d6b623726ae1b": {
      "model_module": "@jupyter-widgets/controls",
      "model_module_version": "1.5.0",
      "model_name": "FloatSliderModel",
      "state": {
       "description": "diffuse",
       "layout": "IPY_MODEL_0152374133564b448491bef7e0098d98",
       "max": 3,
       "step": 0.1,
       "style": "IPY_MODEL_84167ac2f5b54a72a1dcecd5e7898942",
       "value": 1
      }
     },
     "e483f04bf9ee473983a54480be56ae94": {
      "model_module": "@jupyter-widgets/base",
      "model_module_version": "1.2.0",
      "model_name": "LayoutModel",
      "state": {}
     },
     "e4b212a605144a07b42605253ab3a016": {
      "model_module": "@jupyter-widgets/base",
      "model_module_version": "1.2.0",
      "model_name": "LayoutModel",
      "state": {}
     },
     "e4bcad903cd24e668755c12c6ad16d21": {
      "model_module": "@jupyter-widgets/controls",
      "model_module_version": "1.5.0",
      "model_name": "DescriptionStyleModel",
      "state": {
       "description_width": ""
      }
     },
     "e4f1064e7adb4c35be9fbfc786d26ca6": {
      "model_module": "@jupyter-widgets/controls",
      "model_module_version": "1.5.0",
      "model_name": "FloatSliderModel",
      "state": {
       "description": "value",
       "layout": "IPY_MODEL_f809bb47cbf94d079b9331253cf0b41b",
       "max": 0.1,
       "min": 0.01,
       "step": 0.01,
       "style": "IPY_MODEL_25389c05c9a74d9a98ad640a1da0dc90",
       "value": 0.02
      }
     },
     "e4ff954f4c8a42249bb72fd9a209830d": {
      "model_module": "pgljupyter",
      "model_module_version": "^0.1.18",
      "model_name": "IntEditorModel",
      "state": {
       "_model_module_version": "^0.1.18",
       "_view_module_version": "^0.1.18",
       "children": [
        "IPY_MODEL_4d9c47832bb743058b80a0b7ef230074",
        "IPY_MODEL_283766ded61e469895271b99cd20aee7"
       ],
       "layout": "IPY_MODEL_2b06ff77988044cbbe92812f8d420a23"
      }
     },
     "e53a81fe5d75435cb12952d290d8bed4": {
      "model_module": "@jupyter-widgets/base",
      "model_module_version": "1.2.0",
      "model_name": "LayoutModel",
      "state": {}
     },
     "e5dac1ed4b934727b6efb2c2f6bbcf39": {
      "model_module": "pgljupyter",
      "model_module_version": "^0.1.17",
      "model_name": "FloatEditorModel",
      "state": {
       "_model_module_version": "^0.1.17",
       "_view_module_version": "^0.1.17",
       "children": [
        "IPY_MODEL_55f0f039861f4c7cb7fc94899c53e0f6",
        "IPY_MODEL_e4f1064e7adb4c35be9fbfc786d26ca6"
       ],
       "layout": "IPY_MODEL_85fb0b1c46a34071837318e83df4549c"
      }
     },
     "e647273f61494efb92b293f226b212ce": {
      "model_module": "@jupyter-widgets/controls",
      "model_module_version": "1.5.0",
      "model_name": "DropdownModel",
      "state": {
       "_options_labels": [
        "color_1",
        "color_2",
        "color_3",
        "color_4"
       ],
       "index": 0,
       "layout": "IPY_MODEL_3b6eb237ab884fc6a9851aa3c2d821fe",
       "style": "IPY_MODEL_9cbbf712b5e546d7b39a41428b0aa2f1"
      }
     },
     "e64b8d9963944b6982872e56c1d1076b": {
      "model_module": "@jupyter-widgets/controls",
      "model_module_version": "1.5.0",
      "model_name": "FloatSliderModel",
      "state": {
       "description": "shininess",
       "layout": "IPY_MODEL_157fba29a18141ceb228302c5bccb5bb",
       "max": 1,
       "step": 0.1,
       "style": "IPY_MODEL_6d9cd9fec46242309f65481bd57e1ab6",
       "value": 0.2
      }
     },
     "e64e7fd9b956422fbe051812aeedf4f5": {
      "model_module": "@jupyter-widgets/controls",
      "model_module_version": "1.5.0",
      "model_name": "TabModel",
      "state": {
       "layout": "IPY_MODEL_01a9830728ff43debfe68c7ed9c0c0f1"
      }
     },
     "e663a3b5cc3842119f7132689bc988a4": {
      "model_module": "@jupyter-widgets/controls",
      "model_module_version": "1.5.0",
      "model_name": "TabModel",
      "state": {
       "layout": "IPY_MODEL_5c2e84642c5d485189990628bfa497c8"
      }
     },
     "e6991f813efb4b118467f99c0776efcd": {
      "model_module": "@jupyter-widgets/controls",
      "model_module_version": "1.5.0",
      "model_name": "DescriptionStyleModel",
      "state": {
       "description_width": ""
      }
     },
     "e6ea0f1df0864495a18ce55e8ee48a88": {
      "model_module": "@jupyter-widgets/controls",
      "model_module_version": "1.5.0",
      "model_name": "SliderStyleModel",
      "state": {
       "description_width": ""
      }
     },
     "e72c590e7a184b6fb4ad01d25e4545a9": {
      "model_module": "@jupyter-widgets/controls",
      "model_module_version": "1.5.0",
      "model_name": "FloatSliderModel",
      "state": {
       "description": "shininess",
       "layout": "IPY_MODEL_18a4cfa16bc946538d5790374028d641",
       "max": 1,
       "step": 0.1,
       "style": "IPY_MODEL_16f7bc26a9f3423a8cdb0ee883e8baf3",
       "value": 0.2
      }
     },
     "e7e58753b42f479c87b45106eebaf7d8": {
      "model_module": "@jupyter-widgets/controls",
      "model_module_version": "1.5.0",
      "model_name": "HBoxModel",
      "state": {
       "children": [
        "IPY_MODEL_a5fa387b659b43e6811c5b2786ac85cd",
        "IPY_MODEL_e133259e943747ddbb36e06ec4bf3308"
       ],
       "layout": "IPY_MODEL_0edf0711fcd443488bc2bd1811f52c38"
      }
     },
     "e801703ebaf5452e9d7d9e5fc1f6b6d2": {
      "model_module": "@jupyter-widgets/controls",
      "model_module_version": "1.5.0",
      "model_name": "HBoxModel",
      "state": {
       "children": [
        "IPY_MODEL_e4ff954f4c8a42249bb72fd9a209830d",
        "IPY_MODEL_4cbdfd51fc7a4d0aa56146812cc120e6"
       ],
       "layout": "IPY_MODEL_f54b6bb1cd9047f2913448b18542023e"
      }
     },
     "e82e92b531174bbab4c8ec367cfabcd1": {
      "model_module": "@jupyter-widgets/controls",
      "model_module_version": "1.5.0",
      "model_name": "DescriptionStyleModel",
      "state": {
       "description_width": ""
      }
     },
     "e8499e7bab6246a0ad0a4f30d14ddbb3": {
      "model_module": "@jupyter-widgets/base",
      "model_module_version": "1.2.0",
      "model_name": "LayoutModel",
      "state": {}
     },
     "e85c510e27f640a8b1ccdded38f8d8b3": {
      "model_module": "@jupyter-widgets/controls",
      "model_module_version": "1.5.0",
      "model_name": "ColorPickerModel",
      "state": {
       "description": "emission",
       "disabled": false,
       "layout": "IPY_MODEL_c2578ef26c0743838357a06ac7dbb03e",
       "style": "IPY_MODEL_015a0162e977482199ff9aa70a46096a",
       "value": "#000000"
      }
     },
     "e8a23a012cbf4853a330e912e3cad92f": {
      "model_module": "@jupyter-widgets/controls",
      "model_module_version": "1.5.0",
      "model_name": "HBoxModel",
      "state": {
       "children": [
        "IPY_MODEL_553432c4114a47d4a9edc9bea81bf73d",
        "IPY_MODEL_fed9460058884e208750ebcd25227db9"
       ],
       "layout": "IPY_MODEL_3f7ba822c536404481bce2f09c84de9d"
      }
     },
     "e9582f1549fd47149a0a82f1ee63f055": {
      "model_module": "@jupyter-widgets/controls",
      "model_module_version": "1.5.0",
      "model_name": "DescriptionStyleModel",
      "state": {
       "description_width": ""
      }
     },
     "e984cba6c0f84ad5a3546c38b70bc438": {
      "model_module": "@jupyter-widgets/controls",
      "model_module_version": "1.5.0",
      "model_name": "FloatSliderModel",
      "state": {
       "description": "diffuse",
       "layout": "IPY_MODEL_36dae7e778b4478990ee42ee7dd61824",
       "max": 3,
       "step": 0.1,
       "style": "IPY_MODEL_5c020f6de4b0494db643bad3b0644d25",
       "value": 1
      }
     },
     "e996a0616fe3456f83d3a47b2d6444d3": {
      "model_module": "@jupyter-widgets/base",
      "model_module_version": "1.2.0",
      "model_name": "LayoutModel",
      "state": {}
     },
     "e9ac5fcbb97347d7a1f9f9cc7558252d": {
      "model_module": "@jupyter-widgets/controls",
      "model_module_version": "1.5.0",
      "model_name": "HBoxModel",
      "state": {
       "children": [
        "IPY_MODEL_fab3da10c1de4f6599d1614193ca639f",
        "IPY_MODEL_7aab530945c249e3a941d757c0ccee92"
       ],
       "layout": "IPY_MODEL_d978d64c481643da8a0c61fcd3e368e3"
      }
     },
     "ea2eda2ed0bb482faa1ed22e03e210b0": {
      "model_module": "@jupyter-widgets/base",
      "model_module_version": "1.2.0",
      "model_name": "LayoutModel",
      "state": {
       "margin": "20px 0px"
      }
     },
     "ea37aa48e5954c09acb575e2396d3c05": {
      "model_module": "@jupyter-widgets/base",
      "model_module_version": "1.2.0",
      "model_name": "LayoutModel",
      "state": {}
     },
     "ea9d8d6b50034a3a9fb9e57b9e304732": {
      "model_module": "@jupyter-widgets/controls",
      "model_module_version": "1.5.0",
      "model_name": "IntTextModel",
      "state": {
       "description": "min",
       "layout": "IPY_MODEL_a928100a1a7543c1a952e02f63653d38",
       "step": 1,
       "style": "IPY_MODEL_cc6d0e94c93b4978adf6227cfb533d2c",
       "value": 1
      }
     },
     "eac0f378daf14e768b562dc92a52bd46": {
      "model_module": "@jupyter-widgets/controls",
      "model_module_version": "1.5.0",
      "model_name": "IntTextModel",
      "state": {
       "description": "min",
       "layout": "IPY_MODEL_5b5cffc519364c9fbd2a8e2332a75c62",
       "step": 1,
       "style": "IPY_MODEL_c8d3f70598d54c238929a83e3bcb3334",
       "value": 1
      }
     },
     "eacdf3892401422d966ce9bdf9102e5d": {
      "model_module": "@jupyter-widgets/controls",
      "model_module_version": "1.5.0",
      "model_name": "SliderStyleModel",
      "state": {
       "description_width": ""
      }
     },
     "eb11e6bb87f04e778a49e0a3916ee734": {
      "model_module": "@jupyter-widgets/base",
      "model_module_version": "1.2.0",
      "model_name": "LayoutModel",
      "state": {}
     },
     "eb38eb2960ba4c56b249425bdddbb378": {
      "model_module": "@jupyter-widgets/controls",
      "model_module_version": "1.5.0",
      "model_name": "SliderStyleModel",
      "state": {
       "description_width": ""
      }
     },
     "eb97bfba7a244317a71b5c4fedafbbe8": {
      "model_module": "@jupyter-widgets/controls",
      "model_module_version": "1.5.0",
      "model_name": "ButtonStyleModel",
      "state": {}
     },
     "eb9c25defb924bd4a139c44c404e7001": {
      "model_module": "@jupyter-widgets/controls",
      "model_module_version": "1.5.0",
      "model_name": "ButtonModel",
      "state": {
       "description": "Add category",
       "layout": "IPY_MODEL_5635bd2a1dbe4760b5638e8c865b2550",
       "style": "IPY_MODEL_6d5e3a1f1f6e4037b118fad920b662c6"
      }
     },
     "eba49d4701c34c69a1a52005a55e913e": {
      "model_module": "@jupyter-widgets/controls",
      "model_module_version": "1.5.0",
      "model_name": "ButtonModel",
      "state": {
       "description": "Add",
       "layout": "IPY_MODEL_9e0dbc685d844cfd942dcb418366010a",
       "style": "IPY_MODEL_42507f01d821430991d4d3162cf5c980"
      }
     },
     "eba7cf85bd6046aca8a8d6411fcef311": {
      "model_module": "@jupyter-widgets/base",
      "model_module_version": "1.2.0",
      "model_name": "LayoutModel",
      "state": {
       "margin": "20px 0px"
      }
     },
     "ebac3b19d9ab409d9c42b53d972811e3": {
      "model_module": "@jupyter-widgets/controls",
      "model_module_version": "1.5.0",
      "model_name": "HBoxModel",
      "state": {
       "children": [
        "IPY_MODEL_e1dcb78514e94e8ba1b4d9d3d4a8e9c9",
        "IPY_MODEL_3152de1fa1164856a37a0aa90a315025",
        "IPY_MODEL_deee13f28dc04426826d2dcb4eb4b80e",
        "IPY_MODEL_e5dac1ed4b934727b6efb2c2f6bbcf39",
        "IPY_MODEL_d79e5da1ec2d4eff8b5b67ab8d2838d8"
       ],
       "layout": "IPY_MODEL_964212339a614dc4b244dd85464c155d"
      }
     },
     "ebe128ea294142459765d6098ca68e1a": {
      "model_module": "@jupyter-widgets/controls",
      "model_module_version": "1.5.0",
      "model_name": "FloatSliderModel",
      "state": {
       "description": "diffuse",
       "layout": "IPY_MODEL_3581f98b0e0b489eb1e8d1ffb45828de",
       "max": 3,
       "step": 0.1,
       "style": "IPY_MODEL_2171707fa97347488af43fe88a591d0f",
       "value": 1
      }
     },
     "ec0d311430274174ad6f8002cc5ab013": {
      "model_module": "@jupyter-widgets/controls",
      "model_module_version": "1.5.0",
      "model_name": "ButtonModel",
      "state": {
       "description": "Add category",
       "layout": "IPY_MODEL_8cca7f8fad02405fb87c0732c5a43356",
       "style": "IPY_MODEL_70cd0cda1a844c278ad4555f50d5490a"
      }
     },
     "ec128f27e5d548fd89d35f652fb3d014": {
      "model_module": "@jupyter-widgets/base",
      "model_module_version": "1.2.0",
      "model_name": "LayoutModel",
      "state": {}
     },
     "ec25e9001eaf45e69cf86327398a4adc": {
      "model_module": "@jupyter-widgets/controls",
      "model_module_version": "1.5.0",
      "model_name": "HBoxModel",
      "state": {
       "children": [
        "IPY_MODEL_428b97f3a6fc42759d90478a7ffb3457",
        "IPY_MODEL_bd975fbe82284673a970cc17143dddb9"
       ],
       "layout": "IPY_MODEL_0c4ef21d02cd4d5098cab60592f95c54"
      }
     },
     "ec264ee7c2014d25b4a56adf37235cd5": {
      "model_module": "@jupyter-widgets/controls",
      "model_module_version": "1.5.0",
      "model_name": "DropdownModel",
      "state": {
       "index": null,
       "layout": "IPY_MODEL_b281607fe98d48e3934d05bec3d79698",
       "style": "IPY_MODEL_11a1fde1334e44b3bc445b44cfccd1ee"
      }
     },
     "ec565a4c65ef47b7b5c481d2e487b68f": {
      "model_module": "@jupyter-widgets/controls",
      "model_module_version": "1.5.0",
      "model_name": "DescriptionStyleModel",
      "state": {
       "description_width": ""
      }
     },
     "ec80a43c5a3b4523b4da1e7a74a8af65": {
      "model_module": "@jupyter-widgets/base",
      "model_module_version": "1.2.0",
      "model_name": "LayoutModel",
      "state": {}
     },
     "ec8cfa6373cf4330ae76df7ac5a2dfab": {
      "model_module": "pgljupyter",
      "model_module_version": "^0.1.18",
      "model_name": "IntEditorModel",
      "state": {
       "_model_module_version": "^0.1.18",
       "_view_module_version": "^0.1.18",
       "children": [
        "IPY_MODEL_2ed237c444f041958ac480d559718a9b",
        "IPY_MODEL_ca93be8a390a4842a5a88b86b5f0c740"
       ],
       "layout": "IPY_MODEL_057fc401feeb40d0858ffb015d0b71f2"
      }
     },
     "ecd0c12b3b9e479fb4a4bdfdcb2c2842": {
      "model_module": "@jupyter-widgets/controls",
      "model_module_version": "1.5.0",
      "model_name": "IntTextModel",
      "state": {
       "description": "max",
       "layout": "IPY_MODEL_973162b76dea4a2bbb3e36144ea6db25",
       "step": 1,
       "style": "IPY_MODEL_ed253fc3290f4b25b35b8dcd2674306e",
       "value": 10
      }
     },
     "ecd6712976814a878c2eb22824a5e5e9": {
      "model_module": "@jupyter-widgets/base",
      "model_module_version": "1.2.0",
      "model_name": "LayoutModel",
      "state": {}
     },
     "ed253fc3290f4b25b35b8dcd2674306e": {
      "model_module": "@jupyter-widgets/controls",
      "model_module_version": "1.5.0",
      "model_name": "DescriptionStyleModel",
      "state": {
       "description_width": ""
      }
     },
     "ed4b23b4eff1497396c94a783926d260": {
      "model_module": "@jupyter-widgets/controls",
      "model_module_version": "1.5.0",
      "model_name": "SliderStyleModel",
      "state": {
       "description_width": ""
      }
     },
     "ed878756b8fb401389ecaf5b518387e3": {
      "model_module": "@jupyter-widgets/controls",
      "model_module_version": "1.5.0",
      "model_name": "ColorPickerModel",
      "state": {
       "description": "ambient",
       "disabled": false,
       "layout": "IPY_MODEL_8ade179874b44ec4a7a9a96454510c3e",
       "style": "IPY_MODEL_74dde666b12e4ccdbc62eb47f41ed106",
       "value": "#0fc4db"
      }
     },
     "edf855758a43462cb032faf769489da2": {
      "model_module": "@jupyter-widgets/controls",
      "model_module_version": "1.5.0",
      "model_name": "SliderStyleModel",
      "state": {
       "description_width": ""
      }
     },
     "edf9693f28bf40b480d44c9fe1f0e7bd": {
      "model_module": "@jupyter-widgets/controls",
      "model_module_version": "1.5.0",
      "model_name": "VBoxModel",
      "state": {
       "children": [
        "IPY_MODEL_6bbc88a5645f4f34bc382a3d79ab54d0",
        "IPY_MODEL_ccb212c6dfcc4c1d92cc6abceb4d2737"
       ],
       "layout": "IPY_MODEL_2340039821ec4848ab8a9b6c4eb0a864"
      }
     },
     "ee257afeb107428795eb942a17db9082": {
      "model_module": "@jupyter-widgets/base",
      "model_module_version": "1.2.0",
      "model_name": "LayoutModel",
      "state": {}
     },
     "ee264b2062824fd5b777853c7f930800": {
      "model_module": "@jupyter-widgets/controls",
      "model_module_version": "1.5.0",
      "model_name": "BoundedIntTextModel",
      "state": {
       "description": "index",
       "layout": "IPY_MODEL_ac370811477146a592129af91bec1989",
       "style": "IPY_MODEL_794d157bf0ff435fa7c3c39274a2f7b7",
       "value": 3
      }
     },
     "ee807aaf7dd849e494a1bea9e632bb51": {
      "model_module": "@jupyter-widgets/base",
      "model_module_version": "1.2.0",
      "model_name": "LayoutModel",
      "state": {}
     },
     "ef02132854ed4c2993d244c63b2f1da8": {
      "model_module": "@jupyter-widgets/controls",
      "model_module_version": "1.5.0",
      "model_name": "SliderStyleModel",
      "state": {
       "description_width": ""
      }
     },
     "ef1d08148f6a452081c3eb7924ab9c8f": {
      "model_module": "@jupyter-widgets/controls",
      "model_module_version": "1.5.0",
      "model_name": "ButtonStyleModel",
      "state": {}
     },
     "ef248a12bce040c9b9d1143f988a7f70": {
      "model_module": "@jupyter-widgets/controls",
      "model_module_version": "1.5.0",
      "model_name": "DescriptionStyleModel",
      "state": {
       "description_width": ""
      }
     },
     "ef5333f5371043d19deb770e002aef6f": {
      "model_module": "@jupyter-widgets/controls",
      "model_module_version": "1.5.0",
      "model_name": "DropdownModel",
      "state": {
       "_options_labels": [
        "NurbsCurve2D",
        "BezierCurve2D",
        "Polyline2D",
        "Function"
       ],
       "index": 0,
       "layout": "IPY_MODEL_c48e782f1bef445e9f2d0c4e1632f795",
       "style": "IPY_MODEL_b0816a0d3a1147ec9177057aeccf2636"
      }
     },
     "ef8bbf3c99984ea7a0ada6febc787943": {
      "model_module": "@jupyter-widgets/base",
      "model_module_version": "1.2.0",
      "model_name": "LayoutModel",
      "state": {}
     },
     "efecd650a0b549cfb8d04768a7af3883": {
      "model_module": "@jupyter-widgets/base",
      "model_module_version": "1.2.0",
      "model_name": "LayoutModel",
      "state": {}
     },
     "f0677d8a64674b559e7f258cf8fa5541": {
      "model_module": "@jupyter-widgets/controls",
      "model_module_version": "1.5.0",
      "model_name": "DescriptionStyleModel",
      "state": {
       "description_width": ""
      }
     },
     "f06f7a31a7f6416183260274d8da1272": {
      "model_module": "@jupyter-widgets/base",
      "model_module_version": "1.2.0",
      "model_name": "LayoutModel",
      "state": {
       "margin": "20px 0px"
      }
     },
     "f07a901e6ad14b95a2d72d3015de3a12": {
      "model_module": "@jupyter-widgets/controls",
      "model_module_version": "1.5.0",
      "model_name": "IntSliderModel",
      "state": {
       "description": "value",
       "layout": "IPY_MODEL_38e26cd9e23545518709851cba698d94",
       "max": 10,
       "min": 1,
       "style": "IPY_MODEL_c84fe53e0e9a4df391e82723c5e179d5",
       "value": 3
      }
     },
     "f07ec7a47aa64a3a83eebeecca3f4573": {
      "model_module": "@jupyter-widgets/controls",
      "model_module_version": "1.5.0",
      "model_name": "IntSliderModel",
      "state": {
       "description": "value",
       "layout": "IPY_MODEL_1f72998eed09408198e3afb7711fce67",
       "max": 10,
       "min": 1,
       "style": "IPY_MODEL_7ff69b0f459c406da1dcf1b6b9ea1d85",
       "value": 5
      }
     },
     "f091e8ee938040379301180a6b5f8ece": {
      "model_module": "pgljupyter",
      "model_module_version": "^0.1.16",
      "model_name": "MaterialEditorModel",
      "state": {
       "_model_module_version": "^0.1.16",
       "_view_module_version": "^0.1.16",
       "children": [
        "IPY_MODEL_6b7f50760bbe40128e53e8730548a7c5",
        "IPY_MODEL_af4039e9ddde442ba446084c54416900",
        "IPY_MODEL_80301650537045819e119da69d2e1eaf",
        "IPY_MODEL_d17ee3bf95d444e6a5dc0e77911f5b59",
        "IPY_MODEL_cb7d447aaf2c4c759979e1f891e6d461",
        "IPY_MODEL_e984cba6c0f84ad5a3546c38b70bc438",
        "IPY_MODEL_89a945aee0754e80a2eee46f61496ba5",
        "IPY_MODEL_fa3fcbaf866c47d0a6ee55fb9125c3d4"
       ],
       "layout": "IPY_MODEL_92978dae10c04f879b6b666ba80d5835"
      }
     },
     "f0d18c7a33314b93b6a2c556090ad031": {
      "model_module": "@jupyter-widgets/controls",
      "model_module_version": "1.5.0",
      "model_name": "DescriptionStyleModel",
      "state": {
       "description_width": ""
      }
     },
     "f12070df747f4997bb07a8795782dbf5": {
      "model_module": "@jupyter-widgets/controls",
      "model_module_version": "1.5.0",
      "model_name": "ButtonModel",
      "state": {
       "description": "Add",
       "layout": "IPY_MODEL_45f98c4f44d14504a22ffa36469c7310",
       "style": "IPY_MODEL_9fa90f82578d4c6cbf8256092d7543fa"
      }
     },
     "f142e994cc534a86867a64e2eda8db55": {
      "model_module": "@jupyter-widgets/controls",
      "model_module_version": "1.5.0",
      "model_name": "HBoxModel",
      "state": {
       "children": [
        "IPY_MODEL_cbdaf49adba648288d71c4ee0c85a46d",
        "IPY_MODEL_96ef1dd3e38b40a6b4b6aa0a8d3bcca5"
       ],
       "layout": "IPY_MODEL_266957bdee4c488d96db5cfceab4b072"
      }
     },
     "f147ffdfc6994c26b4177e9b873ebcc9": {
      "model_module": "pgljupyter",
      "model_module_version": "^0.1.17",
      "model_name": "IntEditorModel",
      "state": {
       "_model_module_version": "^0.1.17",
       "_view_module_version": "^0.1.17",
       "children": [
        "IPY_MODEL_445f90f4d3de40cb874172bbb0b2c38d",
        "IPY_MODEL_004fe4bded924a9a932e3394f3befd69"
       ],
       "layout": "IPY_MODEL_80b56e6d76c34f719488204e0bf1de2d"
      }
     },
     "f1c6aa52cc2a40a396a24165e1c5bf64": {
      "model_module": "@jupyter-widgets/controls",
      "model_module_version": "1.5.0",
      "model_name": "DescriptionStyleModel",
      "state": {
       "description_width": ""
      }
     },
     "f223c7d886294225be0b4cb6d842a989": {
      "model_module": "@jupyter-widgets/controls",
      "model_module_version": "1.5.0",
      "model_name": "SliderStyleModel",
      "state": {
       "description_width": ""
      }
     },
     "f2282812a130441eac41b660ee49477d": {
      "model_module": "@jupyter-widgets/controls",
      "model_module_version": "1.5.0",
      "model_name": "ButtonModel",
      "state": {
       "description": "Save changes",
       "layout": "IPY_MODEL_37be1e18450a48628dc1cfe7889e3ae0",
       "style": "IPY_MODEL_ae49ac24f7d94cbea0a0b653a87d4b7d"
      }
     },
     "f26688f6c93d449ca3039c51f092914f": {
      "model_module": "@jupyter-widgets/controls",
      "model_module_version": "1.5.0",
      "model_name": "ButtonStyleModel",
      "state": {}
     },
     "f2ce19fc1a01412bb35dc2f4381a068b": {
      "model_module": "@jupyter-widgets/controls",
      "model_module_version": "1.5.0",
      "model_name": "DescriptionStyleModel",
      "state": {
       "description_width": ""
      }
     },
     "f2cedfd93f164c5997b034682b7dd6d1": {
      "model_module": "@jupyter-widgets/base",
      "model_module_version": "1.2.0",
      "model_name": "LayoutModel",
      "state": {}
     },
     "f364d80a738d4f4a84c272cef9cd3e68": {
      "model_module": "@jupyter-widgets/controls",
      "model_module_version": "1.5.0",
      "model_name": "TextModel",
      "state": {
       "continuous_update": false,
       "description": "name",
       "layout": "IPY_MODEL_c70724b373544707a8ceb6ea34ead215",
       "style": "IPY_MODEL_f5bfbe34070d48409e2eb89df0aaa1dc",
       "value": "color_2"
      }
     },
     "f3b5f46f7b7c466baaef384604030357": {
      "model_module": "@jupyter-widgets/base",
      "model_module_version": "1.2.0",
      "model_name": "LayoutModel",
      "state": {}
     },
     "f3c024e88d6640b3b187291687dc790d": {
      "model_module": "@jupyter-widgets/base",
      "model_module_version": "1.2.0",
      "model_name": "LayoutModel",
      "state": {}
     },
     "f3ecc66415384a3b93c8afe5ca93b8f6": {
      "model_module": "@jupyter-widgets/base",
      "model_module_version": "1.2.0",
      "model_name": "LayoutModel",
      "state": {}
     },
     "f3f2dbabf14c4ce7bc023cc0ac7e2774": {
      "model_module": "@jupyter-widgets/base",
      "model_module_version": "1.2.0",
      "model_name": "LayoutModel",
      "state": {}
     },
     "f41d2bc09ad24d97b1e0e97f75537487": {
      "model_module": "@jupyter-widgets/base",
      "model_module_version": "1.2.0",
      "model_name": "LayoutModel",
      "state": {}
     },
     "f41ebca09dd94958b840510087992ffe": {
      "model_module": "@jupyter-widgets/base",
      "model_module_version": "1.2.0",
      "model_name": "LayoutModel",
      "state": {
       "margin": "20px 0px"
      }
     },
     "f4bdb1ac62ae4f1ba65cb9bfe80e8b50": {
      "model_module": "@jupyter-widgets/controls",
      "model_module_version": "1.5.0",
      "model_name": "HBoxModel",
      "state": {
       "children": [
        "IPY_MODEL_b4eb01c447064278a10e95e371e491b5",
        "IPY_MODEL_368bf31b2cd549b2949bece28e1205ad"
       ],
       "layout": "IPY_MODEL_3859230710584fe98955e85d63f45d07"
      }
     },
     "f4f2faa3af214fe2ad81b69860fda065": {
      "model_module": "@jupyter-widgets/base",
      "model_module_version": "1.2.0",
      "model_name": "LayoutModel",
      "state": {}
     },
     "f4f80c8cf6b444139f0df44cf6b171cc": {
      "model_module": "@jupyter-widgets/controls",
      "model_module_version": "1.5.0",
      "model_name": "ColorPickerModel",
      "state": {
       "description": "ambient",
       "disabled": false,
       "layout": "IPY_MODEL_b609d0249e3d49ada716ca64850e65b8",
       "style": "IPY_MODEL_57ba92c34a3c4d26a6098635e1484968",
       "value": "#5b4534"
      }
     },
     "f54b6bb1cd9047f2913448b18542023e": {
      "model_module": "@jupyter-widgets/base",
      "model_module_version": "1.2.0",
      "model_name": "LayoutModel",
      "state": {
       "flex_flow": "row wrap",
       "margin": "20px"
      }
     },
     "f5730ea7e7c64ddd832fe8d4f113f656": {
      "model_module": "@jupyter-widgets/controls",
      "model_module_version": "1.5.0",
      "model_name": "ColorPickerModel",
      "state": {
       "description": "ambient",
       "disabled": false,
       "layout": "IPY_MODEL_a5264762497747948922c606524ae042",
       "style": "IPY_MODEL_4045fe6afc194dcaa3f2c54427fa1745",
       "value": "#195717"
      }
     },
     "f5bfbe34070d48409e2eb89df0aaa1dc": {
      "model_module": "@jupyter-widgets/controls",
      "model_module_version": "1.5.0",
      "model_name": "DescriptionStyleModel",
      "state": {
       "description_width": ""
      }
     },
     "f5d36d54332540779b373371ce91389e": {
      "model_module": "@jupyter-widgets/base",
      "model_module_version": "1.2.0",
      "model_name": "LayoutModel",
      "state": {
       "flex_flow": "row wrap"
      }
     },
     "f600a6ae2e384964b8cef48223b138d5": {
      "model_module": "@jupyter-widgets/controls",
      "model_module_version": "1.5.0",
      "model_name": "TextModel",
      "state": {
       "continuous_update": false,
       "description": "name",
       "layout": "IPY_MODEL_1910124b79a9485da861e6e0c1762d37",
       "style": "IPY_MODEL_fc73aa7236da431dac7ba2b4a124ad11",
       "value": "trunk"
      }
     },
     "f6831da68c52444e88220f9ed6ef5b40": {
      "model_module": "@jupyter-widgets/controls",
      "model_module_version": "1.5.0",
      "model_name": "DescriptionStyleModel",
      "state": {
       "description_width": ""
      }
     },
     "f6877ba37bef4c718f9ad54a1dee9c7e": {
      "model_module": "@jupyter-widgets/controls",
      "model_module_version": "1.5.0",
      "model_name": "VBoxModel",
      "state": {
       "children": [
        "IPY_MODEL_5872ea4882c74993af9862d9a8bfcb9f",
        "IPY_MODEL_20298b4a168141e9be68094a28287409",
        "IPY_MODEL_ebac3b19d9ab409d9c42b53d972811e3",
        "IPY_MODEL_e7e58753b42f479c87b45106eebaf7d8",
        "IPY_MODEL_cbb885bb9b4c46c4a535abf50628efc5"
       ],
       "layout": "IPY_MODEL_c2ea397318574d91a49746ced9e8db1a"
      }
     },
     "f6bd143eb72a4021a9ee1d0db9b45016": {
      "model_module": "@jupyter-widgets/controls",
      "model_module_version": "1.5.0",
      "model_name": "FloatTextModel",
      "state": {
       "description": "min",
       "layout": "IPY_MODEL_340f0dbc98ff42bda049e2e8bbb7b838",
       "step": null,
       "style": "IPY_MODEL_7ee5793271fa419b8cf938c7cdd42829",
       "value": 0.01
      }
     },
     "f6d0532b4d034ab5add8a942c8036f27": {
      "model_module": "@jupyter-widgets/controls",
      "model_module_version": "1.5.0",
      "model_name": "SliderStyleModel",
      "state": {
       "description_width": ""
      }
     },
     "f78af31ccb8c4fa6988f852a049c17d8": {
      "model_module": "pgljupyter",
      "model_module_version": "^0.1.18",
      "model_name": "MaterialEditorModel",
      "state": {
       "_model_module_version": "^0.1.18",
       "_view_module_version": "^0.1.18",
       "children": [
        "IPY_MODEL_e0797b2efbd349b591c26c07ddceb9b9",
        "IPY_MODEL_b3ab021d6df046ceb59289797f1e4f25",
        "IPY_MODEL_1381a5f505a041c5a6944ee0787a8c0c",
        "IPY_MODEL_86e5d6226409410ea3e7aff87df7c57d",
        "IPY_MODEL_304e2cc8f62a4765b62a59138286ab58",
        "IPY_MODEL_1ef74d1c41b24007821a052f50da2c9f",
        "IPY_MODEL_850aea0efb99435baa77c0a116afa497",
        "IPY_MODEL_2ba15c3936ee4dd3a35e1ac8b8710c9d"
       ],
       "layout": "IPY_MODEL_d472e1655a9444f0b18024002a8daeb0"
      }
     },
     "f7a150d82f6d40e4934ef1a89819382f": {
      "model_module": "@jupyter-widgets/base",
      "model_module_version": "1.2.0",
      "model_name": "LayoutModel",
      "state": {}
     },
     "f7ff34c66d4b431c8d7a458913ac23de": {
      "model_module": "@jupyter-widgets/base",
      "model_module_version": "1.2.0",
      "model_name": "LayoutModel",
      "state": {
       "flex_flow": "row wrap",
       "margin": "20px"
      }
     },
     "f809bb47cbf94d079b9331253cf0b41b": {
      "model_module": "@jupyter-widgets/base",
      "model_module_version": "1.2.0",
      "model_name": "LayoutModel",
      "state": {}
     },
     "f826609262fd40cb852fc2f4bd691b74": {
      "model_module": "@jupyter-widgets/base",
      "model_module_version": "1.2.0",
      "model_name": "LayoutModel",
      "state": {}
     },
     "f834a6370cbe4f55b43168d73475ea6e": {
      "model_module": "@jupyter-widgets/controls",
      "model_module_version": "1.5.0",
      "model_name": "HBoxModel",
      "state": {
       "children": [
        "IPY_MODEL_aa07377abfb5489ca39018eb747fddb6",
        "IPY_MODEL_58b01411a162470783fbaaa91028104c"
       ],
       "layout": "IPY_MODEL_7e4f103663654092a3b6f3f18908d2a4"
      }
     },
     "f83dfb11eba54161877d623ec09906b5": {
      "model_module": "@jupyter-widgets/base",
      "model_module_version": "1.2.0",
      "model_name": "LayoutModel",
      "state": {
       "flex_flow": "row wrap"
      }
     },
     "f8b573f681b34435b46c31918778cf1a": {
      "model_module": "@jupyter-widgets/base",
      "model_module_version": "1.2.0",
      "model_name": "LayoutModel",
      "state": {}
     },
     "f8bb53ae98a6404eb9fbd8309f221e79": {
      "model_module": "@jupyter-widgets/controls",
      "model_module_version": "1.5.0",
      "model_name": "DescriptionStyleModel",
      "state": {
       "description_width": ""
      }
     },
     "f8bc8a94e6fc4a96a7ccd3d239c789b6": {
      "model_module": "@jupyter-widgets/base",
      "model_module_version": "1.2.0",
      "model_name": "LayoutModel",
      "state": {}
     },
     "f8e8217ad4ff42db874a2be04d88d09c": {
      "model_module": "@jupyter-widgets/base",
      "model_module_version": "1.2.0",
      "model_name": "LayoutModel",
      "state": {}
     },
     "f958a1e7a32245119bf98c95905da1a2": {
      "model_module": "@jupyter-widgets/controls",
      "model_module_version": "1.5.0",
      "model_name": "ColorPickerModel",
      "state": {
       "description": "specular",
       "disabled": false,
       "layout": "IPY_MODEL_9b552c4d5fcb4cb5a27ef472c8be80f2",
       "style": "IPY_MODEL_537f1d906667422699e2fce4b5f31496",
       "value": "#282828"
      }
     },
     "f9d90d05276440c2b0ff25f4cf787f32": {
      "model_module": "@jupyter-widgets/controls",
      "model_module_version": "1.5.0",
      "model_name": "DescriptionStyleModel",
      "state": {
       "description_width": ""
      }
     },
     "f9ee036e79134257a314bedd8f10beed": {
      "model_module": "@jupyter-widgets/controls",
      "model_module_version": "1.5.0",
      "model_name": "HBoxModel",
      "state": {
       "children": [
        "IPY_MODEL_40b8836f5c9a48a5a579b8ab931ba7aa",
        "IPY_MODEL_0dfd63902b034d3a9cf7782c9e751b71"
       ],
       "layout": "IPY_MODEL_9424c3010f3348a9bc112e2fabf01dd9"
      }
     },
     "fa3fcbaf866c47d0a6ee55fb9125c3d4": {
      "model_module": "@jupyter-widgets/controls",
      "model_module_version": "1.5.0",
      "model_name": "FloatSliderModel",
      "state": {
       "description": "shininess",
       "layout": "IPY_MODEL_0493264d976c421cbf4fe203f92091da",
       "max": 1,
       "step": 0.1,
       "style": "IPY_MODEL_19c0e5bf37c2495dba13da8f747c69e9",
       "value": 0.2
      }
     },
     "fa6085381b324435aa9032f0b10413fd": {
      "model_module": "@jupyter-widgets/base",
      "model_module_version": "1.2.0",
      "model_name": "LayoutModel",
      "state": {
       "margin": "20px 0px"
      }
     },
     "fa78c56a5cee470db3de6e4fe2ec4481": {
      "model_module": "@jupyter-widgets/controls",
      "model_module_version": "1.5.0",
      "model_name": "IntSliderModel",
      "state": {
       "description": "value",
       "layout": "IPY_MODEL_9e9b6175f07b4b388b45284c5be91fe8",
       "max": 7,
       "min": 1,
       "style": "IPY_MODEL_200bbcd159c24386b1e2e9fe9c914ff7",
       "value": 3
      }
     },
     "fab3da10c1de4f6599d1614193ca639f": {
      "model_module": "@jupyter-widgets/controls",
      "model_module_version": "1.5.0",
      "model_name": "ButtonModel",
      "state": {
       "description": "Add",
       "layout": "IPY_MODEL_2e48c81795b64dcba33d064847595389",
       "style": "IPY_MODEL_e313ecd7771845129142078320e10db3"
      }
     },
     "fb0c1e5b61d44683adf9f59f2d517439": {
      "model_module": "@jupyter-widgets/controls",
      "model_module_version": "1.5.0",
      "model_name": "ColorPickerModel",
      "state": {
       "description": "ambient",
       "disabled": false,
       "layout": "IPY_MODEL_c9e51a7855744cacbf121c9bb896cf32",
       "style": "IPY_MODEL_7cf3624548d34c2082dbac79e56a76bf",
       "value": "#195717"
      }
     },
     "fb438b1cc1484336bb3533aa50de8e15": {
      "model_module": "@jupyter-widgets/base",
      "model_module_version": "1.2.0",
      "model_name": "LayoutModel",
      "state": {}
     },
     "fb7df1f7b61a4ed2818a12f94a3168c4": {
      "model_module": "@jupyter-widgets/controls",
      "model_module_version": "1.5.0",
      "model_name": "DescriptionStyleModel",
      "state": {
       "description_width": ""
      }
     },
     "fb890f35eb7342de80f4cca03a20aba6": {
      "model_module": "@jupyter-widgets/controls",
      "model_module_version": "1.5.0",
      "model_name": "DescriptionStyleModel",
      "state": {
       "description_width": ""
      }
     },
     "fc127ff6172e4b0984f4d7a91e171c32": {
      "model_module": "@jupyter-widgets/controls",
      "model_module_version": "1.5.0",
      "model_name": "FloatSliderModel",
      "state": {
       "description": "transparency",
       "layout": "IPY_MODEL_97afb2960e67464ebd0ea7e768317b03",
       "max": 1,
       "step": 0.1,
       "style": "IPY_MODEL_8345834e21f741efb76cf84afc82297c"
      }
     },
     "fc73aa7236da431dac7ba2b4a124ad11": {
      "model_module": "@jupyter-widgets/controls",
      "model_module_version": "1.5.0",
      "model_name": "DescriptionStyleModel",
      "state": {
       "description_width": ""
      }
     },
     "fc7845240a5a42389a89509a28eb34dd": {
      "model_module": "@jupyter-widgets/controls",
      "model_module_version": "1.5.0",
      "model_name": "DescriptionStyleModel",
      "state": {
       "description_width": ""
      }
     },
     "fcb10f0aee304daf943e423fda4b86f2": {
      "model_module": "@jupyter-widgets/controls",
      "model_module_version": "1.5.0",
      "model_name": "ColorPickerModel",
      "state": {
       "description": "emission",
       "disabled": false,
       "layout": "IPY_MODEL_b2f08df3f7bb4655984473bbce30d2a8",
       "style": "IPY_MODEL_b1bea4580daf4865a4ab65528a99b960",
       "value": "#000000"
      }
     },
     "fcb828149d8b4587a737cf0adaca9f9c": {
      "model_module": "@jupyter-widgets/base",
      "model_module_version": "1.2.0",
      "model_name": "LayoutModel",
      "state": {}
     },
     "fcc4f1c9cd4740db81b92272d44020c6": {
      "model_module": "@jupyter-widgets/controls",
      "model_module_version": "1.5.0",
      "model_name": "ColorPickerModel",
      "state": {
       "description": "emission",
       "disabled": false,
       "layout": "IPY_MODEL_932905fe953a416bb495d9f6c2ffa4fe",
       "style": "IPY_MODEL_a8635d0de8634cffa50f768817ef709b",
       "value": "#000000"
      }
     },
     "fcdb0e54646c4bbbb1485f7cb42b4bbc": {
      "model_module": "@jupyter-widgets/controls",
      "model_module_version": "1.5.0",
      "model_name": "ButtonModel",
      "state": {
       "description": "Add",
       "layout": "IPY_MODEL_028403f5d1004d399f4c48bedf82c508",
       "style": "IPY_MODEL_c7ce13c027424623b6f2e99ab754ce1b"
      }
     },
     "fce01e4c69184a6aa0107d409c41700a": {
      "model_module": "@jupyter-widgets/controls",
      "model_module_version": "1.5.0",
      "model_name": "DescriptionStyleModel",
      "state": {
       "description_width": ""
      }
     },
     "fd123b157eeb4540a7cc729aaa32ef3f": {
      "model_module": "@jupyter-widgets/controls",
      "model_module_version": "1.5.0",
      "model_name": "ButtonModel",
      "state": {
       "description": "Apply changes",
       "layout": "IPY_MODEL_8b9d8ab9579d479587514dba40ca7bcd",
       "style": "IPY_MODEL_907af94c6c2443389979483218e080ca"
      }
     },
     "fd273ce6761742148ac89669bc64d98d": {
      "model_module": "@jupyter-widgets/base",
      "model_module_version": "1.2.0",
      "model_name": "LayoutModel",
      "state": {
       "margin": "20px 0px"
      }
     },
     "fd50b55e03484806aa3cae2a2541a1d3": {
      "model_module": "@jupyter-widgets/base",
      "model_module_version": "1.2.0",
      "model_name": "LayoutModel",
      "state": {}
     },
     "fdc7cdfb71c14e9f9ae8327b7e4919ce": {
      "model_module": "@jupyter-widgets/base",
      "model_module_version": "1.2.0",
      "model_name": "LayoutModel",
      "state": {}
     },
     "fdd783e8cd6f4152908064599bd69390": {
      "model_module": "@jupyter-widgets/base",
      "model_module_version": "1.2.0",
      "model_name": "LayoutModel",
      "state": {}
     },
     "fe19d3f5e3dc4cd99368775b1f16b8cc": {
      "model_module": "@jupyter-widgets/controls",
      "model_module_version": "1.5.0",
      "model_name": "ButtonStyleModel",
      "state": {}
     },
     "fe1ca6c5f8b149d586fe37d3f4c8d5df": {
      "model_module": "@jupyter-widgets/controls",
      "model_module_version": "1.5.0",
      "model_name": "ColorPickerModel",
      "state": {
       "description": "emission",
       "disabled": false,
       "layout": "IPY_MODEL_3ba93cb374114bc4a5fdc1c020fb99d2",
       "style": "IPY_MODEL_3036777e7fe24a1599267429c31acd12",
       "value": "#000000"
      }
     },
     "fe21590a178c49c09a36c5fb9b0fb406": {
      "model_module": "@jupyter-widgets/base",
      "model_module_version": "1.2.0",
      "model_name": "LayoutModel",
      "state": {
       "margin": "20px 0px"
      }
     },
     "fe39b8c3b9064292a4c361b7263a6c84": {
      "model_module": "@jupyter-widgets/controls",
      "model_module_version": "1.5.0",
      "model_name": "BoundedIntTextModel",
      "state": {
       "description": "index",
       "layout": "IPY_MODEL_2efed7a1fa88483699467354d3562b8e",
       "style": "IPY_MODEL_d152ff0131e44467aa1643fe2974e1b9",
       "value": 1
      }
     },
     "fe3f4751df8748c2bbaad9e702ecd866": {
      "model_module": "@jupyter-widgets/base",
      "model_module_version": "1.2.0",
      "model_name": "LayoutModel",
      "state": {
       "margin": "20px 0px"
      }
     },
     "fe6fc9b954504ac48e9ea7a8339c409b": {
      "model_module": "@jupyter-widgets/controls",
      "model_module_version": "1.5.0",
      "model_name": "FloatSliderModel",
      "state": {
       "description": "transparency",
       "layout": "IPY_MODEL_71bc512b2098424d90eb915826bf82e4",
       "max": 1,
       "step": 0.1,
       "style": "IPY_MODEL_94fe467575e84f10afa968e472e6294b"
      }
     },
     "fe77130544c74fea9c083f6b668bcfaf": {
      "model_module": "@jupyter-widgets/controls",
      "model_module_version": "1.5.0",
      "model_name": "DescriptionStyleModel",
      "state": {
       "description_width": ""
      }
     },
     "fe9595ab730a4f21a90e37b95c64eb35": {
      "model_module": "@jupyter-widgets/base",
      "model_module_version": "1.2.0",
      "model_name": "LayoutModel",
      "state": {}
     },
     "fece1e7f13bd475fac0ed48c8e36b25b": {
      "model_module": "@jupyter-widgets/controls",
      "model_module_version": "1.5.0",
      "model_name": "DropdownModel",
      "state": {
       "_options_labels": [
        "NurbsCurve2D",
        "BezierCurve2D",
        "Polyline2D",
        "Function"
       ],
       "index": 0,
       "layout": "IPY_MODEL_f3f2dbabf14c4ce7bc023cc0ac7e2774",
       "style": "IPY_MODEL_6eb1ab587c7b4b10b6c7a97e430683cf"
      }
     },
     "fed9460058884e208750ebcd25227db9": {
      "model_module": "@jupyter-widgets/controls",
      "model_module_version": "1.5.0",
      "model_name": "CheckboxModel",
      "state": {
       "description": "Auto apply",
       "disabled": false,
       "layout": "IPY_MODEL_7684bf627af64c99a1beb3e9c3800d93",
       "style": "IPY_MODEL_1f1df1d84cbd4198a124c637fd5a7782",
       "value": false
      }
     },
     "fef2dad388044251aeb285ace627b9c7": {
      "model_module": "@jupyter-widgets/base",
      "model_module_version": "1.2.0",
      "model_name": "LayoutModel",
      "state": {}
     },
     "ff9430da97704faca4a5581d596a9844": {
      "model_module": "@jupyter-widgets/base",
      "model_module_version": "1.2.0",
      "model_name": "LayoutModel",
      "state": {}
     },
     "ffc34902c36642e1969fa8c466aeb653": {
      "model_module": "@jupyter-widgets/base",
      "model_module_version": "1.2.0",
      "model_name": "LayoutModel",
      "state": {
       "margin": "20px 0px"
      }
     },
     "ffd2e60a3312408a8134cc48bad3dece": {
      "model_module": "@jupyter-widgets/controls",
      "model_module_version": "1.5.0",
      "model_name": "FloatSliderModel",
      "state": {
       "description": "diffuse",
       "layout": "IPY_MODEL_9e2c5933bf4e4702ae54e16799be5b86",
       "max": 3,
       "step": 0.1,
       "style": "IPY_MODEL_1b23eb33720947ad81bbf0cc81ea07cf",
       "value": 1
      }
     },
     "ffd47b6cfe404097909f5f4870a7fc67": {
      "model_module": "@jupyter-widgets/controls",
      "model_module_version": "1.5.0",
      "model_name": "DescriptionStyleModel",
      "state": {
       "description_width": ""
      }
     }
    },
    "version_major": 2,
    "version_minor": 0
   }
  }
 },
 "nbformat": 4,
 "nbformat_minor": 4
}
