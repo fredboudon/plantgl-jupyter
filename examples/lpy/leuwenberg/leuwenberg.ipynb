{
 "cells": [
  {
   "cell_type": "code",
   "execution_count": 1,
   "metadata": {},
   "outputs": [],
   "source": [
    "from pgljupyter import LsystemWidget"
   ]
  },
  {
   "cell_type": "code",
   "execution_count": 2,
   "metadata": {},
   "outputs": [],
   "source": [
    "lw = LsystemWidget('leuwenberg.lpy', unit='m', size_world=50, animate=True)"
   ]
  },
  {
   "cell_type": "code",
   "execution_count": 3,
   "metadata": {},
   "outputs": [
    {
     "data": {
      "application/vnd.jupyter.widget-view+json": {
       "model_id": "8c62da042dd6442d92b2bb7026266ad6",
       "version_major": 2,
       "version_minor": 0
      },
      "text/plain": [
       "LsystemWidget(animate=True, derivationLength=41, scene={'data': b'x\\xdaSLrw\\xf5\\xf7e`Pp\\xe0\\xe5RPVVde```be\\x08…"
      ]
     },
     "metadata": {},
     "output_type": "display_data"
    }
   ],
   "source": [
    "lw"
   ]
  },
  {
   "cell_type": "code",
   "execution_count": null,
   "metadata": {},
   "outputs": [],
   "source": [
    "lw.editor"
   ]
  },
  {
   "cell_type": "code",
   "execution_count": null,
   "metadata": {},
   "outputs": [],
   "source": []
  }
 ],
 "metadata": {
  "kernelspec": {
   "display_name": "Python 3",
   "language": "python",
   "name": "python3"
  },
  "language_info": {
   "codemirror_mode": {
    "name": "ipython",
    "version": 3
   },
   "file_extension": ".py",
   "mimetype": "text/x-python",
   "name": "python",
   "nbconvert_exporter": "python",
   "pygments_lexer": "ipython3",
   "version": "3.8.5"
  },
  "widgets": {
   "application/vnd.jupyter.widget-state+json": {
    "state": {
     "001bd476239c49088f30751ad638172d": {
      "model_module": "@jupyter-widgets/controls",
      "model_module_version": "1.5.0",
      "model_name": "IntSliderModel",
      "state": {
       "description": "value",
       "layout": "IPY_MODEL_a2a81572d5c148199e203c15d3709d86",
       "max": 10,
       "min": 1,
       "style": "IPY_MODEL_371f3bee91fc406e8ef326fbd6a62738",
       "value": 5
      }
     },
     "006c860d83bb44f197de8a363c8000ca": {
      "model_module": "@jupyter-widgets/base",
      "model_module_version": "1.2.0",
      "model_name": "LayoutModel",
      "state": {}
     },
     "00cac5436c8e487dae18a9ff4734dbaf": {
      "model_module": "@jupyter-widgets/controls",
      "model_module_version": "1.5.0",
      "model_name": "ButtonStyleModel",
      "state": {}
     },
     "011e5223efa649b9bf1d2bed8747815d": {
      "model_module": "@jupyter-widgets/controls",
      "model_module_version": "1.5.0",
      "model_name": "DescriptionStyleModel",
      "state": {
       "description_width": ""
      }
     },
     "01552cc098bb4739882f3ec4dc719ec8": {
      "model_module": "@jupyter-widgets/controls",
      "model_module_version": "1.5.0",
      "model_name": "DropdownModel",
      "state": {
       "_options_labels": [
        "NurbsCurve2D",
        "BezierCurve2D",
        "Polyline2D",
        "Function"
       ],
       "index": 0,
       "layout": "IPY_MODEL_4dcf6f69930d49be872b838aed6b60ef",
       "style": "IPY_MODEL_c3bb6e2e3a964b54bae4688c732ce7f1"
      }
     },
     "01a4c9607cdf48b8898781b301081a28": {
      "model_module": "@jupyter-widgets/controls",
      "model_module_version": "1.5.0",
      "model_name": "VBoxModel",
      "state": {
       "children": [
        "IPY_MODEL_c25b4590b0ae444281e4de1577dba820",
        "IPY_MODEL_29fc71175e7a45d6b518dc6b0b3abe69"
       ],
       "layout": "IPY_MODEL_88d679242d4e47da83d942cd3e60dc38"
      }
     },
     "01c976d04d3844679724e474809c158b": {
      "model_module": "@jupyter-widgets/base",
      "model_module_version": "1.2.0",
      "model_name": "LayoutModel",
      "state": {}
     },
     "01d156abe9e64f279c9e54ff54687842": {
      "model_module": "@jupyter-widgets/controls",
      "model_module_version": "1.5.0",
      "model_name": "DescriptionStyleModel",
      "state": {
       "description_width": ""
      }
     },
     "01f8e7becffd4b2dab6e12674ca3f07f": {
      "model_module": "@jupyter-widgets/controls",
      "model_module_version": "1.5.0",
      "model_name": "SliderStyleModel",
      "state": {
       "description_width": ""
      }
     },
     "024a1bedd40241b69d18bf5622dad7ab": {
      "model_module": "@jupyter-widgets/controls",
      "model_module_version": "1.5.0",
      "model_name": "DescriptionStyleModel",
      "state": {
       "description_width": ""
      }
     },
     "02a74f7bceb840a7a578defaea9f85bd": {
      "model_module": "@jupyter-widgets/base",
      "model_module_version": "1.2.0",
      "model_name": "LayoutModel",
      "state": {
       "margin": "20px 0px"
      }
     },
     "02acf25050254dd985fdf1102b507140": {
      "model_module": "@jupyter-widgets/controls",
      "model_module_version": "1.5.0",
      "model_name": "HBoxModel",
      "state": {
       "children": [
        "IPY_MODEL_b9cc05f666bc435cbe476ef8e9e4fbec",
        "IPY_MODEL_8c6d842e752a4b18b7ab2cfa3594f105"
       ],
       "layout": "IPY_MODEL_aba6237376814db3825fb7a05b492cc1"
      }
     },
     "02bb664da5f046189a579eed3aa3964f": {
      "model_module": "@jupyter-widgets/controls",
      "model_module_version": "1.5.0",
      "model_name": "IntTextModel",
      "state": {
       "description": "min",
       "layout": "IPY_MODEL_660de94f0adc4a67ad18f37582679166",
       "step": 1,
       "style": "IPY_MODEL_154d67d33ca541a4bcb159be9177f601",
       "value": 1
      }
     },
     "02bf8ebed60641da9aac3f46aa09b284": {
      "model_module": "@jupyter-widgets/controls",
      "model_module_version": "1.5.0",
      "model_name": "TextModel",
      "state": {
       "continuous_update": false,
       "description": "name",
       "layout": "IPY_MODEL_3fe29caf9acb479c9e156fc6416900ee",
       "style": "IPY_MODEL_b7601ada32964215b08802b99d20b892",
       "value": "nb_axes"
      }
     },
     "02cbf32df22e4d48bb67b3a4b211d2e7": {
      "model_module": "@jupyter-widgets/base",
      "model_module_version": "1.2.0",
      "model_name": "LayoutModel",
      "state": {}
     },
     "02dfbd0f3f494360ad5c3be0612bc61f": {
      "model_module": "@jupyter-widgets/base",
      "model_module_version": "1.2.0",
      "model_name": "LayoutModel",
      "state": {}
     },
     "0326112e674944ba9a73de236d0bc716": {
      "model_module": "@jupyter-widgets/controls",
      "model_module_version": "1.5.0",
      "model_name": "HBoxModel",
      "state": {
       "children": [
        "IPY_MODEL_97e0f25e2b234a4e8f54f9c7226139d4",
        "IPY_MODEL_c045ea0a6e574fee9cb72240ae282111",
        "IPY_MODEL_b5a60422cef947149d1cba4db4f158b1",
        "IPY_MODEL_a8dd0a308b114080bb877db875d6db5d",
        "IPY_MODEL_46c02970a0b445b38cdd36e997fef5a9"
       ],
       "layout": "IPY_MODEL_ed50075832b64beaaa7bbefb48f81c6a"
      }
     },
     "034ed870191544c4b7837fbbd29c712d": {
      "model_module": "@jupyter-widgets/controls",
      "model_module_version": "1.5.0",
      "model_name": "ButtonModel",
      "state": {
       "description": "Delete",
       "layout": "IPY_MODEL_b81af8cd3ac248688134ee4c10479ba6",
       "style": "IPY_MODEL_d736f9ff59474e2fbde6d727a08f13f6"
      }
     },
     "0358c83a7235450eb641b2d90ea8c569": {
      "model_module": "@jupyter-widgets/controls",
      "model_module_version": "1.5.0",
      "model_name": "FloatTextModel",
      "state": {
       "description": "max",
       "layout": "IPY_MODEL_889f2425f1a345fd8139244e0dbd2e35",
       "step": null,
       "style": "IPY_MODEL_1765949b291843328e53577a6b6b2261",
       "value": 0.1
      }
     },
     "0363dd6f49f04bb58c913c0d2c5c903b": {
      "model_module": "@jupyter-widgets/controls",
      "model_module_version": "1.5.0",
      "model_name": "VBoxModel",
      "state": {
       "children": [
        "IPY_MODEL_b0e428650bcd4920989735f0790ab5a4",
        "IPY_MODEL_40af17acda92411d80109dc43358e774"
       ],
       "layout": "IPY_MODEL_80cb56e577a544b7b67854bd62adcbe8"
      }
     },
     "037f7d5ac4284833bf9e8272d25a243e": {
      "model_module": "@jupyter-widgets/controls",
      "model_module_version": "1.5.0",
      "model_name": "ButtonStyleModel",
      "state": {}
     },
     "038dd9c257d341c099569c1521bb00f1": {
      "model_module": "@jupyter-widgets/controls",
      "model_module_version": "1.5.0",
      "model_name": "TabModel",
      "state": {
       "_titles": {
        "0": "leuwenberg.json"
       },
       "children": [
        "IPY_MODEL_da7312441c124645a859a4440c5e690a"
       ],
       "layout": "IPY_MODEL_3e05ba6b58e74c328014b35717708836"
      }
     },
     "03b8f58d0d4748bc8c70bc4cbd010c81": {
      "model_module": "@jupyter-widgets/controls",
      "model_module_version": "1.5.0",
      "model_name": "DescriptionStyleModel",
      "state": {
       "description_width": ""
      }
     },
     "0405e697af844b2ea91e99af5ca06901": {
      "model_module": "@jupyter-widgets/controls",
      "model_module_version": "1.5.0",
      "model_name": "DescriptionStyleModel",
      "state": {
       "description_width": ""
      }
     },
     "048bb63b5aac4025b904ec1e7f139797": {
      "model_module": "@jupyter-widgets/base",
      "model_module_version": "1.2.0",
      "model_name": "LayoutModel",
      "state": {}
     },
     "049e05cafeb2474591d9e039d80871b7": {
      "model_module": "@jupyter-widgets/controls",
      "model_module_version": "1.5.0",
      "model_name": "DescriptionStyleModel",
      "state": {
       "description_width": ""
      }
     },
     "04e56f0541674c39a651dd9c50a6c8f2": {
      "model_module": "@jupyter-widgets/controls",
      "model_module_version": "1.5.0",
      "model_name": "DescriptionStyleModel",
      "state": {
       "description_width": ""
      }
     },
     "04e75893469a40c59769c30734490d10": {
      "model_module": "@jupyter-widgets/controls",
      "model_module_version": "1.5.0",
      "model_name": "DescriptionStyleModel",
      "state": {
       "description_width": ""
      }
     },
     "0517c90068cf49819b0878b929df6a97": {
      "model_module": "@jupyter-widgets/controls",
      "model_module_version": "1.5.0",
      "model_name": "TextModel",
      "state": {
       "continuous_update": false,
       "description": "name",
       "layout": "IPY_MODEL_574863a6cad34aef8e40d8339970a06e",
       "style": "IPY_MODEL_a5cb51dbbce1400eae12508087a76361",
       "value": "NurbsCurve2D_0"
      }
     },
     "05309ec65eeb47319dd90200e4ded550": {
      "model_module": "@jupyter-widgets/controls",
      "model_module_version": "1.5.0",
      "model_name": "DropdownModel",
      "state": {
       "_options_labels": [
        "NurbsCurve2D"
       ],
       "index": 0,
       "layout": "IPY_MODEL_493d5a5387c94ff6bb50e2aaa48fcbf4",
       "style": "IPY_MODEL_7b202b2c87bf4343b5cfdad8b03600b6"
      }
     },
     "0584709e6b43421cac48ecdf7b92801e": {
      "model_module": "@jupyter-widgets/base",
      "model_module_version": "1.2.0",
      "model_name": "LayoutModel",
      "state": {}
     },
     "059cd3ead9c84420a00546dd6da8188f": {
      "model_module": "@jupyter-widgets/controls",
      "model_module_version": "1.5.0",
      "model_name": "HBoxModel",
      "state": {
       "children": [
        "IPY_MODEL_3feee74276d3421fae01be462715ffc8",
        "IPY_MODEL_fef5842bd92e42159dc06e93194ba888"
       ],
       "layout": "IPY_MODEL_1aaed1264b7e4af38e5dfa20e770f4aa"
      }
     },
     "05baa82cf2bd4d19ae29886c495c838c": {
      "model_module": "@jupyter-widgets/controls",
      "model_module_version": "1.5.0",
      "model_name": "FloatTextModel",
      "state": {
       "description": "max",
       "layout": "IPY_MODEL_fa5ab9a9bee44bd487e3af93b6960686",
       "step": null,
       "style": "IPY_MODEL_f3edf20f06664802b1ed1a7f3e4d9d75",
       "value": 0.1
      }
     },
     "05c793cf33424025941cb184db923fea": {
      "model_module": "@jupyter-widgets/controls",
      "model_module_version": "1.5.0",
      "model_name": "DescriptionStyleModel",
      "state": {
       "description_width": ""
      }
     },
     "064a6b52f9d74adca3130c88f0c1bda9": {
      "model_module": "@jupyter-widgets/base",
      "model_module_version": "1.2.0",
      "model_name": "LayoutModel",
      "state": {}
     },
     "06cce5f559ff492daf7de0450f9ce4cc": {
      "model_module": "@jupyter-widgets/base",
      "model_module_version": "1.2.0",
      "model_name": "LayoutModel",
      "state": {}
     },
     "0714f35b18a44fbaaa6d2aa26b46616e": {
      "model_module": "pgljupyter",
      "model_module_version": "^0.1.2",
      "model_name": "CurveEditorModel",
      "state": {
       "_model_module_version": "^0.1.2",
       "_view_module_version": "^0.1.2",
       "children": [
        "IPY_MODEL_a87b550ba97246eabb2a2332372e8cb5",
        "IPY_MODEL_617dd871b3974aa984eea01a4c161657"
       ],
       "layout": "IPY_MODEL_e1ab7903552947558c2f9def1fa24f2a"
      }
     },
     "07222ec0cc5f4b80ac8b7e5edc408fd8": {
      "model_module": "@jupyter-widgets/controls",
      "model_module_version": "1.5.0",
      "model_name": "DescriptionStyleModel",
      "state": {
       "description_width": ""
      }
     },
     "07424825f5c943b4b27c37d747ec046a": {
      "model_module": "@jupyter-widgets/controls",
      "model_module_version": "1.5.0",
      "model_name": "BoundedIntTextModel",
      "state": {
       "description": "step",
       "layout": "IPY_MODEL_2d70beccf69c4efc9a83cd358de0d9d2",
       "min": 1,
       "style": "IPY_MODEL_d18872a2ef9b47d0aacc9fc86e75a003",
       "value": 1
      }
     },
     "07be53bbb9d944eabc52ffbee52e5bac": {
      "model_module": "@jupyter-widgets/base",
      "model_module_version": "1.2.0",
      "model_name": "LayoutModel",
      "state": {}
     },
     "07d9bb8ab52941bd8dcb93c7cdc8d27a": {
      "model_module": "@jupyter-widgets/base",
      "model_module_version": "1.2.0",
      "model_name": "LayoutModel",
      "state": {}
     },
     "08205c4815754438a774f886dc48c434": {
      "model_module": "@jupyter-widgets/controls",
      "model_module_version": "1.5.0",
      "model_name": "ColorPickerModel",
      "state": {
       "description": "specular",
       "disabled": false,
       "layout": "IPY_MODEL_99302e31763945609667a0e4acb70120",
       "style": "IPY_MODEL_86d0c2f7ea1b44e6908bfd682ece3329",
       "value": "#478f9f"
      }
     },
     "0842b7cc38b84096bcf7901c1b64f401": {
      "model_module": "pgljupyter",
      "model_module_version": "^0.1.2",
      "model_name": "_CurveEditorModel",
      "state": {
       "_model_module_version": "^0.1.2",
       "_view_module_version": "^0.1.2",
       "control_points": [
        [
         -0.5,
         0
        ],
        [
         -0.2318181818181818,
         0.2909090909090909
        ],
        [
         0.22272727272727277,
         -0.15909090909090906
        ],
        [
         0.5,
         0
        ]
       ],
       "curve_type": "Polyline2D",
       "layout": "IPY_MODEL_c93fac566bbf44a09ddc34c6f6532ae3"
      }
     },
     "085cf00af7e74f6a8bdf8faa2bd45c79": {
      "model_module": "@jupyter-widgets/base",
      "model_module_version": "1.2.0",
      "model_name": "LayoutModel",
      "state": {}
     },
     "08a4960b5d9a400f9e7acdae1bc9b992": {
      "model_module": "@jupyter-widgets/base",
      "model_module_version": "1.2.0",
      "model_name": "LayoutModel",
      "state": {}
     },
     "08ea1418a4b2409ba8dd9cedfd95eebc": {
      "model_module": "@jupyter-widgets/base",
      "model_module_version": "1.2.0",
      "model_name": "LayoutModel",
      "state": {}
     },
     "0902933020a846afa086a4dc7ee249a4": {
      "model_module": "@jupyter-widgets/controls",
      "model_module_version": "1.5.0",
      "model_name": "HBoxModel",
      "state": {
       "children": [
        "IPY_MODEL_82677ec5f54f4726a069d2eae97e6773",
        "IPY_MODEL_02acf25050254dd985fdf1102b507140"
       ],
       "layout": "IPY_MODEL_1aaed1264b7e4af38e5dfa20e770f4aa"
      }
     },
     "0903b539bd9a4b7e8455db6e48fb9bd6": {
      "model_module": "@jupyter-widgets/base",
      "model_module_version": "1.2.0",
      "model_name": "LayoutModel",
      "state": {}
     },
     "096a27de4fb74defab7139814791f0a3": {
      "model_module": "@jupyter-widgets/controls",
      "model_module_version": "1.5.0",
      "model_name": "FloatSliderModel",
      "state": {
       "description": "diffuse",
       "layout": "IPY_MODEL_08ea1418a4b2409ba8dd9cedfd95eebc",
       "max": 1,
       "step": 0.1,
       "style": "IPY_MODEL_6e422346b87a4c5b92c0c8c310df3122",
       "value": 1
      }
     },
     "09dfcde008254f4aa25bc052f1e1311c": {
      "model_module": "@jupyter-widgets/controls",
      "model_module_version": "1.5.0",
      "model_name": "DescriptionStyleModel",
      "state": {
       "description_width": ""
      }
     },
     "0a24786ecfbe4e24a5250a48a1b6d358": {
      "model_module": "@jupyter-widgets/controls",
      "model_module_version": "1.5.0",
      "model_name": "DescriptionStyleModel",
      "state": {
       "description_width": ""
      }
     },
     "0a2938deb20642c5988031f8dc64848d": {
      "model_module": "@jupyter-widgets/controls",
      "model_module_version": "1.5.0",
      "model_name": "TextModel",
      "state": {
       "continuous_update": false,
       "description": "name",
       "layout": "IPY_MODEL_4bbbae79a86144d493f18b5c2c7594dc",
       "style": "IPY_MODEL_5869b36a3dbb49e7ac247b1feb7974f0",
       "value": "leafold"
      }
     },
     "0a2a346a9e664a96a6f6cb0da81b7342": {
      "model_module": "@jupyter-widgets/controls",
      "model_module_version": "1.5.0",
      "model_name": "DescriptionStyleModel",
      "state": {
       "description_width": ""
      }
     },
     "0a355b70c57941fbb20a58855b908353": {
      "model_module": "@jupyter-widgets/controls",
      "model_module_version": "1.5.0",
      "model_name": "ButtonModel",
      "state": {
       "description": "Delete",
       "layout": "IPY_MODEL_0d61559a1e0e41aa92e8f9ac674830ad",
       "style": "IPY_MODEL_82893840318449eab8bab08d11caa85a"
      }
     },
     "0a63f463c5d8470ebb1e732d48fd1d86": {
      "model_module": "@jupyter-widgets/base",
      "model_module_version": "1.2.0",
      "model_name": "LayoutModel",
      "state": {}
     },
     "0aa1b06dc5f043478644fff372f306a6": {
      "model_module": "@jupyter-widgets/base",
      "model_module_version": "1.2.0",
      "model_name": "LayoutModel",
      "state": {}
     },
     "0ad52567a05440bfa1b7f62f0dcd33e5": {
      "model_module": "@jupyter-widgets/controls",
      "model_module_version": "1.5.0",
      "model_name": "TextModel",
      "state": {
       "continuous_update": false,
       "description": "name",
       "layout": "IPY_MODEL_d0f01479a05d433d9dea0f06d6e5c866",
       "style": "IPY_MODEL_275ac823b0bb4043b623929cb56cc202",
       "value": "leafold"
      }
     },
     "0b38fbfb4d1f4b9995215a9f3e2c4a51": {
      "model_module": "@jupyter-widgets/base",
      "model_module_version": "1.2.0",
      "model_name": "LayoutModel",
      "state": {}
     },
     "0b4645fbad8a429ea2d3c445d6b538cc": {
      "model_module": "@jupyter-widgets/base",
      "model_module_version": "1.2.0",
      "model_name": "LayoutModel",
      "state": {}
     },
     "0b4c4d71ec8e44e68cc9250e5069637a": {
      "model_module": "@jupyter-widgets/base",
      "model_module_version": "1.2.0",
      "model_name": "LayoutModel",
      "state": {}
     },
     "0ba7676259d7491a81763d0d58244173": {
      "model_module": "@jupyter-widgets/controls",
      "model_module_version": "1.5.0",
      "model_name": "SliderStyleModel",
      "state": {
       "description_width": ""
      }
     },
     "0c10f805bff84441b05ffd189a5c8661": {
      "model_module": "@jupyter-widgets/controls",
      "model_module_version": "1.5.0",
      "model_name": "DescriptionStyleModel",
      "state": {
       "description_width": ""
      }
     },
     "0c3ed52dd9c4401a928899a1f8bd760f": {
      "model_module": "@jupyter-widgets/base",
      "model_module_version": "1.2.0",
      "model_name": "LayoutModel",
      "state": {}
     },
     "0c82adbe02b14ee888134148a12ab08a": {
      "model_module": "@jupyter-widgets/controls",
      "model_module_version": "1.5.0",
      "model_name": "HBoxModel",
      "state": {
       "layout": "IPY_MODEL_fe0cdcc6562e4d7b98662c718d50f517"
      }
     },
     "0cbe358ee0dd4965a43e04c56c73e8c6": {
      "model_module": "@jupyter-widgets/base",
      "model_module_version": "1.2.0",
      "model_name": "LayoutModel",
      "state": {}
     },
     "0cc395aa40e94b989a548febcfdb5e05": {
      "model_module": "@jupyter-widgets/controls",
      "model_module_version": "1.5.0",
      "model_name": "IntSliderModel",
      "state": {
       "description": "value",
       "layout": "IPY_MODEL_b48db2e5fcaa41a3b57d77147d5c6ee4",
       "max": 10,
       "min": 1,
       "style": "IPY_MODEL_ab025d81fa764c8aa87ff6d432656adf",
       "value": 6
      }
     },
     "0ce72c849bc04be1ace040e227e17d68": {
      "model_module": "@jupyter-widgets/controls",
      "model_module_version": "1.5.0",
      "model_name": "BoundedIntTextModel",
      "state": {
       "description": "index",
       "layout": "IPY_MODEL_f87af6e13bdd4e268f395b44ce991bbf",
       "style": "IPY_MODEL_dc1c563d342944eaa299bfa37de8cde0",
       "value": 1
      }
     },
     "0cf9ede31aee4c9dad31d76457db7941": {
      "model_module": "@jupyter-widgets/base",
      "model_module_version": "1.2.0",
      "model_name": "LayoutModel",
      "state": {}
     },
     "0d1986f50e824e3ab46c0c00906d8520": {
      "model_module": "@jupyter-widgets/base",
      "model_module_version": "1.2.0",
      "model_name": "LayoutModel",
      "state": {}
     },
     "0d4aef8d0e3947f39cd16894ccb136e4": {
      "model_module": "@jupyter-widgets/base",
      "model_module_version": "1.2.0",
      "model_name": "LayoutModel",
      "state": {}
     },
     "0d61559a1e0e41aa92e8f9ac674830ad": {
      "model_module": "@jupyter-widgets/base",
      "model_module_version": "1.2.0",
      "model_name": "LayoutModel",
      "state": {}
     },
     "0de9d0bab3ea4b2aacaf915738257b82": {
      "model_module": "@jupyter-widgets/controls",
      "model_module_version": "1.5.0",
      "model_name": "FloatSliderModel",
      "state": {
       "description": "shininess",
       "layout": "IPY_MODEL_25423d7867684f20b9048daf5ead1cae",
       "max": 1,
       "step": 0.1,
       "style": "IPY_MODEL_5d57049901ac483088e46ecaa3b6c0ee",
       "value": 0.2
      }
     },
     "0e05773846dd43f0a96847656f764a7b": {
      "model_module": "@jupyter-widgets/controls",
      "model_module_version": "1.5.0",
      "model_name": "SliderStyleModel",
      "state": {
       "description_width": ""
      }
     },
     "0e22aeb0f36947afb43a810578887e6e": {
      "model_module": "@jupyter-widgets/base",
      "model_module_version": "1.2.0",
      "model_name": "LayoutModel",
      "state": {}
     },
     "0e232481024146b19ac53c3590e4a691": {
      "model_module": "@jupyter-widgets/base",
      "model_module_version": "1.2.0",
      "model_name": "LayoutModel",
      "state": {}
     },
     "0e561db39e6d403fab220679e082dae5": {
      "model_module": "@jupyter-widgets/controls",
      "model_module_version": "1.5.0",
      "model_name": "DescriptionStyleModel",
      "state": {
       "description_width": ""
      }
     },
     "0e7521f16ae74e2a84f8a00ec22a1258": {
      "model_module": "@jupyter-widgets/controls",
      "model_module_version": "1.5.0",
      "model_name": "ButtonStyleModel",
      "state": {}
     },
     "0e9c1105c42e4e7787c3c15d410f7b5c": {
      "model_module": "@jupyter-widgets/controls",
      "model_module_version": "1.5.0",
      "model_name": "ButtonStyleModel",
      "state": {}
     },
     "0ed504f05672436b8bc3cfae1bbaa9b0": {
      "model_module": "@jupyter-widgets/controls",
      "model_module_version": "1.5.0",
      "model_name": "DescriptionStyleModel",
      "state": {
       "description_width": ""
      }
     },
     "0ed76f9058054c2e872da6c9c3e56420": {
      "model_module": "@jupyter-widgets/base",
      "model_module_version": "1.2.0",
      "model_name": "LayoutModel",
      "state": {}
     },
     "0ef6e123ddf3495bb17340ee09e66755": {
      "model_module": "@jupyter-widgets/controls",
      "model_module_version": "1.5.0",
      "model_name": "FloatSliderModel",
      "state": {
       "description": "diffuse",
       "layout": "IPY_MODEL_9533a3e0ce41459f818837dd25b5e7bf",
       "max": 1,
       "step": 0.1,
       "style": "IPY_MODEL_1387a98a11014992b1d98d822b029511",
       "value": 1
      }
     },
     "0effd504a4974e6abb5357847527ec57": {
      "model_module": "@jupyter-widgets/base",
      "model_module_version": "1.2.0",
      "model_name": "LayoutModel",
      "state": {}
     },
     "0f8c2f3fd66b445cb01eca6fb7b40014": {
      "model_module": "@jupyter-widgets/base",
      "model_module_version": "1.2.0",
      "model_name": "LayoutModel",
      "state": {
       "margin": "20px 0px"
      }
     },
     "0fac894dada84693a4a032abae38a833": {
      "model_module": "@jupyter-widgets/base",
      "model_module_version": "1.2.0",
      "model_name": "LayoutModel",
      "state": {}
     },
     "0fc05305117943d28f9afe7ecc9aa553": {
      "model_module": "@jupyter-widgets/base",
      "model_module_version": "1.2.0",
      "model_name": "LayoutModel",
      "state": {}
     },
     "1011fc19b1da457cba092f3ff3475f19": {
      "model_module": "@jupyter-widgets/controls",
      "model_module_version": "1.5.0",
      "model_name": "DescriptionStyleModel",
      "state": {
       "description_width": ""
      }
     },
     "1025d095d9fd45ac972ac75098ab94e7": {
      "model_module": "@jupyter-widgets/controls",
      "model_module_version": "1.5.0",
      "model_name": "DescriptionStyleModel",
      "state": {
       "description_width": ""
      }
     },
     "104352056e5f44cfaf9dcfd6016912fa": {
      "model_module": "@jupyter-widgets/controls",
      "model_module_version": "1.5.0",
      "model_name": "IntTextModel",
      "state": {
       "description": "min",
       "layout": "IPY_MODEL_c3adb797a20341a3acbdfcff67be93eb",
       "step": 1,
       "style": "IPY_MODEL_588d64f172f4413783d455778353f9b9",
       "value": 1
      }
     },
     "10589094c39140b8919a9555a61f9f09": {
      "model_module": "@jupyter-widgets/base",
      "model_module_version": "1.2.0",
      "model_name": "LayoutModel",
      "state": {}
     },
     "10893dfae19b4de6a2046bb69cc1f99d": {
      "model_module": "@jupyter-widgets/base",
      "model_module_version": "1.2.0",
      "model_name": "LayoutModel",
      "state": {}
     },
     "10ae33d3c2ef4b328d1bae3a015fb740": {
      "model_module": "@jupyter-widgets/controls",
      "model_module_version": "1.5.0",
      "model_name": "TextModel",
      "state": {
       "continuous_update": false,
       "description": "name",
       "layout": "IPY_MODEL_1219b7e3e94b4dd897566415affb257d",
       "style": "IPY_MODEL_3a3644138ae2464abb81977f0024665a",
       "value": "leafduration"
      }
     },
     "115c4d2a4acf46039c293faf949b633c": {
      "model_module": "@jupyter-widgets/controls",
      "model_module_version": "1.5.0",
      "model_name": "DescriptionStyleModel",
      "state": {
       "description_width": ""
      }
     },
     "11666e3ab0134886a3a2bd9c01bc5605": {
      "model_module": "@jupyter-widgets/controls",
      "model_module_version": "1.5.0",
      "model_name": "ButtonStyleModel",
      "state": {}
     },
     "1185a17bd8db4a66b9aefc32c359538c": {
      "model_module": "@jupyter-widgets/controls",
      "model_module_version": "1.5.0",
      "model_name": "DescriptionStyleModel",
      "state": {
       "description_width": ""
      }
     },
     "1197ccef20ad42c09a38c91de1f4c7e7": {
      "model_module": "@jupyter-widgets/base",
      "model_module_version": "1.2.0",
      "model_name": "LayoutModel",
      "state": {}
     },
     "1199b29ae2c043a9970f55d5b94d1758": {
      "model_module": "@jupyter-widgets/controls",
      "model_module_version": "1.5.0",
      "model_name": "DescriptionStyleModel",
      "state": {
       "description_width": ""
      }
     },
     "11c65fd9468f412f9b63e9f47a99b801": {
      "model_module": "@jupyter-widgets/controls",
      "model_module_version": "1.5.0",
      "model_name": "ButtonModel",
      "state": {
       "description": "Delete",
       "layout": "IPY_MODEL_b37521b60a7647d9899e3d42829b78ef",
       "style": "IPY_MODEL_11666e3ab0134886a3a2bd9c01bc5605"
      }
     },
     "11eb943263dd4960811ae0dbed24247c": {
      "model_module": "@jupyter-widgets/controls",
      "model_module_version": "1.5.0",
      "model_name": "HBoxModel",
      "state": {
       "children": [
        "IPY_MODEL_24004e8b0cf046d9b7bafca13b3868f6",
        "IPY_MODEL_e7d57c4c8c8a4814a66792e624eab80b",
        "IPY_MODEL_8924e7490b8d474abb523195f04639b9",
        "IPY_MODEL_aed6ac227b8f4daf8ad908b7f8fa98f3"
       ],
       "layout": "IPY_MODEL_f56daa410ee44854874b448e60b2c3c9"
      }
     },
     "1219b7e3e94b4dd897566415affb257d": {
      "model_module": "@jupyter-widgets/base",
      "model_module_version": "1.2.0",
      "model_name": "LayoutModel",
      "state": {}
     },
     "122b9ccaf98349639dc497a0aa0de2ff": {
      "model_module": "@jupyter-widgets/controls",
      "model_module_version": "1.5.0",
      "model_name": "SliderStyleModel",
      "state": {
       "description_width": ""
      }
     },
     "1253cd622c1c482c89f69b0f741abc8e": {
      "model_module": "pgljupyter",
      "model_module_version": "^0.1.2",
      "model_name": "CurveEditorModel",
      "state": {
       "_model_module_version": "^0.1.2",
       "_view_module_version": "^0.1.2",
       "children": [
        "IPY_MODEL_d7491fcbf98547ae97e45969885079fc",
        "IPY_MODEL_0842b7cc38b84096bcf7901c1b64f401"
       ],
       "layout": "IPY_MODEL_7a66ebfca84d4999a5bee673f10e7c52"
      }
     },
     "128f91d47bf648dbb677701003fe8c5d": {
      "model_module": "@jupyter-widgets/controls",
      "model_module_version": "1.5.0",
      "model_name": "IntTextModel",
      "state": {
       "description": "max",
       "layout": "IPY_MODEL_d3b13ba67468411db6f44f89eafdb3e3",
       "step": 1,
       "style": "IPY_MODEL_99e452c25df34ce1bcd194a8877b7a0d",
       "value": 10
      }
     },
     "12b092c41ce34f619a03357203c1a0cc": {
      "model_module": "@jupyter-widgets/controls",
      "model_module_version": "1.5.0",
      "model_name": "TextModel",
      "state": {
       "continuous_update": false,
       "description": "name",
       "layout": "IPY_MODEL_02cbf32df22e4d48bb67b3a4b211d2e7",
       "style": "IPY_MODEL_200f96bdd5bc4d3597c28abbe9aaf953",
       "value": "leafduration"
      }
     },
     "12bff2a628604b9eb7d4bf50dfd9fb0a": {
      "model_module": "pgljupyter",
      "model_module_version": "^0.1.14",
      "model_name": "IntEditorModel",
      "state": {
       "_model_module_version": "^0.1.14",
       "_view_module_version": "^0.1.14",
       "children": [
        "IPY_MODEL_2a740364a2104b03a11e1170744d7e9d",
        "IPY_MODEL_6ca82095fc0d4e50a0b01f7e9feaae50",
        "IPY_MODEL_92a49b08882b4b28ae92e9d4b56b4441",
        "IPY_MODEL_a76b498b5d11439291fcd0c672943363",
        "IPY_MODEL_1cd1e989add64aaaaeb949cbed8d98b6"
       ],
       "layout": "IPY_MODEL_45249b3ec9cf468b928f4b5e1c4e6691"
      }
     },
     "12d98c8458334e21a9e3cd6b09cec97d": {
      "model_module": "@jupyter-widgets/base",
      "model_module_version": "1.2.0",
      "model_name": "LayoutModel",
      "state": {}
     },
     "12f7c4ba0f6d4b888ba73f16f369a10a": {
      "model_module": "@jupyter-widgets/controls",
      "model_module_version": "1.5.0",
      "model_name": "SliderStyleModel",
      "state": {
       "description_width": ""
      }
     },
     "131741e3815e454a88aab69225f6d919": {
      "model_module": "@jupyter-widgets/base",
      "model_module_version": "1.2.0",
      "model_name": "LayoutModel",
      "state": {}
     },
     "1387a98a11014992b1d98d822b029511": {
      "model_module": "@jupyter-widgets/controls",
      "model_module_version": "1.5.0",
      "model_name": "SliderStyleModel",
      "state": {
       "description_width": ""
      }
     },
     "138e5976c87e467db45a4df41b5803ab": {
      "model_module": "@jupyter-widgets/controls",
      "model_module_version": "1.5.0",
      "model_name": "DescriptionStyleModel",
      "state": {
       "description_width": ""
      }
     },
     "13f0d0a4d0aa4c2785e171b7994d4969": {
      "model_module": "@jupyter-widgets/controls",
      "model_module_version": "1.5.0",
      "model_name": "CheckboxModel",
      "state": {
       "description": "Auto apply",
       "disabled": false,
       "layout": "IPY_MODEL_23d2d9d7755548eba8e69ea035c03d9a",
       "style": "IPY_MODEL_e4d183dca0944a01b23d4f4e77be074e",
       "value": false
      }
     },
     "14817bde845446ec9c7495a6741273f0": {
      "model_module": "@jupyter-widgets/controls",
      "model_module_version": "1.5.0",
      "model_name": "ColorPickerModel",
      "state": {
       "description": "ambient",
       "disabled": false,
       "layout": "IPY_MODEL_bd68f36a479d4228921e20a022470d19",
       "style": "IPY_MODEL_dcc692a1e723402b8515dab5a7fae469",
       "value": "#5b4534"
      }
     },
     "1481ac602d8941e0885c08d06e6e0e82": {
      "model_module": "@jupyter-widgets/controls",
      "model_module_version": "1.5.0",
      "model_name": "DescriptionStyleModel",
      "state": {
       "description_width": ""
      }
     },
     "14a44227159b47778c370ebd1c39ce7d": {
      "model_module": "@jupyter-widgets/controls",
      "model_module_version": "1.5.0",
      "model_name": "DescriptionStyleModel",
      "state": {
       "description_width": ""
      }
     },
     "14b6bd5944294c1584714b8a69fb3b44": {
      "model_module": "@jupyter-widgets/controls",
      "model_module_version": "1.5.0",
      "model_name": "DescriptionStyleModel",
      "state": {
       "description_width": ""
      }
     },
     "151c5acb043a4b0eabbac8165dd9cdf6": {
      "model_module": "@jupyter-widgets/controls",
      "model_module_version": "1.5.0",
      "model_name": "HBoxModel",
      "state": {
       "children": [
        "IPY_MODEL_e4c3ae23f2c148a1905e022a86917212",
        "IPY_MODEL_e8a1293c8e404f6fbab9134c12c64ea0",
        "IPY_MODEL_617cdacfed1949cab54a16c180c5110d",
        "IPY_MODEL_f0961c83040b4faa9cfb09490c929cd8"
       ],
       "layout": "IPY_MODEL_ed50075832b64beaaa7bbefb48f81c6a"
      }
     },
     "1528398a025c46599e2ad6d8bc592960": {
      "model_module": "@jupyter-widgets/controls",
      "model_module_version": "1.5.0",
      "model_name": "ButtonStyleModel",
      "state": {}
     },
     "1530bfd1074a4e8fbad49b4df4e964b5": {
      "model_module": "@jupyter-widgets/base",
      "model_module_version": "1.2.0",
      "model_name": "LayoutModel",
      "state": {}
     },
     "154d67d33ca541a4bcb159be9177f601": {
      "model_module": "@jupyter-widgets/controls",
      "model_module_version": "1.5.0",
      "model_name": "DescriptionStyleModel",
      "state": {
       "description_width": ""
      }
     },
     "15897f39c9c241c994c93955c340fb6b": {
      "model_module": "@jupyter-widgets/controls",
      "model_module_version": "1.5.0",
      "model_name": "ButtonModel",
      "state": {
       "description": "Add",
       "layout": "IPY_MODEL_471581ae848649c4b2d3b9f91531c7c1",
       "style": "IPY_MODEL_6fa1a051eef947a3b163d4793ac7cd99"
      }
     },
     "1589dbc794cb4fdbb7b00fed8ec48fbc": {
      "model_module": "@jupyter-widgets/controls",
      "model_module_version": "1.5.0",
      "model_name": "FloatTextModel",
      "state": {
       "description": "min",
       "layout": "IPY_MODEL_4496978ebaf74413b5605902d2da87b2",
       "step": null,
       "style": "IPY_MODEL_201f90f3a31f4794a7a9e3bb7865bed4",
       "value": 0.01
      }
     },
     "1616c42d4a9d4dda86ccd31e0daab07e": {
      "model_module": "@jupyter-widgets/controls",
      "model_module_version": "1.5.0",
      "model_name": "HBoxModel",
      "state": {
       "children": [
        "IPY_MODEL_2a4bbc7e6c3447c5935944e8013bf97a",
        "IPY_MODEL_732ac2d708ad47fdb574a1a8c15d0c15"
       ],
       "layout": "IPY_MODEL_dd33ed74409b4c0795183b005c20d306"
      }
     },
     "1680908bd17c4edeb5c4ae807790a86e": {
      "model_module": "@jupyter-widgets/controls",
      "model_module_version": "1.5.0",
      "model_name": "FloatSliderModel",
      "state": {
       "description": "transparency",
       "layout": "IPY_MODEL_6d4e317147e84ef3b9b7c3f7e4942242",
       "max": 1,
       "step": 0.1,
       "style": "IPY_MODEL_ef252b502441432d8ac2b0627de04cbc"
      }
     },
     "16e49243964a48618d68e8e278e7d9bd": {
      "model_module": "@jupyter-widgets/controls",
      "model_module_version": "1.5.0",
      "model_name": "DescriptionStyleModel",
      "state": {
       "description_width": ""
      }
     },
     "172d24bdeae5405a87e01faf7c467b74": {
      "model_module": "@jupyter-widgets/controls",
      "model_module_version": "1.5.0",
      "model_name": "TextModel",
      "state": {
       "layout": "IPY_MODEL_72be601bf3de43f19d42560f035c724d",
       "placeholder": "category name",
       "style": "IPY_MODEL_85264ec201b444b792a8393ea0895cc6"
      }
     },
     "173645c006e54ca09cd20c3bf28eb540": {
      "model_module": "@jupyter-widgets/controls",
      "model_module_version": "1.5.0",
      "model_name": "ButtonModel",
      "state": {
       "description": "Add",
       "layout": "IPY_MODEL_5d8aae870bc94dcea2e224eec7234ffb",
       "style": "IPY_MODEL_a760a9622c8243c3b985b4c992cfd505"
      }
     },
     "175d04d73b0f432ebe88e418f42348fe": {
      "model_module": "@jupyter-widgets/controls",
      "model_module_version": "1.5.0",
      "model_name": "FloatSliderModel",
      "state": {
       "description": "diffuse",
       "layout": "IPY_MODEL_c3d84a4110fe40599578882c9599c41f",
       "max": 1,
       "step": 0.1,
       "style": "IPY_MODEL_f07b9cc7bedd486eab67bbefbe1b3a81",
       "value": 1
      }
     },
     "1765949b291843328e53577a6b6b2261": {
      "model_module": "@jupyter-widgets/controls",
      "model_module_version": "1.5.0",
      "model_name": "DescriptionStyleModel",
      "state": {
       "description_width": ""
      }
     },
     "177cde17762546bcb143df6017c2bd65": {
      "model_module": "@jupyter-widgets/controls",
      "model_module_version": "1.5.0",
      "model_name": "BoundedIntTextModel",
      "state": {
       "description": "step",
       "layout": "IPY_MODEL_2022b212d13347cba9b3da0111411722",
       "min": 1,
       "style": "IPY_MODEL_5d0e1dc0975846b6b54717b2447cc767",
       "value": 1
      }
     },
     "1786a5b630e24873893aa84cb0714b47": {
      "model_module": "@jupyter-widgets/base",
      "model_module_version": "1.2.0",
      "model_name": "LayoutModel",
      "state": {
       "margin": "20px 0px"
      }
     },
     "17ca4c748f7a4d0cb35375a65128cde3": {
      "model_module": "@jupyter-widgets/base",
      "model_module_version": "1.2.0",
      "model_name": "LayoutModel",
      "state": {}
     },
     "1834dc530a084c8498f3cad2f679f317": {
      "model_module": "@jupyter-widgets/base",
      "model_module_version": "1.2.0",
      "model_name": "LayoutModel",
      "state": {
       "margin": "20px 0px"
      }
     },
     "1887cc7298b24d14826641b5481a0943": {
      "model_module": "@jupyter-widgets/controls",
      "model_module_version": "1.5.0",
      "model_name": "ButtonModel",
      "state": {
       "description": "Delete",
       "layout": "IPY_MODEL_1eb772eb43724a548d4285e75d7af08e",
       "style": "IPY_MODEL_85a4b553864b446484511bd08e7f28b4"
      }
     },
     "18c0fca902124468aca6bdc66c67ae6f": {
      "model_module": "@jupyter-widgets/controls",
      "model_module_version": "1.5.0",
      "model_name": "DescriptionStyleModel",
      "state": {
       "description_width": ""
      }
     },
     "18f4a9848e8748e0b6f14cc8ad8b33d1": {
      "model_module": "@jupyter-widgets/controls",
      "model_module_version": "1.5.0",
      "model_name": "DescriptionStyleModel",
      "state": {
       "description_width": ""
      }
     },
     "19496a4bd7a1437684fa4fc33a581b5a": {
      "model_module": "@jupyter-widgets/controls",
      "model_module_version": "1.5.0",
      "model_name": "BoundedIntTextModel",
      "state": {
       "description": "index",
       "layout": "IPY_MODEL_aeb91fa0b8734177b8d24b6923d62633",
       "style": "IPY_MODEL_e553c2f8eeb9415c82b98e1a6115e9d8",
       "value": 2
      }
     },
     "19d5ed6b5b74424fa7cdb765d4b9a589": {
      "model_module": "@jupyter-widgets/controls",
      "model_module_version": "1.5.0",
      "model_name": "DescriptionStyleModel",
      "state": {
       "description_width": ""
      }
     },
     "19db9ae357b3453fbd2da22eadb8956e": {
      "model_module": "@jupyter-widgets/base",
      "model_module_version": "1.2.0",
      "model_name": "LayoutModel",
      "state": {}
     },
     "19ebea118db54d3a98ecb0009e792ed9": {
      "model_module": "@jupyter-widgets/controls",
      "model_module_version": "1.5.0",
      "model_name": "TextModel",
      "state": {
       "continuous_update": false,
       "description": "name",
       "layout": "IPY_MODEL_e9a35bdd82414d47ad0f97d860c1798a",
       "style": "IPY_MODEL_60af561202804091b4f43cb7d49813b4",
       "value": "color_4"
      }
     },
     "1a27b21bce904332a4684e5393644e7e": {
      "model_module": "@jupyter-widgets/controls",
      "model_module_version": "1.5.0",
      "model_name": "BoundedIntTextModel",
      "state": {
       "description": "index",
       "layout": "IPY_MODEL_a1c5657c57dd4420947b7a9efdc5fd3e",
       "style": "IPY_MODEL_30e2a75e992f460bb155f12690c18296",
       "value": 4
      }
     },
     "1a360a5c3c3e466d911a03a19d817dca": {
      "model_module": "@jupyter-widgets/controls",
      "model_module_version": "1.5.0",
      "model_name": "DropdownModel",
      "state": {
       "_options_labels": [
        "Color"
       ],
       "index": 0,
       "layout": "IPY_MODEL_a3715a6606264b1385e17c255e8e7b7d",
       "style": "IPY_MODEL_d5ed232c37c645d287f93804c2a7a50c"
      }
     },
     "1a573eadc9614551b2751a0416609504": {
      "model_module": "@jupyter-widgets/base",
      "model_module_version": "1.2.0",
      "model_name": "LayoutModel",
      "state": {}
     },
     "1aaed1264b7e4af38e5dfa20e770f4aa": {
      "model_module": "@jupyter-widgets/base",
      "model_module_version": "1.2.0",
      "model_name": "LayoutModel",
      "state": {
       "flex_flow": "row wrap",
       "margin": "20px"
      }
     },
     "1aaf66a79c4a4516be6c818d516db912": {
      "model_module": "@jupyter-widgets/base",
      "model_module_version": "1.2.0",
      "model_name": "LayoutModel",
      "state": {}
     },
     "1ad9140c1875480d863b5acb4704479b": {
      "model_module": "@jupyter-widgets/controls",
      "model_module_version": "1.5.0",
      "model_name": "FloatSliderModel",
      "state": {
       "description": "shininess",
       "layout": "IPY_MODEL_8bf9b39e28e14f21bbc488f01e8d389d",
       "max": 1,
       "step": 0.1,
       "style": "IPY_MODEL_5c5d43ff238d401bb3938a61a166e488",
       "value": 0.2
      }
     },
     "1b002d52de5247adb6af34b05dc2002f": {
      "model_module": "@jupyter-widgets/base",
      "model_module_version": "1.2.0",
      "model_name": "LayoutModel",
      "state": {}
     },
     "1b028107b51247fa803a26d5565694cb": {
      "model_module": "@jupyter-widgets/base",
      "model_module_version": "1.2.0",
      "model_name": "LayoutModel",
      "state": {}
     },
     "1b226e991f4a4f2d924d9603e31020a1": {
      "model_module": "@jupyter-widgets/controls",
      "model_module_version": "1.5.0",
      "model_name": "SliderStyleModel",
      "state": {
       "description_width": ""
      }
     },
     "1b4d26f7fa1e425fa0fa1b21020be265": {
      "model_module": "@jupyter-widgets/controls",
      "model_module_version": "1.5.0",
      "model_name": "DescriptionStyleModel",
      "state": {
       "description_width": ""
      }
     },
     "1b7eb2c7a1744177a4f8587caf59f856": {
      "model_module": "@jupyter-widgets/controls",
      "model_module_version": "1.5.0",
      "model_name": "DescriptionStyleModel",
      "state": {
       "description_width": ""
      }
     },
     "1bb3336d4bef4979b9bb018af7f4fdc4": {
      "model_module": "@jupyter-widgets/controls",
      "model_module_version": "1.5.0",
      "model_name": "IntTextModel",
      "state": {
       "description": "max",
       "layout": "IPY_MODEL_8815d743dee0457d8be8b0a8c46923f3",
       "step": 1,
       "style": "IPY_MODEL_0c10f805bff84441b05ffd189a5c8661",
       "value": 10
      }
     },
     "1bc3f0f3b6b74005b830717c2c436ca2": {
      "model_module": "@jupyter-widgets/base",
      "model_module_version": "1.2.0",
      "model_name": "LayoutModel",
      "state": {}
     },
     "1bcadc721303432abe9c782e04d39bdb": {
      "model_module": "@jupyter-widgets/base",
      "model_module_version": "1.2.0",
      "model_name": "LayoutModel",
      "state": {
       "flex_flow": "row wrap",
       "margin": "20px"
      }
     },
     "1c12d2076c114cc18effe90b27c58098": {
      "model_module": "@jupyter-widgets/controls",
      "model_module_version": "1.5.0",
      "model_name": "BoundedIntTextModel",
      "state": {
       "description": "step",
       "layout": "IPY_MODEL_d305647879de4f31a874fda6cab632eb",
       "min": 1,
       "style": "IPY_MODEL_c5ed3c7a721e4e818c8d622ff9e795f8",
       "value": 1
      }
     },
     "1c3d38ee1f964fde95a7170d37019f06": {
      "model_module": "@jupyter-widgets/controls",
      "model_module_version": "1.5.0",
      "model_name": "DescriptionStyleModel",
      "state": {
       "description_width": ""
      }
     },
     "1c407f550b804b298b4387b1c3ea9fbb": {
      "model_module": "@jupyter-widgets/controls",
      "model_module_version": "1.5.0",
      "model_name": "ColorPickerModel",
      "state": {
       "description": "emission",
       "disabled": false,
       "layout": "IPY_MODEL_f71c0ec700c74e548e733aac9694d998",
       "style": "IPY_MODEL_8773584cbfee41468190d5e50df8670d",
       "value": "#000000"
      }
     },
     "1c7cf59a39db4f008dda191639910e38": {
      "model_module": "@jupyter-widgets/base",
      "model_module_version": "1.2.0",
      "model_name": "LayoutModel",
      "state": {}
     },
     "1ca38f8de5c14488a96798aa1fb3bff0": {
      "model_module": "@jupyter-widgets/controls",
      "model_module_version": "1.5.0",
      "model_name": "SliderStyleModel",
      "state": {
       "description_width": ""
      }
     },
     "1cd1e989add64aaaaeb949cbed8d98b6": {
      "model_module": "@jupyter-widgets/controls",
      "model_module_version": "1.5.0",
      "model_name": "BoundedIntTextModel",
      "state": {
       "description": "step",
       "layout": "IPY_MODEL_81991c46676647618c0846129eb9253f",
       "min": 1,
       "style": "IPY_MODEL_1b4d26f7fa1e425fa0fa1b21020be265",
       "value": 1
      }
     },
     "1d0f39de364f42fca2ee489b0ac61eaa": {
      "model_module": "@jupyter-widgets/controls",
      "model_module_version": "1.5.0",
      "model_name": "DescriptionStyleModel",
      "state": {
       "description_width": ""
      }
     },
     "1d143d9919154875be616ca354e10d87": {
      "model_module": "@jupyter-widgets/controls",
      "model_module_version": "1.5.0",
      "model_name": "ColorPickerModel",
      "state": {
       "description": "specular",
       "disabled": false,
       "layout": "IPY_MODEL_8424cbe703b64aaab52fcf022d5b86ef",
       "style": "IPY_MODEL_33394aa92a6949c79333b95fb9d93703",
       "value": "#282828"
      }
     },
     "1d3a1be6a6084091b6a39ee2a8027c89": {
      "model_module": "@jupyter-widgets/base",
      "model_module_version": "1.2.0",
      "model_name": "LayoutModel",
      "state": {}
     },
     "1d41b614c0244dae9bf4049687325f48": {
      "model_module": "@jupyter-widgets/controls",
      "model_module_version": "1.5.0",
      "model_name": "FloatSliderModel",
      "state": {
       "description": "diffuse",
       "layout": "IPY_MODEL_2558f532b94e4c778788bdb08ac9cdf7",
       "max": 1,
       "step": 0.1,
       "style": "IPY_MODEL_4e7474fa8fc74b8f9998ac5e83c24e80",
       "value": 0.75
      }
     },
     "1dbafdd152c84ab4b7288ac443955d83": {
      "model_module": "@jupyter-widgets/base",
      "model_module_version": "1.2.0",
      "model_name": "LayoutModel",
      "state": {
       "flex_flow": "row wrap",
       "margin": "20px"
      }
     },
     "1e15a8c6ff044705997b5c5ab448dee7": {
      "model_module": "@jupyter-widgets/controls",
      "model_module_version": "1.5.0",
      "model_name": "SliderStyleModel",
      "state": {
       "description_width": ""
      }
     },
     "1eb3a549ffad42e894ed66e7ea4047c8": {
      "model_module": "@jupyter-widgets/controls",
      "model_module_version": "1.5.0",
      "model_name": "DescriptionStyleModel",
      "state": {
       "description_width": ""
      }
     },
     "1eb772eb43724a548d4285e75d7af08e": {
      "model_module": "@jupyter-widgets/base",
      "model_module_version": "1.2.0",
      "model_name": "LayoutModel",
      "state": {}
     },
     "1ebb908f33104722a8ca0ebea0830367": {
      "model_module": "@jupyter-widgets/base",
      "model_module_version": "1.2.0",
      "model_name": "LayoutModel",
      "state": {}
     },
     "1ed24c18a95c414f91f22ce72969f31c": {
      "model_module": "@jupyter-widgets/controls",
      "model_module_version": "1.5.0",
      "model_name": "ColorPickerModel",
      "state": {
       "description": "ambient",
       "disabled": false,
       "layout": "IPY_MODEL_275214da944c4d078e8bb8463ecf5b08",
       "style": "IPY_MODEL_6619d75e6a884ddf96b7d93f22aa80d4",
       "value": "#604d3e"
      }
     },
     "1ef64fa92ef846b48fec4ed93a3e0e2d": {
      "model_module": "@jupyter-widgets/controls",
      "model_module_version": "1.5.0",
      "model_name": "TextModel",
      "state": {
       "continuous_update": false,
       "description": "name",
       "layout": "IPY_MODEL_d2b87ecb692a4dda8267a13159fde61b",
       "style": "IPY_MODEL_3482b071780649b6ae8a44751a7a0c9e",
       "value": "leafold"
      }
     },
     "1f47862cd7004f6ea8e431b00a2deb36": {
      "model_module": "@jupyter-widgets/base",
      "model_module_version": "1.2.0",
      "model_name": "LayoutModel",
      "state": {}
     },
     "1f678338b62947efb94d704316f3494d": {
      "model_module": "@jupyter-widgets/base",
      "model_module_version": "1.2.0",
      "model_name": "LayoutModel",
      "state": {}
     },
     "1f77c70eec134463b17b0f169c5122e1": {
      "model_module": "@jupyter-widgets/controls",
      "model_module_version": "1.5.0",
      "model_name": "DescriptionStyleModel",
      "state": {
       "description_width": ""
      }
     },
     "1fafc7f599424b7e8f7a15a3d0aafb6a": {
      "model_module": "@jupyter-widgets/controls",
      "model_module_version": "1.5.0",
      "model_name": "SliderStyleModel",
      "state": {
       "description_width": ""
      }
     },
     "1fb14ba911fa4fa5b21eea1cc9d40b13": {
      "model_module": "@jupyter-widgets/controls",
      "model_module_version": "1.5.0",
      "model_name": "DescriptionStyleModel",
      "state": {
       "description_width": ""
      }
     },
     "200f96bdd5bc4d3597c28abbe9aaf953": {
      "model_module": "@jupyter-widgets/controls",
      "model_module_version": "1.5.0",
      "model_name": "DescriptionStyleModel",
      "state": {
       "description_width": ""
      }
     },
     "201f1a1a76c240bd9efc0e2bb60a3035": {
      "model_module": "@jupyter-widgets/base",
      "model_module_version": "1.2.0",
      "model_name": "LayoutModel",
      "state": {}
     },
     "201f90f3a31f4794a7a9e3bb7865bed4": {
      "model_module": "@jupyter-widgets/controls",
      "model_module_version": "1.5.0",
      "model_name": "DescriptionStyleModel",
      "state": {
       "description_width": ""
      }
     },
     "2022b212d13347cba9b3da0111411722": {
      "model_module": "@jupyter-widgets/base",
      "model_module_version": "1.2.0",
      "model_name": "LayoutModel",
      "state": {}
     },
     "203e1864fde243a6bd46c139d099522f": {
      "model_module": "@jupyter-widgets/base",
      "model_module_version": "1.2.0",
      "model_name": "LayoutModel",
      "state": {}
     },
     "20445554b4884e7c8d6af428872f4c15": {
      "model_module": "@jupyter-widgets/base",
      "model_module_version": "1.2.0",
      "model_name": "LayoutModel",
      "state": {}
     },
     "211408af89d24d7c9bb69141f6af9aba": {
      "model_module": "@jupyter-widgets/controls",
      "model_module_version": "1.5.0",
      "model_name": "FloatSliderModel",
      "state": {
       "description": "diffuse",
       "layout": "IPY_MODEL_762f4772b96f45b3861fb3b080efd6f8",
       "max": 1,
       "step": 0.1,
       "style": "IPY_MODEL_a84c14a67ee845cd8c615ce128d6aaae",
       "value": 0.75
      }
     },
     "211b1b5d82264938ace5ce2c20caba9b": {
      "model_module": "@jupyter-widgets/base",
      "model_module_version": "1.2.0",
      "model_name": "LayoutModel",
      "state": {}
     },
     "2136a52566524809a3c3b6695553bde5": {
      "model_module": "@jupyter-widgets/base",
      "model_module_version": "1.2.0",
      "model_name": "LayoutModel",
      "state": {}
     },
     "2194feb6dbbb416e9d612f19ffdf48e9": {
      "model_module": "@jupyter-widgets/base",
      "model_module_version": "1.2.0",
      "model_name": "LayoutModel",
      "state": {
       "margin": "20px 0px"
      }
     },
     "21b3220570124d98b179bdfeb5808fce": {
      "model_module": "@jupyter-widgets/controls",
      "model_module_version": "1.5.0",
      "model_name": "FloatSliderModel",
      "state": {
       "description": "transparency",
       "layout": "IPY_MODEL_efc1cd658d3f4881a655c0b83075e384",
       "max": 1,
       "step": 0.1,
       "style": "IPY_MODEL_0ba7676259d7491a81763d0d58244173"
      }
     },
     "21c27605f42644a490d05b3ed9f9cec4": {
      "model_module": "@jupyter-widgets/base",
      "model_module_version": "1.2.0",
      "model_name": "LayoutModel",
      "state": {}
     },
     "21efdec5b75d4c6ebabf51119098e5d0": {
      "model_module": "@jupyter-widgets/controls",
      "model_module_version": "1.5.0",
      "model_name": "HBoxModel",
      "state": {
       "children": [
        "IPY_MODEL_ac41cf70afd04e33b260be8bd483f310",
        "IPY_MODEL_05309ec65eeb47319dd90200e4ded550",
        "IPY_MODEL_50b5640fcf26472bb3b7a44f52d8e1e5",
        "IPY_MODEL_a86058cee658486fb13a7beca648314b"
       ],
       "layout": "IPY_MODEL_2c758a39f7fc445fb36328a5392bc3cb"
      }
     },
     "222c986241f440b09ecf8838dee277bb": {
      "model_module": "@jupyter-widgets/controls",
      "model_module_version": "1.5.0",
      "model_name": "ButtonStyleModel",
      "state": {}
     },
     "2238306649c540a699db292dd4180023": {
      "model_module": "@jupyter-widgets/controls",
      "model_module_version": "1.5.0",
      "model_name": "HBoxModel",
      "state": {
       "children": [
        "IPY_MODEL_e5933bb77a9d413a9d681c31c7d59d46",
        "IPY_MODEL_3b8c17e62aa54d2eb6ba0c7aa6a6135d",
        "IPY_MODEL_bad45027440c49c0b95e906436475efe",
        "IPY_MODEL_273cbe6b28fb4b79b92e7a0eab879227"
       ],
       "layout": "IPY_MODEL_f56daa410ee44854874b448e60b2c3c9"
      }
     },
     "2299fe15e03b48dda7759b4bf26db86e": {
      "model_module": "@jupyter-widgets/base",
      "model_module_version": "1.2.0",
      "model_name": "LayoutModel",
      "state": {}
     },
     "22a056bc617349faa4d46a4d6716fdc2": {
      "model_module": "@jupyter-widgets/controls",
      "model_module_version": "1.5.0",
      "model_name": "FloatSliderModel",
      "state": {
       "description": "transparency",
       "layout": "IPY_MODEL_4316ef0ebc0d4fdeaf2805c281c2673b",
       "max": 1,
       "step": 0.1,
       "style": "IPY_MODEL_598dc53fc7284c30a10048ee82300ca0"
      }
     },
     "22a9a3fd9c4947de8e9b52c24d8c16d8": {
      "model_module": "@jupyter-widgets/base",
      "model_module_version": "1.2.0",
      "model_name": "LayoutModel",
      "state": {}
     },
     "2324b9eea997437aa217c0493ef8036f": {
      "model_module": "@jupyter-widgets/base",
      "model_module_version": "1.2.0",
      "model_name": "LayoutModel",
      "state": {}
     },
     "234ac662616e4f3c84f2599e188d95c4": {
      "model_module": "@jupyter-widgets/controls",
      "model_module_version": "1.5.0",
      "model_name": "ButtonModel",
      "state": {
       "description": "Apply changes",
       "layout": "IPY_MODEL_d00076ceaaef4f90ae6dfca78cb58bba",
       "style": "IPY_MODEL_42053ffc262a4b7ca6d5549dd52e5f82"
      }
     },
     "23525fafaf2245ed86b04e8247b95a24": {
      "model_module": "@jupyter-widgets/controls",
      "model_module_version": "1.5.0",
      "model_name": "DescriptionStyleModel",
      "state": {
       "description_width": ""
      }
     },
     "23af8b0d7caf49ffbd9434df59f8adcc": {
      "model_module": "@jupyter-widgets/controls",
      "model_module_version": "1.5.0",
      "model_name": "DescriptionStyleModel",
      "state": {
       "description_width": ""
      }
     },
     "23d2d9d7755548eba8e69ea035c03d9a": {
      "model_module": "@jupyter-widgets/base",
      "model_module_version": "1.2.0",
      "model_name": "LayoutModel",
      "state": {}
     },
     "24004e8b0cf046d9b7bafca13b3868f6": {
      "model_module": "@jupyter-widgets/controls",
      "model_module_version": "1.5.0",
      "model_name": "ButtonModel",
      "state": {
       "description": "Add",
       "layout": "IPY_MODEL_f74b91788cb546d0976cda4bc856aef6",
       "style": "IPY_MODEL_6f131f3f67634df98fb30f26c0ba3c14"
      }
     },
     "241ce9b7a9034e3abf129cd0dacfc508": {
      "model_module": "@jupyter-widgets/base",
      "model_module_version": "1.2.0",
      "model_name": "LayoutModel",
      "state": {}
     },
     "24445bf8451e470e934c4470d4f8e0a7": {
      "model_module": "@jupyter-widgets/controls",
      "model_module_version": "1.5.0",
      "model_name": "IntSliderModel",
      "state": {
       "description": "value",
       "layout": "IPY_MODEL_d51b50f6f7064d6b8575587fb3b196c4",
       "max": 10,
       "min": 1,
       "style": "IPY_MODEL_e124b9fefb784a3bad65373e1ef9c403",
       "value": 3
      }
     },
     "2495a1e49dc3483c8f52e5cebbef0755": {
      "model_module": "@jupyter-widgets/base",
      "model_module_version": "1.2.0",
      "model_name": "LayoutModel",
      "state": {}
     },
     "24e4a38035d14572a98ca532c13ddb5f": {
      "model_module": "@jupyter-widgets/base",
      "model_module_version": "1.2.0",
      "model_name": "LayoutModel",
      "state": {}
     },
     "2501327d07114c9cb00c14a34415de94": {
      "model_module": "@jupyter-widgets/controls",
      "model_module_version": "1.5.0",
      "model_name": "HBoxModel",
      "state": {
       "children": [
        "IPY_MODEL_f827aaf867dc42d39acc8a4f592731d6",
        "IPY_MODEL_6abc2715de574965ab92bda53a467e6e"
       ],
       "layout": "IPY_MODEL_7c61330d47784b9387095b208ed7539c"
      }
     },
     "2501c08878e54350abc0a9ac884118f1": {
      "model_module": "@jupyter-widgets/base",
      "model_module_version": "1.2.0",
      "model_name": "LayoutModel",
      "state": {
       "margin": "20px 0px"
      }
     },
     "252030f955ba480a8f2671f0f6470f4f": {
      "model_module": "@jupyter-widgets/base",
      "model_module_version": "1.2.0",
      "model_name": "LayoutModel",
      "state": {}
     },
     "25423d7867684f20b9048daf5ead1cae": {
      "model_module": "@jupyter-widgets/base",
      "model_module_version": "1.2.0",
      "model_name": "LayoutModel",
      "state": {}
     },
     "2558f532b94e4c778788bdb08ac9cdf7": {
      "model_module": "@jupyter-widgets/base",
      "model_module_version": "1.2.0",
      "model_name": "LayoutModel",
      "state": {}
     },
     "25596c60b781494ba65f65b159bd60c0": {
      "model_module": "@jupyter-widgets/base",
      "model_module_version": "1.2.0",
      "model_name": "LayoutModel",
      "state": {
       "flex_flow": "row wrap"
      }
     },
     "26313b1b0e774a5c9296c77a9fb42f6f": {
      "model_module": "@jupyter-widgets/base",
      "model_module_version": "1.2.0",
      "model_name": "LayoutModel",
      "state": {}
     },
     "26661f90cfc247b4aa51a0584e2d50c9": {
      "model_module": "@jupyter-widgets/controls",
      "model_module_version": "1.5.0",
      "model_name": "DropdownModel",
      "state": {
       "_options_labels": [
        "NurbsCurve2D_0"
       ],
       "index": 0,
       "layout": "IPY_MODEL_c27b4929616a4cc9afc6b2486b6203ab",
       "style": "IPY_MODEL_6b42ee7a9908446f983fc6c0005656ad"
      }
     },
     "2683a2486a9548ee9a92b323137c1a9a": {
      "model_module": "@jupyter-widgets/controls",
      "model_module_version": "1.5.0",
      "model_name": "SliderStyleModel",
      "state": {
       "description_width": ""
      }
     },
     "26f6320010f14927813d14ad09e8177b": {
      "model_module": "@jupyter-widgets/controls",
      "model_module_version": "1.5.0",
      "model_name": "SliderStyleModel",
      "state": {
       "description_width": ""
      }
     },
     "273cbe6b28fb4b79b92e7a0eab879227": {
      "model_module": "@jupyter-widgets/controls",
      "model_module_version": "1.5.0",
      "model_name": "DropdownModel",
      "state": {
       "index": null,
       "layout": "IPY_MODEL_0e22aeb0f36947afb43a810578887e6e",
       "style": "IPY_MODEL_6509e7284ebf48ea8852e819d225daf6"
      }
     },
     "275214da944c4d078e8bb8463ecf5b08": {
      "model_module": "@jupyter-widgets/base",
      "model_module_version": "1.2.0",
      "model_name": "LayoutModel",
      "state": {}
     },
     "275ac823b0bb4043b623929cb56cc202": {
      "model_module": "@jupyter-widgets/controls",
      "model_module_version": "1.5.0",
      "model_name": "DescriptionStyleModel",
      "state": {
       "description_width": ""
      }
     },
     "276f4aa0f7004bb992c83a870983632f": {
      "model_module": "@jupyter-widgets/controls",
      "model_module_version": "1.5.0",
      "model_name": "ButtonModel",
      "state": {
       "description": "Apply changes",
       "layout": "IPY_MODEL_39eebcf57c774b4082d92b82568fd391",
       "style": "IPY_MODEL_5a6303b3dd7146c1bc4f2aee154764ff"
      }
     },
     "279f04df2dff4359be95f440892277cc": {
      "model_module": "@jupyter-widgets/controls",
      "model_module_version": "1.5.0",
      "model_name": "DescriptionStyleModel",
      "state": {
       "description_width": ""
      }
     },
     "27b8afa3d3b7447fa483906e22e6634d": {
      "model_module": "@jupyter-widgets/base",
      "model_module_version": "1.2.0",
      "model_name": "LayoutModel",
      "state": {}
     },
     "27f3e2e5bd414ac1ad3c19f37247942e": {
      "model_module": "@jupyter-widgets/controls",
      "model_module_version": "1.5.0",
      "model_name": "VBoxModel",
      "state": {
       "children": [
        "IPY_MODEL_7370d67c85ca45f99ec4b794aa6baea5",
        "IPY_MODEL_d2d0f917b45743ff9dc2a32c8add385a"
       ],
       "layout": "IPY_MODEL_a738593252204a498e2380d3e629bc1e"
      }
     },
     "28e28f98ef9542749eeea320db4cb0e4": {
      "model_module": "@jupyter-widgets/controls",
      "model_module_version": "1.5.0",
      "model_name": "VBoxModel",
      "state": {
       "children": [
        "IPY_MODEL_b6648dd35f9448fc8d6cfd44efbdc5c5",
        "IPY_MODEL_84e87897d7924c9c8a3252b0e40e3dd5"
       ],
       "layout": "IPY_MODEL_37b62d5540e449ff914f8373be62480c"
      }
     },
     "29155f13bef442a393b221b6846bc956": {
      "model_module": "@jupyter-widgets/controls",
      "model_module_version": "1.5.0",
      "model_name": "VBoxModel",
      "state": {
       "children": [
        "IPY_MODEL_e22c85174a2a4a7ba7797cf1f39856bf",
        "IPY_MODEL_abf78bc88b79468b8725660268e79352"
       ],
       "layout": "IPY_MODEL_507a380126584a23acf72009229e0b78"
      }
     },
     "29d3147695a947d7b6e87a4ef6e81299": {
      "model_module": "@jupyter-widgets/controls",
      "model_module_version": "1.5.0",
      "model_name": "HBoxModel",
      "state": {
       "children": [
        "IPY_MODEL_ca44b44f93e146c989a42fb6089dfaa7",
        "IPY_MODEL_b8bd681b6b634a61860c93bb9163f073"
       ],
       "layout": "IPY_MODEL_c6ff09a6e9d847ac858da09d3835cffa"
      }
     },
     "29fc71175e7a45d6b518dc6b0b3abe69": {
      "model_module": "@jupyter-widgets/controls",
      "model_module_version": "1.5.0",
      "model_name": "HBoxModel",
      "state": {
       "children": [
        "IPY_MODEL_b8492b7b01134d7b9aeaebc3e86f5d87"
       ],
       "layout": "IPY_MODEL_1dbafdd152c84ab4b7288ac443955d83"
      }
     },
     "2a34b0987a734577a8bdcadf7269f14f": {
      "model_module": "@jupyter-widgets/base",
      "model_module_version": "1.2.0",
      "model_name": "LayoutModel",
      "state": {}
     },
     "2a4bbc7e6c3447c5935944e8013bf97a": {
      "model_module": "@jupyter-widgets/controls",
      "model_module_version": "1.5.0",
      "model_name": "HBoxModel",
      "state": {
       "children": [
        "IPY_MODEL_472a677be1f44cb590714223cbed0472",
        "IPY_MODEL_d6a730eacbd54a89b2ef6b5345c7107f"
       ],
       "layout": "IPY_MODEL_ddaa22057bde46fe9787ccc3be7c1bcd"
      }
     },
     "2a5edf3ba1ac483c8ba70c9b29627380": {
      "model_module": "@jupyter-widgets/base",
      "model_module_version": "1.2.0",
      "model_name": "LayoutModel",
      "state": {}
     },
     "2a6e6d5a527b40b79b823a50c67ef83a": {
      "model_module": "@jupyter-widgets/controls",
      "model_module_version": "1.5.0",
      "model_name": "ColorPickerModel",
      "state": {
       "description": "ambient",
       "disabled": false,
       "layout": "IPY_MODEL_8312daa4c523419b93c5a7a2515d20db",
       "style": "IPY_MODEL_04e75893469a40c59769c30734490d10",
       "value": "#0fc4db"
      }
     },
     "2a71d1ea3cce494aab3efb0a5f5f35b8": {
      "model_module": "@jupyter-widgets/base",
      "model_module_version": "1.2.0",
      "model_name": "LayoutModel",
      "state": {}
     },
     "2a740364a2104b03a11e1170744d7e9d": {
      "model_module": "@jupyter-widgets/controls",
      "model_module_version": "1.5.0",
      "model_name": "TextModel",
      "state": {
       "continuous_update": false,
       "description": "name",
       "layout": "IPY_MODEL_d2d0c85bed704b318b91afa64fd018fe",
       "style": "IPY_MODEL_502e8a7f883742d0a593c735da02e62c",
       "value": "maxorder"
      }
     },
     "2aa8c97dc5be40c9be16773350baf277": {
      "model_module": "@jupyter-widgets/controls",
      "model_module_version": "1.5.0",
      "model_name": "SliderStyleModel",
      "state": {
       "description_width": ""
      }
     },
     "2abf1e7a3b7b475282392c7318e476d7": {
      "model_module": "@jupyter-widgets/controls",
      "model_module_version": "1.5.0",
      "model_name": "DescriptionStyleModel",
      "state": {
       "description_width": ""
      }
     },
     "2adcf24dbf2748e089fcbf19dc0f7b33": {
      "model_module": "@jupyter-widgets/controls",
      "model_module_version": "1.5.0",
      "model_name": "ButtonModel",
      "state": {
       "description": "Add",
       "layout": "IPY_MODEL_2495a1e49dc3483c8f52e5cebbef0755",
       "style": "IPY_MODEL_c80db8f4cb9841beba01c1bd2287e051"
      }
     },
     "2b3bf360eab343d593671b7dbea90bd5": {
      "model_module": "@jupyter-widgets/controls",
      "model_module_version": "1.5.0",
      "model_name": "SliderStyleModel",
      "state": {
       "description_width": ""
      }
     },
     "2b3f8914cd724f03828986cb86c6eb87": {
      "model_module": "@jupyter-widgets/base",
      "model_module_version": "1.2.0",
      "model_name": "LayoutModel",
      "state": {
       "margin": "20px 0px"
      }
     },
     "2b6d029d3363436bb4c3867096c43514": {
      "model_module": "@jupyter-widgets/controls",
      "model_module_version": "1.5.0",
      "model_name": "HBoxModel",
      "state": {
       "children": [
        "IPY_MODEL_5eed3d4518234051843f485cc369deff",
        "IPY_MODEL_b4c6640b003145ab863dc22afc0d6b9e",
        "IPY_MODEL_da84931aef8d4c1d954b95f4636a7360",
        "IPY_MODEL_43c13428f9a944b8a460d54eae5ad873"
       ],
       "layout": "IPY_MODEL_1dbafdd152c84ab4b7288ac443955d83"
      }
     },
     "2bca4224925b40e1bfb042986738be02": {
      "model_module": "@jupyter-widgets/controls",
      "model_module_version": "1.5.0",
      "model_name": "SliderStyleModel",
      "state": {
       "description_width": ""
      }
     },
     "2bf3331faa364b30ad1034ed79e8c07a": {
      "model_module": "@jupyter-widgets/base",
      "model_module_version": "1.2.0",
      "model_name": "LayoutModel",
      "state": {}
     },
     "2bfa67229dbb4f5f80d1bc638f650d11": {
      "model_module": "@jupyter-widgets/controls",
      "model_module_version": "1.5.0",
      "model_name": "ButtonModel",
      "state": {
       "description": "Delete",
       "layout": "IPY_MODEL_37544c0854f2465d8f2d8bfc47041e72",
       "style": "IPY_MODEL_0e7521f16ae74e2a84f8a00ec22a1258"
      }
     },
     "2c459c82701d4343a44e9daf1dc0cd65": {
      "model_module": "@jupyter-widgets/base",
      "model_module_version": "1.2.0",
      "model_name": "LayoutModel",
      "state": {}
     },
     "2c57289cdf1c49ea9d82954b2c37a542": {
      "model_module": "@jupyter-widgets/base",
      "model_module_version": "1.2.0",
      "model_name": "LayoutModel",
      "state": {}
     },
     "2c70894a80f745f89888ecb61c4430a7": {
      "model_module": "@jupyter-widgets/controls",
      "model_module_version": "1.5.0",
      "model_name": "SliderStyleModel",
      "state": {
       "description_width": ""
      }
     },
     "2c758a39f7fc445fb36328a5392bc3cb": {
      "model_module": "@jupyter-widgets/base",
      "model_module_version": "1.2.0",
      "model_name": "LayoutModel",
      "state": {
       "flex_flow": "row wrap",
       "margin": "20px"
      }
     },
     "2c8a15976e6848598b89d289ea36058c": {
      "model_module": "@jupyter-widgets/controls",
      "model_module_version": "1.5.0",
      "model_name": "DropdownModel",
      "state": {
       "_options_labels": [
        "color_1",
        "color_2",
        "color_3",
        "color_4"
       ],
       "index": 0,
       "layout": "IPY_MODEL_82bcbeb350d44aff94d9fc2cd31553a4",
       "style": "IPY_MODEL_b9569c00d7924f5f9ae9483b5f4dd93a"
      }
     },
     "2d0ad52f89ef410eafad1ecd57f2cb78": {
      "model_module": "@jupyter-widgets/controls",
      "model_module_version": "1.5.0",
      "model_name": "DescriptionStyleModel",
      "state": {
       "description_width": ""
      }
     },
     "2d27d7c14ef54df7bced5f710b9e0cce": {
      "model_module": "@jupyter-widgets/base",
      "model_module_version": "1.2.0",
      "model_name": "LayoutModel",
      "state": {}
     },
     "2d5d68893674488ba4dd00970a3a9b81": {
      "model_module": "@jupyter-widgets/controls",
      "model_module_version": "1.5.0",
      "model_name": "HBoxModel",
      "state": {
       "children": [
        "IPY_MODEL_cf60cf7a0e9347819f5920be559bd3ab",
        "IPY_MODEL_2501327d07114c9cb00c14a34415de94",
        "IPY_MODEL_45970305473848b9995b6823545def77"
       ],
       "layout": "IPY_MODEL_c2c55fe42be74718bb320fed9bf1fdd6"
      }
     },
     "2d70beccf69c4efc9a83cd358de0d9d2": {
      "model_module": "@jupyter-widgets/base",
      "model_module_version": "1.2.0",
      "model_name": "LayoutModel",
      "state": {}
     },
     "2daaf6242ed9461985d9559a718b68a5": {
      "model_module": "pgljupyter",
      "model_module_version": "^0.1.2",
      "model_name": "MaterialEditorModel",
      "state": {
       "_model_module_version": "^0.1.2",
       "_view_module_version": "^0.1.2",
       "children": [
        "IPY_MODEL_ac11ecf003394e96b2227d751ad7d1b9",
        "IPY_MODEL_547c418d86ec4fce8644a63a4d9fad45",
        "IPY_MODEL_70f7a900cde34f19a9c40852e3201de6",
        "IPY_MODEL_08205c4815754438a774f886dc48c434",
        "IPY_MODEL_da3a03d419374886b33c4a33c7123acc",
        "IPY_MODEL_cffbe228dd7a4cb6b6b3ec214974be09",
        "IPY_MODEL_e8085364e31d455da333f395d8708b18",
        "IPY_MODEL_b6fac6ee8b314c10a5156acd259cdf9e"
       ],
       "layout": "IPY_MODEL_5a20bedfc3174238b2ea8c131168e933"
      }
     },
     "2dabfefd7ddd4f7eac82d3513cf3d4c1": {
      "model_module": "@jupyter-widgets/controls",
      "model_module_version": "1.5.0",
      "model_name": "VBoxModel",
      "state": {
       "children": [
        "IPY_MODEL_5242056fc3e74012833d1c34f09631be",
        "IPY_MODEL_a3021cfb00c34844be2cc4431cd9b620"
       ],
       "layout": "IPY_MODEL_3dd277d92fe4450ea1bc4361fbcac098"
      }
     },
     "2e3292f15e594dd89ae41056de970444": {
      "model_module": "@jupyter-widgets/controls",
      "model_module_version": "1.5.0",
      "model_name": "SliderStyleModel",
      "state": {
       "description_width": ""
      }
     },
     "2e56050c32b84200b373f0971cae23c6": {
      "model_module": "@jupyter-widgets/controls",
      "model_module_version": "1.5.0",
      "model_name": "FloatSliderModel",
      "state": {
       "description": "shininess",
       "layout": "IPY_MODEL_9d71deb7f39d4c19bde81bd5bdac01ce",
       "max": 1,
       "step": 0.1,
       "style": "IPY_MODEL_f7545150d64f4c3b923ca1dbaec773d1",
       "value": 0.2
      }
     },
     "2e6ef9314d67449c8deb0a7297c93ab3": {
      "model_module": "@jupyter-widgets/base",
      "model_module_version": "1.2.0",
      "model_name": "LayoutModel",
      "state": {}
     },
     "2e6fdecb680e44eab31fbab1ebfe7703": {
      "model_module": "@jupyter-widgets/base",
      "model_module_version": "1.2.0",
      "model_name": "LayoutModel",
      "state": {}
     },
     "2ebb0a0050144bca8f9cb9d9e1736e7a": {
      "model_module": "@jupyter-widgets/base",
      "model_module_version": "1.2.0",
      "model_name": "LayoutModel",
      "state": {}
     },
     "2ecc06fc96384fc582bbc1690d7ec0f0": {
      "model_module": "@jupyter-widgets/base",
      "model_module_version": "1.2.0",
      "model_name": "LayoutModel",
      "state": {
       "margin": "20px 0px"
      }
     },
     "2efa585c55484aaba68ded69cdb81b15": {
      "model_module": "@jupyter-widgets/base",
      "model_module_version": "1.2.0",
      "model_name": "LayoutModel",
      "state": {}
     },
     "2f2ae84d6e0a4ce28cb9b46fe5dc6734": {
      "model_module": "@jupyter-widgets/controls",
      "model_module_version": "1.5.0",
      "model_name": "DescriptionStyleModel",
      "state": {
       "description_width": ""
      }
     },
     "2f6754fd12954ab7bbbe7dd23a674b68": {
      "model_module": "@jupyter-widgets/controls",
      "model_module_version": "1.5.0",
      "model_name": "ButtonStyleModel",
      "state": {}
     },
     "2ff2e549a4684de5a2db6f29b2366fd5": {
      "model_module": "@jupyter-widgets/controls",
      "model_module_version": "1.5.0",
      "model_name": "DescriptionStyleModel",
      "state": {
       "description_width": ""
      }
     },
     "2ff6e1288e264c2584f333513837f75c": {
      "model_module": "@jupyter-widgets/controls",
      "model_module_version": "1.5.0",
      "model_name": "DescriptionStyleModel",
      "state": {
       "description_width": ""
      }
     },
     "3026ebc9a30243b1bc25015d05d6c0c7": {
      "model_module": "@jupyter-widgets/controls",
      "model_module_version": "1.5.0",
      "model_name": "DescriptionStyleModel",
      "state": {
       "description_width": ""
      }
     },
     "3085c048d2684e1d9e06b912c8ebe89a": {
      "model_module": "@jupyter-widgets/controls",
      "model_module_version": "1.5.0",
      "model_name": "DescriptionStyleModel",
      "state": {
       "description_width": ""
      }
     },
     "30913895a05c4efe9297847d5ea8e81b": {
      "model_module": "@jupyter-widgets/controls",
      "model_module_version": "1.5.0",
      "model_name": "DescriptionStyleModel",
      "state": {
       "description_width": ""
      }
     },
     "30ab17fe198743bcad37c908631443f3": {
      "model_module": "@jupyter-widgets/controls",
      "model_module_version": "1.5.0",
      "model_name": "ButtonModel",
      "state": {
       "description": "Add",
       "layout": "IPY_MODEL_37787ec969d64182bb9c4ecfb9659757",
       "style": "IPY_MODEL_8b631c32026a41418173e79115085831"
      }
     },
     "30adb877ae0c4ea3b12a4f4ae638e37d": {
      "model_module": "@jupyter-widgets/controls",
      "model_module_version": "1.5.0",
      "model_name": "DescriptionStyleModel",
      "state": {
       "description_width": ""
      }
     },
     "30c661fbb27140d0a16de353c96e7fc7": {
      "model_module": "@jupyter-widgets/base",
      "model_module_version": "1.2.0",
      "model_name": "LayoutModel",
      "state": {}
     },
     "30e2a75e992f460bb155f12690c18296": {
      "model_module": "@jupyter-widgets/controls",
      "model_module_version": "1.5.0",
      "model_name": "DescriptionStyleModel",
      "state": {
       "description_width": ""
      }
     },
     "30ea0fffbfc14c498f33c0844ae5ecc8": {
      "model_module": "@jupyter-widgets/controls",
      "model_module_version": "1.5.0",
      "model_name": "DescriptionStyleModel",
      "state": {
       "description_width": ""
      }
     },
     "30ea76a55acd406bad8fb7188aff0f41": {
      "model_module": "@jupyter-widgets/controls",
      "model_module_version": "1.5.0",
      "model_name": "SliderStyleModel",
      "state": {
       "description_width": ""
      }
     },
     "3133bec14cff4f2a890c142d85f7eb53": {
      "model_module": "@jupyter-widgets/controls",
      "model_module_version": "1.5.0",
      "model_name": "DescriptionStyleModel",
      "state": {
       "description_width": ""
      }
     },
     "314d95cfe7894a9fb7f7430e808bd058": {
      "model_module": "@jupyter-widgets/controls",
      "model_module_version": "1.5.0",
      "model_name": "ButtonModel",
      "state": {
       "description": "Add category",
       "layout": "IPY_MODEL_d94bccd4ec6140aca10be69aef8e0149",
       "style": "IPY_MODEL_31dcfd2e4ff041afa26e524ddfc02716"
      }
     },
     "31863837aa4a409080cc105e487d8989": {
      "model_module": "@jupyter-widgets/controls",
      "model_module_version": "1.5.0",
      "model_name": "FloatSliderModel",
      "state": {
       "description": "diffuse",
       "layout": "IPY_MODEL_59e4ce096db041599800b92606fb73a5",
       "max": 1,
       "step": 0.1,
       "style": "IPY_MODEL_db083b36502a43eab0cf563b9bd73746",
       "value": 1
      }
     },
     "31dcfd2e4ff041afa26e524ddfc02716": {
      "model_module": "@jupyter-widgets/controls",
      "model_module_version": "1.5.0",
      "model_name": "ButtonStyleModel",
      "state": {}
     },
     "31e77ba59ad24997839039a4c9c53e93": {
      "model_module": "@jupyter-widgets/base",
      "model_module_version": "1.2.0",
      "model_name": "LayoutModel",
      "state": {}
     },
     "3207925224d34f6c8bf84a40588fed58": {
      "model_module": "@jupyter-widgets/controls",
      "model_module_version": "1.5.0",
      "model_name": "ButtonStyleModel",
      "state": {}
     },
     "32a2d5151e844f398dfd8a2f28a391ff": {
      "model_module": "@jupyter-widgets/controls",
      "model_module_version": "1.5.0",
      "model_name": "TextModel",
      "state": {
       "continuous_update": false,
       "description": "name",
       "layout": "IPY_MODEL_5cb242cfc7614b3eb4c7b8c0e9c5c193",
       "style": "IPY_MODEL_b7774c37d9944fe09f8d1efd519c29b8",
       "value": "leafduration"
      }
     },
     "3300a2c5f2e247a1aaa3e0f6ac6abad9": {
      "model_module": "@jupyter-widgets/base",
      "model_module_version": "1.2.0",
      "model_name": "LayoutModel",
      "state": {}
     },
     "33394aa92a6949c79333b95fb9d93703": {
      "model_module": "@jupyter-widgets/controls",
      "model_module_version": "1.5.0",
      "model_name": "DescriptionStyleModel",
      "state": {
       "description_width": ""
      }
     },
     "339bb7c5bbd24525889f6050716638c6": {
      "model_module": "@jupyter-widgets/controls",
      "model_module_version": "1.5.0",
      "model_name": "DescriptionStyleModel",
      "state": {
       "description_width": ""
      }
     },
     "33a31a3d3fcc46a9b9009df9149904a8": {
      "model_module": "@jupyter-widgets/controls",
      "model_module_version": "1.5.0",
      "model_name": "DescriptionStyleModel",
      "state": {
       "description_width": ""
      }
     },
     "33ec9c5667a5451786a5c5e914e5dc10": {
      "model_module": "@jupyter-widgets/base",
      "model_module_version": "1.2.0",
      "model_name": "LayoutModel",
      "state": {}
     },
     "343fdbc8ac9046f0be92ef520dcb07c7": {
      "model_module": "@jupyter-widgets/base",
      "model_module_version": "1.2.0",
      "model_name": "LayoutModel",
      "state": {}
     },
     "344c460570104014b79dad6a65f1bc15": {
      "model_module": "pgljupyter",
      "model_module_version": "^0.1.14",
      "model_name": "MaterialEditorModel",
      "state": {
       "_model_module_version": "^0.1.14",
       "_view_module_version": "^0.1.14",
       "children": [
        "IPY_MODEL_843d75cb83854ccca588873a9ace951c",
        "IPY_MODEL_d8136ba8b0b94a508316083bd66d429c",
        "IPY_MODEL_8885c255856b479881029363d8cf8481",
        "IPY_MODEL_bb74a2e2f3f744c0880c5874c444c364",
        "IPY_MODEL_62f37a5d014644cda8ab470a0f963659",
        "IPY_MODEL_1680908bd17c4edeb5c4ae807790a86e",
        "IPY_MODEL_2e56050c32b84200b373f0971cae23c6"
       ],
       "layout": "IPY_MODEL_8a45f1793c654ff1b7f7ad2acc463549"
      }
     },
     "347acaa63eae4e00a4da54a4e5aa293d": {
      "model_module": "@jupyter-widgets/controls",
      "model_module_version": "1.5.0",
      "model_name": "VBoxModel",
      "state": {
       "children": [
        "IPY_MODEL_f54dce5c967d42ddacd908ff611f1d2e",
        "IPY_MODEL_60c75cd30cc5440faf0dcf062f8f9255"
       ],
       "layout": "IPY_MODEL_cbbda54c90744c78b5a9088ce7e16dcb"
      }
     },
     "3482b071780649b6ae8a44751a7a0c9e": {
      "model_module": "@jupyter-widgets/controls",
      "model_module_version": "1.5.0",
      "model_name": "DescriptionStyleModel",
      "state": {
       "description_width": ""
      }
     },
     "3483198dc61e4fb6a5fd59a5c83502d5": {
      "model_module": "@jupyter-widgets/controls",
      "model_module_version": "1.5.0",
      "model_name": "FloatSliderModel",
      "state": {
       "description": "shininess",
       "layout": "IPY_MODEL_0fac894dada84693a4a032abae38a833",
       "max": 1,
       "step": 0.1,
       "style": "IPY_MODEL_b1bd5bda1f924269b6906dd5b73f60f1",
       "value": 0.2
      }
     },
     "34a7af6b22db40fbbd501ad6986ec371": {
      "model_module": "@jupyter-widgets/controls",
      "model_module_version": "1.5.0",
      "model_name": "TextModel",
      "state": {
       "continuous_update": false,
       "description": "name",
       "layout": "IPY_MODEL_ebb168363859428c910fbb683a4d6956",
       "style": "IPY_MODEL_c7e96683ccf54521ad82e02910c90b3d",
       "value": "radinc"
      }
     },
     "34c506a5fd4c4cb994b86db5544979d4": {
      "model_module": "@jupyter-widgets/controls",
      "model_module_version": "1.5.0",
      "model_name": "DescriptionStyleModel",
      "state": {
       "description_width": ""
      }
     },
     "350046a661e74189b5160d9dda73f86e": {
      "model_module": "@jupyter-widgets/controls",
      "model_module_version": "1.5.0",
      "model_name": "FloatSliderModel",
      "state": {
       "description": "diffuse",
       "layout": "IPY_MODEL_b49f1cfd335044929cbc328ce2374923",
       "max": 1,
       "step": 0.1,
       "style": "IPY_MODEL_80fb9d29e96a4f77aaee4c7b4f289e4e",
       "value": 1
      }
     },
     "35010fbf5ea3493e9cbc7122e28e5c50": {
      "model_module": "@jupyter-widgets/base",
      "model_module_version": "1.2.0",
      "model_name": "LayoutModel",
      "state": {}
     },
     "352845e9ebe34d14891bd5826b4a2e08": {
      "model_module": "pgljupyter",
      "model_module_version": "^0.1.2",
      "model_name": "MaterialEditorModel",
      "state": {
       "_model_module_version": "^0.1.2",
       "_view_module_version": "^0.1.2",
       "children": [
        "IPY_MODEL_94fe16f4b7b148129026cb2da6d29ef1",
        "IPY_MODEL_1a27b21bce904332a4684e5393644e7e",
        "IPY_MODEL_eb925bb2ec044a0e94904c75d2959be6",
        "IPY_MODEL_aa6f5555faa44f4db554da680a607f63",
        "IPY_MODEL_6368053aed524502b45b99eae25e4e13",
        "IPY_MODEL_175d04d73b0f432ebe88e418f42348fe",
        "IPY_MODEL_b22403f438214a4b8f36317185bdab34",
        "IPY_MODEL_a181f8277527484f82f484b081a7ac2c"
       ],
       "layout": "IPY_MODEL_8dee69fccbb14c7c82aaa8587be93b6d"
      }
     },
     "357b13a66a54461f85c83b5b839d7d28": {
      "model_module": "@jupyter-widgets/controls",
      "model_module_version": "1.5.0",
      "model_name": "IntTextModel",
      "state": {
       "description": "min",
       "layout": "IPY_MODEL_53ec91f57093422daaabbfa341b1878b",
       "step": 1,
       "style": "IPY_MODEL_8a8f9cbb663e4d42a10e4e70f2a1cd17",
       "value": 1
      }
     },
     "358645419ea648e0a94f01980055f440": {
      "model_module": "@jupyter-widgets/base",
      "model_module_version": "1.2.0",
      "model_name": "LayoutModel",
      "state": {}
     },
     "35f6cf9c439d4fa8ae1b7d5de389c9af": {
      "model_module": "@jupyter-widgets/base",
      "model_module_version": "1.2.0",
      "model_name": "LayoutModel",
      "state": {}
     },
     "35fe5bcb32a344c1839ffc661e5b7fe4": {
      "model_module": "@jupyter-widgets/controls",
      "model_module_version": "1.5.0",
      "model_name": "ColorPickerModel",
      "state": {
       "description": "emission",
       "disabled": false,
       "layout": "IPY_MODEL_b2f63634bfd94d23a4133da2a39d0f87",
       "style": "IPY_MODEL_4f232ac5610c453da6bbff0d94f89765",
       "value": "#000000"
      }
     },
     "3612f7a7682b474f93b17b5d79359613": {
      "model_module": "@jupyter-widgets/controls",
      "model_module_version": "1.5.0",
      "model_name": "DescriptionStyleModel",
      "state": {
       "description_width": ""
      }
     },
     "362cbffce70144d6858eda282c894c9c": {
      "model_module": "@jupyter-widgets/controls",
      "model_module_version": "1.5.0",
      "model_name": "BoundedFloatTextModel",
      "state": {
       "description": "step",
       "layout": "IPY_MODEL_69f9201b0d8749718d1eaad584a7b5e3",
       "max": 1,
       "min": 0.01,
       "step": 0.01,
       "style": "IPY_MODEL_1eb3a549ffad42e894ed66e7ea4047c8",
       "value": 0.01
      }
     },
     "364a0d3467624371a6bdd269466b5c04": {
      "model_module": "@jupyter-widgets/base",
      "model_module_version": "1.2.0",
      "model_name": "LayoutModel",
      "state": {
       "margin": "20px 0px"
      }
     },
     "368223e9431d47409832400746a8ab36": {
      "model_module": "@jupyter-widgets/controls",
      "model_module_version": "1.5.0",
      "model_name": "DropdownModel",
      "state": {
       "_options_labels": [
        "NurbsCurve2D",
        "BezierCurve2D",
        "Polyline2D",
        "Function"
       ],
       "index": 0,
       "layout": "IPY_MODEL_d83e72dd822f4e30a46ab2b1ccb392b9",
       "style": "IPY_MODEL_a5605f2b65904a4eb171ce60d1e2d0d4"
      }
     },
     "36b8f608b82b478f82ede67b0c91fb67": {
      "model_module": "@jupyter-widgets/base",
      "model_module_version": "1.2.0",
      "model_name": "LayoutModel",
      "state": {
       "margin": "20px 0px"
      }
     },
     "371f3bee91fc406e8ef326fbd6a62738": {
      "model_module": "@jupyter-widgets/controls",
      "model_module_version": "1.5.0",
      "model_name": "SliderStyleModel",
      "state": {
       "description_width": ""
      }
     },
     "37544c0854f2465d8f2d8bfc47041e72": {
      "model_module": "@jupyter-widgets/base",
      "model_module_version": "1.2.0",
      "model_name": "LayoutModel",
      "state": {}
     },
     "3757368916f448ea8908a387c8d15320": {
      "model_module": "@jupyter-widgets/controls",
      "model_module_version": "1.5.0",
      "model_name": "ColorPickerModel",
      "state": {
       "description": "specular",
       "disabled": false,
       "layout": "IPY_MODEL_b9feeeeee9c74b51a81c432f0d6e640f",
       "style": "IPY_MODEL_3085c048d2684e1d9e06b912c8ebe89a",
       "value": "#282828"
      }
     },
     "37787ec969d64182bb9c4ecfb9659757": {
      "model_module": "@jupyter-widgets/base",
      "model_module_version": "1.2.0",
      "model_name": "LayoutModel",
      "state": {}
     },
     "37823eb05d9444858326c148bfa140cd": {
      "model_module": "@jupyter-widgets/controls",
      "model_module_version": "1.5.0",
      "model_name": "HBoxModel",
      "state": {
       "children": [
        "IPY_MODEL_d1b8dc49f1034c03b899d515253fc98d",
        "IPY_MODEL_a39d050489f04233a9588793cfc365ec"
       ],
       "layout": "IPY_MODEL_dd33ed74409b4c0795183b005c20d306"
      }
     },
     "37884d0f8d42498e8a2b7303f8a9a0ef": {
      "model_module": "@jupyter-widgets/controls",
      "model_module_version": "1.5.0",
      "model_name": "BoundedFloatTextModel",
      "state": {
       "description": "step",
       "layout": "IPY_MODEL_b92546feb77a4e4aaff221af4a8fbabe",
       "max": 1,
       "min": 0.01,
       "step": 0.01,
       "style": "IPY_MODEL_e202f552d4a24fbbae5bf3a8236edbdd",
       "value": 0.01
      }
     },
     "37b62d5540e449ff914f8373be62480c": {
      "model_module": "@jupyter-widgets/base",
      "model_module_version": "1.2.0",
      "model_name": "LayoutModel",
      "state": {}
     },
     "37cc370812764135a78e918e9a54c255": {
      "model_module": "@jupyter-widgets/controls",
      "model_module_version": "1.5.0",
      "model_name": "ColorPickerModel",
      "state": {
       "description": "specular",
       "disabled": false,
       "layout": "IPY_MODEL_e932545f5a6741aba1e8ae82ce2fcd9d",
       "style": "IPY_MODEL_452cb761aa3c45988ae224ff962dda55",
       "value": "#282828"
      }
     },
     "3828bc81eaf447458079ef13d518f1d6": {
      "model_module": "@jupyter-widgets/base",
      "model_module_version": "1.2.0",
      "model_name": "LayoutModel",
      "state": {}
     },
     "3886c91004eb40b4ae526623f839f5a3": {
      "model_module": "@jupyter-widgets/base",
      "model_module_version": "1.2.0",
      "model_name": "LayoutModel",
      "state": {}
     },
     "38aedb1b56ff4907af35973d88c28785": {
      "model_module": "@jupyter-widgets/base",
      "model_module_version": "1.2.0",
      "model_name": "LayoutModel",
      "state": {}
     },
     "38b3bc34ec4749ce97f6df8128c8b58b": {
      "model_module": "@jupyter-widgets/controls",
      "model_module_version": "1.5.0",
      "model_name": "ButtonStyleModel",
      "state": {}
     },
     "38ddb4788197471db84a1a58ec09b8b2": {
      "model_module": "@jupyter-widgets/base",
      "model_module_version": "1.2.0",
      "model_name": "LayoutModel",
      "state": {}
     },
     "39315f2410f14e9294c5a154543f6ae9": {
      "model_module": "@jupyter-widgets/controls",
      "model_module_version": "1.5.0",
      "model_name": "ColorPickerModel",
      "state": {
       "description": "specular",
       "disabled": false,
       "layout": "IPY_MODEL_06cce5f559ff492daf7de0450f9ce4cc",
       "style": "IPY_MODEL_bf8c52c6349d45b7bd06b4eca76e2cbb",
       "value": "#282828"
      }
     },
     "393897094f3e4470aaac2d26415261a8": {
      "model_module": "@jupyter-widgets/controls",
      "model_module_version": "1.5.0",
      "model_name": "BoundedIntTextModel",
      "state": {
       "description": "step",
       "layout": "IPY_MODEL_241ce9b7a9034e3abf129cd0dacfc508",
       "min": 1,
       "style": "IPY_MODEL_ccb5f84db0c74d6f993cdf50188c7ab4",
       "value": 1
      }
     },
     "39b6cee9b96e43b683aa3b0b8d201361": {
      "model_module": "@jupyter-widgets/controls",
      "model_module_version": "1.5.0",
      "model_name": "DescriptionStyleModel",
      "state": {
       "description_width": ""
      }
     },
     "39c02487d7c242b79297781e711e63fb": {
      "model_module": "@jupyter-widgets/controls",
      "model_module_version": "1.5.0",
      "model_name": "BoundedIntTextModel",
      "state": {
       "description": "step",
       "layout": "IPY_MODEL_7280887d7a1e420b80c07311475b256f",
       "min": 1,
       "style": "IPY_MODEL_e3ca09485f8f45a38649ee0f2bdcfb30",
       "value": 1
      }
     },
     "39ceb78dfb1449b399b665ad13905765": {
      "model_module": "@jupyter-widgets/base",
      "model_module_version": "1.2.0",
      "model_name": "LayoutModel",
      "state": {}
     },
     "39eebcf57c774b4082d92b82568fd391": {
      "model_module": "@jupyter-widgets/base",
      "model_module_version": "1.2.0",
      "model_name": "LayoutModel",
      "state": {}
     },
     "3a3644138ae2464abb81977f0024665a": {
      "model_module": "@jupyter-widgets/controls",
      "model_module_version": "1.5.0",
      "model_name": "DescriptionStyleModel",
      "state": {
       "description_width": ""
      }
     },
     "3a51faf612714fa697dd0a09dbca2f90": {
      "model_module": "@jupyter-widgets/base",
      "model_module_version": "1.2.0",
      "model_name": "LayoutModel",
      "state": {}
     },
     "3ac048bed3cb4f37a53ad7615782b007": {
      "model_module": "@jupyter-widgets/base",
      "model_module_version": "1.2.0",
      "model_name": "LayoutModel",
      "state": {
       "margin": "20px 0px"
      }
     },
     "3b165dfd50c4467fa021eb1279eb1e9b": {
      "model_module": "@jupyter-widgets/base",
      "model_module_version": "1.2.0",
      "model_name": "LayoutModel",
      "state": {}
     },
     "3b8c17e62aa54d2eb6ba0c7aa6a6135d": {
      "model_module": "@jupyter-widgets/controls",
      "model_module_version": "1.5.0",
      "model_name": "DropdownModel",
      "state": {
       "_options_labels": [
        "NurbsCurve2D"
       ],
       "index": 0,
       "layout": "IPY_MODEL_8a552e1e88a0406f8658363c552e528f",
       "style": "IPY_MODEL_0405e697af844b2ea91e99af5ca06901"
      }
     },
     "3bb03a834d464a7c90ad352b1f4a9182": {
      "model_module": "@jupyter-widgets/base",
      "model_module_version": "1.2.0",
      "model_name": "LayoutModel",
      "state": {}
     },
     "3bccb846b4df4907997b93fed3c1a495": {
      "model_module": "@jupyter-widgets/base",
      "model_module_version": "1.2.0",
      "model_name": "LayoutModel",
      "state": {
       "margin": "20px 0px"
      }
     },
     "3bce6b106d9847ae81d706f5a7c75510": {
      "model_module": "@jupyter-widgets/controls",
      "model_module_version": "1.5.0",
      "model_name": "TextModel",
      "state": {
       "continuous_update": false,
       "description": "name",
       "layout": "IPY_MODEL_252030f955ba480a8f2671f0f6470f4f",
       "style": "IPY_MODEL_978de8ad9ea24bcea235051efc4a1a54",
       "value": "leafold"
      }
     },
     "3c075c2048614d2e8ada7b1f561f4f59": {
      "model_module": "@jupyter-widgets/controls",
      "model_module_version": "1.5.0",
      "model_name": "DescriptionStyleModel",
      "state": {
       "description_width": ""
      }
     },
     "3cdac3fb61654b188cd59f6063f7bfd5": {
      "model_module": "@jupyter-widgets/controls",
      "model_module_version": "1.5.0",
      "model_name": "IntTextModel",
      "state": {
       "description": "max",
       "layout": "IPY_MODEL_45e1ea1dbfc64beab96c70595ac656ea",
       "step": 1,
       "style": "IPY_MODEL_a3b51c86f32548c89175e0ba18a1b9f0",
       "value": 7
      }
     },
     "3cea4d05264f4dbabd9379e5ebe7999e": {
      "model_module": "@jupyter-widgets/controls",
      "model_module_version": "1.5.0",
      "model_name": "BoundedIntTextModel",
      "state": {
       "description": "step",
       "layout": "IPY_MODEL_a038fed9b50a4a08819c2085571911c3",
       "min": 1,
       "style": "IPY_MODEL_2abf1e7a3b7b475282392c7318e476d7",
       "value": 1
      }
     },
     "3cf5140e8eaf4f8bb8ba9548db80111d": {
      "model_module": "pgljupyter",
      "model_module_version": "^0.1.2",
      "model_name": "_CurveEditorModel",
      "state": {
       "_model_module_version": "^0.1.2",
       "_view_module_version": "^0.1.2",
       "control_points": [
        [
         -0.5,
         0
        ],
        [
         -0.21058238636363635,
         0.3363636363636364
        ],
        [
         0.045454545454545414,
         -0.2068181818181818
        ],
        [
         0.5,
         0
        ]
       ],
       "curve_type": "BezierCurve2D",
       "layout": "IPY_MODEL_70855785526542688e78359baf1c605b"
      }
     },
     "3cfb8d16eb394aeb961b5b2fa13ef6df": {
      "model_module": "@jupyter-widgets/controls",
      "model_module_version": "1.5.0",
      "model_name": "FloatSliderModel",
      "state": {
       "description": "diffuse",
       "layout": "IPY_MODEL_0cbe358ee0dd4965a43e04c56c73e8c6",
       "max": 1,
       "step": 0.1,
       "style": "IPY_MODEL_a08868ee98f64737a3e282aeb5e9669c",
       "value": 1
      }
     },
     "3d72676596db48239fb3fce7eab36c7e": {
      "model_module": "@jupyter-widgets/controls",
      "model_module_version": "1.5.0",
      "model_name": "IntTextModel",
      "state": {
       "description": "max",
       "layout": "IPY_MODEL_7a716803844c41369cbbf514bb574785",
       "step": 1,
       "style": "IPY_MODEL_ca2f599c70464248802952afb48b4d4d",
       "value": 10
      }
     },
     "3dd277d92fe4450ea1bc4361fbcac098": {
      "model_module": "@jupyter-widgets/base",
      "model_module_version": "1.2.0",
      "model_name": "LayoutModel",
      "state": {}
     },
     "3e05ba6b58e74c328014b35717708836": {
      "model_module": "@jupyter-widgets/base",
      "model_module_version": "1.2.0",
      "model_name": "LayoutModel",
      "state": {}
     },
     "3e329edb95664cb486dda3c2b3c896cf": {
      "model_module": "@jupyter-widgets/controls",
      "model_module_version": "1.5.0",
      "model_name": "FloatSliderModel",
      "state": {
       "description": "shininess",
       "layout": "IPY_MODEL_b60867a053c74a80a3f7d34c47d27946",
       "max": 1,
       "step": 0.1,
       "style": "IPY_MODEL_689ea972cbce41a8b32df7bdc67b10ae",
       "value": 0.2
      }
     },
     "3e83fe9f30584627863edeb47779fdff": {
      "model_module": "@jupyter-widgets/controls",
      "model_module_version": "1.5.0",
      "model_name": "DescriptionStyleModel",
      "state": {
       "description_width": ""
      }
     },
     "3ec6ca9ab67e4732aae15b941861a1e6": {
      "model_module": "@jupyter-widgets/controls",
      "model_module_version": "1.5.0",
      "model_name": "DescriptionStyleModel",
      "state": {
       "description_width": ""
      }
     },
     "3f0f3bb1764f476baea6463c404baeef": {
      "model_module": "@jupyter-widgets/controls",
      "model_module_version": "1.5.0",
      "model_name": "ButtonStyleModel",
      "state": {}
     },
     "3f238a5fcc604191bc5b4736381148d8": {
      "model_module": "@jupyter-widgets/base",
      "model_module_version": "1.2.0",
      "model_name": "LayoutModel",
      "state": {}
     },
     "3f61e9dd496f4505be6dc1c84aefdc57": {
      "model_module": "pgljupyter",
      "model_module_version": "^0.1.2",
      "model_name": "MaterialEditorModel",
      "state": {
       "_model_module_version": "^0.1.2",
       "_view_module_version": "^0.1.2",
       "children": [
        "IPY_MODEL_a22da95bced94b0ea758d979b05c4357",
        "IPY_MODEL_7310fb106a0148cba799629b28cfd588",
        "IPY_MODEL_d18d2324b3d64718bcd6376c175c5112",
        "IPY_MODEL_ccc3684d6a3a4acdaac7fa383e67ed43",
        "IPY_MODEL_b1cb0ecc984d47b5b601ac5ead5fda5d",
        "IPY_MODEL_096a27de4fb74defab7139814791f0a3",
        "IPY_MODEL_86b0aab187af49f1a86803563cc19ecd",
        "IPY_MODEL_6d99be388ce6453a934fe45ffafa4844"
       ],
       "layout": "IPY_MODEL_0f8c2f3fd66b445cb01eca6fb7b40014"
      }
     },
     "3fe29caf9acb479c9e156fc6416900ee": {
      "model_module": "@jupyter-widgets/base",
      "model_module_version": "1.2.0",
      "model_name": "LayoutModel",
      "state": {}
     },
     "3feee74276d3421fae01be462715ffc8": {
      "model_module": "@jupyter-widgets/controls",
      "model_module_version": "1.5.0",
      "model_name": "HBoxModel",
      "state": {
       "children": [
        "IPY_MODEL_30ab17fe198743bcad37c908631443f3",
        "IPY_MODEL_669728b8ae5a49c792ed0600cd4c0592"
       ],
       "layout": "IPY_MODEL_2a34b0987a734577a8bdcadf7269f14f"
      }
     },
     "406c4f5fcf9a45b7be0a39dfef3ec4cb": {
      "model_module": "@jupyter-widgets/controls",
      "model_module_version": "1.5.0",
      "model_name": "DescriptionStyleModel",
      "state": {
       "description_width": ""
      }
     },
     "40af17acda92411d80109dc43358e774": {
      "model_module": "@jupyter-widgets/controls",
      "model_module_version": "1.5.0",
      "model_name": "TabModel",
      "state": {
       "_titles": {
        "0": "leuwenberg.json"
       },
       "children": [
        "IPY_MODEL_d9369247700e41028695aa03301533a3"
       ],
       "layout": "IPY_MODEL_5a1fb8503b2442f9b24cb6b1fece5705"
      }
     },
     "41670547e0cb41e29a72d0cf35a2fb90": {
      "model_module": "@jupyter-widgets/base",
      "model_module_version": "1.2.0",
      "model_name": "LayoutModel",
      "state": {}
     },
     "4179d3014a4b4af5abbc2bd84e779656": {
      "model_module": "@jupyter-widgets/controls",
      "model_module_version": "1.5.0",
      "model_name": "FloatSliderModel",
      "state": {
       "description": "diffuse",
       "layout": "IPY_MODEL_f36ebe8df9b842f4971cd6c4aa9c3d8d",
       "max": 1,
       "step": 0.1,
       "style": "IPY_MODEL_86ec7adecb9f49ce84587436150da9e1"
      }
     },
     "4194c689e5fa497f9d21a411b43c0a30": {
      "model_module": "@jupyter-widgets/controls",
      "model_module_version": "1.5.0",
      "model_name": "DescriptionStyleModel",
      "state": {
       "description_width": ""
      }
     },
     "41a316cc494844f789d1f1885dfea1cc": {
      "model_module": "@jupyter-widgets/base",
      "model_module_version": "1.2.0",
      "model_name": "LayoutModel",
      "state": {}
     },
     "41a9495cc0b44ca9985500a41664b57b": {
      "model_module": "@jupyter-widgets/base",
      "model_module_version": "1.2.0",
      "model_name": "LayoutModel",
      "state": {}
     },
     "41b11a902f0b4b40b04420b38c31311f": {
      "model_module": "@jupyter-widgets/controls",
      "model_module_version": "1.5.0",
      "model_name": "ColorPickerModel",
      "state": {
       "description": "emission",
       "disabled": false,
       "layout": "IPY_MODEL_9c1b63865e5a45d18756981388ce642e",
       "style": "IPY_MODEL_87184acfec304db28ea1dafadf28a35a",
       "value": "#000000"
      }
     },
     "42053ffc262a4b7ca6d5549dd52e5f82": {
      "model_module": "@jupyter-widgets/controls",
      "model_module_version": "1.5.0",
      "model_name": "ButtonStyleModel",
      "state": {}
     },
     "425f0c41e24249038f40431856835760": {
      "model_module": "@jupyter-widgets/base",
      "model_module_version": "1.2.0",
      "model_name": "LayoutModel",
      "state": {}
     },
     "427d650961a94ebc940f5d364721d046": {
      "model_module": "@jupyter-widgets/controls",
      "model_module_version": "1.5.0",
      "model_name": "BoundedIntTextModel",
      "state": {
       "description": "step",
       "layout": "IPY_MODEL_a66d925434884203a2d16ec0b78649fa",
       "min": 1,
       "style": "IPY_MODEL_6123c57c0dbe4538b3dd7c1dd9f725aa",
       "value": 1
      }
     },
     "428c2ac17d184a2c9179180861f4e079": {
      "model_module": "@jupyter-widgets/controls",
      "model_module_version": "1.5.0",
      "model_name": "DescriptionStyleModel",
      "state": {
       "description_width": ""
      }
     },
     "428c33889979493ca7367d4a363d4e8e": {
      "model_module": "@jupyter-widgets/base",
      "model_module_version": "1.2.0",
      "model_name": "LayoutModel",
      "state": {}
     },
     "4316ef0ebc0d4fdeaf2805c281c2673b": {
      "model_module": "@jupyter-widgets/base",
      "model_module_version": "1.2.0",
      "model_name": "LayoutModel",
      "state": {}
     },
     "434e488f2f084061b752baac7b2e3593": {
      "model_module": "@jupyter-widgets/controls",
      "model_module_version": "1.5.0",
      "model_name": "DescriptionStyleModel",
      "state": {
       "description_width": ""
      }
     },
     "4394ce4c24694818ad5c06e15932e88b": {
      "model_module": "@jupyter-widgets/base",
      "model_module_version": "1.2.0",
      "model_name": "LayoutModel",
      "state": {
       "margin": "20px 0px"
      }
     },
     "43ba10cfef5647dcacc79b7e087bba31": {
      "model_module": "@jupyter-widgets/controls",
      "model_module_version": "1.5.0",
      "model_name": "SliderStyleModel",
      "state": {
       "description_width": ""
      }
     },
     "43c13428f9a944b8a460d54eae5ad873": {
      "model_module": "pgljupyter",
      "model_module_version": "^0.1.2",
      "model_name": "FloatEditorModel",
      "state": {
       "_model_module_version": "^0.1.2",
       "_view_module_version": "^0.1.2",
       "children": [
        "IPY_MODEL_34a7af6b22db40fbbd501ad6986ec371",
        "IPY_MODEL_afd9593ec0b84617b0ed87c718ceb620",
        "IPY_MODEL_d8d05d5a29a74efe9d2384ef9c0949d6",
        "IPY_MODEL_05baa82cf2bd4d19ae29886c495c838c",
        "IPY_MODEL_d0804158d8994796a57cce09e55d1e9d"
       ],
       "layout": "IPY_MODEL_b25e2955a34f4430becede98d6b4bc0e"
      }
     },
     "44285d7230f445bf98197d64a341fe02": {
      "model_module": "@jupyter-widgets/controls",
      "model_module_version": "1.5.0",
      "model_name": "TextModel",
      "state": {
       "continuous_update": false,
       "description": "name",
       "layout": "IPY_MODEL_9f247c4d28cb495a854778e40397c2d2",
       "style": "IPY_MODEL_33a31a3d3fcc46a9b9009df9149904a8",
       "value": "nb_axes"
      }
     },
     "4452954c947d4500a16a79d71d3c2e7b": {
      "model_module": "pgljupyter",
      "model_module_version": "^0.1.2",
      "model_name": "CurveEditorModel",
      "state": {
       "_model_module_version": "^0.1.2",
       "_view_module_version": "^0.1.2",
       "children": [
        "IPY_MODEL_d3548b90ef3247ad9a07bc040218e2ba",
        "IPY_MODEL_9dded11f5a544de8be867b50bfcc065d"
       ],
       "layout": "IPY_MODEL_1834dc530a084c8498f3cad2f679f317"
      }
     },
     "4496978ebaf74413b5605902d2da87b2": {
      "model_module": "@jupyter-widgets/base",
      "model_module_version": "1.2.0",
      "model_name": "LayoutModel",
      "state": {}
     },
     "45249b3ec9cf468b928f4b5e1c4e6691": {
      "model_module": "@jupyter-widgets/base",
      "model_module_version": "1.2.0",
      "model_name": "LayoutModel",
      "state": {
       "margin": "20px 0px"
      }
     },
     "452cb761aa3c45988ae224ff962dda55": {
      "model_module": "@jupyter-widgets/controls",
      "model_module_version": "1.5.0",
      "model_name": "DescriptionStyleModel",
      "state": {
       "description_width": ""
      }
     },
     "4577152e2c1e4585949677ce08cc6a38": {
      "model_module": "@jupyter-widgets/controls",
      "model_module_version": "1.5.0",
      "model_name": "DescriptionStyleModel",
      "state": {
       "description_width": ""
      }
     },
     "4582f038b2014974a160502d5dbeaf9d": {
      "model_module": "@jupyter-widgets/controls",
      "model_module_version": "1.5.0",
      "model_name": "TextModel",
      "state": {
       "continuous_update": false,
       "description": "name",
       "layout": "IPY_MODEL_3f238a5fcc604191bc5b4736381148d8",
       "style": "IPY_MODEL_d02de77550284a6da1474d5305e95a37",
       "value": "leafold"
      }
     },
     "45970305473848b9995b6823545def77": {
      "model_module": "@jupyter-widgets/controls",
      "model_module_version": "1.5.0",
      "model_name": "HBoxModel",
      "state": {
       "children": [
        "IPY_MODEL_a6154bb682994037a3e9c4cd246be6e4",
        "IPY_MODEL_172d24bdeae5405a87e01faf7c467b74"
       ],
       "layout": "IPY_MODEL_20445554b4884e7c8d6af428872f4c15"
      }
     },
     "459840c1039c40659fd49f4c086acc29": {
      "model_module": "@jupyter-widgets/controls",
      "model_module_version": "1.5.0",
      "model_name": "FloatSliderModel",
      "state": {
       "description": "transparency",
       "layout": "IPY_MODEL_7bfa05f9b9ea414c9d631dd7c3d53fb0",
       "max": 1,
       "step": 0.1,
       "style": "IPY_MODEL_94e00aab9f27448caa364586229589bf"
      }
     },
     "45e1ea1dbfc64beab96c70595ac656ea": {
      "model_module": "@jupyter-widgets/base",
      "model_module_version": "1.2.0",
      "model_name": "LayoutModel",
      "state": {}
     },
     "45eab33145994f5ba739b30b1b0ebf80": {
      "model_module": "@jupyter-widgets/controls",
      "model_module_version": "1.5.0",
      "model_name": "DescriptionStyleModel",
      "state": {
       "description_width": ""
      }
     },
     "45fda64537864956b96ca712540b6091": {
      "model_module": "@jupyter-widgets/controls",
      "model_module_version": "1.5.0",
      "model_name": "FloatSliderModel",
      "state": {
       "description": "shininess",
       "layout": "IPY_MODEL_2bf3331faa364b30ad1034ed79e8c07a",
       "max": 1,
       "step": 0.1,
       "style": "IPY_MODEL_4ace57041c8b423a83c531503ab0e2fd",
       "value": 0.2
      }
     },
     "46bdc2ae0d2545468a3d1f00ad7a90d8": {
      "model_module": "@jupyter-widgets/controls",
      "model_module_version": "1.5.0",
      "model_name": "ButtonModel",
      "state": {
       "description": "Delete category",
       "layout": "IPY_MODEL_085cf00af7e74f6a8bdf8faa2bd45c79",
       "style": "IPY_MODEL_eeb63f88ae9c40f29096db1ae83b5a51"
      }
     },
     "46c02970a0b445b38cdd36e997fef5a9": {
      "model_module": "pgljupyter",
      "model_module_version": "^0.1.14",
      "model_name": "IntEditorModel",
      "state": {
       "_model_module_version": "^0.1.14",
       "_view_module_version": "^0.1.14",
       "children": [
        "IPY_MODEL_c23008d679574da89dc26ec437607d60",
        "IPY_MODEL_4ef04b643d17458ea94b3439df5b4633",
        "IPY_MODEL_9d203e25536a4c0dad39d28a5110f7cf",
        "IPY_MODEL_3cdac3fb61654b188cd59f6063f7bfd5",
        "IPY_MODEL_ec2d883dccfb49909c2358463c0faa7b"
       ],
       "layout": "IPY_MODEL_4394ce4c24694818ad5c06e15932e88b"
      }
     },
     "46d4a42297fb4b649abab841c2500d21": {
      "model_module": "@jupyter-widgets/controls",
      "model_module_version": "1.5.0",
      "model_name": "DescriptionStyleModel",
      "state": {
       "description_width": ""
      }
     },
     "471581ae848649c4b2d3b9f91531c7c1": {
      "model_module": "@jupyter-widgets/base",
      "model_module_version": "1.2.0",
      "model_name": "LayoutModel",
      "state": {}
     },
     "4715df1b0b834bf098b71011425a052b": {
      "model_module": "@jupyter-widgets/controls",
      "model_module_version": "1.5.0",
      "model_name": "BoundedFloatTextModel",
      "state": {
       "description": "step",
       "layout": "IPY_MODEL_1197ccef20ad42c09a38c91de1f4c7e7",
       "max": 1,
       "min": 0.01,
       "step": 0.01,
       "style": "IPY_MODEL_742dfafade604ead88df5aeb395d062f",
       "value": 0.01
      }
     },
     "47214f6427f7418fbaf69a73417a8a32": {
      "model_module": "@jupyter-widgets/base",
      "model_module_version": "1.2.0",
      "model_name": "LayoutModel",
      "state": {}
     },
     "472a677be1f44cb590714223cbed0472": {
      "model_module": "@jupyter-widgets/controls",
      "model_module_version": "1.5.0",
      "model_name": "ButtonModel",
      "state": {
       "description": "Add",
       "layout": "IPY_MODEL_61a348d649c34723ba3ac6274b9522dd",
       "style": "IPY_MODEL_ca7c6a5029e84e83b82b6b58a837603a"
      }
     },
     "47a0a6cf6ba74bd2a755cd7fb7f79fbd": {
      "model_module": "@jupyter-widgets/base",
      "model_module_version": "1.2.0",
      "model_name": "LayoutModel",
      "state": {}
     },
     "47afa44d41864f5d83f07650c61ec59f": {
      "model_module": "@jupyter-widgets/controls",
      "model_module_version": "1.5.0",
      "model_name": "SliderStyleModel",
      "state": {
       "description_width": ""
      }
     },
     "484b8fd868c54a1682e3cd09055dd983": {
      "model_module": "@jupyter-widgets/base",
      "model_module_version": "1.2.0",
      "model_name": "LayoutModel",
      "state": {}
     },
     "48586a848e08438299ebded38fec8f84": {
      "model_module": "@jupyter-widgets/controls",
      "model_module_version": "1.5.0",
      "model_name": "TextModel",
      "state": {
       "continuous_update": false,
       "description": "name",
       "layout": "IPY_MODEL_57230574f43049439fd4745f0cb973e6",
       "style": "IPY_MODEL_049e05cafeb2474591d9e039d80871b7",
       "value": "color_3"
      }
     },
     "48bdb719082748ef91def7da3aa3a65a": {
      "model_module": "@jupyter-widgets/controls",
      "model_module_version": "1.5.0",
      "model_name": "DescriptionStyleModel",
      "state": {
       "description_width": ""
      }
     },
     "48c1f53971054738990806ae620d7667": {
      "model_module": "@jupyter-widgets/controls",
      "model_module_version": "1.5.0",
      "model_name": "CheckboxModel",
      "state": {
       "description": "Auto save",
       "disabled": false,
       "layout": "IPY_MODEL_3828bc81eaf447458079ef13d518f1d6",
       "style": "IPY_MODEL_6666188aa3f4449999d1694b25ad41ee",
       "value": false
      }
     },
     "4919409bbefe4b55b628a112688032dd": {
      "model_module": "@jupyter-widgets/base",
      "model_module_version": "1.2.0",
      "model_name": "LayoutModel",
      "state": {
       "flex_flow": "row wrap"
      }
     },
     "493d5a5387c94ff6bb50e2aaa48fcbf4": {
      "model_module": "@jupyter-widgets/base",
      "model_module_version": "1.2.0",
      "model_name": "LayoutModel",
      "state": {}
     },
     "4944abeee5e845109317d2a65436e81b": {
      "model_module": "@jupyter-widgets/base",
      "model_module_version": "1.2.0",
      "model_name": "LayoutModel",
      "state": {}
     },
     "49a1436ad4014b5a8af052e018127e24": {
      "model_module": "@jupyter-widgets/controls",
      "model_module_version": "1.5.0",
      "model_name": "FloatSliderModel",
      "state": {
       "description": "transparency",
       "layout": "IPY_MODEL_e814128cb3ca406599575becc4a69bc2",
       "max": 1,
       "step": 0.1,
       "style": "IPY_MODEL_c13f341ad092459384f2c9ee63f72ecf"
      }
     },
     "49d765156c8d405a9d5045aaad000d89": {
      "model_module": "@jupyter-widgets/controls",
      "model_module_version": "1.5.0",
      "model_name": "FloatSliderModel",
      "state": {
       "description": "transparency",
       "layout": "IPY_MODEL_6810e648aef64abea58b5d98674de0b8",
       "max": 1,
       "step": 0.1,
       "style": "IPY_MODEL_43ba10cfef5647dcacc79b7e087bba31"
      }
     },
     "49dbac54c4d6481ba32cd961140796cc": {
      "model_module": "@jupyter-widgets/base",
      "model_module_version": "1.2.0",
      "model_name": "LayoutModel",
      "state": {}
     },
     "4a7a99489c5a42579c34d1355f0f4a43": {
      "model_module": "@jupyter-widgets/base",
      "model_module_version": "1.2.0",
      "model_name": "LayoutModel",
      "state": {
       "margin": "20px 0px"
      }
     },
     "4a918c9202a0476caad374619efcf855": {
      "model_module": "@jupyter-widgets/controls",
      "model_module_version": "1.5.0",
      "model_name": "HBoxModel",
      "state": {
       "children": [
        "IPY_MODEL_9d6be6a3893b409585f8da9214f2401d",
        "IPY_MODEL_a0da1a97ad364133b23633c7924c8382"
       ],
       "layout": "IPY_MODEL_63b4947d7fa1417cae7c1d3f084d49d5"
      }
     },
     "4ab95f25721548e9a6f9af0e22f82169": {
      "model_module": "@jupyter-widgets/base",
      "model_module_version": "1.2.0",
      "model_name": "LayoutModel",
      "state": {}
     },
     "4acc7b98a51f43498f9bddac5e91d64d": {
      "model_module": "@jupyter-widgets/controls",
      "model_module_version": "1.5.0",
      "model_name": "DescriptionStyleModel",
      "state": {
       "description_width": ""
      }
     },
     "4acdde3cfbf843c8afbee44ec9794ebd": {
      "model_module": "@jupyter-widgets/controls",
      "model_module_version": "1.5.0",
      "model_name": "DescriptionStyleModel",
      "state": {
       "description_width": ""
      }
     },
     "4ace57041c8b423a83c531503ab0e2fd": {
      "model_module": "@jupyter-widgets/controls",
      "model_module_version": "1.5.0",
      "model_name": "SliderStyleModel",
      "state": {
       "description_width": ""
      }
     },
     "4ade1c185619410ba023ba5776236f1d": {
      "model_module": "@jupyter-widgets/controls",
      "model_module_version": "1.5.0",
      "model_name": "ButtonStyleModel",
      "state": {}
     },
     "4b062199493449db918342e17a6ad7bc": {
      "model_module": "@jupyter-widgets/controls",
      "model_module_version": "1.5.0",
      "model_name": "VBoxModel",
      "state": {
       "children": [
        "IPY_MODEL_c6a2f506d2404d8088d464eb5aac551f",
        "IPY_MODEL_d0db5afd7c894db69b4bee3c7f83608a",
        "IPY_MODEL_68c85118ad164578b30b1f973b2d8833",
        "IPY_MODEL_059cd3ead9c84420a00546dd6da8188f",
        "IPY_MODEL_c5f1bf80981a4895b92f6fc2fecafac2"
       ],
       "layout": "IPY_MODEL_516f3839490b488c85bfa092f7f73e64"
      }
     },
     "4b3a9d9aa43144fca24393575055b6a0": {
      "model_module": "@jupyter-widgets/base",
      "model_module_version": "1.2.0",
      "model_name": "LayoutModel",
      "state": {
       "margin": "20px 0px"
      }
     },
     "4b64ee9c6a43480d901f5465b9f72678": {
      "model_module": "@jupyter-widgets/controls",
      "model_module_version": "1.5.0",
      "model_name": "ButtonStyleModel",
      "state": {}
     },
     "4b68990f7c95481cba2019dad4acc95d": {
      "model_module": "@jupyter-widgets/base",
      "model_module_version": "1.2.0",
      "model_name": "LayoutModel",
      "state": {}
     },
     "4bbbae79a86144d493f18b5c2c7594dc": {
      "model_module": "@jupyter-widgets/base",
      "model_module_version": "1.2.0",
      "model_name": "LayoutModel",
      "state": {}
     },
     "4bc1579957df4870a26abbbe1e8fbf81": {
      "model_module": "@jupyter-widgets/base",
      "model_module_version": "1.2.0",
      "model_name": "LayoutModel",
      "state": {}
     },
     "4c33b2ff3f1c47ffb18a56039702b03b": {
      "model_module": "@jupyter-widgets/base",
      "model_module_version": "1.2.0",
      "model_name": "LayoutModel",
      "state": {}
     },
     "4c8db41d749847e5a3305abcaf3731a3": {
      "model_module": "@jupyter-widgets/controls",
      "model_module_version": "1.5.0",
      "model_name": "IntTextModel",
      "state": {
       "description": "min",
       "layout": "IPY_MODEL_1d3a1be6a6084091b6a39ee2a8027c89",
       "step": 1,
       "style": "IPY_MODEL_0a24786ecfbe4e24a5250a48a1b6d358",
       "value": 1
      }
     },
     "4ccd58c794d4443dbe55872516e36d08": {
      "model_module": "@jupyter-widgets/controls",
      "model_module_version": "1.5.0",
      "model_name": "FloatSliderModel",
      "state": {
       "description": "shininess",
       "layout": "IPY_MODEL_e0d3b484200b4472a943c361ea5e1294",
       "max": 1,
       "step": 0.1,
       "style": "IPY_MODEL_54b30b3e72bb46fda919a34e55895666",
       "value": 0.7
      }
     },
     "4d1384563f59422491a12fe1ae288581": {
      "model_module": "@jupyter-widgets/controls",
      "model_module_version": "1.5.0",
      "model_name": "HBoxModel",
      "state": {
       "children": [
        "IPY_MODEL_1887cc7298b24d14826641b5481a0943",
        "IPY_MODEL_8521421917f24da6b6dadd3024bc4b3c"
       ],
       "layout": "IPY_MODEL_8a8447a78e8d49cbbb6bc89f112759f5"
      }
     },
     "4d778b7bf0634f95a71cbc70662ac093": {
      "model_module": "@jupyter-widgets/controls",
      "model_module_version": "1.5.0",
      "model_name": "DescriptionStyleModel",
      "state": {
       "description_width": ""
      }
     },
     "4db88b4aa5fb42a5b872196a8c76eb37": {
      "model_module": "pgljupyter",
      "model_module_version": "^0.1.2",
      "model_name": "_CurveEditorModel",
      "state": {
       "_model_module_version": "^0.1.2",
       "_view_module_version": "^0.1.2",
       "control_points": [
        [
         -0.5,
         0
        ],
        [
         -0.25,
         0.25
        ],
        [
         0.11363636363636365,
         -0.19545454545454544
        ],
        [
         0.25,
         0.25
        ],
        [
         0.5,
         0
        ]
       ],
       "curve_type": "NurbsCurve2D",
       "is_function": true,
       "layout": "IPY_MODEL_10589094c39140b8919a9555a61f9f09"
      }
     },
     "4dbbec1ba4df4a18a3c1e89398b3495e": {
      "model_module": "@jupyter-widgets/controls",
      "model_module_version": "1.5.0",
      "model_name": "SliderStyleModel",
      "state": {
       "description_width": ""
      }
     },
     "4dcf6f69930d49be872b838aed6b60ef": {
      "model_module": "@jupyter-widgets/base",
      "model_module_version": "1.2.0",
      "model_name": "LayoutModel",
      "state": {}
     },
     "4ded6f0e10d44e918caea6634ec2fab5": {
      "model_module": "@jupyter-widgets/base",
      "model_module_version": "1.2.0",
      "model_name": "LayoutModel",
      "state": {
       "margin": "20px 0px"
      }
     },
     "4e5a818d53444e98a18796f935a62117": {
      "model_module": "@jupyter-widgets/controls",
      "model_module_version": "1.5.0",
      "model_name": "DescriptionStyleModel",
      "state": {
       "description_width": ""
      }
     },
     "4e7474fa8fc74b8f9998ac5e83c24e80": {
      "model_module": "@jupyter-widgets/controls",
      "model_module_version": "1.5.0",
      "model_name": "SliderStyleModel",
      "state": {
       "description_width": ""
      }
     },
     "4e8d1d5dc75349a687367ab1a1036add": {
      "model_module": "pgljupyter",
      "model_module_version": "^0.1.14",
      "model_name": "MaterialEditorModel",
      "state": {
       "_model_module_version": "^0.1.14",
       "_view_module_version": "^0.1.14",
       "children": [
        "IPY_MODEL_ec6f227e1d1849c6b081b477e8c87086",
        "IPY_MODEL_c2d5788df88a4bffa01ec27cdf0aec8e",
        "IPY_MODEL_90a47df4dba34d57b516a9080888680e",
        "IPY_MODEL_d753d848f55f4e2b94e8fb42928aeb59",
        "IPY_MODEL_98f8b3c6f7c54cba99d0142498298b0a",
        "IPY_MODEL_d883946023a44ed59423d05c961e71b3",
        "IPY_MODEL_8708b4f84f454407bc516fc2e9b1e14b"
       ],
       "layout": "IPY_MODEL_3ac048bed3cb4f37a53ad7615782b007"
      }
     },
     "4eadb4503064446aaa9b09de3bbf33b3": {
      "model_module": "@jupyter-widgets/controls",
      "model_module_version": "1.5.0",
      "model_name": "HBoxModel",
      "state": {
       "layout": "IPY_MODEL_bb156c39f7374a1b9165dded955416f5"
      }
     },
     "4ebaed4962d34cb98cda2e52d678023a": {
      "model_module": "@jupyter-widgets/controls",
      "model_module_version": "1.5.0",
      "model_name": "DescriptionStyleModel",
      "state": {
       "description_width": ""
      }
     },
     "4ed43592321843ef9520c615cdd77876": {
      "model_module": "@jupyter-widgets/controls",
      "model_module_version": "1.5.0",
      "model_name": "FloatSliderModel",
      "state": {
       "description": "diffuse",
       "layout": "IPY_MODEL_f53d50f573ea4c8196171420178e0463",
       "max": 1,
       "step": 0.1,
       "style": "IPY_MODEL_26f6320010f14927813d14ad09e8177b"
      }
     },
     "4ef04b643d17458ea94b3439df5b4633": {
      "model_module": "@jupyter-widgets/controls",
      "model_module_version": "1.5.0",
      "model_name": "IntSliderModel",
      "state": {
       "description": "value",
       "layout": "IPY_MODEL_f41b3f5d927f4b1d84b27046a1dfaa99",
       "max": 7,
       "min": 1,
       "style": "IPY_MODEL_2aa8c97dc5be40c9be16773350baf277",
       "value": 3
      }
     },
     "4f1619fba91b4d7cb40cab3f9cfbda3e": {
      "model_module": "@jupyter-widgets/controls",
      "model_module_version": "1.5.0",
      "model_name": "DescriptionStyleModel",
      "state": {
       "description_width": ""
      }
     },
     "4f1821d5546d45ccb47890ddb7721566": {
      "model_module": "@jupyter-widgets/base",
      "model_module_version": "1.2.0",
      "model_name": "LayoutModel",
      "state": {}
     },
     "4f232ac5610c453da6bbff0d94f89765": {
      "model_module": "@jupyter-widgets/controls",
      "model_module_version": "1.5.0",
      "model_name": "DescriptionStyleModel",
      "state": {
       "description_width": ""
      }
     },
     "4f287b2a341448d9a798e24f4f22f436": {
      "model_module": "@jupyter-widgets/controls",
      "model_module_version": "1.5.0",
      "model_name": "IntTextModel",
      "state": {
       "description": "max",
       "layout": "IPY_MODEL_c8945ff55f3e4299bc6baee965a89100",
       "step": 1,
       "style": "IPY_MODEL_8298bb29a5c745799439a58c350b6a9a",
       "value": 10
      }
     },
     "4f50c35ffadf4ec98dad9f907df989f7": {
      "model_module": "@jupyter-widgets/base",
      "model_module_version": "1.2.0",
      "model_name": "LayoutModel",
      "state": {}
     },
     "4f98121246334297a02fb360aff2e606": {
      "model_module": "@jupyter-widgets/controls",
      "model_module_version": "1.5.0",
      "model_name": "IntTextModel",
      "state": {
       "description": "max",
       "layout": "IPY_MODEL_19db9ae357b3453fbd2da22eadb8956e",
       "step": 1,
       "style": "IPY_MODEL_6f8bb26a5dc749afa2ac8bd008a7e44c",
       "value": 10
      }
     },
     "4fdb3bdbb0884b1b9b70d74186e0ee51": {
      "model_module": "pgljupyter",
      "model_module_version": "^0.1.14",
      "model_name": "MaterialEditorModel",
      "state": {
       "_model_module_version": "^0.1.14",
       "_view_module_version": "^0.1.14",
       "children": [
        "IPY_MODEL_5addc8ec08bb40b083f5cbde80d8ec5a",
        "IPY_MODEL_d0bdbc64800d4d82b5dc67febea65a36",
        "IPY_MODEL_14817bde845446ec9c7495a6741273f0",
        "IPY_MODEL_1d143d9919154875be616ca354e10d87",
        "IPY_MODEL_35fe5bcb32a344c1839ffc661e5b7fe4",
        "IPY_MODEL_49a1436ad4014b5a8af052e018127e24",
        "IPY_MODEL_3e329edb95664cb486dda3c2b3c896cf"
       ],
       "layout": "IPY_MODEL_364a0d3467624371a6bdd269466b5c04"
      }
     },
     "501ea1908aad438daf66b1b6172aba6c": {
      "model_module": "@jupyter-widgets/base",
      "model_module_version": "1.2.0",
      "model_name": "LayoutModel",
      "state": {}
     },
     "5028f9bf49fb443a9a1cbb1892e2eaa5": {
      "model_module": "@jupyter-widgets/controls",
      "model_module_version": "1.5.0",
      "model_name": "DescriptionStyleModel",
      "state": {
       "description_width": ""
      }
     },
     "502e8a7f883742d0a593c735da02e62c": {
      "model_module": "@jupyter-widgets/controls",
      "model_module_version": "1.5.0",
      "model_name": "DescriptionStyleModel",
      "state": {
       "description_width": ""
      }
     },
     "502fc0257664489ca57463b9f0891d19": {
      "model_module": "@jupyter-widgets/controls",
      "model_module_version": "1.5.0",
      "model_name": "IntTextModel",
      "state": {
       "description": "min",
       "layout": "IPY_MODEL_a85fa0285fba40f3a6e4a31762022de3",
       "step": 1,
       "style": "IPY_MODEL_973b8db74a7241838bcf94e8926a691c",
       "value": 1
      }
     },
     "5033c64811d044d4bfb1668fefbe13dd": {
      "model_module": "@jupyter-widgets/controls",
      "model_module_version": "1.5.0",
      "model_name": "DescriptionStyleModel",
      "state": {
       "description_width": ""
      }
     },
     "507a380126584a23acf72009229e0b78": {
      "model_module": "@jupyter-widgets/base",
      "model_module_version": "1.2.0",
      "model_name": "LayoutModel",
      "state": {}
     },
     "50b5640fcf26472bb3b7a44f52d8e1e5": {
      "model_module": "@jupyter-widgets/controls",
      "model_module_version": "1.5.0",
      "model_name": "ButtonModel",
      "state": {
       "description": "Delete",
       "layout": "IPY_MODEL_02dfbd0f3f494360ad5c3be0612bc61f",
       "style": "IPY_MODEL_b667c2ac1f16455daba01fec1e350f9a"
      }
     },
     "50f6ca45ee7c4be8ab97d014e4b3619d": {
      "model_module": "@jupyter-widgets/controls",
      "model_module_version": "1.5.0",
      "model_name": "HBoxModel",
      "state": {
       "children": [
        "IPY_MODEL_76828b02847f49ffabf74ca1c0f2de97",
        "IPY_MODEL_5cc64d948421470ca2d0fdfbabb9f894",
        "IPY_MODEL_97b1c094320146c1bccde87922ad76ab",
        "IPY_MODEL_ec24f35bb3fa42c4a49afed0c7c8655d"
       ],
       "layout": "IPY_MODEL_2c758a39f7fc445fb36328a5392bc3cb"
      }
     },
     "514cfc19ebf74685ab74dd7b7a22c471": {
      "model_module": "@jupyter-widgets/controls",
      "model_module_version": "1.5.0",
      "model_name": "SliderStyleModel",
      "state": {
       "description_width": ""
      }
     },
     "516f3839490b488c85bfa092f7f73e64": {
      "model_module": "@jupyter-widgets/base",
      "model_module_version": "1.2.0",
      "model_name": "LayoutModel",
      "state": {}
     },
     "51e4a756a4174e399005475e57e78c22": {
      "model_module": "@jupyter-widgets/base",
      "model_module_version": "1.2.0",
      "model_name": "LayoutModel",
      "state": {}
     },
     "5242056fc3e74012833d1c34f09631be": {
      "model_module": "@jupyter-widgets/controls",
      "model_module_version": "1.5.0",
      "model_name": "HBoxModel",
      "state": {
       "children": [
        "IPY_MODEL_4a918c9202a0476caad374619efcf855",
        "IPY_MODEL_9866af8bed034a5794d5192397982b56"
       ],
       "layout": "IPY_MODEL_1bcadc721303432abe9c782e04d39bdb"
      }
     },
     "525695082907441b9d5fe716c55b2141": {
      "model_module": "@jupyter-widgets/controls",
      "model_module_version": "1.5.0",
      "model_name": "IntTextModel",
      "state": {
       "description": "min",
       "layout": "IPY_MODEL_77bd1f060fa34f0f829dcac933f97e94",
       "step": 1,
       "style": "IPY_MODEL_9e81f7640e8f4efe9c6911df87f9bc06",
       "value": 1
      }
     },
     "52ca1ed525844e04951491c3bedc20bd": {
      "model_module": "pgljupyter",
      "model_module_version": "^0.1.2",
      "model_name": "ParameterEditorModel",
      "state": {
       "_model_module_version": "^0.1.2",
       "_view_module_version": "^0.1.2",
       "children": [
        "IPY_MODEL_0363dd6f49f04bb58c913c0d2c5c903b"
       ],
       "layout": "IPY_MODEL_84896375a43b4ce3b3339763cff16672"
      }
     },
     "52cf68e476164b149a0ae8a47536c3d5": {
      "model_module": "@jupyter-widgets/controls",
      "model_module_version": "1.5.0",
      "model_name": "IntTextModel",
      "state": {
       "description": "min",
       "layout": "IPY_MODEL_a0e11695f24944bf94fad5b77ca3bcf3",
       "step": 1,
       "style": "IPY_MODEL_1011fc19b1da457cba092f3ff3475f19",
       "value": 1
      }
     },
     "52d545c83d3e481487b0166b187bf347": {
      "model_module": "@jupyter-widgets/controls",
      "model_module_version": "1.5.0",
      "model_name": "TabModel",
      "state": {
       "layout": "IPY_MODEL_a68b7fc99f404294906f8f19e3fbcf4a"
      }
     },
     "52ed3b29cc924319aa39707f79b42d17": {
      "model_module": "@jupyter-widgets/base",
      "model_module_version": "1.2.0",
      "model_name": "LayoutModel",
      "state": {}
     },
     "535753bdefa642f2833596ad6d1dcf7b": {
      "model_module": "@jupyter-widgets/controls",
      "model_module_version": "1.5.0",
      "model_name": "DescriptionStyleModel",
      "state": {
       "description_width": ""
      }
     },
     "53ec91f57093422daaabbfa341b1878b": {
      "model_module": "@jupyter-widgets/base",
      "model_module_version": "1.2.0",
      "model_name": "LayoutModel",
      "state": {}
     },
     "53f6270f491843a0b16c33aa8def5354": {
      "model_module": "@jupyter-widgets/base",
      "model_module_version": "1.2.0",
      "model_name": "LayoutModel",
      "state": {}
     },
     "543e057f74d34186b9646b8011bf4a79": {
      "model_module": "@jupyter-widgets/base",
      "model_module_version": "1.2.0",
      "model_name": "LayoutModel",
      "state": {}
     },
     "54769b26134a4b46a9dd5a9fb3fe96f0": {
      "model_module": "@jupyter-widgets/controls",
      "model_module_version": "1.5.0",
      "model_name": "HBoxModel",
      "state": {
       "layout": "IPY_MODEL_1dbafdd152c84ab4b7288ac443955d83"
      }
     },
     "547c418d86ec4fce8644a63a4d9fad45": {
      "model_module": "@jupyter-widgets/controls",
      "model_module_version": "1.5.0",
      "model_name": "BoundedIntTextModel",
      "state": {
       "description": "index",
       "layout": "IPY_MODEL_c0a0b6ba4761420fa5e80e161bdb896d",
       "style": "IPY_MODEL_fd7d330ce7384b0b8b5b1d06fe02e1b5",
       "value": 4
      }
     },
     "54b30b3e72bb46fda919a34e55895666": {
      "model_module": "@jupyter-widgets/controls",
      "model_module_version": "1.5.0",
      "model_name": "SliderStyleModel",
      "state": {
       "description_width": ""
      }
     },
     "54b84ad583044a479b5c2ead83e9b590": {
      "model_module": "@jupyter-widgets/base",
      "model_module_version": "1.2.0",
      "model_name": "LayoutModel",
      "state": {
       "margin": "20px 0px"
      }
     },
     "54e18e6488554c9eb34ba05898de159c": {
      "model_module": "@jupyter-widgets/controls",
      "model_module_version": "1.5.0",
      "model_name": "DescriptionStyleModel",
      "state": {
       "description_width": ""
      }
     },
     "54ecc896d94e4bb383be5ff430e1e0a1": {
      "model_module": "@jupyter-widgets/controls",
      "model_module_version": "1.5.0",
      "model_name": "HBoxModel",
      "state": {
       "children": [
        "IPY_MODEL_5fca0bb2ecf94ad391219d5eeda1df19",
        "IPY_MODEL_9f38bd04057f4c4e980db9af3d88bb25"
       ],
       "layout": "IPY_MODEL_31e77ba59ad24997839039a4c9c53e93"
      }
     },
     "556aa8c93c3644c4a4a0a5fe38dada3a": {
      "model_module": "@jupyter-widgets/base",
      "model_module_version": "1.2.0",
      "model_name": "LayoutModel",
      "state": {}
     },
     "55dd24f2a4134bb8918a6c13a35703b2": {
      "model_module": "@jupyter-widgets/controls",
      "model_module_version": "1.5.0",
      "model_name": "SliderStyleModel",
      "state": {
       "description_width": ""
      }
     },
     "55e50482ddd14ec08b2e2699040ec3a6": {
      "model_module": "@jupyter-widgets/controls",
      "model_module_version": "1.5.0",
      "model_name": "FloatSliderModel",
      "state": {
       "description": "diffuse",
       "layout": "IPY_MODEL_ee2e3e4b8e134b2f9faf01615d057f6b",
       "max": 1,
       "step": 0.1,
       "style": "IPY_MODEL_2b3bf360eab343d593671b7dbea90bd5",
       "value": 1
      }
     },
     "564a42c5a9ca42cb9b9795167a4f42b8": {
      "model_module": "@jupyter-widgets/base",
      "model_module_version": "1.2.0",
      "model_name": "LayoutModel",
      "state": {}
     },
     "565735071d44460084dbcc986fac2a21": {
      "model_module": "@jupyter-widgets/controls",
      "model_module_version": "1.5.0",
      "model_name": "IntSliderModel",
      "state": {
       "description": "value",
       "layout": "IPY_MODEL_d86a81dfb35f47f590e7c22764e29eb9",
       "max": 10,
       "min": 1,
       "style": "IPY_MODEL_ae73cfabbf0c449fab531100f9045c48",
       "value": 3
      }
     },
     "56fd1fd2e814475eb612902882576a7b": {
      "model_module": "@jupyter-widgets/controls",
      "model_module_version": "1.5.0",
      "model_name": "HBoxModel",
      "state": {
       "children": [
        "IPY_MODEL_234ac662616e4f3c84f2599e188d95c4",
        "IPY_MODEL_13f0d0a4d0aa4c2785e171b7994d4969"
       ],
       "layout": "IPY_MODEL_5a6b22aae267432c961ea45f4625682b"
      }
     },
     "57230574f43049439fd4745f0cb973e6": {
      "model_module": "@jupyter-widgets/base",
      "model_module_version": "1.2.0",
      "model_name": "LayoutModel",
      "state": {}
     },
     "572b9fffa5a14e6fa1858cfc214e58b6": {
      "model_module": "@jupyter-widgets/controls",
      "model_module_version": "1.5.0",
      "model_name": "SliderStyleModel",
      "state": {
       "description_width": ""
      }
     },
     "574863a6cad34aef8e40d8339970a06e": {
      "model_module": "@jupyter-widgets/base",
      "model_module_version": "1.2.0",
      "model_name": "LayoutModel",
      "state": {}
     },
     "576b9f76c2554786a55aa2746dccdcd2": {
      "model_module": "@jupyter-widgets/controls",
      "model_module_version": "1.5.0",
      "model_name": "ButtonStyleModel",
      "state": {}
     },
     "578316b91d17484a80132ba6fadd8e4d": {
      "model_module": "@jupyter-widgets/controls",
      "model_module_version": "1.5.0",
      "model_name": "ButtonModel",
      "state": {
       "description": "Save changes",
       "layout": "IPY_MODEL_1bc3f0f3b6b74005b830717c2c436ca2",
       "style": "IPY_MODEL_d3ba0204db55482095d75dd306143739"
      }
     },
     "5783a1ffec3a4cf7831b22bbadf5558d": {
      "model_module": "@jupyter-widgets/controls",
      "model_module_version": "1.5.0",
      "model_name": "ButtonModel",
      "state": {
       "description": "Add",
       "layout": "IPY_MODEL_1f678338b62947efb94d704316f3494d",
       "style": "IPY_MODEL_632f8ed8e8d54c0fb211a3f817e5249b"
      }
     },
     "57a7f707d08c4c63bf3ba337a4ba07e7": {
      "model_module": "@jupyter-widgets/base",
      "model_module_version": "1.2.0",
      "model_name": "LayoutModel",
      "state": {}
     },
     "57c821df3d834463805124e7186d4dbe": {
      "model_module": "@jupyter-widgets/controls",
      "model_module_version": "1.5.0",
      "model_name": "SliderStyleModel",
      "state": {
       "description_width": ""
      }
     },
     "57e58ad59edd42ff9e9f05759bd93609": {
      "model_module": "@jupyter-widgets/base",
      "model_module_version": "1.2.0",
      "model_name": "LayoutModel",
      "state": {
       "margin": "20px 0px"
      }
     },
     "581ab15f304f4f8ba447fe3701cf54b1": {
      "model_module": "@jupyter-widgets/base",
      "model_module_version": "1.2.0",
      "model_name": "LayoutModel",
      "state": {}
     },
     "5869b36a3dbb49e7ac247b1feb7974f0": {
      "model_module": "@jupyter-widgets/controls",
      "model_module_version": "1.5.0",
      "model_name": "DescriptionStyleModel",
      "state": {
       "description_width": ""
      }
     },
     "587b1dffe6b24823be3ef953d7ec9603": {
      "model_module": "@jupyter-widgets/base",
      "model_module_version": "1.2.0",
      "model_name": "LayoutModel",
      "state": {}
     },
     "587dd5a4d2b8417b9922df6385c8d282": {
      "model_module": "pgljupyter",
      "model_module_version": "^0.1.2",
      "model_name": "ParameterEditorModel",
      "state": {
       "_model_module_version": "^0.1.2",
       "_view_module_version": "^0.1.2",
       "children": [
        "IPY_MODEL_95ba0750d90d46549f250d00ed29fe90"
       ],
       "layout": "IPY_MODEL_9a5bea988e4b44239c09cfdf7b695751"
      }
     },
     "588d64f172f4413783d455778353f9b9": {
      "model_module": "@jupyter-widgets/controls",
      "model_module_version": "1.5.0",
      "model_name": "DescriptionStyleModel",
      "state": {
       "description_width": ""
      }
     },
     "591b3c54a7984fc298dcb80aab4e9c80": {
      "model_module": "@jupyter-widgets/base",
      "model_module_version": "1.2.0",
      "model_name": "LayoutModel",
      "state": {}
     },
     "593c45add93e470fa160defc86ae8503": {
      "model_module": "@jupyter-widgets/controls",
      "model_module_version": "1.5.0",
      "model_name": "ButtonModel",
      "state": {
       "description": "Save changes",
       "disabled": true,
       "layout": "IPY_MODEL_006c860d83bb44f197de8a363c8000ca",
       "style": "IPY_MODEL_73f500e006d84a9c84319ee4b2755109"
      }
     },
     "5965992f600047acaf09d3042fa191f5": {
      "model_module": "@jupyter-widgets/controls",
      "model_module_version": "1.5.0",
      "model_name": "DescriptionStyleModel",
      "state": {
       "description_width": ""
      }
     },
     "598dc53fc7284c30a10048ee82300ca0": {
      "model_module": "@jupyter-widgets/controls",
      "model_module_version": "1.5.0",
      "model_name": "SliderStyleModel",
      "state": {
       "description_width": ""
      }
     },
     "59c51570d1884b5ba5083077f9f5b157": {
      "model_module": "@jupyter-widgets/controls",
      "model_module_version": "1.5.0",
      "model_name": "BoundedIntTextModel",
      "state": {
       "description": "index",
       "layout": "IPY_MODEL_c057446521834fda9bf45c6084e8f55f",
       "style": "IPY_MODEL_ca9cabf582ce4689abcc8d1e8ca02b57",
       "value": 1
      }
     },
     "59e4ce096db041599800b92606fb73a5": {
      "model_module": "@jupyter-widgets/base",
      "model_module_version": "1.2.0",
      "model_name": "LayoutModel",
      "state": {}
     },
     "5a0bb9f3a4c444d397509b0db43feacb": {
      "model_module": "@jupyter-widgets/controls",
      "model_module_version": "1.5.0",
      "model_name": "BoundedIntTextModel",
      "state": {
       "description": "index",
       "layout": "IPY_MODEL_b3a95801c23f4290b028849cf85da1e0",
       "style": "IPY_MODEL_434e488f2f084061b752baac7b2e3593",
       "value": 2
      }
     },
     "5a1fb8503b2442f9b24cb6b1fece5705": {
      "model_module": "@jupyter-widgets/base",
      "model_module_version": "1.2.0",
      "model_name": "LayoutModel",
      "state": {}
     },
     "5a20bedfc3174238b2ea8c131168e933": {
      "model_module": "@jupyter-widgets/base",
      "model_module_version": "1.2.0",
      "model_name": "LayoutModel",
      "state": {
       "margin": "20px 0px"
      }
     },
     "5a27be4bb9c048a2bb54f5eb48c09787": {
      "model_module": "@jupyter-widgets/controls",
      "model_module_version": "1.5.0",
      "model_name": "DescriptionStyleModel",
      "state": {
       "description_width": ""
      }
     },
     "5a2e5528074949ac9f2d0bd4dfa6342a": {
      "model_module": "@jupyter-widgets/controls",
      "model_module_version": "1.5.0",
      "model_name": "ButtonStyleModel",
      "state": {}
     },
     "5a6303b3dd7146c1bc4f2aee154764ff": {
      "model_module": "@jupyter-widgets/controls",
      "model_module_version": "1.5.0",
      "model_name": "ButtonStyleModel",
      "state": {}
     },
     "5a6b22aae267432c961ea45f4625682b": {
      "model_module": "@jupyter-widgets/base",
      "model_module_version": "1.2.0",
      "model_name": "LayoutModel",
      "state": {}
     },
     "5ab9113113e04cbc8f728a3925f24dc8": {
      "model_module": "@jupyter-widgets/base",
      "model_module_version": "1.2.0",
      "model_name": "LayoutModel",
      "state": {}
     },
     "5addc8ec08bb40b083f5cbde80d8ec5a": {
      "model_module": "@jupyter-widgets/controls",
      "model_module_version": "1.5.0",
      "model_name": "TextModel",
      "state": {
       "continuous_update": false,
       "description": "name",
       "layout": "IPY_MODEL_c09ac5f419df40aa9d1c27db2f5b8fe2",
       "style": "IPY_MODEL_c4e9c941f22141baa6941a4cac591ea8",
       "value": "color_1"
      }
     },
     "5b0cb2a6a992436289ac3a0b8e7bae75": {
      "model_module": "@jupyter-widgets/base",
      "model_module_version": "1.2.0",
      "model_name": "LayoutModel",
      "state": {
       "margin": "20px 0px"
      }
     },
     "5b304100eebf4a1f9391c0dd6994324b": {
      "model_module": "@jupyter-widgets/controls",
      "model_module_version": "1.5.0",
      "model_name": "FloatSliderModel",
      "state": {
       "description": "transparency",
       "layout": "IPY_MODEL_b0a9193e48b440a2a8e99ad438002fd8",
       "max": 1,
       "step": 0.1,
       "style": "IPY_MODEL_122b9ccaf98349639dc497a0aa0de2ff"
      }
     },
     "5bb3e8d0cda8438b902ddf054f47aca2": {
      "model_module": "@jupyter-widgets/controls",
      "model_module_version": "1.5.0",
      "model_name": "DropdownModel",
      "state": {
       "_options_labels": [
        "color_1",
        "color_2",
        "color_4"
       ],
       "index": 0,
       "layout": "IPY_MODEL_c95cf67e99be4e26a62abb82e9ca131b",
       "style": "IPY_MODEL_b8edda361f7c45fca84ae1034a46206a"
      }
     },
     "5be4664a6e1f4328bbc274b21c1c5c15": {
      "model_module": "@jupyter-widgets/controls",
      "model_module_version": "1.5.0",
      "model_name": "BoundedIntTextModel",
      "state": {
       "description": "step",
       "layout": "IPY_MODEL_52ed3b29cc924319aa39707f79b42d17",
       "min": 1,
       "style": "IPY_MODEL_2ff2e549a4684de5a2db6f29b2366fd5",
       "value": 1
      }
     },
     "5c04a7bab5654a89bb57cca666a4c17e": {
      "model_module": "@jupyter-widgets/base",
      "model_module_version": "1.2.0",
      "model_name": "LayoutModel",
      "state": {}
     },
     "5c063035428d484eb96aa25652f1770c": {
      "model_module": "@jupyter-widgets/controls",
      "model_module_version": "1.5.0",
      "model_name": "SliderStyleModel",
      "state": {
       "description_width": ""
      }
     },
     "5c5d43ff238d401bb3938a61a166e488": {
      "model_module": "@jupyter-widgets/controls",
      "model_module_version": "1.5.0",
      "model_name": "SliderStyleModel",
      "state": {
       "description_width": ""
      }
     },
     "5c79a794e9ac4cbfb81e5ba98a148a97": {
      "model_module": "@jupyter-widgets/controls",
      "model_module_version": "1.5.0",
      "model_name": "DropdownModel",
      "state": {
       "_options_labels": [
        "Integer",
        "Float",
        "Bool"
       ],
       "index": 0,
       "layout": "IPY_MODEL_3a51faf612714fa697dd0a09dbca2f90",
       "style": "IPY_MODEL_84e2779eec6247e788956dd1ebf9ea54"
      }
     },
     "5cb242cfc7614b3eb4c7b8c0e9c5c193": {
      "model_module": "@jupyter-widgets/base",
      "model_module_version": "1.2.0",
      "model_name": "LayoutModel",
      "state": {}
     },
     "5cc64d948421470ca2d0fdfbabb9f894": {
      "model_module": "@jupyter-widgets/controls",
      "model_module_version": "1.5.0",
      "model_name": "DropdownModel",
      "state": {
       "_options_labels": [
        "Integer",
        "Float",
        "Bool"
       ],
       "index": 0,
       "layout": "IPY_MODEL_6d9c7f7305ad4ec4afff7c03238f241a",
       "style": "IPY_MODEL_952046052d024f28bf70c8a76f65f14a"
      }
     },
     "5cf887d3feab499d9c355b88d984835c": {
      "model_module": "@jupyter-widgets/controls",
      "model_module_version": "1.5.0",
      "model_name": "ColorPickerModel",
      "state": {
       "description": "specular",
       "disabled": false,
       "layout": "IPY_MODEL_954794a6a3d042c395cc18311c564ac2",
       "style": "IPY_MODEL_72b34f3219da475383427c0f92144518",
       "value": "#282828"
      }
     },
     "5d0e1dc0975846b6b54717b2447cc767": {
      "model_module": "@jupyter-widgets/controls",
      "model_module_version": "1.5.0",
      "model_name": "DescriptionStyleModel",
      "state": {
       "description_width": ""
      }
     },
     "5d435d9b86cd4d3e9fec3dcc41b6d3fb": {
      "model_module": "@jupyter-widgets/controls",
      "model_module_version": "1.5.0",
      "model_name": "ButtonStyleModel",
      "state": {}
     },
     "5d57049901ac483088e46ecaa3b6c0ee": {
      "model_module": "@jupyter-widgets/controls",
      "model_module_version": "1.5.0",
      "model_name": "SliderStyleModel",
      "state": {
       "description_width": ""
      }
     },
     "5d5b275d15b946cbbaaf085b88ac6394": {
      "model_module": "@jupyter-widgets/base",
      "model_module_version": "1.2.0",
      "model_name": "LayoutModel",
      "state": {}
     },
     "5d8aae870bc94dcea2e224eec7234ffb": {
      "model_module": "@jupyter-widgets/base",
      "model_module_version": "1.2.0",
      "model_name": "LayoutModel",
      "state": {}
     },
     "5d943e0e9e654ffd89088143a379e75e": {
      "model_module": "@jupyter-widgets/base",
      "model_module_version": "1.2.0",
      "model_name": "LayoutModel",
      "state": {}
     },
     "5dfb04fd42f143819e97dabdc39b2d5f": {
      "model_module": "@jupyter-widgets/controls",
      "model_module_version": "1.5.0",
      "model_name": "SliderStyleModel",
      "state": {
       "description_width": ""
      }
     },
     "5e00d7802e284e14b7b04901ce63c863": {
      "model_module": "@jupyter-widgets/controls",
      "model_module_version": "1.5.0",
      "model_name": "DropdownModel",
      "state": {
       "_options_labels": [
        "color_1",
        "color_2",
        "color_3",
        "color_4"
       ],
       "index": 0,
       "layout": "IPY_MODEL_627c271f78834217bc20d170efbb89bc",
       "style": "IPY_MODEL_e4c4383d338c4f9f97d40c892dd6df0b"
      }
     },
     "5e191573a5924d1887ed7d21c6786fdf": {
      "model_module": "@jupyter-widgets/controls",
      "model_module_version": "1.5.0",
      "model_name": "CheckboxModel",
      "state": {
       "description": "Auto save",
       "disabled": false,
       "layout": "IPY_MODEL_ad94bfff93e04101a47bfab77c5253cf",
       "style": "IPY_MODEL_a0eb9b213db94887a716ff41a5edf851",
       "value": true
      }
     },
     "5e420e22516544c99e03c561351caa77": {
      "model_module": "@jupyter-widgets/controls",
      "model_module_version": "1.5.0",
      "model_name": "IntTextModel",
      "state": {
       "description": "max",
       "layout": "IPY_MODEL_0fc05305117943d28f9afe7ecc9aa553",
       "step": 1,
       "style": "IPY_MODEL_3e83fe9f30584627863edeb47779fdff",
       "value": 10
      }
     },
     "5eed3d4518234051843f485cc369deff": {
      "model_module": "pgljupyter",
      "model_module_version": "^0.1.2",
      "model_name": "IntEditorModel",
      "state": {
       "_model_module_version": "^0.1.2",
       "_view_module_version": "^0.1.2",
       "children": [
        "IPY_MODEL_c580a4d8ab98468a9d0492ff60aa2379",
        "IPY_MODEL_dc93e065fc0b494a9a9f6ed34b82a08a",
        "IPY_MODEL_aa93ebe5f3724dc68c642492005612b9",
        "IPY_MODEL_be32dc92ecd64abcb793bf8183527506",
        "IPY_MODEL_78b7a0be83c644fdb993627391ce7ebf"
       ],
       "layout": "IPY_MODEL_5b0cb2a6a992436289ac3a0b8e7bae75"
      }
     },
     "5faadf4842f04521928328410e1fa0d9": {
      "model_module": "@jupyter-widgets/base",
      "model_module_version": "1.2.0",
      "model_name": "LayoutModel",
      "state": {}
     },
     "5fca0bb2ecf94ad391219d5eeda1df19": {
      "model_module": "@jupyter-widgets/controls",
      "model_module_version": "1.5.0",
      "model_name": "ButtonModel",
      "state": {
       "description": "Add",
       "layout": "IPY_MODEL_f96e0af600ef4954a3ee825bd6a3337a",
       "style": "IPY_MODEL_bc3db02e28bb4caeb6026fe5f4369a0f"
      }
     },
     "5fcc45e79e4548fd9842f2b10f8450e1": {
      "model_module": "pgljupyter",
      "model_module_version": "^0.1.2",
      "model_name": "_CurveEditorModel",
      "state": {
       "_model_module_version": "^0.1.2",
       "_view_module_version": "^0.1.2",
       "control_points": [
        [
         -0.5,
         0
        ],
        [
         -0.35,
         0.23636363636363636
        ],
        [
         -0.09545454545454546,
         0.3318181818181818
        ],
        [
         0.19545454545454544,
         0.1409090909090909
        ],
        [
         -0.02727272727272731,
         0.04545454545454544
        ]
       ],
       "curve_type": "NurbsCurve2D",
       "layout": "IPY_MODEL_9a8af2a83e724b998e08021ea97d1c9b"
      }
     },
     "600fc76dfafc45f08e55eb4bb9f99a20": {
      "model_module": "pgljupyter",
      "model_module_version": "^0.1.2",
      "model_name": "LsystemWidgetModel",
      "state": {
       "_model_module_version": "^0.1.2",
       "_view_module_version": "^0.1.2",
       "axes_helper": false,
       "derivationLength": 45,
       "layout": "IPY_MODEL_8f477e2e294f4e3492be7dbd7786b8fb",
       "light_helper": false,
       "plane": true,
       "size_display": [
        400,
        400
       ],
       "size_world": [
        10,
        10,
        10
       ],
       "unit": 1
      }
     },
     "60af561202804091b4f43cb7d49813b4": {
      "model_module": "@jupyter-widgets/controls",
      "model_module_version": "1.5.0",
      "model_name": "DescriptionStyleModel",
      "state": {
       "description_width": ""
      }
     },
     "60c75cd30cc5440faf0dcf062f8f9255": {
      "model_module": "@jupyter-widgets/controls",
      "model_module_version": "1.5.0",
      "model_name": "HBoxModel",
      "state": {
       "children": [
        "IPY_MODEL_6a6f615de03a4649af512f135b152984",
        "IPY_MODEL_c46f5ff856fd462f9aa4c788ae2e855f",
        "IPY_MODEL_2daaf6242ed9461985d9559a718b68a5"
       ],
       "layout": "IPY_MODEL_1dbafdd152c84ab4b7288ac443955d83"
      }
     },
     "610f7650b05c421c99fd9175cb6f82c4": {
      "model_module": "@jupyter-widgets/controls",
      "model_module_version": "1.5.0",
      "model_name": "DescriptionStyleModel",
      "state": {
       "description_width": ""
      }
     },
     "6120d60994144590bb1063cb54022e89": {
      "model_module": "@jupyter-widgets/controls",
      "model_module_version": "1.5.0",
      "model_name": "ColorPickerModel",
      "state": {
       "description": "specular",
       "disabled": false,
       "layout": "IPY_MODEL_78d652192b4b4743bc2c5517507e5afc",
       "style": "IPY_MODEL_138e5976c87e467db45a4df41b5803ab",
       "value": "#478f9f"
      }
     },
     "6123c57c0dbe4538b3dd7c1dd9f725aa": {
      "model_module": "@jupyter-widgets/controls",
      "model_module_version": "1.5.0",
      "model_name": "DescriptionStyleModel",
      "state": {
       "description_width": ""
      }
     },
     "613323765a7743b8bbb7355e6b86eebd": {
      "model_module": "@jupyter-widgets/base",
      "model_module_version": "1.2.0",
      "model_name": "LayoutModel",
      "state": {}
     },
     "617cdacfed1949cab54a16c180c5110d": {
      "model_module": "pgljupyter",
      "model_module_version": "^0.1.14",
      "model_name": "MaterialEditorModel",
      "state": {
       "_model_module_version": "^0.1.14",
       "_view_module_version": "^0.1.14",
       "children": [
        "IPY_MODEL_48586a848e08438299ebded38fec8f84",
        "IPY_MODEL_e7259c5497f84e1aab37519dbcad93ac",
        "IPY_MODEL_cf03090252ae4c0889577f516c020b2a",
        "IPY_MODEL_b2281f0f5285481f920f4cdaaf8e1be3",
        "IPY_MODEL_1c407f550b804b298b4387b1c3ea9fbb",
        "IPY_MODEL_21b3220570124d98b179bdfeb5808fce",
        "IPY_MODEL_0de9d0bab3ea4b2aacaf915738257b82"
       ],
       "layout": "IPY_MODEL_81d2078f6d2d4f85b52040893d4bfd95"
      }
     },
     "617dd871b3974aa984eea01a4c161657": {
      "model_module": "pgljupyter",
      "model_module_version": "^0.1.2",
      "model_name": "_CurveEditorModel",
      "state": {
       "_model_module_version": "^0.1.2",
       "_view_module_version": "^0.1.2",
       "control_points": [
        [
         -0.5,
         0
        ],
        [
         -0.25,
         0.25
        ],
        [
         0,
         -0.25
        ],
        [
         0.25,
         0.25
        ],
        [
         0.5,
         0
        ]
       ],
       "curve_type": "NurbsCurve2D",
       "layout": "IPY_MODEL_b0c4b4c1dd984e44aaa7bb43a9eaa03f"
      }
     },
     "6194e43fb489473e9bd1e1543e91458e": {
      "model_module": "@jupyter-widgets/controls",
      "model_module_version": "1.5.0",
      "model_name": "BoundedIntTextModel",
      "state": {
       "description": "step",
       "layout": "IPY_MODEL_b25daccebff14d03b80eed1aa3954352",
       "min": 1,
       "style": "IPY_MODEL_ff9fd4d06cd7454f8709e4a0d31e4552",
       "value": 1
      }
     },
     "61a348d649c34723ba3ac6274b9522dd": {
      "model_module": "@jupyter-widgets/base",
      "model_module_version": "1.2.0",
      "model_name": "LayoutModel",
      "state": {}
     },
     "61c449b60b4c4a21be0c707bc74e9bf8": {
      "model_module": "pgljupyter",
      "model_module_version": "^0.1.14",
      "model_name": "IntEditorModel",
      "state": {
       "_model_module_version": "^0.1.14",
       "_view_module_version": "^0.1.14",
       "children": [
        "IPY_MODEL_02bf8ebed60641da9aac3f46aa09b284",
        "IPY_MODEL_9bd9905846784bc8b237e6b1ea5cc92a",
        "IPY_MODEL_f51d23fb95a149d58c45b9418439c024",
        "IPY_MODEL_bb64343143ba4af99b7584a1195309c2",
        "IPY_MODEL_6e6a8a280e2c4c7fa8cdd2b6dc2c04f4"
       ],
       "layout": "IPY_MODEL_69e50aa4f1084091a6c98ab0fd6c4c8c"
      }
     },
     "6200925a216c48bbb2cf86af35d60198": {
      "model_module": "@jupyter-widgets/controls",
      "model_module_version": "1.5.0",
      "model_name": "TextModel",
      "state": {
       "layout": "IPY_MODEL_4c33b2ff3f1c47ffb18a56039702b03b",
       "placeholder": "category name",
       "style": "IPY_MODEL_3026ebc9a30243b1bc25015d05d6c0c7"
      }
     },
     "6222902e646a4c918719f62a19ad6f37": {
      "model_module": "@jupyter-widgets/base",
      "model_module_version": "1.2.0",
      "model_name": "LayoutModel",
      "state": {}
     },
     "623430f9ad264a569f56254963833d42": {
      "model_module": "@jupyter-widgets/controls",
      "model_module_version": "1.5.0",
      "model_name": "TextModel",
      "state": {
       "continuous_update": false,
       "description": "name",
       "layout": "IPY_MODEL_763e8c82a8a341a1b6a154f9b443d6ad",
       "style": "IPY_MODEL_f378e5f9f0b6407c8d4b7b8343855811",
       "value": "NurbsCurve2D_0"
      }
     },
     "62563c2f8f8c4d82b179abb13066ff9d": {
      "model_module": "@jupyter-widgets/controls",
      "model_module_version": "1.5.0",
      "model_name": "DescriptionStyleModel",
      "state": {
       "description_width": ""
      }
     },
     "627c271f78834217bc20d170efbb89bc": {
      "model_module": "@jupyter-widgets/base",
      "model_module_version": "1.2.0",
      "model_name": "LayoutModel",
      "state": {}
     },
     "629054a4b105496a857a543e7ed22ae8": {
      "model_module": "@jupyter-widgets/controls",
      "model_module_version": "1.5.0",
      "model_name": "DescriptionStyleModel",
      "state": {
       "description_width": ""
      }
     },
     "62deae52a33f40b6b13beb81801d5430": {
      "model_module": "@jupyter-widgets/base",
      "model_module_version": "1.2.0",
      "model_name": "LayoutModel",
      "state": {}
     },
     "62ec89cc0dd34f1285be7721c7c1a81f": {
      "model_module": "@jupyter-widgets/controls",
      "model_module_version": "1.5.0",
      "model_name": "HBoxModel",
      "state": {
       "children": [
        "IPY_MODEL_d9b71651e2e4497eb40d4f0bf556527f",
        "IPY_MODEL_f3d860caabce4e098008ac83f4020283"
       ],
       "layout": "IPY_MODEL_1bcadc721303432abe9c782e04d39bdb"
      }
     },
     "62f37a5d014644cda8ab470a0f963659": {
      "model_module": "@jupyter-widgets/controls",
      "model_module_version": "1.5.0",
      "model_name": "ColorPickerModel",
      "state": {
       "description": "emission",
       "disabled": false,
       "layout": "IPY_MODEL_63858c739e8d463fbb7c8014ff721408",
       "style": "IPY_MODEL_aa7c73dab4c545fe9da210d0936d71ea",
       "value": "#000000"
      }
     },
     "632f8ed8e8d54c0fb211a3f817e5249b": {
      "model_module": "@jupyter-widgets/controls",
      "model_module_version": "1.5.0",
      "model_name": "ButtonStyleModel",
      "state": {}
     },
     "6337822b21ae462cae54b00f4396c33f": {
      "model_module": "@jupyter-widgets/controls",
      "model_module_version": "1.5.0",
      "model_name": "DescriptionStyleModel",
      "state": {
       "description_width": ""
      }
     },
     "635084b479ec47388dd7721df70a9b3d": {
      "model_module": "@jupyter-widgets/base",
      "model_module_version": "1.2.0",
      "model_name": "LayoutModel",
      "state": {}
     },
     "6368053aed524502b45b99eae25e4e13": {
      "model_module": "@jupyter-widgets/controls",
      "model_module_version": "1.5.0",
      "model_name": "ColorPickerModel",
      "state": {
       "description": "emission",
       "disabled": false,
       "layout": "IPY_MODEL_786ed63a12464723a7f0b5d57199c2f7",
       "style": "IPY_MODEL_a20e2dbbc07b4e4b9085d82841a24a03",
       "value": "#1f48db"
      }
     },
     "63858c739e8d463fbb7c8014ff721408": {
      "model_module": "@jupyter-widgets/base",
      "model_module_version": "1.2.0",
      "model_name": "LayoutModel",
      "state": {}
     },
     "638d9ba87d3344748959003409004080": {
      "model_module": "@jupyter-widgets/controls",
      "model_module_version": "1.5.0",
      "model_name": "HBoxModel",
      "state": {
       "children": [
        "IPY_MODEL_a394a4809f7e46e99c7060e9050094ba",
        "IPY_MODEL_fe2b1c6cc94d41b8835500aa026cf33d",
        "IPY_MODEL_e6f7999a813c4addbdf894e262c9168f",
        "IPY_MODEL_4e8d1d5dc75349a687367ab1a1036add"
       ],
       "layout": "IPY_MODEL_bb156c39f7374a1b9165dded955416f5"
      }
     },
     "639c7afae977402a9d6005869e8612a9": {
      "model_module": "@jupyter-widgets/base",
      "model_module_version": "1.2.0",
      "model_name": "LayoutModel",
      "state": {
       "margin": "20px 0px"
      }
     },
     "63b4947d7fa1417cae7c1d3f084d49d5": {
      "model_module": "@jupyter-widgets/base",
      "model_module_version": "1.2.0",
      "model_name": "LayoutModel",
      "state": {}
     },
     "63dff80e781144f5a477c6d40a00509b": {
      "model_module": "@jupyter-widgets/base",
      "model_module_version": "1.2.0",
      "model_name": "LayoutModel",
      "state": {}
     },
     "64120dfb80a645d68606e0062c5c563c": {
      "model_module": "@jupyter-widgets/controls",
      "model_module_version": "1.5.0",
      "model_name": "IntSliderModel",
      "state": {
       "description": "value",
       "layout": "IPY_MODEL_564a42c5a9ca42cb9b9795167a4f42b8",
       "max": 10,
       "min": 1,
       "style": "IPY_MODEL_8183e159292c422d80f970aecd1f0626",
       "value": 5
      }
     },
     "64284312bcd04c15829fdb46e542237c": {
      "model_module": "@jupyter-widgets/controls",
      "model_module_version": "1.5.0",
      "model_name": "ColorPickerModel",
      "state": {
       "description": "specular",
       "disabled": false,
       "layout": "IPY_MODEL_0e232481024146b19ac53c3590e4a691",
       "style": "IPY_MODEL_34c506a5fd4c4cb994b86db5544979d4",
       "value": "#478f9f"
      }
     },
     "64361cb80cfa475a80c48db48ff0a302": {
      "model_module": "@jupyter-widgets/base",
      "model_module_version": "1.2.0",
      "model_name": "LayoutModel",
      "state": {}
     },
     "6495fb9303f84d9d9cd2f2cf5993fe8a": {
      "model_module": "@jupyter-widgets/controls",
      "model_module_version": "1.5.0",
      "model_name": "ColorPickerModel",
      "state": {
       "description": "emission",
       "disabled": false,
       "layout": "IPY_MODEL_9764c640c2bd4beaa84c225f30c2b73a",
       "style": "IPY_MODEL_d237add396e74f7cb0ed74f9cb41ca44",
       "value": "#000000"
      }
     },
     "64988f0b5e374ed49f93bfb333503a97": {
      "model_module": "@jupyter-widgets/controls",
      "model_module_version": "1.5.0",
      "model_name": "DescriptionStyleModel",
      "state": {
       "description_width": ""
      }
     },
     "649d1541de7b46a0b1ee576e245cf092": {
      "model_module": "@jupyter-widgets/base",
      "model_module_version": "1.2.0",
      "model_name": "LayoutModel",
      "state": {}
     },
     "6509e7284ebf48ea8852e819d225daf6": {
      "model_module": "@jupyter-widgets/controls",
      "model_module_version": "1.5.0",
      "model_name": "DescriptionStyleModel",
      "state": {
       "description_width": ""
      }
     },
     "6526d94e31d541bf82341883da088798": {
      "model_module": "@jupyter-widgets/base",
      "model_module_version": "1.2.0",
      "model_name": "LayoutModel",
      "state": {}
     },
     "65731830c54441e598c43d1764a538a2": {
      "model_module": "@jupyter-widgets/base",
      "model_module_version": "1.2.0",
      "model_name": "LayoutModel",
      "state": {}
     },
     "65bdf3a7d2c248919a89fc3a98dfb617": {
      "model_module": "@jupyter-widgets/controls",
      "model_module_version": "1.5.0",
      "model_name": "DescriptionStyleModel",
      "state": {
       "description_width": ""
      }
     },
     "65fe108d37ac4ca49def87c269901bf1": {
      "model_module": "@jupyter-widgets/controls",
      "model_module_version": "1.5.0",
      "model_name": "DescriptionStyleModel",
      "state": {
       "description_width": ""
      }
     },
     "660849255c0f44c4bfdc973e0a97035b": {
      "model_module": "@jupyter-widgets/controls",
      "model_module_version": "1.5.0",
      "model_name": "BoundedIntTextModel",
      "state": {
       "description": "index",
       "layout": "IPY_MODEL_db2c3d17ca504ca5b12bf8431213c47a",
       "style": "IPY_MODEL_14b6bd5944294c1584714b8a69fb3b44",
       "value": 1
      }
     },
     "660de94f0adc4a67ad18f37582679166": {
      "model_module": "@jupyter-widgets/base",
      "model_module_version": "1.2.0",
      "model_name": "LayoutModel",
      "state": {}
     },
     "6619d75e6a884ddf96b7d93f22aa80d4": {
      "model_module": "@jupyter-widgets/controls",
      "model_module_version": "1.5.0",
      "model_name": "DescriptionStyleModel",
      "state": {
       "description_width": ""
      }
     },
     "6655a1fa38d14dc0990e87852b5b4bda": {
      "model_module": "@jupyter-widgets/base",
      "model_module_version": "1.2.0",
      "model_name": "LayoutModel",
      "state": {}
     },
     "6666188aa3f4449999d1694b25ad41ee": {
      "model_module": "@jupyter-widgets/controls",
      "model_module_version": "1.5.0",
      "model_name": "DescriptionStyleModel",
      "state": {
       "description_width": ""
      }
     },
     "669728b8ae5a49c792ed0600cd4c0592": {
      "model_module": "@jupyter-widgets/controls",
      "model_module_version": "1.5.0",
      "model_name": "DropdownModel",
      "state": {
       "_options_labels": [
        "NurbsCurve2D",
        "BezierCurve2D",
        "Polyline2D",
        "Function"
       ],
       "index": 0,
       "layout": "IPY_MODEL_5ab9113113e04cbc8f728a3925f24dc8",
       "style": "IPY_MODEL_01d156abe9e64f279c9e54ff54687842"
      }
     },
     "66a38512e5894ad4bab41ae44113531a": {
      "model_module": "@jupyter-widgets/controls",
      "model_module_version": "1.5.0",
      "model_name": "FloatSliderModel",
      "state": {
       "description": "diffuse",
       "layout": "IPY_MODEL_0b4645fbad8a429ea2d3c445d6b538cc",
       "max": 1,
       "step": 0.1,
       "style": "IPY_MODEL_70123862f7fe40a699367ba39c451ea9",
       "value": 0.75
      }
     },
     "671a0c1d002f4c0797ca8a6ade723793": {
      "model_module": "@jupyter-widgets/controls",
      "model_module_version": "1.5.0",
      "model_name": "HBoxModel",
      "state": {
       "children": [
        "IPY_MODEL_314d95cfe7894a9fb7f7430e808bd058",
        "IPY_MODEL_a190af397e0f4f46aeea69950b5d083b"
       ],
       "layout": "IPY_MODEL_1b028107b51247fa803a26d5565694cb"
      }
     },
     "677f5c34bf3d4ae78e59a950c381d3d9": {
      "model_module": "@jupyter-widgets/controls",
      "model_module_version": "1.5.0",
      "model_name": "AccordionModel",
      "state": {
       "_titles": {
        "0": "scalars",
        "1": "materials",
        "2": "functions",
        "3": "curves"
       },
       "children": [
        "IPY_MODEL_c8f45965b1124a4a90d52cde0a186035",
        "IPY_MODEL_28e28f98ef9542749eeea320db4cb0e4",
        "IPY_MODEL_b9eb8d3f8c6a4b18a72f185724416aa4",
        "IPY_MODEL_27f3e2e5bd414ac1ad3c19f37247942e"
       ],
       "layout": "IPY_MODEL_201f1a1a76c240bd9efc0e2bb60a3035",
       "selected_index": 3
      }
     },
     "67822b865e28401295637b483ee8afb1": {
      "model_module": "@jupyter-widgets/controls",
      "model_module_version": "1.5.0",
      "model_name": "DescriptionStyleModel",
      "state": {
       "description_width": ""
      }
     },
     "6810e648aef64abea58b5d98674de0b8": {
      "model_module": "@jupyter-widgets/base",
      "model_module_version": "1.2.0",
      "model_name": "LayoutModel",
      "state": {}
     },
     "6820caa08fc448679f7639840eb42312": {
      "model_module": "@jupyter-widgets/base",
      "model_module_version": "1.2.0",
      "model_name": "LayoutModel",
      "state": {}
     },
     "68706a1111d3487ebdb00d305a329564": {
      "model_module": "@jupyter-widgets/base",
      "model_module_version": "1.2.0",
      "model_name": "LayoutModel",
      "state": {}
     },
     "687474b07fcc40819ab28dec21c46a25": {
      "model_module": "@jupyter-widgets/controls",
      "model_module_version": "1.5.0",
      "model_name": "DescriptionStyleModel",
      "state": {
       "description_width": ""
      }
     },
     "688fe3d73f9c4ca091ec59245c5a6eb0": {
      "model_module": "@jupyter-widgets/controls",
      "model_module_version": "1.5.0",
      "model_name": "ColorPickerModel",
      "state": {
       "description": "ambient",
       "disabled": false,
       "layout": "IPY_MODEL_63dff80e781144f5a477c6d40a00509b",
       "style": "IPY_MODEL_a129fee5fb204685b9447aa4f41bcb91",
       "value": "#0fc4db"
      }
     },
     "689ea972cbce41a8b32df7bdc67b10ae": {
      "model_module": "@jupyter-widgets/controls",
      "model_module_version": "1.5.0",
      "model_name": "SliderStyleModel",
      "state": {
       "description_width": ""
      }
     },
     "68a999f616cb409eaf56145edc21d134": {
      "model_module": "@jupyter-widgets/controls",
      "model_module_version": "1.5.0",
      "model_name": "ButtonModel",
      "state": {
       "description": "Add",
       "layout": "IPY_MODEL_fe83071c6a9940158069480e78541e89",
       "style": "IPY_MODEL_1528398a025c46599e2ad6d8bc592960"
      }
     },
     "68c85118ad164578b30b1f973b2d8833": {
      "model_module": "@jupyter-widgets/controls",
      "model_module_version": "1.5.0",
      "model_name": "HBoxModel",
      "state": {
       "children": [
        "IPY_MODEL_704b5687cf6043b9a36027c87dea4c23",
        "IPY_MODEL_776b2221bf7e44479f62266f542cfc6f",
        "IPY_MODEL_12bff2a628604b9eb7d4bf50dfd9fb0a",
        "IPY_MODEL_c093b97b12b746008d103f1518ae45cd",
        "IPY_MODEL_9db181b7271b4352b441e0f4f37bd23c"
       ],
       "layout": "IPY_MODEL_bb156c39f7374a1b9165dded955416f5"
      }
     },
     "68e4a880f26d4dce885c78be2c855d92": {
      "model_module": "@jupyter-widgets/base",
      "model_module_version": "1.2.0",
      "model_name": "LayoutModel",
      "state": {}
     },
     "68e4bdf17af9497eb7aa9c99b80ac715": {
      "model_module": "@jupyter-widgets/controls",
      "model_module_version": "1.5.0",
      "model_name": "IntSliderModel",
      "state": {
       "description": "value",
       "layout": "IPY_MODEL_ed77f043f57c453185e88f41eb97980c",
       "max": 10,
       "min": 1,
       "style": "IPY_MODEL_bed3960f239c45c989041abe69ed15fd",
       "value": 8
      }
     },
     "690f42ae5a094b499d0de205cfa3414f": {
      "model_module": "@jupyter-widgets/controls",
      "model_module_version": "1.5.0",
      "model_name": "DescriptionStyleModel",
      "state": {
       "description_width": ""
      }
     },
     "69530d9f948a4c63820584df4fd3e4bd": {
      "model_module": "@jupyter-widgets/controls",
      "model_module_version": "1.5.0",
      "model_name": "SliderStyleModel",
      "state": {
       "description_width": ""
      }
     },
     "69e50aa4f1084091a6c98ab0fd6c4c8c": {
      "model_module": "@jupyter-widgets/base",
      "model_module_version": "1.2.0",
      "model_name": "LayoutModel",
      "state": {
       "margin": "20px 0px"
      }
     },
     "69f9201b0d8749718d1eaad584a7b5e3": {
      "model_module": "@jupyter-widgets/base",
      "model_module_version": "1.2.0",
      "model_name": "LayoutModel",
      "state": {}
     },
     "6a29a2123883407c9f1782ab4ccc29a2": {
      "model_module": "@jupyter-widgets/controls",
      "model_module_version": "1.5.0",
      "model_name": "DescriptionStyleModel",
      "state": {
       "description_width": ""
      }
     },
     "6a3b11bd161e4211822cbde9cb732600": {
      "model_module": "@jupyter-widgets/base",
      "model_module_version": "1.2.0",
      "model_name": "LayoutModel",
      "state": {}
     },
     "6a6f615de03a4649af512f135b152984": {
      "model_module": "pgljupyter",
      "model_module_version": "^0.1.2",
      "model_name": "MaterialEditorModel",
      "state": {
       "_model_module_version": "^0.1.2",
       "_view_module_version": "^0.1.2",
       "children": [
        "IPY_MODEL_c46c96224a2c4453bc909a37698703a4",
        "IPY_MODEL_0ce72c849bc04be1ace040e227e17d68",
        "IPY_MODEL_1ed24c18a95c414f91f22ce72969f31c",
        "IPY_MODEL_64284312bcd04c15829fdb46e542237c",
        "IPY_MODEL_f9f743e89f6a4cc3af534e5d9f0f052d",
        "IPY_MODEL_6bfb2d182dcd4ae2be5bd9a133edb487",
        "IPY_MODEL_ba414c61699f4ef78a51f82ac1b8dfdd",
        "IPY_MODEL_4ccd58c794d4443dbe55872516e36d08"
       ],
       "layout": "IPY_MODEL_36b8f608b82b478f82ede67b0c91fb67"
      }
     },
     "6aa4b4a1ca5f4731b9f8343c79a14cc1": {
      "model_module": "@jupyter-widgets/base",
      "model_module_version": "1.2.0",
      "model_name": "LayoutModel",
      "state": {}
     },
     "6abc2715de574965ab92bda53a467e6e": {
      "model_module": "@jupyter-widgets/controls",
      "model_module_version": "1.5.0",
      "model_name": "CheckboxModel",
      "state": {
       "description": "Auto save",
       "disabled": false,
       "layout": "IPY_MODEL_68e4a880f26d4dce885c78be2c855d92",
       "style": "IPY_MODEL_d7f70790051840ab9d1dcb8f3c7c3bbf",
       "value": false
      }
     },
     "6acc49b72cf6431e86b1641f7e432a4a": {
      "model_module": "@jupyter-widgets/controls",
      "model_module_version": "1.5.0",
      "model_name": "IntTextModel",
      "state": {
       "description": "max",
       "layout": "IPY_MODEL_e44c3a9a37614eeb88bf81b14bbc07fd",
       "step": 1,
       "style": "IPY_MODEL_6337822b21ae462cae54b00f4396c33f",
       "value": 10
      }
     },
     "6acfc62982814cd49fffa4d2886d0761": {
      "model_module": "@jupyter-widgets/controls",
      "model_module_version": "1.5.0",
      "model_name": "DescriptionStyleModel",
      "state": {
       "description_width": ""
      }
     },
     "6b15f8d6e02b41eb95f65eb9f6095ea1": {
      "model_module": "@jupyter-widgets/controls",
      "model_module_version": "1.5.0",
      "model_name": "VBoxModel",
      "state": {
       "children": [
        "IPY_MODEL_a1efa36e0b01442da3c74bf7f3c75557",
        "IPY_MODEL_984b9c846c2745a480a2020feaa5cb7e"
       ],
       "layout": "IPY_MODEL_613323765a7743b8bbb7355e6b86eebd"
      }
     },
     "6b2707d91e9942bc8b595dfd3b63cc46": {
      "model_module": "pgljupyter",
      "model_module_version": "^0.1.2",
      "model_name": "_CurveEditorModel",
      "state": {
       "_model_module_version": "^0.1.2",
       "_view_module_version": "^0.1.2",
       "control_points": [
        [
         -0.5,
         0
        ],
        [
         -0.16818181818181818,
         0.3909090909090909
        ],
        [
         0.14396306818181814,
         -0.19545454545454544
        ],
        [
         0.5,
         0
        ]
       ],
       "curve_type": "Polyline2D",
       "layout": "IPY_MODEL_a8fd500864cb4891bf6ee0c6efef290e"
      }
     },
     "6b42ee7a9908446f983fc6c0005656ad": {
      "model_module": "@jupyter-widgets/controls",
      "model_module_version": "1.5.0",
      "model_name": "DescriptionStyleModel",
      "state": {
       "description_width": ""
      }
     },
     "6bb8958c70624458abcfedad592ad4c1": {
      "model_module": "@jupyter-widgets/base",
      "model_module_version": "1.2.0",
      "model_name": "LayoutModel",
      "state": {}
     },
     "6bc71166486f4e74904e84efc935c284": {
      "model_module": "@jupyter-widgets/base",
      "model_module_version": "1.2.0",
      "model_name": "LayoutModel",
      "state": {}
     },
     "6bfb2d182dcd4ae2be5bd9a133edb487": {
      "model_module": "@jupyter-widgets/controls",
      "model_module_version": "1.5.0",
      "model_name": "FloatSliderModel",
      "state": {
       "description": "diffuse",
       "layout": "IPY_MODEL_2324b9eea997437aa217c0493ef8036f",
       "max": 1,
       "step": 0.1,
       "style": "IPY_MODEL_7e46666caca84af194dd3330296034d5"
      }
     },
     "6c376598cf884f69ac27c0f80c3af2d6": {
      "model_module": "@jupyter-widgets/controls",
      "model_module_version": "1.5.0",
      "model_name": "DescriptionStyleModel",
      "state": {
       "description_width": ""
      }
     },
     "6ca82095fc0d4e50a0b01f7e9feaae50": {
      "model_module": "@jupyter-widgets/controls",
      "model_module_version": "1.5.0",
      "model_name": "IntSliderModel",
      "state": {
       "description": "value",
       "layout": "IPY_MODEL_9d061706ffbf41e982e7f6df952182f7",
       "max": 10,
       "min": 1,
       "style": "IPY_MODEL_7824555fb45941e0b6b357551c9ae5a1",
       "value": 5
      }
     },
     "6cf7e2888639439eba947cbc9d3a0949": {
      "model_module": "@jupyter-widgets/controls",
      "model_module_version": "1.5.0",
      "model_name": "FloatSliderModel",
      "state": {
       "description": "shininess",
       "layout": "IPY_MODEL_e4281dffb1a34b929dccf11abee4c9b0",
       "max": 1,
       "step": 0.1,
       "style": "IPY_MODEL_7c82d49c39a14f0cbb1f4d90c317ffe0",
       "value": 0.2
      }
     },
     "6d16c5f570c847eb99b3c515f6c79c4e": {
      "model_module": "@jupyter-widgets/controls",
      "model_module_version": "1.5.0",
      "model_name": "CheckboxModel",
      "state": {
       "description": "Auto apply",
       "disabled": false,
       "layout": "IPY_MODEL_b1719c458848436b8cc931c5f6bdb47b",
       "style": "IPY_MODEL_ccb74ec1a70948178488184669ebc272",
       "value": false
      }
     },
     "6d4e317147e84ef3b9b7c3f7e4942242": {
      "model_module": "@jupyter-widgets/base",
      "model_module_version": "1.2.0",
      "model_name": "LayoutModel",
      "state": {}
     },
     "6d6a59f4c0714f90bac64afd6f756b8f": {
      "model_module": "@jupyter-widgets/base",
      "model_module_version": "1.2.0",
      "model_name": "LayoutModel",
      "state": {}
     },
     "6d99be388ce6453a934fe45ffafa4844": {
      "model_module": "@jupyter-widgets/controls",
      "model_module_version": "1.5.0",
      "model_name": "FloatSliderModel",
      "state": {
       "description": "shininess",
       "layout": "IPY_MODEL_9c51672f28084fde83f4d2dabbb178c3",
       "max": 1,
       "step": 0.1,
       "style": "IPY_MODEL_1b226e991f4a4f2d924d9603e31020a1",
       "value": 0.5
      }
     },
     "6d9c7f7305ad4ec4afff7c03238f241a": {
      "model_module": "@jupyter-widgets/base",
      "model_module_version": "1.2.0",
      "model_name": "LayoutModel",
      "state": {}
     },
     "6dc3e3b550c74007b302d87b5f0cd2f3": {
      "model_module": "pgljupyter",
      "model_module_version": "^0.1.14",
      "model_name": "ParameterEditorModel",
      "state": {
       "_model_module_version": "^0.1.14",
       "_view_module_version": "^0.1.14",
       "children": [
        "IPY_MODEL_6b15f8d6e02b41eb95f65eb9f6095ea1"
       ],
       "layout": "IPY_MODEL_8d97a9c3a929427aacfe6a6892edf62f"
      }
     },
     "6e0f7e8afc03421ca9ad35239807478d": {
      "model_module": "@jupyter-widgets/controls",
      "model_module_version": "1.5.0",
      "model_name": "ButtonStyleModel",
      "state": {}
     },
     "6e11d8ccf94543318b7616f0c8477a37": {
      "model_module": "@jupyter-widgets/base",
      "model_module_version": "1.2.0",
      "model_name": "LayoutModel",
      "state": {}
     },
     "6e422346b87a4c5b92c0c8c310df3122": {
      "model_module": "@jupyter-widgets/controls",
      "model_module_version": "1.5.0",
      "model_name": "SliderStyleModel",
      "state": {
       "description_width": ""
      }
     },
     "6e6a8a280e2c4c7fa8cdd2b6dc2c04f4": {
      "model_module": "@jupyter-widgets/controls",
      "model_module_version": "1.5.0",
      "model_name": "BoundedIntTextModel",
      "state": {
       "description": "step",
       "layout": "IPY_MODEL_64361cb80cfa475a80c48db48ff0a302",
       "min": 1,
       "style": "IPY_MODEL_687474b07fcc40819ab28dec21c46a25",
       "value": 1
      }
     },
     "6e85a9dd258a4f508f3a7f21debce42f": {
      "model_module": "@jupyter-widgets/controls",
      "model_module_version": "1.5.0",
      "model_name": "FloatSliderModel",
      "state": {
       "description": "shininess",
       "layout": "IPY_MODEL_131741e3815e454a88aab69225f6d919",
       "max": 1,
       "step": 0.1,
       "style": "IPY_MODEL_da4128fa63254e7b93c26fadfff2b431",
       "value": 0.2
      }
     },
     "6f131f3f67634df98fb30f26c0ba3c14": {
      "model_module": "@jupyter-widgets/controls",
      "model_module_version": "1.5.0",
      "model_name": "ButtonStyleModel",
      "state": {}
     },
     "6f2e26f0127f4983ba530655f3eb5810": {
      "model_module": "@jupyter-widgets/controls",
      "model_module_version": "1.5.0",
      "model_name": "VBoxModel",
      "state": {
       "children": [
        "IPY_MODEL_dd102dc49a7246f4bde5beafb66f73bc",
        "IPY_MODEL_1616c42d4a9d4dda86ccd31e0daab07e",
        "IPY_MODEL_0326112e674944ba9a73de236d0bc716",
        "IPY_MODEL_37823eb05d9444858326c148bfa140cd",
        "IPY_MODEL_ce51dd8b382a4194b2f5ee5f72c7f056"
       ],
       "layout": "IPY_MODEL_f1da8e947dae44a7b24d03068a46ef84"
      }
     },
     "6f61998e94984f5c87005739e4ef1539": {
      "model_module": "@jupyter-widgets/controls",
      "model_module_version": "1.5.0",
      "model_name": "TextModel",
      "state": {
       "continuous_update": false,
       "description": "name",
       "layout": "IPY_MODEL_8c7a3e34a4ef4101aa1d4fafbdcc25e2",
       "style": "IPY_MODEL_a9de39515aed485b9417c2f9782f5039",
       "value": "color_2"
      }
     },
     "6f63a1e67a7d40ad9e69ec8974d7d02c": {
      "model_module": "@jupyter-widgets/base",
      "model_module_version": "1.2.0",
      "model_name": "LayoutModel",
      "state": {}
     },
     "6f893e36888d4e3c99302a27181e8d73": {
      "model_module": "@jupyter-widgets/controls",
      "model_module_version": "1.5.0",
      "model_name": "IntTextModel",
      "state": {
       "description": "max",
       "layout": "IPY_MODEL_bf235c94995349428ea2e10535856d69",
       "step": 1,
       "style": "IPY_MODEL_23af8b0d7caf49ffbd9434df59f8adcc",
       "value": 10
      }
     },
     "6f8bb26a5dc749afa2ac8bd008a7e44c": {
      "model_module": "@jupyter-widgets/controls",
      "model_module_version": "1.5.0",
      "model_name": "DescriptionStyleModel",
      "state": {
       "description_width": ""
      }
     },
     "6fa1a051eef947a3b163d4793ac7cd99": {
      "model_module": "@jupyter-widgets/controls",
      "model_module_version": "1.5.0",
      "model_name": "ButtonStyleModel",
      "state": {}
     },
     "6fa92963778b454f99a4c7b548144df1": {
      "model_module": "@jupyter-widgets/controls",
      "model_module_version": "1.5.0",
      "model_name": "ColorPickerModel",
      "state": {
       "description": "ambient",
       "disabled": false,
       "layout": "IPY_MODEL_9885be8a805844de97c0070041224d3e",
       "style": "IPY_MODEL_731c21cb9ed54a6a8fe43c2a969ef1a9",
       "value": "#195717"
      }
     },
     "6fc632d1cfd8481b9c8ba384537006eb": {
      "model_module": "@jupyter-widgets/controls",
      "model_module_version": "1.5.0",
      "model_name": "IntTextModel",
      "state": {
       "description": "min",
       "layout": "IPY_MODEL_a6befcf863454381b47e53dc980c2920",
       "step": 1,
       "style": "IPY_MODEL_4e5a818d53444e98a18796f935a62117",
       "value": 1
      }
     },
     "6fd435da494e4788b2340331b704c70e": {
      "model_module": "@jupyter-widgets/base",
      "model_module_version": "1.2.0",
      "model_name": "LayoutModel",
      "state": {}
     },
     "7007a25b0d9d449f82f3f6c626257ee5": {
      "model_module": "@jupyter-widgets/base",
      "model_module_version": "1.2.0",
      "model_name": "LayoutModel",
      "state": {}
     },
     "70123862f7fe40a699367ba39c451ea9": {
      "model_module": "@jupyter-widgets/controls",
      "model_module_version": "1.5.0",
      "model_name": "SliderStyleModel",
      "state": {
       "description_width": ""
      }
     },
     "7047220ba1fd43f9b2dfff397b099bdc": {
      "model_module": "@jupyter-widgets/controls",
      "model_module_version": "1.5.0",
      "model_name": "ButtonModel",
      "state": {
       "description": "Delete category",
       "layout": "IPY_MODEL_83f45740b1f44611bf05389b4d7fcd7d",
       "style": "IPY_MODEL_92d3290df9ab4916ac33eac813c835b3"
      }
     },
     "704b5687cf6043b9a36027c87dea4c23": {
      "model_module": "pgljupyter",
      "model_module_version": "^0.1.14",
      "model_name": "IntEditorModel",
      "state": {
       "_model_module_version": "^0.1.14",
       "_view_module_version": "^0.1.14",
       "children": [
        "IPY_MODEL_32a2d5151e844f398dfd8a2f28a391ff",
        "IPY_MODEL_dbaf90d5970446e487e5f643041a9b19",
        "IPY_MODEL_104352056e5f44cfaf9dcfd6016912fa",
        "IPY_MODEL_c858e86399cd448783684aee36ababb6",
        "IPY_MODEL_731557268ca54591ad3d06382bc1dd72"
       ],
       "layout": "IPY_MODEL_4a7a99489c5a42579c34d1355f0f4a43"
      }
     },
     "70855785526542688e78359baf1c605b": {
      "model_module": "@jupyter-widgets/base",
      "model_module_version": "1.2.0",
      "model_name": "LayoutModel",
      "state": {}
     },
     "70972b2e88b34ba6b003969d33df59c3": {
      "model_module": "@jupyter-widgets/controls",
      "model_module_version": "1.5.0",
      "model_name": "ButtonModel",
      "state": {
       "description": "Delete",
       "layout": "IPY_MODEL_f495b3330b9a4aab9c573969d8966f83",
       "style": "IPY_MODEL_037f7d5ac4284833bf9e8272d25a243e"
      }
     },
     "70f7a900cde34f19a9c40852e3201de6": {
      "model_module": "@jupyter-widgets/controls",
      "model_module_version": "1.5.0",
      "model_name": "ColorPickerModel",
      "state": {
       "description": "ambient",
       "disabled": false,
       "layout": "IPY_MODEL_8b5a4b520c81467f891fd15960b777f4",
       "style": "IPY_MODEL_df95ab311aec4dfa843cb14b58334dec",
       "value": "#e1a014"
      }
     },
     "71261e9f7d8f47419e3b3ac7fdc33b05": {
      "model_module": "@jupyter-widgets/controls",
      "model_module_version": "1.5.0",
      "model_name": "DescriptionStyleModel",
      "state": {
       "description_width": ""
      }
     },
     "7142a8e5c26347e685210d598d474900": {
      "model_module": "pgljupyter",
      "model_module_version": "^0.1.14",
      "model_name": "LsystemWidgetModel",
      "state": {
       "_model_module_version": "^0.1.14",
       "_view_module_version": "^0.1.14",
       "axes_helper": false,
       "derivationLength": 41,
       "layout": "IPY_MODEL_d7535aae702241fd86b607045fa0824f",
       "light_helper": false,
       "plane": true,
       "size_display": [
        400,
        400
       ],
       "size_world": 50
      }
     },
     "715cfdcd6c964bef8eb9f15d8cbf8678": {
      "model_module": "@jupyter-widgets/controls",
      "model_module_version": "1.5.0",
      "model_name": "FloatSliderModel",
      "state": {
       "description": "transparency",
       "layout": "IPY_MODEL_1530bfd1074a4e8fbad49b4df4e964b5",
       "max": 1,
       "step": 0.1,
       "style": "IPY_MODEL_b39464d608c9476b884a194019aeea92"
      }
     },
     "71ec069b5c5a40f4bc2771f12be256d7": {
      "model_module": "pgljupyter",
      "model_module_version": "^0.1.14",
      "model_name": "FloatEditorModel",
      "state": {
       "_model_module_version": "^0.1.14",
       "_view_module_version": "^0.1.14",
       "children": [
        "IPY_MODEL_d39751d2609b4f59a787ccca0b261c85",
        "IPY_MODEL_d24c239178c94a64be7dc46a5528b939",
        "IPY_MODEL_1589dbc794cb4fdbb7b00fed8ec48fbc",
        "IPY_MODEL_ccc4235534b24b6b896c41aa2f030e7e",
        "IPY_MODEL_37884d0f8d42498e8a2b7303f8a9a0ef"
       ],
       "layout": "IPY_MODEL_c955c4f8ceab4fe6911f95c106cb4893"
      }
     },
     "7232c740023240b0b1c44beed3ceaa3f": {
      "model_module": "@jupyter-widgets/controls",
      "model_module_version": "1.5.0",
      "model_name": "DescriptionStyleModel",
      "state": {
       "description_width": ""
      }
     },
     "7280887d7a1e420b80c07311475b256f": {
      "model_module": "@jupyter-widgets/base",
      "model_module_version": "1.2.0",
      "model_name": "LayoutModel",
      "state": {}
     },
     "72b34f3219da475383427c0f92144518": {
      "model_module": "@jupyter-widgets/controls",
      "model_module_version": "1.5.0",
      "model_name": "DescriptionStyleModel",
      "state": {
       "description_width": ""
      }
     },
     "72b92e3f68504ee5bfa8a858755f2904": {
      "model_module": "@jupyter-widgets/controls",
      "model_module_version": "1.5.0",
      "model_name": "HBoxModel",
      "state": {
       "children": [
        "IPY_MODEL_d8ee38d058ef449f841da3a733066985",
        "IPY_MODEL_6200925a216c48bbb2cf86af35d60198"
       ],
       "layout": "IPY_MODEL_501ea1908aad438daf66b1b6172aba6c"
      }
     },
     "72bc1e35e1b440dab2d04d8572c085d8": {
      "model_module": "@jupyter-widgets/base",
      "model_module_version": "1.2.0",
      "model_name": "LayoutModel",
      "state": {}
     },
     "72be601bf3de43f19d42560f035c724d": {
      "model_module": "@jupyter-widgets/base",
      "model_module_version": "1.2.0",
      "model_name": "LayoutModel",
      "state": {}
     },
     "7310fb106a0148cba799629b28cfd588": {
      "model_module": "@jupyter-widgets/controls",
      "model_module_version": "1.5.0",
      "model_name": "BoundedIntTextModel",
      "state": {
       "description": "index",
       "layout": "IPY_MODEL_2299fe15e03b48dda7759b4bf26db86e",
       "style": "IPY_MODEL_eeab74f6f1a84721a8eb814d0d0499fc",
       "value": 2
      }
     },
     "731557268ca54591ad3d06382bc1dd72": {
      "model_module": "@jupyter-widgets/controls",
      "model_module_version": "1.5.0",
      "model_name": "BoundedIntTextModel",
      "state": {
       "description": "step",
       "layout": "IPY_MODEL_38aedb1b56ff4907af35973d88c28785",
       "min": 1,
       "style": "IPY_MODEL_873fc331b8844a1093445796e7b51b73",
       "value": 1
      }
     },
     "731c21cb9ed54a6a8fe43c2a969ef1a9": {
      "model_module": "@jupyter-widgets/controls",
      "model_module_version": "1.5.0",
      "model_name": "DescriptionStyleModel",
      "state": {
       "description_width": ""
      }
     },
     "732ac2d708ad47fdb574a1a8c15d0c15": {
      "model_module": "@jupyter-widgets/controls",
      "model_module_version": "1.5.0",
      "model_name": "HBoxModel",
      "state": {
       "children": [
        "IPY_MODEL_957c5740794142d5b25a7b7ebca09e73",
        "IPY_MODEL_ac9001fa2c8f46b1aaff8f7ac358cd53"
       ],
       "layout": "IPY_MODEL_3bb03a834d464a7c90ad352b1f4a9182"
      }
     },
     "7370d67c85ca45f99ec4b794aa6baea5": {
      "model_module": "@jupyter-widgets/controls",
      "model_module_version": "1.5.0",
      "model_name": "HBoxModel",
      "state": {
       "children": [
        "IPY_MODEL_68a999f616cb409eaf56145edc21d134",
        "IPY_MODEL_965bd59a86534e949f83f3fe45f31fe8",
        "IPY_MODEL_a20b73a02aa64f1aa2635be402379fd2",
        "IPY_MODEL_26661f90cfc247b4aa51a0584e2d50c9"
       ],
       "layout": "IPY_MODEL_2c758a39f7fc445fb36328a5392bc3cb"
      }
     },
     "738f9659f28b43cf9dd1fbc37d0b8b4c": {
      "model_module": "@jupyter-widgets/controls",
      "model_module_version": "1.5.0",
      "model_name": "DescriptionStyleModel",
      "state": {
       "description_width": ""
      }
     },
     "73d991583598443f90d6d52a35fb8498": {
      "model_module": "@jupyter-widgets/controls",
      "model_module_version": "1.5.0",
      "model_name": "ButtonStyleModel",
      "state": {}
     },
     "73df2c6eb8684e3e8dcd2a48cb263e44": {
      "model_module": "@jupyter-widgets/controls",
      "model_module_version": "1.5.0",
      "model_name": "HBoxModel",
      "state": {
       "children": [
        "IPY_MODEL_2adcf24dbf2748e089fcbf19dc0f7b33",
        "IPY_MODEL_90b847efdfb849b8b6736e210159423b"
       ],
       "layout": "IPY_MODEL_b1cb4ff3cba944be84994facb1138eb0"
      }
     },
     "73f500e006d84a9c84319ee4b2755109": {
      "model_module": "@jupyter-widgets/controls",
      "model_module_version": "1.5.0",
      "model_name": "ButtonStyleModel",
      "state": {}
     },
     "742dc244110b4bdd8c1040e6d4201803": {
      "model_module": "@jupyter-widgets/base",
      "model_module_version": "1.2.0",
      "model_name": "LayoutModel",
      "state": {}
     },
     "742dfafade604ead88df5aeb395d062f": {
      "model_module": "@jupyter-widgets/controls",
      "model_module_version": "1.5.0",
      "model_name": "DescriptionStyleModel",
      "state": {
       "description_width": ""
      }
     },
     "74a7a5c1fee64445b64d9944194e45ee": {
      "model_module": "@jupyter-widgets/base",
      "model_module_version": "1.2.0",
      "model_name": "LayoutModel",
      "state": {}
     },
     "751d8cfde9de463ca66613cc8a84cff9": {
      "model_module": "@jupyter-widgets/base",
      "model_module_version": "1.2.0",
      "model_name": "LayoutModel",
      "state": {}
     },
     "753c6e52572e43189e0c5cb7b2ac8422": {
      "model_module": "@jupyter-widgets/controls",
      "model_module_version": "1.5.0",
      "model_name": "DescriptionStyleModel",
      "state": {
       "description_width": ""
      }
     },
     "754e023037f44be6a00d8aae974857c5": {
      "model_module": "@jupyter-widgets/base",
      "model_module_version": "1.2.0",
      "model_name": "LayoutModel",
      "state": {}
     },
     "75d3e76ba91f4678a3a3444870c33a8e": {
      "model_module": "@jupyter-widgets/controls",
      "model_module_version": "1.5.0",
      "model_name": "SliderStyleModel",
      "state": {
       "description_width": ""
      }
     },
     "75e4bd3534f543b4899c48d354a9a7b6": {
      "model_module": "@jupyter-widgets/controls",
      "model_module_version": "1.5.0",
      "model_name": "TabModel",
      "state": {
       "_titles": {
        "0": "leuwenberg.json"
       },
       "children": [
        "IPY_MODEL_677f5c34bf3d4ae78e59a950c381d3d9"
       ],
       "layout": "IPY_MODEL_57a7f707d08c4c63bf3ba337a4ba07e7"
      }
     },
     "75f428afc0a3423fb7e534bdd51258c5": {
      "model_module": "@jupyter-widgets/controls",
      "model_module_version": "1.5.0",
      "model_name": "DescriptionStyleModel",
      "state": {
       "description_width": ""
      }
     },
     "7603ec0ea97040b8b5273ff4abfa9ec8": {
      "model_module": "@jupyter-widgets/controls",
      "model_module_version": "1.5.0",
      "model_name": "DescriptionStyleModel",
      "state": {
       "description_width": ""
      }
     },
     "762f4772b96f45b3861fb3b080efd6f8": {
      "model_module": "@jupyter-widgets/base",
      "model_module_version": "1.2.0",
      "model_name": "LayoutModel",
      "state": {}
     },
     "763e8c82a8a341a1b6a154f9b443d6ad": {
      "model_module": "@jupyter-widgets/base",
      "model_module_version": "1.2.0",
      "model_name": "LayoutModel",
      "state": {}
     },
     "7648ce6823ed4b309447f2f29b6af72b": {
      "model_module": "@jupyter-widgets/base",
      "model_module_version": "1.2.0",
      "model_name": "LayoutModel",
      "state": {}
     },
     "76828b02847f49ffabf74ca1c0f2de97": {
      "model_module": "@jupyter-widgets/controls",
      "model_module_version": "1.5.0",
      "model_name": "ButtonModel",
      "state": {
       "description": "Add",
       "layout": "IPY_MODEL_1f47862cd7004f6ea8e431b00a2deb36",
       "style": "IPY_MODEL_38b3bc34ec4749ce97f6df8128c8b58b"
      }
     },
     "76ad72ce11b4453696a91154127944b3": {
      "model_module": "@jupyter-widgets/controls",
      "model_module_version": "1.5.0",
      "model_name": "IntSliderModel",
      "state": {
       "description": "value",
       "layout": "IPY_MODEL_6a3b11bd161e4211822cbde9cb732600",
       "max": 10,
       "min": 1,
       "style": "IPY_MODEL_69530d9f948a4c63820584df4fd3e4bd",
       "value": 3
      }
     },
     "76df08ea6d28482b8c1f8e499825360f": {
      "model_module": "@jupyter-widgets/base",
      "model_module_version": "1.2.0",
      "model_name": "LayoutModel",
      "state": {}
     },
     "76eb2c1bc07d4ea9a83be96441994d41": {
      "model_module": "@jupyter-widgets/controls",
      "model_module_version": "1.5.0",
      "model_name": "FloatSliderModel",
      "state": {
       "description": "value",
       "layout": "IPY_MODEL_aef7e904684f43a8b6c25721b13dcde7",
       "max": 0.1,
       "min": 0.01,
       "step": 0.01,
       "style": "IPY_MODEL_7a50e24de956432bb20ad024aa3b3415",
       "value": 0.04
      }
     },
     "7729d9315d7748298125e0baab4aba88": {
      "model_module": "@jupyter-widgets/controls",
      "model_module_version": "1.5.0",
      "model_name": "ColorPickerModel",
      "state": {
       "description": "ambient",
       "disabled": false,
       "layout": "IPY_MODEL_bb1d7bbeb2da4eb7b42b416ef2832725",
       "style": "IPY_MODEL_65fe108d37ac4ca49def87c269901bf1",
       "value": "#5b4534"
      }
     },
     "776b2221bf7e44479f62266f542cfc6f": {
      "model_module": "pgljupyter",
      "model_module_version": "^0.1.14",
      "model_name": "IntEditorModel",
      "state": {
       "_model_module_version": "^0.1.14",
       "_view_module_version": "^0.1.14",
       "children": [
        "IPY_MODEL_0ad52567a05440bfa1b7f62f0dcd33e5",
        "IPY_MODEL_c017faf3374c49f2a7f2173c394bb4b5",
        "IPY_MODEL_fb008d8d2c234664ba3ae188ecac3d55",
        "IPY_MODEL_6f893e36888d4e3c99302a27181e8d73",
        "IPY_MODEL_db9786a656f34ac28c504fcbba72adc2"
       ],
       "layout": "IPY_MODEL_2194feb6dbbb416e9d612f19ffdf48e9"
      }
     },
     "776b369c935b4b23a7d6651a4cec65fa": {
      "model_module": "@jupyter-widgets/controls",
      "model_module_version": "1.5.0",
      "model_name": "DescriptionStyleModel",
      "state": {
       "description_width": ""
      }
     },
     "777034ee9c8848ce81cea022bafe8d9a": {
      "model_module": "@jupyter-widgets/controls",
      "model_module_version": "1.5.0",
      "model_name": "IntSliderModel",
      "state": {
       "description": "value",
       "layout": "IPY_MODEL_8e5923306b2d46e79d08c87828fc0a9b",
       "max": 10,
       "min": 1,
       "style": "IPY_MODEL_4dbbec1ba4df4a18a3c1e89398b3495e",
       "value": 6
      }
     },
     "77bd1f060fa34f0f829dcac933f97e94": {
      "model_module": "@jupyter-widgets/base",
      "model_module_version": "1.2.0",
      "model_name": "LayoutModel",
      "state": {}
     },
     "77c5487882eb4763a09bbeab234f0123": {
      "model_module": "@jupyter-widgets/controls",
      "model_module_version": "1.5.0",
      "model_name": "TextModel",
      "state": {
       "continuous_update": false,
       "description": "name",
       "layout": "IPY_MODEL_635084b479ec47388dd7721df70a9b3d",
       "style": "IPY_MODEL_96ef03696a734da89b39db7fbc0c836b",
       "value": "color_1"
      }
     },
     "77d9a753e60f49d284845127d2f81ee7": {
      "model_module": "@jupyter-widgets/controls",
      "model_module_version": "1.5.0",
      "model_name": "DropdownModel",
      "state": {
       "_options_labels": [
        "BezierCurve2D_0"
       ],
       "index": 0,
       "layout": "IPY_MODEL_1ebb908f33104722a8ca0ebea0830367",
       "style": "IPY_MODEL_3c075c2048614d2e8ada7b1f561f4f59"
      }
     },
     "781cd7a79eca47c28f53b15c879b677d": {
      "model_module": "@jupyter-widgets/controls",
      "model_module_version": "1.5.0",
      "model_name": "DescriptionStyleModel",
      "state": {
       "description_width": ""
      }
     },
     "7824555fb45941e0b6b357551c9ae5a1": {
      "model_module": "@jupyter-widgets/controls",
      "model_module_version": "1.5.0",
      "model_name": "SliderStyleModel",
      "state": {
       "description_width": ""
      }
     },
     "786ed63a12464723a7f0b5d57199c2f7": {
      "model_module": "@jupyter-widgets/base",
      "model_module_version": "1.2.0",
      "model_name": "LayoutModel",
      "state": {}
     },
     "788c89f910634db6a21f126c748a161f": {
      "model_module": "@jupyter-widgets/base",
      "model_module_version": "1.2.0",
      "model_name": "LayoutModel",
      "state": {}
     },
     "789bdbd0a60b48409d2c13fe0b83d44f": {
      "model_module": "@jupyter-widgets/controls",
      "model_module_version": "1.5.0",
      "model_name": "DescriptionStyleModel",
      "state": {
       "description_width": ""
      }
     },
     "78b7a0be83c644fdb993627391ce7ebf": {
      "model_module": "@jupyter-widgets/controls",
      "model_module_version": "1.5.0",
      "model_name": "BoundedIntTextModel",
      "state": {
       "description": "step",
       "layout": "IPY_MODEL_c364d57ad62144c597636d4d7ea2924a",
       "min": 1,
       "style": "IPY_MODEL_c4b619d3bd944779b7f7722cb12920fb",
       "value": 1
      }
     },
     "78b86b9374f94e7eba45a65f52ac1a7b": {
      "model_module": "@jupyter-widgets/controls",
      "model_module_version": "1.5.0",
      "model_name": "DescriptionStyleModel",
      "state": {
       "description_width": ""
      }
     },
     "78ba74ff3c3846c2b2a4b37a28c0386a": {
      "model_module": "pgljupyter",
      "model_module_version": "^0.1.2",
      "model_name": "_CurveEditorModel",
      "state": {
       "_model_module_version": "^0.1.2",
       "_view_module_version": "^0.1.2",
       "control_points": [
        [
         -0.5,
         0
        ],
        [
         -0.25,
         0.25
        ],
        [
         0.14090909090909087,
         -0.25
        ],
        [
         0.25,
         0.25
        ],
        [
         0.5,
         0
        ]
       ],
       "curve_type": "NurbsCurve2D",
       "layout": "IPY_MODEL_94187a47d018456e86f4065c54af4476"
      }
     },
     "78d652192b4b4743bc2c5517507e5afc": {
      "model_module": "@jupyter-widgets/base",
      "model_module_version": "1.2.0",
      "model_name": "LayoutModel",
      "state": {}
     },
     "794f6f1b6edd418abffa16e0fa20374c": {
      "model_module": "@jupyter-widgets/base",
      "model_module_version": "1.2.0",
      "model_name": "LayoutModel",
      "state": {}
     },
     "79d35b0ae3834d72bf0fc00bd6bb6b3f": {
      "model_module": "@jupyter-widgets/controls",
      "model_module_version": "1.5.0",
      "model_name": "ButtonModel",
      "state": {
       "description": "Save changes",
       "layout": "IPY_MODEL_aa5bb824fdb14cf4b6208c7625b7eee4",
       "style": "IPY_MODEL_c9b3d84283d549a89ea8b9880ebdc2f1"
      }
     },
     "79f69624a792402dbdf38b37ead2de78": {
      "model_module": "@jupyter-widgets/base",
      "model_module_version": "1.2.0",
      "model_name": "LayoutModel",
      "state": {
       "margin": "20px 0px"
      }
     },
     "7a50e24de956432bb20ad024aa3b3415": {
      "model_module": "@jupyter-widgets/controls",
      "model_module_version": "1.5.0",
      "model_name": "SliderStyleModel",
      "state": {
       "description_width": ""
      }
     },
     "7a5b3aee649441e48ddff80092199efc": {
      "model_module": "@jupyter-widgets/controls",
      "model_module_version": "1.5.0",
      "model_name": "DescriptionStyleModel",
      "state": {
       "description_width": ""
      }
     },
     "7a66ebfca84d4999a5bee673f10e7c52": {
      "model_module": "@jupyter-widgets/base",
      "model_module_version": "1.2.0",
      "model_name": "LayoutModel",
      "state": {
       "margin": "20px 0px"
      }
     },
     "7a716803844c41369cbbf514bb574785": {
      "model_module": "@jupyter-widgets/base",
      "model_module_version": "1.2.0",
      "model_name": "LayoutModel",
      "state": {}
     },
     "7b202b2c87bf4343b5cfdad8b03600b6": {
      "model_module": "@jupyter-widgets/controls",
      "model_module_version": "1.5.0",
      "model_name": "DescriptionStyleModel",
      "state": {
       "description_width": ""
      }
     },
     "7b2d939afa8b479993e42340a13c22b4": {
      "model_module": "@jupyter-widgets/controls",
      "model_module_version": "1.5.0",
      "model_name": "FloatSliderModel",
      "state": {
       "description": "transparency",
       "layout": "IPY_MODEL_953d2782c14249fb88a4123469f963a7",
       "max": 1,
       "step": 0.1,
       "style": "IPY_MODEL_1e15a8c6ff044705997b5c5ab448dee7"
      }
     },
     "7b4fab502eb240a5a01f3789709c84a7": {
      "model_module": "@jupyter-widgets/controls",
      "model_module_version": "1.5.0",
      "model_name": "DescriptionStyleModel",
      "state": {
       "description_width": ""
      }
     },
     "7b607c75281c43c2bde3dc6e253574f6": {
      "model_module": "@jupyter-widgets/controls",
      "model_module_version": "1.5.0",
      "model_name": "TextModel",
      "state": {
       "continuous_update": false,
       "description": "name",
       "layout": "IPY_MODEL_4f1821d5546d45ccb47890ddb7721566",
       "style": "IPY_MODEL_1185a17bd8db4a66b9aefc32c359538c",
       "value": "maxorder"
      }
     },
     "7bfa05f9b9ea414c9d631dd7c3d53fb0": {
      "model_module": "@jupyter-widgets/base",
      "model_module_version": "1.2.0",
      "model_name": "LayoutModel",
      "state": {}
     },
     "7c61330d47784b9387095b208ed7539c": {
      "model_module": "@jupyter-widgets/base",
      "model_module_version": "1.2.0",
      "model_name": "LayoutModel",
      "state": {}
     },
     "7c66b5d7e49e46b4af1106c7070d7f40": {
      "model_module": "@jupyter-widgets/controls",
      "model_module_version": "1.5.0",
      "model_name": "IntTextModel",
      "state": {
       "description": "min",
       "layout": "IPY_MODEL_543e057f74d34186b9646b8011bf4a79",
       "step": 1,
       "style": "IPY_MODEL_85677fd06b73443990c58ca29a1a3daa",
       "value": 1
      }
     },
     "7c69b2f86976482cbd21d7c6e466e3cb": {
      "model_module": "pgljupyter",
      "model_module_version": "^0.1.2",
      "model_name": "MaterialEditorModel",
      "state": {
       "_model_module_version": "^0.1.2",
       "_view_module_version": "^0.1.2",
       "children": [
        "IPY_MODEL_d106d73f1f0f40bfb9afee106236b6d3",
        "IPY_MODEL_660849255c0f44c4bfdc973e0a97035b",
        "IPY_MODEL_f34b929398a24b469d2d633e8cbf34a2",
        "IPY_MODEL_6120d60994144590bb1063cb54022e89",
        "IPY_MODEL_c0fbb256fc224c9aba81c3735c246735",
        "IPY_MODEL_ba7234dd0ed3424baa06f9cffa1d96b3",
        "IPY_MODEL_715cfdcd6c964bef8eb9f15d8cbf8678",
        "IPY_MODEL_f388e0efafe1495e96c319279c5f947b"
       ],
       "layout": "IPY_MODEL_88b333a59afe4d6e9c5d36241456007e"
      }
     },
     "7c82d49c39a14f0cbb1f4d90c317ffe0": {
      "model_module": "@jupyter-widgets/controls",
      "model_module_version": "1.5.0",
      "model_name": "SliderStyleModel",
      "state": {
       "description_width": ""
      }
     },
     "7d0aa3defdad47d7902e5aa71a0cc6f8": {
      "model_module": "@jupyter-widgets/controls",
      "model_module_version": "1.5.0",
      "model_name": "HBoxModel",
      "state": {
       "children": [
        "IPY_MODEL_79d35b0ae3834d72bf0fc00bd6bb6b3f",
        "IPY_MODEL_d7a6727bd2324bc1ae4f77eb2d08a957"
       ],
       "layout": "IPY_MODEL_a0210880ef26449bb40373ad5494792c"
      }
     },
     "7d429314117b4b3890e68477bc181f56": {
      "model_module": "@jupyter-widgets/base",
      "model_module_version": "1.2.0",
      "model_name": "LayoutModel",
      "state": {}
     },
     "7d4964c39942453d80f2b8c6293410d3": {
      "model_module": "@jupyter-widgets/controls",
      "model_module_version": "1.5.0",
      "model_name": "ColorPickerModel",
      "state": {
       "description": "emission",
       "disabled": false,
       "layout": "IPY_MODEL_0903b539bd9a4b7e8455db6e48fb9bd6",
       "style": "IPY_MODEL_2d0ad52f89ef410eafad1ecd57f2cb78",
       "value": "#000000"
      }
     },
     "7d5bfc8e9e2e4f8384bba4411ca671f6": {
      "model_module": "@jupyter-widgets/controls",
      "model_module_version": "1.5.0",
      "model_name": "SliderStyleModel",
      "state": {
       "description_width": ""
      }
     },
     "7d94c059507f42e4aa7fdbe39beb4a2a": {
      "model_module": "@jupyter-widgets/base",
      "model_module_version": "1.2.0",
      "model_name": "LayoutModel",
      "state": {}
     },
     "7db211d4f55a4b929b4d71d4bd1279c9": {
      "model_module": "@jupyter-widgets/controls",
      "model_module_version": "1.5.0",
      "model_name": "DescriptionStyleModel",
      "state": {
       "description_width": ""
      }
     },
     "7dc8ea8bc0484a72b1e8d6f23141bfad": {
      "model_module": "@jupyter-widgets/controls",
      "model_module_version": "1.5.0",
      "model_name": "IntTextModel",
      "state": {
       "description": "min",
       "layout": "IPY_MODEL_794f6f1b6edd418abffa16e0fa20374c",
       "step": 1,
       "style": "IPY_MODEL_62563c2f8f8c4d82b179abb13066ff9d",
       "value": 1
      }
     },
     "7e460e2c624a46e587a98cece718fc66": {
      "model_module": "@jupyter-widgets/controls",
      "model_module_version": "1.5.0",
      "model_name": "CheckboxModel",
      "state": {
       "description": "Auto apply",
       "disabled": false,
       "layout": "IPY_MODEL_9448d6a702534361b5d706b498ea40f0",
       "style": "IPY_MODEL_85965b3e10d44bd6bdcb57123716575c",
       "value": true
      }
     },
     "7e46666caca84af194dd3330296034d5": {
      "model_module": "@jupyter-widgets/controls",
      "model_module_version": "1.5.0",
      "model_name": "SliderStyleModel",
      "state": {
       "description_width": ""
      }
     },
     "7e4d389d197f4497ac9605341767eb5f": {
      "model_module": "@jupyter-widgets/controls",
      "model_module_version": "1.5.0",
      "model_name": "ButtonModel",
      "state": {
       "description": "Delete",
       "layout": "IPY_MODEL_dd756382441c405cb77e16e203e7f887",
       "style": "IPY_MODEL_73d991583598443f90d6d52a35fb8498"
      }
     },
     "7e6cd9f3d4774f2a8db233e3574f2d46": {
      "model_module": "@jupyter-widgets/base",
      "model_module_version": "1.2.0",
      "model_name": "LayoutModel",
      "state": {}
     },
     "7e8efbd96371439c93796aa025dc2459": {
      "model_module": "@jupyter-widgets/base",
      "model_module_version": "1.2.0",
      "model_name": "LayoutModel",
      "state": {}
     },
     "7f2b172d2c374e0f9b79d7569d333c05": {
      "model_module": "@jupyter-widgets/controls",
      "model_module_version": "1.5.0",
      "model_name": "VBoxModel",
      "state": {
       "children": [
        "IPY_MODEL_0902933020a846afa086a4dc7ee249a4",
        "IPY_MODEL_638d9ba87d3344748959003409004080"
       ],
       "layout": "IPY_MODEL_a9d9270dee474b0897f2b76e239d91ef"
      }
     },
     "7f8de41401344dabb9b01b6451648c89": {
      "model_module": "@jupyter-widgets/controls",
      "model_module_version": "1.5.0",
      "model_name": "SliderStyleModel",
      "state": {
       "description_width": ""
      }
     },
     "7f9d5e5a52b14a618ba808a1e81f5e6c": {
      "model_module": "@jupyter-widgets/controls",
      "model_module_version": "1.5.0",
      "model_name": "DescriptionStyleModel",
      "state": {
       "description_width": ""
      }
     },
     "7faa1f82e8654be1a5b9b8f2a4aeda47": {
      "model_module": "@jupyter-widgets/controls",
      "model_module_version": "1.5.0",
      "model_name": "DescriptionStyleModel",
      "state": {
       "description_width": ""
      }
     },
     "7fd4070bf1f748a6978285867f3fd655": {
      "model_module": "@jupyter-widgets/controls",
      "model_module_version": "1.5.0",
      "model_name": "ButtonModel",
      "state": {
       "description": "Delete",
       "layout": "IPY_MODEL_6bb8958c70624458abcfedad592ad4c1",
       "style": "IPY_MODEL_0e9c1105c42e4e7787c3c15d410f7b5c"
      }
     },
     "805ea2c62cea4f389e8cdcaf4d3fa2cb": {
      "model_module": "@jupyter-widgets/controls",
      "model_module_version": "1.5.0",
      "model_name": "TextModel",
      "state": {
       "continuous_update": false,
       "description": "name",
       "layout": "IPY_MODEL_c8be64049f5843ebac39f11d40e1b397",
       "style": "IPY_MODEL_9c16367664874458a94374612eb9b248",
       "value": "maxorder"
      }
     },
     "80cb56e577a544b7b67854bd62adcbe8": {
      "model_module": "@jupyter-widgets/base",
      "model_module_version": "1.2.0",
      "model_name": "LayoutModel",
      "state": {}
     },
     "80f2a2ed8df7483eb3fbb0fbe7df57ac": {
      "model_module": "@jupyter-widgets/controls",
      "model_module_version": "1.5.0",
      "model_name": "DropdownModel",
      "state": {
       "index": null,
       "layout": "IPY_MODEL_6bc71166486f4e74904e84efc935c284",
       "style": "IPY_MODEL_e27e310bc1fb461e9c092cb5a0110240"
      }
     },
     "80fb9d29e96a4f77aaee4c7b4f289e4e": {
      "model_module": "@jupyter-widgets/controls",
      "model_module_version": "1.5.0",
      "model_name": "SliderStyleModel",
      "state": {
       "description_width": ""
      }
     },
     "81191aa42cfb44e0b8d68cc02a030a4e": {
      "model_module": "@jupyter-widgets/controls",
      "model_module_version": "1.5.0",
      "model_name": "FloatSliderModel",
      "state": {
       "description": "diffuse",
       "layout": "IPY_MODEL_d5b0b4a76e704be7aa8f297878b58d36",
       "max": 1,
       "step": 0.1,
       "style": "IPY_MODEL_2683a2486a9548ee9a92b323137c1a9a"
      }
     },
     "8183e159292c422d80f970aecd1f0626": {
      "model_module": "@jupyter-widgets/controls",
      "model_module_version": "1.5.0",
      "model_name": "SliderStyleModel",
      "state": {
       "description_width": ""
      }
     },
     "81991c46676647618c0846129eb9253f": {
      "model_module": "@jupyter-widgets/base",
      "model_module_version": "1.2.0",
      "model_name": "LayoutModel",
      "state": {}
     },
     "81d2078f6d2d4f85b52040893d4bfd95": {
      "model_module": "@jupyter-widgets/base",
      "model_module_version": "1.2.0",
      "model_name": "LayoutModel",
      "state": {
       "margin": "20px 0px"
      }
     },
     "823f7f7401fd4f2db5bafaecaddc2207": {
      "model_module": "@jupyter-widgets/controls",
      "model_module_version": "1.5.0",
      "model_name": "TextModel",
      "state": {
       "continuous_update": false,
       "description": "name",
       "layout": "IPY_MODEL_048bb63b5aac4025b904ec1e7f139797",
       "style": "IPY_MODEL_ab0ba13d49e44f81b2dbd8ef218fc16b",
       "value": "color_3"
      }
     },
     "82677ec5f54f4726a069d2eae97e6773": {
      "model_module": "@jupyter-widgets/controls",
      "model_module_version": "1.5.0",
      "model_name": "HBoxModel",
      "state": {
       "children": [
        "IPY_MODEL_5783a1ffec3a4cf7831b22bbadf5558d",
        "IPY_MODEL_f98f574b894146bdac3cc74bf1517323"
       ],
       "layout": "IPY_MODEL_5faadf4842f04521928328410e1fa0d9"
      }
     },
     "8272e23ce2dd4623b003ba31c98874b1": {
      "model_module": "@jupyter-widgets/controls",
      "model_module_version": "1.5.0",
      "model_name": "DescriptionStyleModel",
      "state": {
       "description_width": ""
      }
     },
     "82893840318449eab8bab08d11caa85a": {
      "model_module": "@jupyter-widgets/controls",
      "model_module_version": "1.5.0",
      "model_name": "ButtonStyleModel",
      "state": {}
     },
     "8298bb29a5c745799439a58c350b6a9a": {
      "model_module": "@jupyter-widgets/controls",
      "model_module_version": "1.5.0",
      "model_name": "DescriptionStyleModel",
      "state": {
       "description_width": ""
      }
     },
     "82bcbeb350d44aff94d9fc2cd31553a4": {
      "model_module": "@jupyter-widgets/base",
      "model_module_version": "1.2.0",
      "model_name": "LayoutModel",
      "state": {}
     },
     "8312daa4c523419b93c5a7a2515d20db": {
      "model_module": "@jupyter-widgets/base",
      "model_module_version": "1.2.0",
      "model_name": "LayoutModel",
      "state": {}
     },
     "8340bbc94563495b96eb035f3a6d25fb": {
      "model_module": "pgljupyter",
      "model_module_version": "^0.1.2",
      "model_name": "CurveEditorModel",
      "state": {
       "_model_module_version": "^0.1.2",
       "_view_module_version": "^0.1.2",
       "children": [
        "IPY_MODEL_a089aeec89724239b6aca2b404740c1a",
        "IPY_MODEL_6b2707d91e9942bc8b595dfd3b63cc46"
       ],
       "layout": "IPY_MODEL_86f586d03aa4459a9864f424c3e6d555"
      }
     },
     "83b6503ca459477ca4b512f54b246da1": {
      "model_module": "@jupyter-widgets/controls",
      "model_module_version": "1.5.0",
      "model_name": "DescriptionStyleModel",
      "state": {
       "description_width": ""
      }
     },
     "83d7b86e973542519d6227d6627a1f24": {
      "model_module": "@jupyter-widgets/controls",
      "model_module_version": "1.5.0",
      "model_name": "TextModel",
      "state": {
       "continuous_update": false,
       "description": "name",
       "layout": "IPY_MODEL_b9c9fba7050d4389adc593900e168832",
       "style": "IPY_MODEL_629054a4b105496a857a543e7ed22ae8",
       "value": "radinc"
      }
     },
     "83f45740b1f44611bf05389b4d7fcd7d": {
      "model_module": "@jupyter-widgets/base",
      "model_module_version": "1.2.0",
      "model_name": "LayoutModel",
      "state": {}
     },
     "8414c7b941434c7eb8a7d5c1f8c42b9d": {
      "model_module": "@jupyter-widgets/base",
      "model_module_version": "1.2.0",
      "model_name": "LayoutModel",
      "state": {
       "margin": "20px 0px"
      }
     },
     "841b03bc73504e9fbcd2a2521c5eac54": {
      "model_module": "@jupyter-widgets/controls",
      "model_module_version": "1.5.0",
      "model_name": "TextModel",
      "state": {
       "continuous_update": false,
       "description": "name",
       "layout": "IPY_MODEL_6aa4b4a1ca5f4731b9f8343c79a14cc1",
       "style": "IPY_MODEL_67822b865e28401295637b483ee8afb1",
       "value": "color_3"
      }
     },
     "8424cbe703b64aaab52fcf022d5b86ef": {
      "model_module": "@jupyter-widgets/base",
      "model_module_version": "1.2.0",
      "model_name": "LayoutModel",
      "state": {}
     },
     "8439c9e53b6b4164b3ca468f9cc930d2": {
      "model_module": "@jupyter-widgets/controls",
      "model_module_version": "1.5.0",
      "model_name": "DescriptionStyleModel",
      "state": {
       "description_width": ""
      }
     },
     "843d75cb83854ccca588873a9ace951c": {
      "model_module": "@jupyter-widgets/controls",
      "model_module_version": "1.5.0",
      "model_name": "TextModel",
      "state": {
       "continuous_update": false,
       "description": "name",
       "layout": "IPY_MODEL_f3575942fc0a42a398ac1f9fa3cd7631",
       "style": "IPY_MODEL_71261e9f7d8f47419e3b3ac7fdc33b05",
       "value": "color_2"
      }
     },
     "84896375a43b4ce3b3339763cff16672": {
      "model_module": "@jupyter-widgets/base",
      "model_module_version": "1.2.0",
      "model_name": "LayoutModel",
      "state": {}
     },
     "84e2779eec6247e788956dd1ebf9ea54": {
      "model_module": "@jupyter-widgets/controls",
      "model_module_version": "1.5.0",
      "model_name": "DescriptionStyleModel",
      "state": {
       "description_width": ""
      }
     },
     "84e87897d7924c9c8a3252b0e40e3dd5": {
      "model_module": "@jupyter-widgets/controls",
      "model_module_version": "1.5.0",
      "model_name": "HBoxModel",
      "state": {
       "children": [
        "IPY_MODEL_7c69b2f86976482cbd21d7c6e466e3cb",
        "IPY_MODEL_3f61e9dd496f4505be6dc1c84aefdc57",
        "IPY_MODEL_352845e9ebe34d14891bd5826b4a2e08"
       ],
       "layout": "IPY_MODEL_fe0cdcc6562e4d7b98662c718d50f517"
      }
     },
     "8521421917f24da6b6dadd3024bc4b3c": {
      "model_module": "@jupyter-widgets/controls",
      "model_module_version": "1.5.0",
      "model_name": "DropdownModel",
      "state": {
       "_options_labels": [
        "leafduration",
        "leafold",
        "maxorder",
        "radinc",
        "nb_axes"
       ],
       "index": 0,
       "layout": "IPY_MODEL_8f01abad88d94ccbbc92059d66638e59",
       "style": "IPY_MODEL_1199b29ae2c043a9970f55d5b94d1758"
      }
     },
     "85264ec201b444b792a8393ea0895cc6": {
      "model_module": "@jupyter-widgets/controls",
      "model_module_version": "1.5.0",
      "model_name": "DescriptionStyleModel",
      "state": {
       "description_width": ""
      }
     },
     "8554cceab3924e6b9e50c79f303173aa": {
      "model_module": "@jupyter-widgets/controls",
      "model_module_version": "1.5.0",
      "model_name": "SliderStyleModel",
      "state": {
       "description_width": ""
      }
     },
     "85677fd06b73443990c58ca29a1a3daa": {
      "model_module": "@jupyter-widgets/controls",
      "model_module_version": "1.5.0",
      "model_name": "DescriptionStyleModel",
      "state": {
       "description_width": ""
      }
     },
     "85965b3e10d44bd6bdcb57123716575c": {
      "model_module": "@jupyter-widgets/controls",
      "model_module_version": "1.5.0",
      "model_name": "DescriptionStyleModel",
      "state": {
       "description_width": ""
      }
     },
     "85a4b553864b446484511bd08e7f28b4": {
      "model_module": "@jupyter-widgets/controls",
      "model_module_version": "1.5.0",
      "model_name": "ButtonStyleModel",
      "state": {}
     },
     "86b0aab187af49f1a86803563cc19ecd": {
      "model_module": "@jupyter-widgets/controls",
      "model_module_version": "1.5.0",
      "model_name": "FloatSliderModel",
      "state": {
       "description": "transparency",
       "layout": "IPY_MODEL_0effd504a4974e6abb5357847527ec57",
       "max": 1,
       "step": 0.1,
       "style": "IPY_MODEL_d95a440053a049df933468128decce4b",
       "value": 1
      }
     },
     "86d0c2f7ea1b44e6908bfd682ece3329": {
      "model_module": "@jupyter-widgets/controls",
      "model_module_version": "1.5.0",
      "model_name": "DescriptionStyleModel",
      "state": {
       "description_width": ""
      }
     },
     "86ec7adecb9f49ce84587436150da9e1": {
      "model_module": "@jupyter-widgets/controls",
      "model_module_version": "1.5.0",
      "model_name": "SliderStyleModel",
      "state": {
       "description_width": ""
      }
     },
     "86f586d03aa4459a9864f424c3e6d555": {
      "model_module": "@jupyter-widgets/base",
      "model_module_version": "1.2.0",
      "model_name": "LayoutModel",
      "state": {
       "margin": "20px 0px"
      }
     },
     "86f7b3b61bdf4991a46b8cca9a382724": {
      "model_module": "@jupyter-widgets/controls",
      "model_module_version": "1.5.0",
      "model_name": "DropdownModel",
      "state": {
       "index": null,
       "layout": "IPY_MODEL_4bc1579957df4870a26abbbe1e8fbf81",
       "style": "IPY_MODEL_18f4a9848e8748e0b6f14cc8ad8b33d1"
      }
     },
     "8708b4f84f454407bc516fc2e9b1e14b": {
      "model_module": "@jupyter-widgets/controls",
      "model_module_version": "1.5.0",
      "model_name": "FloatSliderModel",
      "state": {
       "description": "shininess",
       "layout": "IPY_MODEL_ae863b42db2c40eeaa8a064f1de6d54e",
       "max": 1,
       "step": 0.1,
       "style": "IPY_MODEL_1ca38f8de5c14488a96798aa1fb3bff0",
       "value": 0.2
      }
     },
     "8715186e0e7149e8864eac82b62a522d": {
      "model_module": "@jupyter-widgets/base",
      "model_module_version": "1.2.0",
      "model_name": "LayoutModel",
      "state": {}
     },
     "87184acfec304db28ea1dafadf28a35a": {
      "model_module": "@jupyter-widgets/controls",
      "model_module_version": "1.5.0",
      "model_name": "DescriptionStyleModel",
      "state": {
       "description_width": ""
      }
     },
     "8732af9403aa4f6ca1b7e62ca4e29c09": {
      "model_module": "@jupyter-widgets/base",
      "model_module_version": "1.2.0",
      "model_name": "LayoutModel",
      "state": {}
     },
     "873fc331b8844a1093445796e7b51b73": {
      "model_module": "@jupyter-widgets/controls",
      "model_module_version": "1.5.0",
      "model_name": "DescriptionStyleModel",
      "state": {
       "description_width": ""
      }
     },
     "8773584cbfee41468190d5e50df8670d": {
      "model_module": "@jupyter-widgets/controls",
      "model_module_version": "1.5.0",
      "model_name": "DescriptionStyleModel",
      "state": {
       "description_width": ""
      }
     },
     "87ce8cc41c754ca18695a557906ccd97": {
      "model_module": "@jupyter-widgets/base",
      "model_module_version": "1.2.0",
      "model_name": "LayoutModel",
      "state": {}
     },
     "87cef65f3ccb4e37b6f6da063e0b9e6e": {
      "model_module": "@jupyter-widgets/controls",
      "model_module_version": "1.5.0",
      "model_name": "ColorPickerModel",
      "state": {
       "description": "ambient",
       "disabled": false,
       "layout": "IPY_MODEL_0b4c4d71ec8e44e68cc9250e5069637a",
       "style": "IPY_MODEL_4f1619fba91b4d7cb40cab3f9cfbda3e",
       "value": "#e1a014"
      }
     },
     "8815d743dee0457d8be8b0a8c46923f3": {
      "model_module": "@jupyter-widgets/base",
      "model_module_version": "1.2.0",
      "model_name": "LayoutModel",
      "state": {}
     },
     "88798602d5504c9aaa7f098f2ba700a6": {
      "model_module": "@jupyter-widgets/base",
      "model_module_version": "1.2.0",
      "model_name": "LayoutModel",
      "state": {}
     },
     "8885c255856b479881029363d8cf8481": {
      "model_module": "@jupyter-widgets/controls",
      "model_module_version": "1.5.0",
      "model_name": "ColorPickerModel",
      "state": {
       "description": "ambient",
       "disabled": false,
       "layout": "IPY_MODEL_995085a578004bfe81660f47cb338b16",
       "style": "IPY_MODEL_16e49243964a48618d68e8e278e7d9bd",
       "value": "#195717"
      }
     },
     "889f2425f1a345fd8139244e0dbd2e35": {
      "model_module": "@jupyter-widgets/base",
      "model_module_version": "1.2.0",
      "model_name": "LayoutModel",
      "state": {}
     },
     "88b333a59afe4d6e9c5d36241456007e": {
      "model_module": "@jupyter-widgets/base",
      "model_module_version": "1.2.0",
      "model_name": "LayoutModel",
      "state": {
       "margin": "20px 0px"
      }
     },
     "88d679242d4e47da83d942cd3e60dc38": {
      "model_module": "@jupyter-widgets/base",
      "model_module_version": "1.2.0",
      "model_name": "LayoutModel",
      "state": {}
     },
     "8924e7490b8d474abb523195f04639b9": {
      "model_module": "@jupyter-widgets/controls",
      "model_module_version": "1.5.0",
      "model_name": "ButtonModel",
      "state": {
       "description": "Delete",
       "layout": "IPY_MODEL_0b38fbfb4d1f4b9995215a9f3e2c4a51",
       "style": "IPY_MODEL_222c986241f440b09ecf8838dee277bb"
      }
     },
     "896f19e84d5e466e801cd444150b1553": {
      "model_module": "pgljupyter",
      "model_module_version": "^0.1.2",
      "model_name": "LsystemWidgetModel",
      "state": {
       "_model_module_version": "^0.1.2",
       "_view_module_version": "^0.1.2",
       "axes_helper": false,
       "derivationLength": 45,
       "layout": "IPY_MODEL_d93ddd2368b84814a30872f4a70db859",
       "light_helper": false,
       "plane": true,
       "size_display": [
        400,
        400
       ],
       "size_world": [
        10,
        10,
        10
       ],
       "unit": 1
      }
     },
     "89b6301374784af2ad12bd1f64c5bd4e": {
      "model_module": "@jupyter-widgets/base",
      "model_module_version": "1.2.0",
      "model_name": "LayoutModel",
      "state": {}
     },
     "89e50adf10a84ea9ab3997fe944f3854": {
      "model_module": "@jupyter-widgets/controls",
      "model_module_version": "1.5.0",
      "model_name": "FloatTextModel",
      "state": {
       "description": "min",
       "layout": "IPY_MODEL_22a9a3fd9c4947de8e9b52c24d8c16d8",
       "step": null,
       "style": "IPY_MODEL_738f9659f28b43cf9dd1fbc37d0b8b4c",
       "value": 0.01
      }
     },
     "89fc6b596d6c4c578cd11a671c085644": {
      "model_module": "@jupyter-widgets/base",
      "model_module_version": "1.2.0",
      "model_name": "LayoutModel",
      "state": {}
     },
     "8a45f1793c654ff1b7f7ad2acc463549": {
      "model_module": "@jupyter-widgets/base",
      "model_module_version": "1.2.0",
      "model_name": "LayoutModel",
      "state": {
       "margin": "20px 0px"
      }
     },
     "8a552e1e88a0406f8658363c552e528f": {
      "model_module": "@jupyter-widgets/base",
      "model_module_version": "1.2.0",
      "model_name": "LayoutModel",
      "state": {}
     },
     "8a8447a78e8d49cbbb6bc89f112759f5": {
      "model_module": "@jupyter-widgets/base",
      "model_module_version": "1.2.0",
      "model_name": "LayoutModel",
      "state": {}
     },
     "8a8f9cbb663e4d42a10e4e70f2a1cd17": {
      "model_module": "@jupyter-widgets/controls",
      "model_module_version": "1.5.0",
      "model_name": "DescriptionStyleModel",
      "state": {
       "description_width": ""
      }
     },
     "8ad51eb776394b4a93dbc7a1dfb9d73e": {
      "model_module": "@jupyter-widgets/controls",
      "model_module_version": "1.5.0",
      "model_name": "ColorPickerModel",
      "state": {
       "description": "ambient",
       "disabled": false,
       "layout": "IPY_MODEL_0d1986f50e824e3ab46c0c00906d8520",
       "style": "IPY_MODEL_19d5ed6b5b74424fa7cdb765d4b9a589",
       "value": "#5b4534"
      }
     },
     "8b2c0e30f10b4eb494458134d6e3d6ac": {
      "model_module": "@jupyter-widgets/controls",
      "model_module_version": "1.5.0",
      "model_name": "TabModel",
      "state": {
       "layout": "IPY_MODEL_bf6afae350cf4c75abb82cfc7b68b427"
      }
     },
     "8b57ad46d5bd48cca26846608c950e2f": {
      "model_module": "@jupyter-widgets/controls",
      "model_module_version": "1.5.0",
      "model_name": "DescriptionStyleModel",
      "state": {
       "description_width": ""
      }
     },
     "8b5a4b520c81467f891fd15960b777f4": {
      "model_module": "@jupyter-widgets/base",
      "model_module_version": "1.2.0",
      "model_name": "LayoutModel",
      "state": {}
     },
     "8b631c32026a41418173e79115085831": {
      "model_module": "@jupyter-widgets/controls",
      "model_module_version": "1.5.0",
      "model_name": "ButtonStyleModel",
      "state": {}
     },
     "8bf9b39e28e14f21bbc488f01e8d389d": {
      "model_module": "@jupyter-widgets/base",
      "model_module_version": "1.2.0",
      "model_name": "LayoutModel",
      "state": {}
     },
     "8c62da042dd6442d92b2bb7026266ad6": {
      "buffers": [
       {
        "data": "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",
        "encoding": "base64",
        "path": [
         "scene",
         "data"
        ]
       }
      ],
      "model_module": "pgljupyter",
      "model_module_version": "^0.1.14",
      "model_name": "LsystemWidgetModel",
      "state": {
       "_model_module_version": "^0.1.14",
       "_view_module_version": "^0.1.14",
       "axes_helper": false,
       "derivationLength": 41,
       "layout": "IPY_MODEL_ce227c9996044887815635ea59975f6c",
       "light_helper": false,
       "plane": true,
       "scene": {
        "derivationStep": 40,
        "id": 40,
        "scene": "<openalea.plantgl.scenegraph._pglsg.Scene object at 0x7f681919a710>"
       },
       "size_display": [
        400,
        400
       ],
       "size_world": 50
      }
     },
     "8c6d842e752a4b18b7ab2cfa3594f105": {
      "model_module": "@jupyter-widgets/controls",
      "model_module_version": "1.5.0",
      "model_name": "DropdownModel",
      "state": {
       "_options_labels": [
        "color_1",
        "color_2",
        "color_3",
        "color_4"
       ],
       "index": 0,
       "layout": "IPY_MODEL_a7a8b5c3470447899106f38cf7d60475",
       "style": "IPY_MODEL_48bdb719082748ef91def7da3aa3a65a"
      }
     },
     "8c7a3e34a4ef4101aa1d4fafbdcc25e2": {
      "model_module": "@jupyter-widgets/base",
      "model_module_version": "1.2.0",
      "model_name": "LayoutModel",
      "state": {}
     },
     "8cf47a3dc0f145878200852cb8e2324d": {
      "model_module": "@jupyter-widgets/controls",
      "model_module_version": "1.5.0",
      "model_name": "DescriptionStyleModel",
      "state": {
       "description_width": ""
      }
     },
     "8d6db19d3f094f5eadeb4f40df7ac00f": {
      "model_module": "@jupyter-widgets/controls",
      "model_module_version": "1.5.0",
      "model_name": "DescriptionStyleModel",
      "state": {
       "description_width": ""
      }
     },
     "8d72828213d54034baa081e13312c7e8": {
      "model_module": "@jupyter-widgets/base",
      "model_module_version": "1.2.0",
      "model_name": "LayoutModel",
      "state": {}
     },
     "8d97a9c3a929427aacfe6a6892edf62f": {
      "model_module": "@jupyter-widgets/base",
      "model_module_version": "1.2.0",
      "model_name": "LayoutModel",
      "state": {}
     },
     "8dee69fccbb14c7c82aaa8587be93b6d": {
      "model_module": "@jupyter-widgets/base",
      "model_module_version": "1.2.0",
      "model_name": "LayoutModel",
      "state": {
       "margin": "20px 0px"
      }
     },
     "8e4a08bb730b480399348f035c0fb923": {
      "model_module": "@jupyter-widgets/controls",
      "model_module_version": "1.5.0",
      "model_name": "HBoxModel",
      "state": {
       "children": [
        "IPY_MODEL_936f0e7167dc479c802e269f1eb415e2",
        "IPY_MODEL_2c8a15976e6848598b89d289ea36058c"
       ],
       "layout": "IPY_MODEL_0c3ed52dd9c4401a928899a1f8bd760f"
      }
     },
     "8e5923306b2d46e79d08c87828fc0a9b": {
      "model_module": "@jupyter-widgets/base",
      "model_module_version": "1.2.0",
      "model_name": "LayoutModel",
      "state": {}
     },
     "8e9eadb874e74667b49b67960eb2b573": {
      "model_module": "@jupyter-widgets/controls",
      "model_module_version": "1.5.0",
      "model_name": "HBoxModel",
      "state": {
       "layout": "IPY_MODEL_fdc392c7cf9844a2b7daa72c52be63a0"
      }
     },
     "8ecf3ecac7e449ec9e63fe3f86b2d2b3": {
      "model_module": "pgljupyter",
      "model_module_version": "^0.1.14",
      "model_name": "ParameterEditorModel",
      "state": {
       "_model_module_version": "^0.1.14",
       "_view_module_version": "^0.1.14",
       "children": [
        "IPY_MODEL_e5e553e6acfa43be9690659edc56b638"
       ],
       "layout": "IPY_MODEL_7d429314117b4b3890e68477bc181f56"
      }
     },
     "8f01abad88d94ccbbc92059d66638e59": {
      "model_module": "@jupyter-widgets/base",
      "model_module_version": "1.2.0",
      "model_name": "LayoutModel",
      "state": {}
     },
     "8f1da4b76f6c40d9add8f34cb84ac141": {
      "model_module": "@jupyter-widgets/base",
      "model_module_version": "1.2.0",
      "model_name": "LayoutModel",
      "state": {
       "margin": "20px 0px"
      }
     },
     "8f477e2e294f4e3492be7dbd7786b8fb": {
      "model_module": "@jupyter-widgets/base",
      "model_module_version": "1.2.0",
      "model_name": "LayoutModel",
      "state": {}
     },
     "901d53fddd3948458282a32dd2f4b5a7": {
      "model_module": "@jupyter-widgets/controls",
      "model_module_version": "1.5.0",
      "model_name": "TextModel",
      "state": {
       "continuous_update": false,
       "description": "name",
       "layout": "IPY_MODEL_c7a7a50eab4e4e22960d00e9cf2bd872",
       "style": "IPY_MODEL_5965992f600047acaf09d3042fa191f5",
       "value": "BezierCurve2D_1"
      }
     },
     "903d502a98cd44ecb5657e2156e9559c": {
      "model_module": "@jupyter-widgets/controls",
      "model_module_version": "1.5.0",
      "model_name": "HBoxModel",
      "state": {
       "children": [
        "IPY_MODEL_f38ce8becd2f403f81f14f057115a3b5",
        "IPY_MODEL_7e460e2c624a46e587a98cece718fc66",
        "IPY_MODEL_593c45add93e470fa160defc86ae8503",
        "IPY_MODEL_5e191573a5924d1887ed7d21c6786fdf"
       ],
       "layout": "IPY_MODEL_25596c60b781494ba65f65b159bd60c0"
      }
     },
     "90a47df4dba34d57b516a9080888680e": {
      "model_module": "@jupyter-widgets/controls",
      "model_module_version": "1.5.0",
      "model_name": "ColorPickerModel",
      "state": {
       "description": "ambient",
       "disabled": false,
       "layout": "IPY_MODEL_754e023037f44be6a00d8aae974857c5",
       "style": "IPY_MODEL_fa2ab2109edb48bb9783d6353f95f9f5",
       "value": "#e1a014"
      }
     },
     "90b847efdfb849b8b6736e210159423b": {
      "model_module": "@jupyter-widgets/controls",
      "model_module_version": "1.5.0",
      "model_name": "DropdownModel",
      "state": {
       "_options_labels": [
        "Integer",
        "Float",
        "Bool"
       ],
       "index": 0,
       "layout": "IPY_MODEL_cbe03dab15774ad68ea1b7df1e69258a",
       "style": "IPY_MODEL_46d4a42297fb4b649abab841c2500d21"
      }
     },
     "90dd86fb627e4aa088f052bdc9ec27f9": {
      "model_module": "pgljupyter",
      "model_module_version": "^0.1.2",
      "model_name": "CurveEditorModel",
      "state": {
       "_model_module_version": "^0.1.2",
       "_view_module_version": "^0.1.2",
       "children": [
        "IPY_MODEL_901d53fddd3948458282a32dd2f4b5a7",
        "IPY_MODEL_3cf5140e8eaf4f8bb8ba9548db80111d"
       ],
       "layout": "IPY_MODEL_9321351e06944678b9228d00a620d928"
      }
     },
     "910acf8275e644cea6a9caabffacd4f6": {
      "model_module": "@jupyter-widgets/controls",
      "model_module_version": "1.5.0",
      "model_name": "SliderStyleModel",
      "state": {
       "description_width": ""
      }
     },
     "928bf1d863cd4c3d85d3366fa681a4d0": {
      "model_module": "@jupyter-widgets/base",
      "model_module_version": "1.2.0",
      "model_name": "LayoutModel",
      "state": {}
     },
     "92a49b08882b4b28ae92e9d4b56b4441": {
      "model_module": "@jupyter-widgets/controls",
      "model_module_version": "1.5.0",
      "model_name": "IntTextModel",
      "state": {
       "description": "min",
       "layout": "IPY_MODEL_b59c29281333436899408f2669df3b50",
       "step": 1,
       "style": "IPY_MODEL_f91d2ac41e5c4dfaa339b47ecbc48765",
       "value": 1
      }
     },
     "92d3290df9ab4916ac33eac813c835b3": {
      "model_module": "@jupyter-widgets/controls",
      "model_module_version": "1.5.0",
      "model_name": "ButtonStyleModel",
      "state": {}
     },
     "930cf2be63434311b69954fea28519d9": {
      "model_module": "@jupyter-widgets/controls",
      "model_module_version": "1.5.0",
      "model_name": "FloatSliderModel",
      "state": {
       "description": "shininess",
       "layout": "IPY_MODEL_3b165dfd50c4467fa021eb1279eb1e9b",
       "max": 1,
       "step": 0.1,
       "style": "IPY_MODEL_b5ccc25be6cb483bbe8c790ab85792d5",
       "value": 0.2
      }
     },
     "930f0ee8812644898f0b1679116f4fb2": {
      "model_module": "@jupyter-widgets/controls",
      "model_module_version": "1.5.0",
      "model_name": "FloatSliderModel",
      "state": {
       "description": "diffuse",
       "layout": "IPY_MODEL_965909a07304436d98f0087adc6ffd14",
       "max": 1,
       "step": 0.1,
       "style": "IPY_MODEL_57c821df3d834463805124e7186d4dbe",
       "value": 1
      }
     },
     "9321351e06944678b9228d00a620d928": {
      "model_module": "@jupyter-widgets/base",
      "model_module_version": "1.2.0",
      "model_name": "LayoutModel",
      "state": {
       "margin": "20px 0px"
      }
     },
     "936f0e7167dc479c802e269f1eb415e2": {
      "model_module": "@jupyter-widgets/controls",
      "model_module_version": "1.5.0",
      "model_name": "ButtonModel",
      "state": {
       "description": "Delete",
       "layout": "IPY_MODEL_cc6a0f0ef8ca472b9113262cccfa8bfa",
       "style": "IPY_MODEL_5d435d9b86cd4d3e9fec3dcc41b6d3fb"
      }
     },
     "94187a47d018456e86f4065c54af4476": {
      "model_module": "@jupyter-widgets/base",
      "model_module_version": "1.2.0",
      "model_name": "LayoutModel",
      "state": {}
     },
     "9448d6a702534361b5d706b498ea40f0": {
      "model_module": "@jupyter-widgets/base",
      "model_module_version": "1.2.0",
      "model_name": "LayoutModel",
      "state": {}
     },
     "949b9f6b0655431baaa842ca0fba7158": {
      "model_module": "@jupyter-widgets/controls",
      "model_module_version": "1.5.0",
      "model_name": "DropdownModel",
      "state": {
       "_options_labels": [
        "NurbsCurve2D",
        "BezierCurve2D",
        "Polyline2D"
       ],
       "index": 1,
       "layout": "IPY_MODEL_db4c3609b3594e998f5efdb2721b2014",
       "style": "IPY_MODEL_f79988204f874b4b990f329de61ad10e"
      }
     },
     "94ac578565f043d688bf9cd62d6d8553": {
      "model_module": "@jupyter-widgets/controls",
      "model_module_version": "1.5.0",
      "model_name": "DescriptionStyleModel",
      "state": {
       "description_width": ""
      }
     },
     "94e00aab9f27448caa364586229589bf": {
      "model_module": "@jupyter-widgets/controls",
      "model_module_version": "1.5.0",
      "model_name": "SliderStyleModel",
      "state": {
       "description_width": ""
      }
     },
     "94e25902e4724aa0a4d73938e6e56102": {
      "model_module": "@jupyter-widgets/controls",
      "model_module_version": "1.5.0",
      "model_name": "DescriptionStyleModel",
      "state": {
       "description_width": ""
      }
     },
     "94fe16f4b7b148129026cb2da6d29ef1": {
      "model_module": "@jupyter-widgets/controls",
      "model_module_version": "1.5.0",
      "model_name": "TextModel",
      "state": {
       "continuous_update": false,
       "description": "name",
       "layout": "IPY_MODEL_9c7b8466e8e340feb151320d1ae35860",
       "style": "IPY_MODEL_8272e23ce2dd4623b003ba31c98874b1",
       "value": "color_4"
      }
     },
     "951341cbaf1647c1b78a3d6afe8b8158": {
      "model_module": "@jupyter-widgets/base",
      "model_module_version": "1.2.0",
      "model_name": "LayoutModel",
      "state": {}
     },
     "952046052d024f28bf70c8a76f65f14a": {
      "model_module": "@jupyter-widgets/controls",
      "model_module_version": "1.5.0",
      "model_name": "DescriptionStyleModel",
      "state": {
       "description_width": ""
      }
     },
     "952fbb7f027f4f5d9239e048df0be058": {
      "model_module": "@jupyter-widgets/base",
      "model_module_version": "1.2.0",
      "model_name": "LayoutModel",
      "state": {}
     },
     "9533a3e0ce41459f818837dd25b5e7bf": {
      "model_module": "@jupyter-widgets/base",
      "model_module_version": "1.2.0",
      "model_name": "LayoutModel",
      "state": {}
     },
     "953d2782c14249fb88a4123469f963a7": {
      "model_module": "@jupyter-widgets/base",
      "model_module_version": "1.2.0",
      "model_name": "LayoutModel",
      "state": {}
     },
     "954794a6a3d042c395cc18311c564ac2": {
      "model_module": "@jupyter-widgets/base",
      "model_module_version": "1.2.0",
      "model_name": "LayoutModel",
      "state": {}
     },
     "957c5740794142d5b25a7b7ebca09e73": {
      "model_module": "@jupyter-widgets/controls",
      "model_module_version": "1.5.0",
      "model_name": "ButtonModel",
      "state": {
       "description": "Delete",
       "layout": "IPY_MODEL_2ebb0a0050144bca8f9cb9d9e1736e7a",
       "style": "IPY_MODEL_dd72025c1e3449dcbda94bf41b2283c2"
      }
     },
     "95ba0750d90d46549f250d00ed29fe90": {
      "model_module": "@jupyter-widgets/controls",
      "model_module_version": "1.5.0",
      "model_name": "VBoxModel",
      "state": {
       "children": [
        "IPY_MODEL_903d502a98cd44ecb5657e2156e9559c",
        "IPY_MODEL_75e4bd3534f543b4899c48d354a9a7b6"
       ],
       "layout": "IPY_MODEL_01c976d04d3844679724e474809c158b"
      }
     },
     "95eef6992b7847359034cb5d069ebfa2": {
      "model_module": "@jupyter-widgets/base",
      "model_module_version": "1.2.0",
      "model_name": "LayoutModel",
      "state": {}
     },
     "965909a07304436d98f0087adc6ffd14": {
      "model_module": "@jupyter-widgets/base",
      "model_module_version": "1.2.0",
      "model_name": "LayoutModel",
      "state": {}
     },
     "965bd59a86534e949f83f3fe45f31fe8": {
      "model_module": "@jupyter-widgets/controls",
      "model_module_version": "1.5.0",
      "model_name": "DropdownModel",
      "state": {
       "_options_labels": [
        "NurbsCurve2D",
        "BezierCurve2D",
        "Polyline2D"
       ],
       "index": 0,
       "layout": "IPY_MODEL_0d4aef8d0e3947f39cd16894ccb136e4",
       "style": "IPY_MODEL_30ea0fffbfc14c498f33c0844ae5ecc8"
      }
     },
     "966bb16d1bfb45d88640e227702886a8": {
      "model_module": "@jupyter-widgets/controls",
      "model_module_version": "1.5.0",
      "model_name": "TextModel",
      "state": {
       "continuous_update": false,
       "description": "name",
       "layout": "IPY_MODEL_cf3db1034fd8432aa3704c829a0ecdf4",
       "style": "IPY_MODEL_a5e6cb9ccab74844b1a7f7ff16c4b40d",
       "value": "leafduration"
      }
     },
     "96bc270eb98e480d869226e5c3773f39": {
      "model_module": "@jupyter-widgets/controls",
      "model_module_version": "1.5.0",
      "model_name": "BoundedIntTextModel",
      "state": {
       "description": "index",
       "layout": "IPY_MODEL_ad8a030a3fcc472689e91a373593e67a",
       "style": "IPY_MODEL_04e56f0541674c39a651dd9c50a6c8f2",
       "value": 3
      }
     },
     "96ef03696a734da89b39db7fbc0c836b": {
      "model_module": "@jupyter-widgets/controls",
      "model_module_version": "1.5.0",
      "model_name": "DescriptionStyleModel",
      "state": {
       "description_width": ""
      }
     },
     "973b8db74a7241838bcf94e8926a691c": {
      "model_module": "@jupyter-widgets/controls",
      "model_module_version": "1.5.0",
      "model_name": "DescriptionStyleModel",
      "state": {
       "description_width": ""
      }
     },
     "9759350451f2440eb8c617e8c4db008e": {
      "model_module": "@jupyter-widgets/controls",
      "model_module_version": "1.5.0",
      "model_name": "VBoxModel",
      "state": {
       "children": [
        "IPY_MODEL_e8399564e03e4c88bfaaaad19c92859c",
        "IPY_MODEL_d1b0d3e3255c4c5094a200be37f42f8f"
       ],
       "layout": "IPY_MODEL_064a6b52f9d74adca3130c88f0c1bda9"
      }
     },
     "9764c640c2bd4beaa84c225f30c2b73a": {
      "model_module": "@jupyter-widgets/base",
      "model_module_version": "1.2.0",
      "model_name": "LayoutModel",
      "state": {}
     },
     "978de8ad9ea24bcea235051efc4a1a54": {
      "model_module": "@jupyter-widgets/controls",
      "model_module_version": "1.5.0",
      "model_name": "DescriptionStyleModel",
      "state": {
       "description_width": ""
      }
     },
     "97b1c094320146c1bccde87922ad76ab": {
      "model_module": "@jupyter-widgets/controls",
      "model_module_version": "1.5.0",
      "model_name": "ButtonModel",
      "state": {
       "description": "Delete",
       "layout": "IPY_MODEL_da2af70e6cb54a87bfe8aba01f079232",
       "style": "IPY_MODEL_3207925224d34f6c8bf84a40588fed58"
      }
     },
     "97d0ec30cb08453f949f7b6111f45ad9": {
      "model_module": "@jupyter-widgets/controls",
      "model_module_version": "1.5.0",
      "model_name": "ColorPickerModel",
      "state": {
       "description": "emission",
       "disabled": false,
       "layout": "IPY_MODEL_2d27d7c14ef54df7bced5f710b9e0cce",
       "style": "IPY_MODEL_8d6db19d3f094f5eadeb4f40df7ac00f",
       "value": "#000000"
      }
     },
     "97e0f25e2b234a4e8f54f9c7226139d4": {
      "model_module": "pgljupyter",
      "model_module_version": "^0.1.14",
      "model_name": "IntEditorModel",
      "state": {
       "_model_module_version": "^0.1.14",
       "_view_module_version": "^0.1.14",
       "children": [
        "IPY_MODEL_10ae33d3c2ef4b328d1bae3a015fb740",
        "IPY_MODEL_565735071d44460084dbcc986fac2a21",
        "IPY_MODEL_f20df92cf03a414892fbe668a47eff5a",
        "IPY_MODEL_3d72676596db48239fb3fce7eab36c7e",
        "IPY_MODEL_393897094f3e4470aaac2d26415261a8"
       ],
       "layout": "IPY_MODEL_57e58ad59edd42ff9e9f05759bd93609"
      }
     },
     "984b9c846c2745a480a2020feaa5cb7e": {
      "model_module": "@jupyter-widgets/controls",
      "model_module_version": "1.5.0",
      "model_name": "TabModel",
      "state": {
       "_titles": {
        "0": "leuwenberg.json"
       },
       "children": [
        "IPY_MODEL_ce6b286f2d3f44b0950e6aad6008ca4a"
       ],
       "layout": "IPY_MODEL_9946cf58e54c47ec8aa5016cd7cf912a"
      }
     },
     "9866af8bed034a5794d5192397982b56": {
      "model_module": "@jupyter-widgets/controls",
      "model_module_version": "1.5.0",
      "model_name": "HBoxModel",
      "state": {
       "children": [
        "IPY_MODEL_2bfa67229dbb4f5f80d1bc638f650d11",
        "IPY_MODEL_5e00d7802e284e14b7b04901ce63c863"
       ],
       "layout": "IPY_MODEL_ba29b80240fa409fbf8bfc9edf0f136d"
      }
     },
     "987ee76d11d2433cacbdfd03b1954503": {
      "model_module": "@jupyter-widgets/controls",
      "model_module_version": "1.5.0",
      "model_name": "HBoxModel",
      "state": {
       "children": [
        "IPY_MODEL_a971f194088a4a4e858765df3db9ae8c",
        "IPY_MODEL_c2003da65dea4a289b43039e5a8549af",
        "IPY_MODEL_dd8cbc2eaaeb415dbc538b88d4e53a59",
        "IPY_MODEL_ba6c79c2e43840c9810fa60662097b5b"
       ],
       "layout": "IPY_MODEL_fe0cdcc6562e4d7b98662c718d50f517"
      }
     },
     "9885be8a805844de97c0070041224d3e": {
      "model_module": "@jupyter-widgets/base",
      "model_module_version": "1.2.0",
      "model_name": "LayoutModel",
      "state": {}
     },
     "98bc50eea37a458ebc2807a2cfa4a66e": {
      "model_module": "@jupyter-widgets/base",
      "model_module_version": "1.2.0",
      "model_name": "LayoutModel",
      "state": {}
     },
     "98f8b3c6f7c54cba99d0142498298b0a": {
      "model_module": "@jupyter-widgets/controls",
      "model_module_version": "1.5.0",
      "model_name": "ColorPickerModel",
      "state": {
       "description": "emission",
       "disabled": false,
       "layout": "IPY_MODEL_dc6aaa49edae4ee0a2076a316cb680a5",
       "style": "IPY_MODEL_c254b77e53f94f28a27b56e3c2dfc626",
       "value": "#000000"
      }
     },
     "99302e31763945609667a0e4acb70120": {
      "model_module": "@jupyter-widgets/base",
      "model_module_version": "1.2.0",
      "model_name": "LayoutModel",
      "state": {}
     },
     "9946cf58e54c47ec8aa5016cd7cf912a": {
      "model_module": "@jupyter-widgets/base",
      "model_module_version": "1.2.0",
      "model_name": "LayoutModel",
      "state": {}
     },
     "995085a578004bfe81660f47cb338b16": {
      "model_module": "@jupyter-widgets/base",
      "model_module_version": "1.2.0",
      "model_name": "LayoutModel",
      "state": {}
     },
     "996caf2446e9407b9b792dca3f37a21f": {
      "model_module": "@jupyter-widgets/base",
      "model_module_version": "1.2.0",
      "model_name": "LayoutModel",
      "state": {
       "margin": "20px 0px"
      }
     },
     "9996de42de804a72bd10c312732d93ad": {
      "model_module": "@jupyter-widgets/base",
      "model_module_version": "1.2.0",
      "model_name": "LayoutModel",
      "state": {
       "margin": "20px 0px"
      }
     },
     "99e452c25df34ce1bcd194a8877b7a0d": {
      "model_module": "@jupyter-widgets/controls",
      "model_module_version": "1.5.0",
      "model_name": "DescriptionStyleModel",
      "state": {
       "description_width": ""
      }
     },
     "9a4d28e6d7344830967b6574699ba3f3": {
      "model_module": "@jupyter-widgets/base",
      "model_module_version": "1.2.0",
      "model_name": "LayoutModel",
      "state": {}
     },
     "9a5bea988e4b44239c09cfdf7b695751": {
      "model_module": "@jupyter-widgets/base",
      "model_module_version": "1.2.0",
      "model_name": "LayoutModel",
      "state": {}
     },
     "9a65dcb16d534e78b9be4268f18e0189": {
      "model_module": "@jupyter-widgets/controls",
      "model_module_version": "1.5.0",
      "model_name": "ButtonModel",
      "state": {
       "description": "Delete",
       "layout": "IPY_MODEL_b68cdefd785942a1917c99c36362d78d",
       "style": "IPY_MODEL_f6f69156ecf34f9596a623ebda071f85"
      }
     },
     "9a73cdea2faf406f84e9aada3788b63e": {
      "model_module": "@jupyter-widgets/base",
      "model_module_version": "1.2.0",
      "model_name": "LayoutModel",
      "state": {}
     },
     "9a8af2a83e724b998e08021ea97d1c9b": {
      "model_module": "@jupyter-widgets/base",
      "model_module_version": "1.2.0",
      "model_name": "LayoutModel",
      "state": {}
     },
     "9bd9905846784bc8b237e6b1ea5cc92a": {
      "model_module": "@jupyter-widgets/controls",
      "model_module_version": "1.5.0",
      "model_name": "IntSliderModel",
      "state": {
       "description": "value",
       "layout": "IPY_MODEL_591b3c54a7984fc298dcb80aab4e9c80",
       "max": 7,
       "min": 1,
       "style": "IPY_MODEL_572b9fffa5a14e6fa1858cfc214e58b6",
       "value": 3
      }
     },
     "9bf14f73f0b04eb1b7814b57cd8c2439": {
      "model_module": "@jupyter-widgets/base",
      "model_module_version": "1.2.0",
      "model_name": "LayoutModel",
      "state": {}
     },
     "9c0cf9efa1154e3d8f992ee0f7cd1a7d": {
      "model_module": "@jupyter-widgets/controls",
      "model_module_version": "1.5.0",
      "model_name": "DescriptionStyleModel",
      "state": {
       "description_width": ""
      }
     },
     "9c16367664874458a94374612eb9b248": {
      "model_module": "@jupyter-widgets/controls",
      "model_module_version": "1.5.0",
      "model_name": "DescriptionStyleModel",
      "state": {
       "description_width": ""
      }
     },
     "9c1b63865e5a45d18756981388ce642e": {
      "model_module": "@jupyter-widgets/base",
      "model_module_version": "1.2.0",
      "model_name": "LayoutModel",
      "state": {}
     },
     "9c38da186c4448ecaecd2835ccd29123": {
      "model_module": "@jupyter-widgets/base",
      "model_module_version": "1.2.0",
      "model_name": "LayoutModel",
      "state": {}
     },
     "9c51672f28084fde83f4d2dabbb178c3": {
      "model_module": "@jupyter-widgets/base",
      "model_module_version": "1.2.0",
      "model_name": "LayoutModel",
      "state": {}
     },
     "9c7b8466e8e340feb151320d1ae35860": {
      "model_module": "@jupyter-widgets/base",
      "model_module_version": "1.2.0",
      "model_name": "LayoutModel",
      "state": {}
     },
     "9ce783ec3f44497c8f06f6875c974f8b": {
      "model_module": "@jupyter-widgets/base",
      "model_module_version": "1.2.0",
      "model_name": "LayoutModel",
      "state": {}
     },
     "9d061706ffbf41e982e7f6df952182f7": {
      "model_module": "@jupyter-widgets/base",
      "model_module_version": "1.2.0",
      "model_name": "LayoutModel",
      "state": {}
     },
     "9d203e25536a4c0dad39d28a5110f7cf": {
      "model_module": "@jupyter-widgets/controls",
      "model_module_version": "1.5.0",
      "model_name": "IntTextModel",
      "state": {
       "description": "min",
       "layout": "IPY_MODEL_d542516dd18148069a1bba5df7e807ab",
       "step": 1,
       "style": "IPY_MODEL_4577152e2c1e4585949677ce08cc6a38",
       "value": 1
      }
     },
     "9d6be6a3893b409585f8da9214f2401d": {
      "model_module": "@jupyter-widgets/controls",
      "model_module_version": "1.5.0",
      "model_name": "ButtonModel",
      "state": {
       "description": "Add",
       "layout": "IPY_MODEL_e7029c8f593c45218835e45c08d07b99",
       "style": "IPY_MODEL_de0b48a6cb134fff9766d15989761c4a"
      }
     },
     "9d71deb7f39d4c19bde81bd5bdac01ce": {
      "model_module": "@jupyter-widgets/base",
      "model_module_version": "1.2.0",
      "model_name": "LayoutModel",
      "state": {}
     },
     "9db181b7271b4352b441e0f4f37bd23c": {
      "model_module": "pgljupyter",
      "model_module_version": "^0.1.14",
      "model_name": "IntEditorModel",
      "state": {
       "_model_module_version": "^0.1.14",
       "_view_module_version": "^0.1.14",
       "children": [
        "IPY_MODEL_44285d7230f445bf98197d64a341fe02",
        "IPY_MODEL_a3e8616ef3484652b66e586e372cf935",
        "IPY_MODEL_6fc632d1cfd8481b9c8ba384537006eb",
        "IPY_MODEL_9f5c908025a747acb5fd3bd294dfb2d5",
        "IPY_MODEL_1c12d2076c114cc18effe90b27c58098"
       ],
       "layout": "IPY_MODEL_df58d07e8a294d0fa7e7066be5191571"
      }
     },
     "9db3dcf7c0de4e979b7a513e3e5f5cca": {
      "model_module": "@jupyter-widgets/controls",
      "model_module_version": "1.5.0",
      "model_name": "FloatSliderModel",
      "state": {
       "description": "transparency",
       "layout": "IPY_MODEL_951341cbaf1647c1b78a3d6afe8b8158",
       "max": 1,
       "step": 0.1,
       "style": "IPY_MODEL_7f8de41401344dabb9b01b6451648c89"
      }
     },
     "9dded11f5a544de8be867b50bfcc065d": {
      "model_module": "pgljupyter",
      "model_module_version": "^0.1.2",
      "model_name": "_CurveEditorModel",
      "state": {
       "_model_module_version": "^0.1.2",
       "_view_module_version": "^0.1.2",
       "control_points": [
        [
         -0.5,
         0
        ],
        [
         -0.25,
         0.25
        ],
        [
         0.09999999999999998,
         -0.24545454545454548
        ],
        [
         0.5,
         0
        ]
       ],
       "curve_type": "BezierCurve2D",
       "layout": "IPY_MODEL_27b8afa3d3b7447fa483906e22e6634d"
      }
     },
     "9e81f7640e8f4efe9c6911df87f9bc06": {
      "model_module": "@jupyter-widgets/controls",
      "model_module_version": "1.5.0",
      "model_name": "DescriptionStyleModel",
      "state": {
       "description_width": ""
      }
     },
     "9ebf7b617c234218af7ba728f2d46257": {
      "model_module": "@jupyter-widgets/controls",
      "model_module_version": "1.5.0",
      "model_name": "DropdownModel",
      "state": {
       "_options_labels": [
        "leafduration",
        "leafold",
        "maxorder",
        "radinc",
        "nb_axes"
       ],
       "index": 0,
       "layout": "IPY_MODEL_6e11d8ccf94543318b7616f0c8477a37",
       "style": "IPY_MODEL_7a5b3aee649441e48ddff80092199efc"
      }
     },
     "9f247c4d28cb495a854778e40397c2d2": {
      "model_module": "@jupyter-widgets/base",
      "model_module_version": "1.2.0",
      "model_name": "LayoutModel",
      "state": {}
     },
     "9f38bd04057f4c4e980db9af3d88bb25": {
      "model_module": "@jupyter-widgets/controls",
      "model_module_version": "1.5.0",
      "model_name": "DropdownModel",
      "state": {
       "_options_labels": [
        "Color"
       ],
       "index": 0,
       "layout": "IPY_MODEL_6820caa08fc448679f7639840eb42312",
       "style": "IPY_MODEL_b129245b32f4409aa855c6b713567799"
      }
     },
     "9f523c556c1a4ecd9ecc999e2932fbbc": {
      "model_module": "@jupyter-widgets/controls",
      "model_module_version": "1.5.0",
      "model_name": "DescriptionStyleModel",
      "state": {
       "description_width": ""
      }
     },
     "9f5c908025a747acb5fd3bd294dfb2d5": {
      "model_module": "@jupyter-widgets/controls",
      "model_module_version": "1.5.0",
      "model_name": "IntTextModel",
      "state": {
       "description": "max",
       "layout": "IPY_MODEL_b3d224479410442194b1e9d296127e75",
       "step": 1,
       "style": "IPY_MODEL_c3bc80a9a77b4b0092ea7f621e786a19",
       "value": 7
      }
     },
     "9ff657d902b547bc986a4fc628dd6afe": {
      "model_module": "@jupyter-widgets/controls",
      "model_module_version": "1.5.0",
      "model_name": "ColorPickerModel",
      "state": {
       "description": "specular",
       "disabled": false,
       "layout": "IPY_MODEL_53f6270f491843a0b16c33aa8def5354",
       "style": "IPY_MODEL_db31d87ca5bd458cb9dc6cdc2b581278",
       "value": "#282828"
      }
     },
     "a012abcd6bc74010a12be773710adbaa": {
      "model_module": "@jupyter-widgets/controls",
      "model_module_version": "1.5.0",
      "model_name": "BoundedIntTextModel",
      "state": {
       "description": "step",
       "layout": "IPY_MODEL_a7032f292a0342ee971f1f7e97fa91aa",
       "min": 1,
       "style": "IPY_MODEL_f1b9ba91cef44e479644b35df0a07274",
       "value": 1
      }
     },
     "a0210880ef26449bb40373ad5494792c": {
      "model_module": "@jupyter-widgets/base",
      "model_module_version": "1.2.0",
      "model_name": "LayoutModel",
      "state": {}
     },
     "a038fed9b50a4a08819c2085571911c3": {
      "model_module": "@jupyter-widgets/base",
      "model_module_version": "1.2.0",
      "model_name": "LayoutModel",
      "state": {}
     },
     "a08868ee98f64737a3e282aeb5e9669c": {
      "model_module": "@jupyter-widgets/controls",
      "model_module_version": "1.5.0",
      "model_name": "SliderStyleModel",
      "state": {
       "description_width": ""
      }
     },
     "a089aeec89724239b6aca2b404740c1a": {
      "model_module": "@jupyter-widgets/controls",
      "model_module_version": "1.5.0",
      "model_name": "TextModel",
      "state": {
       "continuous_update": false,
       "description": "name",
       "layout": "IPY_MODEL_47214f6427f7418fbaf69a73417a8a32",
       "style": "IPY_MODEL_8cf47a3dc0f145878200852cb8e2324d",
       "value": "Polyline2D_2"
      }
     },
     "a0da1a97ad364133b23633c7924c8382": {
      "model_module": "@jupyter-widgets/controls",
      "model_module_version": "1.5.0",
      "model_name": "DropdownModel",
      "state": {
       "_options_labels": [
        "Color"
       ],
       "index": 0,
       "layout": "IPY_MODEL_7648ce6823ed4b309447f2f29b6af72b",
       "style": "IPY_MODEL_789bdbd0a60b48409d2c13fe0b83d44f"
      }
     },
     "a0e11695f24944bf94fad5b77ca3bcf3": {
      "model_module": "@jupyter-widgets/base",
      "model_module_version": "1.2.0",
      "model_name": "LayoutModel",
      "state": {}
     },
     "a0eb9b213db94887a716ff41a5edf851": {
      "model_module": "@jupyter-widgets/controls",
      "model_module_version": "1.5.0",
      "model_name": "DescriptionStyleModel",
      "state": {
       "description_width": ""
      }
     },
     "a129fee5fb204685b9447aa4f41bcb91": {
      "model_module": "@jupyter-widgets/controls",
      "model_module_version": "1.5.0",
      "model_name": "DescriptionStyleModel",
      "state": {
       "description_width": ""
      }
     },
     "a15ec5c9e1e940f2b66d7ec3e2c6b27c": {
      "model_module": "@jupyter-widgets/controls",
      "model_module_version": "1.5.0",
      "model_name": "IntSliderModel",
      "state": {
       "description": "value",
       "layout": "IPY_MODEL_eccd43c489a64d5aa4b4c024b715aa19",
       "max": 10,
       "min": 1,
       "style": "IPY_MODEL_b5231bbd9aa841e3876437f9394ab620",
       "value": 2
      }
     },
     "a181f8277527484f82f484b081a7ac2c": {
      "model_module": "@jupyter-widgets/controls",
      "model_module_version": "1.5.0",
      "model_name": "FloatSliderModel",
      "state": {
       "description": "shininess",
       "layout": "IPY_MODEL_d9fa64f9080840b4a4fcc76aa6cfd4ba",
       "max": 1,
       "step": 0.1,
       "style": "IPY_MODEL_0e05773846dd43f0a96847656f764a7b",
       "value": 0.5
      }
     },
     "a190af397e0f4f46aeea69950b5d083b": {
      "model_module": "@jupyter-widgets/controls",
      "model_module_version": "1.5.0",
      "model_name": "TextModel",
      "state": {
       "layout": "IPY_MODEL_c6ad612c926543f7b21ea0b593cf326e",
       "placeholder": "category name",
       "style": "IPY_MODEL_03b8f58d0d4748bc8c70bc4cbd010c81"
      }
     },
     "a1b5f9ced38f46e9b91b625024aaf0c5": {
      "model_module": "pgljupyter",
      "model_module_version": "^0.1.14",
      "model_name": "LsystemWidgetModel",
      "state": {
       "_model_module_version": "^0.1.14",
       "_view_module_version": "^0.1.14",
       "axes_helper": false,
       "derivationLength": 41,
       "layout": "IPY_MODEL_2e6ef9314d67449c8deb0a7297c93ab3",
       "light_helper": false,
       "plane": true,
       "size_display": [
        400,
        400
       ],
       "size_world": 50
      }
     },
     "a1c5657c57dd4420947b7a9efdc5fd3e": {
      "model_module": "@jupyter-widgets/base",
      "model_module_version": "1.2.0",
      "model_name": "LayoutModel",
      "state": {}
     },
     "a1efa36e0b01442da3c74bf7f3c75557": {
      "model_module": "@jupyter-widgets/controls",
      "model_module_version": "1.5.0",
      "model_name": "HBoxModel",
      "state": {
       "children": [
        "IPY_MODEL_56fd1fd2e814475eb612902882576a7b",
        "IPY_MODEL_7d0aa3defdad47d7902e5aa71a0cc6f8",
        "IPY_MODEL_72b92e3f68504ee5bfa8a858755f2904"
       ],
       "layout": "IPY_MODEL_4919409bbefe4b55b628a112688032dd"
      }
     },
     "a20b73a02aa64f1aa2635be402379fd2": {
      "model_module": "@jupyter-widgets/controls",
      "model_module_version": "1.5.0",
      "model_name": "ButtonModel",
      "state": {
       "description": "Delete",
       "layout": "IPY_MODEL_2136a52566524809a3c3b6695553bde5",
       "style": "IPY_MODEL_e83dc2353dde47c89a318c26129fe28f"
      }
     },
     "a20e2dbbc07b4e4b9085d82841a24a03": {
      "model_module": "@jupyter-widgets/controls",
      "model_module_version": "1.5.0",
      "model_name": "DescriptionStyleModel",
      "state": {
       "description_width": ""
      }
     },
     "a22da95bced94b0ea758d979b05c4357": {
      "model_module": "@jupyter-widgets/controls",
      "model_module_version": "1.5.0",
      "model_name": "TextModel",
      "state": {
       "continuous_update": false,
       "description": "name",
       "layout": "IPY_MODEL_6655a1fa38d14dc0990e87852b5b4bda",
       "style": "IPY_MODEL_406c4f5fcf9a45b7be0a39dfef3ec4cb",
       "value": "color_2"
      }
     },
     "a23073ceec6a47929aa7b3d0538b3483": {
      "model_module": "@jupyter-widgets/controls",
      "model_module_version": "1.5.0",
      "model_name": "HBoxModel",
      "state": {
       "children": [
        "IPY_MODEL_54ecc896d94e4bb383be5ff430e1e0a1",
        "IPY_MODEL_8e4a08bb730b480399348f035c0fb923"
       ],
       "layout": "IPY_MODEL_dd33ed74409b4c0795183b005c20d306"
      }
     },
     "a2a81572d5c148199e203c15d3709d86": {
      "model_module": "@jupyter-widgets/base",
      "model_module_version": "1.2.0",
      "model_name": "LayoutModel",
      "state": {}
     },
     "a2abd3ec2fca4609bcee49dddfbc868d": {
      "model_module": "@jupyter-widgets/base",
      "model_module_version": "1.2.0",
      "model_name": "LayoutModel",
      "state": {
       "margin": "20px 0px"
      }
     },
     "a3021cfb00c34844be2cc4431cd9b620": {
      "model_module": "@jupyter-widgets/controls",
      "model_module_version": "1.5.0",
      "model_name": "HBoxModel",
      "state": {
       "children": [
        "IPY_MODEL_4fdb3bdbb0884b1b9b70d74186e0ee51",
        "IPY_MODEL_344c460570104014b79dad6a65f1bc15",
        "IPY_MODEL_bd918bcabb7b410f9fbcbc61aac64b22",
        "IPY_MODEL_cd2d35d7469f4efdbbe25618df80a599"
       ],
       "layout": "IPY_MODEL_fdc392c7cf9844a2b7daa72c52be63a0"
      }
     },
     "a3715a6606264b1385e17c255e8e7b7d": {
      "model_module": "@jupyter-widgets/base",
      "model_module_version": "1.2.0",
      "model_name": "LayoutModel",
      "state": {}
     },
     "a394a4809f7e46e99c7060e9050094ba": {
      "model_module": "pgljupyter",
      "model_module_version": "^0.1.14",
      "model_name": "MaterialEditorModel",
      "state": {
       "_model_module_version": "^0.1.14",
       "_view_module_version": "^0.1.14",
       "children": [
        "IPY_MODEL_77c5487882eb4763a09bbeab234f0123",
        "IPY_MODEL_b5e60a6347b3449f91b071f338336469",
        "IPY_MODEL_7729d9315d7748298125e0baab4aba88",
        "IPY_MODEL_39315f2410f14e9294c5a154543f6ae9",
        "IPY_MODEL_aa15607f4ae340169fc7bf77525b6075",
        "IPY_MODEL_7b2d939afa8b479993e42340a13c22b4",
        "IPY_MODEL_1ad9140c1875480d863b5acb4704479b"
       ],
       "layout": "IPY_MODEL_d5a4b1a1337c4f988951f8e89f721b21"
      }
     },
     "a39d050489f04233a9588793cfc365ec": {
      "model_module": "@jupyter-widgets/controls",
      "model_module_version": "1.5.0",
      "model_name": "HBoxModel",
      "state": {
       "children": [
        "IPY_MODEL_0a355b70c57941fbb20a58855b908353",
        "IPY_MODEL_80f2a2ed8df7483eb3fbb0fbe7df57ac"
       ],
       "layout": "IPY_MODEL_24e4a38035d14572a98ca532c13ddb5f"
      }
     },
     "a3b51c86f32548c89175e0ba18a1b9f0": {
      "model_module": "@jupyter-widgets/controls",
      "model_module_version": "1.5.0",
      "model_name": "DescriptionStyleModel",
      "state": {
       "description_width": ""
      }
     },
     "a3db6e2b61f04f2c9ec6de7408f07917": {
      "model_module": "@jupyter-widgets/base",
      "model_module_version": "1.2.0",
      "model_name": "LayoutModel",
      "state": {}
     },
     "a3e8616ef3484652b66e586e372cf935": {
      "model_module": "@jupyter-widgets/controls",
      "model_module_version": "1.5.0",
      "model_name": "IntSliderModel",
      "state": {
       "description": "value",
       "layout": "IPY_MODEL_928bf1d863cd4c3d85d3366fa681a4d0",
       "max": 7,
       "min": 1,
       "style": "IPY_MODEL_c14e13ed098c4bf6850d070eab738e5e",
       "value": 3
      }
     },
     "a3f16a6cbca94073ba02caf0836ffa22": {
      "model_module": "@jupyter-widgets/controls",
      "model_module_version": "1.5.0",
      "model_name": "IntTextModel",
      "state": {
       "description": "max",
       "layout": "IPY_MODEL_751d8cfde9de463ca66613cc8a84cff9",
       "step": 1,
       "style": "IPY_MODEL_fec716c199b242e0a5c931895ec485ac",
       "value": 10
      }
     },
     "a48d0b634a9545879f969cffc6d24b13": {
      "model_module": "@jupyter-widgets/controls",
      "model_module_version": "1.5.0",
      "model_name": "DescriptionStyleModel",
      "state": {
       "description_width": ""
      }
     },
     "a4e9e5b5bf4c4bf3a00c49b819e7d1f8": {
      "model_module": "pgljupyter",
      "model_module_version": "^0.1.2",
      "model_name": "_CurveEditorModel",
      "state": {
       "_model_module_version": "^0.1.2",
       "_view_module_version": "^0.1.2",
       "control_points": [
        [
         -0.5,
         0
        ],
        [
         -0.25,
         0.25
        ],
        [
         0.25,
         -0.25
        ],
        [
         0.5,
         0
        ]
       ],
       "curve_type": "BezierCurve2D",
       "layout": "IPY_MODEL_c35deb0d32c14e22aa1a65baa1a7913e"
      }
     },
     "a4fa7ee9cac145eeaefbeb889426714b": {
      "model_module": "@jupyter-widgets/controls",
      "model_module_version": "1.5.0",
      "model_name": "HBoxModel",
      "state": {
       "children": [
        "IPY_MODEL_73df2c6eb8684e3e8dcd2a48cb263e44",
        "IPY_MODEL_a9a81efb6b904f15a06869cb88fe2660"
       ],
       "layout": "IPY_MODEL_1bcadc721303432abe9c782e04d39bdb"
      }
     },
     "a5605f2b65904a4eb171ce60d1e2d0d4": {
      "model_module": "@jupyter-widgets/controls",
      "model_module_version": "1.5.0",
      "model_name": "DescriptionStyleModel",
      "state": {
       "description_width": ""
      }
     },
     "a5b19a4d1f704db9af915e12ec2ced02": {
      "model_module": "@jupyter-widgets/base",
      "model_module_version": "1.2.0",
      "model_name": "LayoutModel",
      "state": {}
     },
     "a5b43622c08f430fa687e80bb00d1299": {
      "model_module": "@jupyter-widgets/controls",
      "model_module_version": "1.5.0",
      "model_name": "TextModel",
      "state": {
       "continuous_update": false,
       "description": "name",
       "layout": "IPY_MODEL_88798602d5504c9aaa7f098f2ba700a6",
       "style": "IPY_MODEL_8439c9e53b6b4164b3ca468f9cc930d2",
       "value": "color_2"
      }
     },
     "a5cb51dbbce1400eae12508087a76361": {
      "model_module": "@jupyter-widgets/controls",
      "model_module_version": "1.5.0",
      "model_name": "DescriptionStyleModel",
      "state": {
       "description_width": ""
      }
     },
     "a5e6cb9ccab74844b1a7f7ff16c4b40d": {
      "model_module": "@jupyter-widgets/controls",
      "model_module_version": "1.5.0",
      "model_name": "DescriptionStyleModel",
      "state": {
       "description_width": ""
      }
     },
     "a6154bb682994037a3e9c4cd246be6e4": {
      "model_module": "@jupyter-widgets/controls",
      "model_module_version": "1.5.0",
      "model_name": "ButtonModel",
      "state": {
       "description": "Add category",
       "layout": "IPY_MODEL_788c89f910634db6a21f126c748a161f",
       "style": "IPY_MODEL_2f6754fd12954ab7bbbe7dd23a674b68"
      }
     },
     "a66d925434884203a2d16ec0b78649fa": {
      "model_module": "@jupyter-widgets/base",
      "model_module_version": "1.2.0",
      "model_name": "LayoutModel",
      "state": {}
     },
     "a68b7fc99f404294906f8f19e3fbcf4a": {
      "model_module": "@jupyter-widgets/base",
      "model_module_version": "1.2.0",
      "model_name": "LayoutModel",
      "state": {}
     },
     "a6b539cc15804907989b197d4b2cbdbe": {
      "model_module": "@jupyter-widgets/base",
      "model_module_version": "1.2.0",
      "model_name": "LayoutModel",
      "state": {}
     },
     "a6befcf863454381b47e53dc980c2920": {
      "model_module": "@jupyter-widgets/base",
      "model_module_version": "1.2.0",
      "model_name": "LayoutModel",
      "state": {}
     },
     "a6f916165dd04f2081284a6f756f7d03": {
      "model_module": "@jupyter-widgets/base",
      "model_module_version": "1.2.0",
      "model_name": "LayoutModel",
      "state": {
       "margin": "20px 0px"
      }
     },
     "a7032f292a0342ee971f1f7e97fa91aa": {
      "model_module": "@jupyter-widgets/base",
      "model_module_version": "1.2.0",
      "model_name": "LayoutModel",
      "state": {}
     },
     "a738593252204a498e2380d3e629bc1e": {
      "model_module": "@jupyter-widgets/base",
      "model_module_version": "1.2.0",
      "model_name": "LayoutModel",
      "state": {}
     },
     "a760a9622c8243c3b985b4c992cfd505": {
      "model_module": "@jupyter-widgets/controls",
      "model_module_version": "1.5.0",
      "model_name": "ButtonStyleModel",
      "state": {}
     },
     "a76b498b5d11439291fcd0c672943363": {
      "model_module": "@jupyter-widgets/controls",
      "model_module_version": "1.5.0",
      "model_name": "IntTextModel",
      "state": {
       "description": "max",
       "layout": "IPY_MODEL_f2909bc6d4ee462c956bfd2358ba855f",
       "step": 1,
       "style": "IPY_MODEL_e1d8481c897f4febb51664392ed71944",
       "value": 10
      }
     },
     "a76bae76a03543469d6f1e10f6d263cb": {
      "model_module": "@jupyter-widgets/base",
      "model_module_version": "1.2.0",
      "model_name": "LayoutModel",
      "state": {}
     },
     "a7a1a0e06ab8458e8a7a1156342615ba": {
      "model_module": "@jupyter-widgets/controls",
      "model_module_version": "1.5.0",
      "model_name": "ColorPickerModel",
      "state": {
       "description": "emission",
       "disabled": false,
       "layout": "IPY_MODEL_47a0a6cf6ba74bd2a755cd7fb7f79fbd",
       "style": "IPY_MODEL_1c3d38ee1f964fde95a7170d37019f06",
       "value": "#000000"
      }
     },
     "a7a8b5c3470447899106f38cf7d60475": {
      "model_module": "@jupyter-widgets/base",
      "model_module_version": "1.2.0",
      "model_name": "LayoutModel",
      "state": {}
     },
     "a84c14a67ee845cd8c615ce128d6aaae": {
      "model_module": "@jupyter-widgets/controls",
      "model_module_version": "1.5.0",
      "model_name": "SliderStyleModel",
      "state": {
       "description_width": ""
      }
     },
     "a850fe02b9594a28849403f9d7294577": {
      "model_module": "@jupyter-widgets/controls",
      "model_module_version": "1.5.0",
      "model_name": "FloatSliderModel",
      "state": {
       "description": "value",
       "layout": "IPY_MODEL_556aa8c93c3644c4a4a0a5fe38dada3a",
       "max": 0.1,
       "min": 0.01,
       "step": 0.01,
       "style": "IPY_MODEL_910acf8275e644cea6a9caabffacd4f6",
       "value": 0.02
      }
     },
     "a85fa0285fba40f3a6e4a31762022de3": {
      "model_module": "@jupyter-widgets/base",
      "model_module_version": "1.2.0",
      "model_name": "LayoutModel",
      "state": {}
     },
     "a86058cee658486fb13a7beca648314b": {
      "model_module": "@jupyter-widgets/controls",
      "model_module_version": "1.5.0",
      "model_name": "DropdownModel",
      "state": {
       "index": null,
       "layout": "IPY_MODEL_41a9495cc0b44ca9985500a41664b57b",
       "style": "IPY_MODEL_af0a704ee4c24337bbfb456cb197479e"
      }
     },
     "a87b550ba97246eabb2a2332372e8cb5": {
      "model_module": "@jupyter-widgets/controls",
      "model_module_version": "1.5.0",
      "model_name": "TextModel",
      "state": {
       "continuous_update": false,
       "description": "name",
       "layout": "IPY_MODEL_bca8e12aa85b43d199fddf7fd3c74ae8",
       "style": "IPY_MODEL_7faa1f82e8654be1a5b9b8f2a4aeda47",
       "value": "NurbsCurve2D_0"
      }
     },
     "a8afcf5904674e9cb3c15c68fee60178": {
      "model_module": "@jupyter-widgets/base",
      "model_module_version": "1.2.0",
      "model_name": "LayoutModel",
      "state": {}
     },
     "a8dd0a308b114080bb877db875d6db5d": {
      "model_module": "pgljupyter",
      "model_module_version": "^0.1.14",
      "model_name": "FloatEditorModel",
      "state": {
       "_model_module_version": "^0.1.14",
       "_view_module_version": "^0.1.14",
       "children": [
        "IPY_MODEL_bacd8b83f09a41338127a969c8b6dbd0",
        "IPY_MODEL_a850fe02b9594a28849403f9d7294577",
        "IPY_MODEL_c52577bffe0f49609cd040959ba01617",
        "IPY_MODEL_0358c83a7235450eb641b2d90ea8c569",
        "IPY_MODEL_362cbffce70144d6858eda282c894c9c"
       ],
       "layout": "IPY_MODEL_639c7afae977402a9d6005869e8612a9"
      }
     },
     "a8fd500864cb4891bf6ee0c6efef290e": {
      "model_module": "@jupyter-widgets/base",
      "model_module_version": "1.2.0",
      "model_name": "LayoutModel",
      "state": {}
     },
     "a91469a2c4e9407db0966ebd0b17cd0c": {
      "model_module": "@jupyter-widgets/controls",
      "model_module_version": "1.5.0",
      "model_name": "SliderStyleModel",
      "state": {
       "description_width": ""
      }
     },
     "a92de081e50c476496f3c9802b37b1a6": {
      "model_module": "@jupyter-widgets/controls",
      "model_module_version": "1.5.0",
      "model_name": "ButtonModel",
      "state": {
       "description": "Add",
       "layout": "IPY_MODEL_bf9041858b814903a58aa446f72e476b",
       "style": "IPY_MODEL_4b64ee9c6a43480d901f5465b9f72678"
      }
     },
     "a948b974861e418b8d3b789987e17acd": {
      "model_module": "@jupyter-widgets/base",
      "model_module_version": "1.2.0",
      "model_name": "LayoutModel",
      "state": {}
     },
     "a95a95b9099e4f979166e656f93776ee": {
      "model_module": "@jupyter-widgets/controls",
      "model_module_version": "1.5.0",
      "model_name": "HBoxModel",
      "state": {
       "layout": "IPY_MODEL_1aaed1264b7e4af38e5dfa20e770f4aa"
      }
     },
     "a971f194088a4a4e858765df3db9ae8c": {
      "model_module": "pgljupyter",
      "model_module_version": "^0.1.2",
      "model_name": "IntEditorModel",
      "state": {
       "_model_module_version": "^0.1.2",
       "_view_module_version": "^0.1.2",
       "children": [
        "IPY_MODEL_966bb16d1bfb45d88640e227702886a8",
        "IPY_MODEL_68e4bdf17af9497eb7aa9c99b80ac715",
        "IPY_MODEL_52cf68e476164b149a0ae8a47536c3d5",
        "IPY_MODEL_4f287b2a341448d9a798e24f4f22f436",
        "IPY_MODEL_427d650961a94ebc940f5d364721d046"
       ],
       "layout": "IPY_MODEL_1786a5b630e24873893aa84cb0714b47"
      }
     },
     "a9a81efb6b904f15a06869cb88fe2660": {
      "model_module": "@jupyter-widgets/controls",
      "model_module_version": "1.5.0",
      "model_name": "HBoxModel",
      "state": {
       "children": [
        "IPY_MODEL_70972b2e88b34ba6b003969d33df59c3",
        "IPY_MODEL_9ebf7b617c234218af7ba728f2d46257"
       ],
       "layout": "IPY_MODEL_ffda3c9b61de46869c7716efaf6f4d94"
      }
     },
     "a9baac29908349669249c48305c9d374": {
      "model_module": "@jupyter-widgets/base",
      "model_module_version": "1.2.0",
      "model_name": "LayoutModel",
      "state": {}
     },
     "a9d9270dee474b0897f2b76e239d91ef": {
      "model_module": "@jupyter-widgets/base",
      "model_module_version": "1.2.0",
      "model_name": "LayoutModel",
      "state": {}
     },
     "a9de39515aed485b9417c2f9782f5039": {
      "model_module": "@jupyter-widgets/controls",
      "model_module_version": "1.5.0",
      "model_name": "DescriptionStyleModel",
      "state": {
       "description_width": ""
      }
     },
     "aa15607f4ae340169fc7bf77525b6075": {
      "model_module": "@jupyter-widgets/controls",
      "model_module_version": "1.5.0",
      "model_name": "ColorPickerModel",
      "state": {
       "description": "emission",
       "disabled": false,
       "layout": "IPY_MODEL_e4ed2a8cf83f4a3f8f4c15b9e43983af",
       "style": "IPY_MODEL_6acfc62982814cd49fffa4d2886d0761",
       "value": "#000000"
      }
     },
     "aa5bb824fdb14cf4b6208c7625b7eee4": {
      "model_module": "@jupyter-widgets/base",
      "model_module_version": "1.2.0",
      "model_name": "LayoutModel",
      "state": {}
     },
     "aa6f5555faa44f4db554da680a607f63": {
      "model_module": "@jupyter-widgets/controls",
      "model_module_version": "1.5.0",
      "model_name": "ColorPickerModel",
      "state": {
       "description": "specular",
       "disabled": false,
       "layout": "IPY_MODEL_a3db6e2b61f04f2c9ec6de7408f07917",
       "style": "IPY_MODEL_f571b090508244a7b467737c415e2fad",
       "value": "#478f9f"
      }
     },
     "aa7c73dab4c545fe9da210d0936d71ea": {
      "model_module": "@jupyter-widgets/controls",
      "model_module_version": "1.5.0",
      "model_name": "DescriptionStyleModel",
      "state": {
       "description_width": ""
      }
     },
     "aa93ebe5f3724dc68c642492005612b9": {
      "model_module": "@jupyter-widgets/controls",
      "model_module_version": "1.5.0",
      "model_name": "IntTextModel",
      "state": {
       "description": "min",
       "layout": "IPY_MODEL_d99be6308dbb4e52b17a52b5673e464c",
       "step": 1,
       "style": "IPY_MODEL_d28cf98e61a04f9898b7af2e4bd9189c",
       "value": 1
      }
     },
     "aaf44ccfe11a475080cbf66f9f2f4a8e": {
      "model_module": "@jupyter-widgets/controls",
      "model_module_version": "1.5.0",
      "model_name": "FloatTextModel",
      "state": {
       "description": "max",
       "layout": "IPY_MODEL_c67c734b0758494aac08caae5fd90d3d",
       "step": null,
       "style": "IPY_MODEL_0e561db39e6d403fab220679e082dae5",
       "value": 0.1
      }
     },
     "ab025d81fa764c8aa87ff6d432656adf": {
      "model_module": "@jupyter-widgets/controls",
      "model_module_version": "1.5.0",
      "model_name": "SliderStyleModel",
      "state": {
       "description_width": ""
      }
     },
     "ab0ba13d49e44f81b2dbd8ef218fc16b": {
      "model_module": "@jupyter-widgets/controls",
      "model_module_version": "1.5.0",
      "model_name": "DescriptionStyleModel",
      "state": {
       "description_width": ""
      }
     },
     "ab842bdc36b84649bdf23c718ad661b1": {
      "model_module": "@jupyter-widgets/base",
      "model_module_version": "1.2.0",
      "model_name": "LayoutModel",
      "state": {}
     },
     "ab9f0e6d00d74bc594f608b5d3037e65": {
      "model_module": "pgljupyter",
      "model_module_version": "^0.1.2",
      "model_name": "CurveEditorModel",
      "state": {
       "_model_module_version": "^0.1.2",
       "_view_module_version": "^0.1.2",
       "children": [
        "IPY_MODEL_623430f9ad264a569f56254963833d42",
        "IPY_MODEL_4db88b4aa5fb42a5b872196a8c76eb37"
       ],
       "layout": "IPY_MODEL_b4a5d81b90c74f3eb364ea05b146719e"
      }
     },
     "aba6237376814db3825fb7a05b492cc1": {
      "model_module": "@jupyter-widgets/base",
      "model_module_version": "1.2.0",
      "model_name": "LayoutModel",
      "state": {}
     },
     "abdee7edd55249719f1a4066ecbd2150": {
      "model_module": "@jupyter-widgets/controls",
      "model_module_version": "1.5.0",
      "model_name": "IntTextModel",
      "state": {
       "description": "min",
       "layout": "IPY_MODEL_89fc6b596d6c4c578cd11a671c085644",
       "step": 1,
       "style": "IPY_MODEL_4acdde3cfbf843c8afbee44ec9794ebd",
       "value": 1
      }
     },
     "abf78bc88b79468b8725660268e79352": {
      "model_module": "@jupyter-widgets/controls",
      "model_module_version": "1.5.0",
      "model_name": "HBoxModel",
      "state": {
       "layout": "IPY_MODEL_fdc392c7cf9844a2b7daa72c52be63a0"
      }
     },
     "ac11ecf003394e96b2227d751ad7d1b9": {
      "model_module": "@jupyter-widgets/controls",
      "model_module_version": "1.5.0",
      "model_name": "TextModel",
      "state": {
       "continuous_update": false,
       "description": "name",
       "layout": "IPY_MODEL_6fd435da494e4788b2340331b704c70e",
       "style": "IPY_MODEL_6c376598cf884f69ac27c0f80c3af2d6",
       "value": "color_4"
      }
     },
     "ac41cf70afd04e33b260be8bd483f310": {
      "model_module": "@jupyter-widgets/controls",
      "model_module_version": "1.5.0",
      "model_name": "ButtonModel",
      "state": {
       "description": "Add",
       "layout": "IPY_MODEL_cfbecb2c7a9b44b5b54e471e21bb5013",
       "style": "IPY_MODEL_5a2e5528074949ac9f2d0bd4dfa6342a"
      }
     },
     "ac9001fa2c8f46b1aaff8f7ac358cd53": {
      "model_module": "@jupyter-widgets/controls",
      "model_module_version": "1.5.0",
      "model_name": "DropdownModel",
      "state": {
       "_options_labels": [
        "leafduration",
        "leafold",
        "maxorder",
        "radinc",
        "nb_axes"
       ],
       "index": 0,
       "layout": "IPY_MODEL_6f63a1e67a7d40ad9e69ec8974d7d02c",
       "style": "IPY_MODEL_09dfcde008254f4aa25bc052f1e1311c"
      }
     },
     "aca6b402cb5e487192c6f29eaf19b583": {
      "model_module": "@jupyter-widgets/controls",
      "model_module_version": "1.5.0",
      "model_name": "IntSliderModel",
      "state": {
       "description": "value",
       "layout": "IPY_MODEL_0584709e6b43421cac48ecdf7b92801e",
       "max": 10,
       "min": 1,
       "style": "IPY_MODEL_1fafc7f599424b7e8f7a15a3d0aafb6a",
       "value": 3
      }
     },
     "acc99657a447459fb7ad63d61ff18c6d": {
      "model_module": "@jupyter-widgets/controls",
      "model_module_version": "1.5.0",
      "model_name": "ColorPickerModel",
      "state": {
       "description": "specular",
       "disabled": false,
       "layout": "IPY_MODEL_2c57289cdf1c49ea9d82954b2c37a542",
       "style": "IPY_MODEL_14a44227159b47778c370ebd1c39ce7d",
       "value": "#478f9f"
      }
     },
     "ad8a030a3fcc472689e91a373593e67a": {
      "model_module": "@jupyter-widgets/base",
      "model_module_version": "1.2.0",
      "model_name": "LayoutModel",
      "state": {}
     },
     "ad94bfff93e04101a47bfab77c5253cf": {
      "model_module": "@jupyter-widgets/base",
      "model_module_version": "1.2.0",
      "model_name": "LayoutModel",
      "state": {}
     },
     "ada6219a139e4a9d814db5c5ba74a114": {
      "model_module": "@jupyter-widgets/base",
      "model_module_version": "1.2.0",
      "model_name": "LayoutModel",
      "state": {}
     },
     "adca9ba348e94354a3cf31ef02d84a10": {
      "model_module": "@jupyter-widgets/controls",
      "model_module_version": "1.5.0",
      "model_name": "FloatSliderModel",
      "state": {
       "description": "transparency",
       "layout": "IPY_MODEL_e9776a2fa8824edb88f935c9499d6e4a",
       "max": 1,
       "step": 0.1,
       "style": "IPY_MODEL_2e3292f15e594dd89ae41056de970444"
      }
     },
     "ae73cfabbf0c449fab531100f9045c48": {
      "model_module": "@jupyter-widgets/controls",
      "model_module_version": "1.5.0",
      "model_name": "SliderStyleModel",
      "state": {
       "description_width": ""
      }
     },
     "ae7c5771004247ee9c8be8424303a978": {
      "model_module": "@jupyter-widgets/controls",
      "model_module_version": "1.5.0",
      "model_name": "DescriptionStyleModel",
      "state": {
       "description_width": ""
      }
     },
     "ae863b42db2c40eeaa8a064f1de6d54e": {
      "model_module": "@jupyter-widgets/base",
      "model_module_version": "1.2.0",
      "model_name": "LayoutModel",
      "state": {}
     },
     "aea1d0cbebf84d70ad94fd9b58353cdc": {
      "model_module": "@jupyter-widgets/base",
      "model_module_version": "1.2.0",
      "model_name": "LayoutModel",
      "state": {}
     },
     "aeaf1361f90748f78e6b1f091cf6e50e": {
      "model_module": "@jupyter-widgets/base",
      "model_module_version": "1.2.0",
      "model_name": "LayoutModel",
      "state": {}
     },
     "aeb91fa0b8734177b8d24b6923d62633": {
      "model_module": "@jupyter-widgets/base",
      "model_module_version": "1.2.0",
      "model_name": "LayoutModel",
      "state": {}
     },
     "aed6ac227b8f4daf8ad908b7f8fa98f3": {
      "model_module": "@jupyter-widgets/controls",
      "model_module_version": "1.5.0",
      "model_name": "DropdownModel",
      "state": {
       "_options_labels": [
        "leafduration",
        "leafold",
        "maxorder",
        "radinc"
       ],
       "index": 0,
       "layout": "IPY_MODEL_b33f3cfa85a5426f8cc43e30755f6cb2",
       "style": "IPY_MODEL_7f9d5e5a52b14a618ba808a1e81f5e6c"
      }
     },
     "aef7e904684f43a8b6c25721b13dcde7": {
      "model_module": "@jupyter-widgets/base",
      "model_module_version": "1.2.0",
      "model_name": "LayoutModel",
      "state": {}
     },
     "af0a704ee4c24337bbfb456cb197479e": {
      "model_module": "@jupyter-widgets/controls",
      "model_module_version": "1.5.0",
      "model_name": "DescriptionStyleModel",
      "state": {
       "description_width": ""
      }
     },
     "af3693c497854f00a5f5bf1ffa333511": {
      "model_module": "@jupyter-widgets/base",
      "model_module_version": "1.2.0",
      "model_name": "LayoutModel",
      "state": {}
     },
     "af9687bc3935460dba4220cc22e7558b": {
      "model_module": "@jupyter-widgets/controls",
      "model_module_version": "1.5.0",
      "model_name": "ButtonModel",
      "state": {
       "description": "Add",
       "layout": "IPY_MODEL_de936a5db9144991901ed6d1825827c1",
       "style": "IPY_MODEL_ef18229753c341b4962d7bb849727b97"
      }
     },
     "afd9593ec0b84617b0ed87c718ceb620": {
      "model_module": "@jupyter-widgets/controls",
      "model_module_version": "1.5.0",
      "model_name": "FloatSliderModel",
      "state": {
       "description": "value",
       "layout": "IPY_MODEL_9a4d28e6d7344830967b6574699ba3f3",
       "max": 0.1,
       "min": 0.01,
       "step": 0.01,
       "style": "IPY_MODEL_2bca4224925b40e1bfb042986738be02",
       "value": 0.04
      }
     },
     "b0640f81165841e19fa32c937422c2a4": {
      "model_module": "@jupyter-widgets/base",
      "model_module_version": "1.2.0",
      "model_name": "LayoutModel",
      "state": {}
     },
     "b0a9193e48b440a2a8e99ad438002fd8": {
      "model_module": "@jupyter-widgets/base",
      "model_module_version": "1.2.0",
      "model_name": "LayoutModel",
      "state": {}
     },
     "b0c4b4c1dd984e44aaa7bb43a9eaa03f": {
      "model_module": "@jupyter-widgets/base",
      "model_module_version": "1.2.0",
      "model_name": "LayoutModel",
      "state": {}
     },
     "b0e428650bcd4920989735f0790ab5a4": {
      "model_module": "@jupyter-widgets/controls",
      "model_module_version": "1.5.0",
      "model_name": "HBoxModel",
      "state": {
       "children": [
        "IPY_MODEL_f38ce8becd2f403f81f14f057115a3b5",
        "IPY_MODEL_7e460e2c624a46e587a98cece718fc66",
        "IPY_MODEL_593c45add93e470fa160defc86ae8503",
        "IPY_MODEL_5e191573a5924d1887ed7d21c6786fdf"
       ],
       "layout": "IPY_MODEL_bbd47564228f4942bcd590a50a8e0bdb"
      }
     },
     "b129245b32f4409aa855c6b713567799": {
      "model_module": "@jupyter-widgets/controls",
      "model_module_version": "1.5.0",
      "model_name": "DescriptionStyleModel",
      "state": {
       "description_width": ""
      }
     },
     "b139e2d1758644fabc8d862eb9e6e9ed": {
      "model_module": "@jupyter-widgets/controls",
      "model_module_version": "1.5.0",
      "model_name": "ButtonStyleModel",
      "state": {}
     },
     "b1719c458848436b8cc931c5f6bdb47b": {
      "model_module": "@jupyter-widgets/base",
      "model_module_version": "1.2.0",
      "model_name": "LayoutModel",
      "state": {}
     },
     "b1bd5bda1f924269b6906dd5b73f60f1": {
      "model_module": "@jupyter-widgets/controls",
      "model_module_version": "1.5.0",
      "model_name": "SliderStyleModel",
      "state": {
       "description_width": ""
      }
     },
     "b1cb0ecc984d47b5b601ac5ead5fda5d": {
      "model_module": "@jupyter-widgets/controls",
      "model_module_version": "1.5.0",
      "model_name": "ColorPickerModel",
      "state": {
       "description": "emission",
       "disabled": false,
       "layout": "IPY_MODEL_5d943e0e9e654ffd89088143a379e75e",
       "style": "IPY_MODEL_6a29a2123883407c9f1782ab4ccc29a2",
       "value": "#1f48db"
      }
     },
     "b1cb4ff3cba944be84994facb1138eb0": {
      "model_module": "@jupyter-widgets/base",
      "model_module_version": "1.2.0",
      "model_name": "LayoutModel",
      "state": {}
     },
     "b21f74bd92b84e09bf6f607288d6ca02": {
      "model_module": "@jupyter-widgets/controls",
      "model_module_version": "1.5.0",
      "model_name": "FloatSliderModel",
      "state": {
       "description": "transparency",
       "layout": "IPY_MODEL_10893dfae19b4de6a2046bb69cc1f99d",
       "max": 1,
       "step": 0.1,
       "style": "IPY_MODEL_f79cbb65addd4b239b22ebb3e4edaceb"
      }
     },
     "b22403f438214a4b8f36317185bdab34": {
      "model_module": "@jupyter-widgets/controls",
      "model_module_version": "1.5.0",
      "model_name": "FloatSliderModel",
      "state": {
       "description": "transparency",
       "layout": "IPY_MODEL_e4bda8110a6f4eb5951c91a6a55e12fc",
       "max": 1,
       "step": 0.1,
       "style": "IPY_MODEL_a91469a2c4e9407db0966ebd0b17cd0c",
       "value": 1
      }
     },
     "b2281f0f5285481f920f4cdaaf8e1be3": {
      "model_module": "@jupyter-widgets/controls",
      "model_module_version": "1.5.0",
      "model_name": "ColorPickerModel",
      "state": {
       "description": "specular",
       "disabled": false,
       "layout": "IPY_MODEL_f424905e64c84299b6b947f512059f73",
       "style": "IPY_MODEL_4d778b7bf0634f95a71cbc70662ac093",
       "value": "#282828"
      }
     },
     "b25daccebff14d03b80eed1aa3954352": {
      "model_module": "@jupyter-widgets/base",
      "model_module_version": "1.2.0",
      "model_name": "LayoutModel",
      "state": {}
     },
     "b25e2955a34f4430becede98d6b4bc0e": {
      "model_module": "@jupyter-widgets/base",
      "model_module_version": "1.2.0",
      "model_name": "LayoutModel",
      "state": {
       "margin": "20px 0px"
      }
     },
     "b2f63634bfd94d23a4133da2a39d0f87": {
      "model_module": "@jupyter-widgets/base",
      "model_module_version": "1.2.0",
      "model_name": "LayoutModel",
      "state": {}
     },
     "b33f3cfa85a5426f8cc43e30755f6cb2": {
      "model_module": "@jupyter-widgets/base",
      "model_module_version": "1.2.0",
      "model_name": "LayoutModel",
      "state": {}
     },
     "b37521b60a7647d9899e3d42829b78ef": {
      "model_module": "@jupyter-widgets/base",
      "model_module_version": "1.2.0",
      "model_name": "LayoutModel",
      "state": {}
     },
     "b39464d608c9476b884a194019aeea92": {
      "model_module": "@jupyter-widgets/controls",
      "model_module_version": "1.5.0",
      "model_name": "SliderStyleModel",
      "state": {
       "description_width": ""
      }
     },
     "b3a95801c23f4290b028849cf85da1e0": {
      "model_module": "@jupyter-widgets/base",
      "model_module_version": "1.2.0",
      "model_name": "LayoutModel",
      "state": {}
     },
     "b3d224479410442194b1e9d296127e75": {
      "model_module": "@jupyter-widgets/base",
      "model_module_version": "1.2.0",
      "model_name": "LayoutModel",
      "state": {}
     },
     "b48db2e5fcaa41a3b57d77147d5c6ee4": {
      "model_module": "@jupyter-widgets/base",
      "model_module_version": "1.2.0",
      "model_name": "LayoutModel",
      "state": {}
     },
     "b49f1cfd335044929cbc328ce2374923": {
      "model_module": "@jupyter-widgets/base",
      "model_module_version": "1.2.0",
      "model_name": "LayoutModel",
      "state": {}
     },
     "b4a5d81b90c74f3eb364ea05b146719e": {
      "model_module": "@jupyter-widgets/base",
      "model_module_version": "1.2.0",
      "model_name": "LayoutModel",
      "state": {
       "margin": "20px 0px"
      }
     },
     "b4c6640b003145ab863dc22afc0d6b9e": {
      "model_module": "pgljupyter",
      "model_module_version": "^0.1.2",
      "model_name": "IntEditorModel",
      "state": {
       "_model_module_version": "^0.1.2",
       "_view_module_version": "^0.1.2",
       "children": [
        "IPY_MODEL_0a2938deb20642c5988031f8dc64848d",
        "IPY_MODEL_24445bf8451e470e934c4470d4f8e0a7",
        "IPY_MODEL_4c8db41d749847e5a3305abcaf3731a3",
        "IPY_MODEL_5e420e22516544c99e03c561351caa77",
        "IPY_MODEL_5be4664a6e1f4328bbc274b21c1c5c15"
       ],
       "layout": "IPY_MODEL_2501c08878e54350abc0a9ac884118f1"
      }
     },
     "b5231bbd9aa841e3876437f9394ab620": {
      "model_module": "@jupyter-widgets/controls",
      "model_module_version": "1.5.0",
      "model_name": "SliderStyleModel",
      "state": {
       "description_width": ""
      }
     },
     "b59c29281333436899408f2669df3b50": {
      "model_module": "@jupyter-widgets/base",
      "model_module_version": "1.2.0",
      "model_name": "LayoutModel",
      "state": {}
     },
     "b5a60422cef947149d1cba4db4f158b1": {
      "model_module": "pgljupyter",
      "model_module_version": "^0.1.14",
      "model_name": "IntEditorModel",
      "state": {
       "_model_module_version": "^0.1.14",
       "_view_module_version": "^0.1.14",
       "children": [
        "IPY_MODEL_7b607c75281c43c2bde3dc6e253574f6",
        "IPY_MODEL_001bd476239c49088f30751ad638172d",
        "IPY_MODEL_7dc8ea8bc0484a72b1e8d6f23141bfad",
        "IPY_MODEL_6acc49b72cf6431e86b1641f7e432a4a",
        "IPY_MODEL_c3e606921e3541b182127b4a5dc44b20"
       ],
       "layout": "IPY_MODEL_2b3f8914cd724f03828986cb86c6eb87"
      }
     },
     "b5ccc25be6cb483bbe8c790ab85792d5": {
      "model_module": "@jupyter-widgets/controls",
      "model_module_version": "1.5.0",
      "model_name": "SliderStyleModel",
      "state": {
       "description_width": ""
      }
     },
     "b5e60a6347b3449f91b071f338336469": {
      "model_module": "@jupyter-widgets/controls",
      "model_module_version": "1.5.0",
      "model_name": "BoundedIntTextModel",
      "state": {
       "description": "index",
       "layout": "IPY_MODEL_7e6cd9f3d4774f2a8db233e3574f2d46",
       "style": "IPY_MODEL_7b4fab502eb240a5a01f3789709c84a7",
       "value": 1
      }
     },
     "b60867a053c74a80a3f7d34c47d27946": {
      "model_module": "@jupyter-widgets/base",
      "model_module_version": "1.2.0",
      "model_name": "LayoutModel",
      "state": {}
     },
     "b6648dd35f9448fc8d6cfd44efbdc5c5": {
      "model_module": "@jupyter-widgets/controls",
      "model_module_version": "1.5.0",
      "model_name": "HBoxModel",
      "state": {
       "children": [
        "IPY_MODEL_a92de081e50c476496f3c9802b37b1a6",
        "IPY_MODEL_b76a98a7e2324f6fb6a20f6e4b7a1fbd",
        "IPY_MODEL_11c65fd9468f412f9b63e9f47a99b801",
        "IPY_MODEL_5bb3e8d0cda8438b902ddf054f47aca2"
       ],
       "layout": "IPY_MODEL_2c758a39f7fc445fb36328a5392bc3cb"
      }
     },
     "b667c2ac1f16455daba01fec1e350f9a": {
      "model_module": "@jupyter-widgets/controls",
      "model_module_version": "1.5.0",
      "model_name": "ButtonStyleModel",
      "state": {}
     },
     "b68cdefd785942a1917c99c36362d78d": {
      "model_module": "@jupyter-widgets/base",
      "model_module_version": "1.2.0",
      "model_name": "LayoutModel",
      "state": {}
     },
     "b68eb2858dea4541b4543e7f82a86952": {
      "model_module": "@jupyter-widgets/controls",
      "model_module_version": "1.5.0",
      "model_name": "IntTextModel",
      "state": {
       "description": "max",
       "layout": "IPY_MODEL_fd0abaa1c37f4431b5d5a18b4c3a0ec0",
       "step": 1,
       "style": "IPY_MODEL_cb1ed0f6320b4333aa7297d8a7ce168f",
       "value": 10
      }
     },
     "b6fac6ee8b314c10a5156acd259cdf9e": {
      "model_module": "@jupyter-widgets/controls",
      "model_module_version": "1.5.0",
      "model_name": "FloatSliderModel",
      "state": {
       "description": "shininess",
       "layout": "IPY_MODEL_d0b7820ad886441a910a69125aae845b",
       "max": 1,
       "step": 0.1,
       "style": "IPY_MODEL_d73cf1873c014373bc2c1fe5aecbf45f",
       "value": 0.5
      }
     },
     "b7601ada32964215b08802b99d20b892": {
      "model_module": "@jupyter-widgets/controls",
      "model_module_version": "1.5.0",
      "model_name": "DescriptionStyleModel",
      "state": {
       "description_width": ""
      }
     },
     "b76a98a7e2324f6fb6a20f6e4b7a1fbd": {
      "model_module": "@jupyter-widgets/controls",
      "model_module_version": "1.5.0",
      "model_name": "DropdownModel",
      "state": {
       "_options_labels": [
        "Color"
       ],
       "index": 0,
       "layout": "IPY_MODEL_2a71d1ea3cce494aab3efb0a5f5f35b8",
       "style": "IPY_MODEL_8b57ad46d5bd48cca26846608c950e2f"
      }
     },
     "b7774c37d9944fe09f8d1efd519c29b8": {
      "model_module": "@jupyter-widgets/controls",
      "model_module_version": "1.5.0",
      "model_name": "DescriptionStyleModel",
      "state": {
       "description_width": ""
      }
     },
     "b81af8cd3ac248688134ee4c10479ba6": {
      "model_module": "@jupyter-widgets/base",
      "model_module_version": "1.2.0",
      "model_name": "LayoutModel",
      "state": {}
     },
     "b829829f906848c5aaa40579a8addb02": {
      "model_module": "@jupyter-widgets/base",
      "model_module_version": "1.2.0",
      "model_name": "LayoutModel",
      "state": {}
     },
     "b8492b7b01134d7b9aeaebc3e86f5d87": {
      "model_module": "pgljupyter",
      "model_module_version": "^0.1.2",
      "model_name": "CurveEditorModel",
      "state": {
       "_model_module_version": "^0.1.2",
       "_view_module_version": "^0.1.2",
       "children": [
        "IPY_MODEL_d15825d831bc479e9ba631b888bce268",
        "IPY_MODEL_a4e9e5b5bf4c4bf3a00c49b819e7d1f8"
       ],
       "layout": "IPY_MODEL_a6f916165dd04f2081284a6f756f7d03"
      }
     },
     "b882c7f790744974bc9b924e675cb756": {
      "model_module": "@jupyter-widgets/base",
      "model_module_version": "1.2.0",
      "model_name": "LayoutModel",
      "state": {}
     },
     "b8a341e1224a48b5bd5cc9f85ff9b22c": {
      "model_module": "@jupyter-widgets/controls",
      "model_module_version": "1.5.0",
      "model_name": "FloatSliderModel",
      "state": {
       "description": "shininess",
       "layout": "IPY_MODEL_17ca4c748f7a4d0cb35375a65128cde3",
       "max": 1,
       "step": 0.1,
       "style": "IPY_MODEL_d81d61ea7b9e45c684accc7eca1f8bd0",
       "value": 0.2
      }
     },
     "b8bd681b6b634a61860c93bb9163f073": {
      "model_module": "@jupyter-widgets/controls",
      "model_module_version": "1.5.0",
      "model_name": "CheckboxModel",
      "state": {
       "description": "Auto apply",
       "disabled": false,
       "layout": "IPY_MODEL_af3693c497854f00a5f5bf1ffa333511",
       "style": "IPY_MODEL_279f04df2dff4359be95f440892277cc",
       "value": false
      }
     },
     "b8edda361f7c45fca84ae1034a46206a": {
      "model_module": "@jupyter-widgets/controls",
      "model_module_version": "1.5.0",
      "model_name": "DescriptionStyleModel",
      "state": {
       "description_width": ""
      }
     },
     "b92546feb77a4e4aaff221af4a8fbabe": {
      "model_module": "@jupyter-widgets/base",
      "model_module_version": "1.2.0",
      "model_name": "LayoutModel",
      "state": {}
     },
     "b947c8dbfdf949bc8bec1b73362d16c9": {
      "model_module": "@jupyter-widgets/controls",
      "model_module_version": "1.5.0",
      "model_name": "DescriptionStyleModel",
      "state": {
       "description_width": ""
      }
     },
     "b9569c00d7924f5f9ae9483b5f4dd93a": {
      "model_module": "@jupyter-widgets/controls",
      "model_module_version": "1.5.0",
      "model_name": "DescriptionStyleModel",
      "state": {
       "description_width": ""
      }
     },
     "b9c9fba7050d4389adc593900e168832": {
      "model_module": "@jupyter-widgets/base",
      "model_module_version": "1.2.0",
      "model_name": "LayoutModel",
      "state": {}
     },
     "b9cc05f666bc435cbe476ef8e9e4fbec": {
      "model_module": "@jupyter-widgets/controls",
      "model_module_version": "1.5.0",
      "model_name": "ButtonModel",
      "state": {
       "description": "Delete",
       "layout": "IPY_MODEL_3886c91004eb40b4ae526623f839f5a3",
       "style": "IPY_MODEL_3f0f3bb1764f476baea6463c404baeef"
      }
     },
     "b9eb8d3f8c6a4b18a72f185724416aa4": {
      "model_module": "@jupyter-widgets/controls",
      "model_module_version": "1.5.0",
      "model_name": "VBoxModel",
      "state": {
       "children": [
        "IPY_MODEL_21efdec5b75d4c6ebabf51119098e5d0",
        "IPY_MODEL_0c82adbe02b14ee888134148a12ab08a"
       ],
       "layout": "IPY_MODEL_ceb520bee04442219db5910700063143"
      }
     },
     "b9feeeeee9c74b51a81c432f0d6e640f": {
      "model_module": "@jupyter-widgets/base",
      "model_module_version": "1.2.0",
      "model_name": "LayoutModel",
      "state": {}
     },
     "ba29b80240fa409fbf8bfc9edf0f136d": {
      "model_module": "@jupyter-widgets/base",
      "model_module_version": "1.2.0",
      "model_name": "LayoutModel",
      "state": {}
     },
     "ba414c61699f4ef78a51f82ac1b8dfdd": {
      "model_module": "@jupyter-widgets/controls",
      "model_module_version": "1.5.0",
      "model_name": "FloatSliderModel",
      "state": {
       "description": "transparency",
       "layout": "IPY_MODEL_41670547e0cb41e29a72d0cf35a2fb90",
       "max": 1,
       "step": 0.1,
       "style": "IPY_MODEL_8554cceab3924e6b9e50c79f303173aa"
      }
     },
     "ba48b67039584cd4a738aff600735696": {
      "model_module": "@jupyter-widgets/base",
      "model_module_version": "1.2.0",
      "model_name": "LayoutModel",
      "state": {}
     },
     "ba6c79c2e43840c9810fa60662097b5b": {
      "model_module": "pgljupyter",
      "model_module_version": "^0.1.2",
      "model_name": "FloatEditorModel",
      "state": {
       "_model_module_version": "^0.1.2",
       "_view_module_version": "^0.1.2",
       "children": [
        "IPY_MODEL_f877f58a4a8f446bae74488efbef66b0",
        "IPY_MODEL_76eb2c1bc07d4ea9a83be96441994d41",
        "IPY_MODEL_89e50adf10a84ea9ab3997fe944f3854",
        "IPY_MODEL_c2a5dd075265401189b7b6fd47c34c17",
        "IPY_MODEL_fdc322002e0147a3b3a787527f552f68"
       ],
       "layout": "IPY_MODEL_9996de42de804a72bd10c312732d93ad"
      }
     },
     "ba7234dd0ed3424baa06f9cffa1d96b3": {
      "model_module": "@jupyter-widgets/controls",
      "model_module_version": "1.5.0",
      "model_name": "FloatSliderModel",
      "state": {
       "description": "diffuse",
       "layout": "IPY_MODEL_0a63f463c5d8470ebb1e732d48fd1d86",
       "max": 1,
       "step": 0.1,
       "style": "IPY_MODEL_bc847ec8847947ff8d70439e40edc100"
      }
     },
     "babb93ef0b924d3f89a84509076d9730": {
      "model_module": "@jupyter-widgets/controls",
      "model_module_version": "1.5.0",
      "model_name": "DropdownModel",
      "state": {
       "index": null,
       "layout": "IPY_MODEL_9bf14f73f0b04eb1b7814b57cd8c2439",
       "style": "IPY_MODEL_ae7c5771004247ee9c8be8424303a978"
      }
     },
     "bacd8b83f09a41338127a969c8b6dbd0": {
      "model_module": "@jupyter-widgets/controls",
      "model_module_version": "1.5.0",
      "model_name": "TextModel",
      "state": {
       "continuous_update": false,
       "description": "name",
       "layout": "IPY_MODEL_3300a2c5f2e247a1aaa3e0f6ac6abad9",
       "style": "IPY_MODEL_45eab33145994f5ba739b30b1b0ebf80",
       "value": "radinc"
      }
     },
     "bad45027440c49c0b95e906436475efe": {
      "model_module": "@jupyter-widgets/controls",
      "model_module_version": "1.5.0",
      "model_name": "ButtonModel",
      "state": {
       "description": "Delete",
       "layout": "IPY_MODEL_c0916f5a0946411c9908967b1e233df2",
       "style": "IPY_MODEL_00cac5436c8e487dae18a9ff4734dbaf"
      }
     },
     "bb156c39f7374a1b9165dded955416f5": {
      "model_module": "@jupyter-widgets/base",
      "model_module_version": "1.2.0",
      "model_name": "LayoutModel",
      "state": {
       "flex_flow": "row wrap",
       "margin": "20px"
      }
     },
     "bb1d7bbeb2da4eb7b42b416ef2832725": {
      "model_module": "@jupyter-widgets/base",
      "model_module_version": "1.2.0",
      "model_name": "LayoutModel",
      "state": {}
     },
     "bb5ac557aecb46c7a9fb3b7bdbb416bb": {
      "model_module": "@jupyter-widgets/controls",
      "model_module_version": "1.5.0",
      "model_name": "ColorPickerModel",
      "state": {
       "description": "specular",
       "disabled": false,
       "layout": "IPY_MODEL_bda0bf5780334cc294b54dd95d1ad3fd",
       "style": "IPY_MODEL_c14b7af0f5dd4f9ab3cc35a9918c0542",
       "value": "#282828"
      }
     },
     "bb5cb6be24e84a2f9a01b764426581ca": {
      "model_module": "@jupyter-widgets/controls",
      "model_module_version": "1.5.0",
      "model_name": "DescriptionStyleModel",
      "state": {
       "description_width": ""
      }
     },
     "bb64343143ba4af99b7584a1195309c2": {
      "model_module": "@jupyter-widgets/controls",
      "model_module_version": "1.5.0",
      "model_name": "IntTextModel",
      "state": {
       "description": "max",
       "layout": "IPY_MODEL_5c04a7bab5654a89bb57cca666a4c17e",
       "step": 1,
       "style": "IPY_MODEL_78b86b9374f94e7eba45a65f52ac1a7b",
       "value": 7
      }
     },
     "bb74a2e2f3f744c0880c5874c444c364": {
      "model_module": "@jupyter-widgets/controls",
      "model_module_version": "1.5.0",
      "model_name": "ColorPickerModel",
      "state": {
       "description": "specular",
       "disabled": false,
       "layout": "IPY_MODEL_f16cdc3e967e4e5181ff48b1be8bffe5",
       "style": "IPY_MODEL_fbd3c620d7bd47818d5487d92b540c7d",
       "value": "#282828"
      }
     },
     "bbd47564228f4942bcd590a50a8e0bdb": {
      "model_module": "@jupyter-widgets/base",
      "model_module_version": "1.2.0",
      "model_name": "LayoutModel",
      "state": {
       "flex_flow": "row wrap"
      }
     },
     "bc0183c58b444802a552b4adb9c91726": {
      "model_module": "@jupyter-widgets/controls",
      "model_module_version": "1.5.0",
      "model_name": "SliderStyleModel",
      "state": {
       "description_width": ""
      }
     },
     "bc3a69f7dd4a4502ac15812f3b77ce57": {
      "model_module": "@jupyter-widgets/controls",
      "model_module_version": "1.5.0",
      "model_name": "ColorPickerModel",
      "state": {
       "description": "ambient",
       "disabled": false,
       "layout": "IPY_MODEL_9c38da186c4448ecaecd2835ccd29123",
       "style": "IPY_MODEL_d818d18293d24cafa4ca4dbd101d4e2e",
       "value": "#195717"
      }
     },
     "bc3db02e28bb4caeb6026fe5f4369a0f": {
      "model_module": "@jupyter-widgets/controls",
      "model_module_version": "1.5.0",
      "model_name": "ButtonStyleModel",
      "state": {}
     },
     "bc847ec8847947ff8d70439e40edc100": {
      "model_module": "@jupyter-widgets/controls",
      "model_module_version": "1.5.0",
      "model_name": "SliderStyleModel",
      "state": {
       "description_width": ""
      }
     },
     "bc8843dead4445a69000087749f7c98e": {
      "model_module": "@jupyter-widgets/controls",
      "model_module_version": "1.5.0",
      "model_name": "FloatSliderModel",
      "state": {
       "description": "shininess",
       "layout": "IPY_MODEL_b829829f906848c5aaa40579a8addb02",
       "max": 1,
       "step": 0.1,
       "style": "IPY_MODEL_5c063035428d484eb96aa25652f1770c",
       "value": 0.2
      }
     },
     "bca8e12aa85b43d199fddf7fd3c74ae8": {
      "model_module": "@jupyter-widgets/base",
      "model_module_version": "1.2.0",
      "model_name": "LayoutModel",
      "state": {}
     },
     "bd68f36a479d4228921e20a022470d19": {
      "model_module": "@jupyter-widgets/base",
      "model_module_version": "1.2.0",
      "model_name": "LayoutModel",
      "state": {}
     },
     "bd918bcabb7b410f9fbcbc61aac64b22": {
      "model_module": "pgljupyter",
      "model_module_version": "^0.1.14",
      "model_name": "MaterialEditorModel",
      "state": {
       "_model_module_version": "^0.1.14",
       "_view_module_version": "^0.1.14",
       "children": [
        "IPY_MODEL_841b03bc73504e9fbcd2a2521c5eac54",
        "IPY_MODEL_96bc270eb98e480d869226e5c3773f39",
        "IPY_MODEL_2a6e6d5a527b40b79b823a50c67ef83a",
        "IPY_MODEL_37cc370812764135a78e918e9a54c255",
        "IPY_MODEL_fdd80fe99a2c4941b1f17d90ef2bd04f",
        "IPY_MODEL_b21f74bd92b84e09bf6f607288d6ca02",
        "IPY_MODEL_930cf2be63434311b69954fea28519d9"
       ],
       "layout": "IPY_MODEL_4ded6f0e10d44e918caea6634ec2fab5"
      }
     },
     "bda0bf5780334cc294b54dd95d1ad3fd": {
      "model_module": "@jupyter-widgets/base",
      "model_module_version": "1.2.0",
      "model_name": "LayoutModel",
      "state": {}
     },
     "bdb41a94c2ae42e29d602a43de19b7e5": {
      "model_module": "@jupyter-widgets/controls",
      "model_module_version": "1.5.0",
      "model_name": "TextModel",
      "state": {
       "continuous_update": false,
       "description": "name",
       "layout": "IPY_MODEL_b0640f81165841e19fa32c937422c2a4",
       "style": "IPY_MODEL_64988f0b5e374ed49f93bfb333503a97",
       "value": "color_2"
      }
     },
     "be32dc92ecd64abcb793bf8183527506": {
      "model_module": "@jupyter-widgets/controls",
      "model_module_version": "1.5.0",
      "model_name": "IntTextModel",
      "state": {
       "description": "max",
       "layout": "IPY_MODEL_35010fbf5ea3493e9cbc7122e28e5c50",
       "step": 1,
       "style": "IPY_MODEL_bb5cb6be24e84a2f9a01b764426581ca",
       "value": 10
      }
     },
     "bed3960f239c45c989041abe69ed15fd": {
      "model_module": "@jupyter-widgets/controls",
      "model_module_version": "1.5.0",
      "model_name": "SliderStyleModel",
      "state": {
       "description_width": ""
      }
     },
     "beffbb3f77dd4d94aef20d7baaf0b0b4": {
      "model_module": "@jupyter-widgets/controls",
      "model_module_version": "1.5.0",
      "model_name": "HBoxModel",
      "state": {
       "children": [
        "IPY_MODEL_29d3147695a947d7b6e87a4ef6e81299",
        "IPY_MODEL_e3071eba15a74f3fb224da653c0acb19",
        "IPY_MODEL_671a0c1d002f4c0797ca8a6ade723793"
       ],
       "layout": "IPY_MODEL_f6b8371c97d6438d81a54fc86fdfb536"
      }
     },
     "bf235c94995349428ea2e10535856d69": {
      "model_module": "@jupyter-widgets/base",
      "model_module_version": "1.2.0",
      "model_name": "LayoutModel",
      "state": {}
     },
     "bf6afae350cf4c75abb82cfc7b68b427": {
      "model_module": "@jupyter-widgets/base",
      "model_module_version": "1.2.0",
      "model_name": "LayoutModel",
      "state": {}
     },
     "bf8c52c6349d45b7bd06b4eca76e2cbb": {
      "model_module": "@jupyter-widgets/controls",
      "model_module_version": "1.5.0",
      "model_name": "DescriptionStyleModel",
      "state": {
       "description_width": ""
      }
     },
     "bf9041858b814903a58aa446f72e476b": {
      "model_module": "@jupyter-widgets/base",
      "model_module_version": "1.2.0",
      "model_name": "LayoutModel",
      "state": {}
     },
     "bf95968a03ca41a0a35c4849e88e5a39": {
      "model_module": "@jupyter-widgets/base",
      "model_module_version": "1.2.0",
      "model_name": "LayoutModel",
      "state": {}
     },
     "bfa18b0f774b4adcb58dd18072b212e7": {
      "model_module": "@jupyter-widgets/controls",
      "model_module_version": "1.5.0",
      "model_name": "TabModel",
      "state": {
       "layout": "IPY_MODEL_aea1d0cbebf84d70ad94fd9b58353cdc"
      }
     },
     "bfebe2c916cd4f94ba35b732dbd68fc0": {
      "model_module": "@jupyter-widgets/controls",
      "model_module_version": "1.5.0",
      "model_name": "BoundedIntTextModel",
      "state": {
       "description": "index",
       "layout": "IPY_MODEL_a9baac29908349669249c48305c9d374",
       "style": "IPY_MODEL_94e25902e4724aa0a4d73938e6e56102",
       "value": 3
      }
     },
     "c017faf3374c49f2a7f2173c394bb4b5": {
      "model_module": "@jupyter-widgets/controls",
      "model_module_version": "1.5.0",
      "model_name": "IntSliderModel",
      "state": {
       "description": "value",
       "layout": "IPY_MODEL_9ce783ec3f44497c8f06f6875c974f8b",
       "max": 10,
       "min": 1,
       "style": "IPY_MODEL_7d5bfc8e9e2e4f8384bba4411ca671f6",
       "value": 2
      }
     },
     "c02e8c51acb34c9b8b213918ea70a048": {
      "model_module": "@jupyter-widgets/controls",
      "model_module_version": "1.5.0",
      "model_name": "ColorPickerModel",
      "state": {
       "description": "ambient",
       "disabled": false,
       "layout": "IPY_MODEL_c71ea082e11e407881eae565b120a4eb",
       "style": "IPY_MODEL_1d0f39de364f42fca2ee489b0ac61eaa",
       "value": "#e1a014"
      }
     },
     "c045ea0a6e574fee9cb72240ae282111": {
      "model_module": "pgljupyter",
      "model_module_version": "^0.1.14",
      "model_name": "IntEditorModel",
      "state": {
       "_model_module_version": "^0.1.14",
       "_view_module_version": "^0.1.14",
       "children": [
        "IPY_MODEL_1ef64fa92ef846b48fec4ed93a3e0e2d",
        "IPY_MODEL_a15ec5c9e1e940f2b66d7ec3e2c6b27c",
        "IPY_MODEL_502fc0257664489ca57463b9f0891d19",
        "IPY_MODEL_128f91d47bf648dbb677701003fe8c5d",
        "IPY_MODEL_3cea4d05264f4dbabd9379e5ebe7999e"
       ],
       "layout": "IPY_MODEL_54b84ad583044a479b5c2ead83e9b590"
      }
     },
     "c057446521834fda9bf45c6084e8f55f": {
      "model_module": "@jupyter-widgets/base",
      "model_module_version": "1.2.0",
      "model_name": "LayoutModel",
      "state": {}
     },
     "c0916f5a0946411c9908967b1e233df2": {
      "model_module": "@jupyter-widgets/base",
      "model_module_version": "1.2.0",
      "model_name": "LayoutModel",
      "state": {}
     },
     "c093b97b12b746008d103f1518ae45cd": {
      "model_module": "pgljupyter",
      "model_module_version": "^0.1.14",
      "model_name": "FloatEditorModel",
      "state": {
       "_model_module_version": "^0.1.14",
       "_view_module_version": "^0.1.14",
       "children": [
        "IPY_MODEL_83d7b86e973542519d6227d6627a1f24",
        "IPY_MODEL_c8dca327c4774628aef62c0fd7ccd439",
        "IPY_MODEL_c579b1759bdb4b61a9c98aab238009fe",
        "IPY_MODEL_aaf44ccfe11a475080cbf66f9f2f4a8e",
        "IPY_MODEL_4715df1b0b834bf098b71011425a052b"
       ],
       "layout": "IPY_MODEL_a2abd3ec2fca4609bcee49dddfbc868d"
      }
     },
     "c09ac5f419df40aa9d1c27db2f5b8fe2": {
      "model_module": "@jupyter-widgets/base",
      "model_module_version": "1.2.0",
      "model_name": "LayoutModel",
      "state": {}
     },
     "c0a0b6ba4761420fa5e80e161bdb896d": {
      "model_module": "@jupyter-widgets/base",
      "model_module_version": "1.2.0",
      "model_name": "LayoutModel",
      "state": {}
     },
     "c0f4f90eb6b24c6c84973b9bd9db179d": {
      "model_module": "@jupyter-widgets/base",
      "model_module_version": "1.2.0",
      "model_name": "LayoutModel",
      "state": {}
     },
     "c0fbb256fc224c9aba81c3735c246735": {
      "model_module": "@jupyter-widgets/controls",
      "model_module_version": "1.5.0",
      "model_name": "ColorPickerModel",
      "state": {
       "description": "emission",
       "disabled": false,
       "layout": "IPY_MODEL_de40add93b8a4b35b57878f54f78831a",
       "style": "IPY_MODEL_94ac578565f043d688bf9cd62d6d8553",
       "value": "#1f48db"
      }
     },
     "c13f341ad092459384f2c9ee63f72ecf": {
      "model_module": "@jupyter-widgets/controls",
      "model_module_version": "1.5.0",
      "model_name": "SliderStyleModel",
      "state": {
       "description_width": ""
      }
     },
     "c14b7af0f5dd4f9ab3cc35a9918c0542": {
      "model_module": "@jupyter-widgets/controls",
      "model_module_version": "1.5.0",
      "model_name": "DescriptionStyleModel",
      "state": {
       "description_width": ""
      }
     },
     "c14e13ed098c4bf6850d070eab738e5e": {
      "model_module": "@jupyter-widgets/controls",
      "model_module_version": "1.5.0",
      "model_name": "SliderStyleModel",
      "state": {
       "description_width": ""
      }
     },
     "c19ba1d02b874e30b0117e9a6459e5d3": {
      "model_module": "pgljupyter",
      "model_module_version": "^0.1.14",
      "model_name": "IntEditorModel",
      "state": {
       "_model_module_version": "^0.1.14",
       "_view_module_version": "^0.1.14",
       "children": [
        "IPY_MODEL_4582f038b2014974a160502d5dbeaf9d",
        "IPY_MODEL_cb9753792ecd4e86867efea2e0b84d64",
        "IPY_MODEL_c971b518ed994a17abe4aa40fc59ef1e",
        "IPY_MODEL_b68eb2858dea4541b4543e7f82a86952",
        "IPY_MODEL_177cde17762546bcb143df6017c2bd65"
       ],
       "layout": "IPY_MODEL_79f69624a792402dbdf38b37ead2de78"
      }
     },
     "c2003da65dea4a289b43039e5a8549af": {
      "model_module": "pgljupyter",
      "model_module_version": "^0.1.2",
      "model_name": "IntEditorModel",
      "state": {
       "_model_module_version": "^0.1.2",
       "_view_module_version": "^0.1.2",
       "children": [
        "IPY_MODEL_3bce6b106d9847ae81d706f5a7c75510",
        "IPY_MODEL_aca6b402cb5e487192c6f29eaf19b583",
        "IPY_MODEL_7c66b5d7e49e46b4af1106c7070d7f40",
        "IPY_MODEL_dc97f2b89053407e94e886a87cb5eb6b",
        "IPY_MODEL_39c02487d7c242b79297781e711e63fb"
       ],
       "layout": "IPY_MODEL_d5ae3967657a47518c7f4f1765127239"
      }
     },
     "c23008d679574da89dc26ec437607d60": {
      "model_module": "@jupyter-widgets/controls",
      "model_module_version": "1.5.0",
      "model_name": "TextModel",
      "state": {
       "continuous_update": false,
       "description": "name",
       "layout": "IPY_MODEL_89b6301374784af2ad12bd1f64c5bd4e",
       "style": "IPY_MODEL_23525fafaf2245ed86b04e8247b95a24",
       "value": "nb_axes"
      }
     },
     "c254b77e53f94f28a27b56e3c2dfc626": {
      "model_module": "@jupyter-widgets/controls",
      "model_module_version": "1.5.0",
      "model_name": "DescriptionStyleModel",
      "state": {
       "description_width": ""
      }
     },
     "c25b4590b0ae444281e4de1577dba820": {
      "model_module": "@jupyter-widgets/controls",
      "model_module_version": "1.5.0",
      "model_name": "HBoxModel",
      "state": {
       "children": [
        "IPY_MODEL_15897f39c9c241c994c93955c340fb6b",
        "IPY_MODEL_949b9f6b0655431baaa842ca0fba7158",
        "IPY_MODEL_9a65dcb16d534e78b9be4268f18e0189",
        "IPY_MODEL_77d9a753e60f49d284845127d2f81ee7"
       ],
       "layout": "IPY_MODEL_f56daa410ee44854874b448e60b2c3c9"
      }
     },
     "c27b4929616a4cc9afc6b2486b6203ab": {
      "model_module": "@jupyter-widgets/base",
      "model_module_version": "1.2.0",
      "model_name": "LayoutModel",
      "state": {}
     },
     "c2a5dd075265401189b7b6fd47c34c17": {
      "model_module": "@jupyter-widgets/controls",
      "model_module_version": "1.5.0",
      "model_name": "FloatTextModel",
      "state": {
       "description": "max",
       "layout": "IPY_MODEL_95eef6992b7847359034cb5d069ebfa2",
       "step": null,
       "style": "IPY_MODEL_5a27be4bb9c048a2bb54f5eb48c09787",
       "value": 0.1
      }
     },
     "c2c55fe42be74718bb320fed9bf1fdd6": {
      "model_module": "@jupyter-widgets/base",
      "model_module_version": "1.2.0",
      "model_name": "LayoutModel",
      "state": {
       "flex_flow": "row wrap"
      }
     },
     "c2d5788df88a4bffa01ec27cdf0aec8e": {
      "model_module": "@jupyter-widgets/controls",
      "model_module_version": "1.5.0",
      "model_name": "BoundedIntTextModel",
      "state": {
       "description": "index",
       "layout": "IPY_MODEL_07be53bbb9d944eabc52ffbee52e5bac",
       "style": "IPY_MODEL_eb2e69115216423890bbf2deae806d03",
       "value": 4
      }
     },
     "c2f52039c5e94671870caf9530fd4b32": {
      "model_module": "@jupyter-widgets/base",
      "model_module_version": "1.2.0",
      "model_name": "LayoutModel",
      "state": {}
     },
     "c35deb0d32c14e22aa1a65baa1a7913e": {
      "model_module": "@jupyter-widgets/base",
      "model_module_version": "1.2.0",
      "model_name": "LayoutModel",
      "state": {}
     },
     "c364d57ad62144c597636d4d7ea2924a": {
      "model_module": "@jupyter-widgets/base",
      "model_module_version": "1.2.0",
      "model_name": "LayoutModel",
      "state": {}
     },
     "c3adb797a20341a3acbdfcff67be93eb": {
      "model_module": "@jupyter-widgets/base",
      "model_module_version": "1.2.0",
      "model_name": "LayoutModel",
      "state": {}
     },
     "c3bb6e2e3a964b54bae4688c732ce7f1": {
      "model_module": "@jupyter-widgets/controls",
      "model_module_version": "1.5.0",
      "model_name": "DescriptionStyleModel",
      "state": {
       "description_width": ""
      }
     },
     "c3bc80a9a77b4b0092ea7f621e786a19": {
      "model_module": "@jupyter-widgets/controls",
      "model_module_version": "1.5.0",
      "model_name": "DescriptionStyleModel",
      "state": {
       "description_width": ""
      }
     },
     "c3d84a4110fe40599578882c9599c41f": {
      "model_module": "@jupyter-widgets/base",
      "model_module_version": "1.2.0",
      "model_name": "LayoutModel",
      "state": {}
     },
     "c3e606921e3541b182127b4a5dc44b20": {
      "model_module": "@jupyter-widgets/controls",
      "model_module_version": "1.5.0",
      "model_name": "BoundedIntTextModel",
      "state": {
       "description": "step",
       "layout": "IPY_MODEL_4944abeee5e845109317d2a65436e81b",
       "min": 1,
       "style": "IPY_MODEL_f2f138d092e349ff9f1591f7b5cb6e5c",
       "value": 1
      }
     },
     "c40d91bd421049d38bc8e192e39e9122": {
      "model_module": "@jupyter-widgets/base",
      "model_module_version": "1.2.0",
      "model_name": "LayoutModel",
      "state": {}
     },
     "c46c96224a2c4453bc909a37698703a4": {
      "model_module": "@jupyter-widgets/controls",
      "model_module_version": "1.5.0",
      "model_name": "TextModel",
      "state": {
       "continuous_update": false,
       "description": "name",
       "layout": "IPY_MODEL_bf95968a03ca41a0a35c4849e88e5a39",
       "style": "IPY_MODEL_65bdf3a7d2c248919a89fc3a98dfb617",
       "value": "color_1"
      }
     },
     "c46f5ff856fd462f9aa4c788ae2e855f": {
      "model_module": "pgljupyter",
      "model_module_version": "^0.1.2",
      "model_name": "MaterialEditorModel",
      "state": {
       "_model_module_version": "^0.1.2",
       "_view_module_version": "^0.1.2",
       "children": [
        "IPY_MODEL_bdb41a94c2ae42e29d602a43de19b7e5",
        "IPY_MODEL_db99c174f80c4e11afb1a06e36228357",
        "IPY_MODEL_d934065c2df0404c8065622ee241dd96",
        "IPY_MODEL_acc99657a447459fb7ad63d61ff18c6d",
        "IPY_MODEL_f185c916dcb14fa48e134838b90ee266",
        "IPY_MODEL_55e50482ddd14ec08b2e2699040ec3a6",
        "IPY_MODEL_e38a5927e6934a1eb8de6edff55adc76",
        "IPY_MODEL_e9a9f6fca3b84589a232b1138b72fa62"
       ],
       "layout": "IPY_MODEL_3bccb846b4df4907997b93fed3c1a495"
      }
     },
     "c4b619d3bd944779b7f7722cb12920fb": {
      "model_module": "@jupyter-widgets/controls",
      "model_module_version": "1.5.0",
      "model_name": "DescriptionStyleModel",
      "state": {
       "description_width": ""
      }
     },
     "c4e9c941f22141baa6941a4cac591ea8": {
      "model_module": "@jupyter-widgets/controls",
      "model_module_version": "1.5.0",
      "model_name": "DescriptionStyleModel",
      "state": {
       "description_width": ""
      }
     },
     "c5040cfaa88648f8b0b6678f5fcac0f7": {
      "model_module": "@jupyter-widgets/controls",
      "model_module_version": "1.5.0",
      "model_name": "DescriptionStyleModel",
      "state": {
       "description_width": ""
      }
     },
     "c52577bffe0f49609cd040959ba01617": {
      "model_module": "@jupyter-widgets/controls",
      "model_module_version": "1.5.0",
      "model_name": "FloatTextModel",
      "state": {
       "description": "min",
       "layout": "IPY_MODEL_d3bce69b896a4632abd986c9aaad2c7b",
       "step": null,
       "style": "IPY_MODEL_39b6cee9b96e43b683aa3b0b8d201361",
       "value": 0.01
      }
     },
     "c55c011e738a41e3bfd9ff758ced3850": {
      "model_module": "@jupyter-widgets/base",
      "model_module_version": "1.2.0",
      "model_name": "LayoutModel",
      "state": {
       "margin": "20px 0px"
      }
     },
     "c579b1759bdb4b61a9c98aab238009fe": {
      "model_module": "@jupyter-widgets/controls",
      "model_module_version": "1.5.0",
      "model_name": "FloatTextModel",
      "state": {
       "description": "min",
       "layout": "IPY_MODEL_9a73cdea2faf406f84e9aada3788b63e",
       "step": null,
       "style": "IPY_MODEL_4acc7b98a51f43498f9bddac5e91d64d",
       "value": 0.01
      }
     },
     "c580a4d8ab98468a9d0492ff60aa2379": {
      "model_module": "@jupyter-widgets/controls",
      "model_module_version": "1.5.0",
      "model_name": "TextModel",
      "state": {
       "continuous_update": false,
       "description": "name",
       "layout": "IPY_MODEL_952fbb7f027f4f5d9239e048df0be058",
       "style": "IPY_MODEL_024a1bedd40241b69d18bf5622dad7ab",
       "value": "leafduration"
      }
     },
     "c5ed3c7a721e4e818c8d622ff9e795f8": {
      "model_module": "@jupyter-widgets/controls",
      "model_module_version": "1.5.0",
      "model_name": "DescriptionStyleModel",
      "state": {
       "description_width": ""
      }
     },
     "c5f1bf80981a4895b92f6fc2fecafac2": {
      "model_module": "@jupyter-widgets/controls",
      "model_module_version": "1.5.0",
      "model_name": "HBoxModel",
      "state": {
       "layout": "IPY_MODEL_bb156c39f7374a1b9165dded955416f5"
      }
     },
     "c6335a0511b842129859372124e60a0d": {
      "model_module": "@jupyter-widgets/base",
      "model_module_version": "1.2.0",
      "model_name": "LayoutModel",
      "state": {}
     },
     "c67c734b0758494aac08caae5fd90d3d": {
      "model_module": "@jupyter-widgets/base",
      "model_module_version": "1.2.0",
      "model_name": "LayoutModel",
      "state": {}
     },
     "c6a2f506d2404d8088d464eb5aac551f": {
      "model_module": "@jupyter-widgets/controls",
      "model_module_version": "1.5.0",
      "model_name": "HBoxModel",
      "state": {
       "children": [
        "IPY_MODEL_7047220ba1fd43f9b2dfff397b099bdc"
       ],
       "layout": "IPY_MODEL_1aaed1264b7e4af38e5dfa20e770f4aa"
      }
     },
     "c6a312a270f14428b4ad614b9369cd85": {
      "model_module": "@jupyter-widgets/controls",
      "model_module_version": "1.5.0",
      "model_name": "DropdownModel",
      "state": {
       "_options_labels": [
        "color_1",
        "color_2",
        "color_4"
       ],
       "index": 0,
       "layout": "IPY_MODEL_8732af9403aa4f6ca1b7e62ca4e29c09",
       "style": "IPY_MODEL_7603ec0ea97040b8b5273ff4abfa9ec8"
      }
     },
     "c6ad612c926543f7b21ea0b593cf326e": {
      "model_module": "@jupyter-widgets/base",
      "model_module_version": "1.2.0",
      "model_name": "LayoutModel",
      "state": {}
     },
     "c6fa05055ebe4ca88351d49c8f65e6b2": {
      "model_module": "@jupyter-widgets/base",
      "model_module_version": "1.2.0",
      "model_name": "LayoutModel",
      "state": {}
     },
     "c6ff09a6e9d847ac858da09d3835cffa": {
      "model_module": "@jupyter-widgets/base",
      "model_module_version": "1.2.0",
      "model_name": "LayoutModel",
      "state": {}
     },
     "c71ea082e11e407881eae565b120a4eb": {
      "model_module": "@jupyter-widgets/base",
      "model_module_version": "1.2.0",
      "model_name": "LayoutModel",
      "state": {}
     },
     "c77747e99e2248869202f774aa46d72e": {
      "model_module": "@jupyter-widgets/controls",
      "model_module_version": "1.5.0",
      "model_name": "SliderStyleModel",
      "state": {
       "description_width": ""
      }
     },
     "c7a7a50eab4e4e22960d00e9cf2bd872": {
      "model_module": "@jupyter-widgets/base",
      "model_module_version": "1.2.0",
      "model_name": "LayoutModel",
      "state": {}
     },
     "c7e96683ccf54521ad82e02910c90b3d": {
      "model_module": "@jupyter-widgets/controls",
      "model_module_version": "1.5.0",
      "model_name": "DescriptionStyleModel",
      "state": {
       "description_width": ""
      }
     },
     "c80db8f4cb9841beba01c1bd2287e051": {
      "model_module": "@jupyter-widgets/controls",
      "model_module_version": "1.5.0",
      "model_name": "ButtonStyleModel",
      "state": {}
     },
     "c858e86399cd448783684aee36ababb6": {
      "model_module": "@jupyter-widgets/controls",
      "model_module_version": "1.5.0",
      "model_name": "IntTextModel",
      "state": {
       "description": "max",
       "layout": "IPY_MODEL_8715186e0e7149e8864eac82b62a522d",
       "step": 1,
       "style": "IPY_MODEL_0a2a346a9e664a96a6f6cb0da81b7342",
       "value": 10
      }
     },
     "c860bd1554b0472c85eb2f103d5645a6": {
      "model_module": "@jupyter-widgets/base",
      "model_module_version": "1.2.0",
      "model_name": "LayoutModel",
      "state": {}
     },
     "c8945ff55f3e4299bc6baee965a89100": {
      "model_module": "@jupyter-widgets/base",
      "model_module_version": "1.2.0",
      "model_name": "LayoutModel",
      "state": {}
     },
     "c8be64049f5843ebac39f11d40e1b397": {
      "model_module": "@jupyter-widgets/base",
      "model_module_version": "1.2.0",
      "model_name": "LayoutModel",
      "state": {}
     },
     "c8dca327c4774628aef62c0fd7ccd439": {
      "model_module": "@jupyter-widgets/controls",
      "model_module_version": "1.5.0",
      "model_name": "FloatSliderModel",
      "state": {
       "description": "value",
       "layout": "IPY_MODEL_74a7a5c1fee64445b64d9944194e45ee",
       "max": 0.1,
       "min": 0.01,
       "step": 0.01,
       "style": "IPY_MODEL_2c70894a80f745f89888ecb61c4430a7",
       "value": 0.02
      }
     },
     "c8f45965b1124a4a90d52cde0a186035": {
      "model_module": "@jupyter-widgets/controls",
      "model_module_version": "1.5.0",
      "model_name": "VBoxModel",
      "state": {
       "children": [
        "IPY_MODEL_50f6ca45ee7c4be8ab97d014e4b3619d",
        "IPY_MODEL_987ee76d11d2433cacbdfd03b1954503"
       ],
       "layout": "IPY_MODEL_343fdbc8ac9046f0be92ef520dcb07c7"
      }
     },
     "c8f7c0c083654692bcaf39f7ed6f4596": {
      "model_module": "@jupyter-widgets/controls",
      "model_module_version": "1.5.0",
      "model_name": "ButtonStyleModel",
      "state": {}
     },
     "c93fac566bbf44a09ddc34c6f6532ae3": {
      "model_module": "@jupyter-widgets/base",
      "model_module_version": "1.2.0",
      "model_name": "LayoutModel",
      "state": {}
     },
     "c955c4f8ceab4fe6911f95c106cb4893": {
      "model_module": "@jupyter-widgets/base",
      "model_module_version": "1.2.0",
      "model_name": "LayoutModel",
      "state": {
       "margin": "20px 0px"
      }
     },
     "c95cf67e99be4e26a62abb82e9ca131b": {
      "model_module": "@jupyter-widgets/base",
      "model_module_version": "1.2.0",
      "model_name": "LayoutModel",
      "state": {}
     },
     "c971b518ed994a17abe4aa40fc59ef1e": {
      "model_module": "@jupyter-widgets/controls",
      "model_module_version": "1.5.0",
      "model_name": "IntTextModel",
      "state": {
       "description": "min",
       "layout": "IPY_MODEL_fb6fdce322514387af4f9d06ea315c68",
       "step": 1,
       "style": "IPY_MODEL_05c793cf33424025941cb184db923fea",
       "value": 1
      }
     },
     "c9b3d84283d549a89ea8b9880ebdc2f1": {
      "model_module": "@jupyter-widgets/controls",
      "model_module_version": "1.5.0",
      "model_name": "ButtonStyleModel",
      "state": {}
     },
     "ca2f599c70464248802952afb48b4d4d": {
      "model_module": "@jupyter-widgets/controls",
      "model_module_version": "1.5.0",
      "model_name": "DescriptionStyleModel",
      "state": {
       "description_width": ""
      }
     },
     "ca44b44f93e146c989a42fb6089dfaa7": {
      "model_module": "@jupyter-widgets/controls",
      "model_module_version": "1.5.0",
      "model_name": "ButtonModel",
      "state": {
       "description": "Apply changes",
       "layout": "IPY_MODEL_08a4960b5d9a400f9e7acdae1bc9b992",
       "style": "IPY_MODEL_d3f300a384ae46c6a00252b5d97c075f"
      }
     },
     "ca7c6a5029e84e83b82b6b58a837603a": {
      "model_module": "@jupyter-widgets/controls",
      "model_module_version": "1.5.0",
      "model_name": "ButtonStyleModel",
      "state": {}
     },
     "ca9265ffa8ce4dd7bf69074d9f41f030": {
      "model_module": "@jupyter-widgets/base",
      "model_module_version": "1.2.0",
      "model_name": "LayoutModel",
      "state": {
       "margin": "20px 0px"
      }
     },
     "ca9cabf582ce4689abcc8d1e8ca02b57": {
      "model_module": "@jupyter-widgets/controls",
      "model_module_version": "1.5.0",
      "model_name": "DescriptionStyleModel",
      "state": {
       "description_width": ""
      }
     },
     "cb1ed0f6320b4333aa7297d8a7ce168f": {
      "model_module": "@jupyter-widgets/controls",
      "model_module_version": "1.5.0",
      "model_name": "DescriptionStyleModel",
      "state": {
       "description_width": ""
      }
     },
     "cb4b61bb039c4f84b2600a719affce27": {
      "model_module": "@jupyter-widgets/controls",
      "model_module_version": "1.5.0",
      "model_name": "TabModel",
      "state": {
       "layout": "IPY_MODEL_49dbac54c4d6481ba32cd961140796cc"
      }
     },
     "cb9753792ecd4e86867efea2e0b84d64": {
      "model_module": "@jupyter-widgets/controls",
      "model_module_version": "1.5.0",
      "model_name": "IntSliderModel",
      "state": {
       "description": "value",
       "layout": "IPY_MODEL_aeaf1361f90748f78e6b1f091cf6e50e",
       "max": 10,
       "min": 1,
       "style": "IPY_MODEL_55dd24f2a4134bb8918a6c13a35703b2",
       "value": 2
      }
     },
     "cbbda54c90744c78b5a9088ce7e16dcb": {
      "model_module": "@jupyter-widgets/base",
      "model_module_version": "1.2.0",
      "model_name": "LayoutModel",
      "state": {}
     },
     "cbe03dab15774ad68ea1b7df1e69258a": {
      "model_module": "@jupyter-widgets/base",
      "model_module_version": "1.2.0",
      "model_name": "LayoutModel",
      "state": {}
     },
     "cc5772a12a73485e9db4d560e6ed99e5": {
      "model_module": "@jupyter-widgets/controls",
      "model_module_version": "1.5.0",
      "model_name": "DescriptionStyleModel",
      "state": {
       "description_width": ""
      }
     },
     "cc5944add9d34806bcf3e19b3041f41d": {
      "model_module": "@jupyter-widgets/controls",
      "model_module_version": "1.5.0",
      "model_name": "DescriptionStyleModel",
      "state": {
       "description_width": ""
      }
     },
     "cc6a0f0ef8ca472b9113262cccfa8bfa": {
      "model_module": "@jupyter-widgets/base",
      "model_module_version": "1.2.0",
      "model_name": "LayoutModel",
      "state": {}
     },
     "ccb5f84db0c74d6f993cdf50188c7ab4": {
      "model_module": "@jupyter-widgets/controls",
      "model_module_version": "1.5.0",
      "model_name": "DescriptionStyleModel",
      "state": {
       "description_width": ""
      }
     },
     "ccb74ec1a70948178488184669ebc272": {
      "model_module": "@jupyter-widgets/controls",
      "model_module_version": "1.5.0",
      "model_name": "DescriptionStyleModel",
      "state": {
       "description_width": ""
      }
     },
     "ccc3684d6a3a4acdaac7fa383e67ed43": {
      "model_module": "@jupyter-widgets/controls",
      "model_module_version": "1.5.0",
      "model_name": "ColorPickerModel",
      "state": {
       "description": "specular",
       "disabled": false,
       "layout": "IPY_MODEL_203e1864fde243a6bd46c139d099522f",
       "style": "IPY_MODEL_4ebaed4962d34cb98cda2e52d678023a",
       "value": "#478f9f"
      }
     },
     "ccc4235534b24b6b896c41aa2f030e7e": {
      "model_module": "@jupyter-widgets/controls",
      "model_module_version": "1.5.0",
      "model_name": "FloatTextModel",
      "state": {
       "description": "max",
       "layout": "IPY_MODEL_f94496cb3e8f4929a17732ebf63fdc5d",
       "step": null,
       "style": "IPY_MODEL_011e5223efa649b9bf1d2bed8747815d",
       "value": 0.1
      }
     },
     "cce511266ccf40529e09ddb0d1439957": {
      "model_module": "@jupyter-widgets/controls",
      "model_module_version": "1.5.0",
      "model_name": "HBoxModel",
      "state": {
       "children": [
        "IPY_MODEL_173645c006e54ca09cd20c3bf28eb540",
        "IPY_MODEL_5c79a794e9ac4cbfb81e5ba98a148a97"
       ],
       "layout": "IPY_MODEL_ecf696d417284f0cb878728b147b5e1a"
      }
     },
     "cceb5c3176fc4d4391580243e90f5c8d": {
      "model_module": "@jupyter-widgets/controls",
      "model_module_version": "1.5.0",
      "model_name": "BoundedIntTextModel",
      "state": {
       "description": "step",
       "layout": "IPY_MODEL_41a316cc494844f789d1f1885dfea1cc",
       "min": 1,
       "style": "IPY_MODEL_30adb877ae0c4ea3b12a4f4ae638e37d",
       "value": 1
      }
     },
     "cd2d35d7469f4efdbbe25618df80a599": {
      "model_module": "pgljupyter",
      "model_module_version": "^0.1.14",
      "model_name": "MaterialEditorModel",
      "state": {
       "_model_module_version": "^0.1.14",
       "_view_module_version": "^0.1.14",
       "children": [
        "IPY_MODEL_19ebea118db54d3a98ecb0009e792ed9",
        "IPY_MODEL_dfb6de20b2d040d389489361ab6b5b90",
        "IPY_MODEL_87cef65f3ccb4e37b6f6da063e0b9e6e",
        "IPY_MODEL_9ff657d902b547bc986a4fc628dd6afe",
        "IPY_MODEL_cd3a829f4eac40fda62e9aee322229b2",
        "IPY_MODEL_9db3dcf7c0de4e979b7a513e3e5f5cca",
        "IPY_MODEL_45fda64537864956b96ca712540b6091"
       ],
       "layout": "IPY_MODEL_ca9265ffa8ce4dd7bf69074d9f41f030"
      }
     },
     "cd3a829f4eac40fda62e9aee322229b2": {
      "model_module": "@jupyter-widgets/controls",
      "model_module_version": "1.5.0",
      "model_name": "ColorPickerModel",
      "state": {
       "description": "emission",
       "disabled": false,
       "layout": "IPY_MODEL_c0f4f90eb6b24c6c84973b9bd9db179d",
       "style": "IPY_MODEL_de4f8356b53a4020880a9d2e97d68ef3",
       "value": "#000000"
      }
     },
     "cd50187ae39d47d09352eac31cabf72a": {
      "model_module": "@jupyter-widgets/base",
      "model_module_version": "1.2.0",
      "model_name": "LayoutModel",
      "state": {}
     },
     "ce227c9996044887815635ea59975f6c": {
      "model_module": "@jupyter-widgets/base",
      "model_module_version": "1.2.0",
      "model_name": "LayoutModel",
      "state": {}
     },
     "ce51dd8b382a4194b2f5ee5f72c7f056": {
      "model_module": "@jupyter-widgets/controls",
      "model_module_version": "1.5.0",
      "model_name": "HBoxModel",
      "state": {
       "layout": "IPY_MODEL_ed50075832b64beaaa7bbefb48f81c6a"
      }
     },
     "ce6940ed041f4eda99eda29b263f0e11": {
      "model_module": "@jupyter-widgets/controls",
      "model_module_version": "1.5.0",
      "model_name": "SliderStyleModel",
      "state": {
       "description_width": ""
      }
     },
     "ce6b286f2d3f44b0950e6aad6008ca4a": {
      "model_module": "@jupyter-widgets/controls",
      "model_module_version": "1.5.0",
      "model_name": "AccordionModel",
      "state": {
       "_titles": {
        "0": "options",
        "1": "materials",
        "2": "leaf"
       },
       "children": [
        "IPY_MODEL_d708fb57001d4f8ea81f2ede20e3146a",
        "IPY_MODEL_7f2b172d2c374e0f9b79d7569d333c05",
        "IPY_MODEL_4b062199493449db918342e17a6ad7bc"
       ],
       "layout": "IPY_MODEL_dbad586bb58147e6897aca87cba5932c"
      }
     },
     "ceb520bee04442219db5910700063143": {
      "model_module": "@jupyter-widgets/base",
      "model_module_version": "1.2.0",
      "model_name": "LayoutModel",
      "state": {}
     },
     "cf03090252ae4c0889577f516c020b2a": {
      "model_module": "@jupyter-widgets/controls",
      "model_module_version": "1.5.0",
      "model_name": "ColorPickerModel",
      "state": {
       "description": "ambient",
       "disabled": false,
       "layout": "IPY_MODEL_c6fa05055ebe4ca88351d49c8f65e6b2",
       "style": "IPY_MODEL_115c4d2a4acf46039c293faf949b633c",
       "value": "#0fc4db"
      }
     },
     "cf3db1034fd8432aa3704c829a0ecdf4": {
      "model_module": "@jupyter-widgets/base",
      "model_module_version": "1.2.0",
      "model_name": "LayoutModel",
      "state": {}
     },
     "cf6091e0273242ae91488af7bed1c9b8": {
      "model_module": "@jupyter-widgets/controls",
      "model_module_version": "1.5.0",
      "model_name": "TextModel",
      "state": {
       "continuous_update": false,
       "description": "name",
       "layout": "IPY_MODEL_6222902e646a4c918719f62a19ad6f37",
       "style": "IPY_MODEL_1481ac602d8941e0885c08d06e6e0e82",
       "value": "maxorder"
      }
     },
     "cf60cf7a0e9347819f5920be559bd3ab": {
      "model_module": "@jupyter-widgets/controls",
      "model_module_version": "1.5.0",
      "model_name": "HBoxModel",
      "state": {
       "children": [
        "IPY_MODEL_276f4aa0f7004bb992c83a870983632f",
        "IPY_MODEL_6d16c5f570c847eb99b3c515f6c79c4e"
       ],
       "layout": "IPY_MODEL_d123a76804b24dce80e8768f4e66926d"
      }
     },
     "cfbecb2c7a9b44b5b54e471e21bb5013": {
      "model_module": "@jupyter-widgets/base",
      "model_module_version": "1.2.0",
      "model_name": "LayoutModel",
      "state": {}
     },
     "cfce14a323b04509bf9e64471c2a7c91": {
      "model_module": "pgljupyter",
      "model_module_version": "^0.1.14",
      "model_name": "ParameterEditorModel",
      "state": {
       "_model_module_version": "^0.1.14",
       "_view_module_version": "^0.1.14",
       "children": [
        "IPY_MODEL_d1521986876749ac8f8a1129d2384b12"
       ],
       "layout": "IPY_MODEL_1b002d52de5247adb6af34b05dc2002f"
      }
     },
     "cffbe228dd7a4cb6b6b3ec214974be09": {
      "model_module": "@jupyter-widgets/controls",
      "model_module_version": "1.5.0",
      "model_name": "FloatSliderModel",
      "state": {
       "description": "diffuse",
       "layout": "IPY_MODEL_1c7cf59a39db4f008dda191639910e38",
       "max": 1,
       "step": 0.1,
       "style": "IPY_MODEL_514cfc19ebf74685ab74dd7b7a22c471",
       "value": 1
      }
     },
     "d00076ceaaef4f90ae6dfca78cb58bba": {
      "model_module": "@jupyter-widgets/base",
      "model_module_version": "1.2.0",
      "model_name": "LayoutModel",
      "state": {}
     },
     "d02de77550284a6da1474d5305e95a37": {
      "model_module": "@jupyter-widgets/controls",
      "model_module_version": "1.5.0",
      "model_name": "DescriptionStyleModel",
      "state": {
       "description_width": ""
      }
     },
     "d0804158d8994796a57cce09e55d1e9d": {
      "model_module": "@jupyter-widgets/controls",
      "model_module_version": "1.5.0",
      "model_name": "BoundedFloatTextModel",
      "state": {
       "description": "step",
       "layout": "IPY_MODEL_72bc1e35e1b440dab2d04d8572c085d8",
       "max": 1,
       "min": 0.01,
       "step": 0.01,
       "style": "IPY_MODEL_3133bec14cff4f2a890c142d85f7eb53",
       "value": 0.01
      }
     },
     "d0b7820ad886441a910a69125aae845b": {
      "model_module": "@jupyter-widgets/base",
      "model_module_version": "1.2.0",
      "model_name": "LayoutModel",
      "state": {}
     },
     "d0bdbc64800d4d82b5dc67febea65a36": {
      "model_module": "@jupyter-widgets/controls",
      "model_module_version": "1.5.0",
      "model_name": "BoundedIntTextModel",
      "state": {
       "description": "index",
       "layout": "IPY_MODEL_eb67f0405c4a4a21ac1e3795da1d65b8",
       "style": "IPY_MODEL_1f77c70eec134463b17b0f169c5122e1",
       "value": 1
      }
     },
     "d0db5afd7c894db69b4bee3c7f83608a": {
      "model_module": "@jupyter-widgets/controls",
      "model_module_version": "1.5.0",
      "model_name": "HBoxModel",
      "state": {
       "children": [
        "IPY_MODEL_cce511266ccf40529e09ddb0d1439957",
        "IPY_MODEL_4d1384563f59422491a12fe1ae288581"
       ],
       "layout": "IPY_MODEL_1aaed1264b7e4af38e5dfa20e770f4aa"
      }
     },
     "d0ec2f38f17a4341b610533ca10507f5": {
      "model_module": "@jupyter-widgets/base",
      "model_module_version": "1.2.0",
      "model_name": "LayoutModel",
      "state": {
       "margin": "20px 0px"
      }
     },
     "d0f01479a05d433d9dea0f06d6e5c866": {
      "model_module": "@jupyter-widgets/base",
      "model_module_version": "1.2.0",
      "model_name": "LayoutModel",
      "state": {}
     },
     "d106d73f1f0f40bfb9afee106236b6d3": {
      "model_module": "@jupyter-widgets/controls",
      "model_module_version": "1.5.0",
      "model_name": "TextModel",
      "state": {
       "continuous_update": false,
       "description": "name",
       "layout": "IPY_MODEL_5d5b275d15b946cbbaaf085b88ac6394",
       "style": "IPY_MODEL_1b7eb2c7a1744177a4f8587caf59f856",
       "value": "color_1"
      }
     },
     "d11ae994789144a783cc4f4ae6406755": {
      "model_module": "@jupyter-widgets/base",
      "model_module_version": "1.2.0",
      "model_name": "LayoutModel",
      "state": {
       "margin": "20px 0px"
      }
     },
     "d123a76804b24dce80e8768f4e66926d": {
      "model_module": "@jupyter-widgets/base",
      "model_module_version": "1.2.0",
      "model_name": "LayoutModel",
      "state": {}
     },
     "d1521986876749ac8f8a1129d2384b12": {
      "model_module": "@jupyter-widgets/controls",
      "model_module_version": "1.5.0",
      "model_name": "VBoxModel",
      "state": {
       "children": [
        "IPY_MODEL_2d5d68893674488ba4dd00970a3a9b81",
        "IPY_MODEL_df586ff38e6d4b7999878b6b5fd724cc"
       ],
       "layout": "IPY_MODEL_db6605a6e0ee4f75925ce15c464030e2"
      }
     },
     "d15825d831bc479e9ba631b888bce268": {
      "model_module": "@jupyter-widgets/controls",
      "model_module_version": "1.5.0",
      "model_name": "TextModel",
      "state": {
       "continuous_update": false,
       "description": "name",
       "layout": "IPY_MODEL_98bc50eea37a458ebc2807a2cfa4a66e",
       "style": "IPY_MODEL_e726edc415ce408287086d7be2efd682",
       "value": "BezierCurve2D_0"
      }
     },
     "d18872a2ef9b47d0aacc9fc86e75a003": {
      "model_module": "@jupyter-widgets/controls",
      "model_module_version": "1.5.0",
      "model_name": "DescriptionStyleModel",
      "state": {
       "description_width": ""
      }
     },
     "d18d2324b3d64718bcd6376c175c5112": {
      "model_module": "@jupyter-widgets/controls",
      "model_module_version": "1.5.0",
      "model_name": "ColorPickerModel",
      "state": {
       "description": "ambient",
       "disabled": false,
       "layout": "IPY_MODEL_0cf9ede31aee4c9dad31d76457db7941",
       "style": "IPY_MODEL_428c2ac17d184a2c9179180861f4e079",
       "value": "#c25173"
      }
     },
     "d1b0d3e3255c4c5094a200be37f42f8f": {
      "model_module": "@jupyter-widgets/controls",
      "model_module_version": "1.5.0",
      "model_name": "HBoxModel",
      "state": {
       "layout": "IPY_MODEL_ed50075832b64beaaa7bbefb48f81c6a"
      }
     },
     "d1b8dc49f1034c03b899d515253fc98d": {
      "model_module": "@jupyter-widgets/controls",
      "model_module_version": "1.5.0",
      "model_name": "HBoxModel",
      "state": {
       "children": [
        "IPY_MODEL_af9687bc3935460dba4220cc22e7558b",
        "IPY_MODEL_368223e9431d47409832400746a8ab36"
       ],
       "layout": "IPY_MODEL_fe5d4924783740e99fb2a712c58dc4bc"
      }
     },
     "d237add396e74f7cb0ed74f9cb41ca44": {
      "model_module": "@jupyter-widgets/controls",
      "model_module_version": "1.5.0",
      "model_name": "DescriptionStyleModel",
      "state": {
       "description_width": ""
      }
     },
     "d24c239178c94a64be7dc46a5528b939": {
      "model_module": "@jupyter-widgets/controls",
      "model_module_version": "1.5.0",
      "model_name": "FloatSliderModel",
      "state": {
       "description": "value",
       "layout": "IPY_MODEL_1aaf66a79c4a4516be6c818d516db912",
       "max": 0.1,
       "min": 0.01,
       "step": 0.01,
       "style": "IPY_MODEL_ce6940ed041f4eda99eda29b263f0e11",
       "value": 0.02
      }
     },
     "d28cf98e61a04f9898b7af2e4bd9189c": {
      "model_module": "@jupyter-widgets/controls",
      "model_module_version": "1.5.0",
      "model_name": "DescriptionStyleModel",
      "state": {
       "description_width": ""
      }
     },
     "d2b87ecb692a4dda8267a13159fde61b": {
      "model_module": "@jupyter-widgets/base",
      "model_module_version": "1.2.0",
      "model_name": "LayoutModel",
      "state": {}
     },
     "d2d0c85bed704b318b91afa64fd018fe": {
      "model_module": "@jupyter-widgets/base",
      "model_module_version": "1.2.0",
      "model_name": "LayoutModel",
      "state": {}
     },
     "d2d0f917b45743ff9dc2a32c8add385a": {
      "model_module": "@jupyter-widgets/controls",
      "model_module_version": "1.5.0",
      "model_name": "HBoxModel",
      "state": {
       "children": [
        "IPY_MODEL_0714f35b18a44fbaaa6d2aa26b46616e"
       ],
       "layout": "IPY_MODEL_fe0cdcc6562e4d7b98662c718d50f517"
      }
     },
     "d305647879de4f31a874fda6cab632eb": {
      "model_module": "@jupyter-widgets/base",
      "model_module_version": "1.2.0",
      "model_name": "LayoutModel",
      "state": {}
     },
     "d3548b90ef3247ad9a07bc040218e2ba": {
      "model_module": "@jupyter-widgets/controls",
      "model_module_version": "1.5.0",
      "model_name": "TextModel",
      "state": {
       "continuous_update": false,
       "description": "name",
       "layout": "IPY_MODEL_6d6a59f4c0714f90bac64afd6f756b8f",
       "style": "IPY_MODEL_1fb14ba911fa4fa5b21eea1cc9d40b13",
       "value": "BezierCurve2D_2"
      }
     },
     "d39751d2609b4f59a787ccca0b261c85": {
      "model_module": "@jupyter-widgets/controls",
      "model_module_version": "1.5.0",
      "model_name": "TextModel",
      "state": {
       "continuous_update": false,
       "description": "name",
       "layout": "IPY_MODEL_ada6219a139e4a9d814db5c5ba74a114",
       "style": "IPY_MODEL_9f523c556c1a4ecd9ecc999e2932fbbc",
       "value": "radinc"
      }
     },
     "d3b13ba67468411db6f44f89eafdb3e3": {
      "model_module": "@jupyter-widgets/base",
      "model_module_version": "1.2.0",
      "model_name": "LayoutModel",
      "state": {}
     },
     "d3ba0204db55482095d75dd306143739": {
      "model_module": "@jupyter-widgets/controls",
      "model_module_version": "1.5.0",
      "model_name": "ButtonStyleModel",
      "state": {}
     },
     "d3bce69b896a4632abd986c9aaad2c7b": {
      "model_module": "@jupyter-widgets/base",
      "model_module_version": "1.2.0",
      "model_name": "LayoutModel",
      "state": {}
     },
     "d3d970b567e94c44bde3be02c211095b": {
      "model_module": "@jupyter-widgets/base",
      "model_module_version": "1.2.0",
      "model_name": "LayoutModel",
      "state": {}
     },
     "d3f300a384ae46c6a00252b5d97c075f": {
      "model_module": "@jupyter-widgets/controls",
      "model_module_version": "1.5.0",
      "model_name": "ButtonStyleModel",
      "state": {}
     },
     "d51b50f6f7064d6b8575587fb3b196c4": {
      "model_module": "@jupyter-widgets/base",
      "model_module_version": "1.2.0",
      "model_name": "LayoutModel",
      "state": {}
     },
     "d52733beff484a4bbc5178e5dc98c84f": {
      "model_module": "@jupyter-widgets/base",
      "model_module_version": "1.2.0",
      "model_name": "LayoutModel",
      "state": {}
     },
     "d52a4a8134f1480391b2605634851c73": {
      "model_module": "@jupyter-widgets/controls",
      "model_module_version": "1.5.0",
      "model_name": "DescriptionStyleModel",
      "state": {
       "description_width": ""
      }
     },
     "d542516dd18148069a1bba5df7e807ab": {
      "model_module": "@jupyter-widgets/base",
      "model_module_version": "1.2.0",
      "model_name": "LayoutModel",
      "state": {}
     },
     "d5974bbba58d48d682cb09b34e264de7": {
      "model_module": "@jupyter-widgets/base",
      "model_module_version": "1.2.0",
      "model_name": "LayoutModel",
      "state": {}
     },
     "d5a4b1a1337c4f988951f8e89f721b21": {
      "model_module": "@jupyter-widgets/base",
      "model_module_version": "1.2.0",
      "model_name": "LayoutModel",
      "state": {
       "margin": "20px 0px"
      }
     },
     "d5ae3967657a47518c7f4f1765127239": {
      "model_module": "@jupyter-widgets/base",
      "model_module_version": "1.2.0",
      "model_name": "LayoutModel",
      "state": {
       "margin": "20px 0px"
      }
     },
     "d5b0b4a76e704be7aa8f297878b58d36": {
      "model_module": "@jupyter-widgets/base",
      "model_module_version": "1.2.0",
      "model_name": "LayoutModel",
      "state": {}
     },
     "d5ed232c37c645d287f93804c2a7a50c": {
      "model_module": "@jupyter-widgets/controls",
      "model_module_version": "1.5.0",
      "model_name": "DescriptionStyleModel",
      "state": {
       "description_width": ""
      }
     },
     "d6a730eacbd54a89b2ef6b5345c7107f": {
      "model_module": "@jupyter-widgets/controls",
      "model_module_version": "1.5.0",
      "model_name": "DropdownModel",
      "state": {
       "_options_labels": [
        "Integer",
        "Float",
        "Bool"
       ],
       "index": 0,
       "layout": "IPY_MODEL_484b8fd868c54a1682e3cd09055dd983",
       "style": "IPY_MODEL_753c6e52572e43189e0c5cb7b2ac8422"
      }
     },
     "d708fb57001d4f8ea81f2ede20e3146a": {
      "model_module": "@jupyter-widgets/controls",
      "model_module_version": "1.5.0",
      "model_name": "VBoxModel",
      "state": {
       "children": [
        "IPY_MODEL_a95a95b9099e4f979166e656f93776ee",
        "IPY_MODEL_4eadb4503064446aaa9b09de3bbf33b3"
       ],
       "layout": "IPY_MODEL_742dc244110b4bdd8c1040e6d4201803"
      }
     },
     "d736f9ff59474e2fbde6d727a08f13f6": {
      "model_module": "@jupyter-widgets/controls",
      "model_module_version": "1.5.0",
      "model_name": "ButtonStyleModel",
      "state": {}
     },
     "d73cf1873c014373bc2c1fe5aecbf45f": {
      "model_module": "@jupyter-widgets/controls",
      "model_module_version": "1.5.0",
      "model_name": "SliderStyleModel",
      "state": {
       "description_width": ""
      }
     },
     "d7491fcbf98547ae97e45969885079fc": {
      "model_module": "@jupyter-widgets/controls",
      "model_module_version": "1.5.0",
      "model_name": "TextModel",
      "state": {
       "continuous_update": false,
       "description": "name",
       "layout": "IPY_MODEL_f90a42a43b1f4bed81fc082672b8e388",
       "style": "IPY_MODEL_cc5772a12a73485e9db4d560e6ed99e5",
       "value": "Polyline2D_0"
      }
     },
     "d7535aae702241fd86b607045fa0824f": {
      "model_module": "@jupyter-widgets/base",
      "model_module_version": "1.2.0",
      "model_name": "LayoutModel",
      "state": {}
     },
     "d753d848f55f4e2b94e8fb42928aeb59": {
      "model_module": "@jupyter-widgets/controls",
      "model_module_version": "1.5.0",
      "model_name": "ColorPickerModel",
      "state": {
       "description": "specular",
       "disabled": false,
       "layout": "IPY_MODEL_fb23ff6df53c4979935c5cfe3bf1f9b7",
       "style": "IPY_MODEL_2ff6e1288e264c2584f333513837f75c",
       "value": "#282828"
      }
     },
     "d78fbcd4a00a4766a04a3fdcc4928a96": {
      "model_module": "@jupyter-widgets/controls",
      "model_module_version": "1.5.0",
      "model_name": "ButtonModel",
      "state": {
       "description": "Delete category",
       "layout": "IPY_MODEL_a8afcf5904674e9cb3c15c68fee60178",
       "style": "IPY_MODEL_f4a50f5f272f4c2ba5416d82cc779470"
      }
     },
     "d791db9c9abd4f01b6f0fc0e44c489d8": {
      "model_module": "@jupyter-widgets/controls",
      "model_module_version": "1.5.0",
      "model_name": "TextModel",
      "state": {
       "continuous_update": false,
       "description": "name",
       "layout": "IPY_MODEL_cd50187ae39d47d09352eac31cabf72a",
       "style": "IPY_MODEL_5028f9bf49fb443a9a1cbb1892e2eaa5",
       "value": "maxorder"
      }
     },
     "d7a6727bd2324bc1ae4f77eb2d08a957": {
      "model_module": "@jupyter-widgets/controls",
      "model_module_version": "1.5.0",
      "model_name": "CheckboxModel",
      "state": {
       "description": "Auto save",
       "disabled": false,
       "layout": "IPY_MODEL_deaf1e6127c04a738ef764a2542eff1b",
       "style": "IPY_MODEL_a48d0b634a9545879f969cffc6d24b13",
       "value": false
      }
     },
     "d7f70790051840ab9d1dcb8f3c7c3bbf": {
      "model_module": "@jupyter-widgets/controls",
      "model_module_version": "1.5.0",
      "model_name": "DescriptionStyleModel",
      "state": {
       "description_width": ""
      }
     },
     "d8136ba8b0b94a508316083bd66d429c": {
      "model_module": "@jupyter-widgets/controls",
      "model_module_version": "1.5.0",
      "model_name": "BoundedIntTextModel",
      "state": {
       "description": "index",
       "layout": "IPY_MODEL_12d98c8458334e21a9e3cd6b09cec97d",
       "style": "IPY_MODEL_610f7650b05c421c99fd9175cb6f82c4",
       "value": 2
      }
     },
     "d815cf04fa1e4602a3eae7b84a7a88e8": {
      "model_module": "@jupyter-widgets/controls",
      "model_module_version": "1.5.0",
      "model_name": "ButtonStyleModel",
      "state": {}
     },
     "d818d18293d24cafa4ca4dbd101d4e2e": {
      "model_module": "@jupyter-widgets/controls",
      "model_module_version": "1.5.0",
      "model_name": "DescriptionStyleModel",
      "state": {
       "description_width": ""
      }
     },
     "d81d61ea7b9e45c684accc7eca1f8bd0": {
      "model_module": "@jupyter-widgets/controls",
      "model_module_version": "1.5.0",
      "model_name": "SliderStyleModel",
      "state": {
       "description_width": ""
      }
     },
     "d83e72dd822f4e30a46ab2b1ccb392b9": {
      "model_module": "@jupyter-widgets/base",
      "model_module_version": "1.2.0",
      "model_name": "LayoutModel",
      "state": {}
     },
     "d86a81dfb35f47f590e7c22764e29eb9": {
      "model_module": "@jupyter-widgets/base",
      "model_module_version": "1.2.0",
      "model_name": "LayoutModel",
      "state": {}
     },
     "d883946023a44ed59423d05c961e71b3": {
      "model_module": "@jupyter-widgets/controls",
      "model_module_version": "1.5.0",
      "model_name": "FloatSliderModel",
      "state": {
       "description": "transparency",
       "layout": "IPY_MODEL_65731830c54441e598c43d1764a538a2",
       "max": 1,
       "step": 0.1,
       "style": "IPY_MODEL_01f8e7becffd4b2dab6e12674ca3f07f"
      }
     },
     "d8d05d5a29a74efe9d2384ef9c0949d6": {
      "model_module": "@jupyter-widgets/controls",
      "model_module_version": "1.5.0",
      "model_name": "FloatTextModel",
      "state": {
       "description": "min",
       "layout": "IPY_MODEL_c860bd1554b0472c85eb2f103d5645a6",
       "step": null,
       "style": "IPY_MODEL_75f428afc0a3423fb7e534bdd51258c5",
       "value": 0.01
      }
     },
     "d8ee38d058ef449f841da3a733066985": {
      "model_module": "@jupyter-widgets/controls",
      "model_module_version": "1.5.0",
      "model_name": "ButtonModel",
      "state": {
       "description": "Add category",
       "layout": "IPY_MODEL_7e8efbd96371439c93796aa025dc2459",
       "style": "IPY_MODEL_6e0f7e8afc03421ca9ad35239807478d"
      }
     },
     "d934065c2df0404c8065622ee241dd96": {
      "model_module": "@jupyter-widgets/controls",
      "model_module_version": "1.5.0",
      "model_name": "ColorPickerModel",
      "state": {
       "description": "ambient",
       "disabled": false,
       "layout": "IPY_MODEL_fdaf5fa5a54f4007a8756ffb7b209215",
       "style": "IPY_MODEL_690f42ae5a094b499d0de205cfa3414f",
       "value": "#c25173"
      }
     },
     "d9369247700e41028695aa03301533a3": {
      "model_module": "@jupyter-widgets/controls",
      "model_module_version": "1.5.0",
      "model_name": "AccordionModel",
      "state": {
       "_titles": {
        "0": "scalars",
        "1": "materials",
        "2": "functions",
        "3": "curves"
       },
       "children": [
        "IPY_MODEL_f039ea0c32604272aa1c50f111f7a4c9",
        "IPY_MODEL_347acaa63eae4e00a4da54a4e5aa293d",
        "IPY_MODEL_dba8e0ab6061420e8b48f4b135b91803",
        "IPY_MODEL_01a4c9607cdf48b8898781b301081a28"
       ],
       "layout": "IPY_MODEL_2efa585c55484aaba68ded69cdb81b15",
       "selected_index": null
      }
     },
     "d93ddd2368b84814a30872f4a70db859": {
      "model_module": "@jupyter-widgets/base",
      "model_module_version": "1.2.0",
      "model_name": "LayoutModel",
      "state": {}
     },
     "d94bccd4ec6140aca10be69aef8e0149": {
      "model_module": "@jupyter-widgets/base",
      "model_module_version": "1.2.0",
      "model_name": "LayoutModel",
      "state": {}
     },
     "d95a440053a049df933468128decce4b": {
      "model_module": "@jupyter-widgets/controls",
      "model_module_version": "1.5.0",
      "model_name": "SliderStyleModel",
      "state": {
       "description_width": ""
      }
     },
     "d99be6308dbb4e52b17a52b5673e464c": {
      "model_module": "@jupyter-widgets/base",
      "model_module_version": "1.2.0",
      "model_name": "LayoutModel",
      "state": {}
     },
     "d9b71651e2e4497eb40d4f0bf556527f": {
      "model_module": "@jupyter-widgets/controls",
      "model_module_version": "1.5.0",
      "model_name": "HBoxModel",
      "state": {
       "children": [
        "IPY_MODEL_dc46966f56364b3d88a735f76b6d6252",
        "IPY_MODEL_01552cc098bb4739882f3ec4dc719ec8"
       ],
       "layout": "IPY_MODEL_38ddb4788197471db84a1a58ec09b8b2"
      }
     },
     "d9fa64f9080840b4a4fcc76aa6cfd4ba": {
      "model_module": "@jupyter-widgets/base",
      "model_module_version": "1.2.0",
      "model_name": "LayoutModel",
      "state": {}
     },
     "da2af70e6cb54a87bfe8aba01f079232": {
      "model_module": "@jupyter-widgets/base",
      "model_module_version": "1.2.0",
      "model_name": "LayoutModel",
      "state": {}
     },
     "da3a03d419374886b33c4a33c7123acc": {
      "model_module": "@jupyter-widgets/controls",
      "model_module_version": "1.5.0",
      "model_name": "ColorPickerModel",
      "state": {
       "description": "emission",
       "disabled": false,
       "layout": "IPY_MODEL_30c661fbb27140d0a16de353c96e7fc7",
       "style": "IPY_MODEL_30913895a05c4efe9297847d5ea8e81b",
       "value": "#1f48db"
      }
     },
     "da4128fa63254e7b93c26fadfff2b431": {
      "model_module": "@jupyter-widgets/controls",
      "model_module_version": "1.5.0",
      "model_name": "SliderStyleModel",
      "state": {
       "description_width": ""
      }
     },
     "da5895349d2b44149c25926ea9102116": {
      "model_module": "@jupyter-widgets/controls",
      "model_module_version": "1.5.0",
      "model_name": "IntTextModel",
      "state": {
       "description": "max",
       "layout": "IPY_MODEL_e6ea0b5e2d744d0ca6bd14b27c292d5e",
       "step": 1,
       "style": "IPY_MODEL_b947c8dbfdf949bc8bec1b73362d16c9",
       "value": 10
      }
     },
     "da7312441c124645a859a4440c5e690a": {
      "model_module": "@jupyter-widgets/controls",
      "model_module_version": "1.5.0",
      "model_name": "AccordionModel",
      "state": {
       "_titles": {
        "0": "options",
        "1": "materials",
        "2": "leaf"
       },
       "children": [
        "IPY_MODEL_29155f13bef442a393b221b6846bc956",
        "IPY_MODEL_2dabfefd7ddd4f7eac82d3513cf3d4c1",
        "IPY_MODEL_dc78887cbf65451da414929cd7c91b7c"
       ],
       "layout": "IPY_MODEL_62deae52a33f40b6b13beb81801d5430"
      }
     },
     "da84931aef8d4c1d954b95f4636a7360": {
      "model_module": "pgljupyter",
      "model_module_version": "^0.1.2",
      "model_name": "IntEditorModel",
      "state": {
       "_model_module_version": "^0.1.2",
       "_view_module_version": "^0.1.2",
       "children": [
        "IPY_MODEL_805ea2c62cea4f389e8cdcaf4d3fa2cb",
        "IPY_MODEL_0cc395aa40e94b989a548febcfdb5e05",
        "IPY_MODEL_525695082907441b9d5fe716c55b2141",
        "IPY_MODEL_1bb3336d4bef4979b9bb018af7f4fdc4",
        "IPY_MODEL_07424825f5c943b4b27c37d747ec046a"
       ],
       "layout": "IPY_MODEL_4b3a9d9aa43144fca24393575055b6a0"
      }
     },
     "dabcaf8551834d1191d28e9c7931d628": {
      "model_module": "pgljupyter",
      "model_module_version": "^0.1.14",
      "model_name": "IntEditorModel",
      "state": {
       "_model_module_version": "^0.1.14",
       "_view_module_version": "^0.1.14",
       "children": [
        "IPY_MODEL_12b092c41ce34f619a03357203c1a0cc",
        "IPY_MODEL_76ad72ce11b4453696a91154127944b3",
        "IPY_MODEL_357b13a66a54461f85c83b5b839d7d28",
        "IPY_MODEL_a3f16a6cbca94073ba02caf0836ffa22",
        "IPY_MODEL_a012abcd6bc74010a12be773710adbaa"
       ],
       "layout": "IPY_MODEL_8414c7b941434c7eb8a7d5c1f8c42b9d"
      }
     },
     "dadc3eec1d7541bca25ddfd26cddbf9c": {
      "model_module": "@jupyter-widgets/base",
      "model_module_version": "1.2.0",
      "model_name": "LayoutModel",
      "state": {}
     },
     "db083b36502a43eab0cf563b9bd73746": {
      "model_module": "@jupyter-widgets/controls",
      "model_module_version": "1.5.0",
      "model_name": "SliderStyleModel",
      "state": {
       "description_width": ""
      }
     },
     "db2c3d17ca504ca5b12bf8431213c47a": {
      "model_module": "@jupyter-widgets/base",
      "model_module_version": "1.2.0",
      "model_name": "LayoutModel",
      "state": {}
     },
     "db31d87ca5bd458cb9dc6cdc2b581278": {
      "model_module": "@jupyter-widgets/controls",
      "model_module_version": "1.5.0",
      "model_name": "DescriptionStyleModel",
      "state": {
       "description_width": ""
      }
     },
     "db4c3609b3594e998f5efdb2721b2014": {
      "model_module": "@jupyter-widgets/base",
      "model_module_version": "1.2.0",
      "model_name": "LayoutModel",
      "state": {}
     },
     "db6605a6e0ee4f75925ce15c464030e2": {
      "model_module": "@jupyter-widgets/base",
      "model_module_version": "1.2.0",
      "model_name": "LayoutModel",
      "state": {}
     },
     "db9786a656f34ac28c504fcbba72adc2": {
      "model_module": "@jupyter-widgets/controls",
      "model_module_version": "1.5.0",
      "model_name": "BoundedIntTextModel",
      "state": {
       "description": "step",
       "layout": "IPY_MODEL_0aa1b06dc5f043478644fff372f306a6",
       "min": 1,
       "style": "IPY_MODEL_d52a4a8134f1480391b2605634851c73",
       "value": 1
      }
     },
     "db99c174f80c4e11afb1a06e36228357": {
      "model_module": "@jupyter-widgets/controls",
      "model_module_version": "1.5.0",
      "model_name": "BoundedIntTextModel",
      "state": {
       "description": "index",
       "layout": "IPY_MODEL_07d9bb8ab52941bd8dcb93c7cdc8d27a",
       "style": "IPY_MODEL_2f2ae84d6e0a4ce28cb9b46fe5dc6734",
       "value": 2
      }
     },
     "dba8e0ab6061420e8b48f4b135b91803": {
      "model_module": "@jupyter-widgets/controls",
      "model_module_version": "1.5.0",
      "model_name": "VBoxModel",
      "state": {
       "children": [
        "IPY_MODEL_2238306649c540a699db292dd4180023",
        "IPY_MODEL_54769b26134a4b46a9dd5a9fb3fe96f0"
       ],
       "layout": "IPY_MODEL_c2f52039c5e94671870caf9530fd4b32"
      }
     },
     "dbad586bb58147e6897aca87cba5932c": {
      "model_module": "@jupyter-widgets/base",
      "model_module_version": "1.2.0",
      "model_name": "LayoutModel",
      "state": {}
     },
     "dbaf90d5970446e487e5f643041a9b19": {
      "model_module": "@jupyter-widgets/controls",
      "model_module_version": "1.5.0",
      "model_name": "IntSliderModel",
      "state": {
       "description": "value",
       "layout": "IPY_MODEL_587b1dffe6b24823be3ef953d7ec9603",
       "max": 10,
       "min": 1,
       "style": "IPY_MODEL_47afa44d41864f5d83f07650c61ec59f",
       "value": 3
      }
     },
     "dc1c563d342944eaa299bfa37de8cde0": {
      "model_module": "@jupyter-widgets/controls",
      "model_module_version": "1.5.0",
      "model_name": "DescriptionStyleModel",
      "state": {
       "description_width": ""
      }
     },
     "dc46966f56364b3d88a735f76b6d6252": {
      "model_module": "@jupyter-widgets/controls",
      "model_module_version": "1.5.0",
      "model_name": "ButtonModel",
      "state": {
       "description": "Add",
       "layout": "IPY_MODEL_a5b19a4d1f704db9af915e12ec2ced02",
       "style": "IPY_MODEL_4ade1c185619410ba023ba5776236f1d"
      }
     },
     "dc6aaa49edae4ee0a2076a316cb680a5": {
      "model_module": "@jupyter-widgets/base",
      "model_module_version": "1.2.0",
      "model_name": "LayoutModel",
      "state": {}
     },
     "dc78887cbf65451da414929cd7c91b7c": {
      "model_module": "@jupyter-widgets/controls",
      "model_module_version": "1.5.0",
      "model_name": "VBoxModel",
      "state": {
       "children": [
        "IPY_MODEL_ee6320aebd6c4f979ca54ea3eb66adf6",
        "IPY_MODEL_a4fa7ee9cac145eeaefbeb889426714b",
        "IPY_MODEL_fc4a3b0a28974c0387dfb19294949f65",
        "IPY_MODEL_62ec89cc0dd34f1285be7721c7c1a81f",
        "IPY_MODEL_8e9eadb874e74667b49b67960eb2b573"
       ],
       "layout": "IPY_MODEL_68706a1111d3487ebdb00d305a329564"
      }
     },
     "dc93e065fc0b494a9a9f6ed34b82a08a": {
      "model_module": "@jupyter-widgets/controls",
      "model_module_version": "1.5.0",
      "model_name": "IntSliderModel",
      "state": {
       "description": "value",
       "layout": "IPY_MODEL_26313b1b0e774a5c9296c77a9fb42f6f",
       "max": 10,
       "min": 1,
       "style": "IPY_MODEL_12f7c4ba0f6d4b888ba73f16f369a10a",
       "value": 8
      }
     },
     "dc97f2b89053407e94e886a87cb5eb6b": {
      "model_module": "@jupyter-widgets/controls",
      "model_module_version": "1.5.0",
      "model_name": "IntTextModel",
      "state": {
       "description": "max",
       "layout": "IPY_MODEL_2e6fdecb680e44eab31fbab1ebfe7703",
       "step": 1,
       "style": "IPY_MODEL_776b369c935b4b23a7d6651a4cec65fa",
       "value": 10
      }
     },
     "dcc692a1e723402b8515dab5a7fae469": {
      "model_module": "@jupyter-widgets/controls",
      "model_module_version": "1.5.0",
      "model_name": "DescriptionStyleModel",
      "state": {
       "description_width": ""
      }
     },
     "dd102dc49a7246f4bde5beafb66f73bc": {
      "model_module": "@jupyter-widgets/controls",
      "model_module_version": "1.5.0",
      "model_name": "HBoxModel",
      "state": {
       "children": [
        "IPY_MODEL_d78fbcd4a00a4766a04a3fdcc4928a96"
       ],
       "layout": "IPY_MODEL_dd33ed74409b4c0795183b005c20d306"
      }
     },
     "dd33ed74409b4c0795183b005c20d306": {
      "model_module": "@jupyter-widgets/base",
      "model_module_version": "1.2.0",
      "model_name": "LayoutModel",
      "state": {
       "flex_flow": "row wrap",
       "margin": "20px"
      }
     },
     "dd72025c1e3449dcbda94bf41b2283c2": {
      "model_module": "@jupyter-widgets/controls",
      "model_module_version": "1.5.0",
      "model_name": "ButtonStyleModel",
      "state": {}
     },
     "dd756382441c405cb77e16e203e7f887": {
      "model_module": "@jupyter-widgets/base",
      "model_module_version": "1.2.0",
      "model_name": "LayoutModel",
      "state": {}
     },
     "dd8cbc2eaaeb415dbc538b88d4e53a59": {
      "model_module": "pgljupyter",
      "model_module_version": "^0.1.2",
      "model_name": "IntEditorModel",
      "state": {
       "_model_module_version": "^0.1.2",
       "_view_module_version": "^0.1.2",
       "children": [
        "IPY_MODEL_cf6091e0273242ae91488af7bed1c9b8",
        "IPY_MODEL_777034ee9c8848ce81cea022bafe8d9a",
        "IPY_MODEL_abdee7edd55249719f1a4066ecbd2150",
        "IPY_MODEL_4f98121246334297a02fb360aff2e606",
        "IPY_MODEL_cceb5c3176fc4d4391580243e90f5c8d"
       ],
       "layout": "IPY_MODEL_02a74f7bceb840a7a578defaea9f85bd"
      }
     },
     "ddaa22057bde46fe9787ccc3be7c1bcd": {
      "model_module": "@jupyter-widgets/base",
      "model_module_version": "1.2.0",
      "model_name": "LayoutModel",
      "state": {}
     },
     "de0b48a6cb134fff9766d15989761c4a": {
      "model_module": "@jupyter-widgets/controls",
      "model_module_version": "1.5.0",
      "model_name": "ButtonStyleModel",
      "state": {}
     },
     "de40add93b8a4b35b57878f54f78831a": {
      "model_module": "@jupyter-widgets/base",
      "model_module_version": "1.2.0",
      "model_name": "LayoutModel",
      "state": {}
     },
     "de4f8356b53a4020880a9d2e97d68ef3": {
      "model_module": "@jupyter-widgets/controls",
      "model_module_version": "1.5.0",
      "model_name": "DescriptionStyleModel",
      "state": {
       "description_width": ""
      }
     },
     "de936a5db9144991901ed6d1825827c1": {
      "model_module": "@jupyter-widgets/base",
      "model_module_version": "1.2.0",
      "model_name": "LayoutModel",
      "state": {}
     },
     "deaf1e6127c04a738ef764a2542eff1b": {
      "model_module": "@jupyter-widgets/base",
      "model_module_version": "1.2.0",
      "model_name": "LayoutModel",
      "state": {}
     },
     "df586ff38e6d4b7999878b6b5fd724cc": {
      "model_module": "@jupyter-widgets/controls",
      "model_module_version": "1.5.0",
      "model_name": "TabModel",
      "state": {
       "_titles": {
        "0": "leuwenberg.json"
       },
       "children": [
        "IPY_MODEL_ed7d8c3f1ace494db1bedeb30e2083f7"
       ],
       "layout": "IPY_MODEL_d52733beff484a4bbc5178e5dc98c84f"
      }
     },
     "df58d07e8a294d0fa7e7066be5191571": {
      "model_module": "@jupyter-widgets/base",
      "model_module_version": "1.2.0",
      "model_name": "LayoutModel",
      "state": {
       "margin": "20px 0px"
      }
     },
     "df95ab311aec4dfa843cb14b58334dec": {
      "model_module": "@jupyter-widgets/controls",
      "model_module_version": "1.5.0",
      "model_name": "DescriptionStyleModel",
      "state": {
       "description_width": ""
      }
     },
     "dfb6de20b2d040d389489361ab6b5b90": {
      "model_module": "@jupyter-widgets/controls",
      "model_module_version": "1.5.0",
      "model_name": "BoundedIntTextModel",
      "state": {
       "description": "index",
       "layout": "IPY_MODEL_6526d94e31d541bf82341883da088798",
       "style": "IPY_MODEL_f7bc81beab154e9e9e68dc0ef851e9f4",
       "value": 4
      }
     },
     "dfd526526e204be88fd05e05ac6a58cf": {
      "model_module": "@jupyter-widgets/base",
      "model_module_version": "1.2.0",
      "model_name": "LayoutModel",
      "state": {}
     },
     "e0d3b484200b4472a943c361ea5e1294": {
      "model_module": "@jupyter-widgets/base",
      "model_module_version": "1.2.0",
      "model_name": "LayoutModel",
      "state": {}
     },
     "e0fe7799410b49c6918278e53e30b819": {
      "model_module": "pgljupyter",
      "model_module_version": "^0.1.2",
      "model_name": "CurveEditorModel",
      "state": {
       "_model_module_version": "^0.1.2",
       "_view_module_version": "^0.1.2",
       "children": [
        "IPY_MODEL_ea4c650ac81c44fdaf31b1d9eebdfd74",
        "IPY_MODEL_5fcc45e79e4548fd9842f2b10f8450e1"
       ],
       "layout": "IPY_MODEL_996caf2446e9407b9b792dca3f37a21f"
      }
     },
     "e124b9fefb784a3bad65373e1ef9c403": {
      "model_module": "@jupyter-widgets/controls",
      "model_module_version": "1.5.0",
      "model_name": "SliderStyleModel",
      "state": {
       "description_width": ""
      }
     },
     "e156370312ca44d5b9eaffa7beeb1c52": {
      "model_module": "@jupyter-widgets/controls",
      "model_module_version": "1.5.0",
      "model_name": "ButtonModel",
      "state": {
       "description": "Add",
       "layout": "IPY_MODEL_a76bae76a03543469d6f1e10f6d263cb",
       "style": "IPY_MODEL_d815cf04fa1e4602a3eae7b84a7a88e8"
      }
     },
     "e19f14bb08ff456580c755956fa0c7e1": {
      "model_module": "@jupyter-widgets/controls",
      "model_module_version": "1.5.0",
      "model_name": "DescriptionStyleModel",
      "state": {
       "description_width": ""
      }
     },
     "e1ab7903552947558c2f9def1fa24f2a": {
      "model_module": "@jupyter-widgets/base",
      "model_module_version": "1.2.0",
      "model_name": "LayoutModel",
      "state": {
       "margin": "20px 0px"
      }
     },
     "e1d8481c897f4febb51664392ed71944": {
      "model_module": "@jupyter-widgets/controls",
      "model_module_version": "1.5.0",
      "model_name": "DescriptionStyleModel",
      "state": {
       "description_width": ""
      }
     },
     "e202f552d4a24fbbae5bf3a8236edbdd": {
      "model_module": "@jupyter-widgets/controls",
      "model_module_version": "1.5.0",
      "model_name": "DescriptionStyleModel",
      "state": {
       "description_width": ""
      }
     },
     "e22c85174a2a4a7ba7797cf1f39856bf": {
      "model_module": "@jupyter-widgets/controls",
      "model_module_version": "1.5.0",
      "model_name": "HBoxModel",
      "state": {
       "layout": "IPY_MODEL_1bcadc721303432abe9c782e04d39bdb"
      }
     },
     "e27e310bc1fb461e9c092cb5a0110240": {
      "model_module": "@jupyter-widgets/controls",
      "model_module_version": "1.5.0",
      "model_name": "DescriptionStyleModel",
      "state": {
       "description_width": ""
      }
     },
     "e3071eba15a74f3fb224da653c0acb19": {
      "model_module": "@jupyter-widgets/controls",
      "model_module_version": "1.5.0",
      "model_name": "HBoxModel",
      "state": {
       "children": [
        "IPY_MODEL_578316b91d17484a80132ba6fadd8e4d",
        "IPY_MODEL_48c1f53971054738990806ae620d7667"
       ],
       "layout": "IPY_MODEL_d5974bbba58d48d682cb09b34e264de7"
      }
     },
     "e37d89d33f5247fabb4c5bd3180c3585": {
      "model_module": "@jupyter-widgets/controls",
      "model_module_version": "1.5.0",
      "model_name": "BoundedIntTextModel",
      "state": {
       "description": "index",
       "layout": "IPY_MODEL_4f50c35ffadf4ec98dad9f907df989f7",
       "style": "IPY_MODEL_83b6503ca459477ca4b512f54b246da1",
       "value": 4
      }
     },
     "e38a5927e6934a1eb8de6edff55adc76": {
      "model_module": "@jupyter-widgets/controls",
      "model_module_version": "1.5.0",
      "model_name": "FloatSliderModel",
      "state": {
       "description": "transparency",
       "layout": "IPY_MODEL_8d72828213d54034baa081e13312c7e8",
       "max": 1,
       "step": 0.1,
       "style": "IPY_MODEL_c77747e99e2248869202f774aa46d72e",
       "value": 1
      }
     },
     "e3ca09485f8f45a38649ee0f2bdcfb30": {
      "model_module": "@jupyter-widgets/controls",
      "model_module_version": "1.5.0",
      "model_name": "DescriptionStyleModel",
      "state": {
       "description_width": ""
      }
     },
     "e4281dffb1a34b929dccf11abee4c9b0": {
      "model_module": "@jupyter-widgets/base",
      "model_module_version": "1.2.0",
      "model_name": "LayoutModel",
      "state": {}
     },
     "e44c3a9a37614eeb88bf81b14bbc07fd": {
      "model_module": "@jupyter-widgets/base",
      "model_module_version": "1.2.0",
      "model_name": "LayoutModel",
      "state": {}
     },
     "e4bda8110a6f4eb5951c91a6a55e12fc": {
      "model_module": "@jupyter-widgets/base",
      "model_module_version": "1.2.0",
      "model_name": "LayoutModel",
      "state": {}
     },
     "e4c3ae23f2c148a1905e022a86917212": {
      "model_module": "pgljupyter",
      "model_module_version": "^0.1.14",
      "model_name": "MaterialEditorModel",
      "state": {
       "_model_module_version": "^0.1.14",
       "_view_module_version": "^0.1.14",
       "children": [
        "IPY_MODEL_ff8282e99e1b4b10835d79c69aa461af",
        "IPY_MODEL_59c51570d1884b5ba5083077f9f5b157",
        "IPY_MODEL_8ad51eb776394b4a93dbc7a1dfb9d73e",
        "IPY_MODEL_3757368916f448ea8908a387c8d15320",
        "IPY_MODEL_7d4964c39942453d80f2b8c6293410d3",
        "IPY_MODEL_5b304100eebf4a1f9391c0dd6994324b",
        "IPY_MODEL_6cf7e2888639439eba947cbc9d3a0949"
       ],
       "layout": "IPY_MODEL_f0f0dc70897a49ec9f905e9fe61d4c36"
      }
     },
     "e4c4383d338c4f9f97d40c892dd6df0b": {
      "model_module": "@jupyter-widgets/controls",
      "model_module_version": "1.5.0",
      "model_name": "DescriptionStyleModel",
      "state": {
       "description_width": ""
      }
     },
     "e4d183dca0944a01b23d4f4e77be074e": {
      "model_module": "@jupyter-widgets/controls",
      "model_module_version": "1.5.0",
      "model_name": "DescriptionStyleModel",
      "state": {
       "description_width": ""
      }
     },
     "e4ed2a8cf83f4a3f8f4c15b9e43983af": {
      "model_module": "@jupyter-widgets/base",
      "model_module_version": "1.2.0",
      "model_name": "LayoutModel",
      "state": {}
     },
     "e4ef16ba9f8d4ae8825c801d11eb33ba": {
      "model_module": "@jupyter-widgets/controls",
      "model_module_version": "1.5.0",
      "model_name": "TextModel",
      "state": {
       "continuous_update": false,
       "description": "name",
       "layout": "IPY_MODEL_ba48b67039584cd4a738aff600735696",
       "style": "IPY_MODEL_e19f14bb08ff456580c755956fa0c7e1",
       "value": "color_4"
      }
     },
     "e553c2f8eeb9415c82b98e1a6115e9d8": {
      "model_module": "@jupyter-widgets/controls",
      "model_module_version": "1.5.0",
      "model_name": "DescriptionStyleModel",
      "state": {
       "description_width": ""
      }
     },
     "e5933bb77a9d413a9d681c31c7d59d46": {
      "model_module": "@jupyter-widgets/controls",
      "model_module_version": "1.5.0",
      "model_name": "ButtonModel",
      "state": {
       "description": "Add",
       "layout": "IPY_MODEL_211b1b5d82264938ace5ce2c20caba9b",
       "style": "IPY_MODEL_c8f7c0c083654692bcaf39f7ed6f4596"
      }
     },
     "e5e3ace6dc704e5aafec173d9f05163d": {
      "model_module": "@jupyter-widgets/controls",
      "model_module_version": "1.5.0",
      "model_name": "FloatSliderModel",
      "state": {
       "description": "diffuse",
       "layout": "IPY_MODEL_76df08ea6d28482b8c1f8e499825360f",
       "max": 1,
       "step": 0.1,
       "style": "IPY_MODEL_5dfb04fd42f143819e97dabdc39b2d5f",
       "value": 1
      }
     },
     "e5e553e6acfa43be9690659edc56b638": {
      "model_module": "@jupyter-widgets/controls",
      "model_module_version": "1.5.0",
      "model_name": "VBoxModel",
      "state": {
       "children": [
        "IPY_MODEL_beffbb3f77dd4d94aef20d7baaf0b0b4",
        "IPY_MODEL_038dd9c257d341c099569c1521bb00f1"
       ],
       "layout": "IPY_MODEL_358645419ea648e0a94f01980055f440"
      }
     },
     "e6ea0b5e2d744d0ca6bd14b27c292d5e": {
      "model_module": "@jupyter-widgets/base",
      "model_module_version": "1.2.0",
      "model_name": "LayoutModel",
      "state": {}
     },
     "e6f7999a813c4addbdf894e262c9168f": {
      "model_module": "pgljupyter",
      "model_module_version": "^0.1.14",
      "model_name": "MaterialEditorModel",
      "state": {
       "_model_module_version": "^0.1.14",
       "_view_module_version": "^0.1.14",
       "children": [
        "IPY_MODEL_823f7f7401fd4f2db5bafaecaddc2207",
        "IPY_MODEL_bfebe2c916cd4f94ba35b732dbd68fc0",
        "IPY_MODEL_688fe3d73f9c4ca091ec59245c5a6eb0",
        "IPY_MODEL_f5a61e07ca2547a48dc488b02d2e4866",
        "IPY_MODEL_97d0ec30cb08453f949f7b6111f45ad9",
        "IPY_MODEL_49d765156c8d405a9d5045aaad000d89",
        "IPY_MODEL_b8a341e1224a48b5bd5cc9f85ff9b22c"
       ],
       "layout": "IPY_MODEL_d11ae994789144a783cc4f4ae6406755"
      }
     },
     "e7029c8f593c45218835e45c08d07b99": {
      "model_module": "@jupyter-widgets/base",
      "model_module_version": "1.2.0",
      "model_name": "LayoutModel",
      "state": {}
     },
     "e7259c5497f84e1aab37519dbcad93ac": {
      "model_module": "@jupyter-widgets/controls",
      "model_module_version": "1.5.0",
      "model_name": "BoundedIntTextModel",
      "state": {
       "description": "index",
       "layout": "IPY_MODEL_87ce8cc41c754ca18695a557906ccd97",
       "style": "IPY_MODEL_781cd7a79eca47c28f53b15c879b677d",
       "value": 3
      }
     },
     "e726edc415ce408287086d7be2efd682": {
      "model_module": "@jupyter-widgets/controls",
      "model_module_version": "1.5.0",
      "model_name": "DescriptionStyleModel",
      "state": {
       "description_width": ""
      }
     },
     "e7d57c4c8c8a4814a66792e624eab80b": {
      "model_module": "@jupyter-widgets/controls",
      "model_module_version": "1.5.0",
      "model_name": "DropdownModel",
      "state": {
       "_options_labels": [
        "Integer",
        "Float",
        "Bool"
       ],
       "index": 0,
       "layout": "IPY_MODEL_c40d91bd421049d38bc8e192e39e9122",
       "style": "IPY_MODEL_07222ec0cc5f4b80ac8b7e5edc408fd8"
      }
     },
     "e8085364e31d455da333f395d8708b18": {
      "model_module": "@jupyter-widgets/controls",
      "model_module_version": "1.5.0",
      "model_name": "FloatSliderModel",
      "state": {
       "description": "transparency",
       "layout": "IPY_MODEL_ab842bdc36b84649bdf23c718ad661b1",
       "max": 1,
       "step": 0.1,
       "style": "IPY_MODEL_30ea76a55acd406bad8fb7188aff0f41",
       "value": 1
      }
     },
     "e814128cb3ca406599575becc4a69bc2": {
      "model_module": "@jupyter-widgets/base",
      "model_module_version": "1.2.0",
      "model_name": "LayoutModel",
      "state": {}
     },
     "e8399564e03e4c88bfaaaad19c92859c": {
      "model_module": "@jupyter-widgets/controls",
      "model_module_version": "1.5.0",
      "model_name": "HBoxModel",
      "state": {
       "layout": "IPY_MODEL_dd33ed74409b4c0795183b005c20d306"
      }
     },
     "e83dc2353dde47c89a318c26129fe28f": {
      "model_module": "@jupyter-widgets/controls",
      "model_module_version": "1.5.0",
      "model_name": "ButtonStyleModel",
      "state": {}
     },
     "e8a1293c8e404f6fbab9134c12c64ea0": {
      "model_module": "pgljupyter",
      "model_module_version": "^0.1.14",
      "model_name": "MaterialEditorModel",
      "state": {
       "_model_module_version": "^0.1.14",
       "_view_module_version": "^0.1.14",
       "children": [
        "IPY_MODEL_6f61998e94984f5c87005739e4ef1539",
        "IPY_MODEL_5a0bb9f3a4c444d397509b0db43feacb",
        "IPY_MODEL_bc3a69f7dd4a4502ac15812f3b77ce57",
        "IPY_MODEL_e991c2116460414daf97e00a6b182f02",
        "IPY_MODEL_41b11a902f0b4b40b04420b38c31311f",
        "IPY_MODEL_22a056bc617349faa4d46a4d6716fdc2",
        "IPY_MODEL_bc8843dead4445a69000087749f7c98e"
       ],
       "layout": "IPY_MODEL_d0ec2f38f17a4341b610533ca10507f5"
      }
     },
     "e932545f5a6741aba1e8ae82ce2fcd9d": {
      "model_module": "@jupyter-widgets/base",
      "model_module_version": "1.2.0",
      "model_name": "LayoutModel",
      "state": {}
     },
     "e9776a2fa8824edb88f935c9499d6e4a": {
      "model_module": "@jupyter-widgets/base",
      "model_module_version": "1.2.0",
      "model_name": "LayoutModel",
      "state": {}
     },
     "e991c2116460414daf97e00a6b182f02": {
      "model_module": "@jupyter-widgets/controls",
      "model_module_version": "1.5.0",
      "model_name": "ColorPickerModel",
      "state": {
       "description": "specular",
       "disabled": false,
       "layout": "IPY_MODEL_fb8fa78d37ab4f5eabf718eac7a950f5",
       "style": "IPY_MODEL_0ed504f05672436b8bc3cfae1bbaa9b0",
       "value": "#282828"
      }
     },
     "e9a35bdd82414d47ad0f97d860c1798a": {
      "model_module": "@jupyter-widgets/base",
      "model_module_version": "1.2.0",
      "model_name": "LayoutModel",
      "state": {}
     },
     "e9a9f6fca3b84589a232b1138b72fa62": {
      "model_module": "@jupyter-widgets/controls",
      "model_module_version": "1.5.0",
      "model_name": "FloatSliderModel",
      "state": {
       "description": "shininess",
       "layout": "IPY_MODEL_1a573eadc9614551b2751a0416609504",
       "max": 1,
       "step": 0.1,
       "style": "IPY_MODEL_bc0183c58b444802a552b4adb9c91726",
       "value": 0.5
      }
     },
     "ea4c650ac81c44fdaf31b1d9eebdfd74": {
      "model_module": "@jupyter-widgets/controls",
      "model_module_version": "1.5.0",
      "model_name": "TextModel",
      "state": {
       "continuous_update": false,
       "description": "name",
       "layout": "IPY_MODEL_4ab95f25721548e9a6f9af0e22f82169",
       "style": "IPY_MODEL_1025d095d9fd45ac972ac75098ab94e7",
       "value": "NurbsCurve2D_1"
      }
     },
     "ea7885aa88c346e4ad852d6891676205": {
      "model_module": "@jupyter-widgets/base",
      "model_module_version": "1.2.0",
      "model_name": "LayoutModel",
      "state": {}
     },
     "ea946b50bbd743e3a866b07dd18678df": {
      "model_module": "pgljupyter",
      "model_module_version": "^0.1.2",
      "model_name": "CurveEditorModel",
      "state": {
       "_model_module_version": "^0.1.2",
       "_view_module_version": "^0.1.2",
       "children": [
        "IPY_MODEL_0517c90068cf49819b0878b929df6a97",
        "IPY_MODEL_78ba74ff3c3846c2b2a4b37a28c0386a"
       ],
       "layout": "IPY_MODEL_c55c011e738a41e3bfd9ff758ced3850"
      }
     },
     "eb2e69115216423890bbf2deae806d03": {
      "model_module": "@jupyter-widgets/controls",
      "model_module_version": "1.5.0",
      "model_name": "DescriptionStyleModel",
      "state": {
       "description_width": ""
      }
     },
     "eb67f0405c4a4a21ac1e3795da1d65b8": {
      "model_module": "@jupyter-widgets/base",
      "model_module_version": "1.2.0",
      "model_name": "LayoutModel",
      "state": {}
     },
     "eb925bb2ec044a0e94904c75d2959be6": {
      "model_module": "@jupyter-widgets/controls",
      "model_module_version": "1.5.0",
      "model_name": "ColorPickerModel",
      "state": {
       "description": "ambient",
       "disabled": false,
       "layout": "IPY_MODEL_649d1541de7b46a0b1ee576e245cf092",
       "style": "IPY_MODEL_339bb7c5bbd24525889f6050716638c6",
       "value": "#e1a014"
      }
     },
     "ebb168363859428c910fbb683a4d6956": {
      "model_module": "@jupyter-widgets/base",
      "model_module_version": "1.2.0",
      "model_name": "LayoutModel",
      "state": {}
     },
     "ec24f35bb3fa42c4a49afed0c7c8655d": {
      "model_module": "@jupyter-widgets/controls",
      "model_module_version": "1.5.0",
      "model_name": "DropdownModel",
      "state": {
       "_options_labels": [
        "leafduration",
        "leafold",
        "maxorder",
        "radinc"
       ],
       "index": 0,
       "layout": "IPY_MODEL_7d94c059507f42e4aa7fdbe39beb4a2a",
       "style": "IPY_MODEL_5033c64811d044d4bfb1668fefbe13dd"
      }
     },
     "ec2d883dccfb49909c2358463c0faa7b": {
      "model_module": "@jupyter-widgets/controls",
      "model_module_version": "1.5.0",
      "model_name": "BoundedIntTextModel",
      "state": {
       "description": "step",
       "layout": "IPY_MODEL_581ab15f304f4f8ba447fe3701cf54b1",
       "min": 1,
       "style": "IPY_MODEL_18c0fca902124468aca6bdc66c67ae6f",
       "value": 1
      }
     },
     "ec674bd006ba488bbcb7fb4fcf6d4c3b": {
      "model_module": "@jupyter-widgets/controls",
      "model_module_version": "1.5.0",
      "model_name": "DescriptionStyleModel",
      "state": {
       "description_width": ""
      }
     },
     "ec6f227e1d1849c6b081b477e8c87086": {
      "model_module": "@jupyter-widgets/controls",
      "model_module_version": "1.5.0",
      "model_name": "TextModel",
      "state": {
       "continuous_update": false,
       "description": "name",
       "layout": "IPY_MODEL_dfd526526e204be88fd05e05ac6a58cf",
       "style": "IPY_MODEL_fa8055adf8ff43bfa13760cfa502d0d1",
       "value": "color_4"
      }
     },
     "eccd43c489a64d5aa4b4c024b715aa19": {
      "model_module": "@jupyter-widgets/base",
      "model_module_version": "1.2.0",
      "model_name": "LayoutModel",
      "state": {}
     },
     "ecf696d417284f0cb878728b147b5e1a": {
      "model_module": "@jupyter-widgets/base",
      "model_module_version": "1.2.0",
      "model_name": "LayoutModel",
      "state": {}
     },
     "ed50075832b64beaaa7bbefb48f81c6a": {
      "model_module": "@jupyter-widgets/base",
      "model_module_version": "1.2.0",
      "model_name": "LayoutModel",
      "state": {
       "flex_flow": "row wrap",
       "margin": "20px"
      }
     },
     "ed77f043f57c453185e88f41eb97980c": {
      "model_module": "@jupyter-widgets/base",
      "model_module_version": "1.2.0",
      "model_name": "LayoutModel",
      "state": {}
     },
     "ed7d8c3f1ace494db1bedeb30e2083f7": {
      "model_module": "@jupyter-widgets/controls",
      "model_module_version": "1.5.0",
      "model_name": "AccordionModel",
      "state": {
       "_titles": {
        "0": "options",
        "1": "materials",
        "2": "leaf"
       },
       "children": [
        "IPY_MODEL_9759350451f2440eb8c617e8c4db008e",
        "IPY_MODEL_f04de95740a2422499f536046c2c6e6a",
        "IPY_MODEL_6f2e26f0127f4983ba530655f3eb5810"
       ],
       "layout": "IPY_MODEL_dadc3eec1d7541bca25ddfd26cddbf9c"
      }
     },
     "ee2e3e4b8e134b2f9faf01615d057f6b": {
      "model_module": "@jupyter-widgets/base",
      "model_module_version": "1.2.0",
      "model_name": "LayoutModel",
      "state": {}
     },
     "ee6320aebd6c4f979ca54ea3eb66adf6": {
      "model_module": "@jupyter-widgets/controls",
      "model_module_version": "1.5.0",
      "model_name": "HBoxModel",
      "state": {
       "children": [
        "IPY_MODEL_46bdc2ae0d2545468a3d1f00ad7a90d8"
       ],
       "layout": "IPY_MODEL_1bcadc721303432abe9c782e04d39bdb"
      }
     },
     "eeab74f6f1a84721a8eb814d0d0499fc": {
      "model_module": "@jupyter-widgets/controls",
      "model_module_version": "1.5.0",
      "model_name": "DescriptionStyleModel",
      "state": {
       "description_width": ""
      }
     },
     "eeb63f88ae9c40f29096db1ae83b5a51": {
      "model_module": "@jupyter-widgets/controls",
      "model_module_version": "1.5.0",
      "model_name": "ButtonStyleModel",
      "state": {}
     },
     "ef18229753c341b4962d7bb849727b97": {
      "model_module": "@jupyter-widgets/controls",
      "model_module_version": "1.5.0",
      "model_name": "ButtonStyleModel",
      "state": {}
     },
     "ef252b502441432d8ac2b0627de04cbc": {
      "model_module": "@jupyter-widgets/controls",
      "model_module_version": "1.5.0",
      "model_name": "SliderStyleModel",
      "state": {
       "description_width": ""
      }
     },
     "efc1cd658d3f4881a655c0b83075e384": {
      "model_module": "@jupyter-widgets/base",
      "model_module_version": "1.2.0",
      "model_name": "LayoutModel",
      "state": {}
     },
     "f039ea0c32604272aa1c50f111f7a4c9": {
      "model_module": "@jupyter-widgets/controls",
      "model_module_version": "1.5.0",
      "model_name": "VBoxModel",
      "state": {
       "children": [
        "IPY_MODEL_11eb943263dd4960811ae0dbed24247c",
        "IPY_MODEL_2b6d029d3363436bb4c3867096c43514"
       ],
       "layout": "IPY_MODEL_b882c7f790744974bc9b924e675cb756"
      }
     },
     "f04de95740a2422499f536046c2c6e6a": {
      "model_module": "@jupyter-widgets/controls",
      "model_module_version": "1.5.0",
      "model_name": "VBoxModel",
      "state": {
       "children": [
        "IPY_MODEL_a23073ceec6a47929aa7b3d0538b3483",
        "IPY_MODEL_151c5acb043a4b0eabbac8165dd9cdf6"
       ],
       "layout": "IPY_MODEL_21c27605f42644a490d05b3ed9f9cec4"
      }
     },
     "f07b9cc7bedd486eab67bbefbe1b3a81": {
      "model_module": "@jupyter-widgets/controls",
      "model_module_version": "1.5.0",
      "model_name": "SliderStyleModel",
      "state": {
       "description_width": ""
      }
     },
     "f0961c83040b4faa9cfb09490c929cd8": {
      "model_module": "pgljupyter",
      "model_module_version": "^0.1.14",
      "model_name": "MaterialEditorModel",
      "state": {
       "_model_module_version": "^0.1.14",
       "_view_module_version": "^0.1.14",
       "children": [
        "IPY_MODEL_e4ef16ba9f8d4ae8825c801d11eb33ba",
        "IPY_MODEL_e37d89d33f5247fabb4c5bd3180c3585",
        "IPY_MODEL_c02e8c51acb34c9b8b213918ea70a048",
        "IPY_MODEL_bb5ac557aecb46c7a9fb3b7bdbb416bb",
        "IPY_MODEL_6495fb9303f84d9d9cd2f2cf5993fe8a",
        "IPY_MODEL_adca9ba348e94354a3cf31ef02d84a10",
        "IPY_MODEL_6e85a9dd258a4f508f3a7f21debce42f"
       ],
       "layout": "IPY_MODEL_fd617d728797461ca9d92339725aed47"
      }
     },
     "f0caa55e5c1c4f47b491d8bc9349488f": {
      "model_module": "@jupyter-widgets/controls",
      "model_module_version": "1.5.0",
      "model_name": "DescriptionStyleModel",
      "state": {
       "description_width": ""
      }
     },
     "f0f0dc70897a49ec9f905e9fe61d4c36": {
      "model_module": "@jupyter-widgets/base",
      "model_module_version": "1.2.0",
      "model_name": "LayoutModel",
      "state": {
       "margin": "20px 0px"
      }
     },
     "f16cdc3e967e4e5181ff48b1be8bffe5": {
      "model_module": "@jupyter-widgets/base",
      "model_module_version": "1.2.0",
      "model_name": "LayoutModel",
      "state": {}
     },
     "f185c916dcb14fa48e134838b90ee266": {
      "model_module": "@jupyter-widgets/controls",
      "model_module_version": "1.5.0",
      "model_name": "ColorPickerModel",
      "state": {
       "description": "emission",
       "disabled": false,
       "layout": "IPY_MODEL_7007a25b0d9d449f82f3f6c626257ee5",
       "style": "IPY_MODEL_cc5944add9d34806bcf3e19b3041f41d",
       "value": "#1f48db"
      }
     },
     "f1b9ba91cef44e479644b35df0a07274": {
      "model_module": "@jupyter-widgets/controls",
      "model_module_version": "1.5.0",
      "model_name": "DescriptionStyleModel",
      "state": {
       "description_width": ""
      }
     },
     "f1da8e947dae44a7b24d03068a46ef84": {
      "model_module": "@jupyter-widgets/base",
      "model_module_version": "1.2.0",
      "model_name": "LayoutModel",
      "state": {}
     },
     "f20df92cf03a414892fbe668a47eff5a": {
      "model_module": "@jupyter-widgets/controls",
      "model_module_version": "1.5.0",
      "model_name": "IntTextModel",
      "state": {
       "description": "min",
       "layout": "IPY_MODEL_d3d970b567e94c44bde3be02c211095b",
       "step": 1,
       "style": "IPY_MODEL_7db211d4f55a4b929b4d71d4bd1279c9",
       "value": 1
      }
     },
     "f2909bc6d4ee462c956bfd2358ba855f": {
      "model_module": "@jupyter-widgets/base",
      "model_module_version": "1.2.0",
      "model_name": "LayoutModel",
      "state": {}
     },
     "f2f138d092e349ff9f1591f7b5cb6e5c": {
      "model_module": "@jupyter-widgets/controls",
      "model_module_version": "1.5.0",
      "model_name": "DescriptionStyleModel",
      "state": {
       "description_width": ""
      }
     },
     "f34b929398a24b469d2d633e8cbf34a2": {
      "model_module": "@jupyter-widgets/controls",
      "model_module_version": "1.5.0",
      "model_name": "ColorPickerModel",
      "state": {
       "description": "ambient",
       "disabled": false,
       "layout": "IPY_MODEL_425f0c41e24249038f40431856835760",
       "style": "IPY_MODEL_54e18e6488554c9eb34ba05898de159c",
       "value": "#604d3e"
      }
     },
     "f3575942fc0a42a398ac1f9fa3cd7631": {
      "model_module": "@jupyter-widgets/base",
      "model_module_version": "1.2.0",
      "model_name": "LayoutModel",
      "state": {}
     },
     "f36ebe8df9b842f4971cd6c4aa9c3d8d": {
      "model_module": "@jupyter-widgets/base",
      "model_module_version": "1.2.0",
      "model_name": "LayoutModel",
      "state": {}
     },
     "f378e5f9f0b6407c8d4b7b8343855811": {
      "model_module": "@jupyter-widgets/controls",
      "model_module_version": "1.5.0",
      "model_name": "DescriptionStyleModel",
      "state": {
       "description_width": ""
      }
     },
     "f388e0efafe1495e96c319279c5f947b": {
      "model_module": "@jupyter-widgets/controls",
      "model_module_version": "1.5.0",
      "model_name": "FloatSliderModel",
      "state": {
       "description": "shininess",
       "layout": "IPY_MODEL_35f6cf9c439d4fa8ae1b7d5de389c9af",
       "max": 1,
       "step": 0.1,
       "style": "IPY_MODEL_75d3e76ba91f4678a3a3444870c33a8e",
       "value": 0.7
      }
     },
     "f38ce8becd2f403f81f14f057115a3b5": {
      "model_module": "@jupyter-widgets/controls",
      "model_module_version": "1.5.0",
      "model_name": "ButtonModel",
      "state": {
       "description": "Apply changes",
       "disabled": true,
       "layout": "IPY_MODEL_0ed76f9058054c2e872da6c9c3e56420",
       "style": "IPY_MODEL_b139e2d1758644fabc8d862eb9e6e9ed"
      }
     },
     "f3d860caabce4e098008ac83f4020283": {
      "model_module": "@jupyter-widgets/controls",
      "model_module_version": "1.5.0",
      "model_name": "HBoxModel",
      "state": {
       "children": [
        "IPY_MODEL_7e4d389d197f4497ac9605341767eb5f",
        "IPY_MODEL_86f7b3b61bdf4991a46b8cca9a382724"
       ],
       "layout": "IPY_MODEL_428c33889979493ca7367d4a363d4e8e"
      }
     },
     "f3edf20f06664802b1ed1a7f3e4d9d75": {
      "model_module": "@jupyter-widgets/controls",
      "model_module_version": "1.5.0",
      "model_name": "DescriptionStyleModel",
      "state": {
       "description_width": ""
      }
     },
     "f41b3f5d927f4b1d84b27046a1dfaa99": {
      "model_module": "@jupyter-widgets/base",
      "model_module_version": "1.2.0",
      "model_name": "LayoutModel",
      "state": {}
     },
     "f424905e64c84299b6b947f512059f73": {
      "model_module": "@jupyter-widgets/base",
      "model_module_version": "1.2.0",
      "model_name": "LayoutModel",
      "state": {}
     },
     "f495b3330b9a4aab9c573969d8966f83": {
      "model_module": "@jupyter-widgets/base",
      "model_module_version": "1.2.0",
      "model_name": "LayoutModel",
      "state": {}
     },
     "f4a50f5f272f4c2ba5416d82cc779470": {
      "model_module": "@jupyter-widgets/controls",
      "model_module_version": "1.5.0",
      "model_name": "ButtonStyleModel",
      "state": {}
     },
     "f51d23fb95a149d58c45b9418439c024": {
      "model_module": "@jupyter-widgets/controls",
      "model_module_version": "1.5.0",
      "model_name": "IntTextModel",
      "state": {
       "description": "min",
       "layout": "IPY_MODEL_51e4a756a4174e399005475e57e78c22",
       "step": 1,
       "style": "IPY_MODEL_7232c740023240b0b1c44beed3ceaa3f",
       "value": 1
      }
     },
     "f53d50f573ea4c8196171420178e0463": {
      "model_module": "@jupyter-widgets/base",
      "model_module_version": "1.2.0",
      "model_name": "LayoutModel",
      "state": {}
     },
     "f54dce5c967d42ddacd908ff611f1d2e": {
      "model_module": "@jupyter-widgets/controls",
      "model_module_version": "1.5.0",
      "model_name": "HBoxModel",
      "state": {
       "children": [
        "IPY_MODEL_e156370312ca44d5b9eaffa7beeb1c52",
        "IPY_MODEL_1a360a5c3c3e466d911a03a19d817dca",
        "IPY_MODEL_7fd4070bf1f748a6978285867f3fd655",
        "IPY_MODEL_c6a312a270f14428b4ad614b9369cd85"
       ],
       "layout": "IPY_MODEL_f56daa410ee44854874b448e60b2c3c9"
      }
     },
     "f56daa410ee44854874b448e60b2c3c9": {
      "model_module": "@jupyter-widgets/base",
      "model_module_version": "1.2.0",
      "model_name": "LayoutModel",
      "state": {
       "flex_flow": "row wrap",
       "margin": "20px"
      }
     },
     "f571b090508244a7b467737c415e2fad": {
      "model_module": "@jupyter-widgets/controls",
      "model_module_version": "1.5.0",
      "model_name": "DescriptionStyleModel",
      "state": {
       "description_width": ""
      }
     },
     "f5a61e07ca2547a48dc488b02d2e4866": {
      "model_module": "@jupyter-widgets/controls",
      "model_module_version": "1.5.0",
      "model_name": "ColorPickerModel",
      "state": {
       "description": "specular",
       "disabled": false,
       "layout": "IPY_MODEL_4b68990f7c95481cba2019dad4acc95d",
       "style": "IPY_MODEL_3612f7a7682b474f93b17b5d79359613",
       "value": "#282828"
      }
     },
     "f6b8371c97d6438d81a54fc86fdfb536": {
      "model_module": "@jupyter-widgets/base",
      "model_module_version": "1.2.0",
      "model_name": "LayoutModel",
      "state": {
       "flex_flow": "row wrap"
      }
     },
     "f6f05266241f4d77a16801297c843107": {
      "model_module": "pgljupyter",
      "model_module_version": "^0.1.14",
      "model_name": "IntEditorModel",
      "state": {
       "_model_module_version": "^0.1.14",
       "_view_module_version": "^0.1.14",
       "children": [
        "IPY_MODEL_d791db9c9abd4f01b6f0fc0e44c489d8",
        "IPY_MODEL_64120dfb80a645d68606e0062c5c563c",
        "IPY_MODEL_02bb664da5f046189a579eed3aa3964f",
        "IPY_MODEL_da5895349d2b44149c25926ea9102116",
        "IPY_MODEL_6194e43fb489473e9bd1e1543e91458e"
       ],
       "layout": "IPY_MODEL_2ecc06fc96384fc582bbc1690d7ec0f0"
      }
     },
     "f6f69156ecf34f9596a623ebda071f85": {
      "model_module": "@jupyter-widgets/controls",
      "model_module_version": "1.5.0",
      "model_name": "ButtonStyleModel",
      "state": {}
     },
     "f71c0ec700c74e548e733aac9694d998": {
      "model_module": "@jupyter-widgets/base",
      "model_module_version": "1.2.0",
      "model_name": "LayoutModel",
      "state": {}
     },
     "f74b91788cb546d0976cda4bc856aef6": {
      "model_module": "@jupyter-widgets/base",
      "model_module_version": "1.2.0",
      "model_name": "LayoutModel",
      "state": {}
     },
     "f7545150d64f4c3b923ca1dbaec773d1": {
      "model_module": "@jupyter-widgets/controls",
      "model_module_version": "1.5.0",
      "model_name": "SliderStyleModel",
      "state": {
       "description_width": ""
      }
     },
     "f79988204f874b4b990f329de61ad10e": {
      "model_module": "@jupyter-widgets/controls",
      "model_module_version": "1.5.0",
      "model_name": "DescriptionStyleModel",
      "state": {
       "description_width": ""
      }
     },
     "f79cbb65addd4b239b22ebb3e4edaceb": {
      "model_module": "@jupyter-widgets/controls",
      "model_module_version": "1.5.0",
      "model_name": "SliderStyleModel",
      "state": {
       "description_width": ""
      }
     },
     "f7bc81beab154e9e9e68dc0ef851e9f4": {
      "model_module": "@jupyter-widgets/controls",
      "model_module_version": "1.5.0",
      "model_name": "DescriptionStyleModel",
      "state": {
       "description_width": ""
      }
     },
     "f827aaf867dc42d39acc8a4f592731d6": {
      "model_module": "@jupyter-widgets/controls",
      "model_module_version": "1.5.0",
      "model_name": "ButtonModel",
      "state": {
       "description": "Save changes",
       "layout": "IPY_MODEL_a948b974861e418b8d3b789987e17acd",
       "style": "IPY_MODEL_576b9f76c2554786a55aa2746dccdcd2"
      }
     },
     "f877f58a4a8f446bae74488efbef66b0": {
      "model_module": "@jupyter-widgets/controls",
      "model_module_version": "1.5.0",
      "model_name": "TextModel",
      "state": {
       "continuous_update": false,
       "description": "name",
       "layout": "IPY_MODEL_2c459c82701d4343a44e9daf1dc0cd65",
       "style": "IPY_MODEL_4194c689e5fa497f9d21a411b43c0a30",
       "value": "radinc"
      }
     },
     "f87af6e13bdd4e268f395b44ce991bbf": {
      "model_module": "@jupyter-widgets/base",
      "model_module_version": "1.2.0",
      "model_name": "LayoutModel",
      "state": {}
     },
     "f90a42a43b1f4bed81fc082672b8e388": {
      "model_module": "@jupyter-widgets/base",
      "model_module_version": "1.2.0",
      "model_name": "LayoutModel",
      "state": {}
     },
     "f9142146147f42268f4e4b4b13e85c5f": {
      "model_module": "@jupyter-widgets/base",
      "model_module_version": "1.2.0",
      "model_name": "LayoutModel",
      "state": {}
     },
     "f91d2ac41e5c4dfaa339b47ecbc48765": {
      "model_module": "@jupyter-widgets/controls",
      "model_module_version": "1.5.0",
      "model_name": "DescriptionStyleModel",
      "state": {
       "description_width": ""
      }
     },
     "f94496cb3e8f4929a17732ebf63fdc5d": {
      "model_module": "@jupyter-widgets/base",
      "model_module_version": "1.2.0",
      "model_name": "LayoutModel",
      "state": {}
     },
     "f96e0af600ef4954a3ee825bd6a3337a": {
      "model_module": "@jupyter-widgets/base",
      "model_module_version": "1.2.0",
      "model_name": "LayoutModel",
      "state": {}
     },
     "f98f574b894146bdac3cc74bf1517323": {
      "model_module": "@jupyter-widgets/controls",
      "model_module_version": "1.5.0",
      "model_name": "DropdownModel",
      "state": {
       "_options_labels": [
        "Color"
       ],
       "index": 0,
       "layout": "IPY_MODEL_f9142146147f42268f4e4b4b13e85c5f",
       "style": "IPY_MODEL_ec674bd006ba488bbcb7fb4fcf6d4c3b"
      }
     },
     "f9f743e89f6a4cc3af534e5d9f0f052d": {
      "model_module": "@jupyter-widgets/controls",
      "model_module_version": "1.5.0",
      "model_name": "ColorPickerModel",
      "state": {
       "description": "emission",
       "disabled": false,
       "layout": "IPY_MODEL_33ec9c5667a5451786a5c5e914e5dc10",
       "style": "IPY_MODEL_f0caa55e5c1c4f47b491d8bc9349488f",
       "value": "#1f48db"
      }
     },
     "fa2ab2109edb48bb9783d6353f95f9f5": {
      "model_module": "@jupyter-widgets/controls",
      "model_module_version": "1.5.0",
      "model_name": "DescriptionStyleModel",
      "state": {
       "description_width": ""
      }
     },
     "fa5ab9a9bee44bd487e3af93b6960686": {
      "model_module": "@jupyter-widgets/base",
      "model_module_version": "1.2.0",
      "model_name": "LayoutModel",
      "state": {}
     },
     "fa8055adf8ff43bfa13760cfa502d0d1": {
      "model_module": "@jupyter-widgets/controls",
      "model_module_version": "1.5.0",
      "model_name": "DescriptionStyleModel",
      "state": {
       "description_width": ""
      }
     },
     "fb008d8d2c234664ba3ae188ecac3d55": {
      "model_module": "@jupyter-widgets/controls",
      "model_module_version": "1.5.0",
      "model_name": "IntTextModel",
      "state": {
       "description": "min",
       "layout": "IPY_MODEL_39ceb78dfb1449b399b665ad13905765",
       "step": 1,
       "style": "IPY_MODEL_3ec6ca9ab67e4732aae15b941861a1e6",
       "value": 1
      }
     },
     "fb23ff6df53c4979935c5cfe3bf1f9b7": {
      "model_module": "@jupyter-widgets/base",
      "model_module_version": "1.2.0",
      "model_name": "LayoutModel",
      "state": {}
     },
     "fb6fdce322514387af4f9d06ea315c68": {
      "model_module": "@jupyter-widgets/base",
      "model_module_version": "1.2.0",
      "model_name": "LayoutModel",
      "state": {}
     },
     "fb8fa78d37ab4f5eabf718eac7a950f5": {
      "model_module": "@jupyter-widgets/base",
      "model_module_version": "1.2.0",
      "model_name": "LayoutModel",
      "state": {}
     },
     "fbd3c620d7bd47818d5487d92b540c7d": {
      "model_module": "@jupyter-widgets/controls",
      "model_module_version": "1.5.0",
      "model_name": "DescriptionStyleModel",
      "state": {
       "description_width": ""
      }
     },
     "fc4a3b0a28974c0387dfb19294949f65": {
      "model_module": "@jupyter-widgets/controls",
      "model_module_version": "1.5.0",
      "model_name": "HBoxModel",
      "state": {
       "children": [
        "IPY_MODEL_dabcaf8551834d1191d28e9c7931d628",
        "IPY_MODEL_c19ba1d02b874e30b0117e9a6459e5d3",
        "IPY_MODEL_f6f05266241f4d77a16801297c843107",
        "IPY_MODEL_71ec069b5c5a40f4bc2771f12be256d7",
        "IPY_MODEL_61c449b60b4c4a21be0c707bc74e9bf8"
       ],
       "layout": "IPY_MODEL_fdc392c7cf9844a2b7daa72c52be63a0"
      }
     },
     "fd0abaa1c37f4431b5d5a18b4c3a0ec0": {
      "model_module": "@jupyter-widgets/base",
      "model_module_version": "1.2.0",
      "model_name": "LayoutModel",
      "state": {}
     },
     "fd617d728797461ca9d92339725aed47": {
      "model_module": "@jupyter-widgets/base",
      "model_module_version": "1.2.0",
      "model_name": "LayoutModel",
      "state": {
       "margin": "20px 0px"
      }
     },
     "fd7d330ce7384b0b8b5b1d06fe02e1b5": {
      "model_module": "@jupyter-widgets/controls",
      "model_module_version": "1.5.0",
      "model_name": "DescriptionStyleModel",
      "state": {
       "description_width": ""
      }
     },
     "fdaf5fa5a54f4007a8756ffb7b209215": {
      "model_module": "@jupyter-widgets/base",
      "model_module_version": "1.2.0",
      "model_name": "LayoutModel",
      "state": {}
     },
     "fdc322002e0147a3b3a787527f552f68": {
      "model_module": "@jupyter-widgets/controls",
      "model_module_version": "1.5.0",
      "model_name": "BoundedFloatTextModel",
      "state": {
       "description": "step",
       "layout": "IPY_MODEL_a6b539cc15804907989b197d4b2cbdbe",
       "max": 1,
       "min": 0.01,
       "step": 0.01,
       "style": "IPY_MODEL_9c0cf9efa1154e3d8f992ee0f7cd1a7d",
       "value": 0.01
      }
     },
     "fdc392c7cf9844a2b7daa72c52be63a0": {
      "model_module": "@jupyter-widgets/base",
      "model_module_version": "1.2.0",
      "model_name": "LayoutModel",
      "state": {
       "flex_flow": "row wrap",
       "margin": "20px"
      }
     },
     "fdd80fe99a2c4941b1f17d90ef2bd04f": {
      "model_module": "@jupyter-widgets/controls",
      "model_module_version": "1.5.0",
      "model_name": "ColorPickerModel",
      "state": {
       "description": "emission",
       "disabled": false,
       "layout": "IPY_MODEL_2a5edf3ba1ac483c8ba70c9b29627380",
       "style": "IPY_MODEL_535753bdefa642f2833596ad6d1dcf7b",
       "value": "#000000"
      }
     },
     "fe0cdcc6562e4d7b98662c718d50f517": {
      "model_module": "@jupyter-widgets/base",
      "model_module_version": "1.2.0",
      "model_name": "LayoutModel",
      "state": {
       "flex_flow": "row wrap",
       "margin": "20px"
      }
     },
     "fe2b1c6cc94d41b8835500aa026cf33d": {
      "model_module": "pgljupyter",
      "model_module_version": "^0.1.14",
      "model_name": "MaterialEditorModel",
      "state": {
       "_model_module_version": "^0.1.14",
       "_view_module_version": "^0.1.14",
       "children": [
        "IPY_MODEL_a5b43622c08f430fa687e80bb00d1299",
        "IPY_MODEL_19496a4bd7a1437684fa4fc33a581b5a",
        "IPY_MODEL_6fa92963778b454f99a4c7b548144df1",
        "IPY_MODEL_5cf887d3feab499d9c355b88d984835c",
        "IPY_MODEL_a7a1a0e06ab8458e8a7a1156342615ba",
        "IPY_MODEL_459840c1039c40659fd49f4c086acc29",
        "IPY_MODEL_3483198dc61e4fb6a5fd59a5c83502d5"
       ],
       "layout": "IPY_MODEL_8f1da4b76f6c40d9add8f34cb84ac141"
      }
     },
     "fe5d4924783740e99fb2a712c58dc4bc": {
      "model_module": "@jupyter-widgets/base",
      "model_module_version": "1.2.0",
      "model_name": "LayoutModel",
      "state": {}
     },
     "fe83071c6a9940158069480e78541e89": {
      "model_module": "@jupyter-widgets/base",
      "model_module_version": "1.2.0",
      "model_name": "LayoutModel",
      "state": {}
     },
     "fec716c199b242e0a5c931895ec485ac": {
      "model_module": "@jupyter-widgets/controls",
      "model_module_version": "1.5.0",
      "model_name": "DescriptionStyleModel",
      "state": {
       "description_width": ""
      }
     },
     "fef5842bd92e42159dc06e93194ba888": {
      "model_module": "@jupyter-widgets/controls",
      "model_module_version": "1.5.0",
      "model_name": "HBoxModel",
      "state": {
       "children": [
        "IPY_MODEL_034ed870191544c4b7837fbbd29c712d",
        "IPY_MODEL_babb93ef0b924d3f89a84509076d9730"
       ],
       "layout": "IPY_MODEL_ea7885aa88c346e4ad852d6891676205"
      }
     },
     "ff8282e99e1b4b10835d79c69aa461af": {
      "model_module": "@jupyter-widgets/controls",
      "model_module_version": "1.5.0",
      "model_name": "TextModel",
      "state": {
       "continuous_update": false,
       "description": "name",
       "layout": "IPY_MODEL_c6335a0511b842129859372124e60a0d",
       "style": "IPY_MODEL_c5040cfaa88648f8b0b6678f5fcac0f7",
       "value": "color_1"
      }
     },
     "ff9fd4d06cd7454f8709e4a0d31e4552": {
      "model_module": "@jupyter-widgets/controls",
      "model_module_version": "1.5.0",
      "model_name": "DescriptionStyleModel",
      "state": {
       "description_width": ""
      }
     },
     "ffda3c9b61de46869c7716efaf6f4d94": {
      "model_module": "@jupyter-widgets/base",
      "model_module_version": "1.2.0",
      "model_name": "LayoutModel",
      "state": {}
     }
    },
    "version_major": 2,
    "version_minor": 0
   }
  }
 },
 "nbformat": 4,
 "nbformat_minor": 4
}
