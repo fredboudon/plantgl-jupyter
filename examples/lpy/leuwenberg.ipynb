{
 "cells": [
  {
   "cell_type": "code",
   "execution_count": 3,
   "metadata": {},
   "outputs": [],
   "source": [
    "from openalea.plantgl.all import *\n",
    "from openalea.lpy import Lsystem\n",
    "from pgljupyter import LsystemWidget"
   ]
  },
  {
   "cell_type": "code",
   "execution_count": 15,
   "metadata": {},
   "outputs": [
    {
     "data": {
      "application/vnd.jupyter.widget-view+json": {
       "model_id": "b0b347ec4c214b57abbb6a80866905c8",
       "version_major": 2,
       "version_minor": 0
      },
      "text/plain": [
       "LsystemWidget(light_helper=True, lsystem=<openalea.lpy.__lpy_kernel__.Lsystem object at 0x7fbc58b8f130>, scene…"
      ]
     },
     "metadata": {},
     "output_type": "display_data"
    }
   ],
   "source": [
    "LsystemWidget('leuwenberg.lpy', unit='cm', size_world=(10, 10, 10), light_helper=True)"
   ]
  },
  {
   "cell_type": "code",
   "execution_count": null,
   "metadata": {},
   "outputs": [],
   "source": []
  }
 ],
 "metadata": {
  "kernelspec": {
   "display_name": "pgl-jupyter",
   "language": "python",
   "name": "pgl-jupyter"
  },
  "language_info": {
   "codemirror_mode": {
    "name": "ipython",
    "version": 3
   },
   "file_extension": ".py",
   "mimetype": "text/x-python",
   "name": "python",
   "nbconvert_exporter": "python",
   "pygments_lexer": "ipython3",
   "version": "3.7.6"
  }
 },
 "nbformat": 4,
 "nbformat_minor": 4
}
