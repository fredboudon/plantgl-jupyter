{
 "cells": [
  {
   "cell_type": "code",
   "execution_count": 1,
   "metadata": {},
   "outputs": [],
   "source": [
    "from openalea.lpy import Lsystem\n",
    "from pgljupyter import LsystemWidget"
   ]
  },
  {
   "cell_type": "code",
   "execution_count": 2,
   "metadata": {},
   "outputs": [],
   "source": [
    "lw = LsystemWidget('leuwenberg.lpy', unit='dm', animate=True)"
   ]
  },
  {
   "cell_type": "code",
   "execution_count": 3,
   "metadata": {},
   "outputs": [
    {
     "data": {
      "application/vnd.jupyter.widget-view+json": {
       "model_id": "8d5f5c0e70964497be4165d6b67e625d",
       "version_major": 2,
       "version_minor": 0
      },
      "text/plain": [
       "LsystemWidget(animate=True, derivationLength=45, scene={'data': b'x\\xdaSLrw\\xf5\\xf7e`Pp\\xe0\\xe5RPVVde```be\\x08…"
      ]
     },
     "metadata": {},
     "output_type": "display_data"
    }
   ],
   "source": [
    "lw"
   ]
  },
  {
   "cell_type": "code",
   "execution_count": null,
   "metadata": {},
   "outputs": [],
   "source": []
  }
 ],
 "metadata": {
  "kernelspec": {
   "display_name": "Python 3",
   "language": "python",
   "name": "python3"
  },
  "language_info": {
   "codemirror_mode": {
    "name": "ipython",
    "version": 3
   },
   "file_extension": ".py",
   "mimetype": "text/x-python",
   "name": "python",
   "nbconvert_exporter": "python",
   "pygments_lexer": "ipython3",
   "version": "3.8.3"
  },
  "widgets": {
   "application/vnd.jupyter.widget-state+json": {
    "state": {
     "006c860d83bb44f197de8a363c8000ca": {
      "model_module": "@jupyter-widgets/base",
      "model_module_version": "1.2.0",
      "model_name": "LayoutModel",
      "state": {}
     },
     "00cac5436c8e487dae18a9ff4734dbaf": {
      "model_module": "@jupyter-widgets/controls",
      "model_module_version": "1.5.0",
      "model_name": "ButtonStyleModel",
      "state": {}
     },
     "01a4c9607cdf48b8898781b301081a28": {
      "model_module": "@jupyter-widgets/controls",
      "model_module_version": "1.5.0",
      "model_name": "VBoxModel",
      "state": {
       "children": [
        "IPY_MODEL_c25b4590b0ae444281e4de1577dba820",
        "IPY_MODEL_29fc71175e7a45d6b518dc6b0b3abe69"
       ],
       "layout": "IPY_MODEL_88d679242d4e47da83d942cd3e60dc38"
      }
     },
     "01c976d04d3844679724e474809c158b": {
      "model_module": "@jupyter-widgets/base",
      "model_module_version": "1.2.0",
      "model_name": "LayoutModel",
      "state": {}
     },
     "024a1bedd40241b69d18bf5622dad7ab": {
      "model_module": "@jupyter-widgets/controls",
      "model_module_version": "1.5.0",
      "model_name": "DescriptionStyleModel",
      "state": {
       "description_width": ""
      }
     },
     "02a74f7bceb840a7a578defaea9f85bd": {
      "model_module": "@jupyter-widgets/base",
      "model_module_version": "1.2.0",
      "model_name": "LayoutModel",
      "state": {
       "margin": "20px 0px"
      }
     },
     "02dfbd0f3f494360ad5c3be0612bc61f": {
      "model_module": "@jupyter-widgets/base",
      "model_module_version": "1.2.0",
      "model_name": "LayoutModel",
      "state": {}
     },
     "0363dd6f49f04bb58c913c0d2c5c903b": {
      "model_module": "@jupyter-widgets/controls",
      "model_module_version": "1.5.0",
      "model_name": "VBoxModel",
      "state": {
       "children": [
        "IPY_MODEL_b0e428650bcd4920989735f0790ab5a4",
        "IPY_MODEL_40af17acda92411d80109dc43358e774"
       ],
       "layout": "IPY_MODEL_80cb56e577a544b7b67854bd62adcbe8"
      }
     },
     "0405e697af844b2ea91e99af5ca06901": {
      "model_module": "@jupyter-widgets/controls",
      "model_module_version": "1.5.0",
      "model_name": "DescriptionStyleModel",
      "state": {
       "description_width": ""
      }
     },
     "0517c90068cf49819b0878b929df6a97": {
      "model_module": "@jupyter-widgets/controls",
      "model_module_version": "1.5.0",
      "model_name": "TextModel",
      "state": {
       "continuous_update": false,
       "description": "name",
       "layout": "IPY_MODEL_574863a6cad34aef8e40d8339970a06e",
       "style": "IPY_MODEL_a5cb51dbbce1400eae12508087a76361",
       "value": "NurbsCurve2D_0"
      }
     },
     "05309ec65eeb47319dd90200e4ded550": {
      "model_module": "@jupyter-widgets/controls",
      "model_module_version": "1.5.0",
      "model_name": "DropdownModel",
      "state": {
       "_options_labels": [
        "NurbsCurve2D"
       ],
       "index": 0,
       "layout": "IPY_MODEL_493d5a5387c94ff6bb50e2aaa48fcbf4",
       "style": "IPY_MODEL_7b202b2c87bf4343b5cfdad8b03600b6"
      }
     },
     "0584709e6b43421cac48ecdf7b92801e": {
      "model_module": "@jupyter-widgets/base",
      "model_module_version": "1.2.0",
      "model_name": "LayoutModel",
      "state": {}
     },
     "05baa82cf2bd4d19ae29886c495c838c": {
      "model_module": "@jupyter-widgets/controls",
      "model_module_version": "1.5.0",
      "model_name": "FloatTextModel",
      "state": {
       "description": "max",
       "layout": "IPY_MODEL_fa5ab9a9bee44bd487e3af93b6960686",
       "step": null,
       "style": "IPY_MODEL_f3edf20f06664802b1ed1a7f3e4d9d75",
       "value": 0.1
      }
     },
     "0714f35b18a44fbaaa6d2aa26b46616e": {
      "model_module": "pgljupyter",
      "model_module_version": "^0.1.2",
      "model_name": "CurveEditorModel",
      "state": {
       "_model_module_version": "^0.1.2",
       "_view_module_version": "^0.1.2",
       "children": [
        "IPY_MODEL_a87b550ba97246eabb2a2332372e8cb5",
        "IPY_MODEL_617dd871b3974aa984eea01a4c161657"
       ],
       "layout": "IPY_MODEL_e1ab7903552947558c2f9def1fa24f2a"
      }
     },
     "07222ec0cc5f4b80ac8b7e5edc408fd8": {
      "model_module": "@jupyter-widgets/controls",
      "model_module_version": "1.5.0",
      "model_name": "DescriptionStyleModel",
      "state": {
       "description_width": ""
      }
     },
     "07424825f5c943b4b27c37d747ec046a": {
      "model_module": "@jupyter-widgets/controls",
      "model_module_version": "1.5.0",
      "model_name": "BoundedIntTextModel",
      "state": {
       "description": "step",
       "layout": "IPY_MODEL_2d70beccf69c4efc9a83cd358de0d9d2",
       "min": 1,
       "style": "IPY_MODEL_d18872a2ef9b47d0aacc9fc86e75a003",
       "value": 1
      }
     },
     "07d9bb8ab52941bd8dcb93c7cdc8d27a": {
      "model_module": "@jupyter-widgets/base",
      "model_module_version": "1.2.0",
      "model_name": "LayoutModel",
      "state": {}
     },
     "08205c4815754438a774f886dc48c434": {
      "model_module": "@jupyter-widgets/controls",
      "model_module_version": "1.5.0",
      "model_name": "ColorPickerModel",
      "state": {
       "description": "specular",
       "disabled": false,
       "layout": "IPY_MODEL_99302e31763945609667a0e4acb70120",
       "style": "IPY_MODEL_86d0c2f7ea1b44e6908bfd682ece3329",
       "value": "#478f9f"
      }
     },
     "0842b7cc38b84096bcf7901c1b64f401": {
      "model_module": "pgljupyter",
      "model_module_version": "^0.1.2",
      "model_name": "_CurveEditorModel",
      "state": {
       "_model_module_version": "^0.1.2",
       "_view_module_version": "^0.1.2",
       "control_points": [
        [
         -0.5,
         0
        ],
        [
         -0.2318181818181818,
         0.2909090909090909
        ],
        [
         0.22272727272727277,
         -0.15909090909090906
        ],
        [
         0.5,
         0
        ]
       ],
       "curve_type": "Polyline2D",
       "layout": "IPY_MODEL_c93fac566bbf44a09ddc34c6f6532ae3"
      }
     },
     "08ea1418a4b2409ba8dd9cedfd95eebc": {
      "model_module": "@jupyter-widgets/base",
      "model_module_version": "1.2.0",
      "model_name": "LayoutModel",
      "state": {}
     },
     "096a27de4fb74defab7139814791f0a3": {
      "model_module": "@jupyter-widgets/controls",
      "model_module_version": "1.5.0",
      "model_name": "FloatSliderModel",
      "state": {
       "description": "diffuse",
       "layout": "IPY_MODEL_08ea1418a4b2409ba8dd9cedfd95eebc",
       "max": 1,
       "step": 0.1,
       "style": "IPY_MODEL_6e422346b87a4c5b92c0c8c310df3122",
       "value": 1
      }
     },
     "0a24786ecfbe4e24a5250a48a1b6d358": {
      "model_module": "@jupyter-widgets/controls",
      "model_module_version": "1.5.0",
      "model_name": "DescriptionStyleModel",
      "state": {
       "description_width": ""
      }
     },
     "0a2938deb20642c5988031f8dc64848d": {
      "model_module": "@jupyter-widgets/controls",
      "model_module_version": "1.5.0",
      "model_name": "TextModel",
      "state": {
       "continuous_update": false,
       "description": "name",
       "layout": "IPY_MODEL_4bbbae79a86144d493f18b5c2c7594dc",
       "style": "IPY_MODEL_5869b36a3dbb49e7ac247b1feb7974f0",
       "value": "leafold"
      }
     },
     "0a63f463c5d8470ebb1e732d48fd1d86": {
      "model_module": "@jupyter-widgets/base",
      "model_module_version": "1.2.0",
      "model_name": "LayoutModel",
      "state": {}
     },
     "0b38fbfb4d1f4b9995215a9f3e2c4a51": {
      "model_module": "@jupyter-widgets/base",
      "model_module_version": "1.2.0",
      "model_name": "LayoutModel",
      "state": {}
     },
     "0c10f805bff84441b05ffd189a5c8661": {
      "model_module": "@jupyter-widgets/controls",
      "model_module_version": "1.5.0",
      "model_name": "DescriptionStyleModel",
      "state": {
       "description_width": ""
      }
     },
     "0c82adbe02b14ee888134148a12ab08a": {
      "model_module": "@jupyter-widgets/controls",
      "model_module_version": "1.5.0",
      "model_name": "HBoxModel",
      "state": {
       "layout": "IPY_MODEL_fe0cdcc6562e4d7b98662c718d50f517"
      }
     },
     "0cc395aa40e94b989a548febcfdb5e05": {
      "model_module": "@jupyter-widgets/controls",
      "model_module_version": "1.5.0",
      "model_name": "IntSliderModel",
      "state": {
       "description": "value",
       "layout": "IPY_MODEL_b48db2e5fcaa41a3b57d77147d5c6ee4",
       "max": 10,
       "min": 1,
       "style": "IPY_MODEL_ab025d81fa764c8aa87ff6d432656adf",
       "value": 6
      }
     },
     "0ce72c849bc04be1ace040e227e17d68": {
      "model_module": "@jupyter-widgets/controls",
      "model_module_version": "1.5.0",
      "model_name": "BoundedIntTextModel",
      "state": {
       "description": "index",
       "layout": "IPY_MODEL_f87af6e13bdd4e268f395b44ce991bbf",
       "style": "IPY_MODEL_dc1c563d342944eaa299bfa37de8cde0",
       "value": 1
      }
     },
     "0cf9ede31aee4c9dad31d76457db7941": {
      "model_module": "@jupyter-widgets/base",
      "model_module_version": "1.2.0",
      "model_name": "LayoutModel",
      "state": {}
     },
     "0d4aef8d0e3947f39cd16894ccb136e4": {
      "model_module": "@jupyter-widgets/base",
      "model_module_version": "1.2.0",
      "model_name": "LayoutModel",
      "state": {}
     },
     "0e05773846dd43f0a96847656f764a7b": {
      "model_module": "@jupyter-widgets/controls",
      "model_module_version": "1.5.0",
      "model_name": "SliderStyleModel",
      "state": {
       "description_width": ""
      }
     },
     "0e22aeb0f36947afb43a810578887e6e": {
      "model_module": "@jupyter-widgets/base",
      "model_module_version": "1.2.0",
      "model_name": "LayoutModel",
      "state": {}
     },
     "0e232481024146b19ac53c3590e4a691": {
      "model_module": "@jupyter-widgets/base",
      "model_module_version": "1.2.0",
      "model_name": "LayoutModel",
      "state": {}
     },
     "0e9c1105c42e4e7787c3c15d410f7b5c": {
      "model_module": "@jupyter-widgets/controls",
      "model_module_version": "1.5.0",
      "model_name": "ButtonStyleModel",
      "state": {}
     },
     "0ed76f9058054c2e872da6c9c3e56420": {
      "model_module": "@jupyter-widgets/base",
      "model_module_version": "1.2.0",
      "model_name": "LayoutModel",
      "state": {}
     },
     "0effd504a4974e6abb5357847527ec57": {
      "model_module": "@jupyter-widgets/base",
      "model_module_version": "1.2.0",
      "model_name": "LayoutModel",
      "state": {}
     },
     "0f8c2f3fd66b445cb01eca6fb7b40014": {
      "model_module": "@jupyter-widgets/base",
      "model_module_version": "1.2.0",
      "model_name": "LayoutModel",
      "state": {
       "margin": "20px 0px"
      }
     },
     "0fc05305117943d28f9afe7ecc9aa553": {
      "model_module": "@jupyter-widgets/base",
      "model_module_version": "1.2.0",
      "model_name": "LayoutModel",
      "state": {}
     },
     "1011fc19b1da457cba092f3ff3475f19": {
      "model_module": "@jupyter-widgets/controls",
      "model_module_version": "1.5.0",
      "model_name": "DescriptionStyleModel",
      "state": {
       "description_width": ""
      }
     },
     "1025d095d9fd45ac972ac75098ab94e7": {
      "model_module": "@jupyter-widgets/controls",
      "model_module_version": "1.5.0",
      "model_name": "DescriptionStyleModel",
      "state": {
       "description_width": ""
      }
     },
     "10589094c39140b8919a9555a61f9f09": {
      "model_module": "@jupyter-widgets/base",
      "model_module_version": "1.2.0",
      "model_name": "LayoutModel",
      "state": {}
     },
     "11666e3ab0134886a3a2bd9c01bc5605": {
      "model_module": "@jupyter-widgets/controls",
      "model_module_version": "1.5.0",
      "model_name": "ButtonStyleModel",
      "state": {}
     },
     "11c65fd9468f412f9b63e9f47a99b801": {
      "model_module": "@jupyter-widgets/controls",
      "model_module_version": "1.5.0",
      "model_name": "ButtonModel",
      "state": {
       "description": "Delete",
       "layout": "IPY_MODEL_b37521b60a7647d9899e3d42829b78ef",
       "style": "IPY_MODEL_11666e3ab0134886a3a2bd9c01bc5605"
      }
     },
     "11eb943263dd4960811ae0dbed24247c": {
      "model_module": "@jupyter-widgets/controls",
      "model_module_version": "1.5.0",
      "model_name": "HBoxModel",
      "state": {
       "children": [
        "IPY_MODEL_24004e8b0cf046d9b7bafca13b3868f6",
        "IPY_MODEL_e7d57c4c8c8a4814a66792e624eab80b",
        "IPY_MODEL_8924e7490b8d474abb523195f04639b9",
        "IPY_MODEL_aed6ac227b8f4daf8ad908b7f8fa98f3"
       ],
       "layout": "IPY_MODEL_f56daa410ee44854874b448e60b2c3c9"
      }
     },
     "1253cd622c1c482c89f69b0f741abc8e": {
      "model_module": "pgljupyter",
      "model_module_version": "^0.1.2",
      "model_name": "CurveEditorModel",
      "state": {
       "_model_module_version": "^0.1.2",
       "_view_module_version": "^0.1.2",
       "children": [
        "IPY_MODEL_d7491fcbf98547ae97e45969885079fc",
        "IPY_MODEL_0842b7cc38b84096bcf7901c1b64f401"
       ],
       "layout": "IPY_MODEL_7a66ebfca84d4999a5bee673f10e7c52"
      }
     },
     "12f7c4ba0f6d4b888ba73f16f369a10a": {
      "model_module": "@jupyter-widgets/controls",
      "model_module_version": "1.5.0",
      "model_name": "SliderStyleModel",
      "state": {
       "description_width": ""
      }
     },
     "138e5976c87e467db45a4df41b5803ab": {
      "model_module": "@jupyter-widgets/controls",
      "model_module_version": "1.5.0",
      "model_name": "DescriptionStyleModel",
      "state": {
       "description_width": ""
      }
     },
     "1481ac602d8941e0885c08d06e6e0e82": {
      "model_module": "@jupyter-widgets/controls",
      "model_module_version": "1.5.0",
      "model_name": "DescriptionStyleModel",
      "state": {
       "description_width": ""
      }
     },
     "14a44227159b47778c370ebd1c39ce7d": {
      "model_module": "@jupyter-widgets/controls",
      "model_module_version": "1.5.0",
      "model_name": "DescriptionStyleModel",
      "state": {
       "description_width": ""
      }
     },
     "14b6bd5944294c1584714b8a69fb3b44": {
      "model_module": "@jupyter-widgets/controls",
      "model_module_version": "1.5.0",
      "model_name": "DescriptionStyleModel",
      "state": {
       "description_width": ""
      }
     },
     "1528398a025c46599e2ad6d8bc592960": {
      "model_module": "@jupyter-widgets/controls",
      "model_module_version": "1.5.0",
      "model_name": "ButtonStyleModel",
      "state": {}
     },
     "1530bfd1074a4e8fbad49b4df4e964b5": {
      "model_module": "@jupyter-widgets/base",
      "model_module_version": "1.2.0",
      "model_name": "LayoutModel",
      "state": {}
     },
     "15897f39c9c241c994c93955c340fb6b": {
      "model_module": "@jupyter-widgets/controls",
      "model_module_version": "1.5.0",
      "model_name": "ButtonModel",
      "state": {
       "description": "Add",
       "layout": "IPY_MODEL_471581ae848649c4b2d3b9f91531c7c1",
       "style": "IPY_MODEL_6fa1a051eef947a3b163d4793ac7cd99"
      }
     },
     "175d04d73b0f432ebe88e418f42348fe": {
      "model_module": "@jupyter-widgets/controls",
      "model_module_version": "1.5.0",
      "model_name": "FloatSliderModel",
      "state": {
       "description": "diffuse",
       "layout": "IPY_MODEL_c3d84a4110fe40599578882c9599c41f",
       "max": 1,
       "step": 0.1,
       "style": "IPY_MODEL_f07b9cc7bedd486eab67bbefbe1b3a81",
       "value": 1
      }
     },
     "1786a5b630e24873893aa84cb0714b47": {
      "model_module": "@jupyter-widgets/base",
      "model_module_version": "1.2.0",
      "model_name": "LayoutModel",
      "state": {
       "margin": "20px 0px"
      }
     },
     "1834dc530a084c8498f3cad2f679f317": {
      "model_module": "@jupyter-widgets/base",
      "model_module_version": "1.2.0",
      "model_name": "LayoutModel",
      "state": {
       "margin": "20px 0px"
      }
     },
     "19db9ae357b3453fbd2da22eadb8956e": {
      "model_module": "@jupyter-widgets/base",
      "model_module_version": "1.2.0",
      "model_name": "LayoutModel",
      "state": {}
     },
     "1a27b21bce904332a4684e5393644e7e": {
      "model_module": "@jupyter-widgets/controls",
      "model_module_version": "1.5.0",
      "model_name": "BoundedIntTextModel",
      "state": {
       "description": "index",
       "layout": "IPY_MODEL_a1c5657c57dd4420947b7a9efdc5fd3e",
       "style": "IPY_MODEL_30e2a75e992f460bb155f12690c18296",
       "value": 4
      }
     },
     "1a360a5c3c3e466d911a03a19d817dca": {
      "model_module": "@jupyter-widgets/controls",
      "model_module_version": "1.5.0",
      "model_name": "DropdownModel",
      "state": {
       "_options_labels": [
        "Color"
       ],
       "index": 0,
       "layout": "IPY_MODEL_a3715a6606264b1385e17c255e8e7b7d",
       "style": "IPY_MODEL_d5ed232c37c645d287f93804c2a7a50c"
      }
     },
     "1a573eadc9614551b2751a0416609504": {
      "model_module": "@jupyter-widgets/base",
      "model_module_version": "1.2.0",
      "model_name": "LayoutModel",
      "state": {}
     },
     "1b226e991f4a4f2d924d9603e31020a1": {
      "model_module": "@jupyter-widgets/controls",
      "model_module_version": "1.5.0",
      "model_name": "SliderStyleModel",
      "state": {
       "description_width": ""
      }
     },
     "1b7eb2c7a1744177a4f8587caf59f856": {
      "model_module": "@jupyter-widgets/controls",
      "model_module_version": "1.5.0",
      "model_name": "DescriptionStyleModel",
      "state": {
       "description_width": ""
      }
     },
     "1bb3336d4bef4979b9bb018af7f4fdc4": {
      "model_module": "@jupyter-widgets/controls",
      "model_module_version": "1.5.0",
      "model_name": "IntTextModel",
      "state": {
       "description": "max",
       "layout": "IPY_MODEL_8815d743dee0457d8be8b0a8c46923f3",
       "step": 1,
       "style": "IPY_MODEL_0c10f805bff84441b05ffd189a5c8661",
       "value": 10
      }
     },
     "1c7cf59a39db4f008dda191639910e38": {
      "model_module": "@jupyter-widgets/base",
      "model_module_version": "1.2.0",
      "model_name": "LayoutModel",
      "state": {}
     },
     "1d3a1be6a6084091b6a39ee2a8027c89": {
      "model_module": "@jupyter-widgets/base",
      "model_module_version": "1.2.0",
      "model_name": "LayoutModel",
      "state": {}
     },
     "1dbafdd152c84ab4b7288ac443955d83": {
      "model_module": "@jupyter-widgets/base",
      "model_module_version": "1.2.0",
      "model_name": "LayoutModel",
      "state": {
       "flex_flow": "row wrap",
       "margin": "20px"
      }
     },
     "1ebb908f33104722a8ca0ebea0830367": {
      "model_module": "@jupyter-widgets/base",
      "model_module_version": "1.2.0",
      "model_name": "LayoutModel",
      "state": {}
     },
     "1ed24c18a95c414f91f22ce72969f31c": {
      "model_module": "@jupyter-widgets/controls",
      "model_module_version": "1.5.0",
      "model_name": "ColorPickerModel",
      "state": {
       "description": "ambient",
       "disabled": false,
       "layout": "IPY_MODEL_275214da944c4d078e8bb8463ecf5b08",
       "style": "IPY_MODEL_6619d75e6a884ddf96b7d93f22aa80d4",
       "value": "#604d3e"
      }
     },
     "1f47862cd7004f6ea8e431b00a2deb36": {
      "model_module": "@jupyter-widgets/base",
      "model_module_version": "1.2.0",
      "model_name": "LayoutModel",
      "state": {}
     },
     "1fafc7f599424b7e8f7a15a3d0aafb6a": {
      "model_module": "@jupyter-widgets/controls",
      "model_module_version": "1.5.0",
      "model_name": "SliderStyleModel",
      "state": {
       "description_width": ""
      }
     },
     "1fb14ba911fa4fa5b21eea1cc9d40b13": {
      "model_module": "@jupyter-widgets/controls",
      "model_module_version": "1.5.0",
      "model_name": "DescriptionStyleModel",
      "state": {
       "description_width": ""
      }
     },
     "201f1a1a76c240bd9efc0e2bb60a3035": {
      "model_module": "@jupyter-widgets/base",
      "model_module_version": "1.2.0",
      "model_name": "LayoutModel",
      "state": {}
     },
     "203e1864fde243a6bd46c139d099522f": {
      "model_module": "@jupyter-widgets/base",
      "model_module_version": "1.2.0",
      "model_name": "LayoutModel",
      "state": {}
     },
     "211b1b5d82264938ace5ce2c20caba9b": {
      "model_module": "@jupyter-widgets/base",
      "model_module_version": "1.2.0",
      "model_name": "LayoutModel",
      "state": {}
     },
     "2136a52566524809a3c3b6695553bde5": {
      "model_module": "@jupyter-widgets/base",
      "model_module_version": "1.2.0",
      "model_name": "LayoutModel",
      "state": {}
     },
     "21efdec5b75d4c6ebabf51119098e5d0": {
      "model_module": "@jupyter-widgets/controls",
      "model_module_version": "1.5.0",
      "model_name": "HBoxModel",
      "state": {
       "children": [
        "IPY_MODEL_ac41cf70afd04e33b260be8bd483f310",
        "IPY_MODEL_05309ec65eeb47319dd90200e4ded550",
        "IPY_MODEL_50b5640fcf26472bb3b7a44f52d8e1e5",
        "IPY_MODEL_a86058cee658486fb13a7beca648314b"
       ],
       "layout": "IPY_MODEL_2c758a39f7fc445fb36328a5392bc3cb"
      }
     },
     "222c986241f440b09ecf8838dee277bb": {
      "model_module": "@jupyter-widgets/controls",
      "model_module_version": "1.5.0",
      "model_name": "ButtonStyleModel",
      "state": {}
     },
     "2238306649c540a699db292dd4180023": {
      "model_module": "@jupyter-widgets/controls",
      "model_module_version": "1.5.0",
      "model_name": "HBoxModel",
      "state": {
       "children": [
        "IPY_MODEL_e5933bb77a9d413a9d681c31c7d59d46",
        "IPY_MODEL_3b8c17e62aa54d2eb6ba0c7aa6a6135d",
        "IPY_MODEL_bad45027440c49c0b95e906436475efe",
        "IPY_MODEL_273cbe6b28fb4b79b92e7a0eab879227"
       ],
       "layout": "IPY_MODEL_f56daa410ee44854874b448e60b2c3c9"
      }
     },
     "2299fe15e03b48dda7759b4bf26db86e": {
      "model_module": "@jupyter-widgets/base",
      "model_module_version": "1.2.0",
      "model_name": "LayoutModel",
      "state": {}
     },
     "22a9a3fd9c4947de8e9b52c24d8c16d8": {
      "model_module": "@jupyter-widgets/base",
      "model_module_version": "1.2.0",
      "model_name": "LayoutModel",
      "state": {}
     },
     "2324b9eea997437aa217c0493ef8036f": {
      "model_module": "@jupyter-widgets/base",
      "model_module_version": "1.2.0",
      "model_name": "LayoutModel",
      "state": {}
     },
     "24004e8b0cf046d9b7bafca13b3868f6": {
      "model_module": "@jupyter-widgets/controls",
      "model_module_version": "1.5.0",
      "model_name": "ButtonModel",
      "state": {
       "description": "Add",
       "layout": "IPY_MODEL_f74b91788cb546d0976cda4bc856aef6",
       "style": "IPY_MODEL_6f131f3f67634df98fb30f26c0ba3c14"
      }
     },
     "24445bf8451e470e934c4470d4f8e0a7": {
      "model_module": "@jupyter-widgets/controls",
      "model_module_version": "1.5.0",
      "model_name": "IntSliderModel",
      "state": {
       "description": "value",
       "layout": "IPY_MODEL_d51b50f6f7064d6b8575587fb3b196c4",
       "max": 10,
       "min": 1,
       "style": "IPY_MODEL_e124b9fefb784a3bad65373e1ef9c403",
       "value": 3
      }
     },
     "2501c08878e54350abc0a9ac884118f1": {
      "model_module": "@jupyter-widgets/base",
      "model_module_version": "1.2.0",
      "model_name": "LayoutModel",
      "state": {
       "margin": "20px 0px"
      }
     },
     "252030f955ba480a8f2671f0f6470f4f": {
      "model_module": "@jupyter-widgets/base",
      "model_module_version": "1.2.0",
      "model_name": "LayoutModel",
      "state": {}
     },
     "25596c60b781494ba65f65b159bd60c0": {
      "model_module": "@jupyter-widgets/base",
      "model_module_version": "1.2.0",
      "model_name": "LayoutModel",
      "state": {
       "flex_flow": "row wrap"
      }
     },
     "26313b1b0e774a5c9296c77a9fb42f6f": {
      "model_module": "@jupyter-widgets/base",
      "model_module_version": "1.2.0",
      "model_name": "LayoutModel",
      "state": {}
     },
     "26661f90cfc247b4aa51a0584e2d50c9": {
      "model_module": "@jupyter-widgets/controls",
      "model_module_version": "1.5.0",
      "model_name": "DropdownModel",
      "state": {
       "_options_labels": [
        "NurbsCurve2D_0"
       ],
       "index": 0,
       "layout": "IPY_MODEL_c27b4929616a4cc9afc6b2486b6203ab",
       "style": "IPY_MODEL_6b42ee7a9908446f983fc6c0005656ad"
      }
     },
     "273cbe6b28fb4b79b92e7a0eab879227": {
      "model_module": "@jupyter-widgets/controls",
      "model_module_version": "1.5.0",
      "model_name": "DropdownModel",
      "state": {
       "index": null,
       "layout": "IPY_MODEL_0e22aeb0f36947afb43a810578887e6e",
       "style": "IPY_MODEL_6509e7284ebf48ea8852e819d225daf6"
      }
     },
     "275214da944c4d078e8bb8463ecf5b08": {
      "model_module": "@jupyter-widgets/base",
      "model_module_version": "1.2.0",
      "model_name": "LayoutModel",
      "state": {}
     },
     "27b8afa3d3b7447fa483906e22e6634d": {
      "model_module": "@jupyter-widgets/base",
      "model_module_version": "1.2.0",
      "model_name": "LayoutModel",
      "state": {}
     },
     "27f3e2e5bd414ac1ad3c19f37247942e": {
      "model_module": "@jupyter-widgets/controls",
      "model_module_version": "1.5.0",
      "model_name": "VBoxModel",
      "state": {
       "children": [
        "IPY_MODEL_7370d67c85ca45f99ec4b794aa6baea5",
        "IPY_MODEL_d2d0f917b45743ff9dc2a32c8add385a"
       ],
       "layout": "IPY_MODEL_a738593252204a498e2380d3e629bc1e"
      }
     },
     "28e28f98ef9542749eeea320db4cb0e4": {
      "model_module": "@jupyter-widgets/controls",
      "model_module_version": "1.5.0",
      "model_name": "VBoxModel",
      "state": {
       "children": [
        "IPY_MODEL_b6648dd35f9448fc8d6cfd44efbdc5c5",
        "IPY_MODEL_84e87897d7924c9c8a3252b0e40e3dd5"
       ],
       "layout": "IPY_MODEL_37b62d5540e449ff914f8373be62480c"
      }
     },
     "29fc71175e7a45d6b518dc6b0b3abe69": {
      "model_module": "@jupyter-widgets/controls",
      "model_module_version": "1.5.0",
      "model_name": "HBoxModel",
      "state": {
       "children": [
        "IPY_MODEL_b8492b7b01134d7b9aeaebc3e86f5d87"
       ],
       "layout": "IPY_MODEL_1dbafdd152c84ab4b7288ac443955d83"
      }
     },
     "2a71d1ea3cce494aab3efb0a5f5f35b8": {
      "model_module": "@jupyter-widgets/base",
      "model_module_version": "1.2.0",
      "model_name": "LayoutModel",
      "state": {}
     },
     "2b3bf360eab343d593671b7dbea90bd5": {
      "model_module": "@jupyter-widgets/controls",
      "model_module_version": "1.5.0",
      "model_name": "SliderStyleModel",
      "state": {
       "description_width": ""
      }
     },
     "2b6d029d3363436bb4c3867096c43514": {
      "model_module": "@jupyter-widgets/controls",
      "model_module_version": "1.5.0",
      "model_name": "HBoxModel",
      "state": {
       "children": [
        "IPY_MODEL_5eed3d4518234051843f485cc369deff",
        "IPY_MODEL_b4c6640b003145ab863dc22afc0d6b9e",
        "IPY_MODEL_da84931aef8d4c1d954b95f4636a7360",
        "IPY_MODEL_43c13428f9a944b8a460d54eae5ad873"
       ],
       "layout": "IPY_MODEL_1dbafdd152c84ab4b7288ac443955d83"
      }
     },
     "2bca4224925b40e1bfb042986738be02": {
      "model_module": "@jupyter-widgets/controls",
      "model_module_version": "1.5.0",
      "model_name": "SliderStyleModel",
      "state": {
       "description_width": ""
      }
     },
     "2c459c82701d4343a44e9daf1dc0cd65": {
      "model_module": "@jupyter-widgets/base",
      "model_module_version": "1.2.0",
      "model_name": "LayoutModel",
      "state": {}
     },
     "2c57289cdf1c49ea9d82954b2c37a542": {
      "model_module": "@jupyter-widgets/base",
      "model_module_version": "1.2.0",
      "model_name": "LayoutModel",
      "state": {}
     },
     "2c758a39f7fc445fb36328a5392bc3cb": {
      "model_module": "@jupyter-widgets/base",
      "model_module_version": "1.2.0",
      "model_name": "LayoutModel",
      "state": {
       "flex_flow": "row wrap",
       "margin": "20px"
      }
     },
     "2d70beccf69c4efc9a83cd358de0d9d2": {
      "model_module": "@jupyter-widgets/base",
      "model_module_version": "1.2.0",
      "model_name": "LayoutModel",
      "state": {}
     },
     "2daaf6242ed9461985d9559a718b68a5": {
      "model_module": "pgljupyter",
      "model_module_version": "^0.1.2",
      "model_name": "MaterialEditorModel",
      "state": {
       "_model_module_version": "^0.1.2",
       "_view_module_version": "^0.1.2",
       "children": [
        "IPY_MODEL_ac11ecf003394e96b2227d751ad7d1b9",
        "IPY_MODEL_547c418d86ec4fce8644a63a4d9fad45",
        "IPY_MODEL_70f7a900cde34f19a9c40852e3201de6",
        "IPY_MODEL_08205c4815754438a774f886dc48c434",
        "IPY_MODEL_da3a03d419374886b33c4a33c7123acc",
        "IPY_MODEL_cffbe228dd7a4cb6b6b3ec214974be09",
        "IPY_MODEL_e8085364e31d455da333f395d8708b18",
        "IPY_MODEL_b6fac6ee8b314c10a5156acd259cdf9e"
       ],
       "layout": "IPY_MODEL_5a20bedfc3174238b2ea8c131168e933"
      }
     },
     "2e6fdecb680e44eab31fbab1ebfe7703": {
      "model_module": "@jupyter-widgets/base",
      "model_module_version": "1.2.0",
      "model_name": "LayoutModel",
      "state": {}
     },
     "2efa585c55484aaba68ded69cdb81b15": {
      "model_module": "@jupyter-widgets/base",
      "model_module_version": "1.2.0",
      "model_name": "LayoutModel",
      "state": {}
     },
     "2f2ae84d6e0a4ce28cb9b46fe5dc6734": {
      "model_module": "@jupyter-widgets/controls",
      "model_module_version": "1.5.0",
      "model_name": "DescriptionStyleModel",
      "state": {
       "description_width": ""
      }
     },
     "2ff2e549a4684de5a2db6f29b2366fd5": {
      "model_module": "@jupyter-widgets/controls",
      "model_module_version": "1.5.0",
      "model_name": "DescriptionStyleModel",
      "state": {
       "description_width": ""
      }
     },
     "30913895a05c4efe9297847d5ea8e81b": {
      "model_module": "@jupyter-widgets/controls",
      "model_module_version": "1.5.0",
      "model_name": "DescriptionStyleModel",
      "state": {
       "description_width": ""
      }
     },
     "30adb877ae0c4ea3b12a4f4ae638e37d": {
      "model_module": "@jupyter-widgets/controls",
      "model_module_version": "1.5.0",
      "model_name": "DescriptionStyleModel",
      "state": {
       "description_width": ""
      }
     },
     "30c661fbb27140d0a16de353c96e7fc7": {
      "model_module": "@jupyter-widgets/base",
      "model_module_version": "1.2.0",
      "model_name": "LayoutModel",
      "state": {}
     },
     "30e2a75e992f460bb155f12690c18296": {
      "model_module": "@jupyter-widgets/controls",
      "model_module_version": "1.5.0",
      "model_name": "DescriptionStyleModel",
      "state": {
       "description_width": ""
      }
     },
     "30ea0fffbfc14c498f33c0844ae5ecc8": {
      "model_module": "@jupyter-widgets/controls",
      "model_module_version": "1.5.0",
      "model_name": "DescriptionStyleModel",
      "state": {
       "description_width": ""
      }
     },
     "30ea76a55acd406bad8fb7188aff0f41": {
      "model_module": "@jupyter-widgets/controls",
      "model_module_version": "1.5.0",
      "model_name": "SliderStyleModel",
      "state": {
       "description_width": ""
      }
     },
     "3133bec14cff4f2a890c142d85f7eb53": {
      "model_module": "@jupyter-widgets/controls",
      "model_module_version": "1.5.0",
      "model_name": "DescriptionStyleModel",
      "state": {
       "description_width": ""
      }
     },
     "3207925224d34f6c8bf84a40588fed58": {
      "model_module": "@jupyter-widgets/controls",
      "model_module_version": "1.5.0",
      "model_name": "ButtonStyleModel",
      "state": {}
     },
     "339bb7c5bbd24525889f6050716638c6": {
      "model_module": "@jupyter-widgets/controls",
      "model_module_version": "1.5.0",
      "model_name": "DescriptionStyleModel",
      "state": {
       "description_width": ""
      }
     },
     "33ec9c5667a5451786a5c5e914e5dc10": {
      "model_module": "@jupyter-widgets/base",
      "model_module_version": "1.2.0",
      "model_name": "LayoutModel",
      "state": {}
     },
     "343fdbc8ac9046f0be92ef520dcb07c7": {
      "model_module": "@jupyter-widgets/base",
      "model_module_version": "1.2.0",
      "model_name": "LayoutModel",
      "state": {}
     },
     "347acaa63eae4e00a4da54a4e5aa293d": {
      "model_module": "@jupyter-widgets/controls",
      "model_module_version": "1.5.0",
      "model_name": "VBoxModel",
      "state": {
       "children": [
        "IPY_MODEL_f54dce5c967d42ddacd908ff611f1d2e",
        "IPY_MODEL_60c75cd30cc5440faf0dcf062f8f9255"
       ],
       "layout": "IPY_MODEL_cbbda54c90744c78b5a9088ce7e16dcb"
      }
     },
     "34a7af6b22db40fbbd501ad6986ec371": {
      "model_module": "@jupyter-widgets/controls",
      "model_module_version": "1.5.0",
      "model_name": "TextModel",
      "state": {
       "continuous_update": false,
       "description": "name",
       "layout": "IPY_MODEL_ebb168363859428c910fbb683a4d6956",
       "style": "IPY_MODEL_c7e96683ccf54521ad82e02910c90b3d",
       "value": "radinc"
      }
     },
     "34c506a5fd4c4cb994b86db5544979d4": {
      "model_module": "@jupyter-widgets/controls",
      "model_module_version": "1.5.0",
      "model_name": "DescriptionStyleModel",
      "state": {
       "description_width": ""
      }
     },
     "35010fbf5ea3493e9cbc7122e28e5c50": {
      "model_module": "@jupyter-widgets/base",
      "model_module_version": "1.2.0",
      "model_name": "LayoutModel",
      "state": {}
     },
     "352845e9ebe34d14891bd5826b4a2e08": {
      "model_module": "pgljupyter",
      "model_module_version": "^0.1.2",
      "model_name": "MaterialEditorModel",
      "state": {
       "_model_module_version": "^0.1.2",
       "_view_module_version": "^0.1.2",
       "children": [
        "IPY_MODEL_94fe16f4b7b148129026cb2da6d29ef1",
        "IPY_MODEL_1a27b21bce904332a4684e5393644e7e",
        "IPY_MODEL_eb925bb2ec044a0e94904c75d2959be6",
        "IPY_MODEL_aa6f5555faa44f4db554da680a607f63",
        "IPY_MODEL_6368053aed524502b45b99eae25e4e13",
        "IPY_MODEL_175d04d73b0f432ebe88e418f42348fe",
        "IPY_MODEL_b22403f438214a4b8f36317185bdab34",
        "IPY_MODEL_a181f8277527484f82f484b081a7ac2c"
       ],
       "layout": "IPY_MODEL_8dee69fccbb14c7c82aaa8587be93b6d"
      }
     },
     "35f6cf9c439d4fa8ae1b7d5de389c9af": {
      "model_module": "@jupyter-widgets/base",
      "model_module_version": "1.2.0",
      "model_name": "LayoutModel",
      "state": {}
     },
     "36b8f608b82b478f82ede67b0c91fb67": {
      "model_module": "@jupyter-widgets/base",
      "model_module_version": "1.2.0",
      "model_name": "LayoutModel",
      "state": {
       "margin": "20px 0px"
      }
     },
     "37b62d5540e449ff914f8373be62480c": {
      "model_module": "@jupyter-widgets/base",
      "model_module_version": "1.2.0",
      "model_name": "LayoutModel",
      "state": {}
     },
     "38b3bc34ec4749ce97f6df8128c8b58b": {
      "model_module": "@jupyter-widgets/controls",
      "model_module_version": "1.5.0",
      "model_name": "ButtonStyleModel",
      "state": {}
     },
     "39c02487d7c242b79297781e711e63fb": {
      "model_module": "@jupyter-widgets/controls",
      "model_module_version": "1.5.0",
      "model_name": "BoundedIntTextModel",
      "state": {
       "description": "step",
       "layout": "IPY_MODEL_7280887d7a1e420b80c07311475b256f",
       "min": 1,
       "style": "IPY_MODEL_e3ca09485f8f45a38649ee0f2bdcfb30",
       "value": 1
      }
     },
     "3b8c17e62aa54d2eb6ba0c7aa6a6135d": {
      "model_module": "@jupyter-widgets/controls",
      "model_module_version": "1.5.0",
      "model_name": "DropdownModel",
      "state": {
       "_options_labels": [
        "NurbsCurve2D"
       ],
       "index": 0,
       "layout": "IPY_MODEL_8a552e1e88a0406f8658363c552e528f",
       "style": "IPY_MODEL_0405e697af844b2ea91e99af5ca06901"
      }
     },
     "3bccb846b4df4907997b93fed3c1a495": {
      "model_module": "@jupyter-widgets/base",
      "model_module_version": "1.2.0",
      "model_name": "LayoutModel",
      "state": {
       "margin": "20px 0px"
      }
     },
     "3bce6b106d9847ae81d706f5a7c75510": {
      "model_module": "@jupyter-widgets/controls",
      "model_module_version": "1.5.0",
      "model_name": "TextModel",
      "state": {
       "continuous_update": false,
       "description": "name",
       "layout": "IPY_MODEL_252030f955ba480a8f2671f0f6470f4f",
       "style": "IPY_MODEL_978de8ad9ea24bcea235051efc4a1a54",
       "value": "leafold"
      }
     },
     "3c075c2048614d2e8ada7b1f561f4f59": {
      "model_module": "@jupyter-widgets/controls",
      "model_module_version": "1.5.0",
      "model_name": "DescriptionStyleModel",
      "state": {
       "description_width": ""
      }
     },
     "3cf5140e8eaf4f8bb8ba9548db80111d": {
      "model_module": "pgljupyter",
      "model_module_version": "^0.1.2",
      "model_name": "_CurveEditorModel",
      "state": {
       "_model_module_version": "^0.1.2",
       "_view_module_version": "^0.1.2",
       "control_points": [
        [
         -0.5,
         0
        ],
        [
         -0.21058238636363635,
         0.3363636363636364
        ],
        [
         0.045454545454545414,
         -0.2068181818181818
        ],
        [
         0.5,
         0
        ]
       ],
       "curve_type": "BezierCurve2D",
       "layout": "IPY_MODEL_70855785526542688e78359baf1c605b"
      }
     },
     "3e83fe9f30584627863edeb47779fdff": {
      "model_module": "@jupyter-widgets/controls",
      "model_module_version": "1.5.0",
      "model_name": "DescriptionStyleModel",
      "state": {
       "description_width": ""
      }
     },
     "3f61e9dd496f4505be6dc1c84aefdc57": {
      "model_module": "pgljupyter",
      "model_module_version": "^0.1.2",
      "model_name": "MaterialEditorModel",
      "state": {
       "_model_module_version": "^0.1.2",
       "_view_module_version": "^0.1.2",
       "children": [
        "IPY_MODEL_a22da95bced94b0ea758d979b05c4357",
        "IPY_MODEL_7310fb106a0148cba799629b28cfd588",
        "IPY_MODEL_d18d2324b3d64718bcd6376c175c5112",
        "IPY_MODEL_ccc3684d6a3a4acdaac7fa383e67ed43",
        "IPY_MODEL_b1cb0ecc984d47b5b601ac5ead5fda5d",
        "IPY_MODEL_096a27de4fb74defab7139814791f0a3",
        "IPY_MODEL_86b0aab187af49f1a86803563cc19ecd",
        "IPY_MODEL_6d99be388ce6453a934fe45ffafa4844"
       ],
       "layout": "IPY_MODEL_0f8c2f3fd66b445cb01eca6fb7b40014"
      }
     },
     "406c4f5fcf9a45b7be0a39dfef3ec4cb": {
      "model_module": "@jupyter-widgets/controls",
      "model_module_version": "1.5.0",
      "model_name": "DescriptionStyleModel",
      "state": {
       "description_width": ""
      }
     },
     "40af17acda92411d80109dc43358e774": {
      "model_module": "@jupyter-widgets/controls",
      "model_module_version": "1.5.0",
      "model_name": "TabModel",
      "state": {
       "_titles": {
        "0": "leuwenberg.json"
       },
       "children": [
        "IPY_MODEL_d9369247700e41028695aa03301533a3"
       ],
       "layout": "IPY_MODEL_5a1fb8503b2442f9b24cb6b1fece5705"
      }
     },
     "41670547e0cb41e29a72d0cf35a2fb90": {
      "model_module": "@jupyter-widgets/base",
      "model_module_version": "1.2.0",
      "model_name": "LayoutModel",
      "state": {}
     },
     "4194c689e5fa497f9d21a411b43c0a30": {
      "model_module": "@jupyter-widgets/controls",
      "model_module_version": "1.5.0",
      "model_name": "DescriptionStyleModel",
      "state": {
       "description_width": ""
      }
     },
     "41a316cc494844f789d1f1885dfea1cc": {
      "model_module": "@jupyter-widgets/base",
      "model_module_version": "1.2.0",
      "model_name": "LayoutModel",
      "state": {}
     },
     "41a9495cc0b44ca9985500a41664b57b": {
      "model_module": "@jupyter-widgets/base",
      "model_module_version": "1.2.0",
      "model_name": "LayoutModel",
      "state": {}
     },
     "425f0c41e24249038f40431856835760": {
      "model_module": "@jupyter-widgets/base",
      "model_module_version": "1.2.0",
      "model_name": "LayoutModel",
      "state": {}
     },
     "427d650961a94ebc940f5d364721d046": {
      "model_module": "@jupyter-widgets/controls",
      "model_module_version": "1.5.0",
      "model_name": "BoundedIntTextModel",
      "state": {
       "description": "step",
       "layout": "IPY_MODEL_a66d925434884203a2d16ec0b78649fa",
       "min": 1,
       "style": "IPY_MODEL_6123c57c0dbe4538b3dd7c1dd9f725aa",
       "value": 1
      }
     },
     "428c2ac17d184a2c9179180861f4e079": {
      "model_module": "@jupyter-widgets/controls",
      "model_module_version": "1.5.0",
      "model_name": "DescriptionStyleModel",
      "state": {
       "description_width": ""
      }
     },
     "43c13428f9a944b8a460d54eae5ad873": {
      "model_module": "pgljupyter",
      "model_module_version": "^0.1.2",
      "model_name": "FloatEditorModel",
      "state": {
       "_model_module_version": "^0.1.2",
       "_view_module_version": "^0.1.2",
       "children": [
        "IPY_MODEL_34a7af6b22db40fbbd501ad6986ec371",
        "IPY_MODEL_afd9593ec0b84617b0ed87c718ceb620",
        "IPY_MODEL_d8d05d5a29a74efe9d2384ef9c0949d6",
        "IPY_MODEL_05baa82cf2bd4d19ae29886c495c838c",
        "IPY_MODEL_d0804158d8994796a57cce09e55d1e9d"
       ],
       "layout": "IPY_MODEL_b25e2955a34f4430becede98d6b4bc0e"
      }
     },
     "4452954c947d4500a16a79d71d3c2e7b": {
      "model_module": "pgljupyter",
      "model_module_version": "^0.1.2",
      "model_name": "CurveEditorModel",
      "state": {
       "_model_module_version": "^0.1.2",
       "_view_module_version": "^0.1.2",
       "children": [
        "IPY_MODEL_d3548b90ef3247ad9a07bc040218e2ba",
        "IPY_MODEL_9dded11f5a544de8be867b50bfcc065d"
       ],
       "layout": "IPY_MODEL_1834dc530a084c8498f3cad2f679f317"
      }
     },
     "471581ae848649c4b2d3b9f91531c7c1": {
      "model_module": "@jupyter-widgets/base",
      "model_module_version": "1.2.0",
      "model_name": "LayoutModel",
      "state": {}
     },
     "47214f6427f7418fbaf69a73417a8a32": {
      "model_module": "@jupyter-widgets/base",
      "model_module_version": "1.2.0",
      "model_name": "LayoutModel",
      "state": {}
     },
     "493d5a5387c94ff6bb50e2aaa48fcbf4": {
      "model_module": "@jupyter-widgets/base",
      "model_module_version": "1.2.0",
      "model_name": "LayoutModel",
      "state": {}
     },
     "4ab95f25721548e9a6f9af0e22f82169": {
      "model_module": "@jupyter-widgets/base",
      "model_module_version": "1.2.0",
      "model_name": "LayoutModel",
      "state": {}
     },
     "4acdde3cfbf843c8afbee44ec9794ebd": {
      "model_module": "@jupyter-widgets/controls",
      "model_module_version": "1.5.0",
      "model_name": "DescriptionStyleModel",
      "state": {
       "description_width": ""
      }
     },
     "4b3a9d9aa43144fca24393575055b6a0": {
      "model_module": "@jupyter-widgets/base",
      "model_module_version": "1.2.0",
      "model_name": "LayoutModel",
      "state": {
       "margin": "20px 0px"
      }
     },
     "4b64ee9c6a43480d901f5465b9f72678": {
      "model_module": "@jupyter-widgets/controls",
      "model_module_version": "1.5.0",
      "model_name": "ButtonStyleModel",
      "state": {}
     },
     "4bbbae79a86144d493f18b5c2c7594dc": {
      "model_module": "@jupyter-widgets/base",
      "model_module_version": "1.2.0",
      "model_name": "LayoutModel",
      "state": {}
     },
     "4c8db41d749847e5a3305abcaf3731a3": {
      "model_module": "@jupyter-widgets/controls",
      "model_module_version": "1.5.0",
      "model_name": "IntTextModel",
      "state": {
       "description": "min",
       "layout": "IPY_MODEL_1d3a1be6a6084091b6a39ee2a8027c89",
       "step": 1,
       "style": "IPY_MODEL_0a24786ecfbe4e24a5250a48a1b6d358",
       "value": 1
      }
     },
     "4ccd58c794d4443dbe55872516e36d08": {
      "model_module": "@jupyter-widgets/controls",
      "model_module_version": "1.5.0",
      "model_name": "FloatSliderModel",
      "state": {
       "description": "shininess",
       "layout": "IPY_MODEL_e0d3b484200b4472a943c361ea5e1294",
       "max": 1,
       "step": 0.1,
       "style": "IPY_MODEL_54b30b3e72bb46fda919a34e55895666",
       "value": 0.7
      }
     },
     "4db88b4aa5fb42a5b872196a8c76eb37": {
      "model_module": "pgljupyter",
      "model_module_version": "^0.1.2",
      "model_name": "_CurveEditorModel",
      "state": {
       "_model_module_version": "^0.1.2",
       "_view_module_version": "^0.1.2",
       "control_points": [
        [
         -0.5,
         0
        ],
        [
         -0.25,
         0.25
        ],
        [
         0.11363636363636365,
         -0.19545454545454544
        ],
        [
         0.25,
         0.25
        ],
        [
         0.5,
         0
        ]
       ],
       "curve_type": "NurbsCurve2D",
       "is_function": true,
       "layout": "IPY_MODEL_10589094c39140b8919a9555a61f9f09"
      }
     },
     "4dbbec1ba4df4a18a3c1e89398b3495e": {
      "model_module": "@jupyter-widgets/controls",
      "model_module_version": "1.5.0",
      "model_name": "SliderStyleModel",
      "state": {
       "description_width": ""
      }
     },
     "4ebaed4962d34cb98cda2e52d678023a": {
      "model_module": "@jupyter-widgets/controls",
      "model_module_version": "1.5.0",
      "model_name": "DescriptionStyleModel",
      "state": {
       "description_width": ""
      }
     },
     "4f287b2a341448d9a798e24f4f22f436": {
      "model_module": "@jupyter-widgets/controls",
      "model_module_version": "1.5.0",
      "model_name": "IntTextModel",
      "state": {
       "description": "max",
       "layout": "IPY_MODEL_c8945ff55f3e4299bc6baee965a89100",
       "step": 1,
       "style": "IPY_MODEL_8298bb29a5c745799439a58c350b6a9a",
       "value": 10
      }
     },
     "4f98121246334297a02fb360aff2e606": {
      "model_module": "@jupyter-widgets/controls",
      "model_module_version": "1.5.0",
      "model_name": "IntTextModel",
      "state": {
       "description": "max",
       "layout": "IPY_MODEL_19db9ae357b3453fbd2da22eadb8956e",
       "step": 1,
       "style": "IPY_MODEL_6f8bb26a5dc749afa2ac8bd008a7e44c",
       "value": 10
      }
     },
     "5033c64811d044d4bfb1668fefbe13dd": {
      "model_module": "@jupyter-widgets/controls",
      "model_module_version": "1.5.0",
      "model_name": "DescriptionStyleModel",
      "state": {
       "description_width": ""
      }
     },
     "50b5640fcf26472bb3b7a44f52d8e1e5": {
      "model_module": "@jupyter-widgets/controls",
      "model_module_version": "1.5.0",
      "model_name": "ButtonModel",
      "state": {
       "description": "Delete",
       "layout": "IPY_MODEL_02dfbd0f3f494360ad5c3be0612bc61f",
       "style": "IPY_MODEL_b667c2ac1f16455daba01fec1e350f9a"
      }
     },
     "50f6ca45ee7c4be8ab97d014e4b3619d": {
      "model_module": "@jupyter-widgets/controls",
      "model_module_version": "1.5.0",
      "model_name": "HBoxModel",
      "state": {
       "children": [
        "IPY_MODEL_76828b02847f49ffabf74ca1c0f2de97",
        "IPY_MODEL_5cc64d948421470ca2d0fdfbabb9f894",
        "IPY_MODEL_97b1c094320146c1bccde87922ad76ab",
        "IPY_MODEL_ec24f35bb3fa42c4a49afed0c7c8655d"
       ],
       "layout": "IPY_MODEL_2c758a39f7fc445fb36328a5392bc3cb"
      }
     },
     "514cfc19ebf74685ab74dd7b7a22c471": {
      "model_module": "@jupyter-widgets/controls",
      "model_module_version": "1.5.0",
      "model_name": "SliderStyleModel",
      "state": {
       "description_width": ""
      }
     },
     "525695082907441b9d5fe716c55b2141": {
      "model_module": "@jupyter-widgets/controls",
      "model_module_version": "1.5.0",
      "model_name": "IntTextModel",
      "state": {
       "description": "min",
       "layout": "IPY_MODEL_77bd1f060fa34f0f829dcac933f97e94",
       "step": 1,
       "style": "IPY_MODEL_9e81f7640e8f4efe9c6911df87f9bc06",
       "value": 1
      }
     },
     "52ca1ed525844e04951491c3bedc20bd": {
      "model_module": "pgljupyter",
      "model_module_version": "^0.1.2",
      "model_name": "ParameterEditorModel",
      "state": {
       "_model_module_version": "^0.1.2",
       "_view_module_version": "^0.1.2",
       "children": [
        "IPY_MODEL_0363dd6f49f04bb58c913c0d2c5c903b"
       ],
       "layout": "IPY_MODEL_84896375a43b4ce3b3339763cff16672"
      }
     },
     "52cf68e476164b149a0ae8a47536c3d5": {
      "model_module": "@jupyter-widgets/controls",
      "model_module_version": "1.5.0",
      "model_name": "IntTextModel",
      "state": {
       "description": "min",
       "layout": "IPY_MODEL_a0e11695f24944bf94fad5b77ca3bcf3",
       "step": 1,
       "style": "IPY_MODEL_1011fc19b1da457cba092f3ff3475f19",
       "value": 1
      }
     },
     "52d545c83d3e481487b0166b187bf347": {
      "model_module": "@jupyter-widgets/controls",
      "model_module_version": "1.5.0",
      "model_name": "TabModel",
      "state": {
       "layout": "IPY_MODEL_a68b7fc99f404294906f8f19e3fbcf4a"
      }
     },
     "52ed3b29cc924319aa39707f79b42d17": {
      "model_module": "@jupyter-widgets/base",
      "model_module_version": "1.2.0",
      "model_name": "LayoutModel",
      "state": {}
     },
     "543e057f74d34186b9646b8011bf4a79": {
      "model_module": "@jupyter-widgets/base",
      "model_module_version": "1.2.0",
      "model_name": "LayoutModel",
      "state": {}
     },
     "54769b26134a4b46a9dd5a9fb3fe96f0": {
      "model_module": "@jupyter-widgets/controls",
      "model_module_version": "1.5.0",
      "model_name": "HBoxModel",
      "state": {
       "layout": "IPY_MODEL_1dbafdd152c84ab4b7288ac443955d83"
      }
     },
     "547c418d86ec4fce8644a63a4d9fad45": {
      "model_module": "@jupyter-widgets/controls",
      "model_module_version": "1.5.0",
      "model_name": "BoundedIntTextModel",
      "state": {
       "description": "index",
       "layout": "IPY_MODEL_c0a0b6ba4761420fa5e80e161bdb896d",
       "style": "IPY_MODEL_fd7d330ce7384b0b8b5b1d06fe02e1b5",
       "value": 4
      }
     },
     "54b30b3e72bb46fda919a34e55895666": {
      "model_module": "@jupyter-widgets/controls",
      "model_module_version": "1.5.0",
      "model_name": "SliderStyleModel",
      "state": {
       "description_width": ""
      }
     },
     "54e18e6488554c9eb34ba05898de159c": {
      "model_module": "@jupyter-widgets/controls",
      "model_module_version": "1.5.0",
      "model_name": "DescriptionStyleModel",
      "state": {
       "description_width": ""
      }
     },
     "55e50482ddd14ec08b2e2699040ec3a6": {
      "model_module": "@jupyter-widgets/controls",
      "model_module_version": "1.5.0",
      "model_name": "FloatSliderModel",
      "state": {
       "description": "diffuse",
       "layout": "IPY_MODEL_ee2e3e4b8e134b2f9faf01615d057f6b",
       "max": 1,
       "step": 0.1,
       "style": "IPY_MODEL_2b3bf360eab343d593671b7dbea90bd5",
       "value": 1
      }
     },
     "574863a6cad34aef8e40d8339970a06e": {
      "model_module": "@jupyter-widgets/base",
      "model_module_version": "1.2.0",
      "model_name": "LayoutModel",
      "state": {}
     },
     "57a7f707d08c4c63bf3ba337a4ba07e7": {
      "model_module": "@jupyter-widgets/base",
      "model_module_version": "1.2.0",
      "model_name": "LayoutModel",
      "state": {}
     },
     "5869b36a3dbb49e7ac247b1feb7974f0": {
      "model_module": "@jupyter-widgets/controls",
      "model_module_version": "1.5.0",
      "model_name": "DescriptionStyleModel",
      "state": {
       "description_width": ""
      }
     },
     "587dd5a4d2b8417b9922df6385c8d282": {
      "model_module": "pgljupyter",
      "model_module_version": "^0.1.2",
      "model_name": "ParameterEditorModel",
      "state": {
       "_model_module_version": "^0.1.2",
       "_view_module_version": "^0.1.2",
       "children": [
        "IPY_MODEL_95ba0750d90d46549f250d00ed29fe90"
       ],
       "layout": "IPY_MODEL_9a5bea988e4b44239c09cfdf7b695751"
      }
     },
     "593c45add93e470fa160defc86ae8503": {
      "model_module": "@jupyter-widgets/controls",
      "model_module_version": "1.5.0",
      "model_name": "ButtonModel",
      "state": {
       "description": "Save changes",
       "disabled": true,
       "layout": "IPY_MODEL_006c860d83bb44f197de8a363c8000ca",
       "style": "IPY_MODEL_73f500e006d84a9c84319ee4b2755109"
      }
     },
     "5965992f600047acaf09d3042fa191f5": {
      "model_module": "@jupyter-widgets/controls",
      "model_module_version": "1.5.0",
      "model_name": "DescriptionStyleModel",
      "state": {
       "description_width": ""
      }
     },
     "5a1fb8503b2442f9b24cb6b1fece5705": {
      "model_module": "@jupyter-widgets/base",
      "model_module_version": "1.2.0",
      "model_name": "LayoutModel",
      "state": {}
     },
     "5a20bedfc3174238b2ea8c131168e933": {
      "model_module": "@jupyter-widgets/base",
      "model_module_version": "1.2.0",
      "model_name": "LayoutModel",
      "state": {
       "margin": "20px 0px"
      }
     },
     "5a27be4bb9c048a2bb54f5eb48c09787": {
      "model_module": "@jupyter-widgets/controls",
      "model_module_version": "1.5.0",
      "model_name": "DescriptionStyleModel",
      "state": {
       "description_width": ""
      }
     },
     "5a2e5528074949ac9f2d0bd4dfa6342a": {
      "model_module": "@jupyter-widgets/controls",
      "model_module_version": "1.5.0",
      "model_name": "ButtonStyleModel",
      "state": {}
     },
     "5b0cb2a6a992436289ac3a0b8e7bae75": {
      "model_module": "@jupyter-widgets/base",
      "model_module_version": "1.2.0",
      "model_name": "LayoutModel",
      "state": {
       "margin": "20px 0px"
      }
     },
     "5bb3e8d0cda8438b902ddf054f47aca2": {
      "model_module": "@jupyter-widgets/controls",
      "model_module_version": "1.5.0",
      "model_name": "DropdownModel",
      "state": {
       "_options_labels": [
        "color_1",
        "color_2",
        "color_4"
       ],
       "index": 0,
       "layout": "IPY_MODEL_c95cf67e99be4e26a62abb82e9ca131b",
       "style": "IPY_MODEL_b8edda361f7c45fca84ae1034a46206a"
      }
     },
     "5be4664a6e1f4328bbc274b21c1c5c15": {
      "model_module": "@jupyter-widgets/controls",
      "model_module_version": "1.5.0",
      "model_name": "BoundedIntTextModel",
      "state": {
       "description": "step",
       "layout": "IPY_MODEL_52ed3b29cc924319aa39707f79b42d17",
       "min": 1,
       "style": "IPY_MODEL_2ff2e549a4684de5a2db6f29b2366fd5",
       "value": 1
      }
     },
     "5cc64d948421470ca2d0fdfbabb9f894": {
      "model_module": "@jupyter-widgets/controls",
      "model_module_version": "1.5.0",
      "model_name": "DropdownModel",
      "state": {
       "_options_labels": [
        "Integer",
        "Float",
        "Bool"
       ],
       "index": 0,
       "layout": "IPY_MODEL_6d9c7f7305ad4ec4afff7c03238f241a",
       "style": "IPY_MODEL_952046052d024f28bf70c8a76f65f14a"
      }
     },
     "5d5b275d15b946cbbaaf085b88ac6394": {
      "model_module": "@jupyter-widgets/base",
      "model_module_version": "1.2.0",
      "model_name": "LayoutModel",
      "state": {}
     },
     "5d943e0e9e654ffd89088143a379e75e": {
      "model_module": "@jupyter-widgets/base",
      "model_module_version": "1.2.0",
      "model_name": "LayoutModel",
      "state": {}
     },
     "5e191573a5924d1887ed7d21c6786fdf": {
      "model_module": "@jupyter-widgets/controls",
      "model_module_version": "1.5.0",
      "model_name": "CheckboxModel",
      "state": {
       "description": "Auto save",
       "disabled": false,
       "layout": "IPY_MODEL_ad94bfff93e04101a47bfab77c5253cf",
       "style": "IPY_MODEL_a0eb9b213db94887a716ff41a5edf851",
       "value": true
      }
     },
     "5e420e22516544c99e03c561351caa77": {
      "model_module": "@jupyter-widgets/controls",
      "model_module_version": "1.5.0",
      "model_name": "IntTextModel",
      "state": {
       "description": "max",
       "layout": "IPY_MODEL_0fc05305117943d28f9afe7ecc9aa553",
       "step": 1,
       "style": "IPY_MODEL_3e83fe9f30584627863edeb47779fdff",
       "value": 10
      }
     },
     "5eed3d4518234051843f485cc369deff": {
      "model_module": "pgljupyter",
      "model_module_version": "^0.1.2",
      "model_name": "IntEditorModel",
      "state": {
       "_model_module_version": "^0.1.2",
       "_view_module_version": "^0.1.2",
       "children": [
        "IPY_MODEL_c580a4d8ab98468a9d0492ff60aa2379",
        "IPY_MODEL_dc93e065fc0b494a9a9f6ed34b82a08a",
        "IPY_MODEL_aa93ebe5f3724dc68c642492005612b9",
        "IPY_MODEL_be32dc92ecd64abcb793bf8183527506",
        "IPY_MODEL_78b7a0be83c644fdb993627391ce7ebf"
       ],
       "layout": "IPY_MODEL_5b0cb2a6a992436289ac3a0b8e7bae75"
      }
     },
     "5fcc45e79e4548fd9842f2b10f8450e1": {
      "model_module": "pgljupyter",
      "model_module_version": "^0.1.2",
      "model_name": "_CurveEditorModel",
      "state": {
       "_model_module_version": "^0.1.2",
       "_view_module_version": "^0.1.2",
       "control_points": [
        [
         -0.5,
         0
        ],
        [
         -0.35,
         0.23636363636363636
        ],
        [
         -0.09545454545454546,
         0.3318181818181818
        ],
        [
         0.19545454545454544,
         0.1409090909090909
        ],
        [
         -0.02727272727272731,
         0.04545454545454544
        ]
       ],
       "curve_type": "NurbsCurve2D",
       "layout": "IPY_MODEL_9a8af2a83e724b998e08021ea97d1c9b"
      }
     },
     "600fc76dfafc45f08e55eb4bb9f99a20": {
      "buffers": [
       {
        "data": "eNpTTHJ39fdlYFBw4OVSUFZWZGVgYGBiZQjOSCxIZQSymTkYfBNLUosyE3NAXGFOBteKkqLS4sz8PBBfioMhID+nMiczD6xajQvONXIBCSiCCCYJhmAPxwBXT5d4w3hLE2NTS3NTE3NzUwsjE5A02FwGMJBmAhJnz/jYQ/AZWxCGSDXsB5FSEA4TA05gDyIY1RgYODgOXOeEaAWLfWYxtQfh4v7Na0BiQPZ+EB9kdHG/8Voof/+01W26IDGo+v0w/YzM7AzJ+Tn5RfGGAac3X7dL8LUDAAmoRUw=",
        "encoding": "base64",
        "path": [
         "scene",
         "data"
        ]
       }
      ],
      "model_module": "pgljupyter",
      "model_module_version": "^0.1.2",
      "model_name": "LsystemWidgetModel",
      "state": {
       "_model_module_version": "^0.1.2",
       "_view_module_version": "^0.1.2",
       "axes_helper": false,
       "derivationLength": 45,
       "layout": "IPY_MODEL_8f477e2e294f4e3492be7dbd7786b8fb",
       "light_helper": false,
       "plane": true,
       "scene": {
        "data": {},
        "derivationStep": 0,
        "id": 0,
        "scene": "<openalea.plantgl.scenegraph._pglsg.Scene object at 0x7ff99fb343f0>"
       },
       "size_display": [
        400,
        400
       ],
       "size_world": [
        10,
        10,
        10
       ],
       "unit": 1
      }
     },
     "60c75cd30cc5440faf0dcf062f8f9255": {
      "model_module": "@jupyter-widgets/controls",
      "model_module_version": "1.5.0",
      "model_name": "HBoxModel",
      "state": {
       "children": [
        "IPY_MODEL_6a6f615de03a4649af512f135b152984",
        "IPY_MODEL_c46f5ff856fd462f9aa4c788ae2e855f",
        "IPY_MODEL_2daaf6242ed9461985d9559a718b68a5"
       ],
       "layout": "IPY_MODEL_1dbafdd152c84ab4b7288ac443955d83"
      }
     },
     "6120d60994144590bb1063cb54022e89": {
      "model_module": "@jupyter-widgets/controls",
      "model_module_version": "1.5.0",
      "model_name": "ColorPickerModel",
      "state": {
       "description": "specular",
       "disabled": false,
       "layout": "IPY_MODEL_78d652192b4b4743bc2c5517507e5afc",
       "style": "IPY_MODEL_138e5976c87e467db45a4df41b5803ab",
       "value": "#478f9f"
      }
     },
     "6123c57c0dbe4538b3dd7c1dd9f725aa": {
      "model_module": "@jupyter-widgets/controls",
      "model_module_version": "1.5.0",
      "model_name": "DescriptionStyleModel",
      "state": {
       "description_width": ""
      }
     },
     "617dd871b3974aa984eea01a4c161657": {
      "model_module": "pgljupyter",
      "model_module_version": "^0.1.2",
      "model_name": "_CurveEditorModel",
      "state": {
       "_model_module_version": "^0.1.2",
       "_view_module_version": "^0.1.2",
       "control_points": [
        [
         -0.5,
         0
        ],
        [
         -0.25,
         0.25
        ],
        [
         0,
         -0.25
        ],
        [
         0.25,
         0.25
        ],
        [
         0.5,
         0
        ]
       ],
       "curve_type": "NurbsCurve2D",
       "layout": "IPY_MODEL_b0c4b4c1dd984e44aaa7bb43a9eaa03f"
      }
     },
     "6222902e646a4c918719f62a19ad6f37": {
      "model_module": "@jupyter-widgets/base",
      "model_module_version": "1.2.0",
      "model_name": "LayoutModel",
      "state": {}
     },
     "623430f9ad264a569f56254963833d42": {
      "model_module": "@jupyter-widgets/controls",
      "model_module_version": "1.5.0",
      "model_name": "TextModel",
      "state": {
       "continuous_update": false,
       "description": "name",
       "layout": "IPY_MODEL_763e8c82a8a341a1b6a154f9b443d6ad",
       "style": "IPY_MODEL_f378e5f9f0b6407c8d4b7b8343855811",
       "value": "NurbsCurve2D_0"
      }
     },
     "6368053aed524502b45b99eae25e4e13": {
      "model_module": "@jupyter-widgets/controls",
      "model_module_version": "1.5.0",
      "model_name": "ColorPickerModel",
      "state": {
       "description": "emission",
       "disabled": false,
       "layout": "IPY_MODEL_786ed63a12464723a7f0b5d57199c2f7",
       "style": "IPY_MODEL_a20e2dbbc07b4e4b9085d82841a24a03",
       "value": "#1f48db"
      }
     },
     "64284312bcd04c15829fdb46e542237c": {
      "model_module": "@jupyter-widgets/controls",
      "model_module_version": "1.5.0",
      "model_name": "ColorPickerModel",
      "state": {
       "description": "specular",
       "disabled": false,
       "layout": "IPY_MODEL_0e232481024146b19ac53c3590e4a691",
       "style": "IPY_MODEL_34c506a5fd4c4cb994b86db5544979d4",
       "value": "#478f9f"
      }
     },
     "64988f0b5e374ed49f93bfb333503a97": {
      "model_module": "@jupyter-widgets/controls",
      "model_module_version": "1.5.0",
      "model_name": "DescriptionStyleModel",
      "state": {
       "description_width": ""
      }
     },
     "649d1541de7b46a0b1ee576e245cf092": {
      "model_module": "@jupyter-widgets/base",
      "model_module_version": "1.2.0",
      "model_name": "LayoutModel",
      "state": {}
     },
     "6509e7284ebf48ea8852e819d225daf6": {
      "model_module": "@jupyter-widgets/controls",
      "model_module_version": "1.5.0",
      "model_name": "DescriptionStyleModel",
      "state": {
       "description_width": ""
      }
     },
     "65bdf3a7d2c248919a89fc3a98dfb617": {
      "model_module": "@jupyter-widgets/controls",
      "model_module_version": "1.5.0",
      "model_name": "DescriptionStyleModel",
      "state": {
       "description_width": ""
      }
     },
     "660849255c0f44c4bfdc973e0a97035b": {
      "model_module": "@jupyter-widgets/controls",
      "model_module_version": "1.5.0",
      "model_name": "BoundedIntTextModel",
      "state": {
       "description": "index",
       "layout": "IPY_MODEL_db2c3d17ca504ca5b12bf8431213c47a",
       "style": "IPY_MODEL_14b6bd5944294c1584714b8a69fb3b44",
       "value": 1
      }
     },
     "6619d75e6a884ddf96b7d93f22aa80d4": {
      "model_module": "@jupyter-widgets/controls",
      "model_module_version": "1.5.0",
      "model_name": "DescriptionStyleModel",
      "state": {
       "description_width": ""
      }
     },
     "6655a1fa38d14dc0990e87852b5b4bda": {
      "model_module": "@jupyter-widgets/base",
      "model_module_version": "1.2.0",
      "model_name": "LayoutModel",
      "state": {}
     },
     "677f5c34bf3d4ae78e59a950c381d3d9": {
      "model_module": "@jupyter-widgets/controls",
      "model_module_version": "1.5.0",
      "model_name": "AccordionModel",
      "state": {
       "_titles": {
        "0": "scalars",
        "1": "materials",
        "2": "functions",
        "3": "curves"
       },
       "children": [
        "IPY_MODEL_c8f45965b1124a4a90d52cde0a186035",
        "IPY_MODEL_28e28f98ef9542749eeea320db4cb0e4",
        "IPY_MODEL_b9eb8d3f8c6a4b18a72f185724416aa4",
        "IPY_MODEL_27f3e2e5bd414ac1ad3c19f37247942e"
       ],
       "layout": "IPY_MODEL_201f1a1a76c240bd9efc0e2bb60a3035",
       "selected_index": 3
      }
     },
     "68a999f616cb409eaf56145edc21d134": {
      "model_module": "@jupyter-widgets/controls",
      "model_module_version": "1.5.0",
      "model_name": "ButtonModel",
      "state": {
       "description": "Add",
       "layout": "IPY_MODEL_fe83071c6a9940158069480e78541e89",
       "style": "IPY_MODEL_1528398a025c46599e2ad6d8bc592960"
      }
     },
     "68e4bdf17af9497eb7aa9c99b80ac715": {
      "model_module": "@jupyter-widgets/controls",
      "model_module_version": "1.5.0",
      "model_name": "IntSliderModel",
      "state": {
       "description": "value",
       "layout": "IPY_MODEL_ed77f043f57c453185e88f41eb97980c",
       "max": 10,
       "min": 1,
       "style": "IPY_MODEL_bed3960f239c45c989041abe69ed15fd",
       "value": 8
      }
     },
     "690f42ae5a094b499d0de205cfa3414f": {
      "model_module": "@jupyter-widgets/controls",
      "model_module_version": "1.5.0",
      "model_name": "DescriptionStyleModel",
      "state": {
       "description_width": ""
      }
     },
     "6a29a2123883407c9f1782ab4ccc29a2": {
      "model_module": "@jupyter-widgets/controls",
      "model_module_version": "1.5.0",
      "model_name": "DescriptionStyleModel",
      "state": {
       "description_width": ""
      }
     },
     "6a6f615de03a4649af512f135b152984": {
      "model_module": "pgljupyter",
      "model_module_version": "^0.1.2",
      "model_name": "MaterialEditorModel",
      "state": {
       "_model_module_version": "^0.1.2",
       "_view_module_version": "^0.1.2",
       "children": [
        "IPY_MODEL_c46c96224a2c4453bc909a37698703a4",
        "IPY_MODEL_0ce72c849bc04be1ace040e227e17d68",
        "IPY_MODEL_1ed24c18a95c414f91f22ce72969f31c",
        "IPY_MODEL_64284312bcd04c15829fdb46e542237c",
        "IPY_MODEL_f9f743e89f6a4cc3af534e5d9f0f052d",
        "IPY_MODEL_6bfb2d182dcd4ae2be5bd9a133edb487",
        "IPY_MODEL_ba414c61699f4ef78a51f82ac1b8dfdd",
        "IPY_MODEL_4ccd58c794d4443dbe55872516e36d08"
       ],
       "layout": "IPY_MODEL_36b8f608b82b478f82ede67b0c91fb67"
      }
     },
     "6b2707d91e9942bc8b595dfd3b63cc46": {
      "model_module": "pgljupyter",
      "model_module_version": "^0.1.2",
      "model_name": "_CurveEditorModel",
      "state": {
       "_model_module_version": "^0.1.2",
       "_view_module_version": "^0.1.2",
       "control_points": [
        [
         -0.5,
         0
        ],
        [
         -0.16818181818181818,
         0.3909090909090909
        ],
        [
         0.14396306818181814,
         -0.19545454545454544
        ],
        [
         0.5,
         0
        ]
       ],
       "curve_type": "Polyline2D",
       "layout": "IPY_MODEL_a8fd500864cb4891bf6ee0c6efef290e"
      }
     },
     "6b42ee7a9908446f983fc6c0005656ad": {
      "model_module": "@jupyter-widgets/controls",
      "model_module_version": "1.5.0",
      "model_name": "DescriptionStyleModel",
      "state": {
       "description_width": ""
      }
     },
     "6bb8958c70624458abcfedad592ad4c1": {
      "model_module": "@jupyter-widgets/base",
      "model_module_version": "1.2.0",
      "model_name": "LayoutModel",
      "state": {}
     },
     "6bfb2d182dcd4ae2be5bd9a133edb487": {
      "model_module": "@jupyter-widgets/controls",
      "model_module_version": "1.5.0",
      "model_name": "FloatSliderModel",
      "state": {
       "description": "diffuse",
       "layout": "IPY_MODEL_2324b9eea997437aa217c0493ef8036f",
       "max": 1,
       "step": 0.1,
       "style": "IPY_MODEL_7e46666caca84af194dd3330296034d5"
      }
     },
     "6c376598cf884f69ac27c0f80c3af2d6": {
      "model_module": "@jupyter-widgets/controls",
      "model_module_version": "1.5.0",
      "model_name": "DescriptionStyleModel",
      "state": {
       "description_width": ""
      }
     },
     "6d6a59f4c0714f90bac64afd6f756b8f": {
      "model_module": "@jupyter-widgets/base",
      "model_module_version": "1.2.0",
      "model_name": "LayoutModel",
      "state": {}
     },
     "6d99be388ce6453a934fe45ffafa4844": {
      "model_module": "@jupyter-widgets/controls",
      "model_module_version": "1.5.0",
      "model_name": "FloatSliderModel",
      "state": {
       "description": "shininess",
       "layout": "IPY_MODEL_9c51672f28084fde83f4d2dabbb178c3",
       "max": 1,
       "step": 0.1,
       "style": "IPY_MODEL_1b226e991f4a4f2d924d9603e31020a1",
       "value": 0.5
      }
     },
     "6d9c7f7305ad4ec4afff7c03238f241a": {
      "model_module": "@jupyter-widgets/base",
      "model_module_version": "1.2.0",
      "model_name": "LayoutModel",
      "state": {}
     },
     "6e422346b87a4c5b92c0c8c310df3122": {
      "model_module": "@jupyter-widgets/controls",
      "model_module_version": "1.5.0",
      "model_name": "SliderStyleModel",
      "state": {
       "description_width": ""
      }
     },
     "6f131f3f67634df98fb30f26c0ba3c14": {
      "model_module": "@jupyter-widgets/controls",
      "model_module_version": "1.5.0",
      "model_name": "ButtonStyleModel",
      "state": {}
     },
     "6f8bb26a5dc749afa2ac8bd008a7e44c": {
      "model_module": "@jupyter-widgets/controls",
      "model_module_version": "1.5.0",
      "model_name": "DescriptionStyleModel",
      "state": {
       "description_width": ""
      }
     },
     "6fa1a051eef947a3b163d4793ac7cd99": {
      "model_module": "@jupyter-widgets/controls",
      "model_module_version": "1.5.0",
      "model_name": "ButtonStyleModel",
      "state": {}
     },
     "6fd435da494e4788b2340331b704c70e": {
      "model_module": "@jupyter-widgets/base",
      "model_module_version": "1.2.0",
      "model_name": "LayoutModel",
      "state": {}
     },
     "7007a25b0d9d449f82f3f6c626257ee5": {
      "model_module": "@jupyter-widgets/base",
      "model_module_version": "1.2.0",
      "model_name": "LayoutModel",
      "state": {}
     },
     "70855785526542688e78359baf1c605b": {
      "model_module": "@jupyter-widgets/base",
      "model_module_version": "1.2.0",
      "model_name": "LayoutModel",
      "state": {}
     },
     "70f7a900cde34f19a9c40852e3201de6": {
      "model_module": "@jupyter-widgets/controls",
      "model_module_version": "1.5.0",
      "model_name": "ColorPickerModel",
      "state": {
       "description": "ambient",
       "disabled": false,
       "layout": "IPY_MODEL_8b5a4b520c81467f891fd15960b777f4",
       "style": "IPY_MODEL_df95ab311aec4dfa843cb14b58334dec",
       "value": "#e1a014"
      }
     },
     "715cfdcd6c964bef8eb9f15d8cbf8678": {
      "model_module": "@jupyter-widgets/controls",
      "model_module_version": "1.5.0",
      "model_name": "FloatSliderModel",
      "state": {
       "description": "transparency",
       "layout": "IPY_MODEL_1530bfd1074a4e8fbad49b4df4e964b5",
       "max": 1,
       "step": 0.1,
       "style": "IPY_MODEL_b39464d608c9476b884a194019aeea92"
      }
     },
     "7280887d7a1e420b80c07311475b256f": {
      "model_module": "@jupyter-widgets/base",
      "model_module_version": "1.2.0",
      "model_name": "LayoutModel",
      "state": {}
     },
     "72bc1e35e1b440dab2d04d8572c085d8": {
      "model_module": "@jupyter-widgets/base",
      "model_module_version": "1.2.0",
      "model_name": "LayoutModel",
      "state": {}
     },
     "7310fb106a0148cba799629b28cfd588": {
      "model_module": "@jupyter-widgets/controls",
      "model_module_version": "1.5.0",
      "model_name": "BoundedIntTextModel",
      "state": {
       "description": "index",
       "layout": "IPY_MODEL_2299fe15e03b48dda7759b4bf26db86e",
       "style": "IPY_MODEL_eeab74f6f1a84721a8eb814d0d0499fc",
       "value": 2
      }
     },
     "7370d67c85ca45f99ec4b794aa6baea5": {
      "model_module": "@jupyter-widgets/controls",
      "model_module_version": "1.5.0",
      "model_name": "HBoxModel",
      "state": {
       "children": [
        "IPY_MODEL_68a999f616cb409eaf56145edc21d134",
        "IPY_MODEL_965bd59a86534e949f83f3fe45f31fe8",
        "IPY_MODEL_a20b73a02aa64f1aa2635be402379fd2",
        "IPY_MODEL_26661f90cfc247b4aa51a0584e2d50c9"
       ],
       "layout": "IPY_MODEL_2c758a39f7fc445fb36328a5392bc3cb"
      }
     },
     "738f9659f28b43cf9dd1fbc37d0b8b4c": {
      "model_module": "@jupyter-widgets/controls",
      "model_module_version": "1.5.0",
      "model_name": "DescriptionStyleModel",
      "state": {
       "description_width": ""
      }
     },
     "73f500e006d84a9c84319ee4b2755109": {
      "model_module": "@jupyter-widgets/controls",
      "model_module_version": "1.5.0",
      "model_name": "ButtonStyleModel",
      "state": {}
     },
     "75d3e76ba91f4678a3a3444870c33a8e": {
      "model_module": "@jupyter-widgets/controls",
      "model_module_version": "1.5.0",
      "model_name": "SliderStyleModel",
      "state": {
       "description_width": ""
      }
     },
     "75e4bd3534f543b4899c48d354a9a7b6": {
      "model_module": "@jupyter-widgets/controls",
      "model_module_version": "1.5.0",
      "model_name": "TabModel",
      "state": {
       "_titles": {
        "0": "leuwenberg.json"
       },
       "children": [
        "IPY_MODEL_677f5c34bf3d4ae78e59a950c381d3d9"
       ],
       "layout": "IPY_MODEL_57a7f707d08c4c63bf3ba337a4ba07e7"
      }
     },
     "75f428afc0a3423fb7e534bdd51258c5": {
      "model_module": "@jupyter-widgets/controls",
      "model_module_version": "1.5.0",
      "model_name": "DescriptionStyleModel",
      "state": {
       "description_width": ""
      }
     },
     "7603ec0ea97040b8b5273ff4abfa9ec8": {
      "model_module": "@jupyter-widgets/controls",
      "model_module_version": "1.5.0",
      "model_name": "DescriptionStyleModel",
      "state": {
       "description_width": ""
      }
     },
     "763e8c82a8a341a1b6a154f9b443d6ad": {
      "model_module": "@jupyter-widgets/base",
      "model_module_version": "1.2.0",
      "model_name": "LayoutModel",
      "state": {}
     },
     "76828b02847f49ffabf74ca1c0f2de97": {
      "model_module": "@jupyter-widgets/controls",
      "model_module_version": "1.5.0",
      "model_name": "ButtonModel",
      "state": {
       "description": "Add",
       "layout": "IPY_MODEL_1f47862cd7004f6ea8e431b00a2deb36",
       "style": "IPY_MODEL_38b3bc34ec4749ce97f6df8128c8b58b"
      }
     },
     "76eb2c1bc07d4ea9a83be96441994d41": {
      "model_module": "@jupyter-widgets/controls",
      "model_module_version": "1.5.0",
      "model_name": "FloatSliderModel",
      "state": {
       "description": "value",
       "layout": "IPY_MODEL_aef7e904684f43a8b6c25721b13dcde7",
       "max": 0.1,
       "min": 0.01,
       "step": 0.01,
       "style": "IPY_MODEL_7a50e24de956432bb20ad024aa3b3415",
       "value": 0.04
      }
     },
     "776b369c935b4b23a7d6651a4cec65fa": {
      "model_module": "@jupyter-widgets/controls",
      "model_module_version": "1.5.0",
      "model_name": "DescriptionStyleModel",
      "state": {
       "description_width": ""
      }
     },
     "777034ee9c8848ce81cea022bafe8d9a": {
      "model_module": "@jupyter-widgets/controls",
      "model_module_version": "1.5.0",
      "model_name": "IntSliderModel",
      "state": {
       "description": "value",
       "layout": "IPY_MODEL_8e5923306b2d46e79d08c87828fc0a9b",
       "max": 10,
       "min": 1,
       "style": "IPY_MODEL_4dbbec1ba4df4a18a3c1e89398b3495e",
       "value": 6
      }
     },
     "77bd1f060fa34f0f829dcac933f97e94": {
      "model_module": "@jupyter-widgets/base",
      "model_module_version": "1.2.0",
      "model_name": "LayoutModel",
      "state": {}
     },
     "77d9a753e60f49d284845127d2f81ee7": {
      "model_module": "@jupyter-widgets/controls",
      "model_module_version": "1.5.0",
      "model_name": "DropdownModel",
      "state": {
       "_options_labels": [
        "BezierCurve2D_0"
       ],
       "index": 0,
       "layout": "IPY_MODEL_1ebb908f33104722a8ca0ebea0830367",
       "style": "IPY_MODEL_3c075c2048614d2e8ada7b1f561f4f59"
      }
     },
     "786ed63a12464723a7f0b5d57199c2f7": {
      "model_module": "@jupyter-widgets/base",
      "model_module_version": "1.2.0",
      "model_name": "LayoutModel",
      "state": {}
     },
     "78b7a0be83c644fdb993627391ce7ebf": {
      "model_module": "@jupyter-widgets/controls",
      "model_module_version": "1.5.0",
      "model_name": "BoundedIntTextModel",
      "state": {
       "description": "step",
       "layout": "IPY_MODEL_c364d57ad62144c597636d4d7ea2924a",
       "min": 1,
       "style": "IPY_MODEL_c4b619d3bd944779b7f7722cb12920fb",
       "value": 1
      }
     },
     "78ba74ff3c3846c2b2a4b37a28c0386a": {
      "model_module": "pgljupyter",
      "model_module_version": "^0.1.2",
      "model_name": "_CurveEditorModel",
      "state": {
       "_model_module_version": "^0.1.2",
       "_view_module_version": "^0.1.2",
       "control_points": [
        [
         -0.5,
         0
        ],
        [
         -0.25,
         0.25
        ],
        [
         0.14090909090909087,
         -0.25
        ],
        [
         0.25,
         0.25
        ],
        [
         0.5,
         0
        ]
       ],
       "curve_type": "NurbsCurve2D",
       "layout": "IPY_MODEL_94187a47d018456e86f4065c54af4476"
      }
     },
     "78d652192b4b4743bc2c5517507e5afc": {
      "model_module": "@jupyter-widgets/base",
      "model_module_version": "1.2.0",
      "model_name": "LayoutModel",
      "state": {}
     },
     "7a50e24de956432bb20ad024aa3b3415": {
      "model_module": "@jupyter-widgets/controls",
      "model_module_version": "1.5.0",
      "model_name": "SliderStyleModel",
      "state": {
       "description_width": ""
      }
     },
     "7a66ebfca84d4999a5bee673f10e7c52": {
      "model_module": "@jupyter-widgets/base",
      "model_module_version": "1.2.0",
      "model_name": "LayoutModel",
      "state": {
       "margin": "20px 0px"
      }
     },
     "7b202b2c87bf4343b5cfdad8b03600b6": {
      "model_module": "@jupyter-widgets/controls",
      "model_module_version": "1.5.0",
      "model_name": "DescriptionStyleModel",
      "state": {
       "description_width": ""
      }
     },
     "7c66b5d7e49e46b4af1106c7070d7f40": {
      "model_module": "@jupyter-widgets/controls",
      "model_module_version": "1.5.0",
      "model_name": "IntTextModel",
      "state": {
       "description": "min",
       "layout": "IPY_MODEL_543e057f74d34186b9646b8011bf4a79",
       "step": 1,
       "style": "IPY_MODEL_85677fd06b73443990c58ca29a1a3daa",
       "value": 1
      }
     },
     "7c69b2f86976482cbd21d7c6e466e3cb": {
      "model_module": "pgljupyter",
      "model_module_version": "^0.1.2",
      "model_name": "MaterialEditorModel",
      "state": {
       "_model_module_version": "^0.1.2",
       "_view_module_version": "^0.1.2",
       "children": [
        "IPY_MODEL_d106d73f1f0f40bfb9afee106236b6d3",
        "IPY_MODEL_660849255c0f44c4bfdc973e0a97035b",
        "IPY_MODEL_f34b929398a24b469d2d633e8cbf34a2",
        "IPY_MODEL_6120d60994144590bb1063cb54022e89",
        "IPY_MODEL_c0fbb256fc224c9aba81c3735c246735",
        "IPY_MODEL_ba7234dd0ed3424baa06f9cffa1d96b3",
        "IPY_MODEL_715cfdcd6c964bef8eb9f15d8cbf8678",
        "IPY_MODEL_f388e0efafe1495e96c319279c5f947b"
       ],
       "layout": "IPY_MODEL_88b333a59afe4d6e9c5d36241456007e"
      }
     },
     "7d94c059507f42e4aa7fdbe39beb4a2a": {
      "model_module": "@jupyter-widgets/base",
      "model_module_version": "1.2.0",
      "model_name": "LayoutModel",
      "state": {}
     },
     "7e460e2c624a46e587a98cece718fc66": {
      "model_module": "@jupyter-widgets/controls",
      "model_module_version": "1.5.0",
      "model_name": "CheckboxModel",
      "state": {
       "description": "Auto apply",
       "disabled": false,
       "layout": "IPY_MODEL_9448d6a702534361b5d706b498ea40f0",
       "style": "IPY_MODEL_85965b3e10d44bd6bdcb57123716575c",
       "value": true
      }
     },
     "7e46666caca84af194dd3330296034d5": {
      "model_module": "@jupyter-widgets/controls",
      "model_module_version": "1.5.0",
      "model_name": "SliderStyleModel",
      "state": {
       "description_width": ""
      }
     },
     "7f9d5e5a52b14a618ba808a1e81f5e6c": {
      "model_module": "@jupyter-widgets/controls",
      "model_module_version": "1.5.0",
      "model_name": "DescriptionStyleModel",
      "state": {
       "description_width": ""
      }
     },
     "7faa1f82e8654be1a5b9b8f2a4aeda47": {
      "model_module": "@jupyter-widgets/controls",
      "model_module_version": "1.5.0",
      "model_name": "DescriptionStyleModel",
      "state": {
       "description_width": ""
      }
     },
     "7fd4070bf1f748a6978285867f3fd655": {
      "model_module": "@jupyter-widgets/controls",
      "model_module_version": "1.5.0",
      "model_name": "ButtonModel",
      "state": {
       "description": "Delete",
       "layout": "IPY_MODEL_6bb8958c70624458abcfedad592ad4c1",
       "style": "IPY_MODEL_0e9c1105c42e4e7787c3c15d410f7b5c"
      }
     },
     "805ea2c62cea4f389e8cdcaf4d3fa2cb": {
      "model_module": "@jupyter-widgets/controls",
      "model_module_version": "1.5.0",
      "model_name": "TextModel",
      "state": {
       "continuous_update": false,
       "description": "name",
       "layout": "IPY_MODEL_c8be64049f5843ebac39f11d40e1b397",
       "style": "IPY_MODEL_9c16367664874458a94374612eb9b248",
       "value": "maxorder"
      }
     },
     "80cb56e577a544b7b67854bd62adcbe8": {
      "model_module": "@jupyter-widgets/base",
      "model_module_version": "1.2.0",
      "model_name": "LayoutModel",
      "state": {}
     },
     "8272e23ce2dd4623b003ba31c98874b1": {
      "model_module": "@jupyter-widgets/controls",
      "model_module_version": "1.5.0",
      "model_name": "DescriptionStyleModel",
      "state": {
       "description_width": ""
      }
     },
     "8298bb29a5c745799439a58c350b6a9a": {
      "model_module": "@jupyter-widgets/controls",
      "model_module_version": "1.5.0",
      "model_name": "DescriptionStyleModel",
      "state": {
       "description_width": ""
      }
     },
     "8340bbc94563495b96eb035f3a6d25fb": {
      "model_module": "pgljupyter",
      "model_module_version": "^0.1.2",
      "model_name": "CurveEditorModel",
      "state": {
       "_model_module_version": "^0.1.2",
       "_view_module_version": "^0.1.2",
       "children": [
        "IPY_MODEL_a089aeec89724239b6aca2b404740c1a",
        "IPY_MODEL_6b2707d91e9942bc8b595dfd3b63cc46"
       ],
       "layout": "IPY_MODEL_86f586d03aa4459a9864f424c3e6d555"
      }
     },
     "84896375a43b4ce3b3339763cff16672": {
      "model_module": "@jupyter-widgets/base",
      "model_module_version": "1.2.0",
      "model_name": "LayoutModel",
      "state": {}
     },
     "84e87897d7924c9c8a3252b0e40e3dd5": {
      "model_module": "@jupyter-widgets/controls",
      "model_module_version": "1.5.0",
      "model_name": "HBoxModel",
      "state": {
       "children": [
        "IPY_MODEL_7c69b2f86976482cbd21d7c6e466e3cb",
        "IPY_MODEL_3f61e9dd496f4505be6dc1c84aefdc57",
        "IPY_MODEL_352845e9ebe34d14891bd5826b4a2e08"
       ],
       "layout": "IPY_MODEL_fe0cdcc6562e4d7b98662c718d50f517"
      }
     },
     "8554cceab3924e6b9e50c79f303173aa": {
      "model_module": "@jupyter-widgets/controls",
      "model_module_version": "1.5.0",
      "model_name": "SliderStyleModel",
      "state": {
       "description_width": ""
      }
     },
     "85677fd06b73443990c58ca29a1a3daa": {
      "model_module": "@jupyter-widgets/controls",
      "model_module_version": "1.5.0",
      "model_name": "DescriptionStyleModel",
      "state": {
       "description_width": ""
      }
     },
     "85965b3e10d44bd6bdcb57123716575c": {
      "model_module": "@jupyter-widgets/controls",
      "model_module_version": "1.5.0",
      "model_name": "DescriptionStyleModel",
      "state": {
       "description_width": ""
      }
     },
     "86b0aab187af49f1a86803563cc19ecd": {
      "model_module": "@jupyter-widgets/controls",
      "model_module_version": "1.5.0",
      "model_name": "FloatSliderModel",
      "state": {
       "description": "transparency",
       "layout": "IPY_MODEL_0effd504a4974e6abb5357847527ec57",
       "max": 1,
       "step": 0.1,
       "style": "IPY_MODEL_d95a440053a049df933468128decce4b",
       "value": 1
      }
     },
     "86d0c2f7ea1b44e6908bfd682ece3329": {
      "model_module": "@jupyter-widgets/controls",
      "model_module_version": "1.5.0",
      "model_name": "DescriptionStyleModel",
      "state": {
       "description_width": ""
      }
     },
     "86f586d03aa4459a9864f424c3e6d555": {
      "model_module": "@jupyter-widgets/base",
      "model_module_version": "1.2.0",
      "model_name": "LayoutModel",
      "state": {
       "margin": "20px 0px"
      }
     },
     "8732af9403aa4f6ca1b7e62ca4e29c09": {
      "model_module": "@jupyter-widgets/base",
      "model_module_version": "1.2.0",
      "model_name": "LayoutModel",
      "state": {}
     },
     "8815d743dee0457d8be8b0a8c46923f3": {
      "model_module": "@jupyter-widgets/base",
      "model_module_version": "1.2.0",
      "model_name": "LayoutModel",
      "state": {}
     },
     "88b333a59afe4d6e9c5d36241456007e": {
      "model_module": "@jupyter-widgets/base",
      "model_module_version": "1.2.0",
      "model_name": "LayoutModel",
      "state": {
       "margin": "20px 0px"
      }
     },
     "88d679242d4e47da83d942cd3e60dc38": {
      "model_module": "@jupyter-widgets/base",
      "model_module_version": "1.2.0",
      "model_name": "LayoutModel",
      "state": {}
     },
     "8924e7490b8d474abb523195f04639b9": {
      "model_module": "@jupyter-widgets/controls",
      "model_module_version": "1.5.0",
      "model_name": "ButtonModel",
      "state": {
       "description": "Delete",
       "layout": "IPY_MODEL_0b38fbfb4d1f4b9995215a9f3e2c4a51",
       "style": "IPY_MODEL_222c986241f440b09ecf8838dee277bb"
      }
     },
     "896f19e84d5e466e801cd444150b1553": {
      "model_module": "pgljupyter",
      "model_module_version": "^0.1.2",
      "model_name": "LsystemWidgetModel",
      "state": {
       "_model_module_version": "^0.1.2",
       "_view_module_version": "^0.1.2",
       "axes_helper": false,
       "derivationLength": 45,
       "layout": "IPY_MODEL_d93ddd2368b84814a30872f4a70db859",
       "light_helper": false,
       "plane": true,
       "size_display": [
        400,
        400
       ],
       "size_world": [
        10,
        10,
        10
       ],
       "unit": 1
      }
     },
     "89e50adf10a84ea9ab3997fe944f3854": {
      "model_module": "@jupyter-widgets/controls",
      "model_module_version": "1.5.0",
      "model_name": "FloatTextModel",
      "state": {
       "description": "min",
       "layout": "IPY_MODEL_22a9a3fd9c4947de8e9b52c24d8c16d8",
       "step": null,
       "style": "IPY_MODEL_738f9659f28b43cf9dd1fbc37d0b8b4c",
       "value": 0.01
      }
     },
     "89fc6b596d6c4c578cd11a671c085644": {
      "model_module": "@jupyter-widgets/base",
      "model_module_version": "1.2.0",
      "model_name": "LayoutModel",
      "state": {}
     },
     "8a552e1e88a0406f8658363c552e528f": {
      "model_module": "@jupyter-widgets/base",
      "model_module_version": "1.2.0",
      "model_name": "LayoutModel",
      "state": {}
     },
     "8b57ad46d5bd48cca26846608c950e2f": {
      "model_module": "@jupyter-widgets/controls",
      "model_module_version": "1.5.0",
      "model_name": "DescriptionStyleModel",
      "state": {
       "description_width": ""
      }
     },
     "8b5a4b520c81467f891fd15960b777f4": {
      "model_module": "@jupyter-widgets/base",
      "model_module_version": "1.2.0",
      "model_name": "LayoutModel",
      "state": {}
     },
     "8cf47a3dc0f145878200852cb8e2324d": {
      "model_module": "@jupyter-widgets/controls",
      "model_module_version": "1.5.0",
      "model_name": "DescriptionStyleModel",
      "state": {
       "description_width": ""
      }
     },
     "8d72828213d54034baa081e13312c7e8": {
      "model_module": "@jupyter-widgets/base",
      "model_module_version": "1.2.0",
      "model_name": "LayoutModel",
      "state": {}
     },
     "8dee69fccbb14c7c82aaa8587be93b6d": {
      "model_module": "@jupyter-widgets/base",
      "model_module_version": "1.2.0",
      "model_name": "LayoutModel",
      "state": {
       "margin": "20px 0px"
      }
     },
     "8e5923306b2d46e79d08c87828fc0a9b": {
      "model_module": "@jupyter-widgets/base",
      "model_module_version": "1.2.0",
      "model_name": "LayoutModel",
      "state": {}
     },
     "8f477e2e294f4e3492be7dbd7786b8fb": {
      "model_module": "@jupyter-widgets/base",
      "model_module_version": "1.2.0",
      "model_name": "LayoutModel",
      "state": {}
     },
     "901d53fddd3948458282a32dd2f4b5a7": {
      "model_module": "@jupyter-widgets/controls",
      "model_module_version": "1.5.0",
      "model_name": "TextModel",
      "state": {
       "continuous_update": false,
       "description": "name",
       "layout": "IPY_MODEL_c7a7a50eab4e4e22960d00e9cf2bd872",
       "style": "IPY_MODEL_5965992f600047acaf09d3042fa191f5",
       "value": "BezierCurve2D_1"
      }
     },
     "903d502a98cd44ecb5657e2156e9559c": {
      "model_module": "@jupyter-widgets/controls",
      "model_module_version": "1.5.0",
      "model_name": "HBoxModel",
      "state": {
       "children": [
        "IPY_MODEL_f38ce8becd2f403f81f14f057115a3b5",
        "IPY_MODEL_7e460e2c624a46e587a98cece718fc66",
        "IPY_MODEL_593c45add93e470fa160defc86ae8503",
        "IPY_MODEL_5e191573a5924d1887ed7d21c6786fdf"
       ],
       "layout": "IPY_MODEL_25596c60b781494ba65f65b159bd60c0"
      }
     },
     "90dd86fb627e4aa088f052bdc9ec27f9": {
      "model_module": "pgljupyter",
      "model_module_version": "^0.1.2",
      "model_name": "CurveEditorModel",
      "state": {
       "_model_module_version": "^0.1.2",
       "_view_module_version": "^0.1.2",
       "children": [
        "IPY_MODEL_901d53fddd3948458282a32dd2f4b5a7",
        "IPY_MODEL_3cf5140e8eaf4f8bb8ba9548db80111d"
       ],
       "layout": "IPY_MODEL_9321351e06944678b9228d00a620d928"
      }
     },
     "9321351e06944678b9228d00a620d928": {
      "model_module": "@jupyter-widgets/base",
      "model_module_version": "1.2.0",
      "model_name": "LayoutModel",
      "state": {
       "margin": "20px 0px"
      }
     },
     "94187a47d018456e86f4065c54af4476": {
      "model_module": "@jupyter-widgets/base",
      "model_module_version": "1.2.0",
      "model_name": "LayoutModel",
      "state": {}
     },
     "9448d6a702534361b5d706b498ea40f0": {
      "model_module": "@jupyter-widgets/base",
      "model_module_version": "1.2.0",
      "model_name": "LayoutModel",
      "state": {}
     },
     "949b9f6b0655431baaa842ca0fba7158": {
      "model_module": "@jupyter-widgets/controls",
      "model_module_version": "1.5.0",
      "model_name": "DropdownModel",
      "state": {
       "_options_labels": [
        "NurbsCurve2D",
        "BezierCurve2D",
        "Polyline2D"
       ],
       "index": 1,
       "layout": "IPY_MODEL_db4c3609b3594e998f5efdb2721b2014",
       "style": "IPY_MODEL_f79988204f874b4b990f329de61ad10e"
      }
     },
     "94ac578565f043d688bf9cd62d6d8553": {
      "model_module": "@jupyter-widgets/controls",
      "model_module_version": "1.5.0",
      "model_name": "DescriptionStyleModel",
      "state": {
       "description_width": ""
      }
     },
     "94fe16f4b7b148129026cb2da6d29ef1": {
      "model_module": "@jupyter-widgets/controls",
      "model_module_version": "1.5.0",
      "model_name": "TextModel",
      "state": {
       "continuous_update": false,
       "description": "name",
       "layout": "IPY_MODEL_9c7b8466e8e340feb151320d1ae35860",
       "style": "IPY_MODEL_8272e23ce2dd4623b003ba31c98874b1",
       "value": "color_4"
      }
     },
     "952046052d024f28bf70c8a76f65f14a": {
      "model_module": "@jupyter-widgets/controls",
      "model_module_version": "1.5.0",
      "model_name": "DescriptionStyleModel",
      "state": {
       "description_width": ""
      }
     },
     "952fbb7f027f4f5d9239e048df0be058": {
      "model_module": "@jupyter-widgets/base",
      "model_module_version": "1.2.0",
      "model_name": "LayoutModel",
      "state": {}
     },
     "95ba0750d90d46549f250d00ed29fe90": {
      "model_module": "@jupyter-widgets/controls",
      "model_module_version": "1.5.0",
      "model_name": "VBoxModel",
      "state": {
       "children": [
        "IPY_MODEL_903d502a98cd44ecb5657e2156e9559c",
        "IPY_MODEL_75e4bd3534f543b4899c48d354a9a7b6"
       ],
       "layout": "IPY_MODEL_01c976d04d3844679724e474809c158b"
      }
     },
     "95eef6992b7847359034cb5d069ebfa2": {
      "model_module": "@jupyter-widgets/base",
      "model_module_version": "1.2.0",
      "model_name": "LayoutModel",
      "state": {}
     },
     "965bd59a86534e949f83f3fe45f31fe8": {
      "model_module": "@jupyter-widgets/controls",
      "model_module_version": "1.5.0",
      "model_name": "DropdownModel",
      "state": {
       "_options_labels": [
        "NurbsCurve2D",
        "BezierCurve2D",
        "Polyline2D"
       ],
       "index": 0,
       "layout": "IPY_MODEL_0d4aef8d0e3947f39cd16894ccb136e4",
       "style": "IPY_MODEL_30ea0fffbfc14c498f33c0844ae5ecc8"
      }
     },
     "966bb16d1bfb45d88640e227702886a8": {
      "model_module": "@jupyter-widgets/controls",
      "model_module_version": "1.5.0",
      "model_name": "TextModel",
      "state": {
       "continuous_update": false,
       "description": "name",
       "layout": "IPY_MODEL_cf3db1034fd8432aa3704c829a0ecdf4",
       "style": "IPY_MODEL_a5e6cb9ccab74844b1a7f7ff16c4b40d",
       "value": "leafduration"
      }
     },
     "978de8ad9ea24bcea235051efc4a1a54": {
      "model_module": "@jupyter-widgets/controls",
      "model_module_version": "1.5.0",
      "model_name": "DescriptionStyleModel",
      "state": {
       "description_width": ""
      }
     },
     "97b1c094320146c1bccde87922ad76ab": {
      "model_module": "@jupyter-widgets/controls",
      "model_module_version": "1.5.0",
      "model_name": "ButtonModel",
      "state": {
       "description": "Delete",
       "layout": "IPY_MODEL_da2af70e6cb54a87bfe8aba01f079232",
       "style": "IPY_MODEL_3207925224d34f6c8bf84a40588fed58"
      }
     },
     "987ee76d11d2433cacbdfd03b1954503": {
      "model_module": "@jupyter-widgets/controls",
      "model_module_version": "1.5.0",
      "model_name": "HBoxModel",
      "state": {
       "children": [
        "IPY_MODEL_a971f194088a4a4e858765df3db9ae8c",
        "IPY_MODEL_c2003da65dea4a289b43039e5a8549af",
        "IPY_MODEL_dd8cbc2eaaeb415dbc538b88d4e53a59",
        "IPY_MODEL_ba6c79c2e43840c9810fa60662097b5b"
       ],
       "layout": "IPY_MODEL_fe0cdcc6562e4d7b98662c718d50f517"
      }
     },
     "98bc50eea37a458ebc2807a2cfa4a66e": {
      "model_module": "@jupyter-widgets/base",
      "model_module_version": "1.2.0",
      "model_name": "LayoutModel",
      "state": {}
     },
     "99302e31763945609667a0e4acb70120": {
      "model_module": "@jupyter-widgets/base",
      "model_module_version": "1.2.0",
      "model_name": "LayoutModel",
      "state": {}
     },
     "996caf2446e9407b9b792dca3f37a21f": {
      "model_module": "@jupyter-widgets/base",
      "model_module_version": "1.2.0",
      "model_name": "LayoutModel",
      "state": {
       "margin": "20px 0px"
      }
     },
     "9996de42de804a72bd10c312732d93ad": {
      "model_module": "@jupyter-widgets/base",
      "model_module_version": "1.2.0",
      "model_name": "LayoutModel",
      "state": {
       "margin": "20px 0px"
      }
     },
     "9a4d28e6d7344830967b6574699ba3f3": {
      "model_module": "@jupyter-widgets/base",
      "model_module_version": "1.2.0",
      "model_name": "LayoutModel",
      "state": {}
     },
     "9a5bea988e4b44239c09cfdf7b695751": {
      "model_module": "@jupyter-widgets/base",
      "model_module_version": "1.2.0",
      "model_name": "LayoutModel",
      "state": {}
     },
     "9a65dcb16d534e78b9be4268f18e0189": {
      "model_module": "@jupyter-widgets/controls",
      "model_module_version": "1.5.0",
      "model_name": "ButtonModel",
      "state": {
       "description": "Delete",
       "layout": "IPY_MODEL_b68cdefd785942a1917c99c36362d78d",
       "style": "IPY_MODEL_f6f69156ecf34f9596a623ebda071f85"
      }
     },
     "9a8af2a83e724b998e08021ea97d1c9b": {
      "model_module": "@jupyter-widgets/base",
      "model_module_version": "1.2.0",
      "model_name": "LayoutModel",
      "state": {}
     },
     "9c0cf9efa1154e3d8f992ee0f7cd1a7d": {
      "model_module": "@jupyter-widgets/controls",
      "model_module_version": "1.5.0",
      "model_name": "DescriptionStyleModel",
      "state": {
       "description_width": ""
      }
     },
     "9c16367664874458a94374612eb9b248": {
      "model_module": "@jupyter-widgets/controls",
      "model_module_version": "1.5.0",
      "model_name": "DescriptionStyleModel",
      "state": {
       "description_width": ""
      }
     },
     "9c51672f28084fde83f4d2dabbb178c3": {
      "model_module": "@jupyter-widgets/base",
      "model_module_version": "1.2.0",
      "model_name": "LayoutModel",
      "state": {}
     },
     "9c7b8466e8e340feb151320d1ae35860": {
      "model_module": "@jupyter-widgets/base",
      "model_module_version": "1.2.0",
      "model_name": "LayoutModel",
      "state": {}
     },
     "9dded11f5a544de8be867b50bfcc065d": {
      "model_module": "pgljupyter",
      "model_module_version": "^0.1.2",
      "model_name": "_CurveEditorModel",
      "state": {
       "_model_module_version": "^0.1.2",
       "_view_module_version": "^0.1.2",
       "control_points": [
        [
         -0.5,
         0
        ],
        [
         -0.25,
         0.25
        ],
        [
         0.09999999999999998,
         -0.24545454545454548
        ],
        [
         0.5,
         0
        ]
       ],
       "curve_type": "BezierCurve2D",
       "layout": "IPY_MODEL_27b8afa3d3b7447fa483906e22e6634d"
      }
     },
     "9e81f7640e8f4efe9c6911df87f9bc06": {
      "model_module": "@jupyter-widgets/controls",
      "model_module_version": "1.5.0",
      "model_name": "DescriptionStyleModel",
      "state": {
       "description_width": ""
      }
     },
     "a089aeec89724239b6aca2b404740c1a": {
      "model_module": "@jupyter-widgets/controls",
      "model_module_version": "1.5.0",
      "model_name": "TextModel",
      "state": {
       "continuous_update": false,
       "description": "name",
       "layout": "IPY_MODEL_47214f6427f7418fbaf69a73417a8a32",
       "style": "IPY_MODEL_8cf47a3dc0f145878200852cb8e2324d",
       "value": "Polyline2D_2"
      }
     },
     "a0e11695f24944bf94fad5b77ca3bcf3": {
      "model_module": "@jupyter-widgets/base",
      "model_module_version": "1.2.0",
      "model_name": "LayoutModel",
      "state": {}
     },
     "a0eb9b213db94887a716ff41a5edf851": {
      "model_module": "@jupyter-widgets/controls",
      "model_module_version": "1.5.0",
      "model_name": "DescriptionStyleModel",
      "state": {
       "description_width": ""
      }
     },
     "a181f8277527484f82f484b081a7ac2c": {
      "model_module": "@jupyter-widgets/controls",
      "model_module_version": "1.5.0",
      "model_name": "FloatSliderModel",
      "state": {
       "description": "shininess",
       "layout": "IPY_MODEL_d9fa64f9080840b4a4fcc76aa6cfd4ba",
       "max": 1,
       "step": 0.1,
       "style": "IPY_MODEL_0e05773846dd43f0a96847656f764a7b",
       "value": 0.5
      }
     },
     "a1c5657c57dd4420947b7a9efdc5fd3e": {
      "model_module": "@jupyter-widgets/base",
      "model_module_version": "1.2.0",
      "model_name": "LayoutModel",
      "state": {}
     },
     "a20b73a02aa64f1aa2635be402379fd2": {
      "model_module": "@jupyter-widgets/controls",
      "model_module_version": "1.5.0",
      "model_name": "ButtonModel",
      "state": {
       "description": "Delete",
       "layout": "IPY_MODEL_2136a52566524809a3c3b6695553bde5",
       "style": "IPY_MODEL_e83dc2353dde47c89a318c26129fe28f"
      }
     },
     "a20e2dbbc07b4e4b9085d82841a24a03": {
      "model_module": "@jupyter-widgets/controls",
      "model_module_version": "1.5.0",
      "model_name": "DescriptionStyleModel",
      "state": {
       "description_width": ""
      }
     },
     "a22da95bced94b0ea758d979b05c4357": {
      "model_module": "@jupyter-widgets/controls",
      "model_module_version": "1.5.0",
      "model_name": "TextModel",
      "state": {
       "continuous_update": false,
       "description": "name",
       "layout": "IPY_MODEL_6655a1fa38d14dc0990e87852b5b4bda",
       "style": "IPY_MODEL_406c4f5fcf9a45b7be0a39dfef3ec4cb",
       "value": "color_2"
      }
     },
     "a3715a6606264b1385e17c255e8e7b7d": {
      "model_module": "@jupyter-widgets/base",
      "model_module_version": "1.2.0",
      "model_name": "LayoutModel",
      "state": {}
     },
     "a3db6e2b61f04f2c9ec6de7408f07917": {
      "model_module": "@jupyter-widgets/base",
      "model_module_version": "1.2.0",
      "model_name": "LayoutModel",
      "state": {}
     },
     "a4e9e5b5bf4c4bf3a00c49b819e7d1f8": {
      "model_module": "pgljupyter",
      "model_module_version": "^0.1.2",
      "model_name": "_CurveEditorModel",
      "state": {
       "_model_module_version": "^0.1.2",
       "_view_module_version": "^0.1.2",
       "control_points": [
        [
         -0.5,
         0
        ],
        [
         -0.25,
         0.25
        ],
        [
         0.25,
         -0.25
        ],
        [
         0.5,
         0
        ]
       ],
       "curve_type": "BezierCurve2D",
       "layout": "IPY_MODEL_c35deb0d32c14e22aa1a65baa1a7913e"
      }
     },
     "a5cb51dbbce1400eae12508087a76361": {
      "model_module": "@jupyter-widgets/controls",
      "model_module_version": "1.5.0",
      "model_name": "DescriptionStyleModel",
      "state": {
       "description_width": ""
      }
     },
     "a5e6cb9ccab74844b1a7f7ff16c4b40d": {
      "model_module": "@jupyter-widgets/controls",
      "model_module_version": "1.5.0",
      "model_name": "DescriptionStyleModel",
      "state": {
       "description_width": ""
      }
     },
     "a66d925434884203a2d16ec0b78649fa": {
      "model_module": "@jupyter-widgets/base",
      "model_module_version": "1.2.0",
      "model_name": "LayoutModel",
      "state": {}
     },
     "a68b7fc99f404294906f8f19e3fbcf4a": {
      "model_module": "@jupyter-widgets/base",
      "model_module_version": "1.2.0",
      "model_name": "LayoutModel",
      "state": {}
     },
     "a6b539cc15804907989b197d4b2cbdbe": {
      "model_module": "@jupyter-widgets/base",
      "model_module_version": "1.2.0",
      "model_name": "LayoutModel",
      "state": {}
     },
     "a6f916165dd04f2081284a6f756f7d03": {
      "model_module": "@jupyter-widgets/base",
      "model_module_version": "1.2.0",
      "model_name": "LayoutModel",
      "state": {
       "margin": "20px 0px"
      }
     },
     "a738593252204a498e2380d3e629bc1e": {
      "model_module": "@jupyter-widgets/base",
      "model_module_version": "1.2.0",
      "model_name": "LayoutModel",
      "state": {}
     },
     "a76bae76a03543469d6f1e10f6d263cb": {
      "model_module": "@jupyter-widgets/base",
      "model_module_version": "1.2.0",
      "model_name": "LayoutModel",
      "state": {}
     },
     "a86058cee658486fb13a7beca648314b": {
      "model_module": "@jupyter-widgets/controls",
      "model_module_version": "1.5.0",
      "model_name": "DropdownModel",
      "state": {
       "index": null,
       "layout": "IPY_MODEL_41a9495cc0b44ca9985500a41664b57b",
       "style": "IPY_MODEL_af0a704ee4c24337bbfb456cb197479e"
      }
     },
     "a87b550ba97246eabb2a2332372e8cb5": {
      "model_module": "@jupyter-widgets/controls",
      "model_module_version": "1.5.0",
      "model_name": "TextModel",
      "state": {
       "continuous_update": false,
       "description": "name",
       "layout": "IPY_MODEL_bca8e12aa85b43d199fddf7fd3c74ae8",
       "style": "IPY_MODEL_7faa1f82e8654be1a5b9b8f2a4aeda47",
       "value": "NurbsCurve2D_0"
      }
     },
     "a8fd500864cb4891bf6ee0c6efef290e": {
      "model_module": "@jupyter-widgets/base",
      "model_module_version": "1.2.0",
      "model_name": "LayoutModel",
      "state": {}
     },
     "a91469a2c4e9407db0966ebd0b17cd0c": {
      "model_module": "@jupyter-widgets/controls",
      "model_module_version": "1.5.0",
      "model_name": "SliderStyleModel",
      "state": {
       "description_width": ""
      }
     },
     "a92de081e50c476496f3c9802b37b1a6": {
      "model_module": "@jupyter-widgets/controls",
      "model_module_version": "1.5.0",
      "model_name": "ButtonModel",
      "state": {
       "description": "Add",
       "layout": "IPY_MODEL_bf9041858b814903a58aa446f72e476b",
       "style": "IPY_MODEL_4b64ee9c6a43480d901f5465b9f72678"
      }
     },
     "a971f194088a4a4e858765df3db9ae8c": {
      "model_module": "pgljupyter",
      "model_module_version": "^0.1.2",
      "model_name": "IntEditorModel",
      "state": {
       "_model_module_version": "^0.1.2",
       "_view_module_version": "^0.1.2",
       "children": [
        "IPY_MODEL_966bb16d1bfb45d88640e227702886a8",
        "IPY_MODEL_68e4bdf17af9497eb7aa9c99b80ac715",
        "IPY_MODEL_52cf68e476164b149a0ae8a47536c3d5",
        "IPY_MODEL_4f287b2a341448d9a798e24f4f22f436",
        "IPY_MODEL_427d650961a94ebc940f5d364721d046"
       ],
       "layout": "IPY_MODEL_1786a5b630e24873893aa84cb0714b47"
      }
     },
     "aa6f5555faa44f4db554da680a607f63": {
      "model_module": "@jupyter-widgets/controls",
      "model_module_version": "1.5.0",
      "model_name": "ColorPickerModel",
      "state": {
       "description": "specular",
       "disabled": false,
       "layout": "IPY_MODEL_a3db6e2b61f04f2c9ec6de7408f07917",
       "style": "IPY_MODEL_f571b090508244a7b467737c415e2fad",
       "value": "#478f9f"
      }
     },
     "aa93ebe5f3724dc68c642492005612b9": {
      "model_module": "@jupyter-widgets/controls",
      "model_module_version": "1.5.0",
      "model_name": "IntTextModel",
      "state": {
       "description": "min",
       "layout": "IPY_MODEL_d99be6308dbb4e52b17a52b5673e464c",
       "step": 1,
       "style": "IPY_MODEL_d28cf98e61a04f9898b7af2e4bd9189c",
       "value": 1
      }
     },
     "ab025d81fa764c8aa87ff6d432656adf": {
      "model_module": "@jupyter-widgets/controls",
      "model_module_version": "1.5.0",
      "model_name": "SliderStyleModel",
      "state": {
       "description_width": ""
      }
     },
     "ab842bdc36b84649bdf23c718ad661b1": {
      "model_module": "@jupyter-widgets/base",
      "model_module_version": "1.2.0",
      "model_name": "LayoutModel",
      "state": {}
     },
     "ab9f0e6d00d74bc594f608b5d3037e65": {
      "model_module": "pgljupyter",
      "model_module_version": "^0.1.2",
      "model_name": "CurveEditorModel",
      "state": {
       "_model_module_version": "^0.1.2",
       "_view_module_version": "^0.1.2",
       "children": [
        "IPY_MODEL_623430f9ad264a569f56254963833d42",
        "IPY_MODEL_4db88b4aa5fb42a5b872196a8c76eb37"
       ],
       "layout": "IPY_MODEL_b4a5d81b90c74f3eb364ea05b146719e"
      }
     },
     "abdee7edd55249719f1a4066ecbd2150": {
      "model_module": "@jupyter-widgets/controls",
      "model_module_version": "1.5.0",
      "model_name": "IntTextModel",
      "state": {
       "description": "min",
       "layout": "IPY_MODEL_89fc6b596d6c4c578cd11a671c085644",
       "step": 1,
       "style": "IPY_MODEL_4acdde3cfbf843c8afbee44ec9794ebd",
       "value": 1
      }
     },
     "ac11ecf003394e96b2227d751ad7d1b9": {
      "model_module": "@jupyter-widgets/controls",
      "model_module_version": "1.5.0",
      "model_name": "TextModel",
      "state": {
       "continuous_update": false,
       "description": "name",
       "layout": "IPY_MODEL_6fd435da494e4788b2340331b704c70e",
       "style": "IPY_MODEL_6c376598cf884f69ac27c0f80c3af2d6",
       "value": "color_4"
      }
     },
     "ac41cf70afd04e33b260be8bd483f310": {
      "model_module": "@jupyter-widgets/controls",
      "model_module_version": "1.5.0",
      "model_name": "ButtonModel",
      "state": {
       "description": "Add",
       "layout": "IPY_MODEL_cfbecb2c7a9b44b5b54e471e21bb5013",
       "style": "IPY_MODEL_5a2e5528074949ac9f2d0bd4dfa6342a"
      }
     },
     "aca6b402cb5e487192c6f29eaf19b583": {
      "model_module": "@jupyter-widgets/controls",
      "model_module_version": "1.5.0",
      "model_name": "IntSliderModel",
      "state": {
       "description": "value",
       "layout": "IPY_MODEL_0584709e6b43421cac48ecdf7b92801e",
       "max": 10,
       "min": 1,
       "style": "IPY_MODEL_1fafc7f599424b7e8f7a15a3d0aafb6a",
       "value": 3
      }
     },
     "acc99657a447459fb7ad63d61ff18c6d": {
      "model_module": "@jupyter-widgets/controls",
      "model_module_version": "1.5.0",
      "model_name": "ColorPickerModel",
      "state": {
       "description": "specular",
       "disabled": false,
       "layout": "IPY_MODEL_2c57289cdf1c49ea9d82954b2c37a542",
       "style": "IPY_MODEL_14a44227159b47778c370ebd1c39ce7d",
       "value": "#478f9f"
      }
     },
     "ad94bfff93e04101a47bfab77c5253cf": {
      "model_module": "@jupyter-widgets/base",
      "model_module_version": "1.2.0",
      "model_name": "LayoutModel",
      "state": {}
     },
     "aed6ac227b8f4daf8ad908b7f8fa98f3": {
      "model_module": "@jupyter-widgets/controls",
      "model_module_version": "1.5.0",
      "model_name": "DropdownModel",
      "state": {
       "_options_labels": [
        "leafduration",
        "leafold",
        "maxorder",
        "radinc"
       ],
       "index": 0,
       "layout": "IPY_MODEL_b33f3cfa85a5426f8cc43e30755f6cb2",
       "style": "IPY_MODEL_7f9d5e5a52b14a618ba808a1e81f5e6c"
      }
     },
     "aef7e904684f43a8b6c25721b13dcde7": {
      "model_module": "@jupyter-widgets/base",
      "model_module_version": "1.2.0",
      "model_name": "LayoutModel",
      "state": {}
     },
     "af0a704ee4c24337bbfb456cb197479e": {
      "model_module": "@jupyter-widgets/controls",
      "model_module_version": "1.5.0",
      "model_name": "DescriptionStyleModel",
      "state": {
       "description_width": ""
      }
     },
     "afd9593ec0b84617b0ed87c718ceb620": {
      "model_module": "@jupyter-widgets/controls",
      "model_module_version": "1.5.0",
      "model_name": "FloatSliderModel",
      "state": {
       "description": "value",
       "layout": "IPY_MODEL_9a4d28e6d7344830967b6574699ba3f3",
       "max": 0.1,
       "min": 0.01,
       "step": 0.01,
       "style": "IPY_MODEL_2bca4224925b40e1bfb042986738be02",
       "value": 0.04
      }
     },
     "b0640f81165841e19fa32c937422c2a4": {
      "model_module": "@jupyter-widgets/base",
      "model_module_version": "1.2.0",
      "model_name": "LayoutModel",
      "state": {}
     },
     "b0c4b4c1dd984e44aaa7bb43a9eaa03f": {
      "model_module": "@jupyter-widgets/base",
      "model_module_version": "1.2.0",
      "model_name": "LayoutModel",
      "state": {}
     },
     "b0e428650bcd4920989735f0790ab5a4": {
      "model_module": "@jupyter-widgets/controls",
      "model_module_version": "1.5.0",
      "model_name": "HBoxModel",
      "state": {
       "children": [
        "IPY_MODEL_f38ce8becd2f403f81f14f057115a3b5",
        "IPY_MODEL_7e460e2c624a46e587a98cece718fc66",
        "IPY_MODEL_593c45add93e470fa160defc86ae8503",
        "IPY_MODEL_5e191573a5924d1887ed7d21c6786fdf"
       ],
       "layout": "IPY_MODEL_bbd47564228f4942bcd590a50a8e0bdb"
      }
     },
     "b139e2d1758644fabc8d862eb9e6e9ed": {
      "model_module": "@jupyter-widgets/controls",
      "model_module_version": "1.5.0",
      "model_name": "ButtonStyleModel",
      "state": {}
     },
     "b1cb0ecc984d47b5b601ac5ead5fda5d": {
      "model_module": "@jupyter-widgets/controls",
      "model_module_version": "1.5.0",
      "model_name": "ColorPickerModel",
      "state": {
       "description": "emission",
       "disabled": false,
       "layout": "IPY_MODEL_5d943e0e9e654ffd89088143a379e75e",
       "style": "IPY_MODEL_6a29a2123883407c9f1782ab4ccc29a2",
       "value": "#1f48db"
      }
     },
     "b22403f438214a4b8f36317185bdab34": {
      "model_module": "@jupyter-widgets/controls",
      "model_module_version": "1.5.0",
      "model_name": "FloatSliderModel",
      "state": {
       "description": "transparency",
       "layout": "IPY_MODEL_e4bda8110a6f4eb5951c91a6a55e12fc",
       "max": 1,
       "step": 0.1,
       "style": "IPY_MODEL_a91469a2c4e9407db0966ebd0b17cd0c",
       "value": 1
      }
     },
     "b25e2955a34f4430becede98d6b4bc0e": {
      "model_module": "@jupyter-widgets/base",
      "model_module_version": "1.2.0",
      "model_name": "LayoutModel",
      "state": {
       "margin": "20px 0px"
      }
     },
     "b33f3cfa85a5426f8cc43e30755f6cb2": {
      "model_module": "@jupyter-widgets/base",
      "model_module_version": "1.2.0",
      "model_name": "LayoutModel",
      "state": {}
     },
     "b37521b60a7647d9899e3d42829b78ef": {
      "model_module": "@jupyter-widgets/base",
      "model_module_version": "1.2.0",
      "model_name": "LayoutModel",
      "state": {}
     },
     "b39464d608c9476b884a194019aeea92": {
      "model_module": "@jupyter-widgets/controls",
      "model_module_version": "1.5.0",
      "model_name": "SliderStyleModel",
      "state": {
       "description_width": ""
      }
     },
     "b48db2e5fcaa41a3b57d77147d5c6ee4": {
      "model_module": "@jupyter-widgets/base",
      "model_module_version": "1.2.0",
      "model_name": "LayoutModel",
      "state": {}
     },
     "b4a5d81b90c74f3eb364ea05b146719e": {
      "model_module": "@jupyter-widgets/base",
      "model_module_version": "1.2.0",
      "model_name": "LayoutModel",
      "state": {
       "margin": "20px 0px"
      }
     },
     "b4c6640b003145ab863dc22afc0d6b9e": {
      "model_module": "pgljupyter",
      "model_module_version": "^0.1.2",
      "model_name": "IntEditorModel",
      "state": {
       "_model_module_version": "^0.1.2",
       "_view_module_version": "^0.1.2",
       "children": [
        "IPY_MODEL_0a2938deb20642c5988031f8dc64848d",
        "IPY_MODEL_24445bf8451e470e934c4470d4f8e0a7",
        "IPY_MODEL_4c8db41d749847e5a3305abcaf3731a3",
        "IPY_MODEL_5e420e22516544c99e03c561351caa77",
        "IPY_MODEL_5be4664a6e1f4328bbc274b21c1c5c15"
       ],
       "layout": "IPY_MODEL_2501c08878e54350abc0a9ac884118f1"
      }
     },
     "b6648dd35f9448fc8d6cfd44efbdc5c5": {
      "model_module": "@jupyter-widgets/controls",
      "model_module_version": "1.5.0",
      "model_name": "HBoxModel",
      "state": {
       "children": [
        "IPY_MODEL_a92de081e50c476496f3c9802b37b1a6",
        "IPY_MODEL_b76a98a7e2324f6fb6a20f6e4b7a1fbd",
        "IPY_MODEL_11c65fd9468f412f9b63e9f47a99b801",
        "IPY_MODEL_5bb3e8d0cda8438b902ddf054f47aca2"
       ],
       "layout": "IPY_MODEL_2c758a39f7fc445fb36328a5392bc3cb"
      }
     },
     "b667c2ac1f16455daba01fec1e350f9a": {
      "model_module": "@jupyter-widgets/controls",
      "model_module_version": "1.5.0",
      "model_name": "ButtonStyleModel",
      "state": {}
     },
     "b68cdefd785942a1917c99c36362d78d": {
      "model_module": "@jupyter-widgets/base",
      "model_module_version": "1.2.0",
      "model_name": "LayoutModel",
      "state": {}
     },
     "b6fac6ee8b314c10a5156acd259cdf9e": {
      "model_module": "@jupyter-widgets/controls",
      "model_module_version": "1.5.0",
      "model_name": "FloatSliderModel",
      "state": {
       "description": "shininess",
       "layout": "IPY_MODEL_d0b7820ad886441a910a69125aae845b",
       "max": 1,
       "step": 0.1,
       "style": "IPY_MODEL_d73cf1873c014373bc2c1fe5aecbf45f",
       "value": 0.5
      }
     },
     "b76a98a7e2324f6fb6a20f6e4b7a1fbd": {
      "model_module": "@jupyter-widgets/controls",
      "model_module_version": "1.5.0",
      "model_name": "DropdownModel",
      "state": {
       "_options_labels": [
        "Color"
       ],
       "index": 0,
       "layout": "IPY_MODEL_2a71d1ea3cce494aab3efb0a5f5f35b8",
       "style": "IPY_MODEL_8b57ad46d5bd48cca26846608c950e2f"
      }
     },
     "b8492b7b01134d7b9aeaebc3e86f5d87": {
      "model_module": "pgljupyter",
      "model_module_version": "^0.1.2",
      "model_name": "CurveEditorModel",
      "state": {
       "_model_module_version": "^0.1.2",
       "_view_module_version": "^0.1.2",
       "children": [
        "IPY_MODEL_d15825d831bc479e9ba631b888bce268",
        "IPY_MODEL_a4e9e5b5bf4c4bf3a00c49b819e7d1f8"
       ],
       "layout": "IPY_MODEL_a6f916165dd04f2081284a6f756f7d03"
      }
     },
     "b882c7f790744974bc9b924e675cb756": {
      "model_module": "@jupyter-widgets/base",
      "model_module_version": "1.2.0",
      "model_name": "LayoutModel",
      "state": {}
     },
     "b8edda361f7c45fca84ae1034a46206a": {
      "model_module": "@jupyter-widgets/controls",
      "model_module_version": "1.5.0",
      "model_name": "DescriptionStyleModel",
      "state": {
       "description_width": ""
      }
     },
     "b9eb8d3f8c6a4b18a72f185724416aa4": {
      "model_module": "@jupyter-widgets/controls",
      "model_module_version": "1.5.0",
      "model_name": "VBoxModel",
      "state": {
       "children": [
        "IPY_MODEL_21efdec5b75d4c6ebabf51119098e5d0",
        "IPY_MODEL_0c82adbe02b14ee888134148a12ab08a"
       ],
       "layout": "IPY_MODEL_ceb520bee04442219db5910700063143"
      }
     },
     "ba414c61699f4ef78a51f82ac1b8dfdd": {
      "model_module": "@jupyter-widgets/controls",
      "model_module_version": "1.5.0",
      "model_name": "FloatSliderModel",
      "state": {
       "description": "transparency",
       "layout": "IPY_MODEL_41670547e0cb41e29a72d0cf35a2fb90",
       "max": 1,
       "step": 0.1,
       "style": "IPY_MODEL_8554cceab3924e6b9e50c79f303173aa"
      }
     },
     "ba6c79c2e43840c9810fa60662097b5b": {
      "model_module": "pgljupyter",
      "model_module_version": "^0.1.2",
      "model_name": "FloatEditorModel",
      "state": {
       "_model_module_version": "^0.1.2",
       "_view_module_version": "^0.1.2",
       "children": [
        "IPY_MODEL_f877f58a4a8f446bae74488efbef66b0",
        "IPY_MODEL_76eb2c1bc07d4ea9a83be96441994d41",
        "IPY_MODEL_89e50adf10a84ea9ab3997fe944f3854",
        "IPY_MODEL_c2a5dd075265401189b7b6fd47c34c17",
        "IPY_MODEL_fdc322002e0147a3b3a787527f552f68"
       ],
       "layout": "IPY_MODEL_9996de42de804a72bd10c312732d93ad"
      }
     },
     "ba7234dd0ed3424baa06f9cffa1d96b3": {
      "model_module": "@jupyter-widgets/controls",
      "model_module_version": "1.5.0",
      "model_name": "FloatSliderModel",
      "state": {
       "description": "diffuse",
       "layout": "IPY_MODEL_0a63f463c5d8470ebb1e732d48fd1d86",
       "max": 1,
       "step": 0.1,
       "style": "IPY_MODEL_bc847ec8847947ff8d70439e40edc100"
      }
     },
     "bad45027440c49c0b95e906436475efe": {
      "model_module": "@jupyter-widgets/controls",
      "model_module_version": "1.5.0",
      "model_name": "ButtonModel",
      "state": {
       "description": "Delete",
       "layout": "IPY_MODEL_c0916f5a0946411c9908967b1e233df2",
       "style": "IPY_MODEL_00cac5436c8e487dae18a9ff4734dbaf"
      }
     },
     "bb5cb6be24e84a2f9a01b764426581ca": {
      "model_module": "@jupyter-widgets/controls",
      "model_module_version": "1.5.0",
      "model_name": "DescriptionStyleModel",
      "state": {
       "description_width": ""
      }
     },
     "bbd47564228f4942bcd590a50a8e0bdb": {
      "model_module": "@jupyter-widgets/base",
      "model_module_version": "1.2.0",
      "model_name": "LayoutModel",
      "state": {
       "flex_flow": "row wrap"
      }
     },
     "bc0183c58b444802a552b4adb9c91726": {
      "model_module": "@jupyter-widgets/controls",
      "model_module_version": "1.5.0",
      "model_name": "SliderStyleModel",
      "state": {
       "description_width": ""
      }
     },
     "bc847ec8847947ff8d70439e40edc100": {
      "model_module": "@jupyter-widgets/controls",
      "model_module_version": "1.5.0",
      "model_name": "SliderStyleModel",
      "state": {
       "description_width": ""
      }
     },
     "bca8e12aa85b43d199fddf7fd3c74ae8": {
      "model_module": "@jupyter-widgets/base",
      "model_module_version": "1.2.0",
      "model_name": "LayoutModel",
      "state": {}
     },
     "bdb41a94c2ae42e29d602a43de19b7e5": {
      "model_module": "@jupyter-widgets/controls",
      "model_module_version": "1.5.0",
      "model_name": "TextModel",
      "state": {
       "continuous_update": false,
       "description": "name",
       "layout": "IPY_MODEL_b0640f81165841e19fa32c937422c2a4",
       "style": "IPY_MODEL_64988f0b5e374ed49f93bfb333503a97",
       "value": "color_2"
      }
     },
     "be32dc92ecd64abcb793bf8183527506": {
      "model_module": "@jupyter-widgets/controls",
      "model_module_version": "1.5.0",
      "model_name": "IntTextModel",
      "state": {
       "description": "max",
       "layout": "IPY_MODEL_35010fbf5ea3493e9cbc7122e28e5c50",
       "step": 1,
       "style": "IPY_MODEL_bb5cb6be24e84a2f9a01b764426581ca",
       "value": 10
      }
     },
     "bed3960f239c45c989041abe69ed15fd": {
      "model_module": "@jupyter-widgets/controls",
      "model_module_version": "1.5.0",
      "model_name": "SliderStyleModel",
      "state": {
       "description_width": ""
      }
     },
     "bf9041858b814903a58aa446f72e476b": {
      "model_module": "@jupyter-widgets/base",
      "model_module_version": "1.2.0",
      "model_name": "LayoutModel",
      "state": {}
     },
     "bf95968a03ca41a0a35c4849e88e5a39": {
      "model_module": "@jupyter-widgets/base",
      "model_module_version": "1.2.0",
      "model_name": "LayoutModel",
      "state": {}
     },
     "c0916f5a0946411c9908967b1e233df2": {
      "model_module": "@jupyter-widgets/base",
      "model_module_version": "1.2.0",
      "model_name": "LayoutModel",
      "state": {}
     },
     "c0a0b6ba4761420fa5e80e161bdb896d": {
      "model_module": "@jupyter-widgets/base",
      "model_module_version": "1.2.0",
      "model_name": "LayoutModel",
      "state": {}
     },
     "c0fbb256fc224c9aba81c3735c246735": {
      "model_module": "@jupyter-widgets/controls",
      "model_module_version": "1.5.0",
      "model_name": "ColorPickerModel",
      "state": {
       "description": "emission",
       "disabled": false,
       "layout": "IPY_MODEL_de40add93b8a4b35b57878f54f78831a",
       "style": "IPY_MODEL_94ac578565f043d688bf9cd62d6d8553",
       "value": "#1f48db"
      }
     },
     "c2003da65dea4a289b43039e5a8549af": {
      "model_module": "pgljupyter",
      "model_module_version": "^0.1.2",
      "model_name": "IntEditorModel",
      "state": {
       "_model_module_version": "^0.1.2",
       "_view_module_version": "^0.1.2",
       "children": [
        "IPY_MODEL_3bce6b106d9847ae81d706f5a7c75510",
        "IPY_MODEL_aca6b402cb5e487192c6f29eaf19b583",
        "IPY_MODEL_7c66b5d7e49e46b4af1106c7070d7f40",
        "IPY_MODEL_dc97f2b89053407e94e886a87cb5eb6b",
        "IPY_MODEL_39c02487d7c242b79297781e711e63fb"
       ],
       "layout": "IPY_MODEL_d5ae3967657a47518c7f4f1765127239"
      }
     },
     "c25b4590b0ae444281e4de1577dba820": {
      "model_module": "@jupyter-widgets/controls",
      "model_module_version": "1.5.0",
      "model_name": "HBoxModel",
      "state": {
       "children": [
        "IPY_MODEL_15897f39c9c241c994c93955c340fb6b",
        "IPY_MODEL_949b9f6b0655431baaa842ca0fba7158",
        "IPY_MODEL_9a65dcb16d534e78b9be4268f18e0189",
        "IPY_MODEL_77d9a753e60f49d284845127d2f81ee7"
       ],
       "layout": "IPY_MODEL_f56daa410ee44854874b448e60b2c3c9"
      }
     },
     "c27b4929616a4cc9afc6b2486b6203ab": {
      "model_module": "@jupyter-widgets/base",
      "model_module_version": "1.2.0",
      "model_name": "LayoutModel",
      "state": {}
     },
     "c2a5dd075265401189b7b6fd47c34c17": {
      "model_module": "@jupyter-widgets/controls",
      "model_module_version": "1.5.0",
      "model_name": "FloatTextModel",
      "state": {
       "description": "max",
       "layout": "IPY_MODEL_95eef6992b7847359034cb5d069ebfa2",
       "step": null,
       "style": "IPY_MODEL_5a27be4bb9c048a2bb54f5eb48c09787",
       "value": 0.1
      }
     },
     "c2f52039c5e94671870caf9530fd4b32": {
      "model_module": "@jupyter-widgets/base",
      "model_module_version": "1.2.0",
      "model_name": "LayoutModel",
      "state": {}
     },
     "c35deb0d32c14e22aa1a65baa1a7913e": {
      "model_module": "@jupyter-widgets/base",
      "model_module_version": "1.2.0",
      "model_name": "LayoutModel",
      "state": {}
     },
     "c364d57ad62144c597636d4d7ea2924a": {
      "model_module": "@jupyter-widgets/base",
      "model_module_version": "1.2.0",
      "model_name": "LayoutModel",
      "state": {}
     },
     "c3d84a4110fe40599578882c9599c41f": {
      "model_module": "@jupyter-widgets/base",
      "model_module_version": "1.2.0",
      "model_name": "LayoutModel",
      "state": {}
     },
     "c40d91bd421049d38bc8e192e39e9122": {
      "model_module": "@jupyter-widgets/base",
      "model_module_version": "1.2.0",
      "model_name": "LayoutModel",
      "state": {}
     },
     "c46c96224a2c4453bc909a37698703a4": {
      "model_module": "@jupyter-widgets/controls",
      "model_module_version": "1.5.0",
      "model_name": "TextModel",
      "state": {
       "continuous_update": false,
       "description": "name",
       "layout": "IPY_MODEL_bf95968a03ca41a0a35c4849e88e5a39",
       "style": "IPY_MODEL_65bdf3a7d2c248919a89fc3a98dfb617",
       "value": "color_1"
      }
     },
     "c46f5ff856fd462f9aa4c788ae2e855f": {
      "model_module": "pgljupyter",
      "model_module_version": "^0.1.2",
      "model_name": "MaterialEditorModel",
      "state": {
       "_model_module_version": "^0.1.2",
       "_view_module_version": "^0.1.2",
       "children": [
        "IPY_MODEL_bdb41a94c2ae42e29d602a43de19b7e5",
        "IPY_MODEL_db99c174f80c4e11afb1a06e36228357",
        "IPY_MODEL_d934065c2df0404c8065622ee241dd96",
        "IPY_MODEL_acc99657a447459fb7ad63d61ff18c6d",
        "IPY_MODEL_f185c916dcb14fa48e134838b90ee266",
        "IPY_MODEL_55e50482ddd14ec08b2e2699040ec3a6",
        "IPY_MODEL_e38a5927e6934a1eb8de6edff55adc76",
        "IPY_MODEL_e9a9f6fca3b84589a232b1138b72fa62"
       ],
       "layout": "IPY_MODEL_3bccb846b4df4907997b93fed3c1a495"
      }
     },
     "c4b619d3bd944779b7f7722cb12920fb": {
      "model_module": "@jupyter-widgets/controls",
      "model_module_version": "1.5.0",
      "model_name": "DescriptionStyleModel",
      "state": {
       "description_width": ""
      }
     },
     "c55c011e738a41e3bfd9ff758ced3850": {
      "model_module": "@jupyter-widgets/base",
      "model_module_version": "1.2.0",
      "model_name": "LayoutModel",
      "state": {
       "margin": "20px 0px"
      }
     },
     "c580a4d8ab98468a9d0492ff60aa2379": {
      "model_module": "@jupyter-widgets/controls",
      "model_module_version": "1.5.0",
      "model_name": "TextModel",
      "state": {
       "continuous_update": false,
       "description": "name",
       "layout": "IPY_MODEL_952fbb7f027f4f5d9239e048df0be058",
       "style": "IPY_MODEL_024a1bedd40241b69d18bf5622dad7ab",
       "value": "leafduration"
      }
     },
     "c6a312a270f14428b4ad614b9369cd85": {
      "model_module": "@jupyter-widgets/controls",
      "model_module_version": "1.5.0",
      "model_name": "DropdownModel",
      "state": {
       "_options_labels": [
        "color_1",
        "color_2",
        "color_4"
       ],
       "index": 0,
       "layout": "IPY_MODEL_8732af9403aa4f6ca1b7e62ca4e29c09",
       "style": "IPY_MODEL_7603ec0ea97040b8b5273ff4abfa9ec8"
      }
     },
     "c77747e99e2248869202f774aa46d72e": {
      "model_module": "@jupyter-widgets/controls",
      "model_module_version": "1.5.0",
      "model_name": "SliderStyleModel",
      "state": {
       "description_width": ""
      }
     },
     "c7a7a50eab4e4e22960d00e9cf2bd872": {
      "model_module": "@jupyter-widgets/base",
      "model_module_version": "1.2.0",
      "model_name": "LayoutModel",
      "state": {}
     },
     "c7e96683ccf54521ad82e02910c90b3d": {
      "model_module": "@jupyter-widgets/controls",
      "model_module_version": "1.5.0",
      "model_name": "DescriptionStyleModel",
      "state": {
       "description_width": ""
      }
     },
     "c860bd1554b0472c85eb2f103d5645a6": {
      "model_module": "@jupyter-widgets/base",
      "model_module_version": "1.2.0",
      "model_name": "LayoutModel",
      "state": {}
     },
     "c8945ff55f3e4299bc6baee965a89100": {
      "model_module": "@jupyter-widgets/base",
      "model_module_version": "1.2.0",
      "model_name": "LayoutModel",
      "state": {}
     },
     "c8be64049f5843ebac39f11d40e1b397": {
      "model_module": "@jupyter-widgets/base",
      "model_module_version": "1.2.0",
      "model_name": "LayoutModel",
      "state": {}
     },
     "c8f45965b1124a4a90d52cde0a186035": {
      "model_module": "@jupyter-widgets/controls",
      "model_module_version": "1.5.0",
      "model_name": "VBoxModel",
      "state": {
       "children": [
        "IPY_MODEL_50f6ca45ee7c4be8ab97d014e4b3619d",
        "IPY_MODEL_987ee76d11d2433cacbdfd03b1954503"
       ],
       "layout": "IPY_MODEL_343fdbc8ac9046f0be92ef520dcb07c7"
      }
     },
     "c8f7c0c083654692bcaf39f7ed6f4596": {
      "model_module": "@jupyter-widgets/controls",
      "model_module_version": "1.5.0",
      "model_name": "ButtonStyleModel",
      "state": {}
     },
     "c93fac566bbf44a09ddc34c6f6532ae3": {
      "model_module": "@jupyter-widgets/base",
      "model_module_version": "1.2.0",
      "model_name": "LayoutModel",
      "state": {}
     },
     "c95cf67e99be4e26a62abb82e9ca131b": {
      "model_module": "@jupyter-widgets/base",
      "model_module_version": "1.2.0",
      "model_name": "LayoutModel",
      "state": {}
     },
     "cbbda54c90744c78b5a9088ce7e16dcb": {
      "model_module": "@jupyter-widgets/base",
      "model_module_version": "1.2.0",
      "model_name": "LayoutModel",
      "state": {}
     },
     "cc5772a12a73485e9db4d560e6ed99e5": {
      "model_module": "@jupyter-widgets/controls",
      "model_module_version": "1.5.0",
      "model_name": "DescriptionStyleModel",
      "state": {
       "description_width": ""
      }
     },
     "cc5944add9d34806bcf3e19b3041f41d": {
      "model_module": "@jupyter-widgets/controls",
      "model_module_version": "1.5.0",
      "model_name": "DescriptionStyleModel",
      "state": {
       "description_width": ""
      }
     },
     "ccc3684d6a3a4acdaac7fa383e67ed43": {
      "model_module": "@jupyter-widgets/controls",
      "model_module_version": "1.5.0",
      "model_name": "ColorPickerModel",
      "state": {
       "description": "specular",
       "disabled": false,
       "layout": "IPY_MODEL_203e1864fde243a6bd46c139d099522f",
       "style": "IPY_MODEL_4ebaed4962d34cb98cda2e52d678023a",
       "value": "#478f9f"
      }
     },
     "cceb5c3176fc4d4391580243e90f5c8d": {
      "model_module": "@jupyter-widgets/controls",
      "model_module_version": "1.5.0",
      "model_name": "BoundedIntTextModel",
      "state": {
       "description": "step",
       "layout": "IPY_MODEL_41a316cc494844f789d1f1885dfea1cc",
       "min": 1,
       "style": "IPY_MODEL_30adb877ae0c4ea3b12a4f4ae638e37d",
       "value": 1
      }
     },
     "ceb520bee04442219db5910700063143": {
      "model_module": "@jupyter-widgets/base",
      "model_module_version": "1.2.0",
      "model_name": "LayoutModel",
      "state": {}
     },
     "cf3db1034fd8432aa3704c829a0ecdf4": {
      "model_module": "@jupyter-widgets/base",
      "model_module_version": "1.2.0",
      "model_name": "LayoutModel",
      "state": {}
     },
     "cf6091e0273242ae91488af7bed1c9b8": {
      "model_module": "@jupyter-widgets/controls",
      "model_module_version": "1.5.0",
      "model_name": "TextModel",
      "state": {
       "continuous_update": false,
       "description": "name",
       "layout": "IPY_MODEL_6222902e646a4c918719f62a19ad6f37",
       "style": "IPY_MODEL_1481ac602d8941e0885c08d06e6e0e82",
       "value": "maxorder"
      }
     },
     "cfbecb2c7a9b44b5b54e471e21bb5013": {
      "model_module": "@jupyter-widgets/base",
      "model_module_version": "1.2.0",
      "model_name": "LayoutModel",
      "state": {}
     },
     "cffbe228dd7a4cb6b6b3ec214974be09": {
      "model_module": "@jupyter-widgets/controls",
      "model_module_version": "1.5.0",
      "model_name": "FloatSliderModel",
      "state": {
       "description": "diffuse",
       "layout": "IPY_MODEL_1c7cf59a39db4f008dda191639910e38",
       "max": 1,
       "step": 0.1,
       "style": "IPY_MODEL_514cfc19ebf74685ab74dd7b7a22c471",
       "value": 1
      }
     },
     "d0804158d8994796a57cce09e55d1e9d": {
      "model_module": "@jupyter-widgets/controls",
      "model_module_version": "1.5.0",
      "model_name": "BoundedFloatTextModel",
      "state": {
       "description": "step",
       "layout": "IPY_MODEL_72bc1e35e1b440dab2d04d8572c085d8",
       "max": 1,
       "min": 0.01,
       "step": 0.01,
       "style": "IPY_MODEL_3133bec14cff4f2a890c142d85f7eb53",
       "value": 0.01
      }
     },
     "d0b7820ad886441a910a69125aae845b": {
      "model_module": "@jupyter-widgets/base",
      "model_module_version": "1.2.0",
      "model_name": "LayoutModel",
      "state": {}
     },
     "d106d73f1f0f40bfb9afee106236b6d3": {
      "model_module": "@jupyter-widgets/controls",
      "model_module_version": "1.5.0",
      "model_name": "TextModel",
      "state": {
       "continuous_update": false,
       "description": "name",
       "layout": "IPY_MODEL_5d5b275d15b946cbbaaf085b88ac6394",
       "style": "IPY_MODEL_1b7eb2c7a1744177a4f8587caf59f856",
       "value": "color_1"
      }
     },
     "d15825d831bc479e9ba631b888bce268": {
      "model_module": "@jupyter-widgets/controls",
      "model_module_version": "1.5.0",
      "model_name": "TextModel",
      "state": {
       "continuous_update": false,
       "description": "name",
       "layout": "IPY_MODEL_98bc50eea37a458ebc2807a2cfa4a66e",
       "style": "IPY_MODEL_e726edc415ce408287086d7be2efd682",
       "value": "BezierCurve2D_0"
      }
     },
     "d18872a2ef9b47d0aacc9fc86e75a003": {
      "model_module": "@jupyter-widgets/controls",
      "model_module_version": "1.5.0",
      "model_name": "DescriptionStyleModel",
      "state": {
       "description_width": ""
      }
     },
     "d18d2324b3d64718bcd6376c175c5112": {
      "model_module": "@jupyter-widgets/controls",
      "model_module_version": "1.5.0",
      "model_name": "ColorPickerModel",
      "state": {
       "description": "ambient",
       "disabled": false,
       "layout": "IPY_MODEL_0cf9ede31aee4c9dad31d76457db7941",
       "style": "IPY_MODEL_428c2ac17d184a2c9179180861f4e079",
       "value": "#c25173"
      }
     },
     "d28cf98e61a04f9898b7af2e4bd9189c": {
      "model_module": "@jupyter-widgets/controls",
      "model_module_version": "1.5.0",
      "model_name": "DescriptionStyleModel",
      "state": {
       "description_width": ""
      }
     },
     "d2d0f917b45743ff9dc2a32c8add385a": {
      "model_module": "@jupyter-widgets/controls",
      "model_module_version": "1.5.0",
      "model_name": "HBoxModel",
      "state": {
       "children": [
        "IPY_MODEL_0714f35b18a44fbaaa6d2aa26b46616e"
       ],
       "layout": "IPY_MODEL_fe0cdcc6562e4d7b98662c718d50f517"
      }
     },
     "d3548b90ef3247ad9a07bc040218e2ba": {
      "model_module": "@jupyter-widgets/controls",
      "model_module_version": "1.5.0",
      "model_name": "TextModel",
      "state": {
       "continuous_update": false,
       "description": "name",
       "layout": "IPY_MODEL_6d6a59f4c0714f90bac64afd6f756b8f",
       "style": "IPY_MODEL_1fb14ba911fa4fa5b21eea1cc9d40b13",
       "value": "BezierCurve2D_2"
      }
     },
     "d51b50f6f7064d6b8575587fb3b196c4": {
      "model_module": "@jupyter-widgets/base",
      "model_module_version": "1.2.0",
      "model_name": "LayoutModel",
      "state": {}
     },
     "d5ae3967657a47518c7f4f1765127239": {
      "model_module": "@jupyter-widgets/base",
      "model_module_version": "1.2.0",
      "model_name": "LayoutModel",
      "state": {
       "margin": "20px 0px"
      }
     },
     "d5ed232c37c645d287f93804c2a7a50c": {
      "model_module": "@jupyter-widgets/controls",
      "model_module_version": "1.5.0",
      "model_name": "DescriptionStyleModel",
      "state": {
       "description_width": ""
      }
     },
     "d73cf1873c014373bc2c1fe5aecbf45f": {
      "model_module": "@jupyter-widgets/controls",
      "model_module_version": "1.5.0",
      "model_name": "SliderStyleModel",
      "state": {
       "description_width": ""
      }
     },
     "d7491fcbf98547ae97e45969885079fc": {
      "model_module": "@jupyter-widgets/controls",
      "model_module_version": "1.5.0",
      "model_name": "TextModel",
      "state": {
       "continuous_update": false,
       "description": "name",
       "layout": "IPY_MODEL_f90a42a43b1f4bed81fc082672b8e388",
       "style": "IPY_MODEL_cc5772a12a73485e9db4d560e6ed99e5",
       "value": "Polyline2D_0"
      }
     },
     "d815cf04fa1e4602a3eae7b84a7a88e8": {
      "model_module": "@jupyter-widgets/controls",
      "model_module_version": "1.5.0",
      "model_name": "ButtonStyleModel",
      "state": {}
     },
     "d8d05d5a29a74efe9d2384ef9c0949d6": {
      "model_module": "@jupyter-widgets/controls",
      "model_module_version": "1.5.0",
      "model_name": "FloatTextModel",
      "state": {
       "description": "min",
       "layout": "IPY_MODEL_c860bd1554b0472c85eb2f103d5645a6",
       "step": null,
       "style": "IPY_MODEL_75f428afc0a3423fb7e534bdd51258c5",
       "value": 0.01
      }
     },
     "d934065c2df0404c8065622ee241dd96": {
      "model_module": "@jupyter-widgets/controls",
      "model_module_version": "1.5.0",
      "model_name": "ColorPickerModel",
      "state": {
       "description": "ambient",
       "disabled": false,
       "layout": "IPY_MODEL_fdaf5fa5a54f4007a8756ffb7b209215",
       "style": "IPY_MODEL_690f42ae5a094b499d0de205cfa3414f",
       "value": "#c25173"
      }
     },
     "d9369247700e41028695aa03301533a3": {
      "model_module": "@jupyter-widgets/controls",
      "model_module_version": "1.5.0",
      "model_name": "AccordionModel",
      "state": {
       "_titles": {
        "0": "scalars",
        "1": "materials",
        "2": "functions",
        "3": "curves"
       },
       "children": [
        "IPY_MODEL_f039ea0c32604272aa1c50f111f7a4c9",
        "IPY_MODEL_347acaa63eae4e00a4da54a4e5aa293d",
        "IPY_MODEL_dba8e0ab6061420e8b48f4b135b91803",
        "IPY_MODEL_01a4c9607cdf48b8898781b301081a28"
       ],
       "layout": "IPY_MODEL_2efa585c55484aaba68ded69cdb81b15",
       "selected_index": null
      }
     },
     "d93ddd2368b84814a30872f4a70db859": {
      "model_module": "@jupyter-widgets/base",
      "model_module_version": "1.2.0",
      "model_name": "LayoutModel",
      "state": {}
     },
     "d95a440053a049df933468128decce4b": {
      "model_module": "@jupyter-widgets/controls",
      "model_module_version": "1.5.0",
      "model_name": "SliderStyleModel",
      "state": {
       "description_width": ""
      }
     },
     "d99be6308dbb4e52b17a52b5673e464c": {
      "model_module": "@jupyter-widgets/base",
      "model_module_version": "1.2.0",
      "model_name": "LayoutModel",
      "state": {}
     },
     "d9fa64f9080840b4a4fcc76aa6cfd4ba": {
      "model_module": "@jupyter-widgets/base",
      "model_module_version": "1.2.0",
      "model_name": "LayoutModel",
      "state": {}
     },
     "da2af70e6cb54a87bfe8aba01f079232": {
      "model_module": "@jupyter-widgets/base",
      "model_module_version": "1.2.0",
      "model_name": "LayoutModel",
      "state": {}
     },
     "da3a03d419374886b33c4a33c7123acc": {
      "model_module": "@jupyter-widgets/controls",
      "model_module_version": "1.5.0",
      "model_name": "ColorPickerModel",
      "state": {
       "description": "emission",
       "disabled": false,
       "layout": "IPY_MODEL_30c661fbb27140d0a16de353c96e7fc7",
       "style": "IPY_MODEL_30913895a05c4efe9297847d5ea8e81b",
       "value": "#1f48db"
      }
     },
     "da84931aef8d4c1d954b95f4636a7360": {
      "model_module": "pgljupyter",
      "model_module_version": "^0.1.2",
      "model_name": "IntEditorModel",
      "state": {
       "_model_module_version": "^0.1.2",
       "_view_module_version": "^0.1.2",
       "children": [
        "IPY_MODEL_805ea2c62cea4f389e8cdcaf4d3fa2cb",
        "IPY_MODEL_0cc395aa40e94b989a548febcfdb5e05",
        "IPY_MODEL_525695082907441b9d5fe716c55b2141",
        "IPY_MODEL_1bb3336d4bef4979b9bb018af7f4fdc4",
        "IPY_MODEL_07424825f5c943b4b27c37d747ec046a"
       ],
       "layout": "IPY_MODEL_4b3a9d9aa43144fca24393575055b6a0"
      }
     },
     "db2c3d17ca504ca5b12bf8431213c47a": {
      "model_module": "@jupyter-widgets/base",
      "model_module_version": "1.2.0",
      "model_name": "LayoutModel",
      "state": {}
     },
     "db4c3609b3594e998f5efdb2721b2014": {
      "model_module": "@jupyter-widgets/base",
      "model_module_version": "1.2.0",
      "model_name": "LayoutModel",
      "state": {}
     },
     "db99c174f80c4e11afb1a06e36228357": {
      "model_module": "@jupyter-widgets/controls",
      "model_module_version": "1.5.0",
      "model_name": "BoundedIntTextModel",
      "state": {
       "description": "index",
       "layout": "IPY_MODEL_07d9bb8ab52941bd8dcb93c7cdc8d27a",
       "style": "IPY_MODEL_2f2ae84d6e0a4ce28cb9b46fe5dc6734",
       "value": 2
      }
     },
     "dba8e0ab6061420e8b48f4b135b91803": {
      "model_module": "@jupyter-widgets/controls",
      "model_module_version": "1.5.0",
      "model_name": "VBoxModel",
      "state": {
       "children": [
        "IPY_MODEL_2238306649c540a699db292dd4180023",
        "IPY_MODEL_54769b26134a4b46a9dd5a9fb3fe96f0"
       ],
       "layout": "IPY_MODEL_c2f52039c5e94671870caf9530fd4b32"
      }
     },
     "dc1c563d342944eaa299bfa37de8cde0": {
      "model_module": "@jupyter-widgets/controls",
      "model_module_version": "1.5.0",
      "model_name": "DescriptionStyleModel",
      "state": {
       "description_width": ""
      }
     },
     "dc93e065fc0b494a9a9f6ed34b82a08a": {
      "model_module": "@jupyter-widgets/controls",
      "model_module_version": "1.5.0",
      "model_name": "IntSliderModel",
      "state": {
       "description": "value",
       "layout": "IPY_MODEL_26313b1b0e774a5c9296c77a9fb42f6f",
       "max": 10,
       "min": 1,
       "style": "IPY_MODEL_12f7c4ba0f6d4b888ba73f16f369a10a",
       "value": 8
      }
     },
     "dc97f2b89053407e94e886a87cb5eb6b": {
      "model_module": "@jupyter-widgets/controls",
      "model_module_version": "1.5.0",
      "model_name": "IntTextModel",
      "state": {
       "description": "max",
       "layout": "IPY_MODEL_2e6fdecb680e44eab31fbab1ebfe7703",
       "step": 1,
       "style": "IPY_MODEL_776b369c935b4b23a7d6651a4cec65fa",
       "value": 10
      }
     },
     "dd8cbc2eaaeb415dbc538b88d4e53a59": {
      "model_module": "pgljupyter",
      "model_module_version": "^0.1.2",
      "model_name": "IntEditorModel",
      "state": {
       "_model_module_version": "^0.1.2",
       "_view_module_version": "^0.1.2",
       "children": [
        "IPY_MODEL_cf6091e0273242ae91488af7bed1c9b8",
        "IPY_MODEL_777034ee9c8848ce81cea022bafe8d9a",
        "IPY_MODEL_abdee7edd55249719f1a4066ecbd2150",
        "IPY_MODEL_4f98121246334297a02fb360aff2e606",
        "IPY_MODEL_cceb5c3176fc4d4391580243e90f5c8d"
       ],
       "layout": "IPY_MODEL_02a74f7bceb840a7a578defaea9f85bd"
      }
     },
     "de40add93b8a4b35b57878f54f78831a": {
      "model_module": "@jupyter-widgets/base",
      "model_module_version": "1.2.0",
      "model_name": "LayoutModel",
      "state": {}
     },
     "df95ab311aec4dfa843cb14b58334dec": {
      "model_module": "@jupyter-widgets/controls",
      "model_module_version": "1.5.0",
      "model_name": "DescriptionStyleModel",
      "state": {
       "description_width": ""
      }
     },
     "e0d3b484200b4472a943c361ea5e1294": {
      "model_module": "@jupyter-widgets/base",
      "model_module_version": "1.2.0",
      "model_name": "LayoutModel",
      "state": {}
     },
     "e0fe7799410b49c6918278e53e30b819": {
      "model_module": "pgljupyter",
      "model_module_version": "^0.1.2",
      "model_name": "CurveEditorModel",
      "state": {
       "_model_module_version": "^0.1.2",
       "_view_module_version": "^0.1.2",
       "children": [
        "IPY_MODEL_ea4c650ac81c44fdaf31b1d9eebdfd74",
        "IPY_MODEL_5fcc45e79e4548fd9842f2b10f8450e1"
       ],
       "layout": "IPY_MODEL_996caf2446e9407b9b792dca3f37a21f"
      }
     },
     "e124b9fefb784a3bad65373e1ef9c403": {
      "model_module": "@jupyter-widgets/controls",
      "model_module_version": "1.5.0",
      "model_name": "SliderStyleModel",
      "state": {
       "description_width": ""
      }
     },
     "e156370312ca44d5b9eaffa7beeb1c52": {
      "model_module": "@jupyter-widgets/controls",
      "model_module_version": "1.5.0",
      "model_name": "ButtonModel",
      "state": {
       "description": "Add",
       "layout": "IPY_MODEL_a76bae76a03543469d6f1e10f6d263cb",
       "style": "IPY_MODEL_d815cf04fa1e4602a3eae7b84a7a88e8"
      }
     },
     "e1ab7903552947558c2f9def1fa24f2a": {
      "model_module": "@jupyter-widgets/base",
      "model_module_version": "1.2.0",
      "model_name": "LayoutModel",
      "state": {
       "margin": "20px 0px"
      }
     },
     "e38a5927e6934a1eb8de6edff55adc76": {
      "model_module": "@jupyter-widgets/controls",
      "model_module_version": "1.5.0",
      "model_name": "FloatSliderModel",
      "state": {
       "description": "transparency",
       "layout": "IPY_MODEL_8d72828213d54034baa081e13312c7e8",
       "max": 1,
       "step": 0.1,
       "style": "IPY_MODEL_c77747e99e2248869202f774aa46d72e",
       "value": 1
      }
     },
     "e3ca09485f8f45a38649ee0f2bdcfb30": {
      "model_module": "@jupyter-widgets/controls",
      "model_module_version": "1.5.0",
      "model_name": "DescriptionStyleModel",
      "state": {
       "description_width": ""
      }
     },
     "e4bda8110a6f4eb5951c91a6a55e12fc": {
      "model_module": "@jupyter-widgets/base",
      "model_module_version": "1.2.0",
      "model_name": "LayoutModel",
      "state": {}
     },
     "e5933bb77a9d413a9d681c31c7d59d46": {
      "model_module": "@jupyter-widgets/controls",
      "model_module_version": "1.5.0",
      "model_name": "ButtonModel",
      "state": {
       "description": "Add",
       "layout": "IPY_MODEL_211b1b5d82264938ace5ce2c20caba9b",
       "style": "IPY_MODEL_c8f7c0c083654692bcaf39f7ed6f4596"
      }
     },
     "e726edc415ce408287086d7be2efd682": {
      "model_module": "@jupyter-widgets/controls",
      "model_module_version": "1.5.0",
      "model_name": "DescriptionStyleModel",
      "state": {
       "description_width": ""
      }
     },
     "e7d57c4c8c8a4814a66792e624eab80b": {
      "model_module": "@jupyter-widgets/controls",
      "model_module_version": "1.5.0",
      "model_name": "DropdownModel",
      "state": {
       "_options_labels": [
        "Integer",
        "Float",
        "Bool"
       ],
       "index": 0,
       "layout": "IPY_MODEL_c40d91bd421049d38bc8e192e39e9122",
       "style": "IPY_MODEL_07222ec0cc5f4b80ac8b7e5edc408fd8"
      }
     },
     "e8085364e31d455da333f395d8708b18": {
      "model_module": "@jupyter-widgets/controls",
      "model_module_version": "1.5.0",
      "model_name": "FloatSliderModel",
      "state": {
       "description": "transparency",
       "layout": "IPY_MODEL_ab842bdc36b84649bdf23c718ad661b1",
       "max": 1,
       "step": 0.1,
       "style": "IPY_MODEL_30ea76a55acd406bad8fb7188aff0f41",
       "value": 1
      }
     },
     "e83dc2353dde47c89a318c26129fe28f": {
      "model_module": "@jupyter-widgets/controls",
      "model_module_version": "1.5.0",
      "model_name": "ButtonStyleModel",
      "state": {}
     },
     "e9a9f6fca3b84589a232b1138b72fa62": {
      "model_module": "@jupyter-widgets/controls",
      "model_module_version": "1.5.0",
      "model_name": "FloatSliderModel",
      "state": {
       "description": "shininess",
       "layout": "IPY_MODEL_1a573eadc9614551b2751a0416609504",
       "max": 1,
       "step": 0.1,
       "style": "IPY_MODEL_bc0183c58b444802a552b4adb9c91726",
       "value": 0.5
      }
     },
     "ea4c650ac81c44fdaf31b1d9eebdfd74": {
      "model_module": "@jupyter-widgets/controls",
      "model_module_version": "1.5.0",
      "model_name": "TextModel",
      "state": {
       "continuous_update": false,
       "description": "name",
       "layout": "IPY_MODEL_4ab95f25721548e9a6f9af0e22f82169",
       "style": "IPY_MODEL_1025d095d9fd45ac972ac75098ab94e7",
       "value": "NurbsCurve2D_1"
      }
     },
     "ea946b50bbd743e3a866b07dd18678df": {
      "model_module": "pgljupyter",
      "model_module_version": "^0.1.2",
      "model_name": "CurveEditorModel",
      "state": {
       "_model_module_version": "^0.1.2",
       "_view_module_version": "^0.1.2",
       "children": [
        "IPY_MODEL_0517c90068cf49819b0878b929df6a97",
        "IPY_MODEL_78ba74ff3c3846c2b2a4b37a28c0386a"
       ],
       "layout": "IPY_MODEL_c55c011e738a41e3bfd9ff758ced3850"
      }
     },
     "eb925bb2ec044a0e94904c75d2959be6": {
      "model_module": "@jupyter-widgets/controls",
      "model_module_version": "1.5.0",
      "model_name": "ColorPickerModel",
      "state": {
       "description": "ambient",
       "disabled": false,
       "layout": "IPY_MODEL_649d1541de7b46a0b1ee576e245cf092",
       "style": "IPY_MODEL_339bb7c5bbd24525889f6050716638c6",
       "value": "#e1a014"
      }
     },
     "ebb168363859428c910fbb683a4d6956": {
      "model_module": "@jupyter-widgets/base",
      "model_module_version": "1.2.0",
      "model_name": "LayoutModel",
      "state": {}
     },
     "ec24f35bb3fa42c4a49afed0c7c8655d": {
      "model_module": "@jupyter-widgets/controls",
      "model_module_version": "1.5.0",
      "model_name": "DropdownModel",
      "state": {
       "_options_labels": [
        "leafduration",
        "leafold",
        "maxorder",
        "radinc"
       ],
       "index": 0,
       "layout": "IPY_MODEL_7d94c059507f42e4aa7fdbe39beb4a2a",
       "style": "IPY_MODEL_5033c64811d044d4bfb1668fefbe13dd"
      }
     },
     "ed77f043f57c453185e88f41eb97980c": {
      "model_module": "@jupyter-widgets/base",
      "model_module_version": "1.2.0",
      "model_name": "LayoutModel",
      "state": {}
     },
     "ee2e3e4b8e134b2f9faf01615d057f6b": {
      "model_module": "@jupyter-widgets/base",
      "model_module_version": "1.2.0",
      "model_name": "LayoutModel",
      "state": {}
     },
     "eeab74f6f1a84721a8eb814d0d0499fc": {
      "model_module": "@jupyter-widgets/controls",
      "model_module_version": "1.5.0",
      "model_name": "DescriptionStyleModel",
      "state": {
       "description_width": ""
      }
     },
     "f039ea0c32604272aa1c50f111f7a4c9": {
      "model_module": "@jupyter-widgets/controls",
      "model_module_version": "1.5.0",
      "model_name": "VBoxModel",
      "state": {
       "children": [
        "IPY_MODEL_11eb943263dd4960811ae0dbed24247c",
        "IPY_MODEL_2b6d029d3363436bb4c3867096c43514"
       ],
       "layout": "IPY_MODEL_b882c7f790744974bc9b924e675cb756"
      }
     },
     "f07b9cc7bedd486eab67bbefbe1b3a81": {
      "model_module": "@jupyter-widgets/controls",
      "model_module_version": "1.5.0",
      "model_name": "SliderStyleModel",
      "state": {
       "description_width": ""
      }
     },
     "f0caa55e5c1c4f47b491d8bc9349488f": {
      "model_module": "@jupyter-widgets/controls",
      "model_module_version": "1.5.0",
      "model_name": "DescriptionStyleModel",
      "state": {
       "description_width": ""
      }
     },
     "f185c916dcb14fa48e134838b90ee266": {
      "model_module": "@jupyter-widgets/controls",
      "model_module_version": "1.5.0",
      "model_name": "ColorPickerModel",
      "state": {
       "description": "emission",
       "disabled": false,
       "layout": "IPY_MODEL_7007a25b0d9d449f82f3f6c626257ee5",
       "style": "IPY_MODEL_cc5944add9d34806bcf3e19b3041f41d",
       "value": "#1f48db"
      }
     },
     "f34b929398a24b469d2d633e8cbf34a2": {
      "model_module": "@jupyter-widgets/controls",
      "model_module_version": "1.5.0",
      "model_name": "ColorPickerModel",
      "state": {
       "description": "ambient",
       "disabled": false,
       "layout": "IPY_MODEL_425f0c41e24249038f40431856835760",
       "style": "IPY_MODEL_54e18e6488554c9eb34ba05898de159c",
       "value": "#604d3e"
      }
     },
     "f378e5f9f0b6407c8d4b7b8343855811": {
      "model_module": "@jupyter-widgets/controls",
      "model_module_version": "1.5.0",
      "model_name": "DescriptionStyleModel",
      "state": {
       "description_width": ""
      }
     },
     "f388e0efafe1495e96c319279c5f947b": {
      "model_module": "@jupyter-widgets/controls",
      "model_module_version": "1.5.0",
      "model_name": "FloatSliderModel",
      "state": {
       "description": "shininess",
       "layout": "IPY_MODEL_35f6cf9c439d4fa8ae1b7d5de389c9af",
       "max": 1,
       "step": 0.1,
       "style": "IPY_MODEL_75d3e76ba91f4678a3a3444870c33a8e",
       "value": 0.7
      }
     },
     "f38ce8becd2f403f81f14f057115a3b5": {
      "model_module": "@jupyter-widgets/controls",
      "model_module_version": "1.5.0",
      "model_name": "ButtonModel",
      "state": {
       "description": "Apply changes",
       "disabled": true,
       "layout": "IPY_MODEL_0ed76f9058054c2e872da6c9c3e56420",
       "style": "IPY_MODEL_b139e2d1758644fabc8d862eb9e6e9ed"
      }
     },
     "f3edf20f06664802b1ed1a7f3e4d9d75": {
      "model_module": "@jupyter-widgets/controls",
      "model_module_version": "1.5.0",
      "model_name": "DescriptionStyleModel",
      "state": {
       "description_width": ""
      }
     },
     "f54dce5c967d42ddacd908ff611f1d2e": {
      "model_module": "@jupyter-widgets/controls",
      "model_module_version": "1.5.0",
      "model_name": "HBoxModel",
      "state": {
       "children": [
        "IPY_MODEL_e156370312ca44d5b9eaffa7beeb1c52",
        "IPY_MODEL_1a360a5c3c3e466d911a03a19d817dca",
        "IPY_MODEL_7fd4070bf1f748a6978285867f3fd655",
        "IPY_MODEL_c6a312a270f14428b4ad614b9369cd85"
       ],
       "layout": "IPY_MODEL_f56daa410ee44854874b448e60b2c3c9"
      }
     },
     "f56daa410ee44854874b448e60b2c3c9": {
      "model_module": "@jupyter-widgets/base",
      "model_module_version": "1.2.0",
      "model_name": "LayoutModel",
      "state": {
       "flex_flow": "row wrap",
       "margin": "20px"
      }
     },
     "f571b090508244a7b467737c415e2fad": {
      "model_module": "@jupyter-widgets/controls",
      "model_module_version": "1.5.0",
      "model_name": "DescriptionStyleModel",
      "state": {
       "description_width": ""
      }
     },
     "f6f69156ecf34f9596a623ebda071f85": {
      "model_module": "@jupyter-widgets/controls",
      "model_module_version": "1.5.0",
      "model_name": "ButtonStyleModel",
      "state": {}
     },
     "f74b91788cb546d0976cda4bc856aef6": {
      "model_module": "@jupyter-widgets/base",
      "model_module_version": "1.2.0",
      "model_name": "LayoutModel",
      "state": {}
     },
     "f79988204f874b4b990f329de61ad10e": {
      "model_module": "@jupyter-widgets/controls",
      "model_module_version": "1.5.0",
      "model_name": "DescriptionStyleModel",
      "state": {
       "description_width": ""
      }
     },
     "f877f58a4a8f446bae74488efbef66b0": {
      "model_module": "@jupyter-widgets/controls",
      "model_module_version": "1.5.0",
      "model_name": "TextModel",
      "state": {
       "continuous_update": false,
       "description": "name",
       "layout": "IPY_MODEL_2c459c82701d4343a44e9daf1dc0cd65",
       "style": "IPY_MODEL_4194c689e5fa497f9d21a411b43c0a30",
       "value": "radinc"
      }
     },
     "f87af6e13bdd4e268f395b44ce991bbf": {
      "model_module": "@jupyter-widgets/base",
      "model_module_version": "1.2.0",
      "model_name": "LayoutModel",
      "state": {}
     },
     "f90a42a43b1f4bed81fc082672b8e388": {
      "model_module": "@jupyter-widgets/base",
      "model_module_version": "1.2.0",
      "model_name": "LayoutModel",
      "state": {}
     },
     "f9f743e89f6a4cc3af534e5d9f0f052d": {
      "model_module": "@jupyter-widgets/controls",
      "model_module_version": "1.5.0",
      "model_name": "ColorPickerModel",
      "state": {
       "description": "emission",
       "disabled": false,
       "layout": "IPY_MODEL_33ec9c5667a5451786a5c5e914e5dc10",
       "style": "IPY_MODEL_f0caa55e5c1c4f47b491d8bc9349488f",
       "value": "#1f48db"
      }
     },
     "fa5ab9a9bee44bd487e3af93b6960686": {
      "model_module": "@jupyter-widgets/base",
      "model_module_version": "1.2.0",
      "model_name": "LayoutModel",
      "state": {}
     },
     "fd7d330ce7384b0b8b5b1d06fe02e1b5": {
      "model_module": "@jupyter-widgets/controls",
      "model_module_version": "1.5.0",
      "model_name": "DescriptionStyleModel",
      "state": {
       "description_width": ""
      }
     },
     "fdaf5fa5a54f4007a8756ffb7b209215": {
      "model_module": "@jupyter-widgets/base",
      "model_module_version": "1.2.0",
      "model_name": "LayoutModel",
      "state": {}
     },
     "fdc322002e0147a3b3a787527f552f68": {
      "model_module": "@jupyter-widgets/controls",
      "model_module_version": "1.5.0",
      "model_name": "BoundedFloatTextModel",
      "state": {
       "description": "step",
       "layout": "IPY_MODEL_a6b539cc15804907989b197d4b2cbdbe",
       "max": 1,
       "min": 0.01,
       "step": 0.01,
       "style": "IPY_MODEL_9c0cf9efa1154e3d8f992ee0f7cd1a7d",
       "value": 0.01
      }
     },
     "fe0cdcc6562e4d7b98662c718d50f517": {
      "model_module": "@jupyter-widgets/base",
      "model_module_version": "1.2.0",
      "model_name": "LayoutModel",
      "state": {
       "flex_flow": "row wrap",
       "margin": "20px"
      }
     },
     "fe83071c6a9940158069480e78541e89": {
      "model_module": "@jupyter-widgets/base",
      "model_module_version": "1.2.0",
      "model_name": "LayoutModel",
      "state": {}
     }
    },
    "version_major": 2,
    "version_minor": 0
   }
  }
 },
 "nbformat": 4,
 "nbformat_minor": 4
}
