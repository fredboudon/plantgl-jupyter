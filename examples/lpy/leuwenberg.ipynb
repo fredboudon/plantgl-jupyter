{
 "cells": [
  {
   "cell_type": "code",
   "execution_count": 3,
   "metadata": {},
   "outputs": [],
   "source": [
    "%%capture\n",
    "help('modules')\n",
    "from openalea.lpy import Lsystem\n",
    "from pgljupyter import LsystemWidget"
   ]
  },
  {
   "cell_type": "code",
   "execution_count": 9,
   "metadata": {},
   "outputs": [
    {
     "data": {
      "application/vnd.jupyter.widget-view+json": {
       "model_id": "8c7d2854c80d418a806483e6300d3e7f",
       "version_major": 2,
       "version_minor": 0
      },
      "text/plain": [
       "LsystemWidget(lsystem=<openalea.lpy.__lpy_kernel__.Lsystem object at 0x7f02f9ca41f0>, scene={'data': b'!bGEOM\\…"
      ]
     },
     "metadata": {},
     "output_type": "display_data"
    }
   ],
   "source": [
    "LsystemWidget('leuwenberg.lpy', unit='dm', dump='dump', compress=False, animate=False)"
   ]
  },
  {
   "cell_type": "code",
   "execution_count": null,
   "metadata": {},
   "outputs": [],
   "source": []
  },
  {
   "cell_type": "code",
   "execution_count": null,
   "metadata": {},
   "outputs": [],
   "source": []
  }
 ],
 "metadata": {
  "kernelspec": {
   "display_name": "Python 3",
   "language": "python",
   "name": "python3"
  },
  "language_info": {
   "codemirror_mode": {
    "name": "ipython",
    "version": 3
   },
   "file_extension": ".py",
   "mimetype": "text/x-python",
   "name": "python",
   "nbconvert_exporter": "python",
   "pygments_lexer": "ipython3",
   "version": "3.7.3"
  }
 },
 "nbformat": 4,
 "nbformat_minor": 4
}
