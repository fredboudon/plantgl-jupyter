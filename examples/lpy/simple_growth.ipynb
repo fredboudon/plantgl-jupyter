{
 "cells": [
  {
   "cell_type": "code",
   "execution_count": 1,
   "metadata": {},
   "outputs": [],
   "source": [
    "from openalea.plantgl.all import *\n",
    "from openalea.lpy import Lsystem\n",
    "from pgljupyter import SceneWidget\n",
    "from math import floor, ceil, sqrt"
   ]
  },
  {
   "cell_type": "code",
   "execution_count": 2,
   "metadata": {},
   "outputs": [
    {
     "data": {
      "application/vnd.jupyter.widget-view+json": {
       "model_id": "3f47970991114b8aa95a1a45914dabd6",
       "version_major": 2,
       "version_minor": 0
      },
      "text/plain": [
       "SceneWidget(scene={'drc': <memory at 0x7f7a9051b108>, 'offsets': [], 'scene': <openalea.plantgl.scenegraph._pg…"
      ]
     },
     "metadata": {},
     "output_type": "display_data"
    }
   ],
   "source": [
    "ls = Lsystem('simple_growth.lpy')\n",
    "rows = cols = ceil(sqrt(ls.derivationLength))\n",
    "size = rows\n",
    "cell = 1\n",
    "start = -size/2 + cell/2\n",
    "sw = SceneWidget(size_display=(800, 500), size_world=(size, size, size))\n",
    "tree = ls.axiom\n",
    "display(sw)\n",
    "sw.add(ls.sceneInterpretation(ls.axiom), (start, start, 0))\n",
    "for i in range(1, ls.derivationLength):\n",
    "    row = floor(i / rows)\n",
    "    col = (i - row * cols)\n",
    "    x = row + start\n",
    "    y = col + start\n",
    "    tree = ls.derive(tree, i, 1)\n",
    "    sw.add(ls.sceneInterpretation(tree), (x, y, 0), 0.05)"
   ]
  },
  {
   "cell_type": "code",
   "execution_count": null,
   "metadata": {},
   "outputs": [],
   "source": []
  }
 ],
 "metadata": {
  "kernelspec": {
   "display_name": "Python 3",
   "language": "python",
   "name": "python3"
  },
  "language_info": {
   "codemirror_mode": {
    "name": "ipython",
    "version": 3
   },
   "file_extension": ".py",
   "mimetype": "text/x-python",
   "name": "python",
   "nbconvert_exporter": "python",
   "pygments_lexer": "ipython3",
   "version": "3.7.3"
  }
 },
 "nbformat": 4,
 "nbformat_minor": 4
}
