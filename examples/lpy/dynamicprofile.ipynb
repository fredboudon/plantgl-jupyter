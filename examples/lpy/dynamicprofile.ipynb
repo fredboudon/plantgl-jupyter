{
 "cells": [
  {
   "cell_type": "code",
   "execution_count": 1,
   "metadata": {},
   "outputs": [],
   "source": [
    "from pgljupyter import LsystemWidget, ParameterEditor"
   ]
  },
  {
   "cell_type": "code",
   "execution_count": 2,
   "metadata": {},
   "outputs": [
    {
     "name": "stderr",
     "output_type": "stream",
     "text": [
      "/home/jv/git/jvail/plantgl-jupyter/pgljupyter/widgets.py:279: Warning: Invalid width value in setWidth. Must be positive\n",
      "  scene = self.__lsystem.sceneInterpretation(self.__trees[step])\n"
     ]
    }
   ],
   "source": [
    "lw = LsystemWidget('dynamicprofile', size_world=(2, 2, 2))"
   ]
  },
  {
   "cell_type": "code",
   "execution_count": 3,
   "metadata": {
    "collapsed": true,
    "jupyter": {
     "outputs_hidden": true
    }
   },
   "outputs": [
    {
     "data": {
      "application/vnd.jupyter.widget-view+json": {
       "model_id": "faf9ea8625fb476596d0cc8c4641b738",
       "version_major": 2,
       "version_minor": 0
      },
      "text/plain": [
       "LsystemWidget(derivationLength=140, scene={'data': b'x\\xda\\xa5\\xd4{P\\x94U\\x14\\x00\\xf0\\x8f]^\\x81\\xc0\"\\xa6<L@(\\x…"
      ]
     },
     "metadata": {},
     "output_type": "display_data"
    }
   ],
   "source": [
    "lw"
   ]
  },
  {
   "cell_type": "code",
   "execution_count": 4,
   "metadata": {},
   "outputs": [
    {
     "data": {
      "application/vnd.jupyter.widget-view+json": {
       "model_id": "53ecc28617ef40a0932e84431c3efea5",
       "version_major": 2,
       "version_minor": 0
      },
      "text/plain": [
       "ParameterEditor(children=(VBox(children=(HBox(children=(Button(description='Apply changes', style=ButtonStyle(…"
      ]
     },
     "metadata": {},
     "output_type": "display_data"
    }
   ],
   "source": [
    "lw.editor"
   ]
  },
  {
   "cell_type": "code",
   "execution_count": null,
   "metadata": {},
   "outputs": [],
   "source": []
  }
 ],
 "metadata": {
  "kernelspec": {
   "display_name": "Python 3",
   "language": "python",
   "name": "python3"
  },
  "language_info": {
   "codemirror_mode": {
    "name": "ipython",
    "version": 3
   },
   "file_extension": ".py",
   "mimetype": "text/x-python",
   "name": "python",
   "nbconvert_exporter": "python",
   "pygments_lexer": "ipython3",
   "version": "3.8.3"
  },
  "widgets": {
   "application/vnd.jupyter.widget-state+json": {
    "state": {
     "00cb9ffcfec54de6845ed90eb9b60622": {
      "model_module": "@jupyter-widgets/controls",
      "model_module_version": "1.5.0",
      "model_name": "DescriptionStyleModel",
      "state": {
       "description_width": ""
      }
     },
     "032ef6064459466e9cf447093f53eff4": {
      "model_module": "pgljupyter",
      "model_module_version": "^0.1.2",
      "model_name": "CurveEditorModel",
      "state": {
       "_model_module_version": "^0.1.2",
       "_view_module_version": "^0.1.2",
       "control_points": [
        [
         0,
         0.0126800537109375
        ],
        [
         0.2197443181818182,
         0.589100508256392
        ],
        [
         0.3333806818181817,
         0.080009599165483
        ],
        [
         1,
         0.0035891446200284616
        ]
       ],
       "curve_type": [
        "NurbsCurve2D"
       ],
       "is_function": true,
       "layout": "IPY_MODEL_b213b1167ae54e9a87eb24419fcd719e",
       "name": "leafwidth"
      }
     },
     "0499ea2c84df429fbeac2bbb79a0834e": {
      "model_module": "@jupyter-widgets/controls",
      "model_module_version": "1.5.0",
      "model_name": "ButtonModel",
      "state": {
       "description": "Apply changes",
       "layout": "IPY_MODEL_90f25db3244a4551a205cbe98e6270aa",
       "style": "IPY_MODEL_75c3c1544bef4c66bab7c9c70c5c4743"
      }
     },
     "0690ac687e7b4a8ea53e209c24773565": {
      "model_module": "@jupyter-widgets/controls",
      "model_module_version": "1.5.0",
      "model_name": "DropdownModel",
      "state": {
       "_options_labels": [
        "Color"
       ],
       "index": 0,
       "layout": "IPY_MODEL_b3c8d49331434ecfa22bc3c2461cfbe9",
       "style": "IPY_MODEL_4c9926a0978d4054a5dda3b791381de6"
      }
     },
     "06c4cc2556b04c6bba74be9ef247eb68": {
      "model_module": "@jupyter-widgets/base",
      "model_module_version": "1.2.0",
      "model_name": "LayoutModel",
      "state": {}
     },
     "082cde4cd1114a21bcfc625d0547883f": {
      "model_module": "@jupyter-widgets/controls",
      "model_module_version": "1.5.0",
      "model_name": "DescriptionStyleModel",
      "state": {
       "description_width": ""
      }
     },
     "0a0c2ae6bc2d45af85133392769398da": {
      "model_module": "@jupyter-widgets/controls",
      "model_module_version": "1.5.0",
      "model_name": "TextModel",
      "state": {
       "layout": "IPY_MODEL_4844bb4e0a1541919ebb51884a7b47f4",
       "style": "IPY_MODEL_7317ee09e84a4114965ec861024200c9",
       "value": "axis6"
      }
     },
     "0b2b607eaa804eccbfbc9454aff4016d": {
      "model_module": "@jupyter-widgets/base",
      "model_module_version": "1.2.0",
      "model_name": "LayoutModel",
      "state": {}
     },
     "0c23777e93914d4d9c005d61910c8b1e": {
      "model_module": "@jupyter-widgets/controls",
      "model_module_version": "1.5.0",
      "model_name": "ButtonStyleModel",
      "state": {}
     },
     "0d0f031bd91c4317a607fb9eeefb60c2": {
      "model_module": "@jupyter-widgets/base",
      "model_module_version": "1.2.0",
      "model_name": "LayoutModel",
      "state": {}
     },
     "125a8520d8c244cfbbb2ae3537982b77": {
      "model_module": "@jupyter-widgets/base",
      "model_module_version": "1.2.0",
      "model_name": "LayoutModel",
      "state": {}
     },
     "16ded74879de4306a0f041603bfa009f": {
      "model_module": "@jupyter-widgets/controls",
      "model_module_version": "1.5.0",
      "model_name": "TextModel",
      "state": {
       "layout": "IPY_MODEL_f5eb7733244e4dadbb6f17290c3a3ddd",
       "style": "IPY_MODEL_d16ce5cc7ba1442985fee09ebe79d36c",
       "value": "axis2"
      }
     },
     "190c3801c2c2410087e9a4a3cf7264dd": {
      "model_module": "@jupyter-widgets/base",
      "model_module_version": "1.2.0",
      "model_name": "LayoutModel",
      "state": {}
     },
     "1c4494b2e62545c8a9ed10126738df1c": {
      "model_module": "@jupyter-widgets/controls",
      "model_module_version": "1.5.0",
      "model_name": "DescriptionStyleModel",
      "state": {
       "description_width": ""
      }
     },
     "1d05f364d2cc4b249621a1455c550a76": {
      "model_module": "@jupyter-widgets/controls",
      "model_module_version": "1.5.0",
      "model_name": "VBoxModel",
      "state": {
       "children": [
        "IPY_MODEL_d83da9db7a95463ea909e8c525c3310c",
        "IPY_MODEL_8e1f627da39c4420b9c402dd48e0d210"
       ],
       "layout": "IPY_MODEL_258e8bd635a54185895108f5f7821aec"
      }
     },
     "1dba2dfca77946b9ac5d2d24496ce407": {
      "model_module": "pgljupyter",
      "model_module_version": "^0.1.2",
      "model_name": "CurveEditorModel",
      "state": {
       "_model_module_version": "^0.1.2",
       "_view_module_version": "^0.1.2",
       "control_points": [
        [
         -0.5671717124097543,
         0.010349592264448926
        ],
        [
         -0.22910935625475073,
         0.4644631599068219
        ],
        [
         -0.022235388893652397,
         -0.2469814403066735
        ],
        [
         0.1846385784674459,
         0.46950886642782436
        ],
        [
         0.4217867849545588,
         0.015395298785451317
        ]
       ],
       "curve_type": [
        "NurbsCurve2D"
       ],
       "layout": "IPY_MODEL_d987a2962bdd44ff8fc70c8524f2a422",
       "name": "profile"
      }
     },
     "1f09f15c85504f888810fad1ad673720": {
      "model_module": "@jupyter-widgets/base",
      "model_module_version": "1.2.0",
      "model_name": "LayoutModel",
      "state": {}
     },
     "21ed3ca0be304737bd9e0b7d7dc00909": {
      "model_module": "@jupyter-widgets/controls",
      "model_module_version": "1.5.0",
      "model_name": "BoundedFloatTextModel",
      "state": {
       "description": "diffuse",
       "layout": "IPY_MODEL_c23dc75bae8e4029b67400c33292c09c",
       "max": 1,
       "step": null,
       "style": "IPY_MODEL_77f892ca877b41cba4cf72f221c64f12",
       "value": 0.75
      }
     },
     "22020f4b3c794ae0b94fa488f0cafb84": {
      "model_module": "pgljupyter",
      "model_module_version": "^0.1.2",
      "model_name": "ParameterEditorModel",
      "state": {
       "_model_module_version": "^0.1.2",
       "_view_module_version": "^0.1.2",
       "children": [
        "IPY_MODEL_94986ac645ff4f1088005f8ed6715874"
       ],
       "layout": "IPY_MODEL_7ec0b868cca3421d802f968ab7b4f1e2"
      }
     },
     "2312f359cead44459160bc1540af955f": {
      "model_module": "@jupyter-widgets/controls",
      "model_module_version": "1.5.0",
      "model_name": "DescriptionStyleModel",
      "state": {
       "description_width": ""
      }
     },
     "23b4ad755e494811adc3caf553dcb97e": {
      "model_module": "pgljupyter",
      "model_module_version": "^0.1.2",
      "model_name": "CurveEditorModel",
      "state": {
       "_model_module_version": "^0.1.2",
       "_view_module_version": "^0.1.2",
       "control_points": [
        [
         -0.5,
         0
        ],
        [
         -0.42353109378640263,
         0.09292297178631177
        ],
        [
         -0.3614269431776844,
         0.1631276754226754
        ],
        [
         -0.311815335240922,
         0.27436190918077913
        ],
        [
         -0.2510197531605952,
         0.39595307334143276
        ],
        [
         -0.3878098128413305,
         0.4529489315417391
        ]
       ],
       "curve_type": [
        "NurbsCurve2D"
       ],
       "layout": "IPY_MODEL_ae632d33aa984a39893dc926d1f53751",
       "name": "axis5"
      }
     },
     "24f1696e3ecd49c5b966e0eb5f0b86c2": {
      "model_module": "@jupyter-widgets/controls",
      "model_module_version": "1.5.0",
      "model_name": "TextModel",
      "state": {
       "layout": "IPY_MODEL_cbc1c0131ab14902a8776c6b402f154c",
       "style": "IPY_MODEL_29a964ea0355416295cbb2c6471befc0",
       "value": "axis8"
      }
     },
     "25263a7a4f364498b91751e75fb41a50": {
      "model_module": "@jupyter-widgets/controls",
      "model_module_version": "1.5.0",
      "model_name": "DropdownModel",
      "state": {
       "_options_labels": [
        "Integer",
        "Float",
        "Bool"
       ],
       "index": 0,
       "layout": "IPY_MODEL_2b3f033b819d4fcc85adafdee6d45c95",
       "style": "IPY_MODEL_77a1d4e2d86842ea8911aae94f9d5666"
      }
     },
     "2552960e029a4aaaa2265bd07bfbd876": {
      "model_module": "@jupyter-widgets/controls",
      "model_module_version": "1.5.0",
      "model_name": "ButtonModel",
      "state": {
       "description": "Save changes",
       "layout": "IPY_MODEL_cd90f1113bd1455aaffade7579a56b76",
       "style": "IPY_MODEL_ec9479da74e144e696b0ad1d25f68ddf"
      }
     },
     "258e8bd635a54185895108f5f7821aec": {
      "model_module": "@jupyter-widgets/base",
      "model_module_version": "1.2.0",
      "model_name": "LayoutModel",
      "state": {}
     },
     "26cbd9ad29644c28988fa14dfe131f17": {
      "model_module": "@jupyter-widgets/controls",
      "model_module_version": "1.5.0",
      "model_name": "HBoxModel",
      "state": {
       "children": [
        "IPY_MODEL_730fb5385c904f7497d0730f3e2d8968"
       ],
       "layout": "IPY_MODEL_6bf461dd51124808a9f3e91bc0ee331a"
      }
     },
     "27e28a59a07f4afdbade409cc1e4c60f": {
      "model_module": "@jupyter-widgets/controls",
      "model_module_version": "1.5.0",
      "model_name": "DescriptionStyleModel",
      "state": {
       "description_width": ""
      }
     },
     "28b48099337748019dbba28f053915df": {
      "model_module": "pgljupyter",
      "model_module_version": "^0.1.2",
      "model_name": "CurveEditorModel",
      "state": {
       "_model_module_version": "^0.1.2",
       "_view_module_version": "^0.1.2",
       "control_points": [
        [
         -0.5,
         0
        ],
        [
         -0.4443799997170015,
         0.08445238120155335
        ],
        [
         -0.3881438269897287,
         0.1469370175651897
        ],
        [
         -0.4706173170331641,
         0.3395544757251096
        ],
        [
         -0.6965523668082574,
         0.3107991057537341
        ],
        [
         -0.6965523668082574,
         0.1505906159132135
        ]
       ],
       "curve_type": [
        "NurbsCurve2D"
       ],
       "layout": "IPY_MODEL_6b2ce6a9ffe54dd78274a535480e25cc",
       "name": "axis8"
      }
     },
     "297207e6517a4ecc9d297da0f84639c4": {
      "model_module": "@jupyter-widgets/base",
      "model_module_version": "1.2.0",
      "model_name": "LayoutModel",
      "state": {}
     },
     "29a964ea0355416295cbb2c6471befc0": {
      "model_module": "@jupyter-widgets/controls",
      "model_module_version": "1.5.0",
      "model_name": "DescriptionStyleModel",
      "state": {
       "description_width": ""
      }
     },
     "2b3f033b819d4fcc85adafdee6d45c95": {
      "model_module": "@jupyter-widgets/base",
      "model_module_version": "1.2.0",
      "model_name": "LayoutModel",
      "state": {}
     },
     "2c5001c1ec134706865aba1b1922a6e8": {
      "model_module": "@jupyter-widgets/base",
      "model_module_version": "1.2.0",
      "model_name": "LayoutModel",
      "state": {}
     },
     "2e75e6a7328b4b449db199db02d9e123": {
      "model_module": "@jupyter-widgets/controls",
      "model_module_version": "1.5.0",
      "model_name": "ColorPickerModel",
      "state": {
       "description": "emission",
       "disabled": false,
       "layout": "IPY_MODEL_d2ba063161fe4e97b51c3c2c209ffe94",
       "style": "IPY_MODEL_673975f57bd74bf2a43f98c622b90c44",
       "value": "#000000"
      }
     },
     "316af18d976144718476bf95cf43e0ce": {
      "model_module": "@jupyter-widgets/base",
      "model_module_version": "1.2.0",
      "model_name": "LayoutModel",
      "state": {}
     },
     "32c12dfa91214515a2c42fe00e5e2919": {
      "model_module": "@jupyter-widgets/controls",
      "model_module_version": "1.5.0",
      "model_name": "VBoxModel",
      "state": {
       "children": [
        "IPY_MODEL_eac1c0faa5c74c55b25806fd5088f812",
        "IPY_MODEL_26cbd9ad29644c28988fa14dfe131f17"
       ],
       "layout": "IPY_MODEL_a901a4e413ce47cbb307828f5c4567b9"
      }
     },
     "353a14f75fd640398891872bc96854ad": {
      "model_module": "@jupyter-widgets/base",
      "model_module_version": "1.2.0",
      "model_name": "LayoutModel",
      "state": {}
     },
     "374ab8e0d8ee49d89b1ad3a3d86b0899": {
      "model_module": "@jupyter-widgets/base",
      "model_module_version": "1.2.0",
      "model_name": "LayoutModel",
      "state": {}
     },
     "379052102ad449999d593c8a207582a0": {
      "model_module": "@jupyter-widgets/controls",
      "model_module_version": "1.5.0",
      "model_name": "VBoxModel",
      "state": {
       "children": [
        "IPY_MODEL_d1f5138764144f029c85b0b228644aac",
        "IPY_MODEL_23b4ad755e494811adc3caf553dcb97e"
       ],
       "layout": "IPY_MODEL_0b2b607eaa804eccbfbc9454aff4016d"
      }
     },
     "3a09ee6430e04ea0b21db51f5975d009": {
      "model_module": "@jupyter-widgets/controls",
      "model_module_version": "1.5.0",
      "model_name": "DropdownModel",
      "state": {
       "_options_labels": [
        "NurbsCurve2D",
        "BezierCurve2D",
        "PolyLine2D"
       ],
       "index": 0,
       "layout": "IPY_MODEL_898a23a4483b4dcbb8d3240b90777729",
       "style": "IPY_MODEL_488c1ecd6a604995a703a4b575e346ff"
      }
     },
     "3b351436f9fd4d7dad08ed856312e9a3": {
      "model_module": "@jupyter-widgets/controls",
      "model_module_version": "1.5.0",
      "model_name": "HBoxModel",
      "state": {
       "children": [
        "IPY_MODEL_b57aa1cd5fec44b68a09983fc3370a14",
        "IPY_MODEL_3a09ee6430e04ea0b21db51f5975d009"
       ],
       "layout": "IPY_MODEL_facc124b46fd42f4adfb77dc7edfbe70"
      }
     },
     "3b74a863e5a14a70bc1063a5404912c8": {
      "model_module": "@jupyter-widgets/controls",
      "model_module_version": "1.5.0",
      "model_name": "ColorPickerModel",
      "state": {
       "description": "ambient",
       "disabled": false,
       "layout": "IPY_MODEL_689217d2a906448e987c40ef633fb7d9",
       "style": "IPY_MODEL_c82f206c884f4d2f8b634c8676196481",
       "value": "#495c33"
      }
     },
     "3f2bf25b89b04a2c98f962a891a39d0c": {
      "model_module": "@jupyter-widgets/controls",
      "model_module_version": "1.5.0",
      "model_name": "TextModel",
      "state": {
       "layout": "IPY_MODEL_d32b8222cc6f4647aa15b4a994fd1f0b",
       "style": "IPY_MODEL_27e28a59a07f4afdbade409cc1e4c60f",
       "value": "axis1"
      }
     },
     "3f5914a501dc495588edc8aa9edbe202": {
      "model_module": "@jupyter-widgets/controls",
      "model_module_version": "1.5.0",
      "model_name": "TextModel",
      "state": {
       "layout": "IPY_MODEL_bb51cd016ca048ccb97207556559acdc",
       "style": "IPY_MODEL_60b5550190d648688c243a3f36ccbeab",
       "value": "leafwidth"
      }
     },
     "3f914d03aa604e3c9fad33a63affd056": {
      "model_module": "@jupyter-widgets/controls",
      "model_module_version": "1.5.0",
      "model_name": "TextModel",
      "state": {
       "layout": "IPY_MODEL_eed32540bc7a4e6bb09adf18e1e4f4d0",
       "style": "IPY_MODEL_c7a693eeedab4abba91054ec7c49622b",
       "value": "color"
      }
     },
     "40cbd1dc70ef4513b7d68b642120365d": {
      "model_module": "@jupyter-widgets/controls",
      "model_module_version": "1.5.0",
      "model_name": "DescriptionStyleModel",
      "state": {
       "description_width": ""
      }
     },
     "421496546f25485093eac43791cda1aa": {
      "model_module": "@jupyter-widgets/base",
      "model_module_version": "1.2.0",
      "model_name": "LayoutModel",
      "state": {}
     },
     "4271f1bce0ff44428ea9a12c6c8eb8e8": {
      "model_module": "@jupyter-widgets/controls",
      "model_module_version": "1.5.0",
      "model_name": "VBoxModel",
      "state": {
       "children": [
        "IPY_MODEL_0a0c2ae6bc2d45af85133392769398da",
        "IPY_MODEL_ed4b3eb8289043e7af685aad36bdb042"
       ],
       "layout": "IPY_MODEL_297207e6517a4ecc9d297da0f84639c4"
      }
     },
     "4314aa61d2c34b3e8666454faf0241ab": {
      "model_module": "@jupyter-widgets/controls",
      "model_module_version": "1.5.0",
      "model_name": "DescriptionStyleModel",
      "state": {
       "description_width": ""
      }
     },
     "4368eca3d5ca45c996e08dec030087ee": {
      "model_module": "@jupyter-widgets/controls",
      "model_module_version": "1.5.0",
      "model_name": "VBoxModel",
      "state": {
       "children": [
        "IPY_MODEL_24f1696e3ecd49c5b966e0eb5f0b86c2",
        "IPY_MODEL_28b48099337748019dbba28f053915df"
       ],
       "layout": "IPY_MODEL_a2aaf40a1043482f860d95a191962030"
      }
     },
     "43ca2ef269674a66a4a28e8611bd1d5e": {
      "model_module": "@jupyter-widgets/base",
      "model_module_version": "1.2.0",
      "model_name": "LayoutModel",
      "state": {}
     },
     "4844bb4e0a1541919ebb51884a7b47f4": {
      "model_module": "@jupyter-widgets/base",
      "model_module_version": "1.2.0",
      "model_name": "LayoutModel",
      "state": {}
     },
     "488c1ecd6a604995a703a4b575e346ff": {
      "model_module": "@jupyter-widgets/controls",
      "model_module_version": "1.5.0",
      "model_name": "DescriptionStyleModel",
      "state": {
       "description_width": ""
      }
     },
     "4baaef69801c446fba5de5603faa4e33": {
      "model_module": "@jupyter-widgets/base",
      "model_module_version": "1.2.0",
      "model_name": "LayoutModel",
      "state": {}
     },
     "4c3318c3b21f49a0a324efd214729db7": {
      "model_module": "@jupyter-widgets/base",
      "model_module_version": "1.2.0",
      "model_name": "LayoutModel",
      "state": {}
     },
     "4c9926a0978d4054a5dda3b791381de6": {
      "model_module": "@jupyter-widgets/controls",
      "model_module_version": "1.5.0",
      "model_name": "DescriptionStyleModel",
      "state": {
       "description_width": ""
      }
     },
     "4d2b037f45f047a390b107e0db031eb7": {
      "model_module": "@jupyter-widgets/controls",
      "model_module_version": "1.5.0",
      "model_name": "HBoxModel",
      "state": {
       "layout": "IPY_MODEL_6bf461dd51124808a9f3e91bc0ee331a"
      }
     },
     "53df657fbde04d4ea4a0276370f8b592": {
      "model_module": "@jupyter-widgets/base",
      "model_module_version": "1.2.0",
      "model_name": "LayoutModel",
      "state": {}
     },
     "54855a4c9f52444492618a16e0a065e1": {
      "model_module": "@jupyter-widgets/controls",
      "model_module_version": "1.5.0",
      "model_name": "AccordionModel",
      "state": {
       "_titles": {
        "0": "misc",
        "1": "scalars",
        "2": "materials",
        "3": "functions",
        "4": "curves"
       },
       "children": [
        "IPY_MODEL_80eb1549af2544bf82aaa96febaee405",
        "IPY_MODEL_ce2039c6d9b1489baada74133c09a360",
        "IPY_MODEL_32c12dfa91214515a2c42fe00e5e2919",
        "IPY_MODEL_1d05f364d2cc4b249621a1455c550a76",
        "IPY_MODEL_b53991c9c4504f93ad00376c720f15c9"
       ],
       "layout": "IPY_MODEL_5b0f37fedbaa4743992b67b5f06f512c"
      }
     },
     "555aee09a7704b20902e062bb1ced7d1": {
      "model_module": "@jupyter-widgets/controls",
      "model_module_version": "1.5.0",
      "model_name": "ButtonModel",
      "state": {
       "description": "Add",
       "layout": "IPY_MODEL_cfd9aa0705e641b7a5e51fa20b7c23de",
       "style": "IPY_MODEL_0c23777e93914d4d9c005d61910c8b1e"
      }
     },
     "56a3988936a148af97cc4dae6a27b50d": {
      "model_module": "@jupyter-widgets/controls",
      "model_module_version": "1.5.0",
      "model_name": "DescriptionStyleModel",
      "state": {
       "description_width": ""
      }
     },
     "598d6fdd66a34900a4d9868c9bd2f023": {
      "model_module": "pgljupyter",
      "model_module_version": "^0.1.2",
      "model_name": "CurveEditorModel",
      "state": {
       "_model_module_version": "^0.1.2",
       "_view_module_version": "^0.1.2",
       "control_points": [
        [
         -0.5,
         0
        ],
        [
         -0.49552241639640116,
         0.21742664949363016
        ],
        [
         -0.21352716185094664,
         0.22279798767544834
        ],
        [
         -0.18667049143188477,
         0.02405847494817561
        ],
        [
         -0.36929596912367396,
         0.03748682040272106
        ],
        [
         -0.33438227094185574,
         0.1126855549481756
        ]
       ],
       "curve_type": [
        "NurbsCurve2D"
       ],
       "layout": "IPY_MODEL_64539623bee34b74bbde1a18d8ea9f81",
       "name": "axis1"
      }
     },
     "5b0f37fedbaa4743992b67b5f06f512c": {
      "model_module": "@jupyter-widgets/base",
      "model_module_version": "1.2.0",
      "model_name": "LayoutModel",
      "state": {}
     },
     "5d8cc1bf39f947ffac11a98de88441df": {
      "model_module": "@jupyter-widgets/base",
      "model_module_version": "1.2.0",
      "model_name": "LayoutModel",
      "state": {}
     },
     "60b5550190d648688c243a3f36ccbeab": {
      "model_module": "@jupyter-widgets/controls",
      "model_module_version": "1.5.0",
      "model_name": "DescriptionStyleModel",
      "state": {
       "description_width": ""
      }
     },
     "64539623bee34b74bbde1a18d8ea9f81": {
      "model_module": "@jupyter-widgets/base",
      "model_module_version": "1.2.0",
      "model_name": "LayoutModel",
      "state": {}
     },
     "6686ac0df05846e585a96fbd13486809": {
      "model_module": "@jupyter-widgets/controls",
      "model_module_version": "1.5.0",
      "model_name": "DescriptionStyleModel",
      "state": {
       "description_width": ""
      }
     },
     "673975f57bd74bf2a43f98c622b90c44": {
      "model_module": "@jupyter-widgets/controls",
      "model_module_version": "1.5.0",
      "model_name": "DescriptionStyleModel",
      "state": {
       "description_width": ""
      }
     },
     "681e4a212b51455e9c94cfeaa37ad52d": {
      "model_module": "@jupyter-widgets/controls",
      "model_module_version": "1.5.0",
      "model_name": "VBoxModel",
      "state": {
       "children": [
        "IPY_MODEL_a60cfe96c0b949c4a0fade811d377cf2",
        "IPY_MODEL_ce23d217c5494b8db75807205264670f"
       ],
       "layout": "IPY_MODEL_c363b1eb8430423c85f083784364a07d"
      }
     },
     "686cb04195464644bad898b6b5063bbf": {
      "model_module": "@jupyter-widgets/base",
      "model_module_version": "1.2.0",
      "model_name": "LayoutModel",
      "state": {}
     },
     "689217d2a906448e987c40ef633fb7d9": {
      "model_module": "@jupyter-widgets/base",
      "model_module_version": "1.2.0",
      "model_name": "LayoutModel",
      "state": {}
     },
     "6a353ff27cef41269cba559751f03955": {
      "model_module": "@jupyter-widgets/controls",
      "model_module_version": "1.5.0",
      "model_name": "HBoxModel",
      "state": {
       "children": [
        "IPY_MODEL_ab146beffbd14a8f986b51e3e2943725",
        "IPY_MODEL_c26ad8d116414fddaba15e112157ad62",
        "IPY_MODEL_cf6798a101d44eea973f01a92c0df6dc",
        "IPY_MODEL_d015a1c1a4b940e6b21e4df89d27f680",
        "IPY_MODEL_681e4a212b51455e9c94cfeaa37ad52d",
        "IPY_MODEL_379052102ad449999d593c8a207582a0",
        "IPY_MODEL_4271f1bce0ff44428ea9a12c6c8eb8e8",
        "IPY_MODEL_ac2e430c885044c19e4a2370ed5c7bb2",
        "IPY_MODEL_4368eca3d5ca45c996e08dec030087ee",
        "IPY_MODEL_99fba8f317ea4d8795c31d586e8ec94f"
       ],
       "layout": "IPY_MODEL_6bf461dd51124808a9f3e91bc0ee331a"
      }
     },
     "6a3b4e27316e48479b95430e31835263": {
      "model_module": "@jupyter-widgets/controls",
      "model_module_version": "1.5.0",
      "model_name": "TextModel",
      "state": {
       "layout": "IPY_MODEL_421496546f25485093eac43791cda1aa",
       "style": "IPY_MODEL_8228fd97a889423daa02bd2929678132",
       "value": "axis7"
      }
     },
     "6b2ce6a9ffe54dd78274a535480e25cc": {
      "model_module": "@jupyter-widgets/base",
      "model_module_version": "1.2.0",
      "model_name": "LayoutModel",
      "state": {}
     },
     "6bf461dd51124808a9f3e91bc0ee331a": {
      "model_module": "@jupyter-widgets/base",
      "model_module_version": "1.2.0",
      "model_name": "LayoutModel",
      "state": {
       "flex_flow": "row wrap",
       "margin": "20px"
      }
     },
     "6d5eeaf3f2a84136bcab3ea36aca9535": {
      "model_module": "@jupyter-widgets/controls",
      "model_module_version": "1.5.0",
      "model_name": "DropdownModel",
      "state": {
       "_options_labels": [
        "NurbsCurve2D"
       ],
       "index": 0,
       "layout": "IPY_MODEL_dac41b2f2be5409dbb63b82d0cd20573",
       "style": "IPY_MODEL_2312f359cead44459160bc1540af955f"
      }
     },
     "6e51d306e1554d62ba3a86ea6d717981": {
      "model_module": "@jupyter-widgets/base",
      "model_module_version": "1.2.0",
      "model_name": "LayoutModel",
      "state": {}
     },
     "6e6bafbeb0d04580aa1d640c0c1308b1": {
      "model_module": "@jupyter-widgets/controls",
      "model_module_version": "1.5.0",
      "model_name": "ButtonModel",
      "state": {
       "description": "Add",
       "layout": "IPY_MODEL_4c3318c3b21f49a0a324efd214729db7",
       "style": "IPY_MODEL_fb37fe599385450bb958b2899d5fbf45"
      }
     },
     "7092da022f09492d857e60583fd90903": {
      "model_module": "@jupyter-widgets/controls",
      "model_module_version": "1.5.0",
      "model_name": "VBoxModel",
      "state": {
       "children": [
        "IPY_MODEL_3f5914a501dc495588edc8aa9edbe202",
        "IPY_MODEL_032ef6064459466e9cf447093f53eff4"
       ],
       "layout": "IPY_MODEL_43ca2ef269674a66a4a28e8611bd1d5e"
      }
     },
     "730fb5385c904f7497d0730f3e2d8968": {
      "model_module": "@jupyter-widgets/controls",
      "model_module_version": "1.5.0",
      "model_name": "VBoxModel",
      "state": {
       "children": [
        "IPY_MODEL_3f914d03aa604e3c9fad33a63affd056",
        "IPY_MODEL_f2e1d4611ad4438da9cfa4343e17e198"
       ],
       "layout": "IPY_MODEL_c67deeb23e134e3aa848022435b6da65"
      }
     },
     "7317ee09e84a4114965ec861024200c9": {
      "model_module": "@jupyter-widgets/controls",
      "model_module_version": "1.5.0",
      "model_name": "DescriptionStyleModel",
      "state": {
       "description_width": ""
      }
     },
     "75c3c1544bef4c66bab7c9c70c5c4743": {
      "model_module": "@jupyter-widgets/controls",
      "model_module_version": "1.5.0",
      "model_name": "ButtonStyleModel",
      "state": {}
     },
     "77a1d4e2d86842ea8911aae94f9d5666": {
      "model_module": "@jupyter-widgets/controls",
      "model_module_version": "1.5.0",
      "model_name": "DescriptionStyleModel",
      "state": {
       "description_width": ""
      }
     },
     "77f892ca877b41cba4cf72f221c64f12": {
      "model_module": "@jupyter-widgets/controls",
      "model_module_version": "1.5.0",
      "model_name": "DescriptionStyleModel",
      "state": {
       "description_width": ""
      }
     },
     "7a5c85fb554c4f0a865257f017902edb": {
      "model_module": "@jupyter-widgets/controls",
      "model_module_version": "1.5.0",
      "model_name": "DescriptionStyleModel",
      "state": {
       "description_width": ""
      }
     },
     "7b95759e51e04dfcb19b8fc8186dba2d": {
      "model_module": "@jupyter-widgets/base",
      "model_module_version": "1.2.0",
      "model_name": "LayoutModel",
      "state": {
       "flex_flow": "row wrap"
      }
     },
     "7dc157ae14a043289d9848008b34c21a": {
      "model_module": "@jupyter-widgets/base",
      "model_module_version": "1.2.0",
      "model_name": "LayoutModel",
      "state": {}
     },
     "7ec0b868cca3421d802f968ab7b4f1e2": {
      "model_module": "@jupyter-widgets/base",
      "model_module_version": "1.2.0",
      "model_name": "LayoutModel",
      "state": {}
     },
     "80eb1549af2544bf82aaa96febaee405": {
      "model_module": "@jupyter-widgets/controls",
      "model_module_version": "1.5.0",
      "model_name": "GridBoxModel",
      "state": {
       "layout": "IPY_MODEL_6bf461dd51124808a9f3e91bc0ee331a"
      }
     },
     "8124bc825c1644049e7f1fb6ff24e367": {
      "model_module": "@jupyter-widgets/base",
      "model_module_version": "1.2.0",
      "model_name": "LayoutModel",
      "state": {}
     },
     "8228fd97a889423daa02bd2929678132": {
      "model_module": "@jupyter-widgets/controls",
      "model_module_version": "1.5.0",
      "model_name": "DescriptionStyleModel",
      "state": {
       "description_width": ""
      }
     },
     "844c7a82dd584de8b2c3a9b9099cadd0": {
      "model_module": "@jupyter-widgets/base",
      "model_module_version": "1.2.0",
      "model_name": "LayoutModel",
      "state": {}
     },
     "860ddbbfb8154f84b31108c7c17f9370": {
      "model_module": "@jupyter-widgets/controls",
      "model_module_version": "1.5.0",
      "model_name": "HBoxModel",
      "state": {
       "children": [
        "IPY_MODEL_0499ea2c84df429fbeac2bbb79a0834e",
        "IPY_MODEL_d86ef9379de742bd9ed1da5b57f835b0",
        "IPY_MODEL_2552960e029a4aaaa2265bd07bfbd876",
        "IPY_MODEL_b924f3dcd43f4952809723a231c12195"
       ],
       "layout": "IPY_MODEL_7b95759e51e04dfcb19b8fc8186dba2d"
      }
     },
     "898a23a4483b4dcbb8d3240b90777729": {
      "model_module": "@jupyter-widgets/base",
      "model_module_version": "1.2.0",
      "model_name": "LayoutModel",
      "state": {}
     },
     "8be82436220d494089d422860e7d1e88": {
      "model_module": "@jupyter-widgets/base",
      "model_module_version": "1.2.0",
      "model_name": "LayoutModel",
      "state": {}
     },
     "8e1f627da39c4420b9c402dd48e0d210": {
      "model_module": "@jupyter-widgets/controls",
      "model_module_version": "1.5.0",
      "model_name": "HBoxModel",
      "state": {
       "children": [
        "IPY_MODEL_7092da022f09492d857e60583fd90903"
       ],
       "layout": "IPY_MODEL_6bf461dd51124808a9f3e91bc0ee331a"
      }
     },
     "90f25db3244a4551a205cbe98e6270aa": {
      "model_module": "@jupyter-widgets/base",
      "model_module_version": "1.2.0",
      "model_name": "LayoutModel",
      "state": {}
     },
     "91e06fd710c44923a1f1b8557e6d428d": {
      "model_module": "@jupyter-widgets/controls",
      "model_module_version": "1.5.0",
      "model_name": "ColorPickerModel",
      "state": {
       "description": "specular",
       "disabled": false,
       "layout": "IPY_MODEL_8124bc825c1644049e7f1fb6ff24e367",
       "style": "IPY_MODEL_40cbd1dc70ef4513b7d68b642120365d",
       "value": "#282828"
      }
     },
     "94986ac645ff4f1088005f8ed6715874": {
      "model_module": "@jupyter-widgets/controls",
      "model_module_version": "1.5.0",
      "model_name": "VBoxModel",
      "state": {
       "children": [
        "IPY_MODEL_860ddbbfb8154f84b31108c7c17f9370",
        "IPY_MODEL_af934b7d2fe64fadadf33bdd4869f8eb"
       ],
       "layout": "IPY_MODEL_a09452b37f5f46af88433461b0b527ec"
      }
     },
     "989fb4a1ceb54d8b9b0a70ef0581f471": {
      "model_module": "@jupyter-widgets/base",
      "model_module_version": "1.2.0",
      "model_name": "LayoutModel",
      "state": {}
     },
     "99c2051ee55947a789026848fe302328": {
      "model_module": "@jupyter-widgets/controls",
      "model_module_version": "1.5.0",
      "model_name": "ButtonModel",
      "state": {
       "description": "Add",
       "layout": "IPY_MODEL_0d0f031bd91c4317a607fb9eeefb60c2",
       "style": "IPY_MODEL_b4ab7be535b843cdb2f75bd705098636"
      }
     },
     "99fba8f317ea4d8795c31d586e8ec94f": {
      "model_module": "@jupyter-widgets/controls",
      "model_module_version": "1.5.0",
      "model_name": "VBoxModel",
      "state": {
       "children": [
        "IPY_MODEL_d3f58b8e364c4cbf80a30d74b144fb13",
        "IPY_MODEL_a0f558f7b78d491da115fed52d18e037"
       ],
       "layout": "IPY_MODEL_f057bbeffa8d480e81c164af7dbbf448"
      }
     },
     "9df750f7245549b7b2b73e024341c0b1": {
      "model_module": "@jupyter-widgets/base",
      "model_module_version": "1.2.0",
      "model_name": "LayoutModel",
      "state": {}
     },
     "a09452b37f5f46af88433461b0b527ec": {
      "model_module": "@jupyter-widgets/base",
      "model_module_version": "1.2.0",
      "model_name": "LayoutModel",
      "state": {}
     },
     "a0f558f7b78d491da115fed52d18e037": {
      "model_module": "pgljupyter",
      "model_module_version": "^0.1.2",
      "model_name": "CurveEditorModel",
      "state": {
       "_model_module_version": "^0.1.2",
       "_view_module_version": "^0.1.2",
       "control_points": [
        [
         -0.5,
         0
        ],
        [
         -0.4669615846065175,
         0.10362475759086609
        ],
        [
         -0.42851562474708466,
         0.29118498972390533
        ],
        [
         -0.5781451680983921,
         0.3950943948289799
        ],
        [
         -0.7236183352454963,
         0.2496212276818755
        ],
        [
         -0.5906142967110011,
         0.14986819878100388
        ]
       ],
       "curve_type": [
        "NurbsCurve2D"
       ],
       "layout": "IPY_MODEL_d14c2c481b7c4c659408c58992c75771",
       "name": "axis9"
      }
     },
     "a2aaf40a1043482f860d95a191962030": {
      "model_module": "@jupyter-widgets/base",
      "model_module_version": "1.2.0",
      "model_name": "LayoutModel",
      "state": {}
     },
     "a2dfa304644a41249f7507f1541384de": {
      "model_module": "@jupyter-widgets/base",
      "model_module_version": "1.2.0",
      "model_name": "LayoutModel",
      "state": {}
     },
     "a3444c0b7a414076bbce703a08517b02": {
      "model_module": "@jupyter-widgets/base",
      "model_module_version": "1.2.0",
      "model_name": "LayoutModel",
      "state": {}
     },
     "a60cfe96c0b949c4a0fade811d377cf2": {
      "model_module": "@jupyter-widgets/controls",
      "model_module_version": "1.5.0",
      "model_name": "TextModel",
      "state": {
       "layout": "IPY_MODEL_686cb04195464644bad898b6b5063bbf",
       "style": "IPY_MODEL_4314aa61d2c34b3e8666454faf0241ab",
       "value": "axis4"
      }
     },
     "a901a4e413ce47cbb307828f5c4567b9": {
      "model_module": "@jupyter-widgets/base",
      "model_module_version": "1.2.0",
      "model_name": "LayoutModel",
      "state": {}
     },
     "ab146beffbd14a8f986b51e3e2943725": {
      "model_module": "@jupyter-widgets/controls",
      "model_module_version": "1.5.0",
      "model_name": "VBoxModel",
      "state": {
       "children": [
        "IPY_MODEL_f0f4554591db4a4c8d241283be222c3d",
        "IPY_MODEL_1dba2dfca77946b9ac5d2d24496ce407"
       ],
       "layout": "IPY_MODEL_53df657fbde04d4ea4a0276370f8b592"
      }
     },
     "ab47a19ca7914e579102109ca39fe869": {
      "model_module": "pgljupyter",
      "model_module_version": "^0.1.2",
      "model_name": "CurveEditorModel",
      "state": {
       "_model_module_version": "^0.1.2",
       "_view_module_version": "^0.1.2",
       "control_points": [
        [
         -0.5,
         0
        ],
        [
         -0.4046170117111899,
         0.12702123069326227
        ],
        [
         -0.32102931625664455,
         0.213305303420535
        ],
        [
         -0.18621045262028096,
         0.22409081251144408
        ],
        [
         -0.1241937753475536,
         0.14859224887508046
        ],
        [
         -0.14306841625664454,
         0.03264802614780772
        ]
       ],
       "curve_type": [
        "NurbsCurve2D"
       ],
       "layout": "IPY_MODEL_c45a6855c57d420e8fc6c885f4058924",
       "name": "axis2"
      }
     },
     "ac2e430c885044c19e4a2370ed5c7bb2": {
      "model_module": "@jupyter-widgets/controls",
      "model_module_version": "1.5.0",
      "model_name": "VBoxModel",
      "state": {
       "children": [
        "IPY_MODEL_6a3b4e27316e48479b95430e31835263",
        "IPY_MODEL_ba1ea3b4f2524210877bd9f184dbd1ba"
       ],
       "layout": "IPY_MODEL_374ab8e0d8ee49d89b1ad3a3d86b0899"
      }
     },
     "ae632d33aa984a39893dc926d1f53751": {
      "model_module": "@jupyter-widgets/base",
      "model_module_version": "1.2.0",
      "model_name": "LayoutModel",
      "state": {}
     },
     "af934b7d2fe64fadadf33bdd4869f8eb": {
      "model_module": "@jupyter-widgets/controls",
      "model_module_version": "1.5.0",
      "model_name": "TabModel",
      "state": {
       "_titles": {
        "0": "dynamicprofile.json"
       },
       "children": [
        "IPY_MODEL_54855a4c9f52444492618a16e0a065e1"
       ],
       "layout": "IPY_MODEL_190c3801c2c2410087e9a4a3cf7264dd"
      }
     },
     "b213b1167ae54e9a87eb24419fcd719e": {
      "model_module": "@jupyter-widgets/base",
      "model_module_version": "1.2.0",
      "model_name": "LayoutModel",
      "state": {}
     },
     "b3c8d49331434ecfa22bc3c2461cfbe9": {
      "model_module": "@jupyter-widgets/base",
      "model_module_version": "1.2.0",
      "model_name": "LayoutModel",
      "state": {}
     },
     "b4ab7be535b843cdb2f75bd705098636": {
      "model_module": "@jupyter-widgets/controls",
      "model_module_version": "1.5.0",
      "model_name": "ButtonStyleModel",
      "state": {}
     },
     "b53991c9c4504f93ad00376c720f15c9": {
      "model_module": "@jupyter-widgets/controls",
      "model_module_version": "1.5.0",
      "model_name": "VBoxModel",
      "state": {
       "children": [
        "IPY_MODEL_3b351436f9fd4d7dad08ed856312e9a3",
        "IPY_MODEL_6a353ff27cef41269cba559751f03955"
       ],
       "layout": "IPY_MODEL_a3444c0b7a414076bbce703a08517b02"
      }
     },
     "b57aa1cd5fec44b68a09983fc3370a14": {
      "model_module": "@jupyter-widgets/controls",
      "model_module_version": "1.5.0",
      "model_name": "ButtonModel",
      "state": {
       "description": "Add",
       "layout": "IPY_MODEL_6e51d306e1554d62ba3a86ea6d717981",
       "style": "IPY_MODEL_ea8c40c364644e668de5cce3ac5290fd"
      }
     },
     "b924f3dcd43f4952809723a231c12195": {
      "model_module": "@jupyter-widgets/controls",
      "model_module_version": "1.5.0",
      "model_name": "CheckboxModel",
      "state": {
       "description": "Auto save",
       "disabled": false,
       "layout": "IPY_MODEL_8be82436220d494089d422860e7d1e88",
       "style": "IPY_MODEL_00cb9ffcfec54de6845ed90eb9b60622",
       "value": false
      }
     },
     "ba1ea3b4f2524210877bd9f184dbd1ba": {
      "model_module": "pgljupyter",
      "model_module_version": "^0.1.2",
      "model_name": "CurveEditorModel",
      "state": {
       "_model_module_version": "^0.1.2",
       "_view_module_version": "^0.1.2",
       "control_points": [
        [
         -0.5,
         0
        ],
        [
         -0.45381259264846796,
         0.12013621899284291
        ],
        [
         -0.3893521988258032,
         0.2189754895209291
        ],
        [
         -0.43232579470757976,
         0.3350041984017258
        ],
        [
         -0.5612465823529095,
         0.3822751538716801
        ],
        [
         -0.6343016953519296,
         0.2920306025199492
        ]
       ],
       "curve_type": [
        "NurbsCurve2D"
       ],
       "layout": "IPY_MODEL_4baaef69801c446fba5de5603faa4e33",
       "name": "axis7"
      }
     },
     "bb51cd016ca048ccb97207556559acdc": {
      "model_module": "@jupyter-widgets/base",
      "model_module_version": "1.2.0",
      "model_name": "LayoutModel",
      "state": {}
     },
     "be17bd3cf3da4e29bf5a653b51e2c7f3": {
      "buffers": [
       {
        "data": "eNpt1AtQlFUUAOCfXRcQRCRMEEVASKh7EdhlgZW9ZzHBQBKQh02KAhqTS5sLyy4vjVegQqysFIILuSJRKjRSBJoS0BhTpsIgFtBgjDU4hq8kMR8l8Z+mRpvOzHf/c+8989+5M3eO25aXwqLXcpxriI2Vq7u7m4jjOIGIi9uWkp4qmMmFltzaFG2qRpmi4qf2s7mwHK1Gl6lUb+fnTpZcjFqVq1Jux2qPOVyUTrMlc5VOk5UqDuWX3PhB4MjFha+MCYsITZImySQyqVjmK5HJAgICxfyB0zNhz2Es5Ph6rida/hSusDuzso3yW05/Fwq4p2OqyZZcOH+ezXyb+bmZB8eFt+51tuUPeEFs171+3/P8fxRNdWldS/puAp8/XtbR+dm1nV18Pm7HIHvrr7iefncIDPKdWC+04FapVWpNkl/6wtrF8pXethwXEvLEjQL/uZG/LMBf6u9vMXMg798biWfGiMZCxgvQXUYuZx2Adz06GFVLX0VBRRkoVlaMenzKUMWoHj1bYkCVb+xDS4cMaNCiEi0JqkBddXtQZnIJOpZQgH4I1CH3g2louDUJddXEI0d1BLqyFlBYuASJ3vRCLd86o1qlPapZNxtFzp9mvB30Bpq6O4JyMr5BkqYTaFv1R+j7kFpkeawMfV6XjSY3bELfVYSiI37eSBrigGw7BEjpPibn+VafRgc7jMhkn4uSx1Yi+ZAtOvNhb/CT/udFif/zisDFjrRd7WMDpka5cLc9McZfZOcz3FnwxAIy7TXEzM9pWcL6RcQ6+zKL+vEwm+TciM8742yB+TnWMs+L5NbfZstPTbLiGl+i/+oR++L6HIg7voJ4zheB2tEVNjevJoEmG0hsF4OVMZ6c0jtA/sFQoOWvkRcnlkLDkQTQtGWRwlEfcNidCi/nlxJtLMBxCy18cNRALBVRsFpbCOxMPVlTkASLH5TCjsNHSfxIBvSUlEOBywniVV4MKqu90GvdS6ayKuD9SgPMVQyS5P37QbqoCrTVV8ilvkPQ31kFE3duE6N1MzQUVcEn8sekN7gdvPP2wUlfc3opphsGjldCvqcNLYOzIFmuh8b79rT23kVouVsGUwecaF7aKDTO2gXrHrjS6MJxiIssAmuBJ21wugXjednw6D1KzW3ugcqQBr+X+9Emlz9h3pcbobZdSukeM0XRM5EQOBpEvb8WKuY2B8GhzhW00VmkiLzqARNOwXQkWaSI0cyDTf0yWqSdpegy3mdTwwF07BWB4u01g6z7dTFN2/AYLju1sYF+Sq8l34OFygPsmm4ZHY69CSXhu5ipxYX+0fQzVHRmsIzDjrS+fgSMb6WwX7Lt6OLUfuh4uJE9F21FXX17waTfwgZThHQ8+jT4+Oew0s0PyY3cT6HvgoGZMu+QvUtaYOtEK4v66SYpePco1NUMs4bJW8SUcAzWnORAP+s3kij/GOIS5wN2JDO+HwlF3Fa+nbTmGJwhIlHyFzUvALw=",
        "encoding": "base64",
        "path": [
         "scene",
         "data"
        ]
       }
      ],
      "model_module": "pgljupyter",
      "model_module_version": "^0.1.2",
      "model_name": "LsystemWidgetModel",
      "state": {
       "_model_module_version": "^0.1.2",
       "_view_module_version": "^0.1.2",
       "axes_helper": false,
       "derivationLength": 160,
       "layout": "IPY_MODEL_a2dfa304644a41249f7507f1541384de",
       "light_helper": false,
       "plane": false,
       "scene": {
        "data": {},
        "derivationStep": 0,
        "id": 0,
        "scene": "<openalea.plantgl.scenegraph._pglsg.Scene object at 0x7fe7f5daa440>"
       },
       "size_display": [
        400,
        400
       ],
       "size_world": [
        2,
        2,
        2
       ]
      }
     },
     "c23dc75bae8e4029b67400c33292c09c": {
      "model_module": "@jupyter-widgets/base",
      "model_module_version": "1.2.0",
      "model_name": "LayoutModel",
      "state": {}
     },
     "c26ad8d116414fddaba15e112157ad62": {
      "model_module": "@jupyter-widgets/controls",
      "model_module_version": "1.5.0",
      "model_name": "VBoxModel",
      "state": {
       "children": [
        "IPY_MODEL_3f2bf25b89b04a2c98f962a891a39d0c",
        "IPY_MODEL_598d6fdd66a34900a4d9868c9bd2f023"
       ],
       "layout": "IPY_MODEL_125a8520d8c244cfbbb2ae3537982b77"
      }
     },
     "c363b1eb8430423c85f083784364a07d": {
      "model_module": "@jupyter-widgets/base",
      "model_module_version": "1.2.0",
      "model_name": "LayoutModel",
      "state": {}
     },
     "c45a6855c57d420e8fc6c885f4058924": {
      "model_module": "@jupyter-widgets/base",
      "model_module_version": "1.2.0",
      "model_name": "LayoutModel",
      "state": {}
     },
     "c67deeb23e134e3aa848022435b6da65": {
      "model_module": "@jupyter-widgets/base",
      "model_module_version": "1.2.0",
      "model_name": "LayoutModel",
      "state": {}
     },
     "c7a693eeedab4abba91054ec7c49622b": {
      "model_module": "@jupyter-widgets/controls",
      "model_module_version": "1.5.0",
      "model_name": "DescriptionStyleModel",
      "state": {
       "description_width": ""
      }
     },
     "c82f206c884f4d2f8b634c8676196481": {
      "model_module": "@jupyter-widgets/controls",
      "model_module_version": "1.5.0",
      "model_name": "DescriptionStyleModel",
      "state": {
       "description_width": ""
      }
     },
     "c89ea9fd40e1423aa9480059b355a054": {
      "model_module": "@jupyter-widgets/controls",
      "model_module_version": "1.5.0",
      "model_name": "HBoxModel",
      "state": {
       "children": [
        "IPY_MODEL_99c2051ee55947a789026848fe302328",
        "IPY_MODEL_25263a7a4f364498b91751e75fb41a50"
       ],
       "layout": "IPY_MODEL_facc124b46fd42f4adfb77dc7edfbe70"
      }
     },
     "cbc1c0131ab14902a8776c6b402f154c": {
      "model_module": "@jupyter-widgets/base",
      "model_module_version": "1.2.0",
      "model_name": "LayoutModel",
      "state": {}
     },
     "cd90f1113bd1455aaffade7579a56b76": {
      "model_module": "@jupyter-widgets/base",
      "model_module_version": "1.2.0",
      "model_name": "LayoutModel",
      "state": {}
     },
     "ce2039c6d9b1489baada74133c09a360": {
      "model_module": "@jupyter-widgets/controls",
      "model_module_version": "1.5.0",
      "model_name": "VBoxModel",
      "state": {
       "children": [
        "IPY_MODEL_c89ea9fd40e1423aa9480059b355a054",
        "IPY_MODEL_4d2b037f45f047a390b107e0db031eb7"
       ],
       "layout": "IPY_MODEL_ed63737a4ff6481f888a2bf373034a6e"
      }
     },
     "ce23d217c5494b8db75807205264670f": {
      "model_module": "pgljupyter",
      "model_module_version": "^0.1.2",
      "model_name": "CurveEditorModel",
      "state": {
       "_model_module_version": "^0.1.2",
       "_view_module_version": "^0.1.2",
       "control_points": [
        [
         -0.4523769271054077,
         -0.005600587799786658
        ],
        [
         -0.3767718616508623,
         0.06190393492748608
        ],
        [
         -0.31736788165086227,
         0.11860773401839517
        ],
        [
         -0.25256353983268054,
         0.16991117129112243
        ],
        [
         -0.19585974074177137,
         0.23471551310930427
        ],
        [
         -0.11903621541579021,
         0.3431250146903886
        ]
       ],
       "curve_type": [
        "NurbsCurve2D"
       ],
       "layout": "IPY_MODEL_844c7a82dd584de8b2c3a9b9099cadd0",
       "name": "axis4"
      }
     },
     "cf6798a101d44eea973f01a92c0df6dc": {
      "model_module": "@jupyter-widgets/controls",
      "model_module_version": "1.5.0",
      "model_name": "VBoxModel",
      "state": {
       "children": [
        "IPY_MODEL_16ded74879de4306a0f041603bfa009f",
        "IPY_MODEL_ab47a19ca7914e579102109ca39fe869"
       ],
       "layout": "IPY_MODEL_2c5001c1ec134706865aba1b1922a6e8"
      }
     },
     "cfd9aa0705e641b7a5e51fa20b7c23de": {
      "model_module": "@jupyter-widgets/base",
      "model_module_version": "1.2.0",
      "model_name": "LayoutModel",
      "state": {}
     },
     "d015a1c1a4b940e6b21e4df89d27f680": {
      "model_module": "@jupyter-widgets/controls",
      "model_module_version": "1.5.0",
      "model_name": "VBoxModel",
      "state": {
       "children": [
        "IPY_MODEL_d794b8e1001146ada433a7122cc5ee48",
        "IPY_MODEL_da7cbf38a6714a208b79eb8c8000e66e"
       ],
       "layout": "IPY_MODEL_06c4cc2556b04c6bba74be9ef247eb68"
      }
     },
     "d14c2c481b7c4c659408c58992c75771": {
      "model_module": "@jupyter-widgets/base",
      "model_module_version": "1.2.0",
      "model_name": "LayoutModel",
      "state": {}
     },
     "d16ce5cc7ba1442985fee09ebe79d36c": {
      "model_module": "@jupyter-widgets/controls",
      "model_module_version": "1.5.0",
      "model_name": "DescriptionStyleModel",
      "state": {
       "description_width": ""
      }
     },
     "d1f5138764144f029c85b0b228644aac": {
      "model_module": "@jupyter-widgets/controls",
      "model_module_version": "1.5.0",
      "model_name": "TextModel",
      "state": {
       "layout": "IPY_MODEL_e7bb31efad0c431d8a9734e7c19672c0",
       "style": "IPY_MODEL_1c4494b2e62545c8a9ed10126738df1c",
       "value": "axis5"
      }
     },
     "d2ba063161fe4e97b51c3c2c209ffe94": {
      "model_module": "@jupyter-widgets/base",
      "model_module_version": "1.2.0",
      "model_name": "LayoutModel",
      "state": {}
     },
     "d32b8222cc6f4647aa15b4a994fd1f0b": {
      "model_module": "@jupyter-widgets/base",
      "model_module_version": "1.2.0",
      "model_name": "LayoutModel",
      "state": {}
     },
     "d383ed8d1aae42ca890b46f70083fdd1": {
      "model_module": "@jupyter-widgets/controls",
      "model_module_version": "1.5.0",
      "model_name": "DescriptionStyleModel",
      "state": {
       "description_width": ""
      }
     },
     "d3f58b8e364c4cbf80a30d74b144fb13": {
      "model_module": "@jupyter-widgets/controls",
      "model_module_version": "1.5.0",
      "model_name": "TextModel",
      "state": {
       "layout": "IPY_MODEL_316af18d976144718476bf95cf43e0ce",
       "style": "IPY_MODEL_f8ec916b06dd450b944798a8c556fafa",
       "value": "axis9"
      }
     },
     "d794b8e1001146ada433a7122cc5ee48": {
      "model_module": "@jupyter-widgets/controls",
      "model_module_version": "1.5.0",
      "model_name": "TextModel",
      "state": {
       "layout": "IPY_MODEL_7dc157ae14a043289d9848008b34c21a",
       "style": "IPY_MODEL_082cde4cd1114a21bcfc625d0547883f",
       "value": "axis3"
      }
     },
     "d83da9db7a95463ea909e8c525c3310c": {
      "model_module": "@jupyter-widgets/controls",
      "model_module_version": "1.5.0",
      "model_name": "HBoxModel",
      "state": {
       "children": [
        "IPY_MODEL_555aee09a7704b20902e062bb1ced7d1",
        "IPY_MODEL_6d5eeaf3f2a84136bcab3ea36aca9535"
       ],
       "layout": "IPY_MODEL_facc124b46fd42f4adfb77dc7edfbe70"
      }
     },
     "d86ef9379de742bd9ed1da5b57f835b0": {
      "model_module": "@jupyter-widgets/controls",
      "model_module_version": "1.5.0",
      "model_name": "CheckboxModel",
      "state": {
       "description": "Auto apply",
       "disabled": false,
       "layout": "IPY_MODEL_5d8cc1bf39f947ffac11a98de88441df",
       "style": "IPY_MODEL_7a5c85fb554c4f0a865257f017902edb",
       "value": false
      }
     },
     "d987a2962bdd44ff8fc70c8524f2a422": {
      "model_module": "@jupyter-widgets/base",
      "model_module_version": "1.2.0",
      "model_name": "LayoutModel",
      "state": {}
     },
     "da7cbf38a6714a208b79eb8c8000e66e": {
      "model_module": "pgljupyter",
      "model_module_version": "^0.1.2",
      "model_name": "CurveEditorModel",
      "state": {
       "_model_module_version": "^0.1.2",
       "_view_module_version": "^0.1.2",
       "control_points": [
        [
         -0.5,
         0
        ],
        [
         -0.44177944697623517,
         0.10954939207802514
        ],
        [
         -0.38806606515805336,
         0.2035478102598433
        ],
        [
         -0.31018166152168974,
         0.2465185157143888
        ],
        [
         -0.21618322284984254,
         0.25994686116893423
        ],
        [
         -0.15441287473899162,
         0.14177742116893421
        ]
       ],
       "curve_type": [
        "NurbsCurve2D"
       ],
       "layout": "IPY_MODEL_9df750f7245549b7b2b73e024341c0b1",
       "name": "axis3"
      }
     },
     "dac41b2f2be5409dbb63b82d0cd20573": {
      "model_module": "@jupyter-widgets/base",
      "model_module_version": "1.2.0",
      "model_name": "LayoutModel",
      "state": {}
     },
     "e7bb31efad0c431d8a9734e7c19672c0": {
      "model_module": "@jupyter-widgets/base",
      "model_module_version": "1.2.0",
      "model_name": "LayoutModel",
      "state": {}
     },
     "e9ac049a3cea4070a42fa897a19e95ff": {
      "model_module": "@jupyter-widgets/base",
      "model_module_version": "1.2.0",
      "model_name": "LayoutModel",
      "state": {}
     },
     "ea8c40c364644e668de5cce3ac5290fd": {
      "model_module": "@jupyter-widgets/controls",
      "model_module_version": "1.5.0",
      "model_name": "ButtonStyleModel",
      "state": {}
     },
     "eac1c0faa5c74c55b25806fd5088f812": {
      "model_module": "@jupyter-widgets/controls",
      "model_module_version": "1.5.0",
      "model_name": "HBoxModel",
      "state": {
       "children": [
        "IPY_MODEL_6e6bafbeb0d04580aa1d640c0c1308b1",
        "IPY_MODEL_0690ac687e7b4a8ea53e209c24773565"
       ],
       "layout": "IPY_MODEL_facc124b46fd42f4adfb77dc7edfbe70"
      }
     },
     "ec9479da74e144e696b0ad1d25f68ddf": {
      "model_module": "@jupyter-widgets/controls",
      "model_module_version": "1.5.0",
      "model_name": "ButtonStyleModel",
      "state": {}
     },
     "ed4b3eb8289043e7af685aad36bdb042": {
      "model_module": "pgljupyter",
      "model_module_version": "^0.1.2",
      "model_name": "CurveEditorModel",
      "state": {
       "_model_module_version": "^0.1.2",
       "_view_module_version": "^0.1.2",
       "control_points": [
        [
         -0.5,
         0
        ],
        [
         -0.4096211298461914,
         0.11916335514498623
        ],
        [
         -0.33890305711891866,
         0.21345411878134987
        ],
        [
         -0.3254329480280095,
         0.30774488241771353
        ],
        [
         -0.377214541759461,
         0.39738799966748417
        ],
        [
         -0.49416205043080635,
         0.45168505726489455
        ]
       ],
       "curve_type": [
        "NurbsCurve2D"
       ],
       "layout": "IPY_MODEL_f1d7e5be57174375a7b71416b107850a",
       "name": "axis6"
      }
     },
     "ed63737a4ff6481f888a2bf373034a6e": {
      "model_module": "@jupyter-widgets/base",
      "model_module_version": "1.2.0",
      "model_name": "LayoutModel",
      "state": {}
     },
     "eed32540bc7a4e6bb09adf18e1e4f4d0": {
      "model_module": "@jupyter-widgets/base",
      "model_module_version": "1.2.0",
      "model_name": "LayoutModel",
      "state": {}
     },
     "f057bbeffa8d480e81c164af7dbbf448": {
      "model_module": "@jupyter-widgets/base",
      "model_module_version": "1.2.0",
      "model_name": "LayoutModel",
      "state": {}
     },
     "f0f4554591db4a4c8d241283be222c3d": {
      "model_module": "@jupyter-widgets/controls",
      "model_module_version": "1.5.0",
      "model_name": "TextModel",
      "state": {
       "layout": "IPY_MODEL_e9ac049a3cea4070a42fa897a19e95ff",
       "style": "IPY_MODEL_6686ac0df05846e585a96fbd13486809",
       "value": "profile"
      }
     },
     "f1d7e5be57174375a7b71416b107850a": {
      "model_module": "@jupyter-widgets/base",
      "model_module_version": "1.2.0",
      "model_name": "LayoutModel",
      "state": {}
     },
     "f2e1d4611ad4438da9cfa4343e17e198": {
      "model_module": "pgljupyter",
      "model_module_version": "^0.1.2",
      "model_name": "MaterialEditorModel",
      "state": {
       "_model_module_version": "^0.1.2",
       "_view_module_version": "^0.1.2",
       "children": [
        "IPY_MODEL_f39cdad174fb4598872bb97c881303b9",
        "IPY_MODEL_3b74a863e5a14a70bc1063a5404912c8",
        "IPY_MODEL_91e06fd710c44923a1f1b8557e6d428d",
        "IPY_MODEL_2e75e6a7328b4b449db199db02d9e123",
        "IPY_MODEL_21ed3ca0be304737bd9e0b7d7dc00909",
        "IPY_MODEL_f5a75e4bbd4c4610b28503c32d22c7cf"
       ],
       "layout": "IPY_MODEL_353a14f75fd640398891872bc96854ad"
      }
     },
     "f39cdad174fb4598872bb97c881303b9": {
      "model_module": "@jupyter-widgets/controls",
      "model_module_version": "1.5.0",
      "model_name": "BoundedIntTextModel",
      "state": {
       "description": "index",
       "layout": "IPY_MODEL_1f09f15c85504f888810fad1ad673720",
       "style": "IPY_MODEL_56a3988936a148af97cc4dae6a27b50d",
       "value": 2
      }
     },
     "f5a75e4bbd4c4610b28503c32d22c7cf": {
      "model_module": "@jupyter-widgets/controls",
      "model_module_version": "1.5.0",
      "model_name": "BoundedFloatTextModel",
      "state": {
       "description": "transparency",
       "layout": "IPY_MODEL_f8461ee195064f78814ddb6844f4efef",
       "max": 1,
       "step": null,
       "style": "IPY_MODEL_d383ed8d1aae42ca890b46f70083fdd1"
      }
     },
     "f5eb7733244e4dadbb6f17290c3a3ddd": {
      "model_module": "@jupyter-widgets/base",
      "model_module_version": "1.2.0",
      "model_name": "LayoutModel",
      "state": {}
     },
     "f8461ee195064f78814ddb6844f4efef": {
      "model_module": "@jupyter-widgets/base",
      "model_module_version": "1.2.0",
      "model_name": "LayoutModel",
      "state": {}
     },
     "f8ec916b06dd450b944798a8c556fafa": {
      "model_module": "@jupyter-widgets/controls",
      "model_module_version": "1.5.0",
      "model_name": "DescriptionStyleModel",
      "state": {
       "description_width": ""
      }
     },
     "facc124b46fd42f4adfb77dc7edfbe70": {
      "model_module": "@jupyter-widgets/base",
      "model_module_version": "1.2.0",
      "model_name": "LayoutModel",
      "state": {
       "flex_flow": "row wrap",
       "margin": "20px"
      }
     },
     "fb2108fea0ec4fca95c04e377c2a9e45": {
      "model_module": "@jupyter-widgets/controls",
      "model_module_version": "1.5.0",
      "model_name": "TabModel",
      "state": {
       "layout": "IPY_MODEL_989fb4a1ceb54d8b9b0a70ef0581f471"
      }
     },
     "fb37fe599385450bb958b2899d5fbf45": {
      "model_module": "@jupyter-widgets/controls",
      "model_module_version": "1.5.0",
      "model_name": "ButtonStyleModel",
      "state": {}
     }
    },
    "version_major": 2,
    "version_minor": 0
   }
  }
 },
 "nbformat": 4,
 "nbformat_minor": 4
}
