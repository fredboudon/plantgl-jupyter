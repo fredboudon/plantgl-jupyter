{
 "cells": [
  {
   "cell_type": "code",
   "execution_count": 6,
   "metadata": {},
   "outputs": [],
   "source": [
    "from pgljupyter import LsystemWidget, ParameterEditorWidget\n",
    "from ipywidgets import HBox, Layout"
   ]
  },
  {
   "cell_type": "code",
   "execution_count": 2,
   "metadata": {},
   "outputs": [],
   "source": [
    "e = ParameterEditorWidget('dynamicprofile')"
   ]
  },
  {
   "cell_type": "code",
   "execution_count": 31,
   "metadata": {},
   "outputs": [],
   "source": [
    "l = LsystemWidget('dynamicprofile', e, plane=False, size_world=(2, 2, 2), size_display=(450, 450), layout={'min_width': '500px'})"
   ]
  },
  {
   "cell_type": "code",
   "execution_count": 32,
   "metadata": {},
   "outputs": [
    {
     "data": {
      "application/vnd.jupyter.widget-view+json": {
       "model_id": "097d2fd8be324ecfa9c1da92ae5231cf",
       "version_major": 2,
       "version_minor": 0
      },
      "text/plain": [
       "HBox(children=(LsystemWidget(layout=Layout(min_width='500px'), lsystem=<openalea.lpy.__lpy_kernel__.Lsystem ob…"
      ]
     },
     "metadata": {},
     "output_type": "display_data"
    }
   ],
   "source": [
    "HBox((l,e))"
   ]
  },
  {
   "cell_type": "code",
   "execution_count": null,
   "metadata": {},
   "outputs": [],
   "source": []
  }
 ],
 "metadata": {
  "kernelspec": {
   "display_name": "Python 3",
   "language": "python",
   "name": "python3"
  },
  "language_info": {
   "codemirror_mode": {
    "name": "ipython",
    "version": 3
   },
   "file_extension": ".py",
   "mimetype": "text/x-python",
   "name": "python",
   "nbconvert_exporter": "python",
   "pygments_lexer": "ipython3",
   "version": "3.8.3"
  },
  "widgets": {
   "application/vnd.jupyter.widget-state+json": {
    "state": {
     "0124a6270a7144cb94241b430a3132b2": {
      "model_module": "@jupyter-widgets/base",
      "model_module_version": "1.2.0",
      "model_name": "LayoutModel",
      "state": {}
     },
     "015239b45a7e4d4e9c8c249478b21b3c": {
      "model_module": "@jupyter-widgets/controls",
      "model_module_version": "1.5.0",
      "model_name": "HBoxModel",
      "state": {
       "children": [
        "IPY_MODEL_fd5a45b6dff74de6a155badb1ac985fb",
        "IPY_MODEL_74b375a5aeeb4f7daf3c90435714a2eb"
       ],
       "layout": "IPY_MODEL_d799d438709e4afea7a6782d63e348cd"
      }
     },
     "02a327707d9a481c83d3eeb8edfeb25e": {
      "model_module": "@jupyter-widgets/base",
      "model_module_version": "1.2.0",
      "model_name": "LayoutModel",
      "state": {}
     },
     "0385148b4f8f4419a510df74ab9f4ba4": {
      "model_module": "@jupyter-widgets/base",
      "model_module_version": "1.2.0",
      "model_name": "LayoutModel",
      "state": {}
     },
     "03b827f01d104dd0ae4403d797077530": {
      "model_module": "@jupyter-widgets/controls",
      "model_module_version": "1.5.0",
      "model_name": "VBoxModel",
      "state": {
       "children": [
        "IPY_MODEL_ddcc50ea9f79467f927a528793000aba",
        "IPY_MODEL_bcbccd3e88414fc8987c888c7861694e"
       ],
       "layout": "IPY_MODEL_1cd09a20f7264e9f9ec7c5d31260e5bd"
      }
     },
     "05add5b94e14443c822368eb8c16b465": {
      "model_module": "@jupyter-widgets/base",
      "model_module_version": "1.2.0",
      "model_name": "LayoutModel",
      "state": {}
     },
     "05cb14f7edd9406eaab32aa1342a98bc": {
      "model_module": "pgljupyter",
      "model_module_version": "^0.1.2",
      "model_name": "LsystemWidgetModel",
      "state": {
       "_model_module_version": "^0.1.2",
       "_view_module_version": "^0.1.2",
       "axes_helper": false,
       "layout": "IPY_MODEL_731a93d7c0fe4b41966a6167b8b6e1fa",
       "light_helper": false,
       "lsystem": {
        "derivationLength": 160
       },
       "plane": false,
       "size_display": [
        400,
        400
       ],
       "size_world": [
        2,
        2,
        2
       ]
      }
     },
     "097d2fd8be324ecfa9c1da92ae5231cf": {
      "model_module": "@jupyter-widgets/controls",
      "model_module_version": "1.5.0",
      "model_name": "HBoxModel",
      "state": {
       "children": [
        "IPY_MODEL_739218548c9b4289bb3c755b28258cec",
        "IPY_MODEL_74b375a5aeeb4f7daf3c90435714a2eb"
       ],
       "layout": "IPY_MODEL_161f3cdc1a4e460bb7f1e6ebf6ca8d08"
      }
     },
     "0d8c10662fd549d190d8ee5e988ce07d": {
      "model_module": "@jupyter-widgets/controls",
      "model_module_version": "1.5.0",
      "model_name": "VBoxModel",
      "state": {
       "children": [
        "IPY_MODEL_d4706efd302d49aca1d494e7c9f85876",
        "IPY_MODEL_dc90634833a74919bae2f37611940a4a"
       ],
       "layout": "IPY_MODEL_c11933b833bc407bb66ad5eb5bb04f74"
      }
     },
     "10ff94a827b44494b02f20e1251de690": {
      "model_module": "pgljupyter",
      "model_module_version": "^0.1.2",
      "model_name": "LsystemWidgetModel",
      "state": {
       "_model_module_version": "^0.1.2",
       "_view_module_version": "^0.1.2",
       "axes_helper": false,
       "layout": "IPY_MODEL_a784dbda01734f7995a7f341f1d46bdf",
       "light_helper": false,
       "lsystem": {
        "derivationLength": 160
       },
       "plane": false,
       "size_display": [
        400,
        400
       ],
       "size_world": [
        2,
        2,
        2
       ]
      }
     },
     "114ea92890f7407fac02e538d39787b5": {
      "model_module": "@jupyter-widgets/controls",
      "model_module_version": "1.5.0",
      "model_name": "VBoxModel",
      "state": {
       "children": [
        "IPY_MODEL_8c0c52203f224e9280a79c895d74aacf",
        "IPY_MODEL_7a54dd46a13a41fdb4d91f2bb2708b0c"
       ],
       "layout": "IPY_MODEL_e72ba882ec1444558ec3bfed0c721f42"
      }
     },
     "1235f92863d14f57a013a39c00a84929": {
      "model_module": "pgljupyter",
      "model_module_version": "^0.1.2",
      "model_name": "CurveEditorWidgetModel",
      "state": {
       "_model_module_version": "^0.1.2",
       "_view_module_version": "^0.1.2",
       "control_points": [
        [
         -0.5,
         0
        ],
        [
         -0.28362,
         -0.0159994
        ],
        [
         -0.17612,
         0.0518123
        ],
        [
         -0.168036,
         0.0814387
        ],
        [
         -0.100353,
         0.130297
        ],
        [
         -0.154953,
         0.240856
        ]
       ],
       "layout": "IPY_MODEL_f27f86354e6742aeab62538478e8cabb",
       "name": "axis6"
      }
     },
     "13934999e87b4f8b82d2edc9dea926ff": {
      "model_module": "@jupyter-widgets/controls",
      "model_module_version": "1.5.0",
      "model_name": "VBoxModel",
      "state": {
       "children": [
        "IPY_MODEL_cb04a0800f9149fa845d294b87d33f7a",
        "IPY_MODEL_1235f92863d14f57a013a39c00a84929"
       ],
       "layout": "IPY_MODEL_4381d3dfcf0e444587c07d57c8102eae"
      }
     },
     "1445ad288da44323b3bf78b26c5a7663": {
      "model_module": "@jupyter-widgets/base",
      "model_module_version": "1.2.0",
      "model_name": "LayoutModel",
      "state": {}
     },
     "161f3cdc1a4e460bb7f1e6ebf6ca8d08": {
      "model_module": "@jupyter-widgets/base",
      "model_module_version": "1.2.0",
      "model_name": "LayoutModel",
      "state": {}
     },
     "168a827c376c41279572f745d8553933": {
      "model_module": "pgljupyter",
      "model_module_version": "^0.1.2",
      "model_name": "LsystemWidgetModel",
      "state": {
       "_model_module_version": "^0.1.2",
       "_view_module_version": "^0.1.2",
       "axes_helper": false,
       "layout": "IPY_MODEL_16cdc8064e7f4233a28c3821360703be",
       "light_helper": false,
       "lsystem": {
        "derivationLength": 160
       },
       "plane": false,
       "size_display": [
        450,
        450
       ],
       "size_world": [
        2,
        2,
        2
       ]
      }
     },
     "16cdc8064e7f4233a28c3821360703be": {
      "model_module": "@jupyter-widgets/base",
      "model_module_version": "1.2.0",
      "model_name": "LayoutModel",
      "state": {
       "min_width": "450px"
      }
     },
     "19485228eb0f42aebee0727b0a9c3d05": {
      "model_module": "@jupyter-widgets/base",
      "model_module_version": "1.2.0",
      "model_name": "LayoutModel",
      "state": {
       "width": "400px"
      }
     },
     "1a0b7696ce0c42529515b21670baf861": {
      "model_module": "@jupyter-widgets/base",
      "model_module_version": "1.2.0",
      "model_name": "LayoutModel",
      "state": {
       "flex_flow": "column",
       "width": "100%"
      }
     },
     "1b7edae9532646a08ba77ffc06e0a03f": {
      "model_module": "@jupyter-widgets/base",
      "model_module_version": "1.2.0",
      "model_name": "LayoutModel",
      "state": {}
     },
     "1cd09a20f7264e9f9ec7c5d31260e5bd": {
      "model_module": "@jupyter-widgets/base",
      "model_module_version": "1.2.0",
      "model_name": "LayoutModel",
      "state": {}
     },
     "1cf99db28b1248bf93466d7daf1c6c42": {
      "model_module": "@jupyter-widgets/base",
      "model_module_version": "1.2.0",
      "model_name": "LayoutModel",
      "state": {
       "flex_flow": "column",
       "width": "100%"
      }
     },
     "1d9998d622854d69a31046717db845d4": {
      "model_module": "@jupyter-widgets/controls",
      "model_module_version": "1.5.0",
      "model_name": "DescriptionStyleModel",
      "state": {
       "description_width": ""
      }
     },
     "208a21ee11554976857bc455920e1cd1": {
      "model_module": "@jupyter-widgets/controls",
      "model_module_version": "1.5.0",
      "model_name": "LabelModel",
      "state": {
       "layout": "IPY_MODEL_42ac9280f1c34f31b1d22c9371d5cf7d",
       "style": "IPY_MODEL_9d28e72b24e14b6c98db1ae095006ffe",
       "value": "axis1"
      }
     },
     "2270b80b80ba4f6fa6c28b4fd8457cf2": {
      "model_module": "@jupyter-widgets/base",
      "model_module_version": "1.2.0",
      "model_name": "LayoutModel",
      "state": {
       "display": "flex",
       "flex_flow": "row"
      }
     },
     "228fb1c8090e4149950cc4cd9e49e7d6": {
      "model_module": "pgljupyter",
      "model_module_version": "^0.1.2",
      "model_name": "CurveEditorWidgetModel",
      "state": {
       "_model_module_version": "^0.1.2",
       "_view_module_version": "^0.1.2",
       "control_points": [
        [
         -0.5,
         0
        ],
        [
         -0.270107,
         -0.0329435
        ],
        [
         -0.153669,
         0.0629664
        ],
        [
         -0.166177,
         0.1558
        ],
        [
         -0.208177,
         0.174913
        ],
        [
         -0.303173,
         0.147119
        ]
       ],
       "layout": "IPY_MODEL_1b7edae9532646a08ba77ffc06e0a03f",
       "name": "axis7"
      }
     },
     "262cb2478dc84020baf963747d1c3f07": {
      "model_module": "@jupyter-widgets/base",
      "model_module_version": "1.2.0",
      "model_name": "LayoutModel",
      "state": {}
     },
     "27068fa9d02040b583a7d2ae4ceff627": {
      "model_module": "@jupyter-widgets/base",
      "model_module_version": "1.2.0",
      "model_name": "LayoutModel",
      "state": {}
     },
     "2972e2cf05854f6eaed7c1e1a039f614": {
      "model_module": "@jupyter-widgets/controls",
      "model_module_version": "1.5.0",
      "model_name": "HBoxModel",
      "state": {
       "children": [
        "IPY_MODEL_05cb14f7edd9406eaab32aa1342a98bc",
        "IPY_MODEL_74b375a5aeeb4f7daf3c90435714a2eb"
       ],
       "layout": "IPY_MODEL_d16f711d94af4169a06c8124585ad877"
      }
     },
     "2ce6f251b63048d49d4addb86bcb8719": {
      "model_module": "@jupyter-widgets/base",
      "model_module_version": "1.2.0",
      "model_name": "LayoutModel",
      "state": {}
     },
     "2e74407213884ffd89c1002aa0d6460d": {
      "model_module": "@jupyter-widgets/controls",
      "model_module_version": "1.5.0",
      "model_name": "VBoxModel",
      "state": {
       "children": [
        "IPY_MODEL_cd8ba434e51a4022b0dee8c2a3205f17",
        "IPY_MODEL_bcc4abd7d22048c79857524e281c9978"
       ],
       "layout": "IPY_MODEL_53e656b3418945f5b278879bc408fc9a"
      }
     },
     "2ec9d96e14e748e6806389c624513f2b": {
      "model_module": "@jupyter-widgets/controls",
      "model_module_version": "1.5.0",
      "model_name": "DescriptionStyleModel",
      "state": {
       "description_width": ""
      }
     },
     "35991c7e2a384272b4c7cf85ea51d6b6": {
      "model_module": "@jupyter-widgets/base",
      "model_module_version": "1.2.0",
      "model_name": "LayoutModel",
      "state": {
       "display": "flex",
       "flex_flow": "column"
      }
     },
     "373dfc9084cc4419aab4e74358978bc8": {
      "model_module": "@jupyter-widgets/controls",
      "model_module_version": "1.5.0",
      "model_name": "DescriptionStyleModel",
      "state": {
       "description_width": ""
      }
     },
     "3ae04a05ff4e4a2b8f78d0c0bd891c76": {
      "model_module": "@jupyter-widgets/controls",
      "model_module_version": "1.5.0",
      "model_name": "VBoxModel",
      "state": {
       "children": [
        "IPY_MODEL_8cccbb2cc5db4e5fb75e7797dc789e47",
        "IPY_MODEL_6742659ccfc94054b2b847326e82ade5"
       ],
       "layout": "IPY_MODEL_7dee0ebf451d42ce849b8fc7454ba140"
      }
     },
     "3b95819d998a461993b408881453005a": {
      "model_module": "pgljupyter",
      "model_module_version": "^0.1.2",
      "model_name": "CurveEditorWidgetModel",
      "state": {
       "_model_module_version": "^0.1.2",
       "_view_module_version": "^0.1.2",
       "control_points": [
        [
         -0.5,
         0
        ],
        [
         -0.343628,
         0.0908472
        ],
        [
         -0.294991,
         -0.0340806
        ],
        [
         -0.425858,
         -0.0642156
        ],
        [
         -0.44864,
         0.0269131
        ],
        [
         -0.37165,
         0.0115342
        ]
       ],
       "layout": "IPY_MODEL_b3087eb5b06d414198c515215b839652",
       "name": "axis1"
      }
     },
     "40a2d7fdb63d4cd5bbb659c6e83bca3e": {
      "model_module": "@jupyter-widgets/base",
      "model_module_version": "1.2.0",
      "model_name": "LayoutModel",
      "state": {}
     },
     "41d13f7ddedd463282184b27b0c9486e": {
      "model_module": "@jupyter-widgets/base",
      "model_module_version": "1.2.0",
      "model_name": "LayoutModel",
      "state": {}
     },
     "42ac9280f1c34f31b1d22c9371d5cf7d": {
      "model_module": "@jupyter-widgets/base",
      "model_module_version": "1.2.0",
      "model_name": "LayoutModel",
      "state": {}
     },
     "4381d3dfcf0e444587c07d57c8102eae": {
      "model_module": "@jupyter-widgets/base",
      "model_module_version": "1.2.0",
      "model_name": "LayoutModel",
      "state": {}
     },
     "438de3f353e445d489cca3f563f1e340": {
      "model_module": "@jupyter-widgets/base",
      "model_module_version": "1.2.0",
      "model_name": "LayoutModel",
      "state": {
       "grid_template_rows": "500px 200px",
       "width": "100%"
      }
     },
     "451193184baf435e8e1fbbb85e7b004e": {
      "model_module": "@jupyter-widgets/base",
      "model_module_version": "1.2.0",
      "model_name": "LayoutModel",
      "state": {
       "grid_template_columns": "35% 65%",
       "grid_template_rows": "auto auto",
       "width": "100%"
      }
     },
     "461de7a8c8ac44c18afbb88fc132171e": {
      "model_module": "@jupyter-widgets/base",
      "model_module_version": "1.2.0",
      "model_name": "LayoutModel",
      "state": {
       "height": "100%"
      }
     },
     "472a184825f44c98aea8044df3625d4d": {
      "model_module": "@jupyter-widgets/controls",
      "model_module_version": "1.5.0",
      "model_name": "DescriptionStyleModel",
      "state": {
       "description_width": ""
      }
     },
     "489118a2747b47ecb3ffaa5f45117e8b": {
      "model_module": "@jupyter-widgets/controls",
      "model_module_version": "1.5.0",
      "model_name": "HBoxModel",
      "state": {
       "children": [
        "IPY_MODEL_10ff94a827b44494b02f20e1251de690",
        "IPY_MODEL_74b375a5aeeb4f7daf3c90435714a2eb"
       ],
       "layout": "IPY_MODEL_f16dd683d3304da4a455ec606204f911"
      }
     },
     "4c372fb71cb3466cb69d721df46fcf56": {
      "model_module": "@jupyter-widgets/controls",
      "model_module_version": "1.5.0",
      "model_name": "HBoxModel",
      "state": {
       "children": [
        "IPY_MODEL_a92cb5c3da0e42fcb7444c0b49822ef9",
        "IPY_MODEL_74b375a5aeeb4f7daf3c90435714a2eb"
       ],
       "layout": "IPY_MODEL_1a0b7696ce0c42529515b21670baf861"
      }
     },
     "51bea26427334986a0d8dfb99cceaa0f": {
      "model_module": "@jupyter-widgets/base",
      "model_module_version": "1.2.0",
      "model_name": "LayoutModel",
      "state": {
       "min_width": "450px"
      }
     },
     "53e656b3418945f5b278879bc408fc9a": {
      "model_module": "@jupyter-widgets/base",
      "model_module_version": "1.2.0",
      "model_name": "LayoutModel",
      "state": {}
     },
     "566a58fe465d42f2943950ff1838bdfb": {
      "model_module": "@jupyter-widgets/base",
      "model_module_version": "1.2.0",
      "model_name": "LayoutModel",
      "state": {
       "grid_template_rows": "500px auto",
       "width": "100%"
      }
     },
     "5856224e3d8442a683cd0684735f7837": {
      "model_module": "@jupyter-widgets/controls",
      "model_module_version": "1.5.0",
      "model_name": "HBoxModel",
      "state": {
       "children": [
        "IPY_MODEL_10ff94a827b44494b02f20e1251de690",
        "IPY_MODEL_74b375a5aeeb4f7daf3c90435714a2eb"
       ],
       "layout": "IPY_MODEL_35991c7e2a384272b4c7cf85ea51d6b6"
      }
     },
     "5e09a286e4b2419fb261e2bc9400c87c": {
      "model_module": "pgljupyter",
      "model_module_version": "^0.1.2",
      "model_name": "CurveEditorWidgetModel",
      "state": {
       "_model_module_version": "^0.1.2",
       "_view_module_version": "^0.1.2",
       "control_points": [
        [
         0,
         0.03441300825639204
        ],
        [
         0.18181818181818182,
         0.6672443043101918
        ],
        [
         0.7454545454545455,
         0.5854261224920099
        ],
        [
         1,
         0.00849109
        ]
       ],
       "is_function": true,
       "layout": "IPY_MODEL_a528c0d15a4f478db2762b82006abc17",
       "name": "leafwidth"
      }
     },
     "63aa8d378d0341a986abc4b72c80ff17": {
      "model_module": "@jupyter-widgets/base",
      "model_module_version": "1.2.0",
      "model_name": "LayoutModel",
      "state": {}
     },
     "6742659ccfc94054b2b847326e82ade5": {
      "model_module": "pgljupyter",
      "model_module_version": "^0.1.2",
      "model_name": "CurveEditorWidgetModel",
      "state": {
       "_model_module_version": "^0.1.2",
       "_view_module_version": "^0.1.2",
       "control_points": [
        [
         -0.617641,
         0.141492
        ],
        [
         -0.175383,
         -0.129256
        ],
        [
         0.00813704,
         0.352579
        ],
        [
         0.122072,
         -0.121707
        ],
        [
         0.587932,
         0.164599
        ]
       ],
       "layout": "IPY_MODEL_b10817e0f6434f9aab4c1186eea13690",
       "name": "profile"
      }
     },
     "67a4ef71a42746d39535a14fd10b1e35": {
      "model_module": "@jupyter-widgets/controls",
      "model_module_version": "1.5.0",
      "model_name": "DescriptionStyleModel",
      "state": {
       "description_width": ""
      }
     },
     "686e250caf6c4da8831ed0bf68e772d4": {
      "model_module": "@jupyter-widgets/base",
      "model_module_version": "1.2.0",
      "model_name": "LayoutModel",
      "state": {}
     },
     "69ae1f570c404ef79b69362775edc86b": {
      "model_module": "@jupyter-widgets/controls",
      "model_module_version": "1.5.0",
      "model_name": "LabelModel",
      "state": {
       "layout": "IPY_MODEL_b42a6a05160b4c6a87bc6b749d6fafc3",
       "style": "IPY_MODEL_c05643baccd64f85ad0455bdd173afd7",
       "value": "axis5"
      }
     },
     "69f3bb796c304222822a7cc2574ac5c1": {
      "model_module": "@jupyter-widgets/base",
      "model_module_version": "1.2.0",
      "model_name": "LayoutModel",
      "state": {}
     },
     "6fc945dc5d79462e8fb189a07f9dadcf": {
      "model_module": "@jupyter-widgets/controls",
      "model_module_version": "1.5.0",
      "model_name": "LabelModel",
      "state": {
       "layout": "IPY_MODEL_95c761a3d3b448908a4c05ba641a2d2f",
       "style": "IPY_MODEL_67a4ef71a42746d39535a14fd10b1e35",
       "value": "axis8"
      }
     },
     "70e63bd0b87143d186a1100b4ee7dd3d": {
      "model_module": "pgljupyter",
      "model_module_version": "^0.1.2",
      "model_name": "CurveEditorWidgetModel",
      "state": {
       "_model_module_version": "^0.1.2",
       "_view_module_version": "^0.1.2",
       "control_points": [
        [
         -0.5,
         0
        ],
        [
         -0.280281,
         -0.0381676
        ],
        [
         -0.269238,
         0.132025
        ],
        [
         -0.43052,
         0.135627
        ],
        [
         -0.40177,
         0.00840907
        ],
        [
         -0.321179,
         0.076555
        ]
       ],
       "layout": "IPY_MODEL_0385148b4f8f4419a510df74ab9f4ba4",
       "name": "axis9"
      }
     },
     "727d8a06f6d944a6a39ad86fd8dc6bbb": {
      "model_module": "@jupyter-widgets/base",
      "model_module_version": "1.2.0",
      "model_name": "LayoutModel",
      "state": {}
     },
     "731a93d7c0fe4b41966a6167b8b6e1fa": {
      "model_module": "@jupyter-widgets/base",
      "model_module_version": "1.2.0",
      "model_name": "LayoutModel",
      "state": {
       "min_width": "400px"
      }
     },
     "739218548c9b4289bb3c755b28258cec": {
      "buffers": [
       {
        "data": "IWJHRU9NAAAgQA0KICMjIQUAAAACBQBTaGFwZQIAAAADCABNYXRlcmlhbAIAAAATCQBFeHRydXNpb24CAAAAGggAUG9seWxpbmUCAAAAJAwATnVyYnNDdXJ2ZTJEAgAAACECAAAAAhgAU0hBUEVJRF81XzkzODcwMTg0ODEyNzg0BQAAAAcAAAATAAAAAAAAGQACAAAA34CgPN+AoDzfgKA834CgPAAAgL9zj7MsAAAAABoAAAAAAAACAAAAAAAAAAAAAAAAAAAA9aUPK83MzD31pQ+rAAAAAAEkAAD4QwPbDwUAAAC4HR6/R+MQPgAAgD+alzO+r1sEvgAAgD84UQU8PIW0PgAAgD/iAPo9hUH5vQAAgD+2ghY/pIwoPgAAgD8DBwBDb2xvcl8xIHcA2zxBLQ8AAEBAAhgAU0hBUEVJRF83XzkzODcwMTg0ODQ2NDAwBwAAAAcAAAATAAAAAAAAGQAyAAAA3XXGPd11xj2FFRg+hRUYPjcIRT43CEU+Md9rPjHfaz7x84Y+8fOGPsX3lT7F95U+DEWjPgxFoz7BGq8+wRqvPmejuT5no7k+OgXDPjoFwz6iWcs+olnLPsa50j7GudI+tjfZPrY32T4k5N4+JOTePpDM4z6QzOM+gfvnPoH75z6ce+s+nHvrPnNU7j5zVO4+Eo3wPhKN8D7wKvI+8CryPsIz8z7CM/M+NKvzPjSr8z7ClPM+wpTzPgTz8j4E8/I+TMjxPkzI8T6GFfA+hhXwPobc7T6G3O0+yhzrPsoc6z5y1uc+ctbnPvUI5D71COQ+trLfPray3z6S0do+ktHaPptk1T6bZNU+yGXPPshlzz7p08g+6dPIPtmpwT7ZqcE+et65PnreuT47cLE+O3CxPlxTqD5cU6g+pn6ePqZ+nj7w6JM+8OiTPlGBiD5RgYg+S3V4Pkt1eD5RA14+UQNePvB3QT7wd0E+lZgiPpWYIj7bIQE+2yEBPsFZuT3BWbk92vlSPdr5Uj3a+VI92vlSPQAAgL9zj7MsAAAAABoAAAAAAAAyAAAA9aUPK83MzD31pQ+rdKooK7h38D2zGiE8+9xBKyIyCj6pQp88gj5bK+lJHD66Buw89890K9qDLj5DXxs9HkmHK5jgQD6Jpj89qkOUK5BhUz5ywmI9sl2hK2wPZj7OLII92peuKxXreD6NJpI9cfK7K336hT6yPqE9lG3JK6SWjz79Y689JQzXKwxMmT7tabw9YtPkK3Ieoz66/8c9iMHyK5UMrT5e/9E9z2kALFYUtz6fPto9OoUHLEo2wT4rKeA90q4OLHRsyz7cNeM9gN0VLN6p1T7KBuM99P8cLNrV3z7FTt49o/YjLG7D6T5HRtQ9poYqLKIe8z7loMM9n18wLN90+z5C2Ks9Whw1LO8aAT+aDo09joQ4LK+IAz9S/1E9ko06LBj8BD9abwM9BFE7LGuHBT+X6kc8s+s6LDE/BT8WiP67yWs5LIUtBD+W3N+8SsM2LG1IAj+yCDy93/IyLMUg/z5xuYC91xYuLCUz+D7M4p69kV4oLIcL8D7HqLe9aQAiLGj35j40m8q9MzAbLKxA3T5Ikde9JxwULDsp0z4phN696e0MLHHsyD64bd+9DM4FLCbEvj5tPNq9L9D9K2vutD441M697drwK7Sxqz6dJr29tB/lK9pUoz47g6W92eXaK7UKnD4Nv4i9b6PSK3Enlj7Sd069B1nNK/Rhkj5/TgK9PEHNK/1Qkj6ojUG8mdfUK5u5lz5yYKk7x1rhKwGloD4ipXU8MFLvK76Zqj7qI6E8NqT9KxPPtD5XBK48DAAGLHALvz4KUqk8JSYNLJ08yT6sfZk8AAAAAAEB+EMD2wMHAENvbG9yXzKwzwPbPB48CgAAQEA=",
        "encoding": "base64",
        "path": [
         "scene",
         "data"
        ]
       }
      ],
      "model_module": "pgljupyter",
      "model_module_version": "^0.1.2",
      "model_name": "LsystemWidgetModel",
      "state": {
       "_model_module_version": "^0.1.2",
       "_view_module_version": "^0.1.2",
       "axes_helper": false,
       "layout": "IPY_MODEL_9fe2a865a0f5456eaf7df790203153b0",
       "light_helper": false,
       "lsystem": {
        "derivationLength": 160
       },
       "plane": false,
       "scene": {
        "derivationStep": 1,
        "id": 1,
        "scene": "<openalea.plantgl.scenegraph._pglsg.Scene object at 0x7f0bc8c78530>"
       },
       "size_display": [
        450,
        450
       ],
       "size_world": [
        2,
        2,
        2
       ]
      }
     },
     "74b375a5aeeb4f7daf3c90435714a2eb": {
      "model_module": "pgljupyter",
      "model_module_version": "^0.1.2",
      "model_name": "ParameterEditorWidgetModel",
      "state": {
       "_model_module_version": "^0.1.2",
       "_view_module_version": "^0.1.2",
       "children": [
        "IPY_MODEL_bd7d9aaae2a849db85d9990881a9d9dd"
       ],
       "layout": "IPY_MODEL_41d13f7ddedd463282184b27b0c9486e"
      }
     },
     "754af1f371414c0f9210af2d8e185d1d": {
      "model_module": "@jupyter-widgets/controls",
      "model_module_version": "1.5.0",
      "model_name": "VBoxModel",
      "state": {
       "children": [
        "IPY_MODEL_8675e10f89694a63b0093db458475898",
        "IPY_MODEL_70e63bd0b87143d186a1100b4ee7dd3d"
       ],
       "layout": "IPY_MODEL_2ce6f251b63048d49d4addb86bcb8719"
      }
     },
     "7a54dd46a13a41fdb4d91f2bb2708b0c": {
      "model_module": "@jupyter-widgets/controls",
      "model_module_version": "1.5.0",
      "model_name": "AccordionModel",
      "state": {
       "layout": "IPY_MODEL_7c39a58dbc114c3f82c23b2558fe4a34",
       "selected_index": null
      }
     },
     "7c39a58dbc114c3f82c23b2558fe4a34": {
      "model_module": "@jupyter-widgets/base",
      "model_module_version": "1.2.0",
      "model_name": "LayoutModel",
      "state": {}
     },
     "7dee0ebf451d42ce849b8fc7454ba140": {
      "model_module": "@jupyter-widgets/base",
      "model_module_version": "1.2.0",
      "model_name": "LayoutModel",
      "state": {}
     },
     "7eecbfbcb5eb4dd1b6934dd342097faf": {
      "model_module": "@jupyter-widgets/controls",
      "model_module_version": "1.5.0",
      "model_name": "HBoxModel",
      "state": {
       "children": [
        "IPY_MODEL_a92cb5c3da0e42fcb7444c0b49822ef9",
        "IPY_MODEL_74b375a5aeeb4f7daf3c90435714a2eb"
       ],
       "layout": "IPY_MODEL_0124a6270a7144cb94241b430a3132b2"
      }
     },
     "8675e10f89694a63b0093db458475898": {
      "model_module": "@jupyter-widgets/controls",
      "model_module_version": "1.5.0",
      "model_name": "LabelModel",
      "state": {
       "layout": "IPY_MODEL_686e250caf6c4da8831ed0bf68e772d4",
       "style": "IPY_MODEL_f39442c9262641dfa9a5db5b8fda4048",
       "value": "axis9"
      }
     },
     "88c8169b1ed24b7a9a49fee2b0d7fd1f": {
      "model_module": "pgljupyter",
      "model_module_version": "^0.1.2",
      "model_name": "CurveEditorWidgetModel",
      "state": {
       "_model_module_version": "^0.1.2",
       "_view_module_version": "^0.1.2",
       "control_points": [
        [
         -0.5,
         0
        ],
        [
         -0.273115,
         -0.0434201
        ],
        [
         -0.173188,
         0.111014
        ],
        [
         -0.23975,
         0.187331
        ],
        [
         -0.358312,
         0.13139
        ],
        [
         -0.295666,
         0.0885611
        ]
       ],
       "layout": "IPY_MODEL_99b4948fc8124af5b85548839f97cd5b",
       "name": "axis8"
      }
     },
     "89fea17654314b2b89a2a2bef2a53ecb": {
      "model_module": "@jupyter-widgets/controls",
      "model_module_version": "1.5.0",
      "model_name": "HBoxModel",
      "state": {
       "children": [
        "IPY_MODEL_168a827c376c41279572f745d8553933",
        "IPY_MODEL_74b375a5aeeb4f7daf3c90435714a2eb"
       ],
       "layout": "IPY_MODEL_9d84ad1172f34991b3cd41e0e8a87afc"
      }
     },
     "8aa5d82ebd264b17905439a4462d5235": {
      "model_module": "@jupyter-widgets/controls",
      "model_module_version": "1.5.0",
      "model_name": "HBoxModel",
      "state": {
       "children": [
        "IPY_MODEL_a92cb5c3da0e42fcb7444c0b49822ef9",
        "IPY_MODEL_74b375a5aeeb4f7daf3c90435714a2eb"
       ],
       "layout": "IPY_MODEL_1cf99db28b1248bf93466d7daf1c6c42"
      }
     },
     "8c0c52203f224e9280a79c895d74aacf": {
      "model_module": "@jupyter-widgets/controls",
      "model_module_version": "1.5.0",
      "model_name": "HBoxModel",
      "state": {
       "children": [
        "IPY_MODEL_9a4dea9e816b41648ce4fbd2d4ae57ed",
        "IPY_MODEL_3ae04a05ff4e4a2b8f78d0c0bd891c76",
        "IPY_MODEL_cc3dcf1b0aaa456c8a0e51a3ec98e408",
        "IPY_MODEL_b5c30264f90c401cbc19eca5f11a5bfb",
        "IPY_MODEL_0d8c10662fd549d190d8ee5e988ce07d",
        "IPY_MODEL_2e74407213884ffd89c1002aa0d6460d",
        "IPY_MODEL_cfe6ce1bce724d8788fdea614d91c8c2",
        "IPY_MODEL_13934999e87b4f8b82d2edc9dea926ff",
        "IPY_MODEL_963b32839ae249ec95f12a90827f761a",
        "IPY_MODEL_915caff1ab214868968aea449a350808",
        "IPY_MODEL_754af1f371414c0f9210af2d8e185d1d"
       ],
       "layout": "IPY_MODEL_e62943cc11a343b69003090255f548e4"
      }
     },
     "8ca7ef3927a146a2ad69269b74a829c8": {
      "model_module": "pgljupyter",
      "model_module_version": "^0.1.2",
      "model_name": "CurveEditorWidgetModel",
      "state": {
       "_model_module_version": "^0.1.2",
       "_view_module_version": "^0.1.2",
       "control_points": [
        [
         -0.5,
         0
        ],
        [
         -0.343628,
         0.0908472
        ],
        [
         -0.196405,
         0.093203
        ],
        [
         -0.144755,
         -0.0349069
        ],
        [
         -0.244089,
         -0.114191
        ],
        [
         -0.369488,
         -0.0299906
        ]
       ],
       "layout": "IPY_MODEL_69f3bb796c304222822a7cc2574ac5c1",
       "name": "axis2"
      }
     },
     "8cccbb2cc5db4e5fb75e7797dc789e47": {
      "model_module": "@jupyter-widgets/controls",
      "model_module_version": "1.5.0",
      "model_name": "LabelModel",
      "state": {
       "layout": "IPY_MODEL_05add5b94e14443c822368eb8c16b465",
       "style": "IPY_MODEL_1d9998d622854d69a31046717db845d4",
       "value": "profile"
      }
     },
     "8d863dfac2cb4588aa1b3ea21e2daf73": {
      "model_module": "pgljupyter",
      "model_module_version": "^0.1.2",
      "model_name": "CurveEditorWidgetModel",
      "state": {
       "_model_module_version": "^0.1.2",
       "_view_module_version": "^0.1.2",
       "control_points": [
        [
         -0.5,
         0
        ],
        [
         -0.343628,
         0.0908472
        ],
        [
         -0.17612,
         0.0940398
        ],
        [
         -0.105034,
         0.0750999
        ],
        [
         -0.0236869,
         0.0720096
        ],
        [
         0.0498644,
         0.0519054
        ]
       ],
       "layout": "IPY_MODEL_63aa8d378d0341a986abc4b72c80ff17",
       "name": "axis5"
      }
     },
     "915caff1ab214868968aea449a350808": {
      "model_module": "@jupyter-widgets/controls",
      "model_module_version": "1.5.0",
      "model_name": "VBoxModel",
      "state": {
       "children": [
        "IPY_MODEL_6fc945dc5d79462e8fb189a07f9dadcf",
        "IPY_MODEL_88c8169b1ed24b7a9a49fee2b0d7fd1f"
       ],
       "layout": "IPY_MODEL_1445ad288da44323b3bf78b26c5a7663"
      }
     },
     "935305c22ee840c584e3088f4e484f16": {
      "model_module": "@jupyter-widgets/controls",
      "model_module_version": "1.5.0",
      "model_name": "DescriptionStyleModel",
      "state": {
       "description_width": ""
      }
     },
     "93c2107a843f4076a97e3715e57e188c": {
      "model_module": "@jupyter-widgets/base",
      "model_module_version": "1.2.0",
      "model_name": "LayoutModel",
      "state": {}
     },
     "95c761a3d3b448908a4c05ba641a2d2f": {
      "model_module": "@jupyter-widgets/base",
      "model_module_version": "1.2.0",
      "model_name": "LayoutModel",
      "state": {}
     },
     "963b32839ae249ec95f12a90827f761a": {
      "model_module": "@jupyter-widgets/controls",
      "model_module_version": "1.5.0",
      "model_name": "VBoxModel",
      "state": {
       "children": [
        "IPY_MODEL_e8550d00f5ac443aa225c8961d0db831",
        "IPY_MODEL_228fb1c8090e4149950cc4cd9e49e7d6"
       ],
       "layout": "IPY_MODEL_a536f25af5ed461d8fef0bf8ce046464"
      }
     },
     "967370c5f16f47d19903e7ab214b0801": {
      "model_module": "@jupyter-widgets/base",
      "model_module_version": "1.2.0",
      "model_name": "LayoutModel",
      "state": {}
     },
     "96d8366619a1449f88b3fe4e1e479fff": {
      "model_module": "@jupyter-widgets/base",
      "model_module_version": "1.2.0",
      "model_name": "LayoutModel",
      "state": {}
     },
     "99b4948fc8124af5b85548839f97cd5b": {
      "model_module": "@jupyter-widgets/base",
      "model_module_version": "1.2.0",
      "model_name": "LayoutModel",
      "state": {}
     },
     "9a4dea9e816b41648ce4fbd2d4ae57ed": {
      "model_module": "@jupyter-widgets/controls",
      "model_module_version": "1.5.0",
      "model_name": "VBoxModel",
      "state": {
       "children": [
        "IPY_MODEL_f7dc0e73697c4c8abef24fb7e13fe6b0",
        "IPY_MODEL_5e09a286e4b2419fb261e2bc9400c87c"
       ],
       "layout": "IPY_MODEL_e187407268cb455ca0e700fce7478537"
      }
     },
     "9d28e72b24e14b6c98db1ae095006ffe": {
      "model_module": "@jupyter-widgets/controls",
      "model_module_version": "1.5.0",
      "model_name": "DescriptionStyleModel",
      "state": {
       "description_width": ""
      }
     },
     "9d84ad1172f34991b3cd41e0e8a87afc": {
      "model_module": "@jupyter-widgets/base",
      "model_module_version": "1.2.0",
      "model_name": "LayoutModel",
      "state": {}
     },
     "9e5334672a044056afdc4574f9ab58a4": {
      "model_module": "@jupyter-widgets/controls",
      "model_module_version": "1.5.0",
      "model_name": "HBoxModel",
      "state": {
       "children": [
        "IPY_MODEL_a92cb5c3da0e42fcb7444c0b49822ef9",
        "IPY_MODEL_74b375a5aeeb4f7daf3c90435714a2eb"
       ],
       "layout": "IPY_MODEL_566a58fe465d42f2943950ff1838bdfb"
      }
     },
     "9fe2a865a0f5456eaf7df790203153b0": {
      "model_module": "@jupyter-widgets/base",
      "model_module_version": "1.2.0",
      "model_name": "LayoutModel",
      "state": {
       "min_width": "500px"
      }
     },
     "a3968be37577440fb07a0041438b609d": {
      "model_module": "@jupyter-widgets/base",
      "model_module_version": "1.2.0",
      "model_name": "LayoutModel",
      "state": {}
     },
     "a528c0d15a4f478db2762b82006abc17": {
      "model_module": "@jupyter-widgets/base",
      "model_module_version": "1.2.0",
      "model_name": "LayoutModel",
      "state": {}
     },
     "a536f25af5ed461d8fef0bf8ce046464": {
      "model_module": "@jupyter-widgets/base",
      "model_module_version": "1.2.0",
      "model_name": "LayoutModel",
      "state": {}
     },
     "a60b14fb8c6e49f1a265749f2b993b18": {
      "model_module": "@jupyter-widgets/base",
      "model_module_version": "1.2.0",
      "model_name": "LayoutModel",
      "state": {
       "grid_template_columns": "500px 200px",
       "width": "100%"
      }
     },
     "a784dbda01734f7995a7f341f1d46bdf": {
      "model_module": "@jupyter-widgets/base",
      "model_module_version": "1.2.0",
      "model_name": "LayoutModel",
      "state": {}
     },
     "a8df61143b60431eaf76e8c2667eb282": {
      "model_module": "@jupyter-widgets/controls",
      "model_module_version": "1.5.0",
      "model_name": "HBoxModel",
      "state": {
       "children": [
        "IPY_MODEL_a92cb5c3da0e42fcb7444c0b49822ef9",
        "IPY_MODEL_74b375a5aeeb4f7daf3c90435714a2eb"
       ],
       "layout": "IPY_MODEL_a60b14fb8c6e49f1a265749f2b993b18"
      }
     },
     "a92cb5c3da0e42fcb7444c0b49822ef9": {
      "model_module": "pgljupyter",
      "model_module_version": "^0.1.2",
      "model_name": "LsystemWidgetModel",
      "state": {
       "_model_module_version": "^0.1.2",
       "_view_module_version": "^0.1.2",
       "axes_helper": false,
       "layout": "IPY_MODEL_e8da5df7dcdf4af489d2d4170d331005",
       "light_helper": false,
       "lsystem": {
        "derivationLength": 160
       },
       "plane": false,
       "size_display": [
        400,
        400
       ],
       "size_world": [
        2,
        2,
        2
       ]
      }
     },
     "ab098bc210334439b92527f5cbf98ba1": {
      "model_module": "@jupyter-widgets/base",
      "model_module_version": "1.2.0",
      "model_name": "LayoutModel",
      "state": {}
     },
     "adc4dbd0158d427dbd658b659d0782d0": {
      "model_module": "pgljupyter",
      "model_module_version": "^0.1.2",
      "model_name": "LsystemWidgetModel",
      "state": {
       "_model_module_version": "^0.1.2",
       "_view_module_version": "^0.1.2",
       "axes_helper": false,
       "layout": "IPY_MODEL_19485228eb0f42aebee0727b0a9c3d05",
       "light_helper": false,
       "lsystem": {
        "derivationLength": 160
       },
       "plane": false,
       "size_display": [
        400,
        400
       ],
       "size_world": [
        2,
        2,
        2
       ]
      }
     },
     "b10817e0f6434f9aab4c1186eea13690": {
      "model_module": "@jupyter-widgets/base",
      "model_module_version": "1.2.0",
      "model_name": "LayoutModel",
      "state": {}
     },
     "b2321ccc1aaa4764b53f010d7d9c78bf": {
      "model_module": "@jupyter-widgets/base",
      "model_module_version": "1.2.0",
      "model_name": "LayoutModel",
      "state": {
       "display": "flex",
       "flex_flow": "column"
      }
     },
     "b3087eb5b06d414198c515215b839652": {
      "model_module": "@jupyter-widgets/base",
      "model_module_version": "1.2.0",
      "model_name": "LayoutModel",
      "state": {}
     },
     "b3496297cfb4479080c957d609043d62": {
      "model_module": "@jupyter-widgets/controls",
      "model_module_version": "1.5.0",
      "model_name": "HBoxModel",
      "state": {
       "children": [
        "IPY_MODEL_df83118a93584780897ea58c381daddf",
        "IPY_MODEL_74b375a5aeeb4f7daf3c90435714a2eb"
       ],
       "layout": "IPY_MODEL_b2321ccc1aaa4764b53f010d7d9c78bf"
      }
     },
     "b42a6a05160b4c6a87bc6b749d6fafc3": {
      "model_module": "@jupyter-widgets/base",
      "model_module_version": "1.2.0",
      "model_name": "LayoutModel",
      "state": {}
     },
     "b5c30264f90c401cbc19eca5f11a5bfb": {
      "model_module": "@jupyter-widgets/controls",
      "model_module_version": "1.5.0",
      "model_name": "VBoxModel",
      "state": {
       "children": [
        "IPY_MODEL_ec36738f0c14427780fe9be17986ee50",
        "IPY_MODEL_8ca7ef3927a146a2ad69269b74a829c8"
       ],
       "layout": "IPY_MODEL_dbbc12be44b844b88232ea6b194a06fa"
      }
     },
     "b642cdf382dc4dee8037c3f7fce24bff": {
      "model_module": "@jupyter-widgets/controls",
      "model_module_version": "1.5.0",
      "model_name": "DescriptionStyleModel",
      "state": {
       "description_width": ""
      }
     },
     "bcbccd3e88414fc8987c888c7861694e": {
      "model_module": "@jupyter-widgets/controls",
      "model_module_version": "1.5.0",
      "model_name": "AccordionModel",
      "state": {
       "layout": "IPY_MODEL_02a327707d9a481c83d3eeb8edfeb25e"
      }
     },
     "bcc4abd7d22048c79857524e281c9978": {
      "model_module": "pgljupyter",
      "model_module_version": "^0.1.2",
      "model_name": "CurveEditorWidgetModel",
      "state": {
       "_model_module_version": "^0.1.2",
       "_view_module_version": "^0.1.2",
       "control_points": [
        [
         -0.5,
         0
        ],
        [
         -0.343628,
         0.0908472
        ],
        [
         -0.17612,
         0.0940398
        ],
        [
         -0.0992922,
         0.071272
        ],
        [
         -0.0294287,
         -0.00263411
        ],
        [
         -0.0359671,
         0.00176892
        ]
       ],
       "layout": "IPY_MODEL_27068fa9d02040b583a7d2ae4ceff627",
       "name": "axis4"
      }
     },
     "bd7d9aaae2a849db85d9990881a9d9dd": {
      "model_module": "@jupyter-widgets/controls",
      "model_module_version": "1.5.0",
      "model_name": "TabModel",
      "state": {
       "_titles": {
        "0": "dynamicprofile"
       },
       "children": [
        "IPY_MODEL_114ea92890f7407fac02e538d39787b5"
       ],
       "layout": "IPY_MODEL_ddc337af8a3d485593455618aa67c73d"
      }
     },
     "be39cf207ffa419b8af7f542acd8421b": {
      "model_module": "@jupyter-widgets/controls",
      "model_module_version": "1.5.0",
      "model_name": "HBoxModel",
      "state": {
       "children": [
        "IPY_MODEL_fd5a45b6dff74de6a155badb1ac985fb",
        "IPY_MODEL_74b375a5aeeb4f7daf3c90435714a2eb"
       ],
       "layout": "IPY_MODEL_40a2d7fdb63d4cd5bbb659c6e83bca3e"
      }
     },
     "c05643baccd64f85ad0455bdd173afd7": {
      "model_module": "@jupyter-widgets/controls",
      "model_module_version": "1.5.0",
      "model_name": "DescriptionStyleModel",
      "state": {
       "description_width": ""
      }
     },
     "c11933b833bc407bb66ad5eb5bb04f74": {
      "model_module": "@jupyter-widgets/base",
      "model_module_version": "1.2.0",
      "model_name": "LayoutModel",
      "state": {}
     },
     "c3f6ca1fa93b439dac6a95b2fba3b57a": {
      "model_module": "@jupyter-widgets/controls",
      "model_module_version": "1.5.0",
      "model_name": "HBoxModel",
      "state": {
       "children": [
        "IPY_MODEL_a92cb5c3da0e42fcb7444c0b49822ef9",
        "IPY_MODEL_74b375a5aeeb4f7daf3c90435714a2eb"
       ],
       "layout": "IPY_MODEL_438de3f353e445d489cca3f563f1e340"
      }
     },
     "c4ed1bb7b2c4477ea4eaee32d5f9bb7b": {
      "model_module": "@jupyter-widgets/controls",
      "model_module_version": "1.5.0",
      "model_name": "HBoxModel",
      "state": {
       "children": [
        "IPY_MODEL_dc52e33827bc4e69ba63ea08ad50f0c5",
        "IPY_MODEL_74b375a5aeeb4f7daf3c90435714a2eb"
       ],
       "layout": "IPY_MODEL_d3355d4a582949b3a805f830cc6ea1bd"
      }
     },
     "c5a8fb02cefe4f8885dbf5cc94c8f3a1": {
      "model_module": "@jupyter-widgets/base",
      "model_module_version": "1.2.0",
      "model_name": "LayoutModel",
      "state": {}
     },
     "c7b5926acc1546879fb82640f69bf80d": {
      "model_module": "@jupyter-widgets/controls",
      "model_module_version": "1.5.0",
      "model_name": "DescriptionStyleModel",
      "state": {
       "description_width": ""
      }
     },
     "cb04a0800f9149fa845d294b87d33f7a": {
      "model_module": "@jupyter-widgets/controls",
      "model_module_version": "1.5.0",
      "model_name": "LabelModel",
      "state": {
       "layout": "IPY_MODEL_a3968be37577440fb07a0041438b609d",
       "style": "IPY_MODEL_2ec9d96e14e748e6806389c624513f2b",
       "value": "axis6"
      }
     },
     "cc3dcf1b0aaa456c8a0e51a3ec98e408": {
      "model_module": "@jupyter-widgets/controls",
      "model_module_version": "1.5.0",
      "model_name": "VBoxModel",
      "state": {
       "children": [
        "IPY_MODEL_208a21ee11554976857bc455920e1cd1",
        "IPY_MODEL_3b95819d998a461993b408881453005a"
       ],
       "layout": "IPY_MODEL_727d8a06f6d944a6a39ad86fd8dc6bbb"
      }
     },
     "cd8ba434e51a4022b0dee8c2a3205f17": {
      "model_module": "@jupyter-widgets/controls",
      "model_module_version": "1.5.0",
      "model_name": "LabelModel",
      "state": {
       "layout": "IPY_MODEL_ab098bc210334439b92527f5cbf98ba1",
       "style": "IPY_MODEL_935305c22ee840c584e3088f4e484f16",
       "value": "axis4"
      }
     },
     "cfe6ce1bce724d8788fdea614d91c8c2": {
      "model_module": "@jupyter-widgets/controls",
      "model_module_version": "1.5.0",
      "model_name": "VBoxModel",
      "state": {
       "children": [
        "IPY_MODEL_69ae1f570c404ef79b69362775edc86b",
        "IPY_MODEL_8d863dfac2cb4588aa1b3ea21e2daf73"
       ],
       "layout": "IPY_MODEL_c5a8fb02cefe4f8885dbf5cc94c8f3a1"
      }
     },
     "d16f711d94af4169a06c8124585ad877": {
      "model_module": "@jupyter-widgets/base",
      "model_module_version": "1.2.0",
      "model_name": "LayoutModel",
      "state": {
       "display": "flex",
       "flex_flow": "row"
      }
     },
     "d3355d4a582949b3a805f830cc6ea1bd": {
      "model_module": "@jupyter-widgets/base",
      "model_module_version": "1.2.0",
      "model_name": "LayoutModel",
      "state": {
       "display": "flex",
       "flex_flow": "row"
      }
     },
     "d4706efd302d49aca1d494e7c9f85876": {
      "model_module": "@jupyter-widgets/controls",
      "model_module_version": "1.5.0",
      "model_name": "LabelModel",
      "state": {
       "layout": "IPY_MODEL_dd07fe191f824dadaf6b016765384f79",
       "style": "IPY_MODEL_b642cdf382dc4dee8037c3f7fce24bff",
       "value": "axis3"
      }
     },
     "d799d438709e4afea7a6782d63e348cd": {
      "model_module": "@jupyter-widgets/base",
      "model_module_version": "1.2.0",
      "model_name": "LayoutModel",
      "state": {
       "display": "flex",
       "flex_flow": "row"
      }
     },
     "dbbc12be44b844b88232ea6b194a06fa": {
      "model_module": "@jupyter-widgets/base",
      "model_module_version": "1.2.0",
      "model_name": "LayoutModel",
      "state": {}
     },
     "dc52e33827bc4e69ba63ea08ad50f0c5": {
      "model_module": "pgljupyter",
      "model_module_version": "^0.1.2",
      "model_name": "LsystemWidgetModel",
      "state": {
       "_model_module_version": "^0.1.2",
       "_view_module_version": "^0.1.2",
       "axes_helper": false,
       "layout": "IPY_MODEL_461de7a8c8ac44c18afbb88fc132171e",
       "light_helper": false,
       "lsystem": {
        "derivationLength": 160
       },
       "plane": false,
       "size_display": [
        400,
        400
       ],
       "size_world": [
        2,
        2,
        2
       ]
      }
     },
     "dc90634833a74919bae2f37611940a4a": {
      "model_module": "pgljupyter",
      "model_module_version": "^0.1.2",
      "model_name": "CurveEditorWidgetModel",
      "state": {
       "_model_module_version": "^0.1.2",
       "_view_module_version": "^0.1.2",
       "control_points": [
        [
         -0.5,
         0
        ],
        [
         -0.343628,
         0.0908472
        ],
        [
         -0.199423,
         0.0660391
        ],
        [
         -0.139163,
         0.000244081
        ],
        [
         -0.201903,
         -0.0919733
        ],
        [
         -0.261797,
         -0.0726804
        ]
       ],
       "layout": "IPY_MODEL_93c2107a843f4076a97e3715e57e188c",
       "name": "axis3"
      }
     },
     "dd07fe191f824dadaf6b016765384f79": {
      "model_module": "@jupyter-widgets/base",
      "model_module_version": "1.2.0",
      "model_name": "LayoutModel",
      "state": {}
     },
     "ddc337af8a3d485593455618aa67c73d": {
      "model_module": "@jupyter-widgets/base",
      "model_module_version": "1.2.0",
      "model_name": "LayoutModel",
      "state": {}
     },
     "ddcc50ea9f79467f927a528793000aba": {
      "model_module": "@jupyter-widgets/controls",
      "model_module_version": "1.5.0",
      "model_name": "GridBoxModel",
      "state": {
       "layout": "IPY_MODEL_451193184baf435e8e1fbbb85e7b004e"
      }
     },
     "df83118a93584780897ea58c381daddf": {
      "model_module": "pgljupyter",
      "model_module_version": "^0.1.2",
      "model_name": "LsystemWidgetModel",
      "state": {
       "_model_module_version": "^0.1.2",
       "_view_module_version": "^0.1.2",
       "axes_helper": false,
       "layout": "IPY_MODEL_967370c5f16f47d19903e7ab214b0801",
       "light_helper": false,
       "lsystem": {
        "derivationLength": 160
       },
       "plane": false,
       "size_display": [
        300,
        300
       ],
       "size_world": [
        2,
        2,
        2
       ]
      }
     },
     "e187407268cb455ca0e700fce7478537": {
      "model_module": "@jupyter-widgets/base",
      "model_module_version": "1.2.0",
      "model_name": "LayoutModel",
      "state": {}
     },
     "e62943cc11a343b69003090255f548e4": {
      "model_module": "@jupyter-widgets/base",
      "model_module_version": "1.2.0",
      "model_name": "LayoutModel",
      "state": {
       "flex_flow": "row wrap",
       "width": "100%"
      }
     },
     "e72ba882ec1444558ec3bfed0c721f42": {
      "model_module": "@jupyter-widgets/base",
      "model_module_version": "1.2.0",
      "model_name": "LayoutModel",
      "state": {}
     },
     "e8550d00f5ac443aa225c8961d0db831": {
      "model_module": "@jupyter-widgets/controls",
      "model_module_version": "1.5.0",
      "model_name": "LabelModel",
      "state": {
       "layout": "IPY_MODEL_fcda0517aa404a8ea601f99946df6021",
       "style": "IPY_MODEL_373dfc9084cc4419aab4e74358978bc8",
       "value": "axis7"
      }
     },
     "e8da5df7dcdf4af489d2d4170d331005": {
      "model_module": "@jupyter-widgets/base",
      "model_module_version": "1.2.0",
      "model_name": "LayoutModel",
      "state": {}
     },
     "ebbeb593f2d546f6857ef3b6b16d377f": {
      "model_module": "@jupyter-widgets/controls",
      "model_module_version": "1.5.0",
      "model_name": "HBoxModel",
      "state": {
       "children": [
        "IPY_MODEL_adc4dbd0158d427dbd658b659d0782d0",
        "IPY_MODEL_74b375a5aeeb4f7daf3c90435714a2eb"
       ],
       "layout": "IPY_MODEL_f3e45eb567d64765b0f69c03b7676b9c"
      }
     },
     "ec36738f0c14427780fe9be17986ee50": {
      "model_module": "@jupyter-widgets/controls",
      "model_module_version": "1.5.0",
      "model_name": "LabelModel",
      "state": {
       "layout": "IPY_MODEL_262cb2478dc84020baf963747d1c3f07",
       "style": "IPY_MODEL_472a184825f44c98aea8044df3625d4d",
       "value": "axis2"
      }
     },
     "f16dd683d3304da4a455ec606204f911": {
      "model_module": "@jupyter-widgets/base",
      "model_module_version": "1.2.0",
      "model_name": "LayoutModel",
      "state": {
       "display": "flex",
       "flex_flow": "column"
      }
     },
     "f27f86354e6742aeab62538478e8cabb": {
      "model_module": "@jupyter-widgets/base",
      "model_module_version": "1.2.0",
      "model_name": "LayoutModel",
      "state": {}
     },
     "f39442c9262641dfa9a5db5b8fda4048": {
      "model_module": "@jupyter-widgets/controls",
      "model_module_version": "1.5.0",
      "model_name": "DescriptionStyleModel",
      "state": {
       "description_width": ""
      }
     },
     "f3e45eb567d64765b0f69c03b7676b9c": {
      "model_module": "@jupyter-widgets/base",
      "model_module_version": "1.2.0",
      "model_name": "LayoutModel",
      "state": {
       "display": "flex",
       "flex_flow": "row"
      }
     },
     "f6b40e09872f4e0f91055e6dea68e88d": {
      "model_module": "@jupyter-widgets/controls",
      "model_module_version": "1.5.0",
      "model_name": "HBoxModel",
      "state": {
       "children": [
        "IPY_MODEL_10ff94a827b44494b02f20e1251de690",
        "IPY_MODEL_74b375a5aeeb4f7daf3c90435714a2eb"
       ],
       "layout": "IPY_MODEL_2270b80b80ba4f6fa6c28b4fd8457cf2"
      }
     },
     "f7dc0e73697c4c8abef24fb7e13fe6b0": {
      "model_module": "@jupyter-widgets/controls",
      "model_module_version": "1.5.0",
      "model_name": "LabelModel",
      "state": {
       "layout": "IPY_MODEL_96d8366619a1449f88b3fe4e1e479fff",
       "style": "IPY_MODEL_c7b5926acc1546879fb82640f69bf80d",
       "value": "leafwidth"
      }
     },
     "fcda0517aa404a8ea601f99946df6021": {
      "model_module": "@jupyter-widgets/base",
      "model_module_version": "1.2.0",
      "model_name": "LayoutModel",
      "state": {}
     },
     "fd5a45b6dff74de6a155badb1ac985fb": {
      "model_module": "pgljupyter",
      "model_module_version": "^0.1.2",
      "model_name": "LsystemWidgetModel",
      "state": {
       "_model_module_version": "^0.1.2",
       "_view_module_version": "^0.1.2",
       "axes_helper": false,
       "layout": "IPY_MODEL_51bea26427334986a0d8dfb99cceaa0f",
       "light_helper": false,
       "lsystem": {
        "derivationLength": 160
       },
       "plane": false,
       "size_display": [
        400,
        400
       ],
       "size_world": [
        2,
        2,
        2
       ]
      }
     }
    },
    "version_major": 2,
    "version_minor": 0
   }
  }
 },
 "nbformat": 4,
 "nbformat_minor": 4
}
