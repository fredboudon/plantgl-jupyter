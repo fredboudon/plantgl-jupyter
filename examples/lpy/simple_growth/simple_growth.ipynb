{
 "cells": [
  {
   "cell_type": "code",
   "execution_count": 1,
   "metadata": {},
   "outputs": [],
   "source": [
    "from openalea.plantgl.all import *\n",
    "from openalea.lpy import Lsystem\n",
    "from pgljupyter import SceneWidget\n",
    "from math import ceil, sqrt, floor"
   ]
  },
  {
   "cell_type": "code",
   "execution_count": 2,
   "metadata": {},
   "outputs": [],
   "source": [
    "ls = Lsystem('simple_growth.lpy')\n",
    "tree = ls.axiom\n",
    "rows = cols = ceil(sqrt(ls.derivationLength))\n",
    "size = rows\n",
    "cell = 1\n",
    "start = -size/2 + cell/2\n",
    "sw = SceneWidget(size_display=(600, 400), size_world=(size, size, size))\n",
    "sw.add(ls.sceneInterpretation(ls.axiom), (start, start, 0))"
   ]
  },
  {
   "cell_type": "code",
   "execution_count": 3,
   "metadata": {},
   "outputs": [],
   "source": [
    "for i in range(1, ls.derivationLength):\n",
    "    row = floor(i / rows)\n",
    "    col = (i - row * cols)\n",
    "    x = row + start\n",
    "    y = col + start\n",
    "    tree = ls.derive(tree, i, 1)\n",
    "    sw.add(ls.sceneInterpretation(tree), (x, y, 0), 0.05)"
   ]
  },
  {
   "cell_type": "code",
   "execution_count": 4,
   "metadata": {},
   "outputs": [
    {
     "data": {
      "application/vnd.jupyter.widget-view+json": {
       "model_id": "9a8e8ad030c545ae9ae362f95648c0f2",
       "version_major": 2,
       "version_minor": 0
      },
      "text/plain": [
       "SceneWidget(scenes=[{'id': 'YNWEDM8rkelTGAKBN0OvyBBKY', 'data': b'x\\xdaSLrw\\xf5\\xf7e`Pp\\xe0\\xe5RPVVd\\x00\\x020\\…"
      ]
     },
     "metadata": {},
     "output_type": "display_data"
    }
   ],
   "source": [
    "sw"
   ]
  },
  {
   "cell_type": "code",
   "execution_count": null,
   "metadata": {},
   "outputs": [],
   "source": []
  }
 ],
 "metadata": {
  "kernelspec": {
   "display_name": "Python 3",
   "language": "python",
   "name": "python3"
  },
  "language_info": {
   "codemirror_mode": {
    "name": "ipython",
    "version": 3
   },
   "file_extension": ".py",
   "mimetype": "text/x-python",
   "name": "python",
   "nbconvert_exporter": "python",
   "pygments_lexer": "ipython3",
   "version": "3.8.5"
  }
 },
 "nbformat": 4,
 "nbformat_minor": 4
}
