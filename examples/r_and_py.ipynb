{
 "cells": [
  {
   "cell_type": "markdown",
   "metadata": {
    "slideshow": {
     "slide_type": "slide"
    }
   },
   "source": [
    "# Modelling of a growth units using Python, R and L-Py\n",
    "\n",
    "In this second notebook, the same modelling scenario is presented except that now growth functions and parameters are defined using the R language. These objects can still be accessed by the different cells of the notebooks. And thus the simulation is done with R functions.\n",
    "\n",
    "FSPM2020 Frédéric Boudon"
   ]
  },
  {
   "cell_type": "markdown",
   "metadata": {},
   "source": [
    "The extension RPy2 makes it possible to communicate between Python and R."
   ]
  },
  {
   "cell_type": "code",
   "execution_count": null,
   "metadata": {},
   "outputs": [],
   "source": [
    "import pgljupyter\n",
    "%load_ext rpy2.ipython"
   ]
  },
  {
   "cell_type": "markdown",
   "metadata": {
    "slideshow": {
     "slide_type": "slide"
    }
   },
   "source": [
    "# Growth \n",
    "\n",
    "Growth of organs is simulated using a logistic function $\\frac{L}{1 + \\exp{-\\frac{t-tip}{b}}}$"
   ]
  },
  {
   "cell_type": "code",
   "execution_count": null,
   "metadata": {},
   "outputs": [],
   "source": [
    "%%R -o growth_logistic\n",
    "\n",
    "growth_logistic = function(ttime, finalsize, tip, b){\n",
    "    return (finalsize / (1 + exp(-(ttime-tip)/b )));\n",
    "}\n"
   ]
  },
  {
   "cell_type": "markdown",
   "metadata": {
    "slideshow": {
     "slide_type": "slide"
    }
   },
   "source": [
    "### Definition of growth parameters for the different organs along the axis"
   ]
  },
  {
   "cell_type": "code",
   "execution_count": null,
   "metadata": {},
   "outputs": [],
   "source": [
    "%%R -i growth_logistic -o LLeaf,LIn,leaf_size,internode_size\n",
    "LLeaf = c(4.9, 5.5, 6., 6.9, 7.5, 8.7, 9.2, 9.6, 7.)\n",
    "tipLeaf = c(0.0, 1.8, 3.7, 5.5, 7.1, 8.8, 10.4, 11.9, 13.4)\n",
    "bLeaf = 1.7 \n",
    "\n",
    "LIn = c(1., 1.2, 1.8, 2.7, 3.5, 4.2, 4.2, 3.5, 1.7)\n",
    "tipIn = c(0.2, 1.9, 3.5, 5.1, 6.7, 8.4, 10.0, 11.6, 13.3)\n",
    "bIn = 1.3\n",
    "\n",
    "leaf_size = function(i, t) { return(growth_logistic(t, LLeaf[i], tipLeaf[i], bLeaf)); }\n",
    "internode_size = function(i, t) { return (growth_logistic(t, LIn[i], tipIn[i], bIn)); }"
   ]
  },
  {
   "cell_type": "markdown",
   "metadata": {
    "slideshow": {
     "slide_type": "-"
    }
   },
   "source": [
    "Plot of final size of leaves and internodes along the main axis"
   ]
  },
  {
   "cell_type": "code",
   "execution_count": null,
   "metadata": {},
   "outputs": [],
   "source": [
    "%%R --input LLeaf,LIn \n",
    "x = 1:length(LLeaf)\n",
    "plot(x,LLeaf,ylim=c(0,10),type=\"l\", col=\"blue\", ylab=\"size (cm)\", xlab='rank')\n",
    "lines(x, LIn, col=\"red\")\n",
    "legend(\"topleft\",c(\"Leaf\",\"Internode\"),fill=c(\"blue\",\"red\"))"
   ]
  },
  {
   "cell_type": "markdown",
   "metadata": {
    "slideshow": {
     "slide_type": "slide"
    }
   },
   "source": [
    "# The Architectural model defined using Lsystem rules\n",
    "\n",
    "Rules are based on parameters and functions defined on previous R cells. "
   ]
  },
  {
   "cell_type": "code",
   "execution_count": null,
   "metadata": {},
   "outputs": [],
   "source": [
    "%%lpy -a True -u dm -w 4 -s 600,400\n",
    "nbMetamers = len(LLeaf)\n",
    "maxTime, dt = 25, 0.1\n",
    "Axiom: \n",
    "    nproduce _(0.3)@Gc SetColor(Material((1,15,1),10,specular=(0,0,0),shininess=0.2))\n",
    "    for i in range(1,int(nbMetamers)+1):  nproduce I(i,0)/(137)[[^(40)L(i,0)]]\n",
    "    nproduce I(i,0) @O\n",
    "\n",
    "derivation length: int(maxTime//dt)\n",
    "production:\n",
    "I(i,t) --> I(i,t+dt)\n",
    "L(i,t) --> L(i,t+dt)\n",
    "\n",
    "interpretation:\n",
    "I(i,t) --> F(internode_size(i,t)[0])\n",
    "L(i,t) :\n",
    "    l = leaf_size(i,t)[0]\n",
    "    nproduce SetColor(2)_(0.1)^(t)F(l/6)[+(90)/(-30)~l(l/2)][-(90)/(30)~l(l/2)]F(l/6)[+(60)/(-15)~l(l/2)][-(60)/(15)~l(l/2)]F(l/6)^(20)~l(l/2)"
   ]
  },
  {
   "cell_type": "code",
   "execution_count": null,
   "metadata": {},
   "outputs": [],
   "source": []
  }
 ],
 "metadata": {
  "celltoolbar": "Diaporama",
  "kernelspec": {
   "display_name": "Python 3",
   "language": "python",
   "name": "python3"
  },
  "language_info": {
   "codemirror_mode": {
    "name": "ipython",
    "version": 3
   },
   "file_extension": ".py",
   "mimetype": "text/x-python",
   "name": "python",
   "nbconvert_exporter": "python",
   "pygments_lexer": "ipython3",
   "version": "3.8.5"
  }
 },
 "nbformat": 4,
 "nbformat_minor": 4
}
