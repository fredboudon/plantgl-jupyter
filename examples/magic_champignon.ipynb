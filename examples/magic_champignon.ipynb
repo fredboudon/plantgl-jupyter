{
 "cells": [
  {
   "cell_type": "code",
   "execution_count": 1,
   "metadata": {},
   "outputs": [],
   "source": [
    "import pgljupyter"
   ]
  },
  {
   "cell_type": "code",
   "execution_count": 2,
   "metadata": {
    "tags": []
   },
   "outputs": [
    {
     "data": {
      "application/vnd.jupyter.widget-view+json": {
       "model_id": "a3b7b8fa5a074a0181e4d2ed60ce2058",
       "version_major": 2,
       "version_minor": 0
      },
      "text/plain": [
       "LsystemWidget(animate=True, derivationLength=101, is_magic=True, scene={'data': b'x\\xdaSLrw\\xf5\\xf7e`Pp\\xe0\\xe…"
      ]
     },
     "metadata": {},
     "output_type": "display_data"
    }
   ],
   "source": [
    "%%lpy -u cm -w 1 -s 600,400 -a True\n",
    "\n",
    "from openalea.plantgl.all import *\n",
    "from math import radians\n",
    "\n",
    "Axiom: ;(1)+(10)_(2)F(10);(0)@g(Paraboloid(10,10,2,False))F(7)\n",
    "\n",
    "derivation length: 100\n",
    "production:\n",
    "\n",
    "F(x) --> F(x+0.2)\n",
    "\n",
    "@g(p) :\n",
    "  produce @g(Paraboloid(p.radius + 0.15, p.height + 0.2, 2, False))\n",
    "\n",
    "_(x) --> _(x+0.02)\n"
   ]
  },
  {
   "cell_type": "code",
   "execution_count": null,
   "metadata": {},
   "outputs": [],
   "source": []
  }
 ],
 "metadata": {
  "kernelspec": {
   "display_name": "Python 3",
   "language": "python",
   "name": "python3"
  },
  "language_info": {
   "codemirror_mode": {
    "name": "ipython",
    "version": 3
   },
   "file_extension": ".py",
   "mimetype": "text/x-python",
   "name": "python",
   "nbconvert_exporter": "python",
   "pygments_lexer": "ipython3",
   "version": "3.9.0"
  },
  "widgets": {
   "application/vnd.jupyter.widget-state+json": {
    "state": {
     "0d8b93d0d80b4c1280709bc9b0424a2d": {
      "model_module": "@jupyter-widgets/base",
      "model_module_version": "1.2.0",
      "model_name": "LayoutModel",
      "state": {}
     },
     "7d60644330bf4871aefe82ede6ac7a44": {
      "model_module": "pgljupyter",
      "model_module_version": "^0.1.21",
      "model_name": "LsystemWidgetModel",
      "state": {
       "_model_module_version": "^0.1.21",
       "_view_module_version": "^0.1.21",
       "axes_helper": false,
       "derivationLength": 101,
       "is_magic": true,
       "layout": "IPY_MODEL_a3d330b07df64204b5f993ebad1be943",
       "light_helper": false,
       "plane": true,
       "size_display": [
        600,
        400
       ],
       "size_world": 1,
       "unit": 2
      }
     },
     "90c3975300f34989be7f19453ac3612e": {
      "model_module": "pgljupyter",
      "model_module_version": "^0.1.21",
      "model_name": "LsystemWidgetModel",
      "state": {
       "_model_module_version": "^0.1.21",
       "_view_module_version": "^0.1.21",
       "axes_helper": false,
       "derivationLength": 101,
       "is_magic": true,
       "layout": "IPY_MODEL_0d8b93d0d80b4c1280709bc9b0424a2d",
       "light_helper": false,
       "plane": true,
       "size_display": [
        600,
        400
       ],
       "size_world": 1,
       "unit": 2
      }
     },
     "a3b7b8fa5a074a0181e4d2ed60ce2058": {
      "buffers": [
       {
        "data": "eNpTTHJ39fdlYFBw4OVSUFZWZGdgYGBiZQjOSCxIZQaymTkYfBNLUosyE3OYgFxeDgbnypzMvJTUIhBXnIPBvygzNa8kNQWkWIKLISCxKDEpPyc/M4URKCDLxhCcnJiTCuYocDGEFCXmFecAzUsB6VYE6WGSYAj2cAxw9XSJN463NDExNzI2MDE1MjUwMgFJs4FsYQADkBkNMTI19lcuGNrxQsQ4gEIODAwfHBmY2RmcgfYWxRsemKLDbeOoy8/A4OCAZLop3HQTE0sjSzNWkO9AzmKAg+Oblx2YHvXGEZuFsjBFDfYwLAG0P1adx4SB4YQjqhsMAoBusEey3AxuubGFqZmxEchbrMRbjurbG44MjCALALDCVQI=",
        "encoding": "base64",
        "path": [
         "scene",
         "data"
        ]
       }
      ],
      "model_module": "pgljupyter",
      "model_module_version": "^0.2.1",
      "model_name": "LsystemWidgetModel",
      "state": {
       "_model_module_version": "^0.2.1",
       "_view_module_version": "^0.2.1",
       "axes_helper": false,
       "derivationLength": 101,
       "is_magic": true,
       "layout": "IPY_MODEL_f7d643a7daf449629fdb04a54b7ca44b",
       "light_helper": false,
       "plane": true,
       "scene": {
        "derivationStep": 100,
        "id": 100,
        "scene": "<openalea.plantgl.scenegraph._pglsg.Scene object at 0x7fcd9722cf80>"
       },
       "size_display": [
        600,
        400
       ],
       "size_world": 1,
       "unit": 2
      }
     },
     "a3d330b07df64204b5f993ebad1be943": {
      "model_module": "@jupyter-widgets/base",
      "model_module_version": "1.2.0",
      "model_name": "LayoutModel",
      "state": {}
     },
     "f7d643a7daf449629fdb04a54b7ca44b": {
      "model_module": "@jupyter-widgets/base",
      "model_module_version": "1.2.0",
      "model_name": "LayoutModel",
      "state": {}
     }
    },
    "version_major": 2,
    "version_minor": 0
   }
  }
 },
 "nbformat": 4,
 "nbformat_minor": 4
}
