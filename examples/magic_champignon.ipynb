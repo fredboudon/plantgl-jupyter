{
 "cells": [
  {
   "cell_type": "code",
   "execution_count": 1,
   "metadata": {},
   "outputs": [],
   "source": [
    "import pgljupyter"
   ]
  },
  {
   "cell_type": "code",
   "execution_count": 2,
   "metadata": {
    "tags": []
   },
   "outputs": [
    {
     "output_type": "display_data",
     "data": {
      "text/plain": "LsystemWidget(animate=True, derivationLength=100, is_magic=True, scene={'data': b'x\\xdaSLrw\\xf5\\xf7e`Pp\\xe0\\xe…",
      "application/vnd.jupyter.widget-view+json": {
       "version_major": 2,
       "version_minor": 0,
       "model_id": "44d59264394544c79b21ccd327844fc8"
      }
     },
     "metadata": {}
    }
   ],
   "source": [
    "%%lpy -u dm -s 600,400 -a True\n",
    "\n",
    "from openalea.plantgl.all import *\n",
    "from math import radians\n",
    "\n",
    "Axiom: ;(1)+(10)_(2)F(10);(0)@g(Paraboloid(10,10,2,False))F(7)\n",
    "\n",
    "derivation length: 100\n",
    "production:\n",
    "\n",
    "F(x) --> F(x+0.2)\n",
    "\n",
    "@g(p) :\n",
    "  produce @g(Paraboloid(p.radius + 0.15, p.height + 0.2, 2, False))\n",
    "\n",
    "_(x) --> _(x+0.02)\n"
   ]
  },
  {
   "cell_type": "code",
   "execution_count": null,
   "metadata": {},
   "outputs": [],
   "source": []
  }
 ],
 "metadata": {
  "kernelspec": {
   "display_name": "Python 3",
   "language": "python",
   "name": "python3"
  },
  "language_info": {
   "codemirror_mode": {
    "name": "ipython",
    "version": 3
   },
   "file_extension": ".py",
   "mimetype": "text/x-python",
   "name": "python",
   "nbconvert_exporter": "python",
   "pygments_lexer": "ipython3",
   "version": "3.8.5-final"
  }
 },
 "nbformat": 4,
 "nbformat_minor": 4
}