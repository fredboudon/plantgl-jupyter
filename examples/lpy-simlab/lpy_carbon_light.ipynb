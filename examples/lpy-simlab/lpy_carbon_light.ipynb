{
 "cells": [
  {
   "cell_type": "markdown",
   "metadata": {},
   "source": [
    "### Write Lpy file and save it"
   ]
  },
  {
   "cell_type": "code",
   "execution_count": 1,
   "metadata": {
    "ExecuteTime": {
     "end_time": "2021-10-01T06:50:45.174283Z",
     "start_time": "2021-10-01T06:50:43.929731Z"
    }
   },
   "outputs": [],
   "source": [
    "from openalea.plantgl.all import *\n",
    "from numpy import arange\n",
    "from math import *\n",
    "import numpy as np\n",
    "from util import *\n",
    "import matplotlib.pyplot as plt"
   ]
  },
  {
   "cell_type": "markdown",
   "metadata": {},
   "source": [
    "# Integrate L-Py with xarray-simlab\n",
    "\n",
    "https://xarray-simlab.readthedocs.io"
   ]
  },
  {
   "cell_type": "code",
   "execution_count": 2,
   "metadata": {
    "ExecuteTime": {
     "end_time": "2021-10-01T06:50:45.616597Z",
     "start_time": "2021-10-01T06:50:45.176341Z"
    }
   },
   "outputs": [],
   "source": [
    "from openalea.lpy.lsysparameters import LsystemParameters\n",
    "strides = 10\n",
    "p1 = Polyline2D([(v,0) for v in arange(0,1.01,1/strides)])\n",
    "p2 = Polyline2D([(2*sin(a)/pi,2*(cos(a))/pi) for a in arange(0,pi/2+0.01,pi/(2*strides))])\n",
    "p3 = Polyline2D([(-0.5,0),(0,-0.1),(0.5,0)])\n",
    "rd = Polyline2D([(0,0.1),(0.7,1),(1,0.01)])\n",
    "\n",
    "lp = LsystemParameters()\n",
    "lp.add(name='strides', value=strides)\n",
    "lp.add_curve(name='path1', value=p1)\n",
    "lp.add_curve(name='path2', value=p2)\n",
    "lp.add_curve(name='section', value=p3)\n",
    "lp.add_function(name = 'radius', value=rd)\n",
    "lp.set_option('Turtle Path Optimization',0)"
   ]
  },
  {
   "cell_type": "code",
   "execution_count": 3,
   "metadata": {
    "ExecuteTime": {
     "end_time": "2021-10-01T06:50:45.622947Z",
     "start_time": "2021-10-01T06:50:45.617833Z"
    }
   },
   "outputs": [
    {
     "name": "stdout",
     "output_type": "stream",
     "text": [
      "Overwriting .lpydevel.lpy\n"
     ]
    }
   ],
   "source": [
    "%%writefile .lpydevel.lpy\n",
    "from openalea.plantgl.scenegraph.colormap import *\n",
    "from util import *\n",
    "from random import randint\n",
    "\n",
    "cmap = PglMaterialMap(0,25)\n",
    "\n",
    "extern(flush_delay = None)\n",
    "extern(nb_metamers = None)\n",
    "extern(step_delta = None)\n",
    "\n",
    "module Metamer(t, size, lighting, allocation)\n",
    "module Apex(t)\n",
    "Axiom:  _(0.3)@Gc SetColor(green) Apex(0)\n",
    "\n",
    "production:\n",
    "Apex(t) :\n",
    "    if (t % flush_delay) < step_delta and (t // flush_delay) < nb_metamers:\n",
    "        nproduce Metamer(MetamerParams(t=0, size=0.5)) /(180+randint(-10,10))\n",
    "    produce Apex(t+step_delta)\n",
    "\n",
    "Metamer(p):\n",
    "    p.t += step_delta\n",
    "    p.size += p.allocation \n",
    "    produce Metamer(p)\n",
    "interpretation:\n",
    "Apex(t) --> F(1) @O\n",
    "Metamer(p) :\n",
    "    l = p.size\n",
    "    nproduce F(l/3)  [SetColor(cmap(p.lighting)) _(0.1) \n",
    "    nproduce @Gc Sweep(interpolate(path1, path2, max(1,p.t/5)), section, l,l/strides, l/2, radius)]"
   ]
  },
  {
   "cell_type": "markdown",
   "metadata": {},
   "source": [
    "### Definition of the process from the lpy model"
   ]
  },
  {
   "cell_type": "code",
   "execution_count": 4,
   "metadata": {
    "ExecuteTime": {
     "end_time": "2021-10-01T06:50:48.326989Z",
     "start_time": "2021-10-01T06:50:45.625285Z"
    }
   },
   "outputs": [],
   "source": [
    "import xsimlab as xs\n",
    "from lpy_simlab_process import xs_lpyprocess\n",
    "\n",
    "_ = xs_lpyprocess('LpyDevel', '.lpydevel.lpy', lp, modulestoconsider=['Metamer'], \n",
    "              globaldependencies={'Metamer_lighting' : 'light', 'Metamer_allocation' : 'carbon'} )"
   ]
  },
  {
   "cell_type": "markdown",
   "metadata": {},
   "source": [
    "### Definition of the light interception process"
   ]
  },
  {
   "cell_type": "code",
   "execution_count": 5,
   "metadata": {
    "ExecuteTime": {
     "end_time": "2021-10-01T06:50:48.338956Z",
     "start_time": "2021-10-01T06:50:48.328478Z"
    }
   },
   "outputs": [],
   "source": [
    "@xs.process\n",
    "class Light():\n",
    "    # process input\n",
    "    Metamer = xs.foreign(LpyDevel, 'Metamer')\n",
    "    lscene = xs.foreign(LpyDevel, 'lscene')\n",
    "    lstring = xs.foreign(LpyDevel, 'lstring')\n",
    "    \n",
    "    # process output\n",
    "    Metamer_lighting = xs.variable(dims='Metamer', global_name='Metamer_lighting', intent='inout')\n",
    "    \n",
    "    @xs.runtime()\n",
    "    def run_step(self):\n",
    "        from openalea.plantgl.light import directionalInterception, diffuseInterception\n",
    "        #res = diffuseInterception(self.lscene)\n",
    "        res = directionalInterception(self.lscene, [(0,90,1)], screenresolution=0.1)\n",
    "        \n",
    "        self.Metamer_lighting = np.zeros(len(self.Metamer))\n",
    "        for k,v in res.items():\n",
    "            if self.lstring[k].name == 'Metamer':\n",
    "                self.Metamer_lighting[self.lstring[k][0].uid] = v"
   ]
  },
  {
   "cell_type": "markdown",
   "metadata": {},
   "source": [
    "### Definition of the carbon allocation process"
   ]
  },
  {
   "cell_type": "code",
   "execution_count": 6,
   "metadata": {
    "ExecuteTime": {
     "end_time": "2021-10-01T06:50:48.348975Z",
     "start_time": "2021-10-01T06:50:48.340753Z"
    }
   },
   "outputs": [],
   "source": [
    "@xs.process\n",
    "class CarbonAllocation():\n",
    "    conv_rate = 0.01\n",
    "    res_conv_rate = 0.5\n",
    "\n",
    "    # process input\n",
    "    Metamer_t = xs.foreign(LpyDevel, 'Metamer_t')\n",
    "    Metamer_lighting = xs.foreign(Light, 'Metamer_lighting')\n",
    "        \n",
    "    # process output\n",
    "    Metamer_allocation = xs.variable(dims='Metamer', global_name='Metamer_allocation',  intent='inout')\n",
    "    Metamer_demand = xs.variable(dims='Metamer', intent='out')\n",
    "    reserves = xs.variable(intent='inout')\n",
    "    \n",
    "    @xs.runtime(args=['step_delta'])\n",
    "    def run_step(self, step_delta):\n",
    "        carbon = (self.Metamer_lighting * self.conv_rate) \n",
    "        self.Metamer_demand = growth_rate(np.array(self.Metamer_t))*step_delta\n",
    "        \n",
    "        autoallocated = np.minimum(carbon, self.Metamer_demand)      \n",
    "        demand = self.Metamer_demand - autoallocated\n",
    "        supply = carbon - autoallocated\n",
    "        \n",
    "        total_demand = sum(demand)\n",
    "        total_supply = sum(supply) + self.reserves\n",
    "        \n",
    "        ratio = min(1,total_supply/total_demand) if total_demand > 0 else 0\n",
    "        nreserves = (total_supply - total_demand*ratio) - self.reserves\n",
    "        self.reserves += nreserves if nreserves < 0 else nreserves*self.res_conv_rate\n",
    "        self.Metamer_allocation = autoallocated+demand*ratio"
   ]
  },
  {
   "cell_type": "markdown",
   "metadata": {},
   "source": [
    "### Create xarray-simlab model and simulation setup with the three processes"
   ]
  },
  {
   "cell_type": "code",
   "execution_count": 7,
   "metadata": {
    "ExecuteTime": {
     "end_time": "2021-10-01T06:50:49.050235Z",
     "start_time": "2021-10-01T06:50:48.352063Z"
    }
   },
   "outputs": [],
   "source": [
    "model = xs.Model({ 'devel': LpyDevel  , 'light' : Light  , 'carbon' : CarbonAllocation  })\n",
    "model.visualize(show_inputs=False, show_variables=False)\n",
    "ds = xs.create_setup(\n",
    "    model=model,\n",
    "    clocks={ 'time': np.linspace(0, 20, 200) },\n",
    "    input_vars= LpyDevel.init_vars({ 'devel': { 'flush_delay' : 2, 'nb_metamers' : 5 },\n",
    "                                     'carbon' : { 'reserves' : 10 }}),\n",
    "    output_vars={ 'devel__Metamer_size': 'time',\n",
    "                  'light__Metamer_lighting': 'time',\n",
    "                  'carbon__Metamer_allocation': 'time',\n",
    "                  'carbon__reserves': 'time' })\n"
   ]
  },
  {
   "cell_type": "markdown",
   "metadata": {},
   "source": [
    "### Run the model and inspect results"
   ]
  },
  {
   "cell_type": "code",
   "execution_count": 8,
   "metadata": {
    "ExecuteTime": {
     "end_time": "2021-10-01T06:50:51.495138Z",
     "start_time": "2021-10-01T06:50:49.051735Z"
    }
   },
   "outputs": [
    {
     "data": {
      "application/vnd.jupyter.widget-view+json": {
       "model_id": "6e13733563194bcfa777a0cbbd07e4af",
       "version_major": 2,
       "version_minor": 0
      },
      "text/plain": [
       "SceneWidget(scenes=[{'id': '0H3tvUnnxAANdFpww0Y3glP8U', 'data': b'x\\xdaSLrw\\xf5\\xf7e`Pp\\xe0\\xe5RPVVd\\x00\\x020\\…"
      ]
     },
     "metadata": {},
     "output_type": "display_data"
    },
    {
     "data": {
      "application/vnd.jupyter.widget-view+json": {
       "model_id": "803505c4c88c4ce7852ebba4d64078b4",
       "version_major": 2,
       "version_minor": 0
      },
      "text/plain": [
       "             0% | initialize "
      ]
     },
     "metadata": {},
     "output_type": "display_data"
    }
   ],
   "source": [
    "from lpy_simlab_process import xs_lpydisplay_hook\n",
    "ds_out = ds.xsimlab.run(model=model, hooks=xs_lpydisplay_hook('devel', scale = 1/50, delay = 0.01))"
   ]
  },
  {
   "cell_type": "markdown",
   "metadata": {},
   "source": [
    "### Plot output"
   ]
  },
  {
   "cell_type": "code",
   "execution_count": 9,
   "metadata": {
    "ExecuteTime": {
     "end_time": "2021-10-01T06:50:51.919955Z",
     "start_time": "2021-10-01T06:50:51.496896Z"
    }
   },
   "outputs": [
    {
     "data": {
      "image/png": "[encoded data removed]",
      "text/plain": [
       "<Figure size 1296x288 with 3 Axes>"
      ]
     },
     "metadata": {
      "needs_background": "light"
     },
     "output_type": "display_data"
    }
   ],
   "source": [
    "plt.figure(figsize=(18,4))\n",
    "plt.subplot(1, 3, 1)\n",
    "ds_out.light__Metamer_lighting.plot.line(x='time')\n",
    "plt.subplot(1, 3, 2)\n",
    "ds_out.carbon__reserves.plot.line(x='time')\n",
    "plt.subplot(1, 3, 3)\n",
    "ds_out.carbon__Metamer_allocation.plot.line(x='time'); plt.show()"
   ]
  },
  {
   "cell_type": "code",
   "execution_count": null,
   "metadata": {},
   "outputs": [],
   "source": []
  },
  {
   "cell_type": "code",
   "execution_count": null,
   "metadata": {
    "ExecuteTime": {
     "start_time": "2021-10-01T06:50:43.944Z"
    }
   },
   "outputs": [],
   "source": [
    "[]"
   ]
  },
  {
   "cell_type": "code",
   "execution_count": null,
   "metadata": {},
   "outputs": [],
   "source": []
  }
 ],
 "metadata": {
  "celltoolbar": "Aucun(e)",
  "kernelspec": {
   "display_name": "Python 3 (ipykernel)",
   "language": "python",
   "name": "python3"
  },
  "language_info": {
   "codemirror_mode": {
    "name": "ipython",
    "version": 3
   },
   "file_extension": ".py",
   "mimetype": "text/x-python",
   "name": "python",
   "nbconvert_exporter": "python",
   "pygments_lexer": "ipython3",
   "version": "3.9.6"
  },
  "widgets": {
   "application/vnd.jupyter.widget-state+json": {
    "state": {
     "026cc5b6484348a786ab85f6b2c60dd5": {
      "model_module": "@jupyter-widgets/base",
      "model_module_version": "1.2.0",
      "model_name": "LayoutModel",
      "state": {}
     },
     "0c18eb64796044b8b4f0cb80fca12e57": {
      "model_module": "@jupyter-widgets/base",
      "model_module_version": "1.2.0",
      "model_name": "LayoutModel",
      "state": {}
     },
     "245d6d39bda849598f4d06eb65f4b036": {
      "model_module": "@jupyter-widgets/controls",
      "model_module_version": "1.5.0",
      "model_name": "HTMLModel",
      "state": {
       "layout": "IPY_MODEL_0c18eb64796044b8b4f0cb80fca12e57",
       "style": "IPY_MODEL_8092c48539ab4d1dbcd52d091bea183b"
      }
     },
     "2530b23c4eb544c181b6c52c01838b46": {
      "model_module": "@jupyter-widgets/controls",
      "model_module_version": "1.5.0",
      "model_name": "HBoxModel",
      "state": {
       "children": [
        "IPY_MODEL_245d6d39bda849598f4d06eb65f4b036",
        "IPY_MODEL_b95d38f9d4f94b7fadbd34bdda5ce13c",
        "IPY_MODEL_88d55fe2719f4ac988ed69e47ad4369f"
       ],
       "layout": "IPY_MODEL_026cc5b6484348a786ab85f6b2c60dd5"
      }
     },
     "45c42be0064249a4b5dd3dc2c1d7aefb": {
      "model_module": "@jupyter-widgets/base",
      "model_module_version": "1.2.0",
      "model_name": "LayoutModel",
      "state": {}
     },
     "8092c48539ab4d1dbcd52d091bea183b": {
      "model_module": "@jupyter-widgets/controls",
      "model_module_version": "1.5.0",
      "model_name": "DescriptionStyleModel",
      "state": {
       "description_width": ""
      }
     },
     "88d55fe2719f4ac988ed69e47ad4369f": {
      "model_module": "@jupyter-widgets/controls",
      "model_module_version": "1.5.0",
      "model_name": "HTMLModel",
      "state": {
       "layout": "IPY_MODEL_cedb6476bcdf4f8db59daf4a30e8e920",
       "style": "IPY_MODEL_9cd7ba7f8f93438eb19d926cd56560ce",
       "value": " 100% | Simulation finished in 00:04 "
      }
     },
     "9cd7ba7f8f93438eb19d926cd56560ce": {
      "model_module": "@jupyter-widgets/controls",
      "model_module_version": "1.5.0",
      "model_name": "DescriptionStyleModel",
      "state": {
       "description_width": ""
      }
     },
     "b8f88429e7804b40b639fa57a1d0587f": {
      "model_module": "@jupyter-widgets/base",
      "model_module_version": "1.2.0",
      "model_name": "LayoutModel",
      "state": {}
     },
     "b95d38f9d4f94b7fadbd34bdda5ce13c": {
      "model_module": "@jupyter-widgets/controls",
      "model_module_version": "1.5.0",
      "model_name": "FloatProgressModel",
      "state": {
       "bar_style": "success",
       "layout": "IPY_MODEL_45c42be0064249a4b5dd3dc2c1d7aefb",
       "max": 251,
       "style": "IPY_MODEL_fc44227dd6ce4edd99c8938e7ccef495",
       "value": 251
      }
     },
     "cedb6476bcdf4f8db59daf4a30e8e920": {
      "model_module": "@jupyter-widgets/base",
      "model_module_version": "1.2.0",
      "model_name": "LayoutModel",
      "state": {}
     },
     "d24b056ed6884abdb43b4683616805ef": {
      "buffers": [
       {
        "data": "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",
        "encoding": "base64",
        "path": [
         "scenes",
         0,
         "data"
        ]
       }
      ],
      "model_module": "pgljupyter",
      "model_module_version": "^1.0.4",
      "model_name": "SceneWidgetModel",
      "state": {
       "_model_module_version": "^1.0.4",
       "_view_module_version": "^1.0.4",
       "axes_helper": false,
       "layout": "IPY_MODEL_b8f88429e7804b40b639fa57a1d0587f",
       "light_helper": false,
       "plane": true,
       "scenes": [
        {
         "data": {},
         "id": "vkZHk9di2LsUasyiKBgXP0jUP",
         "position": [
          0,
          0,
          0
         ],
         "scale": 0.01,
         "scene": "<openalea.plantgl.scenegraph._pglsg.Scene object at 0x7f0eb97e6f40>"
        }
       ],
       "size_display": [
        400,
        400
       ],
       "size_world": 1
      }
     },
     "fc44227dd6ce4edd99c8938e7ccef495": {
      "model_module": "@jupyter-widgets/controls",
      "model_module_version": "1.5.0",
      "model_name": "ProgressStyleModel",
      "state": {
       "description_width": ""
      }
     }
    },
    "version_major": 2,
    "version_minor": 0
   }
  }
 },
 "nbformat": 4,
 "nbformat_minor": 4
}
